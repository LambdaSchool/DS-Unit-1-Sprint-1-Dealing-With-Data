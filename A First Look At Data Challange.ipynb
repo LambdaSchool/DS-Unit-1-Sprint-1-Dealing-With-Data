{
  "nbformat": 4,
  "nbformat_minor": 0,
  "metadata": {
    "colab": {
      "name": "Untitled1.ipynb",
      "version": "0.3.2",
      "provenance": [],
      "include_colab_link": true
    },
    "kernelspec": {
      "name": "python3",
      "display_name": "Python 3"
    }
  },
  "cells": [
    {
      "cell_type": "markdown",
      "metadata": {
        "id": "view-in-github",
        "colab_type": "text"
      },
      "source": [
        "<a href=\"https://colab.research.google.com/github/azbowler32/DS-Unit-1-Sprint-1-Dealing-With-Data/blob/master/A%20First%20Look%20At%20Data%20Challange.ipynb\" target=\"_parent\"><img src=\"https://colab.research.google.com/assets/colab-badge.svg\" alt=\"Open In Colab\"/></a>"
      ]
    },
    {
      "cell_type": "code",
      "metadata": {
        "id": "wlH_MxKGFpuR",
        "colab_type": "code",
        "colab": {}
      },
      "source": [
        "import pandas as pd"
      ],
      "execution_count": 0,
      "outputs": []
    },
    {
      "cell_type": "code",
      "metadata": {
        "id": "v9cXpZBAGWH4",
        "colab_type": "code",
        "colab": {}
      },
      "source": [
        "stores = [\"Grow Mart\", \"Plant Depot\",\"Trees R US\"]\n",
        "\n",
        "year_founded = [1973, 1973, 1985]\n",
        "\n",
        "revenue = [265000, 302000, 123000]\n",
        "\n",
        "expenses = [183000, 240000, 130000]\n",
        "\n",
        "is_profitable = [revenue[i] - expenses[i] > 0 for i in range(len(revenue))]\n"
      ],
      "execution_count": 0,
      "outputs": []
    },
    {
      "cell_type": "code",
      "metadata": {
        "id": "i8Gf2QDeTRVz",
        "colab_type": "code",
        "colab": {}
      },
      "source": [
        "labels = [\"Store\", \"Year Founded\", \"Revenue\", \"Expenses\", \"Profitable\"]\n",
        "\n",
        "columns = [stores, year_founded, revenue, expenses, is_profitable]"
      ],
      "execution_count": 0,
      "outputs": []
    },
    {
      "cell_type": "code",
      "metadata": {
        "id": "7C76de_GUS-l",
        "colab_type": "code",
        "colab": {}
      },
      "source": [
        "zipped = list(zip(labels, columns))"
      ],
      "execution_count": 0,
      "outputs": []
    },
    {
      "cell_type": "code",
      "metadata": {
        "id": "Ru5SZvtWUhia",
        "colab_type": "code",
        "colab": {
          "base_uri": "https://localhost:8080/",
          "height": 85
        },
        "outputId": "06501546-b31e-4627-c786-4696ff9ac31a"
      },
      "source": [
        "data = dict(zipped)\n",
        "\n",
        "df = pd.DataFrame(data)\n",
        "\n",
        "print(df)"
      ],
      "execution_count": 32,
      "outputs": [
        {
          "output_type": "stream",
          "text": [
            "         Store  Year Founded  Revenue  Expenses  Profitable\n",
            "0    Grow Mart          1973   265000    183000        True\n",
            "1  Plant Depot          1973   302000    240000        True\n",
            "2   Trees R US          1985   123000    130000       False\n"
          ],
          "name": "stdout"
        }
      ]
    }
  ]
}