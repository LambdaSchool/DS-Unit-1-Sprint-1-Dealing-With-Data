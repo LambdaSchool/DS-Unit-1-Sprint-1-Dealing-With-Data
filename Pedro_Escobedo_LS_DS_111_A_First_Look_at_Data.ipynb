{
  "nbformat": 4,
  "nbformat_minor": 0,
  "metadata": {
    "colab": {
      "name": "Pedro Escobedo LS_DS_111_A_First_Look_at_Data.ipynb",
      "version": "0.3.2",
      "provenance": [],
      "collapsed_sections": [],
      "include_colab_link": true
    },
    "kernelspec": {
      "name": "python3",
      "display_name": "Python 3"
    }
  },
  "cells": [
    {
      "cell_type": "markdown",
      "metadata": {
        "id": "view-in-github",
        "colab_type": "text"
      },
      "source": [
        "<a href=\"https://colab.research.google.com/github/pedroescobedob/DS-Unit-1-Sprint-1-Dealing-With-Data/blob/master/Pedro_Escobedo_LS_DS_111_A_First_Look_at_Data.ipynb\" target=\"_parent\"><img src=\"https://colab.research.google.com/assets/colab-badge.svg\" alt=\"Open In Colab\"/></a>"
      ]
    },
    {
      "cell_type": "markdown",
      "metadata": {
        "id": "Okfr_uhwhS1X",
        "colab_type": "text"
      },
      "source": [
        "# Lambda School Data Science - A First Look at Data\n",
        "\n"
      ]
    },
    {
      "cell_type": "markdown",
      "metadata": {
        "id": "9dtJETFRhnOG",
        "colab_type": "text"
      },
      "source": [
        "## Lecture - let's explore Python DS libraries and examples!\n",
        "\n",
        "The Python Data Science ecosystem is huge. You've seen some of the big pieces - pandas, scikit-learn, matplotlib. What parts do you want to see more of?"
      ]
    },
    {
      "cell_type": "code",
      "metadata": {
        "id": "WiBkgmPJhmhE",
        "colab_type": "code",
        "colab": {}
      },
      "source": [
        "import numpy as np\n"
      ],
      "execution_count": 0,
      "outputs": []
    },
    {
      "cell_type": "code",
      "metadata": {
        "id": "B6U-A7uF9heX",
        "colab_type": "code",
        "colab": {
          "base_uri": "https://localhost:8080/",
          "height": 34
        },
        "outputId": "08209bee-dbf9-487c-a318-f86c16f56eae"
      },
      "source": [
        "np.random.randint(0,10)"
      ],
      "execution_count": 68,
      "outputs": [
        {
          "output_type": "execute_result",
          "data": {
            "text/plain": [
              "1"
            ]
          },
          "metadata": {
            "tags": []
          },
          "execution_count": 68
        }
      ]
    },
    {
      "cell_type": "code",
      "metadata": {
        "id": "P-F6q4Eb94Q9",
        "colab_type": "code",
        "colab": {
          "base_uri": "https://localhost:8080/",
          "height": 538
        },
        "outputId": "ef6b0acf-886b-4511-9da0-b42a5b1c82d9"
      },
      "source": [
        "import matplotlib.pyplot as plt\n",
        "x = [1,2,3,4]\n",
        "y = [2,4,6,8]\n",
        "plt.scatter(x,y)\n",
        "plt.plot(x, y, color='r')\n",
        "plt.show()\n",
        "plt.plot(x, y, color='r')"
      ],
      "execution_count": 69,
      "outputs": [
        {
          "output_type": "display_data",
          "data": {
            "image/png": "[encoded data removed]",
            "text/plain": [
              "<Figure size 432x288 with 1 Axes>"
            ]
          },
          "metadata": {
            "tags": []
          }
        },
        {
          "output_type": "execute_result",
          "data": {
            "text/plain": [
              "[<matplotlib.lines.Line2D at 0x7fbd07109a58>]"
            ]
          },
          "metadata": {
            "tags": []
          },
          "execution_count": 69
        },
        {
          "output_type": "display_data",
          "data": {
            "image/png": "[encoded data removed]",
            "text/plain": [
              "<Figure size 432x288 with 1 Axes>"
            ]
          },
          "metadata": {
            "tags": []
          }
        }
      ]
    },
    {
      "cell_type": "code",
      "metadata": {
        "id": "cxg0ohry-qfy",
        "colab_type": "code",
        "colab": {
          "base_uri": "https://localhost:8080/",
          "height": 173
        },
        "outputId": "5a586b13-88ab-4f72-de8c-7bba870e6c11"
      },
      "source": [
        "import pandas as pd\n",
        "df = pd.DataFrame({'first_col':x, 'second_col':y})\n",
        "df"
      ],
      "execution_count": 70,
      "outputs": [
        {
          "output_type": "execute_result",
          "data": {
            "text/html": [
              "<div>\n",
              "<style scoped>\n",
              "    .dataframe tbody tr th:only-of-type {\n",
              "        vertical-align: middle;\n",
              "    }\n",
              "\n",
              "    .dataframe tbody tr th {\n",
              "        vertical-align: top;\n",
              "    }\n",
              "\n",
              "    .dataframe thead th {\n",
              "        text-align: right;\n",
              "    }\n",
              "</style>\n",
              "<table border=\"1\" class=\"dataframe\">\n",
              "  <thead>\n",
              "    <tr style=\"text-align: right;\">\n",
              "      <th></th>\n",
              "      <th>first_col</th>\n",
              "      <th>second_col</th>\n",
              "    </tr>\n",
              "  </thead>\n",
              "  <tbody>\n",
              "    <tr>\n",
              "      <th>0</th>\n",
              "      <td>1</td>\n",
              "      <td>2</td>\n",
              "    </tr>\n",
              "    <tr>\n",
              "      <th>1</th>\n",
              "      <td>2</td>\n",
              "      <td>4</td>\n",
              "    </tr>\n",
              "    <tr>\n",
              "      <th>2</th>\n",
              "      <td>3</td>\n",
              "      <td>6</td>\n",
              "    </tr>\n",
              "    <tr>\n",
              "      <th>3</th>\n",
              "      <td>4</td>\n",
              "      <td>8</td>\n",
              "    </tr>\n",
              "  </tbody>\n",
              "</table>\n",
              "</div>"
            ],
            "text/plain": [
              "   first_col  second_col\n",
              "0          1           2\n",
              "1          2           4\n",
              "2          3           6\n",
              "3          4           8"
            ]
          },
          "metadata": {
            "tags": []
          },
          "execution_count": 70
        }
      ]
    },
    {
      "cell_type": "code",
      "metadata": {
        "id": "pWhLb1it_N9j",
        "colab_type": "code",
        "colab": {
          "base_uri": "https://localhost:8080/",
          "height": 34
        },
        "outputId": "66b4d693-b209-4117-d580-b1c7b41e0bab"
      },
      "source": [
        "df.shape"
      ],
      "execution_count": 71,
      "outputs": [
        {
          "output_type": "execute_result",
          "data": {
            "text/plain": [
              "(4, 2)"
            ]
          },
          "metadata": {
            "tags": []
          },
          "execution_count": 71
        }
      ]
    },
    {
      "cell_type": "code",
      "metadata": {
        "id": "LUCYto7p_Tdn",
        "colab_type": "code",
        "colab": {
          "base_uri": "https://localhost:8080/",
          "height": 173
        },
        "outputId": "a79957ab-a673-4133-db4b-ec3ac525c567"
      },
      "source": [
        "df['third_col'] = df['first_col'] + 2*df['second_col']\n",
        "df"
      ],
      "execution_count": 72,
      "outputs": [
        {
          "output_type": "execute_result",
          "data": {
            "text/html": [
              "<div>\n",
              "<style scoped>\n",
              "    .dataframe tbody tr th:only-of-type {\n",
              "        vertical-align: middle;\n",
              "    }\n",
              "\n",
              "    .dataframe tbody tr th {\n",
              "        vertical-align: top;\n",
              "    }\n",
              "\n",
              "    .dataframe thead th {\n",
              "        text-align: right;\n",
              "    }\n",
              "</style>\n",
              "<table border=\"1\" class=\"dataframe\">\n",
              "  <thead>\n",
              "    <tr style=\"text-align: right;\">\n",
              "      <th></th>\n",
              "      <th>first_col</th>\n",
              "      <th>second_col</th>\n",
              "      <th>third_col</th>\n",
              "    </tr>\n",
              "  </thead>\n",
              "  <tbody>\n",
              "    <tr>\n",
              "      <th>0</th>\n",
              "      <td>1</td>\n",
              "      <td>2</td>\n",
              "      <td>5</td>\n",
              "    </tr>\n",
              "    <tr>\n",
              "      <th>1</th>\n",
              "      <td>2</td>\n",
              "      <td>4</td>\n",
              "      <td>10</td>\n",
              "    </tr>\n",
              "    <tr>\n",
              "      <th>2</th>\n",
              "      <td>3</td>\n",
              "      <td>6</td>\n",
              "      <td>15</td>\n",
              "    </tr>\n",
              "    <tr>\n",
              "      <th>3</th>\n",
              "      <td>4</td>\n",
              "      <td>8</td>\n",
              "      <td>20</td>\n",
              "    </tr>\n",
              "  </tbody>\n",
              "</table>\n",
              "</div>"
            ],
            "text/plain": [
              "   first_col  second_col  third_col\n",
              "0          1           2          5\n",
              "1          2           4         10\n",
              "2          3           6         15\n",
              "3          4           8         20"
            ]
          },
          "metadata": {
            "tags": []
          },
          "execution_count": 72
        }
      ]
    },
    {
      "cell_type": "code",
      "metadata": {
        "id": "ZWhjq8WT_Mch",
        "colab_type": "code",
        "colab": {
          "base_uri": "https://localhost:8080/",
          "height": 102
        },
        "outputId": "310b3028-b932-4d06-ab2b-a8baaaa21364"
      },
      "source": [
        "df['second_col']"
      ],
      "execution_count": 73,
      "outputs": [
        {
          "output_type": "execute_result",
          "data": {
            "text/plain": [
              "0    2\n",
              "1    4\n",
              "2    6\n",
              "3    8\n",
              "Name: second_col, dtype: int64"
            ]
          },
          "metadata": {
            "tags": []
          },
          "execution_count": 73
        }
      ]
    },
    {
      "cell_type": "code",
      "metadata": {
        "id": "2MrJf2Lh_PQs",
        "colab_type": "code",
        "colab": {
          "base_uri": "https://localhost:8080/",
          "height": 34
        },
        "outputId": "dbd449ba-c0dd-446c-f12c-6a2b7575c792"
      },
      "source": [
        "df.shape"
      ],
      "execution_count": 74,
      "outputs": [
        {
          "output_type": "execute_result",
          "data": {
            "text/plain": [
              "(4, 3)"
            ]
          },
          "metadata": {
            "tags": []
          },
          "execution_count": 74
        }
      ]
    },
    {
      "cell_type": "code",
      "metadata": {
        "id": "P9GL0psb_VkO",
        "colab_type": "code",
        "colab": {}
      },
      "source": [
        "arr_1 = np.random.randint(low=0, high=100, size=100000)\n",
        "arr_2 = np.random.randint(low=0, high=100, size=100000)"
      ],
      "execution_count": 0,
      "outputs": []
    },
    {
      "cell_type": "code",
      "metadata": {
        "id": "clD0L-KX_j4-",
        "colab_type": "code",
        "colab": {
          "base_uri": "https://localhost:8080/",
          "height": 34
        },
        "outputId": "b4ee3b3f-4fd8-46b7-cc7e-ad6d7a433847"
      },
      "source": [
        "arr_1.shape"
      ],
      "execution_count": 76,
      "outputs": [
        {
          "output_type": "execute_result",
          "data": {
            "text/plain": [
              "(100000,)"
            ]
          },
          "metadata": {
            "tags": []
          },
          "execution_count": 76
        }
      ]
    },
    {
      "cell_type": "code",
      "metadata": {
        "id": "uQ2h6Ejm_nC_",
        "colab_type": "code",
        "colab": {
          "base_uri": "https://localhost:8080/",
          "height": 34
        },
        "outputId": "225bb9b3-1fd7-48e5-a863-675b187df0e2"
      },
      "source": [
        "arr_2.shape"
      ],
      "execution_count": 77,
      "outputs": [
        {
          "output_type": "execute_result",
          "data": {
            "text/plain": [
              "(100000,)"
            ]
          },
          "metadata": {
            "tags": []
          },
          "execution_count": 77
        }
      ]
    },
    {
      "cell_type": "code",
      "metadata": {
        "id": "M6LSZQkW_pBX",
        "colab_type": "code",
        "colab": {
          "base_uri": "https://localhost:8080/",
          "height": 34
        },
        "outputId": "0b211847-2840-4828-e66b-c10646bf34eb"
      },
      "source": [
        "arr_1 + arr_2"
      ],
      "execution_count": 78,
      "outputs": [
        {
          "output_type": "execute_result",
          "data": {
            "text/plain": [
              "array([ 81, 186, 119, ...,  55, 110,  53])"
            ]
          },
          "metadata": {
            "tags": []
          },
          "execution_count": 78
        }
      ]
    },
    {
      "cell_type": "code",
      "metadata": {
        "id": "12TimJG5_vOO",
        "colab_type": "code",
        "colab": {
          "base_uri": "https://localhost:8080/",
          "height": 34
        },
        "outputId": "05a82d07-4640-4ff3-cd6c-78c8aedf80d2"
      },
      "source": [
        "x + y"
      ],
      "execution_count": 79,
      "outputs": [
        {
          "output_type": "execute_result",
          "data": {
            "text/plain": [
              "[1, 2, 3, 4, 2, 4, 6, 8]"
            ]
          },
          "metadata": {
            "tags": []
          },
          "execution_count": 79
        }
      ]
    },
    {
      "cell_type": "code",
      "metadata": {
        "id": "xCoTTDXv_zkD",
        "colab_type": "code",
        "colab": {
          "base_uri": "https://localhost:8080/",
          "height": 34
        },
        "outputId": "59a4e9d2-71e0-4c5b-88a5-d824fa0eb393"
      },
      "source": [
        "type(arr_1)"
      ],
      "execution_count": 80,
      "outputs": [
        {
          "output_type": "execute_result",
          "data": {
            "text/plain": [
              "numpy.ndarray"
            ]
          },
          "metadata": {
            "tags": []
          },
          "execution_count": 80
        }
      ]
    },
    {
      "cell_type": "code",
      "metadata": {
        "id": "FQ3N4lGo_4mY",
        "colab_type": "code",
        "colab": {
          "base_uri": "https://localhost:8080/",
          "height": 34
        },
        "outputId": "5d1175d8-ce28-4f3c-f18c-0b285913b628"
      },
      "source": [
        "type(x)"
      ],
      "execution_count": 81,
      "outputs": [
        {
          "output_type": "execute_result",
          "data": {
            "text/plain": [
              "list"
            ]
          },
          "metadata": {
            "tags": []
          },
          "execution_count": 81
        }
      ]
    },
    {
      "cell_type": "code",
      "metadata": {
        "id": "NHP39veo_6kw",
        "colab_type": "code",
        "colab": {
          "base_uri": "https://localhost:8080/",
          "height": 173
        },
        "outputId": "d136dadf-fbe3-4e15-d46e-69a3f04feddd"
      },
      "source": [
        "df"
      ],
      "execution_count": 82,
      "outputs": [
        {
          "output_type": "execute_result",
          "data": {
            "text/html": [
              "<div>\n",
              "<style scoped>\n",
              "    .dataframe tbody tr th:only-of-type {\n",
              "        vertical-align: middle;\n",
              "    }\n",
              "\n",
              "    .dataframe tbody tr th {\n",
              "        vertical-align: top;\n",
              "    }\n",
              "\n",
              "    .dataframe thead th {\n",
              "        text-align: right;\n",
              "    }\n",
              "</style>\n",
              "<table border=\"1\" class=\"dataframe\">\n",
              "  <thead>\n",
              "    <tr style=\"text-align: right;\">\n",
              "      <th></th>\n",
              "      <th>first_col</th>\n",
              "      <th>second_col</th>\n",
              "      <th>third_col</th>\n",
              "    </tr>\n",
              "  </thead>\n",
              "  <tbody>\n",
              "    <tr>\n",
              "      <th>0</th>\n",
              "      <td>1</td>\n",
              "      <td>2</td>\n",
              "      <td>5</td>\n",
              "    </tr>\n",
              "    <tr>\n",
              "      <th>1</th>\n",
              "      <td>2</td>\n",
              "      <td>4</td>\n",
              "      <td>10</td>\n",
              "    </tr>\n",
              "    <tr>\n",
              "      <th>2</th>\n",
              "      <td>3</td>\n",
              "      <td>6</td>\n",
              "      <td>15</td>\n",
              "    </tr>\n",
              "    <tr>\n",
              "      <th>3</th>\n",
              "      <td>4</td>\n",
              "      <td>8</td>\n",
              "      <td>20</td>\n",
              "    </tr>\n",
              "  </tbody>\n",
              "</table>\n",
              "</div>"
            ],
            "text/plain": [
              "   first_col  second_col  third_col\n",
              "0          1           2          5\n",
              "1          2           4         10\n",
              "2          3           6         15\n",
              "3          4           8         20"
            ]
          },
          "metadata": {
            "tags": []
          },
          "execution_count": 82
        }
      ]
    },
    {
      "cell_type": "code",
      "metadata": {
        "id": "OFaGBX-vABWV",
        "colab_type": "code",
        "colab": {}
      },
      "source": [
        "df['forth_col'] = df['third_col'] > 10"
      ],
      "execution_count": 0,
      "outputs": []
    },
    {
      "cell_type": "code",
      "metadata": {
        "id": "mrJEYxufADH2",
        "colab_type": "code",
        "colab": {
          "base_uri": "https://localhost:8080/",
          "height": 102
        },
        "outputId": "8c74605e-5d42-4163-dfa4-3ba691a37b78"
      },
      "source": [
        "df['third_col'] > 10"
      ],
      "execution_count": 84,
      "outputs": [
        {
          "output_type": "execute_result",
          "data": {
            "text/plain": [
              "0    False\n",
              "1    False\n",
              "2     True\n",
              "3     True\n",
              "Name: third_col, dtype: bool"
            ]
          },
          "metadata": {
            "tags": []
          },
          "execution_count": 84
        }
      ]
    },
    {
      "cell_type": "code",
      "metadata": {
        "id": "wPyYbkWWAI5A",
        "colab_type": "code",
        "colab": {
          "base_uri": "https://localhost:8080/",
          "height": 173
        },
        "outputId": "721dd4a2-5c5d-4aa8-b7e0-8057ddbe8686"
      },
      "source": [
        "df"
      ],
      "execution_count": 85,
      "outputs": [
        {
          "output_type": "execute_result",
          "data": {
            "text/html": [
              "<div>\n",
              "<style scoped>\n",
              "    .dataframe tbody tr th:only-of-type {\n",
              "        vertical-align: middle;\n",
              "    }\n",
              "\n",
              "    .dataframe tbody tr th {\n",
              "        vertical-align: top;\n",
              "    }\n",
              "\n",
              "    .dataframe thead th {\n",
              "        text-align: right;\n",
              "    }\n",
              "</style>\n",
              "<table border=\"1\" class=\"dataframe\">\n",
              "  <thead>\n",
              "    <tr style=\"text-align: right;\">\n",
              "      <th></th>\n",
              "      <th>first_col</th>\n",
              "      <th>second_col</th>\n",
              "      <th>third_col</th>\n",
              "      <th>forth_col</th>\n",
              "    </tr>\n",
              "  </thead>\n",
              "  <tbody>\n",
              "    <tr>\n",
              "      <th>0</th>\n",
              "      <td>1</td>\n",
              "      <td>2</td>\n",
              "      <td>5</td>\n",
              "      <td>False</td>\n",
              "    </tr>\n",
              "    <tr>\n",
              "      <th>1</th>\n",
              "      <td>2</td>\n",
              "      <td>4</td>\n",
              "      <td>10</td>\n",
              "      <td>False</td>\n",
              "    </tr>\n",
              "    <tr>\n",
              "      <th>2</th>\n",
              "      <td>3</td>\n",
              "      <td>6</td>\n",
              "      <td>15</td>\n",
              "      <td>True</td>\n",
              "    </tr>\n",
              "    <tr>\n",
              "      <th>3</th>\n",
              "      <td>4</td>\n",
              "      <td>8</td>\n",
              "      <td>20</td>\n",
              "      <td>True</td>\n",
              "    </tr>\n",
              "  </tbody>\n",
              "</table>\n",
              "</div>"
            ],
            "text/plain": [
              "   first_col  second_col  third_col  forth_col\n",
              "0          1           2          5      False\n",
              "1          2           4         10      False\n",
              "2          3           6         15       True\n",
              "3          4           8         20       True"
            ]
          },
          "metadata": {
            "tags": []
          },
          "execution_count": 85
        }
      ]
    },
    {
      "cell_type": "code",
      "metadata": {
        "id": "G1S4V1w0APhX",
        "colab_type": "code",
        "colab": {
          "base_uri": "https://localhost:8080/",
          "height": 173
        },
        "outputId": "823f6bad-54f3-4108-c382-2036e1e1c457"
      },
      "source": [
        "df[df['second_col'] < 10]"
      ],
      "execution_count": 86,
      "outputs": [
        {
          "output_type": "execute_result",
          "data": {
            "text/html": [
              "<div>\n",
              "<style scoped>\n",
              "    .dataframe tbody tr th:only-of-type {\n",
              "        vertical-align: middle;\n",
              "    }\n",
              "\n",
              "    .dataframe tbody tr th {\n",
              "        vertical-align: top;\n",
              "    }\n",
              "\n",
              "    .dataframe thead th {\n",
              "        text-align: right;\n",
              "    }\n",
              "</style>\n",
              "<table border=\"1\" class=\"dataframe\">\n",
              "  <thead>\n",
              "    <tr style=\"text-align: right;\">\n",
              "      <th></th>\n",
              "      <th>first_col</th>\n",
              "      <th>second_col</th>\n",
              "      <th>third_col</th>\n",
              "      <th>forth_col</th>\n",
              "    </tr>\n",
              "  </thead>\n",
              "  <tbody>\n",
              "    <tr>\n",
              "      <th>0</th>\n",
              "      <td>1</td>\n",
              "      <td>2</td>\n",
              "      <td>5</td>\n",
              "      <td>False</td>\n",
              "    </tr>\n",
              "    <tr>\n",
              "      <th>1</th>\n",
              "      <td>2</td>\n",
              "      <td>4</td>\n",
              "      <td>10</td>\n",
              "      <td>False</td>\n",
              "    </tr>\n",
              "    <tr>\n",
              "      <th>2</th>\n",
              "      <td>3</td>\n",
              "      <td>6</td>\n",
              "      <td>15</td>\n",
              "      <td>True</td>\n",
              "    </tr>\n",
              "    <tr>\n",
              "      <th>3</th>\n",
              "      <td>4</td>\n",
              "      <td>8</td>\n",
              "      <td>20</td>\n",
              "      <td>True</td>\n",
              "    </tr>\n",
              "  </tbody>\n",
              "</table>\n",
              "</div>"
            ],
            "text/plain": [
              "   first_col  second_col  third_col  forth_col\n",
              "0          1           2          5      False\n",
              "1          2           4         10      False\n",
              "2          3           6         15       True\n",
              "3          4           8         20       True"
            ]
          },
          "metadata": {
            "tags": []
          },
          "execution_count": 86
        }
      ]
    },
    {
      "cell_type": "markdown",
      "metadata": {
        "id": "lOqaPds9huME",
        "colab_type": "text"
      },
      "source": [
        "## Assignment - now it's your turn\n",
        "\n",
        "Pick at least one Python DS library, and using documentation/examples reproduce in this notebook something cool. It's OK if you don't fully understand it or get it 100% working, but do put in effort and look things up."
      ]
    },
    {
      "cell_type": "code",
      "metadata": {
        "id": "TGUS79cOhPWj",
        "colab_type": "code",
        "colab": {}
      },
      "source": [
        "# TODO - your code here\n",
        "# Use what we did live in lecture as an example"
      ],
      "execution_count": 0,
      "outputs": []
    },
    {
      "cell_type": "code",
      "metadata": {
        "id": "CAAQfzWrDLyC",
        "colab_type": "code",
        "colab": {
          "resources": {
            "http://localhost:8080/nbextensions/google.colab/files.js": {
              "data": "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",
              "ok": true,
              "headers": [
                [
                  "content-type",
                  "application/javascript"
                ]
              ],
              "status": 200,
              "status_text": ""
            }
          },
          "base_uri": "https://localhost:8080/",
          "height": 74
        },
        "outputId": "9273c11b-bd81-4470-8948-97ce1399cd3e"
      },
      "source": [
        "from google.colab import files\n",
        "uploaded = files.upload()"
      ],
      "execution_count": 90,
      "outputs": [
        {
          "output_type": "display_data",
          "data": {
            "text/html": [
              "\n",
              "     <input type=\"file\" id=\"files-85ff4ae4-c8bb-4429-b930-92be15c4a849\" name=\"files[]\" multiple disabled />\n",
              "     <output id=\"result-85ff4ae4-c8bb-4429-b930-92be15c4a849\">\n",
              "      Upload widget is only available when the cell has been executed in the\n",
              "      current browser session. Please rerun this cell to enable.\n",
              "      </output>\n",
              "      <script src=\"/nbextensions/google.colab/files.js\"></script> "
            ],
            "text/plain": [
              "<IPython.core.display.HTML object>"
            ]
          },
          "metadata": {
            "tags": []
          }
        },
        {
          "output_type": "stream",
          "text": [
            "Saving ReplicatedAcousticFeatures-ParkinsonDatabase.csv to ReplicatedAcousticFeatures-ParkinsonDatabase (2).csv\n"
          ],
          "name": "stdout"
        }
      ]
    },
    {
      "cell_type": "code",
      "metadata": {
        "id": "nKUmsaGhDar3",
        "colab_type": "code",
        "colab": {}
      },
      "source": [
        "import io\n",
        "parkinson = pd.read_csv(io.BytesIO(uploaded['ReplicatedAcousticFeatures-ParkinsonDatabase.csv']))"
      ],
      "execution_count": 0,
      "outputs": []
    },
    {
      "cell_type": "code",
      "metadata": {
        "id": "Q3LTjySfDkpD",
        "colab_type": "code",
        "colab": {
          "base_uri": "https://localhost:8080/",
          "height": 309
        },
        "outputId": "6d61ce42-06b9-4289-b9c9-1add9b8bbfa2"
      },
      "source": [
        "parkinson.head()"
      ],
      "execution_count": 92,
      "outputs": [
        {
          "output_type": "execute_result",
          "data": {
            "text/html": [
              "<div>\n",
              "<style scoped>\n",
              "    .dataframe tbody tr th:only-of-type {\n",
              "        vertical-align: middle;\n",
              "    }\n",
              "\n",
              "    .dataframe tbody tr th {\n",
              "        vertical-align: top;\n",
              "    }\n",
              "\n",
              "    .dataframe thead th {\n",
              "        text-align: right;\n",
              "    }\n",
              "</style>\n",
              "<table border=\"1\" class=\"dataframe\">\n",
              "  <thead>\n",
              "    <tr style=\"text-align: right;\">\n",
              "      <th></th>\n",
              "      <th>ID</th>\n",
              "      <th>Recording</th>\n",
              "      <th>Status</th>\n",
              "      <th>Gender</th>\n",
              "      <th>Jitter_rel</th>\n",
              "      <th>Jitter_abs</th>\n",
              "      <th>Jitter_RAP</th>\n",
              "      <th>Jitter_PPQ</th>\n",
              "      <th>Shim_loc</th>\n",
              "      <th>Shim_dB</th>\n",
              "      <th>Shim_APQ3</th>\n",
              "      <th>Shim_APQ5</th>\n",
              "      <th>Shi_APQ11</th>\n",
              "      <th>HNR05</th>\n",
              "      <th>HNR15</th>\n",
              "      <th>HNR25</th>\n",
              "      <th>HNR35</th>\n",
              "      <th>HNR38</th>\n",
              "      <th>RPDE</th>\n",
              "      <th>DFA</th>\n",
              "      <th>PPE</th>\n",
              "      <th>GNE</th>\n",
              "      <th>MFCC0</th>\n",
              "      <th>MFCC1</th>\n",
              "      <th>MFCC2</th>\n",
              "      <th>MFCC3</th>\n",
              "      <th>MFCC4</th>\n",
              "      <th>MFCC5</th>\n",
              "      <th>MFCC6</th>\n",
              "      <th>MFCC7</th>\n",
              "      <th>MFCC8</th>\n",
              "      <th>MFCC9</th>\n",
              "      <th>MFCC10</th>\n",
              "      <th>MFCC11</th>\n",
              "      <th>MFCC12</th>\n",
              "      <th>Delta0</th>\n",
              "      <th>Delta1</th>\n",
              "      <th>Delta2</th>\n",
              "      <th>Delta3</th>\n",
              "      <th>Delta4</th>\n",
              "      <th>Delta5</th>\n",
              "      <th>Delta6</th>\n",
              "      <th>Delta7</th>\n",
              "      <th>Delta8</th>\n",
              "      <th>Delta9</th>\n",
              "      <th>Delta10</th>\n",
              "      <th>Delta11</th>\n",
              "      <th>Delta12</th>\n",
              "    </tr>\n",
              "  </thead>\n",
              "  <tbody>\n",
              "    <tr>\n",
              "      <th>0</th>\n",
              "      <td>CONT-01</td>\n",
              "      <td>1</td>\n",
              "      <td>0</td>\n",
              "      <td>1</td>\n",
              "      <td>0.25546</td>\n",
              "      <td>0.000015</td>\n",
              "      <td>0.001467</td>\n",
              "      <td>0.001673</td>\n",
              "      <td>0.030256</td>\n",
              "      <td>0.26313</td>\n",
              "      <td>0.017463</td>\n",
              "      <td>0.019660</td>\n",
              "      <td>0.021882</td>\n",
              "      <td>59.437966</td>\n",
              "      <td>60.736249</td>\n",
              "      <td>71.882864</td>\n",
              "      <td>77.626729</td>\n",
              "      <td>77.538042</td>\n",
              "      <td>0.250433</td>\n",
              "      <td>0.599346</td>\n",
              "      <td>0.005397</td>\n",
              "      <td>0.900404</td>\n",
              "      <td>1.319502</td>\n",
              "      <td>1.336201</td>\n",
              "      <td>1.302408</td>\n",
              "      <td>1.329085</td>\n",
              "      <td>1.284922</td>\n",
              "      <td>1.209225</td>\n",
              "      <td>1.239354</td>\n",
              "      <td>1.277002</td>\n",
              "      <td>1.332503</td>\n",
              "      <td>1.347470</td>\n",
              "      <td>1.367540</td>\n",
              "      <td>1.402141</td>\n",
              "      <td>1.393809</td>\n",
              "      <td>1.397874</td>\n",
              "      <td>1.372464</td>\n",
              "      <td>1.390298</td>\n",
              "      <td>1.407701</td>\n",
              "      <td>1.417218</td>\n",
              "      <td>1.380352</td>\n",
              "      <td>1.420670</td>\n",
              "      <td>1.451240</td>\n",
              "      <td>1.440295</td>\n",
              "      <td>1.403678</td>\n",
              "      <td>1.405495</td>\n",
              "      <td>1.416705</td>\n",
              "      <td>1.354610</td>\n",
              "    </tr>\n",
              "    <tr>\n",
              "      <th>1</th>\n",
              "      <td>CONT-01</td>\n",
              "      <td>2</td>\n",
              "      <td>0</td>\n",
              "      <td>1</td>\n",
              "      <td>0.36964</td>\n",
              "      <td>0.000022</td>\n",
              "      <td>0.001932</td>\n",
              "      <td>0.002245</td>\n",
              "      <td>0.023146</td>\n",
              "      <td>0.20217</td>\n",
              "      <td>0.013010</td>\n",
              "      <td>0.014097</td>\n",
              "      <td>0.016828</td>\n",
              "      <td>59.838895</td>\n",
              "      <td>62.655599</td>\n",
              "      <td>74.378669</td>\n",
              "      <td>79.989228</td>\n",
              "      <td>80.269783</td>\n",
              "      <td>0.271445</td>\n",
              "      <td>0.581242</td>\n",
              "      <td>0.075617</td>\n",
              "      <td>0.887042</td>\n",
              "      <td>1.215251</td>\n",
              "      <td>1.221557</td>\n",
              "      <td>1.265419</td>\n",
              "      <td>1.187177</td>\n",
              "      <td>1.256340</td>\n",
              "      <td>1.246375</td>\n",
              "      <td>1.283629</td>\n",
              "      <td>1.302498</td>\n",
              "      <td>1.308008</td>\n",
              "      <td>1.316527</td>\n",
              "      <td>1.370643</td>\n",
              "      <td>1.373966</td>\n",
              "      <td>1.344655</td>\n",
              "      <td>1.302399</td>\n",
              "      <td>1.347680</td>\n",
              "      <td>1.365750</td>\n",
              "      <td>1.331232</td>\n",
              "      <td>1.227338</td>\n",
              "      <td>1.213377</td>\n",
              "      <td>1.352739</td>\n",
              "      <td>1.354242</td>\n",
              "      <td>1.365692</td>\n",
              "      <td>1.322870</td>\n",
              "      <td>1.314549</td>\n",
              "      <td>1.318999</td>\n",
              "      <td>1.323508</td>\n",
              "    </tr>\n",
              "    <tr>\n",
              "      <th>2</th>\n",
              "      <td>CONT-01</td>\n",
              "      <td>3</td>\n",
              "      <td>0</td>\n",
              "      <td>1</td>\n",
              "      <td>0.23514</td>\n",
              "      <td>0.000013</td>\n",
              "      <td>0.001353</td>\n",
              "      <td>0.001546</td>\n",
              "      <td>0.019338</td>\n",
              "      <td>0.16710</td>\n",
              "      <td>0.011049</td>\n",
              "      <td>0.012683</td>\n",
              "      <td>0.013038</td>\n",
              "      <td>57.293808</td>\n",
              "      <td>61.858336</td>\n",
              "      <td>73.665297</td>\n",
              "      <td>78.930502</td>\n",
              "      <td>79.033510</td>\n",
              "      <td>0.203531</td>\n",
              "      <td>0.600759</td>\n",
              "      <td>0.005283</td>\n",
              "      <td>0.889399</td>\n",
              "      <td>1.426075</td>\n",
              "      <td>1.220701</td>\n",
              "      <td>1.344188</td>\n",
              "      <td>1.346296</td>\n",
              "      <td>1.339797</td>\n",
              "      <td>1.334447</td>\n",
              "      <td>1.391798</td>\n",
              "      <td>1.349621</td>\n",
              "      <td>1.349904</td>\n",
              "      <td>1.340463</td>\n",
              "      <td>1.362594</td>\n",
              "      <td>1.313769</td>\n",
              "      <td>1.277938</td>\n",
              "      <td>1.312889</td>\n",
              "      <td>1.352442</td>\n",
              "      <td>1.243385</td>\n",
              "      <td>1.412304</td>\n",
              "      <td>1.324674</td>\n",
              "      <td>1.276088</td>\n",
              "      <td>1.429634</td>\n",
              "      <td>1.455996</td>\n",
              "      <td>1.368882</td>\n",
              "      <td>1.438053</td>\n",
              "      <td>1.388910</td>\n",
              "      <td>1.305469</td>\n",
              "      <td>1.305402</td>\n",
              "    </tr>\n",
              "    <tr>\n",
              "      <th>3</th>\n",
              "      <td>CONT-02</td>\n",
              "      <td>1</td>\n",
              "      <td>0</td>\n",
              "      <td>0</td>\n",
              "      <td>0.29320</td>\n",
              "      <td>0.000017</td>\n",
              "      <td>0.001105</td>\n",
              "      <td>0.001444</td>\n",
              "      <td>0.024716</td>\n",
              "      <td>0.20892</td>\n",
              "      <td>0.014525</td>\n",
              "      <td>0.015696</td>\n",
              "      <td>0.018330</td>\n",
              "      <td>62.179573</td>\n",
              "      <td>68.678205</td>\n",
              "      <td>79.839984</td>\n",
              "      <td>84.367682</td>\n",
              "      <td>84.252430</td>\n",
              "      <td>0.261360</td>\n",
              "      <td>0.625216</td>\n",
              "      <td>0.030518</td>\n",
              "      <td>0.875984</td>\n",
              "      <td>1.495235</td>\n",
              "      <td>1.602983</td>\n",
              "      <td>1.572715</td>\n",
              "      <td>1.498323</td>\n",
              "      <td>1.561722</td>\n",
              "      <td>1.590510</td>\n",
              "      <td>1.626319</td>\n",
              "      <td>1.645811</td>\n",
              "      <td>1.666730</td>\n",
              "      <td>1.618487</td>\n",
              "      <td>1.493691</td>\n",
              "      <td>1.459040</td>\n",
              "      <td>1.383606</td>\n",
              "      <td>1.379629</td>\n",
              "      <td>1.217517</td>\n",
              "      <td>1.309647</td>\n",
              "      <td>1.501200</td>\n",
              "      <td>1.534170</td>\n",
              "      <td>1.323993</td>\n",
              "      <td>1.496442</td>\n",
              "      <td>1.472926</td>\n",
              "      <td>1.643177</td>\n",
              "      <td>1.551286</td>\n",
              "      <td>1.638346</td>\n",
              "      <td>1.604008</td>\n",
              "      <td>1.621456</td>\n",
              "    </tr>\n",
              "    <tr>\n",
              "      <th>4</th>\n",
              "      <td>CONT-02</td>\n",
              "      <td>2</td>\n",
              "      <td>0</td>\n",
              "      <td>0</td>\n",
              "      <td>0.23075</td>\n",
              "      <td>0.000015</td>\n",
              "      <td>0.001073</td>\n",
              "      <td>0.001404</td>\n",
              "      <td>0.013119</td>\n",
              "      <td>0.11607</td>\n",
              "      <td>0.006461</td>\n",
              "      <td>0.008385</td>\n",
              "      <td>0.011037</td>\n",
              "      <td>67.534024</td>\n",
              "      <td>74.976858</td>\n",
              "      <td>85.727420</td>\n",
              "      <td>91.033967</td>\n",
              "      <td>91.145189</td>\n",
              "      <td>0.222069</td>\n",
              "      <td>0.602493</td>\n",
              "      <td>0.035602</td>\n",
              "      <td>0.902206</td>\n",
              "      <td>1.516959</td>\n",
              "      <td>1.581687</td>\n",
              "      <td>1.542668</td>\n",
              "      <td>1.613747</td>\n",
              "      <td>1.501956</td>\n",
              "      <td>1.258557</td>\n",
              "      <td>1.385013</td>\n",
              "      <td>1.452518</td>\n",
              "      <td>1.498049</td>\n",
              "      <td>1.421549</td>\n",
              "      <td>1.557644</td>\n",
              "      <td>1.187218</td>\n",
              "      <td>1.576015</td>\n",
              "      <td>1.252247</td>\n",
              "      <td>1.577338</td>\n",
              "      <td>1.583072</td>\n",
              "      <td>1.508468</td>\n",
              "      <td>1.334511</td>\n",
              "      <td>1.610694</td>\n",
              "      <td>1.685021</td>\n",
              "      <td>1.417614</td>\n",
              "      <td>1.574895</td>\n",
              "      <td>1.640088</td>\n",
              "      <td>1.533666</td>\n",
              "      <td>1.297536</td>\n",
              "      <td>1.382023</td>\n",
              "    </tr>\n",
              "  </tbody>\n",
              "</table>\n",
              "</div>"
            ],
            "text/plain": [
              "        ID  Recording  Status  Gender  ...    Delta9   Delta10   Delta11   Delta12\n",
              "0  CONT-01          1       0       1  ...  1.403678  1.405495  1.416705  1.354610\n",
              "1  CONT-01          2       0       1  ...  1.322870  1.314549  1.318999  1.323508\n",
              "2  CONT-01          3       0       1  ...  1.438053  1.388910  1.305469  1.305402\n",
              "3  CONT-02          1       0       0  ...  1.551286  1.638346  1.604008  1.621456\n",
              "4  CONT-02          2       0       0  ...  1.640088  1.533666  1.297536  1.382023\n",
              "\n",
              "[5 rows x 48 columns]"
            ]
          },
          "metadata": {
            "tags": []
          },
          "execution_count": 92
        }
      ]
    },
    {
      "cell_type": "code",
      "metadata": {
        "id": "iSkZCQ1iXfUC",
        "colab_type": "code",
        "colab": {
          "base_uri": "https://localhost:8080/",
          "height": 1000
        },
        "outputId": "8f9b48c4-f71e-4188-a096-e6f47308b7cf"
      },
      "source": [
        "help(pd.crosstab)"
      ],
      "execution_count": 93,
      "outputs": [
        {
          "output_type": "stream",
          "text": [
            "Help on function crosstab in module pandas.core.reshape.pivot:\n",
            "\n",
            "crosstab(index, columns, values=None, rownames=None, colnames=None, aggfunc=None, margins=False, margins_name='All', dropna=True, normalize=False)\n",
            "    Compute a simple cross-tabulation of two (or more) factors. By default\n",
            "    computes a frequency table of the factors unless an array of values and an\n",
            "    aggregation function are passed\n",
            "    \n",
            "    Parameters\n",
            "    ----------\n",
            "    index : array-like, Series, or list of arrays/Series\n",
            "        Values to group by in the rows\n",
            "    columns : array-like, Series, or list of arrays/Series\n",
            "        Values to group by in the columns\n",
            "    values : array-like, optional\n",
            "        Array of values to aggregate according to the factors.\n",
            "        Requires `aggfunc` be specified.\n",
            "    rownames : sequence, default None\n",
            "        If passed, must match number of row arrays passed\n",
            "    colnames : sequence, default None\n",
            "        If passed, must match number of column arrays passed\n",
            "    aggfunc : function, optional\n",
            "        If specified, requires `values` be specified as well\n",
            "    margins : boolean, default False\n",
            "        Add row/column margins (subtotals)\n",
            "    margins_name : string, default 'All'\n",
            "        Name of the row / column that will contain the totals\n",
            "        when margins is True.\n",
            "    \n",
            "        .. versionadded:: 0.21.0\n",
            "    \n",
            "    dropna : boolean, default True\n",
            "        Do not include columns whose entries are all NaN\n",
            "    normalize : boolean, {'all', 'index', 'columns'}, or {0,1}, default False\n",
            "        Normalize by dividing all values by the sum of values.\n",
            "    \n",
            "        - If passed 'all' or `True`, will normalize over all values.\n",
            "        - If passed 'index' will normalize over each row.\n",
            "        - If passed 'columns' will normalize over each column.\n",
            "        - If margins is `True`, will also normalize margin values.\n",
            "    \n",
            "        .. versionadded:: 0.18.1\n",
            "    \n",
            "    Returns\n",
            "    -------\n",
            "    crosstab : DataFrame\n",
            "    \n",
            "    Notes\n",
            "    -----\n",
            "    Any Series passed will have their name attributes used unless row or column\n",
            "    names for the cross-tabulation are specified.\n",
            "    \n",
            "    Any input passed containing Categorical data will have **all** of its\n",
            "    categories included in the cross-tabulation, even if the actual data does\n",
            "    not contain any instances of a particular category.\n",
            "    \n",
            "    In the event that there aren't overlapping indexes an empty DataFrame will\n",
            "    be returned.\n",
            "    \n",
            "    Examples\n",
            "    --------\n",
            "    >>> a = np.array([\"foo\", \"foo\", \"foo\", \"foo\", \"bar\", \"bar\",\n",
            "    ...               \"bar\", \"bar\", \"foo\", \"foo\", \"foo\"], dtype=object)\n",
            "    >>> b = np.array([\"one\", \"one\", \"one\", \"two\", \"one\", \"one\",\n",
            "    ...               \"one\", \"two\", \"two\", \"two\", \"one\"], dtype=object)\n",
            "    >>> c = np.array([\"dull\", \"dull\", \"shiny\", \"dull\", \"dull\", \"shiny\",\n",
            "    ...               \"shiny\", \"dull\", \"shiny\", \"shiny\", \"shiny\"],\n",
            "    ...               dtype=object)\n",
            "    \n",
            "    >>> pd.crosstab(a, [b, c], rownames=['a'], colnames=['b', 'c'])\n",
            "    ... # doctest: +NORMALIZE_WHITESPACE\n",
            "    b   one        two\n",
            "    c   dull shiny dull shiny\n",
            "    a\n",
            "    bar    1     2    1     0\n",
            "    foo    2     2    1     2\n",
            "    \n",
            "    >>> foo = pd.Categorical(['a', 'b'], categories=['a', 'b', 'c'])\n",
            "    >>> bar = pd.Categorical(['d', 'e'], categories=['d', 'e', 'f'])\n",
            "    >>> crosstab(foo, bar)  # 'c' and 'f' are not represented in the data,\n",
            "                            # and will not be shown in the output because\n",
            "                            # dropna is True by default. Set 'dropna=False'\n",
            "                            # to preserve categories with no data\n",
            "    ... # doctest: +SKIP\n",
            "    col_0  d  e\n",
            "    row_0\n",
            "    a      1  0\n",
            "    b      0  1\n",
            "    \n",
            "    >>> crosstab(foo, bar, dropna=False)  # 'c' and 'f' are not represented\n",
            "                            # in the data, but they still will be counted\n",
            "                            # and shown in the output\n",
            "    ... # doctest: +SKIP\n",
            "    col_0  d  e  f\n",
            "    row_0\n",
            "    a      1  0  0\n",
            "    b      0  1  0\n",
            "    c      0  0  0\n",
            "\n"
          ],
          "name": "stdout"
        }
      ]
    },
    {
      "cell_type": "code",
      "metadata": {
        "id": "bgFF0oLID6Mf",
        "colab_type": "code",
        "colab": {
          "base_uri": "https://localhost:8080/",
          "height": 312
        },
        "outputId": "e3a0948c-6305-4623-bb62-5f88765eb354"
      },
      "source": [
        "plt.figure(figsize=(8,5))\n",
        "\n",
        "pd.crosstab(parkinson.Gender, parkinson.Status).plot.bar()\n",
        "\n",
        "plt.title('Parkinson disease male vs female')\n",
        "plt.xlabel('Gender')\n",
        "plt.ylabel('Status')\n",
        "plt.xticks(rotation = 0)\n",
        "plt.legend(['positive', 'negative'])\n",
        "plt.show()"
      ],
      "execution_count": 95,
      "outputs": [
        {
          "output_type": "display_data",
          "data": {
            "text/plain": [
              "<Figure size 576x360 with 0 Axes>"
            ]
          },
          "metadata": {
            "tags": []
          }
        },
        {
          "output_type": "display_data",
          "data": {
            "image/png": "[encoded data removed]",
            "text/plain": [
              "<Figure size 432x288 with 1 Axes>"
            ]
          },
          "metadata": {
            "tags": []
          }
        }
      ]
    },
    {
      "cell_type": "markdown",
      "metadata": {
        "id": "BT9gdS7viJZa",
        "colab_type": "text"
      },
      "source": [
        "### Assignment questions\n",
        "\n",
        "After you've worked on some code, answer the following questions in this text block:\n",
        "\n",
        "1.  Describe in a paragraph of text what you did and why, as if you were writing an email to somebody interested but nontechnical.\n",
        "\n",
        "I did this comparison of the Parkinson's disease because I found it interesting and challenging to plot it at the same time.\n",
        "\n",
        "2.  What was the most challenging part of what you did?\n",
        "\n",
        "Plotting the values in the graph as they are only numbers.\n",
        "\n",
        "3.  What was the most interesting thing you learned?\n",
        "\n",
        "I learned another method to plot values in a bar graph.\n",
        "\n",
        "4.  What area would you like to explore with more time?\n",
        "\n",
        "pd.crosstab\n",
        "\n",
        "\n"
      ]
    },
    {
      "cell_type": "markdown",
      "metadata": {
        "id": "_XXg2crAipwP",
        "colab_type": "text"
      },
      "source": [
        "## Stretch goals and resources\n",
        "\n",
        "Following are *optional* things for you to take a look at. Focus on the above assignment first, and make sure to commit and push your changes to GitHub (and since this is the first assignment of the sprint, open a PR as well).\n",
        "\n",
        "- [pandas documentation](https://pandas.pydata.org/pandas-docs/stable/)\n",
        "- [scikit-learn documentation](http://scikit-learn.org/stable/documentation.html)\n",
        "- [matplotlib documentation](https://matplotlib.org/contents.html)\n",
        "- [Awesome Data Science](https://github.com/bulutyazilim/awesome-datascience) - a list of many types of DS resources\n",
        "\n",
        "Stretch goals:\n",
        "\n",
        "- Find and read blogs, walkthroughs, and other examples of people working through cool things with data science - and share with your classmates!\n",
        "- Write a blog post (Medium is a popular place to publish) introducing yourself as somebody learning data science, and talking about what you've learned already and what you're excited to learn more about."
      ]
    }
  ]
}