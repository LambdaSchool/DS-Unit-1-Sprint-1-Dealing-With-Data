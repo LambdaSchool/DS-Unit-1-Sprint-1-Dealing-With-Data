{
  "nbformat": 4,
  "nbformat_minor": 0,
  "metadata": {
    "colab": {
      "name": "Nicholas George Copy of LS_DS_112_Loading_Data_Assignment.ipynb",
      "version": "0.3.2",
      "provenance": [],
      "collapsed_sections": [],
      "include_colab_link": true
    },
    "kernelspec": {
      "name": "python3",
      "display_name": "Python 3"
    }
  },
  "cells": [
    {
      "cell_type": "markdown",
      "metadata": {
        "id": "view-in-github",
        "colab_type": "text"
      },
      "source": [
        "<a href=\"https://colab.research.google.com/github/npgeorge/DS-Unit-1-Sprint-1-Dealing-With-Data/blob/master/Nicholas_George_Copy_of_LS_DS_112_Loading_Data_Assignment.ipynb\" target=\"_parent\"><img src=\"https://colab.research.google.com/assets/colab-badge.svg\" alt=\"Open In Colab\"/></a>"
      ]
    },
    {
      "cell_type": "markdown",
      "metadata": {
        "colab_type": "text",
        "id": "MSnsTgZLKO72"
      },
      "source": [
        "# Practice Loading Datasets\n",
        "\n",
        "This assignment is purposely semi-open-ended you will be asked to load datasets both from github and also from CSV files from the [UC Irvine Machine Learning Repository](https://archive.ics.uci.edu/ml/index.php). \n",
        "\n",
        "Remember that the UCI datasets may not have a file type of `.csv` so it's important that you learn as much as you can about the dataset before you try and load it. See if you can look at the raw text of the file either locally, on github, using the `!curl` shell command, or in some other way before you try and read it in as a dataframe, this will help you catch what would otherwise be unforseen problems.\n"
      ]
    },
    {
      "cell_type": "markdown",
      "metadata": {
        "id": "156P6ndeKojO",
        "colab_type": "text"
      },
      "source": [
        "## 1) Load a dataset from Github (via its *RAW* URL)\n",
        "\n",
        "Pick a dataset from the following repository and load it into Google Colab. Make sure that the headers are what you would expect and check to see if missing values have been encoded as NaN values:\n",
        "\n",
        "<https://github.com/ryanleeallred/datasets>"
      ]
    },
    {
      "cell_type": "code",
      "metadata": {
        "id": "NJdISe69ZT7E",
        "colab_type": "code",
        "colab": {}
      },
      "source": [
        "# TODO your work here!\n",
        "# And note you should write comments, descriptions, and add new\n",
        "# code and text blocks as needed\n",
        "\n",
        "import pandas as pd\n",
        "df = pd.read_csv('https://raw.githubusercontent.com/ryanleeallred/datasets/master/NFL-Plays.csv') #raw url after clicking through github to get there\n",
        "\n",
        "df.head() #spits out the first 5 rows \n"
      ],
      "execution_count": 0,
      "outputs": []
    },
    {
      "cell_type": "code",
      "metadata": {
        "id": "BAtmp_FXsDlq",
        "colab_type": "code",
        "colab": {}
      },
      "source": [
        "df.dtypes #shows the data types"
      ],
      "execution_count": 0,
      "outputs": []
    },
    {
      "cell_type": "code",
      "metadata": {
        "id": "cq0Fz_FdsYtH",
        "colab_type": "code",
        "colab": {}
      },
      "source": [
        "df.describe() #possibly useful summary statistics"
      ],
      "execution_count": 0,
      "outputs": []
    },
    {
      "cell_type": "markdown",
      "metadata": {
        "id": "-gFnZR6iLLPY",
        "colab_type": "text"
      },
      "source": [
        "## 2) Load a dataset from your local machine\n",
        "Download a dataset from the [UC Irvine Machine Learning Repository](https://archive.ics.uci.edu/ml/index.php) and then upload the file to Google Colab either using the files tab in the left-hand sidebar or by importing `files` from `google.colab` The following link will be a useful resource if you can't remember the syntax: <https://towardsdatascience.com/3-ways-to-load-csv-files-into-colab-7c14fcbdcb92>\n",
        "\n",
        "While you are free to try and load any dataset from the UCI repository, I strongly suggest starting with one of the most popular datasets like those that are featured on the right-hand side of the home page. \n",
        "\n",
        "Some datasets on UCI will have challenges associated with importing them far beyond what we have exposed you to in class today, so if you run into a dataset that you don't know how to deal with, struggle with it for a little bit, but ultimately feel free to simply choose a different one. \n",
        "\n",
        "- Make sure that your file has correct headers, and the same number of rows and columns as is specified on the UCI page. If your dataset doesn't have headers use the parameters of the `read_csv` function to add them. Likewise make sure that missing values are encoded as `NaN`."
      ]
    },
    {
      "cell_type": "code",
      "metadata": {
        "id": "qUmwX-ZoM9cq",
        "colab_type": "code",
        "colab": {}
      },
      "source": [
        "# TODO your work here!\n",
        "# And note you should write comments, descriptions, and add new\n",
        "# code and text blocks as needed\n",
        "\n",
        "import pandas as pd #redundant but just in case I reload the page and only want to run this code block\n",
        "\n",
        "from google.colab import files\n",
        "uploaded = files.upload()\n",
        "\n"
      ],
      "execution_count": 0,
      "outputs": []
    },
    {
      "cell_type": "code",
      "metadata": {
        "id": "ioTGmv8az0Ky",
        "colab_type": "code",
        "colab": {}
      },
      "source": [
        "import io\n",
        "df2 = pd.read_csv(io.BytesIO(uploaded['winequality-red.csv'])) #code from recommended web page on importing csv's from the desktop\n",
        "# Dataset is now stored in a Pandas Dataframe"
      ],
      "execution_count": 0,
      "outputs": []
    },
    {
      "cell_type": "code",
      "metadata": {
        "id": "tWMXZig50PBQ",
        "colab_type": "code",
        "colab": {}
      },
      "source": [
        "df2.head()"
      ],
      "execution_count": 0,
      "outputs": []
    },
    {
      "cell_type": "markdown",
      "metadata": {
        "id": "mq_aQjxlM-u5",
        "colab_type": "text"
      },
      "source": [
        "## 3) Load a dataset from UCI using `!wget`\n",
        "\n",
        "\"Shell Out\" and try loading a file directly into your google colab's memory using the `!wget` command and then read it in with `read_csv`.\n",
        "\n",
        "With this file we'll do a bit more to it.\n",
        "\n",
        "- Read it in, fix any problems with the header as make sure missing values are encoded as `NaN`.\n",
        "- Use the `.fillna()` method to fill any missing values. \n",
        " - [.fillna() documentation](https://pandas.pydata.org/pandas-docs/stable/reference/api/pandas.DataFrame.fillna.html)\n",
        "- Create one of each of the following plots using the Pandas plotting functionality:\n",
        " - Scatterplot\n",
        " - Histogram\n",
        " - Density Plot\n"
      ]
    },
    {
      "cell_type": "code",
      "metadata": {
        "id": "b0bcEMUQ6O5b",
        "colab_type": "code",
        "colab": {}
      },
      "source": [
        "#loading url\n",
        "\n",
        "flag_data_url = 'https://archive.ics.uci.edu/ml/machine-learning-databases/flags/flag.data'\n",
        "\n",
        "!curl https://archive.ics.uci.edu/ml/machine-learning-databases/flags/flag.data\n"
      ],
      "execution_count": 0,
      "outputs": []
    },
    {
      "cell_type": "code",
      "metadata": {
        "id": "5j8pAKFHADfn",
        "colab_type": "code",
        "colab": {}
      },
      "source": [
        "#saving the file\n",
        "!wget https://archive.ics.uci.edu/ml/machine-learning-databases/flags/flag.data\n",
        "\n",
        "# !ls shows a list of what files have been saved\n",
        "!ls"
      ],
      "execution_count": 0,
      "outputs": []
    },
    {
      "cell_type": "code",
      "metadata": {
        "id": "C5xzUyR9AuJK",
        "colab_type": "code",
        "colab": {}
      },
      "source": [
        "#loading data in\n",
        "import pandas as pd\n",
        "flag_data = pd.read_csv(flag_data_url, header=None) \n",
        "#fixed the header issue with \"header=None\", by default it lists the top row, sometimes top row just is raw data and needs to be cleaned"
      ],
      "execution_count": 0,
      "outputs": []
    },
    {
      "cell_type": "code",
      "metadata": {
        "id": "r5QkXNNmA-g0",
        "colab_type": "code",
        "colab": {}
      },
      "source": [
        "flag_data.head() #basic verification looking at first 5 rows by default"
      ],
      "execution_count": 0,
      "outputs": []
    },
    {
      "cell_type": "code",
      "metadata": {
        "id": "Fb5qQnK8BZjf",
        "colab_type": "code",
        "colab": {}
      },
      "source": [
        "flag_data.count()"
      ],
      "execution_count": 0,
      "outputs": []
    },
    {
      "cell_type": "code",
      "metadata": {
        "id": "m4Z0pDPRBvDX",
        "colab_type": "code",
        "colab": {}
      },
      "source": [
        "!curl https://archive.ics.uci.edu/ml/machine-learning-databases/flags/flag.data | wc #need to tell it row 0 is not the header from the example"
      ],
      "execution_count": 0,
      "outputs": []
    },
    {
      "cell_type": "code",
      "metadata": {
        "id": "vEXE4itICFdf",
        "colab_type": "code",
        "colab": {}
      },
      "source": [
        "#using another data set\n",
        "adult_data_url = 'https://archive.ics.uci.edu/ml/machine-learning-databases/adult/adult.data'\n",
        "\n",
        "#!curl https://archive.ics.uci.edu/ml/machine-learning-databases/adult/adult.data\n",
        "\n"
      ],
      "execution_count": 0,
      "outputs": []
    },
    {
      "cell_type": "code",
      "metadata": {
        "id": "momPnDUtcd5d",
        "colab_type": "code",
        "colab": {}
      },
      "source": [
        "annealing_data_url = 'https://archive.ics.uci.edu/ml/machine-learning-databases/annealing/anneal.data'\n",
        "\n",
        "#!curl https://archive.ics.uci.edu/ml/machine-learning-databases/annealing/anneal.data\n",
        "\n",
        "!wget https://archive.ics.uci.edu/ml/machine-learning-databases/annealing/anneal.data\n",
        "!ls\n"
      ],
      "execution_count": 0,
      "outputs": []
    },
    {
      "cell_type": "code",
      "metadata": {
        "id": "X0xbp9MtdaFt",
        "colab_type": "code",
        "colab": {}
      },
      "source": [
        "annealing_data = pd.read_csv(annealing_data_url, header=None) #fixed the header issue with \"header=None\"\n",
        "\n",
        "annealing_data.sample(10)"
      ],
      "execution_count": 0,
      "outputs": []
    },
    {
      "cell_type": "code",
      "metadata": {
        "id": "s0NzXCyPdg3V",
        "colab_type": "code",
        "colab": {}
      },
      "source": [
        "annealing_data.count() #telling us there are 798 missing values, probably not a good data set.... lets find another one."
      ],
      "execution_count": 0,
      "outputs": []
    },
    {
      "cell_type": "code",
      "metadata": {
        "id": "ve_V0_twdtFb",
        "colab_type": "code",
        "colab": {}
      },
      "source": [
        "bridges_url = 'https://archive.ics.uci.edu/ml/machine-learning-databases/bridges/bridges.data.version1'\n",
        "\n",
        "!wget https://archive.ics.uci.edu/ml/machine-learning-databases/bridges/bridges.data.version1\n",
        "  \n",
        "bridges_data = pd.read_csv(bridges_url, header=None)\n",
        "\n",
        "bridges_data.sample(10)\n",
        "\n",
        "#alright this data looks better so far. but the header needs to be cleaned. "
      ],
      "execution_count": 0,
      "outputs": []
    },
    {
      "cell_type": "code",
      "metadata": {
        "id": "csDN1rA2eZaN",
        "colab_type": "code",
        "colab": {}
      },
      "source": [
        "#lets see how clean it is\n",
        "bridges_data.count() \n",
        "\n",
        "#ok cleaned the header error..."
      ],
      "execution_count": 0,
      "outputs": []
    },
    {
      "cell_type": "code",
      "metadata": {
        "id": "KC1zRFp0fZow",
        "colab_type": "code",
        "colab": {}
      },
      "source": [
        "bridges_data.describe() #gives you summary statistics of the numerical columns"
      ],
      "execution_count": 0,
      "outputs": []
    },
    {
      "cell_type": "code",
      "metadata": {
        "id": "q17Mji_eGD0T",
        "colab_type": "code",
        "colab": {}
      },
      "source": [
        "#bridges data looks nice, clean import and collection. "
      ],
      "execution_count": 0,
      "outputs": []
    },
    {
      "cell_type": "markdown",
      "metadata": {
        "id": "MZCxTwKuReV9",
        "colab_type": "text"
      },
      "source": [
        "## Stretch Goals - Other types and sources of data\n",
        "\n",
        "Not all data comes in a nice single file - for example, image classification involves handling lots of image files. You still will probably want labels for them, so you may have tabular data in addition to the image blobs - and the images may be reduced in resolution and even fit in a regular csv as a bunch of numbers.\n",
        "\n",
        "If you're interested in natural language processing and analyzing text, that is another example where, while it can be put in a csv, you may end up loading much larger raw data and generating features that can then be thought of in a more standard tabular fashion.\n",
        "\n",
        "Overall you will in the course of learning data science deal with loading data in a variety of ways. Another common way to get data is from a database - most modern applications are backed by one or more databases, which you can query to get data to analyze. We'll cover this more in our data engineering unit.\n",
        "\n",
        "How does data get in the database? Most applications generate logs - text files with lots and lots of records of each use of the application. Databases are often populated based on these files, but in some situations you may directly analyze log files. The usual way to do this is with command line (Unix) tools - command lines are intimidating, so don't expect to learn them all at once, but depending on your interests it can be useful to practice.\n",
        "\n",
        "One last major source of data is APIs: https://github.com/toddmotto/public-apis\n",
        "\n",
        "API stands for Application Programming Interface, and while originally meant e.g. the way an application interfaced with the GUI or other aspects of an operating system, now it largely refers to online services that let you query and retrieve data. You can essentially think of most of them as \"somebody else's database\" - you have (usually limited) access.\n",
        "\n",
        "*Stretch goal* - research one of the above extended forms of data/data loading. See if you can get a basic example working in a notebook. Image, text, or (public) APIs are probably more tractable - databases are interesting, but there aren't many publicly accessible and they require a great deal of setup."
      ]
    },
    {
      "cell_type": "code",
      "metadata": {
        "id": "f4QP6--JBXNK",
        "colab_type": "code",
        "colab": {
          "base_uri": "https://localhost:8080/",
          "height": 297
        },
        "outputId": "6f29c2a0-f469-4efd-8582-0d0ca4fe51ec"
      },
      "source": [
        "bat_data_url = 'https://www.datarepository.movebank.org/bitstream/handle/10255/move.938/Movement%20seasonality%20in%20a%20desert-dwelling%20bat%20revealed%20by%20miniature%20GPS%20loggers%20%28Conenna%20et%20al.%202019%29.csv?sequence=1'\n",
        "\n",
        "df = pd.read_csv(bat_data_url)\n",
        "\n",
        "df.head()\n",
        "\n",
        "#read me file can be found here for more explanation of the data, asked to cite data below\n",
        "#Conenna I, López-Baucells A, Rocha R, Ripperger S, Cabeza M (2019) Movement seasonality in a desert-dwelling bat revealed by miniature GPS loggers. Movement Ecology 7:27. doi:10.1186/s40462-019-0170-8"
      ],
      "execution_count": 22,
      "outputs": [
        {
          "output_type": "execute_result",
          "data": {
            "text/html": [
              "<div>\n",
              "<style scoped>\n",
              "    .dataframe tbody tr th:only-of-type {\n",
              "        vertical-align: middle;\n",
              "    }\n",
              "\n",
              "    .dataframe tbody tr th {\n",
              "        vertical-align: top;\n",
              "    }\n",
              "\n",
              "    .dataframe thead th {\n",
              "        text-align: right;\n",
              "    }\n",
              "</style>\n",
              "<table border=\"1\" class=\"dataframe\">\n",
              "  <thead>\n",
              "    <tr style=\"text-align: right;\">\n",
              "      <th></th>\n",
              "      <th>event-id</th>\n",
              "      <th>visible</th>\n",
              "      <th>timestamp</th>\n",
              "      <th>location-long</th>\n",
              "      <th>location-lat</th>\n",
              "      <th>gps:hdop</th>\n",
              "      <th>study-specific-measurement</th>\n",
              "      <th>sensor-type</th>\n",
              "      <th>individual-taxon-canonical-name</th>\n",
              "      <th>tag-local-identifier</th>\n",
              "      <th>individual-local-identifier</th>\n",
              "      <th>study-name</th>\n",
              "    </tr>\n",
              "  </thead>\n",
              "  <tbody>\n",
              "    <tr>\n",
              "      <th>0</th>\n",
              "      <td>11498115275</td>\n",
              "      <td>True</td>\n",
              "      <td>2017-04-15 21:00:00.000</td>\n",
              "      <td>36.39160</td>\n",
              "      <td>4.18659</td>\n",
              "      <td>1.4</td>\n",
              "      <td>Rainy</td>\n",
              "      <td>gps</td>\n",
              "      <td>Lavia frons</td>\n",
              "      <td>1Rf</td>\n",
              "      <td>1Rf</td>\n",
              "      <td>Movement seasonality in a desert-dwelling bat ...</td>\n",
              "    </tr>\n",
              "    <tr>\n",
              "      <th>1</th>\n",
              "      <td>11498115276</td>\n",
              "      <td>True</td>\n",
              "      <td>2017-04-15 22:00:00.000</td>\n",
              "      <td>36.39218</td>\n",
              "      <td>4.18681</td>\n",
              "      <td>1.6</td>\n",
              "      <td>Rainy</td>\n",
              "      <td>gps</td>\n",
              "      <td>Lavia frons</td>\n",
              "      <td>1Rf</td>\n",
              "      <td>1Rf</td>\n",
              "      <td>Movement seasonality in a desert-dwelling bat ...</td>\n",
              "    </tr>\n",
              "    <tr>\n",
              "      <th>2</th>\n",
              "      <td>11498115277</td>\n",
              "      <td>True</td>\n",
              "      <td>2017-04-15 23:00:00.000</td>\n",
              "      <td>36.39197</td>\n",
              "      <td>4.18653</td>\n",
              "      <td>0.9</td>\n",
              "      <td>Rainy</td>\n",
              "      <td>gps</td>\n",
              "      <td>Lavia frons</td>\n",
              "      <td>1Rf</td>\n",
              "      <td>1Rf</td>\n",
              "      <td>Movement seasonality in a desert-dwelling bat ...</td>\n",
              "    </tr>\n",
              "    <tr>\n",
              "      <th>3</th>\n",
              "      <td>11498115278</td>\n",
              "      <td>True</td>\n",
              "      <td>2017-04-16 00:00:00.000</td>\n",
              "      <td>36.39191</td>\n",
              "      <td>4.18657</td>\n",
              "      <td>1.6</td>\n",
              "      <td>Rainy</td>\n",
              "      <td>gps</td>\n",
              "      <td>Lavia frons</td>\n",
              "      <td>1Rf</td>\n",
              "      <td>1Rf</td>\n",
              "      <td>Movement seasonality in a desert-dwelling bat ...</td>\n",
              "    </tr>\n",
              "    <tr>\n",
              "      <th>4</th>\n",
              "      <td>11498115279</td>\n",
              "      <td>True</td>\n",
              "      <td>2017-04-16 01:00:00.000</td>\n",
              "      <td>36.39184</td>\n",
              "      <td>4.18651</td>\n",
              "      <td>1.7</td>\n",
              "      <td>Rainy</td>\n",
              "      <td>gps</td>\n",
              "      <td>Lavia frons</td>\n",
              "      <td>1Rf</td>\n",
              "      <td>1Rf</td>\n",
              "      <td>Movement seasonality in a desert-dwelling bat ...</td>\n",
              "    </tr>\n",
              "  </tbody>\n",
              "</table>\n",
              "</div>"
            ],
            "text/plain": [
              "      event-id  ...                                         study-name\n",
              "0  11498115275  ...  Movement seasonality in a desert-dwelling bat ...\n",
              "1  11498115276  ...  Movement seasonality in a desert-dwelling bat ...\n",
              "2  11498115277  ...  Movement seasonality in a desert-dwelling bat ...\n",
              "3  11498115278  ...  Movement seasonality in a desert-dwelling bat ...\n",
              "4  11498115279  ...  Movement seasonality in a desert-dwelling bat ...\n",
              "\n",
              "[5 rows x 12 columns]"
            ]
          },
          "metadata": {
            "tags": []
          },
          "execution_count": 22
        }
      ]
    },
    {
      "cell_type": "code",
      "metadata": {
        "id": "qi0zNF1WIlE9",
        "colab_type": "code",
        "colab": {
          "base_uri": "https://localhost:8080/",
          "height": 275
        },
        "outputId": "bd43c456-1fdd-42e3-c24b-8842297a198c"
      },
      "source": [
        "df.plot();"
      ],
      "execution_count": 24,
      "outputs": [
        {
          "output_type": "display_data",
          "data": {
            "image/png": "[encoded data removed]",
            "text/plain": [
              "<Figure size 432x288 with 1 Axes>"
            ]
          },
          "metadata": {
            "tags": []
          }
        }
      ]
    },
    {
      "cell_type": "code",
      "metadata": {
        "id": "Bl5bX4xWIvsy",
        "colab_type": "code",
        "colab": {
          "base_uri": "https://localhost:8080/",
          "height": 287
        },
        "outputId": "e22fabbb-cb91-4422-e9bc-6783b515ac7f"
      },
      "source": [
        "df.describe()"
      ],
      "execution_count": 25,
      "outputs": [
        {
          "output_type": "execute_result",
          "data": {
            "text/html": [
              "<div>\n",
              "<style scoped>\n",
              "    .dataframe tbody tr th:only-of-type {\n",
              "        vertical-align: middle;\n",
              "    }\n",
              "\n",
              "    .dataframe tbody tr th {\n",
              "        vertical-align: top;\n",
              "    }\n",
              "\n",
              "    .dataframe thead th {\n",
              "        text-align: right;\n",
              "    }\n",
              "</style>\n",
              "<table border=\"1\" class=\"dataframe\">\n",
              "  <thead>\n",
              "    <tr style=\"text-align: right;\">\n",
              "      <th></th>\n",
              "      <th>event-id</th>\n",
              "      <th>location-long</th>\n",
              "      <th>location-lat</th>\n",
              "      <th>gps:hdop</th>\n",
              "    </tr>\n",
              "  </thead>\n",
              "  <tbody>\n",
              "    <tr>\n",
              "      <th>count</th>\n",
              "      <td>1.801000e+03</td>\n",
              "      <td>1801.000000</td>\n",
              "      <td>1801.000000</td>\n",
              "      <td>1801.000000</td>\n",
              "    </tr>\n",
              "    <tr>\n",
              "      <th>mean</th>\n",
              "      <td>1.149812e+10</td>\n",
              "      <td>36.317855</td>\n",
              "      <td>4.196872</td>\n",
              "      <td>1.535869</td>\n",
              "    </tr>\n",
              "    <tr>\n",
              "      <th>std</th>\n",
              "      <td>5.204741e+02</td>\n",
              "      <td>0.059427</td>\n",
              "      <td>0.010965</td>\n",
              "      <td>1.034060</td>\n",
              "    </tr>\n",
              "    <tr>\n",
              "      <th>min</th>\n",
              "      <td>1.149812e+10</td>\n",
              "      <td>36.223460</td>\n",
              "      <td>4.176800</td>\n",
              "      <td>0.800000</td>\n",
              "    </tr>\n",
              "    <tr>\n",
              "      <th>25%</th>\n",
              "      <td>1.149812e+10</td>\n",
              "      <td>36.286900</td>\n",
              "      <td>4.186600</td>\n",
              "      <td>1.000000</td>\n",
              "    </tr>\n",
              "    <tr>\n",
              "      <th>50%</th>\n",
              "      <td>1.149812e+10</td>\n",
              "      <td>36.330570</td>\n",
              "      <td>4.196040</td>\n",
              "      <td>1.200000</td>\n",
              "    </tr>\n",
              "    <tr>\n",
              "      <th>75%</th>\n",
              "      <td>1.149812e+10</td>\n",
              "      <td>36.391230</td>\n",
              "      <td>4.204300</td>\n",
              "      <td>1.600000</td>\n",
              "    </tr>\n",
              "    <tr>\n",
              "      <th>max</th>\n",
              "      <td>1.149812e+10</td>\n",
              "      <td>36.396350</td>\n",
              "      <td>4.225470</td>\n",
              "      <td>9.900000</td>\n",
              "    </tr>\n",
              "  </tbody>\n",
              "</table>\n",
              "</div>"
            ],
            "text/plain": [
              "           event-id  location-long  location-lat     gps:hdop\n",
              "count  1.801000e+03    1801.000000   1801.000000  1801.000000\n",
              "mean   1.149812e+10      36.317855      4.196872     1.535869\n",
              "std    5.204741e+02       0.059427      0.010965     1.034060\n",
              "min    1.149812e+10      36.223460      4.176800     0.800000\n",
              "25%    1.149812e+10      36.286900      4.186600     1.000000\n",
              "50%    1.149812e+10      36.330570      4.196040     1.200000\n",
              "75%    1.149812e+10      36.391230      4.204300     1.600000\n",
              "max    1.149812e+10      36.396350      4.225470     9.900000"
            ]
          },
          "metadata": {
            "tags": []
          },
          "execution_count": 25
        }
      ]
    },
    {
      "cell_type": "code",
      "metadata": {
        "id": "c2lYY8gIIyuF",
        "colab_type": "code",
        "colab": {
          "base_uri": "https://localhost:8080/",
          "height": 247
        },
        "outputId": "8d1a09cf-1f4a-4f55-91d6-cbe86262d3b9"
      },
      "source": [
        "df.count()"
      ],
      "execution_count": 27,
      "outputs": [
        {
          "output_type": "execute_result",
          "data": {
            "text/plain": [
              "event-id                           1801\n",
              "visible                            1801\n",
              "timestamp                          1801\n",
              "location-long                      1801\n",
              "location-lat                       1801\n",
              "gps:hdop                           1801\n",
              "study-specific-measurement         1801\n",
              "sensor-type                        1801\n",
              "individual-taxon-canonical-name    1801\n",
              "tag-local-identifier               1801\n",
              "individual-local-identifier        1801\n",
              "study-name                         1801\n",
              "dtype: int64"
            ]
          },
          "metadata": {
            "tags": []
          },
          "execution_count": 27
        }
      ]
    },
    {
      "cell_type": "code",
      "metadata": {
        "id": "0pdqBnrnI_j8",
        "colab_type": "code",
        "colab": {
          "base_uri": "https://localhost:8080/",
          "height": 1000
        },
        "outputId": "c6e87fe4-3491-4663-e62c-ce191a227f0b"
      },
      "source": [
        "df[['location-long', 'location-lat', 'timestamp']]\n"
      ],
      "execution_count": 37,
      "outputs": [
        {
          "output_type": "execute_result",
          "data": {
            "text/html": [
              "<div>\n",
              "<style scoped>\n",
              "    .dataframe tbody tr th:only-of-type {\n",
              "        vertical-align: middle;\n",
              "    }\n",
              "\n",
              "    .dataframe tbody tr th {\n",
              "        vertical-align: top;\n",
              "    }\n",
              "\n",
              "    .dataframe thead th {\n",
              "        text-align: right;\n",
              "    }\n",
              "</style>\n",
              "<table border=\"1\" class=\"dataframe\">\n",
              "  <thead>\n",
              "    <tr style=\"text-align: right;\">\n",
              "      <th></th>\n",
              "      <th>location-long</th>\n",
              "      <th>location-lat</th>\n",
              "      <th>timestamp</th>\n",
              "    </tr>\n",
              "  </thead>\n",
              "  <tbody>\n",
              "    <tr>\n",
              "      <th>0</th>\n",
              "      <td>36.39160</td>\n",
              "      <td>4.18659</td>\n",
              "      <td>2017-04-15 21:00:00.000</td>\n",
              "    </tr>\n",
              "    <tr>\n",
              "      <th>1</th>\n",
              "      <td>36.39218</td>\n",
              "      <td>4.18681</td>\n",
              "      <td>2017-04-15 22:00:00.000</td>\n",
              "    </tr>\n",
              "    <tr>\n",
              "      <th>2</th>\n",
              "      <td>36.39197</td>\n",
              "      <td>4.18653</td>\n",
              "      <td>2017-04-15 23:00:00.000</td>\n",
              "    </tr>\n",
              "    <tr>\n",
              "      <th>3</th>\n",
              "      <td>36.39191</td>\n",
              "      <td>4.18657</td>\n",
              "      <td>2017-04-16 00:00:00.000</td>\n",
              "    </tr>\n",
              "    <tr>\n",
              "      <th>4</th>\n",
              "      <td>36.39184</td>\n",
              "      <td>4.18651</td>\n",
              "      <td>2017-04-16 01:00:00.000</td>\n",
              "    </tr>\n",
              "    <tr>\n",
              "      <th>5</th>\n",
              "      <td>36.39194</td>\n",
              "      <td>4.18654</td>\n",
              "      <td>2017-04-16 02:00:00.000</td>\n",
              "    </tr>\n",
              "    <tr>\n",
              "      <th>6</th>\n",
              "      <td>36.39192</td>\n",
              "      <td>4.18648</td>\n",
              "      <td>2017-04-16 02:30:00.000</td>\n",
              "    </tr>\n",
              "    <tr>\n",
              "      <th>7</th>\n",
              "      <td>36.39200</td>\n",
              "      <td>4.18639</td>\n",
              "      <td>2017-04-16 15:30:00.000</td>\n",
              "    </tr>\n",
              "    <tr>\n",
              "      <th>8</th>\n",
              "      <td>36.39197</td>\n",
              "      <td>4.18672</td>\n",
              "      <td>2017-04-16 16:30:00.000</td>\n",
              "    </tr>\n",
              "    <tr>\n",
              "      <th>9</th>\n",
              "      <td>36.39175</td>\n",
              "      <td>4.18613</td>\n",
              "      <td>2017-04-16 17:00:00.000</td>\n",
              "    </tr>\n",
              "    <tr>\n",
              "      <th>10</th>\n",
              "      <td>36.39160</td>\n",
              "      <td>4.18631</td>\n",
              "      <td>2017-04-16 17:30:00.000</td>\n",
              "    </tr>\n",
              "    <tr>\n",
              "      <th>11</th>\n",
              "      <td>36.39216</td>\n",
              "      <td>4.18612</td>\n",
              "      <td>2017-04-16 18:00:00.000</td>\n",
              "    </tr>\n",
              "    <tr>\n",
              "      <th>12</th>\n",
              "      <td>36.39161</td>\n",
              "      <td>4.18619</td>\n",
              "      <td>2017-04-16 18:30:00.000</td>\n",
              "    </tr>\n",
              "    <tr>\n",
              "      <th>13</th>\n",
              "      <td>36.39195</td>\n",
              "      <td>4.18652</td>\n",
              "      <td>2017-04-16 19:00:00.000</td>\n",
              "    </tr>\n",
              "    <tr>\n",
              "      <th>14</th>\n",
              "      <td>36.39158</td>\n",
              "      <td>4.18623</td>\n",
              "      <td>2017-04-16 20:00:00.000</td>\n",
              "    </tr>\n",
              "    <tr>\n",
              "      <th>15</th>\n",
              "      <td>36.39193</td>\n",
              "      <td>4.18660</td>\n",
              "      <td>2017-04-16 21:00:00.000</td>\n",
              "    </tr>\n",
              "    <tr>\n",
              "      <th>16</th>\n",
              "      <td>36.39189</td>\n",
              "      <td>4.18655</td>\n",
              "      <td>2017-04-16 22:00:00.000</td>\n",
              "    </tr>\n",
              "    <tr>\n",
              "      <th>17</th>\n",
              "      <td>36.39192</td>\n",
              "      <td>4.18651</td>\n",
              "      <td>2017-04-16 23:00:00.000</td>\n",
              "    </tr>\n",
              "    <tr>\n",
              "      <th>18</th>\n",
              "      <td>36.39124</td>\n",
              "      <td>4.18659</td>\n",
              "      <td>2017-04-17 00:00:00.000</td>\n",
              "    </tr>\n",
              "    <tr>\n",
              "      <th>19</th>\n",
              "      <td>36.39183</td>\n",
              "      <td>4.18655</td>\n",
              "      <td>2017-04-17 01:00:00.000</td>\n",
              "    </tr>\n",
              "    <tr>\n",
              "      <th>20</th>\n",
              "      <td>36.39115</td>\n",
              "      <td>4.18643</td>\n",
              "      <td>2017-04-17 02:00:00.000</td>\n",
              "    </tr>\n",
              "    <tr>\n",
              "      <th>21</th>\n",
              "      <td>36.39120</td>\n",
              "      <td>4.18683</td>\n",
              "      <td>2017-04-17 02:30:00.000</td>\n",
              "    </tr>\n",
              "    <tr>\n",
              "      <th>22</th>\n",
              "      <td>36.39182</td>\n",
              "      <td>4.18634</td>\n",
              "      <td>2017-04-17 16:00:00.000</td>\n",
              "    </tr>\n",
              "    <tr>\n",
              "      <th>23</th>\n",
              "      <td>36.39166</td>\n",
              "      <td>4.18694</td>\n",
              "      <td>2017-04-17 16:30:00.000</td>\n",
              "    </tr>\n",
              "    <tr>\n",
              "      <th>24</th>\n",
              "      <td>36.39168</td>\n",
              "      <td>4.18632</td>\n",
              "      <td>2017-04-17 17:00:00.000</td>\n",
              "    </tr>\n",
              "    <tr>\n",
              "      <th>25</th>\n",
              "      <td>36.39181</td>\n",
              "      <td>4.18606</td>\n",
              "      <td>2017-04-17 17:30:00.000</td>\n",
              "    </tr>\n",
              "    <tr>\n",
              "      <th>26</th>\n",
              "      <td>36.39192</td>\n",
              "      <td>4.18648</td>\n",
              "      <td>2017-04-17 18:00:00.000</td>\n",
              "    </tr>\n",
              "    <tr>\n",
              "      <th>27</th>\n",
              "      <td>36.39198</td>\n",
              "      <td>4.18629</td>\n",
              "      <td>2017-04-17 18:30:00.000</td>\n",
              "    </tr>\n",
              "    <tr>\n",
              "      <th>28</th>\n",
              "      <td>36.39198</td>\n",
              "      <td>4.18637</td>\n",
              "      <td>2017-04-17 19:00:00.000</td>\n",
              "    </tr>\n",
              "    <tr>\n",
              "      <th>29</th>\n",
              "      <td>36.39170</td>\n",
              "      <td>4.18629</td>\n",
              "      <td>2017-04-17 20:00:00.000</td>\n",
              "    </tr>\n",
              "    <tr>\n",
              "      <th>...</th>\n",
              "      <td>...</td>\n",
              "      <td>...</td>\n",
              "      <td>...</td>\n",
              "    </tr>\n",
              "    <tr>\n",
              "      <th>1771</th>\n",
              "      <td>36.23167</td>\n",
              "      <td>4.19211</td>\n",
              "      <td>2018-02-18 00:00:00.000</td>\n",
              "    </tr>\n",
              "    <tr>\n",
              "      <th>1772</th>\n",
              "      <td>36.23170</td>\n",
              "      <td>4.19202</td>\n",
              "      <td>2018-02-18 01:00:00.000</td>\n",
              "    </tr>\n",
              "    <tr>\n",
              "      <th>1773</th>\n",
              "      <td>36.23166</td>\n",
              "      <td>4.19158</td>\n",
              "      <td>2018-02-18 02:00:00.000</td>\n",
              "    </tr>\n",
              "    <tr>\n",
              "      <th>1774</th>\n",
              "      <td>36.23134</td>\n",
              "      <td>4.19189</td>\n",
              "      <td>2018-02-13 23:00:00.000</td>\n",
              "    </tr>\n",
              "    <tr>\n",
              "      <th>1775</th>\n",
              "      <td>36.23111</td>\n",
              "      <td>4.19037</td>\n",
              "      <td>2018-02-14 00:00:00.000</td>\n",
              "    </tr>\n",
              "    <tr>\n",
              "      <th>1776</th>\n",
              "      <td>36.23094</td>\n",
              "      <td>4.19022</td>\n",
              "      <td>2018-02-14 01:00:00.000</td>\n",
              "    </tr>\n",
              "    <tr>\n",
              "      <th>1777</th>\n",
              "      <td>36.23106</td>\n",
              "      <td>4.19032</td>\n",
              "      <td>2018-02-14 02:00:00.000</td>\n",
              "    </tr>\n",
              "    <tr>\n",
              "      <th>1778</th>\n",
              "      <td>36.23108</td>\n",
              "      <td>4.19040</td>\n",
              "      <td>2018-02-14 02:30:00.000</td>\n",
              "    </tr>\n",
              "    <tr>\n",
              "      <th>1779</th>\n",
              "      <td>36.23080</td>\n",
              "      <td>4.19052</td>\n",
              "      <td>2018-02-14 17:30:00.000</td>\n",
              "    </tr>\n",
              "    <tr>\n",
              "      <th>1780</th>\n",
              "      <td>36.23089</td>\n",
              "      <td>4.19058</td>\n",
              "      <td>2018-02-14 18:00:00.000</td>\n",
              "    </tr>\n",
              "    <tr>\n",
              "      <th>1781</th>\n",
              "      <td>36.23100</td>\n",
              "      <td>4.19038</td>\n",
              "      <td>2018-02-14 20:00:00.000</td>\n",
              "    </tr>\n",
              "    <tr>\n",
              "      <th>1782</th>\n",
              "      <td>36.23096</td>\n",
              "      <td>4.19035</td>\n",
              "      <td>2018-02-14 21:00:00.000</td>\n",
              "    </tr>\n",
              "    <tr>\n",
              "      <th>1783</th>\n",
              "      <td>36.23719</td>\n",
              "      <td>4.18471</td>\n",
              "      <td>2018-02-14 22:00:00.000</td>\n",
              "    </tr>\n",
              "    <tr>\n",
              "      <th>1784</th>\n",
              "      <td>36.23121</td>\n",
              "      <td>4.19035</td>\n",
              "      <td>2018-02-14 23:00:00.000</td>\n",
              "    </tr>\n",
              "    <tr>\n",
              "      <th>1785</th>\n",
              "      <td>36.23110</td>\n",
              "      <td>4.19026</td>\n",
              "      <td>2018-02-15 02:00:00.000</td>\n",
              "    </tr>\n",
              "    <tr>\n",
              "      <th>1786</th>\n",
              "      <td>36.23107</td>\n",
              "      <td>4.19033</td>\n",
              "      <td>2018-02-15 02:30:00.000</td>\n",
              "    </tr>\n",
              "    <tr>\n",
              "      <th>1787</th>\n",
              "      <td>36.23064</td>\n",
              "      <td>4.19097</td>\n",
              "      <td>2018-02-15 16:30:00.000</td>\n",
              "    </tr>\n",
              "    <tr>\n",
              "      <th>1788</th>\n",
              "      <td>36.23061</td>\n",
              "      <td>4.19093</td>\n",
              "      <td>2018-02-15 17:00:00.000</td>\n",
              "    </tr>\n",
              "    <tr>\n",
              "      <th>1789</th>\n",
              "      <td>36.23073</td>\n",
              "      <td>4.19089</td>\n",
              "      <td>2018-02-15 17:30:00.000</td>\n",
              "    </tr>\n",
              "    <tr>\n",
              "      <th>1790</th>\n",
              "      <td>36.23064</td>\n",
              "      <td>4.19088</td>\n",
              "      <td>2018-02-15 18:00:00.000</td>\n",
              "    </tr>\n",
              "    <tr>\n",
              "      <th>1791</th>\n",
              "      <td>36.23105</td>\n",
              "      <td>4.19172</td>\n",
              "      <td>2018-02-15 19:00:00.000</td>\n",
              "    </tr>\n",
              "    <tr>\n",
              "      <th>1792</th>\n",
              "      <td>36.23121</td>\n",
              "      <td>4.19166</td>\n",
              "      <td>2018-02-15 20:00:00.000</td>\n",
              "    </tr>\n",
              "    <tr>\n",
              "      <th>1793</th>\n",
              "      <td>36.23114</td>\n",
              "      <td>4.19144</td>\n",
              "      <td>2018-02-15 21:00:00.000</td>\n",
              "    </tr>\n",
              "    <tr>\n",
              "      <th>1794</th>\n",
              "      <td>36.23108</td>\n",
              "      <td>4.19027</td>\n",
              "      <td>2018-02-15 22:00:00.000</td>\n",
              "    </tr>\n",
              "    <tr>\n",
              "      <th>1795</th>\n",
              "      <td>36.23103</td>\n",
              "      <td>4.19031</td>\n",
              "      <td>2018-02-15 23:00:00.000</td>\n",
              "    </tr>\n",
              "    <tr>\n",
              "      <th>1796</th>\n",
              "      <td>36.23105</td>\n",
              "      <td>4.19028</td>\n",
              "      <td>2018-02-16 00:00:00.000</td>\n",
              "    </tr>\n",
              "    <tr>\n",
              "      <th>1797</th>\n",
              "      <td>36.23104</td>\n",
              "      <td>4.19029</td>\n",
              "      <td>2018-02-16 01:00:00.000</td>\n",
              "    </tr>\n",
              "    <tr>\n",
              "      <th>1798</th>\n",
              "      <td>36.23110</td>\n",
              "      <td>4.19032</td>\n",
              "      <td>2018-02-16 02:00:00.000</td>\n",
              "    </tr>\n",
              "    <tr>\n",
              "      <th>1799</th>\n",
              "      <td>36.23106</td>\n",
              "      <td>4.19031</td>\n",
              "      <td>2018-02-16 02:30:00.000</td>\n",
              "    </tr>\n",
              "    <tr>\n",
              "      <th>1800</th>\n",
              "      <td>36.23077</td>\n",
              "      <td>4.19083</td>\n",
              "      <td>2018-02-16 15:00:00.000</td>\n",
              "    </tr>\n",
              "  </tbody>\n",
              "</table>\n",
              "<p>1801 rows × 3 columns</p>\n",
              "</div>"
            ],
            "text/plain": [
              "      location-long  location-lat                timestamp\n",
              "0          36.39160       4.18659  2017-04-15 21:00:00.000\n",
              "1          36.39218       4.18681  2017-04-15 22:00:00.000\n",
              "2          36.39197       4.18653  2017-04-15 23:00:00.000\n",
              "3          36.39191       4.18657  2017-04-16 00:00:00.000\n",
              "4          36.39184       4.18651  2017-04-16 01:00:00.000\n",
              "5          36.39194       4.18654  2017-04-16 02:00:00.000\n",
              "6          36.39192       4.18648  2017-04-16 02:30:00.000\n",
              "7          36.39200       4.18639  2017-04-16 15:30:00.000\n",
              "8          36.39197       4.18672  2017-04-16 16:30:00.000\n",
              "9          36.39175       4.18613  2017-04-16 17:00:00.000\n",
              "10         36.39160       4.18631  2017-04-16 17:30:00.000\n",
              "11         36.39216       4.18612  2017-04-16 18:00:00.000\n",
              "12         36.39161       4.18619  2017-04-16 18:30:00.000\n",
              "13         36.39195       4.18652  2017-04-16 19:00:00.000\n",
              "14         36.39158       4.18623  2017-04-16 20:00:00.000\n",
              "15         36.39193       4.18660  2017-04-16 21:00:00.000\n",
              "16         36.39189       4.18655  2017-04-16 22:00:00.000\n",
              "17         36.39192       4.18651  2017-04-16 23:00:00.000\n",
              "18         36.39124       4.18659  2017-04-17 00:00:00.000\n",
              "19         36.39183       4.18655  2017-04-17 01:00:00.000\n",
              "20         36.39115       4.18643  2017-04-17 02:00:00.000\n",
              "21         36.39120       4.18683  2017-04-17 02:30:00.000\n",
              "22         36.39182       4.18634  2017-04-17 16:00:00.000\n",
              "23         36.39166       4.18694  2017-04-17 16:30:00.000\n",
              "24         36.39168       4.18632  2017-04-17 17:00:00.000\n",
              "25         36.39181       4.18606  2017-04-17 17:30:00.000\n",
              "26         36.39192       4.18648  2017-04-17 18:00:00.000\n",
              "27         36.39198       4.18629  2017-04-17 18:30:00.000\n",
              "28         36.39198       4.18637  2017-04-17 19:00:00.000\n",
              "29         36.39170       4.18629  2017-04-17 20:00:00.000\n",
              "...             ...           ...                      ...\n",
              "1771       36.23167       4.19211  2018-02-18 00:00:00.000\n",
              "1772       36.23170       4.19202  2018-02-18 01:00:00.000\n",
              "1773       36.23166       4.19158  2018-02-18 02:00:00.000\n",
              "1774       36.23134       4.19189  2018-02-13 23:00:00.000\n",
              "1775       36.23111       4.19037  2018-02-14 00:00:00.000\n",
              "1776       36.23094       4.19022  2018-02-14 01:00:00.000\n",
              "1777       36.23106       4.19032  2018-02-14 02:00:00.000\n",
              "1778       36.23108       4.19040  2018-02-14 02:30:00.000\n",
              "1779       36.23080       4.19052  2018-02-14 17:30:00.000\n",
              "1780       36.23089       4.19058  2018-02-14 18:00:00.000\n",
              "1781       36.23100       4.19038  2018-02-14 20:00:00.000\n",
              "1782       36.23096       4.19035  2018-02-14 21:00:00.000\n",
              "1783       36.23719       4.18471  2018-02-14 22:00:00.000\n",
              "1784       36.23121       4.19035  2018-02-14 23:00:00.000\n",
              "1785       36.23110       4.19026  2018-02-15 02:00:00.000\n",
              "1786       36.23107       4.19033  2018-02-15 02:30:00.000\n",
              "1787       36.23064       4.19097  2018-02-15 16:30:00.000\n",
              "1788       36.23061       4.19093  2018-02-15 17:00:00.000\n",
              "1789       36.23073       4.19089  2018-02-15 17:30:00.000\n",
              "1790       36.23064       4.19088  2018-02-15 18:00:00.000\n",
              "1791       36.23105       4.19172  2018-02-15 19:00:00.000\n",
              "1792       36.23121       4.19166  2018-02-15 20:00:00.000\n",
              "1793       36.23114       4.19144  2018-02-15 21:00:00.000\n",
              "1794       36.23108       4.19027  2018-02-15 22:00:00.000\n",
              "1795       36.23103       4.19031  2018-02-15 23:00:00.000\n",
              "1796       36.23105       4.19028  2018-02-16 00:00:00.000\n",
              "1797       36.23104       4.19029  2018-02-16 01:00:00.000\n",
              "1798       36.23110       4.19032  2018-02-16 02:00:00.000\n",
              "1799       36.23106       4.19031  2018-02-16 02:30:00.000\n",
              "1800       36.23077       4.19083  2018-02-16 15:00:00.000\n",
              "\n",
              "[1801 rows x 3 columns]"
            ]
          },
          "metadata": {
            "tags": []
          },
          "execution_count": 37
        }
      ]
    },
    {
      "cell_type": "code",
      "metadata": {
        "id": "6xhkMnktJ3Mm",
        "colab_type": "code",
        "colab": {
          "base_uri": "https://localhost:8080/",
          "height": 283
        },
        "outputId": "fb60aae5-bd67-4815-ea7e-10a3e9e68a68"
      },
      "source": [
        "#birds eye view of latitude and longitudinal movements of bats as mapped from the GPS\n",
        "df.plot(x='location-long', y='location-lat', kind='scatter') ;"
      ],
      "execution_count": 39,
      "outputs": [
        {
          "output_type": "display_data",
          "data": {
            "image/png": "[encoded data removed]",
            "text/plain": [
              "<Figure size 432x288 with 1 Axes>"
            ]
          },
          "metadata": {
            "tags": []
          }
        }
      ]
    }
  ]
}