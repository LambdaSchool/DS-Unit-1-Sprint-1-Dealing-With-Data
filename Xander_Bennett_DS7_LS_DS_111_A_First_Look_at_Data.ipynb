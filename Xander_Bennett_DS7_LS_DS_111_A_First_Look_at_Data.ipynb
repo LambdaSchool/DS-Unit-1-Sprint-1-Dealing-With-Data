{
  "nbformat": 4,
  "nbformat_minor": 0,
  "metadata": {
    "colab": {
      "name": "Xander Bennett -  LS_DS_111_A_First_Look_at_Data.ipynb",
      "version": "0.3.2",
      "provenance": [],
      "include_colab_link": true
    },
    "kernelspec": {
      "name": "python3",
      "display_name": "Python 3"
    }
  },
  "cells": [
    {
      "cell_type": "markdown",
      "metadata": {
        "id": "view-in-github",
        "colab_type": "text"
      },
      "source": [
        "<a href=\"https://colab.research.google.com/github/xander-bennett/DS-Unit-1-Sprint-1-Dealing-With-Data/blob/master/Xander_Bennett_DS7_LS_DS_111_A_First_Look_at_Data.ipynb\" target=\"_parent\"><img src=\"https://colab.research.google.com/assets/colab-badge.svg\" alt=\"Open In Colab\"/></a>"
      ]
    },
    {
      "cell_type": "markdown",
      "metadata": {
        "id": "Okfr_uhwhS1X",
        "colab_type": "text"
      },
      "source": [
        "# Lambda School Data Science - A First Look at Data\n",
        "\n"
      ]
    },
    {
      "cell_type": "markdown",
      "metadata": {
        "id": "9dtJETFRhnOG",
        "colab_type": "text"
      },
      "source": [
        "## Lecture - let's explore Python DS libraries and examples!\n",
        "\n",
        "The Python Data Science ecosystem is huge. You've seen some of the big pieces - pandas, scikit-learn, matplotlib. What parts do you want to see more of?"
      ]
    },
    {
      "cell_type": "code",
      "metadata": {
        "id": "WiBkgmPJhmhE",
        "colab_type": "code",
        "colab": {}
      },
      "source": [
        "# TODO - we'll be doing this live, taking requests\n",
        "# and reproducing what it is to look up and learn things"
      ],
      "execution_count": 0,
      "outputs": []
    },
    {
      "cell_type": "markdown",
      "metadata": {
        "id": "lOqaPds9huME",
        "colab_type": "text"
      },
      "source": [
        "## Assignment - now it's your turn\n",
        "\n",
        "Pick at least one Python DS library, and using documentation/examples reproduce in this notebook something cool. It's OK if you don't fully understand it or get it 100% working, but do put in effort and look things up."
      ]
    },
    {
      "cell_type": "code",
      "metadata": {
        "id": "TGUS79cOhPWj",
        "colab_type": "code",
        "colab": {}
      },
      "source": [
        "# TODO - your code here\n",
        "# Use what we did live in lecture as an example"
      ],
      "execution_count": 0,
      "outputs": []
    },
    {
      "cell_type": "code",
      "metadata": {
        "id": "lqf0a7C4Zxup",
        "colab_type": "code",
        "colab": {}
      },
      "source": [
        "import numpy as np\n",
        "import scipy.stats as st\n",
        "import sklearn.linear_model as lm\n",
        "import matplotlib.pyplot as plt\n",
        "%matplotlib inline"
      ],
      "execution_count": 0,
      "outputs": []
    },
    {
      "cell_type": "code",
      "metadata": {
        "id": "0aUNDfWCZ5aP",
        "colab_type": "code",
        "colab": {}
      },
      "source": [
        "def f(x):\n",
        "  return np.exp(3 * x)"
      ],
      "execution_count": 0,
      "outputs": []
    },
    {
      "cell_type": "code",
      "metadata": {
        "id": "3JAGYe0PZ9-s",
        "colab_type": "code",
        "colab": {}
      },
      "source": [
        "x_tr = np.linspace(0., 2, 200)\n",
        "y_tr = f(x_tr)"
      ],
      "execution_count": 0,
      "outputs": []
    },
    {
      "cell_type": "code",
      "metadata": {
        "id": "I5m1Sf_kfCkc",
        "colab_type": "code",
        "colab": {}
      },
      "source": [
        "x = np.array([0, .1, 2, .3, .4, .5, .8, .9, .12, .6])\n",
        "y =f(x) + 2 * np.random.randn(len(x))"
      ],
      "execution_count": 0,
      "outputs": []
    },
    {
      "cell_type": "code",
      "metadata": {
        "id": "UunyA8JOfWMc",
        "colab_type": "code",
        "outputId": "ca42aea2-f7a8-494d-dca4-57ef7f1771e5",
        "colab": {
          "base_uri": "https://localhost:8080/",
          "height": 244
        }
      },
      "source": [
        "fig, ax = plt.subplots(1, 1, figsize=(6,3))\n",
        "ax.plot(x_tr, y_tr, '--k')\n",
        "ax.plot(x, y, 'ok', ms=10)\n",
        "ax.set_xlim(0, 1.5)\n",
        "ax.set_ylim(-10, 80)\n",
        "ax.set_title('Generative model')"
      ],
      "execution_count": 0,
      "outputs": [
        {
          "output_type": "execute_result",
          "data": {
            "text/plain": [
              "Text(0.5, 1.0, 'Generative model')"
            ]
          },
          "metadata": {
            "tags": []
          },
          "execution_count": 9
        },
        {
          "output_type": "display_data",
          "data": {
            "image/png": "[encoded data removed]",
            "text/plain": [
              "<Figure size 432x216 with 1 Axes>"
            ]
          },
          "metadata": {
            "tags": []
          }
        }
      ]
    },
    {
      "cell_type": "code",
      "metadata": {
        "id": "DYNHK-KkgNnf",
        "colab_type": "code",
        "colab": {}
      },
      "source": [
        "# Now, we use scikit learn to fit a linear model into the data. We'll need to create the model, then fit the model to our data, then predict values from the trained model."
      ],
      "execution_count": 0,
      "outputs": []
    },
    {
      "cell_type": "code",
      "metadata": {
        "id": "7-rtTvUBgn5f",
        "colab_type": "code",
        "colab": {}
      },
      "source": [
        "lr = lm.LinearRegression()\n",
        "lr.fit(x[:, np.newaxis], y)\n",
        "y_lr = lr.predict(x_tr[:, np.newaxis])"
      ],
      "execution_count": 0,
      "outputs": []
    },
    {
      "cell_type": "code",
      "metadata": {
        "id": "gwS8qrOAg8PM",
        "colab_type": "code",
        "outputId": "18e7e6fb-45b0-4b43-c55b-c4d4a089f6f2",
        "colab": {
          "base_uri": "https://localhost:8080/",
          "height": 244
        }
      },
      "source": [
        "# Now to plot the results of the trained linear model\n",
        "# Just pasting the code from up above, but changing the title and adding the regression line\n",
        "fig, ax = plt.subplots(1, 1, figsize=(6,3))\n",
        "ax.plot(x_tr, y_tr, '--k')\n",
        "ax.plot(x_tr, y_lr, 'b')\n",
        "ax.plot(x, y, 'ok', ms=10)\n",
        "ax.set_xlim(0, 1.5)\n",
        "ax.set_ylim(-10, 80)\n",
        "ax.set_title('Linear Regression')"
      ],
      "execution_count": 0,
      "outputs": [
        {
          "output_type": "execute_result",
          "data": {
            "text/plain": [
              "Text(0.5, 1.0, 'Linear Regression')"
            ]
          },
          "metadata": {
            "tags": []
          },
          "execution_count": 13
        },
        {
          "output_type": "display_data",
          "data": {
            "image/png": "[encoded data removed]",
            "text/plain": [
              "<Figure size 432x216 with 1 Axes>"
            ]
          },
          "metadata": {
            "tags": []
          }
        }
      ]
    },
    {
      "cell_type": "code",
      "metadata": {
        "id": "A5Gs9GMdkw_v",
        "colab_type": "code",
        "outputId": "b4a45c0e-5acb-4bfc-caa9-f3ffbbfbfdf6",
        "colab": {
          "base_uri": "https://localhost:8080/",
          "height": 312
        }
      },
      "source": [
        "lrp = lm.LinearRegression()\n",
        "fig, ax = plt.subplots(1, 1, figsize=(6, 3))\n",
        "ax.plot(x_tr, y_tr, '--k')\n",
        "\n",
        "for deg, s in zip([2, 5], ['-', '.']):\n",
        "    lrp.fit(np.vander(x, deg + 1), y)\n",
        "    y_lrp = lrp.predict(np.vander(x_tr, deg + 1))\n",
        "    ax.plot(x_tr, y_lrp, s,\n",
        "            label=f'degree {deg}')\n",
        "    ax.legend(loc=2)\n",
        "    ax.set_xlim(0, 1.5)\n",
        "    ax.set_ylim(-10, 80)\n",
        "    # Print the model's coefficients.\n",
        "    print(f'Coefficients, degree {deg}:\\n\\t',\n",
        "          ' '.join(f'{c:.2f}' for c in lrp.coef_))\n",
        "ax.plot(x, y, 'ok', ms=10)\n",
        "ax.set_title(\"Linear regression\")"
      ],
      "execution_count": 0,
      "outputs": [
        {
          "output_type": "stream",
          "text": [
            "Coefficients, degree 2:\n",
            "\t 155.19 -116.99 0.00\n",
            "Coefficients, degree 5:\n",
            "\t 160.73 -562.84 678.63 -321.80 62.53 0.00\n"
          ],
          "name": "stdout"
        },
        {
          "output_type": "execute_result",
          "data": {
            "text/plain": [
              "Text(0.5, 1.0, 'Linear regression')"
            ]
          },
          "metadata": {
            "tags": []
          },
          "execution_count": 14
        },
        {
          "output_type": "display_data",
          "data": {
            "image/png": "[encoded data removed]",
            "text/plain": [
              "<Figure size 432x216 with 1 Axes>"
            ]
          },
          "metadata": {
            "tags": []
          }
        }
      ]
    },
    {
      "cell_type": "code",
      "metadata": {
        "id": "HDJMVS6nk9z9",
        "colab_type": "code",
        "outputId": "d1c0bec5-9e9a-4b7b-9dda-2353b0763a8f",
        "colab": {
          "base_uri": "https://localhost:8080/",
          "height": 278
        }
      },
      "source": [
        "ridge = lm.RidgeCV()\n",
        "\n",
        "fig, ax = plt.subplots(1, 1, figsize=(6, 3))\n",
        "ax.plot(x_tr, y_tr, '--k')\n",
        "\n",
        "for deg, s in zip([2, 5], ['-', '.']):\n",
        "    ridge.fit(np.vander(x, deg + 1), y)\n",
        "    y_ridge = ridge.predict(np.vander(x_tr, deg + 1))\n",
        "    ax.plot(x_tr, y_ridge, s,\n",
        "            label='degree ' + str(deg))\n",
        "    ax.legend(loc=2)\n",
        "    ax.set_xlim(0, 1.5)\n",
        "    ax.set_ylim(-10, 80)\n",
        "    # Print the model's coefficients.\n",
        "    print(f'Coefficients, degree {deg}:',\n",
        "          ' '.join(f'{c:.2f}' for c in ridge.coef_))\n",
        "\n",
        "ax.plot(x, y, 'ok', ms=10)\n",
        "ax.set_title(\"Ridge regression\")"
      ],
      "execution_count": 0,
      "outputs": [
        {
          "output_type": "stream",
          "text": [
            "Coefficients, degree 2: 134.08 -72.90 0.00\n",
            "Coefficients, degree 5: 9.63 4.06 1.81 1.61 4.25 0.00\n"
          ],
          "name": "stdout"
        },
        {
          "output_type": "execute_result",
          "data": {
            "text/plain": [
              "Text(0.5, 1.0, 'Ridge regression')"
            ]
          },
          "metadata": {
            "tags": []
          },
          "execution_count": 15
        },
        {
          "output_type": "display_data",
          "data": {
            "image/png": "[encoded data removed]",
            "text/plain": [
              "<Figure size 432x216 with 1 Axes>"
            ]
          },
          "metadata": {
            "tags": []
          }
        }
      ]
    },
    {
      "cell_type": "markdown",
      "metadata": {
        "id": "BT9gdS7viJZa",
        "colab_type": "text"
      },
      "source": [
        "### Assignment questions\n",
        "\n",
        "After you've worked on some code, answer the following questions in this text block:\n",
        "\n",
        "1.  Describe in a paragraph of text what you did and why, as if you were writing an email to somebody interested but nontechnical.\n",
        "\n",
        "2.  What was the most challenging part of what you did?\n",
        "\n",
        "3.  What was the most interesting thing you learned?\n",
        "\n",
        "4.  What area would you like to explore with more time?\n",
        "\n",
        "\n"
      ]
    },
    {
      "cell_type": "markdown",
      "metadata": {
        "id": "rnpCmjRjlEEF",
        "colab_type": "text"
      },
      "source": [
        "1)Essentially what i was doing here was supervising the learning of a model to come up with a more precise prediction of where these data points could go. This is good for cross-validation by us and saves me time as this model becomes more accurate with its predictions. Once I can confirm that this is informing my decisions in a vacuum, We as a team can use it to inform our decisions as a company.\n",
        "\n",
        "\n",
        "2) The hardest thing about plugging this in was trying to grasp the nuances of everything that I was typing into the notebook. I would see a flash of something I understood, but this hasn't stuck to me yet. I had made some typos that produced errors, so combing over every piece was a part of the process, too.\n",
        "\n",
        "3) Just for fun, I input different data points into this exercise to see what would happen, and the linear regression definitely took a turn. It clued me in to how important it is to remember that whatever problem you're looking to solve, creating a framework that solves only that one problem will create problems if you're looking to replicate the process with different problems.\n",
        "\n",
        "4) Machine learning is fascinating, and I spent most of this assignment block exploring interesting topics for which others had posted projects, such as pokemon, NFL team rankings, and gun violence. This was exciting becauseI have tons of interests and I can apply DS to all of them to learn more. "
      ]
    },
    {
      "cell_type": "markdown",
      "metadata": {
        "id": "_XXg2crAipwP",
        "colab_type": "text"
      },
      "source": [
        "## Stretch goals and resources\n",
        "\n",
        "Following are *optional* things for you to take a look at. Focus on the above assignment first, and make sure to commit and push your changes to GitHub (and since this is the first assignment of the sprint, open a PR as well).\n",
        "\n",
        "- [pandas documentation](https://pandas.pydata.org/pandas-docs/stable/)\n",
        "- [scikit-learn documentation](http://scikit-learn.org/stable/documentation.html)\n",
        "- [matplotlib documentation](https://matplotlib.org/contents.html)\n",
        "- [Awesome Data Science](https://github.com/bulutyazilim/awesome-datascience) - a list of many types of DS resources\n",
        "\n",
        "Stretch goals:\n",
        "\n",
        "- Find and read blogs, walkthroughs, and other examples of people working through cool things with data science - and share with your classmates!\n",
        "- Write a blog post (Medium is a popular place to publish) introducing yourself as somebody learning data science, and talking about what you've learned already and what you're excited to learn more about."
      ]
    }
  ]
}