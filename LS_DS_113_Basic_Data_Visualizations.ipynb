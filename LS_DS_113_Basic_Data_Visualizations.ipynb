{
  "nbformat": 4,
  "nbformat_minor": 0,
  "metadata": {
    "colab": {
      "name": "LS_DS_113_Basic_Data_Visualizations.ipynb",
      "version": "0.3.2",
      "provenance": [],
      "include_colab_link": true
    },
    "kernelspec": {
      "name": "python3",
      "display_name": "Python 3"
    }
  },
  "cells": [
    {
      "cell_type": "markdown",
      "metadata": {
        "id": "view-in-github",
        "colab_type": "text"
      },
      "source": [
        "<a href=\"https://colab.research.google.com/github/tortas/DS-Unit-1-Sprint-1-Dealing-With-Data/blob/master/LS_DS_113_Basic_Data_Visualizations.ipynb\" target=\"_parent\"><img src=\"https://colab.research.google.com/assets/colab-badge.svg\" alt=\"Open In Colab\"/></a>"
      ]
    },
    {
      "metadata": {
        "id": "wWVfNZd3Ss1o",
        "colab_type": "text"
      },
      "cell_type": "markdown",
      "source": [
        "# Lambda School Data Science - Basic Data Visualizations\n",
        "\n",
        "A picture is worth a thousand words. So, without any further ado:"
      ]
    },
    {
      "metadata": {
        "id": "Oxn-_d6VUXVz",
        "colab_type": "text"
      },
      "cell_type": "markdown",
      "source": [
        "## Lecture Example"
      ]
    },
    {
      "metadata": {
        "id": "IG1v46jnGkax",
        "colab_type": "code",
        "colab": {}
      },
      "cell_type": "code",
      "source": [
        "# https://matplotlib.org/gallery/lines_bars_and_markers/barh.html#sphx-glr-gallery-lines-bars-and-markers-barh-py\n",
        "import matplotlib.pyplot as plt\n",
        "import numpy as np\n",
        "\n",
        "# Fixing random state for reproducibility\n",
        "np.random.seed(19680801)\n",
        "\n",
        "\n",
        "plt.rcdefaults()\n",
        "fig, ax = plt.subplots()\n",
        "\n",
        "# Example data\n",
        "people = ('Tom', 'Dick', 'Harry', 'Slim', 'Jim')\n",
        "y_pos = np.arange(len(people))\n",
        "performance = 3 + 10 * np.random.rand(len(people))\n",
        "error = np.random.rand(len(people))\n",
        "\n",
        "ax.barh(y_pos, performance, xerr=error, align='center',\n",
        "        color='green', ecolor='black')\n",
        "ax.set_yticks(y_pos)\n",
        "ax.set_yticklabels(people)\n",
        "ax.invert_yaxis()  # labels read top-to-bottom\n",
        "ax.set_xlabel('Performance')\n",
        "ax.set_title('How fast do you want to go today?')\n",
        "\n",
        "plt.show()"
      ],
      "execution_count": 0,
      "outputs": []
    },
    {
      "metadata": {
        "id": "TjsyJ_45SzF1",
        "colab_type": "text"
      },
      "cell_type": "markdown",
      "source": [
        "The above is fairly clear. It's a lot less clear as a piechart."
      ]
    },
    {
      "metadata": {
        "id": "DWcnKAt4H9PT",
        "colab_type": "code",
        "colab": {}
      },
      "cell_type": "code",
      "source": [
        "# Adapted to piechart\n",
        "# https://matplotlib.org/gallery/pie_and_polar_charts/pie_features.html#sphx-glr-gallery-pie-and-polar-charts-pie-features-py\n",
        "\n",
        "import matplotlib.pyplot as plt\n",
        "import numpy as np\n",
        "\n",
        "# Fixing random state for reproducibility\n",
        "np.random.seed(19680801)\n",
        "\n",
        "\n",
        "plt.rcdefaults()\n",
        "fig, ax = plt.subplots()\n",
        "\n",
        "# Example data\n",
        "people = ('Tom', 'Dick', 'Harry', 'Slim', 'Jim')\n",
        "performance = 3 + 10 * np.random.rand(len(people))\n",
        "error = np.random.rand(len(people))\n",
        "\n",
        "ax.pie(performance, labels=people)\n",
        "ax.set_title('How fast do you want to go today?')\n",
        "\n",
        "plt.show()\n"
      ],
      "execution_count": 0,
      "outputs": []
    },
    {
      "metadata": {
        "id": "4QpzXDhDS7MO",
        "colab_type": "text"
      },
      "cell_type": "markdown",
      "source": [
        "What about continuous data? Scatterplot is a natural fit, and higher dimensions can be represented by size, color, or other visual aspects of the points."
      ]
    },
    {
      "metadata": {
        "id": "Y26IktTfIZmO",
        "colab_type": "code",
        "colab": {}
      },
      "cell_type": "code",
      "source": [
        "# https://matplotlib.org/gallery/lines_bars_and_markers/scatter_demo2.html#sphx-glr-gallery-lines-bars-and-markers-scatter-demo2-py\n",
        "import numpy as np\n",
        "import matplotlib.pyplot as plt\n",
        "import matplotlib.cbook as cbook\n",
        "\n",
        "# Load a numpy record array from yahoo csv data with fields date, open, close,\n",
        "# volume, adj_close from the mpl-data/example directory. The record array\n",
        "# stores the date as an np.datetime64 with a day unit ('D') in the date column.\n",
        "with cbook.get_sample_data('goog.npz') as datafile:\n",
        "    price_data = np.load(datafile)['price_data'].view(np.recarray)\n",
        "price_data = price_data[-250:]  # get the most recent 250 trading days\n",
        "\n",
        "delta1 = np.diff(price_data.adj_close) / price_data.adj_close[:-1]\n",
        "\n",
        "# Marker size in units of points^2\n",
        "volume = (15 * price_data.volume[:-2] / price_data.volume[0])**2\n",
        "close = 0.003 * price_data.close[:-2] / 0.003 * price_data.open[:-2]\n",
        "\n",
        "fig, ax = plt.subplots()\n",
        "ax.scatter(delta1[:-1], delta1[1:], c=close, s=volume, alpha=0.5)\n",
        "\n",
        "ax.set_xlabel(r'$\\Delta_i$', fontsize=15)\n",
        "ax.set_ylabel(r'$\\Delta_{i+1}$', fontsize=15)\n",
        "ax.set_title('Volume and percent change')\n",
        "\n",
        "ax.grid(True)\n",
        "fig.tight_layout()\n",
        "\n",
        "plt.show()"
      ],
      "execution_count": 0,
      "outputs": []
    },
    {
      "metadata": {
        "id": "vG6TANwHTDjg",
        "colab_type": "text"
      },
      "cell_type": "markdown",
      "source": [
        "An alternative way to represent higher dimensional data is with 3D scatterplots - but these are pretty hard to look at. Specifically, if it's not interactive (you can't drag it and move it around), your eye may not be able to distinguish which spatial dimension is separating two specific points."
      ]
    },
    {
      "metadata": {
        "id": "DaEiVQD2K0T1",
        "colab_type": "code",
        "colab": {}
      },
      "cell_type": "code",
      "source": [
        "# https://matplotlib.org/gallery/mplot3d/scatter3d.html#sphx-glr-gallery-mplot3d-scatter3d-py\n",
        "# This import registers the 3D projection, but is otherwise unused.\n",
        "from mpl_toolkits.mplot3d import Axes3D  # noqa: F401 unused import\n",
        "\n",
        "import matplotlib.pyplot as plt\n",
        "import numpy as np\n",
        "\n",
        "# Fixing random state for reproducibility\n",
        "np.random.seed(19680801)\n",
        "\n",
        "\n",
        "def randrange(n, vmin, vmax):\n",
        "    '''\n",
        "    Helper function to make an array of random numbers having shape (n, )\n",
        "    with each number distributed Uniform(vmin, vmax).\n",
        "    '''\n",
        "    return (vmax - vmin)*np.random.rand(n) + vmin\n",
        "\n",
        "fig = plt.figure()\n",
        "ax = fig.add_subplot(111, projection='3d')\n",
        "\n",
        "n = 100\n",
        "\n",
        "# For each set of style and range settings, plot n random points in the box\n",
        "# defined by x in [23, 32], y in [0, 100], z in [zlow, zhigh].\n",
        "for c, m, zlow, zhigh in [('r', 'o', -50, -25), ('b', '^', -30, -5)]:\n",
        "    xs = randrange(n, 23, 32)\n",
        "    ys = randrange(n, 0, 100)\n",
        "    zs = randrange(n, zlow, zhigh)\n",
        "    ax.scatter(xs, ys, zs, c=c, marker=m)\n",
        "\n",
        "ax.set_xlabel('X Label')\n",
        "ax.set_ylabel('Y Label')\n",
        "ax.set_zlabel('Z Label')\n",
        "\n",
        "plt.show()"
      ],
      "execution_count": 0,
      "outputs": []
    },
    {
      "metadata": {
        "id": "z1i4oebRTdb4",
        "colab_type": "text"
      },
      "cell_type": "markdown",
      "source": [
        "Live lecture - let's pick some plots and try them!\n",
        "- https://matplotlib.org/gallery - the foundational Python plotting library\n",
        "- https://seaborn.pydata.org/examples/index.html - opinionated, built on matplotlib so less configurable but arguably more usable/pretty (or easy to make pretty)\n",
        "- http://ggplot.yhathq.com/ - based on R's ggplot2 (the \"Grammar of Graphics\", a consistent and widely used foundation of plotting, particularly by academics)\n",
        "- https://bokeh.pydata.org/en/latest/ - interactive plots - write in Python, build and serve in HTML and JavaScript\n",
        "- https://plot.ly/ - similar to Bokeh but with a commercial service (though the software itself is still open source)\n",
        "- https://altair-viz.github.io/ - declarative visual graphics - a little different than the matplotlib/seaborn paradigm (based on the Vega Visualization Grammar) \n",
        "- https://python.libhunt.com/seaborn-alternatives - even more!\n",
        "\n"
      ]
    },
    {
      "metadata": {
        "id": "rPlMdtvVTPpr",
        "colab_type": "code",
        "colab": {}
      },
      "cell_type": "code",
      "source": [
        "# TODO - fun, possibly interactive plots!"
      ],
      "execution_count": 0,
      "outputs": []
    },
    {
      "metadata": {
        "id": "3txHuFCEURXL",
        "colab_type": "text"
      },
      "cell_type": "markdown",
      "source": [
        "## Assignment - draw some plots!\n",
        "\n",
        "In the following section you should draw at least *3* plots, using the data you loaded yesterday - the first should be with matplotlib. The other two can be with any Python tool of your choice - Seaborn in particular is suggested to try. It is OK to start with code from a gallery/example or whatever documentation you find, but try to get it working with your own data.\n",
        "\n",
        "After you make the plots, write a summary (around a paragraph) for each plot, interpreting and describing it and what insight it gives you into the data. This summary should be written for an \"interested but non-technical\" audience - that is usually the sort of audience data scientists communicate with. Try to *explain* what's going on without making it scary.\n",
        "\n",
        "Stretch goals:\n",
        "- Interactive plots! (from the above tools, either Bokeh or plot.ly)\n",
        "- 3D plots that are intuitive/informative (and probably also interactive)\n",
        "- Share your plot! Take a screenshot and drop it in the cohort channel or elsewhere in Slack\n",
        "- Deploy! If it's interactive, you can put it out there (plot.ly will host your plot for you, and Bokeh will make an HTML file)\n",
        "- Work on your local Python setup - so far we've just used Colab, but [Anaconda](https://www.anaconda.com/download/) is a local environment for Python that lets you do everything you can in Colab and more"
      ]
    }
  ]
}