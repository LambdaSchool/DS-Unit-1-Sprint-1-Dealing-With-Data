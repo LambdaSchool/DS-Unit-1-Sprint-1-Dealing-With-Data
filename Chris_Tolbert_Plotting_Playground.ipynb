{
  "nbformat": 4,
  "nbformat_minor": 0,
  "metadata": {
    "colab": {
      "name": "Chris_Tolbert Plotting Playground.ipynb",
      "version": "0.3.2",
      "provenance": [],
      "include_colab_link": true
    },
    "kernelspec": {
      "name": "python3",
      "display_name": "Python 3"
    },
    "accelerator": "GPU"
  },
  "cells": [
    {
      "cell_type": "markdown",
      "metadata": {
        "id": "view-in-github",
        "colab_type": "text"
      },
      "source": [
        "<a href=\"https://colab.research.google.com/github/hughjafro/DS-Sprint-01-Dealing-With-Data/blob/master/Chris_Tolbert_Plotting_Playground.ipynb\" target=\"_parent\"><img src=\"https://colab.research.google.com/assets/colab-badge.svg\" alt=\"Open In Colab\"/></a>"
      ]
    },
    {
      "metadata": {
        "id": "IG1v46jnGkax",
        "colab_type": "code",
        "colab": {}
      },
      "cell_type": "code",
      "source": [
        "# https://matplotlib.org/gallery/lines_bars_and_markers/barh.html#sphx-glr-gallery-lines-bars-and-markers-barh-py\n",
        "import matplotlib.pyplot as plt\n",
        "import numpy as np\n",
        "\n",
        "# Fixing random state for reproducibility\n",
        "np.random.seed(19680801)\n",
        "\n",
        "\n",
        "plt.rcdefaults()\n",
        "fig, ax = plt.subplots()\n",
        "\n",
        "# Example data\n",
        "people = ('Tom', 'Dick', 'Harry', 'Slim', 'Jim')\n",
        "y_pos = np.arange(len(people))\n",
        "performance = 3 + 10 * np.random.rand(len(people))\n",
        "error = np.random.rand(len(people))\n",
        "\n",
        "ax.barh(y_pos, performance, xerr=error, align='center',\n",
        "        color='green', ecolor='black')\n",
        "ax.set_yticks(y_pos)\n",
        "ax.set_yticklabels(people)\n",
        "ax.invert_yaxis()  # labels read top-to-bottom\n",
        "ax.set_xlabel('Performance')\n",
        "ax.set_title('How fast do you want to go today?')\n",
        "\n",
        "plt.show()"
      ],
      "execution_count": 0,
      "outputs": []
    },
    {
      "metadata": {
        "id": "DWcnKAt4H9PT",
        "colab_type": "code",
        "colab": {}
      },
      "cell_type": "code",
      "source": [
        "# Adapted to piechart\n",
        "# https://matplotlib.org/gallery/pie_and_polar_charts/pie_features.html#sphx-glr-gallery-pie-and-polar-charts-pie-features-py\n",
        "\n",
        "import matplotlib.pyplot as plt\n",
        "import numpy as np\n",
        "\n",
        "# Fixing random state for reproducibility\n",
        "np.random.seed(19680801)\n",
        "\n",
        "\n",
        "plt.rcdefaults()\n",
        "fig, ax = plt.subplots()\n",
        "\n",
        "# Example data\n",
        "people = ('Tom', 'Dick', 'Harry', 'Slim', 'Jim')\n",
        "performance = 3 + 10 * np.random.rand(len(people))\n",
        "error = np.random.rand(len(people))\n",
        "\n",
        "ax.pie(performance, labels=people)\n",
        "ax.set_title('How fast do you want to go today?')\n",
        "\n",
        "plt.show()\n"
      ],
      "execution_count": 0,
      "outputs": []
    },
    {
      "metadata": {
        "id": "Y26IktTfIZmO",
        "colab_type": "code",
        "colab": {}
      },
      "cell_type": "code",
      "source": [
        "# https://matplotlib.org/gallery/lines_bars_and_markers/scatter_demo2.html#sphx-glr-gallery-lines-bars-and-markers-scatter-demo2-py\n",
        "import numpy as np\n",
        "import matplotlib.pyplot as plt\n",
        "import matplotlib.cbook as cbook\n",
        "\n",
        "# Load a numpy record array from yahoo csv data with fields date, open, close,\n",
        "# volume, adj_close from the mpl-data/example directory. The record array\n",
        "# stores the date as an np.datetime64 with a day unit ('D') in the date column.\n",
        "with cbook.get_sample_data('goog.npz') as datafile:\n",
        "    price_data = np.load(datafile)['price_data'].view(np.recarray)\n",
        "price_data = price_data[-250:]  # get the most recent 250 trading days\n",
        "\n",
        "delta1 = np.diff(price_data.adj_close) / price_data.adj_close[:-1]\n",
        "\n",
        "# Marker size in units of points^2\n",
        "volume = (15 * price_data.volume[:-2] / price_data.volume[0])**2\n",
        "close = 0.003 * price_data.close[:-2] / 0.003 * price_data.open[:-2]\n",
        "\n",
        "fig, ax = plt.subplots()\n",
        "ax.scatter(delta1[:-1], delta1[1:], c=close, s=volume, alpha=0.5)\n",
        "\n",
        "ax.set_xlabel(r'$\\Delta_i$', fontsize=15)\n",
        "ax.set_ylabel(r'$\\Delta_{i+1}$', fontsize=15)\n",
        "ax.set_title('Volume and percent change')\n",
        "\n",
        "ax.grid(True)\n",
        "fig.tight_layout()\n",
        "\n",
        "plt.show()"
      ],
      "execution_count": 0,
      "outputs": []
    },
    {
      "metadata": {
        "id": "DaEiVQD2K0T1",
        "colab_type": "code",
        "colab": {}
      },
      "cell_type": "code",
      "source": [
        "# https://matplotlib.org/gallery/mplot3d/scatter3d.html#sphx-glr-gallery-mplot3d-scatter3d-py\n",
        "# This import registers the 3D projection, but is otherwise unused.\n",
        "from mpl_toolkits.mplot3d import Axes3D  # noqa: F401 unused import\n",
        "\n",
        "import matplotlib.pyplot as plt\n",
        "import numpy as np\n",
        "\n",
        "# Fixing random state for reproducibility\n",
        "np.random.seed(19680801)\n",
        "\n",
        "\n",
        "def randrange(n, vmin, vmax):\n",
        "    '''\n",
        "    Helper function to make an array of random numbers having shape (n, )\n",
        "    with each number distributed Uniform(vmin, vmax).\n",
        "    '''\n",
        "    return (vmax - vmin)*np.random.rand(n) + vmin\n",
        "\n",
        "fig = plt.figure()\n",
        "ax = fig.add_subplot(111, projection='3d')\n",
        "\n",
        "n = 100\n",
        "\n",
        "# For each set of style and range settings, plot n random points in the box\n",
        "# defined by x in [23, 32], y in [0, 100], z in [zlow, zhigh].\n",
        "for c, m, zlow, zhigh in [('r', 'o', -50, -25), ('b', '^', -30, -5)]:\n",
        "    xs = randrange(n, 23, 32)\n",
        "    ys = randrange(n, 0, 100)\n",
        "    zs = randrange(n, zlow, zhigh)\n",
        "    ax.scatter(xs, ys, zs, c=c, marker=m)\n",
        "\n",
        "ax.set_xlabel('X Label')\n",
        "ax.set_ylabel('Y Label')\n",
        "ax.set_zlabel('Z Label')\n",
        "\n",
        "plt.show()"
      ],
      "execution_count": 0,
      "outputs": []
    },
    {
      "metadata": {
        "id": "RxuKWtJZqQPX",
        "colab_type": "text"
      },
      "cell_type": "markdown",
      "source": [
        "This is the section for Assignment Day 3 - 113\n",
        "\n",
        "In writing - work on notebook 113 (\"Plotting Playground\") from your GitHub fork. Add at least one commit today, and (suggested using your data from yesterday) complete at least:\n",
        "\n",
        "- 3 plots (start simple i.e. box, scatter, bar, histogram, but can do one \"fancy\"/non-traditional if you'd like)\n",
        "- Answers (in text blocks) to the questions \"What insight do your plots give you in the data?\" and \"What was most challenging about making plots?\""
      ]
    },
    {
      "metadata": {
        "id": "02mt_9taK6FT",
        "colab_type": "code",
        "colab": {
          "base_uri": "https://localhost:8080/",
          "height": 314
        },
        "outputId": "4c2ec7a1-2226-4ecd-9b46-8e9831b0890a"
      },
      "cell_type": "code",
      "source": [
        "#Import packages\n",
        "import matplotlib.pyplot as plt\n",
        "import pandas as pd\n",
        "import numpy as np\n",
        "\n",
        "pd.options.display.max_columns = None #allow all columns to be shown\n",
        "#pd.set_option(\"display.max_rows\",30000)\n",
        "\n",
        "# This dataset analyses all nba games since 1946 to 2014. Uses both elo rating \n",
        "# and carm-elo ratings. Show prob of winning\n",
        "census_data_url = 'https://data.lacity.org/api/views/nxs9-385f/rows.csv'\n",
        "\n",
        "census_data = pd.read_csv(census_data_url)\n",
        "\n",
        "census_data.describe()"
      ],
      "execution_count": 30,
      "outputs": [
        {
          "output_type": "execute_result",
          "data": {
            "text/html": [
              "<div>\n",
              "<style scoped>\n",
              "    .dataframe tbody tr th:only-of-type {\n",
              "        vertical-align: middle;\n",
              "    }\n",
              "\n",
              "    .dataframe tbody tr th {\n",
              "        vertical-align: top;\n",
              "    }\n",
              "\n",
              "    .dataframe thead th {\n",
              "        text-align: right;\n",
              "    }\n",
              "</style>\n",
              "<table border=\"1\" class=\"dataframe\">\n",
              "  <thead>\n",
              "    <tr style=\"text-align: right;\">\n",
              "      <th></th>\n",
              "      <th>Zip Code</th>\n",
              "      <th>Total Population</th>\n",
              "      <th>Median Age</th>\n",
              "      <th>Total Males</th>\n",
              "      <th>Total Females</th>\n",
              "      <th>Total Households</th>\n",
              "      <th>Average Household Size</th>\n",
              "    </tr>\n",
              "  </thead>\n",
              "  <tbody>\n",
              "    <tr>\n",
              "      <th>count</th>\n",
              "      <td>319.000000</td>\n",
              "      <td>319.000000</td>\n",
              "      <td>319.000000</td>\n",
              "      <td>319.000000</td>\n",
              "      <td>319.000000</td>\n",
              "      <td>319.000000</td>\n",
              "      <td>319.000000</td>\n",
              "    </tr>\n",
              "    <tr>\n",
              "      <th>mean</th>\n",
              "      <td>91000.673981</td>\n",
              "      <td>33241.341693</td>\n",
              "      <td>36.527586</td>\n",
              "      <td>16391.564263</td>\n",
              "      <td>16849.777429</td>\n",
              "      <td>10964.570533</td>\n",
              "      <td>2.828119</td>\n",
              "    </tr>\n",
              "    <tr>\n",
              "      <th>std</th>\n",
              "      <td>908.360203</td>\n",
              "      <td>21644.417455</td>\n",
              "      <td>8.692999</td>\n",
              "      <td>10747.495566</td>\n",
              "      <td>10934.986468</td>\n",
              "      <td>6270.646400</td>\n",
              "      <td>0.835658</td>\n",
              "    </tr>\n",
              "    <tr>\n",
              "      <th>min</th>\n",
              "      <td>90001.000000</td>\n",
              "      <td>0.000000</td>\n",
              "      <td>0.000000</td>\n",
              "      <td>0.000000</td>\n",
              "      <td>0.000000</td>\n",
              "      <td>0.000000</td>\n",
              "      <td>0.000000</td>\n",
              "    </tr>\n",
              "    <tr>\n",
              "      <th>25%</th>\n",
              "      <td>90243.500000</td>\n",
              "      <td>19318.500000</td>\n",
              "      <td>32.400000</td>\n",
              "      <td>9763.500000</td>\n",
              "      <td>9633.500000</td>\n",
              "      <td>6765.500000</td>\n",
              "      <td>2.435000</td>\n",
              "    </tr>\n",
              "    <tr>\n",
              "      <th>50%</th>\n",
              "      <td>90807.000000</td>\n",
              "      <td>31481.000000</td>\n",
              "      <td>37.100000</td>\n",
              "      <td>15283.000000</td>\n",
              "      <td>16202.000000</td>\n",
              "      <td>10968.000000</td>\n",
              "      <td>2.830000</td>\n",
              "    </tr>\n",
              "    <tr>\n",
              "      <th>75%</th>\n",
              "      <td>91417.000000</td>\n",
              "      <td>44978.000000</td>\n",
              "      <td>41.000000</td>\n",
              "      <td>22219.500000</td>\n",
              "      <td>22690.500000</td>\n",
              "      <td>14889.500000</td>\n",
              "      <td>3.320000</td>\n",
              "    </tr>\n",
              "    <tr>\n",
              "      <th>max</th>\n",
              "      <td>93591.000000</td>\n",
              "      <td>105549.000000</td>\n",
              "      <td>74.000000</td>\n",
              "      <td>52794.000000</td>\n",
              "      <td>53185.000000</td>\n",
              "      <td>31087.000000</td>\n",
              "      <td>4.670000</td>\n",
              "    </tr>\n",
              "  </tbody>\n",
              "</table>\n",
              "</div>"
            ],
            "text/plain": [
              "           Zip Code  Total Population  Median Age   Total Males  \\\n",
              "count    319.000000        319.000000  319.000000    319.000000   \n",
              "mean   91000.673981      33241.341693   36.527586  16391.564263   \n",
              "std      908.360203      21644.417455    8.692999  10747.495566   \n",
              "min    90001.000000          0.000000    0.000000      0.000000   \n",
              "25%    90243.500000      19318.500000   32.400000   9763.500000   \n",
              "50%    90807.000000      31481.000000   37.100000  15283.000000   \n",
              "75%    91417.000000      44978.000000   41.000000  22219.500000   \n",
              "max    93591.000000     105549.000000   74.000000  52794.000000   \n",
              "\n",
              "       Total Females  Total Households  Average Household Size  \n",
              "count     319.000000        319.000000              319.000000  \n",
              "mean    16849.777429      10964.570533                2.828119  \n",
              "std     10934.986468       6270.646400                0.835658  \n",
              "min         0.000000          0.000000                0.000000  \n",
              "25%      9633.500000       6765.500000                2.435000  \n",
              "50%     16202.000000      10968.000000                2.830000  \n",
              "75%     22690.500000      14889.500000                3.320000  \n",
              "max     53185.000000      31087.000000                4.670000  "
            ]
          },
          "metadata": {
            "tags": []
          },
          "execution_count": 30
        }
      ]
    },
    {
      "metadata": {
        "id": "eheP-ioA_jcV",
        "colab_type": "code",
        "colab": {
          "base_uri": "https://localhost:8080/",
          "height": 221
        },
        "outputId": "af4c42e6-94f6-4290-90da-225e7e8d10da"
      },
      "cell_type": "code",
      "source": [
        "census_data.head()"
      ],
      "execution_count": 31,
      "outputs": [
        {
          "output_type": "execute_result",
          "data": {
            "text/html": [
              "<div>\n",
              "<style scoped>\n",
              "    .dataframe tbody tr th:only-of-type {\n",
              "        vertical-align: middle;\n",
              "    }\n",
              "\n",
              "    .dataframe tbody tr th {\n",
              "        vertical-align: top;\n",
              "    }\n",
              "\n",
              "    .dataframe thead th {\n",
              "        text-align: right;\n",
              "    }\n",
              "</style>\n",
              "<table border=\"1\" class=\"dataframe\">\n",
              "  <thead>\n",
              "    <tr style=\"text-align: right;\">\n",
              "      <th></th>\n",
              "      <th>Zip Code</th>\n",
              "      <th>Total Population</th>\n",
              "      <th>Median Age</th>\n",
              "      <th>Total Males</th>\n",
              "      <th>Total Females</th>\n",
              "      <th>Total Households</th>\n",
              "      <th>Average Household Size</th>\n",
              "    </tr>\n",
              "  </thead>\n",
              "  <tbody>\n",
              "    <tr>\n",
              "      <th>0</th>\n",
              "      <td>91371</td>\n",
              "      <td>1</td>\n",
              "      <td>73.5</td>\n",
              "      <td>0</td>\n",
              "      <td>1</td>\n",
              "      <td>1</td>\n",
              "      <td>1.00</td>\n",
              "    </tr>\n",
              "    <tr>\n",
              "      <th>1</th>\n",
              "      <td>90001</td>\n",
              "      <td>57110</td>\n",
              "      <td>26.6</td>\n",
              "      <td>28468</td>\n",
              "      <td>28642</td>\n",
              "      <td>12971</td>\n",
              "      <td>4.40</td>\n",
              "    </tr>\n",
              "    <tr>\n",
              "      <th>2</th>\n",
              "      <td>90002</td>\n",
              "      <td>51223</td>\n",
              "      <td>25.5</td>\n",
              "      <td>24876</td>\n",
              "      <td>26347</td>\n",
              "      <td>11731</td>\n",
              "      <td>4.36</td>\n",
              "    </tr>\n",
              "    <tr>\n",
              "      <th>3</th>\n",
              "      <td>90003</td>\n",
              "      <td>66266</td>\n",
              "      <td>26.3</td>\n",
              "      <td>32631</td>\n",
              "      <td>33635</td>\n",
              "      <td>15642</td>\n",
              "      <td>4.22</td>\n",
              "    </tr>\n",
              "    <tr>\n",
              "      <th>4</th>\n",
              "      <td>90004</td>\n",
              "      <td>62180</td>\n",
              "      <td>34.8</td>\n",
              "      <td>31302</td>\n",
              "      <td>30878</td>\n",
              "      <td>22547</td>\n",
              "      <td>2.73</td>\n",
              "    </tr>\n",
              "  </tbody>\n",
              "</table>\n",
              "</div>"
            ],
            "text/plain": [
              "   Zip Code  Total Population  Median Age  Total Males  Total Females  \\\n",
              "0     91371                 1        73.5            0              1   \n",
              "1     90001             57110        26.6        28468          28642   \n",
              "2     90002             51223        25.5        24876          26347   \n",
              "3     90003             66266        26.3        32631          33635   \n",
              "4     90004             62180        34.8        31302          30878   \n",
              "\n",
              "   Total Households  Average Household Size  \n",
              "0                 1                    1.00  \n",
              "1             12971                    4.40  \n",
              "2             11731                    4.36  \n",
              "3             15642                    4.22  \n",
              "4             22547                    2.73  "
            ]
          },
          "metadata": {
            "tags": []
          },
          "execution_count": 31
        }
      ]
    },
    {
      "metadata": {
        "id": "Uvi3GqWDr7oY",
        "colab_type": "code",
        "colab": {
          "base_uri": "https://localhost:8080/",
          "height": 34
        },
        "outputId": "af2b053a-41a1-4591-de90-4cfbaf416a28"
      },
      "cell_type": "code",
      "source": [
        "census_data.shape"
      ],
      "execution_count": 13,
      "outputs": [
        {
          "output_type": "execute_result",
          "data": {
            "text/plain": [
              "(319, 7)"
            ]
          },
          "metadata": {
            "tags": []
          },
          "execution_count": 13
        }
      ]
    },
    {
      "metadata": {
        "id": "yYmaJ53GE2cQ",
        "colab_type": "code",
        "colab": {}
      },
      "cell_type": "code",
      "source": [
        "# Define box plot layout - (row, column)\n",
        "fig, axs = plt.subplots()"
      ],
      "execution_count": 0,
      "outputs": []
    },
    {
      "metadata": {
        "id": "PUyJZH9-Rn6J",
        "colab_type": "code",
        "colab": {}
      },
      "cell_type": "code",
      "source": [
        ""
      ],
      "execution_count": 0,
      "outputs": []
    },
    {
      "metadata": {
        "id": "48659fhIZW8a",
        "colab_type": "code",
        "colab": {
          "base_uri": "https://localhost:8080/",
          "height": 782
        },
        "outputId": "796db5a6-ad33-42dc-89d6-e59b53da41e1"
      },
      "cell_type": "code",
      "source": [
        "#Box Plot\n",
        "census_data.boxplot(column = 'Total Females', by = 'Zip Code')\n",
        "census_data.boxplot(column = 'Total Males', by = 'Zip Code')\n"
      ],
      "execution_count": 44,
      "outputs": [
        {
          "output_type": "execute_result",
          "data": {
            "text/plain": [
              "<matplotlib.axes._subplots.AxesSubplot at 0x7efd696b4ef0>"
            ]
          },
          "metadata": {
            "tags": []
          },
          "execution_count": 44
        },
        {
          "output_type": "display_data",
          "data": {
            "image/png": "[encoded data removed]",
            "text/plain": [
              "<matplotlib.figure.Figure at 0x7efd69994e10>"
            ]
          },
          "metadata": {
            "tags": []
          }
        },
        {
          "output_type": "display_data",
          "data": {
            "image/png": "[encoded data removed]",
            "text/plain": [
              "<matplotlib.figure.Figure at 0x7efd696b4240>"
            ]
          },
          "metadata": {
            "tags": []
          }
        }
      ]
    },
    {
      "metadata": {
        "id": "bNs1jYWjcCr8",
        "colab_type": "text"
      },
      "cell_type": "markdown",
      "source": [
        "**Scatter Plot**"
      ]
    },
    {
      "metadata": {
        "id": "aHQ5pvBbZywN",
        "colab_type": "code",
        "colab": {
          "base_uri": "https://localhost:8080/",
          "height": 722
        },
        "outputId": "0c2c5e65-f6f4-4552-a27b-8e12df5c92af"
      },
      "cell_type": "code",
      "source": [
        "#generate scatter plot for census data\n",
        "\n",
        "census_data.plot.scatter( x = 'Zip Code', y = 'Total Females')\n",
        "census_data.plot.scatter(x = 'Zip Code', y = 'Total Males')\n",
        "#axs.set_title('Gender vs Zip Code')"
      ],
      "execution_count": 66,
      "outputs": [
        {
          "output_type": "execute_result",
          "data": {
            "text/plain": [
              "<matplotlib.axes._subplots.AxesSubplot at 0x7efd69dd0a90>"
            ]
          },
          "metadata": {
            "tags": []
          },
          "execution_count": 66
        },
        {
          "output_type": "display_data",
          "data": {
            "image/png": "[encoded data removed]",
            "text/plain": [
              "<matplotlib.figure.Figure at 0x7efd69de0fd0>"
            ]
          },
          "metadata": {
            "tags": []
          }
        },
        {
          "output_type": "display_data",
          "data": {
            "image/png": "[encoded data removed]",
            "text/plain": [
              "<matplotlib.figure.Figure at 0x7efd6b5d0278>"
            ]
          },
          "metadata": {
            "tags": []
          }
        }
      ]
    },
    {
      "metadata": {
        "id": "TF2xMQ1WfqX1",
        "colab_type": "code",
        "colab": {
          "base_uri": "https://localhost:8080/",
          "height": 54
        },
        "outputId": "44886c0d-9fb8-410c-fd8d-4c32b8b90b2c"
      },
      "cell_type": "code",
      "source": [
        ""
      ],
      "execution_count": 63,
      "outputs": [
        {
          "output_type": "execute_result",
          "data": {
            "text/plain": [
              "<bound method FramePlotMethods.barh of <pandas.plotting._core.FramePlotMethods object at 0x7efd6b6f91d0>>"
            ]
          },
          "metadata": {
            "tags": []
          },
          "execution_count": 63
        }
      ]
    },
    {
      "metadata": {
        "id": "Ldg6yC__dKe-",
        "colab_type": "text"
      },
      "cell_type": "markdown",
      "source": [
        "**Bar charts**"
      ]
    },
    {
      "metadata": {
        "id": "NVEkxOAAc8Yl",
        "colab_type": "code",
        "colab": {
          "base_uri": "https://localhost:8080/",
          "height": 150
        },
        "outputId": "eb7201d9-12fd-42c3-c90d-af7d526d6517"
      },
      "cell_type": "code",
      "source": [
        "bar_width = 0.35\n",
        "axs.barh(y = 'Zip Code', x = 'Total Females', bar_width, align='center', color='blue', ecolor='black')\n",
        "\n",
        "plt.show()"
      ],
      "execution_count": 61,
      "outputs": [
        {
          "output_type": "error",
          "ename": "SyntaxError",
          "evalue": "ignored",
          "traceback": [
            "\u001b[0;36m  File \u001b[0;32m\"<ipython-input-61-41d519ce9ac5>\"\u001b[0;36m, line \u001b[0;32m2\u001b[0m\n\u001b[0;31m    axs.barh(y = 'Zip Code', x = 'Total Females', bar_width, align='center', color='blue', ecolor='black')\u001b[0m\n\u001b[0m                                                 ^\u001b[0m\n\u001b[0;31mSyntaxError\u001b[0m\u001b[0;31m:\u001b[0m positional argument follows keyword argument\n"
          ]
        }
      ]
    },
    {
      "metadata": {
        "id": "t3_M06Kag8ra",
        "colab_type": "code",
        "colab": {
          "base_uri": "https://localhost:8080/",
          "height": 235
        },
        "outputId": "6d51121b-9fe2-4f77-da61-be970e11ea34"
      },
      "cell_type": "code",
      "source": [
        "cd2 = census_data({'Median Age': 'Median Age', 'Total Females': 'Total Females', 'Total Households':'Total Households' })\n",
        "plt.figure();\n",
        "\n",
        "cd2.plot.hist(alpha=0.5)"
      ],
      "execution_count": 71,
      "outputs": [
        {
          "output_type": "error",
          "ename": "TypeError",
          "evalue": "ignored",
          "traceback": [
            "\u001b[0;31m---------------------------------------------------------------------------\u001b[0m",
            "\u001b[0;31mTypeError\u001b[0m                                 Traceback (most recent call last)",
            "\u001b[0;32m<ipython-input-71-58b1cf01de4a>\u001b[0m in \u001b[0;36m<module>\u001b[0;34m()\u001b[0m\n\u001b[0;32m----> 1\u001b[0;31m \u001b[0mcd2\u001b[0m \u001b[0;34m=\u001b[0m \u001b[0mcensus_data\u001b[0m\u001b[0;34m(\u001b[0m\u001b[0;34m{\u001b[0m\u001b[0;34m'Median Age'\u001b[0m\u001b[0;34m:\u001b[0m \u001b[0;34m'Median Age'\u001b[0m\u001b[0;34m,\u001b[0m \u001b[0;34m'Total Females'\u001b[0m\u001b[0;34m:\u001b[0m \u001b[0;34m'Total Females'\u001b[0m\u001b[0;34m,\u001b[0m \u001b[0;34m'Total Households'\u001b[0m\u001b[0;34m:\u001b[0m\u001b[0;34m'Total Households'\u001b[0m \u001b[0;34m}\u001b[0m\u001b[0;34m)\u001b[0m\u001b[0;34m\u001b[0m\u001b[0m\n\u001b[0m\u001b[1;32m      2\u001b[0m \u001b[0mplt\u001b[0m\u001b[0;34m.\u001b[0m\u001b[0mfigure\u001b[0m\u001b[0;34m(\u001b[0m\u001b[0;34m)\u001b[0m\u001b[0;34m;\u001b[0m\u001b[0;34m\u001b[0m\u001b[0m\n\u001b[1;32m      3\u001b[0m \u001b[0;34m\u001b[0m\u001b[0m\n\u001b[1;32m      4\u001b[0m \u001b[0mcd2\u001b[0m\u001b[0;34m.\u001b[0m\u001b[0mplot\u001b[0m\u001b[0;34m.\u001b[0m\u001b[0mhist\u001b[0m\u001b[0;34m(\u001b[0m\u001b[0malpha\u001b[0m\u001b[0;34m=\u001b[0m\u001b[0;36m0.5\u001b[0m\u001b[0;34m)\u001b[0m\u001b[0;34m\u001b[0m\u001b[0m\n",
            "\u001b[0;31mTypeError\u001b[0m: 'DataFrame' object is not callable"
          ]
        }
      ]
    },
    {
      "metadata": {
        "id": "S-e3_kxTdGyu",
        "colab_type": "code",
        "colab": {}
      },
      "cell_type": "code",
      "source": [
        ""
      ],
      "execution_count": 0,
      "outputs": []
    }
  ]
}