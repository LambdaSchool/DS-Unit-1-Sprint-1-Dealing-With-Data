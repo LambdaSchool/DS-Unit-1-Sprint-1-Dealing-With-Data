{
  "nbformat": 4,
  "nbformat_minor": 0,
  "metadata": {
    "colab": {
      "name": "Custom Functions.ipynb",
      "version": "0.3.2",
      "provenance": [],
      "collapsed_sections": [],
      "include_colab_link": true
    },
    "kernelspec": {
      "name": "python3",
      "display_name": "Python 3"
    }
  },
  "cells": [
    {
      "cell_type": "markdown",
      "metadata": {
        "id": "view-in-github",
        "colab_type": "text"
      },
      "source": [
        "<a href=\"https://colab.research.google.com/github/alvinwalker314/AlvinWalker-DS-Unit-1-Sprint-1-Dealing-With-Data/blob/master/Custom_Functions.ipynb\" target=\"_parent\"><img src=\"https://colab.research.google.com/assets/colab-badge.svg\" alt=\"Open In Colab\"/></a>"
      ]
    },
    {
      "cell_type": "code",
      "metadata": {
        "id": "WM3yGE3nCS9W",
        "colab_type": "code",
        "colab": {}
      },
      "source": [
        ""
      ],
      "execution_count": 0,
      "outputs": []
    },
    {
      "cell_type": "markdown",
      "metadata": {
        "id": "Fbw2V0o9hwzU",
        "colab_type": "text"
      },
      "source": [
        "Taking from the top"
      ]
    },
    {
      "cell_type": "code",
      "metadata": {
        "id": "eTJkdPPCxP__",
        "colab_type": "code",
        "colab": {}
      },
      "source": [
        "\n",
        "!pip freeze\n",
        "!pip install pandas==0.23.4\n",
        "import pandas as pd\n",
        "import matplotlib.pyplot as plt\n",
        "import numpy as np\n",
        "import seaborn as sns\n",
        "pd.set_option('display.max_rows', 500)\n",
        "pd.set_option('display.max_columns', 500)\n",
        "pd.set_option('display.width', 1000)\n",
        "#Read Excel Info\n",
        "from pandas import ExcelWriter\n",
        "from pandas import ExcelFile\n",
        "# Import Local Files from your Machine from Colab\n",
        "from google.colab import files\n",
        "#In a new cell follow with this to load the data\n",
        "uploaded = files.upload()\n",
        "import io\n",
        "df2 = pd.read_csv(io.BytesIO(uploaded['Filename.csv']))\n",
        "# Dataset is now stored in a Pandas Dataframe\n",
        "\n",
        "# Authenticate and create the PyDrive client\n",
        "!pip install -U -q PyDrive\n",
        "from pydrive.auth import GoogleAuth\n",
        "from pydrive.drive import GoogleDrive\n",
        "from google.colab import auth\n",
        "from oauth2client.client import GoogleCredentials\n",
        ".\n",
        "auth.authenticate_user()\n",
        "gauth = GoogleAuth()\n",
        "gauth.credentials = GoogleCredentials.get_application_default()\n",
        "drive = GoogleDrive(gauth)\n",
        "\n",
        "#SOME COMMON BASH COMMANDS\n",
        "!wget https://resources.lendingclub.com/LoanStats_2018Q4.csv.zip\n",
        "!unzip LoanStats_2018Q4.csv.zip\n",
        "!head LoanStats_2018Q4.csv\n",
        "_____________________________________\n",
        "\n",
        "DISPLAY SETTINGS\n",
        "pd.set_option('display.max_columns', 50)\n",
        "\n",
        "\n",
        "CLEANING\n",
        "\n",
        "print(df.isna().sum().sort_values(ascending=False))\n",
        "print(df.shape)\n",
        "print(df.describe())\n",
        "print(df.head())\n",
        "print(df.keys())\n",
        "print(df.value_counts())\n",
        "print(df.drop)\n",
        "print(df.dtypes)\n",
        "df.replace(' ?', np.NaN)\n",
        "\n",
        "df.loc[]based onthe order of the rows\n",
        "df.iloc[]based on the index\n",
        "df.loc[0] gives the first row\n",
        "df.loc[0][5] gives the info in the 5th in of the row zero\n",
        "df = df.fillna(method='ffill')\n",
        "\n",
        "\n",
        "!pip freeze\n",
        "!pip install pandas==0.23.4\n",
        "\n",
        "Honorable Mentions:\n",
        "  \n",
        "from collections import namedtuple\n",
        "random.seed(42)\n",
        "df.isna().sum() or df.isna().sum().sum() or df.isna().any()\n",
        "df.dtypes\n",
        "\n"
      ],
      "execution_count": 0,
      "outputs": []
    },
    {
      "cell_type": "code",
      "metadata": {
        "id": "Ec4oJG4vYNky",
        "colab_type": "code",
        "colab": {}
      },
      "source": [
        "#DATETIME\n",
        "  \n",
        "Date Times:\n",
        "cast to datetime object\n",
        "df['this one']= dr['another_one'].dt.year\n",
        "                                  dt.month\n",
        "df['column'] = pd.to_datetime(df['column'])\n",
        "\n",
        "df['issue_d'] = pd.to_datetime(df['issue_d'],  infer_datetime_format=True)\n",
        "\n",
        "#SELECT A DATE TIME INDEXED DATAFRAME ROW\n",
        "newdf = df['2017-08-29']\n",
        "#MAKE A NEW DATAFRAME WITH A TRUE CONDITIONAL\n",
        "newdf_filtered = newdf[newdf['columnname'] == 'cell equalls']\n",
        "\n"
      ],
      "execution_count": 0,
      "outputs": []
    },
    {
      "cell_type": "markdown",
      "metadata": {
        "id": "1Zy-7IItZ0O9",
        "colab_type": "text"
      },
      "source": [
        "COLUMN TRICKS\n"
      ]
    },
    {
      "cell_type": "code",
      "metadata": {
        "id": "vKacXzMtXvsY",
        "colab_type": "code",
        "colab": {}
      },
      "source": [
        "#makes a list of all the columns containing a certain word\n",
        "columnsx = list(df.columns[df.columns.str.contains(\"xxxxx\", regex=True)])\n",
        "#make a new column from that list\n",
        "df2 = pd.DataFrame(df, columns=[df[columnsx]])\n",
        "#ITERATE OVER A COLUMN THEN APPLY A ALGO\n",
        "for column in list(df2.columns):\n",
        "  df2[column] = round(df2[column]/df2['tot']* 100)\n",
        "#SAME RESULT DIFFERENT METHOD by rows\n",
        "df2 = pd.crosstab(df['Year'], df['Occupation'], normalize='index')*100\n",
        "\n",
        "  "
      ],
      "execution_count": 0,
      "outputs": []
    },
    {
      "cell_type": "code",
      "metadata": {
        "id": "K5S2wIunJQy4",
        "colab_type": "code",
        "colab": {}
      },
      "source": [
        "#Using .apply and lambda to strip leading and lagging white space across a DF\n",
        "\n",
        "df = df.apply(lambda x: x.str.strip() if x.dtype == \"object\" else x)"
      ],
      "execution_count": 0,
      "outputs": []
    },
    {
      "cell_type": "code",
      "metadata": {
        "id": "cv_Lsp6oI8dE",
        "colab_type": "code",
        "colab": {}
      },
      "source": [
        "#using .mask to replace a value with NaN across a data frame\n",
        "#in this case the value is '?'. The default replacement is NaN\n",
        "df = df.mask(adult_data.values == '?')\n"
      ],
      "execution_count": 0,
      "outputs": []
    },
    {
      "cell_type": "code",
      "metadata": {
        "id": "pltc1WrMJBq_",
        "colab_type": "code",
        "colab": {}
      },
      "source": [
        "#Filling NaNs Using Other Values in the Column\n",
        "#This one forward fills from the nearest value above the NaN\n",
        "df['column_name'] = df['column_name'].fillna(method='ffill')\n",
        "\n",
        "\n",
        "#This one back fills from the nearest value below the NaN\n",
        "df['column_name'] = df['column_name'].fillna(method='bfill')\n",
        "\n",
        "#Fill NaNs with specific values:\n",
        "#Fill with Mean\n",
        "df.fillna(df.mean()['column_name':'another_column_name'])"
      ],
      "execution_count": 0,
      "outputs": []
    },
    {
      "cell_type": "markdown",
      "metadata": {
        "id": "7Bf4XIKNXCoy",
        "colab_type": "text"
      },
      "source": [
        "Feature Making"
      ]
    },
    {
      "cell_type": "code",
      "metadata": {
        "id": "jurozi8jJQT-",
        "colab_type": "code",
        "colab": {}
      },
      "source": [
        "#add accross rows and make a new column\n",
        "df2['xxx'] = df2.sum(axis = 1, skipna = True)\n",
        "\n",
        "# We can replace values in a dataframe\n",
        "df['trt'].replace('a', 0).replace('b', 1)\n",
        "\n",
        "# Can also do this with a mapping dictionary\n",
        "df['trt'].map({'a': 0, 'b': 1})\n",
        "\n",
        "# Can also use astype\n",
        "(df['trt'] == 'b').astype(int)\n",
        "\n",
        "#list the columns\n",
        "df.columns.tolist()\n",
        "\n",
        "#PIVOT TABLE\n",
        "tidydf.pivot_table(index='name', columns='trt', values='result')\n",
        "\n",
        "#WHERE BY\n",
        "new_df = df.copy()\n",
        "\n",
        "# .apply\n",
        "DataFrame.apply(func, axis=0, broadcast=None, raw=False, reduce=None, result_type=None, args=(), **kwds)\n",
        "\n",
        "\n",
        "#CONDITIONALS\n",
        "condition = (orders['user_id'] == 1) & (orders['order_number'] <= 2)\n",
        "\n",
        "#EXAMPLE2 Returns a new column with mapped binary conversion to strings\n",
        "my_dict = {0: \"Possible Dream Home\", 1: \"No Thanks\"}\n",
        "new_df['home_status'] = np.where((new_df['age'] < 20)  & (new_df['price'] <= 550000) \n",
        "& (new_df['num_bathrooms'] >= 2), my_dict[0], my_dict[1])\n",
        "\n",
        "print(new_df.head())\n",
        "\n"
      ],
      "execution_count": 0,
      "outputs": []
    },
    {
      "cell_type": "markdown",
      "metadata": {
        "id": "QE9oz0Ue7Axp",
        "colab_type": "text"
      },
      "source": [
        "ILOC & LOC"
      ]
    },
    {
      "cell_type": "code",
      "metadata": {
        "id": "fL9vLCpfG-r0",
        "colab_type": "code",
        "colab": {}
      },
      "source": [
        "import pandas as pd\n",
        "\n",
        "# Data Frame to practice .loc[] techniques on\n",
        "df = pd.DataFrame({'index':[1, 2, 3, 4, 5],\n",
        "                   'name_1':['entry1', 'entry2', 'entry3', 'entry4', 'entry5'],\n",
        "                   'name_2':['entry1', 'entry2', 'entry3', 'entry4', 'entry5'],\n",
        "                   'name_3':['entry1', 'entry2', 'entry3', 'entry4', 'entry5'],\n",
        "                   'name_4':['entry1', 'entry2', 'entry3', 'entry4', 'entry5'],\n",
        "                   'name_5':['entry1', 'entry2', 'entry3', 'entry4', 'entry5']})\n",
        "\n"
      ],
      "execution_count": 0,
      "outputs": []
    },
    {
      "cell_type": "code",
      "metadata": {
        "id": "41vo2n5dvQAb",
        "colab_type": "code",
        "colab": {}
      },
      "source": [
        "# Set Index\n",
        "#df.set_index('index', inplace=True)\n",
        "df.head()\n",
        "\n"
      ],
      "execution_count": 0,
      "outputs": []
    },
    {
      "cell_type": "code",
      "metadata": {
        "id": "hWFHFUKzvq25",
        "colab_type": "code",
        "colab": {}
      },
      "source": [
        "### Select by a Single Label\n",
        "#1 Select and print the '1' Row\n",
        "print(df.loc[1])\n",
        "#2 Select and print Row 1 Label with Column 1 Label to get entry1\n",
        "print(df.loc[[1],'name_1'])"
      ],
      "execution_count": 0,
      "outputs": []
    },
    {
      "cell_type": "code",
      "metadata": {
        "id": "HZ7n_fyYvTvg",
        "colab_type": "code",
        "colab": {}
      },
      "source": [
        "### Select Multiple Rows Using LISTS\n",
        "#1 Select and print Row Labels 1, 2\n",
        "print(df.iloc[[1,2]])\n",
        "#2 Select and print Row Labels 1, 3, 5\n",
        "print(df.iloc[1:5:2])\n",
        "# Now Rows WITH desired Columns\n",
        "#3 Select and print Row Labels 1, 2, 3 with Column Labels 'name_1', 'name_2', 'name_3'\n",
        "print(df.iloc[1:3])\n",
        "#4 Select and print Row Labels 1, 3, 4, 5 with Column Labels 'name_1', 'name_3', 'name_4', 'name_5'\n",
        "print(df.iloc[[0,2,3,4],[0,2,3,4]])"
      ],
      "execution_count": 0,
      "outputs": []
    },
    {
      "cell_type": "code",
      "metadata": {
        "id": "KWX8-z1EzcKU",
        "colab_type": "code",
        "colab": {}
      },
      "source": [
        "#Select 3rd position until end:\n",
        "df.iloc[2:]"
      ],
      "execution_count": 0,
      "outputs": []
    },
    {
      "cell_type": "code",
      "metadata": {
        "id": "PqKJKnbbzgNS",
        "colab_type": "code",
        "colab": {}
      },
      "source": [
        "#Select 3rd position to end by 2:\n",
        "df.iloc[3::2]"
      ],
      "execution_count": 0,
      "outputs": []
    },
    {
      "cell_type": "code",
      "metadata": {
        "id": "ep5dpGRpvZhM",
        "colab_type": "code",
        "colab": {}
      },
      "source": [
        "### Select Multiple Row & Column Labels Using SLICE\n",
        "#1 Select and print Row Labels 1, 2\n",
        "print(df.loc[1:2])\n",
        "#2 Select and print Row Labels 1, 2, 3\n",
        "print(df.loc[0:4])\n",
        "#3 Select and print Row Labels 1, 2, 3 with Column Labels 'name_1', 'name_2', 'name_3'\n",
        "print(df.loc[1:3, 'name_1':])\n",
        "#4 Select and print Row Labels 3, 4, 5 with Column Labels 'name_3', 'name_4', 'name_5'\n",
        "print(df.loc[3:5,['name_3', 'name_4', 'name_5']])"
      ],
      "execution_count": 0,
      "outputs": []
    },
    {
      "cell_type": "code",
      "metadata": {
        "id": "pVk_wmSyw7uD",
        "colab_type": "code",
        "colab": {}
      },
      "source": [
        "\n",
        "### Select Multiple Row & Column Labels Using Booleans\n",
        "# Reminder the Boolean List MUST be the same length as the Row/Column Axis\n",
        "#1 Select and print Row Labels 1, 2\n",
        "print(df.loc[[True,True, False,False,False,]])\n",
        "#2 Select and print Row Labels 1, 3, 5\n",
        "print(df.loc[[True,False,True,False, True]])\n",
        "#3 Select and print Row Labels 1, 2, 3 with Column Labels 'name_1', 'name_2', 'name_3'\n",
        "print(df.loc[[True, True, True],[True, True, True]])\n",
        "#4 Select and print Row Labels 1, 3, 4, 5 with Column Labels 'name_1', 'name_3', 'name_4', 'name_5'\n",
        "print(df.loc[[True, False, True, True, True],[True, False, True, True, True]])"
      ],
      "execution_count": 0,
      "outputs": []
    },
    {
      "cell_type": "markdown",
      "metadata": {
        "id": "ZrbBLhpV7Qhj",
        "colab_type": "text"
      },
      "source": [
        "PLOTTING AND GRAPHS"
      ]
    },
    {
      "cell_type": "code",
      "metadata": {
        "id": "HFAc5mZOBBdT",
        "colab_type": "code",
        "colab": {}
      },
      "source": [
        "#QUICK SCATTER\n",
        "pd.plotting.scatter_matrix(df)"
      ],
      "execution_count": 0,
      "outputs": []
    },
    {
      "cell_type": "code",
      "metadata": {
        "id": "T6dYqDI8HDeL",
        "colab_type": "code",
        "colab": {}
      },
      "source": [
        "#PANDAS CROSSTAB PASS X,Y\n",
        "pd.crosstab(user_data['purchased'], user_data['time_on_site'])\n",
        "#BINNING\n",
        "time_bins = pd.cut(user_data['time_on_site'], 5)\n",
        "pd.qcut(DATAFRAME,10, duplicates='drop')# cuts by how many are in there\n",
        "pd.cut(DATAFRAME,bins[this, tothis, tothis, tothis, etc ], right=False)"
      ],
      "execution_count": 0,
      "outputs": []
    },
    {
      "cell_type": "code",
      "metadata": {
        "id": "NkfDuHvuQo8M",
        "colab_type": "code",
        "colab": {}
      },
      "source": [
        "#thirtyfiveeightstylegraph with built in annotation\n",
        "def thirtyfiveline(dataframe, title, subtitle,lineannotationlist,xlabel,ylabel):\n",
        "  ax = dataframe.plot(legend=False)\n",
        "  plt.style.use(['fivethirtyeight'])\n",
        "  ax.text(x=1999, y=100, s= title,\n",
        "          fontsize=18, fontweight='bold')\n",
        "  ax.text(x=1999, y=95, s= subtitle,\n",
        "          fontsize=11)\n",
        "  #X LABEL AND Y LABEL\n",
        "  plt.ylabel(ylabel, fontsize=9, fontweight='bold')\n",
        "  plt.xlabel(xlabel, fontsize=9, fontweight='bold')\n",
        "  #ADD ANNOTATION LINE AS NEEDED TO LENGTH OF LIST\n",
        "  plt.grid(b=True, which='major', axis='both', color='grey', linestyle='-', linewidth=.5)\n",
        "  plt.annotate(xy=[2000,80], fontweight=2,s=lineannotationlist[0], color='#4286f4')\n",
        "  plt.annotate(xy=[2008,50], fontweight=2,s=lineannotationlist[1], color='orange')\n",
        "  plt.annotate(xy=[2006,5], fontweight=2,s=lineannotationlist[2], color='#ad1a1a');"
      ],
      "execution_count": 0,
      "outputs": []
    },
    {
      "cell_type": "code",
      "metadata": {
        "id": "8PCHXZ_4VOmG",
        "colab_type": "code",
        "colab": {}
      },
      "source": [
        "#thirtyfiveeightbargraph \n",
        "def thirtyfbar(dataframe,xlabel,ylabel, title,subtitle):\n",
        "  plt.style.use('fivethirtyeight')\n",
        "  fig = plt.figure()\n",
        "  ax = dataframe.plot.bar(color='#ef7030', width=0.9)\n",
        "\n",
        "  ax.set(yticks=range(0, 50, 10), facecolor='#f9f9f9')\n",
        "  fig.patch.set_facecolor('#f9f9f9')\n",
        "\n",
        "  plt.ylabel(ylabel, fontsize=9, fontweight='bold')\n",
        "  plt.xlabel(xlabel, fontsize=9, fontweight='bold')\n",
        "  ax.text(x=-2, y=46, s=title,\n",
        "          fontsize=12, fontweight='bold')\n",
        "  ax.text(x=-2, y=43, s=subtitle,\n",
        "          fontsize=11)\n",
        "  ax.tick_params(labelrotation=0)"
      ],
      "execution_count": 0,
      "outputs": []
    },
    {
      "cell_type": "code",
      "metadata": {
        "id": "9Cic52EZHc6H",
        "colab_type": "code",
        "colab": {}
      },
      "source": [
        "#DAT HEAT\n",
        "sns.heatmap(pd.crosstab(per['age'],  [per['exercise_time'], weight_bins] ),\n",
        "            cmap=\"YlGnBu\", annot=True, cbar=False);"
      ],
      "execution_count": 0,
      "outputs": []
    },
    {
      "cell_type": "code",
      "metadata": {
        "id": "6eRxpuhGDJk6",
        "colab_type": "code",
        "colab": {}
      },
      "source": [
        "#Matplot Scatter Plot\n",
        "plt.scatter(xcolumnlabel,ycolumnlabel, c=colors, alpha=alphaflt, marker=markercode,\n",
        "            label=\"Weight vs Exercise Time in Adults 18-80 yrs old\", cmap='hsv')\n",
        "plt.xlabel(\"Weight\")\n",
        "plt.ylabel(\"Excersise Time in min/wk\")\n",
        "plt.legend(loc='upper left')\n",
        "plt.show();\n"
      ],
      "execution_count": 0,
      "outputs": []
    },
    {
      "cell_type": "code",
      "metadata": {
        "id": "--KWDafqxUvt",
        "colab_type": "code",
        "colab": {}
      },
      "source": [
        "#SEABORN DIST PLOT\n",
        "from scipy.stats import norm\n",
        "ax = sns.distplot(x, color=\"y\",fit=norm, kde=False);\n",
        "\n"
      ],
      "execution_count": 0,
      "outputs": []
    },
    {
      "cell_type": "code",
      "metadata": {
        "id": "ohkt6u36IMKT",
        "colab_type": "code",
        "colab": {}
      },
      "source": [
        "#SNS WITH GRADIENT\n",
        "sns.lmplot( x='weight', y='exercise_time', data=per, hue='agebin', fit_reg=True, legend=True, palette='plasma', robust=True,markers='p',)\n",
        "fig.suptitle(\"Exercise vs Weight of Age Groups\", fontsize=12);"
      ],
      "execution_count": 0,
      "outputs": []
    },
    {
      "cell_type": "code",
      "metadata": {
        "id": "cpBETiluCoXD",
        "colab_type": "code",
        "colab": {}
      },
      "source": [
        "#SEABORN REPLOT\n",
        "sns.relplot(x=\"total_bill\", y=\"tip\", data=df);\n",
        "#SEABORN PAAIRPLOT\n",
        "sns.pairplot(df, hue='smoker', palette= 'OrRd',height=2.5);\n",
        "#SEABORN FACETGRID\n",
        "g = sns.FacetGrid(df, col=\"sex\", hue=\"time\")#col category \n",
        "g.map(plt.scatter, \"total_bill\", \"tip_pct\", cmap = 'plasma', alpha=.7)\n",
        "g.add_legend();\n",
        "#SEABORN SCAT/DIST \"WHITE\"\n",
        "with sns.axes_style('white'):\n",
        "    sns.jointplot(\"tip_pct\", \"total_bill\", data=df, cmap= \"Spectral_r\", kind='hex')"
      ],
      "execution_count": 0,
      "outputs": []
    },
    {
      "cell_type": "code",
      "metadata": {
        "id": "kriaGGePH75v",
        "colab_type": "code",
        "colab": {}
      },
      "source": [
        "#STACKED BARS\n",
        "cq = pd.crosstab(weight_bins, extime_bins)\n",
        "cq.plot(kind='bar', stacked=True)"
      ],
      "execution_count": 0,
      "outputs": []
    },
    {
      "cell_type": "code",
      "metadata": {
        "id": "aDLPJQGl_ys9",
        "colab_type": "code",
        "colab": {}
      },
      "source": [
        "#PANDAS HISTORGRAM\n",
        "df = pd.DataFrame({\n",
        "     'length': [1.5, 0.5, 1.2, 0.9, 3],\n",
        "     'width': [0.7, 0.2, 0.15, 0.2, 1.1]\n",
        "     }, index= ['pig', 'rabbit', 'duck', 'chicken', 'horse'])\n",
        "hist = df.hist(bins=3);"
      ],
      "execution_count": 0,
      "outputs": []
    },
    {
      "cell_type": "code",
      "metadata": {
        "id": "puWPqmaNkaqS",
        "colab_type": "code",
        "colab": {}
      },
      "source": [
        "#Random Data Set with linear tendency\n",
        "from sklearn.datasets import make_regression\n",
        "from matplotlib import pyplot\n",
        "# generate regression dataset\n",
        "X, y = make_regression(n_samples=100, n_features=1, noise=10)\n",
        "# plot regression dataset\n",
        "pyplot.scatter(X,y)"
      ],
      "execution_count": 0,
      "outputs": []
    },
    {
      "cell_type": "code",
      "metadata": {
        "id": "rKx_4JZSHvlL",
        "colab_type": "code",
        "colab": {}
      },
      "source": [
        "#ax = plt.axes(projection='3d')\n",
        "\n",
        "from mpl_toolkits.mplot3d import Axes3D\n",
        "# Data for three-dimensional scattered points\n",
        "fig = plt.figure()\n",
        "ax = fig.add_subplot(111, projection='3d')\n",
        "zdata = per['age']\n",
        "xdata = per['weight']\n",
        "ydata = per['exercise_time']\n",
        "ax.set_xlabel('exercise_time')\n",
        "ax.set_ylabel('weight')\n",
        "ax.set_zlabel('age')\n",
        "ax.scatter3D(xdata, ydata, zdata, c=zdata, cmap='plasma');"
      ],
      "execution_count": 0,
      "outputs": []
    },
    {
      "cell_type": "code",
      "metadata": {
        "id": "y4NVBWVfAVM7",
        "colab_type": "code",
        "colab": {}
      },
      "source": [
        "#LIST COMPREHENSION\n",
        "\n",
        "FROM THIS -----> new_list = []\n",
        "for i in old_list:\n",
        "    if filter(i):\n",
        "        new_list.append(expressions(i))\n",
        "You can obtain the same thing using list comprehension:\n",
        "new_list = [expression(i) for i in old_list if filter(i)]"
      ],
      "execution_count": 0,
      "outputs": []
    },
    {
      "cell_type": "code",
      "metadata": {
        "id": "6aBGaYRiBiEM",
        "colab_type": "code",
        "colab": {}
      },
      "source": [
        ""
      ],
      "execution_count": 0,
      "outputs": []
    },
    {
      "cell_type": "code",
      "metadata": {
        "id": "gYRsRGkeey4u",
        "colab_type": "code",
        "colab": {}
      },
      "source": [
        "g = df.groupby(\"city\")\n",
        "g\n",
        "for city, data in g:\n",
        "    print(\"city:\",city)\n",
        "    print(\"\\n\")\n",
        "    print(\"data:\",data)\n",
        "g.get_group('mumbai')\n",
        "g.describe()\n",
        "def grouper(df, idx, col):\n",
        "    if 80 <= df[col].loc[idx] <= 90:\n",
        "        return '80-90'\n",
        "    elif 50 <= df[col].loc[idx] <= 60:\n",
        "        return '50-60'\n",
        "    else:\n",
        "        return 'others'\n",
        "Group data using custom function: Let's say you want to group your data using custom function. Here the requirement is to create three groups\n",
        "Days when temperature was between 80 and 90\n",
        "Days when it was between 50 and 60\n",
        "Days when it was anything else\n",
        "For this you need to write custom grouping function and pass that to groupby\n",
        "\n",
        "for key, d in g:\n",
        "    print(\"Group by Key: {}\\n\".format(key))\n",
        "    print(d)"
      ],
      "execution_count": 0,
      "outputs": []
    },
    {
      "cell_type": "code",
      "metadata": {
        "id": "1_R705Qa3iAg",
        "colab_type": "code",
        "colab": {}
      },
      "source": [
        "#MAP FUNCTION\n",
        "status = {'Current': 1, 'Fully Paid': 1, 'Late (31-120 days)': 0, 'In Grace Period' : 0, 'Late (16-30 days)': 0, 'Charged Off': 0}\n",
        " df['loan_status_great'] = df['loan_status_is_great'].map(status)\n",
        "  "
      ],
      "execution_count": 0,
      "outputs": []
    },
    {
      "cell_type": "code",
      "metadata": {
        "id": "ciY_RyZmczE7",
        "colab_type": "code",
        "colab": {}
      },
      "source": [
        ""
      ],
      "execution_count": 0,
      "outputs": []
    },
    {
      "cell_type": "markdown",
      "metadata": {
        "id": "Y2APxQqUayX0",
        "colab_type": "text"
      },
      "source": [
        "***Linear Regression***"
      ]
    },
    {
      "cell_type": "code",
      "metadata": {
        "id": "AabZyWQua6DR",
        "colab_type": "code",
        "colab": {}
      },
      "source": [
        "from sklearn.linear_model import LogisticRegression\n",
        "\n"
      ],
      "execution_count": 0,
      "outputs": []
    },
    {
      "cell_type": "code",
      "metadata": {
        "id": "qyoPkcrPbnSL",
        "colab_type": "code",
        "colab": {}
      },
      "source": [
        "x = df.drop('survival',axis=1)\n",
        "y = df['survival']\n",
        "\n",
        "logit = LogisticRegression().fit(x,y)\n"
      ],
      "execution_count": 0,
      "outputs": []
    },
    {
      "cell_type": "code",
      "metadata": {
        "id": "2XsCXNoXbuyX",
        "colab_type": "code",
        "colab": {}
      },
      "source": [
        "logit"
      ],
      "execution_count": 0,
      "outputs": []
    },
    {
      "cell_type": "code",
      "metadata": {
        "id": "0l9C-I5EbwRQ",
        "colab_type": "code",
        "colab": {}
      },
      "source": [
        "logit.score(x,y)\n",
        "logit.coef_ #coefficient for age,year, nodes\n"
      ],
      "execution_count": 0,
      "outputs": []
    },
    {
      "cell_type": "code",
      "metadata": {
        "id": "6C3PclohcK-0",
        "colab_type": "code",
        "colab": {}
      },
      "source": [
        "logit.predict_prod(p.array([50,64,0]).reshape(1,-1))"
      ],
      "execution_count": 0,
      "outputs": []
    },
    {
      "cell_type": "markdown",
      "metadata": {
        "id": "cOKQ-YPmWXIQ",
        "colab_type": "text"
      },
      "source": [
        "RANDOM FUNCTIONS"
      ]
    },
    {
      "cell_type": "code",
      "metadata": {
        "id": "9WKUX-l2ox4C",
        "colab_type": "code",
        "colab": {}
      },
      "source": [
        "# This optional code formats float numbers with comma separators\n",
        "pd.options.display.float_format = '{:,}'.format"
      ],
      "execution_count": 0,
      "outputs": []
    },
    {
      "cell_type": "code",
      "metadata": {
        "id": "Y1xx75_halal",
        "colab_type": "code",
        "colab": {}
      },
      "source": [
        "#DISPLAY IMAGE FROM HTTP\n",
        "from IPython.display import display, Image\n",
        "png = 'https://fivethirtyeight.com/wp-content/uploads/2015/08/hickey-datalab-dailyshow.png'\n",
        "example = Image(png, width=500)\n",
        "display(example)"
      ],
      "execution_count": 0,
      "outputs": []
    },
    {
      "cell_type": "code",
      "metadata": {
        "id": "3JJsVhJKWRj2",
        "colab_type": "code",
        "colab": {}
      },
      "source": [
        "# goes down label and checks in the cell contains whats in list and makes new \n",
        "#list with concatenated string from list\n",
        "def get_occupation(group):\n",
        "    if group in ['Acting', 'Comedy', 'Musician']:\n",
        "        return 'Acting, Comedy & Music'\n",
        "    elif group in ['Media', 'media']:\n",
        "        return 'Media'\n",
        "    elif group in ['Government', 'Politician', 'Political Aide']:\n",
        "        return 'Government and Politics'\n",
        "    else:\n",
        "        return 'Other'\n",
        "      \n",
        "df['Occupation'] = df['Group'].apply(get_occupation)"
      ],
      "execution_count": 0,
      "outputs": []
    }
  ]
}