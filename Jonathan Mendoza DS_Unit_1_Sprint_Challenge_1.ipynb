{
  "nbformat": 4,
  "nbformat_minor": 0,
  "metadata": {
    "colab": {
      "name": "DS_Unit_1_Sprint_Challenge_1.ipynb",
      "version": "0.3.2",
      "provenance": [],
      "collapsed_sections": [],
      "include_colab_link": true
    },
    "kernelspec": {
      "name": "python3",
      "display_name": "Python 3"
    }
  },
  "cells": [
    {
      "cell_type": "markdown",
      "metadata": {
        "id": "view-in-github",
        "colab_type": "text"
      },
      "source": [
        "<a href=\"https://colab.research.google.com/github/jmend01/DS-Unit-1-Sprint-1-Dealing-With-Data/blob/master/Jonathan%20Mendoza%20DS_Unit_1_Sprint_Challenge_1.ipynb\" target=\"_parent\"><img src=\"https://colab.research.google.com/assets/colab-badge.svg\" alt=\"Open In Colab\"/></a>"
      ]
    },
    {
      "cell_type": "markdown",
      "metadata": {
        "id": "NooAiTdnafkz",
        "colab_type": "text"
      },
      "source": [
        "# Data Science Unit 1 Sprint Challenge 1\n",
        "\n",
        "## Loading, cleaning, visualizing, and analyzing data\n",
        "\n",
        "In this sprint challenge you will look at a dataset of the survival of patients who underwent surgery for breast cancer.\n",
        "\n",
        "http://archive.ics.uci.edu/ml/datasets/Haberman%27s+Survival\n",
        "\n",
        "Data Set Information:\n",
        "The dataset contains cases from a study that was conducted between 1958 and 1970 at the University of Chicago's Billings Hospital on the survival of patients who had undergone surgery for breast cancer.\n",
        "\n",
        "Attribute Information:\n",
        "1. Age of patient at time of operation (numerical)\n",
        "2. Patient's year of operation (year - 1900, numerical)\n",
        "3. Number of positive axillary nodes detected (numerical)\n",
        "4. Survival status (class attribute)\n",
        "-- 1 = the patient survived 5 years or longer\n",
        "-- 2 = the patient died within 5 year\n",
        "\n",
        "Sprint challenges are evaluated based on satisfactory completion of each part. It is suggested you work through it in order, getting each aspect reasonably working, before trying to deeply explore, iterate, or refine any given step. Once you get to the end, if you want to go back and improve things, go for it!"
      ]
    },
    {
      "cell_type": "markdown",
      "metadata": {
        "id": "5wch6ksCbJtZ",
        "colab_type": "text"
      },
      "source": [
        "## Part 1 - Load and validate the data\n",
        "\n",
        "- Load the data as a `pandas` data frame.\n",
        "- Validate that it has the appropriate number of observations (you can check the raw file, and also read the dataset description from UCI).\n",
        "- Validate that you have no missing values.\n",
        "- Add informative names to the features.\n",
        "- The survival variable is encoded as 1 for surviving >5 years and 2 for not - change this to be 0 for not surviving and 1 for surviving >5 years (0/1 is a more traditional encoding of binary variables)\n",
        "\n",
        "At the end, print the first five rows of the dataset to demonstrate the above."
      ]
    },
    {
      "cell_type": "markdown",
      "metadata": {
        "colab_type": "text",
        "id": "-LDnoeRRR2s2"
      },
      "source": [
        "### Import libraries, load & validate dataframe, update header names"
      ]
    },
    {
      "cell_type": "code",
      "metadata": {
        "id": "287TpoGKFRVK",
        "colab_type": "code",
        "colab": {
          "base_uri": "https://localhost:8080/",
          "height": 320
        },
        "outputId": "e2701489-c5c7-4510-af10-354d4b6cdee3"
      },
      "source": [
        "import pandas as pd\n",
        "import numpy as np\n",
        "import matplotlib.pyplot as plt\n",
        "!pip install pandas==0.23.4 #downgrade pandas for functinality on crosstab\n",
        "\n",
        "col_names = ['operation_age','operation_year','axillary_nodes','survival_status']\n",
        "df = pd.read_csv('http://archive.ics.uci.edu/ml/machine-learning-databases/haberman/haberman.data', header = None, names = col_names )\n",
        "\n",
        "df.head()"
      ],
      "execution_count": 1,
      "outputs": [
        {
          "output_type": "stream",
          "text": [
            "Requirement already satisfied: pandas==0.23.4 in /usr/local/lib/python3.6/dist-packages (0.23.4)\n",
            "Requirement already satisfied: python-dateutil>=2.5.0 in /usr/local/lib/python3.6/dist-packages (from pandas==0.23.4) (2.5.3)\n",
            "Requirement already satisfied: numpy>=1.9.0 in /usr/local/lib/python3.6/dist-packages (from pandas==0.23.4) (1.16.4)\n",
            "Requirement already satisfied: pytz>=2011k in /usr/local/lib/python3.6/dist-packages (from pandas==0.23.4) (2018.9)\n",
            "Requirement already satisfied: six>=1.5 in /usr/local/lib/python3.6/dist-packages (from python-dateutil>=2.5.0->pandas==0.23.4) (1.12.0)\n"
          ],
          "name": "stdout"
        },
        {
          "output_type": "execute_result",
          "data": {
            "text/html": [
              "<div>\n",
              "<style scoped>\n",
              "    .dataframe tbody tr th:only-of-type {\n",
              "        vertical-align: middle;\n",
              "    }\n",
              "\n",
              "    .dataframe tbody tr th {\n",
              "        vertical-align: top;\n",
              "    }\n",
              "\n",
              "    .dataframe thead th {\n",
              "        text-align: right;\n",
              "    }\n",
              "</style>\n",
              "<table border=\"1\" class=\"dataframe\">\n",
              "  <thead>\n",
              "    <tr style=\"text-align: right;\">\n",
              "      <th></th>\n",
              "      <th>operation_age</th>\n",
              "      <th>operation_year</th>\n",
              "      <th>axillary_nodes</th>\n",
              "      <th>survival_status</th>\n",
              "    </tr>\n",
              "  </thead>\n",
              "  <tbody>\n",
              "    <tr>\n",
              "      <th>0</th>\n",
              "      <td>30</td>\n",
              "      <td>64</td>\n",
              "      <td>1</td>\n",
              "      <td>1</td>\n",
              "    </tr>\n",
              "    <tr>\n",
              "      <th>1</th>\n",
              "      <td>30</td>\n",
              "      <td>62</td>\n",
              "      <td>3</td>\n",
              "      <td>1</td>\n",
              "    </tr>\n",
              "    <tr>\n",
              "      <th>2</th>\n",
              "      <td>30</td>\n",
              "      <td>65</td>\n",
              "      <td>0</td>\n",
              "      <td>1</td>\n",
              "    </tr>\n",
              "    <tr>\n",
              "      <th>3</th>\n",
              "      <td>31</td>\n",
              "      <td>59</td>\n",
              "      <td>2</td>\n",
              "      <td>1</td>\n",
              "    </tr>\n",
              "    <tr>\n",
              "      <th>4</th>\n",
              "      <td>31</td>\n",
              "      <td>65</td>\n",
              "      <td>4</td>\n",
              "      <td>1</td>\n",
              "    </tr>\n",
              "  </tbody>\n",
              "</table>\n",
              "</div>"
            ],
            "text/plain": [
              "   operation_age       ...         survival_status\n",
              "0             30       ...                       1\n",
              "1             30       ...                       1\n",
              "2             30       ...                       1\n",
              "3             31       ...                       1\n",
              "4             31       ...                       1\n",
              "\n",
              "[5 rows x 4 columns]"
            ]
          },
          "metadata": {
            "tags": []
          },
          "execution_count": 1
        }
      ]
    },
    {
      "cell_type": "code",
      "metadata": {
        "id": "0HHlvZm0O0rH",
        "colab_type": "code",
        "colab": {
          "base_uri": "https://localhost:8080/",
          "height": 186
        },
        "outputId": "df638628-fda8-4cf8-d6f7-a94a467d8afa"
      },
      "source": [
        "print(df.shape)\n",
        "print(df.survival_status.value_counts())\n",
        "df.isna().sum()"
      ],
      "execution_count": 2,
      "outputs": [
        {
          "output_type": "stream",
          "text": [
            "(306, 4)\n",
            "1    225\n",
            "2     81\n",
            "Name: survival_status, dtype: int64\n"
          ],
          "name": "stdout"
        },
        {
          "output_type": "execute_result",
          "data": {
            "text/plain": [
              "operation_age      0\n",
              "operation_year     0\n",
              "axillary_nodes     0\n",
              "survival_status    0\n",
              "dtype: int64"
            ]
          },
          "metadata": {
            "tags": []
          },
          "execution_count": 2
        }
      ]
    },
    {
      "cell_type": "markdown",
      "metadata": {
        "id": "6i_a1Ei-ScGM",
        "colab_type": "text"
      },
      "source": [
        "verified no NaN values present, checked data values for next operation"
      ]
    },
    {
      "cell_type": "code",
      "metadata": {
        "id": "6gLveq3nPte6",
        "colab_type": "code",
        "colab": {
          "base_uri": "https://localhost:8080/",
          "height": 262
        },
        "outputId": "c5a06da6-0cc9-431e-f597-21ef901c59ea"
      },
      "source": [
        "df['survival_status'] = np.where(df['survival_status']==1, 1, 0)\n",
        "print(df.survival_status.value_counts())\n",
        "df.head()"
      ],
      "execution_count": 3,
      "outputs": [
        {
          "output_type": "stream",
          "text": [
            "1    225\n",
            "0     81\n",
            "Name: survival_status, dtype: int64\n"
          ],
          "name": "stdout"
        },
        {
          "output_type": "execute_result",
          "data": {
            "text/html": [
              "<div>\n",
              "<style scoped>\n",
              "    .dataframe tbody tr th:only-of-type {\n",
              "        vertical-align: middle;\n",
              "    }\n",
              "\n",
              "    .dataframe tbody tr th {\n",
              "        vertical-align: top;\n",
              "    }\n",
              "\n",
              "    .dataframe thead th {\n",
              "        text-align: right;\n",
              "    }\n",
              "</style>\n",
              "<table border=\"1\" class=\"dataframe\">\n",
              "  <thead>\n",
              "    <tr style=\"text-align: right;\">\n",
              "      <th></th>\n",
              "      <th>operation_age</th>\n",
              "      <th>operation_year</th>\n",
              "      <th>axillary_nodes</th>\n",
              "      <th>survival_status</th>\n",
              "    </tr>\n",
              "  </thead>\n",
              "  <tbody>\n",
              "    <tr>\n",
              "      <th>0</th>\n",
              "      <td>30</td>\n",
              "      <td>64</td>\n",
              "      <td>1</td>\n",
              "      <td>1</td>\n",
              "    </tr>\n",
              "    <tr>\n",
              "      <th>1</th>\n",
              "      <td>30</td>\n",
              "      <td>62</td>\n",
              "      <td>3</td>\n",
              "      <td>1</td>\n",
              "    </tr>\n",
              "    <tr>\n",
              "      <th>2</th>\n",
              "      <td>30</td>\n",
              "      <td>65</td>\n",
              "      <td>0</td>\n",
              "      <td>1</td>\n",
              "    </tr>\n",
              "    <tr>\n",
              "      <th>3</th>\n",
              "      <td>31</td>\n",
              "      <td>59</td>\n",
              "      <td>2</td>\n",
              "      <td>1</td>\n",
              "    </tr>\n",
              "    <tr>\n",
              "      <th>4</th>\n",
              "      <td>31</td>\n",
              "      <td>65</td>\n",
              "      <td>4</td>\n",
              "      <td>1</td>\n",
              "    </tr>\n",
              "  </tbody>\n",
              "</table>\n",
              "</div>"
            ],
            "text/plain": [
              "   operation_age       ...         survival_status\n",
              "0             30       ...                       1\n",
              "1             30       ...                       1\n",
              "2             30       ...                       1\n",
              "3             31       ...                       1\n",
              "4             31       ...                       1\n",
              "\n",
              "[5 rows x 4 columns]"
            ]
          },
          "metadata": {
            "tags": []
          },
          "execution_count": 3
        }
      ]
    },
    {
      "cell_type": "markdown",
      "metadata": {
        "id": "qswb-n5WSpzb",
        "colab_type": "text"
      },
      "source": [
        "changed values under survival_status to conform with a 0/1 standard"
      ]
    },
    {
      "cell_type": "markdown",
      "metadata": {
        "id": "G7rLytbrO38L",
        "colab_type": "text"
      },
      "source": [
        "## Part 2 - Examine the distribution and relationships of the features\n",
        "\n",
        "Explore the data - create at least *2* tables (can be summary statistics or crosstabulations) and *2* plots illustrating the nature of the data.\n",
        "\n",
        "This is open-ended, so to remind - first *complete* this task as a baseline, then go on to the remaining sections, and *then* as time allows revisit and explore further.\n",
        "\n",
        "Hint - you may need to bin some variables depending on your chosen tables/plots."
      ]
    },
    {
      "cell_type": "markdown",
      "metadata": {
        "id": "ejmOv9j7oTfL",
        "colab_type": "text"
      },
      "source": [
        "### Figure 1"
      ]
    },
    {
      "cell_type": "code",
      "metadata": {
        "id": "CrHRPJZ5UwPv",
        "colab_type": "code",
        "colab": {
          "base_uri": "https://localhost:8080/",
          "height": 767
        },
        "outputId": "02778c34-3393-491e-f77e-a85187ebc9ae"
      },
      "source": [
        "age_bins = pd.cut(df['operation_age'], [29,39,49,59,69,85])\n",
        "\n",
        "print(age_bins.value_counts())\n",
        "\n",
        "pd.crosstab(age_bins, df['survival_status'], normalize = 'index').plot.bar(figsize = (12,6))\n",
        "plt.xlabel('Age at Time of Operation')\n",
        "plt.ylabel('%')\n",
        "plt.title('Age at Time of Operation vs Survival Status')\n",
        "plt.show()\n",
        "pd.crosstab(age_bins, df['survival_status'],normalize = 'index')\n",
        "\n"
      ],
      "execution_count": 5,
      "outputs": [
        {
          "output_type": "stream",
          "text": [
            "(49, 59]    99\n",
            "(39, 49]    84\n",
            "(59, 69]    62\n",
            "(29, 39]    40\n",
            "(69, 85]    21\n",
            "Name: operation_age, dtype: int64\n"
          ],
          "name": "stdout"
        },
        {
          "output_type": "display_data",
          "data": {
            "image/png": "[encoded data removed]",
            "text/plain": [
              "<Figure size 864x432 with 1 Axes>"
            ]
          },
          "metadata": {
            "tags": []
          }
        },
        {
          "output_type": "execute_result",
          "data": {
            "text/html": [
              "<div>\n",
              "<style scoped>\n",
              "    .dataframe tbody tr th:only-of-type {\n",
              "        vertical-align: middle;\n",
              "    }\n",
              "\n",
              "    .dataframe tbody tr th {\n",
              "        vertical-align: top;\n",
              "    }\n",
              "\n",
              "    .dataframe thead th {\n",
              "        text-align: right;\n",
              "    }\n",
              "</style>\n",
              "<table border=\"1\" class=\"dataframe\">\n",
              "  <thead>\n",
              "    <tr style=\"text-align: right;\">\n",
              "      <th>survival_status</th>\n",
              "      <th>0</th>\n",
              "      <th>1</th>\n",
              "    </tr>\n",
              "    <tr>\n",
              "      <th>operation_age</th>\n",
              "      <th></th>\n",
              "      <th></th>\n",
              "    </tr>\n",
              "  </thead>\n",
              "  <tbody>\n",
              "    <tr>\n",
              "      <th>(29, 39]</th>\n",
              "      <td>0.100000</td>\n",
              "      <td>0.900000</td>\n",
              "    </tr>\n",
              "    <tr>\n",
              "      <th>(39, 49]</th>\n",
              "      <td>0.321429</td>\n",
              "      <td>0.678571</td>\n",
              "    </tr>\n",
              "    <tr>\n",
              "      <th>(49, 59]</th>\n",
              "      <td>0.262626</td>\n",
              "      <td>0.737374</td>\n",
              "    </tr>\n",
              "    <tr>\n",
              "      <th>(59, 69]</th>\n",
              "      <td>0.290323</td>\n",
              "      <td>0.709677</td>\n",
              "    </tr>\n",
              "    <tr>\n",
              "      <th>(69, 85]</th>\n",
              "      <td>0.285714</td>\n",
              "      <td>0.714286</td>\n",
              "    </tr>\n",
              "  </tbody>\n",
              "</table>\n",
              "</div>"
            ],
            "text/plain": [
              "survival_status         0         1\n",
              "operation_age                      \n",
              "(29, 39]         0.100000  0.900000\n",
              "(39, 49]         0.321429  0.678571\n",
              "(49, 59]         0.262626  0.737374\n",
              "(59, 69]         0.290323  0.709677\n",
              "(69, 85]         0.285714  0.714286"
            ]
          },
          "metadata": {
            "tags": []
          },
          "execution_count": 5
        }
      ]
    },
    {
      "cell_type": "markdown",
      "metadata": {
        "id": "U1rIMBawZQ1z",
        "colab_type": "text"
      },
      "source": [
        "if you get the operation before age 40, you are more likely to survive past year 5 from the operation date."
      ]
    },
    {
      "cell_type": "markdown",
      "metadata": {
        "id": "AyB1S0NGokCB",
        "colab_type": "text"
      },
      "source": [
        "### Figure 2"
      ]
    },
    {
      "cell_type": "code",
      "metadata": {
        "id": "B1HaHqJBbJAY",
        "colab_type": "code",
        "colab": {
          "base_uri": "https://localhost:8080/",
          "height": 716
        },
        "outputId": "54fc232c-eff8-46ea-8671-f9a71510f9f8"
      },
      "source": [
        "ax_bins = pd.cut(df['axillary_nodes'], [-1,0,5,10,15,20,30,52])\n",
        "pd.crosstab(ax_bins,df['survival_status'], normalize = 'index').plot.bar(figsize = (9,6))\n",
        "plt.xlabel('# of Axillary Nodes')\n",
        "plt.ylabel('%')\n",
        "plt.title('# of Axillary Nodes Found vs Survival Status')\n",
        "plt.show()\n",
        "pd.crosstab(ax_bins,df['survival_status'], normalize = 'index')"
      ],
      "execution_count": 7,
      "outputs": [
        {
          "output_type": "display_data",
          "data": {
            "image/png": "[encoded data removed]",
            "text/plain": [
              "<Figure size 648x432 with 1 Axes>"
            ]
          },
          "metadata": {
            "tags": []
          }
        },
        {
          "output_type": "execute_result",
          "data": {
            "text/html": [
              "<div>\n",
              "<style scoped>\n",
              "    .dataframe tbody tr th:only-of-type {\n",
              "        vertical-align: middle;\n",
              "    }\n",
              "\n",
              "    .dataframe tbody tr th {\n",
              "        vertical-align: top;\n",
              "    }\n",
              "\n",
              "    .dataframe thead th {\n",
              "        text-align: right;\n",
              "    }\n",
              "</style>\n",
              "<table border=\"1\" class=\"dataframe\">\n",
              "  <thead>\n",
              "    <tr style=\"text-align: right;\">\n",
              "      <th>survival_status</th>\n",
              "      <th>0</th>\n",
              "      <th>1</th>\n",
              "    </tr>\n",
              "    <tr>\n",
              "      <th>axillary_nodes</th>\n",
              "      <th></th>\n",
              "      <th></th>\n",
              "    </tr>\n",
              "  </thead>\n",
              "  <tbody>\n",
              "    <tr>\n",
              "      <th>(-1, 0]</th>\n",
              "      <td>0.139706</td>\n",
              "      <td>0.860294</td>\n",
              "    </tr>\n",
              "    <tr>\n",
              "      <th>(0, 5]</th>\n",
              "      <td>0.270000</td>\n",
              "      <td>0.730000</td>\n",
              "    </tr>\n",
              "    <tr>\n",
              "      <th>(5, 10]</th>\n",
              "      <td>0.400000</td>\n",
              "      <td>0.600000</td>\n",
              "    </tr>\n",
              "    <tr>\n",
              "      <th>(10, 15]</th>\n",
              "      <td>0.611111</td>\n",
              "      <td>0.388889</td>\n",
              "    </tr>\n",
              "    <tr>\n",
              "      <th>(15, 20]</th>\n",
              "      <td>0.500000</td>\n",
              "      <td>0.500000</td>\n",
              "    </tr>\n",
              "    <tr>\n",
              "      <th>(20, 30]</th>\n",
              "      <td>0.545455</td>\n",
              "      <td>0.454545</td>\n",
              "    </tr>\n",
              "    <tr>\n",
              "      <th>(30, 52]</th>\n",
              "      <td>0.666667</td>\n",
              "      <td>0.333333</td>\n",
              "    </tr>\n",
              "  </tbody>\n",
              "</table>\n",
              "</div>"
            ],
            "text/plain": [
              "survival_status         0         1\n",
              "axillary_nodes                     \n",
              "(-1, 0]          0.139706  0.860294\n",
              "(0, 5]           0.270000  0.730000\n",
              "(5, 10]          0.400000  0.600000\n",
              "(10, 15]         0.611111  0.388889\n",
              "(15, 20]         0.500000  0.500000\n",
              "(20, 30]         0.545455  0.454545\n",
              "(30, 52]         0.666667  0.333333"
            ]
          },
          "metadata": {
            "tags": []
          },
          "execution_count": 7
        }
      ]
    },
    {
      "cell_type": "markdown",
      "metadata": {
        "id": "ye4ouqoFeBei",
        "colab_type": "text"
      },
      "source": [
        "if no axillary nodes are found then survival beyond year 5 is more likely. There is an inverse relationship between the number of nodes and suvival status"
      ]
    },
    {
      "cell_type": "markdown",
      "metadata": {
        "id": "wqnVn8ktonbe",
        "colab_type": "text"
      },
      "source": [
        "### Figure 3"
      ]
    },
    {
      "cell_type": "code",
      "metadata": {
        "id": "2P2pXFOIh_9j",
        "colab_type": "code",
        "colab": {
          "base_uri": "https://localhost:8080/",
          "height": 762
        },
        "outputId": "00dd31d6-e1cd-4da3-912a-316fab5be22e"
      },
      "source": [
        "pd.crosstab(age_bins, ax_bins,normalize = 'index').plot.bar(figsize = (12,8), stacked = True)\n",
        "plt.xlabel('Age at Time of Operation')\n",
        "plt.ylabel('%')\n",
        "plt.title('Age and # of Axillary Nodes Found')\n",
        "plt.show()\n",
        "pd.crosstab(age_bins, ax_bins,normalize = 'index')"
      ],
      "execution_count": 13,
      "outputs": [
        {
          "output_type": "display_data",
          "data": {
            "image/png": "[encoded data removed]",
            "text/plain": [
              "<Figure size 864x576 with 1 Axes>"
            ]
          },
          "metadata": {
            "tags": []
          }
        },
        {
          "output_type": "execute_result",
          "data": {
            "text/html": [
              "<div>\n",
              "<style scoped>\n",
              "    .dataframe tbody tr th:only-of-type {\n",
              "        vertical-align: middle;\n",
              "    }\n",
              "\n",
              "    .dataframe tbody tr th {\n",
              "        vertical-align: top;\n",
              "    }\n",
              "\n",
              "    .dataframe thead th {\n",
              "        text-align: right;\n",
              "    }\n",
              "</style>\n",
              "<table border=\"1\" class=\"dataframe\">\n",
              "  <thead>\n",
              "    <tr style=\"text-align: right;\">\n",
              "      <th>axillary_nodes</th>\n",
              "      <th>(-1, 0]</th>\n",
              "      <th>(0, 5]</th>\n",
              "      <th>(5, 10]</th>\n",
              "      <th>(10, 15]</th>\n",
              "      <th>(15, 20]</th>\n",
              "      <th>(20, 30]</th>\n",
              "      <th>(30, 52]</th>\n",
              "    </tr>\n",
              "    <tr>\n",
              "      <th>operation_age</th>\n",
              "      <th></th>\n",
              "      <th></th>\n",
              "      <th></th>\n",
              "      <th></th>\n",
              "      <th></th>\n",
              "      <th></th>\n",
              "      <th></th>\n",
              "    </tr>\n",
              "  </thead>\n",
              "  <tbody>\n",
              "    <tr>\n",
              "      <th>(29, 39]</th>\n",
              "      <td>0.425000</td>\n",
              "      <td>0.325000</td>\n",
              "      <td>0.125000</td>\n",
              "      <td>0.075000</td>\n",
              "      <td>0.000000</td>\n",
              "      <td>0.050000</td>\n",
              "      <td>0.000000</td>\n",
              "    </tr>\n",
              "    <tr>\n",
              "      <th>(39, 49]</th>\n",
              "      <td>0.428571</td>\n",
              "      <td>0.321429</td>\n",
              "      <td>0.107143</td>\n",
              "      <td>0.059524</td>\n",
              "      <td>0.047619</td>\n",
              "      <td>0.023810</td>\n",
              "      <td>0.011905</td>\n",
              "    </tr>\n",
              "    <tr>\n",
              "      <th>(49, 59]</th>\n",
              "      <td>0.343434</td>\n",
              "      <td>0.424242</td>\n",
              "      <td>0.101010</td>\n",
              "      <td>0.060606</td>\n",
              "      <td>0.020202</td>\n",
              "      <td>0.030303</td>\n",
              "      <td>0.020202</td>\n",
              "    </tr>\n",
              "    <tr>\n",
              "      <th>(59, 69]</th>\n",
              "      <td>0.612903</td>\n",
              "      <td>0.161290</td>\n",
              "      <td>0.080645</td>\n",
              "      <td>0.048387</td>\n",
              "      <td>0.032258</td>\n",
              "      <td>0.064516</td>\n",
              "      <td>0.000000</td>\n",
              "    </tr>\n",
              "    <tr>\n",
              "      <th>(69, 85]</th>\n",
              "      <td>0.523810</td>\n",
              "      <td>0.380952</td>\n",
              "      <td>0.047619</td>\n",
              "      <td>0.047619</td>\n",
              "      <td>0.000000</td>\n",
              "      <td>0.000000</td>\n",
              "      <td>0.000000</td>\n",
              "    </tr>\n",
              "  </tbody>\n",
              "</table>\n",
              "</div>"
            ],
            "text/plain": [
              "axillary_nodes   (-1, 0]    (0, 5]    ...     (20, 30]  (30, 52]\n",
              "operation_age                         ...                       \n",
              "(29, 39]        0.425000  0.325000    ...     0.050000  0.000000\n",
              "(39, 49]        0.428571  0.321429    ...     0.023810  0.011905\n",
              "(49, 59]        0.343434  0.424242    ...     0.030303  0.020202\n",
              "(59, 69]        0.612903  0.161290    ...     0.064516  0.000000\n",
              "(69, 85]        0.523810  0.380952    ...     0.000000  0.000000\n",
              "\n",
              "[5 rows x 7 columns]"
            ]
          },
          "metadata": {
            "tags": []
          },
          "execution_count": 13
        }
      ]
    },
    {
      "cell_type": "markdown",
      "metadata": {
        "id": "slyJGs1fn-1r",
        "colab_type": "text"
      },
      "source": [
        "positive correlation between age and number of axillary nodes found"
      ]
    },
    {
      "cell_type": "markdown",
      "metadata": {
        "id": "ZM8JckA2bgnp",
        "colab_type": "text"
      },
      "source": [
        "## Part 3 - Analysis and Interpretation\n",
        "\n",
        "Now that you've looked at the data, answer the following questions:\n",
        "\n",
        "- What is at least one feature that looks to have a positive relationship with survival?\n",
        "- What is at least one feature that looks to have a negative relationship with survival?\n",
        "- How are those two features related with each other, and what might that mean?\n",
        "\n",
        "Answer with text, but feel free to intersperse example code/results or refer to it from earlier."
      ]
    },
    {
      "cell_type": "markdown",
      "metadata": {
        "id": "1QK-kk12oGBD",
        "colab_type": "text"
      },
      "source": [
        "Figure 2 shows a positive correlation between # of axillary nodes detected and survival of less than 5 years.\n",
        "\n",
        "Figure 1 shows there is a negative relationship between age and survival of more than 5 years.\n",
        "\n",
        "Figure 3 shows that with increased age there were more axillary nodes detected and those people were less likely to survive past year 5\n",
        "\n"
      ]
    }
  ]
}