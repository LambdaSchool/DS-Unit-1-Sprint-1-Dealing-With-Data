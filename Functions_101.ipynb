{
  "nbformat": 4,
  "nbformat_minor": 0,
  "metadata": {
    "colab": {
      "name": "Copy of Functions 101.ipynb",
      "version": "0.3.2",
      "provenance": [],
      "include_colab_link": true
    },
    "kernelspec": {
      "name": "python3",
      "display_name": "Python 3"
    }
  },
  "cells": [
    {
      "cell_type": "markdown",
      "metadata": {
        "id": "view-in-github",
        "colab_type": "text"
      },
      "source": [
        "<a href=\"https://colab.research.google.com/github/jtsheppard/DS-Unit-1-Sprint-1-Dealing-With-Data/blob/master/Functions_101.ipynb\" target=\"_parent\"><img src=\"https://colab.research.google.com/assets/colab-badge.svg\" alt=\"Open In Colab\"/></a>"
      ]
    },
    {
      "cell_type": "code",
      "metadata": {
        "id": "BIIxhq8z8M1T",
        "colab_type": "code",
        "outputId": "7eb6b8da-526a-4e50-d067-16f6b46a0b5a",
        "colab": {
          "base_uri": "https://localhost:8080/",
          "height": 35
        }
      },
      "source": [
        "# Keep your code DRY!\n",
        "# Don't Repeat Yourself!"
      ],
      "execution_count": 0,
      "outputs": [
        {
          "output_type": "stream",
          "text": [
            "Hello World!\n"
          ],
          "name": "stdout"
        }
      ]
    },
    {
      "cell_type": "code",
      "metadata": {
        "id": "-wp3Quu_8sJ-",
        "colab_type": "code",
        "outputId": "c14a5ab3-96d6-4370-cb45-c8486c8af551",
        "colab": {
          "base_uri": "https://localhost:8080/",
          "height": 198
        }
      },
      "source": [
        "import pandas as pd\n",
        "import numpy as np\n",
        "import scipy.stats as stats\n",
        "df = pd.DataFrame({'a': [1,2,3,4,5], 'b': [4,5,6,7,8]})\n",
        "df.head()"
      ],
      "execution_count": 0,
      "outputs": [
        {
          "output_type": "execute_result",
          "data": {
            "text/html": [
              "<div>\n",
              "<style scoped>\n",
              "    .dataframe tbody tr th:only-of-type {\n",
              "        vertical-align: middle;\n",
              "    }\n",
              "\n",
              "    .dataframe tbody tr th {\n",
              "        vertical-align: top;\n",
              "    }\n",
              "\n",
              "    .dataframe thead th {\n",
              "        text-align: right;\n",
              "    }\n",
              "</style>\n",
              "<table border=\"1\" class=\"dataframe\">\n",
              "  <thead>\n",
              "    <tr style=\"text-align: right;\">\n",
              "      <th></th>\n",
              "      <th>a</th>\n",
              "      <th>b</th>\n",
              "    </tr>\n",
              "  </thead>\n",
              "  <tbody>\n",
              "    <tr>\n",
              "      <th>0</th>\n",
              "      <td>1</td>\n",
              "      <td>4</td>\n",
              "    </tr>\n",
              "    <tr>\n",
              "      <th>1</th>\n",
              "      <td>2</td>\n",
              "      <td>5</td>\n",
              "    </tr>\n",
              "    <tr>\n",
              "      <th>2</th>\n",
              "      <td>3</td>\n",
              "      <td>6</td>\n",
              "    </tr>\n",
              "    <tr>\n",
              "      <th>3</th>\n",
              "      <td>4</td>\n",
              "      <td>7</td>\n",
              "    </tr>\n",
              "    <tr>\n",
              "      <th>4</th>\n",
              "      <td>5</td>\n",
              "      <td>8</td>\n",
              "    </tr>\n",
              "  </tbody>\n",
              "</table>\n",
              "</div>"
            ],
            "text/plain": [
              "   a  b\n",
              "0  1  4\n",
              "1  2  5\n",
              "2  3  6\n",
              "3  4  7\n",
              "4  5  8"
            ]
          },
          "metadata": {
            "tags": []
          },
          "execution_count": 20
        }
      ]
    },
    {
      "cell_type": "code",
      "metadata": {
        "id": "b1sejFt78y7N",
        "colab_type": "code",
        "colab": {}
      },
      "source": [
        "def column_means(columns): # Parameter\n",
        "\n"
      ],
      "execution_count": 0,
      "outputs": []
    },
    {
      "cell_type": "code",
      "metadata": {
        "id": "UrH_a-vA8zOk",
        "colab_type": "code",
        "colab": {}
      },
      "source": [
        "??pd.read_csv()"
      ],
      "execution_count": 0,
      "outputs": []
    },
    {
      "cell_type": "code",
      "metadata": {
        "id": "ja11Tda3-apG",
        "colab_type": "code",
        "colab": {}
      },
      "source": [
        "def confidence_interval(data, confidence=0.95): # Parameters\n",
        "  \"\"\"\n",
        "  Calculate a confidence interval around a sample mean for given data.\n",
        "  Using t-distribution and two-tailed test, default 95% confidence. \n",
        "  \n",
        "  Arguments:\n",
        "    data - iterable (list or numpy array) of sample observations\n",
        "    confidence - level of confidence for the interval\n",
        "  \n",
        "  Returns:\n",
        "    tuple of (mean, lower bound, upper bound)\n",
        "  \"\"\"\n",
        "  data = np.array(data)\n",
        "  mean = np.mean(data)\n",
        "  n = len(data)\n",
        "  stderr = stats.sem(data)\n",
        "  interval = stderr * stats.t.ppf((1 + confidence) / 2.0, n - 1)\n",
        "  return (mean, mean - interval, mean + interval)"
      ],
      "execution_count": 0,
      "outputs": []
    },
    {
      "cell_type": "code",
      "metadata": {
        "id": "P7TyKuay-t7P",
        "colab_type": "code",
        "colab": {}
      },
      "source": [
        "coinflips = np.random.binomial(n=1, p=.5, size=30)"
      ],
      "execution_count": 0,
      "outputs": []
    },
    {
      "cell_type": "code",
      "metadata": {
        "id": "W64VaBkS-wt5",
        "colab_type": "code",
        "outputId": "5da77d72-080c-47aa-d799-b6c207b17032",
        "colab": {
          "base_uri": "https://localhost:8080/",
          "height": 35
        }
      },
      "source": [
        "confidence_interval(coinflips, confidence=.99) # Arguments\n",
        "\n",
        "# \"Pass-in\" == \"Include it as an argument\""
      ],
      "execution_count": 0,
      "outputs": [
        {
          "output_type": "execute_result",
          "data": {
            "text/plain": [
              "(0.6, 0.3492467086894861, 0.8507532913105138)"
            ]
          },
          "metadata": {
            "tags": []
          },
          "execution_count": 21
        }
      ]
    },
    {
      "cell_type": "code",
      "metadata": {
        "id": "-HepxqaD-9Qa",
        "colab_type": "code",
        "outputId": "d18bfe2c-e3c0-4a0b-a5f1-4141fd2570c3",
        "colab": {
          "base_uri": "https://localhost:8080/",
          "height": 35
        }
      },
      "source": [
        "my_list = [1,2,3,4,5,6,7,8,9]\n",
        "np.mean(my_list) # This is a method - dot notation and parenthesis"
      ],
      "execution_count": 0,
      "outputs": [
        {
          "output_type": "execute_result",
          "data": {
            "text/plain": [
              "5.0"
            ]
          },
          "metadata": {
            "tags": []
          },
          "execution_count": 22
        }
      ]
    },
    {
      "cell_type": "code",
      "metadata": {
        "id": "-zsQVOqsAQMs",
        "colab_type": "code",
        "outputId": "5b831a77-1ba0-43e5-8acb-ae65266927d6",
        "colab": {
          "base_uri": "https://localhost:8080/",
          "height": 35
        }
      },
      "source": [
        "len(my_list) # built-in function \n",
        "\n",
        "confidence_interval(coinflips, confidence=.99) # A function that I have provided\n",
        "# Parenthesis are called \"invoking parenthesis\""
      ],
      "execution_count": 0,
      "outputs": [
        {
          "output_type": "execute_result",
          "data": {
            "text/plain": [
              "(0.6, 0.3492467086894861, 0.8507532913105138)"
            ]
          },
          "metadata": {
            "tags": []
          },
          "execution_count": 27
        }
      ]
    },
    {
      "cell_type": "code",
      "metadata": {
        "id": "EA9i7m_VA5xx",
        "colab_type": "code",
        "outputId": "b7098a25-2c97-4a93-e44e-25e351ddd07c",
        "colab": {
          "base_uri": "https://localhost:8080/",
          "height": 35
        }
      },
      "source": [
        "print(confidence_interval)"
      ],
      "execution_count": 0,
      "outputs": [
        {
          "output_type": "stream",
          "text": [
            "<function confidence_interval at 0x7f41acc49400>\n"
          ],
          "name": "stdout"
        }
      ]
    },
    {
      "cell_type": "code",
      "metadata": {
        "id": "MBj7TZ7vAVTH",
        "colab_type": "code",
        "outputId": "ea529377-d157-4ca3-bb0d-2c314589ada1",
        "colab": {
          "base_uri": "https://localhost:8080/",
          "height": 35
        }
      },
      "source": [
        "df.shape # dot notation without invoking parenthesis - Attribute"
      ],
      "execution_count": 0,
      "outputs": [
        {
          "output_type": "execute_result",
          "data": {
            "text/plain": [
              "(5, 2)"
            ]
          },
          "metadata": {
            "tags": []
          },
          "execution_count": 24
        }
      ]
    },
    {
      "cell_type": "code",
      "metadata": {
        "id": "FBl1ui6rBNrg",
        "colab_type": "code",
        "outputId": "a7ec9084-ce8d-4fe7-8269-8233bf93b121",
        "colab": {
          "base_uri": "https://localhost:8080/",
          "height": 35
        }
      },
      "source": [
        "# Add our own attribute to our dataframe\n",
        "df.my_name = \"Ryan Alred\"\n",
        "\n",
        "df.my_name # me saving a piece of information to this dataframe using dot notation"
      ],
      "execution_count": 0,
      "outputs": [
        {
          "output_type": "execute_result",
          "data": {
            "text/plain": [
              "'Ryan Alred'"
            ]
          },
          "metadata": {
            "tags": []
          },
          "execution_count": 32
        }
      ]
    },
    {
      "cell_type": "code",
      "metadata": {
        "id": "PGrZCNk6BKRt",
        "colab_type": "code",
        "colab": {}
      },
      "source": [
        "# Top line of a function is called the \"signuture\"\n",
        "# function written out (the literal text of it) - is called the \"function definition\"\n",
        "# The things that go inside of the parenthesis are called \"parameters\"\n",
        "# parameters that have = signs are \"defaults\" that will be assigned default values if we don't provide them\n",
        "# the () are sometimes called \"invoking parenthesis\" this is what distinguishes a function call from just any other variable name\n",
        "# When we call or \"invoke\" a function, we \"pass-in\" our own \"arguments\" that get renamed whatever the paramter names are\n",
        "# The arguments that have been renamed as parameters then get processed throughout the \"function body\"\n",
        "# \"object\" is the generic name for something that has methods and attributes associated with it - is built by a \"class\"\n",
        "# An \"object\" like np (for numpy) that has a .something() - is called a \"method\" - notice that it has invoking parenthesis\n",
        "# An \"object\""
      ],
      "execution_count": 0,
      "outputs": []
    }
  ]
}