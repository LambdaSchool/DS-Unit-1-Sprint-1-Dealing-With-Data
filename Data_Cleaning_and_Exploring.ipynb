{
  "nbformat": 4,
  "nbformat_minor": 0,
  "metadata": {
    "colab": {
      "name": "Data Cleaning and Exploring.ipynb",
      "version": "0.3.2",
      "provenance": [],
      "include_colab_link": true
    },
    "kernelspec": {
      "name": "python3",
      "display_name": "Python 3"
    }
  },
  "cells": [
    {
      "cell_type": "markdown",
      "metadata": {
        "id": "view-in-github",
        "colab_type": "text"
      },
      "source": [
        "<a href=\"https://colab.research.google.com/github/Granero0011/DS-Unit-1-Sprint-1-Dealing-With-Data/blob/master/Data_Cleaning_and_Exploring.ipynb\" target=\"_parent\"><img src=\"https://colab.research.google.com/assets/colab-badge.svg\" alt=\"Open In Colab\"/></a>"
      ]
    },
    {
      "metadata": {
        "id": "xQA7x27gzv3m",
        "colab_type": "code",
        "colab": {}
      },
      "cell_type": "code",
      "source": [
        "#basic importing and aliasing\n",
        "import numpy as np\n",
        "import pandas as pd"
      ],
      "execution_count": 0,
      "outputs": []
    },
    {
      "metadata": {
        "id": "eyOnimMTz5Ox",
        "colab_type": "code",
        "colab": {}
      },
      "cell_type": "code",
      "source": [
        "#prevent dataframe truncation by adjusting pandas display options\n",
        "pd.set_option('display.max_columns', None)\n",
        "pd.set_option('display.max_rows', None)"
      ],
      "execution_count": 0,
      "outputs": []
    },
    {
      "metadata": {
        "id": "_y6oGspVyu6x",
        "colab_type": "text"
      },
      "cell_type": "markdown",
      "source": [
        "#Reading in Data"
      ]
    },
    {
      "metadata": {
        "id": "ackMLuMXyWO5",
        "colab_type": "code",
        "colab": {}
      },
      "cell_type": "code",
      "source": [
        "#read in csv\n",
        "black_friday = pd.read_csv('https://raw.githubusercontent.com/pierretd/datasets-1/master/BlackFriday.csv')\n",
        "print(black_friday.head())\n",
        "\n",
        "#read in json\n",
        "#json load tutorial: https://chrisalbon.com/python/data_wrangling/load_json_file_into_pandas/\n",
        "space = pd.read_json('https://raw.githubusercontent.com/pierretd/datasets-1/master/PeopleInSpaceNow.json')\n",
        "print(space.head())\n",
        "\n",
        "#read in tsv\n",
        "fast_fm = pd.read_csv('https://raw.githubusercontent.com/pierretd/datasets-1/master/FastFmProfiles.tsv', delimiter='\\t', encoding='utf-8')\n",
        "print(fast_fm.head())"
      ],
      "execution_count": 0,
      "outputs": []
    },
    {
      "metadata": {
        "id": "wxHviN8_zT81",
        "colab_type": "code",
        "colab": {}
      },
      "cell_type": "code",
      "source": [
        "#uploading a file\n",
        "from google.colab import files\n",
        "upload = files.upload()"
      ],
      "execution_count": 0,
      "outputs": []
    },
    {
      "metadata": {
        "id": "RYtlcXSj0uCq",
        "colab_type": "code",
        "colab": {}
      },
      "cell_type": "code",
      "source": [
        "#renaming headers during upload\n",
        "url = 'https://archive.ics.uci.edu/ml/machine-learning-databases/autos/imports-85.data'\n",
        "auto = pd.read_csv(url,names=['symboling','norm_loss','make','fuel','aspiration','doors',\n",
        "                              'bod_style','drv_wheels','eng_loc','wheel_base','length','width',\n",
        "                              'height','curb_weight','engine','cylinders','engine_size',\n",
        "                              'fuel_system','bore','stroke','compression','hp','peak_rpm',\n",
        "                              'city_mpg','hgwy_mpg','price'])"
      ],
      "execution_count": 0,
      "outputs": []
    },
    {
      "metadata": {
        "id": "WwAmDJEB1Frz",
        "colab_type": "text"
      },
      "cell_type": "markdown",
      "source": [
        "#Data Cleaning"
      ]
    },
    {
      "metadata": {
        "id": "EbWFBUWd1yKa",
        "colab_type": "code",
        "colab": {}
      },
      "cell_type": "code",
      "source": [
        "#rename columns after reading in\n",
        "flag_data = pd.read_csv(flag_data_url, header=None)\n",
        "feature_map = {0: 'name',\n",
        "               1: 'landmass',\n",
        "               2: 'zone',\n",
        "               3: 'area',\n",
        "               4: 'population',\n",
        "               5: 'language',\n",
        "               6: 'religion',\n",
        "               7: 'bars',\n",
        "               8: 'stripes',\n",
        "               9: 'colours',\n",
        "               10: 'red',\n",
        "               11: 'green',\n",
        "               12: 'blue',\n",
        "               13: 'gold',\n",
        "               14: 'white',\n",
        "               15: 'black',\n",
        "               16: 'orange',\n",
        "               17: 'mainhue',\n",
        "               18: 'circles',\n",
        "               19: 'crosses',\n",
        "               20: 'saltires',\n",
        "               21: 'quarters',\n",
        "               22: 'sunstars',\n",
        "               23: 'crescent',\n",
        "               24: 'triangle',\n",
        "               25: 'icon',\n",
        "               26: 'animate',\n",
        "               27: 'text',\n",
        "               28: 'topleft',\n",
        "               29: 'botright'}\n",
        "\n",
        "flag_data.rename(columns=feature_map, inplace=True)"
      ],
      "execution_count": 0,
      "outputs": []
    },
    {
      "metadata": {
        "id": "Jb5b7-HA1OH8",
        "colab_type": "code",
        "colab": {}
      },
      "cell_type": "code",
      "source": [
        "#replacing values in a data set with a new value\n",
        "auto = auto.replace('?', np.NaN)"
      ],
      "execution_count": 0,
      "outputs": []
    },
    {
      "metadata": {
        "id": "mTnJ_yboDkkS",
        "colab_type": "code",
        "colab": {}
      },
      "cell_type": "code",
      "source": [
        "#setting categories to type 'category' for faster operations\n",
        "auto['make'] = auto['make'].astype('category')"
      ],
      "execution_count": 0,
      "outputs": []
    },
    {
      "metadata": {
        "id": "-qgpc344EMzv",
        "colab_type": "code",
        "colab": {}
      },
      "cell_type": "code",
      "source": [
        "#label encoding\n",
        "auto['make'] = auto['make'].cat.codes"
      ],
      "execution_count": 0,
      "outputs": []
    },
    {
      "metadata": {
        "id": "cs8A1bGnFH_m",
        "colab_type": "code",
        "colab": {}
      },
      "cell_type": "code",
      "source": [
        "#one hot encoding\n",
        "auto = pd.get_dummies(auto, columns=['make'], prefix = ['make'])\n",
        "auto.head()"
      ],
      "execution_count": 0,
      "outputs": []
    },
    {
      "metadata": {
        "id": "bVKr2EI7FwFB",
        "colab_type": "code",
        "colab": {}
      },
      "cell_type": "code",
      "source": [
        "!pip install category_encoders as ce\n",
        "#binary encoding\n",
        "encoder = ce.BinaryEncoder(cols=['make'])\n",
        "auto = encoder.fit_transform(auto)"
      ],
      "execution_count": 0,
      "outputs": []
    },
    {
      "metadata": {
        "id": "nh8Hl6t37bih",
        "colab_type": "code",
        "colab": {}
      },
      "cell_type": "code",
      "source": [
        "#filling null values (will not run, just example)\n",
        "df.fillna(0) #fill nulls with a value\n",
        "df.fillna(method='ffill') #fill based on a method chosen from  {‘backfill’, ‘bfill’, ‘pad’, ‘ffill’, None}\n",
        "df.fillna(value={'A': 0, 'B': 1, 'C': 2, 'D': 3}) #fill each feature with a different value\n",
        "df.fillna(value=values, limit=1) #fill a set number of nulls"
      ],
      "execution_count": 0,
      "outputs": []
    },
    {
      "metadata": {
        "id": "FZBtArbh8h6h",
        "colab_type": "code",
        "colab": {}
      },
      "cell_type": "code",
      "source": [
        "#dropping null values\n",
        "df.dropna() #drop rows\n",
        "df.dropna(axis='columns') #drop columns\n",
        "df.dropna(axis='rows', thresh=3) # drop rows with fewer non-nulls than the threshhold"
      ],
      "execution_count": 0,
      "outputs": []
    },
    {
      "metadata": {
        "id": "-cH0DqVn2iyi",
        "colab_type": "code",
        "colab": {}
      },
      "cell_type": "code",
      "source": [
        "#add a column (will not run, just example)\n",
        "df['new feature'] = 'Value' #new column with same value for all rows\n",
        "df['new feature'] = df2['df2 feature'] #new column from another dataframe column"
      ],
      "execution_count": 0,
      "outputs": []
    },
    {
      "metadata": {
        "id": "yYUg0b4F255o",
        "colab_type": "code",
        "colab": {}
      },
      "cell_type": "code",
      "source": [
        "#combine two data frames (will not run, just example)\n",
        "df3 = df1.append(df2)"
      ],
      "execution_count": 0,
      "outputs": []
    },
    {
      "metadata": {
        "id": "xTAcOPXDEop0",
        "colab_type": "code",
        "colab": {}
      },
      "cell_type": "code",
      "source": [
        "#use np.where to encode a category based on values in another category (will not run, just example)\n",
        "df['feature1'] = np.where(df['feature2'].str.contains('value'), 1, 0)"
      ],
      "execution_count": 0,
      "outputs": []
    },
    {
      "metadata": {
        "id": "sETHoav_4FiZ",
        "colab_type": "code",
        "colab": {}
      },
      "cell_type": "code",
      "source": [
        "#loop to impute values based on whether they are numeric or categorical (will not run, just example)\n",
        "from pandas.api.types import is_numeric_dtype\n",
        "\n",
        "for header in comic_chars_df:\n",
        "  if is_numeric_dtype(comic_chars_df[header]):\n",
        "    #do something with the numeric features here\n",
        "  else:\n",
        "    #do something with the categorical features here"
      ],
      "execution_count": 0,
      "outputs": []
    },
    {
      "metadata": {
        "id": "8i3Z3Xju1Jml",
        "colab_type": "text"
      },
      "cell_type": "markdown",
      "source": [
        "#Exploring Data"
      ]
    },
    {
      "metadata": {
        "id": "PLqtb0P11bT1",
        "colab_type": "code",
        "colab": {}
      },
      "cell_type": "code",
      "source": [
        "#show X rows in the dataframe, no value defaults to 5\n",
        "auto.head()"
      ],
      "execution_count": 0,
      "outputs": []
    },
    {
      "metadata": {
        "id": "DbvD42VeBDCQ",
        "colab_type": "code",
        "colab": {}
      },
      "cell_type": "code",
      "source": [
        "#summary of the dataframe\n",
        "auto.info()"
      ],
      "execution_count": 0,
      "outputs": []
    },
    {
      "metadata": {
        "id": "t9h8CLlF2GYx",
        "colab_type": "code",
        "colab": {}
      },
      "cell_type": "code",
      "source": [
        "#get basic stats on any numeric features\n",
        "auto.describe()"
      ],
      "execution_count": 0,
      "outputs": []
    },
    {
      "metadata": {
        "id": "pzgeOuQY2V3b",
        "colab_type": "code",
        "colab": {}
      },
      "cell_type": "code",
      "source": [
        "#dimensions of the dataframe\n",
        "auto.shape"
      ],
      "execution_count": 0,
      "outputs": []
    },
    {
      "metadata": {
        "id": "5rSJ-XqL31wF",
        "colab_type": "code",
        "colab": {}
      },
      "cell_type": "code",
      "source": [
        "#what are the data types of the different features\n",
        "auto.dtypes"
      ],
      "execution_count": 0,
      "outputs": []
    },
    {
      "metadata": {
        "id": "W-pmhMim3boA",
        "colab_type": "code",
        "colab": {}
      },
      "cell_type": "code",
      "source": [
        "#how many items in each feature of a dataframe\n",
        "auto.count()"
      ],
      "execution_count": 0,
      "outputs": []
    },
    {
      "metadata": {
        "id": "hhAaT4rJ2aay",
        "colab_type": "code",
        "colab": {}
      },
      "cell_type": "code",
      "source": [
        "#count how many of each item in a feature\n",
        "auto['make'].value_counts()"
      ],
      "execution_count": 0,
      "outputs": []
    },
    {
      "metadata": {
        "id": "gqrO-IvtCHg9",
        "colab_type": "code",
        "colab": {}
      },
      "cell_type": "code",
      "source": [
        "#count how many unique values in a category\n",
        "auto['make'].value_counts().count()\n",
        "auto['make'].nunique()"
      ],
      "execution_count": 0,
      "outputs": []
    },
    {
      "metadata": {
        "id": "qjac1VGE3Rru",
        "colab_type": "code",
        "colab": {}
      },
      "cell_type": "code",
      "source": [
        "#how many null or non-null values are there and what features are they in\n",
        "auto.isnull().sum()\n",
        "auto.notnull().sum()"
      ],
      "execution_count": 0,
      "outputs": []
    },
    {
      "metadata": {
        "id": "gOST-awV6ia3",
        "colab_type": "code",
        "colab": {}
      },
      "cell_type": "code",
      "source": [
        "#addittional useful pandas calls\n",
        "df.tail() \n",
        "df.apply()\n",
        "df.map()\n",
        "df.between()\n",
        "df.unique()\n",
        "df.index\n",
        "df.values\n",
        "df.isin()\n",
        "df.astype()\n",
        "df.iloc[]\n",
        "df.loc[]\n",
        "df.groupby()\n",
        "df.T\n",
        "df.interpolate() #https://pandas.pydata.org/pandas-docs/stable/reference/api/pandas.DataFrame.interpolate.html"
      ],
      "execution_count": 0,
      "outputs": []
    },
    {
      "metadata": {
        "id": "hJLy9xSvLPVF",
        "colab_type": "code",
        "colab": {}
      },
      "cell_type": "code",
      "source": [
        "#binning with pd.cut (will not run, just example)\n",
        "time_bins = pd.cut(df['time'], 5) #create 5 bins of time"
      ],
      "execution_count": 0,
      "outputs": []
    },
    {
      "metadata": {
        "id": "3JR4f5pFLHZ3",
        "colab_type": "code",
        "colab": {}
      },
      "cell_type": "code",
      "source": [
        "#crosstab for quick small tables (will not run, just example)\n",
        "pd.crosstab(df['purchased'], time_bins, normalize='columns')"
      ],
      "execution_count": 0,
      "outputs": []
    },
    {
      "metadata": {
        "id": "Ck1N0Bx8Mn4i",
        "colab_type": "code",
        "colab": {}
      },
      "cell_type": "code",
      "source": [
        "#pivot table\n",
        "#https://pandas.pydata.org/pandas-docs/stable/reference/api/pandas.pivot_table.html\n",
        "table = pd.pivot_table(auto, values=['length'],index=['make'],columns=['bod_style']) #pivot table showing length values against make and bod_style\n",
        "\n",
        "table = pd.pivot_table(auto, values=['length'],index=['make'],columns=['bod_style'], aggfunc=np.sum) #pivot table showing summing length values against make and bod_style"
      ],
      "execution_count": 0,
      "outputs": []
    }
  ]
}