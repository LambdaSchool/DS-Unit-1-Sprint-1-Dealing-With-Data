{
  "nbformat": 4,
  "nbformat_minor": 0,
  "metadata": {
    "colab": {
      "name": "warm-up_DS9_CC_1.ipynb",
      "provenance": [],
      "collapsed_sections": [],
      "include_colab_link": true
    },
    "kernelspec": {
      "name": "python3",
      "display_name": "Python 3"
    }
  },
  "cells": [
    {
      "cell_type": "markdown",
      "metadata": {
        "id": "view-in-github",
        "colab_type": "text"
      },
      "source": [
        "<a href=\"https://colab.research.google.com/github/dustinhodges/DS-Unit-1-Sprint-1-Dealing-With-Data/blob/master/warm_up_DS9_CC_1.ipynb\" target=\"_parent\"><img src=\"https://colab.research.google.com/assets/colab-badge.svg\" alt=\"Open In Colab\"/></a>"
      ]
    },
    {
      "cell_type": "markdown",
      "metadata": {
        "id": "YJTkvWvSuePx",
        "colab_type": "text"
      },
      "source": [
        "# Exercise Question 4: \n",
        "## Create a function to arrange string characters such that lowercase letters should come first\n",
        "\n",
        "Submit your solution to your group's slack channel and discuss."
      ]
    },
    {
      "cell_type": "code",
      "metadata": {
        "id": "3lM5235Yvj4C",
        "colab_type": "code",
        "colab": {
          "base_uri": "https://localhost:8080/",
          "height": 34
        },
        "outputId": "1720ccb2-33d6-4409-e2bf-a37289efff21"
      },
      "source": [
        "import pandas as pd\n",
        "\n",
        "def lowercaseFirst(str):\n",
        "  uppers = [l for l in str if l.isupper()]\n",
        "  lowers = [l for l in str if l.islower()]\n",
        "  U=\"\".join(uppers)\n",
        "  L=\"\".join(lowers)\n",
        "  return L+U\n",
        "\n",
        "  \n",
        "lowercaseFirst('PyNaTive')\n",
        "\n",
        "\n"
      ],
      "execution_count": 43,
      "outputs": [
        {
          "output_type": "execute_result",
          "data": {
            "text/plain": [
              "'yaivePNT'"
            ]
          },
          "metadata": {
            "tags": []
          },
          "execution_count": 43
        }
      ]
    },
    {
      "cell_type": "code",
      "metadata": {
        "id": "pd6h55CutDOt",
        "colab_type": "code",
        "outputId": "f6f36058-fa13-4921-b8db-be7dba757ea5",
        "colab": {
          "base_uri": "https://localhost:8080/",
          "height": 35
        }
      },
      "source": [
        "#Expected Output:\n",
        "input_string = \"PyNaTive\"\n",
        "\n",
        "lowercaseFirst(input_string)"
      ],
      "execution_count": 0,
      "outputs": [
        {
          "output_type": "execute_result",
          "data": {
            "text/plain": [
              "'yaivePNT'"
            ]
          },
          "metadata": {
            "tags": []
          },
          "execution_count": 6
        }
      ]
    }
  ]
}