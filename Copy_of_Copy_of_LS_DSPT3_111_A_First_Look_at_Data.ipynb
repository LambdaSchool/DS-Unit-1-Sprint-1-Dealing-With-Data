{
  "nbformat": 4,
  "nbformat_minor": 0,
  "metadata": {
    "colab": {
      "name": "Copy of Copy of LS_DSPT3_111_A_First_Look_at_Data.ipynb",
      "version": "0.3.2",
      "provenance": [],
      "collapsed_sections": [],
      "include_colab_link": true
    },
    "kernelspec": {
      "name": "python3",
      "display_name": "Python 3"
    }
  },
  "cells": [
    {
      "cell_type": "markdown",
      "metadata": {
        "id": "view-in-github",
        "colab_type": "text"
      },
      "source": [
        "<a href=\"https://colab.research.google.com/github/Hallowtipz/DS-Unit-1-Sprint-1-Dealing-With-Data/blob/master/Copy_of_Copy_of_LS_DSPT3_111_A_First_Look_at_Data.ipynb\" target=\"_parent\"><img src=\"https://colab.research.google.com/assets/colab-badge.svg\" alt=\"Open In Colab\"/></a>"
      ]
    },
    {
      "cell_type": "markdown",
      "metadata": {
        "id": "Okfr_uhwhS1X",
        "colab_type": "text"
      },
      "source": [
        "# Lambda School Data Science - A First Look at Data\n",
        "\n"
      ]
    },
    {
      "cell_type": "markdown",
      "metadata": {
        "id": "9dtJETFRhnOG",
        "colab_type": "text"
      },
      "source": [
        "## Lecture - let's explore Python DS libraries and examples!\n",
        "\n",
        "The Python Data Science ecosystem is huge. You've seen some of the big pieces - pandas, scikit-learn, matplotlib. What parts do you want to see more of?"
      ]
    },
    {
      "cell_type": "code",
      "metadata": {
        "id": "WiBkgmPJhmhE",
        "colab_type": "code",
        "colab": {}
      },
      "source": [
        "#Importing dependcies \n",
        "import numpy as np\n",
        "import pandas as pd\n",
        "import matplotlib.pyplot as plt"
      ],
      "execution_count": 0,
      "outputs": []
    },
    {
      "cell_type": "code",
      "metadata": {
        "id": "rnrjGjls9UBF",
        "colab_type": "code",
        "outputId": "c25365a8-8303-4d8d-af2b-44f08aec678a",
        "colab": {
          "base_uri": "https://localhost:8080/",
          "height": 68
        }
      },
      "source": [
        "#create a list of 50 random numbers between 0 and 20\n",
        "np.random.randint(0, 20, size=50)\n"
      ],
      "execution_count": 52,
      "outputs": [
        {
          "output_type": "execute_result",
          "data": {
            "text/plain": [
              "array([16, 13,  6,  9, 15, 18,  6,  3, 17, 18,  1, 11, 12, 18,  1,  1, 16,\n",
              "        9,  2, 14,  6, 19, 11,  4,  0, 12, 10,  6,  2,  5,  6,  4, 19, 14,\n",
              "        5, 11, 15,  2, 16, 16, 12, 11,  1, 19,  4,  5, 17,  7,  5,  7])"
            ]
          },
          "metadata": {
            "tags": []
          },
          "execution_count": 52
        }
      ]
    },
    {
      "cell_type": "code",
      "metadata": {
        "id": "L_9SsI2c99MO",
        "colab_type": "code",
        "outputId": "94ebf508-2460-4ef1-fdcc-6b58c7b887bc",
        "colab": {
          "base_uri": "https://localhost:8080/",
          "height": 34
        }
      },
      "source": [
        "#created two variables and printed them\n",
        "test1 = np.random.randint(0, 20, size=10)\n",
        "test2 = np.random.randint(0, 30, size=10)\n",
        "print(test1 ,test2)"
      ],
      "execution_count": 53,
      "outputs": [
        {
          "output_type": "stream",
          "text": [
            "[11  6 16  8 15  4 12 13  4 16] [20  8 25 19  4 16 23 19 15  7]\n"
          ],
          "name": "stdout"
        }
      ]
    },
    {
      "cell_type": "code",
      "metadata": {
        "id": "rPmSE5Xy-Qu2",
        "colab_type": "code",
        "outputId": "d8d8994a-a966-47ba-a5a9-6aa54ea0bc3c",
        "colab": {
          "base_uri": "https://localhost:8080/",
          "height": 295
        }
      },
      "source": [
        "#plotting our two variables\n",
        "plt.scatter(test1, test2)\n",
        "plt.xlabel('test1')\n",
        "plt.ylabel('test2')\n",
        "plt.title('test1 vs test2')\n",
        "plt.show()"
      ],
      "execution_count": 54,
      "outputs": [
        {
          "output_type": "display_data",
          "data": {
            "image/png": "[encoded data removed]",
            "text/plain": [
              "<Figure size 432x288 with 1 Axes>"
            ]
          },
          "metadata": {
            "tags": []
          }
        }
      ]
    },
    {
      "cell_type": "markdown",
      "metadata": {
        "id": "Ag9t3-M5N7NI",
        "colab_type": "text"
      },
      "source": [
        "Using the power of Matplotlib, i plotted a scatter graph of the two variables we created in the previous cell"
      ]
    },
    {
      "cell_type": "code",
      "metadata": {
        "id": "AzTwrvkm-hyF",
        "colab_type": "code",
        "outputId": "9bded637-5b9f-4439-ddce-ed400f79c256",
        "colab": {
          "base_uri": "https://localhost:8080/",
          "height": 359
        }
      },
      "source": [
        "#creating a dataframe from scratch with python lists our our random number list generator function\n",
        "d = [\"Hamilton\", \"Vettel\", \"Le Clerc\", \"Verstappen\", \"Raikonnen\", \"Bottas\", \"Ocon\", \"Hulkenberg\", \"Senna\", \"Alonso\"]\n",
        "f = [\"Mercedes\", \"Ferrari\", \"Ferrari\", \"Red Bull\", \"Alfa\", \"Mercedes\", \"Renault\", \"Racing Point\", \"Mclaren\", \"Jordan\"]\n",
        "z = [\"Monza\", \"Silverstone\", \"Yas Marina\", \"Hungaroring\", \"Baku\", \"Monaco\", \"Imola\", \"Spa\", \"Interlagos\", \"Albert Park\" ]\n",
        "w = np.random.randint(0, 15, size=10)\n",
        "l = np.random.randint(0, 70, size=10)\n",
        "df = pd.DataFrame({ \"Driver\": d,\"F1 Team\": f, \"Track\": z, \"Laps-Led\": l, \"Wins\": w})\n",
        "df"
      ],
      "execution_count": 55,
      "outputs": [
        {
          "output_type": "execute_result",
          "data": {
            "text/html": [
              "<div>\n",
              "<style scoped>\n",
              "    .dataframe tbody tr th:only-of-type {\n",
              "        vertical-align: middle;\n",
              "    }\n",
              "\n",
              "    .dataframe tbody tr th {\n",
              "        vertical-align: top;\n",
              "    }\n",
              "\n",
              "    .dataframe thead th {\n",
              "        text-align: right;\n",
              "    }\n",
              "</style>\n",
              "<table border=\"1\" class=\"dataframe\">\n",
              "  <thead>\n",
              "    <tr style=\"text-align: right;\">\n",
              "      <th></th>\n",
              "      <th>Driver</th>\n",
              "      <th>F1 Team</th>\n",
              "      <th>Track</th>\n",
              "      <th>Laps-Led</th>\n",
              "      <th>Wins</th>\n",
              "    </tr>\n",
              "  </thead>\n",
              "  <tbody>\n",
              "    <tr>\n",
              "      <th>0</th>\n",
              "      <td>Hamilton</td>\n",
              "      <td>Mercedes</td>\n",
              "      <td>Monza</td>\n",
              "      <td>61</td>\n",
              "      <td>2</td>\n",
              "    </tr>\n",
              "    <tr>\n",
              "      <th>1</th>\n",
              "      <td>Vettel</td>\n",
              "      <td>Ferrari</td>\n",
              "      <td>Silverstone</td>\n",
              "      <td>3</td>\n",
              "      <td>2</td>\n",
              "    </tr>\n",
              "    <tr>\n",
              "      <th>2</th>\n",
              "      <td>Le Clerc</td>\n",
              "      <td>Ferrari</td>\n",
              "      <td>Yas Marina</td>\n",
              "      <td>5</td>\n",
              "      <td>6</td>\n",
              "    </tr>\n",
              "    <tr>\n",
              "      <th>3</th>\n",
              "      <td>Verstappen</td>\n",
              "      <td>Red Bull</td>\n",
              "      <td>Hungaroring</td>\n",
              "      <td>43</td>\n",
              "      <td>5</td>\n",
              "    </tr>\n",
              "    <tr>\n",
              "      <th>4</th>\n",
              "      <td>Raikonnen</td>\n",
              "      <td>Alfa</td>\n",
              "      <td>Baku</td>\n",
              "      <td>16</td>\n",
              "      <td>11</td>\n",
              "    </tr>\n",
              "    <tr>\n",
              "      <th>5</th>\n",
              "      <td>Bottas</td>\n",
              "      <td>Mercedes</td>\n",
              "      <td>Monaco</td>\n",
              "      <td>15</td>\n",
              "      <td>14</td>\n",
              "    </tr>\n",
              "    <tr>\n",
              "      <th>6</th>\n",
              "      <td>Ocon</td>\n",
              "      <td>Renault</td>\n",
              "      <td>Imola</td>\n",
              "      <td>6</td>\n",
              "      <td>13</td>\n",
              "    </tr>\n",
              "    <tr>\n",
              "      <th>7</th>\n",
              "      <td>Hulkenberg</td>\n",
              "      <td>Racing Point</td>\n",
              "      <td>Spa</td>\n",
              "      <td>38</td>\n",
              "      <td>6</td>\n",
              "    </tr>\n",
              "    <tr>\n",
              "      <th>8</th>\n",
              "      <td>Senna</td>\n",
              "      <td>Mclaren</td>\n",
              "      <td>Interlagos</td>\n",
              "      <td>68</td>\n",
              "      <td>2</td>\n",
              "    </tr>\n",
              "    <tr>\n",
              "      <th>9</th>\n",
              "      <td>Alonso</td>\n",
              "      <td>Jordan</td>\n",
              "      <td>Albert Park</td>\n",
              "      <td>40</td>\n",
              "      <td>8</td>\n",
              "    </tr>\n",
              "  </tbody>\n",
              "</table>\n",
              "</div>"
            ],
            "text/plain": [
              "       Driver       F1 Team        Track  Laps-Led  Wins\n",
              "0    Hamilton      Mercedes        Monza        61     2\n",
              "1      Vettel       Ferrari  Silverstone         3     2\n",
              "2    Le Clerc       Ferrari   Yas Marina         5     6\n",
              "3  Verstappen      Red Bull  Hungaroring        43     5\n",
              "4   Raikonnen          Alfa         Baku        16    11\n",
              "5      Bottas      Mercedes       Monaco        15    14\n",
              "6        Ocon       Renault        Imola         6    13\n",
              "7  Hulkenberg  Racing Point          Spa        38     6\n",
              "8       Senna       Mclaren   Interlagos        68     2\n",
              "9      Alonso        Jordan  Albert Park        40     8"
            ]
          },
          "metadata": {
            "tags": []
          },
          "execution_count": 55
        }
      ]
    },
    {
      "cell_type": "code",
      "metadata": {
        "id": "3N8fu1LY-0sI",
        "colab_type": "code",
        "outputId": "a7336d79-b666-41a5-cad3-0a336689ce10",
        "colab": {
          "base_uri": "https://localhost:8080/",
          "height": 204
        }
      },
      "source": [
        "#show the driver column\n",
        "df['Driver']"
      ],
      "execution_count": 56,
      "outputs": [
        {
          "output_type": "execute_result",
          "data": {
            "text/plain": [
              "0      Hamilton\n",
              "1        Vettel\n",
              "2      Le Clerc\n",
              "3    Verstappen\n",
              "4     Raikonnen\n",
              "5        Bottas\n",
              "6          Ocon\n",
              "7    Hulkenberg\n",
              "8         Senna\n",
              "9        Alonso\n",
              "Name: Driver, dtype: object"
            ]
          },
          "metadata": {
            "tags": []
          },
          "execution_count": 56
        }
      ]
    },
    {
      "cell_type": "code",
      "metadata": {
        "id": "5AbHFNbC-_bj",
        "colab_type": "code",
        "outputId": "10c532f2-c19c-49b6-809c-2afa10a35fdd",
        "colab": {
          "base_uri": "https://localhost:8080/",
          "height": 34
        }
      },
      "source": [
        "#finding the number of columns and rows\n",
        "df.shape"
      ],
      "execution_count": 57,
      "outputs": [
        {
          "output_type": "execute_result",
          "data": {
            "text/plain": [
              "(10, 5)"
            ]
          },
          "metadata": {
            "tags": []
          },
          "execution_count": 57
        }
      ]
    },
    {
      "cell_type": "code",
      "metadata": {
        "id": "5BpPh7iNA43O",
        "colab_type": "code",
        "outputId": "5976b061-ec73-4314-fc1d-b0c5571575f7",
        "colab": {
          "base_uri": "https://localhost:8080/",
          "height": 119
        }
      },
      "source": [
        "#finding the types of data we have in our columns\n",
        "df.dtypes\n"
      ],
      "execution_count": 58,
      "outputs": [
        {
          "output_type": "execute_result",
          "data": {
            "text/plain": [
              "Driver      object\n",
              "F1 Team     object\n",
              "Track       object\n",
              "Laps-Led     int64\n",
              "Wins         int64\n",
              "dtype: object"
            ]
          },
          "metadata": {
            "tags": []
          },
          "execution_count": 58
        }
      ]
    },
    {
      "cell_type": "code",
      "metadata": {
        "id": "Avs0DzZDIkyO",
        "colab_type": "code",
        "colab": {
          "base_uri": "https://localhost:8080/",
          "height": 119
        },
        "outputId": "b40e7b76-9d6c-48d5-f163-6b9d6927d35e"
      },
      "source": [
        "#printing all the attributes of a particular row\n",
        "df['Driver'].iloc[0]\n",
        "df.iloc[0]"
      ],
      "execution_count": 59,
      "outputs": [
        {
          "output_type": "execute_result",
          "data": {
            "text/plain": [
              "Driver      Hamilton\n",
              "F1 Team     Mercedes\n",
              "Track          Monza\n",
              "Laps-Led          61\n",
              "Wins               2\n",
              "Name: 0, dtype: object"
            ]
          },
          "metadata": {
            "tags": []
          },
          "execution_count": 59
        }
      ]
    },
    {
      "cell_type": "code",
      "metadata": {
        "id": "UjRW9ex3JON3",
        "colab_type": "code",
        "colab": {
          "base_uri": "https://localhost:8080/",
          "height": 359
        },
        "outputId": "95b668a5-6781-4e85-f880-666147edf984"
      },
      "source": [
        "df"
      ],
      "execution_count": 60,
      "outputs": [
        {
          "output_type": "execute_result",
          "data": {
            "text/html": [
              "<div>\n",
              "<style scoped>\n",
              "    .dataframe tbody tr th:only-of-type {\n",
              "        vertical-align: middle;\n",
              "    }\n",
              "\n",
              "    .dataframe tbody tr th {\n",
              "        vertical-align: top;\n",
              "    }\n",
              "\n",
              "    .dataframe thead th {\n",
              "        text-align: right;\n",
              "    }\n",
              "</style>\n",
              "<table border=\"1\" class=\"dataframe\">\n",
              "  <thead>\n",
              "    <tr style=\"text-align: right;\">\n",
              "      <th></th>\n",
              "      <th>Driver</th>\n",
              "      <th>F1 Team</th>\n",
              "      <th>Track</th>\n",
              "      <th>Laps-Led</th>\n",
              "      <th>Wins</th>\n",
              "    </tr>\n",
              "  </thead>\n",
              "  <tbody>\n",
              "    <tr>\n",
              "      <th>0</th>\n",
              "      <td>Hamilton</td>\n",
              "      <td>Mercedes</td>\n",
              "      <td>Monza</td>\n",
              "      <td>61</td>\n",
              "      <td>2</td>\n",
              "    </tr>\n",
              "    <tr>\n",
              "      <th>1</th>\n",
              "      <td>Vettel</td>\n",
              "      <td>Ferrari</td>\n",
              "      <td>Silverstone</td>\n",
              "      <td>3</td>\n",
              "      <td>2</td>\n",
              "    </tr>\n",
              "    <tr>\n",
              "      <th>2</th>\n",
              "      <td>Le Clerc</td>\n",
              "      <td>Ferrari</td>\n",
              "      <td>Yas Marina</td>\n",
              "      <td>5</td>\n",
              "      <td>6</td>\n",
              "    </tr>\n",
              "    <tr>\n",
              "      <th>3</th>\n",
              "      <td>Verstappen</td>\n",
              "      <td>Red Bull</td>\n",
              "      <td>Hungaroring</td>\n",
              "      <td>43</td>\n",
              "      <td>5</td>\n",
              "    </tr>\n",
              "    <tr>\n",
              "      <th>4</th>\n",
              "      <td>Raikonnen</td>\n",
              "      <td>Alfa</td>\n",
              "      <td>Baku</td>\n",
              "      <td>16</td>\n",
              "      <td>11</td>\n",
              "    </tr>\n",
              "    <tr>\n",
              "      <th>5</th>\n",
              "      <td>Bottas</td>\n",
              "      <td>Mercedes</td>\n",
              "      <td>Monaco</td>\n",
              "      <td>15</td>\n",
              "      <td>14</td>\n",
              "    </tr>\n",
              "    <tr>\n",
              "      <th>6</th>\n",
              "      <td>Ocon</td>\n",
              "      <td>Renault</td>\n",
              "      <td>Imola</td>\n",
              "      <td>6</td>\n",
              "      <td>13</td>\n",
              "    </tr>\n",
              "    <tr>\n",
              "      <th>7</th>\n",
              "      <td>Hulkenberg</td>\n",
              "      <td>Racing Point</td>\n",
              "      <td>Spa</td>\n",
              "      <td>38</td>\n",
              "      <td>6</td>\n",
              "    </tr>\n",
              "    <tr>\n",
              "      <th>8</th>\n",
              "      <td>Senna</td>\n",
              "      <td>Mclaren</td>\n",
              "      <td>Interlagos</td>\n",
              "      <td>68</td>\n",
              "      <td>2</td>\n",
              "    </tr>\n",
              "    <tr>\n",
              "      <th>9</th>\n",
              "      <td>Alonso</td>\n",
              "      <td>Jordan</td>\n",
              "      <td>Albert Park</td>\n",
              "      <td>40</td>\n",
              "      <td>8</td>\n",
              "    </tr>\n",
              "  </tbody>\n",
              "</table>\n",
              "</div>"
            ],
            "text/plain": [
              "       Driver       F1 Team        Track  Laps-Led  Wins\n",
              "0    Hamilton      Mercedes        Monza        61     2\n",
              "1      Vettel       Ferrari  Silverstone         3     2\n",
              "2    Le Clerc       Ferrari   Yas Marina         5     6\n",
              "3  Verstappen      Red Bull  Hungaroring        43     5\n",
              "4   Raikonnen          Alfa         Baku        16    11\n",
              "5      Bottas      Mercedes       Monaco        15    14\n",
              "6        Ocon       Renault        Imola         6    13\n",
              "7  Hulkenberg  Racing Point          Spa        38     6\n",
              "8       Senna       Mclaren   Interlagos        68     2\n",
              "9      Alonso        Jordan  Albert Park        40     8"
            ]
          },
          "metadata": {
            "tags": []
          },
          "execution_count": 60
        }
      ]
    },
    {
      "cell_type": "code",
      "metadata": {
        "id": "lvm-QMpEDVlL",
        "colab_type": "code",
        "outputId": "7b069d9f-4404-4148-a159-004a3a3542c8",
        "colab": {
          "base_uri": "https://localhost:8080/",
          "height": 297
        }
      },
      "source": [
        "#using describe function to get some statistical view about our dataframe\n",
        "df.describe()"
      ],
      "execution_count": 61,
      "outputs": [
        {
          "output_type": "execute_result",
          "data": {
            "text/html": [
              "<div>\n",
              "<style scoped>\n",
              "    .dataframe tbody tr th:only-of-type {\n",
              "        vertical-align: middle;\n",
              "    }\n",
              "\n",
              "    .dataframe tbody tr th {\n",
              "        vertical-align: top;\n",
              "    }\n",
              "\n",
              "    .dataframe thead th {\n",
              "        text-align: right;\n",
              "    }\n",
              "</style>\n",
              "<table border=\"1\" class=\"dataframe\">\n",
              "  <thead>\n",
              "    <tr style=\"text-align: right;\">\n",
              "      <th></th>\n",
              "      <th>Laps-Led</th>\n",
              "      <th>Wins</th>\n",
              "    </tr>\n",
              "  </thead>\n",
              "  <tbody>\n",
              "    <tr>\n",
              "      <th>count</th>\n",
              "      <td>10.000000</td>\n",
              "      <td>10.000000</td>\n",
              "    </tr>\n",
              "    <tr>\n",
              "      <th>mean</th>\n",
              "      <td>29.500000</td>\n",
              "      <td>6.900000</td>\n",
              "    </tr>\n",
              "    <tr>\n",
              "      <th>std</th>\n",
              "      <td>23.773234</td>\n",
              "      <td>4.508018</td>\n",
              "    </tr>\n",
              "    <tr>\n",
              "      <th>min</th>\n",
              "      <td>3.000000</td>\n",
              "      <td>2.000000</td>\n",
              "    </tr>\n",
              "    <tr>\n",
              "      <th>25%</th>\n",
              "      <td>8.250000</td>\n",
              "      <td>2.750000</td>\n",
              "    </tr>\n",
              "    <tr>\n",
              "      <th>50%</th>\n",
              "      <td>27.000000</td>\n",
              "      <td>6.000000</td>\n",
              "    </tr>\n",
              "    <tr>\n",
              "      <th>75%</th>\n",
              "      <td>42.250000</td>\n",
              "      <td>10.250000</td>\n",
              "    </tr>\n",
              "    <tr>\n",
              "      <th>max</th>\n",
              "      <td>68.000000</td>\n",
              "      <td>14.000000</td>\n",
              "    </tr>\n",
              "  </tbody>\n",
              "</table>\n",
              "</div>"
            ],
            "text/plain": [
              "        Laps-Led       Wins\n",
              "count  10.000000  10.000000\n",
              "mean   29.500000   6.900000\n",
              "std    23.773234   4.508018\n",
              "min     3.000000   2.000000\n",
              "25%     8.250000   2.750000\n",
              "50%    27.000000   6.000000\n",
              "75%    42.250000  10.250000\n",
              "max    68.000000  14.000000"
            ]
          },
          "metadata": {
            "tags": []
          },
          "execution_count": 61
        }
      ]
    },
    {
      "cell_type": "markdown",
      "metadata": {
        "colab_type": "text",
        "id": "y0dV6ijtY2lu"
      },
      "source": [
        "This method gives us a general statistical view of our dataframe."
      ]
    },
    {
      "cell_type": "code",
      "metadata": {
        "id": "F1dGe0wlBYFA",
        "colab_type": "code",
        "outputId": "d6942ae4-f744-4a92-a3cc-ea76cc1b2aaf",
        "colab": {
          "base_uri": "https://localhost:8080/",
          "height": 359
        }
      },
      "source": [
        "df"
      ],
      "execution_count": 62,
      "outputs": [
        {
          "output_type": "execute_result",
          "data": {
            "text/html": [
              "<div>\n",
              "<style scoped>\n",
              "    .dataframe tbody tr th:only-of-type {\n",
              "        vertical-align: middle;\n",
              "    }\n",
              "\n",
              "    .dataframe tbody tr th {\n",
              "        vertical-align: top;\n",
              "    }\n",
              "\n",
              "    .dataframe thead th {\n",
              "        text-align: right;\n",
              "    }\n",
              "</style>\n",
              "<table border=\"1\" class=\"dataframe\">\n",
              "  <thead>\n",
              "    <tr style=\"text-align: right;\">\n",
              "      <th></th>\n",
              "      <th>Driver</th>\n",
              "      <th>F1 Team</th>\n",
              "      <th>Track</th>\n",
              "      <th>Laps-Led</th>\n",
              "      <th>Wins</th>\n",
              "    </tr>\n",
              "  </thead>\n",
              "  <tbody>\n",
              "    <tr>\n",
              "      <th>0</th>\n",
              "      <td>Hamilton</td>\n",
              "      <td>Mercedes</td>\n",
              "      <td>Monza</td>\n",
              "      <td>61</td>\n",
              "      <td>2</td>\n",
              "    </tr>\n",
              "    <tr>\n",
              "      <th>1</th>\n",
              "      <td>Vettel</td>\n",
              "      <td>Ferrari</td>\n",
              "      <td>Silverstone</td>\n",
              "      <td>3</td>\n",
              "      <td>2</td>\n",
              "    </tr>\n",
              "    <tr>\n",
              "      <th>2</th>\n",
              "      <td>Le Clerc</td>\n",
              "      <td>Ferrari</td>\n",
              "      <td>Yas Marina</td>\n",
              "      <td>5</td>\n",
              "      <td>6</td>\n",
              "    </tr>\n",
              "    <tr>\n",
              "      <th>3</th>\n",
              "      <td>Verstappen</td>\n",
              "      <td>Red Bull</td>\n",
              "      <td>Hungaroring</td>\n",
              "      <td>43</td>\n",
              "      <td>5</td>\n",
              "    </tr>\n",
              "    <tr>\n",
              "      <th>4</th>\n",
              "      <td>Raikonnen</td>\n",
              "      <td>Alfa</td>\n",
              "      <td>Baku</td>\n",
              "      <td>16</td>\n",
              "      <td>11</td>\n",
              "    </tr>\n",
              "    <tr>\n",
              "      <th>5</th>\n",
              "      <td>Bottas</td>\n",
              "      <td>Mercedes</td>\n",
              "      <td>Monaco</td>\n",
              "      <td>15</td>\n",
              "      <td>14</td>\n",
              "    </tr>\n",
              "    <tr>\n",
              "      <th>6</th>\n",
              "      <td>Ocon</td>\n",
              "      <td>Renault</td>\n",
              "      <td>Imola</td>\n",
              "      <td>6</td>\n",
              "      <td>13</td>\n",
              "    </tr>\n",
              "    <tr>\n",
              "      <th>7</th>\n",
              "      <td>Hulkenberg</td>\n",
              "      <td>Racing Point</td>\n",
              "      <td>Spa</td>\n",
              "      <td>38</td>\n",
              "      <td>6</td>\n",
              "    </tr>\n",
              "    <tr>\n",
              "      <th>8</th>\n",
              "      <td>Senna</td>\n",
              "      <td>Mclaren</td>\n",
              "      <td>Interlagos</td>\n",
              "      <td>68</td>\n",
              "      <td>2</td>\n",
              "    </tr>\n",
              "    <tr>\n",
              "      <th>9</th>\n",
              "      <td>Alonso</td>\n",
              "      <td>Jordan</td>\n",
              "      <td>Albert Park</td>\n",
              "      <td>40</td>\n",
              "      <td>8</td>\n",
              "    </tr>\n",
              "  </tbody>\n",
              "</table>\n",
              "</div>"
            ],
            "text/plain": [
              "       Driver       F1 Team        Track  Laps-Led  Wins\n",
              "0    Hamilton      Mercedes        Monza        61     2\n",
              "1      Vettel       Ferrari  Silverstone         3     2\n",
              "2    Le Clerc       Ferrari   Yas Marina         5     6\n",
              "3  Verstappen      Red Bull  Hungaroring        43     5\n",
              "4   Raikonnen          Alfa         Baku        16    11\n",
              "5      Bottas      Mercedes       Monaco        15    14\n",
              "6        Ocon       Renault        Imola         6    13\n",
              "7  Hulkenberg  Racing Point          Spa        38     6\n",
              "8       Senna       Mclaren   Interlagos        68     2\n",
              "9      Alonso        Jordan  Albert Park        40     8"
            ]
          },
          "metadata": {
            "tags": []
          },
          "execution_count": 62
        }
      ]
    },
    {
      "cell_type": "code",
      "metadata": {
        "id": "rGZhX3OODdnz",
        "colab_type": "code",
        "colab": {}
      },
      "source": [
        "#tried to find the number teams that have won more than 10 races\n",
        "#Save a boolean into the team\n",
        "df[\"F1 Team\"] = df['Wins'] > 10\n"
      ],
      "execution_count": 0,
      "outputs": []
    },
    {
      "cell_type": "code",
      "metadata": {
        "id": "2tDAKlSvCVli",
        "colab_type": "code",
        "outputId": "80df3597-7a88-41ee-956f-5bdaede89f88",
        "colab": {
          "base_uri": "https://localhost:8080/",
          "height": 359
        }
      },
      "source": [
        "df"
      ],
      "execution_count": 16,
      "outputs": [
        {
          "output_type": "execute_result",
          "data": {
            "text/html": [
              "<div>\n",
              "<style scoped>\n",
              "    .dataframe tbody tr th:only-of-type {\n",
              "        vertical-align: middle;\n",
              "    }\n",
              "\n",
              "    .dataframe tbody tr th {\n",
              "        vertical-align: top;\n",
              "    }\n",
              "\n",
              "    .dataframe thead th {\n",
              "        text-align: right;\n",
              "    }\n",
              "</style>\n",
              "<table border=\"1\" class=\"dataframe\">\n",
              "  <thead>\n",
              "    <tr style=\"text-align: right;\">\n",
              "      <th></th>\n",
              "      <th>Driver</th>\n",
              "      <th>F1 Team</th>\n",
              "      <th>Track</th>\n",
              "      <th>Laps-Led</th>\n",
              "      <th>Wins</th>\n",
              "    </tr>\n",
              "  </thead>\n",
              "  <tbody>\n",
              "    <tr>\n",
              "      <th>0</th>\n",
              "      <td>Hamilton</td>\n",
              "      <td>True</td>\n",
              "      <td>Monza</td>\n",
              "      <td>69</td>\n",
              "      <td>13</td>\n",
              "    </tr>\n",
              "    <tr>\n",
              "      <th>1</th>\n",
              "      <td>Vettel</td>\n",
              "      <td>False</td>\n",
              "      <td>Silverstone</td>\n",
              "      <td>0</td>\n",
              "      <td>1</td>\n",
              "    </tr>\n",
              "    <tr>\n",
              "      <th>2</th>\n",
              "      <td>Le Clerc</td>\n",
              "      <td>True</td>\n",
              "      <td>Yas Marina</td>\n",
              "      <td>42</td>\n",
              "      <td>13</td>\n",
              "    </tr>\n",
              "    <tr>\n",
              "      <th>3</th>\n",
              "      <td>Verstappen</td>\n",
              "      <td>True</td>\n",
              "      <td>Hungaroring</td>\n",
              "      <td>54</td>\n",
              "      <td>14</td>\n",
              "    </tr>\n",
              "    <tr>\n",
              "      <th>4</th>\n",
              "      <td>Raikonnen</td>\n",
              "      <td>False</td>\n",
              "      <td>Baku</td>\n",
              "      <td>55</td>\n",
              "      <td>0</td>\n",
              "    </tr>\n",
              "    <tr>\n",
              "      <th>5</th>\n",
              "      <td>Bottas</td>\n",
              "      <td>True</td>\n",
              "      <td>Monaco</td>\n",
              "      <td>45</td>\n",
              "      <td>14</td>\n",
              "    </tr>\n",
              "    <tr>\n",
              "      <th>6</th>\n",
              "      <td>Ocon</td>\n",
              "      <td>False</td>\n",
              "      <td>Imola</td>\n",
              "      <td>25</td>\n",
              "      <td>9</td>\n",
              "    </tr>\n",
              "    <tr>\n",
              "      <th>7</th>\n",
              "      <td>Hulkenberg</td>\n",
              "      <td>False</td>\n",
              "      <td>Spa</td>\n",
              "      <td>51</td>\n",
              "      <td>1</td>\n",
              "    </tr>\n",
              "    <tr>\n",
              "      <th>8</th>\n",
              "      <td>Senna</td>\n",
              "      <td>False</td>\n",
              "      <td>Interlagos</td>\n",
              "      <td>59</td>\n",
              "      <td>8</td>\n",
              "    </tr>\n",
              "    <tr>\n",
              "      <th>9</th>\n",
              "      <td>Alonso</td>\n",
              "      <td>True</td>\n",
              "      <td>Albert Park</td>\n",
              "      <td>15</td>\n",
              "      <td>14</td>\n",
              "    </tr>\n",
              "  </tbody>\n",
              "</table>\n",
              "</div>"
            ],
            "text/plain": [
              "       Driver  F1 Team        Track  Laps-Led  Wins\n",
              "0    Hamilton     True        Monza        69    13\n",
              "1      Vettel    False  Silverstone         0     1\n",
              "2    Le Clerc     True   Yas Marina        42    13\n",
              "3  Verstappen     True  Hungaroring        54    14\n",
              "4   Raikonnen    False         Baku        55     0\n",
              "5      Bottas     True       Monaco        45    14\n",
              "6        Ocon    False        Imola        25     9\n",
              "7  Hulkenberg    False          Spa        51     1\n",
              "8       Senna    False   Interlagos        59     8\n",
              "9      Alonso     True  Albert Park        15    14"
            ]
          },
          "metadata": {
            "tags": []
          },
          "execution_count": 16
        }
      ]
    },
    {
      "cell_type": "code",
      "metadata": {
        "id": "ea-X_oaADuST",
        "colab_type": "code",
        "outputId": "239f1e6d-e04c-4676-a36f-3366b4a18733",
        "colab": {
          "base_uri": "https://localhost:8080/",
          "height": 204
        }
      },
      "source": [
        "df['Laps-Led'] > 10"
      ],
      "execution_count": 17,
      "outputs": [
        {
          "output_type": "execute_result",
          "data": {
            "text/plain": [
              "0     True\n",
              "1    False\n",
              "2     True\n",
              "3     True\n",
              "4     True\n",
              "5     True\n",
              "6     True\n",
              "7     True\n",
              "8     True\n",
              "9     True\n",
              "Name: Laps-Led, dtype: bool"
            ]
          },
          "metadata": {
            "tags": []
          },
          "execution_count": 17
        }
      ]
    },
    {
      "cell_type": "markdown",
      "metadata": {
        "colab_type": "text",
        "id": "MyTIvGg2HWUB"
      },
      "source": [
        "## Assignment - now it's your turn\n",
        "\n",
        "Pick at least one Python DS library, and using documentation/examples reproduce in this notebook something cool. It's OK if you don't fully understand it or get it 100% working, but do put in effort and look things up."
      ]
    },
    {
      "cell_type": "code",
      "metadata": {
        "id": "TGUS79cOhPWj",
        "colab_type": "code",
        "colab": {}
      },
      "source": [
        "# TODO - your code here\n",
        "# Use what we did live in lecture as an example"
      ],
      "execution_count": 0,
      "outputs": []
    },
    {
      "cell_type": "markdown",
      "metadata": {
        "id": "BT9gdS7viJZa",
        "colab_type": "text"
      },
      "source": [
        "### Assignment questions\n",
        "\n",
        "After you've worked on some code, answer the following questions in this text block:\n",
        "\n",
        "1.  Describe in a paragraph of text what you did and why, as if you were writing an email to somebody interested but nontechnical.\n",
        "\n",
        "2.  What was the most challenging part of what you did?\n",
        "\n",
        "3.  What was the most interesting thing you learned?\n",
        "\n",
        "4.  What area would you like to explore with more time?\n",
        "\n",
        "\n"
      ]
    },
    {
      "cell_type": "markdown",
      "metadata": {
        "id": "AIs9rnjPHab0",
        "colab_type": "text"
      },
      "source": [
        "\n"
      ]
    },
    {
      "cell_type": "markdown",
      "metadata": {
        "id": "wULB6HZ0aVE1",
        "colab_type": "text"
      },
      "source": [
        "1. I imported some python libraries to help me in the assignment. Libraries can be defined as a group of shortcuts that make it easier to perform certain function during programming. Numpy helps with number operations Pandas gives us to powerful functions to manipulate a dataset Matplotlib allows us to easily plot graphs from datasets. I imported the libraries and saved them into variables (np, pd and plt)\n",
        "I then used the random randint function to create a list with two arguments. i.e. create a random list of 50 integers between from 0 to 20\n",
        "\n",
        "I created a dataframe(think of it as a spreadsheet) using 5 variables created by with a mixture of python lists and the random number generator function we used earlier. The dataframe is regarding my favorite sport, Formula One! The dataset consists of the drivers, the teams they drive for, their favorite track and the lap times they've led. \n",
        "\n",
        "i then used the pandas methods to explore our data frame and make some inferences\n",
        "\n"
      ]
    },
    {
      "cell_type": "markdown",
      "metadata": {
        "id": "CwIKivigDAPb",
        "colab_type": "text"
      },
      "source": [
        "2. . Getting the syntax right was the biggest challenge i faced in the exercise. I had to keep referring to documentation to get it right."
      ]
    },
    {
      "cell_type": "markdown",
      "metadata": {
        "id": "JRv2eiNyDI7-",
        "colab_type": "text"
      },
      "source": [
        "3. Pandas is really cool! Make quick inferences from data using pandas to make inferences. Eg. i was able to find out the How many wins a specific team has had from my data set, using iLoc to show row attributes."
      ]
    },
    {
      "cell_type": "markdown",
      "metadata": {
        "id": "pIZa6-aCDgMG",
        "colab_type": "text"
      },
      "source": [
        "4. I'd love to explore more pandas functions. Especially around manipulating the dataframe."
      ]
    },
    {
      "cell_type": "markdown",
      "metadata": {
        "id": "_XXg2crAipwP",
        "colab_type": "text"
      },
      "source": [
        "## Stretch goals and resources\n",
        "\n",
        "Following are *optional* things for you to take a look at. Focus on the above assignment first, and make sure to commit and push your changes to GitHub (and since this is the first assignment of the sprint, open a PR as well).\n",
        "\n",
        "- [pandas documentation](https://pandas.pydata.org/pandas-docs/stable/)\n",
        "- [scikit-learn documentation](http://scikit-learn.org/stable/documentation.html)\n",
        "- [matplotlib documentation](https://matplotlib.org/contents.html)\n",
        "- [Awesome Data Science](https://github.com/bulutyazilim/awesome-datascience) - a list of many types of DS resources\n",
        "\n",
        "Stretch goals:\n",
        "\n",
        "- Find and read blogs, walkthroughs, and other examples of people working through cool things with data science - and share with your classmates!\n",
        "- Write a blog post (Medium is a popular place to publish) introducing yourself as somebody learning data science, and talking about what you've learned already and what you're excited to learn more about."
      ]
    }
  ]
}