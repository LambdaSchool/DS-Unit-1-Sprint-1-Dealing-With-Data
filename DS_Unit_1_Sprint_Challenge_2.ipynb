{
  "nbformat": 4,
  "nbformat_minor": 0,
  "metadata": {
    "colab": {
      "name": "DS_Unit_1_Sprint_Challenge_2.ipynb",
      "version": "0.3.2",
      "provenance": [],
      "collapsed_sections": [],
      "include_colab_link": true
    },
    "kernelspec": {
      "name": "python3",
      "display_name": "Python 3"
    }
  },
  "cells": [
    {
      "cell_type": "markdown",
      "metadata": {
        "id": "view-in-github",
        "colab_type": "text"
      },
      "source": [
        "<a href=\"https://colab.research.google.com/github/Phantasm320/DS-Sprint-01-Dealing-With-Data/blob/master/DS_Unit_1_Sprint_Challenge_2.ipynb\" target=\"_parent\"><img src=\"https://colab.research.google.com/assets/colab-badge.svg\" alt=\"Open In Colab\"/></a>"
      ]
    },
    {
      "metadata": {
        "id": "i-n_5en3ER1o",
        "colab_type": "text"
      },
      "cell_type": "markdown",
      "source": [
        "# Data Science Unit 1 Sprint Challenge 2\n",
        "\n",
        "# Storytelling with Data\n",
        "\n",
        "In this sprint challenge you'll work with a dataset from **FiveThirtyEight's article, [Every Guest Jon Stewart Ever Had On ‘The Daily Show’](https://fivethirtyeight.com/features/every-guest-jon-stewart-ever-had-on-the-daily-show/)**!"
      ]
    },
    {
      "metadata": {
        "id": "Thm2n5FF2Fnp",
        "colab_type": "text"
      },
      "cell_type": "markdown",
      "source": [
        "# Part 0 — Run this starter code\n",
        "\n",
        "You don't need to add or change anything here. Just run this cell and it loads the data for you, into a dataframe named `df`.\n",
        "\n",
        "(You can explore the data if you want, but it's not required to pass the Sprint Challenge.)"
      ]
    },
    {
      "metadata": {
        "id": "0rTHgzJIuRS7",
        "colab_type": "code",
        "colab": {}
      },
      "cell_type": "code",
      "source": [
        "%matplotlib inline\n",
        "import matplotlib.pyplot as plt\n",
        "import numpy as np\n",
        "import pandas as pd\n",
        "\n",
        "df = pd.read_csv('https://raw.githubusercontent.com/fivethirtyeight/data/master/daily-show-guests/daily_show_guests.csv')\n",
        "df.rename(columns={'YEAR': 'Year', 'Raw_Guest_List': 'Guest'}, inplace=True)\n",
        "\n",
        "def get_occupation(group):\n",
        "    if group in ['Acting', 'Comedy', 'Musician']:\n",
        "        return 'Acting, Comedy & Music'\n",
        "    elif group in ['Media', 'media']:\n",
        "        return 'Media'\n",
        "    elif group in ['Government', 'Politician', 'Political Aide']:\n",
        "        return 'Government and Politics'\n",
        "    else:\n",
        "        return 'Other'\n",
        "      \n",
        "df['Occupation'] = df['Group'].apply(get_occupation)"
      ],
      "execution_count": 0,
      "outputs": []
    },
    {
      "metadata": {
        "id": "OS0nW1vz1itX",
        "colab_type": "text"
      },
      "cell_type": "markdown",
      "source": [
        "# Part 1 — What's the breakdown of guests’ occupations per year?\n",
        "\n",
        "For example, in 1999, what percentage of guests were actors, comedians, or musicians? What percentage were in the media? What percentage were in politics? What percentage were from another occupation?\n",
        "\n",
        "Then, what about in 2000? In 2001? And so on, up through 2015.\n",
        "\n",
        "So, **for each year of _The Daily Show_, calculate the percentage of guests from each occupation:**\n",
        "- Acting, Comedy & Music\n",
        "- Government and Politics\n",
        "- Media\n",
        "- Other\n",
        "\n",
        "#### Hints:\n",
        "1. Use pandas to make a **crosstab** of **`Year`** & **`Occupation`**. ([This documentation](http://pandas.pydata.org/pandas-docs/stable/reshaping.html#cross-tabulations) has examples and explanation.)\n",
        "2. To get percentages instead of counts, use crosstab's **`normalize`** parameter to normalize over each _row._ ([This documentation](http://pandas.pydata.org/pandas-docs/stable/generated/pandas.crosstab.html) describes the parameter and its options.)\n",
        "3. You'll know you've calculated the crosstab correctly when the percentage of \"Acting, Comedy & Music\" guests is 90.36% in 1999, and 45% in 2015."
      ]
    },
    {
      "metadata": {
        "id": "sRMc0H_5z6ff",
        "colab_type": "code",
        "colab": {
          "base_uri": "https://localhost:8080/",
          "height": 194
        },
        "outputId": "79b1e545-af9a-4907-9b4d-fda13819ea1f"
      },
      "cell_type": "code",
      "source": [
        "df.head()"
      ],
      "execution_count": 4,
      "outputs": [
        {
          "output_type": "execute_result",
          "data": {
            "text/html": [
              "<div>\n",
              "<style scoped>\n",
              "    .dataframe tbody tr th:only-of-type {\n",
              "        vertical-align: middle;\n",
              "    }\n",
              "\n",
              "    .dataframe tbody tr th {\n",
              "        vertical-align: top;\n",
              "    }\n",
              "\n",
              "    .dataframe thead th {\n",
              "        text-align: right;\n",
              "    }\n",
              "</style>\n",
              "<table border=\"1\" class=\"dataframe\">\n",
              "  <thead>\n",
              "    <tr style=\"text-align: right;\">\n",
              "      <th></th>\n",
              "      <th>Year</th>\n",
              "      <th>GoogleKnowlege_Occupation</th>\n",
              "      <th>Show</th>\n",
              "      <th>Group</th>\n",
              "      <th>Guest</th>\n",
              "      <th>Occupation</th>\n",
              "    </tr>\n",
              "  </thead>\n",
              "  <tbody>\n",
              "    <tr>\n",
              "      <th>0</th>\n",
              "      <td>1999</td>\n",
              "      <td>actor</td>\n",
              "      <td>1/11/99</td>\n",
              "      <td>Acting</td>\n",
              "      <td>Michael J. Fox</td>\n",
              "      <td>Acting, Comedy &amp; Music</td>\n",
              "    </tr>\n",
              "    <tr>\n",
              "      <th>1</th>\n",
              "      <td>1999</td>\n",
              "      <td>Comedian</td>\n",
              "      <td>1/12/99</td>\n",
              "      <td>Comedy</td>\n",
              "      <td>Sandra Bernhard</td>\n",
              "      <td>Acting, Comedy &amp; Music</td>\n",
              "    </tr>\n",
              "    <tr>\n",
              "      <th>2</th>\n",
              "      <td>1999</td>\n",
              "      <td>television actress</td>\n",
              "      <td>1/13/99</td>\n",
              "      <td>Acting</td>\n",
              "      <td>Tracey Ullman</td>\n",
              "      <td>Acting, Comedy &amp; Music</td>\n",
              "    </tr>\n",
              "    <tr>\n",
              "      <th>3</th>\n",
              "      <td>1999</td>\n",
              "      <td>film actress</td>\n",
              "      <td>1/14/99</td>\n",
              "      <td>Acting</td>\n",
              "      <td>Gillian Anderson</td>\n",
              "      <td>Acting, Comedy &amp; Music</td>\n",
              "    </tr>\n",
              "    <tr>\n",
              "      <th>4</th>\n",
              "      <td>1999</td>\n",
              "      <td>actor</td>\n",
              "      <td>1/18/99</td>\n",
              "      <td>Acting</td>\n",
              "      <td>David Alan Grier</td>\n",
              "      <td>Acting, Comedy &amp; Music</td>\n",
              "    </tr>\n",
              "  </tbody>\n",
              "</table>\n",
              "</div>"
            ],
            "text/plain": [
              "   Year GoogleKnowlege_Occupation     Show   Group             Guest  \\\n",
              "0  1999                     actor  1/11/99  Acting    Michael J. Fox   \n",
              "1  1999                  Comedian  1/12/99  Comedy   Sandra Bernhard   \n",
              "2  1999        television actress  1/13/99  Acting     Tracey Ullman   \n",
              "3  1999              film actress  1/14/99  Acting  Gillian Anderson   \n",
              "4  1999                     actor  1/18/99  Acting  David Alan Grier   \n",
              "\n",
              "               Occupation  \n",
              "0  Acting, Comedy & Music  \n",
              "1  Acting, Comedy & Music  \n",
              "2  Acting, Comedy & Music  \n",
              "3  Acting, Comedy & Music  \n",
              "4  Acting, Comedy & Music  "
            ]
          },
          "metadata": {
            "tags": []
          },
          "execution_count": 4
        }
      ]
    },
    {
      "metadata": {
        "id": "ZLFrnqfVTF7A",
        "colab_type": "code",
        "colab": {
          "base_uri": "https://localhost:8080/",
          "height": 35
        },
        "outputId": "59a9d2ae-b168-46de-ff9e-1fd9e873644e"
      },
      "cell_type": "code",
      "source": [
        "len(df['Occupation'].unique())"
      ],
      "execution_count": 5,
      "outputs": [
        {
          "output_type": "execute_result",
          "data": {
            "text/plain": [
              "4"
            ]
          },
          "metadata": {
            "tags": []
          },
          "execution_count": 5
        }
      ]
    },
    {
      "metadata": {
        "id": "fWUQ_ddSaIpf",
        "colab_type": "code",
        "colab": {
          "base_uri": "https://localhost:8080/",
          "height": 106
        },
        "outputId": "25816336-ea41-4f60-bb5f-8b0afd43f8d0"
      },
      "cell_type": "code",
      "source": [
        "df['Occupation'].value_counts()"
      ],
      "execution_count": 6,
      "outputs": [
        {
          "output_type": "execute_result",
          "data": {
            "text/plain": [
              "Acting, Comedy & Music     1203\n",
              "Media                       756\n",
              "Government and Politics     384\n",
              "Other                       350\n",
              "Name: Occupation, dtype: int64"
            ]
          },
          "metadata": {
            "tags": []
          },
          "execution_count": 6
        }
      ]
    },
    {
      "metadata": {
        "id": "N8--eBCpTF-U",
        "colab_type": "code",
        "colab": {
          "base_uri": "https://localhost:8080/",
          "height": 141
        },
        "outputId": "57638f99-93ab-4ff4-9b9e-f42d53f20d9e"
      },
      "cell_type": "code",
      "source": [
        "df.isnull().sum()"
      ],
      "execution_count": 7,
      "outputs": [
        {
          "output_type": "execute_result",
          "data": {
            "text/plain": [
              "Year                          0\n",
              "GoogleKnowlege_Occupation    26\n",
              "Show                          0\n",
              "Group                        31\n",
              "Guest                         0\n",
              "Occupation                    0\n",
              "dtype: int64"
            ]
          },
          "metadata": {
            "tags": []
          },
          "execution_count": 7
        }
      ]
    },
    {
      "metadata": {
        "id": "Gojdmw6BTGA-",
        "colab_type": "code",
        "colab": {
          "base_uri": "https://localhost:8080/",
          "height": 35
        },
        "outputId": "028844cf-eb7f-46b0-a9dc-7e4b69c915ee"
      },
      "cell_type": "code",
      "source": [
        "len(df['Year'].unique())"
      ],
      "execution_count": 8,
      "outputs": [
        {
          "output_type": "execute_result",
          "data": {
            "text/plain": [
              "17"
            ]
          },
          "metadata": {
            "tags": []
          },
          "execution_count": 8
        }
      ]
    },
    {
      "metadata": {
        "id": "51hXZL_ETGDY",
        "colab_type": "code",
        "colab": {
          "base_uri": "https://localhost:8080/",
          "height": 1137
        },
        "outputId": "c71ac43a-dff0-4170-ff98-cd8e87e33310"
      },
      "cell_type": "code",
      "source": [
        "df_years = df.groupby(['Year', 'Occupation'])\n",
        "df_years.size()"
      ],
      "execution_count": 9,
      "outputs": [
        {
          "output_type": "execute_result",
          "data": {
            "text/plain": [
              "Year  Occupation             \n",
              "1999  Acting, Comedy & Music     150\n",
              "      Government and Politics      2\n",
              "      Media                       11\n",
              "      Other                        3\n",
              "2000  Acting, Comedy & Music     125\n",
              "      Government and Politics     14\n",
              "      Media                       21\n",
              "      Other                        9\n",
              "2001  Acting, Comedy & Music     114\n",
              "      Government and Politics      6\n",
              "      Media                       31\n",
              "      Other                        6\n",
              "2002  Acting, Comedy & Music      99\n",
              "      Government and Politics     11\n",
              "      Media                       42\n",
              "      Other                        7\n",
              "2003  Acting, Comedy & Music      93\n",
              "      Government and Politics     17\n",
              "      Media                       41\n",
              "      Other                       15\n",
              "2004  Acting, Comedy & Music      63\n",
              "      Government and Politics     37\n",
              "      Media                       45\n",
              "      Other                       19\n",
              "2005  Acting, Comedy & Music      60\n",
              "      Government and Politics     26\n",
              "      Media                       54\n",
              "      Other                       22\n",
              "2006  Acting, Comedy & Music      58\n",
              "      Government and Politics     31\n",
              "                                ... \n",
              "2008  Media                       77\n",
              "      Other                       20\n",
              "2009  Acting, Comedy & Music      34\n",
              "      Government and Politics     34\n",
              "      Media                       59\n",
              "      Other                       36\n",
              "2010  Acting, Comedy & Music      58\n",
              "      Government and Politics     30\n",
              "      Media                       50\n",
              "      Other                       27\n",
              "2011  Acting, Comedy & Music      55\n",
              "      Government and Politics     27\n",
              "      Media                       51\n",
              "      Other                       30\n",
              "2012  Acting, Comedy & Music      44\n",
              "      Government and Politics     33\n",
              "      Media                       52\n",
              "      Other                       35\n",
              "2013  Acting, Comedy & Music      71\n",
              "      Government and Politics     21\n",
              "      Media                       51\n",
              "      Other                       23\n",
              "2014  Acting, Comedy & Music      64\n",
              "      Government and Politics     21\n",
              "      Media                       53\n",
              "      Other                       25\n",
              "2015  Acting, Comedy & Music      45\n",
              "      Government and Politics     17\n",
              "      Media                       24\n",
              "      Other                       14\n",
              "Length: 68, dtype: int64"
            ]
          },
          "metadata": {
            "tags": []
          },
          "execution_count": 9
        }
      ]
    },
    {
      "metadata": {
        "id": "CBW4XJr5TGFZ",
        "colab_type": "code",
        "colab": {
          "base_uri": "https://localhost:8080/",
          "height": 106
        },
        "outputId": "a962a0a1-535d-444d-f20c-ff9585d03a9c"
      },
      "cell_type": "code",
      "source": [
        "df_year = df.groupby('Year')\n",
        "df_year.get_group(1999)['Occupation'].value_counts()"
      ],
      "execution_count": 10,
      "outputs": [
        {
          "output_type": "execute_result",
          "data": {
            "text/plain": [
              "Acting, Comedy & Music     150\n",
              "Media                       11\n",
              "Other                        3\n",
              "Government and Politics      2\n",
              "Name: Occupation, dtype: int64"
            ]
          },
          "metadata": {
            "tags": []
          },
          "execution_count": 10
        }
      ]
    },
    {
      "metadata": {
        "id": "CW0LqzT3VIpB",
        "colab_type": "code",
        "colab": {
          "base_uri": "https://localhost:8080/",
          "height": 88
        },
        "outputId": "cbe07050-82ad-4a52-f8cf-2f552edf7ea4"
      },
      "cell_type": "code",
      "source": [
        "for num in df_year.get_group(1999)['Occupation'].value_counts():\n",
        "  print(num / df_year.get_group(1999)['Occupation'].value_counts().sum() * 100)"
      ],
      "execution_count": 11,
      "outputs": [
        {
          "output_type": "stream",
          "text": [
            "90.36144578313254\n",
            "6.626506024096386\n",
            "1.8072289156626504\n",
            "1.2048192771084338\n"
          ],
          "name": "stdout"
        }
      ]
    },
    {
      "metadata": {
        "id": "I9bEjuVJVIrf",
        "colab_type": "code",
        "colab": {}
      },
      "cell_type": "code",
      "source": [
        "occupations = ['Acting, Comedy & Music', 'Government and Politics', 'Media', 'Other']"
      ],
      "execution_count": 0,
      "outputs": []
    },
    {
      "metadata": {
        "id": "mY0iic4tVIuI",
        "colab_type": "code",
        "colab": {
          "base_uri": "https://localhost:8080/",
          "height": 1528
        },
        "outputId": "706a39c0-732e-4110-f146-01378d6f7d7c"
      },
      "cell_type": "code",
      "source": [
        "for group, data in df_year:\n",
        "  print(group)\n",
        "  for num in data['Occupation'].value_counts():\n",
        "    print(num / data['Occupation'].value_counts().sum() * 100)\n",
        "  "
      ],
      "execution_count": 40,
      "outputs": [
        {
          "output_type": "stream",
          "text": [
            "1999\n",
            "90.36144578313254\n",
            "6.626506024096386\n",
            "1.8072289156626504\n",
            "1.2048192771084338\n",
            "2000\n",
            "73.96449704142012\n",
            "12.42603550295858\n",
            "8.284023668639055\n",
            "5.325443786982249\n",
            "2001\n",
            "72.61146496815286\n",
            "19.745222929936308\n",
            "3.821656050955414\n",
            "3.821656050955414\n",
            "2002\n",
            "62.264150943396224\n",
            "26.41509433962264\n",
            "6.918238993710692\n",
            "4.40251572327044\n",
            "2003\n",
            "56.024096385542165\n",
            "24.69879518072289\n",
            "10.240963855421686\n",
            "9.036144578313253\n",
            "2004\n",
            "38.41463414634146\n",
            "27.439024390243905\n",
            "22.5609756097561\n",
            "11.585365853658537\n",
            "2005\n",
            "37.03703703703704\n",
            "33.33333333333333\n",
            "16.049382716049383\n",
            "13.580246913580247\n",
            "2006\n",
            "36.024844720496894\n",
            "29.19254658385093\n",
            "19.25465838509317\n",
            "15.527950310559005\n",
            "2007\n",
            "33.33333333333333\n",
            "25.53191489361702\n",
            "24.113475177304963\n",
            "17.02127659574468\n",
            "2008\n",
            "46.95121951219512\n",
            "20.73170731707317\n",
            "20.121951219512198\n",
            "12.195121951219512\n",
            "2009\n",
            "36.19631901840491\n",
            "22.085889570552148\n",
            "20.858895705521473\n",
            "20.858895705521473\n",
            "2010\n",
            "35.15151515151515\n",
            "30.303030303030305\n",
            "18.181818181818183\n",
            "16.363636363636363\n",
            "2011\n",
            "33.74233128834356\n",
            "31.28834355828221\n",
            "18.404907975460123\n",
            "16.56441717791411\n",
            "2012\n",
            "31.70731707317073\n",
            "26.82926829268293\n",
            "21.341463414634145\n",
            "20.121951219512198\n",
            "2013\n",
            "42.77108433734939\n",
            "30.72289156626506\n",
            "13.855421686746988\n",
            "12.650602409638553\n",
            "2014\n",
            "39.263803680981596\n",
            "32.515337423312886\n",
            "15.337423312883436\n",
            "12.883435582822086\n",
            "2015\n",
            "45.0\n",
            "24.0\n",
            "17.0\n",
            "14.000000000000002\n"
          ],
          "name": "stdout"
        }
      ]
    },
    {
      "metadata": {
        "id": "gahQ3LPlVI67",
        "colab_type": "code",
        "colab": {
          "base_uri": "https://localhost:8080/",
          "height": 1137
        },
        "outputId": "5c880ae7-5a7c-4536-f542-583682337763"
      },
      "cell_type": "code",
      "source": [
        "df_year['Occupation'].value_counts()"
      ],
      "execution_count": 39,
      "outputs": [
        {
          "output_type": "execute_result",
          "data": {
            "text/plain": [
              "Year  Occupation             \n",
              "1999  Acting, Comedy & Music     150\n",
              "      Media                       11\n",
              "      Other                        3\n",
              "      Government and Politics      2\n",
              "2000  Acting, Comedy & Music     125\n",
              "      Media                       21\n",
              "      Government and Politics     14\n",
              "      Other                        9\n",
              "2001  Acting, Comedy & Music     114\n",
              "      Media                       31\n",
              "      Government and Politics      6\n",
              "      Other                        6\n",
              "2002  Acting, Comedy & Music      99\n",
              "      Media                       42\n",
              "      Government and Politics     11\n",
              "      Other                        7\n",
              "2003  Acting, Comedy & Music      93\n",
              "      Media                       41\n",
              "      Government and Politics     17\n",
              "      Other                       15\n",
              "2004  Acting, Comedy & Music      63\n",
              "      Media                       45\n",
              "      Government and Politics     37\n",
              "      Other                       19\n",
              "2005  Acting, Comedy & Music      60\n",
              "      Media                       54\n",
              "      Government and Politics     26\n",
              "      Other                       22\n",
              "2006  Acting, Comedy & Music      58\n",
              "      Media                       47\n",
              "                                ... \n",
              "2008  Government and Politics     33\n",
              "      Other                       20\n",
              "2009  Media                       59\n",
              "      Other                       36\n",
              "      Acting, Comedy & Music      34\n",
              "      Government and Politics     34\n",
              "2010  Acting, Comedy & Music      58\n",
              "      Media                       50\n",
              "      Government and Politics     30\n",
              "      Other                       27\n",
              "2011  Acting, Comedy & Music      55\n",
              "      Media                       51\n",
              "      Other                       30\n",
              "      Government and Politics     27\n",
              "2012  Media                       52\n",
              "      Acting, Comedy & Music      44\n",
              "      Other                       35\n",
              "      Government and Politics     33\n",
              "2013  Acting, Comedy & Music      71\n",
              "      Media                       51\n",
              "      Other                       23\n",
              "      Government and Politics     21\n",
              "2014  Acting, Comedy & Music      64\n",
              "      Media                       53\n",
              "      Other                       25\n",
              "      Government and Politics     21\n",
              "2015  Acting, Comedy & Music      45\n",
              "      Media                       24\n",
              "      Government and Politics     17\n",
              "      Other                       14\n",
              "Name: Occupation, Length: 68, dtype: int64"
            ]
          },
          "metadata": {
            "tags": []
          },
          "execution_count": 39
        }
      ]
    },
    {
      "metadata": {
        "id": "oTROJl49VI9p",
        "colab_type": "code",
        "colab": {}
      },
      "cell_type": "code",
      "source": [
        ""
      ],
      "execution_count": 0,
      "outputs": []
    },
    {
      "metadata": {
        "id": "sGWcl-rZVJAL",
        "colab_type": "code",
        "colab": {}
      },
      "cell_type": "code",
      "source": [
        ""
      ],
      "execution_count": 0,
      "outputs": []
    },
    {
      "metadata": {
        "id": "Nqf9oJJDDu-d",
        "colab_type": "text"
      },
      "cell_type": "markdown",
      "source": [
        "# Part 2 — Recreate this explanatory visualization:"
      ]
    },
    {
      "metadata": {
        "id": "scozkHQc0_eD",
        "colab_type": "code",
        "outputId": "c1197700-da72-4e42-b011-593ab0e494fc",
        "colab": {
          "base_uri": "https://localhost:8080/",
          "height": 406
        }
      },
      "cell_type": "code",
      "source": [
        "from IPython.display import display, Image\n",
        "url = 'https://fivethirtyeight.com/wp-content/uploads/2015/08/hickey-datalab-dailyshow.png'\n",
        "example = Image(url, width=500)\n",
        "display(example)"
      ],
      "execution_count": 15,
      "outputs": [
        {
          "output_type": "display_data",
          "data": {
            "image/png": "[encoded data removed]",
            "text/plain": [
              "<IPython.core.display.Image object>"
            ]
          },
          "metadata": {
            "tags": [],
            "image/png": {
              "width": 500
            }
          }
        }
      ]
    },
    {
      "metadata": {
        "id": "W7lw3JzAE6BJ",
        "colab_type": "text"
      },
      "cell_type": "markdown",
      "source": [
        "**Hint:** use the crosstab you calculated in part 1!\n",
        "\n",
        "**Expectations:** Your plot should include:\n",
        "- 3 lines visualizing \"occupation of guests, by year.\" The shapes of the lines should look roughly identical to 538's example. Each line should be a different color. (But you don't need to use the _same_ colors as 538.)\n",
        "- Legend or labels for the lines. (But you don't need each label positioned next to its line or colored like 538.)\n",
        "- Title in the upper left: _\"Who Got To Be On 'The Daily Show'?\"_ with more visual emphasis than the subtitle. (Bolder and/or larger font.)\n",
        "- Subtitle underneath the title: _\"Occupation of guests, by year\"_\n",
        "\n",
        "Any visual element not specifically mentioned in the expectations is an optional bonus, but it's _not_ required to pass the Sprint Challenge.\n",
        "\n",
        "\n",
        "\n",
        "\n"
      ]
    },
    {
      "metadata": {
        "id": "E8XBAr8rz_Na",
        "colab_type": "code",
        "colab": {
          "base_uri": "https://localhost:8080/",
          "height": 300
        },
        "outputId": "8bbc8af5-5f34-40fc-d2a2-a1a130e81428"
      },
      "cell_type": "code",
      "source": [
        "years = [x for x in range(1999, 2016)]\n",
        "percent_acm = [90.36, 73.96, 72.61, 62.26, 56.02, 38.41, 37.03, 36.02, 33.33, 20.73, 36.19, 35.15, 33.74, 31.70, 42.77, 39.26, 45]\n",
        "percent_m = [np.random.randint(20, 40) for x in range(17)]\n",
        "percent_gp = [np.random.randint(5, 20) for x in range(17)]\n",
        "plt.plot(final.index, percent_acm, color = 'blue')\n",
        "plt.plot(final.index, percent_m, color = 'purple')\n",
        "plt.plot(final.index, percent_gp, color = 'red');\n",
        "plt.legend()"
      ],
      "execution_count": 74,
      "outputs": [
        {
          "output_type": "stream",
          "text": [
            "No handles with labels found to put in legend.\n"
          ],
          "name": "stderr"
        },
        {
          "output_type": "execute_result",
          "data": {
            "text/plain": [
              "<matplotlib.legend.Legend at 0x7efc765ff940>"
            ]
          },
          "metadata": {
            "tags": []
          },
          "execution_count": 74
        },
        {
          "output_type": "display_data",
          "data": {
            "image/png": "[encoded data removed]",
            "text/plain": [
              "<matplotlib.figure.Figure at 0x7efc765fb1d0>"
            ]
          },
          "metadata": {
            "tags": []
          }
        }
      ]
    },
    {
      "metadata": {
        "id": "LuacMjSf2ses",
        "colab_type": "text"
      },
      "cell_type": "markdown",
      "source": [
        "# Part 3 — Who were the top 10 guests on _The Daily Show_?\n",
        "\n",
        "**Make a plot** that shows their names and number of appearances.\n",
        "\n",
        "**Hint:** you can use the pandas `value_counts` method.\n",
        "\n",
        "**Expectations:** This can be a simple, quick plot: exploratory, not explanatory. \n",
        "\n",
        "If you want, you can add titles and change aesthetics, but it's _not_ required to pass the Sprint Challenge."
      ]
    },
    {
      "metadata": {
        "id": "tbwfBN3HsFlh",
        "colab_type": "code",
        "colab": {
          "base_uri": "https://localhost:8080/",
          "height": 212
        },
        "outputId": "6e92a954-d0fc-4fe9-bb03-313020055100"
      },
      "cell_type": "code",
      "source": [
        "top_10 = df['Guest'].value_counts().head(10)\n",
        "top_10"
      ],
      "execution_count": 17,
      "outputs": [
        {
          "output_type": "execute_result",
          "data": {
            "text/plain": [
              "Fareed Zakaria    19\n",
              "Denis Leary       17\n",
              "Brian Williams    16\n",
              "Ricky Gervais     13\n",
              "Paul Rudd         13\n",
              "Tom Brokaw        12\n",
              "Bill O'Reilly     10\n",
              "Richard Lewis     10\n",
              "Reza Aslan        10\n",
              "Will Ferrell      10\n",
              "Name: Guest, dtype: int64"
            ]
          },
          "metadata": {
            "tags": []
          },
          "execution_count": 17
        }
      ]
    },
    {
      "metadata": {
        "id": "BwEBnwGdqInG",
        "colab_type": "code",
        "colab": {
          "base_uri": "https://localhost:8080/",
          "height": 294
        },
        "outputId": "f4f9ed2b-8ba3-47fb-a066-1c0afc2056e4"
      },
      "cell_type": "code",
      "source": [
        "plt.barh(y = top_10.index, width = top_10.values)\n",
        "plt.title(\"Top 10 Guests on 'The Daily Show'\")\n",
        "plt.xlabel('Number of apperances');"
      ],
      "execution_count": 18,
      "outputs": [
        {
          "output_type": "display_data",
          "data": {
            "image/png": "[encoded data removed]",
            "text/plain": [
              "<matplotlib.figure.Figure at 0x7efc7965f588>"
            ]
          },
          "metadata": {
            "tags": []
          }
        }
      ]
    },
    {
      "metadata": {
        "id": "rMdQwhv0qwen",
        "colab_type": "code",
        "colab": {}
      },
      "cell_type": "code",
      "source": [
        "plt.barh?"
      ],
      "execution_count": 0,
      "outputs": []
    },
    {
      "metadata": {
        "id": "MBhpvukXrW3Q",
        "colab_type": "code",
        "colab": {}
      },
      "cell_type": "code",
      "source": [
        "final = pd.crosstab(index = df['Year'], columns = df['Occupation'])"
      ],
      "execution_count": 0,
      "outputs": []
    },
    {
      "metadata": {
        "id": "90w-s1sQ3Lv4",
        "colab_type": "code",
        "colab": {
          "base_uri": "https://localhost:8080/",
          "height": 575
        },
        "outputId": "26422f62-efef-4be3-a324-a6f3d945f8d7"
      },
      "cell_type": "code",
      "source": [
        "final"
      ],
      "execution_count": 65,
      "outputs": [
        {
          "output_type": "execute_result",
          "data": {
            "text/html": [
              "<div>\n",
              "<style scoped>\n",
              "    .dataframe tbody tr th:only-of-type {\n",
              "        vertical-align: middle;\n",
              "    }\n",
              "\n",
              "    .dataframe tbody tr th {\n",
              "        vertical-align: top;\n",
              "    }\n",
              "\n",
              "    .dataframe thead th {\n",
              "        text-align: right;\n",
              "    }\n",
              "</style>\n",
              "<table border=\"1\" class=\"dataframe\">\n",
              "  <thead>\n",
              "    <tr style=\"text-align: right;\">\n",
              "      <th>Occupation</th>\n",
              "      <th>Acting, Comedy &amp; Music</th>\n",
              "      <th>Government and Politics</th>\n",
              "      <th>Media</th>\n",
              "      <th>Other</th>\n",
              "    </tr>\n",
              "    <tr>\n",
              "      <th>Year</th>\n",
              "      <th></th>\n",
              "      <th></th>\n",
              "      <th></th>\n",
              "      <th></th>\n",
              "    </tr>\n",
              "  </thead>\n",
              "  <tbody>\n",
              "    <tr>\n",
              "      <th>1999</th>\n",
              "      <td>150</td>\n",
              "      <td>2</td>\n",
              "      <td>11</td>\n",
              "      <td>3</td>\n",
              "    </tr>\n",
              "    <tr>\n",
              "      <th>2000</th>\n",
              "      <td>125</td>\n",
              "      <td>14</td>\n",
              "      <td>21</td>\n",
              "      <td>9</td>\n",
              "    </tr>\n",
              "    <tr>\n",
              "      <th>2001</th>\n",
              "      <td>114</td>\n",
              "      <td>6</td>\n",
              "      <td>31</td>\n",
              "      <td>6</td>\n",
              "    </tr>\n",
              "    <tr>\n",
              "      <th>2002</th>\n",
              "      <td>99</td>\n",
              "      <td>11</td>\n",
              "      <td>42</td>\n",
              "      <td>7</td>\n",
              "    </tr>\n",
              "    <tr>\n",
              "      <th>2003</th>\n",
              "      <td>93</td>\n",
              "      <td>17</td>\n",
              "      <td>41</td>\n",
              "      <td>15</td>\n",
              "    </tr>\n",
              "    <tr>\n",
              "      <th>2004</th>\n",
              "      <td>63</td>\n",
              "      <td>37</td>\n",
              "      <td>45</td>\n",
              "      <td>19</td>\n",
              "    </tr>\n",
              "    <tr>\n",
              "      <th>2005</th>\n",
              "      <td>60</td>\n",
              "      <td>26</td>\n",
              "      <td>54</td>\n",
              "      <td>22</td>\n",
              "    </tr>\n",
              "    <tr>\n",
              "      <th>2006</th>\n",
              "      <td>58</td>\n",
              "      <td>31</td>\n",
              "      <td>47</td>\n",
              "      <td>25</td>\n",
              "    </tr>\n",
              "    <tr>\n",
              "      <th>2007</th>\n",
              "      <td>36</td>\n",
              "      <td>24</td>\n",
              "      <td>47</td>\n",
              "      <td>34</td>\n",
              "    </tr>\n",
              "    <tr>\n",
              "      <th>2008</th>\n",
              "      <td>34</td>\n",
              "      <td>33</td>\n",
              "      <td>77</td>\n",
              "      <td>20</td>\n",
              "    </tr>\n",
              "    <tr>\n",
              "      <th>2009</th>\n",
              "      <td>34</td>\n",
              "      <td>34</td>\n",
              "      <td>59</td>\n",
              "      <td>36</td>\n",
              "    </tr>\n",
              "    <tr>\n",
              "      <th>2010</th>\n",
              "      <td>58</td>\n",
              "      <td>30</td>\n",
              "      <td>50</td>\n",
              "      <td>27</td>\n",
              "    </tr>\n",
              "    <tr>\n",
              "      <th>2011</th>\n",
              "      <td>55</td>\n",
              "      <td>27</td>\n",
              "      <td>51</td>\n",
              "      <td>30</td>\n",
              "    </tr>\n",
              "    <tr>\n",
              "      <th>2012</th>\n",
              "      <td>44</td>\n",
              "      <td>33</td>\n",
              "      <td>52</td>\n",
              "      <td>35</td>\n",
              "    </tr>\n",
              "    <tr>\n",
              "      <th>2013</th>\n",
              "      <td>71</td>\n",
              "      <td>21</td>\n",
              "      <td>51</td>\n",
              "      <td>23</td>\n",
              "    </tr>\n",
              "    <tr>\n",
              "      <th>2014</th>\n",
              "      <td>64</td>\n",
              "      <td>21</td>\n",
              "      <td>53</td>\n",
              "      <td>25</td>\n",
              "    </tr>\n",
              "    <tr>\n",
              "      <th>2015</th>\n",
              "      <td>45</td>\n",
              "      <td>17</td>\n",
              "      <td>24</td>\n",
              "      <td>14</td>\n",
              "    </tr>\n",
              "  </tbody>\n",
              "</table>\n",
              "</div>"
            ],
            "text/plain": [
              "Occupation  Acting, Comedy & Music  Government and Politics  Media  Other\n",
              "Year                                                                     \n",
              "1999                           150                        2     11      3\n",
              "2000                           125                       14     21      9\n",
              "2001                           114                        6     31      6\n",
              "2002                            99                       11     42      7\n",
              "2003                            93                       17     41     15\n",
              "2004                            63                       37     45     19\n",
              "2005                            60                       26     54     22\n",
              "2006                            58                       31     47     25\n",
              "2007                            36                       24     47     34\n",
              "2008                            34                       33     77     20\n",
              "2009                            34                       34     59     36\n",
              "2010                            58                       30     50     27\n",
              "2011                            55                       27     51     30\n",
              "2012                            44                       33     52     35\n",
              "2013                            71                       21     51     23\n",
              "2014                            64                       21     53     25\n",
              "2015                            45                       17     24     14"
            ]
          },
          "metadata": {
            "tags": []
          },
          "execution_count": 65
        }
      ]
    },
    {
      "metadata": {
        "id": "xEc9byOU3L0M",
        "colab_type": "code",
        "colab": {
          "base_uri": "https://localhost:8080/",
          "height": 265
        },
        "outputId": "f9627284-5277-4ab2-f43d-988aa95aa614"
      },
      "cell_type": "code",
      "source": [
        "years = [x for x in range(1999, 2016)]\n",
        "percent_acm = final['Acting, Comedy & Music']\n",
        "percent_m = final['Government and Politics']\n",
        "percent_gp = final['Media']\n",
        "plt.plot(final.index, percent_acm, color = 'blue')\n",
        "plt.plot(final.index, percent_m, color = 'purple')\n",
        "plt.plot(final.index, percent_gp, color = 'red')\n",
        "plt.legend(final.columns);"
      ],
      "execution_count": 79,
      "outputs": [
        {
          "output_type": "display_data",
          "data": {
            "image/png": "[encoded data removed]",
            "text/plain": [
              "<matplotlib.figure.Figure at 0x7efc7964a518>"
            ]
          },
          "metadata": {
            "tags": []
          }
        }
      ]
    },
    {
      "metadata": {
        "id": "_Of4sN1w3L2q",
        "colab_type": "code",
        "colab": {}
      },
      "cell_type": "code",
      "source": [
        ""
      ],
      "execution_count": 0,
      "outputs": []
    },
    {
      "metadata": {
        "id": "K5fTGy2R1VUe",
        "colab_type": "code",
        "colab": {
          "base_uri": "https://localhost:8080/",
          "height": 355
        },
        "outputId": "a1ca75b9-69d6-43e0-c8b5-6ba54d07a460"
      },
      "cell_type": "code",
      "source": [
        "final.sum(axis = 1)"
      ],
      "execution_count": 64,
      "outputs": [
        {
          "output_type": "execute_result",
          "data": {
            "text/plain": [
              "Year\n",
              "1999    166\n",
              "2000    169\n",
              "2001    157\n",
              "2002    159\n",
              "2003    166\n",
              "2004    164\n",
              "2005    162\n",
              "2006    161\n",
              "2007    141\n",
              "2008    164\n",
              "2009    163\n",
              "2010    165\n",
              "2011    163\n",
              "2012    164\n",
              "2013    166\n",
              "2014    163\n",
              "2015    100\n",
              "dtype: int64"
            ]
          },
          "metadata": {
            "tags": []
          },
          "execution_count": 64
        }
      ]
    },
    {
      "metadata": {
        "id": "MLgTu8eE2MwT",
        "colab_type": "code",
        "colab": {}
      },
      "cell_type": "code",
      "source": [
        ""
      ],
      "execution_count": 0,
      "outputs": []
    }
  ]
}