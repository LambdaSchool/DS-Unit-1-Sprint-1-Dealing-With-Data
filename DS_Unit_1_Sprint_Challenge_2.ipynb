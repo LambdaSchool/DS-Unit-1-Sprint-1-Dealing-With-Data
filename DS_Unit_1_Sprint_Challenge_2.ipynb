{
  "nbformat": 4,
  "nbformat_minor": 0,
  "metadata": {
    "colab": {
      "name": "DS_Unit_1_Sprint_Challenge_2.ipynb",
      "version": "0.3.2",
      "provenance": [],
      "collapsed_sections": [],
      "include_colab_link": true
    },
    "kernelspec": {
      "name": "python3",
      "display_name": "Python 3"
    }
  },
  "cells": [
    {
      "cell_type": "markdown",
      "metadata": {
        "id": "view-in-github",
        "colab_type": "text"
      },
      "source": [
        "<a href=\"https://colab.research.google.com/github/cocoisland/DS-Sprint-01-Dealing-With-Data/blob/master/DS_Unit_1_Sprint_Challenge_2.ipynb\" target=\"_parent\"><img src=\"https://colab.research.google.com/assets/colab-badge.svg\" alt=\"Open In Colab\"/></a>"
      ]
    },
    {
      "metadata": {
        "id": "i-n_5en3ER1o",
        "colab_type": "text"
      },
      "cell_type": "markdown",
      "source": [
        "# Data Science Unit 1 Sprint Challenge 2\n",
        "\n",
        "# Storytelling with Data\n",
        "\n",
        "In this sprint challenge you'll work with a dataset from **FiveThirtyEight's article, [Every Guest Jon Stewart Ever Had On ‘The Daily Show’](https://fivethirtyeight.com/features/every-guest-jon-stewart-ever-had-on-the-daily-show/)**!"
      ]
    },
    {
      "metadata": {
        "id": "Thm2n5FF2Fnp",
        "colab_type": "text"
      },
      "cell_type": "markdown",
      "source": [
        "# Part 0 — Run this starter code\n",
        "\n",
        "You don't need to add or change anything here. Just run this cell and it loads the data for you, into a dataframe named `df`.\n",
        "\n",
        "(You can explore the data if you want, but it's not required to pass the Sprint Challenge.)"
      ]
    },
    {
      "metadata": {
        "id": "0rTHgzJIuRS7",
        "colab_type": "code",
        "colab": {}
      },
      "cell_type": "code",
      "source": [
        "%matplotlib inline\n",
        "import matplotlib.pyplot as plt\n",
        "import numpy as np\n",
        "import pandas as pd\n",
        "\n",
        "df = pd.read_csv('https://raw.githubusercontent.com/fivethirtyeight/data/master/daily-show-guests/daily_show_guests.csv')\n",
        "df.rename(columns={'YEAR': 'Year', 'Raw_Guest_List': 'Guest'}, inplace=True)\n",
        "\n",
        "def get_occupation(group):\n",
        "    if group in ['Acting', 'Comedy', 'Musician']:\n",
        "        return 'Acting, Comedy & Music'\n",
        "    elif group in ['Media', 'media']:\n",
        "        return 'Media'\n",
        "    elif group in ['Government', 'Politician', 'Political Aide']:\n",
        "        return 'Government and Politics'\n",
        "    else:\n",
        "        return 'Other'\n",
        "      \n",
        "df['Occupation'] = df['Group'].apply(get_occupation)"
      ],
      "execution_count": 0,
      "outputs": []
    },
    {
      "metadata": {
        "id": "OS0nW1vz1itX",
        "colab_type": "text"
      },
      "cell_type": "markdown",
      "source": [
        "# Part 1 — What's the breakdown of guests’ occupations per year?\n",
        "\n",
        "For example, in 1999, what percentage of guests were actors, comedians, or musicians? What percentage were in the media? What percentage were in politics? What percentage were from another occupation?\n",
        "\n",
        "Then, what about in 2000? In 2001? And so on, up through 2015.\n",
        "\n",
        "So, **for each year of _The Daily Show_, calculate the percentage of guests from each occupation:**\n",
        "- Acting, Comedy & Music\n",
        "- Government and Politics\n",
        "- Media\n",
        "- Other\n",
        "\n",
        "#### Hints:\n",
        "1. Use pandas to make a **crosstab** of **`Year`** & **`Occupation`**. ([This documentation](http://pandas.pydata.org/pandas-docs/stable/reshaping.html#cross-tabulations) has examples and explanation.)\n",
        "2. To get percentages instead of counts, use crosstab's **`normalize`** parameter to normalize over each _row._ ([This documentation](http://pandas.pydata.org/pandas-docs/stable/generated/pandas.crosstab.html) describes the parameter and its options.)\n",
        "3. You'll know you've calculated the crosstab correctly when the percentage of \"Acting, Comedy & Music\" guests is 90.36% in 1999, and 45% in 2015."
      ]
    },
    {
      "metadata": {
        "id": "sRMc0H_5z6ff",
        "colab_type": "code",
        "colab": {
          "base_uri": "https://localhost:8080/",
          "height": 153
        },
        "outputId": "c1106fca-73bc-4686-a0aa-1db3139dc6e5"
      },
      "cell_type": "code",
      "source": [
        "print(df.shape)\n",
        "print(df.isna().sum())\n"
      ],
      "execution_count": 4,
      "outputs": [
        {
          "output_type": "stream",
          "text": [
            "(2693, 6)\n",
            "Year                          0\n",
            "GoogleKnowlege_Occupation    26\n",
            "Show                          0\n",
            "Group                        31\n",
            "Guest                         0\n",
            "Occupation                    0\n",
            "dtype: int64\n"
          ],
          "name": "stdout"
        }
      ]
    },
    {
      "metadata": {
        "id": "2TGMDZAHVgqg",
        "colab_type": "code",
        "colab": {
          "base_uri": "https://localhost:8080/",
          "height": 204
        },
        "outputId": "baeb9a3c-730c-45c1-ab64-2875b5c3844f"
      },
      "cell_type": "code",
      "source": [
        "df.sample(5)"
      ],
      "execution_count": 5,
      "outputs": [
        {
          "output_type": "execute_result",
          "data": {
            "text/html": [
              "<div>\n",
              "<style scoped>\n",
              "    .dataframe tbody tr th:only-of-type {\n",
              "        vertical-align: middle;\n",
              "    }\n",
              "\n",
              "    .dataframe tbody tr th {\n",
              "        vertical-align: top;\n",
              "    }\n",
              "\n",
              "    .dataframe thead th {\n",
              "        text-align: right;\n",
              "    }\n",
              "</style>\n",
              "<table border=\"1\" class=\"dataframe\">\n",
              "  <thead>\n",
              "    <tr style=\"text-align: right;\">\n",
              "      <th></th>\n",
              "      <th>Year</th>\n",
              "      <th>GoogleKnowlege_Occupation</th>\n",
              "      <th>Show</th>\n",
              "      <th>Group</th>\n",
              "      <th>Guest</th>\n",
              "      <th>Occupation</th>\n",
              "    </tr>\n",
              "  </thead>\n",
              "  <tbody>\n",
              "    <tr>\n",
              "      <th>2109</th>\n",
              "      <td>2012</td>\n",
              "      <td>Writer</td>\n",
              "      <td>1/25/12</td>\n",
              "      <td>Media</td>\n",
              "      <td>Paula Broadwell</td>\n",
              "      <td>Media</td>\n",
              "    </tr>\n",
              "    <tr>\n",
              "      <th>86</th>\n",
              "      <td>1999</td>\n",
              "      <td>actress</td>\n",
              "      <td>4/15/99</td>\n",
              "      <td>Acting</td>\n",
              "      <td>Marlee Matlin</td>\n",
              "      <td>Acting, Comedy &amp; Music</td>\n",
              "    </tr>\n",
              "    <tr>\n",
              "      <th>2669</th>\n",
              "      <td>2015</td>\n",
              "      <td>nyc mayor</td>\n",
              "      <td>6/2/15</td>\n",
              "      <td>Politician</td>\n",
              "      <td>Bill de Blasio</td>\n",
              "      <td>Government and Politics</td>\n",
              "    </tr>\n",
              "    <tr>\n",
              "      <th>877</th>\n",
              "      <td>2004</td>\n",
              "      <td>american politician</td>\n",
              "      <td>2/4/04</td>\n",
              "      <td>Politician</td>\n",
              "      <td>Bob Dole</td>\n",
              "      <td>Government and Politics</td>\n",
              "    </tr>\n",
              "    <tr>\n",
              "      <th>118</th>\n",
              "      <td>1999</td>\n",
              "      <td>actress</td>\n",
              "      <td>6/30/99</td>\n",
              "      <td>Acting</td>\n",
              "      <td>Roseanne Barr</td>\n",
              "      <td>Acting, Comedy &amp; Music</td>\n",
              "    </tr>\n",
              "  </tbody>\n",
              "</table>\n",
              "</div>"
            ],
            "text/plain": [
              "      Year GoogleKnowlege_Occupation     Show       Group            Guest  \\\n",
              "2109  2012                    Writer  1/25/12       Media  Paula Broadwell   \n",
              "86    1999                   actress  4/15/99      Acting    Marlee Matlin   \n",
              "2669  2015                 nyc mayor   6/2/15  Politician   Bill de Blasio   \n",
              "877   2004       american politician   2/4/04  Politician         Bob Dole   \n",
              "118   1999                   actress  6/30/99      Acting    Roseanne Barr   \n",
              "\n",
              "                   Occupation  \n",
              "2109                    Media  \n",
              "86     Acting, Comedy & Music  \n",
              "2669  Government and Politics  \n",
              "877   Government and Politics  \n",
              "118    Acting, Comedy & Music  "
            ]
          },
          "metadata": {
            "tags": []
          },
          "execution_count": 5
        }
      ]
    },
    {
      "metadata": {
        "id": "BuMmw3HgTnx8",
        "colab_type": "code",
        "colab": {
          "base_uri": "https://localhost:8080/",
          "height": 607
        },
        "outputId": "26323bfd-c8c7-409b-f06a-38f588a59a2e"
      },
      "cell_type": "code",
      "source": [
        "guest = pd.crosstab(df['Year'], df['Occupation'], normalize='index')\n",
        "guest"
      ],
      "execution_count": 6,
      "outputs": [
        {
          "output_type": "execute_result",
          "data": {
            "text/html": [
              "<div>\n",
              "<style scoped>\n",
              "    .dataframe tbody tr th:only-of-type {\n",
              "        vertical-align: middle;\n",
              "    }\n",
              "\n",
              "    .dataframe tbody tr th {\n",
              "        vertical-align: top;\n",
              "    }\n",
              "\n",
              "    .dataframe thead th {\n",
              "        text-align: right;\n",
              "    }\n",
              "</style>\n",
              "<table border=\"1\" class=\"dataframe\">\n",
              "  <thead>\n",
              "    <tr style=\"text-align: right;\">\n",
              "      <th>Occupation</th>\n",
              "      <th>Acting, Comedy &amp; Music</th>\n",
              "      <th>Government and Politics</th>\n",
              "      <th>Media</th>\n",
              "      <th>Other</th>\n",
              "    </tr>\n",
              "    <tr>\n",
              "      <th>Year</th>\n",
              "      <th></th>\n",
              "      <th></th>\n",
              "      <th></th>\n",
              "      <th></th>\n",
              "    </tr>\n",
              "  </thead>\n",
              "  <tbody>\n",
              "    <tr>\n",
              "      <th>1999</th>\n",
              "      <td>0.903614</td>\n",
              "      <td>0.012048</td>\n",
              "      <td>0.066265</td>\n",
              "      <td>0.018072</td>\n",
              "    </tr>\n",
              "    <tr>\n",
              "      <th>2000</th>\n",
              "      <td>0.739645</td>\n",
              "      <td>0.082840</td>\n",
              "      <td>0.124260</td>\n",
              "      <td>0.053254</td>\n",
              "    </tr>\n",
              "    <tr>\n",
              "      <th>2001</th>\n",
              "      <td>0.726115</td>\n",
              "      <td>0.038217</td>\n",
              "      <td>0.197452</td>\n",
              "      <td>0.038217</td>\n",
              "    </tr>\n",
              "    <tr>\n",
              "      <th>2002</th>\n",
              "      <td>0.622642</td>\n",
              "      <td>0.069182</td>\n",
              "      <td>0.264151</td>\n",
              "      <td>0.044025</td>\n",
              "    </tr>\n",
              "    <tr>\n",
              "      <th>2003</th>\n",
              "      <td>0.560241</td>\n",
              "      <td>0.102410</td>\n",
              "      <td>0.246988</td>\n",
              "      <td>0.090361</td>\n",
              "    </tr>\n",
              "    <tr>\n",
              "      <th>2004</th>\n",
              "      <td>0.384146</td>\n",
              "      <td>0.225610</td>\n",
              "      <td>0.274390</td>\n",
              "      <td>0.115854</td>\n",
              "    </tr>\n",
              "    <tr>\n",
              "      <th>2005</th>\n",
              "      <td>0.370370</td>\n",
              "      <td>0.160494</td>\n",
              "      <td>0.333333</td>\n",
              "      <td>0.135802</td>\n",
              "    </tr>\n",
              "    <tr>\n",
              "      <th>2006</th>\n",
              "      <td>0.360248</td>\n",
              "      <td>0.192547</td>\n",
              "      <td>0.291925</td>\n",
              "      <td>0.155280</td>\n",
              "    </tr>\n",
              "    <tr>\n",
              "      <th>2007</th>\n",
              "      <td>0.255319</td>\n",
              "      <td>0.170213</td>\n",
              "      <td>0.333333</td>\n",
              "      <td>0.241135</td>\n",
              "    </tr>\n",
              "    <tr>\n",
              "      <th>2008</th>\n",
              "      <td>0.207317</td>\n",
              "      <td>0.201220</td>\n",
              "      <td>0.469512</td>\n",
              "      <td>0.121951</td>\n",
              "    </tr>\n",
              "    <tr>\n",
              "      <th>2009</th>\n",
              "      <td>0.208589</td>\n",
              "      <td>0.208589</td>\n",
              "      <td>0.361963</td>\n",
              "      <td>0.220859</td>\n",
              "    </tr>\n",
              "    <tr>\n",
              "      <th>2010</th>\n",
              "      <td>0.351515</td>\n",
              "      <td>0.181818</td>\n",
              "      <td>0.303030</td>\n",
              "      <td>0.163636</td>\n",
              "    </tr>\n",
              "    <tr>\n",
              "      <th>2011</th>\n",
              "      <td>0.337423</td>\n",
              "      <td>0.165644</td>\n",
              "      <td>0.312883</td>\n",
              "      <td>0.184049</td>\n",
              "    </tr>\n",
              "    <tr>\n",
              "      <th>2012</th>\n",
              "      <td>0.268293</td>\n",
              "      <td>0.201220</td>\n",
              "      <td>0.317073</td>\n",
              "      <td>0.213415</td>\n",
              "    </tr>\n",
              "    <tr>\n",
              "      <th>2013</th>\n",
              "      <td>0.427711</td>\n",
              "      <td>0.126506</td>\n",
              "      <td>0.307229</td>\n",
              "      <td>0.138554</td>\n",
              "    </tr>\n",
              "    <tr>\n",
              "      <th>2014</th>\n",
              "      <td>0.392638</td>\n",
              "      <td>0.128834</td>\n",
              "      <td>0.325153</td>\n",
              "      <td>0.153374</td>\n",
              "    </tr>\n",
              "    <tr>\n",
              "      <th>2015</th>\n",
              "      <td>0.450000</td>\n",
              "      <td>0.170000</td>\n",
              "      <td>0.240000</td>\n",
              "      <td>0.140000</td>\n",
              "    </tr>\n",
              "  </tbody>\n",
              "</table>\n",
              "</div>"
            ],
            "text/plain": [
              "Occupation  Acting, Comedy & Music  Government and Politics     Media  \\\n",
              "Year                                                                    \n",
              "1999                      0.903614                 0.012048  0.066265   \n",
              "2000                      0.739645                 0.082840  0.124260   \n",
              "2001                      0.726115                 0.038217  0.197452   \n",
              "2002                      0.622642                 0.069182  0.264151   \n",
              "2003                      0.560241                 0.102410  0.246988   \n",
              "2004                      0.384146                 0.225610  0.274390   \n",
              "2005                      0.370370                 0.160494  0.333333   \n",
              "2006                      0.360248                 0.192547  0.291925   \n",
              "2007                      0.255319                 0.170213  0.333333   \n",
              "2008                      0.207317                 0.201220  0.469512   \n",
              "2009                      0.208589                 0.208589  0.361963   \n",
              "2010                      0.351515                 0.181818  0.303030   \n",
              "2011                      0.337423                 0.165644  0.312883   \n",
              "2012                      0.268293                 0.201220  0.317073   \n",
              "2013                      0.427711                 0.126506  0.307229   \n",
              "2014                      0.392638                 0.128834  0.325153   \n",
              "2015                      0.450000                 0.170000  0.240000   \n",
              "\n",
              "Occupation     Other  \n",
              "Year                  \n",
              "1999        0.018072  \n",
              "2000        0.053254  \n",
              "2001        0.038217  \n",
              "2002        0.044025  \n",
              "2003        0.090361  \n",
              "2004        0.115854  \n",
              "2005        0.135802  \n",
              "2006        0.155280  \n",
              "2007        0.241135  \n",
              "2008        0.121951  \n",
              "2009        0.220859  \n",
              "2010        0.163636  \n",
              "2011        0.184049  \n",
              "2012        0.213415  \n",
              "2013        0.138554  \n",
              "2014        0.153374  \n",
              "2015        0.140000  "
            ]
          },
          "metadata": {
            "tags": []
          },
          "execution_count": 6
        }
      ]
    },
    {
      "metadata": {
        "id": "Nqf9oJJDDu-d",
        "colab_type": "text"
      },
      "cell_type": "markdown",
      "source": [
        "# Part 2 — Recreate this explanatory visualization:"
      ]
    },
    {
      "metadata": {
        "id": "scozkHQc0_eD",
        "colab_type": "code",
        "outputId": "37948680-9f80-4158-faf0-052a548a835e",
        "colab": {
          "base_uri": "https://localhost:8080/",
          "height": 406
        }
      },
      "cell_type": "code",
      "source": [
        "from IPython.display import display, Image\n",
        "url = 'https://fivethirtyeight.com/wp-content/uploads/2015/08/hickey-datalab-dailyshow.png'\n",
        "example = Image(url, width=500)\n",
        "display(example)"
      ],
      "execution_count": 7,
      "outputs": [
        {
          "output_type": "display_data",
          "data": {
            "image/png": "[encoded data removed]",
            "text/plain": [
              "<IPython.core.display.Image object>"
            ]
          },
          "metadata": {
            "tags": [],
            "image/png": {
              "width": 500
            }
          }
        }
      ]
    },
    {
      "metadata": {
        "id": "W7lw3JzAE6BJ",
        "colab_type": "text"
      },
      "cell_type": "markdown",
      "source": [
        "**Hint:** use the crosstab you calculated in part 1!\n",
        "\n",
        "**Expectations:** Your plot should include:\n",
        "- 3 lines visualizing \"occupation of guests, by year.\" The shapes of the lines should look roughly identical to 538's example. Each line should be a different color. (But you don't need to use the _same_ colors as 538.)\n",
        "- Legend or labels for the lines. (But you don't need each label positioned next to its line or colored like 538.)\n",
        "- Title in the upper left: _\"Who Got To Be On 'The Daily Show'?\"_ with more visual emphasis than the subtitle. (Bolder and/or larger font.)\n",
        "- Subtitle underneath the title: _\"Occupation of guests, by year\"_\n",
        "\n",
        "Any visual element not specifically mentioned in the expectations is an optional bonus, but it's _not_ required to pass the Sprint Challenge.\n",
        "\n",
        "\n",
        "\n",
        "\n"
      ]
    },
    {
      "metadata": {
        "id": "v_s18peoalU9",
        "colab_type": "code",
        "colab": {
          "base_uri": "https://localhost:8080/",
          "height": 111
        },
        "outputId": "7bc8b051-01ce-495e-db7b-35c87028f3ce"
      },
      "cell_type": "code",
      "source": [
        "guest.head(1)"
      ],
      "execution_count": 8,
      "outputs": [
        {
          "output_type": "execute_result",
          "data": {
            "text/html": [
              "<div>\n",
              "<style scoped>\n",
              "    .dataframe tbody tr th:only-of-type {\n",
              "        vertical-align: middle;\n",
              "    }\n",
              "\n",
              "    .dataframe tbody tr th {\n",
              "        vertical-align: top;\n",
              "    }\n",
              "\n",
              "    .dataframe thead th {\n",
              "        text-align: right;\n",
              "    }\n",
              "</style>\n",
              "<table border=\"1\" class=\"dataframe\">\n",
              "  <thead>\n",
              "    <tr style=\"text-align: right;\">\n",
              "      <th>Occupation</th>\n",
              "      <th>Acting, Comedy &amp; Music</th>\n",
              "      <th>Government and Politics</th>\n",
              "      <th>Media</th>\n",
              "      <th>Other</th>\n",
              "    </tr>\n",
              "    <tr>\n",
              "      <th>Year</th>\n",
              "      <th></th>\n",
              "      <th></th>\n",
              "      <th></th>\n",
              "      <th></th>\n",
              "    </tr>\n",
              "  </thead>\n",
              "  <tbody>\n",
              "    <tr>\n",
              "      <th>1999</th>\n",
              "      <td>0.903614</td>\n",
              "      <td>0.012048</td>\n",
              "      <td>0.066265</td>\n",
              "      <td>0.018072</td>\n",
              "    </tr>\n",
              "  </tbody>\n",
              "</table>\n",
              "</div>"
            ],
            "text/plain": [
              "Occupation  Acting, Comedy & Music  Government and Politics     Media  \\\n",
              "Year                                                                    \n",
              "1999                      0.903614                 0.012048  0.066265   \n",
              "\n",
              "Occupation     Other  \n",
              "Year                  \n",
              "1999        0.018072  "
            ]
          },
          "metadata": {
            "tags": []
          },
          "execution_count": 8
        }
      ]
    },
    {
      "metadata": {
        "id": "7pYkhL82tbaB",
        "colab_type": "code",
        "colab": {}
      },
      "cell_type": "code",
      "source": [
        "guest.drop(columns=['Other'], inplace=True)"
      ],
      "execution_count": 0,
      "outputs": []
    },
    {
      "metadata": {
        "id": "IPEbGTSGpcYZ",
        "colab_type": "code",
        "colab": {}
      },
      "cell_type": "code",
      "source": [
        "\n",
        "guest = guest *100"
      ],
      "execution_count": 0,
      "outputs": []
    },
    {
      "metadata": {
        "id": "bIl__PN6uFA8",
        "colab_type": "code",
        "colab": {
          "base_uri": "https://localhost:8080/",
          "height": 111
        },
        "outputId": "dd3cb681-e8ec-4e4e-ac5e-08714db88b63"
      },
      "cell_type": "code",
      "source": [
        "guest.head(1)"
      ],
      "execution_count": 11,
      "outputs": [
        {
          "output_type": "execute_result",
          "data": {
            "text/html": [
              "<div>\n",
              "<style scoped>\n",
              "    .dataframe tbody tr th:only-of-type {\n",
              "        vertical-align: middle;\n",
              "    }\n",
              "\n",
              "    .dataframe tbody tr th {\n",
              "        vertical-align: top;\n",
              "    }\n",
              "\n",
              "    .dataframe thead th {\n",
              "        text-align: right;\n",
              "    }\n",
              "</style>\n",
              "<table border=\"1\" class=\"dataframe\">\n",
              "  <thead>\n",
              "    <tr style=\"text-align: right;\">\n",
              "      <th>Occupation</th>\n",
              "      <th>Acting, Comedy &amp; Music</th>\n",
              "      <th>Government and Politics</th>\n",
              "      <th>Media</th>\n",
              "    </tr>\n",
              "    <tr>\n",
              "      <th>Year</th>\n",
              "      <th></th>\n",
              "      <th></th>\n",
              "      <th></th>\n",
              "    </tr>\n",
              "  </thead>\n",
              "  <tbody>\n",
              "    <tr>\n",
              "      <th>1999</th>\n",
              "      <td>90.361446</td>\n",
              "      <td>1.204819</td>\n",
              "      <td>6.626506</td>\n",
              "    </tr>\n",
              "  </tbody>\n",
              "</table>\n",
              "</div>"
            ],
            "text/plain": [
              "Occupation  Acting, Comedy & Music  Government and Politics     Media\n",
              "Year                                                                 \n",
              "1999                     90.361446                 1.204819  6.626506"
            ]
          },
          "metadata": {
            "tags": []
          },
          "execution_count": 11
        }
      ]
    },
    {
      "metadata": {
        "id": "E8XBAr8rz_Na",
        "colab_type": "code",
        "colab": {
          "base_uri": "https://localhost:8080/",
          "height": 691
        },
        "outputId": "cc5341d5-38ad-4b62-e77b-b1699bc351fd"
      },
      "cell_type": "code",
      "source": [
        "\n",
        "\n",
        "'''fig = plt.figure(figsize= (10,8))\n",
        "ax = fig.add_subplot(111)\n",
        "ax.plot(guest)\n",
        "'''\n",
        "\n",
        "\n",
        "fig, ax = plt.subplots( figsize=(10,8))\n",
        "fig.suptitle(\"Who Got to be on the 'Daily Show'?\",\n",
        "             fontsize=30, \n",
        "             fontweight='bold')\n",
        "\n",
        "ax.plot(guest)\n",
        "\n",
        "ax.set_title(\"Occupation of guest by the year\", x=0.3 )\n",
        "\n",
        "ax.annotate(s=\"Acting, Comedy & Music\", xytext=(2002, 70), xy=(2002,70),fontweight='bold')\n",
        "ax.annotate(s=\"Media\", xytext=(2007, 50), xy=(2007,50),fontweight='bold')\n",
        "ax.annotate(s=\"Government and Politics\", xytext=(2010, 10), xy=(2010,10),fontweight='bold')\n",
        "\n",
        "ax.set(xlabel = '',\n",
        "       ylabel = '',\n",
        "       yticks = range(0, 101, 25))\n",
        "\n",
        "\n",
        "ll = [item.get_text() for item in ax.get_xticklabels()]\n",
        "ll[1]=\"xxx\"\n",
        "print(ll)\n",
        "\n",
        "import matplotlib.ticker as ticker\n",
        "import matplotlib as mpl\n",
        "\n",
        "xlabels = ['   ', '2000',\"\\'04\",\"\\'08\",\"\\'12\"]\n",
        "\n",
        "#@ticker.FuncFormatter\n",
        "\n",
        "def x_func(x, tick_number):\n",
        "  if(x == 1999) :\n",
        "    return xlabels[0]\n",
        "  elif x == '2000.0' :\n",
        "    return xlabels[1]\n",
        "  elif x == '2004.0' :\n",
        "    return xlabels[2]\n",
        "  elif x == '2008.0' :\n",
        "    return xlabels[3]\n",
        "  else:\n",
        "    return xlabels[4]\n",
        "  \n",
        "#ax.xaxis.set_major_formatter(ticker.FuncFormatter(x_func))\n",
        " \n",
        "\n",
        "#ax.xaxis.set_major_formatter(mpl.ticker.FixedFormatter(xlabels))\n",
        "\n",
        "l = [1999, 2000, 2004, 2008, 2012]\n",
        "plt.xticks(l, xlabels)\n",
        "\n"
      ],
      "execution_count": 58,
      "outputs": [
        {
          "output_type": "stream",
          "text": [
            "['', 'xxx', '', '', '', '', '', '', '', '']\n"
          ],
          "name": "stdout"
        },
        {
          "output_type": "execute_result",
          "data": {
            "text/plain": [
              "([<matplotlib.axis.XTick at 0x7f9292256780>,\n",
              "  <matplotlib.axis.XTick at 0x7f92921be2b0>,\n",
              "  <matplotlib.axis.XTick at 0x7f929223e828>,\n",
              "  <matplotlib.axis.XTick at 0x7f929228d048>,\n",
              "  <matplotlib.axis.XTick at 0x7f9292277160>],\n",
              " <a list of 5 Text xticklabel objects>)"
            ]
          },
          "metadata": {
            "tags": []
          },
          "execution_count": 58
        },
        {
          "output_type": "display_data",
          "data": {
            "image/png": "[encoded data removed]",
            "text/plain": [
              "<matplotlib.figure.Figure at 0x7f929223e0b8>"
            ]
          },
          "metadata": {
            "tags": []
          }
        }
      ]
    },
    {
      "metadata": {
        "id": "_VlOgmAmYm6i",
        "colab_type": "code",
        "colab": {}
      },
      "cell_type": "code",
      "source": [
        ""
      ],
      "execution_count": 0,
      "outputs": []
    },
    {
      "metadata": {
        "id": "riqb4rb3yuWR",
        "colab_type": "code",
        "colab": {
          "base_uri": "https://localhost:8080/",
          "height": 281
        },
        "outputId": "554fdf68-c356-41e2-e1eb-f39f2c7cdadd"
      },
      "cell_type": "code",
      "source": [
        "import matplotlib as mpl\n",
        "import matplotlib.pyplot as plt\n",
        "\n",
        "label_lookup = {.25: 'Label 1',\n",
        "                .5: 'Label 2',\n",
        "                .75: 'Label 3'}\n",
        "\n",
        "'''def mjrFormatter(x, pos):\n",
        "    print (x, pos)\n",
        "    return label_lookup[x]'''\n",
        "\n",
        "ax = plt.gca()\n",
        "ax.set_yticks([.25,.5,.75], minor=False)\n",
        "ax.yaxis.set_major_formatter(mpl.ticker.FixedFormatter(['Label 1x', 'Label 2x', 'Label 3x','vvvv','yyyy']))\n",
        "plt.draw()\n",
        "plt.show()"
      ],
      "execution_count": 32,
      "outputs": [
        {
          "output_type": "display_data",
          "data": {
            "image/png": "[encoded data removed]",
            "text/plain": [
              "<matplotlib.figure.Figure at 0x7f9293df07b8>"
            ]
          },
          "metadata": {
            "tags": []
          }
        }
      ]
    },
    {
      "metadata": {
        "id": "LuacMjSf2ses",
        "colab_type": "text"
      },
      "cell_type": "markdown",
      "source": [
        "# Part 3 — Who were the top 10 guests on _The Daily Show_?\n",
        "\n",
        "**Make a plot** that shows their names and number of appearances.\n",
        "\n",
        "**Hint:** you can use the pandas `value_counts` method.\n",
        "\n",
        "**Expectations:** This can be a simple, quick plot: exploratory, not explanatory. \n",
        "\n",
        "If you want, you can add titles and change aesthetics, but it's _not_ required to pass the Sprint Challenge."
      ]
    },
    {
      "metadata": {
        "id": "tbwfBN3HsFlh",
        "colab_type": "code",
        "colab": {
          "base_uri": "https://localhost:8080/",
          "height": 80
        },
        "outputId": "27270dd2-3fcc-4a60-872d-c8437e77e3fd"
      },
      "cell_type": "code",
      "source": [
        "df.sample()"
      ],
      "execution_count": 12,
      "outputs": [
        {
          "output_type": "execute_result",
          "data": {
            "text/html": [
              "<div>\n",
              "<style scoped>\n",
              "    .dataframe tbody tr th:only-of-type {\n",
              "        vertical-align: middle;\n",
              "    }\n",
              "\n",
              "    .dataframe tbody tr th {\n",
              "        vertical-align: top;\n",
              "    }\n",
              "\n",
              "    .dataframe thead th {\n",
              "        text-align: right;\n",
              "    }\n",
              "</style>\n",
              "<table border=\"1\" class=\"dataframe\">\n",
              "  <thead>\n",
              "    <tr style=\"text-align: right;\">\n",
              "      <th></th>\n",
              "      <th>Year</th>\n",
              "      <th>GoogleKnowlege_Occupation</th>\n",
              "      <th>Show</th>\n",
              "      <th>Group</th>\n",
              "      <th>Guest</th>\n",
              "      <th>Occupation</th>\n",
              "    </tr>\n",
              "  </thead>\n",
              "  <tbody>\n",
              "    <tr>\n",
              "      <th>2367</th>\n",
              "      <td>2013</td>\n",
              "      <td>journalist</td>\n",
              "      <td>5/16/13</td>\n",
              "      <td>Media</td>\n",
              "      <td>George Packer</td>\n",
              "      <td>Media</td>\n",
              "    </tr>\n",
              "  </tbody>\n",
              "</table>\n",
              "</div>"
            ],
            "text/plain": [
              "      Year GoogleKnowlege_Occupation     Show  Group          Guest Occupation\n",
              "2367  2013                journalist  5/16/13  Media  George Packer      Media"
            ]
          },
          "metadata": {
            "tags": []
          },
          "execution_count": 12
        }
      ]
    },
    {
      "metadata": {
        "id": "KN37XGoS2xhI",
        "colab_type": "code",
        "colab": {}
      },
      "cell_type": "code",
      "source": [
        "ga= df['Guest'].value_counts()"
      ],
      "execution_count": 0,
      "outputs": []
    },
    {
      "metadata": {
        "id": "Y_MFjYUd5hAA",
        "colab_type": "code",
        "colab": {}
      },
      "cell_type": "code",
      "source": [
        "top_ten=ga.head(10)"
      ],
      "execution_count": 0,
      "outputs": []
    },
    {
      "metadata": {
        "id": "FK0dZcE33GLI",
        "colab_type": "code",
        "colab": {
          "base_uri": "https://localhost:8080/",
          "height": 340
        },
        "outputId": "5faaa7ed-41f5-4389-8ac1-d4bc3289c2e5"
      },
      "cell_type": "code",
      "source": [
        "top_ten.plot.bar()"
      ],
      "execution_count": 15,
      "outputs": [
        {
          "output_type": "execute_result",
          "data": {
            "text/plain": [
              "<matplotlib.axes._subplots.AxesSubplot at 0x7f92967dffd0>"
            ]
          },
          "metadata": {
            "tags": []
          },
          "execution_count": 15
        },
        {
          "output_type": "display_data",
          "data": {
            "image/png": "[encoded data removed]",
            "text/plain": [
              "<matplotlib.figure.Figure at 0x7f92967df748>"
            ]
          },
          "metadata": {
            "tags": []
          }
        }
      ]
    }
  ]
}