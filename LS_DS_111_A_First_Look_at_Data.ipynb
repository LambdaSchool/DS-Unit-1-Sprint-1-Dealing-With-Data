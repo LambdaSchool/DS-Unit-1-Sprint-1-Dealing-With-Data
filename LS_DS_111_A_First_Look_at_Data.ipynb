{
  "nbformat": 4,
  "nbformat_minor": 0,
  "metadata": {
    "colab": {
      "name": "LS DS 111 - A First Look at Data.ipynb",
      "version": "0.3.2",
      "provenance": [],
      "collapsed_sections": [],
      "include_colab_link": true
    },
    "kernelspec": {
      "name": "python3",
      "display_name": "Python 3"
    }
  },
  "cells": [
    {
      "cell_type": "markdown",
      "metadata": {
        "id": "view-in-github",
        "colab_type": "text"
      },
      "source": [
        "<a href=\"https://colab.research.google.com/github/albert-h-wong/DS-Sprint-01-Dealing-With-Data/blob/master/LS_DS_111_A_First_Look_at_Data.ipynb\" target=\"_parent\"><img src=\"https://colab.research.google.com/assets/colab-badge.svg\" alt=\"Open In Colab\"/></a>"
      ]
    },
    {
      "metadata": {
        "id": "Okfr_uhwhS1X",
        "colab_type": "text"
      },
      "cell_type": "markdown",
      "source": [
        "# Lambda School Data Science - A First Look at Data\n",
        "\n"
      ]
    },
    {
      "metadata": {
        "id": "9dtJETFRhnOG",
        "colab_type": "text"
      },
      "cell_type": "markdown",
      "source": [
        "## Lecture - let's explore Python DS libraries and examples!\n",
        "\n",
        "The Python Data Science ecosystem is huge. You've seen some of the big pieces - pandas, scikit-learn, matplotlib. What parts do you want to see more of?"
      ]
    },
    {
      "metadata": {
        "id": "WiBkgmPJhmhE",
        "colab_type": "code",
        "colab": {}
      },
      "cell_type": "code",
      "source": [
        "# TODO - we'll be doing this live, taking requests\n",
        "# and reproducing what it is to look up and learn things"
      ],
      "execution_count": 0,
      "outputs": []
    },
    {
      "metadata": {
        "id": "lOqaPds9huME",
        "colab_type": "text"
      },
      "cell_type": "markdown",
      "source": [
        "## Assignment - now it's your turn\n",
        "\n",
        "Pick at least one Python DS library, and using documentation/examples reproduce in this notebook something cool. It's OK if you don't fully understand it or get it 100% working, but do put in effort and look things up."
      ]
    },
    {
      "metadata": {
        "id": "TGUS79cOhPWj",
        "colab_type": "code",
        "colab": {}
      },
      "cell_type": "code",
      "source": [
        "# TODO - your code here\n",
        "# Use what we did live in lecture as an example"
      ],
      "execution_count": 0,
      "outputs": []
    },
    {
      "metadata": {
        "id": "dvg70NXzpQ_H",
        "colab_type": "code",
        "colab": {}
      },
      "cell_type": "code",
      "source": [
        "import plotly.tools as tls\n",
        "tls.set_credentials_file(username='albert-h-wong', api_key='56yhprxfQ1GYFhlElHSG')"
      ],
      "execution_count": 0,
      "outputs": []
    },
    {
      "metadata": {
        "id": "dHKhgEOemwYp",
        "colab_type": "code",
        "colab": {}
      },
      "cell_type": "code",
      "source": [
        "import plotly.plotly as py\n",
        "import plotly.graph_objs as go\n",
        "\n",
        "import networkx as nx\n",
        "\n",
        "G=nx.random_geometric_graph(200,0.125)\n",
        "pos=nx.get_node_attributes(G,'pos')\n",
        "\n",
        "dmin=1\n",
        "ncenter=0\n",
        "for n in pos:\n",
        "    x,y=pos[n]\n",
        "    d=(x-0.5)**2+(y-0.5)**2\n",
        "    if d<dmin:\n",
        "        ncenter=n\n",
        "        dmin=d\n",
        "\n",
        "p=nx.single_source_shortest_path_length(G,ncenter)"
      ],
      "execution_count": 0,
      "outputs": []
    },
    {
      "metadata": {
        "id": "GnByU3jxmytS",
        "colab_type": "code",
        "colab": {}
      },
      "cell_type": "code",
      "source": [
        "edge_trace = go.Scatter(\n",
        "    x=[],\n",
        "    y=[],\n",
        "    line=dict(width=0.5,color='#888'),\n",
        "    hoverinfo='none',\n",
        "    mode='lines')\n",
        "\n",
        "for edge in G.edges():\n",
        "    x0, y0 = G.node[edge[0]]['pos']\n",
        "    x1, y1 = G.node[edge[1]]['pos']\n",
        "    edge_trace['x'] += tuple([x0, x1, None])\n",
        "    edge_trace['y'] += tuple([y0, y1, None])\n",
        "\n",
        "node_trace = go.Scatter(\n",
        "    x=[],\n",
        "    y=[],\n",
        "    text=[],\n",
        "    mode='markers',\n",
        "    hoverinfo='text',\n",
        "    marker=dict(\n",
        "        showscale=True,\n",
        "        # colorscale options\n",
        "        #'Greys' | 'YlGnBu' | 'Greens' | 'YlOrRd' | 'Bluered' | 'RdBu' |\n",
        "        #'Reds' | 'Blues' | 'Picnic' | 'Rainbow' | 'Portland' | 'Jet' |\n",
        "        #'Hot' | 'Blackbody' | 'Earth' | 'Electric' | 'Viridis' |\n",
        "        colorscale='YlGnBu',\n",
        "        reversescale=True,\n",
        "        color=[],\n",
        "        size=10,\n",
        "        colorbar=dict(\n",
        "            thickness=15,\n",
        "            title='Node Connections',\n",
        "            xanchor='left',\n",
        "            titleside='right'\n",
        "        ),\n",
        "        line=dict(width=2)))\n",
        "\n",
        "for node in G.nodes():\n",
        "    x, y = G.node[node]['pos']\n",
        "    node_trace['x'] += tuple([x])\n",
        "    node_trace['y'] += tuple([y])"
      ],
      "execution_count": 0,
      "outputs": []
    },
    {
      "metadata": {
        "id": "qr4rqTzYm5bK",
        "colab_type": "code",
        "colab": {}
      },
      "cell_type": "code",
      "source": [
        "for node, adjacencies in enumerate(G.adjacency()):\n",
        "    node_trace['marker']['color']+=tuple([len(adjacencies[1])])\n",
        "    node_info = '# of connections: '+str(len(adjacencies[1]))\n",
        "    node_trace['text']+=tuple([node_info])"
      ],
      "execution_count": 0,
      "outputs": []
    },
    {
      "metadata": {
        "id": "K2nmq5I4m-6G",
        "colab_type": "code",
        "colab": {
          "base_uri": "https://localhost:8080/",
          "height": 583
        },
        "outputId": "e9a5728c-ee91-4264-8864-a043e1b94b93"
      },
      "cell_type": "code",
      "source": [
        "fig = go.Figure(data=[edge_trace, node_trace],\n",
        "             layout=go.Layout(\n",
        "                title='<br>Network graph made with Python',\n",
        "                titlefont=dict(size=16),\n",
        "                showlegend=False,\n",
        "                hovermode='closest',\n",
        "                margin=dict(b=20,l=5,r=5,t=40),\n",
        "                annotations=[ dict(\n",
        "                    text=\"Python code: <a href='https://plot.ly/ipython-notebooks/network-graphs/'> https://plot.ly/ipython-notebooks/network-graphs/</a>\",\n",
        "                    showarrow=False,\n",
        "                    xref=\"paper\", yref=\"paper\",\n",
        "                    x=0.005, y=-0.002 ) ],\n",
        "                xaxis=dict(showgrid=False, zeroline=False, showticklabels=False),\n",
        "                yaxis=dict(showgrid=False, zeroline=False, showticklabels=False)))\n",
        "\n",
        "py.iplot(fig, filename='networkx')"
      ],
      "execution_count": 16,
      "outputs": [
        {
          "output_type": "stream",
          "text": [
            "High five! You successfully sent some data to your account on plotly. View your plot in your browser at https://plot.ly/~albert-h-wong/0 or inside your plot.ly account where it is named 'networkx'\n"
          ],
          "name": "stdout"
        },
        {
          "output_type": "execute_result",
          "data": {
            "text/html": [
              "<iframe id=\"igraph\" scrolling=\"no\" style=\"border:none;\" seamless=\"seamless\" src=\"https://plot.ly/~albert-h-wong/0.embed\" height=\"525px\" width=\"100%\"></iframe>"
            ],
            "text/plain": [
              "<plotly.tools.PlotlyDisplay object>"
            ]
          },
          "metadata": {
            "tags": []
          },
          "execution_count": 16
        }
      ]
    },
    {
      "metadata": {
        "id": "6jIy1hApmuoF",
        "colab_type": "code",
        "colab": {}
      },
      "cell_type": "code",
      "source": [
        ""
      ],
      "execution_count": 0,
      "outputs": []
    },
    {
      "metadata": {
        "id": "IWIn1rrXppsC",
        "colab_type": "code",
        "colab": {
          "base_uri": "https://localhost:8080/",
          "height": 546
        },
        "outputId": "32e63666-7b1a-4dc6-ac4c-4498bcdda26c"
      },
      "cell_type": "code",
      "source": [
        "import plotly.plotly as py\n",
        "import plotly.graph_objs as go\n",
        "\n",
        "import numpy as np\n",
        "\n",
        "x, y, z = np.random.multivariate_normal(np.array([0,0,0]), np.eye(3), 200).transpose()\n",
        "trace1 = go.Scatter3d(\n",
        "    x=x,\n",
        "    y=y,\n",
        "    z=z,\n",
        "    mode='markers',\n",
        "    marker=dict(\n",
        "        size=12,\n",
        "        line=dict(\n",
        "            color='rgba(217, 217, 217, 0.14)',\n",
        "            width=0.5\n",
        "        ),\n",
        "        opacity=0.8\n",
        "    )\n",
        ")\n",
        "\n",
        "x2, y2, z2 = np.random.multivariate_normal(np.array([0,0,0]), np.eye(3), 200).transpose()\n",
        "trace2 = go.Scatter3d(\n",
        "    x=x2,\n",
        "    y=y2,\n",
        "    z=z2,\n",
        "    mode='markers',\n",
        "    marker=dict(\n",
        "        color='rgb(127, 127, 127)',\n",
        "        size=12,\n",
        "        symbol='circle',\n",
        "        line=dict(\n",
        "            color='rgb(204, 204, 204)',\n",
        "            width=1\n",
        "        ),\n",
        "        opacity=0.9\n",
        "    )\n",
        ")\n",
        "data = [trace1, trace2]\n",
        "layout = go.Layout(\n",
        "    margin=dict(\n",
        "        l=0,\n",
        "        r=0,\n",
        "        b=0,\n",
        "        t=0\n",
        "    )\n",
        ")\n",
        "fig = go.Figure(data=data, layout=layout)\n",
        "py.iplot(fig, filename='simple-3d-scatter')"
      ],
      "execution_count": 17,
      "outputs": [
        {
          "output_type": "execute_result",
          "data": {
            "text/html": [
              "<iframe id=\"igraph\" scrolling=\"no\" style=\"border:none;\" seamless=\"seamless\" src=\"https://plot.ly/~albert-h-wong/2.embed\" height=\"525px\" width=\"100%\"></iframe>"
            ],
            "text/plain": [
              "<plotly.tools.PlotlyDisplay object>"
            ]
          },
          "metadata": {
            "tags": []
          },
          "execution_count": 17
        }
      ]
    },
    {
      "metadata": {
        "id": "vCgqxn_wpp6k",
        "colab_type": "code",
        "colab": {}
      },
      "cell_type": "code",
      "source": [
        ""
      ],
      "execution_count": 0,
      "outputs": []
    },
    {
      "metadata": {
        "id": "BT9gdS7viJZa",
        "colab_type": "text"
      },
      "cell_type": "markdown",
      "source": [
        "### Assignment questions\n",
        "\n",
        "After you've worked on some code, answer the following questions in this text block:\n",
        "\n",
        "1.  Describe in a paragraph of text what you did and why, as if you were writing an email to somebody interested but nontechnical.\n",
        "\n",
        "2.  What was the most challenging part of what you did?\n",
        "\n",
        "3.  What was the most interesting thing you learned?\n",
        "\n",
        "4.  What area would you like to explore with more time?\n",
        "\n",
        "\n"
      ]
    },
    {
      "metadata": {
        "id": "mxFi3pTfVt4H",
        "colab_type": "text"
      },
      "cell_type": "markdown",
      "source": [
        "1. I explored a python library called plotly that creates different charts for data visualization. First I went through the library to see what charts were interesting to me. I have been intrigued by how networks behave and wanted to get a sense of how the code looks in order to develop a chart with nodes and edges. Once I found the sample code, I copied it into my notebook to see if it would run. Once I finished trouble shooting the error, I went back to review the code and tried my best to understand what each line of code was doing and the purpose. I had a lot of trouble understanding most of it but noticed that it largely dealt with details of refining the format of the graph. It takes many specific commands to tune all the parameters just for the creation of the chart without even taking into account the insight of the actual data. However it does appear to be reproducible once you can understand how the data should be organized. Next I went through the same process of a 3-D scatter plot. This time I explored more of plotly's functions by trying to edit the chart directly. Through the code, an API is pushed through the Plotly site and onto my notebook which allows me to directly edit data in an easier interface than writing new code to revise it with specific commands. \n",
        "\n",
        "2. The most challenging part was understanding the code. Being new to programming and Python, I am still getting used to recalling some of the syntax and understanding the logic. It was also difficult at first to understand the error and how the library and API connects between the Plotly site and my notebook. \n",
        "\n",
        "3. I learned that there are so many libraries out there that can perform many different functions. It's important at this stage of my learning process to do as much as possible individually to understand the concepts and foundations but the various modeling of data and visualization templates available is very sophisticated and time consuming to re-create. In some instances, once you are signed up to a library, you will be able to access data sets to play around with and also take a look at finished products of graphs that could be applicable in the future. The user interface is also simplified so that non-coders may be able to edit data and the graphs which potentially can be useful for clients and partners that are non-technical or when I am comfortable to start using the shortcuts while understanding the limitations.\n",
        "\n",
        "4. I would like to further explore the connection between datasets and visualization. Certain insights can come to life if is illustrated in the right way. In order to do so, besides having clean data and an applicable model, you have to be able to formulate the data and graph relationship patterns that can bring out the insights. I would like to be able to get a better feel for framing the data in a way that can be most effective to an audience's understanding and also potentially unlock data interdependencies that were previously unnoticed."
      ]
    },
    {
      "metadata": {
        "id": "_XXg2crAipwP",
        "colab_type": "text"
      },
      "cell_type": "markdown",
      "source": [
        "## Stretch goals and resources\n",
        "\n",
        "Following are *optional* things for you to take a look at. Focus on the above assignment first, and make sure to commit and push your changes to GitHub (and since this is the first assignment of the sprint, open a PR as well).\n",
        "\n",
        "- [pandas documentation](https://pandas.pydata.org/pandas-docs/stable/)\n",
        "- [scikit-learn documentation](http://scikit-learn.org/stable/documentation.html)\n",
        "- [matplotlib documentation](https://matplotlib.org/contents.html)\n",
        "- [Awesome Data Science](https://github.com/bulutyazilim/awesome-datascience) - a list of many types of DS resources\n",
        "\n",
        "Stretch goals:\n",
        "\n",
        "- Find and read blogs, walkthroughs, and other examples of people working through cool things with data science - and share with your classmates!\n",
        "- Write a blog post (Medium is a popular place to publish) introducing yourself as somebody learning data science, and talking about what you've learned already and what you're excited to learn more about"
      ]
    }
  ]
}