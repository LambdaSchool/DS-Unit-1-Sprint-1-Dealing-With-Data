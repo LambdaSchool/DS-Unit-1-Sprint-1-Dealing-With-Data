{
  "nbformat": 4,
  "nbformat_minor": 0,
  "metadata": {
    "colab": {
      "name": "LS_DS_111_A_First_Look_at_Data.ipynb",
      "version": "0.3.2",
      "provenance": [],
      "include_colab_link": true
    },
    "kernelspec": {
      "name": "python3",
      "display_name": "Python 3"
    }
  },
  "cells": [
    {
      "cell_type": "markdown",
      "metadata": {
        "id": "view-in-github",
        "colab_type": "text"
      },
      "source": [
        "<a href=\"https://colab.research.google.com/github/maximematerno/DS-Unit-1-Sprint-1-Dealing-With-Data/blob/master/LS_DS_111_A_First_Look_at_Data.ipynb\" target=\"_parent\"><img src=\"https://colab.research.google.com/assets/colab-badge.svg\" alt=\"Open In Colab\"/></a>"
      ]
    },
    {
      "cell_type": "markdown",
      "metadata": {
        "id": "Okfr_uhwhS1X",
        "colab_type": "text"
      },
      "source": [
        "# Lambda School Data Science - A First Look at Data\n",
        "\n"
      ]
    },
    {
      "cell_type": "markdown",
      "metadata": {
        "id": "9dtJETFRhnOG",
        "colab_type": "text"
      },
      "source": [
        "## Lecture - let's explore Python DS libraries and examples!\n",
        "\n",
        "The Python Data Science ecosystem is huge. You've seen some of the big pieces - pandas, scikit-learn, matplotlib. What parts do you want to see more of?"
      ]
    },
    {
      "cell_type": "code",
      "metadata": {
        "id": "WiBkgmPJhmhE",
        "colab_type": "code",
        "outputId": "91f2157c-9092-4a32-f23a-0f27f7035e0c",
        "colab": {
          "base_uri": "https://localhost:8080/",
          "height": 34
        }
      },
      "source": [
        "2+2\n"
      ],
      "execution_count": 0,
      "outputs": [
        {
          "output_type": "execute_result",
          "data": {
            "text/plain": [
              "4"
            ]
          },
          "metadata": {
            "tags": []
          },
          "execution_count": 1
        }
      ]
    },
    {
      "cell_type": "markdown",
      "metadata": {
        "id": "lOqaPds9huME",
        "colab_type": "text"
      },
      "source": [
        "## Assignment - now it's your turn\n",
        "\n",
        "Pick at least one Python DS library, and using documentation/examples reproduce in this notebook something cool. It's OK if you don't fully understand it or get it 100% working, but do put in effort and look things up."
      ]
    },
    {
      "cell_type": "markdown",
      "metadata": {
        "id": "0DP3C8gurpAk",
        "colab_type": "text"
      },
      "source": [
        "##Reinhart-Rogoff replication¶\n"
      ]
    },
    {
      "cell_type": "code",
      "metadata": {
        "id": "TGUS79cOhPWj",
        "colab_type": "code",
        "colab": {}
      },
      "source": [
        "import statsmodels.api as sm\n",
        "import patsy\n",
        "import pandas as pd\n",
        "import numpy as np\n",
        "import matplotlib.pyplot as plt\n",
        "\n",
        "RR = pd.read_csv('https://gist.githubusercontent.com/vincentarelbundock/5409893/raw/a623f2f3bae027a0e51dd01ac5b70d44d909a7b9/RR-processed.csv')"
      ],
      "execution_count": 0,
      "outputs": []
    },
    {
      "cell_type": "markdown",
      "metadata": {
        "id": "ww6VJxhqrPJY",
        "colab_type": "text"
      },
      "source": [
        "### I had a little difficulty to read the csv file"
      ]
    },
    {
      "cell_type": "code",
      "metadata": {
        "id": "9a5ruP-Zctmg",
        "colab_type": "code",
        "colab": {
          "base_uri": "https://localhost:8080/",
          "height": 391
        },
        "outputId": "39f96848-5897-4140-bd78-1e4c88fd1028"
      },
      "source": [
        "RR.groupby('Country').size()\n"
      ],
      "execution_count": 21,
      "outputs": [
        {
          "output_type": "execute_result",
          "data": {
            "text/plain": [
              "Country\n",
              "Australia      64\n",
              "Austria        62\n",
              "Belgium        63\n",
              "Canada         64\n",
              "Denmark        56\n",
              "Finland        64\n",
              "France         54\n",
              "Germany        59\n",
              "Greece         40\n",
              "Ireland        63\n",
              "Italy          59\n",
              "Japan          54\n",
              "Netherlands    53\n",
              "New Zealand    64\n",
              "Norway         64\n",
              "Portugal       58\n",
              "Spain          42\n",
              "Sweden         64\n",
              "UK             64\n",
              "US             64\n",
              "dtype: int64"
            ]
          },
          "metadata": {
            "tags": []
          },
          "execution_count": 21
        }
      ]
    },
    {
      "cell_type": "markdown",
      "metadata": {
        "id": "JyMGXAJ3sFNZ",
        "colab_type": "text"
      },
      "source": [
        "## Bins"
      ]
    },
    {
      "cell_type": "code",
      "metadata": {
        "id": "X-7k7DOTnuaC",
        "colab_type": "code",
        "colab": {}
      },
      "source": [
        "bins = [\"0-30%\",\"30-60%\",\"60-90%\",\"Above 90%\"]\n",
        "RR['dgcat'] = np.digitize(RR.debtgdp, [0,30,60,90,np.inf]) - 1\n",
        "RR.dgcat = [bins[x] for x in RR.dgcat]\n",
        "\n",
        "bins = [\"0-30%\",\"30-60%\",\"60-90%\",\"90-120%\",\"Above 120%\"]\n",
        "RR['dgcat2'] = np.digitize(RR.debtgdp, [0,30,60,90,120,np.inf]) - 1\n",
        "RR.dgcat2 = [bins[x] for x in RR.dgcat2]"
      ],
      "execution_count": 0,
      "outputs": []
    },
    {
      "cell_type": "markdown",
      "metadata": {
        "id": "CBZgm4iUsI6r",
        "colab_type": "text"
      },
      "source": [
        "## Regression analysis"
      ]
    },
    {
      "cell_type": "code",
      "metadata": {
        "id": "_vCWg2k6nunX",
        "colab_type": "code",
        "colab": {
          "base_uri": "https://localhost:8080/",
          "height": 476
        },
        "outputId": "b6b34bff-b2cd-4bd7-d8a5-1e5ba8845c37"
      },
      "source": [
        "y,X = patsy.dmatrices('dRGDP ~ dgcat', data=RR[['dRGDP', 'dgcat']].dropna())\n",
        "\n",
        "print(sm.OLS(y,X).fit().summary())"
      ],
      "execution_count": 28,
      "outputs": [
        {
          "output_type": "stream",
          "text": [
            "                            OLS Regression Results                            \n",
            "==============================================================================\n",
            "Dep. Variable:                  dRGDP   R-squared:                       0.045\n",
            "Model:                            OLS   Adj. R-squared:                  0.042\n",
            "Method:                 Least Squares   F-statistic:                     18.36\n",
            "Date:                Mon, 05 Aug 2019   Prob (F-statistic):           1.22e-11\n",
            "Time:                        21:12:31   Log-Likelihood:                -2927.9\n",
            "No. Observations:                1175   AIC:                             5864.\n",
            "Df Residuals:                    1171   BIC:                             5884.\n",
            "Df Model:                           3                                         \n",
            "Covariance Type:            nonrobust                                         \n",
            "======================================================================================\n",
            "                         coef    std err          t      P>|t|      [0.025      0.975]\n",
            "--------------------------------------------------------------------------------------\n",
            "Intercept              4.1735      0.142     29.413      0.000       3.895       4.452\n",
            "dgcat[T.30-60%]       -1.0814      0.199     -5.429      0.000      -1.472      -0.691\n",
            "dgcat[T.60-90%]       -0.9869      0.251     -3.931      0.000      -1.479      -0.494\n",
            "dgcat[T.Above 90%]    -2.0056      0.313     -6.403      0.000      -2.620      -1.391\n",
            "==============================================================================\n",
            "Omnibus:                      208.322   Durbin-Watson:                   1.385\n",
            "Prob(Omnibus):                  0.000   Jarque-Bera (JB):             1757.480\n",
            "Skew:                           0.558   Prob(JB):                         0.00\n",
            "Kurtosis:                       8.887   Cond. No.                         4.57\n",
            "==============================================================================\n",
            "\n",
            "Warnings:\n",
            "[1] Standard Errors assume that the covariance matrix of the errors is correctly specified.\n"
          ],
          "name": "stdout"
        }
      ]
    },
    {
      "cell_type": "code",
      "metadata": {
        "id": "Mx_8KPmCnuu3",
        "colab_type": "code",
        "colab": {
          "base_uri": "https://localhost:8080/",
          "height": 493
        },
        "outputId": "7b884ba8-6c85-4949-bc12-3ebcbd573f72"
      },
      "source": [
        "y2,X2 = patsy.dmatrices('dRGDP ~ dgcat2', data=RR[['dRGDP', 'dgcat2']].dropna())\n",
        "print(sm.OLS(y2,X2).fit().summary())"
      ],
      "execution_count": 29,
      "outputs": [
        {
          "output_type": "stream",
          "text": [
            "                            OLS Regression Results                            \n",
            "==============================================================================\n",
            "Dep. Variable:                  dRGDP   R-squared:                       0.046\n",
            "Model:                            OLS   Adj. R-squared:                  0.043\n",
            "Method:                 Least Squares   F-statistic:                     14.24\n",
            "Date:                Mon, 05 Aug 2019   Prob (F-statistic):           2.36e-11\n",
            "Time:                        21:13:10   Log-Likelihood:                -2926.9\n",
            "No. Observations:                1175   AIC:                             5864.\n",
            "Df Residuals:                    1170   BIC:                             5889.\n",
            "Df Model:                           4                                         \n",
            "Covariance Type:            nonrobust                                         \n",
            "========================================================================================\n",
            "                           coef    std err          t      P>|t|      [0.025      0.975]\n",
            "----------------------------------------------------------------------------------------\n",
            "Intercept                4.1735      0.142     29.423      0.000       3.895       4.452\n",
            "dgcat2[T.30-60%]        -1.0814      0.199     -5.431      0.000      -1.472      -0.691\n",
            "dgcat2[T.60-90%]        -0.9869      0.251     -3.933      0.000      -1.479      -0.495\n",
            "dgcat2[T.90-120%]       -1.7676      0.359     -4.929      0.000      -2.471      -1.064\n",
            "dgcat2[T.Above 120%]    -2.6120      0.545     -4.796      0.000      -3.680      -1.543\n",
            "==============================================================================\n",
            "Omnibus:                      210.356   Durbin-Watson:                   1.388\n",
            "Prob(Omnibus):                  0.000   Jarque-Bera (JB):             1756.317\n",
            "Skew:                           0.570   Prob(JB):                         0.00\n",
            "Kurtosis:                       8.880   Cond. No.                         7.10\n",
            "==============================================================================\n",
            "\n",
            "Warnings:\n",
            "[1] Standard Errors assume that the covariance matrix of the errors is correctly specified.\n"
          ],
          "name": "stdout"
        }
      ]
    },
    {
      "cell_type": "markdown",
      "metadata": {
        "id": "qW2jDCFms2ik",
        "colab_type": "text"
      },
      "source": [
        "## Table 3 Corrected"
      ]
    },
    {
      "cell_type": "code",
      "metadata": {
        "id": "UrESJtxinuys",
        "colab_type": "code",
        "colab": {
          "base_uri": "https://localhost:8080/",
          "height": 119
        },
        "outputId": "0d37e2d2-40fe-4ae5-83c8-ad8f7e2a98b2"
      },
      "source": [
        "RR.dRGDP.groupby(RR.dgcat).mean()"
      ],
      "execution_count": 30,
      "outputs": [
        {
          "output_type": "execute_result",
          "data": {
            "text/plain": [
              "dgcat\n",
              "0-30%        4.173523\n",
              "30-60%       3.092145\n",
              "60-90%       3.186575\n",
              "Above 90%    2.167972\n",
              "Name: dRGDP, dtype: float64"
            ]
          },
          "metadata": {
            "tags": []
          },
          "execution_count": 30
        }
      ]
    },
    {
      "cell_type": "code",
      "metadata": {
        "id": "mCKKv1_onu1t",
        "colab_type": "code",
        "colab": {
          "base_uri": "https://localhost:8080/",
          "height": 700
        },
        "outputId": "aad5de4e-bdad-4d6c-9fe8-ac5b09e48433"
      },
      "source": [
        "RR.dRGDP.groupby([RR.Country, RR.dgcat]).mean().unstack()"
      ],
      "execution_count": 31,
      "outputs": [
        {
          "output_type": "execute_result",
          "data": {
            "text/html": [
              "<div>\n",
              "<style scoped>\n",
              "    .dataframe tbody tr th:only-of-type {\n",
              "        vertical-align: middle;\n",
              "    }\n",
              "\n",
              "    .dataframe tbody tr th {\n",
              "        vertical-align: top;\n",
              "    }\n",
              "\n",
              "    .dataframe thead th {\n",
              "        text-align: right;\n",
              "    }\n",
              "</style>\n",
              "<table border=\"1\" class=\"dataframe\">\n",
              "  <thead>\n",
              "    <tr style=\"text-align: right;\">\n",
              "      <th>dgcat</th>\n",
              "      <th>0-30%</th>\n",
              "      <th>30-60%</th>\n",
              "      <th>60-90%</th>\n",
              "      <th>Above 90%</th>\n",
              "    </tr>\n",
              "    <tr>\n",
              "      <th>Country</th>\n",
              "      <th></th>\n",
              "      <th></th>\n",
              "      <th></th>\n",
              "      <th></th>\n",
              "    </tr>\n",
              "  </thead>\n",
              "  <tbody>\n",
              "    <tr>\n",
              "      <th>Australia</th>\n",
              "      <td>3.205885</td>\n",
              "      <td>4.947205</td>\n",
              "      <td>4.042175</td>\n",
              "      <td>3.774250</td>\n",
              "    </tr>\n",
              "    <tr>\n",
              "      <th>Austria</th>\n",
              "      <td>5.207527</td>\n",
              "      <td>3.256526</td>\n",
              "      <td>-3.824000</td>\n",
              "      <td>NaN</td>\n",
              "    </tr>\n",
              "    <tr>\n",
              "      <th>Belgium</th>\n",
              "      <td>NaN</td>\n",
              "      <td>4.191655</td>\n",
              "      <td>3.079868</td>\n",
              "      <td>2.566828</td>\n",
              "    </tr>\n",
              "    <tr>\n",
              "      <th>Canada</th>\n",
              "      <td>2.515704</td>\n",
              "      <td>3.525446</td>\n",
              "      <td>4.523574</td>\n",
              "      <td>2.956640</td>\n",
              "    </tr>\n",
              "    <tr>\n",
              "      <th>Denmark</th>\n",
              "      <td>3.518584</td>\n",
              "      <td>1.700034</td>\n",
              "      <td>2.391147</td>\n",
              "      <td>NaN</td>\n",
              "    </tr>\n",
              "    <tr>\n",
              "      <th>Finland</th>\n",
              "      <td>3.817029</td>\n",
              "      <td>2.418535</td>\n",
              "      <td>5.488887</td>\n",
              "      <td>NaN</td>\n",
              "    </tr>\n",
              "    <tr>\n",
              "      <th>France</th>\n",
              "      <td>5.058476</td>\n",
              "      <td>2.616159</td>\n",
              "      <td>3.019631</td>\n",
              "      <td>NaN</td>\n",
              "    </tr>\n",
              "    <tr>\n",
              "      <th>Germany</th>\n",
              "      <td>3.873759</td>\n",
              "      <td>0.875803</td>\n",
              "      <td>NaN</td>\n",
              "      <td>NaN</td>\n",
              "    </tr>\n",
              "    <tr>\n",
              "      <th>Greece</th>\n",
              "      <td>4.001282</td>\n",
              "      <td>0.340200</td>\n",
              "      <td>2.696000</td>\n",
              "      <td>2.910632</td>\n",
              "    </tr>\n",
              "    <tr>\n",
              "      <th>Ireland</th>\n",
              "      <td>4.209251</td>\n",
              "      <td>4.452167</td>\n",
              "      <td>3.950139</td>\n",
              "      <td>2.428571</td>\n",
              "    </tr>\n",
              "    <tr>\n",
              "      <th>Italy</th>\n",
              "      <td>5.352632</td>\n",
              "      <td>2.054284</td>\n",
              "      <td>1.771529</td>\n",
              "      <td>1.028900</td>\n",
              "    </tr>\n",
              "    <tr>\n",
              "      <th>Japan</th>\n",
              "      <td>7.331001</td>\n",
              "      <td>3.957143</td>\n",
              "      <td>1.008411</td>\n",
              "      <td>0.687258</td>\n",
              "    </tr>\n",
              "    <tr>\n",
              "      <th>Netherlands</th>\n",
              "      <td>4.082614</td>\n",
              "      <td>2.620772</td>\n",
              "      <td>1.070436</td>\n",
              "      <td>NaN</td>\n",
              "    </tr>\n",
              "    <tr>\n",
              "      <th>New Zealand</th>\n",
              "      <td>2.465556</td>\n",
              "      <td>2.889572</td>\n",
              "      <td>3.883683</td>\n",
              "      <td>2.574727</td>\n",
              "    </tr>\n",
              "    <tr>\n",
              "      <th>Norway</th>\n",
              "      <td>3.400122</td>\n",
              "      <td>5.108289</td>\n",
              "      <td>10.201270</td>\n",
              "      <td>NaN</td>\n",
              "    </tr>\n",
              "    <tr>\n",
              "      <th>Portugal</th>\n",
              "      <td>4.451419</td>\n",
              "      <td>3.549482</td>\n",
              "      <td>1.893899</td>\n",
              "      <td>NaN</td>\n",
              "    </tr>\n",
              "    <tr>\n",
              "      <th>Spain</th>\n",
              "      <td>1.549332</td>\n",
              "      <td>3.398669</td>\n",
              "      <td>4.156250</td>\n",
              "      <td>NaN</td>\n",
              "    </tr>\n",
              "    <tr>\n",
              "      <th>Sweden</th>\n",
              "      <td>3.567385</td>\n",
              "      <td>2.932237</td>\n",
              "      <td>2.665824</td>\n",
              "      <td>NaN</td>\n",
              "    </tr>\n",
              "    <tr>\n",
              "      <th>UK</th>\n",
              "      <td>NaN</td>\n",
              "      <td>2.231213</td>\n",
              "      <td>2.522133</td>\n",
              "      <td>2.399096</td>\n",
              "    </tr>\n",
              "    <tr>\n",
              "      <th>US</th>\n",
              "      <td>NaN</td>\n",
              "      <td>3.370208</td>\n",
              "      <td>3.264068</td>\n",
              "      <td>-1.988893</td>\n",
              "    </tr>\n",
              "  </tbody>\n",
              "</table>\n",
              "</div>"
            ],
            "text/plain": [
              "dgcat           0-30%    30-60%     60-90%  Above 90%\n",
              "Country                                              \n",
              "Australia    3.205885  4.947205   4.042175   3.774250\n",
              "Austria      5.207527  3.256526  -3.824000        NaN\n",
              "Belgium           NaN  4.191655   3.079868   2.566828\n",
              "Canada       2.515704  3.525446   4.523574   2.956640\n",
              "Denmark      3.518584  1.700034   2.391147        NaN\n",
              "Finland      3.817029  2.418535   5.488887        NaN\n",
              "France       5.058476  2.616159   3.019631        NaN\n",
              "Germany      3.873759  0.875803        NaN        NaN\n",
              "Greece       4.001282  0.340200   2.696000   2.910632\n",
              "Ireland      4.209251  4.452167   3.950139   2.428571\n",
              "Italy        5.352632  2.054284   1.771529   1.028900\n",
              "Japan        7.331001  3.957143   1.008411   0.687258\n",
              "Netherlands  4.082614  2.620772   1.070436        NaN\n",
              "New Zealand  2.465556  2.889572   3.883683   2.574727\n",
              "Norway       3.400122  5.108289  10.201270        NaN\n",
              "Portugal     4.451419  3.549482   1.893899        NaN\n",
              "Spain        1.549332  3.398669   4.156250        NaN\n",
              "Sweden       3.567385  2.932237   2.665824        NaN\n",
              "UK                NaN  2.231213   2.522133   2.399096\n",
              "US                NaN  3.370208   3.264068  -1.988893"
            ]
          },
          "metadata": {
            "tags": []
          },
          "execution_count": 31
        }
      ]
    },
    {
      "cell_type": "code",
      "metadata": {
        "id": "PlegwBVnnu5y",
        "colab_type": "code",
        "colab": {
          "base_uri": "https://localhost:8080/",
          "height": 136
        },
        "outputId": "af6a61bf-29b7-4957-a271-8362a491e95a"
      },
      "source": [
        "RR.dRGDP.groupby(RR.dgcat2).mean()"
      ],
      "execution_count": 32,
      "outputs": [
        {
          "output_type": "execute_result",
          "data": {
            "text/plain": [
              "dgcat2\n",
              "0-30%         4.173523\n",
              "30-60%        3.092145\n",
              "60-90%        3.186575\n",
              "90-120%       2.405934\n",
              "Above 120%    1.561553\n",
              "Name: dRGDP, dtype: float64"
            ]
          },
          "metadata": {
            "tags": []
          },
          "execution_count": 32
        }
      ]
    },
    {
      "cell_type": "code",
      "metadata": {
        "id": "YjR6bFUBojQn",
        "colab_type": "code",
        "colab": {
          "base_uri": "https://localhost:8080/",
          "height": 700
        },
        "outputId": "fe50604c-fe91-4845-b015-a64c0aead2a6"
      },
      "source": [
        "RR.dRGDP.groupby([RR.Country, RR.dgcat2]).mean().unstack()"
      ],
      "execution_count": 33,
      "outputs": [
        {
          "output_type": "execute_result",
          "data": {
            "text/html": [
              "<div>\n",
              "<style scoped>\n",
              "    .dataframe tbody tr th:only-of-type {\n",
              "        vertical-align: middle;\n",
              "    }\n",
              "\n",
              "    .dataframe tbody tr th {\n",
              "        vertical-align: top;\n",
              "    }\n",
              "\n",
              "    .dataframe thead th {\n",
              "        text-align: right;\n",
              "    }\n",
              "</style>\n",
              "<table border=\"1\" class=\"dataframe\">\n",
              "  <thead>\n",
              "    <tr style=\"text-align: right;\">\n",
              "      <th>dgcat2</th>\n",
              "      <th>0-30%</th>\n",
              "      <th>30-60%</th>\n",
              "      <th>60-90%</th>\n",
              "      <th>90-120%</th>\n",
              "      <th>Above 120%</th>\n",
              "    </tr>\n",
              "    <tr>\n",
              "      <th>Country</th>\n",
              "      <th></th>\n",
              "      <th></th>\n",
              "      <th></th>\n",
              "      <th></th>\n",
              "      <th></th>\n",
              "    </tr>\n",
              "  </thead>\n",
              "  <tbody>\n",
              "    <tr>\n",
              "      <th>Australia</th>\n",
              "      <td>3.205885</td>\n",
              "      <td>4.947205</td>\n",
              "      <td>4.042175</td>\n",
              "      <td>6.920201</td>\n",
              "      <td>2.987763</td>\n",
              "    </tr>\n",
              "    <tr>\n",
              "      <th>Austria</th>\n",
              "      <td>5.207527</td>\n",
              "      <td>3.256526</td>\n",
              "      <td>-3.824000</td>\n",
              "      <td>NaN</td>\n",
              "      <td>NaN</td>\n",
              "    </tr>\n",
              "    <tr>\n",
              "      <th>Belgium</th>\n",
              "      <td>NaN</td>\n",
              "      <td>4.191655</td>\n",
              "      <td>3.079868</td>\n",
              "      <td>2.702629</td>\n",
              "      <td>-0.692378</td>\n",
              "    </tr>\n",
              "    <tr>\n",
              "      <th>Canada</th>\n",
              "      <td>2.515704</td>\n",
              "      <td>3.525446</td>\n",
              "      <td>4.523574</td>\n",
              "      <td>4.544839</td>\n",
              "      <td>0.574341</td>\n",
              "    </tr>\n",
              "    <tr>\n",
              "      <th>Denmark</th>\n",
              "      <td>3.518584</td>\n",
              "      <td>1.700034</td>\n",
              "      <td>2.391147</td>\n",
              "      <td>NaN</td>\n",
              "      <td>NaN</td>\n",
              "    </tr>\n",
              "    <tr>\n",
              "      <th>Finland</th>\n",
              "      <td>3.817029</td>\n",
              "      <td>2.418535</td>\n",
              "      <td>5.488887</td>\n",
              "      <td>NaN</td>\n",
              "      <td>NaN</td>\n",
              "    </tr>\n",
              "    <tr>\n",
              "      <th>France</th>\n",
              "      <td>5.058476</td>\n",
              "      <td>2.616159</td>\n",
              "      <td>3.019631</td>\n",
              "      <td>NaN</td>\n",
              "      <td>NaN</td>\n",
              "    </tr>\n",
              "    <tr>\n",
              "      <th>Germany</th>\n",
              "      <td>3.873759</td>\n",
              "      <td>0.875803</td>\n",
              "      <td>NaN</td>\n",
              "      <td>NaN</td>\n",
              "      <td>NaN</td>\n",
              "    </tr>\n",
              "    <tr>\n",
              "      <th>Greece</th>\n",
              "      <td>4.001282</td>\n",
              "      <td>0.340200</td>\n",
              "      <td>2.696000</td>\n",
              "      <td>2.910632</td>\n",
              "      <td>NaN</td>\n",
              "    </tr>\n",
              "    <tr>\n",
              "      <th>Ireland</th>\n",
              "      <td>4.209251</td>\n",
              "      <td>4.452167</td>\n",
              "      <td>3.950139</td>\n",
              "      <td>2.428571</td>\n",
              "      <td>NaN</td>\n",
              "    </tr>\n",
              "    <tr>\n",
              "      <th>Italy</th>\n",
              "      <td>5.352632</td>\n",
              "      <td>2.054284</td>\n",
              "      <td>1.771529</td>\n",
              "      <td>1.028900</td>\n",
              "      <td>NaN</td>\n",
              "    </tr>\n",
              "    <tr>\n",
              "      <th>Japan</th>\n",
              "      <td>7.331001</td>\n",
              "      <td>3.957143</td>\n",
              "      <td>1.008411</td>\n",
              "      <td>1.359564</td>\n",
              "      <td>0.537857</td>\n",
              "    </tr>\n",
              "    <tr>\n",
              "      <th>Netherlands</th>\n",
              "      <td>4.082614</td>\n",
              "      <td>2.620772</td>\n",
              "      <td>1.070436</td>\n",
              "      <td>NaN</td>\n",
              "      <td>NaN</td>\n",
              "    </tr>\n",
              "    <tr>\n",
              "      <th>New Zealand</th>\n",
              "      <td>2.465556</td>\n",
              "      <td>2.889572</td>\n",
              "      <td>3.883683</td>\n",
              "      <td>-2.256588</td>\n",
              "      <td>9.821699</td>\n",
              "    </tr>\n",
              "    <tr>\n",
              "      <th>Norway</th>\n",
              "      <td>3.400122</td>\n",
              "      <td>5.108289</td>\n",
              "      <td>10.201270</td>\n",
              "      <td>NaN</td>\n",
              "      <td>NaN</td>\n",
              "    </tr>\n",
              "    <tr>\n",
              "      <th>Portugal</th>\n",
              "      <td>4.451419</td>\n",
              "      <td>3.549482</td>\n",
              "      <td>1.893899</td>\n",
              "      <td>NaN</td>\n",
              "      <td>NaN</td>\n",
              "    </tr>\n",
              "    <tr>\n",
              "      <th>Spain</th>\n",
              "      <td>1.549332</td>\n",
              "      <td>3.398669</td>\n",
              "      <td>4.156250</td>\n",
              "      <td>NaN</td>\n",
              "      <td>NaN</td>\n",
              "    </tr>\n",
              "    <tr>\n",
              "      <th>Sweden</th>\n",
              "      <td>3.567385</td>\n",
              "      <td>2.932237</td>\n",
              "      <td>2.665824</td>\n",
              "      <td>NaN</td>\n",
              "      <td>NaN</td>\n",
              "    </tr>\n",
              "    <tr>\n",
              "      <th>UK</th>\n",
              "      <td>NaN</td>\n",
              "      <td>2.231213</td>\n",
              "      <td>2.522133</td>\n",
              "      <td>3.303428</td>\n",
              "      <td>1.871568</td>\n",
              "    </tr>\n",
              "    <tr>\n",
              "      <th>US</th>\n",
              "      <td>NaN</td>\n",
              "      <td>3.370208</td>\n",
              "      <td>3.264068</td>\n",
              "      <td>0.995529</td>\n",
              "      <td>-10.942159</td>\n",
              "    </tr>\n",
              "  </tbody>\n",
              "</table>\n",
              "</div>"
            ],
            "text/plain": [
              "dgcat2          0-30%    30-60%     60-90%   90-120%  Above 120%\n",
              "Country                                                         \n",
              "Australia    3.205885  4.947205   4.042175  6.920201    2.987763\n",
              "Austria      5.207527  3.256526  -3.824000       NaN         NaN\n",
              "Belgium           NaN  4.191655   3.079868  2.702629   -0.692378\n",
              "Canada       2.515704  3.525446   4.523574  4.544839    0.574341\n",
              "Denmark      3.518584  1.700034   2.391147       NaN         NaN\n",
              "Finland      3.817029  2.418535   5.488887       NaN         NaN\n",
              "France       5.058476  2.616159   3.019631       NaN         NaN\n",
              "Germany      3.873759  0.875803        NaN       NaN         NaN\n",
              "Greece       4.001282  0.340200   2.696000  2.910632         NaN\n",
              "Ireland      4.209251  4.452167   3.950139  2.428571         NaN\n",
              "Italy        5.352632  2.054284   1.771529  1.028900         NaN\n",
              "Japan        7.331001  3.957143   1.008411  1.359564    0.537857\n",
              "Netherlands  4.082614  2.620772   1.070436       NaN         NaN\n",
              "New Zealand  2.465556  2.889572   3.883683 -2.256588    9.821699\n",
              "Norway       3.400122  5.108289  10.201270       NaN         NaN\n",
              "Portugal     4.451419  3.549482   1.893899       NaN         NaN\n",
              "Spain        1.549332  3.398669   4.156250       NaN         NaN\n",
              "Sweden       3.567385  2.932237   2.665824       NaN         NaN\n",
              "UK                NaN  2.231213   2.522133  3.303428    1.871568\n",
              "US                NaN  3.370208   3.264068  0.995529  -10.942159"
            ]
          },
          "metadata": {
            "tags": []
          },
          "execution_count": 33
        }
      ]
    },
    {
      "cell_type": "markdown",
      "metadata": {
        "id": "uXJFIMs1tD3h",
        "colab_type": "text"
      },
      "source": [
        "## Selective treatment of early years"
      ]
    },
    {
      "cell_type": "code",
      "metadata": {
        "id": "sQ-DFuL7ojUz",
        "colab_type": "code",
        "colab": {
          "base_uri": "https://localhost:8080/",
          "height": 119
        },
        "outputId": "17bb7810-5a2f-4d2a-da00-f4c81b891ce0"
      },
      "source": [
        "idx = (RR.Country == 'New Zealand') & (RR.Year < 1950) | (RR.Country == 'Australia') & (RR.Year < 1951) | (RR.Country == 'Canada') & (RR.Year < 1951) \n",
        "RR_selective = RR[idx == False]\n",
        "RR_selective.dRGDP.groupby(RR_selective.dgcat).mean()"
      ],
      "execution_count": 34,
      "outputs": [
        {
          "output_type": "execute_result",
          "data": {
            "text/plain": [
              "dgcat\n",
              "0-30%        4.173523\n",
              "30-60%       3.092145\n",
              "60-90%       3.186575\n",
              "Above 90%    1.919934\n",
              "Name: dRGDP, dtype: float64"
            ]
          },
          "metadata": {
            "tags": []
          },
          "execution_count": 34
        }
      ]
    },
    {
      "cell_type": "markdown",
      "metadata": {
        "id": "WVlGP-UptWs1",
        "colab_type": "text"
      },
      "source": [
        "## Equal weights\n",
        "\n",
        "## Table 3 Weights,Exclusion"
      ]
    },
    {
      "cell_type": "code",
      "metadata": {
        "id": "t0X3bjDdnu8O",
        "colab_type": "code",
        "colab": {
          "base_uri": "https://localhost:8080/",
          "height": 476
        },
        "outputId": "4bac273a-1393-4e0e-9522-6291056eb76b"
      },
      "source": [
        "RR_selective.mean()"
      ],
      "execution_count": 35,
      "outputs": [
        {
          "output_type": "execute_result",
          "data": {
            "text/plain": [
              "Unnamed: 0    5.916408e+02\n",
              "Year          1.979633e+03\n",
              "Debt          1.621458e+07\n",
              "RGDP          2.369173e+05\n",
              "GDP           1.957611e+05\n",
              "dRGDP         3.408270e+00\n",
              "GDPI          5.034180e+01\n",
              "GDP1          1.470725e+07\n",
              "GDP2          1.824865e+07\n",
              "RGDP1         1.425590e+07\n",
              "RGDP2         3.072470e+07\n",
              "GDPI1         5.589542e+02\n",
              "GDPI2         8.690705e+01\n",
              "Infl          5.632643e+00\n",
              "Debt1         5.625405e+05\n",
              "Debt2         1.050730e+05\n",
              "Debtalt       1.006665e+07\n",
              "GDP2alt       4.450790e+05\n",
              "GDPalt        2.079659e+06\n",
              "RGDP2alt      1.033331e+05\n",
              "debtgdp       4.530375e+01\n",
              "GDP3          7.689113e+04\n",
              "GNI           5.156239e+08\n",
              "lRGDP         2.351587e+05\n",
              "lRGDP1        1.405853e+07\n",
              "lRGDP2        3.047113e+07\n",
              "dtype: float64"
            ]
          },
          "metadata": {
            "tags": []
          },
          "execution_count": 35
        }
      ]
    },
    {
      "cell_type": "markdown",
      "metadata": {
        "id": "BT9gdS7viJZa",
        "colab_type": "text"
      },
      "source": [
        "### Assignment questions\n",
        "\n",
        "After you've worked on some code, answer the following questions in this text block:\n",
        "\n",
        "1.  Describe in a paragraph of text what you did and why, as if you were writing an email to somebody interested but nontechnical.\n",
        "\n",
        "2.  What was the most challenging part of what you did?\n",
        "\n",
        "3.  What was the most interesting thing you learned?\n",
        "\n",
        "4.  What area would you like to explore with more time?\n",
        "\n",
        "\n"
      ]
    },
    {
      "cell_type": "markdown",
      "metadata": {
        "id": "hZ1JdsYDtqBE",
        "colab_type": "text"
      },
      "source": [
        "1. I imported  the librairy and the csv file  and  I wrote the code .\n",
        "\n",
        "2. the most challenging was to find a ways to use the csv file and and parenthese for the print statement \n",
        "\n",
        "3. I learned how to analyse the data deeper with Regression Analysis and more\n",
        "\n",
        "4. I would like to explore some Financial analysis\n",
        "\n",
        "\n",
        "\n"
      ]
    },
    {
      "cell_type": "markdown",
      "metadata": {
        "id": "_XXg2crAipwP",
        "colab_type": "text"
      },
      "source": [
        "## Stretch goals and resources\n",
        "\n",
        "Following are *optional* things for you to take a look at. Focus on the above assignment first, and make sure to commit and push your changes to GitHub (and since this is the first assignment of the sprint, open a PR as well).\n",
        "\n",
        "- [pandas documentation](https://pandas.pydata.org/pandas-docs/stable/)\n",
        "- [scikit-learn documentation](http://scikit-learn.org/stable/documentation.html)\n",
        "- [matplotlib documentation](https://matplotlib.org/contents.html)\n",
        "- [Awesome Data Science](https://github.com/bulutyazilim/awesome-datascience) - a list of many types of DS resources\n",
        "\n",
        "Stretch goals:\n",
        "\n",
        "- Find and read blogs, walkthroughs, and other examples of people working through cool things with data science - and share with your classmates!\n",
        "- Write a blog post (Medium is a popular place to publish) introducing yourself as somebody learning data science, and talking about what you've learned already and what you're excited to learn more about."
      ]
    }
  ]
}