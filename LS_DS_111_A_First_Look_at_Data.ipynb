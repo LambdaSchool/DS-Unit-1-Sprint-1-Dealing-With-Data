{
  "nbformat": 4,
  "nbformat_minor": 0,
  "metadata": {
    "colab": {
      "name": "Copy of LS_DS_111_A_First_Look_at_Data.ipynb",
      "version": "0.3.2",
      "provenance": [],
      "include_colab_link": true
    },
    "kernelspec": {
      "name": "python3",
      "display_name": "Python 3"
    }
  },
  "cells": [
    {
      "cell_type": "markdown",
      "metadata": {
        "id": "view-in-github",
        "colab_type": "text"
      },
      "source": [
        "<a href=\"https://colab.research.google.com/github/bdelanghe/DS-Unit-1-Sprint-1-Dealing-With-Data/blob/master/LS_DS_111_A_First_Look_at_Data.ipynb\" target=\"_parent\"><img src=\"https://colab.research.google.com/assets/colab-badge.svg\" alt=\"Open In Colab\"/></a>"
      ]
    },
    {
      "cell_type": "markdown",
      "metadata": {
        "id": "Okfr_uhwhS1X",
        "colab_type": "text"
      },
      "source": [
        "# Lambda School Data Science - A First Look at Data\n",
        "\n"
      ]
    },
    {
      "cell_type": "markdown",
      "metadata": {
        "id": "9dtJETFRhnOG",
        "colab_type": "text"
      },
      "source": [
        "## Lecture - let's explore Python DS libraries and examples!\n",
        "\n",
        "The Python Data Science ecosystem is huge. You've seen some of the big pieces - pandas, scikit-learn, matplotlib. What parts do you want to see more of?"
      ]
    },
    {
      "cell_type": "code",
      "metadata": {
        "id": "WiBkgmPJhmhE",
        "colab_type": "code",
        "colab": {}
      },
      "source": [
        "# TODO - we'll be doing this live, taking requests\n",
        "# and reproducing what it is to look up and learn things\n",
        "import this as that\n",
        "that??"
      ],
      "execution_count": 0,
      "outputs": []
    },
    {
      "cell_type": "code",
      "metadata": {
        "id": "bK43lhA1xVKc",
        "colab_type": "code",
        "outputId": "e6d20c99-7445-43cc-f233-d985ff78d016",
        "colab": {
          "base_uri": "https://localhost:8080/",
          "height": 374
        }
      },
      "source": [
        "s = \"\"\"Gur Mra bs Clguba, ol Gvz Crgref\n",
        "\n",
        "Ornhgvshy vf orggre guna htyl.\n",
        "Rkcyvpvg vf orggre guna vzcyvpvg.\n",
        "Fvzcyr vf orggre guna pbzcyrk.\n",
        "Pbzcyrk vf orggre guna pbzcyvpngrq.\n",
        "Syng vf orggre guna arfgrq.\n",
        "Fcnefr vf orggre guna qrafr.\n",
        "Ernqnovyvgl pbhagf.\n",
        "Fcrpvny pnfrf nera'g fcrpvny rabhtu gb oernx gur ehyrf.\n",
        "Nygubhtu cenpgvpnyvgl orngf chevgl.\n",
        "Reebef fubhyq arire cnff fvyragyl.\n",
        "Hayrff rkcyvpvgyl fvyraprq.\n",
        "Va gur snpr bs nzovthvgl, ershfr gur grzcgngvba gb thrff.\n",
        "Gurer fubhyq or bar-- naq cersrenoyl bayl bar --boivbhf jnl gb qb vg.\n",
        "Nygubhtu gung jnl znl abg or boivbhf ng svefg hayrff lbh'er Qhgpu.\n",
        "Abj vf orggre guna arire.\n",
        "Nygubhtu arire vf bsgra orggre guna *evtug* abj.\n",
        "Vs gur vzcyrzragngvba vf uneq gb rkcynva, vg'f n onq vqrn.\n",
        "Vs gur vzcyrzragngvba vf rnfl gb rkcynva, vg znl or n tbbq vqrn.\n",
        "Anzrfcnprf ner bar ubaxvat terng vqrn -- yrg'f qb zber bs gubfr!\"\"\"\n",
        "\n",
        "d = {}\n",
        "for c in (65, 97):\n",
        "    for i in range(26):\n",
        "        d[chr(i+c)] = chr((i+13) % 26 + c)\n",
        "\n",
        "print(\"\".join([d.get(c, c) for c in s]))"
      ],
      "execution_count": 0,
      "outputs": [
        {
          "output_type": "stream",
          "text": [
            "The Zen of Python, by Tim Peters\n",
            "\n",
            "Beautiful is better than ugly.\n",
            "Explicit is better than implicit.\n",
            "Simple is better than complex.\n",
            "Complex is better than complicated.\n",
            "Flat is better than nested.\n",
            "Sparse is better than dense.\n",
            "Readability counts.\n",
            "Special cases aren't special enough to break the rules.\n",
            "Although practicality beats purity.\n",
            "Errors should never pass silently.\n",
            "Unless explicitly silenced.\n",
            "In the face of ambiguity, refuse the temptation to guess.\n",
            "There should be one-- and preferably only one --obvious way to do it.\n",
            "Although that way may not be obvious at first unless you're Dutch.\n",
            "Now is better than never.\n",
            "Although never is often better than *right* now.\n",
            "If the implementation is hard to explain, it's a bad idea.\n",
            "If the implementation is easy to explain, it may be a good idea.\n",
            "Namespaces are one honking great idea -- let's do more of those!\n"
          ],
          "name": "stdout"
        }
      ]
    },
    {
      "cell_type": "markdown",
      "metadata": {
        "id": "lOqaPds9huME",
        "colab_type": "text"
      },
      "source": [
        "## Assignment - now it's your turn\n",
        "\n",
        "Pick at least one Python DS library, and using documentation/examples reproduce in this notebook something cool. It's OK if you don't fully understand it or get it 100% working, but do put in effort and look things up."
      ]
    },
    {
      "cell_type": "markdown",
      "metadata": {
        "id": "Eq9HTGIspk_H",
        "colab_type": "text"
      },
      "source": [
        "Grow Mart, Plant Depot, and Trees’R’Us are gardening stores in a city. Grow Mart and Plant Depot were both founded in 1973, and Trees’R’Us was founded in 1985. Grow Mart has annual revenue of $265k and expenses of $183k, Plant Depot has $302k revenue and $240k expenses, and Trees’R’Us has $123k revenue and $130k expenses."
      ]
    },
    {
      "cell_type": "code",
      "metadata": {
        "id": "TGUS79cOhPWj",
        "colab_type": "code",
        "outputId": "61ed370a-8f62-43a3-bdcb-35e74e051a28",
        "colab": {
          "base_uri": "https://localhost:8080/",
          "height": 221
        }
      },
      "source": [
        "# TODO - your code here\n",
        "# Use what we did live in lecture as an example\n",
        "stores = {\n",
        "    'Grow Mart': {\n",
        "        'founded': 1973,\n",
        "        'revenue': 265,\n",
        "        'expense': 183\n",
        "    }, \n",
        "    'Plant Depot': {\n",
        "        'founded': 1973,\n",
        "        'revenue': 302,\n",
        "        'expense': 240\n",
        "    },\n",
        "    \"Trees'R'us\": {\n",
        "        'founded': 1985,\n",
        "        'revenue': 123,\n",
        "        'expense': 130\n",
        "    }\n",
        "}\n",
        "\n",
        "\n",
        "for s in stores:\n",
        "    stores[s]['is_profitable'] = bool(\n",
        "        stores[s]['revenue'] - stores[s]['expense']\n",
        "    )\n",
        "    \n",
        "stores"
      ],
      "execution_count": 0,
      "outputs": [
        {
          "output_type": "execute_result",
          "data": {
            "text/plain": [
              "{'Grow Mart': {'expense': 183,\n",
              "  'founded': 1973,\n",
              "  'is_profitable': True,\n",
              "  'revenue': 265},\n",
              " 'Plant Depot': {'expense': 240,\n",
              "  'founded': 1973,\n",
              "  'is_profitable': True,\n",
              "  'revenue': 302},\n",
              " \"Trees'R'us\": {'expense': 130,\n",
              "  'founded': 1985,\n",
              "  'is_profitable': True,\n",
              "  'revenue': 123}}"
            ]
          },
          "metadata": {
            "tags": []
          },
          "execution_count": 18
        }
      ]
    },
    {
      "cell_type": "markdown",
      "metadata": {
        "id": "G6x2LecSpeXI",
        "colab_type": "text"
      },
      "source": [
        ""
      ]
    },
    {
      "cell_type": "markdown",
      "metadata": {
        "id": "BT9gdS7viJZa",
        "colab_type": "text"
      },
      "source": [
        "### Assignment questions\n",
        "\n",
        "After you've worked on some code, answer the following questions in this text block:\n",
        "\n",
        "1.  Describe in a paragraph of text what you did and why, as if you were writing an email to somebody interested but nontechnical.\n",
        "\n",
        "2.  What was the most challenging part of what you did?\n",
        "\n",
        "3.  What was the most interesting thing you learned?\n",
        "\n",
        "4.  What area would you like to explore with more time?\n",
        "\n",
        "\n"
      ]
    },
    {
      "cell_type": "markdown",
      "metadata": {
        "id": "Cr0JKe1d0GHI",
        "colab_type": "text"
      },
      "source": [
        "1. We are looking at the 3 stores with the features _founded, expense, and revenue._ We are going to compare expense and revenue to see if a store is profitable.\n",
        "2. I found out that I can use bool rather than an if funtion to change the values to to `false` and `true`\n",
        "3. I like data pipeline\n",
        "4. Visualization"
      ]
    },
    {
      "cell_type": "markdown",
      "metadata": {
        "id": "_XXg2crAipwP",
        "colab_type": "text"
      },
      "source": [
        "## Stretch goals and resources\n",
        "\n",
        "Following are *optional* things for you to take a look at. Focus on the above assignment first, and make sure to commit and push your changes to GitHub (and since this is the first assignment of the sprint, open a PR as well).\n",
        "\n",
        "- [pandas documentation](https://pandas.pydata.org/pandas-docs/stable/)\n",
        "- [scikit-learn documentation](http://scikit-learn.org/stable/documentation.html)\n",
        "- [matplotlib documentation](https://matplotlib.org/contents.html)\n",
        "- [Awesome Data Science](https://github.com/bulutyazilim/awesome-datascience) - a list of many types of DS resources\n",
        "\n",
        "Stretch goals:\n",
        "\n",
        "- Find and read blogs, walkthroughs, and other examples of people working through cool things with data science - and share with your classmates!\n",
        "- Write a blog post (Medium is a popular place to publish) introducing yourself as somebody learning data science, and talking about what you've learned already and what you're excited to learn more about."
      ]
    }
  ]
}