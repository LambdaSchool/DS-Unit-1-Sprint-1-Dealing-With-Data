{
  "nbformat": 4,
  "nbformat_minor": 0,
  "metadata": {
    "colab": {
      "name": "LS DS 111 - A First Look at Data.ipynb",
      "version": "0.3.2",
      "provenance": [],
      "include_colab_link": true
    },
    "kernelspec": {
      "name": "python3",
      "display_name": "Python 3"
    }
  },
  "cells": [
    {
      "cell_type": "markdown",
      "metadata": {
        "id": "view-in-github",
        "colab_type": "text"
      },
      "source": [
        "<a href=\"https://colab.research.google.com/github/manjulamishra/DS-Sprint-01-Dealing-With-Data/blob/master/LS_DS_111_A_First_Look_at_Data.ipynb\" target=\"_parent\"><img src=\"https://colab.research.google.com/assets/colab-badge.svg\" alt=\"Open In Colab\"/></a>"
      ]
    },
    {
      "metadata": {
        "id": "Okfr_uhwhS1X",
        "colab_type": "text"
      },
      "cell_type": "markdown",
      "source": [
        "# Lambda School Data Science - A First Look at Data\n",
        "\n"
      ]
    },
    {
      "metadata": {
        "id": "9dtJETFRhnOG",
        "colab_type": "text"
      },
      "cell_type": "markdown",
      "source": [
        "## Lecture - let's explore Python DS libraries and examples!\n",
        "\n",
        "The Python Data Science ecosystem is huge. You've seen some of the big pieces - pandas, scikit-learn, matplotlib. What parts do you want to see more of?"
      ]
    },
    {
      "metadata": {
        "id": "WiBkgmPJhmhE",
        "colab_type": "code",
        "colab": {
          "base_uri": "https://localhost:8080/",
          "height": 34
        },
        "outputId": "b1452512-5278-4091-d985-a6c2b05ebd28"
      },
      "cell_type": "code",
      "source": [
        "# TODO - we'll be doing this live, taking requests\n",
        "# and reproducing what it is to look up and learn things\n",
        "2+2 "
      ],
      "execution_count": 1,
      "outputs": [
        {
          "output_type": "execute_result",
          "data": {
            "text/plain": [
              "4"
            ]
          },
          "metadata": {
            "tags": []
          },
          "execution_count": 1
        }
      ]
    },
    {
      "metadata": {
        "id": "lOqaPds9huME",
        "colab_type": "text"
      },
      "cell_type": "markdown",
      "source": [
        "## Assignment - now it's your turn\n",
        "\n",
        "Pick at least one Python DS library, and using documentation/examples reproduce in this notebook something cool. It's OK if you don't fully understand it or get it 100% working, but do put in effort and look things up."
      ]
    },
    {
      "metadata": {
        "id": "Z9wYJzILi4o4",
        "colab_type": "text"
      },
      "cell_type": "markdown",
      "source": [
        "#Library numpy and matlpotlib\n",
        "I would like to explore matplotlib and reproduce the example I saw on their website. "
      ]
    },
    {
      "metadata": {
        "id": "SmRKgy-R3ABz",
        "colab_type": "code",
        "colab": {}
      },
      "cell_type": "code",
      "source": [
        "import numpy as np\n",
        "import matplotlib.pyplot as plt\n"
      ],
      "execution_count": 0,
      "outputs": []
    },
    {
      "metadata": {
        "id": "TGUS79cOhPWj",
        "colab_type": "code",
        "colab": {
          "base_uri": "https://localhost:8080/",
          "height": 576
        },
        "outputId": "f6152544-2108-4d88-bcec-27e8df146726"
      },
      "cell_type": "code",
      "source": [
        "# TODO - your code here\n",
        "# Use what we did live in lecture as an example\n",
        "#import munpy and matplotlib\n",
        "import numpy as np\n",
        "import matplotlib.pyplot as plt\n",
        "\n",
        "N = 11\n",
        "menMeans = (20, 30, 25, 37,18, 28, 26, 30, 32, 29, 21)\n",
        "womenMeans = (30, 20, 25, 24, 21, 18, 36, 20, 19, 24, 30)\n",
        "menStd = (3,2,5,1,3,2,6,3,2,1,4)\n",
        "womenStd =(2,3,1,4,6,1,1,2,4,1,2)\n",
        "ind = np.arange(N)\n",
        "#ind = np.arrange(N)\n",
        "width = 0.50\n",
        "\n",
        "p1= plt.bar(ind, menMeans, width, yerr = menStd)\n",
        "p2 = plt.bar(ind, womenMeans, width, bottom = menMeans, yerr=womenStd)\n",
        "\n",
        "plt.ylabel('Scores')\n",
        "plt.title('Scores by group and gender')\n",
        "plt.xticks(ind, ('G1', 'G2','G3','G4','G5','G6','G7','G8','G7','G8','G9','G10', 'G11' ))\n",
        "plt.yticks(np.arrange(0, 80, 15))\n",
        "plt.legend(p1[0], p2[0], ('Men', 'Women'))\n",
        "\n",
        "plt.show()\n"
      ],
      "execution_count": 70,
      "outputs": [
        {
          "output_type": "error",
          "ename": "AttributeError",
          "evalue": "ignored",
          "traceback": [
            "\u001b[0;31m---------------------------------------------------------------------------\u001b[0m",
            "\u001b[0;31mAttributeError\u001b[0m                            Traceback (most recent call last)",
            "\u001b[0;32m<ipython-input-70-ccf2fc363006>\u001b[0m in \u001b[0;36m<module>\u001b[0;34m()\u001b[0m\n\u001b[1;32m     17\u001b[0m \u001b[0mplt\u001b[0m\u001b[0;34m.\u001b[0m\u001b[0mtitle\u001b[0m\u001b[0;34m(\u001b[0m\u001b[0;34m'Scores by group and gender'\u001b[0m\u001b[0;34m)\u001b[0m\u001b[0;34m\u001b[0m\u001b[0m\n\u001b[1;32m     18\u001b[0m \u001b[0mplt\u001b[0m\u001b[0;34m.\u001b[0m\u001b[0mxticks\u001b[0m\u001b[0;34m(\u001b[0m\u001b[0mind\u001b[0m\u001b[0;34m,\u001b[0m \u001b[0;34m(\u001b[0m\u001b[0;34m'G1'\u001b[0m\u001b[0;34m,\u001b[0m \u001b[0;34m'G2'\u001b[0m\u001b[0;34m,\u001b[0m\u001b[0;34m'G3'\u001b[0m\u001b[0;34m,\u001b[0m\u001b[0;34m'G4'\u001b[0m\u001b[0;34m,\u001b[0m\u001b[0;34m'G5'\u001b[0m\u001b[0;34m,\u001b[0m\u001b[0;34m'G6'\u001b[0m\u001b[0;34m,\u001b[0m\u001b[0;34m'G7'\u001b[0m\u001b[0;34m,\u001b[0m\u001b[0;34m'G8'\u001b[0m\u001b[0;34m,\u001b[0m\u001b[0;34m'G7'\u001b[0m\u001b[0;34m,\u001b[0m\u001b[0;34m'G8'\u001b[0m\u001b[0;34m,\u001b[0m\u001b[0;34m'G9'\u001b[0m\u001b[0;34m,\u001b[0m\u001b[0;34m'G10'\u001b[0m\u001b[0;34m,\u001b[0m \u001b[0;34m'G11'\u001b[0m \u001b[0;34m)\u001b[0m\u001b[0;34m)\u001b[0m\u001b[0;34m\u001b[0m\u001b[0m\n\u001b[0;32m---> 19\u001b[0;31m \u001b[0mplt\u001b[0m\u001b[0;34m.\u001b[0m\u001b[0myticks\u001b[0m\u001b[0;34m(\u001b[0m\u001b[0mnp\u001b[0m\u001b[0;34m.\u001b[0m\u001b[0marrange\u001b[0m\u001b[0;34m(\u001b[0m\u001b[0;36m0\u001b[0m\u001b[0;34m,\u001b[0m \u001b[0;36m80\u001b[0m\u001b[0;34m,\u001b[0m \u001b[0;36m15\u001b[0m\u001b[0;34m)\u001b[0m\u001b[0;34m)\u001b[0m\u001b[0;34m\u001b[0m\u001b[0m\n\u001b[0m\u001b[1;32m     20\u001b[0m \u001b[0mplt\u001b[0m\u001b[0;34m.\u001b[0m\u001b[0mlegend\u001b[0m\u001b[0;34m(\u001b[0m\u001b[0mp1\u001b[0m\u001b[0;34m[\u001b[0m\u001b[0;36m0\u001b[0m\u001b[0;34m]\u001b[0m\u001b[0;34m,\u001b[0m \u001b[0mp2\u001b[0m\u001b[0;34m[\u001b[0m\u001b[0;36m0\u001b[0m\u001b[0;34m]\u001b[0m\u001b[0;34m,\u001b[0m \u001b[0;34m(\u001b[0m\u001b[0;34m'Men'\u001b[0m\u001b[0;34m,\u001b[0m \u001b[0;34m'Women'\u001b[0m\u001b[0;34m)\u001b[0m\u001b[0;34m)\u001b[0m\u001b[0;34m\u001b[0m\u001b[0m\n\u001b[1;32m     21\u001b[0m \u001b[0;34m\u001b[0m\u001b[0m\n",
            "\u001b[0;31mAttributeError\u001b[0m: module 'numpy' has no attribute 'arrange'"
          ]
        },
        {
          "output_type": "display_data",
          "data": {
            "image/png": "[encoded data removed]",
            "text/plain": [
              "<matplotlib.figure.Figure at 0x7f77e36a13c8>"
            ]
          },
          "metadata": {
            "tags": []
          }
        }
      ]
    },
    {
      "metadata": {
        "id": "cdmX2SMii0-y",
        "colab_type": "code",
        "colab": {}
      },
      "cell_type": "code",
      "source": [
        "##I replicated this example above but there are some bugs\n",
        "# import numpy as np\n",
        "# import matplotlib.pyplot as plt\n",
        "\n",
        "\n",
        "# N = 5\n",
        "# menMeans = (20, 35, 30, 35, 27)\n",
        "# womenMeans = (25, 32, 34, 20, 25)\n",
        "# menStd = (2, 3, 4, 1, 2)\n",
        "# womenStd = (3, 5, 2, 3, 3)\n",
        "# ind = np.arange(N)    # the x locations for the groups\n",
        "# width = 0.35       # the width of the bars: can also be len(x) sequence\n",
        "\n",
        "# p1 = plt.bar(ind, menMeans, width, yerr=menStd)\n",
        "# p2 = plt.bar(ind, womenMeans, width,\n",
        "#              bottom=menMeans, yerr=womenStd)\n",
        "\n",
        "# plt.ylabel('Scores')\n",
        "# plt.title('Scores by group and gender')\n",
        "# plt.xticks(ind, ('G1', 'G2', 'G3', 'G4', 'G5'))\n",
        "# plt.yticks(np.arange(0, 81, 10))\n",
        "# plt.legend((p1[0], p2[0]), ('Men', 'Women'))\n",
        "\n",
        "# plt.show()"
      ],
      "execution_count": 0,
      "outputs": []
    },
    {
      "metadata": {
        "id": "BT9gdS7viJZa",
        "colab_type": "text"
      },
      "cell_type": "markdown",
      "source": [
        "### Assignment questions\n",
        "\n",
        "After you've worked on some code, answer the following questions in this text block:\n",
        "\n",
        "1.  Describe in a paragraph of text what you did and why, as if you were writing an email to somebody interested but nontechnical.\n",
        "\n",
        "Ans: I chose to replicate the results of one of the matplotlib exmaples. Here, we are plotting the average scores of men and women and our spread or scores around the average meaning how far the scores vlaues are spread out. Women average scores are in green, on top of men scores and black lines indicate our spread.  \n",
        "\n",
        "2.  What was the most challenging part of what you did?\n",
        "underatding the code!\n",
        "\n",
        "3.  What was the most interesting thing you learned?\n",
        "I can change the data and and a few things in the code to expect different results\n",
        "\n",
        "4.  What area would you like to explore with more time?\n",
        "Learning how to code, understanding the loops, functions. Building my understanding from basic to complex programming and ideas. \n",
        "\n",
        "\n"
      ]
    },
    {
      "metadata": {
        "id": "_XXg2crAipwP",
        "colab_type": "text"
      },
      "cell_type": "markdown",
      "source": [
        "## Stretch goals and resources\n",
        "\n",
        "Following are *optional* things for you to take a look at. Focus on the above assignment first, and make sure to commit and push your changes to GitHub (and since this is the first assignment of the sprint, open a PR as well).\n",
        "\n",
        "- [pandas documentation](https://pandas.pydata.org/pandas-docs/stable/)\n",
        "- [scikit-learn documentation](http://scikit-learn.org/stable/documentation.html)\n",
        "- [matplotlib documentation](https://matplotlib.org/contents.html)\n",
        "- [Awesome Data Science](https://github.com/bulutyazilim/awesome-datascience) - a list of many types of DS resources\n",
        "\n",
        "Stretch goals:\n",
        "\n",
        "- Find and read blogs, walkthroughs, and other examples of people working through cool things with data science - and share with your classmates!\n",
        "- Write a blog post (Medium is a popular place to publish) introducing yourself as somebody learning data science, and talking about what you've learned already and what you're excited to learn more about"
      ]
    },
    {
      "metadata": {
        "id": "pW1wVjc0hSK-",
        "colab_type": "text"
      },
      "cell_type": "markdown",
      "source": [
        "#Writing a code to quantify the gardening store data given in the 1st lecture "
      ]
    },
    {
      "metadata": {
        "id": "RjtcnJM1CZM4",
        "colab_type": "code",
        "colab": {
          "base_uri": "https://localhost:8080/",
          "height": 54
        },
        "outputId": "51906440-7373-49f7-bcfe-fdbf53e589df"
      },
      "cell_type": "code",
      "source": [
        "#create a dictionary of the following companies with these keys\n",
        "Grow_mart = {'Name': 'Grow Mart','Year Founded': 1973, 'expenses': 183, 'revenue': 265 }\n",
        "Plant_depot = {'Name': 'Plant Depot','Year Founded': 1973, 'expenses':240, 'revenue': 230 }\n",
        "Trees_r_us = {'Name': 'Trees'R'Us', 'Year Founded': 1985, 'expenses':130, 'revenue': 123  }\n",
        "#create a list of the above dictionaries\n",
        "companies = [Grow_mart, Plant_depot, Trees_r_us]\n",
        "print(company)\n",
        "  "
      ],
      "execution_count": 47,
      "outputs": [
        {
          "output_type": "stream",
          "text": [
            "[{'Company': 'Grow Mart', 'Year Founded': 1973, 'expenses': 183, 'revenue': 265}, {'Company': 'Plant Depot', 'Year Founded': 1973, 'expenses': 240, 'revenue': 230}, {'Company': 'TreesUs', 'Year Founded': 1985, 'expenses': 130, 'revenue': 123}]\n"
          ],
          "name": "stdout"
        }
      ]
    },
    {
      "metadata": {
        "id": "CKc_T_RUhsw9",
        "colab_type": "text"
      },
      "cell_type": "markdown",
      "source": [
        ""
      ]
    },
    {
      "metadata": {
        "id": "mLYrVlnoeoCl",
        "colab_type": "code",
        "colab": {}
      },
      "cell_type": "code",
      "source": [
        "#define how to measure profitable \n",
        "def is_profitable(company):\n",
        "  profit = company['revenue'] - company['expenses']\n",
        "  return profit > 0\n",
        "  "
      ],
      "execution_count": 0,
      "outputs": []
    },
    {
      "metadata": {
        "id": "kdQv2TpehFWU",
        "colab_type": "code",
        "colab": {
          "base_uri": "https://localhost:8080/",
          "height": 34
        },
        "outputId": "2fe474d5-42b5-44d0-d08d-752a6575bdd2"
      },
      "cell_type": "code",
      "source": [
        "#call the function to know if an individual company is profitable \n",
        "is_profitable(Trees_r_us)"
      ],
      "execution_count": 66,
      "outputs": [
        {
          "output_type": "execute_result",
          "data": {
            "text/plain": [
              "False"
            ]
          },
          "metadata": {
            "tags": []
          },
          "execution_count": 66
        }
      ]
    },
    {
      "metadata": {
        "id": "G1YaC5NgGMJ4",
        "colab_type": "code",
        "colab": {
          "base_uri": "https://localhost:8080/",
          "height": 34
        },
        "outputId": "5b76af0b-4b6d-4092-8da7-8ee3c5a113a4"
      },
      "cell_type": "code",
      "source": [
        "#write a for loop to know the most profitable company\n",
        "largest_profit = 0\n",
        "most_profitable_company = 'name'\n",
        "for each_company in companies:\n",
        "  profit = each_company['revenue'] - each_company['expenses']\n",
        "  if profit > largest_profit:\n",
        "    largest_profit = profit\n",
        "    most_profitable_company = each_company['Name']\n",
        "    \n",
        "print(largest_profit, most_profitable_company)\n",
        "  "
      ],
      "execution_count": 49,
      "outputs": [
        {
          "output_type": "stream",
          "text": [
            "82 Grow Mart\n"
          ],
          "name": "stdout"
        }
      ]
    },
    {
      "metadata": {
        "id": "Sg4IjMhfHpVs",
        "colab_type": "code",
        "colab": {}
      },
      "cell_type": "code",
      "source": [
        ""
      ],
      "execution_count": 0,
      "outputs": []
    }
  ]
}