{
  "nbformat": 4,
  "nbformat_minor": 0,
  "metadata": {
    "colab": {
      "name": "LS_DS_111_A_First_Look_at_Data.ipynb",
      "version": "0.3.2",
      "provenance": [],
      "include_colab_link": true
    },
    "kernelspec": {
      "name": "python3",
      "display_name": "Python 3"
    }
  },
  "cells": [
    {
      "cell_type": "markdown",
      "metadata": {
        "id": "view-in-github",
        "colab_type": "text"
      },
      "source": [
        "<a href=\"https://colab.research.google.com/github/johanaluna/DS-Unit-1-Sprint-1-Dealing-With-Data/blob/master/LS_DS_111_A_First_Look_at_Data.ipynb\" target=\"_parent\"><img src=\"https://colab.research.google.com/assets/colab-badge.svg\" alt=\"Open In Colab\"/></a>"
      ]
    },
    {
      "cell_type": "markdown",
      "metadata": {
        "id": "Okfr_uhwhS1X",
        "colab_type": "text"
      },
      "source": [
        "# Lambda School Data Science - A First Look at Data\n",
        "\n"
      ]
    },
    {
      "cell_type": "markdown",
      "metadata": {
        "id": "9dtJETFRhnOG",
        "colab_type": "text"
      },
      "source": [
        "## Lecture - let's explore Python DS libraries and examples!\n",
        "\n",
        "The Python Data Science ecosystem is huge. You've seen some of the big pieces - pandas, scikit-learn, matplotlib. What parts do you want to see more of?"
      ]
    },
    {
      "cell_type": "markdown",
      "metadata": {
        "id": "i5-AxJAmYkRo",
        "colab_type": "text"
      },
      "source": [
        "## **Part 1.** \n",
        "\n",
        "**Code Assignment:**\n"
      ]
    },
    {
      "cell_type": "code",
      "metadata": {
        "id": "5j8Vj5j9TBE9",
        "colab_type": "code",
        "colab": {
          "base_uri": "https://localhost:8080/",
          "height": 85
        },
        "outputId": "ddbad178-12f1-4f1c-c3fd-29144d8c231e"
      },
      "source": [
        "#Code Assignment:\n",
        "\n",
        "import pandas as pd #Import Pandas to create a Data Frame\n",
        "#Assigning features to a variable\n",
        "grow_mart={'name':'Grow Mart','founded': 1973, 'anual_revenue':265, 'expenses':183} \n",
        "plant_depot={'name':'Plant Deport','founded': 1973, 'anual_revenue':302, 'expenses':240}\n",
        "trees_rus={'name':'Trees’R’Us','founded': 1985, 'anual_revenue':123, 'expenses':130}\n",
        "\n",
        "#Assigning an array to a variable\n",
        "stores=[grow_mart,plant_depot, trees_rus]\n",
        "\n",
        "#Create a Data Frame and define the order of the columns \n",
        "df=pd.DataFrame(stores, columns=['name', 'anual_revenue', 'expenses'])\n",
        "\n",
        "#Create a new calculated column\n",
        "df['profit']=df['anual_revenue'] - df['expenses']\n",
        "\n",
        "#Condition\n",
        "is_profitable = [] \n",
        "for x in df[\"profit\"]: \n",
        "    if x >0: \n",
        "        is_profitable.append(\"Yes\") \n",
        "    else: \n",
        "        is_profitable.append(\"No\") \n",
        "\n",
        "#Create a second new calculated column with the condition\n",
        "df[\"is_profitable\"] = is_profitable\n",
        "\n",
        "#Print all my Data Frame\n",
        "print(df)"
      ],
      "execution_count": 43,
      "outputs": [
        {
          "output_type": "stream",
          "text": [
            "           name  anual_revenue  expenses  profit is_profitable\n",
            "0     Grow Mart            265       183      82           Yes\n",
            "1  Plant Deport            302       240      62           Yes\n",
            "2    Trees’R’Us            123       130      -7            No\n"
          ],
          "name": "stdout"
        }
      ]
    },
    {
      "cell_type": "markdown",
      "metadata": {
        "id": "lOqaPds9huME",
        "colab_type": "text"
      },
      "source": [
        "## Assignment - now it's your turn\n",
        "\n",
        "Pick at least one Python DS library, and using documentation/examples reproduce in this notebook something cool. It's OK if you don't fully understand it or get it 100% working, but do put in effort and look things up."
      ]
    },
    {
      "cell_type": "markdown",
      "metadata": {
        "id": "XQyWepQzYfvy",
        "colab_type": "text"
      },
      "source": [
        "# **Part 2.**\n",
        "\n",
        "**Python DS libraries**"
      ]
    },
    {
      "cell_type": "code",
      "metadata": {
        "id": "NjW4rbFKc5we",
        "colab_type": "code",
        "colab": {
          "base_uri": "https://localhost:8080/",
          "height": 653
        },
        "outputId": "86aef715-1033-47b1-bd1a-ddabac07bcf7"
      },
      "source": [
        "import numpy as np #import Numpy(array-processing package) and rename \"np\", then is easly to use it again if the name is short\n",
        "import seaborn as sns # Seaborn makes statistical graphics and rename \"sns\"\n",
        "import matplotlib.pyplot as plt #pyplot is a plotting library and rename \"plt\"\n",
        "\n",
        "sns.set(style=\"dark\") # sns.set makes a seaborn theme, scaling, and color palette\n",
        "rs = np.random.RandomState(50) #Generate a random number Random seed ('50') used to initialize the pseudo-random number generator.\n",
        "\n",
        "# Set up the matplotlib figure\n",
        "#Adding a subplots to the current figure f.\n",
        "#plt.subplots() is a function that returns a tuple that contain a figure F and axes\n",
        "# (3,3) means number of rows/columns of the subplot grid\n",
        "#Sharex= true and Sharey=true means 'all': x- or y-axis will be shared among all subplots.\n",
        "f, axes = plt.subplots(3, 3, figsize=(9, 9), sharex=True, sharey=True)\n",
        "\n",
        "# Rotate the starting point around the cubehelix hue circle\n",
        "#zip function returns list of tuples\n",
        "#np.linspace returns a num evenly spaced samples, calculated over the interval [start, stop, # samples], starts from 0 and stops in 3 and generates 10 samples.\n",
        "for ax, s in zip(axes.flat, np.linspace(0, 3, 10)): \n",
        "\n",
        "    \n",
        "    # Create a cubehelix colormap to use with kdeplot\n",
        "    cmap = sns.cubehelix_palette(start=s, light=1, as_cmap=True) #produces a colormap with linearly-decreasing (or increasing) brightness\n",
        "    #as_cap=True means return a matplotlib colormap instead of a list of colors\n",
        "\n",
        "    # Generate and plot a random bivariate dataset\n",
        "    x, y = rs.randn(2, 50)\n",
        "\n",
        "    # Fit and plot a univariate or bivariate kernel density estimate.\n",
        "    #When shade=True means that is going to fill contours when data is bivariate\n",
        "    sns.kdeplot(x, y, cmap=cmap, shade=True, cut=5, ax=ax)\n",
        "    \n",
        "    ax.set(xlim=(-3, 3), ylim=(-3, 3))#define the limit of the axes x and y \n",
        "\n",
        "f.tight_layout() #automatically adjusts subplot params so that the subplots fits in to the figure area"
      ],
      "execution_count": 45,
      "outputs": [
        {
          "output_type": "display_data",
          "data": {
            "image/png": "[encoded data removed]",
            "text/plain": [
              "<Figure size 648x648 with 9 Axes>"
            ]
          },
          "metadata": {
            "tags": []
          }
        }
      ]
    },
    {
      "cell_type": "markdown",
      "metadata": {
        "id": "BT9gdS7viJZa",
        "colab_type": "text"
      },
      "source": [
        "### Assignment questions\n",
        "\n",
        "After you've worked on some code, answer the following questions in this text block:\n",
        "\n",
        "1.  Describe in a paragraph of text what you did and why, as if you were writing an email to somebody interested but nontechnical.\n",
        "\n",
        "2.  What was the most challenging part of what you did?\n",
        "\n",
        "3.  What was the most interesting thing you learned?\n",
        "\n",
        "4.  What area would you like to explore with more time?\n",
        "\n",
        "\n"
      ]
    },
    {
      "cell_type": "markdown",
      "metadata": {
        "id": "LK7Hnr3Bnka1",
        "colab_type": "text"
      },
      "source": [
        "**1. Describe in a paragraph of text what you did and why, as if you were writing an email to somebody interested but nontechnical.**\n",
        "\n",
        "Dear, Anika.\n",
        "\n",
        "I ran a code that help me to illustrate how Jupyter Notebooks works in Python. In this case, I used a code that I found in the following link:\n",
        "https://colab.research.google.com/github/jakevdp/PythonDataScienceHandbook/blob/master/notebooks/Index.ipynb#scrollTo=8BLzRSFwXz50\n",
        "\n",
        "In the first step, I needed to import some packages like Numpy which is a array-processing package, Seaborn wich makes statistical graphics and the least bit not less important Pyplot from Matplotlibwhich helped me to plot all the data.\n",
        "This code creates and draws 9 subplots with random data and use the library of called Seaborn to visualize the data in a colormap.\n",
        "\n",
        "I hope it's to your liking.\n"
      ]
    },
    {
      "cell_type": "markdown",
      "metadata": {
        "id": "OI5G2NfjpV0u",
        "colab_type": "text"
      },
      "source": [
        "**2. What was the most challenging part of what you did?**\n",
        "\n",
        "The hardest part for me was to understand what each of the libraries was doing and how the parameters were defined."
      ]
    },
    {
      "cell_type": "markdown",
      "metadata": {
        "id": "Exeyv91jrkCF",
        "colab_type": "text"
      },
      "source": [
        ""
      ]
    },
    {
      "cell_type": "markdown",
      "metadata": {
        "id": "awVBJpvtroCD",
        "colab_type": "text"
      },
      "source": [
        "\n",
        "**3. What was the most interesting thing you learned?**\n",
        "For me, it was seeing the large number of libraries in Python and everything that can be programmed with them.\n"
      ]
    },
    {
      "cell_type": "markdown",
      "metadata": {
        "id": "Iy8ury5IrsyK",
        "colab_type": "text"
      },
      "source": [
        "**4. What area would you like to explore with more time?**\n",
        "Matplotlib is something that I really want to learn and know how to implement it correctly in my future projects."
      ]
    },
    {
      "cell_type": "markdown",
      "metadata": {
        "id": "_XXg2crAipwP",
        "colab_type": "text"
      },
      "source": [
        "## Stretch goals and resources\n",
        "\n",
        "Following are *optional* things for you to take a look at. Focus on the above assignment first, and make sure to commit and push your changes to GitHub (and since this is the first assignment of the sprint, open a PR as well).\n",
        "\n",
        "- [pandas documentation](https://pandas.pydata.org/pandas-docs/stable/)\n",
        "- [scikit-learn documentation](http://scikit-learn.org/stable/documentation.html)\n",
        "- [matplotlib documentation](https://matplotlib.org/contents.html)\n",
        "- [Awesome Data Science](https://github.com/bulutyazilim/awesome-datascience) - a list of many types of DS resources\n",
        "\n",
        "Stretch goals:\n",
        "\n",
        "- Find and read blogs, walkthroughs, and other examples of people working through cool things with data science - and share with your classmates!\n",
        "- Write a blog post (Medium is a popular place to publish) introducing yourself as somebody learning data science, and talking about what you've learned already and what you're excited to learn more about."
      ]
    }
  ]
}