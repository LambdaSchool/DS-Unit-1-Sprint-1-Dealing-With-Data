{
  "nbformat": 4,
  "nbformat_minor": 0,
  "metadata": {
    "colab": {
      "name": "LS_DS_111_A_First_Look_at_Data.ipynb",
      "version": "0.3.2",
      "provenance": [],
      "collapsed_sections": [],
      "include_colab_link": true
    },
    "kernelspec": {
      "name": "python3",
      "display_name": "Python 3"
    }
  },
  "cells": [
    {
      "cell_type": "markdown",
      "metadata": {
        "id": "view-in-github",
        "colab_type": "text"
      },
      "source": [
        "<a href=\"https://colab.research.google.com/github/jbshirk/DS-Unit-1-Sprint-1-Dealing-With-Data/blob/master/LS_DS_111_A_First_Look_at_Data.ipynb\" target=\"_parent\"><img src=\"https://colab.research.google.com/assets/colab-badge.svg\" alt=\"Open In Colab\"/></a>"
      ]
    },
    {
      "cell_type": "markdown",
      "metadata": {
        "id": "Okfr_uhwhS1X",
        "colab_type": "text"
      },
      "source": [
        "# Lambda School Data Science - A First Look at Data\n",
        "\n"
      ]
    },
    {
      "cell_type": "markdown",
      "metadata": {
        "id": "9dtJETFRhnOG",
        "colab_type": "text"
      },
      "source": [
        "## Lecture - let's explore Python DS libraries and examples!\n",
        "\n",
        "The Python Data Science ecosystem is huge. You've seen some of the big pieces - pandas, scikit-learn, matplotlib. What parts do you want to see more of?"
      ]
    },
    {
      "cell_type": "markdown",
      "metadata": {
        "id": "ocukoN6-OYij",
        "colab_type": "text"
      },
      "source": [
        "I'm curious about:\n",
        "\n",
        "https://www.quandl.com/tools/python\n",
        "\n",
        "----\n",
        "UCI dataset repo: https://archive.ics.uci.edu/ml/index.php\n",
        "\n",
        "Kaggle datasets: https://www.kaggle.com/datasets\n",
        "\n",
        "Reddit datasets: https://www.reddit.com/r/datasets/\n",
        "\n",
        "MOAR datasets:\n",
        "\n",
        "https://www.dataquest.io/blog/free-datasets-for-projects/\n",
        "\n",
        "https://data.fivethirtyeight.com/\n",
        "\n",
        "https://www.data.gov/\n",
        "\n"
      ]
    },
    {
      "cell_type": "code",
      "metadata": {
        "id": "WiBkgmPJhmhE",
        "colab_type": "code",
        "outputId": "3d1f07f9-b40b-4dce-adb6-89217d790a69",
        "colab": {
          "base_uri": "https://localhost:8080/",
          "height": 34
        }
      },
      "source": [
        "2 + 1"
      ],
      "execution_count": 0,
      "outputs": [
        {
          "output_type": "execute_result",
          "data": {
            "text/plain": [
              "3"
            ]
          },
          "metadata": {
            "tags": []
          },
          "execution_count": 1
        }
      ]
    },
    {
      "cell_type": "markdown",
      "metadata": {
        "id": "oBo5-9f4PRgy",
        "colab_type": "text"
      },
      "source": [
        "#A Big Header"
      ]
    },
    {
      "cell_type": "code",
      "metadata": {
        "id": "bQWW2FF6PfaO",
        "colab_type": "code",
        "colab": {}
      },
      "source": [
        "def goodbye_cruel_world():\n",
        "  print(\"Goodbye, Cruel world!\")"
      ],
      "execution_count": 0,
      "outputs": []
    },
    {
      "cell_type": "markdown",
      "metadata": {
        "id": "kLsMEOHbPxI3",
        "colab_type": "text"
      },
      "source": [
        "## A not-so-big header\n"
      ]
    },
    {
      "cell_type": "code",
      "metadata": {
        "id": "N532yretP8cy",
        "colab_type": "code",
        "colab": {
          "base_uri": "https://localhost:8080/",
          "height": 35
        },
        "outputId": "b7cfe835-ccde-4e0b-9ba2-9df48e975234"
      },
      "source": [
        "goodbye_cruel_world()\n"
      ],
      "execution_count": 3,
      "outputs": [
        {
          "output_type": "stream",
          "text": [
            "Goodbye, Cruel world!\n"
          ],
          "name": "stdout"
        }
      ]
    },
    {
      "cell_type": "markdown",
      "metadata": {
        "id": "1vhGHZVBQDe3",
        "colab_type": "text"
      },
      "source": [
        "The above was only a test. (I am not suicidal.)\n",
        "\n"
      ]
    },
    {
      "cell_type": "code",
      "metadata": {
        "id": "uVVNMMbRQUpY",
        "colab_type": "code",
        "colab": {
          "base_uri": "https://localhost:8080/",
          "height": 206
        },
        "outputId": "2fee1b6c-f8cf-4ce1-e6a3-9694d19f2d4e"
      },
      "source": [
        "import pandas as pd\n",
        "\n",
        "df = pd.DataFrame({'a' : [1,2,3,4,5],\n",
        "                  'b' : [5,4,3,2,1]})\n",
        "\n",
        "df.head()"
      ],
      "execution_count": 4,
      "outputs": [
        {
          "output_type": "execute_result",
          "data": {
            "text/html": [
              "<div>\n",
              "<style scoped>\n",
              "    .dataframe tbody tr th:only-of-type {\n",
              "        vertical-align: middle;\n",
              "    }\n",
              "\n",
              "    .dataframe tbody tr th {\n",
              "        vertical-align: top;\n",
              "    }\n",
              "\n",
              "    .dataframe thead th {\n",
              "        text-align: right;\n",
              "    }\n",
              "</style>\n",
              "<table border=\"1\" class=\"dataframe\">\n",
              "  <thead>\n",
              "    <tr style=\"text-align: right;\">\n",
              "      <th></th>\n",
              "      <th>a</th>\n",
              "      <th>b</th>\n",
              "    </tr>\n",
              "  </thead>\n",
              "  <tbody>\n",
              "    <tr>\n",
              "      <th>0</th>\n",
              "      <td>1</td>\n",
              "      <td>5</td>\n",
              "    </tr>\n",
              "    <tr>\n",
              "      <th>1</th>\n",
              "      <td>2</td>\n",
              "      <td>4</td>\n",
              "    </tr>\n",
              "    <tr>\n",
              "      <th>2</th>\n",
              "      <td>3</td>\n",
              "      <td>3</td>\n",
              "    </tr>\n",
              "    <tr>\n",
              "      <th>3</th>\n",
              "      <td>4</td>\n",
              "      <td>2</td>\n",
              "    </tr>\n",
              "    <tr>\n",
              "      <th>4</th>\n",
              "      <td>5</td>\n",
              "      <td>1</td>\n",
              "    </tr>\n",
              "  </tbody>\n",
              "</table>\n",
              "</div>"
            ],
            "text/plain": [
              "   a  b\n",
              "0  1  5\n",
              "1  2  4\n",
              "2  3  3\n",
              "3  4  2\n",
              "4  5  1"
            ]
          },
          "metadata": {
            "tags": []
          },
          "execution_count": 4
        }
      ]
    },
    {
      "cell_type": "code",
      "metadata": {
        "id": "ShpucJJqQ43L",
        "colab_type": "code",
        "colab": {
          "base_uri": "https://localhost:8080/",
          "height": 283
        },
        "outputId": "28f4cdf9-c2af-4413-978c-67e5c76006f4"
      },
      "source": [
        "df.plot.scatter('a','b');"
      ],
      "execution_count": 5,
      "outputs": [
        {
          "output_type": "display_data",
          "data": {
            "image/png": "[encoded data removed]",
            "text/plain": [
              "<Figure size 432x288 with 1 Axes>"
            ]
          },
          "metadata": {
            "tags": []
          }
        }
      ]
    },
    {
      "cell_type": "markdown",
      "metadata": {
        "id": "lOqaPds9huME",
        "colab_type": "text"
      },
      "source": [
        "## Assignment - now it's your turn\n",
        "\n",
        "Pick at least one Python DS library, and using documentation/examples reproduce in this notebook something cool. It's OK if you don't fully understand it or get it 100% working, but do put in effort and look things up."
      ]
    },
    {
      "cell_type": "code",
      "metadata": {
        "id": "TGUS79cOhPWj",
        "colab_type": "code",
        "colab": {
          "base_uri": "https://localhost:8080/",
          "height": 124
        },
        "outputId": "a44569e5-ea36-44fc-e0c3-15730fb225db"
      },
      "source": [
        "# TODO - your code here\n",
        "# Use what we did live in lecture as an example\n",
        "\n",
        "!pip install -q quandl\n",
        "\n",
        "import quandl\n",
        "mydata = quandl.get(\"FRED/GDP\")"
      ],
      "execution_count": 8,
      "outputs": [
        {
          "output_type": "stream",
          "text": [
            "\u001b[K     |████████████████████████████████| 61kB 22.4MB/s \n",
            "\u001b[K     |████████████████████████████████| 61kB 23.6MB/s \n",
            "\u001b[K     |████████████████████████████████| 2.3MB 7.9MB/s \n",
            "\u001b[K     |████████████████████████████████| 102kB 29.9MB/s \n",
            "\u001b[?25h  Building wheel for inflection (setup.py) ... \u001b[?25l\u001b[?25hdone\n",
            "\u001b[31mERROR: datascience 0.10.6 has requirement folium==0.2.1, but you'll have folium 0.8.3 which is incompatible.\u001b[0m\n"
          ],
          "name": "stdout"
        }
      ]
    },
    {
      "cell_type": "markdown",
      "metadata": {
        "id": "JDq_K9oAUDmO",
        "colab_type": "text"
      },
      "source": [
        "It looks like there is no way to solve the incompatible dependency. \n",
        "\n",
        "For future reference, there is a way to git clone into a colab notebook:\n",
        "\n",
        "https://medium.com/muthetechie/how-to-import-machine-learning-libraries-into-google-colab-3410ab8d6333"
      ]
    },
    {
      "cell_type": "code",
      "metadata": {
        "id": "VwAkj7r-Uepx",
        "colab_type": "code",
        "colab": {
          "base_uri": "https://localhost:8080/",
          "height": 88
        },
        "outputId": "d10490db-3050-4127-d0f6-65544c4e27d0"
      },
      "source": [
        "!git clone https://github.com/wxs/keras-mnist-tutorial.git\n",
        "\n"
      ],
      "execution_count": 9,
      "outputs": [
        {
          "output_type": "stream",
          "text": [
            "Cloning into 'keras-mnist-tutorial'...\n",
            "remote: Enumerating objects: 26, done.\u001b[K\n",
            "remote: Total 26 (delta 0), reused 0 (delta 0), pack-reused 26\u001b[K\n",
            "Unpacking objects: 100% (26/26), done.\n"
          ],
          "name": "stdout"
        }
      ]
    },
    {
      "cell_type": "code",
      "metadata": {
        "id": "KTjZbuCbU3W3",
        "colab_type": "code",
        "colab": {
          "base_uri": "https://localhost:8080/",
          "height": 142
        },
        "outputId": "1a4fdf55-391d-41bf-d1a6-dd6f205da2a8"
      },
      "source": [
        "#test\n",
        "!git clone https://github.com/quandl/quandl-python.git"
      ],
      "execution_count": 10,
      "outputs": [
        {
          "output_type": "stream",
          "text": [
            "Cloning into 'quandl-python'...\n",
            "remote: Enumerating objects: 9, done.\u001b[K\n",
            "remote: Counting objects:  11% (1/9)\u001b[K\rremote: Counting objects:  22% (2/9)\u001b[K\rremote: Counting objects:  33% (3/9)\u001b[K\rremote: Counting objects:  44% (4/9)\u001b[K\rremote: Counting objects:  55% (5/9)\u001b[K\rremote: Counting objects:  66% (6/9)\u001b[K\rremote: Counting objects:  77% (7/9)\u001b[K\rremote: Counting objects:  88% (8/9)\u001b[K\rremote: Counting objects: 100% (9/9)\u001b[K\rremote: Counting objects: 100% (9/9), done.\u001b[K\n",
            "remote: Compressing objects:  12% (1/8)\u001b[K\rremote: Compressing objects:  25% (2/8)\u001b[K\rremote: Compressing objects:  37% (3/8)\u001b[K\rremote: Compressing objects:  50% (4/8)\u001b[K\rremote: Compressing objects:  62% (5/8)\u001b[K\rremote: Compressing objects:  75% (6/8)\u001b[K\rremote: Compressing objects:  87% (7/8)\u001b[K\rremote: Compressing objects: 100% (8/8)\u001b[K\rremote: Compressing objects: 100% (8/8), done.\u001b[K\n",
            "Receiving objects:   0% (1/681)   \rReceiving objects:   1% (7/681)   \rReceiving objects:   2% (14/681)   \rReceiving objects:   3% (21/681)   \rReceiving objects:   4% (28/681)   \rReceiving objects:   5% (35/681)   \rReceiving objects:   6% (41/681)   \rReceiving objects:   7% (48/681)   \rReceiving objects:   8% (55/681)   \rReceiving objects:   9% (62/681)   \rReceiving objects:  10% (69/681)   \rReceiving objects:  11% (75/681)   \rReceiving objects:  12% (82/681)   \rReceiving objects:  13% (89/681)   \rReceiving objects:  14% (96/681)   \rReceiving objects:  15% (103/681)   \rReceiving objects:  16% (109/681)   \rReceiving objects:  17% (116/681)   \rReceiving objects:  18% (123/681)   \rReceiving objects:  19% (130/681)   \rReceiving objects:  20% (137/681)   \rReceiving objects:  21% (144/681)   \rReceiving objects:  22% (150/681)   \rReceiving objects:  23% (157/681)   \rReceiving objects:  24% (164/681)   \rReceiving objects:  25% (171/681)   \rReceiving objects:  26% (178/681)   \rReceiving objects:  27% (184/681)   \rReceiving objects:  28% (191/681)   \rReceiving objects:  29% (198/681)   \rReceiving objects:  30% (205/681)   \rReceiving objects:  31% (212/681)   \rReceiving objects:  32% (218/681)   \rReceiving objects:  33% (225/681)   \rReceiving objects:  34% (232/681)   \rReceiving objects:  35% (239/681)   \rReceiving objects:  36% (246/681)   \rReceiving objects:  37% (252/681)   \rReceiving objects:  38% (259/681)   \rReceiving objects:  39% (266/681)   \rReceiving objects:  40% (273/681)   \rReceiving objects:  41% (280/681)   \rReceiving objects:  42% (287/681)   \rReceiving objects:  43% (293/681)   \rReceiving objects:  44% (300/681)   \rReceiving objects:  45% (307/681)   \rReceiving objects:  46% (314/681)   \rReceiving objects:  47% (321/681)   \rReceiving objects:  48% (327/681)   \rReceiving objects:  49% (334/681)   \rReceiving objects:  50% (341/681)   \rReceiving objects:  51% (348/681)   \rReceiving objects:  52% (355/681)   \rReceiving objects:  53% (361/681)   \rReceiving objects:  54% (368/681)   \rReceiving objects:  55% (375/681)   \rReceiving objects:  56% (382/681)   \rReceiving objects:  57% (389/681)   \rReceiving objects:  58% (395/681)   \rReceiving objects:  59% (402/681)   \rReceiving objects:  60% (409/681)   \rReceiving objects:  61% (416/681)   \rReceiving objects:  62% (423/681)   \rReceiving objects:  63% (430/681)   \rReceiving objects:  64% (436/681)   \rReceiving objects:  65% (443/681)   \rReceiving objects:  66% (450/681)   \rReceiving objects:  67% (457/681)   \rReceiving objects:  68% (464/681)   \rReceiving objects:  69% (470/681)   \rReceiving objects:  70% (477/681)   \rReceiving objects:  71% (484/681)   \rReceiving objects:  72% (491/681)   \rReceiving objects:  73% (498/681)   \rReceiving objects:  74% (504/681)   \rReceiving objects:  75% (511/681)   \rReceiving objects:  76% (518/681)   \rReceiving objects:  77% (525/681)   \rReceiving objects:  78% (532/681)   \rReceiving objects:  79% (538/681)   \rremote: Total 681 (delta 0), reused 1 (delta 0), pack-reused 672\u001b[K\n",
            "Receiving objects:  80% (545/681)   \rReceiving objects:  81% (552/681)   \rReceiving objects:  82% (559/681)   \rReceiving objects:  83% (566/681)   \rReceiving objects:  84% (573/681)   \rReceiving objects:  85% (579/681)   \rReceiving objects:  86% (586/681)   \rReceiving objects:  87% (593/681)   \rReceiving objects:  88% (600/681)   \rReceiving objects:  89% (607/681)   \rReceiving objects:  90% (613/681)   \rReceiving objects:  91% (620/681)   \rReceiving objects:  92% (627/681)   \rReceiving objects:  93% (634/681)   \rReceiving objects:  94% (641/681)   \rReceiving objects:  95% (647/681)   \rReceiving objects:  96% (654/681)   \rReceiving objects:  97% (661/681)   \rReceiving objects:  98% (668/681)   \rReceiving objects:  99% (675/681)   \rReceiving objects: 100% (681/681)   \rReceiving objects: 100% (681/681), 173.83 KiB | 6.69 MiB/s, done.\n",
            "Resolving deltas:   0% (0/275)   \rResolving deltas:   1% (4/275)   \rResolving deltas:   2% (6/275)   \rResolving deltas:   3% (10/275)   \rResolving deltas:   4% (13/275)   \rResolving deltas:   5% (16/275)   \rResolving deltas:   7% (20/275)   \rResolving deltas:   9% (25/275)   \rResolving deltas:  12% (34/275)   \rResolving deltas:  13% (37/275)   \rResolving deltas:  14% (39/275)   \rResolving deltas:  15% (42/275)   \rResolving deltas:  17% (48/275)   \rResolving deltas:  18% (52/275)   \rResolving deltas:  19% (53/275)   \rResolving deltas:  20% (55/275)   \rResolving deltas:  21% (59/275)   \rResolving deltas:  26% (73/275)   \rResolving deltas:  28% (77/275)   \rResolving deltas:  29% (81/275)   \rResolving deltas:  30% (83/275)   \rResolving deltas:  31% (86/275)   \rResolving deltas:  32% (90/275)   \rResolving deltas:  33% (91/275)   \rResolving deltas:  34% (96/275)   \rResolving deltas:  37% (102/275)   \rResolving deltas:  38% (105/275)   \rResolving deltas:  39% (108/275)   \rResolving deltas:  40% (110/275)   \rResolving deltas:  46% (128/275)   \rResolving deltas:  47% (131/275)   \rResolving deltas:  50% (139/275)   \rResolving deltas:  52% (144/275)   \rResolving deltas:  53% (146/275)   \rResolving deltas:  54% (151/275)   \rResolving deltas:  56% (156/275)   \rResolving deltas:  58% (160/275)   \rResolving deltas:  68% (189/275)   \rResolving deltas:  69% (190/275)   \rResolving deltas:  78% (217/275)   \rResolving deltas:  80% (220/275)   \rResolving deltas:  84% (232/275)   \rResolving deltas:  87% (240/275)   \rResolving deltas:  88% (243/275)   \rResolving deltas:  90% (249/275)   \rResolving deltas:  92% (253/275)   \rResolving deltas:  93% (257/275)   \rResolving deltas:  94% (260/275)   \rResolving deltas:  96% (265/275)   \rResolving deltas:  99% (274/275)   \rResolving deltas: 100% (275/275)   \rResolving deltas: 100% (275/275), done.\n"
          ],
          "name": "stdout"
        }
      ]
    },
    {
      "cell_type": "code",
      "metadata": {
        "id": "-Q2jy4jUVPYl",
        "colab_type": "code",
        "colab": {}
      },
      "source": [
        "import quandl\n",
        "mydata = quandl.get(\"FRED/GDP\")\n",
        "\n",
        "# did not fail this way"
      ],
      "execution_count": 0,
      "outputs": []
    },
    {
      "cell_type": "code",
      "metadata": {
        "id": "6J7wBkJqVrjd",
        "colab_type": "code",
        "colab": {
          "base_uri": "https://localhost:8080/",
          "height": 238
        },
        "outputId": "8ed7e3da-d7eb-4441-e211-15f5d21f5304"
      },
      "source": [
        "mydata.head()"
      ],
      "execution_count": 13,
      "outputs": [
        {
          "output_type": "execute_result",
          "data": {
            "text/html": [
              "<div>\n",
              "<style scoped>\n",
              "    .dataframe tbody tr th:only-of-type {\n",
              "        vertical-align: middle;\n",
              "    }\n",
              "\n",
              "    .dataframe tbody tr th {\n",
              "        vertical-align: top;\n",
              "    }\n",
              "\n",
              "    .dataframe thead th {\n",
              "        text-align: right;\n",
              "    }\n",
              "</style>\n",
              "<table border=\"1\" class=\"dataframe\">\n",
              "  <thead>\n",
              "    <tr style=\"text-align: right;\">\n",
              "      <th></th>\n",
              "      <th>Value</th>\n",
              "    </tr>\n",
              "    <tr>\n",
              "      <th>Date</th>\n",
              "      <th></th>\n",
              "    </tr>\n",
              "  </thead>\n",
              "  <tbody>\n",
              "    <tr>\n",
              "      <th>1947-01-01</th>\n",
              "      <td>243.164</td>\n",
              "    </tr>\n",
              "    <tr>\n",
              "      <th>1947-04-01</th>\n",
              "      <td>245.968</td>\n",
              "    </tr>\n",
              "    <tr>\n",
              "      <th>1947-07-01</th>\n",
              "      <td>249.585</td>\n",
              "    </tr>\n",
              "    <tr>\n",
              "      <th>1947-10-01</th>\n",
              "      <td>259.745</td>\n",
              "    </tr>\n",
              "    <tr>\n",
              "      <th>1948-01-01</th>\n",
              "      <td>265.742</td>\n",
              "    </tr>\n",
              "  </tbody>\n",
              "</table>\n",
              "</div>"
            ],
            "text/plain": [
              "              Value\n",
              "Date               \n",
              "1947-01-01  243.164\n",
              "1947-04-01  245.968\n",
              "1947-07-01  249.585\n",
              "1947-10-01  259.745\n",
              "1948-01-01  265.742"
            ]
          },
          "metadata": {
            "tags": []
          },
          "execution_count": 13
        }
      ]
    },
    {
      "cell_type": "markdown",
      "metadata": {
        "id": "BT9gdS7viJZa",
        "colab_type": "text"
      },
      "source": [
        "### Assignment questions\n",
        "\n",
        "After you've worked on some code, answer the following questions in this text block:\n",
        "\n",
        "1.  Describe in a paragraph of text what you did and why, as if you were writing an email to somebody interested but nontechnical.\n",
        "\n",
        "2.  What was the most challenging part of what you did?\n",
        "\n",
        "3.  What was the most interesting thing you learned?\n",
        "\n",
        "4.  What area would you like to explore with more time?\n",
        "\n",
        "\n"
      ]
    },
    {
      "cell_type": "markdown",
      "metadata": {
        "id": "-hAugB1PV1tf",
        "colab_type": "text"
      },
      "source": [
        "I decided to try out Quandle, as it stood out in the data source references mentioned in today's class materials. It seems to be a good way to get real economic and price data, instead of being a 'toy' dataset.\n",
        "\n",
        "Quandl is a little bit of a challenge to learn how to use in a colab notebook, as it's not \"included\" with the standard tools, so you have to \"install\" it from Github, using slightly different syntax than you would if actually downloading and installing it into your own pc.\n",
        "\n",
        "Along the way to finding an installation method that works, I happened to learn that there is a way to import anything from Github, which is sure to be very useful in the future.\n",
        "\n",
        "It will be intersting to see what can be done with quandl, as far as comparing commodities (including gold and silver or rare earths) with maybe, cryptocurrencies. I think it may prove to be a way to sense what is really going on with the Chinese economy, indirectly using real trade data that isn't fudged by the CCP or other governments."
      ]
    },
    {
      "cell_type": "markdown",
      "metadata": {
        "id": "_XXg2crAipwP",
        "colab_type": "text"
      },
      "source": [
        "## Stretch goals and resources\n",
        "\n",
        "Following are *optional* things for you to take a look at. Focus on the above assignment first, and make sure to commit and push your changes to GitHub (and since this is the first assignment of the sprint, open a PR as well).\n",
        "\n",
        "- [pandas documentation](https://pandas.pydata.org/pandas-docs/stable/)\n",
        "- [scikit-learn documentation](http://scikit-learn.org/stable/documentation.html)\n",
        "- [matplotlib documentation](https://matplotlib.org/contents.html)\n",
        "- [Awesome Data Science](https://github.com/bulutyazilim/awesome-datascience) - a list of many types of DS resources\n",
        "\n",
        "Stretch goals:\n",
        "\n",
        "- Find and read blogs, walkthroughs, and other examples of people working through cool things with data science - and share with your classmates!\n",
        "- Write a blog post (Medium is a popular place to publish) introducing yourself as somebody learning data science, and talking about what you've learned already and what you're excited to learn more about."
      ]
    }
  ]
}