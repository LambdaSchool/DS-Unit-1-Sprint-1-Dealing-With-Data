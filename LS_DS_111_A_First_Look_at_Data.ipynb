{
  "nbformat": 4,
  "nbformat_minor": 0,
  "metadata": {
    "colab": {
      "name": "LS DS 111 - A First Look at Data.ipynb",
      "version": "0.3.2",
      "provenance": [],
      "include_colab_link": true
    },
    "kernelspec": {
      "name": "python3",
      "display_name": "Python 3"
    }
  },
  "cells": [
    {
      "cell_type": "markdown",
      "metadata": {
        "id": "view-in-github",
        "colab_type": "text"
      },
      "source": [
        "<a href=\"https://colab.research.google.com/github/veritaem/DS-Sprint-01-Dealing-With-Data/blob/master/LS_DS_111_A_First_Look_at_Data.ipynb\" target=\"_parent\"><img src=\"https://colab.research.google.com/assets/colab-badge.svg\" alt=\"Open In Colab\"/></a>"
      ]
    },
    {
      "metadata": {
        "id": "Okfr_uhwhS1X",
        "colab_type": "text"
      },
      "cell_type": "markdown",
      "source": [
        "# Lambda School Data Science - A First Look at Data\n",
        "\n"
      ]
    },
    {
      "metadata": {
        "id": "9dtJETFRhnOG",
        "colab_type": "text"
      },
      "cell_type": "markdown",
      "source": [
        "## Lecture - let's explore Python DS libraries and examples!\n",
        "\n",
        "The Python Data Science ecosystem is huge. You've seen some of the big pieces - pandas, scikit-learn, matplotlib. What parts do you want to see more of?"
      ]
    },
    {
      "metadata": {
        "id": "WiBkgmPJhmhE",
        "colab_type": "code",
        "colab": {}
      },
      "cell_type": "code",
      "source": [
        "# TODO - we'll be doing this live, taking requests\n",
        "# and reproducing what it is to look up and learn things\n",
        "1+1"
      ],
      "execution_count": 0,
      "outputs": []
    },
    {
      "metadata": {
        "id": "lOqaPds9huME",
        "colab_type": "text"
      },
      "cell_type": "markdown",
      "source": [
        "## Assignment - now it's your turn\n",
        "\n",
        "Pick at least one Python DS library, and using documentation/examples reproduce in this notebook something cool. It's OK if you don't fully understand it or get it 100% working, but do put in effort and look things up."
      ]
    },
    {
      "metadata": {
        "id": "TGUS79cOhPWj",
        "colab_type": "code",
        "colab": {
          "base_uri": "https://localhost:8080/",
          "height": 73
        },
        "outputId": "4f0d6807-ea26-45f4-830f-f26b7c2459b3"
      },
      "cell_type": "code",
      "source": [
        "##http://nbviewer.jupyter.org/github/vincentarelbundock/Reinhart-Rogoff/blob/master/reinhart-rogoff.ipynb\n",
        "##this is the notebook i used\n",
        "\n",
        "# TODO - your code here\n",
        "# Use what we did live in lecture as an example\n",
        "import statsmodels.api as sm\n",
        "import patsy\n",
        "import pandas as pd\n",
        "import numpy as np\n",
        "import matplotlib.pyplot as plt\n",
        "\n",
        "RR = pd.read_csv('https://gist.githubusercontent.com/vincentarelbundock/5409893/raw/a623f2f3bae027a0e51dd01ac5b70d44d909a7b9/RR-processed.csv')\n",
        "##i couldnt make it read the csv posted in the notebook code so I got the raw and used it"
      ],
      "execution_count": 2,
      "outputs": [
        {
          "output_type": "stream",
          "text": [
            "/usr/local/lib/python3.6/dist-packages/statsmodels/compat/pandas.py:56: FutureWarning: The pandas.core.datetools module is deprecated and will be removed in a future version. Please use the pandas.tseries module instead.\n",
            "  from pandas.core import datetools\n"
          ],
          "name": "stderr"
        }
      ]
    },
    {
      "metadata": {
        "id": "mNhu68wheKWa",
        "colab_type": "code",
        "outputId": "714c9c23-4dec-473a-8d66-d27880364e0a",
        "colab": {
          "base_uri": "https://localhost:8080/",
          "height": 417
        }
      },
      "cell_type": "code",
      "source": [
        "RR.groupby('Country').size()"
      ],
      "execution_count": 3,
      "outputs": [
        {
          "output_type": "execute_result",
          "data": {
            "text/plain": [
              "Country\n",
              "Australia      64\n",
              "Austria        62\n",
              "Belgium        63\n",
              "Canada         64\n",
              "Denmark        56\n",
              "Finland        64\n",
              "France         54\n",
              "Germany        59\n",
              "Greece         40\n",
              "Ireland        63\n",
              "Italy          59\n",
              "Japan          54\n",
              "Netherlands    53\n",
              "New Zealand    64\n",
              "Norway         64\n",
              "Portugal       58\n",
              "Spain          42\n",
              "Sweden         64\n",
              "UK             64\n",
              "US             64\n",
              "dtype: int64"
            ]
          },
          "metadata": {
            "tags": []
          },
          "execution_count": 3
        }
      ]
    },
    {
      "metadata": {
        "id": "QQZV5dLyiNy1",
        "colab_type": "code",
        "colab": {
          "base_uri": "https://localhost:8080/",
          "height": 35
        },
        "outputId": "10504059-8cc7-4e8e-f90e-e19f96a03818"
      },
      "cell_type": "code",
      "source": [
        "RR.shape"
      ],
      "execution_count": 8,
      "outputs": [
        {
          "output_type": "execute_result",
          "data": {
            "text/plain": [
              "(1175, 27)"
            ]
          },
          "metadata": {
            "tags": []
          },
          "execution_count": 8
        }
      ]
    },
    {
      "metadata": {
        "id": "iqf64JdRf6cn",
        "colab_type": "code",
        "colab": {
          "base_uri": "https://localhost:8080/",
          "height": 367
        },
        "outputId": "9475663e-4efa-4dc7-a328-2bdfbcb2e8f3"
      },
      "cell_type": "code",
      "source": [
        "RR.describe()\n",
        "##they used several operations in the notebook to get some of this info so I figured\n",
        "##this might be easier and more readable."
      ],
      "execution_count": 11,
      "outputs": [
        {
          "output_type": "execute_result",
          "data": {
            "text/html": [
              "<div>\n",
              "<style scoped>\n",
              "    .dataframe tbody tr th:only-of-type {\n",
              "        vertical-align: middle;\n",
              "    }\n",
              "\n",
              "    .dataframe tbody tr th {\n",
              "        vertical-align: top;\n",
              "    }\n",
              "\n",
              "    .dataframe thead th {\n",
              "        text-align: right;\n",
              "    }\n",
              "</style>\n",
              "<table border=\"1\" class=\"dataframe\">\n",
              "  <thead>\n",
              "    <tr style=\"text-align: right;\">\n",
              "      <th></th>\n",
              "      <th>Unnamed: 0</th>\n",
              "      <th>Year</th>\n",
              "      <th>Debt</th>\n",
              "      <th>RGDP</th>\n",
              "      <th>GDP</th>\n",
              "      <th>dRGDP</th>\n",
              "      <th>GDPI</th>\n",
              "      <th>GDP1</th>\n",
              "      <th>GDP2</th>\n",
              "      <th>RGDP1</th>\n",
              "      <th>...</th>\n",
              "      <th>Debtalt</th>\n",
              "      <th>GDP2alt</th>\n",
              "      <th>GDPalt</th>\n",
              "      <th>RGDP2alt</th>\n",
              "      <th>debtgdp</th>\n",
              "      <th>GDP3</th>\n",
              "      <th>GNI</th>\n",
              "      <th>lRGDP</th>\n",
              "      <th>lRGDP1</th>\n",
              "      <th>lRGDP2</th>\n",
              "    </tr>\n",
              "  </thead>\n",
              "  <tbody>\n",
              "    <tr>\n",
              "      <th>count</th>\n",
              "      <td>1175.00000</td>\n",
              "      <td>1175.000000</td>\n",
              "      <td>8.220000e+02</td>\n",
              "      <td>2.070000e+02</td>\n",
              "      <td>1.280000e+02</td>\n",
              "      <td>1175.000000</td>\n",
              "      <td>93.000000</td>\n",
              "      <td>7.730000e+02</td>\n",
              "      <td>8.850000e+02</td>\n",
              "      <td>8.140000e+02</td>\n",
              "      <td>...</td>\n",
              "      <td>1.180000e+02</td>\n",
              "      <td>8.800000e+01</td>\n",
              "      <td>4.400000e+01</td>\n",
              "      <td>31.000000</td>\n",
              "      <td>1175.000000</td>\n",
              "      <td>30.000000</td>\n",
              "      <td>4.800000e+01</td>\n",
              "      <td>2.100000e+02</td>\n",
              "      <td>8.290000e+02</td>\n",
              "      <td>4.350000e+02</td>\n",
              "    </tr>\n",
              "    <tr>\n",
              "      <th>mean</th>\n",
              "      <td>588.00000</td>\n",
              "      <td>1979.254468</td>\n",
              "      <td>1.593857e+07</td>\n",
              "      <td>2.369173e+05</td>\n",
              "      <td>1.957611e+05</td>\n",
              "      <td>3.413757</td>\n",
              "      <td>50.341802</td>\n",
              "      <td>1.444103e+07</td>\n",
              "      <td>1.812497e+07</td>\n",
              "      <td>1.401169e+07</td>\n",
              "      <td>...</td>\n",
              "      <td>1.006665e+07</td>\n",
              "      <td>4.450790e+05</td>\n",
              "      <td>2.079659e+06</td>\n",
              "      <td>103333.064516</td>\n",
              "      <td>46.320173</td>\n",
              "      <td>76891.133333</td>\n",
              "      <td>5.156239e+08</td>\n",
              "      <td>2.351587e+05</td>\n",
              "      <td>1.382204e+07</td>\n",
              "      <td>3.047113e+07</td>\n",
              "    </tr>\n",
              "    <tr>\n",
              "      <th>std</th>\n",
              "      <td>339.33759</td>\n",
              "      <td>17.993206</td>\n",
              "      <td>9.113481e+07</td>\n",
              "      <td>3.229943e+05</td>\n",
              "      <td>3.693084e+05</td>\n",
              "      <td>2.992940</td>\n",
              "      <td>35.832360</td>\n",
              "      <td>6.444771e+07</td>\n",
              "      <td>8.181769e+07</td>\n",
              "      <td>6.658949e+07</td>\n",
              "      <td>...</td>\n",
              "      <td>2.569075e+07</td>\n",
              "      <td>5.716624e+05</td>\n",
              "      <td>1.951114e+06</td>\n",
              "      <td>23514.613796</td>\n",
              "      <td>32.346159</td>\n",
              "      <td>58596.977435</td>\n",
              "      <td>6.478610e+08</td>\n",
              "      <td>3.213443e+05</td>\n",
              "      <td>6.602166e+07</td>\n",
              "      <td>1.134847e+08</td>\n",
              "    </tr>\n",
              "    <tr>\n",
              "      <th>min</th>\n",
              "      <td>1.00000</td>\n",
              "      <td>1946.000000</td>\n",
              "      <td>7.300000e+00</td>\n",
              "      <td>1.776100e+03</td>\n",
              "      <td>2.222000e+02</td>\n",
              "      <td>-10.942159</td>\n",
              "      <td>3.560000</td>\n",
              "      <td>3.944800e+01</td>\n",
              "      <td>1.574600e+01</td>\n",
              "      <td>1.793000e+02</td>\n",
              "      <td>...</td>\n",
              "      <td>2.051000e+03</td>\n",
              "      <td>1.530500e+04</td>\n",
              "      <td>2.617545e+05</td>\n",
              "      <td>69620.000000</td>\n",
              "      <td>3.279110</td>\n",
              "      <td>13101.000000</td>\n",
              "      <td>1.074800e+07</td>\n",
              "      <td>1.776100e+03</td>\n",
              "      <td>1.668000e+02</td>\n",
              "      <td>2.433500e+02</td>\n",
              "    </tr>\n",
              "    <tr>\n",
              "      <th>25%</th>\n",
              "      <td>294.50000</td>\n",
              "      <td>1964.000000</td>\n",
              "      <td>6.493725e+03</td>\n",
              "      <td>1.006890e+04</td>\n",
              "      <td>2.227875e+03</td>\n",
              "      <td>1.904000</td>\n",
              "      <td>9.240000</td>\n",
              "      <td>1.941800e+04</td>\n",
              "      <td>1.507300e+04</td>\n",
              "      <td>3.398616e+04</td>\n",
              "      <td>...</td>\n",
              "      <td>6.343700e+04</td>\n",
              "      <td>5.541375e+04</td>\n",
              "      <td>5.148981e+05</td>\n",
              "      <td>85553.000000</td>\n",
              "      <td>22.199082</td>\n",
              "      <td>28952.500000</td>\n",
              "      <td>3.221400e+07</td>\n",
              "      <td>9.961600e+03</td>\n",
              "      <td>3.323500e+04</td>\n",
              "      <td>9.707600e+04</td>\n",
              "    </tr>\n",
              "    <tr>\n",
              "      <th>50%</th>\n",
              "      <td>588.00000</td>\n",
              "      <td>1980.000000</td>\n",
              "      <td>3.594450e+04</td>\n",
              "      <td>8.724400e+04</td>\n",
              "      <td>1.301700e+04</td>\n",
              "      <td>3.283427</td>\n",
              "      <td>51.630000</td>\n",
              "      <td>1.808000e+05</td>\n",
              "      <td>1.066650e+05</td>\n",
              "      <td>1.033649e+05</td>\n",
              "      <td>...</td>\n",
              "      <td>2.652500e+05</td>\n",
              "      <td>1.198715e+05</td>\n",
              "      <td>1.093388e+06</td>\n",
              "      <td>100822.000000</td>\n",
              "      <td>40.503248</td>\n",
              "      <td>50016.500000</td>\n",
              "      <td>1.299235e+08</td>\n",
              "      <td>8.706950e+04</td>\n",
              "      <td>1.021640e+05</td>\n",
              "      <td>4.295000e+05</td>\n",
              "    </tr>\n",
              "    <tr>\n",
              "      <th>75%</th>\n",
              "      <td>881.50000</td>\n",
              "      <td>1995.000000</td>\n",
              "      <td>2.858835e+05</td>\n",
              "      <td>3.543640e+05</td>\n",
              "      <td>1.525658e+05</td>\n",
              "      <td>5.099766</td>\n",
              "      <td>79.790000</td>\n",
              "      <td>1.740450e+06</td>\n",
              "      <td>6.957710e+05</td>\n",
              "      <td>4.413502e+05</td>\n",
              "      <td>...</td>\n",
              "      <td>3.123550e+06</td>\n",
              "      <td>8.130648e+05</td>\n",
              "      <td>3.399964e+06</td>\n",
              "      <td>118257.000000</td>\n",
              "      <td>61.473961</td>\n",
              "      <td>126926.250000</td>\n",
              "      <td>9.128128e+08</td>\n",
              "      <td>3.506410e+05</td>\n",
              "      <td>4.296940e+05</td>\n",
              "      <td>1.579190e+06</td>\n",
              "    </tr>\n",
              "    <tr>\n",
              "      <th>max</th>\n",
              "      <td>1175.00000</td>\n",
              "      <td>2009.000000</td>\n",
              "      <td>8.699630e+08</td>\n",
              "      <td>1.275299e+06</td>\n",
              "      <td>1.446110e+06</td>\n",
              "      <td>27.329193</td>\n",
              "      <td>113.140000</td>\n",
              "      <td>5.080005e+08</td>\n",
              "      <td>5.158050e+08</td>\n",
              "      <td>4.940320e+08</td>\n",
              "      <td>...</td>\n",
              "      <td>9.330700e+07</td>\n",
              "      <td>1.950085e+06</td>\n",
              "      <td>6.760830e+06</td>\n",
              "      <td>149616.000000</td>\n",
              "      <td>247.481942</td>\n",
              "      <td>189751.000000</td>\n",
              "      <td>2.047810e+09</td>\n",
              "      <td>1.275299e+06</td>\n",
              "      <td>4.940320e+08</td>\n",
              "      <td>5.605110e+08</td>\n",
              "    </tr>\n",
              "  </tbody>\n",
              "</table>\n",
              "<p>8 rows × 26 columns</p>\n",
              "</div>"
            ],
            "text/plain": [
              "       Unnamed: 0         Year          Debt          RGDP           GDP  \\\n",
              "count  1175.00000  1175.000000  8.220000e+02  2.070000e+02  1.280000e+02   \n",
              "mean    588.00000  1979.254468  1.593857e+07  2.369173e+05  1.957611e+05   \n",
              "std     339.33759    17.993206  9.113481e+07  3.229943e+05  3.693084e+05   \n",
              "min       1.00000  1946.000000  7.300000e+00  1.776100e+03  2.222000e+02   \n",
              "25%     294.50000  1964.000000  6.493725e+03  1.006890e+04  2.227875e+03   \n",
              "50%     588.00000  1980.000000  3.594450e+04  8.724400e+04  1.301700e+04   \n",
              "75%     881.50000  1995.000000  2.858835e+05  3.543640e+05  1.525658e+05   \n",
              "max    1175.00000  2009.000000  8.699630e+08  1.275299e+06  1.446110e+06   \n",
              "\n",
              "             dRGDP        GDPI          GDP1          GDP2         RGDP1  \\\n",
              "count  1175.000000   93.000000  7.730000e+02  8.850000e+02  8.140000e+02   \n",
              "mean      3.413757   50.341802  1.444103e+07  1.812497e+07  1.401169e+07   \n",
              "std       2.992940   35.832360  6.444771e+07  8.181769e+07  6.658949e+07   \n",
              "min     -10.942159    3.560000  3.944800e+01  1.574600e+01  1.793000e+02   \n",
              "25%       1.904000    9.240000  1.941800e+04  1.507300e+04  3.398616e+04   \n",
              "50%       3.283427   51.630000  1.808000e+05  1.066650e+05  1.033649e+05   \n",
              "75%       5.099766   79.790000  1.740450e+06  6.957710e+05  4.413502e+05   \n",
              "max      27.329193  113.140000  5.080005e+08  5.158050e+08  4.940320e+08   \n",
              "\n",
              "           ...            Debtalt       GDP2alt        GDPalt       RGDP2alt  \\\n",
              "count      ...       1.180000e+02  8.800000e+01  4.400000e+01      31.000000   \n",
              "mean       ...       1.006665e+07  4.450790e+05  2.079659e+06  103333.064516   \n",
              "std        ...       2.569075e+07  5.716624e+05  1.951114e+06   23514.613796   \n",
              "min        ...       2.051000e+03  1.530500e+04  2.617545e+05   69620.000000   \n",
              "25%        ...       6.343700e+04  5.541375e+04  5.148981e+05   85553.000000   \n",
              "50%        ...       2.652500e+05  1.198715e+05  1.093388e+06  100822.000000   \n",
              "75%        ...       3.123550e+06  8.130648e+05  3.399964e+06  118257.000000   \n",
              "max        ...       9.330700e+07  1.950085e+06  6.760830e+06  149616.000000   \n",
              "\n",
              "           debtgdp           GDP3           GNI         lRGDP        lRGDP1  \\\n",
              "count  1175.000000      30.000000  4.800000e+01  2.100000e+02  8.290000e+02   \n",
              "mean     46.320173   76891.133333  5.156239e+08  2.351587e+05  1.382204e+07   \n",
              "std      32.346159   58596.977435  6.478610e+08  3.213443e+05  6.602166e+07   \n",
              "min       3.279110   13101.000000  1.074800e+07  1.776100e+03  1.668000e+02   \n",
              "25%      22.199082   28952.500000  3.221400e+07  9.961600e+03  3.323500e+04   \n",
              "50%      40.503248   50016.500000  1.299235e+08  8.706950e+04  1.021640e+05   \n",
              "75%      61.473961  126926.250000  9.128128e+08  3.506410e+05  4.296940e+05   \n",
              "max     247.481942  189751.000000  2.047810e+09  1.275299e+06  4.940320e+08   \n",
              "\n",
              "             lRGDP2  \n",
              "count  4.350000e+02  \n",
              "mean   3.047113e+07  \n",
              "std    1.134847e+08  \n",
              "min    2.433500e+02  \n",
              "25%    9.707600e+04  \n",
              "50%    4.295000e+05  \n",
              "75%    1.579190e+06  \n",
              "max    5.605110e+08  \n",
              "\n",
              "[8 rows x 26 columns]"
            ]
          },
          "metadata": {
            "tags": []
          },
          "execution_count": 11
        }
      ]
    },
    {
      "metadata": {
        "id": "K7GMIsPlsT7A",
        "colab_type": "code",
        "colab": {
          "base_uri": "https://localhost:8080/",
          "height": 361
        },
        "outputId": "7c029252-7fcc-4136-f816-ff2c3c13dc18"
      },
      "cell_type": "code",
      "source": [
        "X = RR[\"dRGDP\"]\n",
        "y = RR[\"GDP\"]\n",
        "\n",
        "\n",
        "model = sm.OLS(y, X).fit()\n",
        "predictions = model.predict(X)\n",
        "model.summary()"
      ],
      "execution_count": 31,
      "outputs": [
        {
          "output_type": "execute_result",
          "data": {
            "text/html": [
              "<table class=\"simpletable\">\n",
              "<caption>OLS Regression Results</caption>\n",
              "<tr>\n",
              "  <th>Dep. Variable:</th>           <td>GDP</td>       <th>  R-squared:         </th> <td>     nan</td>\n",
              "</tr>\n",
              "<tr>\n",
              "  <th>Model:</th>                   <td>OLS</td>       <th>  Adj. R-squared:    </th> <td>     nan</td>\n",
              "</tr>\n",
              "<tr>\n",
              "  <th>Method:</th>             <td>Least Squares</td>  <th>  F-statistic:       </th> <td>     nan</td>\n",
              "</tr>\n",
              "<tr>\n",
              "  <th>Date:</th>             <td>Mon, 05 Nov 2018</td> <th>  Prob (F-statistic):</th>  <td>   nan</td> \n",
              "</tr>\n",
              "<tr>\n",
              "  <th>Time:</th>                 <td>21:05:14</td>     <th>  Log-Likelihood:    </th> <td>     nan</td>\n",
              "</tr>\n",
              "<tr>\n",
              "  <th>No. Observations:</th>      <td>  1175</td>      <th>  AIC:               </th> <td>     nan</td>\n",
              "</tr>\n",
              "<tr>\n",
              "  <th>Df Residuals:</th>          <td>  1174</td>      <th>  BIC:               </th> <td>     nan</td>\n",
              "</tr>\n",
              "<tr>\n",
              "  <th>Df Model:</th>              <td>     1</td>      <th>                     </th>     <td> </td>   \n",
              "</tr>\n",
              "<tr>\n",
              "  <th>Covariance Type:</th>      <td>nonrobust</td>    <th>                     </th>     <td> </td>   \n",
              "</tr>\n",
              "</table>\n",
              "<table class=\"simpletable\">\n",
              "<tr>\n",
              "    <td></td>       <th>coef</th>     <th>std err</th>      <th>t</th>      <th>P>|t|</th>  <th>[0.025</th>    <th>0.975]</th>  \n",
              "</tr>\n",
              "<tr>\n",
              "  <th>dRGDP</th> <td>       nan</td> <td>      nan</td> <td>      nan</td> <td>   nan</td> <td>      nan</td> <td>      nan</td>\n",
              "</tr>\n",
              "</table>\n",
              "<table class=\"simpletable\">\n",
              "<tr>\n",
              "  <th>Omnibus:</th>       <td>   nan</td> <th>  Durbin-Watson:     </th> <td>     nan</td>\n",
              "</tr>\n",
              "<tr>\n",
              "  <th>Prob(Omnibus):</th> <td>   nan</td> <th>  Jarque-Bera (JB):  </th> <td>     nan</td>\n",
              "</tr>\n",
              "<tr>\n",
              "  <th>Skew:</th>          <td>   nan</td> <th>  Prob(JB):          </th> <td>     nan</td>\n",
              "</tr>\n",
              "<tr>\n",
              "  <th>Kurtosis:</th>      <td>   nan</td> <th>  Cond. No.          </th> <td>    1.00</td>\n",
              "</tr>\n",
              "</table>"
            ],
            "text/plain": [
              "<class 'statsmodels.iolib.summary.Summary'>\n",
              "\"\"\"\n",
              "                            OLS Regression Results                            \n",
              "==============================================================================\n",
              "Dep. Variable:                    GDP   R-squared:                         nan\n",
              "Model:                            OLS   Adj. R-squared:                    nan\n",
              "Method:                 Least Squares   F-statistic:                       nan\n",
              "Date:                Mon, 05 Nov 2018   Prob (F-statistic):                nan\n",
              "Time:                        21:05:14   Log-Likelihood:                    nan\n",
              "No. Observations:                1175   AIC:                               nan\n",
              "Df Residuals:                    1174   BIC:                               nan\n",
              "Df Model:                           1                                         \n",
              "Covariance Type:            nonrobust                                         \n",
              "==============================================================================\n",
              "                 coef    std err          t      P>|t|      [0.025      0.975]\n",
              "------------------------------------------------------------------------------\n",
              "dRGDP             nan        nan        nan        nan         nan         nan\n",
              "==============================================================================\n",
              "Omnibus:                          nan   Durbin-Watson:                     nan\n",
              "Prob(Omnibus):                    nan   Jarque-Bera (JB):                  nan\n",
              "Skew:                             nan   Prob(JB):                          nan\n",
              "Kurtosis:                         nan   Cond. No.                         1.00\n",
              "==============================================================================\n",
              "\n",
              "Warnings:\n",
              "[1] Standard Errors assume that the covariance matrix of the errors is correctly specified.\n",
              "\"\"\""
            ]
          },
          "metadata": {
            "tags": []
          },
          "execution_count": 31
        }
      ]
    },
    {
      "metadata": {
        "id": "EunzFxxhhuol",
        "colab_type": "code",
        "colab": {
          "base_uri": "https://localhost:8080/",
          "height": 361
        },
        "outputId": "b5711752-f90f-48fe-a913-7dd7808d2a2e"
      },
      "cell_type": "code",
      "source": [
        "##redid a regression model between debt and gdp\n",
        "\n",
        "X = RR[\"dRGDP\"]\n",
        "y = RR[\"Debt\"]\n",
        "\n",
        "\n",
        "model = sm.OLS(y, X).fit()\n",
        "predictions = model.predict(X)\n",
        "model.summary()"
      ],
      "execution_count": 12,
      "outputs": [
        {
          "output_type": "execute_result",
          "data": {
            "text/html": [
              "<table class=\"simpletable\">\n",
              "<caption>OLS Regression Results</caption>\n",
              "<tr>\n",
              "  <th>Dep. Variable:</th>          <td>Debt</td>       <th>  R-squared:         </th> <td>     nan</td>\n",
              "</tr>\n",
              "<tr>\n",
              "  <th>Model:</th>                   <td>OLS</td>       <th>  Adj. R-squared:    </th> <td>     nan</td>\n",
              "</tr>\n",
              "<tr>\n",
              "  <th>Method:</th>             <td>Least Squares</td>  <th>  F-statistic:       </th> <td>     nan</td>\n",
              "</tr>\n",
              "<tr>\n",
              "  <th>Date:</th>             <td>Mon, 05 Nov 2018</td> <th>  Prob (F-statistic):</th>  <td>   nan</td> \n",
              "</tr>\n",
              "<tr>\n",
              "  <th>Time:</th>                 <td>20:27:14</td>     <th>  Log-Likelihood:    </th> <td>     nan</td>\n",
              "</tr>\n",
              "<tr>\n",
              "  <th>No. Observations:</th>      <td>  1175</td>      <th>  AIC:               </th> <td>     nan</td>\n",
              "</tr>\n",
              "<tr>\n",
              "  <th>Df Residuals:</th>          <td>  1174</td>      <th>  BIC:               </th> <td>     nan</td>\n",
              "</tr>\n",
              "<tr>\n",
              "  <th>Df Model:</th>              <td>     1</td>      <th>                     </th>     <td> </td>   \n",
              "</tr>\n",
              "<tr>\n",
              "  <th>Covariance Type:</th>      <td>nonrobust</td>    <th>                     </th>     <td> </td>   \n",
              "</tr>\n",
              "</table>\n",
              "<table class=\"simpletable\">\n",
              "<tr>\n",
              "    <td></td>       <th>coef</th>     <th>std err</th>      <th>t</th>      <th>P>|t|</th>  <th>[0.025</th>    <th>0.975]</th>  \n",
              "</tr>\n",
              "<tr>\n",
              "  <th>dRGDP</th> <td>       nan</td> <td>      nan</td> <td>      nan</td> <td>   nan</td> <td>      nan</td> <td>      nan</td>\n",
              "</tr>\n",
              "</table>\n",
              "<table class=\"simpletable\">\n",
              "<tr>\n",
              "  <th>Omnibus:</th>       <td>   nan</td> <th>  Durbin-Watson:     </th> <td>     nan</td>\n",
              "</tr>\n",
              "<tr>\n",
              "  <th>Prob(Omnibus):</th> <td>   nan</td> <th>  Jarque-Bera (JB):  </th> <td>     nan</td>\n",
              "</tr>\n",
              "<tr>\n",
              "  <th>Skew:</th>          <td>   nan</td> <th>  Prob(JB):          </th> <td>     nan</td>\n",
              "</tr>\n",
              "<tr>\n",
              "  <th>Kurtosis:</th>      <td>   nan</td> <th>  Cond. No.          </th> <td>    1.00</td>\n",
              "</tr>\n",
              "</table>"
            ],
            "text/plain": [
              "<class 'statsmodels.iolib.summary.Summary'>\n",
              "\"\"\"\n",
              "                            OLS Regression Results                            \n",
              "==============================================================================\n",
              "Dep. Variable:                   Debt   R-squared:                         nan\n",
              "Model:                            OLS   Adj. R-squared:                    nan\n",
              "Method:                 Least Squares   F-statistic:                       nan\n",
              "Date:                Mon, 05 Nov 2018   Prob (F-statistic):                nan\n",
              "Time:                        20:27:14   Log-Likelihood:                    nan\n",
              "No. Observations:                1175   AIC:                               nan\n",
              "Df Residuals:                    1174   BIC:                               nan\n",
              "Df Model:                           1                                         \n",
              "Covariance Type:            nonrobust                                         \n",
              "==============================================================================\n",
              "                 coef    std err          t      P>|t|      [0.025      0.975]\n",
              "------------------------------------------------------------------------------\n",
              "dRGDP             nan        nan        nan        nan         nan         nan\n",
              "==============================================================================\n",
              "Omnibus:                          nan   Durbin-Watson:                     nan\n",
              "Prob(Omnibus):                    nan   Jarque-Bera (JB):                  nan\n",
              "Skew:                             nan   Prob(JB):                          nan\n",
              "Kurtosis:                         nan   Cond. No.                         1.00\n",
              "==============================================================================\n",
              "\n",
              "Warnings:\n",
              "[1] Standard Errors assume that the covariance matrix of the errors is correctly specified.\n",
              "\"\"\""
            ]
          },
          "metadata": {
            "tags": []
          },
          "execution_count": 12
        }
      ]
    },
    {
      "metadata": {
        "id": "rCopnfbUj2lT",
        "colab_type": "code",
        "colab": {}
      },
      "cell_type": "code",
      "source": [
        "import seaborn as sns"
      ],
      "execution_count": 0,
      "outputs": []
    },
    {
      "metadata": {
        "id": "EKwGZ2mAldIU",
        "colab_type": "code",
        "colab": {}
      },
      "cell_type": "code",
      "source": [
        "from sklearn import linear_model"
      ],
      "execution_count": 0,
      "outputs": []
    },
    {
      "metadata": {
        "id": "cRuAa3V3mY-4",
        "colab_type": "code",
        "colab": {}
      },
      "cell_type": "code",
      "source": [
        "labels = [\"0-30%\",\"30-60%\",\"60-90%\",\"Above 90%\"]\n",
        "dat = [np.array(RR.dRGDP) for x in labels]\n",
        "print(sm.graphics.violinplot(dat, labels=labels))\n",
        "\n"
      ],
      "execution_count": 0,
      "outputs": []
    },
    {
      "metadata": {
        "id": "HRSOxq-IqloZ",
        "colab_type": "code",
        "colab": {}
      },
      "cell_type": "code",
      "source": [
        "RR.Country.groupby([RR.Country, RR.dRGDP]).size().unstack().sum() #ah so this is why the chart is flat"
      ],
      "execution_count": 0,
      "outputs": []
    },
    {
      "metadata": {
        "id": "BT9gdS7viJZa",
        "colab_type": "text"
      },
      "cell_type": "markdown",
      "source": [
        "### Assignment questions\n",
        "\n",
        "After you've worked on some code, answer the following questions in this text block:\n",
        "\n",
        "1.  Describe in a paragraph of text what you did and why, as if you were writing an email to somebody interested but nontechnical.\n",
        "\n",
        "2.  What was the most challenging part of what you did?\n",
        "\n",
        "3.  What was the most interesting thing you learned?\n",
        "\n",
        "4.  What area would you like to explore with more time?\n",
        "\n",
        "\n"
      ]
    },
    {
      "metadata": {
        "id": "d-_wvJtRgnZ_",
        "colab_type": "code",
        "colab": {}
      },
      "cell_type": "code",
      "source": [
        "##because this paper was done in python 2 and seemed to be a bit more spread out\n",
        "##and hard to read, i tried to use operations that made the data a bit clearer to read.\n",
        "\n",
        "##basically looking up the differences between python 2 and 3, as well as reading \n",
        "##this and trying to figure out the point of each part and whether i should bother\n",
        "##with that particular part.\n",
        "\n",
        "##I learned that you can use these OLS models to visulaize the numbers and use them together\n",
        "##with charts to make the data much more readable, while still being intuitive\n",
        "\n",
        "##I would definitely like to do more to see how to cut through these, and find out how to make that violinchart work, since it gives me a flat readout this time"
      ],
      "execution_count": 0,
      "outputs": []
    },
    {
      "metadata": {
        "id": "_XXg2crAipwP",
        "colab_type": "text"
      },
      "cell_type": "markdown",
      "source": [
        "## Stretch goals and resources\n",
        "\n",
        "Following are *optional* things for you to take a look at. Focus on the above assignment first, and make sure to commit and push your changes to GitHub (and since this is the first assignment of the sprint, open a PR as well).\n",
        "\n",
        "- [pandas documentation](https://pandas.pydata.org/pandas-docs/stable/)\n",
        "- [scikit-learn documentation](http://scikit-learn.org/stable/documentation.html)\n",
        "- [matplotlib documentation](https://matplotlib.org/contents.html)\n",
        "- [Awesome Data Science](https://github.com/bulutyazilim/awesome-datascience) - a list of many types of DS resources\n",
        "\n",
        "Stretch goals:\n",
        "\n",
        "- Find and read blogs, walkthroughs, and other examples of people working through cool things with data science - and share with your classmates!\n",
        "- Write a blog post (Medium is a popular place to publish) introducing yourself as somebody learning data science, and talking about what you've learned already and what you're excited to learn more about"
      ]
    }
  ]
}