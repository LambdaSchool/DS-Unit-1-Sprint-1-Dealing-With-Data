{
  "nbformat": 4,
  "nbformat_minor": 0,
  "metadata": {
    "colab": {
      "name": "LS_DS_111_A_First_Look_at_Data.ipynb",
      "version": "0.3.2",
      "provenance": [],
      "collapsed_sections": [],
      "include_colab_link": true
    },
    "kernelspec": {
      "name": "python3",
      "display_name": "Python 3"
    }
  },
  "cells": [
    {
      "cell_type": "markdown",
      "metadata": {
        "id": "view-in-github",
        "colab_type": "text"
      },
      "source": [
        "<a href=\"https://colab.research.google.com/github/nickwinters1/DS-Unit-1-Sprint-1-Dealing-With-Data/blob/master/LS_DS_111_A_First_Look_at_Data.ipynb\" target=\"_parent\"><img src=\"https://colab.research.google.com/assets/colab-badge.svg\" alt=\"Open In Colab\"/></a>"
      ]
    },
    {
      "metadata": {
        "id": "Okfr_uhwhS1X",
        "colab_type": "text"
      },
      "cell_type": "markdown",
      "source": [
        "# Lambda School Data Science - A First Look at Data\n",
        "\n"
      ]
    },
    {
      "metadata": {
        "id": "9dtJETFRhnOG",
        "colab_type": "text"
      },
      "cell_type": "markdown",
      "source": [
        "## Lecture - let's explore Python DS libraries and examples!\n",
        "\n",
        "The Python Data Science ecosystem is huge. You've seen some of the big pieces - pandas, scikit-learn, matplotlib. What parts do you want to see more of?"
      ]
    },
    {
      "metadata": {
        "id": "WiBkgmPJhmhE",
        "colab_type": "code",
        "colab": {}
      },
      "cell_type": "code",
      "source": [
        "# TODO - we'll be doing this live, taking requests\n",
        "# and reproducing what it is to look up and learn things\n",
        "# I would like to see more of Numpy!"
      ],
      "execution_count": 0,
      "outputs": []
    },
    {
      "metadata": {
        "id": "lOqaPds9huME",
        "colab_type": "text"
      },
      "cell_type": "markdown",
      "source": [
        "## Assignment - now it's your turn\n",
        "\n",
        "Pick at least one Python DS library, and using documentation/examples reproduce in this notebook something cool. It's OK if you don't fully understand it or get it 100% working, but do put in effort and look things up."
      ]
    },
    {
      "metadata": {
        "id": "TGUS79cOhPWj",
        "colab_type": "code",
        "colab": {
          "base_uri": "https://localhost:8080/",
          "height": 204
        },
        "outputId": "ef0aecbb-6892-4719-b40a-5c453ec64d28"
      },
      "cell_type": "code",
      "source": [
        "# TODO - your code here\n",
        "# Use what we did live in lecture as an example\n",
        "import pandas as pd\n",
        "import matplotlib.pyplot as plt\n",
        "df = pd.read_json(\"https://data.smcgov.org/resource/mb6a-xn89.json\")\n",
        "\n",
        "df.head(5)"
      ],
      "execution_count": 7,
      "outputs": [
        {
          "output_type": "execute_result",
          "data": {
            "text/html": [
              "<div>\n",
              "<style scoped>\n",
              "    .dataframe tbody tr th:only-of-type {\n",
              "        vertical-align: middle;\n",
              "    }\n",
              "\n",
              "    .dataframe tbody tr th {\n",
              "        vertical-align: top;\n",
              "    }\n",
              "\n",
              "    .dataframe thead th {\n",
              "        text-align: right;\n",
              "    }\n",
              "</style>\n",
              "<table border=\"1\" class=\"dataframe\">\n",
              "  <thead>\n",
              "    <tr style=\"text-align: right;\">\n",
              "      <th></th>\n",
              "      <th>bachelor_s_degree_or_higher</th>\n",
              "      <th>geography</th>\n",
              "      <th>geography_type</th>\n",
              "      <th>high_school_graduate</th>\n",
              "      <th>less_than_high_school_graduate</th>\n",
              "      <th>location_1</th>\n",
              "      <th>some_college_or_associate_s_degree</th>\n",
              "      <th>year</th>\n",
              "    </tr>\n",
              "  </thead>\n",
              "  <tbody>\n",
              "    <tr>\n",
              "      <th>0</th>\n",
              "      <td>3.5</td>\n",
              "      <td>Atherton</td>\n",
              "      <td>Town</td>\n",
              "      <td>12.3</td>\n",
              "      <td>13.6</td>\n",
              "      <td>{'latitude': '37.458611', 'needs_recoding': Fa...</td>\n",
              "      <td>2.7</td>\n",
              "      <td>2014-01-01T00:00:00</td>\n",
              "    </tr>\n",
              "    <tr>\n",
              "      <th>1</th>\n",
              "      <td>3.6</td>\n",
              "      <td>Belmont</td>\n",
              "      <td>City</td>\n",
              "      <td>5.9</td>\n",
              "      <td>20.9</td>\n",
              "      <td>{'latitude': '37.518056', 'needs_recoding': Fa...</td>\n",
              "      <td>5.0</td>\n",
              "      <td>2014-01-01T00:00:00</td>\n",
              "    </tr>\n",
              "    <tr>\n",
              "      <th>2</th>\n",
              "      <td>3.3</td>\n",
              "      <td>Brisbane</td>\n",
              "      <td>City</td>\n",
              "      <td>1.7</td>\n",
              "      <td>0.0</td>\n",
              "      <td>{'latitude': '37.680833', 'needs_recoding': Fa...</td>\n",
              "      <td>11.5</td>\n",
              "      <td>2014-01-01T00:00:00</td>\n",
              "    </tr>\n",
              "    <tr>\n",
              "      <th>3</th>\n",
              "      <td>2.4</td>\n",
              "      <td>Broadmoor</td>\n",
              "      <td>CDP</td>\n",
              "      <td>8.0</td>\n",
              "      <td>21.2</td>\n",
              "      <td>{'latitude': '37.6925', 'needs_recoding': Fals...</td>\n",
              "      <td>3.0</td>\n",
              "      <td>2014-01-01T00:00:00</td>\n",
              "    </tr>\n",
              "    <tr>\n",
              "      <th>4</th>\n",
              "      <td>3.7</td>\n",
              "      <td>Burlingame</td>\n",
              "      <td>City</td>\n",
              "      <td>8.3</td>\n",
              "      <td>20.1</td>\n",
              "      <td>{'latitude': '37.583333', 'needs_recoding': Fa...</td>\n",
              "      <td>7.4</td>\n",
              "      <td>2014-01-01T00:00:00</td>\n",
              "    </tr>\n",
              "  </tbody>\n",
              "</table>\n",
              "</div>"
            ],
            "text/plain": [
              "   bachelor_s_degree_or_higher   geography geography_type  \\\n",
              "0                          3.5    Atherton           Town   \n",
              "1                          3.6     Belmont           City   \n",
              "2                          3.3    Brisbane           City   \n",
              "3                          2.4   Broadmoor            CDP   \n",
              "4                          3.7  Burlingame           City   \n",
              "\n",
              "   high_school_graduate  less_than_high_school_graduate  \\\n",
              "0                  12.3                            13.6   \n",
              "1                   5.9                            20.9   \n",
              "2                   1.7                             0.0   \n",
              "3                   8.0                            21.2   \n",
              "4                   8.3                            20.1   \n",
              "\n",
              "                                          location_1  \\\n",
              "0  {'latitude': '37.458611', 'needs_recoding': Fa...   \n",
              "1  {'latitude': '37.518056', 'needs_recoding': Fa...   \n",
              "2  {'latitude': '37.680833', 'needs_recoding': Fa...   \n",
              "3  {'latitude': '37.6925', 'needs_recoding': Fals...   \n",
              "4  {'latitude': '37.583333', 'needs_recoding': Fa...   \n",
              "\n",
              "   some_college_or_associate_s_degree                 year  \n",
              "0                                 2.7  2014-01-01T00:00:00  \n",
              "1                                 5.0  2014-01-01T00:00:00  \n",
              "2                                11.5  2014-01-01T00:00:00  \n",
              "3                                 3.0  2014-01-01T00:00:00  \n",
              "4                                 7.4  2014-01-01T00:00:00  "
            ]
          },
          "metadata": {
            "tags": []
          },
          "execution_count": 7
        }
      ]
    },
    {
      "metadata": {
        "id": "bGgG37vhfFd3",
        "colab_type": "code",
        "colab": {
          "base_uri": "https://localhost:8080/",
          "height": 392
        },
        "outputId": "2f478427-f2de-4d58-d639-058a9da92107"
      },
      "cell_type": "code",
      "source": [
        "df.plot(kind='bar',x='geography_type',y='high_school_graduate')"
      ],
      "execution_count": 23,
      "outputs": [
        {
          "output_type": "execute_result",
          "data": {
            "text/plain": [
              "<matplotlib.axes._subplots.AxesSubplot at 0x7f8e792aed68>"
            ]
          },
          "metadata": {
            "tags": []
          },
          "execution_count": 23
        },
        {
          "output_type": "display_data",
          "data": {
            "image/png": "[encoded data removed]",
            "text/plain": [
              "<Figure size 576x396 with 1 Axes>"
            ]
          },
          "metadata": {
            "tags": []
          }
        }
      ]
    },
    {
      "metadata": {
        "id": "BT9gdS7viJZa",
        "colab_type": "text"
      },
      "cell_type": "markdown",
      "source": [
        "### Assignment questions\n",
        "\n",
        "After you've worked on some code, answer the following questions in this text block:\n",
        "\n",
        "1. Describe in a paragraph of text what you did and why, as if you were writing an email to somebody interested but nontechnical.\n",
        "\n",
        "\n",
        "In the bar graph above, I compared the number of highschool graudates to the geography type, to see the graduation outcome between Cities, Towns, and CDP's.\n",
        "\n",
        "2.  What was the most challenging part of what you did?\n",
        "\n",
        "\n",
        "Ploting the two columms I used in the bar graph.\n",
        "\n",
        "3.  What was the most interesting thing you learned?\n",
        "\n",
        "\n",
        "That CDP's had the least amount of graduates\n",
        "\n",
        "4.  What area would you like to explore with more time?\n",
        "\n",
        "\n",
        "I would like to further understand the reason why CDP's have the least amount of gradutes, maybe comparing mulitple graphs would give a better understanding why!"
      ]
    },
    {
      "metadata": {
        "id": "_XXg2crAipwP",
        "colab_type": "text"
      },
      "cell_type": "markdown",
      "source": [
        "## Stretch goals and resources\n",
        "\n",
        "Following are *optional* things for you to take a look at. Focus on the above assignment first, and make sure to commit and push your changes to GitHub (and since this is the first assignment of the sprint, open a PR as well).\n",
        "\n",
        "- [pandas documentation](https://pandas.pydata.org/pandas-docs/stable/)\n",
        "- [scikit-learn documentation](http://scikit-learn.org/stable/documentation.html)\n",
        "- [matplotlib documentation](https://matplotlib.org/contents.html)\n",
        "- [Awesome Data Science](https://github.com/bulutyazilim/awesome-datascience) - a list of many types of DS resources\n",
        "\n",
        "Stretch goals:\n",
        "\n",
        "- Find and read blogs, walkthroughs, and other examples of people working through cool things with data science - and share with your classmates!\n",
        "- Write a blog post (Medium is a popular place to publish) introducing yourself as somebody learning data science, and talking about what you've learned already and what you're excited to learn more about.\n",
        "\n",
        "\n",
        "Here is the link to my Medium post! https://medium.com/@nicklauswinters/data-science-introductory-7c65cba737f1"
      ]
    },
    {
      "metadata": {
        "id": "P_LTN48EhqBt",
        "colab_type": "code",
        "colab": {}
      },
      "cell_type": "code",
      "source": [
        ""
      ],
      "execution_count": 0,
      "outputs": []
    },
    {
      "metadata": {
        "id": "b6p98v4QhqRx",
        "colab_type": "code",
        "colab": {}
      },
      "cell_type": "code",
      "source": [
        ""
      ],
      "execution_count": 0,
      "outputs": []
    }
  ]
}