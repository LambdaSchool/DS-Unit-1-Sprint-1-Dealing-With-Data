{
  "nbformat": 4,
  "nbformat_minor": 0,
  "metadata": {
    "colab": {
      "name": "LS_DS_111_A_First_Look_at_Data.ipynb",
      "version": "0.3.2",
      "provenance": [],
      "collapsed_sections": [],
      "include_colab_link": true
    },
    "kernelspec": {
      "name": "python3",
      "display_name": "Python 3"
    }
  },
  "cells": [
    {
      "cell_type": "markdown",
      "metadata": {
        "id": "view-in-github",
        "colab_type": "text"
      },
      "source": [
        "<a href=\"https://colab.research.google.com/github/Nutritiousfacts/DS-Unit-1-Sprint-1-Dealing-With-Data/blob/master/LS_DS_111_A_First_Look_at_Data.ipynb\" target=\"_parent\"><img src=\"https://colab.research.google.com/assets/colab-badge.svg\" alt=\"Open In Colab\"/></a>"
      ]
    },
    {
      "cell_type": "markdown",
      "metadata": {
        "id": "Okfr_uhwhS1X",
        "colab_type": "text"
      },
      "source": [
        "# Lambda School Data Science - A First Look at Data\n",
        "\n"
      ]
    },
    {
      "cell_type": "markdown",
      "metadata": {
        "id": "Dq620xnvd0--",
        "colab_type": "text"
      },
      "source": [
        ""
      ]
    },
    {
      "cell_type": "markdown",
      "metadata": {
        "id": "9dtJETFRhnOG",
        "colab_type": "text"
      },
      "source": [
        "## Lecture - let's explore Python DS libraries and examples!\n",
        "\n",
        "The Python Data Science ecosystem is huge. You've seen some of the big pieces - pandas, scikit-learn, matplotlib. What parts do you want to see more of?"
      ]
    },
    {
      "cell_type": "markdown",
      "metadata": {
        "id": "JLXMR7pQd7bc",
        "colab_type": "text"
      },
      "source": [
        ""
      ]
    },
    {
      "cell_type": "code",
      "metadata": {
        "id": "WiBkgmPJhmhE",
        "colab_type": "code",
        "colab": {}
      },
      "source": [
        "# TODO - we'll be doing this live, taking requests\n",
        "# and reproducing what it is to look up and learn things"
      ],
      "execution_count": 0,
      "outputs": []
    },
    {
      "cell_type": "markdown",
      "metadata": {
        "id": "yRmNNm7Hd8wE",
        "colab_type": "text"
      },
      "source": [
        ""
      ]
    },
    {
      "cell_type": "markdown",
      "metadata": {
        "id": "lOqaPds9huME",
        "colab_type": "text"
      },
      "source": [
        "## Assignment - now it's your turn\n",
        "\n",
        "Pick at least one Python DS library, and using documentation/examples reproduce in this notebook something cool. It's OK if you don't fully understand it or get it 100% working, but do put in effort and look things up."
      ]
    },
    {
      "cell_type": "markdown",
      "metadata": {
        "id": "AQ6I6gXld28t",
        "colab_type": "text"
      },
      "source": [
        ""
      ]
    },
    {
      "cell_type": "code",
      "metadata": {
        "id": "TGUS79cOhPWj",
        "colab_type": "code",
        "colab": {}
      },
      "source": [
        "# TODO - your code here\n",
        "# Use what we did live in lecture as an example\n",
        "%matplotlib inline\n",
        "import matplotlib.pyplot as plt\n",
        "import numpy as np\n",
        "import scipy\n",
        "import os\n",
        "\n",
        "# Graphing helper function\n",
        "def setup_graph(title='', x_label='', y_label='', fig_size=None):\n",
        "    fig = plt.figure()\n",
        "    if fig_size != None:\n",
        "        fig.set_size_inches(fig_size[0], fig_size[1])\n",
        "    ax = fig.add_subplot(111)\n",
        "    ax.set_title(title)\n",
        "    ax.set_xlabel(x_label)\n",
        "    ax.set_ylabel(y_label)\n",
        "    \n",
        "def show_wave(frequency):\n",
        "  freq = frequency \n",
        "  amplitude = 1\n",
        "  time_to_plot = 2 \n",
        "  sample_rate = 100 \n",
        "  num_samples = sample_rate * time_to_plot\n",
        "\n",
        "  t = np.linspace(0, time_to_plot, num_samples)\n",
        "  signal = [amplitude * np.sin(freq * i * 2*np.pi) for i in t] # Explain the 2*pi\n",
        "\n",
        "  setup_graph(x_label='time (in seconds)', y_label='amplitude', title='time domain')\n",
        "  plt.plot(t, signal)\n",
        "  \n",
        "#          C       D       E      F     G       A      B      C\n",
        "target = [261.63,293.66,329.63,349.23,392.00,440.00,493.88,523.25]\n",
        "note = [\"C\",\"D\",\"E\",\"F\",\"G\",\"A\",\"B\",\"C\"]\n",
        "for freq in range(len(target)):\n",
        "  show_wave(target[freq])\n",
        "  print(\"The frequency of the note\",note[freq],\"is\",target[freq])\n",
        "  \n",
        "  \n",
        "  \n"
      ],
      "execution_count": 0,
      "outputs": []
    },
    {
      "cell_type": "markdown",
      "metadata": {
        "id": "zerpXpOZeA_G",
        "colab_type": "text"
      },
      "source": [
        "From the notebook that I used, the topic was the Nature of waves and there was some code that let you visualize a sound wave based on its frequency. Since musical notes are just different frequencies, that we percieve as pitch, I put the frequency visualization code into a function called show_wave. The list \"target\" holds the frequency of each not from C4 to C5 and the \"note\" list holds the note name. I used a for loop to show the note name and frequency and below that are the visualizations in the same order."
      ]
    },
    {
      "cell_type": "markdown",
      "metadata": {
        "id": "UasD0jpdv4oG",
        "colab_type": "text"
      },
      "source": [
        "The most challenging part was reading the original code to figure out what it was doing so that I could use it in my own code."
      ]
    },
    {
      "cell_type": "markdown",
      "metadata": {
        "id": "syq_4P_3wd4y",
        "colab_type": "text"
      },
      "source": [
        "The most interesting thing that I learned was how different frequencies look when theyre graphed, and also the math that makes these visualizations possible"
      ]
    },
    {
      "cell_type": "markdown",
      "metadata": {
        "id": "GIBqxsTVySbb",
        "colab_type": "text"
      },
      "source": [
        "Something that I think  would be interesting to explore is to make a type of sound analyzer where you could play a sound or have continous audio input and it would visualize it and also display the frequency and if it matches the frequency of a note, it would also display which note its closest to."
      ]
    },
    {
      "cell_type": "markdown",
      "metadata": {
        "id": "BT9gdS7viJZa",
        "colab_type": "text"
      },
      "source": [
        "### Assignment questions\n",
        "\n",
        "After you've worked on some code, answer the following questions in this text block:\n",
        "\n",
        "1.  Describe in a paragraph of text what you did and why, as if you were writing an email to somebody interested but nontechnical.\n",
        "\n",
        "2.  What was the most challenging part of what you did?\n",
        "\n",
        "3.  What was the most interesting thing you learned?\n",
        "\n",
        "4.  What area would you like to explore with more time?\n",
        "\n",
        "\n"
      ]
    },
    {
      "cell_type": "markdown",
      "metadata": {
        "id": "_XXg2crAipwP",
        "colab_type": "text"
      },
      "source": [
        "## Stretch goals and resources\n",
        "\n",
        "Following are *optional* things for you to take a look at. Focus on the above assignment first, and make sure to commit and push your changes to GitHub (and since this is the first assignment of the sprint, open a PR as well).\n",
        "\n",
        "- [pandas documentation](https://pandas.pydata.org/pandas-docs/stable/)\n",
        "- [scikit-learn documentation](http://scikit-learn.org/stable/documentation.html)\n",
        "- [matplotlib documentation](https://matplotlib.org/contents.html)\n",
        "- [Awesome Data Science](https://github.com/bulutyazilim/awesome-datascience) - a list of many types of DS resources\n",
        "\n",
        "Stretch goals:\n",
        "\n",
        "- Find and read blogs, walkthroughs, and other examples of people working through cool things with data science - and share with your classmates!\n",
        "- Write a blog post (Medium is a popular place to publish) introducing yourself as somebody learning data science, and talking about what you've learned already and what you're excited to learn more about."
      ]
    }
  ]
}