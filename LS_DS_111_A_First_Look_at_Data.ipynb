{
  "nbformat": 4,
  "nbformat_minor": 0,
  "metadata": {
    "colab": {
      "name": "LS_DS_111_A_First_Look_at_Data.ipynb",
      "version": "0.3.2",
      "provenance": [],
      "include_colab_link": true
    },
    "kernelspec": {
      "name": "python3",
      "display_name": "Python 3"
    }
  },
  "cells": [
    {
      "cell_type": "markdown",
      "metadata": {
        "id": "view-in-github",
        "colab_type": "text"
      },
      "source": [
        "<a href=\"https://colab.research.google.com/github/yvishyst/DS-Unit-1-Sprint-1-Dealing-With-Data/blob/master/LS_DS_111_A_First_Look_at_Data.ipynb\" target=\"_parent\"><img src=\"https://colab.research.google.com/assets/colab-badge.svg\" alt=\"Open In Colab\"/></a>"
      ]
    },
    {
      "cell_type": "markdown",
      "metadata": {
        "id": "Okfr_uhwhS1X",
        "colab_type": "text"
      },
      "source": [
        "# Lambda School Data Science - A First Look at Data\n",
        "\n"
      ]
    },
    {
      "cell_type": "markdown",
      "metadata": {
        "id": "9dtJETFRhnOG",
        "colab_type": "text"
      },
      "source": [
        "## Lecture - let's explore Python DS libraries and examples!\n",
        "\n",
        "The Python Data Science ecosystem is huge. You've seen some of the big pieces - pandas, scikit-learn, matplotlib. What parts do you want to see more of?"
      ]
    },
    {
      "cell_type": "code",
      "metadata": {
        "id": "WiBkgmPJhmhE",
        "colab_type": "code",
        "colab": {}
      },
      "source": [
        "# TODO - we'll be doing this live, taking requests\n",
        "# and reproducing what it is to look up and learn things"
      ],
      "execution_count": 0,
      "outputs": []
    },
    {
      "cell_type": "markdown",
      "metadata": {
        "id": "lOqaPds9huME",
        "colab_type": "text"
      },
      "source": [
        "## Assignment - now it's your turn\n",
        "\n",
        "Pick at least one Python DS library, and using documentation/examples reproduce in this notebook something cool. It's OK if you don't fully understand it or get it 100% working, but do put in effort and look things up."
      ]
    },
    {
      "cell_type": "code",
      "metadata": {
        "id": "TGUS79cOhPWj",
        "colab_type": "code",
        "colab": {}
      },
      "source": [
        "import requests\n",
        "from bs4 import BeautifulSoup"
      ],
      "execution_count": 0,
      "outputs": []
    },
    {
      "cell_type": "code",
      "metadata": {
        "id": "l9U-TV9laTHh",
        "colab_type": "code",
        "colab": {}
      },
      "source": [
        "url = 'https://www.zerohedge.com'\n",
        "page = requests.get(url)"
      ],
      "execution_count": 0,
      "outputs": []
    },
    {
      "cell_type": "code",
      "metadata": {
        "id": "blYbPfnbavyU",
        "colab_type": "code",
        "colab": {
          "base_uri": "https://localhost:8080/",
          "height": 34
        },
        "outputId": "4179343d-5509-4293-8c41-92ff061c61ff"
      },
      "source": [
        "page"
      ],
      "execution_count": 34,
      "outputs": [
        {
          "output_type": "execute_result",
          "data": {
            "text/plain": [
              "<Response [200]>"
            ]
          },
          "metadata": {
            "tags": []
          },
          "execution_count": 34
        }
      ]
    },
    {
      "cell_type": "code",
      "metadata": {
        "id": "zJmFgEnbceel",
        "colab_type": "code",
        "colab": {}
      },
      "source": [
        "soup = BeautifulSoup(page.text,\"html.parser\")"
      ],
      "execution_count": 0,
      "outputs": []
    },
    {
      "cell_type": "code",
      "metadata": {
        "id": "FTzFZ5sodUAo",
        "colab_type": "code",
        "colab": {}
      },
      "source": [
        "newstags = soup.findAll(\"span\",{\"class\":\"rdf-meta hidden\"})\n",
        "newstags"
      ],
      "execution_count": 0,
      "outputs": []
    },
    {
      "cell_type": "code",
      "metadata": {
        "id": "rj9Gc1AIel5l",
        "colab_type": "code",
        "colab": {
          "base_uri": "https://localhost:8080/",
          "height": 392
        },
        "outputId": "28915f46-f01e-4543-8b21-136344ce0c47"
      },
      "source": [
        "newstags"
      ],
      "execution_count": 47,
      "outputs": [
        {
          "output_type": "execute_result",
          "data": {
            "text/plain": [
              "[<span class=\"rdf-meta hidden\" content=\"Carnage: Stocks Plunge Most In 2019 As China Sparks Global Turmoil\" property=\"schema:name\"></span>,\n",
              " <span class=\"rdf-meta hidden\" content=\"Violent Chaos Breaks Out In Hong Kong: Police Stations Set On Fire, Triads Beat Protesters, City Paralyzed\" property=\"schema:name\"></span>,\n",
              " <span class=\"rdf-meta hidden\" content=\"US Stocks, Bond Yields Extend Drop After-Hours\" property=\"schema:name\"></span>,\n",
              " <span class=\"rdf-meta hidden\" content=\"Into The Endgame Of The Current Expansion \" property=\"schema:name\"></span>,\n",
              " <span class=\"rdf-meta hidden\" content=\"Chicago Hospital Stops Accepting Gunshot Victims After Trauma Center Overwhelmed\" property=\"schema:name\"></span>,\n",
              " <span class=\"rdf-meta hidden\" content=\"Nothing Is Guaranteed\" property=\"schema:name\"></span>,\n",
              " <span class=\"rdf-meta hidden\" content=\"John McAfee Has Some Questions About This Weekend's Mass Shootings\" property=\"schema:name\"></span>,\n",
              " <span class=\"rdf-meta hidden\" content=\"4 Reasons To Expect Even More US-China Trade (And Currency) War Escalation\" property=\"schema:name\"></span>,\n",
              " <span class=\"rdf-meta hidden\" content='\"Mom And Pop\" Investors Crushed In ETF Rout' property=\"schema:name\"></span>,\n",
              " <span class=\"rdf-meta hidden\" content=\"When Teslas Crash, They Come Here For Auction\" property=\"schema:name\"></span>,\n",
              " <span class=\"rdf-meta hidden\" content=\"Dayton Shooter Was A Pro-Satan Leftist Who Supported Warren, Sanders, Antifa And Communism\" property=\"schema:name\"></span>,\n",
              " <span class=\"rdf-meta hidden\" content=\"Iran's Foreign Minister Confirms He Was Sanctioned For Rejecting Trump Invitation\" property=\"schema:name\"></span>,\n",
              " <span class=\"rdf-meta hidden\" content=\"Senior Moments: Biden Offers Condolences For 'Tragic Events In Houston And Michigan'; Trump Prays For Toledo\" property=\"schema:name\"></span>,\n",
              " <span class=\"rdf-meta hidden\" content='\"Who Needs Vacation Anyway\"' property=\"schema:name\"></span>,\n",
              " <span class=\"rdf-meta hidden\" content=\"Amazon Exposed For Illegally Squeezing Merchants As War With Walmart Heats Up\" property=\"schema:name\"></span>,\n",
              " <span class=\"rdf-meta hidden\" content='Trump Slams PBOC For Stealing \"Hundreds Of Billions Of Dollars\" With FX Manipulation' property=\"schema:name\"></span>,\n",
              " <span class=\"rdf-meta hidden\" content=\"If He's Tweeting It...\" property=\"schema:name\"></span>,\n",
              " <span class=\"rdf-meta hidden\" content=\"Gold Overtakes S&amp;P Year-To-Date As Dow Dumps 700 Points\" property=\"schema:name\"></span>,\n",
              " <span class=\"rdf-meta hidden\" content=\"Meanwhile... At The Democratic Socialists Of America Conference\" property=\"schema:name\"></span>,\n",
              " <span class=\"rdf-meta hidden\" content=\"Oil Price Correction Triggers Shale Meltdown\" property=\"schema:name\"></span>]"
            ]
          },
          "metadata": {
            "tags": []
          },
          "execution_count": 47
        }
      ]
    },
    {
      "cell_type": "code",
      "metadata": {
        "id": "07gtOHHHrRtW",
        "colab_type": "code",
        "colab": {
          "base_uri": "https://localhost:8080/",
          "height": 372
        },
        "outputId": "c24c99e4-5156-4f34-a56b-0af8ce33fc7b"
      },
      "source": [
        "for news in newstags:\n",
        "  print(news['content'])"
      ],
      "execution_count": 49,
      "outputs": [
        {
          "output_type": "stream",
          "text": [
            "Carnage: Stocks Plunge Most In 2019 As China Sparks Global Turmoil\n",
            "Violent Chaos Breaks Out In Hong Kong: Police Stations Set On Fire, Triads Beat Protesters, City Paralyzed\n",
            "US Stocks, Bond Yields Extend Drop After-Hours\n",
            "Into The Endgame Of The Current Expansion \n",
            "Chicago Hospital Stops Accepting Gunshot Victims After Trauma Center Overwhelmed\n",
            "Nothing Is Guaranteed\n",
            "John McAfee Has Some Questions About This Weekend's Mass Shootings\n",
            "4 Reasons To Expect Even More US-China Trade (And Currency) War Escalation\n",
            "\"Mom And Pop\" Investors Crushed In ETF Rout\n",
            "When Teslas Crash, They Come Here For Auction\n",
            "Dayton Shooter Was A Pro-Satan Leftist Who Supported Warren, Sanders, Antifa And Communism\n",
            "Iran's Foreign Minister Confirms He Was Sanctioned For Rejecting Trump Invitation\n",
            "Senior Moments: Biden Offers Condolences For 'Tragic Events In Houston And Michigan'; Trump Prays For Toledo\n",
            "\"Who Needs Vacation Anyway\"\n",
            "Amazon Exposed For Illegally Squeezing Merchants As War With Walmart Heats Up\n",
            "Trump Slams PBOC For Stealing \"Hundreds Of Billions Of Dollars\" With FX Manipulation\n",
            "If He's Tweeting It...\n",
            "Gold Overtakes S&P Year-To-Date As Dow Dumps 700 Points\n",
            "Meanwhile... At The Democratic Socialists Of America Conference\n",
            "Oil Price Correction Triggers Shale Meltdown\n"
          ],
          "name": "stdout"
        }
      ]
    },
    {
      "cell_type": "markdown",
      "metadata": {
        "id": "BT9gdS7viJZa",
        "colab_type": "text"
      },
      "source": [
        "### Assignment questions\n",
        "\n",
        "After you've worked on some code, answer the following questions in this text block:\n",
        "\n",
        "1.  Describe in a paragraph of text what you did and why, as if you were writing an email to somebody interested but nontechnical.\n",
        "\n",
        "2.  What was the most challenging part of what you did?\n",
        "\n",
        "3.  What was the most interesting thing you learned?\n",
        "\n",
        "4.  What area would you like to explore with more time?\n",
        "\n",
        "\n"
      ]
    },
    {
      "cell_type": "code",
      "metadata": {
        "id": "TQGZekHEaudq",
        "colab_type": "code",
        "colab": {}
      },
      "source": [
        ""
      ],
      "execution_count": 0,
      "outputs": []
    },
    {
      "cell_type": "markdown",
      "metadata": {
        "id": "4wdvQynVsJfY",
        "colab_type": "text"
      },
      "source": [
        "Today,  I looked at a jupyter notebook which was published to show how data can be scraped from web.\n",
        "\n",
        "The notebook talks about scraping data about a professor's rating using the library BeautifulSoup.\n",
        "\n",
        "For my assignment, I decided to scrap my favorite website \"www.zerohedge.com\" and find the headlines of the news article on the main page.\n",
        "\n",
        "For this used the BeautifulSoup library as mentioned in the notebook and went along the same way as done in the notebook\n",
        "\n",
        "\n",
        "The most challenging part of this assignment was to figure out how to extract the content headlines as the website used in the notebook was not similar to the website i was scraping. I had to try a lot of various methods to get the correct content.\n",
        "\n",
        "\n",
        "The interesting thing to learn was about the library, it seems to easy to scrap the website and get the exact data which we are looking for.\n",
        "\n",
        "With time, I want to scrap a finacial website where financial results are published in tabular format. As with datascience, i want to get the financial results of all companies and analyse the results using machine learning."
      ]
    },
    {
      "cell_type": "markdown",
      "metadata": {
        "id": "_XXg2crAipwP",
        "colab_type": "text"
      },
      "source": [
        "## Stretch goals and resources\n",
        "\n",
        "Following are *optional* things for you to take a look at. Focus on the above assignment first, and make sure to commit and push your changes to GitHub (and since this is the first assignment of the sprint, open a PR as well).\n",
        "\n",
        "- [pandas documentation](https://pandas.pydata.org/pandas-docs/stable/)\n",
        "- [scikit-learn documentation](http://scikit-learn.org/stable/documentation.html)\n",
        "- [matplotlib documentation](https://matplotlib.org/contents.html)\n",
        "- [Awesome Data Science](https://github.com/bulutyazilim/awesome-datascience) - a list of many types of DS resources\n",
        "\n",
        "Stretch goals:\n",
        "\n",
        "- Find and read blogs, walkthroughs, and other examples of people working through cool things with data science - and share with your classmates!\n",
        "- Write a blog post (Medium is a popular place to publish) introducing yourself as somebody learning data science, and talking about what you've learned already and what you're excited to learn more about."
      ]
    }
  ]
}