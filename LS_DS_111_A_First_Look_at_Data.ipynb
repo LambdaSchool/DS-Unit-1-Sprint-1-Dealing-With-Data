{
  "nbformat": 4,
  "nbformat_minor": 0,
  "metadata": {
    "colab": {
      "name": "LS_DS7_111_A_First_Look_at_Data.ipynb",
      "version": "0.3.2",
      "provenance": [],
      "collapsed_sections": [],
      "include_colab_link": true
    },
    "kernelspec": {
      "name": "python3",
      "display_name": "Python 3"
    }
  },
  "cells": [
    {
      "cell_type": "markdown",
      "metadata": {
        "id": "view-in-github",
        "colab_type": "text"
      },
      "source": [
        "<a href=\"https://colab.research.google.com/github/scottwmwork/DS-Unit-1-Sprint-1-Dealing-With-Data/blob/master/LS_DS_111_A_First_Look_at_Data.ipynb\" target=\"_parent\"><img src=\"https://colab.research.google.com/assets/colab-badge.svg\" alt=\"Open In Colab\"/></a>"
      ]
    },
    {
      "cell_type": "markdown",
      "metadata": {
        "id": "Okfr_uhwhS1X",
        "colab_type": "text"
      },
      "source": [
        "# Lambda School Data Science - A First Look at Data\n",
        "\n"
      ]
    },
    {
      "cell_type": "markdown",
      "metadata": {
        "id": "9dtJETFRhnOG",
        "colab_type": "text"
      },
      "source": [
        "## Lecture - let's explore Python DS libraries and examples!\n",
        "\n",
        "The Python Data Science ecosystem is huge. You've seen some of the big pieces - pandas, scikit-learn, matplotlib. What parts do you want to see more of?"
      ]
    },
    {
      "cell_type": "code",
      "metadata": {
        "id": "WiBkgmPJhmhE",
        "colab_type": "code",
        "colab": {}
      },
      "source": [
        "# TODO - we'll be doing this live, taking requests\n",
        "# and reproducing what it is to look up and learn things"
      ],
      "execution_count": 0,
      "outputs": []
    },
    {
      "cell_type": "markdown",
      "metadata": {
        "id": "lOqaPds9huME",
        "colab_type": "text"
      },
      "source": [
        "## Assignment - now it's your turn\n",
        "\n",
        "Pick at least one Python DS library, and using documentation/examples reproduce in this notebook something cool. It's OK if you don't fully understand it or get it 100% working, but do put in effort and look things up."
      ]
    },
    {
      "cell_type": "code",
      "metadata": {
        "id": "TGUS79cOhPWj",
        "colab_type": "code",
        "outputId": "a301135e-4fed-4e91-badf-4eee2a4391cc",
        "colab": {
          "base_uri": "https://localhost:8080/",
          "height": 363
        }
      },
      "source": [
        "# TODO - your code here\n",
        "# Use what we did live in lecture as an example (We did not get to the material!)\n",
        "\n",
        "#importing dataset of movies \n",
        "import matplotlib.pyplot as plt\n",
        "import pandas as pd\n",
        "import numpy as np\n",
        "df = pd.read_csv('https://raw.githubusercontent.com/scottwmwork/datasets/master/tmdb_5000_movies.csv')\n",
        "df['ones'] = np.ones(len(df.revenue)) # add column\n",
        "\n",
        "#the following are calculations to find the line of best fit\n",
        "X = df[['ones','budget']].as_matrix()         # creating len(df.ones) x len(df.budget) matrix\n",
        "Y = df[['revenue']].as_matrix().reshape(-1,1) # creating a len(df.revenue) x 1 matrix\n",
        "X_transpose = np.transpose(X)                 # transposing matrix\n",
        "X_transpose_X = np.matmul(X_transpose, X)     # multiplying matrices\n",
        "X_transpose_X_inv = np.linalg.inv(X_transpose_X) #inversing matrices\n",
        "result = np.matmul(X_transpose_X, X_transpose_X_inv) #multiplying matrices\n",
        "X_transpose_Y = np.matmul(X_transpose,Y)             #multiplying matrices\n",
        "beta = np.matmul(X_transpose_X_inv, X_transpose_Y)   #finding beta\n",
        "\n",
        "\n",
        "beta_0 = beta[0,0]\n",
        "beta_1 = beta[1,0]\n",
        "\n",
        "########################plot drawing###################################\n",
        "plt.scatter(df['budget'],df['revenue'])\n",
        "axes = plt.gca()\n",
        "x_vals = np.array(axes.get_xlim())\n",
        "y_vals = beta_0 + beta_1 * x_vals\n",
        "plt.plot(x_vals, y_vals, '--', color='r') #line of best fit\n",
        "plt.title('Correlation between Movie budget and revenue?')\n",
        "plt.scatter(df.budget,df.revenue)\n",
        "plt.xlabel('Movie Budget')\n",
        "plt.ylabel('Movie Revenue')\n",
        "plt.show()\n",
        "#######################################################################"
      ],
      "execution_count": 0,
      "outputs": [
        {
          "output_type": "stream",
          "text": [
            "/usr/local/lib/python3.6/dist-packages/ipykernel_launcher.py:8: FutureWarning: Method .as_matrix will be removed in a future version. Use .values instead.\n",
            "  \n",
            "/usr/local/lib/python3.6/dist-packages/ipykernel_launcher.py:9: FutureWarning: Method .as_matrix will be removed in a future version. Use .values instead.\n",
            "  if __name__ == '__main__':\n"
          ],
          "name": "stderr"
        },
        {
          "output_type": "display_data",
          "data": {
            "image/png": "[encoded data removed]",
            "text/plain": [
              "<Figure size 432x288 with 1 Axes>"
            ]
          },
          "metadata": {
            "tags": []
          }
        }
      ]
    },
    {
      "cell_type": "markdown",
      "metadata": {
        "id": "BT9gdS7viJZa",
        "colab_type": "text"
      },
      "source": [
        "### Assignment questions\n",
        "\n",
        "After you've worked on some code, answer the following questions in this text block:\n",
        "\n",
        "1.  Describe in a paragraph of text what you did and why, as if you were writing an email to somebody interested but nontechnical.\n",
        "\n",
        "  I imported a data set of movies that have come out in the past   several years and found a line of best fit between the revenue and budget of the movie, then created a scatter plot comparing them to see if there is a correlation that can be made to make a hypothesis.\n",
        "\n",
        "2.  What was the most challenging part of what you did?\n",
        "      \n",
        "It was challenging to calculate the betas for finding the best line of fit, but since I did something somewhat similar in the precourse, I was able to accomplish it. \n",
        "      \n",
        "\n",
        "3.  What was the most interesting thing you learned?\n",
        "      \n",
        "      I learned that the higher a movie budget has, the less likely it is to earn that money back in revenue or even earn profit\n",
        "\n",
        "4.  What area would you like to explore with more time?\n",
        "  \n",
        "I would like to find more correlations between multiple variables in order to make predictions.\n"
      ]
    },
    {
      "cell_type": "markdown",
      "metadata": {
        "id": "_XXg2crAipwP",
        "colab_type": "text"
      },
      "source": [
        "## Stretch goals and resources\n",
        "\n",
        "Following are *optional* things for you to take a look at. Focus on the above assignment first, and make sure to commit and push your changes to GitHub (and since this is the first assignment of the sprint, open a PR as well).\n",
        "\n",
        "- [pandas documentation](https://pandas.pydata.org/pandas-docs/stable/)\n",
        "- [scikit-learn documentation](http://scikit-learn.org/stable/documentation.html)\n",
        "- [matplotlib documentation](https://matplotlib.org/contents.html)\n",
        "- [Awesome Data Science](https://github.com/bulutyazilim/awesome-datascience) - a list of many types of DS resources\n",
        "\n",
        "Stretch goals:\n",
        "\n",
        "- Find and read blogs, walkthroughs, and other examples of people working through cool things with data science - and share with your classmates!\n",
        "- Write a blog post (Medium is a popular place to publish) introducing yourself as somebody learning data science, and talking about what you've learned already and what you're excited to learn more about."
      ]
    }
  ]
}