{
  "nbformat": 4,
  "nbformat_minor": 0,
  "metadata": {
    "colab": {
      "name": "LS_DS_111_A_First_Look_at_Data.ipynb",
      "version": "0.3.2",
      "provenance": [],
      "include_colab_link": true
    },
    "kernelspec": {
      "name": "python3",
      "display_name": "Python 3"
    }
  },
  "cells": [
    {
      "cell_type": "markdown",
      "metadata": {
        "id": "view-in-github",
        "colab_type": "text"
      },
      "source": [
        "<a href=\"https://colab.research.google.com/github/rgolds5/DS-Unit-1-Sprint-1-Dealing-With-Data/blob/master/LS_DS_111_A_First_Look_at_Data.ipynb\" target=\"_parent\"><img src=\"https://colab.research.google.com/assets/colab-badge.svg\" alt=\"Open In Colab\"/></a>"
      ]
    },
    {
      "metadata": {
        "id": "Okfr_uhwhS1X",
        "colab_type": "text"
      },
      "cell_type": "markdown",
      "source": [
        "# Lambda School Data Science - A First Look at Data\n",
        "\n"
      ]
    },
    {
      "metadata": {
        "id": "9dtJETFRhnOG",
        "colab_type": "text"
      },
      "cell_type": "markdown",
      "source": [
        "## Lecture - let's explore Python DS libraries and examples!\n",
        "\n",
        "The Python Data Science ecosystem is huge. You've seen some of the big pieces - pandas, scikit-learn, matplotlib. What parts do you want to see more of?"
      ]
    },
    {
      "metadata": {
        "id": "WiBkgmPJhmhE",
        "colab_type": "code",
        "colab": {}
      },
      "cell_type": "code",
      "source": [
        "# TODO - we'll be doing this live, taking requests\n",
        "# and reproducing what it is to look up and learn things\n",
        "\n",
        "import matplotlib.pyplot as plt  #import matplot lib\n",
        "%matplotlib inline   \n",
        "  #allows to show visuals in notebook"
      ],
      "execution_count": 0,
      "outputs": []
    },
    {
      "metadata": {
        "id": "ncScUlcXScQX",
        "colab_type": "code",
        "colab": {}
      },
      "cell_type": "code",
      "source": [
        "x = [1, 2, 3]\n",
        "y = [2, 4, 8]"
      ],
      "execution_count": 0,
      "outputs": []
    },
    {
      "metadata": {
        "id": "FXOvoWMiSjeg",
        "colab_type": "code",
        "outputId": "610dbcbf-0c02-4229-fbbf-97262815d67b",
        "colab": {
          "base_uri": "https://localhost:8080/",
          "height": 287
        }
      },
      "cell_type": "code",
      "source": [
        "plt.scatter(x, y)"
      ],
      "execution_count": 0,
      "outputs": [
        {
          "output_type": "execute_result",
          "data": {
            "text/plain": [
              "<matplotlib.collections.PathCollection at 0x7f0e373c67f0>"
            ]
          },
          "metadata": {
            "tags": []
          },
          "execution_count": 8
        },
        {
          "output_type": "display_data",
          "data": {
            "image/png": "[encoded data removed]",
            "text/plain": [
              "<Figure size 432x288 with 1 Axes>"
            ]
          },
          "metadata": {
            "tags": []
          }
        }
      ]
    },
    {
      "metadata": {
        "id": "heEigQ-9TFMd",
        "colab_type": "code",
        "colab": {}
      },
      "cell_type": "code",
      "source": [
        "import numpy as np\n",
        "import pandas as pd"
      ],
      "execution_count": 0,
      "outputs": []
    },
    {
      "metadata": {
        "id": "O3RlroQLTK-l",
        "colab_type": "code",
        "colab": {}
      },
      "cell_type": "code",
      "source": [
        "x = np.array([1, 2, 3]) #creating a numpy array"
      ],
      "execution_count": 0,
      "outputs": []
    },
    {
      "metadata": {
        "id": "4YFC-3pDTWEd",
        "colab_type": "code",
        "outputId": "7d0a8b2d-7c17-4e75-8f1c-c3256593c712",
        "colab": {
          "base_uri": "https://localhost:8080/",
          "height": 35
        }
      },
      "cell_type": "code",
      "source": [
        "y = 2*x   #creating an array based off the 'x' array\n",
        "y"
      ],
      "execution_count": 0,
      "outputs": [
        {
          "output_type": "execute_result",
          "data": {
            "text/plain": [
              "array([2, 4, 6])"
            ]
          },
          "metadata": {
            "tags": []
          },
          "execution_count": 11
        }
      ]
    },
    {
      "metadata": {
        "id": "0rk9WKTsTscI",
        "colab_type": "code",
        "outputId": "bce77de3-7429-4a4d-b70f-95f8abc76b92",
        "colab": {
          "base_uri": "https://localhost:8080/",
          "height": 287
        }
      },
      "cell_type": "code",
      "source": [
        "plt.scatter(x, y)"
      ],
      "execution_count": 0,
      "outputs": [
        {
          "output_type": "execute_result",
          "data": {
            "text/plain": [
              "<matplotlib.collections.PathCollection at 0x7f0e34b63f60>"
            ]
          },
          "metadata": {
            "tags": []
          },
          "execution_count": 12
        },
        {
          "output_type": "display_data",
          "data": {
            "image/png": "[encoded data removed]",
            "text/plain": [
              "<Figure size 432x288 with 1 Axes>"
            ]
          },
          "metadata": {
            "tags": []
          }
        }
      ]
    },
    {
      "metadata": {
        "id": "vH8IuPSLT7zv",
        "colab_type": "code",
        "outputId": "27e09e24-5a76-4981-9865-061e12748e42",
        "colab": {
          "base_uri": "https://localhost:8080/",
          "height": 128
        }
      },
      "cell_type": "code",
      "source": [
        "x = np.array([i for i in range(100)])\n",
        "x"
      ],
      "execution_count": 0,
      "outputs": [
        {
          "output_type": "execute_result",
          "data": {
            "text/plain": [
              "array([ 0,  1,  2,  3,  4,  5,  6,  7,  8,  9, 10, 11, 12, 13, 14, 15, 16,\n",
              "       17, 18, 19, 20, 21, 22, 23, 24, 25, 26, 27, 28, 29, 30, 31, 32, 33,\n",
              "       34, 35, 36, 37, 38, 39, 40, 41, 42, 43, 44, 45, 46, 47, 48, 49, 50,\n",
              "       51, 52, 53, 54, 55, 56, 57, 58, 59, 60, 61, 62, 63, 64, 65, 66, 67,\n",
              "       68, 69, 70, 71, 72, 73, 74, 75, 76, 77, 78, 79, 80, 81, 82, 83, 84,\n",
              "       85, 86, 87, 88, 89, 90, 91, 92, 93, 94, 95, 96, 97, 98, 99])"
            ]
          },
          "metadata": {
            "tags": []
          },
          "execution_count": 13
        }
      ]
    },
    {
      "metadata": {
        "id": "vabIpjQAUD30",
        "colab_type": "code",
        "outputId": "39450690-34ce-4a4b-c6bb-c7e0762ab973",
        "colab": {
          "base_uri": "https://localhost:8080/",
          "height": 165
        }
      },
      "cell_type": "code",
      "source": [
        "y = 3*x\n",
        "y"
      ],
      "execution_count": 0,
      "outputs": [
        {
          "output_type": "execute_result",
          "data": {
            "text/plain": [
              "array([  0,   3,   6,   9,  12,  15,  18,  21,  24,  27,  30,  33,  36,\n",
              "        39,  42,  45,  48,  51,  54,  57,  60,  63,  66,  69,  72,  75,\n",
              "        78,  81,  84,  87,  90,  93,  96,  99, 102, 105, 108, 111, 114,\n",
              "       117, 120, 123, 126, 129, 132, 135, 138, 141, 144, 147, 150, 153,\n",
              "       156, 159, 162, 165, 168, 171, 174, 177, 180, 183, 186, 189, 192,\n",
              "       195, 198, 201, 204, 207, 210, 213, 216, 219, 222, 225, 228, 231,\n",
              "       234, 237, 240, 243, 246, 249, 252, 255, 258, 261, 264, 267, 270,\n",
              "       273, 276, 279, 282, 285, 288, 291, 294, 297])"
            ]
          },
          "metadata": {
            "tags": []
          },
          "execution_count": 14
        }
      ]
    },
    {
      "metadata": {
        "id": "0RQQK0wDUJw7",
        "colab_type": "code",
        "outputId": "cbb26701-7c65-41a6-a40b-57e2a4e4febc",
        "colab": {
          "base_uri": "https://localhost:8080/",
          "height": 165
        }
      },
      "cell_type": "code",
      "source": [
        "x + y   #vectorized sum"
      ],
      "execution_count": 0,
      "outputs": [
        {
          "output_type": "execute_result",
          "data": {
            "text/plain": [
              "array([  0,   4,   8,  12,  16,  20,  24,  28,  32,  36,  40,  44,  48,\n",
              "        52,  56,  60,  64,  68,  72,  76,  80,  84,  88,  92,  96, 100,\n",
              "       104, 108, 112, 116, 120, 124, 128, 132, 136, 140, 144, 148, 152,\n",
              "       156, 160, 164, 168, 172, 176, 180, 184, 188, 192, 196, 200, 204,\n",
              "       208, 212, 216, 220, 224, 228, 232, 236, 240, 244, 248, 252, 256,\n",
              "       260, 264, 268, 272, 276, 280, 284, 288, 292, 296, 300, 304, 308,\n",
              "       312, 316, 320, 324, 328, 332, 336, 340, 344, 348, 352, 356, 360,\n",
              "       364, 368, 372, 376, 380, 384, 388, 392, 396])"
            ]
          },
          "metadata": {
            "tags": []
          },
          "execution_count": 16
        }
      ]
    },
    {
      "metadata": {
        "id": "4FcHpK9zUho7",
        "colab_type": "code",
        "colab": {}
      },
      "cell_type": "code",
      "source": [
        ""
      ],
      "execution_count": 0,
      "outputs": []
    },
    {
      "metadata": {
        "id": "QCznyL0VimGh",
        "colab_type": "code",
        "colab": {}
      },
      "cell_type": "code",
      "source": [
        "# Using Python, write code that quantifies the following data:\n",
        "\n",
        "# Grow Mart, Plant Depot, and Trees’R’Us are gardening stores in a city. \n",
        "# Grow Mart and Plant Depot were both founded in 1973, and Trees’R’Us was \n",
        "# founded in 1985. Grow Mart has annual revenue of $265k and expenses of $183k, \n",
        "# Plant Depot has $302k revenue and $240k expenses, and Trees’R’Us has $123k \n",
        "# revenue and $130k expenses.\n",
        "\n",
        "# In addition to describing the above, add a feature is_profitable. \n",
        "# What sort of feature should this be, and how should it be determined?"
      ],
      "execution_count": 0,
      "outputs": []
    },
    {
      "metadata": {
        "id": "tRRH9MFojJh-",
        "colab_type": "code",
        "outputId": "c5f7efe9-457f-4b48-e7a1-f8ddf7ac7984",
        "colab": {
          "base_uri": "https://localhost:8080/",
          "height": 183
        }
      },
      "cell_type": "code",
      "source": [
        "# Creating a list of gardening stores in which each observational unit of the \n",
        "# list is a dictionary containing the store's features.\n",
        "\n",
        "gardening_stores = [\n",
        "        {'name': 'Grow Mart', 'founded': 1973, 'revenue': 265000, \n",
        "         'expenses': 183000},\n",
        "         {'name': 'Plant Depot', 'founded': 1973, 'revenue': 302000,\n",
        "          'expenses': 240000},\n",
        "          {'name': \"Trees'R'Us\", 'founded': 1985, 'revenue': 123000,\n",
        "           'expenses': 130000},\n",
        "           ]\n",
        "\n",
        "# Printing the list of gardening stores.\n",
        "\n",
        "gardening_stores"
      ],
      "execution_count": 4,
      "outputs": [
        {
          "output_type": "execute_result",
          "data": {
            "text/plain": [
              "[{'expenses': 183000, 'founded': 1973, 'name': 'Grow Mart', 'revenue': 265000},\n",
              " {'expenses': 240000,\n",
              "  'founded': 1973,\n",
              "  'name': 'Plant Depot',\n",
              "  'revenue': 302000},\n",
              " {'expenses': 130000,\n",
              "  'founded': 1985,\n",
              "  'name': \"Trees'R'Us\",\n",
              "  'revenue': 123000}]"
            ]
          },
          "metadata": {
            "tags": []
          },
          "execution_count": 4
        }
      ]
    },
    {
      "metadata": {
        "id": "OVPCU6PvjeoA",
        "colab_type": "code",
        "outputId": "147f8517-edf8-43d0-9e20-a669205090d2",
        "colab": {
          "base_uri": "https://localhost:8080/",
          "height": 294
        }
      },
      "cell_type": "code",
      "source": [
        "# Defining a function that will loop through each store in a provided list and\n",
        "# determine whether or not the store is profitable and then add a boolean \n",
        "# feature to each store indicating so.\n",
        "\n",
        "\n",
        "def profitable(stores):   \n",
        "  for store in gardening_stores:   \n",
        "    if store['revenue'] > store['expenses']:  \n",
        "        store['is_profitable'] = True\n",
        "    elif store['revenue'] <= store['expenses']:\n",
        "        store['is_profitable'] = False\n",
        "        \n",
        "# Running the previously defined function on our gardening stores list\n",
        "\n",
        "profitable(gardening_stores)\n",
        "\n",
        "# Printing the updated list of gardening stores.\n",
        "\n",
        "gardening_stores"
      ],
      "execution_count": 5,
      "outputs": [
        {
          "output_type": "execute_result",
          "data": {
            "text/plain": [
              "[{'expenses': 183000,\n",
              "  'founded': 1973,\n",
              "  'is_profitable': True,\n",
              "  'name': 'Grow Mart',\n",
              "  'revenue': 265000},\n",
              " {'expenses': 240000,\n",
              "  'founded': 1973,\n",
              "  'is_profitable': True,\n",
              "  'name': 'Plant Depot',\n",
              "  'revenue': 302000},\n",
              " {'expenses': 130000,\n",
              "  'founded': 1985,\n",
              "  'is_profitable': False,\n",
              "  'name': \"Trees'R'Us\",\n",
              "  'revenue': 123000}]"
            ]
          },
          "metadata": {
            "tags": []
          },
          "execution_count": 5
        }
      ]
    },
    {
      "metadata": {
        "id": "kguGGsSazuF4",
        "colab_type": "code",
        "colab": {
          "base_uri": "https://localhost:8080/",
          "height": 144
        },
        "outputId": "d2536324-6dd4-47eb-cf7d-a744262646d9"
      },
      "cell_type": "code",
      "source": [
        "# Import pandas\n",
        "\n",
        "import pandas as pd\n",
        "\n",
        "# Convert the list of gardening stores to a pandas data frame specifiying the\n",
        "# order of the columns.\n",
        "\n",
        "gardening_stores = pd.DataFrame(gardening_stores[['name', 'founded', 'revenue',\n",
        "                                                 'expenses', 'is_profitable']])\n",
        "\n",
        "\n",
        "# Print out the updated list of stores.\n",
        "\n",
        "gardening_stores"
      ],
      "execution_count": 8,
      "outputs": [
        {
          "output_type": "execute_result",
          "data": {
            "text/html": [
              "<div>\n",
              "<style scoped>\n",
              "    .dataframe tbody tr th:only-of-type {\n",
              "        vertical-align: middle;\n",
              "    }\n",
              "\n",
              "    .dataframe tbody tr th {\n",
              "        vertical-align: top;\n",
              "    }\n",
              "\n",
              "    .dataframe thead th {\n",
              "        text-align: right;\n",
              "    }\n",
              "</style>\n",
              "<table border=\"1\" class=\"dataframe\">\n",
              "  <thead>\n",
              "    <tr style=\"text-align: right;\">\n",
              "      <th></th>\n",
              "      <th>name</th>\n",
              "      <th>founded</th>\n",
              "      <th>revenue</th>\n",
              "      <th>expenses</th>\n",
              "      <th>is_profitable</th>\n",
              "    </tr>\n",
              "  </thead>\n",
              "  <tbody>\n",
              "    <tr>\n",
              "      <th>0</th>\n",
              "      <td>Grow Mart</td>\n",
              "      <td>1973</td>\n",
              "      <td>265000</td>\n",
              "      <td>183000</td>\n",
              "      <td>True</td>\n",
              "    </tr>\n",
              "    <tr>\n",
              "      <th>1</th>\n",
              "      <td>Plant Depot</td>\n",
              "      <td>1973</td>\n",
              "      <td>302000</td>\n",
              "      <td>240000</td>\n",
              "      <td>True</td>\n",
              "    </tr>\n",
              "    <tr>\n",
              "      <th>2</th>\n",
              "      <td>Trees'R'Us</td>\n",
              "      <td>1985</td>\n",
              "      <td>123000</td>\n",
              "      <td>130000</td>\n",
              "      <td>False</td>\n",
              "    </tr>\n",
              "  </tbody>\n",
              "</table>\n",
              "</div>"
            ],
            "text/plain": [
              "          name  founded  revenue  expenses  is_profitable\n",
              "0    Grow Mart     1973   265000    183000           True\n",
              "1  Plant Depot     1973   302000    240000           True\n",
              "2   Trees'R'Us     1985   123000    130000          False"
            ]
          },
          "metadata": {
            "tags": []
          },
          "execution_count": 8
        }
      ]
    },
    {
      "metadata": {
        "id": "lOqaPds9huME",
        "colab_type": "text"
      },
      "cell_type": "markdown",
      "source": [
        "## Assignment - now it's your turn\n",
        "\n",
        "Pick at least one Python DS library, and using documentation/examples reproduce in this notebook something cool. It's OK if you don't fully understand it or get it 100% working, but do put in effort and look things up."
      ]
    },
    {
      "metadata": {
        "id": "TGUS79cOhPWj",
        "colab_type": "code",
        "colab": {}
      },
      "cell_type": "code",
      "source": [
        "# TODO - your code here\n",
        "# Use what we did live in lecture as an example"
      ],
      "execution_count": 0,
      "outputs": []
    },
    {
      "metadata": {
        "id": "BT9gdS7viJZa",
        "colab_type": "text"
      },
      "cell_type": "markdown",
      "source": [
        "### Assignment questions\n",
        "\n",
        "After you've worked on some code, answer the following questions in this text block:\n",
        "\n",
        "1.  Describe in a paragraph of text what you did and why, as if you were writing an email to somebody interested but nontechnical.\n",
        "\n",
        "2.  What was the most challenging part of what you did?\n",
        "\n",
        "3.  What was the most interesting thing you learned?\n",
        "\n",
        "4.  What area would you like to explore with more time?\n",
        "\n",
        "\n"
      ]
    },
    {
      "metadata": {
        "id": "_XXg2crAipwP",
        "colab_type": "text"
      },
      "cell_type": "markdown",
      "source": [
        "## Stretch goals and resources\n",
        "\n",
        "Following are *optional* things for you to take a look at. Focus on the above assignment first, and make sure to commit and push your changes to GitHub (and since this is the first assignment of the sprint, open a PR as well).\n",
        "\n",
        "- [pandas documentation](https://pandas.pydata.org/pandas-docs/stable/)\n",
        "- [scikit-learn documentation](http://scikit-learn.org/stable/documentation.html)\n",
        "- [matplotlib documentation](https://matplotlib.org/contents.html)\n",
        "- [Awesome Data Science](https://github.com/bulutyazilim/awesome-datascience) - a list of many types of DS resources\n",
        "\n",
        "Stretch goals:\n",
        "\n",
        "- Find and read blogs, walkthroughs, and other examples of people working through cool things with data science - and share with your classmates!\n",
        "- Write a blog post (Medium is a popular place to publish) introducing yourself as somebody learning data science, and talking about what you've learned already and what you're excited to learn more about."
      ]
    }
  ]
}