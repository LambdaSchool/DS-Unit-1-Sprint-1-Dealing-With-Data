{
  "nbformat": 4,
  "nbformat_minor": 0,
  "metadata": {
    "colab": {
      "name": "LS_DS_111_A_First_Look_at_Data.ipynb",
      "version": "0.3.2",
      "provenance": [],
      "include_colab_link": true
    },
    "kernelspec": {
      "name": "python3",
      "display_name": "Python 3"
    }
  },
  "cells": [
    {
      "cell_type": "markdown",
      "metadata": {
        "id": "view-in-github",
        "colab_type": "text"
      },
      "source": [
        "<a href=\"https://colab.research.google.com/github/elizabethts/DS-Unit-1-Sprint-1-Dealing-With-Data/blob/master/LS_DS_111_A_First_Look_at_Data.ipynb\" target=\"_parent\"><img src=\"https://colab.research.google.com/assets/colab-badge.svg\" alt=\"Open In Colab\"/></a>"
      ]
    },
    {
      "cell_type": "markdown",
      "metadata": {
        "id": "Okfr_uhwhS1X",
        "colab_type": "text"
      },
      "source": [
        "# Lambda School Data Science - A First Look at Data\n",
        "\n"
      ]
    },
    {
      "cell_type": "markdown",
      "metadata": {
        "id": "9dtJETFRhnOG",
        "colab_type": "text"
      },
      "source": [
        "## Lecture - let's explore Python DS libraries and examples!\n",
        "\n",
        "The Python Data Science ecosystem is huge. You've seen some of the big pieces - pandas, scikit-learn, matplotlib. What parts do you want to see more of?"
      ]
    },
    {
      "cell_type": "code",
      "metadata": {
        "id": "WiBkgmPJhmhE",
        "colab_type": "code",
        "colab": {}
      },
      "source": [
        "# TODO - we'll be doing this live, taking requests\n",
        "# and reproducing what it is to look up and learn things"
      ],
      "execution_count": 0,
      "outputs": []
    },
    {
      "cell_type": "markdown",
      "metadata": {
        "id": "lOqaPds9huME",
        "colab_type": "text"
      },
      "source": [
        "## Assignment - now it's your turn\n",
        "\n",
        "Pick at least one Python DS library, and using documentation/examples reproduce in this notebook something cool. It's OK if you don't fully understand it or get it 100% working, but do put in effort and look things up."
      ]
    },
    {
      "cell_type": "code",
      "metadata": {
        "id": "lmowluUTfCWe",
        "colab_type": "code",
        "outputId": "5fc43db2-adb2-41ec-e9eb-a5bd412a17d8",
        "colab": {
          "base_uri": "https://localhost:8080/",
          "height": 2890
        }
      },
      "source": [
        "!wget -c https://repo.continuum.io/miniconda/Miniconda3-latest-Linux-x86_64.sh\n",
        "!chmod +x Miniconda3-latest-Linux-x86_64.sh\n",
        "!time bash ./Miniconda3-latest-Linux-x86_64.sh -b -f -p /usr/local\n",
        "!time conda install -q -y -c conda-forge rdkit"
      ],
      "execution_count": 0,
      "outputs": [
        {
          "output_type": "stream",
          "text": [
            "--2019-05-30 20:44:24--  https://repo.continuum.io/miniconda/Miniconda3-latest-Linux-x86_64.sh\n",
            "Resolving repo.continuum.io (repo.continuum.io)... 104.18.201.79, 104.18.200.79, 2606:4700::6812:c94f, ...\n",
            "Connecting to repo.continuum.io (repo.continuum.io)|104.18.201.79|:443... connected.\n",
            "HTTP request sent, awaiting response... 416 Requested Range Not Satisfiable\n",
            "\n",
            "    The file is already fully retrieved; nothing to do.\n",
            "\n",
            "PREFIX=/usr/local\n",
            "reinstalling: python-3.7.3-h0371630_0 ...\n",
            "using -f (force) option\n",
            "Python 3.7.3\n",
            "reinstalling: ca-certificates-2019.1.23-0 ...\n",
            "using -f (force) option\n",
            "reinstalling: libgcc-ng-8.2.0-hdf63c60_1 ...\n",
            "using -f (force) option\n",
            "reinstalling: libstdcxx-ng-8.2.0-hdf63c60_1 ...\n",
            "using -f (force) option\n",
            "reinstalling: libffi-3.2.1-hd88cf55_4 ...\n",
            "using -f (force) option\n",
            "reinstalling: ncurses-6.1-he6710b0_1 ...\n",
            "using -f (force) option\n",
            "reinstalling: openssl-1.1.1b-h7b6447c_1 ...\n",
            "using -f (force) option\n",
            "reinstalling: xz-5.2.4-h14c3975_4 ...\n",
            "using -f (force) option\n",
            "reinstalling: yaml-0.1.7-had09818_2 ...\n",
            "using -f (force) option\n",
            "reinstalling: zlib-1.2.11-h7b6447c_3 ...\n",
            "using -f (force) option\n",
            "reinstalling: libedit-3.1.20181209-hc058e9b_0 ...\n",
            "using -f (force) option\n",
            "reinstalling: readline-7.0-h7b6447c_5 ...\n",
            "using -f (force) option\n",
            "reinstalling: tk-8.6.8-hbc83047_0 ...\n",
            "using -f (force) option\n",
            "reinstalling: sqlite-3.27.2-h7b6447c_0 ...\n",
            "using -f (force) option\n",
            "reinstalling: asn1crypto-0.24.0-py37_0 ...\n",
            "using -f (force) option\n",
            "reinstalling: certifi-2019.3.9-py37_0 ...\n",
            "using -f (force) option\n",
            "reinstalling: chardet-3.0.4-py37_1 ...\n",
            "using -f (force) option\n",
            "reinstalling: idna-2.8-py37_0 ...\n",
            "using -f (force) option\n",
            "reinstalling: pycosat-0.6.3-py37h14c3975_0 ...\n",
            "using -f (force) option\n",
            "reinstalling: pycparser-2.19-py37_0 ...\n",
            "using -f (force) option\n",
            "reinstalling: pysocks-1.6.8-py37_0 ...\n",
            "using -f (force) option\n",
            "reinstalling: ruamel_yaml-0.15.46-py37h14c3975_0 ...\n",
            "using -f (force) option\n",
            "reinstalling: six-1.12.0-py37_0 ...\n",
            "using -f (force) option\n",
            "reinstalling: cffi-1.12.2-py37h2e261b9_1 ...\n",
            "using -f (force) option\n",
            "reinstalling: setuptools-41.0.0-py37_0 ...\n",
            "using -f (force) option\n",
            "reinstalling: cryptography-2.6.1-py37h1ba5d50_0 ...\n",
            "using -f (force) option\n",
            "reinstalling: wheel-0.33.1-py37_0 ...\n",
            "using -f (force) option\n",
            "reinstalling: pip-19.0.3-py37_0 ...\n",
            "using -f (force) option\n",
            "reinstalling: pyopenssl-19.0.0-py37_0 ...\n",
            "using -f (force) option\n",
            "reinstalling: urllib3-1.24.1-py37_0 ...\n",
            "using -f (force) option\n",
            "reinstalling: requests-2.21.0-py37_0 ...\n",
            "using -f (force) option\n",
            "reinstalling: conda-4.6.14-py37_0 ...\n",
            "using -f (force) option\n",
            "using -f (force) option\n",
            "installation finished.\n",
            "WARNING:\n",
            "    You currently have a PYTHONPATH environment variable set. This may cause\n",
            "    unexpected behavior when running the Python interpreter in Miniconda3.\n",
            "    For best results, please verify that your PYTHONPATH only points to\n",
            "    directories of packages that are compatible with the Python interpreter\n",
            "    in Miniconda3: /usr/local\n",
            "\n",
            "real\t0m16.962s\n",
            "user\t0m15.180s\n",
            "sys\t0m3.265s\n",
            "Collecting package metadata: ...working... done\n",
            "Solving environment: ...working... done\n",
            "\n",
            "## Package Plan ##\n",
            "\n",
            "  environment location: /usr/local\n",
            "\n",
            "  added / updated specs:\n",
            "    - rdkit\n",
            "\n",
            "\n",
            "The following packages will be downloaded:\n",
            "\n",
            "    package                    |            build\n",
            "    ---------------------------|-----------------\n",
            "    certifi-2019.3.9           |           py37_0         149 KB  conda-forge\n",
            "    conda-4.6.14               |           py37_0         2.1 MB  conda-forge\n",
            "    ------------------------------------------------------------\n",
            "                                           Total:         2.2 MB\n",
            "\n",
            "The following NEW packages will be INSTALLED:\n",
            "\n",
            "  boost              conda-forge/linux-64::boost-1.70.0-py37hc8e3772_0\n",
            "  boost-cpp          conda-forge/linux-64::boost-cpp-1.70.0-ha2d47e9_0\n",
            "  bzip2              conda-forge/linux-64::bzip2-1.0.6-h14c3975_1002\n",
            "  cairo              conda-forge/linux-64::cairo-1.16.0-ha4e643d_1000\n",
            "  fontconfig         conda-forge/linux-64::fontconfig-2.13.1-he4413a7_1000\n",
            "  freetype           conda-forge/linux-64::freetype-2.10.0-he983fc9_0\n",
            "  gettext            conda-forge/linux-64::gettext-0.19.8.1-hc5be6a0_1002\n",
            "  glib               conda-forge/linux-64::glib-2.58.3-hf63aee3_1001\n",
            "  icu                conda-forge/linux-64::icu-58.2-hf484d3e_1000\n",
            "  jpeg               conda-forge/linux-64::jpeg-9c-h14c3975_1001\n",
            "  libblas            conda-forge/linux-64::libblas-3.8.0-10_openblas\n",
            "  libcblas           conda-forge/linux-64::libcblas-3.8.0-10_openblas\n",
            "  libgfortran-ng     pkgs/main/linux-64::libgfortran-ng-7.3.0-hdf63c60_0\n",
            "  libiconv           conda-forge/linux-64::libiconv-1.15-h516909a_1005\n",
            "  liblapack          conda-forge/linux-64::liblapack-3.8.0-10_openblas\n",
            "  libpng             conda-forge/linux-64::libpng-1.6.37-hed695b0_0\n",
            "  libtiff            conda-forge/linux-64::libtiff-4.0.10-h648cc4a_1001\n",
            "  libuuid            conda-forge/linux-64::libuuid-2.32.1-h14c3975_1000\n",
            "  libxcb             conda-forge/linux-64::libxcb-1.13-h14c3975_1002\n",
            "  libxml2            conda-forge/linux-64::libxml2-2.9.9-h13577e0_0\n",
            "  numpy              conda-forge/linux-64::numpy-1.16.4-py37h95a1406_0\n",
            "  olefile            conda-forge/noarch::olefile-0.46-py_0\n",
            "  openblas           conda-forge/linux-64::openblas-0.3.6-h6e990d7_2\n",
            "  pandas             conda-forge/linux-64::pandas-0.24.2-py37hb3f55d8_0\n",
            "  pcre               conda-forge/linux-64::pcre-8.41-hf484d3e_1003\n",
            "  pillow             conda-forge/linux-64::pillow-5.3.0-py37h00a061d_1000\n",
            "  pixman             conda-forge/linux-64::pixman-0.34.0-h14c3975_1003\n",
            "  pthread-stubs      conda-forge/linux-64::pthread-stubs-0.4-h14c3975_1001\n",
            "  pycairo            conda-forge/linux-64::pycairo-1.18.1-py37h438ddbb_0\n",
            "  python-dateutil    conda-forge/noarch::python-dateutil-2.8.0-py_0\n",
            "  pytz               conda-forge/noarch::pytz-2019.1-py_0\n",
            "  rdkit              conda-forge/linux-64::rdkit-2019.03.2-py37hb31dc5d_1\n",
            "  xorg-kbproto       conda-forge/linux-64::xorg-kbproto-1.0.7-h14c3975_1002\n",
            "  xorg-libice        conda-forge/linux-64::xorg-libice-1.0.9-h516909a_1004\n",
            "  xorg-libsm         conda-forge/linux-64::xorg-libsm-1.2.3-h84519dc_1000\n",
            "  xorg-libx11        conda-forge/linux-64::xorg-libx11-1.6.7-h14c3975_1000\n",
            "  xorg-libxau        conda-forge/linux-64::xorg-libxau-1.0.9-h14c3975_0\n",
            "  xorg-libxdmcp      conda-forge/linux-64::xorg-libxdmcp-1.1.3-h516909a_0\n",
            "  xorg-libxext       conda-forge/linux-64::xorg-libxext-1.3.4-h516909a_0\n",
            "  xorg-libxrender    conda-forge/linux-64::xorg-libxrender-0.9.10-h516909a_1002\n",
            "  xorg-renderproto   conda-forge/linux-64::xorg-renderproto-0.11.1-h14c3975_1002\n",
            "  xorg-xextproto     conda-forge/linux-64::xorg-xextproto-7.3.0-h14c3975_1002\n",
            "  xorg-xproto        conda-forge/linux-64::xorg-xproto-7.0.31-h14c3975_1007\n",
            "\n",
            "The following packages will be UPDATED:\n",
            "\n",
            "  ca-certificates    pkgs/main::ca-certificates-2019.1.23-0 --> conda-forge::ca-certificates-2019.3.9-hecc5488_0\n",
            "\n",
            "The following packages will be SUPERSEDED by a higher-priority channel:\n",
            "\n",
            "  certifi                                         pkgs/main --> conda-forge\n",
            "  conda                                           pkgs/main --> conda-forge\n",
            "  openssl              pkgs/main::openssl-1.1.1b-h7b6447c_1 --> conda-forge::openssl-1.1.1b-h14c3975_1\n",
            "\n",
            "\n",
            "Preparing transaction: ...working... done\n",
            "Verifying transaction: ...working... done\n",
            "Executing transaction: ...working... done\n",
            "\n",
            "real\t0m29.038s\n",
            "user\t0m25.933s\n",
            "sys\t0m2.556s\n"
          ],
          "name": "stdout"
        }
      ]
    },
    {
      "cell_type": "code",
      "metadata": {
        "id": "nchF5C9feXed",
        "colab_type": "code",
        "colab": {}
      },
      "source": [
        "%matplotlib inline\n",
        "import matplotlib.pyplot as plt\n",
        "import sys\n",
        "import os\n",
        "sys.path.append('/usr/local/lib/python3.7/site-packages/')"
      ],
      "execution_count": 0,
      "outputs": []
    },
    {
      "cell_type": "code",
      "metadata": {
        "id": "wy2gY44xei0Z",
        "colab_type": "code",
        "colab": {}
      },
      "source": [
        "from rdkit import Chem\n",
        "from rdkit.Chem.Draw import IPythonConsole\n",
        "from rdkit.Chem import AllChem\n",
        "from rdkit.Chem import Draw"
      ],
      "execution_count": 0,
      "outputs": []
    },
    {
      "cell_type": "code",
      "metadata": {
        "id": "9Ifru3spf0XH",
        "colab_type": "code",
        "outputId": "db76e072-225e-49de-bdd7-2c8087bd1d46",
        "colab": {
          "base_uri": "https://localhost:8080/",
          "height": 167
        }
      },
      "source": [
        "m = Chem.MolFromSmiles('COC1=CC2=C(NC(=N2)[S@@](=O)CC2=NC=C(C)C(OC)=C2C)C=C1')\n",
        "m"
      ],
      "execution_count": 0,
      "outputs": [
        {
          "output_type": "execute_result",
          "data": {
            "image/png": "[encoded data removed]",
            "text/plain": [
              "<rdkit.Chem.rdchem.Mol at 0x7f493db52260>"
            ]
          },
          "metadata": {
            "tags": []
          },
          "execution_count": 23
        }
      ]
    },
    {
      "cell_type": "markdown",
      "metadata": {
        "id": "BT9gdS7viJZa",
        "colab_type": "text"
      },
      "source": [
        "### Assignment questions\n",
        "\n",
        "After you've worked on some code, answer the following questions in this text block:\n",
        "\n",
        "1.  Describe in a paragraph of text what you did and why, as if you were writing an email to somebody interested but nontechnical.\n",
        "\n",
        "I first uploaded some tools to visualize chemical structures in my notebook. Then I created a variable that contains the chemical structure that I want to view. And finally I looked at the variable by just typing the variable name to actually view it.\n",
        "\n",
        "2.  What was the most challenging part of what you did?\n",
        "\n",
        "Figuring out how to import the rdkit library\n",
        "\n",
        "3.  What was the most interesting thing you learned?\n",
        "\n",
        "You can visualize chemical structures in python\n",
        "\n",
        "4.  What area would you like to explore with more time?\n",
        "\n",
        "Visualizations proteins in python and analyzing chemical structures and bonds\n",
        "\n"
      ]
    },
    {
      "cell_type": "markdown",
      "metadata": {
        "id": "_XXg2crAipwP",
        "colab_type": "text"
      },
      "source": [
        "## Stretch goals and resources\n",
        "\n",
        "Following are *optional* things for you to take a look at. Focus on the above assignment first, and make sure to commit and push your changes to GitHub (and since this is the first assignment of the sprint, open a PR as well).\n",
        "\n",
        "- [pandas documentation](https://pandas.pydata.org/pandas-docs/stable/)\n",
        "- [scikit-learn documentation](http://scikit-learn.org/stable/documentation.html)\n",
        "- [matplotlib documentation](https://matplotlib.org/contents.html)\n",
        "- [Awesome Data Science](https://github.com/bulutyazilim/awesome-datascience) - a list of many types of DS resources\n",
        "\n",
        "Stretch goals:\n",
        "\n",
        "- Find and read blogs, walkthroughs, and other examples of people working through cool things with data science - and share with your classmates!\n",
        "- Write a blog post (Medium is a popular place to publish) introducing yourself as somebody learning data science, and talking about what you've learned already and what you're excited to learn more about."
      ]
    }
  ]
}