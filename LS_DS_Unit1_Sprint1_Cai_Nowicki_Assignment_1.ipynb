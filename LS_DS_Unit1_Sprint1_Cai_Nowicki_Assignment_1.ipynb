{
  "nbformat": 4,
  "nbformat_minor": 0,
  "metadata": {
    "colab": {
      "name": "LS_DS_Unit1_Sprint1 - Cai Nowicki Assignment 1",
      "version": "0.3.2",
      "provenance": [],
      "collapsed_sections": [],
      "include_colab_link": true
    },
    "kernelspec": {
      "name": "python3",
      "display_name": "Python 3"
    }
  },
  "cells": [
    {
      "cell_type": "markdown",
      "metadata": {
        "id": "view-in-github",
        "colab_type": "text"
      },
      "source": [
        "<a href=\"https://colab.research.google.com/github/dunkelweizen/DS-Unit-1-Sprint-1-Dealing-With-Data/blob/master/LS_DS_Unit1_Sprint1_Cai_Nowicki_Assignment_1.ipynb\" target=\"_parent\"><img src=\"https://colab.research.google.com/assets/colab-badge.svg\" alt=\"Open In Colab\"/></a>"
      ]
    },
    {
      "cell_type": "markdown",
      "metadata": {
        "id": "Okfr_uhwhS1X",
        "colab_type": "text"
      },
      "source": [
        "# Lambda School Data Science - A First Look at Data\n",
        "\n"
      ]
    },
    {
      "cell_type": "markdown",
      "metadata": {
        "id": "9dtJETFRhnOG",
        "colab_type": "text"
      },
      "source": [
        "## Lecture - let's explore Python DS libraries and examples!\n",
        "\n",
        "The Python Data Science ecosystem is huge. You've seen some of the big pieces - pandas, scikit-learn, matplotlib. What parts do you want to see more of?"
      ]
    },
    {
      "cell_type": "code",
      "metadata": {
        "id": "WiBkgmPJhmhE",
        "colab_type": "code",
        "outputId": "66d8b653-9931-46ab-80e0-e57f805f2011",
        "colab": {
          "base_uri": "https://localhost:8080/",
          "height": 34
        }
      },
      "source": [
        "import numpy as np\n",
        "\n",
        "np.random.randint(0, 100, size=5)"
      ],
      "execution_count": 46,
      "outputs": [
        {
          "output_type": "execute_result",
          "data": {
            "text/plain": [
              "array([31, 59, 38, 99, 42])"
            ]
          },
          "metadata": {
            "tags": []
          },
          "execution_count": 46
        }
      ]
    },
    {
      "cell_type": "code",
      "metadata": {
        "id": "Jd170Fdu94Z7",
        "colab_type": "code",
        "colab": {
          "base_uri": "https://localhost:8080/",
          "height": 34
        },
        "outputId": "6146535a-d43c-46f6-e7a1-b8cb33f7e9a6"
      },
      "source": [
        "import matplotlib.pyplot as plt\n",
        "\n",
        "x = [1, 2, 3, 4]\n",
        "y = [2, 4, 6, 10]\n",
        "\n",
        "print(x, y)"
      ],
      "execution_count": 23,
      "outputs": [
        {
          "output_type": "stream",
          "text": [
            "[1, 2, 3, 4] [2, 4, 6, 10]\n"
          ],
          "name": "stdout"
        }
      ]
    },
    {
      "cell_type": "code",
      "metadata": {
        "id": "E2lC6Zrg-INi",
        "colab_type": "code",
        "colab": {
          "base_uri": "https://localhost:8080/",
          "height": 286
        },
        "outputId": "cc9b7c30-2704-4239-ac6a-b40dd16c335c"
      },
      "source": [
        "plt.plot(x, y)"
      ],
      "execution_count": 24,
      "outputs": [
        {
          "output_type": "execute_result",
          "data": {
            "text/plain": [
              "[<matplotlib.lines.Line2D at 0x7fa4f69e8438>]"
            ]
          },
          "metadata": {
            "tags": []
          },
          "execution_count": 24
        },
        {
          "output_type": "display_data",
          "data": {
            "image/png": "[encoded data removed]",
            "text/plain": [
              "<Figure size 432x288 with 1 Axes>"
            ]
          },
          "metadata": {
            "tags": []
          }
        }
      ]
    },
    {
      "cell_type": "code",
      "metadata": {
        "id": "DupnE6Dk-iKU",
        "colab_type": "code",
        "colab": {
          "base_uri": "https://localhost:8080/",
          "height": 173
        },
        "outputId": "8dadd43e-9d10-420b-9df6-bab10be88f80"
      },
      "source": [
        "import pandas as pd\n",
        "\n",
        "df = pd.DataFrame({'first_col':x, 'second_col': y})\n",
        "df"
      ],
      "execution_count": 37,
      "outputs": [
        {
          "output_type": "execute_result",
          "data": {
            "text/html": [
              "<div>\n",
              "<style scoped>\n",
              "    .dataframe tbody tr th:only-of-type {\n",
              "        vertical-align: middle;\n",
              "    }\n",
              "\n",
              "    .dataframe tbody tr th {\n",
              "        vertical-align: top;\n",
              "    }\n",
              "\n",
              "    .dataframe thead th {\n",
              "        text-align: right;\n",
              "    }\n",
              "</style>\n",
              "<table border=\"1\" class=\"dataframe\">\n",
              "  <thead>\n",
              "    <tr style=\"text-align: right;\">\n",
              "      <th></th>\n",
              "      <th>first_col</th>\n",
              "      <th>second_col</th>\n",
              "    </tr>\n",
              "  </thead>\n",
              "  <tbody>\n",
              "    <tr>\n",
              "      <th>0</th>\n",
              "      <td>1</td>\n",
              "      <td>2</td>\n",
              "    </tr>\n",
              "    <tr>\n",
              "      <th>1</th>\n",
              "      <td>2</td>\n",
              "      <td>4</td>\n",
              "    </tr>\n",
              "    <tr>\n",
              "      <th>2</th>\n",
              "      <td>3</td>\n",
              "      <td>6</td>\n",
              "    </tr>\n",
              "    <tr>\n",
              "      <th>3</th>\n",
              "      <td>4</td>\n",
              "      <td>10</td>\n",
              "    </tr>\n",
              "  </tbody>\n",
              "</table>\n",
              "</div>"
            ],
            "text/plain": [
              "   first_col  second_col\n",
              "0          1           2\n",
              "1          2           4\n",
              "2          3           6\n",
              "3          4          10"
            ]
          },
          "metadata": {
            "tags": []
          },
          "execution_count": 37
        }
      ]
    },
    {
      "cell_type": "code",
      "metadata": {
        "id": "BsGt2OjM__sv",
        "colab_type": "code",
        "colab": {}
      },
      "source": [
        "arr_1 = np.random.randint(low=0, high=100, size=10000)\n",
        "arr_2 = np.random.randint(low=0, high=100, size=10000)"
      ],
      "execution_count": 0,
      "outputs": []
    },
    {
      "cell_type": "code",
      "metadata": {
        "id": "o6-WwNPqAOTG",
        "colab_type": "code",
        "colab": {
          "base_uri": "https://localhost:8080/",
          "height": 34
        },
        "outputId": "3a613c2a-b1ce-4326-e371-fd3f9c582f9d"
      },
      "source": [
        "arr_1.shape"
      ],
      "execution_count": 32,
      "outputs": [
        {
          "output_type": "execute_result",
          "data": {
            "text/plain": [
              "(10000,)"
            ]
          },
          "metadata": {
            "tags": []
          },
          "execution_count": 32
        }
      ]
    },
    {
      "cell_type": "code",
      "metadata": {
        "id": "sonfV64NAXXs",
        "colab_type": "code",
        "colab": {
          "base_uri": "https://localhost:8080/",
          "height": 34
        },
        "outputId": "664742f8-1e73-4c40-86be-9501a49a2edb"
      },
      "source": [
        "arr_1 + arr_2"
      ],
      "execution_count": 33,
      "outputs": [
        {
          "output_type": "execute_result",
          "data": {
            "text/plain": [
              "array([ 64, 100,  97, ...,  18, 143,  81])"
            ]
          },
          "metadata": {
            "tags": []
          },
          "execution_count": 33
        }
      ]
    },
    {
      "cell_type": "code",
      "metadata": {
        "id": "63hwFn6LAdLH",
        "colab_type": "code",
        "colab": {
          "base_uri": "https://localhost:8080/",
          "height": 34
        },
        "outputId": "bd296f7c-369c-4a2e-cd47-3f4444c28878"
      },
      "source": [
        "x + y"
      ],
      "execution_count": 34,
      "outputs": [
        {
          "output_type": "execute_result",
          "data": {
            "text/plain": [
              "[1, 2, 3, 4, 2, 4, 6, 10]"
            ]
          },
          "metadata": {
            "tags": []
          },
          "execution_count": 34
        }
      ]
    },
    {
      "cell_type": "code",
      "metadata": {
        "id": "G9TXt-X3A-TI",
        "colab_type": "code",
        "colab": {
          "base_uri": "https://localhost:8080/",
          "height": 34
        },
        "outputId": "c5eba497-d699-44aa-c016-a5843875ed2b"
      },
      "source": [
        "type(arr_1)"
      ],
      "execution_count": 35,
      "outputs": [
        {
          "output_type": "execute_result",
          "data": {
            "text/plain": [
              "numpy.ndarray"
            ]
          },
          "metadata": {
            "tags": []
          },
          "execution_count": 35
        }
      ]
    },
    {
      "cell_type": "markdown",
      "metadata": {
        "id": "lOqaPds9huME",
        "colab_type": "text"
      },
      "source": [
        "## Assignment - now it's your turn\n",
        "\n",
        "Pick at least one Python DS library, and using documentation/examples reproduce in this notebook something cool. It's OK if you don't fully understand it or get it 100% working, but do put in effort and look things up."
      ]
    },
    {
      "cell_type": "code",
      "metadata": {
        "id": "TGUS79cOhPWj",
        "colab_type": "code",
        "colab": {
          "base_uri": "https://localhost:8080/",
          "height": 1000
        },
        "outputId": "b7e40931-d2c8-4661-fb1f-b70ad81ef576"
      },
      "source": [
        "import csv\n",
        "import pandas as pd\n",
        "import numpy as np\n",
        "import matplotlib.pyplot as plt\n",
        "url='https://archive.ics.uci.edu/ml/machine-learning-databases/00383/risk_factors_cervical_cancer.csv'\n",
        "cancer_df = pd.read_csv(url, sep=\",\")\n",
        "#rename columns to stuff easier to work with\n",
        "cancer_df = cancer_df.rename(columns={'First sexual intercourse': 'First_Intercourse', \n",
        "                                      'Number of sexual partners': 'Num_Partners',\n",
        "                                       'Num of pregnancies': 'Num_Preg',\n",
        "                                      'STDs (number)': 'Number_STDs', 'Dx:Cancer': \n",
        "                                      'HasCancer'})\n",
        "\n",
        "\n",
        "\n",
        "cancer_df = cancer_df[['Age', 'First_Intercourse', 'Num_Partners', 'Num_Preg',\n",
        "                      'Number_STDs', 'HasCancer']]\n",
        "\n",
        "cancer_df = cancer_df.replace('?', np.nan) #converts the ? into Null values\n",
        "cancer_df.HasCancer.astype(int) #makes boolean into int\n",
        "cancer_df.Num_Partners = cancer_df.Num_Partners.astype(float)\n",
        "cancer_df.Num_Preg = cancer_df.Num_Preg.astype(float)\n",
        "cancer_df.Number_STDs = cancer_df.Number_STDs.astype(float)\n",
        "cancer_df.First_Intercourse = cancer_df.First_Intercourse.astype(float)\n",
        "\n",
        "print(cancer_df.dtypes)  #checking that changing my dtypes worked\n",
        "print(cancer_df.mean())  \n",
        "\n",
        "cancer_df.Num_Partners = cancer_df.Num_Partners.fillna(2) #replaces NaN with 2 partners (average)\n",
        "cancer_df.Num_Preg = cancer_df.Num_Preg.fillna(2)  \n",
        "cancer_df.Number_STDs = cancer_df.Number_STDs.fillna(0)\n",
        "\n",
        "cancer_df.plot(kind='scatter', x='HasCancer', y='Age')\n",
        "plt.show()\n",
        "\n",
        "\n",
        "cancer_df.plot(kind='scatter', x='Number_STDs', y='HasCancer')\n",
        "plt.show()\n",
        "\n",
        "\n",
        "cancer_df = cancer_df.sort_values(by=['First_Intercourse'])\n",
        "cancer_df.plot(kind='scatter', x='First_Intercourse', y='Num_Partners')\n",
        "plt.show()"
      ],
      "execution_count": 8,
      "outputs": [
        {
          "output_type": "stream",
          "text": [
            "Age                    int64\n",
            "First_Intercourse    float64\n",
            "Num_Partners         float64\n",
            "Num_Preg             float64\n",
            "Number_STDs          float64\n",
            "HasCancer              int64\n",
            "dtype: object\n",
            "Age                  26.820513\n",
            "First_Intercourse    16.995300\n",
            "Num_Partners          2.527644\n",
            "Num_Preg              2.275561\n",
            "Number_STDs           0.176627\n",
            "HasCancer             0.020979\n",
            "dtype: float64\n"
          ],
          "name": "stdout"
        },
        {
          "output_type": "display_data",
          "data": {
            "image/png": "[encoded data removed]",
            "text/plain": [
              "<Figure size 432x288 with 1 Axes>"
            ]
          },
          "metadata": {
            "tags": []
          }
        },
        {
          "output_type": "display_data",
          "data": {
            "image/png": "[encoded data removed]",
            "text/plain": [
              "<Figure size 432x288 with 1 Axes>"
            ]
          },
          "metadata": {
            "tags": []
          }
        },
        {
          "output_type": "display_data",
          "data": {
            "image/png": "[encoded data removed]",
            "text/plain": [
              "<Figure size 432x288 with 1 Axes>"
            ]
          },
          "metadata": {
            "tags": []
          }
        }
      ]
    },
    {
      "cell_type": "markdown",
      "metadata": {
        "id": "BT9gdS7viJZa",
        "colab_type": "text"
      },
      "source": [
        "### Assignment questions\n",
        "\n",
        "After you've worked on some code, answer the following questions in this text block:\n",
        "\n",
        "1.  Describe in a paragraph of text what you did and why, as if you were writing an email to somebody interested but nontechnical.\n",
        "\n",
        "I was working with a set of data that contained cancer risk characteristics. Some of the women studied had cervical cancer and others did not. The data set allows you to compare various risks with one another. The attributes that I compared were age and cancer diagnosis - this allowed me to see if there was a link between the age of the woman surveyed and whether she'd ever been diagnosed with cervical cancer. \n",
        "\n",
        "I attempted to analyze other factors but ran into issues with the data set. Not all of the data corresponded to the type of data that it was supposed to be; there were gaps in the data and sometimes other characters where there should only have been numbers.\n",
        "\n",
        "I also compared the age of first intercourse against the total number of partners, just as a point of interest.\n",
        "\n",
        "2.  What was the most challenging part of what you did?\n",
        "\n",
        "The person who created this data set did not use standard naming and capitalization conventions for the column names. This made it difficult to work with the data because I was constantly having to go back and recheck how the column was named in order to use the data. I tried various techniques to make other graphs, but I kept running into problems with the data types. Even data columns that the data set information claimed should have been int were not clean. They contained other characters such as '?' that had to be replaced and converted to other types of data before I could work with them.\n",
        "\n",
        "3.  What was the most interesting thing you learned?\n",
        "\n",
        "I learned a lot just looking at the column names, because that told me the types of things that the researchers thought might be cancer risks. I never knew that different STDs could lead to cervical cancer. \n",
        "\n",
        "4.  What area would you like to explore with more time?\n",
        "\n",
        "I'd like to apply a machine learning algorithm to some of these characteristics to see if any of them (or any combination of them) can actually predict cancer risk."
      ]
    },
    {
      "cell_type": "markdown",
      "metadata": {
        "id": "_XXg2crAipwP",
        "colab_type": "text"
      },
      "source": [
        "## Stretch goals and resources\n",
        "\n",
        "Following are *optional* things for you to take a look at. Focus on the above assignment first, and make sure to commit and push your changes to GitHub (and since this is the first assignment of the sprint, open a PR as well).\n",
        "\n",
        "- [pandas documentation](https://pandas.pydata.org/pandas-docs/stable/)\n",
        "- [scikit-learn documentation](http://scikit-learn.org/stable/documentation.html)\n",
        "- [matplotlib documentation](https://matplotlib.org/contents.html)\n",
        "- [Awesome Data Science](https://github.com/bulutyazilim/awesome-datascience) - a list of many types of DS resources\n",
        "\n",
        "Stretch goals:\n",
        "\n",
        "- Find and read blogs, walkthroughs, and other examples of people working through cool things with data science - and share with your classmates!\n",
        "- Write a blog post (Medium is a popular place to publish) introducing yourself as somebody learning data science, and talking about what you've learned already and what you're excited to learn more about."
      ]
    }
  ]
}