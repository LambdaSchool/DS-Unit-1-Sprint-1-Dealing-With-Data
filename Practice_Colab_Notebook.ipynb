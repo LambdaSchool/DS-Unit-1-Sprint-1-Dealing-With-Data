{
  "nbformat": 4,
  "nbformat_minor": 0,
  "metadata": {
    "colab": {
      "name": "Practice Colab Notebook.ipynb",
      "version": "0.3.2",
      "provenance": []
    },
    "kernelspec": {
      "name": "python3",
      "display_name": "Python 3"
    }
  },
  "cells": [
    {
      "cell_type": "markdown",
      "metadata": {
        "id": "GXBSYLC4-4c1",
        "colab_type": "text"
      },
      "source": [
        "## Congrats you have successfully uploaded the notebook to Google Colab"
      ]
    },
    {
      "cell_type": "code",
      "metadata": {
        "id": "w__rP4P4-y4h",
        "colab_type": "code",
        "colab": {
          "base_uri": "https://localhost:8080/",
          "height": 34
        },
        "outputId": "dbeac2f1-45b8-44e7-f73a-415b20c2cbcf"
      },
      "source": [
        "# You're Ready for the Sprint Challenge! \n",
        "2+2"
      ],
      "execution_count": 2,
      "outputs": [
        {
          "output_type": "execute_result",
          "data": {
            "text/plain": [
              "4"
            ]
          },
          "metadata": {
            "tags": []
          },
          "execution_count": 2
        }
      ]
    }
  ]
}