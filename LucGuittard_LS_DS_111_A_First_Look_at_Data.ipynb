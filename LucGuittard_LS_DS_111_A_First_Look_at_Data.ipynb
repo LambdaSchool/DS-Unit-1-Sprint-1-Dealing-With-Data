{
  "nbformat": 4,
  "nbformat_minor": 0,
  "metadata": {
    "colab": {
      "name": "LucGuittard - LS_DS_111_A_First_Look_at_Data.ipynb",
      "version": "0.3.2",
      "provenance": [],
      "include_colab_link": true
    },
    "kernelspec": {
      "name": "python3",
      "display_name": "Python 3"
    }
  },
  "cells": [
    {
      "cell_type": "markdown",
      "metadata": {
        "id": "view-in-github",
        "colab_type": "text"
      },
      "source": [
        "<a href=\"https://colab.research.google.com/github/lucguittard/DS-Unit-1-Sprint-1-Dealing-With-Data/blob/master/LucGuittard_LS_DS_111_A_First_Look_at_Data.ipynb\" target=\"_parent\"><img src=\"https://colab.research.google.com/assets/colab-badge.svg\" alt=\"Open In Colab\"/></a>"
      ]
    },
    {
      "cell_type": "markdown",
      "metadata": {
        "id": "Okfr_uhwhS1X",
        "colab_type": "text"
      },
      "source": [
        "# Lambda School Data Science - A First Look at Data\n",
        "\n"
      ]
    },
    {
      "cell_type": "markdown",
      "metadata": {
        "id": "9dtJETFRhnOG",
        "colab_type": "text"
      },
      "source": [
        "## Lecture - let's explore Python DS libraries and examples!\n",
        "\n",
        "The Python Data Science ecosystem is huge. You've seen some of the big pieces - pandas, scikit-learn, matplotlib. What parts do you want to see more of?"
      ]
    },
    {
      "cell_type": "code",
      "metadata": {
        "id": "WiBkgmPJhmhE",
        "colab_type": "code",
        "colab": {}
      },
      "source": [
        "# TODO - we'll be doing this live, taking requests\n",
        "# and reproducing what it is to look up and learn things\n",
        "\n",
        "\n",
        "\n"
      ],
      "execution_count": 0,
      "outputs": []
    },
    {
      "cell_type": "markdown",
      "metadata": {
        "id": "lOqaPds9huME",
        "colab_type": "text"
      },
      "source": [
        "## Assignment - now it's your turn\n",
        "\n",
        "Pick at least one Python DS library, and using documentation/examples reproduce in this notebook something cool. It's OK if you don't fully understand it or get it 100% working, but do put in effort and look things up."
      ]
    },
    {
      "cell_type": "code",
      "metadata": {
        "id": "mcXvlWKUQFY5",
        "colab_type": "code",
        "outputId": "ce3a8374-3948-4208-a514-31e41208e6e6",
        "colab": {
          "base_uri": "https://localhost:8080/",
          "height": 34
        }
      },
      "source": [
        "#code sourced from the following address: https://nbviewer.jupyter.org/github/fbkarsdorp/python-course/blob/master/Chapter%202%20-%20First%20steps.ipynb\n",
        "text = 'Candide, driven from terrestrial paradise, walked a long while without knowing where, weeping, raising his eyes to heaven, turning them often towards the most magnificent of castles which imprisoned the purest of noble young ladies. He lay down to sleep without supper, in the middle of a field between two furrows. The snow fell in large flakes. Next day Candide, all benumbed, dragged himself towards the neighbouring town which was called Waldberghofftrarbk-dikdorff, having no money, dying of hunger and fatigue, he stopped sorrowfully at the door of an inn. Two men dressed in blue observed him.'\n",
        "words = text.split()\n",
        "number_of_hits = 0\n",
        "item_to_count = 'the'\n",
        "for word in words:\n",
        "    if word == item_to_count:\n",
        "        number_of_hits += 1\n",
        "print(number_of_hits)\n",
        "\n",
        "#text source: https://www.gutenberg.org/files/19942/19942-h/19942-h.htm"
      ],
      "execution_count": 0,
      "outputs": [
        {
          "output_type": "stream",
          "text": [
            "5\n"
          ],
          "name": "stdout"
        }
      ]
    },
    {
      "cell_type": "markdown",
      "metadata": {
        "id": "BT9gdS7viJZa",
        "colab_type": "text"
      },
      "source": [
        "### Assignment questions\n",
        "\n",
        "After you've worked on some code, answer the following questions in this text block:\n",
        "\n",
        "1.  Describe in a paragraph of text what you did and why, as if you were writing an email to somebody interested but nontechnical.\n",
        "\n",
        "2.  What was the most challenging part of what you did?\n",
        "\n",
        "3.  What was the most interesting thing you learned?\n",
        "\n",
        "4.  What area would you like to explore with more time?\n",
        "\n",
        "\n"
      ]
    },
    {
      "cell_type": "markdown",
      "metadata": {
        "id": "JDwZnR4xXMwj",
        "colab_type": "text"
      },
      "source": [
        "1.  To get the above code and resulting output, I first scanned through the suggested webpage of interesting open Jupyter notebooks. I settled on the sub-section devoted devoted to textual analysis and from there looked for some string of code I fealt I could readily reproduce in my CoLab file. This was done mainly as a time constraint for myself; I didn't want to get carried away and bite of more than I could chew for this first assignment. So, I the above code doesn't stray far from its source material. To it, I defined the text variable using a string of text from a novel found at gutenberg.org, and also reset the word or 'item' to be counted (here, 'the') -- chosen after a brief review of the text being analyzed. \n",
        "2. The most challenging part of the above was actually finding code I was comfortable working with given my ambitions for this assignment. I have a better grasp, after reviewing different Jupyter notebooks, of how little I am know at the moment. \n",
        "3. The most interesting thing I learned was how simple it is to count particular words in a string - something I'm confident can be quickly built upon to analyze the text of different webpages. \n",
        "4. From the same Jupyter notebook, I took notice of code aimed at textual analysis of websites and tomes of text more generally. This I find to be an interesting application of data science. In a similar vein, social media posts I feel could be an interesting application of AI. Perhaps volumes of such work are already in the ether. "
      ]
    },
    {
      "cell_type": "markdown",
      "metadata": {
        "id": "_XXg2crAipwP",
        "colab_type": "text"
      },
      "source": [
        "## Stretch goals and resources\n",
        "\n",
        "Following are *optional* things for you to take a look at. Focus on the above assignment first, and make sure to commit and push your changes to GitHub (and since this is the first assignment of the sprint, open a PR as well).\n",
        "\n",
        "- [pandas documentation](https://pandas.pydata.org/pandas-docs/stable/)\n",
        "- [scikit-learn documentation](http://scikit-learn.org/stable/documentation.html)\n",
        "- [matplotlib documentation](https://matplotlib.org/contents.html)\n",
        "- [Awesome Data Science](https://github.com/bulutyazilim/awesome-datascience) - a list of many types of DS resources\n",
        "\n",
        "Stretch goals:\n",
        "\n",
        "- Find and read blogs, walkthroughs, and other examples of people working through cool things with data science - and share with your classmates!\n",
        "- Write a blog post (Medium is a popular place to publish) introducing yourself as somebody learning data science, and talking about what you've learned already and what you're excited to learn more about."
      ]
    }
  ]
}