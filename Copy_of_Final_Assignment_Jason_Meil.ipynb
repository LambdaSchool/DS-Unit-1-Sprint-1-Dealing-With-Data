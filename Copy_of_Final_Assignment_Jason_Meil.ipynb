{
  "nbformat": 4,
  "nbformat_minor": 0,
  "metadata": {
    "colab": {
      "name": "Copy of Final Assignment- Jason Meil.ipynb",
      "version": "0.3.2",
      "provenance": [],
      "collapsed_sections": [],
      "include_colab_link": true
    },
    "kernelspec": {
      "display_name": "Python 3",
      "language": "python",
      "name": "python3"
    }
  },
  "cells": [
    {
      "cell_type": "markdown",
      "metadata": {
        "id": "view-in-github",
        "colab_type": "text"
      },
      "source": [
        "<a href=\"https://colab.research.google.com/github/OODA-OPS/DS-Unit-1-Sprint-1-Dealing-With-Data/blob/master/Copy_of_Final_Assignment_Jason_Meil.ipynb\" target=\"_parent\"><img src=\"https://colab.research.google.com/assets/colab-badge.svg\" alt=\"Open In Colab\"/></a>"
      ]
    },
    {
      "metadata": {
        "id": "978FCwBcohq4",
        "colab_type": "code",
        "colab": {}
      },
      "cell_type": "code",
      "source": [
        "import pandas as pd\n",
        "import numpy as np\n",
        "import matplotlib.pyplot as plt\n",
        "%matplotlib inline"
      ],
      "execution_count": 0,
      "outputs": []
    },
    {
      "metadata": {
        "id": "Tn1r4QRIohrN",
        "colab_type": "code",
        "colab": {}
      },
      "cell_type": "code",
      "source": [
        "df = pd.read_csv('https://raw.githubusercontent.com/OODA-OPS/IBM-Data-Science-Professional-Certificate/master/6.%20Data%20Visualization/Final%20Assignment/Data_Science_Topics_Survey.csv')"
      ],
      "execution_count": 0,
      "outputs": []
    },
    {
      "metadata": {
        "id": "va3QQ3jCohrr",
        "colab_type": "code",
        "outputId": "15567fe6-cd9d-4de5-d2c5-d729afaa1b23",
        "colab": {
          "base_uri": "https://localhost:8080/",
          "height": 311
        }
      },
      "cell_type": "code",
      "source": [
        "df.head(3)"
      ],
      "execution_count": 3,
      "outputs": [
        {
          "output_type": "execute_result",
          "data": {
            "text/html": [
              "<div>\n",
              "<style scoped>\n",
              "    .dataframe tbody tr th:only-of-type {\n",
              "        vertical-align: middle;\n",
              "    }\n",
              "\n",
              "    .dataframe tbody tr th {\n",
              "        vertical-align: top;\n",
              "    }\n",
              "\n",
              "    .dataframe thead th {\n",
              "        text-align: right;\n",
              "    }\n",
              "</style>\n",
              "<table border=\"1\" class=\"dataframe\">\n",
              "  <thead>\n",
              "    <tr style=\"text-align: right;\">\n",
              "      <th></th>\n",
              "      <th>Timestamp</th>\n",
              "      <th>What's your level of interest for the following areas of Data Science? [Data Visualization]</th>\n",
              "      <th>What's your level of interest for the following areas of Data Science? [Machine Learning]</th>\n",
              "      <th>What's your level of interest for the following areas of Data Science? [Data Analysis / Statistics]</th>\n",
              "      <th>What's your level of interest for the following areas of Data Science? [Big Data (Spark / Hadoop)]</th>\n",
              "      <th>What's your level of interest for the following areas of Data Science? [Data Journalism]</th>\n",
              "      <th>What's your level of interest for the following areas of Data Science? [Deep Learning]</th>\n",
              "    </tr>\n",
              "  </thead>\n",
              "  <tbody>\n",
              "    <tr>\n",
              "      <th>0</th>\n",
              "      <td>2017/10/17 1:11:52 PM MDT</td>\n",
              "      <td>Very interested</td>\n",
              "      <td>Very interested</td>\n",
              "      <td>Somewhat interested</td>\n",
              "      <td>Not interested</td>\n",
              "      <td>Somewhat interested</td>\n",
              "      <td>Somewhat interested</td>\n",
              "    </tr>\n",
              "    <tr>\n",
              "      <th>1</th>\n",
              "      <td>2017/10/17 2:26:07 PM MDT</td>\n",
              "      <td>Very interested</td>\n",
              "      <td>Very interested</td>\n",
              "      <td>Very interested</td>\n",
              "      <td>Somewhat interested</td>\n",
              "      <td>Not interested</td>\n",
              "      <td>Very interested</td>\n",
              "    </tr>\n",
              "    <tr>\n",
              "      <th>2</th>\n",
              "      <td>2017/10/17 2:37:08 PM MDT</td>\n",
              "      <td>Not interested</td>\n",
              "      <td>Very interested</td>\n",
              "      <td>Somewhat interested</td>\n",
              "      <td>Very interested</td>\n",
              "      <td>Not interested</td>\n",
              "      <td>Very interested</td>\n",
              "    </tr>\n",
              "  </tbody>\n",
              "</table>\n",
              "</div>"
            ],
            "text/plain": [
              "                   Timestamp  \\\n",
              "0  2017/10/17 1:11:52 PM MDT   \n",
              "1  2017/10/17 2:26:07 PM MDT   \n",
              "2  2017/10/17 2:37:08 PM MDT   \n",
              "\n",
              "  What's your level of interest for the following areas of Data Science? [Data Visualization]  \\\n",
              "0                                    Very interested                                            \n",
              "1                                    Very interested                                            \n",
              "2                                     Not interested                                            \n",
              "\n",
              "  What's your level of interest for the following areas of Data Science? [Machine Learning]  \\\n",
              "0                                    Very interested                                          \n",
              "1                                    Very interested                                          \n",
              "2                                    Very interested                                          \n",
              "\n",
              "  What's your level of interest for the following areas of Data Science? [Data Analysis / Statistics]  \\\n",
              "0                                Somewhat interested                                                    \n",
              "1                                    Very interested                                                    \n",
              "2                                Somewhat interested                                                    \n",
              "\n",
              "  What's your level of interest for the following areas of Data Science? [Big Data (Spark / Hadoop)]  \\\n",
              "0                                     Not interested                                                   \n",
              "1                                Somewhat interested                                                   \n",
              "2                                    Very interested                                                   \n",
              "\n",
              "  What's your level of interest for the following areas of Data Science? [Data Journalism]  \\\n",
              "0                                Somewhat interested                                         \n",
              "1                                     Not interested                                         \n",
              "2                                     Not interested                                         \n",
              "\n",
              "  What's your level of interest for the following areas of Data Science? [Deep Learning]  \n",
              "0                                Somewhat interested                                      \n",
              "1                                    Very interested                                      \n",
              "2                                    Very interested                                      "
            ]
          },
          "metadata": {
            "tags": []
          },
          "execution_count": 3
        }
      ]
    },
    {
      "metadata": {
        "id": "yhn29KjNohs1",
        "colab_type": "text"
      },
      "cell_type": "markdown",
      "source": [
        "# Problem 1"
      ]
    },
    {
      "metadata": {
        "id": "cX5nphy6ohs5",
        "colab_type": "code",
        "outputId": "0a44ee18-e72f-4920-8bfd-87ae8075f858",
        "colab": {
          "base_uri": "https://localhost:8080/",
          "height": 198
        }
      },
      "cell_type": "code",
      "source": [
        "df.drop(columns='Timestamp', axis = 0, inplace = True)\n",
        "df.rename(columns=lambda x: x.split('[')[-1][:-1], inplace=True)\n",
        "df.head()"
      ],
      "execution_count": 4,
      "outputs": [
        {
          "output_type": "execute_result",
          "data": {
            "text/html": [
              "<div>\n",
              "<style scoped>\n",
              "    .dataframe tbody tr th:only-of-type {\n",
              "        vertical-align: middle;\n",
              "    }\n",
              "\n",
              "    .dataframe tbody tr th {\n",
              "        vertical-align: top;\n",
              "    }\n",
              "\n",
              "    .dataframe thead th {\n",
              "        text-align: right;\n",
              "    }\n",
              "</style>\n",
              "<table border=\"1\" class=\"dataframe\">\n",
              "  <thead>\n",
              "    <tr style=\"text-align: right;\">\n",
              "      <th></th>\n",
              "      <th>Data Visualization</th>\n",
              "      <th>Machine Learning</th>\n",
              "      <th>Data Analysis / Statistics</th>\n",
              "      <th>Big Data (Spark / Hadoop)</th>\n",
              "      <th>Data Journalism</th>\n",
              "      <th>Deep Learning</th>\n",
              "    </tr>\n",
              "  </thead>\n",
              "  <tbody>\n",
              "    <tr>\n",
              "      <th>0</th>\n",
              "      <td>Very interested</td>\n",
              "      <td>Very interested</td>\n",
              "      <td>Somewhat interested</td>\n",
              "      <td>Not interested</td>\n",
              "      <td>Somewhat interested</td>\n",
              "      <td>Somewhat interested</td>\n",
              "    </tr>\n",
              "    <tr>\n",
              "      <th>1</th>\n",
              "      <td>Very interested</td>\n",
              "      <td>Very interested</td>\n",
              "      <td>Very interested</td>\n",
              "      <td>Somewhat interested</td>\n",
              "      <td>Not interested</td>\n",
              "      <td>Very interested</td>\n",
              "    </tr>\n",
              "    <tr>\n",
              "      <th>2</th>\n",
              "      <td>Not interested</td>\n",
              "      <td>Very interested</td>\n",
              "      <td>Somewhat interested</td>\n",
              "      <td>Very interested</td>\n",
              "      <td>Not interested</td>\n",
              "      <td>Very interested</td>\n",
              "    </tr>\n",
              "    <tr>\n",
              "      <th>3</th>\n",
              "      <td>Very interested</td>\n",
              "      <td>Very interested</td>\n",
              "      <td>Very interested</td>\n",
              "      <td>Very interested</td>\n",
              "      <td>Somewhat interested</td>\n",
              "      <td>Very interested</td>\n",
              "    </tr>\n",
              "    <tr>\n",
              "      <th>4</th>\n",
              "      <td>Somewhat interested</td>\n",
              "      <td>Very interested</td>\n",
              "      <td>Very interested</td>\n",
              "      <td>Very interested</td>\n",
              "      <td>Not interested</td>\n",
              "      <td>Somewhat interested</td>\n",
              "    </tr>\n",
              "  </tbody>\n",
              "</table>\n",
              "</div>"
            ],
            "text/plain": [
              "    Data Visualization Machine Learning Data Analysis / Statistics  \\\n",
              "0      Very interested  Very interested        Somewhat interested   \n",
              "1      Very interested  Very interested            Very interested   \n",
              "2       Not interested  Very interested        Somewhat interested   \n",
              "3      Very interested  Very interested            Very interested   \n",
              "4  Somewhat interested  Very interested            Very interested   \n",
              "\n",
              "  Big Data (Spark / Hadoop)      Data Journalism        Deep Learning  \n",
              "0            Not interested  Somewhat interested  Somewhat interested  \n",
              "1       Somewhat interested       Not interested      Very interested  \n",
              "2           Very interested       Not interested      Very interested  \n",
              "3           Very interested  Somewhat interested      Very interested  \n",
              "4           Very interested       Not interested  Somewhat interested  "
            ]
          },
          "metadata": {
            "tags": []
          },
          "execution_count": 4
        }
      ]
    },
    {
      "metadata": {
        "id": "tilf-kbmohtS",
        "colab_type": "code",
        "colab": {}
      },
      "cell_type": "code",
      "source": [
        "result = df.transpose()\n",
        "result['Not interested'] = np.sum(result == 'Not interested', axis = 1)\n",
        "result['Somewhat interested'] = np.sum(result == 'Somewhat interested', axis = 1)\n",
        "result['Very interested'] = np.sum(result == 'Very interested', axis = 1)"
      ],
      "execution_count": 0,
      "outputs": []
    },
    {
      "metadata": {
        "id": "Or3GbMogoht4",
        "colab_type": "code",
        "colab": {}
      },
      "cell_type": "code",
      "source": [
        "result.drop(result.columns[:-3],axis=1,inplace=True)"
      ],
      "execution_count": 0,
      "outputs": []
    },
    {
      "metadata": {
        "id": "WQZHoddTohum",
        "colab_type": "code",
        "outputId": "fb73f7d5-75b1-4b57-94fa-a4ac652ad57e",
        "colab": {
          "base_uri": "https://localhost:8080/",
          "height": 228
        }
      },
      "cell_type": "code",
      "source": [
        "result.sort_index()"
      ],
      "execution_count": 7,
      "outputs": [
        {
          "output_type": "execute_result",
          "data": {
            "text/html": [
              "<div>\n",
              "<style scoped>\n",
              "    .dataframe tbody tr th:only-of-type {\n",
              "        vertical-align: middle;\n",
              "    }\n",
              "\n",
              "    .dataframe tbody tr th {\n",
              "        vertical-align: top;\n",
              "    }\n",
              "\n",
              "    .dataframe thead th {\n",
              "        text-align: right;\n",
              "    }\n",
              "</style>\n",
              "<table border=\"1\" class=\"dataframe\">\n",
              "  <thead>\n",
              "    <tr style=\"text-align: right;\">\n",
              "      <th></th>\n",
              "      <th>Not interested</th>\n",
              "      <th>Somewhat interested</th>\n",
              "      <th>Very interested</th>\n",
              "    </tr>\n",
              "  </thead>\n",
              "  <tbody>\n",
              "    <tr>\n",
              "      <th>Big Data (Spark / Hadoop)</th>\n",
              "      <td>127</td>\n",
              "      <td>729</td>\n",
              "      <td>1332</td>\n",
              "    </tr>\n",
              "    <tr>\n",
              "      <th>Data Analysis / Statistics</th>\n",
              "      <td>60</td>\n",
              "      <td>444</td>\n",
              "      <td>1688</td>\n",
              "    </tr>\n",
              "    <tr>\n",
              "      <th>Data Journalism</th>\n",
              "      <td>610</td>\n",
              "      <td>1081</td>\n",
              "      <td>429</td>\n",
              "    </tr>\n",
              "    <tr>\n",
              "      <th>Data Visualization</th>\n",
              "      <td>102</td>\n",
              "      <td>734</td>\n",
              "      <td>1340</td>\n",
              "    </tr>\n",
              "    <tr>\n",
              "      <th>Deep Learning</th>\n",
              "      <td>136</td>\n",
              "      <td>770</td>\n",
              "      <td>1263</td>\n",
              "    </tr>\n",
              "    <tr>\n",
              "      <th>Machine Learning</th>\n",
              "      <td>74</td>\n",
              "      <td>477</td>\n",
              "      <td>1629</td>\n",
              "    </tr>\n",
              "  </tbody>\n",
              "</table>\n",
              "</div>"
            ],
            "text/plain": [
              "                            Not interested  Somewhat interested  \\\n",
              "Big Data (Spark / Hadoop)              127                  729   \n",
              "Data Analysis / Statistics              60                  444   \n",
              "Data Journalism                        610                 1081   \n",
              "Data Visualization                     102                  734   \n",
              "Deep Learning                          136                  770   \n",
              "Machine Learning                        74                  477   \n",
              "\n",
              "                            Very interested  \n",
              "Big Data (Spark / Hadoop)              1332  \n",
              "Data Analysis / Statistics             1688  \n",
              "Data Journalism                         429  \n",
              "Data Visualization                     1340  \n",
              "Deep Learning                          1263  \n",
              "Machine Learning                       1629  "
            ]
          },
          "metadata": {
            "tags": []
          },
          "execution_count": 7
        }
      ]
    },
    {
      "metadata": {
        "id": "GcGJBWryohvH",
        "colab_type": "text"
      },
      "cell_type": "markdown",
      "source": [
        "# Problem 2"
      ]
    },
    {
      "metadata": {
        "id": "lL-0ZzVBohvu",
        "colab_type": "code",
        "colab": {}
      },
      "cell_type": "code",
      "source": [
        "result = result.sort_index(axis=1, ascending=False)"
      ],
      "execution_count": 0,
      "outputs": []
    },
    {
      "metadata": {
        "id": "cZ4bG-4bohwx",
        "colab_type": "code",
        "colab": {}
      },
      "cell_type": "code",
      "source": [
        "result = result.sort_values('Very interested', ascending=False)"
      ],
      "execution_count": 0,
      "outputs": []
    },
    {
      "metadata": {
        "id": "XeclGV6Aohxd",
        "colab_type": "code",
        "outputId": "7141cfc5-b175-43e5-c10e-acf44ee113fa",
        "colab": {
          "base_uri": "https://localhost:8080/",
          "height": 228
        }
      },
      "cell_type": "code",
      "source": [
        "result = result / len(df) * 100\n",
        "result.round(2)"
      ],
      "execution_count": 10,
      "outputs": [
        {
          "output_type": "execute_result",
          "data": {
            "text/html": [
              "<div>\n",
              "<style scoped>\n",
              "    .dataframe tbody tr th:only-of-type {\n",
              "        vertical-align: middle;\n",
              "    }\n",
              "\n",
              "    .dataframe tbody tr th {\n",
              "        vertical-align: top;\n",
              "    }\n",
              "\n",
              "    .dataframe thead th {\n",
              "        text-align: right;\n",
              "    }\n",
              "</style>\n",
              "<table border=\"1\" class=\"dataframe\">\n",
              "  <thead>\n",
              "    <tr style=\"text-align: right;\">\n",
              "      <th></th>\n",
              "      <th>Very interested</th>\n",
              "      <th>Somewhat interested</th>\n",
              "      <th>Not interested</th>\n",
              "    </tr>\n",
              "  </thead>\n",
              "  <tbody>\n",
              "    <tr>\n",
              "      <th>Data Analysis / Statistics</th>\n",
              "      <td>75.59</td>\n",
              "      <td>19.88</td>\n",
              "      <td>2.69</td>\n",
              "    </tr>\n",
              "    <tr>\n",
              "      <th>Machine Learning</th>\n",
              "      <td>72.95</td>\n",
              "      <td>21.36</td>\n",
              "      <td>3.31</td>\n",
              "    </tr>\n",
              "    <tr>\n",
              "      <th>Data Visualization</th>\n",
              "      <td>60.01</td>\n",
              "      <td>32.87</td>\n",
              "      <td>4.57</td>\n",
              "    </tr>\n",
              "    <tr>\n",
              "      <th>Big Data (Spark / Hadoop)</th>\n",
              "      <td>59.65</td>\n",
              "      <td>32.65</td>\n",
              "      <td>5.69</td>\n",
              "    </tr>\n",
              "    <tr>\n",
              "      <th>Deep Learning</th>\n",
              "      <td>56.56</td>\n",
              "      <td>34.48</td>\n",
              "      <td>6.09</td>\n",
              "    </tr>\n",
              "    <tr>\n",
              "      <th>Data Journalism</th>\n",
              "      <td>19.21</td>\n",
              "      <td>48.41</td>\n",
              "      <td>27.32</td>\n",
              "    </tr>\n",
              "  </tbody>\n",
              "</table>\n",
              "</div>"
            ],
            "text/plain": [
              "                            Very interested  Somewhat interested  \\\n",
              "Data Analysis / Statistics            75.59                19.88   \n",
              "Machine Learning                      72.95                21.36   \n",
              "Data Visualization                    60.01                32.87   \n",
              "Big Data (Spark / Hadoop)             59.65                32.65   \n",
              "Deep Learning                         56.56                34.48   \n",
              "Data Journalism                       19.21                48.41   \n",
              "\n",
              "                            Not interested  \n",
              "Data Analysis / Statistics            2.69  \n",
              "Machine Learning                      3.31  \n",
              "Data Visualization                    4.57  \n",
              "Big Data (Spark / Hadoop)             5.69  \n",
              "Deep Learning                         6.09  \n",
              "Data Journalism                      27.32  "
            ]
          },
          "metadata": {
            "tags": []
          },
          "execution_count": 10
        }
      ]
    },
    {
      "metadata": {
        "id": "2ZWergmbohyy",
        "colab_type": "code",
        "outputId": "c6f7e265-531b-4212-ff03-b31640732c36",
        "colab": {
          "base_uri": "https://localhost:8080/",
          "height": 656
        }
      },
      "cell_type": "code",
      "source": [
        "ax = result.plot(kind='bar', \n",
        "            figsize=(20, 8), \n",
        "            width=0.8, \n",
        "            color=['#5cb85c', '#5bc0de', '#d9534f'],\n",
        "           )\n",
        "\n",
        "ax.spines['left'].set_visible(False)\n",
        "ax.spines['top'].set_visible(False)\n",
        "ax.spines['right'].set_visible(False)\n",
        "ax.axes.get_yaxis().set_visible(False)\n",
        "ax.tick_params(labelsize=14)\n",
        "ax.legend(fontsize=14)\n",
        "ax.set_title(\"Percentage of Respondents' Interest in Data Science Area\", fontsize=16)\n",
        "for p in ax.patches:\n",
        "    ax.annotate(np.round(p.get_height(),decimals=2), \n",
        "                (p.get_x()+p.get_width()/2., p.get_height()), \n",
        "                ha='center', \n",
        "                va='center', \n",
        "                xytext=(0, 10), \n",
        "                textcoords='offset points',\n",
        "                fontsize = 14\n",
        "               )\n",
        "plt.show()"
      ],
      "execution_count": 11,
      "outputs": [
        {
          "output_type": "display_data",
          "data": {
            "image/png": "[encoded data removed]",
            "text/plain": [
              "<Figure size 1440x576 with 1 Axes>"
            ]
          },
          "metadata": {
            "tags": []
          }
        }
      ]
    },
    {
      "metadata": {
        "id": "jbJRU8tVohzj",
        "colab_type": "text"
      },
      "cell_type": "markdown",
      "source": [
        "# Problem 3"
      ]
    },
    {
      "metadata": {
        "id": "4c6wZCi-ohzy",
        "colab_type": "code",
        "colab": {}
      },
      "cell_type": "code",
      "source": [
        "df = pd.read_csv('https://raw.githubusercontent.com/OODA-OPS/IBM-Data-Science-Professional-Certificate/master/6.%20Data%20Visualization/Final%20Assignment/Police_Department_Incidents_-_Previous_Year__2016_.csv')"
      ],
      "execution_count": 0,
      "outputs": []
    },
    {
      "metadata": {
        "id": "mDI27Qmhoh0-",
        "colab_type": "code",
        "colab": {
          "base_uri": "https://localhost:8080/",
          "height": 388
        },
        "outputId": "885d8e11-1d0a-4438-d426-54b3240e8442"
      },
      "cell_type": "code",
      "source": [
        "df.head()"
      ],
      "execution_count": 13,
      "outputs": [
        {
          "output_type": "execute_result",
          "data": {
            "text/html": [
              "<div>\n",
              "<style scoped>\n",
              "    .dataframe tbody tr th:only-of-type {\n",
              "        vertical-align: middle;\n",
              "    }\n",
              "\n",
              "    .dataframe tbody tr th {\n",
              "        vertical-align: top;\n",
              "    }\n",
              "\n",
              "    .dataframe thead th {\n",
              "        text-align: right;\n",
              "    }\n",
              "</style>\n",
              "<table border=\"1\" class=\"dataframe\">\n",
              "  <thead>\n",
              "    <tr style=\"text-align: right;\">\n",
              "      <th></th>\n",
              "      <th>IncidntNum</th>\n",
              "      <th>Category</th>\n",
              "      <th>Descript</th>\n",
              "      <th>DayOfWeek</th>\n",
              "      <th>Date</th>\n",
              "      <th>Time</th>\n",
              "      <th>PdDistrict</th>\n",
              "      <th>Resolution</th>\n",
              "      <th>Address</th>\n",
              "      <th>X</th>\n",
              "      <th>Y</th>\n",
              "      <th>Location</th>\n",
              "      <th>PdId</th>\n",
              "    </tr>\n",
              "  </thead>\n",
              "  <tbody>\n",
              "    <tr>\n",
              "      <th>0</th>\n",
              "      <td>120058272</td>\n",
              "      <td>WEAPON LAWS</td>\n",
              "      <td>POSS OF PROHIBITED WEAPON</td>\n",
              "      <td>Friday</td>\n",
              "      <td>01/29/2016 12:00:00 AM</td>\n",
              "      <td>11:00</td>\n",
              "      <td>SOUTHERN</td>\n",
              "      <td>ARREST, BOOKED</td>\n",
              "      <td>800 Block of BRYANT ST</td>\n",
              "      <td>-122.403405</td>\n",
              "      <td>37.775421</td>\n",
              "      <td>(37.775420706711, -122.403404791479)</td>\n",
              "      <td>12005827212120</td>\n",
              "    </tr>\n",
              "    <tr>\n",
              "      <th>1</th>\n",
              "      <td>120058272</td>\n",
              "      <td>WEAPON LAWS</td>\n",
              "      <td>FIREARM, LOADED, IN VEHICLE, POSSESSION OR USE</td>\n",
              "      <td>Friday</td>\n",
              "      <td>01/29/2016 12:00:00 AM</td>\n",
              "      <td>11:00</td>\n",
              "      <td>SOUTHERN</td>\n",
              "      <td>ARREST, BOOKED</td>\n",
              "      <td>800 Block of BRYANT ST</td>\n",
              "      <td>-122.403405</td>\n",
              "      <td>37.775421</td>\n",
              "      <td>(37.775420706711, -122.403404791479)</td>\n",
              "      <td>12005827212168</td>\n",
              "    </tr>\n",
              "    <tr>\n",
              "      <th>2</th>\n",
              "      <td>141059263</td>\n",
              "      <td>WARRANTS</td>\n",
              "      <td>WARRANT ARREST</td>\n",
              "      <td>Monday</td>\n",
              "      <td>04/25/2016 12:00:00 AM</td>\n",
              "      <td>14:59</td>\n",
              "      <td>BAYVIEW</td>\n",
              "      <td>ARREST, BOOKED</td>\n",
              "      <td>KEITH ST / SHAFTER AV</td>\n",
              "      <td>-122.388856</td>\n",
              "      <td>37.729981</td>\n",
              "      <td>(37.7299809672996, -122.388856204292)</td>\n",
              "      <td>14105926363010</td>\n",
              "    </tr>\n",
              "    <tr>\n",
              "      <th>3</th>\n",
              "      <td>160013662</td>\n",
              "      <td>NON-CRIMINAL</td>\n",
              "      <td>LOST PROPERTY</td>\n",
              "      <td>Tuesday</td>\n",
              "      <td>01/05/2016 12:00:00 AM</td>\n",
              "      <td>23:50</td>\n",
              "      <td>TENDERLOIN</td>\n",
              "      <td>NONE</td>\n",
              "      <td>JONES ST / OFARRELL ST</td>\n",
              "      <td>-122.412971</td>\n",
              "      <td>37.785788</td>\n",
              "      <td>(37.7857883766888, -122.412970537591)</td>\n",
              "      <td>16001366271000</td>\n",
              "    </tr>\n",
              "    <tr>\n",
              "      <th>4</th>\n",
              "      <td>160002740</td>\n",
              "      <td>NON-CRIMINAL</td>\n",
              "      <td>LOST PROPERTY</td>\n",
              "      <td>Friday</td>\n",
              "      <td>01/01/2016 12:00:00 AM</td>\n",
              "      <td>00:30</td>\n",
              "      <td>MISSION</td>\n",
              "      <td>NONE</td>\n",
              "      <td>16TH ST / MISSION ST</td>\n",
              "      <td>-122.419672</td>\n",
              "      <td>37.765050</td>\n",
              "      <td>(37.7650501214668, -122.419671780296)</td>\n",
              "      <td>16000274071000</td>\n",
              "    </tr>\n",
              "  </tbody>\n",
              "</table>\n",
              "</div>"
            ],
            "text/plain": [
              "   IncidntNum      Category                                        Descript  \\\n",
              "0   120058272   WEAPON LAWS                       POSS OF PROHIBITED WEAPON   \n",
              "1   120058272   WEAPON LAWS  FIREARM, LOADED, IN VEHICLE, POSSESSION OR USE   \n",
              "2   141059263      WARRANTS                                  WARRANT ARREST   \n",
              "3   160013662  NON-CRIMINAL                                   LOST PROPERTY   \n",
              "4   160002740  NON-CRIMINAL                                   LOST PROPERTY   \n",
              "\n",
              "  DayOfWeek                    Date   Time  PdDistrict      Resolution  \\\n",
              "0    Friday  01/29/2016 12:00:00 AM  11:00    SOUTHERN  ARREST, BOOKED   \n",
              "1    Friday  01/29/2016 12:00:00 AM  11:00    SOUTHERN  ARREST, BOOKED   \n",
              "2    Monday  04/25/2016 12:00:00 AM  14:59     BAYVIEW  ARREST, BOOKED   \n",
              "3   Tuesday  01/05/2016 12:00:00 AM  23:50  TENDERLOIN            NONE   \n",
              "4    Friday  01/01/2016 12:00:00 AM  00:30     MISSION            NONE   \n",
              "\n",
              "                  Address           X          Y  \\\n",
              "0  800 Block of BRYANT ST -122.403405  37.775421   \n",
              "1  800 Block of BRYANT ST -122.403405  37.775421   \n",
              "2   KEITH ST / SHAFTER AV -122.388856  37.729981   \n",
              "3  JONES ST / OFARRELL ST -122.412971  37.785788   \n",
              "4    16TH ST / MISSION ST -122.419672  37.765050   \n",
              "\n",
              "                                Location            PdId  \n",
              "0   (37.775420706711, -122.403404791479)  12005827212120  \n",
              "1   (37.775420706711, -122.403404791479)  12005827212168  \n",
              "2  (37.7299809672996, -122.388856204292)  14105926363010  \n",
              "3  (37.7857883766888, -122.412970537591)  16001366271000  \n",
              "4  (37.7650501214668, -122.419671780296)  16000274071000  "
            ]
          },
          "metadata": {
            "tags": []
          },
          "execution_count": 13
        }
      ]
    },
    {
      "metadata": {
        "id": "wNPQTzCvoh1d",
        "colab_type": "code",
        "colab": {
          "base_uri": "https://localhost:8080/",
          "height": 348
        },
        "outputId": "e5bbfdb9-c936-4154-aaa5-e5e9531134dc"
      },
      "cell_type": "code",
      "source": [
        "a = df.PdDistrict.value_counts()\n",
        "result = pd.DataFrame(data=a.values, index=a.index, columns=['Count'])\n",
        "result = result.reindex([\"CENTRAL\", \"NORTHERN\", \"PARK\", \"SOUTHERN\", \"MISSION\", \"TENDERLOIN\", \"RICHMOND\", \"TARAVAL\", \"INGLESIDE\", \"BAYVIEW\"])\n",
        "result = result.reset_index()\n",
        "result.rename({'index': 'Neighborhood'}, axis='columns', inplace=True)\n",
        "result"
      ],
      "execution_count": 14,
      "outputs": [
        {
          "output_type": "execute_result",
          "data": {
            "text/html": [
              "<div>\n",
              "<style scoped>\n",
              "    .dataframe tbody tr th:only-of-type {\n",
              "        vertical-align: middle;\n",
              "    }\n",
              "\n",
              "    .dataframe tbody tr th {\n",
              "        vertical-align: top;\n",
              "    }\n",
              "\n",
              "    .dataframe thead th {\n",
              "        text-align: right;\n",
              "    }\n",
              "</style>\n",
              "<table border=\"1\" class=\"dataframe\">\n",
              "  <thead>\n",
              "    <tr style=\"text-align: right;\">\n",
              "      <th></th>\n",
              "      <th>Neighborhood</th>\n",
              "      <th>Count</th>\n",
              "    </tr>\n",
              "  </thead>\n",
              "  <tbody>\n",
              "    <tr>\n",
              "      <th>0</th>\n",
              "      <td>CENTRAL</td>\n",
              "      <td>17666</td>\n",
              "    </tr>\n",
              "    <tr>\n",
              "      <th>1</th>\n",
              "      <td>NORTHERN</td>\n",
              "      <td>20100</td>\n",
              "    </tr>\n",
              "    <tr>\n",
              "      <th>2</th>\n",
              "      <td>PARK</td>\n",
              "      <td>8699</td>\n",
              "    </tr>\n",
              "    <tr>\n",
              "      <th>3</th>\n",
              "      <td>SOUTHERN</td>\n",
              "      <td>28445</td>\n",
              "    </tr>\n",
              "    <tr>\n",
              "      <th>4</th>\n",
              "      <td>MISSION</td>\n",
              "      <td>19503</td>\n",
              "    </tr>\n",
              "    <tr>\n",
              "      <th>5</th>\n",
              "      <td>TENDERLOIN</td>\n",
              "      <td>9942</td>\n",
              "    </tr>\n",
              "    <tr>\n",
              "      <th>6</th>\n",
              "      <td>RICHMOND</td>\n",
              "      <td>8922</td>\n",
              "    </tr>\n",
              "    <tr>\n",
              "      <th>7</th>\n",
              "      <td>TARAVAL</td>\n",
              "      <td>11325</td>\n",
              "    </tr>\n",
              "    <tr>\n",
              "      <th>8</th>\n",
              "      <td>INGLESIDE</td>\n",
              "      <td>11594</td>\n",
              "    </tr>\n",
              "    <tr>\n",
              "      <th>9</th>\n",
              "      <td>BAYVIEW</td>\n",
              "      <td>14303</td>\n",
              "    </tr>\n",
              "  </tbody>\n",
              "</table>\n",
              "</div>"
            ],
            "text/plain": [
              "  Neighborhood  Count\n",
              "0      CENTRAL  17666\n",
              "1     NORTHERN  20100\n",
              "2         PARK   8699\n",
              "3     SOUTHERN  28445\n",
              "4      MISSION  19503\n",
              "5   TENDERLOIN   9942\n",
              "6     RICHMOND   8922\n",
              "7      TARAVAL  11325\n",
              "8    INGLESIDE  11594\n",
              "9      BAYVIEW  14303"
            ]
          },
          "metadata": {
            "tags": []
          },
          "execution_count": 14
        }
      ]
    },
    {
      "metadata": {
        "id": "vwQ-yU_moh2t",
        "colab_type": "text"
      },
      "cell_type": "markdown",
      "source": [
        "# Problem 4"
      ]
    },
    {
      "metadata": {
        "id": "nExZSS8foh3D",
        "colab_type": "code",
        "colab": {}
      },
      "cell_type": "code",
      "source": [
        "SF_geo = r'https://raw.githubusercontent.com/OODA-OPS/IBM-Data-Science-Professional-Certificate/master/6.%20Data%20Visualization/Final%20Assignment/san-francisco.geojson'"
      ],
      "execution_count": 0,
      "outputs": []
    },
    {
      "metadata": {
        "id": "y_fix7dhoh3o",
        "colab_type": "code",
        "colab": {}
      },
      "cell_type": "code",
      "source": [
        "import folium"
      ],
      "execution_count": 0,
      "outputs": []
    },
    {
      "metadata": {
        "id": "9TnbZ78coh39",
        "colab_type": "code",
        "colab": {}
      },
      "cell_type": "code",
      "source": [
        "# San Francisco latitude and longitude values\n",
        "latitude = 37.77\n",
        "longitude = -122.42"
      ],
      "execution_count": 0,
      "outputs": []
    },
    {
      "metadata": {
        "id": "vM9UfYTyoh4V",
        "colab_type": "code",
        "colab": {
          "base_uri": "https://localhost:8080/",
          "height": 824
        },
        "outputId": "712e8650-79f0-4f0c-e407-6e948631103c"
      },
      "cell_type": "code",
      "source": [
        "sanfran_map = folium.Map(location = [latitude, longitude], zoom_start = 12)\n",
        "\n",
        "# generate choropleth map using the total immigration of each country to Canada from 1980 to 2013\n",
        "sanfran_map.choropleth(\n",
        "    geo_str=SF_geo,\n",
        "    \n",
        "    columns=['Neighborhood', 'Count'],\n",
        "    key_on='feature.properties.DISTRICT',\n",
        "    fill_color='YlOrRd', \n",
        "    fill_opacity=0.7, \n",
        "    line_opacity=0.2,\n",
        "    legend_name='Crime Rate in San Francisco'\n",
        ")\n",
        "\n",
        "# display map\n",
        "sanfran_map"
      ],
      "execution_count": 28,
      "outputs": [
        {
          "output_type": "execute_result",
          "data": {
            "text/html": [
              "<div style=\"width:100%;\"><div style=\"position:relative;width:100%;height:0;padding-bottom:60%;\"><iframe src=\"data:text/html;base64,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\" style=\"position:absolute;width:100%;height:100%;left:0;top:0;\"></iframe></div></div>"
            ],
            "text/plain": [
              "<folium.folium.Map at 0x7f33167c1d68>"
            ]
          },
          "metadata": {
            "tags": []
          },
          "execution_count": 28
        }
      ]
    }
  ]
}