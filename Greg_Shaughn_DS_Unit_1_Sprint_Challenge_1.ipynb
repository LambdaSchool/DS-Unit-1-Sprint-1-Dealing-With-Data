{
  "nbformat": 4,
  "nbformat_minor": 0,
  "metadata": {
    "colab": {
      "name": "Greg Shaughn DS_Unit_1_Sprint_Challenge_1.ipynb",
      "version": "0.3.2",
      "provenance": [],
      "collapsed_sections": []
    },
    "kernelspec": {
      "name": "python3",
      "display_name": "Python 3"
    }
  },
  "cells": [
    {
      "metadata": {
        "id": "NooAiTdnafkz",
        "colab_type": "text"
      },
      "cell_type": "markdown",
      "source": [
        "# Data Science Unit 1 Sprint Challenge 1\n",
        "\n",
        "## Loading, cleaning, visualizing, and analyzing data\n",
        "\n",
        "In this sprint challenge you will look at a dataset of the survival of patients who underwent surgery for breast cancer.\n",
        "\n",
        "http://archive.ics.uci.edu/ml/datasets/Haberman%27s+Survival\n",
        "\n",
        "Data Set Information:\n",
        "The dataset contains cases from a study that was conducted between 1958 and 1970 at the University of Chicago's Billings Hospital on the survival of patients who had undergone surgery for breast cancer.\n",
        "\n",
        "Attribute Information:\n",
        "1. Age of patient at time of operation (numerical)\n",
        "2. Patient's year of operation (year - 1900, numerical)\n",
        "3. Number of positive axillary nodes detected (numerical)\n",
        "4. Survival status (class attribute)\n",
        "-- 1 = the patient survived 5 years or longer\n",
        "-- 2 = the patient died within 5 year\n",
        "\n",
        "Sprint challenges are evaluated based on satisfactory completion of each part. It is suggested you work through it in order, getting each aspect reasonably working, before trying to deeply explore, iterate, or refine any given step. Once you get to the end, if you want to go back and improve things, go for it!"
      ]
    },
    {
      "metadata": {
        "id": "5wch6ksCbJtZ",
        "colab_type": "text"
      },
      "cell_type": "markdown",
      "source": [
        "## Part 1 - Load and validate the data\n",
        "\n",
        "- Load the data as a `pandas` data frame.\n",
        "- Validate that it has the appropriate number of observations (you can check the raw file, and also read the dataset description from UCI).\n",
        "- Validate that you have no missing values.\n",
        "- Add informative names to the features.\n",
        "- The survival variable is encoded as 1 for surviving >5 years and 2 for not - change this to be 0 for not surviving and 1 for surviving >5 years (0/1 is a more traditional encoding of binary variables)\n",
        "\n",
        "At the end, print the first five rows of the dataset to demonstrate the above."
      ]
    },
    {
      "metadata": {
        "id": "287TpoGKFRVK",
        "colab_type": "code",
        "colab": {
          "base_uri": "https://localhost:8080/",
          "height": 639
        },
        "outputId": "efc45cee-fbaa-442d-ad65-28d368f94390"
      },
      "cell_type": "code",
      "source": [
        "# TODO\n",
        "#Load the data as a pandas data frame.\n",
        "import pandas as pd\n",
        "survival_url = 'http://archive.ics.uci.edu/ml/machine-learning-databases/haberman/haberman.data'\n",
        "df = pd.read_csv(survival_url)\n",
        "\n",
        "df.head()\n",
        "df.count()\n",
        "\n",
        "# Add informative names to the features.\n",
        "df = pd.read_csv(survival_url, header=None, names=['patient_age_@_operation', \n",
        "                                                   'operation_year', \n",
        "                                                   '#_positive_axillary_nodes_detected', \n",
        "                                                   'survival_status(1=patient_survived_=>5_years--0=patient_died_<5years)'], \n",
        "                                                   index_col=False)\n",
        "df.head(20)\n",
        "\n",
        "# The survival variable is encoded as 1 for surviving >5 years and 2 for not - \n",
        "# change this to be 0 for not surviving and 1 for surviving >5 years \n",
        "# (0/1 is a more traditional encoding of binary variables)\n",
        "df['survival_status(1=patient_survived_=>5_years--0=patient_died_<5years)'] = df['survival_status(1=patient_survived_=>5_years--0=patient_died_<5years)'].replace(2, 0)\n",
        "df.head(20)\n",
        "\n",
        "\n",
        "                 "
      ],
      "execution_count": 1,
      "outputs": [
        {
          "output_type": "execute_result",
          "data": {
            "text/html": [
              "<div>\n",
              "<style scoped>\n",
              "    .dataframe tbody tr th:only-of-type {\n",
              "        vertical-align: middle;\n",
              "    }\n",
              "\n",
              "    .dataframe tbody tr th {\n",
              "        vertical-align: top;\n",
              "    }\n",
              "\n",
              "    .dataframe thead th {\n",
              "        text-align: right;\n",
              "    }\n",
              "</style>\n",
              "<table border=\"1\" class=\"dataframe\">\n",
              "  <thead>\n",
              "    <tr style=\"text-align: right;\">\n",
              "      <th></th>\n",
              "      <th>patient_age_@_operation</th>\n",
              "      <th>operation_year</th>\n",
              "      <th>#_positive_axillary_nodes_detected</th>\n",
              "      <th>survival_status(1=patient_survived_=&gt;5_years--0=patient_died_&lt;5years)</th>\n",
              "    </tr>\n",
              "  </thead>\n",
              "  <tbody>\n",
              "    <tr>\n",
              "      <th>0</th>\n",
              "      <td>30</td>\n",
              "      <td>64</td>\n",
              "      <td>1</td>\n",
              "      <td>1</td>\n",
              "    </tr>\n",
              "    <tr>\n",
              "      <th>1</th>\n",
              "      <td>30</td>\n",
              "      <td>62</td>\n",
              "      <td>3</td>\n",
              "      <td>1</td>\n",
              "    </tr>\n",
              "    <tr>\n",
              "      <th>2</th>\n",
              "      <td>30</td>\n",
              "      <td>65</td>\n",
              "      <td>0</td>\n",
              "      <td>1</td>\n",
              "    </tr>\n",
              "    <tr>\n",
              "      <th>3</th>\n",
              "      <td>31</td>\n",
              "      <td>59</td>\n",
              "      <td>2</td>\n",
              "      <td>1</td>\n",
              "    </tr>\n",
              "    <tr>\n",
              "      <th>4</th>\n",
              "      <td>31</td>\n",
              "      <td>65</td>\n",
              "      <td>4</td>\n",
              "      <td>1</td>\n",
              "    </tr>\n",
              "    <tr>\n",
              "      <th>5</th>\n",
              "      <td>33</td>\n",
              "      <td>58</td>\n",
              "      <td>10</td>\n",
              "      <td>1</td>\n",
              "    </tr>\n",
              "    <tr>\n",
              "      <th>6</th>\n",
              "      <td>33</td>\n",
              "      <td>60</td>\n",
              "      <td>0</td>\n",
              "      <td>1</td>\n",
              "    </tr>\n",
              "    <tr>\n",
              "      <th>7</th>\n",
              "      <td>34</td>\n",
              "      <td>59</td>\n",
              "      <td>0</td>\n",
              "      <td>0</td>\n",
              "    </tr>\n",
              "    <tr>\n",
              "      <th>8</th>\n",
              "      <td>34</td>\n",
              "      <td>66</td>\n",
              "      <td>9</td>\n",
              "      <td>0</td>\n",
              "    </tr>\n",
              "    <tr>\n",
              "      <th>9</th>\n",
              "      <td>34</td>\n",
              "      <td>58</td>\n",
              "      <td>30</td>\n",
              "      <td>1</td>\n",
              "    </tr>\n",
              "    <tr>\n",
              "      <th>10</th>\n",
              "      <td>34</td>\n",
              "      <td>60</td>\n",
              "      <td>1</td>\n",
              "      <td>1</td>\n",
              "    </tr>\n",
              "    <tr>\n",
              "      <th>11</th>\n",
              "      <td>34</td>\n",
              "      <td>61</td>\n",
              "      <td>10</td>\n",
              "      <td>1</td>\n",
              "    </tr>\n",
              "    <tr>\n",
              "      <th>12</th>\n",
              "      <td>34</td>\n",
              "      <td>67</td>\n",
              "      <td>7</td>\n",
              "      <td>1</td>\n",
              "    </tr>\n",
              "    <tr>\n",
              "      <th>13</th>\n",
              "      <td>34</td>\n",
              "      <td>60</td>\n",
              "      <td>0</td>\n",
              "      <td>1</td>\n",
              "    </tr>\n",
              "    <tr>\n",
              "      <th>14</th>\n",
              "      <td>35</td>\n",
              "      <td>64</td>\n",
              "      <td>13</td>\n",
              "      <td>1</td>\n",
              "    </tr>\n",
              "    <tr>\n",
              "      <th>15</th>\n",
              "      <td>35</td>\n",
              "      <td>63</td>\n",
              "      <td>0</td>\n",
              "      <td>1</td>\n",
              "    </tr>\n",
              "    <tr>\n",
              "      <th>16</th>\n",
              "      <td>36</td>\n",
              "      <td>60</td>\n",
              "      <td>1</td>\n",
              "      <td>1</td>\n",
              "    </tr>\n",
              "    <tr>\n",
              "      <th>17</th>\n",
              "      <td>36</td>\n",
              "      <td>69</td>\n",
              "      <td>0</td>\n",
              "      <td>1</td>\n",
              "    </tr>\n",
              "    <tr>\n",
              "      <th>18</th>\n",
              "      <td>37</td>\n",
              "      <td>60</td>\n",
              "      <td>0</td>\n",
              "      <td>1</td>\n",
              "    </tr>\n",
              "    <tr>\n",
              "      <th>19</th>\n",
              "      <td>37</td>\n",
              "      <td>63</td>\n",
              "      <td>0</td>\n",
              "      <td>1</td>\n",
              "    </tr>\n",
              "  </tbody>\n",
              "</table>\n",
              "</div>"
            ],
            "text/plain": [
              "    patient_age_@_operation  operation_year  \\\n",
              "0                        30              64   \n",
              "1                        30              62   \n",
              "2                        30              65   \n",
              "3                        31              59   \n",
              "4                        31              65   \n",
              "5                        33              58   \n",
              "6                        33              60   \n",
              "7                        34              59   \n",
              "8                        34              66   \n",
              "9                        34              58   \n",
              "10                       34              60   \n",
              "11                       34              61   \n",
              "12                       34              67   \n",
              "13                       34              60   \n",
              "14                       35              64   \n",
              "15                       35              63   \n",
              "16                       36              60   \n",
              "17                       36              69   \n",
              "18                       37              60   \n",
              "19                       37              63   \n",
              "\n",
              "    #_positive_axillary_nodes_detected  \\\n",
              "0                                    1   \n",
              "1                                    3   \n",
              "2                                    0   \n",
              "3                                    2   \n",
              "4                                    4   \n",
              "5                                   10   \n",
              "6                                    0   \n",
              "7                                    0   \n",
              "8                                    9   \n",
              "9                                   30   \n",
              "10                                   1   \n",
              "11                                  10   \n",
              "12                                   7   \n",
              "13                                   0   \n",
              "14                                  13   \n",
              "15                                   0   \n",
              "16                                   1   \n",
              "17                                   0   \n",
              "18                                   0   \n",
              "19                                   0   \n",
              "\n",
              "    survival_status(1=patient_survived_=>5_years--0=patient_died_<5years)  \n",
              "0                                                   1                      \n",
              "1                                                   1                      \n",
              "2                                                   1                      \n",
              "3                                                   1                      \n",
              "4                                                   1                      \n",
              "5                                                   1                      \n",
              "6                                                   1                      \n",
              "7                                                   0                      \n",
              "8                                                   0                      \n",
              "9                                                   1                      \n",
              "10                                                  1                      \n",
              "11                                                  1                      \n",
              "12                                                  1                      \n",
              "13                                                  1                      \n",
              "14                                                  1                      \n",
              "15                                                  1                      \n",
              "16                                                  1                      \n",
              "17                                                  1                      \n",
              "18                                                  1                      \n",
              "19                                                  1                      "
            ]
          },
          "metadata": {
            "tags": []
          },
          "execution_count": 1
        }
      ]
    },
    {
      "metadata": {
        "id": "GENXm8BQ-sVF",
        "colab_type": "code",
        "colab": {
          "base_uri": "https://localhost:8080/",
          "height": 101
        },
        "outputId": "ab2d302d-045c-4216-f5aa-093485097921"
      },
      "cell_type": "code",
      "source": [
        "# Validate that you have no missing values.\n",
        "df.isnull().sum()"
      ],
      "execution_count": 2,
      "outputs": [
        {
          "output_type": "execute_result",
          "data": {
            "text/plain": [
              "patient_age_@_operation                                                  0\n",
              "operation_year                                                           0\n",
              "#_positive_axillary_nodes_detected                                       0\n",
              "survival_status(1=patient_survived_=>5_years--0=patient_died_<5years)    0\n",
              "dtype: int64"
            ]
          },
          "metadata": {
            "tags": []
          },
          "execution_count": 2
        }
      ]
    },
    {
      "metadata": {
        "id": "hNtGJFs0HLYG",
        "colab_type": "code",
        "colab": {
          "base_uri": "https://localhost:8080/",
          "height": 195
        },
        "outputId": "033faebb-b1c1-4ba2-c838-8b284a978395"
      },
      "cell_type": "code",
      "source": [
        "df.head(5)"
      ],
      "execution_count": 3,
      "outputs": [
        {
          "output_type": "execute_result",
          "data": {
            "text/html": [
              "<div>\n",
              "<style scoped>\n",
              "    .dataframe tbody tr th:only-of-type {\n",
              "        vertical-align: middle;\n",
              "    }\n",
              "\n",
              "    .dataframe tbody tr th {\n",
              "        vertical-align: top;\n",
              "    }\n",
              "\n",
              "    .dataframe thead th {\n",
              "        text-align: right;\n",
              "    }\n",
              "</style>\n",
              "<table border=\"1\" class=\"dataframe\">\n",
              "  <thead>\n",
              "    <tr style=\"text-align: right;\">\n",
              "      <th></th>\n",
              "      <th>patient_age_@_operation</th>\n",
              "      <th>operation_year</th>\n",
              "      <th>#_positive_axillary_nodes_detected</th>\n",
              "      <th>survival_status(1=patient_survived_=&gt;5_years--0=patient_died_&lt;5years)</th>\n",
              "    </tr>\n",
              "  </thead>\n",
              "  <tbody>\n",
              "    <tr>\n",
              "      <th>0</th>\n",
              "      <td>30</td>\n",
              "      <td>64</td>\n",
              "      <td>1</td>\n",
              "      <td>1</td>\n",
              "    </tr>\n",
              "    <tr>\n",
              "      <th>1</th>\n",
              "      <td>30</td>\n",
              "      <td>62</td>\n",
              "      <td>3</td>\n",
              "      <td>1</td>\n",
              "    </tr>\n",
              "    <tr>\n",
              "      <th>2</th>\n",
              "      <td>30</td>\n",
              "      <td>65</td>\n",
              "      <td>0</td>\n",
              "      <td>1</td>\n",
              "    </tr>\n",
              "    <tr>\n",
              "      <th>3</th>\n",
              "      <td>31</td>\n",
              "      <td>59</td>\n",
              "      <td>2</td>\n",
              "      <td>1</td>\n",
              "    </tr>\n",
              "    <tr>\n",
              "      <th>4</th>\n",
              "      <td>31</td>\n",
              "      <td>65</td>\n",
              "      <td>4</td>\n",
              "      <td>1</td>\n",
              "    </tr>\n",
              "  </tbody>\n",
              "</table>\n",
              "</div>"
            ],
            "text/plain": [
              "   patient_age_@_operation  operation_year  \\\n",
              "0                       30              64   \n",
              "1                       30              62   \n",
              "2                       30              65   \n",
              "3                       31              59   \n",
              "4                       31              65   \n",
              "\n",
              "   #_positive_axillary_nodes_detected  \\\n",
              "0                                   1   \n",
              "1                                   3   \n",
              "2                                   0   \n",
              "3                                   2   \n",
              "4                                   4   \n",
              "\n",
              "   survival_status(1=patient_survived_=>5_years--0=patient_died_<5years)  \n",
              "0                                                  1                      \n",
              "1                                                  1                      \n",
              "2                                                  1                      \n",
              "3                                                  1                      \n",
              "4                                                  1                      "
            ]
          },
          "metadata": {
            "tags": []
          },
          "execution_count": 3
        }
      ]
    },
    {
      "metadata": {
        "id": "G7rLytbrO38L",
        "colab_type": "text"
      },
      "cell_type": "markdown",
      "source": [
        "## Part 2 - Examine the distribution and relationships of the features\n",
        "\n",
        "Explore the data - create at least *2* tables (can be summary statistics or crosstabulations) and *2* plots illustrating the nature of the data.\n",
        "\n",
        "This is open-ended, so to remind - first *complete* this task as a baseline, then go on to the remaining sections, and *then* as time allows revisit and explore further.\n",
        "\n",
        "Hint - you may need to bin some variables depending on your chosen tables/plots."
      ]
    },
    {
      "metadata": {
        "id": "JlVGhGJJQbs0",
        "colab_type": "code",
        "colab": {}
      },
      "cell_type": "code",
      "source": [
        "# TODO\n",
        "#Explore the data - create at least 2 tables (can be summary statistics or crosstabulations) and 2 plots illustrating the nature of the data."
      ],
      "execution_count": 0,
      "outputs": []
    },
    {
      "metadata": {
        "id": "hFiVAvUEQgyf",
        "colab_type": "code",
        "colab": {}
      },
      "cell_type": "code",
      "source": [
        "# TABLE AND PLOT ONE"
      ],
      "execution_count": 0,
      "outputs": []
    },
    {
      "metadata": {
        "id": "IAkllgCIFVj0",
        "colab_type": "code",
        "colab": {
          "base_uri": "https://localhost:8080/",
          "height": 182
        },
        "outputId": "fc27e764-a9fa-40b4-fda5-c93a0965a2a6"
      },
      "cell_type": "code",
      "source": [
        "\n",
        "print(pd.crosstab(df['survival_status(1=patient_survived_=>5_years--0=patient_died_<5years)'],df['patient_age_@_operation']).shape)\n",
        "pd.crosstab(df['survival_status(1=patient_survived_=>5_years--0=patient_died_<5years)'],df['patient_age_@_operation'])"
      ],
      "execution_count": 5,
      "outputs": [
        {
          "output_type": "stream",
          "text": [
            "(2, 49)\n"
          ],
          "name": "stdout"
        },
        {
          "output_type": "execute_result",
          "data": {
            "text/html": [
              "<div>\n",
              "<style scoped>\n",
              "    .dataframe tbody tr th:only-of-type {\n",
              "        vertical-align: middle;\n",
              "    }\n",
              "\n",
              "    .dataframe tbody tr th {\n",
              "        vertical-align: top;\n",
              "    }\n",
              "\n",
              "    .dataframe thead th {\n",
              "        text-align: right;\n",
              "    }\n",
              "</style>\n",
              "<table border=\"1\" class=\"dataframe\">\n",
              "  <thead>\n",
              "    <tr style=\"text-align: right;\">\n",
              "      <th>patient_age_@_operation</th>\n",
              "      <th>30</th>\n",
              "      <th>31</th>\n",
              "      <th>33</th>\n",
              "      <th>34</th>\n",
              "      <th>35</th>\n",
              "      <th>36</th>\n",
              "      <th>37</th>\n",
              "      <th>38</th>\n",
              "      <th>39</th>\n",
              "      <th>40</th>\n",
              "      <th>...</th>\n",
              "      <th>70</th>\n",
              "      <th>71</th>\n",
              "      <th>72</th>\n",
              "      <th>73</th>\n",
              "      <th>74</th>\n",
              "      <th>75</th>\n",
              "      <th>76</th>\n",
              "      <th>77</th>\n",
              "      <th>78</th>\n",
              "      <th>83</th>\n",
              "    </tr>\n",
              "    <tr>\n",
              "      <th>survival_status(1=patient_survived_=&gt;5_years--0=patient_died_&lt;5years)</th>\n",
              "      <th></th>\n",
              "      <th></th>\n",
              "      <th></th>\n",
              "      <th></th>\n",
              "      <th></th>\n",
              "      <th></th>\n",
              "      <th></th>\n",
              "      <th></th>\n",
              "      <th></th>\n",
              "      <th></th>\n",
              "      <th></th>\n",
              "      <th></th>\n",
              "      <th></th>\n",
              "      <th></th>\n",
              "      <th></th>\n",
              "      <th></th>\n",
              "      <th></th>\n",
              "      <th></th>\n",
              "      <th></th>\n",
              "      <th></th>\n",
              "      <th></th>\n",
              "    </tr>\n",
              "  </thead>\n",
              "  <tbody>\n",
              "    <tr>\n",
              "      <th>0</th>\n",
              "      <td>0</td>\n",
              "      <td>0</td>\n",
              "      <td>0</td>\n",
              "      <td>2</td>\n",
              "      <td>0</td>\n",
              "      <td>0</td>\n",
              "      <td>0</td>\n",
              "      <td>1</td>\n",
              "      <td>1</td>\n",
              "      <td>0</td>\n",
              "      <td>...</td>\n",
              "      <td>2</td>\n",
              "      <td>0</td>\n",
              "      <td>1</td>\n",
              "      <td>0</td>\n",
              "      <td>1</td>\n",
              "      <td>0</td>\n",
              "      <td>0</td>\n",
              "      <td>0</td>\n",
              "      <td>1</td>\n",
              "      <td>1</td>\n",
              "    </tr>\n",
              "    <tr>\n",
              "      <th>1</th>\n",
              "      <td>3</td>\n",
              "      <td>2</td>\n",
              "      <td>2</td>\n",
              "      <td>5</td>\n",
              "      <td>2</td>\n",
              "      <td>2</td>\n",
              "      <td>6</td>\n",
              "      <td>9</td>\n",
              "      <td>5</td>\n",
              "      <td>3</td>\n",
              "      <td>...</td>\n",
              "      <td>5</td>\n",
              "      <td>1</td>\n",
              "      <td>3</td>\n",
              "      <td>2</td>\n",
              "      <td>1</td>\n",
              "      <td>1</td>\n",
              "      <td>1</td>\n",
              "      <td>1</td>\n",
              "      <td>0</td>\n",
              "      <td>0</td>\n",
              "    </tr>\n",
              "  </tbody>\n",
              "</table>\n",
              "<p>2 rows × 49 columns</p>\n",
              "</div>"
            ],
            "text/plain": [
              "patient_age_@_operation                             30  31  33  34  35  36  \\\n",
              "survival_status(1=patient_survived_=>5_years--0...                           \n",
              "0                                                    0   0   0   2   0   0   \n",
              "1                                                    3   2   2   5   2   2   \n",
              "\n",
              "patient_age_@_operation                             37  38  39  40 ...  70  \\\n",
              "survival_status(1=patient_survived_=>5_years--0...                 ...       \n",
              "0                                                    0   1   1   0 ...   2   \n",
              "1                                                    6   9   5   3 ...   5   \n",
              "\n",
              "patient_age_@_operation                             71  72  73  74  75  76  \\\n",
              "survival_status(1=patient_survived_=>5_years--0...                           \n",
              "0                                                    0   1   0   1   0   0   \n",
              "1                                                    1   3   2   1   1   1   \n",
              "\n",
              "patient_age_@_operation                             77  78  83  \n",
              "survival_status(1=patient_survived_=>5_years--0...              \n",
              "0                                                    0   1   1  \n",
              "1                                                    1   0   0  \n",
              "\n",
              "[2 rows x 49 columns]"
            ]
          },
          "metadata": {
            "tags": []
          },
          "execution_count": 5
        }
      ]
    },
    {
      "metadata": {
        "id": "Jsu58yUbJ0Sy",
        "colab_type": "code",
        "colab": {
          "base_uri": "https://localhost:8080/",
          "height": 136
        },
        "outputId": "312edf5d-e14e-40c7-c248-1a55c0d28f95"
      },
      "cell_type": "code",
      "source": [
        "# Hint - you may need to bin some variables depending on your chosen tables/plots.\n",
        "# bin the age of the patients\n",
        "age_bins = pd.cut(df['patient_age_@_operation'], 5) # age equally distributed into 5 bins\n",
        "pd.crosstab(df['survival_status(1=patient_survived_=>5_years--0=patient_died_<5years)'],age_bins)"
      ],
      "execution_count": 6,
      "outputs": [
        {
          "output_type": "execute_result",
          "data": {
            "text/html": [
              "<div>\n",
              "<style scoped>\n",
              "    .dataframe tbody tr th:only-of-type {\n",
              "        vertical-align: middle;\n",
              "    }\n",
              "\n",
              "    .dataframe tbody tr th {\n",
              "        vertical-align: top;\n",
              "    }\n",
              "\n",
              "    .dataframe thead th {\n",
              "        text-align: right;\n",
              "    }\n",
              "</style>\n",
              "<table border=\"1\" class=\"dataframe\">\n",
              "  <thead>\n",
              "    <tr style=\"text-align: right;\">\n",
              "      <th>patient_age_@_operation</th>\n",
              "      <th>(29.947, 40.6]</th>\n",
              "      <th>(40.6, 51.2]</th>\n",
              "      <th>(51.2, 61.8]</th>\n",
              "      <th>(61.8, 72.4]</th>\n",
              "      <th>(72.4, 83.0]</th>\n",
              "    </tr>\n",
              "    <tr>\n",
              "      <th>survival_status(1=patient_survived_=&gt;5_years--0=patient_died_&lt;5years)</th>\n",
              "      <th></th>\n",
              "      <th></th>\n",
              "      <th></th>\n",
              "      <th></th>\n",
              "      <th></th>\n",
              "    </tr>\n",
              "  </thead>\n",
              "  <tbody>\n",
              "    <tr>\n",
              "      <th>0</th>\n",
              "      <td>4</td>\n",
              "      <td>31</td>\n",
              "      <td>27</td>\n",
              "      <td>16</td>\n",
              "      <td>3</td>\n",
              "    </tr>\n",
              "    <tr>\n",
              "      <th>1</th>\n",
              "      <td>39</td>\n",
              "      <td>68</td>\n",
              "      <td>69</td>\n",
              "      <td>43</td>\n",
              "      <td>6</td>\n",
              "    </tr>\n",
              "  </tbody>\n",
              "</table>\n",
              "</div>"
            ],
            "text/plain": [
              "patient_age_@_operation                             (29.947, 40.6]  \\\n",
              "survival_status(1=patient_survived_=>5_years--0...                   \n",
              "0                                                                4   \n",
              "1                                                               39   \n",
              "\n",
              "patient_age_@_operation                             (40.6, 51.2]  \\\n",
              "survival_status(1=patient_survived_=>5_years--0...                 \n",
              "0                                                             31   \n",
              "1                                                             68   \n",
              "\n",
              "patient_age_@_operation                             (51.2, 61.8]  \\\n",
              "survival_status(1=patient_survived_=>5_years--0...                 \n",
              "0                                                             27   \n",
              "1                                                             69   \n",
              "\n",
              "patient_age_@_operation                             (61.8, 72.4]  (72.4, 83.0]  \n",
              "survival_status(1=patient_survived_=>5_years--0...                              \n",
              "0                                                             16             3  \n",
              "1                                                             43             6  "
            ]
          },
          "metadata": {
            "tags": []
          },
          "execution_count": 6
        }
      ]
    },
    {
      "metadata": {
        "id": "T5S6d8kSLGx5",
        "colab_type": "code",
        "colab": {
          "base_uri": "https://localhost:8080/",
          "height": 136
        },
        "outputId": "5ac2123d-bef2-49da-c757-0b6a53b37960"
      },
      "cell_type": "code",
      "source": [
        "# normalize the data %\n",
        "\n",
        "# TABLE ONE\n",
        "pd.crosstab(df['survival_status(1=patient_survived_=>5_years--0=patient_died_<5years)'],age_bins, normalize='columns')"
      ],
      "execution_count": 7,
      "outputs": [
        {
          "output_type": "execute_result",
          "data": {
            "text/html": [
              "<div>\n",
              "<style scoped>\n",
              "    .dataframe tbody tr th:only-of-type {\n",
              "        vertical-align: middle;\n",
              "    }\n",
              "\n",
              "    .dataframe tbody tr th {\n",
              "        vertical-align: top;\n",
              "    }\n",
              "\n",
              "    .dataframe thead th {\n",
              "        text-align: right;\n",
              "    }\n",
              "</style>\n",
              "<table border=\"1\" class=\"dataframe\">\n",
              "  <thead>\n",
              "    <tr style=\"text-align: right;\">\n",
              "      <th>patient_age_@_operation</th>\n",
              "      <th>(29.947, 40.6]</th>\n",
              "      <th>(40.6, 51.2]</th>\n",
              "      <th>(51.2, 61.8]</th>\n",
              "      <th>(61.8, 72.4]</th>\n",
              "      <th>(72.4, 83.0]</th>\n",
              "    </tr>\n",
              "    <tr>\n",
              "      <th>survival_status(1=patient_survived_=&gt;5_years--0=patient_died_&lt;5years)</th>\n",
              "      <th></th>\n",
              "      <th></th>\n",
              "      <th></th>\n",
              "      <th></th>\n",
              "      <th></th>\n",
              "    </tr>\n",
              "  </thead>\n",
              "  <tbody>\n",
              "    <tr>\n",
              "      <th>0</th>\n",
              "      <td>0.093023</td>\n",
              "      <td>0.313131</td>\n",
              "      <td>0.28125</td>\n",
              "      <td>0.271186</td>\n",
              "      <td>0.333333</td>\n",
              "    </tr>\n",
              "    <tr>\n",
              "      <th>1</th>\n",
              "      <td>0.906977</td>\n",
              "      <td>0.686869</td>\n",
              "      <td>0.71875</td>\n",
              "      <td>0.728814</td>\n",
              "      <td>0.666667</td>\n",
              "    </tr>\n",
              "  </tbody>\n",
              "</table>\n",
              "</div>"
            ],
            "text/plain": [
              "patient_age_@_operation                             (29.947, 40.6]  \\\n",
              "survival_status(1=patient_survived_=>5_years--0...                   \n",
              "0                                                         0.093023   \n",
              "1                                                         0.906977   \n",
              "\n",
              "patient_age_@_operation                             (40.6, 51.2]  \\\n",
              "survival_status(1=patient_survived_=>5_years--0...                 \n",
              "0                                                       0.313131   \n",
              "1                                                       0.686869   \n",
              "\n",
              "patient_age_@_operation                             (51.2, 61.8]  \\\n",
              "survival_status(1=patient_survived_=>5_years--0...                 \n",
              "0                                                        0.28125   \n",
              "1                                                        0.71875   \n",
              "\n",
              "patient_age_@_operation                             (61.8, 72.4]  (72.4, 83.0]  \n",
              "survival_status(1=patient_survived_=>5_years--0...                              \n",
              "0                                                       0.271186      0.333333  \n",
              "1                                                       0.728814      0.666667  "
            ]
          },
          "metadata": {
            "tags": []
          },
          "execution_count": 7
        }
      ]
    },
    {
      "metadata": {
        "id": "29bOsMt1ODH-",
        "colab_type": "code",
        "colab": {
          "base_uri": "https://localhost:8080/",
          "height": 393
        },
        "outputId": "749c3e42-e8c9-4679-a303-715d96d77a32"
      },
      "cell_type": "code",
      "source": [
        "# PLOT ONE\n",
        "import matplotlib.pyplot as plt\n",
        "plt.ylabel('number of people')\n",
        "plt.xlabel('0 = not survived, 1 = survived')\n",
        "plt.title('PLOT ONE: Survival status of patients, post-operation')\n",
        "df['survival_status(1=patient_survived_=>5_years--0=patient_died_<5years)'].hist()"
      ],
      "execution_count": 9,
      "outputs": [
        {
          "output_type": "execute_result",
          "data": {
            "text/plain": [
              "<matplotlib.axes._subplots.AxesSubplot at 0x7f8f75269240>"
            ]
          },
          "metadata": {
            "tags": []
          },
          "execution_count": 9
        },
        {
          "output_type": "display_data",
          "data": {
            "image/png": "[encoded data removed]",
            "text/plain": [
              "<Figure size 576x396 with 1 Axes>"
            ]
          },
          "metadata": {
            "tags": []
          }
        }
      ]
    },
    {
      "metadata": {
        "id": "r4SK9rEGQnuB",
        "colab_type": "code",
        "colab": {}
      },
      "cell_type": "code",
      "source": [
        "# TABLE TWO AND PLOT TWO"
      ],
      "execution_count": 0,
      "outputs": []
    },
    {
      "metadata": {
        "id": "27lBg8exQq73",
        "colab_type": "code",
        "colab": {
          "base_uri": "https://localhost:8080/",
          "height": 182
        },
        "outputId": "64dd4390-6af7-4f26-dd74-f93861a819e6"
      },
      "cell_type": "code",
      "source": [
        "print(pd.crosstab(df['survival_status(1=patient_survived_=>5_years--0=patient_died_<5years)'], df['#_positive_axillary_nodes_detected']).shape)\n",
        "pd.crosstab(df['survival_status(1=patient_survived_=>5_years--0=patient_died_<5years)'], df['#_positive_axillary_nodes_detected'])"
      ],
      "execution_count": 18,
      "outputs": [
        {
          "output_type": "stream",
          "text": [
            "(2, 31)\n"
          ],
          "name": "stdout"
        },
        {
          "output_type": "execute_result",
          "data": {
            "text/html": [
              "<div>\n",
              "<style scoped>\n",
              "    .dataframe tbody tr th:only-of-type {\n",
              "        vertical-align: middle;\n",
              "    }\n",
              "\n",
              "    .dataframe tbody tr th {\n",
              "        vertical-align: top;\n",
              "    }\n",
              "\n",
              "    .dataframe thead th {\n",
              "        text-align: right;\n",
              "    }\n",
              "</style>\n",
              "<table border=\"1\" class=\"dataframe\">\n",
              "  <thead>\n",
              "    <tr style=\"text-align: right;\">\n",
              "      <th>#_positive_axillary_nodes_detected</th>\n",
              "      <th>0</th>\n",
              "      <th>1</th>\n",
              "      <th>2</th>\n",
              "      <th>3</th>\n",
              "      <th>4</th>\n",
              "      <th>5</th>\n",
              "      <th>6</th>\n",
              "      <th>7</th>\n",
              "      <th>8</th>\n",
              "      <th>9</th>\n",
              "      <th>...</th>\n",
              "      <th>21</th>\n",
              "      <th>22</th>\n",
              "      <th>23</th>\n",
              "      <th>24</th>\n",
              "      <th>25</th>\n",
              "      <th>28</th>\n",
              "      <th>30</th>\n",
              "      <th>35</th>\n",
              "      <th>46</th>\n",
              "      <th>52</th>\n",
              "    </tr>\n",
              "    <tr>\n",
              "      <th>survival_status(1=patient_survived_=&gt;5_years--0=patient_died_&lt;5years)</th>\n",
              "      <th></th>\n",
              "      <th></th>\n",
              "      <th></th>\n",
              "      <th></th>\n",
              "      <th></th>\n",
              "      <th></th>\n",
              "      <th></th>\n",
              "      <th></th>\n",
              "      <th></th>\n",
              "      <th></th>\n",
              "      <th></th>\n",
              "      <th></th>\n",
              "      <th></th>\n",
              "      <th></th>\n",
              "      <th></th>\n",
              "      <th></th>\n",
              "      <th></th>\n",
              "      <th></th>\n",
              "      <th></th>\n",
              "      <th></th>\n",
              "      <th></th>\n",
              "    </tr>\n",
              "  </thead>\n",
              "  <tbody>\n",
              "    <tr>\n",
              "      <th>0</th>\n",
              "      <td>19</td>\n",
              "      <td>8</td>\n",
              "      <td>5</td>\n",
              "      <td>7</td>\n",
              "      <td>3</td>\n",
              "      <td>4</td>\n",
              "      <td>3</td>\n",
              "      <td>2</td>\n",
              "      <td>2</td>\n",
              "      <td>4</td>\n",
              "      <td>...</td>\n",
              "      <td>1</td>\n",
              "      <td>1</td>\n",
              "      <td>3</td>\n",
              "      <td>1</td>\n",
              "      <td>0</td>\n",
              "      <td>0</td>\n",
              "      <td>0</td>\n",
              "      <td>1</td>\n",
              "      <td>0</td>\n",
              "      <td>1</td>\n",
              "    </tr>\n",
              "    <tr>\n",
              "      <th>1</th>\n",
              "      <td>117</td>\n",
              "      <td>33</td>\n",
              "      <td>15</td>\n",
              "      <td>13</td>\n",
              "      <td>10</td>\n",
              "      <td>2</td>\n",
              "      <td>4</td>\n",
              "      <td>5</td>\n",
              "      <td>5</td>\n",
              "      <td>2</td>\n",
              "      <td>...</td>\n",
              "      <td>0</td>\n",
              "      <td>2</td>\n",
              "      <td>0</td>\n",
              "      <td>0</td>\n",
              "      <td>1</td>\n",
              "      <td>1</td>\n",
              "      <td>1</td>\n",
              "      <td>0</td>\n",
              "      <td>1</td>\n",
              "      <td>0</td>\n",
              "    </tr>\n",
              "  </tbody>\n",
              "</table>\n",
              "<p>2 rows × 31 columns</p>\n",
              "</div>"
            ],
            "text/plain": [
              "#_positive_axillary_nodes_detected                   0   1   2   3   4   5   \\\n",
              "survival_status(1=patient_survived_=>5_years--0...                            \n",
              "0                                                    19   8   5   7   3   4   \n",
              "1                                                   117  33  15  13  10   2   \n",
              "\n",
              "#_positive_axillary_nodes_detected                  6   7   8   9  ...  21  \\\n",
              "survival_status(1=patient_survived_=>5_years--0...                 ...       \n",
              "0                                                    3   2   2   4 ...   1   \n",
              "1                                                    4   5   5   2 ...   0   \n",
              "\n",
              "#_positive_axillary_nodes_detected                  22  23  24  25  28  30  \\\n",
              "survival_status(1=patient_survived_=>5_years--0...                           \n",
              "0                                                    1   3   1   0   0   0   \n",
              "1                                                    2   0   0   1   1   1   \n",
              "\n",
              "#_positive_axillary_nodes_detected                  35  46  52  \n",
              "survival_status(1=patient_survived_=>5_years--0...              \n",
              "0                                                    1   0   1  \n",
              "1                                                    0   1   0  \n",
              "\n",
              "[2 rows x 31 columns]"
            ]
          },
          "metadata": {
            "tags": []
          },
          "execution_count": 18
        }
      ]
    },
    {
      "metadata": {
        "id": "wvuzlfj_Rq6h",
        "colab_type": "code",
        "colab": {
          "base_uri": "https://localhost:8080/",
          "height": 170
        },
        "outputId": "1958c33e-3dfb-49a4-82dd-d19aa4a202d3"
      },
      "cell_type": "code",
      "source": [
        "# bin and normalize the data \n",
        "\n",
        "# TABLE TWO \n",
        "\n",
        "nodes_detected_bins = pd.cut(df['#_positive_axillary_nodes_detected'], 8)\n",
        "pd.crosstab(df['survival_status(1=patient_survived_=>5_years--0=patient_died_<5years)'], nodes_detected_bins, normalize='columns')\n"
      ],
      "execution_count": 19,
      "outputs": [
        {
          "output_type": "execute_result",
          "data": {
            "text/html": [
              "<div>\n",
              "<style scoped>\n",
              "    .dataframe tbody tr th:only-of-type {\n",
              "        vertical-align: middle;\n",
              "    }\n",
              "\n",
              "    .dataframe tbody tr th {\n",
              "        vertical-align: top;\n",
              "    }\n",
              "\n",
              "    .dataframe thead th {\n",
              "        text-align: right;\n",
              "    }\n",
              "</style>\n",
              "<table border=\"1\" class=\"dataframe\">\n",
              "  <thead>\n",
              "    <tr style=\"text-align: right;\">\n",
              "      <th>#_positive_axillary_nodes_detected</th>\n",
              "      <th>(-0.052, 6.5]</th>\n",
              "      <th>(6.5, 13.0]</th>\n",
              "      <th>(13.0, 19.5]</th>\n",
              "      <th>(19.5, 26.0]</th>\n",
              "      <th>(26.0, 32.5]</th>\n",
              "      <th>(32.5, 39.0]</th>\n",
              "      <th>(39.0, 45.5]</th>\n",
              "      <th>(45.5, 52.0]</th>\n",
              "    </tr>\n",
              "    <tr>\n",
              "      <th>survival_status(1=patient_survived_=&gt;5_years--0=patient_died_&lt;5years)</th>\n",
              "      <th></th>\n",
              "      <th></th>\n",
              "      <th></th>\n",
              "      <th></th>\n",
              "      <th></th>\n",
              "      <th></th>\n",
              "      <th></th>\n",
              "      <th></th>\n",
              "    </tr>\n",
              "  </thead>\n",
              "  <tbody>\n",
              "    <tr>\n",
              "      <th>0</th>\n",
              "      <td>0.201646</td>\n",
              "      <td>0.5</td>\n",
              "      <td>0.461538</td>\n",
              "      <td>0.636364</td>\n",
              "      <td>0.0</td>\n",
              "      <td>1.0</td>\n",
              "      <td>0.0</td>\n",
              "      <td>0.5</td>\n",
              "    </tr>\n",
              "    <tr>\n",
              "      <th>1</th>\n",
              "      <td>0.798354</td>\n",
              "      <td>0.5</td>\n",
              "      <td>0.538462</td>\n",
              "      <td>0.363636</td>\n",
              "      <td>1.0</td>\n",
              "      <td>0.0</td>\n",
              "      <td>0.0</td>\n",
              "      <td>0.5</td>\n",
              "    </tr>\n",
              "  </tbody>\n",
              "</table>\n",
              "</div>"
            ],
            "text/plain": [
              "#_positive_axillary_nodes_detected                  (-0.052, 6.5]  \\\n",
              "survival_status(1=patient_survived_=>5_years--0...                  \n",
              "0                                                        0.201646   \n",
              "1                                                        0.798354   \n",
              "\n",
              "#_positive_axillary_nodes_detected                  (6.5, 13.0]  (13.0, 19.5]  \\\n",
              "survival_status(1=patient_survived_=>5_years--0...                              \n",
              "0                                                           0.5      0.461538   \n",
              "1                                                           0.5      0.538462   \n",
              "\n",
              "#_positive_axillary_nodes_detected                  (19.5, 26.0]  \\\n",
              "survival_status(1=patient_survived_=>5_years--0...                 \n",
              "0                                                       0.636364   \n",
              "1                                                       0.363636   \n",
              "\n",
              "#_positive_axillary_nodes_detected                  (26.0, 32.5]  \\\n",
              "survival_status(1=patient_survived_=>5_years--0...                 \n",
              "0                                                            0.0   \n",
              "1                                                            1.0   \n",
              "\n",
              "#_positive_axillary_nodes_detected                  (32.5, 39.0]  \\\n",
              "survival_status(1=patient_survived_=>5_years--0...                 \n",
              "0                                                            1.0   \n",
              "1                                                            0.0   \n",
              "\n",
              "#_positive_axillary_nodes_detected                  (39.0, 45.5]  (45.5, 52.0]  \n",
              "survival_status(1=patient_survived_=>5_years--0...                              \n",
              "0                                                            0.0           0.5  \n",
              "1                                                            0.0           0.5  "
            ]
          },
          "metadata": {
            "tags": []
          },
          "execution_count": 19
        }
      ]
    },
    {
      "metadata": {
        "id": "i-FMY7bIV059",
        "colab_type": "code",
        "colab": {
          "base_uri": "https://localhost:8080/",
          "height": 393
        },
        "outputId": "e0526daf-75cd-4e4d-881c-11649dc41201"
      },
      "cell_type": "code",
      "source": [
        "# PLOT TWO\n",
        "\n",
        "plt.scatter(df['survival_status(1=patient_survived_=>5_years--0=patient_died_<5years)'], df['#_positive_axillary_nodes_detected'])\n",
        "plt.xlabel('survival rate , 0 = not survive, 1 = survive')\n",
        "plt.ylabel('nodes found')\n",
        "plt.title('PLOT TWO: survival rate of finding of positive axillary nodes in patients')"
      ],
      "execution_count": 24,
      "outputs": [
        {
          "output_type": "execute_result",
          "data": {
            "text/plain": [
              "Text(0.5, 1.0, 'PLOT TWO: survival rate of finding of positive axillary nodes in patients')"
            ]
          },
          "metadata": {
            "tags": []
          },
          "execution_count": 24
        },
        {
          "output_type": "display_data",
          "data": {
            "image/png": "[encoded data removed]",
            "text/plain": [
              "<Figure size 576x396 with 1 Axes>"
            ]
          },
          "metadata": {
            "tags": []
          }
        }
      ]
    },
    {
      "metadata": {
        "id": "ZM8JckA2bgnp",
        "colab_type": "text"
      },
      "cell_type": "markdown",
      "source": [
        "## Part 3 - Analysis and Interpretation\n",
        "\n",
        "Now that you've looked at the data, answer the following questions:\n",
        "\n",
        "- What is at least one feature that looks to have a positive relationship with survival?\n",
        "- What is at least one feature that looks to have a negative relationship with survival?\n",
        "- How are those two features related with each other, and what might that mean?\n",
        "\n",
        "Answer with text, but feel free to intersperse example code/results or refer to it from earlier."
      ]
    },
    {
      "metadata": {
        "id": "esbmfG84YtMA",
        "colab_type": "text"
      },
      "cell_type": "markdown",
      "source": [
        "**What is at least one feature that looks to have a positive relationship with survival?**\n",
        "Death and the finding a positive axillary nodes have a postive relationship. The more nodes they find, the more people die.\n",
        "\n",
        "\n",
        "**What is at least one feature that looks to have a negative relationship with survival?**\n",
        "Patient age has a negative relationship with survival. When the survival rate is the highest(~91%), the age of the patients are the least(between the ages of 29 and 40 years of age). The survival rate is the lowest(~67%) when the age of the patients are the highest(between the ages of 72 and 83 years of age).\n",
        "\n",
        "**How are those two features related with each other, and what might that mean?**\n",
        "Positive axillary nodes and death(or survival) are related, so that means positive axillary node findings are bad. This conclusion makes sense because  positive axillary nodes are lymph nodes where cancer has spread."
      ]
    }
  ]
}