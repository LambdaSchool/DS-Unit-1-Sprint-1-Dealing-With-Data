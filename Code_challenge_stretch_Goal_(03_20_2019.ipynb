{
  "nbformat": 4,
  "nbformat_minor": 0,
  "metadata": {
    "colab": {
      "name": "Code challenge stretch Goal (03/20/2019.ipynb",
      "version": "0.3.2",
      "provenance": [],
      "include_colab_link": true
    },
    "kernelspec": {
      "name": "python3",
      "display_name": "Python 3"
    }
  },
  "cells": [
    {
      "cell_type": "markdown",
      "metadata": {
        "id": "view-in-github",
        "colab_type": "text"
      },
      "source": [
        "<a href=\"https://colab.research.google.com/github/Granero0011/DS-Unit-1-Sprint-1-Dealing-With-Data/blob/master/Code_challenge_stretch_Goal_(03_20_2019.ipynb\" target=\"_parent\"><img src=\"https://colab.research.google.com/assets/colab-badge.svg\" alt=\"Open In Colab\"/></a>"
      ]
    },
    {
      "metadata": {
        "id": "J-8slAoxrbai",
        "colab_type": "code",
        "colab": {
          "base_uri": "https://localhost:8080/",
          "height": 357
        },
        "outputId": "644b7e0f-dfd9-4b47-b6f1-531d5501e71c"
      },
      "cell_type": "code",
      "source": [
        "import pandas as pd\n",
        "import numpy as np\n",
        "\n",
        "Dataset1= pd.read_csv('https://raw.githubusercontent.com/pierretd/datasets-1/master/BlackFriday.csv')\n",
        "print(Dataset1.head(5))"
      ],
      "execution_count": 17,
      "outputs": [
        {
          "output_type": "stream",
          "text": [
            "   User_ID Product_ID Gender   Age  Occupation City_Category  \\\n",
            "0  1000001  P00069042      F  0-17          10             A   \n",
            "1  1000001  P00248942      F  0-17          10             A   \n",
            "2  1000001  P00087842      F  0-17          10             A   \n",
            "3  1000001  P00085442      F  0-17          10             A   \n",
            "4  1000002  P00285442      M   55+          16             C   \n",
            "\n",
            "  Stay_In_Current_City_Years  Marital_Status  Product_Category_1  \\\n",
            "0                          2               0                   3   \n",
            "1                          2               0                   1   \n",
            "2                          2               0                  12   \n",
            "3                          2               0                  12   \n",
            "4                         4+               0                   8   \n",
            "\n",
            "   Product_Category_2  Product_Category_3  Purchase  \n",
            "0                 NaN                 NaN      8370  \n",
            "1                 6.0                14.0     15200  \n",
            "2                 NaN                 NaN      1422  \n",
            "3                14.0                 NaN      1057  \n",
            "4                 NaN                 NaN      7969  \n"
          ],
          "name": "stdout"
        }
      ]
    },
    {
      "metadata": {
        "id": "foZrBDLRrq72",
        "colab_type": "code",
        "colab": {
          "base_uri": "https://localhost:8080/",
          "height": 51
        },
        "outputId": "9c3c52a1-7ff2-4530-d6ea-2570e1f1abc4"
      },
      "cell_type": "code",
      "source": [
        "#Count the NaN in the two columns identified as problematic\n",
        "print(Dataset1['Product_Category_2'].isnull().sum())\n",
        "print(Dataset1['Product_Category_3'].isnull().sum())"
      ],
      "execution_count": 18,
      "outputs": [
        {
          "output_type": "stream",
          "text": [
            "166986\n",
            "373299\n"
          ],
          "name": "stdout"
        }
      ]
    },
    {
      "metadata": {
        "id": "ypcAmB9IsXjD",
        "colab_type": "code",
        "colab": {
          "base_uri": "https://localhost:8080/",
          "height": 51
        },
        "outputId": "c9eebb3f-e921-4a93-82a8-64f5e4d643c7"
      },
      "cell_type": "code",
      "source": [
        "#use forward fill to replace the NaN value in Category 2\n",
        "Dataset1['Product_Category_2'] = Dataset1['Product_Category_2'].fillna(method='ffill')\n",
        "print(Dataset1['Product_Category_2'].isnull().sum())\n",
        "medianage=Dataset1['Product_Category_2'].median()\n",
        "Dataset1['Product_Category_2'] = Dataset1['Product_Category_2'].fillna(medianage)\n",
        "print(Dataset1['Product_Category_2'].isnull().sum())\n"
      ],
      "execution_count": 19,
      "outputs": [
        {
          "output_type": "stream",
          "text": [
            "1\n",
            "0\n"
          ],
          "name": "stdout"
        }
      ]
    },
    {
      "metadata": {
        "id": "8dgzgmZPtEUS",
        "colab_type": "code",
        "colab": {
          "base_uri": "https://localhost:8080/",
          "height": 51
        },
        "outputId": "fa39cde3-0f1c-47ec-f459-67fbf0c6f8f8"
      },
      "cell_type": "code",
      "source": [
        "#use forward fill to replace the NaN value in Category 3\n",
        "Dataset1['Product_Category_3'] = Dataset1['Product_Category_3'].fillna(method='ffill')\n",
        "print(Dataset1['Product_Category_3'].isnull().sum())\n",
        "medianage=Dataset1['Product_Category_3'].median()\n",
        "Dataset1['Product_Category_3'] = Dataset1['Product_Category_3'].fillna(medianage)\n",
        "print(Dataset1['Product_Category_3'].isnull().sum())\n"
      ],
      "execution_count": 20,
      "outputs": [
        {
          "output_type": "stream",
          "text": [
            "1\n",
            "0\n"
          ],
          "name": "stdout"
        }
      ]
    },
    {
      "metadata": {
        "id": "cMWH-C-gsy3b",
        "colab_type": "code",
        "colab": {
          "base_uri": "https://localhost:8080/",
          "height": 238
        },
        "outputId": "e79745c3-ab53-468d-a3ef-727160ac92c2"
      },
      "cell_type": "code",
      "source": [
        "#Rename the Dataset Header\n",
        "Dataset1=Dataset1.rename(index=str, columns={\"Product_Category_1\": \"Soap\", \"Product_Category_2\": \"Butter\", \"Product_Category_3\":\"Fish\"})\n",
        "print(Dataset1.head(5))"
      ],
      "execution_count": 21,
      "outputs": [
        {
          "output_type": "stream",
          "text": [
            "   User_ID Product_ID Gender   Age  Occupation City_Category  \\\n",
            "0  1000001  P00069042      F  0-17          10             A   \n",
            "1  1000001  P00248942      F  0-17          10             A   \n",
            "2  1000001  P00087842      F  0-17          10             A   \n",
            "3  1000001  P00085442      F  0-17          10             A   \n",
            "4  1000002  P00285442      M   55+          16             C   \n",
            "\n",
            "  Stay_In_Current_City_Years  Marital_Status  Soap  Butter  Fish  Purchase  \n",
            "0                          2               0     3     9.0  14.0      8370  \n",
            "1                          2               0     1     6.0  14.0     15200  \n",
            "2                          2               0    12     6.0  14.0      1422  \n",
            "3                          2               0    12    14.0  14.0      1057  \n",
            "4                         4+               0     8    14.0  14.0      7969  \n"
          ],
          "name": "stdout"
        }
      ]
    },
    {
      "metadata": {
        "id": "6Zl9CcNmvOd0",
        "colab_type": "code",
        "colab": {
          "base_uri": "https://localhost:8080/",
          "height": 102
        },
        "outputId": "c6373e70-08b8-4660-f6f5-f1e63e1a55fb"
      },
      "cell_type": "code",
      "source": [
        "#Count the number of unique user id\n",
        "print(Dataset1['User_ID'].isnull().sum())\n",
        "\n",
        "print('Unique Values_User_ID')\n",
        "counting =np.unique(Dataset1['User_ID'])\n",
        "print(len(counting))\n",
        "\n",
        "#Count the number of unique age brackets\n",
        "print('Unique Values_Age Bracket')\n",
        "counting =np.unique(Dataset1['Age'])\n",
        "print(len(counting))\n",
        "\n",
        "\n"
      ],
      "execution_count": 26,
      "outputs": [
        {
          "output_type": "stream",
          "text": [
            "0\n",
            "Unique Values_User_ID\n",
            "5891\n",
            "Unique Values_Age Bracket\n",
            "7\n"
          ],
          "name": "stdout"
        }
      ]
    },
    {
      "metadata": {
        "id": "j_ygzfgFvrxk",
        "colab_type": "code",
        "colab": {}
      },
      "cell_type": "code",
      "source": [
        ""
      ],
      "execution_count": 0,
      "outputs": []
    }
  ]
}