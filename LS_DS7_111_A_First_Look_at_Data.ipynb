{
  "nbformat": 4,
  "nbformat_minor": 0,
  "metadata": {
    "colab": {
      "name": "LS_DS7_111_A_First_Look_at_Data.ipynb",
      "version": "0.3.2",
      "provenance": [],
      "collapsed_sections": [],
      "include_colab_link": true
    },
    "kernelspec": {
      "name": "python3",
      "display_name": "Python 3"
    }
  },
  "cells": [
    {
      "cell_type": "markdown",
      "metadata": {
        "id": "view-in-github",
        "colab_type": "text"
      },
      "source": [
        "<a href=\"https://colab.research.google.com/github/maiormarso/DS-Unit-1-Sprint-1-Dealing-With-Data/blob/master/LS_DS7_111_A_First_Look_at_Data.ipynb\" target=\"_parent\"><img src=\"https://colab.research.google.com/assets/colab-badge.svg\" alt=\"Open In Colab\"/></a>"
      ]
    },
    {
      "cell_type": "markdown",
      "metadata": {
        "id": "Okfr_uhwhS1X",
        "colab_type": "text"
      },
      "source": [
        "# Lambda School Data Science - A First Look at Data\n",
        "\n"
      ]
    },
    {
      "cell_type": "markdown",
      "metadata": {
        "id": "9dtJETFRhnOG",
        "colab_type": "text"
      },
      "source": [
        "## Lecture - let's explore Python DS libraries and examples!\n",
        "\n",
        "The Python Data Science ecosystem is huge. You've seen some of the big pieces - pandas, scikit-learn, matplotlib. What parts do you want to see more of?"
      ]
    },
    {
      "cell_type": "code",
      "metadata": {
        "id": "WiBkgmPJhmhE",
        "colab_type": "code",
        "outputId": "60b509f1-c92f-4f36-fdc5-6c046888ffda",
        "colab": {
          "base_uri": "https://localhost:8080/",
          "height": 34
        }
      },
      "source": [
        "2 * 3"
      ],
      "execution_count": 0,
      "outputs": [
        {
          "output_type": "execute_result",
          "data": {
            "text/plain": [
              "6"
            ]
          },
          "metadata": {
            "tags": []
          },
          "execution_count": 1
        }
      ]
    },
    {
      "cell_type": "markdown",
      "metadata": {
        "id": "0zX8kKraB13Z",
        "colab_type": "text"
      },
      "source": [
        "The rain in Spain falls mainly on the plane. "
      ]
    },
    {
      "cell_type": "code",
      "metadata": {
        "id": "9OQP7uN_9K6M",
        "colab_type": "code",
        "outputId": "b2ca7a9e-6ea2-4380-f901-013d2f305d7a",
        "colab": {
          "base_uri": "https://localhost:8080/",
          "height": 34
        }
      },
      "source": [
        "10 + 10 + 10"
      ],
      "execution_count": 0,
      "outputs": [
        {
          "output_type": "execute_result",
          "data": {
            "text/plain": [
              "30"
            ]
          },
          "metadata": {
            "tags": []
          },
          "execution_count": 4
        }
      ]
    },
    {
      "cell_type": "markdown",
      "metadata": {
        "id": "lOqaPds9huME",
        "colab_type": "text"
      },
      "source": [
        "## Assignment - now it's your turn\n",
        "\n",
        "Pick at least one Python DS library, and using documentation/examples reproduce in this notebook something cool. It's OK if you don't fully understand it or get it 100% working, but do put in effort and look things up."
      ]
    },
    {
      "cell_type": "code",
      "metadata": {
        "id": "TGUS79cOhPWj",
        "colab_type": "code",
        "outputId": "e70b4a2c-1e75-426e-def3-3be46bab4225",
        "colab": {
          "base_uri": "https://localhost:8080/",
          "height": 105
        }
      },
      "source": [
        "# TODO - your code here\n",
        "# Use what we did live in lecture as an example\n",
        "class User:\n",
        "    def __init__(self, full_name, revolution):\n",
        "        self.name = full_name\n",
        "        self.revolution = revolution #mm/dd/yyyy\n",
        "        \n",
        "        # Extract first and last names\n",
        "        name_pieces = full_name.split(' ')\n",
        "        self.first_name = name_pieces[0]\n",
        "        self.middle_name = name_pieces[1]\n",
        "        self.last_name = name_pieces[-1]\n",
        "        \n",
        "\n",
        "        \n",
        "user = User('Emiliano Francisco Zapata', '08/15/1910')\n",
        "print(user.name)\n",
        "print(user.first_name)\n",
        "print(user.middle_name)\n",
        "print(user.last_name)\n",
        "print('revolution date', user.revolution)"
      ],
      "execution_count": 1,
      "outputs": [
        {
          "output_type": "stream",
          "text": [
            "Emiliano Francisco Zapata\n",
            "Emiliano\n",
            "Francisco\n",
            "Zapata\n",
            "revolution date 08/15/1910\n"
          ],
          "name": "stdout"
        }
      ]
    },
    {
      "cell_type": "markdown",
      "metadata": {
        "colab_type": "text",
        "id": "ox5SyCR5tRl6"
      },
      "source": [
        "### Assignment questions\n",
        "\n",
        "After you've worked on some code, answer the following questions in this text block:\n",
        "\n",
        "1.  Describe in a paragraph of text what you did and why, as if you were writing an email to somebody interested but nontechnical.\n",
        "\n",
        "Learning how to create a class  in python, by splitting up a name was very interesting to me.  The lesson showed how to split a full name into first and last names.  I was able to change the code in order to  split the full name into first middle and last names.\n",
        "\n",
        "\n",
        "2.  What was the most challenging part of what you did?  The most challenging part of what I did, was coming up with the idea to do something with the code.\n",
        "\n",
        "It was very difficult finding the code to use for this assignment with the time restrainment.\n",
        "\n",
        "3.  What was the most interesting thing you learned?\n",
        "\n",
        "There is alwasy sometheing one can change, if one puts their mind to it.\n",
        "\n",
        "4.  What area would you like to explore with more time?\n",
        "\n",
        "This lesson delt with classes methods and objects,  Next, I would like to learn about class instances. \n",
        "\n",
        "\n",
        "\n",
        "\n",
        "\n"
      ]
    },
    {
      "cell_type": "markdown",
      "metadata": {
        "id": "_XXg2crAipwP",
        "colab_type": "text"
      },
      "source": [
        "## Stretch goals and resources\n",
        "\n",
        "Following are *optional* things for you to take a look at. Focus on the above assignment first, and make sure to commit and push your changes to GitHub (and since this is the first assignment of the sprint, open a PR as well).\n",
        "\n",
        "- [pandas documentation](https://pandas.pydata.org/pandas-docs/stable/)\n",
        "- [scikit-learn documentation](http://scikit-learn.org/stable/documentation.html)\n",
        "- [matplotlib documentation](https://matplotlib.org/contents.html)\n",
        "- [Awesome Data Science](https://github.com/bulutyazilim/awesome-datascience) - a list of many types of DS resources\n",
        "\n",
        "Stretch goals:\n",
        "\n",
        "- Find and read blogs, walkthroughs, and other examples of people working through cool things with data science - and share with your classmates!\n",
        "- Write a blog post (Medium is a popular place to publish) introducing yourself as somebody learning data science, and talking about what you've learned already and what you're excited to learn more about."
      ]
    },
    {
      "cell_type": "markdown",
      "metadata": {
        "id": "64d54IvitVvY",
        "colab_type": "text"
      },
      "source": [
        ""
      ]
    },
    {
      "cell_type": "markdown",
      "metadata": {
        "id": "W8He4d7AtbT5",
        "colab_type": "text"
      },
      "source": [
        ""
      ]
    }
  ]
}