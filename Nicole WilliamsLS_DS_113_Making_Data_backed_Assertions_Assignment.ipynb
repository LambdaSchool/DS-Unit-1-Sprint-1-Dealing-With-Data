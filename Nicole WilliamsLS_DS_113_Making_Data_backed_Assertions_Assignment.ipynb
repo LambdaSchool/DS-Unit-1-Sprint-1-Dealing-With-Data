{
  "nbformat": 4,
  "nbformat_minor": 0,
  "metadata": {
    "colab": {
      "name": "Copy of LS_DS_113_Making_Data_backed_Assertions_Assignment.ipynb",
      "version": "0.3.2",
      "provenance": [],
      "collapsed_sections": [],
      "include_colab_link": true
    },
    "kernelspec": {
      "name": "python3",
      "display_name": "Python 3"
    }
  },
  "cells": [
    {
      "cell_type": "markdown",
      "metadata": {
        "id": "view-in-github",
        "colab_type": "text"
      },
      "source": [
        "<a href=\"https://colab.research.google.com/github/nwilliams030/DS-Unit-1-Sprint-1-Dealing-With-Data/blob/master/Nicole%20WilliamsLS_DS_113_Making_Data_backed_Assertions_Assignment.ipynb\" target=\"_parent\"><img src=\"https://colab.research.google.com/assets/colab-badge.svg\" alt=\"Open In Colab\"/></a>"
      ]
    },
    {
      "cell_type": "markdown",
      "metadata": {
        "id": "Okfr_uhwhS1X",
        "colab_type": "text"
      },
      "source": [
        "# Lambda School Data Science - Making Data-backed Assertions\n",
        "\n",
        "This is, for many, the main point of data science - to create and support reasoned arguments based on evidence. It's not a topic to master in a day, but it is worth some focused time thinking about and structuring your approach to it."
      ]
    },
    {
      "cell_type": "markdown",
      "metadata": {
        "id": "lOqaPds9huME",
        "colab_type": "text"
      },
      "source": [
        "## Assignment - what's going on here?\n",
        "\n",
        "Consider the data in `persons.csv` (already prepared for you, in the repo for the week). It has four columns - a unique id, followed by age (in years), weight (in lbs), and exercise time (in minutes/week) of 1200 (hypothetical) people.\n",
        "\n",
        "Try to figure out which variables are possibly related to each other, and which may be confounding relationships.\n",
        "\n",
        "Try and isolate the main relationships and then communicate them using crosstabs and graphs. Share any cool graphs that you make with the rest of the class in Slack!"
      ]
    },
    {
      "cell_type": "code",
      "metadata": {
        "id": "TGUS79cOhPWj",
        "colab_type": "code",
        "colab": {
          "base_uri": "https://localhost:8080/",
          "height": 197
        },
        "outputId": "e643f1e5-69f9-4ebb-e551-fe026465625c"
      },
      "source": [
        "# TODO - your code here\n",
        "# Use what we did live in lecture as an example\n",
        "\n",
        "# HINT - you can find the raw URL on GitHub and potentially use that\n",
        "# to load the data with read_csv, or you can upload it yourself\n",
        "\n",
        "import pandas as pd\n",
        "persons_data_url = 'https://raw.githubusercontent.com/LambdaSchool/DS-Unit-1-Sprint-1-Dealing-With-Data/master/module3-databackedassertions/persons.csv'\n",
        "persons_data = pd.read_csv(persons_data_url)\n",
        "persons_data.head(5)"
      ],
      "execution_count": 1,
      "outputs": [
        {
          "output_type": "execute_result",
          "data": {
            "text/html": [
              "<div>\n",
              "<style scoped>\n",
              "    .dataframe tbody tr th:only-of-type {\n",
              "        vertical-align: middle;\n",
              "    }\n",
              "\n",
              "    .dataframe tbody tr th {\n",
              "        vertical-align: top;\n",
              "    }\n",
              "\n",
              "    .dataframe thead th {\n",
              "        text-align: right;\n",
              "    }\n",
              "</style>\n",
              "<table border=\"1\" class=\"dataframe\">\n",
              "  <thead>\n",
              "    <tr style=\"text-align: right;\">\n",
              "      <th></th>\n",
              "      <th>Unnamed: 0</th>\n",
              "      <th>age</th>\n",
              "      <th>weight</th>\n",
              "      <th>exercise_time</th>\n",
              "    </tr>\n",
              "  </thead>\n",
              "  <tbody>\n",
              "    <tr>\n",
              "      <th>0</th>\n",
              "      <td>0</td>\n",
              "      <td>44</td>\n",
              "      <td>118</td>\n",
              "      <td>192</td>\n",
              "    </tr>\n",
              "    <tr>\n",
              "      <th>1</th>\n",
              "      <td>1</td>\n",
              "      <td>41</td>\n",
              "      <td>161</td>\n",
              "      <td>35</td>\n",
              "    </tr>\n",
              "    <tr>\n",
              "      <th>2</th>\n",
              "      <td>2</td>\n",
              "      <td>46</td>\n",
              "      <td>128</td>\n",
              "      <td>220</td>\n",
              "    </tr>\n",
              "    <tr>\n",
              "      <th>3</th>\n",
              "      <td>3</td>\n",
              "      <td>39</td>\n",
              "      <td>216</td>\n",
              "      <td>57</td>\n",
              "    </tr>\n",
              "    <tr>\n",
              "      <th>4</th>\n",
              "      <td>4</td>\n",
              "      <td>28</td>\n",
              "      <td>116</td>\n",
              "      <td>182</td>\n",
              "    </tr>\n",
              "  </tbody>\n",
              "</table>\n",
              "</div>"
            ],
            "text/plain": [
              "   Unnamed: 0  age  weight  exercise_time\n",
              "0           0   44     118            192\n",
              "1           1   41     161             35\n",
              "2           2   46     128            220\n",
              "3           3   39     216             57\n",
              "4           4   28     116            182"
            ]
          },
          "metadata": {
            "tags": []
          },
          "execution_count": 1
        }
      ]
    },
    {
      "cell_type": "code",
      "metadata": {
        "id": "BX_NSHNF0Ry0",
        "colab_type": "code",
        "colab": {}
      },
      "source": [
        "#Here I am making a starting out by using our y variable (weight), and putting\n",
        "#it in a crosstabulation with our x variable (age.)\n",
        "pd.crosstab(persons_data['weight'],persons_data['age'])"
      ],
      "execution_count": 0,
      "outputs": []
    },
    {
      "cell_type": "code",
      "metadata": {
        "id": "qdVTzFXO2Lo_",
        "colab_type": "code",
        "colab": {
          "base_uri": "https://localhost:8080/",
          "height": 105
        },
        "outputId": "5da97fb5-3617-4147-820e-72f32997d2a8"
      },
      "source": [
        "#Unfortunately all of the data is continuous, so I need to bin the variables.\n",
        "#I also need to revert back to an earlier version of pandas to prevent a binning error. \n",
        "!pip install pandas==0.23.4\n"
      ],
      "execution_count": 3,
      "outputs": [
        {
          "output_type": "stream",
          "text": [
            "Requirement already satisfied: pandas==0.23.4 in /usr/local/lib/python3.6/dist-packages (0.23.4)\n",
            "Requirement already satisfied: pytz>=2011k in /usr/local/lib/python3.6/dist-packages (from pandas==0.23.4) (2018.9)\n",
            "Requirement already satisfied: numpy>=1.9.0 in /usr/local/lib/python3.6/dist-packages (from pandas==0.23.4) (1.16.4)\n",
            "Requirement already satisfied: python-dateutil>=2.5.0 in /usr/local/lib/python3.6/dist-packages (from pandas==0.23.4) (2.5.3)\n",
            "Requirement already satisfied: six>=1.5 in /usr/local/lib/python3.6/dist-packages (from python-dateutil>=2.5.0->pandas==0.23.4) (1.12.0)\n"
          ],
          "name": "stdout"
        }
      ]
    },
    {
      "cell_type": "code",
      "metadata": {
        "id": "c9IfWYJi2y0Z",
        "colab_type": "code",
        "colab": {
          "base_uri": "https://localhost:8080/",
          "height": 317
        },
        "outputId": "028c9473-380c-469e-fc21-cea77f8b8cfb"
      },
      "source": [
        "#Time 2 bin\n",
        "weight_bins = pd.cut(persons_data['weight'],8)\n",
        "age_bins = pd.cut(persons_data['age'], 8)\n",
        "#Here I am creating a crosstabulation of the binned y variable weight, binned x\n",
        "#variable age, and then normalizing the columns to all add up to 100%\n",
        "pd.crosstab(weight_bins, age_bins, normalize=\"columns\")"
      ],
      "execution_count": 10,
      "outputs": [
        {
          "output_type": "execute_result",
          "data": {
            "text/html": [
              "<div>\n",
              "<style scoped>\n",
              "    .dataframe tbody tr th:only-of-type {\n",
              "        vertical-align: middle;\n",
              "    }\n",
              "\n",
              "    .dataframe tbody tr th {\n",
              "        vertical-align: top;\n",
              "    }\n",
              "\n",
              "    .dataframe thead th {\n",
              "        text-align: right;\n",
              "    }\n",
              "</style>\n",
              "<table border=\"1\" class=\"dataframe\">\n",
              "  <thead>\n",
              "    <tr style=\"text-align: right;\">\n",
              "      <th>age</th>\n",
              "      <th>(17.938, 25.75]</th>\n",
              "      <th>(25.75, 33.5]</th>\n",
              "      <th>(33.5, 41.25]</th>\n",
              "      <th>(41.25, 49.0]</th>\n",
              "      <th>(49.0, 56.75]</th>\n",
              "      <th>(56.75, 64.5]</th>\n",
              "      <th>(64.5, 72.25]</th>\n",
              "      <th>(72.25, 80.0]</th>\n",
              "    </tr>\n",
              "    <tr>\n",
              "      <th>weight</th>\n",
              "      <th></th>\n",
              "      <th></th>\n",
              "      <th></th>\n",
              "      <th></th>\n",
              "      <th></th>\n",
              "      <th></th>\n",
              "      <th></th>\n",
              "      <th></th>\n",
              "    </tr>\n",
              "  </thead>\n",
              "  <tbody>\n",
              "    <tr>\n",
              "      <th>(99.854, 118.25]</th>\n",
              "      <td>0.201299</td>\n",
              "      <td>0.239521</td>\n",
              "      <td>0.244444</td>\n",
              "      <td>0.160</td>\n",
              "      <td>0.195122</td>\n",
              "      <td>0.156863</td>\n",
              "      <td>0.128049</td>\n",
              "      <td>0.134328</td>\n",
              "    </tr>\n",
              "    <tr>\n",
              "      <th>(118.25, 136.5]</th>\n",
              "      <td>0.168831</td>\n",
              "      <td>0.167665</td>\n",
              "      <td>0.222222</td>\n",
              "      <td>0.248</td>\n",
              "      <td>0.235772</td>\n",
              "      <td>0.202614</td>\n",
              "      <td>0.176829</td>\n",
              "      <td>0.134328</td>\n",
              "    </tr>\n",
              "    <tr>\n",
              "      <th>(136.5, 154.75]</th>\n",
              "      <td>0.194805</td>\n",
              "      <td>0.203593</td>\n",
              "      <td>0.172222</td>\n",
              "      <td>0.184</td>\n",
              "      <td>0.178862</td>\n",
              "      <td>0.176471</td>\n",
              "      <td>0.164634</td>\n",
              "      <td>0.141791</td>\n",
              "    </tr>\n",
              "    <tr>\n",
              "      <th>(154.75, 173.0]</th>\n",
              "      <td>0.194805</td>\n",
              "      <td>0.173653</td>\n",
              "      <td>0.094444</td>\n",
              "      <td>0.176</td>\n",
              "      <td>0.138211</td>\n",
              "      <td>0.124183</td>\n",
              "      <td>0.176829</td>\n",
              "      <td>0.156716</td>\n",
              "    </tr>\n",
              "    <tr>\n",
              "      <th>(173.0, 191.25]</th>\n",
              "      <td>0.103896</td>\n",
              "      <td>0.083832</td>\n",
              "      <td>0.116667</td>\n",
              "      <td>0.088</td>\n",
              "      <td>0.121951</td>\n",
              "      <td>0.143791</td>\n",
              "      <td>0.115854</td>\n",
              "      <td>0.171642</td>\n",
              "    </tr>\n",
              "    <tr>\n",
              "      <th>(191.25, 209.5]</th>\n",
              "      <td>0.090909</td>\n",
              "      <td>0.047904</td>\n",
              "      <td>0.111111</td>\n",
              "      <td>0.064</td>\n",
              "      <td>0.065041</td>\n",
              "      <td>0.117647</td>\n",
              "      <td>0.121951</td>\n",
              "      <td>0.119403</td>\n",
              "    </tr>\n",
              "    <tr>\n",
              "      <th>(209.5, 227.75]</th>\n",
              "      <td>0.019481</td>\n",
              "      <td>0.071856</td>\n",
              "      <td>0.027778</td>\n",
              "      <td>0.056</td>\n",
              "      <td>0.056911</td>\n",
              "      <td>0.065359</td>\n",
              "      <td>0.060976</td>\n",
              "      <td>0.104478</td>\n",
              "    </tr>\n",
              "    <tr>\n",
              "      <th>(227.75, 246.0]</th>\n",
              "      <td>0.025974</td>\n",
              "      <td>0.011976</td>\n",
              "      <td>0.011111</td>\n",
              "      <td>0.024</td>\n",
              "      <td>0.008130</td>\n",
              "      <td>0.013072</td>\n",
              "      <td>0.054878</td>\n",
              "      <td>0.037313</td>\n",
              "    </tr>\n",
              "  </tbody>\n",
              "</table>\n",
              "</div>"
            ],
            "text/plain": [
              "age               (17.938, 25.75]      ...        (72.25, 80.0]\n",
              "weight                                 ...                     \n",
              "(99.854, 118.25]         0.201299      ...             0.134328\n",
              "(118.25, 136.5]          0.168831      ...             0.134328\n",
              "(136.5, 154.75]          0.194805      ...             0.141791\n",
              "(154.75, 173.0]          0.194805      ...             0.156716\n",
              "(173.0, 191.25]          0.103896      ...             0.171642\n",
              "(191.25, 209.5]          0.090909      ...             0.119403\n",
              "(209.5, 227.75]          0.019481      ...             0.104478\n",
              "(227.75, 246.0]          0.025974      ...             0.037313\n",
              "\n",
              "[8 rows x 8 columns]"
            ]
          },
          "metadata": {
            "tags": []
          },
          "execution_count": 10
        }
      ]
    },
    {
      "cell_type": "code",
      "metadata": {
        "id": "1hkDrUmqIWEY",
        "colab_type": "code",
        "colab": {
          "base_uri": "https://localhost:8080/",
          "height": 317
        },
        "outputId": "78a7803d-6747-454d-87c8-b0a2f1ef5b8b"
      },
      "source": [
        "#Bin part 2\n",
        "exercise_bins = pd.cut(persons_data['exercise_time'], 8)\n",
        "pd.crosstab(weight_bins, exercise_bins)"
      ],
      "execution_count": 13,
      "outputs": [
        {
          "output_type": "execute_result",
          "data": {
            "text/html": [
              "<div>\n",
              "<style scoped>\n",
              "    .dataframe tbody tr th:only-of-type {\n",
              "        vertical-align: middle;\n",
              "    }\n",
              "\n",
              "    .dataframe tbody tr th {\n",
              "        vertical-align: top;\n",
              "    }\n",
              "\n",
              "    .dataframe thead th {\n",
              "        text-align: right;\n",
              "    }\n",
              "</style>\n",
              "<table border=\"1\" class=\"dataframe\">\n",
              "  <thead>\n",
              "    <tr style=\"text-align: right;\">\n",
              "      <th>exercise_time</th>\n",
              "      <th>(-0.3, 37.5]</th>\n",
              "      <th>(37.5, 75.0]</th>\n",
              "      <th>(75.0, 112.5]</th>\n",
              "      <th>(112.5, 150.0]</th>\n",
              "      <th>(150.0, 187.5]</th>\n",
              "      <th>(187.5, 225.0]</th>\n",
              "      <th>(225.0, 262.5]</th>\n",
              "      <th>(262.5, 300.0]</th>\n",
              "    </tr>\n",
              "    <tr>\n",
              "      <th>weight</th>\n",
              "      <th></th>\n",
              "      <th></th>\n",
              "      <th></th>\n",
              "      <th></th>\n",
              "      <th></th>\n",
              "      <th></th>\n",
              "      <th></th>\n",
              "      <th></th>\n",
              "    </tr>\n",
              "  </thead>\n",
              "  <tbody>\n",
              "    <tr>\n",
              "      <th>(99.854, 118.25]</th>\n",
              "      <td>22</td>\n",
              "      <td>22</td>\n",
              "      <td>23</td>\n",
              "      <td>26</td>\n",
              "      <td>29</td>\n",
              "      <td>31</td>\n",
              "      <td>29</td>\n",
              "      <td>40</td>\n",
              "    </tr>\n",
              "    <tr>\n",
              "      <th>(118.25, 136.5]</th>\n",
              "      <td>20</td>\n",
              "      <td>18</td>\n",
              "      <td>28</td>\n",
              "      <td>23</td>\n",
              "      <td>26</td>\n",
              "      <td>34</td>\n",
              "      <td>34</td>\n",
              "      <td>49</td>\n",
              "    </tr>\n",
              "    <tr>\n",
              "      <th>(136.5, 154.75]</th>\n",
              "      <td>24</td>\n",
              "      <td>20</td>\n",
              "      <td>32</td>\n",
              "      <td>18</td>\n",
              "      <td>39</td>\n",
              "      <td>23</td>\n",
              "      <td>33</td>\n",
              "      <td>24</td>\n",
              "    </tr>\n",
              "    <tr>\n",
              "      <th>(154.75, 173.0]</th>\n",
              "      <td>20</td>\n",
              "      <td>25</td>\n",
              "      <td>42</td>\n",
              "      <td>24</td>\n",
              "      <td>24</td>\n",
              "      <td>18</td>\n",
              "      <td>25</td>\n",
              "      <td>6</td>\n",
              "    </tr>\n",
              "    <tr>\n",
              "      <th>(173.0, 191.25]</th>\n",
              "      <td>28</td>\n",
              "      <td>25</td>\n",
              "      <td>32</td>\n",
              "      <td>24</td>\n",
              "      <td>24</td>\n",
              "      <td>8</td>\n",
              "      <td>0</td>\n",
              "      <td>0</td>\n",
              "    </tr>\n",
              "    <tr>\n",
              "      <th>(191.25, 209.5]</th>\n",
              "      <td>30</td>\n",
              "      <td>24</td>\n",
              "      <td>28</td>\n",
              "      <td>25</td>\n",
              "      <td>5</td>\n",
              "      <td>0</td>\n",
              "      <td>0</td>\n",
              "      <td>0</td>\n",
              "    </tr>\n",
              "    <tr>\n",
              "      <th>(209.5, 227.75]</th>\n",
              "      <td>23</td>\n",
              "      <td>26</td>\n",
              "      <td>17</td>\n",
              "      <td>2</td>\n",
              "      <td>0</td>\n",
              "      <td>0</td>\n",
              "      <td>0</td>\n",
              "      <td>0</td>\n",
              "    </tr>\n",
              "    <tr>\n",
              "      <th>(227.75, 246.0]</th>\n",
              "      <td>24</td>\n",
              "      <td>4</td>\n",
              "      <td>0</td>\n",
              "      <td>0</td>\n",
              "      <td>0</td>\n",
              "      <td>0</td>\n",
              "      <td>0</td>\n",
              "      <td>0</td>\n",
              "    </tr>\n",
              "  </tbody>\n",
              "</table>\n",
              "</div>"
            ],
            "text/plain": [
              "exercise_time     (-0.3, 37.5]       ...        (262.5, 300.0]\n",
              "weight                               ...                      \n",
              "(99.854, 118.25]            22       ...                    40\n",
              "(118.25, 136.5]             20       ...                    49\n",
              "(136.5, 154.75]             24       ...                    24\n",
              "(154.75, 173.0]             20       ...                     6\n",
              "(173.0, 191.25]             28       ...                     0\n",
              "(191.25, 209.5]             30       ...                     0\n",
              "(209.5, 227.75]             23       ...                     0\n",
              "(227.75, 246.0]             24       ...                     0\n",
              "\n",
              "[8 rows x 8 columns]"
            ]
          },
          "metadata": {
            "tags": []
          },
          "execution_count": 13
        }
      ]
    },
    {
      "cell_type": "markdown",
      "metadata": {
        "id": "ku9RJ7jV4guF",
        "colab_type": "text"
      },
      "source": [
        "##Visualizations"
      ]
    },
    {
      "cell_type": "code",
      "metadata": {
        "id": "KsbIBn3n40Wi",
        "colab_type": "code",
        "colab": {}
      },
      "source": [
        "import pandas as pd\n",
        "from pandas import DataFrame\n",
        "import matplotlib.pyplot as plt\n",
        "from mpl_toolkits.mplot3d import Axes3D"
      ],
      "execution_count": 0,
      "outputs": []
    },
    {
      "cell_type": "code",
      "metadata": {
        "id": "JWIKibIa4gLx",
        "colab_type": "code",
        "colab": {
          "base_uri": "https://localhost:8080/",
          "height": 300
        },
        "outputId": "1446c722-1b9a-4001-c100-414e8ababb06"
      },
      "source": [
        "persons_data.plot.scatter(x='weight', y ='exercise_time')"
      ],
      "execution_count": 15,
      "outputs": [
        {
          "output_type": "execute_result",
          "data": {
            "text/plain": [
              "<matplotlib.axes._subplots.AxesSubplot at 0x7f8865d24198>"
            ]
          },
          "metadata": {
            "tags": []
          },
          "execution_count": 15
        },
        {
          "output_type": "display_data",
          "data": {
            "image/png": "[encoded data removed]",
            "text/plain": [
              "<Figure size 432x288 with 1 Axes>"
            ]
          },
          "metadata": {
            "tags": []
          }
        }
      ]
    },
    {
      "cell_type": "code",
      "metadata": {
        "id": "Z_qhQg5jQ3dh",
        "colab_type": "code",
        "colab": {}
      },
      "source": [
        ">>> df = pd.DataFrame([[5.1, 3.5, 0], [4.9, 3.0, 0], [7.0, 3.2, 1],                   [6.4, 3.2, 1], [5.9, 3.0, 2]],\n",
        "...                   columns=['length', 'width', 'species'])\n",
        ">>> ax1 = df.plot.scatter(x='length',\n",
        "...                       y='width',\n",
        "...                       c='DarkBlue')\n",
        "\n",
        ">>> ax2 = df.plot.scatter(x='length',\n",
        "...                       y='width',\n",
        "...                       c='species',\n",
        "...                       colormap='viridis')"
      ],
      "execution_count": 0,
      "outputs": []
    },
    {
      "cell_type": "markdown",
      "metadata": {
        "id": "BT9gdS7viJZa",
        "colab_type": "text"
      },
      "source": [
        "### Assignment questions\n",
        "\n",
        "After you've worked on some code, answer the following questions in this text block:\n",
        "\n",
        "1.  What are the variable types in the data? \n",
        "    - Within this data set, we had the variables: age, weight, and exercise time. All three were technically continuous, which was why we had to bin them to force them to be discrete and ordinal. \n",
        "    - Ryan told us to use weight as the Y, or dependant, variable becuase it doesnt have to be one. Consequently, I used age and exercise time as x variables.\n",
        "2.  What are the relationships between the variables?\n",
        "    - As exercise time increases, weight decreases. So much so that people in the upper 50% of exersize time categories do not exist in the very top weight categories.\n",
        "3.  Which relationships are \"real\", and which spurious?\n",
        "    - It's hard to know anything for sure, but the correlation between weight and exercise time does seem fairly legitimate. \n"
      ]
    },
    {
      "cell_type": "markdown",
      "metadata": {
        "id": "_XXg2crAipwP",
        "colab_type": "text"
      },
      "source": [
        "## Stretch goals and resources\n",
        "\n",
        "Following are *optional* things for you to take a look at. Focus on the above assignment first, and make sure to commit and push your changes to GitHub.\n",
        "\n",
        "- [Spurious Correlations](http://tylervigen.com/spurious-correlations)\n",
        "- [NIH on controlling for confounding variables](https://www.ncbi.nlm.nih.gov/pmc/articles/PMC4017459/)\n",
        "\n",
        "Stretch goals:\n",
        "\n",
        "- Produce your own plot inspired by the Spurious Correlation visualizations (and consider writing a blog post about it - both the content and how you made it)\n",
        "- Pick one of the techniques that NIH highlights for confounding variables - we'll be going into many of them later, but see if you can find which Python modules may help (hint - check scikit-learn)"
      ]
    }
  ]
}