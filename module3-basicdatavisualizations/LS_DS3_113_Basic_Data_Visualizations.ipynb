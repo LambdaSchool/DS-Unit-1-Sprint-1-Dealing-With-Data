{
 "cells": [
  {
   "cell_type": "code",
   "execution_count": 1,
   "metadata": {},
   "outputs": [],
   "source": [
    "import numpy as np\n",
    "import pandas as pd\n",
    "import matplotlib.pyplot as plt"
   ]
  },
  {
   "cell_type": "code",
   "execution_count": 2,
   "metadata": {},
   "outputs": [],
   "source": [
    "mpg_data_url = 'https://archive.ics.uci.edu/ml/machine-learning-databases/auto-mpg/auto-mpg.data'\n",
    "\n",
    "df_mpg = pd.read_csv(mpg_data_url, header=None, sep='\\s+',names=['mpg', 'cylinders', 'displacement', \n",
    "                                                                 'horsepower', 'weight', 'acceleration', 'model year',\n",
    "                                                                 'origin', 'car name'])"
   ]
  },
  {
   "cell_type": "code",
   "execution_count": 3,
   "metadata": {},
   "outputs": [],
   "source": [
    "# Replace '?' with NaN\n",
    "df_mpg_nan = df_mpg.replace('?', np.NaN)"
   ]
  },
  {
   "cell_type": "code",
   "execution_count": 4,
   "metadata": {},
   "outputs": [],
   "source": [
    "# Forward fill NaN values\n",
    "df_mpg_no_nan = df_mpg_nan.fillna(method='ffill')"
   ]
  },
  {
   "cell_type": "code",
   "execution_count": 5,
   "metadata": {},
   "outputs": [
    {
     "data": {
      "text/plain": [
       "mpg             float64\n",
       "cylinders         int64\n",
       "displacement    float64\n",
       "horsepower      float64\n",
       "weight          float64\n",
       "acceleration    float64\n",
       "model year        int64\n",
       "origin            int64\n",
       "car name         object\n",
       "dtype: object"
      ]
     },
     "execution_count": 5,
     "metadata": {},
     "output_type": "execute_result"
    }
   ],
   "source": [
    "# Convert horsepower data from object to float\n",
    "df_mpg_no_nan['horsepower'] = df_mpg_no_nan['horsepower'].astype(float)\n",
    "df_mpg_no_nan.dtypes"
   ]
  },
  {
   "cell_type": "code",
   "execution_count": 6,
   "metadata": {},
   "outputs": [],
   "source": [
    "# Use one hot encoding to convert categorical data to boolean\n",
    "df_mpg_cleaned = pd.get_dummies(df_mpg_no_nan, columns=['car name'])"
   ]
  },
  {
   "cell_type": "code",
   "execution_count": 7,
   "metadata": {},
   "outputs": [
    {
     "data": {
      "text/html": [
       "<div>\n",
       "<style scoped>\n",
       "    .dataframe tbody tr th:only-of-type {\n",
       "        vertical-align: middle;\n",
       "    }\n",
       "\n",
       "    .dataframe tbody tr th {\n",
       "        vertical-align: top;\n",
       "    }\n",
       "\n",
       "    .dataframe thead th {\n",
       "        text-align: right;\n",
       "    }\n",
       "</style>\n",
       "<table border=\"1\" class=\"dataframe\">\n",
       "  <thead>\n",
       "    <tr style=\"text-align: right;\">\n",
       "      <th></th>\n",
       "      <th>mpg</th>\n",
       "      <th>cylinders</th>\n",
       "      <th>displacement</th>\n",
       "      <th>horsepower</th>\n",
       "      <th>weight</th>\n",
       "      <th>acceleration</th>\n",
       "      <th>model year</th>\n",
       "      <th>origin</th>\n",
       "      <th>car name_amc ambassador brougham</th>\n",
       "      <th>car name_amc ambassador dpl</th>\n",
       "      <th>...</th>\n",
       "      <th>car name_volvo 145e (sw)</th>\n",
       "      <th>car name_volvo 244dl</th>\n",
       "      <th>car name_volvo 245</th>\n",
       "      <th>car name_volvo 264gl</th>\n",
       "      <th>car name_volvo diesel</th>\n",
       "      <th>car name_vw dasher (diesel)</th>\n",
       "      <th>car name_vw pickup</th>\n",
       "      <th>car name_vw rabbit</th>\n",
       "      <th>car name_vw rabbit c (diesel)</th>\n",
       "      <th>car name_vw rabbit custom</th>\n",
       "    </tr>\n",
       "  </thead>\n",
       "  <tbody>\n",
       "    <tr>\n",
       "      <th>0</th>\n",
       "      <td>18.0</td>\n",
       "      <td>8</td>\n",
       "      <td>307.0</td>\n",
       "      <td>130.0</td>\n",
       "      <td>3504.0</td>\n",
       "      <td>12.0</td>\n",
       "      <td>70</td>\n",
       "      <td>1</td>\n",
       "      <td>0</td>\n",
       "      <td>0</td>\n",
       "      <td>...</td>\n",
       "      <td>0</td>\n",
       "      <td>0</td>\n",
       "      <td>0</td>\n",
       "      <td>0</td>\n",
       "      <td>0</td>\n",
       "      <td>0</td>\n",
       "      <td>0</td>\n",
       "      <td>0</td>\n",
       "      <td>0</td>\n",
       "      <td>0</td>\n",
       "    </tr>\n",
       "    <tr>\n",
       "      <th>1</th>\n",
       "      <td>15.0</td>\n",
       "      <td>8</td>\n",
       "      <td>350.0</td>\n",
       "      <td>165.0</td>\n",
       "      <td>3693.0</td>\n",
       "      <td>11.5</td>\n",
       "      <td>70</td>\n",
       "      <td>1</td>\n",
       "      <td>0</td>\n",
       "      <td>0</td>\n",
       "      <td>...</td>\n",
       "      <td>0</td>\n",
       "      <td>0</td>\n",
       "      <td>0</td>\n",
       "      <td>0</td>\n",
       "      <td>0</td>\n",
       "      <td>0</td>\n",
       "      <td>0</td>\n",
       "      <td>0</td>\n",
       "      <td>0</td>\n",
       "      <td>0</td>\n",
       "    </tr>\n",
       "    <tr>\n",
       "      <th>2</th>\n",
       "      <td>18.0</td>\n",
       "      <td>8</td>\n",
       "      <td>318.0</td>\n",
       "      <td>150.0</td>\n",
       "      <td>3436.0</td>\n",
       "      <td>11.0</td>\n",
       "      <td>70</td>\n",
       "      <td>1</td>\n",
       "      <td>0</td>\n",
       "      <td>0</td>\n",
       "      <td>...</td>\n",
       "      <td>0</td>\n",
       "      <td>0</td>\n",
       "      <td>0</td>\n",
       "      <td>0</td>\n",
       "      <td>0</td>\n",
       "      <td>0</td>\n",
       "      <td>0</td>\n",
       "      <td>0</td>\n",
       "      <td>0</td>\n",
       "      <td>0</td>\n",
       "    </tr>\n",
       "    <tr>\n",
       "      <th>3</th>\n",
       "      <td>16.0</td>\n",
       "      <td>8</td>\n",
       "      <td>304.0</td>\n",
       "      <td>150.0</td>\n",
       "      <td>3433.0</td>\n",
       "      <td>12.0</td>\n",
       "      <td>70</td>\n",
       "      <td>1</td>\n",
       "      <td>0</td>\n",
       "      <td>0</td>\n",
       "      <td>...</td>\n",
       "      <td>0</td>\n",
       "      <td>0</td>\n",
       "      <td>0</td>\n",
       "      <td>0</td>\n",
       "      <td>0</td>\n",
       "      <td>0</td>\n",
       "      <td>0</td>\n",
       "      <td>0</td>\n",
       "      <td>0</td>\n",
       "      <td>0</td>\n",
       "    </tr>\n",
       "    <tr>\n",
       "      <th>4</th>\n",
       "      <td>17.0</td>\n",
       "      <td>8</td>\n",
       "      <td>302.0</td>\n",
       "      <td>140.0</td>\n",
       "      <td>3449.0</td>\n",
       "      <td>10.5</td>\n",
       "      <td>70</td>\n",
       "      <td>1</td>\n",
       "      <td>0</td>\n",
       "      <td>0</td>\n",
       "      <td>...</td>\n",
       "      <td>0</td>\n",
       "      <td>0</td>\n",
       "      <td>0</td>\n",
       "      <td>0</td>\n",
       "      <td>0</td>\n",
       "      <td>0</td>\n",
       "      <td>0</td>\n",
       "      <td>0</td>\n",
       "      <td>0</td>\n",
       "      <td>0</td>\n",
       "    </tr>\n",
       "  </tbody>\n",
       "</table>\n",
       "<p>5 rows × 313 columns</p>\n",
       "</div>"
      ],
      "text/plain": [
       "    mpg  cylinders  displacement  horsepower  weight  acceleration  \\\n",
       "0  18.0          8         307.0       130.0  3504.0          12.0   \n",
       "1  15.0          8         350.0       165.0  3693.0          11.5   \n",
       "2  18.0          8         318.0       150.0  3436.0          11.0   \n",
       "3  16.0          8         304.0       150.0  3433.0          12.0   \n",
       "4  17.0          8         302.0       140.0  3449.0          10.5   \n",
       "\n",
       "   model year  origin  car name_amc ambassador brougham  \\\n",
       "0          70       1                                 0   \n",
       "1          70       1                                 0   \n",
       "2          70       1                                 0   \n",
       "3          70       1                                 0   \n",
       "4          70       1                                 0   \n",
       "\n",
       "   car name_amc ambassador dpl  ...  car name_volvo 145e (sw)  \\\n",
       "0                            0  ...                         0   \n",
       "1                            0  ...                         0   \n",
       "2                            0  ...                         0   \n",
       "3                            0  ...                         0   \n",
       "4                            0  ...                         0   \n",
       "\n",
       "   car name_volvo 244dl  car name_volvo 245  car name_volvo 264gl  \\\n",
       "0                     0                   0                     0   \n",
       "1                     0                   0                     0   \n",
       "2                     0                   0                     0   \n",
       "3                     0                   0                     0   \n",
       "4                     0                   0                     0   \n",
       "\n",
       "   car name_volvo diesel  car name_vw dasher (diesel)  car name_vw pickup  \\\n",
       "0                      0                            0                   0   \n",
       "1                      0                            0                   0   \n",
       "2                      0                            0                   0   \n",
       "3                      0                            0                   0   \n",
       "4                      0                            0                   0   \n",
       "\n",
       "   car name_vw rabbit  car name_vw rabbit c (diesel)  \\\n",
       "0                   0                              0   \n",
       "1                   0                              0   \n",
       "2                   0                              0   \n",
       "3                   0                              0   \n",
       "4                   0                              0   \n",
       "\n",
       "   car name_vw rabbit custom  \n",
       "0                          0  \n",
       "1                          0  \n",
       "2                          0  \n",
       "3                          0  \n",
       "4                          0  \n",
       "\n",
       "[5 rows x 313 columns]"
      ]
     },
     "execution_count": 7,
     "metadata": {},
     "output_type": "execute_result"
    }
   ],
   "source": [
    "df_mpg_cleaned.head()"
   ]
  },
  {
   "cell_type": "markdown",
   "metadata": {},
   "source": [
    "# Assignment 113: Plots"
   ]
  },
  {
   "cell_type": "code",
   "execution_count": 8,
   "metadata": {},
   "outputs": [
    {
     "data": {
      "image/png": "[encoded data removed]",
      "text/plain": [
       "<Figure size 432x288 with 1 Axes>"
      ]
     },
     "metadata": {
      "needs_background": "light"
     },
     "output_type": "display_data"
    }
   ],
   "source": [
    "plt.scatter(df_mpg_cleaned['horsepower'], df_mpg_cleaned['mpg'])\n",
    "plt.xlabel('Horsepower')\n",
    "plt.ylabel('Miles Per Gallon')\n",
    "plt.title('Miles Per Gallon and Horsepower Scatter Plot')\n",
    "plt.show()"
   ]
  },
  {
   "cell_type": "code",
   "execution_count": 9,
   "metadata": {},
   "outputs": [
    {
     "data": {
      "image/png": "[encoded data removed]",
      "text/plain": [
       "<Figure size 432x288 with 1 Axes>"
      ]
     },
     "metadata": {
      "needs_background": "light"
     },
     "output_type": "display_data"
    }
   ],
   "source": [
    "plt.hist(df_mpg_cleaned['displacement'], bins=20)\n",
    "plt.xlabel('Displacement')\n",
    "plt.ylabel('# of Observations')\n",
    "plt.title('Histogram of Engine Displacement')\n",
    "plt.show()"
   ]
  },
  {
   "cell_type": "code",
   "execution_count": 10,
   "metadata": {},
   "outputs": [
    {
     "data": {
      "text/plain": [
       "Text(0.5, 1.0, 'Bar Chart of Model Year')"
      ]
     },
     "execution_count": 10,
     "metadata": {},
     "output_type": "execute_result"
    },
    {
     "data": {
      "image/png": "[encoded data removed]",
      "text/plain": [
       "<Figure size 432x288 with 1 Axes>"
      ]
     },
     "metadata": {
      "needs_background": "light"
     },
     "output_type": "display_data"
    }
   ],
   "source": [
    "# 1st attempt\n",
    "plt.bar(df_mpg_cleaned['model year'], df_mpg_cleaned['model year'].count())\n",
    "# 2nd attempt\n",
    "# years = range(1970, 1983)\n",
    "# plt.bar(years, df_mpg_cleaned['model year'])\n",
    "plt.xlabel('Years')\n",
    "plt.ylabel('# of Observations')\n",
    "plt.title('Bar Chart of Model Year')"
   ]
  },
  {
   "cell_type": "code",
   "execution_count": 11,
   "metadata": {},
   "outputs": [
    {
     "data": {
      "text/plain": [
       "array([70, 71, 72, 73, 74, 75, 76, 77, 78, 79, 80, 81, 82], dtype=int64)"
      ]
     },
     "execution_count": 11,
     "metadata": {},
     "output_type": "execute_result"
    }
   ],
   "source": [
    "df_mpg_cleaned['model year'].unique()"
   ]
  },
  {
   "cell_type": "code",
   "execution_count": 12,
   "metadata": {},
   "outputs": [
    {
     "data": {
      "image/png": "[encoded data removed]",
      "text/plain": [
       "<Figure size 432x288 with 1 Axes>"
      ]
     },
     "metadata": {
      "needs_background": "light"
     },
     "output_type": "display_data"
    }
   ],
   "source": [
    "# 2nd attempt\n",
    "years = np.arange(1970, 1983)\n",
    "plt.bar(years, df_mpg_cleaned['model year'].value_counts())\n",
    "plt.xlabel('Years')\n",
    "plt.ylabel('# of Observations')\n",
    "plt.title('Bar Chart of Model Year')\n",
    "plt.show()"
   ]
  },
  {
   "cell_type": "code",
   "execution_count": 13,
   "metadata": {},
   "outputs": [
    {
     "data": {
      "text/plain": [
       "73    40\n",
       "78    36\n",
       "76    34\n",
       "82    31\n",
       "75    30\n",
       "81    29\n",
       "80    29\n",
       "79    29\n",
       "70    29\n",
       "77    28\n",
       "72    28\n",
       "71    28\n",
       "74    27\n",
       "Name: model year, dtype: int64"
      ]
     },
     "execution_count": 13,
     "metadata": {},
     "output_type": "execute_result"
    }
   ],
   "source": [
    "df_mpg_cleaned['model year'].value_counts()"
   ]
  },
  {
   "cell_type": "code",
   "execution_count": 14,
   "metadata": {},
   "outputs": [
    {
     "ename": "TypeError",
     "evalue": "unhashable type: 'numpy.ndarray'",
     "output_type": "error",
     "traceback": [
      "\u001b[1;31m---------------------------------------------------------------------------\u001b[0m",
      "\u001b[1;31mTypeError\u001b[0m                                 Traceback (most recent call last)",
      "\u001b[1;32m<ipython-input-14-541e4c9f634e>\u001b[0m in \u001b[0;36m<module>\u001b[1;34m\u001b[0m\n\u001b[0;32m      1\u001b[0m \u001b[1;31m# 3nd attempt\u001b[0m\u001b[1;33m\u001b[0m\u001b[1;33m\u001b[0m\u001b[1;33m\u001b[0m\u001b[0m\n\u001b[0;32m      2\u001b[0m \u001b[0myears\u001b[0m \u001b[1;33m=\u001b[0m \u001b[0mdf_mpg_cleaned\u001b[0m\u001b[1;33m[\u001b[0m\u001b[1;34m'model year'\u001b[0m\u001b[1;33m]\u001b[0m\u001b[1;33m.\u001b[0m\u001b[0munique\u001b[0m\u001b[1;33m(\u001b[0m\u001b[1;33m)\u001b[0m\u001b[1;33m\u001b[0m\u001b[1;33m\u001b[0m\u001b[0m\n\u001b[1;32m----> 3\u001b[1;33m \u001b[0mheight\u001b[0m \u001b[1;33m=\u001b[0m \u001b[1;33m{\u001b[0m\u001b[0myears\u001b[0m\u001b[1;33m:\u001b[0m \u001b[0mdf_mpg_cleaned\u001b[0m\u001b[1;33m[\u001b[0m\u001b[1;34m'model year'\u001b[0m\u001b[1;33m]\u001b[0m\u001b[1;33m.\u001b[0m\u001b[0mvalue_counts\u001b[0m\u001b[1;33m(\u001b[0m\u001b[1;33m)\u001b[0m\u001b[1;33m}\u001b[0m\u001b[1;33m\u001b[0m\u001b[1;33m\u001b[0m\u001b[0m\n\u001b[0m\u001b[0;32m      4\u001b[0m \u001b[0mplt\u001b[0m\u001b[1;33m.\u001b[0m\u001b[0mbar\u001b[0m\u001b[1;33m(\u001b[0m\u001b[0myears\u001b[0m\u001b[1;33m,\u001b[0m \u001b[0mheight\u001b[0m\u001b[1;33m)\u001b[0m\u001b[1;33m\u001b[0m\u001b[1;33m\u001b[0m\u001b[0m\n\u001b[0;32m      5\u001b[0m \u001b[0mplt\u001b[0m\u001b[1;33m.\u001b[0m\u001b[0mxlabel\u001b[0m\u001b[1;33m(\u001b[0m\u001b[1;34m'Years'\u001b[0m\u001b[1;33m)\u001b[0m\u001b[1;33m\u001b[0m\u001b[1;33m\u001b[0m\u001b[0m\n",
      "\u001b[1;31mTypeError\u001b[0m: unhashable type: 'numpy.ndarray'"
     ]
    }
   ],
   "source": [
    "# 3nd attempt\n",
    "years = df_mpg_cleaned['model year'].unique()\n",
    "height = {years: df_mpg_cleaned['model year'].value_counts()}\n",
    "plt.bar(years, height)\n",
    "plt.xlabel('Years')\n",
    "plt.ylabel('# of Observations')\n",
    "plt.title('Bar Chart of Model Year')\n",
    "plt.show()"
   ]
  },
  {
   "cell_type": "code",
   "execution_count": null,
   "metadata": {},
   "outputs": [],
   "source": [
    "# 4th attempt\n",
    "years = df_mpg_cleaned['model year'].unique()\n",
    "height = df_mpg_cleaned.nunique()\n",
    "plt.bar(years, height)\n",
    "plt.xlabel('Years')\n",
    "plt.ylabel('# of Observations')\n",
    "plt.title('Bar Chart of Model Year')\n",
    "plt.show()"
   ]
  },
  {
   "cell_type": "code",
   "execution_count": null,
   "metadata": {},
   "outputs": [],
   "source": [
    "# 5th attempt\n",
    "years = df_mpg_cleaned['model year'].unique()\n",
    "height = df_mpg_cleaned.nunique()\n",
    "year_height_dict = {years: height}\n",
    "plt.bar(year_height_dict)\n",
    "plt.xlabel('Years')\n",
    "plt.ylabel('# of Observations')\n",
    "plt.title('Bar Chart of Model Year')\n",
    "plt.show()"
   ]
  },
  {
   "cell_type": "code",
   "execution_count": null,
   "metadata": {},
   "outputs": [],
   "source": [
    "# 6th attempt\n",
    "df_mpg_cleaned['model year'].plot.bar();"
   ]
  },
  {
   "cell_type": "code",
   "execution_count": 15,
   "metadata": {},
   "outputs": [
    {
     "name": "stdout",
     "output_type": "stream",
     "text": [
      "{70: 29, 71: 28, 72: 28, 73: 40, 74: 27, 75: 30, 76: 34, 77: 28, 78: 36, 79: 29, 80: 29, 81: 29, 82: 31}\n"
     ]
    }
   ],
   "source": [
    "# 7th attempt\n",
    "model_year_counts = {}\n",
    "for year in df_mpg_cleaned['model year']:\n",
    "    if year not in model_year_counts:\n",
    "        model_year_counts[year] = 1\n",
    "    else:\n",
    "        model_year_counts[year] += 1\n",
    "        \n",
    "print(model_year_counts)"
   ]
  },
  {
   "cell_type": "code",
   "execution_count": 16,
   "metadata": {},
   "outputs": [
    {
     "name": "stdout",
     "output_type": "stream",
     "text": [
      "70    29\n",
      "71    28\n",
      "72    28\n",
      "73    40\n",
      "74    27\n",
      "75    30\n",
      "76    34\n",
      "77    28\n",
      "78    36\n",
      "79    29\n",
      "80    29\n",
      "81    29\n",
      "82    31\n",
      "dtype: int64\n"
     ]
    }
   ],
   "source": [
    "year_counts = pd.Series(model_year_counts)\n",
    "print(year_counts)"
   ]
  },
  {
   "cell_type": "code",
   "execution_count": 17,
   "metadata": {},
   "outputs": [
    {
     "data": {
      "image/png": "[encoded data removed]",
      "text/plain": [
       "<Figure size 432x288 with 1 Axes>"
      ]
     },
     "metadata": {
      "needs_background": "light"
     },
     "output_type": "display_data"
    }
   ],
   "source": [
    "year_counts.plot.bar()\n",
    "plt.title('Bar Graph of Model Year')\n",
    "plt.xlabel('Model Year')\n",
    "plt.ylabel('# of Occurrances')\n",
    "plt.show()"
   ]
  },
  {
   "cell_type": "code",
   "execution_count": 18,
   "metadata": {},
   "outputs": [
    {
     "data": {
      "text/plain": [
       "73    40\n",
       "78    36\n",
       "76    34\n",
       "82    31\n",
       "75    30\n",
       "81    29\n",
       "80    29\n",
       "79    29\n",
       "70    29\n",
       "77    28\n",
       "72    28\n",
       "71    28\n",
       "74    27\n",
       "Name: model year, dtype: int64"
      ]
     },
     "execution_count": 18,
     "metadata": {},
     "output_type": "execute_result"
    }
   ],
   "source": [
    "df_mpg_cleaned['model year'].value_counts()"
   ]
  },
  {
   "cell_type": "code",
   "execution_count": 19,
   "metadata": {},
   "outputs": [
    {
     "data": {
      "text/html": [
       "<div>\n",
       "<style scoped>\n",
       "    .dataframe tbody tr th:only-of-type {\n",
       "        vertical-align: middle;\n",
       "    }\n",
       "\n",
       "    .dataframe tbody tr th {\n",
       "        vertical-align: top;\n",
       "    }\n",
       "\n",
       "    .dataframe thead th {\n",
       "        text-align: right;\n",
       "    }\n",
       "</style>\n",
       "<table border=\"1\" class=\"dataframe\">\n",
       "  <thead>\n",
       "    <tr style=\"text-align: right;\">\n",
       "      <th></th>\n",
       "      <th>mpg</th>\n",
       "      <th>cylinders</th>\n",
       "      <th>displacement</th>\n",
       "      <th>horsepower</th>\n",
       "      <th>weight</th>\n",
       "      <th>acceleration</th>\n",
       "      <th>model year</th>\n",
       "      <th>origin</th>\n",
       "    </tr>\n",
       "  </thead>\n",
       "  <tbody>\n",
       "    <tr>\n",
       "      <th>0</th>\n",
       "      <td>18.0</td>\n",
       "      <td>8</td>\n",
       "      <td>307.0</td>\n",
       "      <td>130.0</td>\n",
       "      <td>3504.0</td>\n",
       "      <td>12.0</td>\n",
       "      <td>70</td>\n",
       "      <td>1</td>\n",
       "    </tr>\n",
       "    <tr>\n",
       "      <th>1</th>\n",
       "      <td>15.0</td>\n",
       "      <td>8</td>\n",
       "      <td>350.0</td>\n",
       "      <td>165.0</td>\n",
       "      <td>3693.0</td>\n",
       "      <td>11.5</td>\n",
       "      <td>70</td>\n",
       "      <td>1</td>\n",
       "    </tr>\n",
       "    <tr>\n",
       "      <th>2</th>\n",
       "      <td>18.0</td>\n",
       "      <td>8</td>\n",
       "      <td>318.0</td>\n",
       "      <td>150.0</td>\n",
       "      <td>3436.0</td>\n",
       "      <td>11.0</td>\n",
       "      <td>70</td>\n",
       "      <td>1</td>\n",
       "    </tr>\n",
       "    <tr>\n",
       "      <th>3</th>\n",
       "      <td>16.0</td>\n",
       "      <td>8</td>\n",
       "      <td>304.0</td>\n",
       "      <td>150.0</td>\n",
       "      <td>3433.0</td>\n",
       "      <td>12.0</td>\n",
       "      <td>70</td>\n",
       "      <td>1</td>\n",
       "    </tr>\n",
       "    <tr>\n",
       "      <th>4</th>\n",
       "      <td>17.0</td>\n",
       "      <td>8</td>\n",
       "      <td>302.0</td>\n",
       "      <td>140.0</td>\n",
       "      <td>3449.0</td>\n",
       "      <td>10.5</td>\n",
       "      <td>70</td>\n",
       "      <td>1</td>\n",
       "    </tr>\n",
       "  </tbody>\n",
       "</table>\n",
       "</div>"
      ],
      "text/plain": [
       "    mpg  cylinders  displacement  horsepower  weight  acceleration  \\\n",
       "0  18.0          8         307.0       130.0  3504.0          12.0   \n",
       "1  15.0          8         350.0       165.0  3693.0          11.5   \n",
       "2  18.0          8         318.0       150.0  3436.0          11.0   \n",
       "3  16.0          8         304.0       150.0  3433.0          12.0   \n",
       "4  17.0          8         302.0       140.0  3449.0          10.5   \n",
       "\n",
       "   model year  origin  \n",
       "0          70       1  \n",
       "1          70       1  \n",
       "2          70       1  \n",
       "3          70       1  \n",
       "4          70       1  "
      ]
     },
     "execution_count": 19,
     "metadata": {},
     "output_type": "execute_result"
    }
   ],
   "source": [
    "df_mpg_all_numeric = df_mpg_cleaned[['mpg', 'cylinders', 'displacement', 'horsepower', 'weight', \n",
    "                                    'acceleration', 'model year', 'origin']]\n",
    "df_mpg_all_numeric.head()"
   ]
  },
  {
   "cell_type": "code",
   "execution_count": 20,
   "metadata": {},
   "outputs": [
    {
     "data": {
      "text/plain": [
       "array([[<matplotlib.axes._subplots.AxesSubplot object at 0x00000277F1B93898>,\n",
       "        <matplotlib.axes._subplots.AxesSubplot object at 0x00000277F218C630>,\n",
       "        <matplotlib.axes._subplots.AxesSubplot object at 0x00000277F21B3860>],\n",
       "       [<matplotlib.axes._subplots.AxesSubplot object at 0x00000277F21DBAC8>,\n",
       "        <matplotlib.axes._subplots.AxesSubplot object at 0x00000277F2204D30>,\n",
       "        <matplotlib.axes._subplots.AxesSubplot object at 0x00000277F222FF98>],\n",
       "       [<matplotlib.axes._subplots.AxesSubplot object at 0x00000277F225E240>,\n",
       "        <matplotlib.axes._subplots.AxesSubplot object at 0x00000277F22884E0>,\n",
       "        <matplotlib.axes._subplots.AxesSubplot object at 0x00000277F2288518>]],\n",
       "      dtype=object)"
      ]
     },
     "execution_count": 20,
     "metadata": {},
     "output_type": "execute_result"
    },
    {
     "data": {
      "image/png": "[encoded data removed]",
      "text/plain": [
       "<Figure size 432x288 with 9 Axes>"
      ]
     },
     "metadata": {
      "needs_background": "light"
     },
     "output_type": "display_data"
    }
   ],
   "source": [
    "df_mpg_all_numeric.hist(bins=20)"
   ]
  },
  {
   "cell_type": "code",
   "execution_count": 22,
   "metadata": {},
   "outputs": [
    {
     "data": {
      "text/html": [
       "\n",
       "    <div class=\"bk-root\">\n",
       "        <a href=\"https://bokeh.pydata.org\" target=\"_blank\" class=\"bk-logo bk-logo-small bk-logo-notebook\"></a>\n",
       "        <span id=\"1001\">Loading BokehJS ...</span>\n",
       "    </div>"
      ]
     },
     "metadata": {},
     "output_type": "display_data"
    },
    {
     "data": {
      "application/javascript": [
       "\n",
       "(function(root) {\n",
       "  function now() {\n",
       "    return new Date();\n",
       "  }\n",
       "\n",
       "  var force = true;\n",
       "\n",
       "  if (typeof (root._bokeh_onload_callbacks) === \"undefined\" || force === true) {\n",
       "    root._bokeh_onload_callbacks = [];\n",
       "    root._bokeh_is_loading = undefined;\n",
       "  }\n",
       "\n",
       "  var JS_MIME_TYPE = 'application/javascript';\n",
       "  var HTML_MIME_TYPE = 'text/html';\n",
       "  var EXEC_MIME_TYPE = 'application/vnd.bokehjs_exec.v0+json';\n",
       "  var CLASS_NAME = 'output_bokeh rendered_html';\n",
       "\n",
       "  /**\n",
       "   * Render data to the DOM node\n",
       "   */\n",
       "  function render(props, node) {\n",
       "    var script = document.createElement(\"script\");\n",
       "    node.appendChild(script);\n",
       "  }\n",
       "\n",
       "  /**\n",
       "   * Handle when an output is cleared or removed\n",
       "   */\n",
       "  function handleClearOutput(event, handle) {\n",
       "    var cell = handle.cell;\n",
       "\n",
       "    var id = cell.output_area._bokeh_element_id;\n",
       "    var server_id = cell.output_area._bokeh_server_id;\n",
       "    // Clean up Bokeh references\n",
       "    if (id != null && id in Bokeh.index) {\n",
       "      Bokeh.index[id].model.document.clear();\n",
       "      delete Bokeh.index[id];\n",
       "    }\n",
       "\n",
       "    if (server_id !== undefined) {\n",
       "      // Clean up Bokeh references\n",
       "      var cmd = \"from bokeh.io.state import curstate; print(curstate().uuid_to_server['\" + server_id + \"'].get_sessions()[0].document.roots[0]._id)\";\n",
       "      cell.notebook.kernel.execute(cmd, {\n",
       "        iopub: {\n",
       "          output: function(msg) {\n",
       "            var id = msg.content.text.trim();\n",
       "            if (id in Bokeh.index) {\n",
       "              Bokeh.index[id].model.document.clear();\n",
       "              delete Bokeh.index[id];\n",
       "            }\n",
       "          }\n",
       "        }\n",
       "      });\n",
       "      // Destroy server and session\n",
       "      var cmd = \"import bokeh.io.notebook as ion; ion.destroy_server('\" + server_id + \"')\";\n",
       "      cell.notebook.kernel.execute(cmd);\n",
       "    }\n",
       "  }\n",
       "\n",
       "  /**\n",
       "   * Handle when a new output is added\n",
       "   */\n",
       "  function handleAddOutput(event, handle) {\n",
       "    var output_area = handle.output_area;\n",
       "    var output = handle.output;\n",
       "\n",
       "    // limit handleAddOutput to display_data with EXEC_MIME_TYPE content only\n",
       "    if ((output.output_type != \"display_data\") || (!output.data.hasOwnProperty(EXEC_MIME_TYPE))) {\n",
       "      return\n",
       "    }\n",
       "\n",
       "    var toinsert = output_area.element.find(\".\" + CLASS_NAME.split(' ')[0]);\n",
       "\n",
       "    if (output.metadata[EXEC_MIME_TYPE][\"id\"] !== undefined) {\n",
       "      toinsert[toinsert.length - 1].firstChild.textContent = output.data[JS_MIME_TYPE];\n",
       "      // store reference to embed id on output_area\n",
       "      output_area._bokeh_element_id = output.metadata[EXEC_MIME_TYPE][\"id\"];\n",
       "    }\n",
       "    if (output.metadata[EXEC_MIME_TYPE][\"server_id\"] !== undefined) {\n",
       "      var bk_div = document.createElement(\"div\");\n",
       "      bk_div.innerHTML = output.data[HTML_MIME_TYPE];\n",
       "      var script_attrs = bk_div.children[0].attributes;\n",
       "      for (var i = 0; i < script_attrs.length; i++) {\n",
       "        toinsert[toinsert.length - 1].firstChild.setAttribute(script_attrs[i].name, script_attrs[i].value);\n",
       "      }\n",
       "      // store reference to server id on output_area\n",
       "      output_area._bokeh_server_id = output.metadata[EXEC_MIME_TYPE][\"server_id\"];\n",
       "    }\n",
       "  }\n",
       "\n",
       "  function register_renderer(events, OutputArea) {\n",
       "\n",
       "    function append_mime(data, metadata, element) {\n",
       "      // create a DOM node to render to\n",
       "      var toinsert = this.create_output_subarea(\n",
       "        metadata,\n",
       "        CLASS_NAME,\n",
       "        EXEC_MIME_TYPE\n",
       "      );\n",
       "      this.keyboard_manager.register_events(toinsert);\n",
       "      // Render to node\n",
       "      var props = {data: data, metadata: metadata[EXEC_MIME_TYPE]};\n",
       "      render(props, toinsert[toinsert.length - 1]);\n",
       "      element.append(toinsert);\n",
       "      return toinsert\n",
       "    }\n",
       "\n",
       "    /* Handle when an output is cleared or removed */\n",
       "    events.on('clear_output.CodeCell', handleClearOutput);\n",
       "    events.on('delete.Cell', handleClearOutput);\n",
       "\n",
       "    /* Handle when a new output is added */\n",
       "    events.on('output_added.OutputArea', handleAddOutput);\n",
       "\n",
       "    /**\n",
       "     * Register the mime type and append_mime function with output_area\n",
       "     */\n",
       "    OutputArea.prototype.register_mime_type(EXEC_MIME_TYPE, append_mime, {\n",
       "      /* Is output safe? */\n",
       "      safe: true,\n",
       "      /* Index of renderer in `output_area.display_order` */\n",
       "      index: 0\n",
       "    });\n",
       "  }\n",
       "\n",
       "  // register the mime type if in Jupyter Notebook environment and previously unregistered\n",
       "  if (root.Jupyter !== undefined) {\n",
       "    var events = require('base/js/events');\n",
       "    var OutputArea = require('notebook/js/outputarea').OutputArea;\n",
       "\n",
       "    if (OutputArea.prototype.mime_types().indexOf(EXEC_MIME_TYPE) == -1) {\n",
       "      register_renderer(events, OutputArea);\n",
       "    }\n",
       "  }\n",
       "\n",
       "  \n",
       "  if (typeof (root._bokeh_timeout) === \"undefined\" || force === true) {\n",
       "    root._bokeh_timeout = Date.now() + 5000;\n",
       "    root._bokeh_failed_load = false;\n",
       "  }\n",
       "\n",
       "  var NB_LOAD_WARNING = {'data': {'text/html':\n",
       "     \"<div style='background-color: #fdd'>\\n\"+\n",
       "     \"<p>\\n\"+\n",
       "     \"BokehJS does not appear to have successfully loaded. If loading BokehJS from CDN, this \\n\"+\n",
       "     \"may be due to a slow or bad network connection. Possible fixes:\\n\"+\n",
       "     \"</p>\\n\"+\n",
       "     \"<ul>\\n\"+\n",
       "     \"<li>re-rerun `output_notebook()` to attempt to load from CDN again, or</li>\\n\"+\n",
       "     \"<li>use INLINE resources instead, as so:</li>\\n\"+\n",
       "     \"</ul>\\n\"+\n",
       "     \"<code>\\n\"+\n",
       "     \"from bokeh.resources import INLINE\\n\"+\n",
       "     \"output_notebook(resources=INLINE)\\n\"+\n",
       "     \"</code>\\n\"+\n",
       "     \"</div>\"}};\n",
       "\n",
       "  function display_loaded() {\n",
       "    var el = document.getElementById(\"1001\");\n",
       "    if (el != null) {\n",
       "      el.textContent = \"BokehJS is loading...\";\n",
       "    }\n",
       "    if (root.Bokeh !== undefined) {\n",
       "      if (el != null) {\n",
       "        el.textContent = \"BokehJS \" + root.Bokeh.version + \" successfully loaded.\";\n",
       "      }\n",
       "    } else if (Date.now() < root._bokeh_timeout) {\n",
       "      setTimeout(display_loaded, 100)\n",
       "    }\n",
       "  }\n",
       "\n",
       "\n",
       "  function run_callbacks() {\n",
       "    try {\n",
       "      root._bokeh_onload_callbacks.forEach(function(callback) { callback() });\n",
       "    }\n",
       "    finally {\n",
       "      delete root._bokeh_onload_callbacks\n",
       "    }\n",
       "    console.info(\"Bokeh: all callbacks have finished\");\n",
       "  }\n",
       "\n",
       "  function load_libs(js_urls, callback) {\n",
       "    root._bokeh_onload_callbacks.push(callback);\n",
       "    if (root._bokeh_is_loading > 0) {\n",
       "      console.log(\"Bokeh: BokehJS is being loaded, scheduling callback at\", now());\n",
       "      return null;\n",
       "    }\n",
       "    if (js_urls == null || js_urls.length === 0) {\n",
       "      run_callbacks();\n",
       "      return null;\n",
       "    }\n",
       "    console.log(\"Bokeh: BokehJS not loaded, scheduling load and callback at\", now());\n",
       "    root._bokeh_is_loading = js_urls.length;\n",
       "    for (var i = 0; i < js_urls.length; i++) {\n",
       "      var url = js_urls[i];\n",
       "      var s = document.createElement('script');\n",
       "      s.src = url;\n",
       "      s.async = false;\n",
       "      s.onreadystatechange = s.onload = function() {\n",
       "        root._bokeh_is_loading--;\n",
       "        if (root._bokeh_is_loading === 0) {\n",
       "          console.log(\"Bokeh: all BokehJS libraries loaded\");\n",
       "          run_callbacks()\n",
       "        }\n",
       "      };\n",
       "      s.onerror = function() {\n",
       "        console.warn(\"failed to load library \" + url);\n",
       "      };\n",
       "      console.log(\"Bokeh: injecting script tag for BokehJS library: \", url);\n",
       "      document.getElementsByTagName(\"head\")[0].appendChild(s);\n",
       "    }\n",
       "  };var element = document.getElementById(\"1001\");\n",
       "  if (element == null) {\n",
       "    console.log(\"Bokeh: ERROR: autoload.js configured with elementid '1001' but no matching script tag was found. \")\n",
       "    return false;\n",
       "  }\n",
       "\n",
       "  var js_urls = [\"https://cdn.pydata.org/bokeh/release/bokeh-1.0.4.min.js\", \"https://cdn.pydata.org/bokeh/release/bokeh-widgets-1.0.4.min.js\", \"https://cdn.pydata.org/bokeh/release/bokeh-tables-1.0.4.min.js\", \"https://cdn.pydata.org/bokeh/release/bokeh-gl-1.0.4.min.js\"];\n",
       "\n",
       "  var inline_js = [\n",
       "    function(Bokeh) {\n",
       "      Bokeh.set_log_level(\"info\");\n",
       "    },\n",
       "    \n",
       "    function(Bokeh) {\n",
       "      \n",
       "    },\n",
       "    function(Bokeh) {\n",
       "      console.log(\"Bokeh: injecting CSS: https://cdn.pydata.org/bokeh/release/bokeh-1.0.4.min.css\");\n",
       "      Bokeh.embed.inject_css(\"https://cdn.pydata.org/bokeh/release/bokeh-1.0.4.min.css\");\n",
       "      console.log(\"Bokeh: injecting CSS: https://cdn.pydata.org/bokeh/release/bokeh-widgets-1.0.4.min.css\");\n",
       "      Bokeh.embed.inject_css(\"https://cdn.pydata.org/bokeh/release/bokeh-widgets-1.0.4.min.css\");\n",
       "      console.log(\"Bokeh: injecting CSS: https://cdn.pydata.org/bokeh/release/bokeh-tables-1.0.4.min.css\");\n",
       "      Bokeh.embed.inject_css(\"https://cdn.pydata.org/bokeh/release/bokeh-tables-1.0.4.min.css\");\n",
       "    }\n",
       "  ];\n",
       "\n",
       "  function run_inline_js() {\n",
       "    \n",
       "    if ((root.Bokeh !== undefined) || (force === true)) {\n",
       "      for (var i = 0; i < inline_js.length; i++) {\n",
       "        inline_js[i].call(root, root.Bokeh);\n",
       "      }if (force === true) {\n",
       "        display_loaded();\n",
       "      }} else if (Date.now() < root._bokeh_timeout) {\n",
       "      setTimeout(run_inline_js, 100);\n",
       "    } else if (!root._bokeh_failed_load) {\n",
       "      console.log(\"Bokeh: BokehJS failed to load within specified timeout.\");\n",
       "      root._bokeh_failed_load = true;\n",
       "    } else if (force !== true) {\n",
       "      var cell = $(document.getElementById(\"1001\")).parents('.cell').data().cell;\n",
       "      cell.output_area.append_execute_result(NB_LOAD_WARNING)\n",
       "    }\n",
       "\n",
       "  }\n",
       "\n",
       "  if (root._bokeh_is_loading === 0) {\n",
       "    console.log(\"Bokeh: BokehJS loaded, going straight to plotting\");\n",
       "    run_inline_js();\n",
       "  } else {\n",
       "    load_libs(js_urls, function() {\n",
       "      console.log(\"Bokeh: BokehJS plotting callback run at\", now());\n",
       "      run_inline_js();\n",
       "    });\n",
       "  }\n",
       "}(window));"
      ],
      "application/vnd.bokehjs_load.v0+json": "\n(function(root) {\n  function now() {\n    return new Date();\n  }\n\n  var force = true;\n\n  if (typeof (root._bokeh_onload_callbacks) === \"undefined\" || force === true) {\n    root._bokeh_onload_callbacks = [];\n    root._bokeh_is_loading = undefined;\n  }\n\n  \n\n  \n  if (typeof (root._bokeh_timeout) === \"undefined\" || force === true) {\n    root._bokeh_timeout = Date.now() + 5000;\n    root._bokeh_failed_load = false;\n  }\n\n  var NB_LOAD_WARNING = {'data': {'text/html':\n     \"<div style='background-color: #fdd'>\\n\"+\n     \"<p>\\n\"+\n     \"BokehJS does not appear to have successfully loaded. If loading BokehJS from CDN, this \\n\"+\n     \"may be due to a slow or bad network connection. Possible fixes:\\n\"+\n     \"</p>\\n\"+\n     \"<ul>\\n\"+\n     \"<li>re-rerun `output_notebook()` to attempt to load from CDN again, or</li>\\n\"+\n     \"<li>use INLINE resources instead, as so:</li>\\n\"+\n     \"</ul>\\n\"+\n     \"<code>\\n\"+\n     \"from bokeh.resources import INLINE\\n\"+\n     \"output_notebook(resources=INLINE)\\n\"+\n     \"</code>\\n\"+\n     \"</div>\"}};\n\n  function display_loaded() {\n    var el = document.getElementById(\"1001\");\n    if (el != null) {\n      el.textContent = \"BokehJS is loading...\";\n    }\n    if (root.Bokeh !== undefined) {\n      if (el != null) {\n        el.textContent = \"BokehJS \" + root.Bokeh.version + \" successfully loaded.\";\n      }\n    } else if (Date.now() < root._bokeh_timeout) {\n      setTimeout(display_loaded, 100)\n    }\n  }\n\n\n  function run_callbacks() {\n    try {\n      root._bokeh_onload_callbacks.forEach(function(callback) { callback() });\n    }\n    finally {\n      delete root._bokeh_onload_callbacks\n    }\n    console.info(\"Bokeh: all callbacks have finished\");\n  }\n\n  function load_libs(js_urls, callback) {\n    root._bokeh_onload_callbacks.push(callback);\n    if (root._bokeh_is_loading > 0) {\n      console.log(\"Bokeh: BokehJS is being loaded, scheduling callback at\", now());\n      return null;\n    }\n    if (js_urls == null || js_urls.length === 0) {\n      run_callbacks();\n      return null;\n    }\n    console.log(\"Bokeh: BokehJS not loaded, scheduling load and callback at\", now());\n    root._bokeh_is_loading = js_urls.length;\n    for (var i = 0; i < js_urls.length; i++) {\n      var url = js_urls[i];\n      var s = document.createElement('script');\n      s.src = url;\n      s.async = false;\n      s.onreadystatechange = s.onload = function() {\n        root._bokeh_is_loading--;\n        if (root._bokeh_is_loading === 0) {\n          console.log(\"Bokeh: all BokehJS libraries loaded\");\n          run_callbacks()\n        }\n      };\n      s.onerror = function() {\n        console.warn(\"failed to load library \" + url);\n      };\n      console.log(\"Bokeh: injecting script tag for BokehJS library: \", url);\n      document.getElementsByTagName(\"head\")[0].appendChild(s);\n    }\n  };var element = document.getElementById(\"1001\");\n  if (element == null) {\n    console.log(\"Bokeh: ERROR: autoload.js configured with elementid '1001' but no matching script tag was found. \")\n    return false;\n  }\n\n  var js_urls = [\"https://cdn.pydata.org/bokeh/release/bokeh-1.0.4.min.js\", \"https://cdn.pydata.org/bokeh/release/bokeh-widgets-1.0.4.min.js\", \"https://cdn.pydata.org/bokeh/release/bokeh-tables-1.0.4.min.js\", \"https://cdn.pydata.org/bokeh/release/bokeh-gl-1.0.4.min.js\"];\n\n  var inline_js = [\n    function(Bokeh) {\n      Bokeh.set_log_level(\"info\");\n    },\n    \n    function(Bokeh) {\n      \n    },\n    function(Bokeh) {\n      console.log(\"Bokeh: injecting CSS: https://cdn.pydata.org/bokeh/release/bokeh-1.0.4.min.css\");\n      Bokeh.embed.inject_css(\"https://cdn.pydata.org/bokeh/release/bokeh-1.0.4.min.css\");\n      console.log(\"Bokeh: injecting CSS: https://cdn.pydata.org/bokeh/release/bokeh-widgets-1.0.4.min.css\");\n      Bokeh.embed.inject_css(\"https://cdn.pydata.org/bokeh/release/bokeh-widgets-1.0.4.min.css\");\n      console.log(\"Bokeh: injecting CSS: https://cdn.pydata.org/bokeh/release/bokeh-tables-1.0.4.min.css\");\n      Bokeh.embed.inject_css(\"https://cdn.pydata.org/bokeh/release/bokeh-tables-1.0.4.min.css\");\n    }\n  ];\n\n  function run_inline_js() {\n    \n    if ((root.Bokeh !== undefined) || (force === true)) {\n      for (var i = 0; i < inline_js.length; i++) {\n        inline_js[i].call(root, root.Bokeh);\n      }if (force === true) {\n        display_loaded();\n      }} else if (Date.now() < root._bokeh_timeout) {\n      setTimeout(run_inline_js, 100);\n    } else if (!root._bokeh_failed_load) {\n      console.log(\"Bokeh: BokehJS failed to load within specified timeout.\");\n      root._bokeh_failed_load = true;\n    } else if (force !== true) {\n      var cell = $(document.getElementById(\"1001\")).parents('.cell').data().cell;\n      cell.output_area.append_execute_result(NB_LOAD_WARNING)\n    }\n\n  }\n\n  if (root._bokeh_is_loading === 0) {\n    console.log(\"Bokeh: BokehJS loaded, going straight to plotting\");\n    run_inline_js();\n  } else {\n    load_libs(js_urls, function() {\n      console.log(\"Bokeh: BokehJS plotting callback run at\", now());\n      run_inline_js();\n    });\n  }\n}(window));"
     },
     "metadata": {},
     "output_type": "display_data"
    }
   ],
   "source": [
    "from bokeh.io import output_notebook\n",
    "output_notebook()"
   ]
  },
  {
   "cell_type": "code",
   "execution_count": 23,
   "metadata": {},
   "outputs": [],
   "source": [
    "from bokeh.io import show\n",
    "from bokeh.plotting import figure"
   ]
  },
  {
   "cell_type": "code",
   "execution_count": 72,
   "metadata": {},
   "outputs": [
    {
     "data": {
      "text/html": [
       "\n",
       "\n",
       "\n",
       "\n",
       "\n",
       "\n",
       "  <div class=\"bk-root\" id=\"6c743f53-29fb-40c4-8e49-cb9f38c9b199\" data-root-id=\"18480\"></div>\n"
      ]
     },
     "metadata": {},
     "output_type": "display_data"
    },
    {
     "data": {
      "application/javascript": [
       "(function(root) {\n",
       "  function embed_document(root) {\n",
       "    \n",
       "  var docs_json = {\"f3220bfc-5870-4ff3-a0cd-8bfb34c40003\":{\"roots\":{\"references\":[{\"attributes\":{\"below\":[{\"id\":\"18490\",\"type\":\"LinearAxis\"}],\"left\":[{\"id\":\"18495\",\"type\":\"LinearAxis\"}],\"renderers\":[{\"id\":\"18490\",\"type\":\"LinearAxis\"},{\"id\":\"18494\",\"type\":\"Grid\"},{\"id\":\"18495\",\"type\":\"LinearAxis\"},{\"id\":\"18499\",\"type\":\"Grid\"},{\"id\":\"18508\",\"type\":\"BoxAnnotation\"},{\"id\":\"18518\",\"type\":\"GlyphRenderer\"}],\"title\":{\"id\":\"18479\",\"type\":\"Title\"},\"toolbar\":{\"id\":\"18506\",\"type\":\"Toolbar\"},\"x_range\":{\"id\":\"18482\",\"type\":\"DataRange1d\"},\"x_scale\":{\"id\":\"18486\",\"type\":\"LinearScale\"},\"y_range\":{\"id\":\"18484\",\"type\":\"DataRange1d\"},\"y_scale\":{\"id\":\"18488\",\"type\":\"LinearScale\"}},\"id\":\"18480\",\"subtype\":\"Figure\",\"type\":\"Plot\"},{\"attributes\":{\"axis_label\":\"Horsepower\",\"formatter\":{\"id\":\"19038\",\"type\":\"BasicTickFormatter\"},\"plot\":{\"id\":\"18480\",\"subtype\":\"Figure\",\"type\":\"Plot\"},\"ticker\":{\"id\":\"18491\",\"type\":\"BasicTicker\"}},\"id\":\"18490\",\"type\":\"LinearAxis\"},{\"attributes\":{},\"id\":\"18496\",\"type\":\"BasicTicker\"},{\"attributes\":{\"source\":{\"id\":\"18515\",\"type\":\"ColumnDataSource\"}},\"id\":\"18519\",\"type\":\"CDSView\"},{\"attributes\":{},\"id\":\"19040\",\"type\":\"BasicTickFormatter\"},{\"attributes\":{},\"id\":\"18500\",\"type\":\"PanTool\"},{\"attributes\":{\"plot\":{\"id\":\"18480\",\"subtype\":\"Figure\",\"type\":\"Plot\"},\"ticker\":{\"id\":\"18491\",\"type\":\"BasicTicker\"}},\"id\":\"18494\",\"type\":\"Grid\"},{\"attributes\":{},\"id\":\"19043\",\"type\":\"Selection\"},{\"attributes\":{},\"id\":\"19038\",\"type\":\"BasicTickFormatter\"},{\"attributes\":{\"overlay\":{\"id\":\"18508\",\"type\":\"BoxAnnotation\"}},\"id\":\"18502\",\"type\":\"BoxZoomTool\"},{\"attributes\":{},\"id\":\"18503\",\"type\":\"SaveTool\"},{\"attributes\":{\"fill_alpha\":{\"value\":0.1},\"fill_color\":{\"value\":\"#1f77b4\"},\"line_alpha\":{\"value\":0.1},\"line_color\":{\"value\":\"#1f77b4\"},\"size\":{\"units\":\"screen\",\"value\":7},\"x\":{\"field\":\"x\"},\"y\":{\"field\":\"y\"}},\"id\":\"18517\",\"type\":\"DiamondCross\"},{\"attributes\":{},\"id\":\"18505\",\"type\":\"HelpTool\"},{\"attributes\":{\"plot\":null,\"text\":\"Experimenting with Bokeh\"},\"id\":\"18479\",\"type\":\"Title\"},{\"attributes\":{\"active_drag\":\"auto\",\"active_inspect\":\"auto\",\"active_multi\":null,\"active_scroll\":\"auto\",\"active_tap\":\"auto\",\"tools\":[{\"id\":\"18500\",\"type\":\"PanTool\"},{\"id\":\"18501\",\"type\":\"WheelZoomTool\"},{\"id\":\"18502\",\"type\":\"BoxZoomTool\"},{\"id\":\"18503\",\"type\":\"SaveTool\"},{\"id\":\"18504\",\"type\":\"ResetTool\"},{\"id\":\"18505\",\"type\":\"HelpTool\"}]},\"id\":\"18506\",\"type\":\"Toolbar\"},{\"attributes\":{\"data_source\":{\"id\":\"18515\",\"type\":\"ColumnDataSource\"},\"glyph\":{\"id\":\"18516\",\"type\":\"DiamondCross\"},\"hover_glyph\":null,\"muted_glyph\":null,\"nonselection_glyph\":{\"id\":\"18517\",\"type\":\"DiamondCross\"},\"selection_glyph\":null,\"view\":{\"id\":\"18519\",\"type\":\"CDSView\"}},\"id\":\"18518\",\"type\":\"GlyphRenderer\"},{\"attributes\":{\"axis_label\":\"Miles Per Gallon\",\"formatter\":{\"id\":\"19040\",\"type\":\"BasicTickFormatter\"},\"plot\":{\"id\":\"18480\",\"subtype\":\"Figure\",\"type\":\"Plot\"},\"ticker\":{\"id\":\"18496\",\"type\":\"BasicTicker\"}},\"id\":\"18495\",\"type\":\"LinearAxis\"},{\"attributes\":{},\"id\":\"18486\",\"type\":\"LinearScale\"},{\"attributes\":{\"bottom_units\":\"screen\",\"fill_alpha\":{\"value\":0.5},\"fill_color\":{\"value\":\"lightgrey\"},\"left_units\":\"screen\",\"level\":\"overlay\",\"line_alpha\":{\"value\":1.0},\"line_color\":{\"value\":\"black\"},\"line_dash\":[4,4],\"line_width\":{\"value\":2},\"plot\":null,\"render_mode\":\"css\",\"right_units\":\"screen\",\"top_units\":\"screen\"},\"id\":\"18508\",\"type\":\"BoxAnnotation\"},{\"attributes\":{},\"id\":\"18501\",\"type\":\"WheelZoomTool\"},{\"attributes\":{},\"id\":\"18491\",\"type\":\"BasicTicker\"},{\"attributes\":{},\"id\":\"18488\",\"type\":\"LinearScale\"},{\"attributes\":{},\"id\":\"18504\",\"type\":\"ResetTool\"},{\"attributes\":{},\"id\":\"19042\",\"type\":\"UnionRenderers\"},{\"attributes\":{\"callback\":null},\"id\":\"18484\",\"type\":\"DataRange1d\"},{\"attributes\":{\"dimension\":1,\"plot\":{\"id\":\"18480\",\"subtype\":\"Figure\",\"type\":\"Plot\"},\"ticker\":{\"id\":\"18496\",\"type\":\"BasicTicker\"}},\"id\":\"18499\",\"type\":\"Grid\"},{\"attributes\":{\"fill_color\":{\"value\":\"red\"},\"line_alpha\":{\"value\":0.5},\"line_color\":{\"value\":\"#1f77b4\"},\"size\":{\"units\":\"screen\",\"value\":7},\"x\":{\"field\":\"x\"},\"y\":{\"field\":\"y\"}},\"id\":\"18516\",\"type\":\"DiamondCross\"},{\"attributes\":{\"callback\":null,\"data\":{\"x\":{\"__ndarray__\":\"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\",\"dtype\":\"float64\",\"shape\":[398]},\"y\":{\"__ndarray__\":\"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\",\"dtype\":\"float64\",\"shape\":[398]}},\"selected\":{\"id\":\"19043\",\"type\":\"Selection\"},\"selection_policy\":{\"id\":\"19042\",\"type\":\"UnionRenderers\"}},\"id\":\"18515\",\"type\":\"ColumnDataSource\"},{\"attributes\":{\"callback\":null},\"id\":\"18482\",\"type\":\"DataRange1d\"}],\"root_ids\":[\"18480\"]},\"title\":\"Bokeh Application\",\"version\":\"1.0.4\"}};\n",
       "  var render_items = [{\"docid\":\"f3220bfc-5870-4ff3-a0cd-8bfb34c40003\",\"roots\":{\"18480\":\"6c743f53-29fb-40c4-8e49-cb9f38c9b199\"}}];\n",
       "  root.Bokeh.embed.embed_items_notebook(docs_json, render_items);\n",
       "\n",
       "  }\n",
       "  if (root.Bokeh !== undefined) {\n",
       "    embed_document(root);\n",
       "  } else {\n",
       "    var attempts = 0;\n",
       "    var timer = setInterval(function(root) {\n",
       "      if (root.Bokeh !== undefined) {\n",
       "        embed_document(root);\n",
       "        clearInterval(timer);\n",
       "      }\n",
       "      attempts++;\n",
       "      if (attempts > 100) {\n",
       "        console.log(\"Bokeh: ERROR: Unable to run BokehJS code because BokehJS library is missing\");\n",
       "        clearInterval(timer);\n",
       "      }\n",
       "    }, 10, root)\n",
       "  }\n",
       "})(window);"
      ],
      "application/vnd.bokehjs_exec.v0+json": ""
     },
     "metadata": {
      "application/vnd.bokehjs_exec.v0+json": {
       "id": "18480"
      }
     },
     "output_type": "display_data"
    }
   ],
   "source": [
    "p = figure(title='Experimenting with Bokeh')\n",
    "p.diamond_cross(x=df_mpg_cleaned['horsepower'], y=df_mpg_cleaned['mpg'], fill_color='red', fill_alpha=1, size=7, alpha=0.5)\n",
    "p.yaxis.axis_label = 'Miles Per Gallon'\n",
    "p.xaxis.axis_label = 'Horsepower'\n",
    "show(p)"
   ]
  }
 ],
 "metadata": {
  "kernelspec": {
   "display_name": "lambda",
   "language": "python",
   "name": "lambda"
  },
  "language_info": {
   "codemirror_mode": {
    "name": "ipython",
    "version": 3
   },
   "file_extension": ".py",
   "mimetype": "text/x-python",
   "name": "python",
   "nbconvert_exporter": "python",
   "pygments_lexer": "ipython3",
   "version": "3.7.2"
  }
 },
 "nbformat": 4,
 "nbformat_minor": 2
}
