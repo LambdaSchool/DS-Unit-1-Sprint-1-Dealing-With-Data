{
  "nbformat": 4,
  "nbformat_minor": 0,
  "metadata": {
    "colab": {
      "name": "landslide.ipynb",
      "version": "0.3.2",
      "provenance": [],
      "include_colab_link": true
    },
    "kernelspec": {
      "name": "python3",
      "display_name": "Python 3"
    }
  },
  "cells": [
    {
      "cell_type": "markdown",
      "metadata": {
        "id": "view-in-github",
        "colab_type": "text"
      },
      "source": [
        "<a href=\"https://colab.research.google.com/github/quinn-dougherty/DS-Sprint-01-Dealing-With-Data/blob/master/module3-basicdatavisualizations/landslide.ipynb\" target=\"_parent\"><img src=\"https://colab.research.google.com/assets/colab-badge.svg\" alt=\"Open In Colab\"/></a>"
      ]
    },
    {
      "metadata": {
        "id": "2vhwfN4rGP1Z",
        "colab_type": "code",
        "colab": {
          "base_uri": "https://localhost:8080/",
          "height": 51
        },
        "outputId": "91a13d86-bb9e-4bca-a0e5-2aa895e9204c"
      },
      "cell_type": "code",
      "source": [
        "import numpy as np \n",
        "import matplotlib.pyplot as plt\n",
        "import pandas as pd\n",
        "from functools import reduce\n",
        "\n",
        "#Import data\n",
        "landslide = pd.read_csv('https://query.data.world/s/h63v5sypgtnhkpevtqbdf3v472ppic')\n",
        "\n",
        "# for our variance, population is a random variable and Expected Value of is a mean.\n",
        "pop = landslide['population'].mean() # mu\n",
        "\n",
        "\n",
        "landslide['population'].fillna(int(pop), inplace=True)\n",
        "\n",
        "popSqurd = [x*x for x in landslide['population']]\n",
        "# expected value of pop^2, or (E(X^2))\n",
        "Epop2 = sum(popSqurd) / len(popSqurd)\n",
        "\n",
        "shape = landslide.shape\n",
        "\n",
        "variance = pop**2 - Epop2\n",
        "\n",
        "print(abs(variance)) # manual, longhand\n",
        "\n",
        "# vs. \n",
        "\n",
        "print(landslide['population'].var()) # (automatic)\n",
        "\n",
        "# very similar. "
      ],
      "execution_count": 13,
      "outputs": [
        {
          "output_type": "stream",
          "text": [
            "681826139779.6823\n"
          ],
          "name": "stdout"
        },
        {
          "output_type": "execute_result",
          "data": {
            "text/plain": [
              "681897439151.2725"
            ]
          },
          "metadata": {
            "tags": []
          },
          "execution_count": 13
        }
      ]
    },
    {
      "metadata": {
        "id": "UViOZnEpHdRk",
        "colab_type": "code",
        "colab": {}
      },
      "cell_type": "code",
      "source": [
        ""
      ],
      "execution_count": 0,
      "outputs": []
    }
  ]
}