{
  "nbformat": 4,
  "nbformat_minor": 0,
  "metadata": {
    "colab": {
      "name": "LS_DS_113_Basic_Data_Visualizations.ipynb",
      "version": "0.3.2",
      "provenance": [],
      "include_colab_link": true
    },
    "kernelspec": {
      "name": "python3",
      "display_name": "Python 3"
    }
  },
  "cells": [
    {
      "cell_type": "markdown",
      "metadata": {
        "id": "view-in-github",
        "colab_type": "text"
      },
      "source": [
        "<a href=\"https://colab.research.google.com/github/will-cotton4/DS-Unit-1-Sprint-1-Dealing-With-Data/blob/master/module3-basicdatavisualizations/LS_DS_113_Basic_Data_Visualizations.ipynb\" target=\"_parent\"><img src=\"https://colab.research.google.com/assets/colab-badge.svg\" alt=\"Open In Colab\"/></a>"
      ]
    },
    {
      "metadata": {
        "id": "wWVfNZd3Ss1o",
        "colab_type": "text"
      },
      "cell_type": "markdown",
      "source": [
        "# Lambda School Data Science - Basic Data Visualizations\n",
        "\n",
        "A picture is worth a thousand words. So, without any further ado:"
      ]
    },
    {
      "metadata": {
        "id": "Oxn-_d6VUXVz",
        "colab_type": "text"
      },
      "cell_type": "markdown",
      "source": [
        "## Lecture Example"
      ]
    },
    {
      "metadata": {
        "id": "IG1v46jnGkax",
        "colab_type": "code",
        "colab": {}
      },
      "cell_type": "code",
      "source": [
        "# https://matplotlib.org/gallery/lines_bars_and_markers/barh.html#sphx-glr-gallery-lines-bars-and-markers-barh-py\n",
        "import matplotlib.pyplot as plt\n",
        "import numpy as np\n",
        "\n",
        "# Fixing random state for reproducibility\n",
        "np.random.seed(19680801)\n",
        "\n",
        "\n",
        "plt.rcdefaults()\n",
        "fig, ax = plt.subplots()\n",
        "\n",
        "# Example data\n",
        "people = ('Tom', 'Dick', 'Harry', 'Slim', 'Jim')\n",
        "y_pos = np.arange(len(people))\n",
        "performance = 3 + 10 * np.random.rand(len(people))\n",
        "error = np.random.rand(len(people))\n",
        "\n",
        "ax.barh(y_pos, performance, xerr=error, align='center',\n",
        "        color='green', ecolor='black')\n",
        "ax.set_yticks(y_pos)\n",
        "ax.set_yticklabels(people)\n",
        "ax.invert_yaxis()  # labels read top-to-bottom\n",
        "ax.set_xlabel('Performance')\n",
        "ax.set_title('How fast do you want to go today?')\n",
        "\n",
        "plt.show()"
      ],
      "execution_count": 0,
      "outputs": []
    },
    {
      "metadata": {
        "id": "TjsyJ_45SzF1",
        "colab_type": "text"
      },
      "cell_type": "markdown",
      "source": [
        "The above is fairly clear. It's a lot less clear as a piechart."
      ]
    },
    {
      "metadata": {
        "id": "DWcnKAt4H9PT",
        "colab_type": "code",
        "colab": {}
      },
      "cell_type": "code",
      "source": [
        "# Adapted to piechart\n",
        "# https://matplotlib.org/gallery/pie_and_polar_charts/pie_features.html#sphx-glr-gallery-pie-and-polar-charts-pie-features-py\n",
        "\n",
        "import matplotlib.pyplot as plt\n",
        "import numpy as np\n",
        "\n",
        "# Fixing random state for reproducibility\n",
        "np.random.seed(19680801)\n",
        "\n",
        "\n",
        "plt.rcdefaults()\n",
        "fig, ax = plt.subplots()\n",
        "\n",
        "# Example data\n",
        "people = ('Tom', 'Dick', 'Harry', 'Slim', 'Jim')\n",
        "performance = 3 + 10 * np.random.rand(len(people))\n",
        "error = np.random.rand(len(people))\n",
        "\n",
        "ax.pie(performance, labels=people)\n",
        "ax.set_title('How fast do you want to go today?')\n",
        "\n",
        "plt.show()\n"
      ],
      "execution_count": 0,
      "outputs": []
    },
    {
      "metadata": {
        "id": "4QpzXDhDS7MO",
        "colab_type": "text"
      },
      "cell_type": "markdown",
      "source": [
        "What about continuous data? Scatterplot is a natural fit, and higher dimensions can be represented by size, color, or other visual aspects of the points."
      ]
    },
    {
      "metadata": {
        "id": "Y26IktTfIZmO",
        "colab_type": "code",
        "colab": {}
      },
      "cell_type": "code",
      "source": [
        "# https://matplotlib.org/gallery/lines_bars_and_markers/scatter_demo2.html#sphx-glr-gallery-lines-bars-and-markers-scatter-demo2-py\n",
        "import numpy as np\n",
        "import matplotlib.pyplot as plt\n",
        "import matplotlib.cbook as cbook\n",
        "\n",
        "# Load a numpy record array from yahoo csv data with fields date, open, close,\n",
        "# volume, adj_close from the mpl-data/example directory. The record array\n",
        "# stores the date as an np.datetime64 with a day unit ('D') in the date column.\n",
        "with cbook.get_sample_data('goog.npz') as datafile:\n",
        "    price_data = np.load(datafile)['price_data'].view(np.recarray)\n",
        "price_data = price_data[-250:]  # get the most recent 250 trading days\n",
        "\n",
        "delta1 = np.diff(price_data.adj_close) / price_data.adj_close[:-1]\n",
        "\n",
        "# Marker size in units of points^2\n",
        "volume = (15 * price_data.volume[:-2] / price_data.volume[0])**2\n",
        "close = 0.003 * price_data.close[:-2] / 0.003 * price_data.open[:-2]\n",
        "\n",
        "fig, ax = plt.subplots()\n",
        "ax.scatter(delta1[:-1], delta1[1:], c=close, s=volume, alpha=0.5)\n",
        "\n",
        "ax.set_xlabel(r'$\\Delta_i$', fontsize=15)\n",
        "ax.set_ylabel(r'$\\Delta_{i+1}$', fontsize=15)\n",
        "ax.set_title('Volume and percent change')\n",
        "\n",
        "ax.grid(True)\n",
        "fig.tight_layout()\n",
        "\n",
        "plt.show()"
      ],
      "execution_count": 0,
      "outputs": []
    },
    {
      "metadata": {
        "id": "vG6TANwHTDjg",
        "colab_type": "text"
      },
      "cell_type": "markdown",
      "source": [
        "An alternative way to represent higher dimensional data is with 3D scatterplots - but these are pretty hard to look at. Specifically, if it's not interactive (you can't drag it and move it around), your eye may not be able to distinguish which spatial dimension is separating two specific points."
      ]
    },
    {
      "metadata": {
        "id": "DaEiVQD2K0T1",
        "colab_type": "code",
        "colab": {}
      },
      "cell_type": "code",
      "source": [
        "# https://matplotlib.org/gallery/mplot3d/scatter3d.html#sphx-glr-gallery-mplot3d-scatter3d-py\n",
        "# This import registers the 3D projection, but is otherwise unused.\n",
        "from mpl_toolkits.mplot3d import Axes3D  # noqa: F401 unused import\n",
        "\n",
        "import matplotlib.pyplot as plt\n",
        "import numpy as np\n",
        "\n",
        "# Fixing random state for reproducibility\n",
        "np.random.seed(19680801)\n",
        "\n",
        "\n",
        "def randrange(n, vmin, vmax):\n",
        "    '''\n",
        "    Helper function to make an array of random numbers having shape (n, )\n",
        "    with each number distributed Uniform(vmin, vmax).\n",
        "    '''\n",
        "    return (vmax - vmin)*np.random.rand(n) + vmin\n",
        "\n",
        "fig = plt.figure()\n",
        "ax = fig.add_subplot(111, projection='3d')\n",
        "\n",
        "n = 100\n",
        "\n",
        "# For each set of style and range settings, plot n random points in the box\n",
        "# defined by x in [23, 32], y in [0, 100], z in [zlow, zhigh].\n",
        "for c, m, zlow, zhigh in [('r', 'o', -50, -25), ('b', '^', -30, -5)]:\n",
        "    xs = randrange(n, 23, 32)\n",
        "    ys = randrange(n, 0, 100)\n",
        "    zs = randrange(n, zlow, zhigh)\n",
        "    ax.scatter(xs, ys, zs, c=c, marker=m)\n",
        "\n",
        "ax.set_xlabel('X Label')\n",
        "ax.set_ylabel('Y Label')\n",
        "ax.set_zlabel('Z Label')\n",
        "\n",
        "plt.show()"
      ],
      "execution_count": 0,
      "outputs": []
    },
    {
      "metadata": {
        "id": "z1i4oebRTdb4",
        "colab_type": "text"
      },
      "cell_type": "markdown",
      "source": [
        "Live lecture - let's pick some plots and try them!\n",
        "- https://matplotlib.org/gallery - the foundational Python plotting library\n",
        "- https://seaborn.pydata.org/examples/index.html - opinionated, built on matplotlib so less configurable but arguably more usable/pretty (or easy to make pretty)\n",
        "- http://ggplot.yhathq.com/ - based on R's ggplot2 (the \"Grammar of Graphics\", a consistent and widely used foundation of plotting, particularly by academics)\n",
        "- https://bokeh.pydata.org/en/latest/ - interactive plots - write in Python, build and serve in HTML and JavaScript\n",
        "- https://plot.ly/ - similar to Bokeh but with a commercial service (though the software itself is still open source)\n",
        "- https://altair-viz.github.io/ - declarative visual graphics - a little different than the matplotlib/seaborn paradigm (based on the Vega Visualization Grammar) \n",
        "- https://python.libhunt.com/seaborn-alternatives - even more!\n",
        "\n"
      ]
    },
    {
      "metadata": {
        "id": "rPlMdtvVTPpr",
        "colab_type": "code",
        "colab": {}
      },
      "cell_type": "code",
      "source": [
        "import pandas as pd\n",
        "\n",
        "df = pd.read_csv('https://archive.ics.uci.edu/ml/machine-learning-databases/hepatitis/hepatitis.data')\n",
        "print(df.shape)\n",
        "df.head()"
      ],
      "execution_count": 0,
      "outputs": []
    },
    {
      "metadata": {
        "id": "3txHuFCEURXL",
        "colab_type": "text"
      },
      "cell_type": "markdown",
      "source": [
        "## Assignment - draw some plots!\n",
        "\n",
        "In the following section you should draw at least *3* plots, using the data you loaded yesterday - the first should be with matplotlib. The other two can be with any Python tool of your choice - Seaborn in particular is suggested to try. It is OK to start with code from a gallery/example or whatever documentation you find, but try to get it working with your own data.\n",
        "\n",
        "After you make the plots, write a summary (around a paragraph) for each plot, interpreting and describing it and what insight it gives you into the data. This summary should be written for an \"interested but non-technical\" audience - that is usually the sort of audience data scientists communicate with. Try to *explain* what's going on without making it scary.\n",
        "\n",
        "Stretch goals:\n",
        "- Interactive plots! (from the above tools, either Bokeh or plot.ly)\n",
        "- 3D plots that are intuitive/informative (and probably also interactive)\n",
        "- Share your plot! Take a screenshot and drop it in the cohort channel or elsewhere in Slack\n",
        "- Deploy! If it's interactive, you can put it out there (plot.ly will host your plot for you, and Bokeh will make an HTML file)\n",
        "- Work on your local Python setup - so far we've just used Colab, but [Anaconda](https://www.anaconda.com/download/) is a local environment for Python that lets you do everything you can in Colab and more"
      ]
    },
    {
      "metadata": {
        "id": "t-zKXsk-4FoT",
        "colab_type": "text"
      },
      "cell_type": "markdown",
      "source": [
        "# Previous Set (not great)\n"
      ]
    },
    {
      "metadata": {
        "id": "ZT95Gc9KjCfu",
        "colab_type": "code",
        "colab": {}
      },
      "cell_type": "code",
      "source": [
        "import pandas as pd\n",
        "import numpy as np\n",
        "import seaborn as sns\n",
        "import matplotlib.pyplot as plt\n",
        "\n",
        "#Read in community data\n",
        "community_data = pd.read_csv('https://archive.ics.uci.edu/ml/machine-learning-databases/communities/communities.data', header=None)\n",
        "print(community_data.head())\n",
        "#Oof. Data is dirty. I used a regex to scrub the attributes list, which I'll assign here:\n",
        "\n",
        "attribute_labels=[\"state\",\n",
        "\"county\",\n",
        "\"community\",\n",
        "\"communityname\",\n",
        "\"fold\",\n",
        "\"population\",\n",
        "\"householdsize\",\n",
        "\"racepctblack\",\n",
        "\"racePctWhite\",\n",
        "\"racePctAsian\",\n",
        "\"racePctHisp\",\n",
        "\"agePct12t21\",\n",
        "\"agePct12t29\",\n",
        "\"agePct16t24\",\n",
        "\"agePct65up\",\n",
        "\"numbUrban\",\n",
        "\"pctUrban\",\n",
        "\"medIncome\",\n",
        "\"pctWWage\",\n",
        "\"pctWFarmSelf\",\n",
        "\"pctWInvInc\",\n",
        "\"pctWSocSec\",\n",
        "\"pctWPubAsst\",\n",
        "\"pctWRetire\",\n",
        "\"medFamInc\",\n",
        "\"perCapInc\",\n",
        "\"whitePerCap\",\n",
        "\"blackPerCap\",\n",
        "\"indianPerCap\",\n",
        "\"AsianPerCap\",\n",
        "\"OtherPerCap\",\n",
        "\"HispPerCap\",\n",
        "\"NumUnderPov\",\n",
        "\"PctPopUnderPov\",\n",
        "\"PctLess9thGrade\",\n",
        "\"PctNotHSGrad\",\n",
        "\"PctBSorMore\",\n",
        "\"PctUnemployed\",\n",
        "\"PctEmploy\",\n",
        "\"PctEmplManu\",\n",
        "\"PctEmplProfServ\",\n",
        "\"PctOccupManu\",\n",
        "\"PctOccupMgmtProf\",\n",
        "\"MalePctDivorce\",\n",
        "\"MalePctNevMarr\",\n",
        "\"FemalePctDiv\",\n",
        "\"TotalPctDiv\",\n",
        "\"PersPerFam\",\n",
        "\"PctFam2Par\",\n",
        "\"PctKids2Par\",\n",
        "\"PctYoungKids2Par\",\n",
        "\"PctTeen2Par\",\n",
        "\"PctWorkMomYoungKids\",\n",
        "\"PctWorkMom\",\n",
        "\"NumIlleg\",\n",
        "\"PctIlleg\",\n",
        "\"NumImmig\",\n",
        "\"PctImmigRecent\",\n",
        "\"PctImmigRec5\",\n",
        "\"PctImmigRec8\",\n",
        "\"PctImmigRec10\",\n",
        "\"PctRecentImmig\",\n",
        "\"PctRecImmig5\",\n",
        "\"PctRecImmig8\",\n",
        "\"PctRecImmig10\",\n",
        "\"PctSpeakEnglOnly\",\n",
        "\"PctNotSpeakEnglWell\",\n",
        "\"PctLargHouseFam\",\n",
        "\"PctLargHouseOccup\",\n",
        "\"PersPerOccupHous\",\n",
        "\"PersPerOwnOccHous\",\n",
        "\"PersPerRentOccHous\",\n",
        "\"PctPersOwnOccup\",\n",
        "\"PctPersDenseHous\",\n",
        "\"PctHousLess3BR\",\n",
        "\"MedNumBR\",\n",
        "\"HousVacant\",\n",
        "\"PctHousOccup\",\n",
        "\"PctHousOwnOcc\",\n",
        "\"PctVacantBoarded\",\n",
        "\"PctVacMore6Mos\",\n",
        "\"MedYrHousBuilt\",\n",
        "\"PctHousNoPhone\",\n",
        "\"PctWOFullPlumb\",\n",
        "\"OwnOccLowQuart\",\n",
        "\"OwnOccMedVal\",\n",
        "\"OwnOccHiQuart\",\n",
        "\"RentLowQ\",\n",
        "\"RentMedian\",\n",
        "\"RentHighQ\",\n",
        "\"MedRent\",\n",
        "\"MedRentPctHousInc\",\n",
        "\"MedOwnCostPctInc\",\n",
        "\"MedOwnCostPctIncNoMtg\",\n",
        "\"NumInShelters\",\n",
        "\"NumStreet\",\n",
        "\"PctForeignBorn\",\n",
        "\"PctBornSameState\",\n",
        "\"PctSameHouse85\",\n",
        "\"PctSameCity85\",\n",
        "\"PctSameState85\",\n",
        "\"LemasSwornFT\",\n",
        "\"LemasSwFTPerPop\",\n",
        "\"LemasSwFTFieldOps\",\n",
        "\"LemasSwFTFieldPerPop\",\n",
        "\"LemasTotalReq\",\n",
        "\"LemasTotReqPerPop\",\n",
        "\"PolicReqPerOffic\",\n",
        "\"PolicPerPop\",\n",
        "\"RacialMatchCommPol\",\n",
        "\"PctPolicWhite\",\n",
        "\"PctPolicBlack\",\n",
        "\"PctPolicHisp\",\n",
        "\"PctPolicAsian\",\n",
        "\"PctPolicMinor\",\n",
        "\"OfficAssgnDrugUnits\",\n",
        "\"NumKindsDrugsSeiz\",\n",
        "\"PolicAveOTWorked\",\n",
        "\"LandArea\",\n",
        "\"PopDens\",\n",
        "\"PctUsePubTrans\",\n",
        "\"PolicCars\",\n",
        "\"PolicOperBudg\",\n",
        "\"LemasPctPolicOnPatr\",\n",
        "\"LemasGangUnitDeploy\",\n",
        "\"LemasPctOfficDrugUn\",\n",
        "\"PolicBudgPerPop\",\n",
        "\"ViolentCrimesPerPop\"]\n",
        "\n",
        "community_data.columns=attribute_labels\n",
        "\n",
        "community_data.head()\n",
        "#Swap question marks for NaNs and drop bad values:\n",
        "community_data = community_data.replace({'?': np.nan}).dropna()\n",
        "\n",
        "#Plot percent of pop. with education less than 9th grade against violent crime rate\n",
        "\n",
        "plt.rcdefaults()\n",
        "fig, ax = plt.subplots()\n",
        "plt.scatter(community_data[\"PctLess9thGrade\"], community_data[\"ViolentCrimesPerPop\"])\n",
        "plt.ylabel(\"Violent Crime\")\n",
        "plt.xlabel(\"Percent of pop. who have less than a 9th grade educaton\")\n",
        "plt.show()\n",
        "\n",
        "plt.bar(community_data[\"LemasGangUnitDeploy\"], community_data[\"PolicAveOTWorked\"])\n",
        "plt.show()\n",
        "\n"
      ],
      "execution_count": 0,
      "outputs": []
    },
    {
      "metadata": {
        "id": "-qZTfRwW4KAz",
        "colab_type": "text"
      },
      "cell_type": "markdown",
      "source": [
        "# New Set (forest fires)\n",
        "Here I created three graphs describing the relationship between certain attributes of forest fires.\n",
        "\n",
        "The first graph shows the number of forest fires that occured in each month. We can see that the most dangerous months are August and September, and that the next most dangerous months are relatively much less dangerous. It follows that it would be appropriate to take extra caution during the months of August and September to avoid inadvertently causing more fires than are natural.\n",
        "\n",
        "The second graph plots the relative humidity against temperature reached to see if there is any clear relationship between the two variables.\n",
        "\n",
        "The third graph demonstrates that there must be some other confounding variable; to try to plot a regression is obviously pointless since the data varies so much, but there might be a weak correlation between the two. We would need to run further multivariate regressions to see if we can identify some of the other causes of the variance."
      ]
    },
    {
      "metadata": {
        "id": "1504cn_r29p2",
        "colab_type": "code",
        "colab": {
          "base_uri": "https://localhost:8080/",
          "height": 456
        },
        "outputId": "2a86e663-f0b8-4f81-9969-4545809d4dc2"
      },
      "cell_type": "code",
      "source": [
        "import pandas as pd\n",
        "import numpy as np\n",
        "import seaborn as sns\n",
        "import matplotlib.pyplot as plt\n",
        "from sklearn import datasets, linear_model\n",
        "\n",
        "forest_fires = pd.read_csv(\"https://archive.ics.uci.edu/ml/machine-learning-databases/forest-fires/forestfires.csv\")\n",
        "forest_fires.head()\n",
        "\n",
        "#Create dictionaries to ordinalize categorical variables month and day\n",
        "\n",
        "months_dict = {'jan': 0,\n",
        "               'feb': 1,\n",
        "               'mar': 2,\n",
        "               'apr': 3,\n",
        "               'may': 4,\n",
        "               'jun': 5,\n",
        "               'jul': 6,\n",
        "               'aug': 7,\n",
        "               'sep': 8,\n",
        "               'oct': 9,\n",
        "               'nov': 10,\n",
        "               'dec': 11\n",
        "            }\n",
        "days_dict = {'sun': 0,\n",
        "             'mon': 1,\n",
        "             'tue': 2,\n",
        "             'wed': 3,\n",
        "             'thu': 4,\n",
        "             'fri': 5,\n",
        "             'sat': 6\n",
        "            }\n",
        "\n",
        "#Ordinalize\n",
        "\n",
        "# forest_fires['month'] = forest_fires['month'].map(months_dict)\n",
        "# forest_fires['day'] = forest_fires['day'].map(days_dict)\n",
        "\n",
        "num_fires=forest_fires['month'].value_counts().tolist()\n",
        "months = forest_fires['month'].value_counts().keys().tolist()\n",
        "\n",
        "print(num_fires)\n",
        "print(months)\n",
        "plt.figure(1)\n",
        "plt.subplot(311)\n",
        "plt.xlabel(\"Month\")\n",
        "plt.ylabel(\"Number of Fires\")\n",
        "plt.bar(months, num_fires)\n",
        "ax = forest_fires.plot.bar(rot=0)\n",
        "plt.subplot(312)\n",
        "plt.xlabel(\"Relative Humidity\")\n",
        "plt.ylabel(\"Temperature\")\n",
        "plt.scatter(forest_fires['RH'],forest_fires['temp'])\n",
        "\n",
        "plt.subplot(313)\n",
        "\n",
        "plt.xlabel(\"Relative Humidity\")\n",
        "plt.ylabel(\"Temperature\")\n",
        "plt.scatter(forest_fires['RH'],forest_fires['temp'])\n",
        "\n",
        "regr = linear_model.LinearRegression()\n",
        "\n",
        "x=forest_fires['RH'].reshape(-1,1)\n",
        "y=forest_fires['temp'].reshape(-1,1)\n",
        "regr.fit(x,y)\n",
        "\n",
        "temp_pred = regr.predict(x)\n",
        "\n",
        "plt.plot(forest_fires['RH'], temp_pred,color = 'green')\n",
        "plt.show()\n",
        "\n"
      ],
      "execution_count": 82,
      "outputs": [
        {
          "output_type": "stream",
          "text": [
            "[184, 172, 54, 32, 20, 17, 15, 9, 9, 2, 2, 1]\n",
            "['aug', 'sep', 'mar', 'jul', 'feb', 'jun', 'oct', 'apr', 'dec', 'jan', 'may', 'nov']\n"
          ],
          "name": "stdout"
        },
        {
          "output_type": "stream",
          "text": [
            "/usr/local/lib/python3.6/dist-packages/ipykernel_launcher.py:63: FutureWarning: reshape is deprecated and will raise in a subsequent release. Please use .values.reshape(...) instead\n",
            "/usr/local/lib/python3.6/dist-packages/ipykernel_launcher.py:64: FutureWarning: reshape is deprecated and will raise in a subsequent release. Please use .values.reshape(...) instead\n"
          ],
          "name": "stderr"
        },
        {
          "output_type": "display_data",
          "data": {
            "image/png": "[encoded data removed]",
            "text/plain": [
              "<Figure size 576x396 with 1 Axes>"
            ]
          },
          "metadata": {
            "tags": []
          }
        },
        {
          "output_type": "display_data",
          "data": {
            "image/png": "[encoded data removed]",
            "text/plain": [
              "<Figure size 576x396 with 2 Axes>"
            ]
          },
          "metadata": {
            "tags": []
          }
        }
      ]
    }
  ]
}