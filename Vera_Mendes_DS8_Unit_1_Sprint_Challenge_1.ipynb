{
  "nbformat": 4,
  "nbformat_minor": 0,
  "metadata": {
    "colab": {
      "name": "Vera Mendes_DS8_Unit_1_Sprint_Challenge_1.ipynb",
      "version": "0.3.2",
      "provenance": [],
      "collapsed_sections": [],
      "include_colab_link": true
    },
    "kernelspec": {
      "name": "python3",
      "display_name": "Python 3"
    }
  },
  "cells": [
    {
      "cell_type": "markdown",
      "metadata": {
        "id": "view-in-github",
        "colab_type": "text"
      },
      "source": [
        "<a href=\"https://colab.research.google.com/github/VeraMendes/DS-Unit-1-Sprint-1-Dealing-With-Data/blob/master/Vera_Mendes_DS8_Unit_1_Sprint_Challenge_1.ipynb\" target=\"_parent\"><img src=\"https://colab.research.google.com/assets/colab-badge.svg\" alt=\"Open In Colab\"/></a>"
      ]
    },
    {
      "cell_type": "markdown",
      "metadata": {
        "id": "NooAiTdnafkz",
        "colab_type": "text"
      },
      "source": [
        "# Data Science Unit 1 Sprint Challenge 1\n",
        "\n",
        "## Loading, cleaning, visualizing, and analyzing data\n",
        "\n",
        "In this sprint challenge you will look at a dataset of the survival of patients who underwent surgery for breast cancer.\n",
        "\n",
        "http://archive.ics.uci.edu/ml/datasets/Haberman%27s+Survival\n",
        "\n",
        "Data Set Information:\n",
        "The dataset contains cases from a study that was conducted between 1958 and 1970 at the University of Chicago's Billings Hospital on the survival of patients who had undergone surgery for breast cancer.\n",
        "\n",
        "Attribute Information:\n",
        "1. Age of patient at time of operation (numerical)\n",
        "2. Patient's year of operation (year - 1900, numerical)\n",
        "3. Number of positive axillary nodes detected (numerical)\n",
        "4. Survival status (class attribute)\n",
        "-- 1 = the patient survived 5 years or longer\n",
        "-- 2 = the patient died within 5 year\n",
        "\n",
        "Sprint challenges are evaluated based on satisfactory completion of each part. It is suggested you work through it in order, getting each aspect reasonably working, before trying to deeply explore, iterate, or refine any given step. Once you get to the end, if you want to go back and improve things, go for it!"
      ]
    },
    {
      "cell_type": "markdown",
      "metadata": {
        "id": "DUjOBLFAr3A5",
        "colab_type": "text"
      },
      "source": [
        "## Part 0 - Revert your version of Pandas right from the start\n",
        "I don't want any of you to get stuck because of Pandas bugs, so right from the get-go revert back to version `0.23.4`\n",
        "- Run the cell below\n",
        "- Then restart your runtime. Go to `Runtime`  ->  `Restart runtime...` in the top menu (or click the \"RESTART RUNTIME\" button that shows up in the output of the cell below).\n"
      ]
    },
    {
      "cell_type": "code",
      "metadata": {
        "id": "PWq6GbkjsRYQ",
        "colab_type": "code",
        "outputId": "4c8b6066-b96c-40ce-e88e-e78c3068ae4b",
        "colab": {
          "base_uri": "https://localhost:8080/",
          "height": 349
        }
      },
      "source": [
        "!pip install pandas==0.23.4"
      ],
      "execution_count": 1,
      "outputs": [
        {
          "output_type": "stream",
          "text": [
            "Collecting pandas==0.23.4\n",
            "\u001b[?25l  Downloading https://files.pythonhosted.org/packages/e1/d8/feeb346d41f181e83fba45224ab14a8d8af019b48af742e047f3845d8cff/pandas-0.23.4-cp36-cp36m-manylinux1_x86_64.whl (8.9MB)\n",
            "\u001b[K     |████████████████████████████████| 8.9MB 5.1MB/s \n",
            "\u001b[?25hRequirement already satisfied: pytz>=2011k in /usr/local/lib/python3.6/dist-packages (from pandas==0.23.4) (2018.9)\n",
            "Requirement already satisfied: numpy>=1.9.0 in /usr/local/lib/python3.6/dist-packages (from pandas==0.23.4) (1.16.4)\n",
            "Requirement already satisfied: python-dateutil>=2.5.0 in /usr/local/lib/python3.6/dist-packages (from pandas==0.23.4) (2.5.3)\n",
            "Requirement already satisfied: six>=1.5 in /usr/local/lib/python3.6/dist-packages (from python-dateutil>=2.5.0->pandas==0.23.4) (1.12.0)\n",
            "\u001b[31mERROR: google-colab 1.0.0 has requirement pandas~=0.24.0, but you'll have pandas 0.23.4 which is incompatible.\u001b[0m\n",
            "Installing collected packages: pandas\n",
            "  Found existing installation: pandas 0.24.2\n",
            "    Uninstalling pandas-0.24.2:\n",
            "      Successfully uninstalled pandas-0.24.2\n",
            "Successfully installed pandas-0.23.4\n"
          ],
          "name": "stdout"
        },
        {
          "output_type": "display_data",
          "data": {
            "application/vnd.colab-display-data+json": {
              "pip_warning": {
                "packages": [
                  "pandas"
                ]
              }
            }
          },
          "metadata": {
            "tags": []
          }
        }
      ]
    },
    {
      "cell_type": "markdown",
      "metadata": {
        "id": "5wch6ksCbJtZ",
        "colab_type": "text"
      },
      "source": [
        "## Part 1 - Load and validate the data\n",
        "\n",
        "- Load the data as a `pandas` data frame.\n",
        "- Validate that it has the appropriate number of observations (you can check the raw file, and also read the dataset description from UCI).\n",
        "- Validate that you have no missing values.\n",
        "- Add informative names to the features.\n",
        "- The survival variable is encoded as 1 for surviving >5 years and 2 for not - change this to be 0 for not surviving and 1 for surviving >5 years (0/1 is a more traditional encoding of binary variables)\n",
        "\n",
        "At the end, print the first five rows of the dataset to demonstrate the above."
      ]
    },
    {
      "cell_type": "code",
      "metadata": {
        "id": "n8VZZdxwJ03E",
        "colab_type": "code",
        "colab": {}
      },
      "source": [
        "# import pandas\n",
        "import pandas as pd"
      ],
      "execution_count": 0,
      "outputs": []
    },
    {
      "cell_type": "code",
      "metadata": {
        "id": "287TpoGKFRVK",
        "colab_type": "code",
        "colab": {
          "base_uri": "https://localhost:8080/",
          "height": 208
        },
        "outputId": "3b2691e8-f301-44d0-e4e5-524cedd4b52c"
      },
      "source": [
        "# import archive\n",
        "!wget http://archive.ics.uci.edu/ml/machine-learning-databases/haberman/haberman.data"
      ],
      "execution_count": 13,
      "outputs": [
        {
          "output_type": "stream",
          "text": [
            "--2019-09-06 15:38:06--  http://archive.ics.uci.edu/ml/machine-learning-databases/haberman/haberman.data\n",
            "Resolving archive.ics.uci.edu (archive.ics.uci.edu)... 128.195.10.252\n",
            "Connecting to archive.ics.uci.edu (archive.ics.uci.edu)|128.195.10.252|:80... connected.\n",
            "HTTP request sent, awaiting response... 200 OK\n",
            "Length: 3103 (3.0K) [application/x-httpd-php]\n",
            "Saving to: ‘haberman.data.1’\n",
            "\n",
            "\rhaberman.data.1       0%[                    ]       0  --.-KB/s               \rhaberman.data.1     100%[===================>]   3.03K  --.-KB/s    in 0s      \n",
            "\n",
            "2019-09-06 15:38:06 (270 MB/s) - ‘haberman.data.1’ saved [3103/3103]\n",
            "\n"
          ],
          "name": "stdout"
        }
      ]
    },
    {
      "cell_type": "code",
      "metadata": {
        "id": "rubnWsPwJ-wr",
        "colab_type": "code",
        "colab": {
          "base_uri": "https://localhost:8080/",
          "height": 191
        },
        "outputId": "d29a4fdf-108c-4d3a-879d-a33cf7fdc592"
      },
      "source": [
        "!head haberman.data"
      ],
      "execution_count": 14,
      "outputs": [
        {
          "output_type": "stream",
          "text": [
            "30,64,1,1\n",
            "30,62,3,1\n",
            "30,65,0,1\n",
            "31,59,2,1\n",
            "31,65,4,1\n",
            "33,58,10,1\n",
            "33,60,0,1\n",
            "34,59,0,2\n",
            "34,66,9,2\n",
            "34,58,30,1\n"
          ],
          "name": "stdout"
        }
      ]
    },
    {
      "cell_type": "code",
      "metadata": {
        "id": "eQA1mzf6Kdo5",
        "colab_type": "code",
        "colab": {
          "base_uri": "https://localhost:8080/",
          "height": 191
        },
        "outputId": "9059af8d-c2a6-4688-b265-81651382c7ba"
      },
      "source": [
        "!tail haberman.data"
      ],
      "execution_count": 15,
      "outputs": [
        {
          "output_type": "stream",
          "text": [
            "72,67,3,1\n",
            "73,62,0,1\n",
            "73,68,0,1\n",
            "74,65,3,2\n",
            "74,63,0,1\n",
            "75,62,1,1\n",
            "76,67,0,1\n",
            "77,65,3,1\n",
            "78,65,1,2\n",
            "83,58,2,2\n"
          ],
          "name": "stdout"
        }
      ]
    },
    {
      "cell_type": "code",
      "metadata": {
        "id": "PzY2CULzLdye",
        "colab_type": "code",
        "colab": {}
      },
      "source": [
        "#  creating column headers\n",
        "column_headers = ['Age_of_patient_time_of_operation', 'Patient_year_of_operation', 'Number_positive_axillary_nodes_detected', 'Survival_status']"
      ],
      "execution_count": 0,
      "outputs": []
    },
    {
      "cell_type": "code",
      "metadata": {
        "id": "D8dSXjXPLSyL",
        "colab_type": "code",
        "colab": {
          "base_uri": "https://localhost:8080/",
          "height": 373
        },
        "outputId": "6cb94a1c-ec33-46cc-aec9-5b3d1bbf26dd"
      },
      "source": [
        "# looking at the data\n",
        "df = pd.read_csv('haberman.data', names=column_headers)\n",
        "print(df.shape)\n",
        "df.head(10)"
      ],
      "execution_count": 73,
      "outputs": [
        {
          "output_type": "stream",
          "text": [
            "(306, 4)\n"
          ],
          "name": "stdout"
        },
        {
          "output_type": "execute_result",
          "data": {
            "text/html": [
              "<div>\n",
              "<style scoped>\n",
              "    .dataframe tbody tr th:only-of-type {\n",
              "        vertical-align: middle;\n",
              "    }\n",
              "\n",
              "    .dataframe tbody tr th {\n",
              "        vertical-align: top;\n",
              "    }\n",
              "\n",
              "    .dataframe thead th {\n",
              "        text-align: right;\n",
              "    }\n",
              "</style>\n",
              "<table border=\"1\" class=\"dataframe\">\n",
              "  <thead>\n",
              "    <tr style=\"text-align: right;\">\n",
              "      <th></th>\n",
              "      <th>Age_of_patient_time_of_operation</th>\n",
              "      <th>Patient_year_of_operation</th>\n",
              "      <th>Number_positive_axillary_nodes_detected</th>\n",
              "      <th>Survival_status</th>\n",
              "    </tr>\n",
              "  </thead>\n",
              "  <tbody>\n",
              "    <tr>\n",
              "      <th>0</th>\n",
              "      <td>30</td>\n",
              "      <td>64</td>\n",
              "      <td>1</td>\n",
              "      <td>1</td>\n",
              "    </tr>\n",
              "    <tr>\n",
              "      <th>1</th>\n",
              "      <td>30</td>\n",
              "      <td>62</td>\n",
              "      <td>3</td>\n",
              "      <td>1</td>\n",
              "    </tr>\n",
              "    <tr>\n",
              "      <th>2</th>\n",
              "      <td>30</td>\n",
              "      <td>65</td>\n",
              "      <td>0</td>\n",
              "      <td>1</td>\n",
              "    </tr>\n",
              "    <tr>\n",
              "      <th>3</th>\n",
              "      <td>31</td>\n",
              "      <td>59</td>\n",
              "      <td>2</td>\n",
              "      <td>1</td>\n",
              "    </tr>\n",
              "    <tr>\n",
              "      <th>4</th>\n",
              "      <td>31</td>\n",
              "      <td>65</td>\n",
              "      <td>4</td>\n",
              "      <td>1</td>\n",
              "    </tr>\n",
              "    <tr>\n",
              "      <th>5</th>\n",
              "      <td>33</td>\n",
              "      <td>58</td>\n",
              "      <td>10</td>\n",
              "      <td>1</td>\n",
              "    </tr>\n",
              "    <tr>\n",
              "      <th>6</th>\n",
              "      <td>33</td>\n",
              "      <td>60</td>\n",
              "      <td>0</td>\n",
              "      <td>1</td>\n",
              "    </tr>\n",
              "    <tr>\n",
              "      <th>7</th>\n",
              "      <td>34</td>\n",
              "      <td>59</td>\n",
              "      <td>0</td>\n",
              "      <td>2</td>\n",
              "    </tr>\n",
              "    <tr>\n",
              "      <th>8</th>\n",
              "      <td>34</td>\n",
              "      <td>66</td>\n",
              "      <td>9</td>\n",
              "      <td>2</td>\n",
              "    </tr>\n",
              "    <tr>\n",
              "      <th>9</th>\n",
              "      <td>34</td>\n",
              "      <td>58</td>\n",
              "      <td>30</td>\n",
              "      <td>1</td>\n",
              "    </tr>\n",
              "  </tbody>\n",
              "</table>\n",
              "</div>"
            ],
            "text/plain": [
              "   Age_of_patient_time_of_operation       ...         Survival_status\n",
              "0                                30       ...                       1\n",
              "1                                30       ...                       1\n",
              "2                                30       ...                       1\n",
              "3                                31       ...                       1\n",
              "4                                31       ...                       1\n",
              "5                                33       ...                       1\n",
              "6                                33       ...                       1\n",
              "7                                34       ...                       2\n",
              "8                                34       ...                       2\n",
              "9                                34       ...                       1\n",
              "\n",
              "[10 rows x 4 columns]"
            ]
          },
          "metadata": {
            "tags": []
          },
          "execution_count": 73
        }
      ]
    },
    {
      "cell_type": "code",
      "metadata": {
        "id": "OyATN87JM0SO",
        "colab_type": "code",
        "colab": {
          "base_uri": "https://localhost:8080/",
          "height": 104
        },
        "outputId": "358a56e1-6163-4f07-aace-376892c18d70"
      },
      "source": [
        "# checking for NaN values\n",
        "df. isnull(). sum()"
      ],
      "execution_count": 7,
      "outputs": [
        {
          "output_type": "execute_result",
          "data": {
            "text/plain": [
              "Age_of_patient_time_of_operation           0\n",
              "Patient_year_of_operation                  0\n",
              "Number_positive_axillary_nodes_detected    0\n",
              "Survival_status                            0\n",
              "dtype: int64"
            ]
          },
          "metadata": {
            "tags": []
          },
          "execution_count": 7
        }
      ]
    },
    {
      "cell_type": "code",
      "metadata": {
        "id": "d9QJ4bZyNkx6",
        "colab_type": "code",
        "colab": {}
      },
      "source": [
        "# define a function to change values on 'Survival_Status' column\n",
        "\n",
        "def binary(number):\n",
        "  if number == 2:\n",
        "    return 0\n",
        "  else:\n",
        "    return 1\n",
        "\n",
        "# testing function\n",
        "# a = 2\n",
        "# b = 1\n",
        "# binary(a)\n",
        "# binary(b)\n"
      ],
      "execution_count": 0,
      "outputs": []
    },
    {
      "cell_type": "code",
      "metadata": {
        "id": "OMJ30lUaPh2T",
        "colab_type": "code",
        "colab": {
          "base_uri": "https://localhost:8080/",
          "height": 355
        },
        "outputId": "623f1287-4770-4376-9ea4-c4d1be4be944"
      },
      "source": [
        "# applying function to my df\n",
        "\n",
        "df['Survival_status'] = df['Survival_status']. apply(binary)\n",
        "df.head(10)"
      ],
      "execution_count": 74,
      "outputs": [
        {
          "output_type": "execute_result",
          "data": {
            "text/html": [
              "<div>\n",
              "<style scoped>\n",
              "    .dataframe tbody tr th:only-of-type {\n",
              "        vertical-align: middle;\n",
              "    }\n",
              "\n",
              "    .dataframe tbody tr th {\n",
              "        vertical-align: top;\n",
              "    }\n",
              "\n",
              "    .dataframe thead th {\n",
              "        text-align: right;\n",
              "    }\n",
              "</style>\n",
              "<table border=\"1\" class=\"dataframe\">\n",
              "  <thead>\n",
              "    <tr style=\"text-align: right;\">\n",
              "      <th></th>\n",
              "      <th>Age_of_patient_time_of_operation</th>\n",
              "      <th>Patient_year_of_operation</th>\n",
              "      <th>Number_positive_axillary_nodes_detected</th>\n",
              "      <th>Survival_status</th>\n",
              "    </tr>\n",
              "  </thead>\n",
              "  <tbody>\n",
              "    <tr>\n",
              "      <th>0</th>\n",
              "      <td>30</td>\n",
              "      <td>64</td>\n",
              "      <td>1</td>\n",
              "      <td>1</td>\n",
              "    </tr>\n",
              "    <tr>\n",
              "      <th>1</th>\n",
              "      <td>30</td>\n",
              "      <td>62</td>\n",
              "      <td>3</td>\n",
              "      <td>1</td>\n",
              "    </tr>\n",
              "    <tr>\n",
              "      <th>2</th>\n",
              "      <td>30</td>\n",
              "      <td>65</td>\n",
              "      <td>0</td>\n",
              "      <td>1</td>\n",
              "    </tr>\n",
              "    <tr>\n",
              "      <th>3</th>\n",
              "      <td>31</td>\n",
              "      <td>59</td>\n",
              "      <td>2</td>\n",
              "      <td>1</td>\n",
              "    </tr>\n",
              "    <tr>\n",
              "      <th>4</th>\n",
              "      <td>31</td>\n",
              "      <td>65</td>\n",
              "      <td>4</td>\n",
              "      <td>1</td>\n",
              "    </tr>\n",
              "    <tr>\n",
              "      <th>5</th>\n",
              "      <td>33</td>\n",
              "      <td>58</td>\n",
              "      <td>10</td>\n",
              "      <td>1</td>\n",
              "    </tr>\n",
              "    <tr>\n",
              "      <th>6</th>\n",
              "      <td>33</td>\n",
              "      <td>60</td>\n",
              "      <td>0</td>\n",
              "      <td>1</td>\n",
              "    </tr>\n",
              "    <tr>\n",
              "      <th>7</th>\n",
              "      <td>34</td>\n",
              "      <td>59</td>\n",
              "      <td>0</td>\n",
              "      <td>0</td>\n",
              "    </tr>\n",
              "    <tr>\n",
              "      <th>8</th>\n",
              "      <td>34</td>\n",
              "      <td>66</td>\n",
              "      <td>9</td>\n",
              "      <td>0</td>\n",
              "    </tr>\n",
              "    <tr>\n",
              "      <th>9</th>\n",
              "      <td>34</td>\n",
              "      <td>58</td>\n",
              "      <td>30</td>\n",
              "      <td>1</td>\n",
              "    </tr>\n",
              "  </tbody>\n",
              "</table>\n",
              "</div>"
            ],
            "text/plain": [
              "   Age_of_patient_time_of_operation       ...         Survival_status\n",
              "0                                30       ...                       1\n",
              "1                                30       ...                       1\n",
              "2                                30       ...                       1\n",
              "3                                31       ...                       1\n",
              "4                                31       ...                       1\n",
              "5                                33       ...                       1\n",
              "6                                33       ...                       1\n",
              "7                                34       ...                       0\n",
              "8                                34       ...                       0\n",
              "9                                34       ...                       1\n",
              "\n",
              "[10 rows x 4 columns]"
            ]
          },
          "metadata": {
            "tags": []
          },
          "execution_count": 74
        }
      ]
    },
    {
      "cell_type": "markdown",
      "metadata": {
        "id": "G7rLytbrO38L",
        "colab_type": "text"
      },
      "source": [
        "## Part 2 - Examine the distribution and relationships of the features\n",
        "\n",
        "Explore the data - create at least *2* tables (can be summary statistics or crosstabulations) and *2* plots illustrating the nature of the data.\n",
        "\n",
        "This is open-ended, so to remind - first *complete* this task as a baseline, then go on to the remaining sections, and *then* as time allows revisit and explore further.\n",
        "\n",
        "Hint - you may need to bin some variables depending on your chosen tables/plots."
      ]
    },
    {
      "cell_type": "code",
      "metadata": {
        "id": "IAkllgCIFVj0",
        "colab_type": "code",
        "colab": {
          "base_uri": "https://localhost:8080/",
          "height": 294
        },
        "outputId": "a43906d9-97cc-4434-bea0-e61dbe8fd716"
      },
      "source": [
        "#  looking for limits\n",
        "df.describe()"
      ],
      "execution_count": 22,
      "outputs": [
        {
          "output_type": "execute_result",
          "data": {
            "text/html": [
              "<div>\n",
              "<style scoped>\n",
              "    .dataframe tbody tr th:only-of-type {\n",
              "        vertical-align: middle;\n",
              "    }\n",
              "\n",
              "    .dataframe tbody tr th {\n",
              "        vertical-align: top;\n",
              "    }\n",
              "\n",
              "    .dataframe thead th {\n",
              "        text-align: right;\n",
              "    }\n",
              "</style>\n",
              "<table border=\"1\" class=\"dataframe\">\n",
              "  <thead>\n",
              "    <tr style=\"text-align: right;\">\n",
              "      <th></th>\n",
              "      <th>Age_of_patient_time_of_operation</th>\n",
              "      <th>Patient_year_of_operation</th>\n",
              "      <th>Number_positive_axillary_nodes_detected</th>\n",
              "      <th>Survival_status</th>\n",
              "    </tr>\n",
              "  </thead>\n",
              "  <tbody>\n",
              "    <tr>\n",
              "      <th>count</th>\n",
              "      <td>306.000000</td>\n",
              "      <td>306.000000</td>\n",
              "      <td>306.000000</td>\n",
              "      <td>306.000000</td>\n",
              "    </tr>\n",
              "    <tr>\n",
              "      <th>mean</th>\n",
              "      <td>52.457516</td>\n",
              "      <td>62.852941</td>\n",
              "      <td>4.026144</td>\n",
              "      <td>0.735294</td>\n",
              "    </tr>\n",
              "    <tr>\n",
              "      <th>std</th>\n",
              "      <td>10.803452</td>\n",
              "      <td>3.249405</td>\n",
              "      <td>7.189654</td>\n",
              "      <td>0.441899</td>\n",
              "    </tr>\n",
              "    <tr>\n",
              "      <th>min</th>\n",
              "      <td>30.000000</td>\n",
              "      <td>58.000000</td>\n",
              "      <td>0.000000</td>\n",
              "      <td>0.000000</td>\n",
              "    </tr>\n",
              "    <tr>\n",
              "      <th>25%</th>\n",
              "      <td>44.000000</td>\n",
              "      <td>60.000000</td>\n",
              "      <td>0.000000</td>\n",
              "      <td>0.000000</td>\n",
              "    </tr>\n",
              "    <tr>\n",
              "      <th>50%</th>\n",
              "      <td>52.000000</td>\n",
              "      <td>63.000000</td>\n",
              "      <td>1.000000</td>\n",
              "      <td>1.000000</td>\n",
              "    </tr>\n",
              "    <tr>\n",
              "      <th>75%</th>\n",
              "      <td>60.750000</td>\n",
              "      <td>65.750000</td>\n",
              "      <td>4.000000</td>\n",
              "      <td>1.000000</td>\n",
              "    </tr>\n",
              "    <tr>\n",
              "      <th>max</th>\n",
              "      <td>83.000000</td>\n",
              "      <td>69.000000</td>\n",
              "      <td>52.000000</td>\n",
              "      <td>1.000000</td>\n",
              "    </tr>\n",
              "  </tbody>\n",
              "</table>\n",
              "</div>"
            ],
            "text/plain": [
              "       Age_of_patient_time_of_operation       ...         Survival_status\n",
              "count                        306.000000       ...              306.000000\n",
              "mean                          52.457516       ...                0.735294\n",
              "std                           10.803452       ...                0.441899\n",
              "min                           30.000000       ...                0.000000\n",
              "25%                           44.000000       ...                0.000000\n",
              "50%                           52.000000       ...                1.000000\n",
              "75%                           60.750000       ...                1.000000\n",
              "max                           83.000000       ...                1.000000\n",
              "\n",
              "[8 rows x 4 columns]"
            ]
          },
          "metadata": {
            "tags": []
          },
          "execution_count": 22
        }
      ]
    },
    {
      "cell_type": "code",
      "metadata": {
        "id": "1Kf6ePKVQ28O",
        "colab_type": "code",
        "colab": {}
      },
      "source": [
        "age_bins = pd.cut(df['Age_of_patient_time_of_operation'], 3)\n",
        "operation_year_bins = pd.cut(df['Patient_year_of_operation'], 2)\n",
        "nodes_detected_bins = pd.cut(df['Number_positive_axillary_nodes_detected'], 3)"
      ],
      "execution_count": 0,
      "outputs": []
    },
    {
      "cell_type": "code",
      "metadata": {
        "id": "0N5OKc2wRkRe",
        "colab_type": "code",
        "colab": {
          "base_uri": "https://localhost:8080/",
          "height": 171
        },
        "outputId": "c72c239e-37af-4ea4-9cad-9e1836af2d98"
      },
      "source": [
        "# looking for relationships\n",
        "\n",
        "crosstab = pd.crosstab(nodes_detected_bins, df['Survival_status'])\n",
        "crosstab"
      ],
      "execution_count": 26,
      "outputs": [
        {
          "output_type": "execute_result",
          "data": {
            "text/html": [
              "<div>\n",
              "<style scoped>\n",
              "    .dataframe tbody tr th:only-of-type {\n",
              "        vertical-align: middle;\n",
              "    }\n",
              "\n",
              "    .dataframe tbody tr th {\n",
              "        vertical-align: top;\n",
              "    }\n",
              "\n",
              "    .dataframe thead th {\n",
              "        text-align: right;\n",
              "    }\n",
              "</style>\n",
              "<table border=\"1\" class=\"dataframe\">\n",
              "  <thead>\n",
              "    <tr style=\"text-align: right;\">\n",
              "      <th>Survival_status</th>\n",
              "      <th>0</th>\n",
              "      <th>1</th>\n",
              "    </tr>\n",
              "    <tr>\n",
              "      <th>Number_positive_axillary_nodes_detected</th>\n",
              "      <th></th>\n",
              "      <th></th>\n",
              "    </tr>\n",
              "  </thead>\n",
              "  <tbody>\n",
              "    <tr>\n",
              "      <th>(-0.052, 17.333]</th>\n",
              "      <td>70</td>\n",
              "      <td>216</td>\n",
              "    </tr>\n",
              "    <tr>\n",
              "      <th>(17.333, 34.667]</th>\n",
              "      <td>9</td>\n",
              "      <td>8</td>\n",
              "    </tr>\n",
              "    <tr>\n",
              "      <th>(34.667, 52.0]</th>\n",
              "      <td>2</td>\n",
              "      <td>1</td>\n",
              "    </tr>\n",
              "  </tbody>\n",
              "</table>\n",
              "</div>"
            ],
            "text/plain": [
              "Survival_status                           0    1\n",
              "Number_positive_axillary_nodes_detected         \n",
              "(-0.052, 17.333]                         70  216\n",
              "(17.333, 34.667]                          9    8\n",
              "(34.667, 52.0]                            2    1"
            ]
          },
          "metadata": {
            "tags": []
          },
          "execution_count": 26
        }
      ]
    },
    {
      "cell_type": "code",
      "metadata": {
        "id": "m7LnRMZ_SgeC",
        "colab_type": "code",
        "colab": {
          "base_uri": "https://localhost:8080/",
          "height": 263
        },
        "outputId": "d2164f46-7d53-4835-e748-90d7ce444c4e"
      },
      "source": [
        "crosstab = pd.crosstab([nodes_detected_bins,operation_year_bins], df['Survival_status'], normalize='columns')\n",
        "crosstab"
      ],
      "execution_count": 27,
      "outputs": [
        {
          "output_type": "execute_result",
          "data": {
            "text/html": [
              "<div>\n",
              "<style scoped>\n",
              "    .dataframe tbody tr th:only-of-type {\n",
              "        vertical-align: middle;\n",
              "    }\n",
              "\n",
              "    .dataframe tbody tr th {\n",
              "        vertical-align: top;\n",
              "    }\n",
              "\n",
              "    .dataframe thead th {\n",
              "        text-align: right;\n",
              "    }\n",
              "</style>\n",
              "<table border=\"1\" class=\"dataframe\">\n",
              "  <thead>\n",
              "    <tr style=\"text-align: right;\">\n",
              "      <th></th>\n",
              "      <th>Survival_status</th>\n",
              "      <th>0</th>\n",
              "      <th>1</th>\n",
              "    </tr>\n",
              "    <tr>\n",
              "      <th>Number_positive_axillary_nodes_detected</th>\n",
              "      <th>Patient_year_of_operation</th>\n",
              "      <th></th>\n",
              "      <th></th>\n",
              "    </tr>\n",
              "  </thead>\n",
              "  <tbody>\n",
              "    <tr>\n",
              "      <th rowspan=\"2\" valign=\"top\">(-0.052, 17.333]</th>\n",
              "      <th>(57.989, 63.5]</th>\n",
              "      <td>0.444444</td>\n",
              "      <td>0.542222</td>\n",
              "    </tr>\n",
              "    <tr>\n",
              "      <th>(63.5, 69.0]</th>\n",
              "      <td>0.419753</td>\n",
              "      <td>0.417778</td>\n",
              "    </tr>\n",
              "    <tr>\n",
              "      <th rowspan=\"2\" valign=\"top\">(17.333, 34.667]</th>\n",
              "      <th>(57.989, 63.5]</th>\n",
              "      <td>0.061728</td>\n",
              "      <td>0.022222</td>\n",
              "    </tr>\n",
              "    <tr>\n",
              "      <th>(63.5, 69.0]</th>\n",
              "      <td>0.049383</td>\n",
              "      <td>0.013333</td>\n",
              "    </tr>\n",
              "    <tr>\n",
              "      <th rowspan=\"2\" valign=\"top\">(34.667, 52.0]</th>\n",
              "      <th>(57.989, 63.5]</th>\n",
              "      <td>0.024691</td>\n",
              "      <td>0.000000</td>\n",
              "    </tr>\n",
              "    <tr>\n",
              "      <th>(63.5, 69.0]</th>\n",
              "      <td>0.000000</td>\n",
              "      <td>0.004444</td>\n",
              "    </tr>\n",
              "  </tbody>\n",
              "</table>\n",
              "</div>"
            ],
            "text/plain": [
              "Survival_status                                                           0         1\n",
              "Number_positive_axillary_nodes_detected Patient_year_of_operation                    \n",
              "(-0.052, 17.333]                        (57.989, 63.5]             0.444444  0.542222\n",
              "                                        (63.5, 69.0]               0.419753  0.417778\n",
              "(17.333, 34.667]                        (57.989, 63.5]             0.061728  0.022222\n",
              "                                        (63.5, 69.0]               0.049383  0.013333\n",
              "(34.667, 52.0]                          (57.989, 63.5]             0.024691  0.000000\n",
              "                                        (63.5, 69.0]               0.000000  0.004444"
            ]
          },
          "metadata": {
            "tags": []
          },
          "execution_count": 27
        }
      ]
    },
    {
      "cell_type": "code",
      "metadata": {
        "id": "XgKzsJh2S-wf",
        "colab_type": "code",
        "colab": {
          "base_uri": "https://localhost:8080/",
          "height": 171
        },
        "outputId": "b316d94c-bbce-4ed4-d4f1-f7b84dbd3a75"
      },
      "source": [
        "crosstab = pd.crosstab(nodes_detected_bins,operation_year_bins)\n",
        "crosstab"
      ],
      "execution_count": 28,
      "outputs": [
        {
          "output_type": "execute_result",
          "data": {
            "text/html": [
              "<div>\n",
              "<style scoped>\n",
              "    .dataframe tbody tr th:only-of-type {\n",
              "        vertical-align: middle;\n",
              "    }\n",
              "\n",
              "    .dataframe tbody tr th {\n",
              "        vertical-align: top;\n",
              "    }\n",
              "\n",
              "    .dataframe thead th {\n",
              "        text-align: right;\n",
              "    }\n",
              "</style>\n",
              "<table border=\"1\" class=\"dataframe\">\n",
              "  <thead>\n",
              "    <tr style=\"text-align: right;\">\n",
              "      <th>Patient_year_of_operation</th>\n",
              "      <th>(57.989, 63.5]</th>\n",
              "      <th>(63.5, 69.0]</th>\n",
              "    </tr>\n",
              "    <tr>\n",
              "      <th>Number_positive_axillary_nodes_detected</th>\n",
              "      <th></th>\n",
              "      <th></th>\n",
              "    </tr>\n",
              "  </thead>\n",
              "  <tbody>\n",
              "    <tr>\n",
              "      <th>(-0.052, 17.333]</th>\n",
              "      <td>158</td>\n",
              "      <td>128</td>\n",
              "    </tr>\n",
              "    <tr>\n",
              "      <th>(17.333, 34.667]</th>\n",
              "      <td>10</td>\n",
              "      <td>7</td>\n",
              "    </tr>\n",
              "    <tr>\n",
              "      <th>(34.667, 52.0]</th>\n",
              "      <td>2</td>\n",
              "      <td>1</td>\n",
              "    </tr>\n",
              "  </tbody>\n",
              "</table>\n",
              "</div>"
            ],
            "text/plain": [
              "Patient_year_of_operation                (57.989, 63.5]  (63.5, 69.0]\n",
              "Number_positive_axillary_nodes_detected                              \n",
              "(-0.052, 17.333]                                    158           128\n",
              "(17.333, 34.667]                                     10             7\n",
              "(34.667, 52.0]                                        2             1"
            ]
          },
          "metadata": {
            "tags": []
          },
          "execution_count": 28
        }
      ]
    },
    {
      "cell_type": "code",
      "metadata": {
        "id": "wj-JhT7uTF2b",
        "colab_type": "code",
        "colab": {
          "base_uri": "https://localhost:8080/",
          "height": 171
        },
        "outputId": "6ba4342a-2b65-4560-d808-d910d846db60"
      },
      "source": [
        "crosstab = pd.crosstab(age_bins, nodes_detected_bins)\n",
        "crosstab"
      ],
      "execution_count": 29,
      "outputs": [
        {
          "output_type": "execute_result",
          "data": {
            "text/html": [
              "<div>\n",
              "<style scoped>\n",
              "    .dataframe tbody tr th:only-of-type {\n",
              "        vertical-align: middle;\n",
              "    }\n",
              "\n",
              "    .dataframe tbody tr th {\n",
              "        vertical-align: top;\n",
              "    }\n",
              "\n",
              "    .dataframe thead th {\n",
              "        text-align: right;\n",
              "    }\n",
              "</style>\n",
              "<table border=\"1\" class=\"dataframe\">\n",
              "  <thead>\n",
              "    <tr style=\"text-align: right;\">\n",
              "      <th>Number_positive_axillary_nodes_detected</th>\n",
              "      <th>(-0.052, 17.333]</th>\n",
              "      <th>(17.333, 34.667]</th>\n",
              "      <th>(34.667, 52.0]</th>\n",
              "    </tr>\n",
              "    <tr>\n",
              "      <th>Age_of_patient_time_of_operation</th>\n",
              "      <th></th>\n",
              "      <th></th>\n",
              "      <th></th>\n",
              "    </tr>\n",
              "  </thead>\n",
              "  <tbody>\n",
              "    <tr>\n",
              "      <th>(29.947, 47.667]</th>\n",
              "      <td>99</td>\n",
              "      <td>7</td>\n",
              "      <td>1</td>\n",
              "    </tr>\n",
              "    <tr>\n",
              "      <th>(47.667, 65.333]</th>\n",
              "      <td>149</td>\n",
              "      <td>10</td>\n",
              "      <td>2</td>\n",
              "    </tr>\n",
              "    <tr>\n",
              "      <th>(65.333, 83.0]</th>\n",
              "      <td>38</td>\n",
              "      <td>0</td>\n",
              "      <td>0</td>\n",
              "    </tr>\n",
              "  </tbody>\n",
              "</table>\n",
              "</div>"
            ],
            "text/plain": [
              "Number_positive_axillary_nodes_detected  (-0.052, 17.333]       ...        (34.667, 52.0]\n",
              "Age_of_patient_time_of_operation                                ...                      \n",
              "(29.947, 47.667]                                       99       ...                     1\n",
              "(47.667, 65.333]                                      149       ...                     2\n",
              "(65.333, 83.0]                                         38       ...                     0\n",
              "\n",
              "[3 rows x 3 columns]"
            ]
          },
          "metadata": {
            "tags": []
          },
          "execution_count": 29
        }
      ]
    },
    {
      "cell_type": "code",
      "metadata": {
        "id": "jcM4wtXMTRHy",
        "colab_type": "code",
        "colab": {
          "base_uri": "https://localhost:8080/",
          "height": 294
        },
        "outputId": "76c22a36-2132-4c52-cc91-6550b12a5a65"
      },
      "source": [
        "crosstab_new = pd.crosstab([nodes_detected_bins,age_bins], df['Survival_status'], normalize='columns')\n",
        "crosstab_new"
      ],
      "execution_count": 31,
      "outputs": [
        {
          "output_type": "execute_result",
          "data": {
            "text/html": [
              "<div>\n",
              "<style scoped>\n",
              "    .dataframe tbody tr th:only-of-type {\n",
              "        vertical-align: middle;\n",
              "    }\n",
              "\n",
              "    .dataframe tbody tr th {\n",
              "        vertical-align: top;\n",
              "    }\n",
              "\n",
              "    .dataframe thead th {\n",
              "        text-align: right;\n",
              "    }\n",
              "</style>\n",
              "<table border=\"1\" class=\"dataframe\">\n",
              "  <thead>\n",
              "    <tr style=\"text-align: right;\">\n",
              "      <th></th>\n",
              "      <th>Survival_status</th>\n",
              "      <th>0</th>\n",
              "      <th>1</th>\n",
              "    </tr>\n",
              "    <tr>\n",
              "      <th>Number_positive_axillary_nodes_detected</th>\n",
              "      <th>Age_of_patient_time_of_operation</th>\n",
              "      <th></th>\n",
              "      <th></th>\n",
              "    </tr>\n",
              "  </thead>\n",
              "  <tbody>\n",
              "    <tr>\n",
              "      <th rowspan=\"3\" valign=\"top\">(-0.052, 17.333]</th>\n",
              "      <th>(29.947, 47.667]</th>\n",
              "      <td>0.246914</td>\n",
              "      <td>0.351111</td>\n",
              "    </tr>\n",
              "    <tr>\n",
              "      <th>(47.667, 65.333]</th>\n",
              "      <td>0.481481</td>\n",
              "      <td>0.488889</td>\n",
              "    </tr>\n",
              "    <tr>\n",
              "      <th>(65.333, 83.0]</th>\n",
              "      <td>0.135802</td>\n",
              "      <td>0.120000</td>\n",
              "    </tr>\n",
              "    <tr>\n",
              "      <th rowspan=\"2\" valign=\"top\">(17.333, 34.667]</th>\n",
              "      <th>(29.947, 47.667]</th>\n",
              "      <td>0.061728</td>\n",
              "      <td>0.008889</td>\n",
              "    </tr>\n",
              "    <tr>\n",
              "      <th>(47.667, 65.333]</th>\n",
              "      <td>0.049383</td>\n",
              "      <td>0.026667</td>\n",
              "    </tr>\n",
              "    <tr>\n",
              "      <th rowspan=\"2\" valign=\"top\">(34.667, 52.0]</th>\n",
              "      <th>(29.947, 47.667]</th>\n",
              "      <td>0.012346</td>\n",
              "      <td>0.000000</td>\n",
              "    </tr>\n",
              "    <tr>\n",
              "      <th>(47.667, 65.333]</th>\n",
              "      <td>0.012346</td>\n",
              "      <td>0.004444</td>\n",
              "    </tr>\n",
              "  </tbody>\n",
              "</table>\n",
              "</div>"
            ],
            "text/plain": [
              "Survival_status                                                                  0         1\n",
              "Number_positive_axillary_nodes_detected Age_of_patient_time_of_operation                    \n",
              "(-0.052, 17.333]                        (29.947, 47.667]                  0.246914  0.351111\n",
              "                                        (47.667, 65.333]                  0.481481  0.488889\n",
              "                                        (65.333, 83.0]                    0.135802  0.120000\n",
              "(17.333, 34.667]                        (29.947, 47.667]                  0.061728  0.008889\n",
              "                                        (47.667, 65.333]                  0.049383  0.026667\n",
              "(34.667, 52.0]                          (29.947, 47.667]                  0.012346  0.000000\n",
              "                                        (47.667, 65.333]                  0.012346  0.004444"
            ]
          },
          "metadata": {
            "tags": []
          },
          "execution_count": 31
        }
      ]
    },
    {
      "cell_type": "code",
      "metadata": {
        "id": "UD9chU1yTlTk",
        "colab_type": "code",
        "colab": {
          "base_uri": "https://localhost:8080/",
          "height": 415
        },
        "outputId": "60b3925a-c375-407f-a54b-22cf9e31a855"
      },
      "source": [
        "crosstab_new.plot(kind='barh');"
      ],
      "execution_count": 32,
      "outputs": [
        {
          "output_type": "display_data",
          "data": {
            "image/png": "[encoded data removed]",
            "text/plain": [
              "<Figure size 432x288 with 1 Axes>"
            ]
          },
          "metadata": {
            "tags": []
          }
        }
      ]
    },
    {
      "cell_type": "code",
      "metadata": {
        "id": "EQ0yfoUQTx4T",
        "colab_type": "code",
        "colab": {
          "base_uri": "https://localhost:8080/",
          "height": 275
        },
        "outputId": "bb6ed14c-7d49-439a-ee6a-2790fa8afac9"
      },
      "source": [
        "crosstab_new.plot();"
      ],
      "execution_count": 33,
      "outputs": [
        {
          "output_type": "display_data",
          "data": {
            "image/png": "[encoded data removed]",
            "text/plain": [
              "<Figure size 432x288 with 1 Axes>"
            ]
          },
          "metadata": {
            "tags": []
          }
        }
      ]
    },
    {
      "cell_type": "code",
      "metadata": {
        "id": "sh_8dyLwT4wK",
        "colab_type": "code",
        "colab": {
          "base_uri": "https://localhost:8080/",
          "height": 455
        },
        "outputId": "a429b88e-5a8d-4aa1-d44b-01d345d62f88"
      },
      "source": [
        "crosstab_new.plot(kind='bar', stacked=True, );"
      ],
      "execution_count": 34,
      "outputs": [
        {
          "output_type": "display_data",
          "data": {
            "image/png": "[encoded data removed]",
            "text/plain": [
              "<Figure size 432x288 with 1 Axes>"
            ]
          },
          "metadata": {
            "tags": []
          }
        }
      ]
    },
    {
      "cell_type": "code",
      "metadata": {
        "id": "94-9_N9pUMNE",
        "colab_type": "code",
        "colab": {
          "base_uri": "https://localhost:8080/",
          "height": 269
        },
        "outputId": "15ccdcd8-c996-4db4-db42-5af55798aa01"
      },
      "source": [
        "import matplotlib.pyplot as plt\n",
        "histogram_age=plt.hist(df.Age_of_patient_time_of_operation)"
      ],
      "execution_count": 36,
      "outputs": [
        {
          "output_type": "display_data",
          "data": {
            "image/png": "[encoded data removed]",
            "text/plain": [
              "<Figure size 432x288 with 1 Axes>"
            ]
          },
          "metadata": {
            "tags": []
          }
        }
      ]
    },
    {
      "cell_type": "code",
      "metadata": {
        "id": "edkf4yIXnB3t",
        "colab_type": "code",
        "colab": {
          "base_uri": "https://localhost:8080/",
          "height": 269
        },
        "outputId": "133d80f4-c431-4f1c-c62e-0e4d274d04c8"
      },
      "source": [
        "histogram_year=plt.hist(df.Patient_year_of_operation)"
      ],
      "execution_count": 90,
      "outputs": [
        {
          "output_type": "display_data",
          "data": {
            "image/png": "[encoded data removed]",
            "text/plain": [
              "<Figure size 432x288 with 1 Axes>"
            ]
          },
          "metadata": {
            "tags": []
          }
        }
      ]
    },
    {
      "cell_type": "code",
      "metadata": {
        "id": "HfATpKN_nSE3",
        "colab_type": "code",
        "colab": {
          "base_uri": "https://localhost:8080/",
          "height": 269
        },
        "outputId": "01bce494-4cc5-4ad0-eceb-97a70cd653d2"
      },
      "source": [
        "histogram_nodes=plt.hist(df.Number_positive_axillary_nodes_detected)"
      ],
      "execution_count": 91,
      "outputs": [
        {
          "output_type": "display_data",
          "data": {
            "image/png": "[encoded data removed]",
            "text/plain": [
              "<Figure size 432x288 with 1 Axes>"
            ]
          },
          "metadata": {
            "tags": []
          }
        }
      ]
    },
    {
      "cell_type": "code",
      "metadata": {
        "id": "pi3nIvGxWZLH",
        "colab_type": "code",
        "colab": {
          "base_uri": "https://localhost:8080/",
          "height": 269
        },
        "outputId": "4764b000-3692-4249-a90e-9218607d51e9"
      },
      "source": [
        "df['Survival_status'].plot.density();"
      ],
      "execution_count": 38,
      "outputs": [
        {
          "output_type": "display_data",
          "data": {
            "image/png": "[encoded data removed]",
            "text/plain": [
              "<Figure size 432x288 with 1 Axes>"
            ]
          },
          "metadata": {
            "tags": []
          }
        }
      ]
    },
    {
      "cell_type": "code",
      "metadata": {
        "id": "v_z793wjWmDt",
        "colab_type": "code",
        "colab": {
          "base_uri": "https://localhost:8080/",
          "height": 285
        },
        "outputId": "6adecc96-5b53-468a-c398-06608257d650"
      },
      "source": [
        "df.plot.scatter('Number_positive_axillary_nodes_detected','Age_of_patient_time_of_operation' );"
      ],
      "execution_count": 40,
      "outputs": [
        {
          "output_type": "display_data",
          "data": {
            "image/png": "[encoded data removed]",
            "text/plain": [
              "<Figure size 432x288 with 1 Axes>"
            ]
          },
          "metadata": {
            "tags": []
          }
        }
      ]
    },
    {
      "cell_type": "code",
      "metadata": {
        "id": "uIIArVx0udlt",
        "colab_type": "code",
        "colab": {}
      },
      "source": [
        "# smaller bins for detected nodes and patient year of operation as per differences of numbers in each histogram\n",
        "nodes_detected_bins2 = pd.cut(df['Number_positive_axillary_nodes_detected'], 25)\n",
        "operation_year_bins2 = pd.cut(df['Patient_year_of_operation'], 5)\n",
        "age_bins2 = pd.cut(df['Age_of_patient_time_of_operation'], 10)"
      ],
      "execution_count": 0,
      "outputs": []
    },
    {
      "cell_type": "code",
      "metadata": {
        "id": "ONZ45FrCUt19",
        "colab_type": "code",
        "colab": {}
      },
      "source": [
        "# generally by the data:\n",
        "# the age of the patient on the time of operation and the nodes detected after will affect directly the survival status\n",
        "# the year of operation does not seem as relevant for this data\n",
        "# though you can tell that people who had operation later has a relatively better survival rate but, it is not substantial\n",
        "# younger people has more probability of survival status\n",
        "# detection of nodes affects dramatically the survival status\n",
        "# patients with more than 34 positive axillary nodes detected don't seem to survive at all when they are older than 65\n",
        "# older patients might die even before they reached the 34 positive axillary nodes \n",
        "# more patients were operated around 58\n",
        "# not many patients have more than 5 nodes, but maybe they die as soon as they start getting more than that."
      ],
      "execution_count": 0,
      "outputs": []
    },
    {
      "cell_type": "markdown",
      "metadata": {
        "id": "sDXMio-yiWPT",
        "colab_type": "text"
      },
      "source": [
        "## Part 3 - DataFrame Filtering\n",
        "\n",
        "Use DataFrame filtering to subset the data into two smaller dataframes. You should make one dataframe for individuals who survived >5 years and a second dataframe for individuals who did not. \n",
        "\n",
        "Create a graph with each of the dataframes (can be the same graph type) to show the differences in Age and Number of Positive Axillary Nodes Detected between the two groups."
      ]
    },
    {
      "cell_type": "code",
      "metadata": {
        "id": "rLjGyJfGiedx",
        "colab_type": "code",
        "colab": {
          "base_uri": "https://localhost:8080/",
          "height": 355
        },
        "outputId": "9bd48d54-2e35-4d43-aa2d-92c24f4061aa"
      },
      "source": [
        "# patients who survived 5 years or longer\n",
        "\n",
        "df_survival_5_or_more_years = df[df['Survival_status'] > 0]\n",
        "df_survival_5_or_more_years.head(10)"
      ],
      "execution_count": 77,
      "outputs": [
        {
          "output_type": "execute_result",
          "data": {
            "text/html": [
              "<div>\n",
              "<style scoped>\n",
              "    .dataframe tbody tr th:only-of-type {\n",
              "        vertical-align: middle;\n",
              "    }\n",
              "\n",
              "    .dataframe tbody tr th {\n",
              "        vertical-align: top;\n",
              "    }\n",
              "\n",
              "    .dataframe thead th {\n",
              "        text-align: right;\n",
              "    }\n",
              "</style>\n",
              "<table border=\"1\" class=\"dataframe\">\n",
              "  <thead>\n",
              "    <tr style=\"text-align: right;\">\n",
              "      <th></th>\n",
              "      <th>Age_of_patient_time_of_operation</th>\n",
              "      <th>Patient_year_of_operation</th>\n",
              "      <th>Number_positive_axillary_nodes_detected</th>\n",
              "      <th>Survival_status</th>\n",
              "    </tr>\n",
              "  </thead>\n",
              "  <tbody>\n",
              "    <tr>\n",
              "      <th>0</th>\n",
              "      <td>30</td>\n",
              "      <td>64</td>\n",
              "      <td>1</td>\n",
              "      <td>1</td>\n",
              "    </tr>\n",
              "    <tr>\n",
              "      <th>1</th>\n",
              "      <td>30</td>\n",
              "      <td>62</td>\n",
              "      <td>3</td>\n",
              "      <td>1</td>\n",
              "    </tr>\n",
              "    <tr>\n",
              "      <th>2</th>\n",
              "      <td>30</td>\n",
              "      <td>65</td>\n",
              "      <td>0</td>\n",
              "      <td>1</td>\n",
              "    </tr>\n",
              "    <tr>\n",
              "      <th>3</th>\n",
              "      <td>31</td>\n",
              "      <td>59</td>\n",
              "      <td>2</td>\n",
              "      <td>1</td>\n",
              "    </tr>\n",
              "    <tr>\n",
              "      <th>4</th>\n",
              "      <td>31</td>\n",
              "      <td>65</td>\n",
              "      <td>4</td>\n",
              "      <td>1</td>\n",
              "    </tr>\n",
              "    <tr>\n",
              "      <th>5</th>\n",
              "      <td>33</td>\n",
              "      <td>58</td>\n",
              "      <td>10</td>\n",
              "      <td>1</td>\n",
              "    </tr>\n",
              "    <tr>\n",
              "      <th>6</th>\n",
              "      <td>33</td>\n",
              "      <td>60</td>\n",
              "      <td>0</td>\n",
              "      <td>1</td>\n",
              "    </tr>\n",
              "    <tr>\n",
              "      <th>9</th>\n",
              "      <td>34</td>\n",
              "      <td>58</td>\n",
              "      <td>30</td>\n",
              "      <td>1</td>\n",
              "    </tr>\n",
              "    <tr>\n",
              "      <th>10</th>\n",
              "      <td>34</td>\n",
              "      <td>60</td>\n",
              "      <td>1</td>\n",
              "      <td>1</td>\n",
              "    </tr>\n",
              "    <tr>\n",
              "      <th>11</th>\n",
              "      <td>34</td>\n",
              "      <td>61</td>\n",
              "      <td>10</td>\n",
              "      <td>1</td>\n",
              "    </tr>\n",
              "  </tbody>\n",
              "</table>\n",
              "</div>"
            ],
            "text/plain": [
              "    Age_of_patient_time_of_operation       ...         Survival_status\n",
              "0                                 30       ...                       1\n",
              "1                                 30       ...                       1\n",
              "2                                 30       ...                       1\n",
              "3                                 31       ...                       1\n",
              "4                                 31       ...                       1\n",
              "5                                 33       ...                       1\n",
              "6                                 33       ...                       1\n",
              "9                                 34       ...                       1\n",
              "10                                34       ...                       1\n",
              "11                                34       ...                       1\n",
              "\n",
              "[10 rows x 4 columns]"
            ]
          },
          "metadata": {
            "tags": []
          },
          "execution_count": 77
        }
      ]
    },
    {
      "cell_type": "code",
      "metadata": {
        "id": "Mru-5rb_dlxg",
        "colab_type": "code",
        "colab": {
          "base_uri": "https://localhost:8080/",
          "height": 35
        },
        "outputId": "23433e1f-cb92-40c5-b9ac-0fe8358d4fc0"
      },
      "source": [
        "print(df_survival_5_or_more_years.shape)"
      ],
      "execution_count": 78,
      "outputs": [
        {
          "output_type": "stream",
          "text": [
            "(225, 4)\n"
          ],
          "name": "stdout"
        }
      ]
    },
    {
      "cell_type": "code",
      "metadata": {
        "id": "85M8XwSYVtX0",
        "colab_type": "code",
        "colab": {
          "base_uri": "https://localhost:8080/",
          "height": 355
        },
        "outputId": "7d2b16b6-6b61-457f-f928-fcb8651e3d86"
      },
      "source": [
        "# individuals who die within the first 5 years\n",
        "\n",
        "df_died_within_5_years = df[df['Survival_status'] <= 0]\n",
        "\n",
        "df_died_within_5_years.head(10)"
      ],
      "execution_count": 82,
      "outputs": [
        {
          "output_type": "execute_result",
          "data": {
            "text/html": [
              "<div>\n",
              "<style scoped>\n",
              "    .dataframe tbody tr th:only-of-type {\n",
              "        vertical-align: middle;\n",
              "    }\n",
              "\n",
              "    .dataframe tbody tr th {\n",
              "        vertical-align: top;\n",
              "    }\n",
              "\n",
              "    .dataframe thead th {\n",
              "        text-align: right;\n",
              "    }\n",
              "</style>\n",
              "<table border=\"1\" class=\"dataframe\">\n",
              "  <thead>\n",
              "    <tr style=\"text-align: right;\">\n",
              "      <th></th>\n",
              "      <th>Age_of_patient_time_of_operation</th>\n",
              "      <th>Patient_year_of_operation</th>\n",
              "      <th>Number_positive_axillary_nodes_detected</th>\n",
              "      <th>Survival_status</th>\n",
              "    </tr>\n",
              "  </thead>\n",
              "  <tbody>\n",
              "    <tr>\n",
              "      <th>7</th>\n",
              "      <td>34</td>\n",
              "      <td>59</td>\n",
              "      <td>0</td>\n",
              "      <td>0</td>\n",
              "    </tr>\n",
              "    <tr>\n",
              "      <th>8</th>\n",
              "      <td>34</td>\n",
              "      <td>66</td>\n",
              "      <td>9</td>\n",
              "      <td>0</td>\n",
              "    </tr>\n",
              "    <tr>\n",
              "      <th>24</th>\n",
              "      <td>38</td>\n",
              "      <td>69</td>\n",
              "      <td>21</td>\n",
              "      <td>0</td>\n",
              "    </tr>\n",
              "    <tr>\n",
              "      <th>34</th>\n",
              "      <td>39</td>\n",
              "      <td>66</td>\n",
              "      <td>0</td>\n",
              "      <td>0</td>\n",
              "    </tr>\n",
              "    <tr>\n",
              "      <th>43</th>\n",
              "      <td>41</td>\n",
              "      <td>60</td>\n",
              "      <td>23</td>\n",
              "      <td>0</td>\n",
              "    </tr>\n",
              "    <tr>\n",
              "      <th>44</th>\n",
              "      <td>41</td>\n",
              "      <td>64</td>\n",
              "      <td>0</td>\n",
              "      <td>0</td>\n",
              "    </tr>\n",
              "    <tr>\n",
              "      <th>45</th>\n",
              "      <td>41</td>\n",
              "      <td>67</td>\n",
              "      <td>0</td>\n",
              "      <td>0</td>\n",
              "    </tr>\n",
              "    <tr>\n",
              "      <th>53</th>\n",
              "      <td>42</td>\n",
              "      <td>69</td>\n",
              "      <td>1</td>\n",
              "      <td>0</td>\n",
              "    </tr>\n",
              "    <tr>\n",
              "      <th>54</th>\n",
              "      <td>42</td>\n",
              "      <td>59</td>\n",
              "      <td>0</td>\n",
              "      <td>0</td>\n",
              "    </tr>\n",
              "    <tr>\n",
              "      <th>62</th>\n",
              "      <td>43</td>\n",
              "      <td>58</td>\n",
              "      <td>52</td>\n",
              "      <td>0</td>\n",
              "    </tr>\n",
              "  </tbody>\n",
              "</table>\n",
              "</div>"
            ],
            "text/plain": [
              "    Age_of_patient_time_of_operation       ...         Survival_status\n",
              "7                                 34       ...                       0\n",
              "8                                 34       ...                       0\n",
              "24                                38       ...                       0\n",
              "34                                39       ...                       0\n",
              "43                                41       ...                       0\n",
              "44                                41       ...                       0\n",
              "45                                41       ...                       0\n",
              "53                                42       ...                       0\n",
              "54                                42       ...                       0\n",
              "62                                43       ...                       0\n",
              "\n",
              "[10 rows x 4 columns]"
            ]
          },
          "metadata": {
            "tags": []
          },
          "execution_count": 82
        }
      ]
    },
    {
      "cell_type": "code",
      "metadata": {
        "id": "ypMjfHHXfcV8",
        "colab_type": "code",
        "colab": {
          "base_uri": "https://localhost:8080/",
          "height": 35
        },
        "outputId": "c9208cf1-5a36-4513-fc14-04c7876a09ce"
      },
      "source": [
        "print(df_died_within_5_years.shape)"
      ],
      "execution_count": 83,
      "outputs": [
        {
          "output_type": "stream",
          "text": [
            "(81, 4)\n"
          ],
          "name": "stdout"
        }
      ]
    },
    {
      "cell_type": "code",
      "metadata": {
        "id": "Cb6sJ52avgFX",
        "colab_type": "code",
        "colab": {}
      },
      "source": [
        "# smaller bins for detected nodes and patient year of operation as per differences of numbers in each histogram\n",
        "nodes_detected_bins3 = pd.cut(df_survival_5_or_more_years['Number_positive_axillary_nodes_detected'], 25)\n",
        "operation_year_bins3 = pd.cut(df_survival_5_or_more_years['Patient_year_of_operation'], 5)\n",
        "age_bins3 = pd.cut(df_survival_5_or_more_years['Age_of_patient_time_of_operation'], 10)"
      ],
      "execution_count": 0,
      "outputs": []
    },
    {
      "cell_type": "code",
      "metadata": {
        "id": "vaEal4TprhdO",
        "colab_type": "code",
        "colab": {}
      },
      "source": [
        "# smaller bins for detected nodes and patient year of operation as per differences of numbers in each histogram\n",
        "nodes_detected_bins4 = pd.cut(df_died_within_5_years['Number_positive_axillary_nodes_detected'], 25)\n",
        "operation_year_bins4 = pd.cut(df_died_within_5_years['Patient_year_of_operation'], 5)\n",
        "age_bins4 = pd.cut(df_died_within_5_years['Age_of_patient_time_of_operation'], 10)"
      ],
      "execution_count": 0,
      "outputs": []
    },
    {
      "cell_type": "code",
      "metadata": {
        "id": "3Xm6KSxQgKAk",
        "colab_type": "code",
        "colab": {
          "base_uri": "https://localhost:8080/",
          "height": 285
        },
        "outputId": "bf40aaf8-c2a9-4a68-eae1-59b6ad95b032"
      },
      "source": [
        "df_survival_5_or_more_years.plot.scatter('Age_of_patient_time_of_operation', 'Number_positive_axillary_nodes_detected');"
      ],
      "execution_count": 84,
      "outputs": [
        {
          "output_type": "display_data",
          "data": {
            "image/png": "[encoded data removed]",
            "text/plain": [
              "<Figure size 432x288 with 1 Axes>"
            ]
          },
          "metadata": {
            "tags": []
          }
        }
      ]
    },
    {
      "cell_type": "code",
      "metadata": {
        "id": "YJSYA_ybtmnv",
        "colab_type": "code",
        "colab": {
          "base_uri": "https://localhost:8080/",
          "height": 423
        },
        "outputId": "4be31597-f24b-48bb-ad47-eed7d1bd8e0d"
      },
      "source": [
        "crosstab_1 = pd.crosstab(age_bins2, nodes_detected_bins2)\n",
        "crosstab_1"
      ],
      "execution_count": 104,
      "outputs": [
        {
          "output_type": "execute_result",
          "data": {
            "text/html": [
              "<div>\n",
              "<style scoped>\n",
              "    .dataframe tbody tr th:only-of-type {\n",
              "        vertical-align: middle;\n",
              "    }\n",
              "\n",
              "    .dataframe tbody tr th {\n",
              "        vertical-align: top;\n",
              "    }\n",
              "\n",
              "    .dataframe thead th {\n",
              "        text-align: right;\n",
              "    }\n",
              "</style>\n",
              "<table border=\"1\" class=\"dataframe\">\n",
              "  <thead>\n",
              "    <tr style=\"text-align: right;\">\n",
              "      <th>Number_positive_axillary_nodes_detected</th>\n",
              "      <th>(-0.052, 2.08]</th>\n",
              "      <th>(2.08, 4.16]</th>\n",
              "      <th>(4.16, 6.24]</th>\n",
              "      <th>(6.24, 8.32]</th>\n",
              "      <th>(8.32, 10.4]</th>\n",
              "      <th>(10.4, 12.48]</th>\n",
              "      <th>(12.48, 14.56]</th>\n",
              "      <th>(14.56, 16.64]</th>\n",
              "      <th>(16.64, 18.72]</th>\n",
              "      <th>(18.72, 20.8]</th>\n",
              "      <th>(20.8, 22.88]</th>\n",
              "      <th>(22.88, 24.96]</th>\n",
              "      <th>(24.96, 27.04]</th>\n",
              "      <th>(27.04, 29.12]</th>\n",
              "      <th>(29.12, 31.2]</th>\n",
              "      <th>(33.28, 35.36]</th>\n",
              "      <th>(45.76, 47.84]</th>\n",
              "      <th>(49.92, 52.0]</th>\n",
              "    </tr>\n",
              "    <tr>\n",
              "      <th>Age_of_patient_time_of_operation</th>\n",
              "      <th></th>\n",
              "      <th></th>\n",
              "      <th></th>\n",
              "      <th></th>\n",
              "      <th></th>\n",
              "      <th></th>\n",
              "      <th></th>\n",
              "      <th></th>\n",
              "      <th></th>\n",
              "      <th></th>\n",
              "      <th></th>\n",
              "      <th></th>\n",
              "      <th></th>\n",
              "      <th></th>\n",
              "      <th></th>\n",
              "      <th></th>\n",
              "      <th></th>\n",
              "      <th></th>\n",
              "    </tr>\n",
              "  </thead>\n",
              "  <tbody>\n",
              "    <tr>\n",
              "      <th>(29.947, 35.3]</th>\n",
              "      <td>8</td>\n",
              "      <td>2</td>\n",
              "      <td>0</td>\n",
              "      <td>1</td>\n",
              "      <td>3</td>\n",
              "      <td>0</td>\n",
              "      <td>1</td>\n",
              "      <td>0</td>\n",
              "      <td>0</td>\n",
              "      <td>0</td>\n",
              "      <td>0</td>\n",
              "      <td>0</td>\n",
              "      <td>0</td>\n",
              "      <td>0</td>\n",
              "      <td>1</td>\n",
              "      <td>0</td>\n",
              "      <td>0</td>\n",
              "      <td>0</td>\n",
              "    </tr>\n",
              "    <tr>\n",
              "      <th>(35.3, 40.6]</th>\n",
              "      <td>20</td>\n",
              "      <td>2</td>\n",
              "      <td>2</td>\n",
              "      <td>0</td>\n",
              "      <td>0</td>\n",
              "      <td>1</td>\n",
              "      <td>0</td>\n",
              "      <td>1</td>\n",
              "      <td>0</td>\n",
              "      <td>0</td>\n",
              "      <td>1</td>\n",
              "      <td>0</td>\n",
              "      <td>0</td>\n",
              "      <td>0</td>\n",
              "      <td>0</td>\n",
              "      <td>0</td>\n",
              "      <td>0</td>\n",
              "      <td>0</td>\n",
              "    </tr>\n",
              "    <tr>\n",
              "      <th>(40.6, 45.9]</th>\n",
              "      <td>31</td>\n",
              "      <td>3</td>\n",
              "      <td>2</td>\n",
              "      <td>2</td>\n",
              "      <td>1</td>\n",
              "      <td>0</td>\n",
              "      <td>2</td>\n",
              "      <td>1</td>\n",
              "      <td>0</td>\n",
              "      <td>2</td>\n",
              "      <td>0</td>\n",
              "      <td>1</td>\n",
              "      <td>0</td>\n",
              "      <td>0</td>\n",
              "      <td>0</td>\n",
              "      <td>0</td>\n",
              "      <td>0</td>\n",
              "      <td>1</td>\n",
              "    </tr>\n",
              "    <tr>\n",
              "      <th>(45.9, 51.2]</th>\n",
              "      <td>31</td>\n",
              "      <td>8</td>\n",
              "      <td>3</td>\n",
              "      <td>3</td>\n",
              "      <td>1</td>\n",
              "      <td>3</td>\n",
              "      <td>2</td>\n",
              "      <td>0</td>\n",
              "      <td>0</td>\n",
              "      <td>1</td>\n",
              "      <td>0</td>\n",
              "      <td>1</td>\n",
              "      <td>0</td>\n",
              "      <td>0</td>\n",
              "      <td>0</td>\n",
              "      <td>0</td>\n",
              "      <td>0</td>\n",
              "      <td>0</td>\n",
              "    </tr>\n",
              "    <tr>\n",
              "      <th>(51.2, 56.5]</th>\n",
              "      <td>28</td>\n",
              "      <td>10</td>\n",
              "      <td>3</td>\n",
              "      <td>3</td>\n",
              "      <td>2</td>\n",
              "      <td>2</td>\n",
              "      <td>0</td>\n",
              "      <td>1</td>\n",
              "      <td>1</td>\n",
              "      <td>1</td>\n",
              "      <td>1</td>\n",
              "      <td>2</td>\n",
              "      <td>0</td>\n",
              "      <td>0</td>\n",
              "      <td>0</td>\n",
              "      <td>0</td>\n",
              "      <td>1</td>\n",
              "      <td>0</td>\n",
              "    </tr>\n",
              "    <tr>\n",
              "      <th>(56.5, 61.8]</th>\n",
              "      <td>28</td>\n",
              "      <td>4</td>\n",
              "      <td>2</td>\n",
              "      <td>2</td>\n",
              "      <td>1</td>\n",
              "      <td>0</td>\n",
              "      <td>1</td>\n",
              "      <td>0</td>\n",
              "      <td>1</td>\n",
              "      <td>0</td>\n",
              "      <td>0</td>\n",
              "      <td>0</td>\n",
              "      <td>1</td>\n",
              "      <td>0</td>\n",
              "      <td>0</td>\n",
              "      <td>1</td>\n",
              "      <td>0</td>\n",
              "      <td>0</td>\n",
              "    </tr>\n",
              "    <tr>\n",
              "      <th>(61.8, 67.1]</th>\n",
              "      <td>31</td>\n",
              "      <td>0</td>\n",
              "      <td>1</td>\n",
              "      <td>1</td>\n",
              "      <td>1</td>\n",
              "      <td>0</td>\n",
              "      <td>2</td>\n",
              "      <td>1</td>\n",
              "      <td>0</td>\n",
              "      <td>1</td>\n",
              "      <td>2</td>\n",
              "      <td>0</td>\n",
              "      <td>0</td>\n",
              "      <td>1</td>\n",
              "      <td>0</td>\n",
              "      <td>0</td>\n",
              "      <td>0</td>\n",
              "      <td>0</td>\n",
              "    </tr>\n",
              "    <tr>\n",
              "      <th>(67.1, 72.4]</th>\n",
              "      <td>13</td>\n",
              "      <td>2</td>\n",
              "      <td>0</td>\n",
              "      <td>2</td>\n",
              "      <td>0</td>\n",
              "      <td>0</td>\n",
              "      <td>1</td>\n",
              "      <td>0</td>\n",
              "      <td>0</td>\n",
              "      <td>0</td>\n",
              "      <td>0</td>\n",
              "      <td>0</td>\n",
              "      <td>0</td>\n",
              "      <td>0</td>\n",
              "      <td>0</td>\n",
              "      <td>0</td>\n",
              "      <td>0</td>\n",
              "      <td>0</td>\n",
              "    </tr>\n",
              "    <tr>\n",
              "      <th>(72.4, 77.7]</th>\n",
              "      <td>5</td>\n",
              "      <td>2</td>\n",
              "      <td>0</td>\n",
              "      <td>0</td>\n",
              "      <td>0</td>\n",
              "      <td>0</td>\n",
              "      <td>0</td>\n",
              "      <td>0</td>\n",
              "      <td>0</td>\n",
              "      <td>0</td>\n",
              "      <td>0</td>\n",
              "      <td>0</td>\n",
              "      <td>0</td>\n",
              "      <td>0</td>\n",
              "      <td>0</td>\n",
              "      <td>0</td>\n",
              "      <td>0</td>\n",
              "      <td>0</td>\n",
              "    </tr>\n",
              "    <tr>\n",
              "      <th>(77.7, 83.0]</th>\n",
              "      <td>2</td>\n",
              "      <td>0</td>\n",
              "      <td>0</td>\n",
              "      <td>0</td>\n",
              "      <td>0</td>\n",
              "      <td>0</td>\n",
              "      <td>0</td>\n",
              "      <td>0</td>\n",
              "      <td>0</td>\n",
              "      <td>0</td>\n",
              "      <td>0</td>\n",
              "      <td>0</td>\n",
              "      <td>0</td>\n",
              "      <td>0</td>\n",
              "      <td>0</td>\n",
              "      <td>0</td>\n",
              "      <td>0</td>\n",
              "      <td>0</td>\n",
              "    </tr>\n",
              "  </tbody>\n",
              "</table>\n",
              "</div>"
            ],
            "text/plain": [
              "Number_positive_axillary_nodes_detected  (-0.052, 2.08]      ...        (49.92, 52.0]\n",
              "Age_of_patient_time_of_operation                             ...                     \n",
              "(29.947, 35.3]                                        8      ...                    0\n",
              "(35.3, 40.6]                                         20      ...                    0\n",
              "(40.6, 45.9]                                         31      ...                    1\n",
              "(45.9, 51.2]                                         31      ...                    0\n",
              "(51.2, 56.5]                                         28      ...                    0\n",
              "(56.5, 61.8]                                         28      ...                    0\n",
              "(61.8, 67.1]                                         31      ...                    0\n",
              "(67.1, 72.4]                                         13      ...                    0\n",
              "(72.4, 77.7]                                          5      ...                    0\n",
              "(77.7, 83.0]                                          2      ...                    0\n",
              "\n",
              "[10 rows x 18 columns]"
            ]
          },
          "metadata": {
            "tags": []
          },
          "execution_count": 104
        }
      ]
    },
    {
      "cell_type": "code",
      "metadata": {
        "id": "vjPEPxHCgmqR",
        "colab_type": "code",
        "colab": {
          "base_uri": "https://localhost:8080/",
          "height": 285
        },
        "outputId": "675ea3da-41b3-4452-9f82-0756aabcc9c0"
      },
      "source": [
        "df_died_within_5_years.plot.scatter('Age_of_patient_time_of_operation', 'Number_positive_axillary_nodes_detected');"
      ],
      "execution_count": 85,
      "outputs": [
        {
          "output_type": "display_data",
          "data": {
            "image/png": "[encoded data removed]",
            "text/plain": [
              "<Figure size 432x288 with 1 Axes>"
            ]
          },
          "metadata": {
            "tags": []
          }
        }
      ]
    },
    {
      "cell_type": "code",
      "metadata": {
        "id": "DUQR1oI4mDH6",
        "colab_type": "code",
        "colab": {
          "base_uri": "https://localhost:8080/",
          "height": 35
        },
        "outputId": "29224ba2-15d9-47c9-93b7-3fff85560e84"
      },
      "source": [
        "df_survival_5_or_more_years.Patient_year_of_operation.mean()"
      ],
      "execution_count": 87,
      "outputs": [
        {
          "output_type": "execute_result",
          "data": {
            "text/plain": [
              "62.86222222222222"
            ]
          },
          "metadata": {
            "tags": []
          },
          "execution_count": 87
        }
      ]
    },
    {
      "cell_type": "code",
      "metadata": {
        "id": "V203ARvVl7BW",
        "colab_type": "code",
        "colab": {
          "base_uri": "https://localhost:8080/",
          "height": 35
        },
        "outputId": "368df0ca-25fd-4624-bb27-38538745e410"
      },
      "source": [
        "df_died_within_5_years.Patient_year_of_operation.mean()"
      ],
      "execution_count": 86,
      "outputs": [
        {
          "output_type": "execute_result",
          "data": {
            "text/plain": [
              "62.82716049382716"
            ]
          },
          "metadata": {
            "tags": []
          },
          "execution_count": 86
        }
      ]
    },
    {
      "cell_type": "code",
      "metadata": {
        "id": "zkPxyuwCmU1t",
        "colab_type": "code",
        "colab": {
          "base_uri": "https://localhost:8080/",
          "height": 294
        },
        "outputId": "ad13d833-7ede-42ba-9dc2-1bff2348ec59"
      },
      "source": [
        "df_survival_5_or_more_years.describe()"
      ],
      "execution_count": 88,
      "outputs": [
        {
          "output_type": "execute_result",
          "data": {
            "text/html": [
              "<div>\n",
              "<style scoped>\n",
              "    .dataframe tbody tr th:only-of-type {\n",
              "        vertical-align: middle;\n",
              "    }\n",
              "\n",
              "    .dataframe tbody tr th {\n",
              "        vertical-align: top;\n",
              "    }\n",
              "\n",
              "    .dataframe thead th {\n",
              "        text-align: right;\n",
              "    }\n",
              "</style>\n",
              "<table border=\"1\" class=\"dataframe\">\n",
              "  <thead>\n",
              "    <tr style=\"text-align: right;\">\n",
              "      <th></th>\n",
              "      <th>Age_of_patient_time_of_operation</th>\n",
              "      <th>Patient_year_of_operation</th>\n",
              "      <th>Number_positive_axillary_nodes_detected</th>\n",
              "      <th>Survival_status</th>\n",
              "    </tr>\n",
              "  </thead>\n",
              "  <tbody>\n",
              "    <tr>\n",
              "      <th>count</th>\n",
              "      <td>225.000000</td>\n",
              "      <td>225.000000</td>\n",
              "      <td>225.000000</td>\n",
              "      <td>225.0</td>\n",
              "    </tr>\n",
              "    <tr>\n",
              "      <th>mean</th>\n",
              "      <td>52.017778</td>\n",
              "      <td>62.862222</td>\n",
              "      <td>2.791111</td>\n",
              "      <td>1.0</td>\n",
              "    </tr>\n",
              "    <tr>\n",
              "      <th>std</th>\n",
              "      <td>11.012154</td>\n",
              "      <td>3.222915</td>\n",
              "      <td>5.870318</td>\n",
              "      <td>0.0</td>\n",
              "    </tr>\n",
              "    <tr>\n",
              "      <th>min</th>\n",
              "      <td>30.000000</td>\n",
              "      <td>58.000000</td>\n",
              "      <td>0.000000</td>\n",
              "      <td>1.0</td>\n",
              "    </tr>\n",
              "    <tr>\n",
              "      <th>25%</th>\n",
              "      <td>43.000000</td>\n",
              "      <td>60.000000</td>\n",
              "      <td>0.000000</td>\n",
              "      <td>1.0</td>\n",
              "    </tr>\n",
              "    <tr>\n",
              "      <th>50%</th>\n",
              "      <td>52.000000</td>\n",
              "      <td>63.000000</td>\n",
              "      <td>0.000000</td>\n",
              "      <td>1.0</td>\n",
              "    </tr>\n",
              "    <tr>\n",
              "      <th>75%</th>\n",
              "      <td>60.000000</td>\n",
              "      <td>66.000000</td>\n",
              "      <td>3.000000</td>\n",
              "      <td>1.0</td>\n",
              "    </tr>\n",
              "    <tr>\n",
              "      <th>max</th>\n",
              "      <td>77.000000</td>\n",
              "      <td>69.000000</td>\n",
              "      <td>46.000000</td>\n",
              "      <td>1.0</td>\n",
              "    </tr>\n",
              "  </tbody>\n",
              "</table>\n",
              "</div>"
            ],
            "text/plain": [
              "       Age_of_patient_time_of_operation       ...         Survival_status\n",
              "count                        225.000000       ...                   225.0\n",
              "mean                          52.017778       ...                     1.0\n",
              "std                           11.012154       ...                     0.0\n",
              "min                           30.000000       ...                     1.0\n",
              "25%                           43.000000       ...                     1.0\n",
              "50%                           52.000000       ...                     1.0\n",
              "75%                           60.000000       ...                     1.0\n",
              "max                           77.000000       ...                     1.0\n",
              "\n",
              "[8 rows x 4 columns]"
            ]
          },
          "metadata": {
            "tags": []
          },
          "execution_count": 88
        }
      ]
    },
    {
      "cell_type": "code",
      "metadata": {
        "id": "CSuH7AGVmb-z",
        "colab_type": "code",
        "colab": {
          "base_uri": "https://localhost:8080/",
          "height": 294
        },
        "outputId": "42e667d2-cc34-4662-98de-cdabc2b38e62"
      },
      "source": [
        "df_died_within_5_years.describe()"
      ],
      "execution_count": 89,
      "outputs": [
        {
          "output_type": "execute_result",
          "data": {
            "text/html": [
              "<div>\n",
              "<style scoped>\n",
              "    .dataframe tbody tr th:only-of-type {\n",
              "        vertical-align: middle;\n",
              "    }\n",
              "\n",
              "    .dataframe tbody tr th {\n",
              "        vertical-align: top;\n",
              "    }\n",
              "\n",
              "    .dataframe thead th {\n",
              "        text-align: right;\n",
              "    }\n",
              "</style>\n",
              "<table border=\"1\" class=\"dataframe\">\n",
              "  <thead>\n",
              "    <tr style=\"text-align: right;\">\n",
              "      <th></th>\n",
              "      <th>Age_of_patient_time_of_operation</th>\n",
              "      <th>Patient_year_of_operation</th>\n",
              "      <th>Number_positive_axillary_nodes_detected</th>\n",
              "      <th>Survival_status</th>\n",
              "    </tr>\n",
              "  </thead>\n",
              "  <tbody>\n",
              "    <tr>\n",
              "      <th>count</th>\n",
              "      <td>81.000000</td>\n",
              "      <td>81.000000</td>\n",
              "      <td>81.000000</td>\n",
              "      <td>81.0</td>\n",
              "    </tr>\n",
              "    <tr>\n",
              "      <th>mean</th>\n",
              "      <td>53.679012</td>\n",
              "      <td>62.827160</td>\n",
              "      <td>7.456790</td>\n",
              "      <td>0.0</td>\n",
              "    </tr>\n",
              "    <tr>\n",
              "      <th>std</th>\n",
              "      <td>10.167137</td>\n",
              "      <td>3.342118</td>\n",
              "      <td>9.185654</td>\n",
              "      <td>0.0</td>\n",
              "    </tr>\n",
              "    <tr>\n",
              "      <th>min</th>\n",
              "      <td>34.000000</td>\n",
              "      <td>58.000000</td>\n",
              "      <td>0.000000</td>\n",
              "      <td>0.0</td>\n",
              "    </tr>\n",
              "    <tr>\n",
              "      <th>25%</th>\n",
              "      <td>46.000000</td>\n",
              "      <td>59.000000</td>\n",
              "      <td>1.000000</td>\n",
              "      <td>0.0</td>\n",
              "    </tr>\n",
              "    <tr>\n",
              "      <th>50%</th>\n",
              "      <td>53.000000</td>\n",
              "      <td>63.000000</td>\n",
              "      <td>4.000000</td>\n",
              "      <td>0.0</td>\n",
              "    </tr>\n",
              "    <tr>\n",
              "      <th>75%</th>\n",
              "      <td>61.000000</td>\n",
              "      <td>65.000000</td>\n",
              "      <td>11.000000</td>\n",
              "      <td>0.0</td>\n",
              "    </tr>\n",
              "    <tr>\n",
              "      <th>max</th>\n",
              "      <td>83.000000</td>\n",
              "      <td>69.000000</td>\n",
              "      <td>52.000000</td>\n",
              "      <td>0.0</td>\n",
              "    </tr>\n",
              "  </tbody>\n",
              "</table>\n",
              "</div>"
            ],
            "text/plain": [
              "       Age_of_patient_time_of_operation       ...         Survival_status\n",
              "count                         81.000000       ...                    81.0\n",
              "mean                          53.679012       ...                     0.0\n",
              "std                           10.167137       ...                     0.0\n",
              "min                           34.000000       ...                     0.0\n",
              "25%                           46.000000       ...                     0.0\n",
              "50%                           53.000000       ...                     0.0\n",
              "75%                           61.000000       ...                     0.0\n",
              "max                           83.000000       ...                     0.0\n",
              "\n",
              "[8 rows x 4 columns]"
            ]
          },
          "metadata": {
            "tags": []
          },
          "execution_count": 89
        }
      ]
    },
    {
      "cell_type": "code",
      "metadata": {
        "id": "_NAsMgoKm5fn",
        "colab_type": "code",
        "colab": {}
      },
      "source": [
        ""
      ],
      "execution_count": 0,
      "outputs": []
    },
    {
      "cell_type": "markdown",
      "metadata": {
        "id": "ZM8JckA2bgnp",
        "colab_type": "text"
      },
      "source": [
        "## Part 4 - Analysis and Interpretation\n",
        "\n",
        "Now that you've looked at the data, answer the following questions:\n",
        "\n",
        "- What is at least one feature that looks to have a positive relationship with survival? (As that feature goes up in value rate of survival increases)\n",
        "- What is at least one feature that looks to have a negative relationship with survival? (As that feature goes down in value rate of survival increases)\n",
        "- How are those two features related with each other, and what might that mean?\n",
        "\n",
        "Answer with text, but feel free to intersperse example code/results or refer to it from earlier."
      ]
    },
    {
      "cell_type": "markdown",
      "metadata": {
        "id": "6dKITTOVtHWo",
        "colab_type": "text"
      },
      "source": [
        "Your Text Answer Here"
      ]
    },
    {
      "cell_type": "code",
      "metadata": {
        "id": "90OSBGhOjk1b",
        "colab_type": "code",
        "colab": {
          "base_uri": "https://localhost:8080/",
          "height": 386
        },
        "outputId": "2da6c586-6187-4a0e-d85c-83d65e367633"
      },
      "source": [
        "crosstab_example1 = pd.crosstab(age_bins2, df['Survival_status'])\n",
        "crosstab_example1"
      ],
      "execution_count": 107,
      "outputs": [
        {
          "output_type": "execute_result",
          "data": {
            "text/html": [
              "<div>\n",
              "<style scoped>\n",
              "    .dataframe tbody tr th:only-of-type {\n",
              "        vertical-align: middle;\n",
              "    }\n",
              "\n",
              "    .dataframe tbody tr th {\n",
              "        vertical-align: top;\n",
              "    }\n",
              "\n",
              "    .dataframe thead th {\n",
              "        text-align: right;\n",
              "    }\n",
              "</style>\n",
              "<table border=\"1\" class=\"dataframe\">\n",
              "  <thead>\n",
              "    <tr style=\"text-align: right;\">\n",
              "      <th>Survival_status</th>\n",
              "      <th>0</th>\n",
              "      <th>1</th>\n",
              "    </tr>\n",
              "    <tr>\n",
              "      <th>Age_of_patient_time_of_operation</th>\n",
              "      <th></th>\n",
              "      <th></th>\n",
              "    </tr>\n",
              "  </thead>\n",
              "  <tbody>\n",
              "    <tr>\n",
              "      <th>(29.947, 35.3]</th>\n",
              "      <td>2</td>\n",
              "      <td>14</td>\n",
              "    </tr>\n",
              "    <tr>\n",
              "      <th>(35.3, 40.6]</th>\n",
              "      <td>2</td>\n",
              "      <td>25</td>\n",
              "    </tr>\n",
              "    <tr>\n",
              "      <th>(40.6, 45.9]</th>\n",
              "      <td>15</td>\n",
              "      <td>31</td>\n",
              "    </tr>\n",
              "    <tr>\n",
              "      <th>(45.9, 51.2]</th>\n",
              "      <td>16</td>\n",
              "      <td>37</td>\n",
              "    </tr>\n",
              "    <tr>\n",
              "      <th>(51.2, 56.5]</th>\n",
              "      <td>18</td>\n",
              "      <td>37</td>\n",
              "    </tr>\n",
              "    <tr>\n",
              "      <th>(56.5, 61.8]</th>\n",
              "      <td>9</td>\n",
              "      <td>32</td>\n",
              "    </tr>\n",
              "    <tr>\n",
              "      <th>(61.8, 67.1]</th>\n",
              "      <td>12</td>\n",
              "      <td>29</td>\n",
              "    </tr>\n",
              "    <tr>\n",
              "      <th>(67.1, 72.4]</th>\n",
              "      <td>4</td>\n",
              "      <td>14</td>\n",
              "    </tr>\n",
              "    <tr>\n",
              "      <th>(72.4, 77.7]</th>\n",
              "      <td>1</td>\n",
              "      <td>6</td>\n",
              "    </tr>\n",
              "    <tr>\n",
              "      <th>(77.7, 83.0]</th>\n",
              "      <td>2</td>\n",
              "      <td>0</td>\n",
              "    </tr>\n",
              "  </tbody>\n",
              "</table>\n",
              "</div>"
            ],
            "text/plain": [
              "Survival_status                    0   1\n",
              "Age_of_patient_time_of_operation        \n",
              "(29.947, 35.3]                     2  14\n",
              "(35.3, 40.6]                       2  25\n",
              "(40.6, 45.9]                      15  31\n",
              "(45.9, 51.2]                      16  37\n",
              "(51.2, 56.5]                      18  37\n",
              "(56.5, 61.8]                       9  32\n",
              "(61.8, 67.1]                      12  29\n",
              "(67.1, 72.4]                       4  14\n",
              "(72.4, 77.7]                       1   6\n",
              "(77.7, 83.0]                       2   0"
            ]
          },
          "metadata": {
            "tags": []
          },
          "execution_count": 107
        }
      ]
    },
    {
      "cell_type": "code",
      "metadata": {
        "id": "OJinWny-qAIr",
        "colab_type": "code",
        "colab": {
          "base_uri": "https://localhost:8080/",
          "height": 233
        },
        "outputId": "88e7a6f6-b45c-4fb1-e7fe-b5c9993b1932"
      },
      "source": [
        "crosstab_example2 = pd.crosstab(operation_year_bins2, df['Survival_status'])\n",
        "crosstab_example2"
      ],
      "execution_count": 101,
      "outputs": [
        {
          "output_type": "execute_result",
          "data": {
            "text/html": [
              "<div>\n",
              "<style scoped>\n",
              "    .dataframe tbody tr th:only-of-type {\n",
              "        vertical-align: middle;\n",
              "    }\n",
              "\n",
              "    .dataframe tbody tr th {\n",
              "        vertical-align: top;\n",
              "    }\n",
              "\n",
              "    .dataframe thead th {\n",
              "        text-align: right;\n",
              "    }\n",
              "</style>\n",
              "<table border=\"1\" class=\"dataframe\">\n",
              "  <thead>\n",
              "    <tr style=\"text-align: right;\">\n",
              "      <th>Survival_status</th>\n",
              "      <th>0</th>\n",
              "      <th>1</th>\n",
              "    </tr>\n",
              "    <tr>\n",
              "      <th>Patient_year_of_operation</th>\n",
              "      <th></th>\n",
              "      <th></th>\n",
              "    </tr>\n",
              "  </thead>\n",
              "  <tbody>\n",
              "    <tr>\n",
              "      <th>(57.989, 60.2]</th>\n",
              "      <td>25</td>\n",
              "      <td>66</td>\n",
              "    </tr>\n",
              "    <tr>\n",
              "      <th>(60.2, 62.4]</th>\n",
              "      <td>10</td>\n",
              "      <td>39</td>\n",
              "    </tr>\n",
              "    <tr>\n",
              "      <th>(62.4, 64.6]</th>\n",
              "      <td>16</td>\n",
              "      <td>45</td>\n",
              "    </tr>\n",
              "    <tr>\n",
              "      <th>(64.6, 66.8]</th>\n",
              "      <td>19</td>\n",
              "      <td>37</td>\n",
              "    </tr>\n",
              "    <tr>\n",
              "      <th>(66.8, 69.0]</th>\n",
              "      <td>11</td>\n",
              "      <td>38</td>\n",
              "    </tr>\n",
              "  </tbody>\n",
              "</table>\n",
              "</div>"
            ],
            "text/plain": [
              "Survival_status             0   1\n",
              "Patient_year_of_operation        \n",
              "(57.989, 60.2]             25  66\n",
              "(60.2, 62.4]               10  39\n",
              "(62.4, 64.6]               16  45\n",
              "(64.6, 66.8]               19  37\n",
              "(66.8, 69.0]               11  38"
            ]
          },
          "metadata": {
            "tags": []
          },
          "execution_count": 101
        }
      ]
    },
    {
      "cell_type": "code",
      "metadata": {
        "id": "A1TuOW2LquxR",
        "colab_type": "code",
        "colab": {
          "base_uri": "https://localhost:8080/",
          "height": 631
        },
        "outputId": "62f41bd3-329f-4a0c-ea19-26fe19087f81"
      },
      "source": [
        "crosstab_example3 = pd.crosstab(nodes_detected_bins2, df['Survival_status'])\n",
        "crosstab_example3"
      ],
      "execution_count": 98,
      "outputs": [
        {
          "output_type": "execute_result",
          "data": {
            "text/html": [
              "<div>\n",
              "<style scoped>\n",
              "    .dataframe tbody tr th:only-of-type {\n",
              "        vertical-align: middle;\n",
              "    }\n",
              "\n",
              "    .dataframe tbody tr th {\n",
              "        vertical-align: top;\n",
              "    }\n",
              "\n",
              "    .dataframe thead th {\n",
              "        text-align: right;\n",
              "    }\n",
              "</style>\n",
              "<table border=\"1\" class=\"dataframe\">\n",
              "  <thead>\n",
              "    <tr style=\"text-align: right;\">\n",
              "      <th>Survival_status</th>\n",
              "      <th>0</th>\n",
              "      <th>1</th>\n",
              "    </tr>\n",
              "    <tr>\n",
              "      <th>Number_positive_axillary_nodes_detected</th>\n",
              "      <th></th>\n",
              "      <th></th>\n",
              "    </tr>\n",
              "  </thead>\n",
              "  <tbody>\n",
              "    <tr>\n",
              "      <th>(-0.052, 2.08]</th>\n",
              "      <td>32</td>\n",
              "      <td>165</td>\n",
              "    </tr>\n",
              "    <tr>\n",
              "      <th>(2.08, 4.16]</th>\n",
              "      <td>10</td>\n",
              "      <td>23</td>\n",
              "    </tr>\n",
              "    <tr>\n",
              "      <th>(4.16, 6.24]</th>\n",
              "      <td>7</td>\n",
              "      <td>6</td>\n",
              "    </tr>\n",
              "    <tr>\n",
              "      <th>(6.24, 8.32]</th>\n",
              "      <td>4</td>\n",
              "      <td>10</td>\n",
              "    </tr>\n",
              "    <tr>\n",
              "      <th>(8.32, 10.4]</th>\n",
              "      <td>5</td>\n",
              "      <td>4</td>\n",
              "    </tr>\n",
              "    <tr>\n",
              "      <th>(10.4, 12.48]</th>\n",
              "      <td>4</td>\n",
              "      <td>2</td>\n",
              "    </tr>\n",
              "    <tr>\n",
              "      <th>(12.48, 14.56]</th>\n",
              "      <td>5</td>\n",
              "      <td>4</td>\n",
              "    </tr>\n",
              "    <tr>\n",
              "      <th>(14.56, 16.64]</th>\n",
              "      <td>2</td>\n",
              "      <td>2</td>\n",
              "    </tr>\n",
              "    <tr>\n",
              "      <th>(16.64, 18.72]</th>\n",
              "      <td>1</td>\n",
              "      <td>1</td>\n",
              "    </tr>\n",
              "    <tr>\n",
              "      <th>(18.72, 20.8]</th>\n",
              "      <td>3</td>\n",
              "      <td>2</td>\n",
              "    </tr>\n",
              "    <tr>\n",
              "      <th>(20.8, 22.88]</th>\n",
              "      <td>2</td>\n",
              "      <td>2</td>\n",
              "    </tr>\n",
              "    <tr>\n",
              "      <th>(22.88, 24.96]</th>\n",
              "      <td>4</td>\n",
              "      <td>0</td>\n",
              "    </tr>\n",
              "    <tr>\n",
              "      <th>(24.96, 27.04]</th>\n",
              "      <td>0</td>\n",
              "      <td>1</td>\n",
              "    </tr>\n",
              "    <tr>\n",
              "      <th>(27.04, 29.12]</th>\n",
              "      <td>0</td>\n",
              "      <td>1</td>\n",
              "    </tr>\n",
              "    <tr>\n",
              "      <th>(29.12, 31.2]</th>\n",
              "      <td>0</td>\n",
              "      <td>1</td>\n",
              "    </tr>\n",
              "    <tr>\n",
              "      <th>(33.28, 35.36]</th>\n",
              "      <td>1</td>\n",
              "      <td>0</td>\n",
              "    </tr>\n",
              "    <tr>\n",
              "      <th>(45.76, 47.84]</th>\n",
              "      <td>0</td>\n",
              "      <td>1</td>\n",
              "    </tr>\n",
              "    <tr>\n",
              "      <th>(49.92, 52.0]</th>\n",
              "      <td>1</td>\n",
              "      <td>0</td>\n",
              "    </tr>\n",
              "  </tbody>\n",
              "</table>\n",
              "</div>"
            ],
            "text/plain": [
              "Survival_status                           0    1\n",
              "Number_positive_axillary_nodes_detected         \n",
              "(-0.052, 2.08]                           32  165\n",
              "(2.08, 4.16]                             10   23\n",
              "(4.16, 6.24]                              7    6\n",
              "(6.24, 8.32]                              4   10\n",
              "(8.32, 10.4]                              5    4\n",
              "(10.4, 12.48]                             4    2\n",
              "(12.48, 14.56]                            5    4\n",
              "(14.56, 16.64]                            2    2\n",
              "(16.64, 18.72]                            1    1\n",
              "(18.72, 20.8]                             3    2\n",
              "(20.8, 22.88]                             2    2\n",
              "(22.88, 24.96]                            4    0\n",
              "(24.96, 27.04]                            0    1\n",
              "(27.04, 29.12]                            0    1\n",
              "(29.12, 31.2]                             0    1\n",
              "(33.28, 35.36]                            1    0\n",
              "(45.76, 47.84]                            0    1\n",
              "(49.92, 52.0]                             1    0"
            ]
          },
          "metadata": {
            "tags": []
          },
          "execution_count": 98
        }
      ]
    },
    {
      "cell_type": "code",
      "metadata": {
        "id": "IOodEe1dqaSc",
        "colab_type": "code",
        "colab": {}
      },
      "source": [
        "#  1. Feature that goes up in rate when survival increases is Patient_year_of_operation."
      ],
      "execution_count": 0,
      "outputs": []
    },
    {
      "cell_type": "code",
      "metadata": {
        "id": "y9w12jKIofRN",
        "colab_type": "code",
        "colab": {}
      },
      "source": [
        "#  2. Feature that goes down in rate when survival increases is Number_positive_axillary_nodes_detected."
      ],
      "execution_count": 0,
      "outputs": []
    },
    {
      "cell_type": "code",
      "metadata": {
        "id": "gzzVZg-mo7oP",
        "colab_type": "code",
        "colab": {}
      },
      "source": [
        "#  3. It seems that as earlier as the patient goes for operation, less is the probability of this patient having axillary nodes detected."
      ],
      "execution_count": 0,
      "outputs": []
    }
  ]
}