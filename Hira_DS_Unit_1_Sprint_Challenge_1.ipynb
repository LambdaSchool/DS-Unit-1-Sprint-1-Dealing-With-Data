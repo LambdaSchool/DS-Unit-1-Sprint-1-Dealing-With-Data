{
  "nbformat": 4,
  "nbformat_minor": 0,
  "metadata": {
    "colab": {
      "name": "Hira DS_Unit_1_Sprint_Challenge_1.ipynb",
      "version": "0.3.2",
      "provenance": [],
      "collapsed_sections": [],
      "include_colab_link": true
    },
    "kernelspec": {
      "name": "python3",
      "display_name": "Python 3"
    }
  },
  "cells": [
    {
      "cell_type": "markdown",
      "metadata": {
        "id": "view-in-github",
        "colab_type": "text"
      },
      "source": [
        "<a href=\"https://colab.research.google.com/github/Hira63S/DS-Unit-1-Sprint-1-Dealing-With-Data/blob/master/Hira_DS_Unit_1_Sprint_Challenge_1.ipynb\" target=\"_parent\"><img src=\"https://colab.research.google.com/assets/colab-badge.svg\" alt=\"Open In Colab\"/></a>"
      ]
    },
    {
      "metadata": {
        "id": "NooAiTdnafkz",
        "colab_type": "text"
      },
      "cell_type": "markdown",
      "source": [
        "# Data Science Unit 1 Sprint Challenge 1\n",
        "\n",
        "## Loading, cleaning, visualizing, and analyzing data\n",
        "\n",
        "In this sprint challenge you will look at a dataset of the survival of patients who underwent surgery for breast cancer.\n",
        "\n",
        "http://archive.ics.uci.edu/ml/datasets/Haberman%27s+Survival\n",
        "\n",
        "Data Set Information:\n",
        "The dataset contains cases from a study that was conducted between 1958 and 1970 at the University of Chicago's Billings Hospital on the survival of patients who had undergone surgery for breast cancer.\n",
        "\n",
        "Attribute Information:\n",
        "1. Age of patient at time of operation (numerical)\n",
        "2. Patient's year of operation (year - 1900, numerical)\n",
        "3. Number of positive axillary nodes detected (numerical)\n",
        "4. Survival status (class attribute)\n",
        "-- 1 = the patient survived 5 years or longer\n",
        "-- 2 = the patient died within 5 year\n",
        "\n",
        "Sprint challenges are evaluated based on satisfactory completion of each part. It is suggested you work through it in order, getting each aspect reasonably working, before trying to deeply explore, iterate, or refine any given step. Once you get to the end, if you want to go back and improve things, go for it!"
      ]
    },
    {
      "metadata": {
        "id": "5wch6ksCbJtZ",
        "colab_type": "text"
      },
      "cell_type": "markdown",
      "source": [
        "## Part 1 - Load and validate the data\n",
        "\n",
        "- Load the data as a `pandas` data frame.\n",
        "- Validate that it has the appropriate number of observations (you can check the raw file, and also read the dataset description from UCI).\n",
        "- Validate that you have no missing values.\n",
        "- Add informative names to the features.\n",
        "- The survival variable is encoded as 1 for surviving >5 years and 2 for not - change this to be 0 for not surviving and 1 for surviving >5 years (0/1 is a more traditional encoding of binary variables)\n",
        "\n",
        "At the end, print the first five rows of the dataset to demonstrate the above."
      ]
    },
    {
      "metadata": {
        "id": "287TpoGKFRVK",
        "colab_type": "code",
        "outputId": "fb3f1456-a24f-4022-e613-939de5e0bd52",
        "colab": {
          "base_uri": "https://localhost:8080/",
          "height": 195
        }
      },
      "cell_type": "code",
      "source": [
        "# TODO\n",
        "import numpy as np\n",
        "import pandas as pd\n",
        "import matplotlib.pyplot as plt\n",
        "import seaborn as sns\n",
        "\n",
        "patient_data = pd.read_csv('http://archive.ics.uci.edu/ml/machine-learning-databases/haberman/haberman.data', header=None)\n",
        "#add informative names to the features\n",
        "patient_data.columns=['Age', 'Year of Operation', 'No. of nodes detected', 'Survival']\n",
        "\n",
        "patient_data.head()"
      ],
      "execution_count": 0,
      "outputs": [
        {
          "output_type": "execute_result",
          "data": {
            "text/html": [
              "<div>\n",
              "<style scoped>\n",
              "    .dataframe tbody tr th:only-of-type {\n",
              "        vertical-align: middle;\n",
              "    }\n",
              "\n",
              "    .dataframe tbody tr th {\n",
              "        vertical-align: top;\n",
              "    }\n",
              "\n",
              "    .dataframe thead th {\n",
              "        text-align: right;\n",
              "    }\n",
              "</style>\n",
              "<table border=\"1\" class=\"dataframe\">\n",
              "  <thead>\n",
              "    <tr style=\"text-align: right;\">\n",
              "      <th></th>\n",
              "      <th>Age</th>\n",
              "      <th>Year of Operation</th>\n",
              "      <th>No. of nodes detected</th>\n",
              "      <th>Survival</th>\n",
              "    </tr>\n",
              "  </thead>\n",
              "  <tbody>\n",
              "    <tr>\n",
              "      <th>0</th>\n",
              "      <td>30</td>\n",
              "      <td>64</td>\n",
              "      <td>1</td>\n",
              "      <td>1</td>\n",
              "    </tr>\n",
              "    <tr>\n",
              "      <th>1</th>\n",
              "      <td>30</td>\n",
              "      <td>62</td>\n",
              "      <td>3</td>\n",
              "      <td>1</td>\n",
              "    </tr>\n",
              "    <tr>\n",
              "      <th>2</th>\n",
              "      <td>30</td>\n",
              "      <td>65</td>\n",
              "      <td>0</td>\n",
              "      <td>1</td>\n",
              "    </tr>\n",
              "    <tr>\n",
              "      <th>3</th>\n",
              "      <td>31</td>\n",
              "      <td>59</td>\n",
              "      <td>2</td>\n",
              "      <td>1</td>\n",
              "    </tr>\n",
              "    <tr>\n",
              "      <th>4</th>\n",
              "      <td>31</td>\n",
              "      <td>65</td>\n",
              "      <td>4</td>\n",
              "      <td>1</td>\n",
              "    </tr>\n",
              "  </tbody>\n",
              "</table>\n",
              "</div>"
            ],
            "text/plain": [
              "   Age  Year of Operation  No. of nodes detected  Survival\n",
              "0   30                 64                      1         1\n",
              "1   30                 62                      3         1\n",
              "2   30                 65                      0         1\n",
              "3   31                 59                      2         1\n",
              "4   31                 65                      4         1"
            ]
          },
          "metadata": {
            "tags": []
          },
          "execution_count": 53
        }
      ]
    },
    {
      "metadata": {
        "id": "Da3HYqJA8ID0",
        "colab_type": "code",
        "colab": {}
      },
      "cell_type": "code",
      "source": [
        "#appropriate number of observations\n",
        "patient_data.describe()"
      ],
      "execution_count": 0,
      "outputs": []
    },
    {
      "metadata": {
        "id": "L7afCp398ZUL",
        "colab_type": "code",
        "colab": {}
      },
      "cell_type": "code",
      "source": [
        "#no missing values\n",
        "patient_data.isnull().sum()"
      ],
      "execution_count": 0,
      "outputs": []
    },
    {
      "metadata": {
        "id": "1ZnKxvbQ8lDP",
        "colab_type": "code",
        "colab": {}
      },
      "cell_type": "code",
      "source": [
        "# survivable variable\n",
        "\n",
        "\n",
        "patient_data.Survival = patient_data.Survival.astype(np.int64)\n",
        "\n",
        "patient_data.head(10)\n"
      ],
      "execution_count": 0,
      "outputs": []
    },
    {
      "metadata": {
        "id": "ygMUTQdhEJDM",
        "colab_type": "code",
        "colab": {}
      },
      "cell_type": "code",
      "source": [
        "patient_data.Survival = patient_data.Survival.astype(np.str)\n",
        "\n",
        "patient_data.head()"
      ],
      "execution_count": 0,
      "outputs": []
    },
    {
      "metadata": {
        "id": "0gP31wAjEQ3v",
        "colab_type": "code",
        "colab": {}
      },
      "cell_type": "code",
      "source": [
        "patient_data.dtypes"
      ],
      "execution_count": 0,
      "outputs": []
    },
    {
      "metadata": {
        "id": "iimWdHdIFXtm",
        "colab_type": "code",
        "outputId": "5cca8ccd-d225-4154-f783-ea55b0c3adf0",
        "colab": {
          "base_uri": "https://localhost:8080/",
          "height": 34
        }
      },
      "cell_type": "code",
      "source": [
        "patient_data[\"Survival\"].value_counts()"
      ],
      "execution_count": 0,
      "outputs": [
        {
          "output_type": "execute_result",
          "data": {
            "text/plain": [
              "Series([], Name: Survival, dtype: int64)"
            ]
          },
          "metadata": {
            "tags": []
          },
          "execution_count": 51
        }
      ]
    },
    {
      "metadata": {
        "id": "eV7pMtPQHcdv",
        "colab_type": "code",
        "outputId": "4bef72a7-8e8d-4f28-900c-d098e7d017c5",
        "colab": {
          "base_uri": "https://localhost:8080/",
          "height": 343
        }
      },
      "cell_type": "code",
      "source": [
        "#changing survival status\n",
        "Survival_status = {'1' : 1, '2' : 0}\n",
        "patient_data.Survival = patient_data.Survival.map(Survival_status)\n",
        "patient_data.head(10)\n",
        "\n",
        "#It didn't work in the first 10 trials. I do not know why! Even After I converted int to object\n",
        "#then treated 1 as obj to convert to 1 and 0. Hopefully it doesn't give me problems in \n",
        "#moving on.\n"
      ],
      "execution_count": 0,
      "outputs": [
        {
          "output_type": "execute_result",
          "data": {
            "text/html": [
              "<div>\n",
              "<style scoped>\n",
              "    .dataframe tbody tr th:only-of-type {\n",
              "        vertical-align: middle;\n",
              "    }\n",
              "\n",
              "    .dataframe tbody tr th {\n",
              "        vertical-align: top;\n",
              "    }\n",
              "\n",
              "    .dataframe thead th {\n",
              "        text-align: right;\n",
              "    }\n",
              "</style>\n",
              "<table border=\"1\" class=\"dataframe\">\n",
              "  <thead>\n",
              "    <tr style=\"text-align: right;\">\n",
              "      <th></th>\n",
              "      <th>Age</th>\n",
              "      <th>Year of Operation</th>\n",
              "      <th>No. of nodes detected</th>\n",
              "      <th>Survival</th>\n",
              "    </tr>\n",
              "  </thead>\n",
              "  <tbody>\n",
              "    <tr>\n",
              "      <th>0</th>\n",
              "      <td>30</td>\n",
              "      <td>64</td>\n",
              "      <td>1</td>\n",
              "      <td>1</td>\n",
              "    </tr>\n",
              "    <tr>\n",
              "      <th>1</th>\n",
              "      <td>30</td>\n",
              "      <td>62</td>\n",
              "      <td>3</td>\n",
              "      <td>1</td>\n",
              "    </tr>\n",
              "    <tr>\n",
              "      <th>2</th>\n",
              "      <td>30</td>\n",
              "      <td>65</td>\n",
              "      <td>0</td>\n",
              "      <td>1</td>\n",
              "    </tr>\n",
              "    <tr>\n",
              "      <th>3</th>\n",
              "      <td>31</td>\n",
              "      <td>59</td>\n",
              "      <td>2</td>\n",
              "      <td>1</td>\n",
              "    </tr>\n",
              "    <tr>\n",
              "      <th>4</th>\n",
              "      <td>31</td>\n",
              "      <td>65</td>\n",
              "      <td>4</td>\n",
              "      <td>1</td>\n",
              "    </tr>\n",
              "    <tr>\n",
              "      <th>5</th>\n",
              "      <td>33</td>\n",
              "      <td>58</td>\n",
              "      <td>10</td>\n",
              "      <td>1</td>\n",
              "    </tr>\n",
              "    <tr>\n",
              "      <th>6</th>\n",
              "      <td>33</td>\n",
              "      <td>60</td>\n",
              "      <td>0</td>\n",
              "      <td>1</td>\n",
              "    </tr>\n",
              "    <tr>\n",
              "      <th>7</th>\n",
              "      <td>34</td>\n",
              "      <td>59</td>\n",
              "      <td>0</td>\n",
              "      <td>0</td>\n",
              "    </tr>\n",
              "    <tr>\n",
              "      <th>8</th>\n",
              "      <td>34</td>\n",
              "      <td>66</td>\n",
              "      <td>9</td>\n",
              "      <td>0</td>\n",
              "    </tr>\n",
              "    <tr>\n",
              "      <th>9</th>\n",
              "      <td>34</td>\n",
              "      <td>58</td>\n",
              "      <td>30</td>\n",
              "      <td>1</td>\n",
              "    </tr>\n",
              "  </tbody>\n",
              "</table>\n",
              "</div>"
            ],
            "text/plain": [
              "   Age  Year of Operation  No. of nodes detected  Survival\n",
              "0   30                 64                      1         1\n",
              "1   30                 62                      3         1\n",
              "2   30                 65                      0         1\n",
              "3   31                 59                      2         1\n",
              "4   31                 65                      4         1\n",
              "5   33                 58                     10         1\n",
              "6   33                 60                      0         1\n",
              "7   34                 59                      0         0\n",
              "8   34                 66                      9         0\n",
              "9   34                 58                     30         1"
            ]
          },
          "metadata": {
            "tags": []
          },
          "execution_count": 62
        }
      ]
    },
    {
      "metadata": {
        "id": "G7rLytbrO38L",
        "colab_type": "text"
      },
      "cell_type": "markdown",
      "source": [
        "## Part 2 - Examine the distribution and relationships of the features\n",
        "\n",
        "Explore the data - create at least *2* tables (can be summary statistics or crosstabulations) and *2* plots illustrating the nature of the data.\n",
        "\n",
        "This is open-ended, so to remind - first *complete* this task as a baseline, then go on to the remaining sections, and *then* as time allows revisit and explore further.\n",
        "\n",
        "Hint - you may need to bin some variables depending on your chosen tables/plots."
      ]
    },
    {
      "metadata": {
        "id": "_3hmze2VNoKR",
        "colab_type": "code",
        "outputId": "6ce2e375-d4f7-49ba-b824-bf691d939b67",
        "colab": {
          "base_uri": "https://localhost:8080/",
          "height": 165
        }
      },
      "cell_type": "code",
      "source": [
        "pd.crosstab(patient_data['Survival'], patient_data['No. of nodes detected'], normalize='columns')"
      ],
      "execution_count": 0,
      "outputs": [
        {
          "output_type": "execute_result",
          "data": {
            "text/html": [
              "<div>\n",
              "<style scoped>\n",
              "    .dataframe tbody tr th:only-of-type {\n",
              "        vertical-align: middle;\n",
              "    }\n",
              "\n",
              "    .dataframe tbody tr th {\n",
              "        vertical-align: top;\n",
              "    }\n",
              "\n",
              "    .dataframe thead th {\n",
              "        text-align: right;\n",
              "    }\n",
              "</style>\n",
              "<table border=\"1\" class=\"dataframe\">\n",
              "  <thead>\n",
              "    <tr style=\"text-align: right;\">\n",
              "      <th>No. of nodes detected</th>\n",
              "      <th>0</th>\n",
              "      <th>1</th>\n",
              "      <th>2</th>\n",
              "      <th>3</th>\n",
              "      <th>4</th>\n",
              "      <th>5</th>\n",
              "      <th>6</th>\n",
              "      <th>7</th>\n",
              "      <th>8</th>\n",
              "      <th>9</th>\n",
              "      <th>...</th>\n",
              "      <th>21</th>\n",
              "      <th>22</th>\n",
              "      <th>23</th>\n",
              "      <th>24</th>\n",
              "      <th>25</th>\n",
              "      <th>28</th>\n",
              "      <th>30</th>\n",
              "      <th>35</th>\n",
              "      <th>46</th>\n",
              "      <th>52</th>\n",
              "    </tr>\n",
              "    <tr>\n",
              "      <th>Survival</th>\n",
              "      <th></th>\n",
              "      <th></th>\n",
              "      <th></th>\n",
              "      <th></th>\n",
              "      <th></th>\n",
              "      <th></th>\n",
              "      <th></th>\n",
              "      <th></th>\n",
              "      <th></th>\n",
              "      <th></th>\n",
              "      <th></th>\n",
              "      <th></th>\n",
              "      <th></th>\n",
              "      <th></th>\n",
              "      <th></th>\n",
              "      <th></th>\n",
              "      <th></th>\n",
              "      <th></th>\n",
              "      <th></th>\n",
              "      <th></th>\n",
              "      <th></th>\n",
              "    </tr>\n",
              "  </thead>\n",
              "  <tbody>\n",
              "    <tr>\n",
              "      <th>0</th>\n",
              "      <td>0.139706</td>\n",
              "      <td>0.195122</td>\n",
              "      <td>0.25</td>\n",
              "      <td>0.35</td>\n",
              "      <td>0.230769</td>\n",
              "      <td>0.666667</td>\n",
              "      <td>0.428571</td>\n",
              "      <td>0.285714</td>\n",
              "      <td>0.285714</td>\n",
              "      <td>0.666667</td>\n",
              "      <td>...</td>\n",
              "      <td>1.0</td>\n",
              "      <td>0.333333</td>\n",
              "      <td>1.0</td>\n",
              "      <td>1.0</td>\n",
              "      <td>0.0</td>\n",
              "      <td>0.0</td>\n",
              "      <td>0.0</td>\n",
              "      <td>1.0</td>\n",
              "      <td>0.0</td>\n",
              "      <td>1.0</td>\n",
              "    </tr>\n",
              "    <tr>\n",
              "      <th>1</th>\n",
              "      <td>0.860294</td>\n",
              "      <td>0.804878</td>\n",
              "      <td>0.75</td>\n",
              "      <td>0.65</td>\n",
              "      <td>0.769231</td>\n",
              "      <td>0.333333</td>\n",
              "      <td>0.571429</td>\n",
              "      <td>0.714286</td>\n",
              "      <td>0.714286</td>\n",
              "      <td>0.333333</td>\n",
              "      <td>...</td>\n",
              "      <td>0.0</td>\n",
              "      <td>0.666667</td>\n",
              "      <td>0.0</td>\n",
              "      <td>0.0</td>\n",
              "      <td>1.0</td>\n",
              "      <td>1.0</td>\n",
              "      <td>1.0</td>\n",
              "      <td>0.0</td>\n",
              "      <td>1.0</td>\n",
              "      <td>0.0</td>\n",
              "    </tr>\n",
              "  </tbody>\n",
              "</table>\n",
              "<p>2 rows × 31 columns</p>\n",
              "</div>"
            ],
            "text/plain": [
              "No. of nodes detected        0         1     2     3         4         5   \\\n",
              "Survival                                                                    \n",
              "0                      0.139706  0.195122  0.25  0.35  0.230769  0.666667   \n",
              "1                      0.860294  0.804878  0.75  0.65  0.769231  0.333333   \n",
              "\n",
              "No. of nodes detected        6         7         8         9  ...    21  \\\n",
              "Survival                                                      ...         \n",
              "0                      0.428571  0.285714  0.285714  0.666667 ...   1.0   \n",
              "1                      0.571429  0.714286  0.714286  0.333333 ...   0.0   \n",
              "\n",
              "No. of nodes detected        22   23   24   25   28   30   35   46   52  \n",
              "Survival                                                                 \n",
              "0                      0.333333  1.0  1.0  0.0  0.0  0.0  1.0  0.0  1.0  \n",
              "1                      0.666667  0.0  0.0  1.0  1.0  1.0  0.0  1.0  0.0  \n",
              "\n",
              "[2 rows x 31 columns]"
            ]
          },
          "metadata": {
            "tags": []
          },
          "execution_count": 86
        }
      ]
    },
    {
      "metadata": {
        "id": "cewxp5HeN3qP",
        "colab_type": "code",
        "outputId": "03a42c5f-539e-485a-a83f-dd7b4f446f16",
        "colab": {
          "base_uri": "https://localhost:8080/",
          "height": 424
        }
      },
      "cell_type": "code",
      "source": [
        "node_bins = pd.cut(patient_data['No. of nodes detected'], 30)\n",
        "\n",
        "pd.pivot_table(patient_data, values='Survival', index=node_bins).plot.bar(color = 'teal');"
      ],
      "execution_count": 0,
      "outputs": [
        {
          "output_type": "display_data",
          "data": {
            "image/png": "[encoded data removed]",
            "text/plain": [
              "<Figure size 576x396 with 1 Axes>"
            ]
          },
          "metadata": {
            "tags": []
          }
        }
      ]
    },
    {
      "metadata": {
        "id": "qsop6GWsO1AS",
        "colab_type": "text"
      },
      "cell_type": "markdown",
      "source": [
        "I had to  make tables to make sense of the data.\n",
        "From my understnding, the survival rate for patients with 24-26 no. of nodes, 27-29, and 29-31 no. of nodes detected, was 100%. It might be because there was only one patient with 24-26 nodes and they survived because this table doesn't give us a good picture. frin 31-43 numbers of nodes detected, there was no survivor, either because they didn't have any patient or the patients were just not lucky because then, at 45-46 no. of nodes, there was a survivor again. So, these tables are not exactly good presentation of data."
      ]
    },
    {
      "metadata": {
        "id": "IAkllgCIFVj0",
        "colab_type": "code",
        "outputId": "1eaf770c-a8c8-4f58-d31f-bdbcf962bee0",
        "colab": {
          "base_uri": "https://localhost:8080/",
          "height": 390
        }
      },
      "cell_type": "code",
      "source": [
        "# TODO\n",
        "\n",
        "#pd.crosstab()\n",
        "\n",
        "#pd.pivot_table(user_data, values='purchased', index=time_bins).plot.bar();\n",
        "\n",
        "print(pd.crosstab(patient_data['Age'], patient_data['Survival']).shape)\n",
        "#pd.crosstab(patient_data['Age'], patient_data['Survival'])\n",
        "\n",
        "node_bins = pd.cut(patient_data['No. of nodes detected'], 2)  # 5 equal-sized bins\n",
        "pd.crosstab(patient_data['No. of nodes detected'], node_bins)\n",
        "\n",
        "\n",
        "age_bins = pd.cut(patient_data['Age'], 10)\n",
        "pd.crosstab(age_bins, node_bins)\n"
      ],
      "execution_count": 0,
      "outputs": [
        {
          "output_type": "stream",
          "text": [
            "(49, 2)\n"
          ],
          "name": "stdout"
        },
        {
          "output_type": "execute_result",
          "data": {
            "text/html": [
              "<div>\n",
              "<style scoped>\n",
              "    .dataframe tbody tr th:only-of-type {\n",
              "        vertical-align: middle;\n",
              "    }\n",
              "\n",
              "    .dataframe tbody tr th {\n",
              "        vertical-align: top;\n",
              "    }\n",
              "\n",
              "    .dataframe thead th {\n",
              "        text-align: right;\n",
              "    }\n",
              "</style>\n",
              "<table border=\"1\" class=\"dataframe\">\n",
              "  <thead>\n",
              "    <tr style=\"text-align: right;\">\n",
              "      <th>No. of nodes detected</th>\n",
              "      <th>(-0.052, 26.0]</th>\n",
              "      <th>(26.0, 52.0]</th>\n",
              "    </tr>\n",
              "    <tr>\n",
              "      <th>Age</th>\n",
              "      <th></th>\n",
              "      <th></th>\n",
              "    </tr>\n",
              "  </thead>\n",
              "  <tbody>\n",
              "    <tr>\n",
              "      <th>(29.947, 35.3]</th>\n",
              "      <td>15</td>\n",
              "      <td>1</td>\n",
              "    </tr>\n",
              "    <tr>\n",
              "      <th>(35.3, 40.6]</th>\n",
              "      <td>27</td>\n",
              "      <td>0</td>\n",
              "    </tr>\n",
              "    <tr>\n",
              "      <th>(40.6, 45.9]</th>\n",
              "      <td>45</td>\n",
              "      <td>1</td>\n",
              "    </tr>\n",
              "    <tr>\n",
              "      <th>(45.9, 51.2]</th>\n",
              "      <td>53</td>\n",
              "      <td>0</td>\n",
              "    </tr>\n",
              "    <tr>\n",
              "      <th>(51.2, 56.5]</th>\n",
              "      <td>54</td>\n",
              "      <td>1</td>\n",
              "    </tr>\n",
              "    <tr>\n",
              "      <th>(56.5, 61.8]</th>\n",
              "      <td>40</td>\n",
              "      <td>1</td>\n",
              "    </tr>\n",
              "    <tr>\n",
              "      <th>(61.8, 67.1]</th>\n",
              "      <td>40</td>\n",
              "      <td>1</td>\n",
              "    </tr>\n",
              "    <tr>\n",
              "      <th>(67.1, 72.4]</th>\n",
              "      <td>18</td>\n",
              "      <td>0</td>\n",
              "    </tr>\n",
              "    <tr>\n",
              "      <th>(72.4, 77.7]</th>\n",
              "      <td>7</td>\n",
              "      <td>0</td>\n",
              "    </tr>\n",
              "    <tr>\n",
              "      <th>(77.7, 83.0]</th>\n",
              "      <td>2</td>\n",
              "      <td>0</td>\n",
              "    </tr>\n",
              "  </tbody>\n",
              "</table>\n",
              "</div>"
            ],
            "text/plain": [
              "No. of nodes detected  (-0.052, 26.0]  (26.0, 52.0]\n",
              "Age                                                \n",
              "(29.947, 35.3]                     15             1\n",
              "(35.3, 40.6]                       27             0\n",
              "(40.6, 45.9]                       45             1\n",
              "(45.9, 51.2]                       53             0\n",
              "(51.2, 56.5]                       54             1\n",
              "(56.5, 61.8]                       40             1\n",
              "(61.8, 67.1]                       40             1\n",
              "(67.1, 72.4]                       18             0\n",
              "(72.4, 77.7]                        7             0\n",
              "(77.7, 83.0]                        2             0"
            ]
          },
          "metadata": {
            "tags": []
          },
          "execution_count": 133
        }
      ]
    },
    {
      "metadata": {
        "id": "DIJxqDnqM8Lb",
        "colab_type": "text"
      },
      "cell_type": "markdown",
      "source": [
        "I decided to break no. of nodes detected into 2 bins because nodes. had an average of 4 and mode of 1, meaning there was an outlier that increase the average but he mode was still 1. So, between the age of 29-35, 15 people had nodes detected between 26. But that doesn't really tell a lot because when bins = 100, since the mode is 1, it doesn't tell a very different number from 15. "
      ]
    },
    {
      "metadata": {
        "id": "5S3rmi8aLOUS",
        "colab_type": "text"
      },
      "cell_type": "markdown",
      "source": [
        "Survival vs. Year of operation"
      ]
    },
    {
      "metadata": {
        "id": "nb3gxqpSMXCx",
        "colab_type": "code",
        "colab": {}
      },
      "cell_type": "code",
      "source": [
        "import numpy as np, pandas as pd; np.random.seed(0)\n",
        "import seaborn as sns; sns.set(style=\"white\", color_codes=True)\n",
        "\n",
        "#kind"
      ],
      "execution_count": 0,
      "outputs": []
    },
    {
      "metadata": {
        "id": "ikpmwJ20KJlY",
        "colab_type": "code",
        "colab": {}
      },
      "cell_type": "code",
      "source": [
        "sns.pairplot(patient_data, hue='Survival', size=4)\n",
        "plt.show()\n"
      ],
      "execution_count": 0,
      "outputs": []
    },
    {
      "metadata": {
        "id": "uUvKQPkNSC1O",
        "colab_type": "text"
      },
      "cell_type": "markdown",
      "source": [
        "I just wanted to see a pairplot as I practiced for homework. \n"
      ]
    },
    {
      "metadata": {
        "id": "vQ9iIibISSlJ",
        "colab_type": "code",
        "outputId": "7f3d9b36-bc65-49ba-d3ea-c72c49860bc6",
        "colab": {
          "base_uri": "https://localhost:8080/",
          "height": 364
        }
      },
      "cell_type": "code",
      "source": [
        "\n",
        "patient_data['No. of nodes detected'].hist(alpha = 0.5, color ='green', bins=25)\n"
      ],
      "execution_count": 0,
      "outputs": [
        {
          "output_type": "execute_result",
          "data": {
            "text/plain": [
              "<matplotlib.axes._subplots.AxesSubplot at 0x7f7b90714f28>"
            ]
          },
          "metadata": {
            "tags": []
          },
          "execution_count": 125
        },
        {
          "output_type": "display_data",
          "data": {
            "image/png": "[encoded data removed]",
            "text/plain": [
              "<Figure size 576x396 with 1 Axes>"
            ]
          },
          "metadata": {
            "tags": []
          }
        }
      ]
    },
    {
      "metadata": {
        "id": "h784X2YranSW",
        "colab_type": "text"
      },
      "cell_type": "markdown",
      "source": [
        "Most patients had numbers of nodes detected under 5. As shown from the patient_data.describe(), the mean was 4 and the mode was 1, this graph just illustrates that. "
      ]
    },
    {
      "metadata": {
        "id": "57VLVPf3UnFI",
        "colab_type": "code",
        "outputId": "7d3a9bdf-3417-4041-9d80-8b6d8dd380df",
        "colab": {
          "base_uri": "https://localhost:8080/",
          "height": 1111
        }
      },
      "cell_type": "code",
      "source": [
        "#after practicing for hw yesterday, I think these are the best to demonstrate/make\n",
        "#sense of data with multiple variables\n",
        "\n",
        "\n",
        "for idx, feature in enumerate(list(patient_data.columns)[:-1]):\n",
        "    fig = sns.FacetGrid(patient_data, hue='Survival', size=5)\n",
        "    fig.map(sns.distplot, feature).add_legend()\n",
        "    plt.show()"
      ],
      "execution_count": 0,
      "outputs": [
        {
          "output_type": "stream",
          "text": [
            "/usr/local/lib/python3.6/dist-packages/matplotlib/axes/_axes.py:6521: MatplotlibDeprecationWarning: \n",
            "The 'normed' kwarg was deprecated in Matplotlib 2.1 and will be removed in 3.1. Use 'density' instead.\n",
            "  alternative=\"'density'\", removal=\"3.1\")\n"
          ],
          "name": "stderr"
        },
        {
          "output_type": "display_data",
          "data": {
            "image/png": "[encoded data removed]",
            "text/plain": [
              "<Figure size 401.625x360 with 1 Axes>"
            ]
          },
          "metadata": {
            "tags": []
          }
        },
        {
          "output_type": "display_data",
          "data": {
            "image/png": "[encoded data removed]",
            "text/plain": [
              "<Figure size 401.625x360 with 1 Axes>"
            ]
          },
          "metadata": {
            "tags": []
          }
        },
        {
          "output_type": "display_data",
          "data": {
            "image/png": "[encoded data removed]",
            "text/plain": [
              "<Figure size 401.625x360 with 1 Axes>"
            ]
          },
          "metadata": {
            "tags": []
          }
        }
      ]
    },
    {
      "metadata": {
        "id": "0hwzF6wVZBOR",
        "colab_type": "text"
      },
      "cell_type": "markdown",
      "source": [
        "Figure 1:\n",
        "Shows that people between the ages of 50 and 60 had the highest survival rates. It might be because that was the age group mostly detected with nodes.\n",
        "\n",
        "\n",
        "Figure 2:\n",
        "Shows the relationship between the year of operation and survival and it doesn't really indicate anything because the shape is roughly the same for survivors as well as non-survivors.\n",
        "\n",
        "\n",
        "Figure 3:\n",
        "the huge bar at 0 is becasue the average number of nodes detected was 4, where the mode was 1, so it is obviously going to show that people survived after 5 years of operation. The interesting thing it does show though, is that with higher number of nodes, people were less likely to survive. The green area under the line graph is smaller than the blue area under the blue line, especially after both lines cross. So, as the number of nodes detected increased, the survival rate fell and more patients were likely to not survive after 5 years of operation. "
      ]
    },
    {
      "metadata": {
        "id": "ZM8JckA2bgnp",
        "colab_type": "text"
      },
      "cell_type": "markdown",
      "source": [
        "## Part 3 - Analysis and Interpretation\n",
        "\n",
        "Now that you've looked at the data, answer the following questions:\n",
        "\n",
        "- What is at least one feature that looks to have a positive relationship with survival?\n",
        "- What is at least one feature that looks to have a negative relationship with survival?\n",
        "- How are those two features related with each other, and what might that mean?\n",
        "\n",
        "Answer with text, but feel free to intersperse example code/results or refer to it from earlier."
      ]
    },
    {
      "metadata": {
        "id": "4iOfrQ5LWqPl",
        "colab_type": "text"
      },
      "cell_type": "markdown",
      "source": [
        "We can safely say that none of the features had a strongly positive relationship with survival unless we take into consideration the no. of nodes and hypothesize that the lower the number of survival, the higher the survival rate but that is almost like a negative relationship. Also age might incorrectly seem as having a positive relationship with survival, with higher the age, higher the survival rate. But that is because most of the patients were between the age of 30 and 60 and had , on average, only one node, so their survival rate was higher after 5 years. \n"
      ]
    },
    {
      "metadata": {
        "id": "JxsgU0KtWpcv",
        "colab_type": "text"
      },
      "cell_type": "markdown",
      "source": [
        "No. of nodes detected has a negative relationship with survival: as the no. of nodes detected increased, the patients were less likely to survive after 5 years of operation, as shown by Figure 3. The blue line is significantly higher than the green line in Figure 3 and that shows the patients were less likely to survive if the number of nodes detected increased. Age could also be negatively related to survival because as the age of the patient increased, regardless of the number of nodes, the survival rate was very low or close to 0 as shown in figure 1.  "
      ]
    },
    {
      "metadata": {
        "id": "m4Q2sV1PenHq",
        "colab_type": "text"
      },
      "cell_type": "markdown",
      "source": [
        "Most of patients were of age 40 to 60 and had an average of 1 node detected for cancer. Since the number of nodes detected was low for that age group, they had a higher chance of surviving. But as the age increased, there were only two patients who were dectected with nodes, as shown by the crosstable but none of them survived as the green bar is at 0 in Figure 1 for that age group. So, as the age increased, even if the number of nodes was low, the survival rate declined. "
      ]
    }
  ]
}