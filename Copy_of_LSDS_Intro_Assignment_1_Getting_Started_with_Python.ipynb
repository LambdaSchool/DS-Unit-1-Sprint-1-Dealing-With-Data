{
  "nbformat": 4,
  "nbformat_minor": 0,
  "metadata": {
    "colab": {
      "name": "Copy of LSDS Intro Assignment 1 - Getting Started with Python.ipynb",
      "version": "0.3.2",
      "provenance": [],
      "collapsed_sections": [],
      "include_colab_link": true
    },
    "kernelspec": {
      "name": "python3",
      "display_name": "Python 3"
    }
  },
  "cells": [
    {
      "cell_type": "markdown",
      "metadata": {
        "id": "view-in-github",
        "colab_type": "text"
      },
      "source": [
        "<a href=\"https://colab.research.google.com/github/rick1270/DS-Sprint-01-Dealing-With-Data/blob/master/Copy_of_LSDS_Intro_Assignment_1_Getting_Started_with_Python.ipynb\" target=\"_parent\"><img src=\"https://colab.research.google.com/assets/colab-badge.svg\" alt=\"Open In Colab\"/></a>"
      ]
    },
    {
      "metadata": {
        "id": "51dZwqDNc9x6",
        "colab_type": "text"
      },
      "cell_type": "markdown",
      "source": [
        "# Lambda School Data Science - Getting Started with Python\n",
        "\n",
        "Following are exercises you should complete after watching the first intro lecture. Workflow:\n",
        "\n",
        "1. Sign in to a Google account\n",
        "2. Copy the notebook (`File` -> `Save a copy in Drive`)\n",
        "3. Complete the exercises! This means fill out the code cells, and run them (shift-enter or click the play button that appears when you're in one of them)\n",
        "4. Take a look at your work, and write comments/add text cells as appropriate to explain\n",
        "5. Make the notebook URL viewable and submit with the standup form"
      ]
    },
    {
      "metadata": {
        "id": "I6biutgwdgpb",
        "colab_type": "text"
      },
      "cell_type": "markdown",
      "source": [
        "## Exercise 1 - A bit of Math\n",
        "\n",
        "For these \"word\" problems, use Python to clearly solve them. Your code will \"show your work\" - use good variable names! To show your answers you should write a `print()` statement at the end.\n",
        "\n",
        "As you work, follow the **20 minute rule** - that means if you're stuck on something for 20 minutes, you should ask a question!\n",
        "\n",
        "### a) It's a gas\n",
        "\n",
        "A taxi driver is calculating their profit over two weeks by adding up the fares they charge and subtracting the cost of gas. The price of gas changes over time - it was `$3.52`/gallon the first week and `$3.57`/gallon this second week. Their car gets 20 miles per gallon.\n",
        "\n",
        "For the first week the driver had a total of 23 passengers with average `$29` fare each, and drove a total of 160 miles. For the second week they had 17 passengers with average `$30` fare each, and drove a total of 220 miles. Assume that for both weeks they purchase all the gas needed during that week (i.e. they refuel every week to maintain a constant level of gas in the tank).\n",
        "\n",
        "Based on the above, answer the following questions:\n",
        "\n",
        "- What is their total profit over both weeks?\n",
        "- During which week was their average (mean) profit per passenger higher?\n"
      ]
    },
    {
      "metadata": {
        "id": "CWJeYQW6AoGf",
        "colab_type": "code",
        "colab": {
          "base_uri": "https://localhost:8080/",
          "height": 51
        },
        "outputId": "084646d7-40e2-4202-c96a-47fdad008817"
      },
      "cell_type": "code",
      "source": [
        "# TODO your code here!\n",
        "#Function with variables\n",
        "def gas_math(price1, price2, passenger1, passenger2, fare1, fare2, miles1, miles2):\n",
        "  #Calculate weekly profit\n",
        "  wk1 = (passenger1 * fare1)-(price1*(miles1/20))\n",
        "  wk2 = (passenger2 * fare2)-(price2*(miles2/20))\n",
        "  #Total profit\n",
        "  print(\"Total profit for two weeks is: \" + str(wk1+wk2))\n",
        "  #Compare average profit\n",
        "  if wk1/passenger1 > wk2/passenger2:\n",
        "    print (\"Week One had the highest average profit per passenger\")\n",
        "  else:\n",
        "    print (\"Week One had the highest average profit per passenger\")\n",
        "gas_math(3.52,3.57, 23, 17,29,30, 160, 220)"
      ],
      "execution_count": 5,
      "outputs": [
        {
          "output_type": "stream",
          "text": [
            "Total profit for two weeks is: 1109.5700000000002\n",
            "Week One had the highest average profit per passenger\n"
          ],
          "name": "stdout"
        }
      ]
    },
    {
      "metadata": {
        "id": "0l4bUPHmR5Ko",
        "colab_type": "text"
      },
      "cell_type": "markdown",
      "source": [
        "### b) Mo' money...\n",
        "\n",
        "A cash drawer contains 160 bills, all 10s and 50s. The total value of the 10s and 50s is $1,760.\n",
        "\n",
        "How many of each type of bill are in the drawer? You can figure this out by trial and error (or by doing algebra with pencil and paper), but try to use loops and conditionals to check a plausible possibilities and stop when you find the correct one."
      ]
    },
    {
      "metadata": {
        "id": "Q2Atz_kyR8_6",
        "colab_type": "code",
        "colab": {
          "base_uri": "https://localhost:8080/",
          "height": 34
        },
        "outputId": "8b721a4b-1f12-4378-ebbd-ca9f7e0e9d0d"
      },
      "cell_type": "code",
      "source": [
        "# TODO your code here\n",
        "#Variables\n",
        "def Bills(quant, den1, den2, total):\n",
        "  #Loop through range.  Go to next when = total\n",
        "  for x in range(0, (quant+1)):\n",
        "    if x*den1 + ((quant-x)*den2) == total:\n",
        "      print(\"There are \"+ str(quant - x) + \" X $\" + str(den2) + \" and \" + str(x) + \" X $\" + str(den1) + \" in the drawer\")\n",
        "      break\n",
        "Bills(160,10,50,1760)\n"
      ],
      "execution_count": 44,
      "outputs": [
        {
          "output_type": "stream",
          "text": [
            "There are 4 X $50 and 156 X $10 in the drawer\n"
          ],
          "name": "stdout"
        }
      ]
    },
    {
      "metadata": {
        "id": "UCFtX_q9aQlc",
        "colab_type": "text"
      },
      "cell_type": "markdown",
      "source": [
        "## Exercise 2 - Drawing a plot\n",
        "\n",
        "Use NumPy and Matplotlib to draw a scatterplot of uniform random `(x, y)` values all drawn from the `[0, 1]` interval. Helpful documentation:\n",
        "\n",
        "*   https://matplotlib.org/tutorials/index.html\n",
        "*   https://docs.scipy.org/doc/numpy/user/quickstart.html\n",
        "\n",
        "Stretch goal - draw more plots! You can refer to the [Matplotlib gallery](https://matplotlib.org/gallery.html) for inspiration, but don't just reproduce something - try to apply it to your own data.\n",
        "\n",
        "How to get data? There's *many* ways, but a good place to get started is with [sklearn.datasets](http://scikit-learn.org/stable/datasets/index.html):\n",
        "\n",
        "```\n",
        "from sklearn import datasets\n",
        "dir(datasets)\n",
        "```"
      ]
    },
    {
      "metadata": {
        "id": "pNEb09gMaltL",
        "colab_type": "code",
        "colab": {
          "base_uri": "https://localhost:8080/",
          "height": 376
        },
        "outputId": "98718548-90c6-4a30-87d0-01ec52c0c211"
      },
      "cell_type": "code",
      "source": [
        "import matplotlib.pyplot as plt\n",
        "import numpy as np\n",
        "\n",
        "\n",
        "plt.axis([0, 10, 1, 10]) #axis range\n",
        "plt.xlabel('X Values') #Title\n",
        "plt.ylabel('Y Values') #Title\n",
        "plt.title('A Random Scatter') #Title\n",
        "plt.grid(True) #Display grid\n",
        "for i in range(1, np.random.randint (1,1000)): #random iterations\n",
        "  plt.plot((np.random.randint (1,1000))/100, (np.random.randint (1,10000))/100, 'ro') #random plot"
      ],
      "execution_count": 53,
      "outputs": [
        {
          "output_type": "display_data",
          "data": {
            "image/png": "[encoded data removed]",
            "text/plain": [
              "<matplotlib.figure.Figure at 0x7f3623a03dd8>"
            ]
          },
          "metadata": {
            "tags": []
          }
        }
      ]
    },
    {
      "metadata": {
        "id": "hGpFAslRhuem",
        "colab_type": "text"
      },
      "cell_type": "markdown",
      "source": [
        "## Exercise 3 - Writing a function\n",
        "Write a function that, given a list of numbers, calculates the mean, median, and mode of those numbers. Return a dictionary with properties for the mean, median and mode. \n",
        "\n",
        "For example:\n",
        "\n",
        "```\n",
        "mmm_dict = meanMedianMode([1, 2, 6, 7, 8, 9, 3, 4, 5, 10, 10])\n",
        "print(mmm_dict)\n",
        "> {'mean': 5.909090909090909, 'median': 6, 'mode': 10}\n",
        "```\n",
        "\n",
        "There are Python standard libraries that make calculating these numbers very easy, but first try your hand at implementing it using the `reduce()` function:"
      ]
    },
    {
      "metadata": {
        "id": "e8dmYzTmiXD_",
        "colab_type": "code",
        "outputId": "81bf3032-ba46-4be1-b286-8b0f8a59e63d",
        "colab": {
          "base_uri": "https://localhost:8080/",
          "height": 68
        }
      },
      "cell_type": "code",
      "source": [
        "from functools import reduce\n",
        "#help(reduce)\n",
        "def numbers(num_lst):#function\n",
        "  mean = ((reduce(lambda x, y: x+y, num_lst))/(len(num_lst)))#Mean loop\n",
        "  if (len(num_lst) % 2 == 0):\n",
        "    median = ((num_lst[int(len(num_lst)/2)])+((num_lst[int(len(num_lst)/2)])+1))/2\n",
        "  else:\n",
        "    median = (num_lst[int(len(num_lst)/2)])#median for even and odd\n",
        "  print(\"The mean is \" + str(mean))\n",
        "  print (\"The median is \" + str(median))\n",
        "  print (\"Need help with Node without numpy\")\n",
        "numbers([1,2,3,4,5,6,7,8,9])\n"
      ],
      "execution_count": 82,
      "outputs": [
        {
          "output_type": "stream",
          "text": [
            "The mean is 5.0\n",
            "The median is 5\n",
            "Need help with Node without numpy\n"
          ],
          "name": "stdout"
        }
      ]
    },
    {
      "metadata": {
        "colab_type": "text",
        "id": "lLCovfbtJis0"
      },
      "cell_type": "markdown",
      "source": [
        "## Exercise 3 - Writing a function\n",
        "Write a function that, given a list of numbers, calculates the mean, median, and mode of those numbers. Return a dictionary with properties for the mean, median and mode. \n",
        "\n",
        "For example:\n",
        "\n",
        "```\n",
        "mmm_dict = meanMedianMode([1, 2, 6, 7, 8, 9, 3, 4, 5, 10, 10])\n",
        "print(mmm_dict)\n",
        "> {'mean': 5.909090909090909, 'median': 6, 'mode': 10}\n",
        "```\n",
        "\n",
        "There are Python standard libraries that make calculating these numbers very easy, but first try your hand at implementing it using the `reduce()` function:"
      ]
    },
    {
      "metadata": {
        "id": "nmkk-CHvh0Nj",
        "colab_type": "code",
        "colab": {
          "base_uri": "https://localhost:8080/",
          "height": 68
        },
        "outputId": "f8710e18-eb19-49c8-f22c-bce34bcedf2c"
      },
      "cell_type": "code",
      "source": [
        "import numpy as np\n",
        "    \n",
        "def Mmm(numbers):\n",
        "  mean1=np.mean(numbers)#median\n",
        "  median1=np.median(numbers)#median\n",
        "  print (\"Mean = \" + str(mean1))\n",
        "  print (\"Median = \" + str(median1))\n",
        "  print (\"Mode = \" ) #mode failed\n",
        "Mmm ([1,2,3,4,5,6,7,8,9,10,11,12])\n",
        "    # TODO your code here!\n",
        "  "
      ],
      "execution_count": 116,
      "outputs": [
        {
          "output_type": "stream",
          "text": [
            "Mean = 6.5\n",
            "Median = 6.5\n",
            "Mode = \n"
          ],
          "name": "stdout"
        }
      ]
    }
  ]
}