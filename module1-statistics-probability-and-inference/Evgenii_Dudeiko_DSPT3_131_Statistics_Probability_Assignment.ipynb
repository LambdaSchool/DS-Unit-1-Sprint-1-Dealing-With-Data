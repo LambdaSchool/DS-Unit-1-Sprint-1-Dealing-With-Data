{
 "cells": [
  {
   "cell_type": "markdown",
   "metadata": {
    "colab_type": "text",
    "id": "view-in-github"
   },
   "source": [
    "<a href=\"https://colab.research.google.com/github/Edudeiko/DS-Unit-1-Sprint-1-Dealing-With-Data/blob/master/module1-statistics-probability-and-inference/Evgenii_Dudeiko_DSPT3_131_Statistics_Probability_Assignment.ipynb\" target=\"_parent\"><img src=\"https://colab.research.google.com/assets/colab-badge.svg\" alt=\"Open In Colab\"/></a>"
   ]
  },
  {
   "cell_type": "markdown",
   "metadata": {
    "colab_type": "text",
    "id": "mCj06eCTmluN"
   },
   "source": [
    "<img align=\"left\" src=\"https://lever-client-logos.s3.amazonaws.com/864372b1-534c-480e-acd5-9711f850815c-1524247202159.png\" width=200>\n",
    "<br></br>\n",
    "<br></br>\n",
    "\n",
    "## *Data Science Unit 1 Sprint 3 Assignment 1*\n",
    "\n",
    "# Apply the t-test to real data\n",
    "\n",
    "Your assignment is to determine which issues have \"statistically significant\" differences between political parties in this [1980s congressional voting data](https://archive.ics.uci.edu/ml/datasets/Congressional+Voting+Records). The data consists of 435 instances (one for each congressperson), a class (democrat or republican), and 16 binary attributes (yes or no for voting for or against certain issues). Be aware - there are missing values!\n",
    "\n",
    "Your goals:\n",
    "\n",
    "1. Load and clean the data (or determine the best method to drop observations when running tests)\n",
    "2. Using hypothesis testing, find an issue that democrats support more than republicans with p < 0.01\n",
    "3. Using hypothesis testing, find an issue that republicans support more than democrats with p < 0.01\n",
    "4. Using hypothesis testing, find an issue where the difference between republicans and democrats has p > 0.1 (i.e. there may not be much of a difference)\n",
    "\n",
    "Note that this data will involve *2 sample* t-tests, because you're comparing averages across two groups (republicans and democrats) rather than a single group against a null hypothesis.\n",
    "\n",
    "Stretch goals:\n",
    "\n",
    "1. Refactor your code into functions so it's easy to rerun with arbitrary variables\n",
    "2. Apply hypothesis testing to your personal project data (for the purposes of this notebook you can type a summary of the hypothesis you formed and tested)"
   ]
  },
  {
   "cell_type": "code",
   "execution_count": 1,
   "metadata": {
    "colab": {},
    "colab_type": "code",
    "id": "odTTel7vmlub"
   },
   "outputs": [],
   "source": [
    "cv_data_url = 'https://archive.ics.uci.edu/ml/machine-learning-databases/voting-records/house-votes-84.data'"
   ]
  },
  {
   "cell_type": "code",
   "execution_count": 2,
   "metadata": {
    "colab": {},
    "colab_type": "code",
    "id": "0-h6gMKxJxbM"
   },
   "outputs": [],
   "source": [
    "import pandas as pd\n",
    "cv_data = pd.read_csv(cv_data_url)"
   ]
  },
  {
   "cell_type": "code",
   "execution_count": 3,
   "metadata": {
    "colab": {},
    "colab_type": "code",
    "id": "zr0R3Wl4T1Lf"
   },
   "outputs": [],
   "source": [
    "import numpy as np"
   ]
  },
  {
   "cell_type": "code",
   "execution_count": 4,
   "metadata": {
    "colab": {
     "base_uri": "https://localhost:8080/",
     "height": 204
    },
    "colab_type": "code",
    "id": "GuiR37XOJ8z9",
    "outputId": "fe2e38db-d104-4cab-ee26-2d22453c9e02"
   },
   "outputs": [
    {
     "data": {
      "text/html": [
       "<div>\n",
       "<style scoped>\n",
       "    .dataframe tbody tr th:only-of-type {\n",
       "        vertical-align: middle;\n",
       "    }\n",
       "\n",
       "    .dataframe tbody tr th {\n",
       "        vertical-align: top;\n",
       "    }\n",
       "\n",
       "    .dataframe thead th {\n",
       "        text-align: right;\n",
       "    }\n",
       "</style>\n",
       "<table border=\"1\" class=\"dataframe\">\n",
       "  <thead>\n",
       "    <tr style=\"text-align: right;\">\n",
       "      <th></th>\n",
       "      <th>republican</th>\n",
       "      <th>n</th>\n",
       "      <th>y</th>\n",
       "      <th>n.1</th>\n",
       "      <th>y.1</th>\n",
       "      <th>y.2</th>\n",
       "      <th>y.3</th>\n",
       "      <th>n.2</th>\n",
       "      <th>n.3</th>\n",
       "      <th>n.4</th>\n",
       "      <th>y.4</th>\n",
       "      <th>?</th>\n",
       "      <th>y.5</th>\n",
       "      <th>y.6</th>\n",
       "      <th>y.7</th>\n",
       "      <th>n.5</th>\n",
       "      <th>y.8</th>\n",
       "    </tr>\n",
       "  </thead>\n",
       "  <tbody>\n",
       "    <tr>\n",
       "      <td>0</td>\n",
       "      <td>republican</td>\n",
       "      <td>n</td>\n",
       "      <td>y</td>\n",
       "      <td>n</td>\n",
       "      <td>y</td>\n",
       "      <td>y</td>\n",
       "      <td>y</td>\n",
       "      <td>n</td>\n",
       "      <td>n</td>\n",
       "      <td>n</td>\n",
       "      <td>n</td>\n",
       "      <td>n</td>\n",
       "      <td>y</td>\n",
       "      <td>y</td>\n",
       "      <td>y</td>\n",
       "      <td>n</td>\n",
       "      <td>?</td>\n",
       "    </tr>\n",
       "    <tr>\n",
       "      <td>1</td>\n",
       "      <td>democrat</td>\n",
       "      <td>?</td>\n",
       "      <td>y</td>\n",
       "      <td>y</td>\n",
       "      <td>?</td>\n",
       "      <td>y</td>\n",
       "      <td>y</td>\n",
       "      <td>n</td>\n",
       "      <td>n</td>\n",
       "      <td>n</td>\n",
       "      <td>n</td>\n",
       "      <td>y</td>\n",
       "      <td>n</td>\n",
       "      <td>y</td>\n",
       "      <td>y</td>\n",
       "      <td>n</td>\n",
       "      <td>n</td>\n",
       "    </tr>\n",
       "    <tr>\n",
       "      <td>2</td>\n",
       "      <td>democrat</td>\n",
       "      <td>n</td>\n",
       "      <td>y</td>\n",
       "      <td>y</td>\n",
       "      <td>n</td>\n",
       "      <td>?</td>\n",
       "      <td>y</td>\n",
       "      <td>n</td>\n",
       "      <td>n</td>\n",
       "      <td>n</td>\n",
       "      <td>n</td>\n",
       "      <td>y</td>\n",
       "      <td>n</td>\n",
       "      <td>y</td>\n",
       "      <td>n</td>\n",
       "      <td>n</td>\n",
       "      <td>y</td>\n",
       "    </tr>\n",
       "    <tr>\n",
       "      <td>3</td>\n",
       "      <td>democrat</td>\n",
       "      <td>y</td>\n",
       "      <td>y</td>\n",
       "      <td>y</td>\n",
       "      <td>n</td>\n",
       "      <td>y</td>\n",
       "      <td>y</td>\n",
       "      <td>n</td>\n",
       "      <td>n</td>\n",
       "      <td>n</td>\n",
       "      <td>n</td>\n",
       "      <td>y</td>\n",
       "      <td>?</td>\n",
       "      <td>y</td>\n",
       "      <td>y</td>\n",
       "      <td>y</td>\n",
       "      <td>y</td>\n",
       "    </tr>\n",
       "    <tr>\n",
       "      <td>4</td>\n",
       "      <td>democrat</td>\n",
       "      <td>n</td>\n",
       "      <td>y</td>\n",
       "      <td>y</td>\n",
       "      <td>n</td>\n",
       "      <td>y</td>\n",
       "      <td>y</td>\n",
       "      <td>n</td>\n",
       "      <td>n</td>\n",
       "      <td>n</td>\n",
       "      <td>n</td>\n",
       "      <td>n</td>\n",
       "      <td>n</td>\n",
       "      <td>y</td>\n",
       "      <td>y</td>\n",
       "      <td>y</td>\n",
       "      <td>y</td>\n",
       "    </tr>\n",
       "  </tbody>\n",
       "</table>\n",
       "</div>"
      ],
      "text/plain": [
       "   republican  n  y n.1 y.1 y.2 y.3 n.2 n.3 n.4 y.4  ? y.5 y.6 y.7 n.5 y.8\n",
       "0  republican  n  y   n   y   y   y   n   n   n   n  n   y   y   y   n   ?\n",
       "1    democrat  ?  y   y   ?   y   y   n   n   n   n  y   n   y   y   n   n\n",
       "2    democrat  n  y   y   n   ?   y   n   n   n   n  y   n   y   n   n   y\n",
       "3    democrat  y  y   y   n   y   y   n   n   n   n  y   ?   y   y   y   y\n",
       "4    democrat  n  y   y   n   y   y   n   n   n   n  n   n   y   y   y   y"
      ]
     },
     "execution_count": 4,
     "metadata": {},
     "output_type": "execute_result"
    }
   ],
   "source": [
    "cv_data.head()"
   ]
  },
  {
   "cell_type": "code",
   "execution_count": 5,
   "metadata": {
    "colab": {
     "base_uri": "https://localhost:8080/",
     "height": 323
    },
    "colab_type": "code",
    "id": "RLQpUQQ1KAdr",
    "outputId": "ef3aa2b3-8497-42d5-975d-effd0a7fb3a9"
   },
   "outputs": [
    {
     "data": {
      "text/plain": [
       "republican    434\n",
       "n             434\n",
       "y             434\n",
       "n.1           434\n",
       "y.1           434\n",
       "y.2           434\n",
       "y.3           434\n",
       "n.2           434\n",
       "n.3           434\n",
       "n.4           434\n",
       "y.4           434\n",
       "?             434\n",
       "y.5           434\n",
       "y.6           434\n",
       "y.7           434\n",
       "n.5           434\n",
       "y.8           434\n",
       "dtype: int64"
      ]
     },
     "execution_count": 5,
     "metadata": {},
     "output_type": "execute_result"
    }
   ],
   "source": [
    "cv_data.count()"
   ]
  },
  {
   "cell_type": "code",
   "execution_count": 6,
   "metadata": {
    "colab": {
     "base_uri": "https://localhost:8080/",
     "height": 204
    },
    "colab_type": "code",
    "id": "P4XlNZw1KLiS",
    "outputId": "ad87bf05-913e-4486-d8f9-49c9f6ed194e"
   },
   "outputs": [
    {
     "data": {
      "text/html": [
       "<div>\n",
       "<style scoped>\n",
       "    .dataframe tbody tr th:only-of-type {\n",
       "        vertical-align: middle;\n",
       "    }\n",
       "\n",
       "    .dataframe tbody tr th {\n",
       "        vertical-align: top;\n",
       "    }\n",
       "\n",
       "    .dataframe thead th {\n",
       "        text-align: right;\n",
       "    }\n",
       "</style>\n",
       "<table border=\"1\" class=\"dataframe\">\n",
       "  <thead>\n",
       "    <tr style=\"text-align: right;\">\n",
       "      <th></th>\n",
       "      <th>0</th>\n",
       "      <th>1</th>\n",
       "      <th>2</th>\n",
       "      <th>3</th>\n",
       "      <th>4</th>\n",
       "      <th>5</th>\n",
       "      <th>6</th>\n",
       "      <th>7</th>\n",
       "      <th>8</th>\n",
       "      <th>9</th>\n",
       "      <th>10</th>\n",
       "      <th>11</th>\n",
       "      <th>12</th>\n",
       "      <th>13</th>\n",
       "      <th>14</th>\n",
       "      <th>15</th>\n",
       "      <th>16</th>\n",
       "    </tr>\n",
       "  </thead>\n",
       "  <tbody>\n",
       "    <tr>\n",
       "      <td>0</td>\n",
       "      <td>republican</td>\n",
       "      <td>n</td>\n",
       "      <td>y</td>\n",
       "      <td>n</td>\n",
       "      <td>y</td>\n",
       "      <td>y</td>\n",
       "      <td>y</td>\n",
       "      <td>n</td>\n",
       "      <td>n</td>\n",
       "      <td>n</td>\n",
       "      <td>y</td>\n",
       "      <td>?</td>\n",
       "      <td>y</td>\n",
       "      <td>y</td>\n",
       "      <td>y</td>\n",
       "      <td>n</td>\n",
       "      <td>y</td>\n",
       "    </tr>\n",
       "    <tr>\n",
       "      <td>1</td>\n",
       "      <td>republican</td>\n",
       "      <td>n</td>\n",
       "      <td>y</td>\n",
       "      <td>n</td>\n",
       "      <td>y</td>\n",
       "      <td>y</td>\n",
       "      <td>y</td>\n",
       "      <td>n</td>\n",
       "      <td>n</td>\n",
       "      <td>n</td>\n",
       "      <td>n</td>\n",
       "      <td>n</td>\n",
       "      <td>y</td>\n",
       "      <td>y</td>\n",
       "      <td>y</td>\n",
       "      <td>n</td>\n",
       "      <td>?</td>\n",
       "    </tr>\n",
       "    <tr>\n",
       "      <td>2</td>\n",
       "      <td>democrat</td>\n",
       "      <td>?</td>\n",
       "      <td>y</td>\n",
       "      <td>y</td>\n",
       "      <td>?</td>\n",
       "      <td>y</td>\n",
       "      <td>y</td>\n",
       "      <td>n</td>\n",
       "      <td>n</td>\n",
       "      <td>n</td>\n",
       "      <td>n</td>\n",
       "      <td>y</td>\n",
       "      <td>n</td>\n",
       "      <td>y</td>\n",
       "      <td>y</td>\n",
       "      <td>n</td>\n",
       "      <td>n</td>\n",
       "    </tr>\n",
       "    <tr>\n",
       "      <td>3</td>\n",
       "      <td>democrat</td>\n",
       "      <td>n</td>\n",
       "      <td>y</td>\n",
       "      <td>y</td>\n",
       "      <td>n</td>\n",
       "      <td>?</td>\n",
       "      <td>y</td>\n",
       "      <td>n</td>\n",
       "      <td>n</td>\n",
       "      <td>n</td>\n",
       "      <td>n</td>\n",
       "      <td>y</td>\n",
       "      <td>n</td>\n",
       "      <td>y</td>\n",
       "      <td>n</td>\n",
       "      <td>n</td>\n",
       "      <td>y</td>\n",
       "    </tr>\n",
       "    <tr>\n",
       "      <td>4</td>\n",
       "      <td>democrat</td>\n",
       "      <td>y</td>\n",
       "      <td>y</td>\n",
       "      <td>y</td>\n",
       "      <td>n</td>\n",
       "      <td>y</td>\n",
       "      <td>y</td>\n",
       "      <td>n</td>\n",
       "      <td>n</td>\n",
       "      <td>n</td>\n",
       "      <td>n</td>\n",
       "      <td>y</td>\n",
       "      <td>?</td>\n",
       "      <td>y</td>\n",
       "      <td>y</td>\n",
       "      <td>y</td>\n",
       "      <td>y</td>\n",
       "    </tr>\n",
       "  </tbody>\n",
       "</table>\n",
       "</div>"
      ],
      "text/plain": [
       "           0  1  2  3  4  5  6  7  8  9  10 11 12 13 14 15 16\n",
       "0  republican  n  y  n  y  y  y  n  n  n  y  ?  y  y  y  n  y\n",
       "1  republican  n  y  n  y  y  y  n  n  n  n  n  y  y  y  n  ?\n",
       "2    democrat  ?  y  y  ?  y  y  n  n  n  n  y  n  y  y  n  n\n",
       "3    democrat  n  y  y  n  ?  y  n  n  n  n  y  n  y  n  n  y\n",
       "4    democrat  y  y  y  n  y  y  n  n  n  n  y  ?  y  y  y  y"
      ]
     },
     "execution_count": 6,
     "metadata": {},
     "output_type": "execute_result"
    }
   ],
   "source": [
    "# Let's clean the data now\n",
    "cv_data = pd.read_csv(cv_data_url, header=None)\n",
    "cv_data.head()"
   ]
  },
  {
   "cell_type": "code",
   "execution_count": 7,
   "metadata": {
    "colab": {
     "base_uri": "https://localhost:8080/",
     "height": 34
    },
    "colab_type": "code",
    "id": "3TdhZFSgKV5U",
    "outputId": "af472288-114d-4108-bed0-30f0763ea3e2"
   },
   "outputs": [
    {
     "data": {
      "text/plain": [
       "(435, 17)"
      ]
     },
     "execution_count": 7,
     "metadata": {},
     "output_type": "execute_result"
    }
   ],
   "source": [
    "cv_data.shape"
   ]
  },
  {
   "cell_type": "code",
   "execution_count": 8,
   "metadata": {
    "colab": {
     "base_uri": "https://localhost:8080/",
     "height": 292
    },
    "colab_type": "code",
    "id": "iNoq4L0GKY77",
    "outputId": "fc8dc008-31ea-4ef9-9ac4-a49b21c0daab"
   },
   "outputs": [
    {
     "name": "stdout",
     "output_type": "stream",
     "text": [
      "(435, 17)\n"
     ]
    },
    {
     "data": {
      "text/html": [
       "<div>\n",
       "<style scoped>\n",
       "    .dataframe tbody tr th:only-of-type {\n",
       "        vertical-align: middle;\n",
       "    }\n",
       "\n",
       "    .dataframe tbody tr th {\n",
       "        vertical-align: top;\n",
       "    }\n",
       "\n",
       "    .dataframe thead th {\n",
       "        text-align: right;\n",
       "    }\n",
       "</style>\n",
       "<table border=\"1\" class=\"dataframe\">\n",
       "  <thead>\n",
       "    <tr style=\"text-align: right;\">\n",
       "      <th></th>\n",
       "      <th>Class Name</th>\n",
       "      <th>handicapped-infants</th>\n",
       "      <th>water-project-cost-sharing</th>\n",
       "      <th>adoption-of-the-budget-resolution</th>\n",
       "      <th>physician-fee-freeze</th>\n",
       "      <th>el-salvador-aid</th>\n",
       "      <th>religious-groups-in-schools</th>\n",
       "      <th>anti-satellite-test-ban</th>\n",
       "      <th>aid-to-nicaraguan-contras</th>\n",
       "      <th>mx-missile</th>\n",
       "      <th>immigration</th>\n",
       "      <th>synfuels-corporation-cutback</th>\n",
       "      <th>education-spending</th>\n",
       "      <th>superfund-right-to-sue</th>\n",
       "      <th>crime</th>\n",
       "      <th>duty-free-exports</th>\n",
       "      <th>export-administration-act-south-africa</th>\n",
       "    </tr>\n",
       "  </thead>\n",
       "  <tbody>\n",
       "    <tr>\n",
       "      <td>0</td>\n",
       "      <td>republican</td>\n",
       "      <td>n</td>\n",
       "      <td>y</td>\n",
       "      <td>n</td>\n",
       "      <td>y</td>\n",
       "      <td>y</td>\n",
       "      <td>y</td>\n",
       "      <td>n</td>\n",
       "      <td>n</td>\n",
       "      <td>n</td>\n",
       "      <td>y</td>\n",
       "      <td>?</td>\n",
       "      <td>y</td>\n",
       "      <td>y</td>\n",
       "      <td>y</td>\n",
       "      <td>n</td>\n",
       "      <td>y</td>\n",
       "    </tr>\n",
       "    <tr>\n",
       "      <td>1</td>\n",
       "      <td>republican</td>\n",
       "      <td>n</td>\n",
       "      <td>y</td>\n",
       "      <td>n</td>\n",
       "      <td>y</td>\n",
       "      <td>y</td>\n",
       "      <td>y</td>\n",
       "      <td>n</td>\n",
       "      <td>n</td>\n",
       "      <td>n</td>\n",
       "      <td>n</td>\n",
       "      <td>n</td>\n",
       "      <td>y</td>\n",
       "      <td>y</td>\n",
       "      <td>y</td>\n",
       "      <td>n</td>\n",
       "      <td>?</td>\n",
       "    </tr>\n",
       "    <tr>\n",
       "      <td>2</td>\n",
       "      <td>democrat</td>\n",
       "      <td>?</td>\n",
       "      <td>y</td>\n",
       "      <td>y</td>\n",
       "      <td>?</td>\n",
       "      <td>y</td>\n",
       "      <td>y</td>\n",
       "      <td>n</td>\n",
       "      <td>n</td>\n",
       "      <td>n</td>\n",
       "      <td>n</td>\n",
       "      <td>y</td>\n",
       "      <td>n</td>\n",
       "      <td>y</td>\n",
       "      <td>y</td>\n",
       "      <td>n</td>\n",
       "      <td>n</td>\n",
       "    </tr>\n",
       "    <tr>\n",
       "      <td>3</td>\n",
       "      <td>democrat</td>\n",
       "      <td>n</td>\n",
       "      <td>y</td>\n",
       "      <td>y</td>\n",
       "      <td>n</td>\n",
       "      <td>?</td>\n",
       "      <td>y</td>\n",
       "      <td>n</td>\n",
       "      <td>n</td>\n",
       "      <td>n</td>\n",
       "      <td>n</td>\n",
       "      <td>y</td>\n",
       "      <td>n</td>\n",
       "      <td>y</td>\n",
       "      <td>n</td>\n",
       "      <td>n</td>\n",
       "      <td>y</td>\n",
       "    </tr>\n",
       "    <tr>\n",
       "      <td>4</td>\n",
       "      <td>democrat</td>\n",
       "      <td>y</td>\n",
       "      <td>y</td>\n",
       "      <td>y</td>\n",
       "      <td>n</td>\n",
       "      <td>y</td>\n",
       "      <td>y</td>\n",
       "      <td>n</td>\n",
       "      <td>n</td>\n",
       "      <td>n</td>\n",
       "      <td>n</td>\n",
       "      <td>y</td>\n",
       "      <td>?</td>\n",
       "      <td>y</td>\n",
       "      <td>y</td>\n",
       "      <td>y</td>\n",
       "      <td>y</td>\n",
       "    </tr>\n",
       "  </tbody>\n",
       "</table>\n",
       "</div>"
      ],
      "text/plain": [
       "   Class Name handicapped-infants water-project-cost-sharing  \\\n",
       "0  republican                   n                          y   \n",
       "1  republican                   n                          y   \n",
       "2    democrat                   ?                          y   \n",
       "3    democrat                   n                          y   \n",
       "4    democrat                   y                          y   \n",
       "\n",
       "  adoption-of-the-budget-resolution physician-fee-freeze el-salvador-aid  \\\n",
       "0                                 n                    y               y   \n",
       "1                                 n                    y               y   \n",
       "2                                 y                    ?               y   \n",
       "3                                 y                    n               ?   \n",
       "4                                 y                    n               y   \n",
       "\n",
       "  religious-groups-in-schools anti-satellite-test-ban  \\\n",
       "0                           y                       n   \n",
       "1                           y                       n   \n",
       "2                           y                       n   \n",
       "3                           y                       n   \n",
       "4                           y                       n   \n",
       "\n",
       "  aid-to-nicaraguan-contras mx-missile immigration  \\\n",
       "0                         n          n           y   \n",
       "1                         n          n           n   \n",
       "2                         n          n           n   \n",
       "3                         n          n           n   \n",
       "4                         n          n           n   \n",
       "\n",
       "  synfuels-corporation-cutback education-spending superfund-right-to-sue  \\\n",
       "0                            ?                  y                      y   \n",
       "1                            n                  y                      y   \n",
       "2                            y                  n                      y   \n",
       "3                            y                  n                      y   \n",
       "4                            y                  ?                      y   \n",
       "\n",
       "  crime duty-free-exports export-administration-act-south-africa  \n",
       "0     y                 n                                      y  \n",
       "1     y                 n                                      ?  \n",
       "2     y                 n                                      n  \n",
       "3     n                 n                                      y  \n",
       "4     y                 y                                      y  "
      ]
     },
     "execution_count": 8,
     "metadata": {},
     "output_type": "execute_result"
    }
   ],
   "source": [
    "column_headers = ['Class Name', 'handicapped-infants', \n",
    "                  'water-project-cost-sharing', \n",
    "                  'adoption-of-the-budget-resolution', 'physician-fee-freeze', \n",
    "                  'el-salvador-aid', 'religious-groups-in-schools', \n",
    "                  'anti-satellite-test-ban', 'aid-to-nicaraguan-contras', \n",
    "                  'mx-missile', 'immigration', 'synfuels-corporation-cutback',\n",
    "                  'education-spending', 'superfund-right-to-sue', 'crime',\n",
    "                  'duty-free-exports', 'export-administration-act-south-africa']\n",
    "\n",
    "df = pd.read_csv(cv_data_url, names=column_headers)\n",
    "print(df.shape)\n",
    "df.head()"
   ]
  },
  {
   "cell_type": "code",
   "execution_count": 9,
   "metadata": {
    "colab": {
     "base_uri": "https://localhost:8080/",
     "height": 34
    },
    "colab_type": "code",
    "id": "uNvn_ORhLPtN",
    "outputId": "3223f6f9-6cfa-4287-aabb-14fa96014f8f"
   },
   "outputs": [
    {
     "data": {
      "text/plain": [
       "array(['republican', 'democrat'], dtype=object)"
      ]
     },
     "execution_count": 9,
     "metadata": {},
     "output_type": "execute_result"
    }
   ],
   "source": [
    "df['Class Name'].unique()"
   ]
  },
  {
   "cell_type": "code",
   "execution_count": 10,
   "metadata": {
    "colab": {
     "base_uri": "https://localhost:8080/",
     "height": 1000
    },
    "colab_type": "code",
    "id": "MZty1lraN2J7",
    "outputId": "36f2fbf4-db1a-40d5-de63-8bdd137c5be5"
   },
   "outputs": [
    {
     "data": {
      "text/html": [
       "<div>\n",
       "<style scoped>\n",
       "    .dataframe tbody tr th:only-of-type {\n",
       "        vertical-align: middle;\n",
       "    }\n",
       "\n",
       "    .dataframe tbody tr th {\n",
       "        vertical-align: top;\n",
       "    }\n",
       "\n",
       "    .dataframe thead th {\n",
       "        text-align: right;\n",
       "    }\n",
       "</style>\n",
       "<table border=\"1\" class=\"dataframe\">\n",
       "  <thead>\n",
       "    <tr style=\"text-align: right;\">\n",
       "      <th></th>\n",
       "      <th>handicapped-infants</th>\n",
       "      <th>water-project-cost-sharing</th>\n",
       "      <th>adoption-of-the-budget-resolution</th>\n",
       "      <th>physician-fee-freeze</th>\n",
       "      <th>el-salvador-aid</th>\n",
       "      <th>religious-groups-in-schools</th>\n",
       "      <th>anti-satellite-test-ban</th>\n",
       "      <th>aid-to-nicaraguan-contras</th>\n",
       "      <th>mx-missile</th>\n",
       "      <th>immigration</th>\n",
       "      <th>synfuels-corporation-cutback</th>\n",
       "      <th>education-spending</th>\n",
       "      <th>superfund-right-to-sue</th>\n",
       "      <th>crime</th>\n",
       "      <th>duty-free-exports</th>\n",
       "      <th>export-administration-act-south-africa</th>\n",
       "    </tr>\n",
       "    <tr>\n",
       "      <th>Class Name</th>\n",
       "      <th></th>\n",
       "      <th></th>\n",
       "      <th></th>\n",
       "      <th></th>\n",
       "      <th></th>\n",
       "      <th></th>\n",
       "      <th></th>\n",
       "      <th></th>\n",
       "      <th></th>\n",
       "      <th></th>\n",
       "      <th></th>\n",
       "      <th></th>\n",
       "      <th></th>\n",
       "      <th></th>\n",
       "      <th></th>\n",
       "      <th></th>\n",
       "    </tr>\n",
       "  </thead>\n",
       "  <tbody>\n",
       "    <tr>\n",
       "      <td>republican</td>\n",
       "      <td>n</td>\n",
       "      <td>y</td>\n",
       "      <td>n</td>\n",
       "      <td>y</td>\n",
       "      <td>y</td>\n",
       "      <td>y</td>\n",
       "      <td>n</td>\n",
       "      <td>n</td>\n",
       "      <td>n</td>\n",
       "      <td>y</td>\n",
       "      <td>?</td>\n",
       "      <td>y</td>\n",
       "      <td>y</td>\n",
       "      <td>y</td>\n",
       "      <td>n</td>\n",
       "      <td>y</td>\n",
       "    </tr>\n",
       "    <tr>\n",
       "      <td>republican</td>\n",
       "      <td>n</td>\n",
       "      <td>y</td>\n",
       "      <td>n</td>\n",
       "      <td>y</td>\n",
       "      <td>y</td>\n",
       "      <td>y</td>\n",
       "      <td>n</td>\n",
       "      <td>n</td>\n",
       "      <td>n</td>\n",
       "      <td>n</td>\n",
       "      <td>n</td>\n",
       "      <td>y</td>\n",
       "      <td>y</td>\n",
       "      <td>y</td>\n",
       "      <td>n</td>\n",
       "      <td>?</td>\n",
       "    </tr>\n",
       "    <tr>\n",
       "      <td>democrat</td>\n",
       "      <td>?</td>\n",
       "      <td>y</td>\n",
       "      <td>y</td>\n",
       "      <td>?</td>\n",
       "      <td>y</td>\n",
       "      <td>y</td>\n",
       "      <td>n</td>\n",
       "      <td>n</td>\n",
       "      <td>n</td>\n",
       "      <td>n</td>\n",
       "      <td>y</td>\n",
       "      <td>n</td>\n",
       "      <td>y</td>\n",
       "      <td>y</td>\n",
       "      <td>n</td>\n",
       "      <td>n</td>\n",
       "    </tr>\n",
       "    <tr>\n",
       "      <td>democrat</td>\n",
       "      <td>n</td>\n",
       "      <td>y</td>\n",
       "      <td>y</td>\n",
       "      <td>n</td>\n",
       "      <td>?</td>\n",
       "      <td>y</td>\n",
       "      <td>n</td>\n",
       "      <td>n</td>\n",
       "      <td>n</td>\n",
       "      <td>n</td>\n",
       "      <td>y</td>\n",
       "      <td>n</td>\n",
       "      <td>y</td>\n",
       "      <td>n</td>\n",
       "      <td>n</td>\n",
       "      <td>y</td>\n",
       "    </tr>\n",
       "    <tr>\n",
       "      <td>democrat</td>\n",
       "      <td>y</td>\n",
       "      <td>y</td>\n",
       "      <td>y</td>\n",
       "      <td>n</td>\n",
       "      <td>y</td>\n",
       "      <td>y</td>\n",
       "      <td>n</td>\n",
       "      <td>n</td>\n",
       "      <td>n</td>\n",
       "      <td>n</td>\n",
       "      <td>y</td>\n",
       "      <td>?</td>\n",
       "      <td>y</td>\n",
       "      <td>y</td>\n",
       "      <td>y</td>\n",
       "      <td>y</td>\n",
       "    </tr>\n",
       "    <tr>\n",
       "      <td>...</td>\n",
       "      <td>...</td>\n",
       "      <td>...</td>\n",
       "      <td>...</td>\n",
       "      <td>...</td>\n",
       "      <td>...</td>\n",
       "      <td>...</td>\n",
       "      <td>...</td>\n",
       "      <td>...</td>\n",
       "      <td>...</td>\n",
       "      <td>...</td>\n",
       "      <td>...</td>\n",
       "      <td>...</td>\n",
       "      <td>...</td>\n",
       "      <td>...</td>\n",
       "      <td>...</td>\n",
       "      <td>...</td>\n",
       "    </tr>\n",
       "    <tr>\n",
       "      <td>republican</td>\n",
       "      <td>n</td>\n",
       "      <td>n</td>\n",
       "      <td>y</td>\n",
       "      <td>y</td>\n",
       "      <td>y</td>\n",
       "      <td>y</td>\n",
       "      <td>n</td>\n",
       "      <td>n</td>\n",
       "      <td>y</td>\n",
       "      <td>y</td>\n",
       "      <td>n</td>\n",
       "      <td>y</td>\n",
       "      <td>y</td>\n",
       "      <td>y</td>\n",
       "      <td>n</td>\n",
       "      <td>y</td>\n",
       "    </tr>\n",
       "    <tr>\n",
       "      <td>democrat</td>\n",
       "      <td>n</td>\n",
       "      <td>n</td>\n",
       "      <td>y</td>\n",
       "      <td>n</td>\n",
       "      <td>n</td>\n",
       "      <td>n</td>\n",
       "      <td>y</td>\n",
       "      <td>y</td>\n",
       "      <td>y</td>\n",
       "      <td>y</td>\n",
       "      <td>n</td>\n",
       "      <td>n</td>\n",
       "      <td>n</td>\n",
       "      <td>n</td>\n",
       "      <td>n</td>\n",
       "      <td>y</td>\n",
       "    </tr>\n",
       "    <tr>\n",
       "      <td>republican</td>\n",
       "      <td>n</td>\n",
       "      <td>?</td>\n",
       "      <td>n</td>\n",
       "      <td>y</td>\n",
       "      <td>y</td>\n",
       "      <td>y</td>\n",
       "      <td>n</td>\n",
       "      <td>n</td>\n",
       "      <td>n</td>\n",
       "      <td>n</td>\n",
       "      <td>y</td>\n",
       "      <td>y</td>\n",
       "      <td>y</td>\n",
       "      <td>y</td>\n",
       "      <td>n</td>\n",
       "      <td>y</td>\n",
       "    </tr>\n",
       "    <tr>\n",
       "      <td>republican</td>\n",
       "      <td>n</td>\n",
       "      <td>n</td>\n",
       "      <td>n</td>\n",
       "      <td>y</td>\n",
       "      <td>y</td>\n",
       "      <td>y</td>\n",
       "      <td>?</td>\n",
       "      <td>?</td>\n",
       "      <td>?</td>\n",
       "      <td>?</td>\n",
       "      <td>n</td>\n",
       "      <td>y</td>\n",
       "      <td>y</td>\n",
       "      <td>y</td>\n",
       "      <td>n</td>\n",
       "      <td>y</td>\n",
       "    </tr>\n",
       "    <tr>\n",
       "      <td>republican</td>\n",
       "      <td>n</td>\n",
       "      <td>y</td>\n",
       "      <td>n</td>\n",
       "      <td>y</td>\n",
       "      <td>y</td>\n",
       "      <td>y</td>\n",
       "      <td>n</td>\n",
       "      <td>n</td>\n",
       "      <td>n</td>\n",
       "      <td>y</td>\n",
       "      <td>n</td>\n",
       "      <td>y</td>\n",
       "      <td>y</td>\n",
       "      <td>y</td>\n",
       "      <td>?</td>\n",
       "      <td>n</td>\n",
       "    </tr>\n",
       "  </tbody>\n",
       "</table>\n",
       "<p>435 rows × 16 columns</p>\n",
       "</div>"
      ],
      "text/plain": [
       "           handicapped-infants water-project-cost-sharing  \\\n",
       "Class Name                                                  \n",
       "republican                   n                          y   \n",
       "republican                   n                          y   \n",
       "democrat                     ?                          y   \n",
       "democrat                     n                          y   \n",
       "democrat                     y                          y   \n",
       "...                        ...                        ...   \n",
       "republican                   n                          n   \n",
       "democrat                     n                          n   \n",
       "republican                   n                          ?   \n",
       "republican                   n                          n   \n",
       "republican                   n                          y   \n",
       "\n",
       "           adoption-of-the-budget-resolution physician-fee-freeze  \\\n",
       "Class Name                                                          \n",
       "republican                                 n                    y   \n",
       "republican                                 n                    y   \n",
       "democrat                                   y                    ?   \n",
       "democrat                                   y                    n   \n",
       "democrat                                   y                    n   \n",
       "...                                      ...                  ...   \n",
       "republican                                 y                    y   \n",
       "democrat                                   y                    n   \n",
       "republican                                 n                    y   \n",
       "republican                                 n                    y   \n",
       "republican                                 n                    y   \n",
       "\n",
       "           el-salvador-aid religious-groups-in-schools  \\\n",
       "Class Name                                               \n",
       "republican               y                           y   \n",
       "republican               y                           y   \n",
       "democrat                 y                           y   \n",
       "democrat                 ?                           y   \n",
       "democrat                 y                           y   \n",
       "...                    ...                         ...   \n",
       "republican               y                           y   \n",
       "democrat                 n                           n   \n",
       "republican               y                           y   \n",
       "republican               y                           y   \n",
       "republican               y                           y   \n",
       "\n",
       "           anti-satellite-test-ban aid-to-nicaraguan-contras mx-missile  \\\n",
       "Class Name                                                                \n",
       "republican                       n                         n          n   \n",
       "republican                       n                         n          n   \n",
       "democrat                         n                         n          n   \n",
       "democrat                         n                         n          n   \n",
       "democrat                         n                         n          n   \n",
       "...                            ...                       ...        ...   \n",
       "republican                       n                         n          y   \n",
       "democrat                         y                         y          y   \n",
       "republican                       n                         n          n   \n",
       "republican                       ?                         ?          ?   \n",
       "republican                       n                         n          n   \n",
       "\n",
       "           immigration synfuels-corporation-cutback education-spending  \\\n",
       "Class Name                                                               \n",
       "republican           y                            ?                  y   \n",
       "republican           n                            n                  y   \n",
       "democrat             n                            y                  n   \n",
       "democrat             n                            y                  n   \n",
       "democrat             n                            y                  ?   \n",
       "...                ...                          ...                ...   \n",
       "republican           y                            n                  y   \n",
       "democrat             y                            n                  n   \n",
       "republican           n                            y                  y   \n",
       "republican           ?                            n                  y   \n",
       "republican           y                            n                  y   \n",
       "\n",
       "           superfund-right-to-sue crime duty-free-exports  \\\n",
       "Class Name                                                  \n",
       "republican                      y     y                 n   \n",
       "republican                      y     y                 n   \n",
       "democrat                        y     y                 n   \n",
       "democrat                        y     n                 n   \n",
       "democrat                        y     y                 y   \n",
       "...                           ...   ...               ...   \n",
       "republican                      y     y                 n   \n",
       "democrat                        n     n                 n   \n",
       "republican                      y     y                 n   \n",
       "republican                      y     y                 n   \n",
       "republican                      y     y                 ?   \n",
       "\n",
       "           export-administration-act-south-africa  \n",
       "Class Name                                         \n",
       "republican                                      y  \n",
       "republican                                      ?  \n",
       "democrat                                        n  \n",
       "democrat                                        y  \n",
       "democrat                                        y  \n",
       "...                                           ...  \n",
       "republican                                      y  \n",
       "democrat                                        y  \n",
       "republican                                      y  \n",
       "republican                                      y  \n",
       "republican                                      n  \n",
       "\n",
       "[435 rows x 16 columns]"
      ]
     },
     "execution_count": 10,
     "metadata": {},
     "output_type": "execute_result"
    }
   ],
   "source": [
    "df.set_index('Class Name')"
   ]
  },
  {
   "cell_type": "code",
   "execution_count": 11,
   "metadata": {
    "colab": {
     "base_uri": "https://localhost:8080/",
     "height": 34
    },
    "colab_type": "code",
    "id": "w9W7AnogPwxl",
    "outputId": "e6a40330-3b69-4145-c6c3-9ec025e070b5"
   },
   "outputs": [
    {
     "data": {
      "text/plain": [
       "(435, 17)"
      ]
     },
     "execution_count": 11,
     "metadata": {},
     "output_type": "execute_result"
    }
   ],
   "source": [
    "df.shape"
   ]
  },
  {
   "cell_type": "code",
   "execution_count": 14,
   "metadata": {},
   "outputs": [
    {
     "data": {
      "text/plain": [
       "Class Name                                0\n",
       "handicapped-infants                       0\n",
       "water-project-cost-sharing                0\n",
       "adoption-of-the-budget-resolution         0\n",
       "physician-fee-freeze                      0\n",
       "el-salvador-aid                           0\n",
       "religious-groups-in-schools               0\n",
       "anti-satellite-test-ban                   0\n",
       "aid-to-nicaraguan-contras                 0\n",
       "mx-missile                                0\n",
       "immigration                               0\n",
       "synfuels-corporation-cutback              0\n",
       "education-spending                        0\n",
       "superfund-right-to-sue                    0\n",
       "crime                                     0\n",
       "duty-free-exports                         0\n",
       "export-administration-act-south-africa    0\n",
       "dtype: int64"
      ]
     },
     "execution_count": 14,
     "metadata": {},
     "output_type": "execute_result"
    }
   ],
   "source": [
    "# It is a good idea to check the dataset for any missing values\n",
    "df.isnull().sum()"
   ]
  },
  {
   "cell_type": "code",
   "execution_count": 15,
   "metadata": {
    "colab": {},
    "colab_type": "code",
    "id": "JUNJOYOyTeYq"
   },
   "outputs": [],
   "source": [
    "# Deal with '?'\n",
    "df = df.replace(to_replace='?', value=np.NaN)"
   ]
  },
  {
   "cell_type": "code",
   "execution_count": 16,
   "metadata": {
    "colab": {
     "base_uri": "https://localhost:8080/",
     "height": 323
    },
    "colab_type": "code",
    "id": "XCSh1B0rT7ON",
    "outputId": "203f3ec6-8829-45be-f20b-25edbef518d6"
   },
   "outputs": [
    {
     "data": {
      "text/plain": [
       "Class Name                                  0\n",
       "handicapped-infants                        12\n",
       "water-project-cost-sharing                 48\n",
       "adoption-of-the-budget-resolution          11\n",
       "physician-fee-freeze                       11\n",
       "el-salvador-aid                            15\n",
       "religious-groups-in-schools                11\n",
       "anti-satellite-test-ban                    14\n",
       "aid-to-nicaraguan-contras                  15\n",
       "mx-missile                                 22\n",
       "immigration                                 7\n",
       "synfuels-corporation-cutback               21\n",
       "education-spending                         31\n",
       "superfund-right-to-sue                     25\n",
       "crime                                      17\n",
       "duty-free-exports                          28\n",
       "export-administration-act-south-africa    104\n",
       "dtype: int64"
      ]
     },
     "execution_count": 16,
     "metadata": {},
     "output_type": "execute_result"
    }
   ],
   "source": [
    "df.isnull().sum()"
   ]
  },
  {
   "cell_type": "code",
   "execution_count": 18,
   "metadata": {
    "colab": {
     "base_uri": "https://localhost:8080/",
     "height": 68
    },
    "colab_type": "code",
    "id": "P1hBx6qiU7lL",
    "outputId": "d8cce430-f993-4492-92ed-ae1bae6393c7"
   },
   "outputs": [
    {
     "data": {
      "text/plain": [
       "y    253\n",
       "n    171\n",
       "Name: adoption-of-the-budget-resolution, dtype: int64"
      ]
     },
     "execution_count": 18,
     "metadata": {},
     "output_type": "execute_result"
    }
   ],
   "source": [
    "# You can use the value_counts() to check on voting count\n",
    "df['adoption-of-the-budget-resolution'].value_counts()"
   ]
  },
  {
   "cell_type": "code",
   "execution_count": 19,
   "metadata": {
    "colab": {},
    "colab_type": "code",
    "id": "67-BGaQFbEQv"
   },
   "outputs": [],
   "source": [
    "# replace yes, no with 1 and 0 values\n",
    "df = df.replace(('y', 'n'), (1, 0)) # or True False"
   ]
  },
  {
   "cell_type": "markdown",
   "metadata": {},
   "source": [
    "#### Create two datasets: republican and democrat"
   ]
  },
  {
   "cell_type": "code",
   "execution_count": 23,
   "metadata": {
    "colab": {},
    "colab_type": "code",
    "id": "poQG8_LZVaPH"
   },
   "outputs": [],
   "source": [
    "df_rep = df[df['Class Name'] == 'republican']"
   ]
  },
  {
   "cell_type": "code",
   "execution_count": 24,
   "metadata": {
    "colab": {},
    "colab_type": "code",
    "id": "XJ6bxsVoWYOb"
   },
   "outputs": [],
   "source": [
    "df_dem = df[df['Class Name'] == 'democrat']"
   ]
  },
  {
   "cell_type": "code",
   "execution_count": 25,
   "metadata": {
    "colab": {
     "base_uri": "https://localhost:8080/",
     "height": 34
    },
    "colab_type": "code",
    "id": "XkonTiQhWpkl",
    "outputId": "a3355ab9-7c19-4c87-9c10-a65891cd25bf"
   },
   "outputs": [
    {
     "data": {
      "text/plain": [
       "((168, 17), (267, 17))"
      ]
     },
     "execution_count": 25,
     "metadata": {},
     "output_type": "execute_result"
    }
   ],
   "source": [
    "df_rep.shape, df_dem.shape"
   ]
  },
  {
   "cell_type": "code",
   "execution_count": 26,
   "metadata": {
    "colab": {
     "base_uri": "https://localhost:8080/",
     "height": 34
    },
    "colab_type": "code",
    "id": "DdIDCrSlXEVZ",
    "outputId": "8bbe25d6-7683-4ee0-a205-f804c5c2c317"
   },
   "outputs": [
    {
     "data": {
      "text/plain": [
       "((168, 16), (267, 16))"
      ]
     },
     "execution_count": 26,
     "metadata": {},
     "output_type": "execute_result"
    }
   ],
   "source": [
    "# Now we have our clean and ready to use data\n",
    "df_rep = df_rep.drop(columns='Class Name')\n",
    "df_dem = df_dem.drop(columns='Class Name')\n",
    "df_rep.shape, df_dem.shape"
   ]
  },
  {
   "cell_type": "markdown",
   "metadata": {
    "colab": {},
    "colab_type": "code",
    "id": "K7Zdu6v7Xfe7"
   },
   "source": [
    "### Using hypothesis testing, find an issue that democrats support more than republicans with p < 0.01"
   ]
  },
  {
   "cell_type": "code",
   "execution_count": 28,
   "metadata": {
    "colab": {
     "base_uri": "https://localhost:8080/",
     "height": 545
    },
    "colab_type": "code",
    "id": "EwzAgDLQXtp4",
    "outputId": "cc01f440-6b99-40b4-da72-abd41f085954"
   },
   "outputs": [
    {
     "data": {
      "text/html": [
       "<div>\n",
       "<style scoped>\n",
       "    .dataframe tbody tr th:only-of-type {\n",
       "        vertical-align: middle;\n",
       "    }\n",
       "\n",
       "    .dataframe tbody tr th {\n",
       "        vertical-align: top;\n",
       "    }\n",
       "\n",
       "    .dataframe thead th {\n",
       "        text-align: right;\n",
       "    }\n",
       "</style>\n",
       "<table border=\"1\" class=\"dataframe\">\n",
       "  <thead>\n",
       "    <tr style=\"text-align: right;\">\n",
       "      <th></th>\n",
       "      <th>count</th>\n",
       "      <th>mean</th>\n",
       "      <th>std</th>\n",
       "      <th>min</th>\n",
       "      <th>25%</th>\n",
       "      <th>50%</th>\n",
       "      <th>75%</th>\n",
       "      <th>max</th>\n",
       "    </tr>\n",
       "  </thead>\n",
       "  <tbody>\n",
       "    <tr>\n",
       "      <td>handicapped-infants</td>\n",
       "      <td>258.0</td>\n",
       "      <td>0.604651</td>\n",
       "      <td>0.489876</td>\n",
       "      <td>0.0</td>\n",
       "      <td>0.0</td>\n",
       "      <td>1.0</td>\n",
       "      <td>1.0</td>\n",
       "      <td>1.0</td>\n",
       "    </tr>\n",
       "    <tr>\n",
       "      <td>water-project-cost-sharing</td>\n",
       "      <td>239.0</td>\n",
       "      <td>0.502092</td>\n",
       "      <td>0.501045</td>\n",
       "      <td>0.0</td>\n",
       "      <td>0.0</td>\n",
       "      <td>1.0</td>\n",
       "      <td>1.0</td>\n",
       "      <td>1.0</td>\n",
       "    </tr>\n",
       "    <tr>\n",
       "      <td>adoption-of-the-budget-resolution</td>\n",
       "      <td>260.0</td>\n",
       "      <td>0.888462</td>\n",
       "      <td>0.315405</td>\n",
       "      <td>0.0</td>\n",
       "      <td>1.0</td>\n",
       "      <td>1.0</td>\n",
       "      <td>1.0</td>\n",
       "      <td>1.0</td>\n",
       "    </tr>\n",
       "    <tr>\n",
       "      <td>physician-fee-freeze</td>\n",
       "      <td>259.0</td>\n",
       "      <td>0.054054</td>\n",
       "      <td>0.226562</td>\n",
       "      <td>0.0</td>\n",
       "      <td>0.0</td>\n",
       "      <td>0.0</td>\n",
       "      <td>0.0</td>\n",
       "      <td>1.0</td>\n",
       "    </tr>\n",
       "    <tr>\n",
       "      <td>el-salvador-aid</td>\n",
       "      <td>255.0</td>\n",
       "      <td>0.215686</td>\n",
       "      <td>0.412106</td>\n",
       "      <td>0.0</td>\n",
       "      <td>0.0</td>\n",
       "      <td>0.0</td>\n",
       "      <td>0.0</td>\n",
       "      <td>1.0</td>\n",
       "    </tr>\n",
       "    <tr>\n",
       "      <td>religious-groups-in-schools</td>\n",
       "      <td>258.0</td>\n",
       "      <td>0.476744</td>\n",
       "      <td>0.500430</td>\n",
       "      <td>0.0</td>\n",
       "      <td>0.0</td>\n",
       "      <td>0.0</td>\n",
       "      <td>1.0</td>\n",
       "      <td>1.0</td>\n",
       "    </tr>\n",
       "    <tr>\n",
       "      <td>anti-satellite-test-ban</td>\n",
       "      <td>259.0</td>\n",
       "      <td>0.772201</td>\n",
       "      <td>0.420224</td>\n",
       "      <td>0.0</td>\n",
       "      <td>1.0</td>\n",
       "      <td>1.0</td>\n",
       "      <td>1.0</td>\n",
       "      <td>1.0</td>\n",
       "    </tr>\n",
       "    <tr>\n",
       "      <td>aid-to-nicaraguan-contras</td>\n",
       "      <td>263.0</td>\n",
       "      <td>0.828897</td>\n",
       "      <td>0.377317</td>\n",
       "      <td>0.0</td>\n",
       "      <td>1.0</td>\n",
       "      <td>1.0</td>\n",
       "      <td>1.0</td>\n",
       "      <td>1.0</td>\n",
       "    </tr>\n",
       "    <tr>\n",
       "      <td>mx-missile</td>\n",
       "      <td>248.0</td>\n",
       "      <td>0.758065</td>\n",
       "      <td>0.429121</td>\n",
       "      <td>0.0</td>\n",
       "      <td>1.0</td>\n",
       "      <td>1.0</td>\n",
       "      <td>1.0</td>\n",
       "      <td>1.0</td>\n",
       "    </tr>\n",
       "    <tr>\n",
       "      <td>immigration</td>\n",
       "      <td>263.0</td>\n",
       "      <td>0.471483</td>\n",
       "      <td>0.500138</td>\n",
       "      <td>0.0</td>\n",
       "      <td>0.0</td>\n",
       "      <td>0.0</td>\n",
       "      <td>1.0</td>\n",
       "      <td>1.0</td>\n",
       "    </tr>\n",
       "    <tr>\n",
       "      <td>synfuels-corporation-cutback</td>\n",
       "      <td>255.0</td>\n",
       "      <td>0.505882</td>\n",
       "      <td>0.500949</td>\n",
       "      <td>0.0</td>\n",
       "      <td>0.0</td>\n",
       "      <td>1.0</td>\n",
       "      <td>1.0</td>\n",
       "      <td>1.0</td>\n",
       "    </tr>\n",
       "    <tr>\n",
       "      <td>education-spending</td>\n",
       "      <td>249.0</td>\n",
       "      <td>0.144578</td>\n",
       "      <td>0.352383</td>\n",
       "      <td>0.0</td>\n",
       "      <td>0.0</td>\n",
       "      <td>0.0</td>\n",
       "      <td>0.0</td>\n",
       "      <td>1.0</td>\n",
       "    </tr>\n",
       "    <tr>\n",
       "      <td>superfund-right-to-sue</td>\n",
       "      <td>252.0</td>\n",
       "      <td>0.289683</td>\n",
       "      <td>0.454518</td>\n",
       "      <td>0.0</td>\n",
       "      <td>0.0</td>\n",
       "      <td>0.0</td>\n",
       "      <td>1.0</td>\n",
       "      <td>1.0</td>\n",
       "    </tr>\n",
       "    <tr>\n",
       "      <td>crime</td>\n",
       "      <td>257.0</td>\n",
       "      <td>0.350195</td>\n",
       "      <td>0.477962</td>\n",
       "      <td>0.0</td>\n",
       "      <td>0.0</td>\n",
       "      <td>0.0</td>\n",
       "      <td>1.0</td>\n",
       "      <td>1.0</td>\n",
       "    </tr>\n",
       "    <tr>\n",
       "      <td>duty-free-exports</td>\n",
       "      <td>251.0</td>\n",
       "      <td>0.637450</td>\n",
       "      <td>0.481697</td>\n",
       "      <td>0.0</td>\n",
       "      <td>0.0</td>\n",
       "      <td>1.0</td>\n",
       "      <td>1.0</td>\n",
       "      <td>1.0</td>\n",
       "    </tr>\n",
       "    <tr>\n",
       "      <td>export-administration-act-south-africa</td>\n",
       "      <td>185.0</td>\n",
       "      <td>0.935135</td>\n",
       "      <td>0.246956</td>\n",
       "      <td>0.0</td>\n",
       "      <td>1.0</td>\n",
       "      <td>1.0</td>\n",
       "      <td>1.0</td>\n",
       "      <td>1.0</td>\n",
       "    </tr>\n",
       "  </tbody>\n",
       "</table>\n",
       "</div>"
      ],
      "text/plain": [
       "                                        count      mean       std  min  25%  \\\n",
       "handicapped-infants                     258.0  0.604651  0.489876  0.0  0.0   \n",
       "water-project-cost-sharing              239.0  0.502092  0.501045  0.0  0.0   \n",
       "adoption-of-the-budget-resolution       260.0  0.888462  0.315405  0.0  1.0   \n",
       "physician-fee-freeze                    259.0  0.054054  0.226562  0.0  0.0   \n",
       "el-salvador-aid                         255.0  0.215686  0.412106  0.0  0.0   \n",
       "religious-groups-in-schools             258.0  0.476744  0.500430  0.0  0.0   \n",
       "anti-satellite-test-ban                 259.0  0.772201  0.420224  0.0  1.0   \n",
       "aid-to-nicaraguan-contras               263.0  0.828897  0.377317  0.0  1.0   \n",
       "mx-missile                              248.0  0.758065  0.429121  0.0  1.0   \n",
       "immigration                             263.0  0.471483  0.500138  0.0  0.0   \n",
       "synfuels-corporation-cutback            255.0  0.505882  0.500949  0.0  0.0   \n",
       "education-spending                      249.0  0.144578  0.352383  0.0  0.0   \n",
       "superfund-right-to-sue                  252.0  0.289683  0.454518  0.0  0.0   \n",
       "crime                                   257.0  0.350195  0.477962  0.0  0.0   \n",
       "duty-free-exports                       251.0  0.637450  0.481697  0.0  0.0   \n",
       "export-administration-act-south-africa  185.0  0.935135  0.246956  0.0  1.0   \n",
       "\n",
       "                                        50%  75%  max  \n",
       "handicapped-infants                     1.0  1.0  1.0  \n",
       "water-project-cost-sharing              1.0  1.0  1.0  \n",
       "adoption-of-the-budget-resolution       1.0  1.0  1.0  \n",
       "physician-fee-freeze                    0.0  0.0  1.0  \n",
       "el-salvador-aid                         0.0  0.0  1.0  \n",
       "religious-groups-in-schools             0.0  1.0  1.0  \n",
       "anti-satellite-test-ban                 1.0  1.0  1.0  \n",
       "aid-to-nicaraguan-contras               1.0  1.0  1.0  \n",
       "mx-missile                              1.0  1.0  1.0  \n",
       "immigration                             0.0  1.0  1.0  \n",
       "synfuels-corporation-cutback            1.0  1.0  1.0  \n",
       "education-spending                      0.0  0.0  1.0  \n",
       "superfund-right-to-sue                  0.0  1.0  1.0  \n",
       "crime                                   0.0  1.0  1.0  \n",
       "duty-free-exports                       1.0  1.0  1.0  \n",
       "export-administration-act-south-africa  1.0  1.0  1.0  "
      ]
     },
     "execution_count": 28,
     "metadata": {},
     "output_type": "execute_result"
    }
   ],
   "source": [
    "df_dem.describe().T"
   ]
  },
  {
   "cell_type": "code",
   "execution_count": 30,
   "metadata": {
    "colab": {
     "base_uri": "https://localhost:8080/",
     "height": 545
    },
    "colab_type": "code",
    "id": "U18jvPyqX2DC",
    "outputId": "b307d50a-cbbc-486c-dce8-2a0c6992edae"
   },
   "outputs": [
    {
     "data": {
      "text/html": [
       "<div>\n",
       "<style scoped>\n",
       "    .dataframe tbody tr th:only-of-type {\n",
       "        vertical-align: middle;\n",
       "    }\n",
       "\n",
       "    .dataframe tbody tr th {\n",
       "        vertical-align: top;\n",
       "    }\n",
       "\n",
       "    .dataframe thead th {\n",
       "        text-align: right;\n",
       "    }\n",
       "</style>\n",
       "<table border=\"1\" class=\"dataframe\">\n",
       "  <thead>\n",
       "    <tr style=\"text-align: right;\">\n",
       "      <th></th>\n",
       "      <th>count</th>\n",
       "      <th>mean</th>\n",
       "      <th>std</th>\n",
       "      <th>min</th>\n",
       "      <th>25%</th>\n",
       "      <th>50%</th>\n",
       "      <th>75%</th>\n",
       "      <th>max</th>\n",
       "    </tr>\n",
       "  </thead>\n",
       "  <tbody>\n",
       "    <tr>\n",
       "      <td>handicapped-infants</td>\n",
       "      <td>165.0</td>\n",
       "      <td>0.187879</td>\n",
       "      <td>0.391804</td>\n",
       "      <td>0.0</td>\n",
       "      <td>0.0</td>\n",
       "      <td>0.0</td>\n",
       "      <td>0.0</td>\n",
       "      <td>1.0</td>\n",
       "    </tr>\n",
       "    <tr>\n",
       "      <td>water-project-cost-sharing</td>\n",
       "      <td>148.0</td>\n",
       "      <td>0.506757</td>\n",
       "      <td>0.501652</td>\n",
       "      <td>0.0</td>\n",
       "      <td>0.0</td>\n",
       "      <td>1.0</td>\n",
       "      <td>1.0</td>\n",
       "      <td>1.0</td>\n",
       "    </tr>\n",
       "    <tr>\n",
       "      <td>adoption-of-the-budget-resolution</td>\n",
       "      <td>164.0</td>\n",
       "      <td>0.134146</td>\n",
       "      <td>0.341853</td>\n",
       "      <td>0.0</td>\n",
       "      <td>0.0</td>\n",
       "      <td>0.0</td>\n",
       "      <td>0.0</td>\n",
       "      <td>1.0</td>\n",
       "    </tr>\n",
       "    <tr>\n",
       "      <td>physician-fee-freeze</td>\n",
       "      <td>165.0</td>\n",
       "      <td>0.987879</td>\n",
       "      <td>0.109760</td>\n",
       "      <td>0.0</td>\n",
       "      <td>1.0</td>\n",
       "      <td>1.0</td>\n",
       "      <td>1.0</td>\n",
       "      <td>1.0</td>\n",
       "    </tr>\n",
       "    <tr>\n",
       "      <td>el-salvador-aid</td>\n",
       "      <td>165.0</td>\n",
       "      <td>0.951515</td>\n",
       "      <td>0.215442</td>\n",
       "      <td>0.0</td>\n",
       "      <td>1.0</td>\n",
       "      <td>1.0</td>\n",
       "      <td>1.0</td>\n",
       "      <td>1.0</td>\n",
       "    </tr>\n",
       "    <tr>\n",
       "      <td>religious-groups-in-schools</td>\n",
       "      <td>166.0</td>\n",
       "      <td>0.897590</td>\n",
       "      <td>0.304104</td>\n",
       "      <td>0.0</td>\n",
       "      <td>1.0</td>\n",
       "      <td>1.0</td>\n",
       "      <td>1.0</td>\n",
       "      <td>1.0</td>\n",
       "    </tr>\n",
       "    <tr>\n",
       "      <td>anti-satellite-test-ban</td>\n",
       "      <td>162.0</td>\n",
       "      <td>0.240741</td>\n",
       "      <td>0.428859</td>\n",
       "      <td>0.0</td>\n",
       "      <td>0.0</td>\n",
       "      <td>0.0</td>\n",
       "      <td>0.0</td>\n",
       "      <td>1.0</td>\n",
       "    </tr>\n",
       "    <tr>\n",
       "      <td>aid-to-nicaraguan-contras</td>\n",
       "      <td>157.0</td>\n",
       "      <td>0.152866</td>\n",
       "      <td>0.361010</td>\n",
       "      <td>0.0</td>\n",
       "      <td>0.0</td>\n",
       "      <td>0.0</td>\n",
       "      <td>0.0</td>\n",
       "      <td>1.0</td>\n",
       "    </tr>\n",
       "    <tr>\n",
       "      <td>mx-missile</td>\n",
       "      <td>165.0</td>\n",
       "      <td>0.115152</td>\n",
       "      <td>0.320176</td>\n",
       "      <td>0.0</td>\n",
       "      <td>0.0</td>\n",
       "      <td>0.0</td>\n",
       "      <td>0.0</td>\n",
       "      <td>1.0</td>\n",
       "    </tr>\n",
       "    <tr>\n",
       "      <td>immigration</td>\n",
       "      <td>165.0</td>\n",
       "      <td>0.557576</td>\n",
       "      <td>0.498186</td>\n",
       "      <td>0.0</td>\n",
       "      <td>0.0</td>\n",
       "      <td>1.0</td>\n",
       "      <td>1.0</td>\n",
       "      <td>1.0</td>\n",
       "    </tr>\n",
       "    <tr>\n",
       "      <td>synfuels-corporation-cutback</td>\n",
       "      <td>159.0</td>\n",
       "      <td>0.132075</td>\n",
       "      <td>0.339643</td>\n",
       "      <td>0.0</td>\n",
       "      <td>0.0</td>\n",
       "      <td>0.0</td>\n",
       "      <td>0.0</td>\n",
       "      <td>1.0</td>\n",
       "    </tr>\n",
       "    <tr>\n",
       "      <td>education-spending</td>\n",
       "      <td>155.0</td>\n",
       "      <td>0.870968</td>\n",
       "      <td>0.336322</td>\n",
       "      <td>0.0</td>\n",
       "      <td>1.0</td>\n",
       "      <td>1.0</td>\n",
       "      <td>1.0</td>\n",
       "      <td>1.0</td>\n",
       "    </tr>\n",
       "    <tr>\n",
       "      <td>superfund-right-to-sue</td>\n",
       "      <td>158.0</td>\n",
       "      <td>0.860759</td>\n",
       "      <td>0.347298</td>\n",
       "      <td>0.0</td>\n",
       "      <td>1.0</td>\n",
       "      <td>1.0</td>\n",
       "      <td>1.0</td>\n",
       "      <td>1.0</td>\n",
       "    </tr>\n",
       "    <tr>\n",
       "      <td>crime</td>\n",
       "      <td>161.0</td>\n",
       "      <td>0.981366</td>\n",
       "      <td>0.135649</td>\n",
       "      <td>0.0</td>\n",
       "      <td>1.0</td>\n",
       "      <td>1.0</td>\n",
       "      <td>1.0</td>\n",
       "      <td>1.0</td>\n",
       "    </tr>\n",
       "    <tr>\n",
       "      <td>duty-free-exports</td>\n",
       "      <td>156.0</td>\n",
       "      <td>0.089744</td>\n",
       "      <td>0.286735</td>\n",
       "      <td>0.0</td>\n",
       "      <td>0.0</td>\n",
       "      <td>0.0</td>\n",
       "      <td>0.0</td>\n",
       "      <td>1.0</td>\n",
       "    </tr>\n",
       "    <tr>\n",
       "      <td>export-administration-act-south-africa</td>\n",
       "      <td>146.0</td>\n",
       "      <td>0.657534</td>\n",
       "      <td>0.476168</td>\n",
       "      <td>0.0</td>\n",
       "      <td>0.0</td>\n",
       "      <td>1.0</td>\n",
       "      <td>1.0</td>\n",
       "      <td>1.0</td>\n",
       "    </tr>\n",
       "  </tbody>\n",
       "</table>\n",
       "</div>"
      ],
      "text/plain": [
       "                                        count      mean       std  min  25%  \\\n",
       "handicapped-infants                     165.0  0.187879  0.391804  0.0  0.0   \n",
       "water-project-cost-sharing              148.0  0.506757  0.501652  0.0  0.0   \n",
       "adoption-of-the-budget-resolution       164.0  0.134146  0.341853  0.0  0.0   \n",
       "physician-fee-freeze                    165.0  0.987879  0.109760  0.0  1.0   \n",
       "el-salvador-aid                         165.0  0.951515  0.215442  0.0  1.0   \n",
       "religious-groups-in-schools             166.0  0.897590  0.304104  0.0  1.0   \n",
       "anti-satellite-test-ban                 162.0  0.240741  0.428859  0.0  0.0   \n",
       "aid-to-nicaraguan-contras               157.0  0.152866  0.361010  0.0  0.0   \n",
       "mx-missile                              165.0  0.115152  0.320176  0.0  0.0   \n",
       "immigration                             165.0  0.557576  0.498186  0.0  0.0   \n",
       "synfuels-corporation-cutback            159.0  0.132075  0.339643  0.0  0.0   \n",
       "education-spending                      155.0  0.870968  0.336322  0.0  1.0   \n",
       "superfund-right-to-sue                  158.0  0.860759  0.347298  0.0  1.0   \n",
       "crime                                   161.0  0.981366  0.135649  0.0  1.0   \n",
       "duty-free-exports                       156.0  0.089744  0.286735  0.0  0.0   \n",
       "export-administration-act-south-africa  146.0  0.657534  0.476168  0.0  0.0   \n",
       "\n",
       "                                        50%  75%  max  \n",
       "handicapped-infants                     0.0  0.0  1.0  \n",
       "water-project-cost-sharing              1.0  1.0  1.0  \n",
       "adoption-of-the-budget-resolution       0.0  0.0  1.0  \n",
       "physician-fee-freeze                    1.0  1.0  1.0  \n",
       "el-salvador-aid                         1.0  1.0  1.0  \n",
       "religious-groups-in-schools             1.0  1.0  1.0  \n",
       "anti-satellite-test-ban                 0.0  0.0  1.0  \n",
       "aid-to-nicaraguan-contras               0.0  0.0  1.0  \n",
       "mx-missile                              0.0  0.0  1.0  \n",
       "immigration                             1.0  1.0  1.0  \n",
       "synfuels-corporation-cutback            0.0  0.0  1.0  \n",
       "education-spending                      1.0  1.0  1.0  \n",
       "superfund-right-to-sue                  1.0  1.0  1.0  \n",
       "crime                                   1.0  1.0  1.0  \n",
       "duty-free-exports                       0.0  0.0  1.0  \n",
       "export-administration-act-south-africa  1.0  1.0  1.0  "
      ]
     },
     "execution_count": 30,
     "metadata": {},
     "output_type": "execute_result"
    }
   ],
   "source": [
    "df_rep.describe().T"
   ]
  },
  {
   "cell_type": "code",
   "execution_count": 31,
   "metadata": {
    "colab": {},
    "colab_type": "code",
    "id": "Ztu_90I9YCCz"
   },
   "outputs": [],
   "source": [
    "# handicapped-infants democrats support more than republicans \n",
    "# Now I need to prove it with p < 0.01\n",
    "# From mean value we can democrats has more Yes"
   ]
  },
  {
   "cell_type": "code",
   "execution_count": 32,
   "metadata": {
    "colab": {
     "base_uri": "https://localhost:8080/",
     "height": 68
    },
    "colab_type": "code",
    "id": "ChZfaplvhtZD",
    "outputId": "fa5382ea-42dc-4869-8c66-a737cd436bfd"
   },
   "outputs": [
    {
     "data": {
      "text/plain": [
       "1.0    156\n",
       "0.0    102\n",
       "Name: handicapped-infants, dtype: int64"
      ]
     },
     "execution_count": 32,
     "metadata": {},
     "output_type": "execute_result"
    }
   ],
   "source": [
    "df_dem['handicapped-infants'].value_counts()"
   ]
  },
  {
   "cell_type": "code",
   "execution_count": 33,
   "metadata": {
    "colab": {
     "base_uri": "https://localhost:8080/",
     "height": 68
    },
    "colab_type": "code",
    "id": "BZWlVU6eh3CP",
    "outputId": "5878a46e-b493-42c5-ae11-f31e8acb264f"
   },
   "outputs": [
    {
     "data": {
      "text/plain": [
       "0.0    134\n",
       "1.0     31\n",
       "Name: handicapped-infants, dtype: int64"
      ]
     },
     "execution_count": 33,
     "metadata": {},
     "output_type": "execute_result"
    }
   ],
   "source": [
    "df_rep['handicapped-infants'].value_counts()\n"
   ]
  },
  {
   "cell_type": "code",
   "execution_count": 34,
   "metadata": {
    "colab": {
     "base_uri": "https://localhost:8080/",
     "height": 34
    },
    "colab_type": "code",
    "id": "ZhPEALiiaoV8",
    "outputId": "df28cd62-b543-4584-d2f9-d1e4cc20173e"
   },
   "outputs": [
    {
     "data": {
      "text/plain": [
       "0.6046511627906976"
      ]
     },
     "execution_count": 34,
     "metadata": {},
     "output_type": "execute_result"
    }
   ],
   "source": [
    "df_dem_mean = df_dem['handicapped-infants'].mean()\n",
    "df_dem_mean"
   ]
  },
  {
   "cell_type": "code",
   "execution_count": 35,
   "metadata": {
    "colab": {
     "base_uri": "https://localhost:8080/",
     "height": 34
    },
    "colab_type": "code",
    "id": "roJLPxHHbg_O",
    "outputId": "d5fc9bf6-6266-4dbd-9cfb-57c19517f4da"
   },
   "outputs": [
    {
     "data": {
      "text/plain": [
       "0.18787878787878787"
      ]
     },
     "execution_count": 35,
     "metadata": {},
     "output_type": "execute_result"
    }
   ],
   "source": [
    "df_rep_mean = df_rep['handicapped-infants'].mean()\n",
    "df_rep_mean"
   ]
  },
  {
   "cell_type": "code",
   "execution_count": 36,
   "metadata": {
    "colab": {},
    "colab_type": "code",
    "id": "FCHXijtsclbI"
   },
   "outputs": [],
   "source": [
    "from scipy.stats import ttest_ind, ttest_ind_from_stats, ttest_rel"
   ]
  },
  {
   "cell_type": "code",
   "execution_count": 37,
   "metadata": {
    "colab": {
     "base_uri": "https://localhost:8080/",
     "height": 34
    },
    "colab_type": "code",
    "id": "A3qsmcYxctwo",
    "outputId": "2c87b244-45ac-4479-df22-0777fd8aff95"
   },
   "outputs": [
    {
     "data": {
      "text/plain": [
       "Ttest_indResult(statistic=9.205264294809222, pvalue=1.613440327937243e-18)"
      ]
     },
     "execution_count": 37,
     "metadata": {},
     "output_type": "execute_result"
    }
   ],
   "source": [
    "ttest_ind(df_dem['handicapped-infants'], df_rep['handicapped-infants'], nan_policy='omit')"
   ]
  },
  {
   "cell_type": "code",
   "execution_count": 39,
   "metadata": {
    "colab": {
     "base_uri": "https://localhost:8080/",
     "height": 306
    },
    "colab_type": "code",
    "id": "FF9lLbXuDeTf",
    "outputId": "f3101977-0813-4dd6-b061-5226800e1965"
   },
   "outputs": [
    {
     "name": "stdout",
     "output_type": "stream",
     "text": [
      "Standard Deviation: handicapped-infants                       0.391804\n",
      "water-project-cost-sharing                0.501652\n",
      "adoption-of-the-budget-resolution         0.341853\n",
      "physician-fee-freeze                      0.109760\n",
      "el-salvador-aid                           0.215442\n",
      "religious-groups-in-schools               0.304104\n",
      "anti-satellite-test-ban                   0.428859\n",
      "aid-to-nicaraguan-contras                 0.361010\n",
      "mx-missile                                0.320176\n",
      "immigration                               0.498186\n",
      "synfuels-corporation-cutback              0.339643\n",
      "education-spending                        0.336322\n",
      "superfund-right-to-sue                    0.347298\n",
      "crime                                     0.135649\n",
      "duty-free-exports                         0.286735\n",
      "export-administration-act-south-africa    0.476168\n",
      "dtype: float64\n"
     ]
    }
   ],
   "source": [
    "print(f\"Standard Deviation: {df_rep.std()}\")"
   ]
  },
  {
   "cell_type": "code",
   "execution_count": 40,
   "metadata": {
    "colab": {
     "base_uri": "https://localhost:8080/",
     "height": 306
    },
    "colab_type": "code",
    "id": "yxF400X-Cu9m",
    "outputId": "34d83cac-f217-43f3-f2d0-9c5f246731f0"
   },
   "outputs": [
    {
     "name": "stdout",
     "output_type": "stream",
     "text": [
      "Mean: handicapped-infants                       0.187879\n",
      "water-project-cost-sharing                0.506757\n",
      "adoption-of-the-budget-resolution         0.134146\n",
      "physician-fee-freeze                      0.987879\n",
      "el-salvador-aid                           0.951515\n",
      "religious-groups-in-schools               0.897590\n",
      "anti-satellite-test-ban                   0.240741\n",
      "aid-to-nicaraguan-contras                 0.152866\n",
      "mx-missile                                0.115152\n",
      "immigration                               0.557576\n",
      "synfuels-corporation-cutback              0.132075\n",
      "education-spending                        0.870968\n",
      "superfund-right-to-sue                    0.860759\n",
      "crime                                     0.981366\n",
      "duty-free-exports                         0.089744\n",
      "export-administration-act-south-africa    0.657534\n",
      "dtype: float64\n"
     ]
    }
   ],
   "source": [
    "print(f\"Mean: {df_rep.mean()}\")"
   ]
  },
  {
   "cell_type": "code",
   "execution_count": 42,
   "metadata": {
    "colab": {
     "base_uri": "https://localhost:8080/",
     "height": 306
    },
    "colab_type": "code",
    "id": "V5EdfWEtQ3-Y",
    "outputId": "d0527136-fc5d-4217-8030-b3b99859a117"
   },
   "outputs": [
    {
     "name": "stdout",
     "output_type": "stream",
     "text": [
      "Standard Deviation: handicapped-infants                       0.489876\n",
      "water-project-cost-sharing                0.501045\n",
      "adoption-of-the-budget-resolution         0.315405\n",
      "physician-fee-freeze                      0.226562\n",
      "el-salvador-aid                           0.412106\n",
      "religious-groups-in-schools               0.500430\n",
      "anti-satellite-test-ban                   0.420224\n",
      "aid-to-nicaraguan-contras                 0.377317\n",
      "mx-missile                                0.429121\n",
      "immigration                               0.500138\n",
      "synfuels-corporation-cutback              0.500949\n",
      "education-spending                        0.352383\n",
      "superfund-right-to-sue                    0.454518\n",
      "crime                                     0.477962\n",
      "duty-free-exports                         0.481697\n",
      "export-administration-act-south-africa    0.246956\n",
      "dtype: float64\n"
     ]
    }
   ],
   "source": [
    "print(f\"Standard Deviation: {df_dem.std()}\")"
   ]
  },
  {
   "cell_type": "code",
   "execution_count": 43,
   "metadata": {
    "colab": {
     "base_uri": "https://localhost:8080/",
     "height": 306
    },
    "colab_type": "code",
    "id": "PRMqji5iQ8er",
    "outputId": "907c90bb-7363-405b-e5d7-4abb60bee68c"
   },
   "outputs": [
    {
     "name": "stdout",
     "output_type": "stream",
     "text": [
      "Variance: handicapped-infants                       0.239978\n",
      "water-project-cost-sharing                0.251046\n",
      "adoption-of-the-budget-resolution         0.099480\n",
      "physician-fee-freeze                      0.051330\n",
      "el-salvador-aid                           0.169832\n",
      "religious-groups-in-schools               0.250430\n",
      "anti-satellite-test-ban                   0.176589\n",
      "aid-to-nicaraguan-contras                 0.142368\n",
      "mx-missile                                0.184145\n",
      "immigration                               0.250138\n",
      "synfuels-corporation-cutback              0.250950\n",
      "education-spending                        0.124174\n",
      "superfund-right-to-sue                    0.206586\n",
      "crime                                     0.228447\n",
      "duty-free-exports                         0.232032\n",
      "export-administration-act-south-africa    0.060987\n",
      "dtype: float64\n"
     ]
    }
   ],
   "source": [
    "print(f\"Variance: {df_dem.var()}\")"
   ]
  },
  {
   "cell_type": "markdown",
   "metadata": {
    "colab": {},
    "colab_type": "code",
    "id": "_1t6kRpbn1H0"
   },
   "source": [
    "### Using hypothesis testing, find an issue that republicans support more than democrats with p < 0.01"
   ]
  },
  {
   "cell_type": "code",
   "execution_count": 65,
   "metadata": {},
   "outputs": [
    {
     "name": "stdout",
     "output_type": "stream",
     "text": [
      "democrats votes: \n",
      " 0.0    245\n",
      "1.0     14\n",
      "Name: physician-fee-freeze, dtype: int64\n",
      "\n",
      "\n",
      "republicans votes: \n",
      " 1.0    163\n",
      "0.0      2\n",
      "Name: physician-fee-freeze, dtype: int64\n"
     ]
    }
   ],
   "source": [
    "print('democrats votes: \\n', df_dem['physician-fee-freeze'].value_counts())\n",
    "print('\\n')\n",
    "print('republicans votes: \\n', df_rep['physician-fee-freeze'].value_counts())"
   ]
  },
  {
   "cell_type": "code",
   "execution_count": 66,
   "metadata": {},
   "outputs": [
    {
     "data": {
      "text/plain": [
       "Ttest_indResult(statistic=-49.36708157301406, pvalue=1.994262314074344e-177)"
      ]
     },
     "execution_count": 66,
     "metadata": {},
     "output_type": "execute_result"
    }
   ],
   "source": [
    "ttest_ind(df_dem['physician-fee-freeze'], df_rep['physician-fee-freeze'], nan_policy='omit')"
   ]
  },
  {
   "cell_type": "code",
   "execution_count": 0,
   "metadata": {
    "colab": {},
    "colab_type": "code",
    "id": "9qttxYbJgLSV"
   },
   "outputs": [],
   "source": [
    "# Using hypothesis testing, find an issue that republicans support more than democrats with p < 0.01"
   ]
  }
 ],
 "metadata": {
  "colab": {
   "collapsed_sections": [],
   "include_colab_link": true,
   "name": "Evgenii_Dudeiko_DSPT3_131_Statistics_Probability_Assignment.ipynb",
   "provenance": []
  },
  "kernelspec": {
   "display_name": "Python 3",
   "language": "python",
   "name": "python3"
  },
  "language_info": {
   "codemirror_mode": {
    "name": "ipython",
    "version": 3
   },
   "file_extension": ".py",
   "mimetype": "text/x-python",
   "name": "python",
   "nbconvert_exporter": "python",
   "pygments_lexer": "ipython3",
   "version": "3.7.4"
  }
 },
 "nbformat": 4,
 "nbformat_minor": 1
}
