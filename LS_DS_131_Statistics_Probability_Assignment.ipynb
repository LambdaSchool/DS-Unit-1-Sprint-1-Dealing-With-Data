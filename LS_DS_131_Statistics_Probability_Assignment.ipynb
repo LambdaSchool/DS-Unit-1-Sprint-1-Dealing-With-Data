{
  "nbformat": 4,
  "nbformat_minor": 0,
  "metadata": {
    "colab": {
      "name": "LS_DS_131_Statistics_Probability_Assignment.ipynb",
      "version": "0.3.2",
      "provenance": [],
      "include_colab_link": true
    },
    "language_info": {
      "codemirror_mode": {
        "name": "ipython",
        "version": 3
      },
      "file_extension": ".py",
      "mimetype": "text/x-python",
      "name": "python",
      "nbconvert_exporter": "python",
      "pygments_lexer": "ipython3",
      "version": "3.7.3"
    },
    "kernelspec": {
      "display_name": "Python 3",
      "language": "python",
      "name": "python3"
    }
  },
  "cells": [
    {
      "cell_type": "markdown",
      "metadata": {
        "id": "view-in-github",
        "colab_type": "text"
      },
      "source": [
        "<a href=\"https://colab.research.google.com/github/tjHendrixx/DS-Unit-1-Sprint-1-Dealing-With-Data/blob/master/LS_DS_131_Statistics_Probability_Assignment.ipynb\" target=\"_parent\"><img src=\"https://colab.research.google.com/assets/colab-badge.svg\" alt=\"Open In Colab\"/></a>"
      ]
    },
    {
      "cell_type": "markdown",
      "metadata": {
        "id": "JFSNuamM25Ng",
        "colab_type": "text"
      },
      "source": [
        "<img align=\"left\" src=\"https://lever-client-logos.s3.amazonaws.com/864372b1-534c-480e-acd5-9711f850815c-1524247202159.png\" width=200>\n",
        "<br></br>\n",
        "<br></br>\n",
        "\n",
        "## *Data Science Unit 1 Sprint 3 Assignment 1*\n",
        "\n",
        "# Apply the t-test to real data\n",
        "\n",
        "Your assignment is to determine which issues have \"statistically significant\" differences between political parties in this [1980s congressional voting data](https://archive.ics.uci.edu/ml/datasets/Congressional+Voting+Records). The data consists of 435 instances (one for each congressperson), a class (democrat or republican), and 16 binary attributes (yes or no for voting for or against certain issues). Be aware - there are missing values!\n",
        "\n",
        "Your goals:\n",
        "\n",
        "1. Load and clean the data (or determine the best method to drop observations when running tests)\n",
        "2. Using hypothesis testing, find an issue that democrats support more than republicans with p < 0.01\n",
        "3. Using hypothesis testing, find an issue that republicans support more than democrats with p < 0.01\n",
        "4. Using hypothesis testing, find an issue where the difference between republicans and democrats has p > 0.1 (i.e. there may not be much of a difference)\n",
        "\n",
        "Note that this data will involve *2 sample* t-tests, because you're comparing averages across two groups (republicans and democrats) rather than a single group against a null hypothesis.\n",
        "\n",
        "Stretch goals:\n",
        "\n",
        "1. Refactor your code into functions so it's easy to rerun with arbitrary variables\n",
        "2. Apply hypothesis testing to your personal project data (for the purposes of this notebook you can type a summary of the hypothesis you formed and tested)"
      ]
    },
    {
      "cell_type": "code",
      "metadata": {
        "id": "y1OjGXL025Nl",
        "colab_type": "code",
        "colab": {}
      },
      "source": [
        "import pandas as pd\n",
        "import matplotlib.pyplot as plt\n",
        "import seaborn as sns \n",
        "\n",
        "\n",
        "sns.set()"
      ],
      "execution_count": 0,
      "outputs": []
    },
    {
      "cell_type": "code",
      "metadata": {
        "id": "ANzZQRd625Nx",
        "colab_type": "code",
        "colab": {}
      },
      "source": [
        "names = [\n",
        "    'Class Name',\n",
        "    'handicapped-infants',\n",
        "    'water-project-cost-sharing',\n",
        "    'adoption-of-the-budget-resolution',\n",
        "    'physician-fee-freeze',\n",
        "    'el-salvador-aid',\n",
        "    'religious-groups-in-schools',\n",
        "    'anti-satellite-test-ban',\n",
        "    'aid-to-nicaraguan-contras',\n",
        "    'mx-missile',\n",
        "   'immigration',\n",
        "   'synfuels-corporation-cutback',\n",
        "   'education-spending',\n",
        "   'superfund-right-to-sue',\n",
        "   'crime',\n",
        "   'duty-free-exports',\n",
        "   'export-administration-act-south-africa']"
      ],
      "execution_count": 0,
      "outputs": []
    },
    {
      "cell_type": "code",
      "metadata": {
        "id": "0a9jWIYN25N5",
        "colab_type": "code",
        "colab": {}
      },
      "source": [
        "DF = pd.read_csv('https://archive.ics.uci.edu/ml/machine-learning-databases/voting-records/house-votes-84.data', header=None, names=names)"
      ],
      "execution_count": 0,
      "outputs": []
    },
    {
      "cell_type": "code",
      "metadata": {
        "id": "v-dAJwT125N8",
        "colab_type": "code",
        "colab": {}
      },
      "source": [
        "df = pd.read_csv('https://archive.ics.uci.edu/ml/machine-learning-databases/voting-records/house-votes-84.data', index_col='Class Name', header=None, names=names)"
      ],
      "execution_count": 0,
      "outputs": []
    },
    {
      "cell_type": "code",
      "metadata": {
        "id": "Dpt8HkfH25OD",
        "colab_type": "code",
        "colab": {}
      },
      "source": [
        "df = df.replace(['n','y','?'],[-1,1,0])"
      ],
      "execution_count": 0,
      "outputs": []
    },
    {
      "cell_type": "code",
      "metadata": {
        "id": "9fKSsj6R25OI",
        "colab_type": "code",
        "colab": {},
        "outputId": "b3cfb320-5484-463a-ba8d-b2cacd973d34"
      },
      "source": [
        "DF.head()"
      ],
      "execution_count": 0,
      "outputs": [
        {
          "output_type": "execute_result",
          "data": {
            "text/html": [
              "<div>\n",
              "<style scoped>\n",
              "    .dataframe tbody tr th:only-of-type {\n",
              "        vertical-align: middle;\n",
              "    }\n",
              "\n",
              "    .dataframe tbody tr th {\n",
              "        vertical-align: top;\n",
              "    }\n",
              "\n",
              "    .dataframe thead th {\n",
              "        text-align: right;\n",
              "    }\n",
              "</style>\n",
              "<table border=\"1\" class=\"dataframe\">\n",
              "  <thead>\n",
              "    <tr style=\"text-align: right;\">\n",
              "      <th></th>\n",
              "      <th>Class Name</th>\n",
              "      <th>handicapped-infants</th>\n",
              "      <th>water-project-cost-sharing</th>\n",
              "      <th>adoption-of-the-budget-resolution</th>\n",
              "      <th>physician-fee-freeze</th>\n",
              "      <th>el-salvador-aid</th>\n",
              "      <th>religious-groups-in-schools</th>\n",
              "      <th>anti-satellite-test-ban</th>\n",
              "      <th>aid-to-nicaraguan-contras</th>\n",
              "      <th>mx-missile</th>\n",
              "      <th>immigration</th>\n",
              "      <th>synfuels-corporation-cutback</th>\n",
              "      <th>education-spending</th>\n",
              "      <th>superfund-right-to-sue</th>\n",
              "      <th>crime</th>\n",
              "      <th>duty-free-exports</th>\n",
              "      <th>export-administration-act-south-africa</th>\n",
              "    </tr>\n",
              "  </thead>\n",
              "  <tbody>\n",
              "    <tr>\n",
              "      <th>0</th>\n",
              "      <td>republican</td>\n",
              "      <td>n</td>\n",
              "      <td>y</td>\n",
              "      <td>n</td>\n",
              "      <td>y</td>\n",
              "      <td>y</td>\n",
              "      <td>y</td>\n",
              "      <td>n</td>\n",
              "      <td>n</td>\n",
              "      <td>n</td>\n",
              "      <td>y</td>\n",
              "      <td>?</td>\n",
              "      <td>y</td>\n",
              "      <td>y</td>\n",
              "      <td>y</td>\n",
              "      <td>n</td>\n",
              "      <td>y</td>\n",
              "    </tr>\n",
              "    <tr>\n",
              "      <th>1</th>\n",
              "      <td>republican</td>\n",
              "      <td>n</td>\n",
              "      <td>y</td>\n",
              "      <td>n</td>\n",
              "      <td>y</td>\n",
              "      <td>y</td>\n",
              "      <td>y</td>\n",
              "      <td>n</td>\n",
              "      <td>n</td>\n",
              "      <td>n</td>\n",
              "      <td>n</td>\n",
              "      <td>n</td>\n",
              "      <td>y</td>\n",
              "      <td>y</td>\n",
              "      <td>y</td>\n",
              "      <td>n</td>\n",
              "      <td>?</td>\n",
              "    </tr>\n",
              "    <tr>\n",
              "      <th>2</th>\n",
              "      <td>democrat</td>\n",
              "      <td>?</td>\n",
              "      <td>y</td>\n",
              "      <td>y</td>\n",
              "      <td>?</td>\n",
              "      <td>y</td>\n",
              "      <td>y</td>\n",
              "      <td>n</td>\n",
              "      <td>n</td>\n",
              "      <td>n</td>\n",
              "      <td>n</td>\n",
              "      <td>y</td>\n",
              "      <td>n</td>\n",
              "      <td>y</td>\n",
              "      <td>y</td>\n",
              "      <td>n</td>\n",
              "      <td>n</td>\n",
              "    </tr>\n",
              "    <tr>\n",
              "      <th>3</th>\n",
              "      <td>democrat</td>\n",
              "      <td>n</td>\n",
              "      <td>y</td>\n",
              "      <td>y</td>\n",
              "      <td>n</td>\n",
              "      <td>?</td>\n",
              "      <td>y</td>\n",
              "      <td>n</td>\n",
              "      <td>n</td>\n",
              "      <td>n</td>\n",
              "      <td>n</td>\n",
              "      <td>y</td>\n",
              "      <td>n</td>\n",
              "      <td>y</td>\n",
              "      <td>n</td>\n",
              "      <td>n</td>\n",
              "      <td>y</td>\n",
              "    </tr>\n",
              "    <tr>\n",
              "      <th>4</th>\n",
              "      <td>democrat</td>\n",
              "      <td>y</td>\n",
              "      <td>y</td>\n",
              "      <td>y</td>\n",
              "      <td>n</td>\n",
              "      <td>y</td>\n",
              "      <td>y</td>\n",
              "      <td>n</td>\n",
              "      <td>n</td>\n",
              "      <td>n</td>\n",
              "      <td>n</td>\n",
              "      <td>y</td>\n",
              "      <td>?</td>\n",
              "      <td>y</td>\n",
              "      <td>y</td>\n",
              "      <td>y</td>\n",
              "      <td>y</td>\n",
              "    </tr>\n",
              "  </tbody>\n",
              "</table>\n",
              "</div>"
            ],
            "text/plain": [
              "   Class Name handicapped-infants water-project-cost-sharing  \\\n",
              "0  republican                   n                          y   \n",
              "1  republican                   n                          y   \n",
              "2    democrat                   ?                          y   \n",
              "3    democrat                   n                          y   \n",
              "4    democrat                   y                          y   \n",
              "\n",
              "  adoption-of-the-budget-resolution physician-fee-freeze el-salvador-aid  \\\n",
              "0                                 n                    y               y   \n",
              "1                                 n                    y               y   \n",
              "2                                 y                    ?               y   \n",
              "3                                 y                    n               ?   \n",
              "4                                 y                    n               y   \n",
              "\n",
              "  religious-groups-in-schools anti-satellite-test-ban  \\\n",
              "0                           y                       n   \n",
              "1                           y                       n   \n",
              "2                           y                       n   \n",
              "3                           y                       n   \n",
              "4                           y                       n   \n",
              "\n",
              "  aid-to-nicaraguan-contras mx-missile immigration  \\\n",
              "0                         n          n           y   \n",
              "1                         n          n           n   \n",
              "2                         n          n           n   \n",
              "3                         n          n           n   \n",
              "4                         n          n           n   \n",
              "\n",
              "  synfuels-corporation-cutback education-spending superfund-right-to-sue  \\\n",
              "0                            ?                  y                      y   \n",
              "1                            n                  y                      y   \n",
              "2                            y                  n                      y   \n",
              "3                            y                  n                      y   \n",
              "4                            y                  ?                      y   \n",
              "\n",
              "  crime duty-free-exports export-administration-act-south-africa  \n",
              "0     y                 n                                      y  \n",
              "1     y                 n                                      ?  \n",
              "2     y                 n                                      n  \n",
              "3     n                 n                                      y  \n",
              "4     y                 y                                      y  "
            ]
          },
          "metadata": {
            "tags": []
          },
          "execution_count": 61
        }
      ]
    },
    {
      "cell_type": "code",
      "metadata": {
        "id": "Uy1MG5Fc25OR",
        "colab_type": "code",
        "colab": {},
        "outputId": "6e54d670-62a2-43c5-cdf8-dbc8623fe085"
      },
      "source": [
        "df.head()"
      ],
      "execution_count": 0,
      "outputs": [
        {
          "output_type": "execute_result",
          "data": {
            "text/html": [
              "<div>\n",
              "<style scoped>\n",
              "    .dataframe tbody tr th:only-of-type {\n",
              "        vertical-align: middle;\n",
              "    }\n",
              "\n",
              "    .dataframe tbody tr th {\n",
              "        vertical-align: top;\n",
              "    }\n",
              "\n",
              "    .dataframe thead th {\n",
              "        text-align: right;\n",
              "    }\n",
              "</style>\n",
              "<table border=\"1\" class=\"dataframe\">\n",
              "  <thead>\n",
              "    <tr style=\"text-align: right;\">\n",
              "      <th></th>\n",
              "      <th>handicapped-infants</th>\n",
              "      <th>water-project-cost-sharing</th>\n",
              "      <th>adoption-of-the-budget-resolution</th>\n",
              "      <th>physician-fee-freeze</th>\n",
              "      <th>el-salvador-aid</th>\n",
              "      <th>religious-groups-in-schools</th>\n",
              "      <th>anti-satellite-test-ban</th>\n",
              "      <th>aid-to-nicaraguan-contras</th>\n",
              "      <th>mx-missile</th>\n",
              "      <th>immigration</th>\n",
              "      <th>synfuels-corporation-cutback</th>\n",
              "      <th>education-spending</th>\n",
              "      <th>superfund-right-to-sue</th>\n",
              "      <th>crime</th>\n",
              "      <th>duty-free-exports</th>\n",
              "      <th>export-administration-act-south-africa</th>\n",
              "    </tr>\n",
              "    <tr>\n",
              "      <th>Class Name</th>\n",
              "      <th></th>\n",
              "      <th></th>\n",
              "      <th></th>\n",
              "      <th></th>\n",
              "      <th></th>\n",
              "      <th></th>\n",
              "      <th></th>\n",
              "      <th></th>\n",
              "      <th></th>\n",
              "      <th></th>\n",
              "      <th></th>\n",
              "      <th></th>\n",
              "      <th></th>\n",
              "      <th></th>\n",
              "      <th></th>\n",
              "      <th></th>\n",
              "    </tr>\n",
              "  </thead>\n",
              "  <tbody>\n",
              "    <tr>\n",
              "      <th>republican</th>\n",
              "      <td>-1</td>\n",
              "      <td>1</td>\n",
              "      <td>-1</td>\n",
              "      <td>1</td>\n",
              "      <td>1</td>\n",
              "      <td>1</td>\n",
              "      <td>-1</td>\n",
              "      <td>-1</td>\n",
              "      <td>-1</td>\n",
              "      <td>1</td>\n",
              "      <td>0</td>\n",
              "      <td>1</td>\n",
              "      <td>1</td>\n",
              "      <td>1</td>\n",
              "      <td>-1</td>\n",
              "      <td>1</td>\n",
              "    </tr>\n",
              "    <tr>\n",
              "      <th>republican</th>\n",
              "      <td>-1</td>\n",
              "      <td>1</td>\n",
              "      <td>-1</td>\n",
              "      <td>1</td>\n",
              "      <td>1</td>\n",
              "      <td>1</td>\n",
              "      <td>-1</td>\n",
              "      <td>-1</td>\n",
              "      <td>-1</td>\n",
              "      <td>-1</td>\n",
              "      <td>-1</td>\n",
              "      <td>1</td>\n",
              "      <td>1</td>\n",
              "      <td>1</td>\n",
              "      <td>-1</td>\n",
              "      <td>0</td>\n",
              "    </tr>\n",
              "    <tr>\n",
              "      <th>democrat</th>\n",
              "      <td>0</td>\n",
              "      <td>1</td>\n",
              "      <td>1</td>\n",
              "      <td>0</td>\n",
              "      <td>1</td>\n",
              "      <td>1</td>\n",
              "      <td>-1</td>\n",
              "      <td>-1</td>\n",
              "      <td>-1</td>\n",
              "      <td>-1</td>\n",
              "      <td>1</td>\n",
              "      <td>-1</td>\n",
              "      <td>1</td>\n",
              "      <td>1</td>\n",
              "      <td>-1</td>\n",
              "      <td>-1</td>\n",
              "    </tr>\n",
              "    <tr>\n",
              "      <th>democrat</th>\n",
              "      <td>-1</td>\n",
              "      <td>1</td>\n",
              "      <td>1</td>\n",
              "      <td>-1</td>\n",
              "      <td>0</td>\n",
              "      <td>1</td>\n",
              "      <td>-1</td>\n",
              "      <td>-1</td>\n",
              "      <td>-1</td>\n",
              "      <td>-1</td>\n",
              "      <td>1</td>\n",
              "      <td>-1</td>\n",
              "      <td>1</td>\n",
              "      <td>-1</td>\n",
              "      <td>-1</td>\n",
              "      <td>1</td>\n",
              "    </tr>\n",
              "    <tr>\n",
              "      <th>democrat</th>\n",
              "      <td>1</td>\n",
              "      <td>1</td>\n",
              "      <td>1</td>\n",
              "      <td>-1</td>\n",
              "      <td>1</td>\n",
              "      <td>1</td>\n",
              "      <td>-1</td>\n",
              "      <td>-1</td>\n",
              "      <td>-1</td>\n",
              "      <td>-1</td>\n",
              "      <td>1</td>\n",
              "      <td>0</td>\n",
              "      <td>1</td>\n",
              "      <td>1</td>\n",
              "      <td>1</td>\n",
              "      <td>1</td>\n",
              "    </tr>\n",
              "  </tbody>\n",
              "</table>\n",
              "</div>"
            ],
            "text/plain": [
              "            handicapped-infants  water-project-cost-sharing  \\\n",
              "Class Name                                                    \n",
              "republican                   -1                           1   \n",
              "republican                   -1                           1   \n",
              "democrat                      0                           1   \n",
              "democrat                     -1                           1   \n",
              "democrat                      1                           1   \n",
              "\n",
              "            adoption-of-the-budget-resolution  physician-fee-freeze  \\\n",
              "Class Name                                                            \n",
              "republican                                 -1                     1   \n",
              "republican                                 -1                     1   \n",
              "democrat                                    1                     0   \n",
              "democrat                                    1                    -1   \n",
              "democrat                                    1                    -1   \n",
              "\n",
              "            el-salvador-aid  religious-groups-in-schools  \\\n",
              "Class Name                                                 \n",
              "republican                1                            1   \n",
              "republican                1                            1   \n",
              "democrat                  1                            1   \n",
              "democrat                  0                            1   \n",
              "democrat                  1                            1   \n",
              "\n",
              "            anti-satellite-test-ban  aid-to-nicaraguan-contras  mx-missile  \\\n",
              "Class Name                                                                   \n",
              "republican                       -1                         -1          -1   \n",
              "republican                       -1                         -1          -1   \n",
              "democrat                         -1                         -1          -1   \n",
              "democrat                         -1                         -1          -1   \n",
              "democrat                         -1                         -1          -1   \n",
              "\n",
              "            immigration  synfuels-corporation-cutback  education-spending  \\\n",
              "Class Name                                                                  \n",
              "republican            1                             0                   1   \n",
              "republican           -1                            -1                   1   \n",
              "democrat             -1                             1                  -1   \n",
              "democrat             -1                             1                  -1   \n",
              "democrat             -1                             1                   0   \n",
              "\n",
              "            superfund-right-to-sue  crime  duty-free-exports  \\\n",
              "Class Name                                                     \n",
              "republican                       1      1                 -1   \n",
              "republican                       1      1                 -1   \n",
              "democrat                         1      1                 -1   \n",
              "democrat                         1     -1                 -1   \n",
              "democrat                         1      1                  1   \n",
              "\n",
              "            export-administration-act-south-africa  \n",
              "Class Name                                          \n",
              "republican                                       1  \n",
              "republican                                       0  \n",
              "democrat                                        -1  \n",
              "democrat                                         1  \n",
              "democrat                                         1  "
            ]
          },
          "metadata": {
            "tags": []
          },
          "execution_count": 7
        }
      ]
    },
    {
      "cell_type": "code",
      "metadata": {
        "id": "__xbFs3k25OZ",
        "colab_type": "code",
        "colab": {},
        "outputId": "8def2eb3-91cc-48f6-a33e-42d7340ced84"
      },
      "source": [
        "DF.info()"
      ],
      "execution_count": 0,
      "outputs": [
        {
          "output_type": "stream",
          "text": [
            "<class 'pandas.core.frame.DataFrame'>\n",
            "RangeIndex: 435 entries, 0 to 434\n",
            "Data columns (total 17 columns):\n",
            "Class Name                                435 non-null object\n",
            "handicapped-infants                       435 non-null object\n",
            "water-project-cost-sharing                435 non-null object\n",
            "adoption-of-the-budget-resolution         435 non-null object\n",
            "physician-fee-freeze                      435 non-null object\n",
            "el-salvador-aid                           435 non-null object\n",
            "religious-groups-in-schools               435 non-null object\n",
            "anti-satellite-test-ban                   435 non-null object\n",
            "aid-to-nicaraguan-contras                 435 non-null object\n",
            "mx-missile                                435 non-null object\n",
            "immigration                               435 non-null object\n",
            "synfuels-corporation-cutback              435 non-null object\n",
            "education-spending                        435 non-null object\n",
            "superfund-right-to-sue                    435 non-null object\n",
            "crime                                     435 non-null object\n",
            "duty-free-exports                         435 non-null object\n",
            "export-administration-act-south-africa    435 non-null object\n",
            "dtypes: object(17)\n",
            "memory usage: 57.9+ KB\n"
          ],
          "name": "stdout"
        }
      ]
    },
    {
      "cell_type": "code",
      "metadata": {
        "id": "UgNMeqNv25Oe",
        "colab_type": "code",
        "colab": {},
        "outputId": "4c530032-d2ea-4a1d-d658-d5bd8f98ccd1"
      },
      "source": [
        "df.shape\n"
      ],
      "execution_count": 0,
      "outputs": [
        {
          "output_type": "execute_result",
          "data": {
            "text/plain": [
              "(435, 16)"
            ]
          },
          "metadata": {
            "tags": []
          },
          "execution_count": 8
        }
      ]
    },
    {
      "cell_type": "code",
      "metadata": {
        "id": "MAcMf4s225Oo",
        "colab_type": "code",
        "colab": {},
        "outputId": "0a34a3a7-526d-490b-a8b4-5295061cc635"
      },
      "source": [
        "df.info()"
      ],
      "execution_count": 0,
      "outputs": [
        {
          "output_type": "stream",
          "text": [
            "<class 'pandas.core.frame.DataFrame'>\n",
            "Index: 435 entries, republican to republican\n",
            "Data columns (total 16 columns):\n",
            "handicapped-infants                       435 non-null int64\n",
            "water-project-cost-sharing                435 non-null int64\n",
            "adoption-of-the-budget-resolution         435 non-null int64\n",
            "physician-fee-freeze                      435 non-null int64\n",
            "el-salvador-aid                           435 non-null int64\n",
            "religious-groups-in-schools               435 non-null int64\n",
            "anti-satellite-test-ban                   435 non-null int64\n",
            "aid-to-nicaraguan-contras                 435 non-null int64\n",
            "mx-missile                                435 non-null int64\n",
            "immigration                               435 non-null int64\n",
            "synfuels-corporation-cutback              435 non-null int64\n",
            "education-spending                        435 non-null int64\n",
            "superfund-right-to-sue                    435 non-null int64\n",
            "crime                                     435 non-null int64\n",
            "duty-free-exports                         435 non-null int64\n",
            "export-administration-act-south-africa    435 non-null int64\n",
            "dtypes: int64(16)\n",
            "memory usage: 57.8+ KB\n"
          ],
          "name": "stdout"
        }
      ]
    },
    {
      "cell_type": "code",
      "metadata": {
        "id": "gequFhXu25Ov",
        "colab_type": "code",
        "colab": {}
      },
      "source": [
        "col_lst = df.columns\n"
      ],
      "execution_count": 0,
      "outputs": []
    },
    {
      "cell_type": "code",
      "metadata": {
        "id": "4G9MPlId25Oy",
        "colab_type": "code",
        "colab": {},
        "outputId": "b3a9ad54-a871-48d7-b985-d45142eae44f"
      },
      "source": [
        "col_lst\n"
      ],
      "execution_count": 0,
      "outputs": [
        {
          "output_type": "execute_result",
          "data": {
            "text/plain": [
              "Index(['handicapped-infants', 'water-project-cost-sharing',\n",
              "       'adoption-of-the-budget-resolution', 'physician-fee-freeze',\n",
              "       'el-salvador-aid', 'religious-groups-in-schools',\n",
              "       'anti-satellite-test-ban', 'aid-to-nicaraguan-contras', 'mx-missile',\n",
              "       'immigration', 'synfuels-corporation-cutback', 'education-spending',\n",
              "       'superfund-right-to-sue', 'crime', 'duty-free-exports',\n",
              "       'export-administration-act-south-africa'],\n",
              "      dtype='object')"
            ]
          },
          "metadata": {
            "tags": []
          },
          "execution_count": 11
        }
      ]
    },
    {
      "cell_type": "code",
      "metadata": {
        "id": "bk-3HSs825O4",
        "colab_type": "code",
        "colab": {}
      },
      "source": [
        "idx_lst = df.index"
      ],
      "execution_count": 0,
      "outputs": []
    },
    {
      "cell_type": "code",
      "metadata": {
        "id": "mRE-gM0425O7",
        "colab_type": "code",
        "colab": {},
        "outputId": "333fb12a-287f-41ab-b513-41fd5038be20"
      },
      "source": [
        "idx_lst"
      ],
      "execution_count": 0,
      "outputs": [
        {
          "output_type": "execute_result",
          "data": {
            "text/plain": [
              "Index(['republican', 'republican', 'democrat', 'democrat', 'democrat',\n",
              "       'democrat', 'democrat', 'republican', 'republican', 'democrat',\n",
              "       ...\n",
              "       'democrat', 'democrat', 'republican', 'democrat', 'democrat',\n",
              "       'republican', 'democrat', 'republican', 'republican', 'republican'],\n",
              "      dtype='object', name='Class Name', length=435)"
            ]
          },
          "metadata": {
            "tags": []
          },
          "execution_count": 13
        }
      ]
    },
    {
      "cell_type": "code",
      "metadata": {
        "id": "_ooSZotm25O_",
        "colab_type": "code",
        "colab": {}
      },
      "source": [
        "transposed = df.T"
      ],
      "execution_count": 0,
      "outputs": []
    },
    {
      "cell_type": "code",
      "metadata": {
        "id": "GmeTVE8E25PE",
        "colab_type": "code",
        "colab": {},
        "outputId": "974eaf61-e48a-46b9-8fb6-e40ef49867cb"
      },
      "source": [
        "plt.plot(transposed);"
      ],
      "execution_count": 0,
      "outputs": [
        {
          "output_type": "display_data",
          "data": {
            "image/png": "[encoded data removed]",
            "text/plain": [
              "<Figure size 432x288 with 1 Axes>"
            ]
          },
          "metadata": {
            "tags": [],
            "needs_background": "light"
          }
        }
      ]
    },
    {
      "cell_type": "code",
      "metadata": {
        "id": "bqlXveC_25PI",
        "colab_type": "code",
        "colab": {},
        "outputId": "094f70e4-00d9-4e3f-9b4a-ae07f40a9f53"
      },
      "source": [
        "transposed.head()"
      ],
      "execution_count": 0,
      "outputs": [
        {
          "output_type": "execute_result",
          "data": {
            "text/html": [
              "<div>\n",
              "<style scoped>\n",
              "    .dataframe tbody tr th:only-of-type {\n",
              "        vertical-align: middle;\n",
              "    }\n",
              "\n",
              "    .dataframe tbody tr th {\n",
              "        vertical-align: top;\n",
              "    }\n",
              "\n",
              "    .dataframe thead th {\n",
              "        text-align: right;\n",
              "    }\n",
              "</style>\n",
              "<table border=\"1\" class=\"dataframe\">\n",
              "  <thead>\n",
              "    <tr style=\"text-align: right;\">\n",
              "      <th>Class Name</th>\n",
              "      <th>republican</th>\n",
              "      <th>republican</th>\n",
              "      <th>democrat</th>\n",
              "      <th>democrat</th>\n",
              "      <th>democrat</th>\n",
              "      <th>democrat</th>\n",
              "      <th>democrat</th>\n",
              "      <th>republican</th>\n",
              "      <th>republican</th>\n",
              "      <th>democrat</th>\n",
              "      <th>...</th>\n",
              "      <th>democrat</th>\n",
              "      <th>democrat</th>\n",
              "      <th>republican</th>\n",
              "      <th>democrat</th>\n",
              "      <th>democrat</th>\n",
              "      <th>republican</th>\n",
              "      <th>democrat</th>\n",
              "      <th>republican</th>\n",
              "      <th>republican</th>\n",
              "      <th>republican</th>\n",
              "    </tr>\n",
              "  </thead>\n",
              "  <tbody>\n",
              "    <tr>\n",
              "      <th>handicapped-infants</th>\n",
              "      <td>-1</td>\n",
              "      <td>-1</td>\n",
              "      <td>0</td>\n",
              "      <td>-1</td>\n",
              "      <td>1</td>\n",
              "      <td>-1</td>\n",
              "      <td>-1</td>\n",
              "      <td>-1</td>\n",
              "      <td>-1</td>\n",
              "      <td>1</td>\n",
              "      <td>...</td>\n",
              "      <td>-1</td>\n",
              "      <td>1</td>\n",
              "      <td>-1</td>\n",
              "      <td>0</td>\n",
              "      <td>1</td>\n",
              "      <td>-1</td>\n",
              "      <td>-1</td>\n",
              "      <td>-1</td>\n",
              "      <td>-1</td>\n",
              "      <td>-1</td>\n",
              "    </tr>\n",
              "    <tr>\n",
              "      <th>water-project-cost-sharing</th>\n",
              "      <td>1</td>\n",
              "      <td>1</td>\n",
              "      <td>1</td>\n",
              "      <td>1</td>\n",
              "      <td>1</td>\n",
              "      <td>1</td>\n",
              "      <td>1</td>\n",
              "      <td>1</td>\n",
              "      <td>1</td>\n",
              "      <td>1</td>\n",
              "      <td>...</td>\n",
              "      <td>-1</td>\n",
              "      <td>-1</td>\n",
              "      <td>-1</td>\n",
              "      <td>0</td>\n",
              "      <td>-1</td>\n",
              "      <td>-1</td>\n",
              "      <td>-1</td>\n",
              "      <td>0</td>\n",
              "      <td>-1</td>\n",
              "      <td>1</td>\n",
              "    </tr>\n",
              "    <tr>\n",
              "      <th>adoption-of-the-budget-resolution</th>\n",
              "      <td>-1</td>\n",
              "      <td>-1</td>\n",
              "      <td>1</td>\n",
              "      <td>1</td>\n",
              "      <td>1</td>\n",
              "      <td>1</td>\n",
              "      <td>-1</td>\n",
              "      <td>-1</td>\n",
              "      <td>-1</td>\n",
              "      <td>1</td>\n",
              "      <td>...</td>\n",
              "      <td>1</td>\n",
              "      <td>1</td>\n",
              "      <td>-1</td>\n",
              "      <td>0</td>\n",
              "      <td>1</td>\n",
              "      <td>1</td>\n",
              "      <td>1</td>\n",
              "      <td>-1</td>\n",
              "      <td>-1</td>\n",
              "      <td>-1</td>\n",
              "    </tr>\n",
              "    <tr>\n",
              "      <th>physician-fee-freeze</th>\n",
              "      <td>1</td>\n",
              "      <td>1</td>\n",
              "      <td>0</td>\n",
              "      <td>-1</td>\n",
              "      <td>-1</td>\n",
              "      <td>-1</td>\n",
              "      <td>1</td>\n",
              "      <td>1</td>\n",
              "      <td>1</td>\n",
              "      <td>-1</td>\n",
              "      <td>...</td>\n",
              "      <td>-1</td>\n",
              "      <td>-1</td>\n",
              "      <td>1</td>\n",
              "      <td>-1</td>\n",
              "      <td>-1</td>\n",
              "      <td>1</td>\n",
              "      <td>-1</td>\n",
              "      <td>1</td>\n",
              "      <td>1</td>\n",
              "      <td>1</td>\n",
              "    </tr>\n",
              "    <tr>\n",
              "      <th>el-salvador-aid</th>\n",
              "      <td>1</td>\n",
              "      <td>1</td>\n",
              "      <td>1</td>\n",
              "      <td>0</td>\n",
              "      <td>1</td>\n",
              "      <td>1</td>\n",
              "      <td>1</td>\n",
              "      <td>1</td>\n",
              "      <td>1</td>\n",
              "      <td>-1</td>\n",
              "      <td>...</td>\n",
              "      <td>-1</td>\n",
              "      <td>-1</td>\n",
              "      <td>1</td>\n",
              "      <td>-1</td>\n",
              "      <td>0</td>\n",
              "      <td>1</td>\n",
              "      <td>-1</td>\n",
              "      <td>1</td>\n",
              "      <td>1</td>\n",
              "      <td>1</td>\n",
              "    </tr>\n",
              "  </tbody>\n",
              "</table>\n",
              "<p>5 rows × 435 columns</p>\n",
              "</div>"
            ],
            "text/plain": [
              "Class Name                         republican  republican  democrat  democrat  \\\n",
              "handicapped-infants                        -1          -1         0        -1   \n",
              "water-project-cost-sharing                  1           1         1         1   \n",
              "adoption-of-the-budget-resolution          -1          -1         1         1   \n",
              "physician-fee-freeze                        1           1         0        -1   \n",
              "el-salvador-aid                             1           1         1         0   \n",
              "\n",
              "Class Name                         democrat  democrat  democrat  republican  \\\n",
              "handicapped-infants                       1        -1        -1          -1   \n",
              "water-project-cost-sharing                1         1         1           1   \n",
              "adoption-of-the-budget-resolution         1         1        -1          -1   \n",
              "physician-fee-freeze                     -1        -1         1           1   \n",
              "el-salvador-aid                           1         1         1           1   \n",
              "\n",
              "Class Name                         republican  democrat  ...  democrat  \\\n",
              "handicapped-infants                        -1         1  ...        -1   \n",
              "water-project-cost-sharing                  1         1  ...        -1   \n",
              "adoption-of-the-budget-resolution          -1         1  ...         1   \n",
              "physician-fee-freeze                        1        -1  ...        -1   \n",
              "el-salvador-aid                             1        -1  ...        -1   \n",
              "\n",
              "Class Name                         democrat  republican  democrat  democrat  \\\n",
              "handicapped-infants                       1          -1         0         1   \n",
              "water-project-cost-sharing               -1          -1         0        -1   \n",
              "adoption-of-the-budget-resolution         1          -1         0         1   \n",
              "physician-fee-freeze                     -1           1        -1        -1   \n",
              "el-salvador-aid                          -1           1        -1         0   \n",
              "\n",
              "Class Name                         republican  democrat  republican  \\\n",
              "handicapped-infants                        -1        -1          -1   \n",
              "water-project-cost-sharing                 -1        -1           0   \n",
              "adoption-of-the-budget-resolution           1         1          -1   \n",
              "physician-fee-freeze                        1        -1           1   \n",
              "el-salvador-aid                             1        -1           1   \n",
              "\n",
              "Class Name                         republican  republican  \n",
              "handicapped-infants                        -1          -1  \n",
              "water-project-cost-sharing                 -1           1  \n",
              "adoption-of-the-budget-resolution          -1          -1  \n",
              "physician-fee-freeze                        1           1  \n",
              "el-salvador-aid                             1           1  \n",
              "\n",
              "[5 rows x 435 columns]"
            ]
          },
          "metadata": {
            "tags": []
          },
          "execution_count": 15
        }
      ]
    },
    {
      "cell_type": "code",
      "metadata": {
        "id": "0qHXqjD925PO",
        "colab_type": "code",
        "colab": {},
        "outputId": "6ae1981b-2016-446f-f11f-256ec7578d80"
      },
      "source": [
        "transposed.shape"
      ],
      "execution_count": 0,
      "outputs": [
        {
          "output_type": "execute_result",
          "data": {
            "text/plain": [
              "(16, 435)"
            ]
          },
          "metadata": {
            "tags": []
          },
          "execution_count": 16
        }
      ]
    },
    {
      "cell_type": "code",
      "metadata": {
        "id": "QtpSAMbm25PS",
        "colab_type": "code",
        "colab": {}
      },
      "source": [
        "group_sum = df.groupby(level=0).sum()"
      ],
      "execution_count": 0,
      "outputs": []
    },
    {
      "cell_type": "code",
      "metadata": {
        "scrolled": true,
        "id": "Us-D9Eal25PZ",
        "colab_type": "code",
        "colab": {},
        "outputId": "14fe315c-e476-4a28-bc95-cf764e9af38d"
      },
      "source": [
        "group_sum"
      ],
      "execution_count": 0,
      "outputs": [
        {
          "output_type": "execute_result",
          "data": {
            "text/html": [
              "<div>\n",
              "<style scoped>\n",
              "    .dataframe tbody tr th:only-of-type {\n",
              "        vertical-align: middle;\n",
              "    }\n",
              "\n",
              "    .dataframe tbody tr th {\n",
              "        vertical-align: top;\n",
              "    }\n",
              "\n",
              "    .dataframe thead th {\n",
              "        text-align: right;\n",
              "    }\n",
              "</style>\n",
              "<table border=\"1\" class=\"dataframe\">\n",
              "  <thead>\n",
              "    <tr style=\"text-align: right;\">\n",
              "      <th></th>\n",
              "      <th>handicapped-infants</th>\n",
              "      <th>water-project-cost-sharing</th>\n",
              "      <th>adoption-of-the-budget-resolution</th>\n",
              "      <th>physician-fee-freeze</th>\n",
              "      <th>el-salvador-aid</th>\n",
              "      <th>religious-groups-in-schools</th>\n",
              "      <th>anti-satellite-test-ban</th>\n",
              "      <th>aid-to-nicaraguan-contras</th>\n",
              "      <th>mx-missile</th>\n",
              "      <th>immigration</th>\n",
              "      <th>synfuels-corporation-cutback</th>\n",
              "      <th>education-spending</th>\n",
              "      <th>superfund-right-to-sue</th>\n",
              "      <th>crime</th>\n",
              "      <th>duty-free-exports</th>\n",
              "      <th>export-administration-act-south-africa</th>\n",
              "    </tr>\n",
              "    <tr>\n",
              "      <th>Class Name</th>\n",
              "      <th></th>\n",
              "      <th></th>\n",
              "      <th></th>\n",
              "      <th></th>\n",
              "      <th></th>\n",
              "      <th></th>\n",
              "      <th></th>\n",
              "      <th></th>\n",
              "      <th></th>\n",
              "      <th></th>\n",
              "      <th></th>\n",
              "      <th></th>\n",
              "      <th></th>\n",
              "      <th></th>\n",
              "      <th></th>\n",
              "      <th></th>\n",
              "    </tr>\n",
              "  </thead>\n",
              "  <tbody>\n",
              "    <tr>\n",
              "      <th>democrat</th>\n",
              "      <td>54</td>\n",
              "      <td>1</td>\n",
              "      <td>202</td>\n",
              "      <td>-231</td>\n",
              "      <td>-145</td>\n",
              "      <td>-12</td>\n",
              "      <td>141</td>\n",
              "      <td>173</td>\n",
              "      <td>128</td>\n",
              "      <td>-15</td>\n",
              "      <td>3</td>\n",
              "      <td>-177</td>\n",
              "      <td>-106</td>\n",
              "      <td>-77</td>\n",
              "      <td>69</td>\n",
              "      <td>161</td>\n",
              "    </tr>\n",
              "    <tr>\n",
              "      <th>republican</th>\n",
              "      <td>-103</td>\n",
              "      <td>2</td>\n",
              "      <td>-120</td>\n",
              "      <td>161</td>\n",
              "      <td>149</td>\n",
              "      <td>132</td>\n",
              "      <td>-84</td>\n",
              "      <td>-109</td>\n",
              "      <td>-127</td>\n",
              "      <td>19</td>\n",
              "      <td>-117</td>\n",
              "      <td>115</td>\n",
              "      <td>114</td>\n",
              "      <td>155</td>\n",
              "      <td>-128</td>\n",
              "      <td>46</td>\n",
              "    </tr>\n",
              "  </tbody>\n",
              "</table>\n",
              "</div>"
            ],
            "text/plain": [
              "            handicapped-infants  water-project-cost-sharing  \\\n",
              "Class Name                                                    \n",
              "democrat                     54                           1   \n",
              "republican                 -103                           2   \n",
              "\n",
              "            adoption-of-the-budget-resolution  physician-fee-freeze  \\\n",
              "Class Name                                                            \n",
              "democrat                                  202                  -231   \n",
              "republican                               -120                   161   \n",
              "\n",
              "            el-salvador-aid  religious-groups-in-schools  \\\n",
              "Class Name                                                 \n",
              "democrat               -145                          -12   \n",
              "republican              149                          132   \n",
              "\n",
              "            anti-satellite-test-ban  aid-to-nicaraguan-contras  mx-missile  \\\n",
              "Class Name                                                                   \n",
              "democrat                        141                        173         128   \n",
              "republican                      -84                       -109        -127   \n",
              "\n",
              "            immigration  synfuels-corporation-cutback  education-spending  \\\n",
              "Class Name                                                                  \n",
              "democrat            -15                             3                -177   \n",
              "republican           19                          -117                 115   \n",
              "\n",
              "            superfund-right-to-sue  crime  duty-free-exports  \\\n",
              "Class Name                                                     \n",
              "democrat                      -106    -77                 69   \n",
              "republican                     114    155               -128   \n",
              "\n",
              "            export-administration-act-south-africa  \n",
              "Class Name                                          \n",
              "democrat                                       161  \n",
              "republican                                      46  "
            ]
          },
          "metadata": {
            "tags": []
          },
          "execution_count": 31
        }
      ]
    },
    {
      "cell_type": "code",
      "metadata": {
        "id": "cVHe7dRI25Pc",
        "colab_type": "code",
        "colab": {},
        "outputId": "d4054502-bf58-4f6b-e8a2-314414a1fbf2"
      },
      "source": [
        "group_sum.info()"
      ],
      "execution_count": 0,
      "outputs": [
        {
          "output_type": "stream",
          "text": [
            "<class 'pandas.core.frame.DataFrame'>\n",
            "Index: 2 entries, democrat to republican\n",
            "Data columns (total 16 columns):\n",
            "handicapped-infants                       2 non-null int64\n",
            "water-project-cost-sharing                2 non-null int64\n",
            "adoption-of-the-budget-resolution         2 non-null int64\n",
            "physician-fee-freeze                      2 non-null int64\n",
            "el-salvador-aid                           2 non-null int64\n",
            "religious-groups-in-schools               2 non-null int64\n",
            "anti-satellite-test-ban                   2 non-null int64\n",
            "aid-to-nicaraguan-contras                 2 non-null int64\n",
            "mx-missile                                2 non-null int64\n",
            "immigration                               2 non-null int64\n",
            "synfuels-corporation-cutback              2 non-null int64\n",
            "education-spending                        2 non-null int64\n",
            "superfund-right-to-sue                    2 non-null int64\n",
            "crime                                     2 non-null int64\n",
            "duty-free-exports                         2 non-null int64\n",
            "export-administration-act-south-africa    2 non-null int64\n",
            "dtypes: int64(16)\n",
            "memory usage: 352.0+ bytes\n"
          ],
          "name": "stdout"
        }
      ]
    },
    {
      "cell_type": "code",
      "metadata": {
        "id": "fmHiPL_I25Pf",
        "colab_type": "code",
        "colab": {},
        "outputId": "f7b61575-43a6-4bb8-c681-4fe863bc9983"
      },
      "source": [
        "group_sum.plot()"
      ],
      "execution_count": 0,
      "outputs": [
        {
          "output_type": "execute_result",
          "data": {
            "text/plain": [
              "<matplotlib.axes._subplots.AxesSubplot at 0x1a29c9e208>"
            ]
          },
          "metadata": {
            "tags": []
          },
          "execution_count": 89
        },
        {
          "output_type": "display_data",
          "data": {
            "image/png": "[encoded data removed]",
            "text/plain": [
              "<Figure size 432x288 with 1 Axes>"
            ]
          },
          "metadata": {
            "tags": [],
            "needs_background": "light"
          }
        }
      ]
    },
    {
      "cell_type": "code",
      "metadata": {
        "id": "Yd5M__1l25Pk",
        "colab_type": "code",
        "colab": {},
        "outputId": "7099ba25-8bce-4852-e92f-72cf9086fdc3"
      },
      "source": [
        "plt.hist(group_sum)"
      ],
      "execution_count": 0,
      "outputs": [
        {
          "output_type": "execute_result",
          "data": {
            "text/plain": [
              "([array([1., 2., 1., 1., 1., 3., 2., 0., 2., 3.]),\n",
              "  array([0., 0., 6., 1., 0., 2., 1., 2., 3., 1.])],\n",
              " array([-231. , -187.7, -144.4, -101.1,  -57.8,  -14.5,   28.8,   72.1,\n",
              "         115.4,  158.7,  202. ]),\n",
              " <a list of 2 Lists of Patches objects>)"
            ]
          },
          "metadata": {
            "tags": []
          },
          "execution_count": 93
        },
        {
          "output_type": "display_data",
          "data": {
            "image/png": "[encoded data removed]",
            "text/plain": [
              "<Figure size 432x288 with 1 Axes>"
            ]
          },
          "metadata": {
            "tags": [],
            "needs_background": "light"
          }
        }
      ]
    },
    {
      "cell_type": "code",
      "metadata": {
        "id": "plblKY1H25Pn",
        "colab_type": "code",
        "colab": {},
        "outputId": "47351518-21a2-488e-b2c4-5a35dbf477ee"
      },
      "source": [
        "plt.swarmplot(group_sum)"
      ],
      "execution_count": 0,
      "outputs": [
        {
          "output_type": "error",
          "ename": "AttributeError",
          "evalue": "module 'matplotlib.pyplot' has no attribute 'swarmplot'",
          "traceback": [
            "\u001b[0;31m---------------------------------------------------------------------------\u001b[0m",
            "\u001b[0;31mAttributeError\u001b[0m                            Traceback (most recent call last)",
            "\u001b[0;32m<ipython-input-95-4fd4b13c47d9>\u001b[0m in \u001b[0;36m<module>\u001b[0;34m\u001b[0m\n\u001b[0;32m----> 1\u001b[0;31m \u001b[0mplt\u001b[0m\u001b[0;34m.\u001b[0m\u001b[0mswarmplot\u001b[0m\u001b[0;34m(\u001b[0m\u001b[0mgroup_sum\u001b[0m\u001b[0;34m)\u001b[0m\u001b[0;34m\u001b[0m\u001b[0;34m\u001b[0m\u001b[0m\n\u001b[0m",
            "\u001b[0;31mAttributeError\u001b[0m: module 'matplotlib.pyplot' has no attribute 'swarmplot'"
          ]
        }
      ]
    },
    {
      "cell_type": "code",
      "metadata": {
        "id": "eSBLrIQW25Pq",
        "colab_type": "code",
        "colab": {},
        "outputId": "1e2d7037-cdff-4ec8-f7bb-9d2fa133e302"
      },
      "source": [
        "group_sum.T.info()"
      ],
      "execution_count": 0,
      "outputs": [
        {
          "output_type": "stream",
          "text": [
            "<class 'pandas.core.frame.DataFrame'>\n",
            "Index: 16 entries, handicapped-infants to export-administration-act-south-africa\n",
            "Data columns (total 2 columns):\n",
            "democrat      16 non-null int64\n",
            "republican    16 non-null int64\n",
            "dtypes: int64(2)\n",
            "memory usage: 1.0+ KB\n"
          ],
          "name": "stdout"
        }
      ]
    },
    {
      "cell_type": "code",
      "metadata": {
        "id": "aPk0LTdo25Pv",
        "colab_type": "code",
        "colab": {},
        "outputId": "e89c889f-c5bb-4c86-eb97-94c26a804269"
      },
      "source": [
        "sns.heatmap(group_sum.T);"
      ],
      "execution_count": 0,
      "outputs": [
        {
          "output_type": "display_data",
          "data": {
            "image/png": "[encoded data removed]",
            "text/plain": [
              "<Figure size 432x288 with 2 Axes>"
            ]
          },
          "metadata": {
            "tags": [],
            "needs_background": "light"
          }
        }
      ]
    },
    {
      "cell_type": "code",
      "metadata": {
        "id": "RQ2C4OAN25Px",
        "colab_type": "code",
        "colab": {},
        "outputId": "eeebb797-86fb-46aa-9984-98dcc8b0f5be"
      },
      "source": [
        "plt.plot(df);\n"
      ],
      "execution_count": 0,
      "outputs": [
        {
          "output_type": "display_data",
          "data": {
            "image/png": "[encoded data removed]",
            "text/plain": [
              "<Figure size 432x288 with 1 Axes>"
            ]
          },
          "metadata": {
            "tags": [],
            "needs_background": "light"
          }
        }
      ]
    },
    {
      "cell_type": "code",
      "metadata": {
        "id": "o4z0ZSbp25Pz",
        "colab_type": "code",
        "colab": {},
        "outputId": "1a63702a-a25e-4e2a-b7fe-cbf16c22f30d"
      },
      "source": [
        "_ = plt.hist(df)\n",
        "plt.show;"
      ],
      "execution_count": 0,
      "outputs": [
        {
          "output_type": "display_data",
          "data": {
            "image/png": "[encoded data removed]",
            "text/plain": [
              "<Figure size 432x288 with 1 Axes>"
            ]
          },
          "metadata": {
            "tags": [],
            "needs_background": "light"
          }
        }
      ]
    },
    {
      "cell_type": "code",
      "metadata": {
        "id": "KPH__UUJ25P3",
        "colab_type": "code",
        "colab": {},
        "outputId": "c73be0e5-65ae-4545-c913-d26ffb1b223e"
      },
      "source": [
        "DF.head()"
      ],
      "execution_count": 0,
      "outputs": [
        {
          "output_type": "execute_result",
          "data": {
            "text/html": [
              "<div>\n",
              "<style scoped>\n",
              "    .dataframe tbody tr th:only-of-type {\n",
              "        vertical-align: middle;\n",
              "    }\n",
              "\n",
              "    .dataframe tbody tr th {\n",
              "        vertical-align: top;\n",
              "    }\n",
              "\n",
              "    .dataframe thead th {\n",
              "        text-align: right;\n",
              "    }\n",
              "</style>\n",
              "<table border=\"1\" class=\"dataframe\">\n",
              "  <thead>\n",
              "    <tr style=\"text-align: right;\">\n",
              "      <th></th>\n",
              "      <th>Class Name</th>\n",
              "      <th>handicapped-infants</th>\n",
              "      <th>water-project-cost-sharing</th>\n",
              "      <th>adoption-of-the-budget-resolution</th>\n",
              "      <th>physician-fee-freeze</th>\n",
              "      <th>el-salvador-aid</th>\n",
              "      <th>religious-groups-in-schools</th>\n",
              "      <th>anti-satellite-test-ban</th>\n",
              "      <th>aid-to-nicaraguan-contras</th>\n",
              "      <th>mx-missile</th>\n",
              "      <th>immigration</th>\n",
              "      <th>synfuels-corporation-cutback</th>\n",
              "      <th>education-spending</th>\n",
              "      <th>superfund-right-to-sue</th>\n",
              "      <th>crime</th>\n",
              "      <th>duty-free-exports</th>\n",
              "      <th>export-administration-act-south-africa</th>\n",
              "    </tr>\n",
              "  </thead>\n",
              "  <tbody>\n",
              "    <tr>\n",
              "      <th>0</th>\n",
              "      <td>republican</td>\n",
              "      <td>n</td>\n",
              "      <td>y</td>\n",
              "      <td>n</td>\n",
              "      <td>y</td>\n",
              "      <td>y</td>\n",
              "      <td>y</td>\n",
              "      <td>n</td>\n",
              "      <td>n</td>\n",
              "      <td>n</td>\n",
              "      <td>y</td>\n",
              "      <td>?</td>\n",
              "      <td>y</td>\n",
              "      <td>y</td>\n",
              "      <td>y</td>\n",
              "      <td>n</td>\n",
              "      <td>y</td>\n",
              "    </tr>\n",
              "    <tr>\n",
              "      <th>1</th>\n",
              "      <td>republican</td>\n",
              "      <td>n</td>\n",
              "      <td>y</td>\n",
              "      <td>n</td>\n",
              "      <td>y</td>\n",
              "      <td>y</td>\n",
              "      <td>y</td>\n",
              "      <td>n</td>\n",
              "      <td>n</td>\n",
              "      <td>n</td>\n",
              "      <td>n</td>\n",
              "      <td>n</td>\n",
              "      <td>y</td>\n",
              "      <td>y</td>\n",
              "      <td>y</td>\n",
              "      <td>n</td>\n",
              "      <td>?</td>\n",
              "    </tr>\n",
              "    <tr>\n",
              "      <th>2</th>\n",
              "      <td>democrat</td>\n",
              "      <td>?</td>\n",
              "      <td>y</td>\n",
              "      <td>y</td>\n",
              "      <td>?</td>\n",
              "      <td>y</td>\n",
              "      <td>y</td>\n",
              "      <td>n</td>\n",
              "      <td>n</td>\n",
              "      <td>n</td>\n",
              "      <td>n</td>\n",
              "      <td>y</td>\n",
              "      <td>n</td>\n",
              "      <td>y</td>\n",
              "      <td>y</td>\n",
              "      <td>n</td>\n",
              "      <td>n</td>\n",
              "    </tr>\n",
              "    <tr>\n",
              "      <th>3</th>\n",
              "      <td>democrat</td>\n",
              "      <td>n</td>\n",
              "      <td>y</td>\n",
              "      <td>y</td>\n",
              "      <td>n</td>\n",
              "      <td>?</td>\n",
              "      <td>y</td>\n",
              "      <td>n</td>\n",
              "      <td>n</td>\n",
              "      <td>n</td>\n",
              "      <td>n</td>\n",
              "      <td>y</td>\n",
              "      <td>n</td>\n",
              "      <td>y</td>\n",
              "      <td>n</td>\n",
              "      <td>n</td>\n",
              "      <td>y</td>\n",
              "    </tr>\n",
              "    <tr>\n",
              "      <th>4</th>\n",
              "      <td>democrat</td>\n",
              "      <td>y</td>\n",
              "      <td>y</td>\n",
              "      <td>y</td>\n",
              "      <td>n</td>\n",
              "      <td>y</td>\n",
              "      <td>y</td>\n",
              "      <td>n</td>\n",
              "      <td>n</td>\n",
              "      <td>n</td>\n",
              "      <td>n</td>\n",
              "      <td>y</td>\n",
              "      <td>?</td>\n",
              "      <td>y</td>\n",
              "      <td>y</td>\n",
              "      <td>y</td>\n",
              "      <td>y</td>\n",
              "    </tr>\n",
              "  </tbody>\n",
              "</table>\n",
              "</div>"
            ],
            "text/plain": [
              "   Class Name handicapped-infants water-project-cost-sharing  \\\n",
              "0  republican                   n                          y   \n",
              "1  republican                   n                          y   \n",
              "2    democrat                   ?                          y   \n",
              "3    democrat                   n                          y   \n",
              "4    democrat                   y                          y   \n",
              "\n",
              "  adoption-of-the-budget-resolution physician-fee-freeze el-salvador-aid  \\\n",
              "0                                 n                    y               y   \n",
              "1                                 n                    y               y   \n",
              "2                                 y                    ?               y   \n",
              "3                                 y                    n               ?   \n",
              "4                                 y                    n               y   \n",
              "\n",
              "  religious-groups-in-schools anti-satellite-test-ban  \\\n",
              "0                           y                       n   \n",
              "1                           y                       n   \n",
              "2                           y                       n   \n",
              "3                           y                       n   \n",
              "4                           y                       n   \n",
              "\n",
              "  aid-to-nicaraguan-contras mx-missile immigration  \\\n",
              "0                         n          n           y   \n",
              "1                         n          n           n   \n",
              "2                         n          n           n   \n",
              "3                         n          n           n   \n",
              "4                         n          n           n   \n",
              "\n",
              "  synfuels-corporation-cutback education-spending superfund-right-to-sue  \\\n",
              "0                            ?                  y                      y   \n",
              "1                            n                  y                      y   \n",
              "2                            y                  n                      y   \n",
              "3                            y                  n                      y   \n",
              "4                            y                  ?                      y   \n",
              "\n",
              "  crime duty-free-exports export-administration-act-south-africa  \n",
              "0     y                 n                                      y  \n",
              "1     y                 n                                      ?  \n",
              "2     y                 n                                      n  \n",
              "3     n                 n                                      y  \n",
              "4     y                 y                                      y  "
            ]
          },
          "metadata": {
            "tags": []
          },
          "execution_count": 22
        }
      ]
    },
    {
      "cell_type": "code",
      "metadata": {
        "id": "e5Z4j_Q925P5",
        "colab_type": "code",
        "colab": {}
      },
      "source": [
        "DF_trans = DF.T"
      ],
      "execution_count": 0,
      "outputs": []
    },
    {
      "cell_type": "code",
      "metadata": {
        "id": "Hjm6dsM225P7",
        "colab_type": "code",
        "colab": {},
        "outputId": "bf35e268-bbc3-472b-bcc4-77eeefb85ae5"
      },
      "source": [
        "DF_trans.head()"
      ],
      "execution_count": 0,
      "outputs": [
        {
          "output_type": "execute_result",
          "data": {
            "text/html": [
              "<div>\n",
              "<style scoped>\n",
              "    .dataframe tbody tr th:only-of-type {\n",
              "        vertical-align: middle;\n",
              "    }\n",
              "\n",
              "    .dataframe tbody tr th {\n",
              "        vertical-align: top;\n",
              "    }\n",
              "\n",
              "    .dataframe thead th {\n",
              "        text-align: right;\n",
              "    }\n",
              "</style>\n",
              "<table border=\"1\" class=\"dataframe\">\n",
              "  <thead>\n",
              "    <tr style=\"text-align: right;\">\n",
              "      <th></th>\n",
              "      <th>0</th>\n",
              "      <th>1</th>\n",
              "      <th>2</th>\n",
              "      <th>3</th>\n",
              "      <th>4</th>\n",
              "      <th>5</th>\n",
              "      <th>6</th>\n",
              "      <th>7</th>\n",
              "      <th>8</th>\n",
              "      <th>9</th>\n",
              "      <th>...</th>\n",
              "      <th>425</th>\n",
              "      <th>426</th>\n",
              "      <th>427</th>\n",
              "      <th>428</th>\n",
              "      <th>429</th>\n",
              "      <th>430</th>\n",
              "      <th>431</th>\n",
              "      <th>432</th>\n",
              "      <th>433</th>\n",
              "      <th>434</th>\n",
              "    </tr>\n",
              "  </thead>\n",
              "  <tbody>\n",
              "    <tr>\n",
              "      <th>Class Name</th>\n",
              "      <td>republican</td>\n",
              "      <td>republican</td>\n",
              "      <td>democrat</td>\n",
              "      <td>democrat</td>\n",
              "      <td>democrat</td>\n",
              "      <td>democrat</td>\n",
              "      <td>democrat</td>\n",
              "      <td>republican</td>\n",
              "      <td>republican</td>\n",
              "      <td>democrat</td>\n",
              "      <td>...</td>\n",
              "      <td>democrat</td>\n",
              "      <td>democrat</td>\n",
              "      <td>republican</td>\n",
              "      <td>democrat</td>\n",
              "      <td>democrat</td>\n",
              "      <td>republican</td>\n",
              "      <td>democrat</td>\n",
              "      <td>republican</td>\n",
              "      <td>republican</td>\n",
              "      <td>republican</td>\n",
              "    </tr>\n",
              "    <tr>\n",
              "      <th>handicapped-infants</th>\n",
              "      <td>n</td>\n",
              "      <td>n</td>\n",
              "      <td>?</td>\n",
              "      <td>n</td>\n",
              "      <td>y</td>\n",
              "      <td>n</td>\n",
              "      <td>n</td>\n",
              "      <td>n</td>\n",
              "      <td>n</td>\n",
              "      <td>y</td>\n",
              "      <td>...</td>\n",
              "      <td>n</td>\n",
              "      <td>y</td>\n",
              "      <td>n</td>\n",
              "      <td>?</td>\n",
              "      <td>y</td>\n",
              "      <td>n</td>\n",
              "      <td>n</td>\n",
              "      <td>n</td>\n",
              "      <td>n</td>\n",
              "      <td>n</td>\n",
              "    </tr>\n",
              "    <tr>\n",
              "      <th>water-project-cost-sharing</th>\n",
              "      <td>y</td>\n",
              "      <td>y</td>\n",
              "      <td>y</td>\n",
              "      <td>y</td>\n",
              "      <td>y</td>\n",
              "      <td>y</td>\n",
              "      <td>y</td>\n",
              "      <td>y</td>\n",
              "      <td>y</td>\n",
              "      <td>y</td>\n",
              "      <td>...</td>\n",
              "      <td>n</td>\n",
              "      <td>n</td>\n",
              "      <td>n</td>\n",
              "      <td>?</td>\n",
              "      <td>n</td>\n",
              "      <td>n</td>\n",
              "      <td>n</td>\n",
              "      <td>?</td>\n",
              "      <td>n</td>\n",
              "      <td>y</td>\n",
              "    </tr>\n",
              "    <tr>\n",
              "      <th>adoption-of-the-budget-resolution</th>\n",
              "      <td>n</td>\n",
              "      <td>n</td>\n",
              "      <td>y</td>\n",
              "      <td>y</td>\n",
              "      <td>y</td>\n",
              "      <td>y</td>\n",
              "      <td>n</td>\n",
              "      <td>n</td>\n",
              "      <td>n</td>\n",
              "      <td>y</td>\n",
              "      <td>...</td>\n",
              "      <td>y</td>\n",
              "      <td>y</td>\n",
              "      <td>n</td>\n",
              "      <td>?</td>\n",
              "      <td>y</td>\n",
              "      <td>y</td>\n",
              "      <td>y</td>\n",
              "      <td>n</td>\n",
              "      <td>n</td>\n",
              "      <td>n</td>\n",
              "    </tr>\n",
              "    <tr>\n",
              "      <th>physician-fee-freeze</th>\n",
              "      <td>y</td>\n",
              "      <td>y</td>\n",
              "      <td>?</td>\n",
              "      <td>n</td>\n",
              "      <td>n</td>\n",
              "      <td>n</td>\n",
              "      <td>y</td>\n",
              "      <td>y</td>\n",
              "      <td>y</td>\n",
              "      <td>n</td>\n",
              "      <td>...</td>\n",
              "      <td>n</td>\n",
              "      <td>n</td>\n",
              "      <td>y</td>\n",
              "      <td>n</td>\n",
              "      <td>n</td>\n",
              "      <td>y</td>\n",
              "      <td>n</td>\n",
              "      <td>y</td>\n",
              "      <td>y</td>\n",
              "      <td>y</td>\n",
              "    </tr>\n",
              "  </tbody>\n",
              "</table>\n",
              "<p>5 rows × 435 columns</p>\n",
              "</div>"
            ],
            "text/plain": [
              "                                          0           1         2         3    \\\n",
              "Class Name                         republican  republican  democrat  democrat   \n",
              "handicapped-infants                         n           n         ?         n   \n",
              "water-project-cost-sharing                  y           y         y         y   \n",
              "adoption-of-the-budget-resolution           n           n         y         y   \n",
              "physician-fee-freeze                        y           y         ?         n   \n",
              "\n",
              "                                        4         5         6           7    \\\n",
              "Class Name                         democrat  democrat  democrat  republican   \n",
              "handicapped-infants                       y         n         n           n   \n",
              "water-project-cost-sharing                y         y         y           y   \n",
              "adoption-of-the-budget-resolution         y         y         n           n   \n",
              "physician-fee-freeze                      n         n         y           y   \n",
              "\n",
              "                                          8         9    ...       425  \\\n",
              "Class Name                         republican  democrat  ...  democrat   \n",
              "handicapped-infants                         n         y  ...         n   \n",
              "water-project-cost-sharing                  y         y  ...         n   \n",
              "adoption-of-the-budget-resolution           n         y  ...         y   \n",
              "physician-fee-freeze                        y         n  ...         n   \n",
              "\n",
              "                                        426         427       428       429  \\\n",
              "Class Name                         democrat  republican  democrat  democrat   \n",
              "handicapped-infants                       y           n         ?         y   \n",
              "water-project-cost-sharing                n           n         ?         n   \n",
              "adoption-of-the-budget-resolution         y           n         ?         y   \n",
              "physician-fee-freeze                      n           y         n         n   \n",
              "\n",
              "                                          430       431         432  \\\n",
              "Class Name                         republican  democrat  republican   \n",
              "handicapped-infants                         n         n           n   \n",
              "water-project-cost-sharing                  n         n           ?   \n",
              "adoption-of-the-budget-resolution           y         y           n   \n",
              "physician-fee-freeze                        y         n           y   \n",
              "\n",
              "                                          433         434  \n",
              "Class Name                         republican  republican  \n",
              "handicapped-infants                         n           n  \n",
              "water-project-cost-sharing                  n           y  \n",
              "adoption-of-the-budget-resolution           n           n  \n",
              "physician-fee-freeze                        y           y  \n",
              "\n",
              "[5 rows x 435 columns]"
            ]
          },
          "metadata": {
            "tags": []
          },
          "execution_count": 24
        }
      ]
    },
    {
      "cell_type": "code",
      "metadata": {
        "id": "2-2YcTLJ25P9",
        "colab_type": "code",
        "colab": {},
        "outputId": "47a6f179-ee9f-453f-dd29-d457f6c47cf6"
      },
      "source": [
        "DF_trans.info()"
      ],
      "execution_count": 0,
      "outputs": [
        {
          "output_type": "stream",
          "text": [
            "<class 'pandas.core.frame.DataFrame'>\n",
            "Index: 17 entries, Class Name to export-administration-act-south-africa\n",
            "Columns: 435 entries, 0 to 434\n",
            "dtypes: object(435)\n",
            "memory usage: 58.5+ KB\n"
          ],
          "name": "stdout"
        }
      ]
    },
    {
      "cell_type": "code",
      "metadata": {
        "scrolled": true,
        "id": "fiw9JaHk25P_",
        "colab_type": "code",
        "colab": {},
        "outputId": "12898163-3622-41ee-9eae-7c01b8a75dbb"
      },
      "source": [
        "DF.head()"
      ],
      "execution_count": 0,
      "outputs": [
        {
          "output_type": "execute_result",
          "data": {
            "text/html": [
              "<div>\n",
              "<style scoped>\n",
              "    .dataframe tbody tr th:only-of-type {\n",
              "        vertical-align: middle;\n",
              "    }\n",
              "\n",
              "    .dataframe tbody tr th {\n",
              "        vertical-align: top;\n",
              "    }\n",
              "\n",
              "    .dataframe thead th {\n",
              "        text-align: right;\n",
              "    }\n",
              "</style>\n",
              "<table border=\"1\" class=\"dataframe\">\n",
              "  <thead>\n",
              "    <tr style=\"text-align: right;\">\n",
              "      <th></th>\n",
              "      <th>Class Name</th>\n",
              "      <th>handicapped-infants</th>\n",
              "      <th>water-project-cost-sharing</th>\n",
              "      <th>adoption-of-the-budget-resolution</th>\n",
              "      <th>physician-fee-freeze</th>\n",
              "      <th>el-salvador-aid</th>\n",
              "      <th>religious-groups-in-schools</th>\n",
              "      <th>anti-satellite-test-ban</th>\n",
              "      <th>aid-to-nicaraguan-contras</th>\n",
              "      <th>mx-missile</th>\n",
              "      <th>immigration</th>\n",
              "      <th>synfuels-corporation-cutback</th>\n",
              "      <th>education-spending</th>\n",
              "      <th>superfund-right-to-sue</th>\n",
              "      <th>crime</th>\n",
              "      <th>duty-free-exports</th>\n",
              "      <th>export-administration-act-south-africa</th>\n",
              "    </tr>\n",
              "  </thead>\n",
              "  <tbody>\n",
              "    <tr>\n",
              "      <th>0</th>\n",
              "      <td>republican</td>\n",
              "      <td>n</td>\n",
              "      <td>y</td>\n",
              "      <td>n</td>\n",
              "      <td>y</td>\n",
              "      <td>y</td>\n",
              "      <td>y</td>\n",
              "      <td>n</td>\n",
              "      <td>n</td>\n",
              "      <td>n</td>\n",
              "      <td>y</td>\n",
              "      <td>?</td>\n",
              "      <td>y</td>\n",
              "      <td>y</td>\n",
              "      <td>y</td>\n",
              "      <td>n</td>\n",
              "      <td>y</td>\n",
              "    </tr>\n",
              "    <tr>\n",
              "      <th>1</th>\n",
              "      <td>republican</td>\n",
              "      <td>n</td>\n",
              "      <td>y</td>\n",
              "      <td>n</td>\n",
              "      <td>y</td>\n",
              "      <td>y</td>\n",
              "      <td>y</td>\n",
              "      <td>n</td>\n",
              "      <td>n</td>\n",
              "      <td>n</td>\n",
              "      <td>n</td>\n",
              "      <td>n</td>\n",
              "      <td>y</td>\n",
              "      <td>y</td>\n",
              "      <td>y</td>\n",
              "      <td>n</td>\n",
              "      <td>?</td>\n",
              "    </tr>\n",
              "    <tr>\n",
              "      <th>2</th>\n",
              "      <td>democrat</td>\n",
              "      <td>?</td>\n",
              "      <td>y</td>\n",
              "      <td>y</td>\n",
              "      <td>?</td>\n",
              "      <td>y</td>\n",
              "      <td>y</td>\n",
              "      <td>n</td>\n",
              "      <td>n</td>\n",
              "      <td>n</td>\n",
              "      <td>n</td>\n",
              "      <td>y</td>\n",
              "      <td>n</td>\n",
              "      <td>y</td>\n",
              "      <td>y</td>\n",
              "      <td>n</td>\n",
              "      <td>n</td>\n",
              "    </tr>\n",
              "    <tr>\n",
              "      <th>3</th>\n",
              "      <td>democrat</td>\n",
              "      <td>n</td>\n",
              "      <td>y</td>\n",
              "      <td>y</td>\n",
              "      <td>n</td>\n",
              "      <td>?</td>\n",
              "      <td>y</td>\n",
              "      <td>n</td>\n",
              "      <td>n</td>\n",
              "      <td>n</td>\n",
              "      <td>n</td>\n",
              "      <td>y</td>\n",
              "      <td>n</td>\n",
              "      <td>y</td>\n",
              "      <td>n</td>\n",
              "      <td>n</td>\n",
              "      <td>y</td>\n",
              "    </tr>\n",
              "    <tr>\n",
              "      <th>4</th>\n",
              "      <td>democrat</td>\n",
              "      <td>y</td>\n",
              "      <td>y</td>\n",
              "      <td>y</td>\n",
              "      <td>n</td>\n",
              "      <td>y</td>\n",
              "      <td>y</td>\n",
              "      <td>n</td>\n",
              "      <td>n</td>\n",
              "      <td>n</td>\n",
              "      <td>n</td>\n",
              "      <td>y</td>\n",
              "      <td>?</td>\n",
              "      <td>y</td>\n",
              "      <td>y</td>\n",
              "      <td>y</td>\n",
              "      <td>y</td>\n",
              "    </tr>\n",
              "  </tbody>\n",
              "</table>\n",
              "</div>"
            ],
            "text/plain": [
              "   Class Name handicapped-infants water-project-cost-sharing  \\\n",
              "0  republican                   n                          y   \n",
              "1  republican                   n                          y   \n",
              "2    democrat                   ?                          y   \n",
              "3    democrat                   n                          y   \n",
              "4    democrat                   y                          y   \n",
              "\n",
              "  adoption-of-the-budget-resolution physician-fee-freeze el-salvador-aid  \\\n",
              "0                                 n                    y               y   \n",
              "1                                 n                    y               y   \n",
              "2                                 y                    ?               y   \n",
              "3                                 y                    n               ?   \n",
              "4                                 y                    n               y   \n",
              "\n",
              "  religious-groups-in-schools anti-satellite-test-ban  \\\n",
              "0                           y                       n   \n",
              "1                           y                       n   \n",
              "2                           y                       n   \n",
              "3                           y                       n   \n",
              "4                           y                       n   \n",
              "\n",
              "  aid-to-nicaraguan-contras mx-missile immigration  \\\n",
              "0                         n          n           y   \n",
              "1                         n          n           n   \n",
              "2                         n          n           n   \n",
              "3                         n          n           n   \n",
              "4                         n          n           n   \n",
              "\n",
              "  synfuels-corporation-cutback education-spending superfund-right-to-sue  \\\n",
              "0                            ?                  y                      y   \n",
              "1                            n                  y                      y   \n",
              "2                            y                  n                      y   \n",
              "3                            y                  n                      y   \n",
              "4                            y                  ?                      y   \n",
              "\n",
              "  crime duty-free-exports export-administration-act-south-africa  \n",
              "0     y                 n                                      y  \n",
              "1     y                 n                                      ?  \n",
              "2     y                 n                                      n  \n",
              "3     n                 n                                      y  \n",
              "4     y                 y                                      y  "
            ]
          },
          "metadata": {
            "tags": []
          },
          "execution_count": 25
        }
      ]
    },
    {
      "cell_type": "code",
      "metadata": {
        "id": "h_UiWRH425QE",
        "colab_type": "code",
        "colab": {}
      },
      "source": [
        "grouped = group_sum.T"
      ],
      "execution_count": 0,
      "outputs": []
    },
    {
      "cell_type": "code",
      "metadata": {
        "id": "ozXDsMah25QF",
        "colab_type": "code",
        "colab": {}
      },
      "source": [
        "grouped['Party Division'] = abs(abs(grouped.democrat) - abs(grouped.republican))"
      ],
      "execution_count": 0,
      "outputs": []
    },
    {
      "cell_type": "code",
      "metadata": {
        "id": "YGbG2bAr25QH",
        "colab_type": "code",
        "colab": {},
        "outputId": "83bcd1ad-5e6d-40d6-bd19-2c12e5f3ab9c"
      },
      "source": [
        "grouped.plot()"
      ],
      "execution_count": 0,
      "outputs": [
        {
          "output_type": "execute_result",
          "data": {
            "text/plain": [
              "<matplotlib.axes._subplots.AxesSubplot at 0x1a28d4aeb8>"
            ]
          },
          "metadata": {
            "tags": []
          },
          "execution_count": 84
        },
        {
          "output_type": "display_data",
          "data": {
            "image/png": "[encoded data removed]",
            "text/plain": [
              "<Figure size 432x288 with 1 Axes>"
            ]
          },
          "metadata": {
            "tags": [],
            "needs_background": "light"
          }
        }
      ]
    },
    {
      "cell_type": "code",
      "metadata": {
        "id": "EVVmr3IL25QK",
        "colab_type": "code",
        "colab": {},
        "outputId": "9d24a8e5-1a98-4343-ebb3-9fb3c56a52cb"
      },
      "source": [
        "grouped.boxplot();"
      ],
      "execution_count": 0,
      "outputs": [
        {
          "output_type": "display_data",
          "data": {
            "image/png": "[encoded data removed]",
            "text/plain": [
              "<Figure size 432x288 with 1 Axes>"
            ]
          },
          "metadata": {
            "tags": [],
            "needs_background": "light"
          }
        }
      ]
    },
    {
      "cell_type": "code",
      "metadata": {
        "id": "mEiJrpOY25QP",
        "colab_type": "code",
        "colab": {}
      },
      "source": [
        ""
      ],
      "execution_count": 0,
      "outputs": []
    },
    {
      "cell_type": "code",
      "metadata": {
        "id": "urFso5yG25QR",
        "colab_type": "code",
        "colab": {},
        "outputId": "5c657af6-be97-4262-fff2-51be4f26d0f7"
      },
      "source": [
        "grouped.head(25)"
      ],
      "execution_count": 0,
      "outputs": [
        {
          "output_type": "execute_result",
          "data": {
            "text/html": [
              "<div>\n",
              "<style scoped>\n",
              "    .dataframe tbody tr th:only-of-type {\n",
              "        vertical-align: middle;\n",
              "    }\n",
              "\n",
              "    .dataframe tbody tr th {\n",
              "        vertical-align: top;\n",
              "    }\n",
              "\n",
              "    .dataframe thead th {\n",
              "        text-align: right;\n",
              "    }\n",
              "</style>\n",
              "<table border=\"1\" class=\"dataframe\">\n",
              "  <thead>\n",
              "    <tr style=\"text-align: right;\">\n",
              "      <th>Class Name</th>\n",
              "      <th>democrat</th>\n",
              "      <th>republican</th>\n",
              "      <th>Party Division</th>\n",
              "      <th>Democrat</th>\n",
              "    </tr>\n",
              "  </thead>\n",
              "  <tbody>\n",
              "    <tr>\n",
              "      <th>handicapped-infants</th>\n",
              "      <td>54</td>\n",
              "      <td>-103</td>\n",
              "      <td>49</td>\n",
              "      <td>54</td>\n",
              "    </tr>\n",
              "    <tr>\n",
              "      <th>water-project-cost-sharing</th>\n",
              "      <td>1</td>\n",
              "      <td>2</td>\n",
              "      <td>1</td>\n",
              "      <td>1</td>\n",
              "    </tr>\n",
              "    <tr>\n",
              "      <th>adoption-of-the-budget-resolution</th>\n",
              "      <td>202</td>\n",
              "      <td>-120</td>\n",
              "      <td>82</td>\n",
              "      <td>202</td>\n",
              "    </tr>\n",
              "    <tr>\n",
              "      <th>physician-fee-freeze</th>\n",
              "      <td>-231</td>\n",
              "      <td>161</td>\n",
              "      <td>70</td>\n",
              "      <td>231</td>\n",
              "    </tr>\n",
              "    <tr>\n",
              "      <th>el-salvador-aid</th>\n",
              "      <td>-145</td>\n",
              "      <td>149</td>\n",
              "      <td>4</td>\n",
              "      <td>145</td>\n",
              "    </tr>\n",
              "    <tr>\n",
              "      <th>religious-groups-in-schools</th>\n",
              "      <td>-12</td>\n",
              "      <td>132</td>\n",
              "      <td>120</td>\n",
              "      <td>12</td>\n",
              "    </tr>\n",
              "    <tr>\n",
              "      <th>anti-satellite-test-ban</th>\n",
              "      <td>141</td>\n",
              "      <td>-84</td>\n",
              "      <td>57</td>\n",
              "      <td>141</td>\n",
              "    </tr>\n",
              "    <tr>\n",
              "      <th>aid-to-nicaraguan-contras</th>\n",
              "      <td>173</td>\n",
              "      <td>-109</td>\n",
              "      <td>64</td>\n",
              "      <td>173</td>\n",
              "    </tr>\n",
              "    <tr>\n",
              "      <th>mx-missile</th>\n",
              "      <td>128</td>\n",
              "      <td>-127</td>\n",
              "      <td>1</td>\n",
              "      <td>128</td>\n",
              "    </tr>\n",
              "    <tr>\n",
              "      <th>immigration</th>\n",
              "      <td>-15</td>\n",
              "      <td>19</td>\n",
              "      <td>4</td>\n",
              "      <td>15</td>\n",
              "    </tr>\n",
              "    <tr>\n",
              "      <th>synfuels-corporation-cutback</th>\n",
              "      <td>3</td>\n",
              "      <td>-117</td>\n",
              "      <td>114</td>\n",
              "      <td>3</td>\n",
              "    </tr>\n",
              "    <tr>\n",
              "      <th>education-spending</th>\n",
              "      <td>-177</td>\n",
              "      <td>115</td>\n",
              "      <td>62</td>\n",
              "      <td>177</td>\n",
              "    </tr>\n",
              "    <tr>\n",
              "      <th>superfund-right-to-sue</th>\n",
              "      <td>-106</td>\n",
              "      <td>114</td>\n",
              "      <td>8</td>\n",
              "      <td>106</td>\n",
              "    </tr>\n",
              "    <tr>\n",
              "      <th>crime</th>\n",
              "      <td>-77</td>\n",
              "      <td>155</td>\n",
              "      <td>78</td>\n",
              "      <td>77</td>\n",
              "    </tr>\n",
              "    <tr>\n",
              "      <th>duty-free-exports</th>\n",
              "      <td>69</td>\n",
              "      <td>-128</td>\n",
              "      <td>59</td>\n",
              "      <td>69</td>\n",
              "    </tr>\n",
              "    <tr>\n",
              "      <th>export-administration-act-south-africa</th>\n",
              "      <td>161</td>\n",
              "      <td>46</td>\n",
              "      <td>115</td>\n",
              "      <td>161</td>\n",
              "    </tr>\n",
              "  </tbody>\n",
              "</table>\n",
              "</div>"
            ],
            "text/plain": [
              "Class Name                              democrat  republican  Party Division  \\\n",
              "handicapped-infants                           54        -103              49   \n",
              "water-project-cost-sharing                     1           2               1   \n",
              "adoption-of-the-budget-resolution            202        -120              82   \n",
              "physician-fee-freeze                        -231         161              70   \n",
              "el-salvador-aid                             -145         149               4   \n",
              "religious-groups-in-schools                  -12         132             120   \n",
              "anti-satellite-test-ban                      141         -84              57   \n",
              "aid-to-nicaraguan-contras                    173        -109              64   \n",
              "mx-missile                                   128        -127               1   \n",
              "immigration                                  -15          19               4   \n",
              "synfuels-corporation-cutback                   3        -117             114   \n",
              "education-spending                          -177         115              62   \n",
              "superfund-right-to-sue                      -106         114               8   \n",
              "crime                                        -77         155              78   \n",
              "duty-free-exports                             69        -128              59   \n",
              "export-administration-act-south-africa       161          46             115   \n",
              "\n",
              "Class Name                              Democrat  \n",
              "handicapped-infants                           54  \n",
              "water-project-cost-sharing                     1  \n",
              "adoption-of-the-budget-resolution            202  \n",
              "physician-fee-freeze                         231  \n",
              "el-salvador-aid                              145  \n",
              "religious-groups-in-schools                   12  \n",
              "anti-satellite-test-ban                      141  \n",
              "aid-to-nicaraguan-contras                    173  \n",
              "mx-missile                                   128  \n",
              "immigration                                   15  \n",
              "synfuels-corporation-cutback                   3  \n",
              "education-spending                           177  \n",
              "superfund-right-to-sue                       106  \n",
              "crime                                         77  \n",
              "duty-free-exports                             69  \n",
              "export-administration-act-south-africa       161  "
            ]
          },
          "metadata": {
            "tags": []
          },
          "execution_count": 72
        }
      ]
    },
    {
      "cell_type": "code",
      "metadata": {
        "id": "TUiNBQVl25QT",
        "colab_type": "code",
        "colab": {}
      },
      "source": [
        "df_counts = DF.apply(pd.Series.value_counts)"
      ],
      "execution_count": 0,
      "outputs": []
    },
    {
      "cell_type": "code",
      "metadata": {
        "id": "Wtfrmndf25QU",
        "colab_type": "code",
        "colab": {},
        "outputId": "2ea260f1-841d-4cbd-da00-8421108f0088"
      },
      "source": [
        "df_counts.head()"
      ],
      "execution_count": 0,
      "outputs": [
        {
          "output_type": "execute_result",
          "data": {
            "text/html": [
              "<div>\n",
              "<style scoped>\n",
              "    .dataframe tbody tr th:only-of-type {\n",
              "        vertical-align: middle;\n",
              "    }\n",
              "\n",
              "    .dataframe tbody tr th {\n",
              "        vertical-align: top;\n",
              "    }\n",
              "\n",
              "    .dataframe thead th {\n",
              "        text-align: right;\n",
              "    }\n",
              "</style>\n",
              "<table border=\"1\" class=\"dataframe\">\n",
              "  <thead>\n",
              "    <tr style=\"text-align: right;\">\n",
              "      <th></th>\n",
              "      <th>Class Name</th>\n",
              "      <th>handicapped-infants</th>\n",
              "      <th>water-project-cost-sharing</th>\n",
              "      <th>adoption-of-the-budget-resolution</th>\n",
              "      <th>physician-fee-freeze</th>\n",
              "      <th>el-salvador-aid</th>\n",
              "      <th>religious-groups-in-schools</th>\n",
              "      <th>anti-satellite-test-ban</th>\n",
              "      <th>aid-to-nicaraguan-contras</th>\n",
              "      <th>mx-missile</th>\n",
              "      <th>immigration</th>\n",
              "      <th>synfuels-corporation-cutback</th>\n",
              "      <th>education-spending</th>\n",
              "      <th>superfund-right-to-sue</th>\n",
              "      <th>crime</th>\n",
              "      <th>duty-free-exports</th>\n",
              "      <th>export-administration-act-south-africa</th>\n",
              "    </tr>\n",
              "  </thead>\n",
              "  <tbody>\n",
              "    <tr>\n",
              "      <th>?</th>\n",
              "      <td>NaN</td>\n",
              "      <td>12.0</td>\n",
              "      <td>48.0</td>\n",
              "      <td>11.0</td>\n",
              "      <td>11.0</td>\n",
              "      <td>15.0</td>\n",
              "      <td>11.0</td>\n",
              "      <td>14.0</td>\n",
              "      <td>15.0</td>\n",
              "      <td>22.0</td>\n",
              "      <td>7.0</td>\n",
              "      <td>21.0</td>\n",
              "      <td>31.0</td>\n",
              "      <td>25.0</td>\n",
              "      <td>17.0</td>\n",
              "      <td>28.0</td>\n",
              "      <td>104.0</td>\n",
              "    </tr>\n",
              "    <tr>\n",
              "      <th>democrat</th>\n",
              "      <td>267.0</td>\n",
              "      <td>NaN</td>\n",
              "      <td>NaN</td>\n",
              "      <td>NaN</td>\n",
              "      <td>NaN</td>\n",
              "      <td>NaN</td>\n",
              "      <td>NaN</td>\n",
              "      <td>NaN</td>\n",
              "      <td>NaN</td>\n",
              "      <td>NaN</td>\n",
              "      <td>NaN</td>\n",
              "      <td>NaN</td>\n",
              "      <td>NaN</td>\n",
              "      <td>NaN</td>\n",
              "      <td>NaN</td>\n",
              "      <td>NaN</td>\n",
              "      <td>NaN</td>\n",
              "    </tr>\n",
              "    <tr>\n",
              "      <th>n</th>\n",
              "      <td>NaN</td>\n",
              "      <td>236.0</td>\n",
              "      <td>192.0</td>\n",
              "      <td>171.0</td>\n",
              "      <td>247.0</td>\n",
              "      <td>208.0</td>\n",
              "      <td>152.0</td>\n",
              "      <td>182.0</td>\n",
              "      <td>178.0</td>\n",
              "      <td>206.0</td>\n",
              "      <td>212.0</td>\n",
              "      <td>264.0</td>\n",
              "      <td>233.0</td>\n",
              "      <td>201.0</td>\n",
              "      <td>170.0</td>\n",
              "      <td>233.0</td>\n",
              "      <td>62.0</td>\n",
              "    </tr>\n",
              "    <tr>\n",
              "      <th>republican</th>\n",
              "      <td>168.0</td>\n",
              "      <td>NaN</td>\n",
              "      <td>NaN</td>\n",
              "      <td>NaN</td>\n",
              "      <td>NaN</td>\n",
              "      <td>NaN</td>\n",
              "      <td>NaN</td>\n",
              "      <td>NaN</td>\n",
              "      <td>NaN</td>\n",
              "      <td>NaN</td>\n",
              "      <td>NaN</td>\n",
              "      <td>NaN</td>\n",
              "      <td>NaN</td>\n",
              "      <td>NaN</td>\n",
              "      <td>NaN</td>\n",
              "      <td>NaN</td>\n",
              "      <td>NaN</td>\n",
              "    </tr>\n",
              "    <tr>\n",
              "      <th>y</th>\n",
              "      <td>NaN</td>\n",
              "      <td>187.0</td>\n",
              "      <td>195.0</td>\n",
              "      <td>253.0</td>\n",
              "      <td>177.0</td>\n",
              "      <td>212.0</td>\n",
              "      <td>272.0</td>\n",
              "      <td>239.0</td>\n",
              "      <td>242.0</td>\n",
              "      <td>207.0</td>\n",
              "      <td>216.0</td>\n",
              "      <td>150.0</td>\n",
              "      <td>171.0</td>\n",
              "      <td>209.0</td>\n",
              "      <td>248.0</td>\n",
              "      <td>174.0</td>\n",
              "      <td>269.0</td>\n",
              "    </tr>\n",
              "  </tbody>\n",
              "</table>\n",
              "</div>"
            ],
            "text/plain": [
              "            Class Name  handicapped-infants  water-project-cost-sharing  \\\n",
              "?                  NaN                 12.0                        48.0   \n",
              "democrat         267.0                  NaN                         NaN   \n",
              "n                  NaN                236.0                       192.0   \n",
              "republican       168.0                  NaN                         NaN   \n",
              "y                  NaN                187.0                       195.0   \n",
              "\n",
              "            adoption-of-the-budget-resolution  physician-fee-freeze  \\\n",
              "?                                        11.0                  11.0   \n",
              "democrat                                  NaN                   NaN   \n",
              "n                                       171.0                 247.0   \n",
              "republican                                NaN                   NaN   \n",
              "y                                       253.0                 177.0   \n",
              "\n",
              "            el-salvador-aid  religious-groups-in-schools  \\\n",
              "?                      15.0                         11.0   \n",
              "democrat                NaN                          NaN   \n",
              "n                     208.0                        152.0   \n",
              "republican              NaN                          NaN   \n",
              "y                     212.0                        272.0   \n",
              "\n",
              "            anti-satellite-test-ban  aid-to-nicaraguan-contras  mx-missile  \\\n",
              "?                              14.0                       15.0        22.0   \n",
              "democrat                        NaN                        NaN         NaN   \n",
              "n                             182.0                      178.0       206.0   \n",
              "republican                      NaN                        NaN         NaN   \n",
              "y                             239.0                      242.0       207.0   \n",
              "\n",
              "            immigration  synfuels-corporation-cutback  education-spending  \\\n",
              "?                   7.0                          21.0                31.0   \n",
              "democrat            NaN                           NaN                 NaN   \n",
              "n                 212.0                         264.0               233.0   \n",
              "republican          NaN                           NaN                 NaN   \n",
              "y                 216.0                         150.0               171.0   \n",
              "\n",
              "            superfund-right-to-sue  crime  duty-free-exports  \\\n",
              "?                             25.0   17.0               28.0   \n",
              "democrat                       NaN    NaN                NaN   \n",
              "n                            201.0  170.0              233.0   \n",
              "republican                     NaN    NaN                NaN   \n",
              "y                            209.0  248.0              174.0   \n",
              "\n",
              "            export-administration-act-south-africa  \n",
              "?                                            104.0  \n",
              "democrat                                       NaN  \n",
              "n                                             62.0  \n",
              "republican                                     NaN  \n",
              "y                                            269.0  "
            ]
          },
          "metadata": {
            "tags": []
          },
          "execution_count": 76
        }
      ]
    },
    {
      "cell_type": "code",
      "metadata": {
        "id": "OuVIqdtw25QZ",
        "colab_type": "code",
        "colab": {},
        "outputId": "28d4e19c-a39f-4634-cb04-8697820f3743"
      },
      "source": [
        "df_counts.info()"
      ],
      "execution_count": 0,
      "outputs": [
        {
          "output_type": "stream",
          "text": [
            "<class 'pandas.core.frame.DataFrame'>\n",
            "Index: 5 entries, ? to y\n",
            "Data columns (total 17 columns):\n",
            "Class Name                                2 non-null float64\n",
            "handicapped-infants                       3 non-null float64\n",
            "water-project-cost-sharing                3 non-null float64\n",
            "adoption-of-the-budget-resolution         3 non-null float64\n",
            "physician-fee-freeze                      3 non-null float64\n",
            "el-salvador-aid                           3 non-null float64\n",
            "religious-groups-in-schools               3 non-null float64\n",
            "anti-satellite-test-ban                   3 non-null float64\n",
            "aid-to-nicaraguan-contras                 3 non-null float64\n",
            "mx-missile                                3 non-null float64\n",
            "immigration                               3 non-null float64\n",
            "synfuels-corporation-cutback              3 non-null float64\n",
            "education-spending                        3 non-null float64\n",
            "superfund-right-to-sue                    3 non-null float64\n",
            "crime                                     3 non-null float64\n",
            "duty-free-exports                         3 non-null float64\n",
            "export-administration-act-south-africa    3 non-null float64\n",
            "dtypes: float64(17)\n",
            "memory usage: 720.0+ bytes\n"
          ],
          "name": "stdout"
        }
      ]
    },
    {
      "cell_type": "code",
      "metadata": {
        "id": "pW2qfGMr25Qb",
        "colab_type": "code",
        "colab": {}
      },
      "source": [
        "counts_trans = df_counts.T"
      ],
      "execution_count": 0,
      "outputs": []
    },
    {
      "cell_type": "code",
      "metadata": {
        "id": "wjqJSueX25Qc",
        "colab_type": "code",
        "colab": {},
        "outputId": "39d021a9-1527-4f44-97a6-59a22a4e1f3b"
      },
      "source": [
        "counts_trans.head()"
      ],
      "execution_count": 0,
      "outputs": [
        {
          "output_type": "execute_result",
          "data": {
            "text/html": [
              "<div>\n",
              "<style scoped>\n",
              "    .dataframe tbody tr th:only-of-type {\n",
              "        vertical-align: middle;\n",
              "    }\n",
              "\n",
              "    .dataframe tbody tr th {\n",
              "        vertical-align: top;\n",
              "    }\n",
              "\n",
              "    .dataframe thead th {\n",
              "        text-align: right;\n",
              "    }\n",
              "</style>\n",
              "<table border=\"1\" class=\"dataframe\">\n",
              "  <thead>\n",
              "    <tr style=\"text-align: right;\">\n",
              "      <th></th>\n",
              "      <th>?</th>\n",
              "      <th>democrat</th>\n",
              "      <th>n</th>\n",
              "      <th>republican</th>\n",
              "      <th>y</th>\n",
              "    </tr>\n",
              "  </thead>\n",
              "  <tbody>\n",
              "    <tr>\n",
              "      <th>Class Name</th>\n",
              "      <td>NaN</td>\n",
              "      <td>267.0</td>\n",
              "      <td>NaN</td>\n",
              "      <td>168.0</td>\n",
              "      <td>NaN</td>\n",
              "    </tr>\n",
              "    <tr>\n",
              "      <th>handicapped-infants</th>\n",
              "      <td>12.0</td>\n",
              "      <td>NaN</td>\n",
              "      <td>236.0</td>\n",
              "      <td>NaN</td>\n",
              "      <td>187.0</td>\n",
              "    </tr>\n",
              "    <tr>\n",
              "      <th>water-project-cost-sharing</th>\n",
              "      <td>48.0</td>\n",
              "      <td>NaN</td>\n",
              "      <td>192.0</td>\n",
              "      <td>NaN</td>\n",
              "      <td>195.0</td>\n",
              "    </tr>\n",
              "    <tr>\n",
              "      <th>adoption-of-the-budget-resolution</th>\n",
              "      <td>11.0</td>\n",
              "      <td>NaN</td>\n",
              "      <td>171.0</td>\n",
              "      <td>NaN</td>\n",
              "      <td>253.0</td>\n",
              "    </tr>\n",
              "    <tr>\n",
              "      <th>physician-fee-freeze</th>\n",
              "      <td>11.0</td>\n",
              "      <td>NaN</td>\n",
              "      <td>247.0</td>\n",
              "      <td>NaN</td>\n",
              "      <td>177.0</td>\n",
              "    </tr>\n",
              "  </tbody>\n",
              "</table>\n",
              "</div>"
            ],
            "text/plain": [
              "                                      ?  democrat      n  republican      y\n",
              "Class Name                          NaN     267.0    NaN       168.0    NaN\n",
              "handicapped-infants                12.0       NaN  236.0         NaN  187.0\n",
              "water-project-cost-sharing         48.0       NaN  192.0         NaN  195.0\n",
              "adoption-of-the-budget-resolution  11.0       NaN  171.0         NaN  253.0\n",
              "physician-fee-freeze               11.0       NaN  247.0         NaN  177.0"
            ]
          },
          "metadata": {
            "tags": []
          },
          "execution_count": 78
        }
      ]
    },
    {
      "cell_type": "code",
      "metadata": {
        "id": "gOqFTzEw25Qe",
        "colab_type": "code",
        "colab": {},
        "outputId": "0f46a9b9-f001-4b81-88fd-1afc2d14cf4c"
      },
      "source": [
        "counts_trans.plot();"
      ],
      "execution_count": 0,
      "outputs": [
        {
          "output_type": "display_data",
          "data": {
            "image/png": "[encoded data removed]",
            "text/plain": [
              "<Figure size 432x288 with 1 Axes>"
            ]
          },
          "metadata": {
            "tags": [],
            "needs_background": "light"
          }
        }
      ]
    },
    {
      "cell_type": "code",
      "metadata": {
        "id": "-cN3dHWn25Qg",
        "colab_type": "code",
        "colab": {}
      },
      "source": [
        ""
      ],
      "execution_count": 0,
      "outputs": []
    }
  ]
}