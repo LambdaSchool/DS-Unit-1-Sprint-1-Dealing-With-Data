{
  "nbformat": 4,
  "nbformat_minor": 0,
  "metadata": {
    "colab": {
      "name": "JT Kernan DS_Unit_1_Sprint_Challenge_1.ipynb",
      "version": "0.3.2",
      "provenance": [],
      "collapsed_sections": [],
      "include_colab_link": true
    },
    "kernelspec": {
      "name": "python3",
      "display_name": "Python 3"
    }
  },
  "cells": [
    {
      "cell_type": "markdown",
      "metadata": {
        "id": "view-in-github",
        "colab_type": "text"
      },
      "source": [
        "<a href=\"https://colab.research.google.com/github/jtkernan7/DS-Unit-1-Sprint-1-Dealing-With-Data/blob/master/JT_Kernan_DS_Unit_1_Sprint_Challenge_1.ipynb\" target=\"_parent\"><img src=\"https://colab.research.google.com/assets/colab-badge.svg\" alt=\"Open In Colab\"/></a>"
      ]
    },
    {
      "metadata": {
        "id": "NooAiTdnafkz",
        "colab_type": "text"
      },
      "cell_type": "markdown",
      "source": [
        "# Data Science Unit 1 Sprint Challenge 1\n",
        "\n",
        "## Loading, cleaning, visualizing, and analyzing data\n",
        "\n",
        "In this sprint challenge you will look at a dataset of the survival of patients who underwent surgery for breast cancer.\n",
        "\n",
        "http://archive.ics.uci.edu/ml/datasets/Haberman%27s+Survival\n",
        "\n",
        "Data Set Information:\n",
        "The dataset contains cases from a study that was conducted between 1958 and 1970 at the University of Chicago's Billings Hospital on the survival of patients who had undergone surgery for breast cancer.\n",
        "\n",
        "Attribute Information:\n",
        "1. Age of patient at time of operation (numerical)\n",
        "2. Patient's year of operation (year - 1900, numerical)\n",
        "3. Number of positive axillary nodes detected (numerical)\n",
        "4. Survival status (class attribute)\n",
        "-- 1 = the patient survived 5 years or longer\n",
        "-- 2 = the patient died within 5 year\n",
        "\n",
        "Sprint challenges are evaluated based on satisfactory completion of each part. It is suggested you work through it in order, getting each aspect reasonably working, before trying to deeply explore, iterate, or refine any given step. Once you get to the end, if you want to go back and improve things, go for it!"
      ]
    },
    {
      "metadata": {
        "id": "5wch6ksCbJtZ",
        "colab_type": "text"
      },
      "cell_type": "markdown",
      "source": [
        "## Part 1 - Load and validate the data\n",
        "\n",
        "- Load the data as a `pandas` data frame.\n",
        "- Validate that it has the appropriate number of observations (you can check the raw file, and also read the dataset description from UCI).\n",
        "- Validate that you have no missing values.\n",
        "- Add informative names to the features.\n",
        "- The survival variable is encoded as 1 for surviving >5 years and 2 for not - change this to be 0 for not surviving and 1 for surviving >5 years (0/1 is a more traditional encoding of binary variables)\n",
        "\n",
        "At the end, print the first five rows of the dataset to demonstrate the above."
      ]
    },
    {
      "metadata": {
        "id": "287TpoGKFRVK",
        "colab_type": "code",
        "outputId": "192423e1-d848-4a28-ee01-475ad6b8a49c",
        "colab": {
          "base_uri": "https://localhost:8080/",
          "height": 34
        }
      },
      "cell_type": "code",
      "source": [
        "# TODO \n",
        "\n",
        "#Load and Clean Data Set\n",
        "\n",
        "\n",
        "\n",
        "import pandas as pd\n",
        "import numpy as np\n",
        "\n",
        "c_headers = ['age_of_patient', 'year_of_op', 'positive_ax_nodes', 'survival_status']\n",
        "\n",
        "df = pd.read_csv('http://archive.ics.uci.edu/ml/machine-learning-databases/haberman/haberman.data', header=None, names =c_headers)\n",
        "\n",
        "print(df.shape)  #matches description on UCI 306 observations\n",
        "# print(df.head())\n",
        "df.isnull().sum() #confirmed on UCI no missing values\n",
        "df['survival_status'] = df['survival_status']-1 #Change survival status key to 0 for survive 5+ years or 1 for passed away within 5\n",
        "# print(df.dtypes)\n",
        "\n"
      ],
      "execution_count": 0,
      "outputs": [
        {
          "output_type": "stream",
          "text": [
            "(306, 4)\n"
          ],
          "name": "stdout"
        }
      ]
    },
    {
      "metadata": {
        "id": "gbiNlQ-MOgzK",
        "colab_type": "code",
        "outputId": "96ce7570-bb06-4421-d07a-d5b0f275304e",
        "colab": {
          "base_uri": "https://localhost:8080/",
          "height": 195
        }
      },
      "cell_type": "code",
      "source": [
        "df.head() #Part 1 complete"
      ],
      "execution_count": 0,
      "outputs": [
        {
          "output_type": "execute_result",
          "data": {
            "text/html": [
              "<div>\n",
              "<style scoped>\n",
              "    .dataframe tbody tr th:only-of-type {\n",
              "        vertical-align: middle;\n",
              "    }\n",
              "\n",
              "    .dataframe tbody tr th {\n",
              "        vertical-align: top;\n",
              "    }\n",
              "\n",
              "    .dataframe thead th {\n",
              "        text-align: right;\n",
              "    }\n",
              "</style>\n",
              "<table border=\"1\" class=\"dataframe\">\n",
              "  <thead>\n",
              "    <tr style=\"text-align: right;\">\n",
              "      <th></th>\n",
              "      <th>age_of_patient</th>\n",
              "      <th>year_of_op</th>\n",
              "      <th>positive_ax_nodes</th>\n",
              "      <th>survival_status</th>\n",
              "    </tr>\n",
              "  </thead>\n",
              "  <tbody>\n",
              "    <tr>\n",
              "      <th>0</th>\n",
              "      <td>30</td>\n",
              "      <td>64</td>\n",
              "      <td>1</td>\n",
              "      <td>0</td>\n",
              "    </tr>\n",
              "    <tr>\n",
              "      <th>1</th>\n",
              "      <td>30</td>\n",
              "      <td>62</td>\n",
              "      <td>3</td>\n",
              "      <td>0</td>\n",
              "    </tr>\n",
              "    <tr>\n",
              "      <th>2</th>\n",
              "      <td>30</td>\n",
              "      <td>65</td>\n",
              "      <td>0</td>\n",
              "      <td>0</td>\n",
              "    </tr>\n",
              "    <tr>\n",
              "      <th>3</th>\n",
              "      <td>31</td>\n",
              "      <td>59</td>\n",
              "      <td>2</td>\n",
              "      <td>0</td>\n",
              "    </tr>\n",
              "    <tr>\n",
              "      <th>4</th>\n",
              "      <td>31</td>\n",
              "      <td>65</td>\n",
              "      <td>4</td>\n",
              "      <td>0</td>\n",
              "    </tr>\n",
              "  </tbody>\n",
              "</table>\n",
              "</div>"
            ],
            "text/plain": [
              "   age_of_patient  year_of_op  positive_ax_nodes  survival_status\n",
              "0              30          64                  1                0\n",
              "1              30          62                  3                0\n",
              "2              30          65                  0                0\n",
              "3              31          59                  2                0\n",
              "4              31          65                  4                0"
            ]
          },
          "metadata": {
            "tags": []
          },
          "execution_count": 6
        }
      ]
    },
    {
      "metadata": {
        "id": "fyhz-oLvP9-N",
        "colab_type": "code",
        "colab": {}
      },
      "cell_type": "code",
      "source": [
        ""
      ],
      "execution_count": 0,
      "outputs": []
    },
    {
      "metadata": {
        "id": "G7rLytbrO38L",
        "colab_type": "text"
      },
      "cell_type": "markdown",
      "source": [
        "## Part 2 - Examine the distribution and relationships of the features\n",
        "\n",
        "Explore the data - create at least *2* tables (can be summary statistics or crosstabulations) and *2* plots illustrating the nature of the data.\n",
        "\n",
        "This is open-ended, so to remind - first *complete* this task as a baseline, then go on to the remaining sections, and *then* as time allows revisit and explore further.\n",
        "\n",
        "Hint - you may need to bin some variables depending on your chosen tables/plots."
      ]
    },
    {
      "metadata": {
        "id": "oKA4K213ZJhz",
        "colab_type": "code",
        "outputId": "94ccb4d1-5203-4d5d-dd4c-67c64a82f33b",
        "colab": {
          "base_uri": "https://localhost:8080/",
          "height": 284
        }
      },
      "cell_type": "code",
      "source": [
        "df.describe()#"
      ],
      "execution_count": 0,
      "outputs": [
        {
          "output_type": "execute_result",
          "data": {
            "text/html": [
              "<div>\n",
              "<style scoped>\n",
              "    .dataframe tbody tr th:only-of-type {\n",
              "        vertical-align: middle;\n",
              "    }\n",
              "\n",
              "    .dataframe tbody tr th {\n",
              "        vertical-align: top;\n",
              "    }\n",
              "\n",
              "    .dataframe thead th {\n",
              "        text-align: right;\n",
              "    }\n",
              "</style>\n",
              "<table border=\"1\" class=\"dataframe\">\n",
              "  <thead>\n",
              "    <tr style=\"text-align: right;\">\n",
              "      <th></th>\n",
              "      <th>age_of_patient</th>\n",
              "      <th>year_of_op</th>\n",
              "      <th>positive_ax_nodes</th>\n",
              "      <th>survival_status</th>\n",
              "    </tr>\n",
              "  </thead>\n",
              "  <tbody>\n",
              "    <tr>\n",
              "      <th>count</th>\n",
              "      <td>306.000000</td>\n",
              "      <td>306.000000</td>\n",
              "      <td>306.000000</td>\n",
              "      <td>306.000000</td>\n",
              "    </tr>\n",
              "    <tr>\n",
              "      <th>mean</th>\n",
              "      <td>52.457516</td>\n",
              "      <td>62.852941</td>\n",
              "      <td>4.026144</td>\n",
              "      <td>0.264706</td>\n",
              "    </tr>\n",
              "    <tr>\n",
              "      <th>std</th>\n",
              "      <td>10.803452</td>\n",
              "      <td>3.249405</td>\n",
              "      <td>7.189654</td>\n",
              "      <td>0.441899</td>\n",
              "    </tr>\n",
              "    <tr>\n",
              "      <th>min</th>\n",
              "      <td>30.000000</td>\n",
              "      <td>58.000000</td>\n",
              "      <td>0.000000</td>\n",
              "      <td>0.000000</td>\n",
              "    </tr>\n",
              "    <tr>\n",
              "      <th>25%</th>\n",
              "      <td>44.000000</td>\n",
              "      <td>60.000000</td>\n",
              "      <td>0.000000</td>\n",
              "      <td>0.000000</td>\n",
              "    </tr>\n",
              "    <tr>\n",
              "      <th>50%</th>\n",
              "      <td>52.000000</td>\n",
              "      <td>63.000000</td>\n",
              "      <td>1.000000</td>\n",
              "      <td>0.000000</td>\n",
              "    </tr>\n",
              "    <tr>\n",
              "      <th>75%</th>\n",
              "      <td>60.750000</td>\n",
              "      <td>65.750000</td>\n",
              "      <td>4.000000</td>\n",
              "      <td>1.000000</td>\n",
              "    </tr>\n",
              "    <tr>\n",
              "      <th>max</th>\n",
              "      <td>83.000000</td>\n",
              "      <td>69.000000</td>\n",
              "      <td>52.000000</td>\n",
              "      <td>1.000000</td>\n",
              "    </tr>\n",
              "  </tbody>\n",
              "</table>\n",
              "</div>"
            ],
            "text/plain": [
              "       age_of_patient  year_of_op  positive_ax_nodes  survival_status\n",
              "count      306.000000  306.000000         306.000000       306.000000\n",
              "mean        52.457516   62.852941           4.026144         0.264706\n",
              "std         10.803452    3.249405           7.189654         0.441899\n",
              "min         30.000000   58.000000           0.000000         0.000000\n",
              "25%         44.000000   60.000000           0.000000         0.000000\n",
              "50%         52.000000   63.000000           1.000000         0.000000\n",
              "75%         60.750000   65.750000           4.000000         1.000000\n",
              "max         83.000000   69.000000          52.000000         1.000000"
            ]
          },
          "metadata": {
            "tags": []
          },
          "execution_count": 39
        }
      ]
    },
    {
      "metadata": {
        "id": "IAkllgCIFVj0",
        "colab_type": "code",
        "outputId": "a5456784-391c-49a7-fd73-f931cf34f14c",
        "colab": {
          "base_uri": "https://localhost:8080/",
          "height": 140
        }
      },
      "cell_type": "code",
      "source": [
        "# TODO\n",
        "\n",
        "age_bins = pd.cut(df['age_of_patient'], 5)\n",
        "\n",
        "ct1 = pd.crosstab(age_bins, df['survival_status'])\n",
        "\n",
        "print(ct1) #Shows amount of patients who survived surgery by age group\n",
        "            #I think it is easier to understand with the actual numbers and not percent aftter looking at both"
      ],
      "execution_count": 0,
      "outputs": [
        {
          "output_type": "stream",
          "text": [
            "survival_status   0   1\n",
            "age_of_patient         \n",
            "(29.947, 40.6]   39   4\n",
            "(40.6, 51.2]     68  31\n",
            "(51.2, 61.8]     69  27\n",
            "(61.8, 72.4]     43  16\n",
            "(72.4, 83.0]      6   3\n"
          ],
          "name": "stdout"
        }
      ]
    },
    {
      "metadata": {
        "id": "mfvqLm5VUJzl",
        "colab_type": "code",
        "outputId": "57e77ce3-ea15-4ce0-a091-2666c0d9d7e9",
        "colab": {
          "base_uri": "https://localhost:8080/",
          "height": 156
        }
      },
      "cell_type": "code",
      "source": [
        "\n",
        "ct = pd.crosstab( df['survival_status'], df['year_of_op'], normalize='columns')#survival status as compared to year of surgery\n",
        "\n",
        "# ct = pd.crosstab( df['survival_status'], df['year_of_op'], normalize =True)\n",
        "ct"
      ],
      "execution_count": 0,
      "outputs": [
        {
          "output_type": "execute_result",
          "data": {
            "text/html": [
              "<div>\n",
              "<style scoped>\n",
              "    .dataframe tbody tr th:only-of-type {\n",
              "        vertical-align: middle;\n",
              "    }\n",
              "\n",
              "    .dataframe tbody tr th {\n",
              "        vertical-align: top;\n",
              "    }\n",
              "\n",
              "    .dataframe thead th {\n",
              "        text-align: right;\n",
              "    }\n",
              "</style>\n",
              "<table border=\"1\" class=\"dataframe\">\n",
              "  <thead>\n",
              "    <tr style=\"text-align: right;\">\n",
              "      <th>year_of_op</th>\n",
              "      <th>58</th>\n",
              "      <th>59</th>\n",
              "      <th>60</th>\n",
              "      <th>61</th>\n",
              "      <th>62</th>\n",
              "      <th>63</th>\n",
              "      <th>64</th>\n",
              "      <th>65</th>\n",
              "      <th>66</th>\n",
              "      <th>67</th>\n",
              "      <th>68</th>\n",
              "      <th>69</th>\n",
              "    </tr>\n",
              "    <tr>\n",
              "      <th>survival_status</th>\n",
              "      <th></th>\n",
              "      <th></th>\n",
              "      <th></th>\n",
              "      <th></th>\n",
              "      <th></th>\n",
              "      <th></th>\n",
              "      <th></th>\n",
              "      <th></th>\n",
              "      <th></th>\n",
              "      <th></th>\n",
              "      <th></th>\n",
              "      <th></th>\n",
              "    </tr>\n",
              "  </thead>\n",
              "  <tbody>\n",
              "    <tr>\n",
              "      <th>0</th>\n",
              "      <td>0.666667</td>\n",
              "      <td>0.666667</td>\n",
              "      <td>0.857143</td>\n",
              "      <td>0.884615</td>\n",
              "      <td>0.695652</td>\n",
              "      <td>0.733333</td>\n",
              "      <td>0.741935</td>\n",
              "      <td>0.535714</td>\n",
              "      <td>0.785714</td>\n",
              "      <td>0.84</td>\n",
              "      <td>0.769231</td>\n",
              "      <td>0.636364</td>\n",
              "    </tr>\n",
              "    <tr>\n",
              "      <th>1</th>\n",
              "      <td>0.333333</td>\n",
              "      <td>0.333333</td>\n",
              "      <td>0.142857</td>\n",
              "      <td>0.115385</td>\n",
              "      <td>0.304348</td>\n",
              "      <td>0.266667</td>\n",
              "      <td>0.258065</td>\n",
              "      <td>0.464286</td>\n",
              "      <td>0.214286</td>\n",
              "      <td>0.16</td>\n",
              "      <td>0.230769</td>\n",
              "      <td>0.363636</td>\n",
              "    </tr>\n",
              "  </tbody>\n",
              "</table>\n",
              "</div>"
            ],
            "text/plain": [
              "year_of_op             58        59        60        61        62        63  \\\n",
              "survival_status                                                               \n",
              "0                0.666667  0.666667  0.857143  0.884615  0.695652  0.733333   \n",
              "1                0.333333  0.333333  0.142857  0.115385  0.304348  0.266667   \n",
              "\n",
              "year_of_op             64        65        66    67        68        69  \n",
              "survival_status                                                          \n",
              "0                0.741935  0.535714  0.785714  0.84  0.769231  0.636364  \n",
              "1                0.258065  0.464286  0.214286  0.16  0.230769  0.363636  "
            ]
          },
          "metadata": {
            "tags": []
          },
          "execution_count": 43
        }
      ]
    },
    {
      "metadata": {
        "id": "P0t5NXOGZD2W",
        "colab_type": "code",
        "outputId": "2807b0dd-0115-41ad-84d8-f026b58523ec",
        "colab": {
          "base_uri": "https://localhost:8080/",
          "height": 269
        }
      },
      "cell_type": "code",
      "source": [
        "df['age_of_patient'].plot.density(); #better display of ages where people got this surgery"
      ],
      "execution_count": 0,
      "outputs": [
        {
          "output_type": "display_data",
          "data": {
            "image/png": "[encoded data removed]",
            "text/plain": [
              "<Figure size 432x288 with 1 Axes>"
            ]
          },
          "metadata": {
            "tags": []
          }
        }
      ]
    },
    {
      "metadata": {
        "id": "wgZ7cuYObnEG",
        "colab_type": "code",
        "outputId": "250138c9-c948-472b-b29c-0859b48b724d",
        "colab": {
          "base_uri": "https://localhost:8080/",
          "height": 345
        }
      },
      "cell_type": "code",
      "source": [
        "ct1.plot(kind='bar');#number of ppl survived 5 years vs not by age group"
      ],
      "execution_count": 0,
      "outputs": [
        {
          "output_type": "display_data",
          "data": {
            "image/png": "[encoded data removed]",
            "text/plain": [
              "<Figure size 432x288 with 1 Axes>"
            ]
          },
          "metadata": {
            "tags": []
          }
        }
      ]
    },
    {
      "metadata": {
        "id": "45ZXvJ4MnI5r",
        "colab_type": "code",
        "outputId": "c3f9349c-7d3c-4aa7-be52-ddda38c9509a",
        "colab": {
          "base_uri": "https://localhost:8080/",
          "height": 314
        }
      },
      "cell_type": "code",
      "source": [
        "import seaborn as sns\n",
        "g = sns.FacetGrid(df, height=4)\n",
        "g.map(sns.regplot, 'age_of_patient', 'survival_status')"
      ],
      "execution_count": 0,
      "outputs": [
        {
          "output_type": "execute_result",
          "data": {
            "text/plain": [
              "<seaborn.axisgrid.FacetGrid at 0x7ff6a1580cf8>"
            ]
          },
          "metadata": {
            "tags": []
          },
          "execution_count": 94
        },
        {
          "output_type": "display_data",
          "data": {
            "image/png": "[encoded data removed]",
            "text/plain": [
              "<Figure size 288x288 with 1 Axes>"
            ]
          },
          "metadata": {
            "tags": []
          }
        }
      ]
    },
    {
      "metadata": {
        "id": "G9az-cpzdj9a",
        "colab_type": "code",
        "outputId": "c2986980-ecb2-41a2-b413-bd40581f0d8e",
        "colab": {
          "base_uri": "https://localhost:8080/",
          "height": 297
        }
      },
      "cell_type": "code",
      "source": [
        "g = sns.FacetGrid(df, height=4)\n",
        "g.map(sns.regplot, 'positive_ax_nodes', 'survival_status');\n",
        "\n",
        "#number of positive axillary nodes detected vs survival rate\n",
        "#seems to have positive corellation relationship but multiple extreme outliers"
      ],
      "execution_count": 0,
      "outputs": [
        {
          "output_type": "display_data",
          "data": {
            "image/png": "[encoded data removed]",
            "text/plain": [
              "<Figure size 288x288 with 1 Axes>"
            ]
          },
          "metadata": {
            "tags": []
          }
        }
      ]
    },
    {
      "metadata": {
        "id": "Zrmy2NdLgkYR",
        "colab_type": "code",
        "outputId": "4edfcbf7-3f7b-4ade-8eb8-98cd15703e49",
        "colab": {
          "base_uri": "https://localhost:8080/",
          "height": 210
        }
      },
      "cell_type": "code",
      "source": [
        "#binned node count so outliers don't courrupt\n",
        "node_bins = pd.cut(df['positive_ax_nodes'], 10)\n",
        "\n",
        "ct2 = pd.crosstab(node_bins, df['survival_status'])\n",
        "\n",
        "print(ct2)"
      ],
      "execution_count": 0,
      "outputs": [
        {
          "output_type": "stream",
          "text": [
            "survival_status      0   1\n",
            "positive_ax_nodes         \n",
            "(-0.052, 5.2]      190  46\n",
            "(5.2, 10.4]         18  12\n",
            "(10.4, 15.6]         7  11\n",
            "(15.6, 20.8]         4   4\n",
            "(20.8, 26.0]         3   6\n",
            "(26.0, 31.2]         2   0\n",
            "(31.2, 36.4]         0   1\n",
            "(41.6, 46.8]         1   0\n",
            "(46.8, 52.0]         0   1\n"
          ],
          "name": "stdout"
        }
      ]
    },
    {
      "metadata": {
        "id": "WHzXr4GGpeem",
        "colab_type": "text"
      },
      "cell_type": "markdown",
      "source": [
        ""
      ]
    },
    {
      "metadata": {
        "id": "DAhRr6p3iUqW",
        "colab_type": "code",
        "outputId": "739cfeae-20f2-4f37-ef90-1cf706e6d36f",
        "colab": {
          "base_uri": "https://localhost:8080/",
          "height": 336
        }
      },
      "cell_type": "code",
      "source": [
        "ct2.plot(kind='bar');\n",
        "\n",
        "#seems to have strong negative relationship now with bins.\n",
        "#rate of survival is highest with very low number of positive axillary nodes\n"
      ],
      "execution_count": 0,
      "outputs": [
        {
          "output_type": "display_data",
          "data": {
            "image/png": "[encoded data removed]",
            "text/plain": [
              "<Figure size 432x288 with 1 Axes>"
            ]
          },
          "metadata": {
            "tags": []
          }
        }
      ]
    },
    {
      "metadata": {
        "id": "kY_GI7Lpj6Nx",
        "colab_type": "code",
        "outputId": "de896db6-6cee-476f-f3c2-b575fe775b50",
        "colab": {
          "base_uri": "https://localhost:8080/",
          "height": 281
        }
      },
      "cell_type": "code",
      "source": [
        "# ct3 = pd.crosstab(age_bins, node_bins, normalize='columns') #can't get crosstab to work with second element binned\n",
        "\n",
        "ct3 = pd.crosstab(age_bins, df['year_of_op'], normalize='columns')\n",
        "\n",
        "print(ct3)"
      ],
      "execution_count": 0,
      "outputs": [
        {
          "output_type": "stream",
          "text": [
            "year_of_op            58        59        60        61        62        63  \\\n",
            "age_of_patient                                                               \n",
            "(29.947, 40.6]  0.166667  0.185185  0.321429  0.038462  0.086957  0.166667   \n",
            "(40.6, 51.2]    0.277778  0.407407  0.214286  0.384615  0.304348  0.400000   \n",
            "(51.2, 61.8]    0.222222  0.296296  0.392857  0.307692  0.391304  0.233333   \n",
            "(61.8, 72.4]    0.305556  0.111111  0.071429  0.269231  0.130435  0.166667   \n",
            "(72.4, 83.0]    0.027778  0.000000  0.000000  0.000000  0.086957  0.033333   \n",
            "\n",
            "year_of_op            64        65        66    67        68        69  \n",
            "age_of_patient                                                          \n",
            "(29.947, 40.6]  0.096774  0.107143  0.142857  0.12  0.000000  0.181818  \n",
            "(40.6, 51.2]    0.419355  0.321429  0.285714  0.32  0.153846  0.272727  \n",
            "(51.2, 61.8]    0.354839  0.321429  0.250000  0.28  0.384615  0.545455  \n",
            "(61.8, 72.4]    0.129032  0.142857  0.321429  0.24  0.384615  0.000000  \n",
            "(72.4, 83.0]    0.000000  0.107143  0.000000  0.04  0.076923  0.000000  \n"
          ],
          "name": "stdout"
        }
      ]
    },
    {
      "metadata": {
        "id": "iH9aHp_VxAkG",
        "colab_type": "code",
        "colab": {
          "base_uri": "https://localhost:8080/",
          "height": 297
        },
        "outputId": "c614eff7-3185-41fc-bc6e-7d08e6098830"
      },
      "cell_type": "code",
      "source": [
        "g = sns.FacetGrid(df, height=4)\n",
        "g.map(sns.regplot, 'positive_ax_nodes', 'age_of_patient');"
      ],
      "execution_count": 105,
      "outputs": [
        {
          "output_type": "display_data",
          "data": {
            "image/png": "[encoded data removed]",
            "text/plain": [
              "<Figure size 288x288 with 1 Axes>"
            ]
          },
          "metadata": {
            "tags": []
          }
        }
      ]
    },
    {
      "metadata": {
        "id": "ZM8JckA2bgnp",
        "colab_type": "text"
      },
      "cell_type": "markdown",
      "source": [
        "## Part 3 - Analysis and Interpretation\n",
        "\n",
        "Now that you've looked at the data, answer the following questions:\n",
        "\n",
        "- What is at least one feature that looks to have a positive relationship with survival?\n",
        "- What is at least one feature that looks to have a negative relationship with survival?\n",
        "- How are those two features related with each other, and what might that mean?\n",
        "\n",
        "Answer with text, but feel free to intersperse example code/results or refer to it from earlier."
      ]
    },
    {
      "metadata": {
        "id": "NwtkgRJZrn7Q",
        "colab_type": "text"
      },
      "cell_type": "markdown",
      "source": [
        "I do not really think any feature has a positive relationship with survival.\n",
        "year of operation does not seem to have any relationship with survival. Survival rate is pretty similar throughout.\n",
        "Age seems to have a negative relationship with survival.\n",
        "As age increases the percent of patients who survive past five years decreases."
      ]
    },
    {
      "metadata": {
        "id": "ZP5C19QNjjc-",
        "colab_type": "text"
      },
      "cell_type": "markdown",
      "source": [
        "The amount of postitive axillary nodes looks to have a negative relationship with survival. The trend seems to be the more positive nodes the less likely one is to survive. A good majority of patients survive over 5 years when there was a low recorded amount of positive axillary nodes. As positive axillary node observation count  increases patiets are just as likely or more likely to not survive 5 years. This can be seen most clearly with the graph"
      ]
    },
    {
      "metadata": {
        "id": "P9glCUB3r8yc",
        "colab_type": "code",
        "colab": {
          "base_uri": "https://localhost:8080/",
          "height": 336
        },
        "outputId": "fd40565e-ffbb-45e7-9155-4ddaa1f969de"
      },
      "cell_type": "code",
      "source": [
        "ct2.plot(kind='bar');\n"
      ],
      "execution_count": 102,
      "outputs": [
        {
          "output_type": "display_data",
          "data": {
            "image/png": "[encoded data removed]",
            "text/plain": [
              "<Figure size 432x288 with 1 Axes>"
            ]
          },
          "metadata": {
            "tags": []
          }
        }
      ]
    },
    {
      "metadata": {
        "id": "bU8vZq0NsCDZ",
        "colab_type": "text"
      },
      "cell_type": "markdown",
      "source": [
        "When comparing positive axillary node instances to the age of patient it appears that there is a trend of younger patients having more positive axillary node detected.\n",
        "\n",
        "Fully hypothesising here, but this could be because there are more complications with the younger patients who need this surgery.\n",
        "\n",
        "Older patients could be because of age complications whereas younger patients may need for other health complications as well.(obesity for example)"
      ]
    }
  ]
}