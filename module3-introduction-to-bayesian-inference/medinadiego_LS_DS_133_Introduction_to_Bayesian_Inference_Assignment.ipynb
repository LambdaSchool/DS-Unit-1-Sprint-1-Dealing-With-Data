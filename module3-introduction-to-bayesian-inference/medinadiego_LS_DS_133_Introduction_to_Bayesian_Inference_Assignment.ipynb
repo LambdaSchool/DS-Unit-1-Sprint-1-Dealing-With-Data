{
  "nbformat": 4,
  "nbformat_minor": 0,
  "metadata": {
    "colab": {
      "name": "medinadiego_LS_DS_133_Introduction_to_Bayesian_Inference_Assignment.ipynb",
      "provenance": [],
      "collapsed_sections": [],
      "include_colab_link": true
    },
    "kernelspec": {
      "name": "python3",
      "display_name": "Python 3"
    }
  },
  "cells": [
    {
      "cell_type": "markdown",
      "metadata": {
        "id": "view-in-github",
        "colab_type": "text"
      },
      "source": [
        "<a href=\"https://colab.research.google.com/github/medinadiegoeverardo/DS-Unit-1-Sprint-1-Dealing-With-Data/blob/master/module3-introduction-to-bayesian-inference/medinadiego_LS_DS_133_Introduction_to_Bayesian_Inference_Assignment.ipynb\" target=\"_parent\"><img src=\"https://colab.research.google.com/assets/colab-badge.svg\" alt=\"Open In Colab\"/></a>"
      ]
    },
    {
      "cell_type": "markdown",
      "metadata": {
        "id": "H7OLbevlbd_Z",
        "colab_type": "text"
      },
      "source": [
        "# Lambda School Data Science Module 133\n",
        "\n",
        "## Introduction to Bayesian Inference\n",
        "\n",
        "\n"
      ]
    },
    {
      "cell_type": "markdown",
      "metadata": {
        "id": "P-DzzRk5bf0z",
        "colab_type": "text"
      },
      "source": [
        "## Assignment - Code it up!\n",
        "\n",
        "Most of the above was pure math - now write Python code to reproduce the results! This is purposefully open ended - you'll have to think about how you should represent probabilities and events. You can and should look things up, and as a stretch goal - refactor your code into helpful reusable functions!\n",
        "\n",
        "Specific goals/targets:\n",
        "\n",
        "1. Write a function `def prob_drunk_given_positive(prob_drunk_prior, prob_positive, prob_positive_drunk)` that reproduces the example from lecture, and use it to calculate and visualize a range of situations\n",
        "2. Explore `scipy.stats.bayes_mvs` - read its documentation, and experiment with it on data you've tested in other ways earlier this week\n",
        "3. Create a visualization comparing the results of a Bayesian approach to a traditional/frequentist approach\n",
        "4. In your own words, summarize the difference between Bayesian and Frequentist statistics\n",
        "\n",
        "If you're unsure where to start, check out [this blog post of Bayes theorem with Python](https://dataconomy.com/2015/02/introduction-to-bayes-theorem-with-python/) - you could and should create something similar!\n",
        "\n",
        "Stretch goals:\n",
        "\n",
        "- Apply a Bayesian technique to a problem you previously worked (in an assignment or project work) on from a frequentist (standard) perspective\n",
        "- Check out [PyMC3](https://docs.pymc.io/) (note this goes beyond hypothesis tests into modeling) - read the guides and work through some examples\n",
        "- Take PyMC3 further - see if you can build something with it!"
      ]
    },
    {
      "cell_type": "markdown",
      "metadata": {
        "id": "G6jdv5UXHl2z",
        "colab_type": "text"
      },
      "source": [
        "# Bayesian"
      ]
    },
    {
      "cell_type": "code",
      "metadata": {
        "id": "BOfwMddwYiX9",
        "colab_type": "code",
        "colab": {}
      },
      "source": [
        "# np.linspace(1, 3, 50) > 1.1, 1.3, 1.5, ... 2.5, 2.8, 3.0 (50 total)\n",
        "# P(prob_positive_given_drunk) = prob_drunk_given_positive | prob_drunk_prior\n",
        "\n",
        "\n",
        "def prob_x_given_y(prob_y_given_x, prior_belief):\n",
        "    results = []\n",
        "    for i in range(1000):\n",
        "        prior_inverse = (prob_y_given_x*prior_belief)\n",
        "        non_y = 1 - prob_y_given_x\n",
        "        non_prior = 1 - prior_belief\n",
        "        final_bot = (prob_y_given_x * prior_belief) + (non_y * non_prior)\n",
        "        f_probability = prior_inverse/final_bot\n",
        "        results.append(f_probability)\n",
        "        prior_belief = f_probability\n",
        "    return results\n",
        "\n",
        "results = prob_x_given_y(.99, .005)\n",
        "# prob_x_given_y(.99, .005)"
      ],
      "execution_count": 0,
      "outputs": []
    },
    {
      "cell_type": "code",
      "metadata": {
        "id": "bnEmE5sGakaB",
        "colab_type": "code",
        "colab": {}
      },
      "source": [
        "results"
      ],
      "execution_count": 0,
      "outputs": []
    },
    {
      "cell_type": "code",
      "metadata": {
        "id": "3UFcRj-9ShHP",
        "colab_type": "code",
        "colab": {}
      },
      "source": [
        "import scipy.stats as stats\n",
        "import numpy as np\n",
        "\n",
        "def confidence_interval(data, confidence=0.95):\n",
        "  \"\"\"\n",
        "  Calculate a confidence interval around a sample mean for given data.\n",
        "  Using t-distribution and two-tailed test, default 95% confidence. \n",
        "  \n",
        "  Arguments:\n",
        "    data - iterable (list or numpy array) of sample observations\n",
        "    confidence - level of confidence for the interval\n",
        "  \n",
        "  Returns:\n",
        "    tuple of (mean, lower bound, upper bound)\n",
        "  \"\"\"\n",
        "  data = np.array(data)\n",
        "  mean = np.mean(data)\n",
        "  n = len(data)\n",
        "  # stderr = stats.sem(data)\n",
        "  stderr = np.std(data, ddof=1) / np.sqrt(n)\n",
        "  margin_of_error = stderr * stats.t.ppf((1 + confidence) / 2.0, n - 1)\n",
        "  print(margin_of_error)\n",
        "  return (mean, mean - margin_of_error, mean + margin_of_error)"
      ],
      "execution_count": 0,
      "outputs": []
    },
    {
      "cell_type": "code",
      "metadata": {
        "id": "U_fdPu6FZBeB",
        "colab_type": "code",
        "outputId": "d04248ce-9761-441f-aca0-333d3d69b44f",
        "colab": {
          "base_uri": "https://localhost:8080/",
          "height": 51
        }
      },
      "source": [
        "confidence_interval(results) # confidence interval, mean, - margin of error, + margin of error"
      ],
      "execution_count": 154,
      "outputs": [
        {
          "output_type": "stream",
          "text": [
            "0.013252160496941053\n"
          ],
          "name": "stdout"
        },
        {
          "output_type": "execute_result",
          "data": {
            "text/plain": [
              "(0.9931210762296897, 0.9798689157327487, 1.0063732367266307)"
            ]
          },
          "metadata": {
            "tags": []
          },
          "execution_count": 154
        }
      ]
    },
    {
      "cell_type": "code",
      "metadata": {
        "id": "0wCFajX2JAZl",
        "colab_type": "code",
        "colab": {
          "base_uri": "https://localhost:8080/",
          "height": 68
        },
        "outputId": "0942ff2f-43c4-4a3a-9cba-9c110aacffa6"
      },
      "source": [
        "stats.bayes_mvs(results, alpha=.95)"
      ],
      "execution_count": 116,
      "outputs": [
        {
          "output_type": "execute_result",
          "data": {
            "text/plain": [
              "(Mean(statistic=0.9931210762296897, minmax=(0.9798689157327487, 1.0063732367266307)),\n",
              " Variance(statistic=0.004552589822425905, minmax=(0.0034386729051520096, 0.0060195571224397155)),\n",
              " Std_dev(statistic=0.0672992099220651, minmax=(0.05864019871344238, 0.07758580490295705)))"
            ]
          },
          "metadata": {
            "tags": []
          },
          "execution_count": 116
        }
      ]
    },
    {
      "cell_type": "code",
      "metadata": {
        "id": "zYzjWTCoaSER",
        "colab_type": "code",
        "colab": {}
      },
      "source": [
        "results = np.array(results)"
      ],
      "execution_count": 0,
      "outputs": []
    },
    {
      "cell_type": "code",
      "metadata": {
        "id": "cAwQhfZxZYl-",
        "colab_type": "code",
        "outputId": "09b8b915-bafd-493d-d747-13fda877c1af",
        "colab": {
          "base_uri": "https://localhost:8080/",
          "height": 286
        }
      },
      "source": [
        "import seaborn as sns\n",
        "import matplotlib.pyplot as plt\n",
        "\n",
        "sns.kdeplot(results)\n",
        "CI = confidence_interval(results)\n",
        "plt.axvline(x=CI[1], color='red')\n",
        "plt.axvline(x=CI[2], color='red')\n",
        "plt.axvline(x=CI[0], color='black');"
      ],
      "execution_count": 155,
      "outputs": [
        {
          "output_type": "stream",
          "text": [
            "0.013252160496941053\n"
          ],
          "name": "stdout"
        },
        {
          "output_type": "display_data",
          "data": {
            "image/png": "[encoded data removed]",
            "text/plain": [
              "<Figure size 432x288 with 1 Axes>"
            ]
          },
          "metadata": {
            "tags": []
          }
        }
      ]
    },
    {
      "cell_type": "markdown",
      "metadata": {
        "id": "ItCcCV2qHp2H",
        "colab_type": "text"
      },
      "source": [
        "# Frequentist"
      ]
    },
    {
      "cell_type": "code",
      "metadata": {
        "id": "pdoe-Ibecvar",
        "colab_type": "code",
        "colab": {}
      },
      "source": [
        "import numpy as np\n",
        "import matplotlib.pyplot as plt\n",
        "import pandas as pd\n",
        "\n",
        "drunk_positive_lst = []\n",
        "for x in range(1000):\n",
        "  drunk_positive = np.random.binomial(n=1, p=.95, size=100)\n",
        "  one_sample = drunk_positive\n",
        "  drunk_positive_lst.append(drunk_positive.mean())"
      ],
      "execution_count": 0,
      "outputs": []
    },
    {
      "cell_type": "code",
      "metadata": {
        "id": "ww83vocuH1gV",
        "colab_type": "code",
        "colab": {
          "base_uri": "https://localhost:8080/",
          "height": 34
        },
        "outputId": "9ac4cdea-10fe-4dae-d7b1-8d038342a252"
      },
      "source": [
        "len(drunk_positive_lst)"
      ],
      "execution_count": 118,
      "outputs": [
        {
          "output_type": "execute_result",
          "data": {
            "text/plain": [
              "100"
            ]
          },
          "metadata": {
            "tags": []
          },
          "execution_count": 118
        }
      ]
    },
    {
      "cell_type": "code",
      "metadata": {
        "id": "uS2NhKUGH6EQ",
        "colab_type": "code",
        "colab": {
          "base_uri": "https://localhost:8080/",
          "height": 34
        },
        "outputId": "822a08d7-0d01-4266-f129-70d7a71511d4"
      },
      "source": [
        "type(drunk_positive_lst)"
      ],
      "execution_count": 108,
      "outputs": [
        {
          "output_type": "execute_result",
          "data": {
            "text/plain": [
              "list"
            ]
          },
          "metadata": {
            "tags": []
          },
          "execution_count": 108
        }
      ]
    },
    {
      "cell_type": "code",
      "metadata": {
        "id": "pJdx0h2KhS6m",
        "colab_type": "code",
        "outputId": "0a08143c-c72f-4c5c-f778-bffe5198f0b1",
        "colab": {
          "base_uri": "https://localhost:8080/",
          "height": 51
        }
      },
      "source": [
        "confidence_interval(drunk_positive_lst) # confidence interval, mean, - margin of error, + margin of error"
      ],
      "execution_count": 119,
      "outputs": [
        {
          "output_type": "stream",
          "text": [
            "0.004215815483068296\n"
          ],
          "name": "stdout"
        },
        {
          "output_type": "execute_result",
          "data": {
            "text/plain": [
              "(0.9497, 0.9454841845169317, 0.9539158154830683)"
            ]
          },
          "metadata": {
            "tags": []
          },
          "execution_count": 119
        }
      ]
    },
    {
      "cell_type": "code",
      "metadata": {
        "id": "7s7fRgUuIR4U",
        "colab_type": "code",
        "colab": {
          "base_uri": "https://localhost:8080/",
          "height": 68
        },
        "outputId": "e64888f1-f9b4-49bb-9560-7fe41c949cfd"
      },
      "source": [
        "stats.bayes_mvs(drunk_positive_lst, alpha=.95)"
      ],
      "execution_count": 120,
      "outputs": [
        {
          "output_type": "execute_result",
          "data": {
            "text/plain": [
              "(Mean(statistic=0.9497, minmax=(0.9454841845169317, 0.9539158154830683)),\n",
              " Variance(statistic=0.0004607319587628857, minmax=(0.0003480011520764088, 0.0006091922294965039)),\n",
              " Std_dev(statistic=0.021409418581460428, minmax=(0.018654788985041047, 0.024681819817357547)))"
            ]
          },
          "metadata": {
            "tags": []
          },
          "execution_count": 120
        }
      ]
    },
    {
      "cell_type": "code",
      "metadata": {
        "id": "25V2X1j9I7zY",
        "colab_type": "code",
        "colab": {
          "base_uri": "https://localhost:8080/",
          "height": 34
        },
        "outputId": "7f76f87b-6462-462b-f149-2c36cd721f8e"
      },
      "source": [
        "# from scipy.stats import t, ttest_1samp\n",
        "# ttest_1samp(drunk_positive_lst, .9)"
      ],
      "execution_count": 124,
      "outputs": [
        {
          "output_type": "execute_result",
          "data": {
            "text/plain": [
              "Ttest_1sampResult(statistic=23.39181657405187, pvalue=4.072896211481714e-42)"
            ]
          },
          "metadata": {
            "tags": []
          },
          "execution_count": 124
        }
      ]
    },
    {
      "cell_type": "markdown",
      "metadata": {
        "id": "YHyXI5JYyuXI",
        "colab_type": "text"
      },
      "source": [
        "# 3, 4"
      ]
    },
    {
      "cell_type": "code",
      "metadata": {
        "id": "lm5p2VQ_tAGs",
        "colab_type": "code",
        "colab": {
          "base_uri": "https://localhost:8080/",
          "height": 269
        },
        "outputId": "31d6879a-b321-4689-e83c-27eca4827492"
      },
      "source": [
        "ax = plt.hist(drunk_positive_lst, bins=50, stacked=True, log=True, histtype='barstacked', color='red')\n",
        "ax = plt.hist(results, bins=50, color='black')"
      ],
      "execution_count": 194,
      "outputs": [
        {
          "output_type": "display_data",
          "data": {
            "image/png": "[encoded data removed]",
            "text/plain": [
              "<Figure size 432x288 with 1 Axes>"
            ]
          },
          "metadata": {
            "tags": []
          }
        }
      ]
    },
    {
      "cell_type": "markdown",
      "metadata": {
        "id": "d-a1bbHny0oi",
        "colab_type": "text"
      },
      "source": [
        "- The red histogram was produced using the Frequentist's approach. The black is the Bayesian frequency, of course. Although in the end they both end up with similar means and margins of error, it seems like in the process of getting to the last trial, a lot more variance was produced with the Frequentist, yet a lot less of it with the Bayesian (more concentration). I think this is because the Bayesian \"builds\" upon prior belief, as opposed to the Frequentist, who treats every trial as the independent. There is recursion in beliefs with the Bayesian, meaning that with enough trials, all probabilities will be 1."
      ]
    },
    {
      "cell_type": "code",
      "metadata": {
        "id": "aHKwoOHfhvPt",
        "colab_type": "code",
        "colab": {}
      },
      "source": [
        "# import seaborn as sns\n",
        "# import matplotlib.pyplot as plt\n",
        "\n",
        "# sns.kdeplot(drunk_positive_lst)\n",
        "# sns.kdeplot(results)\n",
        "# CI = confidence_interval(drunk_positive_lst)\n",
        "# plt.axvline(x=CI[1], color='red')\n",
        "# plt.axvline(x=CI[2], color='red')\n",
        "# plt.axvline(x=CI[0], color='black');"
      ],
      "execution_count": 0,
      "outputs": []
    },
    {
      "cell_type": "code",
      "metadata": {
        "id": "hAusdpksroOm",
        "colab_type": "code",
        "colab": {}
      },
      "source": [
        "# fix, ax = plt.subplots()\n",
        "# for sample in [drunk_positive_lst, results]:\n",
        "#   sns.kdeplot(sample, shade=True)"
      ],
      "execution_count": 0,
      "outputs": []
    },
    {
      "cell_type": "markdown",
      "metadata": {
        "id": "uWgWjp3PQ3Sq",
        "colab_type": "text"
      },
      "source": [
        "## Resources"
      ]
    },
    {
      "cell_type": "markdown",
      "metadata": {
        "id": "QRgHqmYIQ9qn",
        "colab_type": "text"
      },
      "source": [
        "- [Worked example of Bayes rule calculation](https://en.wikipedia.org/wiki/Bayes'_theorem#Examples) (helpful as it fully breaks out the denominator)\n",
        "- [Source code for mvsdist in scipy](https://github.com/scipy/scipy/blob/90534919e139d2a81c24bf08341734ff41a3db12/scipy/stats/morestats.py#L139)"
      ]
    }
  ]
}