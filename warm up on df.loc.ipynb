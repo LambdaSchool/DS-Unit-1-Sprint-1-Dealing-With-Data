{
  "nbformat": 4,
  "nbformat_minor": 0,
  "metadata": {
    "colab": {
      "name": "Untitled0.ipynb",
      "version": "0.3.2",
      "provenance": [],
      "include_colab_link": true
    },
    "kernelspec": {
      "name": "python3",
      "display_name": "Python 3"
    }
  },
  "cells": [
    {
      "cell_type": "markdown",
      "metadata": {
        "id": "view-in-github",
        "colab_type": "text"
      },
      "source": [
        "<a href=\"https://colab.research.google.com/github/Bhavani-Rajan/DS-Unit-1-Sprint-1-Dealing-With-Data/blob/master/warm%20up%20on%20df.loc.ipynb\" target=\"_parent\"><img src=\"https://colab.research.google.com/assets/colab-badge.svg\" alt=\"Open In Colab\"/></a>"
      ]
    },
    {
      "cell_type": "code",
      "metadata": {
        "id": "TYSCxcR_v2pQ",
        "colab_type": "code",
        "colab": {}
      },
      "source": [
        "import pandas as pd\n",
        "\n",
        "# Data Frame to practice .loc[] techniques on\n",
        "df = pd.DataFrame({'index':[1, 2, 3, 4, 5],\n",
        "                   'name_1':['entry1', 'entry2', 'entry3', 'entry4', 'entry5'],\n",
        "                   'name_2':['entry1', 'entry2', 'entry3', 'entry4', 'entry5'],\n",
        "                   'name_3':['entry1', 'entry2', 'entry3', 'entry4', 'entry5'],\n",
        "                   'name_4':['entry1', 'entry2', 'entry3', 'entry4', 'entry5'],\n",
        "                   'name_5':['entry1', 'entry2', 'entry3', 'entry4', 'entry5']})\n",
        "\n"
      ],
      "execution_count": 0,
      "outputs": []
    },
    {
      "cell_type": "code",
      "metadata": {
        "id": "QU2XTnyUv4CO",
        "colab_type": "code",
        "colab": {
          "base_uri": "https://localhost:8080/",
          "height": 139
        },
        "outputId": "cdf8362c-a6ab-4def-aba9-24b6c1e23115"
      },
      "source": [
        "# Set Index\n",
        "df.set_index('index', inplace=True)\n",
        "\n",
        "### Select by a Single Label\n",
        "print(df.head())\n"
      ],
      "execution_count": 27,
      "outputs": [
        {
          "output_type": "stream",
          "text": [
            "       name_1  name_2  name_3  name_4  name_5\n",
            "index                                        \n",
            "1      entry1  entry1  entry1  entry1  entry1\n",
            "2      entry2  entry2  entry2  entry2  entry2\n",
            "3      entry3  entry3  entry3  entry3  entry3\n",
            "4      entry4  entry4  entry4  entry4  entry4\n",
            "5      entry5  entry5  entry5  entry5  entry5\n"
          ],
          "name": "stdout"
        }
      ]
    },
    {
      "cell_type": "code",
      "metadata": {
        "id": "ffzr2Pcyv6AD",
        "colab_type": "code",
        "colab": {
          "base_uri": "https://localhost:8080/",
          "height": 121
        },
        "outputId": "7ffb06f7-50b0-4dfc-a4ec-5bddbf41bac9"
      },
      "source": [
        "#1 Select and print the '1' Row\n",
        "print(df.loc[1])\n",
        "\n"
      ],
      "execution_count": 28,
      "outputs": [
        {
          "output_type": "stream",
          "text": [
            "name_1    entry1\n",
            "name_2    entry1\n",
            "name_3    entry1\n",
            "name_4    entry1\n",
            "name_5    entry1\n",
            "Name: 1, dtype: object\n"
          ],
          "name": "stdout"
        }
      ]
    },
    {
      "cell_type": "code",
      "metadata": {
        "id": "fMcMnN6GwPf-",
        "colab_type": "code",
        "colab": {
          "base_uri": "https://localhost:8080/",
          "height": 35
        },
        "outputId": "a42a71d8-fd29-4088-a948-ef3994562f7c"
      },
      "source": [
        "#2 Select and print Row 1 Label with Column 1 Label to get entry1\n",
        "print(df.loc[1,'name_1'])\n"
      ],
      "execution_count": 29,
      "outputs": [
        {
          "output_type": "stream",
          "text": [
            "entry1\n"
          ],
          "name": "stdout"
        }
      ]
    },
    {
      "cell_type": "code",
      "metadata": {
        "id": "oFLdk0NRwb-x",
        "colab_type": "code",
        "colab": {
          "base_uri": "https://localhost:8080/",
          "height": 87
        },
        "outputId": "b9351534-5d86-44c4-ef1f-23f84283b245"
      },
      "source": [
        "### Select Multiple Rows Using LISTS\n",
        "#1 Select and print Row Labels 1, 2\n",
        "print(df.loc[[1,2]])\n"
      ],
      "execution_count": 30,
      "outputs": [
        {
          "output_type": "stream",
          "text": [
            "       name_1  name_2  name_3  name_4  name_5\n",
            "index                                        \n",
            "1      entry1  entry1  entry1  entry1  entry1\n",
            "2      entry2  entry2  entry2  entry2  entry2\n"
          ],
          "name": "stdout"
        }
      ]
    },
    {
      "cell_type": "code",
      "metadata": {
        "id": "drNOLhuVxAd7",
        "colab_type": "code",
        "colab": {
          "base_uri": "https://localhost:8080/",
          "height": 104
        },
        "outputId": "2a931a0d-8d78-4539-e976-c2aa8fa22df2"
      },
      "source": [
        "#2 Select and print Row Labels 1, 3, 5\n",
        "print(df.loc[[1,3,5]])\n"
      ],
      "execution_count": 31,
      "outputs": [
        {
          "output_type": "stream",
          "text": [
            "       name_1  name_2  name_3  name_4  name_5\n",
            "index                                        \n",
            "1      entry1  entry1  entry1  entry1  entry1\n",
            "3      entry3  entry3  entry3  entry3  entry3\n",
            "5      entry5  entry5  entry5  entry5  entry5\n"
          ],
          "name": "stdout"
        }
      ]
    },
    {
      "cell_type": "code",
      "metadata": {
        "id": "m5jwm4nexYP6",
        "colab_type": "code",
        "colab": {
          "base_uri": "https://localhost:8080/",
          "height": 104
        },
        "outputId": "2c8c2573-91e9-41c8-a5eb-f795a108d827"
      },
      "source": [
        "# Now Rows WITH desired Columns\n",
        "#3 Select and print Row Labels 1, 2, 3 with Column Labels 'name_1', 'name_2', 'name_3'\n",
        "print(df.loc[[1,2,3],['name_1', 'name_2', 'name_3']])\n"
      ],
      "execution_count": 32,
      "outputs": [
        {
          "output_type": "stream",
          "text": [
            "       name_1  name_2  name_3\n",
            "index                        \n",
            "1      entry1  entry1  entry1\n",
            "2      entry2  entry2  entry2\n",
            "3      entry3  entry3  entry3\n"
          ],
          "name": "stdout"
        }
      ]
    },
    {
      "cell_type": "code",
      "metadata": {
        "id": "dWJJQ6QRxrt6",
        "colab_type": "code",
        "colab": {
          "base_uri": "https://localhost:8080/",
          "height": 121
        },
        "outputId": "cb585e16-03b7-4307-cff9-c44ee5075a65"
      },
      "source": [
        "#4 Select and print Row Labels 1, 3, 4, 5 with Column Labels 'name_1', 'name_3', 'name_4', 'name_5'\n",
        "print(df.loc[[1,3,4,5],['name_1', 'name_3', 'name_4','name_5']])\n"
      ],
      "execution_count": 33,
      "outputs": [
        {
          "output_type": "stream",
          "text": [
            "       name_1  name_3  name_4  name_5\n",
            "index                                \n",
            "1      entry1  entry1  entry1  entry1\n",
            "3      entry3  entry3  entry3  entry3\n",
            "4      entry4  entry4  entry4  entry4\n",
            "5      entry5  entry5  entry5  entry5\n"
          ],
          "name": "stdout"
        }
      ]
    },
    {
      "cell_type": "code",
      "metadata": {
        "id": "l2OeZ2h9yCA-",
        "colab_type": "code",
        "colab": {
          "base_uri": "https://localhost:8080/",
          "height": 87
        },
        "outputId": "0cbfe2e8-6996-44bd-cd60-61d1d3269d1b"
      },
      "source": [
        "### Select Multiple Row & Column Labels Using SLICE\n",
        "#1 Select and print Row Labels 1, 2\n",
        "print(df.loc[1:2])\n"
      ],
      "execution_count": 34,
      "outputs": [
        {
          "output_type": "stream",
          "text": [
            "       name_1  name_2  name_3  name_4  name_5\n",
            "index                                        \n",
            "1      entry1  entry1  entry1  entry1  entry1\n",
            "2      entry2  entry2  entry2  entry2  entry2\n"
          ],
          "name": "stdout"
        }
      ]
    },
    {
      "cell_type": "code",
      "metadata": {
        "id": "_zSKG5SryWtm",
        "colab_type": "code",
        "colab": {
          "base_uri": "https://localhost:8080/",
          "height": 104
        },
        "outputId": "619518ca-aa34-4e36-cc39-e786832deb0b"
      },
      "source": [
        "#2 Select and print Row Labels 1, 2, 3\n",
        "print(df.loc[1:3])\n"
      ],
      "execution_count": 35,
      "outputs": [
        {
          "output_type": "stream",
          "text": [
            "       name_1  name_2  name_3  name_4  name_5\n",
            "index                                        \n",
            "1      entry1  entry1  entry1  entry1  entry1\n",
            "2      entry2  entry2  entry2  entry2  entry2\n",
            "3      entry3  entry3  entry3  entry3  entry3\n"
          ],
          "name": "stdout"
        }
      ]
    },
    {
      "cell_type": "code",
      "metadata": {
        "id": "6uM2ilkwytMY",
        "colab_type": "code",
        "colab": {
          "base_uri": "https://localhost:8080/",
          "height": 104
        },
        "outputId": "6b9fe207-4f10-4aa0-9d08-ffa109976355"
      },
      "source": [
        "#3 Select and print Row Labels 1, 2, 3 with Column Labels 'name_1', 'name_2', 'name_3'\n",
        "\n",
        "print(df.loc[1:3,'name_1':'name_3'])\n"
      ],
      "execution_count": 36,
      "outputs": [
        {
          "output_type": "stream",
          "text": [
            "       name_1  name_2  name_3\n",
            "index                        \n",
            "1      entry1  entry1  entry1\n",
            "2      entry2  entry2  entry2\n",
            "3      entry3  entry3  entry3\n"
          ],
          "name": "stdout"
        }
      ]
    },
    {
      "cell_type": "code",
      "metadata": {
        "id": "rt6mo7sjy85W",
        "colab_type": "code",
        "colab": {
          "base_uri": "https://localhost:8080/",
          "height": 104
        },
        "outputId": "54f7f004-ee0f-4638-ef54-2b169c2e35f1"
      },
      "source": [
        "#4 Select and print Row Labels 3, 4, 5 with Column Labels 'name_3', 'name_4', 'name_5'\n",
        "\n",
        "print(df.loc[3:5,'name_3':'name_5'])\n"
      ],
      "execution_count": 37,
      "outputs": [
        {
          "output_type": "stream",
          "text": [
            "       name_3  name_4  name_5\n",
            "index                        \n",
            "3      entry3  entry3  entry3\n",
            "4      entry4  entry4  entry4\n",
            "5      entry5  entry5  entry5\n"
          ],
          "name": "stdout"
        }
      ]
    },
    {
      "cell_type": "code",
      "metadata": {
        "id": "zzoAE3U5zMPd",
        "colab_type": "code",
        "colab": {
          "base_uri": "https://localhost:8080/",
          "height": 87
        },
        "outputId": "d06913ca-f20e-454f-cdd8-53562797bc99"
      },
      "source": [
        "### Select Multiple Row & Column Labels Using Booleans\n",
        "# Reminder the Boolean List MUST be the same length as the Row/Column Axis\n",
        "#1 Select and print Row Labels 1, 2\n",
        "print(df.loc[[True,True,False,False,False]])\n"
      ],
      "execution_count": 38,
      "outputs": [
        {
          "output_type": "stream",
          "text": [
            "       name_1  name_2  name_3  name_4  name_5\n",
            "index                                        \n",
            "1      entry1  entry1  entry1  entry1  entry1\n",
            "2      entry2  entry2  entry2  entry2  entry2\n"
          ],
          "name": "stdout"
        }
      ]
    },
    {
      "cell_type": "code",
      "metadata": {
        "id": "NbUoSaEEzck3",
        "colab_type": "code",
        "colab": {
          "base_uri": "https://localhost:8080/",
          "height": 104
        },
        "outputId": "f627b202-22af-46a3-b170-6ddabafc7d3d"
      },
      "source": [
        "#2 Select and print Row Labels 1, 3, 5\n",
        "print(df.loc[[True,False,True,False,True]])\n"
      ],
      "execution_count": 39,
      "outputs": [
        {
          "output_type": "stream",
          "text": [
            "       name_1  name_2  name_3  name_4  name_5\n",
            "index                                        \n",
            "1      entry1  entry1  entry1  entry1  entry1\n",
            "3      entry3  entry3  entry3  entry3  entry3\n",
            "5      entry5  entry5  entry5  entry5  entry5\n"
          ],
          "name": "stdout"
        }
      ]
    },
    {
      "cell_type": "code",
      "metadata": {
        "id": "EeW07sh10Csm",
        "colab_type": "code",
        "colab": {
          "base_uri": "https://localhost:8080/",
          "height": 104
        },
        "outputId": "27bf9b82-c9cc-47b6-d23d-71d1a5bd1379"
      },
      "source": [
        "#3 Select and print Row Labels 1, 2, 3 with Column Labels 'name_1', 'name_2', 'name_3'\n",
        "print(df.loc[[True,True,True,False,False],[True,True,True,False,False]])\n"
      ],
      "execution_count": 40,
      "outputs": [
        {
          "output_type": "stream",
          "text": [
            "       name_1  name_2  name_3\n",
            "index                        \n",
            "1      entry1  entry1  entry1\n",
            "2      entry2  entry2  entry2\n",
            "3      entry3  entry3  entry3\n"
          ],
          "name": "stdout"
        }
      ]
    },
    {
      "cell_type": "code",
      "metadata": {
        "id": "J8E9Ap4L0S_M",
        "colab_type": "code",
        "colab": {
          "base_uri": "https://localhost:8080/",
          "height": 121
        },
        "outputId": "42f0bca9-3c5f-4ec5-c3bb-1b0ef9a6d526"
      },
      "source": [
        "#4 Select and print Row Labels 1, 3, 4, 5 with Column Labels 'name_1', 'name_3', 'name_4', 'name_5'\n",
        "print(df.loc[[True,False,True,True,True],[True,False,True,True,True]])"
      ],
      "execution_count": 41,
      "outputs": [
        {
          "output_type": "stream",
          "text": [
            "       name_1  name_3  name_4  name_5\n",
            "index                                \n",
            "1      entry1  entry1  entry1  entry1\n",
            "3      entry3  entry3  entry3  entry3\n",
            "4      entry4  entry4  entry4  entry4\n",
            "5      entry5  entry5  entry5  entry5\n"
          ],
          "name": "stdout"
        }
      ]
    },
    {
      "cell_type": "code",
      "metadata": {
        "id": "0YwzKiTJ0ie_",
        "colab_type": "code",
        "colab": {}
      },
      "source": [
        ""
      ],
      "execution_count": 0,
      "outputs": []
    },
    {
      "cell_type": "code",
      "metadata": {
        "id": "D25Invwp0ye8",
        "colab_type": "code",
        "colab": {}
      },
      "source": [
        ""
      ],
      "execution_count": 0,
      "outputs": []
    }
  ]
}