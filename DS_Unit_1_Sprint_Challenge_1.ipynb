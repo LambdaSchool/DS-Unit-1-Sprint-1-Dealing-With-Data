{
  "nbformat": 4,
  "nbformat_minor": 0,
  "metadata": {
    "colab": {
      "name": "DS_Unit_1_Sprint_Challenge_1.ipynb",
      "version": "0.3.2",
      "provenance": [],
      "collapsed_sections": [],
      "include_colab_link": true
    },
    "kernelspec": {
      "name": "python3",
      "display_name": "Python 3"
    }
  },
  "cells": [
    {
      "cell_type": "markdown",
      "metadata": {
        "id": "view-in-github",
        "colab_type": "text"
      },
      "source": [
        "<a href=\"https://colab.research.google.com/github/DimaKav/DS-Sprint-01-Dealing-With-Data/blob/master/DS_Unit_1_Sprint_Challenge_1.ipynb\" target=\"_parent\"><img src=\"https://colab.research.google.com/assets/colab-badge.svg\" alt=\"Open In Colab\"/></a>"
      ]
    },
    {
      "metadata": {
        "id": "NooAiTdnafkz",
        "colab_type": "text"
      },
      "cell_type": "markdown",
      "source": [
        "# Data Science Unit 1 Sprint Challenge 1\n",
        "\n",
        "## Loading, cleaning, visualizing, and analyzing data\n",
        "\n",
        "In this sprint challenge you will look at a dataset of the survival of patients who underwent surgery for breast cancer.\n",
        "\n",
        "http://archive.ics.uci.edu/ml/datasets/Haberman%27s+Survival\n",
        "\n",
        "Data Set Information:\n",
        "The dataset contains cases from a study that was conducted between 1958 and 1970 at the University of Chicago's Billings Hospital on the survival of patients who had undergone surgery for breast cancer.\n",
        "\n",
        "Attribute Information:\n",
        "1. Age of patient at time of operation (numerical)\n",
        "2. Patient's year of operation (year - 1900, numerical)\n",
        "3. Number of positive axillary nodes detected (numerical)\n",
        "4. Survival status (class attribute)\n",
        "-- 1 = the patient survived 5 years or longer\n",
        "-- 2 = the patient died within 5 year\n",
        "\n",
        "Sprint challenges are evaluated based on satisfactory completion of each part. It is suggested you work through it in order, getting each aspect reasonably working, before trying to deeply explore, iterate, or refine any given step. Once you get to the end, if you want to go back and improve things, go for it!"
      ]
    },
    {
      "metadata": {
        "id": "5wch6ksCbJtZ",
        "colab_type": "text"
      },
      "cell_type": "markdown",
      "source": [
        "## Part 1 - Load and validate the data\n",
        "\n",
        "- Load the data as a `pandas` data frame.\n",
        "- Validate that it has the appropriate number of observations (you can check the raw file, and also read the dataset description from UCI).\n",
        "- Validate that you have no missing values.\n",
        "- Add informative names to the features.\n",
        "- The survival variable is encoded as 1 for surviving >5 years and 2 for not - change this to be 0 for not surviving and 1 for surviving >5 years (0/1 is a more traditional encoding of binary variables)\n",
        "\n",
        "At the end, print the first five rows of the dataset to demonstrate the above."
      ]
    },
    {
      "metadata": {
        "id": "XBfEcBGrq1Ub",
        "colab_type": "code",
        "colab": {}
      },
      "cell_type": "code",
      "source": [
        "# Imports\n",
        "import pandas as pd\n",
        "import matplotlib.pyplot as plt\n",
        "import seaborn as sns\n",
        "import numpy as np"
      ],
      "execution_count": 0,
      "outputs": []
    },
    {
      "metadata": {
        "id": "287TpoGKFRVK",
        "colab_type": "code",
        "colab": {
          "base_uri": "https://localhost:8080/",
          "height": 306
        },
        "outputId": "c1b825b8-a4d0-48dc-eea2-764d7642eaf0"
      },
      "cell_type": "code",
      "source": [
        "# Load data into pandas dataframe\n",
        "\n",
        "df = pd.read_csv('http://archive.ics.uci.edu/ml/machine-learning-databases/haberman/haberman.data')\n",
        "\n",
        "# Check that it has 3 attributes and 306 instances\n",
        "\n",
        "print(df.shape)\n",
        "\n",
        "# Check missing values\n",
        "\n",
        "print(df.isnull().sum())\n",
        "\n",
        "# Change the column names\n",
        "\n",
        "df.columns = ['patient_age', 'year_of_op', 'num_cancer_nodes', 'survival']\n",
        "\n",
        "# Encode 0 for not surviving and 1 for surviving\n",
        "\n",
        "df.survival.replace(2, 0, inplace=True)\n",
        "\n",
        "# Check first ten rows\n",
        "\n",
        "print(df.head(10))"
      ],
      "execution_count": 22,
      "outputs": [
        {
          "output_type": "stream",
          "text": [
            "(305, 4)\n",
            "30     0\n",
            "64     0\n",
            "1      0\n",
            "1.1    0\n",
            "dtype: int64\n",
            "   patient_age  year_of_op  num_cancer_nodes  survival\n",
            "0           30          62                 3         1\n",
            "1           30          65                 0         1\n",
            "2           31          59                 2         1\n",
            "3           31          65                 4         1\n",
            "4           33          58                10         1\n",
            "5           33          60                 0         1\n",
            "6           34          59                 0         0\n",
            "7           34          66                 9         0\n",
            "8           34          58                30         1\n",
            "9           34          60                 1         1\n"
          ],
          "name": "stdout"
        }
      ]
    },
    {
      "metadata": {
        "id": "G7rLytbrO38L",
        "colab_type": "text"
      },
      "cell_type": "markdown",
      "source": [
        "\n",
        "## Part 2 - Examine the distribution and relationships of the features\n",
        "\n",
        "Explore the data - create at least *2* tables (can be summary statistics or crosstabulations) and *2* plots illustrating the nature of the data.\n",
        "\n",
        "This is open-ended, so to remind - first *complete* this task as a baseline, then go on to the remaining sections, and *then* as time allows revisit and explore further.\n",
        "\n",
        "Hint - you may need to bin some variables depending on your chosen tables/plots."
      ]
    },
    {
      "metadata": {
        "id": "IAkllgCIFVj0",
        "colab_type": "code",
        "colab": {
          "base_uri": "https://localhost:8080/",
          "height": 255
        },
        "outputId": "03b62fbb-0d10-4906-83be-a91b581c0218"
      },
      "cell_type": "code",
      "source": [
        "# Table 1: summary statistics\n",
        "\n",
        "print(df.describe())\n",
        "print(df.corr())"
      ],
      "execution_count": 32,
      "outputs": [
        {
          "output_type": "stream",
          "text": [
            "       patient_age  year_of_op  num_cancer_nodes    survival\n",
            "count   305.000000  305.000000        305.000000  305.000000\n",
            "mean     52.531148   62.849180          4.036066    0.734426\n",
            "std      10.744024    3.254078          7.199370    0.442364\n",
            "min      30.000000   58.000000          0.000000    0.000000\n",
            "25%      44.000000   60.000000          0.000000    0.000000\n",
            "50%      52.000000   63.000000          1.000000    1.000000\n",
            "75%      61.000000   66.000000          4.000000    1.000000\n",
            "max      83.000000   69.000000         52.000000    1.000000\n",
            "                  patient_age  year_of_op  num_cancer_nodes  survival\n",
            "patient_age          1.000000    0.092623         -0.066548 -0.064351\n",
            "year_of_op           0.092623    1.000000         -0.003277  0.004076\n",
            "num_cancer_nodes    -0.066548   -0.003277          1.000000 -0.286191\n",
            "survival            -0.064351    0.004076         -0.286191  1.000000\n"
          ],
          "name": "stdout"
        }
      ]
    },
    {
      "metadata": {
        "id": "YAylNPizyFhf",
        "colab_type": "code",
        "colab": {
          "base_uri": "https://localhost:8080/",
          "height": 1513
        },
        "outputId": "1e04207a-6d61-45b8-f69a-5ef69ff78d34"
      },
      "cell_type": "code",
      "source": [
        "# Table 2: cross tabulation of total survival by num cancer nodes\n",
        "\n",
        "print(pd.crosstab(df.num_cancer_nodes, df.survival, margins=True, margins_name=\"Total\"))"
      ],
      "execution_count": 120,
      "outputs": [
        {
          "output_type": "stream",
          "text": [
            "survival           0    1  Total\n",
            "num_cancer_nodes                \n",
            "0                 19  117    136\n",
            "1                  8   32     40\n",
            "2                  5   15     20\n",
            "3                  7   13     20\n",
            "4                  3   10     13\n",
            "5                  4    2      6\n",
            "6                  3    4      7\n",
            "7                  2    5      7\n",
            "8                  2    5      7\n",
            "9                  4    2      6\n",
            "10                 1    2      3\n",
            "11                 3    1      4\n",
            "12                 1    1      2\n",
            "13                 4    1      5\n",
            "14                 1    3      4\n",
            "15                 2    1      3\n",
            "16                 0    1      1\n",
            "17                 1    0      1\n",
            "18                 0    1      1\n",
            "19                 2    1      3\n",
            "20                 1    1      2\n",
            "21                 1    0      1\n",
            "22                 1    2      3\n",
            "23                 3    0      3\n",
            "24                 1    0      1\n",
            "25                 0    1      1\n",
            "28                 0    1      1\n",
            "30                 0    1      1\n",
            "35                 1    0      1\n",
            "46                 0    1      1\n",
            "52                 1    0      1\n",
            "Total             81  224    305\n",
            "\n",
            "\n",
            "survival      0    1  Total\n",
            "patient_age                \n",
            "30            0    2      2\n",
            "31            0    2      2\n",
            "33            0    2      2\n",
            "34            2    5      7\n",
            "35            0    2      2\n",
            "36            0    2      2\n",
            "37            0    6      6\n",
            "38            1    9     10\n",
            "39            1    5      6\n",
            "40            0    3      3\n",
            "41            3    7     10\n",
            "42            2    7      9\n",
            "43            4    7     11\n",
            "44            3    4      7\n",
            "45            3    6      9\n",
            "46            4    3      7\n",
            "47            3    8     11\n",
            "48            3    4      7\n",
            "49            2    8     10\n",
            "50            2   10     12\n",
            "51            2    4      6\n",
            "52            4   10     14\n",
            "53            6    5     11\n",
            "54            4    9     13\n",
            "55            2    8     10\n",
            "56            2    5      7\n",
            "57            3    8     11\n",
            "58            0    7      7\n",
            "59            1    7      8\n",
            "60            2    4      6\n",
            "61            3    6      9\n",
            "62            3    4      7\n",
            "63            1    7      8\n",
            "64            0    5      5\n",
            "65            4    6     10\n",
            "66            2    3      5\n",
            "67            2    4      6\n",
            "68            0    2      2\n",
            "69            1    3      4\n",
            "70            2    5      7\n",
            "71            0    1      1\n",
            "72            1    3      4\n",
            "73            0    2      2\n",
            "74            1    1      2\n",
            "75            0    1      1\n",
            "76            0    1      1\n",
            "77            0    1      1\n",
            "78            1    0      1\n",
            "83            1    0      1\n",
            "Total        81  224    305\n"
          ],
          "name": "stdout"
        }
      ]
    },
    {
      "metadata": {
        "id": "ZXzTjB4Oy_qo",
        "colab_type": "code",
        "colab": {
          "base_uri": "https://localhost:8080/",
          "height": 796
        },
        "outputId": "a70875a5-a77e-4454-e9be-2c0a42f3c741"
      },
      "cell_type": "code",
      "source": [
        "# Plot 1: distributions of variables\n",
        "\n",
        "col_list = ['patient_age', 'year_of_op', 'num_cancer_nodes', 'survival']\n",
        "\n",
        "for i, col in zip(range(1,5), col_list):\n",
        "  plt.figure(figsize=(10, 10))\n",
        "  plt.subplot(4,1,i)\n",
        "  pd.value_counts(df[col]).plot.bar()\n",
        "  plt.title(col)\n",
        "  plt.tight_layout()"
      ],
      "execution_count": 97,
      "outputs": [
        {
          "output_type": "display_data",
          "data": {
            "image/png": "[encoded data removed]",
            "text/plain": [
              "<matplotlib.figure.Figure at 0x7fa7e7bfeb00>"
            ]
          },
          "metadata": {
            "tags": []
          }
        },
        {
          "output_type": "display_data",
          "data": {
            "image/png": "[encoded data removed]",
            "text/plain": [
              "<matplotlib.figure.Figure at 0x7fa7e7bf06a0>"
            ]
          },
          "metadata": {
            "tags": []
          }
        },
        {
          "output_type": "display_data",
          "data": {
            "image/png": "[encoded data removed]",
            "text/plain": [
              "<matplotlib.figure.Figure at 0x7fa7e76e2c50>"
            ]
          },
          "metadata": {
            "tags": []
          }
        },
        {
          "output_type": "display_data",
          "data": {
            "image/png": "[encoded data removed]",
            "text/plain": [
              "<matplotlib.figure.Figure at 0x7fa7e773ada0>"
            ]
          },
          "metadata": {
            "tags": []
          }
        }
      ]
    },
    {
      "metadata": {
        "id": "f8AmhduF9Ybo",
        "colab_type": "text"
      },
      "cell_type": "markdown",
      "source": [
        ""
      ]
    },
    {
      "metadata": {
        "id": "JpmKnsE9zc2u",
        "colab_type": "code",
        "colab": {
          "base_uri": "https://localhost:8080/",
          "height": 361
        },
        "outputId": "252808c6-442e-4c95-e613-d4247ce098e1"
      },
      "cell_type": "code",
      "source": [
        "# Plot 2: correlations between number of cancerous nodes, age, and survival\n",
        "\n",
        "plt.subplot(1,2,1)\n",
        "_ = plt.scatter(df.patient_age, df.num_cancer_nodes, alpha=0.5)\n",
        "plt.xlabel('Age')\n",
        "plt.ylabel('Number of cancerous nodes')\n",
        "plt.subplot(1,2,2)\n",
        "_ = plt.bar(df.survival, df.num_cancer_nodes)\n",
        "plt.xticks([0,1])\n",
        "plt.xlabel('Did not survive (0) survived (1)')\n",
        "plt.yticks([])\n",
        "plt.show()"
      ],
      "execution_count": 117,
      "outputs": [
        {
          "output_type": "display_data",
          "data": {
            "image/png": "[encoded data removed]",
            "text/plain": [
              "<matplotlib.figure.Figure at 0x7fa7e70a0080>"
            ]
          },
          "metadata": {
            "tags": []
          }
        }
      ]
    },
    {
      "metadata": {
        "id": "ZM8JckA2bgnp",
        "colab_type": "text"
      },
      "cell_type": "markdown",
      "source": [
        "## Part 3 - Analysis and Interpretation\n",
        "\n",
        "Now that you've looked at the data, answer the following questions:\n",
        "\n",
        "- What is at least one feature that looks to have a positive relationship with survival?\n",
        "\n",
        "Having less cacerous nodes. Also, younger patients tended to survive a little more.\n",
        "\n",
        "- What is at least one feature that looks to have a negative relationship with survival?\n",
        "\n",
        "Increasing number of cancerous nodes.\n",
        "\n",
        "- How are those two features related with each other, and what might that mean?\n",
        "\n",
        "Patient age and survival are related to each other because younger patients survived a little more than older patients.\n",
        "\n",
        "Answer with text, but feel free to intersperse example code/results or refer to it from earlier."
      ]
    },
    {
      "metadata": {
        "id": "sGQ8kHTfDBcF",
        "colab_type": "code",
        "colab": {
          "base_uri": "https://localhost:8080/",
          "height": 142
        },
        "outputId": "d589c31a-1b91-4ca7-ba92-c36edd1af8c1"
      },
      "cell_type": "code",
      "source": [
        "# Younger patients survived a little more than older patients\n",
        "# This is also shown in the correlations above\n",
        "\n",
        "time_bins = pd.cut(df['patient_age'], 5) \n",
        "grouped_s = pd.crosstab(df['survival'], time_bins)\n",
        "\n",
        "grouped_s"
      ],
      "execution_count": 226,
      "outputs": [
        {
          "output_type": "execute_result",
          "data": {
            "text/html": [
              "<div>\n",
              "<style scoped>\n",
              "    .dataframe tbody tr th:only-of-type {\n",
              "        vertical-align: middle;\n",
              "    }\n",
              "\n",
              "    .dataframe tbody tr th {\n",
              "        vertical-align: top;\n",
              "    }\n",
              "\n",
              "    .dataframe thead th {\n",
              "        text-align: right;\n",
              "    }\n",
              "</style>\n",
              "<table border=\"1\" class=\"dataframe\">\n",
              "  <thead>\n",
              "    <tr style=\"text-align: right;\">\n",
              "      <th>patient_age</th>\n",
              "      <th>(29.947, 40.6]</th>\n",
              "      <th>(40.6, 51.2]</th>\n",
              "      <th>(51.2, 61.8]</th>\n",
              "      <th>(61.8, 72.4]</th>\n",
              "      <th>(72.4, 83.0]</th>\n",
              "    </tr>\n",
              "    <tr>\n",
              "      <th>survival</th>\n",
              "      <th></th>\n",
              "      <th></th>\n",
              "      <th></th>\n",
              "      <th></th>\n",
              "      <th></th>\n",
              "    </tr>\n",
              "  </thead>\n",
              "  <tbody>\n",
              "    <tr>\n",
              "      <th>0</th>\n",
              "      <td>4</td>\n",
              "      <td>31</td>\n",
              "      <td>27</td>\n",
              "      <td>16</td>\n",
              "      <td>3</td>\n",
              "    </tr>\n",
              "    <tr>\n",
              "      <th>1</th>\n",
              "      <td>38</td>\n",
              "      <td>68</td>\n",
              "      <td>69</td>\n",
              "      <td>43</td>\n",
              "      <td>6</td>\n",
              "    </tr>\n",
              "  </tbody>\n",
              "</table>\n",
              "</div>"
            ],
            "text/plain": [
              "patient_age  (29.947, 40.6]  (40.6, 51.2]  (51.2, 61.8]  (61.8, 72.4]  \\\n",
              "survival                                                                \n",
              "0                         4            31            27            16   \n",
              "1                        38            68            69            43   \n",
              "\n",
              "patient_age  (72.4, 83.0]  \n",
              "survival                   \n",
              "0                       3  \n",
              "1                       6  "
            ]
          },
          "metadata": {
            "tags": []
          },
          "execution_count": 226
        }
      ]
    }
  ]
}
