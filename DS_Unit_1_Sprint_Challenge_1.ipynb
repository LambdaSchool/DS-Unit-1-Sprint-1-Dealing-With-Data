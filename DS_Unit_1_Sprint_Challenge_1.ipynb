{
 "cells": [
  {
   "cell_type": "markdown",
   "metadata": {
    "colab_type": "text",
    "id": "NooAiTdnafkz"
   },
   "source": [
    "# Data Science Unit 1 Sprint Challenge 1\n",
    "\n",
    "## Loading, cleaning, visualizing, and analyzing data\n",
    "\n",
    "In this sprint challenge you will look at a dataset of the survival of patients who underwent surgery for breast cancer.\n",
    "\n",
    "http://archive.ics.uci.edu/ml/datasets/Haberman%27s+Survival\n",
    "\n",
    "Data Set Information:\n",
    "The dataset contains cases from a study that was conducted between 1958 and 1970 at the University of Chicago's Billings Hospital on the survival of patients who had undergone surgery for breast cancer.\n",
    "\n",
    "Attribute Information:\n",
    "1. Age of patient at time of operation (numerical)\n",
    "2. Patient's year of operation (year - 1900, numerical)\n",
    "3. Number of positive axillary nodes detected (numerical)\n",
    "4. Survival status (class attribute)\n",
    "-- 1 = the patient survived 5 years or longer\n",
    "-- 2 = the patient died within 5 year\n",
    "\n",
    "Sprint challenges are evaluated based on satisfactory completion of each part. It is suggested you work through it in order, getting each aspect reasonably working, before trying to deeply explore, iterate, or refine any given step. Once you get to the end, if you want to go back and improve things, go for it!"
   ]
  },
  {
   "cell_type": "markdown",
   "metadata": {
    "colab_type": "text",
    "id": "5wch6ksCbJtZ"
   },
   "source": [
    "## Part 1 - Load and validate the data\n",
    "\n",
    "- Load the data as a `pandas` data frame.\n",
    "- Validate that it has the appropriate number of observations (you can check the raw file, and also read the dataset description from UCI).\n",
    "- Validate that you have no missing values.\n",
    "- Add informative names to the features.\n",
    "- The survival variable is encoded as 1 for surviving >5 years and 2 for not - change this to be 0 for not surviving and 1 for surviving >5 years (0/1 is a more traditional encoding of binary variables)\n",
    "\n",
    "At the end, print the first five rows of the dataset to demonstrate the above."
   ]
  },
  {
   "cell_type": "markdown",
   "metadata": {
    "colab": {},
    "colab_type": "code",
    "id": "287TpoGKFRVK"
   },
   "source": [
    "**From .names file:\n",
    "5. Number of Instances: 306\n",
    "\n",
    "6. Number of Attributes: 4 (including the class attribute)\n",
    "\n",
    "7. Attribute Information:\n",
    "   1. Age of patient at time of operation (numerical)\n",
    "   2. Patient's year of operation (year - 1900, numerical)\n",
    "   3. Number of positive axillary nodes detected (numerical)\n",
    "   4. Survival status (class attribute)\n",
    "         1 = the patient survived 5 years or longer\n",
    "         2 = the patient died within 5 year\n",
    "\n",
    "8. Missing Attribute Values: None\n"
   ]
  },
  {
   "cell_type": "code",
   "execution_count": 1,
   "metadata": {},
   "outputs": [],
   "source": [
    "## Import libraries\n",
    "# File Handling\n",
    "import wget\n",
    "import os.path\n",
    "from os import path\n",
    "\n",
    "# Data\n",
    "import pandas as pd\n",
    "import numpy as np"
   ]
  },
  {
   "cell_type": "code",
   "execution_count": 2,
   "metadata": {},
   "outputs": [
    {
     "name": "stdout",
     "output_type": "stream",
     "text": [
      "haberman.data successfully downloaded\n"
     ]
    }
   ],
   "source": [
    "## Get the data\n",
    "def downloadFile(url, name=None):\n",
    "    '''\n",
    "    Check if file exists and download to working directory if it does not.\n",
    "    '''\n",
    "    split_url = url_split = url.split('/')\n",
    "    filename = url_split[len(url_split)-1]\n",
    "    \n",
    "    if path.exists(filename):\n",
    "        print('File already exists')\n",
    "    else:\n",
    "        try:\n",
    "            filename = wget.download(url, out=name)\n",
    "            print(filename, 'successfully downloaded')\n",
    "        except:\n",
    "            print('File could not be downloaded.  Check URL & connection.')\n",
    "    return filename\n",
    "\n",
    "filename = downloadFile(\"http://archive.ics.uci.edu/ml/machine-learning-databases/haberman/haberman.data\", \"haberman.data\")"
   ]
  },
  {
   "cell_type": "code",
   "execution_count": 6,
   "metadata": {},
   "outputs": [
    {
     "name": "stdout",
     "output_type": "stream",
     "text": [
      "Head    30  64   1  1.1\n",
      "0  30  62   3    1\n",
      "1  30  65   0    1\n",
      "2  31  59   2    1\n",
      "3  31  65   4    1\n",
      "4  33  58  10    1\n",
      "Head      30  64  1  1.1\n",
      "300  75  62  1    1\n",
      "301  76  67  0    1\n",
      "302  77  65  3    1\n",
      "303  78  65  1    2\n",
      "304  83  58  2    2\n"
     ]
    }
   ],
   "source": [
    "## Load the local file into pandas\n",
    "data = pd.read_csv(filename, skiprows=0, skipfooter=0)\n",
    "print('Head', data.head())\n",
    "print('Head', data.tail())\n"
   ]
  },
  {
   "cell_type": "code",
   "execution_count": 8,
   "metadata": {},
   "outputs": [
    {
     "name": "stdout",
     "output_type": "stream",
     "text": [
      "1\n"
     ]
    }
   ],
   "source": [
    "## Missing a row\n",
    "print(306-len(data))"
   ]
  },
  {
   "cell_type": "code",
   "execution_count": 9,
   "metadata": {},
   "outputs": [
    {
     "name": "stdout",
     "output_type": "stream",
     "text": [
      "Head    Age  Year  Nodes  S_Status\n",
      "0   30    64      1         1\n",
      "1   30    62      3         1\n",
      "2   30    65      0         1\n",
      "3   31    59      2         1\n",
      "4   31    65      4         1\n",
      "Head      Age  Year  Nodes  S_Status\n",
      "301   75    62      1         1\n",
      "302   76    67      0         1\n",
      "303   77    65      3         1\n",
      "304   78    65      1         2\n",
      "305   83    58      2         2\n"
     ]
    }
   ],
   "source": [
    "## Must manually add the header\n",
    "columns = ['Age', 'Year', 'Nodes', 'S_Status']\n",
    "\n",
    "## re-initialize pandas dataframe with correct header (to get row back)\n",
    "data = pd.read_csv(filename, skiprows=0, skipfooter=0, header=None, names=columns)\n",
    "print('Head', data.head())\n",
    "print('Head', data.tail())"
   ]
  },
  {
   "cell_type": "markdown",
   "metadata": {
    "colab_type": "text",
    "id": "G7rLytbrO38L"
   },
   "source": [
    "## Part 2 - Examine the distribution and relationships of the features\n",
    "\n",
    "Explore the data - create at least *2* tables (can be summary statistics or crosstabulations) and *2* plots illustrating the nature of the data.\n",
    "\n",
    "This is open-ended, so to remind - first *complete* this task as a baseline, then go on to the remaining sections, and *then* as time allows revisit and explore further.\n",
    "\n",
    "Hint - you may need to bin some variables depending on your chosen tables/plots."
   ]
  },
  {
   "cell_type": "code",
   "execution_count": 10,
   "metadata": {
    "colab": {},
    "colab_type": "code",
    "id": "IAkllgCIFVj0"
   },
   "outputs": [
    {
     "name": "stdout",
     "output_type": "stream",
     "text": [
      "Column Age\n",
      "52    14\n",
      "54    13\n",
      "50    12\n",
      "47    11\n",
      "53    11\n",
      "43    11\n",
      "57    11\n",
      "55    10\n",
      "65    10\n",
      "49    10\n",
      "38    10\n",
      "41    10\n",
      "61     9\n",
      "45     9\n",
      "42     9\n",
      "63     8\n",
      "59     8\n",
      "62     7\n",
      "44     7\n",
      "58     7\n",
      "56     7\n",
      "46     7\n",
      "70     7\n",
      "34     7\n",
      "48     7\n",
      "37     6\n",
      "67     6\n",
      "60     6\n",
      "51     6\n",
      "39     6\n",
      "66     5\n",
      "64     5\n",
      "72     4\n",
      "69     4\n",
      "40     3\n",
      "30     3\n",
      "68     2\n",
      "73     2\n",
      "74     2\n",
      "36     2\n",
      "35     2\n",
      "33     2\n",
      "31     2\n",
      "78     1\n",
      "71     1\n",
      "75     1\n",
      "76     1\n",
      "77     1\n",
      "83     1\n",
      "Name: Age, dtype: int64\n",
      "Column Year\n",
      "58    36\n",
      "64    31\n",
      "63    30\n",
      "66    28\n",
      "65    28\n",
      "60    28\n",
      "59    27\n",
      "61    26\n",
      "67    25\n",
      "62    23\n",
      "68    13\n",
      "69    11\n",
      "Name: Year, dtype: int64\n",
      "Column Nodes\n",
      "0     136\n",
      "1      41\n",
      "2      20\n",
      "3      20\n",
      "4      13\n",
      "6       7\n",
      "7       7\n",
      "8       7\n",
      "5       6\n",
      "9       6\n",
      "13      5\n",
      "14      4\n",
      "11      4\n",
      "10      3\n",
      "15      3\n",
      "19      3\n",
      "22      3\n",
      "23      3\n",
      "12      2\n",
      "20      2\n",
      "46      1\n",
      "16      1\n",
      "17      1\n",
      "18      1\n",
      "21      1\n",
      "24      1\n",
      "25      1\n",
      "28      1\n",
      "30      1\n",
      "35      1\n",
      "52      1\n",
      "Name: Nodes, dtype: int64\n",
      "Column S_Status\n",
      "1    225\n",
      "2     81\n",
      "Name: S_Status, dtype: int64\n"
     ]
    }
   ],
   "source": [
    "## First let's make sure there aren't any null values\n",
    "for column in columns:\n",
    "    print('Column', column)\n",
    "    print(data[column].value_counts())"
   ]
  },
  {
   "cell_type": "code",
   "execution_count": 11,
   "metadata": {},
   "outputs": [
    {
     "data": {
      "text/html": [
       "<div>\n",
       "<style scoped>\n",
       "    .dataframe tbody tr th:only-of-type {\n",
       "        vertical-align: middle;\n",
       "    }\n",
       "\n",
       "    .dataframe tbody tr th {\n",
       "        vertical-align: top;\n",
       "    }\n",
       "\n",
       "    .dataframe thead th {\n",
       "        text-align: right;\n",
       "    }\n",
       "</style>\n",
       "<table border=\"1\" class=\"dataframe\">\n",
       "  <thead>\n",
       "    <tr style=\"text-align: right;\">\n",
       "      <th></th>\n",
       "      <th>Age</th>\n",
       "      <th>Year</th>\n",
       "      <th>Nodes</th>\n",
       "      <th>S_Status</th>\n",
       "    </tr>\n",
       "  </thead>\n",
       "  <tbody>\n",
       "    <tr>\n",
       "      <th>0</th>\n",
       "      <td>30</td>\n",
       "      <td>64</td>\n",
       "      <td>1</td>\n",
       "      <td>1</td>\n",
       "    </tr>\n",
       "    <tr>\n",
       "      <th>1</th>\n",
       "      <td>30</td>\n",
       "      <td>62</td>\n",
       "      <td>3</td>\n",
       "      <td>1</td>\n",
       "    </tr>\n",
       "    <tr>\n",
       "      <th>2</th>\n",
       "      <td>30</td>\n",
       "      <td>65</td>\n",
       "      <td>0</td>\n",
       "      <td>1</td>\n",
       "    </tr>\n",
       "    <tr>\n",
       "      <th>3</th>\n",
       "      <td>31</td>\n",
       "      <td>59</td>\n",
       "      <td>2</td>\n",
       "      <td>1</td>\n",
       "    </tr>\n",
       "    <tr>\n",
       "      <th>4</th>\n",
       "      <td>31</td>\n",
       "      <td>65</td>\n",
       "      <td>4</td>\n",
       "      <td>1</td>\n",
       "    </tr>\n",
       "  </tbody>\n",
       "</table>\n",
       "</div>"
      ],
      "text/plain": [
       "   Age  Year  Nodes  S_Status\n",
       "0   30    64      1         1\n",
       "1   30    62      3         1\n",
       "2   30    65      0         1\n",
       "3   31    59      2         1\n",
       "4   31    65      4         1"
      ]
     },
     "execution_count": 11,
     "metadata": {},
     "output_type": "execute_result"
    }
   ],
   "source": [
    "## Copy the dataset\n",
    "\n",
    "df = data.copy()\n",
    "df.head()"
   ]
  },
  {
   "cell_type": "code",
   "execution_count": 18,
   "metadata": {},
   "outputs": [
    {
     "data": {
      "text/html": [
       "<div>\n",
       "<style scoped>\n",
       "    .dataframe tbody tr th:only-of-type {\n",
       "        vertical-align: middle;\n",
       "    }\n",
       "\n",
       "    .dataframe tbody tr th {\n",
       "        vertical-align: top;\n",
       "    }\n",
       "\n",
       "    .dataframe thead th {\n",
       "        text-align: right;\n",
       "    }\n",
       "</style>\n",
       "<table border=\"1\" class=\"dataframe\">\n",
       "  <thead>\n",
       "    <tr style=\"text-align: right;\">\n",
       "      <th></th>\n",
       "      <th>Age</th>\n",
       "      <th>Year</th>\n",
       "      <th>Nodes</th>\n",
       "      <th>S_Status</th>\n",
       "      <th>age_range</th>\n",
       "    </tr>\n",
       "  </thead>\n",
       "  <tbody>\n",
       "    <tr>\n",
       "      <th>0</th>\n",
       "      <td>30</td>\n",
       "      <td>64</td>\n",
       "      <td>1</td>\n",
       "      <td>1</td>\n",
       "      <td>30-39</td>\n",
       "    </tr>\n",
       "    <tr>\n",
       "      <th>1</th>\n",
       "      <td>30</td>\n",
       "      <td>62</td>\n",
       "      <td>3</td>\n",
       "      <td>1</td>\n",
       "      <td>30-39</td>\n",
       "    </tr>\n",
       "    <tr>\n",
       "      <th>2</th>\n",
       "      <td>30</td>\n",
       "      <td>65</td>\n",
       "      <td>0</td>\n",
       "      <td>1</td>\n",
       "      <td>30-39</td>\n",
       "    </tr>\n",
       "    <tr>\n",
       "      <th>3</th>\n",
       "      <td>31</td>\n",
       "      <td>59</td>\n",
       "      <td>2</td>\n",
       "      <td>1</td>\n",
       "      <td>30-39</td>\n",
       "    </tr>\n",
       "    <tr>\n",
       "      <th>4</th>\n",
       "      <td>31</td>\n",
       "      <td>65</td>\n",
       "      <td>4</td>\n",
       "      <td>1</td>\n",
       "      <td>30-39</td>\n",
       "    </tr>\n",
       "    <tr>\n",
       "      <th>5</th>\n",
       "      <td>33</td>\n",
       "      <td>58</td>\n",
       "      <td>10</td>\n",
       "      <td>1</td>\n",
       "      <td>30-39</td>\n",
       "    </tr>\n",
       "    <tr>\n",
       "      <th>6</th>\n",
       "      <td>33</td>\n",
       "      <td>60</td>\n",
       "      <td>0</td>\n",
       "      <td>1</td>\n",
       "      <td>30-39</td>\n",
       "    </tr>\n",
       "    <tr>\n",
       "      <th>7</th>\n",
       "      <td>34</td>\n",
       "      <td>59</td>\n",
       "      <td>0</td>\n",
       "      <td>2</td>\n",
       "      <td>30-39</td>\n",
       "    </tr>\n",
       "    <tr>\n",
       "      <th>8</th>\n",
       "      <td>34</td>\n",
       "      <td>66</td>\n",
       "      <td>9</td>\n",
       "      <td>2</td>\n",
       "      <td>30-39</td>\n",
       "    </tr>\n",
       "    <tr>\n",
       "      <th>9</th>\n",
       "      <td>34</td>\n",
       "      <td>58</td>\n",
       "      <td>30</td>\n",
       "      <td>1</td>\n",
       "      <td>30-39</td>\n",
       "    </tr>\n",
       "  </tbody>\n",
       "</table>\n",
       "</div>"
      ],
      "text/plain": [
       "   Age  Year  Nodes  S_Status age_range\n",
       "0   30    64      1         1     30-39\n",
       "1   30    62      3         1     30-39\n",
       "2   30    65      0         1     30-39\n",
       "3   31    59      2         1     30-39\n",
       "4   31    65      4         1     30-39\n",
       "5   33    58     10         1     30-39\n",
       "6   33    60      0         1     30-39\n",
       "7   34    59      0         2     30-39\n",
       "8   34    66      9         2     30-39\n",
       "9   34    58     30         1     30-39"
      ]
     },
     "execution_count": 18,
     "metadata": {},
     "output_type": "execute_result"
    }
   ],
   "source": [
    "## We can do a little feature generation and bin the ages.  The survival status is already\n",
    "## coded well, so that pandas.groupby() can be used to get some interesting tables\n",
    "\n",
    "## Binning Age\n",
    "def gen_labelrange(val, width, bins):\n",
    "    '''\n",
    "    val: integer to find bin label\n",
    "    width: width of bin\n",
    "    bins: number of bins\n",
    "\n",
    "    Hopefully fast.  Takes the value to lookup, the width of the bin and # of bins.\n",
    "    Creates a map and searches for the correct bin (float/integer values only).\n",
    "    Returns a string with the range 'min-max' of bin.\n",
    "    '''\n",
    "    label_map = [[width*x, width*x+width-1] for x in range(bins)]\n",
    "    \n",
    "    for i in range(bins):\n",
    "        if val <= label_map[i][1]:\n",
    "            return ''.join([str(label_map[i][0]), '-',str(label_map[i][1])])\n",
    "    \n",
    "    return 'Out of Range'\n",
    "\n",
    "\n",
    "df['age_range'] = df.Age.apply(gen_labelrange, width=10, bins=9)\n",
    "df.head(10)"
   ]
  },
  {
   "cell_type": "code",
   "execution_count": 25,
   "metadata": {},
   "outputs": [
    {
     "data": {
      "text/html": [
       "<div>\n",
       "<style scoped>\n",
       "    .dataframe tbody tr th:only-of-type {\n",
       "        vertical-align: middle;\n",
       "    }\n",
       "\n",
       "    .dataframe tbody tr th {\n",
       "        vertical-align: top;\n",
       "    }\n",
       "\n",
       "    .dataframe thead th {\n",
       "        text-align: right;\n",
       "    }\n",
       "</style>\n",
       "<table border=\"1\" class=\"dataframe\">\n",
       "  <thead>\n",
       "    <tr style=\"text-align: right;\">\n",
       "      <th>age_range</th>\n",
       "      <th>30-39</th>\n",
       "      <th>40-49</th>\n",
       "      <th>50-59</th>\n",
       "      <th>60-69</th>\n",
       "      <th>70-79</th>\n",
       "      <th>80-89</th>\n",
       "    </tr>\n",
       "    <tr>\n",
       "      <th>S_Status</th>\n",
       "      <th></th>\n",
       "      <th></th>\n",
       "      <th></th>\n",
       "      <th></th>\n",
       "      <th></th>\n",
       "      <th></th>\n",
       "    </tr>\n",
       "  </thead>\n",
       "  <tbody>\n",
       "    <tr>\n",
       "      <th>1</th>\n",
       "      <td>36</td>\n",
       "      <td>57</td>\n",
       "      <td>73</td>\n",
       "      <td>44</td>\n",
       "      <td>15</td>\n",
       "      <td>0</td>\n",
       "    </tr>\n",
       "    <tr>\n",
       "      <th>2</th>\n",
       "      <td>4</td>\n",
       "      <td>27</td>\n",
       "      <td>26</td>\n",
       "      <td>18</td>\n",
       "      <td>5</td>\n",
       "      <td>1</td>\n",
       "    </tr>\n",
       "  </tbody>\n",
       "</table>\n",
       "</div>"
      ],
      "text/plain": [
       "age_range  30-39  40-49  50-59  60-69  70-79  80-89\n",
       "S_Status                                           \n",
       "1             36     57     73     44     15      0\n",
       "2              4     27     26     18      5      1"
      ]
     },
     "execution_count": 25,
     "metadata": {},
     "output_type": "execute_result"
    }
   ],
   "source": [
    "## Check survival status against age range\n",
    "pd.crosstab(df.S_Status, df.age_range)\n",
    "\n"
   ]
  },
  {
   "cell_type": "code",
   "execution_count": 26,
   "metadata": {},
   "outputs": [
    {
     "data": {
      "text/html": [
       "<div>\n",
       "<style scoped>\n",
       "    .dataframe tbody tr th:only-of-type {\n",
       "        vertical-align: middle;\n",
       "    }\n",
       "\n",
       "    .dataframe tbody tr th {\n",
       "        vertical-align: top;\n",
       "    }\n",
       "\n",
       "    .dataframe thead th {\n",
       "        text-align: right;\n",
       "    }\n",
       "</style>\n",
       "<table border=\"1\" class=\"dataframe\">\n",
       "  <thead>\n",
       "    <tr style=\"text-align: right;\">\n",
       "      <th>age_range</th>\n",
       "      <th>30-39</th>\n",
       "      <th>40-49</th>\n",
       "      <th>50-59</th>\n",
       "      <th>60-69</th>\n",
       "      <th>70-79</th>\n",
       "      <th>80-89</th>\n",
       "    </tr>\n",
       "    <tr>\n",
       "      <th>S_Status</th>\n",
       "      <th></th>\n",
       "      <th></th>\n",
       "      <th></th>\n",
       "      <th></th>\n",
       "      <th></th>\n",
       "      <th></th>\n",
       "    </tr>\n",
       "  </thead>\n",
       "  <tbody>\n",
       "    <tr>\n",
       "      <th>1</th>\n",
       "      <td>4.0</td>\n",
       "      <td>3.0</td>\n",
       "      <td>3.0</td>\n",
       "      <td>2.0</td>\n",
       "      <td>2.0</td>\n",
       "      <td>NaN</td>\n",
       "    </tr>\n",
       "    <tr>\n",
       "      <th>2</th>\n",
       "      <td>8.0</td>\n",
       "      <td>8.0</td>\n",
       "      <td>9.0</td>\n",
       "      <td>7.0</td>\n",
       "      <td>2.0</td>\n",
       "      <td>2.0</td>\n",
       "    </tr>\n",
       "  </tbody>\n",
       "</table>\n",
       "</div>"
      ],
      "text/plain": [
       "age_range  30-39  40-49  50-59  60-69  70-79  80-89\n",
       "S_Status                                           \n",
       "1            4.0    3.0    3.0    2.0    2.0    NaN\n",
       "2            8.0    8.0    9.0    7.0    2.0    2.0"
      ]
     },
     "execution_count": 26,
     "metadata": {},
     "output_type": "execute_result"
    }
   ],
   "source": [
    "##  We can take that further by replacing counts with mean nodes for each combination\n",
    "pd.crosstab(df.S_Status, df.age_range, values=df.Nodes, aggfunc='mean').round(0)"
   ]
  },
  {
   "cell_type": "code",
   "execution_count": 30,
   "metadata": {},
   "outputs": [
    {
     "data": {
      "image/png": "[encoded data removed]",
      "text/plain": [
       "<Figure size 432x288 with 1 Axes>"
      ]
     },
     "metadata": {
      "needs_background": "light"
     },
     "output_type": "display_data"
    }
   ],
   "source": [
    "## This is great.  It's pretty apparent that at every age, more nodes is associated with increased mortality\n",
    "## Just to make sure we aren't looking at a bad sample, let's check the distribution of age groups\n",
    "import matplotlib.pyplot as plt\n",
    "\n",
    "plt.hist(df['Age'])\n",
    "plt.suptitle('Distribution of Age')\n",
    "plt.xlabel('Age')\n",
    "plt.ylabel('Frequency')\n",
    "plt.show()"
   ]
  },
  {
   "cell_type": "code",
   "execution_count": 33,
   "metadata": {},
   "outputs": [
    {
     "data": {
      "text/html": [
       "<div>\n",
       "<style scoped>\n",
       "    .dataframe tbody tr th:only-of-type {\n",
       "        vertical-align: middle;\n",
       "    }\n",
       "\n",
       "    .dataframe tbody tr th {\n",
       "        vertical-align: top;\n",
       "    }\n",
       "\n",
       "    .dataframe thead th {\n",
       "        text-align: right;\n",
       "    }\n",
       "</style>\n",
       "<table border=\"1\" class=\"dataframe\">\n",
       "  <thead>\n",
       "    <tr style=\"text-align: right;\">\n",
       "      <th>age_range</th>\n",
       "      <th>30-39</th>\n",
       "      <th>40-49</th>\n",
       "      <th>50-59</th>\n",
       "      <th>60-69</th>\n",
       "      <th>70-79</th>\n",
       "      <th>80-89</th>\n",
       "    </tr>\n",
       "    <tr>\n",
       "      <th>S_Status</th>\n",
       "      <th></th>\n",
       "      <th></th>\n",
       "      <th></th>\n",
       "      <th></th>\n",
       "      <th></th>\n",
       "      <th></th>\n",
       "    </tr>\n",
       "  </thead>\n",
       "  <tbody>\n",
       "    <tr>\n",
       "      <th>1</th>\n",
       "      <td>0.08</td>\n",
       "      <td>0.06</td>\n",
       "      <td>0.06</td>\n",
       "      <td>0.05</td>\n",
       "      <td>0.04</td>\n",
       "      <td>0.00</td>\n",
       "    </tr>\n",
       "    <tr>\n",
       "      <th>2</th>\n",
       "      <td>0.16</td>\n",
       "      <td>0.16</td>\n",
       "      <td>0.18</td>\n",
       "      <td>0.14</td>\n",
       "      <td>0.03</td>\n",
       "      <td>0.04</td>\n",
       "    </tr>\n",
       "  </tbody>\n",
       "</table>\n",
       "</div>"
      ],
      "text/plain": [
       "age_range  30-39  40-49  50-59  60-69  70-79  80-89\n",
       "S_Status                                           \n",
       "1           0.08   0.06   0.06   0.05   0.04   0.00\n",
       "2           0.16   0.16   0.18   0.14   0.03   0.04"
      ]
     },
     "execution_count": 33,
     "metadata": {},
     "output_type": "execute_result"
    }
   ],
   "source": [
    "## Age is normally distributed, which makes this a great dataset to mimic population, but means that we\n",
    "## haven't enough data to check the relationship at each age group and compare them against each other. \n",
    "\n",
    "## Let's look at the crosstab again normalized\n",
    "pd.crosstab(df.S_Status, df.age_range, values=df.Nodes, aggfunc='mean', normalize=True).round(2)"
   ]
  },
  {
   "cell_type": "code",
   "execution_count": 32,
   "metadata": {},
   "outputs": [
    {
     "data": {
      "text/plain": [
       "<seaborn.axisgrid.PairGrid at 0x2590cdc41d0>"
      ]
     },
     "execution_count": 32,
     "metadata": {},
     "output_type": "execute_result"
    },
    {
     "data": {
      "image/png": "[encoded data removed]",
      "text/plain": [
       "<Figure size 720x720 with 20 Axes>"
      ]
     },
     "metadata": {
      "needs_background": "light"
     },
     "output_type": "display_data"
    }
   ],
   "source": [
    "## A seaborn pairplot might yield some other interesting findings\n",
    "import seaborn as sns\n",
    "\n",
    "sns.pairplot(df)"
   ]
  },
  {
   "cell_type": "code",
   "execution_count": 72,
   "metadata": {},
   "outputs": [
    {
     "name": "stdout",
     "output_type": "stream",
     "text": [
      "Nodes       4.05\n",
      "S_Status    1.10\n",
      "dtype: float64\n",
      "Nodes       4.321429\n",
      "S_Status    1.321429\n",
      "dtype: float64\n",
      "Nodes       4.404040\n",
      "S_Status    1.262626\n",
      "dtype: float64\n",
      "Nodes       3.709677\n",
      "S_Status    1.290323\n",
      "dtype: float64\n",
      "Nodes       1.95\n",
      "S_Status    1.25\n",
      "dtype: float64\n",
      "Nodes       2.0\n",
      "S_Status    2.0\n",
      "dtype: float64\n"
     ]
    },
    {
     "data": {
      "image/png": "[encoded data removed]",
      "text/plain": [
       "<Figure size 432x288 with 1 Axes>"
      ]
     },
     "metadata": {
      "needs_background": "light"
     },
     "output_type": "display_data"
    }
   ],
   "source": [
    "## Many of the plots are hard to read and would probably be better represented as cumulative frequency or stacked bars.\n",
    "## The mirroring of age distribution and # of nodes suggests that you get more nodes simply by sampling the population at\n",
    "## higher frequency.  This may indicate potential bias in the dataset.\n",
    "\n",
    "## Quickly, let's look at a barchart of survival frequency at each range\n",
    "df1 = df[['Nodes', 'S_Status', 'age_range']].groupby('age_range')\n",
    "X = []\n",
    "Y1 = []\n",
    "Y2 = []\n",
    "for key in df1.groups.keys():\n",
    "    print(df1.get_group(key).mean())\n",
    "    Y1.append(df1.get_group(key).mean()[0])\n",
    "    Y2.append(df1.get_group(key).mean()[1])\n",
    "    X.append(key)\n",
    "    \n",
    "plt.plot(X, Y1)\n",
    "plt.bar(X, Y2)\n",
    "plt.show()\n",
    "    "
   ]
  },
  {
   "cell_type": "markdown",
   "metadata": {
    "colab_type": "text",
    "id": "ZM8JckA2bgnp"
   },
   "source": [
    "## Part 3 - Analysis and Interpretation\n",
    "\n",
    "Now that you've looked at the data, answer the following questions:\n",
    "\n",
    "- What is at least one feature that looks to have a positive relationship with survival?\n",
    "\n",
    "**Being middle-aged seems to be dangerous.  But that may not hold up under better sampling.  One approach might be to randomly sample from each age group and test the mean node count for each, seeing if the relationship holds up. With only three hundred samples, that may be difficult.\n",
    "\n",
    "\n",
    "- What is at least one feature that looks to have a negative relationship with survival?\n",
    "\n",
    "**A lower number of nodes is seen in surviving groups of every age-range.  Higher node counts negatively correlate with likelihood of survival.  A logistic regression would better detail what we're seeing in the crosstab above.  It does appear that age has a relationship with survival separate from node count, but with so few sampes 10 < year < 40 and 70 < year < 100, I'm not sure how strong a relationship it is.   \n",
    "\n",
    "- How are those two features related with each other, and what might that mean?\n",
    "\n",
    "**Age and number of nodes have an exponential relationship that mirrors the age distribution.  There is likely significant bias due to middle age-group people being over represented int he dataset.\n",
    "\n",
    "Answer with text, but feel free to intersperse example code/results or refer to it from earlier."
   ]
  },
  {
   "cell_type": "code",
   "execution_count": null,
   "metadata": {},
   "outputs": [],
   "source": []
  }
 ],
 "metadata": {
  "colab": {
   "collapsed_sections": [],
   "name": "DS Unit 1 Sprint Challenge 1.ipynb",
   "provenance": [],
   "version": "0.3.2"
  },
  "kernelspec": {
   "display_name": "Python 3",
   "language": "python",
   "name": "python3"
  },
  "language_info": {
   "codemirror_mode": {
    "name": "ipython",
    "version": 3
   },
   "file_extension": ".py",
   "mimetype": "text/x-python",
   "name": "python",
   "nbconvert_exporter": "python",
   "pygments_lexer": "ipython3",
   "version": "3.7.0"
  }
 },
 "nbformat": 4,
 "nbformat_minor": 1
}
