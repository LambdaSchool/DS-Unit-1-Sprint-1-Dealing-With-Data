{
  "nbformat": 4,
  "nbformat_minor": 0,
  "metadata": {
    "colab": {
      "name": "DS_Unit_1_Sprint_Challenge_1.ipynb",
      "version": "0.3.2",
      "provenance": [],
      "collapsed_sections": [],
      "include_colab_link": true
    },
    "kernelspec": {
      "name": "python3",
      "display_name": "Python 3"
    }
  },
  "cells": [
    {
      "cell_type": "markdown",
      "metadata": {
        "id": "view-in-github",
        "colab_type": "text"
      },
      "source": [
        "<a href=\"https://colab.research.google.com/github/macscheffer/DS-Sprint-01-Dealing-With-Data/blob/master/DS_Unit_1_Sprint_Challenge_1.ipynb\" target=\"_parent\"><img src=\"https://colab.research.google.com/assets/colab-badge.svg\" alt=\"Open In Colab\"/></a>"
      ]
    },
    {
      "metadata": {
        "id": "NooAiTdnafkz",
        "colab_type": "text"
      },
      "cell_type": "markdown",
      "source": [
        "# Data Science Unit 1 Sprint Challenge 1\n",
        "\n",
        "## Loading, cleaning, visualizing, and analyzing data\n",
        "\n",
        "In this sprint challenge you will look at a dataset of the survival of patients who underwent surgery for breast cancer.\n",
        "\n",
        "http://archive.ics.uci.edu/ml/datasets/Haberman%27s+Survival\n",
        "\n",
        "Data Set Information:\n",
        "The dataset contains cases from a study that was conducted between 1958 and 1970 at the University of Chicago's Billings Hospital on the survival of patients who had undergone surgery for breast cancer.\n",
        "\n",
        "Attribute Information:\n",
        "1. Age of patient at time of operation (numerical)\n",
        "2. Patient's year of operation (year - 1900, numerical)\n",
        "3. Number of positive axillary nodes detected (numerical)\n",
        "4. Survival status (class attribute)\n",
        "-- 1 = the patient survived 5 years or longer\n",
        "-- 2 = the patient died within 5 year\n",
        "\n",
        "Sprint challenges are evaluated based on satisfactory completion of each part. It is suggested you work through it in order, getting each aspect reasonably working, before trying to deeply explore, iterate, or refine any given step. Once you get to the end, if you want to go back and improve things, go for it!"
      ]
    },
    {
      "metadata": {
        "id": "5wch6ksCbJtZ",
        "colab_type": "text"
      },
      "cell_type": "markdown",
      "source": [
        "## Part 1 - Load and validate the data\n",
        "\n",
        "- Load the data as a `pandas` data frame.\n",
        "- Validate that it has the appropriate number of observations (you can check the raw file, and also read the dataset description from UCI).\n",
        "- Validate that you have no missing values.\n",
        "- Add informative names to the features.\n",
        "- The survival variable is encoded as 1 for surviving >5 years and 2 for not - change this to be 0 for not surviving and 1 for surviving >5 years (0/1 is a more traditional encoding of binary variables)\n",
        "\n",
        "At the end, print the first five rows of the dataset to demonstrate the above."
      ]
    },
    {
      "metadata": {
        "id": "287TpoGKFRVK",
        "colab_type": "code",
        "colab": {
          "base_uri": "https://localhost:8080/",
          "height": 35
        },
        "outputId": "70008e15-2eae-4bc3-cf56-3869fff5a6ef"
      },
      "cell_type": "code",
      "source": [
        "import pandas as pd\n",
        "import numpy as np\n",
        "import matplotlib.pyplot as plt\n",
        "\n",
        "cols = [\n",
        "    'age', # age of patient at the time of operation\n",
        "    'operation_year', # year that the operation took place \n",
        "    'positive_axillary_nodes', # positive axillary nodes that we're detected.\n",
        "    'survival' # Survival status, 1 == the patient survived for >= 5 years after operation, 2 == the patient died within 5 years of the operation\n",
        "]\n",
        "\n",
        "df = pd.read_csv('http://archive.ics.uci.edu/ml/machine-learning-databases/haberman/haberman.data', names=cols)\n",
        "\n",
        "df.shape"
      ],
      "execution_count": 1,
      "outputs": [
        {
          "output_type": "execute_result",
          "data": {
            "text/plain": [
              "(306, 4)"
            ]
          },
          "metadata": {
            "tags": []
          },
          "execution_count": 1
        }
      ]
    },
    {
      "metadata": {
        "id": "b_Nwo3_QGE2-",
        "colab_type": "code",
        "colab": {
          "base_uri": "https://localhost:8080/",
          "height": 35
        },
        "outputId": "3b203a43-6793-4e89-a058-a209b1ec69b0"
      },
      "cell_type": "code",
      "source": [
        "# the first sum is a method for each series in the df, the second sum adds together the total for each series.\n",
        "df.isna().sum().sum()"
      ],
      "execution_count": 2,
      "outputs": [
        {
          "output_type": "execute_result",
          "data": {
            "text/plain": [
              "0"
            ]
          },
          "metadata": {
            "tags": []
          },
          "execution_count": 2
        }
      ]
    },
    {
      "metadata": {
        "id": "PTe6U6weGFjM",
        "colab_type": "code",
        "colab": {
          "base_uri": "https://localhost:8080/",
          "height": 203
        },
        "outputId": "4c94ca5b-0190-43a3-d6d5-12b8d12b900b"
      },
      "cell_type": "code",
      "source": [
        "# replacing 2s in the survival column with 0s, meaning they passed away within 5 years after the surgery.\n",
        "df.survival = df.survival.replace(to_replace=2, value=0)\n",
        "df.head()"
      ],
      "execution_count": 5,
      "outputs": [
        {
          "output_type": "execute_result",
          "data": {
            "text/html": [
              "<div>\n",
              "<style scoped>\n",
              "    .dataframe tbody tr th:only-of-type {\n",
              "        vertical-align: middle;\n",
              "    }\n",
              "\n",
              "    .dataframe tbody tr th {\n",
              "        vertical-align: top;\n",
              "    }\n",
              "\n",
              "    .dataframe thead th {\n",
              "        text-align: right;\n",
              "    }\n",
              "</style>\n",
              "<table border=\"1\" class=\"dataframe\">\n",
              "  <thead>\n",
              "    <tr style=\"text-align: right;\">\n",
              "      <th></th>\n",
              "      <th>age</th>\n",
              "      <th>operation_year</th>\n",
              "      <th>positive_axillary_nodes</th>\n",
              "      <th>survival</th>\n",
              "    </tr>\n",
              "  </thead>\n",
              "  <tbody>\n",
              "    <tr>\n",
              "      <th>0</th>\n",
              "      <td>30</td>\n",
              "      <td>64</td>\n",
              "      <td>1</td>\n",
              "      <td>1</td>\n",
              "    </tr>\n",
              "    <tr>\n",
              "      <th>1</th>\n",
              "      <td>30</td>\n",
              "      <td>62</td>\n",
              "      <td>3</td>\n",
              "      <td>1</td>\n",
              "    </tr>\n",
              "    <tr>\n",
              "      <th>2</th>\n",
              "      <td>30</td>\n",
              "      <td>65</td>\n",
              "      <td>0</td>\n",
              "      <td>1</td>\n",
              "    </tr>\n",
              "    <tr>\n",
              "      <th>3</th>\n",
              "      <td>31</td>\n",
              "      <td>59</td>\n",
              "      <td>2</td>\n",
              "      <td>1</td>\n",
              "    </tr>\n",
              "    <tr>\n",
              "      <th>4</th>\n",
              "      <td>31</td>\n",
              "      <td>65</td>\n",
              "      <td>4</td>\n",
              "      <td>1</td>\n",
              "    </tr>\n",
              "  </tbody>\n",
              "</table>\n",
              "</div>"
            ],
            "text/plain": [
              "   age  operation_year  positive_axillary_nodes  survival\n",
              "0   30              64                        1         1\n",
              "1   30              62                        3         1\n",
              "2   30              65                        0         1\n",
              "3   31              59                        2         1\n",
              "4   31              65                        4         1"
            ]
          },
          "metadata": {
            "tags": []
          },
          "execution_count": 5
        }
      ]
    },
    {
      "metadata": {
        "id": "G7rLytbrO38L",
        "colab_type": "text"
      },
      "cell_type": "markdown",
      "source": [
        "## Part 2 - Examine the distribution and relationships of the features\n",
        "\n",
        "Explore the data - create at least *2* tables (can be summary statistics or crosstabulations) and *2* plots illustrating the nature of the data.\n",
        "\n",
        "This is open-ended, so to remind - first *complete* this task as a baseline, then go on to the remaining sections, and *then* as time allows revisit and explore further.\n",
        "\n",
        "Hint - you may need to bin some variables depending on your chosen tables/plots."
      ]
    },
    {
      "metadata": {
        "id": "IAkllgCIFVj0",
        "colab_type": "code",
        "colab": {
          "base_uri": "https://localhost:8080/",
          "height": 295
        },
        "outputId": "0087fad6-7c6d-41fc-9fb0-0d95b1ab4b92"
      },
      "cell_type": "code",
      "source": [
        "# 73.53 % survival rate\n",
        "df.describe()"
      ],
      "execution_count": 6,
      "outputs": [
        {
          "output_type": "execute_result",
          "data": {
            "text/html": [
              "<div>\n",
              "<style scoped>\n",
              "    .dataframe tbody tr th:only-of-type {\n",
              "        vertical-align: middle;\n",
              "    }\n",
              "\n",
              "    .dataframe tbody tr th {\n",
              "        vertical-align: top;\n",
              "    }\n",
              "\n",
              "    .dataframe thead th {\n",
              "        text-align: right;\n",
              "    }\n",
              "</style>\n",
              "<table border=\"1\" class=\"dataframe\">\n",
              "  <thead>\n",
              "    <tr style=\"text-align: right;\">\n",
              "      <th></th>\n",
              "      <th>age</th>\n",
              "      <th>operation_year</th>\n",
              "      <th>positive_axillary_nodes</th>\n",
              "      <th>survival</th>\n",
              "    </tr>\n",
              "  </thead>\n",
              "  <tbody>\n",
              "    <tr>\n",
              "      <th>count</th>\n",
              "      <td>306.000000</td>\n",
              "      <td>306.000000</td>\n",
              "      <td>306.000000</td>\n",
              "      <td>306.000000</td>\n",
              "    </tr>\n",
              "    <tr>\n",
              "      <th>mean</th>\n",
              "      <td>52.457516</td>\n",
              "      <td>62.852941</td>\n",
              "      <td>4.026144</td>\n",
              "      <td>0.735294</td>\n",
              "    </tr>\n",
              "    <tr>\n",
              "      <th>std</th>\n",
              "      <td>10.803452</td>\n",
              "      <td>3.249405</td>\n",
              "      <td>7.189654</td>\n",
              "      <td>0.441899</td>\n",
              "    </tr>\n",
              "    <tr>\n",
              "      <th>min</th>\n",
              "      <td>30.000000</td>\n",
              "      <td>58.000000</td>\n",
              "      <td>0.000000</td>\n",
              "      <td>0.000000</td>\n",
              "    </tr>\n",
              "    <tr>\n",
              "      <th>25%</th>\n",
              "      <td>44.000000</td>\n",
              "      <td>60.000000</td>\n",
              "      <td>0.000000</td>\n",
              "      <td>0.000000</td>\n",
              "    </tr>\n",
              "    <tr>\n",
              "      <th>50%</th>\n",
              "      <td>52.000000</td>\n",
              "      <td>63.000000</td>\n",
              "      <td>1.000000</td>\n",
              "      <td>1.000000</td>\n",
              "    </tr>\n",
              "    <tr>\n",
              "      <th>75%</th>\n",
              "      <td>60.750000</td>\n",
              "      <td>65.750000</td>\n",
              "      <td>4.000000</td>\n",
              "      <td>1.000000</td>\n",
              "    </tr>\n",
              "    <tr>\n",
              "      <th>max</th>\n",
              "      <td>83.000000</td>\n",
              "      <td>69.000000</td>\n",
              "      <td>52.000000</td>\n",
              "      <td>1.000000</td>\n",
              "    </tr>\n",
              "  </tbody>\n",
              "</table>\n",
              "</div>"
            ],
            "text/plain": [
              "              age  operation_year  positive_axillary_nodes    survival\n",
              "count  306.000000      306.000000               306.000000  306.000000\n",
              "mean    52.457516       62.852941                 4.026144    0.735294\n",
              "std     10.803452        3.249405                 7.189654    0.441899\n",
              "min     30.000000       58.000000                 0.000000    0.000000\n",
              "25%     44.000000       60.000000                 0.000000    0.000000\n",
              "50%     52.000000       63.000000                 1.000000    1.000000\n",
              "75%     60.750000       65.750000                 4.000000    1.000000\n",
              "max     83.000000       69.000000                52.000000    1.000000"
            ]
          },
          "metadata": {
            "tags": []
          },
          "execution_count": 6
        }
      ]
    },
    {
      "metadata": {
        "id": "cdysBlJJGEoY",
        "colab_type": "code",
        "colab": {
          "base_uri": "https://localhost:8080/",
          "height": 264
        },
        "outputId": "400f2548-8b56-47f8-8bfd-e0ee80697ed3"
      },
      "cell_type": "code",
      "source": [
        "# creating age bucket, and operation year columns\n",
        "\n",
        "age_bins = pd.cut(df.age, bins=6)\n",
        "operation_year_bins = pd.cut(df.operation_year, bins=6)\n",
        "\n",
        "df['age_bins'] = age_bins\n",
        "df['operation_year_bins'] = operation_year_bins\n",
        "\n",
        "# showing the proportion of people in each age bin for each column\n",
        "# for example the top right value of 0.588 means that between 1968 and 1969 had only 5% of our youngest patients.\n",
        "pd.crosstab(df.age_bins,df.operation_year_bins, normalize='index')"
      ],
      "execution_count": 7,
      "outputs": [
        {
          "output_type": "execute_result",
          "data": {
            "text/html": [
              "<div>\n",
              "<style scoped>\n",
              "    .dataframe tbody tr th:only-of-type {\n",
              "        vertical-align: middle;\n",
              "    }\n",
              "\n",
              "    .dataframe tbody tr th {\n",
              "        vertical-align: top;\n",
              "    }\n",
              "\n",
              "    .dataframe thead th {\n",
              "        text-align: right;\n",
              "    }\n",
              "</style>\n",
              "<table border=\"1\" class=\"dataframe\">\n",
              "  <thead>\n",
              "    <tr style=\"text-align: right;\">\n",
              "      <th>operation_year_bins</th>\n",
              "      <th>(57.989, 59.833]</th>\n",
              "      <th>(59.833, 61.667]</th>\n",
              "      <th>(61.667, 63.5]</th>\n",
              "      <th>(63.5, 65.333]</th>\n",
              "      <th>(65.333, 67.167]</th>\n",
              "      <th>(67.167, 69.0]</th>\n",
              "    </tr>\n",
              "    <tr>\n",
              "      <th>age_bins</th>\n",
              "      <th></th>\n",
              "      <th></th>\n",
              "      <th></th>\n",
              "      <th></th>\n",
              "      <th></th>\n",
              "      <th></th>\n",
              "    </tr>\n",
              "  </thead>\n",
              "  <tbody>\n",
              "    <tr>\n",
              "      <th>(29.947, 38.833]</th>\n",
              "      <td>0.205882</td>\n",
              "      <td>0.294118</td>\n",
              "      <td>0.147059</td>\n",
              "      <td>0.147059</td>\n",
              "      <td>0.147059</td>\n",
              "      <td>0.058824</td>\n",
              "    </tr>\n",
              "    <tr>\n",
              "      <th>(38.833, 47.667]</th>\n",
              "      <td>0.232877</td>\n",
              "      <td>0.123288</td>\n",
              "      <td>0.191781</td>\n",
              "      <td>0.219178</td>\n",
              "      <td>0.164384</td>\n",
              "      <td>0.068493</td>\n",
              "    </tr>\n",
              "    <tr>\n",
              "      <th>(47.667, 56.5]</th>\n",
              "      <td>0.188889</td>\n",
              "      <td>0.200000</td>\n",
              "      <td>0.188889</td>\n",
              "      <td>0.155556</td>\n",
              "      <td>0.177778</td>\n",
              "      <td>0.088889</td>\n",
              "    </tr>\n",
              "    <tr>\n",
              "      <th>(56.5, 65.333]</th>\n",
              "      <td>0.197183</td>\n",
              "      <td>0.197183</td>\n",
              "      <td>0.154930</td>\n",
              "      <td>0.239437</td>\n",
              "      <td>0.154930</td>\n",
              "      <td>0.056338</td>\n",
              "    </tr>\n",
              "    <tr>\n",
              "      <th>(65.333, 74.167]</th>\n",
              "      <td>0.212121</td>\n",
              "      <td>0.090909</td>\n",
              "      <td>0.151515</td>\n",
              "      <td>0.151515</td>\n",
              "      <td>0.242424</td>\n",
              "      <td>0.151515</td>\n",
              "    </tr>\n",
              "    <tr>\n",
              "      <th>(74.167, 83.0]</th>\n",
              "      <td>0.200000</td>\n",
              "      <td>0.000000</td>\n",
              "      <td>0.200000</td>\n",
              "      <td>0.400000</td>\n",
              "      <td>0.200000</td>\n",
              "      <td>0.000000</td>\n",
              "    </tr>\n",
              "  </tbody>\n",
              "</table>\n",
              "</div>"
            ],
            "text/plain": [
              "operation_year_bins  (57.989, 59.833]  (59.833, 61.667]  (61.667, 63.5]  \\\n",
              "age_bins                                                                  \n",
              "(29.947, 38.833]             0.205882          0.294118        0.147059   \n",
              "(38.833, 47.667]             0.232877          0.123288        0.191781   \n",
              "(47.667, 56.5]               0.188889          0.200000        0.188889   \n",
              "(56.5, 65.333]               0.197183          0.197183        0.154930   \n",
              "(65.333, 74.167]             0.212121          0.090909        0.151515   \n",
              "(74.167, 83.0]               0.200000          0.000000        0.200000   \n",
              "\n",
              "operation_year_bins  (63.5, 65.333]  (65.333, 67.167]  (67.167, 69.0]  \n",
              "age_bins                                                               \n",
              "(29.947, 38.833]           0.147059          0.147059        0.058824  \n",
              "(38.833, 47.667]           0.219178          0.164384        0.068493  \n",
              "(47.667, 56.5]             0.155556          0.177778        0.088889  \n",
              "(56.5, 65.333]             0.239437          0.154930        0.056338  \n",
              "(65.333, 74.167]           0.151515          0.242424        0.151515  \n",
              "(74.167, 83.0]             0.400000          0.200000        0.000000  "
            ]
          },
          "metadata": {
            "tags": []
          },
          "execution_count": 7
        }
      ]
    },
    {
      "metadata": {
        "id": "zlPav_zpGRTL",
        "colab_type": "code",
        "colab": {
          "base_uri": "https://localhost:8080/",
          "height": 264
        },
        "outputId": "e230b67c-926c-4a84-cd65-32efc13d70ce"
      },
      "cell_type": "code",
      "source": [
        "# in general, as age goes up, survival rates go down. \n",
        "\n",
        "df.pivot_table(values='survival', index='age_bins')"
      ],
      "execution_count": 11,
      "outputs": [
        {
          "output_type": "execute_result",
          "data": {
            "text/html": [
              "<div>\n",
              "<style scoped>\n",
              "    .dataframe tbody tr th:only-of-type {\n",
              "        vertical-align: middle;\n",
              "    }\n",
              "\n",
              "    .dataframe tbody tr th {\n",
              "        vertical-align: top;\n",
              "    }\n",
              "\n",
              "    .dataframe thead th {\n",
              "        text-align: right;\n",
              "    }\n",
              "</style>\n",
              "<table border=\"1\" class=\"dataframe\">\n",
              "  <thead>\n",
              "    <tr style=\"text-align: right;\">\n",
              "      <th></th>\n",
              "      <th>survival</th>\n",
              "    </tr>\n",
              "    <tr>\n",
              "      <th>age_bins</th>\n",
              "      <th></th>\n",
              "    </tr>\n",
              "  </thead>\n",
              "  <tbody>\n",
              "    <tr>\n",
              "      <th>(29.947, 38.833]</th>\n",
              "      <td>0.911765</td>\n",
              "    </tr>\n",
              "    <tr>\n",
              "      <th>(38.833, 47.667]</th>\n",
              "      <td>0.684932</td>\n",
              "    </tr>\n",
              "    <tr>\n",
              "      <th>(47.667, 56.5]</th>\n",
              "      <td>0.700000</td>\n",
              "    </tr>\n",
              "    <tr>\n",
              "      <th>(56.5, 65.333]</th>\n",
              "      <td>0.760563</td>\n",
              "    </tr>\n",
              "    <tr>\n",
              "      <th>(65.333, 74.167]</th>\n",
              "      <td>0.727273</td>\n",
              "    </tr>\n",
              "    <tr>\n",
              "      <th>(74.167, 83.0]</th>\n",
              "      <td>0.600000</td>\n",
              "    </tr>\n",
              "  </tbody>\n",
              "</table>\n",
              "</div>"
            ],
            "text/plain": [
              "                  survival\n",
              "age_bins                  \n",
              "(29.947, 38.833]  0.911765\n",
              "(38.833, 47.667]  0.684932\n",
              "(47.667, 56.5]    0.700000\n",
              "(56.5, 65.333]    0.760563\n",
              "(65.333, 74.167]  0.727273\n",
              "(74.167, 83.0]    0.600000"
            ]
          },
          "metadata": {
            "tags": []
          },
          "execution_count": 11
        }
      ]
    },
    {
      "metadata": {
        "id": "CMU8Z-XEGnVQ",
        "colab_type": "code",
        "colab": {
          "base_uri": "https://localhost:8080/",
          "height": 442
        },
        "outputId": "83032464-727b-4ddc-85ef-50fb2a058340"
      },
      "cell_type": "code",
      "source": [
        "# as a graph\n",
        "df.pivot_table(values='survival', index='age_bins').plot.bar()"
      ],
      "execution_count": 12,
      "outputs": [
        {
          "output_type": "execute_result",
          "data": {
            "text/plain": [
              "<matplotlib.axes._subplots.AxesSubplot at 0x7feefe8fe978>"
            ]
          },
          "metadata": {
            "tags": []
          },
          "execution_count": 12
        },
        {
          "output_type": "display_data",
          "data": {
            "image/png": "[encoded data removed]",
            "text/plain": [
              "<matplotlib.figure.Figure at 0x7feefc0319b0>"
            ]
          },
          "metadata": {
            "tags": []
          }
        }
      ]
    },
    {
      "metadata": {
        "id": "Q91WLW3GGncy",
        "colab_type": "code",
        "colab": {
          "base_uri": "https://localhost:8080/",
          "height": 442
        },
        "outputId": "753e795c-48c1-42c6-fc8f-454ff84e690a"
      },
      "cell_type": "code",
      "source": [
        "# as the year of operation goes up, the trend seems to be volatile, but up\n",
        "df.pivot_table(values='survival', index='operation_year_bins').plot.bar()"
      ],
      "execution_count": 14,
      "outputs": [
        {
          "output_type": "execute_result",
          "data": {
            "text/plain": [
              "<matplotlib.axes._subplots.AxesSubplot at 0x7feefbfeb0b8>"
            ]
          },
          "metadata": {
            "tags": []
          },
          "execution_count": 14
        },
        {
          "output_type": "display_data",
          "data": {
            "image/png": "[encoded data removed]",
            "text/plain": [
              "<matplotlib.figure.Figure at 0x7feefbffcef0>"
            ]
          },
          "metadata": {
            "tags": []
          }
        }
      ]
    },
    {
      "metadata": {
        "id": "fSyxASd9Gnhc",
        "colab_type": "code",
        "colab": {
          "base_uri": "https://localhost:8080/",
          "height": 379
        },
        "outputId": "4299e840-2010-4aae-bb95-20905abbd533"
      },
      "cell_type": "code",
      "source": [
        "# messy at lower x values but can generally see there is a slight negative correlation between age and positive_axillary_nodes\n",
        "plt.scatter(x=df.positive_axillary_nodes[df.positive_axillary_nodes > 3], y=df.age[df.positive_axillary_nodes > 3])\n",
        "plt.xlabel('Positive Axillary Nodes')"
      ],
      "execution_count": 17,
      "outputs": [
        {
          "output_type": "execute_result",
          "data": {
            "text/plain": [
              "Text(0.5,0,'Positive Axillary Nodes')"
            ]
          },
          "metadata": {
            "tags": []
          },
          "execution_count": 17
        },
        {
          "output_type": "display_data",
          "data": {
            "image/png": "[encoded data removed]",
            "text/plain": [
              "<matplotlib.figure.Figure at 0x7feefbea6748>"
            ]
          },
          "metadata": {
            "tags": []
          }
        }
      ]
    },
    {
      "metadata": {
        "id": "ZM8JckA2bgnp",
        "colab_type": "text"
      },
      "cell_type": "markdown",
      "source": [
        "## Part 3 - Analysis and Interpretation\n",
        "\n",
        "Now that you've looked at the data, answer the following questions:\n",
        "\n",
        "- What is at least one feature that looks to have a positive relationship with survival?\n",
        "- What is at least one feature that looks to have a negative relationship with survival?\n",
        "- How are those two features related with each other, and what might that mean?\n",
        "\n",
        "Answer with text, but feel free to intersperse example code/results or refer to it from earlier."
      ]
    },
    {
      "metadata": {
        "id": "SfeA46yWIEdH",
        "colab_type": "text"
      },
      "cell_type": "markdown",
      "source": [
        "One feature that looks to have a positive relationship with survival is operation year. While both age and positive_axillary_nodes seem to have a negative correlation with survival. \n",
        "\n",
        "It's important to note is that age and operation year are correlated. Meaning as the operation year goes up, the patients tend to be older. This may lead to the overall percentage of survivors year over year to look discouraging, ie not going up as fast as researches or people in general would hope. \n",
        "\n",
        "Another interesting note, and would need more digging to come to a conclusion, is that age and positive axillary nodes are negatively correlated. Since the positive axillary nodes have the strongest negative and absolute correlation with survival, it may tell us something about our definition of survival. It would need to be thought about in the scope of the question we are asking. "
      ]
    },
    {
      "metadata": {
        "id": "h3kyCox7GFdJ",
        "colab_type": "code",
        "colab": {
          "base_uri": "https://localhost:8080/",
          "height": 172
        },
        "outputId": "4bed496b-6038-489f-cb04-5628a2d44114"
      },
      "cell_type": "code",
      "source": [
        "df.corr()"
      ],
      "execution_count": 18,
      "outputs": [
        {
          "output_type": "execute_result",
          "data": {
            "text/html": [
              "<div>\n",
              "<style scoped>\n",
              "    .dataframe tbody tr th:only-of-type {\n",
              "        vertical-align: middle;\n",
              "    }\n",
              "\n",
              "    .dataframe tbody tr th {\n",
              "        vertical-align: top;\n",
              "    }\n",
              "\n",
              "    .dataframe thead th {\n",
              "        text-align: right;\n",
              "    }\n",
              "</style>\n",
              "<table border=\"1\" class=\"dataframe\">\n",
              "  <thead>\n",
              "    <tr style=\"text-align: right;\">\n",
              "      <th></th>\n",
              "      <th>age</th>\n",
              "      <th>operation_year</th>\n",
              "      <th>positive_axillary_nodes</th>\n",
              "      <th>survival</th>\n",
              "    </tr>\n",
              "  </thead>\n",
              "  <tbody>\n",
              "    <tr>\n",
              "      <th>age</th>\n",
              "      <td>1.000000</td>\n",
              "      <td>0.089529</td>\n",
              "      <td>-0.063176</td>\n",
              "      <td>-0.067950</td>\n",
              "    </tr>\n",
              "    <tr>\n",
              "      <th>operation_year</th>\n",
              "      <td>0.089529</td>\n",
              "      <td>1.000000</td>\n",
              "      <td>-0.003764</td>\n",
              "      <td>0.004768</td>\n",
              "    </tr>\n",
              "    <tr>\n",
              "      <th>positive_axillary_nodes</th>\n",
              "      <td>-0.063176</td>\n",
              "      <td>-0.003764</td>\n",
              "      <td>1.000000</td>\n",
              "      <td>-0.286768</td>\n",
              "    </tr>\n",
              "    <tr>\n",
              "      <th>survival</th>\n",
              "      <td>-0.067950</td>\n",
              "      <td>0.004768</td>\n",
              "      <td>-0.286768</td>\n",
              "      <td>1.000000</td>\n",
              "    </tr>\n",
              "  </tbody>\n",
              "</table>\n",
              "</div>"
            ],
            "text/plain": [
              "                              age  operation_year  positive_axillary_nodes  \\\n",
              "age                      1.000000        0.089529                -0.063176   \n",
              "operation_year           0.089529        1.000000                -0.003764   \n",
              "positive_axillary_nodes -0.063176       -0.003764                 1.000000   \n",
              "survival                -0.067950        0.004768                -0.286768   \n",
              "\n",
              "                         survival  \n",
              "age                     -0.067950  \n",
              "operation_year           0.004768  \n",
              "positive_axillary_nodes -0.286768  \n",
              "survival                 1.000000  "
            ]
          },
          "metadata": {
            "tags": []
          },
          "execution_count": 18
        }
      ]
    },
    {
      "metadata": {
        "id": "03ZzaQECGRPj",
        "colab_type": "code",
        "colab": {
          "base_uri": "https://localhost:8080/",
          "height": 395
        },
        "outputId": "c39c4960-7801-43b5-9d9d-0b9d30a83eda"
      },
      "cell_type": "code",
      "source": [
        "print('The correlation between age and operation year:',round(df.age.corr(df.operation_year),4))\n",
        "df.pivot_table(values='age', index='operation_year').plot.bar()\n",
        "plt.title('Average Age in Each Operation Year')\n",
        "plt.ylabel('Age')\n",
        "plt.show()"
      ],
      "execution_count": 25,
      "outputs": [
        {
          "output_type": "stream",
          "text": [
            "The correlation between age and operation year: 0.0895\n"
          ],
          "name": "stdout"
        },
        {
          "output_type": "display_data",
          "data": {
            "image/png": "[encoded data removed]",
            "text/plain": [
              "<matplotlib.figure.Figure at 0x7feefb9cf550>"
            ]
          },
          "metadata": {
            "tags": []
          }
        }
      ]
    },
    {
      "metadata": {
        "id": "JI5plJjCNcsh",
        "colab_type": "code",
        "colab": {}
      },
      "cell_type": "code",
      "source": [
        ""
      ],
      "execution_count": 0,
      "outputs": []
    }
  ]
}