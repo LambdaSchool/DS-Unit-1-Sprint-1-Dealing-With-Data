{
  "nbformat": 4,
  "nbformat_minor": 0,
  "metadata": {
    "colab": {
      "name": "DS_Unit_1_Sprint_Challenge_1.ipynb",
      "version": "0.3.2",
      "provenance": [],
      "collapsed_sections": [],
      "include_colab_link": true
    },
    "kernelspec": {
      "name": "python3",
      "display_name": "Python 3"
    }
  },
  "cells": [
    {
      "cell_type": "markdown",
      "metadata": {
        "id": "view-in-github",
        "colab_type": "text"
      },
      "source": [
        "<a href=\"https://colab.research.google.com/github/audreyakwenye/DS-Sprint-01-Dealing-With-Data/blob/master/DS_Unit_1_Sprint_Challenge_1.ipynb\" target=\"_parent\"><img src=\"https://colab.research.google.com/assets/colab-badge.svg\" alt=\"Open In Colab\"/></a>"
      ]
    },
    {
      "metadata": {
        "id": "NooAiTdnafkz",
        "colab_type": "text"
      },
      "cell_type": "markdown",
      "source": [
        "# Data Science Unit 1 Sprint Challenge 1\n",
        "\n",
        "## Loading, cleaning, visualizing, and analyzing data\n",
        "\n",
        "In this sprint challenge you will look at a dataset of the survival of patients who underwent surgery for breast cancer.\n",
        "\n",
        "http://archive.ics.uci.edu/ml/datasets/Haberman%27s+Survival\n",
        "\n",
        "Data Set Information:\n",
        "The dataset contains cases from a study that was conducted between 1958 and 1970 at the University of Chicago's Billings Hospital on the survival of patients who had undergone surgery for breast cancer.\n",
        "\n",
        "Attribute Information:\n",
        "1. Age of patient at time of operation (numerical)\n",
        "2. Patient's year of operation (year - 1900, numerical)\n",
        "3. Number of positive axillary nodes detected (numerical)\n",
        "4. Survival status (class attribute)\n",
        "-- 1 = the patient survived 5 years or longer\n",
        "-- 2 = the patient died within 5 year\n",
        "\n",
        "Sprint challenges are evaluated based on satisfactory completion of each part. It is suggested you work through it in order, getting each aspect reasonably working, before trying to deeply explore, iterate, or refine any given step. Once you get to the end, if you want to go back and improve things, go for it!"
      ]
    },
    {
      "metadata": {
        "id": "5wch6ksCbJtZ",
        "colab_type": "text"
      },
      "cell_type": "markdown",
      "source": [
        "## Part 1 - Load and validate the data\n",
        "\n",
        "- Load the data as a `pandas` data frame.\n",
        "- Validate that it has the appropriate number of observations (you can check the raw file, and also read the dataset description from UCI).\n",
        "- Validate that you have no missing values.\n",
        "- Add informative names to the features.\n",
        "- The survival variable is encoded as 1 for surviving >5 years and 2 for not - change this to be 0 for not surviving and 1 for surviving >5 years (0/1 is a more traditional encoding of binary variables)\n",
        "\n",
        "At the end, print the first five rows of the dataset to demonstrate the above."
      ]
    },
    {
      "metadata": {
        "id": "287TpoGKFRVK",
        "colab_type": "code",
        "outputId": "0f110da9-73cd-4fe6-e014-9fb6699da2a4",
        "colab": {
          "base_uri": "https://localhost:8080/",
          "height": 204
        }
      },
      "cell_type": "code",
      "source": [
        "import pandas as pd\n",
        "import numpy as np\n",
        "from pandas import DataFrame as df\n",
        "from scipy.stats import trim_mean, kurtosis\n",
        "from scipy.stats.mstats import mode, gmean, hmean\n",
        "\n",
        "survival_data = pd.read_table('http://archive.ics.uci.edu/ml/machine-learning-databases/haberman/haberman.data')\n",
        "survival_data.head()\n",
        "\n",
        "col_names=['Age', 'Op Year', 'Nodes', 'Status'] \n",
        "survival_data2 = pd.read_csv('http://archive.ics.uci.edu/ml/machine-learning-databases/haberman/haberman.data', names=col_names, header=None)\n",
        "survival_data2['Status'].replace(2, 0 , inplace=True)\n",
        "survival_data2.shape\n",
        "survival_data2.head()\n",
        "\n",
        "# TODO"
      ],
      "execution_count": 59,
      "outputs": [
        {
          "output_type": "execute_result",
          "data": {
            "text/html": [
              "<div>\n",
              "<style scoped>\n",
              "    .dataframe tbody tr th:only-of-type {\n",
              "        vertical-align: middle;\n",
              "    }\n",
              "\n",
              "    .dataframe tbody tr th {\n",
              "        vertical-align: top;\n",
              "    }\n",
              "\n",
              "    .dataframe thead th {\n",
              "        text-align: right;\n",
              "    }\n",
              "</style>\n",
              "<table border=\"1\" class=\"dataframe\">\n",
              "  <thead>\n",
              "    <tr style=\"text-align: right;\">\n",
              "      <th></th>\n",
              "      <th>Age</th>\n",
              "      <th>Op Year</th>\n",
              "      <th>Nodes</th>\n",
              "      <th>Status</th>\n",
              "    </tr>\n",
              "  </thead>\n",
              "  <tbody>\n",
              "    <tr>\n",
              "      <th>0</th>\n",
              "      <td>30</td>\n",
              "      <td>64</td>\n",
              "      <td>1</td>\n",
              "      <td>1</td>\n",
              "    </tr>\n",
              "    <tr>\n",
              "      <th>1</th>\n",
              "      <td>30</td>\n",
              "      <td>62</td>\n",
              "      <td>3</td>\n",
              "      <td>1</td>\n",
              "    </tr>\n",
              "    <tr>\n",
              "      <th>2</th>\n",
              "      <td>30</td>\n",
              "      <td>65</td>\n",
              "      <td>0</td>\n",
              "      <td>1</td>\n",
              "    </tr>\n",
              "    <tr>\n",
              "      <th>3</th>\n",
              "      <td>31</td>\n",
              "      <td>59</td>\n",
              "      <td>2</td>\n",
              "      <td>1</td>\n",
              "    </tr>\n",
              "    <tr>\n",
              "      <th>4</th>\n",
              "      <td>31</td>\n",
              "      <td>65</td>\n",
              "      <td>4</td>\n",
              "      <td>1</td>\n",
              "    </tr>\n",
              "  </tbody>\n",
              "</table>\n",
              "</div>"
            ],
            "text/plain": [
              "   Age  Op Year  Nodes  Status\n",
              "0   30       64      1       1\n",
              "1   30       62      3       1\n",
              "2   30       65      0       1\n",
              "3   31       59      2       1\n",
              "4   31       65      4       1"
            ]
          },
          "metadata": {
            "tags": []
          },
          "execution_count": 59
        }
      ]
    },
    {
      "metadata": {
        "id": "G7rLytbrO38L",
        "colab_type": "text"
      },
      "cell_type": "markdown",
      "source": [
        "## Part 2 - Examine the distribution and relationships of the features\n",
        "\n",
        "Explore the data - create at least *2* tables (can be summary statistics or crosstabulations) and *2* plots illustrating the nature of the data.\n",
        "\n",
        "This is open-ended, so to remind - first *complete* this task as a baseline, then go on to the remaining sections, and *then* as time allows revisit and explore further.\n",
        "\n",
        "Hint - you may need to bin some variables depending on your chosen tables/plots."
      ]
    },
    {
      "metadata": {
        "id": "IAkllgCIFVj0",
        "colab_type": "code",
        "outputId": "1190069d-dd88-4295-8b6c-8dedc992acd0",
        "colab": {
          "base_uri": "https://localhost:8080/",
          "height": 255
        }
      },
      "cell_type": "code",
      "source": [
        "#table one \n",
        "survival_by_year = pd.crosstab([survival_data2['Op Year']], survival_data2['Status'],  margins=False)\n",
        "print(survival_by_year)"
      ],
      "execution_count": 60,
      "outputs": [
        {
          "output_type": "stream",
          "text": [
            "Status    0   1\n",
            "Op Year        \n",
            "58       12  24\n",
            "59        9  18\n",
            "60        4  24\n",
            "61        3  23\n",
            "62        7  16\n",
            "63        8  22\n",
            "64        8  23\n",
            "65       13  15\n",
            "66        6  22\n",
            "67        4  21\n",
            "68        3  10\n",
            "69        4   7\n"
          ],
          "name": "stdout"
        }
      ]
    },
    {
      "metadata": {
        "id": "FzVY0oS_bXkG",
        "colab_type": "code",
        "colab": {
          "base_uri": "https://localhost:8080/",
          "height": 379
        },
        "outputId": "4d0120c0-1334-4843-feec-dcd32fdec162"
      },
      "cell_type": "code",
      "source": [
        "#plot one \n",
        "survival_by_year.plot(kind='bar', stacked=True)"
      ],
      "execution_count": 61,
      "outputs": [
        {
          "output_type": "execute_result",
          "data": {
            "text/plain": [
              "<matplotlib.axes._subplots.AxesSubplot at 0x7f9bacef5ef0>"
            ]
          },
          "metadata": {
            "tags": []
          },
          "execution_count": 61
        },
        {
          "output_type": "display_data",
          "data": {
            "image/png": "[encoded data removed]",
            "text/plain": [
              "<matplotlib.figure.Figure at 0x7f9bacf7a080>"
            ]
          },
          "metadata": {
            "tags": []
          }
        }
      ]
    },
    {
      "metadata": {
        "id": "4fQlkWNPiIfK",
        "colab_type": "code",
        "colab": {
          "base_uri": "https://localhost:8080/",
          "height": 561
        },
        "outputId": "78a36973-05b2-4fd9-f542-a88d33fc0b2a"
      },
      "cell_type": "code",
      "source": [
        "#table two \n",
        "nodes_survival = pd.crosstab([survival_data2['Nodes']], survival_data2['Status'],  margins=False)\n",
        "nodes_survival = nodes_survival.drop(nodes_survival.index[0])\n",
        "print(nodes_survival)"
      ],
      "execution_count": 74,
      "outputs": [
        {
          "output_type": "stream",
          "text": [
            "Status  0   1\n",
            "Nodes        \n",
            "1       8  33\n",
            "2       5  15\n",
            "3       7  13\n",
            "4       3  10\n",
            "5       4   2\n",
            "6       3   4\n",
            "7       2   5\n",
            "8       2   5\n",
            "9       4   2\n",
            "10      1   2\n",
            "11      3   1\n",
            "12      1   1\n",
            "13      4   1\n",
            "14      1   3\n",
            "15      2   1\n",
            "16      0   1\n",
            "17      1   0\n",
            "18      0   1\n",
            "19      2   1\n",
            "20      1   1\n",
            "21      1   0\n",
            "22      1   2\n",
            "23      3   0\n",
            "24      1   0\n",
            "25      0   1\n",
            "28      0   1\n",
            "30      0   1\n",
            "35      1   0\n",
            "46      0   1\n",
            "52      1   0\n"
          ],
          "name": "stdout"
        }
      ]
    },
    {
      "metadata": {
        "id": "StdE4GLXixcC",
        "colab_type": "code",
        "outputId": "e37589fe-9cb2-49df-ca50-af6de8091212",
        "colab": {
          "base_uri": "https://localhost:8080/",
          "height": 378
        }
      },
      "cell_type": "code",
      "source": [
        "#plot two \n",
        "nodes_survival.plot(kind='line', stacked=True)"
      ],
      "execution_count": 75,
      "outputs": [
        {
          "output_type": "execute_result",
          "data": {
            "text/plain": [
              "<matplotlib.axes._subplots.AxesSubplot at 0x7f9bacab56a0>"
            ]
          },
          "metadata": {
            "tags": []
          },
          "execution_count": 75
        },
        {
          "output_type": "display_data",
          "data": {
            "image/png": "[encoded data removed]",
            "text/plain": [
              "<matplotlib.figure.Figure at 0x7f9bacb65ba8>"
            ]
          },
          "metadata": {
            "tags": []
          }
        }
      ]
    },
    {
      "metadata": {
        "id": "iGXxQiFL4dIe",
        "colab_type": "code",
        "colab": {
          "base_uri": "https://localhost:8080/",
          "height": 884
        },
        "outputId": "65c19a7a-593d-4a93-cd04-6568c833217f"
      },
      "cell_type": "code",
      "source": [
        "#table three \n",
        "nodes_age = pd.crosstab([survival_data2['Age']], survival_data2['Status'],  margins=False)\n",
        "print(nodes_age)"
      ],
      "execution_count": 82,
      "outputs": [
        {
          "output_type": "stream",
          "text": [
            "Status  0   1\n",
            "Age          \n",
            "30      0   3\n",
            "31      0   2\n",
            "33      0   2\n",
            "34      2   5\n",
            "35      0   2\n",
            "36      0   2\n",
            "37      0   6\n",
            "38      1   9\n",
            "39      1   5\n",
            "40      0   3\n",
            "41      3   7\n",
            "42      2   7\n",
            "43      4   7\n",
            "44      3   4\n",
            "45      3   6\n",
            "46      4   3\n",
            "47      3   8\n",
            "48      3   4\n",
            "49      2   8\n",
            "50      2  10\n",
            "51      2   4\n",
            "52      4  10\n",
            "53      6   5\n",
            "54      4   9\n",
            "55      2   8\n",
            "56      2   5\n",
            "57      3   8\n",
            "58      0   7\n",
            "59      1   7\n",
            "60      2   4\n",
            "61      3   6\n",
            "62      3   4\n",
            "63      1   7\n",
            "64      0   5\n",
            "65      4   6\n",
            "66      2   3\n",
            "67      2   4\n",
            "68      0   2\n",
            "69      1   3\n",
            "70      2   5\n",
            "71      0   1\n",
            "72      1   3\n",
            "73      0   2\n",
            "74      1   1\n",
            "75      0   1\n",
            "76      0   1\n",
            "77      0   1\n",
            "78      1   0\n",
            "83      1   0\n"
          ],
          "name": "stdout"
        }
      ]
    },
    {
      "metadata": {
        "id": "lgjMxOq_43Ng",
        "colab_type": "code",
        "colab": {
          "base_uri": "https://localhost:8080/",
          "height": 378
        },
        "outputId": "000cd61e-3144-4547-d8f6-f52ba57a730c"
      },
      "cell_type": "code",
      "source": [
        "#plot two \n",
        "nodes_age.plot(kind='line')"
      ],
      "execution_count": 87,
      "outputs": [
        {
          "output_type": "execute_result",
          "data": {
            "text/plain": [
              "<matplotlib.axes._subplots.AxesSubplot at 0x7f9bab6b9240>"
            ]
          },
          "metadata": {
            "tags": []
          },
          "execution_count": 87
        },
        {
          "output_type": "display_data",
          "data": {
            "image/png": "[encoded data removed]",
            "text/plain": [
              "<matplotlib.figure.Figure at 0x7f9bab6c6588>"
            ]
          },
          "metadata": {
            "tags": []
          }
        }
      ]
    },
    {
      "metadata": {
        "id": "ZM8JckA2bgnp",
        "colab_type": "text"
      },
      "cell_type": "markdown",
      "source": [
        "## Part 3 - Analysis and Interpretation\n",
        "\n",
        "Now that you've looked at the data, answer the following questions:\n",
        "\n",
        "- What is at least one feature that looks to have a positive correlation with survival?\n",
        "- What is at least one feature that looks to have a negative correlation with survival?\n",
        "- How are those two features related with each other, and what might that mean?\n",
        "\n",
        "Answer with text, but feel free to intersperse example code/results or refer to it from earlier."
      ]
    },
    {
      "metadata": {
        "id": "Y0aWbbtX3Jf9",
        "colab_type": "text"
      },
      "cell_type": "markdown",
      "source": [
        "What is at least one feature that looks to have a positive correlation with survival?\n",
        "  \n",
        "  - The less nodes a patient has the more likely they are to survive.\n",
        "  \n",
        "What is at least one feature that looks to have a negative correlation with survival?\n",
        "  \n",
        "  - Chances of survival were very low in the years ranging from 1962 - 1965. \n",
        "\n",
        "How are those two features related with each other, and what might that mean?\n",
        " \n",
        "  - Chances of survival are higher with patients 30 - 40. \n",
        "\n",
        " "
      ]
    }
  ]
}