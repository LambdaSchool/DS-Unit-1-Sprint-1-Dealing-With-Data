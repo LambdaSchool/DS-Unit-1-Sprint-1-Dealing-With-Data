{
  "nbformat": 4,
  "nbformat_minor": 0,
  "metadata": {
    "colab": {
      "name": "DS_Unit_1_Sprint_Challenge_1.ipynb",
      "version": "0.3.2",
      "provenance": [],
      "collapsed_sections": [],
      "include_colab_link": true
    },
    "kernelspec": {
      "name": "python3",
      "display_name": "Python 3"
    }
  },
  "cells": [
    {
      "cell_type": "markdown",
      "metadata": {
        "id": "view-in-github",
        "colab_type": "text"
      },
      "source": [
        "<a href=\"https://colab.research.google.com/github/tbradshaw91/DS-Unit-1-Sprint-1-Dealing-With-Data/blob/master/DS_Unit_1_Sprint_Challenge_1.ipynb\" target=\"_parent\"><img src=\"https://colab.research.google.com/assets/colab-badge.svg\" alt=\"Open In Colab\"/></a>"
      ]
    },
    {
      "metadata": {
        "id": "NooAiTdnafkz",
        "colab_type": "text"
      },
      "cell_type": "markdown",
      "source": [
        "# Data Science Unit 1 Sprint Challenge 1\n",
        "\n",
        "## Loading, cleaning, visualizing, and analyzing data\n",
        "\n",
        "In this sprint challenge you will look at a dataset of the survival of patients who underwent surgery for breast cancer.\n",
        "\n",
        "http://archive.ics.uci.edu/ml/datasets/Haberman%27s+Survival\n",
        "\n",
        "Data Set Information:\n",
        "The dataset contains cases from a study that was conducted between 1958 and 1970 at the University of Chicago's Billings Hospital on the survival of patients who had undergone surgery for breast cancer.\n",
        "\n",
        "Attribute Information:\n",
        "1. Age of patient at time of operation (numerical)\n",
        "2. Patient's year of operation (year - 1900, numerical)\n",
        "3. Number of positive axillary nodes detected (numerical)\n",
        "4. Survival status (class attribute)\n",
        "-- 1 = the patient survived 5 years or longer\n",
        "-- 2 = the patient died within 5 year\n",
        "\n",
        "Sprint challenges are evaluated based on satisfactory completion of each part. It is suggested you work through it in order, getting each aspect reasonably working, before trying to deeply explore, iterate, or refine any given step. Once you get to the end, if you want to go back and improve things, go for it!"
      ]
    },
    {
      "metadata": {
        "id": "5wch6ksCbJtZ",
        "colab_type": "text"
      },
      "cell_type": "markdown",
      "source": [
        "## Part 1 - Load and validate the data\n",
        "\n",
        "- Load the data as a `pandas` data frame. (DONE)\n",
        "- Validate that it has the appropriate number of observations (you can check the raw file, and also read the dataset description from UCI).(DONE)\n",
        "- Validate that you have no missing values.(DONE)\n",
        "- Add informative names to the features.(DONE)\n",
        "- The survival variable is encoded as 1 for surviving >5 years and 2 for not - change this to be 0 for not surviving and 1 for surviving >5 years (0/1 is a more traditional encoding of binary variables)(DONE)\n",
        "\n",
        "At the end, print the first five rows of the dataset to demonstrate the above."
      ]
    },
    {
      "metadata": {
        "id": "M1yA4SNZ_-9G",
        "colab_type": "code",
        "colab": {}
      },
      "cell_type": "code",
      "source": [
        "# Loading the data as a pandas data frame\n",
        "import pandas as pd\n",
        "import numpy as np"
      ],
      "execution_count": 0,
      "outputs": []
    },
    {
      "metadata": {
        "id": "lCGL1eqGfGX1",
        "colab_type": "text"
      },
      "cell_type": "markdown",
      "source": [
        "## **Attributes**\n",
        "Age = Age\n",
        "\n",
        "YOO = Year Of Operation\n",
        "\n",
        "PAND = Positive Axillary Nodes Detected\n",
        "\n",
        "SS = Survival Status"
      ]
    },
    {
      "metadata": {
        "id": "U6KcBHwABpd_",
        "colab_type": "text"
      },
      "cell_type": "markdown",
      "source": [
        "**Read in the dataset, assign names to features and verify it matches the DS**"
      ]
    },
    {
      "metadata": {
        "id": "287TpoGKFRVK",
        "colab_type": "code",
        "colab": {
          "base_uri": "https://localhost:8080/",
          "height": 204
        },
        "outputId": "0b3ca74b-93d6-4657-e122-6171d3a92445"
      },
      "cell_type": "code",
      "source": [
        "patient_data = pd.read_csv('http://archive.ics.uci.edu/ml/machine-learning-databases/haberman/haberman.data', \n",
        "                           header=None, \n",
        "                          names=['Age', 'YOO', 'PAND', 'SS'])\n",
        "\n",
        "patient_data.head()\n",
        "\n",
        "# Validate appropriate number of observations\n",
        "#patient_data.count()"
      ],
      "execution_count": 19,
      "outputs": [
        {
          "output_type": "execute_result",
          "data": {
            "text/html": [
              "<div>\n",
              "<style scoped>\n",
              "    .dataframe tbody tr th:only-of-type {\n",
              "        vertical-align: middle;\n",
              "    }\n",
              "\n",
              "    .dataframe tbody tr th {\n",
              "        vertical-align: top;\n",
              "    }\n",
              "\n",
              "    .dataframe thead th {\n",
              "        text-align: right;\n",
              "    }\n",
              "</style>\n",
              "<table border=\"1\" class=\"dataframe\">\n",
              "  <thead>\n",
              "    <tr style=\"text-align: right;\">\n",
              "      <th></th>\n",
              "      <th>Age</th>\n",
              "      <th>YOO</th>\n",
              "      <th>PAND</th>\n",
              "      <th>SS</th>\n",
              "    </tr>\n",
              "  </thead>\n",
              "  <tbody>\n",
              "    <tr>\n",
              "      <th>0</th>\n",
              "      <td>30</td>\n",
              "      <td>64</td>\n",
              "      <td>1</td>\n",
              "      <td>1</td>\n",
              "    </tr>\n",
              "    <tr>\n",
              "      <th>1</th>\n",
              "      <td>30</td>\n",
              "      <td>62</td>\n",
              "      <td>3</td>\n",
              "      <td>1</td>\n",
              "    </tr>\n",
              "    <tr>\n",
              "      <th>2</th>\n",
              "      <td>30</td>\n",
              "      <td>65</td>\n",
              "      <td>0</td>\n",
              "      <td>1</td>\n",
              "    </tr>\n",
              "    <tr>\n",
              "      <th>3</th>\n",
              "      <td>31</td>\n",
              "      <td>59</td>\n",
              "      <td>2</td>\n",
              "      <td>1</td>\n",
              "    </tr>\n",
              "    <tr>\n",
              "      <th>4</th>\n",
              "      <td>31</td>\n",
              "      <td>65</td>\n",
              "      <td>4</td>\n",
              "      <td>1</td>\n",
              "    </tr>\n",
              "  </tbody>\n",
              "</table>\n",
              "</div>"
            ],
            "text/plain": [
              "   Age  YOO  PAND  SS\n",
              "0   30   64     1   1\n",
              "1   30   62     3   1\n",
              "2   30   65     0   1\n",
              "3   31   59     2   1\n",
              "4   31   65     4   1"
            ]
          },
          "metadata": {
            "tags": []
          },
          "execution_count": 19
        }
      ]
    },
    {
      "metadata": {
        "id": "uurxUFhaCD_4",
        "colab_type": "text"
      },
      "cell_type": "markdown",
      "source": [
        "**Verify you have no missing values, this can be done in a couple of ways, which I have listed in hastags below. i chose to use my favorite method that just shows a sum of all missing values**"
      ]
    },
    {
      "metadata": {
        "id": "X03v_ZbcBqRt",
        "colab_type": "code",
        "colab": {
          "base_uri": "https://localhost:8080/",
          "height": 34
        },
        "outputId": "9b5236cb-0d37-477c-e52f-e96ed5175f0e"
      },
      "cell_type": "code",
      "source": [
        "# Verify you have no missing values. \n",
        "#patient_data.isnull().sum()\n",
        "#patient_data.isna().sum()\n",
        "\n",
        "patient_data.isnull().sum().sum()"
      ],
      "execution_count": 20,
      "outputs": [
        {
          "output_type": "execute_result",
          "data": {
            "text/plain": [
              "0"
            ]
          },
          "metadata": {
            "tags": []
          },
          "execution_count": 20
        }
      ]
    },
    {
      "metadata": {
        "id": "50HOJkQMfzkK",
        "colab_type": "text"
      },
      "cell_type": "markdown",
      "source": [
        "**Change the Variables and Print the First 5 Rows**"
      ]
    },
    {
      "metadata": {
        "id": "P274B_EPCy1R",
        "colab_type": "code",
        "colab": {
          "base_uri": "https://localhost:8080/",
          "height": 204
        },
        "outputId": "59306c62-7f2a-44ee-b807-c240cdd959eb"
      },
      "cell_type": "code",
      "source": [
        "patient_data['SS']= np.where(patient_data['SS']==1,1,0)\n",
        "# Confirm\n",
        "patient_data.head()"
      ],
      "execution_count": 74,
      "outputs": [
        {
          "output_type": "execute_result",
          "data": {
            "text/html": [
              "<div>\n",
              "<style scoped>\n",
              "    .dataframe tbody tr th:only-of-type {\n",
              "        vertical-align: middle;\n",
              "    }\n",
              "\n",
              "    .dataframe tbody tr th {\n",
              "        vertical-align: top;\n",
              "    }\n",
              "\n",
              "    .dataframe thead th {\n",
              "        text-align: right;\n",
              "    }\n",
              "</style>\n",
              "<table border=\"1\" class=\"dataframe\">\n",
              "  <thead>\n",
              "    <tr style=\"text-align: right;\">\n",
              "      <th></th>\n",
              "      <th>Age</th>\n",
              "      <th>YOO</th>\n",
              "      <th>PAND</th>\n",
              "      <th>SS</th>\n",
              "    </tr>\n",
              "  </thead>\n",
              "  <tbody>\n",
              "    <tr>\n",
              "      <th>0</th>\n",
              "      <td>30</td>\n",
              "      <td>64</td>\n",
              "      <td>1</td>\n",
              "      <td>1</td>\n",
              "    </tr>\n",
              "    <tr>\n",
              "      <th>1</th>\n",
              "      <td>30</td>\n",
              "      <td>62</td>\n",
              "      <td>3</td>\n",
              "      <td>1</td>\n",
              "    </tr>\n",
              "    <tr>\n",
              "      <th>2</th>\n",
              "      <td>30</td>\n",
              "      <td>65</td>\n",
              "      <td>0</td>\n",
              "      <td>1</td>\n",
              "    </tr>\n",
              "    <tr>\n",
              "      <th>3</th>\n",
              "      <td>31</td>\n",
              "      <td>59</td>\n",
              "      <td>2</td>\n",
              "      <td>1</td>\n",
              "    </tr>\n",
              "    <tr>\n",
              "      <th>4</th>\n",
              "      <td>31</td>\n",
              "      <td>65</td>\n",
              "      <td>4</td>\n",
              "      <td>1</td>\n",
              "    </tr>\n",
              "  </tbody>\n",
              "</table>\n",
              "</div>"
            ],
            "text/plain": [
              "   Age  YOO  PAND  SS\n",
              "0   30   64     1   1\n",
              "1   30   62     3   1\n",
              "2   30   65     0   1\n",
              "3   31   59     2   1\n",
              "4   31   65     4   1"
            ]
          },
          "metadata": {
            "tags": []
          },
          "execution_count": 74
        }
      ]
    },
    {
      "metadata": {
        "id": "G7rLytbrO38L",
        "colab_type": "text"
      },
      "cell_type": "markdown",
      "source": [
        "## Part 2 - Examine the distribution and relationships of the features\n",
        "\n",
        "Explore the data - create at least *2* tables (can be summary statistics or crosstabulations) and *2* plots illustrating the nature of the data.\n",
        "\n",
        "This is open-ended, so to remind - first *complete* this task as a baseline, then go on to the remaining sections, and *then* as time allows revisit and explore further.\n",
        "\n",
        "Hint - you may need to bin some variables depending on your chosen tables/plots."
      ]
    },
    {
      "metadata": {
        "id": "V2nG-5xMgXjI",
        "colab_type": "text"
      },
      "cell_type": "markdown",
      "source": [
        "**Crosstabs & Summary Stats**"
      ]
    },
    {
      "metadata": {
        "id": "IAkllgCIFVj0",
        "colab_type": "code",
        "colab": {
          "base_uri": "https://localhost:8080/",
          "height": 266
        },
        "outputId": "a0542874-038d-4f9e-b451-af00fe626ac8"
      },
      "cell_type": "code",
      "source": [
        "# Making Bins to see if there is any connections\n",
        "yoo_bins = pd.cut(patient_data['YOO'], 10)  # 10 Bins\n",
        "age_bins = pd.cut(patient_data['Age'], 10)  # 10 Bins\n",
        "pand_bins = pd.cut(patient_data['PAND'], 10) # 10 Bins\n",
        "\n",
        "\n",
        "ct = pd.crosstab(yoo_bins,[age_bins,patient_data['SS']],\n",
        "                  rownames=['Year of Op'],colnames=['Age','Survived'])\n",
        "ct.head()"
      ],
      "execution_count": 33,
      "outputs": [
        {
          "output_type": "execute_result",
          "data": {
            "text/html": [
              "<div>\n",
              "<style scoped>\n",
              "    .dataframe tbody tr th:only-of-type {\n",
              "        vertical-align: middle;\n",
              "    }\n",
              "\n",
              "    .dataframe tbody tr th {\n",
              "        vertical-align: top;\n",
              "    }\n",
              "\n",
              "    .dataframe thead tr th {\n",
              "        text-align: left;\n",
              "    }\n",
              "\n",
              "    .dataframe thead tr:last-of-type th {\n",
              "        text-align: right;\n",
              "    }\n",
              "</style>\n",
              "<table border=\"1\" class=\"dataframe\">\n",
              "  <thead>\n",
              "    <tr>\n",
              "      <th>Age</th>\n",
              "      <th colspan=\"2\" halign=\"left\">(29.947, 35.3]</th>\n",
              "      <th colspan=\"2\" halign=\"left\">(35.3, 40.6]</th>\n",
              "      <th colspan=\"2\" halign=\"left\">(40.6, 45.9]</th>\n",
              "      <th colspan=\"2\" halign=\"left\">(45.9, 51.2]</th>\n",
              "      <th colspan=\"2\" halign=\"left\">(51.2, 56.5]</th>\n",
              "      <th colspan=\"2\" halign=\"left\">(56.5, 61.8]</th>\n",
              "      <th colspan=\"2\" halign=\"left\">(61.8, 67.1]</th>\n",
              "      <th colspan=\"2\" halign=\"left\">(67.1, 72.4]</th>\n",
              "      <th colspan=\"2\" halign=\"left\">(72.4, 77.7]</th>\n",
              "      <th colspan=\"2\" halign=\"left\">(77.7, 83.0]</th>\n",
              "    </tr>\n",
              "    <tr>\n",
              "      <th>Survived</th>\n",
              "      <th>0</th>\n",
              "      <th>1</th>\n",
              "      <th>0</th>\n",
              "      <th>1</th>\n",
              "      <th>0</th>\n",
              "      <th>1</th>\n",
              "      <th>0</th>\n",
              "      <th>1</th>\n",
              "      <th>0</th>\n",
              "      <th>1</th>\n",
              "      <th>0</th>\n",
              "      <th>1</th>\n",
              "      <th>0</th>\n",
              "      <th>1</th>\n",
              "      <th>0</th>\n",
              "      <th>1</th>\n",
              "      <th>0</th>\n",
              "      <th>1</th>\n",
              "      <th>0</th>\n",
              "      <th>1</th>\n",
              "    </tr>\n",
              "    <tr>\n",
              "      <th>Year of Op</th>\n",
              "      <th></th>\n",
              "      <th></th>\n",
              "      <th></th>\n",
              "      <th></th>\n",
              "      <th></th>\n",
              "      <th></th>\n",
              "      <th></th>\n",
              "      <th></th>\n",
              "      <th></th>\n",
              "      <th></th>\n",
              "      <th></th>\n",
              "      <th></th>\n",
              "      <th></th>\n",
              "      <th></th>\n",
              "      <th></th>\n",
              "      <th></th>\n",
              "      <th></th>\n",
              "      <th></th>\n",
              "      <th></th>\n",
              "      <th></th>\n",
              "    </tr>\n",
              "  </thead>\n",
              "  <tbody>\n",
              "    <tr>\n",
              "      <th>(57.989, 59.1]</th>\n",
              "      <td>1</td>\n",
              "      <td>3</td>\n",
              "      <td>0</td>\n",
              "      <td>7</td>\n",
              "      <td>4</td>\n",
              "      <td>6</td>\n",
              "      <td>5</td>\n",
              "      <td>6</td>\n",
              "      <td>3</td>\n",
              "      <td>6</td>\n",
              "      <td>1</td>\n",
              "      <td>6</td>\n",
              "      <td>4</td>\n",
              "      <td>6</td>\n",
              "      <td>2</td>\n",
              "      <td>2</td>\n",
              "      <td>0</td>\n",
              "      <td>0</td>\n",
              "      <td>1</td>\n",
              "      <td>0</td>\n",
              "    </tr>\n",
              "    <tr>\n",
              "      <th>(59.1, 60.2]</th>\n",
              "      <td>0</td>\n",
              "      <td>3</td>\n",
              "      <td>0</td>\n",
              "      <td>6</td>\n",
              "      <td>1</td>\n",
              "      <td>3</td>\n",
              "      <td>0</td>\n",
              "      <td>2</td>\n",
              "      <td>2</td>\n",
              "      <td>7</td>\n",
              "      <td>0</td>\n",
              "      <td>2</td>\n",
              "      <td>1</td>\n",
              "      <td>0</td>\n",
              "      <td>0</td>\n",
              "      <td>1</td>\n",
              "      <td>0</td>\n",
              "      <td>0</td>\n",
              "      <td>0</td>\n",
              "      <td>0</td>\n",
              "    </tr>\n",
              "    <tr>\n",
              "      <th>(60.2, 61.3]</th>\n",
              "      <td>0</td>\n",
              "      <td>1</td>\n",
              "      <td>0</td>\n",
              "      <td>0</td>\n",
              "      <td>0</td>\n",
              "      <td>3</td>\n",
              "      <td>0</td>\n",
              "      <td>7</td>\n",
              "      <td>0</td>\n",
              "      <td>2</td>\n",
              "      <td>1</td>\n",
              "      <td>5</td>\n",
              "      <td>2</td>\n",
              "      <td>5</td>\n",
              "      <td>0</td>\n",
              "      <td>0</td>\n",
              "      <td>0</td>\n",
              "      <td>0</td>\n",
              "      <td>0</td>\n",
              "      <td>0</td>\n",
              "    </tr>\n",
              "    <tr>\n",
              "      <th>(61.3, 62.4]</th>\n",
              "      <td>0</td>\n",
              "      <td>1</td>\n",
              "      <td>0</td>\n",
              "      <td>1</td>\n",
              "      <td>0</td>\n",
              "      <td>1</td>\n",
              "      <td>2</td>\n",
              "      <td>4</td>\n",
              "      <td>1</td>\n",
              "      <td>4</td>\n",
              "      <td>3</td>\n",
              "      <td>1</td>\n",
              "      <td>1</td>\n",
              "      <td>2</td>\n",
              "      <td>0</td>\n",
              "      <td>0</td>\n",
              "      <td>0</td>\n",
              "      <td>2</td>\n",
              "      <td>0</td>\n",
              "      <td>0</td>\n",
              "    </tr>\n",
              "    <tr>\n",
              "      <th>(62.4, 63.5]</th>\n",
              "      <td>0</td>\n",
              "      <td>1</td>\n",
              "      <td>0</td>\n",
              "      <td>4</td>\n",
              "      <td>1</td>\n",
              "      <td>4</td>\n",
              "      <td>3</td>\n",
              "      <td>4</td>\n",
              "      <td>2</td>\n",
              "      <td>3</td>\n",
              "      <td>0</td>\n",
              "      <td>2</td>\n",
              "      <td>1</td>\n",
              "      <td>2</td>\n",
              "      <td>1</td>\n",
              "      <td>1</td>\n",
              "      <td>0</td>\n",
              "      <td>1</td>\n",
              "      <td>0</td>\n",
              "      <td>0</td>\n",
              "    </tr>\n",
              "  </tbody>\n",
              "</table>\n",
              "</div>"
            ],
            "text/plain": [
              "Age            (29.947, 35.3]    (35.3, 40.6]    (40.6, 45.9]    (45.9, 51.2]  \\\n",
              "Survived                    0  1            0  1            0  1            0   \n",
              "Year of Op                                                                      \n",
              "(57.989, 59.1]              1  3            0  7            4  6            5   \n",
              "(59.1, 60.2]                0  3            0  6            1  3            0   \n",
              "(60.2, 61.3]                0  1            0  0            0  3            0   \n",
              "(61.3, 62.4]                0  1            0  1            0  1            2   \n",
              "(62.4, 63.5]                0  1            0  4            1  4            3   \n",
              "\n",
              "Age               (51.2, 56.5]    (56.5, 61.8]    (61.8, 67.1]     \\\n",
              "Survived        1            0  1            0  1            0  1   \n",
              "Year of Op                                                          \n",
              "(57.989, 59.1]  6            3  6            1  6            4  6   \n",
              "(59.1, 60.2]    2            2  7            0  2            1  0   \n",
              "(60.2, 61.3]    7            0  2            1  5            2  5   \n",
              "(61.3, 62.4]    4            1  4            3  1            1  2   \n",
              "(62.4, 63.5]    4            2  3            0  2            1  2   \n",
              "\n",
              "Age            (67.1, 72.4]    (72.4, 77.7]    (77.7, 83.0]     \n",
              "Survived                  0  1            0  1            0  1  \n",
              "Year of Op                                                      \n",
              "(57.989, 59.1]            2  2            0  0            1  0  \n",
              "(59.1, 60.2]              0  1            0  0            0  0  \n",
              "(60.2, 61.3]              0  0            0  0            0  0  \n",
              "(61.3, 62.4]              0  0            0  2            0  0  \n",
              "(62.4, 63.5]              1  1            0  1            0  0  "
            ]
          },
          "metadata": {
            "tags": []
          },
          "execution_count": 33
        }
      ]
    },
    {
      "metadata": {
        "id": "CKGAb5fqgfDy",
        "colab_type": "text"
      },
      "cell_type": "markdown",
      "source": [
        "***I did not see any correlation between Year of operation and age/survival. To properly gauge this, I would need more info.***"
      ]
    },
    {
      "metadata": {
        "id": "rNgwGb4UYcRQ",
        "colab_type": "code",
        "colab": {
          "base_uri": "https://localhost:8080/",
          "height": 266
        },
        "outputId": "c56ce153-60e5-48cc-dd21-85454d4a7173"
      },
      "cell_type": "code",
      "source": [
        "ct = pd.crosstab(pand_bins,[age_bins,patient_data['SS']],\n",
        "                  rownames=['Nodes'],colnames=['Age','Survived'])\n",
        "ct.head()"
      ],
      "execution_count": 36,
      "outputs": [
        {
          "output_type": "execute_result",
          "data": {
            "text/html": [
              "<div>\n",
              "<style scoped>\n",
              "    .dataframe tbody tr th:only-of-type {\n",
              "        vertical-align: middle;\n",
              "    }\n",
              "\n",
              "    .dataframe tbody tr th {\n",
              "        vertical-align: top;\n",
              "    }\n",
              "\n",
              "    .dataframe thead tr th {\n",
              "        text-align: left;\n",
              "    }\n",
              "\n",
              "    .dataframe thead tr:last-of-type th {\n",
              "        text-align: right;\n",
              "    }\n",
              "</style>\n",
              "<table border=\"1\" class=\"dataframe\">\n",
              "  <thead>\n",
              "    <tr>\n",
              "      <th>Age</th>\n",
              "      <th colspan=\"2\" halign=\"left\">(29.947, 35.3]</th>\n",
              "      <th colspan=\"2\" halign=\"left\">(35.3, 40.6]</th>\n",
              "      <th colspan=\"2\" halign=\"left\">(40.6, 45.9]</th>\n",
              "      <th colspan=\"2\" halign=\"left\">(45.9, 51.2]</th>\n",
              "      <th colspan=\"2\" halign=\"left\">(51.2, 56.5]</th>\n",
              "      <th colspan=\"2\" halign=\"left\">(56.5, 61.8]</th>\n",
              "      <th colspan=\"2\" halign=\"left\">(61.8, 67.1]</th>\n",
              "      <th colspan=\"2\" halign=\"left\">(67.1, 72.4]</th>\n",
              "      <th colspan=\"2\" halign=\"left\">(72.4, 77.7]</th>\n",
              "      <th colspan=\"2\" halign=\"left\">(77.7, 83.0]</th>\n",
              "    </tr>\n",
              "    <tr>\n",
              "      <th>Survived</th>\n",
              "      <th>0</th>\n",
              "      <th>1</th>\n",
              "      <th>0</th>\n",
              "      <th>1</th>\n",
              "      <th>0</th>\n",
              "      <th>1</th>\n",
              "      <th>0</th>\n",
              "      <th>1</th>\n",
              "      <th>0</th>\n",
              "      <th>1</th>\n",
              "      <th>0</th>\n",
              "      <th>1</th>\n",
              "      <th>0</th>\n",
              "      <th>1</th>\n",
              "      <th>0</th>\n",
              "      <th>1</th>\n",
              "      <th>0</th>\n",
              "      <th>1</th>\n",
              "      <th>0</th>\n",
              "      <th>1</th>\n",
              "    </tr>\n",
              "    <tr>\n",
              "      <th>Nodes</th>\n",
              "      <th></th>\n",
              "      <th></th>\n",
              "      <th></th>\n",
              "      <th></th>\n",
              "      <th></th>\n",
              "      <th></th>\n",
              "      <th></th>\n",
              "      <th></th>\n",
              "      <th></th>\n",
              "      <th></th>\n",
              "      <th></th>\n",
              "      <th></th>\n",
              "      <th></th>\n",
              "      <th></th>\n",
              "      <th></th>\n",
              "      <th></th>\n",
              "      <th></th>\n",
              "      <th></th>\n",
              "      <th></th>\n",
              "      <th></th>\n",
              "    </tr>\n",
              "  </thead>\n",
              "  <tbody>\n",
              "    <tr>\n",
              "      <th>(-0.052, 5.2]</th>\n",
              "      <td>1</td>\n",
              "      <td>9</td>\n",
              "      <td>1</td>\n",
              "      <td>22</td>\n",
              "      <td>9</td>\n",
              "      <td>25</td>\n",
              "      <td>8</td>\n",
              "      <td>32</td>\n",
              "      <td>9</td>\n",
              "      <td>31</td>\n",
              "      <td>6</td>\n",
              "      <td>28</td>\n",
              "      <td>6</td>\n",
              "      <td>25</td>\n",
              "      <td>3</td>\n",
              "      <td>12</td>\n",
              "      <td>1</td>\n",
              "      <td>6</td>\n",
              "      <td>2</td>\n",
              "      <td>0</td>\n",
              "    </tr>\n",
              "    <tr>\n",
              "      <th>(5.2, 10.4]</th>\n",
              "      <td>1</td>\n",
              "      <td>3</td>\n",
              "      <td>0</td>\n",
              "      <td>1</td>\n",
              "      <td>3</td>\n",
              "      <td>2</td>\n",
              "      <td>2</td>\n",
              "      <td>4</td>\n",
              "      <td>4</td>\n",
              "      <td>2</td>\n",
              "      <td>0</td>\n",
              "      <td>3</td>\n",
              "      <td>1</td>\n",
              "      <td>2</td>\n",
              "      <td>1</td>\n",
              "      <td>1</td>\n",
              "      <td>0</td>\n",
              "      <td>0</td>\n",
              "      <td>0</td>\n",
              "      <td>0</td>\n",
              "    </tr>\n",
              "    <tr>\n",
              "      <th>(10.4, 15.6]</th>\n",
              "      <td>0</td>\n",
              "      <td>1</td>\n",
              "      <td>0</td>\n",
              "      <td>2</td>\n",
              "      <td>0</td>\n",
              "      <td>2</td>\n",
              "      <td>4</td>\n",
              "      <td>1</td>\n",
              "      <td>3</td>\n",
              "      <td>0</td>\n",
              "      <td>1</td>\n",
              "      <td>0</td>\n",
              "      <td>3</td>\n",
              "      <td>0</td>\n",
              "      <td>0</td>\n",
              "      <td>1</td>\n",
              "      <td>0</td>\n",
              "      <td>0</td>\n",
              "      <td>0</td>\n",
              "      <td>0</td>\n",
              "    </tr>\n",
              "    <tr>\n",
              "      <th>(15.6, 20.8]</th>\n",
              "      <td>0</td>\n",
              "      <td>0</td>\n",
              "      <td>0</td>\n",
              "      <td>0</td>\n",
              "      <td>1</td>\n",
              "      <td>2</td>\n",
              "      <td>1</td>\n",
              "      <td>0</td>\n",
              "      <td>0</td>\n",
              "      <td>2</td>\n",
              "      <td>1</td>\n",
              "      <td>0</td>\n",
              "      <td>1</td>\n",
              "      <td>0</td>\n",
              "      <td>0</td>\n",
              "      <td>0</td>\n",
              "      <td>0</td>\n",
              "      <td>0</td>\n",
              "      <td>0</td>\n",
              "      <td>0</td>\n",
              "    </tr>\n",
              "    <tr>\n",
              "      <th>(20.8, 26.0]</th>\n",
              "      <td>0</td>\n",
              "      <td>0</td>\n",
              "      <td>1</td>\n",
              "      <td>0</td>\n",
              "      <td>1</td>\n",
              "      <td>0</td>\n",
              "      <td>1</td>\n",
              "      <td>0</td>\n",
              "      <td>2</td>\n",
              "      <td>1</td>\n",
              "      <td>0</td>\n",
              "      <td>1</td>\n",
              "      <td>1</td>\n",
              "      <td>1</td>\n",
              "      <td>0</td>\n",
              "      <td>0</td>\n",
              "      <td>0</td>\n",
              "      <td>0</td>\n",
              "      <td>0</td>\n",
              "      <td>0</td>\n",
              "    </tr>\n",
              "  </tbody>\n",
              "</table>\n",
              "</div>"
            ],
            "text/plain": [
              "Age           (29.947, 35.3]    (35.3, 40.6]     (40.6, 45.9]      \\\n",
              "Survived                   0  1            0   1            0   1   \n",
              "Nodes                                                               \n",
              "(-0.052, 5.2]              1  9            1  22            9  25   \n",
              "(5.2, 10.4]                1  3            0   1            3   2   \n",
              "(10.4, 15.6]               0  1            0   2            0   2   \n",
              "(15.6, 20.8]               0  0            0   0            1   2   \n",
              "(20.8, 26.0]               0  0            1   0            1   0   \n",
              "\n",
              "Age           (45.9, 51.2]     (51.2, 56.5]     (56.5, 61.8]     (61.8, 67.1]  \\\n",
              "Survived                 0   1            0   1            0   1            0   \n",
              "Nodes                                                                           \n",
              "(-0.052, 5.2]            8  32            9  31            6  28            6   \n",
              "(5.2, 10.4]              2   4            4   2            0   3            1   \n",
              "(10.4, 15.6]             4   1            3   0            1   0            3   \n",
              "(15.6, 20.8]             1   0            0   2            1   0            1   \n",
              "(20.8, 26.0]             1   0            2   1            0   1            1   \n",
              "\n",
              "Age               (67.1, 72.4]     (72.4, 77.7]    (77.7, 83.0]     \n",
              "Survived        1            0   1            0  1            0  1  \n",
              "Nodes                                                               \n",
              "(-0.052, 5.2]  25            3  12            1  6            2  0  \n",
              "(5.2, 10.4]     2            1   1            0  0            0  0  \n",
              "(10.4, 15.6]    0            0   1            0  0            0  0  \n",
              "(15.6, 20.8]    0            0   0            0  0            0  0  \n",
              "(20.8, 26.0]    1            0   0            0  0            0  0  "
            ]
          },
          "metadata": {
            "tags": []
          },
          "execution_count": 36
        }
      ]
    },
    {
      "metadata": {
        "id": "CnrJ66z1gqEn",
        "colab_type": "text"
      },
      "cell_type": "markdown",
      "source": [
        "***I enjoyed this chart. It shows the relationship between age, survival and nodes. I felt like it showed a lot of insight, although a bit messy.***"
      ]
    },
    {
      "metadata": {
        "id": "7nIa5wrcNVE8",
        "colab_type": "code",
        "colab": {
          "base_uri": "https://localhost:8080/",
          "height": 328
        },
        "outputId": "77aef105-b972-4c4f-d276-59b7d96a9bc2"
      },
      "cell_type": "code",
      "source": [
        "ct.describe()"
      ],
      "execution_count": 37,
      "outputs": [
        {
          "output_type": "execute_result",
          "data": {
            "text/html": [
              "<div>\n",
              "<style scoped>\n",
              "    .dataframe tbody tr th:only-of-type {\n",
              "        vertical-align: middle;\n",
              "    }\n",
              "\n",
              "    .dataframe tbody tr th {\n",
              "        vertical-align: top;\n",
              "    }\n",
              "\n",
              "    .dataframe thead tr th {\n",
              "        text-align: left;\n",
              "    }\n",
              "</style>\n",
              "<table border=\"1\" class=\"dataframe\">\n",
              "  <thead>\n",
              "    <tr>\n",
              "      <th>Age</th>\n",
              "      <th colspan=\"2\" halign=\"left\">(29.947, 35.3]</th>\n",
              "      <th colspan=\"2\" halign=\"left\">(35.3, 40.6]</th>\n",
              "      <th colspan=\"2\" halign=\"left\">(40.6, 45.9]</th>\n",
              "      <th colspan=\"2\" halign=\"left\">(45.9, 51.2]</th>\n",
              "      <th colspan=\"2\" halign=\"left\">(51.2, 56.5]</th>\n",
              "      <th colspan=\"2\" halign=\"left\">(56.5, 61.8]</th>\n",
              "      <th colspan=\"2\" halign=\"left\">(61.8, 67.1]</th>\n",
              "      <th colspan=\"2\" halign=\"left\">(67.1, 72.4]</th>\n",
              "      <th colspan=\"2\" halign=\"left\">(72.4, 77.7]</th>\n",
              "      <th colspan=\"2\" halign=\"left\">(77.7, 83.0]</th>\n",
              "    </tr>\n",
              "    <tr>\n",
              "      <th>Survived</th>\n",
              "      <th>0</th>\n",
              "      <th>1</th>\n",
              "      <th>0</th>\n",
              "      <th>1</th>\n",
              "      <th>0</th>\n",
              "      <th>1</th>\n",
              "      <th>0</th>\n",
              "      <th>1</th>\n",
              "      <th>0</th>\n",
              "      <th>1</th>\n",
              "      <th>0</th>\n",
              "      <th>1</th>\n",
              "      <th>0</th>\n",
              "      <th>1</th>\n",
              "      <th>0</th>\n",
              "      <th>1</th>\n",
              "      <th>0</th>\n",
              "      <th>1</th>\n",
              "      <th>0</th>\n",
              "      <th>1</th>\n",
              "    </tr>\n",
              "  </thead>\n",
              "  <tbody>\n",
              "    <tr>\n",
              "      <th>count</th>\n",
              "      <td>10.000000</td>\n",
              "      <td>10.000000</td>\n",
              "      <td>10.000000</td>\n",
              "      <td>10.000000</td>\n",
              "      <td>10.000000</td>\n",
              "      <td>10.000000</td>\n",
              "      <td>10.000000</td>\n",
              "      <td>10.000000</td>\n",
              "      <td>10.000000</td>\n",
              "      <td>10.00000</td>\n",
              "      <td>10.000000</td>\n",
              "      <td>10.000000</td>\n",
              "      <td>10.000000</td>\n",
              "      <td>10.000000</td>\n",
              "      <td>10.000000</td>\n",
              "      <td>10.000000</td>\n",
              "      <td>10.000000</td>\n",
              "      <td>10.000000</td>\n",
              "      <td>10.000000</td>\n",
              "      <td>10.0</td>\n",
              "    </tr>\n",
              "    <tr>\n",
              "      <th>mean</th>\n",
              "      <td>0.200000</td>\n",
              "      <td>1.400000</td>\n",
              "      <td>0.200000</td>\n",
              "      <td>2.500000</td>\n",
              "      <td>1.500000</td>\n",
              "      <td>3.100000</td>\n",
              "      <td>1.600000</td>\n",
              "      <td>3.700000</td>\n",
              "      <td>1.800000</td>\n",
              "      <td>3.70000</td>\n",
              "      <td>0.900000</td>\n",
              "      <td>3.200000</td>\n",
              "      <td>1.200000</td>\n",
              "      <td>2.900000</td>\n",
              "      <td>0.400000</td>\n",
              "      <td>1.400000</td>\n",
              "      <td>0.100000</td>\n",
              "      <td>0.600000</td>\n",
              "      <td>0.200000</td>\n",
              "      <td>0.0</td>\n",
              "    </tr>\n",
              "    <tr>\n",
              "      <th>std</th>\n",
              "      <td>0.421637</td>\n",
              "      <td>2.836273</td>\n",
              "      <td>0.421637</td>\n",
              "      <td>6.883959</td>\n",
              "      <td>2.798809</td>\n",
              "      <td>7.752419</td>\n",
              "      <td>2.590581</td>\n",
              "      <td>10.022752</td>\n",
              "      <td>2.936362</td>\n",
              "      <td>9.62693</td>\n",
              "      <td>1.852926</td>\n",
              "      <td>8.766096</td>\n",
              "      <td>1.932184</td>\n",
              "      <td>7.795298</td>\n",
              "      <td>0.966092</td>\n",
              "      <td>3.747592</td>\n",
              "      <td>0.316228</td>\n",
              "      <td>1.897367</td>\n",
              "      <td>0.632456</td>\n",
              "      <td>0.0</td>\n",
              "    </tr>\n",
              "    <tr>\n",
              "      <th>min</th>\n",
              "      <td>0.000000</td>\n",
              "      <td>0.000000</td>\n",
              "      <td>0.000000</td>\n",
              "      <td>0.000000</td>\n",
              "      <td>0.000000</td>\n",
              "      <td>0.000000</td>\n",
              "      <td>0.000000</td>\n",
              "      <td>0.000000</td>\n",
              "      <td>0.000000</td>\n",
              "      <td>0.00000</td>\n",
              "      <td>0.000000</td>\n",
              "      <td>0.000000</td>\n",
              "      <td>0.000000</td>\n",
              "      <td>0.000000</td>\n",
              "      <td>0.000000</td>\n",
              "      <td>0.000000</td>\n",
              "      <td>0.000000</td>\n",
              "      <td>0.000000</td>\n",
              "      <td>0.000000</td>\n",
              "      <td>0.0</td>\n",
              "    </tr>\n",
              "    <tr>\n",
              "      <th>25%</th>\n",
              "      <td>0.000000</td>\n",
              "      <td>0.000000</td>\n",
              "      <td>0.000000</td>\n",
              "      <td>0.000000</td>\n",
              "      <td>0.000000</td>\n",
              "      <td>0.000000</td>\n",
              "      <td>0.000000</td>\n",
              "      <td>0.000000</td>\n",
              "      <td>0.000000</td>\n",
              "      <td>0.00000</td>\n",
              "      <td>0.000000</td>\n",
              "      <td>0.000000</td>\n",
              "      <td>0.000000</td>\n",
              "      <td>0.000000</td>\n",
              "      <td>0.000000</td>\n",
              "      <td>0.000000</td>\n",
              "      <td>0.000000</td>\n",
              "      <td>0.000000</td>\n",
              "      <td>0.000000</td>\n",
              "      <td>0.0</td>\n",
              "    </tr>\n",
              "    <tr>\n",
              "      <th>50%</th>\n",
              "      <td>0.000000</td>\n",
              "      <td>0.000000</td>\n",
              "      <td>0.000000</td>\n",
              "      <td>0.000000</td>\n",
              "      <td>0.500000</td>\n",
              "      <td>0.000000</td>\n",
              "      <td>0.500000</td>\n",
              "      <td>0.000000</td>\n",
              "      <td>0.000000</td>\n",
              "      <td>0.50000</td>\n",
              "      <td>0.000000</td>\n",
              "      <td>0.000000</td>\n",
              "      <td>0.500000</td>\n",
              "      <td>0.000000</td>\n",
              "      <td>0.000000</td>\n",
              "      <td>0.000000</td>\n",
              "      <td>0.000000</td>\n",
              "      <td>0.000000</td>\n",
              "      <td>0.000000</td>\n",
              "      <td>0.0</td>\n",
              "    </tr>\n",
              "    <tr>\n",
              "      <th>75%</th>\n",
              "      <td>0.000000</td>\n",
              "      <td>1.000000</td>\n",
              "      <td>0.000000</td>\n",
              "      <td>0.750000</td>\n",
              "      <td>1.000000</td>\n",
              "      <td>2.000000</td>\n",
              "      <td>1.750000</td>\n",
              "      <td>0.750000</td>\n",
              "      <td>2.750000</td>\n",
              "      <td>1.75000</td>\n",
              "      <td>1.000000</td>\n",
              "      <td>0.750000</td>\n",
              "      <td>1.000000</td>\n",
              "      <td>1.000000</td>\n",
              "      <td>0.000000</td>\n",
              "      <td>0.750000</td>\n",
              "      <td>0.000000</td>\n",
              "      <td>0.000000</td>\n",
              "      <td>0.000000</td>\n",
              "      <td>0.0</td>\n",
              "    </tr>\n",
              "    <tr>\n",
              "      <th>max</th>\n",
              "      <td>1.000000</td>\n",
              "      <td>9.000000</td>\n",
              "      <td>1.000000</td>\n",
              "      <td>22.000000</td>\n",
              "      <td>9.000000</td>\n",
              "      <td>25.000000</td>\n",
              "      <td>8.000000</td>\n",
              "      <td>32.000000</td>\n",
              "      <td>9.000000</td>\n",
              "      <td>31.00000</td>\n",
              "      <td>6.000000</td>\n",
              "      <td>28.000000</td>\n",
              "      <td>6.000000</td>\n",
              "      <td>25.000000</td>\n",
              "      <td>3.000000</td>\n",
              "      <td>12.000000</td>\n",
              "      <td>1.000000</td>\n",
              "      <td>6.000000</td>\n",
              "      <td>2.000000</td>\n",
              "      <td>0.0</td>\n",
              "    </tr>\n",
              "  </tbody>\n",
              "</table>\n",
              "</div>"
            ],
            "text/plain": [
              "Age      (29.947, 35.3]            (35.3, 40.6]            (40.6, 45.9]  \\\n",
              "Survived              0          1            0          1            0   \n",
              "count         10.000000  10.000000    10.000000  10.000000    10.000000   \n",
              "mean           0.200000   1.400000     0.200000   2.500000     1.500000   \n",
              "std            0.421637   2.836273     0.421637   6.883959     2.798809   \n",
              "min            0.000000   0.000000     0.000000   0.000000     0.000000   \n",
              "25%            0.000000   0.000000     0.000000   0.000000     0.000000   \n",
              "50%            0.000000   0.000000     0.000000   0.000000     0.500000   \n",
              "75%            0.000000   1.000000     0.000000   0.750000     1.000000   \n",
              "max            1.000000   9.000000     1.000000  22.000000     9.000000   \n",
              "\n",
              "Age                 (45.9, 51.2]            (51.2, 56.5]            \\\n",
              "Survived          1            0          1            0         1   \n",
              "count     10.000000    10.000000  10.000000    10.000000  10.00000   \n",
              "mean       3.100000     1.600000   3.700000     1.800000   3.70000   \n",
              "std        7.752419     2.590581  10.022752     2.936362   9.62693   \n",
              "min        0.000000     0.000000   0.000000     0.000000   0.00000   \n",
              "25%        0.000000     0.000000   0.000000     0.000000   0.00000   \n",
              "50%        0.000000     0.500000   0.000000     0.000000   0.50000   \n",
              "75%        2.000000     1.750000   0.750000     2.750000   1.75000   \n",
              "max       25.000000     8.000000  32.000000     9.000000  31.00000   \n",
              "\n",
              "Age      (56.5, 61.8]            (61.8, 67.1]            (67.1, 72.4]  \\\n",
              "Survived            0          1            0          1            0   \n",
              "count       10.000000  10.000000    10.000000  10.000000    10.000000   \n",
              "mean         0.900000   3.200000     1.200000   2.900000     0.400000   \n",
              "std          1.852926   8.766096     1.932184   7.795298     0.966092   \n",
              "min          0.000000   0.000000     0.000000   0.000000     0.000000   \n",
              "25%          0.000000   0.000000     0.000000   0.000000     0.000000   \n",
              "50%          0.000000   0.000000     0.500000   0.000000     0.000000   \n",
              "75%          1.000000   0.750000     1.000000   1.000000     0.000000   \n",
              "max          6.000000  28.000000     6.000000  25.000000     3.000000   \n",
              "\n",
              "Age                 (72.4, 77.7]            (77.7, 83.0]        \n",
              "Survived          1            0          1            0     1  \n",
              "count     10.000000    10.000000  10.000000    10.000000  10.0  \n",
              "mean       1.400000     0.100000   0.600000     0.200000   0.0  \n",
              "std        3.747592     0.316228   1.897367     0.632456   0.0  \n",
              "min        0.000000     0.000000   0.000000     0.000000   0.0  \n",
              "25%        0.000000     0.000000   0.000000     0.000000   0.0  \n",
              "50%        0.000000     0.000000   0.000000     0.000000   0.0  \n",
              "75%        0.750000     0.000000   0.000000     0.000000   0.0  \n",
              "max       12.000000     1.000000   6.000000     2.000000   0.0  "
            ]
          },
          "metadata": {
            "tags": []
          },
          "execution_count": 37
        }
      ]
    },
    {
      "metadata": {
        "id": "5HH_5dqPg5Ll",
        "colab_type": "text"
      },
      "cell_type": "markdown",
      "source": [
        "**Plots**"
      ]
    },
    {
      "metadata": {
        "id": "5jAbD0byZCj_",
        "colab_type": "code",
        "colab": {
          "base_uri": "https://localhost:8080/",
          "height": 372
        },
        "outputId": "84a2aacf-43a9-4821-aa83-2ef44a3c30a3"
      },
      "cell_type": "code",
      "source": [
        "# Bar plot\n",
        "patient_data['SS'].value_counts().plot(kind='bar')\n",
        "plt.xlabel('Survival')\n",
        "plt.ylabel('Patients')\n",
        "plt.title('Survival Rates vs Patients')\n",
        "plt.show()\n",
        "\n"
      ],
      "execution_count": 39,
      "outputs": [
        {
          "output_type": "display_data",
          "data": {
            "image/png": "[encoded data removed]",
            "text/plain": [
              "<Figure size 576x396 with 1 Axes>"
            ]
          },
          "metadata": {
            "tags": []
          }
        }
      ]
    },
    {
      "metadata": {
        "id": "Ha3BDtBCg8gn",
        "colab_type": "text"
      },
      "cell_type": "markdown",
      "source": [
        "***This plot does a great job representing the data. This one in particular shows the relationship between patients and survival. ***"
      ]
    },
    {
      "metadata": {
        "id": "UcSNkYVqaX5E",
        "colab_type": "code",
        "colab": {
          "base_uri": "https://localhost:8080/",
          "height": 377
        },
        "outputId": "2b329948-e7e0-4c2e-90fa-e54acf020a56"
      },
      "cell_type": "code",
      "source": [
        "# Bar Plot #2\n",
        "patient_data['Age'].value_counts().plot(kind='bar')\n",
        "plt.xlabel('Age')\n",
        "plt.ylabel('Survival')\n",
        "plt.title('Survival Rates vs Ages')\n",
        "plt.show()"
      ],
      "execution_count": 57,
      "outputs": [
        {
          "output_type": "display_data",
          "data": {
            "image/png": "[encoded data removed]",
            "text/plain": [
              "<Figure size 576x396 with 1 Axes>"
            ]
          },
          "metadata": {
            "tags": []
          }
        }
      ]
    },
    {
      "metadata": {
        "id": "ICMgCsehhJ6S",
        "colab_type": "text"
      },
      "cell_type": "markdown",
      "source": [
        "***This is a bit cluttered on the X axis, could use some work with more time. ***"
      ]
    },
    {
      "metadata": {
        "id": "FXsNrlzkZfiJ",
        "colab_type": "code",
        "colab": {
          "base_uri": "https://localhost:8080/",
          "height": 1243
        },
        "outputId": "31dd5d32-beb6-4c91-9845-a58739c2c800"
      },
      "cell_type": "code",
      "source": [
        "#Bar Plot Pink\n",
        "pd.pivot_table(patient_data, values='SS', index=age_bins).plot.bar(color= 'pink'); \n",
        "plt.xlabel('Age', color='pink', size=20)\n",
        "plt.ylabel('Survival', color='pink', size=20)\n",
        "plt.title('Plot #1: Age vs Survival', color='hotpink', size=25);\n",
        "\n",
        "pd.pivot_table(patient_data, values='Age', index=pand_bins).plot.bar(color= 'pink'); \n",
        "plt.xlabel('Age', color='pink', size=20)\n",
        "plt.ylabel('Survival', color='pink', size=20)\n",
        "plt.title('Plot #2: Age vs Nodes Detected', color='hotpink', size=25);\n",
        "\n",
        "pd.pivot_table(patient_data, values='PAND', index='SS').plot.bar(color= 'pink'); \n",
        "plt.xlabel('Survival Class', color='pink', size=20)\n",
        "plt.ylabel('Nodes', color='pink', size=20)\n",
        "plt.title('Plot #3: Survival vs Nodes Detected', color='hotpink', size=25);\n",
        "\n"
      ],
      "execution_count": 73,
      "outputs": [
        {
          "output_type": "display_data",
          "data": {
            "image/png": "[encoded data removed]",
            "text/plain": [
              "<Figure size 576x396 with 1 Axes>"
            ]
          },
          "metadata": {
            "tags": []
          }
        },
        {
          "output_type": "display_data",
          "data": {
            "image/png": "[encoded data removed]",
            "text/plain": [
              "<Figure size 576x396 with 1 Axes>"
            ]
          },
          "metadata": {
            "tags": []
          }
        },
        {
          "output_type": "display_data",
          "data": {
            "image/png": "[encoded data removed]",
            "text/plain": [
              "<Figure size 576x396 with 1 Axes>"
            ]
          },
          "metadata": {
            "tags": []
          }
        }
      ]
    },
    {
      "metadata": {
        "id": "ZM8JckA2bgnp",
        "colab_type": "text"
      },
      "cell_type": "markdown",
      "source": [
        "## Part 3 - Analysis and Interpretation\n",
        "\n",
        "Now that you've looked at the data, answer the following questions:\n",
        "\n",
        "- What is at least one feature that looks to have a positive relationship with survival?\n",
        "**Age appears to have a positive relationship with survival, the data reveals the younger you are, the higher your chance of survival. **\n",
        "\n",
        "- What is at least one feature that looks to have a negative relationship with survival?\n",
        "**Nodes detected appears to have a negative relationship with survival, with that being the most extreme. **\n",
        "\n",
        "- How are those two features related with each other, and what might that mean?\n",
        "**The more nodes that are detected, the lower the survival rate. That indicates that the longer the time of detection, the nodes increase which would lower your survival. **\n",
        "\n",
        "Answer with text, but feel free to intersperse example code/results or refer to it from earlier."
      ]
    }
  ]
}