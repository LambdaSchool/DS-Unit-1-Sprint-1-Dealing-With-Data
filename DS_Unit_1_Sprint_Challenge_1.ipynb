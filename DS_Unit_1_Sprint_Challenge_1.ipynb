{
  "nbformat": 4,
  "nbformat_minor": 0,
  "metadata": {
    "colab": {
      "name": "DS_Unit_1_Sprint_Challenge_1.ipynb",
      "version": "0.3.2",
      "provenance": [],
      "collapsed_sections": [],
      "include_colab_link": true
    },
    "kernelspec": {
      "name": "python3",
      "display_name": "Python 3"
    }
  },
  "cells": [
    {
      "cell_type": "markdown",
      "metadata": {
        "id": "view-in-github",
        "colab_type": "text"
      },
      "source": [
        "<a href=\"https://colab.research.google.com/github/carlos-gutier/DS-Sprint-01-Dealing-With-Data/blob/master/DS_Unit_1_Sprint_Challenge_1.ipynb\" target=\"_parent\"><img src=\"https://colab.research.google.com/assets/colab-badge.svg\" alt=\"Open In Colab\"/></a>"
      ]
    },
    {
      "metadata": {
        "id": "NooAiTdnafkz",
        "colab_type": "text"
      },
      "cell_type": "markdown",
      "source": [
        "# Data Science Unit 1 Sprint Challenge 1\n",
        "\n",
        "## Loading, cleaning, visualizing, and analyzing data\n",
        "\n",
        "In this sprint challenge you will look at a dataset of the survival of patients who underwent surgery for breast cancer.\n",
        "\n",
        "http://archive.ics.uci.edu/ml/datasets/Haberman%27s+Survival\n",
        "\n",
        "Data Set Information:\n",
        "The dataset contains cases from a study that was conducted between 1958 and 1970 at the University of Chicago's Billings Hospital on the survival of patients who had undergone surgery for breast cancer.\n",
        "\n",
        "Attribute Information:\n",
        "1. Age of patient at time of operation (numerical)\n",
        "2. Patient's year of operation (year - 1900, numerical)\n",
        "3. Number of positive axillary nodes detected (numerical)\n",
        "4. Survival status (class attribute)\n",
        "-- 1 = the patient survived 5 years or longer\n",
        "-- 2 = the patient died within 5 year\n",
        "\n",
        "Sprint challenges are evaluated based on satisfactory completion of each part. It is suggested you work through it in order, getting each aspect reasonably working, before trying to deeply explore, iterate, or refine any given step. Once you get to the end, if you want to go back and improve things, go for it!"
      ]
    },
    {
      "metadata": {
        "id": "5wch6ksCbJtZ",
        "colab_type": "text"
      },
      "cell_type": "markdown",
      "source": [
        "## Part 1 - Load and validate the data\n",
        "\n",
        "- Load the data as a `pandas` data frame.\n",
        "- Validate that it has the appropriate number of observations (you can check the raw file, and also read the dataset description from UCI).\n",
        "- Validate that you have no missing values.\n",
        "- Add informative names to the features.\n",
        "- The survival variable is encoded as 1 for surviving >5 years and 2 for not - change this to be 0 for not surviving and 1 for surviving >5 years (0/1 is a more traditional encoding of binary variables)\n",
        "\n",
        "At the end, print the first five rows of the dataset to demonstrate the above."
      ]
    },
    {
      "metadata": {
        "id": "287TpoGKFRVK",
        "colab_type": "code",
        "colab": {}
      },
      "cell_type": "code",
      "source": [
        "# Importing libraries\n",
        "import pandas as pd\n",
        "import numpy as np\n",
        "import matplotlib.pyplot as plt\n",
        "%matplotlib inline\n",
        "\n",
        "# URL for data source\n",
        "data_url = 'http://archive.ics.uci.edu/ml/machine-learning-databases/haberman/haberman.data'"
      ],
      "execution_count": 0,
      "outputs": []
    },
    {
      "metadata": {
        "id": "WSqOGUHEPH9W",
        "colab_type": "code",
        "colab": {
          "base_uri": "https://localhost:8080/",
          "height": 347
        },
        "outputId": "5199ea71-f3d3-4303-8a8b-29d2a5b0a6fe"
      },
      "cell_type": "code",
      "source": [
        "# Loading data & adding informative variable names\n",
        "cols = ['age', 'year_surgery', 'nodes_found', 'survival']\n",
        "df = pd.read_csv(data_url, header=None, names=cols)\n",
        "\n",
        "df.head(10)"
      ],
      "execution_count": 75,
      "outputs": [
        {
          "output_type": "execute_result",
          "data": {
            "text/html": [
              "<div>\n",
              "<style scoped>\n",
              "    .dataframe tbody tr th:only-of-type {\n",
              "        vertical-align: middle;\n",
              "    }\n",
              "\n",
              "    .dataframe tbody tr th {\n",
              "        vertical-align: top;\n",
              "    }\n",
              "\n",
              "    .dataframe thead th {\n",
              "        text-align: right;\n",
              "    }\n",
              "</style>\n",
              "<table border=\"1\" class=\"dataframe\">\n",
              "  <thead>\n",
              "    <tr style=\"text-align: right;\">\n",
              "      <th></th>\n",
              "      <th>age</th>\n",
              "      <th>year_surgery</th>\n",
              "      <th>nodes_found</th>\n",
              "      <th>survival</th>\n",
              "    </tr>\n",
              "  </thead>\n",
              "  <tbody>\n",
              "    <tr>\n",
              "      <th>0</th>\n",
              "      <td>30</td>\n",
              "      <td>64</td>\n",
              "      <td>1</td>\n",
              "      <td>1</td>\n",
              "    </tr>\n",
              "    <tr>\n",
              "      <th>1</th>\n",
              "      <td>30</td>\n",
              "      <td>62</td>\n",
              "      <td>3</td>\n",
              "      <td>1</td>\n",
              "    </tr>\n",
              "    <tr>\n",
              "      <th>2</th>\n",
              "      <td>30</td>\n",
              "      <td>65</td>\n",
              "      <td>0</td>\n",
              "      <td>1</td>\n",
              "    </tr>\n",
              "    <tr>\n",
              "      <th>3</th>\n",
              "      <td>31</td>\n",
              "      <td>59</td>\n",
              "      <td>2</td>\n",
              "      <td>1</td>\n",
              "    </tr>\n",
              "    <tr>\n",
              "      <th>4</th>\n",
              "      <td>31</td>\n",
              "      <td>65</td>\n",
              "      <td>4</td>\n",
              "      <td>1</td>\n",
              "    </tr>\n",
              "    <tr>\n",
              "      <th>5</th>\n",
              "      <td>33</td>\n",
              "      <td>58</td>\n",
              "      <td>10</td>\n",
              "      <td>1</td>\n",
              "    </tr>\n",
              "    <tr>\n",
              "      <th>6</th>\n",
              "      <td>33</td>\n",
              "      <td>60</td>\n",
              "      <td>0</td>\n",
              "      <td>1</td>\n",
              "    </tr>\n",
              "    <tr>\n",
              "      <th>7</th>\n",
              "      <td>34</td>\n",
              "      <td>59</td>\n",
              "      <td>0</td>\n",
              "      <td>2</td>\n",
              "    </tr>\n",
              "    <tr>\n",
              "      <th>8</th>\n",
              "      <td>34</td>\n",
              "      <td>66</td>\n",
              "      <td>9</td>\n",
              "      <td>2</td>\n",
              "    </tr>\n",
              "    <tr>\n",
              "      <th>9</th>\n",
              "      <td>34</td>\n",
              "      <td>58</td>\n",
              "      <td>30</td>\n",
              "      <td>1</td>\n",
              "    </tr>\n",
              "  </tbody>\n",
              "</table>\n",
              "</div>"
            ],
            "text/plain": [
              "   age  year_surgery  nodes_found  survival\n",
              "0   30            64            1         1\n",
              "1   30            62            3         1\n",
              "2   30            65            0         1\n",
              "3   31            59            2         1\n",
              "4   31            65            4         1\n",
              "5   33            58           10         1\n",
              "6   33            60            0         1\n",
              "7   34            59            0         2\n",
              "8   34            66            9         2\n",
              "9   34            58           30         1"
            ]
          },
          "metadata": {
            "tags": []
          },
          "execution_count": 75
        }
      ]
    },
    {
      "metadata": {
        "id": "P_odEbm4P4u_",
        "colab_type": "code",
        "colab": {
          "base_uri": "https://localhost:8080/",
          "height": 33
        },
        "outputId": "602bf3a4-fac9-4282-bba8-4189f82b05f0"
      },
      "cell_type": "code",
      "source": [
        "# Validating number of observations\n",
        "# According to source 'Number of Instances: 306' & 4 variables\n",
        "df.shape"
      ],
      "execution_count": 76,
      "outputs": [
        {
          "output_type": "execute_result",
          "data": {
            "text/plain": [
              "(306, 4)"
            ]
          },
          "metadata": {
            "tags": []
          },
          "execution_count": 76
        }
      ]
    },
    {
      "metadata": {
        "id": "3TRIy3sTPIFl",
        "colab_type": "code",
        "colab": {
          "base_uri": "https://localhost:8080/",
          "height": 33
        },
        "outputId": "b66ac4ed-8432-4484-ccf6-831616700d8c"
      },
      "cell_type": "code",
      "source": [
        "# Validating absence of missing values\n",
        "df.isna().sum().sum()"
      ],
      "execution_count": 77,
      "outputs": [
        {
          "output_type": "execute_result",
          "data": {
            "text/plain": [
              "0"
            ]
          },
          "metadata": {
            "tags": []
          },
          "execution_count": 77
        }
      ]
    },
    {
      "metadata": {
        "id": "hPm14eVyP4xv",
        "colab_type": "code",
        "colab": {
          "base_uri": "https://localhost:8080/",
          "height": 347
        },
        "outputId": "ecd57738-5002-4526-aec9-70567664bbf0"
      },
      "cell_type": "code",
      "source": [
        "# Changing encoding of 'survival' variable\n",
        "# 0 for not surviving and 1 for surviving > 5 years\n",
        "df = pd.get_dummies(df, columns=['survival'])\n",
        "df = df.rename(columns={'survival_1': 'survived', 'survival_2': 'not_survived'})\n",
        "\n",
        "df.head(10)"
      ],
      "execution_count": 78,
      "outputs": [
        {
          "output_type": "execute_result",
          "data": {
            "text/html": [
              "<div>\n",
              "<style scoped>\n",
              "    .dataframe tbody tr th:only-of-type {\n",
              "        vertical-align: middle;\n",
              "    }\n",
              "\n",
              "    .dataframe tbody tr th {\n",
              "        vertical-align: top;\n",
              "    }\n",
              "\n",
              "    .dataframe thead th {\n",
              "        text-align: right;\n",
              "    }\n",
              "</style>\n",
              "<table border=\"1\" class=\"dataframe\">\n",
              "  <thead>\n",
              "    <tr style=\"text-align: right;\">\n",
              "      <th></th>\n",
              "      <th>age</th>\n",
              "      <th>year_surgery</th>\n",
              "      <th>nodes_found</th>\n",
              "      <th>survived</th>\n",
              "      <th>not_survived</th>\n",
              "    </tr>\n",
              "  </thead>\n",
              "  <tbody>\n",
              "    <tr>\n",
              "      <th>0</th>\n",
              "      <td>30</td>\n",
              "      <td>64</td>\n",
              "      <td>1</td>\n",
              "      <td>1</td>\n",
              "      <td>0</td>\n",
              "    </tr>\n",
              "    <tr>\n",
              "      <th>1</th>\n",
              "      <td>30</td>\n",
              "      <td>62</td>\n",
              "      <td>3</td>\n",
              "      <td>1</td>\n",
              "      <td>0</td>\n",
              "    </tr>\n",
              "    <tr>\n",
              "      <th>2</th>\n",
              "      <td>30</td>\n",
              "      <td>65</td>\n",
              "      <td>0</td>\n",
              "      <td>1</td>\n",
              "      <td>0</td>\n",
              "    </tr>\n",
              "    <tr>\n",
              "      <th>3</th>\n",
              "      <td>31</td>\n",
              "      <td>59</td>\n",
              "      <td>2</td>\n",
              "      <td>1</td>\n",
              "      <td>0</td>\n",
              "    </tr>\n",
              "    <tr>\n",
              "      <th>4</th>\n",
              "      <td>31</td>\n",
              "      <td>65</td>\n",
              "      <td>4</td>\n",
              "      <td>1</td>\n",
              "      <td>0</td>\n",
              "    </tr>\n",
              "    <tr>\n",
              "      <th>5</th>\n",
              "      <td>33</td>\n",
              "      <td>58</td>\n",
              "      <td>10</td>\n",
              "      <td>1</td>\n",
              "      <td>0</td>\n",
              "    </tr>\n",
              "    <tr>\n",
              "      <th>6</th>\n",
              "      <td>33</td>\n",
              "      <td>60</td>\n",
              "      <td>0</td>\n",
              "      <td>1</td>\n",
              "      <td>0</td>\n",
              "    </tr>\n",
              "    <tr>\n",
              "      <th>7</th>\n",
              "      <td>34</td>\n",
              "      <td>59</td>\n",
              "      <td>0</td>\n",
              "      <td>0</td>\n",
              "      <td>1</td>\n",
              "    </tr>\n",
              "    <tr>\n",
              "      <th>8</th>\n",
              "      <td>34</td>\n",
              "      <td>66</td>\n",
              "      <td>9</td>\n",
              "      <td>0</td>\n",
              "      <td>1</td>\n",
              "    </tr>\n",
              "    <tr>\n",
              "      <th>9</th>\n",
              "      <td>34</td>\n",
              "      <td>58</td>\n",
              "      <td>30</td>\n",
              "      <td>1</td>\n",
              "      <td>0</td>\n",
              "    </tr>\n",
              "  </tbody>\n",
              "</table>\n",
              "</div>"
            ],
            "text/plain": [
              "   age  year_surgery  nodes_found  survived  not_survived\n",
              "0   30            64            1         1             0\n",
              "1   30            62            3         1             0\n",
              "2   30            65            0         1             0\n",
              "3   31            59            2         1             0\n",
              "4   31            65            4         1             0\n",
              "5   33            58           10         1             0\n",
              "6   33            60            0         1             0\n",
              "7   34            59            0         0             1\n",
              "8   34            66            9         0             1\n",
              "9   34            58           30         1             0"
            ]
          },
          "metadata": {
            "tags": []
          },
          "execution_count": 78
        }
      ]
    },
    {
      "metadata": {
        "id": "G7rLytbrO38L",
        "colab_type": "text"
      },
      "cell_type": "markdown",
      "source": [
        "## Part 2 - Examine the distribution and relationships of the features\n",
        "\n",
        "Explore the data - create at least *2* tables (can be summary statistics or crosstabulations) and *2* plots illustrating the nature of the data.\n",
        "\n",
        "This is open-ended, so to remind - first *complete* this task as a baseline, then go on to the remaining sections, and *then* as time allows revisit and explore further.\n",
        "\n",
        "Hint - you may need to bin some variables depending on your chosen tables/plots."
      ]
    },
    {
      "metadata": {
        "id": "cqbQebY8bpoc",
        "colab_type": "code",
        "colab": {
          "base_uri": "https://localhost:8080/",
          "height": 66
        },
        "outputId": "b373a91d-e9d1-4397-c552-e54ccadcb8e2"
      },
      "cell_type": "code",
      "source": [
        "# Displaying unique patient ages in set\n",
        "df.age.unique()"
      ],
      "execution_count": 79,
      "outputs": [
        {
          "output_type": "execute_result",
          "data": {
            "text/plain": [
              "array([30, 31, 33, 34, 35, 36, 37, 38, 39, 40, 41, 42, 43, 44, 45, 46, 47,\n",
              "       48, 49, 50, 51, 52, 53, 54, 55, 56, 57, 58, 59, 60, 61, 62, 63, 64,\n",
              "       65, 66, 67, 68, 69, 70, 71, 72, 73, 74, 75, 76, 77, 78, 83])"
            ]
          },
          "metadata": {
            "tags": []
          },
          "execution_count": 79
        }
      ]
    },
    {
      "metadata": {
        "id": "IAkllgCIFVj0",
        "colab_type": "code",
        "colab": {
          "base_uri": "https://localhost:8080/",
          "height": 137
        },
        "outputId": "7340a6c4-479b-4074-e37e-2ea441eb08b8"
      },
      "cell_type": "code",
      "source": [
        "# Binning for 'age' variable\n",
        "age_bins = pd.cut(df['age'], 4) # 4 equal sized bins\n",
        "pd.crosstab(df['survived'], age_bins)"
      ],
      "execution_count": 80,
      "outputs": [
        {
          "output_type": "execute_result",
          "data": {
            "text/html": [
              "<div>\n",
              "<style scoped>\n",
              "    .dataframe tbody tr th:only-of-type {\n",
              "        vertical-align: middle;\n",
              "    }\n",
              "\n",
              "    .dataframe tbody tr th {\n",
              "        vertical-align: top;\n",
              "    }\n",
              "\n",
              "    .dataframe thead th {\n",
              "        text-align: right;\n",
              "    }\n",
              "</style>\n",
              "<table border=\"1\" class=\"dataframe\">\n",
              "  <thead>\n",
              "    <tr style=\"text-align: right;\">\n",
              "      <th>age</th>\n",
              "      <th>(29.947, 43.25]</th>\n",
              "      <th>(43.25, 56.5]</th>\n",
              "      <th>(56.5, 69.75]</th>\n",
              "      <th>(69.75, 83.0]</th>\n",
              "    </tr>\n",
              "    <tr>\n",
              "      <th>survived</th>\n",
              "      <th></th>\n",
              "      <th></th>\n",
              "      <th></th>\n",
              "      <th></th>\n",
              "    </tr>\n",
              "  </thead>\n",
              "  <tbody>\n",
              "    <tr>\n",
              "      <th>0</th>\n",
              "      <td>13</td>\n",
              "      <td>40</td>\n",
              "      <td>22</td>\n",
              "      <td>6</td>\n",
              "    </tr>\n",
              "    <tr>\n",
              "      <th>1</th>\n",
              "      <td>60</td>\n",
              "      <td>84</td>\n",
              "      <td>66</td>\n",
              "      <td>15</td>\n",
              "    </tr>\n",
              "  </tbody>\n",
              "</table>\n",
              "</div>"
            ],
            "text/plain": [
              "age       (29.947, 43.25]  (43.25, 56.5]  (56.5, 69.75]  (69.75, 83.0]\n",
              "survived                                                              \n",
              "0                      13             40             22              6\n",
              "1                      60             84             66             15"
            ]
          },
          "metadata": {
            "tags": []
          },
          "execution_count": 80
        }
      ]
    },
    {
      "metadata": {
        "id": "wpCUn8K0dCT5",
        "colab_type": "code",
        "colab": {
          "base_uri": "https://localhost:8080/",
          "height": 33
        },
        "outputId": "fbd2deba-e413-4ccc-8ac1-f4c8e30bd7e9"
      },
      "cell_type": "code",
      "source": [
        "# Displaying unique surgery years in data set\n",
        "np.sort(df.year_surgery.unique())"
      ],
      "execution_count": 81,
      "outputs": [
        {
          "output_type": "execute_result",
          "data": {
            "text/plain": [
              "array([58, 59, 60, 61, 62, 63, 64, 65, 66, 67, 68, 69])"
            ]
          },
          "metadata": {
            "tags": []
          },
          "execution_count": 81
        }
      ]
    },
    {
      "metadata": {
        "id": "9kRCmhCHcrQP",
        "colab_type": "code",
        "colab": {
          "base_uri": "https://localhost:8080/",
          "height": 137
        },
        "outputId": "999d6bac-2007-461d-8695-86ee98e81b6e"
      },
      "cell_type": "code",
      "source": [
        "# Binning for 'year_surgery' variable\n",
        "year_bins = pd.cut(df['year_surgery'], 4) # 4 equal sized bins\n",
        "pd.crosstab(df['survived'], year_bins)"
      ],
      "execution_count": 82,
      "outputs": [
        {
          "output_type": "execute_result",
          "data": {
            "text/html": [
              "<div>\n",
              "<style scoped>\n",
              "    .dataframe tbody tr th:only-of-type {\n",
              "        vertical-align: middle;\n",
              "    }\n",
              "\n",
              "    .dataframe tbody tr th {\n",
              "        vertical-align: top;\n",
              "    }\n",
              "\n",
              "    .dataframe thead th {\n",
              "        text-align: right;\n",
              "    }\n",
              "</style>\n",
              "<table border=\"1\" class=\"dataframe\">\n",
              "  <thead>\n",
              "    <tr style=\"text-align: right;\">\n",
              "      <th>year_surgery</th>\n",
              "      <th>(57.989, 60.75]</th>\n",
              "      <th>(60.75, 63.5]</th>\n",
              "      <th>(63.5, 66.25]</th>\n",
              "      <th>(66.25, 69.0]</th>\n",
              "    </tr>\n",
              "    <tr>\n",
              "      <th>survived</th>\n",
              "      <th></th>\n",
              "      <th></th>\n",
              "      <th></th>\n",
              "      <th></th>\n",
              "    </tr>\n",
              "  </thead>\n",
              "  <tbody>\n",
              "    <tr>\n",
              "      <th>0</th>\n",
              "      <td>25</td>\n",
              "      <td>18</td>\n",
              "      <td>27</td>\n",
              "      <td>11</td>\n",
              "    </tr>\n",
              "    <tr>\n",
              "      <th>1</th>\n",
              "      <td>66</td>\n",
              "      <td>61</td>\n",
              "      <td>60</td>\n",
              "      <td>38</td>\n",
              "    </tr>\n",
              "  </tbody>\n",
              "</table>\n",
              "</div>"
            ],
            "text/plain": [
              "year_surgery  (57.989, 60.75]  (60.75, 63.5]  (63.5, 66.25]  (66.25, 69.0]\n",
              "survived                                                                  \n",
              "0                          25             18             27             11\n",
              "1                          66             61             60             38"
            ]
          },
          "metadata": {
            "tags": []
          },
          "execution_count": 82
        }
      ]
    },
    {
      "metadata": {
        "id": "mWoElap5crWw",
        "colab_type": "code",
        "colab": {
          "base_uri": "https://localhost:8080/",
          "height": 50
        },
        "outputId": "d6b3edef-79f1-40f6-aae5-c5b2f91e615f"
      },
      "cell_type": "code",
      "source": [
        "# Displaying unique number of nodes in data set\n",
        "np.sort(df.nodes_found.unique())"
      ],
      "execution_count": 83,
      "outputs": [
        {
          "output_type": "execute_result",
          "data": {
            "text/plain": [
              "array([ 0,  1,  2,  3,  4,  5,  6,  7,  8,  9, 10, 11, 12, 13, 14, 15, 16,\n",
              "       17, 18, 19, 20, 21, 22, 23, 24, 25, 28, 30, 35, 46, 52])"
            ]
          },
          "metadata": {
            "tags": []
          },
          "execution_count": 83
        }
      ]
    },
    {
      "metadata": {
        "id": "h3B7uUrwcrcE",
        "colab_type": "code",
        "colab": {
          "base_uri": "https://localhost:8080/",
          "height": 137
        },
        "outputId": "dacaea01-c783-4b6a-e2d9-6848ce36d9d4"
      },
      "cell_type": "code",
      "source": [
        "# Binning for 'nodes_found' variable\n",
        "nodes_bins = pd.cut(df['nodes_found'], 5) # 4 equal sized bins\n",
        "pd.crosstab(df['survived'], nodes_bins)"
      ],
      "execution_count": 84,
      "outputs": [
        {
          "output_type": "execute_result",
          "data": {
            "text/html": [
              "<div>\n",
              "<style scoped>\n",
              "    .dataframe tbody tr th:only-of-type {\n",
              "        vertical-align: middle;\n",
              "    }\n",
              "\n",
              "    .dataframe tbody tr th {\n",
              "        vertical-align: top;\n",
              "    }\n",
              "\n",
              "    .dataframe thead th {\n",
              "        text-align: right;\n",
              "    }\n",
              "</style>\n",
              "<table border=\"1\" class=\"dataframe\">\n",
              "  <thead>\n",
              "    <tr style=\"text-align: right;\">\n",
              "      <th>nodes_found</th>\n",
              "      <th>(-0.052, 10.4]</th>\n",
              "      <th>(10.4, 20.8]</th>\n",
              "      <th>(20.8, 31.2]</th>\n",
              "      <th>(31.2, 41.6]</th>\n",
              "      <th>(41.6, 52.0]</th>\n",
              "    </tr>\n",
              "    <tr>\n",
              "      <th>survived</th>\n",
              "      <th></th>\n",
              "      <th></th>\n",
              "      <th></th>\n",
              "      <th></th>\n",
              "      <th></th>\n",
              "    </tr>\n",
              "  </thead>\n",
              "  <tbody>\n",
              "    <tr>\n",
              "      <th>0</th>\n",
              "      <td>58</td>\n",
              "      <td>15</td>\n",
              "      <td>6</td>\n",
              "      <td>1</td>\n",
              "      <td>1</td>\n",
              "    </tr>\n",
              "    <tr>\n",
              "      <th>1</th>\n",
              "      <td>208</td>\n",
              "      <td>11</td>\n",
              "      <td>5</td>\n",
              "      <td>0</td>\n",
              "      <td>1</td>\n",
              "    </tr>\n",
              "  </tbody>\n",
              "</table>\n",
              "</div>"
            ],
            "text/plain": [
              "nodes_found  (-0.052, 10.4]  (10.4, 20.8]  (20.8, 31.2]  (31.2, 41.6]  \\\n",
              "survived                                                                \n",
              "0                        58            15             6             1   \n",
              "1                       208            11             5             0   \n",
              "\n",
              "nodes_found  (41.6, 52.0]  \n",
              "survived                   \n",
              "0                       1  \n",
              "1                       1  "
            ]
          },
          "metadata": {
            "tags": []
          },
          "execution_count": 84
        }
      ]
    },
    {
      "metadata": {
        "id": "vTQoBDubxjzK",
        "colab_type": "text"
      },
      "cell_type": "markdown",
      "source": [
        "### Preferred Bins for Plotting"
      ]
    },
    {
      "metadata": {
        "id": "r6MqVeYiicjS",
        "colab_type": "code",
        "colab": {}
      },
      "cell_type": "code",
      "source": [
        "# For plotting we will rather used the following bins:\n",
        "# Age bins\n",
        "age_29_43 = df[(df['age'] >= 30) & (df['age'] < 43)]\n",
        "age_43_55 = df[(df['age'] >= 43) & (df['age'] < 56)]\n",
        "age_56_69 = df[(df['age'] >= 56) & (df['age'] < 70)]\n",
        "age_70_83 = df[(df['age'] >= 70) & (df['age'] < 84)]\n",
        "\n",
        "# Year of surgery bins\n",
        "year_58_60 = df[(df['year_surgery'] >= 58) & (df['year_surgery'] < 61)]\n",
        "year_61_63 = df[(df['year_surgery'] >= 61) & (df['year_surgery'] < 64)]\n",
        "year_64_66 = df[(df['year_surgery'] >= 64) & (df['year_surgery'] < 67)]\n",
        "year_67_69 = df[(df['year_surgery'] >= 67) & (df['year_surgery'] < 70)]\n",
        "\n",
        "# Nodes found bins\n",
        "nodes_0_3 = df[(df['nodes_found'] >= 0) & (df['nodes_found'] < 4)]\n",
        "nodes_4_7 = df[(df['nodes_found'] >= 4) & (df['nodes_found'] < 8)]\n",
        "nodes_8_13 = df[(df['nodes_found'] >= 8) & (df['nodes_found'] < 14)]\n",
        "nodes_14_25 = df[(df['nodes_found'] >= 14) & (df['nodes_found'] < 26)]\n",
        "nodes_26_52 = df[(df['nodes_found'] >= 26) & (df['nodes_found'] < 53)]"
      ],
      "execution_count": 0,
      "outputs": []
    },
    {
      "metadata": {
        "id": "KH5B5GQkw6kb",
        "colab_type": "text"
      },
      "cell_type": "markdown",
      "source": [
        "### Graph of Survival by Patient's Age"
      ]
    },
    {
      "metadata": {
        "id": "1iUjGp1EicuU",
        "colab_type": "code",
        "colab": {
          "base_uri": "https://localhost:8080/",
          "height": 294
        },
        "outputId": "72d68634-42c2-4ca8-f4a8-978413409841"
      },
      "cell_type": "code",
      "source": [
        "# Bar plot by age groups\n",
        "plt.bar(x='29 to 43', height=age_29_43['survived'].sum())\n",
        "plt.bar(x='43 to 55', height=age_43_55['survived'].sum())\n",
        "plt.bar(x='56 to 69', height=age_56_69['survived'].sum())\n",
        "plt.bar(x='70 to 83', height=age_70_83['survived'].sum())\n",
        "\n",
        "plt.title('Breast Cancer Survival (after surgery) by Age')\n",
        "plt.xlabel(\"Patients' Age\")\n",
        "plt.ylabel(\"Survived Count\")\n",
        "\n",
        "plt.show();"
      ],
      "execution_count": 98,
      "outputs": [
        {
          "output_type": "display_data",
          "data": {
            "image/png": "[encoded data removed]",
            "text/plain": [
              "<matplotlib.figure.Figure at 0x7f3c4fb9dd68>"
            ]
          },
          "metadata": {
            "tags": []
          }
        }
      ]
    },
    {
      "metadata": {
        "id": "kO5JAxKNxG1x",
        "colab_type": "text"
      },
      "cell_type": "markdown",
      "source": [
        "### Graph of Survival by Number of Positive Nodes Found"
      ]
    },
    {
      "metadata": {
        "id": "GK5A91rWicrW",
        "colab_type": "code",
        "colab": {
          "base_uri": "https://localhost:8080/",
          "height": 294
        },
        "outputId": "95f6b4e6-bc64-4449-a4eb-eb22425b60c2"
      },
      "cell_type": "code",
      "source": [
        "# Bar plot by number of positive nodes found\n",
        "plt.bar(x='0 to 3', height=nodes_0_3['survived'].sum())\n",
        "plt.bar(x='4 to 7', height=nodes_4_7['survived'].sum())\n",
        "plt.bar(x='8 to 13', height=nodes_8_13['survived'].sum())\n",
        "plt.bar(x='14 to 25', height=nodes_14_25['survived'].sum())\n",
        "plt.bar(x='26 to 52', height=nodes_26_52['survived'].sum())\n",
        "\n",
        "plt.title('Breast Cancer Survival (after surgery) by Nodes Found')\n",
        "plt.xlabel(\"Positive Nodes Found\")\n",
        "plt.ylabel(\"Survived Count\")\n",
        "\n",
        "plt.show();"
      ],
      "execution_count": 100,
      "outputs": [
        {
          "output_type": "display_data",
          "data": {
            "image/png": "[encoded data removed]",
            "text/plain": [
              "<matplotlib.figure.Figure at 0x7f3c4fb826a0>"
            ]
          },
          "metadata": {
            "tags": []
          }
        }
      ]
    },
    {
      "metadata": {
        "id": "_ymMOG9BxNJY",
        "colab_type": "text"
      },
      "cell_type": "markdown",
      "source": [
        "### Graph of Survival by Year of Surgery"
      ]
    },
    {
      "metadata": {
        "id": "5P5oNteiicpG",
        "colab_type": "code",
        "colab": {
          "base_uri": "https://localhost:8080/",
          "height": 294
        },
        "outputId": "8542e963-fbc8-4e2f-c5f5-10f7774eede9"
      },
      "cell_type": "code",
      "source": [
        "# Bar plot by year of surgery\n",
        "plt.bar(x='1958 to 1960', height=year_58_60['survived'].sum())\n",
        "plt.bar(x='1961 to 1963', height=year_61_63['survived'].sum())\n",
        "plt.bar(x='1964 to 1966', height=year_64_66['survived'].sum())\n",
        "plt.bar(x='1967 to 1969', height=year_67_69['survived'].sum())\n",
        "\n",
        "plt.title('Breast Cancer Survival (after surgery) by Year of Surgery')\n",
        "plt.xlabel(\"Year of Surgery\")\n",
        "plt.ylabel(\"Survived Count\")\n",
        "\n",
        "plt.show();"
      ],
      "execution_count": 99,
      "outputs": [
        {
          "output_type": "display_data",
          "data": {
            "image/png": "[encoded data removed]",
            "text/plain": [
              "<matplotlib.figure.Figure at 0x7f3c4fb7cd68>"
            ]
          },
          "metadata": {
            "tags": []
          }
        }
      ]
    },
    {
      "metadata": {
        "id": "4oqywpZSzYYX",
        "colab_type": "code",
        "colab": {
          "base_uri": "https://localhost:8080/",
          "height": 294
        },
        "outputId": "7e793bad-1348-4ab8-d868-12eaad565f94"
      },
      "cell_type": "code",
      "source": [
        "# Bar plot of number of surgeries by year\n",
        "plt.bar(x='1958 to 1960', height=year_58_60['age'].count())\n",
        "plt.bar(x='1961 to 1963', height=year_61_63['age'].count())\n",
        "plt.bar(x='1964 to 1966', height=year_64_66['age'].count())\n",
        "plt.bar(x='1967 to 1969', height=year_67_69['age'].count())\n",
        "\n",
        "plt.title('Number of Surgeries by Year')\n",
        "plt.xlabel(\"Year\")\n",
        "plt.ylabel(\"Number of Surgeries\")\n",
        "\n",
        "plt.show();"
      ],
      "execution_count": 112,
      "outputs": [
        {
          "output_type": "display_data",
          "data": {
            "image/png": "[encoded data removed]",
            "text/plain": [
              "<matplotlib.figure.Figure at 0x7f3c4faf55c0>"
            ]
          },
          "metadata": {
            "tags": []
          }
        }
      ]
    },
    {
      "metadata": {
        "id": "GkL36CwHxTgZ",
        "colab_type": "text"
      },
      "cell_type": "markdown",
      "source": [
        "### Graph of Average Number of Positive Nodes Found by Year of Surgery"
      ]
    },
    {
      "metadata": {
        "id": "wXpvRQuOvlEX",
        "colab_type": "code",
        "colab": {
          "base_uri": "https://localhost:8080/",
          "height": 294
        },
        "outputId": "27e35794-cb0b-4dec-9490-b5523b2460f9"
      },
      "cell_type": "code",
      "source": [
        "# Bar plot of number of positive nodes found yearly\n",
        "plt.bar(x='1958 to 1960', height=year_58_60['nodes_found'].mean())\n",
        "plt.bar(x='1961 to 1963', height=year_61_63['nodes_found'].mean())\n",
        "plt.bar(x='1964 to 1966', height=year_64_66['nodes_found'].mean())\n",
        "plt.bar(x='1967 to 1969', height=year_67_69['nodes_found'].mean())\n",
        "\n",
        "plt.title('Average Number of Positive Nodes Found per Year of Surgery')\n",
        "plt.xlabel(\"Year of Surgery\")\n",
        "plt.ylabel(\"Avg. Number of Positive Nodes\")\n",
        "\n",
        "plt.show();"
      ],
      "execution_count": 110,
      "outputs": [
        {
          "output_type": "display_data",
          "data": {
            "image/png": "[encoded data removed]",
            "text/plain": [
              "<matplotlib.figure.Figure at 0x7f3c5180e4e0>"
            ]
          },
          "metadata": {
            "tags": []
          }
        }
      ]
    },
    {
      "metadata": {
        "id": "S9zzN7dsicnU",
        "colab_type": "code",
        "colab": {}
      },
      "cell_type": "code",
      "source": [
        ""
      ],
      "execution_count": 0,
      "outputs": []
    },
    {
      "metadata": {
        "id": "ZM8JckA2bgnp",
        "colab_type": "text"
      },
      "cell_type": "markdown",
      "source": [
        "## Part 3 - Analysis and Interpretation\n",
        "\n",
        "Now that you've looked at the data, answer the following questions:\n",
        "\n",
        "- What is at least one feature that looks to have a positive correlation with survival?\n",
        "> The feature that seems to have somewhat of a positive correlation is the  **patients' age**. As the years increase, the survival rate decreases. \n",
        "- What is at least one feature that looks to have a negative correlation with survival?\n",
        "> The feature that seems to have the strongest negative correlation is the number of **nodes found**. As the number of nodes found increase, the survival rate decreases. The other is the **year of surgery**. As the years increase, patients' survival rate decreases.\n",
        "- How are those two features related with each other, and what might that mean?\n",
        "> As far as their relationship with survival, it seems understandable that the rate of survival would be greater for those with lower number of positive nodes found (one would definitely think that those patients' health has been less afected by cancer). Meanwhile, one could think that as time goes by the rate of women found to have breast cancer could have increased as well thus decreasing the chance of survival.\n",
        "> Moreover, when it comes to finding their relationship to each other it may all point to the above mentioned. Average number of nodes seems to be about the same per year and number of surgery decreased, yet survival rates decreased as well.\n",
        "\n",
        "Answer with text, but feel free to intersperse example code/results or refer to it from earlier."
      ]
    },
    {
      "metadata": {
        "id": "dmEe7mtOzsXc",
        "colab_type": "code",
        "colab": {}
      },
      "cell_type": "code",
      "source": [
        ""
      ],
      "execution_count": 0,
      "outputs": []
    }
  ]
}