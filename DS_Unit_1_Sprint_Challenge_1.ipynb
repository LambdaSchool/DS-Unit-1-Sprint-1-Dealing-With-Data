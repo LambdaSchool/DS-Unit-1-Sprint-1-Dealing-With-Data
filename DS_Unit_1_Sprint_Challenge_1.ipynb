{
  "nbformat": 4,
  "nbformat_minor": 0,
  "metadata": {
    "colab": {
      "name": "DS_Unit_1_Sprint_Challenge_1.ipynb",
      "version": "0.3.2",
      "provenance": [],
      "collapsed_sections": [],
      "include_colab_link": true
    },
    "kernelspec": {
      "name": "python3",
      "display_name": "Python 3"
    }
  },
  "cells": [
    {
      "cell_type": "markdown",
      "metadata": {
        "id": "view-in-github",
        "colab_type": "text"
      },
      "source": [
        "<a href=\"https://colab.research.google.com/github/ed-chin-git/DS-Sprint-01-Dealing-With-Data/blob/master/DS_Unit_1_Sprint_Challenge_1.ipynb\" target=\"_parent\"><img src=\"https://colab.research.google.com/assets/colab-badge.svg\" alt=\"Open In Colab\"/></a>"
      ]
    },
    {
      "metadata": {
        "id": "NooAiTdnafkz",
        "colab_type": "text"
      },
      "cell_type": "markdown",
      "source": [
        "# Data Science Unit 1 Sprint Challenge 1\n",
        "\n",
        "## Loading, cleaning, visualizing, and analyzing data\n",
        "\n",
        "In this sprint challenge you will look at a dataset of the survival of patients who underwent surgery for breast cancer.\n",
        "\n",
        "http://archive.ics.uci.edu/ml/datasets/Haberman%27s+Survival\n",
        "\n",
        "Data Set Information:\n",
        "The dataset contains cases from a study that was conducted between 1958 and 1970 at the University of Chicago's Billings Hospital on the survival of patients who had undergone surgery for breast cancer.\n",
        "\n",
        "Attribute Information:\n",
        "1. Age of patient at time of operation (numerical)\n",
        "2. Patient's year of operation (year - 1900, numerical)\n",
        "3. Number of positive axillary nodes detected (numerical)\n",
        "4. Survival status (class attribute)\n",
        "-- 1 = the patient survived 5 years or longer\n",
        "-- 2 = the patient died within 5 year\n",
        "\n",
        "Sprint challenges are evaluated based on satisfactory completion of each part. It is suggested you work through it in order, getting each aspect reasonably working, before trying to deeply explore, iterate, or refine any given step. Once you get to the end, if you want to go back and improve things, go for it!"
      ]
    },
    {
      "metadata": {
        "id": "5wch6ksCbJtZ",
        "colab_type": "text"
      },
      "cell_type": "markdown",
      "source": [
        "## Part 1 - Load and validate the data\n",
        "\n",
        "- Load the data as a `pandas` data frame.\n",
        "- Validate that it has the appropriate number of observations (you can check the raw file, and also read the dataset description from UCI).\n",
        "- Validate that you have no missing values.\n",
        "- Add informative names to the features.\n",
        "- The survival variable is encoded as 1 for surviving >5 years and 2 for not - change this to be 0 for not surviving and 1 for surviving >5 years (0/1 is a more traditional encoding of binary variables)\n",
        "\n",
        "At the end, print the first five rows of the dataset to demonstrate the above."
      ]
    },
    {
      "metadata": {
        "id": "287TpoGKFRVK",
        "colab_type": "code",
        "colab": {
          "base_uri": "https://localhost:8080/",
          "height": 68
        },
        "outputId": "d002a55e-e699-466d-d228-dffa16735b76"
      },
      "cell_type": "code",
      "source": [
        "# imports\n",
        "import pandas as pd\n",
        "import numpy as np\n",
        "import matplotlib.pyplot as plt\n",
        "\n",
        "# Load the data \n",
        "data_url='http://archive.ics.uci.edu/ml/machine-learning-databases/haberman/haberman.data'\n",
        "df=pd.read_csv(data_url, header=None)\n",
        "print(data_url)\n",
        "print(' # Observations =', df.shape[0],'\\n # Feature =', df.shape[1] )"
      ],
      "execution_count": 98,
      "outputs": [
        {
          "output_type": "stream",
          "text": [
            "http://archive.ics.uci.edu/ml/machine-learning-databases/haberman/haberman.data\n",
            " # Observations = 306 \n",
            " # Feature = 4\n"
          ],
          "name": "stdout"
        }
      ]
    },
    {
      "metadata": {
        "id": "5WvPd-I9Sbrt",
        "colab_type": "code",
        "colab": {
          "base_uri": "https://localhost:8080/",
          "height": 102
        },
        "outputId": "eb82a434-3477-4a55-9d86-2bb6b7c9ce69"
      },
      "cell_type": "code",
      "source": [
        "# check for NANs\n",
        "\n",
        "df.isna().sum()"
      ],
      "execution_count": 99,
      "outputs": [
        {
          "output_type": "execute_result",
          "data": {
            "text/plain": [
              "0    0\n",
              "1    0\n",
              "2    0\n",
              "3    0\n",
              "dtype: int64"
            ]
          },
          "metadata": {
            "tags": []
          },
          "execution_count": 99
        }
      ]
    },
    {
      "metadata": {
        "id": "8dOrFLTnSRgt",
        "colab_type": "code",
        "colab": {}
      },
      "cell_type": "code",
      "source": [
        "#  Set informative feature names\n",
        "\n",
        "# Attribute Information:\n",
        "#   1. Age of patient at time of operation (numerical)\n",
        "#   2. Patient's year of operation (year - 1900, numerical)\n",
        "#   3. Number of positive axillary nodes detected (numerical)\n",
        "#   4. Survival status (class attribute)\n",
        "#         1 = the patient survived 5 years or longer\n",
        "#         2 = the patient died within 5 year\n",
        "\n",
        "df.columns = ['Age', 'Year_of_Oper','Num_Nodes','Survived_5']\n",
        "\n",
        "#  change Survived_5 encoding from 1 / 2 to 0 / 1\n",
        "for i in range(0,len(df),1):\n",
        "  if df['Survived_5'][i] == 1:\n",
        "    df['Survived_5'][i] = 0\n",
        "  elif  df['Survived_5'][i] ==2:\n",
        "    df['Survived_5'][i] = 1"
      ],
      "execution_count": 0,
      "outputs": []
    },
    {
      "metadata": {
        "id": "upl-GHvWnE9l",
        "colab_type": "code",
        "colab": {
          "base_uri": "https://localhost:8080/",
          "height": 359
        },
        "outputId": "c0d80fc9-0f38-498e-f0b3-7832deda440c"
      },
      "cell_type": "code",
      "source": [
        "df.head(10)"
      ],
      "execution_count": 101,
      "outputs": [
        {
          "output_type": "execute_result",
          "data": {
            "text/html": [
              "<div>\n",
              "<style scoped>\n",
              "    .dataframe tbody tr th:only-of-type {\n",
              "        vertical-align: middle;\n",
              "    }\n",
              "\n",
              "    .dataframe tbody tr th {\n",
              "        vertical-align: top;\n",
              "    }\n",
              "\n",
              "    .dataframe thead th {\n",
              "        text-align: right;\n",
              "    }\n",
              "</style>\n",
              "<table border=\"1\" class=\"dataframe\">\n",
              "  <thead>\n",
              "    <tr style=\"text-align: right;\">\n",
              "      <th></th>\n",
              "      <th>Age</th>\n",
              "      <th>Year_of_Oper</th>\n",
              "      <th>Num_Nodes</th>\n",
              "      <th>Survived_5</th>\n",
              "    </tr>\n",
              "  </thead>\n",
              "  <tbody>\n",
              "    <tr>\n",
              "      <th>0</th>\n",
              "      <td>30</td>\n",
              "      <td>64</td>\n",
              "      <td>1</td>\n",
              "      <td>0</td>\n",
              "    </tr>\n",
              "    <tr>\n",
              "      <th>1</th>\n",
              "      <td>30</td>\n",
              "      <td>62</td>\n",
              "      <td>3</td>\n",
              "      <td>0</td>\n",
              "    </tr>\n",
              "    <tr>\n",
              "      <th>2</th>\n",
              "      <td>30</td>\n",
              "      <td>65</td>\n",
              "      <td>0</td>\n",
              "      <td>0</td>\n",
              "    </tr>\n",
              "    <tr>\n",
              "      <th>3</th>\n",
              "      <td>31</td>\n",
              "      <td>59</td>\n",
              "      <td>2</td>\n",
              "      <td>0</td>\n",
              "    </tr>\n",
              "    <tr>\n",
              "      <th>4</th>\n",
              "      <td>31</td>\n",
              "      <td>65</td>\n",
              "      <td>4</td>\n",
              "      <td>0</td>\n",
              "    </tr>\n",
              "    <tr>\n",
              "      <th>5</th>\n",
              "      <td>33</td>\n",
              "      <td>58</td>\n",
              "      <td>10</td>\n",
              "      <td>0</td>\n",
              "    </tr>\n",
              "    <tr>\n",
              "      <th>6</th>\n",
              "      <td>33</td>\n",
              "      <td>60</td>\n",
              "      <td>0</td>\n",
              "      <td>0</td>\n",
              "    </tr>\n",
              "    <tr>\n",
              "      <th>7</th>\n",
              "      <td>34</td>\n",
              "      <td>59</td>\n",
              "      <td>0</td>\n",
              "      <td>1</td>\n",
              "    </tr>\n",
              "    <tr>\n",
              "      <th>8</th>\n",
              "      <td>34</td>\n",
              "      <td>66</td>\n",
              "      <td>9</td>\n",
              "      <td>1</td>\n",
              "    </tr>\n",
              "    <tr>\n",
              "      <th>9</th>\n",
              "      <td>34</td>\n",
              "      <td>58</td>\n",
              "      <td>30</td>\n",
              "      <td>0</td>\n",
              "    </tr>\n",
              "  </tbody>\n",
              "</table>\n",
              "</div>"
            ],
            "text/plain": [
              "   Age  Year_of_Oper  Num_Nodes  Survived_5\n",
              "0   30            64          1           0\n",
              "1   30            62          3           0\n",
              "2   30            65          0           0\n",
              "3   31            59          2           0\n",
              "4   31            65          4           0\n",
              "5   33            58         10           0\n",
              "6   33            60          0           0\n",
              "7   34            59          0           1\n",
              "8   34            66          9           1\n",
              "9   34            58         30           0"
            ]
          },
          "metadata": {
            "tags": []
          },
          "execution_count": 101
        }
      ]
    },
    {
      "metadata": {
        "id": "G7rLytbrO38L",
        "colab_type": "text"
      },
      "cell_type": "markdown",
      "source": [
        "## Part 2 - Examine the distribution and relationships of the features\n",
        "\n",
        "Explore the data - create at least *2* tables (can be summary statistics or crosstabulations) and *2* plots illustrating the nature of the data.\n",
        "\n",
        "This is open-ended, so to remind - first *complete* this task as a baseline, then go on to the remaining sections, and *then* as time allows revisit and explore further.\n",
        "\n",
        "Hint - you may need to bin some variables depending on your chosen tables/plots."
      ]
    },
    {
      "metadata": {
        "id": "IAkllgCIFVj0",
        "colab_type": "code",
        "colab": {
          "base_uri": "https://localhost:8080/",
          "height": 297
        },
        "outputId": "171c0ad1-cece-464b-ba1e-fb6787efb7d3"
      },
      "cell_type": "code",
      "source": [
        "#  Look at Summary Stats\n",
        "df.describe()"
      ],
      "execution_count": 102,
      "outputs": [
        {
          "output_type": "execute_result",
          "data": {
            "text/html": [
              "<div>\n",
              "<style scoped>\n",
              "    .dataframe tbody tr th:only-of-type {\n",
              "        vertical-align: middle;\n",
              "    }\n",
              "\n",
              "    .dataframe tbody tr th {\n",
              "        vertical-align: top;\n",
              "    }\n",
              "\n",
              "    .dataframe thead th {\n",
              "        text-align: right;\n",
              "    }\n",
              "</style>\n",
              "<table border=\"1\" class=\"dataframe\">\n",
              "  <thead>\n",
              "    <tr style=\"text-align: right;\">\n",
              "      <th></th>\n",
              "      <th>Age</th>\n",
              "      <th>Year_of_Oper</th>\n",
              "      <th>Num_Nodes</th>\n",
              "      <th>Survived_5</th>\n",
              "    </tr>\n",
              "  </thead>\n",
              "  <tbody>\n",
              "    <tr>\n",
              "      <th>count</th>\n",
              "      <td>306.000000</td>\n",
              "      <td>306.000000</td>\n",
              "      <td>306.000000</td>\n",
              "      <td>306.000000</td>\n",
              "    </tr>\n",
              "    <tr>\n",
              "      <th>mean</th>\n",
              "      <td>52.457516</td>\n",
              "      <td>62.852941</td>\n",
              "      <td>4.026144</td>\n",
              "      <td>0.264706</td>\n",
              "    </tr>\n",
              "    <tr>\n",
              "      <th>std</th>\n",
              "      <td>10.803452</td>\n",
              "      <td>3.249405</td>\n",
              "      <td>7.189654</td>\n",
              "      <td>0.441899</td>\n",
              "    </tr>\n",
              "    <tr>\n",
              "      <th>min</th>\n",
              "      <td>30.000000</td>\n",
              "      <td>58.000000</td>\n",
              "      <td>0.000000</td>\n",
              "      <td>0.000000</td>\n",
              "    </tr>\n",
              "    <tr>\n",
              "      <th>25%</th>\n",
              "      <td>44.000000</td>\n",
              "      <td>60.000000</td>\n",
              "      <td>0.000000</td>\n",
              "      <td>0.000000</td>\n",
              "    </tr>\n",
              "    <tr>\n",
              "      <th>50%</th>\n",
              "      <td>52.000000</td>\n",
              "      <td>63.000000</td>\n",
              "      <td>1.000000</td>\n",
              "      <td>0.000000</td>\n",
              "    </tr>\n",
              "    <tr>\n",
              "      <th>75%</th>\n",
              "      <td>60.750000</td>\n",
              "      <td>65.750000</td>\n",
              "      <td>4.000000</td>\n",
              "      <td>1.000000</td>\n",
              "    </tr>\n",
              "    <tr>\n",
              "      <th>max</th>\n",
              "      <td>83.000000</td>\n",
              "      <td>69.000000</td>\n",
              "      <td>52.000000</td>\n",
              "      <td>1.000000</td>\n",
              "    </tr>\n",
              "  </tbody>\n",
              "</table>\n",
              "</div>"
            ],
            "text/plain": [
              "              Age  Year_of_Oper   Num_Nodes  Survived_5\n",
              "count  306.000000    306.000000  306.000000  306.000000\n",
              "mean    52.457516     62.852941    4.026144    0.264706\n",
              "std     10.803452      3.249405    7.189654    0.441899\n",
              "min     30.000000     58.000000    0.000000    0.000000\n",
              "25%     44.000000     60.000000    0.000000    0.000000\n",
              "50%     52.000000     63.000000    1.000000    0.000000\n",
              "75%     60.750000     65.750000    4.000000    1.000000\n",
              "max     83.000000     69.000000   52.000000    1.000000"
            ]
          },
          "metadata": {
            "tags": []
          },
          "execution_count": 102
        }
      ]
    },
    {
      "metadata": {
        "id": "zMnh5FQCTzAq",
        "colab_type": "code",
        "colab": {
          "base_uri": "https://localhost:8080/",
          "height": 266
        },
        "outputId": "ed99dd2a-21d3-4be6-d11e-b91bb0c116be"
      },
      "cell_type": "code",
      "source": [
        "#  Cross Tabulation\n",
        "\n",
        "# create 5 equal-sized bins of Age\n",
        "age_bins = pd.cut(df['Age'], 3,precision=0)  \n",
        "node_bins = pd.cut(df['Num_Nodes'], 5,precision=0)  \n",
        "\n",
        "# cross tabulate the bins  Show percentages  \n",
        "pd.crosstab([age_bins,df['Survived_5']],node_bins)  #, normalize='columns')"
      ],
      "execution_count": 104,
      "outputs": [
        {
          "output_type": "execute_result",
          "data": {
            "text/html": [
              "<div>\n",
              "<style scoped>\n",
              "    .dataframe tbody tr th:only-of-type {\n",
              "        vertical-align: middle;\n",
              "    }\n",
              "\n",
              "    .dataframe tbody tr th {\n",
              "        vertical-align: top;\n",
              "    }\n",
              "\n",
              "    .dataframe thead th {\n",
              "        text-align: right;\n",
              "    }\n",
              "</style>\n",
              "<table border=\"1\" class=\"dataframe\">\n",
              "  <thead>\n",
              "    <tr style=\"text-align: right;\">\n",
              "      <th></th>\n",
              "      <th>Num_Nodes</th>\n",
              "      <th>(-0.1, 10.0]</th>\n",
              "      <th>(10.0, 21.0]</th>\n",
              "      <th>(21.0, 31.0]</th>\n",
              "      <th>(31.0, 42.0]</th>\n",
              "      <th>(42.0, 52.0]</th>\n",
              "    </tr>\n",
              "    <tr>\n",
              "      <th>Age</th>\n",
              "      <th>Survived_5</th>\n",
              "      <th></th>\n",
              "      <th></th>\n",
              "      <th></th>\n",
              "      <th></th>\n",
              "      <th></th>\n",
              "    </tr>\n",
              "  </thead>\n",
              "  <tbody>\n",
              "    <tr>\n",
              "      <th rowspan=\"2\" valign=\"top\">(30.0, 48.0]</th>\n",
              "      <th>0</th>\n",
              "      <td>72</td>\n",
              "      <td>8</td>\n",
              "      <td>1</td>\n",
              "      <td>0</td>\n",
              "      <td>0</td>\n",
              "    </tr>\n",
              "    <tr>\n",
              "      <th>1</th>\n",
              "      <td>20</td>\n",
              "      <td>2</td>\n",
              "      <td>3</td>\n",
              "      <td>0</td>\n",
              "      <td>1</td>\n",
              "    </tr>\n",
              "    <tr>\n",
              "      <th rowspan=\"2\" valign=\"top\">(48.0, 65.0]</th>\n",
              "      <th>0</th>\n",
              "      <td>110</td>\n",
              "      <td>2</td>\n",
              "      <td>4</td>\n",
              "      <td>0</td>\n",
              "      <td>1</td>\n",
              "    </tr>\n",
              "    <tr>\n",
              "      <th>1</th>\n",
              "      <td>28</td>\n",
              "      <td>12</td>\n",
              "      <td>3</td>\n",
              "      <td>1</td>\n",
              "      <td>0</td>\n",
              "    </tr>\n",
              "    <tr>\n",
              "      <th rowspan=\"2\" valign=\"top\">(65.0, 83.0]</th>\n",
              "      <th>0</th>\n",
              "      <td>26</td>\n",
              "      <td>1</td>\n",
              "      <td>0</td>\n",
              "      <td>0</td>\n",
              "      <td>0</td>\n",
              "    </tr>\n",
              "    <tr>\n",
              "      <th>1</th>\n",
              "      <td>10</td>\n",
              "      <td>1</td>\n",
              "      <td>0</td>\n",
              "      <td>0</td>\n",
              "      <td>0</td>\n",
              "    </tr>\n",
              "  </tbody>\n",
              "</table>\n",
              "</div>"
            ],
            "text/plain": [
              "Num_Nodes                (-0.1, 10.0]  (10.0, 21.0]  (21.0, 31.0]  \\\n",
              "Age          Survived_5                                             \n",
              "(30.0, 48.0] 0                     72             8             1   \n",
              "             1                     20             2             3   \n",
              "(48.0, 65.0] 0                    110             2             4   \n",
              "             1                     28            12             3   \n",
              "(65.0, 83.0] 0                     26             1             0   \n",
              "             1                     10             1             0   \n",
              "\n",
              "Num_Nodes                (31.0, 42.0]  (42.0, 52.0]  \n",
              "Age          Survived_5                              \n",
              "(30.0, 48.0] 0                      0             0  \n",
              "             1                      0             1  \n",
              "(48.0, 65.0] 0                      0             1  \n",
              "             1                      1             0  \n",
              "(65.0, 83.0] 0                      0             0  \n",
              "             1                      0             0  "
            ]
          },
          "metadata": {
            "tags": []
          },
          "execution_count": 104
        }
      ]
    },
    {
      "metadata": {
        "id": "Ds5OzMg5nwPw",
        "colab_type": "code",
        "colab": {
          "base_uri": "https://localhost:8080/",
          "height": 1094
        },
        "outputId": "08589aca-d592-40e8-eecd-540e357c203f"
      },
      "cell_type": "code",
      "source": [
        "plt.scatter(df.Survived_5,df.Year_of_Oper, marker = 'o')\n",
        "plt.title(' Survived_5 vs Year of Operation')\n",
        "plt.xlabel('Survived_5')\n",
        "plt.ylabel('Year')\n",
        "plt.show()\n",
        "\n",
        "plt.scatter(df.Age,df.Num_Nodes, marker = 'o')\n",
        "plt.title(' Age vs Number of Nodes')\n",
        "plt.xlabel('Age')\n",
        "plt.ylabel('# nodes')\n",
        "plt.show()\n",
        "\n",
        "plt.scatter(df.Num_Nodes,df.Survived_5, marker = 'o')\n",
        "plt.title(' Nodes vs Survived_5')\n",
        "plt.xlabel('# nodes')\n",
        "plt.ylabel('df.Survived_5')\n",
        "plt.show()\n",
        "\n"
      ],
      "execution_count": 108,
      "outputs": [
        {
          "output_type": "display_data",
          "data": {
            "image/png": "[encoded data removed]",
            "text/plain": [
              "<matplotlib.figure.Figure at 0x7f93b5f91630>"
            ]
          },
          "metadata": {
            "tags": []
          }
        },
        {
          "output_type": "display_data",
          "data": {
            "image/png": "[encoded data removed]",
            "text/plain": [
              "<matplotlib.figure.Figure at 0x7f93b5fbee48>"
            ]
          },
          "metadata": {
            "tags": []
          }
        },
        {
          "output_type": "display_data",
          "data": {
            "image/png": "[encoded data removed]",
            "text/plain": [
              "<matplotlib.figure.Figure at 0x7f93b5f32668>"
            ]
          },
          "metadata": {
            "tags": []
          }
        }
      ]
    },
    {
      "metadata": {
        "id": "olESF30GtkOJ",
        "colab_type": "code",
        "colab": {
          "base_uri": "https://localhost:8080/",
          "height": 465
        },
        "outputId": "64d92e71-c709-4d96-f48c-3ab92949d08b"
      },
      "cell_type": "code",
      "source": [
        "x_tab = pd.crosstab([age_bins,node_bins],df['Survived_5'])  #, normalize='columns')\n",
        "x_tab.plot(kind='bar', stacked=True);"
      ],
      "execution_count": 110,
      "outputs": [
        {
          "output_type": "display_data",
          "data": {
            "image/png": "[encoded data removed]",
            "text/plain": [
              "<matplotlib.figure.Figure at 0x7f93b5e26ba8>"
            ]
          },
          "metadata": {
            "tags": []
          }
        }
      ]
    },
    {
      "metadata": {
        "id": "ZM8JckA2bgnp",
        "colab_type": "text"
      },
      "cell_type": "markdown",
      "source": [
        "## Part 3 - Analysis and Interpretation\n",
        "\n",
        "Now that you've looked at the data, answer the following questions:\n",
        "\n",
        "- What is at least one feature that looks to have a positive correlation with survival?\n",
        "          \n",
        "          Year of Operation seems to have positive corelation.\n",
        "            As Year increases , Survival Increase\n",
        "   \n"
      ]
    },
    {
      "metadata": {
        "id": "EMKMA2Zcw16l",
        "colab_type": "code",
        "colab": {
          "base_uri": "https://localhost:8080/",
          "height": 362
        },
        "outputId": "57aedd8c-35a4-4012-8f90-b8d29e2a28f8"
      },
      "cell_type": "code",
      "source": [
        "x_tab = pd.crosstab([df['Year_of_Oper']],df['Survived_5'])  #, normalize='columns')\n",
        "x_tab.plot(kind='bar', stacked=True);"
      ],
      "execution_count": 112,
      "outputs": [
        {
          "output_type": "display_data",
          "data": {
            "image/png": "[encoded data removed]",
            "text/plain": [
              "<matplotlib.figure.Figure at 0x7f93b6119550>"
            ]
          },
          "metadata": {
            "tags": []
          }
        }
      ]
    },
    {
      "metadata": {
        "id": "09QzCyB5x89N",
        "colab_type": "text"
      },
      "cell_type": "markdown",
      "source": [
        "- What is at least one feature that looks to have a negative correlation with survival?\n",
        "                                                  \n",
        "          Number of Nodes feature has neg correlation. \n",
        "          As num of nodes increase, survival decreases  \n",
        "\n"
      ]
    },
    {
      "metadata": {
        "id": "J9Zh8H8DyV0R",
        "colab_type": "code",
        "colab": {
          "base_uri": "https://localhost:8080/",
          "height": 357
        },
        "outputId": "8c554644-1264-4f58-8fb3-f52dcc14cfa0"
      },
      "cell_type": "code",
      "source": [
        "x_tab = pd.crosstab(df['Survived_5'],[node_bins])  #, normalize='columns')\n",
        "x_tab.plot(kind='bar', stacked=True);"
      ],
      "execution_count": 122,
      "outputs": [
        {
          "output_type": "display_data",
          "data": {
            "image/png": "[encoded data removed]",
            "text/plain": [
              "<matplotlib.figure.Figure at 0x7f93b5dabf98>"
            ]
          },
          "metadata": {
            "tags": []
          }
        }
      ]
    },
    {
      "metadata": {
        "id": "jqpGdvqhzi3q",
        "colab_type": "code",
        "colab": {
          "base_uri": "https://localhost:8080/",
          "height": 347
        },
        "outputId": "05ab19de-99a8-4128-cb2c-efc19561b30c"
      },
      "cell_type": "code",
      "source": [
        "plt.scatter(df['Num_Nodes'],df['Survived_5'])\n",
        "plt.show()\n"
      ],
      "execution_count": 120,
      "outputs": [
        {
          "output_type": "display_data",
          "data": {
            "image/png": "[encoded data removed]",
            "text/plain": [
              "<matplotlib.figure.Figure at 0x7f93b5dabcf8>"
            ]
          },
          "metadata": {
            "tags": []
          }
        }
      ]
    },
    {
      "metadata": {
        "id": "U3ASXDlSyR3Q",
        "colab_type": "text"
      },
      "cell_type": "markdown",
      "source": [
        "- How are those two features related with each other, and what might that mean?\n",
        "                            \n",
        "                            Number of Nodes and Year of Operation don't seem to be related to each other\n",
        "                             Number of Nodes having negative correlation is obvious\n",
        "                             Year Of Operation having positive correltion may be due to better medical procedures\n",
        "\n"
      ]
    }
  ]
}