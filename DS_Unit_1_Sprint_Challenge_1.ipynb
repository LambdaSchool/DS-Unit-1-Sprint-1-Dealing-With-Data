{
  "nbformat": 4,
  "nbformat_minor": 0,
  "metadata": {
    "colab": {
      "name": "DS_Unit_1_Sprint_Challenge_1.ipynb",
      "version": "0.3.2",
      "provenance": [],
      "collapsed_sections": [],
      "include_colab_link": true
    },
    "kernelspec": {
      "name": "python3",
      "display_name": "Python 3"
    }
  },
  "cells": [
    {
      "cell_type": "markdown",
      "metadata": {
        "id": "view-in-github",
        "colab_type": "text"
      },
      "source": [
        "<a href=\"https://colab.research.google.com/github/tesseract314/DS-Sprint-01-Dealing-With-Data/blob/master/DS_Unit_1_Sprint_Challenge_1.ipynb\" target=\"_parent\"><img src=\"https://colab.research.google.com/assets/colab-badge.svg\" alt=\"Open In Colab\"/></a>"
      ]
    },
    {
      "metadata": {
        "id": "NooAiTdnafkz",
        "colab_type": "text"
      },
      "cell_type": "markdown",
      "source": [
        "# Data Science Unit 1 Sprint Challenge 1\n",
        "\n",
        "## Loading, cleaning, visualizing, and analyzing data\n",
        "\n",
        "In this sprint challenge you will look at a dataset of the survival of patients who underwent surgery for breast cancer.\n",
        "\n",
        "http://archive.ics.uci.edu/ml/datasets/Haberman%27s+Survival\n",
        "\n",
        "Data Set Information:\n",
        "The dataset contains cases from a study that was conducted between 1958 and 1970 at the University of Chicago's Billings Hospital on the survival of patients who had undergone surgery for breast cancer.\n",
        "\n",
        "Attribute Information:\n",
        "1. Age of patient at time of operation (numerical)\n",
        "2. Patient's year of operation (year - 1900, numerical)\n",
        "3. Number of positive axillary nodes detected (numerical)\n",
        "4. Survival status (class attribute)\n",
        "-- 1 = the patient survived 5 years or longer\n",
        "-- 2 = the patient died within 5 year\n",
        "\n",
        "Sprint challenges are evaluated based on satisfactory completion of each part. It is suggested you work through it in order, getting each aspect reasonably working, before trying to deeply explore, iterate, or refine any given step. Once you get to the end, if you want to go back and improve things, go for it!"
      ]
    },
    {
      "metadata": {
        "id": "5wch6ksCbJtZ",
        "colab_type": "text"
      },
      "cell_type": "markdown",
      "source": [
        "## Part 1 - Load and validate the data\n",
        "\n",
        "- Load the data as a `pandas` data frame.\n",
        "- Validate that it has the appropriate number of observations (you can check the raw file, and also read the dataset description from UCI).\n",
        "- Validate that you have no missing values.\n",
        "- Add informative names to the features.\n",
        "- The survival variable is encoded as 1 for surviving >5 years and 2 for not - change this to be 0 for not surviving and 1 for surviving >5 years (0/1 is a more traditional encoding of binary variables)\n",
        "\n",
        "At the end, print the first five rows of the dataset to demonstrate the above."
      ]
    },
    {
      "metadata": {
        "id": "nqs9SkSCrxK-",
        "colab_type": "code",
        "colab": {}
      },
      "cell_type": "code",
      "source": [
        "import pandas as pd"
      ],
      "execution_count": 0,
      "outputs": []
    },
    {
      "metadata": {
        "id": "287TpoGKFRVK",
        "colab_type": "code",
        "colab": {}
      },
      "cell_type": "code",
      "source": [
        "data_url = 'http://archive.ics.uci.edu/ml/machine-learning-databases/haberman/haberman.data'\n",
        "\n",
        "# Making informative column names\n",
        "cols = ['age',\n",
        "       'year',\n",
        "       'nodes_detected',\n",
        "       'survival_status']\n",
        "\n",
        "df = pd.read_csv(data_url, names=cols) # Adding column names to df to fill in missing header"
      ],
      "execution_count": 0,
      "outputs": []
    },
    {
      "metadata": {
        "id": "E2GUpZQesAk8",
        "colab_type": "code",
        "colab": {
          "base_uri": "https://localhost:8080/",
          "height": 195
        },
        "outputId": "b15c7d29-2676-4ccf-ee13-1d9c2f9a0b86"
      },
      "cell_type": "code",
      "source": [
        "df.head()"
      ],
      "execution_count": 28,
      "outputs": [
        {
          "output_type": "execute_result",
          "data": {
            "text/html": [
              "<div>\n",
              "<style scoped>\n",
              "    .dataframe tbody tr th:only-of-type {\n",
              "        vertical-align: middle;\n",
              "    }\n",
              "\n",
              "    .dataframe tbody tr th {\n",
              "        vertical-align: top;\n",
              "    }\n",
              "\n",
              "    .dataframe thead th {\n",
              "        text-align: right;\n",
              "    }\n",
              "</style>\n",
              "<table border=\"1\" class=\"dataframe\">\n",
              "  <thead>\n",
              "    <tr style=\"text-align: right;\">\n",
              "      <th></th>\n",
              "      <th>age</th>\n",
              "      <th>year</th>\n",
              "      <th>nodes_detected</th>\n",
              "      <th>survival_status</th>\n",
              "    </tr>\n",
              "  </thead>\n",
              "  <tbody>\n",
              "    <tr>\n",
              "      <th>0</th>\n",
              "      <td>30</td>\n",
              "      <td>64</td>\n",
              "      <td>1</td>\n",
              "      <td>1</td>\n",
              "    </tr>\n",
              "    <tr>\n",
              "      <th>1</th>\n",
              "      <td>30</td>\n",
              "      <td>62</td>\n",
              "      <td>3</td>\n",
              "      <td>1</td>\n",
              "    </tr>\n",
              "    <tr>\n",
              "      <th>2</th>\n",
              "      <td>30</td>\n",
              "      <td>65</td>\n",
              "      <td>0</td>\n",
              "      <td>1</td>\n",
              "    </tr>\n",
              "    <tr>\n",
              "      <th>3</th>\n",
              "      <td>31</td>\n",
              "      <td>59</td>\n",
              "      <td>2</td>\n",
              "      <td>1</td>\n",
              "    </tr>\n",
              "    <tr>\n",
              "      <th>4</th>\n",
              "      <td>31</td>\n",
              "      <td>65</td>\n",
              "      <td>4</td>\n",
              "      <td>1</td>\n",
              "    </tr>\n",
              "  </tbody>\n",
              "</table>\n",
              "</div>"
            ],
            "text/plain": [
              "   age  year  nodes_detected  survival_status\n",
              "0   30    64               1                1\n",
              "1   30    62               3                1\n",
              "2   30    65               0                1\n",
              "3   31    59               2                1\n",
              "4   31    65               4                1"
            ]
          },
          "metadata": {
            "tags": []
          },
          "execution_count": 28
        }
      ]
    },
    {
      "metadata": {
        "id": "BLvf6U-nsAse",
        "colab_type": "code",
        "colab": {
          "base_uri": "https://localhost:8080/",
          "height": 284
        },
        "outputId": "0b3c4233-3f3a-4400-cb8c-39f89890f683"
      },
      "cell_type": "code",
      "source": [
        "df.describe() # The count of each column indicates there are correct number of observations"
      ],
      "execution_count": 29,
      "outputs": [
        {
          "output_type": "execute_result",
          "data": {
            "text/html": [
              "<div>\n",
              "<style scoped>\n",
              "    .dataframe tbody tr th:only-of-type {\n",
              "        vertical-align: middle;\n",
              "    }\n",
              "\n",
              "    .dataframe tbody tr th {\n",
              "        vertical-align: top;\n",
              "    }\n",
              "\n",
              "    .dataframe thead th {\n",
              "        text-align: right;\n",
              "    }\n",
              "</style>\n",
              "<table border=\"1\" class=\"dataframe\">\n",
              "  <thead>\n",
              "    <tr style=\"text-align: right;\">\n",
              "      <th></th>\n",
              "      <th>age</th>\n",
              "      <th>year</th>\n",
              "      <th>nodes_detected</th>\n",
              "      <th>survival_status</th>\n",
              "    </tr>\n",
              "  </thead>\n",
              "  <tbody>\n",
              "    <tr>\n",
              "      <th>count</th>\n",
              "      <td>306.000000</td>\n",
              "      <td>306.000000</td>\n",
              "      <td>306.000000</td>\n",
              "      <td>306.000000</td>\n",
              "    </tr>\n",
              "    <tr>\n",
              "      <th>mean</th>\n",
              "      <td>52.457516</td>\n",
              "      <td>62.852941</td>\n",
              "      <td>4.026144</td>\n",
              "      <td>1.264706</td>\n",
              "    </tr>\n",
              "    <tr>\n",
              "      <th>std</th>\n",
              "      <td>10.803452</td>\n",
              "      <td>3.249405</td>\n",
              "      <td>7.189654</td>\n",
              "      <td>0.441899</td>\n",
              "    </tr>\n",
              "    <tr>\n",
              "      <th>min</th>\n",
              "      <td>30.000000</td>\n",
              "      <td>58.000000</td>\n",
              "      <td>0.000000</td>\n",
              "      <td>1.000000</td>\n",
              "    </tr>\n",
              "    <tr>\n",
              "      <th>25%</th>\n",
              "      <td>44.000000</td>\n",
              "      <td>60.000000</td>\n",
              "      <td>0.000000</td>\n",
              "      <td>1.000000</td>\n",
              "    </tr>\n",
              "    <tr>\n",
              "      <th>50%</th>\n",
              "      <td>52.000000</td>\n",
              "      <td>63.000000</td>\n",
              "      <td>1.000000</td>\n",
              "      <td>1.000000</td>\n",
              "    </tr>\n",
              "    <tr>\n",
              "      <th>75%</th>\n",
              "      <td>60.750000</td>\n",
              "      <td>65.750000</td>\n",
              "      <td>4.000000</td>\n",
              "      <td>2.000000</td>\n",
              "    </tr>\n",
              "    <tr>\n",
              "      <th>max</th>\n",
              "      <td>83.000000</td>\n",
              "      <td>69.000000</td>\n",
              "      <td>52.000000</td>\n",
              "      <td>2.000000</td>\n",
              "    </tr>\n",
              "  </tbody>\n",
              "</table>\n",
              "</div>"
            ],
            "text/plain": [
              "              age        year  nodes_detected  survival_status\n",
              "count  306.000000  306.000000      306.000000       306.000000\n",
              "mean    52.457516   62.852941        4.026144         1.264706\n",
              "std     10.803452    3.249405        7.189654         0.441899\n",
              "min     30.000000   58.000000        0.000000         1.000000\n",
              "25%     44.000000   60.000000        0.000000         1.000000\n",
              "50%     52.000000   63.000000        1.000000         1.000000\n",
              "75%     60.750000   65.750000        4.000000         2.000000\n",
              "max     83.000000   69.000000       52.000000         2.000000"
            ]
          },
          "metadata": {
            "tags": []
          },
          "execution_count": 29
        }
      ]
    },
    {
      "metadata": {
        "id": "lxFmtdXEsp4d",
        "colab_type": "code",
        "colab": {
          "base_uri": "https://localhost:8080/",
          "height": 67
        },
        "outputId": "bb9aee6f-e8cf-4080-f2d9-c5877cc04996"
      },
      "cell_type": "code",
      "source": [
        "df['age'].value_counts()\n",
        "df['year'].value_counts()\n",
        "df['nodes_detected'].value_counts()\n",
        "df['survival_status'].value_counts() # Did not see anything that indicates missing values with value_counts()"
      ],
      "execution_count": 30,
      "outputs": [
        {
          "output_type": "execute_result",
          "data": {
            "text/plain": [
              "1    225\n",
              "2     81\n",
              "Name: survival_status, dtype: int64"
            ]
          },
          "metadata": {
            "tags": []
          },
          "execution_count": 30
        }
      ]
    },
    {
      "metadata": {
        "id": "1VqkibLAsp9d",
        "colab_type": "code",
        "colab": {}
      },
      "cell_type": "code",
      "source": [
        "# Replacing 2's with 0's in survival_status column\n",
        "df['survival_status'] = df['survival_status'].replace(2, 0)"
      ],
      "execution_count": 0,
      "outputs": []
    },
    {
      "metadata": {
        "id": "l__vqy_esqCo",
        "colab_type": "code",
        "colab": {
          "base_uri": "https://localhost:8080/",
          "height": 67
        },
        "outputId": "3bdb965a-acf5-41ad-f2b2-82baaf6a9cea"
      },
      "cell_type": "code",
      "source": [
        "# Checking value counts again to make sure it's the same as above\n",
        "df['survival_status'].value_counts()"
      ],
      "execution_count": 35,
      "outputs": [
        {
          "output_type": "execute_result",
          "data": {
            "text/plain": [
              "1    225\n",
              "0     81\n",
              "Name: survival_status, dtype: int64"
            ]
          },
          "metadata": {
            "tags": []
          },
          "execution_count": 35
        }
      ]
    },
    {
      "metadata": {
        "id": "ik5gC4HQwWZd",
        "colab_type": "code",
        "colab": {
          "base_uri": "https://localhost:8080/",
          "height": 195
        },
        "outputId": "c127f61f-a6f8-4e41-a515-cafe3815c03f"
      },
      "cell_type": "code",
      "source": [
        "df.head()"
      ],
      "execution_count": 36,
      "outputs": [
        {
          "output_type": "execute_result",
          "data": {
            "text/html": [
              "<div>\n",
              "<style scoped>\n",
              "    .dataframe tbody tr th:only-of-type {\n",
              "        vertical-align: middle;\n",
              "    }\n",
              "\n",
              "    .dataframe tbody tr th {\n",
              "        vertical-align: top;\n",
              "    }\n",
              "\n",
              "    .dataframe thead th {\n",
              "        text-align: right;\n",
              "    }\n",
              "</style>\n",
              "<table border=\"1\" class=\"dataframe\">\n",
              "  <thead>\n",
              "    <tr style=\"text-align: right;\">\n",
              "      <th></th>\n",
              "      <th>age</th>\n",
              "      <th>year</th>\n",
              "      <th>nodes_detected</th>\n",
              "      <th>survival_status</th>\n",
              "    </tr>\n",
              "  </thead>\n",
              "  <tbody>\n",
              "    <tr>\n",
              "      <th>0</th>\n",
              "      <td>30</td>\n",
              "      <td>64</td>\n",
              "      <td>1</td>\n",
              "      <td>1</td>\n",
              "    </tr>\n",
              "    <tr>\n",
              "      <th>1</th>\n",
              "      <td>30</td>\n",
              "      <td>62</td>\n",
              "      <td>3</td>\n",
              "      <td>1</td>\n",
              "    </tr>\n",
              "    <tr>\n",
              "      <th>2</th>\n",
              "      <td>30</td>\n",
              "      <td>65</td>\n",
              "      <td>0</td>\n",
              "      <td>1</td>\n",
              "    </tr>\n",
              "    <tr>\n",
              "      <th>3</th>\n",
              "      <td>31</td>\n",
              "      <td>59</td>\n",
              "      <td>2</td>\n",
              "      <td>1</td>\n",
              "    </tr>\n",
              "    <tr>\n",
              "      <th>4</th>\n",
              "      <td>31</td>\n",
              "      <td>65</td>\n",
              "      <td>4</td>\n",
              "      <td>1</td>\n",
              "    </tr>\n",
              "  </tbody>\n",
              "</table>\n",
              "</div>"
            ],
            "text/plain": [
              "   age  year  nodes_detected  survival_status\n",
              "0   30    64               1                1\n",
              "1   30    62               3                1\n",
              "2   30    65               0                1\n",
              "3   31    59               2                1\n",
              "4   31    65               4                1"
            ]
          },
          "metadata": {
            "tags": []
          },
          "execution_count": 36
        }
      ]
    },
    {
      "metadata": {
        "id": "G7rLytbrO38L",
        "colab_type": "text"
      },
      "cell_type": "markdown",
      "source": [
        "## Part 2 - Examine the distribution and relationships of the features\n",
        "\n",
        "Explore the data - create at least *2* tables (can be summary statistics or crosstabulations) and *2* plots illustrating the nature of the data.\n",
        "\n",
        "This is open-ended, so to remind - first *complete* this task as a baseline, then go on to the remaining sections, and *then* as time allows revisit and explore further.\n",
        "\n",
        "Hint - you may need to bin some variables depending on your chosen tables/plots."
      ]
    },
    {
      "metadata": {
        "id": "IAkllgCIFVj0",
        "colab_type": "code",
        "colab": {
          "base_uri": "https://localhost:8080/",
          "height": 166
        },
        "outputId": "8bf1a56c-9b38-4058-fbc9-ae52cc92cbdc"
      },
      "cell_type": "code",
      "source": [
        "# Looking at correlation matrix of all variables\n",
        "df.corr()"
      ],
      "execution_count": 38,
      "outputs": [
        {
          "output_type": "execute_result",
          "data": {
            "text/html": [
              "<div>\n",
              "<style scoped>\n",
              "    .dataframe tbody tr th:only-of-type {\n",
              "        vertical-align: middle;\n",
              "    }\n",
              "\n",
              "    .dataframe tbody tr th {\n",
              "        vertical-align: top;\n",
              "    }\n",
              "\n",
              "    .dataframe thead th {\n",
              "        text-align: right;\n",
              "    }\n",
              "</style>\n",
              "<table border=\"1\" class=\"dataframe\">\n",
              "  <thead>\n",
              "    <tr style=\"text-align: right;\">\n",
              "      <th></th>\n",
              "      <th>age</th>\n",
              "      <th>year</th>\n",
              "      <th>nodes_detected</th>\n",
              "      <th>survival_status</th>\n",
              "    </tr>\n",
              "  </thead>\n",
              "  <tbody>\n",
              "    <tr>\n",
              "      <th>age</th>\n",
              "      <td>1.000000</td>\n",
              "      <td>0.089529</td>\n",
              "      <td>-0.063176</td>\n",
              "      <td>-0.067950</td>\n",
              "    </tr>\n",
              "    <tr>\n",
              "      <th>year</th>\n",
              "      <td>0.089529</td>\n",
              "      <td>1.000000</td>\n",
              "      <td>-0.003764</td>\n",
              "      <td>0.004768</td>\n",
              "    </tr>\n",
              "    <tr>\n",
              "      <th>nodes_detected</th>\n",
              "      <td>-0.063176</td>\n",
              "      <td>-0.003764</td>\n",
              "      <td>1.000000</td>\n",
              "      <td>-0.286768</td>\n",
              "    </tr>\n",
              "    <tr>\n",
              "      <th>survival_status</th>\n",
              "      <td>-0.067950</td>\n",
              "      <td>0.004768</td>\n",
              "      <td>-0.286768</td>\n",
              "      <td>1.000000</td>\n",
              "    </tr>\n",
              "  </tbody>\n",
              "</table>\n",
              "</div>"
            ],
            "text/plain": [
              "                      age      year  nodes_detected  survival_status\n",
              "age              1.000000  0.089529       -0.063176        -0.067950\n",
              "year             0.089529  1.000000       -0.003764         0.004768\n",
              "nodes_detected  -0.063176 -0.003764        1.000000        -0.286768\n",
              "survival_status -0.067950  0.004768       -0.286768         1.000000"
            ]
          },
          "metadata": {
            "tags": []
          },
          "execution_count": 38
        }
      ]
    },
    {
      "metadata": {
        "id": "pLed5XAcxQsM",
        "colab_type": "code",
        "colab": {
          "base_uri": "https://localhost:8080/",
          "height": 502
        },
        "outputId": "5793d9dc-b11c-411b-86bd-f2662d821660"
      },
      "cell_type": "code",
      "source": [
        "# Using a scatter matrix to visualize the relationships between variables\n",
        "\n",
        "from pandas.plotting import scatter_matrix\n",
        "\n",
        "scatter_matrix(df, figsize=(12,8))\n",
        "plt.show()"
      ],
      "execution_count": 39,
      "outputs": [
        {
          "output_type": "display_data",
          "data": {
            "image/png": "[encoded data removed]",
            "text/plain": [
              "<matplotlib.figure.Figure at 0x7f6aa2b51748>"
            ]
          },
          "metadata": {
            "tags": []
          }
        }
      ]
    },
    {
      "metadata": {
        "id": "hHWPH1XEz0Ka",
        "colab_type": "code",
        "colab": {
          "base_uri": "https://localhost:8080/",
          "height": 361
        },
        "outputId": "198807f9-c4c5-49f4-ce84-9abd97a8843f"
      },
      "cell_type": "code",
      "source": [
        "# Getting a closer look at the relationship between nodes_detected and survival_status\n",
        "import numpy as np\n",
        "\n",
        "fig, ax = plt.subplots() # Trying the fig, ax stuff\n",
        "\n",
        "ax.scatter(df['nodes_detected'], df['survival_status'], alpha=.5)\n",
        "ax.set_xlabel('nodes_detected')\n",
        "ax.set_ylabel('survival_status')\n",
        "\n",
        "ax.grid(True)\n",
        "plt.show()"
      ],
      "execution_count": 49,
      "outputs": [
        {
          "output_type": "display_data",
          "data": {
            "image/png": "[encoded data removed]",
            "text/plain": [
              "<matplotlib.figure.Figure at 0x7f6a9e449a90>"
            ]
          },
          "metadata": {
            "tags": []
          }
        }
      ]
    },
    {
      "metadata": {
        "id": "-3bS7IyMxQ29",
        "colab_type": "code",
        "colab": {}
      },
      "cell_type": "code",
      "source": [
        "age_bins = pd.cut(df['age'], 5)\n",
        "year_bins = pd.cut(df['year'], 5)\n",
        "node_bins = pd.cut(df['nodes_detected'], 5)"
      ],
      "execution_count": 0,
      "outputs": []
    },
    {
      "metadata": {
        "id": "PDUGQBIsxQ6Q",
        "colab_type": "code",
        "colab": {
          "base_uri": "https://localhost:8080/",
          "height": 225
        },
        "outputId": "4a6bba84-54a4-4cfd-fa7b-93eac9a3a1c4"
      },
      "cell_type": "code",
      "source": [
        "pd.crosstab(age_bins, df['survival_status'], normalize='index')\n",
        "\n",
        "# From this table, the survival rates look better for young people"
      ],
      "execution_count": 62,
      "outputs": [
        {
          "output_type": "execute_result",
          "data": {
            "text/html": [
              "<div>\n",
              "<style scoped>\n",
              "    .dataframe tbody tr th:only-of-type {\n",
              "        vertical-align: middle;\n",
              "    }\n",
              "\n",
              "    .dataframe tbody tr th {\n",
              "        vertical-align: top;\n",
              "    }\n",
              "\n",
              "    .dataframe thead th {\n",
              "        text-align: right;\n",
              "    }\n",
              "</style>\n",
              "<table border=\"1\" class=\"dataframe\">\n",
              "  <thead>\n",
              "    <tr style=\"text-align: right;\">\n",
              "      <th>survival_status</th>\n",
              "      <th>0</th>\n",
              "      <th>1</th>\n",
              "    </tr>\n",
              "    <tr>\n",
              "      <th>age</th>\n",
              "      <th></th>\n",
              "      <th></th>\n",
              "    </tr>\n",
              "  </thead>\n",
              "  <tbody>\n",
              "    <tr>\n",
              "      <th>(29.947, 40.6]</th>\n",
              "      <td>0.093023</td>\n",
              "      <td>0.906977</td>\n",
              "    </tr>\n",
              "    <tr>\n",
              "      <th>(40.6, 51.2]</th>\n",
              "      <td>0.313131</td>\n",
              "      <td>0.686869</td>\n",
              "    </tr>\n",
              "    <tr>\n",
              "      <th>(51.2, 61.8]</th>\n",
              "      <td>0.281250</td>\n",
              "      <td>0.718750</td>\n",
              "    </tr>\n",
              "    <tr>\n",
              "      <th>(61.8, 72.4]</th>\n",
              "      <td>0.271186</td>\n",
              "      <td>0.728814</td>\n",
              "    </tr>\n",
              "    <tr>\n",
              "      <th>(72.4, 83.0]</th>\n",
              "      <td>0.333333</td>\n",
              "      <td>0.666667</td>\n",
              "    </tr>\n",
              "  </tbody>\n",
              "</table>\n",
              "</div>"
            ],
            "text/plain": [
              "survival_status         0         1\n",
              "age                                \n",
              "(29.947, 40.6]   0.093023  0.906977\n",
              "(40.6, 51.2]     0.313131  0.686869\n",
              "(51.2, 61.8]     0.281250  0.718750\n",
              "(61.8, 72.4]     0.271186  0.728814\n",
              "(72.4, 83.0]     0.333333  0.666667"
            ]
          },
          "metadata": {
            "tags": []
          },
          "execution_count": 62
        }
      ]
    },
    {
      "metadata": {
        "id": "qj1EKmkUxRCs",
        "colab_type": "code",
        "colab": {
          "base_uri": "https://localhost:8080/",
          "height": 254
        },
        "outputId": "3c793ac7-ee1f-48d3-99a8-60265ed82333"
      },
      "cell_type": "code",
      "source": [
        "# Taking a more detailed look by adding a binned nodes_detected row\n",
        "\n",
        "pd.crosstab(age_bins, [node_bins, df['survival_status']], normalize='index')\n",
        "\n",
        "# This table really only tells us that the most of the nodes data is at the low end\n",
        "# Not a very useful table"
      ],
      "execution_count": 58,
      "outputs": [
        {
          "output_type": "execute_result",
          "data": {
            "text/html": [
              "<div>\n",
              "<style scoped>\n",
              "    .dataframe tbody tr th:only-of-type {\n",
              "        vertical-align: middle;\n",
              "    }\n",
              "\n",
              "    .dataframe tbody tr th {\n",
              "        vertical-align: top;\n",
              "    }\n",
              "\n",
              "    .dataframe thead tr th {\n",
              "        text-align: left;\n",
              "    }\n",
              "\n",
              "    .dataframe thead tr:last-of-type th {\n",
              "        text-align: right;\n",
              "    }\n",
              "</style>\n",
              "<table border=\"1\" class=\"dataframe\">\n",
              "  <thead>\n",
              "    <tr>\n",
              "      <th>nodes_detected</th>\n",
              "      <th colspan=\"2\" halign=\"left\">(-0.052, 10.4]</th>\n",
              "      <th colspan=\"2\" halign=\"left\">(10.4, 20.8]</th>\n",
              "      <th colspan=\"2\" halign=\"left\">(20.8, 31.2]</th>\n",
              "      <th colspan=\"2\" halign=\"left\">(31.2, 41.6]</th>\n",
              "      <th colspan=\"2\" halign=\"left\">(41.6, 52.0]</th>\n",
              "    </tr>\n",
              "    <tr>\n",
              "      <th>survival_status</th>\n",
              "      <th>0</th>\n",
              "      <th>1</th>\n",
              "      <th>0</th>\n",
              "      <th>1</th>\n",
              "      <th>0</th>\n",
              "      <th>1</th>\n",
              "      <th>0</th>\n",
              "      <th>1</th>\n",
              "      <th>0</th>\n",
              "      <th>1</th>\n",
              "    </tr>\n",
              "    <tr>\n",
              "      <th>age</th>\n",
              "      <th></th>\n",
              "      <th></th>\n",
              "      <th></th>\n",
              "      <th></th>\n",
              "      <th></th>\n",
              "      <th></th>\n",
              "      <th></th>\n",
              "      <th></th>\n",
              "      <th></th>\n",
              "      <th></th>\n",
              "    </tr>\n",
              "  </thead>\n",
              "  <tbody>\n",
              "    <tr>\n",
              "      <th>(29.947, 40.6]</th>\n",
              "      <td>0.069767</td>\n",
              "      <td>0.813953</td>\n",
              "      <td>0.000000</td>\n",
              "      <td>0.069767</td>\n",
              "      <td>0.023256</td>\n",
              "      <td>0.023256</td>\n",
              "      <td>0.000000</td>\n",
              "      <td>0.0</td>\n",
              "      <td>0.000000</td>\n",
              "      <td>0.000000</td>\n",
              "    </tr>\n",
              "    <tr>\n",
              "      <th>(40.6, 51.2]</th>\n",
              "      <td>0.222222</td>\n",
              "      <td>0.636364</td>\n",
              "      <td>0.060606</td>\n",
              "      <td>0.050505</td>\n",
              "      <td>0.020202</td>\n",
              "      <td>0.000000</td>\n",
              "      <td>0.000000</td>\n",
              "      <td>0.0</td>\n",
              "      <td>0.010101</td>\n",
              "      <td>0.000000</td>\n",
              "    </tr>\n",
              "    <tr>\n",
              "      <th>(51.2, 61.8]</th>\n",
              "      <td>0.197917</td>\n",
              "      <td>0.666667</td>\n",
              "      <td>0.052083</td>\n",
              "      <td>0.020833</td>\n",
              "      <td>0.020833</td>\n",
              "      <td>0.020833</td>\n",
              "      <td>0.010417</td>\n",
              "      <td>0.0</td>\n",
              "      <td>0.000000</td>\n",
              "      <td>0.010417</td>\n",
              "    </tr>\n",
              "    <tr>\n",
              "      <th>(61.8, 72.4]</th>\n",
              "      <td>0.186441</td>\n",
              "      <td>0.677966</td>\n",
              "      <td>0.067797</td>\n",
              "      <td>0.016949</td>\n",
              "      <td>0.016949</td>\n",
              "      <td>0.033898</td>\n",
              "      <td>0.000000</td>\n",
              "      <td>0.0</td>\n",
              "      <td>0.000000</td>\n",
              "      <td>0.000000</td>\n",
              "    </tr>\n",
              "    <tr>\n",
              "      <th>(72.4, 83.0]</th>\n",
              "      <td>0.333333</td>\n",
              "      <td>0.666667</td>\n",
              "      <td>0.000000</td>\n",
              "      <td>0.000000</td>\n",
              "      <td>0.000000</td>\n",
              "      <td>0.000000</td>\n",
              "      <td>0.000000</td>\n",
              "      <td>0.0</td>\n",
              "      <td>0.000000</td>\n",
              "      <td>0.000000</td>\n",
              "    </tr>\n",
              "  </tbody>\n",
              "</table>\n",
              "</div>"
            ],
            "text/plain": [
              "nodes_detected  (-0.052, 10.4]           (10.4, 20.8]           (20.8, 31.2]  \\\n",
              "survival_status              0         1            0         1            0   \n",
              "age                                                                            \n",
              "(29.947, 40.6]        0.069767  0.813953     0.000000  0.069767     0.023256   \n",
              "(40.6, 51.2]          0.222222  0.636364     0.060606  0.050505     0.020202   \n",
              "(51.2, 61.8]          0.197917  0.666667     0.052083  0.020833     0.020833   \n",
              "(61.8, 72.4]          0.186441  0.677966     0.067797  0.016949     0.016949   \n",
              "(72.4, 83.0]          0.333333  0.666667     0.000000  0.000000     0.000000   \n",
              "\n",
              "nodes_detected            (31.2, 41.6]      (41.6, 52.0]            \n",
              "survival_status         1            0    1            0         1  \n",
              "age                                                                 \n",
              "(29.947, 40.6]   0.023256     0.000000  0.0     0.000000  0.000000  \n",
              "(40.6, 51.2]     0.000000     0.000000  0.0     0.010101  0.000000  \n",
              "(51.2, 61.8]     0.020833     0.010417  0.0     0.000000  0.010417  \n",
              "(61.8, 72.4]     0.033898     0.000000  0.0     0.000000  0.000000  \n",
              "(72.4, 83.0]     0.000000     0.000000  0.0     0.000000  0.000000  "
            ]
          },
          "metadata": {
            "tags": []
          },
          "execution_count": 58
        }
      ]
    },
    {
      "metadata": {
        "id": "iBxUbVhmxRIZ",
        "colab_type": "code",
        "colab": {
          "base_uri": "https://localhost:8080/",
          "height": 225
        },
        "outputId": "60b03e40-64f4-4f3b-ad80-555cbafc356d"
      },
      "cell_type": "code",
      "source": [
        "# Looking at node bins with survival status\n",
        "pd.crosstab(node_bins, df['survival_status'], normalize='index')\n",
        "\n",
        "# From this table, it looks like the fewer nodes detected the higher chance of survival.\n",
        "# But, again, there is not much data at the high end of the node bins"
      ],
      "execution_count": 65,
      "outputs": [
        {
          "output_type": "execute_result",
          "data": {
            "text/html": [
              "<div>\n",
              "<style scoped>\n",
              "    .dataframe tbody tr th:only-of-type {\n",
              "        vertical-align: middle;\n",
              "    }\n",
              "\n",
              "    .dataframe tbody tr th {\n",
              "        vertical-align: top;\n",
              "    }\n",
              "\n",
              "    .dataframe thead th {\n",
              "        text-align: right;\n",
              "    }\n",
              "</style>\n",
              "<table border=\"1\" class=\"dataframe\">\n",
              "  <thead>\n",
              "    <tr style=\"text-align: right;\">\n",
              "      <th>survival_status</th>\n",
              "      <th>0</th>\n",
              "      <th>1</th>\n",
              "    </tr>\n",
              "    <tr>\n",
              "      <th>nodes_detected</th>\n",
              "      <th></th>\n",
              "      <th></th>\n",
              "    </tr>\n",
              "  </thead>\n",
              "  <tbody>\n",
              "    <tr>\n",
              "      <th>(-0.052, 10.4]</th>\n",
              "      <td>0.218045</td>\n",
              "      <td>0.781955</td>\n",
              "    </tr>\n",
              "    <tr>\n",
              "      <th>(10.4, 20.8]</th>\n",
              "      <td>0.576923</td>\n",
              "      <td>0.423077</td>\n",
              "    </tr>\n",
              "    <tr>\n",
              "      <th>(20.8, 31.2]</th>\n",
              "      <td>0.545455</td>\n",
              "      <td>0.454545</td>\n",
              "    </tr>\n",
              "    <tr>\n",
              "      <th>(31.2, 41.6]</th>\n",
              "      <td>1.000000</td>\n",
              "      <td>0.000000</td>\n",
              "    </tr>\n",
              "    <tr>\n",
              "      <th>(41.6, 52.0]</th>\n",
              "      <td>0.500000</td>\n",
              "      <td>0.500000</td>\n",
              "    </tr>\n",
              "  </tbody>\n",
              "</table>\n",
              "</div>"
            ],
            "text/plain": [
              "survival_status         0         1\n",
              "nodes_detected                     \n",
              "(-0.052, 10.4]   0.218045  0.781955\n",
              "(10.4, 20.8]     0.576923  0.423077\n",
              "(20.8, 31.2]     0.545455  0.454545\n",
              "(31.2, 41.6]     1.000000  0.000000\n",
              "(41.6, 52.0]     0.500000  0.500000"
            ]
          },
          "metadata": {
            "tags": []
          },
          "execution_count": 65
        }
      ]
    },
    {
      "metadata": {
        "id": "aGvnJX2sxRM8",
        "colab_type": "code",
        "colab": {
          "base_uri": "https://localhost:8080/",
          "height": 275
        },
        "outputId": "6c0a275e-5c8f-4612-d0aa-add3c5de0cc0"
      },
      "cell_type": "code",
      "source": [
        "# Looking at year bins with survival status\n",
        "\n",
        "print(df['survival_status'].value_counts(normalize=True))\n",
        "pd.crosstab(year_bins, df['survival_status'], normalize='index')\n",
        "\n",
        "# Year compared to survival status doesn't tell us much. The chance of survival\n",
        "# in each bin are very similar to the overall survival rate of the entire dataset"
      ],
      "execution_count": 70,
      "outputs": [
        {
          "output_type": "stream",
          "text": [
            "1    0.735294\n",
            "0    0.264706\n",
            "Name: survival_status, dtype: float64\n"
          ],
          "name": "stdout"
        },
        {
          "output_type": "execute_result",
          "data": {
            "text/html": [
              "<div>\n",
              "<style scoped>\n",
              "    .dataframe tbody tr th:only-of-type {\n",
              "        vertical-align: middle;\n",
              "    }\n",
              "\n",
              "    .dataframe tbody tr th {\n",
              "        vertical-align: top;\n",
              "    }\n",
              "\n",
              "    .dataframe thead th {\n",
              "        text-align: right;\n",
              "    }\n",
              "</style>\n",
              "<table border=\"1\" class=\"dataframe\">\n",
              "  <thead>\n",
              "    <tr style=\"text-align: right;\">\n",
              "      <th>survival_status</th>\n",
              "      <th>0</th>\n",
              "      <th>1</th>\n",
              "    </tr>\n",
              "    <tr>\n",
              "      <th>year</th>\n",
              "      <th></th>\n",
              "      <th></th>\n",
              "    </tr>\n",
              "  </thead>\n",
              "  <tbody>\n",
              "    <tr>\n",
              "      <th>(57.989, 60.2]</th>\n",
              "      <td>0.274725</td>\n",
              "      <td>0.725275</td>\n",
              "    </tr>\n",
              "    <tr>\n",
              "      <th>(60.2, 62.4]</th>\n",
              "      <td>0.204082</td>\n",
              "      <td>0.795918</td>\n",
              "    </tr>\n",
              "    <tr>\n",
              "      <th>(62.4, 64.6]</th>\n",
              "      <td>0.262295</td>\n",
              "      <td>0.737705</td>\n",
              "    </tr>\n",
              "    <tr>\n",
              "      <th>(64.6, 66.8]</th>\n",
              "      <td>0.339286</td>\n",
              "      <td>0.660714</td>\n",
              "    </tr>\n",
              "    <tr>\n",
              "      <th>(66.8, 69.0]</th>\n",
              "      <td>0.224490</td>\n",
              "      <td>0.775510</td>\n",
              "    </tr>\n",
              "  </tbody>\n",
              "</table>\n",
              "</div>"
            ],
            "text/plain": [
              "survival_status         0         1\n",
              "year                               \n",
              "(57.989, 60.2]   0.274725  0.725275\n",
              "(60.2, 62.4]     0.204082  0.795918\n",
              "(62.4, 64.6]     0.262295  0.737705\n",
              "(64.6, 66.8]     0.339286  0.660714\n",
              "(66.8, 69.0]     0.224490  0.775510"
            ]
          },
          "metadata": {
            "tags": []
          },
          "execution_count": 70
        }
      ]
    },
    {
      "metadata": {
        "id": "2j_-QBkAxQ_t",
        "colab_type": "code",
        "colab": {
          "base_uri": "https://localhost:8080/",
          "height": 546
        },
        "outputId": "7190c350-ce4d-4882-ffec-9dcb66132dcf"
      },
      "cell_type": "code",
      "source": [
        "# Taking the most meaningful variables (age, nodes_detected, and survival_status)\n",
        "# and creating a interactive 3d scatter plot\n",
        "\n",
        "import plotly.plotly as py\n",
        "py.sign_in('tesseract314', 'Jc3LvvZzqiVNef3dsp2O')\n",
        "import plotly.graph_objs as go\n",
        "\n",
        "import numpy as np\n",
        "\n",
        "trace1 = go.Scatter3d(\n",
        "    x=df['age'],\n",
        "    y=df['nodes_detected'],\n",
        "    z=df['survival_status'],\n",
        "    mode='markers',\n",
        "    marker=dict(\n",
        "        size=8,\n",
        "        line=dict(\n",
        "            color='rgba(217, 217, 217, 0.14)',\n",
        "            width=0.5\n",
        "        ),\n",
        "        opacity=0.8\n",
        "    )\n",
        ")\n",
        "\n",
        "data = [trace1]\n",
        "layout = go.Layout(margin=dict(l=0, r=0, b=0, t=0))\n",
        "\n",
        "fig = go.Figure(data=data, layout=layout)\n",
        "py.iplot(fig, filename='cancer_data_plot', sharing='public')\n",
        "\n",
        "# Interesting that number of nodes is not a strong predictor of survival\n"
      ],
      "execution_count": 72,
      "outputs": [
        {
          "output_type": "execute_result",
          "data": {
            "text/html": [
              "<iframe id=\"igraph\" scrolling=\"no\" style=\"border:none;\" seamless=\"seamless\" src=\"https://plot.ly/~tesseract314/2.embed\" height=\"525px\" width=\"100%\"></iframe>"
            ],
            "text/plain": [
              "<plotly.tools.PlotlyDisplay object>"
            ]
          },
          "metadata": {
            "tags": []
          },
          "execution_count": 72
        }
      ]
    },
    {
      "metadata": {
        "id": "9FMWDyHGBmyW",
        "colab_type": "code",
        "colab": {
          "base_uri": "https://localhost:8080/",
          "height": 364
        },
        "outputId": "91f76c97-2560-4aa1-8ac8-b2c49c0f7cc1"
      },
      "cell_type": "code",
      "source": [
        "# Vizualizing where the center of the age data is\n",
        "df['age'].plot.density()"
      ],
      "execution_count": 74,
      "outputs": [
        {
          "output_type": "execute_result",
          "data": {
            "text/plain": [
              "<matplotlib.axes._subplots.AxesSubplot at 0x7f6a9e5cdc88>"
            ]
          },
          "metadata": {
            "tags": []
          },
          "execution_count": 74
        },
        {
          "output_type": "display_data",
          "data": {
            "image/png": "[encoded data removed]",
            "text/plain": [
              "<matplotlib.figure.Figure at 0x7f6a9e1634a8>"
            ]
          },
          "metadata": {
            "tags": []
          }
        }
      ]
    },
    {
      "metadata": {
        "id": "ZM8JckA2bgnp",
        "colab_type": "text"
      },
      "cell_type": "markdown",
      "source": [
        "## Part 3 - Analysis and Interpretation\n",
        "\n",
        "Now that you've looked at the data, answer the following questions:\n",
        "\n",
        "- What is at least one feature that looks to have a positive relationship with survival?\n",
        "\n",
        "**The only feature that had a positive relationship with survival is year. However, this relationship is very weak (0.005 correlation). This may be due to the relatively short length of the study (12 years). Maybe over longer periods of time advancements in medicine and technology would show a stronger positive relationship.\n",
        "**\n",
        "\n",
        "- What is at least one feature that looks to have a negative relationship with survival?\n",
        "\n",
        "**There were two features that had a negative relationship with survival: age and the number of positive nodes detected. Their correlations with survival were -0.068 and -0.287, respectively. Intuitively this makes sense because a younger person might be in better overall health and therefore better able to withstand cancer.  Also, more positive nodes detected could mean the spread of cancer is more severe.**\n",
        "\n",
        "- How are those two features related with each other, and what might that mean?\n",
        "\n",
        "**The strongest correlation year had (positive or negative) was with age, at 0.0895. There might not be any definitive reason for this relationship. Maybe the researchers pre-selected all the test patients in 1958 in a specific age range and, as the years progressed, the patients got older. Weird explanation, but it's the only thing I can think of.**\n",
        "\n",
        "**Side Note: The survival rate could be related to a ton of other variables besides age and nodes detected. Many people in the study, even young people, died less than five years after the study without any positive nodes detected.**\n",
        "\n",
        "Answer with text, but feel free to intersperse example code/results or refer to it from earlier."
      ]
    }
  ]
}