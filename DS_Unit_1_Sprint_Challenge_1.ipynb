{
  "nbformat": 4,
  "nbformat_minor": 0,
  "metadata": {
    "colab": {
      "name": "DS_Unit_1_Sprint_Challenge_1.ipynb",
      "version": "0.3.2",
      "provenance": [],
      "collapsed_sections": [],
      "include_colab_link": true
    },
    "kernelspec": {
      "name": "python3",
      "display_name": "Python 3"
    }
  },
  "cells": [
    {
      "cell_type": "markdown",
      "metadata": {
        "id": "view-in-github",
        "colab_type": "text"
      },
      "source": [
        "<a href=\"https://colab.research.google.com/github/johnpharmd/DS-Sprint-01-Dealing-With-Data/blob/master/DS_Unit_1_Sprint_Challenge_1.ipynb\" target=\"_parent\"><img src=\"https://colab.research.google.com/assets/colab-badge.svg\" alt=\"Open In Colab\"/></a>"
      ]
    },
    {
      "metadata": {
        "id": "NooAiTdnafkz",
        "colab_type": "text"
      },
      "cell_type": "markdown",
      "source": [
        "# Data Science Unit 1 Sprint Challenge 1\n",
        "\n",
        "## Loading, cleaning, visualizing, and analyzing data\n",
        "\n",
        "In this sprint challenge you will look at a dataset of the survival of patients who underwent surgery for breast cancer.\n",
        "\n",
        "http://archive.ics.uci.edu/ml/datasets/Haberman%27s+Survival\n",
        "\n",
        "Data Set Information:\n",
        "The dataset contains cases from a study that was conducted between 1958 and 1970 at the University of Chicago's Billings Hospital on the survival of patients who had undergone surgery for breast cancer.\n",
        "\n",
        "Attribute Information:\n",
        "1. Age of patient at time of operation (numerical)\n",
        "2. Patient's year of operation (year - 1900, numerical)\n",
        "3. Number of positive axillary nodes detected (numerical)\n",
        "4. Survival status (class attribute)\n",
        "-- 1 = the patient survived 5 years or longer\n",
        "-- 2 = the patient died within 5 year\n",
        "\n",
        "Sprint challenges are evaluated based on satisfactory completion of each part. It is suggested you work through it in order, getting each aspect reasonably working, before trying to deeply explore, iterate, or refine any given step. Once you get to the end, if you want to go back and improve things, go for it!"
      ]
    },
    {
      "metadata": {
        "id": "5wch6ksCbJtZ",
        "colab_type": "text"
      },
      "cell_type": "markdown",
      "source": [
        "## Part 1 - Load and validate the data\n",
        "\n",
        "- Load the data as a `pandas` data frame.\n",
        "- Validate that it has the appropriate number of observations (you can check the raw file, and also read the dataset description from UCI).\n",
        "- Validate that you have no missing values.\n",
        "- Add informative names to the features.\n",
        "- The survival variable is encoded as 1 for surviving >5 years and 2 for not - change this to be 0 for not surviving and 1 for surviving >5 years (0/1 is a more traditional encoding of binary variables)\n",
        "\n",
        "At the end, print the first five rows of the dataset to demonstrate the above."
      ]
    },
    {
      "metadata": {
        "id": "287TpoGKFRVK",
        "colab_type": "code",
        "colab": {}
      },
      "cell_type": "code",
      "source": [
        "import pandas as pd\n",
        "\n",
        "# Load the data as pd df\n",
        "brca_surv_post_surg_url = 'http://archive.ics.uci.edu/ml/machine-learning-databases/haberman/haberman.data'\n",
        "!curl http://archive.ics.uci.edu/ml/machine-learning-databases/haberman/haberman.data\n",
        "brca_surv_post_surg = pd.read_csv(brca_surv_post_surg_url, header=None)"
      ],
      "execution_count": 0,
      "outputs": []
    },
    {
      "metadata": {
        "id": "111I1smzW42o",
        "colab_type": "code",
        "outputId": "c7141fa6-a643-435f-d98b-9e3139dae60e",
        "colab": {
          "base_uri": "https://localhost:8080/",
          "height": 262
        }
      },
      "cell_type": "code",
      "source": [
        "# Check for appropriate number of obs\n",
        "print(brca_surv_post_surg.shape)\n",
        "\n",
        "# Check for missing values\n",
        "print(brca_surv_post_surg.isnull().sum().sum())\n",
        "print(brca_surv_post_surg.isna().sum().sum())\n",
        "\n",
        "# Rename df columns\n",
        "df = brca_surv_post_surg.rename(columns={0: 'age', 1: 'op_year', 2: 'pos_node_count', 3: 'survival_status'})\n",
        "\n",
        "# Change code for survival <= 5 years from '2' to '0'\n",
        "df.survival_status.replace(2, 0, inplace=True)\n",
        "\n",
        "df.head()\n"
      ],
      "execution_count": 50,
      "outputs": [
        {
          "output_type": "stream",
          "text": [
            "(306, 4)\n",
            "0\n",
            "0\n"
          ],
          "name": "stdout"
        },
        {
          "output_type": "execute_result",
          "data": {
            "text/html": [
              "<div>\n",
              "<style scoped>\n",
              "    .dataframe tbody tr th:only-of-type {\n",
              "        vertical-align: middle;\n",
              "    }\n",
              "\n",
              "    .dataframe tbody tr th {\n",
              "        vertical-align: top;\n",
              "    }\n",
              "\n",
              "    .dataframe thead th {\n",
              "        text-align: right;\n",
              "    }\n",
              "</style>\n",
              "<table border=\"1\" class=\"dataframe\">\n",
              "  <thead>\n",
              "    <tr style=\"text-align: right;\">\n",
              "      <th></th>\n",
              "      <th>age</th>\n",
              "      <th>op_year</th>\n",
              "      <th>pos_node_count</th>\n",
              "      <th>survival_status</th>\n",
              "    </tr>\n",
              "  </thead>\n",
              "  <tbody>\n",
              "    <tr>\n",
              "      <th>0</th>\n",
              "      <td>30</td>\n",
              "      <td>64</td>\n",
              "      <td>1</td>\n",
              "      <td>1</td>\n",
              "    </tr>\n",
              "    <tr>\n",
              "      <th>1</th>\n",
              "      <td>30</td>\n",
              "      <td>62</td>\n",
              "      <td>3</td>\n",
              "      <td>1</td>\n",
              "    </tr>\n",
              "    <tr>\n",
              "      <th>2</th>\n",
              "      <td>30</td>\n",
              "      <td>65</td>\n",
              "      <td>0</td>\n",
              "      <td>1</td>\n",
              "    </tr>\n",
              "    <tr>\n",
              "      <th>3</th>\n",
              "      <td>31</td>\n",
              "      <td>59</td>\n",
              "      <td>2</td>\n",
              "      <td>1</td>\n",
              "    </tr>\n",
              "    <tr>\n",
              "      <th>4</th>\n",
              "      <td>31</td>\n",
              "      <td>65</td>\n",
              "      <td>4</td>\n",
              "      <td>1</td>\n",
              "    </tr>\n",
              "  </tbody>\n",
              "</table>\n",
              "</div>"
            ],
            "text/plain": [
              "   age  op_year  pos_node_count  survival_status\n",
              "0   30       64               1                1\n",
              "1   30       62               3                1\n",
              "2   30       65               0                1\n",
              "3   31       59               2                1\n",
              "4   31       65               4                1"
            ]
          },
          "metadata": {
            "tags": []
          },
          "execution_count": 50
        }
      ]
    },
    {
      "metadata": {
        "id": "G7rLytbrO38L",
        "colab_type": "text"
      },
      "cell_type": "markdown",
      "source": [
        "## Part 2 - Examine the distribution and relationships of the features\n",
        "\n",
        "Explore the data - create at least *2* tables (can be summary statistics or crosstabulations) and *2* plots illustrating the nature of the data.\n",
        "\n",
        "This is open-ended, so to remind - first *complete* this task as a baseline, then go on to the remaining sections, and *then* as time allows revisit and explore further.\n",
        "\n",
        "Hint - you may need to bin some variables depending on your chosen tables/plots."
      ]
    },
    {
      "metadata": {
        "id": "IAkllgCIFVj0",
        "colab_type": "code",
        "colab": {}
      },
      "cell_type": "code",
      "source": [
        "# Create pd crosstabulation of survival status vs. age\n",
        "surv_vs_age = pd.crosstab(df['age'], df['survival_status'])\n",
        "surv_vs_age"
      ],
      "execution_count": 0,
      "outputs": []
    },
    {
      "metadata": {
        "id": "ljLE5p8odlVT",
        "colab_type": "code",
        "colab": {}
      },
      "cell_type": "code",
      "source": [
        "# Create pd crosstab of survival status vs. positive node count\n",
        "surv_vs_pos_nodes = pd.crosstab(df['pos_node_count'], df['survival_status'])\n",
        "surv_vs_pos_nodes"
      ],
      "execution_count": 0,
      "outputs": []
    },
    {
      "metadata": {
        "id": "vUARn_hmdlpC",
        "colab_type": "code",
        "colab": {
          "base_uri": "https://localhost:8080/",
          "height": 363
        },
        "outputId": "9c5a94d7-afff-4b2f-c2c5-1db88b6a1766"
      },
      "cell_type": "code",
      "source": [
        "import matplotlib.pyplot as plt\n",
        "\n",
        "# Plot survival status in 2 bins, versus age\n",
        "\n",
        "# Make bins\n",
        "survival_bins = pd.cut(df['survival_status'], 2)\n",
        "\n",
        "# Make pd crosstab and plot as bar chart\n",
        "ax = pd.crosstab(df['age'], survival_bins,\n",
        "                 normalize='columns').plot(kind='bar', stacked = True, color=('k', 'y'))\n",
        "ax.legend(['survival <= 5 years', ' survival > 5 years']);\n"
      ],
      "execution_count": 64,
      "outputs": [
        {
          "output_type": "display_data",
          "data": {
            "image/png": "[encoded data removed]",
            "text/plain": [
              "<matplotlib.figure.Figure at 0x7fd701ef97f0>"
            ]
          },
          "metadata": {
            "tags": []
          }
        }
      ]
    },
    {
      "metadata": {
        "id": "1X-mmiBLfaCT",
        "colab_type": "code",
        "colab": {
          "base_uri": "https://localhost:8080/",
          "height": 405
        },
        "outputId": "2f67d21b-3f82-4fc7-87f2-4364d9fce04d"
      },
      "cell_type": "code",
      "source": [
        "# Plot survival status in 2 bins, versus positive node count in 5 bins\n",
        "\n",
        "# Make bins\n",
        "survival_bins = pd.cut(df['survival_status'], 2)\n",
        "pos_node_bins = pd.cut(df['pos_node_count'], 10)\n",
        "\n",
        "# Make pd crosstab and plot as bar chart\n",
        "ax = pd.crosstab(pos_node_bins, survival_bins,\n",
        "                 normalize='columns').plot(kind='bar', stacked = True, color=('k', 'y'))\n",
        "ax.legend(['survival <= 5 years', 'survival > 5 years']);"
      ],
      "execution_count": 72,
      "outputs": [
        {
          "output_type": "display_data",
          "data": {
            "image/png": "[encoded data removed]",
            "text/plain": [
              "<matplotlib.figure.Figure at 0x7fd70168c2b0>"
            ]
          },
          "metadata": {
            "tags": []
          }
        }
      ]
    },
    {
      "metadata": {
        "id": "ZM8JckA2bgnp",
        "colab_type": "text"
      },
      "cell_type": "markdown",
      "source": [
        "## Part 3 - Analysis and Interpretation\n",
        "\n",
        "Now that you've looked at the data, answer the following questions:\n",
        "\n",
        "- What is at least one feature that looks to have a positive correlation with survival?\n",
        "- What is at least one feature that looks to have a negative correlation with survival?\n",
        "- How are those two features related with each other, and what might that mean?\n",
        "\n",
        "Answer with text, but feel free to intersperse example code/results or refer to it from earlier."
      ]
    }
  ]
}