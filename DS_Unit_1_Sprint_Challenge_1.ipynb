{
  "nbformat": 4,
  "nbformat_minor": 0,
  "metadata": {
    "colab": {
      "name": "DS_Unit_1_Sprint_Challenge_1.ipynb",
      "version": "0.3.2",
      "provenance": [],
      "collapsed_sections": [],
      "toc_visible": true,
      "include_colab_link": true
    },
    "kernelspec": {
      "name": "python3",
      "display_name": "Python 3"
    }
  },
  "cells": [
    {
      "cell_type": "markdown",
      "metadata": {
        "id": "view-in-github",
        "colab_type": "text"
      },
      "source": [
        "<a href=\"https://colab.research.google.com/github/alastra32/DS-Unit-1-Sprint-1-Dealing-With-Data/blob/master/DS_Unit_1_Sprint_Challenge_1.ipynb\" target=\"_parent\"><img src=\"https://colab.research.google.com/assets/colab-badge.svg\" alt=\"Open In Colab\"/></a>"
      ]
    },
    {
      "cell_type": "markdown",
      "metadata": {
        "id": "NooAiTdnafkz",
        "colab_type": "text"
      },
      "source": [
        "# Data Science Unit 1 Sprint Challenge 1\n",
        "\n",
        "## Loading, cleaning, visualizing, and analyzing data\n",
        "\n",
        "In this sprint challenge you will look at a dataset of the survival of patients who underwent surgery for breast cancer.\n",
        "\n",
        "http://archive.ics.uci.edu/ml/datasets/Haberman%27s+Survival\n",
        "\n",
        "Data Set Information:\n",
        "The dataset contains cases from a study that was conducted between 1958 and 1970 at the University of Chicago's Billings Hospital on the survival of patients who had undergone surgery for breast cancer.\n",
        "\n",
        "Attribute Information:\n",
        "1. Age of patient at time of operation (numerical)\n",
        "2. Patient's year of operation (year - 1900, numerical)\n",
        "3. Number of positive axillary nodes detected (numerical)\n",
        "4. Survival status (class attribute)\n",
        "-- 1 = the patient survived 5 years or longer\n",
        "-- 2 = the patient died within 5 year\n",
        "\n",
        "Sprint challenges are evaluated based on satisfactory completion of each part. It is suggested you work through it in order, getting each aspect reasonably working, before trying to deeply explore, iterate, or refine any given step. Once you get to the end, if you want to go back and improve things, go for it!"
      ]
    },
    {
      "cell_type": "markdown",
      "metadata": {
        "id": "5wch6ksCbJtZ",
        "colab_type": "text"
      },
      "source": [
        "## Part 1 - Load and validate the data\n",
        "\n",
        "- Load the data as a `pandas` data frame.\n",
        "- Validate that it has the appropriate number of observations (you can check the raw file, and also read the dataset description from UCI).\n",
        "- Validate that you have no missing values.\n",
        "- Add informative names to the features.\n",
        "- The survival variable is encoded as 1 for surviving >5 years and 2 for not - change this to be 0 for not surviving and 1 for surviving >5 years (0/1 is a more traditional encoding of binary variables)\n",
        "\n",
        "At the end, print the first five rows of the dataset to demonstrate the above."
      ]
    },
    {
      "cell_type": "code",
      "metadata": {
        "id": "287TpoGKFRVK",
        "colab_type": "code",
        "colab": {}
      },
      "source": [
        "# TODO\n",
        "import numpy as np\n",
        "import pandas as pd\n",
        "import seaborn as sns\n",
        "import matplotlib.pyplot as plt\n",
        "%matplotlib inline\n"
      ],
      "execution_count": 0,
      "outputs": []
    },
    {
      "cell_type": "markdown",
      "metadata": {
        "id": "Nr053zn5OBPd",
        "colab_type": "text"
      },
      "source": [
        "###Load the data as a pandas data frame."
      ]
    },
    {
      "cell_type": "code",
      "metadata": {
        "id": "GAJoJ8h4OEz1",
        "colab_type": "code",
        "colab": {
          "base_uri": "https://localhost:8080/",
          "height": 204
        },
        "outputId": "18475ba5-6b1a-45bf-cd01-13ceb6526526"
      },
      "source": [
        "#Getting the Data\n",
        "!wget http://archive.ics.uci.edu/ml/machine-learning-databases/haberman/haberman.data\n"
      ],
      "execution_count": 2,
      "outputs": [
        {
          "output_type": "stream",
          "text": [
            "--2019-07-22 03:45:52--  http://archive.ics.uci.edu/ml/machine-learning-databases/haberman/haberman.data\n",
            "Resolving archive.ics.uci.edu (archive.ics.uci.edu)... 128.195.10.252\n",
            "Connecting to archive.ics.uci.edu (archive.ics.uci.edu)|128.195.10.252|:80... connected.\n",
            "HTTP request sent, awaiting response... 200 OK\n",
            "Length: 3103 (3.0K) [application/x-httpd-php]\n",
            "Saving to: ‘haberman.data’\n",
            "\n",
            "\rhaberman.data         0%[                    ]       0  --.-KB/s               \rhaberman.data       100%[===================>]   3.03K  --.-KB/s    in 0s      \n",
            "\n",
            "2019-07-22 03:45:52 (412 MB/s) - ‘haberman.data’ saved [3103/3103]\n",
            "\n"
          ],
          "name": "stdout"
        }
      ]
    },
    {
      "cell_type": "code",
      "metadata": {
        "id": "6WRI5hS2OOMC",
        "colab_type": "code",
        "colab": {
          "base_uri": "https://localhost:8080/",
          "height": 34
        },
        "outputId": "8053608c-8d26-4731-8a47-e9a63166e282"
      },
      "source": [
        "!ls"
      ],
      "execution_count": 3,
      "outputs": [
        {
          "output_type": "stream",
          "text": [
            "haberman.data  sample_data\n"
          ],
          "name": "stdout"
        }
      ]
    },
    {
      "cell_type": "code",
      "metadata": {
        "id": "4Pn6QjFdOREy",
        "colab_type": "code",
        "colab": {
          "base_uri": "https://localhost:8080/",
          "height": 187
        },
        "outputId": "90dd80d2-b23c-44b7-81a1-67b9f79458e1"
      },
      "source": [
        "!head haberman.data"
      ],
      "execution_count": 4,
      "outputs": [
        {
          "output_type": "stream",
          "text": [
            "30,64,1,1\n",
            "30,62,3,1\n",
            "30,65,0,1\n",
            "31,59,2,1\n",
            "31,65,4,1\n",
            "33,58,10,1\n",
            "33,60,0,1\n",
            "34,59,0,2\n",
            "34,66,9,2\n",
            "34,58,30,1\n"
          ],
          "name": "stdout"
        }
      ]
    },
    {
      "cell_type": "code",
      "metadata": {
        "id": "inNvxuV3Oxbj",
        "colab_type": "code",
        "colab": {
          "base_uri": "https://localhost:8080/",
          "height": 204
        },
        "outputId": "b39b6e41-9ce2-4ec7-c1be-c0aa75ce1625"
      },
      "source": [
        "!wget http://archive.ics.uci.edu/ml/machine-learning-databases/haberman/haberman.names\n"
      ],
      "execution_count": 5,
      "outputs": [
        {
          "output_type": "stream",
          "text": [
            "--2019-07-22 03:45:55--  http://archive.ics.uci.edu/ml/machine-learning-databases/haberman/haberman.names\n",
            "Resolving archive.ics.uci.edu (archive.ics.uci.edu)... 128.195.10.252\n",
            "Connecting to archive.ics.uci.edu (archive.ics.uci.edu)|128.195.10.252|:80... connected.\n",
            "HTTP request sent, awaiting response... 200 OK\n",
            "Length: 1368 (1.3K) [application/x-httpd-php]\n",
            "Saving to: ‘haberman.names’\n",
            "\n",
            "\rhaberman.names        0%[                    ]       0  --.-KB/s               \rhaberman.names      100%[===================>]   1.34K  --.-KB/s    in 0s      \n",
            "\n",
            "2019-07-22 03:45:55 (172 MB/s) - ‘haberman.names’ saved [1368/1368]\n",
            "\n"
          ],
          "name": "stdout"
        }
      ]
    },
    {
      "cell_type": "code",
      "metadata": {
        "id": "VixsXDrXPabr",
        "colab_type": "code",
        "colab": {
          "base_uri": "https://localhost:8080/",
          "height": 34
        },
        "outputId": "f921ec59-01ac-453b-ab80-ae8440687242"
      },
      "source": [
        "!ls"
      ],
      "execution_count": 6,
      "outputs": [
        {
          "output_type": "stream",
          "text": [
            "haberman.data  haberman.names  sample_data\n"
          ],
          "name": "stdout"
        }
      ]
    },
    {
      "cell_type": "code",
      "metadata": {
        "id": "Wo5sdZRGPcik",
        "colab_type": "code",
        "colab": {
          "base_uri": "https://localhost:8080/",
          "height": 187
        },
        "outputId": "a303419d-af49-476c-ba3e-54fee12d1f6c"
      },
      "source": [
        "!head haberman.names"
      ],
      "execution_count": 7,
      "outputs": [
        {
          "output_type": "stream",
          "text": [
            "1. Title: Haberman's Survival Data\n",
            "\n",
            "2. Sources:\n",
            "   (a) Donor:   Tjen-Sien Lim (limt@stat.wisc.edu)\n",
            "   (b) Date:    March 4, 1999\n",
            "\n",
            "3. Past Usage:\n",
            "   1. Haberman, S. J. (1976). Generalized Residuals for Log-Linear\n",
            "      Models, Proceedings of the 9th International Biometrics\n",
            "      Conference, Boston, pp. 104-122.\n"
          ],
          "name": "stdout"
        }
      ]
    },
    {
      "cell_type": "markdown",
      "metadata": {
        "id": "31wn5z5RPqVh",
        "colab_type": "text"
      },
      "source": [
        "Data Source :http://archive.ics.uci.edu/ml/datasets/Haberman%27s+Survival\n",
        "\n",
        "Abstract: Dataset contains cases from study conducted on the survival of patients who had undergone surgery for breast cancer\n",
        "\n",
        "Data Set Characteristics:  \n",
        "Multivariate\n",
        "\n",
        "Number of Instances:\n",
        "306\n",
        "\n",
        "Area:\n",
        "Life\n",
        "\n",
        "Attribute Characteristics:\n",
        "Integer\n",
        "\n",
        "Number of Attributes:\n",
        "3\n",
        "\n",
        "Date Donated\n",
        "1999-03-04\n",
        "\n",
        "Associated Tasks:\n",
        "Classification\n",
        "\n",
        "Missing Values?\n",
        "No\n",
        "\n",
        "Number of Web Hits:\n",
        "182024\n",
        "\n",
        "\n",
        "Attribute Information:\n",
        "\n",
        "1. Age of patient at time of operation (numerical) \n",
        "2. Patient's year of operation (year - 1900, numerical) \n",
        "3. Number of positive axillary nodes detected (numerical) \n",
        "4. Survival status (class attribute) \n",
        "-- 1 = the patient survived 5 years or longer \n",
        "-- 2 = the patient died within 5 year\n",
        "\n"
      ]
    },
    {
      "cell_type": "code",
      "metadata": {
        "id": "sUzEmEHyPpZN",
        "colab_type": "code",
        "colab": {
          "base_uri": "https://localhost:8080/",
          "height": 204
        },
        "outputId": "89405f4c-c562-49e5-b390-f2c1e1c89d3b"
      },
      "source": [
        "col_headers = ['patient_age','patient_year','positive_axillary_nodes','survival_status']\n",
        "data_url='http://archive.ics.uci.edu/ml/machine-learning-databases/haberman/haberman.data'\n",
        "df = pd.read_csv(data_url, header=None, names=col_headers)\n",
        "\n",
        "df.head()"
      ],
      "execution_count": 8,
      "outputs": [
        {
          "output_type": "execute_result",
          "data": {
            "text/html": [
              "<div>\n",
              "<style scoped>\n",
              "    .dataframe tbody tr th:only-of-type {\n",
              "        vertical-align: middle;\n",
              "    }\n",
              "\n",
              "    .dataframe tbody tr th {\n",
              "        vertical-align: top;\n",
              "    }\n",
              "\n",
              "    .dataframe thead th {\n",
              "        text-align: right;\n",
              "    }\n",
              "</style>\n",
              "<table border=\"1\" class=\"dataframe\">\n",
              "  <thead>\n",
              "    <tr style=\"text-align: right;\">\n",
              "      <th></th>\n",
              "      <th>patient_age</th>\n",
              "      <th>patient_year</th>\n",
              "      <th>positive_axillary_nodes</th>\n",
              "      <th>survival_status</th>\n",
              "    </tr>\n",
              "  </thead>\n",
              "  <tbody>\n",
              "    <tr>\n",
              "      <th>0</th>\n",
              "      <td>30</td>\n",
              "      <td>64</td>\n",
              "      <td>1</td>\n",
              "      <td>1</td>\n",
              "    </tr>\n",
              "    <tr>\n",
              "      <th>1</th>\n",
              "      <td>30</td>\n",
              "      <td>62</td>\n",
              "      <td>3</td>\n",
              "      <td>1</td>\n",
              "    </tr>\n",
              "    <tr>\n",
              "      <th>2</th>\n",
              "      <td>30</td>\n",
              "      <td>65</td>\n",
              "      <td>0</td>\n",
              "      <td>1</td>\n",
              "    </tr>\n",
              "    <tr>\n",
              "      <th>3</th>\n",
              "      <td>31</td>\n",
              "      <td>59</td>\n",
              "      <td>2</td>\n",
              "      <td>1</td>\n",
              "    </tr>\n",
              "    <tr>\n",
              "      <th>4</th>\n",
              "      <td>31</td>\n",
              "      <td>65</td>\n",
              "      <td>4</td>\n",
              "      <td>1</td>\n",
              "    </tr>\n",
              "  </tbody>\n",
              "</table>\n",
              "</div>"
            ],
            "text/plain": [
              "   patient_age  patient_year  positive_axillary_nodes  survival_status\n",
              "0           30            64                        1                1\n",
              "1           30            62                        3                1\n",
              "2           30            65                        0                1\n",
              "3           31            59                        2                1\n",
              "4           31            65                        4                1"
            ]
          },
          "metadata": {
            "tags": []
          },
          "execution_count": 8
        }
      ]
    },
    {
      "cell_type": "markdown",
      "metadata": {
        "id": "Sj8Rqi_qROvU",
        "colab_type": "text"
      },
      "source": [
        "###Validate that it has the appropriate number of observations (you can check the raw file, and also read the dataset description from UCI)."
      ]
    },
    {
      "cell_type": "markdown",
      "metadata": {
        "id": "m7sfUduPRX76",
        "colab_type": "text"
      },
      "source": [
        "From UCI Number of Instances: 306"
      ]
    },
    {
      "cell_type": "code",
      "metadata": {
        "id": "Gj_Ms3o8RBdg",
        "colab_type": "code",
        "colab": {
          "base_uri": "https://localhost:8080/",
          "height": 34
        },
        "outputId": "b637721e-7b4f-406f-d4f1-a972dab93261"
      },
      "source": [
        "print(df.shape)"
      ],
      "execution_count": 9,
      "outputs": [
        {
          "output_type": "stream",
          "text": [
            "(306, 4)\n"
          ],
          "name": "stdout"
        }
      ]
    },
    {
      "cell_type": "code",
      "metadata": {
        "id": "7XxRRQAWRc4J",
        "colab_type": "code",
        "colab": {
          "base_uri": "https://localhost:8080/",
          "height": 170
        },
        "outputId": "6540b0bb-95ed-4d58-f846-20b6a2183e26"
      },
      "source": [
        "df.info()"
      ],
      "execution_count": 10,
      "outputs": [
        {
          "output_type": "stream",
          "text": [
            "<class 'pandas.core.frame.DataFrame'>\n",
            "RangeIndex: 306 entries, 0 to 305\n",
            "Data columns (total 4 columns):\n",
            "patient_age                306 non-null int64\n",
            "patient_year               306 non-null int64\n",
            "positive_axillary_nodes    306 non-null int64\n",
            "survival_status            306 non-null int64\n",
            "dtypes: int64(4)\n",
            "memory usage: 9.6 KB\n"
          ],
          "name": "stdout"
        }
      ]
    },
    {
      "cell_type": "code",
      "metadata": {
        "id": "vY-XYIEwRfmo",
        "colab_type": "code",
        "colab": {
          "base_uri": "https://localhost:8080/",
          "height": 297
        },
        "outputId": "ffb10cdc-3bc6-40be-afad-0ef6c3cacea3"
      },
      "source": [
        "df.describe()"
      ],
      "execution_count": 11,
      "outputs": [
        {
          "output_type": "execute_result",
          "data": {
            "text/html": [
              "<div>\n",
              "<style scoped>\n",
              "    .dataframe tbody tr th:only-of-type {\n",
              "        vertical-align: middle;\n",
              "    }\n",
              "\n",
              "    .dataframe tbody tr th {\n",
              "        vertical-align: top;\n",
              "    }\n",
              "\n",
              "    .dataframe thead th {\n",
              "        text-align: right;\n",
              "    }\n",
              "</style>\n",
              "<table border=\"1\" class=\"dataframe\">\n",
              "  <thead>\n",
              "    <tr style=\"text-align: right;\">\n",
              "      <th></th>\n",
              "      <th>patient_age</th>\n",
              "      <th>patient_year</th>\n",
              "      <th>positive_axillary_nodes</th>\n",
              "      <th>survival_status</th>\n",
              "    </tr>\n",
              "  </thead>\n",
              "  <tbody>\n",
              "    <tr>\n",
              "      <th>count</th>\n",
              "      <td>306.000000</td>\n",
              "      <td>306.000000</td>\n",
              "      <td>306.000000</td>\n",
              "      <td>306.000000</td>\n",
              "    </tr>\n",
              "    <tr>\n",
              "      <th>mean</th>\n",
              "      <td>52.457516</td>\n",
              "      <td>62.852941</td>\n",
              "      <td>4.026144</td>\n",
              "      <td>1.264706</td>\n",
              "    </tr>\n",
              "    <tr>\n",
              "      <th>std</th>\n",
              "      <td>10.803452</td>\n",
              "      <td>3.249405</td>\n",
              "      <td>7.189654</td>\n",
              "      <td>0.441899</td>\n",
              "    </tr>\n",
              "    <tr>\n",
              "      <th>min</th>\n",
              "      <td>30.000000</td>\n",
              "      <td>58.000000</td>\n",
              "      <td>0.000000</td>\n",
              "      <td>1.000000</td>\n",
              "    </tr>\n",
              "    <tr>\n",
              "      <th>25%</th>\n",
              "      <td>44.000000</td>\n",
              "      <td>60.000000</td>\n",
              "      <td>0.000000</td>\n",
              "      <td>1.000000</td>\n",
              "    </tr>\n",
              "    <tr>\n",
              "      <th>50%</th>\n",
              "      <td>52.000000</td>\n",
              "      <td>63.000000</td>\n",
              "      <td>1.000000</td>\n",
              "      <td>1.000000</td>\n",
              "    </tr>\n",
              "    <tr>\n",
              "      <th>75%</th>\n",
              "      <td>60.750000</td>\n",
              "      <td>65.750000</td>\n",
              "      <td>4.000000</td>\n",
              "      <td>2.000000</td>\n",
              "    </tr>\n",
              "    <tr>\n",
              "      <th>max</th>\n",
              "      <td>83.000000</td>\n",
              "      <td>69.000000</td>\n",
              "      <td>52.000000</td>\n",
              "      <td>2.000000</td>\n",
              "    </tr>\n",
              "  </tbody>\n",
              "</table>\n",
              "</div>"
            ],
            "text/plain": [
              "       patient_age  patient_year  positive_axillary_nodes  survival_status\n",
              "count   306.000000    306.000000               306.000000       306.000000\n",
              "mean     52.457516     62.852941                 4.026144         1.264706\n",
              "std      10.803452      3.249405                 7.189654         0.441899\n",
              "min      30.000000     58.000000                 0.000000         1.000000\n",
              "25%      44.000000     60.000000                 0.000000         1.000000\n",
              "50%      52.000000     63.000000                 1.000000         1.000000\n",
              "75%      60.750000     65.750000                 4.000000         2.000000\n",
              "max      83.000000     69.000000                52.000000         2.000000"
            ]
          },
          "metadata": {
            "tags": []
          },
          "execution_count": 11
        }
      ]
    },
    {
      "cell_type": "markdown",
      "metadata": {
        "id": "TFB7mI3pRvz1",
        "colab_type": "text"
      },
      "source": [
        "We have validated that all data was uploaded and in accordance with what the dataset description from UCI determines."
      ]
    },
    {
      "cell_type": "markdown",
      "metadata": {
        "id": "5iFlHWkNSAPz",
        "colab_type": "text"
      },
      "source": [
        "###Validate that you have no missing values."
      ]
    },
    {
      "cell_type": "code",
      "metadata": {
        "id": "7gM29sAASB7D",
        "colab_type": "code",
        "colab": {
          "base_uri": "https://localhost:8080/",
          "height": 102
        },
        "outputId": "fe4bb08e-e2ea-4493-dc1d-4cdbdbc5513f"
      },
      "source": [
        "df.isna().sum()"
      ],
      "execution_count": 12,
      "outputs": [
        {
          "output_type": "execute_result",
          "data": {
            "text/plain": [
              "patient_age                0\n",
              "patient_year               0\n",
              "positive_axillary_nodes    0\n",
              "survival_status            0\n",
              "dtype: int64"
            ]
          },
          "metadata": {
            "tags": []
          },
          "execution_count": 12
        }
      ]
    },
    {
      "cell_type": "code",
      "metadata": {
        "id": "QY9Bk_taSEjZ",
        "colab_type": "code",
        "colab": {
          "base_uri": "https://localhost:8080/",
          "height": 170
        },
        "outputId": "dcb8fc8a-b560-4b50-c182-99d394a7c0fb"
      },
      "source": [
        "df.info()"
      ],
      "execution_count": 13,
      "outputs": [
        {
          "output_type": "stream",
          "text": [
            "<class 'pandas.core.frame.DataFrame'>\n",
            "RangeIndex: 306 entries, 0 to 305\n",
            "Data columns (total 4 columns):\n",
            "patient_age                306 non-null int64\n",
            "patient_year               306 non-null int64\n",
            "positive_axillary_nodes    306 non-null int64\n",
            "survival_status            306 non-null int64\n",
            "dtypes: int64(4)\n",
            "memory usage: 9.6 KB\n"
          ],
          "name": "stdout"
        }
      ]
    },
    {
      "cell_type": "markdown",
      "metadata": {
        "id": "Gt2aL0J2SGva",
        "colab_type": "text"
      },
      "source": [
        "We have validated that the data has no missing values."
      ]
    },
    {
      "cell_type": "markdown",
      "metadata": {
        "id": "mJ1P8iI2SJ75",
        "colab_type": "text"
      },
      "source": [
        "### Add informative names to the features."
      ]
    },
    {
      "cell_type": "code",
      "metadata": {
        "id": "OVPJSNBLScgN",
        "colab_type": "code",
        "colab": {
          "base_uri": "https://localhost:8080/",
          "height": 68
        },
        "outputId": "293a1215-fb02-4221-ebb6-c7f97284bb05"
      },
      "source": [
        "df.columns"
      ],
      "execution_count": 14,
      "outputs": [
        {
          "output_type": "execute_result",
          "data": {
            "text/plain": [
              "Index(['patient_age', 'patient_year', 'positive_axillary_nodes',\n",
              "       'survival_status'],\n",
              "      dtype='object')"
            ]
          },
          "metadata": {
            "tags": []
          },
          "execution_count": 14
        }
      ]
    },
    {
      "cell_type": "markdown",
      "metadata": {
        "id": "IXgyDF1jTAPF",
        "colab_type": "text"
      },
      "source": [
        "As I named the columns I provided them with informative names while I was uploading the data onto the pandas dataframe."
      ]
    },
    {
      "cell_type": "markdown",
      "metadata": {
        "id": "24UzUHWdTHM0",
        "colab_type": "text"
      },
      "source": [
        "###The survival variable is encoded as 1 for surviving >5 years and 2 for not - change this to be 0 for not surviving and 1 for surviving >5 years (0/1 is a more traditional encoding of binary variables)"
      ]
    },
    {
      "cell_type": "code",
      "metadata": {
        "id": "Gwp19dEeTGPk",
        "colab_type": "code",
        "colab": {
          "base_uri": "https://localhost:8080/",
          "height": 204
        },
        "outputId": "bd94dfa2-883c-45cc-a3df-e5876a6eeea2"
      },
      "source": [
        "df['surviving5years']=np.where(df['survival_status'] ==2,0,1)\n",
        "df.head()"
      ],
      "execution_count": 15,
      "outputs": [
        {
          "output_type": "execute_result",
          "data": {
            "text/html": [
              "<div>\n",
              "<style scoped>\n",
              "    .dataframe tbody tr th:only-of-type {\n",
              "        vertical-align: middle;\n",
              "    }\n",
              "\n",
              "    .dataframe tbody tr th {\n",
              "        vertical-align: top;\n",
              "    }\n",
              "\n",
              "    .dataframe thead th {\n",
              "        text-align: right;\n",
              "    }\n",
              "</style>\n",
              "<table border=\"1\" class=\"dataframe\">\n",
              "  <thead>\n",
              "    <tr style=\"text-align: right;\">\n",
              "      <th></th>\n",
              "      <th>patient_age</th>\n",
              "      <th>patient_year</th>\n",
              "      <th>positive_axillary_nodes</th>\n",
              "      <th>survival_status</th>\n",
              "      <th>surviving5years</th>\n",
              "    </tr>\n",
              "  </thead>\n",
              "  <tbody>\n",
              "    <tr>\n",
              "      <th>0</th>\n",
              "      <td>30</td>\n",
              "      <td>64</td>\n",
              "      <td>1</td>\n",
              "      <td>1</td>\n",
              "      <td>1</td>\n",
              "    </tr>\n",
              "    <tr>\n",
              "      <th>1</th>\n",
              "      <td>30</td>\n",
              "      <td>62</td>\n",
              "      <td>3</td>\n",
              "      <td>1</td>\n",
              "      <td>1</td>\n",
              "    </tr>\n",
              "    <tr>\n",
              "      <th>2</th>\n",
              "      <td>30</td>\n",
              "      <td>65</td>\n",
              "      <td>0</td>\n",
              "      <td>1</td>\n",
              "      <td>1</td>\n",
              "    </tr>\n",
              "    <tr>\n",
              "      <th>3</th>\n",
              "      <td>31</td>\n",
              "      <td>59</td>\n",
              "      <td>2</td>\n",
              "      <td>1</td>\n",
              "      <td>1</td>\n",
              "    </tr>\n",
              "    <tr>\n",
              "      <th>4</th>\n",
              "      <td>31</td>\n",
              "      <td>65</td>\n",
              "      <td>4</td>\n",
              "      <td>1</td>\n",
              "      <td>1</td>\n",
              "    </tr>\n",
              "  </tbody>\n",
              "</table>\n",
              "</div>"
            ],
            "text/plain": [
              "   patient_age  patient_year  ...  survival_status  surviving5years\n",
              "0           30            64  ...                1                1\n",
              "1           30            62  ...                1                1\n",
              "2           30            65  ...                1                1\n",
              "3           31            59  ...                1                1\n",
              "4           31            65  ...                1                1\n",
              "\n",
              "[5 rows x 5 columns]"
            ]
          },
          "metadata": {
            "tags": []
          },
          "execution_count": 15
        }
      ]
    },
    {
      "cell_type": "code",
      "metadata": {
        "id": "kWSig10eT6FK",
        "colab_type": "code",
        "colab": {
          "base_uri": "https://localhost:8080/",
          "height": 204
        },
        "outputId": "e9468b25-1def-49a4-958c-0797a31334ef"
      },
      "source": [
        "df[df['survival_status']==2].head()"
      ],
      "execution_count": 16,
      "outputs": [
        {
          "output_type": "execute_result",
          "data": {
            "text/html": [
              "<div>\n",
              "<style scoped>\n",
              "    .dataframe tbody tr th:only-of-type {\n",
              "        vertical-align: middle;\n",
              "    }\n",
              "\n",
              "    .dataframe tbody tr th {\n",
              "        vertical-align: top;\n",
              "    }\n",
              "\n",
              "    .dataframe thead th {\n",
              "        text-align: right;\n",
              "    }\n",
              "</style>\n",
              "<table border=\"1\" class=\"dataframe\">\n",
              "  <thead>\n",
              "    <tr style=\"text-align: right;\">\n",
              "      <th></th>\n",
              "      <th>patient_age</th>\n",
              "      <th>patient_year</th>\n",
              "      <th>positive_axillary_nodes</th>\n",
              "      <th>survival_status</th>\n",
              "      <th>surviving5years</th>\n",
              "    </tr>\n",
              "  </thead>\n",
              "  <tbody>\n",
              "    <tr>\n",
              "      <th>7</th>\n",
              "      <td>34</td>\n",
              "      <td>59</td>\n",
              "      <td>0</td>\n",
              "      <td>2</td>\n",
              "      <td>0</td>\n",
              "    </tr>\n",
              "    <tr>\n",
              "      <th>8</th>\n",
              "      <td>34</td>\n",
              "      <td>66</td>\n",
              "      <td>9</td>\n",
              "      <td>2</td>\n",
              "      <td>0</td>\n",
              "    </tr>\n",
              "    <tr>\n",
              "      <th>24</th>\n",
              "      <td>38</td>\n",
              "      <td>69</td>\n",
              "      <td>21</td>\n",
              "      <td>2</td>\n",
              "      <td>0</td>\n",
              "    </tr>\n",
              "    <tr>\n",
              "      <th>34</th>\n",
              "      <td>39</td>\n",
              "      <td>66</td>\n",
              "      <td>0</td>\n",
              "      <td>2</td>\n",
              "      <td>0</td>\n",
              "    </tr>\n",
              "    <tr>\n",
              "      <th>43</th>\n",
              "      <td>41</td>\n",
              "      <td>60</td>\n",
              "      <td>23</td>\n",
              "      <td>2</td>\n",
              "      <td>0</td>\n",
              "    </tr>\n",
              "  </tbody>\n",
              "</table>\n",
              "</div>"
            ],
            "text/plain": [
              "    patient_age  patient_year  ...  survival_status  surviving5years\n",
              "7            34            59  ...                2                0\n",
              "8            34            66  ...                2                0\n",
              "24           38            69  ...                2                0\n",
              "34           39            66  ...                2                0\n",
              "43           41            60  ...                2                0\n",
              "\n",
              "[5 rows x 5 columns]"
            ]
          },
          "metadata": {
            "tags": []
          },
          "execution_count": 16
        }
      ]
    },
    {
      "cell_type": "markdown",
      "metadata": {
        "id": "8cgGhafFUO-f",
        "colab_type": "text"
      },
      "source": [
        "We've been able to create a new column that has a encoding of binary variables for surviving more than 5 years called \"surviving5years\"."
      ]
    },
    {
      "cell_type": "markdown",
      "metadata": {
        "id": "1BH87uhuUtk4",
        "colab_type": "text"
      },
      "source": [
        "###At the end, print the first five rows of the dataset to demonstrate the above."
      ]
    },
    {
      "cell_type": "code",
      "metadata": {
        "id": "-WrStb7fU19W",
        "colab_type": "code",
        "colab": {
          "base_uri": "https://localhost:8080/",
          "height": 204
        },
        "outputId": "89710ae5-fc8c-43c0-d32f-6dbb346bff58"
      },
      "source": [
        "df.head(5)"
      ],
      "execution_count": 17,
      "outputs": [
        {
          "output_type": "execute_result",
          "data": {
            "text/html": [
              "<div>\n",
              "<style scoped>\n",
              "    .dataframe tbody tr th:only-of-type {\n",
              "        vertical-align: middle;\n",
              "    }\n",
              "\n",
              "    .dataframe tbody tr th {\n",
              "        vertical-align: top;\n",
              "    }\n",
              "\n",
              "    .dataframe thead th {\n",
              "        text-align: right;\n",
              "    }\n",
              "</style>\n",
              "<table border=\"1\" class=\"dataframe\">\n",
              "  <thead>\n",
              "    <tr style=\"text-align: right;\">\n",
              "      <th></th>\n",
              "      <th>patient_age</th>\n",
              "      <th>patient_year</th>\n",
              "      <th>positive_axillary_nodes</th>\n",
              "      <th>survival_status</th>\n",
              "      <th>surviving5years</th>\n",
              "    </tr>\n",
              "  </thead>\n",
              "  <tbody>\n",
              "    <tr>\n",
              "      <th>0</th>\n",
              "      <td>30</td>\n",
              "      <td>64</td>\n",
              "      <td>1</td>\n",
              "      <td>1</td>\n",
              "      <td>1</td>\n",
              "    </tr>\n",
              "    <tr>\n",
              "      <th>1</th>\n",
              "      <td>30</td>\n",
              "      <td>62</td>\n",
              "      <td>3</td>\n",
              "      <td>1</td>\n",
              "      <td>1</td>\n",
              "    </tr>\n",
              "    <tr>\n",
              "      <th>2</th>\n",
              "      <td>30</td>\n",
              "      <td>65</td>\n",
              "      <td>0</td>\n",
              "      <td>1</td>\n",
              "      <td>1</td>\n",
              "    </tr>\n",
              "    <tr>\n",
              "      <th>3</th>\n",
              "      <td>31</td>\n",
              "      <td>59</td>\n",
              "      <td>2</td>\n",
              "      <td>1</td>\n",
              "      <td>1</td>\n",
              "    </tr>\n",
              "    <tr>\n",
              "      <th>4</th>\n",
              "      <td>31</td>\n",
              "      <td>65</td>\n",
              "      <td>4</td>\n",
              "      <td>1</td>\n",
              "      <td>1</td>\n",
              "    </tr>\n",
              "  </tbody>\n",
              "</table>\n",
              "</div>"
            ],
            "text/plain": [
              "   patient_age  patient_year  ...  survival_status  surviving5years\n",
              "0           30            64  ...                1                1\n",
              "1           30            62  ...                1                1\n",
              "2           30            65  ...                1                1\n",
              "3           31            59  ...                1                1\n",
              "4           31            65  ...                1                1\n",
              "\n",
              "[5 rows x 5 columns]"
            ]
          },
          "metadata": {
            "tags": []
          },
          "execution_count": 17
        }
      ]
    },
    {
      "cell_type": "markdown",
      "metadata": {
        "id": "G7rLytbrO38L",
        "colab_type": "text"
      },
      "source": [
        "## Part 2 - Examine the distribution and relationships of the features\n",
        "\n",
        "Explore the data - create at least *2* tables (can be summary statistics or crosstabulations) and *2* plots illustrating the nature of the data.\n",
        "\n",
        "This is open-ended, so to remind - first *complete* this task as a baseline, then go on to the remaining sections, and *then* as time allows revisit and explore further.\n",
        "\n",
        "Hint - you may need to bin some variables depending on your chosen tables/plots."
      ]
    },
    {
      "cell_type": "markdown",
      "metadata": {
        "id": "n3o6OvPAVAzU",
        "colab_type": "text"
      },
      "source": [
        ""
      ]
    },
    {
      "cell_type": "code",
      "metadata": {
        "id": "IAkllgCIFVj0",
        "colab_type": "code",
        "colab": {
          "base_uri": "https://localhost:8080/",
          "height": 204
        },
        "outputId": "731c7246-5751-467d-f782-41207958d892"
      },
      "source": [
        "# TODO\n",
        "\n",
        "df.head()"
      ],
      "execution_count": 18,
      "outputs": [
        {
          "output_type": "execute_result",
          "data": {
            "text/html": [
              "<div>\n",
              "<style scoped>\n",
              "    .dataframe tbody tr th:only-of-type {\n",
              "        vertical-align: middle;\n",
              "    }\n",
              "\n",
              "    .dataframe tbody tr th {\n",
              "        vertical-align: top;\n",
              "    }\n",
              "\n",
              "    .dataframe thead th {\n",
              "        text-align: right;\n",
              "    }\n",
              "</style>\n",
              "<table border=\"1\" class=\"dataframe\">\n",
              "  <thead>\n",
              "    <tr style=\"text-align: right;\">\n",
              "      <th></th>\n",
              "      <th>patient_age</th>\n",
              "      <th>patient_year</th>\n",
              "      <th>positive_axillary_nodes</th>\n",
              "      <th>survival_status</th>\n",
              "      <th>surviving5years</th>\n",
              "    </tr>\n",
              "  </thead>\n",
              "  <tbody>\n",
              "    <tr>\n",
              "      <th>0</th>\n",
              "      <td>30</td>\n",
              "      <td>64</td>\n",
              "      <td>1</td>\n",
              "      <td>1</td>\n",
              "      <td>1</td>\n",
              "    </tr>\n",
              "    <tr>\n",
              "      <th>1</th>\n",
              "      <td>30</td>\n",
              "      <td>62</td>\n",
              "      <td>3</td>\n",
              "      <td>1</td>\n",
              "      <td>1</td>\n",
              "    </tr>\n",
              "    <tr>\n",
              "      <th>2</th>\n",
              "      <td>30</td>\n",
              "      <td>65</td>\n",
              "      <td>0</td>\n",
              "      <td>1</td>\n",
              "      <td>1</td>\n",
              "    </tr>\n",
              "    <tr>\n",
              "      <th>3</th>\n",
              "      <td>31</td>\n",
              "      <td>59</td>\n",
              "      <td>2</td>\n",
              "      <td>1</td>\n",
              "      <td>1</td>\n",
              "    </tr>\n",
              "    <tr>\n",
              "      <th>4</th>\n",
              "      <td>31</td>\n",
              "      <td>65</td>\n",
              "      <td>4</td>\n",
              "      <td>1</td>\n",
              "      <td>1</td>\n",
              "    </tr>\n",
              "  </tbody>\n",
              "</table>\n",
              "</div>"
            ],
            "text/plain": [
              "   patient_age  patient_year  ...  survival_status  surviving5years\n",
              "0           30            64  ...                1                1\n",
              "1           30            62  ...                1                1\n",
              "2           30            65  ...                1                1\n",
              "3           31            59  ...                1                1\n",
              "4           31            65  ...                1                1\n",
              "\n",
              "[5 rows x 5 columns]"
            ]
          },
          "metadata": {
            "tags": []
          },
          "execution_count": 18
        }
      ]
    },
    {
      "cell_type": "code",
      "metadata": {
        "id": "CzjUb4GOV8aw",
        "colab_type": "code",
        "colab": {
          "base_uri": "https://localhost:8080/",
          "height": 297
        },
        "outputId": "e83f38c8-4537-4931-f2ae-e39a44a1b30a"
      },
      "source": [
        "df.describe()"
      ],
      "execution_count": 19,
      "outputs": [
        {
          "output_type": "execute_result",
          "data": {
            "text/html": [
              "<div>\n",
              "<style scoped>\n",
              "    .dataframe tbody tr th:only-of-type {\n",
              "        vertical-align: middle;\n",
              "    }\n",
              "\n",
              "    .dataframe tbody tr th {\n",
              "        vertical-align: top;\n",
              "    }\n",
              "\n",
              "    .dataframe thead th {\n",
              "        text-align: right;\n",
              "    }\n",
              "</style>\n",
              "<table border=\"1\" class=\"dataframe\">\n",
              "  <thead>\n",
              "    <tr style=\"text-align: right;\">\n",
              "      <th></th>\n",
              "      <th>patient_age</th>\n",
              "      <th>patient_year</th>\n",
              "      <th>positive_axillary_nodes</th>\n",
              "      <th>survival_status</th>\n",
              "      <th>surviving5years</th>\n",
              "    </tr>\n",
              "  </thead>\n",
              "  <tbody>\n",
              "    <tr>\n",
              "      <th>count</th>\n",
              "      <td>306.000000</td>\n",
              "      <td>306.000000</td>\n",
              "      <td>306.000000</td>\n",
              "      <td>306.000000</td>\n",
              "      <td>306.000000</td>\n",
              "    </tr>\n",
              "    <tr>\n",
              "      <th>mean</th>\n",
              "      <td>52.457516</td>\n",
              "      <td>62.852941</td>\n",
              "      <td>4.026144</td>\n",
              "      <td>1.264706</td>\n",
              "      <td>0.735294</td>\n",
              "    </tr>\n",
              "    <tr>\n",
              "      <th>std</th>\n",
              "      <td>10.803452</td>\n",
              "      <td>3.249405</td>\n",
              "      <td>7.189654</td>\n",
              "      <td>0.441899</td>\n",
              "      <td>0.441899</td>\n",
              "    </tr>\n",
              "    <tr>\n",
              "      <th>min</th>\n",
              "      <td>30.000000</td>\n",
              "      <td>58.000000</td>\n",
              "      <td>0.000000</td>\n",
              "      <td>1.000000</td>\n",
              "      <td>0.000000</td>\n",
              "    </tr>\n",
              "    <tr>\n",
              "      <th>25%</th>\n",
              "      <td>44.000000</td>\n",
              "      <td>60.000000</td>\n",
              "      <td>0.000000</td>\n",
              "      <td>1.000000</td>\n",
              "      <td>0.000000</td>\n",
              "    </tr>\n",
              "    <tr>\n",
              "      <th>50%</th>\n",
              "      <td>52.000000</td>\n",
              "      <td>63.000000</td>\n",
              "      <td>1.000000</td>\n",
              "      <td>1.000000</td>\n",
              "      <td>1.000000</td>\n",
              "    </tr>\n",
              "    <tr>\n",
              "      <th>75%</th>\n",
              "      <td>60.750000</td>\n",
              "      <td>65.750000</td>\n",
              "      <td>4.000000</td>\n",
              "      <td>2.000000</td>\n",
              "      <td>1.000000</td>\n",
              "    </tr>\n",
              "    <tr>\n",
              "      <th>max</th>\n",
              "      <td>83.000000</td>\n",
              "      <td>69.000000</td>\n",
              "      <td>52.000000</td>\n",
              "      <td>2.000000</td>\n",
              "      <td>1.000000</td>\n",
              "    </tr>\n",
              "  </tbody>\n",
              "</table>\n",
              "</div>"
            ],
            "text/plain": [
              "       patient_age  patient_year  ...  survival_status  surviving5years\n",
              "count   306.000000    306.000000  ...       306.000000       306.000000\n",
              "mean     52.457516     62.852941  ...         1.264706         0.735294\n",
              "std      10.803452      3.249405  ...         0.441899         0.441899\n",
              "min      30.000000     58.000000  ...         1.000000         0.000000\n",
              "25%      44.000000     60.000000  ...         1.000000         0.000000\n",
              "50%      52.000000     63.000000  ...         1.000000         1.000000\n",
              "75%      60.750000     65.750000  ...         2.000000         1.000000\n",
              "max      83.000000     69.000000  ...         2.000000         1.000000\n",
              "\n",
              "[8 rows x 5 columns]"
            ]
          },
          "metadata": {
            "tags": []
          },
          "execution_count": 19
        }
      ]
    },
    {
      "cell_type": "code",
      "metadata": {
        "id": "DATXzdsvVX6P",
        "colab_type": "code",
        "colab": {
          "base_uri": "https://localhost:8080/",
          "height": 295
        },
        "outputId": "8e7f387f-fd9a-453d-b87f-8aab31fdef80"
      },
      "source": [
        "df.patient_age.hist()\n",
        "plt.title ('Patient Age Distribution')\n",
        "plt.ylabel('Count')\n",
        "plt.xlabel('Patient Age')\n",
        "plt.show()"
      ],
      "execution_count": 20,
      "outputs": [
        {
          "output_type": "display_data",
          "data": {
            "image/png": "[encoded data removed]",
            "text/plain": [
              "<Figure size 432x288 with 1 Axes>"
            ]
          },
          "metadata": {
            "tags": []
          }
        }
      ]
    },
    {
      "cell_type": "code",
      "metadata": {
        "id": "bFeaCYknWJC2",
        "colab_type": "code",
        "colab": {
          "base_uri": "https://localhost:8080/",
          "height": 295
        },
        "outputId": "b1e71abb-e388-4ca7-8fae-e95695ab9f1f"
      },
      "source": [
        "df.patient_year.hist(color='green',bins=12)\n",
        "plt.title ('Patients by Year')\n",
        "plt.ylabel('Count')\n",
        "plt.xlabel('Year')\n",
        "plt.show()"
      ],
      "execution_count": 21,
      "outputs": [
        {
          "output_type": "display_data",
          "data": {
            "image/png": "[encoded data removed]",
            "text/plain": [
              "<Figure size 432x288 with 1 Axes>"
            ]
          },
          "metadata": {
            "tags": []
          }
        }
      ]
    },
    {
      "cell_type": "code",
      "metadata": {
        "id": "i5mi61r3Wrbw",
        "colab_type": "code",
        "colab": {
          "base_uri": "https://localhost:8080/",
          "height": 295
        },
        "outputId": "574f6a2b-a2a3-448a-cbcc-e9d2d4025b2b"
      },
      "source": [
        "df.positive_axillary_nodes.hist(color='red')\n",
        "plt.title ('Number of positive axillary nodes detected Distribution')\n",
        "plt.ylabel('Count')\n",
        "plt.xlabel('Number of positive axillary nodes detected')\n",
        "plt.show()"
      ],
      "execution_count": 22,
      "outputs": [
        {
          "output_type": "display_data",
          "data": {
            "image/png": "[encoded data removed]",
            "text/plain": [
              "<Figure size 432x288 with 1 Axes>"
            ]
          },
          "metadata": {
            "tags": []
          }
        }
      ]
    },
    {
      "cell_type": "code",
      "metadata": {
        "id": "eyR7txp_W699",
        "colab_type": "code",
        "colab": {
          "base_uri": "https://localhost:8080/",
          "height": 295
        },
        "outputId": "cea54309-db8d-411e-82e4-b5d6a0ebcc93"
      },
      "source": [
        "df.surviving5years.hist(color='Purple')\n",
        "plt.title ('Survived >5 years')\n",
        "plt.ylabel('Count')\n",
        "plt.xlabel('Survived >5 years')\n",
        "plt.show()"
      ],
      "execution_count": 23,
      "outputs": [
        {
          "output_type": "display_data",
          "data": {
            "image/png": "[encoded data removed]",
            "text/plain": [
              "<Figure size 432x288 with 1 Axes>"
            ]
          },
          "metadata": {
            "tags": []
          }
        }
      ]
    },
    {
      "cell_type": "code",
      "metadata": {
        "id": "5ZKS-rDmXmKy",
        "colab_type": "code",
        "colab": {
          "base_uri": "https://localhost:8080/",
          "height": 204
        },
        "outputId": "66bab904-9e42-4160-fcb8-3aa14786a546"
      },
      "source": [
        "# Binning Age\n",
        "\n",
        "df['age_bins']=pd.cut(df['patient_age'],[29,39,49,59,69,79,89])\n",
        "df['nodes_bins']=pd.cut(df['positive_axillary_nodes'],[-1,5,10,15,20,25,53], include_lowest=True ).astype('<U32')\n",
        "\n",
        "df.head()\n"
      ],
      "execution_count": 24,
      "outputs": [
        {
          "output_type": "execute_result",
          "data": {
            "text/html": [
              "<div>\n",
              "<style scoped>\n",
              "    .dataframe tbody tr th:only-of-type {\n",
              "        vertical-align: middle;\n",
              "    }\n",
              "\n",
              "    .dataframe tbody tr th {\n",
              "        vertical-align: top;\n",
              "    }\n",
              "\n",
              "    .dataframe thead th {\n",
              "        text-align: right;\n",
              "    }\n",
              "</style>\n",
              "<table border=\"1\" class=\"dataframe\">\n",
              "  <thead>\n",
              "    <tr style=\"text-align: right;\">\n",
              "      <th></th>\n",
              "      <th>patient_age</th>\n",
              "      <th>patient_year</th>\n",
              "      <th>positive_axillary_nodes</th>\n",
              "      <th>survival_status</th>\n",
              "      <th>surviving5years</th>\n",
              "      <th>age_bins</th>\n",
              "      <th>nodes_bins</th>\n",
              "    </tr>\n",
              "  </thead>\n",
              "  <tbody>\n",
              "    <tr>\n",
              "      <th>0</th>\n",
              "      <td>30</td>\n",
              "      <td>64</td>\n",
              "      <td>1</td>\n",
              "      <td>1</td>\n",
              "      <td>1</td>\n",
              "      <td>(29, 39]</td>\n",
              "      <td>(-1.001, 5.0]</td>\n",
              "    </tr>\n",
              "    <tr>\n",
              "      <th>1</th>\n",
              "      <td>30</td>\n",
              "      <td>62</td>\n",
              "      <td>3</td>\n",
              "      <td>1</td>\n",
              "      <td>1</td>\n",
              "      <td>(29, 39]</td>\n",
              "      <td>(-1.001, 5.0]</td>\n",
              "    </tr>\n",
              "    <tr>\n",
              "      <th>2</th>\n",
              "      <td>30</td>\n",
              "      <td>65</td>\n",
              "      <td>0</td>\n",
              "      <td>1</td>\n",
              "      <td>1</td>\n",
              "      <td>(29, 39]</td>\n",
              "      <td>(-1.001, 5.0]</td>\n",
              "    </tr>\n",
              "    <tr>\n",
              "      <th>3</th>\n",
              "      <td>31</td>\n",
              "      <td>59</td>\n",
              "      <td>2</td>\n",
              "      <td>1</td>\n",
              "      <td>1</td>\n",
              "      <td>(29, 39]</td>\n",
              "      <td>(-1.001, 5.0]</td>\n",
              "    </tr>\n",
              "    <tr>\n",
              "      <th>4</th>\n",
              "      <td>31</td>\n",
              "      <td>65</td>\n",
              "      <td>4</td>\n",
              "      <td>1</td>\n",
              "      <td>1</td>\n",
              "      <td>(29, 39]</td>\n",
              "      <td>(-1.001, 5.0]</td>\n",
              "    </tr>\n",
              "  </tbody>\n",
              "</table>\n",
              "</div>"
            ],
            "text/plain": [
              "   patient_age  patient_year  ...  age_bins     nodes_bins\n",
              "0           30            64  ...  (29, 39]  (-1.001, 5.0]\n",
              "1           30            62  ...  (29, 39]  (-1.001, 5.0]\n",
              "2           30            65  ...  (29, 39]  (-1.001, 5.0]\n",
              "3           31            59  ...  (29, 39]  (-1.001, 5.0]\n",
              "4           31            65  ...  (29, 39]  (-1.001, 5.0]\n",
              "\n",
              "[5 rows x 7 columns]"
            ]
          },
          "metadata": {
            "tags": []
          },
          "execution_count": 24
        }
      ]
    },
    {
      "cell_type": "code",
      "metadata": {
        "id": "wYRuicISZDHa",
        "colab_type": "code",
        "colab": {
          "base_uri": "https://localhost:8080/",
          "height": 266
        },
        "outputId": "766ef984-287f-444b-f4e1-d38fde9cb722"
      },
      "source": [
        "pd.crosstab(df['age_bins'], df['patient_year'],normalize='all')"
      ],
      "execution_count": 25,
      "outputs": [
        {
          "output_type": "execute_result",
          "data": {
            "text/html": [
              "<div>\n",
              "<style scoped>\n",
              "    .dataframe tbody tr th:only-of-type {\n",
              "        vertical-align: middle;\n",
              "    }\n",
              "\n",
              "    .dataframe tbody tr th {\n",
              "        vertical-align: top;\n",
              "    }\n",
              "\n",
              "    .dataframe thead th {\n",
              "        text-align: right;\n",
              "    }\n",
              "</style>\n",
              "<table border=\"1\" class=\"dataframe\">\n",
              "  <thead>\n",
              "    <tr style=\"text-align: right;\">\n",
              "      <th>patient_year</th>\n",
              "      <th>58</th>\n",
              "      <th>59</th>\n",
              "      <th>60</th>\n",
              "      <th>61</th>\n",
              "      <th>62</th>\n",
              "      <th>63</th>\n",
              "      <th>64</th>\n",
              "      <th>65</th>\n",
              "      <th>66</th>\n",
              "      <th>67</th>\n",
              "      <th>68</th>\n",
              "      <th>69</th>\n",
              "    </tr>\n",
              "    <tr>\n",
              "      <th>age_bins</th>\n",
              "      <th></th>\n",
              "      <th></th>\n",
              "      <th></th>\n",
              "      <th></th>\n",
              "      <th></th>\n",
              "      <th></th>\n",
              "      <th></th>\n",
              "      <th></th>\n",
              "      <th></th>\n",
              "      <th></th>\n",
              "      <th></th>\n",
              "      <th></th>\n",
              "    </tr>\n",
              "  </thead>\n",
              "  <tbody>\n",
              "    <tr>\n",
              "      <th>(29, 39]</th>\n",
              "      <td>0.013072</td>\n",
              "      <td>0.016340</td>\n",
              "      <td>0.029412</td>\n",
              "      <td>0.003268</td>\n",
              "      <td>0.006536</td>\n",
              "      <td>0.016340</td>\n",
              "      <td>0.009804</td>\n",
              "      <td>0.006536</td>\n",
              "      <td>0.013072</td>\n",
              "      <td>0.009804</td>\n",
              "      <td>0.000000</td>\n",
              "      <td>0.006536</td>\n",
              "    </tr>\n",
              "    <tr>\n",
              "      <th>(39, 49]</th>\n",
              "      <td>0.035948</td>\n",
              "      <td>0.019608</td>\n",
              "      <td>0.019608</td>\n",
              "      <td>0.022876</td>\n",
              "      <td>0.022876</td>\n",
              "      <td>0.032680</td>\n",
              "      <td>0.032680</td>\n",
              "      <td>0.026144</td>\n",
              "      <td>0.019608</td>\n",
              "      <td>0.026144</td>\n",
              "      <td>0.006536</td>\n",
              "      <td>0.009804</td>\n",
              "    </tr>\n",
              "    <tr>\n",
              "      <th>(49, 59]</th>\n",
              "      <td>0.029412</td>\n",
              "      <td>0.029412</td>\n",
              "      <td>0.035948</td>\n",
              "      <td>0.029412</td>\n",
              "      <td>0.026144</td>\n",
              "      <td>0.029412</td>\n",
              "      <td>0.039216</td>\n",
              "      <td>0.026144</td>\n",
              "      <td>0.029412</td>\n",
              "      <td>0.019608</td>\n",
              "      <td>0.009804</td>\n",
              "      <td>0.019608</td>\n",
              "    </tr>\n",
              "    <tr>\n",
              "      <th>(59, 69]</th>\n",
              "      <td>0.026144</td>\n",
              "      <td>0.019608</td>\n",
              "      <td>0.006536</td>\n",
              "      <td>0.029412</td>\n",
              "      <td>0.013072</td>\n",
              "      <td>0.009804</td>\n",
              "      <td>0.016340</td>\n",
              "      <td>0.022876</td>\n",
              "      <td>0.026144</td>\n",
              "      <td>0.016340</td>\n",
              "      <td>0.016340</td>\n",
              "      <td>0.000000</td>\n",
              "    </tr>\n",
              "    <tr>\n",
              "      <th>(69, 79]</th>\n",
              "      <td>0.009804</td>\n",
              "      <td>0.003268</td>\n",
              "      <td>0.000000</td>\n",
              "      <td>0.000000</td>\n",
              "      <td>0.006536</td>\n",
              "      <td>0.009804</td>\n",
              "      <td>0.003268</td>\n",
              "      <td>0.009804</td>\n",
              "      <td>0.003268</td>\n",
              "      <td>0.009804</td>\n",
              "      <td>0.009804</td>\n",
              "      <td>0.000000</td>\n",
              "    </tr>\n",
              "    <tr>\n",
              "      <th>(79, 89]</th>\n",
              "      <td>0.003268</td>\n",
              "      <td>0.000000</td>\n",
              "      <td>0.000000</td>\n",
              "      <td>0.000000</td>\n",
              "      <td>0.000000</td>\n",
              "      <td>0.000000</td>\n",
              "      <td>0.000000</td>\n",
              "      <td>0.000000</td>\n",
              "      <td>0.000000</td>\n",
              "      <td>0.000000</td>\n",
              "      <td>0.000000</td>\n",
              "      <td>0.000000</td>\n",
              "    </tr>\n",
              "  </tbody>\n",
              "</table>\n",
              "</div>"
            ],
            "text/plain": [
              "patient_year        58        59        60  ...        67        68        69\n",
              "age_bins                                    ...                              \n",
              "(29, 39]      0.013072  0.016340  0.029412  ...  0.009804  0.000000  0.006536\n",
              "(39, 49]      0.035948  0.019608  0.019608  ...  0.026144  0.006536  0.009804\n",
              "(49, 59]      0.029412  0.029412  0.035948  ...  0.019608  0.009804  0.019608\n",
              "(59, 69]      0.026144  0.019608  0.006536  ...  0.016340  0.016340  0.000000\n",
              "(69, 79]      0.009804  0.003268  0.000000  ...  0.009804  0.009804  0.000000\n",
              "(79, 89]      0.003268  0.000000  0.000000  ...  0.000000  0.000000  0.000000\n",
              "\n",
              "[6 rows x 12 columns]"
            ]
          },
          "metadata": {
            "tags": []
          },
          "execution_count": 25
        }
      ]
    },
    {
      "cell_type": "code",
      "metadata": {
        "id": "WU6sodUWZlnJ",
        "colab_type": "code",
        "colab": {
          "base_uri": "https://localhost:8080/",
          "height": 266
        },
        "outputId": "315fbdca-3d6a-424e-9e9b-c3ee25e4dc7a"
      },
      "source": [
        "pd.crosstab(df['age_bins'], df['nodes_bins'])"
      ],
      "execution_count": 26,
      "outputs": [
        {
          "output_type": "execute_result",
          "data": {
            "text/html": [
              "<div>\n",
              "<style scoped>\n",
              "    .dataframe tbody tr th:only-of-type {\n",
              "        vertical-align: middle;\n",
              "    }\n",
              "\n",
              "    .dataframe tbody tr th {\n",
              "        vertical-align: top;\n",
              "    }\n",
              "\n",
              "    .dataframe thead th {\n",
              "        text-align: right;\n",
              "    }\n",
              "</style>\n",
              "<table border=\"1\" class=\"dataframe\">\n",
              "  <thead>\n",
              "    <tr style=\"text-align: right;\">\n",
              "      <th>nodes_bins</th>\n",
              "      <th>(-1.001, 5.0]</th>\n",
              "      <th>(10.0, 15.0]</th>\n",
              "      <th>(15.0, 20.0]</th>\n",
              "      <th>(20.0, 25.0]</th>\n",
              "      <th>(25.0, 53.0]</th>\n",
              "      <th>(5.0, 10.0]</th>\n",
              "    </tr>\n",
              "    <tr>\n",
              "      <th>age_bins</th>\n",
              "      <th></th>\n",
              "      <th></th>\n",
              "      <th></th>\n",
              "      <th></th>\n",
              "      <th></th>\n",
              "      <th></th>\n",
              "    </tr>\n",
              "  </thead>\n",
              "  <tbody>\n",
              "    <tr>\n",
              "      <th>(29, 39]</th>\n",
              "      <td>30</td>\n",
              "      <td>3</td>\n",
              "      <td>0</td>\n",
              "      <td>1</td>\n",
              "      <td>1</td>\n",
              "      <td>5</td>\n",
              "    </tr>\n",
              "    <tr>\n",
              "      <th>(39, 49]</th>\n",
              "      <td>63</td>\n",
              "      <td>5</td>\n",
              "      <td>4</td>\n",
              "      <td>2</td>\n",
              "      <td>1</td>\n",
              "      <td>9</td>\n",
              "    </tr>\n",
              "    <tr>\n",
              "      <th>(49, 59]</th>\n",
              "      <td>76</td>\n",
              "      <td>6</td>\n",
              "      <td>2</td>\n",
              "      <td>3</td>\n",
              "      <td>2</td>\n",
              "      <td>10</td>\n",
              "    </tr>\n",
              "    <tr>\n",
              "      <th>(59, 69]</th>\n",
              "      <td>48</td>\n",
              "      <td>3</td>\n",
              "      <td>2</td>\n",
              "      <td>3</td>\n",
              "      <td>1</td>\n",
              "      <td>5</td>\n",
              "    </tr>\n",
              "    <tr>\n",
              "      <th>(69, 79]</th>\n",
              "      <td>18</td>\n",
              "      <td>1</td>\n",
              "      <td>0</td>\n",
              "      <td>0</td>\n",
              "      <td>0</td>\n",
              "      <td>1</td>\n",
              "    </tr>\n",
              "    <tr>\n",
              "      <th>(79, 89]</th>\n",
              "      <td>1</td>\n",
              "      <td>0</td>\n",
              "      <td>0</td>\n",
              "      <td>0</td>\n",
              "      <td>0</td>\n",
              "      <td>0</td>\n",
              "    </tr>\n",
              "  </tbody>\n",
              "</table>\n",
              "</div>"
            ],
            "text/plain": [
              "nodes_bins  (-1.001, 5.0]  (10.0, 15.0]  ...  (25.0, 53.0]  (5.0, 10.0]\n",
              "age_bins                                 ...                           \n",
              "(29, 39]               30             3  ...             1            5\n",
              "(39, 49]               63             5  ...             1            9\n",
              "(49, 59]               76             6  ...             2           10\n",
              "(59, 69]               48             3  ...             1            5\n",
              "(69, 79]               18             1  ...             0            1\n",
              "(79, 89]                1             0  ...             0            0\n",
              "\n",
              "[6 rows x 6 columns]"
            ]
          },
          "metadata": {
            "tags": []
          },
          "execution_count": 26
        }
      ]
    },
    {
      "cell_type": "code",
      "metadata": {
        "id": "FUNUNm_8bnnC",
        "colab_type": "code",
        "colab": {
          "base_uri": "https://localhost:8080/",
          "height": 266
        },
        "outputId": "b6360954-5d20-4ce2-ad3a-c527a813b774"
      },
      "source": [
        "pd.crosstab(df['age_bins'], df['surviving5years'],normalize='all')"
      ],
      "execution_count": 27,
      "outputs": [
        {
          "output_type": "execute_result",
          "data": {
            "text/html": [
              "<div>\n",
              "<style scoped>\n",
              "    .dataframe tbody tr th:only-of-type {\n",
              "        vertical-align: middle;\n",
              "    }\n",
              "\n",
              "    .dataframe tbody tr th {\n",
              "        vertical-align: top;\n",
              "    }\n",
              "\n",
              "    .dataframe thead th {\n",
              "        text-align: right;\n",
              "    }\n",
              "</style>\n",
              "<table border=\"1\" class=\"dataframe\">\n",
              "  <thead>\n",
              "    <tr style=\"text-align: right;\">\n",
              "      <th>surviving5years</th>\n",
              "      <th>0</th>\n",
              "      <th>1</th>\n",
              "    </tr>\n",
              "    <tr>\n",
              "      <th>age_bins</th>\n",
              "      <th></th>\n",
              "      <th></th>\n",
              "    </tr>\n",
              "  </thead>\n",
              "  <tbody>\n",
              "    <tr>\n",
              "      <th>(29, 39]</th>\n",
              "      <td>0.013072</td>\n",
              "      <td>0.117647</td>\n",
              "    </tr>\n",
              "    <tr>\n",
              "      <th>(39, 49]</th>\n",
              "      <td>0.088235</td>\n",
              "      <td>0.186275</td>\n",
              "    </tr>\n",
              "    <tr>\n",
              "      <th>(49, 59]</th>\n",
              "      <td>0.084967</td>\n",
              "      <td>0.238562</td>\n",
              "    </tr>\n",
              "    <tr>\n",
              "      <th>(59, 69]</th>\n",
              "      <td>0.058824</td>\n",
              "      <td>0.143791</td>\n",
              "    </tr>\n",
              "    <tr>\n",
              "      <th>(69, 79]</th>\n",
              "      <td>0.016340</td>\n",
              "      <td>0.049020</td>\n",
              "    </tr>\n",
              "    <tr>\n",
              "      <th>(79, 89]</th>\n",
              "      <td>0.003268</td>\n",
              "      <td>0.000000</td>\n",
              "    </tr>\n",
              "  </tbody>\n",
              "</table>\n",
              "</div>"
            ],
            "text/plain": [
              "surviving5years         0         1\n",
              "age_bins                           \n",
              "(29, 39]         0.013072  0.117647\n",
              "(39, 49]         0.088235  0.186275\n",
              "(49, 59]         0.084967  0.238562\n",
              "(59, 69]         0.058824  0.143791\n",
              "(69, 79]         0.016340  0.049020\n",
              "(79, 89]         0.003268  0.000000"
            ]
          },
          "metadata": {
            "tags": []
          },
          "execution_count": 27
        }
      ]
    },
    {
      "cell_type": "code",
      "metadata": {
        "id": "8eUnSSApmpmE",
        "colab_type": "code",
        "colab": {
          "base_uri": "https://localhost:8080/",
          "height": 266
        },
        "outputId": "a44a843d-e36c-48cb-879e-77496009cc6c"
      },
      "source": [
        "pd.crosstab(df['age_bins'], df['surviving5years'],normalize='index')"
      ],
      "execution_count": 28,
      "outputs": [
        {
          "output_type": "execute_result",
          "data": {
            "text/html": [
              "<div>\n",
              "<style scoped>\n",
              "    .dataframe tbody tr th:only-of-type {\n",
              "        vertical-align: middle;\n",
              "    }\n",
              "\n",
              "    .dataframe tbody tr th {\n",
              "        vertical-align: top;\n",
              "    }\n",
              "\n",
              "    .dataframe thead th {\n",
              "        text-align: right;\n",
              "    }\n",
              "</style>\n",
              "<table border=\"1\" class=\"dataframe\">\n",
              "  <thead>\n",
              "    <tr style=\"text-align: right;\">\n",
              "      <th>surviving5years</th>\n",
              "      <th>0</th>\n",
              "      <th>1</th>\n",
              "    </tr>\n",
              "    <tr>\n",
              "      <th>age_bins</th>\n",
              "      <th></th>\n",
              "      <th></th>\n",
              "    </tr>\n",
              "  </thead>\n",
              "  <tbody>\n",
              "    <tr>\n",
              "      <th>(29, 39]</th>\n",
              "      <td>0.100000</td>\n",
              "      <td>0.900000</td>\n",
              "    </tr>\n",
              "    <tr>\n",
              "      <th>(39, 49]</th>\n",
              "      <td>0.321429</td>\n",
              "      <td>0.678571</td>\n",
              "    </tr>\n",
              "    <tr>\n",
              "      <th>(49, 59]</th>\n",
              "      <td>0.262626</td>\n",
              "      <td>0.737374</td>\n",
              "    </tr>\n",
              "    <tr>\n",
              "      <th>(59, 69]</th>\n",
              "      <td>0.290323</td>\n",
              "      <td>0.709677</td>\n",
              "    </tr>\n",
              "    <tr>\n",
              "      <th>(69, 79]</th>\n",
              "      <td>0.250000</td>\n",
              "      <td>0.750000</td>\n",
              "    </tr>\n",
              "    <tr>\n",
              "      <th>(79, 89]</th>\n",
              "      <td>1.000000</td>\n",
              "      <td>0.000000</td>\n",
              "    </tr>\n",
              "  </tbody>\n",
              "</table>\n",
              "</div>"
            ],
            "text/plain": [
              "surviving5years         0         1\n",
              "age_bins                           \n",
              "(29, 39]         0.100000  0.900000\n",
              "(39, 49]         0.321429  0.678571\n",
              "(49, 59]         0.262626  0.737374\n",
              "(59, 69]         0.290323  0.709677\n",
              "(69, 79]         0.250000  0.750000\n",
              "(79, 89]         1.000000  0.000000"
            ]
          },
          "metadata": {
            "tags": []
          },
          "execution_count": 28
        }
      ]
    },
    {
      "cell_type": "code",
      "metadata": {
        "id": "-vvMHRgZbs3P",
        "colab_type": "code",
        "colab": {
          "base_uri": "https://localhost:8080/",
          "height": 266
        },
        "outputId": "f1c294be-a955-442e-8f70-311281d1b789"
      },
      "source": [
        "pd.crosstab(df['nodes_bins'], df['patient_year'],normalize='columns')"
      ],
      "execution_count": 29,
      "outputs": [
        {
          "output_type": "execute_result",
          "data": {
            "text/html": [
              "<div>\n",
              "<style scoped>\n",
              "    .dataframe tbody tr th:only-of-type {\n",
              "        vertical-align: middle;\n",
              "    }\n",
              "\n",
              "    .dataframe tbody tr th {\n",
              "        vertical-align: top;\n",
              "    }\n",
              "\n",
              "    .dataframe thead th {\n",
              "        text-align: right;\n",
              "    }\n",
              "</style>\n",
              "<table border=\"1\" class=\"dataframe\">\n",
              "  <thead>\n",
              "    <tr style=\"text-align: right;\">\n",
              "      <th>patient_year</th>\n",
              "      <th>58</th>\n",
              "      <th>59</th>\n",
              "      <th>60</th>\n",
              "      <th>61</th>\n",
              "      <th>62</th>\n",
              "      <th>63</th>\n",
              "      <th>64</th>\n",
              "      <th>65</th>\n",
              "      <th>66</th>\n",
              "      <th>67</th>\n",
              "      <th>68</th>\n",
              "      <th>69</th>\n",
              "    </tr>\n",
              "    <tr>\n",
              "      <th>nodes_bins</th>\n",
              "      <th></th>\n",
              "      <th></th>\n",
              "      <th></th>\n",
              "      <th></th>\n",
              "      <th></th>\n",
              "      <th></th>\n",
              "      <th></th>\n",
              "      <th></th>\n",
              "      <th></th>\n",
              "      <th></th>\n",
              "      <th></th>\n",
              "      <th></th>\n",
              "    </tr>\n",
              "  </thead>\n",
              "  <tbody>\n",
              "    <tr>\n",
              "      <th>(-1.001, 5.0]</th>\n",
              "      <td>0.833333</td>\n",
              "      <td>0.703704</td>\n",
              "      <td>0.857143</td>\n",
              "      <td>0.730769</td>\n",
              "      <td>0.782609</td>\n",
              "      <td>0.733333</td>\n",
              "      <td>0.774194</td>\n",
              "      <td>0.714286</td>\n",
              "      <td>0.785714</td>\n",
              "      <td>0.80</td>\n",
              "      <td>0.846154</td>\n",
              "      <td>0.636364</td>\n",
              "    </tr>\n",
              "    <tr>\n",
              "      <th>(10.0, 15.0]</th>\n",
              "      <td>0.055556</td>\n",
              "      <td>0.111111</td>\n",
              "      <td>0.071429</td>\n",
              "      <td>0.038462</td>\n",
              "      <td>0.043478</td>\n",
              "      <td>0.066667</td>\n",
              "      <td>0.032258</td>\n",
              "      <td>0.035714</td>\n",
              "      <td>0.142857</td>\n",
              "      <td>0.00</td>\n",
              "      <td>0.076923</td>\n",
              "      <td>0.000000</td>\n",
              "    </tr>\n",
              "    <tr>\n",
              "      <th>(15.0, 20.0]</th>\n",
              "      <td>0.000000</td>\n",
              "      <td>0.037037</td>\n",
              "      <td>0.000000</td>\n",
              "      <td>0.000000</td>\n",
              "      <td>0.043478</td>\n",
              "      <td>0.066667</td>\n",
              "      <td>0.000000</td>\n",
              "      <td>0.071429</td>\n",
              "      <td>0.035714</td>\n",
              "      <td>0.04</td>\n",
              "      <td>0.000000</td>\n",
              "      <td>0.000000</td>\n",
              "    </tr>\n",
              "    <tr>\n",
              "      <th>(20.0, 25.0]</th>\n",
              "      <td>0.000000</td>\n",
              "      <td>0.000000</td>\n",
              "      <td>0.035714</td>\n",
              "      <td>0.038462</td>\n",
              "      <td>0.043478</td>\n",
              "      <td>0.066667</td>\n",
              "      <td>0.000000</td>\n",
              "      <td>0.071429</td>\n",
              "      <td>0.000000</td>\n",
              "      <td>0.00</td>\n",
              "      <td>0.000000</td>\n",
              "      <td>0.181818</td>\n",
              "    </tr>\n",
              "    <tr>\n",
              "      <th>(25.0, 53.0]</th>\n",
              "      <td>0.055556</td>\n",
              "      <td>0.000000</td>\n",
              "      <td>0.000000</td>\n",
              "      <td>0.038462</td>\n",
              "      <td>0.043478</td>\n",
              "      <td>0.000000</td>\n",
              "      <td>0.000000</td>\n",
              "      <td>0.000000</td>\n",
              "      <td>0.000000</td>\n",
              "      <td>0.04</td>\n",
              "      <td>0.000000</td>\n",
              "      <td>0.000000</td>\n",
              "    </tr>\n",
              "    <tr>\n",
              "      <th>(5.0, 10.0]</th>\n",
              "      <td>0.055556</td>\n",
              "      <td>0.148148</td>\n",
              "      <td>0.035714</td>\n",
              "      <td>0.153846</td>\n",
              "      <td>0.043478</td>\n",
              "      <td>0.066667</td>\n",
              "      <td>0.193548</td>\n",
              "      <td>0.107143</td>\n",
              "      <td>0.035714</td>\n",
              "      <td>0.12</td>\n",
              "      <td>0.076923</td>\n",
              "      <td>0.181818</td>\n",
              "    </tr>\n",
              "  </tbody>\n",
              "</table>\n",
              "</div>"
            ],
            "text/plain": [
              "patient_year         58        59        60  ...    67        68        69\n",
              "nodes_bins                                   ...                          \n",
              "(-1.001, 5.0]  0.833333  0.703704  0.857143  ...  0.80  0.846154  0.636364\n",
              "(10.0, 15.0]   0.055556  0.111111  0.071429  ...  0.00  0.076923  0.000000\n",
              "(15.0, 20.0]   0.000000  0.037037  0.000000  ...  0.04  0.000000  0.000000\n",
              "(20.0, 25.0]   0.000000  0.000000  0.035714  ...  0.00  0.000000  0.181818\n",
              "(25.0, 53.0]   0.055556  0.000000  0.000000  ...  0.04  0.000000  0.000000\n",
              "(5.0, 10.0]    0.055556  0.148148  0.035714  ...  0.12  0.076923  0.181818\n",
              "\n",
              "[6 rows x 12 columns]"
            ]
          },
          "metadata": {
            "tags": []
          },
          "execution_count": 29
        }
      ]
    },
    {
      "cell_type": "code",
      "metadata": {
        "id": "Rpat6OJXb7YF",
        "colab_type": "code",
        "colab": {
          "base_uri": "https://localhost:8080/",
          "height": 142
        },
        "outputId": "b52bd0cf-4f09-4cc0-90c1-6045498cde5f"
      },
      "source": [
        "pd.crosstab(df['surviving5years'], df['patient_year'],normalize='index')"
      ],
      "execution_count": 30,
      "outputs": [
        {
          "output_type": "execute_result",
          "data": {
            "text/html": [
              "<div>\n",
              "<style scoped>\n",
              "    .dataframe tbody tr th:only-of-type {\n",
              "        vertical-align: middle;\n",
              "    }\n",
              "\n",
              "    .dataframe tbody tr th {\n",
              "        vertical-align: top;\n",
              "    }\n",
              "\n",
              "    .dataframe thead th {\n",
              "        text-align: right;\n",
              "    }\n",
              "</style>\n",
              "<table border=\"1\" class=\"dataframe\">\n",
              "  <thead>\n",
              "    <tr style=\"text-align: right;\">\n",
              "      <th>patient_year</th>\n",
              "      <th>58</th>\n",
              "      <th>59</th>\n",
              "      <th>60</th>\n",
              "      <th>61</th>\n",
              "      <th>62</th>\n",
              "      <th>63</th>\n",
              "      <th>64</th>\n",
              "      <th>65</th>\n",
              "      <th>66</th>\n",
              "      <th>67</th>\n",
              "      <th>68</th>\n",
              "      <th>69</th>\n",
              "    </tr>\n",
              "    <tr>\n",
              "      <th>surviving5years</th>\n",
              "      <th></th>\n",
              "      <th></th>\n",
              "      <th></th>\n",
              "      <th></th>\n",
              "      <th></th>\n",
              "      <th></th>\n",
              "      <th></th>\n",
              "      <th></th>\n",
              "      <th></th>\n",
              "      <th></th>\n",
              "      <th></th>\n",
              "      <th></th>\n",
              "    </tr>\n",
              "  </thead>\n",
              "  <tbody>\n",
              "    <tr>\n",
              "      <th>0</th>\n",
              "      <td>0.148148</td>\n",
              "      <td>0.111111</td>\n",
              "      <td>0.049383</td>\n",
              "      <td>0.037037</td>\n",
              "      <td>0.086420</td>\n",
              "      <td>0.098765</td>\n",
              "      <td>0.098765</td>\n",
              "      <td>0.160494</td>\n",
              "      <td>0.074074</td>\n",
              "      <td>0.049383</td>\n",
              "      <td>0.037037</td>\n",
              "      <td>0.049383</td>\n",
              "    </tr>\n",
              "    <tr>\n",
              "      <th>1</th>\n",
              "      <td>0.106667</td>\n",
              "      <td>0.080000</td>\n",
              "      <td>0.106667</td>\n",
              "      <td>0.102222</td>\n",
              "      <td>0.071111</td>\n",
              "      <td>0.097778</td>\n",
              "      <td>0.102222</td>\n",
              "      <td>0.066667</td>\n",
              "      <td>0.097778</td>\n",
              "      <td>0.093333</td>\n",
              "      <td>0.044444</td>\n",
              "      <td>0.031111</td>\n",
              "    </tr>\n",
              "  </tbody>\n",
              "</table>\n",
              "</div>"
            ],
            "text/plain": [
              "patient_year           58        59        60  ...        67        68        69\n",
              "surviving5years                                ...                              \n",
              "0                0.148148  0.111111  0.049383  ...  0.049383  0.037037  0.049383\n",
              "1                0.106667  0.080000  0.106667  ...  0.093333  0.044444  0.031111\n",
              "\n",
              "[2 rows x 12 columns]"
            ]
          },
          "metadata": {
            "tags": []
          },
          "execution_count": 30
        }
      ]
    },
    {
      "cell_type": "code",
      "metadata": {
        "id": "QamWLoz3fj5_",
        "colab_type": "code",
        "colab": {
          "base_uri": "https://localhost:8080/",
          "height": 142
        },
        "outputId": "d09a4371-d63b-4676-c75f-c7edd09ba945"
      },
      "source": [
        "pd.crosstab(df['surviving5years'], df['patient_year'],normalize='columns')"
      ],
      "execution_count": 31,
      "outputs": [
        {
          "output_type": "execute_result",
          "data": {
            "text/html": [
              "<div>\n",
              "<style scoped>\n",
              "    .dataframe tbody tr th:only-of-type {\n",
              "        vertical-align: middle;\n",
              "    }\n",
              "\n",
              "    .dataframe tbody tr th {\n",
              "        vertical-align: top;\n",
              "    }\n",
              "\n",
              "    .dataframe thead th {\n",
              "        text-align: right;\n",
              "    }\n",
              "</style>\n",
              "<table border=\"1\" class=\"dataframe\">\n",
              "  <thead>\n",
              "    <tr style=\"text-align: right;\">\n",
              "      <th>patient_year</th>\n",
              "      <th>58</th>\n",
              "      <th>59</th>\n",
              "      <th>60</th>\n",
              "      <th>61</th>\n",
              "      <th>62</th>\n",
              "      <th>63</th>\n",
              "      <th>64</th>\n",
              "      <th>65</th>\n",
              "      <th>66</th>\n",
              "      <th>67</th>\n",
              "      <th>68</th>\n",
              "      <th>69</th>\n",
              "    </tr>\n",
              "    <tr>\n",
              "      <th>surviving5years</th>\n",
              "      <th></th>\n",
              "      <th></th>\n",
              "      <th></th>\n",
              "      <th></th>\n",
              "      <th></th>\n",
              "      <th></th>\n",
              "      <th></th>\n",
              "      <th></th>\n",
              "      <th></th>\n",
              "      <th></th>\n",
              "      <th></th>\n",
              "      <th></th>\n",
              "    </tr>\n",
              "  </thead>\n",
              "  <tbody>\n",
              "    <tr>\n",
              "      <th>0</th>\n",
              "      <td>0.333333</td>\n",
              "      <td>0.333333</td>\n",
              "      <td>0.142857</td>\n",
              "      <td>0.115385</td>\n",
              "      <td>0.304348</td>\n",
              "      <td>0.266667</td>\n",
              "      <td>0.258065</td>\n",
              "      <td>0.464286</td>\n",
              "      <td>0.214286</td>\n",
              "      <td>0.16</td>\n",
              "      <td>0.230769</td>\n",
              "      <td>0.363636</td>\n",
              "    </tr>\n",
              "    <tr>\n",
              "      <th>1</th>\n",
              "      <td>0.666667</td>\n",
              "      <td>0.666667</td>\n",
              "      <td>0.857143</td>\n",
              "      <td>0.884615</td>\n",
              "      <td>0.695652</td>\n",
              "      <td>0.733333</td>\n",
              "      <td>0.741935</td>\n",
              "      <td>0.535714</td>\n",
              "      <td>0.785714</td>\n",
              "      <td>0.84</td>\n",
              "      <td>0.769231</td>\n",
              "      <td>0.636364</td>\n",
              "    </tr>\n",
              "  </tbody>\n",
              "</table>\n",
              "</div>"
            ],
            "text/plain": [
              "patient_year           58        59        60  ...    67        68        69\n",
              "surviving5years                                ...                          \n",
              "0                0.333333  0.333333  0.142857  ...  0.16  0.230769  0.363636\n",
              "1                0.666667  0.666667  0.857143  ...  0.84  0.769231  0.636364\n",
              "\n",
              "[2 rows x 12 columns]"
            ]
          },
          "metadata": {
            "tags": []
          },
          "execution_count": 31
        }
      ]
    },
    {
      "cell_type": "code",
      "metadata": {
        "id": "Lof3Ab7lfv0w",
        "colab_type": "code",
        "colab": {
          "base_uri": "https://localhost:8080/",
          "height": 142
        },
        "outputId": "f4974d45-875f-4c76-ae1e-50959aaaad5a"
      },
      "source": [
        "pd.crosstab(df['surviving5years'], df['patient_year'])"
      ],
      "execution_count": 32,
      "outputs": [
        {
          "output_type": "execute_result",
          "data": {
            "text/html": [
              "<div>\n",
              "<style scoped>\n",
              "    .dataframe tbody tr th:only-of-type {\n",
              "        vertical-align: middle;\n",
              "    }\n",
              "\n",
              "    .dataframe tbody tr th {\n",
              "        vertical-align: top;\n",
              "    }\n",
              "\n",
              "    .dataframe thead th {\n",
              "        text-align: right;\n",
              "    }\n",
              "</style>\n",
              "<table border=\"1\" class=\"dataframe\">\n",
              "  <thead>\n",
              "    <tr style=\"text-align: right;\">\n",
              "      <th>patient_year</th>\n",
              "      <th>58</th>\n",
              "      <th>59</th>\n",
              "      <th>60</th>\n",
              "      <th>61</th>\n",
              "      <th>62</th>\n",
              "      <th>63</th>\n",
              "      <th>64</th>\n",
              "      <th>65</th>\n",
              "      <th>66</th>\n",
              "      <th>67</th>\n",
              "      <th>68</th>\n",
              "      <th>69</th>\n",
              "    </tr>\n",
              "    <tr>\n",
              "      <th>surviving5years</th>\n",
              "      <th></th>\n",
              "      <th></th>\n",
              "      <th></th>\n",
              "      <th></th>\n",
              "      <th></th>\n",
              "      <th></th>\n",
              "      <th></th>\n",
              "      <th></th>\n",
              "      <th></th>\n",
              "      <th></th>\n",
              "      <th></th>\n",
              "      <th></th>\n",
              "    </tr>\n",
              "  </thead>\n",
              "  <tbody>\n",
              "    <tr>\n",
              "      <th>0</th>\n",
              "      <td>12</td>\n",
              "      <td>9</td>\n",
              "      <td>4</td>\n",
              "      <td>3</td>\n",
              "      <td>7</td>\n",
              "      <td>8</td>\n",
              "      <td>8</td>\n",
              "      <td>13</td>\n",
              "      <td>6</td>\n",
              "      <td>4</td>\n",
              "      <td>3</td>\n",
              "      <td>4</td>\n",
              "    </tr>\n",
              "    <tr>\n",
              "      <th>1</th>\n",
              "      <td>24</td>\n",
              "      <td>18</td>\n",
              "      <td>24</td>\n",
              "      <td>23</td>\n",
              "      <td>16</td>\n",
              "      <td>22</td>\n",
              "      <td>23</td>\n",
              "      <td>15</td>\n",
              "      <td>22</td>\n",
              "      <td>21</td>\n",
              "      <td>10</td>\n",
              "      <td>7</td>\n",
              "    </tr>\n",
              "  </tbody>\n",
              "</table>\n",
              "</div>"
            ],
            "text/plain": [
              "patient_year     58  59  60  61  62  63  64  65  66  67  68  69\n",
              "surviving5years                                                \n",
              "0                12   9   4   3   7   8   8  13   6   4   3   4\n",
              "1                24  18  24  23  16  22  23  15  22  21  10   7"
            ]
          },
          "metadata": {
            "tags": []
          },
          "execution_count": 32
        }
      ]
    },
    {
      "cell_type": "code",
      "metadata": {
        "id": "FX9hGWdJb0L-",
        "colab_type": "code",
        "colab": {
          "base_uri": "https://localhost:8080/",
          "height": 142
        },
        "outputId": "99e40a6b-c298-4680-8e64-cabab89b9773"
      },
      "source": [
        "pd.crosstab(df['surviving5years'], df['nodes_bins'],normalize='all')"
      ],
      "execution_count": 33,
      "outputs": [
        {
          "output_type": "execute_result",
          "data": {
            "text/html": [
              "<div>\n",
              "<style scoped>\n",
              "    .dataframe tbody tr th:only-of-type {\n",
              "        vertical-align: middle;\n",
              "    }\n",
              "\n",
              "    .dataframe tbody tr th {\n",
              "        vertical-align: top;\n",
              "    }\n",
              "\n",
              "    .dataframe thead th {\n",
              "        text-align: right;\n",
              "    }\n",
              "</style>\n",
              "<table border=\"1\" class=\"dataframe\">\n",
              "  <thead>\n",
              "    <tr style=\"text-align: right;\">\n",
              "      <th>nodes_bins</th>\n",
              "      <th>(-1.001, 5.0]</th>\n",
              "      <th>(10.0, 15.0]</th>\n",
              "      <th>(15.0, 20.0]</th>\n",
              "      <th>(20.0, 25.0]</th>\n",
              "      <th>(25.0, 53.0]</th>\n",
              "      <th>(5.0, 10.0]</th>\n",
              "    </tr>\n",
              "    <tr>\n",
              "      <th>surviving5years</th>\n",
              "      <th></th>\n",
              "      <th></th>\n",
              "      <th></th>\n",
              "      <th></th>\n",
              "      <th></th>\n",
              "      <th></th>\n",
              "    </tr>\n",
              "  </thead>\n",
              "  <tbody>\n",
              "    <tr>\n",
              "      <th>0</th>\n",
              "      <td>0.150327</td>\n",
              "      <td>0.035948</td>\n",
              "      <td>0.013072</td>\n",
              "      <td>0.019608</td>\n",
              "      <td>0.006536</td>\n",
              "      <td>0.039216</td>\n",
              "    </tr>\n",
              "    <tr>\n",
              "      <th>1</th>\n",
              "      <td>0.620915</td>\n",
              "      <td>0.022876</td>\n",
              "      <td>0.013072</td>\n",
              "      <td>0.009804</td>\n",
              "      <td>0.009804</td>\n",
              "      <td>0.058824</td>\n",
              "    </tr>\n",
              "  </tbody>\n",
              "</table>\n",
              "</div>"
            ],
            "text/plain": [
              "nodes_bins       (-1.001, 5.0]  (10.0, 15.0]  ...  (25.0, 53.0]  (5.0, 10.0]\n",
              "surviving5years                               ...                           \n",
              "0                     0.150327      0.035948  ...      0.006536     0.039216\n",
              "1                     0.620915      0.022876  ...      0.009804     0.058824\n",
              "\n",
              "[2 rows x 6 columns]"
            ]
          },
          "metadata": {
            "tags": []
          },
          "execution_count": 33
        }
      ]
    },
    {
      "cell_type": "code",
      "metadata": {
        "id": "PyEM_dChfDkl",
        "colab_type": "code",
        "colab": {
          "base_uri": "https://localhost:8080/",
          "height": 142
        },
        "outputId": "ea736346-b74f-460d-ccb2-7de019a30d68"
      },
      "source": [
        "pd.crosstab(df['surviving5years'], df['nodes_bins'],normalize='index')"
      ],
      "execution_count": 34,
      "outputs": [
        {
          "output_type": "execute_result",
          "data": {
            "text/html": [
              "<div>\n",
              "<style scoped>\n",
              "    .dataframe tbody tr th:only-of-type {\n",
              "        vertical-align: middle;\n",
              "    }\n",
              "\n",
              "    .dataframe tbody tr th {\n",
              "        vertical-align: top;\n",
              "    }\n",
              "\n",
              "    .dataframe thead th {\n",
              "        text-align: right;\n",
              "    }\n",
              "</style>\n",
              "<table border=\"1\" class=\"dataframe\">\n",
              "  <thead>\n",
              "    <tr style=\"text-align: right;\">\n",
              "      <th>nodes_bins</th>\n",
              "      <th>(-1.001, 5.0]</th>\n",
              "      <th>(10.0, 15.0]</th>\n",
              "      <th>(15.0, 20.0]</th>\n",
              "      <th>(20.0, 25.0]</th>\n",
              "      <th>(25.0, 53.0]</th>\n",
              "      <th>(5.0, 10.0]</th>\n",
              "    </tr>\n",
              "    <tr>\n",
              "      <th>surviving5years</th>\n",
              "      <th></th>\n",
              "      <th></th>\n",
              "      <th></th>\n",
              "      <th></th>\n",
              "      <th></th>\n",
              "      <th></th>\n",
              "    </tr>\n",
              "  </thead>\n",
              "  <tbody>\n",
              "    <tr>\n",
              "      <th>0</th>\n",
              "      <td>0.567901</td>\n",
              "      <td>0.135802</td>\n",
              "      <td>0.049383</td>\n",
              "      <td>0.074074</td>\n",
              "      <td>0.024691</td>\n",
              "      <td>0.148148</td>\n",
              "    </tr>\n",
              "    <tr>\n",
              "      <th>1</th>\n",
              "      <td>0.844444</td>\n",
              "      <td>0.031111</td>\n",
              "      <td>0.017778</td>\n",
              "      <td>0.013333</td>\n",
              "      <td>0.013333</td>\n",
              "      <td>0.080000</td>\n",
              "    </tr>\n",
              "  </tbody>\n",
              "</table>\n",
              "</div>"
            ],
            "text/plain": [
              "nodes_bins       (-1.001, 5.0]  (10.0, 15.0]  ...  (25.0, 53.0]  (5.0, 10.0]\n",
              "surviving5years                               ...                           \n",
              "0                     0.567901      0.135802  ...      0.024691     0.148148\n",
              "1                     0.844444      0.031111  ...      0.013333     0.080000\n",
              "\n",
              "[2 rows x 6 columns]"
            ]
          },
          "metadata": {
            "tags": []
          },
          "execution_count": 34
        }
      ]
    },
    {
      "cell_type": "code",
      "metadata": {
        "id": "OpXKIKx_pTKr",
        "colab_type": "code",
        "colab": {
          "base_uri": "https://localhost:8080/",
          "height": 297
        },
        "outputId": "21273e43-c858-4c6e-bd2c-e2cca235644b"
      },
      "source": [
        "pd.crosstab(df['age_bins'], [df['surviving5years'],df['nodes_bins']])"
      ],
      "execution_count": 35,
      "outputs": [
        {
          "output_type": "execute_result",
          "data": {
            "text/html": [
              "<div>\n",
              "<style scoped>\n",
              "    .dataframe tbody tr th:only-of-type {\n",
              "        vertical-align: middle;\n",
              "    }\n",
              "\n",
              "    .dataframe tbody tr th {\n",
              "        vertical-align: top;\n",
              "    }\n",
              "\n",
              "    .dataframe thead tr th {\n",
              "        text-align: left;\n",
              "    }\n",
              "\n",
              "    .dataframe thead tr:last-of-type th {\n",
              "        text-align: right;\n",
              "    }\n",
              "</style>\n",
              "<table border=\"1\" class=\"dataframe\">\n",
              "  <thead>\n",
              "    <tr>\n",
              "      <th>surviving5years</th>\n",
              "      <th colspan=\"6\" halign=\"left\">0</th>\n",
              "      <th colspan=\"6\" halign=\"left\">1</th>\n",
              "    </tr>\n",
              "    <tr>\n",
              "      <th>nodes_bins</th>\n",
              "      <th>(-1.001, 5.0]</th>\n",
              "      <th>(10.0, 15.0]</th>\n",
              "      <th>(15.0, 20.0]</th>\n",
              "      <th>(20.0, 25.0]</th>\n",
              "      <th>(25.0, 53.0]</th>\n",
              "      <th>(5.0, 10.0]</th>\n",
              "      <th>(-1.001, 5.0]</th>\n",
              "      <th>(10.0, 15.0]</th>\n",
              "      <th>(15.0, 20.0]</th>\n",
              "      <th>(20.0, 25.0]</th>\n",
              "      <th>(25.0, 53.0]</th>\n",
              "      <th>(5.0, 10.0]</th>\n",
              "    </tr>\n",
              "    <tr>\n",
              "      <th>age_bins</th>\n",
              "      <th></th>\n",
              "      <th></th>\n",
              "      <th></th>\n",
              "      <th></th>\n",
              "      <th></th>\n",
              "      <th></th>\n",
              "      <th></th>\n",
              "      <th></th>\n",
              "      <th></th>\n",
              "      <th></th>\n",
              "      <th></th>\n",
              "      <th></th>\n",
              "    </tr>\n",
              "  </thead>\n",
              "  <tbody>\n",
              "    <tr>\n",
              "      <th>(29, 39]</th>\n",
              "      <td>2</td>\n",
              "      <td>0</td>\n",
              "      <td>0</td>\n",
              "      <td>1</td>\n",
              "      <td>0</td>\n",
              "      <td>1</td>\n",
              "      <td>28</td>\n",
              "      <td>3</td>\n",
              "      <td>0</td>\n",
              "      <td>0</td>\n",
              "      <td>1</td>\n",
              "      <td>4</td>\n",
              "    </tr>\n",
              "    <tr>\n",
              "      <th>(39, 49]</th>\n",
              "      <td>15</td>\n",
              "      <td>2</td>\n",
              "      <td>2</td>\n",
              "      <td>2</td>\n",
              "      <td>1</td>\n",
              "      <td>5</td>\n",
              "      <td>48</td>\n",
              "      <td>3</td>\n",
              "      <td>2</td>\n",
              "      <td>0</td>\n",
              "      <td>0</td>\n",
              "      <td>4</td>\n",
              "    </tr>\n",
              "    <tr>\n",
              "      <th>(49, 59]</th>\n",
              "      <td>13</td>\n",
              "      <td>6</td>\n",
              "      <td>0</td>\n",
              "      <td>2</td>\n",
              "      <td>1</td>\n",
              "      <td>4</td>\n",
              "      <td>63</td>\n",
              "      <td>0</td>\n",
              "      <td>2</td>\n",
              "      <td>1</td>\n",
              "      <td>1</td>\n",
              "      <td>6</td>\n",
              "    </tr>\n",
              "    <tr>\n",
              "      <th>(59, 69]</th>\n",
              "      <td>10</td>\n",
              "      <td>3</td>\n",
              "      <td>2</td>\n",
              "      <td>1</td>\n",
              "      <td>0</td>\n",
              "      <td>2</td>\n",
              "      <td>38</td>\n",
              "      <td>0</td>\n",
              "      <td>0</td>\n",
              "      <td>2</td>\n",
              "      <td>1</td>\n",
              "      <td>3</td>\n",
              "    </tr>\n",
              "    <tr>\n",
              "      <th>(69, 79]</th>\n",
              "      <td>5</td>\n",
              "      <td>0</td>\n",
              "      <td>0</td>\n",
              "      <td>0</td>\n",
              "      <td>0</td>\n",
              "      <td>0</td>\n",
              "      <td>13</td>\n",
              "      <td>1</td>\n",
              "      <td>0</td>\n",
              "      <td>0</td>\n",
              "      <td>0</td>\n",
              "      <td>1</td>\n",
              "    </tr>\n",
              "    <tr>\n",
              "      <th>(79, 89]</th>\n",
              "      <td>1</td>\n",
              "      <td>0</td>\n",
              "      <td>0</td>\n",
              "      <td>0</td>\n",
              "      <td>0</td>\n",
              "      <td>0</td>\n",
              "      <td>0</td>\n",
              "      <td>0</td>\n",
              "      <td>0</td>\n",
              "      <td>0</td>\n",
              "      <td>0</td>\n",
              "      <td>0</td>\n",
              "    </tr>\n",
              "  </tbody>\n",
              "</table>\n",
              "</div>"
            ],
            "text/plain": [
              "surviving5years             0               ...            1            \n",
              "nodes_bins      (-1.001, 5.0] (10.0, 15.0]  ... (25.0, 53.0] (5.0, 10.0]\n",
              "age_bins                                    ...                         \n",
              "(29, 39]                    2            0  ...            1           4\n",
              "(39, 49]                   15            2  ...            0           4\n",
              "(49, 59]                   13            6  ...            1           6\n",
              "(59, 69]                   10            3  ...            1           3\n",
              "(69, 79]                    5            0  ...            0           1\n",
              "(79, 89]                    1            0  ...            0           0\n",
              "\n",
              "[6 rows x 12 columns]"
            ]
          },
          "metadata": {
            "tags": []
          },
          "execution_count": 35
        }
      ]
    },
    {
      "cell_type": "code",
      "metadata": {
        "id": "rmZVRMX9cbJR",
        "colab_type": "code",
        "colab": {
          "base_uri": "https://localhost:8080/",
          "height": 296
        },
        "outputId": "4f662c26-b072-4ba9-c2ad-40f6ff89c0de"
      },
      "source": [
        "#scatterplot\n",
        "\n",
        "sns.scatterplot(x='patient_age',y='positive_axillary_nodes',hue='surviving5years',data= df);\n",
        "plt.title('Patient age versus Number of Positive Nodes by Surviving >5 Year Bin');\n",
        "plt.legend(bbox_to_anchor=(1.05, 1), loc=2, borderaxespad=0.);"
      ],
      "execution_count": 36,
      "outputs": [
        {
          "output_type": "display_data",
          "data": {
            "image/png": "[encoded data removed]",
            "text/plain": [
              "<Figure size 432x288 with 1 Axes>"
            ]
          },
          "metadata": {
            "tags": []
          }
        }
      ]
    },
    {
      "cell_type": "code",
      "metadata": {
        "id": "1HKyKf5HgHSo",
        "colab_type": "code",
        "colab": {
          "base_uri": "https://localhost:8080/",
          "height": 255
        },
        "outputId": "8a9c0c63-9e32-4a67-b95c-325c0f7dca9d"
      },
      "source": [
        "df['patient_year'].groupby(df['patient_year']).count()"
      ],
      "execution_count": 37,
      "outputs": [
        {
          "output_type": "execute_result",
          "data": {
            "text/plain": [
              "patient_year\n",
              "58    36\n",
              "59    27\n",
              "60    28\n",
              "61    26\n",
              "62    23\n",
              "63    30\n",
              "64    31\n",
              "65    28\n",
              "66    28\n",
              "67    25\n",
              "68    13\n",
              "69    11\n",
              "Name: patient_year, dtype: int64"
            ]
          },
          "metadata": {
            "tags": []
          },
          "execution_count": 37
        }
      ]
    },
    {
      "cell_type": "code",
      "metadata": {
        "id": "hyDUvv_FrsFm",
        "colab_type": "code",
        "colab": {
          "base_uri": "https://localhost:8080/",
          "height": 204
        },
        "outputId": "863355b8-de2c-4fd4-eade-b1e15d506420"
      },
      "source": [
        "#creating one feature for those with more than 5 nodes and less than 5 nodes\n",
        "\n",
        "df['less_than5_nodes']=np.where(df['positive_axillary_nodes']>5,0,1)\n",
        "df.head()"
      ],
      "execution_count": 38,
      "outputs": [
        {
          "output_type": "execute_result",
          "data": {
            "text/html": [
              "<div>\n",
              "<style scoped>\n",
              "    .dataframe tbody tr th:only-of-type {\n",
              "        vertical-align: middle;\n",
              "    }\n",
              "\n",
              "    .dataframe tbody tr th {\n",
              "        vertical-align: top;\n",
              "    }\n",
              "\n",
              "    .dataframe thead th {\n",
              "        text-align: right;\n",
              "    }\n",
              "</style>\n",
              "<table border=\"1\" class=\"dataframe\">\n",
              "  <thead>\n",
              "    <tr style=\"text-align: right;\">\n",
              "      <th></th>\n",
              "      <th>patient_age</th>\n",
              "      <th>patient_year</th>\n",
              "      <th>positive_axillary_nodes</th>\n",
              "      <th>survival_status</th>\n",
              "      <th>surviving5years</th>\n",
              "      <th>age_bins</th>\n",
              "      <th>nodes_bins</th>\n",
              "      <th>less_than5_nodes</th>\n",
              "    </tr>\n",
              "  </thead>\n",
              "  <tbody>\n",
              "    <tr>\n",
              "      <th>0</th>\n",
              "      <td>30</td>\n",
              "      <td>64</td>\n",
              "      <td>1</td>\n",
              "      <td>1</td>\n",
              "      <td>1</td>\n",
              "      <td>(29, 39]</td>\n",
              "      <td>(-1.001, 5.0]</td>\n",
              "      <td>1</td>\n",
              "    </tr>\n",
              "    <tr>\n",
              "      <th>1</th>\n",
              "      <td>30</td>\n",
              "      <td>62</td>\n",
              "      <td>3</td>\n",
              "      <td>1</td>\n",
              "      <td>1</td>\n",
              "      <td>(29, 39]</td>\n",
              "      <td>(-1.001, 5.0]</td>\n",
              "      <td>1</td>\n",
              "    </tr>\n",
              "    <tr>\n",
              "      <th>2</th>\n",
              "      <td>30</td>\n",
              "      <td>65</td>\n",
              "      <td>0</td>\n",
              "      <td>1</td>\n",
              "      <td>1</td>\n",
              "      <td>(29, 39]</td>\n",
              "      <td>(-1.001, 5.0]</td>\n",
              "      <td>1</td>\n",
              "    </tr>\n",
              "    <tr>\n",
              "      <th>3</th>\n",
              "      <td>31</td>\n",
              "      <td>59</td>\n",
              "      <td>2</td>\n",
              "      <td>1</td>\n",
              "      <td>1</td>\n",
              "      <td>(29, 39]</td>\n",
              "      <td>(-1.001, 5.0]</td>\n",
              "      <td>1</td>\n",
              "    </tr>\n",
              "    <tr>\n",
              "      <th>4</th>\n",
              "      <td>31</td>\n",
              "      <td>65</td>\n",
              "      <td>4</td>\n",
              "      <td>1</td>\n",
              "      <td>1</td>\n",
              "      <td>(29, 39]</td>\n",
              "      <td>(-1.001, 5.0]</td>\n",
              "      <td>1</td>\n",
              "    </tr>\n",
              "  </tbody>\n",
              "</table>\n",
              "</div>"
            ],
            "text/plain": [
              "   patient_age  patient_year  ...     nodes_bins  less_than5_nodes\n",
              "0           30            64  ...  (-1.001, 5.0]                 1\n",
              "1           30            62  ...  (-1.001, 5.0]                 1\n",
              "2           30            65  ...  (-1.001, 5.0]                 1\n",
              "3           31            59  ...  (-1.001, 5.0]                 1\n",
              "4           31            65  ...  (-1.001, 5.0]                 1\n",
              "\n",
              "[5 rows x 8 columns]"
            ]
          },
          "metadata": {
            "tags": []
          },
          "execution_count": 38
        }
      ]
    },
    {
      "cell_type": "code",
      "metadata": {
        "id": "-MxcTMvAtTuZ",
        "colab_type": "code",
        "colab": {
          "base_uri": "https://localhost:8080/",
          "height": 142
        },
        "outputId": "c9a76f63-b8e3-4209-b2f8-53743fd51aa8"
      },
      "source": [
        "pd.crosstab(df['surviving5years'], df['less_than5_nodes'],normalize='columns')"
      ],
      "execution_count": 39,
      "outputs": [
        {
          "output_type": "execute_result",
          "data": {
            "text/html": [
              "<div>\n",
              "<style scoped>\n",
              "    .dataframe tbody tr th:only-of-type {\n",
              "        vertical-align: middle;\n",
              "    }\n",
              "\n",
              "    .dataframe tbody tr th {\n",
              "        vertical-align: top;\n",
              "    }\n",
              "\n",
              "    .dataframe thead th {\n",
              "        text-align: right;\n",
              "    }\n",
              "</style>\n",
              "<table border=\"1\" class=\"dataframe\">\n",
              "  <thead>\n",
              "    <tr style=\"text-align: right;\">\n",
              "      <th>less_than5_nodes</th>\n",
              "      <th>0</th>\n",
              "      <th>1</th>\n",
              "    </tr>\n",
              "    <tr>\n",
              "      <th>surviving5years</th>\n",
              "      <th></th>\n",
              "      <th></th>\n",
              "    </tr>\n",
              "  </thead>\n",
              "  <tbody>\n",
              "    <tr>\n",
              "      <th>0</th>\n",
              "      <td>0.5</td>\n",
              "      <td>0.194915</td>\n",
              "    </tr>\n",
              "    <tr>\n",
              "      <th>1</th>\n",
              "      <td>0.5</td>\n",
              "      <td>0.805085</td>\n",
              "    </tr>\n",
              "  </tbody>\n",
              "</table>\n",
              "</div>"
            ],
            "text/plain": [
              "less_than5_nodes    0         1\n",
              "surviving5years                \n",
              "0                 0.5  0.194915\n",
              "1                 0.5  0.805085"
            ]
          },
          "metadata": {
            "tags": []
          },
          "execution_count": 39
        }
      ]
    },
    {
      "cell_type": "markdown",
      "metadata": {
        "id": "ZM8JckA2bgnp",
        "colab_type": "text"
      },
      "source": [
        "## Part 3 - Analysis and Interpretation\n",
        "\n",
        "Now that you've looked at the data, answer the following questions:\n",
        "\n",
        "- What is at least one feature that looks to have a positive relationship with survival?\n",
        "- What is at least one feature that looks to have a negative relationship with survival?\n",
        "- How are those two features related with each other, and what might that mean?\n",
        "\n",
        "Answer with text, but feel free to intersperse example code/results or refer to it from earlier."
      ]
    },
    {
      "cell_type": "markdown",
      "metadata": {
        "id": "0CkXYbNKhZQo",
        "colab_type": "text"
      },
      "source": [
        "###Analysis and Interpretation"
      ]
    },
    {
      "cell_type": "markdown",
      "metadata": {
        "id": "z9U9LWOQhTSK",
        "colab_type": "text"
      },
      "source": [
        "\n",
        "- What is at least one feature that looks to have a positive relationship with survival?\n",
        "- What is at least one feature that looks to have a negative relationship with survival?\n",
        "- How are those two features related with each other, and what might that mean?\n"
      ]
    },
    {
      "cell_type": "markdown",
      "metadata": {
        "id": "N2pSJGi3kc26",
        "colab_type": "text"
      },
      "source": [
        "**What is at least one feature that looks to have a positive relationship with survival?**"
      ]
    },
    {
      "cell_type": "markdown",
      "metadata": {
        "id": "vlq2KHNbkl1p",
        "colab_type": "text"
      },
      "source": [
        "One positive relationship with Survival is early discovery, as we see that younger patients have higher odds of surviving more than 5 years."
      ]
    },
    {
      "cell_type": "code",
      "metadata": {
        "id": "opHaGnzIhWy0",
        "colab_type": "code",
        "colab": {
          "base_uri": "https://localhost:8080/",
          "height": 266
        },
        "outputId": "60a52838-1c0c-42f7-f27d-d0635ac3ed46"
      },
      "source": [
        "pd.crosstab(df['age_bins'], df['surviving5years'],normalize='index')"
      ],
      "execution_count": 40,
      "outputs": [
        {
          "output_type": "execute_result",
          "data": {
            "text/html": [
              "<div>\n",
              "<style scoped>\n",
              "    .dataframe tbody tr th:only-of-type {\n",
              "        vertical-align: middle;\n",
              "    }\n",
              "\n",
              "    .dataframe tbody tr th {\n",
              "        vertical-align: top;\n",
              "    }\n",
              "\n",
              "    .dataframe thead th {\n",
              "        text-align: right;\n",
              "    }\n",
              "</style>\n",
              "<table border=\"1\" class=\"dataframe\">\n",
              "  <thead>\n",
              "    <tr style=\"text-align: right;\">\n",
              "      <th>surviving5years</th>\n",
              "      <th>0</th>\n",
              "      <th>1</th>\n",
              "    </tr>\n",
              "    <tr>\n",
              "      <th>age_bins</th>\n",
              "      <th></th>\n",
              "      <th></th>\n",
              "    </tr>\n",
              "  </thead>\n",
              "  <tbody>\n",
              "    <tr>\n",
              "      <th>(29, 39]</th>\n",
              "      <td>0.100000</td>\n",
              "      <td>0.900000</td>\n",
              "    </tr>\n",
              "    <tr>\n",
              "      <th>(39, 49]</th>\n",
              "      <td>0.321429</td>\n",
              "      <td>0.678571</td>\n",
              "    </tr>\n",
              "    <tr>\n",
              "      <th>(49, 59]</th>\n",
              "      <td>0.262626</td>\n",
              "      <td>0.737374</td>\n",
              "    </tr>\n",
              "    <tr>\n",
              "      <th>(59, 69]</th>\n",
              "      <td>0.290323</td>\n",
              "      <td>0.709677</td>\n",
              "    </tr>\n",
              "    <tr>\n",
              "      <th>(69, 79]</th>\n",
              "      <td>0.250000</td>\n",
              "      <td>0.750000</td>\n",
              "    </tr>\n",
              "    <tr>\n",
              "      <th>(79, 89]</th>\n",
              "      <td>1.000000</td>\n",
              "      <td>0.000000</td>\n",
              "    </tr>\n",
              "  </tbody>\n",
              "</table>\n",
              "</div>"
            ],
            "text/plain": [
              "surviving5years         0         1\n",
              "age_bins                           \n",
              "(29, 39]         0.100000  0.900000\n",
              "(39, 49]         0.321429  0.678571\n",
              "(49, 59]         0.262626  0.737374\n",
              "(59, 69]         0.290323  0.709677\n",
              "(69, 79]         0.250000  0.750000\n",
              "(79, 89]         1.000000  0.000000"
            ]
          },
          "metadata": {
            "tags": []
          },
          "execution_count": 40
        }
      ]
    },
    {
      "cell_type": "markdown",
      "metadata": {
        "id": "h6Ms1tnmnVes",
        "colab_type": "text"
      },
      "source": [
        "We also see less overall cases towards the last few years of this data, there could have been a confounding variable to contribute to this such as medical breakthrough, hospital budget or medical detection."
      ]
    },
    {
      "cell_type": "code",
      "metadata": {
        "id": "7TA1KCMsn0uu",
        "colab_type": "code",
        "colab": {
          "base_uri": "https://localhost:8080/",
          "height": 295
        },
        "outputId": "ef103110-e0a4-4690-a1a9-10f036852d5e"
      },
      "source": [
        "df.patient_year.hist(color='green',bins=12)\n",
        "plt.title ('Patients by Year')\n",
        "plt.ylabel('Count')\n",
        "plt.xlabel('Year')\n",
        "plt.show()"
      ],
      "execution_count": 41,
      "outputs": [
        {
          "output_type": "display_data",
          "data": {
            "image/png": "[encoded data removed]",
            "text/plain": [
              "<Figure size 432x288 with 1 Axes>"
            ]
          },
          "metadata": {
            "tags": []
          }
        }
      ]
    },
    {
      "cell_type": "markdown",
      "metadata": {
        "id": "QPVcwEETm2R1",
        "colab_type": "text"
      },
      "source": [
        "**What is at least one feature that looks to have a negative relationship with survival?**"
      ]
    },
    {
      "cell_type": "markdown",
      "metadata": {
        "id": "4OcJNu8NnI8H",
        "colab_type": "text"
      },
      "source": [
        "One negative relathionship with survival is the total number of positive axillary nodes detected, as we patients with higher amount of nodes detected we see the odds of survival come down."
      ]
    },
    {
      "cell_type": "code",
      "metadata": {
        "id": "pLWZV5VSlgQA",
        "colab_type": "code",
        "colab": {
          "base_uri": "https://localhost:8080/",
          "height": 142
        },
        "outputId": "c373f600-ced8-4f8c-9dc2-34d2fc637073"
      },
      "source": [
        "pd.crosstab(df['surviving5years'], df['nodes_bins'],normalize='index')"
      ],
      "execution_count": 42,
      "outputs": [
        {
          "output_type": "execute_result",
          "data": {
            "text/html": [
              "<div>\n",
              "<style scoped>\n",
              "    .dataframe tbody tr th:only-of-type {\n",
              "        vertical-align: middle;\n",
              "    }\n",
              "\n",
              "    .dataframe tbody tr th {\n",
              "        vertical-align: top;\n",
              "    }\n",
              "\n",
              "    .dataframe thead th {\n",
              "        text-align: right;\n",
              "    }\n",
              "</style>\n",
              "<table border=\"1\" class=\"dataframe\">\n",
              "  <thead>\n",
              "    <tr style=\"text-align: right;\">\n",
              "      <th>nodes_bins</th>\n",
              "      <th>(-1.001, 5.0]</th>\n",
              "      <th>(10.0, 15.0]</th>\n",
              "      <th>(15.0, 20.0]</th>\n",
              "      <th>(20.0, 25.0]</th>\n",
              "      <th>(25.0, 53.0]</th>\n",
              "      <th>(5.0, 10.0]</th>\n",
              "    </tr>\n",
              "    <tr>\n",
              "      <th>surviving5years</th>\n",
              "      <th></th>\n",
              "      <th></th>\n",
              "      <th></th>\n",
              "      <th></th>\n",
              "      <th></th>\n",
              "      <th></th>\n",
              "    </tr>\n",
              "  </thead>\n",
              "  <tbody>\n",
              "    <tr>\n",
              "      <th>0</th>\n",
              "      <td>0.567901</td>\n",
              "      <td>0.135802</td>\n",
              "      <td>0.049383</td>\n",
              "      <td>0.074074</td>\n",
              "      <td>0.024691</td>\n",
              "      <td>0.148148</td>\n",
              "    </tr>\n",
              "    <tr>\n",
              "      <th>1</th>\n",
              "      <td>0.844444</td>\n",
              "      <td>0.031111</td>\n",
              "      <td>0.017778</td>\n",
              "      <td>0.013333</td>\n",
              "      <td>0.013333</td>\n",
              "      <td>0.080000</td>\n",
              "    </tr>\n",
              "  </tbody>\n",
              "</table>\n",
              "</div>"
            ],
            "text/plain": [
              "nodes_bins       (-1.001, 5.0]  (10.0, 15.0]  ...  (25.0, 53.0]  (5.0, 10.0]\n",
              "surviving5years                               ...                           \n",
              "0                     0.567901      0.135802  ...      0.024691     0.148148\n",
              "1                     0.844444      0.031111  ...      0.013333     0.080000\n",
              "\n",
              "[2 rows x 6 columns]"
            ]
          },
          "metadata": {
            "tags": []
          },
          "execution_count": 42
        }
      ]
    },
    {
      "cell_type": "code",
      "metadata": {
        "id": "i2jo5_oUuMCA",
        "colab_type": "code",
        "colab": {
          "base_uri": "https://localhost:8080/",
          "height": 142
        },
        "outputId": "d7d399fb-c0ee-43cd-e467-8d7336351c2a"
      },
      "source": [
        "pd.crosstab(df['surviving5years'], df['less_than5_nodes'],normalize='columns')"
      ],
      "execution_count": 43,
      "outputs": [
        {
          "output_type": "execute_result",
          "data": {
            "text/html": [
              "<div>\n",
              "<style scoped>\n",
              "    .dataframe tbody tr th:only-of-type {\n",
              "        vertical-align: middle;\n",
              "    }\n",
              "\n",
              "    .dataframe tbody tr th {\n",
              "        vertical-align: top;\n",
              "    }\n",
              "\n",
              "    .dataframe thead th {\n",
              "        text-align: right;\n",
              "    }\n",
              "</style>\n",
              "<table border=\"1\" class=\"dataframe\">\n",
              "  <thead>\n",
              "    <tr style=\"text-align: right;\">\n",
              "      <th>less_than5_nodes</th>\n",
              "      <th>0</th>\n",
              "      <th>1</th>\n",
              "    </tr>\n",
              "    <tr>\n",
              "      <th>surviving5years</th>\n",
              "      <th></th>\n",
              "      <th></th>\n",
              "    </tr>\n",
              "  </thead>\n",
              "  <tbody>\n",
              "    <tr>\n",
              "      <th>0</th>\n",
              "      <td>0.5</td>\n",
              "      <td>0.194915</td>\n",
              "    </tr>\n",
              "    <tr>\n",
              "      <th>1</th>\n",
              "      <td>0.5</td>\n",
              "      <td>0.805085</td>\n",
              "    </tr>\n",
              "  </tbody>\n",
              "</table>\n",
              "</div>"
            ],
            "text/plain": [
              "less_than5_nodes    0         1\n",
              "surviving5years                \n",
              "0                 0.5  0.194915\n",
              "1                 0.5  0.805085"
            ]
          },
          "metadata": {
            "tags": []
          },
          "execution_count": 43
        }
      ]
    },
    {
      "cell_type": "markdown",
      "metadata": {
        "id": "18G2vMY0ocMI",
        "colab_type": "text"
      },
      "source": [
        "**How are those two features related with each other, and what might that mean?**"
      ]
    },
    {
      "cell_type": "markdown",
      "metadata": {
        "id": "eNpfHch2oglV",
        "colab_type": "text"
      },
      "source": [
        "Number of positive nodes develop overtime, therefore if we enhance detection we could improve the odds of survival not just by having younger patients but also possibly reduce the amount of positive nodes. Therefore, the hypothesis that early detection will lead to higher survival rates."
      ]
    },
    {
      "cell_type": "code",
      "metadata": {
        "id": "4KSyAVgCoKAX",
        "colab_type": "code",
        "colab": {
          "base_uri": "https://localhost:8080/",
          "height": 301
        },
        "outputId": "e8783190-3c24-41ac-894d-97038a060dfd"
      },
      "source": [
        "sns.set(style=\"whitegrid\")\n",
        "sns.scatterplot(x='patient_age',y='positive_axillary_nodes',hue='surviving5years',data= df);\n",
        "plt.title('Patient age versus Number of Positive Nodes by Surviving >5 Year Bin');\n",
        "plt.legend(bbox_to_anchor=(1.05, 1), loc=2, borderaxespad=0.);"
      ],
      "execution_count": 44,
      "outputs": [
        {
          "output_type": "display_data",
          "data": {
            "image/png": "[encoded data removed]",
            "text/plain": [
              "<Figure size 432x288 with 1 Axes>"
            ]
          },
          "metadata": {
            "tags": []
          }
        }
      ]
    }
  ]
}