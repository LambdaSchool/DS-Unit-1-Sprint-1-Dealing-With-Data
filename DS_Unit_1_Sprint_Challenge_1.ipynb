{
  "nbformat": 4,
  "nbformat_minor": 0,
  "metadata": {
    "colab": {
      "name": "DS_Unit_1_Sprint_Challenge_1.ipynb",
      "version": "0.3.2",
      "provenance": [],
      "collapsed_sections": [],
      "include_colab_link": true
    },
    "kernelspec": {
      "name": "python3",
      "display_name": "Python 3"
    }
  },
  "cells": [
    {
      "cell_type": "markdown",
      "metadata": {
        "id": "view-in-github",
        "colab_type": "text"
      },
      "source": [
        "<a href=\"https://colab.research.google.com/github/will-cotton4/DS-Unit-1-Sprint-1-Dealing-With-Data/blob/master/DS_Unit_1_Sprint_Challenge_1.ipynb\" target=\"_parent\"><img src=\"https://colab.research.google.com/assets/colab-badge.svg\" alt=\"Open In Colab\"/></a>"
      ]
    },
    {
      "metadata": {
        "id": "NooAiTdnafkz",
        "colab_type": "text"
      },
      "cell_type": "markdown",
      "source": [
        "# Data Science Unit 1 Sprint Challenge 1\n",
        "\n",
        "## Loading, cleaning, visualizing, and analyzing data\n",
        "\n",
        "In this sprint challenge you will look at a dataset of the survival of patients who underwent surgery for breast cancer.\n",
        "\n",
        "http://archive.ics.uci.edu/ml/datasets/Haberman%27s+Survival\n",
        "\n",
        "Data Set Information:\n",
        "The dataset contains cases from a study that was conducted between 1958 and 1970 at the University of Chicago's Billings Hospital on the survival of patients who had undergone surgery for breast cancer.\n",
        "\n",
        "Attribute Information:\n",
        "1. Age of patient at time of operation (numerical)\n",
        "2. Patient's year of operation (year - 1900, numerical)\n",
        "3. Number of positive axillary nodes detected (numerical)\n",
        "4. Survival status (class attribute)\n",
        "-- 1 = the patient survived 5 years or longer\n",
        "-- 2 = the patient died within 5 year\n",
        "\n",
        "Sprint challenges are evaluated based on satisfactory completion of each part. It is suggested you work through it in order, getting each aspect reasonably working, before trying to deeply explore, iterate, or refine any given step. Once you get to the end, if you want to go back and improve things, go for it!"
      ]
    },
    {
      "metadata": {
        "id": "5wch6ksCbJtZ",
        "colab_type": "text"
      },
      "cell_type": "markdown",
      "source": [
        "## Part 1 - Load and validate the data\n",
        "\n",
        "- Load the data as a `pandas` data frame. (CHECK)\n",
        "- Validate that it has the appropriate number of observations (you can check the raw file, and also read the dataset description from UCI). (CHECK)\n",
        "- Validate that you have no missing values. (CHECK)\n",
        "- Add informative names to the features. (CHECK)\n",
        "- The survival variable is encoded as 1 for surviving >5 years and 2 for not - change this to be 0 for not surviving and 1 for surviving >5 years (0/1 is a more traditional encoding of binary variables) (CHECK)\n",
        "\n",
        "At the end, print the first five rows of the dataset to demonstrate the above. (CHECK)\n",
        "\n",
        "#### Expand following cells for solutions."
      ]
    },
    {
      "metadata": {
        "id": "vKkTiooM8gzN",
        "colab_type": "text"
      },
      "cell_type": "markdown",
      "source": [
        "### Load the data as a `pandas` data frame/ Add informative names to the features."
      ]
    },
    {
      "metadata": {
        "id": "287TpoGKFRVK",
        "colab_type": "code",
        "colab": {}
      },
      "cell_type": "code",
      "source": [
        "import pandas as pd\n",
        "\n",
        "# Read csv and fix column names\n",
        "\n",
        "cancer_data = pd.read_csv('http://archive.ics.uci.edu/ml/machine-learning-databases/haberman/haberman.data')\n",
        "cancer_data.columns = ['age', 'op_year', 'pos_ax_nodes', 'survival_status']\n",
        "\n",
        "# Change the year column to improve readability\n",
        "\n",
        "cancer_data['op_year'] = cancer_data['op_year'].apply(lambda x: x + 1900)\n"
      ],
      "execution_count": 0,
      "outputs": []
    },
    {
      "metadata": {
        "id": "UVtKEmJB8ZhW",
        "colab_type": "text"
      },
      "cell_type": "markdown",
      "source": [
        "### Validate that it has the appropriate number of observations (you can check the raw file, and also read the dataset description from UCI)."
      ]
    },
    {
      "metadata": {
        "id": "9RdpbKLn8dx-",
        "colab_type": "code",
        "colab": {
          "base_uri": "https://localhost:8080/",
          "height": 102
        },
        "outputId": "03b25ff3-0744-41e8-d58f-d8930a68572a"
      },
      "cell_type": "code",
      "source": [
        "cancer_data.count()"
      ],
      "execution_count": 78,
      "outputs": [
        {
          "output_type": "execute_result",
          "data": {
            "text/plain": [
              "age                305\n",
              "op_year            305\n",
              "pos_ax_nodes       305\n",
              "survival_status    305\n",
              "dtype: int64"
            ]
          },
          "metadata": {
            "tags": []
          },
          "execution_count": 78
        }
      ]
    },
    {
      "metadata": {
        "id": "SyI7JimL8tEr",
        "colab_type": "text"
      },
      "cell_type": "markdown",
      "source": [
        "### Validate that you have no missing values."
      ]
    },
    {
      "metadata": {
        "id": "-ss9TaK98xlQ",
        "colab_type": "code",
        "colab": {
          "base_uri": "https://localhost:8080/",
          "height": 102
        },
        "outputId": "29f1a3a3-48a0-4596-a159-70ac206293bb"
      },
      "cell_type": "code",
      "source": [
        "cancer_data.isna().sum()"
      ],
      "execution_count": 79,
      "outputs": [
        {
          "output_type": "execute_result",
          "data": {
            "text/plain": [
              "age                0\n",
              "op_year            0\n",
              "pos_ax_nodes       0\n",
              "survival_status    0\n",
              "dtype: int64"
            ]
          },
          "metadata": {
            "tags": []
          },
          "execution_count": 79
        }
      ]
    },
    {
      "metadata": {
        "id": "QmJ6Qsva82K9",
        "colab_type": "text"
      },
      "cell_type": "markdown",
      "source": [
        "### Encode survival variable as 0/1 for not survival/survival/ Print header."
      ]
    },
    {
      "metadata": {
        "id": "2uzmyNE_9IkP",
        "colab_type": "code",
        "colab": {
          "base_uri": "https://localhost:8080/",
          "height": 204
        },
        "outputId": "bc5ca37b-a4b0-4a31-95f5-28bb137e344c"
      },
      "cell_type": "code",
      "source": [
        "cancer_data['survival_status'] = cancer_data['survival_status'].replace({2:0})\n",
        "cancer_data.head()"
      ],
      "execution_count": 80,
      "outputs": [
        {
          "output_type": "execute_result",
          "data": {
            "text/html": [
              "<div>\n",
              "<style scoped>\n",
              "    .dataframe tbody tr th:only-of-type {\n",
              "        vertical-align: middle;\n",
              "    }\n",
              "\n",
              "    .dataframe tbody tr th {\n",
              "        vertical-align: top;\n",
              "    }\n",
              "\n",
              "    .dataframe thead th {\n",
              "        text-align: right;\n",
              "    }\n",
              "</style>\n",
              "<table border=\"1\" class=\"dataframe\">\n",
              "  <thead>\n",
              "    <tr style=\"text-align: right;\">\n",
              "      <th></th>\n",
              "      <th>age</th>\n",
              "      <th>op_year</th>\n",
              "      <th>pos_ax_nodes</th>\n",
              "      <th>survival_status</th>\n",
              "    </tr>\n",
              "  </thead>\n",
              "  <tbody>\n",
              "    <tr>\n",
              "      <th>0</th>\n",
              "      <td>30</td>\n",
              "      <td>1962</td>\n",
              "      <td>3</td>\n",
              "      <td>1</td>\n",
              "    </tr>\n",
              "    <tr>\n",
              "      <th>1</th>\n",
              "      <td>30</td>\n",
              "      <td>1965</td>\n",
              "      <td>0</td>\n",
              "      <td>1</td>\n",
              "    </tr>\n",
              "    <tr>\n",
              "      <th>2</th>\n",
              "      <td>31</td>\n",
              "      <td>1959</td>\n",
              "      <td>2</td>\n",
              "      <td>1</td>\n",
              "    </tr>\n",
              "    <tr>\n",
              "      <th>3</th>\n",
              "      <td>31</td>\n",
              "      <td>1965</td>\n",
              "      <td>4</td>\n",
              "      <td>1</td>\n",
              "    </tr>\n",
              "    <tr>\n",
              "      <th>4</th>\n",
              "      <td>33</td>\n",
              "      <td>1958</td>\n",
              "      <td>10</td>\n",
              "      <td>1</td>\n",
              "    </tr>\n",
              "  </tbody>\n",
              "</table>\n",
              "</div>"
            ],
            "text/plain": [
              "   age  op_year  pos_ax_nodes  survival_status\n",
              "0   30     1962             3                1\n",
              "1   30     1965             0                1\n",
              "2   31     1959             2                1\n",
              "3   31     1965             4                1\n",
              "4   33     1958            10                1"
            ]
          },
          "metadata": {
            "tags": []
          },
          "execution_count": 80
        }
      ]
    },
    {
      "metadata": {
        "id": "G7rLytbrO38L",
        "colab_type": "text"
      },
      "cell_type": "markdown",
      "source": [
        "## Part 2 - Examine the distribution and relationships of the features\n",
        "\n",
        "Explore the data - create at least *2* tables (can be summary statistics or crosstabulations) and *2* plots illustrating the nature of the data.\n",
        "\n",
        "This is open-ended, so to remind - first *complete* this task as a baseline, then go on to the remaining sections, and *then* as time allows revisit and explore further.\n",
        "\n",
        "Hint - you may need to bin some variables depending on your chosen tables/plots.\n",
        "\n",
        "#### Expand following cells for solutions."
      ]
    },
    {
      "metadata": {
        "id": "GXexr4aW-GSB",
        "colab_type": "text"
      },
      "cell_type": "markdown",
      "source": [
        "### Two tables"
      ]
    },
    {
      "metadata": {
        "id": "Z9MYyRbN-iE_",
        "colab_type": "text"
      },
      "cell_type": "markdown",
      "source": [
        "#### First, let's take a look at the relationship between age range (i.e., bin age first) and survival status. "
      ]
    },
    {
      "metadata": {
        "id": "IAkllgCIFVj0",
        "colab_type": "code",
        "colab": {
          "base_uri": "https://localhost:8080/",
          "height": 142
        },
        "outputId": "e90908ac-419e-489b-fdd6-44e4331e0dba"
      },
      "cell_type": "code",
      "source": [
        "# Bin age into groups\n",
        "age_bins = pd.cut(cancer_data['age'], 10)\n",
        "pd.crosstab(cancer_data['survival_status'], age_bins, normalize = 'columns')"
      ],
      "execution_count": 81,
      "outputs": [
        {
          "output_type": "execute_result",
          "data": {
            "text/html": [
              "<div>\n",
              "<style scoped>\n",
              "    .dataframe tbody tr th:only-of-type {\n",
              "        vertical-align: middle;\n",
              "    }\n",
              "\n",
              "    .dataframe tbody tr th {\n",
              "        vertical-align: top;\n",
              "    }\n",
              "\n",
              "    .dataframe thead th {\n",
              "        text-align: right;\n",
              "    }\n",
              "</style>\n",
              "<table border=\"1\" class=\"dataframe\">\n",
              "  <thead>\n",
              "    <tr style=\"text-align: right;\">\n",
              "      <th>age</th>\n",
              "      <th>(29.947, 35.3]</th>\n",
              "      <th>(35.3, 40.6]</th>\n",
              "      <th>(40.6, 45.9]</th>\n",
              "      <th>(45.9, 51.2]</th>\n",
              "      <th>(51.2, 56.5]</th>\n",
              "      <th>(56.5, 61.8]</th>\n",
              "      <th>(61.8, 67.1]</th>\n",
              "      <th>(67.1, 72.4]</th>\n",
              "      <th>(72.4, 77.7]</th>\n",
              "      <th>(77.7, 83.0]</th>\n",
              "    </tr>\n",
              "    <tr>\n",
              "      <th>survival_status</th>\n",
              "      <th></th>\n",
              "      <th></th>\n",
              "      <th></th>\n",
              "      <th></th>\n",
              "      <th></th>\n",
              "      <th></th>\n",
              "      <th></th>\n",
              "      <th></th>\n",
              "      <th></th>\n",
              "      <th></th>\n",
              "    </tr>\n",
              "  </thead>\n",
              "  <tbody>\n",
              "    <tr>\n",
              "      <th>0</th>\n",
              "      <td>0.133333</td>\n",
              "      <td>0.074074</td>\n",
              "      <td>0.326087</td>\n",
              "      <td>0.301887</td>\n",
              "      <td>0.327273</td>\n",
              "      <td>0.219512</td>\n",
              "      <td>0.292683</td>\n",
              "      <td>0.222222</td>\n",
              "      <td>0.142857</td>\n",
              "      <td>1.0</td>\n",
              "    </tr>\n",
              "    <tr>\n",
              "      <th>1</th>\n",
              "      <td>0.866667</td>\n",
              "      <td>0.925926</td>\n",
              "      <td>0.673913</td>\n",
              "      <td>0.698113</td>\n",
              "      <td>0.672727</td>\n",
              "      <td>0.780488</td>\n",
              "      <td>0.707317</td>\n",
              "      <td>0.777778</td>\n",
              "      <td>0.857143</td>\n",
              "      <td>0.0</td>\n",
              "    </tr>\n",
              "  </tbody>\n",
              "</table>\n",
              "</div>"
            ],
            "text/plain": [
              "age              (29.947, 35.3]  (35.3, 40.6]  (40.6, 45.9]  (45.9, 51.2]  \\\n",
              "survival_status                                                             \n",
              "0                      0.133333      0.074074      0.326087      0.301887   \n",
              "1                      0.866667      0.925926      0.673913      0.698113   \n",
              "\n",
              "age              (51.2, 56.5]  (56.5, 61.8]  (61.8, 67.1]  (67.1, 72.4]  \\\n",
              "survival_status                                                           \n",
              "0                    0.327273      0.219512      0.292683      0.222222   \n",
              "1                    0.672727      0.780488      0.707317      0.777778   \n",
              "\n",
              "age              (72.4, 77.7]  (77.7, 83.0]  \n",
              "survival_status                              \n",
              "0                    0.142857           1.0  \n",
              "1                    0.857143           0.0  "
            ]
          },
          "metadata": {
            "tags": []
          },
          "execution_count": 81
        }
      ]
    },
    {
      "metadata": {
        "id": "d-KmbDJW_Ow_",
        "colab_type": "text"
      },
      "cell_type": "markdown",
      "source": [
        "  Interesting. I would have expected the correlation to be much cleaner--that as age increases the probability of survival monotonically decreases, since the `survival_status` statistic just measures whether the patient survives five years--even if the patient dies of some other, unrelated misfortune.\n",
        "\n",
        "  Perhaps there's a confounding variable or two here; perhaps the patients who survive to be older might be a healthier population on average than the patients who contract breast cancer earlier in life. Perhaps the genes or life circumstances that lead a patient to contract breast cancer early also make the cancer more deadly or make the patient more vulnerable to other illnesses. "
      ]
    },
    {
      "metadata": {
        "id": "1OKs04hE_3-x",
        "colab_type": "text"
      },
      "cell_type": "markdown",
      "source": [
        "#### Let's take a look at the relationship between positive axillary nodes (again, binned) and survival_status."
      ]
    },
    {
      "metadata": {
        "id": "wVC-_amoANmC",
        "colab_type": "code",
        "colab": {
          "base_uri": "https://localhost:8080/",
          "height": 142
        },
        "outputId": "5adf7e9f-0f34-4307-d32a-13dfc61eea1b"
      },
      "cell_type": "code",
      "source": [
        "node_bins = pd.cut(cancer_data['pos_ax_nodes'], 4)\n",
        "pd.crosstab(cancer_data['survival_status'], node_bins, normalize = 'columns')"
      ],
      "execution_count": 82,
      "outputs": [
        {
          "output_type": "execute_result",
          "data": {
            "text/html": [
              "<div>\n",
              "<style scoped>\n",
              "    .dataframe tbody tr th:only-of-type {\n",
              "        vertical-align: middle;\n",
              "    }\n",
              "\n",
              "    .dataframe tbody tr th {\n",
              "        vertical-align: top;\n",
              "    }\n",
              "\n",
              "    .dataframe thead th {\n",
              "        text-align: right;\n",
              "    }\n",
              "</style>\n",
              "<table border=\"1\" class=\"dataframe\">\n",
              "  <thead>\n",
              "    <tr style=\"text-align: right;\">\n",
              "      <th>pos_ax_nodes</th>\n",
              "      <th>(-0.052, 13.0]</th>\n",
              "      <th>(13.0, 26.0]</th>\n",
              "      <th>(26.0, 39.0]</th>\n",
              "      <th>(39.0, 52.0]</th>\n",
              "    </tr>\n",
              "    <tr>\n",
              "      <th>survival_status</th>\n",
              "      <th></th>\n",
              "      <th></th>\n",
              "      <th></th>\n",
              "      <th></th>\n",
              "    </tr>\n",
              "  </thead>\n",
              "  <tbody>\n",
              "    <tr>\n",
              "      <th>0</th>\n",
              "      <td>0.23913</td>\n",
              "      <td>0.541667</td>\n",
              "      <td>0.333333</td>\n",
              "      <td>0.5</td>\n",
              "    </tr>\n",
              "    <tr>\n",
              "      <th>1</th>\n",
              "      <td>0.76087</td>\n",
              "      <td>0.458333</td>\n",
              "      <td>0.666667</td>\n",
              "      <td>0.5</td>\n",
              "    </tr>\n",
              "  </tbody>\n",
              "</table>\n",
              "</div>"
            ],
            "text/plain": [
              "pos_ax_nodes     (-0.052, 13.0]  (13.0, 26.0]  (26.0, 39.0]  (39.0, 52.0]\n",
              "survival_status                                                          \n",
              "0                       0.23913      0.541667      0.333333           0.5\n",
              "1                       0.76087      0.458333      0.666667           0.5"
            ]
          },
          "metadata": {
            "tags": []
          },
          "execution_count": 82
        }
      ]
    },
    {
      "metadata": {
        "id": "B-ZPW5jaBG5p",
        "colab_type": "text"
      },
      "cell_type": "markdown",
      "source": [
        "  Again, I would have expected that the survival rate would be more tightly correlated with the number of axillary nodes, but in this case, I think the crosstab doesn't show the whole picture. Looking more closely at the data:"
      ]
    },
    {
      "metadata": {
        "id": "GQmftELTBWcl",
        "colab_type": "code",
        "colab": {
          "base_uri": "https://localhost:8080/",
          "height": 204
        },
        "outputId": "04e811b1-30c1-4e3d-d558-5eda3c22e143"
      },
      "cell_type": "code",
      "source": [
        "cancer_data['pos_ax_nodes'].sort_values(ascending=False).head(10)"
      ],
      "execution_count": 83,
      "outputs": [
        {
          "output_type": "execute_result",
          "data": {
            "text/plain": [
              "61     52\n",
              "173    46\n",
              "214    35\n",
              "8      30\n",
              "251    28\n",
              "226    25\n",
              "159    24\n",
              "167    23\n",
              "42     23\n",
              "95     23\n",
              "Name: pos_ax_nodes, dtype: int64"
            ]
          },
          "metadata": {
            "tags": []
          },
          "execution_count": 83
        }
      ]
    },
    {
      "metadata": {
        "id": "zWy1Ta6wBmz7",
        "colab_type": "text"
      },
      "cell_type": "markdown",
      "source": [
        "  I was tipped off by those suspiciously clean proportions in the last two columns: there were only five patients with more than 25 positive axillary nodes in this sample, too small a sample to draw any conclusions.\n",
        "\n",
        "  As with the age analysis above, there's a hidden confounder here: according to healthline.com, most people have between 20 and 40 axillary lymph nodes *total*. One of these patients had 52 positive axillary nodes, which seems a truly incredible level of progression for the disease. Any patient who managed to survive the cancer long enough for it to spread to 52 (or 46, or 35) axillary nodes probably had a higher baseline of health before contracting cancer, so probably would have a better shot at surviving the disease than someone else, all other things equal. The discrepancy might therefore just be a case of survivorship bias: the patients who managed to live long enough to have more than 25 axillary nodes colonized by cancer cells might just be hardier as a population than those who have had fewer nodes colonized.\n",
        "\n",
        "   But again, these explanations are only conjecture based on limited data; there aren't enough points available to make a robust conclusion in this upper range of axillary nodes."
      ]
    },
    {
      "metadata": {
        "id": "NTgoy1pgOuMG",
        "colab_type": "text"
      },
      "cell_type": "markdown",
      "source": [
        "#### Let's also take a look at comparing the year in which the operation was performed against the patient's survival rate:"
      ]
    },
    {
      "metadata": {
        "id": "bmjPHq2OO2z9",
        "colab_type": "code",
        "colab": {
          "base_uri": "https://localhost:8080/",
          "height": 142
        },
        "outputId": "15b7c481-a7b2-4fa5-fdb2-d9b4ac8a24cf"
      },
      "cell_type": "code",
      "source": [
        "# First, bin the data:\n",
        "op_year_bins = pd.cut(cancer_data['op_year'], 6)\n",
        "pd.crosstab(cancer_data['survival_status'], op_year_bins, normalize = 'columns')"
      ],
      "execution_count": 84,
      "outputs": [
        {
          "output_type": "execute_result",
          "data": {
            "text/html": [
              "<div>\n",
              "<style scoped>\n",
              "    .dataframe tbody tr th:only-of-type {\n",
              "        vertical-align: middle;\n",
              "    }\n",
              "\n",
              "    .dataframe tbody tr th {\n",
              "        vertical-align: top;\n",
              "    }\n",
              "\n",
              "    .dataframe thead th {\n",
              "        text-align: right;\n",
              "    }\n",
              "</style>\n",
              "<table border=\"1\" class=\"dataframe\">\n",
              "  <thead>\n",
              "    <tr style=\"text-align: right;\">\n",
              "      <th>op_year</th>\n",
              "      <th>(1957.989, 1959.833]</th>\n",
              "      <th>(1959.833, 1961.667]</th>\n",
              "      <th>(1961.667, 1963.5]</th>\n",
              "      <th>(1963.5, 1965.333]</th>\n",
              "      <th>(1965.333, 1967.167]</th>\n",
              "      <th>(1967.167, 1969.0]</th>\n",
              "    </tr>\n",
              "    <tr>\n",
              "      <th>survival_status</th>\n",
              "      <th></th>\n",
              "      <th></th>\n",
              "      <th></th>\n",
              "      <th></th>\n",
              "      <th></th>\n",
              "      <th></th>\n",
              "    </tr>\n",
              "  </thead>\n",
              "  <tbody>\n",
              "    <tr>\n",
              "      <th>0</th>\n",
              "      <td>0.333333</td>\n",
              "      <td>0.12963</td>\n",
              "      <td>0.283019</td>\n",
              "      <td>0.362069</td>\n",
              "      <td>0.188679</td>\n",
              "      <td>0.291667</td>\n",
              "    </tr>\n",
              "    <tr>\n",
              "      <th>1</th>\n",
              "      <td>0.666667</td>\n",
              "      <td>0.87037</td>\n",
              "      <td>0.716981</td>\n",
              "      <td>0.637931</td>\n",
              "      <td>0.811321</td>\n",
              "      <td>0.708333</td>\n",
              "    </tr>\n",
              "  </tbody>\n",
              "</table>\n",
              "</div>"
            ],
            "text/plain": [
              "op_year          (1957.989, 1959.833]  (1959.833, 1961.667]  \\\n",
              "survival_status                                               \n",
              "0                            0.333333               0.12963   \n",
              "1                            0.666667               0.87037   \n",
              "\n",
              "op_year          (1961.667, 1963.5]  (1963.5, 1965.333]  (1965.333, 1967.167]  \\\n",
              "survival_status                                                                 \n",
              "0                          0.283019            0.362069              0.188679   \n",
              "1                          0.716981            0.637931              0.811321   \n",
              "\n",
              "op_year          (1967.167, 1969.0]  \n",
              "survival_status                      \n",
              "0                          0.291667  \n",
              "1                          0.708333  "
            ]
          },
          "metadata": {
            "tags": []
          },
          "execution_count": 84
        }
      ]
    },
    {
      "metadata": {
        "id": "5Jl-iUqnPPfr",
        "colab_type": "text"
      },
      "cell_type": "markdown",
      "source": [
        "No strong correlation here, certainly not in the direction we might have expected; this phenomenon might be subject to the same survivorship bias as the other two variables. Patients who received the operation later might have been the beneficiaries of improvements in health that occurred in the intervening time."
      ]
    },
    {
      "metadata": {
        "id": "Qi667P7C-JDk",
        "colab_type": "text"
      },
      "cell_type": "markdown",
      "source": [
        "### Two plots"
      ]
    },
    {
      "metadata": {
        "id": "VaHuqmTJDPbP",
        "colab_type": "text"
      },
      "cell_type": "markdown",
      "source": [
        "#### First, we run a pairplot to get a sense of the data visually."
      ]
    },
    {
      "metadata": {
        "id": "95HYkXh--Lo_",
        "colab_type": "code",
        "colab": {
          "base_uri": "https://localhost:8080/",
          "height": 738
        },
        "outputId": "9c820aee-be7b-4e94-a6b2-31c516464217"
      },
      "cell_type": "code",
      "source": [
        "import seaborn as sns\n",
        "import numpy as np\n",
        "import matplotlib as mpl\n",
        "import matplotlib.pyplot as plt # Reluctantly...\n",
        "\n",
        "# This pairplot colors the data based on the patient's survival status;\n",
        "# patients who survived five years or longer are represented with green dots,\n",
        "# and those who didn't are represented with blue dots.\n",
        "\n",
        "sns.pairplot(cancer_data, hue=\"survival_status\")"
      ],
      "execution_count": 85,
      "outputs": [
        {
          "output_type": "execute_result",
          "data": {
            "text/plain": [
              "<seaborn.axisgrid.PairGrid at 0x7fda1bb22f98>"
            ]
          },
          "metadata": {
            "tags": []
          },
          "execution_count": 85
        },
        {
          "output_type": "display_data",
          "data": {
            "image/png": "[encoded data removed]",
            "text/plain": [
              "<Figure size 790.375x720 with 20 Axes>"
            ]
          },
          "metadata": {
            "tags": []
          }
        }
      ]
    },
    {
      "metadata": {
        "id": "OCK4L8pWDZ7j",
        "colab_type": "text"
      },
      "cell_type": "markdown",
      "source": [
        "#### Now let's take a closer look at two graphs of interest: a heatmap comparison of the number of axillary nodes against survival and a bar graph comparing the survival rates of different age groups against their respective survival rates."
      ]
    },
    {
      "metadata": {
        "id": "uN2Is2brEC96",
        "colab_type": "code",
        "colab": {
          "base_uri": "https://localhost:8080/",
          "height": 399
        },
        "outputId": "5581310c-e0e8-42a9-a27a-13e72e37812d"
      },
      "cell_type": "code",
      "source": [
        "f, (ax1, ax2) = plt.subplots(2, 1, figsize=(10, 5), sharex=True)\n",
        "\n",
        "# Heatmap of axillary nodes against survival\n",
        "\n",
        "sns.kdeplot(cancer_data['pos_ax_nodes'], cancer_data['survival_status'], cmap=cmap, shade=True, cut=5, ax=ax1)\n",
        "ax1.axhline(0, color=\"k\", clip_on=False)\n",
        "ax1.set_xlabel(\"Positive axillary nodes\")\n",
        "ax1.set_ylabel(\"Survival\")\n",
        "\n",
        "# Age range vs. survival rate\n",
        "\n",
        "sns.barplot(x=age_bins, y=cancer_data['survival_status'], ax=ax2)\n",
        "ax2.axhline(0, color=\"k\", clip_on=False)\n",
        "ax2.set_ylabel(\"Patient survival rate\")\n",
        "ax2.set_xlabel(\"Age range of patients\")\n",
        "\n",
        "\n",
        "# Finalize the plot\n",
        "sns.despine(bottom=True)\n",
        "plt.setp(f.axes, yticks=[])\n",
        "plt.tight_layout(h_pad=0)"
      ],
      "execution_count": 86,
      "outputs": [
        {
          "output_type": "stream",
          "text": [
            "/usr/local/lib/python3.6/dist-packages/seaborn/categorical.py:1428: FutureWarning: remove_na is deprecated and is a private function. Do not use.\n",
            "  stat_data = remove_na(group_data)\n"
          ],
          "name": "stderr"
        },
        {
          "output_type": "display_data",
          "data": {
            "image/png": "[encoded data removed]",
            "text/plain": [
              "<Figure size 720x360 with 2 Axes>"
            ]
          },
          "metadata": {
            "tags": []
          }
        }
      ]
    },
    {
      "metadata": {
        "id": "ZM8JckA2bgnp",
        "colab_type": "text"
      },
      "cell_type": "markdown",
      "source": [
        "## Part 3 - Analysis and Interpretation\n",
        "\n",
        "Now that you've looked at the data, answer the following questions:\n",
        "\n",
        "- What is at least one feature that looks to have a positive relationship with survival?\n",
        "- What is at least one feature that looks to have a negative relationship with survival?\n",
        "- How are those two features related with each other, and what might that mean?\n",
        "\n",
        "Answer with text, but feel free to intersperse example code/results or refer to it from earlier.\n",
        "\n",
        "#### Expand cells for answers."
      ]
    },
    {
      "metadata": {
        "id": "G2jNUCpmRCoX",
        "colab_type": "code",
        "colab": {
          "base_uri": "https://localhost:8080/",
          "height": 173
        },
        "outputId": "19c0590a-df77-49ae-a99c-c4f7fe692f62"
      },
      "cell_type": "code",
      "source": [
        "cancer_data.corr()"
      ],
      "execution_count": 87,
      "outputs": [
        {
          "output_type": "execute_result",
          "data": {
            "text/html": [
              "<div>\n",
              "<style scoped>\n",
              "    .dataframe tbody tr th:only-of-type {\n",
              "        vertical-align: middle;\n",
              "    }\n",
              "\n",
              "    .dataframe tbody tr th {\n",
              "        vertical-align: top;\n",
              "    }\n",
              "\n",
              "    .dataframe thead th {\n",
              "        text-align: right;\n",
              "    }\n",
              "</style>\n",
              "<table border=\"1\" class=\"dataframe\">\n",
              "  <thead>\n",
              "    <tr style=\"text-align: right;\">\n",
              "      <th></th>\n",
              "      <th>age</th>\n",
              "      <th>op_year</th>\n",
              "      <th>pos_ax_nodes</th>\n",
              "      <th>survival_status</th>\n",
              "    </tr>\n",
              "  </thead>\n",
              "  <tbody>\n",
              "    <tr>\n",
              "      <th>age</th>\n",
              "      <td>1.000000</td>\n",
              "      <td>0.092623</td>\n",
              "      <td>-0.066548</td>\n",
              "      <td>-0.064351</td>\n",
              "    </tr>\n",
              "    <tr>\n",
              "      <th>op_year</th>\n",
              "      <td>0.092623</td>\n",
              "      <td>1.000000</td>\n",
              "      <td>-0.003277</td>\n",
              "      <td>0.004076</td>\n",
              "    </tr>\n",
              "    <tr>\n",
              "      <th>pos_ax_nodes</th>\n",
              "      <td>-0.066548</td>\n",
              "      <td>-0.003277</td>\n",
              "      <td>1.000000</td>\n",
              "      <td>-0.286191</td>\n",
              "    </tr>\n",
              "    <tr>\n",
              "      <th>survival_status</th>\n",
              "      <td>-0.064351</td>\n",
              "      <td>0.004076</td>\n",
              "      <td>-0.286191</td>\n",
              "      <td>1.000000</td>\n",
              "    </tr>\n",
              "  </tbody>\n",
              "</table>\n",
              "</div>"
            ],
            "text/plain": [
              "                      age   op_year  pos_ax_nodes  survival_status\n",
              "age              1.000000  0.092623     -0.066548        -0.064351\n",
              "op_year          0.092623  1.000000     -0.003277         0.004076\n",
              "pos_ax_nodes    -0.066548 -0.003277      1.000000        -0.286191\n",
              "survival_status -0.064351  0.004076     -0.286191         1.000000"
            ]
          },
          "metadata": {
            "tags": []
          },
          "execution_count": 87
        }
      ]
    },
    {
      "metadata": {
        "id": "HYOw8-3VJHO1",
        "colab_type": "text"
      },
      "cell_type": "markdown",
      "source": [
        "I've addressed these questions partially in the text blocks above, but I'll summarize my preliminary conclusions here.\n",
        "\n",
        "First, the data has too many unreported confounding variables to draw any strong conclusions. The data appear on first inspection to suggest, for example, that older patients might be hardier than younger patients--but as noted, we don't have enough information about the relative baseline health qualities of the different demographic groups to draw anything but tentative conclusions about the relationship between age and outcome. There is a slight negative correlation between survivorship and age, but not nearly as strong as we might expect a priori.\n",
        "\n",
        "The relationship between positive axillary nodes and health outcomes seems to hold up on closer inspection (again, absent any more information about the baseline health considerations of individual patients). As one would expect, aside from the few outliers at the top end of the range, patients with more axillary nodes that have tested positive do tend to perform worse than those in the lower ranges; in other words, there is a negative correlation between them.\n",
        "\n",
        "The year in which the operation was performed also had a surprisingly low correlation relative to my prior assumptions. I would have assumed that it would have had a much better positive effect on outcomes, but since the dataset only covered a relatively short period of time, perhaps it's unreasonable to expect a substantial improvement in quality of care. Still, there was a weak positive correlation here.\n",
        "\n",
        "Each of these variables are likely confounded by the same set of unreported variables: the relative quality of the patient's overall health. If we wish to make more specific predictions about outcomes, we will need to collect more information on this subject, as well as more information about the relative progression of the disease aside from the number of axillary nodes that tested positive.\n",
        "\n",
        "I am not, of course, an oncologist, but it seems possible that the number of affected axillary nodes may be insufficient to accurately describe the progression of cancer within a patient's body. For example, one could imagine that a cancer might spread beyond the nodes altogether and metastasize to the liver or kidneys, so that a patient might have only a few affected axillary nodes but still find themselves in quite a dire situation indeed."
      ]
    }
  ]
}