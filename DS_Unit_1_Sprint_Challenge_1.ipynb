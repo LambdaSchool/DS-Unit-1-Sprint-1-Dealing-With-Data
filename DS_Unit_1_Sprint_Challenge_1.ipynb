{
  "nbformat": 4,
  "nbformat_minor": 0,
  "metadata": {
    "colab": {
      "name": "DS_Unit_1_Sprint_Challenge_1.ipynb",
      "version": "0.3.2",
      "provenance": [],
      "collapsed_sections": [],
      "include_colab_link": true
    },
    "kernelspec": {
      "name": "python3",
      "display_name": "Python 3"
    }
  },
  "cells": [
    {
      "cell_type": "markdown",
      "metadata": {
        "id": "view-in-github",
        "colab_type": "text"
      },
      "source": [
        "<a href=\"https://colab.research.google.com/github/zarrinan/DS-Sprint-01-Dealing-With-Data/blob/master/DS_Unit_1_Sprint_Challenge_1.ipynb\" target=\"_parent\"><img src=\"https://colab.research.google.com/assets/colab-badge.svg\" alt=\"Open In Colab\"/></a>"
      ]
    },
    {
      "metadata": {
        "id": "NooAiTdnafkz",
        "colab_type": "text"
      },
      "cell_type": "markdown",
      "source": [
        "# Data Science Unit 1 Sprint Challenge 1\n",
        "\n",
        "## Loading, cleaning, visualizing, and analyzing data\n",
        "\n",
        "In this sprint challenge you will look at a dataset of the survival of patients who underwent surgery for breast cancer.\n",
        "\n",
        "http://archive.ics.uci.edu/ml/datasets/Haberman%27s+Survival\n",
        "\n",
        "Data Set Information:\n",
        "The dataset contains cases from a study that was conducted between 1958 and 1970 at the University of Chicago's Billings Hospital on the survival of patients who had undergone surgery for breast cancer.\n",
        "\n",
        "Attribute Information:\n",
        "1. Age of patient at time of operation (numerical)\n",
        "2. Patient's year of operation (year - 1900, numerical)\n",
        "3. Number of positive axillary nodes detected (numerical)\n",
        "4. Survival status (class attribute)\n",
        "-- 1 = the patient survived 5 years or longer\n",
        "-- 2 = the patient died within 5 year\n",
        "\n",
        "Sprint challenges are evaluated based on satisfactory completion of each part. It is suggested you work through it in order, getting each aspect reasonably working, before trying to deeply explore, iterate, or refine any given step. Once you get to the end, if you want to go back and improve things, go for it!"
      ]
    },
    {
      "metadata": {
        "id": "5wch6ksCbJtZ",
        "colab_type": "text"
      },
      "cell_type": "markdown",
      "source": [
        "## Part 1 - Load and validate the data\n",
        "\n",
        "- Load the data as a `pandas` data frame.\n",
        "- Validate that it has the appropriate number of observations (you can check the raw file, and also read the dataset description from UCI).\n",
        "- Validate that you have no missing values.\n",
        "- Add informative names to the features.\n",
        "- The survival variable is encoded as 1 for surviving >5 years and 2 for not - change this to be 0 for not surviving and 1 for surviving >5 years (0/1 is a more traditional encoding of binary variables)\n",
        "\n",
        "At the end, print the first five rows of the dataset to demonstrate the above."
      ]
    },
    {
      "metadata": {
        "id": "287TpoGKFRVK",
        "colab_type": "code",
        "colab": {}
      },
      "cell_type": "code",
      "source": [
        "# TODO\n",
        "import pandas as pd\n",
        "import numpy as np\n",
        "import matplotlib.pyplot as plt\n",
        "import seaborn as sns\n"
      ],
      "execution_count": 0,
      "outputs": []
    },
    {
      "metadata": {
        "id": "ZErg0iW5OSiB",
        "colab_type": "code",
        "colab": {}
      },
      "cell_type": "code",
      "source": [
        "bc = pd.read_csv('http://archive.ics.uci.edu/ml/machine-learning-databases/haberman/haberman.data')\n",
        "! curl http://archive.ics.uci.edu/ml/machine-learning-databases/haberman/haberman.data"
      ],
      "execution_count": 0,
      "outputs": []
    },
    {
      "metadata": {
        "id": "8qjWEoCiOwqI",
        "colab_type": "code",
        "colab": {
          "base_uri": "https://localhost:8080/",
          "height": 34
        },
        "outputId": "f7a5729c-a30e-4a4a-97bc-238697b2401a"
      },
      "cell_type": "code",
      "source": [
        "!wget http://archive.ics.uci.edu/ml/machine-learning-databases/haberman/haberman.data | wc\n",
        "!ls"
      ],
      "execution_count": 7,
      "outputs": [
        {
          "output_type": "stream",
          "text": [
            "haberman.data  haberman.data.1\tsample_data\n"
          ],
          "name": "stdout"
        }
      ]
    },
    {
      "metadata": {
        "id": "_12SIQCuO_Ks",
        "colab_type": "code",
        "colab": {}
      },
      "cell_type": "code",
      "source": [
        "print(bc.shape)\n",
        "print(bc.info())\n",
        "print(bc.describe())\n",
        "bc.head()\n"
      ],
      "execution_count": 0,
      "outputs": []
    },
    {
      "metadata": {
        "id": "wFjc43qXQAIQ",
        "colab_type": "text"
      },
      "cell_type": "markdown",
      "source": [
        "Attribute Information:\n",
        "   1. Age of patient at time of operation (numerical)\n",
        "   2. Patient's year of operation (year - 1900, numerical)\n",
        "   3. Number of positive axillary nodes detected (numerical)\n",
        "   4. Survival status (class attribute)\n",
        "         1 = the patient survived 5 years or longer\n",
        "         2 = the patient died within 5 year"
      ]
    },
    {
      "metadata": {
        "id": "rd-a66jrP3Jo",
        "colab_type": "code",
        "colab": {}
      },
      "cell_type": "code",
      "source": [
        "col_names = ['age', 'operation year 1900+', 'pos nodes', 'survival status']"
      ],
      "execution_count": 0,
      "outputs": []
    },
    {
      "metadata": {
        "id": "3bjdPzLePrII",
        "colab_type": "code",
        "colab": {}
      },
      "cell_type": "code",
      "source": [
        "bcs = pd.read_csv('http://archive.ics.uci.edu/ml/machine-learning-databases/haberman/haberman.data', header=None, names=col_names)"
      ],
      "execution_count": 0,
      "outputs": []
    },
    {
      "metadata": {
        "id": "PRstQk1nQYkq",
        "colab_type": "code",
        "colab": {}
      },
      "cell_type": "code",
      "source": [
        "print(bcs.shape)\n",
        "print(bcs.info())\n",
        "print(bcs.describe())\n",
        "bcs.head()"
      ],
      "execution_count": 0,
      "outputs": []
    },
    {
      "metadata": {
        "id": "jmwgi9crQ1fC",
        "colab_type": "code",
        "colab": {}
      },
      "cell_type": "code",
      "source": [
        "bcs.isna().sum().sum()"
      ],
      "execution_count": 0,
      "outputs": []
    },
    {
      "metadata": {
        "id": "yDYt_rzvRIza",
        "colab_type": "code",
        "colab": {}
      },
      "cell_type": "code",
      "source": [
        "bcs['if_survived'] = bcs['survival status'].apply(lambda val: 0 if val == 2 else 1)\n"
      ],
      "execution_count": 0,
      "outputs": []
    },
    {
      "metadata": {
        "id": "ERKwDzRbSg4b",
        "colab_type": "code",
        "colab": {
          "base_uri": "https://localhost:8080/",
          "height": 1599
        },
        "outputId": "9cd53ddd-9978-4fbc-bfea-f119425afffa"
      },
      "cell_type": "code",
      "source": [
        "bcs.head(50)"
      ],
      "execution_count": 28,
      "outputs": [
        {
          "output_type": "execute_result",
          "data": {
            "text/html": [
              "<div>\n",
              "<style scoped>\n",
              "    .dataframe tbody tr th:only-of-type {\n",
              "        vertical-align: middle;\n",
              "    }\n",
              "\n",
              "    .dataframe tbody tr th {\n",
              "        vertical-align: top;\n",
              "    }\n",
              "\n",
              "    .dataframe thead th {\n",
              "        text-align: right;\n",
              "    }\n",
              "</style>\n",
              "<table border=\"1\" class=\"dataframe\">\n",
              "  <thead>\n",
              "    <tr style=\"text-align: right;\">\n",
              "      <th></th>\n",
              "      <th>age</th>\n",
              "      <th>operation year 1900+</th>\n",
              "      <th>pos nodes</th>\n",
              "      <th>survival status</th>\n",
              "      <th>if_survived</th>\n",
              "    </tr>\n",
              "  </thead>\n",
              "  <tbody>\n",
              "    <tr>\n",
              "      <th>0</th>\n",
              "      <td>30</td>\n",
              "      <td>64</td>\n",
              "      <td>1</td>\n",
              "      <td>1</td>\n",
              "      <td>1</td>\n",
              "    </tr>\n",
              "    <tr>\n",
              "      <th>1</th>\n",
              "      <td>30</td>\n",
              "      <td>62</td>\n",
              "      <td>3</td>\n",
              "      <td>1</td>\n",
              "      <td>1</td>\n",
              "    </tr>\n",
              "    <tr>\n",
              "      <th>2</th>\n",
              "      <td>30</td>\n",
              "      <td>65</td>\n",
              "      <td>0</td>\n",
              "      <td>1</td>\n",
              "      <td>1</td>\n",
              "    </tr>\n",
              "    <tr>\n",
              "      <th>3</th>\n",
              "      <td>31</td>\n",
              "      <td>59</td>\n",
              "      <td>2</td>\n",
              "      <td>1</td>\n",
              "      <td>1</td>\n",
              "    </tr>\n",
              "    <tr>\n",
              "      <th>4</th>\n",
              "      <td>31</td>\n",
              "      <td>65</td>\n",
              "      <td>4</td>\n",
              "      <td>1</td>\n",
              "      <td>1</td>\n",
              "    </tr>\n",
              "    <tr>\n",
              "      <th>5</th>\n",
              "      <td>33</td>\n",
              "      <td>58</td>\n",
              "      <td>10</td>\n",
              "      <td>1</td>\n",
              "      <td>1</td>\n",
              "    </tr>\n",
              "    <tr>\n",
              "      <th>6</th>\n",
              "      <td>33</td>\n",
              "      <td>60</td>\n",
              "      <td>0</td>\n",
              "      <td>1</td>\n",
              "      <td>1</td>\n",
              "    </tr>\n",
              "    <tr>\n",
              "      <th>7</th>\n",
              "      <td>34</td>\n",
              "      <td>59</td>\n",
              "      <td>0</td>\n",
              "      <td>2</td>\n",
              "      <td>0</td>\n",
              "    </tr>\n",
              "    <tr>\n",
              "      <th>8</th>\n",
              "      <td>34</td>\n",
              "      <td>66</td>\n",
              "      <td>9</td>\n",
              "      <td>2</td>\n",
              "      <td>0</td>\n",
              "    </tr>\n",
              "    <tr>\n",
              "      <th>9</th>\n",
              "      <td>34</td>\n",
              "      <td>58</td>\n",
              "      <td>30</td>\n",
              "      <td>1</td>\n",
              "      <td>1</td>\n",
              "    </tr>\n",
              "    <tr>\n",
              "      <th>10</th>\n",
              "      <td>34</td>\n",
              "      <td>60</td>\n",
              "      <td>1</td>\n",
              "      <td>1</td>\n",
              "      <td>1</td>\n",
              "    </tr>\n",
              "    <tr>\n",
              "      <th>11</th>\n",
              "      <td>34</td>\n",
              "      <td>61</td>\n",
              "      <td>10</td>\n",
              "      <td>1</td>\n",
              "      <td>1</td>\n",
              "    </tr>\n",
              "    <tr>\n",
              "      <th>12</th>\n",
              "      <td>34</td>\n",
              "      <td>67</td>\n",
              "      <td>7</td>\n",
              "      <td>1</td>\n",
              "      <td>1</td>\n",
              "    </tr>\n",
              "    <tr>\n",
              "      <th>13</th>\n",
              "      <td>34</td>\n",
              "      <td>60</td>\n",
              "      <td>0</td>\n",
              "      <td>1</td>\n",
              "      <td>1</td>\n",
              "    </tr>\n",
              "    <tr>\n",
              "      <th>14</th>\n",
              "      <td>35</td>\n",
              "      <td>64</td>\n",
              "      <td>13</td>\n",
              "      <td>1</td>\n",
              "      <td>1</td>\n",
              "    </tr>\n",
              "    <tr>\n",
              "      <th>15</th>\n",
              "      <td>35</td>\n",
              "      <td>63</td>\n",
              "      <td>0</td>\n",
              "      <td>1</td>\n",
              "      <td>1</td>\n",
              "    </tr>\n",
              "    <tr>\n",
              "      <th>16</th>\n",
              "      <td>36</td>\n",
              "      <td>60</td>\n",
              "      <td>1</td>\n",
              "      <td>1</td>\n",
              "      <td>1</td>\n",
              "    </tr>\n",
              "    <tr>\n",
              "      <th>17</th>\n",
              "      <td>36</td>\n",
              "      <td>69</td>\n",
              "      <td>0</td>\n",
              "      <td>1</td>\n",
              "      <td>1</td>\n",
              "    </tr>\n",
              "    <tr>\n",
              "      <th>18</th>\n",
              "      <td>37</td>\n",
              "      <td>60</td>\n",
              "      <td>0</td>\n",
              "      <td>1</td>\n",
              "      <td>1</td>\n",
              "    </tr>\n",
              "    <tr>\n",
              "      <th>19</th>\n",
              "      <td>37</td>\n",
              "      <td>63</td>\n",
              "      <td>0</td>\n",
              "      <td>1</td>\n",
              "      <td>1</td>\n",
              "    </tr>\n",
              "    <tr>\n",
              "      <th>20</th>\n",
              "      <td>37</td>\n",
              "      <td>58</td>\n",
              "      <td>0</td>\n",
              "      <td>1</td>\n",
              "      <td>1</td>\n",
              "    </tr>\n",
              "    <tr>\n",
              "      <th>21</th>\n",
              "      <td>37</td>\n",
              "      <td>59</td>\n",
              "      <td>6</td>\n",
              "      <td>1</td>\n",
              "      <td>1</td>\n",
              "    </tr>\n",
              "    <tr>\n",
              "      <th>22</th>\n",
              "      <td>37</td>\n",
              "      <td>60</td>\n",
              "      <td>15</td>\n",
              "      <td>1</td>\n",
              "      <td>1</td>\n",
              "    </tr>\n",
              "    <tr>\n",
              "      <th>23</th>\n",
              "      <td>37</td>\n",
              "      <td>63</td>\n",
              "      <td>0</td>\n",
              "      <td>1</td>\n",
              "      <td>1</td>\n",
              "    </tr>\n",
              "    <tr>\n",
              "      <th>24</th>\n",
              "      <td>38</td>\n",
              "      <td>69</td>\n",
              "      <td>21</td>\n",
              "      <td>2</td>\n",
              "      <td>0</td>\n",
              "    </tr>\n",
              "    <tr>\n",
              "      <th>25</th>\n",
              "      <td>38</td>\n",
              "      <td>59</td>\n",
              "      <td>2</td>\n",
              "      <td>1</td>\n",
              "      <td>1</td>\n",
              "    </tr>\n",
              "    <tr>\n",
              "      <th>26</th>\n",
              "      <td>38</td>\n",
              "      <td>60</td>\n",
              "      <td>0</td>\n",
              "      <td>1</td>\n",
              "      <td>1</td>\n",
              "    </tr>\n",
              "    <tr>\n",
              "      <th>27</th>\n",
              "      <td>38</td>\n",
              "      <td>60</td>\n",
              "      <td>0</td>\n",
              "      <td>1</td>\n",
              "      <td>1</td>\n",
              "    </tr>\n",
              "    <tr>\n",
              "      <th>28</th>\n",
              "      <td>38</td>\n",
              "      <td>62</td>\n",
              "      <td>3</td>\n",
              "      <td>1</td>\n",
              "      <td>1</td>\n",
              "    </tr>\n",
              "    <tr>\n",
              "      <th>29</th>\n",
              "      <td>38</td>\n",
              "      <td>64</td>\n",
              "      <td>1</td>\n",
              "      <td>1</td>\n",
              "      <td>1</td>\n",
              "    </tr>\n",
              "    <tr>\n",
              "      <th>30</th>\n",
              "      <td>38</td>\n",
              "      <td>66</td>\n",
              "      <td>0</td>\n",
              "      <td>1</td>\n",
              "      <td>1</td>\n",
              "    </tr>\n",
              "    <tr>\n",
              "      <th>31</th>\n",
              "      <td>38</td>\n",
              "      <td>66</td>\n",
              "      <td>11</td>\n",
              "      <td>1</td>\n",
              "      <td>1</td>\n",
              "    </tr>\n",
              "    <tr>\n",
              "      <th>32</th>\n",
              "      <td>38</td>\n",
              "      <td>60</td>\n",
              "      <td>1</td>\n",
              "      <td>1</td>\n",
              "      <td>1</td>\n",
              "    </tr>\n",
              "    <tr>\n",
              "      <th>33</th>\n",
              "      <td>38</td>\n",
              "      <td>67</td>\n",
              "      <td>5</td>\n",
              "      <td>1</td>\n",
              "      <td>1</td>\n",
              "    </tr>\n",
              "    <tr>\n",
              "      <th>34</th>\n",
              "      <td>39</td>\n",
              "      <td>66</td>\n",
              "      <td>0</td>\n",
              "      <td>2</td>\n",
              "      <td>0</td>\n",
              "    </tr>\n",
              "    <tr>\n",
              "      <th>35</th>\n",
              "      <td>39</td>\n",
              "      <td>63</td>\n",
              "      <td>0</td>\n",
              "      <td>1</td>\n",
              "      <td>1</td>\n",
              "    </tr>\n",
              "    <tr>\n",
              "      <th>36</th>\n",
              "      <td>39</td>\n",
              "      <td>67</td>\n",
              "      <td>0</td>\n",
              "      <td>1</td>\n",
              "      <td>1</td>\n",
              "    </tr>\n",
              "    <tr>\n",
              "      <th>37</th>\n",
              "      <td>39</td>\n",
              "      <td>58</td>\n",
              "      <td>0</td>\n",
              "      <td>1</td>\n",
              "      <td>1</td>\n",
              "    </tr>\n",
              "    <tr>\n",
              "      <th>38</th>\n",
              "      <td>39</td>\n",
              "      <td>59</td>\n",
              "      <td>2</td>\n",
              "      <td>1</td>\n",
              "      <td>1</td>\n",
              "    </tr>\n",
              "    <tr>\n",
              "      <th>39</th>\n",
              "      <td>39</td>\n",
              "      <td>63</td>\n",
              "      <td>4</td>\n",
              "      <td>1</td>\n",
              "      <td>1</td>\n",
              "    </tr>\n",
              "    <tr>\n",
              "      <th>40</th>\n",
              "      <td>40</td>\n",
              "      <td>58</td>\n",
              "      <td>2</td>\n",
              "      <td>1</td>\n",
              "      <td>1</td>\n",
              "    </tr>\n",
              "    <tr>\n",
              "      <th>41</th>\n",
              "      <td>40</td>\n",
              "      <td>58</td>\n",
              "      <td>0</td>\n",
              "      <td>1</td>\n",
              "      <td>1</td>\n",
              "    </tr>\n",
              "    <tr>\n",
              "      <th>42</th>\n",
              "      <td>40</td>\n",
              "      <td>65</td>\n",
              "      <td>0</td>\n",
              "      <td>1</td>\n",
              "      <td>1</td>\n",
              "    </tr>\n",
              "    <tr>\n",
              "      <th>43</th>\n",
              "      <td>41</td>\n",
              "      <td>60</td>\n",
              "      <td>23</td>\n",
              "      <td>2</td>\n",
              "      <td>0</td>\n",
              "    </tr>\n",
              "    <tr>\n",
              "      <th>44</th>\n",
              "      <td>41</td>\n",
              "      <td>64</td>\n",
              "      <td>0</td>\n",
              "      <td>2</td>\n",
              "      <td>0</td>\n",
              "    </tr>\n",
              "    <tr>\n",
              "      <th>45</th>\n",
              "      <td>41</td>\n",
              "      <td>67</td>\n",
              "      <td>0</td>\n",
              "      <td>2</td>\n",
              "      <td>0</td>\n",
              "    </tr>\n",
              "    <tr>\n",
              "      <th>46</th>\n",
              "      <td>41</td>\n",
              "      <td>58</td>\n",
              "      <td>0</td>\n",
              "      <td>1</td>\n",
              "      <td>1</td>\n",
              "    </tr>\n",
              "    <tr>\n",
              "      <th>47</th>\n",
              "      <td>41</td>\n",
              "      <td>59</td>\n",
              "      <td>8</td>\n",
              "      <td>1</td>\n",
              "      <td>1</td>\n",
              "    </tr>\n",
              "    <tr>\n",
              "      <th>48</th>\n",
              "      <td>41</td>\n",
              "      <td>59</td>\n",
              "      <td>0</td>\n",
              "      <td>1</td>\n",
              "      <td>1</td>\n",
              "    </tr>\n",
              "    <tr>\n",
              "      <th>49</th>\n",
              "      <td>41</td>\n",
              "      <td>64</td>\n",
              "      <td>0</td>\n",
              "      <td>1</td>\n",
              "      <td>1</td>\n",
              "    </tr>\n",
              "  </tbody>\n",
              "</table>\n",
              "</div>"
            ],
            "text/plain": [
              "    age  operation year 1900+  pos nodes  survival status  if_survived\n",
              "0    30                    64          1                1            1\n",
              "1    30                    62          3                1            1\n",
              "2    30                    65          0                1            1\n",
              "3    31                    59          2                1            1\n",
              "4    31                    65          4                1            1\n",
              "5    33                    58         10                1            1\n",
              "6    33                    60          0                1            1\n",
              "7    34                    59          0                2            0\n",
              "8    34                    66          9                2            0\n",
              "9    34                    58         30                1            1\n",
              "10   34                    60          1                1            1\n",
              "11   34                    61         10                1            1\n",
              "12   34                    67          7                1            1\n",
              "13   34                    60          0                1            1\n",
              "14   35                    64         13                1            1\n",
              "15   35                    63          0                1            1\n",
              "16   36                    60          1                1            1\n",
              "17   36                    69          0                1            1\n",
              "18   37                    60          0                1            1\n",
              "19   37                    63          0                1            1\n",
              "20   37                    58          0                1            1\n",
              "21   37                    59          6                1            1\n",
              "22   37                    60         15                1            1\n",
              "23   37                    63          0                1            1\n",
              "24   38                    69         21                2            0\n",
              "25   38                    59          2                1            1\n",
              "26   38                    60          0                1            1\n",
              "27   38                    60          0                1            1\n",
              "28   38                    62          3                1            1\n",
              "29   38                    64          1                1            1\n",
              "30   38                    66          0                1            1\n",
              "31   38                    66         11                1            1\n",
              "32   38                    60          1                1            1\n",
              "33   38                    67          5                1            1\n",
              "34   39                    66          0                2            0\n",
              "35   39                    63          0                1            1\n",
              "36   39                    67          0                1            1\n",
              "37   39                    58          0                1            1\n",
              "38   39                    59          2                1            1\n",
              "39   39                    63          4                1            1\n",
              "40   40                    58          2                1            1\n",
              "41   40                    58          0                1            1\n",
              "42   40                    65          0                1            1\n",
              "43   41                    60         23                2            0\n",
              "44   41                    64          0                2            0\n",
              "45   41                    67          0                2            0\n",
              "46   41                    58          0                1            1\n",
              "47   41                    59          8                1            1\n",
              "48   41                    59          0                1            1\n",
              "49   41                    64          0                1            1"
            ]
          },
          "metadata": {
            "tags": []
          },
          "execution_count": 28
        }
      ]
    },
    {
      "metadata": {
        "id": "G7rLytbrO38L",
        "colab_type": "text"
      },
      "cell_type": "markdown",
      "source": [
        "## Part 2 - Examine the distribution and relationships of the features\n",
        "\n",
        "Explore the data - create at least *2* tables (can be summary statistics or crosstabulations) and *2* plots illustrating the nature of the data.\n",
        "\n",
        "This is open-ended, so to remind - first *complete* this task as a baseline, then go on to the remaining sections, and *then* as time allows revisit and explore further.\n",
        "\n",
        "Hint - you may need to bin some variables depending on your chosen tables/plots."
      ]
    },
    {
      "metadata": {
        "id": "IAkllgCIFVj0",
        "colab_type": "code",
        "colab": {
          "base_uri": "https://localhost:8080/",
          "height": 297
        },
        "outputId": "22d64db9-bb2c-455a-e9e5-ebd9f680834a"
      },
      "cell_type": "code",
      "source": [
        "# TODO\n",
        "bcs.describe()"
      ],
      "execution_count": 29,
      "outputs": [
        {
          "output_type": "execute_result",
          "data": {
            "text/html": [
              "<div>\n",
              "<style scoped>\n",
              "    .dataframe tbody tr th:only-of-type {\n",
              "        vertical-align: middle;\n",
              "    }\n",
              "\n",
              "    .dataframe tbody tr th {\n",
              "        vertical-align: top;\n",
              "    }\n",
              "\n",
              "    .dataframe thead th {\n",
              "        text-align: right;\n",
              "    }\n",
              "</style>\n",
              "<table border=\"1\" class=\"dataframe\">\n",
              "  <thead>\n",
              "    <tr style=\"text-align: right;\">\n",
              "      <th></th>\n",
              "      <th>age</th>\n",
              "      <th>operation year 1900+</th>\n",
              "      <th>pos nodes</th>\n",
              "      <th>survival status</th>\n",
              "      <th>if_survived</th>\n",
              "    </tr>\n",
              "  </thead>\n",
              "  <tbody>\n",
              "    <tr>\n",
              "      <th>count</th>\n",
              "      <td>306.000000</td>\n",
              "      <td>306.000000</td>\n",
              "      <td>306.000000</td>\n",
              "      <td>306.000000</td>\n",
              "      <td>306.000000</td>\n",
              "    </tr>\n",
              "    <tr>\n",
              "      <th>mean</th>\n",
              "      <td>52.457516</td>\n",
              "      <td>62.852941</td>\n",
              "      <td>4.026144</td>\n",
              "      <td>1.264706</td>\n",
              "      <td>0.735294</td>\n",
              "    </tr>\n",
              "    <tr>\n",
              "      <th>std</th>\n",
              "      <td>10.803452</td>\n",
              "      <td>3.249405</td>\n",
              "      <td>7.189654</td>\n",
              "      <td>0.441899</td>\n",
              "      <td>0.441899</td>\n",
              "    </tr>\n",
              "    <tr>\n",
              "      <th>min</th>\n",
              "      <td>30.000000</td>\n",
              "      <td>58.000000</td>\n",
              "      <td>0.000000</td>\n",
              "      <td>1.000000</td>\n",
              "      <td>0.000000</td>\n",
              "    </tr>\n",
              "    <tr>\n",
              "      <th>25%</th>\n",
              "      <td>44.000000</td>\n",
              "      <td>60.000000</td>\n",
              "      <td>0.000000</td>\n",
              "      <td>1.000000</td>\n",
              "      <td>0.000000</td>\n",
              "    </tr>\n",
              "    <tr>\n",
              "      <th>50%</th>\n",
              "      <td>52.000000</td>\n",
              "      <td>63.000000</td>\n",
              "      <td>1.000000</td>\n",
              "      <td>1.000000</td>\n",
              "      <td>1.000000</td>\n",
              "    </tr>\n",
              "    <tr>\n",
              "      <th>75%</th>\n",
              "      <td>60.750000</td>\n",
              "      <td>65.750000</td>\n",
              "      <td>4.000000</td>\n",
              "      <td>2.000000</td>\n",
              "      <td>1.000000</td>\n",
              "    </tr>\n",
              "    <tr>\n",
              "      <th>max</th>\n",
              "      <td>83.000000</td>\n",
              "      <td>69.000000</td>\n",
              "      <td>52.000000</td>\n",
              "      <td>2.000000</td>\n",
              "      <td>1.000000</td>\n",
              "    </tr>\n",
              "  </tbody>\n",
              "</table>\n",
              "</div>"
            ],
            "text/plain": [
              "              age  operation year 1900+   pos nodes  survival status  \\\n",
              "count  306.000000            306.000000  306.000000       306.000000   \n",
              "mean    52.457516             62.852941    4.026144         1.264706   \n",
              "std     10.803452              3.249405    7.189654         0.441899   \n",
              "min     30.000000             58.000000    0.000000         1.000000   \n",
              "25%     44.000000             60.000000    0.000000         1.000000   \n",
              "50%     52.000000             63.000000    1.000000         1.000000   \n",
              "75%     60.750000             65.750000    4.000000         2.000000   \n",
              "max     83.000000             69.000000   52.000000         2.000000   \n",
              "\n",
              "       if_survived  \n",
              "count   306.000000  \n",
              "mean      0.735294  \n",
              "std       0.441899  \n",
              "min       0.000000  \n",
              "25%       0.000000  \n",
              "50%       1.000000  \n",
              "75%       1.000000  \n",
              "max       1.000000  "
            ]
          },
          "metadata": {
            "tags": []
          },
          "execution_count": 29
        }
      ]
    },
    {
      "metadata": {
        "id": "N1UJIrcSTxWd",
        "colab_type": "code",
        "colab": {
          "base_uri": "https://localhost:8080/",
          "height": 398
        },
        "outputId": "65b69600-d4cc-46bc-c247-b7913ded01ff"
      },
      "cell_type": "code",
      "source": [
        "plt.hist(bcs['age'])"
      ],
      "execution_count": 30,
      "outputs": [
        {
          "output_type": "execute_result",
          "data": {
            "text/plain": [
              "(array([16., 27., 46., 53., 55., 41., 41., 18.,  7.,  2.]),\n",
              " array([30. , 35.3, 40.6, 45.9, 51.2, 56.5, 61.8, 67.1, 72.4, 77.7, 83. ]),\n",
              " <a list of 10 Patch objects>)"
            ]
          },
          "metadata": {
            "tags": []
          },
          "execution_count": 30
        },
        {
          "output_type": "display_data",
          "data": {
            "image/png": "[encoded data removed]",
            "text/plain": [
              "<matplotlib.figure.Figure at 0x7f6dc6b23e10>"
            ]
          },
          "metadata": {
            "tags": []
          }
        }
      ]
    },
    {
      "metadata": {
        "id": "4JUifZgOUZ2x",
        "colab_type": "code",
        "colab": {
          "base_uri": "https://localhost:8080/",
          "height": 398
        },
        "outputId": "ae0a256b-d3b2-4278-e824-0993f58b388d"
      },
      "cell_type": "code",
      "source": [
        "plt.hist(bcs['operation year 1900+'])"
      ],
      "execution_count": 36,
      "outputs": [
        {
          "output_type": "execute_result",
          "data": {
            "text/plain": [
              "(array([63., 28., 26., 23., 30., 31., 28., 28., 25., 24.]),\n",
              " array([58. , 59.1, 60.2, 61.3, 62.4, 63.5, 64.6, 65.7, 66.8, 67.9, 69. ]),\n",
              " <a list of 10 Patch objects>)"
            ]
          },
          "metadata": {
            "tags": []
          },
          "execution_count": 36
        },
        {
          "output_type": "display_data",
          "data": {
            "image/png": "[encoded data removed]",
            "text/plain": [
              "<matplotlib.figure.Figure at 0x7f6dc425cc50>"
            ]
          },
          "metadata": {
            "tags": []
          }
        }
      ]
    },
    {
      "metadata": {
        "id": "o0pYKYbDU1tF",
        "colab_type": "code",
        "colab": {
          "base_uri": "https://localhost:8080/",
          "height": 398
        },
        "outputId": "21f9dd66-e307-4d9f-89dc-d627f5362459"
      },
      "cell_type": "code",
      "source": [
        "plt.hist(bcs['if_survived'])"
      ],
      "execution_count": 37,
      "outputs": [
        {
          "output_type": "execute_result",
          "data": {
            "text/plain": [
              "(array([ 81.,   0.,   0.,   0.,   0.,   0.,   0.,   0.,   0., 225.]),\n",
              " array([0. , 0.1, 0.2, 0.3, 0.4, 0.5, 0.6, 0.7, 0.8, 0.9, 1. ]),\n",
              " <a list of 10 Patch objects>)"
            ]
          },
          "metadata": {
            "tags": []
          },
          "execution_count": 37
        },
        {
          "output_type": "display_data",
          "data": {
            "image/png": "[encoded data removed]",
            "text/plain": [
              "<matplotlib.figure.Figure at 0x7f6dc40598d0>"
            ]
          },
          "metadata": {
            "tags": []
          }
        }
      ]
    },
    {
      "metadata": {
        "id": "4wuYlCMXcU7M",
        "colab_type": "code",
        "colab": {
          "base_uri": "https://localhost:8080/",
          "height": 364
        },
        "outputId": "9d0fdd1e-8a2d-4b56-897b-b3ea1c9e92a1"
      },
      "cell_type": "code",
      "source": [
        "plt.scatter(bcs['if_survived'], bcs['pos nodes'])"
      ],
      "execution_count": 77,
      "outputs": [
        {
          "output_type": "execute_result",
          "data": {
            "text/plain": [
              "<matplotlib.collections.PathCollection at 0x7f6dc08296d8>"
            ]
          },
          "metadata": {
            "tags": []
          },
          "execution_count": 77
        },
        {
          "output_type": "display_data",
          "data": {
            "image/png": "[encoded data removed]",
            "text/plain": [
              "<matplotlib.figure.Figure at 0x7f6dc08b7240>"
            ]
          },
          "metadata": {
            "tags": []
          }
        }
      ]
    },
    {
      "metadata": {
        "id": "wbJRBasCis3h",
        "colab_type": "code",
        "colab": {
          "base_uri": "https://localhost:8080/",
          "height": 364
        },
        "outputId": "38f212ee-1a38-42b4-86f4-b81f2461984b"
      },
      "cell_type": "code",
      "source": [
        "plt.scatter(bcs['age'], bcs['if_survived'])"
      ],
      "execution_count": 79,
      "outputs": [
        {
          "output_type": "execute_result",
          "data": {
            "text/plain": [
              "<matplotlib.collections.PathCollection at 0x7f6dc0c1df98>"
            ]
          },
          "metadata": {
            "tags": []
          },
          "execution_count": 79
        },
        {
          "output_type": "display_data",
          "data": {
            "image/png": "[encoded data removed]",
            "text/plain": [
              "<matplotlib.figure.Figure at 0x7f6dc0c61828>"
            ]
          },
          "metadata": {
            "tags": []
          }
        }
      ]
    },
    {
      "metadata": {
        "id": "fRvQ94wPjAWL",
        "colab_type": "code",
        "colab": {
          "base_uri": "https://localhost:8080/",
          "height": 364
        },
        "outputId": "bdc4ad50-b4cd-4851-9d4d-37f72e8463bd"
      },
      "cell_type": "code",
      "source": [
        "plt.scatter(bcs['age'], bcs['pos nodes'])"
      ],
      "execution_count": 80,
      "outputs": [
        {
          "output_type": "execute_result",
          "data": {
            "text/plain": [
              "<matplotlib.collections.PathCollection at 0x7f6dc0d67e48>"
            ]
          },
          "metadata": {
            "tags": []
          },
          "execution_count": 80
        },
        {
          "output_type": "display_data",
          "data": {
            "image/png": "[encoded data removed]",
            "text/plain": [
              "<matplotlib.figure.Figure at 0x7f6dc0c88588>"
            ]
          },
          "metadata": {
            "tags": []
          }
        }
      ]
    },
    {
      "metadata": {
        "id": "-5XlkmevVBlQ",
        "colab_type": "code",
        "colab": {}
      },
      "cell_type": "code",
      "source": [
        "oper_year_bin = pd.cut(bcs['operation year 1900+'], bins=[0, 58, 61, 63, 65, 69])\n",
        "age_bin = pd.cut(bcs['age'], bins=[0, 30, 35, 41,42,43, 44,45,46, 51,54, 57, 62, 67, 73, 78, 83])\n",
        "pos_nodes_bin = pd.cut(bcs['pos nodes'], 5)\n"
      ],
      "execution_count": 0,
      "outputs": []
    },
    {
      "metadata": {
        "id": "C2seVtooWDn3",
        "colab_type": "code",
        "colab": {
          "base_uri": "https://localhost:8080/",
          "height": 142
        },
        "outputId": "67ffcfa3-a31e-4bb9-c154-ece48c597a27"
      },
      "cell_type": "code",
      "source": [
        "pd.crosstab(bcs['if_survived'], oper_year_bin, normalize='columns')"
      ],
      "execution_count": 55,
      "outputs": [
        {
          "output_type": "execute_result",
          "data": {
            "text/html": [
              "<div>\n",
              "<style scoped>\n",
              "    .dataframe tbody tr th:only-of-type {\n",
              "        vertical-align: middle;\n",
              "    }\n",
              "\n",
              "    .dataframe tbody tr th {\n",
              "        vertical-align: top;\n",
              "    }\n",
              "\n",
              "    .dataframe thead th {\n",
              "        text-align: right;\n",
              "    }\n",
              "</style>\n",
              "<table border=\"1\" class=\"dataframe\">\n",
              "  <thead>\n",
              "    <tr style=\"text-align: right;\">\n",
              "      <th>operation year 1900+</th>\n",
              "      <th>(0, 58]</th>\n",
              "      <th>(58, 61]</th>\n",
              "      <th>(61, 63]</th>\n",
              "      <th>(63, 65]</th>\n",
              "      <th>(65, 69]</th>\n",
              "    </tr>\n",
              "    <tr>\n",
              "      <th>if_survived</th>\n",
              "      <th></th>\n",
              "      <th></th>\n",
              "      <th></th>\n",
              "      <th></th>\n",
              "      <th></th>\n",
              "    </tr>\n",
              "  </thead>\n",
              "  <tbody>\n",
              "    <tr>\n",
              "      <th>0</th>\n",
              "      <td>0.333333</td>\n",
              "      <td>0.197531</td>\n",
              "      <td>0.283019</td>\n",
              "      <td>0.355932</td>\n",
              "      <td>0.220779</td>\n",
              "    </tr>\n",
              "    <tr>\n",
              "      <th>1</th>\n",
              "      <td>0.666667</td>\n",
              "      <td>0.802469</td>\n",
              "      <td>0.716981</td>\n",
              "      <td>0.644068</td>\n",
              "      <td>0.779221</td>\n",
              "    </tr>\n",
              "  </tbody>\n",
              "</table>\n",
              "</div>"
            ],
            "text/plain": [
              "operation year 1900+   (0, 58]  (58, 61]  (61, 63]  (63, 65]  (65, 69]\n",
              "if_survived                                                           \n",
              "0                     0.333333  0.197531  0.283019  0.355932  0.220779\n",
              "1                     0.666667  0.802469  0.716981  0.644068  0.779221"
            ]
          },
          "metadata": {
            "tags": []
          },
          "execution_count": 55
        }
      ]
    },
    {
      "metadata": {
        "id": "s8bBiZIlW4gm",
        "colab_type": "code",
        "colab": {
          "base_uri": "https://localhost:8080/",
          "height": 142
        },
        "outputId": "6c277065-ad7b-44b5-c459-0777970d7dbe"
      },
      "cell_type": "code",
      "source": [
        "pd.crosstab(bcs['if_survived'], bcs['operation year 1900+'], normalize='columns')"
      ],
      "execution_count": 56,
      "outputs": [
        {
          "output_type": "execute_result",
          "data": {
            "text/html": [
              "<div>\n",
              "<style scoped>\n",
              "    .dataframe tbody tr th:only-of-type {\n",
              "        vertical-align: middle;\n",
              "    }\n",
              "\n",
              "    .dataframe tbody tr th {\n",
              "        vertical-align: top;\n",
              "    }\n",
              "\n",
              "    .dataframe thead th {\n",
              "        text-align: right;\n",
              "    }\n",
              "</style>\n",
              "<table border=\"1\" class=\"dataframe\">\n",
              "  <thead>\n",
              "    <tr style=\"text-align: right;\">\n",
              "      <th>operation year 1900+</th>\n",
              "      <th>58</th>\n",
              "      <th>59</th>\n",
              "      <th>60</th>\n",
              "      <th>61</th>\n",
              "      <th>62</th>\n",
              "      <th>63</th>\n",
              "      <th>64</th>\n",
              "      <th>65</th>\n",
              "      <th>66</th>\n",
              "      <th>67</th>\n",
              "      <th>68</th>\n",
              "      <th>69</th>\n",
              "    </tr>\n",
              "    <tr>\n",
              "      <th>if_survived</th>\n",
              "      <th></th>\n",
              "      <th></th>\n",
              "      <th></th>\n",
              "      <th></th>\n",
              "      <th></th>\n",
              "      <th></th>\n",
              "      <th></th>\n",
              "      <th></th>\n",
              "      <th></th>\n",
              "      <th></th>\n",
              "      <th></th>\n",
              "      <th></th>\n",
              "    </tr>\n",
              "  </thead>\n",
              "  <tbody>\n",
              "    <tr>\n",
              "      <th>0</th>\n",
              "      <td>0.333333</td>\n",
              "      <td>0.333333</td>\n",
              "      <td>0.142857</td>\n",
              "      <td>0.115385</td>\n",
              "      <td>0.304348</td>\n",
              "      <td>0.266667</td>\n",
              "      <td>0.258065</td>\n",
              "      <td>0.464286</td>\n",
              "      <td>0.214286</td>\n",
              "      <td>0.16</td>\n",
              "      <td>0.230769</td>\n",
              "      <td>0.363636</td>\n",
              "    </tr>\n",
              "    <tr>\n",
              "      <th>1</th>\n",
              "      <td>0.666667</td>\n",
              "      <td>0.666667</td>\n",
              "      <td>0.857143</td>\n",
              "      <td>0.884615</td>\n",
              "      <td>0.695652</td>\n",
              "      <td>0.733333</td>\n",
              "      <td>0.741935</td>\n",
              "      <td>0.535714</td>\n",
              "      <td>0.785714</td>\n",
              "      <td>0.84</td>\n",
              "      <td>0.769231</td>\n",
              "      <td>0.636364</td>\n",
              "    </tr>\n",
              "  </tbody>\n",
              "</table>\n",
              "</div>"
            ],
            "text/plain": [
              "operation year 1900+        58        59        60        61        62  \\\n",
              "if_survived                                                              \n",
              "0                     0.333333  0.333333  0.142857  0.115385  0.304348   \n",
              "1                     0.666667  0.666667  0.857143  0.884615  0.695652   \n",
              "\n",
              "operation year 1900+        63        64        65        66    67        68  \\\n",
              "if_survived                                                                    \n",
              "0                     0.266667  0.258065  0.464286  0.214286  0.16  0.230769   \n",
              "1                     0.733333  0.741935  0.535714  0.785714  0.84  0.769231   \n",
              "\n",
              "operation year 1900+        69  \n",
              "if_survived                     \n",
              "0                     0.363636  \n",
              "1                     0.636364  "
            ]
          },
          "metadata": {
            "tags": []
          },
          "execution_count": 56
        }
      ]
    },
    {
      "metadata": {
        "id": "Nuud0OrYXJyA",
        "colab_type": "code",
        "colab": {
          "base_uri": "https://localhost:8080/",
          "height": 179
        },
        "outputId": "2c6f5fc4-be41-4025-dbf3-59388fc5082d"
      },
      "cell_type": "code",
      "source": [
        "pd.crosstab(bcs['if_survived'], age_bin, normalize='columns')"
      ],
      "execution_count": 86,
      "outputs": [
        {
          "output_type": "execute_result",
          "data": {
            "text/html": [
              "<div>\n",
              "<style scoped>\n",
              "    .dataframe tbody tr th:only-of-type {\n",
              "        vertical-align: middle;\n",
              "    }\n",
              "\n",
              "    .dataframe tbody tr th {\n",
              "        vertical-align: top;\n",
              "    }\n",
              "\n",
              "    .dataframe thead th {\n",
              "        text-align: right;\n",
              "    }\n",
              "</style>\n",
              "<table border=\"1\" class=\"dataframe\">\n",
              "  <thead>\n",
              "    <tr style=\"text-align: right;\">\n",
              "      <th>age</th>\n",
              "      <th>(0, 30]</th>\n",
              "      <th>(30, 35]</th>\n",
              "      <th>(35, 41]</th>\n",
              "      <th>(41, 42]</th>\n",
              "      <th>(42, 43]</th>\n",
              "      <th>(43, 44]</th>\n",
              "      <th>(44, 45]</th>\n",
              "      <th>(45, 46]</th>\n",
              "      <th>(46, 51]</th>\n",
              "      <th>(51, 54]</th>\n",
              "      <th>(54, 57]</th>\n",
              "      <th>(57, 62]</th>\n",
              "      <th>(62, 67]</th>\n",
              "      <th>(67, 73]</th>\n",
              "      <th>(73, 78]</th>\n",
              "      <th>(78, 83]</th>\n",
              "    </tr>\n",
              "    <tr>\n",
              "      <th>if_survived</th>\n",
              "      <th></th>\n",
              "      <th></th>\n",
              "      <th></th>\n",
              "      <th></th>\n",
              "      <th></th>\n",
              "      <th></th>\n",
              "      <th></th>\n",
              "      <th></th>\n",
              "      <th></th>\n",
              "      <th></th>\n",
              "      <th></th>\n",
              "      <th></th>\n",
              "      <th></th>\n",
              "      <th></th>\n",
              "      <th></th>\n",
              "      <th></th>\n",
              "    </tr>\n",
              "  </thead>\n",
              "  <tbody>\n",
              "    <tr>\n",
              "      <th>0</th>\n",
              "      <td>0.0</td>\n",
              "      <td>0.153846</td>\n",
              "      <td>0.135135</td>\n",
              "      <td>0.222222</td>\n",
              "      <td>0.363636</td>\n",
              "      <td>0.428571</td>\n",
              "      <td>0.333333</td>\n",
              "      <td>0.571429</td>\n",
              "      <td>0.26087</td>\n",
              "      <td>0.368421</td>\n",
              "      <td>0.25</td>\n",
              "      <td>0.243243</td>\n",
              "      <td>0.264706</td>\n",
              "      <td>0.2</td>\n",
              "      <td>0.333333</td>\n",
              "      <td>1.0</td>\n",
              "    </tr>\n",
              "    <tr>\n",
              "      <th>1</th>\n",
              "      <td>1.0</td>\n",
              "      <td>0.846154</td>\n",
              "      <td>0.864865</td>\n",
              "      <td>0.777778</td>\n",
              "      <td>0.636364</td>\n",
              "      <td>0.571429</td>\n",
              "      <td>0.666667</td>\n",
              "      <td>0.428571</td>\n",
              "      <td>0.73913</td>\n",
              "      <td>0.631579</td>\n",
              "      <td>0.75</td>\n",
              "      <td>0.756757</td>\n",
              "      <td>0.735294</td>\n",
              "      <td>0.8</td>\n",
              "      <td>0.666667</td>\n",
              "      <td>0.0</td>\n",
              "    </tr>\n",
              "  </tbody>\n",
              "</table>\n",
              "</div>"
            ],
            "text/plain": [
              "age          (0, 30]  (30, 35]  (35, 41]  (41, 42]  (42, 43]  (43, 44]  \\\n",
              "if_survived                                                              \n",
              "0                0.0  0.153846  0.135135  0.222222  0.363636  0.428571   \n",
              "1                1.0  0.846154  0.864865  0.777778  0.636364  0.571429   \n",
              "\n",
              "age          (44, 45]  (45, 46]  (46, 51]  (51, 54]  (54, 57]  (57, 62]  \\\n",
              "if_survived                                                               \n",
              "0            0.333333  0.571429   0.26087  0.368421      0.25  0.243243   \n",
              "1            0.666667  0.428571   0.73913  0.631579      0.75  0.756757   \n",
              "\n",
              "age          (62, 67]  (67, 73]  (73, 78]  (78, 83]  \n",
              "if_survived                                          \n",
              "0            0.264706       0.2  0.333333       1.0  \n",
              "1            0.735294       0.8  0.666667       0.0  "
            ]
          },
          "metadata": {
            "tags": []
          },
          "execution_count": 86
        }
      ]
    },
    {
      "metadata": {
        "id": "uqA202HnkU-J",
        "colab_type": "code",
        "colab": {
          "base_uri": "https://localhost:8080/",
          "height": 364
        },
        "outputId": "79be1381-b8dc-400f-e282-d1840019e8a3"
      },
      "cell_type": "code",
      "source": [
        "plt.plot(bcs['age'], bcs['pos nodes'])"
      ],
      "execution_count": 87,
      "outputs": [
        {
          "output_type": "execute_result",
          "data": {
            "text/plain": [
              "[<matplotlib.lines.Line2D at 0x7f6dc3d977b8>]"
            ]
          },
          "metadata": {
            "tags": []
          },
          "execution_count": 87
        },
        {
          "output_type": "display_data",
          "data": {
            "image/png": "[encoded data removed]",
            "text/plain": [
              "<matplotlib.figure.Figure at 0x7f6dc3ca5b38>"
            ]
          },
          "metadata": {
            "tags": []
          }
        }
      ]
    },
    {
      "metadata": {
        "id": "3OsijSAjZJY3",
        "colab_type": "code",
        "colab": {
          "base_uri": "https://localhost:8080/",
          "height": 376
        },
        "outputId": "d4392646-0d3d-4711-9dc5-b8150241af81"
      },
      "cell_type": "code",
      "source": [
        "pointsize = 20;\n",
        "plt.xlabel('operation year')\n",
        "plt.ylabel('age')\n",
        "plt.title('Survival vs operation year vs age')\n",
        "plt.scatter(bcs['operation year 1900+'], bcs['age'], pointsize, bcs['if_survived']);"
      ],
      "execution_count": 57,
      "outputs": [
        {
          "output_type": "display_data",
          "data": {
            "image/png": "[encoded data removed]",
            "text/plain": [
              "<matplotlib.figure.Figure at 0x7f6dc3f77390>"
            ]
          },
          "metadata": {
            "tags": []
          }
        }
      ]
    },
    {
      "metadata": {
        "id": "m_add8LwZ5Q9",
        "colab_type": "code",
        "colab": {}
      },
      "cell_type": "code",
      "source": [
        "fig, ax = plt.subplots(figsize=(16,10))\n",
        "sns.heatmap(bcs, annot=True, linewidths=.5, cmap=\"YlGnBu\", ax=ax);"
      ],
      "execution_count": 0,
      "outputs": []
    },
    {
      "metadata": {
        "id": "9US8wROAaJzL",
        "colab_type": "code",
        "colab": {
          "base_uri": "https://localhost:8080/",
          "height": 420
        },
        "outputId": "53980b51-8c8b-43bf-e6e2-73d2ab7f4456"
      },
      "cell_type": "code",
      "source": [
        "age_bin2 = pd.cut(bcs['age'], bins=[0, 35, 41,46, 51, 57, 62, 73, 83])\n",
        "\n",
        "ds = pd.crosstab([bcs['if_survived'], oper_year_bin], age_bin2, bcs['if_survived'])\n",
        "ds.plot(kind='bar', stacked=True)"
      ],
      "execution_count": 66,
      "outputs": [
        {
          "output_type": "execute_result",
          "data": {
            "text/plain": [
              "<matplotlib.axes._subplots.AxesSubplot at 0x7f6dc12aacf8>"
            ]
          },
          "metadata": {
            "tags": []
          },
          "execution_count": 66
        },
        {
          "output_type": "display_data",
          "data": {
            "image/png": "[encoded data removed]",
            "text/plain": [
              "<matplotlib.figure.Figure at 0x7f6dc1297c18>"
            ]
          },
          "metadata": {
            "tags": []
          }
        }
      ]
    },
    {
      "metadata": {
        "id": "aXWJRM1cczu7",
        "colab_type": "code",
        "colab": {
          "base_uri": "https://localhost:8080/",
          "height": 1320
        },
        "outputId": "c5c0e717-c484-4b0b-f4bb-c2916f9c5ead"
      },
      "cell_type": "code",
      "source": [
        "ds2 = pd.crosstab([pos_nodes_bin, age_bin2], bcs['if_survived'], normalize='columns')\n",
        "ds2"
      ],
      "execution_count": 71,
      "outputs": [
        {
          "output_type": "execute_result",
          "data": {
            "text/html": [
              "<div>\n",
              "<style scoped>\n",
              "    .dataframe tbody tr th:only-of-type {\n",
              "        vertical-align: middle;\n",
              "    }\n",
              "\n",
              "    .dataframe tbody tr th {\n",
              "        vertical-align: top;\n",
              "    }\n",
              "\n",
              "    .dataframe thead th {\n",
              "        text-align: right;\n",
              "    }\n",
              "</style>\n",
              "<table border=\"1\" class=\"dataframe\">\n",
              "  <thead>\n",
              "    <tr style=\"text-align: right;\">\n",
              "      <th></th>\n",
              "      <th>if_survived</th>\n",
              "      <th>0</th>\n",
              "      <th>1</th>\n",
              "    </tr>\n",
              "    <tr>\n",
              "      <th>pos nodes</th>\n",
              "      <th>age</th>\n",
              "      <th></th>\n",
              "      <th></th>\n",
              "    </tr>\n",
              "  </thead>\n",
              "  <tbody>\n",
              "    <tr>\n",
              "      <th rowspan=\"8\" valign=\"top\">(-0.052, 10.4]</th>\n",
              "      <th>(0, 35]</th>\n",
              "      <td>0.024691</td>\n",
              "      <td>0.053333</td>\n",
              "    </tr>\n",
              "    <tr>\n",
              "      <th>(35, 41]</th>\n",
              "      <td>0.037037</td>\n",
              "      <td>0.133333</td>\n",
              "    </tr>\n",
              "    <tr>\n",
              "      <th>(41, 46]</th>\n",
              "      <td>0.160494</td>\n",
              "      <td>0.102222</td>\n",
              "    </tr>\n",
              "    <tr>\n",
              "      <th>(46, 51]</th>\n",
              "      <td>0.086420</td>\n",
              "      <td>0.146667</td>\n",
              "    </tr>\n",
              "    <tr>\n",
              "      <th>(51, 57]</th>\n",
              "      <td>0.185185</td>\n",
              "      <td>0.182222</td>\n",
              "    </tr>\n",
              "    <tr>\n",
              "      <th>(57, 62]</th>\n",
              "      <td>0.061728</td>\n",
              "      <td>0.120000</td>\n",
              "    </tr>\n",
              "    <tr>\n",
              "      <th>(62, 73]</th>\n",
              "      <td>0.123457</td>\n",
              "      <td>0.168889</td>\n",
              "    </tr>\n",
              "    <tr>\n",
              "      <th>(73, 83]</th>\n",
              "      <td>0.037037</td>\n",
              "      <td>0.017778</td>\n",
              "    </tr>\n",
              "    <tr>\n",
              "      <th rowspan=\"8\" valign=\"top\">(10.4, 20.8]</th>\n",
              "      <th>(0, 35]</th>\n",
              "      <td>0.000000</td>\n",
              "      <td>0.004444</td>\n",
              "    </tr>\n",
              "    <tr>\n",
              "      <th>(35, 41]</th>\n",
              "      <td>0.000000</td>\n",
              "      <td>0.008889</td>\n",
              "    </tr>\n",
              "    <tr>\n",
              "      <th>(41, 46]</th>\n",
              "      <td>0.024691</td>\n",
              "      <td>0.017778</td>\n",
              "    </tr>\n",
              "    <tr>\n",
              "      <th>(46, 51]</th>\n",
              "      <td>0.049383</td>\n",
              "      <td>0.004444</td>\n",
              "    </tr>\n",
              "    <tr>\n",
              "      <th>(51, 57]</th>\n",
              "      <td>0.049383</td>\n",
              "      <td>0.008889</td>\n",
              "    </tr>\n",
              "    <tr>\n",
              "      <th>(57, 62]</th>\n",
              "      <td>0.037037</td>\n",
              "      <td>0.000000</td>\n",
              "    </tr>\n",
              "    <tr>\n",
              "      <th>(62, 73]</th>\n",
              "      <td>0.024691</td>\n",
              "      <td>0.004444</td>\n",
              "    </tr>\n",
              "    <tr>\n",
              "      <th>(73, 83]</th>\n",
              "      <td>0.000000</td>\n",
              "      <td>0.000000</td>\n",
              "    </tr>\n",
              "    <tr>\n",
              "      <th rowspan=\"8\" valign=\"top\">(20.8, 31.2]</th>\n",
              "      <th>(0, 35]</th>\n",
              "      <td>0.000000</td>\n",
              "      <td>0.004444</td>\n",
              "    </tr>\n",
              "    <tr>\n",
              "      <th>(35, 41]</th>\n",
              "      <td>0.024691</td>\n",
              "      <td>0.000000</td>\n",
              "    </tr>\n",
              "    <tr>\n",
              "      <th>(41, 46]</th>\n",
              "      <td>0.000000</td>\n",
              "      <td>0.000000</td>\n",
              "    </tr>\n",
              "    <tr>\n",
              "      <th>(46, 51]</th>\n",
              "      <td>0.012346</td>\n",
              "      <td>0.000000</td>\n",
              "    </tr>\n",
              "    <tr>\n",
              "      <th>(51, 57]</th>\n",
              "      <td>0.024691</td>\n",
              "      <td>0.004444</td>\n",
              "    </tr>\n",
              "    <tr>\n",
              "      <th>(57, 62]</th>\n",
              "      <td>0.000000</td>\n",
              "      <td>0.004444</td>\n",
              "    </tr>\n",
              "    <tr>\n",
              "      <th>(62, 73]</th>\n",
              "      <td>0.012346</td>\n",
              "      <td>0.008889</td>\n",
              "    </tr>\n",
              "    <tr>\n",
              "      <th>(73, 83]</th>\n",
              "      <td>0.000000</td>\n",
              "      <td>0.000000</td>\n",
              "    </tr>\n",
              "    <tr>\n",
              "      <th rowspan=\"8\" valign=\"top\">(31.2, 41.6]</th>\n",
              "      <th>(0, 35]</th>\n",
              "      <td>0.000000</td>\n",
              "      <td>0.000000</td>\n",
              "    </tr>\n",
              "    <tr>\n",
              "      <th>(35, 41]</th>\n",
              "      <td>0.000000</td>\n",
              "      <td>0.000000</td>\n",
              "    </tr>\n",
              "    <tr>\n",
              "      <th>(41, 46]</th>\n",
              "      <td>0.000000</td>\n",
              "      <td>0.000000</td>\n",
              "    </tr>\n",
              "    <tr>\n",
              "      <th>(46, 51]</th>\n",
              "      <td>0.000000</td>\n",
              "      <td>0.000000</td>\n",
              "    </tr>\n",
              "    <tr>\n",
              "      <th>(51, 57]</th>\n",
              "      <td>0.000000</td>\n",
              "      <td>0.000000</td>\n",
              "    </tr>\n",
              "    <tr>\n",
              "      <th>(57, 62]</th>\n",
              "      <td>0.012346</td>\n",
              "      <td>0.000000</td>\n",
              "    </tr>\n",
              "    <tr>\n",
              "      <th>(62, 73]</th>\n",
              "      <td>0.000000</td>\n",
              "      <td>0.000000</td>\n",
              "    </tr>\n",
              "    <tr>\n",
              "      <th>(73, 83]</th>\n",
              "      <td>0.000000</td>\n",
              "      <td>0.000000</td>\n",
              "    </tr>\n",
              "    <tr>\n",
              "      <th rowspan=\"8\" valign=\"top\">(41.6, 52.0]</th>\n",
              "      <th>(0, 35]</th>\n",
              "      <td>0.000000</td>\n",
              "      <td>0.000000</td>\n",
              "    </tr>\n",
              "    <tr>\n",
              "      <th>(35, 41]</th>\n",
              "      <td>0.000000</td>\n",
              "      <td>0.000000</td>\n",
              "    </tr>\n",
              "    <tr>\n",
              "      <th>(41, 46]</th>\n",
              "      <td>0.012346</td>\n",
              "      <td>0.000000</td>\n",
              "    </tr>\n",
              "    <tr>\n",
              "      <th>(46, 51]</th>\n",
              "      <td>0.000000</td>\n",
              "      <td>0.000000</td>\n",
              "    </tr>\n",
              "    <tr>\n",
              "      <th>(51, 57]</th>\n",
              "      <td>0.000000</td>\n",
              "      <td>0.004444</td>\n",
              "    </tr>\n",
              "    <tr>\n",
              "      <th>(57, 62]</th>\n",
              "      <td>0.000000</td>\n",
              "      <td>0.000000</td>\n",
              "    </tr>\n",
              "    <tr>\n",
              "      <th>(62, 73]</th>\n",
              "      <td>0.000000</td>\n",
              "      <td>0.000000</td>\n",
              "    </tr>\n",
              "    <tr>\n",
              "      <th>(73, 83]</th>\n",
              "      <td>0.000000</td>\n",
              "      <td>0.000000</td>\n",
              "    </tr>\n",
              "  </tbody>\n",
              "</table>\n",
              "</div>"
            ],
            "text/plain": [
              "if_survived                     0         1\n",
              "pos nodes      age                         \n",
              "(-0.052, 10.4] (0, 35]   0.024691  0.053333\n",
              "               (35, 41]  0.037037  0.133333\n",
              "               (41, 46]  0.160494  0.102222\n",
              "               (46, 51]  0.086420  0.146667\n",
              "               (51, 57]  0.185185  0.182222\n",
              "               (57, 62]  0.061728  0.120000\n",
              "               (62, 73]  0.123457  0.168889\n",
              "               (73, 83]  0.037037  0.017778\n",
              "(10.4, 20.8]   (0, 35]   0.000000  0.004444\n",
              "               (35, 41]  0.000000  0.008889\n",
              "               (41, 46]  0.024691  0.017778\n",
              "               (46, 51]  0.049383  0.004444\n",
              "               (51, 57]  0.049383  0.008889\n",
              "               (57, 62]  0.037037  0.000000\n",
              "               (62, 73]  0.024691  0.004444\n",
              "               (73, 83]  0.000000  0.000000\n",
              "(20.8, 31.2]   (0, 35]   0.000000  0.004444\n",
              "               (35, 41]  0.024691  0.000000\n",
              "               (41, 46]  0.000000  0.000000\n",
              "               (46, 51]  0.012346  0.000000\n",
              "               (51, 57]  0.024691  0.004444\n",
              "               (57, 62]  0.000000  0.004444\n",
              "               (62, 73]  0.012346  0.008889\n",
              "               (73, 83]  0.000000  0.000000\n",
              "(31.2, 41.6]   (0, 35]   0.000000  0.000000\n",
              "               (35, 41]  0.000000  0.000000\n",
              "               (41, 46]  0.000000  0.000000\n",
              "               (46, 51]  0.000000  0.000000\n",
              "               (51, 57]  0.000000  0.000000\n",
              "               (57, 62]  0.012346  0.000000\n",
              "               (62, 73]  0.000000  0.000000\n",
              "               (73, 83]  0.000000  0.000000\n",
              "(41.6, 52.0]   (0, 35]   0.000000  0.000000\n",
              "               (35, 41]  0.000000  0.000000\n",
              "               (41, 46]  0.012346  0.000000\n",
              "               (46, 51]  0.000000  0.000000\n",
              "               (51, 57]  0.000000  0.004444\n",
              "               (57, 62]  0.000000  0.000000\n",
              "               (62, 73]  0.000000  0.000000\n",
              "               (73, 83]  0.000000  0.000000"
            ]
          },
          "metadata": {
            "tags": []
          },
          "execution_count": 71
        }
      ]
    },
    {
      "metadata": {
        "id": "jvofGbdFeJmg",
        "colab_type": "code",
        "colab": {
          "base_uri": "https://localhost:8080/",
          "height": 474
        },
        "outputId": "a8b37fdb-41ee-4683-e4e9-c7204f25bd15"
      },
      "cell_type": "code",
      "source": [
        "ds2.plot(kind='bar', stacked=False)\n"
      ],
      "execution_count": 76,
      "outputs": [
        {
          "output_type": "execute_result",
          "data": {
            "text/plain": [
              "<matplotlib.axes._subplots.AxesSubplot at 0x7f6dc0a198d0>"
            ]
          },
          "metadata": {
            "tags": []
          },
          "execution_count": 76
        },
        {
          "output_type": "display_data",
          "data": {
            "image/png": "[encoded data removed]",
            "text/plain": [
              "<matplotlib.figure.Figure at 0x7f6dc0e05668>"
            ]
          },
          "metadata": {
            "tags": []
          }
        }
      ]
    },
    {
      "metadata": {
        "id": "ZM8JckA2bgnp",
        "colab_type": "text"
      },
      "cell_type": "markdown",
      "source": [
        "## Part 3 - Analysis and Interpretation\n",
        "\n",
        "Now that you've looked at the data, answer the following questions:\n",
        "\n",
        "- What is at least one feature that looks to have a positive correlation with survival?\n",
        "- What is at least one feature that looks to have a negative correlation with survival?\n",
        "- How are those two features related with each other, and what might that mean?\n",
        "\n",
        "Answer with text, but feel free to intersperse example code/results or refer to it from earlier."
      ]
    },
    {
      "metadata": {
        "id": "u_s7yF0kb6YU",
        "colab_type": "text"
      },
      "cell_type": "markdown",
      "source": [
        "Patients, who were operated before 41 years old, or after 78 years old, tend to survive more often. The data shows that after the age of 41 the probability of survival after a breast cancer operation  drops dramatically, from 86%  for patients before 41 years old, to 77% at the age of 41 and 42% at the age of 46. \n",
        "The number of positive axillary nodes are the highest at the age ranges where survival probability is low. The features contributing to survival rate have positive correlation, they are confounding. More domain specific data is required to detect which of the features cause another one, at the same time following intuitive logic, age might be the factor causing the number of positive axillary nodes to increase."
      ]
    }
  ]
}