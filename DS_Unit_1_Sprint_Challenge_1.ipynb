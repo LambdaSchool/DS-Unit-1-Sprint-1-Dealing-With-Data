{
  "nbformat": 4,
  "nbformat_minor": 0,
  "metadata": {
    "colab": {
      "name": "DS_Unit_1_Sprint_Challenge_1.ipynb",
      "version": "0.3.2",
      "provenance": [],
      "collapsed_sections": [],
      "include_colab_link": true
    },
    "kernelspec": {
      "name": "python3",
      "display_name": "Python 3"
    }
  },
  "cells": [
    {
      "cell_type": "markdown",
      "metadata": {
        "id": "view-in-github",
        "colab_type": "text"
      },
      "source": [
        "<a href=\"https://colab.research.google.com/github/wel51x/DS-Sprint-01-Dealing-With-Data/blob/master/DS_Unit_1_Sprint_Challenge_1.ipynb\" target=\"_parent\"><img src=\"https://colab.research.google.com/assets/colab-badge.svg\" alt=\"Open In Colab\"/></a>"
      ]
    },
    {
      "metadata": {
        "id": "NooAiTdnafkz",
        "colab_type": "text"
      },
      "cell_type": "markdown",
      "source": [
        "# Data Science Unit 1 Sprint Challenge 1\n",
        "\n",
        "## Loading, cleaning, visualizing, and analyzing data\n",
        "\n",
        "In this sprint challenge you will look at a dataset of the survival of patients who underwent surgery for breast cancer.\n",
        "\n",
        "http://archive.ics.uci.edu/ml/datasets/Haberman%27s+Survival\n",
        "\n",
        "Data Set Information:\n",
        "The dataset contains cases from a study that was conducted between 1958 and 1970 at the University of Chicago's Billings Hospital on the survival of patients who had undergone surgery for breast cancer.\n",
        "\n",
        "Attribute Information:\n",
        "1. Age of patient at time of operation (numerical)\n",
        "2. Patient's year of operation (year - 1900, numerical)\n",
        "3. Number of positive axillary nodes detected (numerical)\n",
        "4. Survival status (class attribute)\n",
        "-- 1 = the patient survived 5 years or longer\n",
        "-- 2 = the patient died within 5 year\n",
        "\n",
        "Sprint challenges are evaluated based on satisfactory completion of each part. It is suggested you work through it in order, getting each aspect reasonably working, before trying to deeply explore, iterate, or refine any given step. Once you get to the end, if you want to go back and improve things, go for it!"
      ]
    },
    {
      "metadata": {
        "id": "5wch6ksCbJtZ",
        "colab_type": "text"
      },
      "cell_type": "markdown",
      "source": [
        "## Part 1 - Load and validate the data\n",
        "\n",
        "- Load the data as a `pandas` data frame.\n",
        "- Validate that it has the appropriate number of observations (you can check the raw file, and also read the dataset description from UCI).\n",
        "- Validate that you have no missing values.\n",
        "- Add informative names to the features.\n",
        "- The survival variable is encoded as 1 for surviving >5 years and 2 for not - change this to be 0 for not surviving and 1 for surviving >5 years (0/1 is a more traditional encoding of binary variables)\n",
        "\n",
        "At the end, print the first five rows of the dataset to demonstrate the above."
      ]
    },
    {
      "metadata": {
        "id": "287TpoGKFRVK",
        "colab_type": "code",
        "colab": {
          "base_uri": "https://localhost:8080/",
          "height": 476
        },
        "outputId": "389a837e-bcc1-431b-ce4e-c45011db6b0f"
      },
      "cell_type": "code",
      "source": [
        "# TODO\n",
        "\n",
        "import pandas as pd\n",
        "\n",
        "data_url = ('https://archive.ics.uci.edu/ml/machine-learning-databases/'\n",
        "            'haberman/haberman.data')\n",
        "cols = [\n",
        "   'Year of Operation',\n",
        "   'Age',\n",
        "   'Positive Nodes',\n",
        "   'Survived 5 Years'\n",
        "]\n",
        "\n",
        "df = pd.read_csv(data_url, header=None, names=cols)\n",
        "\n",
        "# make Year of Operation sane\n",
        "df['Year of Operation'] += 1900\n",
        "\n",
        "# make data fix: 0 for not surviving and 1 for surviving 5 years or longer\n",
        "df['Survived 5 Years'] -= 2\n",
        "df['Survived 5 Years'] = df['Survived 5 Years'].abs()\n",
        "\n",
        "print(\"Data Frame shape: \", df.shape)\n",
        "print(\"\\nData has missing values: \", df.isnull().values.any())\n",
        "print(\"\\nData Frame description:\\n\",df.describe())\n",
        "print(\"\\nFirst five rows of Data Frame:\")\n",
        "df.head()\n"
      ],
      "execution_count": 13,
      "outputs": [
        {
          "output_type": "stream",
          "text": [
            "Data Frame shape:  (306, 4)\n",
            "\n",
            "Data has missing values:  False\n",
            "\n",
            "Data Frame description:\n",
            "        Year of Operation         Age  Positive Nodes  Survived 5 Years\n",
            "count         306.000000  306.000000      306.000000        306.000000\n",
            "mean         1952.457516   62.852941        4.026144          0.735294\n",
            "std            10.803452    3.249405        7.189654          0.441899\n",
            "min          1930.000000   58.000000        0.000000          0.000000\n",
            "25%          1944.000000   60.000000        0.000000          0.000000\n",
            "50%          1952.000000   63.000000        1.000000          1.000000\n",
            "75%          1960.750000   65.750000        4.000000          1.000000\n",
            "max          1983.000000   69.000000       52.000000          1.000000\n",
            "\n",
            "First five rows of Data Frame:\n"
          ],
          "name": "stdout"
        },
        {
          "output_type": "execute_result",
          "data": {
            "text/html": [
              "<div>\n",
              "<style scoped>\n",
              "    .dataframe tbody tr th:only-of-type {\n",
              "        vertical-align: middle;\n",
              "    }\n",
              "\n",
              "    .dataframe tbody tr th {\n",
              "        vertical-align: top;\n",
              "    }\n",
              "\n",
              "    .dataframe thead th {\n",
              "        text-align: right;\n",
              "    }\n",
              "</style>\n",
              "<table border=\"1\" class=\"dataframe\">\n",
              "  <thead>\n",
              "    <tr style=\"text-align: right;\">\n",
              "      <th></th>\n",
              "      <th>Year of Operation</th>\n",
              "      <th>Age</th>\n",
              "      <th>Positive Nodes</th>\n",
              "      <th>Survived 5 Years</th>\n",
              "    </tr>\n",
              "  </thead>\n",
              "  <tbody>\n",
              "    <tr>\n",
              "      <th>0</th>\n",
              "      <td>1930</td>\n",
              "      <td>64</td>\n",
              "      <td>1</td>\n",
              "      <td>1</td>\n",
              "    </tr>\n",
              "    <tr>\n",
              "      <th>1</th>\n",
              "      <td>1930</td>\n",
              "      <td>62</td>\n",
              "      <td>3</td>\n",
              "      <td>1</td>\n",
              "    </tr>\n",
              "    <tr>\n",
              "      <th>2</th>\n",
              "      <td>1930</td>\n",
              "      <td>65</td>\n",
              "      <td>0</td>\n",
              "      <td>1</td>\n",
              "    </tr>\n",
              "    <tr>\n",
              "      <th>3</th>\n",
              "      <td>1931</td>\n",
              "      <td>59</td>\n",
              "      <td>2</td>\n",
              "      <td>1</td>\n",
              "    </tr>\n",
              "    <tr>\n",
              "      <th>4</th>\n",
              "      <td>1931</td>\n",
              "      <td>65</td>\n",
              "      <td>4</td>\n",
              "      <td>1</td>\n",
              "    </tr>\n",
              "  </tbody>\n",
              "</table>\n",
              "</div>"
            ],
            "text/plain": [
              "   Year of Operation  Age  Positive Nodes  Survived 5 Years\n",
              "0               1930   64               1                 1\n",
              "1               1930   62               3                 1\n",
              "2               1930   65               0                 1\n",
              "3               1931   59               2                 1\n",
              "4               1931   65               4                 1"
            ]
          },
          "metadata": {
            "tags": []
          },
          "execution_count": 13
        }
      ]
    },
    {
      "metadata": {
        "id": "G7rLytbrO38L",
        "colab_type": "text"
      },
      "cell_type": "markdown",
      "source": [
        "## Part 2 - Examine the distribution and relationships of the features\n",
        "\n",
        "Explore the data - create at least *2* tables (can be summary statistics or crosstabulations) and *2* plots illustrating the nature of the data.\n",
        "\n",
        "This is open-ended, so to remind - first *complete* this task as a baseline, then go on to the remaining sections, and *then* as time allows revisit and explore further.\n",
        "\n",
        "Hint - you may need to bin some variables depending on your chosen tables/plots."
      ]
    },
    {
      "metadata": {
        "id": "IAkllgCIFVj0",
        "colab_type": "code",
        "colab": {
          "base_uri": "https://localhost:8080/",
          "height": 207
        },
        "outputId": "0096260d-580f-4f78-f7cb-033a89b2b90e"
      },
      "cell_type": "code",
      "source": [
        "# TODO\n",
        "df_corr_table = df.corr()\n",
        "print(\"Correlation Statistics:\\n\")\n",
        "df_corr_table"
      ],
      "execution_count": 23,
      "outputs": [
        {
          "output_type": "stream",
          "text": [
            "Correlation Statistics:\n",
            "\n"
          ],
          "name": "stdout"
        },
        {
          "output_type": "execute_result",
          "data": {
            "text/html": [
              "<div>\n",
              "<style scoped>\n",
              "    .dataframe tbody tr th:only-of-type {\n",
              "        vertical-align: middle;\n",
              "    }\n",
              "\n",
              "    .dataframe tbody tr th {\n",
              "        vertical-align: top;\n",
              "    }\n",
              "\n",
              "    .dataframe thead th {\n",
              "        text-align: right;\n",
              "    }\n",
              "</style>\n",
              "<table border=\"1\" class=\"dataframe\">\n",
              "  <thead>\n",
              "    <tr style=\"text-align: right;\">\n",
              "      <th></th>\n",
              "      <th>Year of Operation</th>\n",
              "      <th>Age</th>\n",
              "      <th>Positive Nodes</th>\n",
              "      <th>Survived 5 Years</th>\n",
              "    </tr>\n",
              "  </thead>\n",
              "  <tbody>\n",
              "    <tr>\n",
              "      <th>Year of Operation</th>\n",
              "      <td>1.000000</td>\n",
              "      <td>0.089529</td>\n",
              "      <td>-0.063176</td>\n",
              "      <td>-0.067950</td>\n",
              "    </tr>\n",
              "    <tr>\n",
              "      <th>Age</th>\n",
              "      <td>0.089529</td>\n",
              "      <td>1.000000</td>\n",
              "      <td>-0.003764</td>\n",
              "      <td>0.004768</td>\n",
              "    </tr>\n",
              "    <tr>\n",
              "      <th>Positive Nodes</th>\n",
              "      <td>-0.063176</td>\n",
              "      <td>-0.003764</td>\n",
              "      <td>1.000000</td>\n",
              "      <td>-0.286768</td>\n",
              "    </tr>\n",
              "    <tr>\n",
              "      <th>Survived 5 Years</th>\n",
              "      <td>-0.067950</td>\n",
              "      <td>0.004768</td>\n",
              "      <td>-0.286768</td>\n",
              "      <td>1.000000</td>\n",
              "    </tr>\n",
              "  </tbody>\n",
              "</table>\n",
              "</div>"
            ],
            "text/plain": [
              "                   Year of Operation       Age  Positive Nodes  \\\n",
              "Year of Operation           1.000000  0.089529       -0.063176   \n",
              "Age                         0.089529  1.000000       -0.003764   \n",
              "Positive Nodes             -0.063176 -0.003764        1.000000   \n",
              "Survived 5 Years           -0.067950  0.004768       -0.286768   \n",
              "\n",
              "                   Survived 5 Years  \n",
              "Year of Operation         -0.067950  \n",
              "Age                        0.004768  \n",
              "Positive Nodes            -0.286768  \n",
              "Survived 5 Years           1.000000  "
            ]
          },
          "metadata": {
            "tags": []
          },
          "execution_count": 23
        }
      ]
    },
    {
      "metadata": {
        "id": "KtXw0-h2wKHs",
        "colab_type": "code",
        "colab": {
          "base_uri": "https://localhost:8080/",
          "height": 238
        },
        "outputId": "eb79f5c2-c5f9-4e7c-8057-c48137e2812c"
      },
      "cell_type": "code",
      "source": [
        "positive_nodes_bins = pd.cut(df['Positive Nodes'], 4)  # 4 equal-sized bins\n",
        "survived_5_Years_bins = pd.cut(df['Survived 5 Years'], 2)  # 2 equal-sized bins\n",
        "\n",
        "df_crosstab_table = pd.crosstab(positive_nodes_bins, survived_5_Years_bins, normalize='columns')\n",
        "print(\"Crosstab Statistics:\\n\")\n",
        "df_crosstab_table"
      ],
      "execution_count": 26,
      "outputs": [
        {
          "output_type": "stream",
          "text": [
            "Crosstab Statistics:\n",
            "\n"
          ],
          "name": "stdout"
        },
        {
          "output_type": "execute_result",
          "data": {
            "text/html": [
              "<div>\n",
              "<style scoped>\n",
              "    .dataframe tbody tr th:only-of-type {\n",
              "        vertical-align: middle;\n",
              "    }\n",
              "\n",
              "    .dataframe tbody tr th {\n",
              "        vertical-align: top;\n",
              "    }\n",
              "\n",
              "    .dataframe thead th {\n",
              "        text-align: right;\n",
              "    }\n",
              "</style>\n",
              "<table border=\"1\" class=\"dataframe\">\n",
              "  <thead>\n",
              "    <tr style=\"text-align: right;\">\n",
              "      <th>Survived 5 Years</th>\n",
              "      <th>(-0.001, 0.5]</th>\n",
              "      <th>(0.5, 1.0]</th>\n",
              "    </tr>\n",
              "    <tr>\n",
              "      <th>Positive Nodes</th>\n",
              "      <th></th>\n",
              "      <th></th>\n",
              "    </tr>\n",
              "  </thead>\n",
              "  <tbody>\n",
              "    <tr>\n",
              "      <th>(-0.052, 13.0]</th>\n",
              "      <td>0.814815</td>\n",
              "      <td>0.937778</td>\n",
              "    </tr>\n",
              "    <tr>\n",
              "      <th>(13.0, 26.0]</th>\n",
              "      <td>0.160494</td>\n",
              "      <td>0.048889</td>\n",
              "    </tr>\n",
              "    <tr>\n",
              "      <th>(26.0, 39.0]</th>\n",
              "      <td>0.012346</td>\n",
              "      <td>0.008889</td>\n",
              "    </tr>\n",
              "    <tr>\n",
              "      <th>(39.0, 52.0]</th>\n",
              "      <td>0.012346</td>\n",
              "      <td>0.004444</td>\n",
              "    </tr>\n",
              "  </tbody>\n",
              "</table>\n",
              "</div>"
            ],
            "text/plain": [
              "Survived 5 Years  (-0.001, 0.5]  (0.5, 1.0]\n",
              "Positive Nodes                             \n",
              "(-0.052, 13.0]         0.814815    0.937778\n",
              "(13.0, 26.0]           0.160494    0.048889\n",
              "(26.0, 39.0]           0.012346    0.008889\n",
              "(39.0, 52.0]           0.012346    0.004444"
            ]
          },
          "metadata": {
            "tags": []
          },
          "execution_count": 26
        }
      ]
    },
    {
      "metadata": {
        "id": "w5W_wm4c0zD8",
        "colab_type": "code",
        "colab": {
          "base_uri": "https://localhost:8080/",
          "height": 379
        },
        "outputId": "a462187c-e69c-48f7-b0a5-7533023d29c0"
      },
      "cell_type": "code",
      "source": [
        "pd.pivot_table(df,values='Survived 5 Years',\n",
        "               index='Positive Nodes').plot.bar()"
      ],
      "execution_count": 28,
      "outputs": [
        {
          "output_type": "execute_result",
          "data": {
            "text/plain": [
              "<matplotlib.axes._subplots.AxesSubplot at 0x7fe875171240>"
            ]
          },
          "metadata": {
            "tags": []
          },
          "execution_count": 28
        },
        {
          "output_type": "display_data",
          "data": {
            "image/png": "[encoded data removed]",
            "text/plain": [
              "<matplotlib.figure.Figure at 0x7fe877a39128>"
            ]
          },
          "metadata": {
            "tags": []
          }
        }
      ]
    },
    {
      "metadata": {
        "id": "WKw2PB_G8e3t",
        "colab_type": "code",
        "colab": {
          "base_uri": "https://localhost:8080/",
          "height": 401
        },
        "outputId": "9e04d47f-f295-4f28-fd9a-129d4781c5d2"
      },
      "cell_type": "code",
      "source": [
        "fig, ax = plt.subplots()\n",
        "\n",
        "ax.set_xlabel('Age')\n",
        "ax.set_ylabel('Number of Positive Nodes')\n",
        "\n",
        "ax.scatter(df['Age'], df['Positive Nodes'], alpha=0.5)\n",
        "\n",
        "ax.grid(True)\n",
        "fig.tight_layout()\n",
        "\n",
        "plt.show()"
      ],
      "execution_count": 52,
      "outputs": [
        {
          "output_type": "display_data",
          "data": {
            "image/png": "[encoded data removed]",
            "text/plain": [
              "<matplotlib.figure.Figure at 0x7fe87364b908>"
            ]
          },
          "metadata": {
            "tags": []
          }
        }
      ]
    },
    {
      "metadata": {
        "id": "UbZGYNtD1qaV",
        "colab_type": "code",
        "colab": {
          "base_uri": "https://localhost:8080/",
          "height": 68
        },
        "outputId": "607a4e70-cc38-4e1c-caed-25dae759f9e1"
      },
      "cell_type": "code",
      "source": [
        "df5yes = df[df['Survived 5 Years'] == 1]\n",
        "df5no = df[df['Survived 5 Years'] == 0]\n",
        "\n",
        "df5yes_mean = df5yes['Positive Nodes'].mean()\n",
        "df5yno_mean = df5no['Positive Nodes'].mean()\n",
        "print (\"Mean number of positive nodes for persons who survived more than five years is:\", df5yes_mean)\n",
        "print (\"Mean number of positive nodes for persons who did not survive five years is:\", df5yno_mean)\n",
        "print (\"Ratio of these:\", df5yes_mean / df5yno_mean)"
      ],
      "execution_count": 53,
      "outputs": [
        {
          "output_type": "stream",
          "text": [
            "Mean number of positive nodes for persons who survived more than five years is: 2.7911111111111113\n",
            "Mean number of positive nodes for persons who did not survive five years is: 7.45679012345679\n",
            "Ratio of these: 0.3743046357615894\n"
          ],
          "name": "stdout"
        }
      ]
    },
    {
      "metadata": {
        "id": "hb9dV-3j6SS7",
        "colab_type": "code",
        "colab": {
          "base_uri": "https://localhost:8080/",
          "height": 1071
        },
        "outputId": "30273823-02b2-49f1-830f-1a29745e84df"
      },
      "cell_type": "code",
      "source": [
        "df_many_nodes = df[df['Positive Nodes'] > 15]\n",
        "\n",
        "print(\"Statistics for those with more than 15 Positive Nodes:\\n\")\n",
        "print(\"Data Frame shape: \", df_many_nodes.shape)\n",
        "print(\"Mean number of nodes\", df_many_nodes['Positive Nodes'].mean())\n",
        "print(\"Mean survival\", df_many_nodes['Survived 5 Years'].mean())\n",
        "print(\"\\nCorrelation Statistics:\\n\", df_many_nodes.corr())\n",
        "\n",
        "print(\"\\nTable Data:\")\n",
        "df_many_nodes"
      ],
      "execution_count": 59,
      "outputs": [
        {
          "output_type": "stream",
          "text": [
            "Statistics for those with more than 15 Positive Nodes:\n",
            "\n",
            "Data Frame shape:  (22, 4)\n",
            "Mean number of nodes 24.727272727272727\n",
            "Mean survival 0.45454545454545453\n",
            "\n",
            "Correlation Statistics:\n",
            "                    Year of Operation       Age  Positive Nodes  \\\n",
            "Year of Operation           1.000000  0.074102       -0.085474   \n",
            "Age                         0.074102  1.000000       -0.290243   \n",
            "Positive Nodes             -0.085474 -0.290243        1.000000   \n",
            "Survived 5 Years            0.083725  0.170785       -0.013177   \n",
            "\n",
            "                   Survived 5 Years  \n",
            "Year of Operation          0.083725  \n",
            "Age                        0.170785  \n",
            "Positive Nodes            -0.013177  \n",
            "Survived 5 Years           1.000000  \n",
            "\n",
            "Table Data:\n"
          ],
          "name": "stdout"
        },
        {
          "output_type": "execute_result",
          "data": {
            "text/html": [
              "<div>\n",
              "<style scoped>\n",
              "    .dataframe tbody tr th:only-of-type {\n",
              "        vertical-align: middle;\n",
              "    }\n",
              "\n",
              "    .dataframe tbody tr th {\n",
              "        vertical-align: top;\n",
              "    }\n",
              "\n",
              "    .dataframe thead th {\n",
              "        text-align: right;\n",
              "    }\n",
              "</style>\n",
              "<table border=\"1\" class=\"dataframe\">\n",
              "  <thead>\n",
              "    <tr style=\"text-align: right;\">\n",
              "      <th></th>\n",
              "      <th>Year of Operation</th>\n",
              "      <th>Age</th>\n",
              "      <th>Positive Nodes</th>\n",
              "      <th>Survived 5 Years</th>\n",
              "    </tr>\n",
              "  </thead>\n",
              "  <tbody>\n",
              "    <tr>\n",
              "      <th>9</th>\n",
              "      <td>1934</td>\n",
              "      <td>58</td>\n",
              "      <td>30</td>\n",
              "      <td>1</td>\n",
              "    </tr>\n",
              "    <tr>\n",
              "      <th>24</th>\n",
              "      <td>1938</td>\n",
              "      <td>69</td>\n",
              "      <td>21</td>\n",
              "      <td>0</td>\n",
              "    </tr>\n",
              "    <tr>\n",
              "      <th>43</th>\n",
              "      <td>1941</td>\n",
              "      <td>60</td>\n",
              "      <td>23</td>\n",
              "      <td>0</td>\n",
              "    </tr>\n",
              "    <tr>\n",
              "      <th>59</th>\n",
              "      <td>1942</td>\n",
              "      <td>62</td>\n",
              "      <td>20</td>\n",
              "      <td>1</td>\n",
              "    </tr>\n",
              "    <tr>\n",
              "      <th>62</th>\n",
              "      <td>1943</td>\n",
              "      <td>58</td>\n",
              "      <td>52</td>\n",
              "      <td>0</td>\n",
              "    </tr>\n",
              "    <tr>\n",
              "      <th>75</th>\n",
              "      <td>1944</td>\n",
              "      <td>63</td>\n",
              "      <td>19</td>\n",
              "      <td>0</td>\n",
              "    </tr>\n",
              "    <tr>\n",
              "      <th>79</th>\n",
              "      <td>1944</td>\n",
              "      <td>67</td>\n",
              "      <td>16</td>\n",
              "      <td>1</td>\n",
              "    </tr>\n",
              "    <tr>\n",
              "      <th>92</th>\n",
              "      <td>1946</td>\n",
              "      <td>65</td>\n",
              "      <td>20</td>\n",
              "      <td>0</td>\n",
              "    </tr>\n",
              "    <tr>\n",
              "      <th>96</th>\n",
              "      <td>1947</td>\n",
              "      <td>63</td>\n",
              "      <td>23</td>\n",
              "      <td>0</td>\n",
              "    </tr>\n",
              "    <tr>\n",
              "      <th>160</th>\n",
              "      <td>1953</td>\n",
              "      <td>63</td>\n",
              "      <td>24</td>\n",
              "      <td>0</td>\n",
              "    </tr>\n",
              "    <tr>\n",
              "      <th>168</th>\n",
              "      <td>1954</td>\n",
              "      <td>65</td>\n",
              "      <td>23</td>\n",
              "      <td>0</td>\n",
              "    </tr>\n",
              "    <tr>\n",
              "      <th>174</th>\n",
              "      <td>1954</td>\n",
              "      <td>67</td>\n",
              "      <td>46</td>\n",
              "      <td>1</td>\n",
              "    </tr>\n",
              "    <tr>\n",
              "      <th>177</th>\n",
              "      <td>1954</td>\n",
              "      <td>63</td>\n",
              "      <td>19</td>\n",
              "      <td>1</td>\n",
              "    </tr>\n",
              "    <tr>\n",
              "      <th>185</th>\n",
              "      <td>1955</td>\n",
              "      <td>66</td>\n",
              "      <td>18</td>\n",
              "      <td>1</td>\n",
              "    </tr>\n",
              "    <tr>\n",
              "      <th>188</th>\n",
              "      <td>1955</td>\n",
              "      <td>69</td>\n",
              "      <td>22</td>\n",
              "      <td>1</td>\n",
              "    </tr>\n",
              "    <tr>\n",
              "      <th>215</th>\n",
              "      <td>1959</td>\n",
              "      <td>62</td>\n",
              "      <td>35</td>\n",
              "      <td>0</td>\n",
              "    </tr>\n",
              "    <tr>\n",
              "      <th>223</th>\n",
              "      <td>1960</td>\n",
              "      <td>59</td>\n",
              "      <td>17</td>\n",
              "      <td>0</td>\n",
              "    </tr>\n",
              "    <tr>\n",
              "      <th>227</th>\n",
              "      <td>1960</td>\n",
              "      <td>61</td>\n",
              "      <td>25</td>\n",
              "      <td>1</td>\n",
              "    </tr>\n",
              "    <tr>\n",
              "      <th>240</th>\n",
              "      <td>1962</td>\n",
              "      <td>65</td>\n",
              "      <td>19</td>\n",
              "      <td>0</td>\n",
              "    </tr>\n",
              "    <tr>\n",
              "      <th>252</th>\n",
              "      <td>1963</td>\n",
              "      <td>61</td>\n",
              "      <td>28</td>\n",
              "      <td>1</td>\n",
              "    </tr>\n",
              "    <tr>\n",
              "      <th>254</th>\n",
              "      <td>1964</td>\n",
              "      <td>65</td>\n",
              "      <td>22</td>\n",
              "      <td>1</td>\n",
              "    </tr>\n",
              "    <tr>\n",
              "      <th>260</th>\n",
              "      <td>1965</td>\n",
              "      <td>62</td>\n",
              "      <td>22</td>\n",
              "      <td>0</td>\n",
              "    </tr>\n",
              "  </tbody>\n",
              "</table>\n",
              "</div>"
            ],
            "text/plain": [
              "     Year of Operation  Age  Positive Nodes  Survived 5 Years\n",
              "9                 1934   58              30                 1\n",
              "24                1938   69              21                 0\n",
              "43                1941   60              23                 0\n",
              "59                1942   62              20                 1\n",
              "62                1943   58              52                 0\n",
              "75                1944   63              19                 0\n",
              "79                1944   67              16                 1\n",
              "92                1946   65              20                 0\n",
              "96                1947   63              23                 0\n",
              "160               1953   63              24                 0\n",
              "168               1954   65              23                 0\n",
              "174               1954   67              46                 1\n",
              "177               1954   63              19                 1\n",
              "185               1955   66              18                 1\n",
              "188               1955   69              22                 1\n",
              "215               1959   62              35                 0\n",
              "223               1960   59              17                 0\n",
              "227               1960   61              25                 1\n",
              "240               1962   65              19                 0\n",
              "252               1963   61              28                 1\n",
              "254               1964   65              22                 1\n",
              "260               1965   62              22                 0"
            ]
          },
          "metadata": {
            "tags": []
          },
          "execution_count": 59
        }
      ]
    },
    {
      "metadata": {
        "id": "4XtemtyHHs2O",
        "colab_type": "code",
        "colab": {
          "base_uri": "https://localhost:8080/",
          "height": 719
        },
        "outputId": "ae30fd88-cdd2-4438-95bb-151dd56ded5c"
      },
      "cell_type": "code",
      "source": [
        "df_fewer_nodes = df[df['Positive Nodes'] < 16]\n",
        "\n",
        "print(\"Statistics for those with more than 15 Positive Nodes:\\n\")\n",
        "print(\"Data Frame shape: \", df_fewer_nodes.shape)\n",
        "print(\"Mean number of nodes\", df_fewer_nodes['Positive Nodes'].mean())\n",
        "print(\"Mean survival\", df_fewer_nodes['Survived 5 Years'].mean())\n",
        "print(\"\\nCorrelation Statistics:\\n\", df_fewer_nodes.corr())\n",
        "\n",
        "print(\"\\nTable Data:\")\n",
        "pd.pivot_table(df_fewer_nodes, values='Survived 5 Years',\n",
        "               index='Positive Nodes').plot.bar()"
      ],
      "execution_count": 60,
      "outputs": [
        {
          "output_type": "stream",
          "text": [
            "Statistics for those with more than 15 Positive Nodes:\n",
            "\n",
            "Data Frame shape:  (284, 4)\n",
            "Mean number of nodes 2.4225352112676055\n",
            "Mean survival 0.7570422535211268\n",
            "\n",
            "Correlation Statistics:\n",
            "                    Year of Operation       Age  Positive Nodes  \\\n",
            "Year of Operation           1.000000  0.091471       -0.084309   \n",
            "Age                         0.091471  1.000000       -0.023395   \n",
            "Positive Nodes             -0.084309 -0.023395        1.000000   \n",
            "Survived 5 Years           -0.084463 -0.001600       -0.307726   \n",
            "\n",
            "                   Survived 5 Years  \n",
            "Year of Operation         -0.084463  \n",
            "Age                       -0.001600  \n",
            "Positive Nodes            -0.307726  \n",
            "Survived 5 Years           1.000000  \n",
            "\n",
            "Table Data:\n"
          ],
          "name": "stdout"
        },
        {
          "output_type": "execute_result",
          "data": {
            "text/plain": [
              "<matplotlib.axes._subplots.AxesSubplot at 0x7fe8734dcc88>"
            ]
          },
          "metadata": {
            "tags": []
          },
          "execution_count": 60
        },
        {
          "output_type": "display_data",
          "data": {
            "image/png": "[encoded data removed]",
            "text/plain": [
              "<matplotlib.figure.Figure at 0x7fe874f08a58>"
            ]
          },
          "metadata": {
            "tags": []
          }
        }
      ]
    },
    {
      "metadata": {
        "id": "ZM8JckA2bgnp",
        "colab_type": "text"
      },
      "cell_type": "markdown",
      "source": [
        "## Part 3 - Analysis and Interpretation\n",
        "\n",
        "Now that you've looked at the data, answer the following questions:\n",
        "\n",
        "- What is at least one feature that looks to have a positive relationship with survival?\n",
        "\n",
        " ==>> The data is somehwat noisy. The best I can say is that those who survived 5 years or more had around a third (37% to be precise) of the number of positive nodes on average as those who didn't.\n",
        "- What is at least one feature that looks to have a negative relationship with survival?\n",
        "\n",
        " ==>> There's somehwat of a negative correlation (-0.286768) between number of positive nodes and the chances of surviving five years or longer. BUT: There appear to be some outliers that interfere with drawing strong conclusions: For those with more than 15 positive nodes, the chances of surviving more than five years are almost fifty(!) percent - 45.45% is the precise figure. In fact, person 174, who had 46 positive nodes, survived more than five years. For this group the correlation between number of positive nodes and the chances of surviving five years or longer is almost zero (-0.013177)\n",
        "- How are those two features related with each other, and what might that mean?\n",
        "\n",
        " ==>> As I said, the data is somewhat messy. The pivot table graph shows a gradual, pretty much linear, decline in the likelihood one survives more than five years as the number of positive nodes increases - until the number of positive nodes reaches 15, at which point this ceases. The aforementioned outliers preclude any significant conclusions when the number of positive nodes is greater than 15.\n",
        " \n",
        "**Bottom line:** I wouldn't want to use this data to draw ANY conclusions.\n",
        "\n",
        "**Addendum:** This is what I originall wrote. I then realized that the count of those with more than 15 positive nodes was 22, some seven percent of the whole table. So I threw these out and took a look at the remaining data, which is what's presented in the last cell. This has a slightly greater negative correlation (-0.307726) between number of positive nodes and the chances of surviving five years or longer, which as expected the pivot table chart seems to confirm. But even this data is noisy: three of the four who had 14 positive nodes survived five years or longer (cheated - counted these manually ;-)). So I continue to stand by my bottom line.\n",
        "\n",
        "Answer with text, but feel free to intersperse example code/results or refer to it from earlier."
      ]
    }
  ]
}