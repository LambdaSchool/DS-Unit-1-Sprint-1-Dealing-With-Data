{
 "cells": [
  {
   "cell_type": "markdown",
   "metadata": {
    "colab_type": "text",
    "id": "NooAiTdnafkz"
   },
   "source": [
    "# Data Science Unit 1 Sprint Challenge 1\n",
    "\n",
    "## Loading, cleaning, visualizing, and analyzing data\n",
    "\n",
    "In this sprint challenge you will look at a dataset of the survival of patients who underwent surgery for breast cancer.\n",
    "\n",
    "http://archive.ics.uci.edu/ml/datasets/Haberman%27s+Survival\n",
    "\n",
    "Data Set Information:\n",
    "The dataset contains cases from a study that was conducted between 1958 and 1970 at the University of Chicago's Billings Hospital on the survival of patients who had undergone surgery for breast cancer.\n",
    "\n",
    "Attribute Information:\n",
    "1. Age of patient at time of operation (numerical)\n",
    "2. Patient's year of operation (year - 1900, numerical)\n",
    "3. Number of positive axillary nodes detected (numerical)\n",
    "4. Survival status (class attribute)\n",
    "-- 1 = the patient survived 5 years or longer\n",
    "-- 2 = the patient died within 5 year\n",
    "\n",
    "Sprint challenges are evaluated based on satisfactory completion of each part. It is suggested you work through it in order, getting each aspect reasonably working, before trying to deeply explore, iterate, or refine any given step. Once you get to the end, if you want to go back and improve things, go for it!"
   ]
  },
  {
   "cell_type": "markdown",
   "metadata": {
    "colab_type": "text",
    "id": "5wch6ksCbJtZ"
   },
   "source": [
    "## Part 1 - Load and validate the data\n",
    "\n",
    "- ~~Load the data as a `pandas` data frame.~~\n",
    "- ~~Validate that it has the appropriate number of observations (you can check the raw file, and also read the dataset description from UCI).~~\n",
    "- ~~Validate that you have no missing values.~~\n",
    "- ~~Add informative names to the features.~~\n",
    "- ~~The survival variable is encoded as 1 for surviving >5 years and 2 for not - change this to be 0 for not surviving and 1 for surviving >5 years (0/1 is a more traditional encoding of binary variables)~~\n",
    "\n",
    "~~At the end, print the first five rows of the dataset to demonstrate the above.~~"
   ]
  },
  {
   "cell_type": "code",
   "execution_count": 71,
   "metadata": {},
   "outputs": [],
   "source": [
    "import pandas as pd\n",
    "import matplotlib.pyplot as plt\n",
    "import numpy as np"
   ]
  },
  {
   "cell_type": "code",
   "execution_count": 48,
   "metadata": {
    "colab": {},
    "colab_type": "code",
    "id": "287TpoGKFRVK"
   },
   "outputs": [],
   "source": [
    "# TODO\n",
    "\n",
    "df = pd.read_csv(\"http://archive.ics.uci.edu/ml/machine-learning-databases/haberman/haberman.data\", header = None, names = ['age', 'year', 'positive_nodes_detected', 'survived_five_years'])\n",
    "df['survived_five_years'] = df['survived_five_years'].apply(lambda x : 0 if x==2 else 1 )"
   ]
  },
  {
   "cell_type": "code",
   "execution_count": 51,
   "metadata": {},
   "outputs": [
    {
     "name": "stdout",
     "output_type": "stream",
     "text": [
      "True\n",
      "age                        0\n",
      "year                       0\n",
      "positive_nodes_detected    0\n",
      "survived_five_years        0\n",
      "dtype: int64\n"
     ]
    }
   ],
   "source": [
    "print(df.shape == (306,4))\n",
    "print(df.isna().sum())"
   ]
  },
  {
   "cell_type": "code",
   "execution_count": 52,
   "metadata": {},
   "outputs": [
    {
     "data": {
      "text/html": [
       "<div>\n",
       "<style scoped>\n",
       "    .dataframe tbody tr th:only-of-type {\n",
       "        vertical-align: middle;\n",
       "    }\n",
       "\n",
       "    .dataframe tbody tr th {\n",
       "        vertical-align: top;\n",
       "    }\n",
       "\n",
       "    .dataframe thead th {\n",
       "        text-align: right;\n",
       "    }\n",
       "</style>\n",
       "<table border=\"1\" class=\"dataframe\">\n",
       "  <thead>\n",
       "    <tr style=\"text-align: right;\">\n",
       "      <th></th>\n",
       "      <th>age</th>\n",
       "      <th>year</th>\n",
       "      <th>positive_nodes_detected</th>\n",
       "      <th>survived_five_years</th>\n",
       "    </tr>\n",
       "  </thead>\n",
       "  <tbody>\n",
       "    <tr>\n",
       "      <th>0</th>\n",
       "      <td>30</td>\n",
       "      <td>64</td>\n",
       "      <td>1</td>\n",
       "      <td>1</td>\n",
       "    </tr>\n",
       "    <tr>\n",
       "      <th>1</th>\n",
       "      <td>30</td>\n",
       "      <td>62</td>\n",
       "      <td>3</td>\n",
       "      <td>1</td>\n",
       "    </tr>\n",
       "    <tr>\n",
       "      <th>2</th>\n",
       "      <td>30</td>\n",
       "      <td>65</td>\n",
       "      <td>0</td>\n",
       "      <td>1</td>\n",
       "    </tr>\n",
       "    <tr>\n",
       "      <th>3</th>\n",
       "      <td>31</td>\n",
       "      <td>59</td>\n",
       "      <td>2</td>\n",
       "      <td>1</td>\n",
       "    </tr>\n",
       "    <tr>\n",
       "      <th>4</th>\n",
       "      <td>31</td>\n",
       "      <td>65</td>\n",
       "      <td>4</td>\n",
       "      <td>1</td>\n",
       "    </tr>\n",
       "  </tbody>\n",
       "</table>\n",
       "</div>"
      ],
      "text/plain": [
       "   age  year  positive_nodes_detected  survived_five_years\n",
       "0   30    64                        1                    1\n",
       "1   30    62                        3                    1\n",
       "2   30    65                        0                    1\n",
       "3   31    59                        2                    1\n",
       "4   31    65                        4                    1"
      ]
     },
     "execution_count": 52,
     "metadata": {},
     "output_type": "execute_result"
    }
   ],
   "source": [
    "df.head(5)"
   ]
  },
  {
   "cell_type": "code",
   "execution_count": 136,
   "metadata": {},
   "outputs": [
    {
     "data": {
      "text/html": [
       "<div>\n",
       "<style scoped>\n",
       "    .dataframe tbody tr th:only-of-type {\n",
       "        vertical-align: middle;\n",
       "    }\n",
       "\n",
       "    .dataframe tbody tr th {\n",
       "        vertical-align: top;\n",
       "    }\n",
       "\n",
       "    .dataframe thead th {\n",
       "        text-align: right;\n",
       "    }\n",
       "</style>\n",
       "<table border=\"1\" class=\"dataframe\">\n",
       "  <thead>\n",
       "    <tr style=\"text-align: right;\">\n",
       "      <th></th>\n",
       "      <th>age</th>\n",
       "      <th>year</th>\n",
       "      <th>positive_nodes_detected</th>\n",
       "      <th>survived_five_years</th>\n",
       "    </tr>\n",
       "  </thead>\n",
       "  <tbody>\n",
       "    <tr>\n",
       "      <th>count</th>\n",
       "      <td>306.000000</td>\n",
       "      <td>306.000000</td>\n",
       "      <td>306.000000</td>\n",
       "      <td>306.000000</td>\n",
       "    </tr>\n",
       "    <tr>\n",
       "      <th>mean</th>\n",
       "      <td>52.457516</td>\n",
       "      <td>62.852941</td>\n",
       "      <td>4.026144</td>\n",
       "      <td>0.735294</td>\n",
       "    </tr>\n",
       "    <tr>\n",
       "      <th>std</th>\n",
       "      <td>10.803452</td>\n",
       "      <td>3.249405</td>\n",
       "      <td>7.189654</td>\n",
       "      <td>0.441899</td>\n",
       "    </tr>\n",
       "    <tr>\n",
       "      <th>min</th>\n",
       "      <td>30.000000</td>\n",
       "      <td>58.000000</td>\n",
       "      <td>0.000000</td>\n",
       "      <td>0.000000</td>\n",
       "    </tr>\n",
       "    <tr>\n",
       "      <th>25%</th>\n",
       "      <td>44.000000</td>\n",
       "      <td>60.000000</td>\n",
       "      <td>0.000000</td>\n",
       "      <td>0.000000</td>\n",
       "    </tr>\n",
       "    <tr>\n",
       "      <th>50%</th>\n",
       "      <td>52.000000</td>\n",
       "      <td>63.000000</td>\n",
       "      <td>1.000000</td>\n",
       "      <td>1.000000</td>\n",
       "    </tr>\n",
       "    <tr>\n",
       "      <th>75%</th>\n",
       "      <td>60.750000</td>\n",
       "      <td>65.750000</td>\n",
       "      <td>4.000000</td>\n",
       "      <td>1.000000</td>\n",
       "    </tr>\n",
       "    <tr>\n",
       "      <th>max</th>\n",
       "      <td>83.000000</td>\n",
       "      <td>69.000000</td>\n",
       "      <td>52.000000</td>\n",
       "      <td>1.000000</td>\n",
       "    </tr>\n",
       "  </tbody>\n",
       "</table>\n",
       "</div>"
      ],
      "text/plain": [
       "              age        year  positive_nodes_detected  survived_five_years\n",
       "count  306.000000  306.000000               306.000000           306.000000\n",
       "mean    52.457516   62.852941                 4.026144             0.735294\n",
       "std     10.803452    3.249405                 7.189654             0.441899\n",
       "min     30.000000   58.000000                 0.000000             0.000000\n",
       "25%     44.000000   60.000000                 0.000000             0.000000\n",
       "50%     52.000000   63.000000                 1.000000             1.000000\n",
       "75%     60.750000   65.750000                 4.000000             1.000000\n",
       "max     83.000000   69.000000                52.000000             1.000000"
      ]
     },
     "execution_count": 136,
     "metadata": {},
     "output_type": "execute_result"
    }
   ],
   "source": []
  },
  {
   "cell_type": "markdown",
   "metadata": {
    "colab_type": "text",
    "id": "G7rLytbrO38L"
   },
   "source": [
    "## Part 2 - Examine the distribution and relationships of the features\n",
    "\n",
    "Explore the data - ~~create at least *2* tables (can be summary statistics or crosstabulations)~~ and ~~*2* plots illustrating the nature of the data.~~\n",
    "\n",
    "This is open-ended, so to remind - first *complete* this task as a baseline, then go on to the remaining sections, and *then* as time allows revisit and explore further.\n",
    "\n",
    "Hint - you may need to bin some variables depending on your chosen tables/plots."
   ]
  },
  {
   "cell_type": "code",
   "execution_count": 204,
   "metadata": {},
   "outputs": [],
   "source": [
    "df['age_bin']=pd.cut(df['age'], 5, precision =  0)\n",
    "df['node_bin'] = pd.cut(df['positive_nodes_detected'], 10, precision =-1)\n"
   ]
  },
  {
   "cell_type": "code",
   "execution_count": 205,
   "metadata": {},
   "outputs": [
    {
     "data": {
      "text/html": [
       "<div>\n",
       "<style scoped>\n",
       "    .dataframe tbody tr th:only-of-type {\n",
       "        vertical-align: middle;\n",
       "    }\n",
       "\n",
       "    .dataframe tbody tr th {\n",
       "        vertical-align: top;\n",
       "    }\n",
       "\n",
       "    .dataframe thead th {\n",
       "        text-align: right;\n",
       "    }\n",
       "</style>\n",
       "<table border=\"1\" class=\"dataframe\">\n",
       "  <thead>\n",
       "    <tr style=\"text-align: right;\">\n",
       "      <th></th>\n",
       "      <th>age</th>\n",
       "      <th>year</th>\n",
       "      <th>positive_nodes_detected</th>\n",
       "      <th>survived_five_years</th>\n",
       "      <th>age_bin</th>\n",
       "      <th>node_bin</th>\n",
       "      <th>node_1,2,3,4,5,6+</th>\n",
       "      <th>node_counts</th>\n",
       "      <th>year_bin</th>\n",
       "    </tr>\n",
       "  </thead>\n",
       "  <tbody>\n",
       "    <tr>\n",
       "      <th>0</th>\n",
       "      <td>30</td>\n",
       "      <td>64</td>\n",
       "      <td>1</td>\n",
       "      <td>1</td>\n",
       "      <td>(30.0, 41.0]</td>\n",
       "      <td>(-0.1, 5.0]</td>\n",
       "      <td>1</td>\n",
       "      <td>1</td>\n",
       "      <td>(62.0, 65.0]</td>\n",
       "    </tr>\n",
       "    <tr>\n",
       "      <th>1</th>\n",
       "      <td>30</td>\n",
       "      <td>62</td>\n",
       "      <td>3</td>\n",
       "      <td>1</td>\n",
       "      <td>(30.0, 41.0]</td>\n",
       "      <td>(-0.1, 5.0]</td>\n",
       "      <td>3</td>\n",
       "      <td>2</td>\n",
       "      <td>(60.0, 62.0]</td>\n",
       "    </tr>\n",
       "    <tr>\n",
       "      <th>2</th>\n",
       "      <td>30</td>\n",
       "      <td>65</td>\n",
       "      <td>0</td>\n",
       "      <td>1</td>\n",
       "      <td>(30.0, 41.0]</td>\n",
       "      <td>(-0.1, 5.0]</td>\n",
       "      <td>0</td>\n",
       "      <td>0</td>\n",
       "      <td>(65.0, 67.0]</td>\n",
       "    </tr>\n",
       "    <tr>\n",
       "      <th>3</th>\n",
       "      <td>31</td>\n",
       "      <td>59</td>\n",
       "      <td>2</td>\n",
       "      <td>1</td>\n",
       "      <td>(30.0, 41.0]</td>\n",
       "      <td>(-0.1, 5.0]</td>\n",
       "      <td>2</td>\n",
       "      <td>2</td>\n",
       "      <td>(58.0, 60.0]</td>\n",
       "    </tr>\n",
       "    <tr>\n",
       "      <th>4</th>\n",
       "      <td>31</td>\n",
       "      <td>65</td>\n",
       "      <td>4</td>\n",
       "      <td>1</td>\n",
       "      <td>(30.0, 41.0]</td>\n",
       "      <td>(-0.1, 5.0]</td>\n",
       "      <td>4</td>\n",
       "      <td>2</td>\n",
       "      <td>(65.0, 67.0]</td>\n",
       "    </tr>\n",
       "  </tbody>\n",
       "</table>\n",
       "</div>"
      ],
      "text/plain": [
       "   age  year  positive_nodes_detected  survived_five_years       age_bin  \\\n",
       "0   30    64                        1                    1  (30.0, 41.0]   \n",
       "1   30    62                        3                    1  (30.0, 41.0]   \n",
       "2   30    65                        0                    1  (30.0, 41.0]   \n",
       "3   31    59                        2                    1  (30.0, 41.0]   \n",
       "4   31    65                        4                    1  (30.0, 41.0]   \n",
       "\n",
       "      node_bin  node_1,2,3,4,5,6+  node_counts      year_bin  \n",
       "0  (-0.1, 5.0]                  1            1  (62.0, 65.0]  \n",
       "1  (-0.1, 5.0]                  3            2  (60.0, 62.0]  \n",
       "2  (-0.1, 5.0]                  0            0  (65.0, 67.0]  \n",
       "3  (-0.1, 5.0]                  2            2  (58.0, 60.0]  \n",
       "4  (-0.1, 5.0]                  4            2  (65.0, 67.0]  "
      ]
     },
     "execution_count": 205,
     "metadata": {},
     "output_type": "execute_result"
    }
   ],
   "source": [
    "df.head()"
   ]
  },
  {
   "cell_type": "code",
   "execution_count": 200,
   "metadata": {
    "colab": {},
    "colab_type": "code",
    "id": "IAkllgCIFVj0"
   },
   "outputs": [
    {
     "data": {
      "text/plain": [
       "<matplotlib.collections.PathCollection at 0x29ea304c048>"
      ]
     },
     "execution_count": 200,
     "metadata": {},
     "output_type": "execute_result"
    },
    {
     "data": {
      "image/png": "[encoded data removed]",
      "text/plain": [
       "<Figure size 432x288 with 1 Axes>"
      ]
     },
     "metadata": {},
     "output_type": "display_data"
    }
   ],
   "source": [
    "# TODO\n",
    "plt.scatter(df['age'],df['positive_nodes_detected'])"
   ]
  },
  {
   "cell_type": "code",
   "execution_count": 212,
   "metadata": {},
   "outputs": [
    {
     "data": {
      "text/plain": [
       "                     year\n",
       "survived_five_years  58      0.666667\n",
       "                     59      0.666667\n",
       "                     60      0.857143\n",
       "                     61      0.884615\n",
       "                     62      0.695652\n",
       "                     63      0.733333\n",
       "                     64      0.741935\n",
       "                     65      0.535714\n",
       "                     66      0.785714\n",
       "                     67      0.840000\n",
       "                     68      0.769231\n",
       "                     69      0.636364\n",
       "dtype: float64"
      ]
     },
     "execution_count": 212,
     "metadata": {},
     "output_type": "execute_result"
    }
   ],
   "source": [
    "z =df.groupby(['year']).agg({'survived_five_years': np.mean})\n",
    "z.unstack(level=1)"
   ]
  },
  {
   "cell_type": "code",
   "execution_count": null,
   "metadata": {},
   "outputs": [],
   "source": []
  },
  {
   "cell_type": "code",
   "execution_count": 130,
   "metadata": {},
   "outputs": [
    {
     "name": "stdout",
     "output_type": "stream",
     "text": [
      "                                  survived_five_years\n",
      "age_bin      survived_five_years                     \n",
      "(30.0, 41.0] 0                                      4\n",
      "             1                                     39\n",
      "(41.0, 51.0] 0                                     31\n",
      "             1                                     68\n",
      "(51.0, 62.0] 0                                     27\n",
      "             1                                     69\n",
      "(62.0, 72.0] 0                                     16\n",
      "             1                                     43\n",
      "(72.0, 83.0] 0                                      3\n",
      "             1                                      6\n"
     ]
    },
    {
     "data": {
      "image/png": "[encoded data removed]",
      "text/plain": [
       "<Figure size 432x288 with 1 Axes>"
      ]
     },
     "metadata": {},
     "output_type": "display_data"
    }
   ],
   "source": [
    "a = df.groupby(['age_bin','survived_five_years']).agg({'survived_five_years': np.size})\n",
    "print(a)\n",
    "a['survived_five_years'].unstack(level=1).plot(kind='bar', stacked=True)\n",
    "plt.ylabel(\"Frequency\")\n",
    "plt.show()"
   ]
  },
  {
   "cell_type": "code",
   "execution_count": 128,
   "metadata": {},
   "outputs": [
    {
     "data": {
      "image/png": "[encoded data removed]",
      "text/plain": [
       "<Figure size 1440x432 with 1 Axes>"
      ]
     },
     "metadata": {},
     "output_type": "display_data"
    }
   ],
   "source": [
    "b=df.groupby(['node_bin','survived_five_years']).agg({'survived_five_years': np.size})\n",
    "\n",
    "b['survived_five_years'].unstack(level=1).plot(kind='bar', stacked=True, figsize=(20,6))\n",
    "plt.ylabel(\"Frequencies\")\n",
    "plt.show()"
   ]
  },
  {
   "cell_type": "code",
   "execution_count": 132,
   "metadata": {},
   "outputs": [
    {
     "data": {
      "image/png": "[encoded data removed]",
      "text/plain": [
       "<Figure size 1440x432 with 1 Axes>"
      ]
     },
     "metadata": {},
     "output_type": "display_data"
    }
   ],
   "source": [
    "c = df['age'].groupby(df['node_bin'])\n",
    "data = [group for  name, group in c]\n",
    "fig, ax1 = plt.subplots(figsize=(20, 6))\n",
    "ax1.set_axisbelow(True)\n",
    "\n",
    "bp = plt.boxplot(data, sym='+')\n",
    "\n",
    "plt.setp(ax1,xticklabels=[name for name, group in c])\n",
    "plt.ylabel(\"age distribution\")\n",
    "plt.xlabel(\"node bin\")\n",
    "plt.show()"
   ]
  },
  {
   "cell_type": "code",
   "execution_count": 171,
   "metadata": {},
   "outputs": [
    {
     "data": {
      "image/png": "[encoded data removed]",
      "text/plain": [
       "<Figure size 1440x432 with 1 Axes>"
      ]
     },
     "metadata": {},
     "output_type": "display_data"
    }
   ],
   "source": [
    "c = df['positive_nodes_detected'].groupby(df['age_bin'])\n",
    "data = [group for  name, group in c]\n",
    "fig, ax1 = plt.subplots(figsize=(20, 6))\n",
    "ax1.set_axisbelow(True)\n",
    "\n",
    "bp = plt.boxplot(data, sym='+')\n",
    "\n",
    "plt.setp(ax1,xticklabels=[name for name, group in c])\n",
    "plt.xlabel(\"age distribution\")\n",
    "plt.ylabel(\"node bin\")\n",
    "plt.show()"
   ]
  },
  {
   "cell_type": "code",
   "execution_count": 133,
   "metadata": {},
   "outputs": [
    {
     "data": {
      "text/plain": [
       "                     node_bin    \n",
       "survived_five_years  (-0.1, 5.0]     0.805085\n",
       "                     (5.0, 10.0]     0.600000\n",
       "                     (10.0, 16.0]    0.388889\n",
       "                     (16.0, 21.0]    0.500000\n",
       "                     (21.0, 26.0]    0.333333\n",
       "                     (26.0, 31.0]    1.000000\n",
       "                     (31.0, 36.0]    0.000000\n",
       "                     (36.0, 42.0]         NaN\n",
       "                     (42.0, 47.0]    1.000000\n",
       "                     (47.0, 52.0]    0.000000\n",
       "dtype: float64"
      ]
     },
     "execution_count": 133,
     "metadata": {},
     "output_type": "execute_result"
    }
   ],
   "source": [
    "survived_percent1 = df.groupby(['node_bin']).agg({'survived_five_years': np.mean})\n",
    "survived_percent1.unstack(level=1)"
   ]
  },
  {
   "cell_type": "code",
   "execution_count": 134,
   "metadata": {},
   "outputs": [
    {
     "data": {
      "text/plain": [
       "                     age_bin     \n",
       "survived_five_years  (30.0, 41.0]    0.906977\n",
       "                     (41.0, 51.0]    0.686869\n",
       "                     (51.0, 62.0]    0.718750\n",
       "                     (62.0, 72.0]    0.728814\n",
       "                     (72.0, 83.0]    0.666667\n",
       "dtype: float64"
      ]
     },
     "execution_count": 134,
     "metadata": {},
     "output_type": "execute_result"
    }
   ],
   "source": [
    "survived_percent2 = df.groupby(['age_bin']).agg({'survived_five_years': np.mean})\n",
    "survived_percent2.unstack(level=1)"
   ]
  },
  {
   "cell_type": "code",
   "execution_count": 195,
   "metadata": {},
   "outputs": [
    {
     "data": {
      "text/plain": [
       "(                     node_counts\n",
       " survived_five_years  0              0.860294\n",
       "                      1              0.804878\n",
       "                      2              0.750000\n",
       "                      3              0.650000\n",
       "                      4              0.769231\n",
       "                      5              0.333333\n",
       "                      6              0.571429\n",
       "                      7              0.714286\n",
       "                      8              0.714286\n",
       "                      9              0.333333\n",
       "                      10             0.441860\n",
       " dtype: float64,              survived_five_years\n",
       " node_counts                     \n",
       " 0                            136\n",
       " 1                             41\n",
       " 2                             20\n",
       " 3                             20\n",
       " 4                             13\n",
       " 5                              6\n",
       " 6                              7\n",
       " 7                              7\n",
       " 8                              7\n",
       " 9                              6\n",
       " 10                            43)"
      ]
     },
     "execution_count": 195,
     "metadata": {},
     "output_type": "execute_result"
    }
   ],
   "source": [
    "df10 =df\n",
    "df10['node_counts'] = df['positive_nodes_detected'].apply(lambda x : x if x <10 else 10)\n",
    "survived_percent3 = df10.groupby(['node_counts']).agg({'survived_five_years': np.mean})\n",
    "survived_percent3.unstack(level=1),df10.groupby(['node_counts']).agg({'survived_five_years': np.size})"
   ]
  },
  {
   "cell_type": "code",
   "execution_count": 168,
   "metadata": {},
   "outputs": [
    {
     "data": {
      "text/plain": [
       "(                     node_counts\n",
       " survived_five_years  0              0.860294\n",
       "                      1              0.804878\n",
       "                      2              0.750000\n",
       "                      3              0.650000\n",
       "                      4              0.769231\n",
       "                      5              0.486842\n",
       " dtype: float64,              survived_five_years\n",
       " node_counts                     \n",
       " 0                            136\n",
       " 1                             41\n",
       " 2                             20\n",
       " 3                             20\n",
       " 4                             13\n",
       " 5                             76)"
      ]
     },
     "execution_count": 168,
     "metadata": {},
     "output_type": "execute_result"
    }
   ],
   "source": [
    "df5 =df\n",
    "df5['node_counts'] = df['positive_nodes_detected'].apply(lambda x : x if x <5 else 5)\n",
    "survived_percent3 = df.groupby(['node_counts']).agg({'survived_five_years': np.mean})\n",
    "survived_percent3.unstack(level=1),df10.groupby(['node_counts']).agg({'survived_five_years': np.size})"
   ]
  },
  {
   "cell_type": "code",
   "execution_count": 197,
   "metadata": {},
   "outputs": [
    {
     "data": {
      "text/plain": [
       "(                          node_counts\n",
       " age_bin      node_counts             \n",
       " (30.0, 41.0] 0                     19\n",
       "              1                      5\n",
       "              2                     19\n",
       " (41.0, 51.0] 0                     40\n",
       "              1                     15\n",
       "              2                     44\n",
       " (51.0, 62.0] 0                     36\n",
       "              1                     15\n",
       "              2                     45\n",
       " (62.0, 72.0] 0                     37\n",
       "              1                      4\n",
       "              2                     18\n",
       " (72.0, 83.0] 0                      4\n",
       "              1                      2\n",
       "              2                      3,\n",
       " <matplotlib.axes._subplots.AxesSubplot at 0x29ea3d2f208>)"
      ]
     },
     "execution_count": 197,
     "metadata": {},
     "output_type": "execute_result"
    },
    {
     "data": {
      "image/png": "[encoded data removed]",
      "text/plain": [
       "<Figure size 432x288 with 1 Axes>"
      ]
     },
     "metadata": {},
     "output_type": "display_data"
    }
   ],
   "source": [
    "df1 =df\n",
    "df1['node_counts'] = df['positive_nodes_detected'].apply(lambda x : x if x <2 else 2)\n",
    "df6=df1.groupby(['age_bin','node_counts']).agg({'node_counts':np.size})\n",
    "df6, df6.unstack(level=1).plot(kind='bar', stacked=True)\n"
   ]
  },
  {
   "cell_type": "code",
   "execution_count": 199,
   "metadata": {},
   "outputs": [
    {
     "data": {
      "text/plain": [
       "                         age_bin     \n",
       "positive_nodes_detected  (30.0, 41.0]    3.813953\n",
       "                         (41.0, 51.0]    4.181818\n",
       "                         (51.0, 62.0]    4.604167\n",
       "                         (62.0, 72.0]    3.423729\n",
       "                         (72.0, 83.0]    1.111111\n",
       "dtype: float64"
      ]
     },
     "execution_count": 199,
     "metadata": {},
     "output_type": "execute_result"
    }
   ],
   "source": [
    "survived_percent4 = df.groupby(['age_bin']).agg({'positive_nodes_detected': np.mean})\n",
    "survived_percent4.unstack(level=1)"
   ]
  },
  {
   "cell_type": "markdown",
   "metadata": {
    "colab_type": "text",
    "id": "ZM8JckA2bgnp"
   },
   "source": [
    "## Part 3 - Analysis and Interpretation\n",
    "\n",
    "Now that you've looked at the data, answer the following questions:\n",
    "\n",
    "- What is at least one feature that looks to have a positive correlation with survival?\n",
    "- What is at least one feature that looks to have a negative correlation with survival?\n",
    "- How are those two features related with each other, and what might that mean?\n",
    "\n",
    "Answer with text, but feel free to intersperse example code/results or refer to it from earlier."
   ]
  },
  {
   "cell_type": "markdown",
   "metadata": {},
   "source": [
    "# Answers\n",
    "\n",
    "1. I could not find a positive correlation with any of the data. year did not seem to have any correlation with survival.\n",
    "\n",
    "2. Node count seems to have a negative correlation with survivial, if only at the extremes. From what i can tell, the rate of survival is about 80%+ if you have 1 node or fewer, and less than less than 50% if you have 5 nodes or more. One factor that looks to have a negative with survival is low age. Grouping the information by ages, suvival rate drops as age increases.\n",
    "\n",
    "3. The only relationship I can see between age and node count is that as one gets older, one is more likely have a greater number of nodes, up to a certain point. then the number of nodes decreases. Maybe because the age is a negative factor in survival, a younger person can endure more nodes developing."
   ]
  },
  {
   "cell_type": "code",
   "execution_count": null,
   "metadata": {},
   "outputs": [],
   "source": []
  }
 ],
 "metadata": {
  "colab": {
   "collapsed_sections": [],
   "name": "DS Unit 1 Sprint Challenge 1.ipynb",
   "provenance": [],
   "version": "0.3.2"
  },
  "kernelspec": {
   "display_name": "Python 3",
   "language": "python",
   "name": "python3"
  },
  "language_info": {
   "codemirror_mode": {
    "name": "ipython",
    "version": 3
   },
   "file_extension": ".py",
   "mimetype": "text/x-python",
   "name": "python",
   "nbconvert_exporter": "python",
   "pygments_lexer": "ipython3",
   "version": "3.6.5"
  }
 },
 "nbformat": 4,
 "nbformat_minor": 1
}
