{
  "nbformat": 4,
  "nbformat_minor": 0,
  "metadata": {
    "colab": {
      "name": "DS_Unit_1_Sprint_Challenge_1 (1).ipynb",
      "version": "0.3.2",
      "provenance": [],
      "collapsed_sections": [],
      "include_colab_link": true
    },
    "language_info": {
      "codemirror_mode": {
        "name": "ipython",
        "version": 3
      },
      "file_extension": ".py",
      "mimetype": "text/x-python",
      "name": "python",
      "nbconvert_exporter": "python",
      "pygments_lexer": "ipython3",
      "version": "3.6.8"
    },
    "kernelspec": {
      "display_name": "Python 3",
      "language": "python",
      "name": "python3"
    }
  },
  "cells": [
    {
      "cell_type": "markdown",
      "metadata": {
        "id": "view-in-github",
        "colab_type": "text"
      },
      "source": [
        "<a href=\"https://colab.research.google.com/github/leehanchung/DS-Unit-1-Sprint-1-Dealing-With-Data/blob/master/DS_Unit_1_Sprint_Challenge_1.ipynb\" target=\"_parent\"><img src=\"https://colab.research.google.com/assets/colab-badge.svg\" alt=\"Open In Colab\"/></a>"
      ]
    },
    {
      "cell_type": "markdown",
      "metadata": {
        "colab_type": "text",
        "id": "NooAiTdnafkz"
      },
      "source": [
        "# Data Science Unit 1 Sprint Challenge 1\n",
        "\n",
        "## Loading, cleaning, visualizing, and analyzing data\n",
        "\n",
        "In this sprint challenge you will look at a dataset of the survival of patients who underwent surgery for breast cancer.\n",
        "\n",
        "http://archive.ics.uci.edu/ml/datasets/Haberman%27s+Survival\n",
        "\n",
        "Data Set Information:\n",
        "The dataset contains cases from a study that was conducted between 1958 and 1970 at the University of Chicago's Billings Hospital on the survival of patients who had undergone surgery for breast cancer.\n",
        "\n",
        "Attribute Information:\n",
        "1. Age of patient at time of operation (numerical)\n",
        "2. Patient's year of operation (year - 1900, numerical)\n",
        "3. Number of positive axillary nodes detected (numerical)\n",
        "4. Survival status (class attribute)\n",
        "-- 1 = the patient survived 5 years or longer\n",
        "-- 2 = the patient died within 5 year\n",
        "\n",
        "Sprint challenges are evaluated based on satisfactory completion of each part. It is suggested you work through it in order, getting each aspect reasonably working, before trying to deeply explore, iterate, or refine any given step. Once you get to the end, if you want to go back and improve things, go for it!"
      ]
    },
    {
      "cell_type": "markdown",
      "metadata": {
        "colab_type": "text",
        "id": "5wch6ksCbJtZ"
      },
      "source": [
        "## Part 1 - Load and validate the data\n",
        "\n",
        "- Load the data as a `pandas` data frame.\n",
        "- Validate that it has the appropriate number of observations (you can check the raw file, and also read the dataset description from UCI).\n",
        "- Validate that you have no missing values.\n",
        "- Add informative names to the features.\n",
        "- The survival variable is encoded as 1 for surviving >5 years and 2 for not - change this to be 0 for not surviving and 1 for surviving >5 years (0/1 is a more traditional encoding of binary variables)\n",
        "\n",
        "At the end, print the first five rows of the dataset to demonstrate the above."
      ]
    },
    {
      "cell_type": "code",
      "metadata": {
        "colab_type": "code",
        "id": "287TpoGKFRVK",
        "colab": {}
      },
      "source": [
        "import pandas as pd\n",
        "import numpy as np\n",
        "import seaborn as sns\n",
        "url = \"http://archive.ics.uci.edu/ml/machine-learning-databases/haberman/haberman.data\""
      ],
      "execution_count": 0,
      "outputs": []
    },
    {
      "cell_type": "code",
      "metadata": {
        "id": "h7w6XdcOtLrT",
        "colab_type": "code",
        "colab": {}
      },
      "source": [
        "header = ['age', 'op_yr', 'nodes', 'survive']\n",
        "df = pd.read_csv(url, names=header)"
      ],
      "execution_count": 0,
      "outputs": []
    },
    {
      "cell_type": "code",
      "metadata": {
        "id": "ix524Zu9tLrk",
        "colab_type": "code",
        "colab": {},
        "outputId": "50c36089-0fb3-4894-a31d-96cbb8f7e5a8"
      },
      "source": [
        "print('All rows loaded? {}\\n\\n'.format(df.shape[0]==306))\n",
        "print('***Check missing values*** \\n{}\\n\\n'.format(df.isnull().any()))"
      ],
      "execution_count": 0,
      "outputs": [
        {
          "output_type": "stream",
          "text": [
            "All rows loaded? True\n",
            "\n",
            "\n",
            "***Check missing values*** \n",
            "age        False\n",
            "op_yr      False\n",
            "nodes      False\n",
            "survive    False\n",
            "dtype: bool\n",
            "\n",
            "\n"
          ],
          "name": "stdout"
        }
      ]
    },
    {
      "cell_type": "code",
      "metadata": {
        "scrolled": true,
        "id": "pfbKgNKMtLsB",
        "colab_type": "code",
        "colab": {},
        "outputId": "081ffabc-d086-47bb-d8d9-ef22045d0147"
      },
      "source": [
        "df.survive = df.survive.apply(lambda x: 0 if x == 2 else x)\n",
        "print('survive category encodings is now {}.\\n\\n'.format(df.survive.unique()))\n",
        "print('***Top 5 rows***\\n{}\\n'.format(df.head()))"
      ],
      "execution_count": 0,
      "outputs": [
        {
          "output_type": "stream",
          "text": [
            "survive category encodings is now [1 0].\n",
            "\n",
            "\n",
            "***Top 5 rows***\n",
            "   age  op_yr  nodes  survive\n",
            "0   30     64      1        1\n",
            "1   30     62      3        1\n",
            "2   30     65      0        1\n",
            "3   31     59      2        1\n",
            "4   31     65      4        1\n",
            "\n"
          ],
          "name": "stdout"
        }
      ]
    },
    {
      "cell_type": "markdown",
      "metadata": {
        "colab_type": "text",
        "id": "G7rLytbrO38L"
      },
      "source": [
        "## Part 2 - Examine the distribution and relationships of the features\n",
        "\n",
        "Explore the data - create at least *2* tables (can be summary statistics or crosstabulations) and *2* plots illustrating the nature of the data.\n",
        "\n",
        "This is open-ended, so to remind - first *complete* this task as a baseline, then go on to the remaining sections, and *then* as time allows revisit and explore further.\n",
        "\n",
        "Hint - you may need to bin some variables depending on your chosen tables/plots."
      ]
    },
    {
      "cell_type": "code",
      "metadata": {
        "colab_type": "code",
        "id": "IAkllgCIFVj0",
        "colab": {},
        "outputId": "6310d94e-e66a-4f04-d894-e1817e4def5f"
      },
      "source": [
        "print('***Summary statistics*** \\n{}\\n'.format(df.describe()))"
      ],
      "execution_count": 0,
      "outputs": [
        {
          "output_type": "stream",
          "text": [
            "***Summary statistics*** \n",
            "              age       op_yr       nodes     survive\n",
            "count  306.000000  306.000000  306.000000  306.000000\n",
            "mean    52.457516   62.852941    4.026144    0.735294\n",
            "std     10.803452    3.249405    7.189654    0.441899\n",
            "min     30.000000   58.000000    0.000000    0.000000\n",
            "25%     44.000000   60.000000    0.000000    0.000000\n",
            "50%     52.000000   63.000000    1.000000    1.000000\n",
            "75%     60.750000   65.750000    4.000000    1.000000\n",
            "max     83.000000   69.000000   52.000000    1.000000\n",
            "\n"
          ],
          "name": "stdout"
        }
      ]
    },
    {
      "cell_type": "code",
      "metadata": {
        "id": "b31AELK4tLs5",
        "colab_type": "code",
        "colab": {},
        "outputId": "25894833-63d2-46d4-ccec-cbe07efadcca"
      },
      "source": [
        "print('Binned age vs. survive\\n{}\\n\\n'.format(pd.crosstab(pd.cut(df.age, bins=5), df.survive)))\n",
        "print('binned notes vs survive\\n{}\\n\\n'.format(pd.crosstab(pd.cut(df.nodes, bins=5), df.survive)))\n",
        "print('binned age vs nodes stats\\n{}'.format(df.groupby(pd.cut(df.age, bins=5))['nodes'].agg(['mean', 'std'])))"
      ],
      "execution_count": 0,
      "outputs": [
        {
          "output_type": "stream",
          "text": [
            "Binned age vs. survive\n",
            "survive          0   1\n",
            "age                   \n",
            "(29.947, 40.6]   4  39\n",
            "(40.6, 51.2]    31  68\n",
            "(51.2, 61.8]    27  69\n",
            "(61.8, 72.4]    16  43\n",
            "(72.4, 83.0]     3   6\n",
            "\n",
            "\n",
            "binned notes vs survive\n",
            "survive          0    1\n",
            "nodes                  \n",
            "(-0.052, 10.4]  58  208\n",
            "(10.4, 20.8]    15   11\n",
            "(20.8, 31.2]     6    5\n",
            "(31.2, 41.6]     1    0\n",
            "(41.6, 52.0]     1    1\n",
            "\n",
            "\n",
            "binned age vs nodes stats\n",
            "                    mean       std\n",
            "age                               \n",
            "(29.947, 40.6]  3.813953  6.348062\n",
            "(40.6, 51.2]    4.181818  7.409816\n",
            "(51.2, 61.8]    4.604167  7.957094\n",
            "(61.8, 72.4]    3.423729  6.605127\n",
            "(72.4, 83.0]    1.111111  1.269296\n"
          ],
          "name": "stdout"
        }
      ]
    },
    {
      "cell_type": "code",
      "metadata": {
        "id": "emM3JMpEtLtM",
        "colab_type": "code",
        "colab": {},
        "outputId": "c0a4e735-a521-4510-af29-a11acd60f6d3"
      },
      "source": [
        "pd.pivot_table(df, values='survive', index=pd.cut(df.nodes, bins=10), columns=pd.cut(df.age, bins=5), aggfunc=np.mean)"
      ],
      "execution_count": 0,
      "outputs": [
        {
          "output_type": "execute_result",
          "data": {
            "text/html": [
              "<div>\n",
              "<style scoped>\n",
              "    .dataframe tbody tr th:only-of-type {\n",
              "        vertical-align: middle;\n",
              "    }\n",
              "\n",
              "    .dataframe tbody tr th {\n",
              "        vertical-align: top;\n",
              "    }\n",
              "\n",
              "    .dataframe thead th {\n",
              "        text-align: right;\n",
              "    }\n",
              "</style>\n",
              "<table border=\"1\" class=\"dataframe\">\n",
              "  <thead>\n",
              "    <tr style=\"text-align: right;\">\n",
              "      <th>age</th>\n",
              "      <th>(29.947, 40.6]</th>\n",
              "      <th>(40.6, 51.2]</th>\n",
              "      <th>(51.2, 61.8]</th>\n",
              "      <th>(61.8, 72.4]</th>\n",
              "      <th>(72.4, 83.0]</th>\n",
              "    </tr>\n",
              "    <tr>\n",
              "      <th>nodes</th>\n",
              "      <th></th>\n",
              "      <th></th>\n",
              "      <th></th>\n",
              "      <th></th>\n",
              "      <th></th>\n",
              "    </tr>\n",
              "  </thead>\n",
              "  <tbody>\n",
              "    <tr>\n",
              "      <th>(-0.052, 5.2]</th>\n",
              "      <td>0.939394</td>\n",
              "      <td>0.770270</td>\n",
              "      <td>0.797297</td>\n",
              "      <td>0.804348</td>\n",
              "      <td>0.666667</td>\n",
              "    </tr>\n",
              "    <tr>\n",
              "      <th>(5.2, 10.4]</th>\n",
              "      <td>0.800000</td>\n",
              "      <td>0.545455</td>\n",
              "      <td>0.555556</td>\n",
              "      <td>0.600000</td>\n",
              "      <td>NaN</td>\n",
              "    </tr>\n",
              "    <tr>\n",
              "      <th>(10.4, 15.6]</th>\n",
              "      <td>1.000000</td>\n",
              "      <td>0.428571</td>\n",
              "      <td>0.000000</td>\n",
              "      <td>0.250000</td>\n",
              "      <td>NaN</td>\n",
              "    </tr>\n",
              "    <tr>\n",
              "      <th>(15.6, 20.8]</th>\n",
              "      <td>NaN</td>\n",
              "      <td>0.500000</td>\n",
              "      <td>0.666667</td>\n",
              "      <td>0.000000</td>\n",
              "      <td>NaN</td>\n",
              "    </tr>\n",
              "    <tr>\n",
              "      <th>(20.8, 26.0]</th>\n",
              "      <td>0.000000</td>\n",
              "      <td>0.000000</td>\n",
              "      <td>0.500000</td>\n",
              "      <td>0.500000</td>\n",
              "      <td>NaN</td>\n",
              "    </tr>\n",
              "    <tr>\n",
              "      <th>(26.0, 31.2]</th>\n",
              "      <td>1.000000</td>\n",
              "      <td>NaN</td>\n",
              "      <td>NaN</td>\n",
              "      <td>1.000000</td>\n",
              "      <td>NaN</td>\n",
              "    </tr>\n",
              "    <tr>\n",
              "      <th>(31.2, 36.4]</th>\n",
              "      <td>NaN</td>\n",
              "      <td>NaN</td>\n",
              "      <td>0.000000</td>\n",
              "      <td>NaN</td>\n",
              "      <td>NaN</td>\n",
              "    </tr>\n",
              "    <tr>\n",
              "      <th>(41.6, 46.8]</th>\n",
              "      <td>NaN</td>\n",
              "      <td>NaN</td>\n",
              "      <td>1.000000</td>\n",
              "      <td>NaN</td>\n",
              "      <td>NaN</td>\n",
              "    </tr>\n",
              "    <tr>\n",
              "      <th>(46.8, 52.0]</th>\n",
              "      <td>NaN</td>\n",
              "      <td>0.000000</td>\n",
              "      <td>NaN</td>\n",
              "      <td>NaN</td>\n",
              "      <td>NaN</td>\n",
              "    </tr>\n",
              "  </tbody>\n",
              "</table>\n",
              "</div>"
            ],
            "text/plain": [
              "age            (29.947, 40.6]  (40.6, 51.2]  (51.2, 61.8]  (61.8, 72.4]  \\\n",
              "nodes                                                                     \n",
              "(-0.052, 5.2]        0.939394      0.770270      0.797297      0.804348   \n",
              "(5.2, 10.4]          0.800000      0.545455      0.555556      0.600000   \n",
              "(10.4, 15.6]         1.000000      0.428571      0.000000      0.250000   \n",
              "(15.6, 20.8]              NaN      0.500000      0.666667      0.000000   \n",
              "(20.8, 26.0]         0.000000      0.000000      0.500000      0.500000   \n",
              "(26.0, 31.2]         1.000000           NaN           NaN      1.000000   \n",
              "(31.2, 36.4]              NaN           NaN      0.000000           NaN   \n",
              "(41.6, 46.8]              NaN           NaN      1.000000           NaN   \n",
              "(46.8, 52.0]              NaN      0.000000           NaN           NaN   \n",
              "\n",
              "age            (72.4, 83.0]  \n",
              "nodes                        \n",
              "(-0.052, 5.2]      0.666667  \n",
              "(5.2, 10.4]             NaN  \n",
              "(10.4, 15.6]            NaN  \n",
              "(15.6, 20.8]            NaN  \n",
              "(20.8, 26.0]            NaN  \n",
              "(26.0, 31.2]            NaN  \n",
              "(31.2, 36.4]            NaN  \n",
              "(41.6, 46.8]            NaN  \n",
              "(46.8, 52.0]            NaN  "
            ]
          },
          "metadata": {
            "tags": []
          },
          "execution_count": 7
        }
      ]
    },
    {
      "cell_type": "code",
      "metadata": {
        "id": "-Haj_keitLtn",
        "colab_type": "code",
        "colab": {},
        "outputId": "a4b4dfef-cf1c-4bac-cea3-585f2fb822e8"
      },
      "source": [
        "sns.pairplot(df);"
      ],
      "execution_count": 0,
      "outputs": [
        {
          "output_type": "display_data",
          "data": {
            "image/png": "[encoded data removed]",
            "text/plain": [
              "<Figure size 720x720 with 20 Axes>"
            ]
          },
          "metadata": {
            "tags": [],
            "needs_background": "light"
          }
        }
      ]
    },
    {
      "cell_type": "markdown",
      "metadata": {
        "colab_type": "text",
        "id": "ZM8JckA2bgnp"
      },
      "source": [
        "## Part 3 - Analysis and Interpretation\n",
        "\n",
        "Now that you've looked at the data, answer the following questions:\n",
        "\n",
        "- What is at least one feature that looks to have a positive relationship with survival?\n",
        "- What is at least one feature that looks to have a negative relationship with survival?\n",
        "- How are those two features related with each other, and what might that mean?\n",
        "\n",
        "Answer with text, but feel free to intersperse example code/results or refer to it from earlier.\n",
        "\n"
      ]
    },
    {
      "cell_type": "markdown",
      "metadata": {
        "id": "vXUFBCSEtLuO",
        "colab_type": "text"
      },
      "source": [
        "Nodes seem to have a positive relationship with survival with the more cases of survival clustered round higher node counts. \n",
        "\n",
        "Age has a negative relationship with survival as the chances of survival decreases as age gets higher.\n",
        "\n",
        "Number of nodes and age seems to follow a normal distribution with more cases of nodes and higher number of nodes clustering around ~50 years of age and taper off towards both sides of the age curve."
      ]
    }
  ]
}