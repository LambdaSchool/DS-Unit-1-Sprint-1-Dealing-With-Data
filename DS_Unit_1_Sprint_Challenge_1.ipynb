{
  "nbformat": 4,
  "nbformat_minor": 0,
  "metadata": {
    "colab": {
      "name": "DS_Unit_1_Sprint_Challenge_1.ipynb",
      "version": "0.3.2",
      "provenance": [],
      "collapsed_sections": [],
      "include_colab_link": true
    },
    "kernelspec": {
      "name": "python3",
      "display_name": "Python 3"
    }
  },
  "cells": [
    {
      "cell_type": "markdown",
      "metadata": {
        "id": "view-in-github",
        "colab_type": "text"
      },
      "source": [
        "<a href=\"https://colab.research.google.com/github/Rawab/DS-Sprint-01-Dealing-With-Data/blob/master/DS_Unit_1_Sprint_Challenge_1.ipynb\" target=\"_parent\"><img src=\"https://colab.research.google.com/assets/colab-badge.svg\" alt=\"Open In Colab\"/></a>"
      ]
    },
    {
      "metadata": {
        "id": "NooAiTdnafkz",
        "colab_type": "text"
      },
      "cell_type": "markdown",
      "source": [
        "# Data Science Unit 1 Sprint Challenge 1\n",
        "\n",
        "## Loading, cleaning, visualizing, and analyzing data\n",
        "\n",
        "In this sprint challenge you will look at a dataset of the survival of patients who underwent surgery for breast cancer.\n",
        "\n",
        "http://archive.ics.uci.edu/ml/datasets/Haberman%27s+Survival\n",
        "\n",
        "Data Set Information:\n",
        "The dataset contains cases from a study that was conducted between 1958 and 1970 at the University of Chicago's Billings Hospital on the survival of patients who had undergone surgery for breast cancer.\n",
        "\n",
        "Attribute Information:\n",
        "1. Age of patient at time of operation (numerical)\n",
        "2. Patient's year of operation (year - 1900, numerical)\n",
        "3. Number of positive axillary nodes detected (numerical)\n",
        "4. Survival status (class attribute)\n",
        "-- 1 = the patient survived 5 years or longer\n",
        "-- 2 = the patient died within 5 year\n",
        "\n",
        "Sprint challenges are evaluated based on satisfactory completion of each part. It is suggested you work through it in order, getting each aspect reasonably working, before trying to deeply explore, iterate, or refine any given step. Once you get to the end, if you want to go back and improve things, go for it!"
      ]
    },
    {
      "metadata": {
        "id": "5wch6ksCbJtZ",
        "colab_type": "text"
      },
      "cell_type": "markdown",
      "source": [
        "## Part 1 - Load and validate the data\n",
        "\n",
        "- Load the data as a `pandas` data frame.\n",
        "- Validate that it has the appropriate number of observations (you can check the raw file, and also read the dataset description from UCI).\n",
        "- Validate that you have no missing values.\n",
        "- Add informative names to the features.\n",
        "- The survival variable is encoded as 1 for surviving >5 years and 2 for not - change this to be 0 for not surviving and 1 for surviving >5 years (0/1 is a more traditional encoding of binary variables)\n",
        "\n",
        "At the end, print the first five rows of the dataset to demonstrate the above."
      ]
    },
    {
      "metadata": {
        "id": "287TpoGKFRVK",
        "colab_type": "code",
        "colab": {
          "base_uri": "https://localhost:8080/",
          "height": 527
        },
        "outputId": "0dda7c91-4cea-4236-84bc-7c737679c116"
      },
      "cell_type": "code",
      "source": [
        "import pandas as pd\n",
        "\n",
        "# Leading data to a pandas dataframe\n",
        "df = pd.read_csv('http://archive.ics.uci.edu/ml/machine-learning-databases/haberman/haberman.data', header = None)\n",
        "\n",
        "#Checking for 306 observations\n",
        "print(df.describe())\n",
        "\n",
        "#Checking for missing values\n",
        "print(df.isna().sum())\n",
        "\n",
        "for i in df:\n",
        "  print(df[i].unique())\n",
        "\n",
        "# Renaming features\n",
        "df.columns = ['age', 'year', 'ax_nodes', 'survival']\n",
        "\n",
        "#Changing non-survival from 2 to 0\n",
        "df_info = df.copy()\n",
        "\n",
        "for i in range(len(df_info['survival'])):\n",
        "  if df_info['survival'][i] == 2:\n",
        "    df_info['survival'][i] = 0\n",
        "\n",
        "print(df_info.head(8)) # It takes 8 observations to see a non-survivor"
      ],
      "execution_count": 24,
      "outputs": [
        {
          "output_type": "stream",
          "text": [
            "                0           1           2           3\n",
            "count  306.000000  306.000000  306.000000  306.000000\n",
            "mean    52.457516   62.852941    4.026144    1.264706\n",
            "std     10.803452    3.249405    7.189654    0.441899\n",
            "min     30.000000   58.000000    0.000000    1.000000\n",
            "25%     44.000000   60.000000    0.000000    1.000000\n",
            "50%     52.000000   63.000000    1.000000    1.000000\n",
            "75%     60.750000   65.750000    4.000000    2.000000\n",
            "max     83.000000   69.000000   52.000000    2.000000\n",
            "0    0\n",
            "1    0\n",
            "2    0\n",
            "3    0\n",
            "dtype: int64\n",
            "[30 31 33 34 35 36 37 38 39 40 41 42 43 44 45 46 47 48 49 50 51 52 53 54\n",
            " 55 56 57 58 59 60 61 62 63 64 65 66 67 68 69 70 71 72 73 74 75 76 77 78\n",
            " 83]\n",
            "[64 62 65 59 58 60 66 61 67 63 69 68]\n",
            "[ 1  3  0  2  4 10  9 30  7 13  6 15 21 11  5 23  8 20 52 14 19 16 12 24\n",
            " 46 18 22 35 17 25 28]\n",
            "[1 2]\n",
            "   age  year  ax_nodes  survival\n",
            "0   30    64         1         1\n",
            "1   30    62         3         1\n",
            "2   30    65         0         1\n",
            "3   31    59         2         1\n",
            "4   31    65         4         1\n",
            "5   33    58        10         1\n",
            "6   33    60         0         1\n",
            "7   34    59         0         0\n"
          ],
          "name": "stdout"
        }
      ]
    },
    {
      "metadata": {
        "id": "G7rLytbrO38L",
        "colab_type": "text"
      },
      "cell_type": "markdown",
      "source": [
        "## Part 2 - Examine the distribution and relationships of the features\n",
        "\n",
        "Explore the data - create at least *2* tables (can be summary statistics or crosstabulations) and *2* plots illustrating the nature of the data.\n",
        "\n",
        "This is open-ended, so to remind - first *complete* this task as a baseline, then go on to the remaining sections, and *then* as time allows revisit and explore further.\n",
        "\n",
        "Hint - you may need to bin some variables depending on your chosen tables/plots."
      ]
    },
    {
      "metadata": {
        "id": "IAkllgCIFVj0",
        "colab_type": "code",
        "colab": {
          "base_uri": "https://localhost:8080/",
          "height": 142
        },
        "outputId": "a0598d01-df49-4182-e7a3-53bb70680eff"
      },
      "cell_type": "code",
      "source": [
        "# Table 1: Crosstabulation by nodes and (probability of) survival\n",
        "pd.crosstab(df_info['survival'], pd.cut(df_info['ax_nodes'],4), normalize = 'columns')"
      ],
      "execution_count": 27,
      "outputs": [
        {
          "output_type": "execute_result",
          "data": {
            "text/html": [
              "<div>\n",
              "<style scoped>\n",
              "    .dataframe tbody tr th:only-of-type {\n",
              "        vertical-align: middle;\n",
              "    }\n",
              "\n",
              "    .dataframe tbody tr th {\n",
              "        vertical-align: top;\n",
              "    }\n",
              "\n",
              "    .dataframe thead th {\n",
              "        text-align: right;\n",
              "    }\n",
              "</style>\n",
              "<table border=\"1\" class=\"dataframe\">\n",
              "  <thead>\n",
              "    <tr style=\"text-align: right;\">\n",
              "      <th>ax_nodes</th>\n",
              "      <th>(-0.052, 13.0]</th>\n",
              "      <th>(13.0, 26.0]</th>\n",
              "      <th>(26.0, 39.0]</th>\n",
              "      <th>(39.0, 52.0]</th>\n",
              "    </tr>\n",
              "    <tr>\n",
              "      <th>survival</th>\n",
              "      <th></th>\n",
              "      <th></th>\n",
              "      <th></th>\n",
              "      <th></th>\n",
              "    </tr>\n",
              "  </thead>\n",
              "  <tbody>\n",
              "    <tr>\n",
              "      <th>0</th>\n",
              "      <td>0.238267</td>\n",
              "      <td>0.541667</td>\n",
              "      <td>0.333333</td>\n",
              "      <td>0.5</td>\n",
              "    </tr>\n",
              "    <tr>\n",
              "      <th>1</th>\n",
              "      <td>0.761733</td>\n",
              "      <td>0.458333</td>\n",
              "      <td>0.666667</td>\n",
              "      <td>0.5</td>\n",
              "    </tr>\n",
              "  </tbody>\n",
              "</table>\n",
              "</div>"
            ],
            "text/plain": [
              "ax_nodes  (-0.052, 13.0]  (13.0, 26.0]  (26.0, 39.0]  (39.0, 52.0]\n",
              "survival                                                          \n",
              "0               0.238267      0.541667      0.333333           0.5\n",
              "1               0.761733      0.458333      0.666667           0.5"
            ]
          },
          "metadata": {
            "tags": []
          },
          "execution_count": 27
        }
      ]
    },
    {
      "metadata": {
        "id": "llq3pZWRd8ut",
        "colab_type": "code",
        "colab": {
          "base_uri": "https://localhost:8080/",
          "height": 204
        },
        "outputId": "18da9d2e-dce5-434b-aca8-b4bb7cc4f1c8"
      },
      "cell_type": "code",
      "source": [
        "# Table 2: Crosstabulation by nodes and age\n",
        "pd.crosstab(pd.cut(df_info['age'], 4), pd.cut(df_info['ax_nodes'],4), normalize='columns')"
      ],
      "execution_count": 33,
      "outputs": [
        {
          "output_type": "execute_result",
          "data": {
            "text/html": [
              "<div>\n",
              "<style scoped>\n",
              "    .dataframe tbody tr th:only-of-type {\n",
              "        vertical-align: middle;\n",
              "    }\n",
              "\n",
              "    .dataframe tbody tr th {\n",
              "        vertical-align: top;\n",
              "    }\n",
              "\n",
              "    .dataframe thead th {\n",
              "        text-align: right;\n",
              "    }\n",
              "</style>\n",
              "<table border=\"1\" class=\"dataframe\">\n",
              "  <thead>\n",
              "    <tr style=\"text-align: right;\">\n",
              "      <th>ax_nodes</th>\n",
              "      <th>(-0.052, 13.0]</th>\n",
              "      <th>(13.0, 26.0]</th>\n",
              "      <th>(26.0, 39.0]</th>\n",
              "      <th>(39.0, 52.0]</th>\n",
              "    </tr>\n",
              "    <tr>\n",
              "      <th>age</th>\n",
              "      <th></th>\n",
              "      <th></th>\n",
              "      <th></th>\n",
              "      <th></th>\n",
              "    </tr>\n",
              "  </thead>\n",
              "  <tbody>\n",
              "    <tr>\n",
              "      <th>(29.947, 43.25]</th>\n",
              "      <td>0.238267</td>\n",
              "      <td>0.208333</td>\n",
              "      <td>0.333333</td>\n",
              "      <td>0.5</td>\n",
              "    </tr>\n",
              "    <tr>\n",
              "      <th>(43.25, 56.5]</th>\n",
              "      <td>0.404332</td>\n",
              "      <td>0.458333</td>\n",
              "      <td>0.000000</td>\n",
              "      <td>0.5</td>\n",
              "    </tr>\n",
              "    <tr>\n",
              "      <th>(56.5, 69.75]</th>\n",
              "      <td>0.285199</td>\n",
              "      <td>0.291667</td>\n",
              "      <td>0.666667</td>\n",
              "      <td>0.0</td>\n",
              "    </tr>\n",
              "    <tr>\n",
              "      <th>(69.75, 83.0]</th>\n",
              "      <td>0.072202</td>\n",
              "      <td>0.041667</td>\n",
              "      <td>0.000000</td>\n",
              "      <td>0.0</td>\n",
              "    </tr>\n",
              "  </tbody>\n",
              "</table>\n",
              "</div>"
            ],
            "text/plain": [
              "ax_nodes         (-0.052, 13.0]  (13.0, 26.0]  (26.0, 39.0]  (39.0, 52.0]\n",
              "age                                                                      \n",
              "(29.947, 43.25]        0.238267      0.208333      0.333333           0.5\n",
              "(43.25, 56.5]          0.404332      0.458333      0.000000           0.5\n",
              "(56.5, 69.75]          0.285199      0.291667      0.666667           0.0\n",
              "(69.75, 83.0]          0.072202      0.041667      0.000000           0.0"
            ]
          },
          "metadata": {
            "tags": []
          },
          "execution_count": 33
        }
      ]
    },
    {
      "metadata": {
        "id": "-y0YILwjrC5f",
        "colab_type": "code",
        "colab": {}
      },
      "cell_type": "code",
      "source": [
        "import matplotlib.pyplot as plt"
      ],
      "execution_count": 0,
      "outputs": []
    },
    {
      "metadata": {
        "id": "sckrMloTp_1M",
        "colab_type": "code",
        "colab": {
          "base_uri": "https://localhost:8080/",
          "height": 382
        },
        "outputId": "2bf096f0-35c6-4dc5-ccd7-9485ca2bfa1a"
      },
      "cell_type": "code",
      "source": [
        "# Graph 1: Scatterplot of data with age (x), nodes (y), and survival (color)\n",
        "# Death => Black, Survival => Pink\n",
        "colors = []\n",
        "\n",
        "for i in df_info['survival']:\n",
        "  if i == 0:\n",
        "    colors.append('black')\n",
        "  else:\n",
        "    colors.append('pink')\n",
        "\n",
        "plt.scatter(df_info['age'], df_info['ax_nodes'], c = colors)\n",
        "plt.xlabel('Age', fontsize=15)\n",
        "plt.ylabel('Nodes', fontsize=15)\n",
        "plt.title('Breast Cancer Survival', fontsize=15)\n",
        "\n",
        "plt.show();"
      ],
      "execution_count": 42,
      "outputs": [
        {
          "output_type": "display_data",
          "data": {
            "image/png": "[encoded data removed]",
            "text/plain": [
              "<matplotlib.figure.Figure at 0x7f4322237470>"
            ]
          },
          "metadata": {
            "tags": []
          }
        }
      ]
    },
    {
      "metadata": {
        "id": "4NkjGsNqt7Wm",
        "colab_type": "code",
        "colab": {
          "base_uri": "https://localhost:8080/",
          "height": 381
        },
        "outputId": "6adeb799-79b9-415d-fb1c-19a99a27855b"
      },
      "cell_type": "code",
      "source": [
        "# Graph 2: Bar graph for year (grouped) and survival, distinguished by age(grouped)\n",
        "\n",
        "grouped_data = df_info['ax_nodes'].groupby(df_info['survival'])\n",
        "labels = ['<5 Years', ['>5 Years']]\n",
        "\n",
        "plt.boxplot([group for survival, group in grouped_data], labels=labels,\n",
        "           showfliers=True, sym='k.')\n",
        "\n",
        "\n",
        "plt.show();"
      ],
      "execution_count": 48,
      "outputs": [
        {
          "output_type": "stream",
          "text": [
            "/usr/local/lib/python3.6/dist-packages/numpy/core/fromnumeric.py:52: FutureWarning: reshape is deprecated and will raise in a subsequent release. Please use .values.reshape(...) instead\n",
            "  return getattr(obj, method)(*args, **kwds)\n"
          ],
          "name": "stderr"
        },
        {
          "output_type": "display_data",
          "data": {
            "image/png": "[encoded data removed]",
            "text/plain": [
              "<matplotlib.figure.Figure at 0x7f4322193438>"
            ]
          },
          "metadata": {
            "tags": []
          }
        }
      ]
    },
    {
      "metadata": {
        "id": "ZM8JckA2bgnp",
        "colab_type": "text"
      },
      "cell_type": "markdown",
      "source": [
        "## Part 3 - Analysis and Interpretation\n",
        "\n",
        "Now that you've looked at the data, answer the following questions:\n",
        "\n",
        "- What is at least one feature that looks to have a positive correlation with survival?\n",
        "- What is at least one feature that looks to have a negative correlation with survival?\n",
        "- How are those two features related with each other, and what might that mean?\n",
        "\n",
        "Answer with text, but feel free to intersperse example code/results or refer to it from earlier."
      ]
    },
    {
      "metadata": {
        "id": "D--_8ox6mj2t",
        "colab_type": "text"
      },
      "cell_type": "markdown",
      "source": [
        "**From table 1, an increase in survival detected axillary nodes seems to be related to a decrease in survival. However, those patients with 13 to 26 nodes had the highest probability of non-survival. **\n",
        "\n",
        "---\n",
        "**However, table 2 shows that women with 13 to 26 nodes were over 43 years or older about 80% of the time. This is notable when compared to the groups of women with more nodes. **\n",
        "\n",
        "---\n",
        "**Graph 1 shows us that around 20 or more detected nodes drastically increases the probability of death. Women with between 10 and 20 nodes who did not survive, were more often older women. This clears up the discrepancy from table 1.**\n",
        "\n",
        "---\n",
        "\n",
        "**We see from graph 2 how the women who survived for over 5 years are overwhelmingly those that had few detected nodes. The majority of the women who did not survive over 5 years had at least some nodes.**\n",
        "\n",
        "---\n",
        "\n",
        "From this data, we can conclude that increased nodes may cause death in the not-so-distant future."
      ]
    }
  ]
}