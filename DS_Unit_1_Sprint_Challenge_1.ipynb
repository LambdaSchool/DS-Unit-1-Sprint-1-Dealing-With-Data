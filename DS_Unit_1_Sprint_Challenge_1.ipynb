{
  "nbformat": 4,
  "nbformat_minor": 0,
  "metadata": {
    "colab": {
      "name": "DS_Unit_1_Sprint_Challenge_1.ipynb",
      "version": "0.3.2",
      "provenance": [],
      "collapsed_sections": [],
      "include_colab_link": true
    },
    "kernelspec": {
      "name": "python3",
      "display_name": "Python 3"
    }
  },
  "cells": [
    {
      "cell_type": "markdown",
      "metadata": {
        "id": "view-in-github",
        "colab_type": "text"
      },
      "source": [
        "<a href=\"https://colab.research.google.com/github/Granero0011/DS-Unit-1-Sprint-1-Dealing-With-Data/blob/master/DS_Unit_1_Sprint_Challenge_1.ipynb\" target=\"_parent\"><img src=\"https://colab.research.google.com/assets/colab-badge.svg\" alt=\"Open In Colab\"/></a>"
      ]
    },
    {
      "metadata": {
        "id": "NooAiTdnafkz",
        "colab_type": "text"
      },
      "cell_type": "markdown",
      "source": [
        "# Data Science Unit 1 Sprint Challenge 1\n",
        "\n",
        "## Loading, cleaning, visualizing, and analyzing data\n",
        "\n",
        "In this sprint challenge you will look at a dataset of the survival of patients who underwent surgery for breast cancer.\n",
        "\n",
        "http://archive.ics.uci.edu/ml/datasets/Haberman%27s+Survival\n",
        "\n",
        "Data Set Information:\n",
        "The dataset contains cases from a study that was conducted between 1958 and 1970 at the University of Chicago's Billings Hospital on the survival of patients who had undergone surgery for breast cancer.\n",
        "\n",
        "Attribute Information:\n",
        "1. Age of patient at time of operation (numerical)\n",
        "2. Patient's year of operation (year - 1900, numerical)\n",
        "3. Number of positive axillary nodes detected (numerical)\n",
        "4. Survival status (class attribute)\n",
        "-- 1 = the patient survived 5 years or longer\n",
        "-- 2 = the patient died within 5 year\n",
        "\n",
        "Sprint challenges are evaluated based on satisfactory completion of each part. It is suggested you work through it in order, getting each aspect reasonably working, before trying to deeply explore, iterate, or refine any given step. Once you get to the end, if you want to go back and improve things, go for it!"
      ]
    },
    {
      "metadata": {
        "id": "5wch6ksCbJtZ",
        "colab_type": "text"
      },
      "cell_type": "markdown",
      "source": [
        "## Part 1 - Load and validate the data\n",
        "\n",
        "- Load the data as a `pandas` data frame.\n",
        "- Validate that it has the appropriate number of observations (you can check the raw file, and also read the dataset description from UCI).\n",
        "- Validate that you have no missing values.\n",
        "- Add informative names to the features.\n",
        "- The survival variable is encoded as 1 for surviving >5 years and 2 for not - change this to be 0 for not surviving and 1 for surviving >5 years (0/1 is a more traditional encoding of binary variables)\n",
        "\n",
        "At the end, print the first five rows of the dataset to demonstrate the above."
      ]
    },
    {
      "metadata": {
        "id": "287TpoGKFRVK",
        "colab_type": "code",
        "colab": {
          "base_uri": "https://localhost:8080/",
          "height": 1105
        },
        "outputId": "f2653137-a57c-435a-bdea-cf24c1806834"
      },
      "cell_type": "code",
      "source": [
        "# import libraries\n",
        "import pandas as pd\n",
        "import numpy as np\n",
        "import matplotlib.pyplot as plt\n",
        "import seaborn as sns\n",
        "\n",
        "#Load the data for a visual check\n",
        "data= pd.read_csv('http://archive.ics.uci.edu/ml/machine-learning-databases/haberman/haberman.data')\n",
        "#header=None, names=['Age','Year','Nodes','Survival'])\n",
        "print(data)"
      ],
      "execution_count": 28,
      "outputs": [
        {
          "output_type": "stream",
          "text": [
            "     30  64   1  1.1\n",
            "0    30  62   3    1\n",
            "1    30  65   0    1\n",
            "2    31  59   2    1\n",
            "3    31  65   4    1\n",
            "4    33  58  10    1\n",
            "5    33  60   0    1\n",
            "6    34  59   0    2\n",
            "7    34  66   9    2\n",
            "8    34  58  30    1\n",
            "9    34  60   1    1\n",
            "10   34  61  10    1\n",
            "11   34  67   7    1\n",
            "12   34  60   0    1\n",
            "13   35  64  13    1\n",
            "14   35  63   0    1\n",
            "15   36  60   1    1\n",
            "16   36  69   0    1\n",
            "17   37  60   0    1\n",
            "18   37  63   0    1\n",
            "19   37  58   0    1\n",
            "20   37  59   6    1\n",
            "21   37  60  15    1\n",
            "22   37  63   0    1\n",
            "23   38  69  21    2\n",
            "24   38  59   2    1\n",
            "25   38  60   0    1\n",
            "26   38  60   0    1\n",
            "27   38  62   3    1\n",
            "28   38  64   1    1\n",
            "29   38  66   0    1\n",
            "..   ..  ..  ..  ...\n",
            "275  67  66   0    1\n",
            "276  67  61   0    1\n",
            "277  67  65   0    1\n",
            "278  68  67   0    1\n",
            "279  68  68   0    1\n",
            "280  69  67   8    2\n",
            "281  69  60   0    1\n",
            "282  69  65   0    1\n",
            "283  69  66   0    1\n",
            "284  70  58   0    2\n",
            "285  70  58   4    2\n",
            "286  70  66  14    1\n",
            "287  70  67   0    1\n",
            "288  70  68   0    1\n",
            "289  70  59   8    1\n",
            "290  70  63   0    1\n",
            "291  71  68   2    1\n",
            "292  72  63   0    2\n",
            "293  72  58   0    1\n",
            "294  72  64   0    1\n",
            "295  72  67   3    1\n",
            "296  73  62   0    1\n",
            "297  73  68   0    1\n",
            "298  74  65   3    2\n",
            "299  74  63   0    1\n",
            "300  75  62   1    1\n",
            "301  76  67   0    1\n",
            "302  77  65   3    1\n",
            "303  78  65   1    2\n",
            "304  83  58   2    2\n",
            "\n",
            "[305 rows x 4 columns]\n"
          ],
          "name": "stdout"
        }
      ]
    },
    {
      "metadata": {
        "id": "G-gEhbNq95si",
        "colab_type": "code",
        "colab": {
          "base_uri": "https://localhost:8080/",
          "height": 204
        },
        "outputId": "d63cfbe0-aea7-4bb4-f216-a6b8187b8e57"
      },
      "cell_type": "code",
      "source": [
        "#Let's add some headers here\n",
        "data= pd.read_csv('http://archive.ics.uci.edu/ml/machine-learning-databases/haberman/haberman.data',header=None, names=['Age','Year','Nodes','Survival'])\n",
        "data.head()"
      ],
      "execution_count": 29,
      "outputs": [
        {
          "output_type": "execute_result",
          "data": {
            "text/html": [
              "<div>\n",
              "<style scoped>\n",
              "    .dataframe tbody tr th:only-of-type {\n",
              "        vertical-align: middle;\n",
              "    }\n",
              "\n",
              "    .dataframe tbody tr th {\n",
              "        vertical-align: top;\n",
              "    }\n",
              "\n",
              "    .dataframe thead th {\n",
              "        text-align: right;\n",
              "    }\n",
              "</style>\n",
              "<table border=\"1\" class=\"dataframe\">\n",
              "  <thead>\n",
              "    <tr style=\"text-align: right;\">\n",
              "      <th></th>\n",
              "      <th>Age</th>\n",
              "      <th>Year</th>\n",
              "      <th>Nodes</th>\n",
              "      <th>Survival</th>\n",
              "    </tr>\n",
              "  </thead>\n",
              "  <tbody>\n",
              "    <tr>\n",
              "      <th>0</th>\n",
              "      <td>30</td>\n",
              "      <td>64</td>\n",
              "      <td>1</td>\n",
              "      <td>1</td>\n",
              "    </tr>\n",
              "    <tr>\n",
              "      <th>1</th>\n",
              "      <td>30</td>\n",
              "      <td>62</td>\n",
              "      <td>3</td>\n",
              "      <td>1</td>\n",
              "    </tr>\n",
              "    <tr>\n",
              "      <th>2</th>\n",
              "      <td>30</td>\n",
              "      <td>65</td>\n",
              "      <td>0</td>\n",
              "      <td>1</td>\n",
              "    </tr>\n",
              "    <tr>\n",
              "      <th>3</th>\n",
              "      <td>31</td>\n",
              "      <td>59</td>\n",
              "      <td>2</td>\n",
              "      <td>1</td>\n",
              "    </tr>\n",
              "    <tr>\n",
              "      <th>4</th>\n",
              "      <td>31</td>\n",
              "      <td>65</td>\n",
              "      <td>4</td>\n",
              "      <td>1</td>\n",
              "    </tr>\n",
              "  </tbody>\n",
              "</table>\n",
              "</div>"
            ],
            "text/plain": [
              "   Age  Year  Nodes  Survival\n",
              "0   30    64      1         1\n",
              "1   30    62      3         1\n",
              "2   30    65      0         1\n",
              "3   31    59      2         1\n",
              "4   31    65      4         1"
            ]
          },
          "metadata": {
            "tags": []
          },
          "execution_count": 29
        }
      ]
    },
    {
      "metadata": {
        "id": "9Khx-hv7-Koz",
        "colab_type": "code",
        "colab": {
          "base_uri": "https://localhost:8080/",
          "height": 119
        },
        "outputId": "e26d37fd-311c-43ee-afc9-238e9322937f"
      },
      "cell_type": "code",
      "source": [
        "#Let's check if there are some missing values\n",
        "print(data.isnull().sum())\n",
        "print('There is no NaN values in the dataframe')"
      ],
      "execution_count": 30,
      "outputs": [
        {
          "output_type": "stream",
          "text": [
            "Age         0\n",
            "Year        0\n",
            "Nodes       0\n",
            "Survival    0\n",
            "dtype: int64\n",
            "There is no NaN values in the dataframe\n"
          ],
          "name": "stdout"
        }
      ]
    },
    {
      "metadata": {
        "id": "RH_-0m_o_tfx",
        "colab_type": "code",
        "colab": {
          "base_uri": "https://localhost:8080/",
          "height": 170
        },
        "outputId": "aff915a8-5eae-435c-a159-4a06502150a5"
      },
      "cell_type": "code",
      "source": [
        "#Let's change the encoding\n",
        "data['Survival']=data['Survival'].replace(2,0)\n",
        "#Let's print the final result\n",
        "print(data.head(8))"
      ],
      "execution_count": 31,
      "outputs": [
        {
          "output_type": "stream",
          "text": [
            "   Age  Year  Nodes  Survival\n",
            "0   30    64      1         1\n",
            "1   30    62      3         1\n",
            "2   30    65      0         1\n",
            "3   31    59      2         1\n",
            "4   31    65      4         1\n",
            "5   33    58     10         1\n",
            "6   33    60      0         1\n",
            "7   34    59      0         0\n"
          ],
          "name": "stdout"
        }
      ]
    },
    {
      "metadata": {
        "id": "G7rLytbrO38L",
        "colab_type": "text"
      },
      "cell_type": "markdown",
      "source": [
        "## Part 2 - Examine the distribution and relationships of the features\n",
        "\n",
        "Explore the data - create at least *2* tables (can be summary statistics or crosstabulations) and *2* plots illustrating the nature of the data.\n",
        "\n",
        "This is open-ended, so to remind - first *complete* this task as a baseline, then go on to the remaining sections, and *then* as time allows revisit and explore further.\n",
        "\n",
        "Hint - you may need to bin some variables depending on your chosen tables/plots."
      ]
    },
    {
      "metadata": {
        "id": "IAkllgCIFVj0",
        "colab_type": "code",
        "colab": {
          "base_uri": "https://localhost:8080/",
          "height": 583
        },
        "outputId": "fbf11b92-b014-4777-bd6e-25988f9d0629"
      },
      "cell_type": "code",
      "source": [
        "#Let's use age time bins  and create an age vs survival\n",
        "time_bins = pd.cut(data['Age'], 5)  # 5 equal-sized bins\n",
        "print(pd.crosstab(data['Survival'], time_bins))\n",
        "\n",
        "\n",
        "pd.pivot_table(data, values='Survival',\n",
        "               index=time_bins).plot.bar()\n"
      ],
      "execution_count": 55,
      "outputs": [
        {
          "output_type": "stream",
          "text": [
            "Age       (29.947, 40.6]  (40.6, 51.2]  (51.2, 61.8]  (61.8, 72.4]  \\\n",
            "Survival                                                             \n",
            "0                      4            31            27            16   \n",
            "1                     39            68            69            43   \n",
            "\n",
            "Age       (72.4, 83.0]  \n",
            "Survival                \n",
            "0                    3  \n",
            "1                    6  \n"
          ],
          "name": "stdout"
        },
        {
          "output_type": "execute_result",
          "data": {
            "text/plain": [
              "<matplotlib.axes._subplots.AxesSubplot at 0x7fb0b90d29b0>"
            ]
          },
          "metadata": {
            "tags": []
          },
          "execution_count": 55
        },
        {
          "output_type": "display_data",
          "data": {
            "image/png": "[encoded data removed]",
            "text/plain": [
              "<Figure size 576x396 with 1 Axes>"
            ]
          },
          "metadata": {
            "tags": []
          }
        }
      ]
    },
    {
      "metadata": {
        "id": "ESZAN9iGDOn0",
        "colab_type": "code",
        "colab": {}
      },
      "cell_type": "code",
      "source": [
        ""
      ],
      "execution_count": 0,
      "outputs": []
    },
    {
      "metadata": {
        "id": "AcnMePaLCoR4",
        "colab_type": "code",
        "colab": {
          "base_uri": "https://localhost:8080/",
          "height": 583
        },
        "outputId": "42c85454-270d-4c73-8775-c304abda7ae8"
      },
      "cell_type": "code",
      "source": [
        "#Let's make time_bins out of years\n",
        "time_bins = pd.cut(data['Year'], 5)  # 5 equal-sized bins\n",
        "print(pd.crosstab(data['Survival'], time_bins))\n",
        "\n",
        "pd.pivot_table(data, values='Survival',\n",
        "               index=time_bins).plot.bar()\n"
      ],
      "execution_count": 56,
      "outputs": [
        {
          "output_type": "stream",
          "text": [
            "Year      (57.989, 60.2]  (60.2, 62.4]  (62.4, 64.6]  (64.6, 66.8]  \\\n",
            "Survival                                                             \n",
            "0                     25            10            16            19   \n",
            "1                     66            39            45            37   \n",
            "\n",
            "Year      (66.8, 69.0]  \n",
            "Survival                \n",
            "0                   11  \n",
            "1                   38  \n"
          ],
          "name": "stdout"
        },
        {
          "output_type": "execute_result",
          "data": {
            "text/plain": [
              "<matplotlib.axes._subplots.AxesSubplot at 0x7fb0b90b54a8>"
            ]
          },
          "metadata": {
            "tags": []
          },
          "execution_count": 56
        },
        {
          "output_type": "display_data",
          "data": {
            "image/png": "[encoded data removed]",
            "text/plain": [
              "<Figure size 576x396 with 1 Axes>"
            ]
          },
          "metadata": {
            "tags": []
          }
        }
      ]
    },
    {
      "metadata": {
        "id": "YEilRR8oN-a9",
        "colab_type": "code",
        "colab": {
          "base_uri": "https://localhost:8080/",
          "height": 991
        },
        "outputId": "3b773365-df14-48e1-bd49-7de1c172d5d5"
      },
      "cell_type": "code",
      "source": [
        "#Let's time bins out of Age\n",
        "time_bins = pd.cut(data['Age'], 5)  # 5 equal-sized bins\n",
        "\n",
        "#Age vs Node\n",
        "print(pd.crosstab(data['Nodes'], time_bins))\n",
        "\n",
        "\n",
        "pd.pivot_table(data, values='Nodes',\n",
        "               index=time_bins).plot.bar()\n"
      ],
      "execution_count": 62,
      "outputs": [
        {
          "output_type": "stream",
          "text": [
            "Age    (29.947, 40.6]  (40.6, 51.2]  (51.2, 61.8]  (61.8, 72.4]  (72.4, 83.0]\n",
            "Nodes                                                                        \n",
            "0                  19            40            36            37             4\n",
            "1                   5            15            15             4             2\n",
            "2                   4             7             5             3             1\n",
            "3                   2             6             9             1             2\n",
            "4                   2             5             5             1             0\n",
            "5                   1             1             4             0             0\n",
            "6                   1             4             1             1             0\n",
            "7                   1             2             4             0             0\n",
            "8                   0             3             1             3             0\n",
            "9                   1             1             3             1             0\n",
            "10                  2             1             0             0             0\n",
            "11                  1             2             1             0             0\n",
            "12                  0             1             1             0             0\n",
            "13                  1             2             0             2             0\n",
            "14                  0             2             1             1             0\n",
            "15                  1             0             1             1             0\n",
            "16                  0             1             0             0             0\n",
            "17                  0             0             1             0             0\n",
            "18                  0             0             1             0             0\n",
            "19                  0             1             1             1             0\n",
            "20                  0             2             0             0             0\n",
            "21                  1             0             0             0             0\n",
            "22                  0             0             1             2             0\n",
            "23                  0             2             1             0             0\n",
            "24                  0             0             1             0             0\n",
            "25                  0             0             1             0             0\n",
            "28                  0             0             0             1             0\n",
            "30                  1             0             0             0             0\n",
            "35                  0             0             1             0             0\n",
            "46                  0             0             1             0             0\n",
            "52                  0             1             0             0             0\n"
          ],
          "name": "stdout"
        },
        {
          "output_type": "execute_result",
          "data": {
            "text/plain": [
              "<matplotlib.axes._subplots.AxesSubplot at 0x7fb0b91a7cc0>"
            ]
          },
          "metadata": {
            "tags": []
          },
          "execution_count": 62
        },
        {
          "output_type": "display_data",
          "data": {
            "image/png": "[encoded data removed]",
            "text/plain": [
              "<Figure size 576x396 with 1 Axes>"
            ]
          },
          "metadata": {
            "tags": []
          }
        }
      ]
    },
    {
      "metadata": {
        "id": "99r7dKPeOtN8",
        "colab_type": "code",
        "colab": {
          "base_uri": "https://localhost:8080/",
          "height": 991
        },
        "outputId": "b2612b05-dbb8-4582-8f35-e8cb90605407"
      },
      "cell_type": "code",
      "source": [
        "#Let's make time bins out of the year column\n",
        "time_bins = pd.cut(data['Year'], 5)  # 5 equal-sized bins\n",
        "\n",
        "print(pd.crosstab(data['Nodes'], time_bins))\n",
        "pd.pivot_table(data, values='Nodes',\n",
        "               index=time_bins).plot.bar()"
      ],
      "execution_count": 61,
      "outputs": [
        {
          "output_type": "stream",
          "text": [
            "Year   (57.989, 60.2]  (60.2, 62.4]  (62.4, 64.6]  (64.6, 66.8]  (66.8, 69.0]\n",
            "Nodes                                                                        \n",
            "0                  35            20            31            28            22\n",
            "1                  14             7             8             5             7\n",
            "2                  12             3             2             1             2\n",
            "3                   7             3             2             3             5\n",
            "4                   4             1             3             4             1\n",
            "5                   1             3             0             1             1\n",
            "6                   1             2             3             1             0\n",
            "7                   1             0             2             0             4\n",
            "8                   2             1             1             1             2\n",
            "9                   2             1             1             2             0\n",
            "10                  1             1             1             0             0\n",
            "11                  3             0             0             1             0\n",
            "12                  0             0             0             2             0\n",
            "13                  2             1             2             0             0\n",
            "14                  1             1             1             1             0\n",
            "15                  1             0             0             1             1\n",
            "16                  0             0             0             0             1\n",
            "17                  1             0             0             0             0\n",
            "18                  0             0             0             1             0\n",
            "19                  0             0             2             1             0\n",
            "20                  0             1             0             1             0\n",
            "21                  0             0             0             0             1\n",
            "22                  0             1             0             1             1\n",
            "23                  1             0             1             1             0\n",
            "24                  0             0             1             0             0\n",
            "25                  0             1             0             0             0\n",
            "28                  0             1             0             0             0\n",
            "30                  1             0             0             0             0\n",
            "35                  0             1             0             0             0\n",
            "46                  0             0             0             0             1\n",
            "52                  1             0             0             0             0\n"
          ],
          "name": "stdout"
        },
        {
          "output_type": "execute_result",
          "data": {
            "text/plain": [
              "<matplotlib.axes._subplots.AxesSubplot at 0x7fb0b9235e80>"
            ]
          },
          "metadata": {
            "tags": []
          },
          "execution_count": 61
        },
        {
          "output_type": "display_data",
          "data": {
            "image/png": "[encoded data removed]",
            "text/plain": [
              "<Figure size 576x396 with 1 Axes>"
            ]
          },
          "metadata": {
            "tags": []
          }
        }
      ]
    },
    {
      "metadata": {
        "id": "AuVSQmr4RWi3",
        "colab_type": "code",
        "colab": {
          "base_uri": "https://localhost:8080/",
          "height": 581
        },
        "outputId": "16d1b96a-bfd1-470f-d00d-6d0977bf95fb"
      },
      "cell_type": "code",
      "source": [
        "#Let's make time_bins out of Nodes\n",
        "time_bins = pd.cut(data['Nodes'], 5)  # 5 equal-sized bins\n",
        "\n",
        "#Nodes vs Survival\n",
        "print(pd.crosstab(data['Survival'], time_bins))\n",
        "\n",
        "pd.pivot_table(data, values='Survival',\n",
        "               index=time_bins).plot.bar()"
      ],
      "execution_count": 60,
      "outputs": [
        {
          "output_type": "stream",
          "text": [
            "Nodes     (-0.052, 10.4]  (10.4, 20.8]  (20.8, 31.2]  (31.2, 41.6]  \\\n",
            "Survival                                                             \n",
            "0                     58            15             6             1   \n",
            "1                    208            11             5             0   \n",
            "\n",
            "Nodes     (41.6, 52.0]  \n",
            "Survival                \n",
            "0                    1  \n",
            "1                    1  \n"
          ],
          "name": "stdout"
        },
        {
          "output_type": "execute_result",
          "data": {
            "text/plain": [
              "<matplotlib.axes._subplots.AxesSubplot at 0x7fb0b91175f8>"
            ]
          },
          "metadata": {
            "tags": []
          },
          "execution_count": 60
        },
        {
          "output_type": "display_data",
          "data": {
            "image/png": "[encoded data removed]",
            "text/plain": [
              "<Figure size 576x396 with 1 Axes>"
            ]
          },
          "metadata": {
            "tags": []
          }
        }
      ]
    },
    {
      "metadata": {
        "id": "ZM8JckA2bgnp",
        "colab_type": "text"
      },
      "cell_type": "markdown",
      "source": [
        "## Part 3 - Analysis and Interpretation\n",
        "\n",
        "Now that you've looked at the data, answer the following questions:\n",
        "\n",
        "- What is at least one feature that looks to have a positive relationship with survival?\n",
        "- What is at least one feature that looks to have a negative relationship with survival?\n",
        "- How are those two features related with each other, and what might that mean?\n",
        "\n",
        "Answer with text, but feel free to intersperse example code/results or refer to it from earlier."
      ]
    },
    {
      "metadata": {
        "id": "sSCIeGSLQ28D",
        "colab_type": "code",
        "colab": {
          "base_uri": "https://localhost:8080/",
          "height": 54
        },
        "outputId": "65c99bd9-d7bb-4f1f-a634-175153eede55"
      },
      "cell_type": "code",
      "source": [
        "'''1\n",
        "Age seems to be positively correlated with survival. In one of the first graph( age vs survival rate bar graph), we can\n",
        "see that trend pretty well.'''\n",
        "\n",
        "\n",
        "\n",
        "\n"
      ],
      "execution_count": 57,
      "outputs": [
        {
          "output_type": "execute_result",
          "data": {
            "text/plain": [
              "'3\\nYoung people have significantly less nodes than the rest of the age category. There is an early negative correlation between age\\nand nodes. Very old people seem to have a low number of nodes as well, but I suppose their advanced ages impede their ability to survive'"
            ]
          },
          "metadata": {
            "tags": []
          },
          "execution_count": 57
        }
      ]
    },
    {
      "metadata": {
        "id": "Q-34gl5BffCe",
        "colab_type": "code",
        "colab": {
          "base_uri": "https://localhost:8080/",
          "height": 54
        },
        "outputId": "9891c08a-c5fe-464e-88e7-4721f0d5466d"
      },
      "cell_type": "code",
      "source": [
        "'''2\n",
        "The lower the number of nodes, the highest the possibility of survival. We can see that trend by checking on the first bin on \n",
        "the node vs survival bar graph. THe other bars in the graph seem quite close in survival rate, and other variables such as age\n",
        " and year of interventions probably have an impact'''"
      ],
      "execution_count": 58,
      "outputs": [
        {
          "output_type": "execute_result",
          "data": {
            "text/plain": [
              "'2\\nThe lower the number of nodes, the highest the possibility of survival. We can see that trend by checking on the first bin on \\nthe node vs survival bar graph. THe other bars in the graph seem quite close in survival rate, and other variables such as age\\n and year of interventions probably have an impact'"
            ]
          },
          "metadata": {
            "tags": []
          },
          "execution_count": 58
        }
      ]
    },
    {
      "metadata": {
        "id": "so2XSLZMfoj5",
        "colab_type": "code",
        "colab": {
          "base_uri": "https://localhost:8080/",
          "height": 54
        },
        "outputId": "f6e9fcaa-ecbf-4c17-ff33-b2c479ee6aa8"
      },
      "cell_type": "code",
      "source": [
        "'''3\n",
        "Young people have significantly less nodes than the rest of the age category. There is an early negative correlation between age\n",
        "and nodes. Very old people seem to have a low number of nodes as well, but I suppose their advanced ages impede their ability to survive'''"
      ],
      "execution_count": 59,
      "outputs": [
        {
          "output_type": "execute_result",
          "data": {
            "text/plain": [
              "'3\\nYoung people have significantly less nodes than the rest of the age category. There is an early negative correlation between age\\nand nodes. Very old people seem to have a low number of nodes as well, but I suppose their advanced ages impede their ability to survive'"
            ]
          },
          "metadata": {
            "tags": []
          },
          "execution_count": 59
        }
      ]
    },
    {
      "metadata": {
        "id": "5Rbc5q_sfr54",
        "colab_type": "code",
        "colab": {}
      },
      "cell_type": "code",
      "source": [
        ""
      ],
      "execution_count": 0,
      "outputs": []
    }
  ]
}