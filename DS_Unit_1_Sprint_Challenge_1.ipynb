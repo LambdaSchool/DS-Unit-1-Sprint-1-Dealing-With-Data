{
  "nbformat": 4,
  "nbformat_minor": 0,
  "metadata": {
    "colab": {
      "name": "DS_Unit_1_Sprint_Challenge_1.ipynb",
      "version": "0.3.2",
      "provenance": [],
      "collapsed_sections": [],
      "include_colab_link": true
    },
    "kernelspec": {
      "name": "python3",
      "display_name": "Python 3"
    }
  },
  "cells": [
    {
      "cell_type": "markdown",
      "metadata": {
        "id": "view-in-github",
        "colab_type": "text"
      },
      "source": [
        "<a href=\"https://colab.research.google.com/github/zangell44/DS-Sprint-01-Dealing-With-Data/blob/master/DS_Unit_1_Sprint_Challenge_1.ipynb\" target=\"_parent\"><img src=\"https://colab.research.google.com/assets/colab-badge.svg\" alt=\"Open In Colab\"/></a>"
      ]
    },
    {
      "metadata": {
        "id": "NooAiTdnafkz",
        "colab_type": "text"
      },
      "cell_type": "markdown",
      "source": [
        "# Data Science Unit 1 Sprint Challenge 1\n",
        "\n",
        "## Loading, cleaning, visualizing, and analyzing data\n",
        "\n",
        "In this sprint challenge you will look at a dataset of the survival of patients who underwent surgery for breast cancer.\n",
        "\n",
        "http://archive.ics.uci.edu/ml/datasets/Haberman%27s+Survival\n",
        "\n",
        "Data Set Information:\n",
        "The dataset contains cases from a study that was conducted between 1958 and 1970 at the University of Chicago's Billings Hospital on the survival of patients who had undergone surgery for breast cancer.\n",
        "\n",
        "Attribute Information:\n",
        "1. Age of patient at time of operation (numerical)\n",
        "2. Patient's year of operation (year - 1900, numerical)\n",
        "3. Number of positive axillary nodes detected (numerical)\n",
        "4. Survival status (class attribute)\n",
        "-- 1 = the patient survived 5 years or longer\n",
        "-- 2 = the patient died within 5 year\n",
        "\n",
        "Sprint challenges are evaluated based on satisfactory completion of each part. It is suggested you work through it in order, getting each aspect reasonably working, before trying to deeply explore, iterate, or refine any given step. Once you get to the end, if you want to go back and improve things, go for it!"
      ]
    },
    {
      "metadata": {
        "id": "5wch6ksCbJtZ",
        "colab_type": "text"
      },
      "cell_type": "markdown",
      "source": [
        "## Part 1 - Load and validate the data\n",
        "\n",
        "- Load the data as a `pandas` data frame.\n",
        "- Validate that it has the appropriate number of observations (you can check the raw file, and also read the dataset description from UCI).\n",
        "- Validate that you have no missing values.\n",
        "- Add informative names to the features.\n",
        "- The survival variable is encoded as 1 for surviving >5 years and 2 for not - change this to be 0 for not surviving and 1 for surviving >5 years (0/1 is a more traditional encoding of binary variables)\n",
        "\n",
        "At the end, print the first five rows of the dataset to demonstrate the above."
      ]
    },
    {
      "metadata": {
        "id": "5UTvdSCRPh9L",
        "colab_type": "code",
        "colab": {}
      },
      "cell_type": "code",
      "source": [
        "# but first, imports\n",
        "import pandas as pd\n",
        "import numpy as np\n",
        "import matplotlib.pyplot as plt"
      ],
      "execution_count": 0,
      "outputs": []
    },
    {
      "metadata": {
        "id": "287TpoGKFRVK",
        "colab_type": "code",
        "colab": {}
      },
      "cell_type": "code",
      "source": [
        "# load the data as a pandas df\n",
        "\n",
        "cancer_url = 'http://archive.ics.uci.edu/ml/machine-learning-databases/haberman/haberman.data'\n",
        "\n",
        "# feature description - http://archive.ics.uci.edu/ml/machine-learning-databases/haberman/haberman.names\n",
        "features = ['patient_age', 'operation_year', 'auxillary_nodes', 'survived']\n",
        "\n",
        "cancer_df = pd.read_csv(cancer_url, header=None, names=features)"
      ],
      "execution_count": 0,
      "outputs": []
    },
    {
      "metadata": {
        "id": "fJGY_jeSPEJi",
        "colab_type": "code",
        "colab": {
          "base_uri": "https://localhost:8080/",
          "height": 34
        },
        "outputId": "ea990499-08c5-4be4-b497-b1766a97ebd6"
      },
      "cell_type": "code",
      "source": [
        "# validate number of observations\n",
        "\n",
        "# based on the description, we should have 4 features and 306 observations\n",
        "print ('There are', cancer_df.shape[0], 'obervations and', cancer_df.shape[1],\n",
        "       'features in the dataframe')"
      ],
      "execution_count": 148,
      "outputs": [
        {
          "output_type": "stream",
          "text": [
            "There are 306 obervations and 4 features in the dataframe\n"
          ],
          "name": "stdout"
        }
      ]
    },
    {
      "metadata": {
        "id": "5cUxYTMbPJ06",
        "colab_type": "code",
        "colab": {
          "base_uri": "https://localhost:8080/",
          "height": 34
        },
        "outputId": "cab111e2-16a8-4f47-863c-f96f688585da"
      },
      "cell_type": "code",
      "source": [
        "# validate no missing values\n",
        "print ('There are', cancer_df.isnull().sum().sum(), 'missing values in the data')"
      ],
      "execution_count": 149,
      "outputs": [
        {
          "output_type": "stream",
          "text": [
            "There are 0 missing values in the data\n"
          ],
          "name": "stdout"
        }
      ]
    },
    {
      "metadata": {
        "id": "Tib0gvIvPMqa",
        "colab_type": "code",
        "colab": {}
      },
      "cell_type": "code",
      "source": [
        "# add informative names to the features - MOVED INTO LOADING OPERATION ABOVE\n",
        "\n",
        "# feature description - http://archive.ics.uci.edu/ml/machine-learning-databases/haberman/haberman.names\n",
        "# features = ['patient_age', 'operation_year', 'auxillary_nodes', 'survived']\n",
        "# cancer_df.columns = features"
      ],
      "execution_count": 0,
      "outputs": []
    },
    {
      "metadata": {
        "id": "Izzbm0_3PPjJ",
        "colab_type": "code",
        "colab": {}
      },
      "cell_type": "code",
      "source": [
        "# encode survival variable as binary\n",
        "\n",
        "cancer_df['survived'] = cancer_df['survived'] == 1"
      ],
      "execution_count": 0,
      "outputs": []
    },
    {
      "metadata": {
        "id": "q3fUy2rARWLM",
        "colab_type": "code",
        "colab": {}
      },
      "cell_type": "code",
      "source": [
        "# other\n",
        "\n",
        "# the year variable being normalized to year - 1900 is a little annoying, lets fix it\n",
        "cancer_df['operation_year'] = cancer_df['operation_year'] + 1900"
      ],
      "execution_count": 0,
      "outputs": []
    },
    {
      "metadata": {
        "id": "MSE6BJVsPcrj",
        "colab_type": "code",
        "colab": {
          "base_uri": "https://localhost:8080/",
          "height": 204
        },
        "outputId": "708ca073-33fb-4b07-ae63-2767746c132c"
      },
      "cell_type": "code",
      "source": [
        "# print dataframe head to demonstrate successful steps\n",
        "cancer_df.head()"
      ],
      "execution_count": 153,
      "outputs": [
        {
          "output_type": "execute_result",
          "data": {
            "text/html": [
              "<div>\n",
              "<style scoped>\n",
              "    .dataframe tbody tr th:only-of-type {\n",
              "        vertical-align: middle;\n",
              "    }\n",
              "\n",
              "    .dataframe tbody tr th {\n",
              "        vertical-align: top;\n",
              "    }\n",
              "\n",
              "    .dataframe thead th {\n",
              "        text-align: right;\n",
              "    }\n",
              "</style>\n",
              "<table border=\"1\" class=\"dataframe\">\n",
              "  <thead>\n",
              "    <tr style=\"text-align: right;\">\n",
              "      <th></th>\n",
              "      <th>patient_age</th>\n",
              "      <th>operation_year</th>\n",
              "      <th>auxillary_nodes</th>\n",
              "      <th>survived</th>\n",
              "    </tr>\n",
              "  </thead>\n",
              "  <tbody>\n",
              "    <tr>\n",
              "      <th>0</th>\n",
              "      <td>30</td>\n",
              "      <td>1964</td>\n",
              "      <td>1</td>\n",
              "      <td>True</td>\n",
              "    </tr>\n",
              "    <tr>\n",
              "      <th>1</th>\n",
              "      <td>30</td>\n",
              "      <td>1962</td>\n",
              "      <td>3</td>\n",
              "      <td>True</td>\n",
              "    </tr>\n",
              "    <tr>\n",
              "      <th>2</th>\n",
              "      <td>30</td>\n",
              "      <td>1965</td>\n",
              "      <td>0</td>\n",
              "      <td>True</td>\n",
              "    </tr>\n",
              "    <tr>\n",
              "      <th>3</th>\n",
              "      <td>31</td>\n",
              "      <td>1959</td>\n",
              "      <td>2</td>\n",
              "      <td>True</td>\n",
              "    </tr>\n",
              "    <tr>\n",
              "      <th>4</th>\n",
              "      <td>31</td>\n",
              "      <td>1965</td>\n",
              "      <td>4</td>\n",
              "      <td>True</td>\n",
              "    </tr>\n",
              "  </tbody>\n",
              "</table>\n",
              "</div>"
            ],
            "text/plain": [
              "   patient_age  operation_year  auxillary_nodes  survived\n",
              "0           30            1964                1      True\n",
              "1           30            1962                3      True\n",
              "2           30            1965                0      True\n",
              "3           31            1959                2      True\n",
              "4           31            1965                4      True"
            ]
          },
          "metadata": {
            "tags": []
          },
          "execution_count": 153
        }
      ]
    },
    {
      "metadata": {
        "id": "G7rLytbrO38L",
        "colab_type": "text"
      },
      "cell_type": "markdown",
      "source": [
        "## Part 2 - Examine the distribution and relationships of the features\n",
        "\n",
        "Explore the data - create at least *2* tables (can be summary statistics or crosstabulations) and *2* plots illustrating the nature of the data.\n",
        "\n",
        "This is open-ended, so to remind - first *complete* this task as a baseline, then go on to the remaining sections, and *then* as time allows revisit and explore further.\n",
        "\n",
        "Hint - you may need to bin some variables depending on your chosen tables/plots."
      ]
    },
    {
      "metadata": {
        "id": "IAkllgCIFVj0",
        "colab_type": "code",
        "colab": {
          "base_uri": "https://localhost:8080/",
          "height": 297
        },
        "outputId": "90575ff3-ab18-4f64-cc96-e01c987b2daa"
      },
      "cell_type": "code",
      "source": [
        "# table 1\n",
        "\n",
        "# summary statistics for the dataframe\n",
        "cancer_df.describe()"
      ],
      "execution_count": 154,
      "outputs": [
        {
          "output_type": "execute_result",
          "data": {
            "text/html": [
              "<div>\n",
              "<style scoped>\n",
              "    .dataframe tbody tr th:only-of-type {\n",
              "        vertical-align: middle;\n",
              "    }\n",
              "\n",
              "    .dataframe tbody tr th {\n",
              "        vertical-align: top;\n",
              "    }\n",
              "\n",
              "    .dataframe thead th {\n",
              "        text-align: right;\n",
              "    }\n",
              "</style>\n",
              "<table border=\"1\" class=\"dataframe\">\n",
              "  <thead>\n",
              "    <tr style=\"text-align: right;\">\n",
              "      <th></th>\n",
              "      <th>patient_age</th>\n",
              "      <th>operation_year</th>\n",
              "      <th>auxillary_nodes</th>\n",
              "    </tr>\n",
              "  </thead>\n",
              "  <tbody>\n",
              "    <tr>\n",
              "      <th>count</th>\n",
              "      <td>306.000000</td>\n",
              "      <td>306.000000</td>\n",
              "      <td>306.000000</td>\n",
              "    </tr>\n",
              "    <tr>\n",
              "      <th>mean</th>\n",
              "      <td>52.457516</td>\n",
              "      <td>1962.852941</td>\n",
              "      <td>4.026144</td>\n",
              "    </tr>\n",
              "    <tr>\n",
              "      <th>std</th>\n",
              "      <td>10.803452</td>\n",
              "      <td>3.249405</td>\n",
              "      <td>7.189654</td>\n",
              "    </tr>\n",
              "    <tr>\n",
              "      <th>min</th>\n",
              "      <td>30.000000</td>\n",
              "      <td>1958.000000</td>\n",
              "      <td>0.000000</td>\n",
              "    </tr>\n",
              "    <tr>\n",
              "      <th>25%</th>\n",
              "      <td>44.000000</td>\n",
              "      <td>1960.000000</td>\n",
              "      <td>0.000000</td>\n",
              "    </tr>\n",
              "    <tr>\n",
              "      <th>50%</th>\n",
              "      <td>52.000000</td>\n",
              "      <td>1963.000000</td>\n",
              "      <td>1.000000</td>\n",
              "    </tr>\n",
              "    <tr>\n",
              "      <th>75%</th>\n",
              "      <td>60.750000</td>\n",
              "      <td>1965.750000</td>\n",
              "      <td>4.000000</td>\n",
              "    </tr>\n",
              "    <tr>\n",
              "      <th>max</th>\n",
              "      <td>83.000000</td>\n",
              "      <td>1969.000000</td>\n",
              "      <td>52.000000</td>\n",
              "    </tr>\n",
              "  </tbody>\n",
              "</table>\n",
              "</div>"
            ],
            "text/plain": [
              "       patient_age  operation_year  auxillary_nodes\n",
              "count   306.000000      306.000000       306.000000\n",
              "mean     52.457516     1962.852941         4.026144\n",
              "std      10.803452        3.249405         7.189654\n",
              "min      30.000000     1958.000000         0.000000\n",
              "25%      44.000000     1960.000000         0.000000\n",
              "50%      52.000000     1963.000000         1.000000\n",
              "75%      60.750000     1965.750000         4.000000\n",
              "max      83.000000     1969.000000        52.000000"
            ]
          },
          "metadata": {
            "tags": []
          },
          "execution_count": 154
        }
      ]
    },
    {
      "metadata": {
        "id": "xGVXVE75T00W",
        "colab_type": "text"
      },
      "cell_type": "markdown",
      "source": [
        "This table gives us a useful overview of the independent variables.\n",
        "\n",
        "Age is centered between 44 and 60, but there are some very young or very old patients that we may want to account for when performing further analysis.\n",
        "\n",
        "Operation Year is a fairly short time period, between 1958 and 1969. It will be interesting to see how much of a difference 11 years of medical knowledge may or may not make.\n",
        "\n",
        "Summary statistics are particularly important for Auxillary Nodes found, because I don't have any domain intuition.\n",
        "\n",
        "https://ww5.komen.org/uploadedfiles/_komen/content/about_breast_cancer/tools_and_resources/fact_sheets_and_breast_self_awareness_cards/axillarylymphnodes.pdf\n",
        "\n",
        "A quick google search seems to indicate finding more auxillary nodes in a procedure would be bad. However, it is possible that finding too few is also harmful, because the surgeon may not have found them all.\n",
        "\n",
        "Furhtermore, the distribution of Auxillary Nodes needs to be investigated. The maximum of 52 may be an outlier that needs to be removed for futher analysis."
      ]
    },
    {
      "metadata": {
        "id": "2QZsVVi-TOYO",
        "colab_type": "code",
        "colab": {
          "base_uri": "https://localhost:8080/",
          "height": 173
        },
        "outputId": "09ae1ba5-4941-4f30-b307-fbb5fc0c52e8"
      },
      "cell_type": "code",
      "source": [
        "# table 2\n",
        "\n",
        "# correlation matrix for first look at relations between variables\n",
        "cancer_df.corr()"
      ],
      "execution_count": 155,
      "outputs": [
        {
          "output_type": "execute_result",
          "data": {
            "text/html": [
              "<div>\n",
              "<style scoped>\n",
              "    .dataframe tbody tr th:only-of-type {\n",
              "        vertical-align: middle;\n",
              "    }\n",
              "\n",
              "    .dataframe tbody tr th {\n",
              "        vertical-align: top;\n",
              "    }\n",
              "\n",
              "    .dataframe thead th {\n",
              "        text-align: right;\n",
              "    }\n",
              "</style>\n",
              "<table border=\"1\" class=\"dataframe\">\n",
              "  <thead>\n",
              "    <tr style=\"text-align: right;\">\n",
              "      <th></th>\n",
              "      <th>patient_age</th>\n",
              "      <th>operation_year</th>\n",
              "      <th>auxillary_nodes</th>\n",
              "      <th>survived</th>\n",
              "    </tr>\n",
              "  </thead>\n",
              "  <tbody>\n",
              "    <tr>\n",
              "      <th>patient_age</th>\n",
              "      <td>1.000000</td>\n",
              "      <td>0.089529</td>\n",
              "      <td>-0.063176</td>\n",
              "      <td>-0.067950</td>\n",
              "    </tr>\n",
              "    <tr>\n",
              "      <th>operation_year</th>\n",
              "      <td>0.089529</td>\n",
              "      <td>1.000000</td>\n",
              "      <td>-0.003764</td>\n",
              "      <td>0.004768</td>\n",
              "    </tr>\n",
              "    <tr>\n",
              "      <th>auxillary_nodes</th>\n",
              "      <td>-0.063176</td>\n",
              "      <td>-0.003764</td>\n",
              "      <td>1.000000</td>\n",
              "      <td>-0.286768</td>\n",
              "    </tr>\n",
              "    <tr>\n",
              "      <th>survived</th>\n",
              "      <td>-0.067950</td>\n",
              "      <td>0.004768</td>\n",
              "      <td>-0.286768</td>\n",
              "      <td>1.000000</td>\n",
              "    </tr>\n",
              "  </tbody>\n",
              "</table>\n",
              "</div>"
            ],
            "text/plain": [
              "                 patient_age  operation_year  auxillary_nodes  survived\n",
              "patient_age         1.000000        0.089529        -0.063176 -0.067950\n",
              "operation_year      0.089529        1.000000        -0.003764  0.004768\n",
              "auxillary_nodes    -0.063176       -0.003764         1.000000 -0.286768\n",
              "survived           -0.067950        0.004768        -0.286768  1.000000"
            ]
          },
          "metadata": {
            "tags": []
          },
          "execution_count": 155
        }
      ]
    },
    {
      "metadata": {
        "id": "zH9Xk9_TWr6v",
        "colab_type": "text"
      },
      "cell_type": "markdown",
      "source": [
        "Correlation matrices are a good starting point for examining possible relationships between variables. Correlation is only a linear measure, we will visualize correlations in the Plots section to explore possible non-linear relationships.\n",
        "\n",
        "Survival is most (inversely) correlated with the number of Auxillary Nodes found during the procedure. This would make sense, as more Auxillary Nodes found may indicate that cancer is further developed at the time of the procedure.\n",
        "\n",
        "Survival is also slightly (inversely) correlated with Age. Again, this would make sense, as older patients are less able to recover from illnesses on average.\n",
        "\n",
        "Interestingly, Age and Auxillary Nodes found have an inverse correlation. It's possible that (1) older patients have caught cancer earlier because they are more likely to be concerned or (2) if cancer were more likely to affect a younger patient, it is likely to be more severe.\n",
        "\n",
        "Operation Year seems to be largely unrelated to other variables. It has a moderate correlation with age, perhaps indicating doctors became more comfortable attempting the procedure on older patients during the period."
      ]
    },
    {
      "metadata": {
        "id": "qR0AaXglTPlI",
        "colab_type": "code",
        "colab": {}
      },
      "cell_type": "code",
      "source": [
        "# further tables\n",
        "\n",
        "# # cross tablulation of survival rate and all three other variables\n",
        "\n",
        "# # binning data for easier visualization\n",
        "\n",
        "# age_bins = pd.cut(cancer_df['patient_age'], 4) # bin by decade-ish\n",
        "# year_bins = pd.cut(cancer_df['operation_year'], 2) # split op year in half\n",
        "# nodes_bins = pd.cut(cancer_df['auxillary_nodes'], 3)\n",
        "\n",
        "# # pd.crosstab([cancer_df['patient_age'], cancer_df['operation_year'], \n",
        "# #              cancer_df['auxillary_nodes']], cancer_df['survived'], \n",
        "# #              normalize='columns')\n",
        "\n",
        "\n",
        "# # pd.crosstab(cancer_df['survived'], [age_bins, nodes_bins],\n",
        "# #              normalize='columns')"
      ],
      "execution_count": 0,
      "outputs": []
    },
    {
      "metadata": {
        "id": "e0WVHnQipmSE",
        "colab_type": "code",
        "colab": {
          "base_uri": "https://localhost:8080/",
          "height": 142
        },
        "outputId": "76a5fccb-c04d-4561-b637-8762c5e26012"
      },
      "cell_type": "code",
      "source": [
        "# cross tablulation - survival by year\n",
        "pd.crosstab(cancer_df['survived'], cancer_df['operation_year'], normalize='columns')"
      ],
      "execution_count": 157,
      "outputs": [
        {
          "output_type": "execute_result",
          "data": {
            "text/html": [
              "<div>\n",
              "<style scoped>\n",
              "    .dataframe tbody tr th:only-of-type {\n",
              "        vertical-align: middle;\n",
              "    }\n",
              "\n",
              "    .dataframe tbody tr th {\n",
              "        vertical-align: top;\n",
              "    }\n",
              "\n",
              "    .dataframe thead th {\n",
              "        text-align: right;\n",
              "    }\n",
              "</style>\n",
              "<table border=\"1\" class=\"dataframe\">\n",
              "  <thead>\n",
              "    <tr style=\"text-align: right;\">\n",
              "      <th>operation_year</th>\n",
              "      <th>1958</th>\n",
              "      <th>1959</th>\n",
              "      <th>1960</th>\n",
              "      <th>1961</th>\n",
              "      <th>1962</th>\n",
              "      <th>1963</th>\n",
              "      <th>1964</th>\n",
              "      <th>1965</th>\n",
              "      <th>1966</th>\n",
              "      <th>1967</th>\n",
              "      <th>1968</th>\n",
              "      <th>1969</th>\n",
              "    </tr>\n",
              "    <tr>\n",
              "      <th>survived</th>\n",
              "      <th></th>\n",
              "      <th></th>\n",
              "      <th></th>\n",
              "      <th></th>\n",
              "      <th></th>\n",
              "      <th></th>\n",
              "      <th></th>\n",
              "      <th></th>\n",
              "      <th></th>\n",
              "      <th></th>\n",
              "      <th></th>\n",
              "      <th></th>\n",
              "    </tr>\n",
              "  </thead>\n",
              "  <tbody>\n",
              "    <tr>\n",
              "      <th>False</th>\n",
              "      <td>0.333333</td>\n",
              "      <td>0.333333</td>\n",
              "      <td>0.142857</td>\n",
              "      <td>0.115385</td>\n",
              "      <td>0.304348</td>\n",
              "      <td>0.266667</td>\n",
              "      <td>0.258065</td>\n",
              "      <td>0.464286</td>\n",
              "      <td>0.214286</td>\n",
              "      <td>0.16</td>\n",
              "      <td>0.230769</td>\n",
              "      <td>0.363636</td>\n",
              "    </tr>\n",
              "    <tr>\n",
              "      <th>True</th>\n",
              "      <td>0.666667</td>\n",
              "      <td>0.666667</td>\n",
              "      <td>0.857143</td>\n",
              "      <td>0.884615</td>\n",
              "      <td>0.695652</td>\n",
              "      <td>0.733333</td>\n",
              "      <td>0.741935</td>\n",
              "      <td>0.535714</td>\n",
              "      <td>0.785714</td>\n",
              "      <td>0.84</td>\n",
              "      <td>0.769231</td>\n",
              "      <td>0.636364</td>\n",
              "    </tr>\n",
              "  </tbody>\n",
              "</table>\n",
              "</div>"
            ],
            "text/plain": [
              "operation_year      1958      1959      1960      1961      1962      1963  \\\n",
              "survived                                                                     \n",
              "False           0.333333  0.333333  0.142857  0.115385  0.304348  0.266667   \n",
              "True            0.666667  0.666667  0.857143  0.884615  0.695652  0.733333   \n",
              "\n",
              "operation_year      1964      1965      1966  1967      1968      1969  \n",
              "survived                                                                \n",
              "False           0.258065  0.464286  0.214286  0.16  0.230769  0.363636  \n",
              "True            0.741935  0.535714  0.785714  0.84  0.769231  0.636364  "
            ]
          },
          "metadata": {
            "tags": []
          },
          "execution_count": 157
        }
      ]
    },
    {
      "metadata": {
        "id": "v8uIz8Acp1pS",
        "colab_type": "text"
      },
      "cell_type": "markdown",
      "source": [
        "No clear trend observed here. Perhaps when controlling for other variables, operation year positively affects survival outcomes."
      ]
    },
    {
      "metadata": {
        "id": "vdwfrao_mZNn",
        "colab_type": "code",
        "colab": {
          "base_uri": "https://localhost:8080/",
          "height": 142
        },
        "outputId": "e846d745-f66c-45eb-f3a6-a6a8723d0ca8"
      },
      "cell_type": "code",
      "source": [
        "# cross tabulation - survival by number of auxillary nodes\n",
        "nodes_bins_granular = pd.cut(cancer_df['auxillary_nodes'], 7, precision=0)\n",
        "pd.crosstab(cancer_df['survived'], nodes_bins_granular, normalize='columns')"
      ],
      "execution_count": 158,
      "outputs": [
        {
          "output_type": "execute_result",
          "data": {
            "text/html": [
              "<div>\n",
              "<style scoped>\n",
              "    .dataframe tbody tr th:only-of-type {\n",
              "        vertical-align: middle;\n",
              "    }\n",
              "\n",
              "    .dataframe tbody tr th {\n",
              "        vertical-align: top;\n",
              "    }\n",
              "\n",
              "    .dataframe thead th {\n",
              "        text-align: right;\n",
              "    }\n",
              "</style>\n",
              "<table border=\"1\" class=\"dataframe\">\n",
              "  <thead>\n",
              "    <tr style=\"text-align: right;\">\n",
              "      <th>auxillary_nodes</th>\n",
              "      <th>(-0.1, 7.0]</th>\n",
              "      <th>(7.0, 15.0]</th>\n",
              "      <th>(15.0, 22.0]</th>\n",
              "      <th>(22.0, 30.0]</th>\n",
              "      <th>(30.0, 37.0]</th>\n",
              "      <th>(37.0, 45.0]</th>\n",
              "      <th>(45.0, 52.0]</th>\n",
              "    </tr>\n",
              "    <tr>\n",
              "      <th>survived</th>\n",
              "      <th></th>\n",
              "      <th></th>\n",
              "      <th></th>\n",
              "      <th></th>\n",
              "      <th></th>\n",
              "      <th></th>\n",
              "      <th></th>\n",
              "    </tr>\n",
              "  </thead>\n",
              "  <tbody>\n",
              "    <tr>\n",
              "      <th>False</th>\n",
              "      <td>0.204</td>\n",
              "      <td>0.516129</td>\n",
              "      <td>0.533333</td>\n",
              "      <td>0.666667</td>\n",
              "      <td>0.5</td>\n",
              "      <td>0.0</td>\n",
              "      <td>0.5</td>\n",
              "    </tr>\n",
              "    <tr>\n",
              "      <th>True</th>\n",
              "      <td>0.796</td>\n",
              "      <td>0.483871</td>\n",
              "      <td>0.466667</td>\n",
              "      <td>0.333333</td>\n",
              "      <td>0.5</td>\n",
              "      <td>0.0</td>\n",
              "      <td>0.5</td>\n",
              "    </tr>\n",
              "  </tbody>\n",
              "</table>\n",
              "</div>"
            ],
            "text/plain": [
              "auxillary_nodes  (-0.1, 7.0]  (7.0, 15.0]  (15.0, 22.0]  (22.0, 30.0]  \\\n",
              "survived                                                                \n",
              "False                  0.204     0.516129      0.533333      0.666667   \n",
              "True                   0.796     0.483871      0.466667      0.333333   \n",
              "\n",
              "auxillary_nodes  (30.0, 37.0]  (37.0, 45.0]  (45.0, 52.0]  \n",
              "survived                                                   \n",
              "False                     0.5           0.0           0.5  \n",
              "True                      0.5           0.0           0.5  "
            ]
          },
          "metadata": {
            "tags": []
          },
          "execution_count": 158
        }
      ]
    },
    {
      "metadata": {
        "id": "1Yv5z6MDnex3",
        "colab_type": "text"
      },
      "cell_type": "markdown",
      "source": [
        "The larger auxillary node buckets are biased by small sample size, hence the erratic values.\n",
        "\n",
        "However, it seems clear that chances of survival sharply decrease as auxillary nodes increases to greater than 7. "
      ]
    },
    {
      "metadata": {
        "id": "bpf_cHbXm705",
        "colab_type": "code",
        "colab": {
          "base_uri": "https://localhost:8080/",
          "height": 142
        },
        "outputId": "906515be-2541-4b61-b6d9-eded4a6eb993"
      },
      "cell_type": "code",
      "source": [
        "# cross tabulation - survival by patient age\n",
        "age_bins_granular = pd.cut(cancer_df['patient_age'], 8, precision=0)\n",
        "\n",
        "pd.crosstab(cancer_df['survived'], age_bins_granular, normalize='columns')"
      ],
      "execution_count": 159,
      "outputs": [
        {
          "output_type": "execute_result",
          "data": {
            "text/html": [
              "<div>\n",
              "<style scoped>\n",
              "    .dataframe tbody tr th:only-of-type {\n",
              "        vertical-align: middle;\n",
              "    }\n",
              "\n",
              "    .dataframe tbody tr th {\n",
              "        vertical-align: top;\n",
              "    }\n",
              "\n",
              "    .dataframe thead th {\n",
              "        text-align: right;\n",
              "    }\n",
              "</style>\n",
              "<table border=\"1\" class=\"dataframe\">\n",
              "  <thead>\n",
              "    <tr style=\"text-align: right;\">\n",
              "      <th>patient_age</th>\n",
              "      <th>(30.0, 37.0]</th>\n",
              "      <th>(37.0, 43.0]</th>\n",
              "      <th>(43.0, 50.0]</th>\n",
              "      <th>(50.0, 56.0]</th>\n",
              "      <th>(56.0, 63.0]</th>\n",
              "      <th>(63.0, 70.0]</th>\n",
              "      <th>(70.0, 76.0]</th>\n",
              "      <th>(76.0, 83.0]</th>\n",
              "    </tr>\n",
              "    <tr>\n",
              "      <th>survived</th>\n",
              "      <th></th>\n",
              "      <th></th>\n",
              "      <th></th>\n",
              "      <th></th>\n",
              "      <th></th>\n",
              "      <th></th>\n",
              "      <th></th>\n",
              "      <th></th>\n",
              "    </tr>\n",
              "  </thead>\n",
              "  <tbody>\n",
              "    <tr>\n",
              "      <th>False</th>\n",
              "      <td>0.111111</td>\n",
              "      <td>0.2</td>\n",
              "      <td>0.352941</td>\n",
              "      <td>0.30137</td>\n",
              "      <td>0.232143</td>\n",
              "      <td>0.28125</td>\n",
              "      <td>0.222222</td>\n",
              "      <td>0.666667</td>\n",
              "    </tr>\n",
              "    <tr>\n",
              "      <th>True</th>\n",
              "      <td>0.888889</td>\n",
              "      <td>0.8</td>\n",
              "      <td>0.647059</td>\n",
              "      <td>0.69863</td>\n",
              "      <td>0.767857</td>\n",
              "      <td>0.71875</td>\n",
              "      <td>0.777778</td>\n",
              "      <td>0.333333</td>\n",
              "    </tr>\n",
              "  </tbody>\n",
              "</table>\n",
              "</div>"
            ],
            "text/plain": [
              "patient_age  (30.0, 37.0]  (37.0, 43.0]  (43.0, 50.0]  (50.0, 56.0]  \\\n",
              "survived                                                              \n",
              "False            0.111111           0.2      0.352941       0.30137   \n",
              "True             0.888889           0.8      0.647059       0.69863   \n",
              "\n",
              "patient_age  (56.0, 63.0]  (63.0, 70.0]  (70.0, 76.0]  (76.0, 83.0]  \n",
              "survived                                                             \n",
              "False            0.232143       0.28125      0.222222      0.666667  \n",
              "True             0.767857       0.71875      0.777778      0.333333  "
            ]
          },
          "metadata": {
            "tags": []
          },
          "execution_count": 159
        }
      ]
    },
    {
      "metadata": {
        "id": "drGyL0u7oKnQ",
        "colab_type": "text"
      },
      "cell_type": "markdown",
      "source": [
        "With the exception of those under 40, survival rates do not appear to vary significantly across age even before controlling for other variables."
      ]
    },
    {
      "metadata": {
        "id": "ZM_wwPOcoV2t",
        "colab_type": "code",
        "colab": {
          "base_uri": "https://localhost:8080/",
          "height": 297
        },
        "outputId": "c7e1d028-fbc0-4f16-d5b2-9d0a9af1a108"
      },
      "cell_type": "code",
      "source": [
        "# cross tabulation - age and auxillary nodes\n",
        "pd.crosstab(nodes_bins_granular, age_bins_granular, normalize='columns')"
      ],
      "execution_count": 160,
      "outputs": [
        {
          "output_type": "execute_result",
          "data": {
            "text/html": [
              "<div>\n",
              "<style scoped>\n",
              "    .dataframe tbody tr th:only-of-type {\n",
              "        vertical-align: middle;\n",
              "    }\n",
              "\n",
              "    .dataframe tbody tr th {\n",
              "        vertical-align: top;\n",
              "    }\n",
              "\n",
              "    .dataframe thead th {\n",
              "        text-align: right;\n",
              "    }\n",
              "</style>\n",
              "<table border=\"1\" class=\"dataframe\">\n",
              "  <thead>\n",
              "    <tr style=\"text-align: right;\">\n",
              "      <th>patient_age</th>\n",
              "      <th>(30.0, 37.0]</th>\n",
              "      <th>(37.0, 43.0]</th>\n",
              "      <th>(43.0, 50.0]</th>\n",
              "      <th>(50.0, 56.0]</th>\n",
              "      <th>(56.0, 63.0]</th>\n",
              "      <th>(63.0, 70.0]</th>\n",
              "      <th>(70.0, 76.0]</th>\n",
              "      <th>(76.0, 83.0]</th>\n",
              "    </tr>\n",
              "    <tr>\n",
              "      <th>auxillary_nodes</th>\n",
              "      <th></th>\n",
              "      <th></th>\n",
              "      <th></th>\n",
              "      <th></th>\n",
              "      <th></th>\n",
              "      <th></th>\n",
              "      <th></th>\n",
              "      <th></th>\n",
              "    </tr>\n",
              "  </thead>\n",
              "  <tbody>\n",
              "    <tr>\n",
              "      <th>(-0.1, 7.0]</th>\n",
              "      <td>0.722222</td>\n",
              "      <td>0.836364</td>\n",
              "      <td>0.784314</td>\n",
              "      <td>0.821918</td>\n",
              "      <td>0.821429</td>\n",
              "      <td>0.81250</td>\n",
              "      <td>0.888889</td>\n",
              "      <td>1.0</td>\n",
              "    </tr>\n",
              "    <tr>\n",
              "      <th>(7.0, 15.0]</th>\n",
              "      <td>0.222222</td>\n",
              "      <td>0.072727</td>\n",
              "      <td>0.137255</td>\n",
              "      <td>0.082192</td>\n",
              "      <td>0.089286</td>\n",
              "      <td>0.09375</td>\n",
              "      <td>0.111111</td>\n",
              "      <td>0.0</td>\n",
              "    </tr>\n",
              "    <tr>\n",
              "      <th>(15.0, 22.0]</th>\n",
              "      <td>0.000000</td>\n",
              "      <td>0.054545</td>\n",
              "      <td>0.058824</td>\n",
              "      <td>0.054795</td>\n",
              "      <td>0.035714</td>\n",
              "      <td>0.09375</td>\n",
              "      <td>0.000000</td>\n",
              "      <td>0.0</td>\n",
              "    </tr>\n",
              "    <tr>\n",
              "      <th>(22.0, 30.0]</th>\n",
              "      <td>0.000000</td>\n",
              "      <td>0.018182</td>\n",
              "      <td>0.019608</td>\n",
              "      <td>0.027397</td>\n",
              "      <td>0.035714</td>\n",
              "      <td>0.00000</td>\n",
              "      <td>0.000000</td>\n",
              "      <td>0.0</td>\n",
              "    </tr>\n",
              "    <tr>\n",
              "      <th>(30.0, 37.0]</th>\n",
              "      <td>0.055556</td>\n",
              "      <td>0.000000</td>\n",
              "      <td>0.000000</td>\n",
              "      <td>0.000000</td>\n",
              "      <td>0.017857</td>\n",
              "      <td>0.00000</td>\n",
              "      <td>0.000000</td>\n",
              "      <td>0.0</td>\n",
              "    </tr>\n",
              "    <tr>\n",
              "      <th>(37.0, 45.0]</th>\n",
              "      <td>0.000000</td>\n",
              "      <td>0.000000</td>\n",
              "      <td>0.000000</td>\n",
              "      <td>0.000000</td>\n",
              "      <td>0.000000</td>\n",
              "      <td>0.00000</td>\n",
              "      <td>0.000000</td>\n",
              "      <td>0.0</td>\n",
              "    </tr>\n",
              "    <tr>\n",
              "      <th>(45.0, 52.0]</th>\n",
              "      <td>0.000000</td>\n",
              "      <td>0.018182</td>\n",
              "      <td>0.000000</td>\n",
              "      <td>0.013699</td>\n",
              "      <td>0.000000</td>\n",
              "      <td>0.00000</td>\n",
              "      <td>0.000000</td>\n",
              "      <td>0.0</td>\n",
              "    </tr>\n",
              "  </tbody>\n",
              "</table>\n",
              "</div>"
            ],
            "text/plain": [
              "patient_age      (30.0, 37.0]  (37.0, 43.0]  (43.0, 50.0]  (50.0, 56.0]  \\\n",
              "auxillary_nodes                                                           \n",
              "(-0.1, 7.0]          0.722222      0.836364      0.784314      0.821918   \n",
              "(7.0, 15.0]          0.222222      0.072727      0.137255      0.082192   \n",
              "(15.0, 22.0]         0.000000      0.054545      0.058824      0.054795   \n",
              "(22.0, 30.0]         0.000000      0.018182      0.019608      0.027397   \n",
              "(30.0, 37.0]         0.055556      0.000000      0.000000      0.000000   \n",
              "(37.0, 45.0]         0.000000      0.000000      0.000000      0.000000   \n",
              "(45.0, 52.0]         0.000000      0.018182      0.000000      0.013699   \n",
              "\n",
              "patient_age      (56.0, 63.0]  (63.0, 70.0]  (70.0, 76.0]  (76.0, 83.0]  \n",
              "auxillary_nodes                                                          \n",
              "(-0.1, 7.0]          0.821429       0.81250      0.888889           1.0  \n",
              "(7.0, 15.0]          0.089286       0.09375      0.111111           0.0  \n",
              "(15.0, 22.0]         0.035714       0.09375      0.000000           0.0  \n",
              "(22.0, 30.0]         0.035714       0.00000      0.000000           0.0  \n",
              "(30.0, 37.0]         0.017857       0.00000      0.000000           0.0  \n",
              "(37.0, 45.0]         0.000000       0.00000      0.000000           0.0  \n",
              "(45.0, 52.0]         0.000000       0.00000      0.000000           0.0  "
            ]
          },
          "metadata": {
            "tags": []
          },
          "execution_count": 160
        }
      ]
    },
    {
      "metadata": {
        "id": "uP9kv-UtqXu8",
        "colab_type": "text"
      },
      "cell_type": "markdown",
      "source": [
        "Interestingly, *less* auxillary nodes are likely to be found as patient age increases. This pattern is most reliable for the lowest buckets of auxillary nodes, after that, incidence rates are too low to show a significant pattern.\n",
        "\n",
        "It is possible that older patients are either (1) not able to survive a surgery removing as many auxillary nodes or (2) less likely to "
      ]
    },
    {
      "metadata": {
        "id": "snllyexKt9tH",
        "colab_type": "code",
        "colab": {
          "base_uri": "https://localhost:8080/",
          "height": 297
        },
        "outputId": "c8630764-8d9d-4801-9386-b5cce4ff3ad6"
      },
      "cell_type": "code",
      "source": [
        "# cross tabulation - year and auxillary nodes\n",
        "pd.crosstab(nodes_bins_granular, cancer_df['operation_year'], normalize='columns')\n"
      ],
      "execution_count": 161,
      "outputs": [
        {
          "output_type": "execute_result",
          "data": {
            "text/html": [
              "<div>\n",
              "<style scoped>\n",
              "    .dataframe tbody tr th:only-of-type {\n",
              "        vertical-align: middle;\n",
              "    }\n",
              "\n",
              "    .dataframe tbody tr th {\n",
              "        vertical-align: top;\n",
              "    }\n",
              "\n",
              "    .dataframe thead th {\n",
              "        text-align: right;\n",
              "    }\n",
              "</style>\n",
              "<table border=\"1\" class=\"dataframe\">\n",
              "  <thead>\n",
              "    <tr style=\"text-align: right;\">\n",
              "      <th>operation_year</th>\n",
              "      <th>1958</th>\n",
              "      <th>1959</th>\n",
              "      <th>1960</th>\n",
              "      <th>1961</th>\n",
              "      <th>1962</th>\n",
              "      <th>1963</th>\n",
              "      <th>1964</th>\n",
              "      <th>1965</th>\n",
              "      <th>1966</th>\n",
              "      <th>1967</th>\n",
              "      <th>1968</th>\n",
              "      <th>1969</th>\n",
              "    </tr>\n",
              "    <tr>\n",
              "      <th>auxillary_nodes</th>\n",
              "      <th></th>\n",
              "      <th></th>\n",
              "      <th></th>\n",
              "      <th></th>\n",
              "      <th></th>\n",
              "      <th></th>\n",
              "      <th></th>\n",
              "      <th></th>\n",
              "      <th></th>\n",
              "      <th></th>\n",
              "      <th></th>\n",
              "      <th></th>\n",
              "    </tr>\n",
              "  </thead>\n",
              "  <tbody>\n",
              "    <tr>\n",
              "      <th>(-0.1, 7.0]</th>\n",
              "      <td>0.833333</td>\n",
              "      <td>0.777778</td>\n",
              "      <td>0.857143</td>\n",
              "      <td>0.769231</td>\n",
              "      <td>0.826087</td>\n",
              "      <td>0.800000</td>\n",
              "      <td>0.870968</td>\n",
              "      <td>0.750000</td>\n",
              "      <td>0.785714</td>\n",
              "      <td>0.88</td>\n",
              "      <td>0.923077</td>\n",
              "      <td>0.727273</td>\n",
              "    </tr>\n",
              "    <tr>\n",
              "      <th>(7.0, 15.0]</th>\n",
              "      <td>0.111111</td>\n",
              "      <td>0.185185</td>\n",
              "      <td>0.071429</td>\n",
              "      <td>0.153846</td>\n",
              "      <td>0.043478</td>\n",
              "      <td>0.066667</td>\n",
              "      <td>0.129032</td>\n",
              "      <td>0.107143</td>\n",
              "      <td>0.142857</td>\n",
              "      <td>0.04</td>\n",
              "      <td>0.000000</td>\n",
              "      <td>0.090909</td>\n",
              "    </tr>\n",
              "    <tr>\n",
              "      <th>(15.0, 22.0]</th>\n",
              "      <td>0.000000</td>\n",
              "      <td>0.037037</td>\n",
              "      <td>0.035714</td>\n",
              "      <td>0.000000</td>\n",
              "      <td>0.086957</td>\n",
              "      <td>0.066667</td>\n",
              "      <td>0.000000</td>\n",
              "      <td>0.107143</td>\n",
              "      <td>0.071429</td>\n",
              "      <td>0.04</td>\n",
              "      <td>0.076923</td>\n",
              "      <td>0.181818</td>\n",
              "    </tr>\n",
              "    <tr>\n",
              "      <th>(22.0, 30.0]</th>\n",
              "      <td>0.000000</td>\n",
              "      <td>0.000000</td>\n",
              "      <td>0.035714</td>\n",
              "      <td>0.076923</td>\n",
              "      <td>0.000000</td>\n",
              "      <td>0.066667</td>\n",
              "      <td>0.000000</td>\n",
              "      <td>0.035714</td>\n",
              "      <td>0.000000</td>\n",
              "      <td>0.00</td>\n",
              "      <td>0.000000</td>\n",
              "      <td>0.000000</td>\n",
              "    </tr>\n",
              "    <tr>\n",
              "      <th>(30.0, 37.0]</th>\n",
              "      <td>0.027778</td>\n",
              "      <td>0.000000</td>\n",
              "      <td>0.000000</td>\n",
              "      <td>0.000000</td>\n",
              "      <td>0.043478</td>\n",
              "      <td>0.000000</td>\n",
              "      <td>0.000000</td>\n",
              "      <td>0.000000</td>\n",
              "      <td>0.000000</td>\n",
              "      <td>0.00</td>\n",
              "      <td>0.000000</td>\n",
              "      <td>0.000000</td>\n",
              "    </tr>\n",
              "    <tr>\n",
              "      <th>(37.0, 45.0]</th>\n",
              "      <td>0.000000</td>\n",
              "      <td>0.000000</td>\n",
              "      <td>0.000000</td>\n",
              "      <td>0.000000</td>\n",
              "      <td>0.000000</td>\n",
              "      <td>0.000000</td>\n",
              "      <td>0.000000</td>\n",
              "      <td>0.000000</td>\n",
              "      <td>0.000000</td>\n",
              "      <td>0.00</td>\n",
              "      <td>0.000000</td>\n",
              "      <td>0.000000</td>\n",
              "    </tr>\n",
              "    <tr>\n",
              "      <th>(45.0, 52.0]</th>\n",
              "      <td>0.027778</td>\n",
              "      <td>0.000000</td>\n",
              "      <td>0.000000</td>\n",
              "      <td>0.000000</td>\n",
              "      <td>0.000000</td>\n",
              "      <td>0.000000</td>\n",
              "      <td>0.000000</td>\n",
              "      <td>0.000000</td>\n",
              "      <td>0.000000</td>\n",
              "      <td>0.04</td>\n",
              "      <td>0.000000</td>\n",
              "      <td>0.000000</td>\n",
              "    </tr>\n",
              "  </tbody>\n",
              "</table>\n",
              "</div>"
            ],
            "text/plain": [
              "operation_year       1958      1959      1960      1961      1962      1963  \\\n",
              "auxillary_nodes                                                               \n",
              "(-0.1, 7.0]      0.833333  0.777778  0.857143  0.769231  0.826087  0.800000   \n",
              "(7.0, 15.0]      0.111111  0.185185  0.071429  0.153846  0.043478  0.066667   \n",
              "(15.0, 22.0]     0.000000  0.037037  0.035714  0.000000  0.086957  0.066667   \n",
              "(22.0, 30.0]     0.000000  0.000000  0.035714  0.076923  0.000000  0.066667   \n",
              "(30.0, 37.0]     0.027778  0.000000  0.000000  0.000000  0.043478  0.000000   \n",
              "(37.0, 45.0]     0.000000  0.000000  0.000000  0.000000  0.000000  0.000000   \n",
              "(45.0, 52.0]     0.027778  0.000000  0.000000  0.000000  0.000000  0.000000   \n",
              "\n",
              "operation_year       1964      1965      1966  1967      1968      1969  \n",
              "auxillary_nodes                                                          \n",
              "(-0.1, 7.0]      0.870968  0.750000  0.785714  0.88  0.923077  0.727273  \n",
              "(7.0, 15.0]      0.129032  0.107143  0.142857  0.04  0.000000  0.090909  \n",
              "(15.0, 22.0]     0.000000  0.107143  0.071429  0.04  0.076923  0.181818  \n",
              "(22.0, 30.0]     0.000000  0.035714  0.000000  0.00  0.000000  0.000000  \n",
              "(30.0, 37.0]     0.000000  0.000000  0.000000  0.00  0.000000  0.000000  \n",
              "(37.0, 45.0]     0.000000  0.000000  0.000000  0.00  0.000000  0.000000  \n",
              "(45.0, 52.0]     0.000000  0.000000  0.000000  0.04  0.000000  0.000000  "
            ]
          },
          "metadata": {
            "tags": []
          },
          "execution_count": 161
        }
      ]
    },
    {
      "metadata": {
        "id": "3gcVAzgLTQyD",
        "colab_type": "code",
        "colab": {
          "base_uri": "https://localhost:8080/",
          "height": 725
        },
        "outputId": "b794c2ad-2107-4001-c5d7-c2edc841182e"
      },
      "cell_type": "code",
      "source": [
        "# plot 1\n",
        "\n",
        "# examine the distribution of patient_age, operation_year, and auxillary nodes\n",
        "# histograms will do best for this\n",
        "\n",
        "fig_hist, axes_hist = plt.subplots(3,1,figsize=(15,10))\n",
        "\n",
        "ax_age = axes_hist[0]\n",
        "ax_year = axes_hist[1]\n",
        "ax_nodes = axes_hist[2]\n",
        "\n",
        "#age\n",
        "#age_freq = range(15,80)\n",
        "ax_age.hist(cancer_df['patient_age'], density=True, bins=20)\n",
        "                 \n",
        "ax_age.set_xlabel('Patient Age', fontsize=10)\n",
        "ax_age.set_ylabel('Relative Frequency', fontsize=10)\n",
        "ax_age.set_title('Distribution of Patient Ages', fontsize=15)\n",
        "\n",
        "# operation year\n",
        "#weight_freq = range(100,250)\n",
        "ax_year.hist(cancer_df['operation_year'], density=True, bins=11)\n",
        "                 \n",
        "ax_year.set_xlabel('Operation Year', fontsize=10)\n",
        "ax_year.set_ylabel('Relative Frequency', fontsize=10)\n",
        "ax_year.set_title('Distribution of Operation Year', fontsize=15)\n",
        "\n",
        "# auxillary nodes\n",
        "#exercise_freq = range(0,300)\n",
        "ax_nodes.hist(cancer_df['auxillary_nodes'], density=True, bins=50)\n",
        "                 \n",
        "ax_nodes.set_xlabel('Auxillary Nodes Found', fontsize=10)\n",
        "ax_nodes.set_ylabel('Relative Frequency', fontsize=10)\n",
        "ax_nodes.set_title('Distribution of Auxillary Nodes Found', fontsize=15)\n",
        "\n",
        "plt.tight_layout()\n",
        "plt.show();\n"
      ],
      "execution_count": 162,
      "outputs": [
        {
          "output_type": "display_data",
          "data": {
            "image/png": "[encoded data removed]",
            "text/plain": [
              "<matplotlib.figure.Figure at 0x7f738b7c2dd8>"
            ]
          },
          "metadata": {
            "tags": []
          }
        }
      ]
    },
    {
      "metadata": {
        "id": "OCNUcT3fbJA6",
        "colab_type": "text"
      },
      "cell_type": "markdown",
      "source": [
        "Age looks to be normally-ish distributed, but skewed to the right. \n",
        "\n",
        "Operation Year is close to uniformly distributed. \n",
        "\n",
        "Auxillary Nodes, as I suspected from summary data, is heavily right skewed. We'll have to handle this carefully. "
      ]
    },
    {
      "metadata": {
        "id": "VkEcfTbiTR0n",
        "colab_type": "code",
        "colab": {
          "base_uri": "https://localhost:8080/",
          "height": 522
        },
        "outputId": "e487c5dc-e6e3-477d-f8e5-7be1e406fa09"
      },
      "cell_type": "code",
      "source": [
        "# plot 2 \n",
        "\n",
        "# correlation and impact on survival\n",
        "\n",
        "import seaborn as sns\n",
        "\n",
        "survived_color_map = {False : sns.xkcd_rgb[\"pale red\"], True : sns.xkcd_rgb[\"medium green\"]}\n",
        "\n",
        "pair_plot = sns.pairplot(cancer_df, hue='survived', vars=['patient_age', 'operation_year', 'auxillary_nodes'],\n",
        "             size=3,\n",
        "             palette=survived_color_map)\n",
        "\n",
        "pair_plot.fig.set_size_inches(15,7)\n",
        "pair_plot.fig.suptitle('Cross Correlation of Survival Predictors');"
      ],
      "execution_count": 163,
      "outputs": [
        {
          "output_type": "display_data",
          "data": {
            "image/png": "[encoded data removed]",
            "text/plain": [
              "<matplotlib.figure.Figure at 0x7f738c6b7b70>"
            ]
          },
          "metadata": {
            "tags": []
          }
        }
      ]
    },
    {
      "metadata": {
        "id": "cDhY1EOBg1p_",
        "colab_type": "text"
      },
      "cell_type": "markdown",
      "source": [
        "This furthers the intuition developed in the previous analyses.\n",
        "\n",
        "Auxillary Nodes found looks to be the strongest predictor of Survival, the two show a clear inverse relationship.\n",
        "\n"
      ]
    },
    {
      "metadata": {
        "id": "CaXVpQT6TTED",
        "colab_type": "code",
        "colab": {
          "base_uri": "https://localhost:8080/",
          "height": 173
        },
        "outputId": "23abc7a9-1bec-496c-d436-55ae21fa4073"
      },
      "cell_type": "code",
      "source": [
        "# further plots and analyis\n",
        "\n",
        "# enhance data - include no auxillary nodes found flag\n",
        "cancer_df['auxillary_found'] = cancer_df['auxillary_nodes'] > 0\n",
        "\n",
        "cancer_df[['auxillary_found', 'survived', 'operation_year', 'patient_age']].corr()"
      ],
      "execution_count": 164,
      "outputs": [
        {
          "output_type": "execute_result",
          "data": {
            "text/html": [
              "<div>\n",
              "<style scoped>\n",
              "    .dataframe tbody tr th:only-of-type {\n",
              "        vertical-align: middle;\n",
              "    }\n",
              "\n",
              "    .dataframe tbody tr th {\n",
              "        vertical-align: top;\n",
              "    }\n",
              "\n",
              "    .dataframe thead th {\n",
              "        text-align: right;\n",
              "    }\n",
              "</style>\n",
              "<table border=\"1\" class=\"dataframe\">\n",
              "  <thead>\n",
              "    <tr style=\"text-align: right;\">\n",
              "      <th></th>\n",
              "      <th>auxillary_found</th>\n",
              "      <th>survived</th>\n",
              "      <th>operation_year</th>\n",
              "      <th>patient_age</th>\n",
              "    </tr>\n",
              "  </thead>\n",
              "  <tbody>\n",
              "    <tr>\n",
              "      <th>auxillary_found</th>\n",
              "      <td>1.000000</td>\n",
              "      <td>-0.253421</td>\n",
              "      <td>-0.068927</td>\n",
              "      <td>-0.103523</td>\n",
              "    </tr>\n",
              "    <tr>\n",
              "      <th>survived</th>\n",
              "      <td>-0.253421</td>\n",
              "      <td>1.000000</td>\n",
              "      <td>0.004768</td>\n",
              "      <td>-0.067950</td>\n",
              "    </tr>\n",
              "    <tr>\n",
              "      <th>operation_year</th>\n",
              "      <td>-0.068927</td>\n",
              "      <td>0.004768</td>\n",
              "      <td>1.000000</td>\n",
              "      <td>0.089529</td>\n",
              "    </tr>\n",
              "    <tr>\n",
              "      <th>patient_age</th>\n",
              "      <td>-0.103523</td>\n",
              "      <td>-0.067950</td>\n",
              "      <td>0.089529</td>\n",
              "      <td>1.000000</td>\n",
              "    </tr>\n",
              "  </tbody>\n",
              "</table>\n",
              "</div>"
            ],
            "text/plain": [
              "                 auxillary_found  survived  operation_year  patient_age\n",
              "auxillary_found         1.000000 -0.253421       -0.068927    -0.103523\n",
              "survived               -0.253421  1.000000        0.004768    -0.067950\n",
              "operation_year         -0.068927  0.004768        1.000000     0.089529\n",
              "patient_age            -0.103523 -0.067950        0.089529     1.000000"
            ]
          },
          "metadata": {
            "tags": []
          },
          "execution_count": 164
        }
      ]
    },
    {
      "metadata": {
        "id": "ZM8JckA2bgnp",
        "colab_type": "text"
      },
      "cell_type": "markdown",
      "source": [
        "## Part 3 - Analysis and Interpretation\n",
        "\n",
        "Now that you've looked at the data, answer the following questions:\n",
        "\n",
        "- What is at least one feature that looks to have a positive correlation with survival?\n",
        "- What is at least one feature that looks to have a negative correlation with survival?\n",
        "- How are those two features related with each other, and what might that mean?\n",
        "\n",
        "Answer with text, but feel free to intersperse example code/results or refer to it from earlier."
      ]
    },
    {
      "metadata": {
        "id": "LU4vQvlYt6mk",
        "colab_type": "text"
      },
      "cell_type": "markdown",
      "source": [
        "The only feature that has a positive linear relationship with survival is the year the operation was performed.\n",
        "\n",
        "Auxillary nodes found has the most significant negative correlation with survival. \n",
        "  \n",
        " At first, the operation year and auxillary nodes appear to have no relation. However, when changing the auxillary nodes value to a binary 0 or greater than 0, there appears to be an inverse relationship between the two. \n",
        " \n",
        " This could mean that breast cancer is being detected earlier, and thus less likely to spread. If that is the case, the confounding variable would be meidcal knowledge in the area of breast cancer detection.\n",
        " \n",
        " Earlier detection->less auxillary nodes found->less deaths\n",
        " \n",
        " Further analysis would be necessary to confirm any initial opinions of the relationship."
      ]
    }
  ]
}