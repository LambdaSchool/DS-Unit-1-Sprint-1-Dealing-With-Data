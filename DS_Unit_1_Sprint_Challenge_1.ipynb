{
  "nbformat": 4,
  "nbformat_minor": 0,
  "metadata": {
    "colab": {
      "name": "DS_Unit_1_Sprint_Challenge_1.ipynb",
      "version": "0.3.2",
      "provenance": [],
      "collapsed_sections": [],
      "include_colab_link": true
    },
    "kernelspec": {
      "name": "python3",
      "display_name": "Python 3"
    }
  },
  "cells": [
    {
      "cell_type": "markdown",
      "metadata": {
        "id": "view-in-github",
        "colab_type": "text"
      },
      "source": [
        "<a href=\"https://colab.research.google.com/github/zarrinan/DS-Sprint-01-Dealing-With-Data/blob/master/DS_Unit_1_Sprint_Challenge_1.ipynb\" target=\"_parent\"><img src=\"https://colab.research.google.com/assets/colab-badge.svg\" alt=\"Open In Colab\"/></a>"
      ]
    },
    {
      "metadata": {
        "id": "NooAiTdnafkz",
        "colab_type": "text"
      },
      "cell_type": "markdown",
      "source": [
        "# Data Science Unit 1 Sprint Challenge 1\n",
        "\n",
        "## Loading, cleaning, visualizing, and analyzing data\n",
        "\n",
        "In this sprint challenge you will look at a dataset of the survival of patients who underwent surgery for breast cancer.\n",
        "\n",
        "http://archive.ics.uci.edu/ml/datasets/Haberman%27s+Survival\n",
        "\n",
        "Data Set Information:\n",
        "The dataset contains cases from a study that was conducted between 1958 and 1970 at the University of Chicago's Billings Hospital on the survival of patients who had undergone surgery for breast cancer.\n",
        "\n",
        "Attribute Information:\n",
        "1. Age of patient at time of operation (numerical)\n",
        "2. Patient's year of operation (year - 1900, numerical)\n",
        "3. Number of positive axillary nodes detected (numerical)\n",
        "4. Survival status (class attribute)\n",
        "-- 1 = the patient survived 5 years or longer\n",
        "-- 2 = the patient died within 5 year\n",
        "\n",
        "Sprint challenges are evaluated based on satisfactory completion of each part. It is suggested you work through it in order, getting each aspect reasonably working, before trying to deeply explore, iterate, or refine any given step. Once you get to the end, if you want to go back and improve things, go for it!"
      ]
    },
    {
      "metadata": {
        "id": "5wch6ksCbJtZ",
        "colab_type": "text"
      },
      "cell_type": "markdown",
      "source": [
        "## Part 1 - Load and validate the data\n",
        "\n",
        "- Load the data as a `pandas` data frame.\n",
        "- Validate that it has the appropriate number of observations (you can check the raw file, and also read the dataset description from UCI).\n",
        "- Validate that you have no missing values.\n",
        "- Add informative names to the features.\n",
        "- The survival variable is encoded as 1 for surviving >5 years and 2 for not - change this to be 0 for not surviving and 1 for surviving >5 years (0/1 is a more traditional encoding of binary variables)\n",
        "\n",
        "At the end, print the first five rows of the dataset to demonstrate the above."
      ]
    },
    {
      "metadata": {
        "id": "287TpoGKFRVK",
        "colab_type": "code",
        "colab": {}
      },
      "cell_type": "code",
      "source": [
        "# TODO\n",
        "import pandas as pd\n",
        "import numpy as np\n",
        "import matplotlib.pyplot as plt\n",
        "import seaborn as sns"
      ],
      "execution_count": 0,
      "outputs": []
    },
    {
      "metadata": {
        "id": "ZErg0iW5OSiB",
        "colab_type": "code",
        "colab": {}
      },
      "cell_type": "code",
      "source": [
        "bc = pd.read_csv('http://archive.ics.uci.edu/ml/machine-learning-databases/haberman/haberman.data')\n",
        "! curl http://archive.ics.uci.edu/ml/machine-learning-databases/haberman/haberman.data"
      ],
      "execution_count": 0,
      "outputs": []
    },
    {
      "metadata": {
        "id": "8qjWEoCiOwqI",
        "colab_type": "code",
        "colab": {
          "base_uri": "https://localhost:8080/",
          "height": 34
        },
        "outputId": "f7a5729c-a30e-4a4a-97bc-238697b2401a"
      },
      "cell_type": "code",
      "source": [
        "!wget http://archive.ics.uci.edu/ml/machine-learning-databases/haberman/haberman.data | wc\n",
        "!ls"
      ],
      "execution_count": 7,
      "outputs": [
        {
          "output_type": "stream",
          "text": [
            "haberman.data  haberman.data.1\tsample_data\n"
          ],
          "name": "stdout"
        }
      ]
    },
    {
      "metadata": {
        "id": "_12SIQCuO_Ks",
        "colab_type": "code",
        "colab": {}
      },
      "cell_type": "code",
      "source": [
        "print(bc.shape)\n",
        "print(bc.info())\n",
        "print(bc.describe())\n",
        "bc.head()"
      ],
      "execution_count": 0,
      "outputs": []
    },
    {
      "metadata": {
        "id": "wFjc43qXQAIQ",
        "colab_type": "text"
      },
      "cell_type": "markdown",
      "source": [
        "Attribute Information:\n",
        "   1. Age of patient at time of operation (numerical)\n",
        "   2. Patient's year of operation (year - 1900, numerical)\n",
        "   3. Number of positive axillary nodes detected (numerical)\n",
        "   4. Survival status (class attribute)\n",
        "         1 = the patient survived 5 years or longer\n",
        "         2 = the patient died within 5 year"
      ]
    },
    {
      "metadata": {
        "id": "rd-a66jrP3Jo",
        "colab_type": "code",
        "colab": {}
      },
      "cell_type": "code",
      "source": [
        "col_names = ['age', 'operation year 1900+', 'pos nodes', 'survival status']"
      ],
      "execution_count": 0,
      "outputs": []
    },
    {
      "metadata": {
        "id": "3bjdPzLePrII",
        "colab_type": "code",
        "colab": {}
      },
      "cell_type": "code",
      "source": [
        "bcs = pd.read_csv('http://archive.ics.uci.edu/ml/machine-learning-databases/haberman/haberman.data', header=None, names=col_names)"
      ],
      "execution_count": 0,
      "outputs": []
    },
    {
      "metadata": {
        "id": "PRstQk1nQYkq",
        "colab_type": "code",
        "colab": {}
      },
      "cell_type": "code",
      "source": [
        "print(bcs.shape)\n",
        "print(bcs.info())\n",
        "print(bcs.describe())\n",
        "bcs.head()"
      ],
      "execution_count": 0,
      "outputs": []
    },
    {
      "metadata": {
        "id": "jmwgi9crQ1fC",
        "colab_type": "code",
        "colab": {}
      },
      "cell_type": "code",
      "source": [
        "bcs.isna().sum().sum()"
      ],
      "execution_count": 0,
      "outputs": []
    },
    {
      "metadata": {
        "id": "yDYt_rzvRIza",
        "colab_type": "code",
        "colab": {}
      },
      "cell_type": "code",
      "source": [
        "bcs['if_survived'] = bcs['survival status'].apply(lambda val: 0 if val == 2 else 1)\n"
      ],
      "execution_count": 0,
      "outputs": []
    },
    {
      "metadata": {
        "id": "ERKwDzRbSg4b",
        "colab_type": "code",
        "colab": {}
      },
      "cell_type": "code",
      "source": [
        "bcs.head(15)"
      ],
      "execution_count": 0,
      "outputs": []
    },
    {
      "metadata": {
        "id": "G7rLytbrO38L",
        "colab_type": "text"
      },
      "cell_type": "markdown",
      "source": [
        "## Part 2 - Examine the distribution and relationships of the features\n",
        "\n",
        "Explore the data - create at least *2* tables (can be summary statistics or crosstabulations) and *2* plots illustrating the nature of the data.\n",
        "\n",
        "This is open-ended, so to remind - first *complete* this task as a baseline, then go on to the remaining sections, and *then* as time allows revisit and explore further.\n",
        "\n",
        "Hint - you may need to bin some variables depending on your chosen tables/plots."
      ]
    },
    {
      "metadata": {
        "id": "IAkllgCIFVj0",
        "colab_type": "code",
        "colab": {}
      },
      "cell_type": "code",
      "source": [
        "# TODO\n",
        "bcs.describe()"
      ],
      "execution_count": 0,
      "outputs": []
    },
    {
      "metadata": {
        "id": "N1UJIrcSTxWd",
        "colab_type": "code",
        "colab": {}
      },
      "cell_type": "code",
      "source": [
        "plt.hist(bcs['age'])"
      ],
      "execution_count": 0,
      "outputs": []
    },
    {
      "metadata": {
        "id": "4JUifZgOUZ2x",
        "colab_type": "code",
        "colab": {}
      },
      "cell_type": "code",
      "source": [
        "plt.hist(bcs['operation year 1900+'])"
      ],
      "execution_count": 0,
      "outputs": []
    },
    {
      "metadata": {
        "id": "o0pYKYbDU1tF",
        "colab_type": "code",
        "colab": {}
      },
      "cell_type": "code",
      "source": [
        "plt.hist(bcs['if_survived'])\n",
        "bcs['if_survived'].value_counts()/len(bcs['if_survived'])"
      ],
      "execution_count": 0,
      "outputs": []
    },
    {
      "metadata": {
        "id": "4wuYlCMXcU7M",
        "colab_type": "code",
        "colab": {}
      },
      "cell_type": "code",
      "source": [
        "plt.scatter(bcs['if_survived'], bcs['pos nodes'])"
      ],
      "execution_count": 0,
      "outputs": []
    },
    {
      "metadata": {
        "id": "wbJRBasCis3h",
        "colab_type": "code",
        "colab": {}
      },
      "cell_type": "code",
      "source": [
        "plt.scatter(bcs['age'], bcs['if_survived'])"
      ],
      "execution_count": 0,
      "outputs": []
    },
    {
      "metadata": {
        "id": "-5XlkmevVBlQ",
        "colab_type": "code",
        "colab": {}
      },
      "cell_type": "code",
      "source": [
        "oper_year_bin = pd.cut(bcs['operation year 1900+'], bins=[0, 58, 61, 63, 65, 69])\n",
        "age_bin = pd.cut(bcs['age'], bins=[0, 30, 35, 41,42,43, 44,45,46, 51,54, 57, 62, 67, 73, 78, 83])\n",
        "pos_nodes_bin = pd.cut(bcs['pos nodes'], 5)\n"
      ],
      "execution_count": 0,
      "outputs": []
    },
    {
      "metadata": {
        "id": "C2seVtooWDn3",
        "colab_type": "code",
        "colab": {}
      },
      "cell_type": "code",
      "source": [
        "pd.crosstab(bcs['if_survived'], oper_year_bin, normalize='columns')"
      ],
      "execution_count": 0,
      "outputs": []
    },
    {
      "metadata": {
        "id": "s8bBiZIlW4gm",
        "colab_type": "code",
        "colab": {}
      },
      "cell_type": "code",
      "source": [
        "pd.crosstab(bcs['if_survived'], bcs['operation year 1900+'], normalize='columns')"
      ],
      "execution_count": 0,
      "outputs": []
    },
    {
      "metadata": {
        "id": "Nuud0OrYXJyA",
        "colab_type": "code",
        "colab": {}
      },
      "cell_type": "code",
      "source": [
        "pd.crosstab(bcs['if_survived'], age_bin, normalize='columns')"
      ],
      "execution_count": 0,
      "outputs": []
    },
    {
      "metadata": {
        "id": "uqA202HnkU-J",
        "colab_type": "code",
        "colab": {}
      },
      "cell_type": "code",
      "source": [
        "plt.plot(bcs['age'], bcs['pos nodes'])"
      ],
      "execution_count": 0,
      "outputs": []
    },
    {
      "metadata": {
        "id": "3OsijSAjZJY3",
        "colab_type": "code",
        "colab": {}
      },
      "cell_type": "code",
      "source": [
        "pointsize = 20;\n",
        "plt.xlabel('operation year')\n",
        "plt.ylabel('age')\n",
        "plt.title('Survival vs operation year vs age')\n",
        "plt.scatter(bcs['operation year 1900+'], bcs['age'], pointsize, bcs['if_survived']);"
      ],
      "execution_count": 0,
      "outputs": []
    },
    {
      "metadata": {
        "id": "m_add8LwZ5Q9",
        "colab_type": "code",
        "colab": {}
      },
      "cell_type": "code",
      "source": [
        "fig, ax = plt.subplots(figsize=(16,10))\n",
        "sns.heatmap(bcs, annot=True, linewidths=.5, cmap=\"YlGnBu\", ax=ax);"
      ],
      "execution_count": 0,
      "outputs": []
    },
    {
      "metadata": {
        "id": "9US8wROAaJzL",
        "colab_type": "code",
        "colab": {}
      },
      "cell_type": "code",
      "source": [
        "age_bin2 = pd.cut(bcs['age'], bins=[0, 35, 41,46, 51, 57, 62, 73, 83])\n",
        "\n",
        "ds = pd.crosstab([bcs['if_survived'], oper_year_bin], age_bin2, bcs['if_survived'])\n",
        "ds.plot(kind='bar', stacked=True)"
      ],
      "execution_count": 0,
      "outputs": []
    },
    {
      "metadata": {
        "id": "aXWJRM1cczu7",
        "colab_type": "code",
        "colab": {}
      },
      "cell_type": "code",
      "source": [
        "ds2 = pd.crosstab([pos_nodes_bin, age_bin2], bcs['if_survived'], normalize='columns')\n",
        "ds2"
      ],
      "execution_count": 0,
      "outputs": []
    },
    {
      "metadata": {
        "id": "jvofGbdFeJmg",
        "colab_type": "code",
        "colab": {}
      },
      "cell_type": "code",
      "source": [
        "ds2.plot(kind='bar', stacked=False)\n"
      ],
      "execution_count": 0,
      "outputs": []
    },
    {
      "metadata": {
        "id": "L1qP7tr3ooie",
        "colab_type": "code",
        "colab": {}
      },
      "cell_type": "code",
      "source": [
        "#The data above shows that 58-59 and 65 years of operation are the years when the\n",
        "#survival rate is lower, will try to figure out the reason\n",
        "\n",
        "is_58 =  bcs['operation year 1900+'] <= 59\n",
        "is_65 = bcs['operation year 1900+'] == 65"
      ],
      "execution_count": 0,
      "outputs": []
    },
    {
      "metadata": {
        "id": "QrLqlcsZpSs-",
        "colab_type": "code",
        "colab": {}
      },
      "cell_type": "code",
      "source": [
        "bcs_58 = bcs[is_58]\n",
        "bcs_65 = bcs[is_65]"
      ],
      "execution_count": 0,
      "outputs": []
    },
    {
      "metadata": {
        "id": "OfnGOdVkv9L9",
        "colab_type": "code",
        "colab": {}
      },
      "cell_type": "code",
      "source": [
        "print(bcs['if_survived'].value_counts()/len(bcs['if_survived']))\n",
        "print(bcs_58['if_survived'].value_counts()/len(bcs_58['if_survived']))\n",
        "print(bcs_65['if_survived'].value_counts()/len(bcs_65['if_survived']))\n"
      ],
      "execution_count": 0,
      "outputs": []
    },
    {
      "metadata": {
        "id": "8a9B4WWrpZd3",
        "colab_type": "code",
        "colab": {}
      },
      "cell_type": "code",
      "source": [
        "bcs_58.describe()\n",
        "plt.hist(bcs_58['age'])"
      ],
      "execution_count": 0,
      "outputs": []
    },
    {
      "metadata": {
        "id": "-Rs9LMwsv3yZ",
        "colab_type": "code",
        "colab": {}
      },
      "cell_type": "code",
      "source": [
        "bcs_65.describe()\n",
        "plt.hist(bcs_65['age'])"
      ],
      "execution_count": 0,
      "outputs": []
    },
    {
      "metadata": {
        "id": "4ZHh5dnNr2Es",
        "colab_type": "code",
        "colab": {}
      },
      "cell_type": "code",
      "source": [
        "bcs['age'].describe()"
      ],
      "execution_count": 0,
      "outputs": []
    },
    {
      "metadata": {
        "id": "xs8J-7ocx0KU",
        "colab_type": "code",
        "colab": {}
      },
      "cell_type": "code",
      "source": [
        "bcs_58['age'].describe()"
      ],
      "execution_count": 0,
      "outputs": []
    },
    {
      "metadata": {
        "id": "AZ7bHXHLx5NY",
        "colab_type": "code",
        "colab": {}
      },
      "cell_type": "code",
      "source": [
        "bcs_65['age'].describe()"
      ],
      "execution_count": 0,
      "outputs": []
    },
    {
      "metadata": {
        "id": "zhzd14vvrggL",
        "colab_type": "code",
        "colab": {}
      },
      "cell_type": "code",
      "source": [
        "ds_65 = pd.crosstab([pos_nodes_bin, age_bin2], bcs['if_survived'], normalize='columns')\n",
        "ds_65.plot(kind='bar', stacked=False)"
      ],
      "execution_count": 0,
      "outputs": []
    },
    {
      "metadata": {
        "id": "YZB7oD-7zNDy",
        "colab_type": "code",
        "colab": {}
      },
      "cell_type": "code",
      "source": [
        "ds_58 = pd.crosstab([pos_nodes_bin, age_bin2], bcs['if_survived'], normalize='columns')\n",
        "ds_58.plot(kind='bar', stacked=False)"
      ],
      "execution_count": 0,
      "outputs": []
    },
    {
      "metadata": {
        "id": "ZM8JckA2bgnp",
        "colab_type": "text"
      },
      "cell_type": "markdown",
      "source": [
        "## Part 3 - Analysis and Interpretation\n",
        "\n",
        "Now that you've looked at the data, answer the following questions:\n",
        "\n",
        "- What is at least one feature that looks to have a positive correlation with survival?\n",
        "- What is at least one feature that looks to have a negative correlation with survival?\n",
        "- How are those two features related with each other, and what might that mean?\n",
        "\n",
        "Answer with text, but feel free to intersperse example code/results or refer to it from earlier."
      ]
    },
    {
      "metadata": {
        "id": "u_s7yF0kb6YU",
        "colab_type": "text"
      },
      "cell_type": "markdown",
      "source": [
        "Patients, who were operated before 41 years old, or after 78 years old, tend to survive more often. The data shows that after the age of 41 the probability of survival after a breast cancer operation  drops dramatically, from 86%  for patients before 41 years old, to 77% at the age of 41 and 42% at the age of 46. \n",
        "The number of positive axillary nodes are the highest at the age ranges where survival probability is low. The features contributing to survival rate have positive correlation, they are confounding. More domain specific data is required to detect which of the features cause another one, at the same time following intuitive logic, age might be the factor causing the number of positive axillary nodes to increase.\n",
        "\n",
        "There are drops in the survival rates in 58-59 and 65 years, to 66% and 53% respectively. The age distribution for those year shows almost no difference with the rest data, additional factors should be investigated for those years, maybe medicine used, new surgeon practices, etc."
      ]
    }
  ]
}