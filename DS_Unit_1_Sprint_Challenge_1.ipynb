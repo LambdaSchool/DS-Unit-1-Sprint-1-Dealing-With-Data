{
  "nbformat": 4,
  "nbformat_minor": 0,
  "metadata": {
    "colab": {
      "name": "DS_Unit_1_Sprint_Challenge_1.ipynb",
      "version": "0.3.2",
      "provenance": [],
      "collapsed_sections": [],
      "include_colab_link": true
    },
    "kernelspec": {
      "name": "python3",
      "display_name": "Python 3"
    }
  },
  "cells": [
    {
      "cell_type": "markdown",
      "metadata": {
        "id": "view-in-github",
        "colab_type": "text"
      },
      "source": [
        "<a href=\"https://colab.research.google.com/github/mbrady4/DS-Unit-1-Sprint-1-Dealing-With-Data/blob/master/DS_Unit_1_Sprint_Challenge_1.ipynb\" target=\"_parent\"><img src=\"https://colab.research.google.com/assets/colab-badge.svg\" alt=\"Open In Colab\"/></a>"
      ]
    },
    {
      "metadata": {
        "id": "NooAiTdnafkz",
        "colab_type": "text"
      },
      "cell_type": "markdown",
      "source": [
        "# Data Science Unit 1 Sprint Challenge 1\n",
        "\n",
        "## Loading, cleaning, visualizing, and analyzing data\n",
        "\n",
        "In this sprint challenge you will look at a dataset of the survival of patients who underwent surgery for breast cancer.\n",
        "\n",
        "http://archive.ics.uci.edu/ml/datasets/Haberman%27s+Survival\n",
        "\n",
        "Data Set Information:\n",
        "The dataset contains cases from a study that was conducted between 1958 and 1970 at the University of Chicago's Billings Hospital on the survival of patients who had undergone surgery for breast cancer.\n",
        "\n",
        "Attribute Information:\n",
        "1. Age of patient at time of operation (numerical)\n",
        "2. Patient's year of operation (year - 1900, numerical)\n",
        "3. Number of positive axillary nodes detected (numerical)\n",
        "4. Survival status (class attribute)\n",
        "-- 1 = the patient survived 5 years or longer\n",
        "-- 2 = the patient died within 5 year\n",
        "\n",
        "Sprint challenges are evaluated based on satisfactory completion of each part. It is suggested you work through it in order, getting each aspect reasonably working, before trying to deeply explore, iterate, or refine any given step. Once you get to the end, if you want to go back and improve things, go for it!"
      ]
    },
    {
      "metadata": {
        "id": "5wch6ksCbJtZ",
        "colab_type": "text"
      },
      "cell_type": "markdown",
      "source": [
        "## Part 1 - Load and validate the data\n",
        "\n",
        "- Load the data as a `pandas` data frame.\n",
        "- Validate that it has the appropriate number of observations (you can check the raw file, and also read the dataset description from UCI).\n",
        "- Validate that you have no missing values.\n",
        "- Add informative names to the features.\n",
        "- The survival variable is encoded as 1 for surviving >5 years and 2 for not - change this to be 0 for not surviving and 1 for surviving >5 years (0/1 is a more traditional encoding of binary variables)\n",
        "\n",
        "At the end, print the first five rows of the dataset to demonstrate the above."
      ]
    },
    {
      "metadata": {
        "id": "287TpoGKFRVK",
        "colab_type": "code",
        "outputId": "2ec55aab-3815-4c7c-ffc5-143367b04a1e",
        "colab": {
          "base_uri": "https://localhost:8080/",
          "height": 34
        }
      },
      "cell_type": "code",
      "source": [
        "import numpy as np \n",
        "import pandas as pd\n",
        "import matplotlib.pyplot as plt\n",
        "import seaborn as sns\n",
        "\n",
        "#Import dataset with informative feature names\n",
        "df = pd.read_csv('http://archive.ics.uci.edu/ml/machine-learning-databases/haberman/haberman.data', header=None,\n",
        "                      names=['Age at time of operation', 'Year of operation', 'Number of Positive Nodes','Survival Status'])\n",
        "\n",
        "#Make copy with descriptive name\n",
        "survival = df.copy()\n",
        "\n",
        "#Number of observations matches number listed on UCI description page\n",
        "survival.shape"
      ],
      "execution_count": 0,
      "outputs": [
        {
          "output_type": "execute_result",
          "data": {
            "text/plain": [
              "(306, 4)"
            ]
          },
          "metadata": {
            "tags": []
          },
          "execution_count": 158
        }
      ]
    },
    {
      "metadata": {
        "id": "p-bqbCpN-lEQ",
        "colab_type": "code",
        "outputId": "7df7d170-568e-4f19-8ce7-080166e029ca",
        "colab": {
          "base_uri": "https://localhost:8080/",
          "height": 359
        }
      },
      "cell_type": "code",
      "source": [
        "#Verify import worked as expected\n",
        "survival.head(10)"
      ],
      "execution_count": 0,
      "outputs": [
        {
          "output_type": "execute_result",
          "data": {
            "text/html": [
              "<div>\n",
              "<style scoped>\n",
              "    .dataframe tbody tr th:only-of-type {\n",
              "        vertical-align: middle;\n",
              "    }\n",
              "\n",
              "    .dataframe tbody tr th {\n",
              "        vertical-align: top;\n",
              "    }\n",
              "\n",
              "    .dataframe thead th {\n",
              "        text-align: right;\n",
              "    }\n",
              "</style>\n",
              "<table border=\"1\" class=\"dataframe\">\n",
              "  <thead>\n",
              "    <tr style=\"text-align: right;\">\n",
              "      <th></th>\n",
              "      <th>Age at time of operation</th>\n",
              "      <th>Year of operation</th>\n",
              "      <th>Number of Positive Nodes</th>\n",
              "      <th>Survival Status</th>\n",
              "    </tr>\n",
              "  </thead>\n",
              "  <tbody>\n",
              "    <tr>\n",
              "      <th>0</th>\n",
              "      <td>30</td>\n",
              "      <td>64</td>\n",
              "      <td>1</td>\n",
              "      <td>1</td>\n",
              "    </tr>\n",
              "    <tr>\n",
              "      <th>1</th>\n",
              "      <td>30</td>\n",
              "      <td>62</td>\n",
              "      <td>3</td>\n",
              "      <td>1</td>\n",
              "    </tr>\n",
              "    <tr>\n",
              "      <th>2</th>\n",
              "      <td>30</td>\n",
              "      <td>65</td>\n",
              "      <td>0</td>\n",
              "      <td>1</td>\n",
              "    </tr>\n",
              "    <tr>\n",
              "      <th>3</th>\n",
              "      <td>31</td>\n",
              "      <td>59</td>\n",
              "      <td>2</td>\n",
              "      <td>1</td>\n",
              "    </tr>\n",
              "    <tr>\n",
              "      <th>4</th>\n",
              "      <td>31</td>\n",
              "      <td>65</td>\n",
              "      <td>4</td>\n",
              "      <td>1</td>\n",
              "    </tr>\n",
              "    <tr>\n",
              "      <th>5</th>\n",
              "      <td>33</td>\n",
              "      <td>58</td>\n",
              "      <td>10</td>\n",
              "      <td>1</td>\n",
              "    </tr>\n",
              "    <tr>\n",
              "      <th>6</th>\n",
              "      <td>33</td>\n",
              "      <td>60</td>\n",
              "      <td>0</td>\n",
              "      <td>1</td>\n",
              "    </tr>\n",
              "    <tr>\n",
              "      <th>7</th>\n",
              "      <td>34</td>\n",
              "      <td>59</td>\n",
              "      <td>0</td>\n",
              "      <td>2</td>\n",
              "    </tr>\n",
              "    <tr>\n",
              "      <th>8</th>\n",
              "      <td>34</td>\n",
              "      <td>66</td>\n",
              "      <td>9</td>\n",
              "      <td>2</td>\n",
              "    </tr>\n",
              "    <tr>\n",
              "      <th>9</th>\n",
              "      <td>34</td>\n",
              "      <td>58</td>\n",
              "      <td>30</td>\n",
              "      <td>1</td>\n",
              "    </tr>\n",
              "  </tbody>\n",
              "</table>\n",
              "</div>"
            ],
            "text/plain": [
              "   Age at time of operation  Year of operation  Number of Positive Nodes  \\\n",
              "0                        30                 64                         1   \n",
              "1                        30                 62                         3   \n",
              "2                        30                 65                         0   \n",
              "3                        31                 59                         2   \n",
              "4                        31                 65                         4   \n",
              "5                        33                 58                        10   \n",
              "6                        33                 60                         0   \n",
              "7                        34                 59                         0   \n",
              "8                        34                 66                         9   \n",
              "9                        34                 58                        30   \n",
              "\n",
              "   Survival Status  \n",
              "0                1  \n",
              "1                1  \n",
              "2                1  \n",
              "3                1  \n",
              "4                1  \n",
              "5                1  \n",
              "6                1  \n",
              "7                2  \n",
              "8                2  \n",
              "9                1  "
            ]
          },
          "metadata": {
            "tags": []
          },
          "execution_count": 159
        }
      ]
    },
    {
      "metadata": {
        "id": "UIwrkOSV9eB1",
        "colab_type": "code",
        "outputId": "66bb8fff-c25d-432e-8e56-33a5b881e14f",
        "colab": {
          "base_uri": "https://localhost:8080/",
          "height": 102
        }
      },
      "cell_type": "code",
      "source": [
        "#Verify that are no missing values\n",
        "survival.isnull().sum()"
      ],
      "execution_count": 0,
      "outputs": [
        {
          "output_type": "execute_result",
          "data": {
            "text/plain": [
              "Age at time of operation    0\n",
              "Year of operation           0\n",
              "Number of Positive Nodes    0\n",
              "Survival Status             0\n",
              "dtype: int64"
            ]
          },
          "metadata": {
            "tags": []
          },
          "execution_count": 160
        }
      ]
    },
    {
      "metadata": {
        "id": "qQkG4oOm96_o",
        "colab_type": "code",
        "outputId": "8cc1dbcf-30dd-4179-e6dd-af7b2d32854b",
        "colab": {
          "base_uri": "https://localhost:8080/",
          "height": 170
        }
      },
      "cell_type": "code",
      "source": [
        "#Final verification that no further cleaning is needed for now\n",
        "survival.info()"
      ],
      "execution_count": 0,
      "outputs": [
        {
          "output_type": "stream",
          "text": [
            "<class 'pandas.core.frame.DataFrame'>\n",
            "RangeIndex: 306 entries, 0 to 305\n",
            "Data columns (total 4 columns):\n",
            "Age at time of operation    306 non-null int64\n",
            "Year of operation           306 non-null int64\n",
            "Number of Positive Nodes    306 non-null int64\n",
            "Survival Status             306 non-null int64\n",
            "dtypes: int64(4)\n",
            "memory usage: 9.6 KB\n"
          ],
          "name": "stdout"
        }
      ]
    },
    {
      "metadata": {
        "id": "Zlh4oGnx9keA",
        "colab_type": "code",
        "outputId": "bf9f6897-731e-446f-9ae5-6cd61233f4ac",
        "colab": {
          "base_uri": "https://localhost:8080/",
          "height": 359
        }
      },
      "cell_type": "code",
      "source": [
        "#Changing Survival Variable to better reflect binary convention (0=false, 1=true)\n",
        "survival['Survival Status'] = survival['Survival Status'].replace(2, 0)\n",
        "\n",
        "#Verify that survival status exampeles with 2 have been changed to 0\n",
        "survival.head(10)"
      ],
      "execution_count": 0,
      "outputs": [
        {
          "output_type": "execute_result",
          "data": {
            "text/html": [
              "<div>\n",
              "<style scoped>\n",
              "    .dataframe tbody tr th:only-of-type {\n",
              "        vertical-align: middle;\n",
              "    }\n",
              "\n",
              "    .dataframe tbody tr th {\n",
              "        vertical-align: top;\n",
              "    }\n",
              "\n",
              "    .dataframe thead th {\n",
              "        text-align: right;\n",
              "    }\n",
              "</style>\n",
              "<table border=\"1\" class=\"dataframe\">\n",
              "  <thead>\n",
              "    <tr style=\"text-align: right;\">\n",
              "      <th></th>\n",
              "      <th>Age at time of operation</th>\n",
              "      <th>Year of operation</th>\n",
              "      <th>Number of Positive Nodes</th>\n",
              "      <th>Survival Status</th>\n",
              "    </tr>\n",
              "  </thead>\n",
              "  <tbody>\n",
              "    <tr>\n",
              "      <th>0</th>\n",
              "      <td>30</td>\n",
              "      <td>64</td>\n",
              "      <td>1</td>\n",
              "      <td>1</td>\n",
              "    </tr>\n",
              "    <tr>\n",
              "      <th>1</th>\n",
              "      <td>30</td>\n",
              "      <td>62</td>\n",
              "      <td>3</td>\n",
              "      <td>1</td>\n",
              "    </tr>\n",
              "    <tr>\n",
              "      <th>2</th>\n",
              "      <td>30</td>\n",
              "      <td>65</td>\n",
              "      <td>0</td>\n",
              "      <td>1</td>\n",
              "    </tr>\n",
              "    <tr>\n",
              "      <th>3</th>\n",
              "      <td>31</td>\n",
              "      <td>59</td>\n",
              "      <td>2</td>\n",
              "      <td>1</td>\n",
              "    </tr>\n",
              "    <tr>\n",
              "      <th>4</th>\n",
              "      <td>31</td>\n",
              "      <td>65</td>\n",
              "      <td>4</td>\n",
              "      <td>1</td>\n",
              "    </tr>\n",
              "    <tr>\n",
              "      <th>5</th>\n",
              "      <td>33</td>\n",
              "      <td>58</td>\n",
              "      <td>10</td>\n",
              "      <td>1</td>\n",
              "    </tr>\n",
              "    <tr>\n",
              "      <th>6</th>\n",
              "      <td>33</td>\n",
              "      <td>60</td>\n",
              "      <td>0</td>\n",
              "      <td>1</td>\n",
              "    </tr>\n",
              "    <tr>\n",
              "      <th>7</th>\n",
              "      <td>34</td>\n",
              "      <td>59</td>\n",
              "      <td>0</td>\n",
              "      <td>0</td>\n",
              "    </tr>\n",
              "    <tr>\n",
              "      <th>8</th>\n",
              "      <td>34</td>\n",
              "      <td>66</td>\n",
              "      <td>9</td>\n",
              "      <td>0</td>\n",
              "    </tr>\n",
              "    <tr>\n",
              "      <th>9</th>\n",
              "      <td>34</td>\n",
              "      <td>58</td>\n",
              "      <td>30</td>\n",
              "      <td>1</td>\n",
              "    </tr>\n",
              "  </tbody>\n",
              "</table>\n",
              "</div>"
            ],
            "text/plain": [
              "   Age at time of operation  Year of operation  Number of Positive Nodes  \\\n",
              "0                        30                 64                         1   \n",
              "1                        30                 62                         3   \n",
              "2                        30                 65                         0   \n",
              "3                        31                 59                         2   \n",
              "4                        31                 65                         4   \n",
              "5                        33                 58                        10   \n",
              "6                        33                 60                         0   \n",
              "7                        34                 59                         0   \n",
              "8                        34                 66                         9   \n",
              "9                        34                 58                        30   \n",
              "\n",
              "   Survival Status  \n",
              "0                1  \n",
              "1                1  \n",
              "2                1  \n",
              "3                1  \n",
              "4                1  \n",
              "5                1  \n",
              "6                1  \n",
              "7                0  \n",
              "8                0  \n",
              "9                1  "
            ]
          },
          "metadata": {
            "tags": []
          },
          "execution_count": 162
        }
      ]
    },
    {
      "metadata": {
        "id": "G7rLytbrO38L",
        "colab_type": "text"
      },
      "cell_type": "markdown",
      "source": [
        "## Part 2 - Examine the distribution and relationships of the features\n",
        "\n",
        "Explore the data - create at least *2* tables (can be summary statistics or crosstabulations) and *2* plots illustrating the nature of the data.\n",
        "\n",
        "This is open-ended, so to remind - first *complete* this task as a baseline, then go on to the remaining sections, and *then* as time allows revisit and explore further.\n",
        "\n",
        "Hint - you may need to bin some variables depending on your chosen tables/plots."
      ]
    },
    {
      "metadata": {
        "id": "IAkllgCIFVj0",
        "colab_type": "code",
        "outputId": "13c70dd7-1ff3-477b-c474-194a920b4163",
        "colab": {
          "base_uri": "https://localhost:8080/",
          "height": 297
        }
      },
      "cell_type": "code",
      "source": [
        "#Generate initial overview of dataset\n",
        "survival.describe()"
      ],
      "execution_count": 0,
      "outputs": [
        {
          "output_type": "execute_result",
          "data": {
            "text/html": [
              "<div>\n",
              "<style scoped>\n",
              "    .dataframe tbody tr th:only-of-type {\n",
              "        vertical-align: middle;\n",
              "    }\n",
              "\n",
              "    .dataframe tbody tr th {\n",
              "        vertical-align: top;\n",
              "    }\n",
              "\n",
              "    .dataframe thead th {\n",
              "        text-align: right;\n",
              "    }\n",
              "</style>\n",
              "<table border=\"1\" class=\"dataframe\">\n",
              "  <thead>\n",
              "    <tr style=\"text-align: right;\">\n",
              "      <th></th>\n",
              "      <th>Age at time of operation</th>\n",
              "      <th>Year of operation</th>\n",
              "      <th>Number of Positive Nodes</th>\n",
              "      <th>Survival Status</th>\n",
              "    </tr>\n",
              "  </thead>\n",
              "  <tbody>\n",
              "    <tr>\n",
              "      <th>count</th>\n",
              "      <td>306.000000</td>\n",
              "      <td>306.000000</td>\n",
              "      <td>306.000000</td>\n",
              "      <td>306.000000</td>\n",
              "    </tr>\n",
              "    <tr>\n",
              "      <th>mean</th>\n",
              "      <td>52.457516</td>\n",
              "      <td>62.852941</td>\n",
              "      <td>4.026144</td>\n",
              "      <td>0.735294</td>\n",
              "    </tr>\n",
              "    <tr>\n",
              "      <th>std</th>\n",
              "      <td>10.803452</td>\n",
              "      <td>3.249405</td>\n",
              "      <td>7.189654</td>\n",
              "      <td>0.441899</td>\n",
              "    </tr>\n",
              "    <tr>\n",
              "      <th>min</th>\n",
              "      <td>30.000000</td>\n",
              "      <td>58.000000</td>\n",
              "      <td>0.000000</td>\n",
              "      <td>0.000000</td>\n",
              "    </tr>\n",
              "    <tr>\n",
              "      <th>25%</th>\n",
              "      <td>44.000000</td>\n",
              "      <td>60.000000</td>\n",
              "      <td>0.000000</td>\n",
              "      <td>0.000000</td>\n",
              "    </tr>\n",
              "    <tr>\n",
              "      <th>50%</th>\n",
              "      <td>52.000000</td>\n",
              "      <td>63.000000</td>\n",
              "      <td>1.000000</td>\n",
              "      <td>1.000000</td>\n",
              "    </tr>\n",
              "    <tr>\n",
              "      <th>75%</th>\n",
              "      <td>60.750000</td>\n",
              "      <td>65.750000</td>\n",
              "      <td>4.000000</td>\n",
              "      <td>1.000000</td>\n",
              "    </tr>\n",
              "    <tr>\n",
              "      <th>max</th>\n",
              "      <td>83.000000</td>\n",
              "      <td>69.000000</td>\n",
              "      <td>52.000000</td>\n",
              "      <td>1.000000</td>\n",
              "    </tr>\n",
              "  </tbody>\n",
              "</table>\n",
              "</div>"
            ],
            "text/plain": [
              "       Age at time of operation  Year of operation  Number of Positive Nodes  \\\n",
              "count                306.000000         306.000000                306.000000   \n",
              "mean                  52.457516          62.852941                  4.026144   \n",
              "std                   10.803452           3.249405                  7.189654   \n",
              "min                   30.000000          58.000000                  0.000000   \n",
              "25%                   44.000000          60.000000                  0.000000   \n",
              "50%                   52.000000          63.000000                  1.000000   \n",
              "75%                   60.750000          65.750000                  4.000000   \n",
              "max                   83.000000          69.000000                 52.000000   \n",
              "\n",
              "       Survival Status  \n",
              "count       306.000000  \n",
              "mean          0.735294  \n",
              "std           0.441899  \n",
              "min           0.000000  \n",
              "25%           0.000000  \n",
              "50%           1.000000  \n",
              "75%           1.000000  \n",
              "max           1.000000  "
            ]
          },
          "metadata": {
            "tags": []
          },
          "execution_count": 163
        }
      ]
    },
    {
      "metadata": {
        "id": "jhu9ptgjdjNv",
        "colab_type": "text"
      },
      "cell_type": "markdown",
      "source": [
        "The first relationship I want to investigate is between a patient's age and the number of positive nodes a patient has. Note, see section three for discussion of why the dataset may be misrepresenting this relationship. "
      ]
    },
    {
      "metadata": {
        "id": "D9Hrcj5b_B3v",
        "colab_type": "code",
        "outputId": "ba93c3a3-6bb2-4787-c73b-5f51f874f384",
        "colab": {
          "base_uri": "https://localhost:8080/",
          "height": 547
        }
      },
      "cell_type": "code",
      "source": [
        "#Create scatterplot to investigate relation between age and positive nodes\n",
        "plt.style.use('ggplot')\n",
        "plt.figure(figsize=(16,8))\n",
        "\n",
        "plt.title('There is not a clear link between age and number of positive nodes')\n",
        "plt.xlabel('Age at time of operation')\n",
        "plt.ylabel('Number of positive nodes')\n",
        "plt.scatter(survival['Age at time of operation'], survival['Number of Positive Nodes'],\n",
        "           #Added transparency to better show clumping\n",
        "           alpha=0.7,\n",
        "           #Set color of dot, white dots mean survival=0, black dots mean survial = 1\n",
        "           c=survival['Survival Status'])\n",
        "plt.show()"
      ],
      "execution_count": 0,
      "outputs": [
        {
          "output_type": "display_data",
          "data": {
            "image/png": "[encoded data removed]",
            "text/plain": [
              "<Figure size 1152x576 with 1 Axes>"
            ]
          },
          "metadata": {
            "tags": []
          }
        }
      ]
    },
    {
      "metadata": {
        "id": "_QUj4khOd4zL",
        "colab_type": "text"
      },
      "cell_type": "markdown",
      "source": [
        "Next, I want to investigate the relationship between number of positive nodes and whether a patient survives for more than five years or not. Note, I created custom bins for the number of postive nodes because the distribution of nodes skews heavily toward low values with a few high value outliers. "
      ]
    },
    {
      "metadata": {
        "id": "-PzJrjPrAxU1",
        "colab_type": "code",
        "outputId": "d015c753-fbbc-4935-f0ad-158dcc673fa1",
        "colab": {
          "base_uri": "https://localhost:8080/",
          "height": 142
        }
      },
      "cell_type": "code",
      "source": [
        "#Bin \"Number of positive nodes\" for better readability (superceded by custom bin)\n",
        "nodes_bin = pd.cut(survival['Number of Positive Nodes'], 10)\n",
        "#Initial cross tab that was superceded by custom_binned version\n",
        "pd.crosstab(survival['Survival Status'],nodes_bin, normalize='columns')\n",
        "\n",
        "#Create copy of dataframe for this specific analysis\n",
        "survival_bin = survival.copy()\n",
        "\n",
        "#Create custom bins for the number of positive nodes\n",
        "custom_bins = [-1, 1, 2, 5, 10, 52]\n",
        "survival_bin['node_bin'] = pd.cut(survival_bin['Number of Positive Nodes'], custom_bins)\n",
        "\n",
        "#Create Two Variable Crosstab Between Survival Status and Number of Positive Nodes\n",
        "node_ct = pd.crosstab(survival_bin['Survival Status'],survival_bin['node_bin'], \n",
        "                      #Values in crosstab table represent % of column total\n",
        "                      normalize='columns')\n",
        "node_ct"
      ],
      "execution_count": 0,
      "outputs": [
        {
          "output_type": "execute_result",
          "data": {
            "text/html": [
              "<div>\n",
              "<style scoped>\n",
              "    .dataframe tbody tr th:only-of-type {\n",
              "        vertical-align: middle;\n",
              "    }\n",
              "\n",
              "    .dataframe tbody tr th {\n",
              "        vertical-align: top;\n",
              "    }\n",
              "\n",
              "    .dataframe thead th {\n",
              "        text-align: right;\n",
              "    }\n",
              "</style>\n",
              "<table border=\"1\" class=\"dataframe\">\n",
              "  <thead>\n",
              "    <tr style=\"text-align: right;\">\n",
              "      <th>node_bin</th>\n",
              "      <th>(-1, 1]</th>\n",
              "      <th>(1, 2]</th>\n",
              "      <th>(2, 5]</th>\n",
              "      <th>(5, 10]</th>\n",
              "      <th>(10, 52]</th>\n",
              "    </tr>\n",
              "    <tr>\n",
              "      <th>Survival Status</th>\n",
              "      <th></th>\n",
              "      <th></th>\n",
              "      <th></th>\n",
              "      <th></th>\n",
              "      <th></th>\n",
              "    </tr>\n",
              "  </thead>\n",
              "  <tbody>\n",
              "    <tr>\n",
              "      <th>0</th>\n",
              "      <td>0.152542</td>\n",
              "      <td>0.25</td>\n",
              "      <td>0.358974</td>\n",
              "      <td>0.4</td>\n",
              "      <td>0.575</td>\n",
              "    </tr>\n",
              "    <tr>\n",
              "      <th>1</th>\n",
              "      <td>0.847458</td>\n",
              "      <td>0.75</td>\n",
              "      <td>0.641026</td>\n",
              "      <td>0.6</td>\n",
              "      <td>0.425</td>\n",
              "    </tr>\n",
              "  </tbody>\n",
              "</table>\n",
              "</div>"
            ],
            "text/plain": [
              "node_bin          (-1, 1]  (1, 2]    (2, 5]  (5, 10]  (10, 52]\n",
              "Survival Status                                               \n",
              "0                0.152542    0.25  0.358974      0.4     0.575\n",
              "1                0.847458    0.75  0.641026      0.6     0.425"
            ]
          },
          "metadata": {
            "tags": []
          },
          "execution_count": 173
        }
      ]
    },
    {
      "metadata": {
        "id": "ouuzM7raYkNS",
        "colab_type": "code",
        "outputId": "1fb95bc2-df44-4fca-846f-c952bc08e043",
        "colab": {
          "base_uri": "https://localhost:8080/",
          "height": 119
        }
      },
      "cell_type": "code",
      "source": [
        "#Distribution of examples across customer node bins\n",
        "survival_bin['node_bin'].value_counts()"
      ],
      "execution_count": 0,
      "outputs": [
        {
          "output_type": "execute_result",
          "data": {
            "text/plain": [
              "(-1, 1]     177\n",
              "(10, 52]     40\n",
              "(2, 5]       39\n",
              "(5, 10]      30\n",
              "(1, 2]       20\n",
              "Name: node_bin, dtype: int64"
            ]
          },
          "metadata": {
            "tags": []
          },
          "execution_count": 166
        }
      ]
    },
    {
      "metadata": {
        "id": "V4xBbhd2M-_J",
        "colab_type": "code",
        "outputId": "3f8b0cd3-3372-45a4-d4c5-f8e0883a7e45",
        "colab": {
          "base_uri": "https://localhost:8080/",
          "height": 402
        }
      },
      "cell_type": "code",
      "source": [
        "#Created heatmap to visualize the crosstab\n",
        "ax = sns.heatmap(node_ct,\n",
        "                #cmap='YlGnBu',\n",
        "                annot=True,\n",
        "                yticklabels=['Died', 'Survived'])\n",
        "ax.set(xlabel='Number of Positive Nodes', \n",
        "       ylabel='Chance of surviving beyond five years', \n",
        "       title='Chance of survival decreases as the number of positive nodes increases')\n",
        "plt.show()"
      ],
      "execution_count": 0,
      "outputs": [
        {
          "output_type": "display_data",
          "data": {
            "image/png": "[encoded data removed]",
            "text/plain": [
              "<Figure size 576x396 with 2 Axes>"
            ]
          },
          "metadata": {
            "tags": []
          }
        }
      ]
    },
    {
      "metadata": {
        "id": "xrIi5ZqTCIXD",
        "colab_type": "code",
        "outputId": "9b1d5eca-9b68-4524-c6c5-0aca3b97900f",
        "colab": {
          "base_uri": "https://localhost:8080/",
          "height": 328
        }
      },
      "cell_type": "code",
      "source": [
        "#Create three variable crosstab to explore relation between age, year of operation, and survival\n",
        "\n",
        "#Create bins for age and year of operation\n",
        "age_bins = pd.cut(survival['Age at time of operation'], 4)\n",
        "year_bins = pd.cut(survival['Year of operation'], 4)\n",
        "\n",
        "pd.crosstab([age_bins, survival['Survival Status']],year_bins,\n",
        "           rownames=['Age','Survival Status'],\n",
        "           colnames=['Year of Operation'])"
      ],
      "execution_count": 0,
      "outputs": [
        {
          "output_type": "execute_result",
          "data": {
            "text/html": [
              "<div>\n",
              "<style scoped>\n",
              "    .dataframe tbody tr th:only-of-type {\n",
              "        vertical-align: middle;\n",
              "    }\n",
              "\n",
              "    .dataframe tbody tr th {\n",
              "        vertical-align: top;\n",
              "    }\n",
              "\n",
              "    .dataframe thead th {\n",
              "        text-align: right;\n",
              "    }\n",
              "</style>\n",
              "<table border=\"1\" class=\"dataframe\">\n",
              "  <thead>\n",
              "    <tr style=\"text-align: right;\">\n",
              "      <th></th>\n",
              "      <th>Year of Operation</th>\n",
              "      <th>(57.989, 60.75]</th>\n",
              "      <th>(60.75, 63.5]</th>\n",
              "      <th>(63.5, 66.25]</th>\n",
              "      <th>(66.25, 69.0]</th>\n",
              "    </tr>\n",
              "    <tr>\n",
              "      <th>Age</th>\n",
              "      <th>Survival Status</th>\n",
              "      <th></th>\n",
              "      <th></th>\n",
              "      <th></th>\n",
              "      <th></th>\n",
              "    </tr>\n",
              "  </thead>\n",
              "  <tbody>\n",
              "    <tr>\n",
              "      <th rowspan=\"2\" valign=\"top\">(29.947, 43.25]</th>\n",
              "      <th>0</th>\n",
              "      <td>5</td>\n",
              "      <td>0</td>\n",
              "      <td>5</td>\n",
              "      <td>3</td>\n",
              "    </tr>\n",
              "    <tr>\n",
              "      <th>1</th>\n",
              "      <td>26</td>\n",
              "      <td>13</td>\n",
              "      <td>16</td>\n",
              "      <td>5</td>\n",
              "    </tr>\n",
              "    <tr>\n",
              "      <th rowspan=\"2\" valign=\"top\">(43.25, 56.5]</th>\n",
              "      <th>0</th>\n",
              "      <td>11</td>\n",
              "      <td>9</td>\n",
              "      <td>14</td>\n",
              "      <td>6</td>\n",
              "    </tr>\n",
              "    <tr>\n",
              "      <th>1</th>\n",
              "      <td>23</td>\n",
              "      <td>27</td>\n",
              "      <td>19</td>\n",
              "      <td>15</td>\n",
              "    </tr>\n",
              "    <tr>\n",
              "      <th rowspan=\"2\" valign=\"top\">(56.5, 69.75]</th>\n",
              "      <th>0</th>\n",
              "      <td>6</td>\n",
              "      <td>8</td>\n",
              "      <td>6</td>\n",
              "      <td>2</td>\n",
              "    </tr>\n",
              "    <tr>\n",
              "      <th>1</th>\n",
              "      <td>15</td>\n",
              "      <td>17</td>\n",
              "      <td>22</td>\n",
              "      <td>12</td>\n",
              "    </tr>\n",
              "    <tr>\n",
              "      <th rowspan=\"2\" valign=\"top\">(69.75, 83.0]</th>\n",
              "      <th>0</th>\n",
              "      <td>3</td>\n",
              "      <td>1</td>\n",
              "      <td>2</td>\n",
              "      <td>0</td>\n",
              "    </tr>\n",
              "    <tr>\n",
              "      <th>1</th>\n",
              "      <td>2</td>\n",
              "      <td>4</td>\n",
              "      <td>3</td>\n",
              "      <td>6</td>\n",
              "    </tr>\n",
              "  </tbody>\n",
              "</table>\n",
              "</div>"
            ],
            "text/plain": [
              "Year of Operation                (57.989, 60.75]  (60.75, 63.5]  \\\n",
              "Age             Survival Status                                   \n",
              "(29.947, 43.25] 0                              5              0   \n",
              "                1                             26             13   \n",
              "(43.25, 56.5]   0                             11              9   \n",
              "                1                             23             27   \n",
              "(56.5, 69.75]   0                              6              8   \n",
              "                1                             15             17   \n",
              "(69.75, 83.0]   0                              3              1   \n",
              "                1                              2              4   \n",
              "\n",
              "Year of Operation                (63.5, 66.25]  (66.25, 69.0]  \n",
              "Age             Survival Status                                \n",
              "(29.947, 43.25] 0                            5              3  \n",
              "                1                           16              5  \n",
              "(43.25, 56.5]   0                           14              6  \n",
              "                1                           19             15  \n",
              "(56.5, 69.75]   0                            6              2  \n",
              "                1                           22             12  \n",
              "(69.75, 83.0]   0                            2              0  \n",
              "                1                            3              6  "
            ]
          },
          "metadata": {
            "tags": []
          },
          "execution_count": 168
        }
      ]
    },
    {
      "metadata": {
        "id": "3koXb5GyEKso",
        "colab_type": "code",
        "outputId": "8c971b1b-f8b1-4e8a-d664-30eb70cc53c9",
        "colab": {
          "base_uri": "https://localhost:8080/",
          "height": 402
        }
      },
      "cell_type": "code",
      "source": [
        "#Histogram to show absolute number of surgeries occuring over time \n",
        "plt.title('Number of Surgeries Occuring Over Time')\n",
        "plt.xlabel('Year')\n",
        "plt.ylabel('Number of Surgeries')\n",
        "plt.hist(survival['Year of operation'], bins=10, alpha=0.75, width=1)\n",
        "\n",
        "plt.show()"
      ],
      "execution_count": 0,
      "outputs": [
        {
          "output_type": "display_data",
          "data": {
            "image/png": "[encoded data removed]",
            "text/plain": [
              "<Figure size 576x396 with 1 Axes>"
            ]
          },
          "metadata": {
            "tags": []
          }
        }
      ]
    },
    {
      "metadata": {
        "id": "ry78an91fvCG",
        "colab_type": "text"
      },
      "cell_type": "markdown",
      "source": [
        "Finally, I'd like to investigate the relationship between age and survival. When I first evaluated the data there was not a clear relationship. I believe this is because the wide variance in number of positive nodes was obscuring the data. Thus I adjusted the dataset to contain only patients with fewer than 5 positive nodes. While this approach has tradeoffs, it did allow for a strong comparision of how age impacts survival (while minimizing the influence of positive nodes)."
      ]
    },
    {
      "metadata": {
        "id": "r99rSUfTTJPK",
        "colab_type": "code",
        "outputId": "6a9a627c-f7f4-4f8b-be77-3d55a420bc81",
        "colab": {
          "base_uri": "https://localhost:8080/",
          "height": 297
        }
      },
      "cell_type": "code",
      "source": [
        "#Create copy of dataframe before altering data\n",
        "few_nodes = survival.copy()\n",
        "\n",
        "#Remove all exampels with 5+ postivie nodes\n",
        "few_nodes = few_nodes[few_nodes['Number of Positive Nodes'] < 5]\n",
        "\n",
        "#Verify that it worked\n",
        "few_nodes.describe()"
      ],
      "execution_count": 0,
      "outputs": [
        {
          "output_type": "execute_result",
          "data": {
            "text/html": [
              "<div>\n",
              "<style scoped>\n",
              "    .dataframe tbody tr th:only-of-type {\n",
              "        vertical-align: middle;\n",
              "    }\n",
              "\n",
              "    .dataframe tbody tr th {\n",
              "        vertical-align: top;\n",
              "    }\n",
              "\n",
              "    .dataframe thead th {\n",
              "        text-align: right;\n",
              "    }\n",
              "</style>\n",
              "<table border=\"1\" class=\"dataframe\">\n",
              "  <thead>\n",
              "    <tr style=\"text-align: right;\">\n",
              "      <th></th>\n",
              "      <th>Age at time of operation</th>\n",
              "      <th>Year of operation</th>\n",
              "      <th>Number of Positive Nodes</th>\n",
              "      <th>Survival Status</th>\n",
              "    </tr>\n",
              "  </thead>\n",
              "  <tbody>\n",
              "    <tr>\n",
              "      <th>count</th>\n",
              "      <td>230.000000</td>\n",
              "      <td>230.000000</td>\n",
              "      <td>230.000000</td>\n",
              "      <td>230.000000</td>\n",
              "    </tr>\n",
              "    <tr>\n",
              "      <th>mean</th>\n",
              "      <td>52.908696</td>\n",
              "      <td>62.800000</td>\n",
              "      <td>0.839130</td>\n",
              "      <td>0.817391</td>\n",
              "    </tr>\n",
              "    <tr>\n",
              "      <th>std</th>\n",
              "      <td>11.125933</td>\n",
              "      <td>3.283411</td>\n",
              "      <td>1.231053</td>\n",
              "      <td>0.387188</td>\n",
              "    </tr>\n",
              "    <tr>\n",
              "      <th>min</th>\n",
              "      <td>30.000000</td>\n",
              "      <td>58.000000</td>\n",
              "      <td>0.000000</td>\n",
              "      <td>0.000000</td>\n",
              "    </tr>\n",
              "    <tr>\n",
              "      <th>25%</th>\n",
              "      <td>44.000000</td>\n",
              "      <td>60.000000</td>\n",
              "      <td>0.000000</td>\n",
              "      <td>1.000000</td>\n",
              "    </tr>\n",
              "    <tr>\n",
              "      <th>50%</th>\n",
              "      <td>52.000000</td>\n",
              "      <td>63.000000</td>\n",
              "      <td>0.000000</td>\n",
              "      <td>1.000000</td>\n",
              "    </tr>\n",
              "    <tr>\n",
              "      <th>75%</th>\n",
              "      <td>61.000000</td>\n",
              "      <td>66.000000</td>\n",
              "      <td>1.000000</td>\n",
              "      <td>1.000000</td>\n",
              "    </tr>\n",
              "    <tr>\n",
              "      <th>max</th>\n",
              "      <td>83.000000</td>\n",
              "      <td>69.000000</td>\n",
              "      <td>4.000000</td>\n",
              "      <td>1.000000</td>\n",
              "    </tr>\n",
              "  </tbody>\n",
              "</table>\n",
              "</div>"
            ],
            "text/plain": [
              "       Age at time of operation  Year of operation  Number of Positive Nodes  \\\n",
              "count                230.000000         230.000000                230.000000   \n",
              "mean                  52.908696          62.800000                  0.839130   \n",
              "std                   11.125933           3.283411                  1.231053   \n",
              "min                   30.000000          58.000000                  0.000000   \n",
              "25%                   44.000000          60.000000                  0.000000   \n",
              "50%                   52.000000          63.000000                  0.000000   \n",
              "75%                   61.000000          66.000000                  1.000000   \n",
              "max                   83.000000          69.000000                  4.000000   \n",
              "\n",
              "       Survival Status  \n",
              "count       230.000000  \n",
              "mean          0.817391  \n",
              "std           0.387188  \n",
              "min           0.000000  \n",
              "25%           1.000000  \n",
              "50%           1.000000  \n",
              "75%           1.000000  \n",
              "max           1.000000  "
            ]
          },
          "metadata": {
            "tags": []
          },
          "execution_count": 170
        }
      ]
    },
    {
      "metadata": {
        "id": "cM8pJgrzKzki",
        "colab_type": "code",
        "outputId": "160aeb15-df51-4557-f646-426ab8f9ef5e",
        "colab": {
          "base_uri": "https://localhost:8080/",
          "height": 204
        }
      },
      "cell_type": "code",
      "source": [
        "#Create crosstab between age and survival. \n",
        "ct = pd.crosstab(age_bins, few_nodes['Survival Status'], normalize='index')"
      ],
      "execution_count": 0,
      "outputs": [
        {
          "output_type": "execute_result",
          "data": {
            "text/html": [
              "<div>\n",
              "<style scoped>\n",
              "    .dataframe tbody tr th:only-of-type {\n",
              "        vertical-align: middle;\n",
              "    }\n",
              "\n",
              "    .dataframe tbody tr th {\n",
              "        vertical-align: top;\n",
              "    }\n",
              "\n",
              "    .dataframe thead th {\n",
              "        text-align: right;\n",
              "    }\n",
              "</style>\n",
              "<table border=\"1\" class=\"dataframe\">\n",
              "  <thead>\n",
              "    <tr style=\"text-align: right;\">\n",
              "      <th>Survival Status</th>\n",
              "      <th>0</th>\n",
              "      <th>1</th>\n",
              "    </tr>\n",
              "    <tr>\n",
              "      <th>Age at time of operation</th>\n",
              "      <th></th>\n",
              "      <th></th>\n",
              "    </tr>\n",
              "  </thead>\n",
              "  <tbody>\n",
              "    <tr>\n",
              "      <th>(29.947, 43.25]</th>\n",
              "      <td>0.160714</td>\n",
              "      <td>0.839286</td>\n",
              "    </tr>\n",
              "    <tr>\n",
              "      <th>(43.25, 56.5]</th>\n",
              "      <td>0.195402</td>\n",
              "      <td>0.804598</td>\n",
              "    </tr>\n",
              "    <tr>\n",
              "      <th>(56.5, 69.75]</th>\n",
              "      <td>0.147059</td>\n",
              "      <td>0.852941</td>\n",
              "    </tr>\n",
              "    <tr>\n",
              "      <th>(69.75, 83.0]</th>\n",
              "      <td>0.315789</td>\n",
              "      <td>0.684211</td>\n",
              "    </tr>\n",
              "  </tbody>\n",
              "</table>\n",
              "</div>"
            ],
            "text/plain": [
              "Survival Status                  0         1\n",
              "Age at time of operation                    \n",
              "(29.947, 43.25]           0.160714  0.839286\n",
              "(43.25, 56.5]             0.195402  0.804598\n",
              "(56.5, 69.75]             0.147059  0.852941\n",
              "(69.75, 83.0]             0.315789  0.684211"
            ]
          },
          "metadata": {
            "tags": []
          },
          "execution_count": 171
        }
      ]
    },
    {
      "metadata": {
        "id": "RsXkqu5jg1PK",
        "colab_type": "text"
      },
      "cell_type": "markdown",
      "source": [
        "I created a stacked 100% bar chart to show that overall younger patients are more likely to survive given similar numbers of postive nodes\n"
      ]
    },
    {
      "metadata": {
        "id": "6zSiZb-RNraA",
        "colab_type": "code",
        "outputId": "0a0ff372-b0b1-4654-b991-93ea8391653a",
        "colab": {
          "base_uri": "https://localhost:8080/",
          "height": 433
        }
      },
      "cell_type": "code",
      "source": [
        "ax = ct.plot(kind='bar', \n",
        "             stacked=True, \n",
        "             legend=True, \n",
        "             figsize=(12,6), \n",
        "             rot=0, \n",
        "             fontsize=12, \n",
        "             title='Overall younger patients appear to have a better chance of survival')\n",
        "plt.xlabel('Age At Time of Operation')\n",
        "plt.ylabel('Outomce (% Survived at least 5 years)')\n",
        "plt.show()"
      ],
      "execution_count": 0,
      "outputs": [
        {
          "output_type": "display_data",
          "data": {
            "image/png": "[encoded data removed]",
            "text/plain": [
              "<Figure size 864x432 with 1 Axes>"
            ]
          },
          "metadata": {
            "tags": []
          }
        }
      ]
    },
    {
      "metadata": {
        "id": "ZM8JckA2bgnp",
        "colab_type": "text"
      },
      "cell_type": "markdown",
      "source": [
        "## Part 3 - Analysis and Interpretation\n",
        "\n",
        "- What is at least one feature that looks to have a positive relationship with survival?\n",
        "\n",
        "> The age of patients has a clear positive relationship with survival. As shown in the above stacked bar chart, when looking at patients with similiar numbers of positive nodes there is a clear increase in mortality within five years as patient age (particularly in the oldest patients).\n",
        "       \n",
        "- What is at least one feature that looks to have a negative relationship with survival?\n",
        "\n",
        "> As shown in the heatmap, the number of positive (cancerous) nodes has a negative relationship with survival. \n",
        "\n",
        "- How are those two features related with each other, and what might that mean?\n",
        "\n",
        "> As shown in the scatterplot above there is not a clear link between these variables in the dataset. It appears that middle aged people are most likely to have a large number of nodes; however, there likely is a confounding variable. It is possible that older patients with large number of nodes are electing not to perform surgery (due to low probability of survival) and thus not appearing in this dataset.\n",
        "\n",
        "> Note, in the scttarplot chart white dots indicate patients who died within five years of the surgery (black dots indicate those that survived).\n"
      ]
    }
  ]
}