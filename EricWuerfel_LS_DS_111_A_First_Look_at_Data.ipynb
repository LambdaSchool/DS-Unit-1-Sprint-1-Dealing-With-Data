{
  "nbformat": 4,
  "nbformat_minor": 0,
  "metadata": {
    "colab": {
      "name": "EricWuerfel_LS_DS_111_A_First_Look_at_Data.ipynb",
      "version": "0.3.2",
      "provenance": [],
      "collapsed_sections": [],
      "include_colab_link": true
    },
    "kernelspec": {
      "name": "python3",
      "display_name": "Python 3"
    }
  },
  "cells": [
    {
      "cell_type": "markdown",
      "metadata": {
        "id": "view-in-github",
        "colab_type": "text"
      },
      "source": [
        "<a href=\"https://colab.research.google.com/github/ewuerfel66/DS-Unit-1-Sprint-1-Dealing-With-Data/blob/master/EricWuerfel_LS_DS_111_A_First_Look_at_Data.ipynb\" target=\"_parent\"><img src=\"https://colab.research.google.com/assets/colab-badge.svg\" alt=\"Open In Colab\"/></a>"
      ]
    },
    {
      "cell_type": "markdown",
      "metadata": {
        "id": "Okfr_uhwhS1X",
        "colab_type": "text"
      },
      "source": [
        "# Lambda School Data Science - A First Look at Data\n",
        "\n"
      ]
    },
    {
      "cell_type": "markdown",
      "metadata": {
        "id": "9dtJETFRhnOG",
        "colab_type": "text"
      },
      "source": [
        "## Lecture - let's explore Python DS libraries and examples!\n",
        "\n",
        "The Python Data Science ecosystem is huge. You've seen some of the big pieces - pandas, scikit-learn, matplotlib. What parts do you want to see more of?"
      ]
    },
    {
      "cell_type": "code",
      "metadata": {
        "id": "WiBkgmPJhmhE",
        "colab_type": "code",
        "outputId": "0693662d-93bc-46a7-9d56-5e811b2635b9",
        "colab": {
          "base_uri": "https://localhost:8080/",
          "height": 36
        }
      },
      "source": [
        "# TODO - we'll be doing this live, taking requests\n",
        "# and reproducing what it is to look up and learn things\n",
        "2+2"
      ],
      "execution_count": 0,
      "outputs": [
        {
          "output_type": "execute_result",
          "data": {
            "text/plain": [
              "4"
            ]
          },
          "metadata": {
            "tags": []
          },
          "execution_count": 1
        }
      ]
    },
    {
      "cell_type": "markdown",
      "metadata": {
        "id": "y_gWJkYjoJkV",
        "colab_type": "text"
      },
      "source": [
        "1) Fork the repo to your github account\n",
        "\n",
        "2) go to colab.research.google.com and click on the github tab or go to colab.research.google.com/github\n",
        "\n",
        "3) select the weekly repo from the dropdown menu and find the .ipynb file that you want to work on\n",
        "\n",
        "4) Work on your assignment make changes to it\n",
        "\n",
        "5) Save your work back to github by going to `file` >> `Save a copy in Github...`\n",
        "\n",
        "6) Make sure you have opened a Pull Request at the beginning of the week to make it easy for PMs to find your work."
      ]
    },
    {
      "cell_type": "markdown",
      "metadata": {
        "id": "lOqaPds9huME",
        "colab_type": "text"
      },
      "source": [
        "## Assignment - now it's your turn\n",
        "\n",
        "Pick at least one Python DS library, and using documentation/examples reproduce in this notebook something cool. It's OK if you don't fully understand it or get it 100% working, but do put in effort and look things up."
      ]
    },
    {
      "cell_type": "code",
      "metadata": {
        "id": "TGUS79cOhPWj",
        "colab_type": "code",
        "colab": {}
      },
      "source": [
        "from urllib.request import urlopen\n",
        "from bs4 import BeautifulSoup\n",
        "import re\n",
        "import datetime\n",
        "import random\n",
        "import pandas as pd"
      ],
      "execution_count": 0,
      "outputs": []
    },
    {
      "cell_type": "code",
      "metadata": {
        "id": "SJ5Y2Phf9VAQ",
        "colab_type": "code",
        "colab": {}
      },
      "source": [
        "html = urlopen('https://www.buzzfeednews.com')\n",
        "soup = BeautifulSoup(html, 'html.parser')"
      ],
      "execution_count": 0,
      "outputs": []
    },
    {
      "cell_type": "code",
      "metadata": {
        "id": "OT46gcr7AMlY",
        "colab_type": "code",
        "colab": {}
      },
      "source": [
        "sectionList = []\n",
        "\n",
        "for link in soup.find_all('a', href=re.compile('^/section/+')):\n",
        "    if 'href' in link.attrs:\n",
        "        sectionList.append(link.attrs['href'])"
      ],
      "execution_count": 0,
      "outputs": []
    },
    {
      "cell_type": "code",
      "metadata": {
        "id": "IzYg2UHUAR1K",
        "colab_type": "code",
        "colab": {}
      },
      "source": [
        "pages = set()\n",
        "buzzfeedArticles = []"
      ],
      "execution_count": 0,
      "outputs": []
    },
    {
      "cell_type": "code",
      "metadata": {
        "id": "Wji10vwYAWWu",
        "colab_type": "code",
        "colab": {}
      },
      "source": [
        "def getLinks(pageUrl):\n",
        "    global pages\n",
        "    html = urlopen('https://www.buzzfeednews.com{}'.format(pageUrl))\n",
        "    bs = BeautifulSoup(html,'html.parser')\n",
        "    \n",
        "    for link in bs.find_all('a', href=re.compile('^(https://www.buzzfeednews.com/article/)')):\n",
        "        if 'href' in link.attrs:\n",
        "            if link.attrs['href'] not in pages:\n",
        "                newPage = link.attrs['href']\n",
        "                #print(newPage)\n",
        "                pages.add(newPage)\n",
        "                #getLinks(newPage)\n",
        "                buzzfeedArticles.append(newPage)"
      ],
      "execution_count": 0,
      "outputs": []
    },
    {
      "cell_type": "code",
      "metadata": {
        "id": "QC8onMe2AZOQ",
        "colab_type": "code",
        "colab": {}
      },
      "source": [
        "for section in sectionList:\n",
        "        getLinks(str(section))"
      ],
      "execution_count": 0,
      "outputs": []
    },
    {
      "cell_type": "code",
      "metadata": {
        "id": "PhXVhhelAi0I",
        "colab_type": "code",
        "colab": {}
      },
      "source": [
        "def getTitle(articleURL):\n",
        "    html = urlopen(str(articleURL))\n",
        "    soup = BeautifulSoup(html.read(), 'html.parser')\n",
        "    dirtyTitle0 = str(soup.h1)\n",
        "    dirtyTitle1 = dirtyTitle0.replace('<h1 class=\"news-article-header__title\">', '')\n",
        "    cleanTitle = dirtyTitle1.replace('</h1>', '')\n",
        "    buzzfeedTitles.append(cleanTitle)\n",
        "    print(cleanTitle)"
      ],
      "execution_count": 0,
      "outputs": []
    },
    {
      "cell_type": "code",
      "metadata": {
        "id": "NhZUlfX4Aj6P",
        "colab_type": "code",
        "colab": {
          "base_uri": "https://localhost:8080/",
          "height": 2423
        },
        "outputId": "db9e08ce-bac5-43d3-d4ef-76ea195f9a9e"
      },
      "source": [
        "buzzfeedTitles = []\n",
        "\n",
        "for article in buzzfeedArticles:\n",
        "    getTitle(article)"
      ],
      "execution_count": 13,
      "outputs": [
        {
          "output_type": "stream",
          "text": [
            "About BuzzFeed News\n",
            "The \"Game Of Thrones\" Composer Said The Final Season Was \"Very Emotional For Me\"\n",
            "Kate Hudson Was Destined For Hollywood Greatness. Then She Pivoted To Leggings.\n",
            "“Booksmart” Has A Blind Spot When It Comes To Class\n",
            "The Live-Action \"Sonic\" Movie's Release Is Being Delayed So They Can Redesign The Character's Look\n",
            "A New “Star Wars” Movie Based On “Knights Of The Old Republic” Is In The Works\n",
            "\"Aladdin\" Is Bad!!!\n",
            "Carly Rae Jepsen And The Rise Of The Micro Pop Star\n",
            "The Actor Who Played Robin Arryn In “Game Of Thrones” Is Humbled That Fans Think He Pulled A Neville Longbottom\n",
            "The \"Game Of Thrones\" Series Finale Scored A Ratings Record For HBO\n",
            "The Jonas Brothers Joke About Their Purity Rings Now. Why Can’t I?\n",
            "“Billions” Star Asia Kate Dillon Said Their Nonbinary Character Led To A Self-Realization\n",
            "Keanu Reeves May Be Pure, But He's Not Oblivious\n",
            "A Majority Of Republicans And Democrats Appear To Want The Same \"Game Of Thrones\" Character To Take The Iron Throne\n",
            "Jada Pinkett Smith Addressed Ayesha Curry’s Comments About \"Male Attention\" On “Red Table Talk”\n",
            "Gabrielle Union Defended Ayesha Curry After People Criticized Her For Her Comments About \"Male Attention\"\n",
            "The “Game Of Thrones” Creators Are Making The Next “Star Wars” Movie\n",
            "Ariana Grande Is Being Sued For Posting Paparazzi Photos Of Herself To Instagram\n",
            "The “Game Of Thrones” Actor Who Plays Euron Greyjoy Says His Character Was \"Such A Fucking Idiot\"\n",
            "Fox’s “Empire” Will End After Its Sixth Season And Still Has No Plans To Bring Back Jussie Smollett\n",
            "Lena Headey, AKA Queen Cersei, Revealed How She Felt About Last Night's \"Game Of Thrones\"\n",
            "The Set Photographer For \"Game Of Thrones\" Talks About Which Photos Are Her Favorites And Why\n",
            "Constance Wu Admitted She Was Upset At Having To Return To \"Fresh Off The Boat\"\n",
            "Sophie Turner Opened Up About The \"Game Of Thrones\" Coffee Cup Mess\n",
            "Constance Wu Didn't Seem Pleased That Her ABC Show \"Fresh Off The Boat\" Was Renewed\n",
            "\"Detective Pikachu\" Is A Movie About How Brands Are Our Friends\n",
            "Kim Kardashian West And Kanye West Have A New Baby Boy\n",
            "Alyssa Milano Says She Won’t Return To Netflix’s “Insatiable” If The Show Keeps Filming In Georgia\n",
            "People Are Ragging On Ayesha Curry For Her Comment About \"Male Attention,\" But Others Are Coming To Her Defense\n",
            "Tyra Banks On Her New Sports Illustrated Cover: \"This Is A New Me\"\n",
            "Jesse Williams Opened Up About His Friendship With \"Grey's Anatomy\" Costar Ellen Pompeo\n",
            "Here’s Why Authors All Tweet An Ugly Screenshot From The Same Websites\n",
            "Alexander Chee On The Groundbreaking 1937 Novel That \"Changed Something\" In Him\n",
            "Lara Prior-Palmer's \"Rough Magic\" Is BuzzFeed Book Club’s June Pick. Here’s A Sneak Peek.\n",
            "What Does An African \"Game Of Thrones\" Look Like?\n",
            "Uber Went Public Today And Things Were Off To A Rough Start\n",
            "“Avengers: Endgame” Just Beat The $2.12 Billion Box Office Record Set By “Titanic”\n",
            "Pornhub Is \"Extremely Interested\" In Acquiring Tumblr\n",
            "Instagram Is Hiding Like Counts From Followers In A Test To See If You’ll Feel Less Horrible\n",
            "\"Avengers: Endgame\" Has Shattered All Box Office Records In Its Debut\n",
            "United, Delta, And American Airlines Cover Creepy Cameras On Seatback Screens Following Outcry\n",
            "Why Hollywood Desperately Needs “Avengers: Endgame”\n",
            "These Tech Execs Faced #MeToo Allegations. They All Have New Jobs.\n",
            "Facebook Showed Me My Data Is Everywhere And I Have Absolutely No Control Over It\n",
            "Patagonia Is Refusing To Sell Its Iconic Power Vests To Some Financial Firms\n",
            "Here's What Millennial Women Need To Know About Money And The Pay Gap In 2019\n",
            "Apple Just Canceled Its AirPower Wireless Charger\n",
            "WOW Air Has Suddenly Collapsed And Passengers Have Been Left Screwed\n",
            "Don’t Change Your Birth Year To 2007 On Twitter, Or You’ll Get Blocked Like Me\n",
            "After The Proliferation Of The New Zealand Shooting Video, Reddit Has Banned Two Channels Showing Human Death\n",
            "Two Of Facebook’s Top Execs Are Leaving After The Company Announced A New Vision\n",
            "The WhatsApp Cofounder Who Sold To Facebook For $19 Billion Tells Students To Delete Facebook\n",
            "Opinion: The Children Of Undocumented Immigrants Live In An Emotional Prison\n",
            "After A Year Of Hurt, Mark Zuckerberg Unveils A New Privacy-Focused Social Network\n",
            "Elon Musk Did Another Bad Tweet And He’s In Trouble With The SEC Again\n",
            "Former Facebook Employees Say The Company’s Recent Prioritization Of Privacy Is All About Optics\n",
            "There's A $2,000 Foldable Samsung Phone Now, And People Have Thoughts\n",
            "We Asked New Yorkers For Their Messages To Jeff Bezos After Amazon Scrapped Its HQ Plans\n",
            "Apple Has A Repair Problem In The World's Second Largest Smartphone Market\n",
            "Hulu Drops The Price Of Its Basic Plan Just After Netflix Announced Rate Increases\n",
            "Tesla Is Cutting 7% Of Its Full-Time Employees\n",
            "Netflix Says It Won’t Show Content In India That Disrespects The Country’s Flag, Hurts Religious Sentiments, Or Promotes Terrorism\n",
            "Season 2 Of \"Killing Eve\" Killed The Queer Subtext, And All The Fun Along With It\n",
            "This Station Doesn't Want Kids To See Mr. Ratburn's Same-Sex Wedding\n",
            "Let’s Talk About That Confessional Scene In “Fleabag”\n",
            "There’s No One To Root For In The James Charles Beauty YouTuber Drama\n",
            "Strangers Keep Calling Child Protective Services On This 11-Year-Old Drag Star\n",
            "This Baggage Handler Served A Fierce Dance Routine For A Planeload Of Passengers\n",
            "A Far-Right Party Turned This Lil’ Gay Ghost Into An LGBT Icon\n",
            "John Cameron Mitchell On His “Shrill” And “Good Fight” Characters: “Gay Assholes” Are The Price Of LGBT Assimilation\n",
            "Dustin Lance Black Says He Sees Some Of Harvey Milk In Pete Buttigieg\n",
            "Why So Many Of Us Believed Taylor Swift Was Coming Out\n",
            "Ryan O’Connell From Netflix’s “Special” Revealed The Terrifying Pressure He Felt Representing Gay People With Disabilities\n",
            "\"Avengers: Endgame\" Features Marvel Studios' First Openly Gay Character In A Small Role\n",
            "Gender Dysphoria Isn’t A “Social Contagion,” According To A New Study\n",
            "Kamala Harris Wants The Department Of Justice To Stop States From Passing Restrictive Abortion Laws\n",
            "Why The Altered Videos Of Pelosi Will Never Go Away\n",
            "Facebook Said It Won’t Take Down A Doctored Video Of Nancy Pelosi That It Knows Is Fake\n",
            "A Judge Has Blocked Mississippi's 6-Week Abortion Ban\n",
            "A Massive Bipartisan Disaster Aid Bill Was Blocked By A Single House Republican\n",
            "The ACLU And Planned Parenthood Are Suing Alabama Over The State's New Abortion Law\n",
            "Trump Is Gutting Health Care Protections For Transgender People And Those Who Have Had Abortions\n",
            "The New Charges Against Julian Assange Are Unprecedented. Press Freedom Groups Say They're A Threat To All Journalists.\n",
            "WikiLeaks Founder Julian Assange Is Facing 17 More Criminal Charges In The United States\n",
            "Congress Reached A $19.1 Billion Disaster Aid Deal After Trump Caved On Border Funding\n",
            "The Only Latino Running For President Thinks Democrats' \"Electability\" Fight Is Missing The Point\n",
            "The Justice Department Argues That Congress Can't Sue The Trump Administration At All\n",
            "Democrats Like The Idea Of A Gay President. But They Are Quietly Worried About Mayor Pete.\n",
            "High-Dollar Donations Funded Bernie Sanders' Policy Group A Year Before His 2020 Campaign\n",
            "Advocates Say Mitch McConnell’s Anti-Smoking Bill Is Flawed And Will Be Exploited By Tobacco Companies\n",
            "Trump Lost Again Trying To Stop Democrats From Getting His Financial Records\n",
            "Unsealed Documents Show Mueller Knew Trump Was Writing Secret Checks To Michael Cohen In 2017\n",
            "Almost All The 2020 Presidential Candidates Say They Want To Make Roe V. Wade Law\n",
            "Nancy Pelosi Is Accusing Trump Of A Cover-Up, But Tells Democrats To Hold Off On Impeachment For Now\n",
            "Now Trump Wants To Allow Anti-Transgender Discrimination In Homeless Shelters\n",
            "Democrats Running For President Say Social Media Companies Have A White Nationalist Problem. Some Think Regulation Should Be The Answer.\n",
            "States Are Fighting Back Against Trump’s New Anti-Abortion, Anti-Trans “Conscience” Rule\n",
            "President Trump Lost An Effort To Stop Democrats From Subpoenaing His Accountant\n",
            "Mitch McConnell Is Trying To Stop Teens From Vaping\n",
            "The Justice Department Spent Nearly Two Years Fighting To Hide The Identity Of A US Attorney Accused Of Misconduct\n",
            "Bernie Sanders Has A Message For His Male Supporters In The South: Abortion Isn’t Just A Woman’s Issue\n",
            "Joe Biden’s Campaign Is Fixated On Donald Trump — And Biden’s Supporters Want It That Way\n",
            "Justin Amash Is The First Congressional Republican To Say Trump Committed Impeachable Offenses\n",
            "Bernie Sanders Has A Plan To Fix Racial Segregation In American Schools\n",
            "They Live Here Legally, But The Trump Administration Won’t Give Them Housing Loans\n",
            "9 Books That Helped Me Through My Infertility\n",
            "How To Destroy Your Friends Emotionally With Astrology Memes\n",
            "Two Poems For Black Mothers In America\n",
            "I Know It's Okay That I Chose Not To Breastfeed. But I Still Feel Guilty.\n",
            "What Happens When Christian Movies Go Mainstream?\n"
          ],
          "name": "stdout"
        },
        {
          "output_type": "error",
          "ename": "KeyboardInterrupt",
          "evalue": "ignored",
          "traceback": [
            "\u001b[0;31m---------------------------------------------------------------------------\u001b[0m",
            "\u001b[0;31mKeyboardInterrupt\u001b[0m                         Traceback (most recent call last)",
            "\u001b[0;32m<ipython-input-13-7b958c0018fd>\u001b[0m in \u001b[0;36m<module>\u001b[0;34m()\u001b[0m\n\u001b[1;32m      2\u001b[0m \u001b[0;34m\u001b[0m\u001b[0m\n\u001b[1;32m      3\u001b[0m \u001b[0;32mfor\u001b[0m \u001b[0marticle\u001b[0m \u001b[0;32min\u001b[0m \u001b[0mbuzzfeedArticles\u001b[0m\u001b[0;34m:\u001b[0m\u001b[0;34m\u001b[0m\u001b[0;34m\u001b[0m\u001b[0m\n\u001b[0;32m----> 4\u001b[0;31m     \u001b[0mgetTitle\u001b[0m\u001b[0;34m(\u001b[0m\u001b[0marticle\u001b[0m\u001b[0;34m)\u001b[0m\u001b[0;34m\u001b[0m\u001b[0;34m\u001b[0m\u001b[0m\n\u001b[0m",
            "\u001b[0;32m<ipython-input-12-39c4971e70b5>\u001b[0m in \u001b[0;36mgetTitle\u001b[0;34m(articleURL)\u001b[0m\n\u001b[1;32m      1\u001b[0m \u001b[0;32mdef\u001b[0m \u001b[0mgetTitle\u001b[0m\u001b[0;34m(\u001b[0m\u001b[0marticleURL\u001b[0m\u001b[0;34m)\u001b[0m\u001b[0;34m:\u001b[0m\u001b[0;34m\u001b[0m\u001b[0;34m\u001b[0m\u001b[0m\n\u001b[1;32m      2\u001b[0m     \u001b[0mhtml\u001b[0m \u001b[0;34m=\u001b[0m \u001b[0murlopen\u001b[0m\u001b[0;34m(\u001b[0m\u001b[0mstr\u001b[0m\u001b[0;34m(\u001b[0m\u001b[0marticleURL\u001b[0m\u001b[0;34m)\u001b[0m\u001b[0;34m)\u001b[0m\u001b[0;34m\u001b[0m\u001b[0;34m\u001b[0m\u001b[0m\n\u001b[0;32m----> 3\u001b[0;31m     \u001b[0msoup\u001b[0m \u001b[0;34m=\u001b[0m \u001b[0mBeautifulSoup\u001b[0m\u001b[0;34m(\u001b[0m\u001b[0mhtml\u001b[0m\u001b[0;34m.\u001b[0m\u001b[0mread\u001b[0m\u001b[0;34m(\u001b[0m\u001b[0;34m)\u001b[0m\u001b[0;34m,\u001b[0m \u001b[0;34m'html.parser'\u001b[0m\u001b[0;34m)\u001b[0m\u001b[0;34m\u001b[0m\u001b[0;34m\u001b[0m\u001b[0m\n\u001b[0m\u001b[1;32m      4\u001b[0m     \u001b[0mdirtyTitle0\u001b[0m \u001b[0;34m=\u001b[0m \u001b[0mstr\u001b[0m\u001b[0;34m(\u001b[0m\u001b[0msoup\u001b[0m\u001b[0;34m.\u001b[0m\u001b[0mh1\u001b[0m\u001b[0;34m)\u001b[0m\u001b[0;34m\u001b[0m\u001b[0;34m\u001b[0m\u001b[0m\n\u001b[1;32m      5\u001b[0m     \u001b[0mdirtyTitle1\u001b[0m \u001b[0;34m=\u001b[0m \u001b[0mdirtyTitle0\u001b[0m\u001b[0;34m.\u001b[0m\u001b[0mreplace\u001b[0m\u001b[0;34m(\u001b[0m\u001b[0;34m'<h1 class=\"news-article-header__title\">'\u001b[0m\u001b[0;34m,\u001b[0m \u001b[0;34m''\u001b[0m\u001b[0;34m)\u001b[0m\u001b[0;34m\u001b[0m\u001b[0;34m\u001b[0m\u001b[0m\n",
            "\u001b[0;32m/usr/local/lib/python3.6/dist-packages/bs4/__init__.py\u001b[0m in \u001b[0;36m__init__\u001b[0;34m(self, markup, features, builder, parse_only, from_encoding, exclude_encodings, **kwargs)\u001b[0m\n\u001b[1;32m    277\u001b[0m          \u001b[0mself\u001b[0m\u001b[0;34m.\u001b[0m\u001b[0mcontains_replacement_characters\u001b[0m\u001b[0;34m)\u001b[0m \u001b[0;32min\u001b[0m \u001b[0;34m(\u001b[0m\u001b[0;34m\u001b[0m\u001b[0;34m\u001b[0m\u001b[0m\n\u001b[1;32m    278\u001b[0m              self.builder.prepare_markup(\n\u001b[0;32m--> 279\u001b[0;31m                  markup, from_encoding, exclude_encodings=exclude_encodings)):\n\u001b[0m\u001b[1;32m    280\u001b[0m             \u001b[0mself\u001b[0m\u001b[0;34m.\u001b[0m\u001b[0mreset\u001b[0m\u001b[0;34m(\u001b[0m\u001b[0;34m)\u001b[0m\u001b[0;34m\u001b[0m\u001b[0;34m\u001b[0m\u001b[0m\n\u001b[1;32m    281\u001b[0m             \u001b[0;32mtry\u001b[0m\u001b[0;34m:\u001b[0m\u001b[0;34m\u001b[0m\u001b[0;34m\u001b[0m\u001b[0m\n",
            "\u001b[0;32m/usr/local/lib/python3.6/dist-packages/bs4/builder/_htmlparser.py\u001b[0m in \u001b[0;36mprepare_markup\u001b[0;34m(self, markup, user_specified_encoding, document_declared_encoding, exclude_encodings)\u001b[0m\n\u001b[1;32m    235\u001b[0m         \u001b[0mtry_encodings\u001b[0m \u001b[0;34m=\u001b[0m \u001b[0;34m[\u001b[0m\u001b[0muser_specified_encoding\u001b[0m\u001b[0;34m,\u001b[0m \u001b[0mdocument_declared_encoding\u001b[0m\u001b[0;34m]\u001b[0m\u001b[0;34m\u001b[0m\u001b[0;34m\u001b[0m\u001b[0m\n\u001b[1;32m    236\u001b[0m         dammit = UnicodeDammit(markup, try_encodings, is_html=True,\n\u001b[0;32m--> 237\u001b[0;31m                                exclude_encodings=exclude_encodings)\n\u001b[0m\u001b[1;32m    238\u001b[0m         yield (dammit.markup, dammit.original_encoding,\n\u001b[1;32m    239\u001b[0m                \u001b[0mdammit\u001b[0m\u001b[0;34m.\u001b[0m\u001b[0mdeclared_html_encoding\u001b[0m\u001b[0;34m,\u001b[0m\u001b[0;34m\u001b[0m\u001b[0;34m\u001b[0m\u001b[0m\n",
            "\u001b[0;32m/usr/local/lib/python3.6/dist-packages/bs4/dammit.py\u001b[0m in \u001b[0;36m__init__\u001b[0;34m(self, markup, override_encodings, smart_quotes_to, is_html, exclude_encodings)\u001b[0m\n\u001b[1;32m    364\u001b[0m \u001b[0;34m\u001b[0m\u001b[0m\n\u001b[1;32m    365\u001b[0m         \u001b[0mu\u001b[0m \u001b[0;34m=\u001b[0m \u001b[0;32mNone\u001b[0m\u001b[0;34m\u001b[0m\u001b[0;34m\u001b[0m\u001b[0m\n\u001b[0;32m--> 366\u001b[0;31m         \u001b[0;32mfor\u001b[0m \u001b[0mencoding\u001b[0m \u001b[0;32min\u001b[0m \u001b[0mself\u001b[0m\u001b[0;34m.\u001b[0m\u001b[0mdetector\u001b[0m\u001b[0;34m.\u001b[0m\u001b[0mencodings\u001b[0m\u001b[0;34m:\u001b[0m\u001b[0;34m\u001b[0m\u001b[0;34m\u001b[0m\u001b[0m\n\u001b[0m\u001b[1;32m    367\u001b[0m             \u001b[0mmarkup\u001b[0m \u001b[0;34m=\u001b[0m \u001b[0mself\u001b[0m\u001b[0;34m.\u001b[0m\u001b[0mdetector\u001b[0m\u001b[0;34m.\u001b[0m\u001b[0mmarkup\u001b[0m\u001b[0;34m\u001b[0m\u001b[0;34m\u001b[0m\u001b[0m\n\u001b[1;32m    368\u001b[0m             \u001b[0mu\u001b[0m \u001b[0;34m=\u001b[0m \u001b[0mself\u001b[0m\u001b[0;34m.\u001b[0m\u001b[0m_convert_from\u001b[0m\u001b[0;34m(\u001b[0m\u001b[0mencoding\u001b[0m\u001b[0;34m)\u001b[0m\u001b[0;34m\u001b[0m\u001b[0;34m\u001b[0m\u001b[0m\n",
            "\u001b[0;32m/usr/local/lib/python3.6/dist-packages/bs4/dammit.py\u001b[0m in \u001b[0;36mencodings\u001b[0;34m(self)\u001b[0m\n\u001b[1;32m    262\u001b[0m         \u001b[0;31m# encoding.\u001b[0m\u001b[0;34m\u001b[0m\u001b[0;34m\u001b[0m\u001b[0;34m\u001b[0m\u001b[0m\n\u001b[1;32m    263\u001b[0m         \u001b[0;32mif\u001b[0m \u001b[0mself\u001b[0m\u001b[0;34m.\u001b[0m\u001b[0mchardet_encoding\u001b[0m \u001b[0;32mis\u001b[0m \u001b[0;32mNone\u001b[0m\u001b[0;34m:\u001b[0m\u001b[0;34m\u001b[0m\u001b[0;34m\u001b[0m\u001b[0m\n\u001b[0;32m--> 264\u001b[0;31m             \u001b[0mself\u001b[0m\u001b[0;34m.\u001b[0m\u001b[0mchardet_encoding\u001b[0m \u001b[0;34m=\u001b[0m \u001b[0mchardet_dammit\u001b[0m\u001b[0;34m(\u001b[0m\u001b[0mself\u001b[0m\u001b[0;34m.\u001b[0m\u001b[0mmarkup\u001b[0m\u001b[0;34m)\u001b[0m\u001b[0;34m\u001b[0m\u001b[0;34m\u001b[0m\u001b[0m\n\u001b[0m\u001b[1;32m    265\u001b[0m         \u001b[0;32mif\u001b[0m \u001b[0mself\u001b[0m\u001b[0;34m.\u001b[0m\u001b[0m_usable\u001b[0m\u001b[0;34m(\u001b[0m\u001b[0mself\u001b[0m\u001b[0;34m.\u001b[0m\u001b[0mchardet_encoding\u001b[0m\u001b[0;34m,\u001b[0m \u001b[0mtried\u001b[0m\u001b[0;34m)\u001b[0m\u001b[0;34m:\u001b[0m\u001b[0;34m\u001b[0m\u001b[0;34m\u001b[0m\u001b[0m\n\u001b[1;32m    266\u001b[0m             \u001b[0;32myield\u001b[0m \u001b[0mself\u001b[0m\u001b[0;34m.\u001b[0m\u001b[0mchardet_encoding\u001b[0m\u001b[0;34m\u001b[0m\u001b[0;34m\u001b[0m\u001b[0m\n",
            "\u001b[0;32m/usr/local/lib/python3.6/dist-packages/bs4/dammit.py\u001b[0m in \u001b[0;36mchardet_dammit\u001b[0;34m(s)\u001b[0m\n\u001b[1;32m     32\u001b[0m         \u001b[0;32mimport\u001b[0m \u001b[0mchardet\u001b[0m\u001b[0;34m\u001b[0m\u001b[0;34m\u001b[0m\u001b[0m\n\u001b[1;32m     33\u001b[0m         \u001b[0;32mdef\u001b[0m \u001b[0mchardet_dammit\u001b[0m\u001b[0;34m(\u001b[0m\u001b[0ms\u001b[0m\u001b[0;34m)\u001b[0m\u001b[0;34m:\u001b[0m\u001b[0;34m\u001b[0m\u001b[0;34m\u001b[0m\u001b[0m\n\u001b[0;32m---> 34\u001b[0;31m             \u001b[0;32mreturn\u001b[0m \u001b[0mchardet\u001b[0m\u001b[0;34m.\u001b[0m\u001b[0mdetect\u001b[0m\u001b[0;34m(\u001b[0m\u001b[0ms\u001b[0m\u001b[0;34m)\u001b[0m\u001b[0;34m[\u001b[0m\u001b[0;34m'encoding'\u001b[0m\u001b[0;34m]\u001b[0m\u001b[0;34m\u001b[0m\u001b[0;34m\u001b[0m\u001b[0m\n\u001b[0m\u001b[1;32m     35\u001b[0m         \u001b[0;31m#import chardet.constants\u001b[0m\u001b[0;34m\u001b[0m\u001b[0;34m\u001b[0m\u001b[0;34m\u001b[0m\u001b[0m\n\u001b[1;32m     36\u001b[0m         \u001b[0;31m#chardet.constants._debug = 1\u001b[0m\u001b[0;34m\u001b[0m\u001b[0;34m\u001b[0m\u001b[0;34m\u001b[0m\u001b[0m\n",
            "\u001b[0;32m/usr/local/lib/python3.6/dist-packages/chardet/__init__.py\u001b[0m in \u001b[0;36mdetect\u001b[0;34m(byte_str)\u001b[0m\n\u001b[1;32m     36\u001b[0m             \u001b[0mbyte_str\u001b[0m \u001b[0;34m=\u001b[0m \u001b[0mbytearray\u001b[0m\u001b[0;34m(\u001b[0m\u001b[0mbyte_str\u001b[0m\u001b[0;34m)\u001b[0m\u001b[0;34m\u001b[0m\u001b[0;34m\u001b[0m\u001b[0m\n\u001b[1;32m     37\u001b[0m     \u001b[0mdetector\u001b[0m \u001b[0;34m=\u001b[0m \u001b[0mUniversalDetector\u001b[0m\u001b[0;34m(\u001b[0m\u001b[0;34m)\u001b[0m\u001b[0;34m\u001b[0m\u001b[0;34m\u001b[0m\u001b[0m\n\u001b[0;32m---> 38\u001b[0;31m     \u001b[0mdetector\u001b[0m\u001b[0;34m.\u001b[0m\u001b[0mfeed\u001b[0m\u001b[0;34m(\u001b[0m\u001b[0mbyte_str\u001b[0m\u001b[0;34m)\u001b[0m\u001b[0;34m\u001b[0m\u001b[0;34m\u001b[0m\u001b[0m\n\u001b[0m\u001b[1;32m     39\u001b[0m     \u001b[0;32mreturn\u001b[0m \u001b[0mdetector\u001b[0m\u001b[0;34m.\u001b[0m\u001b[0mclose\u001b[0m\u001b[0;34m(\u001b[0m\u001b[0;34m)\u001b[0m\u001b[0;34m\u001b[0m\u001b[0;34m\u001b[0m\u001b[0m\n",
            "\u001b[0;32m/usr/local/lib/python3.6/dist-packages/chardet/universaldetector.py\u001b[0m in \u001b[0;36mfeed\u001b[0;34m(self, byte_str)\u001b[0m\n\u001b[1;32m    209\u001b[0m                 \u001b[0mself\u001b[0m\u001b[0;34m.\u001b[0m\u001b[0m_charset_probers\u001b[0m\u001b[0;34m.\u001b[0m\u001b[0mappend\u001b[0m\u001b[0;34m(\u001b[0m\u001b[0mLatin1Prober\u001b[0m\u001b[0;34m(\u001b[0m\u001b[0;34m)\u001b[0m\u001b[0;34m)\u001b[0m\u001b[0;34m\u001b[0m\u001b[0;34m\u001b[0m\u001b[0m\n\u001b[1;32m    210\u001b[0m             \u001b[0;32mfor\u001b[0m \u001b[0mprober\u001b[0m \u001b[0;32min\u001b[0m \u001b[0mself\u001b[0m\u001b[0;34m.\u001b[0m\u001b[0m_charset_probers\u001b[0m\u001b[0;34m:\u001b[0m\u001b[0;34m\u001b[0m\u001b[0;34m\u001b[0m\u001b[0m\n\u001b[0;32m--> 211\u001b[0;31m                 \u001b[0;32mif\u001b[0m \u001b[0mprober\u001b[0m\u001b[0;34m.\u001b[0m\u001b[0mfeed\u001b[0m\u001b[0;34m(\u001b[0m\u001b[0mbyte_str\u001b[0m\u001b[0;34m)\u001b[0m \u001b[0;34m==\u001b[0m \u001b[0mProbingState\u001b[0m\u001b[0;34m.\u001b[0m\u001b[0mFOUND_IT\u001b[0m\u001b[0;34m:\u001b[0m\u001b[0;34m\u001b[0m\u001b[0;34m\u001b[0m\u001b[0m\n\u001b[0m\u001b[1;32m    212\u001b[0m                     self.result = {'encoding': prober.charset_name,\n\u001b[1;32m    213\u001b[0m                                    \u001b[0;34m'confidence'\u001b[0m\u001b[0;34m:\u001b[0m \u001b[0mprober\u001b[0m\u001b[0;34m.\u001b[0m\u001b[0mget_confidence\u001b[0m\u001b[0;34m(\u001b[0m\u001b[0;34m)\u001b[0m\u001b[0;34m,\u001b[0m\u001b[0;34m\u001b[0m\u001b[0;34m\u001b[0m\u001b[0m\n",
            "\u001b[0;32m/usr/local/lib/python3.6/dist-packages/chardet/charsetgroupprober.py\u001b[0m in \u001b[0;36mfeed\u001b[0;34m(self, byte_str)\u001b[0m\n\u001b[1;32m     69\u001b[0m             \u001b[0;32mif\u001b[0m \u001b[0;32mnot\u001b[0m \u001b[0mprober\u001b[0m\u001b[0;34m.\u001b[0m\u001b[0mactive\u001b[0m\u001b[0;34m:\u001b[0m\u001b[0;34m\u001b[0m\u001b[0;34m\u001b[0m\u001b[0m\n\u001b[1;32m     70\u001b[0m                 \u001b[0;32mcontinue\u001b[0m\u001b[0;34m\u001b[0m\u001b[0;34m\u001b[0m\u001b[0m\n\u001b[0;32m---> 71\u001b[0;31m             \u001b[0mstate\u001b[0m \u001b[0;34m=\u001b[0m \u001b[0mprober\u001b[0m\u001b[0;34m.\u001b[0m\u001b[0mfeed\u001b[0m\u001b[0;34m(\u001b[0m\u001b[0mbyte_str\u001b[0m\u001b[0;34m)\u001b[0m\u001b[0;34m\u001b[0m\u001b[0;34m\u001b[0m\u001b[0m\n\u001b[0m\u001b[1;32m     72\u001b[0m             \u001b[0;32mif\u001b[0m \u001b[0;32mnot\u001b[0m \u001b[0mstate\u001b[0m\u001b[0;34m:\u001b[0m\u001b[0;34m\u001b[0m\u001b[0;34m\u001b[0m\u001b[0m\n\u001b[1;32m     73\u001b[0m                 \u001b[0;32mcontinue\u001b[0m\u001b[0;34m\u001b[0m\u001b[0;34m\u001b[0m\u001b[0m\n",
            "\u001b[0;32m/usr/local/lib/python3.6/dist-packages/chardet/mbcharsetprober.py\u001b[0m in \u001b[0;36mfeed\u001b[0;34m(self, byte_str)\u001b[0m\n\u001b[1;32m     61\u001b[0m     \u001b[0;32mdef\u001b[0m \u001b[0mfeed\u001b[0m\u001b[0;34m(\u001b[0m\u001b[0mself\u001b[0m\u001b[0;34m,\u001b[0m \u001b[0mbyte_str\u001b[0m\u001b[0;34m)\u001b[0m\u001b[0;34m:\u001b[0m\u001b[0;34m\u001b[0m\u001b[0;34m\u001b[0m\u001b[0m\n\u001b[1;32m     62\u001b[0m         \u001b[0;32mfor\u001b[0m \u001b[0mi\u001b[0m \u001b[0;32min\u001b[0m \u001b[0mrange\u001b[0m\u001b[0;34m(\u001b[0m\u001b[0mlen\u001b[0m\u001b[0;34m(\u001b[0m\u001b[0mbyte_str\u001b[0m\u001b[0;34m)\u001b[0m\u001b[0;34m)\u001b[0m\u001b[0;34m:\u001b[0m\u001b[0;34m\u001b[0m\u001b[0;34m\u001b[0m\u001b[0m\n\u001b[0;32m---> 63\u001b[0;31m             \u001b[0mcoding_state\u001b[0m \u001b[0;34m=\u001b[0m \u001b[0mself\u001b[0m\u001b[0;34m.\u001b[0m\u001b[0mcoding_sm\u001b[0m\u001b[0;34m.\u001b[0m\u001b[0mnext_state\u001b[0m\u001b[0;34m(\u001b[0m\u001b[0mbyte_str\u001b[0m\u001b[0;34m[\u001b[0m\u001b[0mi\u001b[0m\u001b[0;34m]\u001b[0m\u001b[0;34m)\u001b[0m\u001b[0;34m\u001b[0m\u001b[0;34m\u001b[0m\u001b[0m\n\u001b[0m\u001b[1;32m     64\u001b[0m             \u001b[0;32mif\u001b[0m \u001b[0mcoding_state\u001b[0m \u001b[0;34m==\u001b[0m \u001b[0mMachineState\u001b[0m\u001b[0;34m.\u001b[0m\u001b[0mERROR\u001b[0m\u001b[0;34m:\u001b[0m\u001b[0;34m\u001b[0m\u001b[0;34m\u001b[0m\u001b[0m\n\u001b[1;32m     65\u001b[0m                 self.logger.debug('%s %s prober hit error at byte %s',\n",
            "\u001b[0;32m/usr/local/lib/python3.6/dist-packages/chardet/codingstatemachine.py\u001b[0m in \u001b[0;36mnext_state\u001b[0;34m(self, c)\u001b[0m\n\u001b[1;32m     68\u001b[0m         \u001b[0;31m# if it is first byte, we also get byte length\u001b[0m\u001b[0;34m\u001b[0m\u001b[0;34m\u001b[0m\u001b[0;34m\u001b[0m\u001b[0m\n\u001b[1;32m     69\u001b[0m         \u001b[0mbyte_class\u001b[0m \u001b[0;34m=\u001b[0m \u001b[0mself\u001b[0m\u001b[0;34m.\u001b[0m\u001b[0m_model\u001b[0m\u001b[0;34m[\u001b[0m\u001b[0;34m'class_table'\u001b[0m\u001b[0;34m]\u001b[0m\u001b[0;34m[\u001b[0m\u001b[0mc\u001b[0m\u001b[0;34m]\u001b[0m\u001b[0;34m\u001b[0m\u001b[0;34m\u001b[0m\u001b[0m\n\u001b[0;32m---> 70\u001b[0;31m         \u001b[0;32mif\u001b[0m \u001b[0mself\u001b[0m\u001b[0;34m.\u001b[0m\u001b[0m_curr_state\u001b[0m \u001b[0;34m==\u001b[0m \u001b[0mMachineState\u001b[0m\u001b[0;34m.\u001b[0m\u001b[0mSTART\u001b[0m\u001b[0;34m:\u001b[0m\u001b[0;34m\u001b[0m\u001b[0;34m\u001b[0m\u001b[0m\n\u001b[0m\u001b[1;32m     71\u001b[0m             \u001b[0mself\u001b[0m\u001b[0;34m.\u001b[0m\u001b[0m_curr_byte_pos\u001b[0m \u001b[0;34m=\u001b[0m \u001b[0;36m0\u001b[0m\u001b[0;34m\u001b[0m\u001b[0;34m\u001b[0m\u001b[0m\n\u001b[1;32m     72\u001b[0m             \u001b[0mself\u001b[0m\u001b[0;34m.\u001b[0m\u001b[0m_curr_char_len\u001b[0m \u001b[0;34m=\u001b[0m \u001b[0mself\u001b[0m\u001b[0;34m.\u001b[0m\u001b[0m_model\u001b[0m\u001b[0;34m[\u001b[0m\u001b[0;34m'char_len_table'\u001b[0m\u001b[0;34m]\u001b[0m\u001b[0;34m[\u001b[0m\u001b[0mbyte_class\u001b[0m\u001b[0;34m]\u001b[0m\u001b[0;34m\u001b[0m\u001b[0;34m\u001b[0m\u001b[0m\n",
            "\u001b[0;31mKeyboardInterrupt\u001b[0m: "
          ]
        }
      ]
    },
    {
      "cell_type": "markdown",
      "metadata": {
        "id": "BT9gdS7viJZa",
        "colab_type": "text"
      },
      "source": [
        "### Assignment questions\n",
        "\n",
        "After you've worked on some code, answer the following questions in this text block:\n",
        "\n",
        "1.  Describe in a paragraph of text what you did and why, as if you were writing an email to somebody interested but nontechnical.\n",
        "\n",
        "This website finds article URLs and article titles for Buzzfeed news (they had easy HTML). If I had scrapers for other news sources, journalists/news junkies could quickly check all headlines from major news sources.\n",
        "\n",
        "2.  What was the most challenging part of what you did?\n",
        "\n",
        "The most difficult part of this was cleaning the HTML up that contained the title. Beautiful Soup finds the title pretty easily by searching for an 'h1' tag.\n",
        "\n",
        "3.  What was the most interesting thing you learned?\n",
        "\n",
        "Some websites (lambdaschool.com) 'rejected' my web scraper from the outset. Perhaps some sites have protection against scrapers.\n",
        "\n",
        "4.  What area would you like to explore with more time?\n",
        "\n",
        "I'd like to learn more about regular expressions. I used a regular expression in this notebook, but it's just the prefix for the site. I'd like to learn to use more complicated regular expressions.\n",
        "\n",
        "I'd also like to learn a little more about how to control the scraper. Right now I have it set to keep going as long as it can find links.\n"
      ]
    },
    {
      "cell_type": "markdown",
      "metadata": {
        "id": "_XXg2crAipwP",
        "colab_type": "text"
      },
      "source": [
        "## Stretch goals and resources\n",
        "\n",
        "Following are *optional* things for you to take a look at. Focus on the above assignment first, and make sure to commit and push your changes to GitHub (and since this is the first assignment of the sprint, open a PR as well).\n",
        "\n",
        "- [pandas documentation](https://pandas.pydata.org/pandas-docs/stable/)\n",
        "- [scikit-learn documentation](http://scikit-learn.org/stable/documentation.html)\n",
        "- [matplotlib documentation](https://matplotlib.org/contents.html)\n",
        "- [Awesome Data Science](https://github.com/bulutyazilim/awesome-datascience) - a list of many types of DS resources\n",
        "\n",
        "Stretch goals:\n",
        "\n",
        "- Find and read blogs, walkthroughs, and other examples of people working through cool things with data science - and share with your classmates!\n",
        "- Write a blog post (Medium is a popular place to publish) introducing yourself as somebody learning data science, and talking about what you've learned already and what you're excited to learn more about."
      ]
    }
  ]
}