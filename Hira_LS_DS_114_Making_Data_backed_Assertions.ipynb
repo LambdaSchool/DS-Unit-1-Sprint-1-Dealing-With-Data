{
  "nbformat": 4,
  "nbformat_minor": 0,
  "metadata": {
    "colab": {
      "name": "Hira LS_DS_114_Making_Data_backed_Assertions.ipynb",
      "version": "0.3.2",
      "provenance": [],
      "collapsed_sections": [],
      "include_colab_link": true
    },
    "kernelspec": {
      "name": "python3",
      "display_name": "Python 3"
    }
  },
  "cells": [
    {
      "cell_type": "markdown",
      "metadata": {
        "id": "view-in-github",
        "colab_type": "text"
      },
      "source": [
        "<a href=\"https://colab.research.google.com/github/Hira63S/DS-Unit-1-Sprint-1-Dealing-With-Data/blob/master/Hira_LS_DS_114_Making_Data_backed_Assertions.ipynb\" target=\"_parent\"><img src=\"https://colab.research.google.com/assets/colab-badge.svg\" alt=\"Open In Colab\"/></a>"
      ]
    },
    {
      "metadata": {
        "id": "Okfr_uhwhS1X",
        "colab_type": "text"
      },
      "cell_type": "markdown",
      "source": [
        "# Lambda School Data Science - Making Data-backed Assertions\n",
        "\n",
        "This is, for many, the main point of data science - to create and support reasoned arguments based on evidence. It's not a topic to master in a day, but it is worth some focused time thinking about and structuring your approach to it."
      ]
    },
    {
      "metadata": {
        "id": "9dtJETFRhnOG",
        "colab_type": "text"
      },
      "cell_type": "markdown",
      "source": [
        "## Lecture - generating a confounding variable\n",
        "\n",
        "The prewatch material told a story about a hypothetical health condition where both the drug usage and overall health outcome were related to gender - thus making gender a confounding variable, obfuscating the possible relationship between the drug and the outcome.\n",
        "\n",
        "Let's use Python to generate data that actually behaves in this fashion!"
      ]
    },
    {
      "metadata": {
        "id": "WiBkgmPJhmhE",
        "colab_type": "code",
        "colab": {}
      },
      "cell_type": "code",
      "source": [
        "import random\n",
        "random.seed(42)\n",
        "#dir(random)  # Reminding ourselves what we can do here\n",
        "\n",
        "\n",
        "#Econometrics...play with the field. myfavorite!!\n",
        "#hitchhiker's guide to the galaxy\n",
        "\n",
        "\n",
        "\n"
      ],
      "execution_count": 0,
      "outputs": []
    },
    {
      "metadata": {
        "id": "Ks5qFtpnq-q5",
        "colab_type": "code",
        "outputId": "0810aa6f-8375-4fd4-e763-9504d9e37a11",
        "colab": {
          "base_uri": "https://localhost:8080/",
          "height": 34
        }
      },
      "cell_type": "code",
      "source": [
        "# Let's think of another scenario:\n",
        "# We work for a company that sells accessories for mobile phones.\n",
        "# They have an ecommerce site, and we are supposed to analyze logs\n",
        "# to determine what sort of usage is related to purchases, and thus guide\n",
        "# website development to encourage higher conversion.\n",
        "\n",
        "# The hypothesis - users who spend longer on the site tend\n",
        "# to spend more. Seems reasonable, no?\n",
        "\n",
        "# But there's a confounding variable! If they're on a phone, they:\n",
        "# a) Spend less time on the site, but\n",
        "# b) Are more likely to be interested in the actual products!\n",
        "\n",
        "# Let's use namedtuple to represent our data\n",
        "\n",
        "from collections import namedtuple\n",
        "# purchased and mobile are bools, time_on_site in seconds\n",
        "User = namedtuple('User', ['purchased','time_on_site', 'mobile'])\n",
        "\n",
        "example_user = User(False, 12, False)\n",
        "print(example_user)"
      ],
      "execution_count": 23,
      "outputs": [
        {
          "output_type": "stream",
          "text": [
            "User(purchased=False, time_on_site=12, mobile=False)\n"
          ],
          "name": "stdout"
        }
      ]
    },
    {
      "metadata": {
        "id": "lfPiHNG_sefL",
        "colab_type": "code",
        "outputId": "ae2316a2-bf4f-4f13-989d-95871018d046",
        "colab": {
          "base_uri": "https://localhost:8080/",
          "height": 54
        }
      },
      "cell_type": "code",
      "source": [
        "# And now let's generate 1000 example users\n",
        "# 750 mobile, 250 not (i.e. desktop)\n",
        "# A desktop user has a base conversion likelihood of 10%\n",
        "# And it goes up by 1% for each 15 seconds they spend on the site\n",
        "# And they spend anywhere from 10 seconds to 10 minutes on the site (uniform)\n",
        "# Mobile users spend on average half as much time on the site as desktop\n",
        "# But have three times as much base likelihood of buying something\n",
        "\n",
        "users = []#list of users\n",
        "\n",
        "for _ in range(250): #we generate fake user data\n",
        "  # Desktop users\n",
        "  time_on_site = random.uniform(10, 600) #random.uniform picks a random number in a range of numbers;\n",
        "  purchased = random.random() < 0.1 + (time_on_site / 1500)\n",
        "  users.append(User(purchased, time_on_site, False))\n",
        "  \n",
        "  #first one creates desktop users\n",
        "  #random.uniform: you can get a bunch of distributions with\n",
        "  #this code. dektop users use the site between 10s to 600s\n",
        "  #the second line...like conversion rate of 0.1 i.e. 10%\n",
        "  #adding 1%for every 15 seconds spent on the site\n",
        "  \n",
        "  \n",
        "  \n",
        "  #we give mobile users are likely higher customer\n",
        "for _ in range(750):\n",
        "  # Mobile users\n",
        "  time_on_site = random.uniform(5, 300)\n",
        "  purchased = random.random() < 0.3 + (time_on_site / 1500)\n",
        "  users.append(User(purchased, time_on_site, True))\n",
        "  \n",
        "random.shuffle(users)\n",
        "print(users[:10])"
      ],
      "execution_count": 24,
      "outputs": [
        {
          "output_type": "stream",
          "text": [
            "[User(purchased=False, time_on_site=150.42273427770718, mobile=False), User(purchased=True, time_on_site=284.06235530493245, mobile=True), User(purchased=True, time_on_site=140.37976895454653, mobile=True), User(purchased=True, time_on_site=49.206452507812216, mobile=True), User(purchased=False, time_on_site=167.81563803588924, mobile=True), User(purchased=False, time_on_site=20.484876517641524, mobile=True), User(purchased=False, time_on_site=167.3540069049869, mobile=True), User(purchased=False, time_on_site=447.75054592529114, mobile=False), User(purchased=True, time_on_site=57.93525538719398, mobile=True), User(purchased=True, time_on_site=292.6494305470663, mobile=True)]\n"
          ],
          "name": "stdout"
        }
      ]
    },
    {
      "metadata": {
        "id": "9gDYb5qGuRzy",
        "colab_type": "code",
        "outputId": "697154d1-2275-47e7-8849-0bb30e3f6891",
        "colab": {
          "base_uri": "https://localhost:8080/",
          "height": 195
        }
      },
      "cell_type": "code",
      "source": [
        "# Let's put this in a dataframe so we can look at it more easily\n",
        "import pandas as pd\n",
        "user_data = pd.DataFrame(users)\n",
        "user_data.head()"
      ],
      "execution_count": 25,
      "outputs": [
        {
          "output_type": "execute_result",
          "data": {
            "text/html": [
              "<div>\n",
              "<style scoped>\n",
              "    .dataframe tbody tr th:only-of-type {\n",
              "        vertical-align: middle;\n",
              "    }\n",
              "\n",
              "    .dataframe tbody tr th {\n",
              "        vertical-align: top;\n",
              "    }\n",
              "\n",
              "    .dataframe thead th {\n",
              "        text-align: right;\n",
              "    }\n",
              "</style>\n",
              "<table border=\"1\" class=\"dataframe\">\n",
              "  <thead>\n",
              "    <tr style=\"text-align: right;\">\n",
              "      <th></th>\n",
              "      <th>purchased</th>\n",
              "      <th>time_on_site</th>\n",
              "      <th>mobile</th>\n",
              "    </tr>\n",
              "  </thead>\n",
              "  <tbody>\n",
              "    <tr>\n",
              "      <th>0</th>\n",
              "      <td>False</td>\n",
              "      <td>150.422734</td>\n",
              "      <td>False</td>\n",
              "    </tr>\n",
              "    <tr>\n",
              "      <th>1</th>\n",
              "      <td>True</td>\n",
              "      <td>284.062355</td>\n",
              "      <td>True</td>\n",
              "    </tr>\n",
              "    <tr>\n",
              "      <th>2</th>\n",
              "      <td>True</td>\n",
              "      <td>140.379769</td>\n",
              "      <td>True</td>\n",
              "    </tr>\n",
              "    <tr>\n",
              "      <th>3</th>\n",
              "      <td>True</td>\n",
              "      <td>49.206453</td>\n",
              "      <td>True</td>\n",
              "    </tr>\n",
              "    <tr>\n",
              "      <th>4</th>\n",
              "      <td>False</td>\n",
              "      <td>167.815638</td>\n",
              "      <td>True</td>\n",
              "    </tr>\n",
              "  </tbody>\n",
              "</table>\n",
              "</div>"
            ],
            "text/plain": [
              "   purchased  time_on_site  mobile\n",
              "0      False    150.422734   False\n",
              "1       True    284.062355    True\n",
              "2       True    140.379769    True\n",
              "3       True     49.206453    True\n",
              "4      False    167.815638    True"
            ]
          },
          "metadata": {
            "tags": []
          },
          "execution_count": 25
        }
      ]
    },
    {
      "metadata": {
        "id": "sr6IJv77ulVl",
        "colab_type": "code",
        "outputId": "c2a61466-a5b0-4052-b9fd-d104caada3b3",
        "colab": {
          "base_uri": "https://localhost:8080/",
          "height": 202
        }
      },
      "cell_type": "code",
      "source": [
        "# Let's use crosstabulation to try to see what's going on\n",
        "print(pd.crosstab(user_data['purchased'], user_data['time_on_site']).shape)\n",
        "pd.crosstab(user_data['purchased'], user_data['time_on_site'])"
      ],
      "execution_count": 26,
      "outputs": [
        {
          "output_type": "stream",
          "text": [
            "(2, 1000)\n"
          ],
          "name": "stdout"
        },
        {
          "output_type": "execute_result",
          "data": {
            "text/html": [
              "<div>\n",
              "<style scoped>\n",
              "    .dataframe tbody tr th:only-of-type {\n",
              "        vertical-align: middle;\n",
              "    }\n",
              "\n",
              "    .dataframe tbody tr th {\n",
              "        vertical-align: top;\n",
              "    }\n",
              "\n",
              "    .dataframe thead th {\n",
              "        text-align: right;\n",
              "    }\n",
              "</style>\n",
              "<table border=\"1\" class=\"dataframe\">\n",
              "  <thead>\n",
              "    <tr style=\"text-align: right;\">\n",
              "      <th>time_on_site</th>\n",
              "      <th>5.789338167851291</th>\n",
              "      <th>5.836487686604824</th>\n",
              "      <th>7.267690340465448</th>\n",
              "      <th>7.280322437947023</th>\n",
              "      <th>7.733814701629437</th>\n",
              "      <th>7.772242279186957</th>\n",
              "      <th>7.994578759409748</th>\n",
              "      <th>8.373541587279558</th>\n",
              "      <th>9.106003254765849</th>\n",
              "      <th>9.38379653305911</th>\n",
              "      <th>...</th>\n",
              "      <th>582.5363605031145</th>\n",
              "      <th>582.9362427920347</th>\n",
              "      <th>588.8783154469735</th>\n",
              "      <th>590.65747470592</th>\n",
              "      <th>593.8187768755912</th>\n",
              "      <th>597.1381204299279</th>\n",
              "      <th>597.7116143416571</th>\n",
              "      <th>598.547187832115</th>\n",
              "      <th>599.088120104121</th>\n",
              "      <th>599.5766563635087</th>\n",
              "    </tr>\n",
              "    <tr>\n",
              "      <th>purchased</th>\n",
              "      <th></th>\n",
              "      <th></th>\n",
              "      <th></th>\n",
              "      <th></th>\n",
              "      <th></th>\n",
              "      <th></th>\n",
              "      <th></th>\n",
              "      <th></th>\n",
              "      <th></th>\n",
              "      <th></th>\n",
              "      <th></th>\n",
              "      <th></th>\n",
              "      <th></th>\n",
              "      <th></th>\n",
              "      <th></th>\n",
              "      <th></th>\n",
              "      <th></th>\n",
              "      <th></th>\n",
              "      <th></th>\n",
              "      <th></th>\n",
              "      <th></th>\n",
              "    </tr>\n",
              "  </thead>\n",
              "  <tbody>\n",
              "    <tr>\n",
              "      <th>False</th>\n",
              "      <td>1</td>\n",
              "      <td>1</td>\n",
              "      <td>0</td>\n",
              "      <td>1</td>\n",
              "      <td>1</td>\n",
              "      <td>1</td>\n",
              "      <td>1</td>\n",
              "      <td>1</td>\n",
              "      <td>1</td>\n",
              "      <td>1</td>\n",
              "      <td>...</td>\n",
              "      <td>0</td>\n",
              "      <td>1</td>\n",
              "      <td>1</td>\n",
              "      <td>0</td>\n",
              "      <td>1</td>\n",
              "      <td>1</td>\n",
              "      <td>1</td>\n",
              "      <td>1</td>\n",
              "      <td>1</td>\n",
              "      <td>1</td>\n",
              "    </tr>\n",
              "    <tr>\n",
              "      <th>True</th>\n",
              "      <td>0</td>\n",
              "      <td>0</td>\n",
              "      <td>1</td>\n",
              "      <td>0</td>\n",
              "      <td>0</td>\n",
              "      <td>0</td>\n",
              "      <td>0</td>\n",
              "      <td>0</td>\n",
              "      <td>0</td>\n",
              "      <td>0</td>\n",
              "      <td>...</td>\n",
              "      <td>1</td>\n",
              "      <td>0</td>\n",
              "      <td>0</td>\n",
              "      <td>1</td>\n",
              "      <td>0</td>\n",
              "      <td>0</td>\n",
              "      <td>0</td>\n",
              "      <td>0</td>\n",
              "      <td>0</td>\n",
              "      <td>0</td>\n",
              "    </tr>\n",
              "  </tbody>\n",
              "</table>\n",
              "<p>2 rows × 1000 columns</p>\n",
              "</div>"
            ],
            "text/plain": [
              "time_on_site  5.789338    5.836488    7.267690    7.280322    7.733815    \\\n",
              "purchased                                                                  \n",
              "False                  1           1           0           1           1   \n",
              "True                   0           0           1           0           0   \n",
              "\n",
              "time_on_site  7.772242    7.994579    8.373542    9.106003    9.383797    \\\n",
              "purchased                                                                  \n",
              "False                  1           1           1           1           1   \n",
              "True                   0           0           0           0           0   \n",
              "\n",
              "time_on_site     ...      582.536361  582.936243  588.878315  590.657475  \\\n",
              "purchased        ...                                                       \n",
              "False            ...               0           1           1           0   \n",
              "True             ...               1           0           0           1   \n",
              "\n",
              "time_on_site  593.818777  597.138120  597.711614  598.547188  599.088120  \\\n",
              "purchased                                                                  \n",
              "False                  1           1           1           1           1   \n",
              "True                   0           0           0           0           0   \n",
              "\n",
              "time_on_site  599.576656  \n",
              "purchased                 \n",
              "False                  1  \n",
              "True                   0  \n",
              "\n",
              "[2 rows x 1000 columns]"
            ]
          },
          "metadata": {
            "tags": []
          },
          "execution_count": 26
        }
      ]
    },
    {
      "metadata": {
        "id": "hvAv6J3EwA9s",
        "colab_type": "code",
        "outputId": "1733aa21-ede7-4408-8d32-398e7a0556b7",
        "colab": {
          "base_uri": "https://localhost:8080/",
          "height": 136
        }
      },
      "cell_type": "code",
      "source": [
        "# OK, that's not quite what we want\n",
        "# Time is continuous! We need to put it in discrete buckets\n",
        "# Pandas calls these bins, and pandas.cut helps make them\n",
        "# we have 20% data in one bin, %20 in the next. because 5 equals 100/20%\n",
        "time_bins = pd.cut(user_data['time_on_site'], 5)  # 5 equal-sized bins\n",
        "pd.crosstab(user_data['purchased'], time_bins)\n",
        "\n",
        "#dimension = columns in a dataframe"
      ],
      "execution_count": 15,
      "outputs": [
        {
          "output_type": "execute_result",
          "data": {
            "text/html": [
              "<div>\n",
              "<style scoped>\n",
              "    .dataframe tbody tr th:only-of-type {\n",
              "        vertical-align: middle;\n",
              "    }\n",
              "\n",
              "    .dataframe tbody tr th {\n",
              "        vertical-align: top;\n",
              "    }\n",
              "\n",
              "    .dataframe thead th {\n",
              "        text-align: right;\n",
              "    }\n",
              "</style>\n",
              "<table border=\"1\" class=\"dataframe\">\n",
              "  <thead>\n",
              "    <tr style=\"text-align: right;\">\n",
              "      <th>time_on_site</th>\n",
              "      <th>(4.804, 124.252]</th>\n",
              "      <th>(124.252, 243.106]</th>\n",
              "      <th>(243.106, 361.959]</th>\n",
              "      <th>(361.959, 480.813]</th>\n",
              "      <th>(480.813, 599.667]</th>\n",
              "    </tr>\n",
              "    <tr>\n",
              "      <th>purchased</th>\n",
              "      <th></th>\n",
              "      <th></th>\n",
              "      <th></th>\n",
              "      <th></th>\n",
              "      <th></th>\n",
              "    </tr>\n",
              "  </thead>\n",
              "  <tbody>\n",
              "    <tr>\n",
              "      <th>False</th>\n",
              "      <td>221</td>\n",
              "      <td>201</td>\n",
              "      <td>126</td>\n",
              "      <td>39</td>\n",
              "      <td>30</td>\n",
              "    </tr>\n",
              "    <tr>\n",
              "      <th>True</th>\n",
              "      <td>104</td>\n",
              "      <td>144</td>\n",
              "      <td>86</td>\n",
              "      <td>22</td>\n",
              "      <td>27</td>\n",
              "    </tr>\n",
              "  </tbody>\n",
              "</table>\n",
              "</div>"
            ],
            "text/plain": [
              "time_on_site  (4.804, 124.252]  (124.252, 243.106]  (243.106, 361.959]  \\\n",
              "purchased                                                                \n",
              "False                      221                 201                 126   \n",
              "True                       104                 144                  86   \n",
              "\n",
              "time_on_site  (361.959, 480.813]  (480.813, 599.667]  \n",
              "purchased                                             \n",
              "False                         39                  30  \n",
              "True                          22                  27  "
            ]
          },
          "metadata": {
            "tags": []
          },
          "execution_count": 15
        }
      ]
    },
    {
      "metadata": {
        "id": "pjcXnJw0wfaj",
        "colab_type": "code",
        "outputId": "5ed6c1d5-de56-453d-9ef0-a414996183e3",
        "colab": {
          "base_uri": "https://localhost:8080/",
          "height": 136
        }
      },
      "cell_type": "code",
      "source": [
        "# We can make this a bit clearer by normalizing (getting %)\n",
        "pd.crosstab(user_data['purchased'], time_bins, normalize='columns')"
      ],
      "execution_count": 27,
      "outputs": [
        {
          "output_type": "execute_result",
          "data": {
            "text/html": [
              "<div>\n",
              "<style scoped>\n",
              "    .dataframe tbody tr th:only-of-type {\n",
              "        vertical-align: middle;\n",
              "    }\n",
              "\n",
              "    .dataframe tbody tr th {\n",
              "        vertical-align: top;\n",
              "    }\n",
              "\n",
              "    .dataframe thead th {\n",
              "        text-align: right;\n",
              "    }\n",
              "</style>\n",
              "<table border=\"1\" class=\"dataframe\">\n",
              "  <thead>\n",
              "    <tr style=\"text-align: right;\">\n",
              "      <th>time_on_site</th>\n",
              "      <th>(4.804, 124.252]</th>\n",
              "      <th>(124.252, 243.106]</th>\n",
              "      <th>(243.106, 361.959]</th>\n",
              "      <th>(361.959, 480.813]</th>\n",
              "      <th>(480.813, 599.667]</th>\n",
              "    </tr>\n",
              "    <tr>\n",
              "      <th>purchased</th>\n",
              "      <th></th>\n",
              "      <th></th>\n",
              "      <th></th>\n",
              "      <th></th>\n",
              "      <th></th>\n",
              "    </tr>\n",
              "  </thead>\n",
              "  <tbody>\n",
              "    <tr>\n",
              "      <th>False</th>\n",
              "      <td>0.618462</td>\n",
              "      <td>0.64058</td>\n",
              "      <td>0.665094</td>\n",
              "      <td>0.606557</td>\n",
              "      <td>0.631579</td>\n",
              "    </tr>\n",
              "    <tr>\n",
              "      <th>True</th>\n",
              "      <td>0.381538</td>\n",
              "      <td>0.35942</td>\n",
              "      <td>0.334906</td>\n",
              "      <td>0.393443</td>\n",
              "      <td>0.368421</td>\n",
              "    </tr>\n",
              "  </tbody>\n",
              "</table>\n",
              "</div>"
            ],
            "text/plain": [
              "time_on_site  (4.804, 124.252]  (124.252, 243.106]  (243.106, 361.959]  \\\n",
              "purchased                                                                \n",
              "False                 0.618462             0.64058            0.665094   \n",
              "True                  0.381538             0.35942            0.334906   \n",
              "\n",
              "time_on_site  (361.959, 480.813]  (480.813, 599.667]  \n",
              "purchased                                             \n",
              "False                   0.606557            0.631579  \n",
              "True                    0.393443            0.368421  "
            ]
          },
          "metadata": {
            "tags": []
          },
          "execution_count": 27
        }
      ]
    },
    {
      "metadata": {
        "id": "C3GzvDxlvZMa",
        "colab_type": "code",
        "outputId": "6f066f31-eedc-4941-d674-c965a5746283",
        "colab": {
          "base_uri": "https://localhost:8080/",
          "height": 136
        }
      },
      "cell_type": "code",
      "source": [
        "# That seems counter to our hypothesis\n",
        "# More time on the site can actually have fewer purchases\n",
        "\n",
        "# But we know why, since we generated the data!\n",
        "# Let's look at mobile and purchased\n",
        "\n",
        "#we are looking at relationship between purchases and device they used \n",
        "pd.crosstab(user_data['purchased'], user_data['mobile'], normalize='columns')"
      ],
      "execution_count": 28,
      "outputs": [
        {
          "output_type": "execute_result",
          "data": {
            "text/html": [
              "<div>\n",
              "<style scoped>\n",
              "    .dataframe tbody tr th:only-of-type {\n",
              "        vertical-align: middle;\n",
              "    }\n",
              "\n",
              "    .dataframe tbody tr th {\n",
              "        vertical-align: top;\n",
              "    }\n",
              "\n",
              "    .dataframe thead th {\n",
              "        text-align: right;\n",
              "    }\n",
              "</style>\n",
              "<table border=\"1\" class=\"dataframe\">\n",
              "  <thead>\n",
              "    <tr style=\"text-align: right;\">\n",
              "      <th>mobile</th>\n",
              "      <th>False</th>\n",
              "      <th>True</th>\n",
              "    </tr>\n",
              "    <tr>\n",
              "      <th>purchased</th>\n",
              "      <th></th>\n",
              "      <th></th>\n",
              "    </tr>\n",
              "  </thead>\n",
              "  <tbody>\n",
              "    <tr>\n",
              "      <th>False</th>\n",
              "      <td>0.704</td>\n",
              "      <td>0.613333</td>\n",
              "    </tr>\n",
              "    <tr>\n",
              "      <th>True</th>\n",
              "      <td>0.296</td>\n",
              "      <td>0.386667</td>\n",
              "    </tr>\n",
              "  </tbody>\n",
              "</table>\n",
              "</div>"
            ],
            "text/plain": [
              "mobile     False     True \n",
              "purchased                 \n",
              "False      0.704  0.613333\n",
              "True       0.296  0.386667"
            ]
          },
          "metadata": {
            "tags": []
          },
          "execution_count": 28
        }
      ]
    },
    {
      "metadata": {
        "id": "KQb-wU60xCum",
        "colab_type": "code",
        "colab": {
          "base_uri": "https://localhost:8080/",
          "height": 182
        },
        "outputId": "46466e43-2894-4e90-ba43-0fb782aed219"
      },
      "cell_type": "code",
      "source": [
        "# Yep, mobile users are more likely to buy things\n",
        "# But we're still not seeing the *whole* story until we look at all 3 at once\n",
        "\n",
        "# Live/stretch goal - how can we do that?\n",
        "\n",
        "ct = pd.crosstab(user_data['mobile'], [user_data['purchased'],\n",
        "            time_bins], rownames=['device'],\n",
        "           colnames =[\"purchased\", \"time on site\"],\n",
        "            normalize ='index')\n",
        "\n",
        "ct"
      ],
      "execution_count": 51,
      "outputs": [
        {
          "output_type": "execute_result",
          "data": {
            "text/html": [
              "<div>\n",
              "<style scoped>\n",
              "    .dataframe tbody tr th:only-of-type {\n",
              "        vertical-align: middle;\n",
              "    }\n",
              "\n",
              "    .dataframe tbody tr th {\n",
              "        vertical-align: top;\n",
              "    }\n",
              "\n",
              "    .dataframe thead tr th {\n",
              "        text-align: left;\n",
              "    }\n",
              "\n",
              "    .dataframe thead tr:last-of-type th {\n",
              "        text-align: right;\n",
              "    }\n",
              "</style>\n",
              "<table border=\"1\" class=\"dataframe\">\n",
              "  <thead>\n",
              "    <tr>\n",
              "      <th>purchased</th>\n",
              "      <th colspan=\"5\" halign=\"left\">False</th>\n",
              "      <th colspan=\"5\" halign=\"left\">True</th>\n",
              "    </tr>\n",
              "    <tr>\n",
              "      <th>time on site</th>\n",
              "      <th>(4.804, 124.252]</th>\n",
              "      <th>(124.252, 243.106]</th>\n",
              "      <th>(243.106, 361.959]</th>\n",
              "      <th>(361.959, 480.813]</th>\n",
              "      <th>(480.813, 599.667]</th>\n",
              "      <th>(4.804, 124.252]</th>\n",
              "      <th>(124.252, 243.106]</th>\n",
              "      <th>(243.106, 361.959]</th>\n",
              "      <th>(361.959, 480.813]</th>\n",
              "      <th>(480.813, 599.667]</th>\n",
              "    </tr>\n",
              "    <tr>\n",
              "      <th>device</th>\n",
              "      <th></th>\n",
              "      <th></th>\n",
              "      <th></th>\n",
              "      <th></th>\n",
              "      <th></th>\n",
              "      <th></th>\n",
              "      <th></th>\n",
              "      <th></th>\n",
              "      <th></th>\n",
              "      <th></th>\n",
              "    </tr>\n",
              "  </thead>\n",
              "  <tbody>\n",
              "    <tr>\n",
              "      <th>False</th>\n",
              "      <td>0.228</td>\n",
              "      <td>0.204000</td>\n",
              "      <td>0.196000</td>\n",
              "      <td>0.052</td>\n",
              "      <td>0.024</td>\n",
              "      <td>0.088</td>\n",
              "      <td>0.104000</td>\n",
              "      <td>0.060000</td>\n",
              "      <td>0.016000</td>\n",
              "      <td>0.028000</td>\n",
              "    </tr>\n",
              "    <tr>\n",
              "      <th>True</th>\n",
              "      <td>0.192</td>\n",
              "      <td>0.226667</td>\n",
              "      <td>0.122667</td>\n",
              "      <td>0.032</td>\n",
              "      <td>0.040</td>\n",
              "      <td>0.136</td>\n",
              "      <td>0.130667</td>\n",
              "      <td>0.074667</td>\n",
              "      <td>0.026667</td>\n",
              "      <td>0.018667</td>\n",
              "    </tr>\n",
              "  </tbody>\n",
              "</table>\n",
              "</div>"
            ],
            "text/plain": [
              "purchased               False                                        \\\n",
              "time on site (4.804, 124.252] (124.252, 243.106] (243.106, 361.959]   \n",
              "device                                                                \n",
              "False                   0.228           0.204000           0.196000   \n",
              "True                    0.192           0.226667           0.122667   \n",
              "\n",
              "purchased                                                     True   \\\n",
              "time on site (361.959, 480.813] (480.813, 599.667] (4.804, 124.252]   \n",
              "device                                                                \n",
              "False                     0.052              0.024            0.088   \n",
              "True                      0.032              0.040            0.136   \n",
              "\n",
              "purchased                                                              \\\n",
              "time on site (124.252, 243.106] (243.106, 361.959] (361.959, 480.813]   \n",
              "device                                                                  \n",
              "False                  0.104000           0.060000           0.016000   \n",
              "True                   0.130667           0.074667           0.026667   \n",
              "\n",
              "purchased                        \n",
              "time on site (480.813, 599.667]  \n",
              "device                           \n",
              "False                  0.028000  \n",
              "True                   0.018667  "
            ]
          },
          "metadata": {
            "tags": []
          },
          "execution_count": 51
        }
      ]
    },
    {
      "metadata": {
        "id": "haI4ho1KS66I",
        "colab_type": "code",
        "colab": {
          "base_uri": "https://localhost:8080/",
          "height": 436
        },
        "outputId": "897154dc-255c-4b19-ac57-16e4e3371487"
      },
      "cell_type": "code",
      "source": [
        "# create a pivot_table because time intervals aren't correct\n",
        "\n",
        "pd.pivot_table(user_data, values='purchased', index=time_bins).plot.bar();\n",
        "\n"
      ],
      "execution_count": 59,
      "outputs": [
        {
          "output_type": "display_data",
          "data": {
            "image/png": "[encoded data removed]",
            "text/plain": [
              "<Figure size 576x396 with 1 Axes>"
            ]
          },
          "metadata": {
            "tags": []
          }
        }
      ]
    },
    {
      "metadata": {
        "id": "9kXsN-aoUCD0",
        "colab_type": "code",
        "colab": {
          "base_uri": "https://localhost:8080/",
          "height": 229
        },
        "outputId": "438b67c1-92c8-4d28-9a53-c4600ae10228"
      },
      "cell_type": "code",
      "source": [
        "#user_data.hist(bins = 20)\n",
        "\n",
        "({'purchased': purchased,\n",
        "                'time_on_site': time_on_site}, index=time_bins)\n",
        "df.plot.bar(rot=0)\n",
        "\n"
      ],
      "execution_count": 60,
      "outputs": [
        {
          "output_type": "error",
          "ename": "TypeError",
          "evalue": "ignored",
          "traceback": [
            "\u001b[0;31m---------------------------------------------------------------------------\u001b[0m",
            "\u001b[0;31mTypeError\u001b[0m                                 Traceback (most recent call last)",
            "\u001b[0;32m<ipython-input-60-da4f4175989a>\u001b[0m in \u001b[0;36m<module>\u001b[0;34m()\u001b[0m\n\u001b[1;32m      1\u001b[0m \u001b[0;34m\u001b[0m\u001b[0m\n\u001b[1;32m      2\u001b[0m df = user_data({'purchased': purchased,\n\u001b[0;32m----> 3\u001b[0;31m                 'time_on_site': time_on_site}, index=time_bins)\n\u001b[0m\u001b[1;32m      4\u001b[0m \u001b[0mdf\u001b[0m\u001b[0;34m.\u001b[0m\u001b[0mplot\u001b[0m\u001b[0;34m.\u001b[0m\u001b[0mbar\u001b[0m\u001b[0;34m(\u001b[0m\u001b[0mrot\u001b[0m\u001b[0;34m=\u001b[0m\u001b[0;36m0\u001b[0m\u001b[0;34m)\u001b[0m\u001b[0;34m\u001b[0m\u001b[0;34m\u001b[0m\u001b[0m\n\u001b[1;32m      5\u001b[0m \u001b[0;34m\u001b[0m\u001b[0m\n",
            "\u001b[0;31mTypeError\u001b[0m: 'DataFrame' object is not callable"
          ]
        }
      ]
    },
    {
      "metadata": {
        "id": "3-CiZKw5VXV8",
        "colab_type": "code",
        "colab": {}
      },
      "cell_type": "code",
      "source": [
        "import "
      ],
      "execution_count": 0,
      "outputs": []
    },
    {
      "metadata": {
        "id": "ZjiiYfcWRsZp",
        "colab_type": "code",
        "colab": {
          "base_uri": "https://localhost:8080/",
          "height": 6270
        },
        "outputId": "15075e18-d97d-4e4f-a518-c5d86b8816ab"
      },
      "cell_type": "code",
      "source": [
        "help(user_data.plot)\n",
        "\n"
      ],
      "execution_count": 32,
      "outputs": [
        {
          "output_type": "stream",
          "text": [
            "Help on FramePlotMethods in module pandas.plotting._core object:\n",
            "\n",
            "class FramePlotMethods(BasePlotMethods)\n",
            " |  DataFrame plotting accessor and method\n",
            " |  \n",
            " |  Examples\n",
            " |  --------\n",
            " |  >>> df.plot.line()\n",
            " |  >>> df.plot.scatter('x', 'y')\n",
            " |  >>> df.plot.hexbin()\n",
            " |  \n",
            " |  These plotting methods can also be accessed by calling the accessor as a\n",
            " |  method with the ``kind`` argument:\n",
            " |  ``df.plot(kind='line')`` is equivalent to ``df.plot.line()``\n",
            " |  \n",
            " |  Method resolution order:\n",
            " |      FramePlotMethods\n",
            " |      BasePlotMethods\n",
            " |      pandas.core.base.PandasObject\n",
            " |      pandas.core.base.StringMixin\n",
            " |      pandas.core.accessor.DirNamesMixin\n",
            " |      builtins.object\n",
            " |  \n",
            " |  Methods defined here:\n",
            " |  \n",
            " |  __call__(self, x=None, y=None, kind='line', ax=None, subplots=False, sharex=None, sharey=False, layout=None, figsize=None, use_index=True, title=None, grid=None, legend=True, style=None, logx=False, logy=False, loglog=False, xticks=None, yticks=None, xlim=None, ylim=None, rot=None, fontsize=None, colormap=None, table=False, yerr=None, xerr=None, secondary_y=False, sort_columns=False, **kwds)\n",
            " |      Make plots of DataFrame using matplotlib / pylab.\n",
            " |      \n",
            " |      *New in version 0.17.0:* Each plot kind has a corresponding method on the\n",
            " |      ``DataFrame.plot`` accessor:\n",
            " |      ``df.plot(kind='line')`` is equivalent to\n",
            " |      ``df.plot.line()``.\n",
            " |      \n",
            " |      Parameters\n",
            " |      ----------\n",
            " |      data : DataFrame\n",
            " |      x : label or position, default None\n",
            " |      y : label or position, default None\n",
            " |          Allows plotting of one column versus another\n",
            " |      kind : str\n",
            " |          - 'line' : line plot (default)\n",
            " |          - 'bar' : vertical bar plot\n",
            " |          - 'barh' : horizontal bar plot\n",
            " |          - 'hist' : histogram\n",
            " |          - 'box' : boxplot\n",
            " |          - 'kde' : Kernel Density Estimation plot\n",
            " |          - 'density' : same as 'kde'\n",
            " |          - 'area' : area plot\n",
            " |          - 'pie' : pie plot\n",
            " |          - 'scatter' : scatter plot\n",
            " |          - 'hexbin' : hexbin plot\n",
            " |      ax : matplotlib axes object, default None\n",
            " |      subplots : boolean, default False\n",
            " |          Make separate subplots for each column\n",
            " |      sharex : boolean, default True if ax is None else False\n",
            " |          In case subplots=True, share x axis and set some x axis labels to\n",
            " |          invisible; defaults to True if ax is None otherwise False if an ax\n",
            " |          is passed in; Be aware, that passing in both an ax and sharex=True\n",
            " |          will alter all x axis labels for all axis in a figure!\n",
            " |      sharey : boolean, default False\n",
            " |          In case subplots=True, share y axis and set some y axis labels to\n",
            " |          invisible\n",
            " |      layout : tuple (optional)\n",
            " |          (rows, columns) for the layout of subplots\n",
            " |      figsize : a tuple (width, height) in inches\n",
            " |      use_index : boolean, default True\n",
            " |          Use index as ticks for x axis\n",
            " |      title : string or list\n",
            " |          Title to use for the plot. If a string is passed, print the string at\n",
            " |          the top of the figure. If a list is passed and `subplots` is True,\n",
            " |          print each item in the list above the corresponding subplot.\n",
            " |      grid : boolean, default None (matlab style default)\n",
            " |          Axis grid lines\n",
            " |      legend : False/True/'reverse'\n",
            " |          Place legend on axis subplots\n",
            " |      style : list or dict\n",
            " |          matplotlib line style per column\n",
            " |      logx : boolean, default False\n",
            " |          Use log scaling on x axis\n",
            " |      logy : boolean, default False\n",
            " |          Use log scaling on y axis\n",
            " |      loglog : boolean, default False\n",
            " |          Use log scaling on both x and y axes\n",
            " |      xticks : sequence\n",
            " |          Values to use for the xticks\n",
            " |      yticks : sequence\n",
            " |          Values to use for the yticks\n",
            " |      xlim : 2-tuple/list\n",
            " |      ylim : 2-tuple/list\n",
            " |      rot : int, default None\n",
            " |          Rotation for ticks (xticks for vertical, yticks for horizontal plots)\n",
            " |      fontsize : int, default None\n",
            " |          Font size for xticks and yticks\n",
            " |      colormap : str or matplotlib colormap object, default None\n",
            " |          Colormap to select colors from. If string, load colormap with that name\n",
            " |          from matplotlib.\n",
            " |      colorbar : boolean, optional\n",
            " |          If True, plot colorbar (only relevant for 'scatter' and 'hexbin' plots)\n",
            " |      position : float\n",
            " |          Specify relative alignments for bar plot layout.\n",
            " |          From 0 (left/bottom-end) to 1 (right/top-end). Default is 0.5 (center)\n",
            " |      table : boolean, Series or DataFrame, default False\n",
            " |          If True, draw a table using the data in the DataFrame and the data will\n",
            " |          be transposed to meet matplotlib's default layout.\n",
            " |          If a Series or DataFrame is passed, use passed data to draw a table.\n",
            " |      yerr : DataFrame, Series, array-like, dict and str\n",
            " |          See :ref:`Plotting with Error Bars <visualization.errorbars>` for\n",
            " |          detail.\n",
            " |      xerr : same types as yerr.\n",
            " |      stacked : boolean, default False in line and\n",
            " |          bar plots, and True in area plot. If True, create stacked plot.\n",
            " |      sort_columns : boolean, default False\n",
            " |          Sort column names to determine plot ordering\n",
            " |      secondary_y : boolean or sequence, default False\n",
            " |          Whether to plot on the secondary y-axis\n",
            " |          If a list/tuple, which columns to plot on secondary y-axis\n",
            " |      mark_right : boolean, default True\n",
            " |          When using a secondary_y axis, automatically mark the column\n",
            " |          labels with \"(right)\" in the legend\n",
            " |      kwds : keywords\n",
            " |          Options to pass to matplotlib plotting method\n",
            " |      \n",
            " |      Returns\n",
            " |      -------\n",
            " |      axes : matplotlib.AxesSubplot or np.array of them\n",
            " |      \n",
            " |      Notes\n",
            " |      -----\n",
            " |      \n",
            " |      - See matplotlib documentation online for more on this subject\n",
            " |      - If `kind` = 'bar' or 'barh', you can specify relative alignments\n",
            " |        for bar plot layout by `position` keyword.\n",
            " |        From 0 (left/bottom-end) to 1 (right/top-end). Default is 0.5 (center)\n",
            " |      - If `kind` = 'scatter' and the argument `c` is the name of a dataframe\n",
            " |        column, the values of that column are used to color each point.\n",
            " |      - If `kind` = 'hexbin', you can control the size of the bins with the\n",
            " |        `gridsize` argument. By default, a histogram of the counts around each\n",
            " |        `(x, y)` point is computed. You can specify alternative aggregations\n",
            " |        by passing values to the `C` and `reduce_C_function` arguments.\n",
            " |        `C` specifies the value at each `(x, y)` point and `reduce_C_function`\n",
            " |        is a function of one argument that reduces all the values in a bin to\n",
            " |        a single number (e.g. `mean`, `max`, `sum`, `std`).\n",
            " |  \n",
            " |  area(self, x=None, y=None, **kwds)\n",
            " |      Area plot\n",
            " |      \n",
            " |      .. versionadded:: 0.17.0\n",
            " |      \n",
            " |      Parameters\n",
            " |      ----------\n",
            " |      x, y : label or position, optional\n",
            " |          Coordinates for each point.\n",
            " |      **kwds : optional\n",
            " |          Keyword arguments to pass on to :py:meth:`pandas.DataFrame.plot`.\n",
            " |      \n",
            " |      Returns\n",
            " |      -------\n",
            " |      axes : matplotlib.AxesSubplot or np.array of them\n",
            " |  \n",
            " |  bar(self, x=None, y=None, **kwds)\n",
            " |      Vertical bar plot\n",
            " |      \n",
            " |      .. versionadded:: 0.17.0\n",
            " |      \n",
            " |      Parameters\n",
            " |      ----------\n",
            " |      x, y : label or position, optional\n",
            " |          Coordinates for each point.\n",
            " |      **kwds : optional\n",
            " |          Keyword arguments to pass on to :py:meth:`pandas.DataFrame.plot`.\n",
            " |      \n",
            " |      Returns\n",
            " |      -------\n",
            " |      axes : matplotlib.AxesSubplot or np.array of them\n",
            " |  \n",
            " |  barh(self, x=None, y=None, **kwds)\n",
            " |      Horizontal bar plot\n",
            " |      \n",
            " |      .. versionadded:: 0.17.0\n",
            " |      \n",
            " |      Parameters\n",
            " |      ----------\n",
            " |      x, y : label or position, optional\n",
            " |          Coordinates for each point.\n",
            " |      **kwds : optional\n",
            " |          Keyword arguments to pass on to :py:meth:`pandas.DataFrame.plot`.\n",
            " |      \n",
            " |      Returns\n",
            " |      -------\n",
            " |      axes : matplotlib.AxesSubplot or np.array of them\n",
            " |  \n",
            " |  box(self, by=None, **kwds)\n",
            " |      Boxplot\n",
            " |      \n",
            " |      .. versionadded:: 0.17.0\n",
            " |      \n",
            " |      Parameters\n",
            " |      ----------\n",
            " |      by : string or sequence\n",
            " |          Column in the DataFrame to group by.\n",
            " |      \\*\\*kwds : optional\n",
            " |          Keyword arguments to pass on to :py:meth:`pandas.DataFrame.plot`.\n",
            " |      \n",
            " |      Returns\n",
            " |      -------\n",
            " |      axes : matplotlib.AxesSubplot or np.array of them\n",
            " |  \n",
            " |  density = kde(self, **kwds)\n",
            " |  \n",
            " |  hexbin(self, x, y, C=None, reduce_C_function=None, gridsize=None, **kwds)\n",
            " |      Hexbin plot\n",
            " |      \n",
            " |      .. versionadded:: 0.17.0\n",
            " |      \n",
            " |      Parameters\n",
            " |      ----------\n",
            " |      x, y : label or position, optional\n",
            " |          Coordinates for each point.\n",
            " |      C : label or position, optional\n",
            " |          The value at each `(x, y)` point.\n",
            " |      reduce_C_function : callable, optional\n",
            " |          Function of one argument that reduces all the values in a bin to\n",
            " |          a single number (e.g. `mean`, `max`, `sum`, `std`).\n",
            " |      gridsize : int, optional\n",
            " |          Number of bins.\n",
            " |      **kwds : optional\n",
            " |          Keyword arguments to pass on to :py:meth:`pandas.DataFrame.plot`.\n",
            " |      \n",
            " |      Returns\n",
            " |      -------\n",
            " |      axes : matplotlib.AxesSubplot or np.array of them\n",
            " |  \n",
            " |  hist(self, by=None, bins=10, **kwds)\n",
            " |      Histogram\n",
            " |      \n",
            " |      .. versionadded:: 0.17.0\n",
            " |      \n",
            " |      Parameters\n",
            " |      ----------\n",
            " |      by : string or sequence\n",
            " |          Column in the DataFrame to group by.\n",
            " |      bins: integer, default 10\n",
            " |          Number of histogram bins to be used\n",
            " |      **kwds : optional\n",
            " |          Keyword arguments to pass on to :py:meth:`pandas.DataFrame.plot`.\n",
            " |      \n",
            " |      Returns\n",
            " |      -------\n",
            " |      axes : matplotlib.AxesSubplot or np.array of them\n",
            " |  \n",
            " |  kde(self, **kwds)\n",
            " |      Kernel Density Estimate plot\n",
            " |      \n",
            " |      .. versionadded:: 0.17.0\n",
            " |      \n",
            " |      Parameters\n",
            " |      ----------\n",
            " |      **kwds : optional\n",
            " |          Keyword arguments to pass on to :py:meth:`pandas.DataFrame.plot`.\n",
            " |      \n",
            " |      Returns\n",
            " |      -------\n",
            " |      axes : matplotlib.AxesSubplot or np.array of them\n",
            " |  \n",
            " |  line(self, x=None, y=None, **kwds)\n",
            " |      Line plot\n",
            " |      \n",
            " |      .. versionadded:: 0.17.0\n",
            " |      \n",
            " |      Parameters\n",
            " |      ----------\n",
            " |      x, y : label or position, optional\n",
            " |          Coordinates for each point.\n",
            " |      **kwds : optional\n",
            " |          Keyword arguments to pass on to :py:meth:`pandas.DataFrame.plot`.\n",
            " |      \n",
            " |      Returns\n",
            " |      -------\n",
            " |      axes : matplotlib.AxesSubplot or np.array of them\n",
            " |  \n",
            " |  pie(self, y=None, **kwds)\n",
            " |      Pie chart\n",
            " |      \n",
            " |      .. versionadded:: 0.17.0\n",
            " |      \n",
            " |      Parameters\n",
            " |      ----------\n",
            " |      y : label or position, optional\n",
            " |          Column to plot.\n",
            " |      **kwds : optional\n",
            " |          Keyword arguments to pass on to :py:meth:`pandas.DataFrame.plot`.\n",
            " |      \n",
            " |      Returns\n",
            " |      -------\n",
            " |      axes : matplotlib.AxesSubplot or np.array of them\n",
            " |  \n",
            " |  scatter(self, x, y, s=None, c=None, **kwds)\n",
            " |      Scatter plot\n",
            " |      \n",
            " |      .. versionadded:: 0.17.0\n",
            " |      \n",
            " |      Parameters\n",
            " |      ----------\n",
            " |      x, y : label or position, optional\n",
            " |          Coordinates for each point.\n",
            " |      s : scalar or array_like, optional\n",
            " |          Size of each point.\n",
            " |      c : label or position, optional\n",
            " |          Color of each point.\n",
            " |      **kwds : optional\n",
            " |          Keyword arguments to pass on to :py:meth:`pandas.DataFrame.plot`.\n",
            " |      \n",
            " |      Returns\n",
            " |      -------\n",
            " |      axes : matplotlib.AxesSubplot or np.array of them\n",
            " |  \n",
            " |  ----------------------------------------------------------------------\n",
            " |  Methods inherited from BasePlotMethods:\n",
            " |  \n",
            " |  __init__(self, data)\n",
            " |      Initialize self.  See help(type(self)) for accurate signature.\n",
            " |  \n",
            " |  ----------------------------------------------------------------------\n",
            " |  Methods inherited from pandas.core.base.PandasObject:\n",
            " |  \n",
            " |  __sizeof__(self)\n",
            " |      Generates the total memory usage for a object that returns\n",
            " |      either a value or Series of values\n",
            " |  \n",
            " |  __unicode__(self)\n",
            " |      Return a string representation for a particular object.\n",
            " |      \n",
            " |      Invoked by unicode(obj) in py2 only. Yields a Unicode String in both\n",
            " |      py2/py3.\n",
            " |  \n",
            " |  ----------------------------------------------------------------------\n",
            " |  Methods inherited from pandas.core.base.StringMixin:\n",
            " |  \n",
            " |  __bytes__(self)\n",
            " |      Return a string representation for a particular object.\n",
            " |      \n",
            " |      Invoked by bytes(obj) in py3 only.\n",
            " |      Yields a bytestring in both py2/py3.\n",
            " |  \n",
            " |  __repr__(self)\n",
            " |      Return a string representation for a particular object.\n",
            " |      \n",
            " |      Yields Bytestring in Py2, Unicode String in py3.\n",
            " |  \n",
            " |  __str__(self)\n",
            " |      Return a string representation for a particular Object\n",
            " |      \n",
            " |      Invoked by str(df) in both py2/py3.\n",
            " |      Yields Bytestring in Py2, Unicode String in py3.\n",
            " |  \n",
            " |  ----------------------------------------------------------------------\n",
            " |  Data descriptors inherited from pandas.core.base.StringMixin:\n",
            " |  \n",
            " |  __dict__\n",
            " |      dictionary for instance variables (if defined)\n",
            " |  \n",
            " |  __weakref__\n",
            " |      list of weak references to the object (if defined)\n",
            " |  \n",
            " |  ----------------------------------------------------------------------\n",
            " |  Methods inherited from pandas.core.accessor.DirNamesMixin:\n",
            " |  \n",
            " |  __dir__(self)\n",
            " |      Provide method name lookup and completion\n",
            " |      Only provide 'public' methods\n",
            "\n"
          ],
          "name": "stdout"
        }
      ]
    },
    {
      "metadata": {
        "id": "lOqaPds9huME",
        "colab_type": "text"
      },
      "cell_type": "markdown",
      "source": [
        "## Assignment - what's going on here?\n",
        "\n",
        "Consider the data in `persons.csv` (already prepared for you, in the repo for the week). It has four columns - a unique id, followed by age (in years), weight (in lbs), and exercise time (in minutes/week) of 1200 (hypothetical) people.\n",
        "\n",
        "Try to figure out which variables are possibly related to each other, and which may be confounding relationships."
      ]
    },
    {
      "metadata": {
        "id": "TGUS79cOhPWj",
        "colab_type": "code",
        "colab": {
          "base_uri": "https://localhost:8080/",
          "height": 343
        },
        "outputId": "37ff247e-d02a-4dc8-c71a-4992b635e9f4"
      },
      "cell_type": "code",
      "source": [
        "# TODO - your code here\n",
        "# Use what we did live in lecture as an example\n",
        "\n",
        "# HINT - you can find the raw URL on GitHub and potentially use that\n",
        "# to load the data with read_csv, or you can upload it yourself\n",
        "import numpy as np\n",
        "import pandas as pd\n",
        "from statistics import mean, stdev\n",
        "from google.colab import files\n",
        "\n",
        "\n",
        "pupil_data = pd.read_csv('https://raw.githubusercontent.com/Hira63S/DS-Unit-1-Sprint-1-Dealing-With-Data/master/module4-databackedassertions/persons.csv')\n",
        "\n",
        "pupil_data.columns =['ID', 'age', 'weight', 'exercise_time' ]\n",
        "pupil_data.head(10)\n",
        "\n",
        "\n",
        "#Weight and excersice time might be correlated\n",
        "#age and weight might confounding\n",
        "\n",
        "\n"
      ],
      "execution_count": 72,
      "outputs": [
        {
          "output_type": "execute_result",
          "data": {
            "text/html": [
              "<div>\n",
              "<style scoped>\n",
              "    .dataframe tbody tr th:only-of-type {\n",
              "        vertical-align: middle;\n",
              "    }\n",
              "\n",
              "    .dataframe tbody tr th {\n",
              "        vertical-align: top;\n",
              "    }\n",
              "\n",
              "    .dataframe thead th {\n",
              "        text-align: right;\n",
              "    }\n",
              "</style>\n",
              "<table border=\"1\" class=\"dataframe\">\n",
              "  <thead>\n",
              "    <tr style=\"text-align: right;\">\n",
              "      <th></th>\n",
              "      <th>ID</th>\n",
              "      <th>age</th>\n",
              "      <th>weight</th>\n",
              "      <th>exercise_time</th>\n",
              "    </tr>\n",
              "  </thead>\n",
              "  <tbody>\n",
              "    <tr>\n",
              "      <th>0</th>\n",
              "      <td>0</td>\n",
              "      <td>44</td>\n",
              "      <td>118</td>\n",
              "      <td>192</td>\n",
              "    </tr>\n",
              "    <tr>\n",
              "      <th>1</th>\n",
              "      <td>1</td>\n",
              "      <td>41</td>\n",
              "      <td>161</td>\n",
              "      <td>35</td>\n",
              "    </tr>\n",
              "    <tr>\n",
              "      <th>2</th>\n",
              "      <td>2</td>\n",
              "      <td>46</td>\n",
              "      <td>128</td>\n",
              "      <td>220</td>\n",
              "    </tr>\n",
              "    <tr>\n",
              "      <th>3</th>\n",
              "      <td>3</td>\n",
              "      <td>39</td>\n",
              "      <td>216</td>\n",
              "      <td>57</td>\n",
              "    </tr>\n",
              "    <tr>\n",
              "      <th>4</th>\n",
              "      <td>4</td>\n",
              "      <td>28</td>\n",
              "      <td>116</td>\n",
              "      <td>182</td>\n",
              "    </tr>\n",
              "    <tr>\n",
              "      <th>5</th>\n",
              "      <td>5</td>\n",
              "      <td>58</td>\n",
              "      <td>103</td>\n",
              "      <td>165</td>\n",
              "    </tr>\n",
              "    <tr>\n",
              "      <th>6</th>\n",
              "      <td>6</td>\n",
              "      <td>55</td>\n",
              "      <td>161</td>\n",
              "      <td>107</td>\n",
              "    </tr>\n",
              "    <tr>\n",
              "      <th>7</th>\n",
              "      <td>7</td>\n",
              "      <td>21</td>\n",
              "      <td>188</td>\n",
              "      <td>37</td>\n",
              "    </tr>\n",
              "    <tr>\n",
              "      <th>8</th>\n",
              "      <td>8</td>\n",
              "      <td>55</td>\n",
              "      <td>216</td>\n",
              "      <td>79</td>\n",
              "    </tr>\n",
              "    <tr>\n",
              "      <th>9</th>\n",
              "      <td>9</td>\n",
              "      <td>50</td>\n",
              "      <td>127</td>\n",
              "      <td>267</td>\n",
              "    </tr>\n",
              "  </tbody>\n",
              "</table>\n",
              "</div>"
            ],
            "text/plain": [
              "   ID  age  weight  exercise_time\n",
              "0   0   44     118            192\n",
              "1   1   41     161             35\n",
              "2   2   46     128            220\n",
              "3   3   39     216             57\n",
              "4   4   28     116            182\n",
              "5   5   58     103            165\n",
              "6   6   55     161            107\n",
              "7   7   21     188             37\n",
              "8   8   55     216             79\n",
              "9   9   50     127            267"
            ]
          },
          "metadata": {
            "tags": []
          },
          "execution_count": 72
        }
      ]
    },
    {
      "metadata": {
        "id": "T-U6MOT7K9dC",
        "colab_type": "code",
        "colab": {
          "base_uri": "https://localhost:8080/",
          "height": 390
        },
        "outputId": "69a57841-5b8e-4a05-fd3e-ec83e72aeb08"
      },
      "cell_type": "code",
      "source": [
        "print(pd.crosstab(pupil_data['age'], pupil_data['weight']).shape)\n",
        "pd.crosstab(pupil_data['age'], pupil_data['weight'])\n",
        "\n",
        "weight_bins = pd.cut(pupil_data['weight'], 5)  # 5 equal-sized bins\n",
        "pd.crosstab(pupil_data['age'], weight_bins)\n",
        "\n",
        "age_bins = pd.cut(pupil_data['age'], 10)\n",
        "pd.crosstab(age_bins, weight_bins)"
      ],
      "execution_count": 77,
      "outputs": [
        {
          "output_type": "stream",
          "text": [
            "(63, 143)\n"
          ],
          "name": "stdout"
        },
        {
          "output_type": "execute_result",
          "data": {
            "text/html": [
              "<div>\n",
              "<style scoped>\n",
              "    .dataframe tbody tr th:only-of-type {\n",
              "        vertical-align: middle;\n",
              "    }\n",
              "\n",
              "    .dataframe tbody tr th {\n",
              "        vertical-align: top;\n",
              "    }\n",
              "\n",
              "    .dataframe thead th {\n",
              "        text-align: right;\n",
              "    }\n",
              "</style>\n",
              "<table border=\"1\" class=\"dataframe\">\n",
              "  <thead>\n",
              "    <tr style=\"text-align: right;\">\n",
              "      <th>weight</th>\n",
              "      <th>(99.854, 129.2]</th>\n",
              "      <th>(129.2, 158.4]</th>\n",
              "      <th>(158.4, 187.6]</th>\n",
              "      <th>(187.6, 216.8]</th>\n",
              "      <th>(216.8, 246.0]</th>\n",
              "    </tr>\n",
              "    <tr>\n",
              "      <th>age</th>\n",
              "      <th></th>\n",
              "      <th></th>\n",
              "      <th></th>\n",
              "      <th></th>\n",
              "      <th></th>\n",
              "    </tr>\n",
              "  </thead>\n",
              "  <tbody>\n",
              "    <tr>\n",
              "      <th>(17.938, 24.2]</th>\n",
              "      <td>41</td>\n",
              "      <td>42</td>\n",
              "      <td>29</td>\n",
              "      <td>19</td>\n",
              "      <td>4</td>\n",
              "    </tr>\n",
              "    <tr>\n",
              "      <th>(24.2, 30.4]</th>\n",
              "      <td>39</td>\n",
              "      <td>44</td>\n",
              "      <td>20</td>\n",
              "      <td>15</td>\n",
              "      <td>3</td>\n",
              "    </tr>\n",
              "    <tr>\n",
              "      <th>(30.4, 36.6]</th>\n",
              "      <td>51</td>\n",
              "      <td>29</td>\n",
              "      <td>29</td>\n",
              "      <td>16</td>\n",
              "      <td>5</td>\n",
              "    </tr>\n",
              "    <tr>\n",
              "      <th>(36.6, 42.8]</th>\n",
              "      <td>53</td>\n",
              "      <td>33</td>\n",
              "      <td>20</td>\n",
              "      <td>15</td>\n",
              "      <td>2</td>\n",
              "    </tr>\n",
              "    <tr>\n",
              "      <th>(42.8, 49.0]</th>\n",
              "      <td>35</td>\n",
              "      <td>36</td>\n",
              "      <td>27</td>\n",
              "      <td>13</td>\n",
              "      <td>6</td>\n",
              "    </tr>\n",
              "    <tr>\n",
              "      <th>(49.0, 55.2]</th>\n",
              "      <td>43</td>\n",
              "      <td>26</td>\n",
              "      <td>22</td>\n",
              "      <td>13</td>\n",
              "      <td>2</td>\n",
              "    </tr>\n",
              "    <tr>\n",
              "      <th>(55.2, 61.4]</th>\n",
              "      <td>32</td>\n",
              "      <td>35</td>\n",
              "      <td>25</td>\n",
              "      <td>20</td>\n",
              "      <td>1</td>\n",
              "    </tr>\n",
              "    <tr>\n",
              "      <th>(61.4, 67.6]</th>\n",
              "      <td>21</td>\n",
              "      <td>36</td>\n",
              "      <td>20</td>\n",
              "      <td>24</td>\n",
              "      <td>8</td>\n",
              "    </tr>\n",
              "    <tr>\n",
              "      <th>(67.6, 73.8]</th>\n",
              "      <td>34</td>\n",
              "      <td>28</td>\n",
              "      <td>37</td>\n",
              "      <td>22</td>\n",
              "      <td>10</td>\n",
              "    </tr>\n",
              "    <tr>\n",
              "      <th>(73.8, 80.0]</th>\n",
              "      <td>26</td>\n",
              "      <td>26</td>\n",
              "      <td>29</td>\n",
              "      <td>22</td>\n",
              "      <td>12</td>\n",
              "    </tr>\n",
              "  </tbody>\n",
              "</table>\n",
              "</div>"
            ],
            "text/plain": [
              "weight          (99.854, 129.2]  (129.2, 158.4]  (158.4, 187.6]  \\\n",
              "age                                                               \n",
              "(17.938, 24.2]               41              42              29   \n",
              "(24.2, 30.4]                 39              44              20   \n",
              "(30.4, 36.6]                 51              29              29   \n",
              "(36.6, 42.8]                 53              33              20   \n",
              "(42.8, 49.0]                 35              36              27   \n",
              "(49.0, 55.2]                 43              26              22   \n",
              "(55.2, 61.4]                 32              35              25   \n",
              "(61.4, 67.6]                 21              36              20   \n",
              "(67.6, 73.8]                 34              28              37   \n",
              "(73.8, 80.0]                 26              26              29   \n",
              "\n",
              "weight          (187.6, 216.8]  (216.8, 246.0]  \n",
              "age                                             \n",
              "(17.938, 24.2]              19               4  \n",
              "(24.2, 30.4]                15               3  \n",
              "(30.4, 36.6]                16               5  \n",
              "(36.6, 42.8]                15               2  \n",
              "(42.8, 49.0]                13               6  \n",
              "(49.0, 55.2]                13               2  \n",
              "(55.2, 61.4]                20               1  \n",
              "(61.4, 67.6]                24               8  \n",
              "(67.6, 73.8]                22              10  \n",
              "(73.8, 80.0]                22              12  "
            ]
          },
          "metadata": {
            "tags": []
          },
          "execution_count": 77
        }
      ]
    },
    {
      "metadata": {
        "id": "9ehaViULQlan",
        "colab_type": "code",
        "colab": {
          "base_uri": "https://localhost:8080/",
          "height": 413
        },
        "outputId": "38beb45e-7a24-4510-b1cb-502b5b35935a"
      },
      "cell_type": "code",
      "source": [
        "pd.pivot_table(pupil_data, values='weight', index=age_bins).plot.bar();"
      ],
      "execution_count": 89,
      "outputs": [
        {
          "output_type": "display_data",
          "data": {
            "image/png": "[encoded data removed]",
            "text/plain": [
              "<Figure size 576x396 with 1 Axes>"
            ]
          },
          "metadata": {
            "tags": []
          }
        }
      ]
    },
    {
      "metadata": {
        "id": "ztz8qvnVkhMZ",
        "colab_type": "code",
        "colab": {
          "base_uri": "https://localhost:8080/",
          "height": 423
        },
        "outputId": "e29820da-d229-4fe9-bc67-d3c2978b5127"
      },
      "cell_type": "code",
      "source": [
        "pd.pivot_table(pupil_data, values='exercise_time', index=weight_bins).plot.bar();"
      ],
      "execution_count": 90,
      "outputs": [
        {
          "output_type": "display_data",
          "data": {
            "image/png": "[encoded data removed]",
            "text/plain": [
              "<Figure size 576x396 with 1 Axes>"
            ]
          },
          "metadata": {
            "tags": []
          }
        }
      ]
    },
    {
      "metadata": {
        "id": "vcJ1qjGdKDYQ",
        "colab_type": "code",
        "colab": {
          "base_uri": "https://localhost:8080/",
          "height": 504
        },
        "outputId": "1203d29c-3001-45fb-d5b2-cef9b3e8d5dc"
      },
      "cell_type": "code",
      "source": [
        "import numpy as np, pandas as pd; np.random.seed(0)\n",
        "import seaborn as sns; sns.set(style=\"white\", color_codes=True)\n",
        "\n",
        "sns.jointplot(x=\"age\", y=\"weight\", data=pupil_data, color:)"
      ],
      "execution_count": 82,
      "outputs": [
        {
          "output_type": "stream",
          "text": [
            "/usr/local/lib/python3.6/dist-packages/matplotlib/axes/_axes.py:6521: MatplotlibDeprecationWarning: \n",
            "The 'normed' kwarg was deprecated in Matplotlib 2.1 and will be removed in 3.1. Use 'density' instead.\n",
            "  alternative=\"'density'\", removal=\"3.1\")\n"
          ],
          "name": "stderr"
        },
        {
          "output_type": "execute_result",
          "data": {
            "text/plain": [
              "<seaborn.axisgrid.JointGrid at 0x7f0b31783b70>"
            ]
          },
          "metadata": {
            "tags": []
          },
          "execution_count": 82
        },
        {
          "output_type": "display_data",
          "data": {
            "image/png": "[encoded data removed]",
            "text/plain": [
              "<Figure size 432x432 with 3 Axes>"
            ]
          },
          "metadata": {
            "tags": []
          }
        }
      ]
    },
    {
      "metadata": {
        "id": "rVNkfy9oUjcI",
        "colab_type": "code",
        "colab": {
          "base_uri": "https://localhost:8080/",
          "height": 504
        },
        "outputId": "1315cb89-9594-4a93-b3fe-ac7833321007"
      },
      "cell_type": "code",
      "source": [
        "import numpy as np, pandas as pd; np.random.seed(0)\n",
        "import seaborn as sns; sns.set(style=\"white\", color_codes=True)\n",
        "sns.jointplot(x=\"weight\", y=\"exercise_time\", data=pupil_data, kind ='hex', color = 'teal')"
      ],
      "execution_count": 92,
      "outputs": [
        {
          "output_type": "stream",
          "text": [
            "/usr/local/lib/python3.6/dist-packages/matplotlib/axes/_axes.py:6521: MatplotlibDeprecationWarning: \n",
            "The 'normed' kwarg was deprecated in Matplotlib 2.1 and will be removed in 3.1. Use 'density' instead.\n",
            "  alternative=\"'density'\", removal=\"3.1\")\n"
          ],
          "name": "stderr"
        },
        {
          "output_type": "execute_result",
          "data": {
            "text/plain": [
              "<seaborn.axisgrid.JointGrid at 0x7f0b30e97ac8>"
            ]
          },
          "metadata": {
            "tags": []
          },
          "execution_count": 92
        },
        {
          "output_type": "display_data",
          "data": {
            "image/png": "[encoded data removed]",
            "text/plain": [
              "<Figure size 432x432 with 3 Axes>"
            ]
          },
          "metadata": {
            "tags": []
          }
        }
      ]
    },
    {
      "metadata": {
        "id": "5WYMbwAMU0Fm",
        "colab_type": "code",
        "colab": {
          "base_uri": "https://localhost:8080/",
          "height": 504
        },
        "outputId": "f91b42de-b794-4390-ded9-4700aad9c8b4"
      },
      "cell_type": "code",
      "source": [
        "sns.jointplot(x=\"exercise_time\", y=\"weight\", data=pupil_data, color = 'green')"
      ],
      "execution_count": 88,
      "outputs": [
        {
          "output_type": "stream",
          "text": [
            "/usr/local/lib/python3.6/dist-packages/matplotlib/axes/_axes.py:6521: MatplotlibDeprecationWarning: \n",
            "The 'normed' kwarg was deprecated in Matplotlib 2.1 and will be removed in 3.1. Use 'density' instead.\n",
            "  alternative=\"'density'\", removal=\"3.1\")\n"
          ],
          "name": "stderr"
        },
        {
          "output_type": "execute_result",
          "data": {
            "text/plain": [
              "<seaborn.axisgrid.JointGrid at 0x7f0b3142c5c0>"
            ]
          },
          "metadata": {
            "tags": []
          },
          "execution_count": 88
        },
        {
          "output_type": "display_data",
          "data": {
            "image/png": "[encoded data removed]",
            "text/plain": [
              "<Figure size 432x432 with 3 Axes>"
            ]
          },
          "metadata": {
            "tags": []
          }
        }
      ]
    },
    {
      "metadata": {
        "id": "BT9gdS7viJZa",
        "colab_type": "text"
      },
      "cell_type": "markdown",
      "source": [
        "### Assignment questions\n",
        "\n",
        "After you've worked on some code, answer the following questions in this text block:\n",
        "\n",
        "1.  What are the variable types in the data?\n",
        "\n",
        "They could all pass as continuous but in this specific dataset they are all discrete.\n",
        "\n",
        "2.  What are the relationships between the variables?\n",
        "So, Age and weight seems to be confounding variables. But Age and Exercise time, as well as weight and exercise had a correlation.\n",
        "\n",
        "3.  Which relationships are \"real\", and which spurious?\n"
      ]
    },
    {
      "metadata": {
        "id": "oFkbVAJdl-Gz",
        "colab_type": "text"
      },
      "cell_type": "markdown",
      "source": [
        "Try boxplots\n"
      ]
    },
    {
      "metadata": {
        "id": "_XXg2crAipwP",
        "colab_type": "text"
      },
      "cell_type": "markdown",
      "source": [
        "## Stretch goals and resources\n",
        "\n",
        "Following are *optional* things for you to take a look at. Focus on the above assignment first, and make sure to commit and push your changes to GitHub.\n",
        "\n",
        "- [Spurious Correlations](http://tylervigen.com/spurious-correlations)\n",
        "- [NIH on controlling for confounding variables](https://www.ncbi.nlm.nih.gov/pmc/articles/PMC4017459/)\n",
        "\n",
        "Stretch goals:\n",
        "\n",
        "- Produce your own plot inspired by the Spurious Correlation visualizations (and consider writing a blog post about it - both the content and how you made it)\n",
        "- Pick one of the techniques that NIH highlights for confounding variables - we'll be going into many of them later, but see if you can find which Python modules may help (hint - check scikit-learn)"
      ]
    }
  ]
}