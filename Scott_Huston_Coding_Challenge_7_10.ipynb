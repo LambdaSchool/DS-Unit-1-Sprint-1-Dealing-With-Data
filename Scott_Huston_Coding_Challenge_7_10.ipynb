{
  "nbformat": 4,
  "nbformat_minor": 0,
  "metadata": {
    "colab": {
      "name": "Scott Huston - Coding Challenge 7.10.ipynb",
      "version": "0.3.2",
      "provenance": [],
      "include_colab_link": true
    },
    "kernelspec": {
      "name": "python3",
      "display_name": "Python 3"
    }
  },
  "cells": [
    {
      "cell_type": "markdown",
      "metadata": {
        "id": "view-in-github",
        "colab_type": "text"
      },
      "source": [
        "<a href=\"https://colab.research.google.com/github/Scott-Huston/DS-Unit-1-Sprint-1-Dealing-With-Data/blob/master/Scott_Huston_Coding_Challenge_7_10.ipynb\" target=\"_parent\"><img src=\"https://colab.research.google.com/assets/colab-badge.svg\" alt=\"Open In Colab\"/></a>"
      ]
    },
    {
      "cell_type": "markdown",
      "metadata": {
        "id": "DTryy-ftM4Nn",
        "colab_type": "text"
      },
      "source": [
        "## Good Morning! For today's coding challenge, we are going to solve some python basics. "
      ]
    },
    {
      "cell_type": "markdown",
      "metadata": {
        "id": "MYcqiCCYNvrU",
        "colab_type": "text"
      },
      "source": [
        "### 1. Write a Python program to create all possible strings by using 'a', 'e', 'i', 'o', 'u'. Use the characters exactly once.\n"
      ]
    },
    {
      "cell_type": "code",
      "metadata": {
        "id": "P5oD9XXnMJ6S",
        "colab_type": "code",
        "colab": {
          "base_uri": "https://localhost:8080/",
          "height": 816
        },
        "outputId": "f0b1e8a7-ddd3-4cf2-fe51-11048432135f"
      },
      "source": [
        "# TODO code here\n",
        "\n",
        "# If you mean use the characters only once in the code, then this block does that\n",
        "letters = ['a', 'e', 'i', 'o', 'u']\n",
        "\n",
        "for i in range(5):\n",
        "  for j in range(5):\n",
        "    print(letters[i]+letters[j])\n",
        "    \n",
        "# If you mean use the characters only once in the strings, then this block does that\n",
        "print('\\n') # just a blank line to separate the two groups of strings\n",
        "\n",
        "letters = ['a', 'e', 'i', 'o', 'u']\n",
        "\n",
        "for i in range(5):\n",
        "  for j in range(5):\n",
        "    if i != j:\n",
        "      print(letters[i]+letters[j])\n",
        "\n"
      ],
      "execution_count": 17,
      "outputs": [
        {
          "output_type": "stream",
          "text": [
            "aa\n",
            "ae\n",
            "ai\n",
            "ao\n",
            "au\n",
            "ea\n",
            "ee\n",
            "ei\n",
            "eo\n",
            "eu\n",
            "ia\n",
            "ie\n",
            "ii\n",
            "io\n",
            "iu\n",
            "oa\n",
            "oe\n",
            "oi\n",
            "oo\n",
            "ou\n",
            "ua\n",
            "ue\n",
            "ui\n",
            "uo\n",
            "uu\n",
            "\n",
            "\n",
            "ae\n",
            "ai\n",
            "ao\n",
            "au\n",
            "ea\n",
            "ei\n",
            "eo\n",
            "eu\n",
            "ia\n",
            "ie\n",
            "io\n",
            "iu\n",
            "oa\n",
            "oe\n",
            "oi\n",
            "ou\n",
            "ua\n",
            "ue\n",
            "ui\n",
            "uo\n"
          ],
          "name": "stdout"
        }
      ]
    },
    {
      "cell_type": "markdown",
      "metadata": {
        "id": "U5VoSsxeN23s",
        "colab_type": "text"
      },
      "source": [
        "###2.  Write a Python program to calculate number of days between two dates"
      ]
    },
    {
      "cell_type": "code",
      "metadata": {
        "id": "OskMQGCUOTg9",
        "colab_type": "code",
        "colab": {
          "base_uri": "https://localhost:8080/",
          "height": 300
        },
        "outputId": "9f76833c-2628-46bf-f531-d5183eb44dd0"
      },
      "source": [
        "# TODO code here \n",
        "\n",
        "from datetime import datetime\n",
        "\n",
        "print('Please enter the start date in the format of the following example: Jun 1 2005')\n",
        "start_date = input()\n",
        "start_date = datetime.strptime(start_date, '%b %d %Y')\n",
        "\n",
        "print('Please enter the end date in the format of the following example: Jun 1 2005')\n",
        "end_date = input()\n",
        "end_date = datetime.strptime(end_date, '%b %d %Y')\n",
        "\n",
        "print ('Difference = ' + str(end_date - start_date))\n",
        "\n",
        "\n",
        "\n",
        "\n"
      ],
      "execution_count": 24,
      "outputs": [
        {
          "output_type": "stream",
          "text": [
            "Please enter the start date in the format of the following example: Jun 1 2005\n",
            "Jan 1 2000\n",
            "Please enter the end date in the format of the following example: Jun 1 2005\n",
            "Jan 2 2000\n"
          ],
          "name": "stdout"
        },
        {
          "output_type": "error",
          "ename": "TypeError",
          "evalue": "ignored",
          "traceback": [
            "\u001b[0;31m---------------------------------------------------------------------------\u001b[0m",
            "\u001b[0;31mTypeError\u001b[0m                                 Traceback (most recent call last)",
            "\u001b[0;32m<ipython-input-24-933db29061be>\u001b[0m in \u001b[0;36m<module>\u001b[0;34m()\u001b[0m\n\u001b[1;32m     10\u001b[0m \u001b[0mend_date\u001b[0m \u001b[0;34m=\u001b[0m \u001b[0mdatetime\u001b[0m\u001b[0;34m.\u001b[0m\u001b[0mstrptime\u001b[0m\u001b[0;34m(\u001b[0m\u001b[0mend_date\u001b[0m\u001b[0;34m,\u001b[0m \u001b[0;34m'%b %d %Y'\u001b[0m\u001b[0;34m)\u001b[0m\u001b[0;34m\u001b[0m\u001b[0;34m\u001b[0m\u001b[0m\n\u001b[1;32m     11\u001b[0m \u001b[0;34m\u001b[0m\u001b[0m\n\u001b[0;32m---> 12\u001b[0;31m \u001b[0mprint\u001b[0m \u001b[0;34m(\u001b[0m\u001b[0;34m'Difference = '\u001b[0m \u001b[0;34m+\u001b[0m \u001b[0mstr\u001b[0m\u001b[0;34m(\u001b[0m\u001b[0mend_date\u001b[0m \u001b[0;34m-\u001b[0m \u001b[0mstart_date\u001b[0m\u001b[0;34m,\u001b[0m \u001b[0;34m'%b %d %Y'\u001b[0m\u001b[0;34m)\u001b[0m\u001b[0;34m)\u001b[0m\u001b[0;34m\u001b[0m\u001b[0;34m\u001b[0m\u001b[0m\n\u001b[0m\u001b[1;32m     13\u001b[0m \u001b[0;34m\u001b[0m\u001b[0m\n\u001b[1;32m     14\u001b[0m \u001b[0;34m\u001b[0m\u001b[0m\n",
            "\u001b[0;31mTypeError\u001b[0m: decoding to str: need a bytes-like object, datetime.timedelta found"
          ]
        }
      ]
    },
    {
      "cell_type": "markdown",
      "metadata": {
        "id": "H039HvT_OWQD",
        "colab_type": "text"
      },
      "source": [
        "### 3. Write a Python program to get the difference between a given number and 17, if the number is greater than 17 return double the absolute difference.\n",
        "\n"
      ]
    },
    {
      "cell_type": "code",
      "metadata": {
        "id": "z7w5-aDmO6A9",
        "colab_type": "code",
        "colab": {
          "base_uri": "https://localhost:8080/",
          "height": 51
        },
        "outputId": "1d27516a-2903-4da1-a57d-d19baeeb6671"
      },
      "source": [
        "# TODO code here \n",
        "\n",
        "num = input()\n",
        "\n",
        "num = float(num)\n",
        "num = 17 - num\n",
        "\n",
        "if num < 0:\n",
        "  num = 2*abs(num)\n",
        "  return num\n",
        "\n",
        "\n",
        "\n"
      ],
      "execution_count": 7,
      "outputs": [
        {
          "output_type": "stream",
          "text": [
            "20\n",
            "6.0\n"
          ],
          "name": "stdout"
        }
      ]
    },
    {
      "cell_type": "markdown",
      "metadata": {
        "id": "Mx4wWoGlPtKD",
        "colab_type": "text"
      },
      "source": [
        "### Stretch Goals"
      ]
    },
    {
      "cell_type": "markdown",
      "metadata": {
        "id": "Fpfn3ozePw96",
        "colab_type": "text"
      },
      "source": [
        "### 4. Write a Python program to find whether a given number (accept from the user) is even or odd, print out an appropriate message to the user."
      ]
    },
    {
      "cell_type": "code",
      "metadata": {
        "id": "tUSmmweKPwaL",
        "colab_type": "code",
        "colab": {
          "base_uri": "https://localhost:8080/",
          "height": 51
        },
        "outputId": "10ab064c-1a14-468b-c245-583dd3098308"
      },
      "source": [
        "# TODO code here \n",
        "\n",
        "number = input()\n",
        "\n",
        "number = float(number)\n",
        "\n",
        "number = number%2\n",
        "\n",
        "if number == 0:\n",
        "  print('Even!')\n",
        "  \n",
        "else:\n",
        "  print('Odd!')\n",
        "  \n"
      ],
      "execution_count": 15,
      "outputs": [
        {
          "output_type": "stream",
          "text": [
            "122\n",
            "Even!\n"
          ],
          "name": "stdout"
        }
      ]
    },
    {
      "cell_type": "markdown",
      "metadata": {
        "id": "oHF_eYwkQSgH",
        "colab_type": "text"
      },
      "source": [
        "### 5. Write a Python program to display your details like name, age, address in three different lines."
      ]
    },
    {
      "cell_type": "code",
      "metadata": {
        "id": "aXmgBFO1QzCO",
        "colab_type": "code",
        "colab": {
          "base_uri": "https://localhost:8080/",
          "height": 170
        },
        "outputId": "e97661d1-5700-48bc-ee06-606d0bd2377c"
      },
      "source": [
        "# TODO code here \n",
        "\n",
        "# Getting name\n",
        "print('Please input your name')\n",
        "name = input()\n",
        "\n",
        "# Getting age\n",
        "print('Please input your age')\n",
        "age = int(input())\n",
        "\n",
        "# Getting address\n",
        "print('Please input your address')\n",
        "address = input()\n",
        "\n",
        "# Printing info with each detail on a new line\n",
        "print(name+'\\n'+str(age)+'\\n'+address)"
      ],
      "execution_count": 19,
      "outputs": [
        {
          "output_type": "stream",
          "text": [
            "Please input your name\n",
            "Scott\n",
            "Please input your age\n",
            "25\n",
            "Please input your address\n",
            "address\n",
            "Scott\n",
            "25\n",
            "address\n"
          ],
          "name": "stdout"
        }
      ]
    }
  ]
}