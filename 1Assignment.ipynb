{
  "nbformat": 4,
  "nbformat_minor": 0,
  "metadata": {
    "colab": {
      "name": "1Assignment.ipynb",
      "version": "0.3.2",
      "provenance": [],
      "collapsed_sections": [],
      "include_colab_link": true
    },
    "kernelspec": {
      "name": "python3",
      "display_name": "Python 3"
    }
  },
  "cells": [
    {
      "cell_type": "markdown",
      "metadata": {
        "id": "view-in-github",
        "colab_type": "text"
      },
      "source": [
        "<a href=\"https://colab.research.google.com/github/Baisalis/DS-Unit-1-Sprint-1-Dealing-With-Data/blob/master/1Assignment.ipynb\" target=\"_parent\"><img src=\"https://colab.research.google.com/assets/colab-badge.svg\" alt=\"Open In Colab\"/></a>"
      ]
    },
    {
      "cell_type": "code",
      "metadata": {
        "id": "_tTFj3xE9b6O",
        "colab_type": "code",
        "outputId": "ca8a87fc-e2e1-49c1-d9cc-fc8e4d13509b",
        "colab": {
          "base_uri": "https://localhost:8080/",
          "height": 68
        }
      },
      "source": [
        "\n",
        "import matplotlib.pyplot as plt\n",
        "import numpy as np\n",
        "arrx = np.random.rand(3,1)\n",
        "print (arrx)\n"
      ],
      "execution_count": 5,
      "outputs": [
        {
          "output_type": "stream",
          "text": [
            "[[0.73447457]\n",
            " [0.08845688]\n",
            " [0.75941525]]\n"
          ],
          "name": "stdout"
        }
      ]
    },
    {
      "cell_type": "code",
      "metadata": {
        "id": "Xks-oFi9Cg0l",
        "colab_type": "code",
        "outputId": "e8db6a21-7846-433a-8125-edf18f094cb0",
        "colab": {
          "base_uri": "https://localhost:8080/",
          "height": 34
        }
      },
      "source": [
        "a=np.array([1,2,3])\n",
        "print(type(a))\n"
      ],
      "execution_count": 6,
      "outputs": [
        {
          "output_type": "stream",
          "text": [
            "<class 'numpy.ndarray'>\n"
          ],
          "name": "stdout"
        }
      ]
    },
    {
      "cell_type": "code",
      "metadata": {
        "id": "wpe1Wff6S3NQ",
        "colab_type": "code",
        "outputId": "b701f312-b62d-4cb8-d33a-af506b4c9464",
        "colab": {
          "base_uri": "https://localhost:8080/",
          "height": 34
        }
      },
      "source": [
        "print(a.shape)"
      ],
      "execution_count": 7,
      "outputs": [
        {
          "output_type": "stream",
          "text": [
            "(3,)\n"
          ],
          "name": "stdout"
        }
      ]
    },
    {
      "cell_type": "code",
      "metadata": {
        "id": "R1yLon1YS-sl",
        "colab_type": "code",
        "outputId": "4bba0739-d5d8-43ef-b8f7-a5f6edebc2c7",
        "colab": {
          "base_uri": "https://localhost:8080/",
          "height": 34
        }
      },
      "source": [
        "b= np.arange(12)\n",
        "b"
      ],
      "execution_count": 8,
      "outputs": [
        {
          "output_type": "execute_result",
          "data": {
            "text/plain": [
              "array([ 0,  1,  2,  3,  4,  5,  6,  7,  8,  9, 10, 11])"
            ]
          },
          "metadata": {
            "tags": []
          },
          "execution_count": 8
        }
      ]
    },
    {
      "cell_type": "code",
      "metadata": {
        "id": "Kj__ElhrTQmF",
        "colab_type": "code",
        "outputId": "8f2548de-ffd9-447f-df5e-fd8bca945284",
        "colab": {
          "base_uri": "https://localhost:8080/",
          "height": 68
        }
      },
      "source": [
        "b.reshape(3,4)"
      ],
      "execution_count": 9,
      "outputs": [
        {
          "output_type": "execute_result",
          "data": {
            "text/plain": [
              "array([[ 0,  1,  2,  3],\n",
              "       [ 4,  5,  6,  7],\n",
              "       [ 8,  9, 10, 11]])"
            ]
          },
          "metadata": {
            "tags": []
          },
          "execution_count": 9
        }
      ]
    },
    {
      "cell_type": "code",
      "metadata": {
        "id": "EkNpw0rzUVAw",
        "colab_type": "code",
        "colab": {}
      },
      "source": [
        "import pandas as pd\n"
      ],
      "execution_count": 0,
      "outputs": []
    },
    {
      "cell_type": "code",
      "metadata": {
        "id": "uA7xjX0hWHsE",
        "colab_type": "code",
        "outputId": "ec4d4e11-5fef-47c6-8973-79f51441acf5",
        "colab": {
          "base_uri": "https://localhost:8080/",
          "height": 235
        }
      },
      "source": [
        "df = pd.DataFrame(np.random.randn(6,4),index=list(range(6)),columns=list(\"ABCD\"))\n",
        "df"
      ],
      "execution_count": 11,
      "outputs": [
        {
          "output_type": "execute_result",
          "data": {
            "text/html": [
              "<div>\n",
              "<style scoped>\n",
              "    .dataframe tbody tr th:only-of-type {\n",
              "        vertical-align: middle;\n",
              "    }\n",
              "\n",
              "    .dataframe tbody tr th {\n",
              "        vertical-align: top;\n",
              "    }\n",
              "\n",
              "    .dataframe thead th {\n",
              "        text-align: right;\n",
              "    }\n",
              "</style>\n",
              "<table border=\"1\" class=\"dataframe\">\n",
              "  <thead>\n",
              "    <tr style=\"text-align: right;\">\n",
              "      <th></th>\n",
              "      <th>A</th>\n",
              "      <th>B</th>\n",
              "      <th>C</th>\n",
              "      <th>D</th>\n",
              "    </tr>\n",
              "  </thead>\n",
              "  <tbody>\n",
              "    <tr>\n",
              "      <th>0</th>\n",
              "      <td>0.363009</td>\n",
              "      <td>0.562577</td>\n",
              "      <td>0.429636</td>\n",
              "      <td>1.851494</td>\n",
              "    </tr>\n",
              "    <tr>\n",
              "      <th>1</th>\n",
              "      <td>0.703909</td>\n",
              "      <td>0.081243</td>\n",
              "      <td>0.275011</td>\n",
              "      <td>-0.428981</td>\n",
              "    </tr>\n",
              "    <tr>\n",
              "      <th>2</th>\n",
              "      <td>-0.341581</td>\n",
              "      <td>-0.644388</td>\n",
              "      <td>-1.197036</td>\n",
              "      <td>-0.175434</td>\n",
              "    </tr>\n",
              "    <tr>\n",
              "      <th>3</th>\n",
              "      <td>0.351713</td>\n",
              "      <td>-0.040460</td>\n",
              "      <td>-0.312038</td>\n",
              "      <td>0.057301</td>\n",
              "    </tr>\n",
              "    <tr>\n",
              "      <th>4</th>\n",
              "      <td>-1.043130</td>\n",
              "      <td>-0.158041</td>\n",
              "      <td>0.276729</td>\n",
              "      <td>0.143662</td>\n",
              "    </tr>\n",
              "    <tr>\n",
              "      <th>5</th>\n",
              "      <td>-0.187208</td>\n",
              "      <td>-1.204675</td>\n",
              "      <td>0.554599</td>\n",
              "      <td>-0.302656</td>\n",
              "    </tr>\n",
              "  </tbody>\n",
              "</table>\n",
              "</div>"
            ],
            "text/plain": [
              "          A         B         C         D\n",
              "0  0.363009  0.562577  0.429636  1.851494\n",
              "1  0.703909  0.081243  0.275011 -0.428981\n",
              "2 -0.341581 -0.644388 -1.197036 -0.175434\n",
              "3  0.351713 -0.040460 -0.312038  0.057301\n",
              "4 -1.043130 -0.158041  0.276729  0.143662\n",
              "5 -0.187208 -1.204675  0.554599 -0.302656"
            ]
          },
          "metadata": {
            "tags": []
          },
          "execution_count": 11
        }
      ]
    },
    {
      "cell_type": "code",
      "metadata": {
        "id": "Ch6XPuB8Wf2C",
        "colab_type": "code",
        "outputId": "e3f0f1b2-bf8d-4088-f483-c15b51539cf4",
        "colab": {
          "base_uri": "https://localhost:8080/",
          "height": 297
        }
      },
      "source": [
        "df.describe()"
      ],
      "execution_count": 12,
      "outputs": [
        {
          "output_type": "execute_result",
          "data": {
            "text/html": [
              "<div>\n",
              "<style scoped>\n",
              "    .dataframe tbody tr th:only-of-type {\n",
              "        vertical-align: middle;\n",
              "    }\n",
              "\n",
              "    .dataframe tbody tr th {\n",
              "        vertical-align: top;\n",
              "    }\n",
              "\n",
              "    .dataframe thead th {\n",
              "        text-align: right;\n",
              "    }\n",
              "</style>\n",
              "<table border=\"1\" class=\"dataframe\">\n",
              "  <thead>\n",
              "    <tr style=\"text-align: right;\">\n",
              "      <th></th>\n",
              "      <th>A</th>\n",
              "      <th>B</th>\n",
              "      <th>C</th>\n",
              "      <th>D</th>\n",
              "    </tr>\n",
              "  </thead>\n",
              "  <tbody>\n",
              "    <tr>\n",
              "      <th>count</th>\n",
              "      <td>6.000000</td>\n",
              "      <td>6.000000</td>\n",
              "      <td>6.000000</td>\n",
              "      <td>6.000000</td>\n",
              "    </tr>\n",
              "    <tr>\n",
              "      <th>mean</th>\n",
              "      <td>-0.025548</td>\n",
              "      <td>-0.233957</td>\n",
              "      <td>0.004483</td>\n",
              "      <td>0.190898</td>\n",
              "    </tr>\n",
              "    <tr>\n",
              "      <th>std</th>\n",
              "      <td>0.630380</td>\n",
              "      <td>0.614454</td>\n",
              "      <td>0.659472</td>\n",
              "      <td>0.841392</td>\n",
              "    </tr>\n",
              "    <tr>\n",
              "      <th>min</th>\n",
              "      <td>-1.043130</td>\n",
              "      <td>-1.204675</td>\n",
              "      <td>-1.197036</td>\n",
              "      <td>-0.428981</td>\n",
              "    </tr>\n",
              "    <tr>\n",
              "      <th>25%</th>\n",
              "      <td>-0.302988</td>\n",
              "      <td>-0.522802</td>\n",
              "      <td>-0.165276</td>\n",
              "      <td>-0.270851</td>\n",
              "    </tr>\n",
              "    <tr>\n",
              "      <th>50%</th>\n",
              "      <td>0.082253</td>\n",
              "      <td>-0.099251</td>\n",
              "      <td>0.275870</td>\n",
              "      <td>-0.059066</td>\n",
              "    </tr>\n",
              "    <tr>\n",
              "      <th>75%</th>\n",
              "      <td>0.360185</td>\n",
              "      <td>0.050818</td>\n",
              "      <td>0.391409</td>\n",
              "      <td>0.122071</td>\n",
              "    </tr>\n",
              "    <tr>\n",
              "      <th>max</th>\n",
              "      <td>0.703909</td>\n",
              "      <td>0.562577</td>\n",
              "      <td>0.554599</td>\n",
              "      <td>1.851494</td>\n",
              "    </tr>\n",
              "  </tbody>\n",
              "</table>\n",
              "</div>"
            ],
            "text/plain": [
              "              A         B         C         D\n",
              "count  6.000000  6.000000  6.000000  6.000000\n",
              "mean  -0.025548 -0.233957  0.004483  0.190898\n",
              "std    0.630380  0.614454  0.659472  0.841392\n",
              "min   -1.043130 -1.204675 -1.197036 -0.428981\n",
              "25%   -0.302988 -0.522802 -0.165276 -0.270851\n",
              "50%    0.082253 -0.099251  0.275870 -0.059066\n",
              "75%    0.360185  0.050818  0.391409  0.122071\n",
              "max    0.703909  0.562577  0.554599  1.851494"
            ]
          },
          "metadata": {
            "tags": []
          },
          "execution_count": 12
        }
      ]
    },
    {
      "cell_type": "code",
      "metadata": {
        "id": "t60l7qFCWsGh",
        "colab_type": "code",
        "outputId": "2c46117c-9b09-4de0-cf4b-da65f335b82f",
        "colab": {
          "base_uri": "https://localhost:8080/",
          "height": 34
        }
      },
      "source": [
        "df.shape"
      ],
      "execution_count": 13,
      "outputs": [
        {
          "output_type": "execute_result",
          "data": {
            "text/plain": [
              "(6, 4)"
            ]
          },
          "metadata": {
            "tags": []
          },
          "execution_count": 13
        }
      ]
    },
    {
      "cell_type": "code",
      "metadata": {
        "id": "aurav5W7X32x",
        "colab_type": "code",
        "colab": {}
      },
      "source": [
        "import numpy as np\n",
        "import matplotlib.pyplot as plt\n",
        "%matplotlib inline"
      ],
      "execution_count": 0,
      "outputs": []
    },
    {
      "cell_type": "code",
      "metadata": {
        "id": "4izYwo5jYUp-",
        "colab_type": "code",
        "colab": {}
      },
      "source": [
        "np.random.seed(10)"
      ],
      "execution_count": 0,
      "outputs": []
    },
    {
      "cell_type": "code",
      "metadata": {
        "id": "ZcHnID6LYab0",
        "colab_type": "code",
        "colab": {}
      },
      "source": [
        "N=30\n",
        "x = np.random.rand(N)\n",
        "y = np.random.rand(N)\n",
        "colors= np.random.rand(N)"
      ],
      "execution_count": 0,
      "outputs": []
    },
    {
      "cell_type": "code",
      "metadata": {
        "id": "JHKDJeSKY5qE",
        "colab_type": "code",
        "colab": {}
      },
      "source": [
        "area =(30 * np.random.rand(N))**2"
      ],
      "execution_count": 0,
      "outputs": []
    },
    {
      "cell_type": "code",
      "metadata": {
        "id": "vrCBb7UxZUNB",
        "colab_type": "code",
        "outputId": "a8ee7238-f7e3-42b2-d5bf-7a9947502f89",
        "colab": {
          "base_uri": "https://localhost:8080/",
          "height": 269
        }
      },
      "source": [
        "plt.scatter(x, y, s=area, c=colors ,alpha =0.4)\n",
        "plt.show()"
      ],
      "execution_count": 18,
      "outputs": [
        {
          "output_type": "display_data",
          "data": {
            "image/png": "[encoded data removed]",
            "text/plain": [
              "<Figure size 432x288 with 1 Axes>"
            ]
          },
          "metadata": {
            "tags": []
          }
        }
      ]
    }
  ]
}