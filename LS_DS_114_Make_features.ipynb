{
  "nbformat": 4,
  "nbformat_minor": 0,
  "metadata": {
    "colab": {
      "name": "LS_DS_114_Make_features.ipynb",
      "version": "0.3.2",
      "provenance": [],
      "collapsed_sections": [],
      "include_colab_link": true
    },
    "language_info": {
      "codemirror_mode": {
        "name": "ipython",
        "version": 3
      },
      "file_extension": ".py",
      "mimetype": "text/x-python",
      "name": "python",
      "nbconvert_exporter": "python",
      "pygments_lexer": "ipython3",
      "version": "3.7.1"
    },
    "kernelspec": {
      "display_name": "Python 3",
      "language": "python",
      "name": "python3"
    }
  },
  "cells": [
    {
      "cell_type": "markdown",
      "metadata": {
        "id": "view-in-github",
        "colab_type": "text"
      },
      "source": [
        "<a href=\"https://colab.research.google.com/github/justin-hsieh/DS-Unit-1-Sprint-1-Dealing-With-Data/blob/master/LS_DS_114_Make_features.ipynb\" target=\"_parent\"><img src=\"https://colab.research.google.com/assets/colab-badge.svg\" alt=\"Open In Colab\"/></a>"
      ]
    },
    {
      "cell_type": "markdown",
      "metadata": {
        "colab_type": "text",
        "id": "qacqiXogluN_"
      },
      "source": [
        "_Lambda School Data Science_\n",
        "\n",
        "# Make features\n",
        "\n",
        "Objectives\n",
        "-  understand the purpose of feature engineering\n",
        "-  work with strings in pandas\n",
        "- work with dates and times in pandas\n",
        "-work with dataframe filtering, list comprehensions, apply functions\n",
        "\n",
        "Links\n",
        "- [Feature Engineering](https://en.wikipedia.org/wiki/Feature_engineering)\n",
        "- Python Data Science Handbook\n",
        "  - [Chapter 3.10](https://jakevdp.github.io/PythonDataScienceHandbook/03.10-working-with-strings.html), Vectorized String Operations\n",
        "  - [Chapter 3.11](https://jakevdp.github.io/PythonDataScienceHandbook/03.11-working-with-time-series.html), Working with Time Series"
      ]
    },
    {
      "cell_type": "markdown",
      "metadata": {
        "colab_type": "text",
        "id": "iSGiSktAoWIx"
      },
      "source": [
        "## Get LendingClub data\n",
        "\n",
        "[Source](https://www.lendingclub.com/info/download-data.action)"
      ]
    },
    {
      "cell_type": "code",
      "metadata": {
        "colab_type": "code",
        "id": "2ugxlWXimoHn",
        "outputId": "cf089d47-a71f-4f65-f637-905baab1eadd",
        "colab": {
          "base_uri": "https://localhost:8080/",
          "height": 227
        }
      },
      "source": [
        "!wget https://resources.lendingclub.com/LoanStats_2018Q4.csv.zip"
      ],
      "execution_count": 23,
      "outputs": [
        {
          "output_type": "stream",
          "text": [
            "--2019-07-12 03:29:16--  https://resources.lendingclub.com/LoanStats_2018Q4.csv.zip\n",
            "Resolving resources.lendingclub.com (resources.lendingclub.com)... 64.48.1.20\n",
            "Connecting to resources.lendingclub.com (resources.lendingclub.com)|64.48.1.20|:443... connected.\n",
            "HTTP request sent, awaiting response... 200 OK\n",
            "Length: unspecified [application/zip]\n",
            "Saving to: ‘LoanStats_2018Q4.csv.zip.2’\n",
            "\n",
            "LoanStats_2018Q4.cs     [                <=> ]  21.51M   810KB/s    in 27s     \n",
            "\n",
            "2019-07-12 03:29:44 (803 KB/s) - ‘LoanStats_2018Q4.csv.zip.2’ saved [22559146]\n",
            "\n"
          ],
          "name": "stdout"
        }
      ]
    },
    {
      "cell_type": "code",
      "metadata": {
        "colab_type": "code",
        "id": "-4sk6qPgmpmN",
        "outputId": "f52b8ac4-afad-4efa-a4b5-14e143766ba4",
        "colab": {
          "base_uri": "https://localhost:8080/",
          "height": 51
        }
      },
      "source": [
        "!unzip LoanStats_2018Q4.csv.zip"
      ],
      "execution_count": 24,
      "outputs": [
        {
          "output_type": "stream",
          "text": [
            "Archive:  LoanStats_2018Q4.csv.zip\n",
            "replace LoanStats_2018Q4.csv? [y]es, [n]o, [A]ll, [N]one, [r]ename: n\n"
          ],
          "name": "stdout"
        }
      ]
    },
    {
      "cell_type": "code",
      "metadata": {
        "colab_type": "code",
        "id": "seh5oNE1nD0X",
        "outputId": "1d29d9df-c448-4a57-89a5-99b7d156b6fa",
        "colab": {
          "base_uri": "https://localhost:8080/",
          "height": 209
        }
      },
      "source": [
        "!head LoanStats_2018Q4.csv"
      ],
      "execution_count": 25,
      "outputs": [
        {
          "output_type": "stream",
          "text": [
            "Notes offered by Prospectus (https://www.lendingclub.com/info/prospectus.action)\n",
            "\"id\",\"member_id\",\"loan_amnt\",\"funded_amnt\",\"funded_amnt_inv\",\"term\",\"int_rate\",\"installment\",\"grade\",\"sub_grade\",\"emp_title\",\"emp_length\",\"home_ownership\",\"annual_inc\",\"verification_status\",\"issue_d\",\"loan_status\",\"pymnt_plan\",\"url\",\"desc\",\"purpose\",\"title\",\"zip_code\",\"addr_state\",\"dti\",\"delinq_2yrs\",\"earliest_cr_line\",\"inq_last_6mths\",\"mths_since_last_delinq\",\"mths_since_last_record\",\"open_acc\",\"pub_rec\",\"revol_bal\",\"revol_util\",\"total_acc\",\"initial_list_status\",\"out_prncp\",\"out_prncp_inv\",\"total_pymnt\",\"total_pymnt_inv\",\"total_rec_prncp\",\"total_rec_int\",\"total_rec_late_fee\",\"recoveries\",\"collection_recovery_fee\",\"last_pymnt_d\",\"last_pymnt_amnt\",\"next_pymnt_d\",\"last_credit_pull_d\",\"collections_12_mths_ex_med\",\"mths_since_last_major_derog\",\"policy_code\",\"application_type\",\"annual_inc_joint\",\"dti_joint\",\"verification_status_joint\",\"acc_now_delinq\",\"tot_coll_amt\",\"tot_cur_bal\",\"open_acc_6m\",\"open_act_il\",\"open_il_12m\",\"open_il_24m\",\"mths_since_rcnt_il\",\"total_bal_il\",\"il_util\",\"open_rv_12m\",\"open_rv_24m\",\"max_bal_bc\",\"all_util\",\"total_rev_hi_lim\",\"inq_fi\",\"total_cu_tl\",\"inq_last_12m\",\"acc_open_past_24mths\",\"avg_cur_bal\",\"bc_open_to_buy\",\"bc_util\",\"chargeoff_within_12_mths\",\"delinq_amnt\",\"mo_sin_old_il_acct\",\"mo_sin_old_rev_tl_op\",\"mo_sin_rcnt_rev_tl_op\",\"mo_sin_rcnt_tl\",\"mort_acc\",\"mths_since_recent_bc\",\"mths_since_recent_bc_dlq\",\"mths_since_recent_inq\",\"mths_since_recent_revol_delinq\",\"num_accts_ever_120_pd\",\"num_actv_bc_tl\",\"num_actv_rev_tl\",\"num_bc_sats\",\"num_bc_tl\",\"num_il_tl\",\"num_op_rev_tl\",\"num_rev_accts\",\"num_rev_tl_bal_gt_0\",\"num_sats\",\"num_tl_120dpd_2m\",\"num_tl_30dpd\",\"num_tl_90g_dpd_24m\",\"num_tl_op_past_12m\",\"pct_tl_nvr_dlq\",\"percent_bc_gt_75\",\"pub_rec_bankruptcies\",\"tax_liens\",\"tot_hi_cred_lim\",\"total_bal_ex_mort\",\"total_bc_limit\",\"total_il_high_credit_limit\",\"revol_bal_joint\",\"sec_app_earliest_cr_line\",\"sec_app_inq_last_6mths\",\"sec_app_mort_acc\",\"sec_app_open_acc\",\"sec_app_revol_util\",\"sec_app_open_act_il\",\"sec_app_num_rev_accts\",\"sec_app_chargeoff_within_12_mths\",\"sec_app_collections_12_mths_ex_med\",\"sec_app_mths_since_last_major_derog\",\"hardship_flag\",\"hardship_type\",\"hardship_reason\",\"hardship_status\",\"deferral_term\",\"hardship_amount\",\"hardship_start_date\",\"hardship_end_date\",\"payment_plan_start_date\",\"hardship_length\",\"hardship_dpd\",\"hardship_loan_status\",\"orig_projected_additional_accrued_interest\",\"hardship_payoff_balance_amount\",\"hardship_last_payment_amount\",\"debt_settlement_flag\",\"debt_settlement_flag_date\",\"settlement_status\",\"settlement_date\",\"settlement_amount\",\"settlement_percentage\",\"settlement_term\"\n",
            "\"\",\"\",\"5000\",\"5000\",\"5000\",\" 36 months\",\" 17.97%\",\"180.69\",\"D\",\"D1\",\"Administrative\",\"6 years\",\"MORTGAGE\",\"59280\",\"Source Verified\",\"Dec-2018\",\"Current\",\"n\",\"\",\"\",\"debt_consolidation\",\"Debt consolidation\",\"490xx\",\"MI\",\"10.51\",\"0\",\"Apr-2011\",\"0\",\"\",\"\",\"8\",\"0\",\"4599\",\"19.1%\",\"13\",\"w\",\"4456.17\",\"4456.17\",\"895.96\",\"895.96\",\"543.83\",\"352.13\",\"0.0\",\"0.0\",\"0.0\",\"Jun-2019\",\"180.69\",\"Jul-2019\",\"Jun-2019\",\"0\",\"\",\"1\",\"Individual\",\"\",\"\",\"\",\"0\",\"0\",\"110299\",\"0\",\"1\",\"0\",\"2\",\"14\",\"7150\",\"72\",\"0\",\"2\",\"0\",\"35\",\"24100\",\"1\",\"5\",\"0\",\"4\",\"18383\",\"13800\",\"0\",\"0\",\"0\",\"87\",\"92\",\"15\",\"14\",\"2\",\"77\",\"\",\"14\",\"\",\"0\",\"0\",\"3\",\"3\",\"3\",\"4\",\"6\",\"7\",\"3\",\"8\",\"0\",\"0\",\"0\",\"0\",\"100\",\"0\",\"0\",\"0\",\"136927\",\"11749\",\"13800\",\"10000\",\"\",\"\",\"\",\"\",\"\",\"\",\"\",\"\",\"\",\"\",\"\",\"N\",\"\",\"\",\"\",\"\",\"\",\"\",\"\",\"\",\"\",\"\",\"\",\"\",\"\",\"\",\"N\",\"\",\"\",\"\",\"\",\"\",\"\"\n",
            "\"\",\"\",\"25000\",\"25000\",\"25000\",\" 60 months\",\" 14.47%\",\"587.82\",\"C\",\"C2\",\"teacher\",\"10+ years\",\"OWN\",\"110000\",\"Not Verified\",\"Dec-2018\",\"Current\",\"n\",\"\",\"\",\"credit_card\",\"Credit card refinancing\",\"117xx\",\"NY\",\"26.43\",\"1\",\"Jan-1997\",\"0\",\"7\",\"\",\"23\",\"0\",\"39053\",\"45.7%\",\"49\",\"w\",\"23533.24\",\"23533.24\",\"2908.95\",\"2908.95\",\"1466.76\",\"1442.19\",\"0.0\",\"0.0\",\"0.0\",\"May-2019\",\"587.82\",\"Jul-2019\",\"Jun-2019\",\"0\",\"7\",\"1\",\"Individual\",\"\",\"\",\"\",\"0\",\"0\",\"95648\",\"0\",\"3\",\"0\",\"0\",\"35\",\"54716\",\"23\",\"1\",\"2\",\"8422\",\"39\",\"85500\",\"0\",\"1\",\"0\",\"2\",\"4159\",\"34837\",\"44.5\",\"0\",\"0\",\"263\",\"246\",\"10\",\"10\",\"0\",\"48\",\"\",\"\",\"\",\"0\",\"9\",\"13\",\"10\",\"14\",\"21\",\"19\",\"27\",\"13\",\"23\",\"0\",\"0\",\"1\",\"1\",\"98\",\"10\",\"0\",\"0\",\"179321\",\"95648\",\"62800\",\"91424\",\"\",\"\",\"\",\"\",\"\",\"\",\"\",\"\",\"\",\"\",\"\",\"N\",\"\",\"\",\"\",\"\",\"\",\"\",\"\",\"\",\"\",\"\",\"\",\"\",\"\",\"\",\"N\",\"\",\"\",\"\",\"\",\"\",\"\"\n",
            "\"\",\"\",\"10000\",\"10000\",\"10000\",\" 36 months\",\" 10.33%\",\"324.23\",\"B\",\"B1\",\"\",\"< 1 year\",\"MORTGAGE\",\"280000\",\"Not Verified\",\"Dec-2018\",\"Current\",\"n\",\"\",\"\",\"debt_consolidation\",\"Debt consolidation\",\"974xx\",\"OR\",\"6.15\",\"2\",\"Jan-1996\",\"0\",\"18\",\"\",\"14\",\"0\",\"9082\",\"38%\",\"23\",\"w\",\"8788.59\",\"8788.59\",\"1612.54\",\"1612.54\",\"1211.41\",\"401.13\",\"0.0\",\"0.0\",\"0.0\",\"May-2019\",\"324.23\",\"Jul-2019\",\"Jun-2019\",\"0\",\"\",\"1\",\"Individual\",\"\",\"\",\"\",\"0\",\"671\",\"246828\",\"1\",\"3\",\"2\",\"3\",\"1\",\"48552\",\"62\",\"1\",\"3\",\"4923\",\"46\",\"23900\",\"2\",\"7\",\"1\",\"7\",\"17631\",\"11897\",\"43.1\",\"0\",\"0\",\"158\",\"275\",\"11\",\"1\",\"1\",\"11\",\"\",\"11\",\"\",\"0\",\"3\",\"4\",\"7\",\"7\",\"10\",\"9\",\"11\",\"4\",\"14\",\"0\",\"0\",\"0\",\"4\",\"91.3\",\"28.6\",\"0\",\"0\",\"367828\",\"61364\",\"20900\",\"54912\",\"\",\"\",\"\",\"\",\"\",\"\",\"\",\"\",\"\",\"\",\"\",\"N\",\"\",\"\",\"\",\"\",\"\",\"\",\"\",\"\",\"\",\"\",\"\",\"\",\"\",\"\",\"N\",\"\",\"\",\"\",\"\",\"\",\"\"\n",
            "\"\",\"\",\"4000\",\"4000\",\"4000\",\" 36 months\",\" 23.40%\",\"155.68\",\"E\",\"E1\",\"Security\",\"3 years\",\"RENT\",\"90000\",\"Source Verified\",\"Dec-2018\",\"Current\",\"n\",\"\",\"\",\"debt_consolidation\",\"Debt consolidation\",\"070xx\",\"NJ\",\"26.33\",\"0\",\"Sep-2006\",\"4\",\"59\",\"\",\"15\",\"0\",\"5199\",\"19.2%\",\"20\",\"w\",\"3596.15\",\"3596.15\",\"770.6\",\"770.60\",\"403.85\",\"366.75\",\"0.0\",\"0.0\",\"0.0\",\"May-2019\",\"155.68\",\"Jul-2019\",\"Jun-2019\",\"0\",\"\",\"1\",\"Individual\",\"\",\"\",\"\",\"0\",\"0\",\"66926\",\"5\",\"4\",\"3\",\"4\",\"5\",\"61727\",\"86\",\"6\",\"11\",\"1353\",\"68\",\"27100\",\"4\",\"0\",\"4\",\"15\",\"4462\",\"20174\",\"7.9\",\"0\",\"0\",\"147\",\"118\",\"2\",\"2\",\"0\",\"2\",\"\",\"0\",\"\",\"0\",\"5\",\"7\",\"9\",\"9\",\"8\",\"11\",\"12\",\"7\",\"15\",\"0\",\"0\",\"0\",\"9\",\"95\",\"0\",\"0\",\"0\",\"98655\",\"66926\",\"21900\",\"71555\",\"\",\"\",\"\",\"\",\"\",\"\",\"\",\"\",\"\",\"\",\"\",\"N\",\"\",\"\",\"\",\"\",\"\",\"\",\"\",\"\",\"\",\"\",\"\",\"\",\"\",\"\",\"N\",\"\",\"\",\"\",\"\",\"\",\"\"\n",
            "\"\",\"\",\"31450\",\"31450\",\"31450\",\" 36 months\",\"  7.56%\",\"979.16\",\"A\",\"A3\",\"Construction Manager\",\"7 years\",\"MORTGAGE\",\"130000\",\"Verified\",\"Dec-2018\",\"Current\",\"n\",\"\",\"\",\"debt_consolidation\",\"Debt consolidation\",\"895xx\",\"NV\",\"9.29\",\"0\",\"Jul-1997\",\"0\",\"\",\"\",\"11\",\"0\",\"65911\",\"63.1%\",\"17\",\"w\",\"26689.41\",\"26689.41\",\"5802.32\",\"5802.32\",\"4760.59\",\"1041.73\",\"0.0\",\"0.0\",\"0.0\",\"Jun-2019\",\"979.16\",\"Jul-2019\",\"Jun-2019\",\"0\",\"\",\"1\",\"Joint App\",\"239000\",\"12.77\",\"Verified\",\"0\",\"0\",\"422806\",\"0\",\"0\",\"0\",\"0\",\"75\",\"0\",\"\",\"0\",\"0\",\"18962\",\"63\",\"104400\",\"0\",\"2\",\"1\",\"0\",\"42281\",\"29007\",\"53.5\",\"0\",\"0\",\"89\",\"257\",\"28\",\"28\",\"3\",\"28\",\"\",\"11\",\"\",\"0\",\"4\",\"6\",\"6\",\"6\",\"2\",\"10\",\"12\",\"6\",\"11\",\"0\",\"0\",\"0\",\"0\",\"100\",\"33.3\",\"0\",\"0\",\"519900\",\"65911\",\"62400\",\"0\",\"64367\",\"Jul-1997\",\"0\",\"3\",\"14\",\"60.9\",\"1\",\"19\",\"0\",\"0\",\"\",\"N\",\"\",\"\",\"\",\"\",\"\",\"\",\"\",\"\",\"\",\"\",\"\",\"\",\"\",\"\",\"N\",\"\",\"\",\"\",\"\",\"\",\"\"\n",
            "\"\",\"\",\"15500\",\"15500\",\"15500\",\" 36 months\",\" 10.72%\",\"505.4\",\"B\",\"B2\",\"Administrative Assistant \",\"10+ years\",\"RENT\",\"52000\",\"Not Verified\",\"Dec-2018\",\"Current\",\"n\",\"\",\"\",\"credit_card\",\"Credit card refinancing\",\"925xx\",\"CA\",\"16.66\",\"0\",\"Oct-2007\",\"0\",\"\",\"\",\"13\",\"0\",\"13496\",\"33.9%\",\"16\",\"w\",\"13632.26\",\"13632.26\",\"2513.15\",\"2513.15\",\"1867.74\",\"645.41\",\"0.0\",\"0.0\",\"0.0\",\"May-2019\",\"505.4\",\"Jul-2019\",\"Jun-2019\",\"1\",\"\",\"1\",\"Individual\",\"\",\"\",\"\",\"0\",\"349\",\"19386\",\"1\",\"1\",\"0\",\"1\",\"15\",\"5890\",\"59\",\"3\",\"4\",\"6061\",\"39\",\"39800\",\"0\",\"2\",\"1\",\"5\",\"1491\",\"14251\",\"47.4\",\"0\",\"0\",\"60\",\"134\",\"6\",\"6\",\"0\",\"6\",\"\",\"11\",\"\",\"0\",\"6\",\"8\",\"7\",\"9\",\"2\",\"12\",\"14\",\"8\",\"13\",\"0\",\"0\",\"0\",\"3\",\"100\",\"0\",\"0\",\"0\",\"49742\",\"19386\",\"27100\",\"9942\",\"\",\"\",\"\",\"\",\"\",\"\",\"\",\"\",\"\",\"\",\"\",\"N\",\"\",\"\",\"\",\"\",\"\",\"\",\"\",\"\",\"\",\"\",\"\",\"\",\"\",\"\",\"N\",\"\",\"\",\"\",\"\",\"\",\"\"\n",
            "\"\",\"\",\"6000\",\"6000\",\"6000\",\" 36 months\",\" 14.47%\",\"206.44\",\"C\",\"C2\",\"\",\"< 1 year\",\"OWN\",\"300000\",\"Not Verified\",\"Dec-2018\",\"Current\",\"n\",\"\",\"\",\"debt_consolidation\",\"Debt consolidation\",\"068xx\",\"CT\",\"17.43\",\"1\",\"Apr-2002\",\"1\",\"17\",\"\",\"38\",\"0\",\"65950\",\"49.8%\",\"58\",\"w\",\"5313.18\",\"5313.18\",\"1024.96\",\"1024.96\",\"686.82\",\"338.14\",\"0.0\",\"0.0\",\"0.0\",\"May-2019\",\"206.44\",\"Jul-2019\",\"Jun-2019\",\"0\",\"\",\"1\",\"Individual\",\"\",\"\",\"\",\"0\",\"0\",\"349502\",\"1\",\"4\",\"1\",\"3\",\"7\",\"39961\",\"45\",\"1\",\"12\",\"15926\",\"48\",\"132500\",\"2\",\"2\",\"2\",\"15\",\"9197\",\"38683\",\"60.6\",\"0\",\"0\",\"166\",\"200\",\"4\",\"4\",\"1\",\"4\",\"\",\"4\",\"17\",\"0\",\"16\",\"20\",\"19\",\"26\",\"9\",\"33\",\"48\",\"20\",\"38\",\"0\",\"0\",\"0\",\"2\",\"100\",\"26.3\",\"0\",\"0\",\"477390\",\"105911\",\"98300\",\"89600\",\"\",\"\",\"\",\"\",\"\",\"\",\"\",\"\",\"\",\"\",\"\",\"N\",\"\",\"\",\"\",\"\",\"\",\"\",\"\",\"\",\"\",\"\",\"\",\"\",\"\",\"\",\"N\",\"\",\"\",\"\",\"\",\"\",\"\"\n",
            "\"\",\"\",\"6500\",\"6500\",\"6500\",\" 36 months\",\" 17.97%\",\"234.9\",\"D\",\"D1\",\"Quality Field Engineer\",\"4 years\",\"MORTGAGE\",\"154000\",\"Source Verified\",\"Dec-2018\",\"Current\",\"n\",\"\",\"\",\"debt_consolidation\",\"Debt consolidation\",\"278xx\",\"NC\",\"28.78\",\"2\",\"Oct-2008\",\"0\",\"6\",\"\",\"27\",\"0\",\"23754\",\"60.4%\",\"41\",\"w\",\"5791.28\",\"5791.28\",\"1164.77\",\"1164.77\",\"708.72\",\"456.05\",\"0.0\",\"0.0\",\"0.0\",\"May-2019\",\"234.9\",\"Jul-2019\",\"Jun-2019\",\"0\",\"6\",\"1\",\"Individual\",\"\",\"\",\"\",\"0\",\"0\",\"116747\",\"2\",\"8\",\"3\",\"5\",\"1\",\"92993\",\"78\",\"1\",\"6\",\"3943\",\"72\",\"39300\",\"3\",\"3\",\"3\",\"11\",\"4324\",\"4578\",\"62.8\",\"1\",\"0\",\"122\",\"74\",\"11\",\"1\",\"0\",\"13\",\"\",\"4\",\"\",\"1\",\"5\",\"19\",\"5\",\"8\",\"17\",\"19\",\"24\",\"19\",\"27\",\"0\",\"0\",\"1\",\"4\",\"90.2\",\"20\",\"0\",\"0\",\"169160\",\"116747\",\"12300\",\"129860\",\"\",\"\",\"\",\"\",\"\",\"\",\"\",\"\",\"\",\"\",\"\",\"N\",\"\",\"\",\"\",\"\",\"\",\"\",\"\",\"\",\"\",\"\",\"\",\"\",\"\",\"\",\"N\",\"\",\"\",\"\",\"\",\"\",\"\"\n"
          ],
          "name": "stdout"
        }
      ]
    },
    {
      "cell_type": "markdown",
      "metadata": {
        "colab_type": "text",
        "id": "3nAIRCZdofrY"
      },
      "source": [
        "## Load LendingClub data\n",
        "\n",
        "pandas documentation\n",
        "- [`read_csv`](https://pandas.pydata.org/pandas-docs/stable/generated/pandas.read_csv.html)\n",
        "- [`options.display`](https://pandas.pydata.org/pandas-docs/stable/options.html#available-options)"
      ]
    },
    {
      "cell_type": "code",
      "metadata": {
        "colab_type": "code",
        "id": "3-8Vn3y6ooBC",
        "colab": {}
      },
      "source": [
        "import pandas as pd\n",
        "import numpy as np\n",
        "\n",
        "df = pd.read_csv('LoanStats_2018Q4.csv')\n",
        "\n",
        " # some columns are truncated though and you need to be able to see them. These options will help make them all viewable\n",
        "pd.set_option('display.max_rows', 500)\n",
        "pd.set_option('display.max_columns', 500)\n",
        "pd.set_option('display.width', 1000)\n",
        "\n",
        "\n",
        "df.head() # notice that the data is bolded, thinks they are all headers"
      ],
      "execution_count": 0,
      "outputs": []
    },
    {
      "cell_type": "code",
      "metadata": {
        "id": "WaOMb5vf5Uh-",
        "colab_type": "code",
        "colab": {}
      },
      "source": [
        "df = pd.read_csv('LoanStats_2018Q4.csv', skiprows =1) #skiprows arg helps with the problem above\n",
        "df.head()"
      ],
      "execution_count": 0,
      "outputs": []
    },
    {
      "cell_type": "code",
      "metadata": {
        "id": "hAYPsDRU6tkb",
        "colab_type": "code",
        "outputId": "b7d61cc3-7a41-415f-dc2f-cf89eebcac18",
        "colab": {
          "base_uri": "https://localhost:8080/",
          "height": 34
        }
      },
      "source": [
        "df.shape"
      ],
      "execution_count": 28,
      "outputs": [
        {
          "output_type": "execute_result",
          "data": {
            "text/plain": [
              "(128414, 144)"
            ]
          },
          "metadata": {
            "tags": []
          },
          "execution_count": 28
        }
      ]
    },
    {
      "cell_type": "code",
      "metadata": {
        "id": "pouj3vjP6mI8",
        "colab_type": "code",
        "colab": {}
      },
      "source": [
        "df.isnull().sum() # there are several features with 2 values... check the bottom of the data! with tail()"
      ],
      "execution_count": 0,
      "outputs": []
    },
    {
      "cell_type": "code",
      "metadata": {
        "id": "zImWEOSr8DTO",
        "colab_type": "code",
        "colab": {}
      },
      "source": [
        "df = pd.read_csv('LoanStats_2018Q4.csv', skiprows =1, skipfooter=2, engine='python')\n",
        "df.head()"
      ],
      "execution_count": 0,
      "outputs": []
    },
    {
      "cell_type": "code",
      "metadata": {
        "id": "qyzkkcqE8aVu",
        "colab_type": "code",
        "colab": {}
      },
      "source": [
        "df.isnull().sum().sort_values(ascending=False)"
      ],
      "execution_count": 0,
      "outputs": []
    },
    {
      "cell_type": "code",
      "metadata": {
        "id": "N7P_AE7R86vY",
        "colab_type": "code",
        "colab": {}
      },
      "source": [
        "df.drop(['id','url','desc','member_id'], axis='columns', inplace=True)\n",
        "#or\n",
        "#df = df.drop(['id','url','desc','member_id'], axis='columns') \n",
        "#this convention is better than using inplace=True because it will be deprecated in the future\n",
        "#also helps you save a copy and avoids taking a while to run each cell seperately again if you mess up\n",
        "#Good practice to make a copy of your dataframe\n"
      ],
      "execution_count": 0,
      "outputs": []
    },
    {
      "cell_type": "code",
      "metadata": {
        "id": "avwiJVRE-wmP",
        "colab_type": "code",
        "colab": {}
      },
      "source": [
        "df.head()"
      ],
      "execution_count": 0,
      "outputs": []
    },
    {
      "cell_type": "markdown",
      "metadata": {
        "colab_type": "text",
        "id": "1b5_hMTio2Ly"
      },
      "source": [
        "## Work with strings"
      ]
    },
    {
      "cell_type": "markdown",
      "metadata": {
        "id": "U7sScOjWx6vn",
        "colab_type": "text"
      },
      "source": [
        "For machine learning, we usually want to replace strings with numbers.\n",
        "\n",
        "We can get info about which columns have a datatype of \"object\" (strings)"
      ]
    },
    {
      "cell_type": "code",
      "metadata": {
        "colab_type": "code",
        "id": "WOL7QPVNo3F4",
        "colab": {}
      },
      "source": [
        "df.dtypes"
      ],
      "execution_count": 0,
      "outputs": []
    },
    {
      "cell_type": "code",
      "metadata": {
        "id": "kgpu-GQrBysK",
        "colab_type": "code",
        "outputId": "1f15a802-f894-410a-98de-6c8e6f9a7416",
        "colab": {
          "base_uri": "https://localhost:8080/",
          "height": 34
        }
      },
      "source": [
        "df.head()\n",
        "#notice in the interest rate column it is considered a string, rather than a number. Must be able to convert to a number\n",
        "#type casting: convert one type into another\n",
        "\n",
        "\n",
        "float('17.97%'.strip('%')) # get rid of percent sign and then cast to a float\n"
      ],
      "execution_count": 35,
      "outputs": [
        {
          "output_type": "execute_result",
          "data": {
            "text/plain": [
              "17.97"
            ]
          },
          "metadata": {
            "tags": []
          },
          "execution_count": 35
        }
      ]
    },
    {
      "cell_type": "markdown",
      "metadata": {
        "id": "Ry2Bym9ix6vt",
        "colab_type": "text"
      },
      "source": [
        "### Convert `int_rate`\n",
        "\n",
        "Define a function to remove percent signs from strings and convert to floats"
      ]
    },
    {
      "cell_type": "code",
      "metadata": {
        "id": "HplkjIcAx6vv",
        "colab_type": "code",
        "colab": {}
      },
      "source": [
        "def remove_percent(string):\n",
        "  return float(string.strip('%'))"
      ],
      "execution_count": 0,
      "outputs": []
    },
    {
      "cell_type": "markdown",
      "metadata": {
        "id": "GSJGOtOax6vz",
        "colab_type": "text"
      },
      "source": [
        "Apply the function to the `int_rate` column"
      ]
    },
    {
      "cell_type": "code",
      "metadata": {
        "id": "ZbJEaN13x6v1",
        "colab_type": "code",
        "colab": {}
      },
      "source": [
        "df['int_rate'] = df['int_rate'].apply(remove_percent)"
      ],
      "execution_count": 0,
      "outputs": []
    },
    {
      "cell_type": "code",
      "metadata": {
        "id": "hq_NG6TLD4jf",
        "colab_type": "code",
        "colab": {}
      },
      "source": [
        "df.head()"
      ],
      "execution_count": 0,
      "outputs": []
    },
    {
      "cell_type": "code",
      "metadata": {
        "id": "cBJ9hesNEAW0",
        "colab_type": "code",
        "outputId": "0ed7326b-835a-4dde-e565-0eef4d728c80",
        "colab": {
          "base_uri": "https://localhost:8080/",
          "height": 34
        }
      },
      "source": [
        "#list Comprehension\n",
        "example_list = ['13.5%','13.57%','13.58%']\n",
        "[remove_percent(string) for string in example_list]"
      ],
      "execution_count": 39,
      "outputs": [
        {
          "output_type": "execute_result",
          "data": {
            "text/plain": [
              "[13.5, 13.57, 13.58]"
            ]
          },
          "metadata": {
            "tags": []
          },
          "execution_count": 39
        }
      ]
    },
    {
      "cell_type": "markdown",
      "metadata": {
        "id": "YczZA_qtx6v8",
        "colab_type": "text"
      },
      "source": [
        "### Clean `emp_title`\n",
        "\n",
        "Look at top 20 titles"
      ]
    },
    {
      "cell_type": "code",
      "metadata": {
        "id": "kKTLaHhEx6wG",
        "colab_type": "code",
        "colab": {}
      },
      "source": [
        "df['emp_title'].value_counts(dropna= False).head(20)"
      ],
      "execution_count": 0,
      "outputs": []
    },
    {
      "cell_type": "markdown",
      "metadata": {
        "id": "NXqn7Ofgx6wN",
        "colab_type": "text"
      },
      "source": [
        "How often is `emp_title` null?"
      ]
    },
    {
      "cell_type": "code",
      "metadata": {
        "id": "pYrVUXbIx6wQ",
        "colab_type": "code",
        "outputId": "cb35f587-f176-462c-86c6-fd9c2d6ab47e",
        "colab": {
          "base_uri": "https://localhost:8080/",
          "height": 34
        }
      },
      "source": [
        "df['emp_title'].isnull().sum()"
      ],
      "execution_count": 41,
      "outputs": [
        {
          "output_type": "execute_result",
          "data": {
            "text/plain": [
              "20947"
            ]
          },
          "metadata": {
            "tags": []
          },
          "execution_count": 41
        }
      ]
    },
    {
      "cell_type": "markdown",
      "metadata": {
        "id": "JbxhATm6x6wY",
        "colab_type": "text"
      },
      "source": [
        "Clean the title and handle missing values"
      ]
    },
    {
      "cell_type": "code",
      "metadata": {
        "id": "z89DchQJx6wa",
        "colab_type": "code",
        "colab": {}
      },
      "source": [
        "import numpy as np\n",
        "examples = ['owner','Supervisor',' Project Manager', np.NaN]"
      ],
      "execution_count": 0,
      "outputs": []
    },
    {
      "cell_type": "code",
      "metadata": {
        "id": "GMCdyRV6GPVd",
        "colab_type": "code",
        "outputId": "3370cd96-d8c2-4eb5-871b-4212e272778d",
        "colab": {
          "base_uri": "https://localhost:8080/",
          "height": 34
        }
      },
      "source": [
        "def clean_title(title):\n",
        "  if isinstance(title,str):\n",
        "    return title.strip().title()\n",
        "  else:\n",
        "    return \"unknown\"\n",
        "  return title.strip()\n",
        "\n",
        "[clean_title(x) for x in examples]"
      ],
      "execution_count": 43,
      "outputs": [
        {
          "output_type": "execute_result",
          "data": {
            "text/plain": [
              "['Owner', 'Supervisor', 'Project Manager', 'unknown']"
            ]
          },
          "metadata": {
            "tags": []
          },
          "execution_count": 43
        }
      ]
    },
    {
      "cell_type": "code",
      "metadata": {
        "id": "XONdLwKzHnj0",
        "colab_type": "code",
        "colab": {}
      },
      "source": [
        "df[\"emp_title\"] = df['emp_title'].apply(clean_title)"
      ],
      "execution_count": 0,
      "outputs": []
    },
    {
      "cell_type": "code",
      "metadata": {
        "id": "7Mg9cQSpHysj",
        "colab_type": "code",
        "colab": {}
      },
      "source": [
        "df['emp_title'].value_counts(dropna= False).head(20)"
      ],
      "execution_count": 0,
      "outputs": []
    },
    {
      "cell_type": "markdown",
      "metadata": {
        "id": "2kXxMUmjx6wi",
        "colab_type": "text"
      },
      "source": [
        "### Create `emp_title_manager`\n",
        "\n",
        "pandas documentation: [`str.contains`](https://pandas.pydata.org/pandas-docs/stable/generated/pandas.Series.str.contains.html)"
      ]
    },
    {
      "cell_type": "code",
      "metadata": {
        "id": "PEHc9anYx6wl",
        "colab_type": "code",
        "colab": {}
      },
      "source": [
        "df = df.apply(lambda x: x.str.strip().str.title() if x.dtype =='object' else x)"
      ],
      "execution_count": 0,
      "outputs": []
    },
    {
      "cell_type": "code",
      "metadata": {
        "id": "aA2YQc0pKhXg",
        "colab_type": "code",
        "colab": {}
      },
      "source": [
        "df['emp_title_manager'] = df['emp_title'].str.contains('Manager') #Make new column with instances that exist in another column 'contains manager'\n",
        "df.head()"
      ],
      "execution_count": 0,
      "outputs": []
    },
    {
      "cell_type": "code",
      "metadata": {
        "id": "PPp1aPycLr-R",
        "colab_type": "code",
        "colab": {}
      },
      "source": [
        "# Dataframe Filtering\n",
        "\n",
        "managers = df[df['emp_title_manager'] ==True] #contains dataframe where only rows where manager is true come backs\n",
        "plebians = df[df['emp_title_manager']==False]"
      ],
      "execution_count": 0,
      "outputs": []
    },
    {
      "cell_type": "code",
      "metadata": {
        "id": "QPeTqpLsMV9K",
        "colab_type": "code",
        "outputId": "a9293720-4f6d-4bd2-f7d7-e30f401b0b90",
        "colab": {
          "base_uri": "https://localhost:8080/",
          "height": 51
        }
      },
      "source": [
        "print(managers['int_rate'].mean())\n",
        "print(plebians['int_rate'].mean())"
      ],
      "execution_count": 49,
      "outputs": [
        {
          "output_type": "stream",
          "text": [
            "12.760582149647126\n",
            "12.957349045509492\n"
          ],
          "name": "stdout"
        }
      ]
    },
    {
      "cell_type": "code",
      "metadata": {
        "id": "ppcKMFk5MgaT",
        "colab_type": "code",
        "outputId": "932f175c-9b9a-4502-986b-1e12efa392ff",
        "colab": {
          "base_uri": "https://localhost:8080/",
          "height": 284
        }
      },
      "source": [
        "import seaborn as sns\n",
        "sns.distplot(managers['int_rate']);\n",
        "sns.distplot(plebians['int_rate']);"
      ],
      "execution_count": 50,
      "outputs": [
        {
          "output_type": "display_data",
          "data": {
            "image/png": "[encoded data removed]",
            "text/plain": [
              "<Figure size 432x288 with 1 Axes>"
            ]
          },
          "metadata": {
            "tags": []
          }
        }
      ]
    },
    {
      "cell_type": "markdown",
      "metadata": {
        "colab_type": "text",
        "id": "s8BcCY6so3by"
      },
      "source": [
        "## Work with dates"
      ]
    },
    {
      "cell_type": "markdown",
      "metadata": {
        "id": "IwjsbVE7x6wr",
        "colab_type": "text"
      },
      "source": [
        "pandas documentation\n",
        "- [to_datetime](https://pandas.pydata.org/pandas-docs/stable/generated/pandas.to_datetime.html)\n",
        "- [Time/Date Components](https://pandas.pydata.org/pandas-docs/stable/timeseries.html#time-date-components) \"You can access these properties via the `.dt` accessor\""
      ]
    },
    {
      "cell_type": "code",
      "metadata": {
        "id": "T_ec2qOVNRtt",
        "colab_type": "code",
        "outputId": "bd104148-d155-4e3a-d5c6-ddc3ff6bcb9c",
        "colab": {
          "base_uri": "https://localhost:8080/",
          "height": 51
        }
      },
      "source": [
        "df['issue_d'].head().values"
      ],
      "execution_count": 51,
      "outputs": [
        {
          "output_type": "execute_result",
          "data": {
            "text/plain": [
              "array(['Dec-2018', 'Dec-2018', 'Dec-2018', 'Dec-2018', 'Dec-2018'],\n",
              "      dtype=object)"
            ]
          },
          "metadata": {
            "tags": []
          },
          "execution_count": 51
        }
      ]
    },
    {
      "cell_type": "code",
      "metadata": {
        "id": "nDasH3M7NVqp",
        "colab_type": "code",
        "colab": {
          "base_uri": "https://localhost:8080/",
          "height": 103
        },
        "outputId": "84dec161-4faf-4bbd-dc88-690520e97046"
      },
      "source": [
        "df['issue_d'].describe()"
      ],
      "execution_count": 52,
      "outputs": [
        {
          "output_type": "execute_result",
          "data": {
            "text/plain": [
              "count       128412\n",
              "unique           3\n",
              "top       Oct-2018\n",
              "freq         46305\n",
              "Name: issue_d, dtype: object"
            ]
          },
          "metadata": {
            "tags": []
          },
          "execution_count": 52
        }
      ]
    },
    {
      "cell_type": "code",
      "metadata": {
        "id": "4SMW1xE-NZIK",
        "colab_type": "code",
        "colab": {}
      },
      "source": [
        "df['issue_d'] = pd.to_datetime(df['issue_d'], infer_datetime_format=True)"
      ],
      "execution_count": 0,
      "outputs": []
    },
    {
      "cell_type": "code",
      "metadata": {
        "id": "zOOodUcQNkX7",
        "colab_type": "code",
        "colab": {
          "base_uri": "https://localhost:8080/",
          "height": 68
        },
        "outputId": "48589f65-2188-4d32-c09e-dcbbb7c650b6"
      },
      "source": [
        "df['issue_d'].head().values"
      ],
      "execution_count": 54,
      "outputs": [
        {
          "output_type": "execute_result",
          "data": {
            "text/plain": [
              "array(['2018-12-01T00:00:00.000000000', '2018-12-01T00:00:00.000000000',\n",
              "       '2018-12-01T00:00:00.000000000', '2018-12-01T00:00:00.000000000',\n",
              "       '2018-12-01T00:00:00.000000000'], dtype='datetime64[ns]')"
            ]
          },
          "metadata": {
            "tags": []
          },
          "execution_count": 54
        }
      ]
    },
    {
      "cell_type": "code",
      "metadata": {
        "id": "6Ja-C26XNxGf",
        "colab_type": "code",
        "colab": {}
      },
      "source": [
        "df['issue_d'].dt.year # similar to contains method, gives you just the year of the loans\n"
      ],
      "execution_count": 0,
      "outputs": []
    },
    {
      "cell_type": "code",
      "metadata": {
        "id": "thDD5qXjOOY_",
        "colab_type": "code",
        "colab": {}
      },
      "source": [
        "df['issue_year'] = df['issue_d'].dt.year"
      ],
      "execution_count": 0,
      "outputs": []
    },
    {
      "cell_type": "code",
      "metadata": {
        "id": "HUKVSK0iPHLH",
        "colab_type": "code",
        "colab": {
          "base_uri": "https://localhost:8080/",
          "height": 34
        },
        "outputId": "fad5eaca-34eb-48d1-f396-f3778d881ed6"
      },
      "source": [
        "[col for col in df if col.endswith('_d')]"
      ],
      "execution_count": 57,
      "outputs": [
        {
          "output_type": "execute_result",
          "data": {
            "text/plain": [
              "['issue_d', 'last_pymnt_d', 'next_pymnt_d', 'last_credit_pull_d']"
            ]
          },
          "metadata": {
            "tags": []
          },
          "execution_count": 57
        }
      ]
    },
    {
      "cell_type": "code",
      "metadata": {
        "id": "xiervpwNPY0o",
        "colab_type": "code",
        "colab": {}
      },
      "source": [
        "df['earliest_cr_line'] = pd.to_datetime(df['earliest_cr_line'], infer_datetime_format=True)"
      ],
      "execution_count": 0,
      "outputs": []
    },
    {
      "cell_type": "code",
      "metadata": {
        "id": "ARkP3F1hPN7A",
        "colab_type": "code",
        "colab": {}
      },
      "source": [
        "df['issue_d'] - df['earliest_cr_line']"
      ],
      "execution_count": 0,
      "outputs": []
    },
    {
      "cell_type": "code",
      "metadata": {
        "id": "irExpD9dPnz0",
        "colab_type": "code",
        "colab": {}
      },
      "source": [
        "df['days_from_earliest_cr_to_issue'] = (df['issue_d'] - df['earliest_cr_line']).dt.days\n",
        "df.head()"
      ],
      "execution_count": 0,
      "outputs": []
    },
    {
      "cell_type": "markdown",
      "metadata": {
        "id": "_KES5oO-x6wx",
        "colab_type": "text"
      },
      "source": [
        "# ASSIGNMENT\n",
        "\n",
        "- Replicate the lesson code.\n",
        "\n",
        "- Convert the `term` column from string to integer.\n",
        "\n",
        "- Make a column named `loan_status_is_great`. It should contain the integer 1 if `loan_status` is \"Current\" or \"Fully Paid.\" Else it should contain the integer 0.\n",
        "\n",
        "- Make `last_pymnt_d_month` and `last_pymnt_d_year` columns."
      ]
    },
    {
      "cell_type": "code",
      "metadata": {
        "id": "aDzXDVQhsjBs",
        "colab_type": "code",
        "colab": {}
      },
      "source": [
        "def remove_string(string):  # function to remove the string 'months'\n",
        "  return int(string.strip('Months')) # converts string to int "
      ],
      "execution_count": 0,
      "outputs": []
    },
    {
      "cell_type": "code",
      "metadata": {
        "id": "lX7SmVDHSk7c",
        "colab_type": "code",
        "colab": {}
      },
      "source": [
        "df['term'] = df['term'].apply(remove_string) # applies function to the whole column\n",
        "df.head()"
      ],
      "execution_count": 0,
      "outputs": []
    },
    {
      "cell_type": "code",
      "metadata": {
        "id": "QUVHIgveuQEz",
        "colab_type": "code",
        "colab": {}
      },
      "source": [
        "def loan_status(string): # determines what to return from the loan_status column\n",
        "  if string == 'Current' or string == 'Fully Paid':\n",
        "    return 1\n",
        "  else:\n",
        "    return 0\n",
        "  "
      ],
      "execution_count": 0,
      "outputs": []
    },
    {
      "cell_type": "code",
      "metadata": {
        "id": "Xq16_DW0uEqz",
        "colab_type": "code",
        "colab": {
          "base_uri": "https://localhost:8080/",
          "height": 68
        },
        "outputId": "c02b7039-3504-4e26-bc1e-de624ac3fdb8"
      },
      "source": [
        "df['loan_status_is_great'] = df['loan_status'].apply(loan_status) #applies function to column and inputs the result into a new column\n",
        "df['loan_status_is_great'].value_counts() #counts the values in the new column"
      ],
      "execution_count": 64,
      "outputs": [
        {
          "output_type": "execute_result",
          "data": {
            "text/plain": [
              "1    124299\n",
              "0      4113\n",
              "Name: loan_status_is_great, dtype: int64"
            ]
          },
          "metadata": {
            "tags": []
          },
          "execution_count": 64
        }
      ]
    },
    {
      "cell_type": "code",
      "metadata": {
        "id": "eEEmeeIcHqxO",
        "colab_type": "code",
        "colab": {
          "base_uri": "https://localhost:8080/",
          "height": 34
        },
        "outputId": "0c7e9e47-247b-44aa-ea3e-4d1778d4c45f"
      },
      "source": [
        "df['last_pymnt_d'].isna().sum()"
      ],
      "execution_count": 65,
      "outputs": [
        {
          "output_type": "execute_result",
          "data": {
            "text/plain": [
              "159"
            ]
          },
          "metadata": {
            "tags": []
          },
          "execution_count": 65
        }
      ]
    },
    {
      "cell_type": "code",
      "metadata": {
        "id": "XaNpLbEJwCY0",
        "colab_type": "code",
        "colab": {}
      },
      "source": [
        "df['last_pymnt_d'] = pd.to_datetime(df['last_pymnt_d'], infer_datetime_format=True) #converts date to datetime format\n",
        "\n",
        "df['last_pymnt_d_month'] = df['last_pymnt_d'].dt.month #Extracts month\n",
        "df['last_pymnt_d_year'] = df['last_pymnt_d'].dt.year #Extract year\n",
        "df.head().T"
      ],
      "execution_count": 0,
      "outputs": []
    },
    {
      "cell_type": "code",
      "metadata": {
        "id": "3gs2mgRLPkaW",
        "colab_type": "code",
        "colab": {
          "base_uri": "https://localhost:8080/",
          "height": 86
        },
        "outputId": "154d65f0-80ae-44f4-e2c3-76c82c0911f5"
      },
      "source": [
        "df['last_pymnt_d_year'].replace({pd.NaT:'0'}, inplace=True) # converts the NaT values to '0'\n",
        "df['last_pymnt_d_year'] = df['last_pymnt_d_year'].astype(int) # converts the column values into ints\n",
        "df['last_pymnt_d_year'].value_counts()\n",
        "\n",
        "# Another option would be removing the rows that have a NaT or '0' value"
      ],
      "execution_count": 67,
      "outputs": [
        {
          "output_type": "execute_result",
          "data": {
            "text/plain": [
              "2019    126286\n",
              "2018      1967\n",
              "0          159\n",
              "Name: last_pymnt_d_year, dtype: int64"
            ]
          },
          "metadata": {
            "tags": []
          },
          "execution_count": 67
        }
      ]
    },
    {
      "cell_type": "code",
      "metadata": {
        "id": "hL7DEohaQeCq",
        "colab_type": "code",
        "colab": {}
      },
      "source": [
        "df['last_pymnt_d_month'].replace({pd.NaT:'0'}, inplace=True) # converts the NaT values to '0'\n",
        "df['last_pymnt_d_month'] = df['last_pymnt_d_month'].astype(int) # converts the column values into ints\n",
        "df['last_pymnt_d_month'].value_counts()"
      ],
      "execution_count": 0,
      "outputs": []
    },
    {
      "cell_type": "markdown",
      "metadata": {
        "colab_type": "text",
        "id": "L8k0LiHmo5EU"
      },
      "source": [
        "# STRETCH OPTIONS\n",
        "\n",
        "You can do more with the LendingClub or Instacart datasets.\n",
        "\n",
        "LendingClub options:\n",
        "- There's one other column in the dataframe with percent signs. Remove them and convert to floats. You'll need to handle missing values.\n",
        "- Modify the `emp_title` column to replace titles with 'Other' if the title is not in the top 20. \n",
        "- Take initiatve and work on your own ideas!\n",
        "\n",
        "Instacart options:\n",
        "- Read [Instacart Market Basket Analysis, Winner's Interview: 2nd place, Kazuki Onodera](http://blog.kaggle.com/2017/09/21/instacart-market-basket-analysis-winners-interview-2nd-place-kazuki-onodera/), especially the **Feature Engineering** section. (Can you choose one feature from his bulleted lists, and try to engineer it with pandas code?)\n",
        "- Read and replicate parts of [Simple Exploration Notebook - Instacart](https://www.kaggle.com/sudalairajkumar/simple-exploration-notebook-instacart). (It's the Python Notebook with the most upvotes for this Kaggle competition.)\n",
        "- Take initiative and work on your own ideas!"
      ]
    },
    {
      "cell_type": "code",
      "metadata": {
        "id": "v4_fcehhTPXj",
        "colab_type": "code",
        "colab": {}
      },
      "source": [
        "df['revol_util'] = df['revol_util'].fillna('0')"
      ],
      "execution_count": 0,
      "outputs": []
    },
    {
      "cell_type": "code",
      "metadata": {
        "id": "wR_C1YXTU0SL",
        "colab_type": "code",
        "colab": {}
      },
      "source": [
        "df['revol_util'].isna().sum()"
      ],
      "execution_count": 0,
      "outputs": []
    },
    {
      "cell_type": "code",
      "metadata": {
        "id": "giEmK4ALSiGg",
        "colab_type": "code",
        "colab": {}
      },
      "source": [
        "#df['revol_util'] = df['revol_util'].apply(lambda x: x.strip('%'))"
      ],
      "execution_count": 0,
      "outputs": []
    },
    {
      "cell_type": "code",
      "metadata": {
        "id": "mOp2MNWXBdJ5",
        "colab_type": "code",
        "colab": {}
      },
      "source": [
        "df['revol_util'] = df['revol_util'].apply(remove_percent)\n"
      ],
      "execution_count": 0,
      "outputs": []
    },
    {
      "cell_type": "code",
      "metadata": {
        "id": "Lcn5SRduMvk5",
        "colab_type": "code",
        "colab": {}
      },
      "source": [
        "df.head()"
      ],
      "execution_count": 0,
      "outputs": []
    },
    {
      "cell_type": "markdown",
      "metadata": {
        "colab_type": "text",
        "id": "0_7PXF7lpEXg"
      },
      "source": [
        "You can uncomment and run the cells below to re-download and extract the Instacart data"
      ]
    },
    {
      "cell_type": "code",
      "metadata": {
        "id": "x91Z3IjFx6w0",
        "colab_type": "code",
        "colab": {}
      },
      "source": [
        "# !wget https://s3.amazonaws.com/instacart-datasets/instacart_online_grocery_shopping_2017_05_01.tar.gz"
      ],
      "execution_count": 0,
      "outputs": []
    },
    {
      "cell_type": "code",
      "metadata": {
        "id": "RNryXIcix6w4",
        "colab_type": "code",
        "colab": {}
      },
      "source": [
        "# !tar --gunzip --extract --verbose --file=instacart_online_grocery_shopping_2017_05_01.tar.gz"
      ],
      "execution_count": 0,
      "outputs": []
    },
    {
      "cell_type": "code",
      "metadata": {
        "id": "gkVfeaQtx6w8",
        "colab_type": "code",
        "colab": {}
      },
      "source": [
        "# %cd instacart_2017_05_01"
      ],
      "execution_count": 0,
      "outputs": []
    }
  ]
}