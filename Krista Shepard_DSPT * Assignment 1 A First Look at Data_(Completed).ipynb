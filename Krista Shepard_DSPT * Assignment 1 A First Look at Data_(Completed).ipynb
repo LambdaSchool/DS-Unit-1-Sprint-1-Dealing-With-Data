{
  "nbformat": 4,
  "nbformat_minor": 0,
  "metadata": {
    "colab": {
      "name": "Krista Shepard DS5 Assignment 1 A First Look at Data (Completed)",
      "version": "0.3.2",
      "provenance": [],
      "collapsed_sections": [],
      "include_colab_link": true
    },
    "kernelspec": {
      "name": "python3",
      "display_name": "Python 3"
    }
  },
  "cells": [
    {
      "cell_type": "markdown",
      "metadata": {
        "id": "view-in-github",
        "colab_type": "text"
      },
      "source": [
        "<a href=\"https://colab.research.google.com/github/KryssyCo/DS-Unit-1-Sprint-1-Dealing-With-Data/blob/master/Krista%20Shepard_DSPT%20*%20Assignment%201%20A%20First%20Look%20at%20Data_(Completed).ipynb\" target=\"_parent\"><img src=\"https://colab.research.google.com/assets/colab-badge.svg\" alt=\"Open In Colab\"/></a>"
      ]
    },
    {
      "cell_type": "markdown",
      "metadata": {
        "id": "Okfr_uhwhS1X",
        "colab_type": "text"
      },
      "source": [
        "### **Krista Shepard - DS5 Assignment 1- A First Look at Data Completed**\n",
        "\n"
      ]
    },
    {
      "cell_type": "markdown",
      "metadata": {
        "id": "9dtJETFRhnOG",
        "colab_type": "text"
      },
      "source": [
        "## Lecture - let's explore Python DS libraries and examples!\n",
        "\n",
        "The Python Data Science ecosystem is huge. You've seen some of the big pieces - pandas, scikit-learn, matplotlib. What parts do you want to see more of?"
      ]
    },
    {
      "cell_type": "markdown",
      "metadata": {
        "id": "UtmwFSVGTmgG",
        "colab_type": "text"
      },
      "source": [
        "I want to explore pandas and matplotlib more indepth as I know these will be used a lot in the field and future assignments."
      ]
    },
    {
      "cell_type": "markdown",
      "metadata": {
        "id": "lOqaPds9huME",
        "colab_type": "text"
      },
      "source": [
        "## Assignment - now it's your turn\n",
        "\n",
        "Pick at least one Python DS library, and using documentation/examples reproduce in this notebook something cool. It's OK if you don't fully understand it or get it 100% working, but do put in effort and look things up."
      ]
    },
    {
      "cell_type": "markdown",
      "metadata": {
        "id": "gqD-UGlNYGiY",
        "colab_type": "text"
      },
      "source": [
        "## Manipulating the data with Pandas using Python\n",
        "\n",
        "https://nbviewer.jupyter.org/github/Tanu-N-Prabhu/Python/blob/master/Manipulating_the_data_with_Pandas_using_Python.ipynb\n"
      ]
    },
    {
      "cell_type": "code",
      "metadata": {
        "id": "xAKcdB1fVJmx",
        "colab_type": "code",
        "colab": {}
      },
      "source": [
        "# 1. Import the required (pandas) libraries\n",
        "import pandas as pd"
      ],
      "execution_count": 0,
      "outputs": []
    },
    {
      "cell_type": "code",
      "metadata": {
        "id": "s3sh3N96VhPT",
        "colab_type": "code",
        "outputId": "393ae4e2-96ef-47f4-dd6f-baa7ca3804ca",
        "colab": {
          "base_uri": "https://localhost:8080/",
          "height": 195
        }
      },
      "source": [
        "#2. Store values such as Date, Time Worked, and Money earned in a DataFrame\n",
        "df = pd.DataFrame({'Date':['11/05/19', '12/05/19', '19/05/19', '25/05/19',\n",
        "                           '26/05/19', '1/06/19', '2/06/16', '6/06/19',\n",
        "                           '7/06/19', '8/06/19', ],\n",
        "                   'Time Worked': [3, 3, 4, 3, 3, 4, 4, 4, 3, 3],\n",
        "                    'Money Earned': [33.94, 33.94, 46, 33.94, 33.94,\n",
        "                                     46, 46, 46, 33.94, 33.94]})\n",
        "df.head()"
      ],
      "execution_count": 0,
      "outputs": [
        {
          "output_type": "execute_result",
          "data": {
            "text/html": [
              "<div>\n",
              "<style scoped>\n",
              "    .dataframe tbody tr th:only-of-type {\n",
              "        vertical-align: middle;\n",
              "    }\n",
              "\n",
              "    .dataframe tbody tr th {\n",
              "        vertical-align: top;\n",
              "    }\n",
              "\n",
              "    .dataframe thead th {\n",
              "        text-align: right;\n",
              "    }\n",
              "</style>\n",
              "<table border=\"1\" class=\"dataframe\">\n",
              "  <thead>\n",
              "    <tr style=\"text-align: right;\">\n",
              "      <th></th>\n",
              "      <th>Date</th>\n",
              "      <th>Time Worked</th>\n",
              "      <th>Money Earned</th>\n",
              "    </tr>\n",
              "  </thead>\n",
              "  <tbody>\n",
              "    <tr>\n",
              "      <th>0</th>\n",
              "      <td>11/05/19</td>\n",
              "      <td>3</td>\n",
              "      <td>33.94</td>\n",
              "    </tr>\n",
              "    <tr>\n",
              "      <th>1</th>\n",
              "      <td>12/05/19</td>\n",
              "      <td>3</td>\n",
              "      <td>33.94</td>\n",
              "    </tr>\n",
              "    <tr>\n",
              "      <th>2</th>\n",
              "      <td>19/05/19</td>\n",
              "      <td>4</td>\n",
              "      <td>46.00</td>\n",
              "    </tr>\n",
              "    <tr>\n",
              "      <th>3</th>\n",
              "      <td>25/05/19</td>\n",
              "      <td>3</td>\n",
              "      <td>33.94</td>\n",
              "    </tr>\n",
              "    <tr>\n",
              "      <th>4</th>\n",
              "      <td>26/05/19</td>\n",
              "      <td>3</td>\n",
              "      <td>33.94</td>\n",
              "    </tr>\n",
              "  </tbody>\n",
              "</table>\n",
              "</div>"
            ],
            "text/plain": [
              "       Date  Time Worked  Money Earned\n",
              "0  11/05/19            3         33.94\n",
              "1  12/05/19            3         33.94\n",
              "2  19/05/19            4         46.00\n",
              "3  25/05/19            3         33.94\n",
              "4  26/05/19            3         33.94"
            ]
          },
          "metadata": {
            "tags": []
          },
          "execution_count": 8
        }
      ]
    },
    {
      "cell_type": "code",
      "metadata": {
        "id": "xETOd5DZcUeH",
        "colab_type": "code",
        "outputId": "9056d5f0-b2c5-49f2-9af4-6f2fb4a395d8",
        "colab": {
          "base_uri": "https://localhost:8080/",
          "height": 136
        }
      },
      "source": [
        "# 3. Adding more rows to the existing DataFrame(updating the rows of the dataFrame)\n",
        "df2 = pd.DataFrame({'Date': ['10/06/19', '12/06/19', '14/06/19'],\n",
        "                   'Time Worked': [3, 4, 3],\n",
        "                   'Money Earned': [33.94, 46, 33.94]})\n",
        "df2"
      ],
      "execution_count": 0,
      "outputs": [
        {
          "output_type": "execute_result",
          "data": {
            "text/html": [
              "<div>\n",
              "<style scoped>\n",
              "    .dataframe tbody tr th:only-of-type {\n",
              "        vertical-align: middle;\n",
              "    }\n",
              "\n",
              "    .dataframe tbody tr th {\n",
              "        vertical-align: top;\n",
              "    }\n",
              "\n",
              "    .dataframe thead th {\n",
              "        text-align: right;\n",
              "    }\n",
              "</style>\n",
              "<table border=\"1\" class=\"dataframe\">\n",
              "  <thead>\n",
              "    <tr style=\"text-align: right;\">\n",
              "      <th></th>\n",
              "      <th>Date</th>\n",
              "      <th>Time Worked</th>\n",
              "      <th>Money Earned</th>\n",
              "    </tr>\n",
              "  </thead>\n",
              "  <tbody>\n",
              "    <tr>\n",
              "      <th>0</th>\n",
              "      <td>10/06/19</td>\n",
              "      <td>3</td>\n",
              "      <td>33.94</td>\n",
              "    </tr>\n",
              "    <tr>\n",
              "      <th>1</th>\n",
              "      <td>12/06/19</td>\n",
              "      <td>4</td>\n",
              "      <td>46.00</td>\n",
              "    </tr>\n",
              "    <tr>\n",
              "      <th>2</th>\n",
              "      <td>14/06/19</td>\n",
              "      <td>3</td>\n",
              "      <td>33.94</td>\n",
              "    </tr>\n",
              "  </tbody>\n",
              "</table>\n",
              "</div>"
            ],
            "text/plain": [
              "       Date  Time Worked  Money Earned\n",
              "0  10/06/19            3         33.94\n",
              "1  12/06/19            4         46.00\n",
              "2  14/06/19            3         33.94"
            ]
          },
          "metadata": {
            "tags": []
          },
          "execution_count": 9
        }
      ]
    },
    {
      "cell_type": "code",
      "metadata": {
        "id": "r14cnUgEx-61",
        "colab_type": "code",
        "outputId": "516d3059-0c0d-47d3-bc32-869a1d5a8355",
        "colab": {
          "base_uri": "https://localhost:8080/",
          "height": 195
        }
      },
      "source": [
        "# Append the two DataFrames, the new appended data frame is stored into a new \n",
        "# variable df.\n",
        "df = df.append(df2, ignore_index=True, sort=False)\n",
        "df.head()"
      ],
      "execution_count": 0,
      "outputs": [
        {
          "output_type": "execute_result",
          "data": {
            "text/html": [
              "<div>\n",
              "<style scoped>\n",
              "    .dataframe tbody tr th:only-of-type {\n",
              "        vertical-align: middle;\n",
              "    }\n",
              "\n",
              "    .dataframe tbody tr th {\n",
              "        vertical-align: top;\n",
              "    }\n",
              "\n",
              "    .dataframe thead th {\n",
              "        text-align: right;\n",
              "    }\n",
              "</style>\n",
              "<table border=\"1\" class=\"dataframe\">\n",
              "  <thead>\n",
              "    <tr style=\"text-align: right;\">\n",
              "      <th></th>\n",
              "      <th>Date</th>\n",
              "      <th>Time Worked</th>\n",
              "      <th>Money Earned</th>\n",
              "    </tr>\n",
              "  </thead>\n",
              "  <tbody>\n",
              "    <tr>\n",
              "      <th>0</th>\n",
              "      <td>11/05/19</td>\n",
              "      <td>3</td>\n",
              "      <td>33.94</td>\n",
              "    </tr>\n",
              "    <tr>\n",
              "      <th>1</th>\n",
              "      <td>12/05/19</td>\n",
              "      <td>3</td>\n",
              "      <td>33.94</td>\n",
              "    </tr>\n",
              "    <tr>\n",
              "      <th>2</th>\n",
              "      <td>19/05/19</td>\n",
              "      <td>4</td>\n",
              "      <td>46.00</td>\n",
              "    </tr>\n",
              "    <tr>\n",
              "      <th>3</th>\n",
              "      <td>25/05/19</td>\n",
              "      <td>3</td>\n",
              "      <td>33.94</td>\n",
              "    </tr>\n",
              "    <tr>\n",
              "      <th>4</th>\n",
              "      <td>26/05/19</td>\n",
              "      <td>3</td>\n",
              "      <td>33.94</td>\n",
              "    </tr>\n",
              "  </tbody>\n",
              "</table>\n",
              "</div>"
            ],
            "text/plain": [
              "       Date  Time Worked  Money Earned\n",
              "0  11/05/19            3         33.94\n",
              "1  12/05/19            3         33.94\n",
              "2  19/05/19            4         46.00\n",
              "3  25/05/19            3         33.94\n",
              "4  26/05/19            3         33.94"
            ]
          },
          "metadata": {
            "tags": []
          },
          "execution_count": 10
        }
      ]
    },
    {
      "cell_type": "code",
      "metadata": {
        "id": "GR2Wi2FUX8ZA",
        "colab_type": "code",
        "outputId": "da85173b-58be-44b9-d1a2-c26610f1b1eb",
        "colab": {
          "base_uri": "https://localhost:8080/",
          "height": 67
        }
      },
      "source": [
        "# # 4. Calculating the sum of money earned and the total duration worked\n",
        "\n",
        "# Total_earnings = df['Money Earned'].sum()\n",
        "# Total_time = df['Time Worked'].sum()\n",
        "\n",
        "# print(\"You have earned total of ====>\",round(Total_earnings), \"CAD\")\n",
        "# print(\"--------------------------------------------------------------\")\n",
        "# print(\"You have worked for total of ====>\", Total_time, \"hours\")\n",
        "\n",
        "Total_earnings = df['Money Earned'].sum()\n",
        "Total_time = df['Time Worked'].sum()\n",
        "\n",
        "print(\"You have earned total of ====>\" ,round(Total_earnings), \"CAD\")\n",
        "print(\"---------------------------------------------------------------\")\n",
        "print(\"You have worked for total of ====>\", Total_time, \"hours\")"
      ],
      "execution_count": 0,
      "outputs": [
        {
          "output_type": "stream",
          "text": [
            "You have earned total of ====> 502.0 CAD\n",
            "---------------------------------------------------------------\n",
            "You have worked for total of ====> 44 hours\n"
          ],
          "name": "stdout"
        }
      ]
    },
    {
      "cell_type": "code",
      "metadata": {
        "id": "Rh6VjEZo2tm9",
        "colab_type": "code",
        "colab": {
          "base_uri": "https://localhost:8080/",
          "height": 334
        },
        "outputId": "bc6bbdb3-2701-4bc5-f000-5b0b3bb91a35"
      },
      "source": [
        "# Plotting the bar graph with Total duration vs Money Earned\n",
        "df.plot(x = \"Date\", y = \"Money Earned\", kind = \"bar\")"
      ],
      "execution_count": 12,
      "outputs": [
        {
          "output_type": "execute_result",
          "data": {
            "text/plain": [
              "<matplotlib.axes._subplots.AxesSubplot at 0x7f4b5d95a358>"
            ]
          },
          "metadata": {
            "tags": []
          },
          "execution_count": 12
        },
        {
          "output_type": "display_data",
          "data": {
            "image/png": "[encoded data removed]",
            "text/plain": [
              "<Figure size 432x288 with 1 Axes>"
            ]
          },
          "metadata": {
            "tags": []
          }
        }
      ]
    },
    {
      "cell_type": "code",
      "metadata": {
        "id": "Xo7FVkzhUIMj",
        "colab_type": "code",
        "colab": {
          "base_uri": "https://localhost:8080/",
          "height": 94
        },
        "outputId": "898658b8-e6e4-4a5d-99cb-6b7e15f37645"
      },
      "source": [
        "# Including a search option in order to search for the respective dates worked.\n",
        "date = input(\"Enter the date you want to search ===>\")\n",
        "df[df['Date'].str.contains(date)]"
      ],
      "execution_count": 13,
      "outputs": [
        {
          "output_type": "stream",
          "text": [
            "Enter the date you want to search ===>26/05/19\n"
          ],
          "name": "stdout"
        },
        {
          "output_type": "execute_result",
          "data": {
            "text/html": [
              "<div>\n",
              "<style scoped>\n",
              "    .dataframe tbody tr th:only-of-type {\n",
              "        vertical-align: middle;\n",
              "    }\n",
              "\n",
              "    .dataframe tbody tr th {\n",
              "        vertical-align: top;\n",
              "    }\n",
              "\n",
              "    .dataframe thead th {\n",
              "        text-align: right;\n",
              "    }\n",
              "</style>\n",
              "<table border=\"1\" class=\"dataframe\">\n",
              "  <thead>\n",
              "    <tr style=\"text-align: right;\">\n",
              "      <th></th>\n",
              "      <th>Date</th>\n",
              "      <th>Time Worked</th>\n",
              "      <th>Money Earned</th>\n",
              "    </tr>\n",
              "  </thead>\n",
              "  <tbody>\n",
              "    <tr>\n",
              "      <th>4</th>\n",
              "      <td>26/05/19</td>\n",
              "      <td>3</td>\n",
              "      <td>33.94</td>\n",
              "    </tr>\n",
              "  </tbody>\n",
              "</table>\n",
              "</div>"
            ],
            "text/plain": [
              "       Date  Time Worked  Money Earned\n",
              "4  26/05/19            3         33.94"
            ]
          },
          "metadata": {
            "tags": []
          },
          "execution_count": 13
        }
      ]
    },
    {
      "cell_type": "code",
      "metadata": {
        "id": "4oYiRSMB3sSx",
        "colab_type": "code",
        "colab": {}
      },
      "source": [
        "# Finally adding the payroll option (bonus step) using a function.\n",
        "def payroll():\n",
        "  name = input(\"Enter the name of the employee: ==\")\n",
        "  hours = int(input(\"Enter the number of hours worked by the employer ==>\"))\n",
        "  rate = float(input(\"Enter the pay rate for one hour ==>\"))\n",
        "  \n",
        "  total_money = hours * rate\n",
        "  print(\"The total money earned by \", name, \"for working \", hours, \"hours\",\n",
        "        \"is ===> \", round(total_money), \"CAD\")"
      ],
      "execution_count": 0,
      "outputs": []
    },
    {
      "cell_type": "code",
      "metadata": {
        "id": "UfbIzXEs5JEY",
        "colab_type": "code",
        "colab": {
          "base_uri": "https://localhost:8080/",
          "height": 84
        },
        "outputId": "16f95e4f-59b3-4dbb-f15b-94b3b128a0df"
      },
      "source": [
        "payroll()"
      ],
      "execution_count": 18,
      "outputs": [
        {
          "output_type": "stream",
          "text": [
            "Enter the name of the employee: ==Krista Shepard\n",
            "Enter the number of hours worked by the employer ==>44\n",
            "Enter the pay rate for one hour ==>11.51\n",
            "The total money earned by  Krista Shepard for working  44 hours is ===>  506 CAD\n"
          ],
          "name": "stdout"
        }
      ]
    },
    {
      "cell_type": "markdown",
      "metadata": {
        "id": "BT9gdS7viJZa",
        "colab_type": "text"
      },
      "source": [
        "### Assignment questions\n",
        "\n",
        "After you've worked on some code, answer the following questions in this text block:\n",
        "\n",
        "1.  Describe in a paragraph of text what you did and why, as if you were writing an email to somebody interested but nontechnical.\n",
        "\n",
        "**Today I learned how you can calculate an individuals part time earnings using a pandas dataframe that I designed in a Python notebook. A Python notebook is just a container for your code when you are working on a project, using libraries like Pandas to ease the coding process.**\n",
        "\n",
        "2.  What was the most challenging part of what you did?\n",
        "\n",
        "**Finding typos that were causing errors. After a while you have to walk away and come back with fresh eyes.**\n",
        "\n",
        "3.  What was the most interesting thing you learned?\n",
        "\n",
        "**The last part (part 7) that requested additional information to complete. The code allowed the computer to ask for additional information to complete the process.**\n",
        "\n",
        "4.  What area would you like to explore with more time?\n",
        "\n",
        "**More of the Pandas parameters and basic plotting code within Pandas**\n",
        "\n",
        "\n",
        "\n"
      ]
    },
    {
      "cell_type": "markdown",
      "metadata": {
        "id": "_XXg2crAipwP",
        "colab_type": "text"
      },
      "source": [
        "## Stretch goals and resources\n",
        "\n",
        "Following are *optional* things for you to take a look at. Focus on the above assignment first, and make sure to commit and push your changes to GitHub (and since this is the first assignment of the sprint, open a PR as well).\n",
        "\n",
        "- [pandas documentation](https://pandas.pydata.org/pandas-docs/stable/)\n",
        "- [scikit-learn documentation](http://scikit-learn.org/stable/documentation.html)\n",
        "- [matplotlib documentation](https://matplotlib.org/contents.html)\n",
        "- [Awesome Data Science](https://github.com/bulutyazilim/awesome-datascience) - a list of many types of DS resources\n",
        "\n",
        "Stretch goals:\n",
        "\n",
        "- Find and read blogs, walkthroughs, and other examples of people working through cool things with data science - and share with your classmates!\n",
        "- Write a blog post (Medium is a popular place to publish) introducing yourself as somebody learning data science, and talking about what you've learned already and what you're excited to learn more about.\n",
        "\n",
        "## **You can find my blog here!!!!**\n",
        "\n",
        "https://medium.com/@kjshepard70/the-journey-begins-bc239bf6cbbe"
      ]
    }
  ]
}