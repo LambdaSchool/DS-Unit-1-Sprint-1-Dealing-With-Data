{
  "nbformat": 4,
  "nbformat_minor": 0,
  "metadata": {
    "colab": {
      "name": "DS_General_Template_1.002.ipynb",
      "version": "0.3.2",
      "provenance": [],
      "collapsed_sections": [],
      "include_colab_link": true
    },
    "kernelspec": {
      "name": "python3",
      "display_name": "Python 3"
    }
  },
  "cells": [
    {
      "cell_type": "markdown",
      "metadata": {
        "id": "view-in-github",
        "colab_type": "text"
      },
      "source": [
        "<a href=\"https://colab.research.google.com/github/lineality/DS-Unit-1-Sprint-1-Dealing-With-Data/blob/master/DS_General_Template_1_002.ipynb\" target=\"_parent\"><img src=\"https://colab.research.google.com/assets/colab-badge.svg\" alt=\"Open In Colab\"/></a>"
      ]
    },
    {
      "cell_type": "markdown",
      "metadata": {
        "id": "PfpC0WOhvYEY",
        "colab_type": "text"
      },
      "source": [
        ""
      ]
    },
    {
      "cell_type": "markdown",
      "metadata": {
        "id": "SfVwQFlWsH51",
        "colab_type": "text"
      },
      "source": [
        ""
      ]
    },
    {
      "cell_type": "markdown",
      "metadata": {
        "id": "pVcWtjp7sJOV",
        "colab_type": "text"
      },
      "source": [
        ""
      ]
    },
    {
      "cell_type": "code",
      "metadata": {
        "id": "kYljVuqFJ-nw",
        "colab_type": "code",
        "colab": {}
      },
      "source": [
        "cross tabs"
      ],
      "execution_count": 0,
      "outputs": []
    },
    {
      "cell_type": "markdown",
      "metadata": {
        "id": "0oJ1QoeIvdnf",
        "colab_type": "text"
      },
      "source": [
        "#(Title) General Template for Date Science Code\n"
      ]
    },
    {
      "cell_type": "code",
      "metadata": {
        "id": "W5JQU45YJ9t2",
        "colab_type": "code",
        "colab": {}
      },
      "source": [
        ""
      ],
      "execution_count": 0,
      "outputs": []
    },
    {
      "cell_type": "code",
      "metadata": {
        "id": "Fo3h6RMNv3YI",
        "colab_type": "code",
        "colab": {}
      },
      "source": [
        ""
      ],
      "execution_count": 0,
      "outputs": []
    },
    {
      "cell_type": "markdown",
      "metadata": {
        "id": "TMa_SBGvv4Gn",
        "colab_type": "text"
      },
      "source": [
        "(enter Overall Goal and description of code)\n",
        "\n"
      ]
    },
    {
      "cell_type": "markdown",
      "metadata": {
        "id": "fT_rF0Bmzp5o",
        "colab_type": "text"
      },
      "source": [
        "#Import Libraries"
      ]
    },
    {
      "cell_type": "code",
      "metadata": {
        "id": "CmUgofCcvd8X",
        "colab_type": "code",
        "colab": {}
      },
      "source": [
        "#library Imports\n",
        "%matplotlib inline\n",
        "import matplotlib.pyplot as plt\n",
        "import numpy as np\n",
        "import pandas as pd\n",
        "import requests\n",
        "\n"
      ],
      "execution_count": 0,
      "outputs": []
    },
    {
      "cell_type": "code",
      "metadata": {
        "id": "-TmOl2cg0e-A",
        "colab_type": "code",
        "colab": {}
      },
      "source": [
        ""
      ],
      "execution_count": 0,
      "outputs": []
    },
    {
      "cell_type": "markdown",
      "metadata": {
        "id": "P4vVgBsGzvgH",
        "colab_type": "text"
      },
      "source": [
        "###Settings and Adjustments"
      ]
    },
    {
      "cell_type": "code",
      "metadata": {
        "id": "M8_QIFWey1uI",
        "colab_type": "code",
        "colab": {}
      },
      "source": [
        "#so more head displays\n",
        "#override display option\n",
        "pd.set_option('display.max_rows', 500)\n",
        "pd.set_option('display.max_columns', 500)\n",
        "pd.set_option('display.width', 1000)\n",
        "\n",
        "#alt, put in length of DF collums\n",
        "#?pd.set_option('display.max_rows',len(df.columns))\n",
        "pd.set_option('display.max_columns',len(df.columns)) \n"
      ],
      "execution_count": 0,
      "outputs": []
    },
    {
      "cell_type": "code",
      "metadata": {
        "id": "0wNWh87t4aNG",
        "colab_type": "code",
        "colab": {}
      },
      "source": [
        "#tells you version of libraries and packages\n",
        "pd.__version__"
      ],
      "execution_count": 0,
      "outputs": []
    },
    {
      "cell_type": "code",
      "metadata": {
        "id": "78pmQzWN4hjO",
        "colab_type": "code",
        "colab": {}
      },
      "source": [
        "#installs earlier version software\n",
        "#!pip install pandas==0.23.4"
      ],
      "execution_count": 0,
      "outputs": []
    },
    {
      "cell_type": "code",
      "metadata": {
        "id": "CRaKLO2L0fow",
        "colab_type": "code",
        "colab": {}
      },
      "source": [
        "#check/set/recheck your local directory\n",
        "\n",
        "import os\n",
        "os.getcwd()\n",
        "#os.chdir('C:\\\\Users\\\\linea\\\\DS8_LS\\\\edu')\n",
        "#os.getcwd()\n"
      ],
      "execution_count": 0,
      "outputs": []
    },
    {
      "cell_type": "code",
      "metadata": {
        "id": "2Qc_hR7P6xeP",
        "colab_type": "code",
        "colab": {}
      },
      "source": [
        "#shows all libraries and versions as preinstalled\n",
        "#use pip freeze to view all of the \n",
        "#librarires/packages that are installed\n",
        "#in our instance\n",
        "\n",
        "#!pip freeze"
      ],
      "execution_count": 0,
      "outputs": []
    },
    {
      "cell_type": "markdown",
      "metadata": {
        "id": "jmaj4dBFy7z3",
        "colab_type": "text"
      },
      "source": [
        "##Import Data\n"
      ]
    },
    {
      "cell_type": "code",
      "metadata": {
        "id": "Gu7IK7eK0y_g",
        "colab_type": "code",
        "colab": {}
      },
      "source": [
        "#inspect file\n",
        "#before loading file, check to see what the file is by loading it into a browser, text editor, or the following:\n",
        "#inspect dataset\n",
        "#e.g.\n",
        "!curl https://..."
      ],
      "execution_count": 0,
      "outputs": []
    },
    {
      "cell_type": "code",
      "metadata": {
        "id": "PsFYEKTly6o-",
        "colab_type": "code",
        "colab": {}
      },
      "source": [
        "#method1: \"standard accepted method\"\n",
        "import requests\n",
        "url1 = 'https://...'\n",
        "response = requests.get(url1)\n",
        "#check to see (validate) that it worked\n",
        "response\n"
      ],
      "execution_count": 0,
      "outputs": []
    },
    {
      "cell_type": "code",
      "metadata": {
        "id": "UK3KBrhK43JY",
        "colab_type": "code",
        "colab": {}
      },
      "source": [
        "#Import Method 2\n",
        "!wget https://..."
      ],
      "execution_count": 0,
      "outputs": []
    },
    {
      "cell_type": "code",
      "metadata": {
        "id": "i7m9U6mq4vH3",
        "colab_type": "code",
        "colab": {}
      },
      "source": [
        "#to unzip a zipped file\n",
        "#!unzip filename.csv.zip"
      ],
      "execution_count": 0,
      "outputs": []
    },
    {
      "cell_type": "code",
      "metadata": {
        "id": "DWuvdrKx0qVf",
        "colab_type": "code",
        "colab": {}
      },
      "source": [
        "#Check that file exists in local directory\n",
        "!ls"
      ],
      "execution_count": 0,
      "outputs": []
    },
    {
      "cell_type": "markdown",
      "metadata": {
        "id": "_8Vcg0WF3Jpp",
        "colab_type": "text"
      },
      "source": [
        "##Load Data"
      ]
    },
    {
      "cell_type": "code",
      "metadata": {
        "id": "IkWnUfG1zE5-",
        "colab_type": "code",
        "colab": {}
      },
      "source": [
        "#Loading data into Data Frame (df)\n",
        "\n",
        "#Basic loading for csv,tsv,json\n",
        "#CSV setting datasets to a 'df' variable:\n",
        "df1 = pd.read_csv('file_name.csv')\n",
        "\n",
        "#TSV\n",
        "#df3 = pd.read_csv(('FastFmProfiles.tsv'), delimiter='\\t')\n",
        "\n",
        "#JSON\n",
        "#df2 = pd.read_json('PeopleInSpaceNow.json')\n",
        "\n",
        "#What would be the bracket method of doing this?\n",
        "\n",
        "\n",
        "#future add\n",
        "#xml\n",
        "\n",
        "#future add\n",
        "#rss\n",
        "\n"
      ],
      "execution_count": 0,
      "outputs": []
    },
    {
      "cell_type": "markdown",
      "metadata": {
        "id": "ax1RgVntvwF-",
        "colab_type": "text"
      },
      "source": [
        "##Setting Header"
      ]
    },
    {
      "cell_type": "code",
      "metadata": {
        "id": "ZtrphayXvwO9",
        "colab_type": "code",
        "colab": {}
      },
      "source": [
        "#header=None (specifies that you will add your own header)\n",
        "\n",
        "#e.g. from UCI site, headings may be listed in text on HTML page, cut and paste those...\n",
        "\n",
        "df = pd.read_csv('URL', header=None, index_col=None, names=header_names)\n",
        "\n",
        "header_names = header_names.split('\\n')\n",
        "header_names\n",
        "#list comprehension\n",
        "#\n",
        "[name.split(':')[0] for name in header_name[1:-1]]\n",
        "\n",
        "df.reset_index()\n",
        "\n",
        "\n"
      ],
      "execution_count": 0,
      "outputs": []
    },
    {
      "cell_type": "markdown",
      "metadata": {
        "id": "kiPiOPMyzLz4",
        "colab_type": "text"
      },
      "source": [
        "\n",
        "##Initial Data Inspection\n",
        "\n"
      ]
    },
    {
      "cell_type": "code",
      "metadata": {
        "id": "GHYO8M5ezFEm",
        "colab_type": "code",
        "colab": {}
      },
      "source": [
        "#Basic Data Inspections\n",
        "\n",
        "#(default) first five rows\n",
        "print(df.head())\n",
        "\n",
        "# shows footer if there is one\n",
        "print (df.tail())\n",
        "\n",
        "#alt method\n",
        "#!head file.csv\n",
        "#!tail file.csv\n",
        "\n",
        "#checks for and summarizes missing data\n",
        "print(df.isna().sum())\n",
        "\n",
        "#prints a complete boolean of missing data (warning this may be long)\n",
        "#df.isna()\n",
        "\n",
        "#How many items are in each column\n",
        "print(df.count())\n",
        "\n",
        "#Gives basic statistics\n",
        "print(df.describe())\n",
        "\n",
        "#Rows and Columns\n",
        "print(df.shape)\n",
        "\n",
        "#look at datatypes\n",
        "print(df.dtypes)\n",
        "\n",
        "#view a list of df columns\n",
        "list(df.columns)\n",
        "\n",
        "\n",
        "\n"
      ],
      "execution_count": 0,
      "outputs": []
    },
    {
      "cell_type": "code",
      "metadata": {
        "id": "ssiW2ume-q8G",
        "colab_type": "code",
        "colab": {}
      },
      "source": [
        ""
      ],
      "execution_count": 0,
      "outputs": []
    },
    {
      "cell_type": "markdown",
      "metadata": {
        "id": "hOXzztx857ja",
        "colab_type": "text"
      },
      "source": [
        "### Advanced Inspection"
      ]
    },
    {
      "cell_type": "code",
      "metadata": {
        "id": "ajs_a9Fn57rf",
        "colab_type": "code",
        "colab": {}
      },
      "source": [
        "# unique titles \n",
        "df['emp_title'].value_counts(dropna=False).reset_index().shape[0]"
      ],
      "execution_count": 0,
      "outputs": []
    },
    {
      "cell_type": "code",
      "metadata": {
        "id": "nFrMulpR-NnP",
        "colab_type": "code",
        "colab": {}
      },
      "source": [
        "managers['int_rate'].mean()"
      ],
      "execution_count": 0,
      "outputs": []
    },
    {
      "cell_type": "code",
      "metadata": {
        "id": "IaK7YTfn-rWN",
        "colab_type": "code",
        "colab": {}
      },
      "source": [
        "df['issue_d'].head(5)"
      ],
      "execution_count": 0,
      "outputs": []
    },
    {
      "cell_type": "code",
      "metadata": {
        "id": "aueG34ykABHz",
        "colab_type": "code",
        "colab": {}
      },
      "source": [
        "#returns array\n",
        "df['issue_d'].head().values"
      ],
      "execution_count": 0,
      "outputs": []
    },
    {
      "cell_type": "code",
      "metadata": {
        "id": "gdHzEc2fAGPn",
        "colab_type": "code",
        "colab": {}
      },
      "source": [
        ""
      ],
      "execution_count": 0,
      "outputs": []
    },
    {
      "cell_type": "markdown",
      "metadata": {
        "id": "OW75X_Ky9Fnn",
        "colab_type": "text"
      },
      "source": [
        "##Missing Data\n"
      ]
    },
    {
      "cell_type": "code",
      "metadata": {
        "id": "kMmvp-u09Edq",
        "colab_type": "code",
        "colab": {}
      },
      "source": [
        "df.isnull().sum()\n",
        "df.isnull().sum(). sort_values(ascending=False)"
      ],
      "execution_count": 0,
      "outputs": []
    },
    {
      "cell_type": "markdown",
      "metadata": {
        "id": "SgLluk9mzQav",
        "colab_type": "text"
      },
      "source": [
        "##Basic Cleaning and Preprocessing"
      ]
    },
    {
      "cell_type": "markdown",
      "metadata": {
        "id": "8aV-GaMasa5c",
        "colab_type": "text"
      },
      "source": [
        "1.2) handle atypical missing value indicators and replace them with NaN values, (typical are marked as Nan)"
      ]
    },
    {
      "cell_type": "markdown",
      "metadata": {
        "id": "-nLNPEJnwtn0",
        "colab_type": "text"
      },
      "source": [
        "https://pandas.pydata.org/pandas-docs/stable/reference/api/pandas.DataFrame.fillna.html\n",
        "\n",
        "https://colab.research.google.com/drive/1xqeB-Jk7LlsTV5KkHPwr0Jqpw6QHfMtd#scrollTo=OR80SCUoOl3i\n"
      ]
    },
    {
      "cell_type": "markdown",
      "metadata": {
        "id": "AoXxP8SG4jDy",
        "colab_type": "text"
      },
      "source": [
        ""
      ]
    },
    {
      "cell_type": "code",
      "metadata": {
        "id": "cfIN35q44QXP",
        "colab_type": "code",
        "colab": {}
      },
      "source": [
        "#look at the data at the source: look at individual cells if need be\n",
        "#df.iloc[14][13]\n"
      ],
      "execution_count": 0,
      "outputs": []
    },
    {
      "cell_type": "code",
      "metadata": {
        "id": "dYHOGI5440wy",
        "colab_type": "code",
        "colab": {}
      },
      "source": [
        ""
      ],
      "execution_count": 0,
      "outputs": []
    },
    {
      "cell_type": "markdown",
      "metadata": {
        "id": "2cGc-D2N40-V",
        "colab_type": "text"
      },
      "source": [
        "### get rid of floats amid strings\n"
      ]
    },
    {
      "cell_type": "code",
      "metadata": {
        "id": "fc3lH1CS41Na",
        "colab_type": "code",
        "colab": {}
      },
      "source": [
        "#replaces (float)\"NaN\" with (str)\"unknown\"\n",
        "def clean_title(title):\n",
        "  if isinstance(title, str):\n",
        "    return title.strip().title()\n",
        "  else:\n",
        "    return \"Unknown\"\n",
        "\n",
        "df['emp_title'] = df['emp_title'].apply(clean_title)\n",
        "\n",
        "df.head()"
      ],
      "execution_count": 0,
      "outputs": []
    },
    {
      "cell_type": "markdown",
      "metadata": {
        "id": "pByYZd2_4eUO",
        "colab_type": "text"
      },
      "source": [
        "\n",
        "###Repair Header / Footer\n",
        "\n"
      ]
    },
    {
      "cell_type": "code",
      "metadata": {
        "id": "X5-GENPB4ejd",
        "colab_type": "code",
        "colab": {}
      },
      "source": [
        "#there is a problem, so the dataframe has to be reset:\n",
        "column_headers = ['age', 'workclass', 'fnlwgt', 'education', 'education-num', \n",
        "                 'marital-status', 'occupation', 'relationship', 'race', 'sex', \n",
        "                 'capital-gain', 'capital-loss', 'hours-per-week', \n",
        "                 'native-country', 'income']\n",
        "\n",
        "df_adult = pd.read_csv('adult.data', names=column_headers)"
      ],
      "execution_count": 0,
      "outputs": []
    },
    {
      "cell_type": "code",
      "metadata": {
        "id": "YE5uMBaZ6sxP",
        "colab_type": "code",
        "colab": {}
      },
      "source": [
        "#this will skip the header and footer from the files being imported\n",
        "df = pd.read_csv('LoanStats_2018Q4.csv', header=1, na_values=['n/a'], skipfooter=2)"
      ],
      "execution_count": 0,
      "outputs": []
    },
    {
      "cell_type": "code",
      "metadata": {
        "id": "Li258uh3zQko",
        "colab_type": "code",
        "colab": {}
      },
      "source": [
        "\n",
        "#removes\n",
        "skipfooter=2\n",
        " \n",
        "# look for a footer to take out\n",
        "\n",
        " \n",
        "\n"
      ],
      "execution_count": 0,
      "outputs": []
    },
    {
      "cell_type": "markdown",
      "metadata": {
        "id": "oy0EhxkXw3-8",
        "colab_type": "text"
      },
      "source": [
        ""
      ]
    },
    {
      "cell_type": "code",
      "metadata": {
        "id": "w1eRw9b5w4HV",
        "colab_type": "code",
        "colab": {}
      },
      "source": [
        "# forward fill NaN\n",
        "df.fillna(method='ffill')\n"
      ],
      "execution_count": 0,
      "outputs": []
    },
    {
      "cell_type": "code",
      "metadata": {
        "id": "bERSDcpEw4ND",
        "colab_type": "code",
        "colab": {}
      },
      "source": [
        "#backfill NaN\n",
        "df.fillna(method='backfill')"
      ],
      "execution_count": 0,
      "outputs": []
    },
    {
      "cell_type": "code",
      "metadata": {
        "id": "LrWP3NRjwps-",
        "colab_type": "code",
        "colab": {}
      },
      "source": [
        "#check again\n",
        "#checks for and summarizes missing data\n",
        "print(df.isna().sum())"
      ],
      "execution_count": 0,
      "outputs": []
    },
    {
      "cell_type": "markdown",
      "metadata": {
        "id": "n3frOw5zzbSP",
        "colab_type": "text"
      },
      "source": [
        "##Encoding (and Dummy variables?)\n",
        "\n",
        "\n",
        "\n",
        "```\n",
        "# This is formatted as code\n",
        "```\n",
        "\n",
        "\n",
        "\n",
        "\n"
      ]
    },
    {
      "cell_type": "code",
      "metadata": {
        "id": "2ame0RkgzVSI",
        "colab_type": "code",
        "colab": {}
      },
      "source": [
        "https://docs.google.com/document/d/15hF87e25XniWek9ueiE-AuTLWUcmO0csTprlJXLOXeQ/edit?usp=sharing"
      ],
      "execution_count": 0,
      "outputs": []
    },
    {
      "cell_type": "markdown",
      "metadata": {
        "id": "-z4cDqyZzVcH",
        "colab_type": "text"
      },
      "source": [
        ""
      ]
    },
    {
      "cell_type": "code",
      "metadata": {
        "id": "FD7mnmDzzViy",
        "colab_type": "code",
        "colab": {}
      },
      "source": [
        "\n"
      ],
      "execution_count": 0,
      "outputs": []
    },
    {
      "cell_type": "code",
      "metadata": {
        "id": "QsyOI1i__Zo_",
        "colab_type": "code",
        "colab": {}
      },
      "source": [
        ""
      ],
      "execution_count": 0,
      "outputs": []
    },
    {
      "cell_type": "code",
      "metadata": {
        "id": "m3kcbtKvzWon",
        "colab_type": "code",
        "colab": {}
      },
      "source": [
        ""
      ],
      "execution_count": 0,
      "outputs": []
    },
    {
      "cell_type": "markdown",
      "metadata": {
        "id": "rxOYlDyM_aKy",
        "colab_type": "text"
      },
      "source": [
        "##Time and Date\n"
      ]
    },
    {
      "cell_type": "code",
      "metadata": {
        "id": "W00yHdjr_cD4",
        "colab_type": "code",
        "colab": {}
      },
      "source": [
        "# converts from\n",
        "# Dec-2018 form (or any form?)\n",
        "# to\n",
        "# 2018-12-01 \n",
        "# form\n",
        "#\n",
        "\n",
        "df['issue_d'] = pd.to_datetime(df['issue_d'], infer_datetime_format=True)"
      ],
      "execution_count": 0,
      "outputs": []
    },
    {
      "cell_type": "code",
      "metadata": {
        "id": "knny49AL_cIL",
        "colab_type": "code",
        "colab": {}
      },
      "source": [
        "#creates a new column by taking just year out of date\n",
        "\n",
        "df['issue_year'] = df['issue_d'].dt.year"
      ],
      "execution_count": 0,
      "outputs": []
    },
    {
      "cell_type": "code",
      "metadata": {
        "id": "Huu1lVFi_cLF",
        "colab_type": "code",
        "colab": {}
      },
      "source": [
        "#creates a new column by taking just month out of date\n",
        "df['issue_month'] = df['issue_d'].dt.month"
      ],
      "execution_count": 0,
      "outputs": []
    },
    {
      "cell_type": "code",
      "metadata": {
        "id": "Vjw7xqbJ_cOA",
        "colab_type": "code",
        "colab": {}
      },
      "source": [
        "#returns difference between two dates\n",
        "df['issue_d'] - df['earliest_cr_line']"
      ],
      "execution_count": 0,
      "outputs": []
    },
    {
      "cell_type": "code",
      "metadata": {
        "id": "8oAj9mQJA4C8",
        "colab_type": "code",
        "colab": {}
      },
      "source": [
        ""
      ],
      "execution_count": 0,
      "outputs": []
    },
    {
      "cell_type": "code",
      "metadata": {
        "id": "rBwyN6BMA4GF",
        "colab_type": "code",
        "colab": {}
      },
      "source": [
        ""
      ],
      "execution_count": 0,
      "outputs": []
    },
    {
      "cell_type": "markdown",
      "metadata": {
        "id": "9_yCVNNVAcIT",
        "colab_type": "text"
      },
      "source": [
        "##.Apply\n",
        "\n",
        "s.apply(func, convert_dtype=True, args=())"
      ]
    },
    {
      "cell_type": "code",
      "metadata": {
        "id": "-uS5NBIkAcjT",
        "colab_type": "code",
        "colab": {}
      },
      "source": [
        "# defining function to check price \n",
        "def function_name(item): \n",
        "        return item+2\n",
        "  \n",
        "# passing function to apply and storing returned series in new \n",
        "new = s.apply(fun) "
      ],
      "execution_count": 0,
      "outputs": []
    },
    {
      "cell_type": "code",
      "metadata": {
        "id": "Ii3X984mBYZt",
        "colab_type": "code",
        "colab": {}
      },
      "source": [
        "# Write a function that will work on any given cell in a dataframe column\n",
        "def remove_percent_to_float(string):\n",
        "  return float(string.strip('%'))\n",
        "\n",
        "remove_percent_to_float(int_rate)"
      ],
      "execution_count": 0,
      "outputs": []
    },
    {
      "cell_type": "markdown",
      "metadata": {
        "id": "2H2w5a9-BhX-",
        "colab_type": "text"
      },
      "source": [
        "apply function to column_name\n",
        "remembmer to return a value!"
      ]
    },
    {
      "cell_type": "code",
      "metadata": {
        "id": "GGs9fW0yBW1L",
        "colab_type": "code",
        "colab": {}
      },
      "source": [
        "df['int_rate'] = df['int_rate'].apply(remove_percent_to_float)"
      ],
      "execution_count": 0,
      "outputs": []
    },
    {
      "cell_type": "markdown",
      "metadata": {
        "id": "G1LIxg4D8Yp3",
        "colab_type": "text"
      },
      "source": [
        "##Feature Engineering\n"
      ]
    },
    {
      "cell_type": "code",
      "metadata": {
        "id": "H7TlerH78YxW",
        "colab_type": "code",
        "colab": {}
      },
      "source": [
        "#use filter to fill a new column with boolean yes if contains X\n",
        "df['emp_title_manager'] = df['emp_title'].str.contains('X')\n",
        "\n"
      ],
      "execution_count": 0,
      "outputs": []
    },
    {
      "cell_type": "markdown",
      "metadata": {
        "id": "HZzsdnbs8Nru",
        "colab_type": "text"
      },
      "source": [
        "##Training Set, Test Set, Splitting"
      ]
    },
    {
      "cell_type": "markdown",
      "metadata": {
        "id": "zUPT5KDpzWwg",
        "colab_type": "text"
      },
      "source": [
        ""
      ]
    },
    {
      "cell_type": "markdown",
      "metadata": {
        "id": "p2KCKOoEx_9L",
        "colab_type": "text"
      },
      "source": [
        "##Cross Tables\n",
        "\n",
        "https://colab.research.google.com/drive/19eUlRf1m1NGYP6IddyikG3OKB-IhIvE7\n"
      ]
    },
    {
      "cell_type": "code",
      "metadata": {
        "id": "NyuJmuUSyAVl",
        "colab_type": "code",
        "colab": {}
      },
      "source": [
        " #generate crosstable\n",
        " pd.crosstab(df.regiment, df.company, margins=True)\n",
        "\n",
        "\n",
        " # with headings!\n",
        " #Let's use crosstabulation to try to see what's going on\n",
        "pd.crosstab(user_data['purchased'], user_data['time_on_site'])"
      ],
      "execution_count": 0,
      "outputs": []
    },
    {
      "cell_type": "code",
      "metadata": {
        "id": "VeTpxSqy_gsw",
        "colab_type": "code",
        "colab": {}
      },
      "source": [
        ""
      ],
      "execution_count": 0,
      "outputs": []
    },
    {
      "cell_type": "code",
      "metadata": {
        "id": "Dzq39x3A_gwj",
        "colab_type": "code",
        "colab": {}
      },
      "source": [
        ""
      ],
      "execution_count": 0,
      "outputs": []
    },
    {
      "cell_type": "markdown",
      "metadata": {
        "id": "SBIT219N_hfj",
        "colab_type": "text"
      },
      "source": [
        "##Filtering\n",
        "\n",
        "https://chrisalbon.com/python/data_wrangling/filter_dataframes/\n",
        "\n",
        "https://cmdlinetips.com/2018/02/how-to-subset-pandas-dataframe-based-on-values-of-a-column/\n"
      ]
    },
    {
      "cell_type": "code",
      "metadata": {
        "id": "2qtDVuS__gzy",
        "colab_type": "code",
        "colab": {}
      },
      "source": [
        ""
      ],
      "execution_count": 0,
      "outputs": []
    },
    {
      "cell_type": "code",
      "metadata": {
        "id": "76jfFbZX_g26",
        "colab_type": "code",
        "colab": {}
      },
      "source": [
        "#doing computations or functions on each item in collum:\n",
        "#.apply\n",
        "\n",
        "def starts_with_m(item):\n",
        "   return string[0]=='m'\n",
        "\n",
        "df['sex'].apply(starts_with_m)\n"
      ],
      "execution_count": 0,
      "outputs": []
    },
    {
      "cell_type": "code",
      "metadata": {
        "id": "CXqzfahA0PaH",
        "colab_type": "code",
        "colab": {}
      },
      "source": [
        "# get the number of unique employment titles\n",
        "df['emp_title'].value_counts(dropna=False).reset_index().shape[0]"
      ],
      "execution_count": 0,
      "outputs": []
    },
    {
      "cell_type": "code",
      "metadata": {
        "id": "Z83P6Fmu1XHf",
        "colab_type": "code",
        "colab": {}
      },
      "source": [
        "# empty slots\n",
        "df['emp_title'].isnull().sum()"
      ],
      "execution_count": 0,
      "outputs": []
    },
    {
      "cell_type": "code",
      "metadata": {
        "id": "uUFjUmVw7V6x",
        "colab_type": "code",
        "colab": {}
      },
      "source": [
        ""
      ],
      "execution_count": 0,
      "outputs": []
    },
    {
      "cell_type": "code",
      "metadata": {
        "id": "VVD3CImv7V-4",
        "colab_type": "code",
        "colab": {}
      },
      "source": [
        "#returns boolean if contains x\n",
        "df['emp_title'].str.contains('Manager')"
      ],
      "execution_count": 0,
      "outputs": []
    },
    {
      "cell_type": "code",
      "metadata": {
        "id": "kBqyS_Iq7WBH",
        "colab_type": "code",
        "colab": {}
      },
      "source": [
        ""
      ],
      "execution_count": 0,
      "outputs": []
    },
    {
      "cell_type": "code",
      "metadata": {
        "id": "DScUP-v-7WGR",
        "colab_type": "code",
        "colab": {}
      },
      "source": [
        "#returns the whole df but only those parts that contain the boolean yes\n",
        "new_variable = (df['emp_title_manager'] == True)\n",
        "df[new_variable].head()\n",
        "\n"
      ],
      "execution_count": 0,
      "outputs": []
    },
    {
      "cell_type": "code",
      "metadata": {
        "id": "sL-NeWWW8qpM",
        "colab_type": "code",
        "colab": {}
      },
      "source": [
        "#returns part of df that contaions a given string XXX\n",
        "new_variable = df[df['emp_title'].str.contains('XXX')]\n",
        "print(new_variable.shape)\n",
        "new_variable.head()"
      ],
      "execution_count": 0,
      "outputs": []
    },
    {
      "cell_type": "code",
      "metadata": {
        "id": "oKnLHSYc85A1",
        "colab_type": "code",
        "colab": {}
      },
      "source": [
        ""
      ],
      "execution_count": 0,
      "outputs": []
    },
    {
      "cell_type": "code",
      "metadata": {
        "id": "V6FV2mKb85DW",
        "colab_type": "code",
        "colab": {}
      },
      "source": [
        ""
      ],
      "execution_count": 0,
      "outputs": []
    },
    {
      "cell_type": "markdown",
      "metadata": {
        "id": "oa8JJA8Ky7F2",
        "colab_type": "text"
      },
      "source": [
        "##Graphs\n"
      ]
    },
    {
      "cell_type": "code",
      "metadata": {
        "id": "0pLL1HPeyC6a",
        "colab_type": "code",
        "colab": {}
      },
      "source": [
        ""
      ],
      "execution_count": 0,
      "outputs": []
    },
    {
      "cell_type": "code",
      "metadata": {
        "id": "fSJlPNNC8goH",
        "colab_type": "code",
        "colab": {}
      },
      "source": [
        "#Graphs\n",
        "\n",
        " \n",
        "#Histogram \n",
        "plotA = df['age'].hist(bins=100);\n",
        "plotA.set_ylabel('People Observed')\n",
        "plotA.set_xlabel('Age')\n",
        "plotA.set_title('Age By number of People')\n",
        "\n",
        "\n",
        "#Scatterplot\n",
        "plotae = df.plot.scatter('age', 'exercise_time');\n",
        "plotae.set_ylabel('exercise_timeht')\n",
        "plotae.set_xlabel('Age')\n",
        "plotae.set_title('Age and exercise_time')\n",
        "\n",
        "\n",
        "#Density Plot\n",
        "plotdw = df['weight'].plot.density();\n",
        "plotdw.set_xlabel('Weight')\n",
        "plotdw.set_title('density plot of Weight')\n",
        "dataset1['ethnicity'].plot.density();"
      ],
      "execution_count": 0,
      "outputs": []
    },
    {
      "cell_type": "code",
      "metadata": {
        "id": "pdHWf7c2zl7m",
        "colab_type": "code",
        "colab": {}
      },
      "source": [
        ""
      ],
      "execution_count": 0,
      "outputs": []
    },
    {
      "cell_type": "code",
      "metadata": {
        "id": "wynlhCFCzl-M",
        "colab_type": "code",
        "colab": {}
      },
      "source": [
        ""
      ],
      "execution_count": 0,
      "outputs": []
    },
    {
      "cell_type": "markdown",
      "metadata": {
        "id": "FP10hIr19fK6",
        "colab_type": "text"
      },
      "source": [
        "Graph a single column..."
      ]
    },
    {
      "cell_type": "code",
      "metadata": {
        "id": "-kh7Xd7x9iUG",
        "colab_type": "code",
        "colab": {}
      },
      "source": [
        "#density plot\n",
        "df['int_rate'].plot.density()\n"
      ],
      "execution_count": 0,
      "outputs": []
    },
    {
      "cell_type": "code",
      "metadata": {
        "id": "tijm6Blm9iY9",
        "colab_type": "code",
        "colab": {}
      },
      "source": [
        "#hist\n",
        "df['int_rate'].hist(bins=20);"
      ],
      "execution_count": 0,
      "outputs": []
    },
    {
      "cell_type": "code",
      "metadata": {
        "id": "Mdx9ClQg9ia5",
        "colab_type": "code",
        "colab": {}
      },
      "source": [
        ""
      ],
      "execution_count": 0,
      "outputs": []
    },
    {
      "cell_type": "markdown",
      "metadata": {
        "id": "j53uQL5k9fUw",
        "colab_type": "text"
      },
      "source": [
        ""
      ]
    },
    {
      "cell_type": "markdown",
      "metadata": {
        "id": "g6YnyYIZzmIO",
        "colab_type": "text"
      },
      "source": [
        ""
      ]
    },
    {
      "cell_type": "markdown",
      "metadata": {
        "id": "h1J5svmSzmKJ",
        "colab_type": "text"
      },
      "source": [
        "##Quick Correlation Check"
      ]
    },
    {
      "cell_type": "code",
      "metadata": {
        "id": "gb6IGeGBzmT2",
        "colab_type": "code",
        "colab": {}
      },
      "source": [
        "df.corr()"
      ],
      "execution_count": 0,
      "outputs": []
    },
    {
      "cell_type": "code",
      "metadata": {
        "id": "U3G_e1CJzmWb",
        "colab_type": "code",
        "colab": {}
      },
      "source": [
        "\n"
      ],
      "execution_count": 0,
      "outputs": []
    },
    {
      "cell_type": "code",
      "metadata": {
        "id": "J7fEavEWzmYi",
        "colab_type": "code",
        "colab": {}
      },
      "source": [
        ""
      ],
      "execution_count": 0,
      "outputs": []
    },
    {
      "cell_type": "code",
      "metadata": {
        "id": "VUUQHjYJzlEt",
        "colab_type": "code",
        "colab": {}
      },
      "source": [
        ""
      ],
      "execution_count": 0,
      "outputs": []
    },
    {
      "cell_type": "markdown",
      "metadata": {
        "id": "2487Y6mD0HZt",
        "colab_type": "text"
      },
      "source": [
        "##Binning"
      ]
    },
    {
      "cell_type": "code",
      "metadata": {
        "id": "6bbqzjNO0Hh8",
        "colab_type": "code",
        "colab": {}
      },
      "source": [
        "#titanic dataset\n",
        "#q cut in quantile sized bins\n",
        "# 5 is arbitary\n",
        "age_bins_cut = pd.cut(df['age'], 5)\n",
        "age_bins_qcut = pd.qcut(df['age'], 5)\n"
      ],
      "execution_count": 0,
      "outputs": []
    },
    {
      "cell_type": "code",
      "metadata": {
        "id": "md2cW4bw1AbV",
        "colab_type": "code",
        "colab": {}
      },
      "source": [
        "#equal size intervals\n",
        "age_bins_cut.value_counts(sort=False)"
      ],
      "execution_count": 0,
      "outputs": []
    },
    {
      "cell_type": "code",
      "metadata": {
        "id": "845uf_161S1D",
        "colab_type": "code",
        "colab": {}
      },
      "source": [
        "#equal size intervals\n",
        "age_bins_qcut.value_counts(sort=False)"
      ],
      "execution_count": 0,
      "outputs": []
    },
    {
      "cell_type": "code",
      "metadata": {
        "id": "8YdHm3eY18W2",
        "colab_type": "code",
        "colab": {}
      },
      "source": [
        ""
      ],
      "execution_count": 0,
      "outputs": []
    },
    {
      "cell_type": "code",
      "metadata": {
        "id": "3mJQ8R0s18v0",
        "colab_type": "code",
        "colab": {}
      },
      "source": [
        "control for:\n",
        "g = sns.FacetGrid(df, col=\"age_bin\", height=4)\n",
        "g.map(sns.regplot, \"exercise_time\", \"weight\");\n",
        "\n"
      ],
      "execution_count": 0,
      "outputs": []
    }
  ]
}