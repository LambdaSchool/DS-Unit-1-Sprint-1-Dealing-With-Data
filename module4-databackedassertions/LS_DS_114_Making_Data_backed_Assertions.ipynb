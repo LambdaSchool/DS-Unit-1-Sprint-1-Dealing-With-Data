{
  "nbformat": 4,
  "nbformat_minor": 0,
  "metadata": {
    "colab": {
      "name": "LS DS 114 - Making Data-backed Assertions.ipynb",
      "version": "0.3.2",
      "provenance": [],
      "collapsed_sections": [],
      "include_colab_link": true
    },
    "kernelspec": {
      "name": "python3",
      "display_name": "Python 3"
    }
  },
  "cells": [
    {
      "cell_type": "markdown",
      "metadata": {
        "id": "view-in-github",
        "colab_type": "text"
      },
      "source": [
        "<a href=\"https://colab.research.google.com/github/macscheffer/DS-Sprint-01-Dealing-With-Data/blob/master/module4-databackedassertions/LS_DS_114_Making_Data_backed_Assertions.ipynb\" target=\"_parent\"><img src=\"https://colab.research.google.com/assets/colab-badge.svg\" alt=\"Open In Colab\"/></a>"
      ]
    },
    {
      "metadata": {
        "id": "Okfr_uhwhS1X",
        "colab_type": "text"
      },
      "cell_type": "markdown",
      "source": [
        "# Lambda School Data Science - Making Data-backed Assertions\n",
        "\n",
        "This is, for many, the main point of data science - to create and support reasoned arguments based on evidence. It's not a topic to master in a day, but it is worth some focused time thinking about and structuring your approach to it."
      ]
    },
    {
      "metadata": {
        "id": "9dtJETFRhnOG",
        "colab_type": "text"
      },
      "cell_type": "markdown",
      "source": [
        "## Lecture - generating a confounding variable\n",
        "\n",
        "The prewatch material told a story about a hypothetical health condition where both the drug usage and overall health outcome were related to gender - thus making gender a confounding variable, obfuscating the possible relationship between the drug and the outcome.\n",
        "\n",
        "Let's use Python to generate data that actually behaves in this fashion!"
      ]
    },
    {
      "metadata": {
        "id": "WiBkgmPJhmhE",
        "colab_type": "code",
        "outputId": "0da386d0-2724-46a5-ff38-4ab70c8f32e8",
        "colab": {
          "base_uri": "https://localhost:8080/",
          "height": 1091
        }
      },
      "cell_type": "code",
      "source": [
        "import random\n",
        "dir(random)  # Reminding ourselves what we can do here"
      ],
      "execution_count": 0,
      "outputs": [
        {
          "output_type": "execute_result",
          "data": {
            "text/plain": [
              "['BPF',\n",
              " 'LOG4',\n",
              " 'NV_MAGICCONST',\n",
              " 'RECIP_BPF',\n",
              " 'Random',\n",
              " 'SG_MAGICCONST',\n",
              " 'SystemRandom',\n",
              " 'TWOPI',\n",
              " '_BuiltinMethodType',\n",
              " '_MethodType',\n",
              " '_Sequence',\n",
              " '_Set',\n",
              " '__all__',\n",
              " '__builtins__',\n",
              " '__cached__',\n",
              " '__doc__',\n",
              " '__file__',\n",
              " '__loader__',\n",
              " '__name__',\n",
              " '__package__',\n",
              " '__spec__',\n",
              " '_acos',\n",
              " '_bisect',\n",
              " '_ceil',\n",
              " '_cos',\n",
              " '_e',\n",
              " '_exp',\n",
              " '_inst',\n",
              " '_itertools',\n",
              " '_log',\n",
              " '_pi',\n",
              " '_random',\n",
              " '_sha512',\n",
              " '_sin',\n",
              " '_sqrt',\n",
              " '_test',\n",
              " '_test_generator',\n",
              " '_urandom',\n",
              " '_warn',\n",
              " 'betavariate',\n",
              " 'choice',\n",
              " 'choices',\n",
              " 'expovariate',\n",
              " 'gammavariate',\n",
              " 'gauss',\n",
              " 'getrandbits',\n",
              " 'getstate',\n",
              " 'lognormvariate',\n",
              " 'normalvariate',\n",
              " 'paretovariate',\n",
              " 'randint',\n",
              " 'random',\n",
              " 'randrange',\n",
              " 'sample',\n",
              " 'seed',\n",
              " 'setstate',\n",
              " 'shuffle',\n",
              " 'triangular',\n",
              " 'uniform',\n",
              " 'vonmisesvariate',\n",
              " 'weibullvariate']"
            ]
          },
          "metadata": {
            "tags": []
          },
          "execution_count": 1
        }
      ]
    },
    {
      "metadata": {
        "id": "Ks5qFtpnq-q5",
        "colab_type": "code",
        "outputId": "5532e38a-627b-49e0-efec-2e102fafbdfe",
        "colab": {
          "base_uri": "https://localhost:8080/",
          "height": 35
        }
      },
      "cell_type": "code",
      "source": [
        "# Let's think of another scenario:\n",
        "# We work for a company that sells accessories for mobile phones.\n",
        "# They have an ecommerce site, and we are supposed to analyze logs\n",
        "# to determine what sort of usage is related to purchases, and thus guide\n",
        "# website development to encourage higher conversion.\n",
        "\n",
        "# The hypothesis - users who spend longer on the site tend\n",
        "# to spend more. Seems reasonable, no?\n",
        "\n",
        "# But there's a confounding variable! If they're on a phone, they:\n",
        "# a) Spend less time on the site, but\n",
        "# b) Are more likely to be interested in the actual products!\n",
        "\n",
        "# Let's use namedtuple to represent our data\n",
        "\n",
        "from collections import namedtuple\n",
        "# purchased and mobile are bools, time_on_site in seconds\n",
        "User = namedtuple('User', ['purchased','time_on_site', 'mobile'])\n",
        "\n",
        "example_user = User(False, 12, False)\n",
        "print(example_user)"
      ],
      "execution_count": 0,
      "outputs": [
        {
          "output_type": "stream",
          "text": [
            "User(purchased=False, time_on_site=12, mobile=False)\n"
          ],
          "name": "stdout"
        }
      ]
    },
    {
      "metadata": {
        "id": "lfPiHNG_sefL",
        "colab_type": "code",
        "outputId": "02307057-109f-4379-fac5-10f6c1de3a3e",
        "colab": {
          "base_uri": "https://localhost:8080/",
          "height": 55
        }
      },
      "cell_type": "code",
      "source": [
        "# And now let's generate 1000 example users\n",
        "# 750 mobile, 250 not (i.e. desktop)\n",
        "# A desktop user has a base conversion likelihood of 10%\n",
        "# And it goes up by 1% for each 15 seconds they spend on the site\n",
        "# And they spend anywhere from 10 seconds to 10 minutes on the site (uniform)\n",
        "# Mobile users spend on average half as much time on the site as desktop\n",
        "# But have twice as much base likelihood of buying something\n",
        "\n",
        "users = []\n",
        "\n",
        "for _ in range(250):\n",
        "  # Desktop users\n",
        "  time_on_site = random.uniform(10, 600)\n",
        "  purchased = random.random() < 0.1 + (time_on_site / 1500)\n",
        "  users.append(User(purchased, time_on_site, False))\n",
        "  \n",
        "for _ in range(750):\n",
        "  # Mobile users\n",
        "  time_on_site = random.uniform(5, 300)\n",
        "  purchased = random.random() < 0.3 + (time_on_site / 1500)\n",
        "  users.append(User(purchased, time_on_site, True))\n",
        "  \n",
        "random.shuffle(users)\n",
        "print(users[:10])"
      ],
      "execution_count": 0,
      "outputs": [
        {
          "output_type": "stream",
          "text": [
            "[User(purchased=False, time_on_site=37.83147459746415, mobile=True), User(purchased=True, time_on_site=297.3760340574865, mobile=True), User(purchased=False, time_on_site=170.27322654263193, mobile=True), User(purchased=False, time_on_site=187.4028623907486, mobile=True), User(purchased=True, time_on_site=78.85190300373333, mobile=True), User(purchased=False, time_on_site=54.52394171181303, mobile=True), User(purchased=False, time_on_site=58.69209574796728, mobile=True), User(purchased=False, time_on_site=7.04429560483984, mobile=True), User(purchased=False, time_on_site=175.00274031166708, mobile=False), User(purchased=True, time_on_site=35.30834596676843, mobile=True)]\n"
          ],
          "name": "stdout"
        }
      ]
    },
    {
      "metadata": {
        "id": "9gDYb5qGuRzy",
        "colab_type": "code",
        "outputId": "8db4c686-42a1-4c8e-f34d-2fd5ddc4d718",
        "colab": {
          "base_uri": "https://localhost:8080/",
          "height": 203
        }
      },
      "cell_type": "code",
      "source": [
        "# Let's put this in a dataframe so we can look at it more easily\n",
        "import pandas as pd\n",
        "user_data = pd.DataFrame(users)\n",
        "user_data.head()"
      ],
      "execution_count": 0,
      "outputs": [
        {
          "output_type": "execute_result",
          "data": {
            "text/html": [
              "<div>\n",
              "<style scoped>\n",
              "    .dataframe tbody tr th:only-of-type {\n",
              "        vertical-align: middle;\n",
              "    }\n",
              "\n",
              "    .dataframe tbody tr th {\n",
              "        vertical-align: top;\n",
              "    }\n",
              "\n",
              "    .dataframe thead th {\n",
              "        text-align: right;\n",
              "    }\n",
              "</style>\n",
              "<table border=\"1\" class=\"dataframe\">\n",
              "  <thead>\n",
              "    <tr style=\"text-align: right;\">\n",
              "      <th></th>\n",
              "      <th>purchased</th>\n",
              "      <th>time_on_site</th>\n",
              "      <th>mobile</th>\n",
              "    </tr>\n",
              "  </thead>\n",
              "  <tbody>\n",
              "    <tr>\n",
              "      <th>0</th>\n",
              "      <td>False</td>\n",
              "      <td>37.831475</td>\n",
              "      <td>True</td>\n",
              "    </tr>\n",
              "    <tr>\n",
              "      <th>1</th>\n",
              "      <td>True</td>\n",
              "      <td>297.376034</td>\n",
              "      <td>True</td>\n",
              "    </tr>\n",
              "    <tr>\n",
              "      <th>2</th>\n",
              "      <td>False</td>\n",
              "      <td>170.273227</td>\n",
              "      <td>True</td>\n",
              "    </tr>\n",
              "    <tr>\n",
              "      <th>3</th>\n",
              "      <td>False</td>\n",
              "      <td>187.402862</td>\n",
              "      <td>True</td>\n",
              "    </tr>\n",
              "    <tr>\n",
              "      <th>4</th>\n",
              "      <td>True</td>\n",
              "      <td>78.851903</td>\n",
              "      <td>True</td>\n",
              "    </tr>\n",
              "  </tbody>\n",
              "</table>\n",
              "</div>"
            ],
            "text/plain": [
              "   purchased  time_on_site  mobile\n",
              "0      False     37.831475    True\n",
              "1       True    297.376034    True\n",
              "2      False    170.273227    True\n",
              "3      False    187.402862    True\n",
              "4       True     78.851903    True"
            ]
          },
          "metadata": {
            "tags": []
          },
          "execution_count": 5
        }
      ]
    },
    {
      "metadata": {
        "id": "sr6IJv77ulVl",
        "colab_type": "code",
        "outputId": "b538a3ac-0378-448a-967e-d815caa7bfae",
        "colab": {
          "base_uri": "https://localhost:8080/",
          "height": 190
        }
      },
      "cell_type": "code",
      "source": [
        "# Let's use crosstabulation to try to see what's going on\n",
        "pd.crosstab(user_data['purchased'], user_data['time_on_site'])"
      ],
      "execution_count": 0,
      "outputs": [
        {
          "output_type": "execute_result",
          "data": {
            "text/html": [
              "<div>\n",
              "<style scoped>\n",
              "    .dataframe tbody tr th:only-of-type {\n",
              "        vertical-align: middle;\n",
              "    }\n",
              "\n",
              "    .dataframe tbody tr th {\n",
              "        vertical-align: top;\n",
              "    }\n",
              "\n",
              "    .dataframe thead th {\n",
              "        text-align: right;\n",
              "    }\n",
              "</style>\n",
              "<table border=\"1\" class=\"dataframe\">\n",
              "  <thead>\n",
              "    <tr style=\"text-align: right;\">\n",
              "      <th>time_on_site</th>\n",
              "      <th>5.339383697685621</th>\n",
              "      <th>5.394155586211019</th>\n",
              "      <th>5.841963075183767</th>\n",
              "      <th>6.726171627185764</th>\n",
              "      <th>6.772109567525894</th>\n",
              "      <th>6.853538565484358</th>\n",
              "      <th>6.973395563092575</th>\n",
              "      <th>7.04429560483984</th>\n",
              "      <th>7.073654370217446</th>\n",
              "      <th>7.176960592900681</th>\n",
              "      <th>...</th>\n",
              "      <th>578.6471133701842</th>\n",
              "      <th>581.6339400063836</th>\n",
              "      <th>582.4490883209</th>\n",
              "      <th>585.3654702081399</th>\n",
              "      <th>591.9387207642812</th>\n",
              "      <th>592.6277843653963</th>\n",
              "      <th>596.3010910445763</th>\n",
              "      <th>596.905457639525</th>\n",
              "      <th>597.4231790667909</th>\n",
              "      <th>599.357239514557</th>\n",
              "    </tr>\n",
              "    <tr>\n",
              "      <th>purchased</th>\n",
              "      <th></th>\n",
              "      <th></th>\n",
              "      <th></th>\n",
              "      <th></th>\n",
              "      <th></th>\n",
              "      <th></th>\n",
              "      <th></th>\n",
              "      <th></th>\n",
              "      <th></th>\n",
              "      <th></th>\n",
              "      <th></th>\n",
              "      <th></th>\n",
              "      <th></th>\n",
              "      <th></th>\n",
              "      <th></th>\n",
              "      <th></th>\n",
              "      <th></th>\n",
              "      <th></th>\n",
              "      <th></th>\n",
              "      <th></th>\n",
              "      <th></th>\n",
              "    </tr>\n",
              "  </thead>\n",
              "  <tbody>\n",
              "    <tr>\n",
              "      <th>False</th>\n",
              "      <td>0</td>\n",
              "      <td>1</td>\n",
              "      <td>0</td>\n",
              "      <td>1</td>\n",
              "      <td>1</td>\n",
              "      <td>0</td>\n",
              "      <td>1</td>\n",
              "      <td>1</td>\n",
              "      <td>1</td>\n",
              "      <td>1</td>\n",
              "      <td>...</td>\n",
              "      <td>1</td>\n",
              "      <td>0</td>\n",
              "      <td>0</td>\n",
              "      <td>0</td>\n",
              "      <td>0</td>\n",
              "      <td>0</td>\n",
              "      <td>0</td>\n",
              "      <td>0</td>\n",
              "      <td>1</td>\n",
              "      <td>0</td>\n",
              "    </tr>\n",
              "    <tr>\n",
              "      <th>True</th>\n",
              "      <td>1</td>\n",
              "      <td>0</td>\n",
              "      <td>1</td>\n",
              "      <td>0</td>\n",
              "      <td>0</td>\n",
              "      <td>1</td>\n",
              "      <td>0</td>\n",
              "      <td>0</td>\n",
              "      <td>0</td>\n",
              "      <td>0</td>\n",
              "      <td>...</td>\n",
              "      <td>0</td>\n",
              "      <td>1</td>\n",
              "      <td>1</td>\n",
              "      <td>1</td>\n",
              "      <td>1</td>\n",
              "      <td>1</td>\n",
              "      <td>1</td>\n",
              "      <td>1</td>\n",
              "      <td>0</td>\n",
              "      <td>1</td>\n",
              "    </tr>\n",
              "  </tbody>\n",
              "</table>\n",
              "<p>2 rows × 1000 columns</p>\n",
              "</div>"
            ],
            "text/plain": [
              "time_on_site  5.339384    5.394156    5.841963    6.726172    6.772110    \\\n",
              "purchased                                                                  \n",
              "False                  0           1           0           1           1   \n",
              "True                   1           0           1           0           0   \n",
              "\n",
              "time_on_site  6.853539    6.973396    7.044296    7.073654    7.176961    \\\n",
              "purchased                                                                  \n",
              "False                  0           1           1           1           1   \n",
              "True                   1           0           0           0           0   \n",
              "\n",
              "time_on_site     ...      578.647113  581.633940  582.449088  585.365470  \\\n",
              "purchased        ...                                                       \n",
              "False            ...               1           0           0           0   \n",
              "True             ...               0           1           1           1   \n",
              "\n",
              "time_on_site  591.938721  592.627784  596.301091  596.905458  597.423179  \\\n",
              "purchased                                                                  \n",
              "False                  0           0           0           0           1   \n",
              "True                   1           1           1           1           0   \n",
              "\n",
              "time_on_site  599.357240  \n",
              "purchased                 \n",
              "False                  0  \n",
              "True                   1  \n",
              "\n",
              "[2 rows x 1000 columns]"
            ]
          },
          "metadata": {
            "tags": []
          },
          "execution_count": 6
        }
      ]
    },
    {
      "metadata": {
        "id": "lk8pVTnG0BGW",
        "colab_type": "code",
        "outputId": "f5812e46-a241-4d2c-ba19-e2e31cf557fb",
        "colab": {
          "base_uri": "https://localhost:8080/",
          "height": 141
        }
      },
      "cell_type": "code",
      "source": [
        "pd.crosstab(user_data['purchased'], user_data['mobile'],\n",
        "            normalize='columns')"
      ],
      "execution_count": 0,
      "outputs": [
        {
          "output_type": "execute_result",
          "data": {
            "text/html": [
              "<div>\n",
              "<style scoped>\n",
              "    .dataframe tbody tr th:only-of-type {\n",
              "        vertical-align: middle;\n",
              "    }\n",
              "\n",
              "    .dataframe tbody tr th {\n",
              "        vertical-align: top;\n",
              "    }\n",
              "\n",
              "    .dataframe thead th {\n",
              "        text-align: right;\n",
              "    }\n",
              "</style>\n",
              "<table border=\"1\" class=\"dataframe\">\n",
              "  <thead>\n",
              "    <tr style=\"text-align: right;\">\n",
              "      <th>mobile</th>\n",
              "      <th>False</th>\n",
              "      <th>True</th>\n",
              "    </tr>\n",
              "    <tr>\n",
              "      <th>purchased</th>\n",
              "      <th></th>\n",
              "      <th></th>\n",
              "    </tr>\n",
              "  </thead>\n",
              "  <tbody>\n",
              "    <tr>\n",
              "      <th>False</th>\n",
              "      <td>0.704</td>\n",
              "      <td>0.570667</td>\n",
              "    </tr>\n",
              "    <tr>\n",
              "      <th>True</th>\n",
              "      <td>0.296</td>\n",
              "      <td>0.429333</td>\n",
              "    </tr>\n",
              "  </tbody>\n",
              "</table>\n",
              "</div>"
            ],
            "text/plain": [
              "mobile     False     True \n",
              "purchased                 \n",
              "False      0.704  0.570667\n",
              "True       0.296  0.429333"
            ]
          },
          "metadata": {
            "tags": []
          },
          "execution_count": 9
        }
      ]
    },
    {
      "metadata": {
        "id": "hvAv6J3EwA9s",
        "colab_type": "code",
        "outputId": "bde65e8c-7395-498f-9eb6-e7c1a51bb83f",
        "colab": {
          "base_uri": "https://localhost:8080/",
          "height": 141
        }
      },
      "cell_type": "code",
      "source": [
        "# OK, that's not quite what we want\n",
        "# Time is continuous! We need to put it in discrete buckets\n",
        "# Pandas calls these bins, and pandas.cut helps make them\n",
        "\n",
        "time_bins = pd.cut(user_data['time_on_site'], 5)  # 5 equal-sized bins\n",
        "pd.crosstab(user_data['purchased'], time_bins)"
      ],
      "execution_count": 0,
      "outputs": [
        {
          "output_type": "execute_result",
          "data": {
            "text/html": [
              "<div>\n",
              "<style scoped>\n",
              "    .dataframe tbody tr th:only-of-type {\n",
              "        vertical-align: middle;\n",
              "    }\n",
              "\n",
              "    .dataframe tbody tr th {\n",
              "        vertical-align: top;\n",
              "    }\n",
              "\n",
              "    .dataframe thead th {\n",
              "        text-align: right;\n",
              "    }\n",
              "</style>\n",
              "<table border=\"1\" class=\"dataframe\">\n",
              "  <thead>\n",
              "    <tr style=\"text-align: right;\">\n",
              "      <th>time_on_site</th>\n",
              "      <th>(4.745, 124.143]</th>\n",
              "      <th>(124.143, 242.947]</th>\n",
              "      <th>(242.947, 361.75]</th>\n",
              "      <th>(361.75, 480.554]</th>\n",
              "      <th>(480.554, 599.357]</th>\n",
              "    </tr>\n",
              "    <tr>\n",
              "      <th>purchased</th>\n",
              "      <th></th>\n",
              "      <th></th>\n",
              "      <th></th>\n",
              "      <th></th>\n",
              "      <th></th>\n",
              "    </tr>\n",
              "  </thead>\n",
              "  <tbody>\n",
              "    <tr>\n",
              "      <th>False</th>\n",
              "      <td>233</td>\n",
              "      <td>209</td>\n",
              "      <td>107</td>\n",
              "      <td>36</td>\n",
              "      <td>19</td>\n",
              "    </tr>\n",
              "    <tr>\n",
              "      <th>True</th>\n",
              "      <td>109</td>\n",
              "      <td>145</td>\n",
              "      <td>100</td>\n",
              "      <td>18</td>\n",
              "      <td>24</td>\n",
              "    </tr>\n",
              "  </tbody>\n",
              "</table>\n",
              "</div>"
            ],
            "text/plain": [
              "time_on_site  (4.745, 124.143]  (124.143, 242.947]  (242.947, 361.75]  \\\n",
              "purchased                                                               \n",
              "False                      233                 209                107   \n",
              "True                       109                 145                100   \n",
              "\n",
              "time_on_site  (361.75, 480.554]  (480.554, 599.357]  \n",
              "purchased                                            \n",
              "False                        36                  19  \n",
              "True                         18                  24  "
            ]
          },
          "metadata": {
            "tags": []
          },
          "execution_count": 10
        }
      ]
    },
    {
      "metadata": {
        "id": "pjcXnJw0wfaj",
        "colab_type": "code",
        "outputId": "1ddcacd4-5f9a-4da0-c786-34b0b876c4ce",
        "colab": {
          "base_uri": "https://localhost:8080/",
          "height": 161
        }
      },
      "cell_type": "code",
      "source": [
        "# We can make this a bit clearer by normalizing (getting %)\n",
        "pd.crosstab(user_data['purchased'], time_bins, normalize='columns')"
      ],
      "execution_count": 0,
      "outputs": [
        {
          "output_type": "execute_result",
          "data": {
            "text/html": [
              "<div>\n",
              "<style scoped>\n",
              "    .dataframe tbody tr th:only-of-type {\n",
              "        vertical-align: middle;\n",
              "    }\n",
              "\n",
              "    .dataframe tbody tr th {\n",
              "        vertical-align: top;\n",
              "    }\n",
              "\n",
              "    .dataframe thead th {\n",
              "        text-align: right;\n",
              "    }\n",
              "</style>\n",
              "<table border=\"1\" class=\"dataframe\">\n",
              "  <thead>\n",
              "    <tr style=\"text-align: right;\">\n",
              "      <th>time_on_site</th>\n",
              "      <th>(4.621, 123.202]</th>\n",
              "      <th>(123.202, 241.192]</th>\n",
              "      <th>(241.192, 359.183]</th>\n",
              "      <th>(359.183, 477.174]</th>\n",
              "      <th>(477.174, 595.165]</th>\n",
              "    </tr>\n",
              "    <tr>\n",
              "      <th>purchased</th>\n",
              "      <th></th>\n",
              "      <th></th>\n",
              "      <th></th>\n",
              "      <th></th>\n",
              "      <th></th>\n",
              "    </tr>\n",
              "  </thead>\n",
              "  <tbody>\n",
              "    <tr>\n",
              "      <th>False</th>\n",
              "      <td>0.811321</td>\n",
              "      <td>0.832877</td>\n",
              "      <td>0.885572</td>\n",
              "      <td>0.86</td>\n",
              "      <td>0.909091</td>\n",
              "    </tr>\n",
              "    <tr>\n",
              "      <th>True</th>\n",
              "      <td>0.188679</td>\n",
              "      <td>0.167123</td>\n",
              "      <td>0.114428</td>\n",
              "      <td>0.14</td>\n",
              "      <td>0.090909</td>\n",
              "    </tr>\n",
              "  </tbody>\n",
              "</table>\n",
              "</div>"
            ],
            "text/plain": [
              "time_on_site  (4.621, 123.202]  (123.202, 241.192]  (241.192, 359.183]  \\\n",
              "purchased                                                                \n",
              "False                 0.811321            0.832877            0.885572   \n",
              "True                  0.188679            0.167123            0.114428   \n",
              "\n",
              "time_on_site  (359.183, 477.174]  (477.174, 595.165]  \n",
              "purchased                                             \n",
              "False                       0.86            0.909091  \n",
              "True                        0.14            0.090909  "
            ]
          },
          "metadata": {
            "tags": []
          },
          "execution_count": 23
        }
      ]
    },
    {
      "metadata": {
        "id": "C3GzvDxlvZMa",
        "colab_type": "code",
        "outputId": "34627844-52b3-493b-f11b-5af9c58ed285",
        "colab": {
          "base_uri": "https://localhost:8080/",
          "height": 143
        }
      },
      "cell_type": "code",
      "source": [
        "# That seems counter to our hypothesis\n",
        "# More time on the site seems to have fewer purchases\n",
        "\n",
        "# But we know why, since we generated the data!\n",
        "# Let's look at mobile and purchased\n",
        "pd.crosstab(user_data['purchased'], user_data['mobile'], normalize='columns')"
      ],
      "execution_count": 0,
      "outputs": [
        {
          "output_type": "execute_result",
          "data": {
            "text/html": [
              "<div>\n",
              "<style scoped>\n",
              "    .dataframe tbody tr th:only-of-type {\n",
              "        vertical-align: middle;\n",
              "    }\n",
              "\n",
              "    .dataframe tbody tr th {\n",
              "        vertical-align: top;\n",
              "    }\n",
              "\n",
              "    .dataframe thead th {\n",
              "        text-align: right;\n",
              "    }\n",
              "</style>\n",
              "<table border=\"1\" class=\"dataframe\">\n",
              "  <thead>\n",
              "    <tr style=\"text-align: right;\">\n",
              "      <th>mobile</th>\n",
              "      <th>False</th>\n",
              "      <th>True</th>\n",
              "    </tr>\n",
              "    <tr>\n",
              "      <th>purchased</th>\n",
              "      <th></th>\n",
              "      <th></th>\n",
              "    </tr>\n",
              "  </thead>\n",
              "  <tbody>\n",
              "    <tr>\n",
              "      <th>False</th>\n",
              "      <td>0.912</td>\n",
              "      <td>0.82</td>\n",
              "    </tr>\n",
              "    <tr>\n",
              "      <th>True</th>\n",
              "      <td>0.088</td>\n",
              "      <td>0.18</td>\n",
              "    </tr>\n",
              "  </tbody>\n",
              "</table>\n",
              "</div>"
            ],
            "text/plain": [
              "mobile     False  True \n",
              "purchased              \n",
              "False      0.912   0.82\n",
              "True       0.088   0.18"
            ]
          },
          "metadata": {
            "tags": []
          },
          "execution_count": 24
        }
      ]
    },
    {
      "metadata": {
        "id": "KQb-wU60xCum",
        "colab_type": "code",
        "outputId": "930d6bc3-6535-41cf-eb7b-de3102e3a9a8",
        "colab": {
          "base_uri": "https://localhost:8080/",
          "height": 238
        }
      },
      "cell_type": "code",
      "source": [
        "# Yep, mobile users are more likely to buy things\n",
        "# But we're still not seeing the *whole* story until we look at all 3 at once\n",
        "\n",
        "# Live/stretch goal - how can we do that?\n",
        "\n",
        "user_data.head()\n",
        "\n",
        "df = pd.cut(user_data['time_on_site'], 5)\n",
        "user_data['bin'] = df\n",
        "\n",
        "for b in user_data.bin.unique():\n",
        "  print(df[df.bin == b].describe())"
      ],
      "execution_count": 2,
      "outputs": [
        {
          "output_type": "error",
          "ename": "NameError",
          "evalue": "ignored",
          "traceback": [
            "\u001b[0;31m---------------------------------------------------------------------------\u001b[0m",
            "\u001b[0;31mNameError\u001b[0m                                 Traceback (most recent call last)",
            "\u001b[0;32m<ipython-input-2-5d7ae6793109>\u001b[0m in \u001b[0;36m<module>\u001b[0;34m()\u001b[0m\n\u001b[1;32m      1\u001b[0m \u001b[0;34m\u001b[0m\u001b[0m\n\u001b[0;32m----> 2\u001b[0;31m \u001b[0muser_data\u001b[0m\u001b[0;34m.\u001b[0m\u001b[0mhead\u001b[0m\u001b[0;34m(\u001b[0m\u001b[0;34m)\u001b[0m\u001b[0;34m\u001b[0m\u001b[0;34m\u001b[0m\u001b[0m\n\u001b[0m\u001b[1;32m      3\u001b[0m \u001b[0;34m\u001b[0m\u001b[0m\n\u001b[1;32m      4\u001b[0m \u001b[0mdf\u001b[0m \u001b[0;34m=\u001b[0m \u001b[0mpd\u001b[0m\u001b[0;34m.\u001b[0m\u001b[0mcut\u001b[0m\u001b[0;34m(\u001b[0m\u001b[0muser_data\u001b[0m\u001b[0;34m[\u001b[0m\u001b[0;34m'time_on_site'\u001b[0m\u001b[0;34m]\u001b[0m\u001b[0;34m,\u001b[0m \u001b[0;36m5\u001b[0m\u001b[0;34m)\u001b[0m\u001b[0;34m\u001b[0m\u001b[0;34m\u001b[0m\u001b[0m\n\u001b[1;32m      5\u001b[0m \u001b[0muser_data\u001b[0m\u001b[0;34m[\u001b[0m\u001b[0;34m'bin'\u001b[0m\u001b[0;34m]\u001b[0m \u001b[0;34m=\u001b[0m \u001b[0mdf\u001b[0m\u001b[0;34m\u001b[0m\u001b[0;34m\u001b[0m\u001b[0m\n",
            "\u001b[0;31mNameError\u001b[0m: name 'user_data' is not defined"
          ]
        }
      ]
    },
    {
      "metadata": {
        "id": "Vgpvr_895Dl3",
        "colab_type": "code",
        "outputId": "67d918cc-27db-43f1-b873-377b2c920999",
        "colab": {
          "base_uri": "https://localhost:8080/",
          "height": 203
        }
      },
      "cell_type": "code",
      "source": [
        "user_data.head()"
      ],
      "execution_count": 0,
      "outputs": [
        {
          "output_type": "execute_result",
          "data": {
            "text/html": [
              "<div>\n",
              "<style scoped>\n",
              "    .dataframe tbody tr th:only-of-type {\n",
              "        vertical-align: middle;\n",
              "    }\n",
              "\n",
              "    .dataframe tbody tr th {\n",
              "        vertical-align: top;\n",
              "    }\n",
              "\n",
              "    .dataframe thead th {\n",
              "        text-align: right;\n",
              "    }\n",
              "</style>\n",
              "<table border=\"1\" class=\"dataframe\">\n",
              "  <thead>\n",
              "    <tr style=\"text-align: right;\">\n",
              "      <th></th>\n",
              "      <th>purchased</th>\n",
              "      <th>time_on_site</th>\n",
              "      <th>mobile</th>\n",
              "      <th>bin</th>\n",
              "    </tr>\n",
              "  </thead>\n",
              "  <tbody>\n",
              "    <tr>\n",
              "      <th>0</th>\n",
              "      <td>False</td>\n",
              "      <td>37.831475</td>\n",
              "      <td>True</td>\n",
              "      <td>(4.745, 124.143]</td>\n",
              "    </tr>\n",
              "    <tr>\n",
              "      <th>1</th>\n",
              "      <td>True</td>\n",
              "      <td>297.376034</td>\n",
              "      <td>True</td>\n",
              "      <td>(242.947, 361.75]</td>\n",
              "    </tr>\n",
              "    <tr>\n",
              "      <th>2</th>\n",
              "      <td>False</td>\n",
              "      <td>170.273227</td>\n",
              "      <td>True</td>\n",
              "      <td>(124.143, 242.947]</td>\n",
              "    </tr>\n",
              "    <tr>\n",
              "      <th>3</th>\n",
              "      <td>False</td>\n",
              "      <td>187.402862</td>\n",
              "      <td>True</td>\n",
              "      <td>(124.143, 242.947]</td>\n",
              "    </tr>\n",
              "    <tr>\n",
              "      <th>4</th>\n",
              "      <td>True</td>\n",
              "      <td>78.851903</td>\n",
              "      <td>True</td>\n",
              "      <td>(4.745, 124.143]</td>\n",
              "    </tr>\n",
              "  </tbody>\n",
              "</table>\n",
              "</div>"
            ],
            "text/plain": [
              "   purchased  time_on_site  mobile                 bin\n",
              "0      False     37.831475    True    (4.745, 124.143]\n",
              "1       True    297.376034    True   (242.947, 361.75]\n",
              "2      False    170.273227    True  (124.143, 242.947]\n",
              "3      False    187.402862    True  (124.143, 242.947]\n",
              "4       True     78.851903    True    (4.745, 124.143]"
            ]
          },
          "metadata": {
            "tags": []
          },
          "execution_count": 26
        }
      ]
    },
    {
      "metadata": {
        "id": "fq6gSOZR3rvK",
        "colab_type": "code",
        "outputId": "d73c1c89-5243-4623-9c72-a79597fd8481",
        "colab": {
          "base_uri": "https://localhost:8080/",
          "height": 545
        }
      },
      "cell_type": "code",
      "source": [
        "series = pd.cut(user_data['time_on_site'], 5)\n",
        "user_data['bin'] = series\n",
        "\n",
        "for b in user_data.bin.unique():\n",
        "  print(user_data[user_data.bin == b].head())"
      ],
      "execution_count": 0,
      "outputs": [
        {
          "output_type": "stream",
          "text": [
            "   purchased  time_on_site  mobile               bin\n",
            "0      False     37.831475    True  (4.745, 124.143]\n",
            "4       True     78.851903    True  (4.745, 124.143]\n",
            "5      False     54.523942    True  (4.745, 124.143]\n",
            "6      False     58.692096    True  (4.745, 124.143]\n",
            "7      False      7.044296    True  (4.745, 124.143]\n",
            "    purchased  time_on_site  mobile                bin\n",
            "1        True    297.376034    True  (242.947, 361.75]\n",
            "15      False    321.759360   False  (242.947, 361.75]\n",
            "17       True    298.148660    True  (242.947, 361.75]\n",
            "21      False    271.358613    True  (242.947, 361.75]\n",
            "30       True    271.831635    True  (242.947, 361.75]\n",
            "    purchased  time_on_site  mobile                 bin\n",
            "2       False    170.273227    True  (124.143, 242.947]\n",
            "3       False    187.402862    True  (124.143, 242.947]\n",
            "8       False    175.002740   False  (124.143, 242.947]\n",
            "10      False    186.550986    True  (124.143, 242.947]\n",
            "13       True    240.153493    True  (124.143, 242.947]\n",
            "     purchased  time_on_site  mobile                 bin\n",
            "29        True    578.546038   False  (480.554, 599.357]\n",
            "49        True    565.685369   False  (480.554, 599.357]\n",
            "87        True    545.817332   False  (480.554, 599.357]\n",
            "126       True    506.522305   False  (480.554, 599.357]\n",
            "169      False    566.089818   False  (480.554, 599.357]\n",
            "     purchased  time_on_site  mobile                bin\n",
            "65       False    457.751496   False  (361.75, 480.554]\n",
            "74        True    429.122593   False  (361.75, 480.554]\n",
            "95        True    378.325364   False  (361.75, 480.554]\n",
            "103      False    447.687050   False  (361.75, 480.554]\n",
            "114       True    364.149060   False  (361.75, 480.554]\n"
          ],
          "name": "stdout"
        }
      ]
    },
    {
      "metadata": {
        "id": "Uqb4heQX5pmZ",
        "colab_type": "code",
        "outputId": "4e2af8c1-aa85-4778-98c9-30cf795c4176",
        "colab": {
          "base_uri": "https://localhost:8080/",
          "height": 454
        }
      },
      "cell_type": "code",
      "source": [
        "pd.pivot_table(user_data,values='time_on_site',index='bin').plot.bar()\n",
        "pd.pivot_table(user_data,values='purchased',index='bin').plot.bar()"
      ],
      "execution_count": 0,
      "outputs": [
        {
          "output_type": "execute_result",
          "data": {
            "text/plain": [
              "<matplotlib.axes._subplots.AxesSubplot at 0x7ff49c427940>"
            ]
          },
          "metadata": {
            "tags": []
          },
          "execution_count": 30
        },
        {
          "output_type": "display_data",
          "data": {
            "image/png": "[encoded data removed]",
            "text/plain": [
              "<matplotlib.figure.Figure at 0x7ff49c44c6a0>"
            ]
          },
          "metadata": {
            "tags": []
          }
        }
      ]
    },
    {
      "metadata": {
        "id": "66qOJKe16POa",
        "colab_type": "code",
        "outputId": "1af0f2c5-ab29-4ade-83a8-96b9c4dbc5a8",
        "colab": {
          "base_uri": "https://localhost:8080/",
          "height": 873
        }
      },
      "cell_type": "code",
      "source": [
        "pd.pivot_table(user_data[user_data.mobile == True],values='purchased',index='bin').plot.bar()\n",
        "pd.pivot_table(user_data[user_data.mobile == False],values='purchased',index='bin').plot.bar()"
      ],
      "execution_count": 0,
      "outputs": [
        {
          "output_type": "execute_result",
          "data": {
            "text/plain": [
              "<matplotlib.axes._subplots.AxesSubplot at 0x7ff4999ac5f8>"
            ]
          },
          "metadata": {
            "tags": []
          },
          "execution_count": 33
        },
        {
          "output_type": "display_data",
          "data": {
            "image/png": "[encoded data removed]",
            "text/plain": [
              "<matplotlib.figure.Figure at 0x7ff499a23588>"
            ]
          },
          "metadata": {
            "tags": []
          }
        },
        {
          "output_type": "display_data",
          "data": {
            "image/png": "[encoded data removed]",
            "text/plain": [
              "<matplotlib.figure.Figure at 0x7ff499a23390>"
            ]
          },
          "metadata": {
            "tags": []
          }
        }
      ]
    },
    {
      "metadata": {
        "id": "fcaxx_5A-g1z",
        "colab_type": "code",
        "outputId": "2f20e1d2-0166-4a32-f79c-9674ee942d65",
        "colab": {
          "base_uri": "https://localhost:8080/",
          "height": 361
        }
      },
      "cell_type": "code",
      "source": [
        "user_data['purchased_num'] = user_data['purchased'] * 1\n",
        "df = user_data.groupby(['mobile', 'bin'])['purchased_num'].mean()\n",
        "df = df.reset_index()\n",
        "df.plot.bar()"
      ],
      "execution_count": 0,
      "outputs": [
        {
          "output_type": "execute_result",
          "data": {
            "text/plain": [
              "<matplotlib.axes._subplots.AxesSubplot at 0x7ff49941dc18>"
            ]
          },
          "metadata": {
            "tags": []
          },
          "execution_count": 42
        },
        {
          "output_type": "display_data",
          "data": {
            "image/png": "[encoded data removed]",
            "text/plain": [
              "<matplotlib.figure.Figure at 0x7ff499469a90>"
            ]
          },
          "metadata": {
            "tags": []
          }
        }
      ]
    },
    {
      "metadata": {
        "id": "yJifjmbZDmNO",
        "colab_type": "code",
        "outputId": "3a280388-d30e-4709-91bb-c7f0fd38f4dc",
        "colab": {
          "base_uri": "https://localhost:8080/",
          "height": 35
        }
      },
      "cell_type": "code",
      "source": [
        "# groupby()\n",
        "\n",
        "grouped_data = user_data.mobile.groupby(user_data.purchased)\n",
        "len(grouped_data)"
      ],
      "execution_count": 0,
      "outputs": [
        {
          "output_type": "execute_result",
          "data": {
            "text/plain": [
              "2"
            ]
          },
          "metadata": {
            "tags": []
          },
          "execution_count": 44
        }
      ]
    },
    {
      "metadata": {
        "id": "lOqaPds9huME",
        "colab_type": "text"
      },
      "cell_type": "markdown",
      "source": [
        "## Assignment - what's going on here?\n",
        "\n",
        "Consider the data in `persons.csv` (already prepared for you, in the repo for the week). It has four columns - a unique id, followed by age (in years), weight (in lbs), and exercise time (in minutes/week) of 1200 (hypothetical) people.\n",
        "\n",
        "Try to figure out which variables are possibly related to each other, and which may be confounding relationships."
      ]
    },
    {
      "metadata": {
        "id": "TGUS79cOhPWj",
        "colab_type": "code",
        "outputId": "b3ea5e25-6ce9-415f-f901-001b62b5dd8d",
        "colab": {
          "base_uri": "https://localhost:8080/",
          "height": 203
        }
      },
      "cell_type": "code",
      "source": [
        "# TODO - your code here\n",
        "# Use what we did live in lecture as an example\n",
        "\n",
        "# HINT - you can find the raw URL on GitHub and potentially use that\n",
        "# to load the data with read_csv, or you can upload it yourself\n",
        "import pandas as pd\n",
        "\n",
        "df = pd.read_csv('https://raw.githubusercontent.com/macscheffer/DS-Sprint-01-Dealing-With-Data/master/module4-databackedassertions/persons.csv')\n",
        "df.head()"
      ],
      "execution_count": 4,
      "outputs": [
        {
          "output_type": "execute_result",
          "data": {
            "text/html": [
              "<div>\n",
              "<style scoped>\n",
              "    .dataframe tbody tr th:only-of-type {\n",
              "        vertical-align: middle;\n",
              "    }\n",
              "\n",
              "    .dataframe tbody tr th {\n",
              "        vertical-align: top;\n",
              "    }\n",
              "\n",
              "    .dataframe thead th {\n",
              "        text-align: right;\n",
              "    }\n",
              "</style>\n",
              "<table border=\"1\" class=\"dataframe\">\n",
              "  <thead>\n",
              "    <tr style=\"text-align: right;\">\n",
              "      <th></th>\n",
              "      <th>Unnamed: 0</th>\n",
              "      <th>age</th>\n",
              "      <th>weight</th>\n",
              "      <th>exercise_time</th>\n",
              "    </tr>\n",
              "  </thead>\n",
              "  <tbody>\n",
              "    <tr>\n",
              "      <th>0</th>\n",
              "      <td>0</td>\n",
              "      <td>44</td>\n",
              "      <td>118</td>\n",
              "      <td>192</td>\n",
              "    </tr>\n",
              "    <tr>\n",
              "      <th>1</th>\n",
              "      <td>1</td>\n",
              "      <td>41</td>\n",
              "      <td>161</td>\n",
              "      <td>35</td>\n",
              "    </tr>\n",
              "    <tr>\n",
              "      <th>2</th>\n",
              "      <td>2</td>\n",
              "      <td>46</td>\n",
              "      <td>128</td>\n",
              "      <td>220</td>\n",
              "    </tr>\n",
              "    <tr>\n",
              "      <th>3</th>\n",
              "      <td>3</td>\n",
              "      <td>39</td>\n",
              "      <td>216</td>\n",
              "      <td>57</td>\n",
              "    </tr>\n",
              "    <tr>\n",
              "      <th>4</th>\n",
              "      <td>4</td>\n",
              "      <td>28</td>\n",
              "      <td>116</td>\n",
              "      <td>182</td>\n",
              "    </tr>\n",
              "  </tbody>\n",
              "</table>\n",
              "</div>"
            ],
            "text/plain": [
              "   Unnamed: 0  age  weight  exercise_time\n",
              "0           0   44     118            192\n",
              "1           1   41     161             35\n",
              "2           2   46     128            220\n",
              "3           3   39     216             57\n",
              "4           4   28     116            182"
            ]
          },
          "metadata": {
            "tags": []
          },
          "execution_count": 4
        }
      ]
    },
    {
      "metadata": {
        "id": "Ml7eV1uhVbAG",
        "colab_type": "code",
        "outputId": "e92f7002-8ec0-4370-b2f1-45f0689cf380",
        "colab": {
          "base_uri": "https://localhost:8080/",
          "height": 35
        }
      },
      "cell_type": "code",
      "source": [
        "df.columns"
      ],
      "execution_count": 5,
      "outputs": [
        {
          "output_type": "execute_result",
          "data": {
            "text/plain": [
              "Index(['Unnamed: 0', 'age', 'weight', 'exercise_time'], dtype='object')"
            ]
          },
          "metadata": {
            "tags": []
          },
          "execution_count": 5
        }
      ]
    },
    {
      "metadata": {
        "id": "VY668FtGVbKT",
        "colab_type": "code",
        "outputId": "190bfb35-1022-432f-a000-5e03ec5d055e",
        "colab": {
          "base_uri": "https://localhost:8080/",
          "height": 172
        }
      },
      "cell_type": "code",
      "source": [
        "df.corr()"
      ],
      "execution_count": 6,
      "outputs": [
        {
          "output_type": "execute_result",
          "data": {
            "text/html": [
              "<div>\n",
              "<style scoped>\n",
              "    .dataframe tbody tr th:only-of-type {\n",
              "        vertical-align: middle;\n",
              "    }\n",
              "\n",
              "    .dataframe tbody tr th {\n",
              "        vertical-align: top;\n",
              "    }\n",
              "\n",
              "    .dataframe thead th {\n",
              "        text-align: right;\n",
              "    }\n",
              "</style>\n",
              "<table border=\"1\" class=\"dataframe\">\n",
              "  <thead>\n",
              "    <tr style=\"text-align: right;\">\n",
              "      <th></th>\n",
              "      <th>Unnamed: 0</th>\n",
              "      <th>age</th>\n",
              "      <th>weight</th>\n",
              "      <th>exercise_time</th>\n",
              "    </tr>\n",
              "  </thead>\n",
              "  <tbody>\n",
              "    <tr>\n",
              "      <th>Unnamed: 0</th>\n",
              "      <td>1.000000</td>\n",
              "      <td>-0.000418</td>\n",
              "      <td>-0.060297</td>\n",
              "      <td>-0.020138</td>\n",
              "    </tr>\n",
              "    <tr>\n",
              "      <th>age</th>\n",
              "      <td>-0.000418</td>\n",
              "      <td>1.000000</td>\n",
              "      <td>0.144168</td>\n",
              "      <td>-0.273818</td>\n",
              "    </tr>\n",
              "    <tr>\n",
              "      <th>weight</th>\n",
              "      <td>-0.060297</td>\n",
              "      <td>0.144168</td>\n",
              "      <td>1.000000</td>\n",
              "      <td>-0.478021</td>\n",
              "    </tr>\n",
              "    <tr>\n",
              "      <th>exercise_time</th>\n",
              "      <td>-0.020138</td>\n",
              "      <td>-0.273818</td>\n",
              "      <td>-0.478021</td>\n",
              "      <td>1.000000</td>\n",
              "    </tr>\n",
              "  </tbody>\n",
              "</table>\n",
              "</div>"
            ],
            "text/plain": [
              "               Unnamed: 0       age    weight  exercise_time\n",
              "Unnamed: 0       1.000000 -0.000418 -0.060297      -0.020138\n",
              "age             -0.000418  1.000000  0.144168      -0.273818\n",
              "weight          -0.060297  0.144168  1.000000      -0.478021\n",
              "exercise_time   -0.020138 -0.273818 -0.478021       1.000000"
            ]
          },
          "metadata": {
            "tags": []
          },
          "execution_count": 6
        }
      ]
    },
    {
      "metadata": {
        "id": "EYYkN4N0VbSI",
        "colab_type": "code",
        "outputId": "7e9ee9ec-4ba3-424f-e8f5-a3c83d24a3be",
        "colab": {
          "base_uri": "https://localhost:8080/",
          "height": 295
        }
      },
      "cell_type": "code",
      "source": [
        "df.describe()"
      ],
      "execution_count": 7,
      "outputs": [
        {
          "output_type": "execute_result",
          "data": {
            "text/html": [
              "<div>\n",
              "<style scoped>\n",
              "    .dataframe tbody tr th:only-of-type {\n",
              "        vertical-align: middle;\n",
              "    }\n",
              "\n",
              "    .dataframe tbody tr th {\n",
              "        vertical-align: top;\n",
              "    }\n",
              "\n",
              "    .dataframe thead th {\n",
              "        text-align: right;\n",
              "    }\n",
              "</style>\n",
              "<table border=\"1\" class=\"dataframe\">\n",
              "  <thead>\n",
              "    <tr style=\"text-align: right;\">\n",
              "      <th></th>\n",
              "      <th>Unnamed: 0</th>\n",
              "      <th>age</th>\n",
              "      <th>weight</th>\n",
              "      <th>exercise_time</th>\n",
              "    </tr>\n",
              "  </thead>\n",
              "  <tbody>\n",
              "    <tr>\n",
              "      <th>count</th>\n",
              "      <td>1200.000000</td>\n",
              "      <td>1200.000000</td>\n",
              "      <td>1200.000000</td>\n",
              "      <td>1200.000000</td>\n",
              "    </tr>\n",
              "    <tr>\n",
              "      <th>mean</th>\n",
              "      <td>599.500000</td>\n",
              "      <td>48.396667</td>\n",
              "      <td>153.540833</td>\n",
              "      <td>134.910833</td>\n",
              "    </tr>\n",
              "    <tr>\n",
              "      <th>std</th>\n",
              "      <td>346.554469</td>\n",
              "      <td>18.166802</td>\n",
              "      <td>35.132182</td>\n",
              "      <td>85.548895</td>\n",
              "    </tr>\n",
              "    <tr>\n",
              "      <th>min</th>\n",
              "      <td>0.000000</td>\n",
              "      <td>18.000000</td>\n",
              "      <td>100.000000</td>\n",
              "      <td>0.000000</td>\n",
              "    </tr>\n",
              "    <tr>\n",
              "      <th>25%</th>\n",
              "      <td>299.750000</td>\n",
              "      <td>33.000000</td>\n",
              "      <td>125.000000</td>\n",
              "      <td>65.000000</td>\n",
              "    </tr>\n",
              "    <tr>\n",
              "      <th>50%</th>\n",
              "      <td>599.500000</td>\n",
              "      <td>48.000000</td>\n",
              "      <td>149.000000</td>\n",
              "      <td>122.000000</td>\n",
              "    </tr>\n",
              "    <tr>\n",
              "      <th>75%</th>\n",
              "      <td>899.250000</td>\n",
              "      <td>64.000000</td>\n",
              "      <td>180.250000</td>\n",
              "      <td>206.000000</td>\n",
              "    </tr>\n",
              "    <tr>\n",
              "      <th>max</th>\n",
              "      <td>1199.000000</td>\n",
              "      <td>80.000000</td>\n",
              "      <td>246.000000</td>\n",
              "      <td>300.000000</td>\n",
              "    </tr>\n",
              "  </tbody>\n",
              "</table>\n",
              "</div>"
            ],
            "text/plain": [
              "        Unnamed: 0          age       weight  exercise_time\n",
              "count  1200.000000  1200.000000  1200.000000    1200.000000\n",
              "mean    599.500000    48.396667   153.540833     134.910833\n",
              "std     346.554469    18.166802    35.132182      85.548895\n",
              "min       0.000000    18.000000   100.000000       0.000000\n",
              "25%     299.750000    33.000000   125.000000      65.000000\n",
              "50%     599.500000    48.000000   149.000000     122.000000\n",
              "75%     899.250000    64.000000   180.250000     206.000000\n",
              "max    1199.000000    80.000000   246.000000     300.000000"
            ]
          },
          "metadata": {
            "tags": []
          },
          "execution_count": 7
        }
      ]
    },
    {
      "metadata": {
        "id": "tVR1DLoZW7Ul",
        "colab_type": "code",
        "outputId": "4a94ee23-af6b-4371-dc29-69acf8e2d65a",
        "colab": {
          "base_uri": "https://localhost:8080/",
          "height": 365
        }
      },
      "cell_type": "code",
      "source": [
        "import matplotlib.pyplot as plt\n",
        "\n",
        "plt.scatter(df.weight,df.exercise_time)"
      ],
      "execution_count": 8,
      "outputs": [
        {
          "output_type": "execute_result",
          "data": {
            "text/plain": [
              "<matplotlib.collections.PathCollection at 0x7fdab5e45550>"
            ]
          },
          "metadata": {
            "tags": []
          },
          "execution_count": 8
        },
        {
          "output_type": "display_data",
          "data": {
            "image/png": "[encoded data removed]",
            "text/plain": [
              "<matplotlib.figure.Figure at 0x7fdab5ee4eb8>"
            ]
          },
          "metadata": {
            "tags": []
          }
        }
      ]
    },
    {
      "metadata": {
        "id": "9fnymxpnW7f8",
        "colab_type": "code",
        "outputId": "22b62076-9a27-4c5a-c4e8-e41ff851326a",
        "colab": {
          "base_uri": "https://localhost:8080/",
          "height": 365
        }
      },
      "cell_type": "code",
      "source": [
        "plt.scatter(df.age,df.weight)"
      ],
      "execution_count": 9,
      "outputs": [
        {
          "output_type": "execute_result",
          "data": {
            "text/plain": [
              "<matplotlib.collections.PathCollection at 0x7fdab35deac8>"
            ]
          },
          "metadata": {
            "tags": []
          },
          "execution_count": 9
        },
        {
          "output_type": "display_data",
          "data": {
            "image/png": "[encoded data removed]",
            "text/plain": [
              "<matplotlib.figure.Figure at 0x7fdab5e85eb8>"
            ]
          },
          "metadata": {
            "tags": []
          }
        }
      ]
    },
    {
      "metadata": {
        "id": "CHNcGUx-W7kI",
        "colab_type": "code",
        "outputId": "685e89a4-0dc1-4fce-e94b-0fc24c06d900",
        "colab": {
          "base_uri": "https://localhost:8080/",
          "height": 35
        }
      },
      "cell_type": "code",
      "source": [
        "age_bins = pd.cut(df['age'],bins=6)\n",
        "type(age_bins)"
      ],
      "execution_count": 10,
      "outputs": [
        {
          "output_type": "execute_result",
          "data": {
            "text/plain": [
              "pandas.core.series.Series"
            ]
          },
          "metadata": {
            "tags": []
          },
          "execution_count": 10
        }
      ]
    },
    {
      "metadata": {
        "id": "SsAx2eYuW7n8",
        "colab_type": "code",
        "colab": {}
      },
      "cell_type": "code",
      "source": [
        "df['age_bins'] = age_bins"
      ],
      "execution_count": 0,
      "outputs": []
    },
    {
      "metadata": {
        "id": "RjaukhaiYGKJ",
        "colab_type": "code",
        "outputId": "881fc72b-4f04-4033-bd94-8736cbb1206f",
        "colab": {
          "base_uri": "https://localhost:8080/",
          "height": 35
        }
      },
      "cell_type": "code",
      "source": [
        "(df.groupby(by=df.age_bins))"
      ],
      "execution_count": 12,
      "outputs": [
        {
          "output_type": "execute_result",
          "data": {
            "text/plain": [
              "<pandas.core.groupby.DataFrameGroupBy object at 0x7fdab5e854e0>"
            ]
          },
          "metadata": {
            "tags": []
          },
          "execution_count": 12
        }
      ]
    },
    {
      "metadata": {
        "id": "Q4qvKStiYGSJ",
        "colab_type": "code",
        "outputId": "f344d911-7743-4842-fc09-a1ee895969f5",
        "colab": {
          "base_uri": "https://localhost:8080/",
          "height": 35
        }
      },
      "cell_type": "code",
      "source": [
        "lst_of_dfs = []\n",
        "\n",
        "for age_bin in list(age_bins.unique()):\n",
        "  lst_of_dfs.append(df[df['age_bins'] == age_bin])\n",
        "\n",
        "len(lst_of_dfs)"
      ],
      "execution_count": 13,
      "outputs": [
        {
          "output_type": "execute_result",
          "data": {
            "text/plain": [
              "6"
            ]
          },
          "metadata": {
            "tags": []
          },
          "execution_count": 13
        }
      ]
    },
    {
      "metadata": {
        "id": "F08smcBuaVOy",
        "colab_type": "code",
        "outputId": "b6aa849a-8b69-4a0a-aa9d-b4f6b187d8d5",
        "colab": {
          "base_uri": "https://localhost:8080/",
          "height": 967
        }
      },
      "cell_type": "code",
      "source": [
        "for sdf in lst_of_dfs:\n",
        "  print(sdf.describe())"
      ],
      "execution_count": 14,
      "outputs": [
        {
          "output_type": "stream",
          "text": [
            "        Unnamed: 0         age      weight  exercise_time\n",
            "count   200.000000  200.000000  200.000000     200.000000\n",
            "mean    587.455000   43.790000  149.855000     159.730000\n",
            "std     338.114128    3.375332   34.406146      90.724926\n",
            "min       0.000000   39.000000  100.000000       1.000000\n",
            "25%     304.000000   41.000000  125.000000      80.000000\n",
            "50%     576.500000   44.000000  140.000000     162.500000\n",
            "75%     864.250000   47.000000  172.000000     245.500000\n",
            "max    1195.000000   49.000000  246.000000     300.000000\n",
            "        Unnamed: 0         age      weight  exercise_time\n",
            "count   209.000000  209.000000  209.000000     209.000000\n",
            "mean    606.062201   22.933014  150.215311     152.483254\n",
            "std     345.908073    3.248566   33.445946      81.226186\n",
            "min       4.000000   18.000000  101.000000       0.000000\n",
            "25%     323.000000   20.000000  122.000000      85.000000\n",
            "50%     622.000000   23.000000  145.000000     156.000000\n",
            "75%     902.000000   26.000000  171.000000     219.000000\n",
            "max    1198.000000   28.000000  240.000000     300.000000\n",
            "        Unnamed: 0         age      weight  exercise_time\n",
            "count   184.000000  184.000000  184.000000     184.000000\n",
            "mean    623.978261   54.690217  150.211957     162.103261\n",
            "std     352.219473    2.879494   33.395685      90.697872\n",
            "min       5.000000   50.000000  100.000000       1.000000\n",
            "25%     326.500000   52.000000  122.750000      86.250000\n",
            "50%     625.500000   55.000000  144.000000     165.500000\n",
            "75%     943.250000   57.000000  176.500000     247.250000\n",
            "max    1192.000000   59.000000  234.000000     300.000000\n",
            "        Unnamed: 0         age      weight  exercise_time\n",
            "count   198.000000  198.000000  198.000000     198.000000\n",
            "mean    593.186869   74.616162  162.808081      74.752525\n",
            "std     345.503650    3.221776   37.835921      46.851687\n",
            "min      12.000000   70.000000  100.000000       2.000000\n",
            "25%     263.500000   72.000000  130.000000      32.500000\n",
            "50%     611.000000   74.000000  162.000000      73.000000\n",
            "75%     884.750000   77.000000  189.000000     106.750000\n",
            "max    1190.000000   80.000000  244.000000     198.000000\n",
            "        Unnamed: 0         age      weight  exercise_time\n",
            "count   217.000000  217.000000  217.000000     217.000000\n",
            "mean    595.543779   33.350230  148.271889     145.926267\n",
            "std     352.005273    2.876616   34.155890      89.015157\n",
            "min      15.000000   29.000000  100.000000       0.000000\n",
            "25%     282.000000   31.000000  119.000000      63.000000\n",
            "50%     601.000000   33.000000  143.000000     147.000000\n",
            "75%     897.000000   36.000000  173.000000     224.000000\n",
            "max    1197.000000   38.000000  231.000000     299.000000\n",
            "        Unnamed: 0         age      weight  exercise_time\n",
            "count   192.000000  192.000000  192.000000     192.000000\n",
            "mean    592.427083   64.848958  160.588542     113.458333\n",
            "std     348.594132    2.925443   34.994876      70.908527\n",
            "min      17.000000   60.000000  100.000000       1.000000\n",
            "25%     298.500000   62.000000  134.000000      63.750000\n",
            "50%     567.500000   65.000000  156.000000     100.000000\n",
            "75%     914.750000   67.250000  189.250000     168.750000\n",
            "max    1199.000000   69.000000  241.000000     298.000000\n"
          ],
          "name": "stdout"
        }
      ]
    },
    {
      "metadata": {
        "id": "xVQjK8OQaXvd",
        "colab_type": "code",
        "outputId": "fd38449b-bea1-453e-b1d9-9405e05f09d6",
        "colab": {
          "base_uri": "https://localhost:8080/",
          "height": 442
        }
      },
      "cell_type": "code",
      "source": [
        "df.pivot_table(index='age_bins', values='weight').plot.bar()"
      ],
      "execution_count": 15,
      "outputs": [
        {
          "output_type": "execute_result",
          "data": {
            "text/plain": [
              "<matplotlib.axes._subplots.AxesSubplot at 0x7fdab1d4b320>"
            ]
          },
          "metadata": {
            "tags": []
          },
          "execution_count": 15
        },
        {
          "output_type": "display_data",
          "data": {
            "image/png": "[encoded data removed]",
            "text/plain": [
              "<matplotlib.figure.Figure at 0x7fdab1d3e390>"
            ]
          },
          "metadata": {
            "tags": []
          }
        }
      ]
    },
    {
      "metadata": {
        "id": "3yMVumj8cAZz",
        "colab_type": "code",
        "outputId": "1566321e-8d97-44cb-cb39-9f31b6800c49",
        "colab": {
          "base_uri": "https://localhost:8080/",
          "height": 442
        }
      },
      "cell_type": "code",
      "source": [
        "df.pivot_table(index='age_bins', values='exercise_time').plot.bar()"
      ],
      "execution_count": 16,
      "outputs": [
        {
          "output_type": "execute_result",
          "data": {
            "text/plain": [
              "<matplotlib.axes._subplots.AxesSubplot at 0x7fdab1d8c780>"
            ]
          },
          "metadata": {
            "tags": []
          },
          "execution_count": 16
        },
        {
          "output_type": "display_data",
          "data": {
            "image/png": "[encoded data removed]",
            "text/plain": [
              "<matplotlib.figure.Figure at 0x7fdab1d3cbe0>"
            ]
          },
          "metadata": {
            "tags": []
          }
        }
      ]
    },
    {
      "metadata": {
        "id": "KjvlYjY2cweD",
        "colab_type": "code",
        "colab": {}
      },
      "cell_type": "code",
      "source": [
        "from sklearn.linear_model import LinearRegression\n",
        "from sklearn.metrics import mean_absolute_error\n",
        "from sklearn.model_selection import train_test_split\n",
        "\n",
        "def black_box(dfs, features):    # input a list of dfs and list of features.\n",
        "  \n",
        "  errors = {}\n",
        "  \n",
        "  for df in dfs:\n",
        "    \n",
        "    train, test = train_test_split(df.copy())\n",
        "    \n",
        "    # initializing our linear regression object and fitting it.\n",
        "    model = LinearRegression()\n",
        "    model.fit(train[features], train['weight'])\n",
        "    \n",
        "    # predicting both in sample and out of sample weights using our model.\n",
        "    isp = model.predict(train[features])\n",
        "    oosp = model.predict(test[features])\n",
        "    \n",
        "    # getting our errors\n",
        "    in_sample_error = mean_absolute_error(train['weight'], isp)\n",
        "    out_of_sample_error = mean_absolute_error(test['weight'], oosp)\n",
        "    \n",
        "    errors['in_sample_error' + str(round(df.age.mean(), 2))] = in_sample_error\n",
        "    errors['out_of_sample_error' + str(round(df.age.mean(), 2))] = out_of_sample_error\n",
        "    \n",
        "  return errors"
      ],
      "execution_count": 0,
      "outputs": []
    },
    {
      "metadata": {
        "id": "mohmbS0ycwba",
        "colab_type": "code",
        "colab": {}
      },
      "cell_type": "code",
      "source": [
        "features = ['age', 'weight', 'exercise_time']"
      ],
      "execution_count": 0,
      "outputs": []
    },
    {
      "metadata": {
        "id": "keecjFHjcwYx",
        "colab_type": "code",
        "colab": {}
      },
      "cell_type": "code",
      "source": [
        "results = black_box(dfs=lst_of_dfs, features=features)"
      ],
      "execution_count": 0,
      "outputs": []
    },
    {
      "metadata": {
        "id": "HdtyufvncAlj",
        "colab_type": "code",
        "outputId": "6ba60b8e-23a2-49ce-9b1c-c2fb48566d57",
        "colab": {
          "base_uri": "https://localhost:8080/",
          "height": 35
        }
      },
      "cell_type": "code",
      "source": [
        "results = pd.Series(results)\n",
        "results.shape"
      ],
      "execution_count": 20,
      "outputs": [
        {
          "output_type": "execute_result",
          "data": {
            "text/plain": [
              "(12,)"
            ]
          },
          "metadata": {
            "tags": []
          },
          "execution_count": 20
        }
      ]
    },
    {
      "metadata": {
        "id": "Le3MAIIlcv6w",
        "colab_type": "code",
        "outputId": "19beda88-fab4-4a43-f79a-99e3f899a1ee",
        "colab": {
          "base_uri": "https://localhost:8080/",
          "height": 246
        }
      },
      "cell_type": "code",
      "source": [
        "results"
      ],
      "execution_count": 21,
      "outputs": [
        {
          "output_type": "execute_result",
          "data": {
            "text/plain": [
              "in_sample_error22.93        1.994985e-14\n",
              "in_sample_error33.35        1.219326e-14\n",
              "in_sample_error43.79        2.065311e-14\n",
              "in_sample_error54.69        2.450858e-14\n",
              "in_sample_error64.85        1.075683e-14\n",
              "in_sample_error74.62        1.968395e-14\n",
              "out_of_sample_error22.93    1.903718e-14\n",
              "out_of_sample_error33.35    1.188544e-14\n",
              "out_of_sample_error43.79    2.074785e-14\n",
              "out_of_sample_error54.69    2.934850e-14\n",
              "out_of_sample_error64.85    1.421085e-14\n",
              "out_of_sample_error74.62    2.273737e-14\n",
              "dtype: float64"
            ]
          },
          "metadata": {
            "tags": []
          },
          "execution_count": 21
        }
      ]
    },
    {
      "metadata": {
        "id": "z3nKAoc-aVY9",
        "colab_type": "code",
        "colab": {}
      },
      "cell_type": "code",
      "source": [
        "new_ser = list(results.index)"
      ],
      "execution_count": 0,
      "outputs": []
    },
    {
      "metadata": {
        "id": "LYPXPHGFiTzr",
        "colab_type": "code",
        "colab": {}
      },
      "cell_type": "code",
      "source": [
        "new_ser = pd.Series(new_ser)"
      ],
      "execution_count": 0,
      "outputs": []
    },
    {
      "metadata": {
        "id": "0JMi9cU2iT7h",
        "colab_type": "code",
        "colab": {}
      },
      "cell_type": "code",
      "source": [
        "dic = {1: results[0], 2: new_ser}\n",
        "results_df = pd.DataFrame(dic)"
      ],
      "execution_count": 0,
      "outputs": []
    },
    {
      "metadata": {
        "id": "9LDau2ALiUAz",
        "colab_type": "code",
        "outputId": "1dba7357-b15f-49a4-fa4c-232b24482d94",
        "colab": {
          "base_uri": "https://localhost:8080/",
          "height": 418
        }
      },
      "cell_type": "code",
      "source": [
        "results_df"
      ],
      "execution_count": 25,
      "outputs": [
        {
          "output_type": "execute_result",
          "data": {
            "text/html": [
              "<div>\n",
              "<style scoped>\n",
              "    .dataframe tbody tr th:only-of-type {\n",
              "        vertical-align: middle;\n",
              "    }\n",
              "\n",
              "    .dataframe tbody tr th {\n",
              "        vertical-align: top;\n",
              "    }\n",
              "\n",
              "    .dataframe thead th {\n",
              "        text-align: right;\n",
              "    }\n",
              "</style>\n",
              "<table border=\"1\" class=\"dataframe\">\n",
              "  <thead>\n",
              "    <tr style=\"text-align: right;\">\n",
              "      <th></th>\n",
              "      <th>1</th>\n",
              "      <th>2</th>\n",
              "    </tr>\n",
              "  </thead>\n",
              "  <tbody>\n",
              "    <tr>\n",
              "      <th>0</th>\n",
              "      <td>1.994985e-14</td>\n",
              "      <td>in_sample_error22.93</td>\n",
              "    </tr>\n",
              "    <tr>\n",
              "      <th>1</th>\n",
              "      <td>1.994985e-14</td>\n",
              "      <td>in_sample_error33.35</td>\n",
              "    </tr>\n",
              "    <tr>\n",
              "      <th>2</th>\n",
              "      <td>1.994985e-14</td>\n",
              "      <td>in_sample_error43.79</td>\n",
              "    </tr>\n",
              "    <tr>\n",
              "      <th>3</th>\n",
              "      <td>1.994985e-14</td>\n",
              "      <td>in_sample_error54.69</td>\n",
              "    </tr>\n",
              "    <tr>\n",
              "      <th>4</th>\n",
              "      <td>1.994985e-14</td>\n",
              "      <td>in_sample_error64.85</td>\n",
              "    </tr>\n",
              "    <tr>\n",
              "      <th>5</th>\n",
              "      <td>1.994985e-14</td>\n",
              "      <td>in_sample_error74.62</td>\n",
              "    </tr>\n",
              "    <tr>\n",
              "      <th>6</th>\n",
              "      <td>1.994985e-14</td>\n",
              "      <td>out_of_sample_error22.93</td>\n",
              "    </tr>\n",
              "    <tr>\n",
              "      <th>7</th>\n",
              "      <td>1.994985e-14</td>\n",
              "      <td>out_of_sample_error33.35</td>\n",
              "    </tr>\n",
              "    <tr>\n",
              "      <th>8</th>\n",
              "      <td>1.994985e-14</td>\n",
              "      <td>out_of_sample_error43.79</td>\n",
              "    </tr>\n",
              "    <tr>\n",
              "      <th>9</th>\n",
              "      <td>1.994985e-14</td>\n",
              "      <td>out_of_sample_error54.69</td>\n",
              "    </tr>\n",
              "    <tr>\n",
              "      <th>10</th>\n",
              "      <td>1.994985e-14</td>\n",
              "      <td>out_of_sample_error64.85</td>\n",
              "    </tr>\n",
              "    <tr>\n",
              "      <th>11</th>\n",
              "      <td>1.994985e-14</td>\n",
              "      <td>out_of_sample_error74.62</td>\n",
              "    </tr>\n",
              "  </tbody>\n",
              "</table>\n",
              "</div>"
            ],
            "text/plain": [
              "               1                         2\n",
              "0   1.994985e-14      in_sample_error22.93\n",
              "1   1.994985e-14      in_sample_error33.35\n",
              "2   1.994985e-14      in_sample_error43.79\n",
              "3   1.994985e-14      in_sample_error54.69\n",
              "4   1.994985e-14      in_sample_error64.85\n",
              "5   1.994985e-14      in_sample_error74.62\n",
              "6   1.994985e-14  out_of_sample_error22.93\n",
              "7   1.994985e-14  out_of_sample_error33.35\n",
              "8   1.994985e-14  out_of_sample_error43.79\n",
              "9   1.994985e-14  out_of_sample_error54.69\n",
              "10  1.994985e-14  out_of_sample_error64.85\n",
              "11  1.994985e-14  out_of_sample_error74.62"
            ]
          },
          "metadata": {
            "tags": []
          },
          "execution_count": 25
        }
      ]
    },
    {
      "metadata": {
        "id": "H8pIqqUujotm",
        "colab_type": "code",
        "outputId": "bc19f34b-6b9e-41c1-e726-a627c5760506",
        "colab": {
          "base_uri": "https://localhost:8080/",
          "height": 123
        }
      },
      "cell_type": "code",
      "source": [
        "df.dtypes"
      ],
      "execution_count": 26,
      "outputs": [
        {
          "output_type": "execute_result",
          "data": {
            "text/plain": [
              "Unnamed: 0          int64\n",
              "age                 int64\n",
              "weight              int64\n",
              "exercise_time       int64\n",
              "age_bins         category\n",
              "dtype: object"
            ]
          },
          "metadata": {
            "tags": []
          },
          "execution_count": 26
        }
      ]
    },
    {
      "metadata": {
        "id": "C6_Zfi6sjo0X",
        "colab_type": "code",
        "colab": {
          "base_uri": "https://localhost:8080/",
          "height": 203
        },
        "outputId": "226cf08c-bbe2-4ac7-aa2c-94a0631ae84f"
      },
      "cell_type": "code",
      "source": [
        "df.head()"
      ],
      "execution_count": 27,
      "outputs": [
        {
          "output_type": "execute_result",
          "data": {
            "text/html": [
              "<div>\n",
              "<style scoped>\n",
              "    .dataframe tbody tr th:only-of-type {\n",
              "        vertical-align: middle;\n",
              "    }\n",
              "\n",
              "    .dataframe tbody tr th {\n",
              "        vertical-align: top;\n",
              "    }\n",
              "\n",
              "    .dataframe thead th {\n",
              "        text-align: right;\n",
              "    }\n",
              "</style>\n",
              "<table border=\"1\" class=\"dataframe\">\n",
              "  <thead>\n",
              "    <tr style=\"text-align: right;\">\n",
              "      <th></th>\n",
              "      <th>Unnamed: 0</th>\n",
              "      <th>age</th>\n",
              "      <th>weight</th>\n",
              "      <th>exercise_time</th>\n",
              "      <th>age_bins</th>\n",
              "    </tr>\n",
              "  </thead>\n",
              "  <tbody>\n",
              "    <tr>\n",
              "      <th>0</th>\n",
              "      <td>0</td>\n",
              "      <td>44</td>\n",
              "      <td>118</td>\n",
              "      <td>192</td>\n",
              "      <td>(38.667, 49.0]</td>\n",
              "    </tr>\n",
              "    <tr>\n",
              "      <th>1</th>\n",
              "      <td>1</td>\n",
              "      <td>41</td>\n",
              "      <td>161</td>\n",
              "      <td>35</td>\n",
              "      <td>(38.667, 49.0]</td>\n",
              "    </tr>\n",
              "    <tr>\n",
              "      <th>2</th>\n",
              "      <td>2</td>\n",
              "      <td>46</td>\n",
              "      <td>128</td>\n",
              "      <td>220</td>\n",
              "      <td>(38.667, 49.0]</td>\n",
              "    </tr>\n",
              "    <tr>\n",
              "      <th>3</th>\n",
              "      <td>3</td>\n",
              "      <td>39</td>\n",
              "      <td>216</td>\n",
              "      <td>57</td>\n",
              "      <td>(38.667, 49.0]</td>\n",
              "    </tr>\n",
              "    <tr>\n",
              "      <th>4</th>\n",
              "      <td>4</td>\n",
              "      <td>28</td>\n",
              "      <td>116</td>\n",
              "      <td>182</td>\n",
              "      <td>(17.938, 28.333]</td>\n",
              "    </tr>\n",
              "  </tbody>\n",
              "</table>\n",
              "</div>"
            ],
            "text/plain": [
              "   Unnamed: 0  age  weight  exercise_time          age_bins\n",
              "0           0   44     118            192    (38.667, 49.0]\n",
              "1           1   41     161             35    (38.667, 49.0]\n",
              "2           2   46     128            220    (38.667, 49.0]\n",
              "3           3   39     216             57    (38.667, 49.0]\n",
              "4           4   28     116            182  (17.938, 28.333]"
            ]
          },
          "metadata": {
            "tags": []
          },
          "execution_count": 27
        }
      ]
    },
    {
      "metadata": {
        "id": "qWKYJeOTjo3q",
        "colab_type": "code",
        "colab": {
          "base_uri": "https://localhost:8080/",
          "height": 35
        },
        "outputId": "b5428462-60b1-42bb-dd02-0d3d2169bbdf"
      },
      "cell_type": "code",
      "source": [
        "grouped_df = df.groupby('age_bins')\n",
        "descriptive_df = grouped_df['weight'].corr(df['exercise_time'])\n",
        "type(descriptive_df)"
      ],
      "execution_count": 37,
      "outputs": [
        {
          "output_type": "execute_result",
          "data": {
            "text/plain": [
              "pandas.core.series.Series"
            ]
          },
          "metadata": {
            "tags": []
          },
          "execution_count": 37
        }
      ]
    },
    {
      "metadata": {
        "id": "akZRpMbgjo7p",
        "colab_type": "code",
        "colab": {
          "base_uri": "https://localhost:8080/",
          "height": 35
        },
        "outputId": "f87f40c9-be6d-4643-d5de-e2949ed9d2fc"
      },
      "cell_type": "code",
      "source": [
        "type(descriptive_df)"
      ],
      "execution_count": 41,
      "outputs": [
        {
          "output_type": "execute_result",
          "data": {
            "text/plain": [
              "pandas.core.frame.DataFrame"
            ]
          },
          "metadata": {
            "tags": []
          },
          "execution_count": 41
        }
      ]
    },
    {
      "metadata": {
        "id": "CRdyioIx52Yh",
        "colab_type": "code",
        "colab": {
          "base_uri": "https://localhost:8080/",
          "height": 233
        },
        "outputId": "5ff22641-f08a-48da-b679-16e53dfdaca3"
      },
      "cell_type": "code",
      "source": [
        "descriptive_df.head()"
      ],
      "execution_count": 42,
      "outputs": [
        {
          "output_type": "execute_result",
          "data": {
            "text/html": [
              "<div>\n",
              "<style scoped>\n",
              "    .dataframe tbody tr th:only-of-type {\n",
              "        vertical-align: middle;\n",
              "    }\n",
              "\n",
              "    .dataframe tbody tr th {\n",
              "        vertical-align: top;\n",
              "    }\n",
              "\n",
              "    .dataframe thead th {\n",
              "        text-align: right;\n",
              "    }\n",
              "</style>\n",
              "<table border=\"1\" class=\"dataframe\">\n",
              "  <thead>\n",
              "    <tr style=\"text-align: right;\">\n",
              "      <th></th>\n",
              "      <th>weight</th>\n",
              "    </tr>\n",
              "    <tr>\n",
              "      <th>age_bins</th>\n",
              "      <th></th>\n",
              "    </tr>\n",
              "  </thead>\n",
              "  <tbody>\n",
              "    <tr>\n",
              "      <th>(17.938, 28.333]</th>\n",
              "      <td>-0.531099</td>\n",
              "    </tr>\n",
              "    <tr>\n",
              "      <th>(28.333, 38.667]</th>\n",
              "      <td>-0.470117</td>\n",
              "    </tr>\n",
              "    <tr>\n",
              "      <th>(38.667, 49.0]</th>\n",
              "      <td>-0.568483</td>\n",
              "    </tr>\n",
              "    <tr>\n",
              "      <th>(49.0, 59.333]</th>\n",
              "      <td>-0.482434</td>\n",
              "    </tr>\n",
              "    <tr>\n",
              "      <th>(59.333, 69.667]</th>\n",
              "      <td>-0.454645</td>\n",
              "    </tr>\n",
              "  </tbody>\n",
              "</table>\n",
              "</div>"
            ],
            "text/plain": [
              "                    weight\n",
              "age_bins                  \n",
              "(17.938, 28.333] -0.531099\n",
              "(28.333, 38.667] -0.470117\n",
              "(38.667, 49.0]   -0.568483\n",
              "(49.0, 59.333]   -0.482434\n",
              "(59.333, 69.667] -0.454645"
            ]
          },
          "metadata": {
            "tags": []
          },
          "execution_count": 42
        }
      ]
    },
    {
      "metadata": {
        "id": "zNc9xvlo6Tdl",
        "colab_type": "code",
        "colab": {
          "base_uri": "https://localhost:8080/",
          "height": 264
        },
        "outputId": "5108d3fd-2773-4b79-96fa-436c8ef7daf0"
      },
      "cell_type": "code",
      "source": [
        "descriptive_df.rename_axis(['weight_exercise_corr'])"
      ],
      "execution_count": 44,
      "outputs": [
        {
          "output_type": "execute_result",
          "data": {
            "text/html": [
              "<div>\n",
              "<style scoped>\n",
              "    .dataframe tbody tr th:only-of-type {\n",
              "        vertical-align: middle;\n",
              "    }\n",
              "\n",
              "    .dataframe tbody tr th {\n",
              "        vertical-align: top;\n",
              "    }\n",
              "\n",
              "    .dataframe thead th {\n",
              "        text-align: right;\n",
              "    }\n",
              "</style>\n",
              "<table border=\"1\" class=\"dataframe\">\n",
              "  <thead>\n",
              "    <tr style=\"text-align: right;\">\n",
              "      <th></th>\n",
              "      <th>weight</th>\n",
              "    </tr>\n",
              "    <tr>\n",
              "      <th>weight_exercise_corr</th>\n",
              "      <th></th>\n",
              "    </tr>\n",
              "  </thead>\n",
              "  <tbody>\n",
              "    <tr>\n",
              "      <th>(17.938, 28.333]</th>\n",
              "      <td>-0.531099</td>\n",
              "    </tr>\n",
              "    <tr>\n",
              "      <th>(28.333, 38.667]</th>\n",
              "      <td>-0.470117</td>\n",
              "    </tr>\n",
              "    <tr>\n",
              "      <th>(38.667, 49.0]</th>\n",
              "      <td>-0.568483</td>\n",
              "    </tr>\n",
              "    <tr>\n",
              "      <th>(49.0, 59.333]</th>\n",
              "      <td>-0.482434</td>\n",
              "    </tr>\n",
              "    <tr>\n",
              "      <th>(59.333, 69.667]</th>\n",
              "      <td>-0.454645</td>\n",
              "    </tr>\n",
              "    <tr>\n",
              "      <th>(69.667, 80.0]</th>\n",
              "      <td>-0.224981</td>\n",
              "    </tr>\n",
              "  </tbody>\n",
              "</table>\n",
              "</div>"
            ],
            "text/plain": [
              "                        weight\n",
              "weight_exercise_corr          \n",
              "(17.938, 28.333]     -0.531099\n",
              "(28.333, 38.667]     -0.470117\n",
              "(38.667, 49.0]       -0.568483\n",
              "(49.0, 59.333]       -0.482434\n",
              "(59.333, 69.667]     -0.454645\n",
              "(69.667, 80.0]       -0.224981"
            ]
          },
          "metadata": {
            "tags": []
          },
          "execution_count": 44
        }
      ]
    },
    {
      "metadata": {
        "id": "NOM09dyd6t4o",
        "colab_type": "code",
        "colab": {
          "base_uri": "https://localhost:8080/",
          "height": 233
        },
        "outputId": "63b43c84-93b8-4be2-b1d3-747770b0a7ec"
      },
      "cell_type": "code",
      "source": [
        "descriptive_df.rename({'weight':'weight_exercise_corr'},axis='columns',inplace=True)\n",
        "descriptive_df.head()"
      ],
      "execution_count": 51,
      "outputs": [
        {
          "output_type": "execute_result",
          "data": {
            "text/html": [
              "<div>\n",
              "<style scoped>\n",
              "    .dataframe tbody tr th:only-of-type {\n",
              "        vertical-align: middle;\n",
              "    }\n",
              "\n",
              "    .dataframe tbody tr th {\n",
              "        vertical-align: top;\n",
              "    }\n",
              "\n",
              "    .dataframe thead th {\n",
              "        text-align: right;\n",
              "    }\n",
              "</style>\n",
              "<table border=\"1\" class=\"dataframe\">\n",
              "  <thead>\n",
              "    <tr style=\"text-align: right;\">\n",
              "      <th></th>\n",
              "      <th>weight_exercise_corr</th>\n",
              "    </tr>\n",
              "    <tr>\n",
              "      <th>age_bins</th>\n",
              "      <th></th>\n",
              "    </tr>\n",
              "  </thead>\n",
              "  <tbody>\n",
              "    <tr>\n",
              "      <th>(17.938, 28.333]</th>\n",
              "      <td>-0.531099</td>\n",
              "    </tr>\n",
              "    <tr>\n",
              "      <th>(28.333, 38.667]</th>\n",
              "      <td>-0.470117</td>\n",
              "    </tr>\n",
              "    <tr>\n",
              "      <th>(38.667, 49.0]</th>\n",
              "      <td>-0.568483</td>\n",
              "    </tr>\n",
              "    <tr>\n",
              "      <th>(49.0, 59.333]</th>\n",
              "      <td>-0.482434</td>\n",
              "    </tr>\n",
              "    <tr>\n",
              "      <th>(59.333, 69.667]</th>\n",
              "      <td>-0.454645</td>\n",
              "    </tr>\n",
              "  </tbody>\n",
              "</table>\n",
              "</div>"
            ],
            "text/plain": [
              "                  weight_exercise_corr\n",
              "age_bins                              \n",
              "(17.938, 28.333]             -0.531099\n",
              "(28.333, 38.667]             -0.470117\n",
              "(38.667, 49.0]               -0.568483\n",
              "(49.0, 59.333]               -0.482434\n",
              "(59.333, 69.667]             -0.454645"
            ]
          },
          "metadata": {
            "tags": []
          },
          "execution_count": 51
        }
      ]
    },
    {
      "metadata": {
        "id": "AOQETrEI7b7l",
        "colab_type": "code",
        "colab": {
          "base_uri": "https://localhost:8080/",
          "height": 233
        },
        "outputId": "67cf7b59-2b31-4c1a-cf38-5d81f0d0754f"
      },
      "cell_type": "code",
      "source": [
        "descriptive_df['weight_age_corr'] = grouped_df['weight'].corr(df['age'])\n",
        "descriptive_df.head()"
      ],
      "execution_count": 55,
      "outputs": [
        {
          "output_type": "execute_result",
          "data": {
            "text/html": [
              "<div>\n",
              "<style scoped>\n",
              "    .dataframe tbody tr th:only-of-type {\n",
              "        vertical-align: middle;\n",
              "    }\n",
              "\n",
              "    .dataframe tbody tr th {\n",
              "        vertical-align: top;\n",
              "    }\n",
              "\n",
              "    .dataframe thead th {\n",
              "        text-align: right;\n",
              "    }\n",
              "</style>\n",
              "<table border=\"1\" class=\"dataframe\">\n",
              "  <thead>\n",
              "    <tr style=\"text-align: right;\">\n",
              "      <th></th>\n",
              "      <th>weight_exercise_corr</th>\n",
              "      <th>weight_age_corr</th>\n",
              "    </tr>\n",
              "    <tr>\n",
              "      <th>age_bins</th>\n",
              "      <th></th>\n",
              "      <th></th>\n",
              "    </tr>\n",
              "  </thead>\n",
              "  <tbody>\n",
              "    <tr>\n",
              "      <th>(17.938, 28.333]</th>\n",
              "      <td>-0.531099</td>\n",
              "      <td>-0.052567</td>\n",
              "    </tr>\n",
              "    <tr>\n",
              "      <th>(28.333, 38.667]</th>\n",
              "      <td>-0.470117</td>\n",
              "      <td>-0.025240</td>\n",
              "    </tr>\n",
              "    <tr>\n",
              "      <th>(38.667, 49.0]</th>\n",
              "      <td>-0.568483</td>\n",
              "      <td>0.089264</td>\n",
              "    </tr>\n",
              "    <tr>\n",
              "      <th>(49.0, 59.333]</th>\n",
              "      <td>-0.482434</td>\n",
              "      <td>0.038248</td>\n",
              "    </tr>\n",
              "    <tr>\n",
              "      <th>(59.333, 69.667]</th>\n",
              "      <td>-0.454645</td>\n",
              "      <td>0.042757</td>\n",
              "    </tr>\n",
              "  </tbody>\n",
              "</table>\n",
              "</div>"
            ],
            "text/plain": [
              "                  weight_exercise_corr  weight_age_corr\n",
              "age_bins                                               \n",
              "(17.938, 28.333]             -0.531099        -0.052567\n",
              "(28.333, 38.667]             -0.470117        -0.025240\n",
              "(38.667, 49.0]               -0.568483         0.089264\n",
              "(49.0, 59.333]               -0.482434         0.038248\n",
              "(59.333, 69.667]             -0.454645         0.042757"
            ]
          },
          "metadata": {
            "tags": []
          },
          "execution_count": 55
        }
      ]
    },
    {
      "metadata": {
        "id": "FZ6Vov9V7b29",
        "colab_type": "code",
        "colab": {
          "base_uri": "https://localhost:8080/",
          "height": 35
        },
        "outputId": "da4a52ae-172c-42d3-f706-7e79e1128555"
      },
      "cell_type": "code",
      "source": [
        "groups = dict(list(grouped_df))\n",
        "print(len(groups))"
      ],
      "execution_count": 60,
      "outputs": [
        {
          "output_type": "stream",
          "text": [
            "6\n"
          ],
          "name": "stdout"
        }
      ]
    },
    {
      "metadata": {
        "id": "lr9zpPNr823q",
        "colab_type": "code",
        "colab": {
          "base_uri": "https://localhost:8080/",
          "height": 123
        },
        "outputId": "f8548551-3f15-4269-c487-8f8b20018812"
      },
      "cell_type": "code",
      "source": [
        "list([key for key in groups])"
      ],
      "execution_count": 73,
      "outputs": [
        {
          "output_type": "execute_result",
          "data": {
            "text/plain": [
              "[Interval(17.938, 28.333, closed='right'),\n",
              " Interval(28.333, 38.667, closed='right'),\n",
              " Interval(38.667, 49.0, closed='right'),\n",
              " Interval(49.0, 59.333, closed='right'),\n",
              " Interval(59.333, 69.667, closed='right'),\n",
              " Interval(69.667, 80.0, closed='right')]"
            ]
          },
          "metadata": {
            "tags": []
          },
          "execution_count": 73
        }
      ]
    },
    {
      "metadata": {
        "id": "lHzmFLV883CF",
        "colab_type": "code",
        "colab": {}
      },
      "cell_type": "code",
      "source": [
        ""
      ],
      "execution_count": 0,
      "outputs": []
    },
    {
      "metadata": {
        "id": "BT9gdS7viJZa",
        "colab_type": "text"
      },
      "cell_type": "markdown",
      "source": [
        "### Assignment questions\n",
        "\n",
        "After you've worked on some code, answer the following questions in this text block:\n",
        "\n",
        "1.  What are the variable types in the data?\n",
        "2.  What are the relationships between the variables?\n",
        "3.  Which relationships are \"real\", and which spurious?\n"
      ]
    },
    {
      "metadata": {
        "id": "Qfvgv6yQoJ44",
        "colab_type": "text"
      },
      "cell_type": "markdown",
      "source": [
        "1. The datatypes are all integer. \n",
        "2. In general: as age goes up exercise time goes down, as age goes up weight goes up. As exercise time goes down, weight goes up. \n",
        "3. I think exercise time and weight are somewhat spurious. People may exercise because more because they are overweight or vice versa. As people age, they tend to gain weight. The table below does a good job representing this."
      ]
    },
    {
      "metadata": {
        "id": "_JPaaz0AjoxH",
        "colab_type": "code",
        "outputId": "75ab1520-1157-4893-80da-fd72fafd052b",
        "colab": {
          "base_uri": "https://localhost:8080/",
          "height": 264
        }
      },
      "cell_type": "code",
      "source": [
        "df.groupby('age_bins').mean()"
      ],
      "execution_count": 0,
      "outputs": [
        {
          "output_type": "execute_result",
          "data": {
            "text/html": [
              "<div>\n",
              "<style scoped>\n",
              "    .dataframe tbody tr th:only-of-type {\n",
              "        vertical-align: middle;\n",
              "    }\n",
              "\n",
              "    .dataframe tbody tr th {\n",
              "        vertical-align: top;\n",
              "    }\n",
              "\n",
              "    .dataframe thead th {\n",
              "        text-align: right;\n",
              "    }\n",
              "</style>\n",
              "<table border=\"1\" class=\"dataframe\">\n",
              "  <thead>\n",
              "    <tr style=\"text-align: right;\">\n",
              "      <th></th>\n",
              "      <th>Unnamed: 0</th>\n",
              "      <th>age</th>\n",
              "      <th>weight</th>\n",
              "      <th>exercise_time</th>\n",
              "    </tr>\n",
              "    <tr>\n",
              "      <th>age_bins</th>\n",
              "      <th></th>\n",
              "      <th></th>\n",
              "      <th></th>\n",
              "      <th></th>\n",
              "    </tr>\n",
              "  </thead>\n",
              "  <tbody>\n",
              "    <tr>\n",
              "      <th>(17.938, 28.333]</th>\n",
              "      <td>606.062201</td>\n",
              "      <td>22.933014</td>\n",
              "      <td>150.215311</td>\n",
              "      <td>152.483254</td>\n",
              "    </tr>\n",
              "    <tr>\n",
              "      <th>(28.333, 38.667]</th>\n",
              "      <td>595.543779</td>\n",
              "      <td>33.350230</td>\n",
              "      <td>148.271889</td>\n",
              "      <td>145.926267</td>\n",
              "    </tr>\n",
              "    <tr>\n",
              "      <th>(38.667, 49.0]</th>\n",
              "      <td>587.455000</td>\n",
              "      <td>43.790000</td>\n",
              "      <td>149.855000</td>\n",
              "      <td>159.730000</td>\n",
              "    </tr>\n",
              "    <tr>\n",
              "      <th>(49.0, 59.333]</th>\n",
              "      <td>623.978261</td>\n",
              "      <td>54.690217</td>\n",
              "      <td>150.211957</td>\n",
              "      <td>162.103261</td>\n",
              "    </tr>\n",
              "    <tr>\n",
              "      <th>(59.333, 69.667]</th>\n",
              "      <td>592.427083</td>\n",
              "      <td>64.848958</td>\n",
              "      <td>160.588542</td>\n",
              "      <td>113.458333</td>\n",
              "    </tr>\n",
              "    <tr>\n",
              "      <th>(69.667, 80.0]</th>\n",
              "      <td>593.186869</td>\n",
              "      <td>74.616162</td>\n",
              "      <td>162.808081</td>\n",
              "      <td>74.752525</td>\n",
              "    </tr>\n",
              "  </tbody>\n",
              "</table>\n",
              "</div>"
            ],
            "text/plain": [
              "                  Unnamed: 0        age      weight  exercise_time\n",
              "age_bins                                                          \n",
              "(17.938, 28.333]  606.062201  22.933014  150.215311     152.483254\n",
              "(28.333, 38.667]  595.543779  33.350230  148.271889     145.926267\n",
              "(38.667, 49.0]    587.455000  43.790000  149.855000     159.730000\n",
              "(49.0, 59.333]    623.978261  54.690217  150.211957     162.103261\n",
              "(59.333, 69.667]  592.427083  64.848958  160.588542     113.458333\n",
              "(69.667, 80.0]    593.186869  74.616162  162.808081      74.752525"
            ]
          },
          "metadata": {
            "tags": []
          },
          "execution_count": 144
        }
      ]
    },
    {
      "metadata": {
        "id": "_XXg2crAipwP",
        "colab_type": "text"
      },
      "cell_type": "markdown",
      "source": [
        "## Stretch goals and resources\n",
        "\n",
        "Following are *optional* things for you to take a look at. Focus on the above assignment first, and make sure to commit and push your changes to GitHub.\n",
        "\n",
        "- [Spurious Correlations](http://tylervigen.com/spurious-correlations)\n",
        "- [NIH on controlling for confounding variables](https://www.ncbi.nlm.nih.gov/pmc/articles/PMC4017459/)\n",
        "\n",
        "Stretch goals:\n",
        "\n",
        "- Produce your own plot inspierd by the Spurious Correlation visualizations (and consider writing a blog post about it - both the content and how you made it)\n",
        "- Pick one of the techniques that NIH highlights for confounding variables - we'll be going into many of them later, but see if you can find which Python modules may help (hint - check scikit-learn)"
      ]
    },
    {
      "metadata": {
        "id": "n8SzXYHxAK3Z",
        "colab_type": "code",
        "colab": {}
      },
      "cell_type": "code",
      "source": [
        "# going to try and work with NFL data https://github.com/nfl-football-ops/Big-Data-Bowl/tree/master/Data\n",
        "\n",
        "games = pd.read_csv('https://raw.githubusercontent.com/nfl-football-ops/Big-Data-Bowl/master/Data/games.csv')\n",
        "players = pd.read_csv('https://raw.githubusercontent.com/nfl-football-ops/Big-Data-Bowl/master/Data/players.csv')\n",
        "plays = pd.read_csv('https://raw.githubusercontent.com/nfl-football-ops/Big-Data-Bowl/master/Data/plays.csv')"
      ],
      "execution_count": 0,
      "outputs": []
    },
    {
      "metadata": {
        "id": "q7CJ3MKiBbvh",
        "colab_type": "code",
        "colab": {
          "base_uri": "https://localhost:8080/",
          "height": 123
        },
        "outputId": "d3b8695e-2267-4e1f-815d-aa98087c7444"
      },
      "cell_type": "code",
      "source": [
        "print(games.columns)"
      ],
      "execution_count": 77,
      "outputs": [
        {
          "output_type": "stream",
          "text": [
            "Index(['season', 'week', 'gameDate', 'gameId', 'gameTimeEastern', 'HomeScore',\n",
            "       'VisitorScore', 'homeTeamAbbr', 'visitorTeamAbbr', 'homeDisplayName',\n",
            "       'visitorDisplayName', 'Stadium', 'Location', 'StadiumType', 'Turf',\n",
            "       'GameLength', 'GameWeather', 'Temperature', 'Humidity', 'WindSpeed',\n",
            "       'WindDirection'],\n",
            "      dtype='object')\n"
          ],
          "name": "stdout"
        }
      ]
    },
    {
      "metadata": {
        "id": "y3AKY1PFBtCF",
        "colab_type": "code",
        "colab": {
          "base_uri": "https://localhost:8080/",
          "height": 70
        },
        "outputId": "920a351f-8382-4729-c220-2964d17076bd"
      },
      "cell_type": "code",
      "source": [
        "print(players.columns)"
      ],
      "execution_count": 78,
      "outputs": [
        {
          "output_type": "stream",
          "text": [
            "Index(['nflId', 'FirstName', 'LastName', 'PositionAbbr', 'EntryYear',\n",
            "       'DraftRound', 'DraftNumber', 'Height', 'Weight', 'College'],\n",
            "      dtype='object')\n"
          ],
          "name": "stdout"
        }
      ]
    },
    {
      "metadata": {
        "id": "9rLj1xnFB6gI",
        "colab_type": "code",
        "colab": {
          "base_uri": "https://localhost:8080/",
          "height": 158
        },
        "outputId": "ebe56070-9d68-463c-9e06-5dd8d1e46f4a"
      },
      "cell_type": "code",
      "source": [
        "print(plays.columns)"
      ],
      "execution_count": 79,
      "outputs": [
        {
          "output_type": "stream",
          "text": [
            "Index(['gameId', 'playId', 'quarter', 'GameClock', 'down', 'yardsToGo',\n",
            "       'possessionTeam', 'yardlineSide', 'yardlineNumber', 'offenseFormation',\n",
            "       'personnel.offense', 'defendersInTheBox', 'numberOfPassRushers',\n",
            "       'personnel.defense', 'HomeScoreBeforePlay', 'VisitorScoreBeforePlay',\n",
            "       'HomeScoreAfterPlay', 'VisitorScoreAfterPlay', 'isPenalty', 'isSTPlay',\n",
            "       'SpecialTeamsPlayType', 'KickReturnYardage', 'PassLength', 'PassResult',\n",
            "       'YardsAfterCatch', 'PlayResult', 'playDescription'],\n",
            "      dtype='object')\n"
          ],
          "name": "stdout"
        }
      ]
    },
    {
      "metadata": {
        "id": "rn0GQGHDB-H3",
        "colab_type": "code",
        "colab": {
          "base_uri": "https://localhost:8080/",
          "height": 458
        },
        "outputId": "83e5738e-ddb9-4ea0-859d-67d62a7ffb1a"
      },
      "cell_type": "code",
      "source": [
        "plays.head()"
      ],
      "execution_count": 80,
      "outputs": [
        {
          "output_type": "execute_result",
          "data": {
            "text/html": [
              "<div>\n",
              "<style scoped>\n",
              "    .dataframe tbody tr th:only-of-type {\n",
              "        vertical-align: middle;\n",
              "    }\n",
              "\n",
              "    .dataframe tbody tr th {\n",
              "        vertical-align: top;\n",
              "    }\n",
              "\n",
              "    .dataframe thead th {\n",
              "        text-align: right;\n",
              "    }\n",
              "</style>\n",
              "<table border=\"1\" class=\"dataframe\">\n",
              "  <thead>\n",
              "    <tr style=\"text-align: right;\">\n",
              "      <th></th>\n",
              "      <th>gameId</th>\n",
              "      <th>playId</th>\n",
              "      <th>quarter</th>\n",
              "      <th>GameClock</th>\n",
              "      <th>down</th>\n",
              "      <th>yardsToGo</th>\n",
              "      <th>possessionTeam</th>\n",
              "      <th>yardlineSide</th>\n",
              "      <th>yardlineNumber</th>\n",
              "      <th>offenseFormation</th>\n",
              "      <th>...</th>\n",
              "      <th>VisitorScoreAfterPlay</th>\n",
              "      <th>isPenalty</th>\n",
              "      <th>isSTPlay</th>\n",
              "      <th>SpecialTeamsPlayType</th>\n",
              "      <th>KickReturnYardage</th>\n",
              "      <th>PassLength</th>\n",
              "      <th>PassResult</th>\n",
              "      <th>YardsAfterCatch</th>\n",
              "      <th>PlayResult</th>\n",
              "      <th>playDescription</th>\n",
              "    </tr>\n",
              "  </thead>\n",
              "  <tbody>\n",
              "    <tr>\n",
              "      <th>0</th>\n",
              "      <td>2017091004</td>\n",
              "      <td>37</td>\n",
              "      <td>1</td>\n",
              "      <td>15:00:00</td>\n",
              "      <td>0</td>\n",
              "      <td>0</td>\n",
              "      <td>DET</td>\n",
              "      <td>DET</td>\n",
              "      <td>35.0</td>\n",
              "      <td>NaN</td>\n",
              "      <td>...</td>\n",
              "      <td>0</td>\n",
              "      <td>False</td>\n",
              "      <td>True</td>\n",
              "      <td>Kickoff</td>\n",
              "      <td>23.0</td>\n",
              "      <td>NaN</td>\n",
              "      <td>NaN</td>\n",
              "      <td>NaN</td>\n",
              "      <td>42</td>\n",
              "      <td>K.Redfern kicks 65 yards from DET 35 to ARZ 0....</td>\n",
              "    </tr>\n",
              "    <tr>\n",
              "      <th>1</th>\n",
              "      <td>2017091004</td>\n",
              "      <td>73</td>\n",
              "      <td>1</td>\n",
              "      <td>14:54:00</td>\n",
              "      <td>1</td>\n",
              "      <td>10</td>\n",
              "      <td>ARI</td>\n",
              "      <td>ARI</td>\n",
              "      <td>23.0</td>\n",
              "      <td>SHOTGUN</td>\n",
              "      <td>...</td>\n",
              "      <td>0</td>\n",
              "      <td>False</td>\n",
              "      <td>False</td>\n",
              "      <td>NaN</td>\n",
              "      <td>NaN</td>\n",
              "      <td>-2.0</td>\n",
              "      <td>C</td>\n",
              "      <td>6.0</td>\n",
              "      <td>4</td>\n",
              "      <td>(14:54) (Shotgun) C.Palmer pass short right to...</td>\n",
              "    </tr>\n",
              "    <tr>\n",
              "      <th>2</th>\n",
              "      <td>2017091004</td>\n",
              "      <td>97</td>\n",
              "      <td>1</td>\n",
              "      <td>14:16:00</td>\n",
              "      <td>2</td>\n",
              "      <td>6</td>\n",
              "      <td>ARI</td>\n",
              "      <td>ARI</td>\n",
              "      <td>27.0</td>\n",
              "      <td>SINGLEBACK</td>\n",
              "      <td>...</td>\n",
              "      <td>0</td>\n",
              "      <td>False</td>\n",
              "      <td>False</td>\n",
              "      <td>NaN</td>\n",
              "      <td>NaN</td>\n",
              "      <td>NaN</td>\n",
              "      <td>NaN</td>\n",
              "      <td>NaN</td>\n",
              "      <td>2</td>\n",
              "      <td>(14:16) Da.Johnson up the middle to ARZ 29 for...</td>\n",
              "    </tr>\n",
              "    <tr>\n",
              "      <th>3</th>\n",
              "      <td>2017091004</td>\n",
              "      <td>118</td>\n",
              "      <td>1</td>\n",
              "      <td>13:34:00</td>\n",
              "      <td>3</td>\n",
              "      <td>4</td>\n",
              "      <td>ARI</td>\n",
              "      <td>ARI</td>\n",
              "      <td>29.0</td>\n",
              "      <td>SHOTGUN</td>\n",
              "      <td>...</td>\n",
              "      <td>0</td>\n",
              "      <td>False</td>\n",
              "      <td>False</td>\n",
              "      <td>NaN</td>\n",
              "      <td>NaN</td>\n",
              "      <td>7.0</td>\n",
              "      <td>C</td>\n",
              "      <td>7.0</td>\n",
              "      <td>15</td>\n",
              "      <td>(13:34) (Shotgun) C.Palmer pass short middle t...</td>\n",
              "    </tr>\n",
              "    <tr>\n",
              "      <th>4</th>\n",
              "      <td>2017091004</td>\n",
              "      <td>153</td>\n",
              "      <td>1</td>\n",
              "      <td>12:51:00</td>\n",
              "      <td>1</td>\n",
              "      <td>10</td>\n",
              "      <td>ARI</td>\n",
              "      <td>ARI</td>\n",
              "      <td>44.0</td>\n",
              "      <td>SHOTGUN</td>\n",
              "      <td>...</td>\n",
              "      <td>0</td>\n",
              "      <td>False</td>\n",
              "      <td>False</td>\n",
              "      <td>NaN</td>\n",
              "      <td>NaN</td>\n",
              "      <td>NaN</td>\n",
              "      <td>NaN</td>\n",
              "      <td>NaN</td>\n",
              "      <td>-2</td>\n",
              "      <td>(12:51) (Shotgun) Da.Johnson left end to ARZ 4...</td>\n",
              "    </tr>\n",
              "  </tbody>\n",
              "</table>\n",
              "<p>5 rows × 27 columns</p>\n",
              "</div>"
            ],
            "text/plain": [
              "       gameId  playId  quarter GameClock  down  yardsToGo possessionTeam  \\\n",
              "0  2017091004      37        1  15:00:00     0          0            DET   \n",
              "1  2017091004      73        1  14:54:00     1         10            ARI   \n",
              "2  2017091004      97        1  14:16:00     2          6            ARI   \n",
              "3  2017091004     118        1  13:34:00     3          4            ARI   \n",
              "4  2017091004     153        1  12:51:00     1         10            ARI   \n",
              "\n",
              "  yardlineSide  yardlineNumber offenseFormation  \\\n",
              "0          DET            35.0              NaN   \n",
              "1          ARI            23.0          SHOTGUN   \n",
              "2          ARI            27.0       SINGLEBACK   \n",
              "3          ARI            29.0          SHOTGUN   \n",
              "4          ARI            44.0          SHOTGUN   \n",
              "\n",
              "                         ...                         VisitorScoreAfterPlay  \\\n",
              "0                        ...                                             0   \n",
              "1                        ...                                             0   \n",
              "2                        ...                                             0   \n",
              "3                        ...                                             0   \n",
              "4                        ...                                             0   \n",
              "\n",
              "   isPenalty  isSTPlay SpecialTeamsPlayType  KickReturnYardage  PassLength  \\\n",
              "0      False      True              Kickoff               23.0         NaN   \n",
              "1      False     False                  NaN                NaN        -2.0   \n",
              "2      False     False                  NaN                NaN         NaN   \n",
              "3      False     False                  NaN                NaN         7.0   \n",
              "4      False     False                  NaN                NaN         NaN   \n",
              "\n",
              "   PassResult  YardsAfterCatch  PlayResult  \\\n",
              "0         NaN              NaN          42   \n",
              "1           C              6.0           4   \n",
              "2         NaN              NaN           2   \n",
              "3           C              7.0          15   \n",
              "4         NaN              NaN          -2   \n",
              "\n",
              "                                     playDescription  \n",
              "0  K.Redfern kicks 65 yards from DET 35 to ARZ 0....  \n",
              "1  (14:54) (Shotgun) C.Palmer pass short right to...  \n",
              "2  (14:16) Da.Johnson up the middle to ARZ 29 for...  \n",
              "3  (13:34) (Shotgun) C.Palmer pass short middle t...  \n",
              "4  (12:51) (Shotgun) Da.Johnson left end to ARZ 4...  \n",
              "\n",
              "[5 rows x 27 columns]"
            ]
          },
          "metadata": {
            "tags": []
          },
          "execution_count": 80
        }
      ]
    },
    {
      "metadata": {
        "id": "enmenxkjCDy0",
        "colab_type": "code",
        "colab": {
          "base_uri": "https://localhost:8080/",
          "height": 35
        },
        "outputId": "e070e30e-042d-4995-c2a1-542b15b66117"
      },
      "cell_type": "code",
      "source": [
        "plays.shape"
      ],
      "execution_count": 81,
      "outputs": [
        {
          "output_type": "execute_result",
          "data": {
            "text/plain": [
              "(14193, 27)"
            ]
          },
          "metadata": {
            "tags": []
          },
          "execution_count": 81
        }
      ]
    },
    {
      "metadata": {
        "id": "VLajto7xCMis",
        "colab_type": "code",
        "colab": {
          "base_uri": "https://localhost:8080/",
          "height": 35
        },
        "outputId": "15c95910-463a-4f8f-96ee-e0eebf0fa940"
      },
      "cell_type": "code",
      "source": [
        "len(list(plays.gameId.unique()))"
      ],
      "execution_count": 82,
      "outputs": [
        {
          "output_type": "execute_result",
          "data": {
            "text/plain": [
              "91"
            ]
          },
          "metadata": {
            "tags": []
          },
          "execution_count": 82
        }
      ]
    },
    {
      "metadata": {
        "id": "ddHnvs9RCS3O",
        "colab_type": "code",
        "colab": {}
      },
      "cell_type": "code",
      "source": [
        "gameIds = list(plays.gameId.unique())"
      ],
      "execution_count": 0,
      "outputs": []
    },
    {
      "metadata": {
        "id": "4VuZEvmaCUkR",
        "colab_type": "code",
        "colab": {
          "base_uri": "https://localhost:8080/",
          "height": 35
        },
        "outputId": "aadbfebf-7731-4b5a-ccbd-8b89830dcacf"
      },
      "cell_type": "code",
      "source": [
        "gameIds[0]"
      ],
      "execution_count": 84,
      "outputs": [
        {
          "output_type": "execute_result",
          "data": {
            "text/plain": [
              "2017091004"
            ]
          },
          "metadata": {
            "tags": []
          },
          "execution_count": 84
        }
      ]
    },
    {
      "metadata": {
        "id": "953pO-c_ClcL",
        "colab_type": "code",
        "colab": {
          "base_uri": "https://localhost:8080/",
          "height": 35
        },
        "outputId": "fd727f14-1ec6-49fd-a21c-5748a3b95918"
      },
      "cell_type": "code",
      "source": [
        "len(list(games.gameId))"
      ],
      "execution_count": 85,
      "outputs": [
        {
          "output_type": "execute_result",
          "data": {
            "text/plain": [
              "91"
            ]
          },
          "metadata": {
            "tags": []
          },
          "execution_count": 85
        }
      ]
    },
    {
      "metadata": {
        "id": "YCb6e8rMClqr",
        "colab_type": "code",
        "colab": {}
      },
      "cell_type": "code",
      "source": [
        "plays = pd.merge(plays, games, on='gameId')"
      ],
      "execution_count": 0,
      "outputs": []
    },
    {
      "metadata": {
        "id": "6pCnO9RhEnFz",
        "colab_type": "code",
        "colab": {
          "base_uri": "https://localhost:8080/",
          "height": 246
        },
        "outputId": "d18e9648-39e2-492f-d550-d97154668913"
      },
      "cell_type": "code",
      "source": [
        "plays.columns"
      ],
      "execution_count": 88,
      "outputs": [
        {
          "output_type": "execute_result",
          "data": {
            "text/plain": [
              "Index(['gameId', 'playId', 'quarter', 'GameClock', 'down', 'yardsToGo',\n",
              "       'possessionTeam', 'yardlineSide', 'yardlineNumber', 'offenseFormation',\n",
              "       'personnel.offense', 'defendersInTheBox', 'numberOfPassRushers',\n",
              "       'personnel.defense', 'HomeScoreBeforePlay', 'VisitorScoreBeforePlay',\n",
              "       'HomeScoreAfterPlay', 'VisitorScoreAfterPlay', 'isPenalty', 'isSTPlay',\n",
              "       'SpecialTeamsPlayType', 'KickReturnYardage', 'PassLength', 'PassResult',\n",
              "       'YardsAfterCatch', 'PlayResult', 'playDescription', 'season', 'week',\n",
              "       'gameDate', 'gameTimeEastern', 'HomeScore', 'VisitorScore',\n",
              "       'homeTeamAbbr', 'visitorTeamAbbr', 'homeDisplayName',\n",
              "       'visitorDisplayName', 'Stadium', 'Location', 'StadiumType', 'Turf',\n",
              "       'GameLength', 'GameWeather', 'Temperature', 'Humidity', 'WindSpeed',\n",
              "       'WindDirection'],\n",
              "      dtype='object')"
            ]
          },
          "metadata": {
            "tags": []
          },
          "execution_count": 88
        }
      ]
    },
    {
      "metadata": {
        "id": "NAhgXSnyEupZ",
        "colab_type": "code",
        "colab": {
          "base_uri": "https://localhost:8080/",
          "height": 580
        },
        "outputId": "d832b223-b845-44c6-f0ac-e58c9a8df1b7"
      },
      "cell_type": "code",
      "source": [
        "list(plays.homeTeamAbbr.unique())"
      ],
      "execution_count": 89,
      "outputs": [
        {
          "output_type": "execute_result",
          "data": {
            "text/plain": [
              "['DET',\n",
              " 'NE',\n",
              " 'CLE',\n",
              " 'CIN',\n",
              " 'BUF',\n",
              " 'CHI',\n",
              " 'TEN',\n",
              " 'WAS',\n",
              " 'HOU',\n",
              " 'GB',\n",
              " 'LA',\n",
              " 'SF',\n",
              " 'DAL',\n",
              " 'MIN',\n",
              " 'CAR',\n",
              " 'KC',\n",
              " 'NO',\n",
              " 'IND',\n",
              " 'NYJ',\n",
              " 'JAX',\n",
              " 'TB',\n",
              " 'LAC',\n",
              " 'BAL',\n",
              " 'DEN',\n",
              " 'ATL',\n",
              " 'OAK',\n",
              " 'SEA',\n",
              " 'PIT',\n",
              " 'NYG',\n",
              " 'PHI',\n",
              " 'MIA',\n",
              " 'ARI']"
            ]
          },
          "metadata": {
            "tags": []
          },
          "execution_count": 89
        }
      ]
    },
    {
      "metadata": {
        "id": "me_4neyPCUqT",
        "colab_type": "code",
        "colab": {
          "base_uri": "https://localhost:8080/",
          "height": 338
        },
        "outputId": "2b4ddde0-dfb7-4056-c7f3-8e29d3e82b23"
      },
      "cell_type": "code",
      "source": [
        "plays[plays['gameId'] == gameIds[0]].head()"
      ],
      "execution_count": 92,
      "outputs": [
        {
          "output_type": "execute_result",
          "data": {
            "text/html": [
              "<div>\n",
              "<style scoped>\n",
              "    .dataframe tbody tr th:only-of-type {\n",
              "        vertical-align: middle;\n",
              "    }\n",
              "\n",
              "    .dataframe tbody tr th {\n",
              "        vertical-align: top;\n",
              "    }\n",
              "\n",
              "    .dataframe thead th {\n",
              "        text-align: right;\n",
              "    }\n",
              "</style>\n",
              "<table border=\"1\" class=\"dataframe\">\n",
              "  <thead>\n",
              "    <tr style=\"text-align: right;\">\n",
              "      <th></th>\n",
              "      <th>gameId</th>\n",
              "      <th>playId</th>\n",
              "      <th>quarter</th>\n",
              "      <th>GameClock</th>\n",
              "      <th>down</th>\n",
              "      <th>yardsToGo</th>\n",
              "      <th>possessionTeam</th>\n",
              "      <th>yardlineSide</th>\n",
              "      <th>yardlineNumber</th>\n",
              "      <th>offenseFormation</th>\n",
              "      <th>...</th>\n",
              "      <th>Stadium</th>\n",
              "      <th>Location</th>\n",
              "      <th>StadiumType</th>\n",
              "      <th>Turf</th>\n",
              "      <th>GameLength</th>\n",
              "      <th>GameWeather</th>\n",
              "      <th>Temperature</th>\n",
              "      <th>Humidity</th>\n",
              "      <th>WindSpeed</th>\n",
              "      <th>WindDirection</th>\n",
              "    </tr>\n",
              "  </thead>\n",
              "  <tbody>\n",
              "    <tr>\n",
              "      <th>0</th>\n",
              "      <td>2017091004</td>\n",
              "      <td>37</td>\n",
              "      <td>1</td>\n",
              "      <td>15:00:00</td>\n",
              "      <td>0</td>\n",
              "      <td>0</td>\n",
              "      <td>DET</td>\n",
              "      <td>DET</td>\n",
              "      <td>35.0</td>\n",
              "      <td>NaN</td>\n",
              "      <td>...</td>\n",
              "      <td>Ford Field</td>\n",
              "      <td>Detroit, MI</td>\n",
              "      <td>Indoors</td>\n",
              "      <td>Field Turf</td>\n",
              "      <td>03:26:00</td>\n",
              "      <td>Controlled Climate</td>\n",
              "      <td>68.0</td>\n",
              "      <td>70.0</td>\n",
              "      <td>NaN</td>\n",
              "      <td>NaN</td>\n",
              "    </tr>\n",
              "    <tr>\n",
              "      <th>1</th>\n",
              "      <td>2017091004</td>\n",
              "      <td>73</td>\n",
              "      <td>1</td>\n",
              "      <td>14:54:00</td>\n",
              "      <td>1</td>\n",
              "      <td>10</td>\n",
              "      <td>ARI</td>\n",
              "      <td>ARI</td>\n",
              "      <td>23.0</td>\n",
              "      <td>SHOTGUN</td>\n",
              "      <td>...</td>\n",
              "      <td>Ford Field</td>\n",
              "      <td>Detroit, MI</td>\n",
              "      <td>Indoors</td>\n",
              "      <td>Field Turf</td>\n",
              "      <td>03:26:00</td>\n",
              "      <td>Controlled Climate</td>\n",
              "      <td>68.0</td>\n",
              "      <td>70.0</td>\n",
              "      <td>NaN</td>\n",
              "      <td>NaN</td>\n",
              "    </tr>\n",
              "    <tr>\n",
              "      <th>2</th>\n",
              "      <td>2017091004</td>\n",
              "      <td>97</td>\n",
              "      <td>1</td>\n",
              "      <td>14:16:00</td>\n",
              "      <td>2</td>\n",
              "      <td>6</td>\n",
              "      <td>ARI</td>\n",
              "      <td>ARI</td>\n",
              "      <td>27.0</td>\n",
              "      <td>SINGLEBACK</td>\n",
              "      <td>...</td>\n",
              "      <td>Ford Field</td>\n",
              "      <td>Detroit, MI</td>\n",
              "      <td>Indoors</td>\n",
              "      <td>Field Turf</td>\n",
              "      <td>03:26:00</td>\n",
              "      <td>Controlled Climate</td>\n",
              "      <td>68.0</td>\n",
              "      <td>70.0</td>\n",
              "      <td>NaN</td>\n",
              "      <td>NaN</td>\n",
              "    </tr>\n",
              "    <tr>\n",
              "      <th>3</th>\n",
              "      <td>2017091004</td>\n",
              "      <td>118</td>\n",
              "      <td>1</td>\n",
              "      <td>13:34:00</td>\n",
              "      <td>3</td>\n",
              "      <td>4</td>\n",
              "      <td>ARI</td>\n",
              "      <td>ARI</td>\n",
              "      <td>29.0</td>\n",
              "      <td>SHOTGUN</td>\n",
              "      <td>...</td>\n",
              "      <td>Ford Field</td>\n",
              "      <td>Detroit, MI</td>\n",
              "      <td>Indoors</td>\n",
              "      <td>Field Turf</td>\n",
              "      <td>03:26:00</td>\n",
              "      <td>Controlled Climate</td>\n",
              "      <td>68.0</td>\n",
              "      <td>70.0</td>\n",
              "      <td>NaN</td>\n",
              "      <td>NaN</td>\n",
              "    </tr>\n",
              "    <tr>\n",
              "      <th>4</th>\n",
              "      <td>2017091004</td>\n",
              "      <td>153</td>\n",
              "      <td>1</td>\n",
              "      <td>12:51:00</td>\n",
              "      <td>1</td>\n",
              "      <td>10</td>\n",
              "      <td>ARI</td>\n",
              "      <td>ARI</td>\n",
              "      <td>44.0</td>\n",
              "      <td>SHOTGUN</td>\n",
              "      <td>...</td>\n",
              "      <td>Ford Field</td>\n",
              "      <td>Detroit, MI</td>\n",
              "      <td>Indoors</td>\n",
              "      <td>Field Turf</td>\n",
              "      <td>03:26:00</td>\n",
              "      <td>Controlled Climate</td>\n",
              "      <td>68.0</td>\n",
              "      <td>70.0</td>\n",
              "      <td>NaN</td>\n",
              "      <td>NaN</td>\n",
              "    </tr>\n",
              "  </tbody>\n",
              "</table>\n",
              "<p>5 rows × 47 columns</p>\n",
              "</div>"
            ],
            "text/plain": [
              "       gameId  playId  quarter GameClock  down  yardsToGo possessionTeam  \\\n",
              "0  2017091004      37        1  15:00:00     0          0            DET   \n",
              "1  2017091004      73        1  14:54:00     1         10            ARI   \n",
              "2  2017091004      97        1  14:16:00     2          6            ARI   \n",
              "3  2017091004     118        1  13:34:00     3          4            ARI   \n",
              "4  2017091004     153        1  12:51:00     1         10            ARI   \n",
              "\n",
              "  yardlineSide  yardlineNumber offenseFormation      ...           Stadium  \\\n",
              "0          DET            35.0              NaN      ...        Ford Field   \n",
              "1          ARI            23.0          SHOTGUN      ...        Ford Field   \n",
              "2          ARI            27.0       SINGLEBACK      ...        Ford Field   \n",
              "3          ARI            29.0          SHOTGUN      ...        Ford Field   \n",
              "4          ARI            44.0          SHOTGUN      ...        Ford Field   \n",
              "\n",
              "      Location  StadiumType        Turf  GameLength         GameWeather  \\\n",
              "0  Detroit, MI      Indoors  Field Turf    03:26:00  Controlled Climate   \n",
              "1  Detroit, MI      Indoors  Field Turf    03:26:00  Controlled Climate   \n",
              "2  Detroit, MI      Indoors  Field Turf    03:26:00  Controlled Climate   \n",
              "3  Detroit, MI      Indoors  Field Turf    03:26:00  Controlled Climate   \n",
              "4  Detroit, MI      Indoors  Field Turf    03:26:00  Controlled Climate   \n",
              "\n",
              "   Temperature  Humidity  WindSpeed  WindDirection  \n",
              "0         68.0      70.0        NaN            NaN  \n",
              "1         68.0      70.0        NaN            NaN  \n",
              "2         68.0      70.0        NaN            NaN  \n",
              "3         68.0      70.0        NaN            NaN  \n",
              "4         68.0      70.0        NaN            NaN  \n",
              "\n",
              "[5 rows x 47 columns]"
            ]
          },
          "metadata": {
            "tags": []
          },
          "execution_count": 92
        }
      ]
    },
    {
      "metadata": {
        "id": "TFjJh2D5E40w",
        "colab_type": "code",
        "colab": {}
      },
      "cell_type": "code",
      "source": [
        "game_summary = {}\n",
        "gameIds = list(plays.gameId.unique())\n",
        "for g in gameIds:\n",
        "  game = plays[plays['gameId'] == g]\n",
        "  game = game[game['isSTPlay'] == False]\n",
        "  home_ball = game[game['possessionTeam'] == game['homeTeamAbbr']]\n",
        "  away_ball = game[game['possessionTeam'] == game['visitorTeamAbbr']]\n",
        "  game_summary['home_yards'] = home_ball['PlayResult'].sum()"
      ],
      "execution_count": 0,
      "outputs": []
    },
    {
      "metadata": {
        "id": "gmhUsvCOHhD6",
        "colab_type": "code",
        "colab": {
          "base_uri": "https://localhost:8080/",
          "height": 35
        },
        "outputId": "3c839adb-fb59-49ab-a371-2b126d40ee4b"
      },
      "cell_type": "code",
      "source": [
        "print(game_summary)"
      ],
      "execution_count": 105,
      "outputs": [
        {
          "output_type": "stream",
          "text": [
            "{'home_yards': 295}\n"
          ],
          "name": "stdout"
        }
      ]
    },
    {
      "metadata": {
        "id": "pRQhbyB8GnFQ",
        "colab_type": "code",
        "colab": {
          "base_uri": "https://localhost:8080/",
          "height": 1108
        },
        "outputId": "7fcd2a66-0163-4c75-a3df-c0db5194a4d3"
      },
      "cell_type": "code",
      "source": [
        "plays.isSTPlay"
      ],
      "execution_count": 94,
      "outputs": [
        {
          "output_type": "execute_result",
          "data": {
            "text/plain": [
              "0         True\n",
              "1        False\n",
              "2        False\n",
              "3        False\n",
              "4        False\n",
              "5        False\n",
              "6        False\n",
              "7        False\n",
              "8        False\n",
              "9         True\n",
              "10        True\n",
              "11       False\n",
              "12       False\n",
              "13       False\n",
              "14        True\n",
              "15       False\n",
              "16       False\n",
              "17       False\n",
              "18        True\n",
              "19       False\n",
              "20       False\n",
              "21       False\n",
              "22        True\n",
              "23       False\n",
              "24       False\n",
              "25       False\n",
              "26        True\n",
              "27       False\n",
              "28       False\n",
              "29       False\n",
              "         ...  \n",
              "14163     True\n",
              "14164    False\n",
              "14165    False\n",
              "14166    False\n",
              "14167     True\n",
              "14168    False\n",
              "14169     True\n",
              "14170    False\n",
              "14171    False\n",
              "14172    False\n",
              "14173     True\n",
              "14174    False\n",
              "14175     True\n",
              "14176    False\n",
              "14177    False\n",
              "14178    False\n",
              "14179    False\n",
              "14180     True\n",
              "14181    False\n",
              "14182    False\n",
              "14183    False\n",
              "14184     True\n",
              "14185    False\n",
              "14186    False\n",
              "14187    False\n",
              "14188    False\n",
              "14189    False\n",
              "14190    False\n",
              "14191    False\n",
              "14192     True\n",
              "Name: isSTPlay, Length: 14193, dtype: bool"
            ]
          },
          "metadata": {
            "tags": []
          },
          "execution_count": 94
        }
      ]
    },
    {
      "metadata": {
        "id": "DFcqOvrRGw-T",
        "colab_type": "code",
        "colab": {
          "base_uri": "https://localhost:8080/",
          "height": 351
        },
        "outputId": "76ff7de2-8976-4680-d631-c7cfffdab2a9"
      },
      "cell_type": "code",
      "source": [
        "plays['gameId'].unique()"
      ],
      "execution_count": 99,
      "outputs": [
        {
          "output_type": "execute_result",
          "data": {
            "text/plain": [
              "array([2017091004, 2017090700, 2017091003, 2017091002, 2017091000,\n",
              "       2017091001, 2017091007, 2017091008, 2017091005, 2017091010,\n",
              "       2017091009, 2017091011, 2017091012, 2017091100, 2017091701,\n",
              "       2017091704, 2017091705, 2017091702, 2017092408, 2017091703,\n",
              "       2017091707, 2017091708, 2017091700, 2017091101, 2017091711,\n",
              "       2017091713, 2017092407, 2017091709, 2017092400, 2017091712,\n",
              "       2017091400, 2017091706, 2017091710, 2017091800, 2017092100,\n",
              "       2017092404, 2017092401, 2017092412, 2017100104, 2017092413,\n",
              "       2017100102, 2017100106, 2017092402, 2017092406, 2017092410,\n",
              "       2017100107, 2017092403, 2017092409, 2017092405, 2017100100,\n",
              "       2017092411, 2017092800, 2017100101, 2017092500, 2017100108,\n",
              "       2017100105, 2017100109, 2017100111, 2017100802, 2017100803,\n",
              "       2017100801, 2017100809, 2017100112, 2017100805, 2017100807,\n",
              "       2017100811, 2017100103, 2017100500, 2017100806, 2017100810,\n",
              "       2017100113, 2017100110, 2017100800, 2017100804, 2017100808,\n",
              "       2017100200, 2017101511, 2017101509, 2017101506, 2017101500,\n",
              "       2017101508, 2017100900, 2017101504, 2017101507, 2017101502,\n",
              "       2017101505, 2017101503, 2017101510, 2017101200, 2017101600,\n",
              "       2017101501])"
            ]
          },
          "metadata": {
            "tags": []
          },
          "execution_count": 99
        }
      ]
    },
    {
      "metadata": {
        "id": "vCW2s5hTIAXU",
        "colab_type": "code",
        "colab": {
          "base_uri": "https://localhost:8080/",
          "height": 1619
        },
        "outputId": "c8bf6b69-405c-48f2-e800-385f1bf92a03"
      },
      "cell_type": "code",
      "source": [
        "gameIds"
      ],
      "execution_count": 100,
      "outputs": [
        {
          "output_type": "execute_result",
          "data": {
            "text/plain": [
              "[2017091004,\n",
              " 2017090700,\n",
              " 2017091003,\n",
              " 2017091002,\n",
              " 2017091000,\n",
              " 2017091001,\n",
              " 2017091007,\n",
              " 2017091008,\n",
              " 2017091005,\n",
              " 2017091010,\n",
              " 2017091009,\n",
              " 2017091011,\n",
              " 2017091012,\n",
              " 2017091100,\n",
              " 2017091701,\n",
              " 2017091704,\n",
              " 2017091705,\n",
              " 2017091702,\n",
              " 2017092408,\n",
              " 2017091703,\n",
              " 2017091707,\n",
              " 2017091708,\n",
              " 2017091700,\n",
              " 2017091101,\n",
              " 2017091711,\n",
              " 2017091713,\n",
              " 2017092407,\n",
              " 2017091709,\n",
              " 2017092400,\n",
              " 2017091712,\n",
              " 2017091400,\n",
              " 2017091706,\n",
              " 2017091710,\n",
              " 2017091800,\n",
              " 2017092100,\n",
              " 2017092404,\n",
              " 2017092401,\n",
              " 2017092412,\n",
              " 2017100104,\n",
              " 2017092413,\n",
              " 2017100102,\n",
              " 2017100106,\n",
              " 2017092402,\n",
              " 2017092406,\n",
              " 2017092410,\n",
              " 2017100107,\n",
              " 2017092403,\n",
              " 2017092409,\n",
              " 2017092405,\n",
              " 2017100100,\n",
              " 2017092411,\n",
              " 2017092800,\n",
              " 2017100101,\n",
              " 2017092500,\n",
              " 2017100108,\n",
              " 2017100105,\n",
              " 2017100109,\n",
              " 2017100111,\n",
              " 2017100802,\n",
              " 2017100803,\n",
              " 2017100801,\n",
              " 2017100809,\n",
              " 2017100112,\n",
              " 2017100805,\n",
              " 2017100807,\n",
              " 2017100811,\n",
              " 2017100103,\n",
              " 2017100500,\n",
              " 2017100806,\n",
              " 2017100810,\n",
              " 2017100113,\n",
              " 2017100110,\n",
              " 2017100800,\n",
              " 2017100804,\n",
              " 2017100808,\n",
              " 2017100200,\n",
              " 2017101511,\n",
              " 2017101509,\n",
              " 2017101506,\n",
              " 2017101500,\n",
              " 2017101508,\n",
              " 2017100900,\n",
              " 2017101504,\n",
              " 2017101507,\n",
              " 2017101502,\n",
              " 2017101505,\n",
              " 2017101503,\n",
              " 2017101510,\n",
              " 2017101200,\n",
              " 2017101600,\n",
              " 2017101501]"
            ]
          },
          "metadata": {
            "tags": []
          },
          "execution_count": 100
        }
      ]
    },
    {
      "metadata": {
        "id": "lf5xo3sIIJKq",
        "colab_type": "code",
        "colab": {}
      },
      "cell_type": "code",
      "source": [
        ""
      ],
      "execution_count": 0,
      "outputs": []
    }
  ]
}