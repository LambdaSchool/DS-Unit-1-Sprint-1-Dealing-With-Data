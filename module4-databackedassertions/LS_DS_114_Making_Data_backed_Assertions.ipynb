{
 "cells": [
  {
   "cell_type": "markdown",
   "metadata": {
    "colab_type": "text",
    "id": "Okfr_uhwhS1X"
   },
   "source": [
    "# Lambda School Data Science - Making Data-backed Assertions\n",
    "\n",
    "This is, for many, the main point of data science - to create and support reasoned arguments based on evidence. It's not a topic to master in a day, but it is worth some focused time thinking about and structuring your approach to it."
   ]
  },
  {
   "cell_type": "markdown",
   "metadata": {
    "colab_type": "text",
    "id": "9dtJETFRhnOG"
   },
   "source": [
    "## Lecture - generating a confounding variable\n",
    "\n",
    "The prewatch material told a story about a hypothetical health condition where both the drug usage and overall health outcome were related to gender - thus making gender a confounding variable, obfuscating the possible relationship between the drug and the outcome.\n",
    "\n",
    "Let's use Python to generate data that actually behaves in this fashion!"
   ]
  },
  {
   "cell_type": "code",
   "execution_count": 38,
   "metadata": {
    "colab": {
     "base_uri": "https://localhost:8080/",
     "height": 1102
    },
    "colab_type": "code",
    "id": "WiBkgmPJhmhE",
    "outputId": "4e8ced64-58d9-46f4-a13f-c5483ff542d1"
   },
   "outputs": [],
   "source": [
    "import random\n",
    "import pandas as pd\n",
    "import numpy as np\n",
    "import matplotlib.pyplot as plt\n",
    "import warnings\n",
    "warnings.filterwarnings('ignore')\n",
    "\n",
    "\n",
    "#dir(random)  # Reminding ourselves what we can do here"
   ]
  },
  {
   "cell_type": "code",
   "execution_count": 39,
   "metadata": {
    "colab": {
     "base_uri": "https://localhost:8080/",
     "height": 35
    },
    "colab_type": "code",
    "id": "Ks5qFtpnq-q5",
    "outputId": "4d8e1064-bf60-4a45-81c1-d6dcd3ecfe0a"
   },
   "outputs": [
    {
     "name": "stdout",
     "output_type": "stream",
     "text": [
      "User(purchased=False, time_on_site=12, mobile=False)\n"
     ]
    }
   ],
   "source": [
    "# Let's think of another scenario:\n",
    "# We work for a company that sells accessories for mobile phones.\n",
    "# They have an ecommerce site, and we are supposed to analyze logs\n",
    "# to determine what sort of usage is related to purchases, and thus guide\n",
    "# website development to encourage higher conversion.\n",
    "\n",
    "# The hypothesis - users who spend longer on the site tend\n",
    "# to spend more. Seems reasonable, no?\n",
    "\n",
    "# But there's a confounding variable! If they're on a phone, they:\n",
    "# a) Spend less time on the site, but\n",
    "# b) Are more likely to be interested in the actual products!\n",
    "\n",
    "# Let's use namedtuple to represent our data\n",
    "\n",
    "from collections import namedtuple\n",
    "# purchased and mobile are bools, time_on_site in seconds\n",
    "User = namedtuple('User', ['purchased','time_on_site', 'mobile'])\n",
    "\n",
    "example_user = User(False, 12, False)\n",
    "print(example_user)"
   ]
  },
  {
   "cell_type": "code",
   "execution_count": null,
   "metadata": {},
   "outputs": [],
   "source": []
  },
  {
   "cell_type": "code",
   "execution_count": 40,
   "metadata": {
    "colab": {
     "base_uri": "https://localhost:8080/",
     "height": 55
    },
    "colab_type": "code",
    "id": "lfPiHNG_sefL",
    "outputId": "903da34a-fa19-4d4a-8cc7-45dd14f022cf"
   },
   "outputs": [
    {
     "name": "stdout",
     "output_type": "stream",
     "text": [
      "[User(purchased=False, time_on_site=150.42273427770718, mobile=False), User(purchased=True, time_on_site=284.06235530493245, mobile=True), User(purchased=True, time_on_site=140.37976895454653, mobile=True), User(purchased=True, time_on_site=49.206452507812216, mobile=True), User(purchased=False, time_on_site=167.81563803588924, mobile=True), User(purchased=False, time_on_site=20.484876517641524, mobile=True), User(purchased=False, time_on_site=167.3540069049869, mobile=True), User(purchased=False, time_on_site=447.75054592529114, mobile=False), User(purchased=True, time_on_site=57.93525538719398, mobile=True), User(purchased=True, time_on_site=292.6494305470663, mobile=True)]\n"
     ]
    }
   ],
   "source": [
    "# And now let's generate 1000 example users\n",
    "# 750 mobile, 250 not (i.e. desktop)\n",
    "# A desktop user has a base conversion likelihood of 10%\n",
    "# And it goes up by 1% for each 15 seconds they spend on the site\n",
    "# And they spend anywhere from 10 seconds to 10 minutes on the site (uniform)\n",
    "# Mobile users spend on average half as much time on the site as desktop\n",
    "# But have three times as much base likelihood of buying something\n",
    "\n",
    "users = []\n",
    "random.seed(42)\n",
    "for _ in range(250):\n",
    "  # Desktop users\n",
    "  time_on_site = random.uniform(10, 600)\n",
    "  purchased = random.random() < 0.1 + (time_on_site / 1500)\n",
    "  users.append(User(purchased, time_on_site, False))\n",
    "  \n",
    "for _ in range(750):\n",
    "  # Mobile users\n",
    "  time_on_site = random.uniform(5, 300)\n",
    "  purchased = random.random() < 0.3 + (time_on_site / 1500)\n",
    "  users.append(User(purchased, time_on_site, True))\n",
    "  \n",
    "random.shuffle(users)\n",
    "print(users[:10])"
   ]
  },
  {
   "cell_type": "code",
   "execution_count": 41,
   "metadata": {
    "colab": {
     "base_uri": "https://localhost:8080/",
     "height": 206
    },
    "colab_type": "code",
    "id": "9gDYb5qGuRzy",
    "outputId": "bc3cb99f-c2d2-4fca-c5a0-0efb421313fb"
   },
   "outputs": [
    {
     "data": {
      "text/html": [
       "<div>\n",
       "<style scoped>\n",
       "    .dataframe tbody tr th:only-of-type {\n",
       "        vertical-align: middle;\n",
       "    }\n",
       "\n",
       "    .dataframe tbody tr th {\n",
       "        vertical-align: top;\n",
       "    }\n",
       "\n",
       "    .dataframe thead th {\n",
       "        text-align: right;\n",
       "    }\n",
       "</style>\n",
       "<table border=\"1\" class=\"dataframe\">\n",
       "  <thead>\n",
       "    <tr style=\"text-align: right;\">\n",
       "      <th></th>\n",
       "      <th>purchased</th>\n",
       "      <th>time_on_site</th>\n",
       "      <th>mobile</th>\n",
       "    </tr>\n",
       "  </thead>\n",
       "  <tbody>\n",
       "    <tr>\n",
       "      <th>0</th>\n",
       "      <td>False</td>\n",
       "      <td>150.422734</td>\n",
       "      <td>False</td>\n",
       "    </tr>\n",
       "    <tr>\n",
       "      <th>1</th>\n",
       "      <td>True</td>\n",
       "      <td>284.062355</td>\n",
       "      <td>True</td>\n",
       "    </tr>\n",
       "    <tr>\n",
       "      <th>2</th>\n",
       "      <td>True</td>\n",
       "      <td>140.379769</td>\n",
       "      <td>True</td>\n",
       "    </tr>\n",
       "    <tr>\n",
       "      <th>3</th>\n",
       "      <td>True</td>\n",
       "      <td>49.206453</td>\n",
       "      <td>True</td>\n",
       "    </tr>\n",
       "    <tr>\n",
       "      <th>4</th>\n",
       "      <td>False</td>\n",
       "      <td>167.815638</td>\n",
       "      <td>True</td>\n",
       "    </tr>\n",
       "  </tbody>\n",
       "</table>\n",
       "</div>"
      ],
      "text/plain": [
       "   purchased  time_on_site  mobile\n",
       "0      False    150.422734   False\n",
       "1       True    284.062355    True\n",
       "2       True    140.379769    True\n",
       "3       True     49.206453    True\n",
       "4      False    167.815638    True"
      ]
     },
     "execution_count": 41,
     "metadata": {},
     "output_type": "execute_result"
    }
   ],
   "source": [
    "# Let's put this in a dataframe so we can look at it more easily\n",
    "import pandas as pd\n",
    "user_data = pd.DataFrame(users)\n",
    "user_data.head()"
   ]
  },
  {
   "cell_type": "code",
   "execution_count": 42,
   "metadata": {
    "colab": {
     "base_uri": "https://localhost:8080/",
     "height": 193
    },
    "colab_type": "code",
    "id": "sr6IJv77ulVl",
    "outputId": "07eace5e-1308-4f04-d3a9-6093a31f24ed"
   },
   "outputs": [
    {
     "data": {
      "text/html": [
       "<div>\n",
       "<style scoped>\n",
       "    .dataframe tbody tr th:only-of-type {\n",
       "        vertical-align: middle;\n",
       "    }\n",
       "\n",
       "    .dataframe tbody tr th {\n",
       "        vertical-align: top;\n",
       "    }\n",
       "\n",
       "    .dataframe thead th {\n",
       "        text-align: right;\n",
       "    }\n",
       "</style>\n",
       "<table border=\"1\" class=\"dataframe\">\n",
       "  <thead>\n",
       "    <tr style=\"text-align: right;\">\n",
       "      <th>time_on_site</th>\n",
       "      <th>5.789338167851291</th>\n",
       "      <th>5.836487686604824</th>\n",
       "      <th>7.267690340465448</th>\n",
       "      <th>7.280322437947023</th>\n",
       "      <th>7.733814701629437</th>\n",
       "      <th>7.772242279186957</th>\n",
       "      <th>7.994578759409748</th>\n",
       "      <th>8.373541587279558</th>\n",
       "      <th>9.106003254765849</th>\n",
       "      <th>9.38379653305911</th>\n",
       "      <th>...</th>\n",
       "      <th>582.5363605031145</th>\n",
       "      <th>582.9362427920347</th>\n",
       "      <th>588.8783154469735</th>\n",
       "      <th>590.65747470592</th>\n",
       "      <th>593.8187768755912</th>\n",
       "      <th>597.1381204299279</th>\n",
       "      <th>597.7116143416571</th>\n",
       "      <th>598.547187832115</th>\n",
       "      <th>599.088120104121</th>\n",
       "      <th>599.5766563635087</th>\n",
       "    </tr>\n",
       "    <tr>\n",
       "      <th>purchased</th>\n",
       "      <th></th>\n",
       "      <th></th>\n",
       "      <th></th>\n",
       "      <th></th>\n",
       "      <th></th>\n",
       "      <th></th>\n",
       "      <th></th>\n",
       "      <th></th>\n",
       "      <th></th>\n",
       "      <th></th>\n",
       "      <th></th>\n",
       "      <th></th>\n",
       "      <th></th>\n",
       "      <th></th>\n",
       "      <th></th>\n",
       "      <th></th>\n",
       "      <th></th>\n",
       "      <th></th>\n",
       "      <th></th>\n",
       "      <th></th>\n",
       "      <th></th>\n",
       "    </tr>\n",
       "  </thead>\n",
       "  <tbody>\n",
       "    <tr>\n",
       "      <th>False</th>\n",
       "      <td>1</td>\n",
       "      <td>1</td>\n",
       "      <td>0</td>\n",
       "      <td>1</td>\n",
       "      <td>1</td>\n",
       "      <td>1</td>\n",
       "      <td>1</td>\n",
       "      <td>1</td>\n",
       "      <td>1</td>\n",
       "      <td>1</td>\n",
       "      <td>...</td>\n",
       "      <td>0</td>\n",
       "      <td>1</td>\n",
       "      <td>1</td>\n",
       "      <td>0</td>\n",
       "      <td>1</td>\n",
       "      <td>1</td>\n",
       "      <td>1</td>\n",
       "      <td>1</td>\n",
       "      <td>1</td>\n",
       "      <td>1</td>\n",
       "    </tr>\n",
       "    <tr>\n",
       "      <th>True</th>\n",
       "      <td>0</td>\n",
       "      <td>0</td>\n",
       "      <td>1</td>\n",
       "      <td>0</td>\n",
       "      <td>0</td>\n",
       "      <td>0</td>\n",
       "      <td>0</td>\n",
       "      <td>0</td>\n",
       "      <td>0</td>\n",
       "      <td>0</td>\n",
       "      <td>...</td>\n",
       "      <td>1</td>\n",
       "      <td>0</td>\n",
       "      <td>0</td>\n",
       "      <td>1</td>\n",
       "      <td>0</td>\n",
       "      <td>0</td>\n",
       "      <td>0</td>\n",
       "      <td>0</td>\n",
       "      <td>0</td>\n",
       "      <td>0</td>\n",
       "    </tr>\n",
       "  </tbody>\n",
       "</table>\n",
       "<p>2 rows × 1000 columns</p>\n",
       "</div>"
      ],
      "text/plain": [
       "time_on_site  5.789338    5.836488    7.267690    7.280322    7.733815    \\\n",
       "purchased                                                                  \n",
       "False                  1           1           0           1           1   \n",
       "True                   0           0           1           0           0   \n",
       "\n",
       "time_on_site  7.772242    7.994579    8.373542    9.106003    9.383797    ...  \\\n",
       "purchased                                                                 ...   \n",
       "False                  1           1           1           1           1  ...   \n",
       "True                   0           0           0           0           0  ...   \n",
       "\n",
       "time_on_site  582.536361  582.936243  588.878315  590.657475  593.818777  \\\n",
       "purchased                                                                  \n",
       "False                  0           1           1           0           1   \n",
       "True                   1           0           0           1           0   \n",
       "\n",
       "time_on_site  597.138120  597.711614  598.547188  599.088120  599.576656  \n",
       "purchased                                                                 \n",
       "False                  1           1           1           1           1  \n",
       "True                   0           0           0           0           0  \n",
       "\n",
       "[2 rows x 1000 columns]"
      ]
     },
     "execution_count": 42,
     "metadata": {},
     "output_type": "execute_result"
    }
   ],
   "source": [
    "# Let's use crosstabulation to try to see what's going on\n",
    "pd.crosstab(user_data['purchased'], user_data['time_on_site'])"
   ]
  },
  {
   "cell_type": "code",
   "execution_count": 66,
   "metadata": {
    "colab": {
     "base_uri": "https://localhost:8080/",
     "height": 161
    },
    "colab_type": "code",
    "id": "hvAv6J3EwA9s",
    "outputId": "7b45d8c5-2fda-4df6-fecc-a14129ed76fb",
    "scrolled": true
   },
   "outputs": [
    {
     "data": {
      "text/html": [
       "<div>\n",
       "<style scoped>\n",
       "    .dataframe tbody tr th:only-of-type {\n",
       "        vertical-align: middle;\n",
       "    }\n",
       "\n",
       "    .dataframe tbody tr th {\n",
       "        vertical-align: top;\n",
       "    }\n",
       "\n",
       "    .dataframe thead th {\n",
       "        text-align: right;\n",
       "    }\n",
       "</style>\n",
       "<table border=\"1\" class=\"dataframe\">\n",
       "  <thead>\n",
       "    <tr style=\"text-align: right;\">\n",
       "      <th>time_on_site</th>\n",
       "      <th>0</th>\n",
       "      <th>1</th>\n",
       "      <th>2</th>\n",
       "      <th>3</th>\n",
       "      <th>4</th>\n",
       "    </tr>\n",
       "    <tr>\n",
       "      <th>purchased</th>\n",
       "      <th></th>\n",
       "      <th></th>\n",
       "      <th></th>\n",
       "      <th></th>\n",
       "      <th></th>\n",
       "    </tr>\n",
       "  </thead>\n",
       "  <tbody>\n",
       "    <tr>\n",
       "      <th>False</th>\n",
       "      <td>227</td>\n",
       "      <td>238</td>\n",
       "      <td>111</td>\n",
       "      <td>23</td>\n",
       "      <td>37</td>\n",
       "    </tr>\n",
       "    <tr>\n",
       "      <th>True</th>\n",
       "      <td>106</td>\n",
       "      <td>133</td>\n",
       "      <td>84</td>\n",
       "      <td>20</td>\n",
       "      <td>21</td>\n",
       "    </tr>\n",
       "  </tbody>\n",
       "</table>\n",
       "</div>"
      ],
      "text/plain": [
       "time_on_site    0    1    2   3   4\n",
       "purchased                          \n",
       "False         227  238  111  23  37\n",
       "True          106  133   84  20  21"
      ]
     },
     "execution_count": 66,
     "metadata": {},
     "output_type": "execute_result"
    }
   ],
   "source": [
    "# OK, that's not quite what we want\n",
    "# Time is continuous! We need to put it in discrete buckets\n",
    "# Pandas calls these bins, and pandas.cut helps make them\n",
    "\n",
    "time_bins = pd.cut(user_data['time_on_site'], 5, labels=False)  # 5 equal-sized bins\n",
    "#print(time_bins)\n",
    "#time_bins = [(5.196, 124.547] < (124.547, 243.304] < (243.304, 362.062] < (362.062, 480.819] < (480.819, 599.577]]\n",
    "pd.crosstab(user_data['purchased'], time_bins)"
   ]
  },
  {
   "cell_type": "code",
   "execution_count": null,
   "metadata": {},
   "outputs": [],
   "source": []
  },
  {
   "cell_type": "code",
   "execution_count": 67,
   "metadata": {
    "colab": {
     "base_uri": "https://localhost:8080/",
     "height": 161
    },
    "colab_type": "code",
    "id": "pjcXnJw0wfaj",
    "outputId": "e8f6d2d9-7f66-46b4-d213-04145889e0df"
   },
   "outputs": [
    {
     "data": {
      "text/html": [
       "<div>\n",
       "<style scoped>\n",
       "    .dataframe tbody tr th:only-of-type {\n",
       "        vertical-align: middle;\n",
       "    }\n",
       "\n",
       "    .dataframe tbody tr th {\n",
       "        vertical-align: top;\n",
       "    }\n",
       "\n",
       "    .dataframe thead th {\n",
       "        text-align: right;\n",
       "    }\n",
       "</style>\n",
       "<table border=\"1\" class=\"dataframe\">\n",
       "  <thead>\n",
       "    <tr style=\"text-align: right;\">\n",
       "      <th>time_on_site</th>\n",
       "      <th>0</th>\n",
       "      <th>1</th>\n",
       "      <th>2</th>\n",
       "      <th>3</th>\n",
       "      <th>4</th>\n",
       "    </tr>\n",
       "    <tr>\n",
       "      <th>purchased</th>\n",
       "      <th></th>\n",
       "      <th></th>\n",
       "      <th></th>\n",
       "      <th></th>\n",
       "      <th></th>\n",
       "    </tr>\n",
       "  </thead>\n",
       "  <tbody>\n",
       "    <tr>\n",
       "      <th>False</th>\n",
       "      <td>0.681682</td>\n",
       "      <td>0.641509</td>\n",
       "      <td>0.569231</td>\n",
       "      <td>0.534884</td>\n",
       "      <td>0.637931</td>\n",
       "    </tr>\n",
       "    <tr>\n",
       "      <th>True</th>\n",
       "      <td>0.318318</td>\n",
       "      <td>0.358491</td>\n",
       "      <td>0.430769</td>\n",
       "      <td>0.465116</td>\n",
       "      <td>0.362069</td>\n",
       "    </tr>\n",
       "  </tbody>\n",
       "</table>\n",
       "</div>"
      ],
      "text/plain": [
       "time_on_site         0         1         2         3         4\n",
       "purchased                                                     \n",
       "False         0.681682  0.641509  0.569231  0.534884  0.637931\n",
       "True          0.318318  0.358491  0.430769  0.465116  0.362069"
      ]
     },
     "execution_count": 67,
     "metadata": {},
     "output_type": "execute_result"
    }
   ],
   "source": [
    "# We can make this a bit clearer by normalizing (getting %)\n",
    "pd.crosstab(user_data['purchased'], time_bins, normalize='columns')"
   ]
  },
  {
   "cell_type": "code",
   "execution_count": 68,
   "metadata": {
    "colab": {
     "base_uri": "https://localhost:8080/",
     "height": 143
    },
    "colab_type": "code",
    "id": "C3GzvDxlvZMa",
    "outputId": "d07bf197-350b-4bf2-a5d8-8897b8fc8446"
   },
   "outputs": [
    {
     "data": {
      "text/html": [
       "<div>\n",
       "<style scoped>\n",
       "    .dataframe tbody tr th:only-of-type {\n",
       "        vertical-align: middle;\n",
       "    }\n",
       "\n",
       "    .dataframe tbody tr th {\n",
       "        vertical-align: top;\n",
       "    }\n",
       "\n",
       "    .dataframe thead th {\n",
       "        text-align: right;\n",
       "    }\n",
       "</style>\n",
       "<table border=\"1\" class=\"dataframe\">\n",
       "  <thead>\n",
       "    <tr style=\"text-align: right;\">\n",
       "      <th>mobile</th>\n",
       "      <th>False</th>\n",
       "      <th>True</th>\n",
       "    </tr>\n",
       "    <tr>\n",
       "      <th>purchased</th>\n",
       "      <th></th>\n",
       "      <th></th>\n",
       "    </tr>\n",
       "  </thead>\n",
       "  <tbody>\n",
       "    <tr>\n",
       "      <th>False</th>\n",
       "      <td>0.704</td>\n",
       "      <td>0.613333</td>\n",
       "    </tr>\n",
       "    <tr>\n",
       "      <th>True</th>\n",
       "      <td>0.296</td>\n",
       "      <td>0.386667</td>\n",
       "    </tr>\n",
       "  </tbody>\n",
       "</table>\n",
       "</div>"
      ],
      "text/plain": [
       "mobile     False     True \n",
       "purchased                 \n",
       "False      0.704  0.613333\n",
       "True       0.296  0.386667"
      ]
     },
     "execution_count": 68,
     "metadata": {},
     "output_type": "execute_result"
    }
   ],
   "source": [
    "# That seems counter to our hypothesis\n",
    "# More time on the site can actually have fewer purchases\n",
    "\n",
    "# But we know why, since we generated the data!\n",
    "# Let's look at mobile and purchased\n",
    "pd.crosstab(user_data['purchased'], user_data['mobile'], normalize='columns')"
   ]
  },
  {
   "cell_type": "code",
   "execution_count": 79,
   "metadata": {
    "colab": {},
    "colab_type": "code",
    "id": "KQb-wU60xCum"
   },
   "outputs": [
    {
     "data": {
      "text/plain": [
       "<matplotlib.axes._subplots.AxesSubplot at 0x7f99811a7668>"
      ]
     },
     "execution_count": 79,
     "metadata": {},
     "output_type": "execute_result"
    },
    {
     "data": {
      "image/png": "[encoded data removed]",
      "text/plain": [
       "<Figure size 432x288 with 1 Axes>"
      ]
     },
     "metadata": {
      "needs_background": "light"
     },
     "output_type": "display_data"
    }
   ],
   "source": [
    "# Yep, mobile users are more likely to buy things\n",
    "# But we're still not seeing the *whole* story until we look at all 3 at once\n",
    "\n",
    "# Live/stretch goal - how can we do that?\n",
    "\n",
    "#pd.crosstab(user_data['mobile'], user_data['purchased'], time_bins, aggfunc=','.join) #, rownames=['device'], colnames=['purchased', 'time on site'] normalize='index')\n",
    "\n",
    "pd.pivot_table(user_data,values='purchased', index=time_bins).plot.bar()"
   ]
  },
  {
   "cell_type": "code",
   "execution_count": 80,
   "metadata": {},
   "outputs": [
    {
     "data": {
      "text/plain": [
       "<matplotlib.axes._subplots.AxesSubplot at 0x7f9986f550b8>"
      ]
     },
     "execution_count": 80,
     "metadata": {},
     "output_type": "execute_result"
    },
    {
     "data": {
      "image/png": "[encoded data removed]",
      "text/plain": [
       "<Figure size 432x288 with 1 Axes>"
      ]
     },
     "metadata": {
      "needs_background": "light"
     },
     "output_type": "display_data"
    }
   ],
   "source": [
    "pd.pivot_table(user_data,values='time_on_site', index=time_bins).plot.bar()"
   ]
  },
  {
   "cell_type": "code",
   "execution_count": 78,
   "metadata": {},
   "outputs": [
    {
     "data": {
      "text/plain": [
       "<matplotlib.axes._subplots.AxesSubplot at 0x7f9987677e48>"
      ]
     },
     "execution_count": 78,
     "metadata": {},
     "output_type": "execute_result"
    },
    {
     "data": {
      "image/png": "[encoded data removed]",
      "text/plain": [
       "<Figure size 432x288 with 1 Axes>"
      ]
     },
     "metadata": {
      "needs_background": "light"
     },
     "output_type": "display_data"
    }
   ],
   "source": [
    "user_data['time_on_site'].plot.density()\n",
    "#pd.pivot_table(user_data,values='purchased', index=bin).plot.bar()"
   ]
  },
  {
   "cell_type": "code",
   "execution_count": 82,
   "metadata": {},
   "outputs": [
    {
     "name": "stdout",
     "output_type": "stream",
     "text": [
      "purchased        False               True           \n",
      "mobile           False     True      False     True \n",
      "time_on_site                                        \n",
      "0             0.210227  0.413043  0.054054  0.351724\n",
      "1             0.244318  0.423913  0.148649  0.420690\n",
      "2             0.204545  0.163043  0.243243  0.227586\n",
      "3             0.130682  0.000000  0.270270  0.000000\n",
      "4             0.210227  0.000000  0.283784  0.000000\n"
     ]
    }
   ],
   "source": [
    "ct= pd.crosstab(time_bins, [user_data['purchased'], user_data['mobile']], normalize='columns')\n",
    "print(ct)"
   ]
  },
  {
   "cell_type": "code",
   "execution_count": 83,
   "metadata": {},
   "outputs": [
    {
     "data": {
      "text/plain": [
       "<matplotlib.axes._subplots.AxesSubplot at 0x7f99810c4d68>"
      ]
     },
     "execution_count": 83,
     "metadata": {},
     "output_type": "execute_result"
    },
    {
     "data": {
      "image/png": "[encoded data removed]",
      "text/plain": [
       "<Figure size 432x288 with 1 Axes>"
      ]
     },
     "metadata": {
      "needs_background": "light"
     },
     "output_type": "display_data"
    }
   ],
   "source": [
    "ct.plot()"
   ]
  },
  {
   "cell_type": "markdown",
   "metadata": {
    "colab_type": "text",
    "id": "lOqaPds9huME"
   },
   "source": [
    "## Assignment - what's going on here?\n",
    "\n",
    "Consider the data in `persons.csv` (already prepared for you, in the repo for the week). It has four columns - a unique id, followed by age (in years), weight (in lbs), and exercise time (in minutes/week) of 1200 (hypothetical) people.\n",
    "\n",
    "Try to figure out which variables are possibly related to each other, and which may be confounding relationships."
   ]
  },
  {
   "cell_type": "code",
   "execution_count": 84,
   "metadata": {
    "colab": {},
    "colab_type": "code",
    "id": "TGUS79cOhPWj"
   },
   "outputs": [
    {
     "name": "stdout",
     "output_type": "stream",
     "text": [
      "LS_DS_114_Making_Data_backed_Assertions.ipynb  persons.csv  Untitled.ipynb\r\n"
     ]
    }
   ],
   "source": [
    "# TODO - your code here\n",
    "# Use what we did live in lecture as an example\n",
    "\n",
    "# HINT - you can find the raw URL on GitHub and potentially use that\n",
    "# to load the data with read_csv, or you can upload it yourself\n",
    "!ls"
   ]
  },
  {
   "cell_type": "code",
   "execution_count": 115,
   "metadata": {
    "scrolled": true
   },
   "outputs": [
    {
     "name": "stdout",
     "output_type": "stream",
     "text": [
      "        Unnamed: 0          age       weight  exercise_time\n",
      "count  1200.000000  1200.000000  1200.000000    1200.000000\n",
      "mean    599.500000    48.396667   153.540833     134.910833\n",
      "std     346.554469    18.166802    35.132182      85.548895\n",
      "min       0.000000    18.000000   100.000000       0.000000\n",
      "25%     299.750000    33.000000   125.000000      65.000000\n",
      "50%     599.500000    48.000000   149.000000     122.000000\n",
      "75%     899.250000    64.000000   180.250000     206.000000\n",
      "max    1199.000000    80.000000   246.000000     300.000000\n"
     ]
    }
   ],
   "source": [
    "people = pd.read_csv('persons.csv')\n",
    "print(people.describe())"
   ]
  },
  {
   "cell_type": "markdown",
   "metadata": {
    "colab_type": "text",
    "id": "BT9gdS7viJZa"
   },
   "source": [
    "### Assignment questions\n",
    "\n",
    "After you've worked on some code, answer the following questions in this text block:\n",
    "\n",
    "1.  What are the variable types in the data?\n",
    "2.  What are the relationships between the variables?\n",
    "3.  Which relationships are \"real\", and which spurious?\n"
   ]
  },
  {
   "cell_type": "markdown",
   "metadata": {},
   "source": [
    "1) The variables in this data, are age, weight, and exercise_time.\n",
    "(Stating my assumptions upfront, exercise_time is the amount of time each day they spend exercising)\n",
    "2) The relationships between the variables are, the person's age, their weight, and the amount of time they spend exercising(see note in question 1).\n",
    "3) This data only presents spurious data, There are too many ourside variables to consider.\n",
    "(The data even backs this up to a point, the weights plotted in a bar graph accross the board are all close to the same, they do not vary enough to prove anything. The exercise_time plotted in a bar chart according to age shows a tendancy for older people to exercise less, but there are too many outside factors that could come into play that would effect this data.)\n"
   ]
  },
  {
   "cell_type": "code",
   "execution_count": 120,
   "metadata": {},
   "outputs": [
    {
     "name": "stdout",
     "output_type": "stream",
     "text": [
      "   Unnamed: 0  age  weight  exercise_time\n",
      "0           0   44     118            192\n",
      "1           1   41     161             35\n",
      "2           2   46     128            220\n",
      "3           3   39     216             57\n",
      "4           4   28     116            182\n"
     ]
    }
   ],
   "source": [
    "print(people.head())"
   ]
  },
  {
   "cell_type": "code",
   "execution_count": 102,
   "metadata": {},
   "outputs": [
    {
     "data": {
      "text/plain": [
       "[<matplotlib.lines.Line2D at 0x7f997f9fb978>]"
      ]
     },
     "execution_count": 102,
     "metadata": {},
     "output_type": "execute_result"
    },
    {
     "data": {
      "image/png": "[encoded data removed]",
      "text/plain": [
       "<Figure size 432x288 with 1 Axes>"
      ]
     },
     "metadata": {
      "needs_background": "light"
     },
     "output_type": "display_data"
    }
   ],
   "source": [
    "# plt.plot(people['age'], people['weight'])\n",
    "\n",
    "age_sorted = people.sort_values('age', ascending=True)\n",
    "\n",
    "#plt.plot(range(0,1200), age_sorted['weight'])\n",
    "\n",
    "#plt.plot(range(0,1200), age_sorted['age'])\n",
    "\n",
    "#print(age_sorted['age'])"
   ]
  },
  {
   "cell_type": "code",
   "execution_count": 128,
   "metadata": {},
   "outputs": [
    {
     "data": {
      "text/plain": [
       "<matplotlib.axes._subplots.AxesSubplot at 0x7f997e48ef28>"
      ]
     },
     "execution_count": 128,
     "metadata": {},
     "output_type": "execute_result"
    },
    {
     "data": {
      "image/png": "[encoded data removed]",
      "text/plain": [
       "<Figure size 432x288 with 1 Axes>"
      ]
     },
     "metadata": {
      "needs_background": "light"
     },
     "output_type": "display_data"
    }
   ],
   "source": [
    "time_bins = pd.cut(age_sorted['age'], 20, labels=False)  # 5 equal-sized bins\n",
    "#print(time_bins)\n",
    "#time_bins = [(5.196, 124.547] < (124.547, 243.304] < (243.304, 362.062] < (362.062, 480.819] < (480.819, 599.577]]\n",
    "#pd.crosstab(people['weight'], time_bins)\n",
    "\n",
    "pd.pivot_table(age_sorted,values='exercise_time', index=time_bins).plot.bar()\n",
    "\n",
    "#plt.bar(age_sorted['age'], age_sorted['exercise_time'], index=time_bins)"
   ]
  },
  {
   "cell_type": "markdown",
   "metadata": {},
   "source": [
    "This proves nothing, as it is a corrolation, too many outside variables could have the same effect. \n",
    "\n",
    "The first thing that I see is this graph, I have the Data Frame sorted by age, and plotting the exercise time accross the ages, I can see that on the average, Older people spend less time exercising.\n",
    "\n",
    "I have cut the bins down to 20, and you can plainly see this trend, taking the number of bins down much more than 20 tend to obscure the trend, and adding more bins make things a little redundant.\n",
    "\n",
    "This is only a corrolation, and it tells us nothing, there could be any number of outside factors that affect this data.\n"
   ]
  },
  {
   "cell_type": "code",
   "execution_count": 116,
   "metadata": {},
   "outputs": [],
   "source": [
    "weight_sorted = people.sort_values('weight', ascending=True)\n",
    "exercise_sorted = people.sort_values('exercise_time', ascending=True)\n"
   ]
  },
  {
   "cell_type": "code",
   "execution_count": 135,
   "metadata": {},
   "outputs": [
    {
     "data": {
      "text/plain": [
       "<matplotlib.axes._subplots.AxesSubplot at 0x7f997e08ddd8>"
      ]
     },
     "execution_count": 135,
     "metadata": {},
     "output_type": "execute_result"
    },
    {
     "data": {
      "image/png": "[encoded data removed]",
      "text/plain": [
       "<Figure size 432x288 with 1 Axes>"
      ]
     },
     "metadata": {
      "needs_background": "light"
     },
     "output_type": "display_data"
    }
   ],
   "source": [
    "pd.pivot_table(exercise_sorted,values='age', index=time_bins).plot.bar()"
   ]
  },
  {
   "cell_type": "markdown",
   "metadata": {
    "colab_type": "text",
    "id": "_XXg2crAipwP"
   },
   "source": [
    "## Stretch goals and resources\n",
    "\n",
    "Following are *optional* things for you to take a look at. Focus on the above assignment first, and make sure to commit and push your changes to GitHub.\n",
    "\n",
    "- [Spurious Correlations](http://tylervigen.com/spurious-correlations)\n",
    "- [NIH on controlling for confounding variables](https://www.ncbi.nlm.nih.gov/pmc/articles/PMC4017459/)\n",
    "\n",
    "Stretch goals:\n",
    "\n",
    "- Produce your own plot inspired by the Spurious Correlation visualizations (and consider writing a blog post about it - both the content and how you made it)\n",
    "- Pick one of the techniques that NIH highlights for confounding variables - we'll be going into many of them later, but see if you can find which Python modules may help (hint - check scikit-learn)"
   ]
  }
 ],
 "metadata": {
  "colab": {
   "collapsed_sections": [],
   "name": "LS_DS_114_Making_Data_backed_Assertions.ipynb",
   "provenance": [],
   "version": "0.3.2"
  },
  "kernelspec": {
   "display_name": "Python 3",
   "language": "python",
   "name": "python3"
  },
  "language_info": {
   "codemirror_mode": {
    "name": "ipython",
    "version": 3
   },
   "file_extension": ".py",
   "mimetype": "text/x-python",
   "name": "python",
   "nbconvert_exporter": "python",
   "pygments_lexer": "ipython3",
   "version": "3.7.2"
  }
 },
 "nbformat": 4,
 "nbformat_minor": 1
}
