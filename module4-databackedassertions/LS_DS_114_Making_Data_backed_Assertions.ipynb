{
  "nbformat": 4,
  "nbformat_minor": 0,
  "metadata": {
    "colab": {
      "name": "LS_DS_114_Making_Data_backed_Assertions.ipynb",
      "version": "0.3.2",
      "provenance": [],
      "collapsed_sections": [],
      "include_colab_link": true
    },
    "kernelspec": {
      "name": "python3",
      "display_name": "Python 3"
    }
  },
  "cells": [
    {
      "cell_type": "markdown",
      "metadata": {
        "id": "view-in-github",
        "colab_type": "text"
      },
      "source": [
        "<a href=\"https://colab.research.google.com/github/bundickm/DS-Unit-1-Sprint-1-Dealing-With-Data/blob/master/module4-databackedassertions/LS_DS_114_Making_Data_backed_Assertions.ipynb\" target=\"_parent\"><img src=\"https://colab.research.google.com/assets/colab-badge.svg\" alt=\"Open In Colab\"/></a>"
      ]
    },
    {
      "metadata": {
        "id": "Okfr_uhwhS1X",
        "colab_type": "text"
      },
      "cell_type": "markdown",
      "source": [
        "# Lambda School Data Science - Making Data-backed Assertions\n",
        "\n",
        "This is, for many, the main point of data science - to create and support reasoned arguments based on evidence. It's not a topic to master in a day, but it is worth some focused time thinking about and structuring your approach to it."
      ]
    },
    {
      "metadata": {
        "id": "9dtJETFRhnOG",
        "colab_type": "text"
      },
      "cell_type": "markdown",
      "source": [
        "## Lecture - generating a confounding variable\n",
        "\n",
        "The prewatch material told a story about a hypothetical health condition where both the drug usage and overall health outcome were related to gender - thus making gender a confounding variable, obfuscating the possible relationship between the drug and the outcome.\n",
        "\n",
        "Let's use Python to generate data that actually behaves in this fashion!"
      ]
    },
    {
      "metadata": {
        "id": "ONM6hDhFEMqy",
        "colab_type": "code",
        "colab": {}
      },
      "cell_type": "code",
      "source": [
        "#y = \"health level\" - predicted variable, dependent variable\n",
        "#x = \"took the drug\" - explanatory variable, independent variable\n",
        "\n",
        "#some confounding variables: age, weight, height, gender, medical history, genetics, socioeconomic conditions, dosage, severity of illness, etc.\n",
        "#omitted variables == confounding variables"
      ],
      "execution_count": 0,
      "outputs": []
    },
    {
      "metadata": {
        "id": "WiBkgmPJhmhE",
        "colab_type": "code",
        "colab": {}
      },
      "cell_type": "code",
      "source": [
        "import random\n",
        "random.seed(42)\n",
        "#dir(random)  # Reminding ourselves what we can do here"
      ],
      "execution_count": 0,
      "outputs": []
    },
    {
      "metadata": {
        "id": "Ks5qFtpnq-q5",
        "colab_type": "code",
        "outputId": "e9bc69fc-2eca-41d6-9218-68923814e311",
        "colab": {
          "base_uri": "https://localhost:8080/",
          "height": 35
        }
      },
      "cell_type": "code",
      "source": [
        "# Let's think of another scenario:\n",
        "# We work for a company that sells accessories for mobile phones.\n",
        "# They have an ecommerce site, and we are supposed to analyze logs\n",
        "# to determine what sort of usage is related to purchases, and thus guide\n",
        "# website development to encourage higher conversion.\n",
        "\n",
        "# The hypothesis - users who spend longer on the site tend\n",
        "# to spend more. Seems reasonable, no?\n",
        "\n",
        "# But there's a confounding variable! If they're on a phone, they:\n",
        "# a) Spend less time on the site, but\n",
        "# b) Are more likely to be interested in the actual products!\n",
        "\n",
        "# Let's use namedtuple to represent our data\n",
        "\n",
        "from collections import namedtuple\n",
        "# purchased and mobile are bools, time_on_site in seconds\n",
        "User = namedtuple('User', ['purchased','time_on_site', 'mobile'])\n",
        "\n",
        "example_user = User(False, 12, False)\n",
        "print(example_user)"
      ],
      "execution_count": 40,
      "outputs": [
        {
          "output_type": "stream",
          "text": [
            "User(purchased=False, time_on_site=12, mobile=False)\n"
          ],
          "name": "stdout"
        }
      ]
    },
    {
      "metadata": {
        "id": "lfPiHNG_sefL",
        "colab_type": "code",
        "outputId": "e3e9326a-9c65-4f11-a919-3daf7a52dfe6",
        "colab": {
          "base_uri": "https://localhost:8080/",
          "height": 55
        }
      },
      "cell_type": "code",
      "source": [
        "# And now let's generate 1000 example users\n",
        "# 750 mobile, 250 not (i.e. desktop)\n",
        "# A desktop user has a base conversion likelihood of 10%\n",
        "# And it goes up by 1% for each 15 seconds they spend on the site\n",
        "# And they spend anywhere from 10 seconds to 10 minutes on the site (uniform)\n",
        "# Mobile users spend on average half as much time on the site as desktop\n",
        "# But have three times as much base likelihood of buying something\n",
        "\n",
        "users = []\n",
        "\n",
        "#create desktop users\n",
        "for _ in range(250):\n",
        "  time_on_site = random.uniform(10, 600)\n",
        "  purchased = random.random() < 0.1 + (time_on_site / 1500)\n",
        "  users.append(User(purchased, time_on_site, False))\n",
        "  \n",
        "#create mobile users\n",
        "for _ in range(750):\n",
        "  time_on_site = random.uniform(5, 300)\n",
        "  purchased = random.random() < 0.3 + (time_on_site / 1500)\n",
        "  users.append(User(purchased, time_on_site, True))\n",
        "  \n",
        "random.shuffle(users)\n",
        "print(users[:10])"
      ],
      "execution_count": 41,
      "outputs": [
        {
          "output_type": "stream",
          "text": [
            "[User(purchased=False, time_on_site=150.42273427770718, mobile=False), User(purchased=True, time_on_site=284.06235530493245, mobile=True), User(purchased=True, time_on_site=140.37976895454653, mobile=True), User(purchased=True, time_on_site=49.206452507812216, mobile=True), User(purchased=False, time_on_site=167.81563803588924, mobile=True), User(purchased=False, time_on_site=20.484876517641524, mobile=True), User(purchased=False, time_on_site=167.3540069049869, mobile=True), User(purchased=False, time_on_site=447.75054592529114, mobile=False), User(purchased=True, time_on_site=57.93525538719398, mobile=True), User(purchased=True, time_on_site=292.6494305470663, mobile=True)]\n"
          ],
          "name": "stdout"
        }
      ]
    },
    {
      "metadata": {
        "id": "9gDYb5qGuRzy",
        "colab_type": "code",
        "outputId": "a5b2f454-cc5f-4ef5-d1c7-06199d59256a",
        "colab": {
          "base_uri": "https://localhost:8080/",
          "height": 206
        }
      },
      "cell_type": "code",
      "source": [
        "# Let's put this in a dataframe so we can look at it more easily\n",
        "import pandas as pd\n",
        "user_data = pd.DataFrame(users)\n",
        "user_data.head()"
      ],
      "execution_count": 42,
      "outputs": [
        {
          "output_type": "execute_result",
          "data": {
            "text/html": [
              "<div>\n",
              "<style scoped>\n",
              "    .dataframe tbody tr th:only-of-type {\n",
              "        vertical-align: middle;\n",
              "    }\n",
              "\n",
              "    .dataframe tbody tr th {\n",
              "        vertical-align: top;\n",
              "    }\n",
              "\n",
              "    .dataframe thead th {\n",
              "        text-align: right;\n",
              "    }\n",
              "</style>\n",
              "<table border=\"1\" class=\"dataframe\">\n",
              "  <thead>\n",
              "    <tr style=\"text-align: right;\">\n",
              "      <th></th>\n",
              "      <th>purchased</th>\n",
              "      <th>time_on_site</th>\n",
              "      <th>mobile</th>\n",
              "    </tr>\n",
              "  </thead>\n",
              "  <tbody>\n",
              "    <tr>\n",
              "      <th>0</th>\n",
              "      <td>False</td>\n",
              "      <td>150.422734</td>\n",
              "      <td>False</td>\n",
              "    </tr>\n",
              "    <tr>\n",
              "      <th>1</th>\n",
              "      <td>True</td>\n",
              "      <td>284.062355</td>\n",
              "      <td>True</td>\n",
              "    </tr>\n",
              "    <tr>\n",
              "      <th>2</th>\n",
              "      <td>True</td>\n",
              "      <td>140.379769</td>\n",
              "      <td>True</td>\n",
              "    </tr>\n",
              "    <tr>\n",
              "      <th>3</th>\n",
              "      <td>True</td>\n",
              "      <td>49.206453</td>\n",
              "      <td>True</td>\n",
              "    </tr>\n",
              "    <tr>\n",
              "      <th>4</th>\n",
              "      <td>False</td>\n",
              "      <td>167.815638</td>\n",
              "      <td>True</td>\n",
              "    </tr>\n",
              "  </tbody>\n",
              "</table>\n",
              "</div>"
            ],
            "text/plain": [
              "   purchased  time_on_site  mobile\n",
              "0      False    150.422734   False\n",
              "1       True    284.062355    True\n",
              "2       True    140.379769    True\n",
              "3       True     49.206453    True\n",
              "4      False    167.815638    True"
            ]
          },
          "metadata": {
            "tags": []
          },
          "execution_count": 42
        }
      ]
    },
    {
      "metadata": {
        "id": "sr6IJv77ulVl",
        "colab_type": "code",
        "outputId": "2aa4a1e7-ba4d-4b9f-8ed7-2e8e8b5fa999",
        "colab": {
          "base_uri": "https://localhost:8080/",
          "height": 193
        }
      },
      "cell_type": "code",
      "source": [
        "# Let's use crosstabulation to try to see what's going on\n",
        "pd.crosstab(user_data['purchased'], user_data['time_on_site'])"
      ],
      "execution_count": 45,
      "outputs": [
        {
          "output_type": "execute_result",
          "data": {
            "text/html": [
              "<div>\n",
              "<style scoped>\n",
              "    .dataframe tbody tr th:only-of-type {\n",
              "        vertical-align: middle;\n",
              "    }\n",
              "\n",
              "    .dataframe tbody tr th {\n",
              "        vertical-align: top;\n",
              "    }\n",
              "\n",
              "    .dataframe thead th {\n",
              "        text-align: right;\n",
              "    }\n",
              "</style>\n",
              "<table border=\"1\" class=\"dataframe\">\n",
              "  <thead>\n",
              "    <tr style=\"text-align: right;\">\n",
              "      <th>time_on_site</th>\n",
              "      <th>5.789338167851291</th>\n",
              "      <th>5.836487686604824</th>\n",
              "      <th>7.267690340465448</th>\n",
              "      <th>7.280322437947023</th>\n",
              "      <th>7.733814701629437</th>\n",
              "      <th>7.772242279186957</th>\n",
              "      <th>7.994578759409748</th>\n",
              "      <th>8.373541587279558</th>\n",
              "      <th>9.106003254765849</th>\n",
              "      <th>9.38379653305911</th>\n",
              "      <th>...</th>\n",
              "      <th>582.5363605031145</th>\n",
              "      <th>582.9362427920347</th>\n",
              "      <th>588.8783154469735</th>\n",
              "      <th>590.65747470592</th>\n",
              "      <th>593.8187768755912</th>\n",
              "      <th>597.1381204299279</th>\n",
              "      <th>597.7116143416571</th>\n",
              "      <th>598.547187832115</th>\n",
              "      <th>599.088120104121</th>\n",
              "      <th>599.5766563635087</th>\n",
              "    </tr>\n",
              "    <tr>\n",
              "      <th>purchased</th>\n",
              "      <th></th>\n",
              "      <th></th>\n",
              "      <th></th>\n",
              "      <th></th>\n",
              "      <th></th>\n",
              "      <th></th>\n",
              "      <th></th>\n",
              "      <th></th>\n",
              "      <th></th>\n",
              "      <th></th>\n",
              "      <th></th>\n",
              "      <th></th>\n",
              "      <th></th>\n",
              "      <th></th>\n",
              "      <th></th>\n",
              "      <th></th>\n",
              "      <th></th>\n",
              "      <th></th>\n",
              "      <th></th>\n",
              "      <th></th>\n",
              "      <th></th>\n",
              "    </tr>\n",
              "  </thead>\n",
              "  <tbody>\n",
              "    <tr>\n",
              "      <th>False</th>\n",
              "      <td>1</td>\n",
              "      <td>1</td>\n",
              "      <td>0</td>\n",
              "      <td>1</td>\n",
              "      <td>1</td>\n",
              "      <td>1</td>\n",
              "      <td>1</td>\n",
              "      <td>1</td>\n",
              "      <td>1</td>\n",
              "      <td>1</td>\n",
              "      <td>...</td>\n",
              "      <td>0</td>\n",
              "      <td>1</td>\n",
              "      <td>1</td>\n",
              "      <td>0</td>\n",
              "      <td>1</td>\n",
              "      <td>1</td>\n",
              "      <td>1</td>\n",
              "      <td>1</td>\n",
              "      <td>1</td>\n",
              "      <td>1</td>\n",
              "    </tr>\n",
              "    <tr>\n",
              "      <th>True</th>\n",
              "      <td>0</td>\n",
              "      <td>0</td>\n",
              "      <td>1</td>\n",
              "      <td>0</td>\n",
              "      <td>0</td>\n",
              "      <td>0</td>\n",
              "      <td>0</td>\n",
              "      <td>0</td>\n",
              "      <td>0</td>\n",
              "      <td>0</td>\n",
              "      <td>...</td>\n",
              "      <td>1</td>\n",
              "      <td>0</td>\n",
              "      <td>0</td>\n",
              "      <td>1</td>\n",
              "      <td>0</td>\n",
              "      <td>0</td>\n",
              "      <td>0</td>\n",
              "      <td>0</td>\n",
              "      <td>0</td>\n",
              "      <td>0</td>\n",
              "    </tr>\n",
              "  </tbody>\n",
              "</table>\n",
              "<p>2 rows × 1000 columns</p>\n",
              "</div>"
            ],
            "text/plain": [
              "time_on_site  5.789338    5.836488    7.267690    7.280322    7.733815    \\\n",
              "purchased                                                                  \n",
              "False                  1           1           0           1           1   \n",
              "True                   0           0           1           0           0   \n",
              "\n",
              "time_on_site  7.772242    7.994579    8.373542    9.106003    9.383797    \\\n",
              "purchased                                                                  \n",
              "False                  1           1           1           1           1   \n",
              "True                   0           0           0           0           0   \n",
              "\n",
              "time_on_site     ...      582.536361  582.936243  588.878315  590.657475  \\\n",
              "purchased        ...                                                       \n",
              "False            ...               0           1           1           0   \n",
              "True             ...               1           0           0           1   \n",
              "\n",
              "time_on_site  593.818777  597.138120  597.711614  598.547188  599.088120  \\\n",
              "purchased                                                                  \n",
              "False                  1           1           1           1           1   \n",
              "True                   0           0           0           0           0   \n",
              "\n",
              "time_on_site  599.576656  \n",
              "purchased                 \n",
              "False                  1  \n",
              "True                   0  \n",
              "\n",
              "[2 rows x 1000 columns]"
            ]
          },
          "metadata": {
            "tags": []
          },
          "execution_count": 45
        }
      ]
    },
    {
      "metadata": {
        "id": "hvAv6J3EwA9s",
        "colab_type": "code",
        "outputId": "dae497cd-f2d8-4e2d-ff78-6bee7227e0be",
        "colab": {
          "base_uri": "https://localhost:8080/",
          "height": 143
        }
      },
      "cell_type": "code",
      "source": [
        "# OK, that's not quite what we want\n",
        "# Time is continuous! We need to put it in discrete buckets\n",
        "# Pandas calls these bins, and pandas.cut helps make them\n",
        "\n",
        "time_bins = pd.cut(user_data['time_on_site'], 5)  # 5 equal-sized bins\n",
        "pd.crosstab(user_data['purchased'], time_bins)"
      ],
      "execution_count": 46,
      "outputs": [
        {
          "output_type": "execute_result",
          "data": {
            "text/html": [
              "<div>\n",
              "<style scoped>\n",
              "    .dataframe tbody tr th:only-of-type {\n",
              "        vertical-align: middle;\n",
              "    }\n",
              "\n",
              "    .dataframe tbody tr th {\n",
              "        vertical-align: top;\n",
              "    }\n",
              "\n",
              "    .dataframe thead th {\n",
              "        text-align: right;\n",
              "    }\n",
              "</style>\n",
              "<table border=\"1\" class=\"dataframe\">\n",
              "  <thead>\n",
              "    <tr style=\"text-align: right;\">\n",
              "      <th>time_on_site</th>\n",
              "      <th>(5.196, 124.547]</th>\n",
              "      <th>(124.547, 243.304]</th>\n",
              "      <th>(243.304, 362.062]</th>\n",
              "      <th>(362.062, 480.819]</th>\n",
              "      <th>(480.819, 599.577]</th>\n",
              "    </tr>\n",
              "    <tr>\n",
              "      <th>purchased</th>\n",
              "      <th></th>\n",
              "      <th></th>\n",
              "      <th></th>\n",
              "      <th></th>\n",
              "      <th></th>\n",
              "    </tr>\n",
              "  </thead>\n",
              "  <tbody>\n",
              "    <tr>\n",
              "      <th>False</th>\n",
              "      <td>227</td>\n",
              "      <td>238</td>\n",
              "      <td>111</td>\n",
              "      <td>23</td>\n",
              "      <td>37</td>\n",
              "    </tr>\n",
              "    <tr>\n",
              "      <th>True</th>\n",
              "      <td>106</td>\n",
              "      <td>133</td>\n",
              "      <td>84</td>\n",
              "      <td>20</td>\n",
              "      <td>21</td>\n",
              "    </tr>\n",
              "  </tbody>\n",
              "</table>\n",
              "</div>"
            ],
            "text/plain": [
              "time_on_site  (5.196, 124.547]  (124.547, 243.304]  (243.304, 362.062]  \\\n",
              "purchased                                                                \n",
              "False                      227                 238                 111   \n",
              "True                       106                 133                  84   \n",
              "\n",
              "time_on_site  (362.062, 480.819]  (480.819, 599.577]  \n",
              "purchased                                             \n",
              "False                         23                  37  \n",
              "True                          20                  21  "
            ]
          },
          "metadata": {
            "tags": []
          },
          "execution_count": 46
        }
      ]
    },
    {
      "metadata": {
        "id": "pjcXnJw0wfaj",
        "colab_type": "code",
        "outputId": "54379ff1-d770-41a5-e802-aa0c739a16ab",
        "colab": {
          "base_uri": "https://localhost:8080/",
          "height": 143
        }
      },
      "cell_type": "code",
      "source": [
        "# We can make this a bit clearer by normalizing (getting %)\n",
        "pd.crosstab(user_data['purchased'], time_bins, normalize='columns')"
      ],
      "execution_count": 47,
      "outputs": [
        {
          "output_type": "execute_result",
          "data": {
            "text/html": [
              "<div>\n",
              "<style scoped>\n",
              "    .dataframe tbody tr th:only-of-type {\n",
              "        vertical-align: middle;\n",
              "    }\n",
              "\n",
              "    .dataframe tbody tr th {\n",
              "        vertical-align: top;\n",
              "    }\n",
              "\n",
              "    .dataframe thead th {\n",
              "        text-align: right;\n",
              "    }\n",
              "</style>\n",
              "<table border=\"1\" class=\"dataframe\">\n",
              "  <thead>\n",
              "    <tr style=\"text-align: right;\">\n",
              "      <th>time_on_site</th>\n",
              "      <th>(5.196, 124.547]</th>\n",
              "      <th>(124.547, 243.304]</th>\n",
              "      <th>(243.304, 362.062]</th>\n",
              "      <th>(362.062, 480.819]</th>\n",
              "      <th>(480.819, 599.577]</th>\n",
              "    </tr>\n",
              "    <tr>\n",
              "      <th>purchased</th>\n",
              "      <th></th>\n",
              "      <th></th>\n",
              "      <th></th>\n",
              "      <th></th>\n",
              "      <th></th>\n",
              "    </tr>\n",
              "  </thead>\n",
              "  <tbody>\n",
              "    <tr>\n",
              "      <th>False</th>\n",
              "      <td>0.681682</td>\n",
              "      <td>0.641509</td>\n",
              "      <td>0.569231</td>\n",
              "      <td>0.534884</td>\n",
              "      <td>0.637931</td>\n",
              "    </tr>\n",
              "    <tr>\n",
              "      <th>True</th>\n",
              "      <td>0.318318</td>\n",
              "      <td>0.358491</td>\n",
              "      <td>0.430769</td>\n",
              "      <td>0.465116</td>\n",
              "      <td>0.362069</td>\n",
              "    </tr>\n",
              "  </tbody>\n",
              "</table>\n",
              "</div>"
            ],
            "text/plain": [
              "time_on_site  (5.196, 124.547]  (124.547, 243.304]  (243.304, 362.062]  \\\n",
              "purchased                                                                \n",
              "False                 0.681682            0.641509            0.569231   \n",
              "True                  0.318318            0.358491            0.430769   \n",
              "\n",
              "time_on_site  (362.062, 480.819]  (480.819, 599.577]  \n",
              "purchased                                             \n",
              "False                   0.534884            0.637931  \n",
              "True                    0.465116            0.362069  "
            ]
          },
          "metadata": {
            "tags": []
          },
          "execution_count": 47
        }
      ]
    },
    {
      "metadata": {
        "id": "C3GzvDxlvZMa",
        "colab_type": "code",
        "outputId": "3150b794-0a28-412a-c7fb-611f41f5d46b",
        "colab": {
          "base_uri": "https://localhost:8080/",
          "height": 143
        }
      },
      "cell_type": "code",
      "source": [
        "# That seems counter to our hypothesis\n",
        "# More time on the site can actually have fewer purchases\n",
        "\n",
        "# But we know why, since we generated the data!\n",
        "# Let's look at mobile and purchased\n",
        "pd.crosstab(user_data['purchased'], user_data['mobile'], normalize='columns')"
      ],
      "execution_count": 48,
      "outputs": [
        {
          "output_type": "execute_result",
          "data": {
            "text/html": [
              "<div>\n",
              "<style scoped>\n",
              "    .dataframe tbody tr th:only-of-type {\n",
              "        vertical-align: middle;\n",
              "    }\n",
              "\n",
              "    .dataframe tbody tr th {\n",
              "        vertical-align: top;\n",
              "    }\n",
              "\n",
              "    .dataframe thead th {\n",
              "        text-align: right;\n",
              "    }\n",
              "</style>\n",
              "<table border=\"1\" class=\"dataframe\">\n",
              "  <thead>\n",
              "    <tr style=\"text-align: right;\">\n",
              "      <th>mobile</th>\n",
              "      <th>False</th>\n",
              "      <th>True</th>\n",
              "    </tr>\n",
              "    <tr>\n",
              "      <th>purchased</th>\n",
              "      <th></th>\n",
              "      <th></th>\n",
              "    </tr>\n",
              "  </thead>\n",
              "  <tbody>\n",
              "    <tr>\n",
              "      <th>False</th>\n",
              "      <td>0.704</td>\n",
              "      <td>0.613333</td>\n",
              "    </tr>\n",
              "    <tr>\n",
              "      <th>True</th>\n",
              "      <td>0.296</td>\n",
              "      <td>0.386667</td>\n",
              "    </tr>\n",
              "  </tbody>\n",
              "</table>\n",
              "</div>"
            ],
            "text/plain": [
              "mobile     False     True \n",
              "purchased                 \n",
              "False      0.704  0.613333\n",
              "True       0.296  0.386667"
            ]
          },
          "metadata": {
            "tags": []
          },
          "execution_count": 48
        }
      ]
    },
    {
      "metadata": {
        "id": "KQb-wU60xCum",
        "colab_type": "code",
        "colab": {}
      },
      "cell_type": "code",
      "source": [
        "# Yep, mobile users are more likely to buy things\n",
        "# But we're still not seeing the *whole* story until we look at all 3 at once\n",
        "\n",
        "# Live/stretch goal - how can we do that?"
      ],
      "execution_count": 0,
      "outputs": []
    },
    {
      "metadata": {
        "id": "9a9BNxtyQmqH",
        "colab_type": "code",
        "colab": {
          "base_uri": "https://localhost:8080/",
          "height": 192
        },
        "outputId": "a95b71f7-e8dc-4c99-efea-d4a7962e578e"
      },
      "cell_type": "code",
      "source": [
        "pd.crosstab(user_data['mobile'], [user_data['purchased'], time_bins], \n",
        "            rownames=['device'], colnames=['purchased', 'time on site'], \n",
        "            normalize='index')"
      ],
      "execution_count": 55,
      "outputs": [
        {
          "output_type": "execute_result",
          "data": {
            "text/html": [
              "<div>\n",
              "<style scoped>\n",
              "    .dataframe tbody tr th:only-of-type {\n",
              "        vertical-align: middle;\n",
              "    }\n",
              "\n",
              "    .dataframe tbody tr th {\n",
              "        vertical-align: top;\n",
              "    }\n",
              "\n",
              "    .dataframe thead tr th {\n",
              "        text-align: left;\n",
              "    }\n",
              "\n",
              "    .dataframe thead tr:last-of-type th {\n",
              "        text-align: right;\n",
              "    }\n",
              "</style>\n",
              "<table border=\"1\" class=\"dataframe\">\n",
              "  <thead>\n",
              "    <tr>\n",
              "      <th>purchased</th>\n",
              "      <th colspan=\"5\" halign=\"left\">False</th>\n",
              "      <th colspan=\"5\" halign=\"left\">True</th>\n",
              "    </tr>\n",
              "    <tr>\n",
              "      <th>time on site</th>\n",
              "      <th>(5.196, 124.547]</th>\n",
              "      <th>(124.547, 243.304]</th>\n",
              "      <th>(243.304, 362.062]</th>\n",
              "      <th>(362.062, 480.819]</th>\n",
              "      <th>(480.819, 599.577]</th>\n",
              "      <th>(5.196, 124.547]</th>\n",
              "      <th>(124.547, 243.304]</th>\n",
              "      <th>(243.304, 362.062]</th>\n",
              "      <th>(362.062, 480.819]</th>\n",
              "      <th>(480.819, 599.577]</th>\n",
              "    </tr>\n",
              "    <tr>\n",
              "      <th>device</th>\n",
              "      <th></th>\n",
              "      <th></th>\n",
              "      <th></th>\n",
              "      <th></th>\n",
              "      <th></th>\n",
              "      <th></th>\n",
              "      <th></th>\n",
              "      <th></th>\n",
              "      <th></th>\n",
              "      <th></th>\n",
              "    </tr>\n",
              "  </thead>\n",
              "  <tbody>\n",
              "    <tr>\n",
              "      <th>False</th>\n",
              "      <td>0.148000</td>\n",
              "      <td>0.172</td>\n",
              "      <td>0.144</td>\n",
              "      <td>0.092</td>\n",
              "      <td>0.148</td>\n",
              "      <td>0.016</td>\n",
              "      <td>0.044000</td>\n",
              "      <td>0.072</td>\n",
              "      <td>0.08</td>\n",
              "      <td>0.084</td>\n",
              "    </tr>\n",
              "    <tr>\n",
              "      <th>True</th>\n",
              "      <td>0.253333</td>\n",
              "      <td>0.260</td>\n",
              "      <td>0.100</td>\n",
              "      <td>0.000</td>\n",
              "      <td>0.000</td>\n",
              "      <td>0.136</td>\n",
              "      <td>0.162667</td>\n",
              "      <td>0.088</td>\n",
              "      <td>0.00</td>\n",
              "      <td>0.000</td>\n",
              "    </tr>\n",
              "  </tbody>\n",
              "</table>\n",
              "</div>"
            ],
            "text/plain": [
              "purchased               False                                        \\\n",
              "time on site (5.196, 124.547] (124.547, 243.304] (243.304, 362.062]   \n",
              "device                                                                \n",
              "False                0.148000              0.172              0.144   \n",
              "True                 0.253333              0.260              0.100   \n",
              "\n",
              "purchased                                                     True   \\\n",
              "time on site (362.062, 480.819] (480.819, 599.577] (5.196, 124.547]   \n",
              "device                                                                \n",
              "False                     0.092              0.148            0.016   \n",
              "True                      0.000              0.000            0.136   \n",
              "\n",
              "purchased                                                              \\\n",
              "time on site (124.547, 243.304] (243.304, 362.062] (362.062, 480.819]   \n",
              "device                                                                  \n",
              "False                  0.044000              0.072               0.08   \n",
              "True                   0.162667              0.088               0.00   \n",
              "\n",
              "purchased                        \n",
              "time on site (480.819, 599.577]  \n",
              "device                           \n",
              "False                     0.084  \n",
              "True                      0.000  "
            ]
          },
          "metadata": {
            "tags": []
          },
          "execution_count": 55
        }
      ]
    },
    {
      "metadata": {
        "id": "BU9NxjshSOja",
        "colab_type": "code",
        "colab": {
          "base_uri": "https://localhost:8080/",
          "height": 362
        },
        "outputId": "84c00d6f-69cf-4ff9-f055-2a079a62632d"
      },
      "cell_type": "code",
      "source": [
        "user_data.hist(bins=10);"
      ],
      "execution_count": 61,
      "outputs": [
        {
          "output_type": "display_data",
          "data": {
            "image/png": "[encoded data removed]",
            "text/plain": [
              "<Figure size 576x396 with 4 Axes>"
            ]
          },
          "metadata": {
            "tags": []
          }
        }
      ]
    },
    {
      "metadata": {
        "id": "map7a2EKVyJa",
        "colab_type": "code",
        "colab": {
          "base_uri": "https://localhost:8080/",
          "height": 454
        },
        "outputId": "512b7b9d-a280-4ea8-cd8b-782c41659079"
      },
      "cell_type": "code",
      "source": [
        "pd.pivot_table(user_data, values='purchased',index=time_bins).plot.bar()"
      ],
      "execution_count": 63,
      "outputs": [
        {
          "output_type": "execute_result",
          "data": {
            "text/plain": [
              "<matplotlib.axes._subplots.AxesSubplot at 0x7fc4bc7d0400>"
            ]
          },
          "metadata": {
            "tags": []
          },
          "execution_count": 63
        },
        {
          "output_type": "display_data",
          "data": {
            "image/png": "[encoded data removed]",
            "text/plain": [
              "<Figure size 576x396 with 1 Axes>"
            ]
          },
          "metadata": {
            "tags": []
          }
        }
      ]
    },
    {
      "metadata": {
        "id": "-4Mm6oSBWJXH",
        "colab_type": "code",
        "colab": {
          "base_uri": "https://localhost:8080/",
          "height": 454
        },
        "outputId": "87c348f5-b88d-443a-e22e-6e2366ada135"
      },
      "cell_type": "code",
      "source": [
        "pd.pivot_table(user_data, values='time_on_site',index=time_bins).plot.bar()"
      ],
      "execution_count": 64,
      "outputs": [
        {
          "output_type": "execute_result",
          "data": {
            "text/plain": [
              "<matplotlib.axes._subplots.AxesSubplot at 0x7fc4bc7f8518>"
            ]
          },
          "metadata": {
            "tags": []
          },
          "execution_count": 64
        },
        {
          "output_type": "display_data",
          "data": {
            "image/png": "[encoded data removed]",
            "text/plain": [
              "<Figure size 576x396 with 1 Axes>"
            ]
          },
          "metadata": {
            "tags": []
          }
        }
      ]
    },
    {
      "metadata": {
        "id": "8fGHD79_Vma7",
        "colab_type": "code",
        "colab": {
          "base_uri": "https://localhost:8080/",
          "height": 365
        },
        "outputId": "cc49baea-5651-483d-9d69-d8c9c3aadcc2"
      },
      "cell_type": "code",
      "source": [
        "user_data['time_on_site'].plot.density()"
      ],
      "execution_count": 62,
      "outputs": [
        {
          "output_type": "execute_result",
          "data": {
            "text/plain": [
              "<matplotlib.axes._subplots.AxesSubplot at 0x7fc4bc880c88>"
            ]
          },
          "metadata": {
            "tags": []
          },
          "execution_count": 62
        },
        {
          "output_type": "display_data",
          "data": {
            "image/png": "[encoded data removed]",
            "text/plain": [
              "<Figure size 576x396 with 1 Axes>"
            ]
          },
          "metadata": {
            "tags": []
          }
        }
      ]
    },
    {
      "metadata": {
        "id": "LPUT8dCaWWvt",
        "colab_type": "code",
        "colab": {}
      },
      "cell_type": "code",
      "source": [
        ""
      ],
      "execution_count": 0,
      "outputs": []
    },
    {
      "metadata": {
        "id": "lOqaPds9huME",
        "colab_type": "text"
      },
      "cell_type": "markdown",
      "source": [
        "## Assignment - what's going on here?\n",
        "\n",
        "Consider the data in `persons.csv` (already prepared for you, in the repo for the week). It has four columns - a unique id, followed by age (in years), weight (in lbs), and exercise time (in minutes/week) of 1200 (hypothetical) people.\n",
        "\n",
        "Try to figure out which variables are possibly related to each other, and which may be confounding relationships."
      ]
    },
    {
      "metadata": {
        "id": "TGUS79cOhPWj",
        "colab_type": "code",
        "colab": {}
      },
      "cell_type": "code",
      "source": [
        "# TODO - your code here\n",
        "# Use what we did live in lecture as an example\n",
        "\n",
        "# HINT - you can find the raw URL on GitHub and potentially use that\n",
        "# to load the data with read_csv, or you can upload it yourself"
      ],
      "execution_count": 0,
      "outputs": []
    },
    {
      "metadata": {
        "id": "Ek9GxAigAPKr",
        "colab_type": "code",
        "colab": {}
      },
      "cell_type": "code",
      "source": [
        "#import and alias\n",
        "import pandas as pd\n",
        "import matplotlib.pyplot as plt"
      ],
      "execution_count": 0,
      "outputs": []
    },
    {
      "metadata": {
        "id": "ISzBxZWqAWiN",
        "colab_type": "code",
        "colab": {
          "base_uri": "https://localhost:8080/",
          "height": 206
        },
        "outputId": "2fc9e3bb-1ca1-4995-8228-613b8af608de"
      },
      "cell_type": "code",
      "source": [
        "#read in and check the csv\n",
        "persons = pd.read_csv('https://raw.githubusercontent.com/bundickm/DS-Unit-1-Sprint-1-Dealing-With-Data/master/module4-databackedassertions/persons.csv')\n",
        "persons.head()"
      ],
      "execution_count": 67,
      "outputs": [
        {
          "output_type": "execute_result",
          "data": {
            "text/html": [
              "<div>\n",
              "<style scoped>\n",
              "    .dataframe tbody tr th:only-of-type {\n",
              "        vertical-align: middle;\n",
              "    }\n",
              "\n",
              "    .dataframe tbody tr th {\n",
              "        vertical-align: top;\n",
              "    }\n",
              "\n",
              "    .dataframe thead th {\n",
              "        text-align: right;\n",
              "    }\n",
              "</style>\n",
              "<table border=\"1\" class=\"dataframe\">\n",
              "  <thead>\n",
              "    <tr style=\"text-align: right;\">\n",
              "      <th></th>\n",
              "      <th>Unnamed: 0</th>\n",
              "      <th>age</th>\n",
              "      <th>weight</th>\n",
              "      <th>exercise_time</th>\n",
              "    </tr>\n",
              "  </thead>\n",
              "  <tbody>\n",
              "    <tr>\n",
              "      <th>0</th>\n",
              "      <td>0</td>\n",
              "      <td>44</td>\n",
              "      <td>118</td>\n",
              "      <td>192</td>\n",
              "    </tr>\n",
              "    <tr>\n",
              "      <th>1</th>\n",
              "      <td>1</td>\n",
              "      <td>41</td>\n",
              "      <td>161</td>\n",
              "      <td>35</td>\n",
              "    </tr>\n",
              "    <tr>\n",
              "      <th>2</th>\n",
              "      <td>2</td>\n",
              "      <td>46</td>\n",
              "      <td>128</td>\n",
              "      <td>220</td>\n",
              "    </tr>\n",
              "    <tr>\n",
              "      <th>3</th>\n",
              "      <td>3</td>\n",
              "      <td>39</td>\n",
              "      <td>216</td>\n",
              "      <td>57</td>\n",
              "    </tr>\n",
              "    <tr>\n",
              "      <th>4</th>\n",
              "      <td>4</td>\n",
              "      <td>28</td>\n",
              "      <td>116</td>\n",
              "      <td>182</td>\n",
              "    </tr>\n",
              "  </tbody>\n",
              "</table>\n",
              "</div>"
            ],
            "text/plain": [
              "   Unnamed: 0  age  weight  exercise_time\n",
              "0           0   44     118            192\n",
              "1           1   41     161             35\n",
              "2           2   46     128            220\n",
              "3           3   39     216             57\n",
              "4           4   28     116            182"
            ]
          },
          "metadata": {
            "tags": []
          },
          "execution_count": 67
        }
      ]
    },
    {
      "metadata": {
        "id": "1F9Wfw3TAsf0",
        "colab_type": "code",
        "colab": {
          "base_uri": "https://localhost:8080/",
          "height": 237
        },
        "outputId": "6c7318f0-9179-46b6-beca-2faf395e54e2"
      },
      "cell_type": "code",
      "source": [
        "#unnamed:0 appears to be the index, so drop it as the df has one\n",
        "persons.columns = ['ID','age','weight','exercise(t)']\n",
        "persons = persons.set_index('ID')\n",
        "persons.head()"
      ],
      "execution_count": 68,
      "outputs": [
        {
          "output_type": "execute_result",
          "data": {
            "text/html": [
              "<div>\n",
              "<style scoped>\n",
              "    .dataframe tbody tr th:only-of-type {\n",
              "        vertical-align: middle;\n",
              "    }\n",
              "\n",
              "    .dataframe tbody tr th {\n",
              "        vertical-align: top;\n",
              "    }\n",
              "\n",
              "    .dataframe thead th {\n",
              "        text-align: right;\n",
              "    }\n",
              "</style>\n",
              "<table border=\"1\" class=\"dataframe\">\n",
              "  <thead>\n",
              "    <tr style=\"text-align: right;\">\n",
              "      <th></th>\n",
              "      <th>age</th>\n",
              "      <th>weight</th>\n",
              "      <th>exercise(t)</th>\n",
              "    </tr>\n",
              "    <tr>\n",
              "      <th>ID</th>\n",
              "      <th></th>\n",
              "      <th></th>\n",
              "      <th></th>\n",
              "    </tr>\n",
              "  </thead>\n",
              "  <tbody>\n",
              "    <tr>\n",
              "      <th>0</th>\n",
              "      <td>44</td>\n",
              "      <td>118</td>\n",
              "      <td>192</td>\n",
              "    </tr>\n",
              "    <tr>\n",
              "      <th>1</th>\n",
              "      <td>41</td>\n",
              "      <td>161</td>\n",
              "      <td>35</td>\n",
              "    </tr>\n",
              "    <tr>\n",
              "      <th>2</th>\n",
              "      <td>46</td>\n",
              "      <td>128</td>\n",
              "      <td>220</td>\n",
              "    </tr>\n",
              "    <tr>\n",
              "      <th>3</th>\n",
              "      <td>39</td>\n",
              "      <td>216</td>\n",
              "      <td>57</td>\n",
              "    </tr>\n",
              "    <tr>\n",
              "      <th>4</th>\n",
              "      <td>28</td>\n",
              "      <td>116</td>\n",
              "      <td>182</td>\n",
              "    </tr>\n",
              "  </tbody>\n",
              "</table>\n",
              "</div>"
            ],
            "text/plain": [
              "    age  weight  exercise(t)\n",
              "ID                          \n",
              "0    44     118          192\n",
              "1    41     161           35\n",
              "2    46     128          220\n",
              "3    39     216           57\n",
              "4    28     116          182"
            ]
          },
          "metadata": {
            "tags": []
          },
          "execution_count": 68
        }
      ]
    },
    {
      "metadata": {
        "id": "BBccuWFjFl36",
        "colab_type": "code",
        "colab": {
          "base_uri": "https://localhost:8080/",
          "height": 90
        },
        "outputId": "de08ff52-4037-4e5c-9737-a6ee21a7baff"
      },
      "cell_type": "code",
      "source": [
        "persons.dtypes"
      ],
      "execution_count": 69,
      "outputs": [
        {
          "output_type": "execute_result",
          "data": {
            "text/plain": [
              "age            int64\n",
              "weight         int64\n",
              "exercise(t)    int64\n",
              "dtype: object"
            ]
          },
          "metadata": {
            "tags": []
          },
          "execution_count": 69
        }
      ]
    },
    {
      "metadata": {
        "id": "90x79lz4FxGh",
        "colab_type": "code",
        "colab": {
          "base_uri": "https://localhost:8080/",
          "height": 90
        },
        "outputId": "9d053dfc-c45a-4e55-9a1d-df74bf645353"
      },
      "cell_type": "code",
      "source": [
        "persons.isnull().sum()"
      ],
      "execution_count": 70,
      "outputs": [
        {
          "output_type": "execute_result",
          "data": {
            "text/plain": [
              "age            0\n",
              "weight         0\n",
              "exercise(t)    0\n",
              "dtype: int64"
            ]
          },
          "metadata": {
            "tags": []
          },
          "execution_count": 70
        }
      ]
    },
    {
      "metadata": {
        "id": "_goeqR1MGB0I",
        "colab_type": "code",
        "colab": {
          "base_uri": "https://localhost:8080/",
          "height": 35
        },
        "outputId": "69e86292-f50f-4ba3-b397-b808b3834a2f"
      },
      "cell_type": "code",
      "source": [
        "persons.shape"
      ],
      "execution_count": 71,
      "outputs": [
        {
          "output_type": "execute_result",
          "data": {
            "text/plain": [
              "(1200, 3)"
            ]
          },
          "metadata": {
            "tags": []
          },
          "execution_count": 71
        }
      ]
    },
    {
      "metadata": {
        "id": "2Or_7FzaJEEl",
        "colab_type": "code",
        "colab": {
          "base_uri": "https://localhost:8080/",
          "height": 394
        },
        "outputId": "c6f92218-2efa-4d57-f492-dad0682e6eeb"
      },
      "cell_type": "code",
      "source": [
        "exercise_bins = pd.cut(persons['exercise(t)'], 5)\n",
        "weight_bins = pd.cut(persons['weight'],10)\n",
        "pd.crosstab(weight_bins, exercise_bins, normalize='columns')"
      ],
      "execution_count": 87,
      "outputs": [
        {
          "output_type": "execute_result",
          "data": {
            "text/html": [
              "<div>\n",
              "<style scoped>\n",
              "    .dataframe tbody tr th:only-of-type {\n",
              "        vertical-align: middle;\n",
              "    }\n",
              "\n",
              "    .dataframe tbody tr th {\n",
              "        vertical-align: top;\n",
              "    }\n",
              "\n",
              "    .dataframe thead th {\n",
              "        text-align: right;\n",
              "    }\n",
              "</style>\n",
              "<table border=\"1\" class=\"dataframe\">\n",
              "  <thead>\n",
              "    <tr style=\"text-align: right;\">\n",
              "      <th>exercise(t)</th>\n",
              "      <th>(-0.3, 60.0]</th>\n",
              "      <th>(60.0, 120.0]</th>\n",
              "      <th>(120.0, 180.0]</th>\n",
              "      <th>(180.0, 240.0]</th>\n",
              "      <th>(240.0, 300.0]</th>\n",
              "    </tr>\n",
              "    <tr>\n",
              "      <th>weight</th>\n",
              "      <th></th>\n",
              "      <th></th>\n",
              "      <th></th>\n",
              "      <th></th>\n",
              "      <th></th>\n",
              "    </tr>\n",
              "  </thead>\n",
              "  <tbody>\n",
              "    <tr>\n",
              "      <th>(99.854, 114.6]</th>\n",
              "      <td>0.097122</td>\n",
              "      <td>0.088608</td>\n",
              "      <td>0.183857</td>\n",
              "      <td>0.197917</td>\n",
              "      <td>0.235602</td>\n",
              "    </tr>\n",
              "    <tr>\n",
              "      <th>(114.6, 129.2]</th>\n",
              "      <td>0.093525</td>\n",
              "      <td>0.117089</td>\n",
              "      <td>0.134529</td>\n",
              "      <td>0.213542</td>\n",
              "      <td>0.324607</td>\n",
              "    </tr>\n",
              "    <tr>\n",
              "      <th>(129.2, 143.8]</th>\n",
              "      <td>0.075540</td>\n",
              "      <td>0.101266</td>\n",
              "      <td>0.143498</td>\n",
              "      <td>0.203125</td>\n",
              "      <td>0.219895</td>\n",
              "    </tr>\n",
              "    <tr>\n",
              "      <th>(143.8, 158.4]</th>\n",
              "      <td>0.082734</td>\n",
              "      <td>0.139241</td>\n",
              "      <td>0.156951</td>\n",
              "      <td>0.182292</td>\n",
              "      <td>0.167539</td>\n",
              "    </tr>\n",
              "    <tr>\n",
              "      <th>(158.4, 173.0]</th>\n",
              "      <td>0.111511</td>\n",
              "      <td>0.148734</td>\n",
              "      <td>0.125561</td>\n",
              "      <td>0.130208</td>\n",
              "      <td>0.052356</td>\n",
              "    </tr>\n",
              "    <tr>\n",
              "      <th>(173.0, 187.6]</th>\n",
              "      <td>0.107914</td>\n",
              "      <td>0.145570</td>\n",
              "      <td>0.125561</td>\n",
              "      <td>0.067708</td>\n",
              "      <td>0.000000</td>\n",
              "    </tr>\n",
              "    <tr>\n",
              "      <th>(187.6, 202.2]</th>\n",
              "      <td>0.107914</td>\n",
              "      <td>0.098101</td>\n",
              "      <td>0.121076</td>\n",
              "      <td>0.005208</td>\n",
              "      <td>0.000000</td>\n",
              "    </tr>\n",
              "    <tr>\n",
              "      <th>(202.2, 216.8]</th>\n",
              "      <td>0.165468</td>\n",
              "      <td>0.132911</td>\n",
              "      <td>0.008969</td>\n",
              "      <td>0.000000</td>\n",
              "      <td>0.000000</td>\n",
              "    </tr>\n",
              "    <tr>\n",
              "      <th>(216.8, 231.4]</th>\n",
              "      <td>0.100719</td>\n",
              "      <td>0.028481</td>\n",
              "      <td>0.000000</td>\n",
              "      <td>0.000000</td>\n",
              "      <td>0.000000</td>\n",
              "    </tr>\n",
              "    <tr>\n",
              "      <th>(231.4, 246.0]</th>\n",
              "      <td>0.057554</td>\n",
              "      <td>0.000000</td>\n",
              "      <td>0.000000</td>\n",
              "      <td>0.000000</td>\n",
              "      <td>0.000000</td>\n",
              "    </tr>\n",
              "  </tbody>\n",
              "</table>\n",
              "</div>"
            ],
            "text/plain": [
              "exercise(t)      (-0.3, 60.0]  (60.0, 120.0]  (120.0, 180.0]  (180.0, 240.0]  \\\n",
              "weight                                                                         \n",
              "(99.854, 114.6]      0.097122       0.088608        0.183857        0.197917   \n",
              "(114.6, 129.2]       0.093525       0.117089        0.134529        0.213542   \n",
              "(129.2, 143.8]       0.075540       0.101266        0.143498        0.203125   \n",
              "(143.8, 158.4]       0.082734       0.139241        0.156951        0.182292   \n",
              "(158.4, 173.0]       0.111511       0.148734        0.125561        0.130208   \n",
              "(173.0, 187.6]       0.107914       0.145570        0.125561        0.067708   \n",
              "(187.6, 202.2]       0.107914       0.098101        0.121076        0.005208   \n",
              "(202.2, 216.8]       0.165468       0.132911        0.008969        0.000000   \n",
              "(216.8, 231.4]       0.100719       0.028481        0.000000        0.000000   \n",
              "(231.4, 246.0]       0.057554       0.000000        0.000000        0.000000   \n",
              "\n",
              "exercise(t)      (240.0, 300.0]  \n",
              "weight                           \n",
              "(99.854, 114.6]        0.235602  \n",
              "(114.6, 129.2]         0.324607  \n",
              "(129.2, 143.8]         0.219895  \n",
              "(143.8, 158.4]         0.167539  \n",
              "(158.4, 173.0]         0.052356  \n",
              "(173.0, 187.6]         0.000000  \n",
              "(187.6, 202.2]         0.000000  \n",
              "(202.2, 216.8]         0.000000  \n",
              "(216.8, 231.4]         0.000000  \n",
              "(231.4, 246.0]         0.000000  "
            ]
          },
          "metadata": {
            "tags": []
          },
          "execution_count": 87
        }
      ]
    },
    {
      "metadata": {
        "id": "mxVUPhUjZxuf",
        "colab_type": "code",
        "colab": {
          "base_uri": "https://localhost:8080/",
          "height": 394
        },
        "outputId": "ef87c13b-4594-4d83-afd8-c56608a531a0"
      },
      "cell_type": "code",
      "source": [
        "age_bins = pd.cut(persons['age'],10)\n",
        "pd.crosstab(weight_bins, age_bins, normalize='columns')"
      ],
      "execution_count": 73,
      "outputs": [
        {
          "output_type": "execute_result",
          "data": {
            "text/html": [
              "<div>\n",
              "<style scoped>\n",
              "    .dataframe tbody tr th:only-of-type {\n",
              "        vertical-align: middle;\n",
              "    }\n",
              "\n",
              "    .dataframe tbody tr th {\n",
              "        vertical-align: top;\n",
              "    }\n",
              "\n",
              "    .dataframe thead th {\n",
              "        text-align: right;\n",
              "    }\n",
              "</style>\n",
              "<table border=\"1\" class=\"dataframe\">\n",
              "  <thead>\n",
              "    <tr style=\"text-align: right;\">\n",
              "      <th>age</th>\n",
              "      <th>(17.938, 24.2]</th>\n",
              "      <th>(24.2, 30.4]</th>\n",
              "      <th>(30.4, 36.6]</th>\n",
              "      <th>(36.6, 42.8]</th>\n",
              "      <th>(42.8, 49.0]</th>\n",
              "      <th>(49.0, 55.2]</th>\n",
              "      <th>(55.2, 61.4]</th>\n",
              "      <th>(61.4, 67.6]</th>\n",
              "      <th>(67.6, 73.8]</th>\n",
              "      <th>(73.8, 80.0]</th>\n",
              "    </tr>\n",
              "    <tr>\n",
              "      <th>weight</th>\n",
              "      <th></th>\n",
              "      <th></th>\n",
              "      <th></th>\n",
              "      <th></th>\n",
              "      <th></th>\n",
              "      <th></th>\n",
              "      <th></th>\n",
              "      <th></th>\n",
              "      <th></th>\n",
              "      <th></th>\n",
              "    </tr>\n",
              "  </thead>\n",
              "  <tbody>\n",
              "    <tr>\n",
              "      <th>(99.854, 114.6]</th>\n",
              "      <td>0.140741</td>\n",
              "      <td>0.190083</td>\n",
              "      <td>0.146154</td>\n",
              "      <td>0.219512</td>\n",
              "      <td>0.119658</td>\n",
              "      <td>0.188679</td>\n",
              "      <td>0.115044</td>\n",
              "      <td>0.091743</td>\n",
              "      <td>0.152672</td>\n",
              "      <td>0.121739</td>\n",
              "    </tr>\n",
              "    <tr>\n",
              "      <th>(114.6, 129.2]</th>\n",
              "      <td>0.162963</td>\n",
              "      <td>0.132231</td>\n",
              "      <td>0.246154</td>\n",
              "      <td>0.211382</td>\n",
              "      <td>0.179487</td>\n",
              "      <td>0.216981</td>\n",
              "      <td>0.168142</td>\n",
              "      <td>0.100917</td>\n",
              "      <td>0.106870</td>\n",
              "      <td>0.104348</td>\n",
              "    </tr>\n",
              "    <tr>\n",
              "      <th>(129.2, 143.8]</th>\n",
              "      <td>0.148148</td>\n",
              "      <td>0.173554</td>\n",
              "      <td>0.100000</td>\n",
              "      <td>0.130081</td>\n",
              "      <td>0.205128</td>\n",
              "      <td>0.103774</td>\n",
              "      <td>0.141593</td>\n",
              "      <td>0.174312</td>\n",
              "      <td>0.099237</td>\n",
              "      <td>0.113043</td>\n",
              "    </tr>\n",
              "    <tr>\n",
              "      <th>(143.8, 158.4]</th>\n",
              "      <td>0.162963</td>\n",
              "      <td>0.190083</td>\n",
              "      <td>0.123077</td>\n",
              "      <td>0.138211</td>\n",
              "      <td>0.102564</td>\n",
              "      <td>0.141509</td>\n",
              "      <td>0.168142</td>\n",
              "      <td>0.155963</td>\n",
              "      <td>0.114504</td>\n",
              "      <td>0.113043</td>\n",
              "    </tr>\n",
              "    <tr>\n",
              "      <th>(158.4, 173.0]</th>\n",
              "      <td>0.140741</td>\n",
              "      <td>0.107438</td>\n",
              "      <td>0.123077</td>\n",
              "      <td>0.065041</td>\n",
              "      <td>0.145299</td>\n",
              "      <td>0.094340</td>\n",
              "      <td>0.097345</td>\n",
              "      <td>0.100917</td>\n",
              "      <td>0.167939</td>\n",
              "      <td>0.121739</td>\n",
              "    </tr>\n",
              "    <tr>\n",
              "      <th>(173.0, 187.6]</th>\n",
              "      <td>0.074074</td>\n",
              "      <td>0.057851</td>\n",
              "      <td>0.100000</td>\n",
              "      <td>0.097561</td>\n",
              "      <td>0.085470</td>\n",
              "      <td>0.113208</td>\n",
              "      <td>0.123894</td>\n",
              "      <td>0.082569</td>\n",
              "      <td>0.114504</td>\n",
              "      <td>0.130435</td>\n",
              "    </tr>\n",
              "    <tr>\n",
              "      <th>(187.6, 202.2]</th>\n",
              "      <td>0.096296</td>\n",
              "      <td>0.033058</td>\n",
              "      <td>0.038462</td>\n",
              "      <td>0.048780</td>\n",
              "      <td>0.051282</td>\n",
              "      <td>0.047170</td>\n",
              "      <td>0.088496</td>\n",
              "      <td>0.146789</td>\n",
              "      <td>0.091603</td>\n",
              "      <td>0.104348</td>\n",
              "    </tr>\n",
              "    <tr>\n",
              "      <th>(202.2, 216.8]</th>\n",
              "      <td>0.044444</td>\n",
              "      <td>0.090909</td>\n",
              "      <td>0.084615</td>\n",
              "      <td>0.073171</td>\n",
              "      <td>0.059829</td>\n",
              "      <td>0.075472</td>\n",
              "      <td>0.088496</td>\n",
              "      <td>0.073394</td>\n",
              "      <td>0.076336</td>\n",
              "      <td>0.086957</td>\n",
              "    </tr>\n",
              "    <tr>\n",
              "      <th>(216.8, 231.4]</th>\n",
              "      <td>0.007407</td>\n",
              "      <td>0.024793</td>\n",
              "      <td>0.038462</td>\n",
              "      <td>0.008130</td>\n",
              "      <td>0.025641</td>\n",
              "      <td>0.009434</td>\n",
              "      <td>0.008850</td>\n",
              "      <td>0.036697</td>\n",
              "      <td>0.068702</td>\n",
              "      <td>0.078261</td>\n",
              "    </tr>\n",
              "    <tr>\n",
              "      <th>(231.4, 246.0]</th>\n",
              "      <td>0.022222</td>\n",
              "      <td>0.000000</td>\n",
              "      <td>0.000000</td>\n",
              "      <td>0.008130</td>\n",
              "      <td>0.025641</td>\n",
              "      <td>0.009434</td>\n",
              "      <td>0.000000</td>\n",
              "      <td>0.036697</td>\n",
              "      <td>0.007634</td>\n",
              "      <td>0.026087</td>\n",
              "    </tr>\n",
              "  </tbody>\n",
              "</table>\n",
              "</div>"
            ],
            "text/plain": [
              "age              (17.938, 24.2]  (24.2, 30.4]  (30.4, 36.6]  (36.6, 42.8]  \\\n",
              "weight                                                                      \n",
              "(99.854, 114.6]        0.140741      0.190083      0.146154      0.219512   \n",
              "(114.6, 129.2]         0.162963      0.132231      0.246154      0.211382   \n",
              "(129.2, 143.8]         0.148148      0.173554      0.100000      0.130081   \n",
              "(143.8, 158.4]         0.162963      0.190083      0.123077      0.138211   \n",
              "(158.4, 173.0]         0.140741      0.107438      0.123077      0.065041   \n",
              "(173.0, 187.6]         0.074074      0.057851      0.100000      0.097561   \n",
              "(187.6, 202.2]         0.096296      0.033058      0.038462      0.048780   \n",
              "(202.2, 216.8]         0.044444      0.090909      0.084615      0.073171   \n",
              "(216.8, 231.4]         0.007407      0.024793      0.038462      0.008130   \n",
              "(231.4, 246.0]         0.022222      0.000000      0.000000      0.008130   \n",
              "\n",
              "age              (42.8, 49.0]  (49.0, 55.2]  (55.2, 61.4]  (61.4, 67.6]  \\\n",
              "weight                                                                    \n",
              "(99.854, 114.6]      0.119658      0.188679      0.115044      0.091743   \n",
              "(114.6, 129.2]       0.179487      0.216981      0.168142      0.100917   \n",
              "(129.2, 143.8]       0.205128      0.103774      0.141593      0.174312   \n",
              "(143.8, 158.4]       0.102564      0.141509      0.168142      0.155963   \n",
              "(158.4, 173.0]       0.145299      0.094340      0.097345      0.100917   \n",
              "(173.0, 187.6]       0.085470      0.113208      0.123894      0.082569   \n",
              "(187.6, 202.2]       0.051282      0.047170      0.088496      0.146789   \n",
              "(202.2, 216.8]       0.059829      0.075472      0.088496      0.073394   \n",
              "(216.8, 231.4]       0.025641      0.009434      0.008850      0.036697   \n",
              "(231.4, 246.0]       0.025641      0.009434      0.000000      0.036697   \n",
              "\n",
              "age              (67.6, 73.8]  (73.8, 80.0]  \n",
              "weight                                       \n",
              "(99.854, 114.6]      0.152672      0.121739  \n",
              "(114.6, 129.2]       0.106870      0.104348  \n",
              "(129.2, 143.8]       0.099237      0.113043  \n",
              "(143.8, 158.4]       0.114504      0.113043  \n",
              "(158.4, 173.0]       0.167939      0.121739  \n",
              "(173.0, 187.6]       0.114504      0.130435  \n",
              "(187.6, 202.2]       0.091603      0.104348  \n",
              "(202.2, 216.8]       0.076336      0.086957  \n",
              "(216.8, 231.4]       0.068702      0.078261  \n",
              "(231.4, 246.0]       0.007634      0.026087  "
            ]
          },
          "metadata": {
            "tags": []
          },
          "execution_count": 73
        }
      ]
    },
    {
      "metadata": {
        "id": "X3xzaIozkttX",
        "colab_type": "code",
        "colab": {
          "base_uri": "https://localhost:8080/",
          "height": 362
        },
        "outputId": "7fbc4290-fbc9-416c-af0c-0b7be6460511"
      },
      "cell_type": "code",
      "source": [
        "plt.scatter(persons['exercise(t)'],persons['weight'])\n",
        "plt.title('weight decreases with increased exercise time')\n",
        "plt.show()"
      ],
      "execution_count": 102,
      "outputs": [
        {
          "output_type": "display_data",
          "data": {
            "image/png": "[encoded data removed]",
            "text/plain": [
              "<Figure size 576x396 with 1 Axes>"
            ]
          },
          "metadata": {
            "tags": []
          }
        }
      ]
    },
    {
      "metadata": {
        "id": "FyKskBUQlgLr",
        "colab_type": "code",
        "colab": {
          "base_uri": "https://localhost:8080/",
          "height": 431
        },
        "outputId": "163687a7-4840-460e-b6a9-13e3ec47081c"
      },
      "cell_type": "code",
      "source": [
        "#weight per age group\n",
        "pd.pivot_table(persons, values='weight',index='age').plot.bar()"
      ],
      "execution_count": 95,
      "outputs": [
        {
          "output_type": "execute_result",
          "data": {
            "text/plain": [
              "<matplotlib.axes._subplots.AxesSubplot at 0x7fc4b8951e48>"
            ]
          },
          "metadata": {
            "tags": []
          },
          "execution_count": 95
        },
        {
          "output_type": "display_data",
          "data": {
            "image/png": "[encoded data removed]",
            "text/plain": [
              "<Figure size 576x396 with 1 Axes>"
            ]
          },
          "metadata": {
            "tags": []
          }
        }
      ]
    },
    {
      "metadata": {
        "id": "bgbXRLTAnxgP",
        "colab_type": "code",
        "colab": {
          "base_uri": "https://localhost:8080/",
          "height": 431
        },
        "outputId": "dc09abac-18a2-457e-bac7-e7f0ae588f67"
      },
      "cell_type": "code",
      "source": [
        "#level of exercise per age group\n",
        "pd.pivot_table(persons, values='exercise(t)',index=age_bins).plot.bar()"
      ],
      "execution_count": 93,
      "outputs": [
        {
          "output_type": "execute_result",
          "data": {
            "text/plain": [
              "<matplotlib.axes._subplots.AxesSubplot at 0x7fc4b99f82b0>"
            ]
          },
          "metadata": {
            "tags": []
          },
          "execution_count": 93
        },
        {
          "output_type": "display_data",
          "data": {
            "image/png": "[encoded data removed]",
            "text/plain": [
              "<Figure size 576x396 with 1 Axes>"
            ]
          },
          "metadata": {
            "tags": []
          }
        }
      ]
    },
    {
      "metadata": {
        "id": "2LN26yV6vGlP",
        "colab_type": "code",
        "colab": {
          "base_uri": "https://localhost:8080/",
          "height": 431
        },
        "outputId": "2c558f47-4a53-45f7-a186-039a2c7d8019"
      },
      "cell_type": "code",
      "source": [
        "#exercise and weight for age groups\n",
        "pd.pivot_table(persons, values=['exercise(t)', 'weight'],index=age_bins).plot.bar()"
      ],
      "execution_count": 103,
      "outputs": [
        {
          "output_type": "execute_result",
          "data": {
            "text/plain": [
              "<matplotlib.axes._subplots.AxesSubplot at 0x7fc4b877cb00>"
            ]
          },
          "metadata": {
            "tags": []
          },
          "execution_count": 103
        },
        {
          "output_type": "display_data",
          "data": {
            "image/png": "[encoded data removed]",
            "text/plain": [
              "<Figure size 576x396 with 1 Axes>"
            ]
          },
          "metadata": {
            "tags": []
          }
        }
      ]
    },
    {
      "metadata": {
        "id": "BT9gdS7viJZa",
        "colab_type": "text"
      },
      "cell_type": "markdown",
      "source": [
        "### Assignment questions\n",
        "\n",
        "After you've worked on some code, answer the following questions in this text block:\n",
        "\n",
        "1.  What are the variable types in the data?\n",
        "2.  What are the relationships between the variables?\n",
        "3.  Which relationships are \"real\", and which spurious?\n"
      ]
    },
    {
      "metadata": {
        "id": "IK-81EvznfZc",
        "colab_type": "text"
      },
      "cell_type": "markdown",
      "source": [
        "#1.  What are the variable types in the data?\n",
        "\n",
        "\n",
        "*   ID (int64): Discrete, just an index stepping by 1\n",
        "*   Age (int64): Discrete - binned by year. Age could be continous but is not so in this dataset\n",
        "*   Weight (int64): Discrete - binned by pounds. Just like age, could be continous but is not so in this dataset\n",
        "*   Exercise Time (int64): - Discrete - binned by minutes. Same as the other two. Could be continous but is not being treated as such in this dataset\n",
        "\n"
      ]
    },
    {
      "metadata": {
        "id": "REq_Vmd0njNf",
        "colab_type": "text"
      },
      "cell_type": "markdown",
      "source": [
        "#2.  What are the relationships between the variables?\n",
        "\n",
        "ID to:\n",
        "*   All: ID has no correlation, simply an index. ID steps by 1 and is independent of the other variables\n",
        "\n",
        "Age to:\n",
        "*   Weight: slight increase in weight as age increases, this is likely just a result of excercise time decreasing with age. We can strengthen that assumption by noting that weight starts its upward trend right around where exercise begins decreasing with age.\n",
        "*   Exercise Time: Exercise time decreases with age starting around 50ish years of age\n",
        "\n",
        "Weight to:\n",
        "*   Exercise Time: Weight decreases as exercise time increases. This is the main causal link with age having an indirect impact through exercise time"
      ]
    },
    {
      "metadata": {
        "id": "kvXtd-19nmY-",
        "colab_type": "text"
      },
      "cell_type": "markdown",
      "source": [
        "#3.  Which relationships are \"real\", and which spurious?\n",
        "Real: Weight v Exercise Time, and Exercise Time v Age\n",
        "Spurious: Weight v Age thanks to the third variable exercise time \n"
      ]
    },
    {
      "metadata": {
        "id": "_XXg2crAipwP",
        "colab_type": "text"
      },
      "cell_type": "markdown",
      "source": [
        "## Stretch goals and resources\n",
        "\n",
        "Following are *optional* things for you to take a look at. Focus on the above assignment first, and make sure to commit and push your changes to GitHub.\n",
        "\n",
        "- [Spurious Correlations](http://tylervigen.com/spurious-correlations)\n",
        "- [NIH on controlling for confounding variables](https://www.ncbi.nlm.nih.gov/pmc/articles/PMC4017459/)\n",
        "\n",
        "Stretch goals:\n",
        "\n",
        "- Produce your own plot inspired by the Spurious Correlation visualizations (and consider writing a blog post about it - both the content and how you made it)\n",
        "- Pick one of the techniques that NIH highlights for confounding variables - we'll be going into many of them later, but see if you can find which Python modules may help (hint - check scikit-learn)"
      ]
    }
  ]
}