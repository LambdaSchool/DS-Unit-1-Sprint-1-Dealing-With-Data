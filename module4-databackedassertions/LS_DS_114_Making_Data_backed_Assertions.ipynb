{
 "cells": [
  {
   "cell_type": "markdown",
   "metadata": {
    "colab_type": "text",
    "id": "Okfr_uhwhS1X",
    "slideshow": {
     "slide_type": "-"
    }
   },
   "source": [
    "# Lambda School Data Science - Making Data-backed Assertions\n",
    "\n",
    "This is, for many, the main point of data science - to create and support reasoned arguments based on evidence. It's not a topic to master in a day, but it is worth some focused time thinking about and structuring your approach to it."
   ]
  },
  {
   "cell_type": "markdown",
   "metadata": {
    "colab_type": "text",
    "id": "9dtJETFRhnOG"
   },
   "source": [
    "## Lecture - generating a confounding variable\n",
    "\n",
    "The prewatch material told a story about a hypothetical health condition where both the drug usage and overall health outcome were related to gender - thus making gender a confounding variable, obfuscating the possible relationship between the drug and the outcome.\n",
    "\n",
    "Let's use Python to generate data that actually behaves in this fashion!"
   ]
  },
  {
   "cell_type": "code",
   "execution_count": 2,
   "metadata": {},
   "outputs": [
    {
     "name": "stdout",
     "output_type": "stream",
     "text": [
      "Requirement already satisfied: pandas==0.23.4 in /Users/dwightchurchill/anaconda3/lib/python3.7/site-packages (0.23.4)\n",
      "Requirement already satisfied: python-dateutil>=2.5.0 in /Users/dwightchurchill/anaconda3/lib/python3.7/site-packages (from pandas==0.23.4) (2.8.0)\n",
      "Requirement already satisfied: pytz>=2011k in /Users/dwightchurchill/anaconda3/lib/python3.7/site-packages (from pandas==0.23.4) (2018.9)\n",
      "Requirement already satisfied: numpy>=1.9.0 in /Users/dwightchurchill/anaconda3/lib/python3.7/site-packages (from pandas==0.23.4) (1.16.2)\n",
      "Requirement already satisfied: six>=1.5 in /Users/dwightchurchill/anaconda3/lib/python3.7/site-packages (from python-dateutil>=2.5.0->pandas==0.23.4) (1.12.0)\n"
     ]
    }
   ],
   "source": [
    "!pip install pandas==0.23.4"
   ]
  },
  {
   "cell_type": "code",
   "execution_count": 3,
   "metadata": {},
   "outputs": [],
   "source": [
    "# y = 'health outcome' - predicted variable - dependent variable\n",
    "# x = 'drug usage' - explanatory variable - independent variable"
   ]
  },
  {
   "cell_type": "code",
   "execution_count": 4,
   "metadata": {
    "colab": {
     "base_uri": "https://localhost:8080/",
     "height": 1102
    },
    "colab_type": "code",
    "id": "WiBkgmPJhmhE",
    "outputId": "4e8ced64-58d9-46f4-a13f-c5483ff542d1"
   },
   "outputs": [
    {
     "data": {
      "text/plain": [
       "['BPF',\n",
       " 'LOG4',\n",
       " 'NV_MAGICCONST',\n",
       " 'RECIP_BPF',\n",
       " 'Random',\n",
       " 'SG_MAGICCONST',\n",
       " 'SystemRandom',\n",
       " 'TWOPI',\n",
       " '_BuiltinMethodType',\n",
       " '_MethodType',\n",
       " '_Sequence',\n",
       " '_Set',\n",
       " '__all__',\n",
       " '__builtins__',\n",
       " '__cached__',\n",
       " '__doc__',\n",
       " '__file__',\n",
       " '__loader__',\n",
       " '__name__',\n",
       " '__package__',\n",
       " '__spec__',\n",
       " '_acos',\n",
       " '_bisect',\n",
       " '_ceil',\n",
       " '_cos',\n",
       " '_e',\n",
       " '_exp',\n",
       " '_inst',\n",
       " '_itertools',\n",
       " '_log',\n",
       " '_os',\n",
       " '_pi',\n",
       " '_random',\n",
       " '_sha512',\n",
       " '_sin',\n",
       " '_sqrt',\n",
       " '_test',\n",
       " '_test_generator',\n",
       " '_urandom',\n",
       " '_warn',\n",
       " 'betavariate',\n",
       " 'choice',\n",
       " 'choices',\n",
       " 'expovariate',\n",
       " 'gammavariate',\n",
       " 'gauss',\n",
       " 'getrandbits',\n",
       " 'getstate',\n",
       " 'lognormvariate',\n",
       " 'normalvariate',\n",
       " 'paretovariate',\n",
       " 'randint',\n",
       " 'random',\n",
       " 'randrange',\n",
       " 'sample',\n",
       " 'seed',\n",
       " 'setstate',\n",
       " 'shuffle',\n",
       " 'triangular',\n",
       " 'uniform',\n",
       " 'vonmisesvariate',\n",
       " 'weibullvariate']"
      ]
     },
     "execution_count": 4,
     "metadata": {},
     "output_type": "execute_result"
    }
   ],
   "source": [
    "import random\n",
    "dir(random)  # Reminding ourselves what we can do here"
   ]
  },
  {
   "cell_type": "code",
   "execution_count": 5,
   "metadata": {
    "colab": {
     "base_uri": "https://localhost:8080/",
     "height": 35
    },
    "colab_type": "code",
    "id": "Ks5qFtpnq-q5",
    "outputId": "4d8e1064-bf60-4a45-81c1-d6dcd3ecfe0a"
   },
   "outputs": [
    {
     "name": "stdout",
     "output_type": "stream",
     "text": [
      "User(purchased=False, time_on_site=12, mobile=False)\n"
     ]
    }
   ],
   "source": [
    "# Let's think of another scenario:\n",
    "# We work for a company that sells accessories for mobile phones.\n",
    "# They have an ecommerce site, and we are supposed to analyze logs\n",
    "# to determine what sort of usage is related to purchases, and thus guide\n",
    "# website development to encourage higher conversion.\n",
    "\n",
    "# The hypothesis - users who spend longer on the site tend\n",
    "# to spend more. Seems reasonable, no?\n",
    "\n",
    "# But there's a confounding variable! If they're on a phone, they:\n",
    "# a) Spend less time on the site, but\n",
    "# b) Are more likely to be interested in the actual products!\n",
    "\n",
    "# Let's use namedtuple to represent our data\n",
    "\n",
    "from collections import namedtuple\n",
    "# purchased and mobile are bools, time_on_site in seconds\n",
    "User = namedtuple('User', ['purchased','time_on_site', 'mobile'])\n",
    "\n",
    "example_user = User(False, 12, False)\n",
    "print(example_user)"
   ]
  },
  {
   "cell_type": "code",
   "execution_count": 6,
   "metadata": {
    "colab": {
     "base_uri": "https://localhost:8080/",
     "height": 55
    },
    "colab_type": "code",
    "id": "lfPiHNG_sefL",
    "outputId": "903da34a-fa19-4d4a-8cc7-45dd14f022cf"
   },
   "outputs": [
    {
     "name": "stdout",
     "output_type": "stream",
     "text": [
      "[User(purchased=True, time_on_site=431.41557925590774, mobile=False), User(purchased=True, time_on_site=150.09915817322133, mobile=True), User(purchased=False, time_on_site=27.2450169451447, mobile=True), User(purchased=True, time_on_site=35.99706266234811, mobile=True), User(purchased=False, time_on_site=241.58446225552788, mobile=True), User(purchased=False, time_on_site=60.390426132846045, mobile=True), User(purchased=False, time_on_site=30.316812729167047, mobile=True), User(purchased=False, time_on_site=60.05525324229559, mobile=True), User(purchased=True, time_on_site=265.55593126483757, mobile=False), User(purchased=False, time_on_site=85.72417087099134, mobile=True)]\n"
     ]
    }
   ],
   "source": [
    "# And now let's generate 1000 example users\n",
    "# 750 mobile, 250 not (i.e. desktop)\n",
    "# A desktop user has a base conversion likelihood of 10%\n",
    "# And it goes up by 1% for each 15 seconds they spend on the site\n",
    "# And they spend anywhere from 10 seconds to 10 minutes on the site (uniform)\n",
    "# Mobile users spend on average half as much time on the site as desktop\n",
    "# But have three times as much base likelihood of buying something\n",
    "\n",
    "users = []\n",
    "\n",
    "for _ in range(250):\n",
    "  # Desktop users\n",
    "  time_on_site = random.uniform(10, 600)\n",
    "  purchased = random.random() < 0.1 + (time_on_site / 1500)\n",
    "  users.append(User(purchased, time_on_site, False))\n",
    "  \n",
    "for _ in range(750):\n",
    "  # Mobile users\n",
    "  time_on_site = random.uniform(5, 300)\n",
    "  purchased = random.random() < 0.3 + (time_on_site / 1500)\n",
    "  users.append(User(purchased, time_on_site, True))\n",
    "  \n",
    "random.shuffle(users)\n",
    "print(users[:10])"
   ]
  },
  {
   "cell_type": "code",
   "execution_count": 7,
   "metadata": {},
   "outputs": [],
   "source": [
    "import pandas as pd\n",
    "import seaborn as sns"
   ]
  },
  {
   "cell_type": "code",
   "execution_count": 8,
   "metadata": {
    "colab": {
     "base_uri": "https://localhost:8080/",
     "height": 206
    },
    "colab_type": "code",
    "id": "9gDYb5qGuRzy",
    "outputId": "bc3cb99f-c2d2-4fca-c5a0-0efb421313fb"
   },
   "outputs": [
    {
     "data": {
      "text/html": [
       "<div>\n",
       "<style scoped>\n",
       "    .dataframe tbody tr th:only-of-type {\n",
       "        vertical-align: middle;\n",
       "    }\n",
       "\n",
       "    .dataframe tbody tr th {\n",
       "        vertical-align: top;\n",
       "    }\n",
       "\n",
       "    .dataframe thead th {\n",
       "        text-align: right;\n",
       "    }\n",
       "</style>\n",
       "<table border=\"1\" class=\"dataframe\">\n",
       "  <thead>\n",
       "    <tr style=\"text-align: right;\">\n",
       "      <th></th>\n",
       "      <th>purchased</th>\n",
       "      <th>time_on_site</th>\n",
       "      <th>mobile</th>\n",
       "    </tr>\n",
       "  </thead>\n",
       "  <tbody>\n",
       "    <tr>\n",
       "      <th>0</th>\n",
       "      <td>True</td>\n",
       "      <td>431.415579</td>\n",
       "      <td>False</td>\n",
       "    </tr>\n",
       "    <tr>\n",
       "      <th>1</th>\n",
       "      <td>True</td>\n",
       "      <td>150.099158</td>\n",
       "      <td>True</td>\n",
       "    </tr>\n",
       "    <tr>\n",
       "      <th>2</th>\n",
       "      <td>False</td>\n",
       "      <td>27.245017</td>\n",
       "      <td>True</td>\n",
       "    </tr>\n",
       "    <tr>\n",
       "      <th>3</th>\n",
       "      <td>True</td>\n",
       "      <td>35.997063</td>\n",
       "      <td>True</td>\n",
       "    </tr>\n",
       "    <tr>\n",
       "      <th>4</th>\n",
       "      <td>False</td>\n",
       "      <td>241.584462</td>\n",
       "      <td>True</td>\n",
       "    </tr>\n",
       "  </tbody>\n",
       "</table>\n",
       "</div>"
      ],
      "text/plain": [
       "   purchased  time_on_site  mobile\n",
       "0       True    431.415579   False\n",
       "1       True    150.099158    True\n",
       "2      False     27.245017    True\n",
       "3       True     35.997063    True\n",
       "4      False    241.584462    True"
      ]
     },
     "execution_count": 8,
     "metadata": {},
     "output_type": "execute_result"
    }
   ],
   "source": [
    "# Let's put this in a dataframe so we can look at it more easily\n",
    "\n",
    "user_data = pd.DataFrame(users)\n",
    "user_data.head()"
   ]
  },
  {
   "cell_type": "code",
   "execution_count": 9,
   "metadata": {
    "colab": {
     "base_uri": "https://localhost:8080/",
     "height": 193
    },
    "colab_type": "code",
    "id": "sr6IJv77ulVl",
    "outputId": "07eace5e-1308-4f04-d3a9-6093a31f24ed"
   },
   "outputs": [
    {
     "data": {
      "text/html": [
       "<div>\n",
       "<style scoped>\n",
       "    .dataframe tbody tr th:only-of-type {\n",
       "        vertical-align: middle;\n",
       "    }\n",
       "\n",
       "    .dataframe tbody tr th {\n",
       "        vertical-align: top;\n",
       "    }\n",
       "\n",
       "    .dataframe thead th {\n",
       "        text-align: right;\n",
       "    }\n",
       "</style>\n",
       "<table border=\"1\" class=\"dataframe\">\n",
       "  <thead>\n",
       "    <tr style=\"text-align: right;\">\n",
       "      <th>time_on_site</th>\n",
       "      <th>5.331656015636785</th>\n",
       "      <th>5.901705636778181</th>\n",
       "      <th>6.140980065728463</th>\n",
       "      <th>6.2389397821615695</th>\n",
       "      <th>6.542306052514339</th>\n",
       "      <th>6.7056847477872195</th>\n",
       "      <th>7.424470853595363</th>\n",
       "      <th>7.561811276578522</th>\n",
       "      <th>8.285290925314918</th>\n",
       "      <th>8.686325489917918</th>\n",
       "      <th>...</th>\n",
       "      <th>583.0933246270994</th>\n",
       "      <th>586.0357943891972</th>\n",
       "      <th>586.2806379190176</th>\n",
       "      <th>588.6161063706991</th>\n",
       "      <th>591.238983899935</th>\n",
       "      <th>592.8557239390103</th>\n",
       "      <th>594.1880764163745</th>\n",
       "      <th>596.2719337230598</th>\n",
       "      <th>599.4106284264759</th>\n",
       "      <th>599.4527227675846</th>\n",
       "    </tr>\n",
       "    <tr>\n",
       "      <th>purchased</th>\n",
       "      <th></th>\n",
       "      <th></th>\n",
       "      <th></th>\n",
       "      <th></th>\n",
       "      <th></th>\n",
       "      <th></th>\n",
       "      <th></th>\n",
       "      <th></th>\n",
       "      <th></th>\n",
       "      <th></th>\n",
       "      <th></th>\n",
       "      <th></th>\n",
       "      <th></th>\n",
       "      <th></th>\n",
       "      <th></th>\n",
       "      <th></th>\n",
       "      <th></th>\n",
       "      <th></th>\n",
       "      <th></th>\n",
       "      <th></th>\n",
       "      <th></th>\n",
       "    </tr>\n",
       "  </thead>\n",
       "  <tbody>\n",
       "    <tr>\n",
       "      <th>False</th>\n",
       "      <td>1</td>\n",
       "      <td>0</td>\n",
       "      <td>1</td>\n",
       "      <td>1</td>\n",
       "      <td>0</td>\n",
       "      <td>1</td>\n",
       "      <td>1</td>\n",
       "      <td>1</td>\n",
       "      <td>1</td>\n",
       "      <td>0</td>\n",
       "      <td>...</td>\n",
       "      <td>0</td>\n",
       "      <td>1</td>\n",
       "      <td>0</td>\n",
       "      <td>1</td>\n",
       "      <td>1</td>\n",
       "      <td>1</td>\n",
       "      <td>0</td>\n",
       "      <td>0</td>\n",
       "      <td>1</td>\n",
       "      <td>0</td>\n",
       "    </tr>\n",
       "    <tr>\n",
       "      <th>True</th>\n",
       "      <td>0</td>\n",
       "      <td>1</td>\n",
       "      <td>0</td>\n",
       "      <td>0</td>\n",
       "      <td>1</td>\n",
       "      <td>0</td>\n",
       "      <td>0</td>\n",
       "      <td>0</td>\n",
       "      <td>0</td>\n",
       "      <td>1</td>\n",
       "      <td>...</td>\n",
       "      <td>1</td>\n",
       "      <td>0</td>\n",
       "      <td>1</td>\n",
       "      <td>0</td>\n",
       "      <td>0</td>\n",
       "      <td>0</td>\n",
       "      <td>1</td>\n",
       "      <td>1</td>\n",
       "      <td>0</td>\n",
       "      <td>1</td>\n",
       "    </tr>\n",
       "  </tbody>\n",
       "</table>\n",
       "<p>2 rows × 1000 columns</p>\n",
       "</div>"
      ],
      "text/plain": [
       "time_on_site  5.331656    5.901706    6.140980    6.238940    6.542306    \\\n",
       "purchased                                                                  \n",
       "False                  1           0           1           1           0   \n",
       "True                   0           1           0           0           1   \n",
       "\n",
       "time_on_site  6.705685    7.424471    7.561811    8.285291    8.686325    \\\n",
       "purchased                                                                  \n",
       "False                  1           1           1           1           0   \n",
       "True                   0           0           0           0           1   \n",
       "\n",
       "time_on_site     ...      583.093325  586.035794  586.280638  588.616106  \\\n",
       "purchased        ...                                                       \n",
       "False            ...               0           1           0           1   \n",
       "True             ...               1           0           1           0   \n",
       "\n",
       "time_on_site  591.238984  592.855724  594.188076  596.271934  599.410628  \\\n",
       "purchased                                                                  \n",
       "False                  1           1           0           0           1   \n",
       "True                   0           0           1           1           0   \n",
       "\n",
       "time_on_site  599.452723  \n",
       "purchased                 \n",
       "False                  0  \n",
       "True                   1  \n",
       "\n",
       "[2 rows x 1000 columns]"
      ]
     },
     "execution_count": 9,
     "metadata": {},
     "output_type": "execute_result"
    }
   ],
   "source": [
    "# Let's use crosstabulation to try to see what's going on\n",
    "pd.crosstab(user_data['purchased'], user_data['time_on_site'])"
   ]
  },
  {
   "cell_type": "code",
   "execution_count": 10,
   "metadata": {
    "colab": {
     "base_uri": "https://localhost:8080/",
     "height": 161
    },
    "colab_type": "code",
    "id": "hvAv6J3EwA9s",
    "outputId": "7b45d8c5-2fda-4df6-fecc-a14129ed76fb"
   },
   "outputs": [
    {
     "data": {
      "text/html": [
       "<div>\n",
       "<style scoped>\n",
       "    .dataframe tbody tr th:only-of-type {\n",
       "        vertical-align: middle;\n",
       "    }\n",
       "\n",
       "    .dataframe tbody tr th {\n",
       "        vertical-align: top;\n",
       "    }\n",
       "\n",
       "    .dataframe thead th {\n",
       "        text-align: right;\n",
       "    }\n",
       "</style>\n",
       "<table border=\"1\" class=\"dataframe\">\n",
       "  <thead>\n",
       "    <tr style=\"text-align: right;\">\n",
       "      <th>time_on_site</th>\n",
       "      <th>(4.738, 124.156]</th>\n",
       "      <th>(124.156, 242.98]</th>\n",
       "      <th>(242.98, 361.804]</th>\n",
       "      <th>(361.804, 480.629]</th>\n",
       "      <th>(480.629, 599.453]</th>\n",
       "    </tr>\n",
       "    <tr>\n",
       "      <th>purchased</th>\n",
       "      <th></th>\n",
       "      <th></th>\n",
       "      <th></th>\n",
       "      <th></th>\n",
       "      <th></th>\n",
       "    </tr>\n",
       "  </thead>\n",
       "  <tbody>\n",
       "    <tr>\n",
       "      <th>False</th>\n",
       "      <td>249</td>\n",
       "      <td>203</td>\n",
       "      <td>106</td>\n",
       "      <td>35</td>\n",
       "      <td>26</td>\n",
       "    </tr>\n",
       "    <tr>\n",
       "      <th>True</th>\n",
       "      <td>126</td>\n",
       "      <td>139</td>\n",
       "      <td>78</td>\n",
       "      <td>16</td>\n",
       "      <td>22</td>\n",
       "    </tr>\n",
       "  </tbody>\n",
       "</table>\n",
       "</div>"
      ],
      "text/plain": [
       "time_on_site  (4.738, 124.156]  (124.156, 242.98]  (242.98, 361.804]  \\\n",
       "purchased                                                              \n",
       "False                      249                203                106   \n",
       "True                       126                139                 78   \n",
       "\n",
       "time_on_site  (361.804, 480.629]  (480.629, 599.453]  \n",
       "purchased                                             \n",
       "False                         35                  26  \n",
       "True                          16                  22  "
      ]
     },
     "execution_count": 10,
     "metadata": {},
     "output_type": "execute_result"
    }
   ],
   "source": [
    "# OK, that's not quite what we want\n",
    "# Time is continuous! We need to put it in discrete buckets\n",
    "# Pandas calls these bins, and pandas.cut helps make them\n",
    "\n",
    "time_bins = pd.cut(user_data['time_on_site'], 5)  # 5 equal-sized bins\n",
    "pd.crosstab(user_data['purchased'], time_bins)"
   ]
  },
  {
   "cell_type": "code",
   "execution_count": 11,
   "metadata": {
    "colab": {
     "base_uri": "https://localhost:8080/",
     "height": 161
    },
    "colab_type": "code",
    "id": "pjcXnJw0wfaj",
    "outputId": "e8f6d2d9-7f66-46b4-d213-04145889e0df"
   },
   "outputs": [
    {
     "data": {
      "text/html": [
       "<div>\n",
       "<style scoped>\n",
       "    .dataframe tbody tr th:only-of-type {\n",
       "        vertical-align: middle;\n",
       "    }\n",
       "\n",
       "    .dataframe tbody tr th {\n",
       "        vertical-align: top;\n",
       "    }\n",
       "\n",
       "    .dataframe thead th {\n",
       "        text-align: right;\n",
       "    }\n",
       "</style>\n",
       "<table border=\"1\" class=\"dataframe\">\n",
       "  <thead>\n",
       "    <tr style=\"text-align: right;\">\n",
       "      <th>time_on_site</th>\n",
       "      <th>(4.738, 124.156]</th>\n",
       "      <th>(124.156, 242.98]</th>\n",
       "      <th>(242.98, 361.804]</th>\n",
       "      <th>(361.804, 480.629]</th>\n",
       "      <th>(480.629, 599.453]</th>\n",
       "    </tr>\n",
       "    <tr>\n",
       "      <th>purchased</th>\n",
       "      <th></th>\n",
       "      <th></th>\n",
       "      <th></th>\n",
       "      <th></th>\n",
       "      <th></th>\n",
       "    </tr>\n",
       "  </thead>\n",
       "  <tbody>\n",
       "    <tr>\n",
       "      <th>False</th>\n",
       "      <td>0.664</td>\n",
       "      <td>0.593567</td>\n",
       "      <td>0.576087</td>\n",
       "      <td>0.686275</td>\n",
       "      <td>0.541667</td>\n",
       "    </tr>\n",
       "    <tr>\n",
       "      <th>True</th>\n",
       "      <td>0.336</td>\n",
       "      <td>0.406433</td>\n",
       "      <td>0.423913</td>\n",
       "      <td>0.313725</td>\n",
       "      <td>0.458333</td>\n",
       "    </tr>\n",
       "  </tbody>\n",
       "</table>\n",
       "</div>"
      ],
      "text/plain": [
       "time_on_site  (4.738, 124.156]  (124.156, 242.98]  (242.98, 361.804]  \\\n",
       "purchased                                                              \n",
       "False                    0.664           0.593567           0.576087   \n",
       "True                     0.336           0.406433           0.423913   \n",
       "\n",
       "time_on_site  (361.804, 480.629]  (480.629, 599.453]  \n",
       "purchased                                             \n",
       "False                   0.686275            0.541667  \n",
       "True                    0.313725            0.458333  "
      ]
     },
     "execution_count": 11,
     "metadata": {},
     "output_type": "execute_result"
    }
   ],
   "source": [
    "# We can make this a bit clearer by normalizing (getting %)\n",
    "pd.crosstab(user_data['purchased'], time_bins, normalize='columns')"
   ]
  },
  {
   "cell_type": "code",
   "execution_count": 12,
   "metadata": {
    "colab": {
     "base_uri": "https://localhost:8080/",
     "height": 143
    },
    "colab_type": "code",
    "id": "C3GzvDxlvZMa",
    "outputId": "d07bf197-350b-4bf2-a5d8-8897b8fc8446"
   },
   "outputs": [
    {
     "data": {
      "text/html": [
       "<div>\n",
       "<style scoped>\n",
       "    .dataframe tbody tr th:only-of-type {\n",
       "        vertical-align: middle;\n",
       "    }\n",
       "\n",
       "    .dataframe tbody tr th {\n",
       "        vertical-align: top;\n",
       "    }\n",
       "\n",
       "    .dataframe thead th {\n",
       "        text-align: right;\n",
       "    }\n",
       "</style>\n",
       "<table border=\"1\" class=\"dataframe\">\n",
       "  <thead>\n",
       "    <tr style=\"text-align: right;\">\n",
       "      <th>mobile</th>\n",
       "      <th>False</th>\n",
       "      <th>True</th>\n",
       "    </tr>\n",
       "    <tr>\n",
       "      <th>purchased</th>\n",
       "      <th></th>\n",
       "      <th></th>\n",
       "    </tr>\n",
       "  </thead>\n",
       "  <tbody>\n",
       "    <tr>\n",
       "      <th>False</th>\n",
       "      <td>0.7</td>\n",
       "      <td>0.592</td>\n",
       "    </tr>\n",
       "    <tr>\n",
       "      <th>True</th>\n",
       "      <td>0.3</td>\n",
       "      <td>0.408</td>\n",
       "    </tr>\n",
       "  </tbody>\n",
       "</table>\n",
       "</div>"
      ],
      "text/plain": [
       "mobile     False  True \n",
       "purchased              \n",
       "False        0.7  0.592\n",
       "True         0.3  0.408"
      ]
     },
     "execution_count": 12,
     "metadata": {},
     "output_type": "execute_result"
    }
   ],
   "source": [
    "# That seems counter to our hypothesis\n",
    "# More time on the site can actually have fewer purchases\n",
    "\n",
    "# But we know why, since we generated the data!\n",
    "# Let's look at mobile and purchased\n",
    "pd.crosstab(user_data['purchased'], user_data['mobile'], normalize='columns')"
   ]
  },
  {
   "cell_type": "code",
   "execution_count": 13,
   "metadata": {
    "colab": {},
    "colab_type": "code",
    "id": "KQb-wU60xCum"
   },
   "outputs": [
    {
     "data": {
      "text/html": [
       "<div>\n",
       "<style scoped>\n",
       "    .dataframe tbody tr th:only-of-type {\n",
       "        vertical-align: middle;\n",
       "    }\n",
       "\n",
       "    .dataframe tbody tr th {\n",
       "        vertical-align: top;\n",
       "    }\n",
       "\n",
       "    .dataframe thead tr th {\n",
       "        text-align: left;\n",
       "    }\n",
       "\n",
       "    .dataframe thead tr:last-of-type th {\n",
       "        text-align: right;\n",
       "    }\n",
       "</style>\n",
       "<table border=\"1\" class=\"dataframe\">\n",
       "  <thead>\n",
       "    <tr>\n",
       "      <th>purchased</th>\n",
       "      <th colspan=\"5\" halign=\"left\">False</th>\n",
       "      <th colspan=\"5\" halign=\"left\">True</th>\n",
       "    </tr>\n",
       "    <tr>\n",
       "      <th>time on site</th>\n",
       "      <th>(4.738, 124.156]</th>\n",
       "      <th>(124.156, 242.98]</th>\n",
       "      <th>(242.98, 361.804]</th>\n",
       "      <th>(361.804, 480.629]</th>\n",
       "      <th>(480.629, 599.453]</th>\n",
       "      <th>(4.738, 124.156]</th>\n",
       "      <th>(124.156, 242.98]</th>\n",
       "      <th>(242.98, 361.804]</th>\n",
       "      <th>(361.804, 480.629]</th>\n",
       "      <th>(480.629, 599.453]</th>\n",
       "    </tr>\n",
       "    <tr>\n",
       "      <th>device</th>\n",
       "      <th></th>\n",
       "      <th></th>\n",
       "      <th></th>\n",
       "      <th></th>\n",
       "      <th></th>\n",
       "      <th></th>\n",
       "      <th></th>\n",
       "      <th></th>\n",
       "      <th></th>\n",
       "      <th></th>\n",
       "    </tr>\n",
       "  </thead>\n",
       "  <tbody>\n",
       "    <tr>\n",
       "      <th>False</th>\n",
       "      <td>0.176000</td>\n",
       "      <td>0.144000</td>\n",
       "      <td>0.136</td>\n",
       "      <td>0.14</td>\n",
       "      <td>0.104</td>\n",
       "      <td>0.020000</td>\n",
       "      <td>0.048000</td>\n",
       "      <td>0.080000</td>\n",
       "      <td>0.064</td>\n",
       "      <td>0.088</td>\n",
       "    </tr>\n",
       "    <tr>\n",
       "      <th>True</th>\n",
       "      <td>0.273333</td>\n",
       "      <td>0.222667</td>\n",
       "      <td>0.096</td>\n",
       "      <td>0.00</td>\n",
       "      <td>0.000</td>\n",
       "      <td>0.161333</td>\n",
       "      <td>0.169333</td>\n",
       "      <td>0.077333</td>\n",
       "      <td>0.000</td>\n",
       "      <td>0.000</td>\n",
       "    </tr>\n",
       "  </tbody>\n",
       "</table>\n",
       "</div>"
      ],
      "text/plain": [
       "purchased               False                                      \\\n",
       "time on site (4.738, 124.156] (124.156, 242.98] (242.98, 361.804]   \n",
       "device                                                              \n",
       "False                0.176000          0.144000             0.136   \n",
       "True                 0.273333          0.222667             0.096   \n",
       "\n",
       "purchased                                                     True   \\\n",
       "time on site (361.804, 480.629] (480.629, 599.453] (4.738, 124.156]   \n",
       "device                                                                \n",
       "False                      0.14              0.104         0.020000   \n",
       "True                       0.00              0.000         0.161333   \n",
       "\n",
       "purchased                                                            \\\n",
       "time on site (124.156, 242.98] (242.98, 361.804] (361.804, 480.629]   \n",
       "device                                                                \n",
       "False                 0.048000          0.080000              0.064   \n",
       "True                  0.169333          0.077333              0.000   \n",
       "\n",
       "purchased                        \n",
       "time on site (480.629, 599.453]  \n",
       "device                           \n",
       "False                     0.088  \n",
       "True                      0.000  "
      ]
     },
     "execution_count": 13,
     "metadata": {},
     "output_type": "execute_result"
    }
   ],
   "source": [
    "# Yep, mobile users are more likely to buy things\n",
    "# But we're still not seeing the *whole* story until we look at all 3 at once\n",
    "\n",
    "# Live/stretch goal - how can we do that?\n",
    "pd.crosstab(user_data['mobile'], [user_data['purchased'], time_bins],\n",
    "           rownames=['device'],\n",
    "           colnames=['purchased','time on site'],\n",
    "           normalize='index') "
   ]
  },
  {
   "cell_type": "markdown",
   "metadata": {
    "colab_type": "text",
    "id": "lOqaPds9huME"
   },
   "source": [
    "## Assignment - what's going on here?\n",
    "\n",
    "Consider the data in `persons.csv` (already prepared for you, in the repo for the week). It has four columns - a unique id, followed by age (in years), weight (in lbs), and exercise time (in minutes/week) of 1200 (hypothetical) people.\n",
    "\n",
    "Try to figure out which variables are possibly related to each other, and which may be confounding relationships."
   ]
  },
  {
   "cell_type": "code",
   "execution_count": 14,
   "metadata": {
    "colab": {},
    "colab_type": "code",
    "id": "TGUS79cOhPWj"
   },
   "outputs": [
    {
     "data": {
      "text/html": [
       "<div>\n",
       "<style scoped>\n",
       "    .dataframe tbody tr th:only-of-type {\n",
       "        vertical-align: middle;\n",
       "    }\n",
       "\n",
       "    .dataframe tbody tr th {\n",
       "        vertical-align: top;\n",
       "    }\n",
       "\n",
       "    .dataframe thead th {\n",
       "        text-align: right;\n",
       "    }\n",
       "</style>\n",
       "<table border=\"1\" class=\"dataframe\">\n",
       "  <thead>\n",
       "    <tr style=\"text-align: right;\">\n",
       "      <th></th>\n",
       "      <th>ID</th>\n",
       "      <th>age</th>\n",
       "      <th>weight</th>\n",
       "      <th>exercise_time</th>\n",
       "    </tr>\n",
       "  </thead>\n",
       "  <tbody>\n",
       "    <tr>\n",
       "      <th>0</th>\n",
       "      <td>0</td>\n",
       "      <td>44</td>\n",
       "      <td>118</td>\n",
       "      <td>192</td>\n",
       "    </tr>\n",
       "    <tr>\n",
       "      <th>1</th>\n",
       "      <td>1</td>\n",
       "      <td>41</td>\n",
       "      <td>161</td>\n",
       "      <td>35</td>\n",
       "    </tr>\n",
       "    <tr>\n",
       "      <th>2</th>\n",
       "      <td>2</td>\n",
       "      <td>46</td>\n",
       "      <td>128</td>\n",
       "      <td>220</td>\n",
       "    </tr>\n",
       "    <tr>\n",
       "      <th>3</th>\n",
       "      <td>3</td>\n",
       "      <td>39</td>\n",
       "      <td>216</td>\n",
       "      <td>57</td>\n",
       "    </tr>\n",
       "    <tr>\n",
       "      <th>4</th>\n",
       "      <td>4</td>\n",
       "      <td>28</td>\n",
       "      <td>116</td>\n",
       "      <td>182</td>\n",
       "    </tr>\n",
       "  </tbody>\n",
       "</table>\n",
       "</div>"
      ],
      "text/plain": [
       "   ID  age  weight  exercise_time\n",
       "0   0   44     118            192\n",
       "1   1   41     161             35\n",
       "2   2   46     128            220\n",
       "3   3   39     216             57\n",
       "4   4   28     116            182"
      ]
     },
     "execution_count": 14,
     "metadata": {},
     "output_type": "execute_result"
    }
   ],
   "source": [
    "# TODO - your code here\n",
    "# Use what we did live in lecture as an example\n",
    "\n",
    "# HINT - you can find the raw URL on GitHub and potentially use that\n",
    "# to load the data with read_csv, or you can upload it yourself\n",
    "pd.set_option('display.max_rows', 500)\n",
    "pd.set_option('display.max_columns', 500)\n",
    "pd.set_option('display.width', 1000)\n",
    "df = pd.read_csv('https://raw.githubusercontent.com/dwightchurchill/DS-Unit-1-Sprint-1-Dealing-With-Data/master/module4-databackedassertions/persons.csv')\n",
    "df = df.rename(columns={'Unnamed: 0':'ID'})\n",
    "df.head()\n"
   ]
  },
  {
   "cell_type": "code",
   "execution_count": 22,
   "metadata": {},
   "outputs": [],
   "source": [
    "exercise_time_bins = pd.cut(df.exercise_time,5)\n",
    "age_bins = pd.cut(df.age,5)\n",
    "weight_bins = pd.cut(df.weight,2)"
   ]
  },
  {
   "cell_type": "code",
   "execution_count": 16,
   "metadata": {},
   "outputs": [
    {
     "data": {
      "text/html": [
       "<div>\n",
       "<style scoped>\n",
       "    .dataframe tbody tr th:only-of-type {\n",
       "        vertical-align: middle;\n",
       "    }\n",
       "\n",
       "    .dataframe tbody tr th {\n",
       "        vertical-align: top;\n",
       "    }\n",
       "\n",
       "    .dataframe thead tr th {\n",
       "        text-align: left;\n",
       "    }\n",
       "\n",
       "    .dataframe thead tr:last-of-type th {\n",
       "        text-align: right;\n",
       "    }\n",
       "</style>\n",
       "<table border=\"1\" class=\"dataframe\">\n",
       "  <thead>\n",
       "    <tr>\n",
       "      <th>age</th>\n",
       "      <th colspan=\"2\" halign=\"left\">(17.938, 30.4]</th>\n",
       "      <th colspan=\"2\" halign=\"left\">(30.4, 42.8]</th>\n",
       "      <th colspan=\"2\" halign=\"left\">(42.8, 55.2]</th>\n",
       "      <th colspan=\"2\" halign=\"left\">(55.2, 67.6]</th>\n",
       "      <th colspan=\"2\" halign=\"left\">(67.6, 80.0]</th>\n",
       "    </tr>\n",
       "    <tr>\n",
       "      <th>weight</th>\n",
       "      <th>(99.854, 173.0]</th>\n",
       "      <th>(173.0, 246.0]</th>\n",
       "      <th>(99.854, 173.0]</th>\n",
       "      <th>(173.0, 246.0]</th>\n",
       "      <th>(99.854, 173.0]</th>\n",
       "      <th>(173.0, 246.0]</th>\n",
       "      <th>(99.854, 173.0]</th>\n",
       "      <th>(173.0, 246.0]</th>\n",
       "      <th>(99.854, 173.0]</th>\n",
       "      <th>(173.0, 246.0]</th>\n",
       "    </tr>\n",
       "    <tr>\n",
       "      <th>exercise_time</th>\n",
       "      <th></th>\n",
       "      <th></th>\n",
       "      <th></th>\n",
       "      <th></th>\n",
       "      <th></th>\n",
       "      <th></th>\n",
       "      <th></th>\n",
       "      <th></th>\n",
       "      <th></th>\n",
       "      <th></th>\n",
       "    </tr>\n",
       "  </thead>\n",
       "  <tbody>\n",
       "    <tr>\n",
       "      <th>(-0.3, 60.0]</th>\n",
       "      <td>0.111111</td>\n",
       "      <td>0.517241</td>\n",
       "      <td>0.126316</td>\n",
       "      <td>0.444444</td>\n",
       "      <td>0.113772</td>\n",
       "      <td>0.392857</td>\n",
       "      <td>0.116438</td>\n",
       "      <td>0.381579</td>\n",
       "      <td>0.306667</td>\n",
       "      <td>0.427083</td>\n",
       "    </tr>\n",
       "    <tr>\n",
       "      <th>(60.0, 120.0]</th>\n",
       "      <td>0.151515</td>\n",
       "      <td>0.275862</td>\n",
       "      <td>0.184211</td>\n",
       "      <td>0.317460</td>\n",
       "      <td>0.137725</td>\n",
       "      <td>0.339286</td>\n",
       "      <td>0.260274</td>\n",
       "      <td>0.434211</td>\n",
       "      <td>0.413333</td>\n",
       "      <td>0.416667</td>\n",
       "    </tr>\n",
       "    <tr>\n",
       "      <th>(120.0, 180.0]</th>\n",
       "      <td>0.212121</td>\n",
       "      <td>0.206897</td>\n",
       "      <td>0.168421</td>\n",
       "      <td>0.158730</td>\n",
       "      <td>0.173653</td>\n",
       "      <td>0.178571</td>\n",
       "      <td>0.205479</td>\n",
       "      <td>0.131579</td>\n",
       "      <td>0.220000</td>\n",
       "      <td>0.156250</td>\n",
       "    </tr>\n",
       "    <tr>\n",
       "      <th>(180.0, 240.0]</th>\n",
       "      <td>0.308081</td>\n",
       "      <td>0.000000</td>\n",
       "      <td>0.221053</td>\n",
       "      <td>0.079365</td>\n",
       "      <td>0.173653</td>\n",
       "      <td>0.089286</td>\n",
       "      <td>0.253425</td>\n",
       "      <td>0.052632</td>\n",
       "      <td>0.060000</td>\n",
       "      <td>0.000000</td>\n",
       "    </tr>\n",
       "    <tr>\n",
       "      <th>(240.0, 300.0]</th>\n",
       "      <td>0.217172</td>\n",
       "      <td>0.000000</td>\n",
       "      <td>0.300000</td>\n",
       "      <td>0.000000</td>\n",
       "      <td>0.401198</td>\n",
       "      <td>0.000000</td>\n",
       "      <td>0.164384</td>\n",
       "      <td>0.000000</td>\n",
       "      <td>0.000000</td>\n",
       "      <td>0.000000</td>\n",
       "    </tr>\n",
       "  </tbody>\n",
       "</table>\n",
       "</div>"
      ],
      "text/plain": [
       "age             (17.938, 30.4]                   (30.4, 42.8]                   (42.8, 55.2]                   (55.2, 67.6]                   (67.6, 80.0]               \n",
       "weight         (99.854, 173.0] (173.0, 246.0] (99.854, 173.0] (173.0, 246.0] (99.854, 173.0] (173.0, 246.0] (99.854, 173.0] (173.0, 246.0] (99.854, 173.0] (173.0, 246.0]\n",
       "exercise_time                                                                                                                                                            \n",
       "(-0.3, 60.0]          0.111111       0.517241        0.126316       0.444444        0.113772       0.392857        0.116438       0.381579        0.306667       0.427083\n",
       "(60.0, 120.0]         0.151515       0.275862        0.184211       0.317460        0.137725       0.339286        0.260274       0.434211        0.413333       0.416667\n",
       "(120.0, 180.0]        0.212121       0.206897        0.168421       0.158730        0.173653       0.178571        0.205479       0.131579        0.220000       0.156250\n",
       "(180.0, 240.0]        0.308081       0.000000        0.221053       0.079365        0.173653       0.089286        0.253425       0.052632        0.060000       0.000000\n",
       "(240.0, 300.0]        0.217172       0.000000        0.300000       0.000000        0.401198       0.000000        0.164384       0.000000        0.000000       0.000000"
      ]
     },
     "execution_count": 16,
     "metadata": {},
     "output_type": "execute_result"
    }
   ],
   "source": [
    "pd.crosstab(exercise_time_bins,[age_bins,weight_bins],\n",
    "            normalize='columns')"
   ]
  },
  {
   "cell_type": "code",
   "execution_count": 17,
   "metadata": {},
   "outputs": [
    {
     "data": {
      "image/png": "[encoded data removed]",
      "text/plain": [
       "<Figure size 432x288 with 1 Axes>"
      ]
     },
     "metadata": {
      "needs_background": "light"
     },
     "output_type": "display_data"
    }
   ],
   "source": [
    "sns.lineplot('weight','exercise_time',data=df);"
   ]
  },
  {
   "cell_type": "code",
   "execution_count": 18,
   "metadata": {},
   "outputs": [
    {
     "data": {
      "image/png": "[encoded data removed]",
      "text/plain": [
       "<Figure size 432x288 with 1 Axes>"
      ]
     },
     "metadata": {
      "needs_background": "light"
     },
     "output_type": "display_data"
    }
   ],
   "source": [
    "sns.lineplot('age','exercise_time',data=df);"
   ]
  },
  {
   "cell_type": "code",
   "execution_count": 19,
   "metadata": {},
   "outputs": [
    {
     "data": {
      "image/png": "[encoded data removed]",
      "text/plain": [
       "<Figure size 432x288 with 1 Axes>"
      ]
     },
     "metadata": {
      "needs_background": "light"
     },
     "output_type": "display_data"
    }
   ],
   "source": [
    "sns.lineplot('age','weight',data=df);"
   ]
  },
  {
   "cell_type": "code",
   "execution_count": 38,
   "metadata": {},
   "outputs": [
    {
     "data": {
      "image/png": "[encoded data removed]",
      "text/plain": [
       "<Figure size 414.625x360 with 1 Axes>"
      ]
     },
     "metadata": {
      "needs_background": "light"
     },
     "output_type": "display_data"
    }
   ],
   "source": [
    "new_age_bins = pd.cut(df.age,bins=[1])\n",
    "\n",
    "sns.relplot(x='exercise_time', y='weight', hue=new_age_bins,data=df);"
   ]
  },
  {
   "cell_type": "markdown",
   "metadata": {
    "colab_type": "text",
    "id": "BT9gdS7viJZa"
   },
   "source": [
    "### Assignment questions\n",
    "\n",
    "After you've worked on some code, answer the following questions in this text block:\n",
    "\n",
    "1.  What are the variable types in the data?\n",
    "    * Age is continuous\n",
    "    * Weight is discrete\n",
    "    * Exercise time is continuous (time and age are similar constructs) \n",
    "2.  What are the relationships between the variables?\n",
    "    * Young folks exercise more! \n",
    "    * People who weigh less exercise more! \n",
    "    * There isn't a blatant correlation between your age and weight\n",
    "3.  Which relationships are \"real\", and which spurious?\n",
    "    * The relationship between exercise time and weight is real \n",
    "    * The relationship between age and weight is spurious \n",
    "    * The relationship between exercise time and age is real\n"
   ]
  },
  {
   "cell_type": "markdown",
   "metadata": {
    "colab_type": "text",
    "id": "_XXg2crAipwP"
   },
   "source": [
    "## Stretch goals and resources\n",
    "\n",
    "Following are *optional* things for you to take a look at. Focus on the above assignment first, and make sure to commit and push your changes to GitHub.\n",
    "\n",
    "- [Spurious Correlations](http://tylervigen.com/spurious-correlations)\n",
    "- [NIH on controlling for confounding variables](https://www.ncbi.nlm.nih.gov/pmc/articles/PMC4017459/)\n",
    "\n",
    "Stretch goals:\n",
    "\n",
    "- Produce your own plot inspired by the Spurious Correlation visualizations (and consider writing a blog post about it - both the content and how you made it)\n",
    "- Pick one of the techniques that NIH highlights for confounding variables - we'll be going into many of them later, but see if you can find which Python modules may help (hint - check scikit-learn)"
   ]
  },
  {
   "cell_type": "code",
   "execution_count": null,
   "metadata": {},
   "outputs": [],
   "source": []
  }
 ],
 "metadata": {
  "colab": {
   "collapsed_sections": [],
   "name": "LS_DS_114_Making_Data_backed_Assertions.ipynb",
   "provenance": [],
   "version": "0.3.2"
  },
  "kernelspec": {
   "display_name": "Python 3",
   "language": "python",
   "name": "python3"
  },
  "language_info": {
   "codemirror_mode": {
    "name": "ipython",
    "version": 3
   },
   "file_extension": ".py",
   "mimetype": "text/x-python",
   "name": "python",
   "nbconvert_exporter": "python",
   "pygments_lexer": "ipython3",
   "version": "3.7.3"
  }
 },
 "nbformat": 4,
 "nbformat_minor": 2
}
