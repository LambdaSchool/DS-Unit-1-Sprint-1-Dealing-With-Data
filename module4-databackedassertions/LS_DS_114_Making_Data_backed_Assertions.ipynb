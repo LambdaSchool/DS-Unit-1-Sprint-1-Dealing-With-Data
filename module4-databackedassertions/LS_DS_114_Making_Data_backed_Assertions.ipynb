{
  "nbformat": 4,
  "nbformat_minor": 0,
  "metadata": {
    "colab": {
      "name": "LS DS 114 - Making Data-backed Assertions.ipynb",
      "version": "0.3.2",
      "provenance": [],
      "collapsed_sections": [],
      "include_colab_link": true
    },
    "kernelspec": {
      "name": "python3",
      "display_name": "Python 3"
    }
  },
  "cells": [
    {
      "cell_type": "markdown",
      "metadata": {
        "id": "view-in-github",
        "colab_type": "text"
      },
      "source": [
        "<a href=\"https://colab.research.google.com/github/donw385/DS-Sprint-01-Dealing-With-Data/blob/master/module4-databackedassertions/LS_DS_114_Making_Data_backed_Assertions.ipynb\" target=\"_parent\"><img src=\"https://colab.research.google.com/assets/colab-badge.svg\" alt=\"Open In Colab\"/></a>"
      ]
    },
    {
      "metadata": {
        "id": "Okfr_uhwhS1X",
        "colab_type": "text"
      },
      "cell_type": "markdown",
      "source": [
        "# Lambda School Data Science - Making Data-backed Assertions\n",
        "\n",
        "This is, for many, the main point of data science - to create and support reasoned arguments based on evidence. It's not a topic to master in a day, but it is worth some focused time thinking about and structuring your approach to it."
      ]
    },
    {
      "metadata": {
        "id": "9dtJETFRhnOG",
        "colab_type": "text"
      },
      "cell_type": "markdown",
      "source": [
        "## Lecture - generating a confounding variable\n",
        "\n",
        "The prewatch material told a story about a hypothetical health condition where both the drug usage and overall health outcome were related to gender - thus making gender a confounding variable, obfuscating the possible relationship between the drug and the outcome.\n",
        "\n",
        "Let's use Python to generate data that actually behaves in this fashion!"
      ]
    },
    {
      "metadata": {
        "id": "WiBkgmPJhmhE",
        "colab_type": "code",
        "outputId": "27230d64-0fc3-4f1f-e5f3-fea08fdee3b7",
        "colab": {
          "base_uri": "https://localhost:8080/",
          "height": 1033
        }
      },
      "cell_type": "code",
      "source": [
        "import matplotlib\n",
        "import matplotlib.pyplot as plt\n",
        "\n",
        "\n",
        "import numpy\n",
        "\n",
        "import random\n",
        "dir(random)  # Reminding ourselves what we can do here"
      ],
      "execution_count": 51,
      "outputs": [
        {
          "output_type": "execute_result",
          "data": {
            "text/plain": [
              "['BPF',\n",
              " 'LOG4',\n",
              " 'NV_MAGICCONST',\n",
              " 'RECIP_BPF',\n",
              " 'Random',\n",
              " 'SG_MAGICCONST',\n",
              " 'SystemRandom',\n",
              " 'TWOPI',\n",
              " '_BuiltinMethodType',\n",
              " '_MethodType',\n",
              " '_Sequence',\n",
              " '_Set',\n",
              " '__all__',\n",
              " '__builtins__',\n",
              " '__cached__',\n",
              " '__doc__',\n",
              " '__file__',\n",
              " '__loader__',\n",
              " '__name__',\n",
              " '__package__',\n",
              " '__spec__',\n",
              " '_acos',\n",
              " '_bisect',\n",
              " '_ceil',\n",
              " '_cos',\n",
              " '_e',\n",
              " '_exp',\n",
              " '_inst',\n",
              " '_itertools',\n",
              " '_log',\n",
              " '_pi',\n",
              " '_random',\n",
              " '_sha512',\n",
              " '_sin',\n",
              " '_sqrt',\n",
              " '_test',\n",
              " '_test_generator',\n",
              " '_urandom',\n",
              " '_warn',\n",
              " 'betavariate',\n",
              " 'choice',\n",
              " 'choices',\n",
              " 'expovariate',\n",
              " 'gammavariate',\n",
              " 'gauss',\n",
              " 'getrandbits',\n",
              " 'getstate',\n",
              " 'lognormvariate',\n",
              " 'normalvariate',\n",
              " 'paretovariate',\n",
              " 'randint',\n",
              " 'random',\n",
              " 'randrange',\n",
              " 'sample',\n",
              " 'seed',\n",
              " 'setstate',\n",
              " 'shuffle',\n",
              " 'triangular',\n",
              " 'uniform',\n",
              " 'vonmisesvariate',\n",
              " 'weibullvariate']"
            ]
          },
          "metadata": {
            "tags": []
          },
          "execution_count": 51
        }
      ]
    },
    {
      "metadata": {
        "id": "Ks5qFtpnq-q5",
        "colab_type": "code",
        "outputId": "01b7d321-de32-4fd3-a0e1-5a79714cb880",
        "colab": {
          "base_uri": "https://localhost:8080/",
          "height": 33
        }
      },
      "cell_type": "code",
      "source": [
        "# Let's think of another scenario:\n",
        "# We work for a company that sells accessories for mobile phones.\n",
        "# They have an ecommerce site, and we are supposed to analyze logs\n",
        "# to determine what sort of usage is related to purchases, and thus guide\n",
        "# website development to encourage higher conversion.\n",
        "\n",
        "# The hypothesis - users who spend longer on the site tend\n",
        "# to spend more. Seems reasonable, no?\n",
        "\n",
        "# But there's a confounding variable! If they're on a phone, they:\n",
        "# a) Spend less time on the site, but\n",
        "# b) Are more likely to be interested in the actual products!\n",
        "\n",
        "# Let's use namedtuple to represent our data\n",
        "\n",
        "from collections import namedtuple\n",
        "# purchased and mobile are bools, time_on_site in seconds\n",
        "User = namedtuple('User', ['purchased','time_on_site', 'mobile'])\n",
        "\n",
        "example_user = User(False, 12, False)\n",
        "print(example_user)"
      ],
      "execution_count": 0,
      "outputs": [
        {
          "output_type": "stream",
          "text": [
            "User(purchased=False, time_on_site=12, mobile=False)\n"
          ],
          "name": "stdout"
        }
      ]
    },
    {
      "metadata": {
        "id": "lfPiHNG_sefL",
        "colab_type": "code",
        "outputId": "01c5fccc-c838-49ba-fe17-ab8bfeba2579",
        "colab": {
          "base_uri": "https://localhost:8080/",
          "height": 53
        }
      },
      "cell_type": "code",
      "source": [
        "# And now let's generate 1000 example users\n",
        "# 750 mobile, 250 not (i.e. desktop)\n",
        "# A desktop user has a base conversion likelihood of 10%\n",
        "# And it goes up by 1% for each 15 seconds they spend on the site\n",
        "# And they spend anywhere from 10 seconds to 10 minutes on the site (uniform)\n",
        "# Mobile users spend on average half as much time on the site as desktop\n",
        "# But have twice as much base likelihood of buying something\n",
        "\n",
        "users = []\n",
        "\n",
        "for _ in range(250):\n",
        "  # Desktop users\n",
        "  time_on_site = random.uniform(10, 600)\n",
        "  purchased = random.random() < 0.1 + (time_on_site // 1500)\n",
        "  users.append(User(purchased, time_on_site, False))\n",
        "  \n",
        "for _ in range(750):\n",
        "  # Mobile users\n",
        "  time_on_site = random.uniform(5, 300)\n",
        "  purchased = random.random() < 0.2 + (time_on_site // 1500)\n",
        "  users.append(User(purchased, time_on_site, True))\n",
        "  \n",
        "random.shuffle(users)\n",
        "print(users[:10])"
      ],
      "execution_count": 0,
      "outputs": [
        {
          "output_type": "stream",
          "text": [
            "[User(purchased=True, time_on_site=51.27167908202069, mobile=True), User(purchased=True, time_on_site=218.39905655655537, mobile=True), User(purchased=False, time_on_site=293.8837856281192, mobile=True), User(purchased=False, time_on_site=210.6664621881297, mobile=True), User(purchased=False, time_on_site=73.30358974813367, mobile=False), User(purchased=False, time_on_site=191.36109094508433, mobile=True), User(purchased=False, time_on_site=202.86335335101984, mobile=True), User(purchased=False, time_on_site=25.46984971755341, mobile=True), User(purchased=False, time_on_site=157.24103230710188, mobile=True), User(purchased=False, time_on_site=395.6857842063654, mobile=False)]\n"
          ],
          "name": "stdout"
        }
      ]
    },
    {
      "metadata": {
        "id": "9gDYb5qGuRzy",
        "colab_type": "code",
        "outputId": "98df9b40-5a2f-422f-c184-eee21c661da4",
        "colab": {
          "base_uri": "https://localhost:8080/",
          "height": 197
        }
      },
      "cell_type": "code",
      "source": [
        "# Let's put this in a dataframe so we can look at it more easily\n",
        "import pandas as pd\n",
        "user_data = pd.DataFrame(users)\n",
        "user_data.head()"
      ],
      "execution_count": 0,
      "outputs": [
        {
          "output_type": "execute_result",
          "data": {
            "text/html": [
              "<div>\n",
              "<style scoped>\n",
              "    .dataframe tbody tr th:only-of-type {\n",
              "        vertical-align: middle;\n",
              "    }\n",
              "\n",
              "    .dataframe tbody tr th {\n",
              "        vertical-align: top;\n",
              "    }\n",
              "\n",
              "    .dataframe thead th {\n",
              "        text-align: right;\n",
              "    }\n",
              "</style>\n",
              "<table border=\"1\" class=\"dataframe\">\n",
              "  <thead>\n",
              "    <tr style=\"text-align: right;\">\n",
              "      <th></th>\n",
              "      <th>purchased</th>\n",
              "      <th>time_on_site</th>\n",
              "      <th>mobile</th>\n",
              "    </tr>\n",
              "  </thead>\n",
              "  <tbody>\n",
              "    <tr>\n",
              "      <th>0</th>\n",
              "      <td>True</td>\n",
              "      <td>51.271679</td>\n",
              "      <td>True</td>\n",
              "    </tr>\n",
              "    <tr>\n",
              "      <th>1</th>\n",
              "      <td>True</td>\n",
              "      <td>218.399057</td>\n",
              "      <td>True</td>\n",
              "    </tr>\n",
              "    <tr>\n",
              "      <th>2</th>\n",
              "      <td>False</td>\n",
              "      <td>293.883786</td>\n",
              "      <td>True</td>\n",
              "    </tr>\n",
              "    <tr>\n",
              "      <th>3</th>\n",
              "      <td>False</td>\n",
              "      <td>210.666462</td>\n",
              "      <td>True</td>\n",
              "    </tr>\n",
              "    <tr>\n",
              "      <th>4</th>\n",
              "      <td>False</td>\n",
              "      <td>73.303590</td>\n",
              "      <td>False</td>\n",
              "    </tr>\n",
              "  </tbody>\n",
              "</table>\n",
              "</div>"
            ],
            "text/plain": [
              "   purchased  time_on_site  mobile\n",
              "0       True     51.271679    True\n",
              "1       True    218.399057    True\n",
              "2      False    293.883786    True\n",
              "3      False    210.666462    True\n",
              "4      False     73.303590   False"
            ]
          },
          "metadata": {
            "tags": []
          },
          "execution_count": 5
        }
      ]
    },
    {
      "metadata": {
        "id": "sr6IJv77ulVl",
        "colab_type": "code",
        "outputId": "93d57570-3e9a-4b5b-ac45-65b0481a0f8d",
        "colab": {
          "base_uri": "https://localhost:8080/",
          "height": 187
        }
      },
      "cell_type": "code",
      "source": [
        "# Let's use crosstabulation to try to see what's going on\n",
        "pd.crosstab(user_data['purchased'], user_data['time_on_site'])"
      ],
      "execution_count": 0,
      "outputs": [
        {
          "output_type": "execute_result",
          "data": {
            "text/html": [
              "<div>\n",
              "<style scoped>\n",
              "    .dataframe tbody tr th:only-of-type {\n",
              "        vertical-align: middle;\n",
              "    }\n",
              "\n",
              "    .dataframe tbody tr th {\n",
              "        vertical-align: top;\n",
              "    }\n",
              "\n",
              "    .dataframe thead th {\n",
              "        text-align: right;\n",
              "    }\n",
              "</style>\n",
              "<table border=\"1\" class=\"dataframe\">\n",
              "  <thead>\n",
              "    <tr style=\"text-align: right;\">\n",
              "      <th>time_on_site</th>\n",
              "      <th>5.23970985040799</th>\n",
              "      <th>5.705512750941858</th>\n",
              "      <th>6.316870902692591</th>\n",
              "      <th>6.6080795023116465</th>\n",
              "      <th>7.160169977941848</th>\n",
              "      <th>7.96000458456959</th>\n",
              "      <th>9.534041392409522</th>\n",
              "      <th>9.829020078035184</th>\n",
              "      <th>10.023366924817001</th>\n",
              "      <th>10.13096640376069</th>\n",
              "      <th>...</th>\n",
              "      <th>568.3228834818145</th>\n",
              "      <th>569.3061651165532</th>\n",
              "      <th>570.2977104816991</th>\n",
              "      <th>570.8402803413865</th>\n",
              "      <th>577.4514517200215</th>\n",
              "      <th>578.0620436880133</th>\n",
              "      <th>583.3963861896933</th>\n",
              "      <th>585.6557655610828</th>\n",
              "      <th>591.8423073884194</th>\n",
              "      <th>597.1060871155424</th>\n",
              "    </tr>\n",
              "    <tr>\n",
              "      <th>purchased</th>\n",
              "      <th></th>\n",
              "      <th></th>\n",
              "      <th></th>\n",
              "      <th></th>\n",
              "      <th></th>\n",
              "      <th></th>\n",
              "      <th></th>\n",
              "      <th></th>\n",
              "      <th></th>\n",
              "      <th></th>\n",
              "      <th></th>\n",
              "      <th></th>\n",
              "      <th></th>\n",
              "      <th></th>\n",
              "      <th></th>\n",
              "      <th></th>\n",
              "      <th></th>\n",
              "      <th></th>\n",
              "      <th></th>\n",
              "      <th></th>\n",
              "      <th></th>\n",
              "    </tr>\n",
              "  </thead>\n",
              "  <tbody>\n",
              "    <tr>\n",
              "      <th>False</th>\n",
              "      <td>1</td>\n",
              "      <td>0</td>\n",
              "      <td>1</td>\n",
              "      <td>1</td>\n",
              "      <td>1</td>\n",
              "      <td>1</td>\n",
              "      <td>1</td>\n",
              "      <td>1</td>\n",
              "      <td>1</td>\n",
              "      <td>1</td>\n",
              "      <td>...</td>\n",
              "      <td>1</td>\n",
              "      <td>1</td>\n",
              "      <td>1</td>\n",
              "      <td>1</td>\n",
              "      <td>1</td>\n",
              "      <td>1</td>\n",
              "      <td>1</td>\n",
              "      <td>1</td>\n",
              "      <td>1</td>\n",
              "      <td>1</td>\n",
              "    </tr>\n",
              "    <tr>\n",
              "      <th>True</th>\n",
              "      <td>0</td>\n",
              "      <td>1</td>\n",
              "      <td>0</td>\n",
              "      <td>0</td>\n",
              "      <td>0</td>\n",
              "      <td>0</td>\n",
              "      <td>0</td>\n",
              "      <td>0</td>\n",
              "      <td>0</td>\n",
              "      <td>0</td>\n",
              "      <td>...</td>\n",
              "      <td>0</td>\n",
              "      <td>0</td>\n",
              "      <td>0</td>\n",
              "      <td>0</td>\n",
              "      <td>0</td>\n",
              "      <td>0</td>\n",
              "      <td>0</td>\n",
              "      <td>0</td>\n",
              "      <td>0</td>\n",
              "      <td>0</td>\n",
              "    </tr>\n",
              "  </tbody>\n",
              "</table>\n",
              "<p>2 rows × 1000 columns</p>\n",
              "</div>"
            ],
            "text/plain": [
              "time_on_site  5.239710    5.705513    6.316871    6.608080    7.160170    \\\n",
              "purchased                                                                  \n",
              "False                  1           0           1           1           1   \n",
              "True                   0           1           0           0           0   \n",
              "\n",
              "time_on_site  7.960005    9.534041    9.829020    10.023367   10.130966   \\\n",
              "purchased                                                                  \n",
              "False                  1           1           1           1           1   \n",
              "True                   0           0           0           0           0   \n",
              "\n",
              "time_on_site     ...      568.322883  569.306165  570.297710  570.840280  \\\n",
              "purchased        ...                                                       \n",
              "False            ...               1           1           1           1   \n",
              "True             ...               0           0           0           0   \n",
              "\n",
              "time_on_site  577.451452  578.062044  583.396386  585.655766  591.842307  \\\n",
              "purchased                                                                  \n",
              "False                  1           1           1           1           1   \n",
              "True                   0           0           0           0           0   \n",
              "\n",
              "time_on_site  597.106087  \n",
              "purchased                 \n",
              "False                  1  \n",
              "True                   0  \n",
              "\n",
              "[2 rows x 1000 columns]"
            ]
          },
          "metadata": {
            "tags": []
          },
          "execution_count": 6
        }
      ]
    },
    {
      "metadata": {
        "id": "hvAv6J3EwA9s",
        "colab_type": "code",
        "outputId": "fed8c5fb-4928-4095-d0e5-1c866a62af2f",
        "colab": {
          "base_uri": "https://localhost:8080/",
          "height": 137
        }
      },
      "cell_type": "code",
      "source": [
        "# OK, that's not quite what we want\n",
        "# Time is continuous! We need to put it in discrete buckets\n",
        "# Pandas calls these bins, and pandas.cut helps make them\n",
        "\n",
        "time_bins = pd.cut(user_data['time_on_site'], 5)  # 5 equal-sized bins\n",
        "pd.crosstab(user_data['purchased'], time_bins)"
      ],
      "execution_count": 0,
      "outputs": [
        {
          "output_type": "execute_result",
          "data": {
            "text/html": [
              "<div>\n",
              "<style scoped>\n",
              "    .dataframe tbody tr th:only-of-type {\n",
              "        vertical-align: middle;\n",
              "    }\n",
              "\n",
              "    .dataframe tbody tr th {\n",
              "        vertical-align: top;\n",
              "    }\n",
              "\n",
              "    .dataframe thead th {\n",
              "        text-align: right;\n",
              "    }\n",
              "</style>\n",
              "<table border=\"1\" class=\"dataframe\">\n",
              "  <thead>\n",
              "    <tr style=\"text-align: right;\">\n",
              "      <th>time_on_site</th>\n",
              "      <th>(4.648, 123.613]</th>\n",
              "      <th>(123.613, 241.986]</th>\n",
              "      <th>(241.986, 360.36]</th>\n",
              "      <th>(360.36, 478.733]</th>\n",
              "      <th>(478.733, 597.106]</th>\n",
              "    </tr>\n",
              "    <tr>\n",
              "      <th>purchased</th>\n",
              "      <th></th>\n",
              "      <th></th>\n",
              "      <th></th>\n",
              "      <th></th>\n",
              "      <th></th>\n",
              "    </tr>\n",
              "  </thead>\n",
              "  <tbody>\n",
              "    <tr>\n",
              "      <th>False</th>\n",
              "      <td>269</td>\n",
              "      <td>278</td>\n",
              "      <td>162</td>\n",
              "      <td>47</td>\n",
              "      <td>45</td>\n",
              "    </tr>\n",
              "    <tr>\n",
              "      <th>True</th>\n",
              "      <td>70</td>\n",
              "      <td>79</td>\n",
              "      <td>39</td>\n",
              "      <td>7</td>\n",
              "      <td>4</td>\n",
              "    </tr>\n",
              "  </tbody>\n",
              "</table>\n",
              "</div>"
            ],
            "text/plain": [
              "time_on_site  (4.648, 123.613]  (123.613, 241.986]  (241.986, 360.36]  \\\n",
              "purchased                                                               \n",
              "False                      269                 278                162   \n",
              "True                        70                  79                 39   \n",
              "\n",
              "time_on_site  (360.36, 478.733]  (478.733, 597.106]  \n",
              "purchased                                            \n",
              "False                        47                  45  \n",
              "True                          7                   4  "
            ]
          },
          "metadata": {
            "tags": []
          },
          "execution_count": 7
        }
      ]
    },
    {
      "metadata": {
        "id": "pjcXnJw0wfaj",
        "colab_type": "code",
        "outputId": "f1ba85cf-5791-452d-df86-e6d70b4ca552",
        "colab": {
          "base_uri": "https://localhost:8080/",
          "height": 137
        }
      },
      "cell_type": "code",
      "source": [
        "# We can make this a bit clearer by normalizing (getting %)\n",
        "pd.crosstab(user_data['purchased'], time_bins, normalize='columns')"
      ],
      "execution_count": 0,
      "outputs": [
        {
          "output_type": "execute_result",
          "data": {
            "text/html": [
              "<div>\n",
              "<style scoped>\n",
              "    .dataframe tbody tr th:only-of-type {\n",
              "        vertical-align: middle;\n",
              "    }\n",
              "\n",
              "    .dataframe tbody tr th {\n",
              "        vertical-align: top;\n",
              "    }\n",
              "\n",
              "    .dataframe thead th {\n",
              "        text-align: right;\n",
              "    }\n",
              "</style>\n",
              "<table border=\"1\" class=\"dataframe\">\n",
              "  <thead>\n",
              "    <tr style=\"text-align: right;\">\n",
              "      <th>time_on_site</th>\n",
              "      <th>(4.648, 123.613]</th>\n",
              "      <th>(123.613, 241.986]</th>\n",
              "      <th>(241.986, 360.36]</th>\n",
              "      <th>(360.36, 478.733]</th>\n",
              "      <th>(478.733, 597.106]</th>\n",
              "    </tr>\n",
              "    <tr>\n",
              "      <th>purchased</th>\n",
              "      <th></th>\n",
              "      <th></th>\n",
              "      <th></th>\n",
              "      <th></th>\n",
              "      <th></th>\n",
              "    </tr>\n",
              "  </thead>\n",
              "  <tbody>\n",
              "    <tr>\n",
              "      <th>False</th>\n",
              "      <td>0.79351</td>\n",
              "      <td>0.778711</td>\n",
              "      <td>0.80597</td>\n",
              "      <td>0.87037</td>\n",
              "      <td>0.918367</td>\n",
              "    </tr>\n",
              "    <tr>\n",
              "      <th>True</th>\n",
              "      <td>0.20649</td>\n",
              "      <td>0.221289</td>\n",
              "      <td>0.19403</td>\n",
              "      <td>0.12963</td>\n",
              "      <td>0.081633</td>\n",
              "    </tr>\n",
              "  </tbody>\n",
              "</table>\n",
              "</div>"
            ],
            "text/plain": [
              "time_on_site  (4.648, 123.613]  (123.613, 241.986]  (241.986, 360.36]  \\\n",
              "purchased                                                               \n",
              "False                  0.79351            0.778711            0.80597   \n",
              "True                   0.20649            0.221289            0.19403   \n",
              "\n",
              "time_on_site  (360.36, 478.733]  (478.733, 597.106]  \n",
              "purchased                                            \n",
              "False                   0.87037            0.918367  \n",
              "True                    0.12963            0.081633  "
            ]
          },
          "metadata": {
            "tags": []
          },
          "execution_count": 8
        }
      ]
    },
    {
      "metadata": {
        "id": "C3GzvDxlvZMa",
        "colab_type": "code",
        "outputId": "a2fffb09-e051-4850-f584-3b030ad72c0d",
        "colab": {
          "base_uri": "https://localhost:8080/",
          "height": 137
        }
      },
      "cell_type": "code",
      "source": [
        "# That seems counter to our hypothesis\n",
        "# More time on the site seems to have fewer purchases\n",
        "\n",
        "# But we know why, since we generated the data!\n",
        "# Let's look at mobile and purchased\n",
        "pd.crosstab(user_data['purchased'], user_data['mobile'], normalize='columns')"
      ],
      "execution_count": 0,
      "outputs": [
        {
          "output_type": "execute_result",
          "data": {
            "text/html": [
              "<div>\n",
              "<style scoped>\n",
              "    .dataframe tbody tr th:only-of-type {\n",
              "        vertical-align: middle;\n",
              "    }\n",
              "\n",
              "    .dataframe tbody tr th {\n",
              "        vertical-align: top;\n",
              "    }\n",
              "\n",
              "    .dataframe thead th {\n",
              "        text-align: right;\n",
              "    }\n",
              "</style>\n",
              "<table border=\"1\" class=\"dataframe\">\n",
              "  <thead>\n",
              "    <tr style=\"text-align: right;\">\n",
              "      <th>mobile</th>\n",
              "      <th>False</th>\n",
              "      <th>True</th>\n",
              "    </tr>\n",
              "    <tr>\n",
              "      <th>purchased</th>\n",
              "      <th></th>\n",
              "      <th></th>\n",
              "    </tr>\n",
              "  </thead>\n",
              "  <tbody>\n",
              "    <tr>\n",
              "      <th>False</th>\n",
              "      <td>0.876</td>\n",
              "      <td>0.776</td>\n",
              "    </tr>\n",
              "    <tr>\n",
              "      <th>True</th>\n",
              "      <td>0.124</td>\n",
              "      <td>0.224</td>\n",
              "    </tr>\n",
              "  </tbody>\n",
              "</table>\n",
              "</div>"
            ],
            "text/plain": [
              "mobile     False  True \n",
              "purchased              \n",
              "False      0.876  0.776\n",
              "True       0.124  0.224"
            ]
          },
          "metadata": {
            "tags": []
          },
          "execution_count": 9
        }
      ]
    },
    {
      "metadata": {
        "id": "KQb-wU60xCum",
        "colab_type": "code",
        "outputId": "ca6a8687-6196-422e-dc6a-ed35e8d51790",
        "colab": {
          "base_uri": "https://localhost:8080/",
          "height": 257
        }
      },
      "cell_type": "code",
      "source": [
        "# Yep, mobile users are more likely to buy things\n",
        "# But we're still not seeing the *whole* story until we look at all 3 at once\n",
        "\n",
        "# Live/stretch goal - how can we do that?\n",
        "\n",
        "a= time_bins\n",
        "b = user_data['purchased']\n",
        "c = user_data['mobile']\n",
        "\n",
        "\n",
        "pd.crosstab(a, [b, c], rownames=['time_bins'], colnames=['purchased', 'mobile'], normalize='index')"
      ],
      "execution_count": 0,
      "outputs": [
        {
          "output_type": "execute_result",
          "data": {
            "text/html": [
              "<div>\n",
              "<style scoped>\n",
              "    .dataframe tbody tr th:only-of-type {\n",
              "        vertical-align: middle;\n",
              "    }\n",
              "\n",
              "    .dataframe tbody tr th {\n",
              "        vertical-align: top;\n",
              "    }\n",
              "\n",
              "    .dataframe thead tr th {\n",
              "        text-align: left;\n",
              "    }\n",
              "\n",
              "    .dataframe thead tr:last-of-type th {\n",
              "        text-align: right;\n",
              "    }\n",
              "</style>\n",
              "<table border=\"1\" class=\"dataframe\">\n",
              "  <thead>\n",
              "    <tr>\n",
              "      <th>purchased</th>\n",
              "      <th colspan=\"2\" halign=\"left\">False</th>\n",
              "      <th colspan=\"2\" halign=\"left\">True</th>\n",
              "    </tr>\n",
              "    <tr>\n",
              "      <th>mobile</th>\n",
              "      <th>False</th>\n",
              "      <th>True</th>\n",
              "      <th>False</th>\n",
              "      <th>True</th>\n",
              "    </tr>\n",
              "    <tr>\n",
              "      <th>time_bins</th>\n",
              "      <th></th>\n",
              "      <th></th>\n",
              "      <th></th>\n",
              "      <th></th>\n",
              "    </tr>\n",
              "  </thead>\n",
              "  <tbody>\n",
              "    <tr>\n",
              "      <th>(4.648, 123.613]</th>\n",
              "      <td>0.117994</td>\n",
              "      <td>0.675516</td>\n",
              "      <td>0.026549</td>\n",
              "      <td>0.179941</td>\n",
              "    </tr>\n",
              "    <tr>\n",
              "      <th>(123.613, 241.986]</th>\n",
              "      <td>0.128852</td>\n",
              "      <td>0.649860</td>\n",
              "      <td>0.008403</td>\n",
              "      <td>0.212885</td>\n",
              "    </tr>\n",
              "    <tr>\n",
              "      <th>(241.986, 360.36]</th>\n",
              "      <td>0.203980</td>\n",
              "      <td>0.601990</td>\n",
              "      <td>0.039801</td>\n",
              "      <td>0.154229</td>\n",
              "    </tr>\n",
              "    <tr>\n",
              "      <th>(360.36, 478.733]</th>\n",
              "      <td>0.870370</td>\n",
              "      <td>0.000000</td>\n",
              "      <td>0.129630</td>\n",
              "      <td>0.000000</td>\n",
              "    </tr>\n",
              "    <tr>\n",
              "      <th>(478.733, 597.106]</th>\n",
              "      <td>0.918367</td>\n",
              "      <td>0.000000</td>\n",
              "      <td>0.081633</td>\n",
              "      <td>0.000000</td>\n",
              "    </tr>\n",
              "  </tbody>\n",
              "</table>\n",
              "</div>"
            ],
            "text/plain": [
              "purchased              False               True           \n",
              "mobile                 False     True      False     True \n",
              "time_bins                                                 \n",
              "(4.648, 123.613]    0.117994  0.675516  0.026549  0.179941\n",
              "(123.613, 241.986]  0.128852  0.649860  0.008403  0.212885\n",
              "(241.986, 360.36]   0.203980  0.601990  0.039801  0.154229\n",
              "(360.36, 478.733]   0.870370  0.000000  0.129630  0.000000\n",
              "(478.733, 597.106]  0.918367  0.000000  0.081633  0.000000"
            ]
          },
          "metadata": {
            "tags": []
          },
          "execution_count": 13
        }
      ]
    },
    {
      "metadata": {
        "id": "Z6hhSlwO6UbE",
        "colab_type": "code",
        "outputId": "1567e474-f917-45da-d0e6-a00f8444f3c9",
        "colab": {
          "base_uri": "https://localhost:8080/",
          "height": 137
        }
      },
      "cell_type": "code",
      "source": [
        "user_data.corr()"
      ],
      "execution_count": 0,
      "outputs": [
        {
          "output_type": "execute_result",
          "data": {
            "text/html": [
              "<div>\n",
              "<style scoped>\n",
              "    .dataframe tbody tr th:only-of-type {\n",
              "        vertical-align: middle;\n",
              "    }\n",
              "\n",
              "    .dataframe tbody tr th {\n",
              "        vertical-align: top;\n",
              "    }\n",
              "\n",
              "    .dataframe thead th {\n",
              "        text-align: right;\n",
              "    }\n",
              "</style>\n",
              "<table border=\"1\" class=\"dataframe\">\n",
              "  <thead>\n",
              "    <tr style=\"text-align: right;\">\n",
              "      <th></th>\n",
              "      <th>purchased</th>\n",
              "      <th>time_on_site</th>\n",
              "      <th>mobile</th>\n",
              "    </tr>\n",
              "  </thead>\n",
              "  <tbody>\n",
              "    <tr>\n",
              "      <th>purchased</th>\n",
              "      <td>1.000000</td>\n",
              "      <td>-0.054904</td>\n",
              "      <td>0.108457</td>\n",
              "    </tr>\n",
              "    <tr>\n",
              "      <th>time_on_site</th>\n",
              "      <td>-0.054904</td>\n",
              "      <td>1.000000</td>\n",
              "      <td>-0.500495</td>\n",
              "    </tr>\n",
              "    <tr>\n",
              "      <th>mobile</th>\n",
              "      <td>0.108457</td>\n",
              "      <td>-0.500495</td>\n",
              "      <td>1.000000</td>\n",
              "    </tr>\n",
              "  </tbody>\n",
              "</table>\n",
              "</div>"
            ],
            "text/plain": [
              "              purchased  time_on_site    mobile\n",
              "purchased      1.000000     -0.054904  0.108457\n",
              "time_on_site  -0.054904      1.000000 -0.500495\n",
              "mobile         0.108457     -0.500495  1.000000"
            ]
          },
          "metadata": {
            "tags": []
          },
          "execution_count": 15
        }
      ]
    },
    {
      "metadata": {
        "id": "S9Af6G-27YV3",
        "colab_type": "code",
        "outputId": "5bcbf030-5d3a-4b5a-be4c-2d06f94bfd2c",
        "colab": {
          "base_uri": "https://localhost:8080/",
          "height": 347
        }
      },
      "cell_type": "code",
      "source": [
        "user_data['time_on_site'].plot.density()\n",
        "plot.show()"
      ],
      "execution_count": 0,
      "outputs": [
        {
          "output_type": "display_data",
          "data": {
            "image/png": "[encoded data removed]",
            "text/plain": [
              "<matplotlib.figure.Figure at 0x7fe96c7daf60>"
            ]
          },
          "metadata": {
            "tags": []
          }
        }
      ]
    },
    {
      "metadata": {
        "id": "7M4J6ma99X--",
        "colab_type": "code",
        "outputId": "44f7e95c-0559-4071-8c5f-748067f8a642",
        "colab": {
          "base_uri": "https://localhost:8080/",
          "height": 348
        }
      },
      "cell_type": "code",
      "source": [
        "user_data['time_on_site'].plot.hist(bins=20)\n",
        "plot.show()"
      ],
      "execution_count": 0,
      "outputs": [
        {
          "output_type": "display_data",
          "data": {
            "image/png": "[encoded data removed]",
            "text/plain": [
              "<matplotlib.figure.Figure at 0x7fe969e66b38>"
            ]
          },
          "metadata": {
            "tags": []
          }
        }
      ]
    },
    {
      "metadata": {
        "id": "lOqaPds9huME",
        "colab_type": "text"
      },
      "cell_type": "markdown",
      "source": [
        "## Assignment - what's going on here?\n",
        "\n",
        "Consider the data in `persons.csv` (already prepared for you, in the repo for the week). It has four columns - a unique id, followed by age (in years), weight (in lbs), and exercise time (in minutes/week) of 1200 (hypothetical) people.\n",
        "\n",
        "Try to figure out which variables are possibly related to each other, and which may be confounding relationships."
      ]
    },
    {
      "metadata": {
        "id": "TGUS79cOhPWj",
        "colab_type": "code",
        "colab": {
          "base_uri": "https://localhost:8080/",
          "height": 197
        },
        "outputId": "efa88d69-a325-4b5f-9aae-a34104ee3c39"
      },
      "cell_type": "code",
      "source": [
        "# TODO - your code here\n",
        "# Use what we did live in lecture as an example\n",
        "\n",
        "# HINT - you can find the raw URL on GitHub and potentially use that\n",
        "# to load the data with read_csv, or you can upload it yourself\n",
        "\n",
        "persons = pd.read_csv('https://raw.githubusercontent.com/donw385/DS-Sprint-01-Dealing-With-Data/master/module4-databackedassertions/persons.csv')\n",
        "persons.head()\n",
        "\n"
      ],
      "execution_count": 45,
      "outputs": [
        {
          "output_type": "execute_result",
          "data": {
            "text/html": [
              "<div>\n",
              "<style scoped>\n",
              "    .dataframe tbody tr th:only-of-type {\n",
              "        vertical-align: middle;\n",
              "    }\n",
              "\n",
              "    .dataframe tbody tr th {\n",
              "        vertical-align: top;\n",
              "    }\n",
              "\n",
              "    .dataframe thead th {\n",
              "        text-align: right;\n",
              "    }\n",
              "</style>\n",
              "<table border=\"1\" class=\"dataframe\">\n",
              "  <thead>\n",
              "    <tr style=\"text-align: right;\">\n",
              "      <th></th>\n",
              "      <th>Unnamed: 0</th>\n",
              "      <th>age</th>\n",
              "      <th>weight</th>\n",
              "      <th>exercise_time</th>\n",
              "    </tr>\n",
              "  </thead>\n",
              "  <tbody>\n",
              "    <tr>\n",
              "      <th>0</th>\n",
              "      <td>0</td>\n",
              "      <td>44</td>\n",
              "      <td>118</td>\n",
              "      <td>192</td>\n",
              "    </tr>\n",
              "    <tr>\n",
              "      <th>1</th>\n",
              "      <td>1</td>\n",
              "      <td>41</td>\n",
              "      <td>161</td>\n",
              "      <td>35</td>\n",
              "    </tr>\n",
              "    <tr>\n",
              "      <th>2</th>\n",
              "      <td>2</td>\n",
              "      <td>46</td>\n",
              "      <td>128</td>\n",
              "      <td>220</td>\n",
              "    </tr>\n",
              "    <tr>\n",
              "      <th>3</th>\n",
              "      <td>3</td>\n",
              "      <td>39</td>\n",
              "      <td>216</td>\n",
              "      <td>57</td>\n",
              "    </tr>\n",
              "    <tr>\n",
              "      <th>4</th>\n",
              "      <td>4</td>\n",
              "      <td>28</td>\n",
              "      <td>116</td>\n",
              "      <td>182</td>\n",
              "    </tr>\n",
              "  </tbody>\n",
              "</table>\n",
              "</div>"
            ],
            "text/plain": [
              "   Unnamed: 0  age  weight  exercise_time\n",
              "0           0   44     118            192\n",
              "1           1   41     161             35\n",
              "2           2   46     128            220\n",
              "3           3   39     216             57\n",
              "4           4   28     116            182"
            ]
          },
          "metadata": {
            "tags": []
          },
          "execution_count": 45
        }
      ]
    },
    {
      "metadata": {
        "id": "H7w0dOfWUR2F",
        "colab_type": "code",
        "colab": {
          "base_uri": "https://localhost:8080/",
          "height": 373
        },
        "outputId": "571aa6ea-6377-4561-8076-b337c261394c"
      },
      "cell_type": "code",
      "source": [
        "time_bins = pd.cut(persons['exercise_time'], 5)  # 5 equal-sized bins\n",
        "age_bins = pd.cut(persons['age'], 5)\n",
        "weight_bins = pd.cut(persons['weight'], 5)\n",
        "\n",
        "a= time_bins\n",
        "b = age_bins\n",
        "c = weight_bins\n",
        "\n",
        "\n",
        "pd.crosstab(a, [b, c], rownames=['time_bins'], colnames=['age_bins', 'weight_bins'], normalize='index')"
      ],
      "execution_count": 60,
      "outputs": [
        {
          "output_type": "execute_result",
          "data": {
            "text/html": [
              "<div>\n",
              "<style scoped>\n",
              "    .dataframe tbody tr th:only-of-type {\n",
              "        vertical-align: middle;\n",
              "    }\n",
              "\n",
              "    .dataframe tbody tr th {\n",
              "        vertical-align: top;\n",
              "    }\n",
              "\n",
              "    .dataframe thead tr th {\n",
              "        text-align: left;\n",
              "    }\n",
              "\n",
              "    .dataframe thead tr:last-of-type th {\n",
              "        text-align: right;\n",
              "    }\n",
              "</style>\n",
              "<table border=\"1\" class=\"dataframe\">\n",
              "  <thead>\n",
              "    <tr>\n",
              "      <th>age_bins</th>\n",
              "      <th colspan=\"5\" halign=\"left\">(17.938, 30.4]</th>\n",
              "      <th colspan=\"5\" halign=\"left\">(30.4, 42.8]</th>\n",
              "      <th>...</th>\n",
              "      <th colspan=\"5\" halign=\"left\">(55.2, 67.6]</th>\n",
              "      <th colspan=\"5\" halign=\"left\">(67.6, 80.0]</th>\n",
              "    </tr>\n",
              "    <tr>\n",
              "      <th>weight_bins</th>\n",
              "      <th>(99.854, 129.2]</th>\n",
              "      <th>(129.2, 158.4]</th>\n",
              "      <th>(158.4, 187.6]</th>\n",
              "      <th>(187.6, 216.8]</th>\n",
              "      <th>(216.8, 246.0]</th>\n",
              "      <th>(99.854, 129.2]</th>\n",
              "      <th>(129.2, 158.4]</th>\n",
              "      <th>(158.4, 187.6]</th>\n",
              "      <th>(187.6, 216.8]</th>\n",
              "      <th>(216.8, 246.0]</th>\n",
              "      <th>...</th>\n",
              "      <th>(99.854, 129.2]</th>\n",
              "      <th>(129.2, 158.4]</th>\n",
              "      <th>(158.4, 187.6]</th>\n",
              "      <th>(187.6, 216.8]</th>\n",
              "      <th>(216.8, 246.0]</th>\n",
              "      <th>(99.854, 129.2]</th>\n",
              "      <th>(129.2, 158.4]</th>\n",
              "      <th>(158.4, 187.6]</th>\n",
              "      <th>(187.6, 216.8]</th>\n",
              "      <th>(216.8, 246.0]</th>\n",
              "    </tr>\n",
              "    <tr>\n",
              "      <th>time_bins</th>\n",
              "      <th></th>\n",
              "      <th></th>\n",
              "      <th></th>\n",
              "      <th></th>\n",
              "      <th></th>\n",
              "      <th></th>\n",
              "      <th></th>\n",
              "      <th></th>\n",
              "      <th></th>\n",
              "      <th></th>\n",
              "      <th></th>\n",
              "      <th></th>\n",
              "      <th></th>\n",
              "      <th></th>\n",
              "      <th></th>\n",
              "      <th></th>\n",
              "      <th></th>\n",
              "      <th></th>\n",
              "      <th></th>\n",
              "      <th></th>\n",
              "      <th></th>\n",
              "    </tr>\n",
              "  </thead>\n",
              "  <tbody>\n",
              "    <tr>\n",
              "      <th>(-0.3, 60.0]</th>\n",
              "      <td>0.035971</td>\n",
              "      <td>0.025180</td>\n",
              "      <td>0.039568</td>\n",
              "      <td>0.061151</td>\n",
              "      <td>0.02518</td>\n",
              "      <td>0.028777</td>\n",
              "      <td>0.035971</td>\n",
              "      <td>0.035971</td>\n",
              "      <td>0.061151</td>\n",
              "      <td>0.02518</td>\n",
              "      <td>...</td>\n",
              "      <td>0.025180</td>\n",
              "      <td>0.021583</td>\n",
              "      <td>0.035971</td>\n",
              "      <td>0.053957</td>\n",
              "      <td>0.028777</td>\n",
              "      <td>0.075540</td>\n",
              "      <td>0.050360</td>\n",
              "      <td>0.068345</td>\n",
              "      <td>0.064748</td>\n",
              "      <td>0.053957</td>\n",
              "    </tr>\n",
              "    <tr>\n",
              "      <th>(60.0, 120.0]</th>\n",
              "      <td>0.028481</td>\n",
              "      <td>0.047468</td>\n",
              "      <td>0.037975</td>\n",
              "      <td>0.031646</td>\n",
              "      <td>0.00000</td>\n",
              "      <td>0.060127</td>\n",
              "      <td>0.025316</td>\n",
              "      <td>0.050633</td>\n",
              "      <td>0.037975</td>\n",
              "      <td>0.00000</td>\n",
              "      <td>...</td>\n",
              "      <td>0.031646</td>\n",
              "      <td>0.063291</td>\n",
              "      <td>0.060127</td>\n",
              "      <td>0.066456</td>\n",
              "      <td>0.003165</td>\n",
              "      <td>0.066456</td>\n",
              "      <td>0.075949</td>\n",
              "      <td>0.101266</td>\n",
              "      <td>0.056962</td>\n",
              "      <td>0.022152</td>\n",
              "    </tr>\n",
              "    <tr>\n",
              "      <th>(120.0, 180.0]</th>\n",
              "      <td>0.076233</td>\n",
              "      <td>0.089686</td>\n",
              "      <td>0.044843</td>\n",
              "      <td>0.031390</td>\n",
              "      <td>0.00000</td>\n",
              "      <td>0.085202</td>\n",
              "      <td>0.035874</td>\n",
              "      <td>0.058296</td>\n",
              "      <td>0.008969</td>\n",
              "      <td>0.00000</td>\n",
              "      <td>...</td>\n",
              "      <td>0.058296</td>\n",
              "      <td>0.062780</td>\n",
              "      <td>0.026906</td>\n",
              "      <td>0.031390</td>\n",
              "      <td>0.000000</td>\n",
              "      <td>0.058296</td>\n",
              "      <td>0.053812</td>\n",
              "      <td>0.067265</td>\n",
              "      <td>0.035874</td>\n",
              "      <td>0.000000</td>\n",
              "    </tr>\n",
              "    <tr>\n",
              "      <th>(180.0, 240.0]</th>\n",
              "      <td>0.098958</td>\n",
              "      <td>0.151042</td>\n",
              "      <td>0.067708</td>\n",
              "      <td>0.000000</td>\n",
              "      <td>0.00000</td>\n",
              "      <td>0.130208</td>\n",
              "      <td>0.078125</td>\n",
              "      <td>0.036458</td>\n",
              "      <td>0.000000</td>\n",
              "      <td>0.00000</td>\n",
              "      <td>...</td>\n",
              "      <td>0.062500</td>\n",
              "      <td>0.098958</td>\n",
              "      <td>0.046875</td>\n",
              "      <td>0.005208</td>\n",
              "      <td>0.000000</td>\n",
              "      <td>0.026042</td>\n",
              "      <td>0.020833</td>\n",
              "      <td>0.000000</td>\n",
              "      <td>0.000000</td>\n",
              "      <td>0.000000</td>\n",
              "    </tr>\n",
              "    <tr>\n",
              "      <th>(240.0, 300.0]</th>\n",
              "      <td>0.130890</td>\n",
              "      <td>0.078534</td>\n",
              "      <td>0.015707</td>\n",
              "      <td>0.000000</td>\n",
              "      <td>0.00000</td>\n",
              "      <td>0.172775</td>\n",
              "      <td>0.109948</td>\n",
              "      <td>0.015707</td>\n",
              "      <td>0.000000</td>\n",
              "      <td>0.00000</td>\n",
              "      <td>...</td>\n",
              "      <td>0.057592</td>\n",
              "      <td>0.062827</td>\n",
              "      <td>0.005236</td>\n",
              "      <td>0.000000</td>\n",
              "      <td>0.000000</td>\n",
              "      <td>0.000000</td>\n",
              "      <td>0.000000</td>\n",
              "      <td>0.000000</td>\n",
              "      <td>0.000000</td>\n",
              "      <td>0.000000</td>\n",
              "    </tr>\n",
              "  </tbody>\n",
              "</table>\n",
              "<p>5 rows × 25 columns</p>\n",
              "</div>"
            ],
            "text/plain": [
              "age_bins        (17.938, 30.4]                                               \\\n",
              "weight_bins    (99.854, 129.2] (129.2, 158.4] (158.4, 187.6] (187.6, 216.8]   \n",
              "time_bins                                                                     \n",
              "(-0.3, 60.0]          0.035971       0.025180       0.039568       0.061151   \n",
              "(60.0, 120.0]         0.028481       0.047468       0.037975       0.031646   \n",
              "(120.0, 180.0]        0.076233       0.089686       0.044843       0.031390   \n",
              "(180.0, 240.0]        0.098958       0.151042       0.067708       0.000000   \n",
              "(240.0, 300.0]        0.130890       0.078534       0.015707       0.000000   \n",
              "\n",
              "age_bins                         (30.4, 42.8]                                \\\n",
              "weight_bins    (216.8, 246.0] (99.854, 129.2] (129.2, 158.4] (158.4, 187.6]   \n",
              "time_bins                                                                     \n",
              "(-0.3, 60.0]          0.02518        0.028777       0.035971       0.035971   \n",
              "(60.0, 120.0]         0.00000        0.060127       0.025316       0.050633   \n",
              "(120.0, 180.0]        0.00000        0.085202       0.035874       0.058296   \n",
              "(180.0, 240.0]        0.00000        0.130208       0.078125       0.036458   \n",
              "(240.0, 300.0]        0.00000        0.172775       0.109948       0.015707   \n",
              "\n",
              "age_bins                                          ...          (55.2, 67.6]  \\\n",
              "weight_bins    (187.6, 216.8] (216.8, 246.0]      ...       (99.854, 129.2]   \n",
              "time_bins                                         ...                         \n",
              "(-0.3, 60.0]         0.061151        0.02518      ...              0.025180   \n",
              "(60.0, 120.0]        0.037975        0.00000      ...              0.031646   \n",
              "(120.0, 180.0]       0.008969        0.00000      ...              0.058296   \n",
              "(180.0, 240.0]       0.000000        0.00000      ...              0.062500   \n",
              "(240.0, 300.0]       0.000000        0.00000      ...              0.057592   \n",
              "\n",
              "age_bins                                                                    \\\n",
              "weight_bins    (129.2, 158.4] (158.4, 187.6] (187.6, 216.8] (216.8, 246.0]   \n",
              "time_bins                                                                    \n",
              "(-0.3, 60.0]         0.021583       0.035971       0.053957       0.028777   \n",
              "(60.0, 120.0]        0.063291       0.060127       0.066456       0.003165   \n",
              "(120.0, 180.0]       0.062780       0.026906       0.031390       0.000000   \n",
              "(180.0, 240.0]       0.098958       0.046875       0.005208       0.000000   \n",
              "(240.0, 300.0]       0.062827       0.005236       0.000000       0.000000   \n",
              "\n",
              "age_bins          (67.6, 80.0]                                               \\\n",
              "weight_bins    (99.854, 129.2] (129.2, 158.4] (158.4, 187.6] (187.6, 216.8]   \n",
              "time_bins                                                                     \n",
              "(-0.3, 60.0]          0.075540       0.050360       0.068345       0.064748   \n",
              "(60.0, 120.0]         0.066456       0.075949       0.101266       0.056962   \n",
              "(120.0, 180.0]        0.058296       0.053812       0.067265       0.035874   \n",
              "(180.0, 240.0]        0.026042       0.020833       0.000000       0.000000   \n",
              "(240.0, 300.0]        0.000000       0.000000       0.000000       0.000000   \n",
              "\n",
              "age_bins                       \n",
              "weight_bins    (216.8, 246.0]  \n",
              "time_bins                      \n",
              "(-0.3, 60.0]         0.053957  \n",
              "(60.0, 120.0]        0.022152  \n",
              "(120.0, 180.0]       0.000000  \n",
              "(180.0, 240.0]       0.000000  \n",
              "(240.0, 300.0]       0.000000  \n",
              "\n",
              "[5 rows x 25 columns]"
            ]
          },
          "metadata": {
            "tags": []
          },
          "execution_count": 60
        }
      ]
    },
    {
      "metadata": {
        "id": "IwVn7dIxdkCe",
        "colab_type": "code",
        "colab": {
          "base_uri": "https://localhost:8080/",
          "height": 373
        },
        "outputId": "720236fe-c10c-461b-c984-bfd580f0dc45"
      },
      "cell_type": "code",
      "source": [
        "time_bins = pd.cut(persons['exercise_time'], 5)  # 5 equal-sized bins\n",
        "age_bins = pd.cut(persons['age'], 5)\n",
        "weight_bins = pd.cut(persons['weight'], 5)\n",
        "\n",
        "a= time_bins\n",
        "b = age_bins\n",
        "c = weight_bins\n",
        "\n",
        "\n",
        "pd.crosstab(a, [c, b], rownames=['time_bins'], colnames=['weight_bins','age_bins'], normalize='index')"
      ],
      "execution_count": 61,
      "outputs": [
        {
          "output_type": "execute_result",
          "data": {
            "text/html": [
              "<div>\n",
              "<style scoped>\n",
              "    .dataframe tbody tr th:only-of-type {\n",
              "        vertical-align: middle;\n",
              "    }\n",
              "\n",
              "    .dataframe tbody tr th {\n",
              "        vertical-align: top;\n",
              "    }\n",
              "\n",
              "    .dataframe thead tr th {\n",
              "        text-align: left;\n",
              "    }\n",
              "\n",
              "    .dataframe thead tr:last-of-type th {\n",
              "        text-align: right;\n",
              "    }\n",
              "</style>\n",
              "<table border=\"1\" class=\"dataframe\">\n",
              "  <thead>\n",
              "    <tr>\n",
              "      <th>weight_bins</th>\n",
              "      <th colspan=\"5\" halign=\"left\">(99.854, 129.2]</th>\n",
              "      <th colspan=\"5\" halign=\"left\">(129.2, 158.4]</th>\n",
              "      <th>...</th>\n",
              "      <th colspan=\"5\" halign=\"left\">(187.6, 216.8]</th>\n",
              "      <th colspan=\"5\" halign=\"left\">(216.8, 246.0]</th>\n",
              "    </tr>\n",
              "    <tr>\n",
              "      <th>age_bins</th>\n",
              "      <th>(17.938, 30.4]</th>\n",
              "      <th>(30.4, 42.8]</th>\n",
              "      <th>(42.8, 55.2]</th>\n",
              "      <th>(55.2, 67.6]</th>\n",
              "      <th>(67.6, 80.0]</th>\n",
              "      <th>(17.938, 30.4]</th>\n",
              "      <th>(30.4, 42.8]</th>\n",
              "      <th>(42.8, 55.2]</th>\n",
              "      <th>(55.2, 67.6]</th>\n",
              "      <th>(67.6, 80.0]</th>\n",
              "      <th>...</th>\n",
              "      <th>(17.938, 30.4]</th>\n",
              "      <th>(30.4, 42.8]</th>\n",
              "      <th>(42.8, 55.2]</th>\n",
              "      <th>(55.2, 67.6]</th>\n",
              "      <th>(67.6, 80.0]</th>\n",
              "      <th>(17.938, 30.4]</th>\n",
              "      <th>(30.4, 42.8]</th>\n",
              "      <th>(42.8, 55.2]</th>\n",
              "      <th>(55.2, 67.6]</th>\n",
              "      <th>(67.6, 80.0]</th>\n",
              "    </tr>\n",
              "    <tr>\n",
              "      <th>time_bins</th>\n",
              "      <th></th>\n",
              "      <th></th>\n",
              "      <th></th>\n",
              "      <th></th>\n",
              "      <th></th>\n",
              "      <th></th>\n",
              "      <th></th>\n",
              "      <th></th>\n",
              "      <th></th>\n",
              "      <th></th>\n",
              "      <th></th>\n",
              "      <th></th>\n",
              "      <th></th>\n",
              "      <th></th>\n",
              "      <th></th>\n",
              "      <th></th>\n",
              "      <th></th>\n",
              "      <th></th>\n",
              "      <th></th>\n",
              "      <th></th>\n",
              "      <th></th>\n",
              "    </tr>\n",
              "  </thead>\n",
              "  <tbody>\n",
              "    <tr>\n",
              "      <th>(-0.3, 60.0]</th>\n",
              "      <td>0.035971</td>\n",
              "      <td>0.028777</td>\n",
              "      <td>0.025180</td>\n",
              "      <td>0.025180</td>\n",
              "      <td>0.075540</td>\n",
              "      <td>0.025180</td>\n",
              "      <td>0.035971</td>\n",
              "      <td>0.025180</td>\n",
              "      <td>0.021583</td>\n",
              "      <td>0.050360</td>\n",
              "      <td>...</td>\n",
              "      <td>0.061151</td>\n",
              "      <td>0.061151</td>\n",
              "      <td>0.032374</td>\n",
              "      <td>0.053957</td>\n",
              "      <td>0.064748</td>\n",
              "      <td>0.02518</td>\n",
              "      <td>0.02518</td>\n",
              "      <td>0.025180</td>\n",
              "      <td>0.028777</td>\n",
              "      <td>0.053957</td>\n",
              "    </tr>\n",
              "    <tr>\n",
              "      <th>(60.0, 120.0]</th>\n",
              "      <td>0.028481</td>\n",
              "      <td>0.060127</td>\n",
              "      <td>0.018987</td>\n",
              "      <td>0.031646</td>\n",
              "      <td>0.066456</td>\n",
              "      <td>0.047468</td>\n",
              "      <td>0.025316</td>\n",
              "      <td>0.028481</td>\n",
              "      <td>0.063291</td>\n",
              "      <td>0.075949</td>\n",
              "      <td>...</td>\n",
              "      <td>0.031646</td>\n",
              "      <td>0.037975</td>\n",
              "      <td>0.037975</td>\n",
              "      <td>0.066456</td>\n",
              "      <td>0.056962</td>\n",
              "      <td>0.00000</td>\n",
              "      <td>0.00000</td>\n",
              "      <td>0.003165</td>\n",
              "      <td>0.003165</td>\n",
              "      <td>0.022152</td>\n",
              "    </tr>\n",
              "    <tr>\n",
              "      <th>(120.0, 180.0]</th>\n",
              "      <td>0.076233</td>\n",
              "      <td>0.085202</td>\n",
              "      <td>0.040359</td>\n",
              "      <td>0.058296</td>\n",
              "      <td>0.058296</td>\n",
              "      <td>0.089686</td>\n",
              "      <td>0.035874</td>\n",
              "      <td>0.058296</td>\n",
              "      <td>0.062780</td>\n",
              "      <td>0.053812</td>\n",
              "      <td>...</td>\n",
              "      <td>0.031390</td>\n",
              "      <td>0.008969</td>\n",
              "      <td>0.022422</td>\n",
              "      <td>0.031390</td>\n",
              "      <td>0.035874</td>\n",
              "      <td>0.00000</td>\n",
              "      <td>0.00000</td>\n",
              "      <td>0.000000</td>\n",
              "      <td>0.000000</td>\n",
              "      <td>0.000000</td>\n",
              "    </tr>\n",
              "    <tr>\n",
              "      <th>(180.0, 240.0]</th>\n",
              "      <td>0.098958</td>\n",
              "      <td>0.130208</td>\n",
              "      <td>0.093750</td>\n",
              "      <td>0.062500</td>\n",
              "      <td>0.026042</td>\n",
              "      <td>0.151042</td>\n",
              "      <td>0.078125</td>\n",
              "      <td>0.036458</td>\n",
              "      <td>0.098958</td>\n",
              "      <td>0.020833</td>\n",
              "      <td>...</td>\n",
              "      <td>0.000000</td>\n",
              "      <td>0.000000</td>\n",
              "      <td>0.000000</td>\n",
              "      <td>0.005208</td>\n",
              "      <td>0.000000</td>\n",
              "      <td>0.00000</td>\n",
              "      <td>0.00000</td>\n",
              "      <td>0.000000</td>\n",
              "      <td>0.000000</td>\n",
              "      <td>0.000000</td>\n",
              "    </tr>\n",
              "    <tr>\n",
              "      <th>(240.0, 300.0]</th>\n",
              "      <td>0.130890</td>\n",
              "      <td>0.172775</td>\n",
              "      <td>0.198953</td>\n",
              "      <td>0.057592</td>\n",
              "      <td>0.000000</td>\n",
              "      <td>0.078534</td>\n",
              "      <td>0.109948</td>\n",
              "      <td>0.136126</td>\n",
              "      <td>0.062827</td>\n",
              "      <td>0.000000</td>\n",
              "      <td>...</td>\n",
              "      <td>0.000000</td>\n",
              "      <td>0.000000</td>\n",
              "      <td>0.000000</td>\n",
              "      <td>0.000000</td>\n",
              "      <td>0.000000</td>\n",
              "      <td>0.00000</td>\n",
              "      <td>0.00000</td>\n",
              "      <td>0.000000</td>\n",
              "      <td>0.000000</td>\n",
              "      <td>0.000000</td>\n",
              "    </tr>\n",
              "  </tbody>\n",
              "</table>\n",
              "<p>5 rows × 25 columns</p>\n",
              "</div>"
            ],
            "text/plain": [
              "weight_bins    (99.854, 129.2]                                         \\\n",
              "age_bins        (17.938, 30.4] (30.4, 42.8] (42.8, 55.2] (55.2, 67.6]   \n",
              "time_bins                                                               \n",
              "(-0.3, 60.0]          0.035971     0.028777     0.025180     0.025180   \n",
              "(60.0, 120.0]         0.028481     0.060127     0.018987     0.031646   \n",
              "(120.0, 180.0]        0.076233     0.085202     0.040359     0.058296   \n",
              "(180.0, 240.0]        0.098958     0.130208     0.093750     0.062500   \n",
              "(240.0, 300.0]        0.130890     0.172775     0.198953     0.057592   \n",
              "\n",
              "weight_bins                 (129.2, 158.4]                            \\\n",
              "age_bins       (67.6, 80.0] (17.938, 30.4] (30.4, 42.8] (42.8, 55.2]   \n",
              "time_bins                                                              \n",
              "(-0.3, 60.0]       0.075540       0.025180     0.035971     0.025180   \n",
              "(60.0, 120.0]      0.066456       0.047468     0.025316     0.028481   \n",
              "(120.0, 180.0]     0.058296       0.089686     0.035874     0.058296   \n",
              "(180.0, 240.0]     0.026042       0.151042     0.078125     0.036458   \n",
              "(240.0, 300.0]     0.000000       0.078534     0.109948     0.136126   \n",
              "\n",
              "weight_bins                                  ...      (187.6, 216.8]  \\\n",
              "age_bins       (55.2, 67.6] (67.6, 80.0]     ...      (17.938, 30.4]   \n",
              "time_bins                                    ...                       \n",
              "(-0.3, 60.0]       0.021583     0.050360     ...            0.061151   \n",
              "(60.0, 120.0]      0.063291     0.075949     ...            0.031646   \n",
              "(120.0, 180.0]     0.062780     0.053812     ...            0.031390   \n",
              "(180.0, 240.0]     0.098958     0.020833     ...            0.000000   \n",
              "(240.0, 300.0]     0.062827     0.000000     ...            0.000000   \n",
              "\n",
              "weight_bins                                                         \\\n",
              "age_bins       (30.4, 42.8] (42.8, 55.2] (55.2, 67.6] (67.6, 80.0]   \n",
              "time_bins                                                            \n",
              "(-0.3, 60.0]       0.061151     0.032374     0.053957     0.064748   \n",
              "(60.0, 120.0]      0.037975     0.037975     0.066456     0.056962   \n",
              "(120.0, 180.0]     0.008969     0.022422     0.031390     0.035874   \n",
              "(180.0, 240.0]     0.000000     0.000000     0.005208     0.000000   \n",
              "(240.0, 300.0]     0.000000     0.000000     0.000000     0.000000   \n",
              "\n",
              "weight_bins    (216.8, 246.0]                                         \\\n",
              "age_bins       (17.938, 30.4] (30.4, 42.8] (42.8, 55.2] (55.2, 67.6]   \n",
              "time_bins                                                              \n",
              "(-0.3, 60.0]          0.02518      0.02518     0.025180     0.028777   \n",
              "(60.0, 120.0]         0.00000      0.00000     0.003165     0.003165   \n",
              "(120.0, 180.0]        0.00000      0.00000     0.000000     0.000000   \n",
              "(180.0, 240.0]        0.00000      0.00000     0.000000     0.000000   \n",
              "(240.0, 300.0]        0.00000      0.00000     0.000000     0.000000   \n",
              "\n",
              "weight_bins                  \n",
              "age_bins       (67.6, 80.0]  \n",
              "time_bins                    \n",
              "(-0.3, 60.0]       0.053957  \n",
              "(60.0, 120.0]      0.022152  \n",
              "(120.0, 180.0]     0.000000  \n",
              "(180.0, 240.0]     0.000000  \n",
              "(240.0, 300.0]     0.000000  \n",
              "\n",
              "[5 rows x 25 columns]"
            ]
          },
          "metadata": {
            "tags": []
          },
          "execution_count": 61
        }
      ]
    },
    {
      "metadata": {
        "id": "1yYSqch1fmfy",
        "colab_type": "code",
        "colab": {
          "base_uri": "https://localhost:8080/",
          "height": 227
        },
        "outputId": "7115bcbe-dad4-44f9-f085-482c5242a869"
      },
      "cell_type": "code",
      "source": [
        "pd.crosstab(c, b, normalize='index')"
      ],
      "execution_count": 65,
      "outputs": [
        {
          "output_type": "execute_result",
          "data": {
            "text/html": [
              "<div>\n",
              "<style scoped>\n",
              "    .dataframe tbody tr th:only-of-type {\n",
              "        vertical-align: middle;\n",
              "    }\n",
              "\n",
              "    .dataframe tbody tr th {\n",
              "        vertical-align: top;\n",
              "    }\n",
              "\n",
              "    .dataframe thead th {\n",
              "        text-align: right;\n",
              "    }\n",
              "</style>\n",
              "<table border=\"1\" class=\"dataframe\">\n",
              "  <thead>\n",
              "    <tr style=\"text-align: right;\">\n",
              "      <th>age</th>\n",
              "      <th>(17.938, 30.4]</th>\n",
              "      <th>(30.4, 42.8]</th>\n",
              "      <th>(42.8, 55.2]</th>\n",
              "      <th>(55.2, 67.6]</th>\n",
              "      <th>(67.6, 80.0]</th>\n",
              "    </tr>\n",
              "    <tr>\n",
              "      <th>weight</th>\n",
              "      <th></th>\n",
              "      <th></th>\n",
              "      <th></th>\n",
              "      <th></th>\n",
              "      <th></th>\n",
              "    </tr>\n",
              "  </thead>\n",
              "  <tbody>\n",
              "    <tr>\n",
              "      <th>(99.854, 129.2]</th>\n",
              "      <td>0.213333</td>\n",
              "      <td>0.277333</td>\n",
              "      <td>0.208000</td>\n",
              "      <td>0.141333</td>\n",
              "      <td>0.160000</td>\n",
              "    </tr>\n",
              "    <tr>\n",
              "      <th>(129.2, 158.4]</th>\n",
              "      <td>0.256716</td>\n",
              "      <td>0.185075</td>\n",
              "      <td>0.185075</td>\n",
              "      <td>0.211940</td>\n",
              "      <td>0.161194</td>\n",
              "    </tr>\n",
              "    <tr>\n",
              "      <th>(158.4, 187.6]</th>\n",
              "      <td>0.189922</td>\n",
              "      <td>0.189922</td>\n",
              "      <td>0.189922</td>\n",
              "      <td>0.174419</td>\n",
              "      <td>0.255814</td>\n",
              "    </tr>\n",
              "    <tr>\n",
              "      <th>(187.6, 216.8]</th>\n",
              "      <td>0.189944</td>\n",
              "      <td>0.173184</td>\n",
              "      <td>0.145251</td>\n",
              "      <td>0.245810</td>\n",
              "      <td>0.245810</td>\n",
              "    </tr>\n",
              "    <tr>\n",
              "      <th>(216.8, 246.0]</th>\n",
              "      <td>0.132075</td>\n",
              "      <td>0.132075</td>\n",
              "      <td>0.150943</td>\n",
              "      <td>0.169811</td>\n",
              "      <td>0.415094</td>\n",
              "    </tr>\n",
              "  </tbody>\n",
              "</table>\n",
              "</div>"
            ],
            "text/plain": [
              "age              (17.938, 30.4]  (30.4, 42.8]  (42.8, 55.2]  (55.2, 67.6]  \\\n",
              "weight                                                                      \n",
              "(99.854, 129.2]        0.213333      0.277333      0.208000      0.141333   \n",
              "(129.2, 158.4]         0.256716      0.185075      0.185075      0.211940   \n",
              "(158.4, 187.6]         0.189922      0.189922      0.189922      0.174419   \n",
              "(187.6, 216.8]         0.189944      0.173184      0.145251      0.245810   \n",
              "(216.8, 246.0]         0.132075      0.132075      0.150943      0.169811   \n",
              "\n",
              "age              (67.6, 80.0]  \n",
              "weight                         \n",
              "(99.854, 129.2]      0.160000  \n",
              "(129.2, 158.4]       0.161194  \n",
              "(158.4, 187.6]       0.255814  \n",
              "(187.6, 216.8]       0.245810  \n",
              "(216.8, 246.0]       0.415094  "
            ]
          },
          "metadata": {
            "tags": []
          },
          "execution_count": 65
        }
      ]
    },
    {
      "metadata": {
        "id": "W9z4yOpTd1l9",
        "colab_type": "code",
        "colab": {}
      },
      "cell_type": "code",
      "source": [
        ""
      ],
      "execution_count": 0,
      "outputs": []
    },
    {
      "metadata": {
        "id": "PDVbjcJdYO_Q",
        "colab_type": "code",
        "colab": {
          "base_uri": "https://localhost:8080/",
          "height": 167
        },
        "outputId": "f61c4a3f-c25b-4566-9c8b-3b5dcaab5e2a"
      },
      "cell_type": "code",
      "source": [
        "persons.corr()"
      ],
      "execution_count": 56,
      "outputs": [
        {
          "output_type": "execute_result",
          "data": {
            "text/html": [
              "<div>\n",
              "<style scoped>\n",
              "    .dataframe tbody tr th:only-of-type {\n",
              "        vertical-align: middle;\n",
              "    }\n",
              "\n",
              "    .dataframe tbody tr th {\n",
              "        vertical-align: top;\n",
              "    }\n",
              "\n",
              "    .dataframe thead th {\n",
              "        text-align: right;\n",
              "    }\n",
              "</style>\n",
              "<table border=\"1\" class=\"dataframe\">\n",
              "  <thead>\n",
              "    <tr style=\"text-align: right;\">\n",
              "      <th></th>\n",
              "      <th>Unnamed: 0</th>\n",
              "      <th>age</th>\n",
              "      <th>weight</th>\n",
              "      <th>exercise_time</th>\n",
              "    </tr>\n",
              "  </thead>\n",
              "  <tbody>\n",
              "    <tr>\n",
              "      <th>Unnamed: 0</th>\n",
              "      <td>1.000000</td>\n",
              "      <td>-0.000418</td>\n",
              "      <td>-0.060297</td>\n",
              "      <td>-0.020138</td>\n",
              "    </tr>\n",
              "    <tr>\n",
              "      <th>age</th>\n",
              "      <td>-0.000418</td>\n",
              "      <td>1.000000</td>\n",
              "      <td>0.144168</td>\n",
              "      <td>-0.273818</td>\n",
              "    </tr>\n",
              "    <tr>\n",
              "      <th>weight</th>\n",
              "      <td>-0.060297</td>\n",
              "      <td>0.144168</td>\n",
              "      <td>1.000000</td>\n",
              "      <td>-0.478021</td>\n",
              "    </tr>\n",
              "    <tr>\n",
              "      <th>exercise_time</th>\n",
              "      <td>-0.020138</td>\n",
              "      <td>-0.273818</td>\n",
              "      <td>-0.478021</td>\n",
              "      <td>1.000000</td>\n",
              "    </tr>\n",
              "  </tbody>\n",
              "</table>\n",
              "</div>"
            ],
            "text/plain": [
              "               Unnamed: 0       age    weight  exercise_time\n",
              "Unnamed: 0       1.000000 -0.000418 -0.060297      -0.020138\n",
              "age             -0.000418  1.000000  0.144168      -0.273818\n",
              "weight          -0.060297  0.144168  1.000000      -0.478021\n",
              "exercise_time   -0.020138 -0.273818 -0.478021       1.000000"
            ]
          },
          "metadata": {
            "tags": []
          },
          "execution_count": 56
        }
      ]
    },
    {
      "metadata": {
        "id": "zNjR0clfVbk7",
        "colab_type": "code",
        "colab": {
          "base_uri": "https://localhost:8080/",
          "height": 367
        },
        "outputId": "46ac3399-4a9b-49c6-b394-86a1131fc300"
      },
      "cell_type": "code",
      "source": [
        "ax=pd.crosstab(time_bins, weight_bins,normalize='columns')\n",
        "ax.plot.area()"
      ],
      "execution_count": 49,
      "outputs": [
        {
          "output_type": "execute_result",
          "data": {
            "text/plain": [
              "<matplotlib.axes._subplots.AxesSubplot at 0x7fe969deda20>"
            ]
          },
          "metadata": {
            "tags": []
          },
          "execution_count": 49
        },
        {
          "output_type": "display_data",
          "data": {
            "image/png": "[encoded data removed]",
            "text/plain": [
              "<matplotlib.figure.Figure at 0x7fe969e172b0>"
            ]
          },
          "metadata": {
            "tags": []
          }
        }
      ]
    },
    {
      "metadata": {
        "id": "07apELnYelvC",
        "colab_type": "code",
        "colab": {
          "base_uri": "https://localhost:8080/",
          "height": 367
        },
        "outputId": "1ed15262-e5a1-4f19-b12d-ba30869d675d"
      },
      "cell_type": "code",
      "source": [
        "ax=pd.crosstab(age_bins, weight_bins,normalize='columns')\n",
        "ax.plot.area()"
      ],
      "execution_count": 64,
      "outputs": [
        {
          "output_type": "execute_result",
          "data": {
            "text/plain": [
              "<matplotlib.axes._subplots.AxesSubplot at 0x7fe9696379e8>"
            ]
          },
          "metadata": {
            "tags": []
          },
          "execution_count": 64
        },
        {
          "output_type": "display_data",
          "data": {
            "image/png": "[encoded data removed]",
            "text/plain": [
              "<matplotlib.figure.Figure at 0x7fe96973cd68>"
            ]
          },
          "metadata": {
            "tags": []
          }
        }
      ]
    },
    {
      "metadata": {
        "id": "8QWl8hfsWpvy",
        "colab_type": "code",
        "colab": {
          "base_uri": "https://localhost:8080/",
          "height": 376
        },
        "outputId": "a5a1781b-ad78-4b33-f9b0-feca0eb10d2d"
      },
      "cell_type": "code",
      "source": [
        "plt.scatter(persons['age'], persons['weight'], s=300)\n",
        "plt.title('Age vs. Weight')\n",
        "plt.xlabel('age')\n",
        "plt.ylabel('weight')\n",
        "plt.show()"
      ],
      "execution_count": 53,
      "outputs": [
        {
          "output_type": "display_data",
          "data": {
            "image/png": "[encoded data removed]",
            "text/plain": [
              "<matplotlib.figure.Figure at 0x7fe969845e80>"
            ]
          },
          "metadata": {
            "tags": []
          }
        }
      ]
    },
    {
      "metadata": {
        "id": "LI3Bnm1OXEbx",
        "colab_type": "code",
        "colab": {
          "base_uri": "https://localhost:8080/",
          "height": 376
        },
        "outputId": "fc4fcac9-fdaf-46b0-8993-3f068adc9692"
      },
      "cell_type": "code",
      "source": [
        "plt.scatter(persons['weight'], persons['exercise_time'], s=300)\n",
        "plt.title('Weight vs. Exercise')\n",
        "plt.xlabel('weight')\n",
        "plt.ylabel('exercise time')\n",
        "plt.show()"
      ],
      "execution_count": 54,
      "outputs": [
        {
          "output_type": "display_data",
          "data": {
            "image/png": "[encoded data removed]",
            "text/plain": [
              "<matplotlib.figure.Figure at 0x7fe9697d49b0>"
            ]
          },
          "metadata": {
            "tags": []
          }
        }
      ]
    },
    {
      "metadata": {
        "id": "6fY2yaXGXaTd",
        "colab_type": "code",
        "colab": {
          "base_uri": "https://localhost:8080/",
          "height": 376
        },
        "outputId": "876c02c4-5819-460c-f8d8-0a7db2207cc1"
      },
      "cell_type": "code",
      "source": [
        "plt.scatter(persons['exercise_time'], persons['age'], s=300)\n",
        "plt.title('Exercise vs. Age')\n",
        "plt.xlabel('exercise time')\n",
        "plt.ylabel('age')\n",
        "plt.show()"
      ],
      "execution_count": 55,
      "outputs": [
        {
          "output_type": "display_data",
          "data": {
            "image/png": "[encoded data removed]",
            "text/plain": [
              "<matplotlib.figure.Figure at 0x7fe969747e80>"
            ]
          },
          "metadata": {
            "tags": []
          }
        }
      ]
    },
    {
      "metadata": {
        "id": "BT9gdS7viJZa",
        "colab_type": "text"
      },
      "cell_type": "markdown",
      "source": [
        "### Assignment questions\n",
        "\n",
        "After you've worked on some code, answer the following questions in this text block:\n",
        "\n",
        "1.  What are the variable types in the data?\n",
        "exercise time is independent, weight is dependent, and age is confounding\n",
        "2.  What are the relationships between the variables?\n",
        "weight gain and time and negatively correlated, slightly positive corelation between age and weight, slightly negative correlation between age and exercise time\n",
        "3.  Which relationships are \"real\", and which spurious?\n",
        "age is confounding variable, different ages of people tend to be different weights, so can throw it off if one cohort is older one is younger, but overall it does seem as if more exercise tends to lead to lower weight.\n",
        "\n"
      ]
    },
    {
      "metadata": {
        "id": "_XXg2crAipwP",
        "colab_type": "text"
      },
      "cell_type": "markdown",
      "source": [
        "## Stretch goals and resources\n",
        "\n",
        "Following are *optional* things for you to take a look at. Focus on the above assignment first, and make sure to commit and push your changes to GitHub.\n",
        "\n",
        "- [Spurious Correlations](http://tylervigen.com/spurious-correlations)\n",
        "- [NIH on controlling for confounding variables](https://www.ncbi.nlm.nih.gov/pmc/articles/PMC4017459/)\n",
        "\n",
        "Stretch goals:\n",
        "\n",
        "- Produce your own plot inspierd by the Spurious Correlation visualizations (and consider writing a blog post about it - both the content and how you made it)\n",
        "- Pick one of the techniques that NIH highlights for confounding variables - we'll be going into many of them later, but see if you can find which Python modules may help (hint - check scikit-learn)"
      ]
    }
  ]
}