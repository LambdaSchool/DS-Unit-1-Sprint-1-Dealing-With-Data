{
 "cells": [
  {
   "cell_type": "markdown",
   "metadata": {
    "colab_type": "text",
    "id": "Okfr_uhwhS1X"
   },
   "source": [
    "# Lambda School Data Science - Making Data-backed Assertions\n",
    "\n",
    "This is, for many, the main point of data science - to create and support reasoned arguments based on evidence. It's not a topic to master in a day, but it is worth some focused time thinking about and structuring your approach to it."
   ]
  },
  {
   "cell_type": "markdown",
   "metadata": {
    "colab_type": "text",
    "id": "9dtJETFRhnOG"
   },
   "source": [
    "## Lecture - generating a confounding variable\n",
    "\n",
    "The prewatch material told a story about a hypothetical health condition where both the drug usage and overall health outcome were related to gender - thus making gender a confounding variable, obfuscating the possible relationship between the drug and the outcome.\n",
    "\n",
    "Let's use Python to generate data that actually behaves in this fashion!"
   ]
  },
  {
   "cell_type": "code",
   "execution_count": 1,
   "metadata": {
    "colab": {
     "base_uri": "https://localhost:8080/",
     "height": 1076
    },
    "colab_type": "code",
    "id": "WiBkgmPJhmhE",
    "outputId": "25521477-4950-4f47-9f04-70d1804fafe1"
   },
   "outputs": [
    {
     "data": {
      "text/plain": [
       "['BPF',\n",
       " 'LOG4',\n",
       " 'NV_MAGICCONST',\n",
       " 'RECIP_BPF',\n",
       " 'Random',\n",
       " 'SG_MAGICCONST',\n",
       " 'SystemRandom',\n",
       " 'TWOPI',\n",
       " '_BuiltinMethodType',\n",
       " '_MethodType',\n",
       " '_Sequence',\n",
       " '_Set',\n",
       " '__all__',\n",
       " '__builtins__',\n",
       " '__cached__',\n",
       " '__doc__',\n",
       " '__file__',\n",
       " '__loader__',\n",
       " '__name__',\n",
       " '__package__',\n",
       " '__spec__',\n",
       " '_acos',\n",
       " '_bisect',\n",
       " '_ceil',\n",
       " '_cos',\n",
       " '_e',\n",
       " '_exp',\n",
       " '_inst',\n",
       " '_itertools',\n",
       " '_log',\n",
       " '_pi',\n",
       " '_random',\n",
       " '_sha512',\n",
       " '_sin',\n",
       " '_sqrt',\n",
       " '_test',\n",
       " '_test_generator',\n",
       " '_urandom',\n",
       " '_warn',\n",
       " 'betavariate',\n",
       " 'choice',\n",
       " 'choices',\n",
       " 'expovariate',\n",
       " 'gammavariate',\n",
       " 'gauss',\n",
       " 'getrandbits',\n",
       " 'getstate',\n",
       " 'lognormvariate',\n",
       " 'normalvariate',\n",
       " 'paretovariate',\n",
       " 'randint',\n",
       " 'random',\n",
       " 'randrange',\n",
       " 'sample',\n",
       " 'seed',\n",
       " 'setstate',\n",
       " 'shuffle',\n",
       " 'triangular',\n",
       " 'uniform',\n",
       " 'vonmisesvariate',\n",
       " 'weibullvariate']"
      ]
     },
     "execution_count": 1,
     "metadata": {},
     "output_type": "execute_result"
    }
   ],
   "source": [
    "import random\n",
    "dir(random)  # Reminding ourselves what we can do here"
   ]
  },
  {
   "cell_type": "code",
   "execution_count": 2,
   "metadata": {
    "colab": {
     "base_uri": "https://localhost:8080/",
     "height": 34
    },
    "colab_type": "code",
    "id": "Ks5qFtpnq-q5",
    "outputId": "186d7aeb-8b78-4960-ed60-6961951ecf84"
   },
   "outputs": [
    {
     "name": "stdout",
     "output_type": "stream",
     "text": [
      "User(purchased=False, time_on_site=12, mobile=False)\n"
     ]
    }
   ],
   "source": [
    "# Let's think of another scenario:\n",
    "# We work for a company that sells accessories for mobile phones.\n",
    "# They have an ecommerce site, and we are supposed to analyze logs\n",
    "# to determine what sort of usage is related to purchases, and thus guide\n",
    "# website development to encourage higher conversion.\n",
    "\n",
    "# The hypothesis - users who spend longer on the site tend\n",
    "# to spend more. Seems reasonable, no?\n",
    "\n",
    "# But there's a confounding variable! If they're on a phone, they:\n",
    "# a) Spend less time on the site, but\n",
    "# b) Are more likely to be interested in the actual products!\n",
    "\n",
    "# Let's use namedtuple to represent our data\n",
    "\n",
    "from collections import namedtuple\n",
    "# purchased and mobile are bools, time_on_site in seconds\n",
    "User = namedtuple('User', ['purchased','time_on_site', 'mobile'])\n",
    "\n",
    "example_user = User(False, 12, False)\n",
    "print(example_user)"
   ]
  },
  {
   "cell_type": "code",
   "execution_count": 3,
   "metadata": {
    "colab": {
     "base_uri": "https://localhost:8080/",
     "height": 54
    },
    "colab_type": "code",
    "id": "lfPiHNG_sefL",
    "outputId": "b31fd172-db21-4a4d-e5b4-6348e12f8e68"
   },
   "outputs": [
    {
     "name": "stdout",
     "output_type": "stream",
     "text": [
      "[User(purchased=False, time_on_site=95.03766230608649, mobile=False), User(purchased=False, time_on_site=181.60116334056391, mobile=True), User(purchased=False, time_on_site=126.28922410961518, mobile=True), User(purchased=False, time_on_site=250.08616201044396, mobile=False), User(purchased=True, time_on_site=13.113612596977713, mobile=True), User(purchased=False, time_on_site=159.73773249341863, mobile=True), User(purchased=False, time_on_site=238.10203918365906, mobile=True), User(purchased=False, time_on_site=53.9927238108552, mobile=True), User(purchased=False, time_on_site=297.40951044967545, mobile=True), User(purchased=False, time_on_site=545.95457075184, mobile=False)]\n"
     ]
    }
   ],
   "source": [
    "# And now let's generate 1000 example users\n",
    "# 750 mobile, 250 not (i.e. desktop)\n",
    "# A desktop user has a base conversion likelihood of 10%\n",
    "# And it goes up by 1% for each 15 seconds they spend on the site\n",
    "# And they spend anywhere from 10 seconds to 10 minutes on the site (uniform)\n",
    "# Mobile users spend on average half as much time on the site as desktop\n",
    "# But have twice as much base likelihood of buying something\n",
    "\n",
    "users = []\n",
    "\n",
    "for _ in range(250):\n",
    "  # Desktop users\n",
    "  time_on_site = random.uniform(10, 600)\n",
    "  purchased = random.random() < 0.1 + (time_on_site // 1500)\n",
    "  users.append(User(purchased, time_on_site, False))\n",
    "  \n",
    "for _ in range(750):\n",
    "  # Mobile users\n",
    "  time_on_site = random.uniform(5, 300)\n",
    "  purchased = random.random() < 0.2 + (time_on_site // 1500)\n",
    "  users.append(User(purchased, time_on_site, True))\n",
    "  \n",
    "random.shuffle(users)\n",
    "print(users[:10])"
   ]
  },
  {
   "cell_type": "code",
   "execution_count": 4,
   "metadata": {
    "colab": {
     "base_uri": "https://localhost:8080/",
     "height": 206
    },
    "colab_type": "code",
    "id": "9gDYb5qGuRzy",
    "outputId": "687484ac-3b66-4105-e359-62311be9363d"
   },
   "outputs": [
    {
     "data": {
      "text/html": [
       "<div>\n",
       "<style scoped>\n",
       "    .dataframe tbody tr th:only-of-type {\n",
       "        vertical-align: middle;\n",
       "    }\n",
       "\n",
       "    .dataframe tbody tr th {\n",
       "        vertical-align: top;\n",
       "    }\n",
       "\n",
       "    .dataframe thead th {\n",
       "        text-align: right;\n",
       "    }\n",
       "</style>\n",
       "<table border=\"1\" class=\"dataframe\">\n",
       "  <thead>\n",
       "    <tr style=\"text-align: right;\">\n",
       "      <th></th>\n",
       "      <th>purchased</th>\n",
       "      <th>time_on_site</th>\n",
       "      <th>mobile</th>\n",
       "    </tr>\n",
       "  </thead>\n",
       "  <tbody>\n",
       "    <tr>\n",
       "      <th>0</th>\n",
       "      <td>False</td>\n",
       "      <td>95.037662</td>\n",
       "      <td>False</td>\n",
       "    </tr>\n",
       "    <tr>\n",
       "      <th>1</th>\n",
       "      <td>False</td>\n",
       "      <td>181.601163</td>\n",
       "      <td>True</td>\n",
       "    </tr>\n",
       "    <tr>\n",
       "      <th>2</th>\n",
       "      <td>False</td>\n",
       "      <td>126.289224</td>\n",
       "      <td>True</td>\n",
       "    </tr>\n",
       "    <tr>\n",
       "      <th>3</th>\n",
       "      <td>False</td>\n",
       "      <td>250.086162</td>\n",
       "      <td>False</td>\n",
       "    </tr>\n",
       "    <tr>\n",
       "      <th>4</th>\n",
       "      <td>True</td>\n",
       "      <td>13.113613</td>\n",
       "      <td>True</td>\n",
       "    </tr>\n",
       "  </tbody>\n",
       "</table>\n",
       "</div>"
      ],
      "text/plain": [
       "   purchased  time_on_site  mobile\n",
       "0      False     95.037662   False\n",
       "1      False    181.601163    True\n",
       "2      False    126.289224    True\n",
       "3      False    250.086162   False\n",
       "4       True     13.113613    True"
      ]
     },
     "execution_count": 4,
     "metadata": {},
     "output_type": "execute_result"
    }
   ],
   "source": [
    "# Let's put this in a dataframe so we can look at it more easily\n",
    "import pandas as pd\n",
    "user_data = pd.DataFrame(users)\n",
    "user_data.head()"
   ]
  },
  {
   "cell_type": "code",
   "execution_count": 5,
   "metadata": {
    "colab": {
     "base_uri": "https://localhost:8080/",
     "height": 193
    },
    "colab_type": "code",
    "id": "sr6IJv77ulVl",
    "outputId": "7372cc91-1451-4625-c0b1-1dcb53ac3970"
   },
   "outputs": [
    {
     "data": {
      "text/html": [
       "<div>\n",
       "<style scoped>\n",
       "    .dataframe tbody tr th:only-of-type {\n",
       "        vertical-align: middle;\n",
       "    }\n",
       "\n",
       "    .dataframe tbody tr th {\n",
       "        vertical-align: top;\n",
       "    }\n",
       "\n",
       "    .dataframe thead th {\n",
       "        text-align: right;\n",
       "    }\n",
       "</style>\n",
       "<table border=\"1\" class=\"dataframe\">\n",
       "  <thead>\n",
       "    <tr style=\"text-align: right;\">\n",
       "      <th>time_on_site</th>\n",
       "      <th>5.3507968897784615</th>\n",
       "      <th>5.5499615719416004</th>\n",
       "      <th>5.639222958826454</th>\n",
       "      <th>7.1692228188240765</th>\n",
       "      <th>7.6913309759561415</th>\n",
       "      <th>7.891072953232504</th>\n",
       "      <th>8.778370716915042</th>\n",
       "      <th>8.986533078288218</th>\n",
       "      <th>9.283375726032997</th>\n",
       "      <th>9.550614145193315</th>\n",
       "      <th>...</th>\n",
       "      <th>583.0297086809317</th>\n",
       "      <th>586.6616314865353</th>\n",
       "      <th>587.5272633426018</th>\n",
       "      <th>589.6258659325674</th>\n",
       "      <th>591.2962685822048</th>\n",
       "      <th>593.661655341994</th>\n",
       "      <th>596.7695776565657</th>\n",
       "      <th>597.100324012834</th>\n",
       "      <th>597.9464737336276</th>\n",
       "      <th>599.0075523239328</th>\n",
       "    </tr>\n",
       "    <tr>\n",
       "      <th>purchased</th>\n",
       "      <th></th>\n",
       "      <th></th>\n",
       "      <th></th>\n",
       "      <th></th>\n",
       "      <th></th>\n",
       "      <th></th>\n",
       "      <th></th>\n",
       "      <th></th>\n",
       "      <th></th>\n",
       "      <th></th>\n",
       "      <th></th>\n",
       "      <th></th>\n",
       "      <th></th>\n",
       "      <th></th>\n",
       "      <th></th>\n",
       "      <th></th>\n",
       "      <th></th>\n",
       "      <th></th>\n",
       "      <th></th>\n",
       "      <th></th>\n",
       "      <th></th>\n",
       "    </tr>\n",
       "  </thead>\n",
       "  <tbody>\n",
       "    <tr>\n",
       "      <th>False</th>\n",
       "      <td>1</td>\n",
       "      <td>1</td>\n",
       "      <td>1</td>\n",
       "      <td>1</td>\n",
       "      <td>0</td>\n",
       "      <td>1</td>\n",
       "      <td>1</td>\n",
       "      <td>1</td>\n",
       "      <td>1</td>\n",
       "      <td>1</td>\n",
       "      <td>...</td>\n",
       "      <td>1</td>\n",
       "      <td>1</td>\n",
       "      <td>1</td>\n",
       "      <td>0</td>\n",
       "      <td>1</td>\n",
       "      <td>1</td>\n",
       "      <td>1</td>\n",
       "      <td>1</td>\n",
       "      <td>1</td>\n",
       "      <td>1</td>\n",
       "    </tr>\n",
       "    <tr>\n",
       "      <th>True</th>\n",
       "      <td>0</td>\n",
       "      <td>0</td>\n",
       "      <td>0</td>\n",
       "      <td>0</td>\n",
       "      <td>1</td>\n",
       "      <td>0</td>\n",
       "      <td>0</td>\n",
       "      <td>0</td>\n",
       "      <td>0</td>\n",
       "      <td>0</td>\n",
       "      <td>...</td>\n",
       "      <td>0</td>\n",
       "      <td>0</td>\n",
       "      <td>0</td>\n",
       "      <td>1</td>\n",
       "      <td>0</td>\n",
       "      <td>0</td>\n",
       "      <td>0</td>\n",
       "      <td>0</td>\n",
       "      <td>0</td>\n",
       "      <td>0</td>\n",
       "    </tr>\n",
       "  </tbody>\n",
       "</table>\n",
       "<p>2 rows × 1000 columns</p>\n",
       "</div>"
      ],
      "text/plain": [
       "time_on_site  5.350797    5.549962    5.639223    7.169223    7.691331    \\\n",
       "purchased                                                                  \n",
       "False                  1           1           1           1           0   \n",
       "True                   0           0           0           0           1   \n",
       "\n",
       "time_on_site  7.891073    8.778371    8.986533    9.283376    9.550614    \\\n",
       "purchased                                                                  \n",
       "False                  1           1           1           1           1   \n",
       "True                   0           0           0           0           0   \n",
       "\n",
       "time_on_site     ...      583.029709  586.661631  587.527263  589.625866  \\\n",
       "purchased        ...                                                       \n",
       "False            ...               1           1           1           0   \n",
       "True             ...               0           0           0           1   \n",
       "\n",
       "time_on_site  591.296269  593.661655  596.769578  597.100324  597.946474  \\\n",
       "purchased                                                                  \n",
       "False                  1           1           1           1           1   \n",
       "True                   0           0           0           0           0   \n",
       "\n",
       "time_on_site  599.007552  \n",
       "purchased                 \n",
       "False                  1  \n",
       "True                   0  \n",
       "\n",
       "[2 rows x 1000 columns]"
      ]
     },
     "execution_count": 5,
     "metadata": {},
     "output_type": "execute_result"
    }
   ],
   "source": [
    "# Let's use crosstabulation to try to see what's going on\n",
    "pd.crosstab(user_data['purchased'], user_data['time_on_site'])"
   ]
  },
  {
   "cell_type": "code",
   "execution_count": 6,
   "metadata": {
    "colab": {
     "base_uri": "https://localhost:8080/",
     "height": 161
    },
    "colab_type": "code",
    "id": "hvAv6J3EwA9s",
    "outputId": "dd9044a1-4fc2-4b45-ab20-d2f45d044c3e"
   },
   "outputs": [
    {
     "data": {
      "text/html": [
       "<div>\n",
       "<style scoped>\n",
       "    .dataframe tbody tr th:only-of-type {\n",
       "        vertical-align: middle;\n",
       "    }\n",
       "\n",
       "    .dataframe tbody tr th {\n",
       "        vertical-align: top;\n",
       "    }\n",
       "\n",
       "    .dataframe thead th {\n",
       "        text-align: right;\n",
       "    }\n",
       "</style>\n",
       "<table border=\"1\" class=\"dataframe\">\n",
       "  <thead>\n",
       "    <tr style=\"text-align: right;\">\n",
       "      <th>time_on_site</th>\n",
       "      <th>(4.757, 124.082]</th>\n",
       "      <th>(124.082, 242.813]</th>\n",
       "      <th>(242.813, 361.545]</th>\n",
       "      <th>(361.545, 480.276]</th>\n",
       "      <th>(480.276, 599.008]</th>\n",
       "    </tr>\n",
       "    <tr>\n",
       "      <th>purchased</th>\n",
       "      <th></th>\n",
       "      <th></th>\n",
       "      <th></th>\n",
       "      <th></th>\n",
       "      <th></th>\n",
       "    </tr>\n",
       "  </thead>\n",
       "  <tbody>\n",
       "    <tr>\n",
       "      <th>False</th>\n",
       "      <td>314</td>\n",
       "      <td>295</td>\n",
       "      <td>129</td>\n",
       "      <td>44</td>\n",
       "      <td>54</td>\n",
       "    </tr>\n",
       "    <tr>\n",
       "      <th>True</th>\n",
       "      <td>58</td>\n",
       "      <td>72</td>\n",
       "      <td>30</td>\n",
       "      <td>2</td>\n",
       "      <td>2</td>\n",
       "    </tr>\n",
       "  </tbody>\n",
       "</table>\n",
       "</div>"
      ],
      "text/plain": [
       "time_on_site  (4.757, 124.082]  (124.082, 242.813]  (242.813, 361.545]  \\\n",
       "purchased                                                                \n",
       "False                      314                 295                 129   \n",
       "True                        58                  72                  30   \n",
       "\n",
       "time_on_site  (361.545, 480.276]  (480.276, 599.008]  \n",
       "purchased                                             \n",
       "False                         44                  54  \n",
       "True                           2                   2  "
      ]
     },
     "execution_count": 6,
     "metadata": {},
     "output_type": "execute_result"
    }
   ],
   "source": [
    "# OK, that's not quite what we want\n",
    "# Time is continuous! We need to put it in discrete buckets\n",
    "# Pandas calls these bins, and pandas.cut helps make them\n",
    "\n",
    "time_bins = pd.cut(user_data['time_on_site'], 5)  # 5 equal-sized bins\n",
    "pd.crosstab(user_data['purchased'], time_bins)"
   ]
  },
  {
   "cell_type": "code",
   "execution_count": 7,
   "metadata": {
    "colab": {
     "base_uri": "https://localhost:8080/",
     "height": 161
    },
    "colab_type": "code",
    "id": "pjcXnJw0wfaj",
    "outputId": "1ddcacd4-5f9a-4da0-c786-34b0b876c4ce"
   },
   "outputs": [
    {
     "data": {
      "text/html": [
       "<div>\n",
       "<style scoped>\n",
       "    .dataframe tbody tr th:only-of-type {\n",
       "        vertical-align: middle;\n",
       "    }\n",
       "\n",
       "    .dataframe tbody tr th {\n",
       "        vertical-align: top;\n",
       "    }\n",
       "\n",
       "    .dataframe thead th {\n",
       "        text-align: right;\n",
       "    }\n",
       "</style>\n",
       "<table border=\"1\" class=\"dataframe\">\n",
       "  <thead>\n",
       "    <tr style=\"text-align: right;\">\n",
       "      <th>time_on_site</th>\n",
       "      <th>(4.757, 124.082]</th>\n",
       "      <th>(124.082, 242.813]</th>\n",
       "      <th>(242.813, 361.545]</th>\n",
       "      <th>(361.545, 480.276]</th>\n",
       "      <th>(480.276, 599.008]</th>\n",
       "    </tr>\n",
       "    <tr>\n",
       "      <th>purchased</th>\n",
       "      <th></th>\n",
       "      <th></th>\n",
       "      <th></th>\n",
       "      <th></th>\n",
       "      <th></th>\n",
       "    </tr>\n",
       "  </thead>\n",
       "  <tbody>\n",
       "    <tr>\n",
       "      <th>False</th>\n",
       "      <td>0.844086</td>\n",
       "      <td>0.803815</td>\n",
       "      <td>0.811321</td>\n",
       "      <td>0.956522</td>\n",
       "      <td>0.964286</td>\n",
       "    </tr>\n",
       "    <tr>\n",
       "      <th>True</th>\n",
       "      <td>0.155914</td>\n",
       "      <td>0.196185</td>\n",
       "      <td>0.188679</td>\n",
       "      <td>0.043478</td>\n",
       "      <td>0.035714</td>\n",
       "    </tr>\n",
       "  </tbody>\n",
       "</table>\n",
       "</div>"
      ],
      "text/plain": [
       "time_on_site  (4.757, 124.082]  (124.082, 242.813]  (242.813, 361.545]  \\\n",
       "purchased                                                                \n",
       "False                 0.844086            0.803815            0.811321   \n",
       "True                  0.155914            0.196185            0.188679   \n",
       "\n",
       "time_on_site  (361.545, 480.276]  (480.276, 599.008]  \n",
       "purchased                                             \n",
       "False                   0.956522            0.964286  \n",
       "True                    0.043478            0.035714  "
      ]
     },
     "execution_count": 7,
     "metadata": {},
     "output_type": "execute_result"
    }
   ],
   "source": [
    "# We can make this a bit clearer by normalizing (getting %)\n",
    "pd.crosstab(user_data['purchased'], time_bins, normalize='columns')"
   ]
  },
  {
   "cell_type": "code",
   "execution_count": 8,
   "metadata": {
    "colab": {
     "base_uri": "https://localhost:8080/",
     "height": 143
    },
    "colab_type": "code",
    "id": "C3GzvDxlvZMa",
    "outputId": "34627844-52b3-493b-f11b-5af9c58ed285"
   },
   "outputs": [
    {
     "data": {
      "text/html": [
       "<div>\n",
       "<style scoped>\n",
       "    .dataframe tbody tr th:only-of-type {\n",
       "        vertical-align: middle;\n",
       "    }\n",
       "\n",
       "    .dataframe tbody tr th {\n",
       "        vertical-align: top;\n",
       "    }\n",
       "\n",
       "    .dataframe thead th {\n",
       "        text-align: right;\n",
       "    }\n",
       "</style>\n",
       "<table border=\"1\" class=\"dataframe\">\n",
       "  <thead>\n",
       "    <tr style=\"text-align: right;\">\n",
       "      <th>mobile</th>\n",
       "      <th>False</th>\n",
       "      <th>True</th>\n",
       "    </tr>\n",
       "    <tr>\n",
       "      <th>purchased</th>\n",
       "      <th></th>\n",
       "      <th></th>\n",
       "    </tr>\n",
       "  </thead>\n",
       "  <tbody>\n",
       "    <tr>\n",
       "      <th>False</th>\n",
       "      <td>0.912</td>\n",
       "      <td>0.810667</td>\n",
       "    </tr>\n",
       "    <tr>\n",
       "      <th>True</th>\n",
       "      <td>0.088</td>\n",
       "      <td>0.189333</td>\n",
       "    </tr>\n",
       "  </tbody>\n",
       "</table>\n",
       "</div>"
      ],
      "text/plain": [
       "mobile     False     True \n",
       "purchased                 \n",
       "False      0.912  0.810667\n",
       "True       0.088  0.189333"
      ]
     },
     "execution_count": 8,
     "metadata": {},
     "output_type": "execute_result"
    }
   ],
   "source": [
    "# That seems counter to our hypothesis\n",
    "# More time on the site seems to have fewer purchases\n",
    "\n",
    "# But we know why, since we generated the data!\n",
    "# Let's look at mobile and purchased\n",
    "pd.crosstab(user_data['purchased'], user_data['mobile'], normalize='columns')"
   ]
  },
  {
   "cell_type": "code",
   "execution_count": 9,
   "metadata": {
    "colab": {},
    "colab_type": "code",
    "id": "KQb-wU60xCum"
   },
   "outputs": [],
   "source": [
    "# Yep, mobile users are more likely to buy things\n",
    "# But we're still not seeing the *whole* story until we look at all 3 at once\n",
    "\n",
    "# Live/stretch goal - how can we do that?\n",
    "\n",
    "\n",
    "!apt "
   ]
  },
  {
   "cell_type": "markdown",
   "metadata": {
    "colab_type": "text",
    "id": "lOqaPds9huME"
   },
   "source": [
    "## Assignment - what's going on here?\n",
    "\n",
    "Consider the data in `persons.csv` (already prepared for you, in the repo for the week). It has four columns - a unique id, followed by age (in years), weight (in lbs), and exercise time (in minutes/week) of 1200 (hypothetical) people.\n",
    "\n",
    "Try to figure out which variables are possibly related to each other, and which may be confounding relationships."
   ]
  },
  {
   "cell_type": "code",
   "execution_count": 11,
   "metadata": {
    "colab": {},
    "colab_type": "code",
    "id": "TGUS79cOhPWj"
   },
   "outputs": [
    {
     "data": {
      "text/html": [
       "<div>\n",
       "<style scoped>\n",
       "    .dataframe tbody tr th:only-of-type {\n",
       "        vertical-align: middle;\n",
       "    }\n",
       "\n",
       "    .dataframe tbody tr th {\n",
       "        vertical-align: top;\n",
       "    }\n",
       "\n",
       "    .dataframe thead th {\n",
       "        text-align: right;\n",
       "    }\n",
       "</style>\n",
       "<table border=\"1\" class=\"dataframe\">\n",
       "  <thead>\n",
       "    <tr style=\"text-align: right;\">\n",
       "      <th></th>\n",
       "      <th>age</th>\n",
       "      <th>weight</th>\n",
       "      <th>exercise_time</th>\n",
       "    </tr>\n",
       "  </thead>\n",
       "  <tbody>\n",
       "    <tr>\n",
       "      <th>0</th>\n",
       "      <td>44</td>\n",
       "      <td>118</td>\n",
       "      <td>192</td>\n",
       "    </tr>\n",
       "    <tr>\n",
       "      <th>1</th>\n",
       "      <td>41</td>\n",
       "      <td>161</td>\n",
       "      <td>35</td>\n",
       "    </tr>\n",
       "    <tr>\n",
       "      <th>2</th>\n",
       "      <td>46</td>\n",
       "      <td>128</td>\n",
       "      <td>220</td>\n",
       "    </tr>\n",
       "    <tr>\n",
       "      <th>3</th>\n",
       "      <td>39</td>\n",
       "      <td>216</td>\n",
       "      <td>57</td>\n",
       "    </tr>\n",
       "    <tr>\n",
       "      <th>4</th>\n",
       "      <td>28</td>\n",
       "      <td>116</td>\n",
       "      <td>182</td>\n",
       "    </tr>\n",
       "  </tbody>\n",
       "</table>\n",
       "</div>"
      ],
      "text/plain": [
       "   age  weight  exercise_time\n",
       "0   44     118            192\n",
       "1   41     161             35\n",
       "2   46     128            220\n",
       "3   39     216             57\n",
       "4   28     116            182"
      ]
     },
     "execution_count": 11,
     "metadata": {},
     "output_type": "execute_result"
    }
   ],
   "source": [
    "# TODO - your code here\n",
    "# Use what we did live in lecture as an example\n",
    "\n",
    "# HINT - you can find the raw URL on GitHub and potentially use that\n",
    "# to load the data with read_csv, or you can upload it yourself\n",
    "df = pd.read_csv('https://raw.githubusercontent.com/LambdaSchool/DS-Sprint-01-Dealing-With-Data/master/module4-databackedassertions/persons.csv', index_col=0)\n",
    "df.head(5)\n"
   ]
  },
  {
   "cell_type": "markdown",
   "metadata": {
    "colab_type": "text",
    "id": "BT9gdS7viJZa"
   },
   "source": [
    "### Assignment questions\n",
    "\n",
    "After you've worked on some code, answer the following questions in this text block:\n",
    "\n",
    "1.  What are the variable types in the data?\n",
    "2.  What are the relationships between the variables?\n",
    "3.  Which relationships are \"real\", and which spurious?\n"
   ]
  },
  {
   "cell_type": "markdown",
   "metadata": {
    "colab_type": "text",
    "id": "_XXg2crAipwP"
   },
   "source": [
    "## Stretch goals and resources\n",
    "\n",
    "Following are *optional* things for you to take a look at. Focus on the above assignment first, and make sure to commit and push your changes to GitHub.\n",
    "\n",
    "- [Spurious Correlations](http://tylervigen.com/spurious-correlations)\n",
    "- [NIH on controlling for confounding variables](https://www.ncbi.nlm.nih.gov/pmc/articles/PMC4017459/)\n",
    "\n",
    "Stretch goals:\n",
    "\n",
    "- Produce your own plot inspierd by the Spurious Correlation visualizations (and consider writing a blog post about it - both the content and how you made it)\n",
    "- Pick one of the techniques that NIH highlights for confounding variables - we'll be going into many of them later, but see if you can find which Python modules may help (hint - check scikit-learn)"
   ]
  }
 ],
 "metadata": {
  "colab": {
   "collapsed_sections": [],
   "name": "LS DS 114 - Making Data-backed Assertions.ipynb",
   "provenance": [],
   "version": "0.3.2"
  },
  "kernelspec": {
   "display_name": "Python 3",
   "language": "python",
   "name": "python3"
  },
  "language_info": {
   "codemirror_mode": {
    "name": "ipython",
    "version": 3
   },
   "file_extension": ".py",
   "mimetype": "text/x-python",
   "name": "python",
   "nbconvert_exporter": "python",
   "pygments_lexer": "ipython3",
   "version": "3.6.5"
  }
 },
 "nbformat": 4,
 "nbformat_minor": 1
}
