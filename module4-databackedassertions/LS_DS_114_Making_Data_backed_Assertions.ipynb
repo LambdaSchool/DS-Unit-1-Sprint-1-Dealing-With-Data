{
  "nbformat": 4,
  "nbformat_minor": 0,
  "metadata": {
    "colab": {
      "name": "LS DS 114 - Making Data-backed Assertions.ipynb",
      "version": "0.3.2",
      "provenance": [],
      "collapsed_sections": [],
      "include_colab_link": true
    },
    "kernelspec": {
      "name": "python3",
      "display_name": "Python 3"
    }
  },
  "cells": [
    {
      "cell_type": "markdown",
      "metadata": {
        "id": "view-in-github",
        "colab_type": "text"
      },
      "source": [
        "<a href=\"https://colab.research.google.com/github/zarrinan/DS-Sprint-01-Dealing-With-Data/blob/master/module4-databackedassertions/LS_DS_114_Making_Data_backed_Assertions.ipynb\" target=\"_parent\"><img src=\"https://colab.research.google.com/assets/colab-badge.svg\" alt=\"Open In Colab\"/></a>"
      ]
    },
    {
      "metadata": {
        "id": "Okfr_uhwhS1X",
        "colab_type": "text"
      },
      "cell_type": "markdown",
      "source": [
        "# Lambda School Data Science - Making Data-backed Assertions\n",
        "\n",
        "This is, for many, the main point of data science - to create and support reasoned arguments based on evidence. It's not a topic to master in a day, but it is worth some focused time thinking about and structuring your approach to it."
      ]
    },
    {
      "metadata": {
        "id": "9dtJETFRhnOG",
        "colab_type": "text"
      },
      "cell_type": "markdown",
      "source": [
        "## Lecture - generating a confounding variable\n",
        "\n",
        "The prewatch material told a story about a hypothetical health condition where both the drug usage and overall health outcome were related to gender - thus making gender a confounding variable, obfuscating the possible relationship between the drug and the outcome.\n",
        "\n",
        "Let's use Python to generate data that actually behaves in this fashion!"
      ]
    },
    {
      "metadata": {
        "id": "WiBkgmPJhmhE",
        "colab_type": "code",
        "colab": {}
      },
      "cell_type": "code",
      "source": [
        "import random\n",
        "dir(random)  # Reminding ourselves what we can do here"
      ],
      "execution_count": 0,
      "outputs": []
    },
    {
      "metadata": {
        "id": "Ks5qFtpnq-q5",
        "colab_type": "code",
        "outputId": "524172cd-e2e8-4832-aa2e-50958c759fe4",
        "colab": {
          "base_uri": "https://localhost:8080/",
          "height": 34
        }
      },
      "cell_type": "code",
      "source": [
        "# Let's think of another scenario:\n",
        "# We work for a company that sells accessories for mobile phones.\n",
        "# They have an ecommerce site, and we are supposed to analyze logs\n",
        "# to determine what sort of usage is related to purchases, and thus guide\n",
        "# website development to encourage higher conversion.\n",
        "\n",
        "# The hypothesis - users who spend longer on the site tend\n",
        "# to spend more. Seems reasonable, no?\n",
        "\n",
        "# But there's a confounding variable! If they're on a phone, they:\n",
        "# a) Spend less time on the site, but\n",
        "# b) Are more likely to be interested in the actual products!\n",
        "\n",
        "# Let's use namedtuple to represent our data\n",
        "\n",
        "from collections import namedtuple\n",
        "# purchased and mobile are bools, time_on_site in seconds\n",
        "User = namedtuple('User', ['purchased','time_on_site', 'mobile'])\n",
        "\n",
        "example_user = User(False, 12, False)\n",
        "print(example_user)"
      ],
      "execution_count": 2,
      "outputs": [
        {
          "output_type": "stream",
          "text": [
            "User(purchased=False, time_on_site=12, mobile=False)\n"
          ],
          "name": "stdout"
        }
      ]
    },
    {
      "metadata": {
        "id": "lfPiHNG_sefL",
        "colab_type": "code",
        "outputId": "f26c59ab-e898-4e6c-d0c1-fd7b81f77b08",
        "colab": {
          "base_uri": "https://localhost:8080/",
          "height": 54
        }
      },
      "cell_type": "code",
      "source": [
        "# And now let's generate 1000 example users\n",
        "# 750 mobile, 250 not (i.e. desktop)\n",
        "# A desktop user has a base conversion likelihood of 10%\n",
        "# And it goes up by 1% for each 15 seconds they spend on the site\n",
        "# And they spend anywhere from 10 seconds to 10 minutes on the site (uniform)\n",
        "# Mobile users spend on average half as much time on the site as desktop\n",
        "# But have twice as much base likelihood of buying something\n",
        "\n",
        "users = []\n",
        "\n",
        "for _ in range(250):\n",
        "  # Desktop users\n",
        "  time_on_site = random.uniform(10, 600)\n",
        "  purchased = random.random() < 0.1 + (time_on_site // 1500)\n",
        "  users.append(User(purchased, time_on_site, False))\n",
        "  \n",
        "for _ in range(750):\n",
        "  # Mobile users\n",
        "  time_on_site = random.uniform(5, 300)\n",
        "  purchased = random.random() < 0.2 + (time_on_site // 1500)\n",
        "  users.append(User(purchased, time_on_site, True))\n",
        "  \n",
        "random.shuffle(users)\n",
        "print(users[:10])"
      ],
      "execution_count": 3,
      "outputs": [
        {
          "output_type": "stream",
          "text": [
            "[User(purchased=False, time_on_site=159.74136990402116, mobile=True), User(purchased=False, time_on_site=16.55963897321514, mobile=True), User(purchased=False, time_on_site=194.56734169565823, mobile=True), User(purchased=False, time_on_site=254.21851348739744, mobile=False), User(purchased=False, time_on_site=277.1222740430545, mobile=True), User(purchased=False, time_on_site=499.61087036420065, mobile=False), User(purchased=False, time_on_site=261.96965883461434, mobile=True), User(purchased=False, time_on_site=493.12941572931027, mobile=False), User(purchased=False, time_on_site=356.4834584351512, mobile=False), User(purchased=False, time_on_site=225.44241409085774, mobile=False)]\n"
          ],
          "name": "stdout"
        }
      ]
    },
    {
      "metadata": {
        "id": "9gDYb5qGuRzy",
        "colab_type": "code",
        "outputId": "3b730ebc-fe56-470a-c7ff-bb674d0cc713",
        "colab": {
          "base_uri": "https://localhost:8080/",
          "height": 204
        }
      },
      "cell_type": "code",
      "source": [
        "# Let's put this in a dataframe so we can look at it more easily\n",
        "import pandas as pd\n",
        "user_data = pd.DataFrame(users)\n",
        "user_data.head()"
      ],
      "execution_count": 4,
      "outputs": [
        {
          "output_type": "execute_result",
          "data": {
            "text/html": [
              "<div>\n",
              "<style scoped>\n",
              "    .dataframe tbody tr th:only-of-type {\n",
              "        vertical-align: middle;\n",
              "    }\n",
              "\n",
              "    .dataframe tbody tr th {\n",
              "        vertical-align: top;\n",
              "    }\n",
              "\n",
              "    .dataframe thead th {\n",
              "        text-align: right;\n",
              "    }\n",
              "</style>\n",
              "<table border=\"1\" class=\"dataframe\">\n",
              "  <thead>\n",
              "    <tr style=\"text-align: right;\">\n",
              "      <th></th>\n",
              "      <th>purchased</th>\n",
              "      <th>time_on_site</th>\n",
              "      <th>mobile</th>\n",
              "    </tr>\n",
              "  </thead>\n",
              "  <tbody>\n",
              "    <tr>\n",
              "      <th>0</th>\n",
              "      <td>False</td>\n",
              "      <td>159.741370</td>\n",
              "      <td>True</td>\n",
              "    </tr>\n",
              "    <tr>\n",
              "      <th>1</th>\n",
              "      <td>False</td>\n",
              "      <td>16.559639</td>\n",
              "      <td>True</td>\n",
              "    </tr>\n",
              "    <tr>\n",
              "      <th>2</th>\n",
              "      <td>False</td>\n",
              "      <td>194.567342</td>\n",
              "      <td>True</td>\n",
              "    </tr>\n",
              "    <tr>\n",
              "      <th>3</th>\n",
              "      <td>False</td>\n",
              "      <td>254.218513</td>\n",
              "      <td>False</td>\n",
              "    </tr>\n",
              "    <tr>\n",
              "      <th>4</th>\n",
              "      <td>False</td>\n",
              "      <td>277.122274</td>\n",
              "      <td>True</td>\n",
              "    </tr>\n",
              "  </tbody>\n",
              "</table>\n",
              "</div>"
            ],
            "text/plain": [
              "   purchased  time_on_site  mobile\n",
              "0      False    159.741370    True\n",
              "1      False     16.559639    True\n",
              "2      False    194.567342    True\n",
              "3      False    254.218513   False\n",
              "4      False    277.122274    True"
            ]
          },
          "metadata": {
            "tags": []
          },
          "execution_count": 4
        }
      ]
    },
    {
      "metadata": {
        "id": "sr6IJv77ulVl",
        "colab_type": "code",
        "outputId": "f54bbe6e-dec4-44c4-895d-401ee608cc74",
        "colab": {
          "base_uri": "https://localhost:8080/",
          "height": 191
        }
      },
      "cell_type": "code",
      "source": [
        "# Let's use crosstabulation to try to see what's going on\n",
        "pd.crosstab(user_data['purchased'], user_data['time_on_site'])"
      ],
      "execution_count": 5,
      "outputs": [
        {
          "output_type": "execute_result",
          "data": {
            "text/html": [
              "<div>\n",
              "<style scoped>\n",
              "    .dataframe tbody tr th:only-of-type {\n",
              "        vertical-align: middle;\n",
              "    }\n",
              "\n",
              "    .dataframe tbody tr th {\n",
              "        vertical-align: top;\n",
              "    }\n",
              "\n",
              "    .dataframe thead th {\n",
              "        text-align: right;\n",
              "    }\n",
              "</style>\n",
              "<table border=\"1\" class=\"dataframe\">\n",
              "  <thead>\n",
              "    <tr style=\"text-align: right;\">\n",
              "      <th>time_on_site</th>\n",
              "      <th>5.107303982638431</th>\n",
              "      <th>5.117192195074757</th>\n",
              "      <th>5.140169958961082</th>\n",
              "      <th>5.648417438572876</th>\n",
              "      <th>6.773985297985985</th>\n",
              "      <th>7.3192232936693244</th>\n",
              "      <th>8.272377319550717</th>\n",
              "      <th>8.282479479187222</th>\n",
              "      <th>9.077469009901012</th>\n",
              "      <th>9.94891954995849</th>\n",
              "      <th>...</th>\n",
              "      <th>563.6816474828483</th>\n",
              "      <th>565.3230890313552</th>\n",
              "      <th>579.1143261403222</th>\n",
              "      <th>582.5080743089092</th>\n",
              "      <th>582.7321996849422</th>\n",
              "      <th>585.011673436378</th>\n",
              "      <th>587.7609463283121</th>\n",
              "      <th>589.2636217544971</th>\n",
              "      <th>591.5009429493471</th>\n",
              "      <th>593.1793257005122</th>\n",
              "    </tr>\n",
              "    <tr>\n",
              "      <th>purchased</th>\n",
              "      <th></th>\n",
              "      <th></th>\n",
              "      <th></th>\n",
              "      <th></th>\n",
              "      <th></th>\n",
              "      <th></th>\n",
              "      <th></th>\n",
              "      <th></th>\n",
              "      <th></th>\n",
              "      <th></th>\n",
              "      <th></th>\n",
              "      <th></th>\n",
              "      <th></th>\n",
              "      <th></th>\n",
              "      <th></th>\n",
              "      <th></th>\n",
              "      <th></th>\n",
              "      <th></th>\n",
              "      <th></th>\n",
              "      <th></th>\n",
              "      <th></th>\n",
              "    </tr>\n",
              "  </thead>\n",
              "  <tbody>\n",
              "    <tr>\n",
              "      <th>False</th>\n",
              "      <td>1</td>\n",
              "      <td>0</td>\n",
              "      <td>0</td>\n",
              "      <td>1</td>\n",
              "      <td>0</td>\n",
              "      <td>1</td>\n",
              "      <td>1</td>\n",
              "      <td>1</td>\n",
              "      <td>1</td>\n",
              "      <td>1</td>\n",
              "      <td>...</td>\n",
              "      <td>0</td>\n",
              "      <td>1</td>\n",
              "      <td>1</td>\n",
              "      <td>1</td>\n",
              "      <td>1</td>\n",
              "      <td>1</td>\n",
              "      <td>1</td>\n",
              "      <td>1</td>\n",
              "      <td>1</td>\n",
              "      <td>1</td>\n",
              "    </tr>\n",
              "    <tr>\n",
              "      <th>True</th>\n",
              "      <td>0</td>\n",
              "      <td>1</td>\n",
              "      <td>1</td>\n",
              "      <td>0</td>\n",
              "      <td>1</td>\n",
              "      <td>0</td>\n",
              "      <td>0</td>\n",
              "      <td>0</td>\n",
              "      <td>0</td>\n",
              "      <td>0</td>\n",
              "      <td>...</td>\n",
              "      <td>1</td>\n",
              "      <td>0</td>\n",
              "      <td>0</td>\n",
              "      <td>0</td>\n",
              "      <td>0</td>\n",
              "      <td>0</td>\n",
              "      <td>0</td>\n",
              "      <td>0</td>\n",
              "      <td>0</td>\n",
              "      <td>0</td>\n",
              "    </tr>\n",
              "  </tbody>\n",
              "</table>\n",
              "<p>2 rows × 1000 columns</p>\n",
              "</div>"
            ],
            "text/plain": [
              "time_on_site  5.107304    5.117192    5.140170    5.648417    6.773985    \\\n",
              "purchased                                                                  \n",
              "False                  1           0           0           1           0   \n",
              "True                   0           1           1           0           1   \n",
              "\n",
              "time_on_site  7.319223    8.272377    8.282479    9.077469    9.948920    \\\n",
              "purchased                                                                  \n",
              "False                  1           1           1           1           1   \n",
              "True                   0           0           0           0           0   \n",
              "\n",
              "time_on_site     ...      563.681647  565.323089  579.114326  582.508074  \\\n",
              "purchased        ...                                                       \n",
              "False            ...               0           1           1           1   \n",
              "True             ...               1           0           0           0   \n",
              "\n",
              "time_on_site  582.732200  585.011673  587.760946  589.263622  591.500943  \\\n",
              "purchased                                                                  \n",
              "False                  1           1           1           1           1   \n",
              "True                   0           0           0           0           0   \n",
              "\n",
              "time_on_site  593.179326  \n",
              "purchased                 \n",
              "False                  1  \n",
              "True                   0  \n",
              "\n",
              "[2 rows x 1000 columns]"
            ]
          },
          "metadata": {
            "tags": []
          },
          "execution_count": 5
        }
      ]
    },
    {
      "metadata": {
        "id": "hvAv6J3EwA9s",
        "colab_type": "code",
        "outputId": "7049de89-51dc-43fa-e728-d9b77f16711d",
        "colab": {
          "base_uri": "https://localhost:8080/",
          "height": 142
        }
      },
      "cell_type": "code",
      "source": [
        "# OK, that's not quite what we want\n",
        "# Time is continuous! We need to put it in discrete buckets\n",
        "# Pandas calls these bins, and pandas.cut helps make them\n",
        "\n",
        "time_bins = pd.cut(user_data['time_on_site'], 5)  # 5 equal-sized bins\n",
        "pd.crosstab(user_data['purchased'], time_bins)"
      ],
      "execution_count": 6,
      "outputs": [
        {
          "output_type": "execute_result",
          "data": {
            "text/html": [
              "<div>\n",
              "<style scoped>\n",
              "    .dataframe tbody tr th:only-of-type {\n",
              "        vertical-align: middle;\n",
              "    }\n",
              "\n",
              "    .dataframe tbody tr th {\n",
              "        vertical-align: top;\n",
              "    }\n",
              "\n",
              "    .dataframe thead th {\n",
              "        text-align: right;\n",
              "    }\n",
              "</style>\n",
              "<table border=\"1\" class=\"dataframe\">\n",
              "  <thead>\n",
              "    <tr style=\"text-align: right;\">\n",
              "      <th>time_on_site</th>\n",
              "      <th>(4.519, 122.722]</th>\n",
              "      <th>(122.722, 240.336]</th>\n",
              "      <th>(240.336, 357.951]</th>\n",
              "      <th>(357.951, 475.565]</th>\n",
              "      <th>(475.565, 593.179]</th>\n",
              "    </tr>\n",
              "    <tr>\n",
              "      <th>purchased</th>\n",
              "      <th></th>\n",
              "      <th></th>\n",
              "      <th></th>\n",
              "      <th></th>\n",
              "      <th></th>\n",
              "    </tr>\n",
              "  </thead>\n",
              "  <tbody>\n",
              "    <tr>\n",
              "      <th>False</th>\n",
              "      <td>266</td>\n",
              "      <td>286</td>\n",
              "      <td>170</td>\n",
              "      <td>40</td>\n",
              "      <td>44</td>\n",
              "    </tr>\n",
              "    <tr>\n",
              "      <th>True</th>\n",
              "      <td>78</td>\n",
              "      <td>74</td>\n",
              "      <td>34</td>\n",
              "      <td>4</td>\n",
              "      <td>4</td>\n",
              "    </tr>\n",
              "  </tbody>\n",
              "</table>\n",
              "</div>"
            ],
            "text/plain": [
              "time_on_site  (4.519, 122.722]  (122.722, 240.336]  (240.336, 357.951]  \\\n",
              "purchased                                                                \n",
              "False                      266                 286                 170   \n",
              "True                        78                  74                  34   \n",
              "\n",
              "time_on_site  (357.951, 475.565]  (475.565, 593.179]  \n",
              "purchased                                             \n",
              "False                         40                  44  \n",
              "True                           4                   4  "
            ]
          },
          "metadata": {
            "tags": []
          },
          "execution_count": 6
        }
      ]
    },
    {
      "metadata": {
        "id": "pjcXnJw0wfaj",
        "colab_type": "code",
        "outputId": "2d3578bf-9ebd-4035-fb5d-63c130bba238",
        "colab": {
          "base_uri": "https://localhost:8080/",
          "height": 142
        }
      },
      "cell_type": "code",
      "source": [
        "# We can make this a bit clearer by normalizing (getting %)\n",
        "pd.crosstab(user_data['purchased'], time_bins, normalize='columns')"
      ],
      "execution_count": 7,
      "outputs": [
        {
          "output_type": "execute_result",
          "data": {
            "text/html": [
              "<div>\n",
              "<style scoped>\n",
              "    .dataframe tbody tr th:only-of-type {\n",
              "        vertical-align: middle;\n",
              "    }\n",
              "\n",
              "    .dataframe tbody tr th {\n",
              "        vertical-align: top;\n",
              "    }\n",
              "\n",
              "    .dataframe thead th {\n",
              "        text-align: right;\n",
              "    }\n",
              "</style>\n",
              "<table border=\"1\" class=\"dataframe\">\n",
              "  <thead>\n",
              "    <tr style=\"text-align: right;\">\n",
              "      <th>time_on_site</th>\n",
              "      <th>(4.519, 122.722]</th>\n",
              "      <th>(122.722, 240.336]</th>\n",
              "      <th>(240.336, 357.951]</th>\n",
              "      <th>(357.951, 475.565]</th>\n",
              "      <th>(475.565, 593.179]</th>\n",
              "    </tr>\n",
              "    <tr>\n",
              "      <th>purchased</th>\n",
              "      <th></th>\n",
              "      <th></th>\n",
              "      <th></th>\n",
              "      <th></th>\n",
              "      <th></th>\n",
              "    </tr>\n",
              "  </thead>\n",
              "  <tbody>\n",
              "    <tr>\n",
              "      <th>False</th>\n",
              "      <td>0.773256</td>\n",
              "      <td>0.794444</td>\n",
              "      <td>0.833333</td>\n",
              "      <td>0.909091</td>\n",
              "      <td>0.916667</td>\n",
              "    </tr>\n",
              "    <tr>\n",
              "      <th>True</th>\n",
              "      <td>0.226744</td>\n",
              "      <td>0.205556</td>\n",
              "      <td>0.166667</td>\n",
              "      <td>0.090909</td>\n",
              "      <td>0.083333</td>\n",
              "    </tr>\n",
              "  </tbody>\n",
              "</table>\n",
              "</div>"
            ],
            "text/plain": [
              "time_on_site  (4.519, 122.722]  (122.722, 240.336]  (240.336, 357.951]  \\\n",
              "purchased                                                                \n",
              "False                 0.773256            0.794444            0.833333   \n",
              "True                  0.226744            0.205556            0.166667   \n",
              "\n",
              "time_on_site  (357.951, 475.565]  (475.565, 593.179]  \n",
              "purchased                                             \n",
              "False                   0.909091            0.916667  \n",
              "True                    0.090909            0.083333  "
            ]
          },
          "metadata": {
            "tags": []
          },
          "execution_count": 7
        }
      ]
    },
    {
      "metadata": {
        "id": "C3GzvDxlvZMa",
        "colab_type": "code",
        "outputId": "123f3415-941a-4289-8a34-b13b284574db",
        "colab": {
          "base_uri": "https://localhost:8080/",
          "height": 142
        }
      },
      "cell_type": "code",
      "source": [
        "# That seems counter to our hypothesis\n",
        "# More time on the site seems to have fewer purchases\n",
        "\n",
        "# But we know why, since we generated the data!\n",
        "# Let's look at mobile and purchased\n",
        "pd.crosstab(user_data['purchased'], user_data['mobile'], normalize='columns')"
      ],
      "execution_count": 8,
      "outputs": [
        {
          "output_type": "execute_result",
          "data": {
            "text/html": [
              "<div>\n",
              "<style scoped>\n",
              "    .dataframe tbody tr th:only-of-type {\n",
              "        vertical-align: middle;\n",
              "    }\n",
              "\n",
              "    .dataframe tbody tr th {\n",
              "        vertical-align: top;\n",
              "    }\n",
              "\n",
              "    .dataframe thead th {\n",
              "        text-align: right;\n",
              "    }\n",
              "</style>\n",
              "<table border=\"1\" class=\"dataframe\">\n",
              "  <thead>\n",
              "    <tr style=\"text-align: right;\">\n",
              "      <th>mobile</th>\n",
              "      <th>False</th>\n",
              "      <th>True</th>\n",
              "    </tr>\n",
              "    <tr>\n",
              "      <th>purchased</th>\n",
              "      <th></th>\n",
              "      <th></th>\n",
              "    </tr>\n",
              "  </thead>\n",
              "  <tbody>\n",
              "    <tr>\n",
              "      <th>False</th>\n",
              "      <td>0.888</td>\n",
              "      <td>0.778667</td>\n",
              "    </tr>\n",
              "    <tr>\n",
              "      <th>True</th>\n",
              "      <td>0.112</td>\n",
              "      <td>0.221333</td>\n",
              "    </tr>\n",
              "  </tbody>\n",
              "</table>\n",
              "</div>"
            ],
            "text/plain": [
              "mobile     False     True \n",
              "purchased                 \n",
              "False      0.888  0.778667\n",
              "True       0.112  0.221333"
            ]
          },
          "metadata": {
            "tags": []
          },
          "execution_count": 8
        }
      ]
    },
    {
      "metadata": {
        "id": "KQb-wU60xCum",
        "colab_type": "code",
        "colab": {}
      },
      "cell_type": "code",
      "source": [
        "# Yep, mobile users are more likely to buy things\n",
        "# But we're still not seeing the *whole* story until we look at all 3 at once\n",
        "\n",
        "# Live/stretch goal - how can we do that?"
      ],
      "execution_count": 0,
      "outputs": []
    },
    {
      "metadata": {
        "id": "lOqaPds9huME",
        "colab_type": "text"
      },
      "cell_type": "markdown",
      "source": [
        "## Assignment - what's going on here?\n",
        "\n",
        "Consider the data in `persons.csv` (already prepared for you, in the repo for the week). It has four columns - a unique id, followed by age (in years), weight (in lbs), and exercise time (in minutes/week) of 1200 (hypothetical) people.\n",
        "\n",
        "Try to figure out which variables are possibly related to each other, and which may be confounding relationships."
      ]
    },
    {
      "metadata": {
        "id": "TGUS79cOhPWj",
        "colab_type": "code",
        "colab": {}
      },
      "cell_type": "code",
      "source": [
        "# TODO - your code here\n",
        "# Use what we did live in lecture as an example\n",
        "\n",
        "# HINT - you can find the raw URL on GitHub and potentially use that\n",
        "# to load the data with read_csv, or you can upload it yourself"
      ],
      "execution_count": 0,
      "outputs": []
    },
    {
      "metadata": {
        "id": "BT9gdS7viJZa",
        "colab_type": "text"
      },
      "cell_type": "markdown",
      "source": [
        "### Assignment questions\n",
        "\n",
        "After you've worked on some code, answer the following questions in this text block:\n",
        "\n",
        "1.  What are the variable types in the data?\n",
        "2.  What are the relationships between the variables?\n",
        "3.  Which relationships are \"real\", and which spurious?\n"
      ]
    },
    {
      "metadata": {
        "id": "oPv4hpgEO2_K",
        "colab_type": "code",
        "colab": {
          "base_uri": "https://localhost:8080/",
          "height": 323
        },
        "outputId": "40c50afc-56b9-40c7-8113-8baa2b0e0b6f"
      },
      "cell_type": "code",
      "source": [
        "persons_url = 'https://raw.githubusercontent.com/zarrinan/DS-Sprint-01-Dealing-With-Data/master/module4-databackedassertions/persons.csv'\n",
        "df = pd.read_csv(persons_url, index_col=0)\n",
        "print(df.shape)\n",
        "print(df.describe(include='all'))\n",
        "df.info()"
      ],
      "execution_count": 13,
      "outputs": [
        {
          "output_type": "stream",
          "text": [
            "(1200, 3)\n",
            "               age       weight  exercise_time\n",
            "count  1200.000000  1200.000000    1200.000000\n",
            "mean     48.396667   153.540833     134.910833\n",
            "std      18.166802    35.132182      85.548895\n",
            "min      18.000000   100.000000       0.000000\n",
            "25%      33.000000   125.000000      65.000000\n",
            "50%      48.000000   149.000000     122.000000\n",
            "75%      64.000000   180.250000     206.000000\n",
            "max      80.000000   246.000000     300.000000\n",
            "<class 'pandas.core.frame.DataFrame'>\n",
            "Int64Index: 1200 entries, 0 to 1199\n",
            "Data columns (total 3 columns):\n",
            "age              1200 non-null int64\n",
            "weight           1200 non-null int64\n",
            "exercise_time    1200 non-null int64\n",
            "dtypes: int64(3)\n",
            "memory usage: 37.5 KB\n"
          ],
          "name": "stdout"
        }
      ]
    },
    {
      "metadata": {
        "id": "FEd7DtL9RSps",
        "colab_type": "code",
        "colab": {}
      },
      "cell_type": "code",
      "source": [
        "age = df['age']\n",
        "weight = df['weight']\n",
        "exercise_time = df['exercise_time']"
      ],
      "execution_count": 0,
      "outputs": []
    },
    {
      "metadata": {
        "id": "skPLORTbRrbb",
        "colab_type": "code",
        "colab": {
          "base_uri": "https://localhost:8080/",
          "height": 364
        },
        "outputId": "9d2aa5cd-0d7f-4ebe-86f2-ab065a683d3a"
      },
      "cell_type": "code",
      "source": [
        "import matplotlib.pyplot as plt\n",
        "plt.scatter(age, weight)  "
      ],
      "execution_count": 21,
      "outputs": [
        {
          "output_type": "execute_result",
          "data": {
            "text/plain": [
              "<matplotlib.collections.PathCollection at 0x7fcd67d535c0>"
            ]
          },
          "metadata": {
            "tags": []
          },
          "execution_count": 21
        },
        {
          "output_type": "display_data",
          "data": {
            "image/png": "[encoded data removed]",
            "text/plain": [
              "<matplotlib.figure.Figure at 0x7fcd67dc5d68>"
            ]
          },
          "metadata": {
            "tags": []
          }
        }
      ]
    },
    {
      "metadata": {
        "id": "eBT_T1yNSXR-",
        "colab_type": "code",
        "colab": {
          "base_uri": "https://localhost:8080/",
          "height": 364
        },
        "outputId": "c8c7e3e9-a9c1-4ea8-9626-150f9d88c723"
      },
      "cell_type": "code",
      "source": [
        " plt.scatter(exercise_time, weight)"
      ],
      "execution_count": 22,
      "outputs": [
        {
          "output_type": "execute_result",
          "data": {
            "text/plain": [
              "<matplotlib.collections.PathCollection at 0x7fcd67cb4c88>"
            ]
          },
          "metadata": {
            "tags": []
          },
          "execution_count": 22
        },
        {
          "output_type": "display_data",
          "data": {
            "image/png": "[encoded data removed]",
            "text/plain": [
              "<matplotlib.figure.Figure at 0x7fcd67db0828>"
            ]
          },
          "metadata": {
            "tags": []
          }
        }
      ]
    },
    {
      "metadata": {
        "id": "gEPDGcFNaf8r",
        "colab_type": "code",
        "colab": {}
      },
      "cell_type": "code",
      "source": [
        "age_bins = pd.cut(age, 6)\n",
        "exercise_bins = pd.cut(exercise_time, 5)\n",
        "weight_bins = pd.cut(weight, 5)"
      ],
      "execution_count": 0,
      "outputs": []
    },
    {
      "metadata": {
        "id": "KdeEumNuc_zV",
        "colab_type": "code",
        "colab": {
          "base_uri": "https://localhost:8080/",
          "height": 1010
        },
        "outputId": "bc365cc5-dd69-4040-899d-fa58a94473ef"
      },
      "cell_type": "code",
      "source": [
        "ds = pd.crosstab([weight_bins, age_bins], exercise_bins, normalize='columns')\n",
        "ds\n"
      ],
      "execution_count": 55,
      "outputs": [
        {
          "output_type": "execute_result",
          "data": {
            "text/html": [
              "<div>\n",
              "<style scoped>\n",
              "    .dataframe tbody tr th:only-of-type {\n",
              "        vertical-align: middle;\n",
              "    }\n",
              "\n",
              "    .dataframe tbody tr th {\n",
              "        vertical-align: top;\n",
              "    }\n",
              "\n",
              "    .dataframe thead th {\n",
              "        text-align: right;\n",
              "    }\n",
              "</style>\n",
              "<table border=\"1\" class=\"dataframe\">\n",
              "  <thead>\n",
              "    <tr style=\"text-align: right;\">\n",
              "      <th></th>\n",
              "      <th>exercise_time</th>\n",
              "      <th>(-0.3, 60.0]</th>\n",
              "      <th>(60.0, 120.0]</th>\n",
              "      <th>(120.0, 180.0]</th>\n",
              "      <th>(180.0, 240.0]</th>\n",
              "      <th>(240.0, 300.0]</th>\n",
              "    </tr>\n",
              "    <tr>\n",
              "      <th>weight</th>\n",
              "      <th>age</th>\n",
              "      <th></th>\n",
              "      <th></th>\n",
              "      <th></th>\n",
              "      <th></th>\n",
              "      <th></th>\n",
              "    </tr>\n",
              "  </thead>\n",
              "  <tbody>\n",
              "    <tr>\n",
              "      <th rowspan=\"6\" valign=\"top\">(99.854, 129.2]</th>\n",
              "      <th>(17.938, 28.333]</th>\n",
              "      <td>0.028777</td>\n",
              "      <td>0.025316</td>\n",
              "      <td>0.053812</td>\n",
              "      <td>0.078125</td>\n",
              "      <td>0.120419</td>\n",
              "    </tr>\n",
              "    <tr>\n",
              "      <th>(28.333, 38.667]</th>\n",
              "      <td>0.032374</td>\n",
              "      <td>0.050633</td>\n",
              "      <td>0.085202</td>\n",
              "      <td>0.104167</td>\n",
              "      <td>0.109948</td>\n",
              "    </tr>\n",
              "    <tr>\n",
              "      <th>(38.667, 49.0]</th>\n",
              "      <td>0.010791</td>\n",
              "      <td>0.025316</td>\n",
              "      <td>0.026906</td>\n",
              "      <td>0.088542</td>\n",
              "      <td>0.178010</td>\n",
              "    </tr>\n",
              "    <tr>\n",
              "      <th>(49.0, 59.333]</th>\n",
              "      <td>0.028777</td>\n",
              "      <td>0.015823</td>\n",
              "      <td>0.058296</td>\n",
              "      <td>0.078125</td>\n",
              "      <td>0.136126</td>\n",
              "    </tr>\n",
              "    <tr>\n",
              "      <th>(59.333, 69.667]</th>\n",
              "      <td>0.021583</td>\n",
              "      <td>0.031646</td>\n",
              "      <td>0.044843</td>\n",
              "      <td>0.057292</td>\n",
              "      <td>0.015707</td>\n",
              "    </tr>\n",
              "    <tr>\n",
              "      <th>(69.667, 80.0]</th>\n",
              "      <td>0.068345</td>\n",
              "      <td>0.056962</td>\n",
              "      <td>0.049327</td>\n",
              "      <td>0.005208</td>\n",
              "      <td>0.000000</td>\n",
              "    </tr>\n",
              "    <tr>\n",
              "      <th rowspan=\"6\" valign=\"top\">(129.2, 158.4]</th>\n",
              "      <th>(17.938, 28.333]</th>\n",
              "      <td>0.010791</td>\n",
              "      <td>0.041139</td>\n",
              "      <td>0.085202</td>\n",
              "      <td>0.130208</td>\n",
              "      <td>0.057592</td>\n",
              "    </tr>\n",
              "    <tr>\n",
              "      <th>(28.333, 38.667]</th>\n",
              "      <td>0.039568</td>\n",
              "      <td>0.015823</td>\n",
              "      <td>0.022422</td>\n",
              "      <td>0.072917</td>\n",
              "      <td>0.099476</td>\n",
              "    </tr>\n",
              "    <tr>\n",
              "      <th>(38.667, 49.0]</th>\n",
              "      <td>0.028777</td>\n",
              "      <td>0.031646</td>\n",
              "      <td>0.058296</td>\n",
              "      <td>0.052083</td>\n",
              "      <td>0.094241</td>\n",
              "    </tr>\n",
              "    <tr>\n",
              "      <th>(49.0, 59.333]</th>\n",
              "      <td>0.010791</td>\n",
              "      <td>0.025316</td>\n",
              "      <td>0.035874</td>\n",
              "      <td>0.041667</td>\n",
              "      <td>0.115183</td>\n",
              "    </tr>\n",
              "    <tr>\n",
              "      <th>(59.333, 69.667]</th>\n",
              "      <td>0.025180</td>\n",
              "      <td>0.053797</td>\n",
              "      <td>0.076233</td>\n",
              "      <td>0.083333</td>\n",
              "      <td>0.020942</td>\n",
              "    </tr>\n",
              "    <tr>\n",
              "      <th>(69.667, 80.0]</th>\n",
              "      <td>0.043165</td>\n",
              "      <td>0.072785</td>\n",
              "      <td>0.022422</td>\n",
              "      <td>0.005208</td>\n",
              "      <td>0.000000</td>\n",
              "    </tr>\n",
              "    <tr>\n",
              "      <th rowspan=\"6\" valign=\"top\">(158.4, 187.6]</th>\n",
              "      <th>(17.938, 28.333]</th>\n",
              "      <td>0.021583</td>\n",
              "      <td>0.034810</td>\n",
              "      <td>0.035874</td>\n",
              "      <td>0.052083</td>\n",
              "      <td>0.010471</td>\n",
              "    </tr>\n",
              "    <tr>\n",
              "      <th>(28.333, 38.667]</th>\n",
              "      <td>0.043165</td>\n",
              "      <td>0.031646</td>\n",
              "      <td>0.058296</td>\n",
              "      <td>0.041667</td>\n",
              "      <td>0.010471</td>\n",
              "    </tr>\n",
              "    <tr>\n",
              "      <th>(38.667, 49.0]</th>\n",
              "      <td>0.025180</td>\n",
              "      <td>0.050633</td>\n",
              "      <td>0.035874</td>\n",
              "      <td>0.036458</td>\n",
              "      <td>0.026178</td>\n",
              "    </tr>\n",
              "    <tr>\n",
              "      <th>(49.0, 59.333]</th>\n",
              "      <td>0.032374</td>\n",
              "      <td>0.037975</td>\n",
              "      <td>0.040359</td>\n",
              "      <td>0.036458</td>\n",
              "      <td>0.005236</td>\n",
              "    </tr>\n",
              "    <tr>\n",
              "      <th>(59.333, 69.667]</th>\n",
              "      <td>0.032374</td>\n",
              "      <td>0.053797</td>\n",
              "      <td>0.035874</td>\n",
              "      <td>0.031250</td>\n",
              "      <td>0.000000</td>\n",
              "    </tr>\n",
              "    <tr>\n",
              "      <th>(69.667, 80.0]</th>\n",
              "      <td>0.064748</td>\n",
              "      <td>0.085443</td>\n",
              "      <td>0.044843</td>\n",
              "      <td>0.000000</td>\n",
              "      <td>0.000000</td>\n",
              "    </tr>\n",
              "    <tr>\n",
              "      <th rowspan=\"6\" valign=\"top\">(187.6, 216.8]</th>\n",
              "      <th>(17.938, 28.333]</th>\n",
              "      <td>0.046763</td>\n",
              "      <td>0.025316</td>\n",
              "      <td>0.031390</td>\n",
              "      <td>0.000000</td>\n",
              "      <td>0.000000</td>\n",
              "    </tr>\n",
              "    <tr>\n",
              "      <th>(28.333, 38.667]</th>\n",
              "      <td>0.057554</td>\n",
              "      <td>0.031646</td>\n",
              "      <td>0.008969</td>\n",
              "      <td>0.000000</td>\n",
              "      <td>0.000000</td>\n",
              "    </tr>\n",
              "    <tr>\n",
              "      <th>(38.667, 49.0]</th>\n",
              "      <td>0.035971</td>\n",
              "      <td>0.031646</td>\n",
              "      <td>0.008969</td>\n",
              "      <td>0.000000</td>\n",
              "      <td>0.000000</td>\n",
              "    </tr>\n",
              "    <tr>\n",
              "      <th>(49.0, 59.333]</th>\n",
              "      <td>0.028777</td>\n",
              "      <td>0.037975</td>\n",
              "      <td>0.031390</td>\n",
              "      <td>0.005208</td>\n",
              "      <td>0.000000</td>\n",
              "    </tr>\n",
              "    <tr>\n",
              "      <th>(59.333, 69.667]</th>\n",
              "      <td>0.053957</td>\n",
              "      <td>0.063291</td>\n",
              "      <td>0.026906</td>\n",
              "      <td>0.000000</td>\n",
              "      <td>0.000000</td>\n",
              "    </tr>\n",
              "    <tr>\n",
              "      <th>(69.667, 80.0]</th>\n",
              "      <td>0.050360</td>\n",
              "      <td>0.041139</td>\n",
              "      <td>0.022422</td>\n",
              "      <td>0.000000</td>\n",
              "      <td>0.000000</td>\n",
              "    </tr>\n",
              "    <tr>\n",
              "      <th rowspan=\"6\" valign=\"top\">(216.8, 246.0]</th>\n",
              "      <th>(17.938, 28.333]</th>\n",
              "      <td>0.025180</td>\n",
              "      <td>0.000000</td>\n",
              "      <td>0.000000</td>\n",
              "      <td>0.000000</td>\n",
              "      <td>0.000000</td>\n",
              "    </tr>\n",
              "    <tr>\n",
              "      <th>(28.333, 38.667]</th>\n",
              "      <td>0.017986</td>\n",
              "      <td>0.000000</td>\n",
              "      <td>0.000000</td>\n",
              "      <td>0.000000</td>\n",
              "      <td>0.000000</td>\n",
              "    </tr>\n",
              "    <tr>\n",
              "      <th>(38.667, 49.0]</th>\n",
              "      <td>0.028777</td>\n",
              "      <td>0.000000</td>\n",
              "      <td>0.000000</td>\n",
              "      <td>0.000000</td>\n",
              "      <td>0.000000</td>\n",
              "    </tr>\n",
              "    <tr>\n",
              "      <th>(49.0, 59.333]</th>\n",
              "      <td>0.003597</td>\n",
              "      <td>0.003165</td>\n",
              "      <td>0.000000</td>\n",
              "      <td>0.000000</td>\n",
              "      <td>0.000000</td>\n",
              "    </tr>\n",
              "    <tr>\n",
              "      <th>(59.333, 69.667]</th>\n",
              "      <td>0.032374</td>\n",
              "      <td>0.003165</td>\n",
              "      <td>0.000000</td>\n",
              "      <td>0.000000</td>\n",
              "      <td>0.000000</td>\n",
              "    </tr>\n",
              "    <tr>\n",
              "      <th>(69.667, 80.0]</th>\n",
              "      <td>0.050360</td>\n",
              "      <td>0.022152</td>\n",
              "      <td>0.000000</td>\n",
              "      <td>0.000000</td>\n",
              "      <td>0.000000</td>\n",
              "    </tr>\n",
              "  </tbody>\n",
              "</table>\n",
              "</div>"
            ],
            "text/plain": [
              "exercise_time                     (-0.3, 60.0]  (60.0, 120.0]  (120.0, 180.0]  \\\n",
              "weight          age                                                             \n",
              "(99.854, 129.2] (17.938, 28.333]      0.028777       0.025316        0.053812   \n",
              "                (28.333, 38.667]      0.032374       0.050633        0.085202   \n",
              "                (38.667, 49.0]        0.010791       0.025316        0.026906   \n",
              "                (49.0, 59.333]        0.028777       0.015823        0.058296   \n",
              "                (59.333, 69.667]      0.021583       0.031646        0.044843   \n",
              "                (69.667, 80.0]        0.068345       0.056962        0.049327   \n",
              "(129.2, 158.4]  (17.938, 28.333]      0.010791       0.041139        0.085202   \n",
              "                (28.333, 38.667]      0.039568       0.015823        0.022422   \n",
              "                (38.667, 49.0]        0.028777       0.031646        0.058296   \n",
              "                (49.0, 59.333]        0.010791       0.025316        0.035874   \n",
              "                (59.333, 69.667]      0.025180       0.053797        0.076233   \n",
              "                (69.667, 80.0]        0.043165       0.072785        0.022422   \n",
              "(158.4, 187.6]  (17.938, 28.333]      0.021583       0.034810        0.035874   \n",
              "                (28.333, 38.667]      0.043165       0.031646        0.058296   \n",
              "                (38.667, 49.0]        0.025180       0.050633        0.035874   \n",
              "                (49.0, 59.333]        0.032374       0.037975        0.040359   \n",
              "                (59.333, 69.667]      0.032374       0.053797        0.035874   \n",
              "                (69.667, 80.0]        0.064748       0.085443        0.044843   \n",
              "(187.6, 216.8]  (17.938, 28.333]      0.046763       0.025316        0.031390   \n",
              "                (28.333, 38.667]      0.057554       0.031646        0.008969   \n",
              "                (38.667, 49.0]        0.035971       0.031646        0.008969   \n",
              "                (49.0, 59.333]        0.028777       0.037975        0.031390   \n",
              "                (59.333, 69.667]      0.053957       0.063291        0.026906   \n",
              "                (69.667, 80.0]        0.050360       0.041139        0.022422   \n",
              "(216.8, 246.0]  (17.938, 28.333]      0.025180       0.000000        0.000000   \n",
              "                (28.333, 38.667]      0.017986       0.000000        0.000000   \n",
              "                (38.667, 49.0]        0.028777       0.000000        0.000000   \n",
              "                (49.0, 59.333]        0.003597       0.003165        0.000000   \n",
              "                (59.333, 69.667]      0.032374       0.003165        0.000000   \n",
              "                (69.667, 80.0]        0.050360       0.022152        0.000000   \n",
              "\n",
              "exercise_time                     (180.0, 240.0]  (240.0, 300.0]  \n",
              "weight          age                                               \n",
              "(99.854, 129.2] (17.938, 28.333]        0.078125        0.120419  \n",
              "                (28.333, 38.667]        0.104167        0.109948  \n",
              "                (38.667, 49.0]          0.088542        0.178010  \n",
              "                (49.0, 59.333]          0.078125        0.136126  \n",
              "                (59.333, 69.667]        0.057292        0.015707  \n",
              "                (69.667, 80.0]          0.005208        0.000000  \n",
              "(129.2, 158.4]  (17.938, 28.333]        0.130208        0.057592  \n",
              "                (28.333, 38.667]        0.072917        0.099476  \n",
              "                (38.667, 49.0]          0.052083        0.094241  \n",
              "                (49.0, 59.333]          0.041667        0.115183  \n",
              "                (59.333, 69.667]        0.083333        0.020942  \n",
              "                (69.667, 80.0]          0.005208        0.000000  \n",
              "(158.4, 187.6]  (17.938, 28.333]        0.052083        0.010471  \n",
              "                (28.333, 38.667]        0.041667        0.010471  \n",
              "                (38.667, 49.0]          0.036458        0.026178  \n",
              "                (49.0, 59.333]          0.036458        0.005236  \n",
              "                (59.333, 69.667]        0.031250        0.000000  \n",
              "                (69.667, 80.0]          0.000000        0.000000  \n",
              "(187.6, 216.8]  (17.938, 28.333]        0.000000        0.000000  \n",
              "                (28.333, 38.667]        0.000000        0.000000  \n",
              "                (38.667, 49.0]          0.000000        0.000000  \n",
              "                (49.0, 59.333]          0.005208        0.000000  \n",
              "                (59.333, 69.667]        0.000000        0.000000  \n",
              "                (69.667, 80.0]          0.000000        0.000000  \n",
              "(216.8, 246.0]  (17.938, 28.333]        0.000000        0.000000  \n",
              "                (28.333, 38.667]        0.000000        0.000000  \n",
              "                (38.667, 49.0]          0.000000        0.000000  \n",
              "                (49.0, 59.333]          0.000000        0.000000  \n",
              "                (59.333, 69.667]        0.000000        0.000000  \n",
              "                (69.667, 80.0]          0.000000        0.000000  "
            ]
          },
          "metadata": {
            "tags": []
          },
          "execution_count": 55
        }
      ]
    },
    {
      "metadata": {
        "id": "-XPN_z9PiAvF",
        "colab_type": "code",
        "colab": {
          "base_uri": "https://localhost:8080/",
          "height": 524
        },
        "outputId": "8a8e7bbb-0bf5-4cae-f3b1-f0bba0855896"
      },
      "cell_type": "code",
      "source": [
        "ds.plot(kind='bar', stacked=True)"
      ],
      "execution_count": 56,
      "outputs": [
        {
          "output_type": "execute_result",
          "data": {
            "text/plain": [
              "<matplotlib.axes._subplots.AxesSubplot at 0x7fcd5e716198>"
            ]
          },
          "metadata": {
            "tags": []
          },
          "execution_count": 56
        },
        {
          "output_type": "display_data",
          "data": {
            "image/png": "[encoded data removed]",
            "text/plain": [
              "<matplotlib.figure.Figure at 0x7fcd5f401a58>"
            ]
          },
          "metadata": {
            "tags": []
          }
        }
      ]
    },
    {
      "metadata": {
        "id": "_XXg2crAipwP",
        "colab_type": "text"
      },
      "cell_type": "markdown",
      "source": [
        "## Stretch goals and resources\n",
        "\n",
        "Following are *optional* things for you to take a look at. Focus on the above assignment first, and make sure to commit and push your changes to GitHub.\n",
        "\n",
        "- [Spurious Correlations](http://tylervigen.com/spurious-correlations)\n",
        "- [NIH on controlling for confounding variables](https://www.ncbi.nlm.nih.gov/pmc/articles/PMC4017459/)\n",
        "\n",
        "Stretch goals:\n",
        "\n",
        "- Produce your own plot inspierd by the Spurious Correlation visualizations (and consider writing a blog post about it - both the content and how you made it)\n",
        "- Pick one of the techniques that NIH highlights for confounding variables - we'll be going into many of them later, but see if you can find which Python modules may help (hint - check scikit-learn)"
      ]
    }
  ]
}