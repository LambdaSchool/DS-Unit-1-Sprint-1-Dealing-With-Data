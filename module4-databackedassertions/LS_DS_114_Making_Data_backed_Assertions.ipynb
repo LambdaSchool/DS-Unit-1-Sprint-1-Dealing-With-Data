{
 "cells": [
  {
   "cell_type": "markdown",
   "metadata": {
    "colab_type": "text",
    "id": "Okfr_uhwhS1X"
   },
   "source": [
    "# Lambda School Data Science - Making Data-backed Assertions\n",
    "\n",
    "This is, for many, the main point of data science - to create and support reasoned arguments based on evidence. It's not a topic to master in a day, but it is worth some focused time thinking about and structuring your approach to it."
   ]
  },
  {
   "cell_type": "markdown",
   "metadata": {
    "colab_type": "text",
    "id": "9dtJETFRhnOG"
   },
   "source": [
    "## Lecture - generating a confounding variable\n",
    "\n",
    "The prewatch material told a story about a hypothetical health condition where both the drug usage and overall health outcome were related to gender - thus making gender a confounding variable, obfuscating the possible relationship between the drug and the outcome.\n",
    "\n",
    "Let's use Python to generate data that actually behaves in this fashion!"
   ]
  },
  {
   "cell_type": "code",
   "execution_count": 1,
   "metadata": {
    "colab": {
     "base_uri": "https://localhost:8080/",
     "height": 1076
    },
    "colab_type": "code",
    "id": "WiBkgmPJhmhE",
    "outputId": "25521477-4950-4f47-9f04-70d1804fafe1"
   },
   "outputs": [
    {
     "data": {
      "text/plain": [
       "['BPF',\n",
       " 'LOG4',\n",
       " 'NV_MAGICCONST',\n",
       " 'RECIP_BPF',\n",
       " 'Random',\n",
       " 'SG_MAGICCONST',\n",
       " 'SystemRandom',\n",
       " 'TWOPI',\n",
       " '_BuiltinMethodType',\n",
       " '_MethodType',\n",
       " '_Sequence',\n",
       " '_Set',\n",
       " '__all__',\n",
       " '__builtins__',\n",
       " '__cached__',\n",
       " '__doc__',\n",
       " '__file__',\n",
       " '__loader__',\n",
       " '__name__',\n",
       " '__package__',\n",
       " '__spec__',\n",
       " '_acos',\n",
       " '_bisect',\n",
       " '_ceil',\n",
       " '_cos',\n",
       " '_e',\n",
       " '_exp',\n",
       " '_inst',\n",
       " '_itertools',\n",
       " '_log',\n",
       " '_pi',\n",
       " '_random',\n",
       " '_sha512',\n",
       " '_sin',\n",
       " '_sqrt',\n",
       " '_test',\n",
       " '_test_generator',\n",
       " '_urandom',\n",
       " '_warn',\n",
       " 'betavariate',\n",
       " 'choice',\n",
       " 'choices',\n",
       " 'expovariate',\n",
       " 'gammavariate',\n",
       " 'gauss',\n",
       " 'getrandbits',\n",
       " 'getstate',\n",
       " 'lognormvariate',\n",
       " 'normalvariate',\n",
       " 'paretovariate',\n",
       " 'randint',\n",
       " 'random',\n",
       " 'randrange',\n",
       " 'sample',\n",
       " 'seed',\n",
       " 'setstate',\n",
       " 'shuffle',\n",
       " 'triangular',\n",
       " 'uniform',\n",
       " 'vonmisesvariate',\n",
       " 'weibullvariate']"
      ]
     },
     "execution_count": 1,
     "metadata": {},
     "output_type": "execute_result"
    }
   ],
   "source": [
    "import random\n",
    "dir(random)  # Reminding ourselves what we can do here"
   ]
  },
  {
   "cell_type": "code",
   "execution_count": 2,
   "metadata": {
    "colab": {
     "base_uri": "https://localhost:8080/",
     "height": 34
    },
    "colab_type": "code",
    "id": "Ks5qFtpnq-q5",
    "outputId": "186d7aeb-8b78-4960-ed60-6961951ecf84"
   },
   "outputs": [
    {
     "name": "stdout",
     "output_type": "stream",
     "text": [
      "User(purchased=False, time_on_site=12, mobile=False)\n"
     ]
    }
   ],
   "source": [
    "# Let's think of another scenario:\n",
    "# We work for a company that sells accessories for mobile phones.\n",
    "# They have an ecommerce site, and we are supposed to analyze logs\n",
    "# to determine what sort of usage is related to purchases, and thus guide\n",
    "# website development to encourage higher conversion.\n",
    "\n",
    "# The hypothesis - users who spend longer on the site tend\n",
    "# to spend more. Seems reasonable, no?\n",
    "\n",
    "# But there's a confounding variable! If they're on a phone, they:\n",
    "# a) Spend less time on the site, but\n",
    "# b) Are more likely to be interested in the actual products!\n",
    "\n",
    "# Let's use namedtuple to represent our data\n",
    "\n",
    "from collections import namedtuple\n",
    "# purchased and mobile are bools, time_on_site in seconds\n",
    "User = namedtuple('User', ['purchased','time_on_site', 'mobile'])\n",
    "\n",
    "example_user = User(False, 12, False)\n",
    "print(example_user)"
   ]
  },
  {
   "cell_type": "code",
   "execution_count": 12,
   "metadata": {
    "colab": {
     "base_uri": "https://localhost:8080/",
     "height": 54
    },
    "colab_type": "code",
    "id": "lfPiHNG_sefL",
    "outputId": "b31fd172-db21-4a4d-e5b4-6348e12f8e68"
   },
   "outputs": [
    {
     "name": "stdout",
     "output_type": "stream",
     "text": [
      "[User(purchased=False, time_on_site=276.9700934767833, mobile=True), User(purchased=False, time_on_site=187.55340059464294, mobile=True), User(purchased=False, time_on_site=253.33116900288135, mobile=True), User(purchased=True, time_on_site=207.74074485361749, mobile=False), User(purchased=True, time_on_site=241.97740989699577, mobile=True), User(purchased=True, time_on_site=269.59432144097224, mobile=True), User(purchased=True, time_on_site=294.0130503292321, mobile=True), User(purchased=False, time_on_site=108.83814315757766, mobile=True), User(purchased=False, time_on_site=217.32159769597712, mobile=True), User(purchased=False, time_on_site=9.792904563907905, mobile=True)]\n"
     ]
    }
   ],
   "source": [
    "# And now let's generate 1000 example users\n",
    "# 750 mobile, 250 not (i.e. desktop)\n",
    "# A desktop user has a base conversion likelihood of 10%\n",
    "# And it goes up by 1% for each 15 seconds they spend on the site\n",
    "# And they spend anywhere from 10 seconds to 10 minutes on the site (uniform)\n",
    "# Mobile users spend on average half as much time on the site as desktop\n",
    "# But have twice as much base likelihood of buying something\n",
    "\n",
    "users = []\n",
    "\n",
    "user_count = 1000.0\n",
    "desktop_users = int((1/4)*user_count)\n",
    "mobile_users = int((3/4)*user_count)\n",
    "\n",
    "for _ in range(desktop_users):\n",
    "    # Desktop users\n",
    "    time_on_site = random.uniform(10, 600)\n",
    "    purchased = random.random() < 0.1 + (time_on_site / 1500)\n",
    "    users.append(User(purchased, time_on_site, False))\n",
    "  \n",
    "for _ in range(mobile_users):\n",
    "    # Mobile users\n",
    "    time_on_site = random.uniform(5, 300)\n",
    "    purchased = random.random() < 0.2 + (time_on_site / 1500)\n",
    "    users.append(User(purchased, time_on_site, True))\n",
    "  \n",
    "random.shuffle(users)\n",
    "print(users[:10])"
   ]
  },
  {
   "cell_type": "code",
   "execution_count": 13,
   "metadata": {
    "colab": {
     "base_uri": "https://localhost:8080/",
     "height": 206
    },
    "colab_type": "code",
    "id": "9gDYb5qGuRzy",
    "outputId": "687484ac-3b66-4105-e359-62311be9363d"
   },
   "outputs": [
    {
     "data": {
      "text/html": [
       "<div>\n",
       "<style scoped>\n",
       "    .dataframe tbody tr th:only-of-type {\n",
       "        vertical-align: middle;\n",
       "    }\n",
       "\n",
       "    .dataframe tbody tr th {\n",
       "        vertical-align: top;\n",
       "    }\n",
       "\n",
       "    .dataframe thead th {\n",
       "        text-align: right;\n",
       "    }\n",
       "</style>\n",
       "<table border=\"1\" class=\"dataframe\">\n",
       "  <thead>\n",
       "    <tr style=\"text-align: right;\">\n",
       "      <th></th>\n",
       "      <th>purchased</th>\n",
       "      <th>time_on_site</th>\n",
       "      <th>mobile</th>\n",
       "    </tr>\n",
       "  </thead>\n",
       "  <tbody>\n",
       "    <tr>\n",
       "      <th>0</th>\n",
       "      <td>False</td>\n",
       "      <td>276.970093</td>\n",
       "      <td>True</td>\n",
       "    </tr>\n",
       "    <tr>\n",
       "      <th>1</th>\n",
       "      <td>False</td>\n",
       "      <td>187.553401</td>\n",
       "      <td>True</td>\n",
       "    </tr>\n",
       "    <tr>\n",
       "      <th>2</th>\n",
       "      <td>False</td>\n",
       "      <td>253.331169</td>\n",
       "      <td>True</td>\n",
       "    </tr>\n",
       "    <tr>\n",
       "      <th>3</th>\n",
       "      <td>True</td>\n",
       "      <td>207.740745</td>\n",
       "      <td>False</td>\n",
       "    </tr>\n",
       "    <tr>\n",
       "      <th>4</th>\n",
       "      <td>True</td>\n",
       "      <td>241.977410</td>\n",
       "      <td>True</td>\n",
       "    </tr>\n",
       "  </tbody>\n",
       "</table>\n",
       "</div>"
      ],
      "text/plain": [
       "   purchased  time_on_site  mobile\n",
       "0      False    276.970093    True\n",
       "1      False    187.553401    True\n",
       "2      False    253.331169    True\n",
       "3       True    207.740745   False\n",
       "4       True    241.977410    True"
      ]
     },
     "execution_count": 13,
     "metadata": {},
     "output_type": "execute_result"
    }
   ],
   "source": [
    "# Let's put this in a dataframe so we can look at it more easily\n",
    "import pandas as pd\n",
    "user_data = pd.DataFrame(users)\n",
    "user_data.head()"
   ]
  },
  {
   "cell_type": "code",
   "execution_count": 14,
   "metadata": {
    "colab": {
     "base_uri": "https://localhost:8080/",
     "height": 193
    },
    "colab_type": "code",
    "id": "sr6IJv77ulVl",
    "outputId": "7372cc91-1451-4625-c0b1-1dcb53ac3970"
   },
   "outputs": [
    {
     "data": {
      "text/html": [
       "<div>\n",
       "<style scoped>\n",
       "    .dataframe tbody tr th:only-of-type {\n",
       "        vertical-align: middle;\n",
       "    }\n",
       "\n",
       "    .dataframe tbody tr th {\n",
       "        vertical-align: top;\n",
       "    }\n",
       "\n",
       "    .dataframe thead th {\n",
       "        text-align: right;\n",
       "    }\n",
       "</style>\n",
       "<table border=\"1\" class=\"dataframe\">\n",
       "  <thead>\n",
       "    <tr style=\"text-align: right;\">\n",
       "      <th>time_on_site</th>\n",
       "      <th>5.523395633613183</th>\n",
       "      <th>5.91922729321219</th>\n",
       "      <th>6.913594757159657</th>\n",
       "      <th>7.241930090793651</th>\n",
       "      <th>7.3854759049726155</th>\n",
       "      <th>8.04867065471391</th>\n",
       "      <th>9.792904563907905</th>\n",
       "      <th>10.189447262863212</th>\n",
       "      <th>11.516382054416482</th>\n",
       "      <th>11.706420835774926</th>\n",
       "      <th>...</th>\n",
       "      <th>573.1550714674758</th>\n",
       "      <th>575.3074663980381</th>\n",
       "      <th>575.910103710396</th>\n",
       "      <th>579.9344161537639</th>\n",
       "      <th>580.5538520236981</th>\n",
       "      <th>583.4316854081177</th>\n",
       "      <th>585.3082868379222</th>\n",
       "      <th>586.5840603032814</th>\n",
       "      <th>595.2360651099401</th>\n",
       "      <th>595.5398050644333</th>\n",
       "    </tr>\n",
       "    <tr>\n",
       "      <th>purchased</th>\n",
       "      <th></th>\n",
       "      <th></th>\n",
       "      <th></th>\n",
       "      <th></th>\n",
       "      <th></th>\n",
       "      <th></th>\n",
       "      <th></th>\n",
       "      <th></th>\n",
       "      <th></th>\n",
       "      <th></th>\n",
       "      <th></th>\n",
       "      <th></th>\n",
       "      <th></th>\n",
       "      <th></th>\n",
       "      <th></th>\n",
       "      <th></th>\n",
       "      <th></th>\n",
       "      <th></th>\n",
       "      <th></th>\n",
       "      <th></th>\n",
       "      <th></th>\n",
       "    </tr>\n",
       "  </thead>\n",
       "  <tbody>\n",
       "    <tr>\n",
       "      <th>False</th>\n",
       "      <td>0</td>\n",
       "      <td>1</td>\n",
       "      <td>1</td>\n",
       "      <td>1</td>\n",
       "      <td>1</td>\n",
       "      <td>1</td>\n",
       "      <td>1</td>\n",
       "      <td>1</td>\n",
       "      <td>1</td>\n",
       "      <td>1</td>\n",
       "      <td>...</td>\n",
       "      <td>1</td>\n",
       "      <td>0</td>\n",
       "      <td>0</td>\n",
       "      <td>0</td>\n",
       "      <td>1</td>\n",
       "      <td>1</td>\n",
       "      <td>0</td>\n",
       "      <td>0</td>\n",
       "      <td>1</td>\n",
       "      <td>1</td>\n",
       "    </tr>\n",
       "    <tr>\n",
       "      <th>True</th>\n",
       "      <td>1</td>\n",
       "      <td>0</td>\n",
       "      <td>0</td>\n",
       "      <td>0</td>\n",
       "      <td>0</td>\n",
       "      <td>0</td>\n",
       "      <td>0</td>\n",
       "      <td>0</td>\n",
       "      <td>0</td>\n",
       "      <td>0</td>\n",
       "      <td>...</td>\n",
       "      <td>0</td>\n",
       "      <td>1</td>\n",
       "      <td>1</td>\n",
       "      <td>1</td>\n",
       "      <td>0</td>\n",
       "      <td>0</td>\n",
       "      <td>1</td>\n",
       "      <td>1</td>\n",
       "      <td>0</td>\n",
       "      <td>0</td>\n",
       "    </tr>\n",
       "  </tbody>\n",
       "</table>\n",
       "<p>2 rows × 1000 columns</p>\n",
       "</div>"
      ],
      "text/plain": [
       "time_on_site  5.523396    5.919227    6.913595    7.241930    7.385476    \\\n",
       "purchased                                                                  \n",
       "False                  0           1           1           1           1   \n",
       "True                   1           0           0           0           0   \n",
       "\n",
       "time_on_site  8.048671    9.792905    10.189447   11.516382   11.706421   \\\n",
       "purchased                                                                  \n",
       "False                  1           1           1           1           1   \n",
       "True                   0           0           0           0           0   \n",
       "\n",
       "time_on_site     ...      573.155071  575.307466  575.910104  579.934416  \\\n",
       "purchased        ...                                                       \n",
       "False            ...               1           0           0           0   \n",
       "True             ...               0           1           1           1   \n",
       "\n",
       "time_on_site  580.553852  583.431685  585.308287  586.584060  595.236065  \\\n",
       "purchased                                                                  \n",
       "False                  1           1           0           0           1   \n",
       "True                   0           0           1           1           0   \n",
       "\n",
       "time_on_site  595.539805  \n",
       "purchased                 \n",
       "False                  1  \n",
       "True                   0  \n",
       "\n",
       "[2 rows x 1000 columns]"
      ]
     },
     "execution_count": 14,
     "metadata": {},
     "output_type": "execute_result"
    }
   ],
   "source": [
    "# Let's use crosstabulation to try to see what's going on\n",
    "pd.crosstab(user_data['purchased'], user_data['time_on_site'])"
   ]
  },
  {
   "cell_type": "code",
   "execution_count": 16,
   "metadata": {},
   "outputs": [
    {
     "data": {
      "text/html": [
       "<div>\n",
       "<style scoped>\n",
       "    .dataframe tbody tr th:only-of-type {\n",
       "        vertical-align: middle;\n",
       "    }\n",
       "\n",
       "    .dataframe tbody tr th {\n",
       "        vertical-align: top;\n",
       "    }\n",
       "\n",
       "    .dataframe thead th {\n",
       "        text-align: right;\n",
       "    }\n",
       "</style>\n",
       "<table border=\"1\" class=\"dataframe\">\n",
       "  <thead>\n",
       "    <tr style=\"text-align: right;\">\n",
       "      <th>mobile</th>\n",
       "      <th>False</th>\n",
       "      <th>True</th>\n",
       "    </tr>\n",
       "    <tr>\n",
       "      <th>purchased</th>\n",
       "      <th></th>\n",
       "      <th></th>\n",
       "    </tr>\n",
       "  </thead>\n",
       "  <tbody>\n",
       "    <tr>\n",
       "      <th>False</th>\n",
       "      <td>166</td>\n",
       "      <td>527</td>\n",
       "    </tr>\n",
       "    <tr>\n",
       "      <th>True</th>\n",
       "      <td>84</td>\n",
       "      <td>223</td>\n",
       "    </tr>\n",
       "  </tbody>\n",
       "</table>\n",
       "</div>"
      ],
      "text/plain": [
       "mobile     False  True \n",
       "purchased              \n",
       "False        166    527\n",
       "True          84    223"
      ]
     },
     "execution_count": 16,
     "metadata": {},
     "output_type": "execute_result"
    }
   ],
   "source": [
    "pd.crosstab(user_data['purchased'], user_data['mobile'])"
   ]
  },
  {
   "cell_type": "code",
   "execution_count": 31,
   "metadata": {},
   "outputs": [],
   "source": [
    "did_not_purchase_count = pd.crosstab(user_data['purchased'], user_data['mobile'])._xs(key=0).sum()\n",
    "did_purchase_count = pd.crosstab(user_data['purchased'], user_data['mobile'])._xs(key=1).sum()"
   ]
  },
  {
   "cell_type": "code",
   "execution_count": 51,
   "metadata": {
    "colab": {
     "base_uri": "https://localhost:8080/",
     "height": 161
    },
    "colab_type": "code",
    "id": "hvAv6J3EwA9s",
    "outputId": "dd9044a1-4fc2-4b45-ab20-d2f45d044c3e"
   },
   "outputs": [
    {
     "data": {
      "text/html": [
       "<div>\n",
       "<style scoped>\n",
       "    .dataframe tbody tr th:only-of-type {\n",
       "        vertical-align: middle;\n",
       "    }\n",
       "\n",
       "    .dataframe tbody tr th {\n",
       "        vertical-align: top;\n",
       "    }\n",
       "\n",
       "    .dataframe thead th {\n",
       "        text-align: right;\n",
       "    }\n",
       "</style>\n",
       "<table border=\"1\" class=\"dataframe\">\n",
       "  <thead>\n",
       "    <tr style=\"text-align: right;\">\n",
       "      <th>time_on_site</th>\n",
       "      <th>(0.0822, 2.059]</th>\n",
       "      <th>(2.059, 4.025]</th>\n",
       "      <th>(4.025, 5.992]</th>\n",
       "      <th>(5.992, 7.959]</th>\n",
       "      <th>(7.959, 9.926]</th>\n",
       "    </tr>\n",
       "    <tr>\n",
       "      <th>purchased</th>\n",
       "      <th></th>\n",
       "      <th></th>\n",
       "      <th></th>\n",
       "      <th></th>\n",
       "      <th></th>\n",
       "    </tr>\n",
       "  </thead>\n",
       "  <tbody>\n",
       "    <tr>\n",
       "      <th>False</th>\n",
       "      <td>128</td>\n",
       "      <td>240</td>\n",
       "      <td>272</td>\n",
       "      <td>27</td>\n",
       "      <td>26</td>\n",
       "    </tr>\n",
       "    <tr>\n",
       "      <th>True</th>\n",
       "      <td>70</td>\n",
       "      <td>102</td>\n",
       "      <td>86</td>\n",
       "      <td>28</td>\n",
       "      <td>21</td>\n",
       "    </tr>\n",
       "  </tbody>\n",
       "</table>\n",
       "</div>"
      ],
      "text/plain": [
       "time_on_site  (0.0822, 2.059]  (2.059, 4.025]  (4.025, 5.992]  (5.992, 7.959]  \\\n",
       "purchased                                                                       \n",
       "False                     128             240             272              27   \n",
       "True                       70             102              86              28   \n",
       "\n",
       "time_on_site  (7.959, 9.926]  \n",
       "purchased                     \n",
       "False                     26  \n",
       "True                      21  "
      ]
     },
     "execution_count": 51,
     "metadata": {},
     "output_type": "execute_result"
    }
   ],
   "source": [
    "# OK, that's not quite what we want\n",
    "# Time is continuous! We need to put it in discrete buckets\n",
    "# Pandas calls these bins, and pandas.cut helps make them\n",
    "time_bins = pd.cut(user_data['time_on_site'], 5)  # 5 equal-sized bins\n",
    "pd.crosstab(user_data['purchased'], time_bins)"
   ]
  },
  {
   "cell_type": "code",
   "execution_count": 52,
   "metadata": {
    "colab": {
     "base_uri": "https://localhost:8080/",
     "height": 161
    },
    "colab_type": "code",
    "id": "pjcXnJw0wfaj",
    "outputId": "1ddcacd4-5f9a-4da0-c786-34b0b876c4ce"
   },
   "outputs": [
    {
     "data": {
      "text/html": [
       "<div>\n",
       "<style scoped>\n",
       "    .dataframe tbody tr th:only-of-type {\n",
       "        vertical-align: middle;\n",
       "    }\n",
       "\n",
       "    .dataframe tbody tr th {\n",
       "        vertical-align: top;\n",
       "    }\n",
       "\n",
       "    .dataframe thead th {\n",
       "        text-align: right;\n",
       "    }\n",
       "</style>\n",
       "<table border=\"1\" class=\"dataframe\">\n",
       "  <thead>\n",
       "    <tr style=\"text-align: right;\">\n",
       "      <th>time_on_site</th>\n",
       "      <th>(0.0822, 2.059]</th>\n",
       "      <th>(2.059, 4.025]</th>\n",
       "      <th>(4.025, 5.992]</th>\n",
       "      <th>(5.992, 7.959]</th>\n",
       "      <th>(7.959, 9.926]</th>\n",
       "    </tr>\n",
       "    <tr>\n",
       "      <th>purchased</th>\n",
       "      <th></th>\n",
       "      <th></th>\n",
       "      <th></th>\n",
       "      <th></th>\n",
       "      <th></th>\n",
       "    </tr>\n",
       "  </thead>\n",
       "  <tbody>\n",
       "    <tr>\n",
       "      <th>False</th>\n",
       "      <td>0.646465</td>\n",
       "      <td>0.701754</td>\n",
       "      <td>0.759777</td>\n",
       "      <td>0.490909</td>\n",
       "      <td>0.553191</td>\n",
       "    </tr>\n",
       "    <tr>\n",
       "      <th>True</th>\n",
       "      <td>0.353535</td>\n",
       "      <td>0.298246</td>\n",
       "      <td>0.240223</td>\n",
       "      <td>0.509091</td>\n",
       "      <td>0.446809</td>\n",
       "    </tr>\n",
       "  </tbody>\n",
       "</table>\n",
       "</div>"
      ],
      "text/plain": [
       "time_on_site  (0.0822, 2.059]  (2.059, 4.025]  (4.025, 5.992]  (5.992, 7.959]  \\\n",
       "purchased                                                                       \n",
       "False                0.646465        0.701754        0.759777        0.490909   \n",
       "True                 0.353535        0.298246        0.240223        0.509091   \n",
       "\n",
       "time_on_site  (7.959, 9.926]  \n",
       "purchased                     \n",
       "False               0.553191  \n",
       "True                0.446809  "
      ]
     },
     "execution_count": 52,
     "metadata": {},
     "output_type": "execute_result"
    }
   ],
   "source": [
    "# We can make this a bit clearer by normalizing (getting %)\n",
    "pd.crosstab(user_data['purchased'], time_bins, normalize='columns')"
   ]
  },
  {
   "cell_type": "code",
   "execution_count": 53,
   "metadata": {
    "colab": {
     "base_uri": "https://localhost:8080/",
     "height": 143
    },
    "colab_type": "code",
    "id": "C3GzvDxlvZMa",
    "outputId": "34627844-52b3-493b-f11b-5af9c58ed285"
   },
   "outputs": [
    {
     "data": {
      "text/html": [
       "<div>\n",
       "<style scoped>\n",
       "    .dataframe tbody tr th:only-of-type {\n",
       "        vertical-align: middle;\n",
       "    }\n",
       "\n",
       "    .dataframe tbody tr th {\n",
       "        vertical-align: top;\n",
       "    }\n",
       "\n",
       "    .dataframe thead th {\n",
       "        text-align: right;\n",
       "    }\n",
       "</style>\n",
       "<table border=\"1\" class=\"dataframe\">\n",
       "  <thead>\n",
       "    <tr style=\"text-align: right;\">\n",
       "      <th>mobile</th>\n",
       "      <th>False</th>\n",
       "      <th>True</th>\n",
       "    </tr>\n",
       "    <tr>\n",
       "      <th>purchased</th>\n",
       "      <th></th>\n",
       "      <th></th>\n",
       "    </tr>\n",
       "  </thead>\n",
       "  <tbody>\n",
       "    <tr>\n",
       "      <th>False</th>\n",
       "      <td>0.664</td>\n",
       "      <td>0.702667</td>\n",
       "    </tr>\n",
       "    <tr>\n",
       "      <th>True</th>\n",
       "      <td>0.336</td>\n",
       "      <td>0.297333</td>\n",
       "    </tr>\n",
       "  </tbody>\n",
       "</table>\n",
       "</div>"
      ],
      "text/plain": [
       "mobile     False     True \n",
       "purchased                 \n",
       "False      0.664  0.702667\n",
       "True       0.336  0.297333"
      ]
     },
     "execution_count": 53,
     "metadata": {},
     "output_type": "execute_result"
    }
   ],
   "source": [
    "# That seems counter to our hypothesis\n",
    "# More time on the site can have fewer purchases\n",
    "\n",
    "# But we know why, since we generated the data!\n",
    "# Let's look at mobile and purchased\n",
    "pd.crosstab(user_data['purchased'], user_data['mobile'], normalize='columns')"
   ]
  },
  {
   "cell_type": "code",
   "execution_count": 54,
   "metadata": {
    "colab": {},
    "colab_type": "code",
    "id": "KQb-wU60xCum"
   },
   "outputs": [
    {
     "data": {
      "text/html": [
       "<div>\n",
       "<style scoped>\n",
       "    .dataframe tbody tr th:only-of-type {\n",
       "        vertical-align: middle;\n",
       "    }\n",
       "\n",
       "    .dataframe tbody tr th {\n",
       "        vertical-align: top;\n",
       "    }\n",
       "\n",
       "    .dataframe thead th {\n",
       "        text-align: right;\n",
       "    }\n",
       "</style>\n",
       "<table border=\"1\" class=\"dataframe\">\n",
       "  <thead>\n",
       "    <tr style=\"text-align: right;\">\n",
       "      <th></th>\n",
       "      <th>purchased</th>\n",
       "      <th>time_on_site</th>\n",
       "      <th>mobile</th>\n",
       "    </tr>\n",
       "  </thead>\n",
       "  <tbody>\n",
       "    <tr>\n",
       "      <th>purchased</th>\n",
       "      <td>1.000000</td>\n",
       "      <td>0.170303</td>\n",
       "      <td>-0.036300</td>\n",
       "    </tr>\n",
       "    <tr>\n",
       "      <th>time_on_site</th>\n",
       "      <td>0.170303</td>\n",
       "      <td>1.000000</td>\n",
       "      <td>-0.498221</td>\n",
       "    </tr>\n",
       "    <tr>\n",
       "      <th>mobile</th>\n",
       "      <td>-0.036300</td>\n",
       "      <td>-0.498221</td>\n",
       "      <td>1.000000</td>\n",
       "    </tr>\n",
       "  </tbody>\n",
       "</table>\n",
       "</div>"
      ],
      "text/plain": [
       "              purchased  time_on_site    mobile\n",
       "purchased      1.000000      0.170303 -0.036300\n",
       "time_on_site   0.170303      1.000000 -0.498221\n",
       "mobile        -0.036300     -0.498221  1.000000"
      ]
     },
     "execution_count": 54,
     "metadata": {},
     "output_type": "execute_result"
    }
   ],
   "source": [
    "# Yep, mobile users are more likely to buy things\n",
    "# But we're still not seeing the *whole* story until we look at all 3 at once\n",
    "\n",
    "# Live/stretch goal - how can we do that?\n",
    "user_data.corr()"
   ]
  },
  {
   "cell_type": "code",
   "execution_count": 55,
   "metadata": {},
   "outputs": [
    {
     "data": {
      "text/html": [
       "<div>\n",
       "<style scoped>\n",
       "    .dataframe tbody tr th:only-of-type {\n",
       "        vertical-align: middle;\n",
       "    }\n",
       "\n",
       "    .dataframe tbody tr th {\n",
       "        vertical-align: top;\n",
       "    }\n",
       "\n",
       "    .dataframe thead tr th {\n",
       "        text-align: left;\n",
       "    }\n",
       "\n",
       "    .dataframe thead tr:last-of-type th {\n",
       "        text-align: right;\n",
       "    }\n",
       "</style>\n",
       "<table border=\"1\" class=\"dataframe\">\n",
       "  <thead>\n",
       "    <tr>\n",
       "      <th>purchased</th>\n",
       "      <th colspan=\"2\" halign=\"left\">False</th>\n",
       "      <th colspan=\"2\" halign=\"left\">True</th>\n",
       "    </tr>\n",
       "    <tr>\n",
       "      <th>mobile</th>\n",
       "      <th>False</th>\n",
       "      <th>True</th>\n",
       "      <th>False</th>\n",
       "      <th>True</th>\n",
       "    </tr>\n",
       "    <tr>\n",
       "      <th>time_bins</th>\n",
       "      <th></th>\n",
       "      <th></th>\n",
       "      <th></th>\n",
       "      <th></th>\n",
       "    </tr>\n",
       "  </thead>\n",
       "  <tbody>\n",
       "    <tr>\n",
       "      <th>(4.025, 5.992]</th>\n",
       "      <td>0.117318</td>\n",
       "      <td>0.642458</td>\n",
       "      <td>0.025140</td>\n",
       "      <td>0.215084</td>\n",
       "    </tr>\n",
       "    <tr>\n",
       "      <th>(2.059, 4.025]</th>\n",
       "      <td>0.102339</td>\n",
       "      <td>0.599415</td>\n",
       "      <td>0.035088</td>\n",
       "      <td>0.263158</td>\n",
       "    </tr>\n",
       "    <tr>\n",
       "      <th>(0.0822, 2.059]</th>\n",
       "      <td>0.181818</td>\n",
       "      <td>0.464646</td>\n",
       "      <td>0.070707</td>\n",
       "      <td>0.282828</td>\n",
       "    </tr>\n",
       "    <tr>\n",
       "      <th>(7.959, 9.926]</th>\n",
       "      <td>0.553191</td>\n",
       "      <td>0.000000</td>\n",
       "      <td>0.446809</td>\n",
       "      <td>0.000000</td>\n",
       "    </tr>\n",
       "    <tr>\n",
       "      <th>(5.992, 7.959]</th>\n",
       "      <td>0.490909</td>\n",
       "      <td>0.000000</td>\n",
       "      <td>0.509091</td>\n",
       "      <td>0.000000</td>\n",
       "    </tr>\n",
       "  </tbody>\n",
       "</table>\n",
       "</div>"
      ],
      "text/plain": [
       "purchased           False               True           \n",
       "mobile              False     True      False     True \n",
       "time_bins                                              \n",
       "(4.025, 5.992]   0.117318  0.642458  0.025140  0.215084\n",
       "(2.059, 4.025]   0.102339  0.599415  0.035088  0.263158\n",
       "(0.0822, 2.059]  0.181818  0.464646  0.070707  0.282828\n",
       "(7.959, 9.926]   0.553191  0.000000  0.446809  0.000000\n",
       "(5.992, 7.959]   0.490909  0.000000  0.509091  0.000000"
      ]
     },
     "execution_count": 55,
     "metadata": {},
     "output_type": "execute_result"
    }
   ],
   "source": [
    "a = time_bins\n",
    "b = user_data['purchased']\n",
    "c = user_data['mobile']\n",
    "pd.crosstab(a, [b, c], rownames=['time_bins'], colnames=['purchased', 'mobile'], normalize='index')"
   ]
  },
  {
   "cell_type": "code",
   "execution_count": 66,
   "metadata": {
    "scrolled": true
   },
   "outputs": [
    {
     "data": {
      "text/html": [
       "<div>\n",
       "<style scoped>\n",
       "    .dataframe tbody tr th:only-of-type {\n",
       "        vertical-align: middle;\n",
       "    }\n",
       "\n",
       "    .dataframe tbody tr th {\n",
       "        vertical-align: top;\n",
       "    }\n",
       "\n",
       "    .dataframe thead tr th {\n",
       "        text-align: left;\n",
       "    }\n",
       "\n",
       "    .dataframe thead tr:last-of-type th {\n",
       "        text-align: right;\n",
       "    }\n",
       "</style>\n",
       "<table border=\"1\" class=\"dataframe\">\n",
       "  <thead>\n",
       "    <tr>\n",
       "      <th>purchased</th>\n",
       "      <th colspan=\"2\" halign=\"left\">False</th>\n",
       "      <th colspan=\"2\" halign=\"left\">True</th>\n",
       "    </tr>\n",
       "    <tr>\n",
       "      <th>mobile</th>\n",
       "      <th>False</th>\n",
       "      <th>True</th>\n",
       "      <th>False</th>\n",
       "      <th>True</th>\n",
       "    </tr>\n",
       "    <tr>\n",
       "      <th>time_bins</th>\n",
       "      <th></th>\n",
       "      <th></th>\n",
       "      <th></th>\n",
       "      <th></th>\n",
       "    </tr>\n",
       "  </thead>\n",
       "  <tbody>\n",
       "    <tr>\n",
       "      <th>(4.025, 5.992]</th>\n",
       "      <td>0.117318</td>\n",
       "      <td>0.642458</td>\n",
       "      <td>0.025140</td>\n",
       "      <td>0.215084</td>\n",
       "    </tr>\n",
       "    <tr>\n",
       "      <th>(2.059, 4.025]</th>\n",
       "      <td>0.102339</td>\n",
       "      <td>0.599415</td>\n",
       "      <td>0.035088</td>\n",
       "      <td>0.263158</td>\n",
       "    </tr>\n",
       "    <tr>\n",
       "      <th>(0.0822, 2.059]</th>\n",
       "      <td>0.181818</td>\n",
       "      <td>0.464646</td>\n",
       "      <td>0.070707</td>\n",
       "      <td>0.282828</td>\n",
       "    </tr>\n",
       "    <tr>\n",
       "      <th>(7.959, 9.926]</th>\n",
       "      <td>0.553191</td>\n",
       "      <td>0.000000</td>\n",
       "      <td>0.446809</td>\n",
       "      <td>0.000000</td>\n",
       "    </tr>\n",
       "    <tr>\n",
       "      <th>(5.992, 7.959]</th>\n",
       "      <td>0.490909</td>\n",
       "      <td>0.000000</td>\n",
       "      <td>0.509091</td>\n",
       "      <td>0.000000</td>\n",
       "    </tr>\n",
       "  </tbody>\n",
       "</table>\n",
       "</div>"
      ],
      "text/plain": [
       "purchased           False               True           \n",
       "mobile              False     True      False     True \n",
       "time_bins                                              \n",
       "(4.025, 5.992]   0.117318  0.642458  0.025140  0.215084\n",
       "(2.059, 4.025]   0.102339  0.599415  0.035088  0.263158\n",
       "(0.0822, 2.059]  0.181818  0.464646  0.070707  0.282828\n",
       "(7.959, 9.926]   0.553191  0.000000  0.446809  0.000000\n",
       "(5.992, 7.959]   0.490909  0.000000  0.509091  0.000000"
      ]
     },
     "execution_count": 66,
     "metadata": {},
     "output_type": "execute_result"
    }
   ],
   "source": [
    "pd.crosstab(a, [b, c], rownames=['time_bins'], colnames=['purchased', 'mobile'], normalize='index')"
   ]
  },
  {
   "cell_type": "code",
   "execution_count": 111,
   "metadata": {},
   "outputs": [
    {
     "data": {
      "image/png": "[encoded data removed]",
      "text/plain": [
       "<Figure size 432x288 with 1 Axes>"
      ]
     },
     "metadata": {
      "needs_background": "light"
     },
     "output_type": "display_data"
    }
   ],
   "source": [
    "%matplotlib inline\n",
    "\n",
    "from mpl_toolkits.mplot3d import Axes3D\n",
    "import matplotlib.pyplot as plt\n",
    "import numpy as np\n",
    "%matplotlib inline\n",
    "\n",
    "data = pd.crosstab(user_data['purchased'], user_data['mobile'], normalize='columns').values\n",
    "\n",
    "column_names = ['True','False']\n",
    "row_names = ['True','False']\n",
    "fig = plt.figure()\n",
    "ax = Axes3D(fig)\n",
    "\n",
    "lx= 2 \n",
    "ly= 2\n",
    "xpos = np.array([1,0])\n",
    "ypos = np.array([1,0])\n",
    "xpos, ypos = np.meshgrid(xpos, ypos)\n",
    "\n",
    "xpos = xpos.flatten()\n",
    "ypos = ypos.flatten()\n",
    "zpos = np.zeros(lx*ly)\n",
    "\n",
    "dx = 0.3 * np.ones_like(zpos)\n",
    "dy = dx.copy()\n",
    "dz = data.flatten()\n",
    "\n",
    "cs = ['r', 'b'] * ly\n",
    "\n",
    "ax.bar3d(xpos, ypos, zpos, dx, dy, dz, color=cs)\n",
    "\n",
    "ax.axes.set_xticks([1,0])\n",
    "ax.axes.set_yticks([1,0])\n",
    "ax.set_xlabel('Did Purchase?')\n",
    "ax.set_ylabel('Is Mobile?')\n",
    "ax.set_zlabel('time_on_site')\n",
    "\n",
    "plt.show()"
   ]
  },
  {
   "cell_type": "code",
   "execution_count": 153,
   "metadata": {},
   "outputs": [
    {
     "data": {
      "text/html": [
       "<div>\n",
       "<style scoped>\n",
       "    .dataframe tbody tr th:only-of-type {\n",
       "        vertical-align: middle;\n",
       "    }\n",
       "\n",
       "    .dataframe tbody tr th {\n",
       "        vertical-align: top;\n",
       "    }\n",
       "\n",
       "    .dataframe thead tr th {\n",
       "        text-align: left;\n",
       "    }\n",
       "\n",
       "    .dataframe thead tr:last-of-type th {\n",
       "        text-align: right;\n",
       "    }\n",
       "</style>\n",
       "<table border=\"1\" class=\"dataframe\">\n",
       "  <thead>\n",
       "    <tr>\n",
       "      <th>purchased</th>\n",
       "      <th colspan=\"2\" halign=\"left\">False</th>\n",
       "      <th colspan=\"2\" halign=\"left\">True</th>\n",
       "    </tr>\n",
       "    <tr>\n",
       "      <th>mobile</th>\n",
       "      <th>False</th>\n",
       "      <th>True</th>\n",
       "      <th>False</th>\n",
       "      <th>True</th>\n",
       "    </tr>\n",
       "    <tr>\n",
       "      <th>time_bins</th>\n",
       "      <th></th>\n",
       "      <th></th>\n",
       "      <th></th>\n",
       "      <th></th>\n",
       "    </tr>\n",
       "  </thead>\n",
       "  <tbody>\n",
       "    <tr>\n",
       "      <th>(4.025, 5.992]</th>\n",
       "      <td>0.117318</td>\n",
       "      <td>0.642458</td>\n",
       "      <td>0.025140</td>\n",
       "      <td>0.215084</td>\n",
       "    </tr>\n",
       "    <tr>\n",
       "      <th>(2.059, 4.025]</th>\n",
       "      <td>0.102339</td>\n",
       "      <td>0.599415</td>\n",
       "      <td>0.035088</td>\n",
       "      <td>0.263158</td>\n",
       "    </tr>\n",
       "    <tr>\n",
       "      <th>(0.0822, 2.059]</th>\n",
       "      <td>0.181818</td>\n",
       "      <td>0.464646</td>\n",
       "      <td>0.070707</td>\n",
       "      <td>0.282828</td>\n",
       "    </tr>\n",
       "    <tr>\n",
       "      <th>(7.959, 9.926]</th>\n",
       "      <td>0.553191</td>\n",
       "      <td>0.000000</td>\n",
       "      <td>0.446809</td>\n",
       "      <td>0.000000</td>\n",
       "    </tr>\n",
       "    <tr>\n",
       "      <th>(5.992, 7.959]</th>\n",
       "      <td>0.490909</td>\n",
       "      <td>0.000000</td>\n",
       "      <td>0.509091</td>\n",
       "      <td>0.000000</td>\n",
       "    </tr>\n",
       "  </tbody>\n",
       "</table>\n",
       "</div>"
      ],
      "text/plain": [
       "purchased           False               True           \n",
       "mobile              False     True      False     True \n",
       "time_bins                                              \n",
       "(4.025, 5.992]   0.117318  0.642458  0.025140  0.215084\n",
       "(2.059, 4.025]   0.102339  0.599415  0.035088  0.263158\n",
       "(0.0822, 2.059]  0.181818  0.464646  0.070707  0.282828\n",
       "(7.959, 9.926]   0.553191  0.000000  0.446809  0.000000\n",
       "(5.992, 7.959]   0.490909  0.000000  0.509091  0.000000"
      ]
     },
     "execution_count": 153,
     "metadata": {},
     "output_type": "execute_result"
    }
   ],
   "source": [
    "tab = pd.crosstab(a, [b, c], rownames=['time_bins'], colnames=['purchased', 'mobile'], normalize='index')\n",
    "tab"
   ]
  },
  {
   "cell_type": "code",
   "execution_count": 154,
   "metadata": {},
   "outputs": [
    {
     "data": {
      "text/plain": [
       "IntervalIndex([(0.0822, 2.059], (2.059, 4.025], (4.025, 5.992], (5.992, 7.959], (7.959, 9.926]]\n",
       "              closed='right',\n",
       "              dtype='interval[float64]')"
      ]
     },
     "execution_count": 154,
     "metadata": {},
     "output_type": "execute_result"
    }
   ],
   "source": [
    "tab.index.categories"
   ]
  },
  {
   "cell_type": "code",
   "execution_count": 181,
   "metadata": {},
   "outputs": [
    {
     "data": {
      "image/png": "[encoded data removed]",
      "text/plain": [
       "<Figure size 432x288 with 1 Axes>"
      ]
     },
     "metadata": {
      "needs_background": "light"
     },
     "output_type": "display_data"
    }
   ],
   "source": [
    "from mpl_toolkits.mplot3d import Axes3D\n",
    "import itertools as it\n",
    "import matplotlib.pyplot as plt\n",
    "import numpy as np\n",
    "\n",
    "tab = pd.crosstab(a, [b, c], rownames=['time_bins'], colnames=['purchased', 'mobile'], normalize='index')\n",
    "data = tab.values\n",
    "\n",
    "column_names = [str(combination) for combination in it.product(*tab.columns.levels)]\n",
    "row_names = list(map(lambda l: str(l), tab.index.categories))\n",
    "\n",
    "fig = plt.figure()\n",
    "ax = Axes3D(fig)\n",
    "\n",
    "lx= 4\n",
    "ly= 5\n",
    "xpos = np.array([0,1,2,3])\n",
    "ypos = np.array([0,1,2,3,4])\n",
    "xpos, ypos = np.meshgrid(xpos, ypos)\n",
    "\n",
    "xpos = xpos.flatten()\n",
    "ypos = ypos.flatten()\n",
    "zpos = np.zeros(lx*ly)\n",
    "\n",
    "dx = 0.24 * np.ones_like(zpos)\n",
    "dy = dx.copy()\n",
    "dz = data.flatten()\n",
    "\n",
    "cs = ['r', 'g', 'b', 'y'] * ly\n",
    "\n",
    "ax.bar3d(xpos,ypos,zpos, dx, dy, dz, color=cs)\n",
    "\n",
    "ax.xaxis._axinfo['label']['space_factor'] = 2.8\n",
    "\n",
    "ax.w_xaxis.set_ticklabels(column_names)\n",
    "ax.w_yaxis.set_ticklabels(row_names, linespacing=5)\n",
    "ax.axes.set_xticks(np.array([0,1,2,3]))\n",
    "ax.axes.set_yticks(np.array([0,1,2,3,4]))\n",
    "ax.set_xlabel('(Did Purchase?, Is Mobile?)', labelpad=10)\n",
    "ax.set_ylabel('Intervals',  labelpad=20)\n",
    "ax.set_zlabel('time_on_site')\n",
    "\n",
    "plt.show()"
   ]
  },
  {
   "cell_type": "code",
   "execution_count": 114,
   "metadata": {},
   "outputs": [
    {
     "data": {
      "text/html": [
       "<div>\n",
       "<style scoped>\n",
       "    .dataframe tbody tr th:only-of-type {\n",
       "        vertical-align: middle;\n",
       "    }\n",
       "\n",
       "    .dataframe tbody tr th {\n",
       "        vertical-align: top;\n",
       "    }\n",
       "\n",
       "    .dataframe thead th {\n",
       "        text-align: right;\n",
       "    }\n",
       "</style>\n",
       "<table border=\"1\" class=\"dataframe\">\n",
       "  <thead>\n",
       "    <tr style=\"text-align: right;\">\n",
       "      <th>mobile</th>\n",
       "      <th>False</th>\n",
       "      <th>True</th>\n",
       "    </tr>\n",
       "    <tr>\n",
       "      <th>purchased</th>\n",
       "      <th></th>\n",
       "      <th></th>\n",
       "    </tr>\n",
       "  </thead>\n",
       "  <tbody>\n",
       "    <tr>\n",
       "      <th>False</th>\n",
       "      <td>0.664</td>\n",
       "      <td>0.702667</td>\n",
       "    </tr>\n",
       "    <tr>\n",
       "      <th>True</th>\n",
       "      <td>0.336</td>\n",
       "      <td>0.297333</td>\n",
       "    </tr>\n",
       "  </tbody>\n",
       "</table>\n",
       "</div>"
      ],
      "text/plain": [
       "mobile     False     True \n",
       "purchased                 \n",
       "False      0.664  0.702667\n",
       "True       0.336  0.297333"
      ]
     },
     "execution_count": 114,
     "metadata": {},
     "output_type": "execute_result"
    }
   ],
   "source": [
    "pd.crosstab(user_data['purchased'], user_data['mobile'], normalize='columns')"
   ]
  },
  {
   "cell_type": "code",
   "execution_count": 71,
   "metadata": {},
   "outputs": [
    {
     "data": {
      "text/plain": [
       "<matplotlib.axes._subplots.AxesSubplot at 0x1120a5748>"
      ]
     },
     "execution_count": 71,
     "metadata": {},
     "output_type": "execute_result"
    },
    {
     "data": {
      "image/png": "[encoded data removed]",
      "text/plain": [
       "<Figure size 432x288 with 1 Axes>"
      ]
     },
     "metadata": {
      "needs_background": "light"
     },
     "output_type": "display_data"
    }
   ],
   "source": [
    "user_data['time_on_site'].plot.density()"
   ]
  },
  {
   "cell_type": "code",
   "execution_count": 73,
   "metadata": {},
   "outputs": [
    {
     "data": {
      "text/plain": [
       "<matplotlib.axes._subplots.AxesSubplot at 0x111ddc8d0>"
      ]
     },
     "execution_count": 73,
     "metadata": {},
     "output_type": "execute_result"
    },
    {
     "data": {
      "image/png": "[encoded data removed]",
      "text/plain": [
       "<Figure size 432x288 with 1 Axes>"
      ]
     },
     "metadata": {
      "needs_background": "light"
     },
     "output_type": "display_data"
    }
   ],
   "source": [
    "user_data.loc[user_data['mobile'] == True, 'time_on_site'].plot.density()"
   ]
  },
  {
   "cell_type": "code",
   "execution_count": 74,
   "metadata": {},
   "outputs": [
    {
     "data": {
      "text/plain": [
       "<matplotlib.axes._subplots.AxesSubplot at 0x113b3b8d0>"
      ]
     },
     "execution_count": 74,
     "metadata": {},
     "output_type": "execute_result"
    },
    {
     "data": {
      "image/png": "[encoded data removed]",
      "text/plain": [
       "<Figure size 432x288 with 1 Axes>"
      ]
     },
     "metadata": {
      "needs_background": "light"
     },
     "output_type": "display_data"
    }
   ],
   "source": [
    "user_data.loc[user_data['mobile'] == False, 'time_on_site'].plot.density()"
   ]
  },
  {
   "cell_type": "markdown",
   "metadata": {
    "colab_type": "text",
    "id": "lOqaPds9huME"
   },
   "source": [
    "## Assignment - what's going on here?\n",
    "\n",
    "Consider the data in `persons.csv` (already prepared for you, in the repo for the week). It has four columns - a unique id, followed by age (in years), weight (in lbs), and exercise time (in minutes/week) of 1200 (hypothetical) people.\n",
    "\n",
    "Try to figure out which variables are possibly related to each other, and which may be confounding relationships."
   ]
  },
  {
   "cell_type": "code",
   "execution_count": 188,
   "metadata": {
    "colab": {},
    "colab_type": "code",
    "id": "TGUS79cOhPWj"
   },
   "outputs": [],
   "source": [
    "# TODO - your code here\n",
    "# Use what we did live in lecture as an example\n",
    "\n",
    "# HINT - you can find the raw URL on GitHub and potentially use that\n",
    "# to load the data with read_csv, or you can upload it yourself\n",
    "import pandas as pd\n",
    "\n",
    "path = 'persons.csv'\n",
    "data = pd.read_csv(path).drop(columns=['Unnamed: 0'])"
   ]
  },
  {
   "cell_type": "markdown",
   "metadata": {
    "colab_type": "text",
    "id": "BT9gdS7viJZa"
   },
   "source": [
    "### Assignment questions\n",
    "\n",
    "After you've worked on some code, answer the following questions in this text block:\n",
    "\n",
    "1.  What are the variable types in the data?\n",
    "2.  What are the relationships between the variables?\n",
    "3.  Which relationships are \"real\", and which spurious?\n"
   ]
  },
  {
   "cell_type": "markdown",
   "metadata": {
    "colab_type": "text",
    "id": "_XXg2crAipwP"
   },
   "source": [
    "## Stretch goals and resources\n",
    "\n",
    "Following are *optional* things for you to take a look at. Focus on the above assignment first, and make sure to commit and push your changes to GitHub.\n",
    "\n",
    "- [Spurious Correlations](http://tylervigen.com/spurious-correlations)\n",
    "- [NIH on controlling for confounding variables](https://www.ncbi.nlm.nih.gov/pmc/articles/PMC4017459/)\n",
    "\n",
    "Stretch goals:\n",
    "\n",
    "- Produce your own plot inspierd by the Spurious Correlation visualizations (and consider writing a blog post about it - both the content and how you made it)\n",
    "- Pick one of the techniques that NIH highlights for confounding variables - we'll be going into many of them later, but see if you can find which Python modules may help (hint - check scikit-learn)"
   ]
  }
 ],
 "metadata": {
  "colab": {
   "collapsed_sections": [],
   "name": "LS DS 114 - Making Data-backed Assertions.ipynb",
   "provenance": [],
   "version": "0.3.2"
  },
  "kernelspec": {
   "display_name": "Python 3",
   "language": "python",
   "name": "python3"
  },
  "language_info": {
   "codemirror_mode": {
    "name": "ipython",
    "version": 3
   },
   "file_extension": ".py",
   "mimetype": "text/x-python",
   "name": "python",
   "nbconvert_exporter": "python",
   "pygments_lexer": "ipython3",
   "version": "3.6.4"
  }
 },
 "nbformat": 4,
 "nbformat_minor": 1
}
