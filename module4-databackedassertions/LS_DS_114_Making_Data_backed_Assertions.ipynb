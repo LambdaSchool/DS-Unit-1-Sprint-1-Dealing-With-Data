{
  "nbformat": 4,
  "nbformat_minor": 0,
  "metadata": {
    "colab": {
      "name": "LS_DS_114_Making_Data_backed_Assertions.ipynb",
      "version": "0.3.2",
      "provenance": [],
      "collapsed_sections": [],
      "include_colab_link": true
    },
    "kernelspec": {
      "name": "python3",
      "display_name": "Python 3"
    }
  },
  "cells": [
    {
      "cell_type": "markdown",
      "metadata": {
        "id": "view-in-github",
        "colab_type": "text"
      },
      "source": [
        "<a href=\"https://colab.research.google.com/github/dustiny5/DS-Unit-1-Sprint-1-Dealing-With-Data/blob/master/module4-databackedassertions/LS_DS_114_Making_Data_backed_Assertions.ipynb\" target=\"_parent\"><img src=\"https://colab.research.google.com/assets/colab-badge.svg\" alt=\"Open In Colab\"/></a>"
      ]
    },
    {
      "metadata": {
        "id": "Okfr_uhwhS1X",
        "colab_type": "text"
      },
      "cell_type": "markdown",
      "source": [
        "# Lambda School Data Science - Making Data-backed Assertions\n",
        "\n",
        "This is, for many, the main point of data science - to create and support reasoned arguments based on evidence. It's not a topic to master in a day, but it is worth some focused time thinking about and structuring your approach to it."
      ]
    },
    {
      "metadata": {
        "id": "9dtJETFRhnOG",
        "colab_type": "text"
      },
      "cell_type": "markdown",
      "source": [
        "## Lecture - generating a confounding variable\n",
        "\n",
        "The prewatch material told a story about a hypothetical health condition where both the drug usage and overall health outcome were related to gender - thus making gender a confounding variable, obfuscating the possible relationship between the drug and the outcome.\n",
        "\n",
        "Let's use Python to generate data that actually behaves in this fashion!"
      ]
    },
    {
      "metadata": {
        "id": "WiBkgmPJhmhE",
        "colab_type": "code",
        "outputId": "ab76c9a3-d0e7-4a46-d35f-ad592019698b",
        "colab": {
          "base_uri": "https://localhost:8080/",
          "height": 1075
        }
      },
      "cell_type": "code",
      "source": [
        "import random\n",
        "random.seed(42)\n",
        "dir(random)  # Reminding ourselves what we can do here"
      ],
      "execution_count": 21,
      "outputs": [
        {
          "output_type": "execute_result",
          "data": {
            "text/plain": [
              "['BPF',\n",
              " 'LOG4',\n",
              " 'NV_MAGICCONST',\n",
              " 'RECIP_BPF',\n",
              " 'Random',\n",
              " 'SG_MAGICCONST',\n",
              " 'SystemRandom',\n",
              " 'TWOPI',\n",
              " '_BuiltinMethodType',\n",
              " '_MethodType',\n",
              " '_Sequence',\n",
              " '_Set',\n",
              " '__all__',\n",
              " '__builtins__',\n",
              " '__cached__',\n",
              " '__doc__',\n",
              " '__file__',\n",
              " '__loader__',\n",
              " '__name__',\n",
              " '__package__',\n",
              " '__spec__',\n",
              " '_acos',\n",
              " '_bisect',\n",
              " '_ceil',\n",
              " '_cos',\n",
              " '_e',\n",
              " '_exp',\n",
              " '_inst',\n",
              " '_itertools',\n",
              " '_log',\n",
              " '_pi',\n",
              " '_random',\n",
              " '_sha512',\n",
              " '_sin',\n",
              " '_sqrt',\n",
              " '_test',\n",
              " '_test_generator',\n",
              " '_urandom',\n",
              " '_warn',\n",
              " 'betavariate',\n",
              " 'choice',\n",
              " 'choices',\n",
              " 'expovariate',\n",
              " 'gammavariate',\n",
              " 'gauss',\n",
              " 'getrandbits',\n",
              " 'getstate',\n",
              " 'lognormvariate',\n",
              " 'normalvariate',\n",
              " 'paretovariate',\n",
              " 'randint',\n",
              " 'random',\n",
              " 'randrange',\n",
              " 'sample',\n",
              " 'seed',\n",
              " 'setstate',\n",
              " 'shuffle',\n",
              " 'triangular',\n",
              " 'uniform',\n",
              " 'vonmisesvariate',\n",
              " 'weibullvariate']"
            ]
          },
          "metadata": {
            "tags": []
          },
          "execution_count": 21
        }
      ]
    },
    {
      "metadata": {
        "id": "Ks5qFtpnq-q5",
        "colab_type": "code",
        "outputId": "9e7e808a-b39a-410b-db10-45a19017c5fb",
        "colab": {
          "base_uri": "https://localhost:8080/",
          "height": 35
        }
      },
      "cell_type": "code",
      "source": [
        "# Let's think of another scenario:\n",
        "# We work for a company that sells accessories for mobile phones.\n",
        "# They have an ecommerce site, and we are supposed to analyze logs\n",
        "# to determine what sort of usage is related to purchases, and thus guide\n",
        "# website development to encourage higher conversion.\n",
        "\n",
        "# The hypothesis - users who spend longer on the site tend\n",
        "# to spend more. Seems reasonable, no?\n",
        "\n",
        "# But there's a confounding variable! If they're on a phone, they:\n",
        "# a) Spend less time on the site, but\n",
        "# b) Are more likely to be interested in the actual products!\n",
        "\n",
        "# Let's use namedtuple to represent our data\n",
        "\n",
        "from collections import namedtuple\n",
        "# purchased and mobile are bools, time_on_site in seconds\n",
        "User = namedtuple('User', ['purchased','time_on_site', 'mobile'])\n",
        "\n",
        "example_user = User(False, 12, False)\n",
        "print(example_user)"
      ],
      "execution_count": 22,
      "outputs": [
        {
          "output_type": "stream",
          "text": [
            "User(purchased=False, time_on_site=12, mobile=False)\n"
          ],
          "name": "stdout"
        }
      ]
    },
    {
      "metadata": {
        "id": "lfPiHNG_sefL",
        "colab_type": "code",
        "outputId": "3c0a950a-faf9-4cc4-9d46-8d025843fe8a",
        "colab": {
          "base_uri": "https://localhost:8080/",
          "height": 55
        }
      },
      "cell_type": "code",
      "source": [
        "# And now let's generate 1000 example users\n",
        "# 750 mobile, 250 not (i.e. desktop)\n",
        "# A desktop user has a base conversion likelihood of 10%\n",
        "# And it goes up by 1% for each 15 seconds they spend on the site\n",
        "# And they spend anywhere from 10 seconds to 10 minutes on the site (uniform)\n",
        "# Mobile users spend on average half as much time on the site as desktop\n",
        "# But have three times as much base likelihood of buying something\n",
        "\n",
        "users = []\n",
        "\n",
        "for _ in range(250):\n",
        "  # Desktop users\n",
        "  time_on_site = random.uniform(10, 600)\n",
        "  purchased = random.random() < 0.1 + (time_on_site / 1500)\n",
        "  users.append(User(purchased, time_on_site, False))\n",
        "  \n",
        "for _ in range(750):\n",
        "  # Mobile users\n",
        "  time_on_site = random.uniform(5, 300)\n",
        "  purchased = random.random() < 0.3 + (time_on_site / 1500)\n",
        "  users.append(User(purchased, time_on_site, True))\n",
        "  \n",
        "random.shuffle(users)\n",
        "print(users[:10])"
      ],
      "execution_count": 23,
      "outputs": [
        {
          "output_type": "stream",
          "text": [
            "[User(purchased=False, time_on_site=150.42273427770718, mobile=False), User(purchased=True, time_on_site=284.06235530493245, mobile=True), User(purchased=True, time_on_site=140.37976895454653, mobile=True), User(purchased=True, time_on_site=49.206452507812216, mobile=True), User(purchased=False, time_on_site=167.81563803588924, mobile=True), User(purchased=False, time_on_site=20.484876517641524, mobile=True), User(purchased=False, time_on_site=167.3540069049869, mobile=True), User(purchased=False, time_on_site=447.75054592529114, mobile=False), User(purchased=True, time_on_site=57.93525538719398, mobile=True), User(purchased=True, time_on_site=292.6494305470663, mobile=True)]\n"
          ],
          "name": "stdout"
        }
      ]
    },
    {
      "metadata": {
        "id": "9gDYb5qGuRzy",
        "colab_type": "code",
        "outputId": "2e7f7510-0c4a-41ec-f0af-52b6ea9d9f25",
        "colab": {
          "base_uri": "https://localhost:8080/",
          "height": 202
        }
      },
      "cell_type": "code",
      "source": [
        "# Let's put this in a dataframe so we can look at it more easily\n",
        "import pandas as pd\n",
        "user_data = pd.DataFrame(users)\n",
        "user_data.head()"
      ],
      "execution_count": 24,
      "outputs": [
        {
          "output_type": "execute_result",
          "data": {
            "text/html": [
              "<div>\n",
              "<style scoped>\n",
              "    .dataframe tbody tr th:only-of-type {\n",
              "        vertical-align: middle;\n",
              "    }\n",
              "\n",
              "    .dataframe tbody tr th {\n",
              "        vertical-align: top;\n",
              "    }\n",
              "\n",
              "    .dataframe thead th {\n",
              "        text-align: right;\n",
              "    }\n",
              "</style>\n",
              "<table border=\"1\" class=\"dataframe\">\n",
              "  <thead>\n",
              "    <tr style=\"text-align: right;\">\n",
              "      <th></th>\n",
              "      <th>purchased</th>\n",
              "      <th>time_on_site</th>\n",
              "      <th>mobile</th>\n",
              "    </tr>\n",
              "  </thead>\n",
              "  <tbody>\n",
              "    <tr>\n",
              "      <th>0</th>\n",
              "      <td>False</td>\n",
              "      <td>150.422734</td>\n",
              "      <td>False</td>\n",
              "    </tr>\n",
              "    <tr>\n",
              "      <th>1</th>\n",
              "      <td>True</td>\n",
              "      <td>284.062355</td>\n",
              "      <td>True</td>\n",
              "    </tr>\n",
              "    <tr>\n",
              "      <th>2</th>\n",
              "      <td>True</td>\n",
              "      <td>140.379769</td>\n",
              "      <td>True</td>\n",
              "    </tr>\n",
              "    <tr>\n",
              "      <th>3</th>\n",
              "      <td>True</td>\n",
              "      <td>49.206453</td>\n",
              "      <td>True</td>\n",
              "    </tr>\n",
              "    <tr>\n",
              "      <th>4</th>\n",
              "      <td>False</td>\n",
              "      <td>167.815638</td>\n",
              "      <td>True</td>\n",
              "    </tr>\n",
              "  </tbody>\n",
              "</table>\n",
              "</div>"
            ],
            "text/plain": [
              "   purchased  time_on_site  mobile\n",
              "0      False    150.422734   False\n",
              "1       True    284.062355    True\n",
              "2       True    140.379769    True\n",
              "3       True     49.206453    True\n",
              "4      False    167.815638    True"
            ]
          },
          "metadata": {
            "tags": []
          },
          "execution_count": 24
        }
      ]
    },
    {
      "metadata": {
        "id": "sr6IJv77ulVl",
        "colab_type": "code",
        "outputId": "42af703b-5366-4a59-e734-d5ee396a5949",
        "colab": {
          "base_uri": "https://localhost:8080/",
          "height": 190
        }
      },
      "cell_type": "code",
      "source": [
        "# Let's use crosstabulation to try to see what's going on\n",
        "pd.crosstab(user_data['purchased'], user_data['time_on_site'])"
      ],
      "execution_count": 25,
      "outputs": [
        {
          "output_type": "execute_result",
          "data": {
            "text/html": [
              "<div>\n",
              "<style scoped>\n",
              "    .dataframe tbody tr th:only-of-type {\n",
              "        vertical-align: middle;\n",
              "    }\n",
              "\n",
              "    .dataframe tbody tr th {\n",
              "        vertical-align: top;\n",
              "    }\n",
              "\n",
              "    .dataframe thead th {\n",
              "        text-align: right;\n",
              "    }\n",
              "</style>\n",
              "<table border=\"1\" class=\"dataframe\">\n",
              "  <thead>\n",
              "    <tr style=\"text-align: right;\">\n",
              "      <th>time_on_site</th>\n",
              "      <th>5.789338167851291</th>\n",
              "      <th>5.836487686604824</th>\n",
              "      <th>7.267690340465448</th>\n",
              "      <th>7.280322437947023</th>\n",
              "      <th>7.733814701629437</th>\n",
              "      <th>7.772242279186957</th>\n",
              "      <th>7.994578759409748</th>\n",
              "      <th>8.373541587279558</th>\n",
              "      <th>9.106003254765849</th>\n",
              "      <th>9.38379653305911</th>\n",
              "      <th>...</th>\n",
              "      <th>582.5363605031145</th>\n",
              "      <th>582.9362427920347</th>\n",
              "      <th>588.8783154469735</th>\n",
              "      <th>590.65747470592</th>\n",
              "      <th>593.8187768755912</th>\n",
              "      <th>597.1381204299279</th>\n",
              "      <th>597.7116143416571</th>\n",
              "      <th>598.547187832115</th>\n",
              "      <th>599.088120104121</th>\n",
              "      <th>599.5766563635087</th>\n",
              "    </tr>\n",
              "    <tr>\n",
              "      <th>purchased</th>\n",
              "      <th></th>\n",
              "      <th></th>\n",
              "      <th></th>\n",
              "      <th></th>\n",
              "      <th></th>\n",
              "      <th></th>\n",
              "      <th></th>\n",
              "      <th></th>\n",
              "      <th></th>\n",
              "      <th></th>\n",
              "      <th></th>\n",
              "      <th></th>\n",
              "      <th></th>\n",
              "      <th></th>\n",
              "      <th></th>\n",
              "      <th></th>\n",
              "      <th></th>\n",
              "      <th></th>\n",
              "      <th></th>\n",
              "      <th></th>\n",
              "      <th></th>\n",
              "    </tr>\n",
              "  </thead>\n",
              "  <tbody>\n",
              "    <tr>\n",
              "      <th>False</th>\n",
              "      <td>1</td>\n",
              "      <td>1</td>\n",
              "      <td>0</td>\n",
              "      <td>1</td>\n",
              "      <td>1</td>\n",
              "      <td>1</td>\n",
              "      <td>1</td>\n",
              "      <td>1</td>\n",
              "      <td>1</td>\n",
              "      <td>1</td>\n",
              "      <td>...</td>\n",
              "      <td>0</td>\n",
              "      <td>1</td>\n",
              "      <td>1</td>\n",
              "      <td>0</td>\n",
              "      <td>1</td>\n",
              "      <td>1</td>\n",
              "      <td>1</td>\n",
              "      <td>1</td>\n",
              "      <td>1</td>\n",
              "      <td>1</td>\n",
              "    </tr>\n",
              "    <tr>\n",
              "      <th>True</th>\n",
              "      <td>0</td>\n",
              "      <td>0</td>\n",
              "      <td>1</td>\n",
              "      <td>0</td>\n",
              "      <td>0</td>\n",
              "      <td>0</td>\n",
              "      <td>0</td>\n",
              "      <td>0</td>\n",
              "      <td>0</td>\n",
              "      <td>0</td>\n",
              "      <td>...</td>\n",
              "      <td>1</td>\n",
              "      <td>0</td>\n",
              "      <td>0</td>\n",
              "      <td>1</td>\n",
              "      <td>0</td>\n",
              "      <td>0</td>\n",
              "      <td>0</td>\n",
              "      <td>0</td>\n",
              "      <td>0</td>\n",
              "      <td>0</td>\n",
              "    </tr>\n",
              "  </tbody>\n",
              "</table>\n",
              "<p>2 rows × 1000 columns</p>\n",
              "</div>"
            ],
            "text/plain": [
              "time_on_site  5.789338    5.836488    7.267690    7.280322    7.733815    \\\n",
              "purchased                                                                  \n",
              "False                  1           1           0           1           1   \n",
              "True                   0           0           1           0           0   \n",
              "\n",
              "time_on_site  7.772242    7.994579    8.373542    9.106003    9.383797    \\\n",
              "purchased                                                                  \n",
              "False                  1           1           1           1           1   \n",
              "True                   0           0           0           0           0   \n",
              "\n",
              "time_on_site     ...      582.536361  582.936243  588.878315  590.657475  \\\n",
              "purchased        ...                                                       \n",
              "False            ...               0           1           1           0   \n",
              "True             ...               1           0           0           1   \n",
              "\n",
              "time_on_site  593.818777  597.138120  597.711614  598.547188  599.088120  \\\n",
              "purchased                                                                  \n",
              "False                  1           1           1           1           1   \n",
              "True                   0           0           0           0           0   \n",
              "\n",
              "time_on_site  599.576656  \n",
              "purchased                 \n",
              "False                  1  \n",
              "True                   0  \n",
              "\n",
              "[2 rows x 1000 columns]"
            ]
          },
          "metadata": {
            "tags": []
          },
          "execution_count": 25
        }
      ]
    },
    {
      "metadata": {
        "id": "hvAv6J3EwA9s",
        "colab_type": "code",
        "outputId": "be9b35ee-6867-422d-8ad7-470f5e8de73b",
        "colab": {
          "base_uri": "https://localhost:8080/",
          "height": 141
        }
      },
      "cell_type": "code",
      "source": [
        "# OK, that's not quite what we want\n",
        "# Time is continuous! We need to put it in discrete buckets\n",
        "# Pandas calls these bins, and pandas.cut helps make them\n",
        "\n",
        "time_bins = pd.cut(user_data['time_on_site'], 5)  # 5 equal-sized bins\n",
        "pd.crosstab(user_data['purchased'], time_bins)"
      ],
      "execution_count": 26,
      "outputs": [
        {
          "output_type": "execute_result",
          "data": {
            "text/html": [
              "<div>\n",
              "<style scoped>\n",
              "    .dataframe tbody tr th:only-of-type {\n",
              "        vertical-align: middle;\n",
              "    }\n",
              "\n",
              "    .dataframe tbody tr th {\n",
              "        vertical-align: top;\n",
              "    }\n",
              "\n",
              "    .dataframe thead th {\n",
              "        text-align: right;\n",
              "    }\n",
              "</style>\n",
              "<table border=\"1\" class=\"dataframe\">\n",
              "  <thead>\n",
              "    <tr style=\"text-align: right;\">\n",
              "      <th>time_on_site</th>\n",
              "      <th>(5.196, 124.547]</th>\n",
              "      <th>(124.547, 243.304]</th>\n",
              "      <th>(243.304, 362.062]</th>\n",
              "      <th>(362.062, 480.819]</th>\n",
              "      <th>(480.819, 599.577]</th>\n",
              "    </tr>\n",
              "    <tr>\n",
              "      <th>purchased</th>\n",
              "      <th></th>\n",
              "      <th></th>\n",
              "      <th></th>\n",
              "      <th></th>\n",
              "      <th></th>\n",
              "    </tr>\n",
              "  </thead>\n",
              "  <tbody>\n",
              "    <tr>\n",
              "      <th>False</th>\n",
              "      <td>227</td>\n",
              "      <td>238</td>\n",
              "      <td>111</td>\n",
              "      <td>23</td>\n",
              "      <td>37</td>\n",
              "    </tr>\n",
              "    <tr>\n",
              "      <th>True</th>\n",
              "      <td>106</td>\n",
              "      <td>133</td>\n",
              "      <td>84</td>\n",
              "      <td>20</td>\n",
              "      <td>21</td>\n",
              "    </tr>\n",
              "  </tbody>\n",
              "</table>\n",
              "</div>"
            ],
            "text/plain": [
              "time_on_site  (5.196, 124.547]  (124.547, 243.304]  (243.304, 362.062]  \\\n",
              "purchased                                                                \n",
              "False                      227                 238                 111   \n",
              "True                       106                 133                  84   \n",
              "\n",
              "time_on_site  (362.062, 480.819]  (480.819, 599.577]  \n",
              "purchased                                             \n",
              "False                         23                  37  \n",
              "True                          20                  21  "
            ]
          },
          "metadata": {
            "tags": []
          },
          "execution_count": 26
        }
      ]
    },
    {
      "metadata": {
        "id": "pjcXnJw0wfaj",
        "colab_type": "code",
        "outputId": "481e41a1-044e-4c92-e965-f728dc8f38ee",
        "colab": {
          "base_uri": "https://localhost:8080/",
          "height": 141
        }
      },
      "cell_type": "code",
      "source": [
        "# We can make this a bit clearer by normalizing (getting %)\n",
        "pd.crosstab(user_data['purchased'], time_bins, normalize='columns')"
      ],
      "execution_count": 31,
      "outputs": [
        {
          "output_type": "execute_result",
          "data": {
            "text/html": [
              "<div>\n",
              "<style scoped>\n",
              "    .dataframe tbody tr th:only-of-type {\n",
              "        vertical-align: middle;\n",
              "    }\n",
              "\n",
              "    .dataframe tbody tr th {\n",
              "        vertical-align: top;\n",
              "    }\n",
              "\n",
              "    .dataframe thead th {\n",
              "        text-align: right;\n",
              "    }\n",
              "</style>\n",
              "<table border=\"1\" class=\"dataframe\">\n",
              "  <thead>\n",
              "    <tr style=\"text-align: right;\">\n",
              "      <th>time_on_site</th>\n",
              "      <th>(5.196, 124.547]</th>\n",
              "      <th>(124.547, 243.304]</th>\n",
              "      <th>(243.304, 362.062]</th>\n",
              "      <th>(362.062, 480.819]</th>\n",
              "      <th>(480.819, 599.577]</th>\n",
              "    </tr>\n",
              "    <tr>\n",
              "      <th>purchased</th>\n",
              "      <th></th>\n",
              "      <th></th>\n",
              "      <th></th>\n",
              "      <th></th>\n",
              "      <th></th>\n",
              "    </tr>\n",
              "  </thead>\n",
              "  <tbody>\n",
              "    <tr>\n",
              "      <th>False</th>\n",
              "      <td>0.681682</td>\n",
              "      <td>0.641509</td>\n",
              "      <td>0.569231</td>\n",
              "      <td>0.534884</td>\n",
              "      <td>0.637931</td>\n",
              "    </tr>\n",
              "    <tr>\n",
              "      <th>True</th>\n",
              "      <td>0.318318</td>\n",
              "      <td>0.358491</td>\n",
              "      <td>0.430769</td>\n",
              "      <td>0.465116</td>\n",
              "      <td>0.362069</td>\n",
              "    </tr>\n",
              "  </tbody>\n",
              "</table>\n",
              "</div>"
            ],
            "text/plain": [
              "time_on_site  (5.196, 124.547]  (124.547, 243.304]  (243.304, 362.062]  \\\n",
              "purchased                                                                \n",
              "False                 0.681682            0.641509            0.569231   \n",
              "True                  0.318318            0.358491            0.430769   \n",
              "\n",
              "time_on_site  (362.062, 480.819]  (480.819, 599.577]  \n",
              "purchased                                             \n",
              "False                   0.534884            0.637931  \n",
              "True                    0.465116            0.362069  "
            ]
          },
          "metadata": {
            "tags": []
          },
          "execution_count": 31
        }
      ]
    },
    {
      "metadata": {
        "id": "C3GzvDxlvZMa",
        "colab_type": "code",
        "outputId": "f4dc5967-f0a8-4495-dd9c-dccd9a026927",
        "colab": {
          "base_uri": "https://localhost:8080/",
          "height": 141
        }
      },
      "cell_type": "code",
      "source": [
        "# That seems counter to our hypothesis\n",
        "# More time on the site can actually have fewer purchases\n",
        "\n",
        "# But we know why, since we generated the data!\n",
        "# Let's look at mobile and purchased\n",
        "pd.crosstab(user_data['purchased'], user_data['mobile'], normalize='columns')"
      ],
      "execution_count": 28,
      "outputs": [
        {
          "output_type": "execute_result",
          "data": {
            "text/html": [
              "<div>\n",
              "<style scoped>\n",
              "    .dataframe tbody tr th:only-of-type {\n",
              "        vertical-align: middle;\n",
              "    }\n",
              "\n",
              "    .dataframe tbody tr th {\n",
              "        vertical-align: top;\n",
              "    }\n",
              "\n",
              "    .dataframe thead th {\n",
              "        text-align: right;\n",
              "    }\n",
              "</style>\n",
              "<table border=\"1\" class=\"dataframe\">\n",
              "  <thead>\n",
              "    <tr style=\"text-align: right;\">\n",
              "      <th>mobile</th>\n",
              "      <th>False</th>\n",
              "      <th>True</th>\n",
              "    </tr>\n",
              "    <tr>\n",
              "      <th>purchased</th>\n",
              "      <th></th>\n",
              "      <th></th>\n",
              "    </tr>\n",
              "  </thead>\n",
              "  <tbody>\n",
              "    <tr>\n",
              "      <th>False</th>\n",
              "      <td>0.704</td>\n",
              "      <td>0.613333</td>\n",
              "    </tr>\n",
              "    <tr>\n",
              "      <th>True</th>\n",
              "      <td>0.296</td>\n",
              "      <td>0.386667</td>\n",
              "    </tr>\n",
              "  </tbody>\n",
              "</table>\n",
              "</div>"
            ],
            "text/plain": [
              "mobile     False     True \n",
              "purchased                 \n",
              "False      0.704  0.613333\n",
              "True       0.296  0.386667"
            ]
          },
          "metadata": {
            "tags": []
          },
          "execution_count": 28
        }
      ]
    },
    {
      "metadata": {
        "id": "KQb-wU60xCum",
        "colab_type": "code",
        "colab": {
          "base_uri": "https://localhost:8080/",
          "height": 189
        },
        "outputId": "961b0767-28c9-4ca8-f51a-93630272b95e"
      },
      "cell_type": "code",
      "source": [
        "# Yep, mobile users are more likely to buy things\n",
        "# But we're still not seeing the *whole* story until we look at all 3 at once\n",
        "\n",
        "# Live/stretch goal - how can we do that?\n",
        "pd.crosstab(user_data['mobile'], [user_data['purchased'], time_bins], rownames=['device'], colnames=  ['purchase','time_on_site'], normalize='index')"
      ],
      "execution_count": 42,
      "outputs": [
        {
          "output_type": "execute_result",
          "data": {
            "text/html": [
              "<div>\n",
              "<style scoped>\n",
              "    .dataframe tbody tr th:only-of-type {\n",
              "        vertical-align: middle;\n",
              "    }\n",
              "\n",
              "    .dataframe tbody tr th {\n",
              "        vertical-align: top;\n",
              "    }\n",
              "\n",
              "    .dataframe thead tr th {\n",
              "        text-align: left;\n",
              "    }\n",
              "\n",
              "    .dataframe thead tr:last-of-type th {\n",
              "        text-align: right;\n",
              "    }\n",
              "</style>\n",
              "<table border=\"1\" class=\"dataframe\">\n",
              "  <thead>\n",
              "    <tr>\n",
              "      <th>purchase</th>\n",
              "      <th colspan=\"5\" halign=\"left\">False</th>\n",
              "      <th colspan=\"5\" halign=\"left\">True</th>\n",
              "    </tr>\n",
              "    <tr>\n",
              "      <th>time_on_site</th>\n",
              "      <th>(5.196, 124.547]</th>\n",
              "      <th>(124.547, 243.304]</th>\n",
              "      <th>(243.304, 362.062]</th>\n",
              "      <th>(362.062, 480.819]</th>\n",
              "      <th>(480.819, 599.577]</th>\n",
              "      <th>(5.196, 124.547]</th>\n",
              "      <th>(124.547, 243.304]</th>\n",
              "      <th>(243.304, 362.062]</th>\n",
              "      <th>(362.062, 480.819]</th>\n",
              "      <th>(480.819, 599.577]</th>\n",
              "    </tr>\n",
              "    <tr>\n",
              "      <th>device</th>\n",
              "      <th></th>\n",
              "      <th></th>\n",
              "      <th></th>\n",
              "      <th></th>\n",
              "      <th></th>\n",
              "      <th></th>\n",
              "      <th></th>\n",
              "      <th></th>\n",
              "      <th></th>\n",
              "      <th></th>\n",
              "    </tr>\n",
              "  </thead>\n",
              "  <tbody>\n",
              "    <tr>\n",
              "      <th>False</th>\n",
              "      <td>0.148000</td>\n",
              "      <td>0.172</td>\n",
              "      <td>0.144</td>\n",
              "      <td>0.092</td>\n",
              "      <td>0.148</td>\n",
              "      <td>0.016</td>\n",
              "      <td>0.044000</td>\n",
              "      <td>0.072</td>\n",
              "      <td>0.08</td>\n",
              "      <td>0.084</td>\n",
              "    </tr>\n",
              "    <tr>\n",
              "      <th>True</th>\n",
              "      <td>0.253333</td>\n",
              "      <td>0.260</td>\n",
              "      <td>0.100</td>\n",
              "      <td>0.000</td>\n",
              "      <td>0.000</td>\n",
              "      <td>0.136</td>\n",
              "      <td>0.162667</td>\n",
              "      <td>0.088</td>\n",
              "      <td>0.00</td>\n",
              "      <td>0.000</td>\n",
              "    </tr>\n",
              "  </tbody>\n",
              "</table>\n",
              "</div>"
            ],
            "text/plain": [
              "purchase                False                                        \\\n",
              "time_on_site (5.196, 124.547] (124.547, 243.304] (243.304, 362.062]   \n",
              "device                                                                \n",
              "False                0.148000              0.172              0.144   \n",
              "True                 0.253333              0.260              0.100   \n",
              "\n",
              "purchase                                                      True   \\\n",
              "time_on_site (362.062, 480.819] (480.819, 599.577] (5.196, 124.547]   \n",
              "device                                                                \n",
              "False                     0.092              0.148            0.016   \n",
              "True                      0.000              0.000            0.136   \n",
              "\n",
              "purchase                                                               \\\n",
              "time_on_site (124.547, 243.304] (243.304, 362.062] (362.062, 480.819]   \n",
              "device                                                                  \n",
              "False                  0.044000              0.072               0.08   \n",
              "True                   0.162667              0.088               0.00   \n",
              "\n",
              "purchase                         \n",
              "time_on_site (480.819, 599.577]  \n",
              "device                           \n",
              "False                     0.084  \n",
              "True                      0.000  "
            ]
          },
          "metadata": {
            "tags": []
          },
          "execution_count": 42
        }
      ]
    },
    {
      "metadata": {
        "id": "1qOlss2VR2yV",
        "colab_type": "code",
        "colab": {
          "base_uri": "https://localhost:8080/",
          "height": 449
        },
        "outputId": "a77e4803-d06c-4d5f-98f4-5c7a7266fe59"
      },
      "cell_type": "code",
      "source": [
        "user_data.hist()"
      ],
      "execution_count": 53,
      "outputs": [
        {
          "output_type": "execute_result",
          "data": {
            "text/plain": [
              "array([[<matplotlib.axes._subplots.AxesSubplot object at 0x7f2d6dee92e8>,\n",
              "        <matplotlib.axes._subplots.AxesSubplot object at 0x7f2d6dea9668>],\n",
              "       [<matplotlib.axes._subplots.AxesSubplot object at 0x7f2d6d1e4c88>,\n",
              "        <matplotlib.axes._subplots.AxesSubplot object at 0x7f2d6d572630>]],\n",
              "      dtype=object)"
            ]
          },
          "metadata": {
            "tags": []
          },
          "execution_count": 53
        },
        {
          "output_type": "display_data",
          "data": {
            "image/png": "[encoded data removed]",
            "text/plain": [
              "<Figure size 576x396 with 4 Axes>"
            ]
          },
          "metadata": {
            "tags": []
          }
        }
      ]
    },
    {
      "metadata": {
        "id": "633NYi7pVVGs",
        "colab_type": "code",
        "colab": {
          "base_uri": "https://localhost:8080/",
          "height": 365
        },
        "outputId": "73a7c8ca-4867-4fa3-aea0-11911a8267c3"
      },
      "cell_type": "code",
      "source": [
        "user_data['time_on_site'].plot.density()"
      ],
      "execution_count": 54,
      "outputs": [
        {
          "output_type": "execute_result",
          "data": {
            "text/plain": [
              "<matplotlib.axes._subplots.AxesSubplot at 0x7f2d6d0df5f8>"
            ]
          },
          "metadata": {
            "tags": []
          },
          "execution_count": 54
        },
        {
          "output_type": "display_data",
          "data": {
            "image/png": "[encoded data removed]",
            "text/plain": [
              "<Figure size 576x396 with 1 Axes>"
            ]
          },
          "metadata": {
            "tags": []
          }
        }
      ]
    },
    {
      "metadata": {
        "id": "UP9b6Zv9VvUG",
        "colab_type": "code",
        "colab": {
          "base_uri": "https://localhost:8080/",
          "height": 454
        },
        "outputId": "bb531dc3-541f-4b04-cb98-261353910fd9"
      },
      "cell_type": "code",
      "source": [
        "pd.pivot_table(user_data, values='purchased', index=time_bins).plot.bar()"
      ],
      "execution_count": 57,
      "outputs": [
        {
          "output_type": "execute_result",
          "data": {
            "text/plain": [
              "<matplotlib.axes._subplots.AxesSubplot at 0x7f2d6d1015f8>"
            ]
          },
          "metadata": {
            "tags": []
          },
          "execution_count": 57
        },
        {
          "output_type": "display_data",
          "data": {
            "image/png": "[encoded data removed]",
            "text/plain": [
              "<Figure size 576x396 with 1 Axes>"
            ]
          },
          "metadata": {
            "tags": []
          }
        }
      ]
    },
    {
      "metadata": {
        "id": "e4kPOGWUWHVu",
        "colab_type": "code",
        "colab": {
          "base_uri": "https://localhost:8080/",
          "height": 454
        },
        "outputId": "306db0ed-c30d-452f-c75e-8dcceacba30b"
      },
      "cell_type": "code",
      "source": [
        "pd.pivot_table(user_data, values='time_on_site', index=time_bins).plot.bar()"
      ],
      "execution_count": 58,
      "outputs": [
        {
          "output_type": "execute_result",
          "data": {
            "text/plain": [
              "<matplotlib.axes._subplots.AxesSubplot at 0x7f2d6b898400>"
            ]
          },
          "metadata": {
            "tags": []
          },
          "execution_count": 58
        },
        {
          "output_type": "display_data",
          "data": {
            "image/png": "[encoded data removed]",
            "text/plain": [
              "<Figure size 576x396 with 1 Axes>"
            ]
          },
          "metadata": {
            "tags": []
          }
        }
      ]
    },
    {
      "metadata": {
        "id": "tVOwcxeHWhbp",
        "colab_type": "code",
        "colab": {
          "base_uri": "https://localhost:8080/",
          "height": 369
        },
        "outputId": "2180cbd2-6048-4643-9eb2-9e421be79d7d"
      },
      "cell_type": "code",
      "source": [
        "ct = pd.crosstab(time_bins, [user_data['purchased'], user_data['mobile']], normalize='columns')\n",
        "ct.plot()"
      ],
      "execution_count": 68,
      "outputs": [
        {
          "output_type": "execute_result",
          "data": {
            "text/plain": [
              "<matplotlib.axes._subplots.AxesSubplot at 0x7f2d6b5aa828>"
            ]
          },
          "metadata": {
            "tags": []
          },
          "execution_count": 68
        },
        {
          "output_type": "display_data",
          "data": {
            "image/png": "[encoded data removed]",
            "text/plain": [
              "<Figure size 576x396 with 1 Axes>"
            ]
          },
          "metadata": {
            "tags": []
          }
        }
      ]
    },
    {
      "metadata": {
        "id": "sMil6DpeXoXl",
        "colab_type": "code",
        "colab": {
          "base_uri": "https://localhost:8080/",
          "height": 454
        },
        "outputId": "bc024981-2722-4273-ff37-a6a694e025da"
      },
      "cell_type": "code",
      "source": [
        "ct.plot(kind='bar')"
      ],
      "execution_count": 69,
      "outputs": [
        {
          "output_type": "execute_result",
          "data": {
            "text/plain": [
              "<matplotlib.axes._subplots.AxesSubplot at 0x7f2d6b55be48>"
            ]
          },
          "metadata": {
            "tags": []
          },
          "execution_count": 69
        },
        {
          "output_type": "display_data",
          "data": {
            "image/png": "[encoded data removed]",
            "text/plain": [
              "<Figure size 576x396 with 1 Axes>"
            ]
          },
          "metadata": {
            "tags": []
          }
        }
      ]
    },
    {
      "metadata": {
        "id": "lOqaPds9huME",
        "colab_type": "text"
      },
      "cell_type": "markdown",
      "source": [
        "## Assignment - what's going on here?\n",
        "\n",
        "Consider the data in `persons.csv` (already prepared for you, in the repo for the week). It has four columns - a unique id, followed by age (in years), weight (in lbs), and exercise time (in minutes/week) of 1200 (hypothetical) people.\n",
        "\n",
        "Try to figure out which variables are possibly related to each other, and which may be confounding relationships."
      ]
    },
    {
      "metadata": {
        "id": "TGUS79cOhPWj",
        "colab_type": "code",
        "colab": {}
      },
      "cell_type": "code",
      "source": [
        "# TODO - your code here\n",
        "# Use what we did live in lecture as an example\n",
        "\n",
        "# HINT - you can find the raw URL on GitHub and potentially use that\n",
        "# to load the data with read_csv, or you can upload it yourself\n",
        "\n",
        "import pandas as pd\n",
        "pd.set_option('display.max_columns', None)\n",
        "pd.set_option('display.max_rows', None)\n",
        "\n",
        "#Retrieve and Load Data\n",
        "persons_url = 'https://raw.githubusercontent.com/LambdaSchool/DS-Unit-1-Sprint-1-Dealing-With-Data/master/module4-databackedassertions/persons.csv'\n",
        "persons_data = pd.read_csv(person_url)\n",
        "\n",
        "#Drop the unnamed column we can reference the index.\n",
        "persons_data.drop(persons_data.columns[0], axis=1, inplace=True)\n",
        "\n",
        "\n",
        "#pd.crosstab(persons_data['exercise_time'], persons_data['age'])\n",
        "\n",
        "age_bins = pd.cut(persons_data['age'],7)\n",
        "weight_bins = pd.cut(persons_data['weight'],7)\n",
        "exer_bins = pd.cut(persons_data['exercise_time'],7)\n"
      ],
      "execution_count": 0,
      "outputs": []
    },
    {
      "metadata": {
        "id": "Knh1cErBoopo",
        "colab_type": "code",
        "colab": {
          "base_uri": "https://localhost:8080/",
          "height": 415
        },
        "outputId": "3c438c08-eea9-42d7-c242-b26223e4700c"
      },
      "cell_type": "code",
      "source": [
        "#Shows the percentage of people and where they fall under given their age and exercise time.\n",
        "age_exer_ct = pd.crosstab(age_bins, exer_bins, normalize='columns')\n",
        "age_exer_ct"
      ],
      "execution_count": 154,
      "outputs": [
        {
          "output_type": "execute_result",
          "data": {
            "text/html": [
              "<div>\n",
              "<style scoped>\n",
              "    .dataframe tbody tr th:only-of-type {\n",
              "        vertical-align: middle;\n",
              "    }\n",
              "\n",
              "    .dataframe tbody tr th {\n",
              "        vertical-align: top;\n",
              "    }\n",
              "\n",
              "    .dataframe thead th {\n",
              "        text-align: right;\n",
              "    }\n",
              "</style>\n",
              "<table border=\"1\" class=\"dataframe\">\n",
              "  <thead>\n",
              "    <tr style=\"text-align: right;\">\n",
              "      <th>exercise_time</th>\n",
              "      <th>(-0.3, 42.857]</th>\n",
              "      <th>(42.857, 85.714]</th>\n",
              "      <th>(85.714, 128.571]</th>\n",
              "      <th>(128.571, 171.429]</th>\n",
              "      <th>(171.429, 214.286]</th>\n",
              "      <th>(214.286, 257.143]</th>\n",
              "      <th>(257.143, 300.0]</th>\n",
              "    </tr>\n",
              "    <tr>\n",
              "      <th>age</th>\n",
              "      <th></th>\n",
              "      <th></th>\n",
              "      <th></th>\n",
              "      <th></th>\n",
              "      <th></th>\n",
              "      <th></th>\n",
              "      <th></th>\n",
              "    </tr>\n",
              "  </thead>\n",
              "  <tbody>\n",
              "    <tr>\n",
              "      <th>(17.938, 26.857]</th>\n",
              "      <td>0.086538</td>\n",
              "      <td>0.120</td>\n",
              "      <td>0.148837</td>\n",
              "      <td>0.159236</td>\n",
              "      <td>0.181818</td>\n",
              "      <td>0.171429</td>\n",
              "      <td>0.145985</td>\n",
              "    </tr>\n",
              "    <tr>\n",
              "      <th>(26.857, 35.714]</th>\n",
              "      <td>0.168269</td>\n",
              "      <td>0.135</td>\n",
              "      <td>0.083721</td>\n",
              "      <td>0.165605</td>\n",
              "      <td>0.230769</td>\n",
              "      <td>0.257143</td>\n",
              "      <td>0.197080</td>\n",
              "    </tr>\n",
              "    <tr>\n",
              "      <th>(35.714, 44.571]</th>\n",
              "      <td>0.105769</td>\n",
              "      <td>0.130</td>\n",
              "      <td>0.153488</td>\n",
              "      <td>0.114650</td>\n",
              "      <td>0.118881</td>\n",
              "      <td>0.207143</td>\n",
              "      <td>0.197080</td>\n",
              "    </tr>\n",
              "    <tr>\n",
              "      <th>(44.571, 53.429]</th>\n",
              "      <td>0.096154</td>\n",
              "      <td>0.095</td>\n",
              "      <td>0.083721</td>\n",
              "      <td>0.133758</td>\n",
              "      <td>0.139860</td>\n",
              "      <td>0.121429</td>\n",
              "      <td>0.262774</td>\n",
              "    </tr>\n",
              "    <tr>\n",
              "      <th>(53.429, 62.286]</th>\n",
              "      <td>0.115385</td>\n",
              "      <td>0.120</td>\n",
              "      <td>0.125581</td>\n",
              "      <td>0.121019</td>\n",
              "      <td>0.167832</td>\n",
              "      <td>0.150000</td>\n",
              "      <td>0.197080</td>\n",
              "    </tr>\n",
              "    <tr>\n",
              "      <th>(62.286, 71.143]</th>\n",
              "      <td>0.206731</td>\n",
              "      <td>0.170</td>\n",
              "      <td>0.204651</td>\n",
              "      <td>0.197452</td>\n",
              "      <td>0.160839</td>\n",
              "      <td>0.092857</td>\n",
              "      <td>0.000000</td>\n",
              "    </tr>\n",
              "    <tr>\n",
              "      <th>(71.143, 80.0]</th>\n",
              "      <td>0.221154</td>\n",
              "      <td>0.230</td>\n",
              "      <td>0.200000</td>\n",
              "      <td>0.108280</td>\n",
              "      <td>0.000000</td>\n",
              "      <td>0.000000</td>\n",
              "      <td>0.000000</td>\n",
              "    </tr>\n",
              "  </tbody>\n",
              "</table>\n",
              "</div>"
            ],
            "text/plain": [
              "exercise_time     (-0.3, 42.857]  (42.857, 85.714]  (85.714, 128.571]  \\\n",
              "age                                                                     \n",
              "(17.938, 26.857]        0.086538             0.120           0.148837   \n",
              "(26.857, 35.714]        0.168269             0.135           0.083721   \n",
              "(35.714, 44.571]        0.105769             0.130           0.153488   \n",
              "(44.571, 53.429]        0.096154             0.095           0.083721   \n",
              "(53.429, 62.286]        0.115385             0.120           0.125581   \n",
              "(62.286, 71.143]        0.206731             0.170           0.204651   \n",
              "(71.143, 80.0]          0.221154             0.230           0.200000   \n",
              "\n",
              "exercise_time     (128.571, 171.429]  (171.429, 214.286]  (214.286, 257.143]  \\\n",
              "age                                                                            \n",
              "(17.938, 26.857]            0.159236            0.181818            0.171429   \n",
              "(26.857, 35.714]            0.165605            0.230769            0.257143   \n",
              "(35.714, 44.571]            0.114650            0.118881            0.207143   \n",
              "(44.571, 53.429]            0.133758            0.139860            0.121429   \n",
              "(53.429, 62.286]            0.121019            0.167832            0.150000   \n",
              "(62.286, 71.143]            0.197452            0.160839            0.092857   \n",
              "(71.143, 80.0]              0.108280            0.000000            0.000000   \n",
              "\n",
              "exercise_time     (257.143, 300.0]  \n",
              "age                                 \n",
              "(17.938, 26.857]          0.145985  \n",
              "(26.857, 35.714]          0.197080  \n",
              "(35.714, 44.571]          0.197080  \n",
              "(44.571, 53.429]          0.262774  \n",
              "(53.429, 62.286]          0.197080  \n",
              "(62.286, 71.143]          0.000000  \n",
              "(71.143, 80.0]            0.000000  "
            ]
          },
          "metadata": {
            "tags": []
          },
          "execution_count": 154
        }
      ]
    },
    {
      "metadata": {
        "id": "wZHKEuwFvmZP",
        "colab_type": "code",
        "colab": {
          "base_uri": "https://localhost:8080/",
          "height": 439
        },
        "outputId": "e73edf40-bf45-47d4-b636-b07bfcdfe767"
      },
      "cell_type": "code",
      "source": [
        "ax = age_exer_ct.plot(kind='bar', title='A group of people\\'s age and their exercise time')\n",
        "ax.set_ylabel('Percentages of people');"
      ],
      "execution_count": 158,
      "outputs": [
        {
          "output_type": "display_data",
          "data": {
            "image/png": "[encoded data removed]",
            "text/plain": [
              "<Figure size 576x396 with 1 Axes>"
            ]
          },
          "metadata": {
            "tags": []
          }
        }
      ]
    },
    {
      "metadata": {
        "id": "bI8TZO_Q1M1r",
        "colab_type": "code",
        "colab": {}
      },
      "cell_type": "code",
      "source": [
        "?ct.plot"
      ],
      "execution_count": 0,
      "outputs": []
    },
    {
      "metadata": {
        "id": "qNM0HgPoov_d",
        "colab_type": "code",
        "colab": {
          "base_uri": "https://localhost:8080/",
          "height": 415
        },
        "outputId": "45e62675-e40e-4651-b13f-1c86817e8cc9"
      },
      "cell_type": "code",
      "source": [
        "#Shows the percentage of people and where they fall under given their age and weight\n",
        "pd.crosstab(age_bins, weight_bins, normalize='columns')"
      ],
      "execution_count": 136,
      "outputs": [
        {
          "output_type": "execute_result",
          "data": {
            "text/html": [
              "<div>\n",
              "<style scoped>\n",
              "    .dataframe tbody tr th:only-of-type {\n",
              "        vertical-align: middle;\n",
              "    }\n",
              "\n",
              "    .dataframe tbody tr th {\n",
              "        vertical-align: top;\n",
              "    }\n",
              "\n",
              "    .dataframe thead th {\n",
              "        text-align: right;\n",
              "    }\n",
              "</style>\n",
              "<table border=\"1\" class=\"dataframe\">\n",
              "  <thead>\n",
              "    <tr style=\"text-align: right;\">\n",
              "      <th>weight</th>\n",
              "      <th>(99.854, 120.857]</th>\n",
              "      <th>(120.857, 141.714]</th>\n",
              "      <th>(141.714, 162.571]</th>\n",
              "      <th>(162.571, 183.429]</th>\n",
              "      <th>(183.429, 204.286]</th>\n",
              "      <th>(204.286, 225.143]</th>\n",
              "      <th>(225.143, 246.0]</th>\n",
              "    </tr>\n",
              "    <tr>\n",
              "      <th>age</th>\n",
              "      <th></th>\n",
              "      <th></th>\n",
              "      <th></th>\n",
              "      <th></th>\n",
              "      <th></th>\n",
              "      <th></th>\n",
              "      <th></th>\n",
              "    </tr>\n",
              "  </thead>\n",
              "  <tbody>\n",
              "    <tr>\n",
              "      <th>(17.938, 26.857]</th>\n",
              "      <td>0.158537</td>\n",
              "      <td>0.128114</td>\n",
              "      <td>0.169643</td>\n",
              "      <td>0.145946</td>\n",
              "      <td>0.140845</td>\n",
              "      <td>0.055556</td>\n",
              "      <td>0.12500</td>\n",
              "    </tr>\n",
              "    <tr>\n",
              "      <th>(26.857, 35.714]</th>\n",
              "      <td>0.223577</td>\n",
              "      <td>0.153025</td>\n",
              "      <td>0.169643</td>\n",
              "      <td>0.151351</td>\n",
              "      <td>0.105634</td>\n",
              "      <td>0.211111</td>\n",
              "      <td>0.12500</td>\n",
              "    </tr>\n",
              "    <tr>\n",
              "      <th>(35.714, 44.571]</th>\n",
              "      <td>0.174797</td>\n",
              "      <td>0.170819</td>\n",
              "      <td>0.142857</td>\n",
              "      <td>0.097297</td>\n",
              "      <td>0.140845</td>\n",
              "      <td>0.100000</td>\n",
              "      <td>0.06250</td>\n",
              "    </tr>\n",
              "    <tr>\n",
              "      <th>(44.571, 53.429]</th>\n",
              "      <td>0.126016</td>\n",
              "      <td>0.156584</td>\n",
              "      <td>0.089286</td>\n",
              "      <td>0.151351</td>\n",
              "      <td>0.112676</td>\n",
              "      <td>0.088889</td>\n",
              "      <td>0.12500</td>\n",
              "    </tr>\n",
              "    <tr>\n",
              "      <th>(53.429, 62.286]</th>\n",
              "      <td>0.126016</td>\n",
              "      <td>0.145907</td>\n",
              "      <td>0.151786</td>\n",
              "      <td>0.135135</td>\n",
              "      <td>0.126761</td>\n",
              "      <td>0.177778</td>\n",
              "      <td>0.03125</td>\n",
              "    </tr>\n",
              "    <tr>\n",
              "      <th>(62.286, 71.143]</th>\n",
              "      <td>0.101626</td>\n",
              "      <td>0.156584</td>\n",
              "      <td>0.165179</td>\n",
              "      <td>0.162162</td>\n",
              "      <td>0.211268</td>\n",
              "      <td>0.133333</td>\n",
              "      <td>0.31250</td>\n",
              "    </tr>\n",
              "    <tr>\n",
              "      <th>(71.143, 80.0]</th>\n",
              "      <td>0.089431</td>\n",
              "      <td>0.088968</td>\n",
              "      <td>0.111607</td>\n",
              "      <td>0.156757</td>\n",
              "      <td>0.161972</td>\n",
              "      <td>0.233333</td>\n",
              "      <td>0.21875</td>\n",
              "    </tr>\n",
              "  </tbody>\n",
              "</table>\n",
              "</div>"
            ],
            "text/plain": [
              "weight            (99.854, 120.857]  (120.857, 141.714]  (141.714, 162.571]  \\\n",
              "age                                                                           \n",
              "(17.938, 26.857]           0.158537            0.128114            0.169643   \n",
              "(26.857, 35.714]           0.223577            0.153025            0.169643   \n",
              "(35.714, 44.571]           0.174797            0.170819            0.142857   \n",
              "(44.571, 53.429]           0.126016            0.156584            0.089286   \n",
              "(53.429, 62.286]           0.126016            0.145907            0.151786   \n",
              "(62.286, 71.143]           0.101626            0.156584            0.165179   \n",
              "(71.143, 80.0]             0.089431            0.088968            0.111607   \n",
              "\n",
              "weight            (162.571, 183.429]  (183.429, 204.286]  (204.286, 225.143]  \\\n",
              "age                                                                            \n",
              "(17.938, 26.857]            0.145946            0.140845            0.055556   \n",
              "(26.857, 35.714]            0.151351            0.105634            0.211111   \n",
              "(35.714, 44.571]            0.097297            0.140845            0.100000   \n",
              "(44.571, 53.429]            0.151351            0.112676            0.088889   \n",
              "(53.429, 62.286]            0.135135            0.126761            0.177778   \n",
              "(62.286, 71.143]            0.162162            0.211268            0.133333   \n",
              "(71.143, 80.0]              0.156757            0.161972            0.233333   \n",
              "\n",
              "weight            (225.143, 246.0]  \n",
              "age                                 \n",
              "(17.938, 26.857]           0.12500  \n",
              "(26.857, 35.714]           0.12500  \n",
              "(35.714, 44.571]           0.06250  \n",
              "(44.571, 53.429]           0.12500  \n",
              "(53.429, 62.286]           0.03125  \n",
              "(62.286, 71.143]           0.31250  \n",
              "(71.143, 80.0]             0.21875  "
            ]
          },
          "metadata": {
            "tags": []
          },
          "execution_count": 136
        }
      ]
    },
    {
      "metadata": {
        "id": "gXCM7BcazsTP",
        "colab_type": "code",
        "colab": {
          "base_uri": "https://localhost:8080/",
          "height": 466
        },
        "outputId": "d264c81d-0c9f-4d36-e02f-d75b502e1b05"
      },
      "cell_type": "code",
      "source": [
        "#Gives the percentage of people and places them in their respective category of age, weight, and exercise_time\n",
        "pd.crosstab(age_bins, [weight_bins, exer_bins], normalize='columns')"
      ],
      "execution_count": 137,
      "outputs": [
        {
          "output_type": "execute_result",
          "data": {
            "text/html": [
              "<div>\n",
              "<style scoped>\n",
              "    .dataframe tbody tr th:only-of-type {\n",
              "        vertical-align: middle;\n",
              "    }\n",
              "\n",
              "    .dataframe tbody tr th {\n",
              "        vertical-align: top;\n",
              "    }\n",
              "\n",
              "    .dataframe thead tr th {\n",
              "        text-align: left;\n",
              "    }\n",
              "\n",
              "    .dataframe thead tr:last-of-type th {\n",
              "        text-align: right;\n",
              "    }\n",
              "</style>\n",
              "<table border=\"1\" class=\"dataframe\">\n",
              "  <thead>\n",
              "    <tr>\n",
              "      <th>weight</th>\n",
              "      <th colspan=\"7\" halign=\"left\">(99.854, 120.857]</th>\n",
              "      <th colspan=\"7\" halign=\"left\">(120.857, 141.714]</th>\n",
              "      <th colspan=\"7\" halign=\"left\">(141.714, 162.571]</th>\n",
              "      <th colspan=\"7\" halign=\"left\">(162.571, 183.429]</th>\n",
              "      <th colspan=\"7\" halign=\"left\">(183.429, 204.286]</th>\n",
              "      <th colspan=\"7\" halign=\"left\">(204.286, 225.143]</th>\n",
              "      <th colspan=\"7\" halign=\"left\">(225.143, 246.0]</th>\n",
              "    </tr>\n",
              "    <tr>\n",
              "      <th>exercise_time</th>\n",
              "      <th>(-0.3, 42.857]</th>\n",
              "      <th>(42.857, 85.714]</th>\n",
              "      <th>(85.714, 128.571]</th>\n",
              "      <th>(128.571, 171.429]</th>\n",
              "      <th>(171.429, 214.286]</th>\n",
              "      <th>(214.286, 257.143]</th>\n",
              "      <th>(257.143, 300.0]</th>\n",
              "      <th>(-0.3, 42.857]</th>\n",
              "      <th>(42.857, 85.714]</th>\n",
              "      <th>(85.714, 128.571]</th>\n",
              "      <th>(128.571, 171.429]</th>\n",
              "      <th>(171.429, 214.286]</th>\n",
              "      <th>(214.286, 257.143]</th>\n",
              "      <th>(257.143, 300.0]</th>\n",
              "      <th>(-0.3, 42.857]</th>\n",
              "      <th>(42.857, 85.714]</th>\n",
              "      <th>(85.714, 128.571]</th>\n",
              "      <th>(128.571, 171.429]</th>\n",
              "      <th>(171.429, 214.286]</th>\n",
              "      <th>(214.286, 257.143]</th>\n",
              "      <th>(257.143, 300.0]</th>\n",
              "      <th>(-0.3, 42.857]</th>\n",
              "      <th>(42.857, 85.714]</th>\n",
              "      <th>(85.714, 128.571]</th>\n",
              "      <th>(128.571, 171.429]</th>\n",
              "      <th>(171.429, 214.286]</th>\n",
              "      <th>(214.286, 257.143]</th>\n",
              "      <th>(257.143, 300.0]</th>\n",
              "      <th>(-0.3, 42.857]</th>\n",
              "      <th>(42.857, 85.714]</th>\n",
              "      <th>(85.714, 128.571]</th>\n",
              "      <th>(128.571, 171.429]</th>\n",
              "      <th>(171.429, 214.286]</th>\n",
              "      <th>(214.286, 257.143]</th>\n",
              "      <th>(257.143, 300.0]</th>\n",
              "      <th>(-0.3, 42.857]</th>\n",
              "      <th>(42.857, 85.714]</th>\n",
              "      <th>(85.714, 128.571]</th>\n",
              "      <th>(128.571, 171.429]</th>\n",
              "      <th>(171.429, 214.286]</th>\n",
              "      <th>(214.286, 257.143]</th>\n",
              "      <th>(257.143, 300.0]</th>\n",
              "      <th>(-0.3, 42.857]</th>\n",
              "      <th>(42.857, 85.714]</th>\n",
              "      <th>(85.714, 128.571]</th>\n",
              "      <th>(128.571, 171.429]</th>\n",
              "      <th>(171.429, 214.286]</th>\n",
              "      <th>(214.286, 257.143]</th>\n",
              "      <th>(257.143, 300.0]</th>\n",
              "    </tr>\n",
              "    <tr>\n",
              "      <th>age</th>\n",
              "      <th></th>\n",
              "      <th></th>\n",
              "      <th></th>\n",
              "      <th></th>\n",
              "      <th></th>\n",
              "      <th></th>\n",
              "      <th></th>\n",
              "      <th></th>\n",
              "      <th></th>\n",
              "      <th></th>\n",
              "      <th></th>\n",
              "      <th></th>\n",
              "      <th></th>\n",
              "      <th></th>\n",
              "      <th></th>\n",
              "      <th></th>\n",
              "      <th></th>\n",
              "      <th></th>\n",
              "      <th></th>\n",
              "      <th></th>\n",
              "      <th></th>\n",
              "      <th></th>\n",
              "      <th></th>\n",
              "      <th></th>\n",
              "      <th></th>\n",
              "      <th></th>\n",
              "      <th></th>\n",
              "      <th></th>\n",
              "      <th></th>\n",
              "      <th></th>\n",
              "      <th></th>\n",
              "      <th></th>\n",
              "      <th></th>\n",
              "      <th></th>\n",
              "      <th></th>\n",
              "      <th></th>\n",
              "      <th></th>\n",
              "      <th></th>\n",
              "      <th></th>\n",
              "      <th></th>\n",
              "      <th></th>\n",
              "      <th></th>\n",
              "      <th></th>\n",
              "      <th></th>\n",
              "      <th></th>\n",
              "      <th></th>\n",
              "      <th></th>\n",
              "      <th></th>\n",
              "      <th></th>\n",
              "    </tr>\n",
              "  </thead>\n",
              "  <tbody>\n",
              "    <tr>\n",
              "      <th>(17.938, 26.857]</th>\n",
              "      <td>0.08</td>\n",
              "      <td>0.166667</td>\n",
              "      <td>0.153846</td>\n",
              "      <td>0.179487</td>\n",
              "      <td>0.171429</td>\n",
              "      <td>0.135135</td>\n",
              "      <td>0.185185</td>\n",
              "      <td>0.181818</td>\n",
              "      <td>0.09375</td>\n",
              "      <td>0.150</td>\n",
              "      <td>0.111111</td>\n",
              "      <td>0.100</td>\n",
              "      <td>0.129630</td>\n",
              "      <td>0.140351</td>\n",
              "      <td>0.034483</td>\n",
              "      <td>0.090909</td>\n",
              "      <td>0.195122</td>\n",
              "      <td>0.206897</td>\n",
              "      <td>0.300000</td>\n",
              "      <td>0.250000</td>\n",
              "      <td>0.076923</td>\n",
              "      <td>0.066667</td>\n",
              "      <td>0.135135</td>\n",
              "      <td>0.130435</td>\n",
              "      <td>0.142857</td>\n",
              "      <td>0.225806</td>\n",
              "      <td>0.230769</td>\n",
              "      <td>0.0</td>\n",
              "      <td>0.097561</td>\n",
              "      <td>0.178571</td>\n",
              "      <td>0.170732</td>\n",
              "      <td>0.16</td>\n",
              "      <td>0.000000</td>\n",
              "      <td>0.0</td>\n",
              "      <td>0.0</td>\n",
              "      <td>0.058824</td>\n",
              "      <td>0.057143</td>\n",
              "      <td>0.047619</td>\n",
              "      <td>0.0</td>\n",
              "      <td>0.0</td>\n",
              "      <td>0.0</td>\n",
              "      <td>0.0</td>\n",
              "      <td>0.111111</td>\n",
              "      <td>0.2</td>\n",
              "      <td>0.0</td>\n",
              "      <td>0.0</td>\n",
              "      <td>0.0</td>\n",
              "      <td>0.0</td>\n",
              "      <td>0.0</td>\n",
              "    </tr>\n",
              "    <tr>\n",
              "      <th>(26.857, 35.714]</th>\n",
              "      <td>0.12</td>\n",
              "      <td>0.200000</td>\n",
              "      <td>0.076923</td>\n",
              "      <td>0.205128</td>\n",
              "      <td>0.314286</td>\n",
              "      <td>0.297297</td>\n",
              "      <td>0.259259</td>\n",
              "      <td>0.045455</td>\n",
              "      <td>0.12500</td>\n",
              "      <td>0.050</td>\n",
              "      <td>0.166667</td>\n",
              "      <td>0.175</td>\n",
              "      <td>0.259259</td>\n",
              "      <td>0.157895</td>\n",
              "      <td>0.310345</td>\n",
              "      <td>0.090909</td>\n",
              "      <td>0.073171</td>\n",
              "      <td>0.172414</td>\n",
              "      <td>0.200000</td>\n",
              "      <td>0.222222</td>\n",
              "      <td>0.153846</td>\n",
              "      <td>0.100000</td>\n",
              "      <td>0.162162</td>\n",
              "      <td>0.086957</td>\n",
              "      <td>0.178571</td>\n",
              "      <td>0.225806</td>\n",
              "      <td>0.230769</td>\n",
              "      <td>0.0</td>\n",
              "      <td>0.121951</td>\n",
              "      <td>0.107143</td>\n",
              "      <td>0.073171</td>\n",
              "      <td>0.08</td>\n",
              "      <td>0.285714</td>\n",
              "      <td>0.0</td>\n",
              "      <td>0.0</td>\n",
              "      <td>0.323529</td>\n",
              "      <td>0.114286</td>\n",
              "      <td>0.190476</td>\n",
              "      <td>0.0</td>\n",
              "      <td>0.0</td>\n",
              "      <td>0.0</td>\n",
              "      <td>0.0</td>\n",
              "      <td>0.111111</td>\n",
              "      <td>0.2</td>\n",
              "      <td>0.0</td>\n",
              "      <td>0.0</td>\n",
              "      <td>0.0</td>\n",
              "      <td>0.0</td>\n",
              "      <td>0.0</td>\n",
              "    </tr>\n",
              "    <tr>\n",
              "      <th>(35.714, 44.571]</th>\n",
              "      <td>0.12</td>\n",
              "      <td>0.133333</td>\n",
              "      <td>0.192308</td>\n",
              "      <td>0.205128</td>\n",
              "      <td>0.142857</td>\n",
              "      <td>0.243243</td>\n",
              "      <td>0.166667</td>\n",
              "      <td>0.045455</td>\n",
              "      <td>0.18750</td>\n",
              "      <td>0.150</td>\n",
              "      <td>0.138889</td>\n",
              "      <td>0.150</td>\n",
              "      <td>0.222222</td>\n",
              "      <td>0.210526</td>\n",
              "      <td>0.172414</td>\n",
              "      <td>0.090909</td>\n",
              "      <td>0.146341</td>\n",
              "      <td>0.000000</td>\n",
              "      <td>0.166667</td>\n",
              "      <td>0.194444</td>\n",
              "      <td>0.230769</td>\n",
              "      <td>0.033333</td>\n",
              "      <td>0.135135</td>\n",
              "      <td>0.152174</td>\n",
              "      <td>0.107143</td>\n",
              "      <td>0.032258</td>\n",
              "      <td>0.076923</td>\n",
              "      <td>0.0</td>\n",
              "      <td>0.170732</td>\n",
              "      <td>0.178571</td>\n",
              "      <td>0.146341</td>\n",
              "      <td>0.08</td>\n",
              "      <td>0.000000</td>\n",
              "      <td>0.0</td>\n",
              "      <td>0.0</td>\n",
              "      <td>0.117647</td>\n",
              "      <td>0.057143</td>\n",
              "      <td>0.142857</td>\n",
              "      <td>0.0</td>\n",
              "      <td>0.0</td>\n",
              "      <td>0.0</td>\n",
              "      <td>0.0</td>\n",
              "      <td>0.037037</td>\n",
              "      <td>0.2</td>\n",
              "      <td>0.0</td>\n",
              "      <td>0.0</td>\n",
              "      <td>0.0</td>\n",
              "      <td>0.0</td>\n",
              "      <td>0.0</td>\n",
              "    </tr>\n",
              "    <tr>\n",
              "      <th>(44.571, 53.429]</th>\n",
              "      <td>0.08</td>\n",
              "      <td>0.100000</td>\n",
              "      <td>0.076923</td>\n",
              "      <td>0.051282</td>\n",
              "      <td>0.114286</td>\n",
              "      <td>0.108108</td>\n",
              "      <td>0.259259</td>\n",
              "      <td>0.045455</td>\n",
              "      <td>0.15625</td>\n",
              "      <td>0.075</td>\n",
              "      <td>0.111111</td>\n",
              "      <td>0.125</td>\n",
              "      <td>0.185185</td>\n",
              "      <td>0.280702</td>\n",
              "      <td>0.034483</td>\n",
              "      <td>0.090909</td>\n",
              "      <td>0.073171</td>\n",
              "      <td>0.137931</td>\n",
              "      <td>0.066667</td>\n",
              "      <td>0.027778</td>\n",
              "      <td>0.230769</td>\n",
              "      <td>0.133333</td>\n",
              "      <td>0.081081</td>\n",
              "      <td>0.086957</td>\n",
              "      <td>0.250000</td>\n",
              "      <td>0.258065</td>\n",
              "      <td>0.153846</td>\n",
              "      <td>0.0</td>\n",
              "      <td>0.146341</td>\n",
              "      <td>0.035714</td>\n",
              "      <td>0.097561</td>\n",
              "      <td>0.16</td>\n",
              "      <td>0.142857</td>\n",
              "      <td>0.0</td>\n",
              "      <td>0.0</td>\n",
              "      <td>0.058824</td>\n",
              "      <td>0.114286</td>\n",
              "      <td>0.095238</td>\n",
              "      <td>0.0</td>\n",
              "      <td>0.0</td>\n",
              "      <td>0.0</td>\n",
              "      <td>0.0</td>\n",
              "      <td>0.148148</td>\n",
              "      <td>0.0</td>\n",
              "      <td>0.0</td>\n",
              "      <td>0.0</td>\n",
              "      <td>0.0</td>\n",
              "      <td>0.0</td>\n",
              "      <td>0.0</td>\n",
              "    </tr>\n",
              "    <tr>\n",
              "      <th>(53.429, 62.286]</th>\n",
              "      <td>0.20</td>\n",
              "      <td>0.033333</td>\n",
              "      <td>0.115385</td>\n",
              "      <td>0.128205</td>\n",
              "      <td>0.114286</td>\n",
              "      <td>0.162162</td>\n",
              "      <td>0.129630</td>\n",
              "      <td>0.136364</td>\n",
              "      <td>0.09375</td>\n",
              "      <td>0.050</td>\n",
              "      <td>0.194444</td>\n",
              "      <td>0.225</td>\n",
              "      <td>0.092593</td>\n",
              "      <td>0.210526</td>\n",
              "      <td>0.103448</td>\n",
              "      <td>0.121212</td>\n",
              "      <td>0.146341</td>\n",
              "      <td>0.068966</td>\n",
              "      <td>0.133333</td>\n",
              "      <td>0.194444</td>\n",
              "      <td>0.307692</td>\n",
              "      <td>0.133333</td>\n",
              "      <td>0.135135</td>\n",
              "      <td>0.173913</td>\n",
              "      <td>0.035714</td>\n",
              "      <td>0.129032</td>\n",
              "      <td>0.230769</td>\n",
              "      <td>0.0</td>\n",
              "      <td>0.097561</td>\n",
              "      <td>0.142857</td>\n",
              "      <td>0.073171</td>\n",
              "      <td>0.16</td>\n",
              "      <td>0.428571</td>\n",
              "      <td>0.0</td>\n",
              "      <td>0.0</td>\n",
              "      <td>0.117647</td>\n",
              "      <td>0.200000</td>\n",
              "      <td>0.238095</td>\n",
              "      <td>0.0</td>\n",
              "      <td>0.0</td>\n",
              "      <td>0.0</td>\n",
              "      <td>0.0</td>\n",
              "      <td>0.037037</td>\n",
              "      <td>0.0</td>\n",
              "      <td>0.0</td>\n",
              "      <td>0.0</td>\n",
              "      <td>0.0</td>\n",
              "      <td>0.0</td>\n",
              "      <td>0.0</td>\n",
              "    </tr>\n",
              "    <tr>\n",
              "      <th>(62.286, 71.143]</th>\n",
              "      <td>0.20</td>\n",
              "      <td>0.200000</td>\n",
              "      <td>0.115385</td>\n",
              "      <td>0.102564</td>\n",
              "      <td>0.142857</td>\n",
              "      <td>0.054054</td>\n",
              "      <td>0.000000</td>\n",
              "      <td>0.318182</td>\n",
              "      <td>0.15625</td>\n",
              "      <td>0.250</td>\n",
              "      <td>0.194444</td>\n",
              "      <td>0.225</td>\n",
              "      <td>0.111111</td>\n",
              "      <td>0.000000</td>\n",
              "      <td>0.103448</td>\n",
              "      <td>0.272727</td>\n",
              "      <td>0.195122</td>\n",
              "      <td>0.310345</td>\n",
              "      <td>0.133333</td>\n",
              "      <td>0.111111</td>\n",
              "      <td>0.000000</td>\n",
              "      <td>0.233333</td>\n",
              "      <td>0.054054</td>\n",
              "      <td>0.239130</td>\n",
              "      <td>0.178571</td>\n",
              "      <td>0.129032</td>\n",
              "      <td>0.076923</td>\n",
              "      <td>0.0</td>\n",
              "      <td>0.170732</td>\n",
              "      <td>0.250000</td>\n",
              "      <td>0.219512</td>\n",
              "      <td>0.24</td>\n",
              "      <td>0.142857</td>\n",
              "      <td>0.0</td>\n",
              "      <td>0.0</td>\n",
              "      <td>0.147059</td>\n",
              "      <td>0.114286</td>\n",
              "      <td>0.142857</td>\n",
              "      <td>0.0</td>\n",
              "      <td>0.0</td>\n",
              "      <td>0.0</td>\n",
              "      <td>0.0</td>\n",
              "      <td>0.333333</td>\n",
              "      <td>0.2</td>\n",
              "      <td>0.0</td>\n",
              "      <td>0.0</td>\n",
              "      <td>0.0</td>\n",
              "      <td>0.0</td>\n",
              "      <td>0.0</td>\n",
              "    </tr>\n",
              "    <tr>\n",
              "      <th>(71.143, 80.0]</th>\n",
              "      <td>0.20</td>\n",
              "      <td>0.166667</td>\n",
              "      <td>0.269231</td>\n",
              "      <td>0.128205</td>\n",
              "      <td>0.000000</td>\n",
              "      <td>0.000000</td>\n",
              "      <td>0.000000</td>\n",
              "      <td>0.227273</td>\n",
              "      <td>0.18750</td>\n",
              "      <td>0.275</td>\n",
              "      <td>0.083333</td>\n",
              "      <td>0.000</td>\n",
              "      <td>0.000000</td>\n",
              "      <td>0.000000</td>\n",
              "      <td>0.241379</td>\n",
              "      <td>0.242424</td>\n",
              "      <td>0.170732</td>\n",
              "      <td>0.103448</td>\n",
              "      <td>0.000000</td>\n",
              "      <td>0.000000</td>\n",
              "      <td>0.000000</td>\n",
              "      <td>0.300000</td>\n",
              "      <td>0.297297</td>\n",
              "      <td>0.130435</td>\n",
              "      <td>0.107143</td>\n",
              "      <td>0.000000</td>\n",
              "      <td>0.000000</td>\n",
              "      <td>0.0</td>\n",
              "      <td>0.195122</td>\n",
              "      <td>0.107143</td>\n",
              "      <td>0.219512</td>\n",
              "      <td>0.12</td>\n",
              "      <td>0.000000</td>\n",
              "      <td>0.0</td>\n",
              "      <td>0.0</td>\n",
              "      <td>0.176471</td>\n",
              "      <td>0.342857</td>\n",
              "      <td>0.142857</td>\n",
              "      <td>0.0</td>\n",
              "      <td>0.0</td>\n",
              "      <td>0.0</td>\n",
              "      <td>0.0</td>\n",
              "      <td>0.222222</td>\n",
              "      <td>0.2</td>\n",
              "      <td>0.0</td>\n",
              "      <td>0.0</td>\n",
              "      <td>0.0</td>\n",
              "      <td>0.0</td>\n",
              "      <td>0.0</td>\n",
              "    </tr>\n",
              "  </tbody>\n",
              "</table>\n",
              "</div>"
            ],
            "text/plain": [
              "weight           (99.854, 120.857]                                     \\\n",
              "exercise_time       (-0.3, 42.857] (42.857, 85.714] (85.714, 128.571]   \n",
              "age                                                                     \n",
              "(17.938, 26.857]              0.08         0.166667          0.153846   \n",
              "(26.857, 35.714]              0.12         0.200000          0.076923   \n",
              "(35.714, 44.571]              0.12         0.133333          0.192308   \n",
              "(44.571, 53.429]              0.08         0.100000          0.076923   \n",
              "(53.429, 62.286]              0.20         0.033333          0.115385   \n",
              "(62.286, 71.143]              0.20         0.200000          0.115385   \n",
              "(71.143, 80.0]                0.20         0.166667          0.269231   \n",
              "\n",
              "weight                                                                     \\\n",
              "exercise_time    (128.571, 171.429] (171.429, 214.286] (214.286, 257.143]   \n",
              "age                                                                         \n",
              "(17.938, 26.857]           0.179487           0.171429           0.135135   \n",
              "(26.857, 35.714]           0.205128           0.314286           0.297297   \n",
              "(35.714, 44.571]           0.205128           0.142857           0.243243   \n",
              "(44.571, 53.429]           0.051282           0.114286           0.108108   \n",
              "(53.429, 62.286]           0.128205           0.114286           0.162162   \n",
              "(62.286, 71.143]           0.102564           0.142857           0.054054   \n",
              "(71.143, 80.0]             0.128205           0.000000           0.000000   \n",
              "\n",
              "weight                            (120.857, 141.714]                   \\\n",
              "exercise_time    (257.143, 300.0]     (-0.3, 42.857] (42.857, 85.714]   \n",
              "age                                                                     \n",
              "(17.938, 26.857]         0.185185           0.181818          0.09375   \n",
              "(26.857, 35.714]         0.259259           0.045455          0.12500   \n",
              "(35.714, 44.571]         0.166667           0.045455          0.18750   \n",
              "(44.571, 53.429]         0.259259           0.045455          0.15625   \n",
              "(53.429, 62.286]         0.129630           0.136364          0.09375   \n",
              "(62.286, 71.143]         0.000000           0.318182          0.15625   \n",
              "(71.143, 80.0]           0.000000           0.227273          0.18750   \n",
              "\n",
              "weight                                                                    \\\n",
              "exercise_time    (85.714, 128.571] (128.571, 171.429] (171.429, 214.286]   \n",
              "age                                                                        \n",
              "(17.938, 26.857]             0.150           0.111111              0.100   \n",
              "(26.857, 35.714]             0.050           0.166667              0.175   \n",
              "(35.714, 44.571]             0.150           0.138889              0.150   \n",
              "(44.571, 53.429]             0.075           0.111111              0.125   \n",
              "(53.429, 62.286]             0.050           0.194444              0.225   \n",
              "(62.286, 71.143]             0.250           0.194444              0.225   \n",
              "(71.143, 80.0]               0.275           0.083333              0.000   \n",
              "\n",
              "weight                                               (141.714, 162.571]  \\\n",
              "exercise_time    (214.286, 257.143] (257.143, 300.0]     (-0.3, 42.857]   \n",
              "age                                                                       \n",
              "(17.938, 26.857]           0.129630         0.140351           0.034483   \n",
              "(26.857, 35.714]           0.259259         0.157895           0.310345   \n",
              "(35.714, 44.571]           0.222222         0.210526           0.172414   \n",
              "(44.571, 53.429]           0.185185         0.280702           0.034483   \n",
              "(53.429, 62.286]           0.092593         0.210526           0.103448   \n",
              "(62.286, 71.143]           0.111111         0.000000           0.103448   \n",
              "(71.143, 80.0]             0.000000         0.000000           0.241379   \n",
              "\n",
              "weight                                                                  \\\n",
              "exercise_time    (42.857, 85.714] (85.714, 128.571] (128.571, 171.429]   \n",
              "age                                                                      \n",
              "(17.938, 26.857]         0.090909          0.195122           0.206897   \n",
              "(26.857, 35.714]         0.090909          0.073171           0.172414   \n",
              "(35.714, 44.571]         0.090909          0.146341           0.000000   \n",
              "(44.571, 53.429]         0.090909          0.073171           0.137931   \n",
              "(53.429, 62.286]         0.121212          0.146341           0.068966   \n",
              "(62.286, 71.143]         0.272727          0.195122           0.310345   \n",
              "(71.143, 80.0]           0.242424          0.170732           0.103448   \n",
              "\n",
              "weight                                                                   \\\n",
              "exercise_time    (171.429, 214.286] (214.286, 257.143] (257.143, 300.0]   \n",
              "age                                                                       \n",
              "(17.938, 26.857]           0.300000           0.250000         0.076923   \n",
              "(26.857, 35.714]           0.200000           0.222222         0.153846   \n",
              "(35.714, 44.571]           0.166667           0.194444         0.230769   \n",
              "(44.571, 53.429]           0.066667           0.027778         0.230769   \n",
              "(53.429, 62.286]           0.133333           0.194444         0.307692   \n",
              "(62.286, 71.143]           0.133333           0.111111         0.000000   \n",
              "(71.143, 80.0]             0.000000           0.000000         0.000000   \n",
              "\n",
              "weight           (162.571, 183.429]                                     \\\n",
              "exercise_time        (-0.3, 42.857] (42.857, 85.714] (85.714, 128.571]   \n",
              "age                                                                      \n",
              "(17.938, 26.857]           0.066667         0.135135          0.130435   \n",
              "(26.857, 35.714]           0.100000         0.162162          0.086957   \n",
              "(35.714, 44.571]           0.033333         0.135135          0.152174   \n",
              "(44.571, 53.429]           0.133333         0.081081          0.086957   \n",
              "(53.429, 62.286]           0.133333         0.135135          0.173913   \n",
              "(62.286, 71.143]           0.233333         0.054054          0.239130   \n",
              "(71.143, 80.0]             0.300000         0.297297          0.130435   \n",
              "\n",
              "weight                                                                     \\\n",
              "exercise_time    (128.571, 171.429] (171.429, 214.286] (214.286, 257.143]   \n",
              "age                                                                         \n",
              "(17.938, 26.857]           0.142857           0.225806           0.230769   \n",
              "(26.857, 35.714]           0.178571           0.225806           0.230769   \n",
              "(35.714, 44.571]           0.107143           0.032258           0.076923   \n",
              "(44.571, 53.429]           0.250000           0.258065           0.153846   \n",
              "(53.429, 62.286]           0.035714           0.129032           0.230769   \n",
              "(62.286, 71.143]           0.178571           0.129032           0.076923   \n",
              "(71.143, 80.0]             0.107143           0.000000           0.000000   \n",
              "\n",
              "weight                            (183.429, 204.286]                   \\\n",
              "exercise_time    (257.143, 300.0]     (-0.3, 42.857] (42.857, 85.714]   \n",
              "age                                                                     \n",
              "(17.938, 26.857]              0.0           0.097561         0.178571   \n",
              "(26.857, 35.714]              0.0           0.121951         0.107143   \n",
              "(35.714, 44.571]              0.0           0.170732         0.178571   \n",
              "(44.571, 53.429]              0.0           0.146341         0.035714   \n",
              "(53.429, 62.286]              0.0           0.097561         0.142857   \n",
              "(62.286, 71.143]              0.0           0.170732         0.250000   \n",
              "(71.143, 80.0]                0.0           0.195122         0.107143   \n",
              "\n",
              "weight                                                                    \\\n",
              "exercise_time    (85.714, 128.571] (128.571, 171.429] (171.429, 214.286]   \n",
              "age                                                                        \n",
              "(17.938, 26.857]          0.170732               0.16           0.000000   \n",
              "(26.857, 35.714]          0.073171               0.08           0.285714   \n",
              "(35.714, 44.571]          0.146341               0.08           0.000000   \n",
              "(44.571, 53.429]          0.097561               0.16           0.142857   \n",
              "(53.429, 62.286]          0.073171               0.16           0.428571   \n",
              "(62.286, 71.143]          0.219512               0.24           0.142857   \n",
              "(71.143, 80.0]            0.219512               0.12           0.000000   \n",
              "\n",
              "weight                                               (204.286, 225.143]  \\\n",
              "exercise_time    (214.286, 257.143] (257.143, 300.0]     (-0.3, 42.857]   \n",
              "age                                                                       \n",
              "(17.938, 26.857]                0.0              0.0           0.058824   \n",
              "(26.857, 35.714]                0.0              0.0           0.323529   \n",
              "(35.714, 44.571]                0.0              0.0           0.117647   \n",
              "(44.571, 53.429]                0.0              0.0           0.058824   \n",
              "(53.429, 62.286]                0.0              0.0           0.117647   \n",
              "(62.286, 71.143]                0.0              0.0           0.147059   \n",
              "(71.143, 80.0]                  0.0              0.0           0.176471   \n",
              "\n",
              "weight                                                                  \\\n",
              "exercise_time    (42.857, 85.714] (85.714, 128.571] (128.571, 171.429]   \n",
              "age                                                                      \n",
              "(17.938, 26.857]         0.057143          0.047619                0.0   \n",
              "(26.857, 35.714]         0.114286          0.190476                0.0   \n",
              "(35.714, 44.571]         0.057143          0.142857                0.0   \n",
              "(44.571, 53.429]         0.114286          0.095238                0.0   \n",
              "(53.429, 62.286]         0.200000          0.238095                0.0   \n",
              "(62.286, 71.143]         0.114286          0.142857                0.0   \n",
              "(71.143, 80.0]           0.342857          0.142857                0.0   \n",
              "\n",
              "weight                                                                   \\\n",
              "exercise_time    (171.429, 214.286] (214.286, 257.143] (257.143, 300.0]   \n",
              "age                                                                       \n",
              "(17.938, 26.857]                0.0                0.0              0.0   \n",
              "(26.857, 35.714]                0.0                0.0              0.0   \n",
              "(35.714, 44.571]                0.0                0.0              0.0   \n",
              "(44.571, 53.429]                0.0                0.0              0.0   \n",
              "(53.429, 62.286]                0.0                0.0              0.0   \n",
              "(62.286, 71.143]                0.0                0.0              0.0   \n",
              "(71.143, 80.0]                  0.0                0.0              0.0   \n",
              "\n",
              "weight           (225.143, 246.0]                                     \\\n",
              "exercise_time      (-0.3, 42.857] (42.857, 85.714] (85.714, 128.571]   \n",
              "age                                                                    \n",
              "(17.938, 26.857]         0.111111              0.2               0.0   \n",
              "(26.857, 35.714]         0.111111              0.2               0.0   \n",
              "(35.714, 44.571]         0.037037              0.2               0.0   \n",
              "(44.571, 53.429]         0.148148              0.0               0.0   \n",
              "(53.429, 62.286]         0.037037              0.0               0.0   \n",
              "(62.286, 71.143]         0.333333              0.2               0.0   \n",
              "(71.143, 80.0]           0.222222              0.2               0.0   \n",
              "\n",
              "weight                                                                     \\\n",
              "exercise_time    (128.571, 171.429] (171.429, 214.286] (214.286, 257.143]   \n",
              "age                                                                         \n",
              "(17.938, 26.857]                0.0                0.0                0.0   \n",
              "(26.857, 35.714]                0.0                0.0                0.0   \n",
              "(35.714, 44.571]                0.0                0.0                0.0   \n",
              "(44.571, 53.429]                0.0                0.0                0.0   \n",
              "(53.429, 62.286]                0.0                0.0                0.0   \n",
              "(62.286, 71.143]                0.0                0.0                0.0   \n",
              "(71.143, 80.0]                  0.0                0.0                0.0   \n",
              "\n",
              "weight                             \n",
              "exercise_time    (257.143, 300.0]  \n",
              "age                                \n",
              "(17.938, 26.857]              0.0  \n",
              "(26.857, 35.714]              0.0  \n",
              "(35.714, 44.571]              0.0  \n",
              "(44.571, 53.429]              0.0  \n",
              "(53.429, 62.286]              0.0  \n",
              "(62.286, 71.143]              0.0  \n",
              "(71.143, 80.0]                0.0  "
            ]
          },
          "metadata": {
            "tags": []
          },
          "execution_count": 137
        }
      ]
    },
    {
      "metadata": {
        "id": "8VSdlnsYwVkl",
        "colab_type": "code",
        "colab": {
          "base_uri": "https://localhost:8080/",
          "height": 449
        },
        "outputId": "b15a47db-9ddc-4be8-8bfc-574bafb2d49b"
      },
      "cell_type": "code",
      "source": [
        "persons_data.hist(bins=100)\n",
        "#Age - Number of people's age\n",
        "#Exercise_time - Number of people's exercise slightly increase from 0 to 100 and decreases starting at 100\n",
        "#Weight - Number of people of people's weight increases from 100 to 125 and decrreases starting at 125"
      ],
      "execution_count": 135,
      "outputs": [
        {
          "output_type": "execute_result",
          "data": {
            "text/plain": [
              "array([[<matplotlib.axes._subplots.AxesSubplot object at 0x7f2d685ba518>,\n",
              "        <matplotlib.axes._subplots.AxesSubplot object at 0x7f2d6855dc88>],\n",
              "       [<matplotlib.axes._subplots.AxesSubplot object at 0x7f2d6858a5f8>,\n",
              "        <matplotlib.axes._subplots.AxesSubplot object at 0x7f2d68531f60>]],\n",
              "      dtype=object)"
            ]
          },
          "metadata": {
            "tags": []
          },
          "execution_count": 135
        },
        {
          "output_type": "display_data",
          "data": {
            "image/png": "[encoded data removed]",
            "text/plain": [
              "<Figure size 576x396 with 4 Axes>"
            ]
          },
          "metadata": {
            "tags": []
          }
        }
      ]
    },
    {
      "metadata": {
        "id": "BT9gdS7viJZa",
        "colab_type": "text"
      },
      "cell_type": "markdown",
      "source": [
        "### Assignment questions\n",
        "\n",
        "After you've worked on some code, answer the following questions in this text block:\n",
        "\n",
        "1.  What are the variable types in the data?\n",
        "2.  What are the relationships between the variables?\n",
        "3.  Which relationships are \"real\", and which spurious?\n"
      ]
    },
    {
      "metadata": {
        "id": "_XXg2crAipwP",
        "colab_type": "text"
      },
      "cell_type": "markdown",
      "source": [
        "## Stretch goals and resources\n",
        "\n",
        "Following are *optional* things for you to take a look at. Focus on the above assignment first, and make sure to commit and push your changes to GitHub.\n",
        "\n",
        "- [Spurious Correlations](http://tylervigen.com/spurious-correlations)\n",
        "- [NIH on controlling for confounding variables](https://www.ncbi.nlm.nih.gov/pmc/articles/PMC4017459/)\n",
        "\n",
        "Stretch goals:\n",
        "\n",
        "- Produce your own plot inspired by the Spurious Correlation visualizations (and consider writing a blog post about it - both the content and how you made it)\n",
        "- Pick one of the techniques that NIH highlights for confounding variables - we'll be going into many of them later, but see if you can find which Python modules may help (hint - check scikit-learn)"
      ]
    }
  ]
}