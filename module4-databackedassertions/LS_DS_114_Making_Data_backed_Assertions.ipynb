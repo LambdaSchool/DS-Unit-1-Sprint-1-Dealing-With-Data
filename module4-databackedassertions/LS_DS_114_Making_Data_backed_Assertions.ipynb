{
  "nbformat": 4,
  "nbformat_minor": 0,
  "metadata": {
    "colab": {
      "name": "LS_DS_114_Making_Data_backed_Assertions.ipynb",
      "version": "0.3.2",
      "provenance": [],
      "collapsed_sections": [],
      "include_colab_link": true
    },
    "kernelspec": {
      "name": "python3",
      "display_name": "Python 3"
    }
  },
  "cells": [
    {
      "cell_type": "markdown",
      "metadata": {
        "id": "view-in-github",
        "colab_type": "text"
      },
      "source": [
        "<a href=\"https://colab.research.google.com/github/Alex-Witt/DS-Unit-1-Sprint-1-Dealing-With-Data/blob/master/module4-databackedassertions/LS_DS_114_Making_Data_backed_Assertions.ipynb\" target=\"_parent\"><img src=\"https://colab.research.google.com/assets/colab-badge.svg\" alt=\"Open In Colab\"/></a>"
      ]
    },
    {
      "metadata": {
        "id": "Okfr_uhwhS1X",
        "colab_type": "text"
      },
      "cell_type": "markdown",
      "source": [
        "# Lambda School Data Science - Making Data-backed Assertions\n",
        "\n",
        "This is, for many, the main point of data science - to create and support reasoned arguments based on evidence. It's not a topic to master in a day, but it is worth some focused time thinking about and structuring your approach to it."
      ]
    },
    {
      "metadata": {
        "id": "9dtJETFRhnOG",
        "colab_type": "text"
      },
      "cell_type": "markdown",
      "source": [
        "## Lecture - generating a confounding variable\n",
        "\n",
        "The prewatch material told a story about a hypothetical health condition where both the drug usage and overall health outcome were related to gender - thus making gender a confounding variable, obfuscating the possible relationship between the drug and the outcome.\n",
        "\n",
        "Let's use Python to generate data that actually behaves in this fashion!"
      ]
    },
    {
      "metadata": {
        "id": "WiBkgmPJhmhE",
        "colab_type": "code",
        "outputId": "74cecc26-6fa1-4aab-d2db-ce0d388fa800",
        "colab": {
          "base_uri": "https://localhost:8080/",
          "height": 1074
        }
      },
      "cell_type": "code",
      "source": [
        "import random\n",
        "dir(random)  # Reminding ourselves what we can do here"
      ],
      "execution_count": 1,
      "outputs": [
        {
          "output_type": "execute_result",
          "data": {
            "text/plain": [
              "['BPF',\n",
              " 'LOG4',\n",
              " 'NV_MAGICCONST',\n",
              " 'RECIP_BPF',\n",
              " 'Random',\n",
              " 'SG_MAGICCONST',\n",
              " 'SystemRandom',\n",
              " 'TWOPI',\n",
              " '_BuiltinMethodType',\n",
              " '_MethodType',\n",
              " '_Sequence',\n",
              " '_Set',\n",
              " '__all__',\n",
              " '__builtins__',\n",
              " '__cached__',\n",
              " '__doc__',\n",
              " '__file__',\n",
              " '__loader__',\n",
              " '__name__',\n",
              " '__package__',\n",
              " '__spec__',\n",
              " '_acos',\n",
              " '_bisect',\n",
              " '_ceil',\n",
              " '_cos',\n",
              " '_e',\n",
              " '_exp',\n",
              " '_inst',\n",
              " '_itertools',\n",
              " '_log',\n",
              " '_pi',\n",
              " '_random',\n",
              " '_sha512',\n",
              " '_sin',\n",
              " '_sqrt',\n",
              " '_test',\n",
              " '_test_generator',\n",
              " '_urandom',\n",
              " '_warn',\n",
              " 'betavariate',\n",
              " 'choice',\n",
              " 'choices',\n",
              " 'expovariate',\n",
              " 'gammavariate',\n",
              " 'gauss',\n",
              " 'getrandbits',\n",
              " 'getstate',\n",
              " 'lognormvariate',\n",
              " 'normalvariate',\n",
              " 'paretovariate',\n",
              " 'randint',\n",
              " 'random',\n",
              " 'randrange',\n",
              " 'sample',\n",
              " 'seed',\n",
              " 'setstate',\n",
              " 'shuffle',\n",
              " 'triangular',\n",
              " 'uniform',\n",
              " 'vonmisesvariate',\n",
              " 'weibullvariate']"
            ]
          },
          "metadata": {
            "tags": []
          },
          "execution_count": 1
        }
      ]
    },
    {
      "metadata": {
        "id": "Ks5qFtpnq-q5",
        "colab_type": "code",
        "outputId": "de441c3e-da5d-4655-944d-78515d09308a",
        "colab": {
          "base_uri": "https://localhost:8080/",
          "height": 54
        }
      },
      "cell_type": "code",
      "source": [
        "# Let's think of another scenario:\n",
        "# We work for a company that sells accessories for mobile phones.\n",
        "# They have an ecommerce site, and we are supposed to analyze logs\n",
        "# to determine what sort of usage is related to purchases, and thus guide\n",
        "# website development to encourage higher conversion.\n",
        "\n",
        "# The hypothesis - users who spend longer on the site tend\n",
        "# to spend more. Seems reasonable, no?\n",
        "\n",
        "# But there's a confounding variable! If they're on a phone, they:\n",
        "# a) Spend less time on the site, but\n",
        "# b) Are more likely to be interested in the actual products!\n",
        "\n",
        "# Let's use namedtuple to represent our data\n",
        "\n",
        "from collections import namedtuple\n",
        "# purchased and mobile are bools, time_on_site in seconds\n",
        "User = namedtuple('User', ['purchased','time_on_site', 'mobile'])\n",
        "\n",
        "example_user = User(False, 12, False)\n",
        "print(example_user)"
      ],
      "execution_count": 2,
      "outputs": [
        {
          "output_type": "stream",
          "text": [
            "User(purchased=False, time_on_site=12, mobile=False)\n"
          ],
          "name": "stdout"
        }
      ]
    },
    {
      "metadata": {
        "id": "lfPiHNG_sefL",
        "colab_type": "code",
        "outputId": "5264cd25-4de2-46f8-c723-f6ab65c472a4",
        "colab": {
          "base_uri": "https://localhost:8080/",
          "height": 54
        }
      },
      "cell_type": "code",
      "source": [
        "# And now let's generate 1000 example users\n",
        "# 750 mobile, 250 not (i.e. desktop)\n",
        "# A desktop user has a base conversion likelihood of 10%\n",
        "# And it goes up by 1% for each 15 seconds they spend on the site\n",
        "# And they spend anywhere from 10 seconds to 10 minutes on the site (uniform)\n",
        "# Mobile users spend on average half as much time on the site as desktop\n",
        "# But have three times as much base likelihood of buying something\n",
        "\n",
        "users = []\n",
        "\n",
        "for _ in range(250):\n",
        "  # Desktop users\n",
        "  time_on_site = random.uniform(10, 600)\n",
        "  purchased = random.random() < 0.1 + (time_on_site / 1500)\n",
        "  users.append(User(purchased, time_on_site, False))\n",
        "  \n",
        "for _ in range(750):\n",
        "  # Mobile users\n",
        "  time_on_site = random.uniform(5, 300)\n",
        "  purchased = random.random() < 0.3 + (time_on_site / 1500)\n",
        "  users.append(User(purchased, time_on_site, True))\n",
        "  \n",
        "random.shuffle(users)\n",
        "print(users[:10])"
      ],
      "execution_count": 3,
      "outputs": [
        {
          "output_type": "stream",
          "text": [
            "[User(purchased=True, time_on_site=21.475280858269432, mobile=True), User(purchased=False, time_on_site=169.85373844562977, mobile=True), User(purchased=False, time_on_site=101.69642910541417, mobile=True), User(purchased=True, time_on_site=70.36578332727052, mobile=True), User(purchased=False, time_on_site=163.95499273946544, mobile=True), User(purchased=False, time_on_site=216.15855550491418, mobile=True), User(purchased=False, time_on_site=99.54284905012645, mobile=True), User(purchased=False, time_on_site=472.7544356770138, mobile=False), User(purchased=False, time_on_site=54.56162276009301, mobile=True), User(purchased=False, time_on_site=228.61942584100984, mobile=True)]\n"
          ],
          "name": "stdout"
        }
      ]
    },
    {
      "metadata": {
        "id": "9gDYb5qGuRzy",
        "colab_type": "code",
        "outputId": "70f9f080-b443-4802-9e7c-4cef63f439a1",
        "colab": {
          "base_uri": "https://localhost:8080/",
          "height": 224
        }
      },
      "cell_type": "code",
      "source": [
        "# Let's put this in a dataframe so we can look at it more easily\n",
        "import pandas as pd\n",
        "user_data = pd.DataFrame(users)\n",
        "user_data.head()"
      ],
      "execution_count": 4,
      "outputs": [
        {
          "output_type": "execute_result",
          "data": {
            "text/html": [
              "<div>\n",
              "<style scoped>\n",
              "    .dataframe tbody tr th:only-of-type {\n",
              "        vertical-align: middle;\n",
              "    }\n",
              "\n",
              "    .dataframe tbody tr th {\n",
              "        vertical-align: top;\n",
              "    }\n",
              "\n",
              "    .dataframe thead th {\n",
              "        text-align: right;\n",
              "    }\n",
              "</style>\n",
              "<table border=\"1\" class=\"dataframe\">\n",
              "  <thead>\n",
              "    <tr style=\"text-align: right;\">\n",
              "      <th></th>\n",
              "      <th>purchased</th>\n",
              "      <th>time_on_site</th>\n",
              "      <th>mobile</th>\n",
              "    </tr>\n",
              "  </thead>\n",
              "  <tbody>\n",
              "    <tr>\n",
              "      <th>0</th>\n",
              "      <td>True</td>\n",
              "      <td>21.475281</td>\n",
              "      <td>True</td>\n",
              "    </tr>\n",
              "    <tr>\n",
              "      <th>1</th>\n",
              "      <td>False</td>\n",
              "      <td>169.853738</td>\n",
              "      <td>True</td>\n",
              "    </tr>\n",
              "    <tr>\n",
              "      <th>2</th>\n",
              "      <td>False</td>\n",
              "      <td>101.696429</td>\n",
              "      <td>True</td>\n",
              "    </tr>\n",
              "    <tr>\n",
              "      <th>3</th>\n",
              "      <td>True</td>\n",
              "      <td>70.365783</td>\n",
              "      <td>True</td>\n",
              "    </tr>\n",
              "    <tr>\n",
              "      <th>4</th>\n",
              "      <td>False</td>\n",
              "      <td>163.954993</td>\n",
              "      <td>True</td>\n",
              "    </tr>\n",
              "  </tbody>\n",
              "</table>\n",
              "</div>"
            ],
            "text/plain": [
              "   purchased  time_on_site  mobile\n",
              "0       True     21.475281    True\n",
              "1      False    169.853738    True\n",
              "2      False    101.696429    True\n",
              "3       True     70.365783    True\n",
              "4      False    163.954993    True"
            ]
          },
          "metadata": {
            "tags": []
          },
          "execution_count": 4
        }
      ]
    },
    {
      "metadata": {
        "id": "sr6IJv77ulVl",
        "colab_type": "code",
        "outputId": "b56754e4-be01-4e61-edb0-bac1e49650b1",
        "colab": {
          "base_uri": "https://localhost:8080/",
          "height": 259
        }
      },
      "cell_type": "code",
      "source": [
        "# Let's use crosstabulation to try to see what's going on\n",
        "pd.crosstab(user_data['purchased'], user_data['time_on_site'])"
      ],
      "execution_count": 5,
      "outputs": [
        {
          "output_type": "execute_result",
          "data": {
            "text/html": [
              "<div>\n",
              "<style scoped>\n",
              "    .dataframe tbody tr th:only-of-type {\n",
              "        vertical-align: middle;\n",
              "    }\n",
              "\n",
              "    .dataframe tbody tr th {\n",
              "        vertical-align: top;\n",
              "    }\n",
              "\n",
              "    .dataframe thead th {\n",
              "        text-align: right;\n",
              "    }\n",
              "</style>\n",
              "<table border=\"1\" class=\"dataframe\">\n",
              "  <thead>\n",
              "    <tr style=\"text-align: right;\">\n",
              "      <th>time_on_site</th>\n",
              "      <th>5.571073628979256</th>\n",
              "      <th>6.74982340170855</th>\n",
              "      <th>6.790364910546123</th>\n",
              "      <th>6.826373898924384</th>\n",
              "      <th>8.207868850608719</th>\n",
              "      <th>8.45284190723197</th>\n",
              "      <th>8.500664496929213</th>\n",
              "      <th>8.925178051594207</th>\n",
              "      <th>9.109549745689261</th>\n",
              "      <th>9.335984020797564</th>\n",
              "      <th>...</th>\n",
              "      <th>576.7490180387455</th>\n",
              "      <th>579.1661714410214</th>\n",
              "      <th>581.2673787306877</th>\n",
              "      <th>585.496170310357</th>\n",
              "      <th>589.124630149742</th>\n",
              "      <th>590.228000974103</th>\n",
              "      <th>590.3312879704525</th>\n",
              "      <th>594.4756320941765</th>\n",
              "      <th>594.5152091965535</th>\n",
              "      <th>599.6122291728914</th>\n",
              "    </tr>\n",
              "    <tr>\n",
              "      <th>purchased</th>\n",
              "      <th></th>\n",
              "      <th></th>\n",
              "      <th></th>\n",
              "      <th></th>\n",
              "      <th></th>\n",
              "      <th></th>\n",
              "      <th></th>\n",
              "      <th></th>\n",
              "      <th></th>\n",
              "      <th></th>\n",
              "      <th></th>\n",
              "      <th></th>\n",
              "      <th></th>\n",
              "      <th></th>\n",
              "      <th></th>\n",
              "      <th></th>\n",
              "      <th></th>\n",
              "      <th></th>\n",
              "      <th></th>\n",
              "      <th></th>\n",
              "      <th></th>\n",
              "    </tr>\n",
              "  </thead>\n",
              "  <tbody>\n",
              "    <tr>\n",
              "      <th>False</th>\n",
              "      <td>1</td>\n",
              "      <td>1</td>\n",
              "      <td>1</td>\n",
              "      <td>1</td>\n",
              "      <td>0</td>\n",
              "      <td>1</td>\n",
              "      <td>1</td>\n",
              "      <td>1</td>\n",
              "      <td>0</td>\n",
              "      <td>1</td>\n",
              "      <td>...</td>\n",
              "      <td>1</td>\n",
              "      <td>0</td>\n",
              "      <td>0</td>\n",
              "      <td>0</td>\n",
              "      <td>1</td>\n",
              "      <td>1</td>\n",
              "      <td>0</td>\n",
              "      <td>1</td>\n",
              "      <td>1</td>\n",
              "      <td>1</td>\n",
              "    </tr>\n",
              "    <tr>\n",
              "      <th>True</th>\n",
              "      <td>0</td>\n",
              "      <td>0</td>\n",
              "      <td>0</td>\n",
              "      <td>0</td>\n",
              "      <td>1</td>\n",
              "      <td>0</td>\n",
              "      <td>0</td>\n",
              "      <td>0</td>\n",
              "      <td>1</td>\n",
              "      <td>0</td>\n",
              "      <td>...</td>\n",
              "      <td>0</td>\n",
              "      <td>1</td>\n",
              "      <td>1</td>\n",
              "      <td>1</td>\n",
              "      <td>0</td>\n",
              "      <td>0</td>\n",
              "      <td>1</td>\n",
              "      <td>0</td>\n",
              "      <td>0</td>\n",
              "      <td>0</td>\n",
              "    </tr>\n",
              "  </tbody>\n",
              "</table>\n",
              "<p>2 rows × 1000 columns</p>\n",
              "</div>"
            ],
            "text/plain": [
              "time_on_site  5.571074    6.749823    6.790365    6.826374    8.207869    \\\n",
              "purchased                                                                  \n",
              "False                  1           1           1           1           0   \n",
              "True                   0           0           0           0           1   \n",
              "\n",
              "time_on_site  8.452842    8.500664    8.925178    9.109550    9.335984    \\\n",
              "purchased                                                                  \n",
              "False                  1           1           1           0           1   \n",
              "True                   0           0           0           1           0   \n",
              "\n",
              "time_on_site     ...      576.749018  579.166171  581.267379  585.496170  \\\n",
              "purchased        ...                                                       \n",
              "False            ...               1           0           0           0   \n",
              "True             ...               0           1           1           1   \n",
              "\n",
              "time_on_site  589.124630  590.228001  590.331288  594.475632  594.515209  \\\n",
              "purchased                                                                  \n",
              "False                  1           1           0           1           1   \n",
              "True                   0           0           1           0           0   \n",
              "\n",
              "time_on_site  599.612229  \n",
              "purchased                 \n",
              "False                  1  \n",
              "True                   0  \n",
              "\n",
              "[2 rows x 1000 columns]"
            ]
          },
          "metadata": {
            "tags": []
          },
          "execution_count": 5
        }
      ]
    },
    {
      "metadata": {
        "id": "hvAv6J3EwA9s",
        "colab_type": "code",
        "outputId": "9fd8bfab-353a-4956-da68-872172d7cc8d",
        "colab": {
          "base_uri": "https://localhost:8080/",
          "height": 179
        }
      },
      "cell_type": "code",
      "source": [
        "# OK, that's not quite what we want\n",
        "# Time is continuous! We need to put it in discrete buckets\n",
        "# Pandas calls these bins, and pandas.cut helps make them\n",
        "\n",
        "time_bins = pd.cut(user_data['time_on_site'], 5)  # 5 equal-sized bins\n",
        "pd.crosstab(user_data['purchased'], time_bins)"
      ],
      "execution_count": 6,
      "outputs": [
        {
          "output_type": "execute_result",
          "data": {
            "text/html": [
              "<div>\n",
              "<style scoped>\n",
              "    .dataframe tbody tr th:only-of-type {\n",
              "        vertical-align: middle;\n",
              "    }\n",
              "\n",
              "    .dataframe tbody tr th {\n",
              "        vertical-align: top;\n",
              "    }\n",
              "\n",
              "    .dataframe thead th {\n",
              "        text-align: right;\n",
              "    }\n",
              "</style>\n",
              "<table border=\"1\" class=\"dataframe\">\n",
              "  <thead>\n",
              "    <tr style=\"text-align: right;\">\n",
              "      <th>time_on_site</th>\n",
              "      <th>(4.977, 124.379]</th>\n",
              "      <th>(124.379, 243.188]</th>\n",
              "      <th>(243.188, 361.996]</th>\n",
              "      <th>(361.996, 480.804]</th>\n",
              "      <th>(480.804, 599.612]</th>\n",
              "    </tr>\n",
              "    <tr>\n",
              "      <th>purchased</th>\n",
              "      <th></th>\n",
              "      <th></th>\n",
              "      <th></th>\n",
              "      <th></th>\n",
              "      <th></th>\n",
              "    </tr>\n",
              "  </thead>\n",
              "  <tbody>\n",
              "    <tr>\n",
              "      <th>False</th>\n",
              "      <td>248</td>\n",
              "      <td>208</td>\n",
              "      <td>116</td>\n",
              "      <td>27</td>\n",
              "      <td>26</td>\n",
              "    </tr>\n",
              "    <tr>\n",
              "      <th>True</th>\n",
              "      <td>116</td>\n",
              "      <td>129</td>\n",
              "      <td>95</td>\n",
              "      <td>19</td>\n",
              "      <td>16</td>\n",
              "    </tr>\n",
              "  </tbody>\n",
              "</table>\n",
              "</div>"
            ],
            "text/plain": [
              "time_on_site  (4.977, 124.379]  (124.379, 243.188]  (243.188, 361.996]  \\\n",
              "purchased                                                                \n",
              "False                      248                 208                 116   \n",
              "True                       116                 129                  95   \n",
              "\n",
              "time_on_site  (361.996, 480.804]  (480.804, 599.612]  \n",
              "purchased                                             \n",
              "False                         27                  26  \n",
              "True                          19                  16  "
            ]
          },
          "metadata": {
            "tags": []
          },
          "execution_count": 6
        }
      ]
    },
    {
      "metadata": {
        "id": "pjcXnJw0wfaj",
        "colab_type": "code",
        "outputId": "ed95ab11-2521-46d9-ac51-22e74d852502",
        "colab": {
          "base_uri": "https://localhost:8080/",
          "height": 179
        }
      },
      "cell_type": "code",
      "source": [
        "# We can make this a bit clearer by normalizing (getting %)\n",
        "pd.crosstab(user_data['purchased'], time_bins, normalize='columns')"
      ],
      "execution_count": 7,
      "outputs": [
        {
          "output_type": "execute_result",
          "data": {
            "text/html": [
              "<div>\n",
              "<style scoped>\n",
              "    .dataframe tbody tr th:only-of-type {\n",
              "        vertical-align: middle;\n",
              "    }\n",
              "\n",
              "    .dataframe tbody tr th {\n",
              "        vertical-align: top;\n",
              "    }\n",
              "\n",
              "    .dataframe thead th {\n",
              "        text-align: right;\n",
              "    }\n",
              "</style>\n",
              "<table border=\"1\" class=\"dataframe\">\n",
              "  <thead>\n",
              "    <tr style=\"text-align: right;\">\n",
              "      <th>time_on_site</th>\n",
              "      <th>(4.977, 124.379]</th>\n",
              "      <th>(124.379, 243.188]</th>\n",
              "      <th>(243.188, 361.996]</th>\n",
              "      <th>(361.996, 480.804]</th>\n",
              "      <th>(480.804, 599.612]</th>\n",
              "    </tr>\n",
              "    <tr>\n",
              "      <th>purchased</th>\n",
              "      <th></th>\n",
              "      <th></th>\n",
              "      <th></th>\n",
              "      <th></th>\n",
              "      <th></th>\n",
              "    </tr>\n",
              "  </thead>\n",
              "  <tbody>\n",
              "    <tr>\n",
              "      <th>False</th>\n",
              "      <td>0.681319</td>\n",
              "      <td>0.617211</td>\n",
              "      <td>0.549763</td>\n",
              "      <td>0.586957</td>\n",
              "      <td>0.619048</td>\n",
              "    </tr>\n",
              "    <tr>\n",
              "      <th>True</th>\n",
              "      <td>0.318681</td>\n",
              "      <td>0.382789</td>\n",
              "      <td>0.450237</td>\n",
              "      <td>0.413043</td>\n",
              "      <td>0.380952</td>\n",
              "    </tr>\n",
              "  </tbody>\n",
              "</table>\n",
              "</div>"
            ],
            "text/plain": [
              "time_on_site  (4.977, 124.379]  (124.379, 243.188]  (243.188, 361.996]  \\\n",
              "purchased                                                                \n",
              "False                 0.681319            0.617211            0.549763   \n",
              "True                  0.318681            0.382789            0.450237   \n",
              "\n",
              "time_on_site  (361.996, 480.804]  (480.804, 599.612]  \n",
              "purchased                                             \n",
              "False                   0.586957            0.619048  \n",
              "True                    0.413043            0.380952  "
            ]
          },
          "metadata": {
            "tags": []
          },
          "execution_count": 7
        }
      ]
    },
    {
      "metadata": {
        "id": "C3GzvDxlvZMa",
        "colab_type": "code",
        "outputId": "160c0f8d-6711-4333-f9cc-17e0bfeb2cb3",
        "colab": {
          "base_uri": "https://localhost:8080/",
          "height": 162
        }
      },
      "cell_type": "code",
      "source": [
        "# That seems counter to our hypothesis\n",
        "# More time on the site can actually have fewer purchases\n",
        "\n",
        "# But we know why, since we generated the data!\n",
        "# Let's look at mobile and purchased\n",
        "pd.crosstab(user_data['purchased'], user_data['mobile'], normalize='columns')"
      ],
      "execution_count": 8,
      "outputs": [
        {
          "output_type": "execute_result",
          "data": {
            "text/html": [
              "<div>\n",
              "<style scoped>\n",
              "    .dataframe tbody tr th:only-of-type {\n",
              "        vertical-align: middle;\n",
              "    }\n",
              "\n",
              "    .dataframe tbody tr th {\n",
              "        vertical-align: top;\n",
              "    }\n",
              "\n",
              "    .dataframe thead th {\n",
              "        text-align: right;\n",
              "    }\n",
              "</style>\n",
              "<table border=\"1\" class=\"dataframe\">\n",
              "  <thead>\n",
              "    <tr style=\"text-align: right;\">\n",
              "      <th>mobile</th>\n",
              "      <th>False</th>\n",
              "      <th>True</th>\n",
              "    </tr>\n",
              "    <tr>\n",
              "      <th>purchased</th>\n",
              "      <th></th>\n",
              "      <th></th>\n",
              "    </tr>\n",
              "  </thead>\n",
              "  <tbody>\n",
              "    <tr>\n",
              "      <th>False</th>\n",
              "      <td>0.712</td>\n",
              "      <td>0.596</td>\n",
              "    </tr>\n",
              "    <tr>\n",
              "      <th>True</th>\n",
              "      <td>0.288</td>\n",
              "      <td>0.404</td>\n",
              "    </tr>\n",
              "  </tbody>\n",
              "</table>\n",
              "</div>"
            ],
            "text/plain": [
              "mobile     False  True \n",
              "purchased              \n",
              "False      0.712  0.596\n",
              "True       0.288  0.404"
            ]
          },
          "metadata": {
            "tags": []
          },
          "execution_count": 8
        }
      ]
    },
    {
      "metadata": {
        "id": "KQb-wU60xCum",
        "colab_type": "code",
        "colab": {}
      },
      "cell_type": "code",
      "source": [
        "# Yep, mobile users are more likely to buy things\n",
        "# But we're still not seeing the *whole* story until we look at all 3 at once\n",
        "\n",
        "# Live/stretch goal - how can we do that?"
      ],
      "execution_count": 0,
      "outputs": []
    },
    {
      "metadata": {
        "id": "lOqaPds9huME",
        "colab_type": "text"
      },
      "cell_type": "markdown",
      "source": [
        "## Assignment - what's going on here?\n",
        "\n",
        "Consider the data in `persons.csv` (already prepared for you, in the repo for the week). It has four columns - a unique id, followed by age (in years), weight (in lbs), and exercise time (in minutes/week) of 1200 (hypothetical) people.\n",
        "\n",
        "Try to figure out which variables are possibly related to each other, and which may be confounding relationships."
      ]
    },
    {
      "metadata": {
        "id": "a2aRBhFmx4EF",
        "colab_type": "text"
      },
      "cell_type": "markdown",
      "source": [
        "# Data Import and Cursory Observation"
      ]
    },
    {
      "metadata": {
        "id": "TGUS79cOhPWj",
        "colab_type": "code",
        "colab": {}
      },
      "cell_type": "code",
      "source": [
        "import matplotlib.pyplot as plt\n",
        "import pandas as np\n",
        "import numpy as np"
      ],
      "execution_count": 0,
      "outputs": []
    },
    {
      "metadata": {
        "id": "-Ohbpb0pZtjo",
        "colab_type": "code",
        "colab": {
          "base_uri": "https://localhost:8080/",
          "height": 306
        },
        "outputId": "cd888cdb-a5a0-4ae7-92d8-a5d2a3503328"
      },
      "cell_type": "code",
      "source": [
        "df = pd.read_csv('https://raw.githubusercontent.com/Alex-Witt/DS-Unit-1-Sprint-1-Dealing-With-Data/master/module4-databackedassertions/persons.csv')\n",
        "\n",
        "print(df.shape)\n",
        "print(df.isnull().sum())\n",
        "df.head()"
      ],
      "execution_count": 28,
      "outputs": [
        {
          "output_type": "stream",
          "text": [
            "(1200, 4)\n",
            "Unnamed: 0       0\n",
            "age              0\n",
            "weight           0\n",
            "exercise_time    0\n",
            "dtype: int64\n"
          ],
          "name": "stdout"
        },
        {
          "output_type": "execute_result",
          "data": {
            "text/html": [
              "<div>\n",
              "<style scoped>\n",
              "    .dataframe tbody tr th:only-of-type {\n",
              "        vertical-align: middle;\n",
              "    }\n",
              "\n",
              "    .dataframe tbody tr th {\n",
              "        vertical-align: top;\n",
              "    }\n",
              "\n",
              "    .dataframe thead th {\n",
              "        text-align: right;\n",
              "    }\n",
              "</style>\n",
              "<table border=\"1\" class=\"dataframe\">\n",
              "  <thead>\n",
              "    <tr style=\"text-align: right;\">\n",
              "      <th></th>\n",
              "      <th>Unnamed: 0</th>\n",
              "      <th>age</th>\n",
              "      <th>weight</th>\n",
              "      <th>exercise_time</th>\n",
              "    </tr>\n",
              "  </thead>\n",
              "  <tbody>\n",
              "    <tr>\n",
              "      <th>0</th>\n",
              "      <td>0</td>\n",
              "      <td>44</td>\n",
              "      <td>118</td>\n",
              "      <td>192</td>\n",
              "    </tr>\n",
              "    <tr>\n",
              "      <th>1</th>\n",
              "      <td>1</td>\n",
              "      <td>41</td>\n",
              "      <td>161</td>\n",
              "      <td>35</td>\n",
              "    </tr>\n",
              "    <tr>\n",
              "      <th>2</th>\n",
              "      <td>2</td>\n",
              "      <td>46</td>\n",
              "      <td>128</td>\n",
              "      <td>220</td>\n",
              "    </tr>\n",
              "    <tr>\n",
              "      <th>3</th>\n",
              "      <td>3</td>\n",
              "      <td>39</td>\n",
              "      <td>216</td>\n",
              "      <td>57</td>\n",
              "    </tr>\n",
              "    <tr>\n",
              "      <th>4</th>\n",
              "      <td>4</td>\n",
              "      <td>28</td>\n",
              "      <td>116</td>\n",
              "      <td>182</td>\n",
              "    </tr>\n",
              "  </tbody>\n",
              "</table>\n",
              "</div>"
            ],
            "text/plain": [
              "   Unnamed: 0  age  weight  exercise_time\n",
              "0           0   44     118            192\n",
              "1           1   41     161             35\n",
              "2           2   46     128            220\n",
              "3           3   39     216             57\n",
              "4           4   28     116            182"
            ]
          },
          "metadata": {
            "tags": []
          },
          "execution_count": 28
        }
      ]
    },
    {
      "metadata": {
        "id": "xrpcIOOGsJoi",
        "colab_type": "code",
        "colab": {
          "base_uri": "https://localhost:8080/",
          "height": 398
        },
        "outputId": "d9bc3a7c-20ad-4fd3-f87c-347552b1049a"
      },
      "cell_type": "code",
      "source": [
        "df.plot.scatter(x = 'age' , y = 'exercise_time');"
      ],
      "execution_count": 12,
      "outputs": [
        {
          "output_type": "stream",
          "text": [
            "'c' argument looks like a single numeric RGB or RGBA sequence, which should be avoided as value-mapping will have precedence in case its length matches with 'x' & 'y'.  Please use a 2-D array with a single row if you really want to specify the same RGB or RGBA value for all points.\n"
          ],
          "name": "stderr"
        },
        {
          "output_type": "display_data",
          "data": {
            "image/png": "[encoded data removed]",
            "text/plain": [
              "<Figure size 576x396 with 1 Axes>"
            ]
          },
          "metadata": {
            "tags": []
          }
        }
      ]
    },
    {
      "metadata": {
        "id": "sTtzpo_Uwffh",
        "colab_type": "code",
        "colab": {
          "base_uri": "https://localhost:8080/",
          "height": 364
        },
        "outputId": "c74b4fb4-8f8f-462e-e42a-296b378fe830"
      },
      "cell_type": "code",
      "source": [
        "plt.scatter(df.exercise_time , df.weight )"
      ],
      "execution_count": 13,
      "outputs": [
        {
          "output_type": "execute_result",
          "data": {
            "text/plain": [
              "<matplotlib.collections.PathCollection at 0x7f93ce5000f0>"
            ]
          },
          "metadata": {
            "tags": []
          },
          "execution_count": 13
        },
        {
          "output_type": "display_data",
          "data": {
            "image/png": "[encoded data removed]",
            "text/plain": [
              "<Figure size 576x396 with 1 Axes>"
            ]
          },
          "metadata": {
            "tags": []
          }
        }
      ]
    },
    {
      "metadata": {
        "id": "04SJXTTvv0ZH",
        "colab_type": "code",
        "colab": {
          "base_uri": "https://localhost:8080/",
          "height": 347
        },
        "outputId": "ac3dc19f-fa96-4439-c171-0ace48f19be9"
      },
      "cell_type": "code",
      "source": [
        "df.exercise_time.plot.density();\n",
        "df.weight.plot.density();"
      ],
      "execution_count": 14,
      "outputs": [
        {
          "output_type": "display_data",
          "data": {
            "image/png": "[encoded data removed]",
            "text/plain": [
              "<Figure size 576x396 with 1 Axes>"
            ]
          },
          "metadata": {
            "tags": []
          }
        }
      ]
    },
    {
      "metadata": {
        "id": "vi3UpmpEqYZc",
        "colab_type": "code",
        "colab": {
          "base_uri": "https://localhost:8080/",
          "height": 347
        },
        "outputId": "c88e1de2-378b-45ce-cb50-bae1fcd7ac6a"
      },
      "cell_type": "code",
      "source": [
        "df.age.plot.density();"
      ],
      "execution_count": 15,
      "outputs": [
        {
          "output_type": "display_data",
          "data": {
            "image/png": "[encoded data removed]",
            "text/plain": [
              "<Figure size 576x396 with 1 Axes>"
            ]
          },
          "metadata": {
            "tags": []
          }
        }
      ]
    },
    {
      "metadata": {
        "id": "-cy4Xoc7yksG",
        "colab_type": "code",
        "colab": {
          "base_uri": "https://localhost:8080/",
          "height": 34
        },
        "outputId": "ceffce36-4ea8-4682-bb77-508b776c5b3e"
      },
      "cell_type": "code",
      "source": [
        "'''def make_bins(n_bins):\n",
        "  exercisem = pd.cut(df.exercise_time,n_bins)\n",
        "  age = pd.cut(df.age,n_bins)\n",
        "  weight = pd.cut(df.weight,n_bins)\n",
        "  return\n",
        "  \n",
        "  '''\n"
      ],
      "execution_count": 16,
      "outputs": [
        {
          "output_type": "execute_result",
          "data": {
            "text/plain": [
              "'def make_bins(n_bins):\\n  exercisem = pd.cut(df.exercise_time,n_bins)\\n  age = pd.cut(df.age,n_bins)\\n  weight = pd.cut(df.weight,n_bins)\\n  return\\n  \\n  '"
            ]
          },
          "metadata": {
            "tags": []
          },
          "execution_count": 16
        }
      ]
    },
    {
      "metadata": {
        "id": "GAxmauUq0lG4",
        "colab_type": "code",
        "colab": {}
      },
      "cell_type": "code",
      "source": [
        "#Let's start with 8 bins on the x and y axis\n",
        "\n",
        "n_bins = 8\n",
        "weight = pd.cut(df.weight,n_bins)\n",
        "exercise = pd.cut(df.exercise_time,n_bins)\n",
        "age = pd.cut(df.age,n_bins)\n",
        "\n",
        "def cross(dep , ind):\n",
        "  res = pd.crosstab(dep,ind)\n",
        "  return res\n",
        "\n",
        "def crossum(dep , ind):\n",
        "  resum = pd.crosstab(dep.count(),ind)\n",
        "  return resum"
      ],
      "execution_count": 0,
      "outputs": []
    },
    {
      "metadata": {
        "id": "0vtslDEpM6W7",
        "colab_type": "code",
        "colab": {
          "base_uri": "https://localhost:8080/",
          "height": 1036
        },
        "outputId": "fb49231c-c86f-4731-8218-d0afa1c8d822"
      },
      "cell_type": "code",
      "source": [
        "n_age = pd.pivot_table(crossum(exercise, age), columns = 'age')\n",
        "n_ex = pd.pivot_table(crossum(age, exercise) , columns = 'exercise_time')\n",
        "n_w = pd. pivot_table(crossum(age , weight) , columns = 'weight')\n",
        "\n",
        "n_w.columns = ['n_samples']\n",
        "n_ex.columns = ['n_samples']\n",
        "n_w.columns = ['n_samples']\n",
        "\n",
        "\n",
        "\n",
        "n_ex.plot.line()\n",
        "n_w.plot.line()\n",
        "n_age.plot.line()"
      ],
      "execution_count": 140,
      "outputs": [
        {
          "output_type": "execute_result",
          "data": {
            "text/plain": [
              "<matplotlib.axes._subplots.AxesSubplot at 0x7f93ce4fdcf8>"
            ]
          },
          "metadata": {
            "tags": []
          },
          "execution_count": 140
        },
        {
          "output_type": "display_data",
          "data": {
            "image/png": "[encoded data removed]",
            "text/plain": [
              "<Figure size 576x396 with 1 Axes>"
            ]
          },
          "metadata": {
            "tags": []
          }
        },
        {
          "output_type": "display_data",
          "data": {
            "image/png": "[encoded data removed]",
            "text/plain": [
              "<Figure size 576x396 with 1 Axes>"
            ]
          },
          "metadata": {
            "tags": []
          }
        },
        {
          "output_type": "display_data",
          "data": {
            "image/png": "[encoded data removed]",
            "text/plain": [
              "<Figure size 576x396 with 1 Axes>"
            ]
          },
          "metadata": {
            "tags": []
          }
        }
      ]
    },
    {
      "metadata": {
        "id": "D5pQKZwG6JCR",
        "colab_type": "code",
        "colab": {
          "base_uri": "https://localhost:8080/",
          "height": 762
        },
        "outputId": "f31c8086-32cb-4caf-bd7f-46ccddade54b"
      },
      "cell_type": "code",
      "source": [
        "#Lets start with the most obvious inference, that length of excercise is associated with weight. \n",
        "\n",
        "cross(weight,exercise).plot.bar(figsize = (20,6),width = .8)\n",
        "cross(weight,exercise)"
      ],
      "execution_count": 128,
      "outputs": [
        {
          "output_type": "execute_result",
          "data": {
            "text/html": [
              "<div>\n",
              "<style scoped>\n",
              "    .dataframe tbody tr th:only-of-type {\n",
              "        vertical-align: middle;\n",
              "    }\n",
              "\n",
              "    .dataframe tbody tr th {\n",
              "        vertical-align: top;\n",
              "    }\n",
              "\n",
              "    .dataframe thead th {\n",
              "        text-align: right;\n",
              "    }\n",
              "</style>\n",
              "<table border=\"1\" class=\"dataframe\">\n",
              "  <thead>\n",
              "    <tr style=\"text-align: right;\">\n",
              "      <th>exercise_time</th>\n",
              "      <th>(-0.3, 37.5]</th>\n",
              "      <th>(37.5, 75.0]</th>\n",
              "      <th>(75.0, 112.5]</th>\n",
              "      <th>(112.5, 150.0]</th>\n",
              "      <th>(150.0, 187.5]</th>\n",
              "      <th>(187.5, 225.0]</th>\n",
              "      <th>(225.0, 262.5]</th>\n",
              "      <th>(262.5, 300.0]</th>\n",
              "    </tr>\n",
              "    <tr>\n",
              "      <th>weight</th>\n",
              "      <th></th>\n",
              "      <th></th>\n",
              "      <th></th>\n",
              "      <th></th>\n",
              "      <th></th>\n",
              "      <th></th>\n",
              "      <th></th>\n",
              "      <th></th>\n",
              "    </tr>\n",
              "  </thead>\n",
              "  <tbody>\n",
              "    <tr>\n",
              "      <th>(99.854, 118.25]</th>\n",
              "      <td>22</td>\n",
              "      <td>22</td>\n",
              "      <td>23</td>\n",
              "      <td>26</td>\n",
              "      <td>29</td>\n",
              "      <td>31</td>\n",
              "      <td>29</td>\n",
              "      <td>40</td>\n",
              "    </tr>\n",
              "    <tr>\n",
              "      <th>(118.25, 136.5]</th>\n",
              "      <td>20</td>\n",
              "      <td>18</td>\n",
              "      <td>28</td>\n",
              "      <td>23</td>\n",
              "      <td>26</td>\n",
              "      <td>34</td>\n",
              "      <td>34</td>\n",
              "      <td>49</td>\n",
              "    </tr>\n",
              "    <tr>\n",
              "      <th>(136.5, 154.75]</th>\n",
              "      <td>24</td>\n",
              "      <td>20</td>\n",
              "      <td>32</td>\n",
              "      <td>18</td>\n",
              "      <td>39</td>\n",
              "      <td>23</td>\n",
              "      <td>33</td>\n",
              "      <td>24</td>\n",
              "    </tr>\n",
              "    <tr>\n",
              "      <th>(154.75, 173.0]</th>\n",
              "      <td>20</td>\n",
              "      <td>25</td>\n",
              "      <td>42</td>\n",
              "      <td>24</td>\n",
              "      <td>24</td>\n",
              "      <td>18</td>\n",
              "      <td>25</td>\n",
              "      <td>6</td>\n",
              "    </tr>\n",
              "    <tr>\n",
              "      <th>(173.0, 191.25]</th>\n",
              "      <td>28</td>\n",
              "      <td>25</td>\n",
              "      <td>32</td>\n",
              "      <td>24</td>\n",
              "      <td>24</td>\n",
              "      <td>8</td>\n",
              "      <td>0</td>\n",
              "      <td>0</td>\n",
              "    </tr>\n",
              "    <tr>\n",
              "      <th>(191.25, 209.5]</th>\n",
              "      <td>30</td>\n",
              "      <td>24</td>\n",
              "      <td>28</td>\n",
              "      <td>25</td>\n",
              "      <td>5</td>\n",
              "      <td>0</td>\n",
              "      <td>0</td>\n",
              "      <td>0</td>\n",
              "    </tr>\n",
              "    <tr>\n",
              "      <th>(209.5, 227.75]</th>\n",
              "      <td>23</td>\n",
              "      <td>26</td>\n",
              "      <td>17</td>\n",
              "      <td>2</td>\n",
              "      <td>0</td>\n",
              "      <td>0</td>\n",
              "      <td>0</td>\n",
              "      <td>0</td>\n",
              "    </tr>\n",
              "    <tr>\n",
              "      <th>(227.75, 246.0]</th>\n",
              "      <td>24</td>\n",
              "      <td>4</td>\n",
              "      <td>0</td>\n",
              "      <td>0</td>\n",
              "      <td>0</td>\n",
              "      <td>0</td>\n",
              "      <td>0</td>\n",
              "      <td>0</td>\n",
              "    </tr>\n",
              "  </tbody>\n",
              "</table>\n",
              "</div>"
            ],
            "text/plain": [
              "exercise_time     (-0.3, 37.5]  (37.5, 75.0]  (75.0, 112.5]  (112.5, 150.0]  \\\n",
              "weight                                                                        \n",
              "(99.854, 118.25]            22            22             23              26   \n",
              "(118.25, 136.5]             20            18             28              23   \n",
              "(136.5, 154.75]             24            20             32              18   \n",
              "(154.75, 173.0]             20            25             42              24   \n",
              "(173.0, 191.25]             28            25             32              24   \n",
              "(191.25, 209.5]             30            24             28              25   \n",
              "(209.5, 227.75]             23            26             17               2   \n",
              "(227.75, 246.0]             24             4              0               0   \n",
              "\n",
              "exercise_time     (150.0, 187.5]  (187.5, 225.0]  (225.0, 262.5]  \\\n",
              "weight                                                             \n",
              "(99.854, 118.25]              29              31              29   \n",
              "(118.25, 136.5]               26              34              34   \n",
              "(136.5, 154.75]               39              23              33   \n",
              "(154.75, 173.0]               24              18              25   \n",
              "(173.0, 191.25]               24               8               0   \n",
              "(191.25, 209.5]                5               0               0   \n",
              "(209.5, 227.75]                0               0               0   \n",
              "(227.75, 246.0]                0               0               0   \n",
              "\n",
              "exercise_time     (262.5, 300.0]  \n",
              "weight                            \n",
              "(99.854, 118.25]              40  \n",
              "(118.25, 136.5]               49  \n",
              "(136.5, 154.75]               24  \n",
              "(154.75, 173.0]                6  \n",
              "(173.0, 191.25]                0  \n",
              "(191.25, 209.5]                0  \n",
              "(209.5, 227.75]                0  \n",
              "(227.75, 246.0]                0  "
            ]
          },
          "metadata": {
            "tags": []
          },
          "execution_count": 128
        },
        {
          "output_type": "display_data",
          "data": {
            "image/png": "[encoded data removed]",
            "text/plain": [
              "<Figure size 1440x432 with 1 Axes>"
            ]
          },
          "metadata": {
            "tags": []
          }
        }
      ]
    },
    {
      "metadata": {
        "id": "0HonuNVl3wap",
        "colab_type": "code",
        "colab": {
          "base_uri": "https://localhost:8080/",
          "height": 762
        },
        "outputId": "77706071-2d04-4af6-e8d5-6ffd7e625c03"
      },
      "cell_type": "code",
      "source": [
        "#The clear global trend continues. Let's see if we can catch any other global trends. \n",
        "\n",
        "cross(weight, age).plot.bar(figsize = (20,6),width = .8)\n",
        "cross(weight,age)"
      ],
      "execution_count": 52,
      "outputs": [
        {
          "output_type": "execute_result",
          "data": {
            "text/html": [
              "<div>\n",
              "<style scoped>\n",
              "    .dataframe tbody tr th:only-of-type {\n",
              "        vertical-align: middle;\n",
              "    }\n",
              "\n",
              "    .dataframe tbody tr th {\n",
              "        vertical-align: top;\n",
              "    }\n",
              "\n",
              "    .dataframe thead th {\n",
              "        text-align: right;\n",
              "    }\n",
              "</style>\n",
              "<table border=\"1\" class=\"dataframe\">\n",
              "  <thead>\n",
              "    <tr style=\"text-align: right;\">\n",
              "      <th>age</th>\n",
              "      <th>(17.938, 25.75]</th>\n",
              "      <th>(25.75, 33.5]</th>\n",
              "      <th>(33.5, 41.25]</th>\n",
              "      <th>(41.25, 49.0]</th>\n",
              "      <th>(49.0, 56.75]</th>\n",
              "      <th>(56.75, 64.5]</th>\n",
              "      <th>(64.5, 72.25]</th>\n",
              "      <th>(72.25, 80.0]</th>\n",
              "    </tr>\n",
              "    <tr>\n",
              "      <th>weight</th>\n",
              "      <th></th>\n",
              "      <th></th>\n",
              "      <th></th>\n",
              "      <th></th>\n",
              "      <th></th>\n",
              "      <th></th>\n",
              "      <th></th>\n",
              "      <th></th>\n",
              "    </tr>\n",
              "  </thead>\n",
              "  <tbody>\n",
              "    <tr>\n",
              "      <th>(99.854, 118.25]</th>\n",
              "      <td>31</td>\n",
              "      <td>40</td>\n",
              "      <td>44</td>\n",
              "      <td>20</td>\n",
              "      <td>24</td>\n",
              "      <td>24</td>\n",
              "      <td>21</td>\n",
              "      <td>18</td>\n",
              "    </tr>\n",
              "    <tr>\n",
              "      <th>(118.25, 136.5]</th>\n",
              "      <td>26</td>\n",
              "      <td>28</td>\n",
              "      <td>40</td>\n",
              "      <td>31</td>\n",
              "      <td>29</td>\n",
              "      <td>31</td>\n",
              "      <td>29</td>\n",
              "      <td>18</td>\n",
              "    </tr>\n",
              "    <tr>\n",
              "      <th>(136.5, 154.75]</th>\n",
              "      <td>30</td>\n",
              "      <td>34</td>\n",
              "      <td>31</td>\n",
              "      <td>23</td>\n",
              "      <td>22</td>\n",
              "      <td>27</td>\n",
              "      <td>27</td>\n",
              "      <td>19</td>\n",
              "    </tr>\n",
              "    <tr>\n",
              "      <th>(154.75, 173.0]</th>\n",
              "      <td>30</td>\n",
              "      <td>29</td>\n",
              "      <td>17</td>\n",
              "      <td>22</td>\n",
              "      <td>17</td>\n",
              "      <td>19</td>\n",
              "      <td>29</td>\n",
              "      <td>21</td>\n",
              "    </tr>\n",
              "    <tr>\n",
              "      <th>(173.0, 191.25]</th>\n",
              "      <td>16</td>\n",
              "      <td>14</td>\n",
              "      <td>21</td>\n",
              "      <td>11</td>\n",
              "      <td>15</td>\n",
              "      <td>22</td>\n",
              "      <td>19</td>\n",
              "      <td>23</td>\n",
              "    </tr>\n",
              "    <tr>\n",
              "      <th>(191.25, 209.5]</th>\n",
              "      <td>14</td>\n",
              "      <td>8</td>\n",
              "      <td>20</td>\n",
              "      <td>8</td>\n",
              "      <td>8</td>\n",
              "      <td>18</td>\n",
              "      <td>20</td>\n",
              "      <td>16</td>\n",
              "    </tr>\n",
              "    <tr>\n",
              "      <th>(209.5, 227.75]</th>\n",
              "      <td>3</td>\n",
              "      <td>12</td>\n",
              "      <td>5</td>\n",
              "      <td>7</td>\n",
              "      <td>7</td>\n",
              "      <td>10</td>\n",
              "      <td>10</td>\n",
              "      <td>14</td>\n",
              "    </tr>\n",
              "    <tr>\n",
              "      <th>(227.75, 246.0]</th>\n",
              "      <td>4</td>\n",
              "      <td>2</td>\n",
              "      <td>2</td>\n",
              "      <td>3</td>\n",
              "      <td>1</td>\n",
              "      <td>2</td>\n",
              "      <td>9</td>\n",
              "      <td>5</td>\n",
              "    </tr>\n",
              "  </tbody>\n",
              "</table>\n",
              "</div>"
            ],
            "text/plain": [
              "age               (17.938, 25.75]  (25.75, 33.5]  (33.5, 41.25]  \\\n",
              "weight                                                            \n",
              "(99.854, 118.25]               31             40             44   \n",
              "(118.25, 136.5]                26             28             40   \n",
              "(136.5, 154.75]                30             34             31   \n",
              "(154.75, 173.0]                30             29             17   \n",
              "(173.0, 191.25]                16             14             21   \n",
              "(191.25, 209.5]                14              8             20   \n",
              "(209.5, 227.75]                 3             12              5   \n",
              "(227.75, 246.0]                 4              2              2   \n",
              "\n",
              "age               (41.25, 49.0]  (49.0, 56.75]  (56.75, 64.5]  (64.5, 72.25]  \\\n",
              "weight                                                                         \n",
              "(99.854, 118.25]             20             24             24             21   \n",
              "(118.25, 136.5]              31             29             31             29   \n",
              "(136.5, 154.75]              23             22             27             27   \n",
              "(154.75, 173.0]              22             17             19             29   \n",
              "(173.0, 191.25]              11             15             22             19   \n",
              "(191.25, 209.5]               8              8             18             20   \n",
              "(209.5, 227.75]               7              7             10             10   \n",
              "(227.75, 246.0]               3              1              2              9   \n",
              "\n",
              "age               (72.25, 80.0]  \n",
              "weight                           \n",
              "(99.854, 118.25]             18  \n",
              "(118.25, 136.5]              18  \n",
              "(136.5, 154.75]              19  \n",
              "(154.75, 173.0]              21  \n",
              "(173.0, 191.25]              23  \n",
              "(191.25, 209.5]              16  \n",
              "(209.5, 227.75]              14  \n",
              "(227.75, 246.0]               5  "
            ]
          },
          "metadata": {
            "tags": []
          },
          "execution_count": 52
        },
        {
          "output_type": "display_data",
          "data": {
            "image/png": "[encoded data removed]",
            "text/plain": [
              "<Figure size 1440x432 with 1 Axes>"
            ]
          },
          "metadata": {
            "tags": []
          }
        }
      ]
    },
    {
      "metadata": {
        "id": "OHU9_LHz0TLQ",
        "colab_type": "code",
        "colab": {
          "base_uri": "https://localhost:8080/",
          "height": 757
        },
        "outputId": "0ccc0d84-0a80-4ac4-dcd9-8eda75246416"
      },
      "cell_type": "code",
      "source": [
        "#Well, that makes send. You have a nice spread of people excercising across each age group, with smaller sample of older individuals. \n",
        "\n",
        "cross(age,weight).plot.bar(figsize = (20,6),width = .8)\n",
        "cross(age,weight)"
      ],
      "execution_count": 51,
      "outputs": [
        {
          "output_type": "execute_result",
          "data": {
            "text/html": [
              "<div>\n",
              "<style scoped>\n",
              "    .dataframe tbody tr th:only-of-type {\n",
              "        vertical-align: middle;\n",
              "    }\n",
              "\n",
              "    .dataframe tbody tr th {\n",
              "        vertical-align: top;\n",
              "    }\n",
              "\n",
              "    .dataframe thead th {\n",
              "        text-align: right;\n",
              "    }\n",
              "</style>\n",
              "<table border=\"1\" class=\"dataframe\">\n",
              "  <thead>\n",
              "    <tr style=\"text-align: right;\">\n",
              "      <th>weight</th>\n",
              "      <th>(99.854, 118.25]</th>\n",
              "      <th>(118.25, 136.5]</th>\n",
              "      <th>(136.5, 154.75]</th>\n",
              "      <th>(154.75, 173.0]</th>\n",
              "      <th>(173.0, 191.25]</th>\n",
              "      <th>(191.25, 209.5]</th>\n",
              "      <th>(209.5, 227.75]</th>\n",
              "      <th>(227.75, 246.0]</th>\n",
              "    </tr>\n",
              "    <tr>\n",
              "      <th>age</th>\n",
              "      <th></th>\n",
              "      <th></th>\n",
              "      <th></th>\n",
              "      <th></th>\n",
              "      <th></th>\n",
              "      <th></th>\n",
              "      <th></th>\n",
              "      <th></th>\n",
              "    </tr>\n",
              "  </thead>\n",
              "  <tbody>\n",
              "    <tr>\n",
              "      <th>(17.938, 25.75]</th>\n",
              "      <td>31</td>\n",
              "      <td>26</td>\n",
              "      <td>30</td>\n",
              "      <td>30</td>\n",
              "      <td>16</td>\n",
              "      <td>14</td>\n",
              "      <td>3</td>\n",
              "      <td>4</td>\n",
              "    </tr>\n",
              "    <tr>\n",
              "      <th>(25.75, 33.5]</th>\n",
              "      <td>40</td>\n",
              "      <td>28</td>\n",
              "      <td>34</td>\n",
              "      <td>29</td>\n",
              "      <td>14</td>\n",
              "      <td>8</td>\n",
              "      <td>12</td>\n",
              "      <td>2</td>\n",
              "    </tr>\n",
              "    <tr>\n",
              "      <th>(33.5, 41.25]</th>\n",
              "      <td>44</td>\n",
              "      <td>40</td>\n",
              "      <td>31</td>\n",
              "      <td>17</td>\n",
              "      <td>21</td>\n",
              "      <td>20</td>\n",
              "      <td>5</td>\n",
              "      <td>2</td>\n",
              "    </tr>\n",
              "    <tr>\n",
              "      <th>(41.25, 49.0]</th>\n",
              "      <td>20</td>\n",
              "      <td>31</td>\n",
              "      <td>23</td>\n",
              "      <td>22</td>\n",
              "      <td>11</td>\n",
              "      <td>8</td>\n",
              "      <td>7</td>\n",
              "      <td>3</td>\n",
              "    </tr>\n",
              "    <tr>\n",
              "      <th>(49.0, 56.75]</th>\n",
              "      <td>24</td>\n",
              "      <td>29</td>\n",
              "      <td>22</td>\n",
              "      <td>17</td>\n",
              "      <td>15</td>\n",
              "      <td>8</td>\n",
              "      <td>7</td>\n",
              "      <td>1</td>\n",
              "    </tr>\n",
              "    <tr>\n",
              "      <th>(56.75, 64.5]</th>\n",
              "      <td>24</td>\n",
              "      <td>31</td>\n",
              "      <td>27</td>\n",
              "      <td>19</td>\n",
              "      <td>22</td>\n",
              "      <td>18</td>\n",
              "      <td>10</td>\n",
              "      <td>2</td>\n",
              "    </tr>\n",
              "    <tr>\n",
              "      <th>(64.5, 72.25]</th>\n",
              "      <td>21</td>\n",
              "      <td>29</td>\n",
              "      <td>27</td>\n",
              "      <td>29</td>\n",
              "      <td>19</td>\n",
              "      <td>20</td>\n",
              "      <td>10</td>\n",
              "      <td>9</td>\n",
              "    </tr>\n",
              "    <tr>\n",
              "      <th>(72.25, 80.0]</th>\n",
              "      <td>18</td>\n",
              "      <td>18</td>\n",
              "      <td>19</td>\n",
              "      <td>21</td>\n",
              "      <td>23</td>\n",
              "      <td>16</td>\n",
              "      <td>14</td>\n",
              "      <td>5</td>\n",
              "    </tr>\n",
              "  </tbody>\n",
              "</table>\n",
              "</div>"
            ],
            "text/plain": [
              "weight           (99.854, 118.25]  (118.25, 136.5]  (136.5, 154.75]  \\\n",
              "age                                                                   \n",
              "(17.938, 25.75]                31               26               30   \n",
              "(25.75, 33.5]                  40               28               34   \n",
              "(33.5, 41.25]                  44               40               31   \n",
              "(41.25, 49.0]                  20               31               23   \n",
              "(49.0, 56.75]                  24               29               22   \n",
              "(56.75, 64.5]                  24               31               27   \n",
              "(64.5, 72.25]                  21               29               27   \n",
              "(72.25, 80.0]                  18               18               19   \n",
              "\n",
              "weight           (154.75, 173.0]  (173.0, 191.25]  (191.25, 209.5]  \\\n",
              "age                                                                  \n",
              "(17.938, 25.75]               30               16               14   \n",
              "(25.75, 33.5]                 29               14                8   \n",
              "(33.5, 41.25]                 17               21               20   \n",
              "(41.25, 49.0]                 22               11                8   \n",
              "(49.0, 56.75]                 17               15                8   \n",
              "(56.75, 64.5]                 19               22               18   \n",
              "(64.5, 72.25]                 29               19               20   \n",
              "(72.25, 80.0]                 21               23               16   \n",
              "\n",
              "weight           (209.5, 227.75]  (227.75, 246.0]  \n",
              "age                                                \n",
              "(17.938, 25.75]                3                4  \n",
              "(25.75, 33.5]                 12                2  \n",
              "(33.5, 41.25]                  5                2  \n",
              "(41.25, 49.0]                  7                3  \n",
              "(49.0, 56.75]                  7                1  \n",
              "(56.75, 64.5]                 10                2  \n",
              "(64.5, 72.25]                 10                9  \n",
              "(72.25, 80.0]                 14                5  "
            ]
          },
          "metadata": {
            "tags": []
          },
          "execution_count": 51
        },
        {
          "output_type": "display_data",
          "data": {
            "image/png": "[encoded data removed]",
            "text/plain": [
              "<Figure size 1440x432 with 1 Axes>"
            ]
          },
          "metadata": {
            "tags": []
          }
        }
      ]
    },
    {
      "metadata": {
        "id": "aItGynlZ2rFP",
        "colab_type": "code",
        "colab": {
          "base_uri": "https://localhost:8080/",
          "height": 757
        },
        "outputId": "b3c79918-f184-444e-f3ad-7c91771b3c33"
      },
      "cell_type": "code",
      "source": [
        "cross(age, exercise).plot.bar(figsize = (20,6),width = .8)\n",
        "cross(exercise, age)"
      ],
      "execution_count": 84,
      "outputs": [
        {
          "output_type": "execute_result",
          "data": {
            "text/html": [
              "<div>\n",
              "<style scoped>\n",
              "    .dataframe tbody tr th:only-of-type {\n",
              "        vertical-align: middle;\n",
              "    }\n",
              "\n",
              "    .dataframe tbody tr th {\n",
              "        vertical-align: top;\n",
              "    }\n",
              "\n",
              "    .dataframe thead th {\n",
              "        text-align: right;\n",
              "    }\n",
              "</style>\n",
              "<table border=\"1\" class=\"dataframe\">\n",
              "  <thead>\n",
              "    <tr style=\"text-align: right;\">\n",
              "      <th>age</th>\n",
              "      <th>(17.938, 25.75]</th>\n",
              "      <th>(25.75, 33.5]</th>\n",
              "      <th>(33.5, 41.25]</th>\n",
              "      <th>(41.25, 49.0]</th>\n",
              "      <th>(49.0, 56.75]</th>\n",
              "      <th>(56.75, 64.5]</th>\n",
              "      <th>(64.5, 72.25]</th>\n",
              "      <th>(72.25, 80.0]</th>\n",
              "    </tr>\n",
              "    <tr>\n",
              "      <th>exercise_time</th>\n",
              "      <th></th>\n",
              "      <th></th>\n",
              "      <th></th>\n",
              "      <th></th>\n",
              "      <th></th>\n",
              "      <th></th>\n",
              "      <th></th>\n",
              "      <th></th>\n",
              "    </tr>\n",
              "  </thead>\n",
              "  <tbody>\n",
              "    <tr>\n",
              "      <th>(-0.3, 37.5]</th>\n",
              "      <td>18</td>\n",
              "      <td>19</td>\n",
              "      <td>27</td>\n",
              "      <td>12</td>\n",
              "      <td>12</td>\n",
              "      <td>27</td>\n",
              "      <td>35</td>\n",
              "      <td>41</td>\n",
              "    </tr>\n",
              "    <tr>\n",
              "      <th>(37.5, 75.0]</th>\n",
              "      <td>16</td>\n",
              "      <td>25</td>\n",
              "      <td>17</td>\n",
              "      <td>14</td>\n",
              "      <td>13</td>\n",
              "      <td>17</td>\n",
              "      <td>27</td>\n",
              "      <td>35</td>\n",
              "    </tr>\n",
              "    <tr>\n",
              "      <th>(75.0, 112.5]</th>\n",
              "      <td>20</td>\n",
              "      <td>13</td>\n",
              "      <td>35</td>\n",
              "      <td>18</td>\n",
              "      <td>13</td>\n",
              "      <td>25</td>\n",
              "      <td>41</td>\n",
              "      <td>37</td>\n",
              "    </tr>\n",
              "    <tr>\n",
              "      <th>(112.5, 150.0]</th>\n",
              "      <td>22</td>\n",
              "      <td>18</td>\n",
              "      <td>14</td>\n",
              "      <td>10</td>\n",
              "      <td>17</td>\n",
              "      <td>18</td>\n",
              "      <td>23</td>\n",
              "      <td>20</td>\n",
              "    </tr>\n",
              "    <tr>\n",
              "      <th>(150.0, 187.5]</th>\n",
              "      <td>24</td>\n",
              "      <td>22</td>\n",
              "      <td>21</td>\n",
              "      <td>16</td>\n",
              "      <td>15</td>\n",
              "      <td>21</td>\n",
              "      <td>27</td>\n",
              "      <td>1</td>\n",
              "    </tr>\n",
              "    <tr>\n",
              "      <th>(187.5, 225.0]</th>\n",
              "      <td>23</td>\n",
              "      <td>20</td>\n",
              "      <td>23</td>\n",
              "      <td>11</td>\n",
              "      <td>11</td>\n",
              "      <td>17</td>\n",
              "      <td>9</td>\n",
              "      <td>0</td>\n",
              "    </tr>\n",
              "    <tr>\n",
              "      <th>(225.0, 262.5]</th>\n",
              "      <td>19</td>\n",
              "      <td>28</td>\n",
              "      <td>19</td>\n",
              "      <td>23</td>\n",
              "      <td>16</td>\n",
              "      <td>14</td>\n",
              "      <td>2</td>\n",
              "      <td>0</td>\n",
              "    </tr>\n",
              "    <tr>\n",
              "      <th>(262.5, 300.0]</th>\n",
              "      <td>12</td>\n",
              "      <td>22</td>\n",
              "      <td>24</td>\n",
              "      <td>21</td>\n",
              "      <td>26</td>\n",
              "      <td>14</td>\n",
              "      <td>0</td>\n",
              "      <td>0</td>\n",
              "    </tr>\n",
              "  </tbody>\n",
              "</table>\n",
              "</div>"
            ],
            "text/plain": [
              "age             (17.938, 25.75]  (25.75, 33.5]  (33.5, 41.25]  (41.25, 49.0]  \\\n",
              "exercise_time                                                                  \n",
              "(-0.3, 37.5]                 18             19             27             12   \n",
              "(37.5, 75.0]                 16             25             17             14   \n",
              "(75.0, 112.5]                20             13             35             18   \n",
              "(112.5, 150.0]               22             18             14             10   \n",
              "(150.0, 187.5]               24             22             21             16   \n",
              "(187.5, 225.0]               23             20             23             11   \n",
              "(225.0, 262.5]               19             28             19             23   \n",
              "(262.5, 300.0]               12             22             24             21   \n",
              "\n",
              "age             (49.0, 56.75]  (56.75, 64.5]  (64.5, 72.25]  (72.25, 80.0]  \n",
              "exercise_time                                                               \n",
              "(-0.3, 37.5]               12             27             35             41  \n",
              "(37.5, 75.0]               13             17             27             35  \n",
              "(75.0, 112.5]              13             25             41             37  \n",
              "(112.5, 150.0]             17             18             23             20  \n",
              "(150.0, 187.5]             15             21             27              1  \n",
              "(187.5, 225.0]             11             17              9              0  \n",
              "(225.0, 262.5]             16             14              2              0  \n",
              "(262.5, 300.0]             26             14              0              0  "
            ]
          },
          "metadata": {
            "tags": []
          },
          "execution_count": 84
        },
        {
          "output_type": "display_data",
          "data": {
            "image/png": "[encoded data removed]",
            "text/plain": [
              "<Figure size 1440x432 with 1 Axes>"
            ]
          },
          "metadata": {
            "tags": []
          }
        }
      ]
    },
    {
      "metadata": {
        "id": "pZeUXj7X4Vgo",
        "colab_type": "code",
        "colab": {}
      },
      "cell_type": "code",
      "source": [
        "b = crossum(age, exercise)"
      ],
      "execution_count": 0,
      "outputs": []
    },
    {
      "metadata": {
        "id": "jnLIbXIbOl91",
        "colab_type": "code",
        "colab": {
          "base_uri": "https://localhost:8080/",
          "height": 111
        },
        "outputId": "c19539bb-d50b-4fdf-d773-2e9ad6abb1b2"
      },
      "cell_type": "code",
      "source": [
        "-crossum(weight, exercise)"
      ],
      "execution_count": 105,
      "outputs": [
        {
          "output_type": "execute_result",
          "data": {
            "text/html": [
              "<div>\n",
              "<style scoped>\n",
              "    .dataframe tbody tr th:only-of-type {\n",
              "        vertical-align: middle;\n",
              "    }\n",
              "\n",
              "    .dataframe tbody tr th {\n",
              "        vertical-align: top;\n",
              "    }\n",
              "\n",
              "    .dataframe thead th {\n",
              "        text-align: right;\n",
              "    }\n",
              "</style>\n",
              "<table border=\"1\" class=\"dataframe\">\n",
              "  <thead>\n",
              "    <tr style=\"text-align: right;\">\n",
              "      <th>exercise_time</th>\n",
              "      <th>(-0.3, 37.5]</th>\n",
              "      <th>(37.5, 75.0]</th>\n",
              "      <th>(75.0, 112.5]</th>\n",
              "      <th>(112.5, 150.0]</th>\n",
              "      <th>(150.0, 187.5]</th>\n",
              "      <th>(187.5, 225.0]</th>\n",
              "      <th>(225.0, 262.5]</th>\n",
              "      <th>(262.5, 300.0]</th>\n",
              "    </tr>\n",
              "    <tr>\n",
              "      <th>row_0</th>\n",
              "      <th></th>\n",
              "      <th></th>\n",
              "      <th></th>\n",
              "      <th></th>\n",
              "      <th></th>\n",
              "      <th></th>\n",
              "      <th></th>\n",
              "      <th></th>\n",
              "    </tr>\n",
              "  </thead>\n",
              "  <tbody>\n",
              "    <tr>\n",
              "      <th>1200</th>\n",
              "      <td>191</td>\n",
              "      <td>164</td>\n",
              "      <td>202</td>\n",
              "      <td>142</td>\n",
              "      <td>147</td>\n",
              "      <td>114</td>\n",
              "      <td>121</td>\n",
              "      <td>119</td>\n",
              "    </tr>\n",
              "  </tbody>\n",
              "</table>\n",
              "</div>"
            ],
            "text/plain": [
              "exercise_time  (-0.3, 37.5]  (37.5, 75.0]  (75.0, 112.5]  (112.5, 150.0]  \\\n",
              "row_0                                                                      \n",
              "1200                    191           164            202             142   \n",
              "\n",
              "exercise_time  (150.0, 187.5]  (187.5, 225.0]  (225.0, 262.5]  (262.5, 300.0]  \n",
              "row_0                                                                          \n",
              "1200                      147             114             121             119  "
            ]
          },
          "metadata": {
            "tags": []
          },
          "execution_count": 105
        }
      ]
    },
    {
      "metadata": {
        "id": "nha94YC3PE4K",
        "colab_type": "code",
        "colab": {
          "base_uri": "https://localhost:8080/",
          "height": 170
        },
        "outputId": "7dadf140-7769-4d4f-8dee-0502306f17af"
      },
      "cell_type": "code",
      "source": [
        "age.value_counts()"
      ],
      "execution_count": 122,
      "outputs": [
        {
          "output_type": "execute_result",
          "data": {
            "text/plain": [
              "(33.5, 41.25]      180\n",
              "(25.75, 33.5]      167\n",
              "(64.5, 72.25]      164\n",
              "(17.938, 25.75]    154\n",
              "(56.75, 64.5]      153\n",
              "(72.25, 80.0]      134\n",
              "(41.25, 49.0]      125\n",
              "(49.0, 56.75]      123\n",
              "Name: age, dtype: int64"
            ]
          },
          "metadata": {
            "tags": []
          },
          "execution_count": 122
        }
      ]
    },
    {
      "metadata": {
        "id": "m16jb5XqPxW2",
        "colab_type": "code",
        "colab": {
          "base_uri": "https://localhost:8080/",
          "height": 170
        },
        "outputId": "52e783b5-8718-46ba-98d2-9db40a8c5cf3"
      },
      "cell_type": "code",
      "source": [
        "weight.value_counts()"
      ],
      "execution_count": 121,
      "outputs": [
        {
          "output_type": "execute_result",
          "data": {
            "text/plain": [
              "(118.25, 136.5]     232\n",
              "(99.854, 118.25]    222\n",
              "(136.5, 154.75]     213\n",
              "(154.75, 173.0]     184\n",
              "(173.0, 191.25]     141\n",
              "(191.25, 209.5]     112\n",
              "(209.5, 227.75]      68\n",
              "(227.75, 246.0]      28\n",
              "Name: weight, dtype: int64"
            ]
          },
          "metadata": {
            "tags": []
          },
          "execution_count": 121
        }
      ]
    },
    {
      "metadata": {
        "id": "6m7JjboVP3DL",
        "colab_type": "code",
        "colab": {
          "base_uri": "https://localhost:8080/",
          "height": 170
        },
        "outputId": "20288df5-7986-4a71-b854-7b682a25b352"
      },
      "cell_type": "code",
      "source": [
        "exercise.value_counts()"
      ],
      "execution_count": 120,
      "outputs": [
        {
          "output_type": "execute_result",
          "data": {
            "text/plain": [
              "(75.0, 112.5]     202\n",
              "(-0.3, 37.5]      191\n",
              "(37.5, 75.0]      164\n",
              "(150.0, 187.5]    147\n",
              "(112.5, 150.0]    142\n",
              "(225.0, 262.5]    121\n",
              "(262.5, 300.0]    119\n",
              "(187.5, 225.0]    114\n",
              "Name: exercise_time, dtype: int64"
            ]
          },
          "metadata": {
            "tags": []
          },
          "execution_count": 120
        }
      ]
    },
    {
      "metadata": {
        "id": "PVlktm0dOyLD",
        "colab_type": "code",
        "colab": {
          "base_uri": "https://localhost:8080/",
          "height": 111
        },
        "outputId": "7a2aa453-fe6d-46aa-e61e-ab36e2e4c2af"
      },
      "cell_type": "code",
      "source": [
        "crossum(weight, age)"
      ],
      "execution_count": 106,
      "outputs": [
        {
          "output_type": "execute_result",
          "data": {
            "text/html": [
              "<div>\n",
              "<style scoped>\n",
              "    .dataframe tbody tr th:only-of-type {\n",
              "        vertical-align: middle;\n",
              "    }\n",
              "\n",
              "    .dataframe tbody tr th {\n",
              "        vertical-align: top;\n",
              "    }\n",
              "\n",
              "    .dataframe thead th {\n",
              "        text-align: right;\n",
              "    }\n",
              "</style>\n",
              "<table border=\"1\" class=\"dataframe\">\n",
              "  <thead>\n",
              "    <tr style=\"text-align: right;\">\n",
              "      <th>age</th>\n",
              "      <th>(17.938, 25.75]</th>\n",
              "      <th>(25.75, 33.5]</th>\n",
              "      <th>(33.5, 41.25]</th>\n",
              "      <th>(41.25, 49.0]</th>\n",
              "      <th>(49.0, 56.75]</th>\n",
              "      <th>(56.75, 64.5]</th>\n",
              "      <th>(64.5, 72.25]</th>\n",
              "      <th>(72.25, 80.0]</th>\n",
              "    </tr>\n",
              "    <tr>\n",
              "      <th>row_0</th>\n",
              "      <th></th>\n",
              "      <th></th>\n",
              "      <th></th>\n",
              "      <th></th>\n",
              "      <th></th>\n",
              "      <th></th>\n",
              "      <th></th>\n",
              "      <th></th>\n",
              "    </tr>\n",
              "  </thead>\n",
              "  <tbody>\n",
              "    <tr>\n",
              "      <th>1200</th>\n",
              "      <td>154</td>\n",
              "      <td>167</td>\n",
              "      <td>180</td>\n",
              "      <td>125</td>\n",
              "      <td>123</td>\n",
              "      <td>153</td>\n",
              "      <td>164</td>\n",
              "      <td>134</td>\n",
              "    </tr>\n",
              "  </tbody>\n",
              "</table>\n",
              "</div>"
            ],
            "text/plain": [
              "age    (17.938, 25.75]  (25.75, 33.5]  (33.5, 41.25]  (41.25, 49.0]  \\\n",
              "row_0                                                                 \n",
              "1200               154            167            180            125   \n",
              "\n",
              "age    (49.0, 56.75]  (56.75, 64.5]  (64.5, 72.25]  (72.25, 80.0]  \n",
              "row_0                                                              \n",
              "1200             123            153            164            134  "
            ]
          },
          "metadata": {
            "tags": []
          },
          "execution_count": 106
        }
      ]
    },
    {
      "metadata": {
        "id": "5Wq8LkKeOZR4",
        "colab_type": "code",
        "colab": {
          "base_uri": "https://localhost:8080/",
          "height": 111
        },
        "outputId": "8fc0cbaf-c758-4b69-e1a2-94b2eab94c10"
      },
      "cell_type": "code",
      "source": [
        "crossum(age, weight)"
      ],
      "execution_count": 103,
      "outputs": [
        {
          "output_type": "execute_result",
          "data": {
            "text/html": [
              "<div>\n",
              "<style scoped>\n",
              "    .dataframe tbody tr th:only-of-type {\n",
              "        vertical-align: middle;\n",
              "    }\n",
              "\n",
              "    .dataframe tbody tr th {\n",
              "        vertical-align: top;\n",
              "    }\n",
              "\n",
              "    .dataframe thead th {\n",
              "        text-align: right;\n",
              "    }\n",
              "</style>\n",
              "<table border=\"1\" class=\"dataframe\">\n",
              "  <thead>\n",
              "    <tr style=\"text-align: right;\">\n",
              "      <th>weight</th>\n",
              "      <th>(99.854, 118.25]</th>\n",
              "      <th>(118.25, 136.5]</th>\n",
              "      <th>(136.5, 154.75]</th>\n",
              "      <th>(154.75, 173.0]</th>\n",
              "      <th>(173.0, 191.25]</th>\n",
              "      <th>(191.25, 209.5]</th>\n",
              "      <th>(209.5, 227.75]</th>\n",
              "      <th>(227.75, 246.0]</th>\n",
              "    </tr>\n",
              "    <tr>\n",
              "      <th>row_0</th>\n",
              "      <th></th>\n",
              "      <th></th>\n",
              "      <th></th>\n",
              "      <th></th>\n",
              "      <th></th>\n",
              "      <th></th>\n",
              "      <th></th>\n",
              "      <th></th>\n",
              "    </tr>\n",
              "  </thead>\n",
              "  <tbody>\n",
              "    <tr>\n",
              "      <th>1200</th>\n",
              "      <td>222</td>\n",
              "      <td>232</td>\n",
              "      <td>213</td>\n",
              "      <td>184</td>\n",
              "      <td>141</td>\n",
              "      <td>112</td>\n",
              "      <td>68</td>\n",
              "      <td>28</td>\n",
              "    </tr>\n",
              "  </tbody>\n",
              "</table>\n",
              "</div>"
            ],
            "text/plain": [
              "weight  (99.854, 118.25]  (118.25, 136.5]  (136.5, 154.75]  (154.75, 173.0]  \\\n",
              "row_0                                                                         \n",
              "1200                 222              232              213              184   \n",
              "\n",
              "weight  (173.0, 191.25]  (191.25, 209.5]  (209.5, 227.75]  (227.75, 246.0]  \n",
              "row_0                                                                       \n",
              "1200                141              112               68               28  "
            ]
          },
          "metadata": {
            "tags": []
          },
          "execution_count": 103
        }
      ]
    },
    {
      "metadata": {
        "id": "4bPrTcwjL-l5",
        "colab_type": "code",
        "colab": {
          "base_uri": "https://localhost:8080/",
          "height": 111
        },
        "outputId": "b561ade3-5065-4356-9722-c712f9c73abe"
      },
      "cell_type": "code",
      "source": [
        "()b.head()"
      ],
      "execution_count": 93,
      "outputs": [
        {
          "output_type": "execute_result",
          "data": {
            "text/html": [
              "<div>\n",
              "<style scoped>\n",
              "    .dataframe tbody tr th:only-of-type {\n",
              "        vertical-align: middle;\n",
              "    }\n",
              "\n",
              "    .dataframe tbody tr th {\n",
              "        vertical-align: top;\n",
              "    }\n",
              "\n",
              "    .dataframe thead th {\n",
              "        text-align: right;\n",
              "    }\n",
              "</style>\n",
              "<table border=\"1\" class=\"dataframe\">\n",
              "  <thead>\n",
              "    <tr style=\"text-align: right;\">\n",
              "      <th>exercise_time</th>\n",
              "      <th>(-0.3, 37.5]</th>\n",
              "      <th>(37.5, 75.0]</th>\n",
              "      <th>(75.0, 112.5]</th>\n",
              "      <th>(112.5, 150.0]</th>\n",
              "      <th>(150.0, 187.5]</th>\n",
              "      <th>(187.5, 225.0]</th>\n",
              "      <th>(225.0, 262.5]</th>\n",
              "      <th>(262.5, 300.0]</th>\n",
              "    </tr>\n",
              "    <tr>\n",
              "      <th>row_0</th>\n",
              "      <th></th>\n",
              "      <th></th>\n",
              "      <th></th>\n",
              "      <th></th>\n",
              "      <th></th>\n",
              "      <th></th>\n",
              "      <th></th>\n",
              "      <th></th>\n",
              "    </tr>\n",
              "  </thead>\n",
              "  <tbody>\n",
              "    <tr>\n",
              "      <th>1200</th>\n",
              "      <td>191</td>\n",
              "      <td>164</td>\n",
              "      <td>202</td>\n",
              "      <td>142</td>\n",
              "      <td>147</td>\n",
              "      <td>114</td>\n",
              "      <td>121</td>\n",
              "      <td>119</td>\n",
              "    </tr>\n",
              "  </tbody>\n",
              "</table>\n",
              "</div>"
            ],
            "text/plain": [
              "exercise_time  (-0.3, 37.5]  (37.5, 75.0]  (75.0, 112.5]  (112.5, 150.0]  \\\n",
              "row_0                                                                      \n",
              "1200                    191           164            202             142   \n",
              "\n",
              "exercise_time  (150.0, 187.5]  (187.5, 225.0]  (225.0, 262.5]  (262.5, 300.0]  \n",
              "row_0                                                                          \n",
              "1200                      147             114             121             119  "
            ]
          },
          "metadata": {
            "tags": []
          },
          "execution_count": 93
        }
      ]
    },
    {
      "metadata": {
        "id": "BT9gdS7viJZa",
        "colab_type": "text"
      },
      "cell_type": "markdown",
      "source": [
        "### Assignment questions\n",
        "\n",
        "After you've worked on some code, answer the following questions in this text block:\n",
        "\n",
        "1.  What are the variable types in the data?\n",
        "2.  What are the relationships between the variables?\n",
        "3.  Which relationships are \"real\", and which spurious?\n"
      ]
    },
    {
      "metadata": {
        "id": "_XXg2crAipwP",
        "colab_type": "text"
      },
      "cell_type": "markdown",
      "source": [
        "## Stretch goals and resources\n",
        "\n",
        "Following are *optional* things for you to take a look at. Focus on the above assignment first, and make sure to commit and push your changes to GitHub.\n",
        "\n",
        "- [Spurious Correlations](http://tylervigen.com/spurious-correlations)\n",
        "- [NIH on controlling for confounding variables](https://www.ncbi.nlm.nih.gov/pmc/articles/PMC4017459/)\n",
        "\n",
        "Stretch goals:\n",
        "\n",
        "- Produce your own plot inspired by the Spurious Correlation visualizations (and consider writing a blog post about it - both the content and how you made it)\n",
        "- Pick one of the techniques that NIH highlights for confounding variables - we'll be going into many of them later, but see if you can find which Python modules may help (hint - check scikit-learn)"
      ]
    }
  ]
}