{
  "nbformat": 4,
  "nbformat_minor": 0,
  "metadata": {
    "colab": {
      "name": "LS DS 114 - Making Data-backed Assertions.ipynb",
      "version": "0.3.2",
      "provenance": [],
      "collapsed_sections": []
    },
    "kernelspec": {
      "name": "python3",
      "display_name": "Python 3"
    }
  },
  "cells": [
    {
      "metadata": {
        "id": "Okfr_uhwhS1X",
        "colab_type": "text"
      },
      "cell_type": "markdown",
      "source": [
        "# Lambda School Data Science - Making Data-backed Assertions\n",
        "\n",
        "This is, for many, the main point of data science - to create and support reasoned arguments based on evidence. It's not a topic to master in a day, but it is worth some focused time thinking about and structuring your approach to it."
      ]
    },
    {
      "metadata": {
        "id": "9dtJETFRhnOG",
        "colab_type": "text"
      },
      "cell_type": "markdown",
      "source": [
        "## Lecture - generating a confounding variable\n",
        "\n",
        "The prewatch material told a story about a hypothetical health condition where both the drug usage and overall health outcome were related to gender - thus making gender a confounding variable, obfuscating the possible relationship between the drug and the outcome.\n",
        "\n",
        "Let's use Python to generate data that actually behaves in this fashion!"
      ]
    },
    {
      "metadata": {
        "id": "WiBkgmPJhmhE",
        "colab_type": "code",
        "outputId": "8074f049-5d2e-4766-f766-543ffe4a20be",
        "colab": {
          "base_uri": "https://localhost:8080/",
          "height": 1126
        }
      },
      "cell_type": "code",
      "source": [
        "import random\n",
        "dir(random)  # Reminding ourselves what we can do here"
      ],
      "execution_count": 254,
      "outputs": [
        {
          "output_type": "execute_result",
          "data": {
            "text/plain": [
              "['BPF',\n",
              " 'LOG4',\n",
              " 'NV_MAGICCONST',\n",
              " 'RECIP_BPF',\n",
              " 'Random',\n",
              " 'SG_MAGICCONST',\n",
              " 'SystemRandom',\n",
              " 'TWOPI',\n",
              " '_BuiltinMethodType',\n",
              " '_MethodType',\n",
              " '_Sequence',\n",
              " '_Set',\n",
              " '__all__',\n",
              " '__builtins__',\n",
              " '__cached__',\n",
              " '__doc__',\n",
              " '__file__',\n",
              " '__loader__',\n",
              " '__name__',\n",
              " '__package__',\n",
              " '__spec__',\n",
              " '_acos',\n",
              " '_bisect',\n",
              " '_ceil',\n",
              " '_cos',\n",
              " '_e',\n",
              " '_exp',\n",
              " '_inst',\n",
              " '_itertools',\n",
              " '_log',\n",
              " '_pi',\n",
              " '_random',\n",
              " '_sha512',\n",
              " '_sin',\n",
              " '_sqrt',\n",
              " '_test',\n",
              " '_test_generator',\n",
              " '_urandom',\n",
              " '_warn',\n",
              " 'betavariate',\n",
              " 'choice',\n",
              " 'choices',\n",
              " 'expovariate',\n",
              " 'gammavariate',\n",
              " 'gauss',\n",
              " 'getrandbits',\n",
              " 'getstate',\n",
              " 'lognormvariate',\n",
              " 'normalvariate',\n",
              " 'paretovariate',\n",
              " 'randint',\n",
              " 'random',\n",
              " 'randrange',\n",
              " 'sample',\n",
              " 'seed',\n",
              " 'setstate',\n",
              " 'shuffle',\n",
              " 'triangular',\n",
              " 'uniform',\n",
              " 'vonmisesvariate',\n",
              " 'weibullvariate']"
            ]
          },
          "metadata": {
            "tags": []
          },
          "execution_count": 254
        }
      ]
    },
    {
      "metadata": {
        "id": "Ks5qFtpnq-q5",
        "colab_type": "code",
        "outputId": "9f8591d1-d415-4a91-a247-54092a766926",
        "colab": {
          "base_uri": "https://localhost:8080/",
          "height": 35
        }
      },
      "cell_type": "code",
      "source": [
        "# Let's think of another scenario:\n",
        "# We work for a company that sells accessories for mobile phones.\n",
        "# They have an ecommerce site, and we are supposed to analyze logs\n",
        "# to determine what sort of usage is related to purchases, and thus guide\n",
        "# website development to encourage higher conversion.\n",
        "\n",
        "# The hypothesis - users who spend longer on the site tend\n",
        "# to spend more. Seems reasonable, no?\n",
        "\n",
        "# But there's a confounding variable! If they're on a phone, they:\n",
        "# a) Spend less time on the site, but\n",
        "# b) Are more likely to be interested in the actual products!\n",
        "\n",
        "# Let's use namedtuple to represent our data\n",
        "\n",
        "from collections import namedtuple\n",
        "# purchased and mobile are bools, time_on_site in seconds\n",
        "User = namedtuple('User', ['purchased','time_on_site', 'mobile'])\n",
        "\n",
        "example_user = User(False, 12, False)\n",
        "print(example_user)"
      ],
      "execution_count": 255,
      "outputs": [
        {
          "output_type": "stream",
          "text": [
            "User(purchased=False, time_on_site=12, mobile=False)\n"
          ],
          "name": "stdout"
        }
      ]
    },
    {
      "metadata": {
        "id": "lfPiHNG_sefL",
        "colab_type": "code",
        "outputId": "7c8b892d-0778-48bb-aa99-3398bec3e0c8",
        "colab": {
          "base_uri": "https://localhost:8080/",
          "height": 55
        }
      },
      "cell_type": "code",
      "source": [
        "# And now let's generate 1000 example users\n",
        "# 750 mobile, 250 not (i.e. desktop)\n",
        "# A desktop user has a base conversion likelihood of 10%\n",
        "# And it goes up by 1% for each 15 seconds they spend on the site\n",
        "# And they spend anywhere from 10 seconds to 10 minutes on the site (uniform)\n",
        "# Mobile users spend on average half as much time on the site as desktop\n",
        "# But have twice as much base likelihood of buying something\n",
        "\n",
        "users = []\n",
        "\n",
        "for _ in range(250):\n",
        "  # Desktop users\n",
        "  time_on_site = random.uniform(10, 600)\n",
        "  purchased = random.random() < 0.1 + (time_on_site / 1500)\n",
        "  users.append(User(purchased, time_on_site, False))\n",
        "  \n",
        "for _ in range(750):\n",
        "  # Mobile users\n",
        "  time_on_site = random.uniform(5, 300)\n",
        "  purchased = random.random() < 0.2 + (time_on_site / 1500)\n",
        "  users.append(User(purchased, time_on_site, True))\n",
        "  \n",
        "random.shuffle(users)\n",
        "print(users[:10])"
      ],
      "execution_count": 256,
      "outputs": [
        {
          "output_type": "stream",
          "text": [
            "[User(purchased=True, time_on_site=69.37549916251339, mobile=True), User(purchased=True, time_on_site=312.8420827093461, mobile=False), User(purchased=True, time_on_site=213.16974024645265, mobile=False), User(purchased=False, time_on_site=251.7120776536217, mobile=True), User(purchased=False, time_on_site=57.30702482005073, mobile=True), User(purchased=False, time_on_site=233.560442970532, mobile=True), User(purchased=True, time_on_site=228.94089074517632, mobile=True), User(purchased=True, time_on_site=263.40581899958227, mobile=True), User(purchased=True, time_on_site=12.788278433302974, mobile=True), User(purchased=False, time_on_site=282.7308174617668, mobile=True)]\n"
          ],
          "name": "stdout"
        }
      ]
    },
    {
      "metadata": {
        "id": "9gDYb5qGuRzy",
        "colab_type": "code",
        "outputId": "2ac9db10-1700-4a03-b6c3-7e62452005b8",
        "colab": {
          "base_uri": "https://localhost:8080/",
          "height": 198
        }
      },
      "cell_type": "code",
      "source": [
        "# Let's put this in a dataframe so we can look at it more easily\n",
        "import pandas as pd\n",
        "user_data = pd.DataFrame(users)\n",
        "user_data.head()"
      ],
      "execution_count": 257,
      "outputs": [
        {
          "output_type": "execute_result",
          "data": {
            "text/html": [
              "<div>\n",
              "<style scoped>\n",
              "    .dataframe tbody tr th:only-of-type {\n",
              "        vertical-align: middle;\n",
              "    }\n",
              "\n",
              "    .dataframe tbody tr th {\n",
              "        vertical-align: top;\n",
              "    }\n",
              "\n",
              "    .dataframe thead th {\n",
              "        text-align: right;\n",
              "    }\n",
              "</style>\n",
              "<table border=\"1\" class=\"dataframe\">\n",
              "  <thead>\n",
              "    <tr style=\"text-align: right;\">\n",
              "      <th></th>\n",
              "      <th>purchased</th>\n",
              "      <th>time_on_site</th>\n",
              "      <th>mobile</th>\n",
              "    </tr>\n",
              "  </thead>\n",
              "  <tbody>\n",
              "    <tr>\n",
              "      <th>0</th>\n",
              "      <td>True</td>\n",
              "      <td>69.375499</td>\n",
              "      <td>True</td>\n",
              "    </tr>\n",
              "    <tr>\n",
              "      <th>1</th>\n",
              "      <td>True</td>\n",
              "      <td>312.842083</td>\n",
              "      <td>False</td>\n",
              "    </tr>\n",
              "    <tr>\n",
              "      <th>2</th>\n",
              "      <td>True</td>\n",
              "      <td>213.169740</td>\n",
              "      <td>False</td>\n",
              "    </tr>\n",
              "    <tr>\n",
              "      <th>3</th>\n",
              "      <td>False</td>\n",
              "      <td>251.712078</td>\n",
              "      <td>True</td>\n",
              "    </tr>\n",
              "    <tr>\n",
              "      <th>4</th>\n",
              "      <td>False</td>\n",
              "      <td>57.307025</td>\n",
              "      <td>True</td>\n",
              "    </tr>\n",
              "  </tbody>\n",
              "</table>\n",
              "</div>"
            ],
            "text/plain": [
              "   purchased  time_on_site  mobile\n",
              "0       True     69.375499    True\n",
              "1       True    312.842083   False\n",
              "2       True    213.169740   False\n",
              "3      False    251.712078    True\n",
              "4      False     57.307025    True"
            ]
          },
          "metadata": {
            "tags": []
          },
          "execution_count": 257
        }
      ]
    },
    {
      "metadata": {
        "id": "sr6IJv77ulVl",
        "colab_type": "code",
        "outputId": "c6d2333c-cc43-4448-d134-9788ec164370",
        "colab": {
          "base_uri": "https://localhost:8080/",
          "height": 187
        }
      },
      "cell_type": "code",
      "source": [
        "# Let's use crosstabulation to try to see what's going on\n",
        "pd.crosstab(user_data['purchased'], user_data['time_on_site'])"
      ],
      "execution_count": 258,
      "outputs": [
        {
          "output_type": "execute_result",
          "data": {
            "text/html": [
              "<div>\n",
              "<style scoped>\n",
              "    .dataframe tbody tr th:only-of-type {\n",
              "        vertical-align: middle;\n",
              "    }\n",
              "\n",
              "    .dataframe tbody tr th {\n",
              "        vertical-align: top;\n",
              "    }\n",
              "\n",
              "    .dataframe thead th {\n",
              "        text-align: right;\n",
              "    }\n",
              "</style>\n",
              "<table border=\"1\" class=\"dataframe\">\n",
              "  <thead>\n",
              "    <tr style=\"text-align: right;\">\n",
              "      <th>time_on_site</th>\n",
              "      <th>5.287364026556882</th>\n",
              "      <th>5.937587208454312</th>\n",
              "      <th>6.371741157418757</th>\n",
              "      <th>7.456449002515388</th>\n",
              "      <th>7.711372362729771</th>\n",
              "      <th>7.787818305751818</th>\n",
              "      <th>7.998555199210314</th>\n",
              "      <th>8.636077038179128</th>\n",
              "      <th>9.298923900476813</th>\n",
              "      <th>9.35162093413263</th>\n",
              "      <th>...</th>\n",
              "      <th>577.39514463023</th>\n",
              "      <th>579.7620507031057</th>\n",
              "      <th>583.1996615776982</th>\n",
              "      <th>584.7963687465727</th>\n",
              "      <th>587.5560659243263</th>\n",
              "      <th>592.8329184003549</th>\n",
              "      <th>593.181220482993</th>\n",
              "      <th>597.7133981122715</th>\n",
              "      <th>598.7519684052621</th>\n",
              "      <th>598.8680910122499</th>\n",
              "    </tr>\n",
              "    <tr>\n",
              "      <th>purchased</th>\n",
              "      <th></th>\n",
              "      <th></th>\n",
              "      <th></th>\n",
              "      <th></th>\n",
              "      <th></th>\n",
              "      <th></th>\n",
              "      <th></th>\n",
              "      <th></th>\n",
              "      <th></th>\n",
              "      <th></th>\n",
              "      <th></th>\n",
              "      <th></th>\n",
              "      <th></th>\n",
              "      <th></th>\n",
              "      <th></th>\n",
              "      <th></th>\n",
              "      <th></th>\n",
              "      <th></th>\n",
              "      <th></th>\n",
              "      <th></th>\n",
              "      <th></th>\n",
              "    </tr>\n",
              "  </thead>\n",
              "  <tbody>\n",
              "    <tr>\n",
              "      <th>False</th>\n",
              "      <td>1</td>\n",
              "      <td>1</td>\n",
              "      <td>1</td>\n",
              "      <td>1</td>\n",
              "      <td>1</td>\n",
              "      <td>1</td>\n",
              "      <td>0</td>\n",
              "      <td>1</td>\n",
              "      <td>1</td>\n",
              "      <td>1</td>\n",
              "      <td>...</td>\n",
              "      <td>1</td>\n",
              "      <td>0</td>\n",
              "      <td>1</td>\n",
              "      <td>1</td>\n",
              "      <td>1</td>\n",
              "      <td>1</td>\n",
              "      <td>1</td>\n",
              "      <td>0</td>\n",
              "      <td>1</td>\n",
              "      <td>1</td>\n",
              "    </tr>\n",
              "    <tr>\n",
              "      <th>True</th>\n",
              "      <td>0</td>\n",
              "      <td>0</td>\n",
              "      <td>0</td>\n",
              "      <td>0</td>\n",
              "      <td>0</td>\n",
              "      <td>0</td>\n",
              "      <td>1</td>\n",
              "      <td>0</td>\n",
              "      <td>0</td>\n",
              "      <td>0</td>\n",
              "      <td>...</td>\n",
              "      <td>0</td>\n",
              "      <td>1</td>\n",
              "      <td>0</td>\n",
              "      <td>0</td>\n",
              "      <td>0</td>\n",
              "      <td>0</td>\n",
              "      <td>0</td>\n",
              "      <td>1</td>\n",
              "      <td>0</td>\n",
              "      <td>0</td>\n",
              "    </tr>\n",
              "  </tbody>\n",
              "</table>\n",
              "<p>2 rows × 1000 columns</p>\n",
              "</div>"
            ],
            "text/plain": [
              "time_on_site  5.287364    5.937587    6.371741    7.456449    7.711372    \\\n",
              "purchased                                                                  \n",
              "False                  1           1           1           1           1   \n",
              "True                   0           0           0           0           0   \n",
              "\n",
              "time_on_site  7.787818    7.998555    8.636077    9.298924    9.351621    \\\n",
              "purchased                                                                  \n",
              "False                  1           0           1           1           1   \n",
              "True                   0           1           0           0           0   \n",
              "\n",
              "time_on_site     ...      577.395145  579.762051  583.199662  584.796369  \\\n",
              "purchased        ...                                                       \n",
              "False            ...               1           0           1           1   \n",
              "True             ...               0           1           0           0   \n",
              "\n",
              "time_on_site  587.556066  592.832918  593.181220  597.713398  598.751968  \\\n",
              "purchased                                                                  \n",
              "False                  1           1           1           0           1   \n",
              "True                   0           0           0           1           0   \n",
              "\n",
              "time_on_site  598.868091  \n",
              "purchased                 \n",
              "False                  1  \n",
              "True                   0  \n",
              "\n",
              "[2 rows x 1000 columns]"
            ]
          },
          "metadata": {
            "tags": []
          },
          "execution_count": 258
        }
      ]
    },
    {
      "metadata": {
        "id": "hvAv6J3EwA9s",
        "colab_type": "code",
        "outputId": "43c06f4e-3cf1-4cac-902b-33434d9ee589",
        "colab": {
          "base_uri": "https://localhost:8080/",
          "height": 155
        }
      },
      "cell_type": "code",
      "source": [
        "# OK, that's not quite what we want\n",
        "# Time is continuous! We need to put it in discrete buckets\n",
        "# Pandas calls these bins, and pandas.cut helps make them\n",
        "\n",
        "time_bins = pd.cut(user_data['time_on_site'], 5)  # 5 equal-sized bins\n",
        "pd.crosstab(user_data['purchased'], time_bins)"
      ],
      "execution_count": 259,
      "outputs": [
        {
          "output_type": "execute_result",
          "data": {
            "text/html": [
              "<div>\n",
              "<style scoped>\n",
              "    .dataframe tbody tr th:only-of-type {\n",
              "        vertical-align: middle;\n",
              "    }\n",
              "\n",
              "    .dataframe tbody tr th {\n",
              "        vertical-align: top;\n",
              "    }\n",
              "\n",
              "    .dataframe thead th {\n",
              "        text-align: right;\n",
              "    }\n",
              "</style>\n",
              "<table border=\"1\" class=\"dataframe\">\n",
              "  <thead>\n",
              "    <tr style=\"text-align: right;\">\n",
              "      <th>time_on_site</th>\n",
              "      <th>(4.694, 124.004]</th>\n",
              "      <th>(124.004, 242.72]</th>\n",
              "      <th>(242.72, 361.436]</th>\n",
              "      <th>(361.436, 480.152]</th>\n",
              "      <th>(480.152, 598.868]</th>\n",
              "    </tr>\n",
              "    <tr>\n",
              "      <th>purchased</th>\n",
              "      <th></th>\n",
              "      <th></th>\n",
              "      <th></th>\n",
              "      <th></th>\n",
              "      <th></th>\n",
              "    </tr>\n",
              "  </thead>\n",
              "  <tbody>\n",
              "    <tr>\n",
              "      <th>False</th>\n",
              "      <td>292</td>\n",
              "      <td>233</td>\n",
              "      <td>130</td>\n",
              "      <td>21</td>\n",
              "      <td>33</td>\n",
              "    </tr>\n",
              "    <tr>\n",
              "      <th>True</th>\n",
              "      <td>69</td>\n",
              "      <td>108</td>\n",
              "      <td>71</td>\n",
              "      <td>18</td>\n",
              "      <td>25</td>\n",
              "    </tr>\n",
              "  </tbody>\n",
              "</table>\n",
              "</div>"
            ],
            "text/plain": [
              "time_on_site  (4.694, 124.004]  (124.004, 242.72]  (242.72, 361.436]  \\\n",
              "purchased                                                              \n",
              "False                      292                233                130   \n",
              "True                        69                108                 71   \n",
              "\n",
              "time_on_site  (361.436, 480.152]  (480.152, 598.868]  \n",
              "purchased                                             \n",
              "False                         21                  33  \n",
              "True                          18                  25  "
            ]
          },
          "metadata": {
            "tags": []
          },
          "execution_count": 259
        }
      ]
    },
    {
      "metadata": {
        "id": "pjcXnJw0wfaj",
        "colab_type": "code",
        "outputId": "922cedc4-d91c-446a-ea9c-5d12baea99eb",
        "colab": {
          "base_uri": "https://localhost:8080/",
          "height": 155
        }
      },
      "cell_type": "code",
      "source": [
        "# We can make this a bit clearer by normalizing (getting %)\n",
        "pd.crosstab(user_data['purchased'], time_bins, normalize='columns')"
      ],
      "execution_count": 260,
      "outputs": [
        {
          "output_type": "execute_result",
          "data": {
            "text/html": [
              "<div>\n",
              "<style scoped>\n",
              "    .dataframe tbody tr th:only-of-type {\n",
              "        vertical-align: middle;\n",
              "    }\n",
              "\n",
              "    .dataframe tbody tr th {\n",
              "        vertical-align: top;\n",
              "    }\n",
              "\n",
              "    .dataframe thead th {\n",
              "        text-align: right;\n",
              "    }\n",
              "</style>\n",
              "<table border=\"1\" class=\"dataframe\">\n",
              "  <thead>\n",
              "    <tr style=\"text-align: right;\">\n",
              "      <th>time_on_site</th>\n",
              "      <th>(4.694, 124.004]</th>\n",
              "      <th>(124.004, 242.72]</th>\n",
              "      <th>(242.72, 361.436]</th>\n",
              "      <th>(361.436, 480.152]</th>\n",
              "      <th>(480.152, 598.868]</th>\n",
              "    </tr>\n",
              "    <tr>\n",
              "      <th>purchased</th>\n",
              "      <th></th>\n",
              "      <th></th>\n",
              "      <th></th>\n",
              "      <th></th>\n",
              "      <th></th>\n",
              "    </tr>\n",
              "  </thead>\n",
              "  <tbody>\n",
              "    <tr>\n",
              "      <th>False</th>\n",
              "      <td>0.808864</td>\n",
              "      <td>0.683284</td>\n",
              "      <td>0.646766</td>\n",
              "      <td>0.538462</td>\n",
              "      <td>0.568966</td>\n",
              "    </tr>\n",
              "    <tr>\n",
              "      <th>True</th>\n",
              "      <td>0.191136</td>\n",
              "      <td>0.316716</td>\n",
              "      <td>0.353234</td>\n",
              "      <td>0.461538</td>\n",
              "      <td>0.431034</td>\n",
              "    </tr>\n",
              "  </tbody>\n",
              "</table>\n",
              "</div>"
            ],
            "text/plain": [
              "time_on_site  (4.694, 124.004]  (124.004, 242.72]  (242.72, 361.436]  \\\n",
              "purchased                                                              \n",
              "False                 0.808864           0.683284           0.646766   \n",
              "True                  0.191136           0.316716           0.353234   \n",
              "\n",
              "time_on_site  (361.436, 480.152]  (480.152, 598.868]  \n",
              "purchased                                             \n",
              "False                   0.538462            0.568966  \n",
              "True                    0.461538            0.431034  "
            ]
          },
          "metadata": {
            "tags": []
          },
          "execution_count": 260
        }
      ]
    },
    {
      "metadata": {
        "id": "C3GzvDxlvZMa",
        "colab_type": "code",
        "outputId": "e10ffa40-6bbb-4b0e-9fba-50a6b28522fc",
        "colab": {
          "base_uri": "https://localhost:8080/",
          "height": 138
        }
      },
      "cell_type": "code",
      "source": [
        "# That seems counter to our hypothesis\n",
        "# More time on the site seems to have fewer purchases\n",
        "\n",
        "# But we know why, since we generated the data!\n",
        "# Let's look at mobile and purchased\n",
        "pd.crosstab(user_data['purchased'], user_data['mobile'], normalize='columns')"
      ],
      "execution_count": 261,
      "outputs": [
        {
          "output_type": "execute_result",
          "data": {
            "text/html": [
              "<div>\n",
              "<style scoped>\n",
              "    .dataframe tbody tr th:only-of-type {\n",
              "        vertical-align: middle;\n",
              "    }\n",
              "\n",
              "    .dataframe tbody tr th {\n",
              "        vertical-align: top;\n",
              "    }\n",
              "\n",
              "    .dataframe thead th {\n",
              "        text-align: right;\n",
              "    }\n",
              "</style>\n",
              "<table border=\"1\" class=\"dataframe\">\n",
              "  <thead>\n",
              "    <tr style=\"text-align: right;\">\n",
              "      <th>mobile</th>\n",
              "      <th>False</th>\n",
              "      <th>True</th>\n",
              "    </tr>\n",
              "    <tr>\n",
              "      <th>purchased</th>\n",
              "      <th></th>\n",
              "      <th></th>\n",
              "    </tr>\n",
              "  </thead>\n",
              "  <tbody>\n",
              "    <tr>\n",
              "      <th>False</th>\n",
              "      <td>0.688</td>\n",
              "      <td>0.716</td>\n",
              "    </tr>\n",
              "    <tr>\n",
              "      <th>True</th>\n",
              "      <td>0.312</td>\n",
              "      <td>0.284</td>\n",
              "    </tr>\n",
              "  </tbody>\n",
              "</table>\n",
              "</div>"
            ],
            "text/plain": [
              "mobile     False  True \n",
              "purchased              \n",
              "False      0.688  0.716\n",
              "True       0.312  0.284"
            ]
          },
          "metadata": {
            "tags": []
          },
          "execution_count": 261
        }
      ]
    },
    {
      "metadata": {
        "id": "frre7YF0aYWo",
        "colab_type": "code",
        "outputId": "04a4899e-c17d-40ca-8366-d1902dcb9e16",
        "colab": {
          "base_uri": "https://localhost:8080/",
          "height": 1181
        }
      },
      "cell_type": "code",
      "source": [
        "# More on binning\n",
        "pd.cut(user_data['time_on_site'], 5)"
      ],
      "execution_count": 262,
      "outputs": [
        {
          "output_type": "execute_result",
          "data": {
            "text/plain": [
              "0        (4.694, 124.004]\n",
              "1       (242.72, 361.436]\n",
              "2       (124.004, 242.72]\n",
              "3       (242.72, 361.436]\n",
              "4        (4.694, 124.004]\n",
              "5       (124.004, 242.72]\n",
              "6       (124.004, 242.72]\n",
              "7       (242.72, 361.436]\n",
              "8        (4.694, 124.004]\n",
              "9       (242.72, 361.436]\n",
              "10       (4.694, 124.004]\n",
              "11       (4.694, 124.004]\n",
              "12      (124.004, 242.72]\n",
              "13      (124.004, 242.72]\n",
              "14      (242.72, 361.436]\n",
              "15     (361.436, 480.152]\n",
              "16      (242.72, 361.436]\n",
              "17       (4.694, 124.004]\n",
              "18       (4.694, 124.004]\n",
              "19       (4.694, 124.004]\n",
              "20      (124.004, 242.72]\n",
              "21       (4.694, 124.004]\n",
              "22      (242.72, 361.436]\n",
              "23      (242.72, 361.436]\n",
              "24       (4.694, 124.004]\n",
              "25      (124.004, 242.72]\n",
              "26       (4.694, 124.004]\n",
              "27      (242.72, 361.436]\n",
              "28       (4.694, 124.004]\n",
              "29       (4.694, 124.004]\n",
              "              ...        \n",
              "970    (361.436, 480.152]\n",
              "971      (4.694, 124.004]\n",
              "972      (4.694, 124.004]\n",
              "973      (4.694, 124.004]\n",
              "974      (4.694, 124.004]\n",
              "975     (242.72, 361.436]\n",
              "976      (4.694, 124.004]\n",
              "977     (124.004, 242.72]\n",
              "978    (480.152, 598.868]\n",
              "979     (242.72, 361.436]\n",
              "980    (361.436, 480.152]\n",
              "981      (4.694, 124.004]\n",
              "982      (4.694, 124.004]\n",
              "983     (242.72, 361.436]\n",
              "984     (124.004, 242.72]\n",
              "985     (124.004, 242.72]\n",
              "986      (4.694, 124.004]\n",
              "987     (124.004, 242.72]\n",
              "988      (4.694, 124.004]\n",
              "989     (242.72, 361.436]\n",
              "990     (124.004, 242.72]\n",
              "991    (480.152, 598.868]\n",
              "992      (4.694, 124.004]\n",
              "993     (242.72, 361.436]\n",
              "994      (4.694, 124.004]\n",
              "995    (480.152, 598.868]\n",
              "996    (361.436, 480.152]\n",
              "997     (124.004, 242.72]\n",
              "998     (124.004, 242.72]\n",
              "999      (4.694, 124.004]\n",
              "Name: time_on_site, Length: 1000, dtype: category\n",
              "Categories (5, interval[float64]): [(4.694, 124.004] < (124.004, 242.72] < (242.72, 361.436] <\n",
              "                                    (361.436, 480.152] < (480.152, 598.868]]"
            ]
          },
          "metadata": {
            "tags": []
          },
          "execution_count": 262
        }
      ]
    },
    {
      "metadata": {
        "id": "6QQieUkmayAf",
        "colab_type": "code",
        "outputId": "8febd169-6fb5-40e3-e088-ded4c1197022",
        "colab": {
          "base_uri": "https://localhost:8080/",
          "height": 1235
        }
      },
      "cell_type": "code",
      "source": [
        "help(pd.cut)"
      ],
      "execution_count": 263,
      "outputs": [
        {
          "output_type": "stream",
          "text": [
            "Help on function cut in module pandas.core.reshape.tile:\n",
            "\n",
            "cut(x, bins, right=True, labels=None, retbins=False, precision=3, include_lowest=False)\n",
            "    Return indices of half-open bins to which each value of `x` belongs.\n",
            "    \n",
            "    Parameters\n",
            "    ----------\n",
            "    x : array-like\n",
            "        Input array to be binned. It has to be 1-dimensional.\n",
            "    bins : int, sequence of scalars, or IntervalIndex\n",
            "        If `bins` is an int, it defines the number of equal-width bins in the\n",
            "        range of `x`. However, in this case, the range of `x` is extended\n",
            "        by .1% on each side to include the min or max values of `x`. If\n",
            "        `bins` is a sequence it defines the bin edges allowing for\n",
            "        non-uniform bin width. No extension of the range of `x` is done in\n",
            "        this case.\n",
            "    right : bool, optional\n",
            "        Indicates whether the bins include the rightmost edge or not. If\n",
            "        right == True (the default), then the bins [1,2,3,4] indicate\n",
            "        (1,2], (2,3], (3,4].\n",
            "    labels : array or boolean, default None\n",
            "        Used as labels for the resulting bins. Must be of the same length as\n",
            "        the resulting bins. If False, return only integer indicators of the\n",
            "        bins.\n",
            "    retbins : bool, optional\n",
            "        Whether to return the bins or not. Can be useful if bins is given\n",
            "        as a scalar.\n",
            "    precision : int, optional\n",
            "        The precision at which to store and display the bins labels\n",
            "    include_lowest : bool, optional\n",
            "        Whether the first interval should be left-inclusive or not.\n",
            "    \n",
            "    Returns\n",
            "    -------\n",
            "    out : Categorical or Series or array of integers if labels is False\n",
            "        The return type (Categorical or Series) depends on the input: a Series\n",
            "        of type category if input is a Series else Categorical. Bins are\n",
            "        represented as categories when categorical data is returned.\n",
            "    bins : ndarray of floats\n",
            "        Returned only if `retbins` is True.\n",
            "    \n",
            "    Notes\n",
            "    -----\n",
            "    The `cut` function can be useful for going from a continuous variable to\n",
            "    a categorical variable. For example, `cut` could convert ages to groups\n",
            "    of age ranges.\n",
            "    \n",
            "    Any NA values will be NA in the result.  Out of bounds values will be NA in\n",
            "    the resulting Categorical object\n",
            "    \n",
            "    \n",
            "    Examples\n",
            "    --------\n",
            "    >>> pd.cut(np.array([.2, 1.4, 2.5, 6.2, 9.7, 2.1]), 3, retbins=True)\n",
            "    ... # doctest: +ELLIPSIS\n",
            "    ([(0.19, 3.367], (0.19, 3.367], (0.19, 3.367], (3.367, 6.533], ...\n",
            "    Categories (3, interval[float64]): [(0.19, 3.367] < (3.367, 6.533] ...\n",
            "    \n",
            "    >>> pd.cut(np.array([.2, 1.4, 2.5, 6.2, 9.7, 2.1]),\n",
            "    ...        3, labels=[\"good\", \"medium\", \"bad\"])\n",
            "    ... # doctest: +SKIP\n",
            "    [good, good, good, medium, bad, good]\n",
            "    Categories (3, object): [good < medium < bad]\n",
            "    \n",
            "    >>> pd.cut(np.ones(5), 4, labels=False)\n",
            "    array([1, 1, 1, 1, 1])\n",
            "\n"
          ],
          "name": "stdout"
        }
      ]
    },
    {
      "metadata": {
        "id": "KQb-wU60xCum",
        "colab_type": "code",
        "outputId": "4b0592a3-c59a-4c3a-e84a-64ed4d3d1ec7",
        "colab": {
          "base_uri": "https://localhost:8080/",
          "height": 378
        }
      },
      "cell_type": "code",
      "source": [
        "# Yep, mobile users are more likely to buy things\n",
        "# But we're still not seeing the *whole* story until we look at all 3 at once\n",
        "\n",
        "# Live/stretch goal - how can we do that?\n",
        "pd.crosstab([user_data['purchased'], time_bins], user_data['mobile'],\n",
        "            normalize='columns')"
      ],
      "execution_count": 264,
      "outputs": [
        {
          "output_type": "execute_result",
          "data": {
            "text/html": [
              "<div>\n",
              "<style scoped>\n",
              "    .dataframe tbody tr th:only-of-type {\n",
              "        vertical-align: middle;\n",
              "    }\n",
              "\n",
              "    .dataframe tbody tr th {\n",
              "        vertical-align: top;\n",
              "    }\n",
              "\n",
              "    .dataframe thead th {\n",
              "        text-align: right;\n",
              "    }\n",
              "</style>\n",
              "<table border=\"1\" class=\"dataframe\">\n",
              "  <thead>\n",
              "    <tr style=\"text-align: right;\">\n",
              "      <th></th>\n",
              "      <th>mobile</th>\n",
              "      <th>False</th>\n",
              "      <th>True</th>\n",
              "    </tr>\n",
              "    <tr>\n",
              "      <th>purchased</th>\n",
              "      <th>time_on_site</th>\n",
              "      <th></th>\n",
              "      <th></th>\n",
              "    </tr>\n",
              "  </thead>\n",
              "  <tbody>\n",
              "    <tr>\n",
              "      <th rowspan=\"5\" valign=\"top\">False</th>\n",
              "      <th>(4.694, 124.004]</th>\n",
              "      <td>0.228</td>\n",
              "      <td>0.313333</td>\n",
              "    </tr>\n",
              "    <tr>\n",
              "      <th>(124.004, 242.72]</th>\n",
              "      <td>0.108</td>\n",
              "      <td>0.274667</td>\n",
              "    </tr>\n",
              "    <tr>\n",
              "      <th>(242.72, 361.436]</th>\n",
              "      <td>0.136</td>\n",
              "      <td>0.128000</td>\n",
              "    </tr>\n",
              "    <tr>\n",
              "      <th>(361.436, 480.152]</th>\n",
              "      <td>0.084</td>\n",
              "      <td>0.000000</td>\n",
              "    </tr>\n",
              "    <tr>\n",
              "      <th>(480.152, 598.868]</th>\n",
              "      <td>0.132</td>\n",
              "      <td>0.000000</td>\n",
              "    </tr>\n",
              "    <tr>\n",
              "      <th rowspan=\"5\" valign=\"top\">True</th>\n",
              "      <th>(4.694, 124.004]</th>\n",
              "      <td>0.040</td>\n",
              "      <td>0.078667</td>\n",
              "    </tr>\n",
              "    <tr>\n",
              "      <th>(124.004, 242.72]</th>\n",
              "      <td>0.048</td>\n",
              "      <td>0.128000</td>\n",
              "    </tr>\n",
              "    <tr>\n",
              "      <th>(242.72, 361.436]</th>\n",
              "      <td>0.052</td>\n",
              "      <td>0.077333</td>\n",
              "    </tr>\n",
              "    <tr>\n",
              "      <th>(361.436, 480.152]</th>\n",
              "      <td>0.072</td>\n",
              "      <td>0.000000</td>\n",
              "    </tr>\n",
              "    <tr>\n",
              "      <th>(480.152, 598.868]</th>\n",
              "      <td>0.100</td>\n",
              "      <td>0.000000</td>\n",
              "    </tr>\n",
              "  </tbody>\n",
              "</table>\n",
              "</div>"
            ],
            "text/plain": [
              "mobile                        False     True \n",
              "purchased time_on_site                       \n",
              "False     (4.694, 124.004]    0.228  0.313333\n",
              "          (124.004, 242.72]   0.108  0.274667\n",
              "          (242.72, 361.436]   0.136  0.128000\n",
              "          (361.436, 480.152]  0.084  0.000000\n",
              "          (480.152, 598.868]  0.132  0.000000\n",
              "True      (4.694, 124.004]    0.040  0.078667\n",
              "          (124.004, 242.72]   0.048  0.128000\n",
              "          (242.72, 361.436]   0.052  0.077333\n",
              "          (361.436, 480.152]  0.072  0.000000\n",
              "          (480.152, 598.868]  0.100  0.000000"
            ]
          },
          "metadata": {
            "tags": []
          },
          "execution_count": 264
        }
      ]
    },
    {
      "metadata": {
        "id": "s7h0zj7pkYZV",
        "colab_type": "code",
        "outputId": "4a31e20e-7a6e-41de-fd34-5ad7ccb4d76e",
        "colab": {
          "base_uri": "https://localhost:8080/",
          "height": 345
        }
      },
      "cell_type": "code",
      "source": [
        "help(user_data.plot.bar)"
      ],
      "execution_count": 265,
      "outputs": [
        {
          "output_type": "stream",
          "text": [
            "Help on method bar in module pandas.plotting._core:\n",
            "\n",
            "bar(x=None, y=None, **kwds) method of pandas.plotting._core.FramePlotMethods instance\n",
            "    Vertical bar plot\n",
            "    \n",
            "    .. versionadded:: 0.17.0\n",
            "    \n",
            "    Parameters\n",
            "    ----------\n",
            "    x, y : label or position, optional\n",
            "        Coordinates for each point.\n",
            "    **kwds : optional\n",
            "        Keyword arguments to pass on to :py:meth:`pandas.DataFrame.plot`.\n",
            "    \n",
            "    Returns\n",
            "    -------\n",
            "    axes : matplotlib.AxesSubplot or np.array of them\n",
            "\n"
          ],
          "name": "stdout"
        }
      ]
    },
    {
      "metadata": {
        "id": "6O0ac41kkykR",
        "colab_type": "code",
        "outputId": "f3f14227-61c7-453c-a7b5-f5965dc70733",
        "colab": {
          "base_uri": "https://localhost:8080/",
          "height": 373
        }
      },
      "cell_type": "code",
      "source": [
        "user_data.plot.bar()"
      ],
      "execution_count": 266,
      "outputs": [
        {
          "output_type": "execute_result",
          "data": {
            "text/plain": [
              "<matplotlib.axes._subplots.AxesSubplot at 0x7f8daa7f3f28>"
            ]
          },
          "metadata": {
            "tags": []
          },
          "execution_count": 266
        },
        {
          "output_type": "display_data",
          "data": {
            "image/png": "[encoded data removed]",
            "text/plain": [
              "<matplotlib.figure.Figure at 0x7f8daa83fe80>"
            ]
          },
          "metadata": {
            "tags": []
          }
        }
      ]
    },
    {
      "metadata": {
        "id": "SZPa27dFlE8x",
        "colab_type": "code",
        "outputId": "71e66400-55fc-45e4-edeb-6e6233fbe2c4",
        "colab": {
          "base_uri": "https://localhost:8080/",
          "height": 378
        }
      },
      "cell_type": "code",
      "source": [
        "# So we have a working barchart method\n",
        "# Does it just expand our crosstab?\n",
        "ct = pd.crosstab([user_data['purchased'], time_bins], user_data['mobile'],\n",
        "                 normalize='columns')\n",
        "ct"
      ],
      "execution_count": 267,
      "outputs": [
        {
          "output_type": "execute_result",
          "data": {
            "text/html": [
              "<div>\n",
              "<style scoped>\n",
              "    .dataframe tbody tr th:only-of-type {\n",
              "        vertical-align: middle;\n",
              "    }\n",
              "\n",
              "    .dataframe tbody tr th {\n",
              "        vertical-align: top;\n",
              "    }\n",
              "\n",
              "    .dataframe thead th {\n",
              "        text-align: right;\n",
              "    }\n",
              "</style>\n",
              "<table border=\"1\" class=\"dataframe\">\n",
              "  <thead>\n",
              "    <tr style=\"text-align: right;\">\n",
              "      <th></th>\n",
              "      <th>mobile</th>\n",
              "      <th>False</th>\n",
              "      <th>True</th>\n",
              "    </tr>\n",
              "    <tr>\n",
              "      <th>purchased</th>\n",
              "      <th>time_on_site</th>\n",
              "      <th></th>\n",
              "      <th></th>\n",
              "    </tr>\n",
              "  </thead>\n",
              "  <tbody>\n",
              "    <tr>\n",
              "      <th rowspan=\"5\" valign=\"top\">False</th>\n",
              "      <th>(4.694, 124.004]</th>\n",
              "      <td>0.228</td>\n",
              "      <td>0.313333</td>\n",
              "    </tr>\n",
              "    <tr>\n",
              "      <th>(124.004, 242.72]</th>\n",
              "      <td>0.108</td>\n",
              "      <td>0.274667</td>\n",
              "    </tr>\n",
              "    <tr>\n",
              "      <th>(242.72, 361.436]</th>\n",
              "      <td>0.136</td>\n",
              "      <td>0.128000</td>\n",
              "    </tr>\n",
              "    <tr>\n",
              "      <th>(361.436, 480.152]</th>\n",
              "      <td>0.084</td>\n",
              "      <td>0.000000</td>\n",
              "    </tr>\n",
              "    <tr>\n",
              "      <th>(480.152, 598.868]</th>\n",
              "      <td>0.132</td>\n",
              "      <td>0.000000</td>\n",
              "    </tr>\n",
              "    <tr>\n",
              "      <th rowspan=\"5\" valign=\"top\">True</th>\n",
              "      <th>(4.694, 124.004]</th>\n",
              "      <td>0.040</td>\n",
              "      <td>0.078667</td>\n",
              "    </tr>\n",
              "    <tr>\n",
              "      <th>(124.004, 242.72]</th>\n",
              "      <td>0.048</td>\n",
              "      <td>0.128000</td>\n",
              "    </tr>\n",
              "    <tr>\n",
              "      <th>(242.72, 361.436]</th>\n",
              "      <td>0.052</td>\n",
              "      <td>0.077333</td>\n",
              "    </tr>\n",
              "    <tr>\n",
              "      <th>(361.436, 480.152]</th>\n",
              "      <td>0.072</td>\n",
              "      <td>0.000000</td>\n",
              "    </tr>\n",
              "    <tr>\n",
              "      <th>(480.152, 598.868]</th>\n",
              "      <td>0.100</td>\n",
              "      <td>0.000000</td>\n",
              "    </tr>\n",
              "  </tbody>\n",
              "</table>\n",
              "</div>"
            ],
            "text/plain": [
              "mobile                        False     True \n",
              "purchased time_on_site                       \n",
              "False     (4.694, 124.004]    0.228  0.313333\n",
              "          (124.004, 242.72]   0.108  0.274667\n",
              "          (242.72, 361.436]   0.136  0.128000\n",
              "          (361.436, 480.152]  0.084  0.000000\n",
              "          (480.152, 598.868]  0.132  0.000000\n",
              "True      (4.694, 124.004]    0.040  0.078667\n",
              "          (124.004, 242.72]   0.048  0.128000\n",
              "          (242.72, 361.436]   0.052  0.077333\n",
              "          (361.436, 480.152]  0.072  0.000000\n",
              "          (480.152, 598.868]  0.100  0.000000"
            ]
          },
          "metadata": {
            "tags": []
          },
          "execution_count": 267
        }
      ]
    },
    {
      "metadata": {
        "id": "FrbCGVJslxU9",
        "colab_type": "code",
        "outputId": "690fe224-3425-4cc4-900f-6fec96c2c247",
        "colab": {
          "base_uri": "https://localhost:8080/",
          "height": 8272
        }
      },
      "cell_type": "code",
      "source": [
        "dir(ct)"
      ],
      "execution_count": 268,
      "outputs": [
        {
          "output_type": "execute_result",
          "data": {
            "text/plain": [
              "['T',\n",
              " '_AXIS_ALIASES',\n",
              " '_AXIS_IALIASES',\n",
              " '_AXIS_LEN',\n",
              " '_AXIS_NAMES',\n",
              " '_AXIS_NUMBERS',\n",
              " '_AXIS_ORDERS',\n",
              " '_AXIS_REVERSED',\n",
              " '_AXIS_SLICEMAP',\n",
              " '__abs__',\n",
              " '__add__',\n",
              " '__and__',\n",
              " '__array__',\n",
              " '__array_wrap__',\n",
              " '__bool__',\n",
              " '__bytes__',\n",
              " '__class__',\n",
              " '__contains__',\n",
              " '__copy__',\n",
              " '__deepcopy__',\n",
              " '__delattr__',\n",
              " '__delitem__',\n",
              " '__dict__',\n",
              " '__dir__',\n",
              " '__div__',\n",
              " '__doc__',\n",
              " '__eq__',\n",
              " '__finalize__',\n",
              " '__floordiv__',\n",
              " '__format__',\n",
              " '__ge__',\n",
              " '__getattr__',\n",
              " '__getattribute__',\n",
              " '__getitem__',\n",
              " '__getstate__',\n",
              " '__gt__',\n",
              " '__hash__',\n",
              " '__iadd__',\n",
              " '__iand__',\n",
              " '__ifloordiv__',\n",
              " '__imod__',\n",
              " '__imul__',\n",
              " '__init__',\n",
              " '__init_subclass__',\n",
              " '__invert__',\n",
              " '__ior__',\n",
              " '__ipow__',\n",
              " '__isub__',\n",
              " '__iter__',\n",
              " '__itruediv__',\n",
              " '__ixor__',\n",
              " '__le__',\n",
              " '__len__',\n",
              " '__lt__',\n",
              " '__mod__',\n",
              " '__module__',\n",
              " '__mul__',\n",
              " '__ne__',\n",
              " '__neg__',\n",
              " '__new__',\n",
              " '__nonzero__',\n",
              " '__or__',\n",
              " '__pow__',\n",
              " '__radd__',\n",
              " '__rand__',\n",
              " '__rdiv__',\n",
              " '__reduce__',\n",
              " '__reduce_ex__',\n",
              " '__repr__',\n",
              " '__rfloordiv__',\n",
              " '__rmod__',\n",
              " '__rmul__',\n",
              " '__ror__',\n",
              " '__round__',\n",
              " '__rpow__',\n",
              " '__rsub__',\n",
              " '__rtruediv__',\n",
              " '__rxor__',\n",
              " '__setattr__',\n",
              " '__setitem__',\n",
              " '__setstate__',\n",
              " '__sizeof__',\n",
              " '__str__',\n",
              " '__sub__',\n",
              " '__subclasshook__',\n",
              " '__truediv__',\n",
              " '__unicode__',\n",
              " '__weakref__',\n",
              " '__xor__',\n",
              " '_accessors',\n",
              " '_add_numeric_operations',\n",
              " '_add_series_only_operations',\n",
              " '_add_series_or_dataframe_operations',\n",
              " '_agg_by_level',\n",
              " '_agg_doc',\n",
              " '_aggregate',\n",
              " '_aggregate_multiple_funcs',\n",
              " '_align_frame',\n",
              " '_align_series',\n",
              " '_apply_broadcast',\n",
              " '_apply_empty_result',\n",
              " '_apply_raw',\n",
              " '_apply_standard',\n",
              " '_at',\n",
              " '_box_col_values',\n",
              " '_box_item_values',\n",
              " '_builtin_table',\n",
              " '_check_inplace_setting',\n",
              " '_check_is_chained_assignment_possible',\n",
              " '_check_percentile',\n",
              " '_check_setitem_copy',\n",
              " '_clear_item_cache',\n",
              " '_clip_with_one_bound',\n",
              " '_clip_with_scalar',\n",
              " '_combine_const',\n",
              " '_combine_frame',\n",
              " '_combine_match_columns',\n",
              " '_combine_match_index',\n",
              " '_combine_series',\n",
              " '_combine_series_infer',\n",
              " '_compare_frame',\n",
              " '_compare_frame_evaluate',\n",
              " '_consolidate',\n",
              " '_consolidate_inplace',\n",
              " '_construct_axes_dict',\n",
              " '_construct_axes_dict_for_slice',\n",
              " '_construct_axes_dict_from',\n",
              " '_construct_axes_from_arguments',\n",
              " '_constructor',\n",
              " '_constructor_expanddim',\n",
              " '_constructor_sliced',\n",
              " '_convert',\n",
              " '_count_level',\n",
              " '_create_indexer',\n",
              " '_cython_table',\n",
              " '_deprecations',\n",
              " '_dir_additions',\n",
              " '_dir_deletions',\n",
              " '_drop_axis',\n",
              " '_ensure_valid_index',\n",
              " '_expand_axes',\n",
              " '_flex_compare_frame',\n",
              " '_from_arrays',\n",
              " '_from_axes',\n",
              " '_get_agg_axis',\n",
              " '_get_axis',\n",
              " '_get_axis_name',\n",
              " '_get_axis_number',\n",
              " '_get_axis_resolvers',\n",
              " '_get_block_manager_axis',\n",
              " '_get_bool_data',\n",
              " '_get_cacher',\n",
              " '_get_index_resolvers',\n",
              " '_get_item_cache',\n",
              " '_get_numeric_data',\n",
              " '_get_valid_indices',\n",
              " '_get_value',\n",
              " '_get_values',\n",
              " '_getitem_array',\n",
              " '_getitem_column',\n",
              " '_getitem_frame',\n",
              " '_getitem_multilevel',\n",
              " '_getitem_slice',\n",
              " '_gotitem',\n",
              " '_iat',\n",
              " '_iget_item_cache',\n",
              " '_iloc',\n",
              " '_indexed_same',\n",
              " '_info_axis',\n",
              " '_info_axis_name',\n",
              " '_info_axis_number',\n",
              " '_info_repr',\n",
              " '_init_dict',\n",
              " '_init_mgr',\n",
              " '_init_ndarray',\n",
              " '_internal_names',\n",
              " '_internal_names_set',\n",
              " '_is_builtin_func',\n",
              " '_is_cached',\n",
              " '_is_cython_func',\n",
              " '_is_datelike_mixed_type',\n",
              " '_is_mixed_type',\n",
              " '_is_numeric_mixed_type',\n",
              " '_is_view',\n",
              " '_ix',\n",
              " '_ixs',\n",
              " '_join_compat',\n",
              " '_loc',\n",
              " '_maybe_cache_changed',\n",
              " '_maybe_update_cacher',\n",
              " '_metadata',\n",
              " '_needs_reindex_multi',\n",
              " '_obj_with_exclusions',\n",
              " '_protect_consolidate',\n",
              " '_reduce',\n",
              " '_reindex_axes',\n",
              " '_reindex_axis',\n",
              " '_reindex_columns',\n",
              " '_reindex_index',\n",
              " '_reindex_multi',\n",
              " '_reindex_with_indexers',\n",
              " '_repr_data_resource_',\n",
              " '_repr_fits_horizontal_',\n",
              " '_repr_fits_vertical_',\n",
              " '_repr_html_',\n",
              " '_repr_latex_',\n",
              " '_reset_cache',\n",
              " '_reset_cacher',\n",
              " '_sanitize_column',\n",
              " '_selected_obj',\n",
              " '_selection',\n",
              " '_selection_list',\n",
              " '_selection_name',\n",
              " '_series',\n",
              " '_set_as_cached',\n",
              " '_set_axis',\n",
              " '_set_axis_name',\n",
              " '_set_is_copy',\n",
              " '_set_item',\n",
              " '_set_value',\n",
              " '_setitem_array',\n",
              " '_setitem_frame',\n",
              " '_setitem_slice',\n",
              " '_setup_axes',\n",
              " '_shallow_copy',\n",
              " '_slice',\n",
              " '_stat_axis',\n",
              " '_stat_axis_name',\n",
              " '_stat_axis_number',\n",
              " '_take',\n",
              " '_to_dict_of_blocks',\n",
              " '_try_aggregate_string_function',\n",
              " '_typ',\n",
              " '_unpickle_frame_compat',\n",
              " '_unpickle_matrix_compat',\n",
              " '_update_inplace',\n",
              " '_validate_dtype',\n",
              " '_values',\n",
              " '_where',\n",
              " '_xs',\n",
              " 'abs',\n",
              " 'add',\n",
              " 'add_prefix',\n",
              " 'add_suffix',\n",
              " 'agg',\n",
              " 'aggregate',\n",
              " 'align',\n",
              " 'all',\n",
              " 'any',\n",
              " 'append',\n",
              " 'apply',\n",
              " 'applymap',\n",
              " 'as_matrix',\n",
              " 'asfreq',\n",
              " 'asof',\n",
              " 'assign',\n",
              " 'astype',\n",
              " 'at',\n",
              " 'at_time',\n",
              " 'axes',\n",
              " 'between_time',\n",
              " 'bfill',\n",
              " 'bool',\n",
              " 'boxplot',\n",
              " 'clip',\n",
              " 'clip_lower',\n",
              " 'clip_upper',\n",
              " 'columns',\n",
              " 'combine',\n",
              " 'combine_first',\n",
              " 'compound',\n",
              " 'copy',\n",
              " 'corr',\n",
              " 'corrwith',\n",
              " 'count',\n",
              " 'cov',\n",
              " 'cummax',\n",
              " 'cummin',\n",
              " 'cumprod',\n",
              " 'cumsum',\n",
              " 'describe',\n",
              " 'diff',\n",
              " 'div',\n",
              " 'divide',\n",
              " 'dot',\n",
              " 'drop',\n",
              " 'drop_duplicates',\n",
              " 'dropna',\n",
              " 'dtypes',\n",
              " 'duplicated',\n",
              " 'empty',\n",
              " 'eq',\n",
              " 'equals',\n",
              " 'eval',\n",
              " 'ewm',\n",
              " 'expanding',\n",
              " 'ffill',\n",
              " 'fillna',\n",
              " 'filter',\n",
              " 'first',\n",
              " 'first_valid_index',\n",
              " 'floordiv',\n",
              " 'from_dict',\n",
              " 'from_items',\n",
              " 'from_records',\n",
              " 'ftypes',\n",
              " 'ge',\n",
              " 'get',\n",
              " 'get_dtype_counts',\n",
              " 'get_ftype_counts',\n",
              " 'get_values',\n",
              " 'groupby',\n",
              " 'gt',\n",
              " 'head',\n",
              " 'hist',\n",
              " 'iat',\n",
              " 'idxmax',\n",
              " 'idxmin',\n",
              " 'iloc',\n",
              " 'index',\n",
              " 'infer_objects',\n",
              " 'info',\n",
              " 'insert',\n",
              " 'interpolate',\n",
              " 'is_copy',\n",
              " 'isin',\n",
              " 'isna',\n",
              " 'isnull',\n",
              " 'items',\n",
              " 'iteritems',\n",
              " 'iterrows',\n",
              " 'itertuples',\n",
              " 'ix',\n",
              " 'join',\n",
              " 'keys',\n",
              " 'kurt',\n",
              " 'kurtosis',\n",
              " 'last',\n",
              " 'last_valid_index',\n",
              " 'le',\n",
              " 'loc',\n",
              " 'lookup',\n",
              " 'lt',\n",
              " 'mad',\n",
              " 'mask',\n",
              " 'max',\n",
              " 'mean',\n",
              " 'median',\n",
              " 'melt',\n",
              " 'memory_usage',\n",
              " 'merge',\n",
              " 'min',\n",
              " 'mod',\n",
              " 'mode',\n",
              " 'mul',\n",
              " 'multiply',\n",
              " 'ndim',\n",
              " 'ne',\n",
              " 'nlargest',\n",
              " 'notna',\n",
              " 'notnull',\n",
              " 'nsmallest',\n",
              " 'nunique',\n",
              " 'pct_change',\n",
              " 'pipe',\n",
              " 'pivot',\n",
              " 'pivot_table',\n",
              " 'plot',\n",
              " 'pop',\n",
              " 'pow',\n",
              " 'prod',\n",
              " 'product',\n",
              " 'quantile',\n",
              " 'query',\n",
              " 'radd',\n",
              " 'rank',\n",
              " 'rdiv',\n",
              " 'reindex',\n",
              " 'reindex_axis',\n",
              " 'reindex_like',\n",
              " 'rename',\n",
              " 'rename_axis',\n",
              " 'reorder_levels',\n",
              " 'replace',\n",
              " 'resample',\n",
              " 'reset_index',\n",
              " 'rfloordiv',\n",
              " 'rmod',\n",
              " 'rmul',\n",
              " 'rolling',\n",
              " 'round',\n",
              " 'rpow',\n",
              " 'rsub',\n",
              " 'rtruediv',\n",
              " 'sample',\n",
              " 'select',\n",
              " 'select_dtypes',\n",
              " 'sem',\n",
              " 'set_axis',\n",
              " 'set_index',\n",
              " 'shape',\n",
              " 'shift',\n",
              " 'size',\n",
              " 'skew',\n",
              " 'slice_shift',\n",
              " 'sort_index',\n",
              " 'sort_values',\n",
              " 'squeeze',\n",
              " 'stack',\n",
              " 'std',\n",
              " 'style',\n",
              " 'sub',\n",
              " 'subtract',\n",
              " 'sum',\n",
              " 'swapaxes',\n",
              " 'swaplevel',\n",
              " 'tail',\n",
              " 'take',\n",
              " 'to_clipboard',\n",
              " 'to_csv',\n",
              " 'to_dense',\n",
              " 'to_dict',\n",
              " 'to_excel',\n",
              " 'to_feather',\n",
              " 'to_gbq',\n",
              " 'to_hdf',\n",
              " 'to_html',\n",
              " 'to_json',\n",
              " 'to_latex',\n",
              " 'to_msgpack',\n",
              " 'to_panel',\n",
              " 'to_parquet',\n",
              " 'to_period',\n",
              " 'to_pickle',\n",
              " 'to_records',\n",
              " 'to_sparse',\n",
              " 'to_sql',\n",
              " 'to_stata',\n",
              " 'to_string',\n",
              " 'to_timestamp',\n",
              " 'to_xarray',\n",
              " 'transform',\n",
              " 'transpose',\n",
              " 'truediv',\n",
              " 'truncate',\n",
              " 'tshift',\n",
              " 'tz_convert',\n",
              " 'tz_localize',\n",
              " 'unstack',\n",
              " 'update',\n",
              " 'values',\n",
              " 'var',\n",
              " 'where',\n",
              " 'xs']"
            ]
          },
          "metadata": {
            "tags": []
          },
          "execution_count": 268
        }
      ]
    },
    {
      "metadata": {
        "id": "q_Jk05m-l8pK",
        "colab_type": "code",
        "outputId": "905833fa-27d0-4a41-b015-adc3c4a8b583",
        "colab": {
          "base_uri": "https://localhost:8080/",
          "height": 491
        }
      },
      "cell_type": "code",
      "source": [
        "ct.plot(kind='bar', stacked=True)"
      ],
      "execution_count": 269,
      "outputs": [
        {
          "output_type": "execute_result",
          "data": {
            "text/plain": [
              "<matplotlib.axes._subplots.AxesSubplot at 0x7f8daa940198>"
            ]
          },
          "metadata": {
            "tags": []
          },
          "execution_count": 269
        },
        {
          "output_type": "display_data",
          "data": {
            "image/png": "[encoded data removed]",
            "text/plain": [
              "<matplotlib.figure.Figure at 0x7f8daa8f8080>"
            ]
          },
          "metadata": {
            "tags": []
          }
        }
      ]
    },
    {
      "metadata": {
        "id": "pS4SsAySmJ4J",
        "colab_type": "code",
        "outputId": "646141e3-7335-402d-8e19-254b5b483ba5",
        "colab": {
          "base_uri": "https://localhost:8080/",
          "height": 436
        }
      },
      "cell_type": "code",
      "source": [
        "# Courtesy of A\n",
        "pd.crosstab(time_bins, [user_data['purchased'], user_data['mobile']],\n",
        "            normalize='columns').plot(kind = 'bar', stacked = False);"
      ],
      "execution_count": 270,
      "outputs": [
        {
          "output_type": "display_data",
          "data": {
            "image/png": "[encoded data removed]",
            "text/plain": [
              "<matplotlib.figure.Figure at 0x7f8daaa76e10>"
            ]
          },
          "metadata": {
            "tags": []
          }
        }
      ]
    },
    {
      "metadata": {
        "id": "2Sn5TxLXqMFp",
        "colab_type": "code",
        "outputId": "6b307469-2333-428d-e5cf-d45dbe44e597",
        "colab": {
          "base_uri": "https://localhost:8080/",
          "height": 375
        }
      },
      "cell_type": "code",
      "source": [
        "# Starting point for mobile/desktop stacked barcharts\n",
        "# Probably want to redo with fewer time-bins\n",
        "pd.crosstab(user_data['mobile'], [user_data['purchased'], time_bins],\n",
        "            normalize='columns').plot(kind = 'bar', stacked = True);"
      ],
      "execution_count": 271,
      "outputs": [
        {
          "output_type": "display_data",
          "data": {
            "image/png": "[encoded data removed]",
            "text/plain": [
              "<matplotlib.figure.Figure at 0x7f8da91ba5c0>"
            ]
          },
          "metadata": {
            "tags": []
          }
        }
      ]
    },
    {
      "metadata": {
        "id": "7Z54lKEnrA04",
        "colab_type": "code",
        "outputId": "a1f8ef55-0e50-4953-e40c-08c6a74890fd",
        "colab": {
          "base_uri": "https://localhost:8080/",
          "height": 35
        }
      },
      "cell_type": "code",
      "source": [
        "'scatter' in dir(ct.plot)"
      ],
      "execution_count": 272,
      "outputs": [
        {
          "output_type": "execute_result",
          "data": {
            "text/plain": [
              "True"
            ]
          },
          "metadata": {
            "tags": []
          },
          "execution_count": 272
        }
      ]
    },
    {
      "metadata": {
        "id": "a3y2lP-XrHct",
        "colab_type": "code",
        "colab": {}
      },
      "cell_type": "code",
      "source": [
        "grouped_data = user_data['mobile'].groupby(user_data['purchased'])"
      ],
      "execution_count": 0,
      "outputs": []
    },
    {
      "metadata": {
        "id": "3q4ClQGOrWa4",
        "colab_type": "code",
        "outputId": "d80159f4-98cd-4622-af10-d1d23a188372",
        "colab": {
          "base_uri": "https://localhost:8080/",
          "height": 2726
        }
      },
      "cell_type": "code",
      "source": [
        "dir(grouped_data)"
      ],
      "execution_count": 274,
      "outputs": [
        {
          "output_type": "execute_result",
          "data": {
            "text/plain": [
              "['__bytes__',\n",
              " '__class__',\n",
              " '__delattr__',\n",
              " '__dict__',\n",
              " '__dir__',\n",
              " '__doc__',\n",
              " '__eq__',\n",
              " '__format__',\n",
              " '__ge__',\n",
              " '__getattr__',\n",
              " '__getattribute__',\n",
              " '__getitem__',\n",
              " '__gt__',\n",
              " '__hash__',\n",
              " '__init__',\n",
              " '__init_subclass__',\n",
              " '__iter__',\n",
              " '__le__',\n",
              " '__len__',\n",
              " '__lt__',\n",
              " '__module__',\n",
              " '__ne__',\n",
              " '__new__',\n",
              " '__reduce__',\n",
              " '__reduce_ex__',\n",
              " '__repr__',\n",
              " '__setattr__',\n",
              " '__sizeof__',\n",
              " '__str__',\n",
              " '__subclasshook__',\n",
              " '__unicode__',\n",
              " '__weakref__',\n",
              " '_accessors',\n",
              " '_add_numeric_operations',\n",
              " '_agg_doc',\n",
              " '_aggregate',\n",
              " '_aggregate_multiple_funcs',\n",
              " '_aggregate_named',\n",
              " '_apply_filter',\n",
              " '_apply_to_column_groupbys',\n",
              " '_apply_whitelist',\n",
              " '_assure_grouper',\n",
              " '_builtin_table',\n",
              " '_concat_objects',\n",
              " '_constructor',\n",
              " '_cumcount_array',\n",
              " '_cython_agg_general',\n",
              " '_cython_table',\n",
              " '_cython_transform',\n",
              " '_def_str',\n",
              " '_deprecations',\n",
              " '_dir_additions',\n",
              " '_dir_deletions',\n",
              " '_get_index',\n",
              " '_get_indices',\n",
              " '_gotitem',\n",
              " '_group_selection',\n",
              " '_index_with_as_index',\n",
              " '_internal_names',\n",
              " '_internal_names_set',\n",
              " '_is_builtin_func',\n",
              " '_is_cython_func',\n",
              " '_iterate_slices',\n",
              " '_make_wrapper',\n",
              " '_obj_with_exclusions',\n",
              " '_python_agg_general',\n",
              " '_python_apply_general',\n",
              " '_reset_cache',\n",
              " '_reset_group_selection',\n",
              " '_selected_obj',\n",
              " '_selection',\n",
              " '_selection_list',\n",
              " '_selection_name',\n",
              " '_set_group_selection',\n",
              " '_set_result_index_ordered',\n",
              " '_shallow_copy',\n",
              " '_transform_fast',\n",
              " '_try_aggregate_string_function',\n",
              " '_try_cast',\n",
              " '_wrap_aggregated_output',\n",
              " '_wrap_applied_output',\n",
              " '_wrap_output',\n",
              " '_wrap_transformed_output',\n",
              " 'agg',\n",
              " 'aggregate',\n",
              " 'all',\n",
              " 'any',\n",
              " 'apply',\n",
              " 'backfill',\n",
              " 'bfill',\n",
              " 'corr',\n",
              " 'count',\n",
              " 'cov',\n",
              " 'cumcount',\n",
              " 'cummax',\n",
              " 'cummin',\n",
              " 'cumprod',\n",
              " 'cumsum',\n",
              " 'describe',\n",
              " 'diff',\n",
              " 'dtype',\n",
              " 'expanding',\n",
              " 'ffill',\n",
              " 'fillna',\n",
              " 'filter',\n",
              " 'first',\n",
              " 'get_group',\n",
              " 'groups',\n",
              " 'head',\n",
              " 'hist',\n",
              " 'idxmax',\n",
              " 'idxmin',\n",
              " 'indices',\n",
              " 'last',\n",
              " 'mad',\n",
              " 'max',\n",
              " 'mean',\n",
              " 'median',\n",
              " 'min',\n",
              " 'ndim',\n",
              " 'ngroup',\n",
              " 'ngroups',\n",
              " 'nlargest',\n",
              " 'nsmallest',\n",
              " 'nth',\n",
              " 'nunique',\n",
              " 'ohlc',\n",
              " 'pad',\n",
              " 'pct_change',\n",
              " 'pipe',\n",
              " 'plot',\n",
              " 'prod',\n",
              " 'quantile',\n",
              " 'rank',\n",
              " 'resample',\n",
              " 'rolling',\n",
              " 'sem',\n",
              " 'shift',\n",
              " 'size',\n",
              " 'skew',\n",
              " 'std',\n",
              " 'sum',\n",
              " 'tail',\n",
              " 'take',\n",
              " 'transform',\n",
              " 'tshift',\n",
              " 'unique',\n",
              " 'value_counts',\n",
              " 'var']"
            ]
          },
          "metadata": {
            "tags": []
          },
          "execution_count": 274
        }
      ]
    },
    {
      "metadata": {
        "id": "450B-o9urk6a",
        "colab_type": "code",
        "colab": {}
      },
      "cell_type": "code",
      "source": [
        "# TODO continue exploring grouped_data, grouped_data.plot, etc."
      ],
      "execution_count": 0,
      "outputs": []
    },
    {
      "metadata": {
        "id": "nOwQwvEsmXkw",
        "colab_type": "code",
        "outputId": "b365257f-b8ae-4e14-ab20-11301b8bf1e2",
        "colab": {
          "base_uri": "https://localhost:8080/",
          "height": 217
        }
      },
      "cell_type": "code",
      "source": [
        "[x for x in dir(ct) if 'add' in x]  # Courtesy of Ryan Herr"
      ],
      "execution_count": 276,
      "outputs": [
        {
          "output_type": "execute_result",
          "data": {
            "text/plain": [
              "['__add__',\n",
              " '__iadd__',\n",
              " '__radd__',\n",
              " '_add_numeric_operations',\n",
              " '_add_series_only_operations',\n",
              " '_add_series_or_dataframe_operations',\n",
              " '_dir_additions',\n",
              " 'add',\n",
              " 'add_prefix',\n",
              " 'add_suffix',\n",
              " 'radd']"
            ]
          },
          "metadata": {
            "tags": []
          },
          "execution_count": 276
        }
      ]
    },
    {
      "metadata": {
        "id": "pF3by6aEm5T-",
        "colab_type": "code",
        "outputId": "ea7ffb0a-05f9-4484-be1f-4e493b51f4ee",
        "colab": {
          "base_uri": "https://localhost:8080/",
          "height": 35
        }
      },
      "cell_type": "code",
      "source": [
        "ct_props = dir(ct)\n",
        "'add' in ct_props"
      ],
      "execution_count": 277,
      "outputs": [
        {
          "output_type": "execute_result",
          "data": {
            "text/plain": [
              "True"
            ]
          },
          "metadata": {
            "tags": []
          },
          "execution_count": 277
        }
      ]
    },
    {
      "metadata": {
        "id": "APyKMGrMokh8",
        "colab_type": "code",
        "outputId": "33a66f0b-c1c8-4307-a04c-10f5a812a103",
        "colab": {
          "base_uri": "https://localhost:8080/",
          "height": 365
        }
      },
      "cell_type": "code",
      "source": [
        "ct.boxplot()"
      ],
      "execution_count": 278,
      "outputs": [
        {
          "output_type": "execute_result",
          "data": {
            "text/plain": [
              "<matplotlib.axes._subplots.AxesSubplot at 0x7f8da93cd0f0>"
            ]
          },
          "metadata": {
            "tags": []
          },
          "execution_count": 278
        },
        {
          "output_type": "display_data",
          "data": {
            "image/png": "[encoded data removed]",
            "text/plain": [
              "<matplotlib.figure.Figure at 0x7f8da90db908>"
            ]
          },
          "metadata": {
            "tags": []
          }
        }
      ]
    },
    {
      "metadata": {
        "id": "63g2hLrTeBgH",
        "colab_type": "code",
        "outputId": "3b56d539-865e-4623-a8d2-364642010a42",
        "colab": {
          "base_uri": "https://localhost:8080/",
          "height": 108
        }
      },
      "cell_type": "code",
      "source": [
        "!apt install r-base"
      ],
      "execution_count": 279,
      "outputs": [
        {
          "output_type": "stream",
          "text": [
            "Reading package lists... Done\n",
            "Building dependency tree       \n",
            "Reading state information... Done\n",
            "r-base is already the newest version (3.4.4-1ubuntu1).\n",
            "0 upgraded, 0 newly installed, 0 to remove and 5 not upgraded.\n"
          ],
          "name": "stdout"
        }
      ]
    },
    {
      "metadata": {
        "id": "kTAxEHXFeOxA",
        "colab_type": "code",
        "outputId": "6ac20e42-9773-4a76-ac9b-f04660072ddf",
        "colab": {
          "base_uri": "https://localhost:8080/",
          "height": 199
        }
      },
      "cell_type": "code",
      "source": [
        "!R --version"
      ],
      "execution_count": 280,
      "outputs": [
        {
          "output_type": "stream",
          "text": [
            "R version 3.4.4 (2018-03-15) -- \"Someone to Lean On\"\n",
            "Copyright (C) 2018 The R Foundation for Statistical Computing\n",
            "Platform: x86_64-pc-linux-gnu (64-bit)\n",
            "\n",
            "R is free software and comes with ABSOLUTELY NO WARRANTY.\n",
            "You are welcome to redistribute it under the terms of the\n",
            "GNU General Public License versions 2 or 3.\n",
            "For more information about these matters see\n",
            "http://www.gnu.org/licenses/.\n",
            "\n"
          ],
          "name": "stdout"
        }
      ]
    },
    {
      "metadata": {
        "id": "HVQsGW3GeMn-",
        "colab_type": "code",
        "outputId": "e714cf3b-c579-44f2-a7be-a1d28041d662",
        "colab": {
          "base_uri": "https://localhost:8080/",
          "height": 110
        }
      },
      "cell_type": "code",
      "source": [
        "!pip install rpy2"
      ],
      "execution_count": 281,
      "outputs": [
        {
          "output_type": "stream",
          "text": [
            "Requirement already satisfied: rpy2 in /usr/local/lib/python3.6/dist-packages (2.9.4)\n",
            "Requirement already satisfied: six in /usr/local/lib/python3.6/dist-packages (from rpy2) (1.11.0)\n",
            "Requirement already satisfied: jinja2 in /usr/local/lib/python3.6/dist-packages (from rpy2) (2.10)\n",
            "Requirement already satisfied: MarkupSafe>=0.23 in /usr/local/lib/python3.6/dist-packages (from jinja2->rpy2) (1.1.0)\n"
          ],
          "name": "stdout"
        }
      ]
    },
    {
      "metadata": {
        "id": "m9klpr8JglcV",
        "colab_type": "code",
        "outputId": "07ce1823-2119-42a8-8749-ad360658a3f9",
        "colab": {
          "base_uri": "https://localhost:8080/",
          "height": 365
        }
      },
      "cell_type": "code",
      "source": [
        "# Download the data\n",
        "data_url = 'https://github.com/lockedata/datasauRus/raw/master/data/simpsons_paradox.rda'\n",
        "\n",
        "!wget $data_url\n",
        "!ls"
      ],
      "execution_count": 282,
      "outputs": [
        {
          "output_type": "stream",
          "text": [
            "--2018-11-09 01:45:29--  https://github.com/lockedata/datasauRus/raw/master/data/simpsons_paradox.rda\n",
            "Resolving github.com (github.com)... 192.30.253.112, 192.30.253.113\n",
            "Connecting to github.com (github.com)|192.30.253.112|:443... connected.\n",
            "HTTP request sent, awaiting response... 302 Found\n",
            "Location: https://raw.githubusercontent.com/lockedata/datasauRus/master/data/simpsons_paradox.rda [following]\n",
            "--2018-11-09 01:45:29--  https://raw.githubusercontent.com/lockedata/datasauRus/master/data/simpsons_paradox.rda\n",
            "Resolving raw.githubusercontent.com (raw.githubusercontent.com)... 151.101.0.133, 151.101.64.133, 151.101.128.133, ...\n",
            "Connecting to raw.githubusercontent.com (raw.githubusercontent.com)|151.101.0.133|:443... connected.\n",
            "HTTP request sent, awaiting response... 200 OK\n",
            "Length: 7090 (6.9K) [application/octet-stream]\n",
            "Saving to: ‘simpsons_paradox.rda.2’\n",
            "\n",
            "simpsons_paradox.rd 100%[===================>]   6.92K  --.-KB/s    in 0s      \n",
            "\n",
            "2018-11-09 01:45:29 (73.4 MB/s) - ‘simpsons_paradox.rda.2’ saved [7090/7090]\n",
            "\n",
            "sample_data\t      simpsons_paradox.rda.1\n",
            "simpsons_paradox.rda  simpsons_paradox.rda.2\n"
          ],
          "name": "stdout"
        }
      ]
    },
    {
      "metadata": {
        "id": "t4VNA6Aghapr",
        "colab_type": "code",
        "outputId": "ced01673-a9b4-4def-9c00-9e31d1ca88f1",
        "colab": {
          "base_uri": "https://localhost:8080/",
          "height": 74
        }
      },
      "cell_type": "code",
      "source": [
        "!pip install tzlocal"
      ],
      "execution_count": 283,
      "outputs": [
        {
          "output_type": "stream",
          "text": [
            "Requirement already satisfied: tzlocal in /usr/local/lib/python3.6/dist-packages (1.5.1)\n",
            "Requirement already satisfied: pytz in /usr/local/lib/python3.6/dist-packages (from tzlocal) (2018.7)\n"
          ],
          "name": "stdout"
        }
      ]
    },
    {
      "metadata": {
        "id": "YoYUaqfWdzjb",
        "colab_type": "code",
        "outputId": "bb1ed4b6-f616-41cd-a22e-9802ecdb1698",
        "colab": {
          "base_uri": "https://localhost:8080/",
          "height": 54
        }
      },
      "cell_type": "code",
      "source": [
        "# Trying to load R data in Python\n",
        "# https://itsalocke.com/datasaurus/reference/simpsons_paradox\n",
        "# https://stackoverflow.com/questions/40160149/reading-rda-file-in-python-as-a-pandas-data-frame#40161783\n",
        "\n",
        "import rpy2.robjects as robjects\n",
        "from rpy2.robjects import default_converter\n",
        "from rpy2.robjects import pandas2ri\n",
        "from rpy2.robjects.conversion import localconverter\n",
        "pandas2ri.activate()\n",
        "\n",
        "# load your file\n",
        "robjects.r['load']('simpsons_paradox.rda')\n",
        "\n",
        "# use the default conversion rules to which the pandas conversion\n",
        "# is added\n",
        "with localconverter(default_converter + pandas2ri.converter) as cv:\n",
        "    df = robjects.r[\"data\"]\n",
        "\n",
        "matrix = robjects.r['data']\n",
        "\n",
        "matrix"
      ],
      "execution_count": 284,
      "outputs": [
        {
          "output_type": "execute_result",
          "data": {
            "text/plain": [
              "R object with classes: ('function',) mapped to:\n",
              "<SignatureTranslatedFunction - Python:0x7f8da948d508 / R:0x7f7ad48>"
            ]
          },
          "metadata": {
            "tags": []
          },
          "execution_count": 284
        }
      ]
    },
    {
      "metadata": {
        "id": "rJznsoSkiISQ",
        "colab_type": "code",
        "colab": {}
      },
      "cell_type": "code",
      "source": [
        "thing = df()"
      ],
      "execution_count": 0,
      "outputs": []
    },
    {
      "metadata": {
        "id": "rDWmxMmdiLpd",
        "colab_type": "code",
        "outputId": "3cccb072-a575-4453-adda-d74501fbeb9b",
        "colab": {
          "base_uri": "https://localhost:8080/",
          "height": 219
        }
      },
      "cell_type": "code",
      "source": [
        "for item in thing.items():\n",
        "  print(item)"
      ],
      "execution_count": 286,
      "outputs": [
        {
          "output_type": "stream",
          "text": [
            "('title', R object with classes: ('character',) mapped to:\n",
            "<StrVector - Python:0x7f8da8810c08 / R:0x7f9f8f8>\n",
            "['Data sets'])\n",
            "('header', rpy2.rinterface.NULL)\n",
            "('results', R object with classes: ('matrix',) mapped to:\n",
            "<Matrix - Python:0x7f8da88106c8 / R:0x66f3000>\n",
            "['datasets', 'datasets', 'datasets', 'datasets', ..., 'Populati..., \"Topograp..., 'The Numb..., 'Average ...])\n",
            "('footer', R object with classes: ('character',) mapped to:\n",
            "<StrVector - Python:0x7f8da88105c8 / R:0x7a07e98>\n",
            "['Use ‘data(package = .packages(all.available = TR...])\n"
          ],
          "name": "stdout"
        }
      ]
    },
    {
      "metadata": {
        "id": "lOqaPds9huME",
        "colab_type": "text"
      },
      "cell_type": "markdown",
      "source": [
        "## Assignment - what's going on here?\n",
        "\n",
        "Consider the data in `persons.csv` (already prepared for you, in the repo for the week). It has four columns - a unique id, followed by age (in years), weight (in lbs), and exercise time (in minutes/week) of 1200 (hypothetical) people.\n",
        "\n",
        "Try to figure out which variables are possibly related to each other, and which may be confounding relationships."
      ]
    },
    {
      "metadata": {
        "id": "TGUS79cOhPWj",
        "colab_type": "code",
        "colab": {
          "base_uri": "https://localhost:8080/",
          "height": 198
        },
        "outputId": "857f365c-02fa-433c-e9b6-8a414e534256"
      },
      "cell_type": "code",
      "source": [
        "# TODO - your code here\n",
        "# Use what we did live in lecture as an example\n",
        "\n",
        "# HINT - you can find the raw URL on GitHub and potentially use that\n",
        "# to load the data with read_csv, or you can upload it yourself\n",
        "\n",
        "persons_df = pd.read_csv('https://raw.githubusercontent.com/LambdaSchool/DS-Sprint-01-Dealing-With-Data/master/module4-databackedassertions/persons.csv')\n",
        "persons_df.head()"
      ],
      "execution_count": 287,
      "outputs": [
        {
          "output_type": "execute_result",
          "data": {
            "text/html": [
              "<div>\n",
              "<style scoped>\n",
              "    .dataframe tbody tr th:only-of-type {\n",
              "        vertical-align: middle;\n",
              "    }\n",
              "\n",
              "    .dataframe tbody tr th {\n",
              "        vertical-align: top;\n",
              "    }\n",
              "\n",
              "    .dataframe thead th {\n",
              "        text-align: right;\n",
              "    }\n",
              "</style>\n",
              "<table border=\"1\" class=\"dataframe\">\n",
              "  <thead>\n",
              "    <tr style=\"text-align: right;\">\n",
              "      <th></th>\n",
              "      <th>Unnamed: 0</th>\n",
              "      <th>age</th>\n",
              "      <th>weight</th>\n",
              "      <th>exercise_time</th>\n",
              "    </tr>\n",
              "  </thead>\n",
              "  <tbody>\n",
              "    <tr>\n",
              "      <th>0</th>\n",
              "      <td>0</td>\n",
              "      <td>44</td>\n",
              "      <td>118</td>\n",
              "      <td>192</td>\n",
              "    </tr>\n",
              "    <tr>\n",
              "      <th>1</th>\n",
              "      <td>1</td>\n",
              "      <td>41</td>\n",
              "      <td>161</td>\n",
              "      <td>35</td>\n",
              "    </tr>\n",
              "    <tr>\n",
              "      <th>2</th>\n",
              "      <td>2</td>\n",
              "      <td>46</td>\n",
              "      <td>128</td>\n",
              "      <td>220</td>\n",
              "    </tr>\n",
              "    <tr>\n",
              "      <th>3</th>\n",
              "      <td>3</td>\n",
              "      <td>39</td>\n",
              "      <td>216</td>\n",
              "      <td>57</td>\n",
              "    </tr>\n",
              "    <tr>\n",
              "      <th>4</th>\n",
              "      <td>4</td>\n",
              "      <td>28</td>\n",
              "      <td>116</td>\n",
              "      <td>182</td>\n",
              "    </tr>\n",
              "  </tbody>\n",
              "</table>\n",
              "</div>"
            ],
            "text/plain": [
              "   Unnamed: 0  age  weight  exercise_time\n",
              "0           0   44     118            192\n",
              "1           1   41     161             35\n",
              "2           2   46     128            220\n",
              "3           3   39     216             57\n",
              "4           4   28     116            182"
            ]
          },
          "metadata": {
            "tags": []
          },
          "execution_count": 287
        }
      ]
    },
    {
      "metadata": {
        "id": "fTor1Z7x8Msi",
        "colab_type": "code",
        "colab": {
          "base_uri": "https://localhost:8080/",
          "height": 35
        },
        "outputId": "a48cfd42-5c36-4cd4-e09c-42ad73a06c47"
      },
      "cell_type": "code",
      "source": [
        "persons_df.shape"
      ],
      "execution_count": 288,
      "outputs": [
        {
          "output_type": "execute_result",
          "data": {
            "text/plain": [
              "(1200, 4)"
            ]
          },
          "metadata": {
            "tags": []
          },
          "execution_count": 288
        }
      ]
    },
    {
      "metadata": {
        "id": "jiRWbc5H8NDj",
        "colab_type": "code",
        "colab": {
          "base_uri": "https://localhost:8080/",
          "height": 198
        },
        "outputId": "8ed29844-dffb-4baa-b77a-fe99c00a102c"
      },
      "cell_type": "code",
      "source": [
        "# Persons with highest amont of time of weekly exercise - lower weight??\n",
        "persons_df[persons_df.exercise_time == persons_df.exercise_time.max()]"
      ],
      "execution_count": 289,
      "outputs": [
        {
          "output_type": "execute_result",
          "data": {
            "text/html": [
              "<div>\n",
              "<style scoped>\n",
              "    .dataframe tbody tr th:only-of-type {\n",
              "        vertical-align: middle;\n",
              "    }\n",
              "\n",
              "    .dataframe tbody tr th {\n",
              "        vertical-align: top;\n",
              "    }\n",
              "\n",
              "    .dataframe thead th {\n",
              "        text-align: right;\n",
              "    }\n",
              "</style>\n",
              "<table border=\"1\" class=\"dataframe\">\n",
              "  <thead>\n",
              "    <tr style=\"text-align: right;\">\n",
              "      <th></th>\n",
              "      <th>Unnamed: 0</th>\n",
              "      <th>age</th>\n",
              "      <th>weight</th>\n",
              "      <th>exercise_time</th>\n",
              "    </tr>\n",
              "  </thead>\n",
              "  <tbody>\n",
              "    <tr>\n",
              "      <th>68</th>\n",
              "      <td>68</td>\n",
              "      <td>55</td>\n",
              "      <td>130</td>\n",
              "      <td>300</td>\n",
              "    </tr>\n",
              "    <tr>\n",
              "      <th>225</th>\n",
              "      <td>225</td>\n",
              "      <td>49</td>\n",
              "      <td>128</td>\n",
              "      <td>300</td>\n",
              "    </tr>\n",
              "    <tr>\n",
              "      <th>363</th>\n",
              "      <td>363</td>\n",
              "      <td>51</td>\n",
              "      <td>146</td>\n",
              "      <td>300</td>\n",
              "    </tr>\n",
              "    <tr>\n",
              "      <th>1044</th>\n",
              "      <td>1044</td>\n",
              "      <td>58</td>\n",
              "      <td>134</td>\n",
              "      <td>300</td>\n",
              "    </tr>\n",
              "    <tr>\n",
              "      <th>1126</th>\n",
              "      <td>1126</td>\n",
              "      <td>24</td>\n",
              "      <td>101</td>\n",
              "      <td>300</td>\n",
              "    </tr>\n",
              "  </tbody>\n",
              "</table>\n",
              "</div>"
            ],
            "text/plain": [
              "      Unnamed: 0  age  weight  exercise_time\n",
              "68            68   55     130            300\n",
              "225          225   49     128            300\n",
              "363          363   51     146            300\n",
              "1044        1044   58     134            300\n",
              "1126        1126   24     101            300"
            ]
          },
          "metadata": {
            "tags": []
          },
          "execution_count": 289
        }
      ]
    },
    {
      "metadata": {
        "id": "tp7VT2DC8L6a",
        "colab_type": "code",
        "colab": {
          "base_uri": "https://localhost:8080/",
          "height": 108
        },
        "outputId": "77323d4f-9f78-4e4c-bb62-5dbc5f25cb3b"
      },
      "cell_type": "code",
      "source": [
        "# Persons with lowest weekly exercise of exercise - higher weight??\n",
        "persons_df[persons_df.exercise_time == persons_df.exercise_time.min()]"
      ],
      "execution_count": 290,
      "outputs": [
        {
          "output_type": "execute_result",
          "data": {
            "text/html": [
              "<div>\n",
              "<style scoped>\n",
              "    .dataframe tbody tr th:only-of-type {\n",
              "        vertical-align: middle;\n",
              "    }\n",
              "\n",
              "    .dataframe tbody tr th {\n",
              "        vertical-align: top;\n",
              "    }\n",
              "\n",
              "    .dataframe thead th {\n",
              "        text-align: right;\n",
              "    }\n",
              "</style>\n",
              "<table border=\"1\" class=\"dataframe\">\n",
              "  <thead>\n",
              "    <tr style=\"text-align: right;\">\n",
              "      <th></th>\n",
              "      <th>Unnamed: 0</th>\n",
              "      <th>age</th>\n",
              "      <th>weight</th>\n",
              "      <th>exercise_time</th>\n",
              "    </tr>\n",
              "  </thead>\n",
              "  <tbody>\n",
              "    <tr>\n",
              "      <th>89</th>\n",
              "      <td>89</td>\n",
              "      <td>32</td>\n",
              "      <td>205</td>\n",
              "      <td>0</td>\n",
              "    </tr>\n",
              "    <tr>\n",
              "      <th>425</th>\n",
              "      <td>425</td>\n",
              "      <td>20</td>\n",
              "      <td>183</td>\n",
              "      <td>0</td>\n",
              "    </tr>\n",
              "  </tbody>\n",
              "</table>\n",
              "</div>"
            ],
            "text/plain": [
              "     Unnamed: 0  age  weight  exercise_time\n",
              "89           89   32     205              0\n",
              "425         425   20     183              0"
            ]
          },
          "metadata": {
            "tags": []
          },
          "execution_count": 290
        }
      ]
    },
    {
      "metadata": {
        "id": "QHwGvIZBAuhZ",
        "colab_type": "code",
        "colab": {
          "base_uri": "https://localhost:8080/",
          "height": 618
        },
        "outputId": "4054da15-deb4-432b-ddb2-190c05350477"
      },
      "cell_type": "code",
      "source": [
        "# Oldest persons - less exercise? more/less weight??\n",
        "persons_df[persons_df.age == persons_df.age.max()]"
      ],
      "execution_count": 291,
      "outputs": [
        {
          "output_type": "execute_result",
          "data": {
            "text/html": [
              "<div>\n",
              "<style scoped>\n",
              "    .dataframe tbody tr th:only-of-type {\n",
              "        vertical-align: middle;\n",
              "    }\n",
              "\n",
              "    .dataframe tbody tr th {\n",
              "        vertical-align: top;\n",
              "    }\n",
              "\n",
              "    .dataframe thead th {\n",
              "        text-align: right;\n",
              "    }\n",
              "</style>\n",
              "<table border=\"1\" class=\"dataframe\">\n",
              "  <thead>\n",
              "    <tr style=\"text-align: right;\">\n",
              "      <th></th>\n",
              "      <th>Unnamed: 0</th>\n",
              "      <th>age</th>\n",
              "      <th>weight</th>\n",
              "      <th>exercise_time</th>\n",
              "    </tr>\n",
              "  </thead>\n",
              "  <tbody>\n",
              "    <tr>\n",
              "      <th>41</th>\n",
              "      <td>41</td>\n",
              "      <td>80</td>\n",
              "      <td>186</td>\n",
              "      <td>87</td>\n",
              "    </tr>\n",
              "    <tr>\n",
              "      <th>103</th>\n",
              "      <td>103</td>\n",
              "      <td>80</td>\n",
              "      <td>216</td>\n",
              "      <td>22</td>\n",
              "    </tr>\n",
              "    <tr>\n",
              "      <th>116</th>\n",
              "      <td>116</td>\n",
              "      <td>80</td>\n",
              "      <td>170</td>\n",
              "      <td>61</td>\n",
              "    </tr>\n",
              "    <tr>\n",
              "      <th>158</th>\n",
              "      <td>158</td>\n",
              "      <td>80</td>\n",
              "      <td>221</td>\n",
              "      <td>67</td>\n",
              "    </tr>\n",
              "    <tr>\n",
              "      <th>202</th>\n",
              "      <td>202</td>\n",
              "      <td>80</td>\n",
              "      <td>238</td>\n",
              "      <td>34</td>\n",
              "    </tr>\n",
              "    <tr>\n",
              "      <th>270</th>\n",
              "      <td>270</td>\n",
              "      <td>80</td>\n",
              "      <td>212</td>\n",
              "      <td>16</td>\n",
              "    </tr>\n",
              "    <tr>\n",
              "      <th>392</th>\n",
              "      <td>392</td>\n",
              "      <td>80</td>\n",
              "      <td>136</td>\n",
              "      <td>43</td>\n",
              "    </tr>\n",
              "    <tr>\n",
              "      <th>411</th>\n",
              "      <td>411</td>\n",
              "      <td>80</td>\n",
              "      <td>239</td>\n",
              "      <td>8</td>\n",
              "    </tr>\n",
              "    <tr>\n",
              "      <th>538</th>\n",
              "      <td>538</td>\n",
              "      <td>80</td>\n",
              "      <td>168</td>\n",
              "      <td>87</td>\n",
              "    </tr>\n",
              "    <tr>\n",
              "      <th>547</th>\n",
              "      <td>547</td>\n",
              "      <td>80</td>\n",
              "      <td>229</td>\n",
              "      <td>27</td>\n",
              "    </tr>\n",
              "    <tr>\n",
              "      <th>583</th>\n",
              "      <td>583</td>\n",
              "      <td>80</td>\n",
              "      <td>127</td>\n",
              "      <td>30</td>\n",
              "    </tr>\n",
              "    <tr>\n",
              "      <th>660</th>\n",
              "      <td>660</td>\n",
              "      <td>80</td>\n",
              "      <td>225</td>\n",
              "      <td>55</td>\n",
              "    </tr>\n",
              "    <tr>\n",
              "      <th>715</th>\n",
              "      <td>715</td>\n",
              "      <td>80</td>\n",
              "      <td>197</td>\n",
              "      <td>38</td>\n",
              "    </tr>\n",
              "    <tr>\n",
              "      <th>753</th>\n",
              "      <td>753</td>\n",
              "      <td>80</td>\n",
              "      <td>127</td>\n",
              "      <td>48</td>\n",
              "    </tr>\n",
              "    <tr>\n",
              "      <th>855</th>\n",
              "      <td>855</td>\n",
              "      <td>80</td>\n",
              "      <td>180</td>\n",
              "      <td>69</td>\n",
              "    </tr>\n",
              "    <tr>\n",
              "      <th>927</th>\n",
              "      <td>927</td>\n",
              "      <td>80</td>\n",
              "      <td>206</td>\n",
              "      <td>19</td>\n",
              "    </tr>\n",
              "    <tr>\n",
              "      <th>1075</th>\n",
              "      <td>1075</td>\n",
              "      <td>80</td>\n",
              "      <td>182</td>\n",
              "      <td>15</td>\n",
              "    </tr>\n",
              "    <tr>\n",
              "      <th>1101</th>\n",
              "      <td>1101</td>\n",
              "      <td>80</td>\n",
              "      <td>153</td>\n",
              "      <td>26</td>\n",
              "    </tr>\n",
              "    <tr>\n",
              "      <th>1153</th>\n",
              "      <td>1153</td>\n",
              "      <td>80</td>\n",
              "      <td>130</td>\n",
              "      <td>51</td>\n",
              "    </tr>\n",
              "  </tbody>\n",
              "</table>\n",
              "</div>"
            ],
            "text/plain": [
              "      Unnamed: 0  age  weight  exercise_time\n",
              "41            41   80     186             87\n",
              "103          103   80     216             22\n",
              "116          116   80     170             61\n",
              "158          158   80     221             67\n",
              "202          202   80     238             34\n",
              "270          270   80     212             16\n",
              "392          392   80     136             43\n",
              "411          411   80     239              8\n",
              "538          538   80     168             87\n",
              "547          547   80     229             27\n",
              "583          583   80     127             30\n",
              "660          660   80     225             55\n",
              "715          715   80     197             38\n",
              "753          753   80     127             48\n",
              "855          855   80     180             69\n",
              "927          927   80     206             19\n",
              "1075        1075   80     182             15\n",
              "1101        1101   80     153             26\n",
              "1153        1153   80     130             51"
            ]
          },
          "metadata": {
            "tags": []
          },
          "execution_count": 291
        }
      ]
    },
    {
      "metadata": {
        "id": "JZgqhpt1Aueo",
        "colab_type": "code",
        "colab": {
          "base_uri": "https://localhost:8080/",
          "height": 648
        },
        "outputId": "8a035cfa-a599-48bd-f295-df4773eaad78"
      },
      "cell_type": "code",
      "source": [
        "# Youngest persons - more exercise? less/more weight??\n",
        "persons_df[persons_df.age == persons_df.age.min()]"
      ],
      "execution_count": 292,
      "outputs": [
        {
          "output_type": "execute_result",
          "data": {
            "text/html": [
              "<div>\n",
              "<style scoped>\n",
              "    .dataframe tbody tr th:only-of-type {\n",
              "        vertical-align: middle;\n",
              "    }\n",
              "\n",
              "    .dataframe tbody tr th {\n",
              "        vertical-align: top;\n",
              "    }\n",
              "\n",
              "    .dataframe thead th {\n",
              "        text-align: right;\n",
              "    }\n",
              "</style>\n",
              "<table border=\"1\" class=\"dataframe\">\n",
              "  <thead>\n",
              "    <tr style=\"text-align: right;\">\n",
              "      <th></th>\n",
              "      <th>Unnamed: 0</th>\n",
              "      <th>age</th>\n",
              "      <th>weight</th>\n",
              "      <th>exercise_time</th>\n",
              "    </tr>\n",
              "  </thead>\n",
              "  <tbody>\n",
              "    <tr>\n",
              "      <th>18</th>\n",
              "      <td>18</td>\n",
              "      <td>18</td>\n",
              "      <td>122</td>\n",
              "      <td>271</td>\n",
              "    </tr>\n",
              "    <tr>\n",
              "      <th>83</th>\n",
              "      <td>83</td>\n",
              "      <td>18</td>\n",
              "      <td>114</td>\n",
              "      <td>104</td>\n",
              "    </tr>\n",
              "    <tr>\n",
              "      <th>171</th>\n",
              "      <td>171</td>\n",
              "      <td>18</td>\n",
              "      <td>138</td>\n",
              "      <td>235</td>\n",
              "    </tr>\n",
              "    <tr>\n",
              "      <th>203</th>\n",
              "      <td>203</td>\n",
              "      <td>18</td>\n",
              "      <td>120</td>\n",
              "      <td>161</td>\n",
              "    </tr>\n",
              "    <tr>\n",
              "      <th>294</th>\n",
              "      <td>294</td>\n",
              "      <td>18</td>\n",
              "      <td>161</td>\n",
              "      <td>85</td>\n",
              "    </tr>\n",
              "    <tr>\n",
              "      <th>323</th>\n",
              "      <td>323</td>\n",
              "      <td>18</td>\n",
              "      <td>171</td>\n",
              "      <td>217</td>\n",
              "    </tr>\n",
              "    <tr>\n",
              "      <th>372</th>\n",
              "      <td>372</td>\n",
              "      <td>18</td>\n",
              "      <td>184</td>\n",
              "      <td>119</td>\n",
              "    </tr>\n",
              "    <tr>\n",
              "      <th>469</th>\n",
              "      <td>469</td>\n",
              "      <td>18</td>\n",
              "      <td>115</td>\n",
              "      <td>243</td>\n",
              "    </tr>\n",
              "    <tr>\n",
              "      <th>551</th>\n",
              "      <td>551</td>\n",
              "      <td>18</td>\n",
              "      <td>191</td>\n",
              "      <td>9</td>\n",
              "    </tr>\n",
              "    <tr>\n",
              "      <th>573</th>\n",
              "      <td>573</td>\n",
              "      <td>18</td>\n",
              "      <td>188</td>\n",
              "      <td>128</td>\n",
              "    </tr>\n",
              "    <tr>\n",
              "      <th>622</th>\n",
              "      <td>622</td>\n",
              "      <td>18</td>\n",
              "      <td>141</td>\n",
              "      <td>122</td>\n",
              "    </tr>\n",
              "    <tr>\n",
              "      <th>655</th>\n",
              "      <td>655</td>\n",
              "      <td>18</td>\n",
              "      <td>138</td>\n",
              "      <td>213</td>\n",
              "    </tr>\n",
              "    <tr>\n",
              "      <th>744</th>\n",
              "      <td>744</td>\n",
              "      <td>18</td>\n",
              "      <td>135</td>\n",
              "      <td>156</td>\n",
              "    </tr>\n",
              "    <tr>\n",
              "      <th>754</th>\n",
              "      <td>754</td>\n",
              "      <td>18</td>\n",
              "      <td>150</td>\n",
              "      <td>119</td>\n",
              "    </tr>\n",
              "    <tr>\n",
              "      <th>830</th>\n",
              "      <td>830</td>\n",
              "      <td>18</td>\n",
              "      <td>140</td>\n",
              "      <td>31</td>\n",
              "    </tr>\n",
              "    <tr>\n",
              "      <th>840</th>\n",
              "      <td>840</td>\n",
              "      <td>18</td>\n",
              "      <td>126</td>\n",
              "      <td>79</td>\n",
              "    </tr>\n",
              "    <tr>\n",
              "      <th>906</th>\n",
              "      <td>906</td>\n",
              "      <td>18</td>\n",
              "      <td>102</td>\n",
              "      <td>224</td>\n",
              "    </tr>\n",
              "    <tr>\n",
              "      <th>1045</th>\n",
              "      <td>1045</td>\n",
              "      <td>18</td>\n",
              "      <td>148</td>\n",
              "      <td>182</td>\n",
              "    </tr>\n",
              "    <tr>\n",
              "      <th>1080</th>\n",
              "      <td>1080</td>\n",
              "      <td>18</td>\n",
              "      <td>140</td>\n",
              "      <td>63</td>\n",
              "    </tr>\n",
              "    <tr>\n",
              "      <th>1108</th>\n",
              "      <td>1108</td>\n",
              "      <td>18</td>\n",
              "      <td>116</td>\n",
              "      <td>199</td>\n",
              "    </tr>\n",
              "  </tbody>\n",
              "</table>\n",
              "</div>"
            ],
            "text/plain": [
              "      Unnamed: 0  age  weight  exercise_time\n",
              "18            18   18     122            271\n",
              "83            83   18     114            104\n",
              "171          171   18     138            235\n",
              "203          203   18     120            161\n",
              "294          294   18     161             85\n",
              "323          323   18     171            217\n",
              "372          372   18     184            119\n",
              "469          469   18     115            243\n",
              "551          551   18     191              9\n",
              "573          573   18     188            128\n",
              "622          622   18     141            122\n",
              "655          655   18     138            213\n",
              "744          744   18     135            156\n",
              "754          754   18     150            119\n",
              "830          830   18     140             31\n",
              "840          840   18     126             79\n",
              "906          906   18     102            224\n",
              "1045        1045   18     148            182\n",
              "1080        1080   18     140             63\n",
              "1108        1108   18     116            199"
            ]
          },
          "metadata": {
            "tags": []
          },
          "execution_count": 292
        }
      ]
    },
    {
      "metadata": {
        "id": "JLpTj11BD266",
        "colab_type": "text"
      },
      "cell_type": "markdown",
      "source": [
        "### Doing some basic plotting"
      ]
    },
    {
      "metadata": {
        "id": "XpfZ6ua88M7N",
        "colab_type": "code",
        "colab": {
          "base_uri": "https://localhost:8080/",
          "height": 347
        },
        "outputId": "78bd1cba-30ee-4b3b-9f20-246774141608"
      },
      "cell_type": "code",
      "source": [
        "# Scatter plot using all three variables\n",
        "import matplotlib.pyplot as plt\n",
        "\n",
        "plt.scatter(persons_df.age, persons_df.exercise_time, s=persons_df.weight, linewidths=2, edgecolor='w')\n",
        "\n",
        "plt.show()"
      ],
      "execution_count": 293,
      "outputs": [
        {
          "output_type": "display_data",
          "data": {
            "image/png": "[encoded data removed]",
            "text/plain": [
              "<matplotlib.figure.Figure at 0x7f8da8d5a160>"
            ]
          },
          "metadata": {
            "tags": []
          }
        }
      ]
    },
    {
      "metadata": {
        "id": "36IHFW-b8MyX",
        "colab_type": "code",
        "colab": {
          "base_uri": "https://localhost:8080/",
          "height": 295
        },
        "outputId": "e16ad579-c7fb-4731-9207-79ed480333eb"
      },
      "cell_type": "code",
      "source": [
        "# Sectioning exercise_time, age, and weigth variables into 6 bins each\n",
        "timex_bins = pd.cut(persons_df.exercise_time, 5)\n",
        "age_bins = pd.cut(persons_df.age, 4)\n",
        "weight_bins = pd.cut(persons_df.weight, 3)\n",
        "\n",
        "# Creating crosstab\n",
        "crosst = pd.crosstab(timex_bins, [age_bins, weight_bins], normalize='columns')\n",
        "crosst"
      ],
      "execution_count": 294,
      "outputs": [
        {
          "output_type": "execute_result",
          "data": {
            "text/html": [
              "<div>\n",
              "<style scoped>\n",
              "    .dataframe tbody tr th:only-of-type {\n",
              "        vertical-align: middle;\n",
              "    }\n",
              "\n",
              "    .dataframe tbody tr th {\n",
              "        vertical-align: top;\n",
              "    }\n",
              "\n",
              "    .dataframe thead tr th {\n",
              "        text-align: left;\n",
              "    }\n",
              "\n",
              "    .dataframe thead tr:last-of-type th {\n",
              "        text-align: right;\n",
              "    }\n",
              "</style>\n",
              "<table border=\"1\" class=\"dataframe\">\n",
              "  <thead>\n",
              "    <tr>\n",
              "      <th>age</th>\n",
              "      <th colspan=\"3\" halign=\"left\">(17.938, 33.5]</th>\n",
              "      <th colspan=\"3\" halign=\"left\">(33.5, 49.0]</th>\n",
              "      <th colspan=\"3\" halign=\"left\">(49.0, 64.5]</th>\n",
              "      <th colspan=\"3\" halign=\"left\">(64.5, 80.0]</th>\n",
              "    </tr>\n",
              "    <tr>\n",
              "      <th>weight</th>\n",
              "      <th>(99.854, 148.667]</th>\n",
              "      <th>(148.667, 197.333]</th>\n",
              "      <th>(197.333, 246.0]</th>\n",
              "      <th>(99.854, 148.667]</th>\n",
              "      <th>(148.667, 197.333]</th>\n",
              "      <th>(197.333, 246.0]</th>\n",
              "      <th>(99.854, 148.667]</th>\n",
              "      <th>(148.667, 197.333]</th>\n",
              "      <th>(197.333, 246.0]</th>\n",
              "      <th>(99.854, 148.667]</th>\n",
              "      <th>(148.667, 197.333]</th>\n",
              "      <th>(197.333, 246.0]</th>\n",
              "    </tr>\n",
              "    <tr>\n",
              "      <th>exercise_time</th>\n",
              "      <th></th>\n",
              "      <th></th>\n",
              "      <th></th>\n",
              "      <th></th>\n",
              "      <th></th>\n",
              "      <th></th>\n",
              "      <th></th>\n",
              "      <th></th>\n",
              "      <th></th>\n",
              "      <th></th>\n",
              "      <th></th>\n",
              "      <th></th>\n",
              "    </tr>\n",
              "  </thead>\n",
              "  <tbody>\n",
              "    <tr>\n",
              "      <th>(-0.3, 60.0]</th>\n",
              "      <td>0.104651</td>\n",
              "      <td>0.194690</td>\n",
              "      <td>0.666667</td>\n",
              "      <td>0.115607</td>\n",
              "      <td>0.219780</td>\n",
              "      <td>0.536585</td>\n",
              "      <td>0.099291</td>\n",
              "      <td>0.210526</td>\n",
              "      <td>0.35</td>\n",
              "      <td>0.294643</td>\n",
              "      <td>0.270492</td>\n",
              "      <td>0.593750</td>\n",
              "    </tr>\n",
              "    <tr>\n",
              "      <th>(60.0, 120.0]</th>\n",
              "      <td>0.122093</td>\n",
              "      <td>0.230088</td>\n",
              "      <td>0.250000</td>\n",
              "      <td>0.150289</td>\n",
              "      <td>0.296703</td>\n",
              "      <td>0.390244</td>\n",
              "      <td>0.113475</td>\n",
              "      <td>0.336842</td>\n",
              "      <td>0.50</td>\n",
              "      <td>0.392857</td>\n",
              "      <td>0.459016</td>\n",
              "      <td>0.359375</td>\n",
              "    </tr>\n",
              "    <tr>\n",
              "      <th>(120.0, 180.0]</th>\n",
              "      <td>0.215116</td>\n",
              "      <td>0.247788</td>\n",
              "      <td>0.083333</td>\n",
              "      <td>0.138728</td>\n",
              "      <td>0.208791</td>\n",
              "      <td>0.073171</td>\n",
              "      <td>0.219858</td>\n",
              "      <td>0.157895</td>\n",
              "      <td>0.15</td>\n",
              "      <td>0.205357</td>\n",
              "      <td>0.254098</td>\n",
              "      <td>0.046875</td>\n",
              "    </tr>\n",
              "    <tr>\n",
              "      <th>(180.0, 240.0]</th>\n",
              "      <td>0.250000</td>\n",
              "      <td>0.265487</td>\n",
              "      <td>0.000000</td>\n",
              "      <td>0.242775</td>\n",
              "      <td>0.120879</td>\n",
              "      <td>0.000000</td>\n",
              "      <td>0.219858</td>\n",
              "      <td>0.231579</td>\n",
              "      <td>0.00</td>\n",
              "      <td>0.098214</td>\n",
              "      <td>0.016393</td>\n",
              "      <td>0.000000</td>\n",
              "    </tr>\n",
              "    <tr>\n",
              "      <th>(240.0, 300.0]</th>\n",
              "      <td>0.308140</td>\n",
              "      <td>0.061947</td>\n",
              "      <td>0.000000</td>\n",
              "      <td>0.352601</td>\n",
              "      <td>0.153846</td>\n",
              "      <td>0.000000</td>\n",
              "      <td>0.347518</td>\n",
              "      <td>0.063158</td>\n",
              "      <td>0.00</td>\n",
              "      <td>0.008929</td>\n",
              "      <td>0.000000</td>\n",
              "      <td>0.000000</td>\n",
              "    </tr>\n",
              "  </tbody>\n",
              "</table>\n",
              "</div>"
            ],
            "text/plain": [
              "age               (17.938, 33.5]                                      \\\n",
              "weight         (99.854, 148.667] (148.667, 197.333] (197.333, 246.0]   \n",
              "exercise_time                                                          \n",
              "(-0.3, 60.0]            0.104651           0.194690         0.666667   \n",
              "(60.0, 120.0]           0.122093           0.230088         0.250000   \n",
              "(120.0, 180.0]          0.215116           0.247788         0.083333   \n",
              "(180.0, 240.0]          0.250000           0.265487         0.000000   \n",
              "(240.0, 300.0]          0.308140           0.061947         0.000000   \n",
              "\n",
              "age                 (33.5, 49.0]                                      \\\n",
              "weight         (99.854, 148.667] (148.667, 197.333] (197.333, 246.0]   \n",
              "exercise_time                                                          \n",
              "(-0.3, 60.0]            0.115607           0.219780         0.536585   \n",
              "(60.0, 120.0]           0.150289           0.296703         0.390244   \n",
              "(120.0, 180.0]          0.138728           0.208791         0.073171   \n",
              "(180.0, 240.0]          0.242775           0.120879         0.000000   \n",
              "(240.0, 300.0]          0.352601           0.153846         0.000000   \n",
              "\n",
              "age                 (49.0, 64.5]                                      \\\n",
              "weight         (99.854, 148.667] (148.667, 197.333] (197.333, 246.0]   \n",
              "exercise_time                                                          \n",
              "(-0.3, 60.0]            0.099291           0.210526             0.35   \n",
              "(60.0, 120.0]           0.113475           0.336842             0.50   \n",
              "(120.0, 180.0]          0.219858           0.157895             0.15   \n",
              "(180.0, 240.0]          0.219858           0.231579             0.00   \n",
              "(240.0, 300.0]          0.347518           0.063158             0.00   \n",
              "\n",
              "age                 (64.5, 80.0]                                      \n",
              "weight         (99.854, 148.667] (148.667, 197.333] (197.333, 246.0]  \n",
              "exercise_time                                                         \n",
              "(-0.3, 60.0]            0.294643           0.270492         0.593750  \n",
              "(60.0, 120.0]           0.392857           0.459016         0.359375  \n",
              "(120.0, 180.0]          0.205357           0.254098         0.046875  \n",
              "(180.0, 240.0]          0.098214           0.016393         0.000000  \n",
              "(240.0, 300.0]          0.008929           0.000000         0.000000  "
            ]
          },
          "metadata": {
            "tags": []
          },
          "execution_count": 294
        }
      ]
    },
    {
      "metadata": {
        "id": "9Hhp_nEWU6Zd",
        "colab_type": "code",
        "colab": {
          "base_uri": "https://localhost:8080/",
          "height": 414
        },
        "outputId": "2244acf7-1300-4aab-854c-08c7e3810fba"
      },
      "cell_type": "code",
      "source": [
        "# Stacked bar plot using results from crosstab\n",
        "crosst.plot(kind='bar', stacked=True);"
      ],
      "execution_count": 295,
      "outputs": [
        {
          "output_type": "display_data",
          "data": {
            "image/png": "[encoded data removed]",
            "text/plain": [
              "<matplotlib.figure.Figure at 0x7f8daa489c88>"
            ]
          },
          "metadata": {
            "tags": []
          }
        }
      ]
    },
    {
      "metadata": {
        "id": "4_E3VV7jDsLD",
        "colab_type": "text"
      },
      "cell_type": "markdown",
      "source": [
        "### Creating a bubble scatter plot"
      ]
    },
    {
      "metadata": {
        "id": "b9K7zM7ymofs",
        "colab_type": "code",
        "colab": {
          "base_uri": "https://localhost:8080/",
          "height": 594
        },
        "outputId": "3393e65d-b911-42b7-9032-e2f2215891a3"
      },
      "cell_type": "code",
      "source": [
        "# Cross tab converted to DataFrame to then do bubble plot\n",
        "ctab = pd.crosstab([age_bins, weight_bins], timex_bins, normalize='columns')\n",
        "ctab = pd.DataFrame(ctab)\n",
        "ctab"
      ],
      "execution_count": 296,
      "outputs": [
        {
          "output_type": "execute_result",
          "data": {
            "text/html": [
              "<div>\n",
              "<style scoped>\n",
              "    .dataframe tbody tr th:only-of-type {\n",
              "        vertical-align: middle;\n",
              "    }\n",
              "\n",
              "    .dataframe tbody tr th {\n",
              "        vertical-align: top;\n",
              "    }\n",
              "\n",
              "    .dataframe thead th {\n",
              "        text-align: right;\n",
              "    }\n",
              "</style>\n",
              "<table border=\"1\" class=\"dataframe\">\n",
              "  <thead>\n",
              "    <tr style=\"text-align: right;\">\n",
              "      <th></th>\n",
              "      <th>exercise_time</th>\n",
              "      <th>(-0.3, 60.0]</th>\n",
              "      <th>(60.0, 120.0]</th>\n",
              "      <th>(120.0, 180.0]</th>\n",
              "      <th>(180.0, 240.0]</th>\n",
              "      <th>(240.0, 300.0]</th>\n",
              "    </tr>\n",
              "    <tr>\n",
              "      <th>age</th>\n",
              "      <th>weight</th>\n",
              "      <th></th>\n",
              "      <th></th>\n",
              "      <th></th>\n",
              "      <th></th>\n",
              "      <th></th>\n",
              "    </tr>\n",
              "  </thead>\n",
              "  <tbody>\n",
              "    <tr>\n",
              "      <th rowspan=\"3\" valign=\"top\">(17.938, 33.5]</th>\n",
              "      <th>(99.854, 148.667]</th>\n",
              "      <td>0.064748</td>\n",
              "      <td>0.066456</td>\n",
              "      <td>0.165919</td>\n",
              "      <td>0.223958</td>\n",
              "      <td>0.277487</td>\n",
              "    </tr>\n",
              "    <tr>\n",
              "      <th>(148.667, 197.333]</th>\n",
              "      <td>0.079137</td>\n",
              "      <td>0.082278</td>\n",
              "      <td>0.125561</td>\n",
              "      <td>0.156250</td>\n",
              "      <td>0.036649</td>\n",
              "    </tr>\n",
              "    <tr>\n",
              "      <th>(197.333, 246.0]</th>\n",
              "      <td>0.086331</td>\n",
              "      <td>0.028481</td>\n",
              "      <td>0.013453</td>\n",
              "      <td>0.000000</td>\n",
              "      <td>0.000000</td>\n",
              "    </tr>\n",
              "    <tr>\n",
              "      <th rowspan=\"3\" valign=\"top\">(33.5, 49.0]</th>\n",
              "      <th>(99.854, 148.667]</th>\n",
              "      <td>0.071942</td>\n",
              "      <td>0.082278</td>\n",
              "      <td>0.107623</td>\n",
              "      <td>0.218750</td>\n",
              "      <td>0.319372</td>\n",
              "    </tr>\n",
              "    <tr>\n",
              "      <th>(148.667, 197.333]</th>\n",
              "      <td>0.071942</td>\n",
              "      <td>0.085443</td>\n",
              "      <td>0.085202</td>\n",
              "      <td>0.057292</td>\n",
              "      <td>0.073298</td>\n",
              "    </tr>\n",
              "    <tr>\n",
              "      <th>(197.333, 246.0]</th>\n",
              "      <td>0.079137</td>\n",
              "      <td>0.050633</td>\n",
              "      <td>0.013453</td>\n",
              "      <td>0.000000</td>\n",
              "      <td>0.000000</td>\n",
              "    </tr>\n",
              "    <tr>\n",
              "      <th rowspan=\"3\" valign=\"top\">(49.0, 64.5]</th>\n",
              "      <th>(99.854, 148.667]</th>\n",
              "      <td>0.050360</td>\n",
              "      <td>0.050633</td>\n",
              "      <td>0.139013</td>\n",
              "      <td>0.161458</td>\n",
              "      <td>0.256545</td>\n",
              "    </tr>\n",
              "    <tr>\n",
              "      <th>(148.667, 197.333]</th>\n",
              "      <td>0.071942</td>\n",
              "      <td>0.101266</td>\n",
              "      <td>0.067265</td>\n",
              "      <td>0.114583</td>\n",
              "      <td>0.031414</td>\n",
              "    </tr>\n",
              "    <tr>\n",
              "      <th>(197.333, 246.0]</th>\n",
              "      <td>0.050360</td>\n",
              "      <td>0.063291</td>\n",
              "      <td>0.026906</td>\n",
              "      <td>0.000000</td>\n",
              "      <td>0.000000</td>\n",
              "    </tr>\n",
              "    <tr>\n",
              "      <th rowspan=\"3\" valign=\"top\">(64.5, 80.0]</th>\n",
              "      <th>(99.854, 148.667]</th>\n",
              "      <td>0.118705</td>\n",
              "      <td>0.139241</td>\n",
              "      <td>0.103139</td>\n",
              "      <td>0.057292</td>\n",
              "      <td>0.005236</td>\n",
              "    </tr>\n",
              "    <tr>\n",
              "      <th>(148.667, 197.333]</th>\n",
              "      <td>0.118705</td>\n",
              "      <td>0.177215</td>\n",
              "      <td>0.139013</td>\n",
              "      <td>0.010417</td>\n",
              "      <td>0.000000</td>\n",
              "    </tr>\n",
              "    <tr>\n",
              "      <th>(197.333, 246.0]</th>\n",
              "      <td>0.136691</td>\n",
              "      <td>0.072785</td>\n",
              "      <td>0.013453</td>\n",
              "      <td>0.000000</td>\n",
              "      <td>0.000000</td>\n",
              "    </tr>\n",
              "  </tbody>\n",
              "</table>\n",
              "</div>"
            ],
            "text/plain": [
              "exercise_time                      (-0.3, 60.0]  (60.0, 120.0]  \\\n",
              "age            weight                                            \n",
              "(17.938, 33.5] (99.854, 148.667]       0.064748       0.066456   \n",
              "               (148.667, 197.333]      0.079137       0.082278   \n",
              "               (197.333, 246.0]        0.086331       0.028481   \n",
              "(33.5, 49.0]   (99.854, 148.667]       0.071942       0.082278   \n",
              "               (148.667, 197.333]      0.071942       0.085443   \n",
              "               (197.333, 246.0]        0.079137       0.050633   \n",
              "(49.0, 64.5]   (99.854, 148.667]       0.050360       0.050633   \n",
              "               (148.667, 197.333]      0.071942       0.101266   \n",
              "               (197.333, 246.0]        0.050360       0.063291   \n",
              "(64.5, 80.0]   (99.854, 148.667]       0.118705       0.139241   \n",
              "               (148.667, 197.333]      0.118705       0.177215   \n",
              "               (197.333, 246.0]        0.136691       0.072785   \n",
              "\n",
              "exercise_time                      (120.0, 180.0]  (180.0, 240.0]  \\\n",
              "age            weight                                               \n",
              "(17.938, 33.5] (99.854, 148.667]         0.165919        0.223958   \n",
              "               (148.667, 197.333]        0.125561        0.156250   \n",
              "               (197.333, 246.0]          0.013453        0.000000   \n",
              "(33.5, 49.0]   (99.854, 148.667]         0.107623        0.218750   \n",
              "               (148.667, 197.333]        0.085202        0.057292   \n",
              "               (197.333, 246.0]          0.013453        0.000000   \n",
              "(49.0, 64.5]   (99.854, 148.667]         0.139013        0.161458   \n",
              "               (148.667, 197.333]        0.067265        0.114583   \n",
              "               (197.333, 246.0]          0.026906        0.000000   \n",
              "(64.5, 80.0]   (99.854, 148.667]         0.103139        0.057292   \n",
              "               (148.667, 197.333]        0.139013        0.010417   \n",
              "               (197.333, 246.0]          0.013453        0.000000   \n",
              "\n",
              "exercise_time                      (240.0, 300.0]  \n",
              "age            weight                              \n",
              "(17.938, 33.5] (99.854, 148.667]         0.277487  \n",
              "               (148.667, 197.333]        0.036649  \n",
              "               (197.333, 246.0]          0.000000  \n",
              "(33.5, 49.0]   (99.854, 148.667]         0.319372  \n",
              "               (148.667, 197.333]        0.073298  \n",
              "               (197.333, 246.0]          0.000000  \n",
              "(49.0, 64.5]   (99.854, 148.667]         0.256545  \n",
              "               (148.667, 197.333]        0.031414  \n",
              "               (197.333, 246.0]          0.000000  \n",
              "(64.5, 80.0]   (99.854, 148.667]         0.005236  \n",
              "               (148.667, 197.333]        0.000000  \n",
              "               (197.333, 246.0]          0.000000  "
            ]
          },
          "metadata": {
            "tags": []
          },
          "execution_count": 296
        }
      ]
    },
    {
      "metadata": {
        "id": "vGBasawVvmzv",
        "colab_type": "code",
        "colab": {}
      },
      "cell_type": "code",
      "source": [
        "# Removing Categorical Index on sides\n",
        "ctab = ctab.reset_index(0, 1).reset_index(drop=True)"
      ],
      "execution_count": 0,
      "outputs": []
    },
    {
      "metadata": {
        "id": "4tKSnTNK4RGP",
        "colab_type": "code",
        "colab": {}
      },
      "cell_type": "code",
      "source": [
        "# Converting columns from 'Interval' datatype to string\n",
        "ctab.columns = ctab.columns.astype(str)"
      ],
      "execution_count": 0,
      "outputs": []
    },
    {
      "metadata": {
        "id": "wOe6HzJovm8W",
        "colab_type": "code",
        "colab": {}
      },
      "cell_type": "code",
      "source": [
        "# Flattening hirarchical index in columns\n",
        "# So we can then insert columns with 'age' and 'weight'\n",
        "ctab.columns = [''.join(col).strip() for col in ctab.columns.values]"
      ],
      "execution_count": 0,
      "outputs": []
    },
    {
      "metadata": {
        "id": "qGM5ylwQAJ_H",
        "colab_type": "code",
        "colab": {
          "base_uri": "https://localhost:8080/",
          "height": 408
        },
        "outputId": "4f7af4e8-8f0c-4d29-8a18-66ce0726b4f5"
      },
      "cell_type": "code",
      "source": [
        "# Modifying column names\n",
        "ctab.columns = ['0-60min', '60-120min', '120-180min',\n",
        "                '180-240min', '240-300min']\n",
        "\n",
        "# Inserting 'age' and 'weight' columns with values\n",
        "ctab['age'] = ['17 to 33', '17 to 33', '17 to 33', '34 to 48', '34 to 48',\n",
        "               '34 to 48', '49 to 64', '49 to 64', '49 to 64', '65 to 80',\n",
        "               '65 to 80', '65 to 80']\n",
        "ctab['weight'] = ['99 to 148', '149 to 196', '197 to 246', '99 to 148',\n",
        "                  '149 to 196', '197 to 246', '99 to 148', '149 to 196',\n",
        "                  '197 to 246', '99 to 148', '149 to 196', '197 to 246']\n",
        "\n",
        "ctab"
      ],
      "execution_count": 300,
      "outputs": [
        {
          "output_type": "execute_result",
          "data": {
            "text/html": [
              "<div>\n",
              "<style scoped>\n",
              "    .dataframe tbody tr th:only-of-type {\n",
              "        vertical-align: middle;\n",
              "    }\n",
              "\n",
              "    .dataframe tbody tr th {\n",
              "        vertical-align: top;\n",
              "    }\n",
              "\n",
              "    .dataframe thead th {\n",
              "        text-align: right;\n",
              "    }\n",
              "</style>\n",
              "<table border=\"1\" class=\"dataframe\">\n",
              "  <thead>\n",
              "    <tr style=\"text-align: right;\">\n",
              "      <th></th>\n",
              "      <th>0-60min</th>\n",
              "      <th>60-120min</th>\n",
              "      <th>120-180min</th>\n",
              "      <th>180-240min</th>\n",
              "      <th>240-300min</th>\n",
              "      <th>age</th>\n",
              "      <th>weight</th>\n",
              "    </tr>\n",
              "  </thead>\n",
              "  <tbody>\n",
              "    <tr>\n",
              "      <th>0</th>\n",
              "      <td>0.064748</td>\n",
              "      <td>0.066456</td>\n",
              "      <td>0.165919</td>\n",
              "      <td>0.223958</td>\n",
              "      <td>0.277487</td>\n",
              "      <td>17 to 33</td>\n",
              "      <td>99 to 148</td>\n",
              "    </tr>\n",
              "    <tr>\n",
              "      <th>1</th>\n",
              "      <td>0.079137</td>\n",
              "      <td>0.082278</td>\n",
              "      <td>0.125561</td>\n",
              "      <td>0.156250</td>\n",
              "      <td>0.036649</td>\n",
              "      <td>17 to 33</td>\n",
              "      <td>149 to 196</td>\n",
              "    </tr>\n",
              "    <tr>\n",
              "      <th>2</th>\n",
              "      <td>0.086331</td>\n",
              "      <td>0.028481</td>\n",
              "      <td>0.013453</td>\n",
              "      <td>0.000000</td>\n",
              "      <td>0.000000</td>\n",
              "      <td>17 to 33</td>\n",
              "      <td>197 to 246</td>\n",
              "    </tr>\n",
              "    <tr>\n",
              "      <th>3</th>\n",
              "      <td>0.071942</td>\n",
              "      <td>0.082278</td>\n",
              "      <td>0.107623</td>\n",
              "      <td>0.218750</td>\n",
              "      <td>0.319372</td>\n",
              "      <td>34 to 48</td>\n",
              "      <td>99 to 148</td>\n",
              "    </tr>\n",
              "    <tr>\n",
              "      <th>4</th>\n",
              "      <td>0.071942</td>\n",
              "      <td>0.085443</td>\n",
              "      <td>0.085202</td>\n",
              "      <td>0.057292</td>\n",
              "      <td>0.073298</td>\n",
              "      <td>34 to 48</td>\n",
              "      <td>149 to 196</td>\n",
              "    </tr>\n",
              "    <tr>\n",
              "      <th>5</th>\n",
              "      <td>0.079137</td>\n",
              "      <td>0.050633</td>\n",
              "      <td>0.013453</td>\n",
              "      <td>0.000000</td>\n",
              "      <td>0.000000</td>\n",
              "      <td>34 to 48</td>\n",
              "      <td>197 to 246</td>\n",
              "    </tr>\n",
              "    <tr>\n",
              "      <th>6</th>\n",
              "      <td>0.050360</td>\n",
              "      <td>0.050633</td>\n",
              "      <td>0.139013</td>\n",
              "      <td>0.161458</td>\n",
              "      <td>0.256545</td>\n",
              "      <td>49 to 64</td>\n",
              "      <td>99 to 148</td>\n",
              "    </tr>\n",
              "    <tr>\n",
              "      <th>7</th>\n",
              "      <td>0.071942</td>\n",
              "      <td>0.101266</td>\n",
              "      <td>0.067265</td>\n",
              "      <td>0.114583</td>\n",
              "      <td>0.031414</td>\n",
              "      <td>49 to 64</td>\n",
              "      <td>149 to 196</td>\n",
              "    </tr>\n",
              "    <tr>\n",
              "      <th>8</th>\n",
              "      <td>0.050360</td>\n",
              "      <td>0.063291</td>\n",
              "      <td>0.026906</td>\n",
              "      <td>0.000000</td>\n",
              "      <td>0.000000</td>\n",
              "      <td>49 to 64</td>\n",
              "      <td>197 to 246</td>\n",
              "    </tr>\n",
              "    <tr>\n",
              "      <th>9</th>\n",
              "      <td>0.118705</td>\n",
              "      <td>0.139241</td>\n",
              "      <td>0.103139</td>\n",
              "      <td>0.057292</td>\n",
              "      <td>0.005236</td>\n",
              "      <td>65 to 80</td>\n",
              "      <td>99 to 148</td>\n",
              "    </tr>\n",
              "    <tr>\n",
              "      <th>10</th>\n",
              "      <td>0.118705</td>\n",
              "      <td>0.177215</td>\n",
              "      <td>0.139013</td>\n",
              "      <td>0.010417</td>\n",
              "      <td>0.000000</td>\n",
              "      <td>65 to 80</td>\n",
              "      <td>149 to 196</td>\n",
              "    </tr>\n",
              "    <tr>\n",
              "      <th>11</th>\n",
              "      <td>0.136691</td>\n",
              "      <td>0.072785</td>\n",
              "      <td>0.013453</td>\n",
              "      <td>0.000000</td>\n",
              "      <td>0.000000</td>\n",
              "      <td>65 to 80</td>\n",
              "      <td>197 to 246</td>\n",
              "    </tr>\n",
              "  </tbody>\n",
              "</table>\n",
              "</div>"
            ],
            "text/plain": [
              "     0-60min  60-120min  120-180min  180-240min  240-300min       age  \\\n",
              "0   0.064748   0.066456    0.165919    0.223958    0.277487  17 to 33   \n",
              "1   0.079137   0.082278    0.125561    0.156250    0.036649  17 to 33   \n",
              "2   0.086331   0.028481    0.013453    0.000000    0.000000  17 to 33   \n",
              "3   0.071942   0.082278    0.107623    0.218750    0.319372  34 to 48   \n",
              "4   0.071942   0.085443    0.085202    0.057292    0.073298  34 to 48   \n",
              "5   0.079137   0.050633    0.013453    0.000000    0.000000  34 to 48   \n",
              "6   0.050360   0.050633    0.139013    0.161458    0.256545  49 to 64   \n",
              "7   0.071942   0.101266    0.067265    0.114583    0.031414  49 to 64   \n",
              "8   0.050360   0.063291    0.026906    0.000000    0.000000  49 to 64   \n",
              "9   0.118705   0.139241    0.103139    0.057292    0.005236  65 to 80   \n",
              "10  0.118705   0.177215    0.139013    0.010417    0.000000  65 to 80   \n",
              "11  0.136691   0.072785    0.013453    0.000000    0.000000  65 to 80   \n",
              "\n",
              "        weight  \n",
              "0    99 to 148  \n",
              "1   149 to 196  \n",
              "2   197 to 246  \n",
              "3    99 to 148  \n",
              "4   149 to 196  \n",
              "5   197 to 246  \n",
              "6    99 to 148  \n",
              "7   149 to 196  \n",
              "8   197 to 246  \n",
              "9    99 to 148  \n",
              "10  149 to 196  \n",
              "11  197 to 246  "
            ]
          },
          "metadata": {
            "tags": []
          },
          "execution_count": 300
        }
      ]
    },
    {
      "metadata": {
        "id": "0hiQn7CxIOq_",
        "colab_type": "code",
        "colab": {}
      },
      "cell_type": "code",
      "source": [
        "# Changed order of columns\n",
        "ctab = ctab[[ 'age', 'weight', '0-60min', '60-120min', '120-180min',\n",
        "             '180-240min', '240-300min']]"
      ],
      "execution_count": 0,
      "outputs": []
    },
    {
      "metadata": {
        "id": "ZanlnbaBJk8Z",
        "colab_type": "code",
        "colab": {
          "base_uri": "https://localhost:8080/",
          "height": 408
        },
        "outputId": "0a13f284-7211-4b0b-a9a3-4e7a57e26be0"
      },
      "cell_type": "code",
      "source": [
        "ctab"
      ],
      "execution_count": 302,
      "outputs": [
        {
          "output_type": "execute_result",
          "data": {
            "text/html": [
              "<div>\n",
              "<style scoped>\n",
              "    .dataframe tbody tr th:only-of-type {\n",
              "        vertical-align: middle;\n",
              "    }\n",
              "\n",
              "    .dataframe tbody tr th {\n",
              "        vertical-align: top;\n",
              "    }\n",
              "\n",
              "    .dataframe thead th {\n",
              "        text-align: right;\n",
              "    }\n",
              "</style>\n",
              "<table border=\"1\" class=\"dataframe\">\n",
              "  <thead>\n",
              "    <tr style=\"text-align: right;\">\n",
              "      <th></th>\n",
              "      <th>age</th>\n",
              "      <th>weight</th>\n",
              "      <th>0-60min</th>\n",
              "      <th>60-120min</th>\n",
              "      <th>120-180min</th>\n",
              "      <th>180-240min</th>\n",
              "      <th>240-300min</th>\n",
              "    </tr>\n",
              "  </thead>\n",
              "  <tbody>\n",
              "    <tr>\n",
              "      <th>0</th>\n",
              "      <td>17 to 33</td>\n",
              "      <td>99 to 148</td>\n",
              "      <td>0.064748</td>\n",
              "      <td>0.066456</td>\n",
              "      <td>0.165919</td>\n",
              "      <td>0.223958</td>\n",
              "      <td>0.277487</td>\n",
              "    </tr>\n",
              "    <tr>\n",
              "      <th>1</th>\n",
              "      <td>17 to 33</td>\n",
              "      <td>149 to 196</td>\n",
              "      <td>0.079137</td>\n",
              "      <td>0.082278</td>\n",
              "      <td>0.125561</td>\n",
              "      <td>0.156250</td>\n",
              "      <td>0.036649</td>\n",
              "    </tr>\n",
              "    <tr>\n",
              "      <th>2</th>\n",
              "      <td>17 to 33</td>\n",
              "      <td>197 to 246</td>\n",
              "      <td>0.086331</td>\n",
              "      <td>0.028481</td>\n",
              "      <td>0.013453</td>\n",
              "      <td>0.000000</td>\n",
              "      <td>0.000000</td>\n",
              "    </tr>\n",
              "    <tr>\n",
              "      <th>3</th>\n",
              "      <td>34 to 48</td>\n",
              "      <td>99 to 148</td>\n",
              "      <td>0.071942</td>\n",
              "      <td>0.082278</td>\n",
              "      <td>0.107623</td>\n",
              "      <td>0.218750</td>\n",
              "      <td>0.319372</td>\n",
              "    </tr>\n",
              "    <tr>\n",
              "      <th>4</th>\n",
              "      <td>34 to 48</td>\n",
              "      <td>149 to 196</td>\n",
              "      <td>0.071942</td>\n",
              "      <td>0.085443</td>\n",
              "      <td>0.085202</td>\n",
              "      <td>0.057292</td>\n",
              "      <td>0.073298</td>\n",
              "    </tr>\n",
              "    <tr>\n",
              "      <th>5</th>\n",
              "      <td>34 to 48</td>\n",
              "      <td>197 to 246</td>\n",
              "      <td>0.079137</td>\n",
              "      <td>0.050633</td>\n",
              "      <td>0.013453</td>\n",
              "      <td>0.000000</td>\n",
              "      <td>0.000000</td>\n",
              "    </tr>\n",
              "    <tr>\n",
              "      <th>6</th>\n",
              "      <td>49 to 64</td>\n",
              "      <td>99 to 148</td>\n",
              "      <td>0.050360</td>\n",
              "      <td>0.050633</td>\n",
              "      <td>0.139013</td>\n",
              "      <td>0.161458</td>\n",
              "      <td>0.256545</td>\n",
              "    </tr>\n",
              "    <tr>\n",
              "      <th>7</th>\n",
              "      <td>49 to 64</td>\n",
              "      <td>149 to 196</td>\n",
              "      <td>0.071942</td>\n",
              "      <td>0.101266</td>\n",
              "      <td>0.067265</td>\n",
              "      <td>0.114583</td>\n",
              "      <td>0.031414</td>\n",
              "    </tr>\n",
              "    <tr>\n",
              "      <th>8</th>\n",
              "      <td>49 to 64</td>\n",
              "      <td>197 to 246</td>\n",
              "      <td>0.050360</td>\n",
              "      <td>0.063291</td>\n",
              "      <td>0.026906</td>\n",
              "      <td>0.000000</td>\n",
              "      <td>0.000000</td>\n",
              "    </tr>\n",
              "    <tr>\n",
              "      <th>9</th>\n",
              "      <td>65 to 80</td>\n",
              "      <td>99 to 148</td>\n",
              "      <td>0.118705</td>\n",
              "      <td>0.139241</td>\n",
              "      <td>0.103139</td>\n",
              "      <td>0.057292</td>\n",
              "      <td>0.005236</td>\n",
              "    </tr>\n",
              "    <tr>\n",
              "      <th>10</th>\n",
              "      <td>65 to 80</td>\n",
              "      <td>149 to 196</td>\n",
              "      <td>0.118705</td>\n",
              "      <td>0.177215</td>\n",
              "      <td>0.139013</td>\n",
              "      <td>0.010417</td>\n",
              "      <td>0.000000</td>\n",
              "    </tr>\n",
              "    <tr>\n",
              "      <th>11</th>\n",
              "      <td>65 to 80</td>\n",
              "      <td>197 to 246</td>\n",
              "      <td>0.136691</td>\n",
              "      <td>0.072785</td>\n",
              "      <td>0.013453</td>\n",
              "      <td>0.000000</td>\n",
              "      <td>0.000000</td>\n",
              "    </tr>\n",
              "  </tbody>\n",
              "</table>\n",
              "</div>"
            ],
            "text/plain": [
              "         age      weight   0-60min  60-120min  120-180min  180-240min  \\\n",
              "0   17 to 33   99 to 148  0.064748   0.066456    0.165919    0.223958   \n",
              "1   17 to 33  149 to 196  0.079137   0.082278    0.125561    0.156250   \n",
              "2   17 to 33  197 to 246  0.086331   0.028481    0.013453    0.000000   \n",
              "3   34 to 48   99 to 148  0.071942   0.082278    0.107623    0.218750   \n",
              "4   34 to 48  149 to 196  0.071942   0.085443    0.085202    0.057292   \n",
              "5   34 to 48  197 to 246  0.079137   0.050633    0.013453    0.000000   \n",
              "6   49 to 64   99 to 148  0.050360   0.050633    0.139013    0.161458   \n",
              "7   49 to 64  149 to 196  0.071942   0.101266    0.067265    0.114583   \n",
              "8   49 to 64  197 to 246  0.050360   0.063291    0.026906    0.000000   \n",
              "9   65 to 80   99 to 148  0.118705   0.139241    0.103139    0.057292   \n",
              "10  65 to 80  149 to 196  0.118705   0.177215    0.139013    0.010417   \n",
              "11  65 to 80  197 to 246  0.136691   0.072785    0.013453    0.000000   \n",
              "\n",
              "    240-300min  \n",
              "0     0.277487  \n",
              "1     0.036649  \n",
              "2     0.000000  \n",
              "3     0.319372  \n",
              "4     0.073298  \n",
              "5     0.000000  \n",
              "6     0.256545  \n",
              "7     0.031414  \n",
              "8     0.000000  \n",
              "9     0.005236  \n",
              "10    0.000000  \n",
              "11    0.000000  "
            ]
          },
          "metadata": {
            "tags": []
          },
          "execution_count": 302
        }
      ]
    },
    {
      "metadata": {
        "id": "YM7IIhMTJ0w7",
        "colab_type": "code",
        "colab": {}
      },
      "cell_type": "code",
      "source": [
        ""
      ],
      "execution_count": 0,
      "outputs": []
    },
    {
      "metadata": {
        "id": "FN4c1g9-hAT0",
        "colab_type": "code",
        "colab": {}
      },
      "cell_type": "code",
      "source": [
        ""
      ],
      "execution_count": 0,
      "outputs": []
    },
    {
      "metadata": {
        "id": "BT9gdS7viJZa",
        "colab_type": "text"
      },
      "cell_type": "markdown",
      "source": [
        "### Assignment questions\n",
        "\n",
        "After you've worked on some code, answer the following questions in this text block:\n",
        "\n",
        "1.  What are the variable types in the data?\n",
        ">There are three variables (age, weight, and exercise time). All are continuos numerical variables that we then changed to discrete ordinal variables after performing cross tabulation\n",
        "2.  What are the relationships between the variables?\n",
        "3.  Which relationships are \"real\", and which spurious?\n"
      ]
    },
    {
      "metadata": {
        "id": "_XXg2crAipwP",
        "colab_type": "text"
      },
      "cell_type": "markdown",
      "source": [
        "## Stretch goals and resources\n",
        "\n",
        "Following are *optional* things for you to take a look at. Focus on the above assignment first, and make sure to commit and push your changes to GitHub.\n",
        "\n",
        "- [Spurious Correlations](http://tylervigen.com/spurious-correlations)\n",
        "- [NIH on controlling for confounding variables](https://www.ncbi.nlm.nih.gov/pmc/articles/PMC4017459/)\n",
        "\n",
        "Stretch goals:\n",
        "\n",
        "- Produce your own plot inspierd by the Spurious Correlation visualizations (and consider writing a blog post about it - both the content and how you made it)\n",
        "- Pick one of the techniques that NIH highlights for confounding variables - we'll be going into many of them later, but see if you can find which Python modules may help (hint - check scikit-learn)"
      ]
    },
    {
      "metadata": {
        "id": "hhkKBR5F8M4V",
        "colab_type": "code",
        "colab": {}
      },
      "cell_type": "code",
      "source": [
        ""
      ],
      "execution_count": 0,
      "outputs": []
    }
  ]
}