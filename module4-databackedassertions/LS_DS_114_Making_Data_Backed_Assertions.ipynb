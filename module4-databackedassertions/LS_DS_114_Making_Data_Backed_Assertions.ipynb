{
 "cells": [
  {
   "cell_type": "code",
   "execution_count": 1,
   "metadata": {},
   "outputs": [],
   "source": [
    "import pandas as pd\n",
    "import numpy as np\n",
    "import matplotlib.pyplot as plt"
   ]
  },
  {
   "cell_type": "code",
   "execution_count": 2,
   "metadata": {},
   "outputs": [
    {
     "data": {
      "text/html": [
       "<div>\n",
       "<style scoped>\n",
       "    .dataframe tbody tr th:only-of-type {\n",
       "        vertical-align: middle;\n",
       "    }\n",
       "\n",
       "    .dataframe tbody tr th {\n",
       "        vertical-align: top;\n",
       "    }\n",
       "\n",
       "    .dataframe thead th {\n",
       "        text-align: right;\n",
       "    }\n",
       "</style>\n",
       "<table border=\"1\" class=\"dataframe\">\n",
       "  <thead>\n",
       "    <tr style=\"text-align: right;\">\n",
       "      <th></th>\n",
       "      <th>age</th>\n",
       "      <th>weight</th>\n",
       "      <th>exercise_time</th>\n",
       "    </tr>\n",
       "  </thead>\n",
       "  <tbody>\n",
       "    <tr>\n",
       "      <th>0</th>\n",
       "      <td>44</td>\n",
       "      <td>118</td>\n",
       "      <td>192</td>\n",
       "    </tr>\n",
       "    <tr>\n",
       "      <th>1</th>\n",
       "      <td>41</td>\n",
       "      <td>161</td>\n",
       "      <td>35</td>\n",
       "    </tr>\n",
       "    <tr>\n",
       "      <th>2</th>\n",
       "      <td>46</td>\n",
       "      <td>128</td>\n",
       "      <td>220</td>\n",
       "    </tr>\n",
       "    <tr>\n",
       "      <th>3</th>\n",
       "      <td>39</td>\n",
       "      <td>216</td>\n",
       "      <td>57</td>\n",
       "    </tr>\n",
       "    <tr>\n",
       "      <th>4</th>\n",
       "      <td>28</td>\n",
       "      <td>116</td>\n",
       "      <td>182</td>\n",
       "    </tr>\n",
       "  </tbody>\n",
       "</table>\n",
       "</div>"
      ],
      "text/plain": [
       "   age  weight  exercise_time\n",
       "0   44     118            192\n",
       "1   41     161             35\n",
       "2   46     128            220\n",
       "3   39     216             57\n",
       "4   28     116            182"
      ]
     },
     "execution_count": 2,
     "metadata": {},
     "output_type": "execute_result"
    }
   ],
   "source": [
    "# Load dataset\n",
    "persons_url = 'https://raw.githubusercontent.com/LambdaSchool/DS-Unit-1-Sprint-1-Dealing-With-Data/master/module4-databackedassertions/persons.csv'\n",
    "persons = pd.read_csv(persons_url, index_col=0)\n",
    "persons.head()"
   ]
  },
  {
   "cell_type": "code",
   "execution_count": null,
   "metadata": {},
   "outputs": [],
   "source": [
    "pd.crosstab(persons['exercise_time'], persons['age'])"
   ]
  },
  {
   "cell_type": "code",
   "execution_count": 28,
   "metadata": {},
   "outputs": [],
   "source": [
    "time_bins = pd.cut(persons['exercise_time'], 5)\n",
    "pd.crosstab(persons['age'], time_bins)"
   ]
  },
  {
   "cell_type": "code",
   "execution_count": 32,
   "metadata": {},
   "outputs": [
    {
     "data": {
      "text/html": [
       "<div>\n",
       "<style scoped>\n",
       "    .dataframe tbody tr th:only-of-type {\n",
       "        vertical-align: middle;\n",
       "    }\n",
       "\n",
       "    .dataframe tbody tr th {\n",
       "        vertical-align: top;\n",
       "    }\n",
       "\n",
       "    .dataframe thead th {\n",
       "        text-align: right;\n",
       "    }\n",
       "</style>\n",
       "<table border=\"1\" class=\"dataframe\">\n",
       "  <thead>\n",
       "    <tr style=\"text-align: right;\">\n",
       "      <th>exercise_time</th>\n",
       "      <th>(-0.3, 60.0]</th>\n",
       "      <th>(60.0, 120.0]</th>\n",
       "      <th>(120.0, 180.0]</th>\n",
       "      <th>(180.0, 240.0]</th>\n",
       "      <th>(240.0, 300.0]</th>\n",
       "    </tr>\n",
       "    <tr>\n",
       "      <th>age</th>\n",
       "      <th></th>\n",
       "      <th></th>\n",
       "      <th></th>\n",
       "      <th></th>\n",
       "      <th></th>\n",
       "    </tr>\n",
       "  </thead>\n",
       "  <tbody>\n",
       "    <tr>\n",
       "      <th>(17.938, 28.333]</th>\n",
       "      <td>37</td>\n",
       "      <td>40</td>\n",
       "      <td>46</td>\n",
       "      <td>50</td>\n",
       "      <td>36</td>\n",
       "    </tr>\n",
       "    <tr>\n",
       "      <th>(28.333, 38.667]</th>\n",
       "      <td>53</td>\n",
       "      <td>41</td>\n",
       "      <td>39</td>\n",
       "      <td>42</td>\n",
       "      <td>42</td>\n",
       "    </tr>\n",
       "    <tr>\n",
       "      <th>(38.667, 49.0]</th>\n",
       "      <td>36</td>\n",
       "      <td>44</td>\n",
       "      <td>29</td>\n",
       "      <td>34</td>\n",
       "      <td>57</td>\n",
       "    </tr>\n",
       "    <tr>\n",
       "      <th>(49.0, 59.333]</th>\n",
       "      <td>29</td>\n",
       "      <td>38</td>\n",
       "      <td>37</td>\n",
       "      <td>31</td>\n",
       "      <td>49</td>\n",
       "    </tr>\n",
       "    <tr>\n",
       "      <th>(59.333, 69.667]</th>\n",
       "      <td>46</td>\n",
       "      <td>65</td>\n",
       "      <td>41</td>\n",
       "      <td>33</td>\n",
       "      <td>7</td>\n",
       "    </tr>\n",
       "    <tr>\n",
       "      <th>(69.667, 80.0]</th>\n",
       "      <td>77</td>\n",
       "      <td>88</td>\n",
       "      <td>31</td>\n",
       "      <td>2</td>\n",
       "      <td>0</td>\n",
       "    </tr>\n",
       "  </tbody>\n",
       "</table>\n",
       "</div>"
      ],
      "text/plain": [
       "exercise_time     (-0.3, 60.0]  (60.0, 120.0]  (120.0, 180.0]  (180.0, 240.0]  \\\n",
       "age                                                                             \n",
       "(17.938, 28.333]            37             40              46              50   \n",
       "(28.333, 38.667]            53             41              39              42   \n",
       "(38.667, 49.0]              36             44              29              34   \n",
       "(49.0, 59.333]              29             38              37              31   \n",
       "(59.333, 69.667]            46             65              41              33   \n",
       "(69.667, 80.0]              77             88              31               2   \n",
       "\n",
       "exercise_time     (240.0, 300.0]  \n",
       "age                               \n",
       "(17.938, 28.333]              36  \n",
       "(28.333, 38.667]              42  \n",
       "(38.667, 49.0]                57  \n",
       "(49.0, 59.333]                49  \n",
       "(59.333, 69.667]               7  \n",
       "(69.667, 80.0]                 0  "
      ]
     },
     "execution_count": 32,
     "metadata": {},
     "output_type": "execute_result"
    }
   ],
   "source": [
    "age_bins = pd.cut(persons['age'], 6)\n",
    "pd.crosstab(age_bins, time_bins)"
   ]
  },
  {
   "cell_type": "code",
   "execution_count": 40,
   "metadata": {},
   "outputs": [
    {
     "data": {
      "text/plain": [
       "Text(0, 0.5, 'Exercise Time')"
      ]
     },
     "execution_count": 40,
     "metadata": {},
     "output_type": "execute_result"
    },
    {
     "data": {
      "image/png": "[encoded data removed]",
      "text/plain": [
       "<Figure size 432x288 with 1 Axes>"
      ]
     },
     "metadata": {
      "needs_background": "light"
     },
     "output_type": "display_data"
    }
   ],
   "source": [
    "plt.scatter(persons['age'], persons['exercise_time'])\n",
    "plt.title('Age and Exercise Time Scatter Plot')\n",
    "plt.xlabel('Age')\n",
    "plt.ylabel('Exercise Time')"
   ]
  },
  {
   "cell_type": "code",
   "execution_count": 33,
   "metadata": {},
   "outputs": [
    {
     "data": {
      "text/html": [
       "<div>\n",
       "<style scoped>\n",
       "    .dataframe tbody tr th:only-of-type {\n",
       "        vertical-align: middle;\n",
       "    }\n",
       "\n",
       "    .dataframe tbody tr th {\n",
       "        vertical-align: top;\n",
       "    }\n",
       "\n",
       "    .dataframe thead th {\n",
       "        text-align: right;\n",
       "    }\n",
       "</style>\n",
       "<table border=\"1\" class=\"dataframe\">\n",
       "  <thead>\n",
       "    <tr style=\"text-align: right;\">\n",
       "      <th>exercise_time</th>\n",
       "      <th>(-0.3, 60.0]</th>\n",
       "      <th>(60.0, 120.0]</th>\n",
       "      <th>(120.0, 180.0]</th>\n",
       "      <th>(180.0, 240.0]</th>\n",
       "      <th>(240.0, 300.0]</th>\n",
       "    </tr>\n",
       "    <tr>\n",
       "      <th>weight</th>\n",
       "      <th></th>\n",
       "      <th></th>\n",
       "      <th></th>\n",
       "      <th></th>\n",
       "      <th></th>\n",
       "    </tr>\n",
       "  </thead>\n",
       "  <tbody>\n",
       "    <tr>\n",
       "      <th>(99.854, 120.857]</th>\n",
       "      <td>38</td>\n",
       "      <td>37</td>\n",
       "      <td>51</td>\n",
       "      <td>52</td>\n",
       "      <td>68</td>\n",
       "    </tr>\n",
       "    <tr>\n",
       "      <th>(120.857, 141.714]</th>\n",
       "      <td>33</td>\n",
       "      <td>56</td>\n",
       "      <td>50</td>\n",
       "      <td>62</td>\n",
       "      <td>80</td>\n",
       "    </tr>\n",
       "    <tr>\n",
       "      <th>(141.714, 162.571]</th>\n",
       "      <td>35</td>\n",
       "      <td>62</td>\n",
       "      <td>44</td>\n",
       "      <td>43</td>\n",
       "      <td>40</td>\n",
       "    </tr>\n",
       "    <tr>\n",
       "      <th>(162.571, 183.429]</th>\n",
       "      <td>41</td>\n",
       "      <td>67</td>\n",
       "      <td>43</td>\n",
       "      <td>31</td>\n",
       "      <td>3</td>\n",
       "    </tr>\n",
       "    <tr>\n",
       "      <th>(183.429, 204.286]</th>\n",
       "      <td>50</td>\n",
       "      <td>54</td>\n",
       "      <td>34</td>\n",
       "      <td>4</td>\n",
       "      <td>0</td>\n",
       "    </tr>\n",
       "    <tr>\n",
       "      <th>(204.286, 225.143]</th>\n",
       "      <td>50</td>\n",
       "      <td>39</td>\n",
       "      <td>1</td>\n",
       "      <td>0</td>\n",
       "      <td>0</td>\n",
       "    </tr>\n",
       "    <tr>\n",
       "      <th>(225.143, 246.0]</th>\n",
       "      <td>31</td>\n",
       "      <td>1</td>\n",
       "      <td>0</td>\n",
       "      <td>0</td>\n",
       "      <td>0</td>\n",
       "    </tr>\n",
       "  </tbody>\n",
       "</table>\n",
       "</div>"
      ],
      "text/plain": [
       "exercise_time       (-0.3, 60.0]  (60.0, 120.0]  (120.0, 180.0]  \\\n",
       "weight                                                            \n",
       "(99.854, 120.857]             38             37              51   \n",
       "(120.857, 141.714]            33             56              50   \n",
       "(141.714, 162.571]            35             62              44   \n",
       "(162.571, 183.429]            41             67              43   \n",
       "(183.429, 204.286]            50             54              34   \n",
       "(204.286, 225.143]            50             39               1   \n",
       "(225.143, 246.0]              31              1               0   \n",
       "\n",
       "exercise_time       (180.0, 240.0]  (240.0, 300.0]  \n",
       "weight                                              \n",
       "(99.854, 120.857]               52              68  \n",
       "(120.857, 141.714]              62              80  \n",
       "(141.714, 162.571]              43              40  \n",
       "(162.571, 183.429]              31               3  \n",
       "(183.429, 204.286]               4               0  \n",
       "(204.286, 225.143]               0               0  \n",
       "(225.143, 246.0]                 0               0  "
      ]
     },
     "execution_count": 33,
     "metadata": {},
     "output_type": "execute_result"
    }
   ],
   "source": [
    "weight_bins = pd.cut(persons['weight'], 7)\n",
    "pd.crosstab(weight_bins, time_bins)"
   ]
  },
  {
   "cell_type": "code",
   "execution_count": 41,
   "metadata": {},
   "outputs": [
    {
     "data": {
      "text/plain": [
       "Text(0, 0.5, 'Exercise Time')"
      ]
     },
     "execution_count": 41,
     "metadata": {},
     "output_type": "execute_result"
    },
    {
     "data": {
      "image/png": "[encoded data removed]",
      "text/plain": [
       "<Figure size 432x288 with 1 Axes>"
      ]
     },
     "metadata": {
      "needs_background": "light"
     },
     "output_type": "display_data"
    }
   ],
   "source": [
    "plt.scatter(persons['weight'], persons['exercise_time'])\n",
    "plt.title('Weight and Exercise Time Scatter Plot')\n",
    "plt.xlabel('Weight')\n",
    "plt.ylabel('Exercise Time')"
   ]
  },
  {
   "cell_type": "code",
   "execution_count": 34,
   "metadata": {},
   "outputs": [
    {
     "data": {
      "text/html": [
       "<div>\n",
       "<style scoped>\n",
       "    .dataframe tbody tr th:only-of-type {\n",
       "        vertical-align: middle;\n",
       "    }\n",
       "\n",
       "    .dataframe tbody tr th {\n",
       "        vertical-align: top;\n",
       "    }\n",
       "\n",
       "    .dataframe thead th {\n",
       "        text-align: right;\n",
       "    }\n",
       "</style>\n",
       "<table border=\"1\" class=\"dataframe\">\n",
       "  <thead>\n",
       "    <tr style=\"text-align: right;\">\n",
       "      <th>weight</th>\n",
       "      <th>(99.854, 120.857]</th>\n",
       "      <th>(120.857, 141.714]</th>\n",
       "      <th>(141.714, 162.571]</th>\n",
       "      <th>(162.571, 183.429]</th>\n",
       "      <th>(183.429, 204.286]</th>\n",
       "      <th>(204.286, 225.143]</th>\n",
       "      <th>(225.143, 246.0]</th>\n",
       "    </tr>\n",
       "    <tr>\n",
       "      <th>age</th>\n",
       "      <th></th>\n",
       "      <th></th>\n",
       "      <th></th>\n",
       "      <th></th>\n",
       "      <th></th>\n",
       "      <th></th>\n",
       "      <th></th>\n",
       "    </tr>\n",
       "  </thead>\n",
       "  <tbody>\n",
       "    <tr>\n",
       "      <th>(17.938, 28.333]</th>\n",
       "      <td>50</td>\n",
       "      <td>46</td>\n",
       "      <td>46</td>\n",
       "      <td>30</td>\n",
       "      <td>21</td>\n",
       "      <td>12</td>\n",
       "      <td>4</td>\n",
       "    </tr>\n",
       "    <tr>\n",
       "      <th>(28.333, 38.667]</th>\n",
       "      <td>60</td>\n",
       "      <td>46</td>\n",
       "      <td>41</td>\n",
       "      <td>29</td>\n",
       "      <td>22</td>\n",
       "      <td>15</td>\n",
       "      <td>4</td>\n",
       "    </tr>\n",
       "    <tr>\n",
       "      <th>(38.667, 49.0]</th>\n",
       "      <td>42</td>\n",
       "      <td>61</td>\n",
       "      <td>33</td>\n",
       "      <td>27</td>\n",
       "      <td>20</td>\n",
       "      <td>12</td>\n",
       "      <td>5</td>\n",
       "    </tr>\n",
       "    <tr>\n",
       "      <th>(49.0, 59.333]</th>\n",
       "      <td>39</td>\n",
       "      <td>45</td>\n",
       "      <td>34</td>\n",
       "      <td>31</td>\n",
       "      <td>21</td>\n",
       "      <td>13</td>\n",
       "      <td>1</td>\n",
       "    </tr>\n",
       "    <tr>\n",
       "      <th>(59.333, 69.667]</th>\n",
       "      <td>24</td>\n",
       "      <td>45</td>\n",
       "      <td>39</td>\n",
       "      <td>28</td>\n",
       "      <td>33</td>\n",
       "      <td>16</td>\n",
       "      <td>7</td>\n",
       "    </tr>\n",
       "    <tr>\n",
       "      <th>(69.667, 80.0]</th>\n",
       "      <td>31</td>\n",
       "      <td>38</td>\n",
       "      <td>31</td>\n",
       "      <td>40</td>\n",
       "      <td>25</td>\n",
       "      <td>22</td>\n",
       "      <td>11</td>\n",
       "    </tr>\n",
       "  </tbody>\n",
       "</table>\n",
       "</div>"
      ],
      "text/plain": [
       "weight            (99.854, 120.857]  (120.857, 141.714]  (141.714, 162.571]  \\\n",
       "age                                                                           \n",
       "(17.938, 28.333]                 50                  46                  46   \n",
       "(28.333, 38.667]                 60                  46                  41   \n",
       "(38.667, 49.0]                   42                  61                  33   \n",
       "(49.0, 59.333]                   39                  45                  34   \n",
       "(59.333, 69.667]                 24                  45                  39   \n",
       "(69.667, 80.0]                   31                  38                  31   \n",
       "\n",
       "weight            (162.571, 183.429]  (183.429, 204.286]  (204.286, 225.143]  \\\n",
       "age                                                                            \n",
       "(17.938, 28.333]                  30                  21                  12   \n",
       "(28.333, 38.667]                  29                  22                  15   \n",
       "(38.667, 49.0]                    27                  20                  12   \n",
       "(49.0, 59.333]                    31                  21                  13   \n",
       "(59.333, 69.667]                  28                  33                  16   \n",
       "(69.667, 80.0]                    40                  25                  22   \n",
       "\n",
       "weight            (225.143, 246.0]  \n",
       "age                                 \n",
       "(17.938, 28.333]                 4  \n",
       "(28.333, 38.667]                 4  \n",
       "(38.667, 49.0]                   5  \n",
       "(49.0, 59.333]                   1  \n",
       "(59.333, 69.667]                 7  \n",
       "(69.667, 80.0]                  11  "
      ]
     },
     "execution_count": 34,
     "metadata": {},
     "output_type": "execute_result"
    }
   ],
   "source": [
    "pd.crosstab(age_bins, weight_bins)"
   ]
  },
  {
   "cell_type": "code",
   "execution_count": 42,
   "metadata": {},
   "outputs": [
    {
     "data": {
      "text/plain": [
       "Text(0, 0.5, 'Weight')"
      ]
     },
     "execution_count": 42,
     "metadata": {},
     "output_type": "execute_result"
    },
    {
     "data": {
      "image/png": "[encoded data removed]",
      "text/plain": [
       "<Figure size 432x288 with 1 Axes>"
      ]
     },
     "metadata": {
      "needs_background": "light"
     },
     "output_type": "display_data"
    }
   ],
   "source": [
    "plt.scatter(persons['age'], persons['weight'])\n",
    "plt.title('Age and Weight Scatter Plot')\n",
    "plt.xlabel('Age')\n",
    "plt.ylabel('Weight')"
   ]
  },
  {
   "cell_type": "code",
   "execution_count": 35,
   "metadata": {},
   "outputs": [
    {
     "data": {
      "text/html": [
       "<div>\n",
       "<style scoped>\n",
       "    .dataframe tbody tr th:only-of-type {\n",
       "        vertical-align: middle;\n",
       "    }\n",
       "\n",
       "    .dataframe tbody tr th {\n",
       "        vertical-align: top;\n",
       "    }\n",
       "\n",
       "    .dataframe thead th {\n",
       "        text-align: right;\n",
       "    }\n",
       "</style>\n",
       "<table border=\"1\" class=\"dataframe\">\n",
       "  <thead>\n",
       "    <tr style=\"text-align: right;\">\n",
       "      <th></th>\n",
       "      <th>age</th>\n",
       "      <th>exercise_time</th>\n",
       "      <th>weight</th>\n",
       "    </tr>\n",
       "    <tr>\n",
       "      <th>exercise_time</th>\n",
       "      <th></th>\n",
       "      <th></th>\n",
       "      <th></th>\n",
       "    </tr>\n",
       "  </thead>\n",
       "  <tbody>\n",
       "    <tr>\n",
       "      <th>(-0.3, 60.0]</th>\n",
       "      <td>52.453237</td>\n",
       "      <td>28.550360</td>\n",
       "      <td>174.625899</td>\n",
       "    </tr>\n",
       "    <tr>\n",
       "      <th>(60.0, 120.0]</th>\n",
       "      <td>53.993671</td>\n",
       "      <td>89.490506</td>\n",
       "      <td>163.183544</td>\n",
       "    </tr>\n",
       "    <tr>\n",
       "      <th>(120.0, 180.0]</th>\n",
       "      <td>47.502242</td>\n",
       "      <td>151.838565</td>\n",
       "      <td>148.681614</td>\n",
       "    </tr>\n",
       "    <tr>\n",
       "      <th>(180.0, 240.0]</th>\n",
       "      <td>41.473958</td>\n",
       "      <td>209.526042</td>\n",
       "      <td>137.781250</td>\n",
       "    </tr>\n",
       "    <tr>\n",
       "      <th>(240.0, 300.0]</th>\n",
       "      <td>41.235602</td>\n",
       "      <td>270.094241</td>\n",
       "      <td>128.413613</td>\n",
       "    </tr>\n",
       "  </tbody>\n",
       "</table>\n",
       "</div>"
      ],
      "text/plain": [
       "                      age  exercise_time      weight\n",
       "exercise_time                                       \n",
       "(-0.3, 60.0]    52.453237      28.550360  174.625899\n",
       "(60.0, 120.0]   53.993671      89.490506  163.183544\n",
       "(120.0, 180.0]  47.502242     151.838565  148.681614\n",
       "(180.0, 240.0]  41.473958     209.526042  137.781250\n",
       "(240.0, 300.0]  41.235602     270.094241  128.413613"
      ]
     },
     "execution_count": 35,
     "metadata": {},
     "output_type": "execute_result"
    }
   ],
   "source": [
    "pd.pivot_table(persons, index=time_bins)"
   ]
  },
  {
   "cell_type": "code",
   "execution_count": 36,
   "metadata": {},
   "outputs": [
    {
     "data": {
      "text/html": [
       "<div>\n",
       "<style scoped>\n",
       "    .dataframe tbody tr th:only-of-type {\n",
       "        vertical-align: middle;\n",
       "    }\n",
       "\n",
       "    .dataframe tbody tr th {\n",
       "        vertical-align: top;\n",
       "    }\n",
       "\n",
       "    .dataframe thead th {\n",
       "        text-align: right;\n",
       "    }\n",
       "</style>\n",
       "<table border=\"1\" class=\"dataframe\">\n",
       "  <thead>\n",
       "    <tr style=\"text-align: right;\">\n",
       "      <th></th>\n",
       "      <th>age</th>\n",
       "      <th>exercise_time</th>\n",
       "      <th>weight</th>\n",
       "    </tr>\n",
       "    <tr>\n",
       "      <th>age</th>\n",
       "      <th></th>\n",
       "      <th></th>\n",
       "      <th></th>\n",
       "    </tr>\n",
       "  </thead>\n",
       "  <tbody>\n",
       "    <tr>\n",
       "      <th>(17.938, 28.333]</th>\n",
       "      <td>22.933014</td>\n",
       "      <td>152.483254</td>\n",
       "      <td>150.215311</td>\n",
       "    </tr>\n",
       "    <tr>\n",
       "      <th>(28.333, 38.667]</th>\n",
       "      <td>33.350230</td>\n",
       "      <td>145.926267</td>\n",
       "      <td>148.271889</td>\n",
       "    </tr>\n",
       "    <tr>\n",
       "      <th>(38.667, 49.0]</th>\n",
       "      <td>43.790000</td>\n",
       "      <td>159.730000</td>\n",
       "      <td>149.855000</td>\n",
       "    </tr>\n",
       "    <tr>\n",
       "      <th>(49.0, 59.333]</th>\n",
       "      <td>54.690217</td>\n",
       "      <td>162.103261</td>\n",
       "      <td>150.211957</td>\n",
       "    </tr>\n",
       "    <tr>\n",
       "      <th>(59.333, 69.667]</th>\n",
       "      <td>64.848958</td>\n",
       "      <td>113.458333</td>\n",
       "      <td>160.588542</td>\n",
       "    </tr>\n",
       "    <tr>\n",
       "      <th>(69.667, 80.0]</th>\n",
       "      <td>74.616162</td>\n",
       "      <td>74.752525</td>\n",
       "      <td>162.808081</td>\n",
       "    </tr>\n",
       "  </tbody>\n",
       "</table>\n",
       "</div>"
      ],
      "text/plain": [
       "                        age  exercise_time      weight\n",
       "age                                                   \n",
       "(17.938, 28.333]  22.933014     152.483254  150.215311\n",
       "(28.333, 38.667]  33.350230     145.926267  148.271889\n",
       "(38.667, 49.0]    43.790000     159.730000  149.855000\n",
       "(49.0, 59.333]    54.690217     162.103261  150.211957\n",
       "(59.333, 69.667]  64.848958     113.458333  160.588542\n",
       "(69.667, 80.0]    74.616162      74.752525  162.808081"
      ]
     },
     "execution_count": 36,
     "metadata": {},
     "output_type": "execute_result"
    }
   ],
   "source": [
    "pd.pivot_table(persons, index=age_bins)"
   ]
  },
  {
   "cell_type": "code",
   "execution_count": 38,
   "metadata": {},
   "outputs": [
    {
     "data": {
      "text/html": [
       "<div>\n",
       "<style scoped>\n",
       "    .dataframe tbody tr th:only-of-type {\n",
       "        vertical-align: middle;\n",
       "    }\n",
       "\n",
       "    .dataframe tbody tr th {\n",
       "        vertical-align: top;\n",
       "    }\n",
       "\n",
       "    .dataframe thead th {\n",
       "        text-align: right;\n",
       "    }\n",
       "</style>\n",
       "<table border=\"1\" class=\"dataframe\">\n",
       "  <thead>\n",
       "    <tr style=\"text-align: right;\">\n",
       "      <th></th>\n",
       "      <th>age</th>\n",
       "      <th>exercise_time</th>\n",
       "      <th>weight</th>\n",
       "    </tr>\n",
       "    <tr>\n",
       "      <th>weight</th>\n",
       "      <th></th>\n",
       "      <th></th>\n",
       "      <th></th>\n",
       "    </tr>\n",
       "  </thead>\n",
       "  <tbody>\n",
       "    <tr>\n",
       "      <th>(99.854, 120.857]</th>\n",
       "      <td>44.577236</td>\n",
       "      <td>169.284553</td>\n",
       "      <td>110.060976</td>\n",
       "    </tr>\n",
       "    <tr>\n",
       "      <th>(120.857, 141.714]</th>\n",
       "      <td>47.811388</td>\n",
       "      <td>173.174377</td>\n",
       "      <td>131.078292</td>\n",
       "    </tr>\n",
       "    <tr>\n",
       "      <th>(141.714, 162.571]</th>\n",
       "      <td>47.401786</td>\n",
       "      <td>147.562500</td>\n",
       "      <td>152.178571</td>\n",
       "    </tr>\n",
       "    <tr>\n",
       "      <th>(162.571, 183.429]</th>\n",
       "      <td>50.027027</td>\n",
       "      <td>112.583784</td>\n",
       "      <td>173.140541</td>\n",
       "    </tr>\n",
       "    <tr>\n",
       "      <th>(183.429, 204.286]</th>\n",
       "      <td>51.049296</td>\n",
       "      <td>84.943662</td>\n",
       "      <td>194.211268</td>\n",
       "    </tr>\n",
       "    <tr>\n",
       "      <th>(204.286, 225.143]</th>\n",
       "      <td>53.044444</td>\n",
       "      <td>54.766667</td>\n",
       "      <td>212.988889</td>\n",
       "    </tr>\n",
       "    <tr>\n",
       "      <th>(225.143, 246.0]</th>\n",
       "      <td>55.593750</td>\n",
       "      <td>22.312500</td>\n",
       "      <td>233.593750</td>\n",
       "    </tr>\n",
       "  </tbody>\n",
       "</table>\n",
       "</div>"
      ],
      "text/plain": [
       "                          age  exercise_time      weight\n",
       "weight                                                  \n",
       "(99.854, 120.857]   44.577236     169.284553  110.060976\n",
       "(120.857, 141.714]  47.811388     173.174377  131.078292\n",
       "(141.714, 162.571]  47.401786     147.562500  152.178571\n",
       "(162.571, 183.429]  50.027027     112.583784  173.140541\n",
       "(183.429, 204.286]  51.049296      84.943662  194.211268\n",
       "(204.286, 225.143]  53.044444      54.766667  212.988889\n",
       "(225.143, 246.0]    55.593750      22.312500  233.593750"
      ]
     },
     "execution_count": 38,
     "metadata": {},
     "output_type": "execute_result"
    }
   ],
   "source": [
    "pd.pivot_table(persons, index=weight_bins)"
   ]
  },
  {
   "cell_type": "markdown",
   "metadata": {},
   "source": [
    "## Assignment Qestions:\n",
    "\n",
    "1. What are the variable types in the data?\n",
    "2. What are the relationships between the variables?\n",
    "3. Which relationships are \"real\", and which spurious?"
   ]
  },
  {
   "cell_type": "markdown",
   "metadata": {},
   "source": [
    "1. Variables age, weight, and exercise_time are all continuous variables. We can make them discrete variables by creating bins to group the data."
   ]
  },
  {
   "cell_type": "markdown",
   "metadata": {},
   "source": [
    "2. There is no relationship between age and weight. There is a slight relationship between age and exercise time. Around age 65, there is a negative relationship between age and exercise time. The strongest relationship is between weight and exercise time, which suggests that the less a person exercises, the more they will weigh.\n"
   ]
  },
  {
   "cell_type": "markdown",
   "metadata": {},
   "source": [
    "3. \n",
    "The relationship between age and exercise time seems real, but the dataset doesn't tell if there are health or other reasons that may affect exercise time; for instance, someone over 65 might have health issues that cause them to exercise less. The relationship between weight and exercise time also seems real, but the biggest problem with the dataset is that we don't have height or gender data for the participants, so there's no way to tell if a participant is at an ideal weight for their height and gender. Since we don't have the height and gender data, the relationship between weight and exercise time may be supurious."
   ]
  },
  {
   "cell_type": "markdown",
   "metadata": {},
   "source": [
    "## Stretch Goals"
   ]
  },
  {
   "cell_type": "code",
   "execution_count": 46,
   "metadata": {},
   "outputs": [
    {
     "data": {
      "text/html": [
       "<script type=\"text/javascript\">window.PlotlyConfig = {MathJaxConfig: 'local'};</script><script type=\"text/javascript\">if (window.MathJax) {MathJax.Hub.Config({SVG: {font: \"STIX-Web\"}});}</script><script>requirejs.config({paths: { 'plotly': ['https://cdn.plot.ly/plotly-latest.min']},});if(!window._Plotly) {require(['plotly'],function(plotly) {window._Plotly=plotly;});}</script>"
      ],
      "text/vnd.plotly.v1+html": [
       "<script type=\"text/javascript\">window.PlotlyConfig = {MathJaxConfig: 'local'};</script><script type=\"text/javascript\">if (window.MathJax) {MathJax.Hub.Config({SVG: {font: \"STIX-Web\"}});}</script><script>requirejs.config({paths: { 'plotly': ['https://cdn.plot.ly/plotly-latest.min']},});if(!window._Plotly) {require(['plotly'],function(plotly) {window._Plotly=plotly;});}</script>"
      ]
     },
     "metadata": {},
     "output_type": "display_data"
    }
   ],
   "source": [
    "import plotly\n",
    "from plotly.offline import plot\n",
    "import plotly.graph_objs as go\n",
    "\n",
    "plotly.offline.init_notebook_mode(connected=True)"
   ]
  },
  {
   "cell_type": "code",
   "execution_count": 61,
   "metadata": {},
   "outputs": [
    {
     "data": {
      "application/vnd.plotly.v1+json": {
       "config": {
        "linkText": "Export to plot.ly",
        "plotlyServerURL": "https://plot.ly",
        "showLink": false
       },
       "data": [
        {
         "name": "yaxis data",
         "type": "scatter",
         "uid": "7e41b50f-e76f-4d08-b8a3-a8d5a9ea60b2",
         "x": [
          2007,
          2008,
          2009,
          2010
         ],
         "y": [
          7,
          7,
          12,
          2
         ]
        },
        {
         "name": "yaxis2 data",
         "type": "scatter",
         "uid": "66fdd62b-d98d-4e36-bf04-0ec7a7fe2818",
         "x": [
          2007,
          2008,
          2009,
          2010
         ],
         "xaxis": "x",
         "y": [
          10.93,
          10.935,
          10.99,
          10.825
         ],
         "yaxis": "y2"
        }
       ],
       "layout": {
        "title": {
         "text": "Double Y Axis Example"
        },
        "yaxis": {
         "title": {
          "text": "yaxis title"
         }
        },
        "yaxis2": {
         "overlaying": "y",
         "side": "right",
         "tickfont": {
          "color": "red"
         },
         "title": {
          "font": {
           "color": "red"
          },
          "text": "yaxis2 title"
         }
        }
       }
      },
      "text/html": [
       "<div id=\"d5ba8658-a7c4-4f38-8006-b207ac5374ec\" style=\"height: 525px; width: 100%;\" class=\"plotly-graph-div\"></div><script type=\"text/javascript\">require([\"plotly\"], function(Plotly) { window.PLOTLYENV=window.PLOTLYENV || {};window.PLOTLYENV.BASE_URL=\"https://plot.ly\";\n",
       "if (document.getElementById(\"d5ba8658-a7c4-4f38-8006-b207ac5374ec\")) {\n",
       "    Plotly.newPlot(\"d5ba8658-a7c4-4f38-8006-b207ac5374ec\", [{\"name\": \"yaxis data\", \"x\": [2007, 2008, 2009, 2010], \"y\": [7, 7, 12, 2], \"type\": \"scatter\", \"uid\": \"7e41b50f-e76f-4d08-b8a3-a8d5a9ea60b2\"}, {\"name\": \"yaxis2 data\", \"x\": [2007, 2008, 2009, 2010], \"xaxis\": \"x\", \"y\": [10.93, 10.935, 10.99, 10.825], \"yaxis\": \"y2\", \"type\": \"scatter\", \"uid\": \"66fdd62b-d98d-4e36-bf04-0ec7a7fe2818\"}], {\"title\": {\"text\": \"Double Y Axis Example\"}, \"yaxis\": {\"title\": {\"text\": \"yaxis title\"}}, \"yaxis2\": {\"overlaying\": \"y\", \"side\": \"right\", \"tickfont\": {\"color\": \"red\"}, \"title\": {\"font\": {\"color\": \"red\"}, \"text\": \"yaxis2 title\"}}}, {\"showLink\": false, \"linkText\": \"Export to plot.ly\", \"plotlyServerURL\": \"https://plot.ly\"}); \n",
       "}\n",
       "});</script><script type=\"text/javascript\">window.addEventListener(\"resize\", function(){if (document.getElementById(\"d5ba8658-a7c4-4f38-8006-b207ac5374ec\")) {window._Plotly.Plots.resize(document.getElementById(\"d5ba8658-a7c4-4f38-8006-b207ac5374ec\"));};})</script>"
      ],
      "text/vnd.plotly.v1+html": [
       "<div id=\"d5ba8658-a7c4-4f38-8006-b207ac5374ec\" style=\"height: 525px; width: 100%;\" class=\"plotly-graph-div\"></div><script type=\"text/javascript\">require([\"plotly\"], function(Plotly) { window.PLOTLYENV=window.PLOTLYENV || {};window.PLOTLYENV.BASE_URL=\"https://plot.ly\";\n",
       "if (document.getElementById(\"d5ba8658-a7c4-4f38-8006-b207ac5374ec\")) {\n",
       "    Plotly.newPlot(\"d5ba8658-a7c4-4f38-8006-b207ac5374ec\", [{\"name\": \"yaxis data\", \"x\": [2007, 2008, 2009, 2010], \"y\": [7, 7, 12, 2], \"type\": \"scatter\", \"uid\": \"7e41b50f-e76f-4d08-b8a3-a8d5a9ea60b2\"}, {\"name\": \"yaxis2 data\", \"x\": [2007, 2008, 2009, 2010], \"xaxis\": \"x\", \"y\": [10.93, 10.935, 10.99, 10.825], \"yaxis\": \"y2\", \"type\": \"scatter\", \"uid\": \"66fdd62b-d98d-4e36-bf04-0ec7a7fe2818\"}], {\"title\": {\"text\": \"Double Y Axis Example\"}, \"yaxis\": {\"title\": {\"text\": \"yaxis title\"}}, \"yaxis2\": {\"overlaying\": \"y\", \"side\": \"right\", \"tickfont\": {\"color\": \"red\"}, \"title\": {\"font\": {\"color\": \"red\"}, \"text\": \"yaxis2 title\"}}}, {\"showLink\": false, \"linkText\": \"Export to plot.ly\", \"plotlyServerURL\": \"https://plot.ly\"}); \n",
       "}\n",
       "});</script><script type=\"text/javascript\">window.addEventListener(\"resize\", function(){if (document.getElementById(\"d5ba8658-a7c4-4f38-8006-b207ac5374ec\")) {window._Plotly.Plots.resize(document.getElementById(\"d5ba8658-a7c4-4f38-8006-b207ac5374ec\"));};})</script>"
      ]
     },
     "metadata": {},
     "output_type": "display_data"
    }
   ],
   "source": [
    "# first line: Drowning Caused by an Accident Involving a Nonpowered Inflatable Craft\n",
    "trace1 = go.Scatter(\n",
    "    x = [2007, 2008, 2009, 2010],\n",
    "    y = [7, 7, 12, 2],\n",
    "    name='yaxis data'\n",
    ")\n",
    "# second line: Visitors to Disney Worlds Epcot\n",
    "trace2 = go.Scatter(\n",
    "    x = [2007, 2008, 2009, 2010],\n",
    "    y = [10.93, 10.935, 10.99, 10.825],\n",
    "    name='yaxis2 data',\n",
    "    yaxis='y2',\n",
    "    xaxis='x1'\n",
    ")\n",
    "data = [trace1, trace2]\n",
    "layout = go.Layout(\n",
    "    title='Double Y Axis Example',\n",
    "    yaxis=dict(\n",
    "        title='yaxis title'\n",
    "    ),\n",
    "    yaxis2=dict(\n",
    "        title='yaxis2 title',\n",
    "        titlefont=dict(\n",
    "            color='red'\n",
    "#             color='rbg(148, 103, 189)'\n",
    "        ),\n",
    "        tickfont=dict(\n",
    "#             color='rbg(148, 103, 189)'\n",
    "            color='red'\n",
    "        ),\n",
    "        overlaying='y',\n",
    "        side='right'\n",
    "    )\n",
    ")\n",
    "fig = go.Figure(data=data, layout=layout)\n",
    "plotly.offline.iplot(fig)"
   ]
  },
  {
   "cell_type": "code",
   "execution_count": 58,
   "metadata": {},
   "outputs": [
    {
     "name": "stdout",
     "output_type": "stream",
     "text": [
      "Help on function iplot in module plotly.offline.offline:\n",
      "\n",
      "iplot(figure_or_data, show_link=False, link_text='Export to plot.ly', validate=True, image=None, filename='plot_image', image_width=800, image_height=600, config=None, auto_play=True)\n",
      "    Draw plotly graphs inside an IPython or Jupyter notebook without\n",
      "    connecting to an external server.\n",
      "    To save the chart to Plotly Cloud or Plotly Enterprise, use\n",
      "    `plotly.plotly.iplot`.\n",
      "    To embed an image of the chart, use `plotly.image.ishow`.\n",
      "    \n",
      "    figure_or_data -- a plotly.graph_objs.Figure or plotly.graph_objs.Data or\n",
      "                      dict or list that describes a Plotly graph.\n",
      "                      See https://plot.ly/python/ for examples of\n",
      "                      graph descriptions.\n",
      "    \n",
      "    Keyword arguments:\n",
      "    show_link (default=False) -- display a link in the bottom-right corner of\n",
      "                                of the chart that will export the chart to\n",
      "                                Plotly Cloud or Plotly Enterprise\n",
      "    link_text (default='Export to plot.ly') -- the text of export link\n",
      "    validate (default=True) -- validate that all of the keys in the figure\n",
      "                               are valid? omit if your version of plotly.js\n",
      "                               has become outdated with your version of\n",
      "                               graph_reference.json or if you need to include\n",
      "                               extra, unnecessary keys in your figure.\n",
      "    image (default=None |'png' |'jpeg' |'svg' |'webp') -- This parameter sets\n",
      "        the format of the image to be downloaded, if we choose to download an\n",
      "        image. This parameter has a default value of None indicating that no\n",
      "        image should be downloaded. Please note: for higher resolution images\n",
      "        and more export options, consider making requests to our image servers.\n",
      "        Type: `help(py.image)` for more details.\n",
      "    filename (default='plot') -- Sets the name of the file your image\n",
      "        will be saved to. The extension should not be included.\n",
      "    image_height (default=600) -- Specifies the height of the image in `px`.\n",
      "    image_width (default=800) -- Specifies the width of the image in `px`.\n",
      "    config (default=None) -- Plot view options dictionary. Keyword arguments\n",
      "        `show_link` and `link_text` set the associated options in this\n",
      "        dictionary if it doesn't contain them already.\n",
      "    auto_play (default=True) -- Whether to automatically start the animation\n",
      "        sequence if the figure contains frames. Has no effect if the figure\n",
      "        does not contain frames.\n",
      "    \n",
      "    Example:\n",
      "    ```\n",
      "    from plotly.offline import init_notebook_mode, iplot\n",
      "    init_notebook_mode()\n",
      "    iplot([{'x': [1, 2, 3], 'y': [5, 2, 7]}])\n",
      "    # We can also download an image of the plot by setting the image to the\n",
      "    format you want. e.g. `image='png'`\n",
      "    iplot([{'x': [1, 2, 3], 'y': [5, 2, 7]}], image='png')\n",
      "    ```\n",
      "\n"
     ]
    }
   ],
   "source": [
    "help(plotly.offline.iplot)"
   ]
  },
  {
   "cell_type": "code",
   "execution_count": null,
   "metadata": {},
   "outputs": [],
   "source": []
  }
 ],
 "metadata": {
  "kernelspec": {
   "display_name": "lambda",
   "language": "python",
   "name": "lambda"
  },
  "language_info": {
   "codemirror_mode": {
    "name": "ipython",
    "version": 3
   },
   "file_extension": ".py",
   "mimetype": "text/x-python",
   "name": "python",
   "nbconvert_exporter": "python",
   "pygments_lexer": "ipython3",
   "version": "3.7.2"
  }
 },
 "nbformat": 4,
 "nbformat_minor": 2
}
