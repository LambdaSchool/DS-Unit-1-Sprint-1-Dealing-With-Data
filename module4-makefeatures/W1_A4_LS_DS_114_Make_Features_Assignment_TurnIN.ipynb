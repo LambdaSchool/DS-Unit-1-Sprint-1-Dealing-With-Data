{
  "nbformat": 4,
  "nbformat_minor": 0,
  "metadata": {
    "colab": {
      "name": "W1-A4- LS_DS_114_Make_Features_Assignment.ipynb",
      "version": "0.3.2",
      "provenance": [],
      "collapsed_sections": [],
      "include_colab_link": true
    },
    "kernelspec": {
      "name": "python3",
      "display_name": "Python 3"
    }
  },
  "cells": [
    {
      "cell_type": "markdown",
      "metadata": {
        "id": "view-in-github",
        "colab_type": "text"
      },
      "source": [
        "<a href=\"https://colab.research.google.com/github/DAVIDnHANG/DS-Unit-1-Sprint-1-Dealing-With-Data/blob/master/module4-makefeatures/W1_A4_LS_DS_114_Make_Features_Assignment_TurnIN.ipynb\" target=\"_parent\"><img src=\"https://colab.research.google.com/assets/colab-badge.svg\" alt=\"Open In Colab\"/></a>"
      ]
    },
    {
      "cell_type": "markdown",
      "metadata": {
        "id": "Okfr_uhwhS1X",
        "colab_type": "text"
      },
      "source": [
        "LS_DS_114_Make_Features_Assignment.ipynb\n",
        "LS_DS_114_Make_Features_Assignment.ipynb"
      ]
    },
    {
      "cell_type": "markdown",
      "metadata": {
        "id": "lOqaPds9huME",
        "colab_type": "text"
      },
      "source": [
        "\n",
        "ASSIGNMENT\n",
        "Replicate the lesson code.\n",
        "\n",
        "This means that if you haven't followed along already, type out the things that we did in class. Forcing your fingers to hit each key will help you internalize the syntax of what we're doing.\n",
        "Lambda Learning Method for DS - By Ryan Herr\n",
        "\n",
        "Convert the term column from string to integer.\n",
        "Make a column named loan_status_is_great. \n",
        "It should contain the integer 1 if loan_status is \"Current\" or \"Fully Paid.\" \n",
        "Else it should contain the integer 0.\n",
        "\n",
        "Make last_pymnt_d_month and last_pymnt_d_year columns."
      ]
    },
    {
      "cell_type": "code",
      "metadata": {
        "id": "sTpt2FNcJmag",
        "colab_type": "code",
        "colab": {}
      },
      "source": [
        "!wget https://resources.lendingclub.com/LoanStats_2018Q4.csv.zip\n",
        "!unzip LoanStats_2018Q4.csv.zip"
      ],
      "execution_count": 0,
      "outputs": []
    },
    {
      "cell_type": "code",
      "metadata": {
        "id": "9DsJxmKpZ79X",
        "colab_type": "code",
        "colab": {}
      },
      "source": [
        "#look at beginning of file useful fo header!\n",
        "!head LoanStats_2018Q4.csv\n",
        "#look at the end of the file useful for footheader\n",
        "!tail LoanStats_2018Q4.csv"
      ],
      "execution_count": 0,
      "outputs": []
    },
    {
      "cell_type": "markdown",
      "metadata": {
        "id": "5HJWh0SLetav",
        "colab_type": "text"
      },
      "source": [
        "# Original Data"
      ]
    },
    {
      "cell_type": "code",
      "metadata": {
        "id": "kd8yDco1UYFS",
        "colab_type": "code",
        "colab": {}
      },
      "source": [
        "import pandas as pd\n",
        "\n",
        "#set the amount of rows/columns\n",
        "pd.set_option('display.max_rows',50)\n",
        "pd.set_option('display.max_columns',50)\n",
        "\n",
        "\n",
        "#think about the header and the footheader\n",
        "df_LoanStats = pd.read_csv('LoanStats_2018Q4.csv', header=1, skipfooter = 2)\n",
        "\n"
      ],
      "execution_count": 0,
      "outputs": []
    },
    {
      "cell_type": "markdown",
      "metadata": {
        "id": "htLOM9oueysf",
        "colab_type": "text"
      },
      "source": [
        "# Dropped ID, memberId desc and URL\n",
        "and loan_status_is_great function is here\n",
        "\n"
      ]
    },
    {
      "cell_type": "code",
      "metadata": {
        "id": "fK3fUY_8dopH",
        "colab_type": "code",
        "colab": {
          "base_uri": "https://localhost:8080/",
          "height": 901
        },
        "outputId": "882a4981-86db-436a-f85c-22a5ff6a0823"
      },
      "source": [
        "df_LoanStatsDropped=df_LoanStats.drop(columns=['id','member_id','desc','url'])\n",
        "df_LoanStatsDropped.head(25)\n",
        "def remove_percent_to_float(string):\n",
        "  return float(string.strip('%'))\n",
        "\n",
        "df_LoanStatsDropped['int_rate']=df_LoanStatsDropped['int_rate'].apply(remove_percent_to_float)\n",
        "df_LoanStatsDropped\n",
        "\n",
        "#Make a column named loan_status_is_great. It should contain the integer 1 if loan_status is \"Current\" or \"Fully Paid.\" Else it should contain the integer 0.\n",
        "def loan_status_is_great(string):\n",
        "  if (df_LoanStatsDropped['loan_status'].equals(\"Current\") or df_LoanStatsDropped['loan_status'].equals(\"Fully Paid\")):\n",
        "    return 1\n",
        "  else:\n",
        "    return 0\n",
        "#replacing all columns with apply function\n",
        "df_LoanStatsDropped['loan_status_is_great'] = df_LoanStatsDropped['loan_status'].apply(loan_status_is_great)\n",
        "df_LoanStatsDropped['loan_status_is_great']  #added at end of row. use .insert(x,y,value) to replace at a specific spot\n"
      ],
      "execution_count": 94,
      "outputs": [
        {
          "output_type": "execute_result",
          "data": {
            "text/plain": [
              "0         0\n",
              "1         0\n",
              "2         0\n",
              "3         0\n",
              "4         0\n",
              "5         0\n",
              "6         0\n",
              "7         0\n",
              "8         0\n",
              "9         0\n",
              "10        0\n",
              "11        0\n",
              "12        0\n",
              "13        0\n",
              "14        0\n",
              "15        0\n",
              "16        0\n",
              "17        0\n",
              "18        0\n",
              "19        0\n",
              "20        0\n",
              "21        0\n",
              "22        0\n",
              "23        0\n",
              "24        0\n",
              "         ..\n",
              "128387    0\n",
              "128388    0\n",
              "128389    0\n",
              "128390    0\n",
              "128391    0\n",
              "128392    0\n",
              "128393    0\n",
              "128394    0\n",
              "128395    0\n",
              "128396    0\n",
              "128397    0\n",
              "128398    0\n",
              "128399    0\n",
              "128400    0\n",
              "128401    0\n",
              "128402    0\n",
              "128403    0\n",
              "128404    0\n",
              "128405    0\n",
              "128406    0\n",
              "128407    0\n",
              "128408    0\n",
              "128409    0\n",
              "128410    0\n",
              "128411    0\n",
              "Name: loan_status_is_great, Length: 128412, dtype: int64"
            ]
          },
          "metadata": {
            "tags": []
          },
          "execution_count": 94
        }
      ]
    },
    {
      "cell_type": "markdown",
      "metadata": {
        "id": "IJD_P5cAxDrX",
        "colab_type": "text"
      },
      "source": [
        "Convert \"term\" to float"
      ]
    },
    {
      "cell_type": "code",
      "metadata": {
        "id": "u7VJgc9ZvoEx",
        "colab_type": "code",
        "colab": {
          "base_uri": "https://localhost:8080/",
          "height": 901
        },
        "outputId": "fb2ba787-ca54-405c-cb25-921de781f22a"
      },
      "source": [
        "#replace all months with empty space\n",
        "def remove_months_andConvert_float(string):\n",
        "  return int(string.replace('months',''))\n",
        "\n",
        "df_LoanStatsDropped['term'] = df_LoanStatsDropped['term'].apply(remove_months_andConvert_float)\n",
        "df_LoanStatsDropped['term']"
      ],
      "execution_count": 95,
      "outputs": [
        {
          "output_type": "execute_result",
          "data": {
            "text/plain": [
              "0         36\n",
              "1         36\n",
              "2         36\n",
              "3         60\n",
              "4         36\n",
              "5         60\n",
              "6         36\n",
              "7         60\n",
              "8         36\n",
              "9         60\n",
              "10        60\n",
              "11        60\n",
              "12        60\n",
              "13        60\n",
              "14        36\n",
              "15        36\n",
              "16        36\n",
              "17        60\n",
              "18        60\n",
              "19        60\n",
              "20        36\n",
              "21        36\n",
              "22        36\n",
              "23        36\n",
              "24        60\n",
              "          ..\n",
              "128387    36\n",
              "128388    36\n",
              "128389    36\n",
              "128390    36\n",
              "128391    36\n",
              "128392    36\n",
              "128393    36\n",
              "128394    36\n",
              "128395    36\n",
              "128396    60\n",
              "128397    60\n",
              "128398    60\n",
              "128399    36\n",
              "128400    60\n",
              "128401    36\n",
              "128402    60\n",
              "128403    36\n",
              "128404    36\n",
              "128405    60\n",
              "128406    36\n",
              "128407    36\n",
              "128408    36\n",
              "128409    36\n",
              "128410    36\n",
              "128411    36\n",
              "Name: term, Length: 128412, dtype: int64"
            ]
          },
          "metadata": {
            "tags": []
          },
          "execution_count": 95
        }
      ]
    },
    {
      "cell_type": "code",
      "metadata": {
        "id": "wbHM4vzVzOu3",
        "colab_type": "code",
        "colab": {}
      },
      "source": [
        "df_loanStatsDropped['last_pymnt_d_month']='1' # add a column after loan_status_is_great, filling its column with default. fill each row with 1.\n",
        "df_loanStatsDropped.insert(1,'last_pymnt_d_year','xxxx') #add last_pymnt_d_year in the first column, filling in xxxx as its values.\n",
        "\n",
        "#if i wanted to fill the column with 1-12 randomly?\n",
        "from random import randrange\n",
        "\n",
        "for _ in df_loanStatsDropped['last_pymnt_d_month']:\n",
        "  return df_loanStatsDropped['last_pymnt_d_month'] = randrange(12)\n"
      ],
      "execution_count": 0,
      "outputs": []
    },
    {
      "cell_type": "markdown",
      "metadata": {
        "id": "OApgrDUmekjU",
        "colab_type": "text"
      },
      "source": [
        "# just some commands to help ID row/column, and DF"
      ]
    },
    {
      "cell_type": "code",
      "metadata": {
        "id": "ZjC1UpgGXBSw",
        "colab_type": "code",
        "colab": {
          "base_uri": "https://localhost:8080/",
          "height": 170
        },
        "outputId": "b448f3a2-3b51-4530-9a48-2dc80e9342b1"
      },
      "source": [
        "##some useful commands\n",
        "#list all the columns\n",
        "df_LoanStats.columns \n",
        "\n",
        "#give the number of 0 = rows, then 1= columns in (0,1)#\n",
        "#df_LoanStats.shape\n",
        "\n",
        "#df_LoanStats.shape[1]\n",
        "\n",
        "#list all the columns\n",
        "#list(df_LoanStats.columns)\n",
        "\n",
        "#looks for all null\n",
        "#df_LoanStats.isnull().sum()           \n",
        "#looks for only na\n",
        "#df_LoanStats.isna().sum()\n",
        "#here is how you sort stuff\n",
        "#.sort_values(ascending=False)\n",
        "#df_LoanStats.isna().sum().sort_values(ascending=False)\n",
        "\n",
        "\n",
        "\n",
        "\n",
        "#LIST\n",
        "\n",
        "#df_LoanStats.dtypes"
      ],
      "execution_count": 57,
      "outputs": [
        {
          "output_type": "execute_result",
          "data": {
            "text/plain": [
              "Index(['id', 'member_id', 'loan_amnt', 'funded_amnt', 'funded_amnt_inv',\n",
              "       'term', 'int_rate', 'installment', 'grade', 'sub_grade',\n",
              "       ...\n",
              "       'orig_projected_additional_accrued_interest',\n",
              "       'hardship_payoff_balance_amount', 'hardship_last_payment_amount',\n",
              "       'debt_settlement_flag', 'debt_settlement_flag_date',\n",
              "       'settlement_status', 'settlement_date', 'settlement_amount',\n",
              "       'settlement_percentage', 'settlement_term'],\n",
              "      dtype='object', length=144)"
            ]
          },
          "metadata": {
            "tags": []
          },
          "execution_count": 57
        }
      ]
    },
    {
      "cell_type": "markdown",
      "metadata": {
        "id": "NgE65OBqe9Q3",
        "colab_type": "text"
      },
      "source": [
        "# Convert strings to float functionally\n"
      ]
    },
    {
      "cell_type": "code",
      "metadata": {
        "id": "TleWoyZ1fBhf",
        "colab_type": "code",
        "colab": {}
      },
      "source": [
        "int_rate = '15.02 months'\n",
        "int_rate[:-1] # use index\n",
        "int_rate.strip('%') #remove last or first\n",
        "int_rate.replace('.','')#remove removing\n",
        "def remove_percent_to_float(string):\n",
        "  return float(string.strip(%))\n",
        "remove_precent_to_float(int_rate)"
      ],
      "execution_count": 0,
      "outputs": []
    },
    {
      "cell_type": "code",
      "metadata": {
        "id": "fivShWm-gwjv",
        "colab_type": "code",
        "colab": {}
      },
      "source": [
        "#int_list=['15.02%','13.56%','16.91%']\n",
        "#[remove_precent_to_float(item) for item in int_list(df_LoanStatsDropped['int_rate'])]"
      ],
      "execution_count": 0,
      "outputs": []
    },
    {
      "cell_type": "markdown",
      "metadata": {
        "id": "_ykVe42SJmnQ",
        "colab_type": "text"
      },
      "source": [
        "**STRETCH OPTIONS**\n",
        "You can do more with the LendingClub or Instacart datasets.\n",
        "​\n",
        "LendingClub options:\n",
        "​\n",
        "There's one other column in the dataframe with percent signs. Remove them and convert to floats. You'll need to handle missing values.\n",
        "Modify the emp_title column to replace titles with 'Other' if the title is not in the top 20.\n",
        "Take initiatve and work on your own ideas!\n",
        "Instacart options:\n",
        "​\n",
        "Read Instacart Market Basket Analysis, Winner's Interview: 2nd place, Kazuki Onodera, especially the Feature Engineering section. (Can you choose one feature from his bulleted lists, and try to engineer it with pandas code?)\n",
        "Read and replicate parts of Simple Exploration Notebook - Instacart. (It's the Python Notebook with the most upvotes for this Kaggle competition.)\n",
        "Take initiative and work on your own ideas!\n",
        "You can uncomment and run the cells below to re-download and extract the Instacart data\n"
      ]
    }
  ]
}