{
  "nbformat": 4,
  "nbformat_minor": 0,
  "metadata": {
    "colab": {
      "name": "GGA.114v1.asmt LS_DS_114_Make_Features_Assignment Geoffrey Gordon Ashbrook.ipynb",
      "version": "0.3.2",
      "provenance": [],
      "collapsed_sections": [],
      "include_colab_link": true
    },
    "kernelspec": {
      "display_name": "Python 3",
      "language": "python",
      "name": "python3"
    },
    "language_info": {
      "codemirror_mode": {
        "name": "ipython",
        "version": 3
      },
      "file_extension": ".py",
      "mimetype": "text/x-python",
      "name": "python",
      "nbconvert_exporter": "python",
      "pygments_lexer": "ipython3",
      "version": "3.7.1"
    }
  },
  "cells": [
    {
      "cell_type": "markdown",
      "metadata": {
        "id": "view-in-github",
        "colab_type": "text"
      },
      "source": [
        "<a href=\"https://colab.research.google.com/github/lineality/DS-Unit-1-Sprint-1-Dealing-With-Data/blob/master/module4-makefeatures/GGA_114v1_asmt_LS_DS_114_Make_Features_Assignment_Geoffrey_Gordon_Ashbrook.ipynb\" target=\"_parent\"><img src=\"https://colab.research.google.com/assets/colab-badge.svg\" alt=\"Open In Colab\"/></a>"
      ]
    },
    {
      "cell_type": "markdown",
      "metadata": {
        "id": "SnDJqBLi0FYW",
        "colab_type": "text"
      },
      "source": [
        "<img align=\"left\" src=\"https://lever-client-logos.s3.amazonaws.com/864372b1-534c-480e-acd5-9711f850815c-1524247202159.png\" width=200> "
      ]
    },
    {
      "cell_type": "markdown",
      "metadata": {
        "id": "W5GjI1z5yNG4",
        "colab_type": "text"
      },
      "source": [
        "# ASSIGNMENT\n",
        "\n",
        "- Replicate the lesson code.\n",
        "\n",
        " - This means that if you haven't followed along already, type out the things that we did in class. Forcing your fingers to hit each key will help you internalize the syntax of what we're doing.\n",
        " - [Lambda Learning Method for DS - By Ryan Herr](https://docs.google.com/document/d/1ubOw9B3Hfip27hF2ZFnW3a3z9xAgrUDRReOEo-FHCVs/edit?usp=sharing)\n",
        "- Convert the `term` column from string to integer.\n",
        "- Make a column named `loan_status_is_great`. It should contain the integer 1 if `loan_status` is \"Current\" or \"Fully Paid.\" Else it should contain the integer 0.\n",
        "\n",
        "- Make `last_pymnt_d_month` and `last_pymnt_d_year` columns."
      ]
    },
    {
      "cell_type": "code",
      "metadata": {
        "id": "AazB4eFwym2p",
        "colab_type": "code",
        "colab": {}
      },
      "source": [
        "##### Begin Working Here #####"
      ],
      "execution_count": 0,
      "outputs": []
    },
    {
      "cell_type": "markdown",
      "metadata": {
        "id": "tpcqWSgEbsYM",
        "colab_type": "text"
      },
      "source": [
        "Here are manually copied/typed notes from lecture:\n",
        "by geoffrey gordon Ashbrook\n",
        "\n",
        "some  code I added in on my own to try to do things my own way\n"
      ]
    },
    {
      "cell_type": "markdown",
      "metadata": {
        "id": "wp40NCcmdDNz",
        "colab_type": "text"
      },
      "source": [
        ""
      ]
    },
    {
      "cell_type": "code",
      "metadata": {
        "id": "I3j-mwtSdDgD",
        "colab_type": "code",
        "colab": {}
      },
      "source": [
        "#library Imports\n",
        "%matplotlib inline\n",
        "import matplotlib.pyplot as plt\n",
        "import numpy as np\n",
        "import pandas as pd\n",
        "import requests"
      ],
      "execution_count": 0,
      "outputs": []
    },
    {
      "cell_type": "code",
      "metadata": {
        "id": "mmttS8ZqdEvr",
        "colab_type": "code",
        "colab": {}
      },
      "source": [
        "pd.set_option('display.max_rows', 500)\n",
        "pd.set_option('display.max_columns', 500)\n",
        "pd.set_option('display.width', 1000)"
      ],
      "execution_count": 0,
      "outputs": []
    },
    {
      "cell_type": "code",
      "metadata": {
        "id": "L3mq88Kbbrbc",
        "colab_type": "code",
        "colab": {}
      },
      "source": [
        "#Getting the dataset\n",
        "\n",
        "!wget https://resources.lendingclub.com/LoanStats_2018Q4.csv.zip"
      ],
      "execution_count": 0,
      "outputs": []
    },
    {
      "cell_type": "code",
      "metadata": {
        "id": "iiVqxeWAcBFc",
        "colab_type": "code",
        "colab": {}
      },
      "source": [
        "#unzipping the data\n",
        "\n",
        "!unzip LoanStats_2018Q4.csv.zip"
      ],
      "execution_count": 0,
      "outputs": []
    },
    {
      "cell_type": "code",
      "metadata": {
        "id": "qRI4onbycEaU",
        "colab_type": "code",
        "colab": {}
      },
      "source": [
        "#check to see if file loaded\n",
        "!ls"
      ],
      "execution_count": 0,
      "outputs": []
    },
    {
      "cell_type": "code",
      "metadata": {
        "id": "n7PKmnTucXUE",
        "colab_type": "code",
        "colab": {}
      },
      "source": [
        "#checking file data\n",
        "!head LoanStats_2018Q4.csv\n",
        "#looks like a header problem"
      ],
      "execution_count": 0,
      "outputs": []
    },
    {
      "cell_type": "code",
      "metadata": {
        "id": "Y-y4aR3tcXWi",
        "colab_type": "code",
        "colab": {}
      },
      "source": [
        "#checking footer\n",
        "!tail LoanStats_2018Q4.csv\n",
        "#aha! a footer problem"
      ],
      "execution_count": 0,
      "outputs": []
    },
    {
      "cell_type": "code",
      "metadata": {
        "id": "vcVuDHShcXZE",
        "colab_type": "code",
        "colab": {}
      },
      "source": [
        "#setting dataframe (df)\n",
        "df = pd.read_csv('LoanStats_2018Q4.csv')"
      ],
      "execution_count": 0,
      "outputs": []
    },
    {
      "cell_type": "code",
      "metadata": {
        "id": "9_EQdaq4cXc7",
        "colab_type": "code",
        "colab": {}
      },
      "source": [
        "df.head(5)"
      ],
      "execution_count": 0,
      "outputs": []
    },
    {
      "cell_type": "code",
      "metadata": {
        "id": "X8Wz3_2scXfi",
        "colab_type": "code",
        "colab": {}
      },
      "source": [
        "#view a list of df columns\n",
        "list(df.columns)\n",
        "#something is wrong here...header trouble"
      ],
      "execution_count": 0,
      "outputs": []
    },
    {
      "cell_type": "code",
      "metadata": {
        "id": "jnBRa8tkcXiD",
        "colab_type": "code",
        "colab": {}
      },
      "source": [
        "#what are the rows and columns?\n",
        "df.shape"
      ],
      "execution_count": 0,
      "outputs": []
    },
    {
      "cell_type": "code",
      "metadata": {
        "id": "Ym8vNxFwcXkO",
        "colab_type": "code",
        "colab": {}
      },
      "source": [
        "#lets look at a summary of the nul values:\n",
        "df.isnull().sum()"
      ],
      "execution_count": 0,
      "outputs": []
    },
    {
      "cell_type": "code",
      "metadata": {
        "id": "gbZ1qhkwcXmp",
        "colab_type": "code",
        "colab": {}
      },
      "source": [
        "#looking at the null values in descending order\n",
        "df.isnull().sum().sort_values(ascending=False)"
      ],
      "execution_count": 0,
      "outputs": []
    },
    {
      "cell_type": "code",
      "metadata": {
        "id": "Dz-0lQNhcXoy",
        "colab_type": "code",
        "colab": {}
      },
      "source": [
        "#here we are modifying the dataset but making a new df dataframe to preserve the original data\n",
        "df2 = df.drop(columns=['id', 'member_id', 'desc', 'url'])"
      ],
      "execution_count": 0,
      "outputs": []
    },
    {
      "cell_type": "code",
      "metadata": {
        "id": "tZIM0wsngE_7",
        "colab_type": "code",
        "colab": {}
      },
      "source": [
        "#now let's check again\n",
        "df2.head()"
      ],
      "execution_count": 0,
      "outputs": []
    },
    {
      "cell_type": "code",
      "metadata": {
        "id": "DU6mXYFDgFLE",
        "colab_type": "code",
        "colab": {}
      },
      "source": [
        "#check again\n",
        "#looking at the null values in descending order\n",
        "df2.isnull().sum().sort_values(ascending=False)"
      ],
      "execution_count": 0,
      "outputs": []
    },
    {
      "cell_type": "code",
      "metadata": {
        "id": "TlfdngY7gFPC",
        "colab_type": "code",
        "colab": {}
      },
      "source": [
        "# let's look at just one column\n",
        "df2['int_rate']"
      ],
      "execution_count": 0,
      "outputs": []
    },
    {
      "cell_type": "code",
      "metadata": {
        "id": "PivsG83cgFTq",
        "colab_type": "code",
        "colab": {}
      },
      "source": [
        "#basic data inspection\n",
        "#let's look at what datatypes \n",
        "df.dtypes"
      ],
      "execution_count": 0,
      "outputs": []
    },
    {
      "cell_type": "code",
      "metadata": {
        "id": "3nBJ0nN_gFWc",
        "colab_type": "code",
        "colab": {}
      },
      "source": [
        "df2.dtypes"
      ],
      "execution_count": 0,
      "outputs": []
    },
    {
      "cell_type": "markdown",
      "metadata": {
        "id": "dnMbSZ8xh2P1",
        "colab_type": "text"
      },
      "source": [
        "The goal for this section is to use a function ( to make a function) to remove percent signs from strings to convert to floats"
      ]
    },
    {
      "cell_type": "code",
      "metadata": {
        "id": "-XRBSKp-gFYq",
        "colab_type": "code",
        "colab": {
          "base_uri": "https://localhost:8080/",
          "height": 35
        },
        "outputId": "a008d564-f9be-42b1-c5c8-0fe047023497"
      },
      "source": [
        "#Here we can use slice notation to show or cover the last character\n",
        "int_rate = ' 15.02%'\n",
        "int_rate[:-1]"
      ],
      "execution_count": 36,
      "outputs": [
        {
          "output_type": "execute_result",
          "data": {
            "text/plain": [
              "' 15.02'"
            ]
          },
          "metadata": {
            "tags": []
          },
          "execution_count": 36
        }
      ]
    },
    {
      "cell_type": "code",
      "metadata": {
        "id": "IpAPJHVgitvT",
        "colab_type": "code",
        "colab": {
          "base_uri": "https://localhost:8080/",
          "height": 35
        },
        "outputId": "c67dc9f6-4c23-4e96-8622-5ed4e92de154"
      },
      "source": [
        "int_rate"
      ],
      "execution_count": 44,
      "outputs": [
        {
          "output_type": "execute_result",
          "data": {
            "text/plain": [
              "' 15.02%'"
            ]
          },
          "metadata": {
            "tags": []
          },
          "execution_count": 44
        }
      ]
    },
    {
      "cell_type": "code",
      "metadata": {
        "id": "a3pqLhI9gFba",
        "colab_type": "code",
        "colab": {
          "base_uri": "https://localhost:8080/",
          "height": 35
        },
        "outputId": "5fa3864c-99c4-4015-be0f-1524a3dd6094"
      },
      "source": [
        "#a function that removes characters but only from the beginning or end of the strings\n",
        "#strip\n",
        "int_rate.strip('%')"
      ],
      "execution_count": 38,
      "outputs": [
        {
          "output_type": "execute_result",
          "data": {
            "text/plain": [
              "' 15.02'"
            ]
          },
          "metadata": {
            "tags": []
          },
          "execution_count": 38
        }
      ]
    },
    {
      "cell_type": "code",
      "metadata": {
        "id": "6SmpqF_gi7Gd",
        "colab_type": "code",
        "colab": {
          "base_uri": "https://localhost:8080/",
          "height": 35
        },
        "outputId": "b03c6723-5410-4cca-a270-c923dabe2a7b"
      },
      "source": [
        "#replace\n",
        "#replace is more dangerous because it removes items from everywhere, not just the ends\n",
        "#first the item to be replaced, next what it replaces it with (like fine-replace)\n",
        "int_rate.replace('.','')"
      ],
      "execution_count": 39,
      "outputs": [
        {
          "output_type": "execute_result",
          "data": {
            "text/plain": [
              "' 1502%'"
            ]
          },
          "metadata": {
            "tags": []
          },
          "execution_count": 39
        }
      ]
    },
    {
      "cell_type": "code",
      "metadata": {
        "id": "k8-6tLK-i7JJ",
        "colab_type": "code",
        "colab": {
          "base_uri": "https://localhost:8080/",
          "height": 72
        },
        "outputId": "647f56b8-838c-40c3-b8fd-e99325356bd9"
      },
      "source": [
        "int_rate2 = int_rate.replace('.','')\n",
        "print(int_rate2)\n",
        "int_rate2 = int_rate.replace('%','')\n",
        "print(int_rate2)\n",
        "int_rate2 = int_rate.replace(' ','')\n",
        "print(int_rate2)\n",
        "#curious!!!"
      ],
      "execution_count": 43,
      "outputs": [
        {
          "output_type": "stream",
          "text": [
            " 1502%\n",
            " 15.02\n",
            "15.02%\n"
          ],
          "name": "stdout"
        }
      ]
    },
    {
      "cell_type": "code",
      "metadata": {
        "id": "JgwXPadji7LS",
        "colab_type": "code",
        "colab": {
          "base_uri": "https://localhost:8080/",
          "height": 35
        },
        "outputId": "0a8183bb-9e21-4a49-ba1f-1b3e96eec3de"
      },
      "source": [
        "#let's find out what character type we have here\n",
        "type(int_rate.strip('%'))"
      ],
      "execution_count": 46,
      "outputs": [
        {
          "output_type": "execute_result",
          "data": {
            "text/plain": [
              "str"
            ]
          },
          "metadata": {
            "tags": []
          },
          "execution_count": 46
        }
      ]
    },
    {
      "cell_type": "code",
      "metadata": {
        "id": "msekUDv0i7Sj",
        "colab_type": "code",
        "colab": {
          "base_uri": "https://localhost:8080/",
          "height": 35
        },
        "outputId": "714198ab-3098-4263-c774-8f812bce4e18"
      },
      "source": [
        "float(int_rate.strip('%'))"
      ],
      "execution_count": 47,
      "outputs": [
        {
          "output_type": "execute_result",
          "data": {
            "text/plain": [
              "15.02"
            ]
          },
          "metadata": {
            "tags": []
          },
          "execution_count": 47
        }
      ]
    },
    {
      "cell_type": "code",
      "metadata": {
        "id": "LOxDi5JwlOTF",
        "colab_type": "code",
        "colab": {}
      },
      "source": [
        "#trying to make effects stick by setting to variable\n",
        "int_rate2 = float(string.strip('%'))\n",
        "print(int_rate2)\n",
        "int_rate2 = float(int_rate.replace('.',''))\n",
        "print(int_rate2)\n",
        "int_rate2 = float(int_rate.replace(' ',''))\n",
        "print(int_rate2)\n",
        "curious!!!"
      ],
      "execution_count": 0,
      "outputs": []
    },
    {
      "cell_type": "code",
      "metadata": {
        "id": "tyDG082yi7Wk",
        "colab_type": "code",
        "colab": {
          "base_uri": "https://localhost:8080/",
          "height": 35
        },
        "outputId": "5b600094-398a-4e3d-bce5-57678946a42c"
      },
      "source": [
        "type(float(int_rate.strip('%')))"
      ],
      "execution_count": 48,
      "outputs": [
        {
          "output_type": "execute_result",
          "data": {
            "text/plain": [
              "float"
            ]
          },
          "metadata": {
            "tags": []
          },
          "execution_count": 48
        }
      ]
    },
    {
      "cell_type": "code",
      "metadata": {
        "id": "FvZxeTuUl2y6",
        "colab_type": "code",
        "colab": {}
      },
      "source": [
        ""
      ],
      "execution_count": 0,
      "outputs": []
    },
    {
      "cell_type": "markdown",
      "metadata": {
        "id": "pFlBayf4lsbN",
        "colab_type": "text"
      },
      "source": [
        ""
      ]
    },
    {
      "cell_type": "code",
      "metadata": {
        "id": "YHw9fii3i7ZO",
        "colab_type": "code",
        "colab": {}
      },
      "source": [
        "#now we are ready to make our function\n",
        "#rubs hands together vigorously with a clap\n",
        "def remove_percent_to_float(string):\n",
        "  return float(string.strip('%'))   \n",
        "\n"
      ],
      "execution_count": 0,
      "outputs": []
    },
    {
      "cell_type": "code",
      "metadata": {
        "id": "IQk4AHlgi7bm",
        "colab_type": "code",
        "colab": {
          "base_uri": "https://localhost:8080/",
          "height": 35
        },
        "outputId": "4d2a641c-3861-4d91-d357-33a8d8461158"
      },
      "source": [
        "remove_percent_to_float(int_rate)"
      ],
      "execution_count": 54,
      "outputs": [
        {
          "output_type": "execute_result",
          "data": {
            "text/plain": [
              "15.02"
            ]
          },
          "metadata": {
            "tags": []
          },
          "execution_count": 54
        }
      ]
    },
    {
      "cell_type": "code",
      "metadata": {
        "id": "-mrpGvlli7ed",
        "colab_type": "code",
        "colab": {
          "base_uri": "https://localhost:8080/",
          "height": 35
        },
        "outputId": "a246c59b-1720-4a9b-a996-4d2e18e4ef7f"
      },
      "source": [
        "#finallY!\n",
        "int_rate2 = remove_percent_to_float(int_rate)\n",
        "print(int_rate2)"
      ],
      "execution_count": 59,
      "outputs": [
        {
          "output_type": "stream",
          "text": [
            "15.02\n"
          ],
          "name": "stdout"
        }
      ]
    },
    {
      "cell_type": "markdown",
      "metadata": {
        "id": "5k1VgKmimwzN",
        "colab_type": "text"
      },
      "source": [
        "apply is like a for loop, but Faster!!!!!!!\n"
      ]
    },
    {
      "cell_type": "code",
      "metadata": {
        "id": "4R4PhMbpi7Qk",
        "colab_type": "code",
        "colab": {}
      },
      "source": [
        "#applying the function to the int_rate column (the whole column\n",
        "df2['int_rate'] = df['int_rate'].apply(remove_percent_to_float))"
      ],
      "execution_count": 0,
      "outputs": []
    },
    {
      "cell_type": "code",
      "metadata": {
        "id": "BAVJMBF0mZTF",
        "colab_type": "code",
        "colab": {}
      },
      "source": [
        "df2.head()"
      ],
      "execution_count": 0,
      "outputs": []
    },
    {
      "cell_type": "code",
      "metadata": {
        "id": "wQYv7PgkmZXS",
        "colab_type": "code",
        "colab": {}
      },
      "source": [
        "df2.dtypes"
      ],
      "execution_count": 0,
      "outputs": []
    },
    {
      "cell_type": "code",
      "metadata": {
        "id": "fF2gekd5mZZ7",
        "colab_type": "code",
        "colab": {}
      },
      "source": [
        ""
      ],
      "execution_count": 0,
      "outputs": []
    },
    {
      "cell_type": "markdown",
      "metadata": {
        "id": "zH2ZeuBWnBRU",
        "colab_type": "text"
      },
      "source": [
        "Using List Comprehension!!! Amazing part of Python"
      ]
    },
    {
      "cell_type": "code",
      "metadata": {
        "id": "pzC26eLOmZlC",
        "colab_type": "code",
        "colab": {}
      },
      "source": [
        "int_list = ['15.02%', '13.56%', '16.91%']"
      ],
      "execution_count": 0,
      "outputs": []
    },
    {
      "cell_type": "code",
      "metadata": {
        "id": "MFDEE5aimZjL",
        "colab_type": "code",
        "colab": {}
      },
      "source": [
        "[remove_percent_to_float(item) for item in int_list]  "
      ],
      "execution_count": 0,
      "outputs": []
    },
    {
      "cell_type": "code",
      "metadata": {
        "id": "p0kJijLfmZhK",
        "colab_type": "code",
        "colab": {}
      },
      "source": [
        "list(df['int_rate'])"
      ],
      "execution_count": 0,
      "outputs": []
    },
    {
      "cell_type": "code",
      "metadata": {
        "id": "GGOaQ0-MmZen",
        "colab_type": "code",
        "colab": {}
      },
      "source": [
        "#there is a lot happening in this one line\n",
        "#cast colmun to a list (int-rate)\n",
        "#use list comprehsnion to remoave % fand cast to a float\n",
        "#cast the new altered list back to a new column (engineered feature!)\n",
        "#overwrite the original column with th enew column\n",
        "df['int_rate'] = pd.Series([remove_percent_to_float(item) for item in list(df['int_rate'])])\n",
        "\n",
        "#df['int_rate'] = pd.Series([remove_percent_to_float(item) for item in list(df['int_rate'])])"
      ],
      "execution_count": 0,
      "outputs": []
    },
    {
      "cell_type": "code",
      "metadata": {
        "id": "QiUx9kJRmZcb",
        "colab_type": "code",
        "colab": {}
      },
      "source": [
        "#checking\n",
        "df.head()"
      ],
      "execution_count": 0,
      "outputs": []
    },
    {
      "cell_type": "code",
      "metadata": {
        "id": "qY4_P3bjoTXN",
        "colab_type": "code",
        "colab": {}
      },
      "source": [
        "#cleaning\n",
        "#clean emp_title\n",
        "#look at top 20 titles\n",
        "df['emp_title'].value_counts(dropna=True).head(20)"
      ],
      "execution_count": 0,
      "outputs": []
    },
    {
      "cell_type": "code",
      "metadata": {
        "id": "2ytdmr2voTcD",
        "colab_type": "code",
        "colab": {}
      },
      "source": [
        "df['emp_title'].value_counts(dropna=False).head(20)"
      ],
      "execution_count": 0,
      "outputs": []
    },
    {
      "cell_type": "code",
      "metadata": {
        "id": "WwT1dkN2oTuW",
        "colab_type": "code",
        "colab": {}
      },
      "source": [
        "df.describe(excluded='number')"
      ],
      "execution_count": 0,
      "outputs": []
    },
    {
      "cell_type": "code",
      "metadata": {
        "id": "pYLoFP7OoTxt",
        "colab_type": "code",
        "colab": {}
      },
      "source": [
        "df['emp_title'].value_counts(dropna=False).reset_index().shape[0]"
      ],
      "execution_count": 0,
      "outputs": []
    },
    {
      "cell_type": "code",
      "metadata": {
        "id": "hIQETfVToTsJ",
        "colab_type": "code",
        "colab": {}
      },
      "source": [
        "#how often is emp_title null?\n",
        "df['emp_title'.isnull().sum]"
      ],
      "execution_count": 0,
      "outputs": []
    },
    {
      "cell_type": "code",
      "metadata": {
        "id": "crUisIa6oTp2",
        "colab_type": "code",
        "colab": {}
      },
      "source": [
        "import numpy as np\n",
        "examples = ['owner', 'supervisor','Project Manager', np.NaN]"
      ],
      "execution_count": 0,
      "outputs": []
    },
    {
      "cell_type": "code",
      "metadata": {
        "id": "AHZbjnPhoToT",
        "colab_type": "code",
        "colab": {}
      },
      "source": [
        "type(np.NaN)"
      ],
      "execution_count": 0,
      "outputs": []
    },
    {
      "cell_type": "code",
      "metadata": {
        "id": "XrFZAFwQoTmH",
        "colab_type": "code",
        "colab": {}
      },
      "source": [
        "def clean_title(title):\n",
        "  if isinstance(title, str):\n",
        "    return title.strip().title()\n",
        "  else:\n",
        "    return \"unknown\"\n",
        "  \n",
        "  df['emp_title'] = df['emp_title'].apply(clean_title)\n",
        "\n",
        "  df.head"
      ],
      "execution_count": 0,
      "outputs": []
    },
    {
      "cell_type": "code",
      "metadata": {
        "id": "8fswciRPoTj6",
        "colab_type": "code",
        "colab": {}
      },
      "source": [
        "df['emp_title'].value_count().head(20)"
      ],
      "execution_count": 0,
      "outputs": []
    },
    {
      "cell_type": "code",
      "metadata": {
        "id": "QurvXqfUoThN",
        "colab_type": "code",
        "colab": {}
      },
      "source": [
        "df['emp_title'].value_counts(dropna=False).reset_index().shape[0]"
      ],
      "execution_count": 0,
      "outputs": []
    },
    {
      "cell_type": "markdown",
      "metadata": {
        "id": "fkQaBPCuqozb",
        "colab_type": "text"
      },
      "source": [
        ""
      ]
    },
    {
      "cell_type": "code",
      "metadata": {
        "id": "okSlJMzhoTeh",
        "colab_type": "code",
        "colab": {
          "base_uri": "https://localhost:8080/",
          "height": 35
        },
        "outputId": "481ce7e2-f5fa-42e3-bcd3-5672cd849cb2"
      },
      "source": [
        "#sample of combining manually items in collumns\n",
        "{\"Nurse\": ['Registered Nurse', 'Nurse', 'Rn'], \n",
        " 'Owner': [\"Owner\", \"Founder\"]}"
      ],
      "execution_count": 76,
      "outputs": [
        {
          "output_type": "execute_result",
          "data": {
            "text/plain": [
              "{'Nurse': ['Registered Nurse', 'Nurse', 'Rn'], 'Owner': ['Owner', 'Founder']}"
            ]
          },
          "metadata": {
            "tags": []
          },
          "execution_count": 76
        }
      ]
    },
    {
      "cell_type": "markdown",
      "metadata": {
        "id": "MdMpbQx3qpSx",
        "colab_type": "text"
      },
      "source": [
        ""
      ]
    },
    {
      "cell_type": "markdown",
      "metadata": {
        "id": "996Nx2UZqpGB",
        "colab_type": "text"
      },
      "source": [
        "create ept_title_manager"
      ]
    },
    {
      "cell_type": "code",
      "metadata": {
        "id": "sakKOIUVrInW",
        "colab_type": "code",
        "colab": {}
      },
      "source": [
        "# here only square brakets notation works\n",
        "df['emp_title']"
      ],
      "execution_count": 0,
      "outputs": []
    },
    {
      "cell_type": "code",
      "metadata": {
        "id": "iwmJANMNrIws",
        "colab_type": "code",
        "colab": {}
      },
      "source": [
        "#not\n",
        "#df.emp_title"
      ],
      "execution_count": 0,
      "outputs": []
    },
    {
      "cell_type": "code",
      "metadata": {
        "id": "WnESRv2lrIuK",
        "colab_type": "code",
        "colab": {}
      },
      "source": [
        "#Zen of Python"
      ],
      "execution_count": 0,
      "outputs": []
    },
    {
      "cell_type": "code",
      "metadata": {
        "id": "lqN55HK8rIrz",
        "colab_type": "code",
        "colab": {
          "base_uri": "https://localhost:8080/",
          "height": 35
        },
        "outputId": "3be9e4c5-1536-4ed0-964c-65b6d4b016f3"
      },
      "source": [
        "df.shape"
      ],
      "execution_count": 77,
      "outputs": [
        {
          "output_type": "execute_result",
          "data": {
            "text/plain": [
              "(128415, 1)"
            ]
          },
          "metadata": {
            "tags": []
          },
          "execution_count": 77
        }
      ]
    },
    {
      "cell_type": "code",
      "metadata": {
        "id": "hJk_2roCrIqw",
        "colab_type": "code",
        "colab": {}
      },
      "source": [
        "df['emp_title_manager'] = True\n",
        "df['emp_title_manager']"
      ],
      "execution_count": 0,
      "outputs": []
    },
    {
      "cell_type": "code",
      "metadata": {
        "id": "7KAEs7rWoTaE",
        "colab_type": "code",
        "colab": {}
      },
      "source": [
        "df['emp_title_manager'] = df['emp_title'].str.contains('Manager')\n",
        "df['emp_title_manager']"
      ],
      "execution_count": 0,
      "outputs": []
    },
    {
      "cell_type": "code",
      "metadata": {
        "id": "HHtFqTffmZVf",
        "colab_type": "code",
        "colab": {}
      },
      "source": [
        "#df   filtering\n",
        "\n",
        "condition = (df['emp_title_manager'] == True)\n",
        "df[condition].head()"
      ],
      "execution_count": 0,
      "outputs": []
    },
    {
      "cell_type": "code",
      "metadata": {
        "id": "jtv5mZhoi7Ow",
        "colab_type": "code",
        "colab": {}
      },
      "source": [
        "managers = df[df['emp_title'].str.contains('Manager')]\n",
        "print(managers.shape)\n",
        "managers.head()"
      ],
      "execution_count": 0,
      "outputs": []
    },
    {
      "cell_type": "code",
      "metadata": {
        "id": "E1GCfE_ZsL5p",
        "colab_type": "code",
        "colab": {}
      },
      "source": [
        "not_managers = df[df['emp_title_manager'] == False]\n",
        "print(not_managers.shape)\n",
        "not_managers.head()"
      ],
      "execution_count": 0,
      "outputs": []
    },
    {
      "cell_type": "code",
      "metadata": {
        "id": "RodiTJ_jsMOa",
        "colab_type": "code",
        "colab": {}
      },
      "source": [
        "managers['int_rate'].hist(bins=20); "
      ],
      "execution_count": 0,
      "outputs": []
    },
    {
      "cell_type": "code",
      "metadata": {
        "id": "2BdN5XbssqWL",
        "colab_type": "code",
        "colab": {}
      },
      "source": [
        "not_managers['int_rate'].hist(bins=20;)"
      ],
      "execution_count": 0,
      "outputs": []
    },
    {
      "cell_type": "code",
      "metadata": {
        "id": "bxGLKEnQsMKv",
        "colab_type": "code",
        "colab": {}
      },
      "source": [
        "managers['int_rate'].plot.density()\n",
        "  "
      ],
      "execution_count": 0,
      "outputs": []
    },
    {
      "cell_type": "code",
      "metadata": {
        "id": "t7kau8lIsMIC",
        "colab_type": "code",
        "colab": {}
      },
      "source": [
        "not_managers['int_rate'].plot.density()"
      ],
      "execution_count": 0,
      "outputs": []
    },
    {
      "cell_type": "code",
      "metadata": {
        "id": "lobg0VvesMFf",
        "colab_type": "code",
        "colab": {}
      },
      "source": [
        "managers['int_rate'].mean() "
      ],
      "execution_count": 0,
      "outputs": []
    },
    {
      "cell_type": "code",
      "metadata": {
        "id": "h-X7LBkssMC8",
        "colab_type": "code",
        "colab": {}
      },
      "source": [
        "plebians['int_rate'].mean()"
      ],
      "execution_count": 0,
      "outputs": []
    },
    {
      "cell_type": "code",
      "metadata": {
        "id": "ejXodWBosMBz",
        "colab_type": "code",
        "colab": {}
      },
      "source": [
        "df['issue_d']"
      ],
      "execution_count": 0,
      "outputs": []
    },
    {
      "cell_type": "code",
      "metadata": {
        "id": "HxjBdEfCsL_Z",
        "colab_type": "code",
        "colab": {}
      },
      "source": [
        "#checking again\n",
        "df.dtypes"
      ],
      "execution_count": 0,
      "outputs": []
    },
    {
      "cell_type": "code",
      "metadata": {
        "id": "qkblaLNZtryJ",
        "colab_type": "code",
        "colab": {}
      },
      "source": [
        "df['issue_d'] = pd.to_datetime(df['issue_d'], infer_datetime_format=True)"
      ],
      "execution_count": 0,
      "outputs": []
    },
    {
      "cell_type": "code",
      "metadata": {
        "id": "MFa-hb0ztrwO",
        "colab_type": "code",
        "colab": {}
      },
      "source": [
        "df['issue_d'].head().values "
      ],
      "execution_count": 0,
      "outputs": []
    },
    {
      "cell_type": "code",
      "metadata": {
        "id": "wTfipM_VtrtO",
        "colab_type": "code",
        "colab": {}
      },
      "source": [
        "df['issue_d'].dt.month"
      ],
      "execution_count": 0,
      "outputs": []
    },
    {
      "cell_type": "code",
      "metadata": {
        "id": "X2rzUqp5trrs",
        "colab_type": "code",
        "colab": {}
      },
      "source": [
        "df['issue_year'] = df['issue_d'].dt.year"
      ],
      "execution_count": 0,
      "outputs": []
    },
    {
      "cell_type": "code",
      "metadata": {
        "id": "7SM837whtrog",
        "colab_type": "code",
        "colab": {}
      },
      "source": [
        "df['issue_month'] = df['issue_d'].dt.month"
      ],
      "execution_count": 0,
      "outputs": []
    },
    {
      "cell_type": "code",
      "metadata": {
        "id": "Pqr13YGltrnS",
        "colab_type": "code",
        "colab": {}
      },
      "source": [
        "df.head()"
      ],
      "execution_count": 0,
      "outputs": []
    },
    {
      "cell_type": "code",
      "metadata": {
        "id": "TYovoSI-trkm",
        "colab_type": "code",
        "colab": {}
      },
      "source": [
        "df['earliest_cr_line'] = pd.to_datetime(df['earliest_cr_line']\n",
        "                                        infer_datetime_format=True)"
      ],
      "execution_count": 0,
      "outputs": []
    },
    {
      "cell_type": "code",
      "metadata": {
        "id": "GA-fBgEUtrh0",
        "colab_type": "code",
        "colab": {}
      },
      "source": [
        "df['issue_d'] - df['earliest_cr_line']"
      ],
      "execution_count": 0,
      "outputs": []
    },
    {
      "cell_type": "code",
      "metadata": {
        "id": "stfxF78CsL85",
        "colab_type": "code",
        "colab": {}
      },
      "source": [
        "df['days_from_earliets_credit_to_issue'] = (df['issue_d'] - df['earliest_cr_line']).dt.days\n",
        "df.head()"
      ],
      "execution_count": 0,
      "outputs": []
    },
    {
      "cell_type": "code",
      "metadata": {
        "id": "JWWwlosUwJYc",
        "colab_type": "code",
        "colab": {
          "base_uri": "https://localhost:8080/",
          "height": 35
        },
        "outputId": "1acfa764-c922-413f-81d6-a99a3f8c2f17"
      },
      "source": [
        "#interesting range of time for the one customer\n",
        "25171/365"
      ],
      "execution_count": 79,
      "outputs": [
        {
          "output_type": "execute_result",
          "data": {
            "text/plain": [
              "68.96164383561644"
            ]
          },
          "metadata": {
            "tags": []
          },
          "execution_count": 79
        }
      ]
    },
    {
      "cell_type": "code",
      "metadata": {
        "id": "uSYgLQFLwJU4",
        "colab_type": "code",
        "colab": {}
      },
      "source": [
        ""
      ],
      "execution_count": 0,
      "outputs": []
    },
    {
      "cell_type": "code",
      "metadata": {
        "id": "zqdNvoSowJT7",
        "colab_type": "code",
        "colab": {}
      },
      "source": [
        ""
      ],
      "execution_count": 0,
      "outputs": []
    },
    {
      "cell_type": "code",
      "metadata": {
        "id": "5PqxnCc5wJPv",
        "colab_type": "code",
        "colab": {}
      },
      "source": [
        ""
      ],
      "execution_count": 0,
      "outputs": []
    },
    {
      "cell_type": "code",
      "metadata": {
        "id": "ejM3p1k1wJMJ",
        "colab_type": "code",
        "colab": {}
      },
      "source": [
        ""
      ],
      "execution_count": 0,
      "outputs": []
    },
    {
      "cell_type": "code",
      "metadata": {
        "id": "pJ-Jj73OwJJE",
        "colab_type": "code",
        "colab": {}
      },
      "source": [
        ""
      ],
      "execution_count": 0,
      "outputs": []
    },
    {
      "cell_type": "markdown",
      "metadata": {
        "colab_type": "text",
        "id": "L8k0LiHmo5EU"
      },
      "source": [
        "# STRETCH OPTIONS\n",
        "\n",
        "You can do more with the LendingClub or Instacart datasets.\n",
        "\n",
        "LendingClub options:\n",
        "- There's one other column in the dataframe with percent signs. Remove them and convert to floats. You'll need to handle missing values.\n",
        "- Modify the `emp_title` column to replace titles with 'Other' if the title is not in the top 20. \n",
        "- Take initiatve and work on your own ideas!\n",
        "\n",
        "Instacart options:\n",
        "- Read [Instacart Market Basket Analysis, Winner's Interview: 2nd place, Kazuki Onodera](http://blog.kaggle.com/2017/09/21/instacart-market-basket-analysis-winners-interview-2nd-place-kazuki-onodera/), especially the **Feature Engineering** section. (Can you choose one feature from his bulleted lists, and try to engineer it with pandas code?)\n",
        "- Read and replicate parts of [Simple Exploration Notebook - Instacart](https://www.kaggle.com/sudalairajkumar/simple-exploration-notebook-instacart). (It's the Python Notebook with the most upvotes for this Kaggle competition.)\n",
        "- Take initiative and work on your own ideas!"
      ]
    },
    {
      "cell_type": "code",
      "metadata": {
        "id": "9_Z1e3SawIhq",
        "colab_type": "code",
        "colab": {}
      },
      "source": [
        ""
      ],
      "execution_count": 0,
      "outputs": []
    },
    {
      "cell_type": "code",
      "metadata": {
        "id": "hoHTFf72wIdp",
        "colab_type": "code",
        "colab": {}
      },
      "source": [
        ""
      ],
      "execution_count": 0,
      "outputs": []
    },
    {
      "cell_type": "code",
      "metadata": {
        "id": "PXnZo11HwIas",
        "colab_type": "code",
        "colab": {}
      },
      "source": [
        ""
      ],
      "execution_count": 0,
      "outputs": []
    },
    {
      "cell_type": "code",
      "metadata": {
        "id": "Bv93XPcRwIZc",
        "colab_type": "code",
        "colab": {}
      },
      "source": [
        ""
      ],
      "execution_count": 0,
      "outputs": []
    },
    {
      "cell_type": "code",
      "metadata": {
        "id": "mPtbQV4PwIWA",
        "colab_type": "code",
        "colab": {}
      },
      "source": [
        ""
      ],
      "execution_count": 0,
      "outputs": []
    },
    {
      "cell_type": "markdown",
      "metadata": {
        "colab_type": "text",
        "id": "0_7PXF7lpEXg"
      },
      "source": [
        "You can uncomment and run the cells below to re-download and extract the Instacart data"
      ]
    },
    {
      "cell_type": "code",
      "metadata": {
        "id": "urIePNa0yNG6",
        "colab_type": "code",
        "colab": {}
      },
      "source": [
        "# !wget https://s3.amazonaws.com/instacart-datasets/instacart_online_grocery_shopping_2017_05_01.tar.gz"
      ],
      "execution_count": 0,
      "outputs": []
    },
    {
      "cell_type": "code",
      "metadata": {
        "id": "X9zEyu-uyNG8",
        "colab_type": "code",
        "colab": {}
      },
      "source": [
        "# !tar --gunzip --extract --verbose --file=instacart_online_grocery_shopping_2017_05_01.tar.gz"
      ],
      "execution_count": 0,
      "outputs": []
    },
    {
      "cell_type": "code",
      "metadata": {
        "id": "Y3IqrhlpyNG-",
        "colab_type": "code",
        "colab": {}
      },
      "source": [
        "# %cd instacart_2017_05_01"
      ],
      "execution_count": 0,
      "outputs": []
    }
  ]
}