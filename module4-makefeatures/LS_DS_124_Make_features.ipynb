{
 "cells": [
  {
   "cell_type": "markdown",
   "metadata": {
    "colab_type": "text",
    "id": "qacqiXogluN_"
   },
   "source": [
    "_Lambda School Data Science_\n",
    "\n",
    "# Make features\n",
    "\n",
    "Objectives\n",
    "-  understand the purpose of feature engineering\n",
    "-  work with strings in pandas\n",
    "- work with dates and times in pandas\n",
    "\n",
    "Links\n",
    "- [Feature Engineering](https://en.wikipedia.org/wiki/Feature_engineering)\n",
    "- Python Data Science Handbook\n",
    "  - [Chapter 3.10](https://jakevdp.github.io/PythonDataScienceHandbook/03.10-working-with-strings.html), Vectorized String Operations\n",
    "  - [Chapter 3.11](https://jakevdp.github.io/PythonDataScienceHandbook/03.11-working-with-time-series.html), Working with Time Series"
   ]
  },
  {
   "cell_type": "markdown",
   "metadata": {
    "colab_type": "text",
    "id": "iSGiSktAoWIx"
   },
   "source": [
    "## Get LendingClub data\n",
    "\n",
    "[Source](https://www.lendingclub.com/info/download-data.action)"
   ]
  },
  {
   "cell_type": "code",
   "execution_count": 36,
   "metadata": {},
   "outputs": [],
   "source": [
    "## Import libraries\n",
    "# File Handling\n",
    "import wget\n",
    "import os.path\n",
    "from os import path\n",
    "import zipfile\n",
    "import csv\n",
    "\n",
    "# Data\n",
    "import pandas as pd\n",
    "import numpy as np\n"
   ]
  },
  {
   "cell_type": "code",
   "execution_count": 25,
   "metadata": {
    "colab": {},
    "colab_type": "code",
    "id": "2ugxlWXimoHn"
   },
   "outputs": [
    {
     "name": "stdout",
     "output_type": "stream",
     "text": [
      "loanStats.csv.zip successfully downloaded\n"
     ]
    }
   ],
   "source": [
    "def downloadFile(url, name=None):\n",
    "    '''\n",
    "    Check if file exists and download to working directory if it does not.\n",
    "    '''\n",
    "    split_url = url_split = \"https://resources.lendingclub.com/LoanStats_2018Q4.csv.zip\".split('/')\n",
    "    filename = url_split[len(url_split)-1]\n",
    "    \n",
    "    if path.exists(filename):\n",
    "        print('File already exists')\n",
    "    else:\n",
    "        try:\n",
    "            filename = wget.download(url, out=name)\n",
    "            print(filename, 'successfully downloaded')\n",
    "        except:\n",
    "            print('File could not be downloaded.  Check URL & connection.')\n",
    "    return filename\n",
    "\n",
    "filename = downloadFile(\"https://resources.lendingclub.com/LoanStats_2018Q4.csv.zip\", \"loanStats.csv.zip\")"
   ]
  },
  {
   "cell_type": "code",
   "execution_count": 26,
   "metadata": {},
   "outputs": [
    {
     "name": "stdout",
     "output_type": "stream",
     "text": [
      "['LoanStats_2018Q4.csv']\n"
     ]
    }
   ],
   "source": [
    "## Check contents of .zip file\n",
    "zfile = zipfile.ZipFile(filename)\n",
    "print(zfile.namelist())"
   ]
  },
  {
   "cell_type": "code",
   "execution_count": 32,
   "metadata": {
    "colab": {},
    "colab_type": "code",
    "id": "-4sk6qPgmpmN"
   },
   "outputs": [],
   "source": [
    "## Unizip data\n",
    "zfile.extractall()"
   ]
  },
  {
   "cell_type": "code",
   "execution_count": 33,
   "metadata": {},
   "outputs": [],
   "source": [
    "## Rename data files to follow convention in given filename\n",
    "for counter, memberName in enumerate(zfile.namelist()):\n",
    "    splitName = filename.split('.')\n",
    "    os.rename(memberName, splitName[0]+'_'+str(counter)+'.'splitName[1])"
   ]
  },
  {
   "cell_type": "code",
   "execution_count": 51,
   "metadata": {
    "colab": {},
    "colab_type": "code",
    "id": "seh5oNE1nD0X"
   },
   "outputs": [
    {
     "name": "stdout",
     "output_type": "stream",
     "text": [
      "['Notes offered by Prospectus (https://www.lendingclub.com/info/prospectus.action)']\n",
      "['id', 'member_id', 'loan_amnt', 'funded_amnt', 'funded_amnt_inv', 'term', 'int_rate', 'installment', 'grade', 'sub_grade', 'emp_title', 'emp_length', 'home_ownership', 'annual_inc', 'verification_status', 'issue_d', 'loan_status', 'pymnt_plan', 'url', 'desc', 'purpose', 'title', 'zip_code', 'addr_state', 'dti', 'delinq_2yrs', 'earliest_cr_line', 'inq_last_6mths', 'mths_since_last_delinq', 'mths_since_last_record', 'open_acc', 'pub_rec', 'revol_bal', 'revol_util', 'total_acc', 'initial_list_status', 'out_prncp', 'out_prncp_inv', 'total_pymnt', 'total_pymnt_inv', 'total_rec_prncp', 'total_rec_int', 'total_rec_late_fee', 'recoveries', 'collection_recovery_fee', 'last_pymnt_d', 'last_pymnt_amnt', 'next_pymnt_d', 'last_credit_pull_d', 'collections_12_mths_ex_med', 'mths_since_last_major_derog', 'policy_code', 'application_type', 'annual_inc_joint', 'dti_joint', 'verification_status_joint', 'acc_now_delinq', 'tot_coll_amt', 'tot_cur_bal', 'open_acc_6m', 'open_act_il', 'open_il_12m', 'open_il_24m', 'mths_since_rcnt_il', 'total_bal_il', 'il_util', 'open_rv_12m', 'open_rv_24m', 'max_bal_bc', 'all_util', 'total_rev_hi_lim', 'inq_fi', 'total_cu_tl', 'inq_last_12m', 'acc_open_past_24mths', 'avg_cur_bal', 'bc_open_to_buy', 'bc_util', 'chargeoff_within_12_mths', 'delinq_amnt', 'mo_sin_old_il_acct', 'mo_sin_old_rev_tl_op', 'mo_sin_rcnt_rev_tl_op', 'mo_sin_rcnt_tl', 'mort_acc', 'mths_since_recent_bc', 'mths_since_recent_bc_dlq', 'mths_since_recent_inq', 'mths_since_recent_revol_delinq', 'num_accts_ever_120_pd', 'num_actv_bc_tl', 'num_actv_rev_tl', 'num_bc_sats', 'num_bc_tl', 'num_il_tl', 'num_op_rev_tl', 'num_rev_accts', 'num_rev_tl_bal_gt_0', 'num_sats', 'num_tl_120dpd_2m', 'num_tl_30dpd', 'num_tl_90g_dpd_24m', 'num_tl_op_past_12m', 'pct_tl_nvr_dlq', 'percent_bc_gt_75', 'pub_rec_bankruptcies', 'tax_liens', 'tot_hi_cred_lim', 'total_bal_ex_mort', 'total_bc_limit', 'total_il_high_credit_limit', 'revol_bal_joint', 'sec_app_earliest_cr_line', 'sec_app_inq_last_6mths', 'sec_app_mort_acc', 'sec_app_open_acc', 'sec_app_revol_util', 'sec_app_open_act_il', 'sec_app_num_rev_accts', 'sec_app_chargeoff_within_12_mths', 'sec_app_collections_12_mths_ex_med', 'sec_app_mths_since_last_major_derog', 'hardship_flag', 'hardship_type', 'hardship_reason', 'hardship_status', 'deferral_term', 'hardship_amount', 'hardship_start_date', 'hardship_end_date', 'payment_plan_start_date', 'hardship_length', 'hardship_dpd', 'hardship_loan_status', 'orig_projected_additional_accrued_interest', 'hardship_payoff_balance_amount', 'hardship_last_payment_amount', 'debt_settlement_flag', 'debt_settlement_flag_date', 'settlement_status', 'settlement_date', 'settlement_amount', 'settlement_percentage', 'settlement_term']\n",
      "['', '', '5000', '5000', '5000', ' 36 months', ' 17.97%', '180.69', 'D', 'D1', 'Administrative', '6 years', 'MORTGAGE', '59280', 'Source Verified', 'Dec-2018', 'Current', 'n', '', '', 'debt_consolidation', 'Debt consolidation', '490xx', 'MI', '10.51', '0', 'Apr-2011', '0', '', '', '8', '0', '4599', '19.1%', '13', 'w', '4456.17', '4456.17', '895.96', '895.96', '543.83', '352.13', '0.0', '0.0', '0.0', 'Jun-2019', '180.69', 'Jul-2019', 'Jun-2019', '0', '', '1', 'Individual', '', '', '', '0', '0', '110299', '0', '1', '0', '2', '14', '7150', '72', '0', '2', '0', '35', '24100', '1', '5', '0', '4', '18383', '13800', '0', '0', '0', '87', '92', '15', '14', '2', '77', '', '14', '', '0', '0', '3', '3', '3', '4', '6', '7', '3', '8', '0', '0', '0', '0', '100', '0', '0', '0', '136927', '11749', '13800', '10000', '', '', '', '', '', '', '', '', '', '', '', 'N', '', '', '', '', '', '', '', '', '', '', '', '', '', '', 'N', '', '', '', '', '', '']\n",
      "['', '', '25000', '25000', '25000', ' 60 months', ' 14.47%', '587.82', 'C', 'C2', 'teacher', '10+ years', 'OWN', '110000', 'Not Verified', 'Dec-2018', 'Current', 'n', '', '', 'credit_card', 'Credit card refinancing', '117xx', 'NY', '26.43', '1', 'Jan-1997', '0', '7', '', '23', '0', '39053', '45.7%', '49', 'w', '23533.24', '23533.24', '2908.95', '2908.95', '1466.76', '1442.19', '0.0', '0.0', '0.0', 'May-2019', '587.82', 'Jul-2019', 'Jun-2019', '0', '7', '1', 'Individual', '', '', '', '0', '0', '95648', '0', '3', '0', '0', '35', '54716', '23', '1', '2', '8422', '39', '85500', '0', '1', '0', '2', '4159', '34837', '44.5', '0', '0', '263', '246', '10', '10', '0', '48', '', '', '', '0', '9', '13', '10', '14', '21', '19', '27', '13', '23', '0', '0', '1', '1', '98', '10', '0', '0', '179321', '95648', '62800', '91424', '', '', '', '', '', '', '', '', '', '', '', 'N', '', '', '', '', '', '', '', '', '', '', '', '', '', '', 'N', '', '', '', '', '', '']\n",
      "['', '', '10000', '10000', '10000', ' 36 months', ' 10.33%', '324.23', 'B', 'B1', '', '< 1 year', 'MORTGAGE', '280000', 'Not Verified', 'Dec-2018', 'Current', 'n', '', '', 'debt_consolidation', 'Debt consolidation', '974xx', 'OR', '6.15', '2', 'Jan-1996', '0', '18', '', '14', '0', '9082', '38%', '23', 'w', '8788.59', '8788.59', '1612.54', '1612.54', '1211.41', '401.13', '0.0', '0.0', '0.0', 'May-2019', '324.23', 'Jul-2019', 'Jun-2019', '0', '', '1', 'Individual', '', '', '', '0', '671', '246828', '1', '3', '2', '3', '1', '48552', '62', '1', '3', '4923', '46', '23900', '2', '7', '1', '7', '17631', '11897', '43.1', '0', '0', '158', '275', '11', '1', '1', '11', '', '11', '', '0', '3', '4', '7', '7', '10', '9', '11', '4', '14', '0', '0', '0', '4', '91.3', '28.6', '0', '0', '367828', '61364', '20900', '54912', '', '', '', '', '', '', '', '', '', '', '', 'N', '', '', '', '', '', '', '', '', '', '', '', '', '', '', 'N', '', '', '', '', '', '']\n",
      "['', '', '4000', '4000', '4000', ' 36 months', ' 23.40%', '155.68', 'E', 'E1', 'Security', '3 years', 'RENT', '90000', 'Source Verified', 'Dec-2018', 'Current', 'n', '', '', 'debt_consolidation', 'Debt consolidation', '070xx', 'NJ', '26.33', '0', 'Sep-2006', '4', '59', '', '15', '0', '5199', '19.2%', '20', 'w', '3596.15', '3596.15', '770.6', '770.60', '403.85', '366.75', '0.0', '0.0', '0.0', 'May-2019', '155.68', 'Jul-2019', 'Jun-2019', '0', '', '1', 'Individual', '', '', '', '0', '0', '66926', '5', '4', '3', '4', '5', '61727', '86', '6', '11', '1353', '68', '27100', '4', '0', '4', '15', '4462', '20174', '7.9', '0', '0', '147', '118', '2', '2', '0', '2', '', '0', '', '0', '5', '7', '9', '9', '8', '11', '12', '7', '15', '0', '0', '0', '9', '95', '0', '0', '0', '98655', '66926', '21900', '71555', '', '', '', '', '', '', '', '', '', '', '', 'N', '', '', '', '', '', '', '', '', '', '', '', '', '', '', 'N', '', '', '', '', '', '']\n",
      "['', '', '31450', '31450', '31450', ' 36 months', '  7.56%', '979.16', 'A', 'A3', 'Construction Manager', '7 years', 'MORTGAGE', '130000', 'Verified', 'Dec-2018', 'Current', 'n', '', '', 'debt_consolidation', 'Debt consolidation', '895xx', 'NV', '9.29', '0', 'Jul-1997', '0', '', '', '11', '0', '65911', '63.1%', '17', 'w', '26689.41', '26689.41', '5802.32', '5802.32', '4760.59', '1041.73', '0.0', '0.0', '0.0', 'Jun-2019', '979.16', 'Jul-2019', 'Jun-2019', '0', '', '1', 'Joint App', '239000', '12.77', 'Verified', '0', '0', '422806', '0', '0', '0', '0', '75', '0', '', '0', '0', '18962', '63', '104400', '0', '2', '1', '0', '42281', '29007', '53.5', '0', '0', '89', '257', '28', '28', '3', '28', '', '11', '', '0', '4', '6', '6', '6', '2', '10', '12', '6', '11', '0', '0', '0', '0', '100', '33.3', '0', '0', '519900', '65911', '62400', '0', '64367', 'Jul-1997', '0', '3', '14', '60.9', '1', '19', '0', '0', '', 'N', '', '', '', '', '', '', '', '', '', '', '', '', '', '', 'N', '', '', '', '', '', '']\n",
      "['', '', '15500', '15500', '15500', ' 36 months', ' 10.72%', '505.4', 'B', 'B2', 'Administrative Assistant ', '10+ years', 'RENT', '52000', 'Not Verified', 'Dec-2018', 'Current', 'n', '', '', 'credit_card', 'Credit card refinancing', '925xx', 'CA', '16.66', '0', 'Oct-2007', '0', '', '', '13', '0', '13496', '33.9%', '16', 'w', '13632.26', '13632.26', '2513.15', '2513.15', '1867.74', '645.41', '0.0', '0.0', '0.0', 'May-2019', '505.4', 'Jul-2019', 'Jun-2019', '1', '', '1', 'Individual', '', '', '', '0', '349', '19386', '1', '1', '0', '1', '15', '5890', '59', '3', '4', '6061', '39', '39800', '0', '2', '1', '5', '1491', '14251', '47.4', '0', '0', '60', '134', '6', '6', '0', '6', '', '11', '', '0', '6', '8', '7', '9', '2', '12', '14', '8', '13', '0', '0', '0', '3', '100', '0', '0', '0', '49742', '19386', '27100', '9942', '', '', '', '', '', '', '', '', '', '', '', 'N', '', '', '', '', '', '', '', '', '', '', '', '', '', '', 'N', '', '', '', '', '', '']\n",
      "['', '', '6000', '6000', '6000', ' 36 months', ' 14.47%', '206.44', 'C', 'C2', '', '< 1 year', 'OWN', '300000', 'Not Verified', 'Dec-2018', 'Current', 'n', '', '', 'debt_consolidation', 'Debt consolidation', '068xx', 'CT', '17.43', '1', 'Apr-2002', '1', '17', '', '38', '0', '65950', '49.8%', '58', 'w', '5313.18', '5313.18', '1024.96', '1024.96', '686.82', '338.14', '0.0', '0.0', '0.0', 'May-2019', '206.44', 'Jul-2019', 'Jun-2019', '0', '', '1', 'Individual', '', '', '', '0', '0', '349502', '1', '4', '1', '3', '7', '39961', '45', '1', '12', '15926', '48', '132500', '2', '2', '2', '15', '9197', '38683', '60.6', '0', '0', '166', '200', '4', '4', '1', '4', '', '4', '17', '0', '16', '20', '19', '26', '9', '33', '48', '20', '38', '0', '0', '0', '2', '100', '26.3', '0', '0', '477390', '105911', '98300', '89600', '', '', '', '', '', '', '', '', '', '', '', 'N', '', '', '', '', '', '', '', '', '', '', '', '', '', '', 'N', '', '', '', '', '', '']\n",
      "['', '', '6500', '6500', '6500', ' 36 months', ' 17.97%', '234.9', 'D', 'D1', 'Quality Field Engineer', '4 years', 'MORTGAGE', '154000', 'Source Verified', 'Dec-2018', 'Current', 'n', '', '', 'debt_consolidation', 'Debt consolidation', '278xx', 'NC', '28.78', '2', 'Oct-2008', '0', '6', '', '27', '0', '23754', '60.4%', '41', 'w', '5791.28', '5791.28', '1164.77', '1164.77', '708.72', '456.05', '0.0', '0.0', '0.0', 'May-2019', '234.9', 'Jul-2019', 'Jun-2019', '0', '6', '1', 'Individual', '', '', '', '0', '0', '116747', '2', '8', '3', '5', '1', '92993', '78', '1', '6', '3943', '72', '39300', '3', '3', '3', '11', '4324', '4578', '62.8', '1', '0', '122', '74', '11', '1', '0', '13', '', '4', '', '1', '5', '19', '5', '8', '17', '19', '24', '19', '27', '0', '0', '1', '4', '90.2', '20', '0', '0', '169160', '116747', '12300', '129860', '', '', '', '', '', '', '', '', '', '', '', 'N', '', '', '', '', '', '', '', '', '', '', '', '', '', '', 'N', '', '', '', '', '', '']\n",
      "['', '', '28000', '28000', '28000', ' 60 months', ' 11.31%', '613.13', 'B', 'B3', 'Consultant', '2 years', 'MORTGAGE', '70000', 'Not Verified', 'Dec-2018', 'Current', 'n', '', '', 'credit_card', 'Credit card refinancing', '300xx', 'GA', '22.01', '0', 'Dec-2003', '1', '', '', '10', '0', '56152', '55.9%', '23', 'w', '26220.62', '26220.62', '3039.26', '3039.26', '1779.38', '1259.88', '0.0', '0.0', '0.0', 'May-2019', '613.13', 'Jul-2019', 'Jun-2019', '0', '', '1', 'Individual', '', '', '', '0', '0', '177406', '1', '1', '0', '0', '62', '9484', '54', '1', '2', '16284', '56', '100400', '1', '0', '1', '2', '17741', '44248', '55.9', '0', '0', '180', '165', '6', '6', '1', '6', '', '6', '', '0', '5', '5', '8', '9', '13', '8', '9', '5', '10', '0', '0', '0', '1', '100', '37.5', '0', '0', '259435', '65636', '100400', '17535', '', '', '', '', '', '', '', '', '', '', '', 'N', '', '', '', '', '', '', '', '', '', '', '', '', '', '', 'N', '', '', '', '', '', '']\n",
      "['', '', '5525', '5525', '5525', ' 36 months', ' 15.02%', '191.59', 'C', 'C3', 'Vice President', '10+ years', 'RENT', '118000', 'Not Verified', 'Dec-2018', 'Current', 'n', '', '', 'car', 'Car financing', '322xx', 'FL', '3.25', '1', 'Jul-1999', '1', '16', '', '11', '0', '7038', '44%', '23', 'w', '4897.31', '4897.31', '951.03', '951.03', '627.69', '323.34', '0.0', '0.0', '0.0', 'May-2019', '191.59', 'Jul-2019', 'Dec-2018', '0', '21', '1', 'Individual', '', '', '', '0', '0', '7038', '1', '0', '0', '0', '2', '0', '0', '4', '5', '2498', '44', '15940', '0', '0', '4', '5', '639', '2260', '50', '1', '0', '141', '233', '4', '2', '2', '4', '26', '4', '16', '1', '5', '11', '4', '7', '2', '11', '18', '8', '11', '', '0', '0', '4', '52', '40', '0', '0', '15940', '7038', '11300', '0', '', '', '', '', '', '', '', '', '', '', '', 'N', '', '', '', '', '', '', '', '', '', '', '', '', '', '', 'N', '', '', '', '', '', '']\n"
     ]
    }
   ],
   "source": [
    "## Viewing head and tail of file and rename to given filename\n",
    "def csvHead(pathname): \n",
    "    with open(pathname) as csvFile:\n",
    "        csv_read = csv.reader(csvFile, delimiter=',')\n",
    "        for counter, row in enumerate(csv_read):\n",
    "            print(row)\n",
    "            if counter > 10:\n",
    "                break\n",
    "                \n",
    "csvHead(\"loanStats_0.csv\")            "
   ]
  },
  {
   "cell_type": "code",
   "execution_count": null,
   "metadata": {},
   "outputs": [],
   "source": [
    "## Something is wrong.  The first row isn't helpful. Moving to Pandas will make this a bit easier"
   ]
  },
  {
   "cell_type": "markdown",
   "metadata": {
    "colab_type": "text",
    "id": "3nAIRCZdofrY"
   },
   "source": [
    "## Load LendingClub data\n",
    "\n",
    "pandas documentation\n",
    "- [`read_csv`](https://pandas.pydata.org/pandas-docs/stable/generated/pandas.read_csv.html)\n",
    "- [`options.display`](https://pandas.pydata.org/pandas-docs/stable/options.html#available-options)"
   ]
  },
  {
   "cell_type": "code",
   "execution_count": 64,
   "metadata": {
    "colab": {},
    "colab_type": "code",
    "id": "3-8Vn3y6ooBC"
   },
   "outputs": [
    {
     "name": "stdout",
     "output_type": "stream",
     "text": [
      "   id  member_id  loan_amnt  funded_amnt  funded_amnt_inv        term  \\\n",
      "0 NaN        NaN       5000         5000           5000.0   36 months   \n",
      "1 NaN        NaN      25000        25000          25000.0   60 months   \n",
      "2 NaN        NaN      10000        10000          10000.0   36 months   \n",
      "3 NaN        NaN       4000         4000           4000.0   36 months   \n",
      "4 NaN        NaN      31450        31450          31450.0   36 months   \n",
      "\n",
      "  int_rate  installment grade sub_grade  ...  \\\n",
      "0   17.97%       180.69     D        D1  ...   \n",
      "1   14.47%       587.82     C        C2  ...   \n",
      "2   10.33%       324.23     B        B1  ...   \n",
      "3   23.40%       155.68     E        E1  ...   \n",
      "4    7.56%       979.16     A        A3  ...   \n",
      "\n",
      "  orig_projected_additional_accrued_interest hardship_payoff_balance_amount  \\\n",
      "0                                        NaN                            NaN   \n",
      "1                                        NaN                            NaN   \n",
      "2                                        NaN                            NaN   \n",
      "3                                        NaN                            NaN   \n",
      "4                                        NaN                            NaN   \n",
      "\n",
      "  hardship_last_payment_amount  debt_settlement_flag  \\\n",
      "0                          NaN                     N   \n",
      "1                          NaN                     N   \n",
      "2                          NaN                     N   \n",
      "3                          NaN                     N   \n",
      "4                          NaN                     N   \n",
      "\n",
      "  debt_settlement_flag_date settlement_status settlement_date  \\\n",
      "0                       NaN               NaN             NaN   \n",
      "1                       NaN               NaN             NaN   \n",
      "2                       NaN               NaN             NaN   \n",
      "3                       NaN               NaN             NaN   \n",
      "4                       NaN               NaN             NaN   \n",
      "\n",
      "  settlement_amount  settlement_percentage  settlement_term  \n",
      "0               NaN                    NaN              NaN  \n",
      "1               NaN                    NaN              NaN  \n",
      "2               NaN                    NaN              NaN  \n",
      "3               NaN                    NaN              NaN  \n",
      "4               NaN                    NaN              NaN  \n",
      "\n",
      "[5 rows x 144 columns]\n"
     ]
    }
   ],
   "source": [
    "lndata = pd.read_csv('loanStats_0.csv', skiprows=1, skipfooter=2, engine='python')\n",
    "print(lndata.head())"
   ]
  },
  {
   "cell_type": "code",
   "execution_count": 65,
   "metadata": {},
   "outputs": [
    {
     "name": "stdout",
     "output_type": "stream",
     "text": [
      "        id  member_id  loan_amnt  funded_amnt  funded_amnt_inv        term  \\\n",
      "128407 NaN        NaN      23000        23000          23000.0   36 months   \n",
      "128408 NaN        NaN      10000        10000          10000.0   36 months   \n",
      "128409 NaN        NaN       5000         5000           5000.0   36 months   \n",
      "128410 NaN        NaN      10000        10000           9750.0   36 months   \n",
      "128411 NaN        NaN      10000        10000          10000.0   36 months   \n",
      "\n",
      "       int_rate  installment grade sub_grade  ...  \\\n",
      "128407   15.02%       797.53     C        C3  ...   \n",
      "128408   15.02%       346.76     C        C3  ...   \n",
      "128409   13.56%       169.83     C        C1  ...   \n",
      "128410   11.06%       327.68     B        B3  ...   \n",
      "128411   16.91%       356.08     C        C5  ...   \n",
      "\n",
      "       orig_projected_additional_accrued_interest  \\\n",
      "128407                                        NaN   \n",
      "128408                                        NaN   \n",
      "128409                                        NaN   \n",
      "128410                                        NaN   \n",
      "128411                                        NaN   \n",
      "\n",
      "       hardship_payoff_balance_amount hardship_last_payment_amount  \\\n",
      "128407                            NaN                          NaN   \n",
      "128408                            NaN                          NaN   \n",
      "128409                            NaN                          NaN   \n",
      "128410                            NaN                          NaN   \n",
      "128411                            NaN                          NaN   \n",
      "\n",
      "        debt_settlement_flag debt_settlement_flag_date settlement_status  \\\n",
      "128407                     N                       NaN               NaN   \n",
      "128408                     N                       NaN               NaN   \n",
      "128409                     N                       NaN               NaN   \n",
      "128410                     N                       NaN               NaN   \n",
      "128411                     N                       NaN               NaN   \n",
      "\n",
      "       settlement_date settlement_amount  settlement_percentage  \\\n",
      "128407             NaN               NaN                    NaN   \n",
      "128408             NaN               NaN                    NaN   \n",
      "128409             NaN               NaN                    NaN   \n",
      "128410             NaN               NaN                    NaN   \n",
      "128411             NaN               NaN                    NaN   \n",
      "\n",
      "        settlement_term  \n",
      "128407              NaN  \n",
      "128408              NaN  \n",
      "128409              NaN  \n",
      "128410              NaN  \n",
      "128411              NaN  \n",
      "\n",
      "[5 rows x 144 columns]\n"
     ]
    }
   ],
   "source": [
    "print(lndata.tail())\n",
    "## the last two rows aren't data we need here. Revising read above..."
   ]
  },
  {
   "cell_type": "markdown",
   "metadata": {
    "colab_type": "text",
    "id": "1b5_hMTio2Ly"
   },
   "source": [
    "## Work with strings"
   ]
  },
  {
   "cell_type": "markdown",
   "metadata": {},
   "source": [
    "For machine learning, we usually want to replace strings with numbers.\n",
    "\n",
    "We can get info about which columns have a datatype of \"object\" (strings)"
   ]
  },
  {
   "cell_type": "code",
   "execution_count": 70,
   "metadata": {
    "colab": {},
    "colab_type": "code",
    "id": "WOL7QPVNo3F4"
   },
   "outputs": [
    {
     "name": "stdout",
     "output_type": "stream",
     "text": [
      "term\n",
      "int_rate\n",
      "grade\n",
      "sub_grade\n",
      "emp_title\n",
      "emp_length\n",
      "home_ownership\n",
      "verification_status\n",
      "issue_d\n",
      "loan_status\n",
      "pymnt_plan\n",
      "purpose\n",
      "title\n",
      "zip_code\n",
      "addr_state\n",
      "earliest_cr_line\n",
      "revol_util\n",
      "initial_list_status\n",
      "last_pymnt_d\n",
      "next_pymnt_d\n",
      "last_credit_pull_d\n",
      "application_type\n",
      "verification_status_joint\n",
      "sec_app_earliest_cr_line\n",
      "hardship_flag\n",
      "hardship_type\n",
      "hardship_reason\n",
      "hardship_status\n",
      "hardship_start_date\n",
      "hardship_end_date\n",
      "payment_plan_start_date\n",
      "hardship_loan_status\n",
      "debt_settlement_flag\n",
      "debt_settlement_flag_date\n",
      "settlement_status\n",
      "settlement_date\n"
     ]
    }
   ],
   "source": [
    "## Here I decided to loop through all the columns and check their dtype, printing where the data type is object.\n",
    "for col in lndata.columns:\n",
    "    if lndata[col].dtype == 'object':\n",
    "        print(col)"
   ]
  },
  {
   "cell_type": "markdown",
   "metadata": {},
   "source": [
    "### Convert `int_rate`\n",
    "\n",
    "Define a function to remove percent signs from strings and convert to floats"
   ]
  },
  {
   "cell_type": "code",
   "execution_count": 71,
   "metadata": {},
   "outputs": [
    {
     "data": {
      "text/plain": [
       "0     17.97%\n",
       "1     14.47%\n",
       "2     10.33%\n",
       "3     23.40%\n",
       "4      7.56%\n",
       "Name: int_rate, dtype: object"
      ]
     },
     "execution_count": 71,
     "metadata": {},
     "output_type": "execute_result"
    }
   ],
   "source": [
    "## Let's investigate int_rate\n",
    "lndata['int_rate'].head()"
   ]
  },
  {
   "cell_type": "code",
   "execution_count": 87,
   "metadata": {},
   "outputs": [],
   "source": [
    "## Return float value or NaN if missing or float fails\n",
    "def ptf(percent_str):\n",
    "    try:\n",
    "        fval = float(percent_str.strip('%'))\n",
    "    except:\n",
    "        fval = np.NaN\n",
    "    \n",
    "    return fval"
   ]
  },
  {
   "cell_type": "markdown",
   "metadata": {},
   "source": [
    "Apply the function to the `int_rate` column"
   ]
  },
  {
   "cell_type": "code",
   "execution_count": 88,
   "metadata": {},
   "outputs": [
    {
     "data": {
      "text/plain": [
       "0    17.97\n",
       "1    14.47\n",
       "2    10.33\n",
       "3    23.40\n",
       "4     7.56\n",
       "Name: int_rate, dtype: float64"
      ]
     },
     "execution_count": 88,
     "metadata": {},
     "output_type": "execute_result"
    }
   ],
   "source": [
    "## First, I'll copy the original data\n",
    "lndCopy = lndata.copy()\n",
    "## Now I will replace the column with the function applied\n",
    "lndCopy['int_rate'] = lndata['int_rate'].apply(ptf)\n",
    "lndCopy['int_rate'].head()"
   ]
  },
  {
   "cell_type": "markdown",
   "metadata": {},
   "source": [
    "### Clean `emp_title`\n",
    "\n",
    "Look at top 20 titles"
   ]
  },
  {
   "cell_type": "code",
   "execution_count": 94,
   "metadata": {},
   "outputs": [
    {
     "name": "stdout",
     "output_type": "stream",
     "text": [
      "('Teacher', 2090)\n",
      "('Manager', 1773)\n",
      "('Registered Nurse', 952)\n",
      "('Driver', 924)\n",
      "('RN', 726)\n",
      "('Supervisor', 697)\n",
      "('Sales', 580)\n",
      "('Project Manager', 526)\n",
      "('General Manager', 523)\n",
      "('Office Manager', 521)\n",
      "('Owner', 420)\n",
      "('Director', 402)\n",
      "('Operations Manager', 387)\n",
      "('Truck Driver', 387)\n",
      "('Nurse', 326)\n",
      "('Engineer', 325)\n",
      "('Sales Manager', 304)\n",
      "('manager', 301)\n",
      "('Supervisor ', 270)\n",
      "('Administrative Assistant', 269)\n"
     ]
    }
   ],
   "source": [
    "for counter, row in enumerate(lndata['emp_title'].value_counts().iteritems()):\n",
    "    if counter < 20:\n",
    "        print(row)\n",
    "    else:\n",
    "        break"
   ]
  },
  {
   "cell_type": "markdown",
   "metadata": {},
   "source": [
    "How often is `emp_title` null?"
   ]
  },
  {
   "cell_type": "code",
   "execution_count": 95,
   "metadata": {},
   "outputs": [
    {
     "data": {
      "text/plain": [
       "20947"
      ]
     },
     "execution_count": 95,
     "metadata": {},
     "output_type": "execute_result"
    }
   ],
   "source": [
    "lndata['emp_title'].isna().sum()"
   ]
  },
  {
   "cell_type": "markdown",
   "metadata": {},
   "source": [
    "Clean the title and handle missing values"
   ]
  },
  {
   "cell_type": "code",
   "execution_count": 98,
   "metadata": {},
   "outputs": [
    {
     "name": "stdout",
     "output_type": "stream",
     "text": [
      "['Adfad', 'Adfadfad', nan]\n"
     ]
    }
   ],
   "source": [
    "## strip any whitespace and capitalize ubiquitously\n",
    "def cleanEntry(entry):\n",
    "    if isinstance(entry, str):\n",
    "        return entry.strip().title()\n",
    "    else:\n",
    "        return np.NaN\n",
    "\n",
    "## Quick test\n",
    "test_str = ['adfad ', ' adfadfad ', np.NaN]\n",
    "print([cleanEntry(item) for item in test_str])"
   ]
  },
  {
   "cell_type": "code",
   "execution_count": 99,
   "metadata": {},
   "outputs": [
    {
     "data": {
      "text/plain": [
       "0          Administrative\n",
       "1                 Teacher\n",
       "2                     NaN\n",
       "3                Security\n",
       "4    Construction Manager\n",
       "Name: emp_title, dtype: object"
      ]
     },
     "execution_count": 99,
     "metadata": {},
     "output_type": "execute_result"
    }
   ],
   "source": [
    "## Hit the copied dataframe\n",
    "lndCopy['emp_title'] = lndata['emp_title'].apply(cleanEntry)\n",
    "lndCopy['emp_title'].head()"
   ]
  },
  {
   "cell_type": "markdown",
   "metadata": {},
   "source": [
    "### Create `emp_title_manager`\n",
    "\n",
    "pandas documentation: [`str.contains`](https://pandas.pydata.org/pandas-docs/stable/generated/pandas.Series.str.contains.html)"
   ]
  },
  {
   "cell_type": "code",
   "execution_count": 117,
   "metadata": {},
   "outputs": [
    {
     "data": {
      "text/plain": [
       "0     False\n",
       "1     False\n",
       "2      True\n",
       "3     False\n",
       "4      True\n",
       "5     False\n",
       "6      True\n",
       "7     False\n",
       "8     False\n",
       "9     False\n",
       "10    False\n",
       "11    False\n",
       "12    False\n",
       "13    False\n",
       "14    False\n",
       "15     True\n",
       "16    False\n",
       "17    False\n",
       "18    False\n",
       "19    False\n",
       "Name: emp_title_manager, dtype: bool"
      ]
     },
     "execution_count": 117,
     "metadata": {},
     "output_type": "execute_result"
    }
   ],
   "source": [
    "## Making the boolean manager column\n",
    "managertypes = ['manager', 'executive', 'supervisor']\n",
    "lndCopy['emp_title_manager'] = lndata['emp_title'].str.contains('|'.join(managertypes), case=False, regex=True)\n",
    "lndCopy['emp_title_manager'] = lndCopy['emp_title_manager'].astype(bool)\n",
    "lndCopy['emp_title_manager'].head(20)"
   ]
  },
  {
   "cell_type": "code",
   "execution_count": 119,
   "metadata": {},
   "outputs": [
    {
     "data": {
      "text/html": [
       "<div>\n",
       "<style scoped>\n",
       "    .dataframe tbody tr th:only-of-type {\n",
       "        vertical-align: middle;\n",
       "    }\n",
       "\n",
       "    .dataframe tbody tr th {\n",
       "        vertical-align: top;\n",
       "    }\n",
       "\n",
       "    .dataframe thead th {\n",
       "        text-align: right;\n",
       "    }\n",
       "</style>\n",
       "<table border=\"1\" class=\"dataframe\">\n",
       "  <thead>\n",
       "    <tr style=\"text-align: right;\">\n",
       "      <th></th>\n",
       "      <th>id</th>\n",
       "      <th>member_id</th>\n",
       "      <th>loan_amnt</th>\n",
       "      <th>funded_amnt</th>\n",
       "      <th>funded_amnt_inv</th>\n",
       "      <th>int_rate</th>\n",
       "      <th>installment</th>\n",
       "      <th>annual_inc</th>\n",
       "      <th>url</th>\n",
       "      <th>desc</th>\n",
       "      <th>...</th>\n",
       "      <th>deferral_term</th>\n",
       "      <th>hardship_amount</th>\n",
       "      <th>hardship_length</th>\n",
       "      <th>hardship_dpd</th>\n",
       "      <th>orig_projected_additional_accrued_interest</th>\n",
       "      <th>hardship_payoff_balance_amount</th>\n",
       "      <th>hardship_last_payment_amount</th>\n",
       "      <th>settlement_amount</th>\n",
       "      <th>settlement_percentage</th>\n",
       "      <th>settlement_term</th>\n",
       "    </tr>\n",
       "    <tr>\n",
       "      <th>emp_title_manager</th>\n",
       "      <th></th>\n",
       "      <th></th>\n",
       "      <th></th>\n",
       "      <th></th>\n",
       "      <th></th>\n",
       "      <th></th>\n",
       "      <th></th>\n",
       "      <th></th>\n",
       "      <th></th>\n",
       "      <th></th>\n",
       "      <th></th>\n",
       "      <th></th>\n",
       "      <th></th>\n",
       "      <th></th>\n",
       "      <th></th>\n",
       "      <th></th>\n",
       "      <th></th>\n",
       "      <th></th>\n",
       "      <th></th>\n",
       "      <th></th>\n",
       "      <th></th>\n",
       "    </tr>\n",
       "  </thead>\n",
       "  <tbody>\n",
       "    <tr>\n",
       "      <th>False</th>\n",
       "      <td>NaN</td>\n",
       "      <td>NaN</td>\n",
       "      <td>15920.22624</td>\n",
       "      <td>15920.22624</td>\n",
       "      <td>15917.406203</td>\n",
       "      <td>12.929892</td>\n",
       "      <td>460.318361</td>\n",
       "      <td>83290.769015</td>\n",
       "      <td>NaN</td>\n",
       "      <td>NaN</td>\n",
       "      <td>...</td>\n",
       "      <td>3.0</td>\n",
       "      <td>378.39</td>\n",
       "      <td>3.0</td>\n",
       "      <td>22.0</td>\n",
       "      <td>1135.17</td>\n",
       "      <td>15351.85</td>\n",
       "      <td>1045.41</td>\n",
       "      <td>6129.612000</td>\n",
       "      <td>56.665</td>\n",
       "      <td>16.3</td>\n",
       "    </tr>\n",
       "    <tr>\n",
       "      <th>True</th>\n",
       "      <td>NaN</td>\n",
       "      <td>NaN</td>\n",
       "      <td>16070.51561</td>\n",
       "      <td>16070.51561</td>\n",
       "      <td>16067.687284</td>\n",
       "      <td>12.930058</td>\n",
       "      <td>468.957513</td>\n",
       "      <td>81839.369114</td>\n",
       "      <td>NaN</td>\n",
       "      <td>NaN</td>\n",
       "      <td>...</td>\n",
       "      <td>NaN</td>\n",
       "      <td>NaN</td>\n",
       "      <td>NaN</td>\n",
       "      <td>NaN</td>\n",
       "      <td>NaN</td>\n",
       "      <td>NaN</td>\n",
       "      <td>NaN</td>\n",
       "      <td>5982.346111</td>\n",
       "      <td>54.455</td>\n",
       "      <td>15.5</td>\n",
       "    </tr>\n",
       "  </tbody>\n",
       "</table>\n",
       "<p>2 rows × 109 columns</p>\n",
       "</div>"
      ],
      "text/plain": [
       "                   id  member_id    loan_amnt  funded_amnt  funded_amnt_inv  \\\n",
       "emp_title_manager                                                             \n",
       "False             NaN        NaN  15920.22624  15920.22624     15917.406203   \n",
       "True              NaN        NaN  16070.51561  16070.51561     16067.687284   \n",
       "\n",
       "                    int_rate  installment    annual_inc  url  desc  ...  \\\n",
       "emp_title_manager                                                   ...   \n",
       "False              12.929892   460.318361  83290.769015  NaN   NaN  ...   \n",
       "True               12.930058   468.957513  81839.369114  NaN   NaN  ...   \n",
       "\n",
       "                   deferral_term  hardship_amount  hardship_length  \\\n",
       "emp_title_manager                                                    \n",
       "False                        3.0           378.39              3.0   \n",
       "True                         NaN              NaN              NaN   \n",
       "\n",
       "                   hardship_dpd  orig_projected_additional_accrued_interest  \\\n",
       "emp_title_manager                                                             \n",
       "False                      22.0                                     1135.17   \n",
       "True                        NaN                                         NaN   \n",
       "\n",
       "                   hardship_payoff_balance_amount  \\\n",
       "emp_title_manager                                   \n",
       "False                                    15351.85   \n",
       "True                                          NaN   \n",
       "\n",
       "                   hardship_last_payment_amount  settlement_amount  \\\n",
       "emp_title_manager                                                    \n",
       "False                                   1045.41        6129.612000   \n",
       "True                                        NaN        5982.346111   \n",
       "\n",
       "                   settlement_percentage  settlement_term  \n",
       "emp_title_manager                                          \n",
       "False                             56.665             16.3  \n",
       "True                              54.455             15.5  \n",
       "\n",
       "[2 rows x 109 columns]"
      ]
     },
     "execution_count": 119,
     "metadata": {},
     "output_type": "execute_result"
    }
   ],
   "source": [
    "## Checkign interest rates for each group\n",
    "lndCopy.groupby('emp_title_manager').mean()"
   ]
  },
  {
   "cell_type": "markdown",
   "metadata": {
    "colab_type": "text",
    "id": "s8BcCY6so3by"
   },
   "source": [
    "## Work with dates"
   ]
  },
  {
   "cell_type": "markdown",
   "metadata": {},
   "source": [
    "pandas documentation\n",
    "- [to_datetime](https://pandas.pydata.org/pandas-docs/stable/generated/pandas.to_datetime.html)\n",
    "- [Time/Date Components](https://pandas.pydata.org/pandas-docs/stable/timeseries.html#time-date-components) \"You can access these properties via the `.dt` accessor\""
   ]
  },
  {
   "cell_type": "code",
   "execution_count": 124,
   "metadata": {
    "colab": {},
    "colab_type": "code",
    "id": "kNrKxOTeo4W3"
   },
   "outputs": [
    {
     "data": {
      "text/plain": [
       "0   2018-12-01\n",
       "1   2018-12-01\n",
       "2   2018-12-01\n",
       "3   2018-12-01\n",
       "4   2018-12-01\n",
       "5   2018-12-01\n",
       "6   2018-12-01\n",
       "7   2018-12-01\n",
       "8   2018-12-01\n",
       "9   2018-12-01\n",
       "Name: issue_d, dtype: datetime64[ns]"
      ]
     },
     "execution_count": 124,
     "metadata": {},
     "output_type": "execute_result"
    }
   ],
   "source": [
    "lndCopy['issue_d'] = pd.to_datetime(lndCopy['issue_d'], infer_datetime_format=True)\n",
    "lndCopy['issue_d'].head(10)"
   ]
  },
  {
   "cell_type": "markdown",
   "metadata": {},
   "source": [
    "# ASSIGNMENT\n",
    "\n",
    "- Replicate the lesson code.\n",
    "\n",
    "- Convert the `term` column from string to integer.\n",
    "\n",
    "- Make a column named `loan_status_is_great`. It should contain the integer 1 if `loan_status` is \"Current\" or \"Fully Paid.\" Else it should contain the integer 0.\n",
    "\n",
    "- Make `last_pymnt_d_month` and `last_pymnt_d_year` columns."
   ]
  },
  {
   "cell_type": "code",
   "execution_count": 129,
   "metadata": {},
   "outputs": [
    {
     "data": {
      "text/plain": [
       " 36 months    88179\n",
       " 60 months    40233\n",
       "Name: term, dtype: int64"
      ]
     },
     "execution_count": 129,
     "metadata": {},
     "output_type": "execute_result"
    }
   ],
   "source": [
    "lndCopy['term'].value_counts()\n",
    "#lndCopy['term'] = lndCopy['term'].astype(int)"
   ]
  },
  {
   "cell_type": "code",
   "execution_count": 138,
   "metadata": {},
   "outputs": [
    {
     "data": {
      "text/plain": [
       "0    36\n",
       "1    60\n",
       "2    36\n",
       "3    36\n",
       "4    36\n",
       "Name: term, dtype: int64"
      ]
     },
     "execution_count": 138,
     "metadata": {},
     "output_type": "execute_result"
    }
   ],
   "source": [
    "## splitting on ' months' and returning number as integer since column very clean.\n",
    "def stripMonths(term):\n",
    "    return int(term.split(' months')[0])\n",
    "\n",
    "lndCopy['term'] = lndata['term'].apply(stripMonths)\n",
    "lndCopy['term'].head(5)"
   ]
  },
  {
   "cell_type": "code",
   "execution_count": 145,
   "metadata": {},
   "outputs": [
    {
     "data": {
      "text/plain": [
       "Current               114514\n",
       "Fully Paid              9785\n",
       "Late (31-120 days)      1878\n",
       "Charged Off             1028\n",
       "In Grace Period          807\n",
       "Late (16-30 days)        397\n",
       "Default                    3\n",
       "Name: loan_status, dtype: int64"
      ]
     },
     "execution_count": 145,
     "metadata": {},
     "output_type": "execute_result"
    }
   ],
   "source": [
    "## Quick look at loan_status\n",
    "lndata['loan_status'].value_counts()"
   ]
  },
  {
   "cell_type": "code",
   "execution_count": 149,
   "metadata": {},
   "outputs": [
    {
     "data": {
      "text/plain": [
       "0    1\n",
       "1    1\n",
       "2    1\n",
       "3    1\n",
       "4    1\n",
       "5    1\n",
       "6    1\n",
       "7    1\n",
       "8    1\n",
       "9    1\n",
       "Name: loan_status_is_great, dtype: int32"
      ]
     },
     "execution_count": 149,
     "metadata": {},
     "output_type": "execute_result"
    }
   ],
   "source": [
    "## Building the feature with method from above\n",
    "good_status = ['Fully Paid', 'Current']\n",
    "lndCopy['loan_status_is_great'] = lndata['loan_status'].str.contains('|'.join(good_status), case=False, regex=True)\n",
    "lndCopy['loan_status_is_great'].value_counts()\n",
    "lndCopy['loan_status_is_great'] = lndCopy['loan_status_is_great'].astype(int)\n",
    "lndCopy['loan_status_is_great'].head(10)"
   ]
  },
  {
   "cell_type": "code",
   "execution_count": 158,
   "metadata": {},
   "outputs": [
    {
     "name": "stdout",
     "output_type": "stream",
     "text": [
      "0    Jun-2019\n",
      "1    May-2019\n",
      "2    May-2019\n",
      "3    May-2019\n",
      "4    Jun-2019\n",
      "Name: last_pymnt_d, dtype: object\n",
      "Jun-2019    103574\n",
      "May-2019     14806\n",
      "Apr-2019      2408\n",
      "Mar-2019      2002\n",
      "Feb-2019      1925\n",
      "Jan-2019      1560\n",
      "Dec-2018      1054\n",
      "Nov-2018       679\n",
      "Oct-2018       234\n",
      "Jul-2019        11\n",
      "Name: last_pymnt_d, dtype: int64\n",
      "object\n"
     ]
    },
    {
     "data": {
      "text/plain": [
       "str"
      ]
     },
     "execution_count": 158,
     "metadata": {},
     "output_type": "execute_result"
    }
   ],
   "source": [
    "## Quick look at last_payment_d\n",
    "print(lndata['last_pymnt_d'].head())\n",
    "print(lndata['last_pymnt_d'].value_counts())\n",
    "print(lndata['last_pymnt_d'].dtype)\n",
    "\n",
    "type(lndata['last_pymnt_d'][1])"
   ]
  },
  {
   "cell_type": "code",
   "execution_count": 167,
   "metadata": {},
   "outputs": [
    {
     "name": "stdout",
     "output_type": "stream",
     "text": [
      "2019-06-01    103574\n",
      "2019-05-01     14806\n",
      "2019-04-01      2408\n",
      "2019-03-01      2002\n",
      "2019-02-01      1925\n",
      "2019-01-01      1560\n",
      "2018-12-01      1054\n",
      "2018-11-01       679\n",
      "2018-10-01       234\n",
      "2019-07-01        11\n",
      "Name: last_pymnt_d, dtype: int64\n",
      "datetime64[ns]\n"
     ]
    },
    {
     "data": {
      "text/plain": [
       "pandas._libs.tslibs.timestamps.Timestamp"
      ]
     },
     "execution_count": 167,
     "metadata": {},
     "output_type": "execute_result"
    }
   ],
   "source": [
    "lndCopy['last_pymnt_d'] = pd.to_datetime(lndata['last_pymnt_d'], infer_datetime_format=True)\n",
    "print(lndCopy['last_pymnt_d'].value_counts())\n",
    "print(lndCopy['last_pymnt_d'].dtype)\n",
    "\n",
    "type(lndCopy['last_pymnt_d'][1])"
   ]
  },
  {
   "cell_type": "code",
   "execution_count": 172,
   "metadata": {},
   "outputs": [
    {
     "name": "stdout",
     "output_type": "stream",
     "text": [
      "0    June\n",
      "1     May\n",
      "2     May\n",
      "3     May\n",
      "4    June\n",
      "Name: last_pymnt_d_month, dtype: object\n",
      "0    2019.0\n",
      "1    2019.0\n",
      "2    2019.0\n",
      "3    2019.0\n",
      "4    2019.0\n",
      "Name: last_pymnt_d_year, dtype: float64\n"
     ]
    }
   ],
   "source": [
    "## This column is clean.  Converting to datetime would allow calling month/year on command.\n",
    "## Since the data is so clean, I'll just split on the hyphen.\n",
    "def getMonth(x):\n",
    "    return x.month_name()\n",
    "def getYear(x):\n",
    "    return x.year\n",
    "\n",
    "lndCopy['last_pymnt_d_month'] = lndCopy['last_pymnt_d'].apply(getMonth)\n",
    "lndCopy['last_pymnt_d_year'] = lndCopy['last_pymnt_d'].apply(getYear)\n",
    "print(lndCopy['last_pymnt_d_month'].head(5))\n",
    "print(lndCopy['last_pymnt_d_year'].head(5))"
   ]
  },
  {
   "cell_type": "markdown",
   "metadata": {
    "colab_type": "text",
    "id": "L8k0LiHmo5EU"
   },
   "source": [
    "# STRETCH OPTIONS\n",
    "\n",
    "You can do more with the LendingClub or Instacart datasets.\n",
    "\n",
    "LendingClub options:\n",
    "- There's one other column in the dataframe with percent signs. Remove them and convert to floats. You'll need to handle missing values.\n",
    "- Modify the `emp_title` column to replace titles with 'Other' if the title is not in the top 20. \n",
    "- Take initiatve and work on your own ideas!\n",
    "\n",
    "Instacart options:\n",
    "- Read [Instacart Market Basket Analysis, Winner's Interview: 2nd place, Kazuki Onodera](http://blog.kaggle.com/2017/09/21/instacart-market-basket-analysis-winners-interview-2nd-place-kazuki-onodera/), especially the **Feature Engineering** section. (Can you choose one feature from his bulleted lists, and try to engineer it with pandas code?)\n",
    "- Read and replicate parts of [Simple Exploration Notebook - Instacart](https://www.kaggle.com/sudalairajkumar/simple-exploration-notebook-instacart). (It's the Python Notebook with the most upvotes for this Kaggle competition.)\n",
    "- Take initiative and work on your own ideas!"
   ]
  },
  {
   "cell_type": "markdown",
   "metadata": {
    "colab_type": "text",
    "id": "0_7PXF7lpEXg"
   },
   "source": [
    "You can uncomment and run the cells below to re-download and extract the Instacart data"
   ]
  },
  {
   "cell_type": "code",
   "execution_count": null,
   "metadata": {},
   "outputs": [],
   "source": [
    "# !wget https://s3.amazonaws.com/instacart-datasets/instacart_online_grocery_shopping_2017_05_01.tar.gz"
   ]
  },
  {
   "cell_type": "code",
   "execution_count": null,
   "metadata": {},
   "outputs": [],
   "source": [
    "# !tar --gunzip --extract --verbose --file=instacart_online_grocery_shopping_2017_05_01.tar.gz"
   ]
  },
  {
   "cell_type": "code",
   "execution_count": null,
   "metadata": {},
   "outputs": [],
   "source": [
    "# %cd instacart_2017_05_01"
   ]
  }
 ],
 "metadata": {
  "colab": {
   "collapsed_sections": [],
   "name": "LS_DS_124_Make_features.ipynb",
   "provenance": [],
   "version": "0.3.2"
  },
  "kernelspec": {
   "display_name": "Python 3",
   "language": "python",
   "name": "python3"
  },
  "language_info": {
   "codemirror_mode": {
    "name": "ipython",
    "version": 3
   },
   "file_extension": ".py",
   "mimetype": "text/x-python",
   "name": "python",
   "nbconvert_exporter": "python",
   "pygments_lexer": "ipython3",
   "version": "3.7.0"
  }
 },
 "nbformat": 4,
 "nbformat_minor": 1
}
