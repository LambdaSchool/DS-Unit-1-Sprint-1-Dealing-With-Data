{
  "nbformat": 4,
  "nbformat_minor": 0,
  "metadata": {
    "colab": {
      "name": "LS_DS_124_Make_features.ipynb",
      "version": "0.3.2",
      "provenance": [],
      "collapsed_sections": []
    },
    "language_info": {
      "codemirror_mode": {
        "name": "ipython",
        "version": 3
      },
      "file_extension": ".py",
      "mimetype": "text/x-python",
      "name": "python",
      "nbconvert_exporter": "python",
      "pygments_lexer": "ipython3",
      "version": "3.7.1"
    },
    "kernelspec": {
      "display_name": "Python 3",
      "language": "python",
      "name": "python3"
    }
  },
  "cells": [
    {
      "cell_type": "markdown",
      "metadata": {
        "colab_type": "text",
        "id": "qacqiXogluN_"
      },
      "source": [
        "_Lambda School Data Science_\n",
        "\n",
        "# Make features\n",
        "\n",
        "Objectives\n",
        "-  understand the purpose of feature engineering\n",
        "-  work with strings in pandas\n",
        "- work with dates and times in pandas\n",
        "\n",
        "Links\n",
        "- [Feature Engineering](https://en.wikipedia.org/wiki/Feature_engineering)\n",
        "- Python Data Science Handbook\n",
        "  - [Chapter 3.10](https://jakevdp.github.io/PythonDataScienceHandbook/03.10-working-with-strings.html), Vectorized String Operations\n",
        "  - [Chapter 3.11](https://jakevdp.github.io/PythonDataScienceHandbook/03.11-working-with-time-series.html), Working with Time Series"
      ]
    },
    {
      "cell_type": "markdown",
      "metadata": {
        "colab_type": "text",
        "id": "iSGiSktAoWIx"
      },
      "source": [
        "## Get LendingClub data\n",
        "\n",
        "[Source](https://www.lendingclub.com/info/download-data.action)"
      ]
    },
    {
      "cell_type": "code",
      "metadata": {
        "colab_type": "code",
        "id": "2ugxlWXimoHn",
        "outputId": "63d020b0-fdf5-433e-8c6f-38d81ee13157",
        "colab": {
          "base_uri": "https://localhost:8080/",
          "height": 204
        }
      },
      "source": [
        "!wget https://resources.lendingclub.com/LoanStats_2018Q4.csv.zip"
      ],
      "execution_count": 141,
      "outputs": [
        {
          "output_type": "stream",
          "text": [
            "--2019-05-05 09:30:52--  https://resources.lendingclub.com/LoanStats_2018Q4.csv.zip\n",
            "Resolving resources.lendingclub.com (resources.lendingclub.com)... 64.48.1.20\n",
            "Connecting to resources.lendingclub.com (resources.lendingclub.com)|64.48.1.20|:443... connected.\n",
            "HTTP request sent, awaiting response... 200 OK\n",
            "Length: unspecified [application/zip]\n",
            "Saving to: ‘LoanStats_2018Q4.csv.zip.3’\n",
            "\n",
            "LoanStats_2018Q4.cs     [                <=> ]  21.40M   880KB/s    in 25s     \n",
            "\n",
            "2019-05-05 09:31:18 (864 KB/s) - ‘LoanStats_2018Q4.csv.zip.3’ saved [22444881]\n",
            "\n"
          ],
          "name": "stdout"
        }
      ]
    },
    {
      "cell_type": "code",
      "metadata": {
        "colab_type": "code",
        "id": "-4sk6qPgmpmN",
        "outputId": "ea5265d7-12d4-4856-ad77-ddb953c11e15",
        "colab": {
          "base_uri": "https://localhost:8080/",
          "height": 97
        }
      },
      "source": [
        "!unzip LoanStats_2018Q4.csv.zip"
      ],
      "execution_count": 142,
      "outputs": [
        {
          "output_type": "stream",
          "text": [
            "Archive:  LoanStats_2018Q4.csv.zip\n",
            "replace LoanStats_2018Q4.csv? [y]es, [n]o, [A]ll, [N]one, [r]ename: y\n",
            "  inflating: LoanStats_2018Q4.csv    \n"
          ],
          "name": "stdout"
        }
      ]
    },
    {
      "cell_type": "code",
      "metadata": {
        "colab_type": "code",
        "id": "seh5oNE1nD0X",
        "outputId": "b7484d01-7eb2-4a6d-df64-6fb6189c4dda",
        "colab": {
          "base_uri": "https://localhost:8080/",
          "height": 276
        }
      },
      "source": [
        "!head LoanStats_2018Q4.csv"
      ],
      "execution_count": 143,
      "outputs": [
        {
          "output_type": "stream",
          "text": [
            "Notes offered by Prospectus (https://www.lendingclub.com/info/prospectus.action)\n",
            "\"id\",\"member_id\",\"loan_amnt\",\"funded_amnt\",\"funded_amnt_inv\",\"term\",\"int_rate\",\"installment\",\"grade\",\"sub_grade\",\"emp_title\",\"emp_length\",\"home_ownership\",\"annual_inc\",\"verification_status\",\"issue_d\",\"loan_status\",\"pymnt_plan\",\"url\",\"desc\",\"purpose\",\"title\",\"zip_code\",\"addr_state\",\"dti\",\"delinq_2yrs\",\"earliest_cr_line\",\"inq_last_6mths\",\"mths_since_last_delinq\",\"mths_since_last_record\",\"open_acc\",\"pub_rec\",\"revol_bal\",\"revol_util\",\"total_acc\",\"initial_list_status\",\"out_prncp\",\"out_prncp_inv\",\"total_pymnt\",\"total_pymnt_inv\",\"total_rec_prncp\",\"total_rec_int\",\"total_rec_late_fee\",\"recoveries\",\"collection_recovery_fee\",\"last_pymnt_d\",\"last_pymnt_amnt\",\"next_pymnt_d\",\"last_credit_pull_d\",\"collections_12_mths_ex_med\",\"mths_since_last_major_derog\",\"policy_code\",\"application_type\",\"annual_inc_joint\",\"dti_joint\",\"verification_status_joint\",\"acc_now_delinq\",\"tot_coll_amt\",\"tot_cur_bal\",\"open_acc_6m\",\"open_act_il\",\"open_il_12m\",\"open_il_24m\",\"mths_since_rcnt_il\",\"total_bal_il\",\"il_util\",\"open_rv_12m\",\"open_rv_24m\",\"max_bal_bc\",\"all_util\",\"total_rev_hi_lim\",\"inq_fi\",\"total_cu_tl\",\"inq_last_12m\",\"acc_open_past_24mths\",\"avg_cur_bal\",\"bc_open_to_buy\",\"bc_util\",\"chargeoff_within_12_mths\",\"delinq_amnt\",\"mo_sin_old_il_acct\",\"mo_sin_old_rev_tl_op\",\"mo_sin_rcnt_rev_tl_op\",\"mo_sin_rcnt_tl\",\"mort_acc\",\"mths_since_recent_bc\",\"mths_since_recent_bc_dlq\",\"mths_since_recent_inq\",\"mths_since_recent_revol_delinq\",\"num_accts_ever_120_pd\",\"num_actv_bc_tl\",\"num_actv_rev_tl\",\"num_bc_sats\",\"num_bc_tl\",\"num_il_tl\",\"num_op_rev_tl\",\"num_rev_accts\",\"num_rev_tl_bal_gt_0\",\"num_sats\",\"num_tl_120dpd_2m\",\"num_tl_30dpd\",\"num_tl_90g_dpd_24m\",\"num_tl_op_past_12m\",\"pct_tl_nvr_dlq\",\"percent_bc_gt_75\",\"pub_rec_bankruptcies\",\"tax_liens\",\"tot_hi_cred_lim\",\"total_bal_ex_mort\",\"total_bc_limit\",\"total_il_high_credit_limit\",\"revol_bal_joint\",\"sec_app_earliest_cr_line\",\"sec_app_inq_last_6mths\",\"sec_app_mort_acc\",\"sec_app_open_acc\",\"sec_app_revol_util\",\"sec_app_open_act_il\",\"sec_app_num_rev_accts\",\"sec_app_chargeoff_within_12_mths\",\"sec_app_collections_12_mths_ex_med\",\"sec_app_mths_since_last_major_derog\",\"hardship_flag\",\"hardship_type\",\"hardship_reason\",\"hardship_status\",\"deferral_term\",\"hardship_amount\",\"hardship_start_date\",\"hardship_end_date\",\"payment_plan_start_date\",\"hardship_length\",\"hardship_dpd\",\"hardship_loan_status\",\"orig_projected_additional_accrued_interest\",\"hardship_payoff_balance_amount\",\"hardship_last_payment_amount\",\"debt_settlement_flag\",\"debt_settlement_flag_date\",\"settlement_status\",\"settlement_date\",\"settlement_amount\",\"settlement_percentage\",\"settlement_term\"\n",
            "\"\",\"\",\"10000\",\"10000\",\"10000\",\" 36 months\",\" 10.33%\",\"324.23\",\"B\",\"B1\",\"\",\"< 1 year\",\"MORTGAGE\",\"280000\",\"Not Verified\",\"Dec-2018\",\"Current\",\"n\",\"\",\"\",\"debt_consolidation\",\"Debt consolidation\",\"974xx\",\"OR\",\"6.15\",\"2\",\"Jan-1996\",\"0\",\"18\",\"\",\"14\",\"0\",\"9082\",\"38%\",\"23\",\"w\",\"9035.04\",\"9035.04\",\"1288.31\",\"1288.31\",\"964.96\",\"323.35\",\"0.0\",\"0.0\",\"0.0\",\"Apr-2019\",\"324.23\",\"May-2019\",\"Apr-2019\",\"0\",\"\",\"1\",\"Individual\",\"\",\"\",\"\",\"0\",\"671\",\"246828\",\"1\",\"3\",\"2\",\"3\",\"1\",\"48552\",\"62\",\"1\",\"3\",\"4923\",\"46\",\"23900\",\"2\",\"7\",\"1\",\"7\",\"17631\",\"11897\",\"43.1\",\"0\",\"0\",\"158\",\"275\",\"11\",\"1\",\"1\",\"11\",\"\",\"11\",\"\",\"0\",\"3\",\"4\",\"7\",\"7\",\"10\",\"9\",\"11\",\"4\",\"14\",\"0\",\"0\",\"0\",\"4\",\"91.3\",\"28.6\",\"0\",\"0\",\"367828\",\"61364\",\"20900\",\"54912\",\"\",\"\",\"\",\"\",\"\",\"\",\"\",\"\",\"\",\"\",\"\",\"N\",\"\",\"\",\"\",\"\",\"\",\"\",\"\",\"\",\"\",\"\",\"\",\"\",\"\",\"\",\"N\",\"\",\"\",\"\",\"\",\"\",\"\"\n",
            "\"\",\"\",\"4000\",\"4000\",\"4000\",\" 36 months\",\" 23.40%\",\"155.68\",\"E\",\"E1\",\"Security\",\"3 years\",\"RENT\",\"90000\",\"Source Verified\",\"Dec-2018\",\"Current\",\"n\",\"\",\"\",\"debt_consolidation\",\"Debt consolidation\",\"070xx\",\"NJ\",\"26.33\",\"0\",\"Sep-2006\",\"4\",\"59\",\"\",\"15\",\"0\",\"5199\",\"19.2%\",\"20\",\"w\",\"3680.07\",\"3680.07\",\"614.92\",\"614.92\",\"319.93\",\"294.99\",\"0.0\",\"0.0\",\"0.0\",\"Apr-2019\",\"155.68\",\"May-2019\",\"Apr-2019\",\"0\",\"\",\"1\",\"Individual\",\"\",\"\",\"\",\"0\",\"0\",\"66926\",\"5\",\"4\",\"3\",\"4\",\"5\",\"61727\",\"86\",\"6\",\"11\",\"1353\",\"68\",\"27100\",\"4\",\"0\",\"4\",\"15\",\"4462\",\"20174\",\"7.9\",\"0\",\"0\",\"147\",\"118\",\"2\",\"2\",\"0\",\"2\",\"\",\"0\",\"\",\"0\",\"5\",\"7\",\"9\",\"9\",\"8\",\"11\",\"12\",\"7\",\"15\",\"0\",\"0\",\"0\",\"9\",\"95\",\"0\",\"0\",\"0\",\"98655\",\"66926\",\"21900\",\"71555\",\"\",\"\",\"\",\"\",\"\",\"\",\"\",\"\",\"\",\"\",\"\",\"N\",\"\",\"\",\"\",\"\",\"\",\"\",\"\",\"\",\"\",\"\",\"\",\"\",\"\",\"\",\"N\",\"\",\"\",\"\",\"\",\"\",\"\"\n",
            "\"\",\"\",\"5000\",\"5000\",\"5000\",\" 36 months\",\" 17.97%\",\"180.69\",\"D\",\"D1\",\"Administrative\",\"6 years\",\"MORTGAGE\",\"59280\",\"Source Verified\",\"Dec-2018\",\"Current\",\"n\",\"\",\"\",\"debt_consolidation\",\"Debt consolidation\",\"490xx\",\"MI\",\"10.51\",\"0\",\"Apr-2011\",\"0\",\"\",\"\",\"8\",\"0\",\"4599\",\"19.1%\",\"13\",\"w\",\"4567.57\",\"4567.57\",\"715.27\",\"715.27\",\"432.43\",\"282.84\",\"0.0\",\"0.0\",\"0.0\",\"Apr-2019\",\"180.69\",\"May-2019\",\"Apr-2019\",\"0\",\"\",\"1\",\"Individual\",\"\",\"\",\"\",\"0\",\"0\",\"110299\",\"0\",\"1\",\"0\",\"2\",\"14\",\"7150\",\"72\",\"0\",\"2\",\"0\",\"35\",\"24100\",\"1\",\"5\",\"0\",\"4\",\"18383\",\"13800\",\"0\",\"0\",\"0\",\"87\",\"92\",\"15\",\"14\",\"2\",\"77\",\"\",\"14\",\"\",\"0\",\"0\",\"3\",\"3\",\"3\",\"4\",\"6\",\"7\",\"3\",\"8\",\"0\",\"0\",\"0\",\"0\",\"100\",\"0\",\"0\",\"0\",\"136927\",\"11749\",\"13800\",\"10000\",\"\",\"\",\"\",\"\",\"\",\"\",\"\",\"\",\"\",\"\",\"\",\"N\",\"\",\"\",\"\",\"\",\"\",\"\",\"\",\"\",\"\",\"\",\"\",\"\",\"\",\"\",\"N\",\"\",\"\",\"\",\"\",\"\",\"\"\n",
            "\"\",\"\",\"9600\",\"9600\",\"9600\",\" 36 months\",\" 12.98%\",\"323.37\",\"B\",\"B5\",\"\",\"n/a\",\"MORTGAGE\",\"35704\",\"Not Verified\",\"Dec-2018\",\"Current\",\"n\",\"\",\"\",\"home_improvement\",\"Home improvement\",\"401xx\",\"KY\",\"0.84\",\"0\",\"Nov-2003\",\"0\",\"69\",\"\",\"5\",\"0\",\"748\",\"11.5%\",\"23\",\"w\",\"8934.25\",\"8934.25\",\"994.35\",\"994.35\",\"665.75\",\"328.60\",\"0.0\",\"0.0\",\"0.0\",\"Apr-2019\",\"323.37\",\"May-2019\",\"Apr-2019\",\"0\",\"\",\"1\",\"Individual\",\"\",\"\",\"\",\"0\",\"0\",\"748\",\"0\",\"0\",\"0\",\"0\",\"44\",\"0\",\"\",\"0\",\"3\",\"748\",\"12\",\"6500\",\"0\",\"0\",\"1\",\"3\",\"150\",\"3452\",\"17.8\",\"0\",\"0\",\"181\",\"100\",\"13\",\"13\",\"0\",\"16\",\"\",\"3\",\"\",\"0\",\"1\",\"1\",\"2\",\"2\",\"16\",\"5\",\"7\",\"1\",\"5\",\"0\",\"0\",\"0\",\"0\",\"95.5\",\"0\",\"0\",\"0\",\"6500\",\"748\",\"4200\",\"0\",\"\",\"\",\"\",\"\",\"\",\"\",\"\",\"\",\"\",\"\",\"\",\"N\",\"\",\"\",\"\",\"\",\"\",\"\",\"\",\"\",\"\",\"\",\"\",\"\",\"\",\"\",\"N\",\"\",\"\",\"\",\"\",\"\",\"\"\n",
            "\"\",\"\",\"2500\",\"2500\",\"2500\",\" 36 months\",\" 13.56%\",\"84.92\",\"C\",\"C1\",\"Chef\",\"10+ years\",\"RENT\",\"55000\",\"Not Verified\",\"Dec-2018\",\"Current\",\"n\",\"\",\"\",\"debt_consolidation\",\"Debt consolidation\",\"109xx\",\"NY\",\"18.24\",\"0\",\"Apr-2001\",\"1\",\"\",\"45\",\"9\",\"1\",\"4341\",\"10.3%\",\"34\",\"w\",\"2269.45\",\"2269.45\",\"336.86\",\"336.86\",\"230.55\",\"106.31\",\"0.0\",\"0.0\",\"0.0\",\"Apr-2019\",\"84.92\",\"May-2019\",\"Apr-2019\",\"0\",\"\",\"1\",\"Individual\",\"\",\"\",\"\",\"0\",\"0\",\"16901\",\"2\",\"2\",\"1\",\"2\",\"2\",\"12560\",\"69\",\"2\",\"7\",\"2137\",\"28\",\"42000\",\"1\",\"11\",\"2\",\"9\",\"1878\",\"34360\",\"5.9\",\"0\",\"0\",\"140\",\"212\",\"1\",\"1\",\"0\",\"1\",\"\",\"2\",\"\",\"0\",\"2\",\"5\",\"3\",\"3\",\"16\",\"7\",\"18\",\"5\",\"9\",\"0\",\"0\",\"0\",\"3\",\"100\",\"0\",\"1\",\"0\",\"60124\",\"16901\",\"36500\",\"18124\",\"\",\"\",\"\",\"\",\"\",\"\",\"\",\"\",\"\",\"\",\"\",\"N\",\"\",\"\",\"\",\"\",\"\",\"\",\"\",\"\",\"\",\"\",\"\",\"\",\"\",\"\",\"N\",\"\",\"\",\"\",\"\",\"\",\"\"\n",
            "\"\",\"\",\"30000\",\"30000\",\"30000\",\" 60 months\",\" 18.94%\",\"777.23\",\"D\",\"D2\",\"Postmaster \",\"10+ years\",\"MORTGAGE\",\"90000\",\"Source Verified\",\"Dec-2018\",\"Current\",\"n\",\"\",\"\",\"debt_consolidation\",\"Debt consolidation\",\"713xx\",\"LA\",\"26.52\",\"0\",\"Jun-1987\",\"0\",\"71\",\"75\",\"13\",\"1\",\"12315\",\"24.2%\",\"44\",\"w\",\"26250.75\",\"26250.75\",\"5561.57\",\"5561.57\",\"3749.25\",\"1812.32\",\"0.0\",\"0.0\",\"0.0\",\"Apr-2019\",\"777.23\",\"May-2019\",\"Apr-2019\",\"0\",\"\",\"1\",\"Individual\",\"\",\"\",\"\",\"0\",\"1208\",\"321915\",\"4\",\"4\",\"2\",\"3\",\"3\",\"87153\",\"88\",\"4\",\"5\",\"998\",\"57\",\"50800\",\"2\",\"15\",\"2\",\"10\",\"24763\",\"13761\",\"8.3\",\"0\",\"0\",\"163\",\"378\",\"4\",\"3\",\"3\",\"4\",\"\",\"4\",\"\",\"0\",\"2\",\"4\",\"4\",\"9\",\"27\",\"8\",\"14\",\"4\",\"13\",\"0\",\"0\",\"0\",\"6\",\"95\",\"0\",\"1\",\"0\",\"372872\",\"99468\",\"15000\",\"94072\",\"\",\"\",\"\",\"\",\"\",\"\",\"\",\"\",\"\",\"\",\"\",\"N\",\"\",\"\",\"\",\"\",\"\",\"\",\"\",\"\",\"\",\"\",\"\",\"\",\"\",\"\",\"N\",\"\",\"\",\"\",\"\",\"\",\"\"\n",
            "\"\",\"\",\"23000\",\"23000\",\"23000\",\" 60 months\",\" 20.89%\",\"620.81\",\"D\",\"D4\",\"Operator\",\"5 years\",\"RENT\",\"68107\",\"Source Verified\",\"Dec-2018\",\"Current\",\"n\",\"\",\"\",\"debt_consolidation\",\"Debt consolidation\",\"672xx\",\"KS\",\"0.52\",\"0\",\"Feb-1997\",\"0\",\"\",\"\",\"5\",\"0\",\"976\",\"13%\",\"10\",\"w\",\"22307.21\",\"22307.21\",\"1824.21\",\"1824.21\",\"692.79\",\"1131.42\",\"0.0\",\"0.0\",\"0.0\",\"Apr-2019\",\"620.81\",\"May-2019\",\"Apr-2019\",\"1\",\"\",\"1\",\"Individual\",\"\",\"\",\"\",\"0\",\"2693\",\"976\",\"0\",\"0\",\"0\",\"0\",\"36\",\"0\",\"\",\"3\",\"4\",\"0\",\"13\",\"7500\",\"2\",\"2\",\"4\",\"4\",\"195\",\"3300\",\"0\",\"0\",\"0\",\"237\",\"262\",\"10\",\"10\",\"0\",\"10\",\"\",\"9\",\"\",\"0\",\"0\",\"1\",\"3\",\"4\",\"3\",\"5\",\"7\",\"1\",\"5\",\"0\",\"0\",\"0\",\"3\",\"100\",\"0\",\"0\",\"0\",\"7500\",\"976\",\"3300\",\"0\",\"\",\"\",\"\",\"\",\"\",\"\",\"\",\"\",\"\",\"\",\"\",\"N\",\"\",\"\",\"\",\"\",\"\",\"\",\"\",\"\",\"\",\"\",\"\",\"\",\"\",\"\",\"N\",\"\",\"\",\"\",\"\",\"\",\"\"\n",
            "\"\",\"\",\"32075\",\"32075\",\"32075\",\" 60 months\",\" 11.80%\",\"710.26\",\"B\",\"B4\",\"Nursing Supervisor\",\"10+ years\",\"MORTGAGE\",\"150000\",\"Not Verified\",\"Dec-2018\",\"Current\",\"n\",\"\",\"\",\"credit_card\",\"Credit card refinancing\",\"231xx\",\"VA\",\"22.21\",\"0\",\"Aug-2005\",\"0\",\"\",\"\",\"17\",\"0\",\"19077\",\"32%\",\"24\",\"w\",\"30472.13\",\"30472.13\",\"2809.5\",\"2809.50\",\"1602.87\",\"1206.63\",\"0.0\",\"0.0\",\"0.0\",\"Apr-2019\",\"710.26\",\"May-2019\",\"Apr-2019\",\"0\",\"\",\"1\",\"Individual\",\"\",\"\",\"\",\"0\",\"0\",\"272667\",\"1\",\"4\",\"1\",\"1\",\"9\",\"37558\",\"47\",\"1\",\"1\",\"3910\",\"41\",\"59600\",\"1\",\"2\",\"0\",\"3\",\"16039\",\"10446\",\"47.8\",\"0\",\"0\",\"160\",\"70\",\"4\",\"4\",\"2\",\"27\",\"\",\"14\",\"\",\"0\",\"4\",\"10\",\"4\",\"4\",\"8\",\"12\",\"14\",\"10\",\"17\",\"0\",\"0\",\"0\",\"2\",\"100\",\"50\",\"0\",\"0\",\"360433\",\"56635\",\"20000\",\"80125\",\"\",\"\",\"\",\"\",\"\",\"\",\"\",\"\",\"\",\"\",\"\",\"N\",\"\",\"\",\"\",\"\",\"\",\"\",\"\",\"\",\"\",\"\",\"\",\"\",\"\",\"\",\"N\",\"\",\"\",\"\",\"\",\"\",\"\"\n"
          ],
          "name": "stdout"
        }
      ]
    },
    {
      "cell_type": "markdown",
      "metadata": {
        "colab_type": "text",
        "id": "3nAIRCZdofrY"
      },
      "source": [
        "## Load LendingClub data\n",
        "\n",
        "pandas documentation\n",
        "- [`read_csv`](https://pandas.pydata.org/pandas-docs/stable/generated/pandas.read_csv.html)\n",
        "- [`options.display`](https://pandas.pydata.org/pandas-docs/stable/options.html#available-options)"
      ]
    },
    {
      "cell_type": "code",
      "metadata": {
        "colab_type": "code",
        "id": "3-8Vn3y6ooBC",
        "colab": {}
      },
      "source": [
        "import pandas as pd\n"
      ],
      "execution_count": 0,
      "outputs": []
    },
    {
      "cell_type": "code",
      "metadata": {
        "id": "79OX8IQmT9BE",
        "colab_type": "code",
        "outputId": "62902e41-47eb-4db3-91d6-6c3b35e9e6a1",
        "colab": {
          "base_uri": "https://localhost:8080/",
          "height": 1159
        }
      },
      "source": [
        "df = pd.read_csv(filepath_or_buffer='LoanStats_2018Q4.csv')\n",
        "df.head"
      ],
      "execution_count": 145,
      "outputs": [
        {
          "output_type": "stream",
          "text": [
            "/usr/local/lib/python3.6/dist-packages/IPython/core/interactiveshell.py:2718: DtypeWarning: Columns (0,1,2,3,4,7,13,18,19,24,25,27,28,29,30,31,32,34,36,37,38,39,40,41,42,43,44,46,49,50,51,53,54,56,57,58,59,60,61,62,63,64,65,66,67,68,69,70,71,72,73,74,75,76,77,78,79,80,81,82,83,84,85,86,87,88,89,90,91,92,93,94,95,96,97,98,99,100,101,102,103,104,105,106,107,108,109,110,111,113,114,115,116,117,118,119,120,121,123,124,125,126,127,128,129,130,131,132,133,134,135,136,138,139,140,141,142,143) have mixed types. Specify dtype option on import or set low_memory=False.\n",
            "  interactivity=interactivity, compiler=compiler, result=result)\n"
          ],
          "name": "stderr"
        },
        {
          "output_type": "execute_result",
          "data": {
            "text/plain": [
              "<bound method NDFrame.head of                                                                                                                                                                                                                                                                                                                                                                                                                                                                                                                                                                                                                                                                                                                                                                                                                                                                                                                                                                                                                                                                                                                                                                                                                                                                                                                                                                                                                                                                                                                                                                                                                                                                                                                                                                                                                                                                                                                                                                                                                                                                                                                                                                                                                                                                                                                                                                                                                                                                                          Notes offered by Prospectus (https://www.lendingclub.com/info/prospectus.action)\n",
              "id                                               member_id loan_amnt funded_amnt funded_amnt_inv term       int_rate installment grade sub_grade emp_title                                emp_length home_ownership annual_inc verification_status issue_d  loan_status       pymnt_plan url desc purpose            title                   zip_code addr_state dti   delinq_2yrs earliest_cr_line inq_last_6mths mths_since_last_delinq mths_since_last_record open_acc pub_rec revol_bal revol_util total_acc initial_list_status out_prncp out_prncp_inv total_pymnt      total_pymnt_inv total_rec_prncp total_rec_int total_rec_late_fee recoveries collection_recovery_fee last_pymnt_d last_pymnt_amnt next_pymnt_d last_credit_pull_d collections_12_mths_ex_med mths_since_last_major_derog policy_code application_type annual_inc_joint dti_joint verification_status_joint acc_now_delinq tot_coll_amt tot_cur_bal open_acc_6m open_act_il open_il_12m open_il_24m mths_since_rcnt_il total_bal_il il_util open_rv_12m open_rv_24m max_bal_bc all_util total_rev_hi_lim inq_fi total_cu_tl inq_last_12m acc_open_past_24mths avg_cur_bal bc_open_to_buy bc_util chargeoff_within_12_mths delinq_amnt mo_sin_old_il_acct mo_sin_old_rev_tl_op mo_sin_rcnt_rev_tl_op mo_sin_rcnt_tl mort_acc mths_since_recent_bc mths_since_recent_bc_dlq mths_since_recent_inq mths_since_recent_revol_delinq num_accts_ever_120_pd num_actv_bc_tl num_actv_rev_tl num_bc_sats num_bc_tl num_il_tl num_op_rev_tl num_rev_accts num_rev_tl_bal_gt_0 num_sats num_tl_120dpd_2m num_tl_30dpd num_tl_90g_dpd_24m num_tl_op_past_12m pct_tl_nvr_dlq percent_bc_gt_75 pub_rec_bankruptcies tax_liens tot_hi_cred_lim total_bal_ex_mort total_bc_limit total_il_high_credit_limit revol_bal_joint sec_app_earliest_cr_line sec_app_inq_last_6mths sec_app_mort_acc sec_app_open_acc sec_app_revol_util sec_app_open_act_il sec_app_num_rev_accts sec_app_chargeoff_within_12_mths sec_app_collections_12_mths_ex_med sec_app_mths_since_last_major_derog hardship_flag hardship_type hardship_reason hardship_status deferral_term hardship_amount hardship_start_date hardship_end_date payment_plan_start_date hardship_length hardship_dpd hardship_loan_status orig_projected_additional_accrued_interest hardship_payoff_balance_amount hardship_last_payment_amount debt_settlement_flag debt_settlement_flag_date settlement_status settlement_date settlement_amount settlement_percentage                                    settlement_term                              \n",
              "NaN                                              NaN       10000     10000       10000            36 months  10.33%  324.23      B     B1        NaN                                      < 1 year   MORTGAGE       280000     Not Verified        Dec-2018 Current           n          NaN NaN  debt_consolidation Debt consolidation      974xx    OR         6.15  2           Jan-1996         0              18                     NaN                    14       0       9082      38%        23        w                   9035.04   9035.04       1288.31          1288.31         964.96          323.35        0.0                0.0        0.0                     Apr-2019     324.23          May-2019     Apr-2019           0                          NaN                         1           Individual       NaN              NaN       NaN                       0              671          246828      1           3           2           3           1                  48552        62      1           3           4923       46       23900            2      7           1            7                    17631       11897          43.1    0                        0           158                275                  11                    1              1        11                   NaN                      11                    NaN                            0                     3              4               7           7         10        9             11            4                   14       0                0            0                  4                  91.3           28.6             0                    0         367828          61364             20900          54912                      NaN             NaN                      NaN                    NaN              NaN              NaN                NaN                 NaN                   NaN                              NaN                                NaN                                 N             NaN           NaN             NaN             NaN           NaN             NaN                 NaN               NaN                     NaN             NaN          NaN                  NaN                                        NaN                            NaN                          N                    NaN                       NaN               NaN             NaN               NaN                                                                  NaN                              \n",
              "                                                           4000      4000        4000             36 months  23.40%  155.68      E     E1        Security                                 3 years    RENT           90000      Source Verified     Dec-2018 Current           n          NaN NaN  debt_consolidation Debt consolidation      070xx    NJ         26.33 0           Sep-2006         4              59                     NaN                    15       0       5199      19.2%      20        w                   3680.07   3680.07       614.92           614.92          319.93          294.99        0.0                0.0        0.0                     Apr-2019     155.68          May-2019     Apr-2019           0                          NaN                         1           Individual       NaN              NaN       NaN                       0              0            66926       5           4           3           4           5                  61727        86      6           11          1353       68       27100            4      0           4            15                   4462        20174          7.9     0                        0           147                118                  2                     2              0        2                    NaN                      0                     NaN                            0                     5              7               9           9         8         11            12            7                   15       0                0            0                  9                  95             0                0                    0         98655           66926             21900          71555                      NaN             NaN                      NaN                    NaN              NaN              NaN                NaN                 NaN                   NaN                              NaN                                NaN                                 N             NaN           NaN             NaN             NaN           NaN             NaN                 NaN               NaN                     NaN             NaN          NaN                  NaN                                        NaN                            NaN                          N                    NaN                       NaN               NaN             NaN               NaN                                                                  NaN                              \n",
              "                                                           5000      5000        5000             36 months  17.97%  180.69      D     D1        Administrative                           6 years    MORTGAGE       59280      Source Verified     Dec-2018 Current           n          NaN NaN  debt_consolidation Debt consolidation      490xx    MI         10.51 0           Apr-2011         0              NaN                    NaN                    8        0       4599      19.1%      13        w                   4567.57   4567.57       715.27           715.27          432.43          282.84        0.0                0.0        0.0                     Apr-2019     180.69          May-2019     Apr-2019           0                          NaN                         1           Individual       NaN              NaN       NaN                       0              0            110299      0           1           0           2           14                 7150         72      0           2           0          35       24100            1      5           0            4                    18383       13800          0       0                        0           87                 92                   15                    14             2        77                   NaN                      14                    NaN                            0                     0              3               3           3         4         6             7             3                   8        0                0            0                  0                  100            0                0                    0         136927          11749             13800          10000                      NaN             NaN                      NaN                    NaN              NaN              NaN                NaN                 NaN                   NaN                              NaN                                NaN                                 N             NaN           NaN             NaN             NaN           NaN             NaN                 NaN               NaN                     NaN             NaN          NaN                  NaN                                        NaN                            NaN                          N                    NaN                       NaN               NaN             NaN               NaN                                                                  NaN                              \n",
              "                                                           9600      9600        9600             36 months  12.98%  323.37      B     B5        NaN                                      NaN        MORTGAGE       35704      Not Verified        Dec-2018 Current           n          NaN NaN  home_improvement   Home improvement        401xx    KY         0.84  0           Nov-2003         0              69                     NaN                    5        0       748       11.5%      23        w                   8934.25   8934.25       994.35           994.35          665.75          328.60        0.0                0.0        0.0                     Apr-2019     323.37          May-2019     Apr-2019           0                          NaN                         1           Individual       NaN              NaN       NaN                       0              0            748         0           0           0           0           44                 0            NaN     0           3           748        12       6500             0      0           1            3                    150         3452           17.8    0                        0           181                100                  13                    13             0        16                   NaN                      3                     NaN                            0                     1              1               2           2         16        5             7             1                   5        0                0            0                  0                  95.5           0                0                    0         6500            748               4200           0                          NaN             NaN                      NaN                    NaN              NaN              NaN                NaN                 NaN                   NaN                              NaN                                NaN                                 N             NaN           NaN             NaN             NaN           NaN             NaN                 NaN               NaN                     NaN             NaN          NaN                  NaN                                        NaN                            NaN                          N                    NaN                       NaN               NaN             NaN               NaN                                                                  NaN                              \n",
              "                                                           2500      2500        2500             36 months  13.56%  84.92       C     C1        Chef                                     10+ years  RENT           55000      Not Verified        Dec-2018 Current           n          NaN NaN  debt_consolidation Debt consolidation      109xx    NY         18.24 0           Apr-2001         1              NaN                    45                     9        1       4341      10.3%      34        w                   2269.45   2269.45       336.86           336.86          230.55          106.31        0.0                0.0        0.0                     Apr-2019     84.92           May-2019     Apr-2019           0                          NaN                         1           Individual       NaN              NaN       NaN                       0              0            16901       2           2           1           2           2                  12560        69      2           7           2137       28       42000            1      11          2            9                    1878        34360          5.9     0                        0           140                212                  1                     1              0        1                    NaN                      2                     NaN                            0                     2              5               3           3         16        7             18            5                   9        0                0            0                  3                  100            0                1                    0         60124           16901             36500          18124                      NaN             NaN                      NaN                    NaN              NaN              NaN                NaN                 NaN                   NaN                              NaN                                NaN                                 N             NaN           NaN             NaN             NaN           NaN             NaN                 NaN               NaN                     NaN             NaN          NaN                  NaN                                        NaN                            NaN                          N                    NaN                       NaN               NaN             NaN               NaN                                                                  NaN                              \n",
              "                                                           30000     30000       30000            60 months  18.94%  777.23      D     D2        Postmaster                               10+ years  MORTGAGE       90000      Source Verified     Dec-2018 Current           n          NaN NaN  debt_consolidation Debt consolidation      713xx    LA         26.52 0           Jun-1987         0              71                     75                     13       1       12315     24.2%      44        w                   26250.75  26250.75      5561.57          5561.57         3749.25         1812.32       0.0                0.0        0.0                     Apr-2019     777.23          May-2019     Apr-2019           0                          NaN                         1           Individual       NaN              NaN       NaN                       0              1208         321915      4           4           2           3           3                  87153        88      4           5           998        57       50800            2      15          2            10                   24763       13761          8.3     0                        0           163                378                  4                     3              3        4                    NaN                      4                     NaN                            0                     2              4               4           9         27        8             14            4                   13       0                0            0                  6                  95             0                1                    0         372872          99468             15000          94072                      NaN             NaN                      NaN                    NaN              NaN              NaN                NaN                 NaN                   NaN                              NaN                                NaN                                 N             NaN           NaN             NaN             NaN           NaN             NaN                 NaN               NaN                     NaN             NaN          NaN                  NaN                                        NaN                            NaN                          N                    NaN                       NaN               NaN             NaN               NaN                                                                  NaN                              \n",
              "                                                           23000     23000       23000            60 months  20.89%  620.81      D     D4        Operator                                 5 years    RENT           68107      Source Verified     Dec-2018 Current           n          NaN NaN  debt_consolidation Debt consolidation      672xx    KS         0.52  0           Feb-1997         0              NaN                    NaN                    5        0       976       13%        10        w                   22307.21  22307.21      1824.21          1824.21         692.79          1131.42       0.0                0.0        0.0                     Apr-2019     620.81          May-2019     Apr-2019           1                          NaN                         1           Individual       NaN              NaN       NaN                       0              2693         976         0           0           0           0           36                 0            NaN     3           4           0          13       7500             2      2           4            4                    195         3300           0       0                        0           237                262                  10                    10             0        10                   NaN                      9                     NaN                            0                     0              1               3           4         3         5             7             1                   5        0                0            0                  3                  100            0                0                    0         7500            976               3300           0                          NaN             NaN                      NaN                    NaN              NaN              NaN                NaN                 NaN                   NaN                              NaN                                NaN                                 N             NaN           NaN             NaN             NaN           NaN             NaN                 NaN               NaN                     NaN             NaN          NaN                  NaN                                        NaN                            NaN                          N                    NaN                       NaN               NaN             NaN               NaN                                                                  NaN                              \n",
              "                                                           32075     32075       32075            60 months  11.80%  710.26      B     B4        Nursing Supervisor                       10+ years  MORTGAGE       150000     Not Verified        Dec-2018 Current           n          NaN NaN  credit_card        Credit card refinancing 231xx    VA         22.21 0           Aug-2005         0              NaN                    NaN                    17       0       19077     32%        24        w                   30472.13  30472.13      2809.5           2809.50         1602.87         1206.63       0.0                0.0        0.0                     Apr-2019     710.26          May-2019     Apr-2019           0                          NaN                         1           Individual       NaN              NaN       NaN                       0              0            272667      1           4           1           1           9                  37558        47      1           1           3910       41       59600            1      2           0            3                    16039       10446          47.8    0                        0           160                70                   4                     4              2        27                   NaN                      14                    NaN                            0                     4              10              4           4         8         12            14            10                  17       0                0            0                  2                  100            50               0                    0         360433          56635             20000          80125                      NaN             NaN                      NaN                    NaN              NaN              NaN                NaN                 NaN                   NaN                              NaN                                NaN                                 N             NaN           NaN             NaN             NaN           NaN             NaN                 NaN               NaN                     NaN             NaN          NaN                  NaN                                        NaN                            NaN                          N                    NaN                       NaN               NaN             NaN               NaN                                                                  NaN                              \n",
              "                                                           8000      8000        8000             36 months  23.40%  311.35      E     E1        Manager                                  10+ years  OWN            43000      Source Verified     Dec-2018 Current           n          NaN NaN  debt_consolidation Debt consolidation      357xx    AL         33.24 0           Jan-1995         0              NaN                    107                    8        1       9019      81.3%      16        w                   7360.19   7360.19       1229.8           1229.80         639.81          589.99        0.0                0.0        0.0                     Apr-2019     311.35          May-2019     Apr-2019           0                          NaN                         1           Individual       NaN              NaN       NaN                       0              0            169223      0           3           2           2           7                  22059        69      0           0           2174       72       11100            1      1           1            2                    21153       126            94.5    0                        0           148                287                  44                    7              1        51                   NaN                      7                     NaN                            0                     1              4               1           2         8         4             7             4                   8        0                0            0                  2                  100            100              1                    0         199744          31078             2300           32206                      NaN             NaN                      NaN                    NaN              NaN              NaN                NaN                 NaN                   NaN                              NaN                                NaN                                 N             NaN           NaN             NaN             NaN           NaN             NaN                 NaN               NaN                     NaN             NaN          NaN                  NaN                                        NaN                            NaN                          N                    NaN                       NaN               NaN             NaN               NaN                                                                  NaN                              \n",
              "                                                           10000     10000       10000            60 months  19.92%  264.5       D     D3        Material Handler                         10+ years  MORTGAGE       80000      Not Verified        Dec-2018 Current           n          NaN NaN  debt_consolidation Debt consolidation      648xx    MO         20.67 0           Apr-2005         0              37                     NaN                    11       0       13198     73.7%      19        w                   9596.08   9596.08       1041.4           1041.40         403.92          637.48        0.0                0.0        0.0                     Apr-2019     264.5           May-2019     Apr-2019           0                          37                          1           Individual       NaN              NaN       NaN                       0              116          110120      0           2           0           1           15                 24408        70      1           1           6521       72       17900            0      0           1            2                    10011       779            90.3    0                        0           148                164                  11                    11             1        149                  37                       11                    37                             0                     2              8               2           4         6         8             12            8                   11       0                0            0                  1                  84.2           50               0                    0         170230          37606             8000           55030                      NaN             NaN                      NaN                    NaN              NaN              NaN                NaN                 NaN                   NaN                              NaN                                NaN                                 N             NaN           NaN             NaN             NaN           NaN             NaN                 NaN               NaN                     NaN             NaN          NaN                  NaN                                        NaN                            NaN                          N                    NaN                       NaN               NaN             NaN               NaN                                                                  NaN                              \n",
              "                                                           12000     12000       12000            60 months  13.56%  276.49      C     C1        NaN                                      < 1 year   MORTGAGE       40000      Not Verified        Dec-2018 Current           n          NaN NaN  debt_consolidation Debt consolidation      180xx    PA         19.23 0           Aug-2005         2              NaN                    NaN                    8        0       23195     55.5%      9         w                   11426.82  11426.82      1092.4           1092.40         573.18          519.22        0.0                0.0        0.0                     Apr-2019     276.49          May-2019     Apr-2019           0                          NaN                         1           Individual       NaN              NaN       NaN                       0              0            32462       1           1           1           1           4                  9267         103     2           2           9747       64       41800            1      0           3            3                    4058        16601          54.9    0                        0           4                  149                  9                     4              1        10                   NaN                      4                     NaN                            0                     5              6               5           5         1         7             7             6                   8        0                0            0                  3                  100            60               0                    0         50800           32462             36800          9000                       NaN             NaN                      NaN                    NaN              NaN              NaN                NaN                 NaN                   NaN                              NaN                                NaN                                 N             NaN           NaN             NaN             NaN           NaN             NaN                 NaN               NaN                     NaN             NaN          NaN                  NaN                                        NaN                            NaN                          N                    NaN                       NaN               NaN             NaN               NaN                                                                  NaN                              \n",
              "                                                           16000     16000       16000            60 months  17.97%  406.04      D     D1        Instructional Coordinator                5 years    MORTGAGE       51000      Not Verified        Dec-2018 Current           n          NaN NaN  debt_consolidation Debt consolidation      284xx    NC         21.91 0           Oct-2005         1              52                     NaN                    11       0       7326      24.8%      27        w                   15319.14  15319.14      1600.2           1600.20         680.86          919.34        0.0                0.0        0.0                     Apr-2019     406.04          May-2019     Apr-2019           0                          52                          1           Individual       NaN              NaN       NaN                       0              0            39339       3           8           2           2           2                  32013        83      1           1           3881       58       29500            0      0           1            3                    3576        22174          24.8    0                        0           123                158                  6                     2              0        6                    52                       4                     52                             6                     2              2               3           6         21        3             6             2                   11       0                0            0                  3                  77.8           0                0                    0         67924           39339             29500          38424                      NaN             NaN                      NaN                    NaN              NaN              NaN                NaN                 NaN                   NaN                              NaN                                NaN                                 N             NaN           NaN             NaN             NaN           NaN             NaN                 NaN               NaN                     NaN             NaN          NaN                  NaN                                        NaN                            NaN                          N                    NaN                       NaN               NaN             NaN               NaN                                                                  NaN                              \n",
              "                                                           15000     15000       14975            60 months  14.47%  352.69      C     C2        NaN                                      NaN        MORTGAGE       30000      Source Verified     Dec-2018 Current           n          NaN NaN  debt_consolidation Debt consolidation      756xx    TX         41.6  0           Oct-1999         0              NaN                    NaN                    20       0       20049     37.2%      30        f                   14300.49  14276.66      1392.67          1390.35         699.51          693.16        0.0                0.0        0.0                     Apr-2019     352.69          May-2019     Apr-2019           0                          NaN                         1           Joint App        55000            34.95     Source Verified           0              0            65496       1           1           0           1           16                 4458         31      1           1           3616       36       53900            0      2           0            2                    3275        2545           74.3    0                        0           149                230                  6                     6              1        31                   NaN                      NaN                   NaN                            0                     4              13              4           5         8         18            21            13                  20       0                0            0                  1                  100            50               0                    0         118790          24507             9900           14490                      29704           Oct-1999                 0                      0                16               48.8               0                   15                    0                                0                                  NaN                                 N             NaN           NaN             NaN             NaN           NaN             NaN                 NaN               NaN                     NaN             NaN          NaN                  NaN                                        NaN                            NaN                          N                    NaN                       NaN               NaN             NaN               NaN                                                                  NaN                              \n",
              "                                                           16000     16000       16000            60 months  26.31%  481.99      E     E4        Financial Relationship Associate         < 1 year   RENT           33000      Source Verified     Dec-2018 Current           n          NaN NaN  credit_card        Credit card refinancing 290xx    SC         33.62 0           Sep-2010         1              NaN                    NaN                    17       0       22872     65.5%      22        w                   15457.73  15457.73      1892.88          1892.88         542.27          1350.61       0.0                0.0        0.0                     Apr-2019     481.99          May-2019     Apr-2019           0                          NaN                         1           Individual       NaN              NaN       NaN                       0              0            29869       1           1           0           1           24                 6997         65      1           1           2703       65       34900            0      3           1            2                    1757        4596           66.9    0                        0           29                 99                   2                     2              0        2                    NaN                      3                     NaN                            0                     6              11              9           13        2         16            20            11                  17       0                0            0                  1                  100            55.6             0                    0         45709           29869             13900          10809                      NaN             NaN                      NaN                    NaN              NaN              NaN                NaN                 NaN                   NaN                              NaN                                NaN                                 N             NaN           NaN             NaN             NaN           NaN             NaN                 NaN               NaN                     NaN             NaN          NaN                  NaN                                        NaN                            NaN                          N                    NaN                       NaN               NaN             NaN               NaN                                                                  NaN                              \n",
              "                                                           13000     13000       13000            36 months  23.40%  505.95      E     E1        Sale Representative                      2 years    MORTGAGE       90000      Verified            Dec-2018 Current           n          NaN NaN  other              Other                   191xx    PA         39.73 0           May-2007         0              NaN                    NaN                    14       0       52013     83.1%      20        w                   11960.28  11960.28      1998.45          1998.45         1039.72         958.73        0.0                0.0        0.0                     Apr-2019     505.95          May-2019     Apr-2019           0                          NaN                         1           Individual       NaN              NaN       NaN                       0              0            87876       1           7           1           3           1                  35863        48      0           1           18037      64       62600            2      0           1            4                    6277        9503           83.8    0                        0           131                139                  16                    1              0        16                   NaN                      10                    NaN                            0                     6              7               6           7         11        7             9             7                   14       0                0            0                  1                  100            66.7             0                    0         137276          87876             58600          74676                      NaN             NaN                      NaN                    NaN              NaN              NaN                NaN                 NaN                   NaN                              NaN                                NaN                                 N             NaN           NaN             NaN             NaN           NaN             NaN                 NaN               NaN                     NaN             NaN          NaN                  NaN                                        NaN                            NaN                          N                    NaN                       NaN               NaN             NaN               NaN                                                                  NaN                              \n",
              "                                                           9600      9600        9600             36 months  23.40%  373.62      E     E1        driver coordinator                       9 years    RENT           65000      Not Verified        Dec-2018 Current           n          NaN NaN  credit_card        Credit card refinancing 265xx    WV         23.01 1           Sep-2003         0              16                     NaN                    12       0       10678     37.5%      20        f                   8832.22   8832.22       1475.76          1475.76         767.78          707.98        0.0                0.0        0.0                     Apr-2019     373.62          May-2019     Apr-2019           0                          NaN                         1           Individual       NaN              NaN       NaN                       0              66           24165       0           2           0           0           43                 13487        33      1           1           2264       35       28500            0      0           0            1                    2014        232            96.9    0                        0           183                92                   12                    12             0        27                   NaN                      15                    30                             0                     7              9               7           8         8         10            12            9                   12       0                0            0                  1                  90             85.7             0                    0         68902           24165             7600           40402                      NaN             NaN                      NaN                    NaN              NaN              NaN                NaN                 NaN                   NaN                              NaN                                NaN                                 N             NaN           NaN             NaN             NaN           NaN             NaN                 NaN               NaN                     NaN             NaN          NaN                  NaN                                        NaN                            NaN                          N                    NaN                       NaN               NaN             NaN               NaN                                                                  NaN                              \n",
              "                                                           3500      3500        3500             36 months  20.89%  131.67      D     D4        gas attendant                            10+ years  MORTGAGE       40000      Source Verified     Dec-2018 Current           n          NaN NaN  car                Car financing           078xx    NJ         9.09  0           Oct-2004         1              24                     NaN                    4        0       1944      33.5%      18        w                   3209.56   3209.56       520.59           520.59          290.44          230.15        0.0                0.0        0.0                     Apr-2019     131.67          May-2019     Apr-2019           0                          48                          1           Joint App        59500            10.59     Source Verified           0              0            189794      1           1           1           1           7                  24958        100     2           2           1317       87       5800             1      0           3            3                    47449       3683           26.3    0                        0           150                170                  1                     1              4        8                    48                       1                     48                             2                     1              2               1           8         3         2             11            2                   4        0                0            0                  3                  38.9           0                0                    0         217000          26902             5000           25000                      6902            May-2003                 0                      3                6                47.9               0                   21                    0                                0                                  46                                  N             NaN           NaN             NaN             NaN           NaN             NaN                 NaN               NaN                     NaN             NaN          NaN                  NaN                                        NaN                            NaN                          N                    NaN                       NaN               NaN             NaN               NaN                                                                  NaN                              \n",
              "                                                           12000     12000       12000            60 months  14.47%  282.16      C     C2        Assistant Athletic Director of Marketing 1 year     RENT           67000      Not Verified        Dec-2018 Current           n          NaN NaN  credit_card        Credit card refinancing 231xx    VA         28.39 0           Aug-2009         1              NaN                    NaN                    9        0       10018     50.9%      34        w                   11582.62  11582.62      841.66           841.66          417.38          424.28        0.0                0.0        0.0                     Apr-2019     282.16          May-2019     Apr-2019           0                          NaN                         1           Individual       NaN              NaN       NaN                       0              0            184578      1           4           2           3           5                  174560       97      0           1           4615       87       19700            1      1           2            4                    20509       9682           50.9    0                        0           112                80                   23                    5              0        23                   NaN                      5                     NaN                            0                     3              3               5           5         26        5             8             3                   9        0                0            0                  2                  100            0                0                    0         183897          184578            19700          164197                     NaN             NaN                      NaN                    NaN              NaN              NaN                NaN                 NaN                   NaN                              NaN                                NaN                                 N             NaN           NaN             NaN             NaN           NaN             NaN                 NaN               NaN                     NaN             NaN          NaN                  NaN                                        NaN                            NaN                          N                    NaN                       NaN               NaN             NaN               NaN                                                                  NaN                              \n",
              "                                                           35000     35000       35000            60 months  15.02%  833.02      C     C3        Sr Sales Manager                         10+ years  MORTGAGE       290000     Source Verified     Dec-2018 Current           n          NaN NaN  debt_consolidation Debt consolidation      656xx    MO         7.6   0           Dec-2004         0              29                     NaN                    15       0       29416     93.7%      33        w                   33390.35  33390.35      3288.27          3288.27         1609.65         1678.62       0.0                0.0        0.0                     Apr-2019     833.02          May-2019     Apr-2019           1                          42                          1           Individual       NaN              NaN       NaN                       0              149          479986      1           8           0           2           17                 58023        58      0           1           12297      75       31400            0      0           2            4                    31999       1038           95.2    0                        0           168                167                  22                    6              3        22                   42                       8                     29                             0                     3              4               3           8         17        6             13            4                   15       0                0            0                  1                  87.9           100              0                    0         513173          87439             21600          82773                      NaN             NaN                      NaN                    NaN              NaN              NaN                NaN                 NaN                   NaN                              NaN                                NaN                                 N             NaN           NaN             NaN             NaN           NaN             NaN                 NaN               NaN                     NaN             NaN          NaN                  NaN                                        NaN                            NaN                          N                    NaN                       NaN               NaN             NaN               NaN                                                                  NaN                              \n",
              "                                                           30000     30000       30000            60 months  26.31%  903.73      E     E4        Casino Host                              10+ years  OWN            62000      Source Verified     Dec-2018 Current           n          NaN NaN  debt_consolidation Debt consolidation      920xx    CA         37.24 0           Oct-2007         0              NaN                    86                     15       1       18890     39.8%      36        w                   29245.76  29245.76      2645.41          2645.41         754.24          1891.17       0.0                0.0        0.0                     Apr-2019     903.73          May-2019     Apr-2019           0                          NaN                         1           Individual       NaN              NaN       NaN                       0              0            104590      1           2           1           2           6                  85700        86      0           3           5976       49       47500            4      0           8            5                    6973        17510          51.9    0                        0           134                104                  13                    6              0        13                   NaN                      6                     NaN                            0                     5              5               7           7         20        13            16            5                   15       0                0            0                  1                  100            14.3             1                    0         138354          104590            36400          90854                      NaN             NaN                      NaN                    NaN              NaN              NaN                NaN                 NaN                   NaN                              NaN                                NaN                                 N             NaN           NaN             NaN             NaN           NaN             NaN                 NaN               NaN                     NaN             NaN          NaN                  NaN                                        NaN                            NaN                          N                    NaN                       NaN               NaN             NaN               NaN                                                                  NaN                              \n",
              "                                                           24000     24000       24000            36 months  15.02%  832.21      C     C3        MAINTENANCE PLANNER                      3 years    OWN            105000     Not Verified        Dec-2018 Current           n          NaN NaN  credit_card        Credit card refinancing 711xx    LA         22.14 0           Dec-2004         0              NaN                    NaN                    11       0       26552     61.2%      49        w                   21832.49  21832.49      3298.8           3298.80         2167.51         1131.29       0.0                0.0        0.0                     Apr-2019     832.21          May-2019     Apr-2019           0                          NaN                         1           Individual       NaN              NaN       NaN                       0              0            350585      2           2           5           9           5                  66595        92      2           4           6618       71       43400            3      4           4            13                   31871       7774           65.4    0                        0           90                 168                  1                     1              1        16                   NaN                      8                     NaN                            0                     4              7               4           14        29        8             19            7                   11       0                0            0                  7                  100            50               0                    0         391084          93147             22500          73252                      NaN             NaN                      NaN                    NaN              NaN              NaN                NaN                 NaN                   NaN                              NaN                                NaN                                 N             NaN           NaN             NaN             NaN           NaN             NaN                 NaN               NaN                     NaN             NaN          NaN                  NaN                                        NaN                            NaN                          N                    NaN                       NaN               NaN             NaN               NaN                                                                  NaN                              \n",
              "                                                           16000     16000       16000            36 months  14.47%  550.51      C     C2        Carpenter                                10+ years  RENT           150000     Source Verified     Dec-2018 Current           n          NaN NaN  other              Other                   917xx    CA         17.94 0           Nov-2001         1              NaN                    NaN                    24       0       43721     59.2%      29        w                   14543.61  14543.61      2182.75          2182.75         1456.39         726.36        0.0                0.0        0.0                     Apr-2019     550.51          May-2019     Apr-2019           0                          NaN                         1           Individual       NaN              NaN       NaN                       0              0            57465       0           2           0           0           36                 13744        8       0           8           7445       56       73800            0      0           3            8                    2498        4117           87.2    0                        0           159                205                  13                    13             0        13                   NaN                      2                     NaN                            0                     7              19              7           7         4         22            25            19                  24       0                0            0                  0                  100            85.7             0                    0         116647          57465             32100          42847                      NaN             NaN                      NaN                    NaN              NaN              NaN                NaN                 NaN                   NaN                              NaN                                NaN                                 N             NaN           NaN             NaN             NaN           NaN             NaN                 NaN               NaN                     NaN             NaN          NaN                  NaN                                        NaN                            NaN                          N                    NaN                       NaN               NaN             NaN               NaN                                                                  NaN                              \n",
              "                                                           14000     14000       14000            36 months  16.14%  493.17      C     C4        NaN                                      NaN        MORTGAGE       77479      Not Verified        Dec-2018 Current           n          NaN NaN  other              Other                   315xx    GA         23.65 0           Mar-2005         0              38                     NaN                    6        0       8147      101.8%     21        w                   12755.70  12755.70      1953.85          1953.85         1244.30         709.55        0.0                0.0        0.0                     Apr-2019     493.17          May-2019     Apr-2019           0                          NaN                         1           Individual       NaN              NaN       NaN                       0              0            160981      0           4           1           4           12                 48653        69      0           1           8147       75       8000             2      2           2            5                    26830       0              101.8   0                        0           155                165                  16                    12             2        16                   38                       11                    38                             0                     1              1               1           3         14        1             5             1                   6        0                0            0                  1                  90.5           100              0                    0         197087          56800             8000           80287                      NaN             NaN                      NaN                    NaN              NaN              NaN                NaN                 NaN                   NaN                              NaN                                NaN                                 N             NaN           NaN             NaN             NaN           NaN             NaN                 NaN               NaN                     NaN             NaN          NaN                  NaN                                        NaN                            NaN                          N                    NaN                       NaN               NaN             NaN               NaN                                                                  NaN                              \n",
              "                                                           28000     28000       28000            36 months  11.31%  920.81      B     B3        Executive Administrative Assistant       5 years    RENT           82000      Verified            Dec-2018 Current           n          NaN NaN  credit_card        Credit card refinancing 921xx    CA         14.4  0           Dec-2009         0              NaN                    NaN                    15       0       27713     43.9%      26        w                   26010.64  26010.64      2736.04          2736.04         1989.36         746.68        0.0                0.0        0.0                     Apr-2019     920.81          May-2019     Apr-2019           0                          NaN                         1           Individual       NaN              NaN       NaN                       0              0            85157       0           1           1           3           7                  57444        52      1           2           6392       45       63100            0      2           0            5                    5677        28865          46.1    0                        0           67                 108                  8                     7              0        8                    NaN                      NaN                   NaN                            0                     10             11              11          11        6         13            20            12                  15       0                0            0                  2                  100            27.3             0                    0         123978          85157             53600          60878                      NaN             NaN                      NaN                    NaN              NaN              NaN                NaN                 NaN                   NaN                              NaN                                NaN                                 N             NaN           NaN             NaN             NaN           NaN             NaN                 NaN               NaN                     NaN             NaN          NaN                  NaN                                        NaN                            NaN                          N                    NaN                       NaN               NaN             NaN               NaN                                                                  NaN                              \n",
              "                                                           24000     24000       24000            60 months  27.27%  736.73      E     E5        Firefighter/captain                      10+ years  MORTGAGE       140000     Not Verified        Dec-2018 Current           n          NaN NaN  debt_consolidation Debt consolidation      977xx    OR         23.92 0           Feb-1999         0              74                     NaN                    17       0       12382     63.5%      39        w                   23208.19  23208.19      2892.38          2892.38         791.81          2100.57       0.0                0.0        0.0                     Apr-2019     736.73          May-2019     Apr-2019           0                          NaN                         1           Joint App        165000           23.32     Not Verified              0              0            473236      1           6           2           7           3                  112256       70      1           3           2792       69       19500            4      14          8            13                   27837       8              99.7    0                        0           238                149                  12                    3              4        24                   NaN                      7                     NaN                            0                     1              7               1           3         19        8             16            7                   17       0                0            0                  3                  97.4           100              0                    0         544316          124638            2800           156323                     47875           Mar-2005                 0                      4                13               78.8               2                   8                     0                                0                                  NaN                                 N             NaN           NaN             NaN             NaN           NaN             NaN                 NaN               NaN                     NaN             NaN          NaN                  NaN                                        NaN                            NaN                          N                    NaN                       NaN               NaN             NaN               NaN                                                                  NaN                              \n",
              "                                                           40000     40000       40000            60 months  11.31%  875.9       B     B3        NaN                                      < 1 year   MORTGAGE       136000     Not Verified        Dec-2018 Current           n          NaN NaN  debt_consolidation Debt consolidation      480xx    MI         15.41 0           Apr-2006         0              72                     NaN                    12       0       34283     81%        22        w                   37976.01  37976.01      3465.9           3465.90         2023.99         1441.91       0.0                0.0        0.0                     Apr-2019     875.9           May-2019     Apr-2019           0                          NaN                         1           Individual       NaN              NaN       NaN                       0              0            149597      1           2           0           1           14                 27860        66      2           2           9618       73       42300            0      0           0            3                    12466       2589           89.6    0                        0           123                132                  1                     1              3        40                   NaN                      15                    NaN                            0                     3              8               4           8         5         9             14            8                   12       0                0            0                  2                  86.4           75               0                    0         179159          62143             25000          42409                      NaN             NaN                      NaN                    NaN              NaN              NaN                NaN                 NaN                   NaN                              NaN                                NaN                                 N             NaN           NaN             NaN             NaN           NaN             NaN                 NaN               NaN                     NaN             NaN          NaN                  NaN                                        NaN                            NaN                          N                    NaN                       NaN               NaN             NaN               NaN                                                                  NaN                              \n",
              "                                                           7075      7075        7075             36 months  23.40%  275.35      E     E1        NaN                                      NaN        RENT           19200      Not Verified        Dec-2018 Current           n          NaN NaN  debt_consolidation Debt consolidation      633xx    MO         30.34 0           Apr-2005         0              65                     NaN                    9        0       7098      71%        13        w                   6509.17   6509.17       1087.6           1087.60         565.83          521.77        0.0                0.0        0.0                     Apr-2019     275.35          May-2019     Apr-2019           0                          NaN                         1           Individual       NaN              NaN       NaN                       0              0            11000       0           1           0           0           53                 3902         34      1           3           2179       51       10000            0      0           1            3                    1375        470            88.3    0                        0           147                164                  9                     9              0        26                   NaN                      9                     65                             0                     3              7               3           3         2         7             10            7                   9        0                0            0                  1                  92.3           66.7             0                    0         21492           11000             4000           11492                      NaN             NaN                      NaN                    NaN              NaN              NaN                NaN                 NaN                   NaN                              NaN                                NaN                                 N             NaN           NaN             NaN             NaN           NaN             NaN                 NaN               NaN                     NaN             NaN          NaN                  NaN                                        NaN                            NaN                          N                    NaN                       NaN               NaN             NaN               NaN                                                                  NaN                              \n",
              "                                                           8000      8000        8000             36 months  10.33%  259.38      B     B1        Optician                                 6 years    MORTGAGE       38000      Source Verified     Dec-2018 Current           n          NaN NaN  credit_card        Credit card refinancing 159xx    PA         19.84 0           Feb-2003         1              49                     NaN                    14       0       9394      37.6%      25        w                   7228.05   7228.05       1030.63          1030.63         771.95          258.68        0.0                0.0        0.0                     Apr-2019     259.38          May-2019     Apr-2019           0                          52                          1           Individual       NaN              NaN       NaN                       0              0            83139       4           1           2           2           5                  22240        95      4           5           6410       65       25000            2      0           8            8                    5939        6188           57.6    0                        0           167                133                  1                     1              3        2                    NaN                      1                     NaN                            1                     4              8               4           6         6         12            16            8                   14       0                0            0                  7                  95.7           25               0                    0         100250          31634             14600          23358                      NaN             NaN                      NaN                    NaN              NaN              NaN                NaN                 NaN                   NaN                              NaN                                NaN                                 N             NaN           NaN             NaN             NaN           NaN             NaN                 NaN               NaN                     NaN             NaN          NaN                  NaN                                        NaN                            NaN                          N                    NaN                       NaN               NaN             NaN               NaN                                                                  NaN                              \n",
              "                                                           4000      4000        4000             36 months  18.94%  146.51      D     D2        NaN                                      NaN        RENT           19000      Not Verified        Dec-2018 Current           n          NaN NaN  major_purchase     Major purchase          936xx    CA         21.29 0           Jan-2011         0              NaN                    118                    7        1       2736      31.1%      9         w                   3745.89   3745.89       437.35           437.35          254.11          183.24        0.0                0.0        0.0                     Apr-2019     146.51          May-2019     Apr-2019           0                          NaN                         1           Individual       NaN              NaN       NaN                       0              0            9024        0           2           1           2           8                  6288         75      0           2           1646       53       8800             1      1           1            4                    1289        631            79      0                        0           95                 68                   20                    8              0        36                   NaN                      8                     NaN                            0                     2              3               2           2         3         5             6             3                   7        0                0            0                  1                  100            50               1                    0         17189           9024              3000           8389                       NaN             NaN                      NaN                    NaN              NaN              NaN                NaN                 NaN                   NaN                              NaN                                NaN                                 N             NaN           NaN             NaN             NaN           NaN             NaN                 NaN               NaN                     NaN             NaN          NaN                  NaN                                        NaN                            NaN                          N                    NaN                       NaN               NaN             NaN               NaN                                                                  NaN                              \n",
              "...                                                                                                                                                                                                                                                                                                                                                                                                                                                                                                                                                                                                                                                                                                                                                                                                                                                                                                                                                                                                                                                                                                                                                                                                                                                                                                                                                                                                                                                                                                                                                                                                                                                                                                                                                                                                                                                                                                                                                                                                                                                                                                                                                                                                                                                                                                                                                                                                                                                                                                                                     ...                              \n",
              "                                                           24000     24000       24000            36 months  13.56%  815.15      C     C1        branch manager                           6 years    OWN            120000.0   Verified            Oct-2018 Current           n          NaN NaN  debt_consolidation Debt consolidation      939xx    CA         29.36 0           Apr-2000         0              NaN                    106.0                  14       1       46607.0   84%        25        w                   20642.7   20642.7       4890.9           4890.9          3357.3          1533.6        0.0                0.0        0.0                     Apr-2019     815.15          May-2019     Apr-2019           0                          NaN                         1           Individual       NaN              NaN       NaN                       0              0            494600      0           3           0           2           22.0               37589.0      60.0    1           3           9500       84.0     55600            0      4           2            6                    35328       6800.0         96.0    0                        0           136.0              221                  7                     7              2        14.0                 NaN                      10.0                  NaN                            0                     5              10              9           9         9         10            14            9                   14       NaN              0            0                  2                  100.0          100.0            1                    0         533000          84196.0           34000          62260.0                    NaN             NaN                      NaN                    NaN              NaN              NaN                NaN                 NaN                   NaN                              NaN                                NaN                                 N             NaN           NaN             NaN             NaN           NaN             NaN                 NaN               NaN                     NaN             NaN          NaN                  NaN                                        NaN                            NaN                          N                    NaN                       NaN               NaN             NaN               NaN                                                                  NaN                              \n",
              "                                                           10000     10000       10000            36 months  17.97%  361.38      D     D1        sales specialist                         3 years    OWN            50000.0    Source Verified     Oct-2018 Current           n          NaN NaN  home_improvement   Home improvement        115xx    NY         18.43 0           Sep-2007         0              67.0                   NaN                    23       0       14272     25%        29        w                   8681.72   8681.72       2158.3           2158.3          1318.28         840.02        0.0                0.0        0.0                     Apr-2019     361.38          May-2019     Apr-2019           0                          74.0                        1           Individual       NaN              NaN       NaN                       0              1253         15690       2           0           0           0           114.0              0            NaN     5           16          3662       24.0     55700            1      0           0            18                   682.0       35107.0        22.2    0                        0           114.0              132                  3                     3              0        5.0                  74.0                     17.0                  74.0                           2                     12             17              14          16        1         20            25            17                  23       0.0              0            0                  5                  89.3           0.0              0                    0         63484           15690             45100          0                          NaN             NaN                      NaN                    NaN              NaN              NaN                NaN                 NaN                   NaN                              NaN                                NaN                                 N             NaN           NaN             NaN             NaN           NaN             NaN                 NaN               NaN                     NaN             NaN          NaN                  NaN                                        NaN                            NaN                          N                    NaN                       NaN               NaN             NaN               NaN                                                                  NaN                              \n",
              "                                                           6000      6000        6000             36 months  11.55%  198.0       B     B4        ENGINEER                                 2 years    RENT           90000.0    Not Verified        Oct-2018 Current           n          NaN NaN  credit_card        Credit card refinancing 076xx    NJ         1.64  0           Sep-2010         1              53.0                   NaN                    6        0       4026      7.7%       11        w                   5137.99   5137.99       1184.15          1184.15         862.01          322.14        0.0                0.0        0.0                     Apr-2019     198.0           May-2019     Apr-2019           0                          53.0                        1           Joint App        160000.0         6.77      Not Verified              0              0            4026.0      0           0           0           0           NaN                0            NaN     1           2           2449       8.0      52600            0      0           2            2                    671         48574.0        7.7     0                        0           NaN                95                   11                    11             0        11.0                 53.0                     0.0                   53.0                           0                     4              4               6           8         0         6             11            4                   6        0.0              0            0                  1                  90.9           0.0              0                    0         52600           4026              52600          0                          11033.0         Jun-2014                 1.0                    0.0              9.0              72.2               1.0                 8.0                   0.0                              0.0                                NaN                                 N             NaN           NaN             NaN             NaN           NaN             NaN                 NaN               NaN                     NaN             NaN          NaN                  NaN                                        NaN                            NaN                          N                    NaN                       NaN               NaN             NaN               NaN                                                                  NaN                              \n",
              "                                                           17000     17000       17000            60 months  17.97%  431.42      D     D1        CNC Machinist                            6 years    RENT           55000.0    Source Verified     Oct-2018 Current           n          NaN NaN  debt_consolidation Debt consolidation      984xx    WA         11.78 0           Dec-2010         0              34.0                   NaN                    7        0       11005     36.4%      27        w                   15898.4   15898.4       2639.44          2639.44         1101.6          1537.84       0.0                0.0        0.0                     Apr-2019     431.42          May-2019     Apr-2019           0                          NaN                         1           Individual       NaN              NaN       NaN                       0              0            15313.0     0           2           1           2           8.0                4308         57.0    1           3           5595       41.0     30200            0      6           6            5                    2188.0      12829.0        44.2    0                        0           75.0               93                   9                     8              0        9.0                  NaN                      4.0                   NaN                            0                     3              4               3           6         9         5             18            4                   7        0.0              0            0                  2                  96.3           0.0              0                    0         37713.0         15313.0           23000          7513                       NaN             NaN                      NaN                    NaN              NaN              NaN                NaN                 NaN                   NaN                              NaN                                NaN                                 N             NaN           NaN             NaN             NaN           NaN             NaN                 NaN               NaN                     NaN             NaN          NaN                  NaN                                        NaN                            NaN                          N                    NaN                       NaN               NaN             NaN               NaN                                                                  NaN                              \n",
              "                                                           20000     20000       20000            36 months   8.46%  630.99      A     A5        Welder/Blacksmith                        10+ years  MORTGAGE       97000.0    Source Verified     Oct-2018 Current           n          NaN NaN  debt_consolidation Debt consolidation      604xx    IL         15.59 0           Jul-1999         1              64.0                   NaN                    9        0       23956     42.5%      23        w                   17007.75  17007.75      3776.54          3776.54         2992.25         784.29        0.0                0.0        0.0                     Apr-2019     630.99          May-2019     Apr-2019           0                          64.0                        1           Individual       NaN              NaN       NaN                       0              0            230905.0    2           3           2           4           2.0                33609.0      101.0   1           1           8661       64.0     56400            1      1           2            5                    25656       31323.0        39.1    0                        0           152.0              230                  12                    2              3        12.0                 NaN                      2.0                   NaN                            2                     4              5               4           5         14        5             6             5                   9        0.0              0            0                  3                  90.5           0.0              0                    0         270307.0        57565.0           51400          33240                      NaN             NaN                      NaN                    NaN              NaN              NaN                NaN                 NaN                   NaN                              NaN                                NaN                                 N             NaN           NaN             NaN             NaN           NaN             NaN                 NaN               NaN                     NaN             NaN          NaN                  NaN                                        NaN                            NaN                          N                    NaN                       NaN               NaN             NaN               NaN                                                                  NaN                              \n",
              "                                                           24000     24000       24000            36 months  19.92%  890.95      D     D3        Corrections officer                      10+ years  RENT           34000.0    Verified            Oct-2018 Current           n          NaN NaN  debt_consolidation Debt consolidation      344xx    FL         74.09 0           Jun-2006         0              NaN                    NaN                    12       0       4351      58%        18        w                   20919.31  20919.31      5279.3           5279.3          3080.69         2198.61       0.0                0.0        0.0                     Apr-2019     890.95          May-2019     Apr-2019           1                          NaN                         1           Joint App        90560.0          32.23     Verified                  0              1916.0       96797.0     1           5           3           5           1.0                92446.0      90.0    0           3           1345       81.0     7500             2      0           2            8                    8066        3149.0         58.0    0                        0           147.0              38                   19                    1              1        19.0                 NaN                      8.0                   NaN                            0                     7              7               7           7         10        7             7             7                   12       0.0              0            0                  3                  100.0          28.6             0                    0         118225          96797.0           7500           110725                     29530.0         Jun-2006                 0.0                    1.0              16.0             56.9               4.0                 13.0                  0.0                              1.0                                75.0                                N             NaN           NaN             NaN             NaN           NaN             NaN                 NaN               NaN                     NaN             NaN          NaN                  NaN                                        NaN                            NaN                          N                    NaN                       NaN               NaN             NaN               NaN                                                                  NaN                              \n",
              "                                                           35000     35000       34975            36 months   6.67%  1075.43     A     A2        NaN                                      NaN        MORTGAGE       85000.0    Source Verified     Oct-2018 Fully Paid        n          NaN NaN  debt_consolidation Debt consolidation      301xx    GA         22.15 0           Apr-1997         2              54.0                   NaN                    19       0       30501.0   25.3%      52        f                   0.0       0.0           35597.8855532332 35572.46        35000.0         597.89        0.0                0.0        0.0                     Jan-2019     33460.0         NaN          Apr-2019           0                          NaN                         1           Joint App        123000.0         16.11     Source Verified           0              0            171452.0    1           2           5           7           6.0                140951.0     100.0   5           8           9414       36.0     120500           0      3           5            16                   9525        77099.0        28.3    0                        0           143.0              257                  7                     6              4        7.0                  65.0                     3.0                   65.0                           0                     9              9               13          17        22        17            26            9                   19       0.0              0            0                  11                 90.4           0.0              0                    0         262239.0        171452.0          107600         141739.0                   33492.0         Apr-1997                 2.0                    4.0              17.0             30.2               2.0                 28.0                  0.0                              0.0                                NaN                                 N             NaN           NaN             NaN             NaN           NaN             NaN                 NaN               NaN                     NaN             NaN          NaN                  NaN                                        NaN                            NaN                          N                    NaN                       NaN               NaN             NaN               NaN                                                                  NaN                              \n",
              "                                                           6500      6500        6500             36 months  26.31%  262.97      E     E4        Merchandise Team Captain                 10+ years  MORTGAGE       35000.0    Verified            Oct-2018 Current           n          NaN NaN  home_improvement   Home improvement        328xx    FL         39.51 0           Mar-2004         0              70.0                   NaN                    10       0       15766     80.9%      37        f                   5736.46   5736.46       1601.58          1601.58         763.54          838.04        0.0                0.0        0.0                     Apr-2019     262.97          May-2019     Apr-2019           0                          70.0                        1           Individual       NaN              NaN       NaN                       0              0            213261.0    1           3           0           1           13.0               102330       73.0    1           1           5569       77.0     19500            2      0           3            2                    21326       2176.0         83.3    0                        0           174.0              130                  5                     5              3        5.0                  95.0                     1.0                   95.0                           2                     3              6               3           4         26        6             7             6                   10       0.0              0            0                  1                  88.5           66.7             0                    0         222107.0        118096            13000          100615                     NaN             NaN                      NaN                    NaN              NaN              NaN                NaN                 NaN                   NaN                              NaN                                NaN                                 N             NaN           NaN             NaN             NaN           NaN             NaN                 NaN               NaN                     NaN             NaN          NaN                  NaN                                        NaN                            NaN                          N                    NaN                       NaN               NaN             NaN               NaN                                                                  NaN                              \n",
              "                                                                                                             16.91%  231.46      C     C5        Senior Accountant, Fixed Assets Acctg    7 years    RENT           74160.0    Source Verified     Oct-2018 Current           n          NaN NaN  debt_consolidation Debt consolidation      600xx    IL         27.79 0           Jun-2006         0              38.0                   NaN                    12       0       7013      74.6%      24        w                   5630.69   5630.69       1373.49          1373.49         869.31          504.18        0.0                0.0        0.0                     Apr-2019     231.46          May-2019     Apr-2019           0                          52.0                        1           Joint App        129160.0         19.16     Source Verified           0              1761         48344       0           3           1           1           12.0               41331        68.0    2           6           1678       69.0     9400             1      0           2            7                    4029        847.0          83.4    0                        0           147.0              140                  7                     7              0        7.0                  38.0                     7.0                   38.0                           7                     5              9               5           7         7         9             15            9                   12       0.0              0            0                  3                  69.6           80.0             0                    0         70556.0         48344             5100           61156                      27445.0         Feb-2002                 0.0                    0.0              12.0             43.4               2.0                 28.0                  0.0                              0.0                                58.0                                N             NaN           NaN             NaN             NaN           NaN             NaN                 NaN               NaN                     NaN             NaN          NaN                  NaN                                        NaN                            NaN                          N                    NaN                       NaN               NaN             NaN               NaN                                                                  NaN                              \n",
              "                                                           5000      5000        5000             36 months   6.11%  152.36      A     A1        Implementation Manager                   9 years    MORTGAGE       82000.0    Not Verified        Oct-2018 Current           n          NaN NaN  other              Other                   750xx    TX         1.35  0           Feb-2005         0              33.0                   NaN                    13       0       2442      2.8%       28        f                   3528.82   3528.82       1614.17          1614.17         1471.18         142.99        0.0                0.0        0.0                     Apr-2019     852.36          May-2019     Apr-2019           0                          NaN                         1           Joint App        107000.0         1.59      Not Verified              0              0            128152.0    0           0           0           0           37.0               0            NaN     1           2           2328       3.0      87500            0      0           0            2                    9858.0      77158.0        3.1     0                        0           154.0              163                  7                     7              3        7.0                  33.0                     20.0                  33.0                           0                     2              2               9           14        4         12            21            2                   13       0.0              0            0                  1                  100.0          0.0              0                    0         246850.0        2442.0            79600          0                          3185.0          Jun-2011                 1.0                    0.0              2.0              1.5                1.0                 3.0                   0.0                              0.0                                13.0                                N             NaN           NaN             NaN             NaN           NaN             NaN                 NaN               NaN                     NaN             NaN          NaN                  NaN                                        NaN                            NaN                          N                    NaN                       NaN               NaN             NaN               NaN                                                                  NaN                              \n",
              "                                                           6000      6000        5750             36 months  11.55%  198.0       B     B4        RN Supervisor                            6 years    RENT           70000.0    Not Verified        Oct-2018 Late (16-30 days) n          NaN NaN  medical            Medical expenses        912xx    CA         11.52 4           Dec-1993         0              17.0                   NaN                    12       0       7         0%         35        f                   5285.12   5064.91       980.38           939.53          714.88          265.5         0.0                0.0        0.0                     Mar-2019     198.0           May-2019     Apr-2019           0                          41.0                        1           Joint App        90000.0          9.11      Not Verified              0              257          10622.0     0           1           0           1           20.0               10615        53.0    1           3           7          27.0     19380            1      8           1            4                    1062.0      13393.0        0.1     0                        0           157.0              297                  10                    10             0        10.0                 17.0                     12.0                  17.0                           1                     1              1               6           11        4         11            31            1                   12       0.0              0            0                  1                  71.4           0.0              0                    0         39380           10622.0           13400          20000                      10861.0         Jun-2002                 0.0                    0.0              10.0             0.6                1.0                 11.0                  0.0                              0.0                                NaN                                 N             NaN           NaN             NaN             NaN           NaN             NaN                 NaN               NaN                     NaN             NaN          NaN                  NaN                                        NaN                            NaN                          N                    NaN                       NaN               NaN             NaN               NaN                                                                  NaN                              \n",
              "                                                           22000     22000       22000            36 months  11.55%  726.0       B     B4        Sr. application analyst                  10+ years  MORTGAGE       72000.0    Source Verified     Oct-2018 Current           n          NaN NaN  debt_consolidation Debt consolidation      481xx    MI         46.98 0           Jun-1999         0              26.0                   NaN                    12       0       15995     47.9%      49        w                   18839.3   18839.3       4320.71          4320.71         3160.7          1160.01       0.0                0.0        0.0                     Apr-2019     726.0           May-2019     Apr-2019           0                          NaN                         1           Joint App        134000.0         26.58     Source Verified           0              0            173926      1           5           2           5           8.0                71352.0      69.0    3           3           5464       64.0     33400            3      11          2            10                   14494.0     10623.0        58.2    0                        0           187.0              231                  9                     6              3        74.0                 NaN                      8.0                   26.0                           0                     3              5               3           7         27        6             18            5                   12       0.0              0            0                  6                  98.0           33.3             0                    0         224651.0        87347             25400          102901.0                   57408.0         Jun-1999                 1.0                    3.0              10.0             42.0               4.0                 12.0                  0.0                              0.0                                NaN                                 N             NaN           NaN             NaN             NaN           NaN             NaN                 NaN               NaN                     NaN             NaN          NaN                  NaN                                        NaN                            NaN                          N                    NaN                       NaN               NaN             NaN               NaN                                                                  NaN                              \n",
              "                                                           24000     24000       24000            60 months  15.02%  571.22      C     C3        Instructional Technology Specialist      10+ years  MORTGAGE       60000.0    Not Verified        Oct-2018 Current           n          NaN NaN  debt_consolidation Debt consolidation      750xx    TX         9.72  0           Apr-1999         1              43.0                   NaN                    17       0       18975     45%        32        w                   22323.38  22323.38      3377.25          3377.25         1676.62         1700.63       0.0                0.0        0.0                     Apr-2019     571.22          May-2019     Apr-2019           0                          40.0                        1           Individual       NaN              NaN       NaN                       0              0            214535.0    1           0           0           0           18.0               0            0.0     2           3           4880       45.0     42344.0          0      1           3            4                    12619       3540.0         51.0    0                        0           191.0              233                  7                     3              2        7.0                  40.0                     3.0                   40.0                           2                     10             16              16          20        4         16            26            9                   17       NaN              0            0                  3                  84.0           20.0             0                    0         238344.0        18975             35400          0                          NaN             NaN                      NaN                    NaN              NaN              NaN                NaN                 NaN                   NaN                              NaN                                NaN                                 N             NaN           NaN             NaN             NaN           NaN             NaN                 NaN               NaN                     NaN             NaN          NaN                  NaN                                        NaN                            NaN                          N                    NaN                       NaN               NaN             NaN               NaN                                                                  NaN                              \n",
              "                                                           20000     20000       20000            60 months  15.02%  476.01      C     C3        Technical Supvervisor                    10+ years  MORTGAGE       75000.0    Verified            Oct-2018 Current           n          NaN NaN  credit_card        Credit card refinancing 786xx    TX         24.82 0           Apr-1991         2              NaN                    NaN                    17       0       20790     55%        43        w                   18602.86  18602.86      2814.34          2814.34         1397.14         1417.2        0.0                0.0        0.0                     Apr-2019     476.01          May-2019     Apr-2019           0                          44.0                        1           Individual       NaN              NaN       NaN                       0              0            285451.0    3           2           1           1           3.0                78877.0      106.0   1           1           8354       55.0     37955.0          0      0           3            5                    17840       4292.0         69.0    0                        0           247.0              329                  4                     3              5        4.0                  NaN                      4.0                   NaN                            0                     6              11              11          11        15        11            22            7                   16       NaN              0            0                  4                  98.0           50.0             0                    0         302929.0        100523            25750.0        74222                      NaN             NaN                      NaN                    NaN              NaN              NaN                NaN                 NaN                   NaN                              NaN                                NaN                                 N             NaN           NaN             NaN             NaN           NaN             NaN                 NaN               NaN                     NaN             NaN          NaN                  NaN                                        NaN                            NaN                          N                    NaN                       NaN               NaN             NaN               NaN                                                                  NaN                              \n",
              "                                                           12000     12000       12000            60 months  18.94%  310.9       D     D2        Senior Business Account Executive        6 years    RENT           128000.0   Verified            Oct-2018 Current           n          NaN NaN  debt_consolidation Debt consolidation      937xx    CA         13.32 0           Nov-2007         1              46.0                   101.0                  15       1       7329      40.7%      29        w                   11241.62  11241.62      1833.83          1833.83         758.38          1075.45       0.0                0.0        0.0                     Apr-2019     310.9           May-2019     Apr-2019           0                          53.0                        1           Individual       NaN              NaN       NaN                       0              3851.0       46808       1           7           2           4           11.0               39479        110.0   5           6           2932       78.0     18000            4      0           7            11                   3121.0      9171.0         44.4    0                        0           130.0              99                   2                     2              0        9.0                  46.0                     1.0                   46.0                           1                     5              5               5           10        13        7             15            5                   15       0.0              0            0                  8                  95.7           0.0              1                    0         74437.0         46808             16500          56437                      NaN             NaN                      NaN                    NaN              NaN              NaN                NaN                 NaN                   NaN                              NaN                                NaN                                 N             NaN           NaN             NaN             NaN           NaN             NaN                 NaN               NaN                     NaN             NaN          NaN                  NaN                                        NaN                            NaN                          N                    NaN                       NaN               NaN             NaN               NaN                                                                  NaN                              \n",
              "                                                           5000      5000        5000             36 months  15.02%  173.38      C     C3        Tech                                     10+ years  MORTGAGE       35000.0    Source Verified     Oct-2018 Current           n          NaN NaN  debt_consolidation Debt consolidation      324xx    FL         31.76 2           Jun-2003         0              15.0                   NaN                    7        0       1539      35.8%      17        w                   4314.07   4314.07       1036.11          1036.11         685.93          350.18        0.0                0.0        0.0                     Apr-2019     173.38          May-2019     Apr-2019           0                          57.0                        1           Individual       NaN              NaN       NaN                       0              488          22956       0           2           0           1           23.0               13906        84.0    2           5           0          73.0     4300             1      0           1            6                    3279        NaN            NaN     0                        0           183.0              148                  8                     8              2        NaN                  NaN                      2.0                   17.0                           0                     0              4               0           2         8         4             7             4                   7        0.0              0            0                  2                  76.5           NaN              0                    0         105884.0        15445.0           0              62973                      NaN             NaN                      NaN                    NaN              NaN              NaN                NaN                 NaN                   NaN                              NaN                                NaN                                 N             NaN           NaN             NaN             NaN           NaN             NaN                 NaN               NaN                     NaN             NaN          NaN                  NaN                                        NaN                            NaN                          N                    NaN                       NaN               NaN             NaN               NaN                                                                  NaN                              \n",
              "                                                           20000     20000       20000            60 months  15.02%  476.01      C     C3        production supervisor                    10+ years  MORTGAGE       80000.0    Not Verified        Oct-2018 Current           n          NaN NaN  debt_consolidation Debt consolidation      117xx    NY         16.94 0           Oct-2005         0              NaN                    86.0                   8        1       14190     76.3%      10        w                   18602.86  18602.86      2839.37          2839.37         1397.14         1442.23       0.0                0.0        0.0                     Apr-2019     476.01          May-2019     Apr-2019           0                          NaN                         1           Joint App        125000.0         14.26     NaN                       0              0            33987       0           1           0           0           32.0               19797        NaN     0           2           5875       76.0     18600            1      2           0            2                    4248.0      2098.0         86.3    0                        0           155.0              69                   18                    18             0        18.0                 NaN                      15.0                  NaN                            0                     4              5               5           5         3         7             7             5                   8        0.0              0            0                  0                  100.0          60.0             1                    0         56466.0         33987             15300          37866                      23185.0         Jun-1992                 0.0                    0.0              6.0              88.7               0.0                 8.0                   0.0                              0.0                                NaN                                 N             NaN           NaN             NaN             NaN           NaN             NaN                 NaN               NaN                     NaN             NaN          NaN                  NaN                                        NaN                            NaN                          N                    NaN                       NaN               NaN             NaN               NaN                                                                  NaN                              \n",
              "                                                           5000      5000        5000             36 months  16.14%  176.14      C     C4        NaN                                      NaN        OWN            9200.0     Source Verified     Oct-2018 Current           n          NaN NaN  debt_consolidation Debt consolidation      365xx    AL         23.5  0           Apr-2015         1              NaN                    NaN                    10       0       2228      15.7%      15        w                   4110.85   4110.85       1265.28          1265.28         889.15          376.13        0.0                0.0        0.0                     Apr-2019     176.14          May-2019     Apr-2019           0                          NaN                         1           Individual       NaN              NaN       NaN                       0              0            3258.0      0           1           0           0           29.0               1030         33.0    3           6           873        19.0     14200            1      0           2            6                    326         1822.0         43.1    0                        0           41.0               33                   7                     7              0        14.0                 NaN                      6.0                   NaN                            0                     2              4               3           4         2         9             13            4                   10       0.0              0            0                  3                  100.0          33.3             0                    0         17294.0         3258.0            3200           3094.0                     NaN             NaN                      NaN                    NaN              NaN              NaN                NaN                 NaN                   NaN                              NaN                                NaN                                 N             NaN           NaN             NaN             NaN           NaN             NaN                 NaN               NaN                     NaN             NaN          NaN                  NaN                                        NaN                            NaN                          N                    NaN                       NaN               NaN             NaN               NaN                                                                  NaN                              \n",
              "                                                           17500     17500       17500            60 months  22.35%  486.82      D     D5        NaN                                      NaN        RENT           25000.0    Verified            Oct-2018 Current           n          NaN NaN  debt_consolidation Debt consolidation      640xx    MO         27.75 0           Oct-2001         0              NaN                    78.0                   6        1       932       5.4%       35        w                   16488.63  16488.63      2899.19          2899.19         1011.37         1887.82       0.0                0.0        0.0                     Apr-2019     486.82          May-2019     Apr-2019           0                          NaN                         1           Individual       NaN              NaN       NaN                       0              0            14299       1           2           2           5           3.0                13367        89.0    0           0           905        44.0     17200            0      0           0            5                    2383.0      6395.0         12.4    0                        0           148.0              195                  55                    3              1        55.0                 NaN                      NaN                   NaN                            0                     1              2               1           10        16        4             18            2                   6        0.0              0            0                  2                  100.0          0.0              1                    0         32200           14299             7300           15000                      NaN             NaN                      NaN                    NaN              NaN              NaN                NaN                 NaN                   NaN                              NaN                                NaN                                 N             NaN           NaN             NaN             NaN           NaN             NaN                 NaN               NaN                     NaN             NaN          NaN                  NaN                                        NaN                            NaN                          N                    NaN                       NaN               NaN             NaN               NaN                                                                  NaN                              \n",
              "                                                           20000     20000       20000            36 months  11.55%  660.0       B     B4        secondary opps/lead coater               10+ years  OWN            45000.0    Not Verified        Oct-2018 Current           n          NaN NaN  home_improvement   Home improvement        015xx    MA         22.13 0           Dec-2003         0              41.0                   NaN                    8        0       29142     87.3%      17        w                   17126.63  17126.63      3947.17          3947.17         2873.37         1073.8        0.0                0.0        0.0                     Apr-2019     660.0           May-2019     Apr-2019           0                          41.0                        1           Individual       NaN              NaN       NaN                       0              0            31855.0     0           1           0           0           29.0               2713         30.0    0           1           2075       75.0     33400            0      0           0            1                    3982.0      1593.0         78.8    0                        0           71.0               177                  16                    16             3        16.0                 NaN                      NaN                   NaN                            2                     4              6               4           4         4         7             10            6                   8        0.0              0            0                  0                  82.4           50.0             0                    0         42400           31855             7500           9000                       NaN             NaN                      NaN                    NaN              NaN              NaN                NaN                 NaN                   NaN                              NaN                                NaN                                 N             NaN           NaN             NaN             NaN           NaN             NaN                 NaN               NaN                     NaN             NaN          NaN                  NaN                                        NaN                            NaN                          N                    NaN                       NaN               NaN             NaN               NaN                                                                  NaN                              \n",
              "                                                           22000     22000       22000            60 months   7.84%  444.4       A     A4        Owner                                    10+ years  MORTGAGE       55000.0    Not Verified        Oct-2018 Current           n          NaN NaN  other              Other                   982xx    WA         2.18  0           Apr-1987         0              NaN                    NaN                    8        0       6310      14.3%      21        w                   20166.28  20166.28      2656.82          2656.82         1833.72         823.1         0.0                0.0        0.0                     Apr-2019     444.4           May-2019     Apr-2019           0                          NaN                         1           Individual       NaN              NaN       NaN                       0              0            159636.0    0           0           0           0           33.0               0            NaN     0           3           5436       14.0     44200            0      0           0            3                    19955.0     31090.0        16.9    0                        0           128.0              376                  17                    17             2        17.0                 NaN                      23.0                  NaN                            0                     2              2               5           9         7         7             12            2                   8        0.0              0            0                  0                  100.0          20.0             0                    0         204200.0        6310              37400          0                          NaN             NaN                      NaN                    NaN              NaN              NaN                NaN                 NaN                   NaN                              NaN                                NaN                                 N             NaN           NaN             NaN             NaN           NaN             NaN                 NaN               NaN                     NaN             NaN          NaN                  NaN                                        NaN                            NaN                          N                    NaN                       NaN               NaN             NaN               NaN                                                                  NaN                              \n",
              "                                                           5000      5000        5000             36 months  16.14%  176.14      C     C4        Oncology Medical Assistant               3 years    MORTGAGE       46400.0    Source Verified     Oct-2018 Current           n          NaN NaN  debt_consolidation Debt consolidation      338xx    FL         16.85 0           Nov-2003         0              29.0                   NaN                    10       0       6722      62.2%      18        w                   4324.29   4324.29       1061.33          1061.33         675.71          385.62        0.0                0.0        0.0                     Apr-2019     176.14          May-2019     Apr-2019           0                          30.0                        1           Individual       NaN              NaN       NaN                       0              0            140818.0    0           1           1           1           10.0               13257        89.0    1           5           1287       78.0     10800            2      4           5            6                    14082.0     114.0          96.2    0                        0           120.0              178                  10                    10             1        15.0                 29.0                     10.0                  29.0                           3                     3              5               3           4         3         8             14            5                   10       0.0              0            0                  2                  72.2           100.0            0                    0         161585.0        19979             3000           14875                      NaN             NaN                      NaN                    NaN              NaN              NaN                NaN                 NaN                   NaN                              NaN                                NaN                                 N             NaN           NaN             NaN             NaN           NaN             NaN                 NaN               NaN                     NaN             NaN          NaN                  NaN                                        NaN                            NaN                          N                    NaN                       NaN               NaN             NaN               NaN                                                                  NaN                              \n",
              "                                                           5600      5600        5600             36 months  13.56%  190.21      C     C1        NaN                                      NaN        RENT           15600.0    Not Verified        Oct-2018 Current           n          NaN NaN  credit_card        Credit card refinancing 836xx    ID         15.31 0           Aug-2012         0              NaN                    97.0                   9        1       5996      34.5%      11        w                   4816.58   4816.58       1130.71          1130.71         783.42          347.29        0.0                0.0        0.0                     Apr-2019     190.21          May-2019     Apr-2019           0                          NaN                         1           Individual       NaN              NaN       NaN                       0              0            5996.0      0           0           0           1           20.0               0            NaN     0           2           3017       35.0     17400            1      0           0            3                    750         4689.0         45.5    0                        0           20.0               73                   13                    13             0        13.0                 NaN                      20.0                  NaN                            0                     3              5               4           4         1         9             10            5                   9        0.0              0            0                  0                  100.0          25.0             1                    0         17400           5996              8600           0                          NaN             NaN                      NaN                    NaN              NaN              NaN                NaN                 NaN                   NaN                              NaN                                NaN                                 N             NaN           NaN             NaN             NaN           NaN             NaN                 NaN               NaN                     NaN             NaN          NaN                  NaN                                        NaN                            NaN                          N                    NaN                       NaN               NaN             NaN               NaN                                                                  NaN                              \n",
              "                                                           23000     23000       23000            36 months  15.02%  797.53      C     C3        Tax Consultant                           10+ years  MORTGAGE       75000.0    Source Verified     Oct-2018 Charged Off       n          NaN NaN  debt_consolidation Debt consolidation      352xx    AL         20.95 1           Aug-1985         2              22.0                   NaN                    12       0       22465.0   43.6%      28        w                   0.0       0.0           1547.08          1547.08         1025.67         521.41        0.0                0.0        0.0                     Dec-2018     797.53          NaN          Nov-2018           0                          NaN                         1           Individual       NaN              NaN       NaN                       0              0            259658.0    4           2           3           3           6.0                18149        86.0    4           6           12843      56.0     51500            2      2           5            11                   21638       26321.0        44.1    0                        0           12.0               397                  4                     4              6        5.0                  22.0                     4.0                   22.0                           0                     4              5               7           14        3         9             19            5                   12       0.0              0            0                  7                  96.4           14.3             0                    0         296500.0        40614             47100          21000                      NaN             NaN                      NaN                    NaN              NaN              NaN                NaN                 NaN                   NaN                              NaN                                NaN                                 N             NaN           NaN             NaN             NaN           NaN             NaN                 NaN               NaN                     NaN             NaN          NaN                  NaN                                        NaN                            NaN                          N                    NaN                       NaN               NaN             NaN               NaN                                                                  NaN                              \n",
              "                                                           10000     10000       10000            36 months  15.02%  346.76      C     C3        security guard                           5 years    MORTGAGE       38000.0    Not Verified        Oct-2018 Current           n          NaN NaN  debt_consolidation Debt consolidation      443xx    OH         13.16 3           Jul-1982         0              6.0                    NaN                    11       0       5634      37.1%      16        w                   8628.13   8628.13       2072.22          2072.22         1371.87         700.35        0.0                0.0        0.0                     Apr-2019     346.76          May-2019     Apr-2019           0                          NaN                         1           Individual       NaN              NaN       NaN                       0              155          77424.0     0           1           0           0           34.0               200          10.0    1           1           1866       42.0     15200            2      0           0            2                    7039.0      4537.0         50.1    0                        0           34.0               434                  11                    11             3        11.0                 6.0                      17.0                  6.0                            0                     3              5               5           6         1         8             11            5                   11       0.0              0            0                  1                  73.3           40.0             0                    0         91403.0         9323              9100           2000                       NaN             NaN                      NaN                    NaN              NaN              NaN                NaN                 NaN                   NaN                              NaN                                NaN                                 N             NaN           NaN             NaN             NaN           NaN             NaN                 NaN               NaN                     NaN             NaN          NaN                  NaN                                        NaN                            NaN                          N                    NaN                       NaN               NaN             NaN               NaN                                                                  NaN                              \n",
              "                                                           5000      5000        5000             36 months  13.56%  169.83      C     C1        Payoff Clerk                             10+ years  MORTGAGE       35360.0    Not Verified        Oct-2018 Current           n          NaN NaN  debt_consolidation Debt consolidation      381xx    TN         11.3  1           Jun-2006         0              21.0                   NaN                    9        0       2597      27.3%      15        f                   4300.52   4300.52       1015.21          1015.21         699.48          315.73        0.0                0.0        0.0                     Apr-2019     169.83          May-2019     Apr-2019           0                          NaN                         1           Individual       NaN              NaN       NaN                       0              1413         69785       0           2           0           1           16.0               2379         40.0    3           4           1826       32.0     9500             0      0           1            5                    8723        1174.0         60.9    0                        0           147.0              85                   9                     9              2        10.0                 21.0                     9.0                   21.0                           0                     1              3               2           2         6         6             7             3                   9        0.0              0            0                  3                  92.9           50.0             0                    0         93908           4976              3000           6028.0                     NaN             NaN                      NaN                    NaN              NaN              NaN                NaN                 NaN                   NaN                              NaN                                NaN                                 N             NaN           NaN             NaN             NaN           NaN             NaN                 NaN               NaN                     NaN             NaN          NaN                  NaN                                        NaN                            NaN                          N                    NaN                       NaN               NaN             NaN               NaN                                                                  NaN                              \n",
              "                                                           10000     10000       9750             36 months  11.06%  327.68      B     B3        NaN                                      NaN        RENT           44400.0    Source Verified     Oct-2018 Current           n          NaN NaN  credit_card        Credit card refinancing 980xx    WA         11.78 0           Oct-2008         2              40.0                   NaN                    15       0       6269      13.1%      25        f                   8553.96   8340.11       1950.72          1901.95         1446.04         504.68        0.0                0.0        0.0                     Apr-2019     327.68          May-2019     Apr-2019           0                          53.0                        1           Individual       NaN              NaN       NaN                       0              520          16440       3           1           1           1           2.0                10171        100.0   2           5           404        28.0     47700            0      3           5            6                    1265        20037.0        2.3     0                        0           61.0               119                  1                     1              0        1.0                  NaN                      1.0                   40.0                           1                     2              4               6           8         3         14            22            4                   15       0.0              0            0                  3                  92.0           0.0              0                    0         57871.0         16440             20500          10171.0                    NaN             NaN                      NaN                    NaN              NaN              NaN                NaN                 NaN                   NaN                              NaN                                NaN                                 N             NaN           NaN             NaN             NaN           NaN             NaN                 NaN               NaN                     NaN             NaN          NaN                  NaN                                        NaN                            NaN                          N                    NaN                       NaN               NaN             NaN               NaN                                                                  NaN                              \n",
              "                                                                                 10000            36 months  16.91%  356.08      C     C5        Key Accounts Manager                     2 years    RENT           80000.0    Not Verified        Oct-2018 Current           n          NaN NaN  other              Other                   021xx    MA         17.72 1           Sep-2006         0              14.0                   NaN                    17       0       1942      30.8%      31        w                   8662.68   8662.68       2127.09          2127.09         1337.32         789.77        0.0                0.0        0.0                     Apr-2019     356.08          May-2019     Apr-2019           0                          25.0                        1           Individual       NaN              NaN       NaN                       0              0            59194       0           15          1           1           12.0               57252.0      85.0    0           0           1942       80.0     6300             0      5           0            1                    3482        2058.0         48.5    0                        0           144.0              142                  40                    12             0        131.0                30.0                     NaN                   30.0                           3                     1              1               1           5         22        2             9             1                   17       0.0              0            0                  1                  74.2           0.0              0                    0         73669           59194             4000           67369                      NaN             NaN                      NaN                    NaN              NaN              NaN                NaN                 NaN                   NaN                              NaN                                NaN                                 N             NaN           NaN             NaN             NaN           NaN             NaN                 NaN               NaN                     NaN             NaN          NaN                  NaN                                        NaN                            NaN                          N                    NaN                       NaN               NaN             NaN               NaN                                                                  NaN                              \n",
              "Total amount funded in policy code 1: 2050909275 NaN       NaN       NaN         NaN             NaN        NaN      NaN         NaN   NaN       NaN                                      NaN        NaN            NaN        NaN                 NaN      NaN               NaN        NaN NaN  NaN                NaN                     NaN      NaN        NaN   NaN         NaN              NaN            NaN                    NaN                    NaN      NaN     NaN       NaN        NaN       NaN                 NaN       NaN           NaN              NaN             NaN             NaN           NaN                NaN        NaN                     NaN          NaN             NaN          NaN                NaN                        NaN                         NaN         NaN              NaN              NaN       NaN                       NaN            NaN          NaN         NaN         NaN         NaN         NaN         NaN                NaN          NaN     NaN         NaN         NaN        NaN      NaN              NaN    NaN         NaN          NaN                  NaN         NaN            NaN     NaN                      NaN         NaN                NaN                  NaN                   NaN            NaN      NaN                  NaN                      NaN                   NaN                            NaN                   NaN            NaN             NaN         NaN       NaN       NaN           NaN           NaN                 NaN      NaN              NaN          NaN                NaN                NaN            NaN              NaN                  NaN       NaN             NaN               NaN            NaN                        NaN             NaN                      NaN                    NaN              NaN              NaN                NaN                 NaN                   NaN                              NaN                                NaN                                 NaN           NaN           NaN             NaN             NaN           NaN             NaN                 NaN               NaN                     NaN             NaN          NaN                  NaN                                        NaN                            NaN                          NaN                  NaN                       NaN               NaN             NaN               NaN                                                                  NaN                              \n",
              "Total amount funded in policy code 2: 820109297  NaN       NaN       NaN         NaN             NaN        NaN      NaN         NaN   NaN       NaN                                      NaN        NaN            NaN        NaN                 NaN      NaN               NaN        NaN NaN  NaN                NaN                     NaN      NaN        NaN   NaN         NaN              NaN            NaN                    NaN                    NaN      NaN     NaN       NaN        NaN       NaN                 NaN       NaN           NaN              NaN             NaN             NaN           NaN                NaN        NaN                     NaN          NaN             NaN          NaN                NaN                        NaN                         NaN         NaN              NaN              NaN       NaN                       NaN            NaN          NaN         NaN         NaN         NaN         NaN         NaN                NaN          NaN     NaN         NaN         NaN        NaN      NaN              NaN    NaN         NaN          NaN                  NaN         NaN            NaN     NaN                      NaN         NaN                NaN                  NaN                   NaN            NaN      NaN                  NaN                      NaN                   NaN                            NaN                   NaN            NaN             NaN         NaN       NaN       NaN           NaN           NaN                 NaN      NaN              NaN          NaN                NaN                NaN            NaN              NaN                  NaN       NaN             NaN               NaN            NaN                        NaN             NaN                      NaN                    NaN              NaN              NaN                NaN                 NaN                   NaN                              NaN                                NaN                                 NaN           NaN           NaN             NaN             NaN           NaN             NaN                 NaN               NaN                     NaN             NaN          NaN                  NaN                                        NaN                            NaN                          NaN                  NaN                       NaN               NaN             NaN               NaN                                                                  NaN                              \n",
              "\n",
              "[128415 rows x 1 columns]>"
            ]
          },
          "metadata": {
            "tags": []
          },
          "execution_count": 145
        }
      ]
    },
    {
      "cell_type": "code",
      "metadata": {
        "id": "81ylcV0KUnAW",
        "colab_type": "code",
        "outputId": "ef142046-be10-4f0d-8195-98ba442e4325",
        "colab": {
          "base_uri": "https://localhost:8080/",
          "height": 111
        }
      },
      "source": [
        "df =pd.read_csv(sep=',',filepath_or_buffer='LoanStats_2018Q4.csv', skiprows=1, skipfooter=2)"
      ],
      "execution_count": 146,
      "outputs": [
        {
          "output_type": "stream",
          "text": [
            "/usr/local/lib/python3.6/dist-packages/ipykernel_launcher.py:1: ParserWarning: Falling back to the 'python' engine because the 'c' engine does not support skipfooter; you can avoid this warning by specifying engine='python'.\n",
            "  \"\"\"Entry point for launching an IPython kernel.\n"
          ],
          "name": "stderr"
        }
      ]
    },
    {
      "cell_type": "markdown",
      "metadata": {
        "colab_type": "text",
        "id": "1b5_hMTio2Ly"
      },
      "source": [
        "## Work with strings"
      ]
    },
    {
      "cell_type": "markdown",
      "metadata": {
        "id": "iCFfJilIRyfu",
        "colab_type": "text"
      },
      "source": [
        "For machine learning, we usually want to replace strings with numbers.\n",
        "\n",
        "We can get info about which columns have a datatype of \"object\" (strings)"
      ]
    },
    {
      "cell_type": "code",
      "metadata": {
        "colab_type": "code",
        "id": "WOL7QPVNo3F4",
        "colab": {}
      },
      "source": [
        "def strip_percent(x_str):\n",
        "    return float(x_str.strip('%%'))"
      ],
      "execution_count": 0,
      "outputs": []
    },
    {
      "cell_type": "markdown",
      "metadata": {
        "id": "XEKokVqxRyf2",
        "colab_type": "text"
      },
      "source": [
        "### Convert `int_rate`\n",
        "\n",
        "Define a function to remove percent signs from strings and convert to floats"
      ]
    },
    {
      "cell_type": "code",
      "metadata": {
        "id": "CShEMxnuRyf4",
        "colab_type": "code",
        "colab": {}
      },
      "source": [
        "df['int_rate']= df['int_rate'].apply(strip_percent)"
      ],
      "execution_count": 0,
      "outputs": []
    },
    {
      "cell_type": "markdown",
      "metadata": {
        "id": "X39qJ4bWRygB",
        "colab_type": "text"
      },
      "source": [
        "Apply the function to the `int_rate` column"
      ]
    },
    {
      "cell_type": "code",
      "metadata": {
        "id": "yLDMZtfaRygC",
        "colab_type": "code",
        "outputId": "bc841b3b-62e9-4efd-ac90-09d584ace2a1",
        "colab": {
          "base_uri": "https://localhost:8080/",
          "height": 119
        }
      },
      "source": [
        "df.int_rate.head()"
      ],
      "execution_count": 149,
      "outputs": [
        {
          "output_type": "execute_result",
          "data": {
            "text/plain": [
              "0    10.33\n",
              "1    23.40\n",
              "2    17.97\n",
              "3    12.98\n",
              "4    13.56\n",
              "Name: int_rate, dtype: float64"
            ]
          },
          "metadata": {
            "tags": []
          },
          "execution_count": 149
        }
      ]
    },
    {
      "cell_type": "markdown",
      "metadata": {
        "id": "GIU_ki3iRygF",
        "colab_type": "text"
      },
      "source": [
        "### Clean `emp_title`\n",
        "\n",
        "Look at top 20 titles"
      ]
    },
    {
      "cell_type": "code",
      "metadata": {
        "id": "2-k39k35RygH",
        "colab_type": "code",
        "outputId": "227c9db5-8c10-4ef7-f76d-4e39cd338b7c",
        "colab": {
          "base_uri": "https://localhost:8080/",
          "height": 204
        }
      },
      "source": [
        "df['emp_title'].head(n=10)"
      ],
      "execution_count": 150,
      "outputs": [
        {
          "output_type": "execute_result",
          "data": {
            "text/plain": [
              "0                   NaN\n",
              "1              Security\n",
              "2        Administrative\n",
              "3                   NaN\n",
              "4                  Chef\n",
              "5           Postmaster \n",
              "6              Operator\n",
              "7    Nursing Supervisor\n",
              "8               Manager\n",
              "9      Material Handler\n",
              "Name: emp_title, dtype: object"
            ]
          },
          "metadata": {
            "tags": []
          },
          "execution_count": 150
        }
      ]
    },
    {
      "cell_type": "markdown",
      "metadata": {
        "id": "Ol6VJSOmRygK",
        "colab_type": "text"
      },
      "source": [
        "How often is `emp_title` null?"
      ]
    },
    {
      "cell_type": "code",
      "metadata": {
        "id": "KcHYz5DoRygL",
        "colab_type": "code",
        "outputId": "e05e69ee-9d6a-4966-bf67-c608ed543909",
        "colab": {
          "base_uri": "https://localhost:8080/",
          "height": 374
        }
      },
      "source": [
        "df.emp_title.value_counts(dropna=False).head(20)"
      ],
      "execution_count": 151,
      "outputs": [
        {
          "output_type": "execute_result",
          "data": {
            "text/plain": [
              "NaN                   20947\n",
              "Teacher                2090\n",
              "Manager                1773\n",
              "Registered Nurse        952\n",
              "Driver                  924\n",
              "RN                      726\n",
              "Supervisor              697\n",
              "Sales                   580\n",
              "Project Manager         526\n",
              "General Manager         523\n",
              "Office Manager          521\n",
              "Owner                   420\n",
              "Director                402\n",
              "Operations Manager      387\n",
              "Truck Driver            387\n",
              "Nurse                   326\n",
              "Engineer                325\n",
              "Sales Manager           304\n",
              "manager                 301\n",
              "Supervisor              270\n",
              "Name: emp_title, dtype: int64"
            ]
          },
          "metadata": {
            "tags": []
          },
          "execution_count": 151
        }
      ]
    },
    {
      "cell_type": "markdown",
      "metadata": {
        "id": "JRTcx7o0RygP",
        "colab_type": "text"
      },
      "source": [
        "Clean the title and handle missing values"
      ]
    },
    {
      "cell_type": "code",
      "metadata": {
        "id": "SzxR8e1QRygQ",
        "colab_type": "code",
        "outputId": "640904a1-3ebe-48fb-ba6f-125247e3e3f6",
        "colab": {
          "base_uri": "https://localhost:8080/",
          "height": 34
        }
      },
      "source": [
        "df['emp_title'].isnull().sum()"
      ],
      "execution_count": 152,
      "outputs": [
        {
          "output_type": "execute_result",
          "data": {
            "text/plain": [
              "20947"
            ]
          },
          "metadata": {
            "tags": []
          },
          "execution_count": 152
        }
      ]
    },
    {
      "cell_type": "markdown",
      "metadata": {
        "id": "O5CLvjPsRygU",
        "colab_type": "text"
      },
      "source": [
        "### Create `emp_title_manager`\n",
        "\n",
        "pandas documentation: [`str.contains`](https://pandas.pydata.org/pandas-docs/stable/generated/pandas.Series.str.contains.html)"
      ]
    },
    {
      "cell_type": "code",
      "metadata": {
        "id": "GnCzZ_BTRygW",
        "colab_type": "code",
        "outputId": "67bd0715-4c29-4497-fcc3-cd7f7d3f145d",
        "colab": {
          "base_uri": "https://localhost:8080/",
          "height": 1071
        }
      },
      "source": [
        "df['emp_title'].str.lower()"
      ],
      "execution_count": 153,
      "outputs": [
        {
          "output_type": "execute_result",
          "data": {
            "text/plain": [
              "0                                              NaN\n",
              "1                                         security\n",
              "2                                   administrative\n",
              "3                                              NaN\n",
              "4                                             chef\n",
              "5                                      postmaster \n",
              "6                                         operator\n",
              "7                               nursing supervisor\n",
              "8                                          manager\n",
              "9                                 material handler\n",
              "10                                             NaN\n",
              "11                       instructional coordinator\n",
              "12                                             NaN\n",
              "13                financial relationship associate\n",
              "14                             sale representative\n",
              "15                             driver coordinator \n",
              "16                                   gas attendant\n",
              "17        assistant athletic director of marketing\n",
              "18                                sr sales manager\n",
              "19                                     casino host\n",
              "20                            maintenance planner \n",
              "21                                       carpenter\n",
              "22                                             NaN\n",
              "23              executive administrative assistant\n",
              "24                             firefighter/captain\n",
              "25                                             NaN\n",
              "26                                             NaN\n",
              "27                                        optician\n",
              "28                                             NaN\n",
              "29                                  bill collector\n",
              "                            ...                   \n",
              "128382                        part sales associate\n",
              "128383                            slot floorperson\n",
              "128384                              branch manager\n",
              "128385                            sales specialist\n",
              "128386                                    engineer\n",
              "128387                               cnc machinist\n",
              "128388                           welder/blacksmith\n",
              "128389                         corrections officer\n",
              "128390                                         NaN\n",
              "128391                    merchandise team captain\n",
              "128392       senior accountant, fixed assets acctg\n",
              "128393                     implementation manager \n",
              "128394                               rn supervisor\n",
              "128395                     sr. application analyst\n",
              "128396         instructional technology specialist\n",
              "128397                       technical supvervisor\n",
              "128398           senior business account executive\n",
              "128399                                        tech\n",
              "128400                      production supervisor \n",
              "128401                                         NaN\n",
              "128402                                         NaN\n",
              "128403                  secondary opps/lead coater\n",
              "128404                                       owner\n",
              "128405                  oncology medical assistant\n",
              "128406                                         NaN\n",
              "128407                              tax consultant\n",
              "128408                              security guard\n",
              "128409                                payoff clerk\n",
              "128410                                         NaN\n",
              "128411                        key accounts manager\n",
              "Name: emp_title, Length: 128412, dtype: object"
            ]
          },
          "metadata": {
            "tags": []
          },
          "execution_count": 153
        }
      ]
    },
    {
      "cell_type": "code",
      "metadata": {
        "id": "eNU3ojf6e005",
        "colab_type": "code",
        "colab": {}
      },
      "source": [
        "import numpy as np"
      ],
      "execution_count": 0,
      "outputs": []
    },
    {
      "cell_type": "code",
      "metadata": {
        "id": "DIcLfAZtfAas",
        "colab_type": "code",
        "colab": {}
      },
      "source": [
        "def clean_title(title):\n",
        "    if isinstance(title, str):\n",
        "        return title.strip().lower()\n",
        "    else:\n",
        "        return 'unknown'"
      ],
      "execution_count": 0,
      "outputs": []
    },
    {
      "cell_type": "code",
      "metadata": {
        "id": "tzPkuU8pfZco",
        "colab_type": "code",
        "colab": {}
      },
      "source": [
        "df['emp_title'] = df['emp_title'].apply(clean_title)"
      ],
      "execution_count": 0,
      "outputs": []
    },
    {
      "cell_type": "code",
      "metadata": {
        "id": "pl-JTJklfvI1",
        "colab_type": "code",
        "outputId": "e9bd43ff-9de7-4b4f-de48-9e6cd60f66ed",
        "colab": {
          "base_uri": "https://localhost:8080/",
          "height": 374
        }
      },
      "source": [
        "df.emp_title.value_counts(dropna=False).head(20)"
      ],
      "execution_count": 157,
      "outputs": [
        {
          "output_type": "execute_result",
          "data": {
            "text/plain": [
              "unknown               20947\n",
              "teacher                2557\n",
              "manager                2395\n",
              "registered nurse       1418\n",
              "driver                 1258\n",
              "supervisor             1160\n",
              "truck driver            920\n",
              "rn                      834\n",
              "office manager          805\n",
              "sales                   803\n",
              "general manager         791\n",
              "project manager         720\n",
              "owner                   625\n",
              "director                523\n",
              "operations manager      518\n",
              "sales manager           500\n",
              "police officer          440\n",
              "nurse                   425\n",
              "technician              420\n",
              "engineer                412\n",
              "Name: emp_title, dtype: int64"
            ]
          },
          "metadata": {
            "tags": []
          },
          "execution_count": 157
        }
      ]
    },
    {
      "cell_type": "code",
      "metadata": {
        "id": "1BIRNGP8giSJ",
        "colab_type": "code",
        "colab": {}
      },
      "source": [
        "df['emp_title_manager']= df['emp_title'].str.contains('manager')"
      ],
      "execution_count": 0,
      "outputs": []
    },
    {
      "cell_type": "code",
      "metadata": {
        "id": "pfu2gP1qizd4",
        "colab_type": "code",
        "outputId": "26c9a850-0a74-4e4f-f4cc-0e81dafe8e33",
        "colab": {
          "base_uri": "https://localhost:8080/",
          "height": 1071
        }
      },
      "source": [
        "df['emp_title_manager']\n"
      ],
      "execution_count": 159,
      "outputs": [
        {
          "output_type": "execute_result",
          "data": {
            "text/plain": [
              "0         False\n",
              "1         False\n",
              "2         False\n",
              "3         False\n",
              "4         False\n",
              "5         False\n",
              "6         False\n",
              "7         False\n",
              "8          True\n",
              "9         False\n",
              "10        False\n",
              "11        False\n",
              "12        False\n",
              "13        False\n",
              "14        False\n",
              "15        False\n",
              "16        False\n",
              "17        False\n",
              "18         True\n",
              "19        False\n",
              "20        False\n",
              "21        False\n",
              "22        False\n",
              "23        False\n",
              "24        False\n",
              "25        False\n",
              "26        False\n",
              "27        False\n",
              "28        False\n",
              "29        False\n",
              "          ...  \n",
              "128382    False\n",
              "128383    False\n",
              "128384     True\n",
              "128385    False\n",
              "128386    False\n",
              "128387    False\n",
              "128388    False\n",
              "128389    False\n",
              "128390    False\n",
              "128391    False\n",
              "128392    False\n",
              "128393     True\n",
              "128394    False\n",
              "128395    False\n",
              "128396    False\n",
              "128397    False\n",
              "128398    False\n",
              "128399    False\n",
              "128400    False\n",
              "128401    False\n",
              "128402    False\n",
              "128403    False\n",
              "128404    False\n",
              "128405    False\n",
              "128406    False\n",
              "128407    False\n",
              "128408    False\n",
              "128409    False\n",
              "128410    False\n",
              "128411     True\n",
              "Name: emp_title_manager, Length: 128412, dtype: bool"
            ]
          },
          "metadata": {
            "tags": []
          },
          "execution_count": 159
        }
      ]
    },
    {
      "cell_type": "markdown",
      "metadata": {
        "colab_type": "text",
        "id": "s8BcCY6so3by"
      },
      "source": [
        "## Work with dates"
      ]
    },
    {
      "cell_type": "markdown",
      "metadata": {
        "id": "kDMZhW9oRyga",
        "colab_type": "text"
      },
      "source": [
        "pandas documentation\n",
        "- [to_datetime](https://pandas.pydata.org/pandas-docs/stable/generated/pandas.to_datetime.html)\n",
        "- [Time/Date Components](https://pandas.pydata.org/pandas-docs/stable/timeseries.html#time-date-components) \"You can access these properties via the `.dt` accessor\""
      ]
    },
    {
      "cell_type": "code",
      "metadata": {
        "colab_type": "code",
        "id": "kNrKxOTeo4W3",
        "colab": {}
      },
      "source": [
        ""
      ],
      "execution_count": 0,
      "outputs": []
    },
    {
      "cell_type": "markdown",
      "metadata": {
        "id": "LUuWs0aiRygf",
        "colab_type": "text"
      },
      "source": [
        "# ASSIGNMENT\n",
        "\n",
        "- Replicate the lesson code.\n",
        "\n",
        "- Convert the `term` column from string to integer.\n",
        "\n",
        "- Make a column named `loan_status_is_great`. It should contain the integer 1 if `loan_status` is \"Current\" or \"Fully Paid.\" Else it should contain the integer 0.\n",
        "\n",
        "- Make `last_pymnt_d_month` and `last_pymnt_d_year` columns."
      ]
    },
    {
      "cell_type": "code",
      "metadata": {
        "id": "n2THpqaTilpH",
        "colab_type": "code",
        "outputId": "e4029474-d741-4307-a136-ad33f933aedf",
        "colab": {
          "base_uri": "https://localhost:8080/",
          "height": 374
        }
      },
      "source": [
        "df.term.head(20)"
      ],
      "execution_count": 160,
      "outputs": [
        {
          "output_type": "execute_result",
          "data": {
            "text/plain": [
              "0      36 months\n",
              "1      36 months\n",
              "2      36 months\n",
              "3      36 months\n",
              "4      36 months\n",
              "5      60 months\n",
              "6      60 months\n",
              "7      60 months\n",
              "8      36 months\n",
              "9      60 months\n",
              "10     60 months\n",
              "11     60 months\n",
              "12     60 months\n",
              "13     60 months\n",
              "14     36 months\n",
              "15     36 months\n",
              "16     36 months\n",
              "17     60 months\n",
              "18     60 months\n",
              "19     60 months\n",
              "Name: term, dtype: object"
            ]
          },
          "metadata": {
            "tags": []
          },
          "execution_count": 160
        }
      ]
    },
    {
      "cell_type": "code",
      "metadata": {
        "id": "Rz_3K0_kkBwA",
        "colab_type": "code",
        "colab": {}
      },
      "source": [
        "def strip_months(m_str):\n",
        "    return int(m_str.strip(' months'))"
      ],
      "execution_count": 0,
      "outputs": []
    },
    {
      "cell_type": "code",
      "metadata": {
        "id": "addBRu2pnt-1",
        "colab_type": "code",
        "outputId": "e6d1151b-3e49-415f-924a-ed10be8d33f1",
        "colab": {
          "base_uri": "https://localhost:8080/",
          "height": 204
        }
      },
      "source": [
        "df.term.apply(strip_months).head(n=10)"
      ],
      "execution_count": 162,
      "outputs": [
        {
          "output_type": "execute_result",
          "data": {
            "text/plain": [
              "0    36\n",
              "1    36\n",
              "2    36\n",
              "3    36\n",
              "4    36\n",
              "5    60\n",
              "6    60\n",
              "7    60\n",
              "8    36\n",
              "9    60\n",
              "Name: term, dtype: int64"
            ]
          },
          "metadata": {
            "tags": []
          },
          "execution_count": 162
        }
      ]
    },
    {
      "cell_type": "code",
      "metadata": {
        "id": "YvuE1j4guWRm",
        "colab_type": "code",
        "colab": {
          "base_uri": "https://localhost:8080/",
          "height": 153
        },
        "outputId": "b48ab343-dda8-43f3-babb-1022f32edb5f"
      },
      "source": [
        "df.columns\n"
      ],
      "execution_count": 163,
      "outputs": [
        {
          "output_type": "execute_result",
          "data": {
            "text/plain": [
              "Index(['id', 'member_id', 'loan_amnt', 'funded_amnt', 'funded_amnt_inv',\n",
              "       'term', 'int_rate', 'installment', 'grade', 'sub_grade',\n",
              "       ...\n",
              "       'hardship_payoff_balance_amount', 'hardship_last_payment_amount',\n",
              "       'debt_settlement_flag', 'debt_settlement_flag_date',\n",
              "       'settlement_status', 'settlement_date', 'settlement_amount',\n",
              "       'settlement_percentage', 'settlement_term', 'emp_title_manager'],\n",
              "      dtype='object', length=145)"
            ]
          },
          "metadata": {
            "tags": []
          },
          "execution_count": 163
        }
      ]
    },
    {
      "cell_type": "code",
      "metadata": {
        "id": "NvthXFktu7yI",
        "colab_type": "code",
        "colab": {
          "base_uri": "https://localhost:8080/",
          "height": 1071
        },
        "outputId": "6cf009e2-5810-4ee8-80e3-1ce4f062a196"
      },
      "source": [
        "df['loan_status']"
      ],
      "execution_count": 164,
      "outputs": [
        {
          "output_type": "execute_result",
          "data": {
            "text/plain": [
              "0                   Current\n",
              "1                   Current\n",
              "2                   Current\n",
              "3                   Current\n",
              "4                   Current\n",
              "5                   Current\n",
              "6                   Current\n",
              "7                   Current\n",
              "8                   Current\n",
              "9                   Current\n",
              "10                  Current\n",
              "11                  Current\n",
              "12                  Current\n",
              "13                  Current\n",
              "14                  Current\n",
              "15                  Current\n",
              "16                  Current\n",
              "17                  Current\n",
              "18                  Current\n",
              "19                  Current\n",
              "20                  Current\n",
              "21                  Current\n",
              "22                  Current\n",
              "23                  Current\n",
              "24                  Current\n",
              "25                  Current\n",
              "26                  Current\n",
              "27                  Current\n",
              "28                  Current\n",
              "29                  Current\n",
              "                ...        \n",
              "128382              Current\n",
              "128383              Current\n",
              "128384              Current\n",
              "128385              Current\n",
              "128386              Current\n",
              "128387              Current\n",
              "128388              Current\n",
              "128389              Current\n",
              "128390           Fully Paid\n",
              "128391              Current\n",
              "128392              Current\n",
              "128393              Current\n",
              "128394    Late (16-30 days)\n",
              "128395              Current\n",
              "128396              Current\n",
              "128397              Current\n",
              "128398              Current\n",
              "128399              Current\n",
              "128400              Current\n",
              "128401              Current\n",
              "128402              Current\n",
              "128403              Current\n",
              "128404              Current\n",
              "128405              Current\n",
              "128406              Current\n",
              "128407          Charged Off\n",
              "128408              Current\n",
              "128409              Current\n",
              "128410              Current\n",
              "128411              Current\n",
              "Name: loan_status, Length: 128412, dtype: object"
            ]
          },
          "metadata": {
            "tags": []
          },
          "execution_count": 164
        }
      ]
    },
    {
      "cell_type": "code",
      "metadata": {
        "id": "lFD4SUlyve4T",
        "colab_type": "code",
        "colab": {}
      },
      "source": [
        "def loan_stat(stat):\n",
        "    if stat == 'Current' or stat == 'Fully Paid':\n",
        "        return 1 \n",
        "    else:\n",
        "        return 0 \n",
        " "
      ],
      "execution_count": 0,
      "outputs": []
    },
    {
      "cell_type": "code",
      "metadata": {
        "id": "NberRobQt0tq",
        "colab_type": "code",
        "colab": {}
      },
      "source": [
        "#Make a column named loan_status_is_great. It should contain the integer 1 if loan_status is \"Current\" or \"Fully Paid.\"\n",
        "#Else it should contain the integer 0.\n",
        "\n",
        "df['loan_status_is_great'] = df['loan_status'].apply(loan_stat)"
      ],
      "execution_count": 0,
      "outputs": []
    },
    {
      "cell_type": "code",
      "metadata": {
        "id": "O33wwEDIx6g2",
        "colab_type": "code",
        "colab": {
          "base_uri": "https://localhost:8080/",
          "height": 1071
        },
        "outputId": "0a23a81a-7854-4deb-e2d9-6a1fc33cc362"
      },
      "source": [
        "df['loan_status_is_great']"
      ],
      "execution_count": 167,
      "outputs": [
        {
          "output_type": "execute_result",
          "data": {
            "text/plain": [
              "0         1\n",
              "1         1\n",
              "2         1\n",
              "3         1\n",
              "4         1\n",
              "5         1\n",
              "6         1\n",
              "7         1\n",
              "8         1\n",
              "9         1\n",
              "10        1\n",
              "11        1\n",
              "12        1\n",
              "13        1\n",
              "14        1\n",
              "15        1\n",
              "16        1\n",
              "17        1\n",
              "18        1\n",
              "19        1\n",
              "20        1\n",
              "21        1\n",
              "22        1\n",
              "23        1\n",
              "24        1\n",
              "25        1\n",
              "26        1\n",
              "27        1\n",
              "28        1\n",
              "29        1\n",
              "         ..\n",
              "128382    1\n",
              "128383    1\n",
              "128384    1\n",
              "128385    1\n",
              "128386    1\n",
              "128387    1\n",
              "128388    1\n",
              "128389    1\n",
              "128390    1\n",
              "128391    1\n",
              "128392    1\n",
              "128393    1\n",
              "128394    0\n",
              "128395    1\n",
              "128396    1\n",
              "128397    1\n",
              "128398    1\n",
              "128399    1\n",
              "128400    1\n",
              "128401    1\n",
              "128402    1\n",
              "128403    1\n",
              "128404    1\n",
              "128405    1\n",
              "128406    1\n",
              "128407    0\n",
              "128408    1\n",
              "128409    1\n",
              "128410    1\n",
              "128411    1\n",
              "Name: loan_status_is_great, Length: 128412, dtype: int64"
            ]
          },
          "metadata": {
            "tags": []
          },
          "execution_count": 167
        }
      ]
    },
    {
      "cell_type": "code",
      "metadata": {
        "id": "g8y-Ij6iyEHM",
        "colab_type": "code",
        "colab": {
          "base_uri": "https://localhost:8080/",
          "height": 34
        },
        "outputId": "c9047c3c-7c77-4f4f-f865-aeeeb61327b0"
      },
      "source": [
        "df['loan_status_is_great'][128407]"
      ],
      "execution_count": 168,
      "outputs": [
        {
          "output_type": "execute_result",
          "data": {
            "text/plain": [
              "0"
            ]
          },
          "metadata": {
            "tags": []
          },
          "execution_count": 168
        }
      ]
    },
    {
      "cell_type": "code",
      "metadata": {
        "id": "fim8rk8yz4ft",
        "colab_type": "code",
        "colab": {
          "base_uri": "https://localhost:8080/",
          "height": 34
        },
        "outputId": "e4e031bf-4299-44bc-cb26-a3942de4d122"
      },
      "source": [
        "df['loan_status'].dtype"
      ],
      "execution_count": 169,
      "outputs": [
        {
          "output_type": "execute_result",
          "data": {
            "text/plain": [
              "dtype('O')"
            ]
          },
          "metadata": {
            "tags": []
          },
          "execution_count": 169
        }
      ]
    },
    {
      "cell_type": "code",
      "metadata": {
        "id": "xV6CjmT0P1gs",
        "colab_type": "code",
        "colab": {}
      },
      "source": [
        "df['loan_status_is_great'] = df.loan_status.apply(loan_stat)"
      ],
      "execution_count": 0,
      "outputs": []
    },
    {
      "cell_type": "code",
      "metadata": {
        "id": "_DXE5w5zQpv7",
        "colab_type": "code",
        "colab": {
          "base_uri": "https://localhost:8080/",
          "height": 1071
        },
        "outputId": "9f851893-f575-458b-bc0d-2d47f1e5f89d"
      },
      "source": [
        "df['loan_status_is_great']"
      ],
      "execution_count": 171,
      "outputs": [
        {
          "output_type": "execute_result",
          "data": {
            "text/plain": [
              "0         1\n",
              "1         1\n",
              "2         1\n",
              "3         1\n",
              "4         1\n",
              "5         1\n",
              "6         1\n",
              "7         1\n",
              "8         1\n",
              "9         1\n",
              "10        1\n",
              "11        1\n",
              "12        1\n",
              "13        1\n",
              "14        1\n",
              "15        1\n",
              "16        1\n",
              "17        1\n",
              "18        1\n",
              "19        1\n",
              "20        1\n",
              "21        1\n",
              "22        1\n",
              "23        1\n",
              "24        1\n",
              "25        1\n",
              "26        1\n",
              "27        1\n",
              "28        1\n",
              "29        1\n",
              "         ..\n",
              "128382    1\n",
              "128383    1\n",
              "128384    1\n",
              "128385    1\n",
              "128386    1\n",
              "128387    1\n",
              "128388    1\n",
              "128389    1\n",
              "128390    1\n",
              "128391    1\n",
              "128392    1\n",
              "128393    1\n",
              "128394    0\n",
              "128395    1\n",
              "128396    1\n",
              "128397    1\n",
              "128398    1\n",
              "128399    1\n",
              "128400    1\n",
              "128401    1\n",
              "128402    1\n",
              "128403    1\n",
              "128404    1\n",
              "128405    1\n",
              "128406    1\n",
              "128407    0\n",
              "128408    1\n",
              "128409    1\n",
              "128410    1\n",
              "128411    1\n",
              "Name: loan_status_is_great, Length: 128412, dtype: int64"
            ]
          },
          "metadata": {
            "tags": []
          },
          "execution_count": 171
        }
      ]
    },
    {
      "cell_type": "code",
      "metadata": {
        "id": "RlkeBbOjR6jh",
        "colab_type": "code",
        "colab": {
          "base_uri": "https://localhost:8080/",
          "height": 153
        },
        "outputId": "ac6fb9d6-87fa-4fdb-db2c-1a2644012045"
      },
      "source": [
        "df.columns\n"
      ],
      "execution_count": 172,
      "outputs": [
        {
          "output_type": "execute_result",
          "data": {
            "text/plain": [
              "Index(['id', 'member_id', 'loan_amnt', 'funded_amnt', 'funded_amnt_inv',\n",
              "       'term', 'int_rate', 'installment', 'grade', 'sub_grade',\n",
              "       ...\n",
              "       'hardship_last_payment_amount', 'debt_settlement_flag',\n",
              "       'debt_settlement_flag_date', 'settlement_status', 'settlement_date',\n",
              "       'settlement_amount', 'settlement_percentage', 'settlement_term',\n",
              "       'emp_title_manager', 'loan_status_is_great'],\n",
              "      dtype='object', length=146)"
            ]
          },
          "metadata": {
            "tags": []
          },
          "execution_count": 172
        }
      ]
    },
    {
      "cell_type": "code",
      "metadata": {
        "id": "0h3EVumcSju6",
        "colab_type": "code",
        "colab": {}
      },
      "source": [
        "pd.set_option('display.max_columns', None)"
      ],
      "execution_count": 0,
      "outputs": []
    },
    {
      "cell_type": "code",
      "metadata": {
        "id": "Fqu3OPA_SoU-",
        "colab_type": "code",
        "colab": {
          "base_uri": "https://localhost:8080/",
          "height": 1071
        },
        "outputId": "977e5bef-46e5-4ab3-950a-5b924902b751"
      },
      "source": [
        "\n",
        "df['issue_d']"
      ],
      "execution_count": 174,
      "outputs": [
        {
          "output_type": "execute_result",
          "data": {
            "text/plain": [
              "0         Dec-2018\n",
              "1         Dec-2018\n",
              "2         Dec-2018\n",
              "3         Dec-2018\n",
              "4         Dec-2018\n",
              "5         Dec-2018\n",
              "6         Dec-2018\n",
              "7         Dec-2018\n",
              "8         Dec-2018\n",
              "9         Dec-2018\n",
              "10        Dec-2018\n",
              "11        Dec-2018\n",
              "12        Dec-2018\n",
              "13        Dec-2018\n",
              "14        Dec-2018\n",
              "15        Dec-2018\n",
              "16        Dec-2018\n",
              "17        Dec-2018\n",
              "18        Dec-2018\n",
              "19        Dec-2018\n",
              "20        Dec-2018\n",
              "21        Dec-2018\n",
              "22        Dec-2018\n",
              "23        Dec-2018\n",
              "24        Dec-2018\n",
              "25        Dec-2018\n",
              "26        Dec-2018\n",
              "27        Dec-2018\n",
              "28        Dec-2018\n",
              "29        Dec-2018\n",
              "            ...   \n",
              "128382    Oct-2018\n",
              "128383    Oct-2018\n",
              "128384    Oct-2018\n",
              "128385    Oct-2018\n",
              "128386    Oct-2018\n",
              "128387    Oct-2018\n",
              "128388    Oct-2018\n",
              "128389    Oct-2018\n",
              "128390    Oct-2018\n",
              "128391    Oct-2018\n",
              "128392    Oct-2018\n",
              "128393    Oct-2018\n",
              "128394    Oct-2018\n",
              "128395    Oct-2018\n",
              "128396    Oct-2018\n",
              "128397    Oct-2018\n",
              "128398    Oct-2018\n",
              "128399    Oct-2018\n",
              "128400    Oct-2018\n",
              "128401    Oct-2018\n",
              "128402    Oct-2018\n",
              "128403    Oct-2018\n",
              "128404    Oct-2018\n",
              "128405    Oct-2018\n",
              "128406    Oct-2018\n",
              "128407    Oct-2018\n",
              "128408    Oct-2018\n",
              "128409    Oct-2018\n",
              "128410    Oct-2018\n",
              "128411    Oct-2018\n",
              "Name: issue_d, Length: 128412, dtype: object"
            ]
          },
          "metadata": {
            "tags": []
          },
          "execution_count": 174
        }
      ]
    },
    {
      "cell_type": "code",
      "metadata": {
        "id": "5V-7hg8qVFlp",
        "colab_type": "code",
        "colab": {
          "base_uri": "https://localhost:8080/",
          "height": 1071
        },
        "outputId": "4b4d4d59-c9dc-4957-d43c-ca4f7153027d"
      },
      "source": [
        "df['term']"
      ],
      "execution_count": 175,
      "outputs": [
        {
          "output_type": "execute_result",
          "data": {
            "text/plain": [
              "0          36 months\n",
              "1          36 months\n",
              "2          36 months\n",
              "3          36 months\n",
              "4          36 months\n",
              "5          60 months\n",
              "6          60 months\n",
              "7          60 months\n",
              "8          36 months\n",
              "9          60 months\n",
              "10         60 months\n",
              "11         60 months\n",
              "12         60 months\n",
              "13         60 months\n",
              "14         36 months\n",
              "15         36 months\n",
              "16         36 months\n",
              "17         60 months\n",
              "18         60 months\n",
              "19         60 months\n",
              "20         36 months\n",
              "21         36 months\n",
              "22         36 months\n",
              "23         36 months\n",
              "24         60 months\n",
              "25         60 months\n",
              "26         36 months\n",
              "27         36 months\n",
              "28         36 months\n",
              "29         60 months\n",
              "             ...    \n",
              "128382     60 months\n",
              "128383     36 months\n",
              "128384     36 months\n",
              "128385     36 months\n",
              "128386     36 months\n",
              "128387     60 months\n",
              "128388     36 months\n",
              "128389     36 months\n",
              "128390     36 months\n",
              "128391     36 months\n",
              "128392     36 months\n",
              "128393     36 months\n",
              "128394     36 months\n",
              "128395     36 months\n",
              "128396     60 months\n",
              "128397     60 months\n",
              "128398     60 months\n",
              "128399     36 months\n",
              "128400     60 months\n",
              "128401     36 months\n",
              "128402     60 months\n",
              "128403     36 months\n",
              "128404     60 months\n",
              "128405     36 months\n",
              "128406     36 months\n",
              "128407     36 months\n",
              "128408     36 months\n",
              "128409     36 months\n",
              "128410     36 months\n",
              "128411     36 months\n",
              "Name: term, Length: 128412, dtype: object"
            ]
          },
          "metadata": {
            "tags": []
          },
          "execution_count": 175
        }
      ]
    },
    {
      "cell_type": "markdown",
      "metadata": {
        "colab_type": "text",
        "id": "L8k0LiHmo5EU"
      },
      "source": [
        "# STRETCH OPTIONS\n",
        "\n",
        "You can do more with the LendingClub or Instacart datasets.\n",
        "\n",
        "LendingClub options:\n",
        "- There's one other column in the dataframe with percent signs. Remove them and convert to floats. You'll need to handle missing values.\n",
        "- Modify the `emp_title` column to replace titles with 'Other' if the title is not in the top 20. \n",
        "- Take initiatve and work on your own ideas!\n",
        "\n",
        "Instacart options:\n",
        "- Read [Instacart Market Basket Analysis, Winner's Interview: 2nd place, Kazuki Onodera](http://blog.kaggle.com/2017/09/21/instacart-market-basket-analysis-winners-interview-2nd-place-kazuki-onodera/), especially the **Feature Engineering** section. (Can you choose one feature from his bulleted lists, and try to engineer it with pandas code?)\n",
        "- Read and replicate parts of [Simple Exploration Notebook - Instacart](https://www.kaggle.com/sudalairajkumar/simple-exploration-notebook-instacart). (It's the Python Notebook with the most upvotes for this Kaggle competition.)\n",
        "- Take initiative and work on your own ideas!"
      ]
    },
    {
      "cell_type": "markdown",
      "metadata": {
        "colab_type": "text",
        "id": "0_7PXF7lpEXg"
      },
      "source": [
        "You can uncomment and run the cells below to re-download and extract the Instacart data"
      ]
    },
    {
      "cell_type": "code",
      "metadata": {
        "id": "VGNDUht7RyhA",
        "colab_type": "code",
        "colab": {}
      },
      "source": [
        "# !wget https://s3.amazonaws.com/instacart-datasets/instacart_online_grocery_shopping_2017_05_01.tar.gz"
      ],
      "execution_count": 0,
      "outputs": []
    },
    {
      "cell_type": "code",
      "metadata": {
        "id": "07_hGg2cRyhD",
        "colab_type": "code",
        "colab": {}
      },
      "source": [
        "# !tar --gunzip --extract --verbose --file=instacart_online_grocery_shopping_2017_05_01.tar.gz"
      ],
      "execution_count": 0,
      "outputs": []
    },
    {
      "cell_type": "code",
      "metadata": {
        "id": "c-Br1TSPRyhG",
        "colab_type": "code",
        "colab": {}
      },
      "source": [
        "# %cd instacart_2017_05_01"
      ],
      "execution_count": 0,
      "outputs": []
    }
  ]
}