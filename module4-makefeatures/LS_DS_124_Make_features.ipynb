{
  "nbformat": 4,
  "nbformat_minor": 0,
  "metadata": {
    "colab": {
      "name": "LS_DS_124_Make_features.ipynb",
      "version": "0.3.2",
      "provenance": [],
      "collapsed_sections": []
    },
    "kernelspec": {
      "display_name": "Python 3",
      "language": "python",
      "name": "python3"
    },
    "language_info": {
      "codemirror_mode": {
        "name": "ipython",
        "version": 3
      },
      "file_extension": ".py",
      "mimetype": "text/x-python",
      "name": "python",
      "nbconvert_exporter": "python",
      "pygments_lexer": "ipython3",
      "version": "3.7.1"
    }
  },
  "cells": [
    {
      "cell_type": "markdown",
      "metadata": {
        "colab_type": "text",
        "id": "qacqiXogluN_"
      },
      "source": [
        "_Lambda School Data Science_\n",
        "\n",
        "# Make features\n",
        "\n",
        "Objectives\n",
        "-  understand the purpose of feature engineering\n",
        "-  work with strings in pandas\n",
        "- work with dates and times in pandas\n",
        "\n",
        "Links\n",
        "- [Feature Engineering](https://en.wikipedia.org/wiki/Feature_engineering)\n",
        "- Python Data Science Handbook\n",
        "  - [Chapter 3.10](https://jakevdp.github.io/PythonDataScienceHandbook/03.10-working-with-strings.html), Vectorized String Operations\n",
        "  - [Chapter 3.11](https://jakevdp.github.io/PythonDataScienceHandbook/03.11-working-with-time-series.html), Working with Time Series"
      ]
    },
    {
      "cell_type": "markdown",
      "metadata": {
        "colab_type": "text",
        "id": "iSGiSktAoWIx"
      },
      "source": [
        "## Get LendingClub data\n",
        "\n",
        "[Source](https://www.lendingclub.com/info/download-data.action)"
      ]
    },
    {
      "cell_type": "code",
      "metadata": {
        "colab_type": "code",
        "id": "2ugxlWXimoHn",
        "outputId": "78006716-8087-49c4-bba7-c3edeea08db2",
        "colab": {
          "base_uri": "https://localhost:8080/",
          "height": 223
        }
      },
      "source": [
        "!wget https://resources.lendingclub.com/LoanStats_2018Q4.csv.zip"
      ],
      "execution_count": 55,
      "outputs": [
        {
          "output_type": "stream",
          "text": [
            "--2019-07-18 20:48:50--  https://resources.lendingclub.com/LoanStats_2018Q4.csv.zip\n",
            "Resolving resources.lendingclub.com (resources.lendingclub.com)... 64.48.1.20\n",
            "Connecting to resources.lendingclub.com (resources.lendingclub.com)|64.48.1.20|:443... connected.\n",
            "HTTP request sent, awaiting response... 200 OK\n",
            "Length: unspecified [application/zip]\n",
            "Saving to: ‘LoanStats_2018Q4.csv.zip.3’\n",
            "\n",
            "LoanStats_2018Q4.cs     [                <=> ]  21.51M   812KB/s    in 28s     \n",
            "\n",
            "2019-07-18 20:49:19 (796 KB/s) - ‘LoanStats_2018Q4.csv.zip.3’ saved [22559146]\n",
            "\n"
          ],
          "name": "stdout"
        }
      ]
    },
    {
      "cell_type": "code",
      "metadata": {
        "colab_type": "code",
        "id": "-4sk6qPgmpmN",
        "outputId": "b23b6ee6-41ef-42c9-b06a-2f4650306182",
        "colab": {
          "base_uri": "https://localhost:8080/",
          "height": 54
        }
      },
      "source": [
        "!unzip LoanStats_2018Q4.csv.zip"
      ],
      "execution_count": 56,
      "outputs": [
        {
          "output_type": "stream",
          "text": [
            "Archive:  LoanStats_2018Q4.csv.zip\n",
            "replace LoanStats_2018Q4.csv? [y]es, [n]o, [A]ll, [N]one, [r]ename: /bin/bash: y: command not found\n"
          ],
          "name": "stdout"
        }
      ]
    },
    {
      "cell_type": "code",
      "metadata": {
        "colab_type": "code",
        "id": "seh5oNE1nD0X",
        "outputId": "e3219539-3042-4c82-ae6a-ee7327525a8a",
        "colab": {
          "base_uri": "https://localhost:8080/",
          "height": 224
        }
      },
      "source": [
        "!head LoanStats_2018Q4.csv"
      ],
      "execution_count": 57,
      "outputs": [
        {
          "output_type": "stream",
          "text": [
            "Notes offered by Prospectus (https://www.lendingclub.com/info/prospectus.action)\n",
            "\"id\",\"member_id\",\"loan_amnt\",\"funded_amnt\",\"funded_amnt_inv\",\"term\",\"int_rate\",\"installment\",\"grade\",\"sub_grade\",\"emp_title\",\"emp_length\",\"home_ownership\",\"annual_inc\",\"verification_status\",\"issue_d\",\"loan_status\",\"pymnt_plan\",\"url\",\"desc\",\"purpose\",\"title\",\"zip_code\",\"addr_state\",\"dti\",\"delinq_2yrs\",\"earliest_cr_line\",\"inq_last_6mths\",\"mths_since_last_delinq\",\"mths_since_last_record\",\"open_acc\",\"pub_rec\",\"revol_bal\",\"revol_util\",\"total_acc\",\"initial_list_status\",\"out_prncp\",\"out_prncp_inv\",\"total_pymnt\",\"total_pymnt_inv\",\"total_rec_prncp\",\"total_rec_int\",\"total_rec_late_fee\",\"recoveries\",\"collection_recovery_fee\",\"last_pymnt_d\",\"last_pymnt_amnt\",\"next_pymnt_d\",\"last_credit_pull_d\",\"collections_12_mths_ex_med\",\"mths_since_last_major_derog\",\"policy_code\",\"application_type\",\"annual_inc_joint\",\"dti_joint\",\"verification_status_joint\",\"acc_now_delinq\",\"tot_coll_amt\",\"tot_cur_bal\",\"open_acc_6m\",\"open_act_il\",\"open_il_12m\",\"open_il_24m\",\"mths_since_rcnt_il\",\"total_bal_il\",\"il_util\",\"open_rv_12m\",\"open_rv_24m\",\"max_bal_bc\",\"all_util\",\"total_rev_hi_lim\",\"inq_fi\",\"total_cu_tl\",\"inq_last_12m\",\"acc_open_past_24mths\",\"avg_cur_bal\",\"bc_open_to_buy\",\"bc_util\",\"chargeoff_within_12_mths\",\"delinq_amnt\",\"mo_sin_old_il_acct\",\"mo_sin_old_rev_tl_op\",\"mo_sin_rcnt_rev_tl_op\",\"mo_sin_rcnt_tl\",\"mort_acc\",\"mths_since_recent_bc\",\"mths_since_recent_bc_dlq\",\"mths_since_recent_inq\",\"mths_since_recent_revol_delinq\",\"num_accts_ever_120_pd\",\"num_actv_bc_tl\",\"num_actv_rev_tl\",\"num_bc_sats\",\"num_bc_tl\",\"num_il_tl\",\"num_op_rev_tl\",\"num_rev_accts\",\"num_rev_tl_bal_gt_0\",\"num_sats\",\"num_tl_120dpd_2m\",\"num_tl_30dpd\",\"num_tl_90g_dpd_24m\",\"num_tl_op_past_12m\",\"pct_tl_nvr_dlq\",\"percent_bc_gt_75\",\"pub_rec_bankruptcies\",\"tax_liens\",\"tot_hi_cred_lim\",\"total_bal_ex_mort\",\"total_bc_limit\",\"total_il_high_credit_limit\",\"revol_bal_joint\",\"sec_app_earliest_cr_line\",\"sec_app_inq_last_6mths\",\"sec_app_mort_acc\",\"sec_app_open_acc\",\"sec_app_revol_util\",\"sec_app_open_act_il\",\"sec_app_num_rev_accts\",\"sec_app_chargeoff_within_12_mths\",\"sec_app_collections_12_mths_ex_med\",\"sec_app_mths_since_last_major_derog\",\"hardship_flag\",\"hardship_type\",\"hardship_reason\",\"hardship_status\",\"deferral_term\",\"hardship_amount\",\"hardship_start_date\",\"hardship_end_date\",\"payment_plan_start_date\",\"hardship_length\",\"hardship_dpd\",\"hardship_loan_status\",\"orig_projected_additional_accrued_interest\",\"hardship_payoff_balance_amount\",\"hardship_last_payment_amount\",\"debt_settlement_flag\",\"debt_settlement_flag_date\",\"settlement_status\",\"settlement_date\",\"settlement_amount\",\"settlement_percentage\",\"settlement_term\"\n",
            "\"\",\"\",\"5000\",\"5000\",\"5000\",\" 36 months\",\" 17.97%\",\"180.69\",\"D\",\"D1\",\"Administrative\",\"6 years\",\"MORTGAGE\",\"59280\",\"Source Verified\",\"Dec-2018\",\"Current\",\"n\",\"\",\"\",\"debt_consolidation\",\"Debt consolidation\",\"490xx\",\"MI\",\"10.51\",\"0\",\"Apr-2011\",\"0\",\"\",\"\",\"8\",\"0\",\"4599\",\"19.1%\",\"13\",\"w\",\"4456.17\",\"4456.17\",\"895.96\",\"895.96\",\"543.83\",\"352.13\",\"0.0\",\"0.0\",\"0.0\",\"Jun-2019\",\"180.69\",\"Jul-2019\",\"Jun-2019\",\"0\",\"\",\"1\",\"Individual\",\"\",\"\",\"\",\"0\",\"0\",\"110299\",\"0\",\"1\",\"0\",\"2\",\"14\",\"7150\",\"72\",\"0\",\"2\",\"0\",\"35\",\"24100\",\"1\",\"5\",\"0\",\"4\",\"18383\",\"13800\",\"0\",\"0\",\"0\",\"87\",\"92\",\"15\",\"14\",\"2\",\"77\",\"\",\"14\",\"\",\"0\",\"0\",\"3\",\"3\",\"3\",\"4\",\"6\",\"7\",\"3\",\"8\",\"0\",\"0\",\"0\",\"0\",\"100\",\"0\",\"0\",\"0\",\"136927\",\"11749\",\"13800\",\"10000\",\"\",\"\",\"\",\"\",\"\",\"\",\"\",\"\",\"\",\"\",\"\",\"N\",\"\",\"\",\"\",\"\",\"\",\"\",\"\",\"\",\"\",\"\",\"\",\"\",\"\",\"\",\"N\",\"\",\"\",\"\",\"\",\"\",\"\"\n",
            "\"\",\"\",\"25000\",\"25000\",\"25000\",\" 60 months\",\" 14.47%\",\"587.82\",\"C\",\"C2\",\"teacher\",\"10+ years\",\"OWN\",\"110000\",\"Not Verified\",\"Dec-2018\",\"Current\",\"n\",\"\",\"\",\"credit_card\",\"Credit card refinancing\",\"117xx\",\"NY\",\"26.43\",\"1\",\"Jan-1997\",\"0\",\"7\",\"\",\"23\",\"0\",\"39053\",\"45.7%\",\"49\",\"w\",\"23533.24\",\"23533.24\",\"2908.95\",\"2908.95\",\"1466.76\",\"1442.19\",\"0.0\",\"0.0\",\"0.0\",\"May-2019\",\"587.82\",\"Jul-2019\",\"Jun-2019\",\"0\",\"7\",\"1\",\"Individual\",\"\",\"\",\"\",\"0\",\"0\",\"95648\",\"0\",\"3\",\"0\",\"0\",\"35\",\"54716\",\"23\",\"1\",\"2\",\"8422\",\"39\",\"85500\",\"0\",\"1\",\"0\",\"2\",\"4159\",\"34837\",\"44.5\",\"0\",\"0\",\"263\",\"246\",\"10\",\"10\",\"0\",\"48\",\"\",\"\",\"\",\"0\",\"9\",\"13\",\"10\",\"14\",\"21\",\"19\",\"27\",\"13\",\"23\",\"0\",\"0\",\"1\",\"1\",\"98\",\"10\",\"0\",\"0\",\"179321\",\"95648\",\"62800\",\"91424\",\"\",\"\",\"\",\"\",\"\",\"\",\"\",\"\",\"\",\"\",\"\",\"N\",\"\",\"\",\"\",\"\",\"\",\"\",\"\",\"\",\"\",\"\",\"\",\"\",\"\",\"\",\"N\",\"\",\"\",\"\",\"\",\"\",\"\"\n",
            "\"\",\"\",\"10000\",\"10000\",\"10000\",\" 36 months\",\" 10.33%\",\"324.23\",\"B\",\"B1\",\"\",\"< 1 year\",\"MORTGAGE\",\"280000\",\"Not Verified\",\"Dec-2018\",\"Current\",\"n\",\"\",\"\",\"debt_consolidation\",\"Debt consolidation\",\"974xx\",\"OR\",\"6.15\",\"2\",\"Jan-1996\",\"0\",\"18\",\"\",\"14\",\"0\",\"9082\",\"38%\",\"23\",\"w\",\"8788.59\",\"8788.59\",\"1612.54\",\"1612.54\",\"1211.41\",\"401.13\",\"0.0\",\"0.0\",\"0.0\",\"May-2019\",\"324.23\",\"Jul-2019\",\"Jun-2019\",\"0\",\"\",\"1\",\"Individual\",\"\",\"\",\"\",\"0\",\"671\",\"246828\",\"1\",\"3\",\"2\",\"3\",\"1\",\"48552\",\"62\",\"1\",\"3\",\"4923\",\"46\",\"23900\",\"2\",\"7\",\"1\",\"7\",\"17631\",\"11897\",\"43.1\",\"0\",\"0\",\"158\",\"275\",\"11\",\"1\",\"1\",\"11\",\"\",\"11\",\"\",\"0\",\"3\",\"4\",\"7\",\"7\",\"10\",\"9\",\"11\",\"4\",\"14\",\"0\",\"0\",\"0\",\"4\",\"91.3\",\"28.6\",\"0\",\"0\",\"367828\",\"61364\",\"20900\",\"54912\",\"\",\"\",\"\",\"\",\"\",\"\",\"\",\"\",\"\",\"\",\"\",\"N\",\"\",\"\",\"\",\"\",\"\",\"\",\"\",\"\",\"\",\"\",\"\",\"\",\"\",\"\",\"N\",\"\",\"\",\"\",\"\",\"\",\"\"\n",
            "\"\",\"\",\"4000\",\"4000\",\"4000\",\" 36 months\",\" 23.40%\",\"155.68\",\"E\",\"E1\",\"Security\",\"3 years\",\"RENT\",\"90000\",\"Source Verified\",\"Dec-2018\",\"Current\",\"n\",\"\",\"\",\"debt_consolidation\",\"Debt consolidation\",\"070xx\",\"NJ\",\"26.33\",\"0\",\"Sep-2006\",\"4\",\"59\",\"\",\"15\",\"0\",\"5199\",\"19.2%\",\"20\",\"w\",\"3596.15\",\"3596.15\",\"770.6\",\"770.60\",\"403.85\",\"366.75\",\"0.0\",\"0.0\",\"0.0\",\"May-2019\",\"155.68\",\"Jul-2019\",\"Jun-2019\",\"0\",\"\",\"1\",\"Individual\",\"\",\"\",\"\",\"0\",\"0\",\"66926\",\"5\",\"4\",\"3\",\"4\",\"5\",\"61727\",\"86\",\"6\",\"11\",\"1353\",\"68\",\"27100\",\"4\",\"0\",\"4\",\"15\",\"4462\",\"20174\",\"7.9\",\"0\",\"0\",\"147\",\"118\",\"2\",\"2\",\"0\",\"2\",\"\",\"0\",\"\",\"0\",\"5\",\"7\",\"9\",\"9\",\"8\",\"11\",\"12\",\"7\",\"15\",\"0\",\"0\",\"0\",\"9\",\"95\",\"0\",\"0\",\"0\",\"98655\",\"66926\",\"21900\",\"71555\",\"\",\"\",\"\",\"\",\"\",\"\",\"\",\"\",\"\",\"\",\"\",\"N\",\"\",\"\",\"\",\"\",\"\",\"\",\"\",\"\",\"\",\"\",\"\",\"\",\"\",\"\",\"N\",\"\",\"\",\"\",\"\",\"\",\"\"\n",
            "\"\",\"\",\"31450\",\"31450\",\"31450\",\" 36 months\",\"  7.56%\",\"979.16\",\"A\",\"A3\",\"Construction Manager\",\"7 years\",\"MORTGAGE\",\"130000\",\"Verified\",\"Dec-2018\",\"Current\",\"n\",\"\",\"\",\"debt_consolidation\",\"Debt consolidation\",\"895xx\",\"NV\",\"9.29\",\"0\",\"Jul-1997\",\"0\",\"\",\"\",\"11\",\"0\",\"65911\",\"63.1%\",\"17\",\"w\",\"26689.41\",\"26689.41\",\"5802.32\",\"5802.32\",\"4760.59\",\"1041.73\",\"0.0\",\"0.0\",\"0.0\",\"Jun-2019\",\"979.16\",\"Jul-2019\",\"Jun-2019\",\"0\",\"\",\"1\",\"Joint App\",\"239000\",\"12.77\",\"Verified\",\"0\",\"0\",\"422806\",\"0\",\"0\",\"0\",\"0\",\"75\",\"0\",\"\",\"0\",\"0\",\"18962\",\"63\",\"104400\",\"0\",\"2\",\"1\",\"0\",\"42281\",\"29007\",\"53.5\",\"0\",\"0\",\"89\",\"257\",\"28\",\"28\",\"3\",\"28\",\"\",\"11\",\"\",\"0\",\"4\",\"6\",\"6\",\"6\",\"2\",\"10\",\"12\",\"6\",\"11\",\"0\",\"0\",\"0\",\"0\",\"100\",\"33.3\",\"0\",\"0\",\"519900\",\"65911\",\"62400\",\"0\",\"64367\",\"Jul-1997\",\"0\",\"3\",\"14\",\"60.9\",\"1\",\"19\",\"0\",\"0\",\"\",\"N\",\"\",\"\",\"\",\"\",\"\",\"\",\"\",\"\",\"\",\"\",\"\",\"\",\"\",\"\",\"N\",\"\",\"\",\"\",\"\",\"\",\"\"\n",
            "\"\",\"\",\"15500\",\"15500\",\"15500\",\" 36 months\",\" 10.72%\",\"505.4\",\"B\",\"B2\",\"Administrative Assistant \",\"10+ years\",\"RENT\",\"52000\",\"Not Verified\",\"Dec-2018\",\"Current\",\"n\",\"\",\"\",\"credit_card\",\"Credit card refinancing\",\"925xx\",\"CA\",\"16.66\",\"0\",\"Oct-2007\",\"0\",\"\",\"\",\"13\",\"0\",\"13496\",\"33.9%\",\"16\",\"w\",\"13632.26\",\"13632.26\",\"2513.15\",\"2513.15\",\"1867.74\",\"645.41\",\"0.0\",\"0.0\",\"0.0\",\"May-2019\",\"505.4\",\"Jul-2019\",\"Jun-2019\",\"1\",\"\",\"1\",\"Individual\",\"\",\"\",\"\",\"0\",\"349\",\"19386\",\"1\",\"1\",\"0\",\"1\",\"15\",\"5890\",\"59\",\"3\",\"4\",\"6061\",\"39\",\"39800\",\"0\",\"2\",\"1\",\"5\",\"1491\",\"14251\",\"47.4\",\"0\",\"0\",\"60\",\"134\",\"6\",\"6\",\"0\",\"6\",\"\",\"11\",\"\",\"0\",\"6\",\"8\",\"7\",\"9\",\"2\",\"12\",\"14\",\"8\",\"13\",\"0\",\"0\",\"0\",\"3\",\"100\",\"0\",\"0\",\"0\",\"49742\",\"19386\",\"27100\",\"9942\",\"\",\"\",\"\",\"\",\"\",\"\",\"\",\"\",\"\",\"\",\"\",\"N\",\"\",\"\",\"\",\"\",\"\",\"\",\"\",\"\",\"\",\"\",\"\",\"\",\"\",\"\",\"N\",\"\",\"\",\"\",\"\",\"\",\"\"\n",
            "\"\",\"\",\"6000\",\"6000\",\"6000\",\" 36 months\",\" 14.47%\",\"206.44\",\"C\",\"C2\",\"\",\"< 1 year\",\"OWN\",\"300000\",\"Not Verified\",\"Dec-2018\",\"Current\",\"n\",\"\",\"\",\"debt_consolidation\",\"Debt consolidation\",\"068xx\",\"CT\",\"17.43\",\"1\",\"Apr-2002\",\"1\",\"17\",\"\",\"38\",\"0\",\"65950\",\"49.8%\",\"58\",\"w\",\"5313.18\",\"5313.18\",\"1024.96\",\"1024.96\",\"686.82\",\"338.14\",\"0.0\",\"0.0\",\"0.0\",\"May-2019\",\"206.44\",\"Jul-2019\",\"Jun-2019\",\"0\",\"\",\"1\",\"Individual\",\"\",\"\",\"\",\"0\",\"0\",\"349502\",\"1\",\"4\",\"1\",\"3\",\"7\",\"39961\",\"45\",\"1\",\"12\",\"15926\",\"48\",\"132500\",\"2\",\"2\",\"2\",\"15\",\"9197\",\"38683\",\"60.6\",\"0\",\"0\",\"166\",\"200\",\"4\",\"4\",\"1\",\"4\",\"\",\"4\",\"17\",\"0\",\"16\",\"20\",\"19\",\"26\",\"9\",\"33\",\"48\",\"20\",\"38\",\"0\",\"0\",\"0\",\"2\",\"100\",\"26.3\",\"0\",\"0\",\"477390\",\"105911\",\"98300\",\"89600\",\"\",\"\",\"\",\"\",\"\",\"\",\"\",\"\",\"\",\"\",\"\",\"N\",\"\",\"\",\"\",\"\",\"\",\"\",\"\",\"\",\"\",\"\",\"\",\"\",\"\",\"\",\"N\",\"\",\"\",\"\",\"\",\"\",\"\"\n",
            "\"\",\"\",\"6500\",\"6500\",\"6500\",\" 36 months\",\" 17.97%\",\"234.9\",\"D\",\"D1\",\"Quality Field Engineer\",\"4 years\",\"MORTGAGE\",\"154000\",\"Source Verified\",\"Dec-2018\",\"Current\",\"n\",\"\",\"\",\"debt_consolidation\",\"Debt consolidation\",\"278xx\",\"NC\",\"28.78\",\"2\",\"Oct-2008\",\"0\",\"6\",\"\",\"27\",\"0\",\"23754\",\"60.4%\",\"41\",\"w\",\"5791.28\",\"5791.28\",\"1164.77\",\"1164.77\",\"708.72\",\"456.05\",\"0.0\",\"0.0\",\"0.0\",\"May-2019\",\"234.9\",\"Jul-2019\",\"Jun-2019\",\"0\",\"6\",\"1\",\"Individual\",\"\",\"\",\"\",\"0\",\"0\",\"116747\",\"2\",\"8\",\"3\",\"5\",\"1\",\"92993\",\"78\",\"1\",\"6\",\"3943\",\"72\",\"39300\",\"3\",\"3\",\"3\",\"11\",\"4324\",\"4578\",\"62.8\",\"1\",\"0\",\"122\",\"74\",\"11\",\"1\",\"0\",\"13\",\"\",\"4\",\"\",\"1\",\"5\",\"19\",\"5\",\"8\",\"17\",\"19\",\"24\",\"19\",\"27\",\"0\",\"0\",\"1\",\"4\",\"90.2\",\"20\",\"0\",\"0\",\"169160\",\"116747\",\"12300\",\"129860\",\"\",\"\",\"\",\"\",\"\",\"\",\"\",\"\",\"\",\"\",\"\",\"N\",\"\",\"\",\"\",\"\",\"\",\"\",\"\",\"\",\"\",\"\",\"\",\"\",\"\",\"\",\"N\",\"\",\"\",\"\",\"\",\"\",\"\"\n"
          ],
          "name": "stdout"
        }
      ]
    },
    {
      "cell_type": "markdown",
      "metadata": {
        "colab_type": "text",
        "id": "3nAIRCZdofrY"
      },
      "source": [
        "## Load LendingClub data\n",
        "\n",
        "pandas documentation\n",
        "- [`read_csv`](https://pandas.pydata.org/pandas-docs/stable/generated/pandas.read_csv.html)\n",
        "- [`options.display`](https://pandas.pydata.org/pandas-docs/stable/options.html#available-options)"
      ]
    },
    {
      "cell_type": "code",
      "metadata": {
        "colab_type": "code",
        "id": "3-8Vn3y6ooBC",
        "outputId": "48a89192-6167-4848-c926-3e886744751f",
        "colab": {
          "base_uri": "https://localhost:8080/",
          "height": 74
        }
      },
      "source": [
        "import pandas as pd\n",
        "df = pd.read_csv('LoanStats_2018Q4.csv', header=1, skipfooter=2)"
      ],
      "execution_count": 58,
      "outputs": [
        {
          "output_type": "stream",
          "text": [
            "/usr/local/lib/python3.6/dist-packages/ipykernel_launcher.py:2: ParserWarning: Falling back to the 'python' engine because the 'c' engine does not support skipfooter; you can avoid this warning by specifying engine='python'.\n",
            "  \n"
          ],
          "name": "stderr"
        }
      ]
    },
    {
      "cell_type": "code",
      "metadata": {
        "id": "QsjfhrrLgJmk",
        "colab_type": "code",
        "outputId": "66e34bda-cab7-4940-d82d-87b9868a8974",
        "colab": {
          "base_uri": "https://localhost:8080/",
          "height": 361
        }
      },
      "source": [
        "print(df.shape)\n",
        "df.head()"
      ],
      "execution_count": 59,
      "outputs": [
        {
          "output_type": "stream",
          "text": [
            "(128412, 144)\n"
          ],
          "name": "stdout"
        },
        {
          "output_type": "execute_result",
          "data": {
            "text/html": [
              "<div>\n",
              "<style scoped>\n",
              "    .dataframe tbody tr th:only-of-type {\n",
              "        vertical-align: middle;\n",
              "    }\n",
              "\n",
              "    .dataframe tbody tr th {\n",
              "        vertical-align: top;\n",
              "    }\n",
              "\n",
              "    .dataframe thead th {\n",
              "        text-align: right;\n",
              "    }\n",
              "</style>\n",
              "<table border=\"1\" class=\"dataframe\">\n",
              "  <thead>\n",
              "    <tr style=\"text-align: right;\">\n",
              "      <th></th>\n",
              "      <th>id</th>\n",
              "      <th>member_id</th>\n",
              "      <th>loan_amnt</th>\n",
              "      <th>funded_amnt</th>\n",
              "      <th>funded_amnt_inv</th>\n",
              "      <th>term</th>\n",
              "      <th>int_rate</th>\n",
              "      <th>installment</th>\n",
              "      <th>grade</th>\n",
              "      <th>sub_grade</th>\n",
              "      <th>emp_title</th>\n",
              "      <th>emp_length</th>\n",
              "      <th>home_ownership</th>\n",
              "      <th>annual_inc</th>\n",
              "      <th>verification_status</th>\n",
              "      <th>issue_d</th>\n",
              "      <th>loan_status</th>\n",
              "      <th>pymnt_plan</th>\n",
              "      <th>url</th>\n",
              "      <th>desc</th>\n",
              "      <th>purpose</th>\n",
              "      <th>title</th>\n",
              "      <th>zip_code</th>\n",
              "      <th>addr_state</th>\n",
              "      <th>dti</th>\n",
              "      <th>delinq_2yrs</th>\n",
              "      <th>earliest_cr_line</th>\n",
              "      <th>inq_last_6mths</th>\n",
              "      <th>mths_since_last_delinq</th>\n",
              "      <th>mths_since_last_record</th>\n",
              "      <th>open_acc</th>\n",
              "      <th>pub_rec</th>\n",
              "      <th>revol_bal</th>\n",
              "      <th>revol_util</th>\n",
              "      <th>total_acc</th>\n",
              "      <th>initial_list_status</th>\n",
              "      <th>out_prncp</th>\n",
              "      <th>out_prncp_inv</th>\n",
              "      <th>total_pymnt</th>\n",
              "      <th>total_pymnt_inv</th>\n",
              "      <th>...</th>\n",
              "      <th>percent_bc_gt_75</th>\n",
              "      <th>pub_rec_bankruptcies</th>\n",
              "      <th>tax_liens</th>\n",
              "      <th>tot_hi_cred_lim</th>\n",
              "      <th>total_bal_ex_mort</th>\n",
              "      <th>total_bc_limit</th>\n",
              "      <th>total_il_high_credit_limit</th>\n",
              "      <th>revol_bal_joint</th>\n",
              "      <th>sec_app_earliest_cr_line</th>\n",
              "      <th>sec_app_inq_last_6mths</th>\n",
              "      <th>sec_app_mort_acc</th>\n",
              "      <th>sec_app_open_acc</th>\n",
              "      <th>sec_app_revol_util</th>\n",
              "      <th>sec_app_open_act_il</th>\n",
              "      <th>sec_app_num_rev_accts</th>\n",
              "      <th>sec_app_chargeoff_within_12_mths</th>\n",
              "      <th>sec_app_collections_12_mths_ex_med</th>\n",
              "      <th>sec_app_mths_since_last_major_derog</th>\n",
              "      <th>hardship_flag</th>\n",
              "      <th>hardship_type</th>\n",
              "      <th>hardship_reason</th>\n",
              "      <th>hardship_status</th>\n",
              "      <th>deferral_term</th>\n",
              "      <th>hardship_amount</th>\n",
              "      <th>hardship_start_date</th>\n",
              "      <th>hardship_end_date</th>\n",
              "      <th>payment_plan_start_date</th>\n",
              "      <th>hardship_length</th>\n",
              "      <th>hardship_dpd</th>\n",
              "      <th>hardship_loan_status</th>\n",
              "      <th>orig_projected_additional_accrued_interest</th>\n",
              "      <th>hardship_payoff_balance_amount</th>\n",
              "      <th>hardship_last_payment_amount</th>\n",
              "      <th>debt_settlement_flag</th>\n",
              "      <th>debt_settlement_flag_date</th>\n",
              "      <th>settlement_status</th>\n",
              "      <th>settlement_date</th>\n",
              "      <th>settlement_amount</th>\n",
              "      <th>settlement_percentage</th>\n",
              "      <th>settlement_term</th>\n",
              "    </tr>\n",
              "  </thead>\n",
              "  <tbody>\n",
              "    <tr>\n",
              "      <th>0</th>\n",
              "      <td>NaN</td>\n",
              "      <td>NaN</td>\n",
              "      <td>5000</td>\n",
              "      <td>5000</td>\n",
              "      <td>5000.0</td>\n",
              "      <td>36 months</td>\n",
              "      <td>17.97%</td>\n",
              "      <td>180.69</td>\n",
              "      <td>D</td>\n",
              "      <td>D1</td>\n",
              "      <td>Administrative</td>\n",
              "      <td>6 years</td>\n",
              "      <td>MORTGAGE</td>\n",
              "      <td>59280.0</td>\n",
              "      <td>Source Verified</td>\n",
              "      <td>Dec-2018</td>\n",
              "      <td>Current</td>\n",
              "      <td>n</td>\n",
              "      <td>NaN</td>\n",
              "      <td>NaN</td>\n",
              "      <td>debt_consolidation</td>\n",
              "      <td>Debt consolidation</td>\n",
              "      <td>490xx</td>\n",
              "      <td>MI</td>\n",
              "      <td>10.51</td>\n",
              "      <td>0</td>\n",
              "      <td>Apr-2011</td>\n",
              "      <td>0</td>\n",
              "      <td>NaN</td>\n",
              "      <td>NaN</td>\n",
              "      <td>8</td>\n",
              "      <td>0</td>\n",
              "      <td>4599</td>\n",
              "      <td>19.1%</td>\n",
              "      <td>13</td>\n",
              "      <td>w</td>\n",
              "      <td>4456.17</td>\n",
              "      <td>4456.17</td>\n",
              "      <td>895.96</td>\n",
              "      <td>895.96</td>\n",
              "      <td>...</td>\n",
              "      <td>0.0</td>\n",
              "      <td>0</td>\n",
              "      <td>0</td>\n",
              "      <td>136927</td>\n",
              "      <td>11749</td>\n",
              "      <td>13800</td>\n",
              "      <td>10000</td>\n",
              "      <td>NaN</td>\n",
              "      <td>NaN</td>\n",
              "      <td>NaN</td>\n",
              "      <td>NaN</td>\n",
              "      <td>NaN</td>\n",
              "      <td>NaN</td>\n",
              "      <td>NaN</td>\n",
              "      <td>NaN</td>\n",
              "      <td>NaN</td>\n",
              "      <td>NaN</td>\n",
              "      <td>NaN</td>\n",
              "      <td>N</td>\n",
              "      <td>NaN</td>\n",
              "      <td>NaN</td>\n",
              "      <td>NaN</td>\n",
              "      <td>NaN</td>\n",
              "      <td>NaN</td>\n",
              "      <td>NaN</td>\n",
              "      <td>NaN</td>\n",
              "      <td>NaN</td>\n",
              "      <td>NaN</td>\n",
              "      <td>NaN</td>\n",
              "      <td>NaN</td>\n",
              "      <td>NaN</td>\n",
              "      <td>NaN</td>\n",
              "      <td>NaN</td>\n",
              "      <td>N</td>\n",
              "      <td>NaN</td>\n",
              "      <td>NaN</td>\n",
              "      <td>NaN</td>\n",
              "      <td>NaN</td>\n",
              "      <td>NaN</td>\n",
              "      <td>NaN</td>\n",
              "    </tr>\n",
              "    <tr>\n",
              "      <th>1</th>\n",
              "      <td>NaN</td>\n",
              "      <td>NaN</td>\n",
              "      <td>25000</td>\n",
              "      <td>25000</td>\n",
              "      <td>25000.0</td>\n",
              "      <td>60 months</td>\n",
              "      <td>14.47%</td>\n",
              "      <td>587.82</td>\n",
              "      <td>C</td>\n",
              "      <td>C2</td>\n",
              "      <td>teacher</td>\n",
              "      <td>10+ years</td>\n",
              "      <td>OWN</td>\n",
              "      <td>110000.0</td>\n",
              "      <td>Not Verified</td>\n",
              "      <td>Dec-2018</td>\n",
              "      <td>Current</td>\n",
              "      <td>n</td>\n",
              "      <td>NaN</td>\n",
              "      <td>NaN</td>\n",
              "      <td>credit_card</td>\n",
              "      <td>Credit card refinancing</td>\n",
              "      <td>117xx</td>\n",
              "      <td>NY</td>\n",
              "      <td>26.43</td>\n",
              "      <td>1</td>\n",
              "      <td>Jan-1997</td>\n",
              "      <td>0</td>\n",
              "      <td>7.0</td>\n",
              "      <td>NaN</td>\n",
              "      <td>23</td>\n",
              "      <td>0</td>\n",
              "      <td>39053</td>\n",
              "      <td>45.7%</td>\n",
              "      <td>49</td>\n",
              "      <td>w</td>\n",
              "      <td>23533.24</td>\n",
              "      <td>23533.24</td>\n",
              "      <td>2908.95</td>\n",
              "      <td>2908.95</td>\n",
              "      <td>...</td>\n",
              "      <td>10.0</td>\n",
              "      <td>0</td>\n",
              "      <td>0</td>\n",
              "      <td>179321</td>\n",
              "      <td>95648</td>\n",
              "      <td>62800</td>\n",
              "      <td>91424</td>\n",
              "      <td>NaN</td>\n",
              "      <td>NaN</td>\n",
              "      <td>NaN</td>\n",
              "      <td>NaN</td>\n",
              "      <td>NaN</td>\n",
              "      <td>NaN</td>\n",
              "      <td>NaN</td>\n",
              "      <td>NaN</td>\n",
              "      <td>NaN</td>\n",
              "      <td>NaN</td>\n",
              "      <td>NaN</td>\n",
              "      <td>N</td>\n",
              "      <td>NaN</td>\n",
              "      <td>NaN</td>\n",
              "      <td>NaN</td>\n",
              "      <td>NaN</td>\n",
              "      <td>NaN</td>\n",
              "      <td>NaN</td>\n",
              "      <td>NaN</td>\n",
              "      <td>NaN</td>\n",
              "      <td>NaN</td>\n",
              "      <td>NaN</td>\n",
              "      <td>NaN</td>\n",
              "      <td>NaN</td>\n",
              "      <td>NaN</td>\n",
              "      <td>NaN</td>\n",
              "      <td>N</td>\n",
              "      <td>NaN</td>\n",
              "      <td>NaN</td>\n",
              "      <td>NaN</td>\n",
              "      <td>NaN</td>\n",
              "      <td>NaN</td>\n",
              "      <td>NaN</td>\n",
              "    </tr>\n",
              "    <tr>\n",
              "      <th>2</th>\n",
              "      <td>NaN</td>\n",
              "      <td>NaN</td>\n",
              "      <td>10000</td>\n",
              "      <td>10000</td>\n",
              "      <td>10000.0</td>\n",
              "      <td>36 months</td>\n",
              "      <td>10.33%</td>\n",
              "      <td>324.23</td>\n",
              "      <td>B</td>\n",
              "      <td>B1</td>\n",
              "      <td>NaN</td>\n",
              "      <td>&lt; 1 year</td>\n",
              "      <td>MORTGAGE</td>\n",
              "      <td>280000.0</td>\n",
              "      <td>Not Verified</td>\n",
              "      <td>Dec-2018</td>\n",
              "      <td>Current</td>\n",
              "      <td>n</td>\n",
              "      <td>NaN</td>\n",
              "      <td>NaN</td>\n",
              "      <td>debt_consolidation</td>\n",
              "      <td>Debt consolidation</td>\n",
              "      <td>974xx</td>\n",
              "      <td>OR</td>\n",
              "      <td>6.15</td>\n",
              "      <td>2</td>\n",
              "      <td>Jan-1996</td>\n",
              "      <td>0</td>\n",
              "      <td>18.0</td>\n",
              "      <td>NaN</td>\n",
              "      <td>14</td>\n",
              "      <td>0</td>\n",
              "      <td>9082</td>\n",
              "      <td>38%</td>\n",
              "      <td>23</td>\n",
              "      <td>w</td>\n",
              "      <td>8788.59</td>\n",
              "      <td>8788.59</td>\n",
              "      <td>1612.54</td>\n",
              "      <td>1612.54</td>\n",
              "      <td>...</td>\n",
              "      <td>28.6</td>\n",
              "      <td>0</td>\n",
              "      <td>0</td>\n",
              "      <td>367828</td>\n",
              "      <td>61364</td>\n",
              "      <td>20900</td>\n",
              "      <td>54912</td>\n",
              "      <td>NaN</td>\n",
              "      <td>NaN</td>\n",
              "      <td>NaN</td>\n",
              "      <td>NaN</td>\n",
              "      <td>NaN</td>\n",
              "      <td>NaN</td>\n",
              "      <td>NaN</td>\n",
              "      <td>NaN</td>\n",
              "      <td>NaN</td>\n",
              "      <td>NaN</td>\n",
              "      <td>NaN</td>\n",
              "      <td>N</td>\n",
              "      <td>NaN</td>\n",
              "      <td>NaN</td>\n",
              "      <td>NaN</td>\n",
              "      <td>NaN</td>\n",
              "      <td>NaN</td>\n",
              "      <td>NaN</td>\n",
              "      <td>NaN</td>\n",
              "      <td>NaN</td>\n",
              "      <td>NaN</td>\n",
              "      <td>NaN</td>\n",
              "      <td>NaN</td>\n",
              "      <td>NaN</td>\n",
              "      <td>NaN</td>\n",
              "      <td>NaN</td>\n",
              "      <td>N</td>\n",
              "      <td>NaN</td>\n",
              "      <td>NaN</td>\n",
              "      <td>NaN</td>\n",
              "      <td>NaN</td>\n",
              "      <td>NaN</td>\n",
              "      <td>NaN</td>\n",
              "    </tr>\n",
              "    <tr>\n",
              "      <th>3</th>\n",
              "      <td>NaN</td>\n",
              "      <td>NaN</td>\n",
              "      <td>4000</td>\n",
              "      <td>4000</td>\n",
              "      <td>4000.0</td>\n",
              "      <td>36 months</td>\n",
              "      <td>23.40%</td>\n",
              "      <td>155.68</td>\n",
              "      <td>E</td>\n",
              "      <td>E1</td>\n",
              "      <td>Security</td>\n",
              "      <td>3 years</td>\n",
              "      <td>RENT</td>\n",
              "      <td>90000.0</td>\n",
              "      <td>Source Verified</td>\n",
              "      <td>Dec-2018</td>\n",
              "      <td>Current</td>\n",
              "      <td>n</td>\n",
              "      <td>NaN</td>\n",
              "      <td>NaN</td>\n",
              "      <td>debt_consolidation</td>\n",
              "      <td>Debt consolidation</td>\n",
              "      <td>070xx</td>\n",
              "      <td>NJ</td>\n",
              "      <td>26.33</td>\n",
              "      <td>0</td>\n",
              "      <td>Sep-2006</td>\n",
              "      <td>4</td>\n",
              "      <td>59.0</td>\n",
              "      <td>NaN</td>\n",
              "      <td>15</td>\n",
              "      <td>0</td>\n",
              "      <td>5199</td>\n",
              "      <td>19.2%</td>\n",
              "      <td>20</td>\n",
              "      <td>w</td>\n",
              "      <td>3596.15</td>\n",
              "      <td>3596.15</td>\n",
              "      <td>770.60</td>\n",
              "      <td>770.60</td>\n",
              "      <td>...</td>\n",
              "      <td>0.0</td>\n",
              "      <td>0</td>\n",
              "      <td>0</td>\n",
              "      <td>98655</td>\n",
              "      <td>66926</td>\n",
              "      <td>21900</td>\n",
              "      <td>71555</td>\n",
              "      <td>NaN</td>\n",
              "      <td>NaN</td>\n",
              "      <td>NaN</td>\n",
              "      <td>NaN</td>\n",
              "      <td>NaN</td>\n",
              "      <td>NaN</td>\n",
              "      <td>NaN</td>\n",
              "      <td>NaN</td>\n",
              "      <td>NaN</td>\n",
              "      <td>NaN</td>\n",
              "      <td>NaN</td>\n",
              "      <td>N</td>\n",
              "      <td>NaN</td>\n",
              "      <td>NaN</td>\n",
              "      <td>NaN</td>\n",
              "      <td>NaN</td>\n",
              "      <td>NaN</td>\n",
              "      <td>NaN</td>\n",
              "      <td>NaN</td>\n",
              "      <td>NaN</td>\n",
              "      <td>NaN</td>\n",
              "      <td>NaN</td>\n",
              "      <td>NaN</td>\n",
              "      <td>NaN</td>\n",
              "      <td>NaN</td>\n",
              "      <td>NaN</td>\n",
              "      <td>N</td>\n",
              "      <td>NaN</td>\n",
              "      <td>NaN</td>\n",
              "      <td>NaN</td>\n",
              "      <td>NaN</td>\n",
              "      <td>NaN</td>\n",
              "      <td>NaN</td>\n",
              "    </tr>\n",
              "    <tr>\n",
              "      <th>4</th>\n",
              "      <td>NaN</td>\n",
              "      <td>NaN</td>\n",
              "      <td>31450</td>\n",
              "      <td>31450</td>\n",
              "      <td>31450.0</td>\n",
              "      <td>36 months</td>\n",
              "      <td>7.56%</td>\n",
              "      <td>979.16</td>\n",
              "      <td>A</td>\n",
              "      <td>A3</td>\n",
              "      <td>Construction Manager</td>\n",
              "      <td>7 years</td>\n",
              "      <td>MORTGAGE</td>\n",
              "      <td>130000.0</td>\n",
              "      <td>Verified</td>\n",
              "      <td>Dec-2018</td>\n",
              "      <td>Current</td>\n",
              "      <td>n</td>\n",
              "      <td>NaN</td>\n",
              "      <td>NaN</td>\n",
              "      <td>debt_consolidation</td>\n",
              "      <td>Debt consolidation</td>\n",
              "      <td>895xx</td>\n",
              "      <td>NV</td>\n",
              "      <td>9.29</td>\n",
              "      <td>0</td>\n",
              "      <td>Jul-1997</td>\n",
              "      <td>0</td>\n",
              "      <td>NaN</td>\n",
              "      <td>NaN</td>\n",
              "      <td>11</td>\n",
              "      <td>0</td>\n",
              "      <td>65911</td>\n",
              "      <td>63.1%</td>\n",
              "      <td>17</td>\n",
              "      <td>w</td>\n",
              "      <td>26689.41</td>\n",
              "      <td>26689.41</td>\n",
              "      <td>5802.32</td>\n",
              "      <td>5802.32</td>\n",
              "      <td>...</td>\n",
              "      <td>33.3</td>\n",
              "      <td>0</td>\n",
              "      <td>0</td>\n",
              "      <td>519900</td>\n",
              "      <td>65911</td>\n",
              "      <td>62400</td>\n",
              "      <td>0</td>\n",
              "      <td>64367.0</td>\n",
              "      <td>Jul-1997</td>\n",
              "      <td>0.0</td>\n",
              "      <td>3.0</td>\n",
              "      <td>14.0</td>\n",
              "      <td>60.9</td>\n",
              "      <td>1.0</td>\n",
              "      <td>19.0</td>\n",
              "      <td>0.0</td>\n",
              "      <td>0.0</td>\n",
              "      <td>NaN</td>\n",
              "      <td>N</td>\n",
              "      <td>NaN</td>\n",
              "      <td>NaN</td>\n",
              "      <td>NaN</td>\n",
              "      <td>NaN</td>\n",
              "      <td>NaN</td>\n",
              "      <td>NaN</td>\n",
              "      <td>NaN</td>\n",
              "      <td>NaN</td>\n",
              "      <td>NaN</td>\n",
              "      <td>NaN</td>\n",
              "      <td>NaN</td>\n",
              "      <td>NaN</td>\n",
              "      <td>NaN</td>\n",
              "      <td>NaN</td>\n",
              "      <td>N</td>\n",
              "      <td>NaN</td>\n",
              "      <td>NaN</td>\n",
              "      <td>NaN</td>\n",
              "      <td>NaN</td>\n",
              "      <td>NaN</td>\n",
              "      <td>NaN</td>\n",
              "    </tr>\n",
              "  </tbody>\n",
              "</table>\n",
              "<p>5 rows × 144 columns</p>\n",
              "</div>"
            ],
            "text/plain": [
              "   id  member_id  ...  settlement_percentage  settlement_term\n",
              "0 NaN        NaN  ...                    NaN              NaN\n",
              "1 NaN        NaN  ...                    NaN              NaN\n",
              "2 NaN        NaN  ...                    NaN              NaN\n",
              "3 NaN        NaN  ...                    NaN              NaN\n",
              "4 NaN        NaN  ...                    NaN              NaN\n",
              "\n",
              "[5 rows x 144 columns]"
            ]
          },
          "metadata": {
            "tags": []
          },
          "execution_count": 59
        }
      ]
    },
    {
      "cell_type": "code",
      "metadata": {
        "id": "UIh3e_J-wy4L",
        "colab_type": "code",
        "colab": {}
      },
      "source": [
        ""
      ],
      "execution_count": 0,
      "outputs": []
    },
    {
      "cell_type": "code",
      "metadata": {
        "id": "5qBe78CngN-7",
        "colab_type": "code",
        "outputId": "7427e36e-36b4-49dd-a8dc-f6983aef49c3",
        "colab": {
          "base_uri": "https://localhost:8080/",
          "height": 1000
        }
      },
      "source": [
        "df.isna().sum()"
      ],
      "execution_count": 60,
      "outputs": [
        {
          "output_type": "execute_result",
          "data": {
            "text/plain": [
              "id                                            128412\n",
              "member_id                                     128412\n",
              "loan_amnt                                          0\n",
              "funded_amnt                                        0\n",
              "funded_amnt_inv                                    0\n",
              "term                                               0\n",
              "int_rate                                           0\n",
              "installment                                        0\n",
              "grade                                              0\n",
              "sub_grade                                          0\n",
              "emp_title                                      20947\n",
              "emp_length                                     11704\n",
              "home_ownership                                     0\n",
              "annual_inc                                         0\n",
              "verification_status                                0\n",
              "issue_d                                            0\n",
              "loan_status                                        0\n",
              "pymnt_plan                                         0\n",
              "url                                           128412\n",
              "desc                                          128412\n",
              "purpose                                            0\n",
              "title                                              0\n",
              "zip_code                                           0\n",
              "addr_state                                         0\n",
              "dti                                              237\n",
              "delinq_2yrs                                        0\n",
              "earliest_cr_line                                   0\n",
              "inq_last_6mths                                     0\n",
              "mths_since_last_delinq                         72196\n",
              "mths_since_last_record                        112962\n",
              "open_acc                                           0\n",
              "pub_rec                                            0\n",
              "revol_bal                                          0\n",
              "revol_util                                       156\n",
              "total_acc                                          0\n",
              "initial_list_status                                0\n",
              "out_prncp                                          0\n",
              "out_prncp_inv                                      0\n",
              "total_pymnt                                        0\n",
              "total_pymnt_inv                                    0\n",
              "total_rec_prncp                                    0\n",
              "total_rec_int                                      0\n",
              "total_rec_late_fee                                 0\n",
              "recoveries                                         0\n",
              "collection_recovery_fee                            0\n",
              "last_pymnt_d                                     159\n",
              "last_pymnt_amnt                                    0\n",
              "next_pymnt_d                                   10813\n",
              "last_credit_pull_d                                 1\n",
              "collections_12_mths_ex_med                         0\n",
              "mths_since_last_major_derog                    99232\n",
              "policy_code                                        0\n",
              "application_type                                   0\n",
              "annual_inc_joint                              111630\n",
              "dti_joint                                     111630\n",
              "verification_status_joint                     113564\n",
              "acc_now_delinq                                     0\n",
              "tot_coll_amt                                       0\n",
              "tot_cur_bal                                        0\n",
              "open_acc_6m                                        0\n",
              "open_act_il                                        0\n",
              "open_il_12m                                        0\n",
              "open_il_24m                                        0\n",
              "mths_since_rcnt_il                              4478\n",
              "total_bal_il                                       0\n",
              "il_util                                        20274\n",
              "open_rv_12m                                        0\n",
              "open_rv_24m                                        0\n",
              "max_bal_bc                                         0\n",
              "all_util                                          37\n",
              "total_rev_hi_lim                                   0\n",
              "inq_fi                                             0\n",
              "total_cu_tl                                        0\n",
              "inq_last_12m                                       0\n",
              "acc_open_past_24mths                               0\n",
              "avg_cur_bal                                       13\n",
              "bc_open_to_buy                                  1691\n",
              "bc_util                                         1754\n",
              "chargeoff_within_12_mths                           0\n",
              "delinq_amnt                                        0\n",
              "mo_sin_old_il_acct                              4478\n",
              "mo_sin_old_rev_tl_op                               0\n",
              "mo_sin_rcnt_rev_tl_op                              0\n",
              "mo_sin_rcnt_tl                                     0\n",
              "mort_acc                                           0\n",
              "mths_since_recent_bc                            1591\n",
              "mths_since_recent_bc_dlq                      103243\n",
              "mths_since_recent_inq                          16047\n",
              "mths_since_recent_revol_delinq                 91630\n",
              "num_accts_ever_120_pd                              0\n",
              "num_actv_bc_tl                                     0\n",
              "num_actv_rev_tl                                    0\n",
              "num_bc_sats                                        0\n",
              "num_bc_tl                                          0\n",
              "num_il_tl                                          0\n",
              "num_op_rev_tl                                      0\n",
              "num_rev_accts                                      0\n",
              "num_rev_tl_bal_gt_0                                0\n",
              "num_sats                                           0\n",
              "num_tl_120dpd_2m                                2859\n",
              "num_tl_30dpd                                       0\n",
              "num_tl_90g_dpd_24m                                 0\n",
              "num_tl_op_past_12m                                 0\n",
              "pct_tl_nvr_dlq                                     0\n",
              "percent_bc_gt_75                                1692\n",
              "pub_rec_bankruptcies                               0\n",
              "tax_liens                                          0\n",
              "tot_hi_cred_lim                                    0\n",
              "total_bal_ex_mort                                  0\n",
              "total_bc_limit                                     0\n",
              "total_il_high_credit_limit                         0\n",
              "revol_bal_joint                               111630\n",
              "sec_app_earliest_cr_line                      111630\n",
              "sec_app_inq_last_6mths                        111630\n",
              "sec_app_mort_acc                              111630\n",
              "sec_app_open_acc                              111630\n",
              "sec_app_revol_util                            111888\n",
              "sec_app_open_act_il                           111630\n",
              "sec_app_num_rev_accts                         111630\n",
              "sec_app_chargeoff_within_12_mths              111630\n",
              "sec_app_collections_12_mths_ex_med            111630\n",
              "sec_app_mths_since_last_major_derog           123258\n",
              "hardship_flag                                      0\n",
              "hardship_type                                 128411\n",
              "hardship_reason                               128411\n",
              "hardship_status                               128411\n",
              "deferral_term                                 128411\n",
              "hardship_amount                               128411\n",
              "hardship_start_date                           128411\n",
              "hardship_end_date                             128411\n",
              "payment_plan_start_date                       128411\n",
              "hardship_length                               128411\n",
              "hardship_dpd                                  128411\n",
              "hardship_loan_status                          128411\n",
              "orig_projected_additional_accrued_interest    128411\n",
              "hardship_payoff_balance_amount                128411\n",
              "hardship_last_payment_amount                  128411\n",
              "debt_settlement_flag                               0\n",
              "debt_settlement_flag_date                     128374\n",
              "settlement_status                             128374\n",
              "settlement_date                               128374\n",
              "settlement_amount                             128374\n",
              "settlement_percentage                         128374\n",
              "settlement_term                               128374\n",
              "dtype: int64"
            ]
          },
          "metadata": {
            "tags": []
          },
          "execution_count": 60
        }
      ]
    },
    {
      "cell_type": "markdown",
      "metadata": {
        "colab_type": "text",
        "id": "1b5_hMTio2Ly"
      },
      "source": [
        "## Work with strings"
      ]
    },
    {
      "cell_type": "markdown",
      "metadata": {
        "id": "fE5r523jfFdW",
        "colab_type": "text"
      },
      "source": [
        "For machine learning, we usually want to replace strings with numbers.\n",
        "\n",
        "We can get info about which columns have a datatype of \"object\" (strings)"
      ]
    },
    {
      "cell_type": "code",
      "metadata": {
        "colab_type": "code",
        "id": "WOL7QPVNo3F4",
        "colab": {}
      },
      "source": [
        ""
      ],
      "execution_count": 0,
      "outputs": []
    },
    {
      "cell_type": "markdown",
      "metadata": {
        "id": "Tmd9lThTfFdi",
        "colab_type": "text"
      },
      "source": [
        "### Convert `int_rate`\n",
        "\n",
        "Define a function to remove percent signs from strings and convert to floats"
      ]
    },
    {
      "cell_type": "code",
      "metadata": {
        "id": "kjqUBAoVfFdl",
        "colab_type": "code",
        "colab": {}
      },
      "source": [
        ""
      ],
      "execution_count": 0,
      "outputs": []
    },
    {
      "cell_type": "markdown",
      "metadata": {
        "id": "eMLwqG7wfFds",
        "colab_type": "text"
      },
      "source": [
        "Apply the function to the `int_rate` column"
      ]
    },
    {
      "cell_type": "code",
      "metadata": {
        "id": "zLeeTsh9fFdt",
        "colab_type": "code",
        "colab": {}
      },
      "source": [
        ""
      ],
      "execution_count": 0,
      "outputs": []
    },
    {
      "cell_type": "markdown",
      "metadata": {
        "id": "Wi1HvX5ofFd1",
        "colab_type": "text"
      },
      "source": [
        "### Clean `emp_title`\n",
        "\n",
        "Look at top 20 titles"
      ]
    },
    {
      "cell_type": "code",
      "metadata": {
        "id": "h83V3S5UfFd5",
        "colab_type": "code",
        "colab": {}
      },
      "source": [
        ""
      ],
      "execution_count": 0,
      "outputs": []
    },
    {
      "cell_type": "markdown",
      "metadata": {
        "id": "YqTa_SwUfFeC",
        "colab_type": "text"
      },
      "source": [
        "How often is `emp_title` null?"
      ]
    },
    {
      "cell_type": "code",
      "metadata": {
        "id": "ImHAq32dfFeE",
        "colab_type": "code",
        "colab": {}
      },
      "source": [
        ""
      ],
      "execution_count": 0,
      "outputs": []
    },
    {
      "cell_type": "markdown",
      "metadata": {
        "id": "pt-NCxgffFeJ",
        "colab_type": "text"
      },
      "source": [
        "Clean the title and handle missing values"
      ]
    },
    {
      "cell_type": "code",
      "metadata": {
        "id": "sL3Vzg4AfFeL",
        "colab_type": "code",
        "colab": {}
      },
      "source": [
        ""
      ],
      "execution_count": 0,
      "outputs": []
    },
    {
      "cell_type": "markdown",
      "metadata": {
        "id": "ndDgGSGAfFeP",
        "colab_type": "text"
      },
      "source": [
        "### Create `emp_title_manager`\n",
        "\n",
        "pandas documentation: [`str.contains`](https://pandas.pydata.org/pandas-docs/stable/generated/pandas.Series.str.contains.html)"
      ]
    },
    {
      "cell_type": "code",
      "metadata": {
        "id": "vjXaHxqmfFeR",
        "colab_type": "code",
        "colab": {}
      },
      "source": [
        ""
      ],
      "execution_count": 0,
      "outputs": []
    },
    {
      "cell_type": "markdown",
      "metadata": {
        "colab_type": "text",
        "id": "s8BcCY6so3by"
      },
      "source": [
        "## Work with dates"
      ]
    },
    {
      "cell_type": "markdown",
      "metadata": {
        "id": "LwUbXhx3fFeY",
        "colab_type": "text"
      },
      "source": [
        "pandas documentation\n",
        "- [to_datetime](https://pandas.pydata.org/pandas-docs/stable/generated/pandas.to_datetime.html)\n",
        "- [Time/Date Components](https://pandas.pydata.org/pandas-docs/stable/timeseries.html#time-date-components) \"You can access these properties via the `.dt` accessor\""
      ]
    },
    {
      "cell_type": "code",
      "metadata": {
        "colab_type": "code",
        "id": "kNrKxOTeo4W3",
        "colab": {}
      },
      "source": [
        ""
      ],
      "execution_count": 0,
      "outputs": []
    },
    {
      "cell_type": "markdown",
      "metadata": {
        "id": "-CrGlV1VfFee",
        "colab_type": "text"
      },
      "source": [
        "# ASSIGNMENT\n",
        "\n",
        "- Replicate the lesson code.\n",
        "\n",
        "- Convert the `term` column from string to integer.\n",
        "\n",
        "- Make a column named `loan_status_is_great`. It should contain the integer 1 if `loan_status` is \"Current\" or \"Fully Paid.\" Else it should contain the integer 0.\n",
        "\n",
        "- Make `last_pymnt_d_month` and `last_pymnt_d_year` columns."
      ]
    },
    {
      "cell_type": "code",
      "metadata": {
        "id": "j1VrUtw5fS9m",
        "colab_type": "code",
        "outputId": "b65d4f7a-6b32-4ac4-d0f1-bf3f2ba2b7a9",
        "colab": {
          "base_uri": "https://localhost:8080/",
          "height": 129
        }
      },
      "source": [
        "df['term'].head()"
      ],
      "execution_count": 61,
      "outputs": [
        {
          "output_type": "execute_result",
          "data": {
            "text/plain": [
              "0     36 months\n",
              "1     60 months\n",
              "2     36 months\n",
              "3     36 months\n",
              "4     36 months\n",
              "Name: term, dtype: object"
            ]
          },
          "metadata": {
            "tags": []
          },
          "execution_count": 61
        }
      ]
    },
    {
      "cell_type": "code",
      "metadata": {
        "id": "5ErFK6FvfTU_",
        "colab_type": "code",
        "outputId": "0cb1e753-159b-41a6-98b0-782e245fa197",
        "colab": {
          "base_uri": "https://localhost:8080/",
          "height": 36
        }
      },
      "source": [
        "df['term'].nunique() #checking the number of unique values in that col"
      ],
      "execution_count": 62,
      "outputs": [
        {
          "output_type": "execute_result",
          "data": {
            "text/plain": [
              "2"
            ]
          },
          "metadata": {
            "tags": []
          },
          "execution_count": 62
        }
      ]
    },
    {
      "cell_type": "code",
      "metadata": {
        "id": "opcotvKBfTYD",
        "colab_type": "code",
        "colab": {}
      },
      "source": [
        "df['term'] = df['term'].str.strip(' months').astype(int) #using the strip function to remove the ' months' part of the string, then using the astype func to set the remaining 60 str to an int"
      ],
      "execution_count": 0,
      "outputs": []
    },
    {
      "cell_type": "code",
      "metadata": {
        "id": "uf2XF89VfTaN",
        "colab_type": "code",
        "outputId": "f5f8a236-9342-4346-ab8b-88d87ba873f2",
        "colab": {
          "base_uri": "https://localhost:8080/",
          "height": 223
        }
      },
      "source": [
        "df['term'].head(10)"
      ],
      "execution_count": 64,
      "outputs": [
        {
          "output_type": "execute_result",
          "data": {
            "text/plain": [
              "0    36\n",
              "1    60\n",
              "2    36\n",
              "3    36\n",
              "4    36\n",
              "5    36\n",
              "6    36\n",
              "7    36\n",
              "8    60\n",
              "9    36\n",
              "Name: term, dtype: int64"
            ]
          },
          "metadata": {
            "tags": []
          },
          "execution_count": 64
        }
      ]
    },
    {
      "cell_type": "code",
      "metadata": {
        "id": "HTJM2bc8jBGc",
        "colab_type": "code",
        "outputId": "95c8a190-e59c-4a70-a3b9-b2b894619087",
        "colab": {
          "base_uri": "https://localhost:8080/",
          "height": 223
        }
      },
      "source": [
        "df['loan_status'].head(10)"
      ],
      "execution_count": 65,
      "outputs": [
        {
          "output_type": "execute_result",
          "data": {
            "text/plain": [
              "0    Current\n",
              "1    Current\n",
              "2    Current\n",
              "3    Current\n",
              "4    Current\n",
              "5    Current\n",
              "6    Current\n",
              "7    Current\n",
              "8    Current\n",
              "9    Current\n",
              "Name: loan_status, dtype: object"
            ]
          },
          "metadata": {
            "tags": []
          },
          "execution_count": 65
        }
      ]
    },
    {
      "cell_type": "code",
      "metadata": {
        "id": "dsTWoo33jcFl",
        "colab_type": "code",
        "outputId": "9925fd05-4451-4b1e-d793-2dec17d7e53d",
        "colab": {
          "base_uri": "https://localhost:8080/",
          "height": 54
        }
      },
      "source": [
        "df['loan_status'].unique()"
      ],
      "execution_count": 66,
      "outputs": [
        {
          "output_type": "execute_result",
          "data": {
            "text/plain": [
              "array(['Current', 'Fully Paid', 'Late (31-120 days)', 'In Grace Period',\n",
              "       'Late (16-30 days)', 'Charged Off', 'Default'], dtype=object)"
            ]
          },
          "metadata": {
            "tags": []
          },
          "execution_count": 66
        }
      ]
    },
    {
      "cell_type": "code",
      "metadata": {
        "id": "Iphk98EEfTdA",
        "colab_type": "code",
        "colab": {}
      },
      "source": [
        "df['loan_status_is_great'] = [1 if (x == 'Current') or (x == 'Fully Paid') else 0 for x in df['loan_status']]"
      ],
      "execution_count": 0,
      "outputs": []
    },
    {
      "cell_type": "code",
      "metadata": {
        "id": "EvgNX9EnujpT",
        "colab_type": "code",
        "colab": {
          "base_uri": "https://localhost:8080/",
          "height": 1000
        },
        "outputId": "9664381b-b540-41b9-b425-4ef3a22d1a22"
      },
      "source": [
        "pd.options.display.max_rows = 150\n",
        "df[['loan_status','loan_status_is_great']].head(100)"
      ],
      "execution_count": 68,
      "outputs": [
        {
          "output_type": "execute_result",
          "data": {
            "text/html": [
              "<div>\n",
              "<style scoped>\n",
              "    .dataframe tbody tr th:only-of-type {\n",
              "        vertical-align: middle;\n",
              "    }\n",
              "\n",
              "    .dataframe tbody tr th {\n",
              "        vertical-align: top;\n",
              "    }\n",
              "\n",
              "    .dataframe thead th {\n",
              "        text-align: right;\n",
              "    }\n",
              "</style>\n",
              "<table border=\"1\" class=\"dataframe\">\n",
              "  <thead>\n",
              "    <tr style=\"text-align: right;\">\n",
              "      <th></th>\n",
              "      <th>loan_status</th>\n",
              "      <th>loan_status_is_great</th>\n",
              "    </tr>\n",
              "  </thead>\n",
              "  <tbody>\n",
              "    <tr>\n",
              "      <th>0</th>\n",
              "      <td>Current</td>\n",
              "      <td>1</td>\n",
              "    </tr>\n",
              "    <tr>\n",
              "      <th>1</th>\n",
              "      <td>Current</td>\n",
              "      <td>1</td>\n",
              "    </tr>\n",
              "    <tr>\n",
              "      <th>2</th>\n",
              "      <td>Current</td>\n",
              "      <td>1</td>\n",
              "    </tr>\n",
              "    <tr>\n",
              "      <th>3</th>\n",
              "      <td>Current</td>\n",
              "      <td>1</td>\n",
              "    </tr>\n",
              "    <tr>\n",
              "      <th>4</th>\n",
              "      <td>Current</td>\n",
              "      <td>1</td>\n",
              "    </tr>\n",
              "    <tr>\n",
              "      <th>5</th>\n",
              "      <td>Current</td>\n",
              "      <td>1</td>\n",
              "    </tr>\n",
              "    <tr>\n",
              "      <th>6</th>\n",
              "      <td>Current</td>\n",
              "      <td>1</td>\n",
              "    </tr>\n",
              "    <tr>\n",
              "      <th>7</th>\n",
              "      <td>Current</td>\n",
              "      <td>1</td>\n",
              "    </tr>\n",
              "    <tr>\n",
              "      <th>8</th>\n",
              "      <td>Current</td>\n",
              "      <td>1</td>\n",
              "    </tr>\n",
              "    <tr>\n",
              "      <th>9</th>\n",
              "      <td>Current</td>\n",
              "      <td>1</td>\n",
              "    </tr>\n",
              "    <tr>\n",
              "      <th>10</th>\n",
              "      <td>Fully Paid</td>\n",
              "      <td>1</td>\n",
              "    </tr>\n",
              "    <tr>\n",
              "      <th>11</th>\n",
              "      <td>Fully Paid</td>\n",
              "      <td>1</td>\n",
              "    </tr>\n",
              "    <tr>\n",
              "      <th>12</th>\n",
              "      <td>Current</td>\n",
              "      <td>1</td>\n",
              "    </tr>\n",
              "    <tr>\n",
              "      <th>13</th>\n",
              "      <td>Current</td>\n",
              "      <td>1</td>\n",
              "    </tr>\n",
              "    <tr>\n",
              "      <th>14</th>\n",
              "      <td>Current</td>\n",
              "      <td>1</td>\n",
              "    </tr>\n",
              "    <tr>\n",
              "      <th>15</th>\n",
              "      <td>Current</td>\n",
              "      <td>1</td>\n",
              "    </tr>\n",
              "    <tr>\n",
              "      <th>16</th>\n",
              "      <td>Current</td>\n",
              "      <td>1</td>\n",
              "    </tr>\n",
              "    <tr>\n",
              "      <th>17</th>\n",
              "      <td>Current</td>\n",
              "      <td>1</td>\n",
              "    </tr>\n",
              "    <tr>\n",
              "      <th>18</th>\n",
              "      <td>Current</td>\n",
              "      <td>1</td>\n",
              "    </tr>\n",
              "    <tr>\n",
              "      <th>19</th>\n",
              "      <td>Current</td>\n",
              "      <td>1</td>\n",
              "    </tr>\n",
              "    <tr>\n",
              "      <th>20</th>\n",
              "      <td>Late (31-120 days)</td>\n",
              "      <td>0</td>\n",
              "    </tr>\n",
              "    <tr>\n",
              "      <th>21</th>\n",
              "      <td>Current</td>\n",
              "      <td>1</td>\n",
              "    </tr>\n",
              "    <tr>\n",
              "      <th>22</th>\n",
              "      <td>Current</td>\n",
              "      <td>1</td>\n",
              "    </tr>\n",
              "    <tr>\n",
              "      <th>23</th>\n",
              "      <td>Current</td>\n",
              "      <td>1</td>\n",
              "    </tr>\n",
              "    <tr>\n",
              "      <th>24</th>\n",
              "      <td>Current</td>\n",
              "      <td>1</td>\n",
              "    </tr>\n",
              "    <tr>\n",
              "      <th>25</th>\n",
              "      <td>Current</td>\n",
              "      <td>1</td>\n",
              "    </tr>\n",
              "    <tr>\n",
              "      <th>26</th>\n",
              "      <td>Current</td>\n",
              "      <td>1</td>\n",
              "    </tr>\n",
              "    <tr>\n",
              "      <th>27</th>\n",
              "      <td>Current</td>\n",
              "      <td>1</td>\n",
              "    </tr>\n",
              "    <tr>\n",
              "      <th>28</th>\n",
              "      <td>Current</td>\n",
              "      <td>1</td>\n",
              "    </tr>\n",
              "    <tr>\n",
              "      <th>29</th>\n",
              "      <td>Fully Paid</td>\n",
              "      <td>1</td>\n",
              "    </tr>\n",
              "    <tr>\n",
              "      <th>30</th>\n",
              "      <td>Current</td>\n",
              "      <td>1</td>\n",
              "    </tr>\n",
              "    <tr>\n",
              "      <th>31</th>\n",
              "      <td>Current</td>\n",
              "      <td>1</td>\n",
              "    </tr>\n",
              "    <tr>\n",
              "      <th>32</th>\n",
              "      <td>Current</td>\n",
              "      <td>1</td>\n",
              "    </tr>\n",
              "    <tr>\n",
              "      <th>33</th>\n",
              "      <td>Current</td>\n",
              "      <td>1</td>\n",
              "    </tr>\n",
              "    <tr>\n",
              "      <th>34</th>\n",
              "      <td>Current</td>\n",
              "      <td>1</td>\n",
              "    </tr>\n",
              "    <tr>\n",
              "      <th>35</th>\n",
              "      <td>Current</td>\n",
              "      <td>1</td>\n",
              "    </tr>\n",
              "    <tr>\n",
              "      <th>36</th>\n",
              "      <td>Current</td>\n",
              "      <td>1</td>\n",
              "    </tr>\n",
              "    <tr>\n",
              "      <th>37</th>\n",
              "      <td>Current</td>\n",
              "      <td>1</td>\n",
              "    </tr>\n",
              "    <tr>\n",
              "      <th>38</th>\n",
              "      <td>Current</td>\n",
              "      <td>1</td>\n",
              "    </tr>\n",
              "    <tr>\n",
              "      <th>39</th>\n",
              "      <td>Current</td>\n",
              "      <td>1</td>\n",
              "    </tr>\n",
              "    <tr>\n",
              "      <th>40</th>\n",
              "      <td>Current</td>\n",
              "      <td>1</td>\n",
              "    </tr>\n",
              "    <tr>\n",
              "      <th>41</th>\n",
              "      <td>Current</td>\n",
              "      <td>1</td>\n",
              "    </tr>\n",
              "    <tr>\n",
              "      <th>42</th>\n",
              "      <td>Current</td>\n",
              "      <td>1</td>\n",
              "    </tr>\n",
              "    <tr>\n",
              "      <th>43</th>\n",
              "      <td>Current</td>\n",
              "      <td>1</td>\n",
              "    </tr>\n",
              "    <tr>\n",
              "      <th>44</th>\n",
              "      <td>Current</td>\n",
              "      <td>1</td>\n",
              "    </tr>\n",
              "    <tr>\n",
              "      <th>45</th>\n",
              "      <td>Current</td>\n",
              "      <td>1</td>\n",
              "    </tr>\n",
              "    <tr>\n",
              "      <th>46</th>\n",
              "      <td>Current</td>\n",
              "      <td>1</td>\n",
              "    </tr>\n",
              "    <tr>\n",
              "      <th>47</th>\n",
              "      <td>Current</td>\n",
              "      <td>1</td>\n",
              "    </tr>\n",
              "    <tr>\n",
              "      <th>48</th>\n",
              "      <td>Current</td>\n",
              "      <td>1</td>\n",
              "    </tr>\n",
              "    <tr>\n",
              "      <th>49</th>\n",
              "      <td>Current</td>\n",
              "      <td>1</td>\n",
              "    </tr>\n",
              "    <tr>\n",
              "      <th>50</th>\n",
              "      <td>Current</td>\n",
              "      <td>1</td>\n",
              "    </tr>\n",
              "    <tr>\n",
              "      <th>51</th>\n",
              "      <td>Current</td>\n",
              "      <td>1</td>\n",
              "    </tr>\n",
              "    <tr>\n",
              "      <th>52</th>\n",
              "      <td>Current</td>\n",
              "      <td>1</td>\n",
              "    </tr>\n",
              "    <tr>\n",
              "      <th>53</th>\n",
              "      <td>Current</td>\n",
              "      <td>1</td>\n",
              "    </tr>\n",
              "    <tr>\n",
              "      <th>54</th>\n",
              "      <td>Current</td>\n",
              "      <td>1</td>\n",
              "    </tr>\n",
              "    <tr>\n",
              "      <th>55</th>\n",
              "      <td>Current</td>\n",
              "      <td>1</td>\n",
              "    </tr>\n",
              "    <tr>\n",
              "      <th>56</th>\n",
              "      <td>Fully Paid</td>\n",
              "      <td>1</td>\n",
              "    </tr>\n",
              "    <tr>\n",
              "      <th>57</th>\n",
              "      <td>Current</td>\n",
              "      <td>1</td>\n",
              "    </tr>\n",
              "    <tr>\n",
              "      <th>58</th>\n",
              "      <td>Current</td>\n",
              "      <td>1</td>\n",
              "    </tr>\n",
              "    <tr>\n",
              "      <th>59</th>\n",
              "      <td>Current</td>\n",
              "      <td>1</td>\n",
              "    </tr>\n",
              "    <tr>\n",
              "      <th>60</th>\n",
              "      <td>Fully Paid</td>\n",
              "      <td>1</td>\n",
              "    </tr>\n",
              "    <tr>\n",
              "      <th>61</th>\n",
              "      <td>Current</td>\n",
              "      <td>1</td>\n",
              "    </tr>\n",
              "    <tr>\n",
              "      <th>62</th>\n",
              "      <td>Current</td>\n",
              "      <td>1</td>\n",
              "    </tr>\n",
              "    <tr>\n",
              "      <th>63</th>\n",
              "      <td>Current</td>\n",
              "      <td>1</td>\n",
              "    </tr>\n",
              "    <tr>\n",
              "      <th>64</th>\n",
              "      <td>Current</td>\n",
              "      <td>1</td>\n",
              "    </tr>\n",
              "    <tr>\n",
              "      <th>65</th>\n",
              "      <td>Current</td>\n",
              "      <td>1</td>\n",
              "    </tr>\n",
              "    <tr>\n",
              "      <th>66</th>\n",
              "      <td>Current</td>\n",
              "      <td>1</td>\n",
              "    </tr>\n",
              "    <tr>\n",
              "      <th>67</th>\n",
              "      <td>Current</td>\n",
              "      <td>1</td>\n",
              "    </tr>\n",
              "    <tr>\n",
              "      <th>68</th>\n",
              "      <td>Current</td>\n",
              "      <td>1</td>\n",
              "    </tr>\n",
              "    <tr>\n",
              "      <th>69</th>\n",
              "      <td>Current</td>\n",
              "      <td>1</td>\n",
              "    </tr>\n",
              "    <tr>\n",
              "      <th>70</th>\n",
              "      <td>Current</td>\n",
              "      <td>1</td>\n",
              "    </tr>\n",
              "    <tr>\n",
              "      <th>71</th>\n",
              "      <td>Fully Paid</td>\n",
              "      <td>1</td>\n",
              "    </tr>\n",
              "    <tr>\n",
              "      <th>72</th>\n",
              "      <td>Current</td>\n",
              "      <td>1</td>\n",
              "    </tr>\n",
              "    <tr>\n",
              "      <th>73</th>\n",
              "      <td>Fully Paid</td>\n",
              "      <td>1</td>\n",
              "    </tr>\n",
              "    <tr>\n",
              "      <th>74</th>\n",
              "      <td>Current</td>\n",
              "      <td>1</td>\n",
              "    </tr>\n",
              "    <tr>\n",
              "      <th>75</th>\n",
              "      <td>Current</td>\n",
              "      <td>1</td>\n",
              "    </tr>\n",
              "    <tr>\n",
              "      <th>76</th>\n",
              "      <td>Current</td>\n",
              "      <td>1</td>\n",
              "    </tr>\n",
              "    <tr>\n",
              "      <th>77</th>\n",
              "      <td>Current</td>\n",
              "      <td>1</td>\n",
              "    </tr>\n",
              "    <tr>\n",
              "      <th>78</th>\n",
              "      <td>Current</td>\n",
              "      <td>1</td>\n",
              "    </tr>\n",
              "    <tr>\n",
              "      <th>79</th>\n",
              "      <td>Current</td>\n",
              "      <td>1</td>\n",
              "    </tr>\n",
              "    <tr>\n",
              "      <th>80</th>\n",
              "      <td>Current</td>\n",
              "      <td>1</td>\n",
              "    </tr>\n",
              "    <tr>\n",
              "      <th>81</th>\n",
              "      <td>Fully Paid</td>\n",
              "      <td>1</td>\n",
              "    </tr>\n",
              "    <tr>\n",
              "      <th>82</th>\n",
              "      <td>Current</td>\n",
              "      <td>1</td>\n",
              "    </tr>\n",
              "    <tr>\n",
              "      <th>83</th>\n",
              "      <td>Current</td>\n",
              "      <td>1</td>\n",
              "    </tr>\n",
              "    <tr>\n",
              "      <th>84</th>\n",
              "      <td>Late (31-120 days)</td>\n",
              "      <td>0</td>\n",
              "    </tr>\n",
              "    <tr>\n",
              "      <th>85</th>\n",
              "      <td>Current</td>\n",
              "      <td>1</td>\n",
              "    </tr>\n",
              "    <tr>\n",
              "      <th>86</th>\n",
              "      <td>Current</td>\n",
              "      <td>1</td>\n",
              "    </tr>\n",
              "    <tr>\n",
              "      <th>87</th>\n",
              "      <td>Current</td>\n",
              "      <td>1</td>\n",
              "    </tr>\n",
              "    <tr>\n",
              "      <th>88</th>\n",
              "      <td>Current</td>\n",
              "      <td>1</td>\n",
              "    </tr>\n",
              "    <tr>\n",
              "      <th>89</th>\n",
              "      <td>Current</td>\n",
              "      <td>1</td>\n",
              "    </tr>\n",
              "    <tr>\n",
              "      <th>90</th>\n",
              "      <td>Current</td>\n",
              "      <td>1</td>\n",
              "    </tr>\n",
              "    <tr>\n",
              "      <th>91</th>\n",
              "      <td>Current</td>\n",
              "      <td>1</td>\n",
              "    </tr>\n",
              "    <tr>\n",
              "      <th>92</th>\n",
              "      <td>Current</td>\n",
              "      <td>1</td>\n",
              "    </tr>\n",
              "    <tr>\n",
              "      <th>93</th>\n",
              "      <td>Current</td>\n",
              "      <td>1</td>\n",
              "    </tr>\n",
              "    <tr>\n",
              "      <th>94</th>\n",
              "      <td>Current</td>\n",
              "      <td>1</td>\n",
              "    </tr>\n",
              "    <tr>\n",
              "      <th>95</th>\n",
              "      <td>Current</td>\n",
              "      <td>1</td>\n",
              "    </tr>\n",
              "    <tr>\n",
              "      <th>96</th>\n",
              "      <td>Current</td>\n",
              "      <td>1</td>\n",
              "    </tr>\n",
              "    <tr>\n",
              "      <th>97</th>\n",
              "      <td>Current</td>\n",
              "      <td>1</td>\n",
              "    </tr>\n",
              "    <tr>\n",
              "      <th>98</th>\n",
              "      <td>Current</td>\n",
              "      <td>1</td>\n",
              "    </tr>\n",
              "    <tr>\n",
              "      <th>99</th>\n",
              "      <td>Current</td>\n",
              "      <td>1</td>\n",
              "    </tr>\n",
              "  </tbody>\n",
              "</table>\n",
              "</div>"
            ],
            "text/plain": [
              "           loan_status  loan_status_is_great\n",
              "0              Current                     1\n",
              "1              Current                     1\n",
              "2              Current                     1\n",
              "3              Current                     1\n",
              "4              Current                     1\n",
              "5              Current                     1\n",
              "6              Current                     1\n",
              "7              Current                     1\n",
              "8              Current                     1\n",
              "9              Current                     1\n",
              "10          Fully Paid                     1\n",
              "11          Fully Paid                     1\n",
              "12             Current                     1\n",
              "13             Current                     1\n",
              "14             Current                     1\n",
              "15             Current                     1\n",
              "16             Current                     1\n",
              "17             Current                     1\n",
              "18             Current                     1\n",
              "19             Current                     1\n",
              "20  Late (31-120 days)                     0\n",
              "21             Current                     1\n",
              "22             Current                     1\n",
              "23             Current                     1\n",
              "24             Current                     1\n",
              "25             Current                     1\n",
              "26             Current                     1\n",
              "27             Current                     1\n",
              "28             Current                     1\n",
              "29          Fully Paid                     1\n",
              "30             Current                     1\n",
              "31             Current                     1\n",
              "32             Current                     1\n",
              "33             Current                     1\n",
              "34             Current                     1\n",
              "35             Current                     1\n",
              "36             Current                     1\n",
              "37             Current                     1\n",
              "38             Current                     1\n",
              "39             Current                     1\n",
              "40             Current                     1\n",
              "41             Current                     1\n",
              "42             Current                     1\n",
              "43             Current                     1\n",
              "44             Current                     1\n",
              "45             Current                     1\n",
              "46             Current                     1\n",
              "47             Current                     1\n",
              "48             Current                     1\n",
              "49             Current                     1\n",
              "50             Current                     1\n",
              "51             Current                     1\n",
              "52             Current                     1\n",
              "53             Current                     1\n",
              "54             Current                     1\n",
              "55             Current                     1\n",
              "56          Fully Paid                     1\n",
              "57             Current                     1\n",
              "58             Current                     1\n",
              "59             Current                     1\n",
              "60          Fully Paid                     1\n",
              "61             Current                     1\n",
              "62             Current                     1\n",
              "63             Current                     1\n",
              "64             Current                     1\n",
              "65             Current                     1\n",
              "66             Current                     1\n",
              "67             Current                     1\n",
              "68             Current                     1\n",
              "69             Current                     1\n",
              "70             Current                     1\n",
              "71          Fully Paid                     1\n",
              "72             Current                     1\n",
              "73          Fully Paid                     1\n",
              "74             Current                     1\n",
              "75             Current                     1\n",
              "76             Current                     1\n",
              "77             Current                     1\n",
              "78             Current                     1\n",
              "79             Current                     1\n",
              "80             Current                     1\n",
              "81          Fully Paid                     1\n",
              "82             Current                     1\n",
              "83             Current                     1\n",
              "84  Late (31-120 days)                     0\n",
              "85             Current                     1\n",
              "86             Current                     1\n",
              "87             Current                     1\n",
              "88             Current                     1\n",
              "89             Current                     1\n",
              "90             Current                     1\n",
              "91             Current                     1\n",
              "92             Current                     1\n",
              "93             Current                     1\n",
              "94             Current                     1\n",
              "95             Current                     1\n",
              "96             Current                     1\n",
              "97             Current                     1\n",
              "98             Current                     1\n",
              "99             Current                     1"
            ]
          },
          "metadata": {
            "tags": []
          },
          "execution_count": 68
        }
      ]
    },
    {
      "cell_type": "code",
      "metadata": {
        "id": "0PgJUdOJwAMV",
        "colab_type": "code",
        "colab": {
          "base_uri": "https://localhost:8080/",
          "height": 223
        },
        "outputId": "8491c5fa-7327-42a6-ff72-ad939a9d8696"
      },
      "source": [
        "df['last_pymnt_d'].head(10)"
      ],
      "execution_count": 69,
      "outputs": [
        {
          "output_type": "execute_result",
          "data": {
            "text/plain": [
              "0    Jun-2019\n",
              "1    May-2019\n",
              "2    May-2019\n",
              "3    May-2019\n",
              "4    Jun-2019\n",
              "5    May-2019\n",
              "6    May-2019\n",
              "7    May-2019\n",
              "8    May-2019\n",
              "9    May-2019\n",
              "Name: last_pymnt_d, dtype: object"
            ]
          },
          "metadata": {
            "tags": []
          },
          "execution_count": 69
        }
      ]
    },
    {
      "cell_type": "code",
      "metadata": {
        "id": "hK_8lC5exUy6",
        "colab_type": "code",
        "colab": {
          "base_uri": "https://localhost:8080/",
          "height": 111
        },
        "outputId": "25784cda-6713-4d81-a5b3-8e230ee40a8d"
      },
      "source": [
        "df['last_pymnt_d'].describe()"
      ],
      "execution_count": 70,
      "outputs": [
        {
          "output_type": "execute_result",
          "data": {
            "text/plain": [
              "count       128253\n",
              "unique          10\n",
              "top       Jun-2019\n",
              "freq        103574\n",
              "Name: last_pymnt_d, dtype: object"
            ]
          },
          "metadata": {
            "tags": []
          },
          "execution_count": 70
        }
      ]
    },
    {
      "cell_type": "code",
      "metadata": {
        "id": "2ledFO9Sy7gz",
        "colab_type": "code",
        "colab": {
          "base_uri": "https://localhost:8080/",
          "height": 36
        },
        "outputId": "651e83de-4adb-4a2a-9b11-76ca504cc282"
      },
      "source": [
        "df['last_pymnt_d'].isna().sum()"
      ],
      "execution_count": 71,
      "outputs": [
        {
          "output_type": "execute_result",
          "data": {
            "text/plain": [
              "159"
            ]
          },
          "metadata": {
            "tags": []
          },
          "execution_count": 71
        }
      ]
    },
    {
      "cell_type": "code",
      "metadata": {
        "id": "AwztGJRpxXRA",
        "colab_type": "code",
        "colab": {
          "base_uri": "https://localhost:8080/",
          "height": 129
        },
        "outputId": "88fd16cb-887e-42bd-86bb-b2e3e76b2de4"
      },
      "source": [
        "df['last_pymnt_d'] = pd.to_datetime(df['last_pymnt_d'], infer_datetime_format=True)\n",
        "df['last_pymnt_d'].head()"
      ],
      "execution_count": 72,
      "outputs": [
        {
          "output_type": "execute_result",
          "data": {
            "text/plain": [
              "0   2019-06-01\n",
              "1   2019-05-01\n",
              "2   2019-05-01\n",
              "3   2019-05-01\n",
              "4   2019-06-01\n",
              "Name: last_pymnt_d, dtype: datetime64[ns]"
            ]
          },
          "metadata": {
            "tags": []
          },
          "execution_count": 72
        }
      ]
    },
    {
      "cell_type": "code",
      "metadata": {
        "id": "6KX2yBUxzwZR",
        "colab_type": "code",
        "colab": {}
      },
      "source": [
        "df['last_pymnt_d'].fillna(df['last_pymnt_d'].mode(), inplace=True)"
      ],
      "execution_count": 0,
      "outputs": []
    },
    {
      "cell_type": "code",
      "metadata": {
        "id": "XFofjMTL0aZX",
        "colab_type": "code",
        "colab": {
          "base_uri": "https://localhost:8080/",
          "height": 36
        },
        "outputId": "292d5508-39f1-435d-e69a-5201216080ad"
      },
      "source": [
        "df['last_pymnt_d'].isna().sum()"
      ],
      "execution_count": 74,
      "outputs": [
        {
          "output_type": "execute_result",
          "data": {
            "text/plain": [
              "159"
            ]
          },
          "metadata": {
            "tags": []
          },
          "execution_count": 74
        }
      ]
    },
    {
      "cell_type": "code",
      "metadata": {
        "id": "tvSfE88m193-",
        "colab_type": "code",
        "colab": {
          "base_uri": "https://localhost:8080/",
          "height": 129
        },
        "outputId": "c463b432-5502-4571-80de-5fa3cb93df22"
      },
      "source": [
        "df['last_pymnt_d'].head()"
      ],
      "execution_count": 75,
      "outputs": [
        {
          "output_type": "execute_result",
          "data": {
            "text/plain": [
              "0   2019-06-01\n",
              "1   2019-05-01\n",
              "2   2019-05-01\n",
              "3   2019-05-01\n",
              "4   2019-06-01\n",
              "Name: last_pymnt_d, dtype: datetime64[ns]"
            ]
          },
          "metadata": {
            "tags": []
          },
          "execution_count": 75
        }
      ]
    },
    {
      "cell_type": "code",
      "metadata": {
        "id": "G-dUSP31x12e",
        "colab_type": "code",
        "colab": {}
      },
      "source": [
        "df['last_pymnt_d_month'] = df['last_pymnt_d'].dt.month\n",
        "df['last_pymnt_d_year'] = df['last_pymnt_d'].dt.year"
      ],
      "execution_count": 0,
      "outputs": []
    },
    {
      "cell_type": "code",
      "metadata": {
        "id": "pQyKwZC4ym0h",
        "colab_type": "code",
        "colab": {
          "base_uri": "https://localhost:8080/",
          "height": 676
        },
        "outputId": "7cd0e14f-6cbc-42fc-efe9-4b12aa3c3b4f"
      },
      "source": [
        "df[['last_pymnt_d', 'last_pymnt_d_month', 'last_pymnt_d_year']].head(20)"
      ],
      "execution_count": 77,
      "outputs": [
        {
          "output_type": "execute_result",
          "data": {
            "text/html": [
              "<div>\n",
              "<style scoped>\n",
              "    .dataframe tbody tr th:only-of-type {\n",
              "        vertical-align: middle;\n",
              "    }\n",
              "\n",
              "    .dataframe tbody tr th {\n",
              "        vertical-align: top;\n",
              "    }\n",
              "\n",
              "    .dataframe thead th {\n",
              "        text-align: right;\n",
              "    }\n",
              "</style>\n",
              "<table border=\"1\" class=\"dataframe\">\n",
              "  <thead>\n",
              "    <tr style=\"text-align: right;\">\n",
              "      <th></th>\n",
              "      <th>last_pymnt_d</th>\n",
              "      <th>last_pymnt_d_month</th>\n",
              "      <th>last_pymnt_d_year</th>\n",
              "    </tr>\n",
              "  </thead>\n",
              "  <tbody>\n",
              "    <tr>\n",
              "      <th>0</th>\n",
              "      <td>2019-06-01</td>\n",
              "      <td>6.0</td>\n",
              "      <td>2019.0</td>\n",
              "    </tr>\n",
              "    <tr>\n",
              "      <th>1</th>\n",
              "      <td>2019-05-01</td>\n",
              "      <td>5.0</td>\n",
              "      <td>2019.0</td>\n",
              "    </tr>\n",
              "    <tr>\n",
              "      <th>2</th>\n",
              "      <td>2019-05-01</td>\n",
              "      <td>5.0</td>\n",
              "      <td>2019.0</td>\n",
              "    </tr>\n",
              "    <tr>\n",
              "      <th>3</th>\n",
              "      <td>2019-05-01</td>\n",
              "      <td>5.0</td>\n",
              "      <td>2019.0</td>\n",
              "    </tr>\n",
              "    <tr>\n",
              "      <th>4</th>\n",
              "      <td>2019-06-01</td>\n",
              "      <td>6.0</td>\n",
              "      <td>2019.0</td>\n",
              "    </tr>\n",
              "    <tr>\n",
              "      <th>5</th>\n",
              "      <td>2019-05-01</td>\n",
              "      <td>5.0</td>\n",
              "      <td>2019.0</td>\n",
              "    </tr>\n",
              "    <tr>\n",
              "      <th>6</th>\n",
              "      <td>2019-05-01</td>\n",
              "      <td>5.0</td>\n",
              "      <td>2019.0</td>\n",
              "    </tr>\n",
              "    <tr>\n",
              "      <th>7</th>\n",
              "      <td>2019-05-01</td>\n",
              "      <td>5.0</td>\n",
              "      <td>2019.0</td>\n",
              "    </tr>\n",
              "    <tr>\n",
              "      <th>8</th>\n",
              "      <td>2019-05-01</td>\n",
              "      <td>5.0</td>\n",
              "      <td>2019.0</td>\n",
              "    </tr>\n",
              "    <tr>\n",
              "      <th>9</th>\n",
              "      <td>2019-05-01</td>\n",
              "      <td>5.0</td>\n",
              "      <td>2019.0</td>\n",
              "    </tr>\n",
              "    <tr>\n",
              "      <th>10</th>\n",
              "      <td>2019-04-01</td>\n",
              "      <td>4.0</td>\n",
              "      <td>2019.0</td>\n",
              "    </tr>\n",
              "    <tr>\n",
              "      <th>11</th>\n",
              "      <td>2019-04-01</td>\n",
              "      <td>4.0</td>\n",
              "      <td>2019.0</td>\n",
              "    </tr>\n",
              "    <tr>\n",
              "      <th>12</th>\n",
              "      <td>2019-05-01</td>\n",
              "      <td>5.0</td>\n",
              "      <td>2019.0</td>\n",
              "    </tr>\n",
              "    <tr>\n",
              "      <th>13</th>\n",
              "      <td>2019-06-01</td>\n",
              "      <td>6.0</td>\n",
              "      <td>2019.0</td>\n",
              "    </tr>\n",
              "    <tr>\n",
              "      <th>14</th>\n",
              "      <td>2019-05-01</td>\n",
              "      <td>5.0</td>\n",
              "      <td>2019.0</td>\n",
              "    </tr>\n",
              "    <tr>\n",
              "      <th>15</th>\n",
              "      <td>2019-05-01</td>\n",
              "      <td>5.0</td>\n",
              "      <td>2019.0</td>\n",
              "    </tr>\n",
              "    <tr>\n",
              "      <th>16</th>\n",
              "      <td>2019-06-01</td>\n",
              "      <td>6.0</td>\n",
              "      <td>2019.0</td>\n",
              "    </tr>\n",
              "    <tr>\n",
              "      <th>17</th>\n",
              "      <td>2019-05-01</td>\n",
              "      <td>5.0</td>\n",
              "      <td>2019.0</td>\n",
              "    </tr>\n",
              "    <tr>\n",
              "      <th>18</th>\n",
              "      <td>2019-06-01</td>\n",
              "      <td>6.0</td>\n",
              "      <td>2019.0</td>\n",
              "    </tr>\n",
              "    <tr>\n",
              "      <th>19</th>\n",
              "      <td>2019-05-01</td>\n",
              "      <td>5.0</td>\n",
              "      <td>2019.0</td>\n",
              "    </tr>\n",
              "  </tbody>\n",
              "</table>\n",
              "</div>"
            ],
            "text/plain": [
              "   last_pymnt_d  last_pymnt_d_month  last_pymnt_d_year\n",
              "0    2019-06-01                 6.0             2019.0\n",
              "1    2019-05-01                 5.0             2019.0\n",
              "2    2019-05-01                 5.0             2019.0\n",
              "3    2019-05-01                 5.0             2019.0\n",
              "4    2019-06-01                 6.0             2019.0\n",
              "5    2019-05-01                 5.0             2019.0\n",
              "6    2019-05-01                 5.0             2019.0\n",
              "7    2019-05-01                 5.0             2019.0\n",
              "8    2019-05-01                 5.0             2019.0\n",
              "9    2019-05-01                 5.0             2019.0\n",
              "10   2019-04-01                 4.0             2019.0\n",
              "11   2019-04-01                 4.0             2019.0\n",
              "12   2019-05-01                 5.0             2019.0\n",
              "13   2019-06-01                 6.0             2019.0\n",
              "14   2019-05-01                 5.0             2019.0\n",
              "15   2019-05-01                 5.0             2019.0\n",
              "16   2019-06-01                 6.0             2019.0\n",
              "17   2019-05-01                 5.0             2019.0\n",
              "18   2019-06-01                 6.0             2019.0\n",
              "19   2019-05-01                 5.0             2019.0"
            ]
          },
          "metadata": {
            "tags": []
          },
          "execution_count": 77
        }
      ]
    },
    {
      "cell_type": "markdown",
      "metadata": {
        "colab_type": "text",
        "id": "L8k0LiHmo5EU"
      },
      "source": [
        "# STRETCH OPTIONS\n",
        "\n",
        "You can do more with the LendingClub or Instacart datasets.\n",
        "\n",
        "LendingClub options:\n",
        "- There's one other column in the dataframe with percent signs. Remove them and convert to floats. You'll need to handle missing values.\n",
        "- Modify the `emp_title` column to replace titles with 'Other' if the title is not in the top 20. \n",
        "- Take initiatve and work on your own ideas!\n",
        "\n",
        "Instacart options:\n",
        "- Read [Instacart Market Basket Analysis, Winner's Interview: 2nd place, Kazuki Onodera](http://blog.kaggle.com/2017/09/21/instacart-market-basket-analysis-winners-interview-2nd-place-kazuki-onodera/), especially the **Feature Engineering** section. (Can you choose one feature from his bulleted lists, and try to engineer it with pandas code?)\n",
        "- Read and replicate parts of [Simple Exploration Notebook - Instacart](https://www.kaggle.com/sudalairajkumar/simple-exploration-notebook-instacart). (It's the Python Notebook with the most upvotes for this Kaggle competition.)\n",
        "- Take initiative and work on your own ideas!"
      ]
    },
    {
      "cell_type": "markdown",
      "metadata": {
        "colab_type": "text",
        "id": "0_7PXF7lpEXg"
      },
      "source": [
        "You can uncomment and run the cells below to re-download and extract the Instacart data"
      ]
    },
    {
      "cell_type": "code",
      "metadata": {
        "id": "TwALG53nfFel",
        "colab_type": "code",
        "colab": {}
      },
      "source": [
        "# !wget https://s3.amazonaws.com/instacart-datasets/instacart_online_grocery_shopping_2017_05_01.tar.gz"
      ],
      "execution_count": 0,
      "outputs": []
    },
    {
      "cell_type": "code",
      "metadata": {
        "id": "1BcDmGClfFeo",
        "colab_type": "code",
        "colab": {}
      },
      "source": [
        "# !tar --gunzip --extract --verbose --file=instacart_online_grocery_shopping_2017_05_01.tar.gz"
      ],
      "execution_count": 0,
      "outputs": []
    },
    {
      "cell_type": "code",
      "metadata": {
        "id": "cniD0Z_4fFew",
        "colab_type": "code",
        "colab": {}
      },
      "source": [
        "# %cd instacart_2017_05_01"
      ],
      "execution_count": 0,
      "outputs": []
    }
  ]
}