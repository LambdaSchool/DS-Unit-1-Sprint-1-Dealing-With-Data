{
  "nbformat": 4,
  "nbformat_minor": 0,
  "metadata": {
    "colab": {
      "name": "LS_DS_124_Make_features.ipynb",
      "version": "0.3.2",
      "provenance": [],
      "collapsed_sections": [],
      "include_colab_link": true
    },
    "kernelspec": {
      "display_name": "Python 3",
      "language": "python",
      "name": "python3"
    },
    "language_info": {
      "codemirror_mode": {
        "name": "ipython",
        "version": 3
      },
      "file_extension": ".py",
      "mimetype": "text/x-python",
      "name": "python",
      "nbconvert_exporter": "python",
      "pygments_lexer": "ipython3",
      "version": "3.7.1"
    }
  },
  "cells": [
    {
      "cell_type": "markdown",
      "metadata": {
        "id": "view-in-github",
        "colab_type": "text"
      },
      "source": [
        "<a href=\"https://colab.research.google.com/github/alastra32/DS-Unit-1-Sprint-1-Dealing-With-Data/blob/master/module4-makefeatures/LS_DS_124_Make_features.ipynb\" target=\"_parent\"><img src=\"https://colab.research.google.com/assets/colab-badge.svg\" alt=\"Open In Colab\"/></a>"
      ]
    },
    {
      "cell_type": "markdown",
      "metadata": {
        "colab_type": "text",
        "id": "qacqiXogluN_"
      },
      "source": [
        "_Lambda School Data Science_\n",
        "\n",
        "# Make features\n",
        "\n",
        "Objectives\n",
        "-  understand the purpose of feature engineering\n",
        "-  work with strings in pandas\n",
        "- work with dates and times in pandas\n",
        "\n",
        "Links\n",
        "- [Feature Engineering](https://en.wikipedia.org/wiki/Feature_engineering)\n",
        "- Python Data Science Handbook\n",
        "  - [Chapter 3.10](https://jakevdp.github.io/PythonDataScienceHandbook/03.10-working-with-strings.html), Vectorized String Operations\n",
        "  - [Chapter 3.11](https://jakevdp.github.io/PythonDataScienceHandbook/03.11-working-with-time-series.html), Working with Time Series"
      ]
    },
    {
      "cell_type": "markdown",
      "metadata": {
        "colab_type": "text",
        "id": "iSGiSktAoWIx"
      },
      "source": [
        "## Get LendingClub data\n",
        "\n",
        "[Source](https://www.lendingclub.com/info/download-data.action)"
      ]
    },
    {
      "cell_type": "code",
      "metadata": {
        "colab_type": "code",
        "id": "2ugxlWXimoHn",
        "outputId": "8a7ba885-8666-4636-8ab8-5fd2b8dd65c7",
        "colab": {
          "base_uri": "https://localhost:8080/",
          "height": 204
        }
      },
      "source": [
        "!wget https://resources.lendingclub.com/LoanStats_2019Q1.csv.zip"
      ],
      "execution_count": 1,
      "outputs": [
        {
          "output_type": "stream",
          "text": [
            "--2019-07-19 05:09:09--  https://resources.lendingclub.com/LoanStats_2019Q1.csv.zip\n",
            "Resolving resources.lendingclub.com (resources.lendingclub.com)... 64.48.1.20\n",
            "Connecting to resources.lendingclub.com (resources.lendingclub.com)|64.48.1.20|:443... connected.\n",
            "HTTP request sent, awaiting response... 200 OK\n",
            "Length: unspecified [application/zip]\n",
            "Saving to: ‘LoanStats_2019Q1.csv.zip’\n",
            "\n",
            "LoanStats_2019Q1.cs     [    <=>             ]  19.30M   864KB/s    in 23s     \n",
            "\n",
            "2019-07-19 05:09:32 (852 KB/s) - ‘LoanStats_2019Q1.csv.zip’ saved [20240936]\n",
            "\n"
          ],
          "name": "stdout"
        }
      ]
    },
    {
      "cell_type": "code",
      "metadata": {
        "colab_type": "code",
        "id": "-4sk6qPgmpmN",
        "outputId": "b1e35479-8a54-4d69-fe0e-ed7878d3cf09",
        "colab": {
          "base_uri": "https://localhost:8080/",
          "height": 51
        }
      },
      "source": [
        "!unzip LoanStats_2019Q1.csv.zip "
      ],
      "execution_count": 2,
      "outputs": [
        {
          "output_type": "stream",
          "text": [
            "Archive:  LoanStats_2019Q1.csv.zip\n",
            "  inflating: LoanStats_2019Q1.csv    \n"
          ],
          "name": "stdout"
        }
      ]
    },
    {
      "cell_type": "code",
      "metadata": {
        "colab_type": "code",
        "id": "seh5oNE1nD0X",
        "outputId": "71abb5f9-6fe4-42d3-cdab-7e5459629a37",
        "colab": {
          "base_uri": "https://localhost:8080/",
          "height": 207
        }
      },
      "source": [
        "!head LoanStats_2019Q1.csv"
      ],
      "execution_count": 3,
      "outputs": [
        {
          "output_type": "stream",
          "text": [
            "Notes offered by Prospectus (https://www.lendingclub.com/info/prospectus.action)\n",
            "\"id\",\"member_id\",\"loan_amnt\",\"funded_amnt\",\"funded_amnt_inv\",\"term\",\"int_rate\",\"installment\",\"grade\",\"sub_grade\",\"emp_title\",\"emp_length\",\"home_ownership\",\"annual_inc\",\"verification_status\",\"issue_d\",\"loan_status\",\"pymnt_plan\",\"url\",\"desc\",\"purpose\",\"title\",\"zip_code\",\"addr_state\",\"dti\",\"delinq_2yrs\",\"earliest_cr_line\",\"inq_last_6mths\",\"mths_since_last_delinq\",\"mths_since_last_record\",\"open_acc\",\"pub_rec\",\"revol_bal\",\"revol_util\",\"total_acc\",\"initial_list_status\",\"out_prncp\",\"out_prncp_inv\",\"total_pymnt\",\"total_pymnt_inv\",\"total_rec_prncp\",\"total_rec_int\",\"total_rec_late_fee\",\"recoveries\",\"collection_recovery_fee\",\"last_pymnt_d\",\"last_pymnt_amnt\",\"next_pymnt_d\",\"last_credit_pull_d\",\"collections_12_mths_ex_med\",\"mths_since_last_major_derog\",\"policy_code\",\"application_type\",\"annual_inc_joint\",\"dti_joint\",\"verification_status_joint\",\"acc_now_delinq\",\"tot_coll_amt\",\"tot_cur_bal\",\"open_acc_6m\",\"open_act_il\",\"open_il_12m\",\"open_il_24m\",\"mths_since_rcnt_il\",\"total_bal_il\",\"il_util\",\"open_rv_12m\",\"open_rv_24m\",\"max_bal_bc\",\"all_util\",\"total_rev_hi_lim\",\"inq_fi\",\"total_cu_tl\",\"inq_last_12m\",\"acc_open_past_24mths\",\"avg_cur_bal\",\"bc_open_to_buy\",\"bc_util\",\"chargeoff_within_12_mths\",\"delinq_amnt\",\"mo_sin_old_il_acct\",\"mo_sin_old_rev_tl_op\",\"mo_sin_rcnt_rev_tl_op\",\"mo_sin_rcnt_tl\",\"mort_acc\",\"mths_since_recent_bc\",\"mths_since_recent_bc_dlq\",\"mths_since_recent_inq\",\"mths_since_recent_revol_delinq\",\"num_accts_ever_120_pd\",\"num_actv_bc_tl\",\"num_actv_rev_tl\",\"num_bc_sats\",\"num_bc_tl\",\"num_il_tl\",\"num_op_rev_tl\",\"num_rev_accts\",\"num_rev_tl_bal_gt_0\",\"num_sats\",\"num_tl_120dpd_2m\",\"num_tl_30dpd\",\"num_tl_90g_dpd_24m\",\"num_tl_op_past_12m\",\"pct_tl_nvr_dlq\",\"percent_bc_gt_75\",\"pub_rec_bankruptcies\",\"tax_liens\",\"tot_hi_cred_lim\",\"total_bal_ex_mort\",\"total_bc_limit\",\"total_il_high_credit_limit\",\"revol_bal_joint\",\"sec_app_earliest_cr_line\",\"sec_app_inq_last_6mths\",\"sec_app_mort_acc\",\"sec_app_open_acc\",\"sec_app_revol_util\",\"sec_app_open_act_il\",\"sec_app_num_rev_accts\",\"sec_app_chargeoff_within_12_mths\",\"sec_app_collections_12_mths_ex_med\",\"sec_app_mths_since_last_major_derog\",\"hardship_flag\",\"hardship_type\",\"hardship_reason\",\"hardship_status\",\"deferral_term\",\"hardship_amount\",\"hardship_start_date\",\"hardship_end_date\",\"payment_plan_start_date\",\"hardship_length\",\"hardship_dpd\",\"hardship_loan_status\",\"orig_projected_additional_accrued_interest\",\"hardship_payoff_balance_amount\",\"hardship_last_payment_amount\",\"debt_settlement_flag\",\"debt_settlement_flag_date\",\"settlement_status\",\"settlement_date\",\"settlement_amount\",\"settlement_percentage\",\"settlement_term\"\n",
            "\"\",\"\",\"20000\",\"20000\",\"20000\",\" 60 months\",\" 17.19%\",\"499.1\",\"C\",\"C5\",\"Front desk supervisor\",\"6 years\",\"RENT\",\"47000\",\"Source Verified\",\"Mar-2019\",\"Current\",\"n\",\"\",\"\",\"debt_consolidation\",\"Debt consolidation\",\"958xx\",\"CA\",\"14.02\",\"0\",\"Sep-2006\",\"1\",\"50\",\"\",\"15\",\"0\",\"10687\",\"19.7%\",\"53\",\"w\",\"19254.76\",\"19254.76\",\"1459.1\",\"1459.10\",\"745.24\",\"713.86\",\"0.0\",\"0.0\",\"0.0\",\"Jun-2019\",\"499.1\",\"Jul-2019\",\"Jun-2019\",\"0\",\"50\",\"1\",\"Individual\",\"\",\"\",\"\",\"0\",\"0\",\"31546\",\"3\",\"2\",\"1\",\"2\",\"10\",\"20859\",\"97\",\"4\",\"9\",\"5909\",\"42\",\"54300\",\"6\",\"1\",\"3\",\"11\",\"2103\",\"23647\",\"30\",\"0\",\"0\",\"150\",\"100\",\"1\",\"1\",\"0\",\"5\",\"\",\"3\",\"50\",\"3\",\"3\",\"4\",\"8\",\"19\",\"19\",\"13\",\"33\",\"4\",\"15\",\"0\",\"0\",\"0\",\"5\",\"98\",\"12.5\",\"0\",\"0\",\"75824\",\"31546\",\"33800\",\"21524\",\"\",\"\",\"\",\"\",\"\",\"\",\"\",\"\",\"\",\"\",\"\",\"N\",\"\",\"\",\"\",\"\",\"\",\"\",\"\",\"\",\"\",\"\",\"\",\"\",\"\",\"\",\"N\",\"\",\"\",\"\",\"\",\"\",\"\"\n",
            "\"\",\"\",\"12000\",\"12000\",\"12000\",\" 36 months\",\" 16.40%\",\"424.26\",\"C\",\"C4\",\"Executive Director\",\"4 years\",\"MORTGAGE\",\"95000\",\"Not Verified\",\"Mar-2019\",\"Current\",\"n\",\"\",\"\",\"debt_consolidation\",\"Debt consolidation\",\"436xx\",\"OH\",\"29.5\",\"0\",\"Nov-1992\",\"0\",\"29\",\"\",\"19\",\"0\",\"16619\",\"64.9%\",\"36\",\"w\",\"11475.92\",\"11475.92\",\"826.65\",\"826.65\",\"524.08\",\"302.57\",\"0.0\",\"0.0\",\"0.0\",\"May-2019\",\"424.26\",\"Jul-2019\",\"Jun-2019\",\"0\",\"30\",\"1\",\"Individual\",\"\",\"\",\"\",\"0\",\"0\",\"176551\",\"1\",\"5\",\"2\",\"5\",\"7\",\"35115\",\"65\",\"3\",\"6\",\"4899\",\"65\",\"25600\",\"4\",\"0\",\"3\",\"12\",\"9292\",\"3231\",\"82.5\",\"0\",\"0\",\"316\",\"269\",\"5\",\"5\",\"2\",\"12\",\"58\",\"7\",\"29\",\"1\",\"6\",\"8\",\"6\",\"9\",\"10\",\"13\",\"23\",\"8\",\"19\",\"0\",\"0\",\"0\",\"6\",\"80.6\",\"66.7\",\"0\",\"0\",\"209488\",\"51734\",\"18500\",\"54263\",\"\",\"\",\"\",\"\",\"\",\"\",\"\",\"\",\"\",\"\",\"\",\"N\",\"\",\"\",\"\",\"\",\"\",\"\",\"\",\"\",\"\",\"\",\"\",\"\",\"\",\"\",\"N\",\"\",\"\",\"\",\"\",\"\",\"\"\n",
            "\"\",\"\",\"3000\",\"3000\",\"3000\",\" 36 months\",\" 14.74%\",\"103.62\",\"C\",\"C2\",\"Office Manager\",\"4 years\",\"MORTGAGE\",\"58750\",\"Verified\",\"Mar-2019\",\"Current\",\"n\",\"\",\"\",\"medical\",\"Medical expenses\",\"327xx\",\"FL\",\"30.91\",\"0\",\"Jun-2004\",\"0\",\"24\",\"\",\"16\",\"0\",\"20502\",\"60.1%\",\"25\",\"f\",\"2865.64\",\"2865.64\",\"202.33\",\"202.33\",\"134.36\",\"67.97\",\"0.0\",\"0.0\",\"0.0\",\"May-2019\",\"103.62\",\"Jul-2019\",\"Jun-2019\",\"0\",\"\",\"1\",\"Individual\",\"\",\"\",\"\",\"0\",\"0\",\"37816\",\"0\",\"3\",\"0\",\"0\",\"27\",\"17314\",\"48\",\"0\",\"0\",\"3962\",\"54\",\"34100\",\"0\",\"1\",\"0\",\"0\",\"2364\",\"1208\",\"89.4\",\"0\",\"0\",\"177\",\"164\",\"35\",\"27\",\"4\",\"40\",\"24\",\"\",\"24\",\"0\",\"7\",\"12\",\"7\",\"8\",\"6\",\"13\",\"15\",\"12\",\"16\",\"0\",\"0\",\"0\",\"0\",\"96\",\"71.4\",\"0\",\"0\",\"69911\",\"37816\",\"11400\",\"35811\",\"\",\"\",\"\",\"\",\"\",\"\",\"\",\"\",\"\",\"\",\"\",\"N\",\"\",\"\",\"\",\"\",\"\",\"\",\"\",\"\",\"\",\"\",\"\",\"\",\"\",\"\",\"N\",\"\",\"\",\"\",\"\",\"\",\"\"\n",
            "\"\",\"\",\"35000\",\"35000\",\"35000\",\" 36 months\",\" 15.57%\",\"1223.08\",\"C\",\"C3\",\"Store Manager \",\"10+ years\",\"RENT\",\"122000\",\"Verified\",\"Mar-2019\",\"Current\",\"n\",\"\",\"\",\"credit_card\",\"Credit card refinancing\",\"333xx\",\"FL\",\"22\",\"1\",\"Dec-2009\",\"0\",\"20\",\"\",\"5\",\"0\",\"1441\",\"24.4%\",\"18\",\"w\",\"33459.43\",\"33459.43\",\"2446.76\",\"2446.76\",\"1540.57\",\"845.04\",\"61.15\",\"0.0\",\"0.0\",\"Jun-2019\",\"1223.08\",\"Jul-2019\",\"Jun-2019\",\"0\",\"20\",\"1\",\"Individual\",\"\",\"\",\"\",\"0\",\"0\",\"24471\",\"0\",\"3\",\"0\",\"0\",\"26\",\"23030\",\"39\",\"0\",\"0\",\"1441\",\"37\",\"5900\",\"2\",\"4\",\"1\",\"1\",\"4894\",\"159\",\"90.1\",\"0\",\"0\",\"108\",\"111\",\"52\",\"24\",\"0\",\"85\",\"\",\"9\",\"\",\"1\",\"1\",\"1\",\"1\",\"3\",\"10\",\"2\",\"7\",\"1\",\"5\",\"0\",\"0\",\"1\",\"0\",\"94.4\",\"100\",\"0\",\"0\",\"65640\",\"24471\",\"1600\",\"59740\",\"\",\"\",\"\",\"\",\"\",\"\",\"\",\"\",\"\",\"\",\"\",\"N\",\"\",\"\",\"\",\"\",\"\",\"\",\"\",\"\",\"\",\"\",\"\",\"\",\"\",\"\",\"N\",\"\",\"\",\"\",\"\",\"\",\"\"\n",
            "\"\",\"\",\"5000\",\"5000\",\"5000\",\" 36 months\",\" 15.57%\",\"174.73\",\"C\",\"C3\",\"Area Manager\",\"3 years\",\"OWN\",\"65000\",\"Verified\",\"Mar-2019\",\"Current\",\"n\",\"\",\"\",\"house\",\"Home buying\",\"640xx\",\"MO\",\"16.28\",\"1\",\"Jul-2001\",\"0\",\"7\",\"\",\"9\",\"0\",\"5604\",\"64.4%\",\"25\",\"w\",\"4778.86\",\"4778.86\",\"340.81\",\"340.81\",\"221.14\",\"119.67\",\"0.0\",\"0.0\",\"0.0\",\"May-2019\",\"174.73\",\"Jul-2019\",\"Jun-2019\",\"0\",\"7\",\"1\",\"Individual\",\"\",\"\",\"\",\"0\",\"0\",\"29775\",\"0\",\"1\",\"0\",\"1\",\"17\",\"24171\",\"82\",\"1\",\"6\",\"1824\",\"78\",\"8700\",\"1\",\"0\",\"0\",\"7\",\"3722\",\"1070\",\"75.7\",\"0\",\"0\",\"111\",\"212\",\"10\",\"10\",\"4\",\"17\",\"69\",\"17\",\"69\",\"4\",\"3\",\"5\",\"5\",\"9\",\"7\",\"8\",\"14\",\"5\",\"9\",\"0\",\"0\",\"1\",\"1\",\"76\",\"50\",\"0\",\"0\",\"38190\",\"29775\",\"4400\",\"29490\",\"\",\"\",\"\",\"\",\"\",\"\",\"\",\"\",\"\",\"\",\"\",\"N\",\"\",\"\",\"\",\"\",\"\",\"\",\"\",\"\",\"\",\"\",\"\",\"\",\"\",\"\",\"N\",\"\",\"\",\"\",\"\",\"\",\"\"\n",
            "\"\",\"\",\"40000\",\"40000\",\"40000\",\" 60 months\",\" 12.40%\",\"897.89\",\"B\",\"B4\",\"SVP\",\"10+ years\",\"MORTGAGE\",\"515000\",\"Source Verified\",\"Mar-2019\",\"Current\",\"n\",\"\",\"\",\"debt_consolidation\",\"Debt consolidation\",\"117xx\",\"NY\",\"18.19\",\"0\",\"Feb-1993\",\"1\",\"\",\"\",\"24\",\"0\",\"130490\",\"86.4%\",\"49\",\"w\",\"39025.88\",\"39025.88\",\"1740.67\",\"1740.67\",\"974.12\",\"766.55\",\"0.0\",\"0.0\",\"0.0\",\"May-2019\",\"897.89\",\"Jul-2019\",\"Jun-2019\",\"0\",\"\",\"1\",\"Individual\",\"\",\"\",\"\",\"0\",\"205\",\"569565\",\"3\",\"6\",\"2\",\"3\",\"4\",\"72207\",\"39\",\"3\",\"3\",\"20896\",\"67\",\"151100\",\"1\",\"6\",\"2\",\"7\",\"23732\",\"4733\",\"94.8\",\"0\",\"0\",\"160\",\"304\",\"3\",\"3\",\"6\",\"10\",\"\",\"0\",\"\",\"0\",\"10\",\"14\",\"10\",\"17\",\"12\",\"15\",\"28\",\"14\",\"24\",\"0\",\"0\",\"0\",\"5\",\"100\",\"100\",\"0\",\"0\",\"752911\",\"204997\",\"90800\",\"144678\",\"\",\"\",\"\",\"\",\"\",\"\",\"\",\"\",\"\",\"\",\"\",\"N\",\"\",\"\",\"\",\"\",\"\",\"\",\"\",\"\",\"\",\"\",\"\",\"\",\"\",\"\",\"N\",\"\",\"\",\"\",\"\",\"\",\"\"\n",
            "\"\",\"\",\"40000\",\"40000\",\"40000\",\" 60 months\",\" 11.02%\",\"870.1\",\"B\",\"B2\",\"VP of Sales\",\"3 years\",\"MORTGAGE\",\"288000\",\"Not Verified\",\"Mar-2019\",\"Current\",\"n\",\"\",\"\",\"credit_card\",\"Credit card refinancing\",\"843xx\",\"UT\",\"19.74\",\"0\",\"May-2002\",\"0\",\"\",\"\",\"20\",\"0\",\"66240\",\"43.9%\",\"34\",\"w\",\"38989.85\",\"38989.85\",\"1691.22\",\"1691.22\",\"1010.15\",\"681.07\",\"0.0\",\"0.0\",\"0.0\",\"May-2019\",\"870.1\",\"Jul-2019\",\"Jun-2019\",\"0\",\"\",\"1\",\"Individual\",\"\",\"\",\"\",\"0\",\"0\",\"390598\",\"0\",\"5\",\"0\",\"2\",\"16\",\"140633\",\"58\",\"0\",\"2\",\"22577\",\"49\",\"150900\",\"0\",\"6\",\"1\",\"4\",\"19530\",\"81923\",\"43.1\",\"0\",\"0\",\"136\",\"202\",\"17\",\"16\",\"1\",\"17\",\"\",\"3\",\"\",\"0\",\"8\",\"9\",\"10\",\"15\",\"11\",\"13\",\"22\",\"10\",\"20\",\"0\",\"0\",\"0\",\"0\",\"100\",\"20\",\"0\",\"0\",\"543401\",\"206873\",\"143900\",\"197751\",\"\",\"\",\"\",\"\",\"\",\"\",\"\",\"\",\"\",\"\",\"\",\"N\",\"\",\"\",\"\",\"\",\"\",\"\",\"\",\"\",\"\",\"\",\"\",\"\",\"\",\"\",\"N\",\"\",\"\",\"\",\"\",\"\",\"\"\n",
            "\"\",\"\",\"20000\",\"20000\",\"20000\",\" 60 months\",\" 12.40%\",\"448.95\",\"B\",\"B4\",\"Sales\",\"1 year\",\"MORTGAGE\",\"70000\",\"Source Verified\",\"Mar-2019\",\"Current\",\"n\",\"\",\"\",\"credit_card\",\"Credit card refinancing\",\"481xx\",\"MI\",\"32.33\",\"0\",\"May-1995\",\"0\",\"\",\"\",\"12\",\"0\",\"31036\",\"56.7%\",\"32\",\"w\",\"19512.93\",\"19512.93\",\"870.34\",\"870.34\",\"487.07\",\"383.27\",\"0.0\",\"0.0\",\"0.0\",\"May-2019\",\"448.95\",\"Jul-2019\",\"Jun-2019\",\"0\",\"\",\"1\",\"Joint App\",\"102400\",\"31.16\",\"Source Verified\",\"0\",\"0\",\"204292\",\"0\",\"3\",\"0\",\"1\",\"14\",\"16305\",\"33\",\"0\",\"0\",\"17389\",\"46\",\"54700\",\"1\",\"3\",\"0\",\"2\",\"17024\",\"268\",\"98.9\",\"0\",\"0\",\"133\",\"286\",\"41\",\"14\",\"4\",\"84\",\"\",\"15\",\"\",\"0\",\"3\",\"7\",\"3\",\"7\",\"9\",\"8\",\"19\",\"7\",\"12\",\"0\",\"0\",\"0\",\"0\",\"100\",\"100\",\"0\",\"0\",\"267991\",\"47341\",\"24800\",\"49291\",\"56647\",\"May-1995\",\"0\",\"4\",\"15\",\"61.3\",\"1\",\"31\",\"0\",\"0\",\"\",\"N\",\"\",\"\",\"\",\"\",\"\",\"\",\"\",\"\",\"\",\"\",\"\",\"\",\"\",\"\",\"N\",\"\",\"\",\"\",\"\",\"\",\"\"\n"
          ],
          "name": "stdout"
        }
      ]
    },
    {
      "cell_type": "markdown",
      "metadata": {
        "colab_type": "text",
        "id": "3nAIRCZdofrY"
      },
      "source": [
        "## Load LendingClub data\n",
        "\n",
        "pandas documentation\n",
        "- [`read_csv`](https://pandas.pydata.org/pandas-docs/stable/generated/pandas.read_csv.html)\n",
        "- [`options.display`](https://pandas.pydata.org/pandas-docs/stable/options.html#available-options)"
      ]
    },
    {
      "cell_type": "code",
      "metadata": {
        "colab_type": "code",
        "id": "3-8Vn3y6ooBC",
        "outputId": "86dbf224-f536-478b-dc72-e50a3a6b01c4",
        "colab": {
          "base_uri": "https://localhost:8080/",
          "height": 389
        }
      },
      "source": [
        "import pandas as pd\n",
        "\n",
        "df=pd.read_csv('LoanStats_2019Q1.csv', skiprows=1, skipfooter=2)\n",
        "print (df.shape)\n",
        "df.head()"
      ],
      "execution_count": 4,
      "outputs": [
        {
          "output_type": "stream",
          "text": [
            "/usr/local/lib/python3.6/dist-packages/ipykernel_launcher.py:3: ParserWarning: Falling back to the 'python' engine because the 'c' engine does not support skipfooter; you can avoid this warning by specifying engine='python'.\n",
            "  This is separate from the ipykernel package so we can avoid doing imports until\n"
          ],
          "name": "stderr"
        },
        {
          "output_type": "stream",
          "text": [
            "(115675, 144)\n"
          ],
          "name": "stdout"
        },
        {
          "output_type": "execute_result",
          "data": {
            "text/html": [
              "<div>\n",
              "<style scoped>\n",
              "    .dataframe tbody tr th:only-of-type {\n",
              "        vertical-align: middle;\n",
              "    }\n",
              "\n",
              "    .dataframe tbody tr th {\n",
              "        vertical-align: top;\n",
              "    }\n",
              "\n",
              "    .dataframe thead th {\n",
              "        text-align: right;\n",
              "    }\n",
              "</style>\n",
              "<table border=\"1\" class=\"dataframe\">\n",
              "  <thead>\n",
              "    <tr style=\"text-align: right;\">\n",
              "      <th></th>\n",
              "      <th>id</th>\n",
              "      <th>member_id</th>\n",
              "      <th>loan_amnt</th>\n",
              "      <th>funded_amnt</th>\n",
              "      <th>funded_amnt_inv</th>\n",
              "      <th>term</th>\n",
              "      <th>int_rate</th>\n",
              "      <th>installment</th>\n",
              "      <th>grade</th>\n",
              "      <th>sub_grade</th>\n",
              "      <th>emp_title</th>\n",
              "      <th>emp_length</th>\n",
              "      <th>home_ownership</th>\n",
              "      <th>annual_inc</th>\n",
              "      <th>verification_status</th>\n",
              "      <th>issue_d</th>\n",
              "      <th>loan_status</th>\n",
              "      <th>pymnt_plan</th>\n",
              "      <th>url</th>\n",
              "      <th>desc</th>\n",
              "      <th>purpose</th>\n",
              "      <th>title</th>\n",
              "      <th>zip_code</th>\n",
              "      <th>addr_state</th>\n",
              "      <th>dti</th>\n",
              "      <th>delinq_2yrs</th>\n",
              "      <th>earliest_cr_line</th>\n",
              "      <th>inq_last_6mths</th>\n",
              "      <th>mths_since_last_delinq</th>\n",
              "      <th>mths_since_last_record</th>\n",
              "      <th>open_acc</th>\n",
              "      <th>pub_rec</th>\n",
              "      <th>revol_bal</th>\n",
              "      <th>revol_util</th>\n",
              "      <th>total_acc</th>\n",
              "      <th>initial_list_status</th>\n",
              "      <th>out_prncp</th>\n",
              "      <th>out_prncp_inv</th>\n",
              "      <th>total_pymnt</th>\n",
              "      <th>total_pymnt_inv</th>\n",
              "      <th>...</th>\n",
              "      <th>percent_bc_gt_75</th>\n",
              "      <th>pub_rec_bankruptcies</th>\n",
              "      <th>tax_liens</th>\n",
              "      <th>tot_hi_cred_lim</th>\n",
              "      <th>total_bal_ex_mort</th>\n",
              "      <th>total_bc_limit</th>\n",
              "      <th>total_il_high_credit_limit</th>\n",
              "      <th>revol_bal_joint</th>\n",
              "      <th>sec_app_earliest_cr_line</th>\n",
              "      <th>sec_app_inq_last_6mths</th>\n",
              "      <th>sec_app_mort_acc</th>\n",
              "      <th>sec_app_open_acc</th>\n",
              "      <th>sec_app_revol_util</th>\n",
              "      <th>sec_app_open_act_il</th>\n",
              "      <th>sec_app_num_rev_accts</th>\n",
              "      <th>sec_app_chargeoff_within_12_mths</th>\n",
              "      <th>sec_app_collections_12_mths_ex_med</th>\n",
              "      <th>sec_app_mths_since_last_major_derog</th>\n",
              "      <th>hardship_flag</th>\n",
              "      <th>hardship_type</th>\n",
              "      <th>hardship_reason</th>\n",
              "      <th>hardship_status</th>\n",
              "      <th>deferral_term</th>\n",
              "      <th>hardship_amount</th>\n",
              "      <th>hardship_start_date</th>\n",
              "      <th>hardship_end_date</th>\n",
              "      <th>payment_plan_start_date</th>\n",
              "      <th>hardship_length</th>\n",
              "      <th>hardship_dpd</th>\n",
              "      <th>hardship_loan_status</th>\n",
              "      <th>orig_projected_additional_accrued_interest</th>\n",
              "      <th>hardship_payoff_balance_amount</th>\n",
              "      <th>hardship_last_payment_amount</th>\n",
              "      <th>debt_settlement_flag</th>\n",
              "      <th>debt_settlement_flag_date</th>\n",
              "      <th>settlement_status</th>\n",
              "      <th>settlement_date</th>\n",
              "      <th>settlement_amount</th>\n",
              "      <th>settlement_percentage</th>\n",
              "      <th>settlement_term</th>\n",
              "    </tr>\n",
              "  </thead>\n",
              "  <tbody>\n",
              "    <tr>\n",
              "      <th>0</th>\n",
              "      <td>NaN</td>\n",
              "      <td>NaN</td>\n",
              "      <td>20000</td>\n",
              "      <td>20000</td>\n",
              "      <td>20000</td>\n",
              "      <td>60 months</td>\n",
              "      <td>17.19%</td>\n",
              "      <td>499.10</td>\n",
              "      <td>C</td>\n",
              "      <td>C5</td>\n",
              "      <td>Front desk supervisor</td>\n",
              "      <td>6 years</td>\n",
              "      <td>RENT</td>\n",
              "      <td>47000.0</td>\n",
              "      <td>Source Verified</td>\n",
              "      <td>Mar-2019</td>\n",
              "      <td>Current</td>\n",
              "      <td>n</td>\n",
              "      <td>NaN</td>\n",
              "      <td>NaN</td>\n",
              "      <td>debt_consolidation</td>\n",
              "      <td>Debt consolidation</td>\n",
              "      <td>958xx</td>\n",
              "      <td>CA</td>\n",
              "      <td>14.02</td>\n",
              "      <td>0</td>\n",
              "      <td>Sep-2006</td>\n",
              "      <td>1</td>\n",
              "      <td>50.0</td>\n",
              "      <td>NaN</td>\n",
              "      <td>15</td>\n",
              "      <td>0</td>\n",
              "      <td>10687</td>\n",
              "      <td>19.7%</td>\n",
              "      <td>53</td>\n",
              "      <td>w</td>\n",
              "      <td>19254.76</td>\n",
              "      <td>19254.76</td>\n",
              "      <td>1459.10</td>\n",
              "      <td>1459.10</td>\n",
              "      <td>...</td>\n",
              "      <td>12.5</td>\n",
              "      <td>0</td>\n",
              "      <td>0</td>\n",
              "      <td>75824</td>\n",
              "      <td>31546</td>\n",
              "      <td>33800</td>\n",
              "      <td>21524</td>\n",
              "      <td>NaN</td>\n",
              "      <td>NaN</td>\n",
              "      <td>NaN</td>\n",
              "      <td>NaN</td>\n",
              "      <td>NaN</td>\n",
              "      <td>NaN</td>\n",
              "      <td>NaN</td>\n",
              "      <td>NaN</td>\n",
              "      <td>NaN</td>\n",
              "      <td>NaN</td>\n",
              "      <td>NaN</td>\n",
              "      <td>N</td>\n",
              "      <td>NaN</td>\n",
              "      <td>NaN</td>\n",
              "      <td>NaN</td>\n",
              "      <td>NaN</td>\n",
              "      <td>NaN</td>\n",
              "      <td>NaN</td>\n",
              "      <td>NaN</td>\n",
              "      <td>NaN</td>\n",
              "      <td>NaN</td>\n",
              "      <td>NaN</td>\n",
              "      <td>NaN</td>\n",
              "      <td>NaN</td>\n",
              "      <td>NaN</td>\n",
              "      <td>NaN</td>\n",
              "      <td>N</td>\n",
              "      <td>NaN</td>\n",
              "      <td>NaN</td>\n",
              "      <td>NaN</td>\n",
              "      <td>NaN</td>\n",
              "      <td>NaN</td>\n",
              "      <td>NaN</td>\n",
              "    </tr>\n",
              "    <tr>\n",
              "      <th>1</th>\n",
              "      <td>NaN</td>\n",
              "      <td>NaN</td>\n",
              "      <td>12000</td>\n",
              "      <td>12000</td>\n",
              "      <td>12000</td>\n",
              "      <td>36 months</td>\n",
              "      <td>16.40%</td>\n",
              "      <td>424.26</td>\n",
              "      <td>C</td>\n",
              "      <td>C4</td>\n",
              "      <td>Executive Director</td>\n",
              "      <td>4 years</td>\n",
              "      <td>MORTGAGE</td>\n",
              "      <td>95000.0</td>\n",
              "      <td>Not Verified</td>\n",
              "      <td>Mar-2019</td>\n",
              "      <td>Current</td>\n",
              "      <td>n</td>\n",
              "      <td>NaN</td>\n",
              "      <td>NaN</td>\n",
              "      <td>debt_consolidation</td>\n",
              "      <td>Debt consolidation</td>\n",
              "      <td>436xx</td>\n",
              "      <td>OH</td>\n",
              "      <td>29.50</td>\n",
              "      <td>0</td>\n",
              "      <td>Nov-1992</td>\n",
              "      <td>0</td>\n",
              "      <td>29.0</td>\n",
              "      <td>NaN</td>\n",
              "      <td>19</td>\n",
              "      <td>0</td>\n",
              "      <td>16619</td>\n",
              "      <td>64.9%</td>\n",
              "      <td>36</td>\n",
              "      <td>w</td>\n",
              "      <td>11475.92</td>\n",
              "      <td>11475.92</td>\n",
              "      <td>826.65</td>\n",
              "      <td>826.65</td>\n",
              "      <td>...</td>\n",
              "      <td>66.7</td>\n",
              "      <td>0</td>\n",
              "      <td>0</td>\n",
              "      <td>209488</td>\n",
              "      <td>51734</td>\n",
              "      <td>18500</td>\n",
              "      <td>54263</td>\n",
              "      <td>NaN</td>\n",
              "      <td>NaN</td>\n",
              "      <td>NaN</td>\n",
              "      <td>NaN</td>\n",
              "      <td>NaN</td>\n",
              "      <td>NaN</td>\n",
              "      <td>NaN</td>\n",
              "      <td>NaN</td>\n",
              "      <td>NaN</td>\n",
              "      <td>NaN</td>\n",
              "      <td>NaN</td>\n",
              "      <td>N</td>\n",
              "      <td>NaN</td>\n",
              "      <td>NaN</td>\n",
              "      <td>NaN</td>\n",
              "      <td>NaN</td>\n",
              "      <td>NaN</td>\n",
              "      <td>NaN</td>\n",
              "      <td>NaN</td>\n",
              "      <td>NaN</td>\n",
              "      <td>NaN</td>\n",
              "      <td>NaN</td>\n",
              "      <td>NaN</td>\n",
              "      <td>NaN</td>\n",
              "      <td>NaN</td>\n",
              "      <td>NaN</td>\n",
              "      <td>N</td>\n",
              "      <td>NaN</td>\n",
              "      <td>NaN</td>\n",
              "      <td>NaN</td>\n",
              "      <td>NaN</td>\n",
              "      <td>NaN</td>\n",
              "      <td>NaN</td>\n",
              "    </tr>\n",
              "    <tr>\n",
              "      <th>2</th>\n",
              "      <td>NaN</td>\n",
              "      <td>NaN</td>\n",
              "      <td>3000</td>\n",
              "      <td>3000</td>\n",
              "      <td>3000</td>\n",
              "      <td>36 months</td>\n",
              "      <td>14.74%</td>\n",
              "      <td>103.62</td>\n",
              "      <td>C</td>\n",
              "      <td>C2</td>\n",
              "      <td>Office Manager</td>\n",
              "      <td>4 years</td>\n",
              "      <td>MORTGAGE</td>\n",
              "      <td>58750.0</td>\n",
              "      <td>Verified</td>\n",
              "      <td>Mar-2019</td>\n",
              "      <td>Current</td>\n",
              "      <td>n</td>\n",
              "      <td>NaN</td>\n",
              "      <td>NaN</td>\n",
              "      <td>medical</td>\n",
              "      <td>Medical expenses</td>\n",
              "      <td>327xx</td>\n",
              "      <td>FL</td>\n",
              "      <td>30.91</td>\n",
              "      <td>0</td>\n",
              "      <td>Jun-2004</td>\n",
              "      <td>0</td>\n",
              "      <td>24.0</td>\n",
              "      <td>NaN</td>\n",
              "      <td>16</td>\n",
              "      <td>0</td>\n",
              "      <td>20502</td>\n",
              "      <td>60.1%</td>\n",
              "      <td>25</td>\n",
              "      <td>f</td>\n",
              "      <td>2865.64</td>\n",
              "      <td>2865.64</td>\n",
              "      <td>202.33</td>\n",
              "      <td>202.33</td>\n",
              "      <td>...</td>\n",
              "      <td>71.4</td>\n",
              "      <td>0</td>\n",
              "      <td>0</td>\n",
              "      <td>69911</td>\n",
              "      <td>37816</td>\n",
              "      <td>11400</td>\n",
              "      <td>35811</td>\n",
              "      <td>NaN</td>\n",
              "      <td>NaN</td>\n",
              "      <td>NaN</td>\n",
              "      <td>NaN</td>\n",
              "      <td>NaN</td>\n",
              "      <td>NaN</td>\n",
              "      <td>NaN</td>\n",
              "      <td>NaN</td>\n",
              "      <td>NaN</td>\n",
              "      <td>NaN</td>\n",
              "      <td>NaN</td>\n",
              "      <td>N</td>\n",
              "      <td>NaN</td>\n",
              "      <td>NaN</td>\n",
              "      <td>NaN</td>\n",
              "      <td>NaN</td>\n",
              "      <td>NaN</td>\n",
              "      <td>NaN</td>\n",
              "      <td>NaN</td>\n",
              "      <td>NaN</td>\n",
              "      <td>NaN</td>\n",
              "      <td>NaN</td>\n",
              "      <td>NaN</td>\n",
              "      <td>NaN</td>\n",
              "      <td>NaN</td>\n",
              "      <td>NaN</td>\n",
              "      <td>N</td>\n",
              "      <td>NaN</td>\n",
              "      <td>NaN</td>\n",
              "      <td>NaN</td>\n",
              "      <td>NaN</td>\n",
              "      <td>NaN</td>\n",
              "      <td>NaN</td>\n",
              "    </tr>\n",
              "    <tr>\n",
              "      <th>3</th>\n",
              "      <td>NaN</td>\n",
              "      <td>NaN</td>\n",
              "      <td>35000</td>\n",
              "      <td>35000</td>\n",
              "      <td>35000</td>\n",
              "      <td>36 months</td>\n",
              "      <td>15.57%</td>\n",
              "      <td>1223.08</td>\n",
              "      <td>C</td>\n",
              "      <td>C3</td>\n",
              "      <td>Store Manager</td>\n",
              "      <td>10+ years</td>\n",
              "      <td>RENT</td>\n",
              "      <td>122000.0</td>\n",
              "      <td>Verified</td>\n",
              "      <td>Mar-2019</td>\n",
              "      <td>Current</td>\n",
              "      <td>n</td>\n",
              "      <td>NaN</td>\n",
              "      <td>NaN</td>\n",
              "      <td>credit_card</td>\n",
              "      <td>Credit card refinancing</td>\n",
              "      <td>333xx</td>\n",
              "      <td>FL</td>\n",
              "      <td>22.00</td>\n",
              "      <td>1</td>\n",
              "      <td>Dec-2009</td>\n",
              "      <td>0</td>\n",
              "      <td>20.0</td>\n",
              "      <td>NaN</td>\n",
              "      <td>5</td>\n",
              "      <td>0</td>\n",
              "      <td>1441</td>\n",
              "      <td>24.4%</td>\n",
              "      <td>18</td>\n",
              "      <td>w</td>\n",
              "      <td>33459.43</td>\n",
              "      <td>33459.43</td>\n",
              "      <td>2446.76</td>\n",
              "      <td>2446.76</td>\n",
              "      <td>...</td>\n",
              "      <td>100.0</td>\n",
              "      <td>0</td>\n",
              "      <td>0</td>\n",
              "      <td>65640</td>\n",
              "      <td>24471</td>\n",
              "      <td>1600</td>\n",
              "      <td>59740</td>\n",
              "      <td>NaN</td>\n",
              "      <td>NaN</td>\n",
              "      <td>NaN</td>\n",
              "      <td>NaN</td>\n",
              "      <td>NaN</td>\n",
              "      <td>NaN</td>\n",
              "      <td>NaN</td>\n",
              "      <td>NaN</td>\n",
              "      <td>NaN</td>\n",
              "      <td>NaN</td>\n",
              "      <td>NaN</td>\n",
              "      <td>N</td>\n",
              "      <td>NaN</td>\n",
              "      <td>NaN</td>\n",
              "      <td>NaN</td>\n",
              "      <td>NaN</td>\n",
              "      <td>NaN</td>\n",
              "      <td>NaN</td>\n",
              "      <td>NaN</td>\n",
              "      <td>NaN</td>\n",
              "      <td>NaN</td>\n",
              "      <td>NaN</td>\n",
              "      <td>NaN</td>\n",
              "      <td>NaN</td>\n",
              "      <td>NaN</td>\n",
              "      <td>NaN</td>\n",
              "      <td>N</td>\n",
              "      <td>NaN</td>\n",
              "      <td>NaN</td>\n",
              "      <td>NaN</td>\n",
              "      <td>NaN</td>\n",
              "      <td>NaN</td>\n",
              "      <td>NaN</td>\n",
              "    </tr>\n",
              "    <tr>\n",
              "      <th>4</th>\n",
              "      <td>NaN</td>\n",
              "      <td>NaN</td>\n",
              "      <td>5000</td>\n",
              "      <td>5000</td>\n",
              "      <td>5000</td>\n",
              "      <td>36 months</td>\n",
              "      <td>15.57%</td>\n",
              "      <td>174.73</td>\n",
              "      <td>C</td>\n",
              "      <td>C3</td>\n",
              "      <td>Area Manager</td>\n",
              "      <td>3 years</td>\n",
              "      <td>OWN</td>\n",
              "      <td>65000.0</td>\n",
              "      <td>Verified</td>\n",
              "      <td>Mar-2019</td>\n",
              "      <td>Current</td>\n",
              "      <td>n</td>\n",
              "      <td>NaN</td>\n",
              "      <td>NaN</td>\n",
              "      <td>house</td>\n",
              "      <td>Home buying</td>\n",
              "      <td>640xx</td>\n",
              "      <td>MO</td>\n",
              "      <td>16.28</td>\n",
              "      <td>1</td>\n",
              "      <td>Jul-2001</td>\n",
              "      <td>0</td>\n",
              "      <td>7.0</td>\n",
              "      <td>NaN</td>\n",
              "      <td>9</td>\n",
              "      <td>0</td>\n",
              "      <td>5604</td>\n",
              "      <td>64.4%</td>\n",
              "      <td>25</td>\n",
              "      <td>w</td>\n",
              "      <td>4778.86</td>\n",
              "      <td>4778.86</td>\n",
              "      <td>340.81</td>\n",
              "      <td>340.81</td>\n",
              "      <td>...</td>\n",
              "      <td>50.0</td>\n",
              "      <td>0</td>\n",
              "      <td>0</td>\n",
              "      <td>38190</td>\n",
              "      <td>29775</td>\n",
              "      <td>4400</td>\n",
              "      <td>29490</td>\n",
              "      <td>NaN</td>\n",
              "      <td>NaN</td>\n",
              "      <td>NaN</td>\n",
              "      <td>NaN</td>\n",
              "      <td>NaN</td>\n",
              "      <td>NaN</td>\n",
              "      <td>NaN</td>\n",
              "      <td>NaN</td>\n",
              "      <td>NaN</td>\n",
              "      <td>NaN</td>\n",
              "      <td>NaN</td>\n",
              "      <td>N</td>\n",
              "      <td>NaN</td>\n",
              "      <td>NaN</td>\n",
              "      <td>NaN</td>\n",
              "      <td>NaN</td>\n",
              "      <td>NaN</td>\n",
              "      <td>NaN</td>\n",
              "      <td>NaN</td>\n",
              "      <td>NaN</td>\n",
              "      <td>NaN</td>\n",
              "      <td>NaN</td>\n",
              "      <td>NaN</td>\n",
              "      <td>NaN</td>\n",
              "      <td>NaN</td>\n",
              "      <td>NaN</td>\n",
              "      <td>N</td>\n",
              "      <td>NaN</td>\n",
              "      <td>NaN</td>\n",
              "      <td>NaN</td>\n",
              "      <td>NaN</td>\n",
              "      <td>NaN</td>\n",
              "      <td>NaN</td>\n",
              "    </tr>\n",
              "  </tbody>\n",
              "</table>\n",
              "<p>5 rows × 144 columns</p>\n",
              "</div>"
            ],
            "text/plain": [
              "   id  member_id  ...  settlement_percentage  settlement_term\n",
              "0 NaN        NaN  ...                    NaN              NaN\n",
              "1 NaN        NaN  ...                    NaN              NaN\n",
              "2 NaN        NaN  ...                    NaN              NaN\n",
              "3 NaN        NaN  ...                    NaN              NaN\n",
              "4 NaN        NaN  ...                    NaN              NaN\n",
              "\n",
              "[5 rows x 144 columns]"
            ]
          },
          "metadata": {
            "tags": []
          },
          "execution_count": 4
        }
      ]
    },
    {
      "cell_type": "code",
      "metadata": {
        "id": "2YRorZ7p9gok",
        "colab_type": "code",
        "outputId": "a9598b14-cfbb-45dc-f5c6-f5371b13ea09",
        "colab": {
          "base_uri": "https://localhost:8080/",
          "height": 1000
        }
      },
      "source": [
        "df.isna().sum()"
      ],
      "execution_count": 5,
      "outputs": [
        {
          "output_type": "execute_result",
          "data": {
            "text/plain": [
              "id                                            115675\n",
              "member_id                                     115675\n",
              "loan_amnt                                          0\n",
              "funded_amnt                                        0\n",
              "funded_amnt_inv                                    0\n",
              "term                                               0\n",
              "int_rate                                           0\n",
              "installment                                        0\n",
              "grade                                              0\n",
              "sub_grade                                          0\n",
              "emp_title                                      19518\n",
              "emp_length                                     11101\n",
              "home_ownership                                     0\n",
              "annual_inc                                         0\n",
              "verification_status                                0\n",
              "issue_d                                            0\n",
              "loan_status                                        0\n",
              "pymnt_plan                                         0\n",
              "url                                           115675\n",
              "desc                                          115675\n",
              "purpose                                            0\n",
              "title                                              0\n",
              "zip_code                                           0\n",
              "addr_state                                         0\n",
              "dti                                              257\n",
              "delinq_2yrs                                        0\n",
              "earliest_cr_line                                   0\n",
              "inq_last_6mths                                     0\n",
              "mths_since_last_delinq                         65799\n",
              "mths_since_last_record                        102252\n",
              "                                               ...  \n",
              "sec_app_mort_acc                               98994\n",
              "sec_app_open_acc                               98994\n",
              "sec_app_revol_util                             99224\n",
              "sec_app_open_act_il                            98994\n",
              "sec_app_num_rev_accts                          98994\n",
              "sec_app_chargeoff_within_12_mths               98994\n",
              "sec_app_collections_12_mths_ex_med             98994\n",
              "sec_app_mths_since_last_major_derog           110774\n",
              "hardship_flag                                      0\n",
              "hardship_type                                 115674\n",
              "hardship_reason                               115674\n",
              "hardship_status                               115674\n",
              "deferral_term                                 115674\n",
              "hardship_amount                               115674\n",
              "hardship_start_date                           115674\n",
              "hardship_end_date                             115674\n",
              "payment_plan_start_date                       115674\n",
              "hardship_length                               115674\n",
              "hardship_dpd                                  115674\n",
              "hardship_loan_status                          115674\n",
              "orig_projected_additional_accrued_interest    115674\n",
              "hardship_payoff_balance_amount                115674\n",
              "hardship_last_payment_amount                  115674\n",
              "debt_settlement_flag                               0\n",
              "debt_settlement_flag_date                     115674\n",
              "settlement_status                             115674\n",
              "settlement_date                               115674\n",
              "settlement_amount                             115674\n",
              "settlement_percentage                         115674\n",
              "settlement_term                               115674\n",
              "Length: 144, dtype: int64"
            ]
          },
          "metadata": {
            "tags": []
          },
          "execution_count": 5
        }
      ]
    },
    {
      "cell_type": "markdown",
      "metadata": {
        "colab_type": "text",
        "id": "1b5_hMTio2Ly"
      },
      "source": [
        "## Work with strings"
      ]
    },
    {
      "cell_type": "markdown",
      "metadata": {
        "id": "QnNLWaupyH46",
        "colab_type": "text"
      },
      "source": [
        "For machine learning, we usually want to replace strings with numbers.\n",
        "\n",
        "We can get info about which columns have a datatype of \"object\" (strings)"
      ]
    },
    {
      "cell_type": "code",
      "metadata": {
        "colab_type": "code",
        "id": "WOL7QPVNo3F4",
        "outputId": "d0726d40-c041-4c24-9c83-23741757e168",
        "colab": {
          "base_uri": "https://localhost:8080/",
          "height": 34
        }
      },
      "source": [
        "df['home_ownership'].unique()"
      ],
      "execution_count": 6,
      "outputs": [
        {
          "output_type": "execute_result",
          "data": {
            "text/plain": [
              "array(['RENT', 'MORTGAGE', 'OWN', 'ANY', 'NONE'], dtype=object)"
            ]
          },
          "metadata": {
            "tags": []
          },
          "execution_count": 6
        }
      ]
    },
    {
      "cell_type": "code",
      "metadata": {
        "id": "WSUYAYWM9kh6",
        "colab_type": "code",
        "outputId": "37cf2db6-25e2-4ecf-dc11-209aa8d3057b",
        "colab": {
          "base_uri": "https://localhost:8080/",
          "height": 1000
        }
      },
      "source": [
        "df.head().T\n",
        "#pd.options.display.max_columns= -1\n",
        "#pd.options.display.max_rows= -1"
      ],
      "execution_count": 7,
      "outputs": [
        {
          "output_type": "execute_result",
          "data": {
            "text/html": [
              "<div>\n",
              "<style scoped>\n",
              "    .dataframe tbody tr th:only-of-type {\n",
              "        vertical-align: middle;\n",
              "    }\n",
              "\n",
              "    .dataframe tbody tr th {\n",
              "        vertical-align: top;\n",
              "    }\n",
              "\n",
              "    .dataframe thead th {\n",
              "        text-align: right;\n",
              "    }\n",
              "</style>\n",
              "<table border=\"1\" class=\"dataframe\">\n",
              "  <thead>\n",
              "    <tr style=\"text-align: right;\">\n",
              "      <th></th>\n",
              "      <th>0</th>\n",
              "      <th>1</th>\n",
              "      <th>2</th>\n",
              "      <th>3</th>\n",
              "      <th>4</th>\n",
              "    </tr>\n",
              "  </thead>\n",
              "  <tbody>\n",
              "    <tr>\n",
              "      <th>id</th>\n",
              "      <td>NaN</td>\n",
              "      <td>NaN</td>\n",
              "      <td>NaN</td>\n",
              "      <td>NaN</td>\n",
              "      <td>NaN</td>\n",
              "    </tr>\n",
              "    <tr>\n",
              "      <th>member_id</th>\n",
              "      <td>NaN</td>\n",
              "      <td>NaN</td>\n",
              "      <td>NaN</td>\n",
              "      <td>NaN</td>\n",
              "      <td>NaN</td>\n",
              "    </tr>\n",
              "    <tr>\n",
              "      <th>loan_amnt</th>\n",
              "      <td>20000</td>\n",
              "      <td>12000</td>\n",
              "      <td>3000</td>\n",
              "      <td>35000</td>\n",
              "      <td>5000</td>\n",
              "    </tr>\n",
              "    <tr>\n",
              "      <th>funded_amnt</th>\n",
              "      <td>20000</td>\n",
              "      <td>12000</td>\n",
              "      <td>3000</td>\n",
              "      <td>35000</td>\n",
              "      <td>5000</td>\n",
              "    </tr>\n",
              "    <tr>\n",
              "      <th>funded_amnt_inv</th>\n",
              "      <td>20000</td>\n",
              "      <td>12000</td>\n",
              "      <td>3000</td>\n",
              "      <td>35000</td>\n",
              "      <td>5000</td>\n",
              "    </tr>\n",
              "    <tr>\n",
              "      <th>term</th>\n",
              "      <td>60 months</td>\n",
              "      <td>36 months</td>\n",
              "      <td>36 months</td>\n",
              "      <td>36 months</td>\n",
              "      <td>36 months</td>\n",
              "    </tr>\n",
              "    <tr>\n",
              "      <th>int_rate</th>\n",
              "      <td>17.19%</td>\n",
              "      <td>16.40%</td>\n",
              "      <td>14.74%</td>\n",
              "      <td>15.57%</td>\n",
              "      <td>15.57%</td>\n",
              "    </tr>\n",
              "    <tr>\n",
              "      <th>installment</th>\n",
              "      <td>499.1</td>\n",
              "      <td>424.26</td>\n",
              "      <td>103.62</td>\n",
              "      <td>1223.08</td>\n",
              "      <td>174.73</td>\n",
              "    </tr>\n",
              "    <tr>\n",
              "      <th>grade</th>\n",
              "      <td>C</td>\n",
              "      <td>C</td>\n",
              "      <td>C</td>\n",
              "      <td>C</td>\n",
              "      <td>C</td>\n",
              "    </tr>\n",
              "    <tr>\n",
              "      <th>sub_grade</th>\n",
              "      <td>C5</td>\n",
              "      <td>C4</td>\n",
              "      <td>C2</td>\n",
              "      <td>C3</td>\n",
              "      <td>C3</td>\n",
              "    </tr>\n",
              "    <tr>\n",
              "      <th>emp_title</th>\n",
              "      <td>Front desk supervisor</td>\n",
              "      <td>Executive Director</td>\n",
              "      <td>Office Manager</td>\n",
              "      <td>Store Manager</td>\n",
              "      <td>Area Manager</td>\n",
              "    </tr>\n",
              "    <tr>\n",
              "      <th>emp_length</th>\n",
              "      <td>6 years</td>\n",
              "      <td>4 years</td>\n",
              "      <td>4 years</td>\n",
              "      <td>10+ years</td>\n",
              "      <td>3 years</td>\n",
              "    </tr>\n",
              "    <tr>\n",
              "      <th>home_ownership</th>\n",
              "      <td>RENT</td>\n",
              "      <td>MORTGAGE</td>\n",
              "      <td>MORTGAGE</td>\n",
              "      <td>RENT</td>\n",
              "      <td>OWN</td>\n",
              "    </tr>\n",
              "    <tr>\n",
              "      <th>annual_inc</th>\n",
              "      <td>47000</td>\n",
              "      <td>95000</td>\n",
              "      <td>58750</td>\n",
              "      <td>122000</td>\n",
              "      <td>65000</td>\n",
              "    </tr>\n",
              "    <tr>\n",
              "      <th>verification_status</th>\n",
              "      <td>Source Verified</td>\n",
              "      <td>Not Verified</td>\n",
              "      <td>Verified</td>\n",
              "      <td>Verified</td>\n",
              "      <td>Verified</td>\n",
              "    </tr>\n",
              "    <tr>\n",
              "      <th>issue_d</th>\n",
              "      <td>Mar-2019</td>\n",
              "      <td>Mar-2019</td>\n",
              "      <td>Mar-2019</td>\n",
              "      <td>Mar-2019</td>\n",
              "      <td>Mar-2019</td>\n",
              "    </tr>\n",
              "    <tr>\n",
              "      <th>loan_status</th>\n",
              "      <td>Current</td>\n",
              "      <td>Current</td>\n",
              "      <td>Current</td>\n",
              "      <td>Current</td>\n",
              "      <td>Current</td>\n",
              "    </tr>\n",
              "    <tr>\n",
              "      <th>pymnt_plan</th>\n",
              "      <td>n</td>\n",
              "      <td>n</td>\n",
              "      <td>n</td>\n",
              "      <td>n</td>\n",
              "      <td>n</td>\n",
              "    </tr>\n",
              "    <tr>\n",
              "      <th>url</th>\n",
              "      <td>NaN</td>\n",
              "      <td>NaN</td>\n",
              "      <td>NaN</td>\n",
              "      <td>NaN</td>\n",
              "      <td>NaN</td>\n",
              "    </tr>\n",
              "    <tr>\n",
              "      <th>desc</th>\n",
              "      <td>NaN</td>\n",
              "      <td>NaN</td>\n",
              "      <td>NaN</td>\n",
              "      <td>NaN</td>\n",
              "      <td>NaN</td>\n",
              "    </tr>\n",
              "    <tr>\n",
              "      <th>purpose</th>\n",
              "      <td>debt_consolidation</td>\n",
              "      <td>debt_consolidation</td>\n",
              "      <td>medical</td>\n",
              "      <td>credit_card</td>\n",
              "      <td>house</td>\n",
              "    </tr>\n",
              "    <tr>\n",
              "      <th>title</th>\n",
              "      <td>Debt consolidation</td>\n",
              "      <td>Debt consolidation</td>\n",
              "      <td>Medical expenses</td>\n",
              "      <td>Credit card refinancing</td>\n",
              "      <td>Home buying</td>\n",
              "    </tr>\n",
              "    <tr>\n",
              "      <th>zip_code</th>\n",
              "      <td>958xx</td>\n",
              "      <td>436xx</td>\n",
              "      <td>327xx</td>\n",
              "      <td>333xx</td>\n",
              "      <td>640xx</td>\n",
              "    </tr>\n",
              "    <tr>\n",
              "      <th>addr_state</th>\n",
              "      <td>CA</td>\n",
              "      <td>OH</td>\n",
              "      <td>FL</td>\n",
              "      <td>FL</td>\n",
              "      <td>MO</td>\n",
              "    </tr>\n",
              "    <tr>\n",
              "      <th>dti</th>\n",
              "      <td>14.02</td>\n",
              "      <td>29.5</td>\n",
              "      <td>30.91</td>\n",
              "      <td>22</td>\n",
              "      <td>16.28</td>\n",
              "    </tr>\n",
              "    <tr>\n",
              "      <th>delinq_2yrs</th>\n",
              "      <td>0</td>\n",
              "      <td>0</td>\n",
              "      <td>0</td>\n",
              "      <td>1</td>\n",
              "      <td>1</td>\n",
              "    </tr>\n",
              "    <tr>\n",
              "      <th>earliest_cr_line</th>\n",
              "      <td>Sep-2006</td>\n",
              "      <td>Nov-1992</td>\n",
              "      <td>Jun-2004</td>\n",
              "      <td>Dec-2009</td>\n",
              "      <td>Jul-2001</td>\n",
              "    </tr>\n",
              "    <tr>\n",
              "      <th>inq_last_6mths</th>\n",
              "      <td>1</td>\n",
              "      <td>0</td>\n",
              "      <td>0</td>\n",
              "      <td>0</td>\n",
              "      <td>0</td>\n",
              "    </tr>\n",
              "    <tr>\n",
              "      <th>mths_since_last_delinq</th>\n",
              "      <td>50</td>\n",
              "      <td>29</td>\n",
              "      <td>24</td>\n",
              "      <td>20</td>\n",
              "      <td>7</td>\n",
              "    </tr>\n",
              "    <tr>\n",
              "      <th>mths_since_last_record</th>\n",
              "      <td>NaN</td>\n",
              "      <td>NaN</td>\n",
              "      <td>NaN</td>\n",
              "      <td>NaN</td>\n",
              "      <td>NaN</td>\n",
              "    </tr>\n",
              "    <tr>\n",
              "      <th>...</th>\n",
              "      <td>...</td>\n",
              "      <td>...</td>\n",
              "      <td>...</td>\n",
              "      <td>...</td>\n",
              "      <td>...</td>\n",
              "    </tr>\n",
              "    <tr>\n",
              "      <th>sec_app_mort_acc</th>\n",
              "      <td>NaN</td>\n",
              "      <td>NaN</td>\n",
              "      <td>NaN</td>\n",
              "      <td>NaN</td>\n",
              "      <td>NaN</td>\n",
              "    </tr>\n",
              "    <tr>\n",
              "      <th>sec_app_open_acc</th>\n",
              "      <td>NaN</td>\n",
              "      <td>NaN</td>\n",
              "      <td>NaN</td>\n",
              "      <td>NaN</td>\n",
              "      <td>NaN</td>\n",
              "    </tr>\n",
              "    <tr>\n",
              "      <th>sec_app_revol_util</th>\n",
              "      <td>NaN</td>\n",
              "      <td>NaN</td>\n",
              "      <td>NaN</td>\n",
              "      <td>NaN</td>\n",
              "      <td>NaN</td>\n",
              "    </tr>\n",
              "    <tr>\n",
              "      <th>sec_app_open_act_il</th>\n",
              "      <td>NaN</td>\n",
              "      <td>NaN</td>\n",
              "      <td>NaN</td>\n",
              "      <td>NaN</td>\n",
              "      <td>NaN</td>\n",
              "    </tr>\n",
              "    <tr>\n",
              "      <th>sec_app_num_rev_accts</th>\n",
              "      <td>NaN</td>\n",
              "      <td>NaN</td>\n",
              "      <td>NaN</td>\n",
              "      <td>NaN</td>\n",
              "      <td>NaN</td>\n",
              "    </tr>\n",
              "    <tr>\n",
              "      <th>sec_app_chargeoff_within_12_mths</th>\n",
              "      <td>NaN</td>\n",
              "      <td>NaN</td>\n",
              "      <td>NaN</td>\n",
              "      <td>NaN</td>\n",
              "      <td>NaN</td>\n",
              "    </tr>\n",
              "    <tr>\n",
              "      <th>sec_app_collections_12_mths_ex_med</th>\n",
              "      <td>NaN</td>\n",
              "      <td>NaN</td>\n",
              "      <td>NaN</td>\n",
              "      <td>NaN</td>\n",
              "      <td>NaN</td>\n",
              "    </tr>\n",
              "    <tr>\n",
              "      <th>sec_app_mths_since_last_major_derog</th>\n",
              "      <td>NaN</td>\n",
              "      <td>NaN</td>\n",
              "      <td>NaN</td>\n",
              "      <td>NaN</td>\n",
              "      <td>NaN</td>\n",
              "    </tr>\n",
              "    <tr>\n",
              "      <th>hardship_flag</th>\n",
              "      <td>N</td>\n",
              "      <td>N</td>\n",
              "      <td>N</td>\n",
              "      <td>N</td>\n",
              "      <td>N</td>\n",
              "    </tr>\n",
              "    <tr>\n",
              "      <th>hardship_type</th>\n",
              "      <td>NaN</td>\n",
              "      <td>NaN</td>\n",
              "      <td>NaN</td>\n",
              "      <td>NaN</td>\n",
              "      <td>NaN</td>\n",
              "    </tr>\n",
              "    <tr>\n",
              "      <th>hardship_reason</th>\n",
              "      <td>NaN</td>\n",
              "      <td>NaN</td>\n",
              "      <td>NaN</td>\n",
              "      <td>NaN</td>\n",
              "      <td>NaN</td>\n",
              "    </tr>\n",
              "    <tr>\n",
              "      <th>hardship_status</th>\n",
              "      <td>NaN</td>\n",
              "      <td>NaN</td>\n",
              "      <td>NaN</td>\n",
              "      <td>NaN</td>\n",
              "      <td>NaN</td>\n",
              "    </tr>\n",
              "    <tr>\n",
              "      <th>deferral_term</th>\n",
              "      <td>NaN</td>\n",
              "      <td>NaN</td>\n",
              "      <td>NaN</td>\n",
              "      <td>NaN</td>\n",
              "      <td>NaN</td>\n",
              "    </tr>\n",
              "    <tr>\n",
              "      <th>hardship_amount</th>\n",
              "      <td>NaN</td>\n",
              "      <td>NaN</td>\n",
              "      <td>NaN</td>\n",
              "      <td>NaN</td>\n",
              "      <td>NaN</td>\n",
              "    </tr>\n",
              "    <tr>\n",
              "      <th>hardship_start_date</th>\n",
              "      <td>NaN</td>\n",
              "      <td>NaN</td>\n",
              "      <td>NaN</td>\n",
              "      <td>NaN</td>\n",
              "      <td>NaN</td>\n",
              "    </tr>\n",
              "    <tr>\n",
              "      <th>hardship_end_date</th>\n",
              "      <td>NaN</td>\n",
              "      <td>NaN</td>\n",
              "      <td>NaN</td>\n",
              "      <td>NaN</td>\n",
              "      <td>NaN</td>\n",
              "    </tr>\n",
              "    <tr>\n",
              "      <th>payment_plan_start_date</th>\n",
              "      <td>NaN</td>\n",
              "      <td>NaN</td>\n",
              "      <td>NaN</td>\n",
              "      <td>NaN</td>\n",
              "      <td>NaN</td>\n",
              "    </tr>\n",
              "    <tr>\n",
              "      <th>hardship_length</th>\n",
              "      <td>NaN</td>\n",
              "      <td>NaN</td>\n",
              "      <td>NaN</td>\n",
              "      <td>NaN</td>\n",
              "      <td>NaN</td>\n",
              "    </tr>\n",
              "    <tr>\n",
              "      <th>hardship_dpd</th>\n",
              "      <td>NaN</td>\n",
              "      <td>NaN</td>\n",
              "      <td>NaN</td>\n",
              "      <td>NaN</td>\n",
              "      <td>NaN</td>\n",
              "    </tr>\n",
              "    <tr>\n",
              "      <th>hardship_loan_status</th>\n",
              "      <td>NaN</td>\n",
              "      <td>NaN</td>\n",
              "      <td>NaN</td>\n",
              "      <td>NaN</td>\n",
              "      <td>NaN</td>\n",
              "    </tr>\n",
              "    <tr>\n",
              "      <th>orig_projected_additional_accrued_interest</th>\n",
              "      <td>NaN</td>\n",
              "      <td>NaN</td>\n",
              "      <td>NaN</td>\n",
              "      <td>NaN</td>\n",
              "      <td>NaN</td>\n",
              "    </tr>\n",
              "    <tr>\n",
              "      <th>hardship_payoff_balance_amount</th>\n",
              "      <td>NaN</td>\n",
              "      <td>NaN</td>\n",
              "      <td>NaN</td>\n",
              "      <td>NaN</td>\n",
              "      <td>NaN</td>\n",
              "    </tr>\n",
              "    <tr>\n",
              "      <th>hardship_last_payment_amount</th>\n",
              "      <td>NaN</td>\n",
              "      <td>NaN</td>\n",
              "      <td>NaN</td>\n",
              "      <td>NaN</td>\n",
              "      <td>NaN</td>\n",
              "    </tr>\n",
              "    <tr>\n",
              "      <th>debt_settlement_flag</th>\n",
              "      <td>N</td>\n",
              "      <td>N</td>\n",
              "      <td>N</td>\n",
              "      <td>N</td>\n",
              "      <td>N</td>\n",
              "    </tr>\n",
              "    <tr>\n",
              "      <th>debt_settlement_flag_date</th>\n",
              "      <td>NaN</td>\n",
              "      <td>NaN</td>\n",
              "      <td>NaN</td>\n",
              "      <td>NaN</td>\n",
              "      <td>NaN</td>\n",
              "    </tr>\n",
              "    <tr>\n",
              "      <th>settlement_status</th>\n",
              "      <td>NaN</td>\n",
              "      <td>NaN</td>\n",
              "      <td>NaN</td>\n",
              "      <td>NaN</td>\n",
              "      <td>NaN</td>\n",
              "    </tr>\n",
              "    <tr>\n",
              "      <th>settlement_date</th>\n",
              "      <td>NaN</td>\n",
              "      <td>NaN</td>\n",
              "      <td>NaN</td>\n",
              "      <td>NaN</td>\n",
              "      <td>NaN</td>\n",
              "    </tr>\n",
              "    <tr>\n",
              "      <th>settlement_amount</th>\n",
              "      <td>NaN</td>\n",
              "      <td>NaN</td>\n",
              "      <td>NaN</td>\n",
              "      <td>NaN</td>\n",
              "      <td>NaN</td>\n",
              "    </tr>\n",
              "    <tr>\n",
              "      <th>settlement_percentage</th>\n",
              "      <td>NaN</td>\n",
              "      <td>NaN</td>\n",
              "      <td>NaN</td>\n",
              "      <td>NaN</td>\n",
              "      <td>NaN</td>\n",
              "    </tr>\n",
              "    <tr>\n",
              "      <th>settlement_term</th>\n",
              "      <td>NaN</td>\n",
              "      <td>NaN</td>\n",
              "      <td>NaN</td>\n",
              "      <td>NaN</td>\n",
              "      <td>NaN</td>\n",
              "    </tr>\n",
              "  </tbody>\n",
              "</table>\n",
              "<p>144 rows × 5 columns</p>\n",
              "</div>"
            ],
            "text/plain": [
              "                                                                0  ...             4\n",
              "id                                                            NaN  ...           NaN\n",
              "member_id                                                     NaN  ...           NaN\n",
              "loan_amnt                                                   20000  ...          5000\n",
              "funded_amnt                                                 20000  ...          5000\n",
              "funded_amnt_inv                                             20000  ...          5000\n",
              "term                                                    60 months  ...     36 months\n",
              "int_rate                                                   17.19%  ...        15.57%\n",
              "installment                                                 499.1  ...        174.73\n",
              "grade                                                           C  ...             C\n",
              "sub_grade                                                      C5  ...            C3\n",
              "emp_title                                   Front desk supervisor  ...  Area Manager\n",
              "emp_length                                                6 years  ...       3 years\n",
              "home_ownership                                               RENT  ...           OWN\n",
              "annual_inc                                                  47000  ...         65000\n",
              "verification_status                               Source Verified  ...      Verified\n",
              "issue_d                                                  Mar-2019  ...      Mar-2019\n",
              "loan_status                                               Current  ...       Current\n",
              "pymnt_plan                                                      n  ...             n\n",
              "url                                                           NaN  ...           NaN\n",
              "desc                                                          NaN  ...           NaN\n",
              "purpose                                        debt_consolidation  ...         house\n",
              "title                                          Debt consolidation  ...   Home buying\n",
              "zip_code                                                    958xx  ...         640xx\n",
              "addr_state                                                     CA  ...            MO\n",
              "dti                                                         14.02  ...         16.28\n",
              "delinq_2yrs                                                     0  ...             1\n",
              "earliest_cr_line                                         Sep-2006  ...      Jul-2001\n",
              "inq_last_6mths                                                  1  ...             0\n",
              "mths_since_last_delinq                                         50  ...             7\n",
              "mths_since_last_record                                        NaN  ...           NaN\n",
              "...                                                           ...  ...           ...\n",
              "sec_app_mort_acc                                              NaN  ...           NaN\n",
              "sec_app_open_acc                                              NaN  ...           NaN\n",
              "sec_app_revol_util                                            NaN  ...           NaN\n",
              "sec_app_open_act_il                                           NaN  ...           NaN\n",
              "sec_app_num_rev_accts                                         NaN  ...           NaN\n",
              "sec_app_chargeoff_within_12_mths                              NaN  ...           NaN\n",
              "sec_app_collections_12_mths_ex_med                            NaN  ...           NaN\n",
              "sec_app_mths_since_last_major_derog                           NaN  ...           NaN\n",
              "hardship_flag                                                   N  ...             N\n",
              "hardship_type                                                 NaN  ...           NaN\n",
              "hardship_reason                                               NaN  ...           NaN\n",
              "hardship_status                                               NaN  ...           NaN\n",
              "deferral_term                                                 NaN  ...           NaN\n",
              "hardship_amount                                               NaN  ...           NaN\n",
              "hardship_start_date                                           NaN  ...           NaN\n",
              "hardship_end_date                                             NaN  ...           NaN\n",
              "payment_plan_start_date                                       NaN  ...           NaN\n",
              "hardship_length                                               NaN  ...           NaN\n",
              "hardship_dpd                                                  NaN  ...           NaN\n",
              "hardship_loan_status                                          NaN  ...           NaN\n",
              "orig_projected_additional_accrued_interest                    NaN  ...           NaN\n",
              "hardship_payoff_balance_amount                                NaN  ...           NaN\n",
              "hardship_last_payment_amount                                  NaN  ...           NaN\n",
              "debt_settlement_flag                                            N  ...             N\n",
              "debt_settlement_flag_date                                     NaN  ...           NaN\n",
              "settlement_status                                             NaN  ...           NaN\n",
              "settlement_date                                               NaN  ...           NaN\n",
              "settlement_amount                                             NaN  ...           NaN\n",
              "settlement_percentage                                         NaN  ...           NaN\n",
              "settlement_term                                               NaN  ...           NaN\n",
              "\n",
              "[144 rows x 5 columns]"
            ]
          },
          "metadata": {
            "tags": []
          },
          "execution_count": 7
        }
      ]
    },
    {
      "cell_type": "code",
      "metadata": {
        "id": "lDia-8o69mBG",
        "colab_type": "code",
        "outputId": "c7dab9f2-cdb7-4736-e225-b0fbcc8cc967",
        "colab": {
          "base_uri": "https://localhost:8080/",
          "height": 244
        }
      },
      "source": [
        "df.describe(include='object')"
      ],
      "execution_count": 8,
      "outputs": [
        {
          "output_type": "execute_result",
          "data": {
            "text/html": [
              "<div>\n",
              "<style scoped>\n",
              "    .dataframe tbody tr th:only-of-type {\n",
              "        vertical-align: middle;\n",
              "    }\n",
              "\n",
              "    .dataframe tbody tr th {\n",
              "        vertical-align: top;\n",
              "    }\n",
              "\n",
              "    .dataframe thead th {\n",
              "        text-align: right;\n",
              "    }\n",
              "</style>\n",
              "<table border=\"1\" class=\"dataframe\">\n",
              "  <thead>\n",
              "    <tr style=\"text-align: right;\">\n",
              "      <th></th>\n",
              "      <th>term</th>\n",
              "      <th>int_rate</th>\n",
              "      <th>grade</th>\n",
              "      <th>sub_grade</th>\n",
              "      <th>emp_title</th>\n",
              "      <th>emp_length</th>\n",
              "      <th>home_ownership</th>\n",
              "      <th>verification_status</th>\n",
              "      <th>issue_d</th>\n",
              "      <th>loan_status</th>\n",
              "      <th>pymnt_plan</th>\n",
              "      <th>purpose</th>\n",
              "      <th>title</th>\n",
              "      <th>zip_code</th>\n",
              "      <th>addr_state</th>\n",
              "      <th>earliest_cr_line</th>\n",
              "      <th>revol_util</th>\n",
              "      <th>initial_list_status</th>\n",
              "      <th>last_pymnt_d</th>\n",
              "      <th>next_pymnt_d</th>\n",
              "      <th>last_credit_pull_d</th>\n",
              "      <th>application_type</th>\n",
              "      <th>verification_status_joint</th>\n",
              "      <th>sec_app_earliest_cr_line</th>\n",
              "      <th>hardship_flag</th>\n",
              "      <th>hardship_type</th>\n",
              "      <th>hardship_reason</th>\n",
              "      <th>hardship_status</th>\n",
              "      <th>hardship_start_date</th>\n",
              "      <th>hardship_end_date</th>\n",
              "      <th>payment_plan_start_date</th>\n",
              "      <th>hardship_loan_status</th>\n",
              "      <th>debt_settlement_flag</th>\n",
              "      <th>debt_settlement_flag_date</th>\n",
              "      <th>settlement_status</th>\n",
              "      <th>settlement_date</th>\n",
              "    </tr>\n",
              "  </thead>\n",
              "  <tbody>\n",
              "    <tr>\n",
              "      <th>count</th>\n",
              "      <td>115675</td>\n",
              "      <td>115675</td>\n",
              "      <td>115675</td>\n",
              "      <td>115675</td>\n",
              "      <td>96157</td>\n",
              "      <td>104574</td>\n",
              "      <td>115675</td>\n",
              "      <td>115675</td>\n",
              "      <td>115675</td>\n",
              "      <td>115675</td>\n",
              "      <td>115675</td>\n",
              "      <td>115675</td>\n",
              "      <td>115675</td>\n",
              "      <td>115675</td>\n",
              "      <td>115675</td>\n",
              "      <td>115675</td>\n",
              "      <td>115546</td>\n",
              "      <td>115675</td>\n",
              "      <td>115445</td>\n",
              "      <td>110769</td>\n",
              "      <td>115673</td>\n",
              "      <td>115675</td>\n",
              "      <td>14624</td>\n",
              "      <td>16681</td>\n",
              "      <td>115675</td>\n",
              "      <td>1</td>\n",
              "      <td>1</td>\n",
              "      <td>1</td>\n",
              "      <td>1</td>\n",
              "      <td>1</td>\n",
              "      <td>1</td>\n",
              "      <td>1</td>\n",
              "      <td>115675</td>\n",
              "      <td>1</td>\n",
              "      <td>1</td>\n",
              "      <td>1</td>\n",
              "    </tr>\n",
              "    <tr>\n",
              "      <th>unique</th>\n",
              "      <td>2</td>\n",
              "      <td>53</td>\n",
              "      <td>7</td>\n",
              "      <td>33</td>\n",
              "      <td>39387</td>\n",
              "      <td>11</td>\n",
              "      <td>5</td>\n",
              "      <td>3</td>\n",
              "      <td>3</td>\n",
              "      <td>6</td>\n",
              "      <td>1</td>\n",
              "      <td>12</td>\n",
              "      <td>12</td>\n",
              "      <td>877</td>\n",
              "      <td>50</td>\n",
              "      <td>652</td>\n",
              "      <td>1055</td>\n",
              "      <td>2</td>\n",
              "      <td>7</td>\n",
              "      <td>3</td>\n",
              "      <td>7</td>\n",
              "      <td>2</td>\n",
              "      <td>3</td>\n",
              "      <td>577</td>\n",
              "      <td>2</td>\n",
              "      <td>1</td>\n",
              "      <td>1</td>\n",
              "      <td>1</td>\n",
              "      <td>1</td>\n",
              "      <td>1</td>\n",
              "      <td>1</td>\n",
              "      <td>1</td>\n",
              "      <td>2</td>\n",
              "      <td>1</td>\n",
              "      <td>1</td>\n",
              "      <td>1</td>\n",
              "    </tr>\n",
              "    <tr>\n",
              "      <th>top</th>\n",
              "      <td>36 months</td>\n",
              "      <td>8.19%</td>\n",
              "      <td>A</td>\n",
              "      <td>A4</td>\n",
              "      <td>Teacher</td>\n",
              "      <td>10+ years</td>\n",
              "      <td>MORTGAGE</td>\n",
              "      <td>Not Verified</td>\n",
              "      <td>Jan-2019</td>\n",
              "      <td>Current</td>\n",
              "      <td>n</td>\n",
              "      <td>debt_consolidation</td>\n",
              "      <td>Debt consolidation</td>\n",
              "      <td>750xx</td>\n",
              "      <td>CA</td>\n",
              "      <td>Aug-2006</td>\n",
              "      <td>0%</td>\n",
              "      <td>w</td>\n",
              "      <td>Jun-2019</td>\n",
              "      <td>Jul-2019</td>\n",
              "      <td>Jun-2019</td>\n",
              "      <td>Individual</td>\n",
              "      <td>Not Verified</td>\n",
              "      <td>Aug-2006</td>\n",
              "      <td>N</td>\n",
              "      <td>INTEREST ONLY-3 MONTHS DEFERRAL</td>\n",
              "      <td>INCOME_CURTAILMENT</td>\n",
              "      <td>ACTIVE</td>\n",
              "      <td>Jun-2019</td>\n",
              "      <td>Sep-2019</td>\n",
              "      <td>Jul-2019</td>\n",
              "      <td>In Grace Period</td>\n",
              "      <td>N</td>\n",
              "      <td>May-2019</td>\n",
              "      <td>ACTIVE</td>\n",
              "      <td>May-2019</td>\n",
              "    </tr>\n",
              "    <tr>\n",
              "      <th>freq</th>\n",
              "      <td>78429</td>\n",
              "      <td>11314</td>\n",
              "      <td>37060</td>\n",
              "      <td>11314</td>\n",
              "      <td>2037</td>\n",
              "      <td>34490</td>\n",
              "      <td>58578</td>\n",
              "      <td>54608</td>\n",
              "      <td>43584</td>\n",
              "      <td>109176</td>\n",
              "      <td>115675</td>\n",
              "      <td>63747</td>\n",
              "      <td>63747</td>\n",
              "      <td>1162</td>\n",
              "      <td>15902</td>\n",
              "      <td>1033</td>\n",
              "      <td>1054</td>\n",
              "      <td>101423</td>\n",
              "      <td>102101</td>\n",
              "      <td>110738</td>\n",
              "      <td>111240</td>\n",
              "      <td>98994</td>\n",
              "      <td>6395</td>\n",
              "      <td>150</td>\n",
              "      <td>115674</td>\n",
              "      <td>1</td>\n",
              "      <td>1</td>\n",
              "      <td>1</td>\n",
              "      <td>1</td>\n",
              "      <td>1</td>\n",
              "      <td>1</td>\n",
              "      <td>1</td>\n",
              "      <td>115674</td>\n",
              "      <td>1</td>\n",
              "      <td>1</td>\n",
              "      <td>1</td>\n",
              "    </tr>\n",
              "  </tbody>\n",
              "</table>\n",
              "</div>"
            ],
            "text/plain": [
              "              term int_rate  ... settlement_status settlement_date\n",
              "count       115675   115675  ...                 1               1\n",
              "unique           2       53  ...                 1               1\n",
              "top      36 months    8.19%  ...            ACTIVE        May-2019\n",
              "freq         78429    11314  ...                 1               1\n",
              "\n",
              "[4 rows x 36 columns]"
            ]
          },
          "metadata": {
            "tags": []
          },
          "execution_count": 8
        }
      ]
    },
    {
      "cell_type": "markdown",
      "metadata": {
        "id": "k6DHySuKyH4-",
        "colab_type": "text"
      },
      "source": [
        "### Convert `int_rate`\n",
        "\n",
        "Define a function to remove percent signs from strings and convert to floats"
      ]
    },
    {
      "cell_type": "code",
      "metadata": {
        "id": "3F7f4Yu0yH4_",
        "colab_type": "code",
        "outputId": "78b97064-b438-471a-ca89-0007ac46ea28",
        "colab": {
          "base_uri": "https://localhost:8080/",
          "height": 935
        }
      },
      "source": [
        "df.int_rate.value_counts()"
      ],
      "execution_count": 9,
      "outputs": [
        {
          "output_type": "execute_result",
          "data": {
            "text/plain": [
              "  8.19%    11314\n",
              "  8.81%     7410\n",
              "  6.46%     7284\n",
              " 10.33%     6191\n",
              " 11.80%     5728\n",
              "  7.02%     5527\n",
              "  7.56%     5523\n",
              " 10.72%     4108\n",
              " 12.98%     4101\n",
              " 13.56%     3830\n",
              " 17.97%     3650\n",
              " 15.02%     3488\n",
              " 14.47%     3380\n",
              " 11.31%     3239\n",
              " 12.40%     3120\n",
              " 16.14%     3042\n",
              " 16.91%     2959\n",
              " 20.00%     2874\n",
              " 13.08%     2484\n",
              " 13.90%     2372\n",
              " 11.02%     2273\n",
              " 14.74%     2185\n",
              " 15.57%     2146\n",
              " 18.94%     2021\n",
              " 16.40%     2004\n",
              " 11.71%     1882\n",
              " 17.19%     1869\n",
              " 19.92%     1864\n",
              " 20.89%     1533\n",
              " 23.40%     1210\n",
              " 22.50%      976\n",
              " 22.35%      756\n",
              " 28.80%      625\n",
              " 27.27%      617\n",
              " 25.00%      497\n",
              " 25.34%      491\n",
              " 26.31%      420\n",
              " 24.37%      399\n",
              " 29.00%       91\n",
              " 28.90%       52\n",
              " 28.97%       32\n",
              " 28.95%       29\n",
              " 28.92%       22\n",
              "  6.00%        9\n",
              " 29.35%        9\n",
              " 30.84%        9\n",
              " 29.69%        8\n",
              " 30.75%        7\n",
              " 30.79%        7\n",
              " 30.65%        3\n",
              " 28.72%        2\n",
              " 30.17%        2\n",
              " 30.89%        1\n",
              "Name: int_rate, dtype: int64"
            ]
          },
          "metadata": {
            "tags": []
          },
          "execution_count": 9
        }
      ]
    },
    {
      "cell_type": "code",
      "metadata": {
        "id": "8WOkOgaC9rSz",
        "colab_type": "code",
        "colab": {}
      },
      "source": [
        "df['int_rate_1']=df.int_rate.str.strip('%').astype(float)"
      ],
      "execution_count": 0,
      "outputs": []
    },
    {
      "cell_type": "code",
      "metadata": {
        "id": "LkxpP6h3-hiC",
        "colab_type": "code",
        "colab": {}
      },
      "source": [
        "#function \n",
        "\n",
        "def remove_percent_sign(string):\n",
        "  return float(string.strip('%'))\n",
        "\n",
        "\n"
      ],
      "execution_count": 0,
      "outputs": []
    },
    {
      "cell_type": "markdown",
      "metadata": {
        "id": "GbBsDcHByH5D",
        "colab_type": "text"
      },
      "source": [
        "Apply the function to the `int_rate` column"
      ]
    },
    {
      "cell_type": "code",
      "metadata": {
        "id": "zQx2VQe5yH5E",
        "colab_type": "code",
        "outputId": "941c5478-c68b-46a2-89ca-606fbcec2b0e",
        "colab": {
          "base_uri": "https://localhost:8080/",
          "height": 119
        }
      },
      "source": [
        "df['int_rate_2']=df['int_rate'].apply(remove_percent_sign)\n",
        "df['int_rate_2'].head()"
      ],
      "execution_count": 12,
      "outputs": [
        {
          "output_type": "execute_result",
          "data": {
            "text/plain": [
              "0    17.19\n",
              "1    16.40\n",
              "2    14.74\n",
              "3    15.57\n",
              "4    15.57\n",
              "Name: int_rate_2, dtype: float64"
            ]
          },
          "metadata": {
            "tags": []
          },
          "execution_count": 12
        }
      ]
    },
    {
      "cell_type": "code",
      "metadata": {
        "id": "3uBNMmtpCHt5",
        "colab_type": "code",
        "outputId": "c2634006-44d1-4145-fa03-56ea6621adc2",
        "colab": {
          "base_uri": "https://localhost:8080/",
          "height": 170
        }
      },
      "source": [
        "df['int_rate_2'].describe()"
      ],
      "execution_count": 13,
      "outputs": [
        {
          "output_type": "execute_result",
          "data": {
            "text/plain": [
              "count    115675.000000\n",
              "mean         12.720160\n",
              "std           4.854991\n",
              "min           6.000000\n",
              "25%           8.190000\n",
              "50%          11.800000\n",
              "75%          15.570000\n",
              "max          30.890000\n",
              "Name: int_rate_2, dtype: float64"
            ]
          },
          "metadata": {
            "tags": []
          },
          "execution_count": 13
        }
      ]
    },
    {
      "cell_type": "code",
      "metadata": {
        "id": "OLH8unZoCHzg",
        "colab_type": "code",
        "outputId": "3b685e0a-4819-4ecd-c633-77075205c83e",
        "colab": {
          "base_uri": "https://localhost:8080/",
          "height": 286
        }
      },
      "source": [
        "df['int_rate_2'].hist()"
      ],
      "execution_count": 14,
      "outputs": [
        {
          "output_type": "execute_result",
          "data": {
            "text/plain": [
              "<matplotlib.axes._subplots.AxesSubplot at 0x7f3fc946c128>"
            ]
          },
          "metadata": {
            "tags": []
          },
          "execution_count": 14
        },
        {
          "output_type": "display_data",
          "data": {
            "image/png": "[encoded data removed]",
            "text/plain": [
              "<Figure size 432x288 with 1 Axes>"
            ]
          },
          "metadata": {
            "tags": []
          }
        }
      ]
    },
    {
      "cell_type": "markdown",
      "metadata": {
        "id": "SsvlgYeCyH5I",
        "colab_type": "text"
      },
      "source": [
        "### Clean `emp_title`\n",
        "\n",
        "Look at top 20 titles"
      ]
    },
    {
      "cell_type": "code",
      "metadata": {
        "id": "9VSpg__TyH5J",
        "colab_type": "code",
        "outputId": "9c937a22-cf11-4382-d267-b6fc0335e7a6",
        "colab": {
          "base_uri": "https://localhost:8080/",
          "height": 374
        }
      },
      "source": [
        "df.emp_title.value_counts().head(20)"
      ],
      "execution_count": 15,
      "outputs": [
        {
          "output_type": "execute_result",
          "data": {
            "text/plain": [
              "Teacher                     2037\n",
              "Manager                     1626\n",
              "Registered Nurse             898\n",
              "Driver                       857\n",
              "Supervisor                   655\n",
              "RN                           623\n",
              "Sales                        586\n",
              "Office Manager               574\n",
              "Project Manager              540\n",
              "General Manager              486\n",
              "Owner                        449\n",
              "Director                     374\n",
              "Operations Manager           313\n",
              "Engineer                     309\n",
              "Truck Driver                 308\n",
              "Sales Manager                288\n",
              "Nurse                        281\n",
              "Administrative Assistant     267\n",
              "Supervisor                   260\n",
              "Accountant                   259\n",
              "Name: emp_title, dtype: int64"
            ]
          },
          "metadata": {
            "tags": []
          },
          "execution_count": 15
        }
      ]
    },
    {
      "cell_type": "code",
      "metadata": {
        "id": "eQz0D6blGRjl",
        "colab_type": "code",
        "outputId": "51eb0662-6c3d-4fe4-97fb-a1fdbec32e82",
        "colab": {
          "base_uri": "https://localhost:8080/",
          "height": 374
        }
      },
      "source": [
        "df.emp_title.value_counts(dropna=False).head(20)"
      ],
      "execution_count": 16,
      "outputs": [
        {
          "output_type": "execute_result",
          "data": {
            "text/plain": [
              "NaN                         19518\n",
              "Teacher                      2037\n",
              "Manager                      1626\n",
              "Registered Nurse              898\n",
              "Driver                        857\n",
              "Supervisor                    655\n",
              "RN                            623\n",
              "Sales                         586\n",
              "Office Manager                574\n",
              "Project Manager               540\n",
              "General Manager               486\n",
              "Owner                         449\n",
              "Director                      374\n",
              "Operations Manager            313\n",
              "Engineer                      309\n",
              "Truck Driver                  308\n",
              "Sales Manager                 288\n",
              "Nurse                         281\n",
              "Administrative Assistant      267\n",
              "Supervisor                    260\n",
              "Name: emp_title, dtype: int64"
            ]
          },
          "metadata": {
            "tags": []
          },
          "execution_count": 16
        }
      ]
    },
    {
      "cell_type": "code",
      "metadata": {
        "id": "M2nQVXLXGZhT",
        "colab_type": "code",
        "outputId": "af050b4b-0051-4d28-ba47-19b79ab203d8",
        "colab": {
          "base_uri": "https://localhost:8080/",
          "height": 34
        }
      },
      "source": [
        "df['emp_title'].nunique()"
      ],
      "execution_count": 17,
      "outputs": [
        {
          "output_type": "execute_result",
          "data": {
            "text/plain": [
              "39387"
            ]
          },
          "metadata": {
            "tags": []
          },
          "execution_count": 17
        }
      ]
    },
    {
      "cell_type": "markdown",
      "metadata": {
        "id": "STnOshCByH5Q",
        "colab_type": "text"
      },
      "source": [
        "How often is `emp_title` null?"
      ]
    },
    {
      "cell_type": "code",
      "metadata": {
        "id": "KwqGxtcxyH5S",
        "colab_type": "code",
        "outputId": "dc3afee4-9bc0-4c0e-8e43-c565c6f5b829",
        "colab": {
          "base_uri": "https://localhost:8080/",
          "height": 34
        }
      },
      "source": [
        "df.emp_title.isna().sum()"
      ],
      "execution_count": 18,
      "outputs": [
        {
          "output_type": "execute_result",
          "data": {
            "text/plain": [
              "19518"
            ]
          },
          "metadata": {
            "tags": []
          },
          "execution_count": 18
        }
      ]
    },
    {
      "cell_type": "markdown",
      "metadata": {
        "id": "FimhBXqsyH5W",
        "colab_type": "text"
      },
      "source": [
        "Clean the title and handle missing values\n",
        "\n",
        "\n",
        "*   Capitalize\n",
        "*   Strip Spaces\n",
        "*   Replace 'NaN' with missing\n",
        "\n"
      ]
    },
    {
      "cell_type": "code",
      "metadata": {
        "id": "AiF744wjGjLp",
        "colab_type": "code",
        "outputId": "79dbec26-12bf-4aeb-96a3-95b4b4f6762b",
        "colab": {
          "base_uri": "https://localhost:8080/",
          "height": 34
        }
      },
      "source": [
        "import numpy as np\n",
        "\n",
        "\n",
        "example=['owner', 'Supervisor', ' Project manager', np.nan]\n",
        "\n",
        "def clean_emp_title(x):\n",
        "  if isinstance(x,str):\n",
        "    return x.strip().title()\n",
        "  else:\n",
        "    return 'Missing'\n",
        "#for ex in example:\n",
        "#  print(clean_emp_title(ex))\n",
        "  \n",
        "[clean_emp_title(x) for x in example]"
      ],
      "execution_count": 19,
      "outputs": [
        {
          "output_type": "execute_result",
          "data": {
            "text/plain": [
              "['Owner', 'Supervisor', 'Project Manager', 'Missing']"
            ]
          },
          "metadata": {
            "tags": []
          },
          "execution_count": 19
        }
      ]
    },
    {
      "cell_type": "code",
      "metadata": {
        "id": "WX2vbr9XyH5X",
        "colab_type": "code",
        "outputId": "bd76c1eb-ff86-4ca0-bc7b-3b47e92b56b6",
        "colab": {
          "base_uri": "https://localhost:8080/",
          "height": 374
        }
      },
      "source": [
        "df['emp_title_1']=df['emp_title'].apply(clean_emp_title) \n",
        "\n",
        "df['emp_title_1'].head(20)"
      ],
      "execution_count": 20,
      "outputs": [
        {
          "output_type": "execute_result",
          "data": {
            "text/plain": [
              "0       Front Desk Supervisor\n",
              "1          Executive Director\n",
              "2              Office Manager\n",
              "3               Store Manager\n",
              "4                Area Manager\n",
              "5                         Svp\n",
              "6                 Vp Of Sales\n",
              "7                       Sales\n",
              "8                          Rn\n",
              "9             Project Manager\n",
              "10          Custom Applicator\n",
              "11                 Av Manager\n",
              "12    Human Resources Liaison\n",
              "13                    Missing\n",
              "14                      Agent\n",
              "15            Sales/Marketing\n",
              "16                        Ceo\n",
              "17                  Route Rep\n",
              "18                Maintenance\n",
              "19        Executive Assistant\n",
              "Name: emp_title_1, dtype: object"
            ]
          },
          "metadata": {
            "tags": []
          },
          "execution_count": 20
        }
      ]
    },
    {
      "cell_type": "code",
      "metadata": {
        "id": "NVzEYE74Jq8I",
        "colab_type": "code",
        "outputId": "a745641f-82b1-4e95-8273-ec434c853f59",
        "colab": {
          "base_uri": "https://localhost:8080/",
          "height": 34
        }
      },
      "source": [
        "df['emp_title_1'].nunique()"
      ],
      "execution_count": 21,
      "outputs": [
        {
          "output_type": "execute_result",
          "data": {
            "text/plain": [
              "31429"
            ]
          },
          "metadata": {
            "tags": []
          },
          "execution_count": 21
        }
      ]
    },
    {
      "cell_type": "markdown",
      "metadata": {
        "id": "CUa9ok2DyH5a",
        "colab_type": "text"
      },
      "source": [
        "### Create `emp_title_manager`\n",
        "\n",
        "pandas documentation: [`str.contains`](https://pandas.pydata.org/pandas-docs/stable/generated/pandas.Series.str.contains.html)"
      ]
    },
    {
      "cell_type": "code",
      "metadata": {
        "id": "VaUEXH20J1MB",
        "colab_type": "code",
        "outputId": "d756805d-368f-43db-cb22-922af9dbf72d",
        "colab": {
          "base_uri": "https://localhost:8080/",
          "height": 68
        }
      },
      "source": [
        "df['emp_title_manager']=df['emp_title_1'].str.contains('Manager')\n",
        "df['emp_title_manager'].value_counts()\n"
      ],
      "execution_count": 22,
      "outputs": [
        {
          "output_type": "execute_result",
          "data": {
            "text/plain": [
              "False    99713\n",
              "True     15962\n",
              "Name: emp_title_manager, dtype: int64"
            ]
          },
          "metadata": {
            "tags": []
          },
          "execution_count": 22
        }
      ]
    },
    {
      "cell_type": "code",
      "metadata": {
        "id": "A46T2qI3LIRO",
        "colab_type": "code",
        "outputId": "3d9cba01-62a9-464d-e2fa-385e7fcf896a",
        "colab": {
          "base_uri": "https://localhost:8080/",
          "height": 85
        }
      },
      "source": [
        "df['int_rate_2'].groupby(df['emp_title_manager']).mean()"
      ],
      "execution_count": 23,
      "outputs": [
        {
          "output_type": "execute_result",
          "data": {
            "text/plain": [
              "emp_title_manager\n",
              "False    12.744184\n",
              "True     12.570085\n",
              "Name: int_rate_2, dtype: float64"
            ]
          },
          "metadata": {
            "tags": []
          },
          "execution_count": 23
        }
      ]
    },
    {
      "cell_type": "code",
      "metadata": {
        "id": "ayZ2x7q0MNRu",
        "colab_type": "code",
        "outputId": "d79dc681-f5ff-4a7d-e0b7-bd3050a39b4f",
        "colab": {
          "base_uri": "https://localhost:8080/",
          "height": 85
        }
      },
      "source": [
        "df.groupby('emp_title_manager').int_rate_2.mean()"
      ],
      "execution_count": 24,
      "outputs": [
        {
          "output_type": "execute_result",
          "data": {
            "text/plain": [
              "emp_title_manager\n",
              "False    12.744184\n",
              "True     12.570085\n",
              "Name: int_rate_2, dtype: float64"
            ]
          },
          "metadata": {
            "tags": []
          },
          "execution_count": 24
        }
      ]
    },
    {
      "cell_type": "code",
      "metadata": {
        "id": "-dbZpq3kNC5t",
        "colab_type": "code",
        "outputId": "5f62098b-028a-49ec-8f72-742c63ab2ff9",
        "colab": {
          "base_uri": "https://localhost:8080/",
          "height": 85
        }
      },
      "source": [
        "df.groupby('emp_title_manager').int_rate_2.mean()"
      ],
      "execution_count": 25,
      "outputs": [
        {
          "output_type": "execute_result",
          "data": {
            "text/plain": [
              "emp_title_manager\n",
              "False    12.744184\n",
              "True     12.570085\n",
              "Name: int_rate_2, dtype: float64"
            ]
          },
          "metadata": {
            "tags": []
          },
          "execution_count": 25
        }
      ]
    },
    {
      "cell_type": "code",
      "metadata": {
        "id": "N1wlwhohyH5b",
        "colab_type": "code",
        "colab": {}
      },
      "source": [
        ""
      ],
      "execution_count": 0,
      "outputs": []
    },
    {
      "cell_type": "markdown",
      "metadata": {
        "colab_type": "text",
        "id": "s8BcCY6so3by"
      },
      "source": [
        "## Work with dates"
      ]
    },
    {
      "cell_type": "markdown",
      "metadata": {
        "id": "_SbupXWcyH5f",
        "colab_type": "text"
      },
      "source": [
        "pandas documentation\n",
        "- [to_datetime](https://pandas.pydata.org/pandas-docs/stable/generated/pandas.to_datetime.html)\n",
        "- [Time/Date Components](https://pandas.pydata.org/pandas-docs/stable/timeseries.html#time-date-components) \"You can access these properties via the `.dt` accessor\""
      ]
    },
    {
      "cell_type": "code",
      "metadata": {
        "colab_type": "code",
        "id": "kNrKxOTeo4W3",
        "colab": {}
      },
      "source": [
        "df['issue_d_1']=pd.to_datetime(df['issue_d'], infer_datetime_format = True) #converting to datetime\n",
        "\n"
      ],
      "execution_count": 0,
      "outputs": []
    },
    {
      "cell_type": "code",
      "metadata": {
        "id": "m2cbl-_gOnmX",
        "colab_type": "code",
        "outputId": "c54f2f10-be2e-468d-c8ef-a5232f6f2ece",
        "colab": {
          "base_uri": "https://localhost:8080/",
          "height": 119
        }
      },
      "source": [
        "df['issue_d_1'].iloc[0:5].dt.month"
      ],
      "execution_count": 27,
      "outputs": [
        {
          "output_type": "execute_result",
          "data": {
            "text/plain": [
              "0    3\n",
              "1    3\n",
              "2    3\n",
              "3    3\n",
              "4    3\n",
              "Name: issue_d_1, dtype: int64"
            ]
          },
          "metadata": {
            "tags": []
          },
          "execution_count": 27
        }
      ]
    },
    {
      "cell_type": "code",
      "metadata": {
        "id": "WtnOMX5VPcYX",
        "colab_type": "code",
        "colab": {}
      },
      "source": [
        "df['earliest_cr_line_1']= pd.to_datetime(df['earliest_cr_line'])"
      ],
      "execution_count": 0,
      "outputs": []
    },
    {
      "cell_type": "code",
      "metadata": {
        "id": "Ko4pyRcsPcgI",
        "colab_type": "code",
        "outputId": "6b57312a-7dee-4483-9018-6b0101bf5162",
        "colab": {
          "base_uri": "https://localhost:8080/",
          "height": 1000
        }
      },
      "source": [
        "df['issue_d_1']-df['earliest_cr_line_1']"
      ],
      "execution_count": 29,
      "outputs": [
        {
          "output_type": "execute_result",
          "data": {
            "text/plain": [
              "0         4564 days\n",
              "1         9616 days\n",
              "2         5386 days\n",
              "3         3377 days\n",
              "4         6452 days\n",
              "5         9524 days\n",
              "6         6148 days\n",
              "7         8705 days\n",
              "8         7639 days\n",
              "9        15857 days\n",
              "10        4929 days\n",
              "11        4383 days\n",
              "12        6056 days\n",
              "13        3346 days\n",
              "14        6633 days\n",
              "15        2219 days\n",
              "16        8947 days\n",
              "17        8521 days\n",
              "18        4564 days\n",
              "19        4595 days\n",
              "20        4748 days\n",
              "21        5630 days\n",
              "22        3042 days\n",
              "23        7213 days\n",
              "24        2311 days\n",
              "25        4748 days\n",
              "26        5964 days\n",
              "27        4717 days\n",
              "28        5113 days\n",
              "29        7851 days\n",
              "            ...    \n",
              "115645    4932 days\n",
              "115646    2953 days\n",
              "115647    4505 days\n",
              "115648    4658 days\n",
              "115649    5205 days\n",
              "115650    5054 days\n",
              "115651    8888 days\n",
              "115652    3075 days\n",
              "115653    4658 days\n",
              "115654    9192 days\n",
              "115655    5327 days\n",
              "115656    9041 days\n",
              "115657    6940 days\n",
              "115658    5510 days\n",
              "115659    1979 days\n",
              "115660    7305 days\n",
              "115661    5663 days\n",
              "115662    5479 days\n",
              "115663    5023 days\n",
              "115664    6028 days\n",
              "115665    4717 days\n",
              "115666   12479 days\n",
              "115667    8035 days\n",
              "115668    3228 days\n",
              "115669    4628 days\n",
              "115670    4505 days\n",
              "115671    9376 days\n",
              "115672    2953 days\n",
              "115673    4870 days\n",
              "115674    2922 days\n",
              "Length: 115675, dtype: timedelta64[ns]"
            ]
          },
          "metadata": {
            "tags": []
          },
          "execution_count": 29
        }
      ]
    },
    {
      "cell_type": "code",
      "metadata": {
        "id": "9r15hnKTQOqI",
        "colab_type": "code",
        "outputId": "a5c72dae-ffe4-4ef0-d9bc-c6d065a39833",
        "colab": {
          "base_uri": "https://localhost:8080/",
          "height": 34
        }
      },
      "source": [
        "[col for col in df if col.endswith('_d')]"
      ],
      "execution_count": 30,
      "outputs": [
        {
          "output_type": "execute_result",
          "data": {
            "text/plain": [
              "['issue_d', 'last_pymnt_d', 'next_pymnt_d', 'last_credit_pull_d']"
            ]
          },
          "metadata": {
            "tags": []
          },
          "execution_count": 30
        }
      ]
    },
    {
      "cell_type": "code",
      "metadata": {
        "id": "Iha_6astQjIm",
        "colab_type": "code",
        "colab": {}
      },
      "source": [
        "for col in ['last_pymnt_d', 'next_pymnt_d', 'last_credit_pull_d']:\n",
        "  df[col]=pd.to_datetime(df[col])"
      ],
      "execution_count": 0,
      "outputs": []
    },
    {
      "cell_type": "code",
      "metadata": {
        "id": "ImTjfXbNQu8b",
        "colab_type": "code",
        "outputId": "61dca295-073f-40bb-ce51-4765526f9360",
        "colab": {
          "base_uri": "https://localhost:8080/",
          "height": 235
        }
      },
      "source": [
        "df.describe(include='datetime')"
      ],
      "execution_count": 32,
      "outputs": [
        {
          "output_type": "execute_result",
          "data": {
            "text/html": [
              "<div>\n",
              "<style scoped>\n",
              "    .dataframe tbody tr th:only-of-type {\n",
              "        vertical-align: middle;\n",
              "    }\n",
              "\n",
              "    .dataframe tbody tr th {\n",
              "        vertical-align: top;\n",
              "    }\n",
              "\n",
              "    .dataframe thead th {\n",
              "        text-align: right;\n",
              "    }\n",
              "</style>\n",
              "<table border=\"1\" class=\"dataframe\">\n",
              "  <thead>\n",
              "    <tr style=\"text-align: right;\">\n",
              "      <th></th>\n",
              "      <th>last_pymnt_d</th>\n",
              "      <th>next_pymnt_d</th>\n",
              "      <th>last_credit_pull_d</th>\n",
              "      <th>issue_d_1</th>\n",
              "      <th>earliest_cr_line_1</th>\n",
              "    </tr>\n",
              "  </thead>\n",
              "  <tbody>\n",
              "    <tr>\n",
              "      <th>count</th>\n",
              "      <td>115445</td>\n",
              "      <td>110769</td>\n",
              "      <td>115673</td>\n",
              "      <td>115675</td>\n",
              "      <td>115675</td>\n",
              "    </tr>\n",
              "    <tr>\n",
              "      <th>unique</th>\n",
              "      <td>7</td>\n",
              "      <td>3</td>\n",
              "      <td>7</td>\n",
              "      <td>3</td>\n",
              "      <td>652</td>\n",
              "    </tr>\n",
              "    <tr>\n",
              "      <th>top</th>\n",
              "      <td>2019-06-01 00:00:00</td>\n",
              "      <td>2019-07-01 00:00:00</td>\n",
              "      <td>2019-06-01 00:00:00</td>\n",
              "      <td>2019-01-01 00:00:00</td>\n",
              "      <td>2006-08-01 00:00:00</td>\n",
              "    </tr>\n",
              "    <tr>\n",
              "      <th>freq</th>\n",
              "      <td>102101</td>\n",
              "      <td>110738</td>\n",
              "      <td>111240</td>\n",
              "      <td>43584</td>\n",
              "      <td>1033</td>\n",
              "    </tr>\n",
              "    <tr>\n",
              "      <th>first</th>\n",
              "      <td>2019-01-01 00:00:00</td>\n",
              "      <td>2019-06-01 00:00:00</td>\n",
              "      <td>2018-12-01 00:00:00</td>\n",
              "      <td>2019-01-01 00:00:00</td>\n",
              "      <td>1944-01-01 00:00:00</td>\n",
              "    </tr>\n",
              "    <tr>\n",
              "      <th>last</th>\n",
              "      <td>2019-07-01 00:00:00</td>\n",
              "      <td>2019-08-01 00:00:00</td>\n",
              "      <td>2019-06-01 00:00:00</td>\n",
              "      <td>2019-03-01 00:00:00</td>\n",
              "      <td>2016-02-01 00:00:00</td>\n",
              "    </tr>\n",
              "  </tbody>\n",
              "</table>\n",
              "</div>"
            ],
            "text/plain": [
              "               last_pymnt_d  ...   earliest_cr_line_1\n",
              "count                115445  ...               115675\n",
              "unique                    7  ...                  652\n",
              "top     2019-06-01 00:00:00  ...  2006-08-01 00:00:00\n",
              "freq                 102101  ...                 1033\n",
              "first   2019-01-01 00:00:00  ...  1944-01-01 00:00:00\n",
              "last    2019-07-01 00:00:00  ...  2016-02-01 00:00:00\n",
              "\n",
              "[6 rows x 5 columns]"
            ]
          },
          "metadata": {
            "tags": []
          },
          "execution_count": 32
        }
      ]
    },
    {
      "cell_type": "markdown",
      "metadata": {
        "id": "MHe8kM4KIXv-",
        "colab_type": "text"
      },
      "source": [
        "###Convert the term column from string to integer."
      ]
    },
    {
      "cell_type": "code",
      "metadata": {
        "id": "RwOP00YaIQRE",
        "colab_type": "code",
        "outputId": "c2363270-4ff7-49b9-d7f6-b1e2c6c3799c",
        "colab": {
          "base_uri": "https://localhost:8080/",
          "height": 119
        }
      },
      "source": [
        "df['term'].head()"
      ],
      "execution_count": 33,
      "outputs": [
        {
          "output_type": "execute_result",
          "data": {
            "text/plain": [
              "0     60 months\n",
              "1     36 months\n",
              "2     36 months\n",
              "3     36 months\n",
              "4     36 months\n",
              "Name: term, dtype: object"
            ]
          },
          "metadata": {
            "tags": []
          },
          "execution_count": 33
        }
      ]
    },
    {
      "cell_type": "code",
      "metadata": {
        "id": "E0Ye0f6SIqg_",
        "colab_type": "code",
        "outputId": "ea1d7efd-75c8-4a70-dc03-ce490fd4dfd7",
        "colab": {
          "base_uri": "https://localhost:8080/",
          "height": 119
        }
      },
      "source": [
        "df['term_2']=df.term.str.strip(' months').astype('int64')\n",
        "\n",
        "df['term_2'].head()"
      ],
      "execution_count": 34,
      "outputs": [
        {
          "output_type": "execute_result",
          "data": {
            "text/plain": [
              "0    60\n",
              "1    36\n",
              "2    36\n",
              "3    36\n",
              "4    36\n",
              "Name: term_2, dtype: int64"
            ]
          },
          "metadata": {
            "tags": []
          },
          "execution_count": 34
        }
      ]
    },
    {
      "cell_type": "markdown",
      "metadata": {
        "id": "0gG2I6B3Jnjj",
        "colab_type": "text"
      },
      "source": [
        "###Make a column named loan_status_is_great. It should contain the integer 1 if loan_status is \"Current\" or \"Fully Paid.\" Else it should contain the integer 0."
      ]
    },
    {
      "cell_type": "code",
      "metadata": {
        "id": "ijfE1y6bLJBH",
        "colab_type": "code",
        "outputId": "0ef73c00-1bbc-4542-dff0-a9233fd4c966",
        "colab": {
          "base_uri": "https://localhost:8080/",
          "height": 338
        }
      },
      "source": [
        "df.head()"
      ],
      "execution_count": 35,
      "outputs": [
        {
          "output_type": "execute_result",
          "data": {
            "text/html": [
              "<div>\n",
              "<style scoped>\n",
              "    .dataframe tbody tr th:only-of-type {\n",
              "        vertical-align: middle;\n",
              "    }\n",
              "\n",
              "    .dataframe tbody tr th {\n",
              "        vertical-align: top;\n",
              "    }\n",
              "\n",
              "    .dataframe thead th {\n",
              "        text-align: right;\n",
              "    }\n",
              "</style>\n",
              "<table border=\"1\" class=\"dataframe\">\n",
              "  <thead>\n",
              "    <tr style=\"text-align: right;\">\n",
              "      <th></th>\n",
              "      <th>id</th>\n",
              "      <th>member_id</th>\n",
              "      <th>loan_amnt</th>\n",
              "      <th>funded_amnt</th>\n",
              "      <th>funded_amnt_inv</th>\n",
              "      <th>term</th>\n",
              "      <th>int_rate</th>\n",
              "      <th>installment</th>\n",
              "      <th>grade</th>\n",
              "      <th>sub_grade</th>\n",
              "      <th>emp_title</th>\n",
              "      <th>emp_length</th>\n",
              "      <th>home_ownership</th>\n",
              "      <th>annual_inc</th>\n",
              "      <th>verification_status</th>\n",
              "      <th>issue_d</th>\n",
              "      <th>loan_status</th>\n",
              "      <th>pymnt_plan</th>\n",
              "      <th>url</th>\n",
              "      <th>desc</th>\n",
              "      <th>purpose</th>\n",
              "      <th>title</th>\n",
              "      <th>zip_code</th>\n",
              "      <th>addr_state</th>\n",
              "      <th>dti</th>\n",
              "      <th>delinq_2yrs</th>\n",
              "      <th>earliest_cr_line</th>\n",
              "      <th>inq_last_6mths</th>\n",
              "      <th>mths_since_last_delinq</th>\n",
              "      <th>mths_since_last_record</th>\n",
              "      <th>open_acc</th>\n",
              "      <th>pub_rec</th>\n",
              "      <th>revol_bal</th>\n",
              "      <th>revol_util</th>\n",
              "      <th>total_acc</th>\n",
              "      <th>initial_list_status</th>\n",
              "      <th>out_prncp</th>\n",
              "      <th>out_prncp_inv</th>\n",
              "      <th>total_pymnt</th>\n",
              "      <th>total_pymnt_inv</th>\n",
              "      <th>...</th>\n",
              "      <th>revol_bal_joint</th>\n",
              "      <th>sec_app_earliest_cr_line</th>\n",
              "      <th>sec_app_inq_last_6mths</th>\n",
              "      <th>sec_app_mort_acc</th>\n",
              "      <th>sec_app_open_acc</th>\n",
              "      <th>sec_app_revol_util</th>\n",
              "      <th>sec_app_open_act_il</th>\n",
              "      <th>sec_app_num_rev_accts</th>\n",
              "      <th>sec_app_chargeoff_within_12_mths</th>\n",
              "      <th>sec_app_collections_12_mths_ex_med</th>\n",
              "      <th>sec_app_mths_since_last_major_derog</th>\n",
              "      <th>hardship_flag</th>\n",
              "      <th>hardship_type</th>\n",
              "      <th>hardship_reason</th>\n",
              "      <th>hardship_status</th>\n",
              "      <th>deferral_term</th>\n",
              "      <th>hardship_amount</th>\n",
              "      <th>hardship_start_date</th>\n",
              "      <th>hardship_end_date</th>\n",
              "      <th>payment_plan_start_date</th>\n",
              "      <th>hardship_length</th>\n",
              "      <th>hardship_dpd</th>\n",
              "      <th>hardship_loan_status</th>\n",
              "      <th>orig_projected_additional_accrued_interest</th>\n",
              "      <th>hardship_payoff_balance_amount</th>\n",
              "      <th>hardship_last_payment_amount</th>\n",
              "      <th>debt_settlement_flag</th>\n",
              "      <th>debt_settlement_flag_date</th>\n",
              "      <th>settlement_status</th>\n",
              "      <th>settlement_date</th>\n",
              "      <th>settlement_amount</th>\n",
              "      <th>settlement_percentage</th>\n",
              "      <th>settlement_term</th>\n",
              "      <th>int_rate_1</th>\n",
              "      <th>int_rate_2</th>\n",
              "      <th>emp_title_1</th>\n",
              "      <th>emp_title_manager</th>\n",
              "      <th>issue_d_1</th>\n",
              "      <th>earliest_cr_line_1</th>\n",
              "      <th>term_2</th>\n",
              "    </tr>\n",
              "  </thead>\n",
              "  <tbody>\n",
              "    <tr>\n",
              "      <th>0</th>\n",
              "      <td>NaN</td>\n",
              "      <td>NaN</td>\n",
              "      <td>20000</td>\n",
              "      <td>20000</td>\n",
              "      <td>20000</td>\n",
              "      <td>60 months</td>\n",
              "      <td>17.19%</td>\n",
              "      <td>499.10</td>\n",
              "      <td>C</td>\n",
              "      <td>C5</td>\n",
              "      <td>Front desk supervisor</td>\n",
              "      <td>6 years</td>\n",
              "      <td>RENT</td>\n",
              "      <td>47000.0</td>\n",
              "      <td>Source Verified</td>\n",
              "      <td>Mar-2019</td>\n",
              "      <td>Current</td>\n",
              "      <td>n</td>\n",
              "      <td>NaN</td>\n",
              "      <td>NaN</td>\n",
              "      <td>debt_consolidation</td>\n",
              "      <td>Debt consolidation</td>\n",
              "      <td>958xx</td>\n",
              "      <td>CA</td>\n",
              "      <td>14.02</td>\n",
              "      <td>0</td>\n",
              "      <td>Sep-2006</td>\n",
              "      <td>1</td>\n",
              "      <td>50.0</td>\n",
              "      <td>NaN</td>\n",
              "      <td>15</td>\n",
              "      <td>0</td>\n",
              "      <td>10687</td>\n",
              "      <td>19.7%</td>\n",
              "      <td>53</td>\n",
              "      <td>w</td>\n",
              "      <td>19254.76</td>\n",
              "      <td>19254.76</td>\n",
              "      <td>1459.10</td>\n",
              "      <td>1459.10</td>\n",
              "      <td>...</td>\n",
              "      <td>NaN</td>\n",
              "      <td>NaN</td>\n",
              "      <td>NaN</td>\n",
              "      <td>NaN</td>\n",
              "      <td>NaN</td>\n",
              "      <td>NaN</td>\n",
              "      <td>NaN</td>\n",
              "      <td>NaN</td>\n",
              "      <td>NaN</td>\n",
              "      <td>NaN</td>\n",
              "      <td>NaN</td>\n",
              "      <td>N</td>\n",
              "      <td>NaN</td>\n",
              "      <td>NaN</td>\n",
              "      <td>NaN</td>\n",
              "      <td>NaN</td>\n",
              "      <td>NaN</td>\n",
              "      <td>NaN</td>\n",
              "      <td>NaN</td>\n",
              "      <td>NaN</td>\n",
              "      <td>NaN</td>\n",
              "      <td>NaN</td>\n",
              "      <td>NaN</td>\n",
              "      <td>NaN</td>\n",
              "      <td>NaN</td>\n",
              "      <td>NaN</td>\n",
              "      <td>N</td>\n",
              "      <td>NaN</td>\n",
              "      <td>NaN</td>\n",
              "      <td>NaN</td>\n",
              "      <td>NaN</td>\n",
              "      <td>NaN</td>\n",
              "      <td>NaN</td>\n",
              "      <td>17.19</td>\n",
              "      <td>17.19</td>\n",
              "      <td>Front Desk Supervisor</td>\n",
              "      <td>False</td>\n",
              "      <td>2019-03-01</td>\n",
              "      <td>2006-09-01</td>\n",
              "      <td>60</td>\n",
              "    </tr>\n",
              "    <tr>\n",
              "      <th>1</th>\n",
              "      <td>NaN</td>\n",
              "      <td>NaN</td>\n",
              "      <td>12000</td>\n",
              "      <td>12000</td>\n",
              "      <td>12000</td>\n",
              "      <td>36 months</td>\n",
              "      <td>16.40%</td>\n",
              "      <td>424.26</td>\n",
              "      <td>C</td>\n",
              "      <td>C4</td>\n",
              "      <td>Executive Director</td>\n",
              "      <td>4 years</td>\n",
              "      <td>MORTGAGE</td>\n",
              "      <td>95000.0</td>\n",
              "      <td>Not Verified</td>\n",
              "      <td>Mar-2019</td>\n",
              "      <td>Current</td>\n",
              "      <td>n</td>\n",
              "      <td>NaN</td>\n",
              "      <td>NaN</td>\n",
              "      <td>debt_consolidation</td>\n",
              "      <td>Debt consolidation</td>\n",
              "      <td>436xx</td>\n",
              "      <td>OH</td>\n",
              "      <td>29.50</td>\n",
              "      <td>0</td>\n",
              "      <td>Nov-1992</td>\n",
              "      <td>0</td>\n",
              "      <td>29.0</td>\n",
              "      <td>NaN</td>\n",
              "      <td>19</td>\n",
              "      <td>0</td>\n",
              "      <td>16619</td>\n",
              "      <td>64.9%</td>\n",
              "      <td>36</td>\n",
              "      <td>w</td>\n",
              "      <td>11475.92</td>\n",
              "      <td>11475.92</td>\n",
              "      <td>826.65</td>\n",
              "      <td>826.65</td>\n",
              "      <td>...</td>\n",
              "      <td>NaN</td>\n",
              "      <td>NaN</td>\n",
              "      <td>NaN</td>\n",
              "      <td>NaN</td>\n",
              "      <td>NaN</td>\n",
              "      <td>NaN</td>\n",
              "      <td>NaN</td>\n",
              "      <td>NaN</td>\n",
              "      <td>NaN</td>\n",
              "      <td>NaN</td>\n",
              "      <td>NaN</td>\n",
              "      <td>N</td>\n",
              "      <td>NaN</td>\n",
              "      <td>NaN</td>\n",
              "      <td>NaN</td>\n",
              "      <td>NaN</td>\n",
              "      <td>NaN</td>\n",
              "      <td>NaN</td>\n",
              "      <td>NaN</td>\n",
              "      <td>NaN</td>\n",
              "      <td>NaN</td>\n",
              "      <td>NaN</td>\n",
              "      <td>NaN</td>\n",
              "      <td>NaN</td>\n",
              "      <td>NaN</td>\n",
              "      <td>NaN</td>\n",
              "      <td>N</td>\n",
              "      <td>NaN</td>\n",
              "      <td>NaN</td>\n",
              "      <td>NaN</td>\n",
              "      <td>NaN</td>\n",
              "      <td>NaN</td>\n",
              "      <td>NaN</td>\n",
              "      <td>16.40</td>\n",
              "      <td>16.40</td>\n",
              "      <td>Executive Director</td>\n",
              "      <td>False</td>\n",
              "      <td>2019-03-01</td>\n",
              "      <td>1992-11-01</td>\n",
              "      <td>36</td>\n",
              "    </tr>\n",
              "    <tr>\n",
              "      <th>2</th>\n",
              "      <td>NaN</td>\n",
              "      <td>NaN</td>\n",
              "      <td>3000</td>\n",
              "      <td>3000</td>\n",
              "      <td>3000</td>\n",
              "      <td>36 months</td>\n",
              "      <td>14.74%</td>\n",
              "      <td>103.62</td>\n",
              "      <td>C</td>\n",
              "      <td>C2</td>\n",
              "      <td>Office Manager</td>\n",
              "      <td>4 years</td>\n",
              "      <td>MORTGAGE</td>\n",
              "      <td>58750.0</td>\n",
              "      <td>Verified</td>\n",
              "      <td>Mar-2019</td>\n",
              "      <td>Current</td>\n",
              "      <td>n</td>\n",
              "      <td>NaN</td>\n",
              "      <td>NaN</td>\n",
              "      <td>medical</td>\n",
              "      <td>Medical expenses</td>\n",
              "      <td>327xx</td>\n",
              "      <td>FL</td>\n",
              "      <td>30.91</td>\n",
              "      <td>0</td>\n",
              "      <td>Jun-2004</td>\n",
              "      <td>0</td>\n",
              "      <td>24.0</td>\n",
              "      <td>NaN</td>\n",
              "      <td>16</td>\n",
              "      <td>0</td>\n",
              "      <td>20502</td>\n",
              "      <td>60.1%</td>\n",
              "      <td>25</td>\n",
              "      <td>f</td>\n",
              "      <td>2865.64</td>\n",
              "      <td>2865.64</td>\n",
              "      <td>202.33</td>\n",
              "      <td>202.33</td>\n",
              "      <td>...</td>\n",
              "      <td>NaN</td>\n",
              "      <td>NaN</td>\n",
              "      <td>NaN</td>\n",
              "      <td>NaN</td>\n",
              "      <td>NaN</td>\n",
              "      <td>NaN</td>\n",
              "      <td>NaN</td>\n",
              "      <td>NaN</td>\n",
              "      <td>NaN</td>\n",
              "      <td>NaN</td>\n",
              "      <td>NaN</td>\n",
              "      <td>N</td>\n",
              "      <td>NaN</td>\n",
              "      <td>NaN</td>\n",
              "      <td>NaN</td>\n",
              "      <td>NaN</td>\n",
              "      <td>NaN</td>\n",
              "      <td>NaN</td>\n",
              "      <td>NaN</td>\n",
              "      <td>NaN</td>\n",
              "      <td>NaN</td>\n",
              "      <td>NaN</td>\n",
              "      <td>NaN</td>\n",
              "      <td>NaN</td>\n",
              "      <td>NaN</td>\n",
              "      <td>NaN</td>\n",
              "      <td>N</td>\n",
              "      <td>NaN</td>\n",
              "      <td>NaN</td>\n",
              "      <td>NaN</td>\n",
              "      <td>NaN</td>\n",
              "      <td>NaN</td>\n",
              "      <td>NaN</td>\n",
              "      <td>14.74</td>\n",
              "      <td>14.74</td>\n",
              "      <td>Office Manager</td>\n",
              "      <td>True</td>\n",
              "      <td>2019-03-01</td>\n",
              "      <td>2004-06-01</td>\n",
              "      <td>36</td>\n",
              "    </tr>\n",
              "    <tr>\n",
              "      <th>3</th>\n",
              "      <td>NaN</td>\n",
              "      <td>NaN</td>\n",
              "      <td>35000</td>\n",
              "      <td>35000</td>\n",
              "      <td>35000</td>\n",
              "      <td>36 months</td>\n",
              "      <td>15.57%</td>\n",
              "      <td>1223.08</td>\n",
              "      <td>C</td>\n",
              "      <td>C3</td>\n",
              "      <td>Store Manager</td>\n",
              "      <td>10+ years</td>\n",
              "      <td>RENT</td>\n",
              "      <td>122000.0</td>\n",
              "      <td>Verified</td>\n",
              "      <td>Mar-2019</td>\n",
              "      <td>Current</td>\n",
              "      <td>n</td>\n",
              "      <td>NaN</td>\n",
              "      <td>NaN</td>\n",
              "      <td>credit_card</td>\n",
              "      <td>Credit card refinancing</td>\n",
              "      <td>333xx</td>\n",
              "      <td>FL</td>\n",
              "      <td>22.00</td>\n",
              "      <td>1</td>\n",
              "      <td>Dec-2009</td>\n",
              "      <td>0</td>\n",
              "      <td>20.0</td>\n",
              "      <td>NaN</td>\n",
              "      <td>5</td>\n",
              "      <td>0</td>\n",
              "      <td>1441</td>\n",
              "      <td>24.4%</td>\n",
              "      <td>18</td>\n",
              "      <td>w</td>\n",
              "      <td>33459.43</td>\n",
              "      <td>33459.43</td>\n",
              "      <td>2446.76</td>\n",
              "      <td>2446.76</td>\n",
              "      <td>...</td>\n",
              "      <td>NaN</td>\n",
              "      <td>NaN</td>\n",
              "      <td>NaN</td>\n",
              "      <td>NaN</td>\n",
              "      <td>NaN</td>\n",
              "      <td>NaN</td>\n",
              "      <td>NaN</td>\n",
              "      <td>NaN</td>\n",
              "      <td>NaN</td>\n",
              "      <td>NaN</td>\n",
              "      <td>NaN</td>\n",
              "      <td>N</td>\n",
              "      <td>NaN</td>\n",
              "      <td>NaN</td>\n",
              "      <td>NaN</td>\n",
              "      <td>NaN</td>\n",
              "      <td>NaN</td>\n",
              "      <td>NaN</td>\n",
              "      <td>NaN</td>\n",
              "      <td>NaN</td>\n",
              "      <td>NaN</td>\n",
              "      <td>NaN</td>\n",
              "      <td>NaN</td>\n",
              "      <td>NaN</td>\n",
              "      <td>NaN</td>\n",
              "      <td>NaN</td>\n",
              "      <td>N</td>\n",
              "      <td>NaN</td>\n",
              "      <td>NaN</td>\n",
              "      <td>NaN</td>\n",
              "      <td>NaN</td>\n",
              "      <td>NaN</td>\n",
              "      <td>NaN</td>\n",
              "      <td>15.57</td>\n",
              "      <td>15.57</td>\n",
              "      <td>Store Manager</td>\n",
              "      <td>True</td>\n",
              "      <td>2019-03-01</td>\n",
              "      <td>2009-12-01</td>\n",
              "      <td>36</td>\n",
              "    </tr>\n",
              "    <tr>\n",
              "      <th>4</th>\n",
              "      <td>NaN</td>\n",
              "      <td>NaN</td>\n",
              "      <td>5000</td>\n",
              "      <td>5000</td>\n",
              "      <td>5000</td>\n",
              "      <td>36 months</td>\n",
              "      <td>15.57%</td>\n",
              "      <td>174.73</td>\n",
              "      <td>C</td>\n",
              "      <td>C3</td>\n",
              "      <td>Area Manager</td>\n",
              "      <td>3 years</td>\n",
              "      <td>OWN</td>\n",
              "      <td>65000.0</td>\n",
              "      <td>Verified</td>\n",
              "      <td>Mar-2019</td>\n",
              "      <td>Current</td>\n",
              "      <td>n</td>\n",
              "      <td>NaN</td>\n",
              "      <td>NaN</td>\n",
              "      <td>house</td>\n",
              "      <td>Home buying</td>\n",
              "      <td>640xx</td>\n",
              "      <td>MO</td>\n",
              "      <td>16.28</td>\n",
              "      <td>1</td>\n",
              "      <td>Jul-2001</td>\n",
              "      <td>0</td>\n",
              "      <td>7.0</td>\n",
              "      <td>NaN</td>\n",
              "      <td>9</td>\n",
              "      <td>0</td>\n",
              "      <td>5604</td>\n",
              "      <td>64.4%</td>\n",
              "      <td>25</td>\n",
              "      <td>w</td>\n",
              "      <td>4778.86</td>\n",
              "      <td>4778.86</td>\n",
              "      <td>340.81</td>\n",
              "      <td>340.81</td>\n",
              "      <td>...</td>\n",
              "      <td>NaN</td>\n",
              "      <td>NaN</td>\n",
              "      <td>NaN</td>\n",
              "      <td>NaN</td>\n",
              "      <td>NaN</td>\n",
              "      <td>NaN</td>\n",
              "      <td>NaN</td>\n",
              "      <td>NaN</td>\n",
              "      <td>NaN</td>\n",
              "      <td>NaN</td>\n",
              "      <td>NaN</td>\n",
              "      <td>N</td>\n",
              "      <td>NaN</td>\n",
              "      <td>NaN</td>\n",
              "      <td>NaN</td>\n",
              "      <td>NaN</td>\n",
              "      <td>NaN</td>\n",
              "      <td>NaN</td>\n",
              "      <td>NaN</td>\n",
              "      <td>NaN</td>\n",
              "      <td>NaN</td>\n",
              "      <td>NaN</td>\n",
              "      <td>NaN</td>\n",
              "      <td>NaN</td>\n",
              "      <td>NaN</td>\n",
              "      <td>NaN</td>\n",
              "      <td>N</td>\n",
              "      <td>NaN</td>\n",
              "      <td>NaN</td>\n",
              "      <td>NaN</td>\n",
              "      <td>NaN</td>\n",
              "      <td>NaN</td>\n",
              "      <td>NaN</td>\n",
              "      <td>15.57</td>\n",
              "      <td>15.57</td>\n",
              "      <td>Area Manager</td>\n",
              "      <td>True</td>\n",
              "      <td>2019-03-01</td>\n",
              "      <td>2001-07-01</td>\n",
              "      <td>36</td>\n",
              "    </tr>\n",
              "  </tbody>\n",
              "</table>\n",
              "<p>5 rows × 151 columns</p>\n",
              "</div>"
            ],
            "text/plain": [
              "   id  member_id  loan_amnt  ...  issue_d_1  earliest_cr_line_1 term_2\n",
              "0 NaN        NaN      20000  ... 2019-03-01          2006-09-01     60\n",
              "1 NaN        NaN      12000  ... 2019-03-01          1992-11-01     36\n",
              "2 NaN        NaN       3000  ... 2019-03-01          2004-06-01     36\n",
              "3 NaN        NaN      35000  ... 2019-03-01          2009-12-01     36\n",
              "4 NaN        NaN       5000  ... 2019-03-01          2001-07-01     36\n",
              "\n",
              "[5 rows x 151 columns]"
            ]
          },
          "metadata": {
            "tags": []
          },
          "execution_count": 35
        }
      ]
    },
    {
      "cell_type": "code",
      "metadata": {
        "id": "b5-WeLZCJy4h",
        "colab_type": "code",
        "outputId": "117e9945-b537-44ae-8d96-6dbc883b082f",
        "colab": {
          "base_uri": "https://localhost:8080/",
          "height": 34
        }
      },
      "source": [
        "df['loan_status_is_great']=np.where(df['loan_status'] =='Current',1,\n",
        "                             np.where(df['loan_status'] =='Fully Paid.',1,0))\n",
        "df['loan_status_is_great'].sum()\n"
      ],
      "execution_count": 36,
      "outputs": [
        {
          "output_type": "execute_result",
          "data": {
            "text/plain": [
              "109176"
            ]
          },
          "metadata": {
            "tags": []
          },
          "execution_count": 36
        }
      ]
    },
    {
      "cell_type": "markdown",
      "metadata": {
        "id": "I6K3-ZJBQaR1",
        "colab_type": "text"
      },
      "source": [
        "###Make last_pymnt_d_month and last_pymnt_d_year columns."
      ]
    },
    {
      "cell_type": "code",
      "metadata": {
        "id": "wfAgjQyzUw3o",
        "colab_type": "code",
        "outputId": "8eb44e47-ad0a-4998-eab8-f9c0966e8b62",
        "colab": {
          "base_uri": "https://localhost:8080/",
          "height": 34
        }
      },
      "source": [
        "type(df['last_pymnt_d'][0])"
      ],
      "execution_count": 37,
      "outputs": [
        {
          "output_type": "execute_result",
          "data": {
            "text/plain": [
              "pandas._libs.tslibs.timestamps.Timestamp"
            ]
          },
          "metadata": {
            "tags": []
          },
          "execution_count": 37
        }
      ]
    },
    {
      "cell_type": "code",
      "metadata": {
        "id": "4w7zyRy0QZaS",
        "colab_type": "code",
        "outputId": "ec6ff21c-ee1b-4c23-f12a-431c653f7e3f",
        "colab": {
          "base_uri": "https://localhost:8080/",
          "height": 119
        }
      },
      "source": [
        "from datetime import datetime\n",
        "\n",
        "\n",
        "df['last_pymnt_d_month']=pd.to_datetime(df['last_pymnt_d']).dt.strftime('%B')\n",
        "df['last_pymnt_d_month'].head()"
      ],
      "execution_count": 38,
      "outputs": [
        {
          "output_type": "execute_result",
          "data": {
            "text/plain": [
              "0    June\n",
              "1     May\n",
              "2     May\n",
              "3    June\n",
              "4     May\n",
              "Name: last_pymnt_d_month, dtype: object"
            ]
          },
          "metadata": {
            "tags": []
          },
          "execution_count": 38
        }
      ]
    },
    {
      "cell_type": "code",
      "metadata": {
        "id": "md-l-4-sVbxP",
        "colab_type": "code",
        "outputId": "330e6145-b124-4a6d-e30c-ed35a85fc21d",
        "colab": {
          "base_uri": "https://localhost:8080/",
          "height": 119
        }
      },
      "source": [
        "df['last_pymnt_d_year']=pd.to_datetime(df['last_pymnt_d']).dt.strftime('%Y')\n",
        "df['last_pymnt_d_year'].head()"
      ],
      "execution_count": 39,
      "outputs": [
        {
          "output_type": "execute_result",
          "data": {
            "text/plain": [
              "0    2019\n",
              "1    2019\n",
              "2    2019\n",
              "3    2019\n",
              "4    2019\n",
              "Name: last_pymnt_d_year, dtype: object"
            ]
          },
          "metadata": {
            "tags": []
          },
          "execution_count": 39
        }
      ]
    },
    {
      "cell_type": "markdown",
      "metadata": {
        "id": "xwPMaginV3-q",
        "colab_type": "text"
      },
      "source": [
        "## Stretch with LendingClub"
      ]
    },
    {
      "cell_type": "markdown",
      "metadata": {
        "id": "yex3YIn2V_h8",
        "colab_type": "text"
      },
      "source": [
        "LendingClub options:\n",
        "\n",
        "There's one other column in the dataframe with percent signs. Remove them and convert to floats. You'll need to handle missing values."
      ]
    },
    {
      "cell_type": "code",
      "metadata": {
        "id": "ohs1QczRWMGs",
        "colab_type": "code",
        "outputId": "63c5338d-45e2-46da-ce3f-3bb2a0e49402",
        "colab": {
          "base_uri": "https://localhost:8080/",
          "height": 34
        }
      },
      "source": [
        "df['revol_util'].isna().sum()"
      ],
      "execution_count": 40,
      "outputs": [
        {
          "output_type": "execute_result",
          "data": {
            "text/plain": [
              "129"
            ]
          },
          "metadata": {
            "tags": []
          },
          "execution_count": 40
        }
      ]
    },
    {
      "cell_type": "code",
      "metadata": {
        "id": "CuNmiOD9WYbf",
        "colab_type": "code",
        "colab": {}
      },
      "source": [
        "def remove_percent_sign1(string):\n",
        "   if isinstance(string,str):\n",
        "    return float(string.strip('%'))\n",
        "   else:\n",
        "    return 0\n",
        " "
      ],
      "execution_count": 0,
      "outputs": []
    },
    {
      "cell_type": "code",
      "metadata": {
        "id": "VJBG6Gh6V95n",
        "colab_type": "code",
        "outputId": "ed113fd9-22cf-426b-d614-6b06d685686b",
        "colab": {
          "base_uri": "https://localhost:8080/",
          "height": 34
        }
      },
      "source": [
        "df['revol_util_1']=df['revol_util'].apply(remove_percent_sign1) #assuming that revolver utilization is zero if NAN\n",
        "df['revol_util_1'].isna().sum()"
      ],
      "execution_count": 42,
      "outputs": [
        {
          "output_type": "execute_result",
          "data": {
            "text/plain": [
              "0"
            ]
          },
          "metadata": {
            "tags": []
          },
          "execution_count": 42
        }
      ]
    },
    {
      "cell_type": "markdown",
      "metadata": {
        "id": "XZ1ci-orXlU8",
        "colab_type": "text"
      },
      "source": [
        "Modify the emp_title column to replace titles with 'Other' if the title is not in the top 20."
      ]
    },
    {
      "cell_type": "code",
      "metadata": {
        "id": "DQgd_66DXkoK",
        "colab_type": "code",
        "outputId": "1c7ed057-25c5-4600-f38c-cf836705934e",
        "colab": {
          "base_uri": "https://localhost:8080/",
          "height": 391
        }
      },
      "source": [
        "df.emp_title_1.value_counts().head(21)"
      ],
      "execution_count": 43,
      "outputs": [
        {
          "output_type": "execute_result",
          "data": {
            "text/plain": [
              "Missing                     19518\n",
              "Teacher                      2465\n",
              "Manager                      2172\n",
              "Registered Nurse             1306\n",
              "Driver                       1194\n",
              "Supervisor                   1109\n",
              "Office Manager                834\n",
              "Sales                         806\n",
              "Truck Driver                  767\n",
              "General Manager               737\n",
              "Rn                            724\n",
              "Owner                         695\n",
              "Project Manager               688\n",
              "Sales Manager                 468\n",
              "Director                      467\n",
              "Operations Manager            439\n",
              "Administrative Assistant      412\n",
              "Police Officer                385\n",
              "Technician                    381\n",
              "Engineer                      377\n",
              "Store Manager                 366\n",
              "Name: emp_title_1, dtype: int64"
            ]
          },
          "metadata": {
            "tags": []
          },
          "execution_count": 43
        }
      ]
    },
    {
      "cell_type": "code",
      "metadata": {
        "id": "N_Rnb-2hkN6s",
        "colab_type": "code",
        "outputId": "37c3c319-da60-4f10-b9b3-27fd2169ad8d",
        "colab": {
          "base_uri": "https://localhost:8080/",
          "height": 54
        }
      },
      "source": [
        "\n",
        "top = df['emp_title_1'].value_counts().head(21).index.tolist()\n",
        "print(top)"
      ],
      "execution_count": 49,
      "outputs": [
        {
          "output_type": "stream",
          "text": [
            "['Missing', 'Teacher', 'Manager', 'Registered Nurse', 'Driver', 'Supervisor', 'Office Manager', 'Sales', 'Truck Driver', 'General Manager', 'Rn', 'Owner', 'Project Manager', 'Sales Manager', 'Director', 'Operations Manager', 'Administrative Assistant', 'Police Officer', 'Technician', 'Engineer', 'Store Manager']\n"
          ],
          "name": "stdout"
        }
      ]
    },
    {
      "cell_type": "code",
      "metadata": {
        "id": "MxQoE6PxXISm",
        "colab_type": "code",
        "colab": {}
      },
      "source": [
        "\n",
        "\n",
        "\n",
        "def clean_emp_title2(x):\n",
        "  \n",
        "  if( x in top) :\n",
        "      return x\n",
        "  else:\n",
        "      return 'Other'\n"
      ],
      "execution_count": 0,
      "outputs": []
    },
    {
      "cell_type": "code",
      "metadata": {
        "id": "vyhdDCD8ghqk",
        "colab_type": "code",
        "colab": {}
      },
      "source": [
        "df['emp_title_2']=df['emp_title_1'].apply(clean_emp_title2) \n"
      ],
      "execution_count": 0,
      "outputs": []
    },
    {
      "cell_type": "code",
      "metadata": {
        "id": "Lrb5RfWtpWVU",
        "colab_type": "code",
        "colab": {
          "base_uri": "https://localhost:8080/",
          "height": 408
        },
        "outputId": "67789bc3-ad07-4678-c213-7b3162c28e18"
      },
      "source": [
        "df['emp_title_2'].value_counts().head(22)"
      ],
      "execution_count": 52,
      "outputs": [
        {
          "output_type": "execute_result",
          "data": {
            "text/plain": [
              "Other                       79365\n",
              "Missing                     19518\n",
              "Teacher                      2465\n",
              "Manager                      2172\n",
              "Registered Nurse             1306\n",
              "Driver                       1194\n",
              "Supervisor                   1109\n",
              "Office Manager                834\n",
              "Sales                         806\n",
              "Truck Driver                  767\n",
              "General Manager               737\n",
              "Rn                            724\n",
              "Owner                         695\n",
              "Project Manager               688\n",
              "Sales Manager                 468\n",
              "Director                      467\n",
              "Operations Manager            439\n",
              "Administrative Assistant      412\n",
              "Police Officer                385\n",
              "Technician                    381\n",
              "Engineer                      377\n",
              "Store Manager                 366\n",
              "Name: emp_title_2, dtype: int64"
            ]
          },
          "metadata": {
            "tags": []
          },
          "execution_count": 52
        }
      ]
    },
    {
      "cell_type": "markdown",
      "metadata": {
        "id": "ezBbNyviyH5j",
        "colab_type": "text"
      },
      "source": [
        "# ASSIGNMENT\n",
        "\n",
        "- Replicate the lesson code. \n",
        "\n",
        "- Convert the `term` column from string to integer.\n",
        "\n",
        "- Make a column named `loan_status_is_great`. It should contain the integer 1 if `loan_status` is \"Current\" or \"Fully Paid.\" Else it should contain the integer 0.\n",
        "\n",
        "- Make `last_pymnt_d_month` and `last_pymnt_d_year` columns."
      ]
    },
    {
      "cell_type": "markdown",
      "metadata": {
        "colab_type": "text",
        "id": "L8k0LiHmo5EU"
      },
      "source": [
        "# STRETCH OPTIONS\n",
        "\n",
        "You can do more with the LendingClub or Instacart datasets.\n",
        "\n",
        "LendingClub options:\n",
        "- There's one other column in the dataframe with percent signs. Remove them and convert to floats. You'll need to handle missing values.\n",
        "- Modify the `emp_title` column to replace titles with 'Other' if the title is not in the top 20. \n",
        "- Take initiatve and work on your own ideas!\n",
        "\n",
        "Instacart options:\n",
        "- Read [Instacart Market Basket Analysis, Winner's Interview: 2nd place, Kazuki Onodera](http://blog.kaggle.com/2017/09/21/instacart-market-basket-analysis-winners-interview-2nd-place-kazuki-onodera/), especially the **Feature Engineering** section. (Can you choose one feature from his bulleted lists, and try to engineer it with pandas code?)\n",
        "- Read and replicate parts of [Simple Exploration Notebook - Instacart](https://www.kaggle.com/sudalairajkumar/simple-exploration-notebook-instacart). (It's the Python Notebook with the most upvotes for this Kaggle competition.)\n",
        "- Take initiative and work on your own ideas!"
      ]
    },
    {
      "cell_type": "markdown",
      "metadata": {
        "colab_type": "text",
        "id": "0_7PXF7lpEXg"
      },
      "source": [
        "You can uncomment and run the cells below to re-download and extract the Instacart data"
      ]
    },
    {
      "cell_type": "code",
      "metadata": {
        "id": "JvxzrzO8yH5n",
        "colab_type": "code",
        "colab": {}
      },
      "source": [
        "# !wget https://s3.amazonaws.com/instacart-datasets/instacart_online_grocery_shopping_2017_05_01.tar.gz"
      ],
      "execution_count": 0,
      "outputs": []
    },
    {
      "cell_type": "code",
      "metadata": {
        "id": "a1i88CTFyH5r",
        "colab_type": "code",
        "colab": {}
      },
      "source": [
        "# !tar --gunzip --extract --verbose --file=instacart_online_grocery_shopping_2017_05_01.tar.gz"
      ],
      "execution_count": 0,
      "outputs": []
    },
    {
      "cell_type": "code",
      "metadata": {
        "id": "8pjedd_xyH5x",
        "colab_type": "code",
        "colab": {}
      },
      "source": [
        "# %cd instacart_2017_05_01"
      ],
      "execution_count": 0,
      "outputs": []
    }
  ]
}