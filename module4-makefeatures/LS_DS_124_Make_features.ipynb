{
  "nbformat": 4,
  "nbformat_minor": 0,
  "metadata": {
    "colab": {
      "name": "LS_DS_124_Make_features.ipynb",
      "version": "0.3.2",
      "provenance": [],
      "collapsed_sections": [],
      "toc_visible": true,
      "include_colab_link": true
    },
    "language_info": {
      "codemirror_mode": {
        "name": "ipython",
        "version": 3
      },
      "file_extension": ".py",
      "mimetype": "text/x-python",
      "name": "python",
      "nbconvert_exporter": "python",
      "pygments_lexer": "ipython3",
      "version": "3.7.1"
    },
    "kernelspec": {
      "display_name": "Python 3",
      "language": "python",
      "name": "python3"
    }
  },
  "cells": [
    {
      "cell_type": "markdown",
      "metadata": {
        "id": "view-in-github",
        "colab_type": "text"
      },
      "source": [
        "<a href=\"https://colab.research.google.com/github/tjHendrixx/DS-Unit-1-Sprint-1-Dealing-With-Data/blob/master/module4-makefeatures/LS_DS_124_Make_features.ipynb\" target=\"_parent\"><img src=\"https://colab.research.google.com/assets/colab-badge.svg\" alt=\"Open In Colab\"/></a>"
      ]
    },
    {
      "cell_type": "markdown",
      "metadata": {
        "colab_type": "text",
        "id": "qacqiXogluN_"
      },
      "source": [
        "_Lambda School Data Science_\n",
        "\n",
        "# Make features\n",
        "\n",
        "Objectives\n",
        "-  understand the purpose of feature engineering\n",
        "-  work with strings in pandas\n",
        "- work with dates and times in pandas\n",
        "\n",
        "Links\n",
        "- [Feature Engineering](https://en.wikipedia.org/wiki/Feature_engineering)\n",
        "- Python Data Science Handbook\n",
        "  - [Chapter 3.10](https://jakevdp.github.io/PythonDataScienceHandbook/03.10-working-with-strings.html), Vectorized String Operations\n",
        "  - [Chapter 3.11](https://jakevdp.github.io/PythonDataScienceHandbook/03.11-working-with-time-series.html), Working with Time Series"
      ]
    },
    {
      "cell_type": "markdown",
      "metadata": {
        "colab_type": "text",
        "id": "iSGiSktAoWIx"
      },
      "source": [
        "## Get LendingClub data\n",
        "\n",
        "[Source](https://www.lendingclub.com/info/download-data.action)"
      ]
    },
    {
      "cell_type": "code",
      "metadata": {
        "colab_type": "code",
        "id": "2ugxlWXimoHn",
        "outputId": "7c7fbed8-2be3-471c-d463-fd6fd6e76379",
        "colab": {
          "base_uri": "https://localhost:8080/",
          "height": 204
        }
      },
      "source": [
        "!wget https://resources.lendingclub.com/LoanStats_2018Q4.csv.zip"
      ],
      "execution_count": 15,
      "outputs": [
        {
          "output_type": "stream",
          "text": [
            "--2019-07-18 12:32:26--  https://resources.lendingclub.com/LoanStats_2018Q4.csv.zip\n",
            "Resolving resources.lendingclub.com (resources.lendingclub.com)... 64.48.1.20\n",
            "Connecting to resources.lendingclub.com (resources.lendingclub.com)|64.48.1.20|:443... connected.\n",
            "HTTP request sent, awaiting response... 200 OK\n",
            "Length: unspecified [application/zip]\n",
            "Saving to: ‘LoanStats_2018Q4.csv.zip’\n",
            "\n",
            "LoanStats_2018Q4.cs     [              <=>   ]  21.51M   887KB/s    in 26s     \n",
            "\n",
            "2019-07-18 12:32:52 (840 KB/s) - ‘LoanStats_2018Q4.csv.zip’ saved [22559146]\n",
            "\n"
          ],
          "name": "stdout"
        }
      ]
    },
    {
      "cell_type": "code",
      "metadata": {
        "colab_type": "code",
        "id": "-4sk6qPgmpmN",
        "outputId": "1673be19-55d6-4b18-bb78-cd1656d78717",
        "colab": {
          "base_uri": "https://localhost:8080/",
          "height": 80
        }
      },
      "source": [
        "!unzip LoanStats_2018Q4.csv.zip"
      ],
      "execution_count": 16,
      "outputs": [
        {
          "output_type": "stream",
          "text": [
            "Archive:  LoanStats_2018Q4.csv.zip\n",
            "  inflating: LoanStats_2018Q4.csv    \n"
          ],
          "name": "stdout"
        }
      ]
    },
    {
      "cell_type": "code",
      "metadata": {
        "colab_type": "code",
        "id": "seh5oNE1nD0X",
        "outputId": "89e5b656-a554-46ea-a3a0-cae61a0ccbf5",
        "colab": {
          "base_uri": "https://localhost:8080/",
          "height": 227
        }
      },
      "source": [
        "!head LoanStats_2018Q4.csv"
      ],
      "execution_count": 17,
      "outputs": [
        {
          "output_type": "stream",
          "text": [
            "Notes offered by Prospectus (https://www.lendingclub.com/info/prospectus.action)\n",
            "\"id\",\"member_id\",\"loan_amnt\",\"funded_amnt\",\"funded_amnt_inv\",\"term\",\"int_rate\",\"installment\",\"grade\",\"sub_grade\",\"emp_title\",\"emp_length\",\"home_ownership\",\"annual_inc\",\"verification_status\",\"issue_d\",\"loan_status\",\"pymnt_plan\",\"url\",\"desc\",\"purpose\",\"title\",\"zip_code\",\"addr_state\",\"dti\",\"delinq_2yrs\",\"earliest_cr_line\",\"inq_last_6mths\",\"mths_since_last_delinq\",\"mths_since_last_record\",\"open_acc\",\"pub_rec\",\"revol_bal\",\"revol_util\",\"total_acc\",\"initial_list_status\",\"out_prncp\",\"out_prncp_inv\",\"total_pymnt\",\"total_pymnt_inv\",\"total_rec_prncp\",\"total_rec_int\",\"total_rec_late_fee\",\"recoveries\",\"collection_recovery_fee\",\"last_pymnt_d\",\"last_pymnt_amnt\",\"next_pymnt_d\",\"last_credit_pull_d\",\"collections_12_mths_ex_med\",\"mths_since_last_major_derog\",\"policy_code\",\"application_type\",\"annual_inc_joint\",\"dti_joint\",\"verification_status_joint\",\"acc_now_delinq\",\"tot_coll_amt\",\"tot_cur_bal\",\"open_acc_6m\",\"open_act_il\",\"open_il_12m\",\"open_il_24m\",\"mths_since_rcnt_il\",\"total_bal_il\",\"il_util\",\"open_rv_12m\",\"open_rv_24m\",\"max_bal_bc\",\"all_util\",\"total_rev_hi_lim\",\"inq_fi\",\"total_cu_tl\",\"inq_last_12m\",\"acc_open_past_24mths\",\"avg_cur_bal\",\"bc_open_to_buy\",\"bc_util\",\"chargeoff_within_12_mths\",\"delinq_amnt\",\"mo_sin_old_il_acct\",\"mo_sin_old_rev_tl_op\",\"mo_sin_rcnt_rev_tl_op\",\"mo_sin_rcnt_tl\",\"mort_acc\",\"mths_since_recent_bc\",\"mths_since_recent_bc_dlq\",\"mths_since_recent_inq\",\"mths_since_recent_revol_delinq\",\"num_accts_ever_120_pd\",\"num_actv_bc_tl\",\"num_actv_rev_tl\",\"num_bc_sats\",\"num_bc_tl\",\"num_il_tl\",\"num_op_rev_tl\",\"num_rev_accts\",\"num_rev_tl_bal_gt_0\",\"num_sats\",\"num_tl_120dpd_2m\",\"num_tl_30dpd\",\"num_tl_90g_dpd_24m\",\"num_tl_op_past_12m\",\"pct_tl_nvr_dlq\",\"percent_bc_gt_75\",\"pub_rec_bankruptcies\",\"tax_liens\",\"tot_hi_cred_lim\",\"total_bal_ex_mort\",\"total_bc_limit\",\"total_il_high_credit_limit\",\"revol_bal_joint\",\"sec_app_earliest_cr_line\",\"sec_app_inq_last_6mths\",\"sec_app_mort_acc\",\"sec_app_open_acc\",\"sec_app_revol_util\",\"sec_app_open_act_il\",\"sec_app_num_rev_accts\",\"sec_app_chargeoff_within_12_mths\",\"sec_app_collections_12_mths_ex_med\",\"sec_app_mths_since_last_major_derog\",\"hardship_flag\",\"hardship_type\",\"hardship_reason\",\"hardship_status\",\"deferral_term\",\"hardship_amount\",\"hardship_start_date\",\"hardship_end_date\",\"payment_plan_start_date\",\"hardship_length\",\"hardship_dpd\",\"hardship_loan_status\",\"orig_projected_additional_accrued_interest\",\"hardship_payoff_balance_amount\",\"hardship_last_payment_amount\",\"debt_settlement_flag\",\"debt_settlement_flag_date\",\"settlement_status\",\"settlement_date\",\"settlement_amount\",\"settlement_percentage\",\"settlement_term\"\n",
            "\"\",\"\",\"5000\",\"5000\",\"5000\",\" 36 months\",\" 17.97%\",\"180.69\",\"D\",\"D1\",\"Administrative\",\"6 years\",\"MORTGAGE\",\"59280\",\"Source Verified\",\"Dec-2018\",\"Current\",\"n\",\"\",\"\",\"debt_consolidation\",\"Debt consolidation\",\"490xx\",\"MI\",\"10.51\",\"0\",\"Apr-2011\",\"0\",\"\",\"\",\"8\",\"0\",\"4599\",\"19.1%\",\"13\",\"w\",\"4456.17\",\"4456.17\",\"895.96\",\"895.96\",\"543.83\",\"352.13\",\"0.0\",\"0.0\",\"0.0\",\"Jun-2019\",\"180.69\",\"Jul-2019\",\"Jun-2019\",\"0\",\"\",\"1\",\"Individual\",\"\",\"\",\"\",\"0\",\"0\",\"110299\",\"0\",\"1\",\"0\",\"2\",\"14\",\"7150\",\"72\",\"0\",\"2\",\"0\",\"35\",\"24100\",\"1\",\"5\",\"0\",\"4\",\"18383\",\"13800\",\"0\",\"0\",\"0\",\"87\",\"92\",\"15\",\"14\",\"2\",\"77\",\"\",\"14\",\"\",\"0\",\"0\",\"3\",\"3\",\"3\",\"4\",\"6\",\"7\",\"3\",\"8\",\"0\",\"0\",\"0\",\"0\",\"100\",\"0\",\"0\",\"0\",\"136927\",\"11749\",\"13800\",\"10000\",\"\",\"\",\"\",\"\",\"\",\"\",\"\",\"\",\"\",\"\",\"\",\"N\",\"\",\"\",\"\",\"\",\"\",\"\",\"\",\"\",\"\",\"\",\"\",\"\",\"\",\"\",\"N\",\"\",\"\",\"\",\"\",\"\",\"\"\n",
            "\"\",\"\",\"25000\",\"25000\",\"25000\",\" 60 months\",\" 14.47%\",\"587.82\",\"C\",\"C2\",\"teacher\",\"10+ years\",\"OWN\",\"110000\",\"Not Verified\",\"Dec-2018\",\"Current\",\"n\",\"\",\"\",\"credit_card\",\"Credit card refinancing\",\"117xx\",\"NY\",\"26.43\",\"1\",\"Jan-1997\",\"0\",\"7\",\"\",\"23\",\"0\",\"39053\",\"45.7%\",\"49\",\"w\",\"23533.24\",\"23533.24\",\"2908.95\",\"2908.95\",\"1466.76\",\"1442.19\",\"0.0\",\"0.0\",\"0.0\",\"May-2019\",\"587.82\",\"Jul-2019\",\"Jun-2019\",\"0\",\"7\",\"1\",\"Individual\",\"\",\"\",\"\",\"0\",\"0\",\"95648\",\"0\",\"3\",\"0\",\"0\",\"35\",\"54716\",\"23\",\"1\",\"2\",\"8422\",\"39\",\"85500\",\"0\",\"1\",\"0\",\"2\",\"4159\",\"34837\",\"44.5\",\"0\",\"0\",\"263\",\"246\",\"10\",\"10\",\"0\",\"48\",\"\",\"\",\"\",\"0\",\"9\",\"13\",\"10\",\"14\",\"21\",\"19\",\"27\",\"13\",\"23\",\"0\",\"0\",\"1\",\"1\",\"98\",\"10\",\"0\",\"0\",\"179321\",\"95648\",\"62800\",\"91424\",\"\",\"\",\"\",\"\",\"\",\"\",\"\",\"\",\"\",\"\",\"\",\"N\",\"\",\"\",\"\",\"\",\"\",\"\",\"\",\"\",\"\",\"\",\"\",\"\",\"\",\"\",\"N\",\"\",\"\",\"\",\"\",\"\",\"\"\n",
            "\"\",\"\",\"10000\",\"10000\",\"10000\",\" 36 months\",\" 10.33%\",\"324.23\",\"B\",\"B1\",\"\",\"< 1 year\",\"MORTGAGE\",\"280000\",\"Not Verified\",\"Dec-2018\",\"Current\",\"n\",\"\",\"\",\"debt_consolidation\",\"Debt consolidation\",\"974xx\",\"OR\",\"6.15\",\"2\",\"Jan-1996\",\"0\",\"18\",\"\",\"14\",\"0\",\"9082\",\"38%\",\"23\",\"w\",\"8788.59\",\"8788.59\",\"1612.54\",\"1612.54\",\"1211.41\",\"401.13\",\"0.0\",\"0.0\",\"0.0\",\"May-2019\",\"324.23\",\"Jul-2019\",\"Jun-2019\",\"0\",\"\",\"1\",\"Individual\",\"\",\"\",\"\",\"0\",\"671\",\"246828\",\"1\",\"3\",\"2\",\"3\",\"1\",\"48552\",\"62\",\"1\",\"3\",\"4923\",\"46\",\"23900\",\"2\",\"7\",\"1\",\"7\",\"17631\",\"11897\",\"43.1\",\"0\",\"0\",\"158\",\"275\",\"11\",\"1\",\"1\",\"11\",\"\",\"11\",\"\",\"0\",\"3\",\"4\",\"7\",\"7\",\"10\",\"9\",\"11\",\"4\",\"14\",\"0\",\"0\",\"0\",\"4\",\"91.3\",\"28.6\",\"0\",\"0\",\"367828\",\"61364\",\"20900\",\"54912\",\"\",\"\",\"\",\"\",\"\",\"\",\"\",\"\",\"\",\"\",\"\",\"N\",\"\",\"\",\"\",\"\",\"\",\"\",\"\",\"\",\"\",\"\",\"\",\"\",\"\",\"\",\"N\",\"\",\"\",\"\",\"\",\"\",\"\"\n",
            "\"\",\"\",\"4000\",\"4000\",\"4000\",\" 36 months\",\" 23.40%\",\"155.68\",\"E\",\"E1\",\"Security\",\"3 years\",\"RENT\",\"90000\",\"Source Verified\",\"Dec-2018\",\"Current\",\"n\",\"\",\"\",\"debt_consolidation\",\"Debt consolidation\",\"070xx\",\"NJ\",\"26.33\",\"0\",\"Sep-2006\",\"4\",\"59\",\"\",\"15\",\"0\",\"5199\",\"19.2%\",\"20\",\"w\",\"3596.15\",\"3596.15\",\"770.6\",\"770.60\",\"403.85\",\"366.75\",\"0.0\",\"0.0\",\"0.0\",\"May-2019\",\"155.68\",\"Jul-2019\",\"Jun-2019\",\"0\",\"\",\"1\",\"Individual\",\"\",\"\",\"\",\"0\",\"0\",\"66926\",\"5\",\"4\",\"3\",\"4\",\"5\",\"61727\",\"86\",\"6\",\"11\",\"1353\",\"68\",\"27100\",\"4\",\"0\",\"4\",\"15\",\"4462\",\"20174\",\"7.9\",\"0\",\"0\",\"147\",\"118\",\"2\",\"2\",\"0\",\"2\",\"\",\"0\",\"\",\"0\",\"5\",\"7\",\"9\",\"9\",\"8\",\"11\",\"12\",\"7\",\"15\",\"0\",\"0\",\"0\",\"9\",\"95\",\"0\",\"0\",\"0\",\"98655\",\"66926\",\"21900\",\"71555\",\"\",\"\",\"\",\"\",\"\",\"\",\"\",\"\",\"\",\"\",\"\",\"N\",\"\",\"\",\"\",\"\",\"\",\"\",\"\",\"\",\"\",\"\",\"\",\"\",\"\",\"\",\"N\",\"\",\"\",\"\",\"\",\"\",\"\"\n",
            "\"\",\"\",\"31450\",\"31450\",\"31450\",\" 36 months\",\"  7.56%\",\"979.16\",\"A\",\"A3\",\"Construction Manager\",\"7 years\",\"MORTGAGE\",\"130000\",\"Verified\",\"Dec-2018\",\"Current\",\"n\",\"\",\"\",\"debt_consolidation\",\"Debt consolidation\",\"895xx\",\"NV\",\"9.29\",\"0\",\"Jul-1997\",\"0\",\"\",\"\",\"11\",\"0\",\"65911\",\"63.1%\",\"17\",\"w\",\"26689.41\",\"26689.41\",\"5802.32\",\"5802.32\",\"4760.59\",\"1041.73\",\"0.0\",\"0.0\",\"0.0\",\"Jun-2019\",\"979.16\",\"Jul-2019\",\"Jun-2019\",\"0\",\"\",\"1\",\"Joint App\",\"239000\",\"12.77\",\"Verified\",\"0\",\"0\",\"422806\",\"0\",\"0\",\"0\",\"0\",\"75\",\"0\",\"\",\"0\",\"0\",\"18962\",\"63\",\"104400\",\"0\",\"2\",\"1\",\"0\",\"42281\",\"29007\",\"53.5\",\"0\",\"0\",\"89\",\"257\",\"28\",\"28\",\"3\",\"28\",\"\",\"11\",\"\",\"0\",\"4\",\"6\",\"6\",\"6\",\"2\",\"10\",\"12\",\"6\",\"11\",\"0\",\"0\",\"0\",\"0\",\"100\",\"33.3\",\"0\",\"0\",\"519900\",\"65911\",\"62400\",\"0\",\"64367\",\"Jul-1997\",\"0\",\"3\",\"14\",\"60.9\",\"1\",\"19\",\"0\",\"0\",\"\",\"N\",\"\",\"\",\"\",\"\",\"\",\"\",\"\",\"\",\"\",\"\",\"\",\"\",\"\",\"\",\"N\",\"\",\"\",\"\",\"\",\"\",\"\"\n",
            "\"\",\"\",\"15500\",\"15500\",\"15500\",\" 36 months\",\" 10.72%\",\"505.4\",\"B\",\"B2\",\"Administrative Assistant \",\"10+ years\",\"RENT\",\"52000\",\"Not Verified\",\"Dec-2018\",\"Current\",\"n\",\"\",\"\",\"credit_card\",\"Credit card refinancing\",\"925xx\",\"CA\",\"16.66\",\"0\",\"Oct-2007\",\"0\",\"\",\"\",\"13\",\"0\",\"13496\",\"33.9%\",\"16\",\"w\",\"13632.26\",\"13632.26\",\"2513.15\",\"2513.15\",\"1867.74\",\"645.41\",\"0.0\",\"0.0\",\"0.0\",\"May-2019\",\"505.4\",\"Jul-2019\",\"Jun-2019\",\"1\",\"\",\"1\",\"Individual\",\"\",\"\",\"\",\"0\",\"349\",\"19386\",\"1\",\"1\",\"0\",\"1\",\"15\",\"5890\",\"59\",\"3\",\"4\",\"6061\",\"39\",\"39800\",\"0\",\"2\",\"1\",\"5\",\"1491\",\"14251\",\"47.4\",\"0\",\"0\",\"60\",\"134\",\"6\",\"6\",\"0\",\"6\",\"\",\"11\",\"\",\"0\",\"6\",\"8\",\"7\",\"9\",\"2\",\"12\",\"14\",\"8\",\"13\",\"0\",\"0\",\"0\",\"3\",\"100\",\"0\",\"0\",\"0\",\"49742\",\"19386\",\"27100\",\"9942\",\"\",\"\",\"\",\"\",\"\",\"\",\"\",\"\",\"\",\"\",\"\",\"N\",\"\",\"\",\"\",\"\",\"\",\"\",\"\",\"\",\"\",\"\",\"\",\"\",\"\",\"\",\"N\",\"\",\"\",\"\",\"\",\"\",\"\"\n",
            "\"\",\"\",\"6000\",\"6000\",\"6000\",\" 36 months\",\" 14.47%\",\"206.44\",\"C\",\"C2\",\"\",\"< 1 year\",\"OWN\",\"300000\",\"Not Verified\",\"Dec-2018\",\"Current\",\"n\",\"\",\"\",\"debt_consolidation\",\"Debt consolidation\",\"068xx\",\"CT\",\"17.43\",\"1\",\"Apr-2002\",\"1\",\"17\",\"\",\"38\",\"0\",\"65950\",\"49.8%\",\"58\",\"w\",\"5313.18\",\"5313.18\",\"1024.96\",\"1024.96\",\"686.82\",\"338.14\",\"0.0\",\"0.0\",\"0.0\",\"May-2019\",\"206.44\",\"Jul-2019\",\"Jun-2019\",\"0\",\"\",\"1\",\"Individual\",\"\",\"\",\"\",\"0\",\"0\",\"349502\",\"1\",\"4\",\"1\",\"3\",\"7\",\"39961\",\"45\",\"1\",\"12\",\"15926\",\"48\",\"132500\",\"2\",\"2\",\"2\",\"15\",\"9197\",\"38683\",\"60.6\",\"0\",\"0\",\"166\",\"200\",\"4\",\"4\",\"1\",\"4\",\"\",\"4\",\"17\",\"0\",\"16\",\"20\",\"19\",\"26\",\"9\",\"33\",\"48\",\"20\",\"38\",\"0\",\"0\",\"0\",\"2\",\"100\",\"26.3\",\"0\",\"0\",\"477390\",\"105911\",\"98300\",\"89600\",\"\",\"\",\"\",\"\",\"\",\"\",\"\",\"\",\"\",\"\",\"\",\"N\",\"\",\"\",\"\",\"\",\"\",\"\",\"\",\"\",\"\",\"\",\"\",\"\",\"\",\"\",\"N\",\"\",\"\",\"\",\"\",\"\",\"\"\n",
            "\"\",\"\",\"6500\",\"6500\",\"6500\",\" 36 months\",\" 17.97%\",\"234.9\",\"D\",\"D1\",\"Quality Field Engineer\",\"4 years\",\"MORTGAGE\",\"154000\",\"Source Verified\",\"Dec-2018\",\"Current\",\"n\",\"\",\"\",\"debt_consolidation\",\"Debt consolidation\",\"278xx\",\"NC\",\"28.78\",\"2\",\"Oct-2008\",\"0\",\"6\",\"\",\"27\",\"0\",\"23754\",\"60.4%\",\"41\",\"w\",\"5791.28\",\"5791.28\",\"1164.77\",\"1164.77\",\"708.72\",\"456.05\",\"0.0\",\"0.0\",\"0.0\",\"May-2019\",\"234.9\",\"Jul-2019\",\"Jun-2019\",\"0\",\"6\",\"1\",\"Individual\",\"\",\"\",\"\",\"0\",\"0\",\"116747\",\"2\",\"8\",\"3\",\"5\",\"1\",\"92993\",\"78\",\"1\",\"6\",\"3943\",\"72\",\"39300\",\"3\",\"3\",\"3\",\"11\",\"4324\",\"4578\",\"62.8\",\"1\",\"0\",\"122\",\"74\",\"11\",\"1\",\"0\",\"13\",\"\",\"4\",\"\",\"1\",\"5\",\"19\",\"5\",\"8\",\"17\",\"19\",\"24\",\"19\",\"27\",\"0\",\"0\",\"1\",\"4\",\"90.2\",\"20\",\"0\",\"0\",\"169160\",\"116747\",\"12300\",\"129860\",\"\",\"\",\"\",\"\",\"\",\"\",\"\",\"\",\"\",\"\",\"\",\"N\",\"\",\"\",\"\",\"\",\"\",\"\",\"\",\"\",\"\",\"\",\"\",\"\",\"\",\"\",\"N\",\"\",\"\",\"\",\"\",\"\",\"\"\n"
          ],
          "name": "stdout"
        }
      ]
    },
    {
      "cell_type": "markdown",
      "metadata": {
        "colab_type": "text",
        "id": "3nAIRCZdofrY"
      },
      "source": [
        "## Load LendingClub data\n",
        "\n",
        "pandas documentation\n",
        "- [`read_csv`](https://pandas.pydata.org/pandas-docs/stable/generated/pandas.read_csv.html)\n",
        "- [`options.display`](https://pandas.pydata.org/pandas-docs/stable/options.html#available-options)"
      ]
    },
    {
      "cell_type": "code",
      "metadata": {
        "colab_type": "code",
        "id": "3-8Vn3y6ooBC",
        "colab": {}
      },
      "source": [
        "import pandas as pd\n"
      ],
      "execution_count": 0,
      "outputs": []
    },
    {
      "cell_type": "code",
      "metadata": {
        "id": "79OX8IQmT9BE",
        "colab_type": "code",
        "outputId": "449cb858-fdb8-4021-d646-8ff083adef34",
        "colab": {
          "base_uri": "https://localhost:8080/",
          "height": 363
        }
      },
      "source": [
        "df = pd.read_csv(filepath_or_buffer='/content/LoanStats_2018Q4.csv.zip')\n",
        "df.head()"
      ],
      "execution_count": 23,
      "outputs": [
        {
          "output_type": "stream",
          "text": [
            "/usr/local/lib/python3.6/dist-packages/IPython/core/interactiveshell.py:2718: DtypeWarning: Columns (0,1,2,3,4,7,13,18,19,24,25,27,28,29,30,31,32,34,36,37,38,39,40,41,42,43,44,46,49,50,51,53,54,56,57,58,59,60,61,62,63,64,65,66,67,68,69,70,71,72,73,74,75,76,77,78,79,80,81,82,83,84,85,86,87,88,89,90,91,92,93,94,95,96,97,98,99,100,101,102,103,104,105,106,107,108,109,110,111,113,114,115,116,117,118,119,120,121,123,124,125,126,127,128,129,130,131,132,133,134,135,136,138,139,140,141,142,143) have mixed types. Specify dtype option on import or set low_memory=False.\n",
            "  interactivity=interactivity, compiler=compiler, result=result)\n"
          ],
          "name": "stderr"
        },
        {
          "output_type": "execute_result",
          "data": {
            "text/html": [
              "<div>\n",
              "<style scoped>\n",
              "    .dataframe tbody tr th:only-of-type {\n",
              "        vertical-align: middle;\n",
              "    }\n",
              "\n",
              "    .dataframe tbody tr th {\n",
              "        vertical-align: top;\n",
              "    }\n",
              "\n",
              "    .dataframe thead th {\n",
              "        text-align: right;\n",
              "    }\n",
              "</style>\n",
              "<table border=\"1\" class=\"dataframe\">\n",
              "  <thead>\n",
              "    <tr style=\"text-align: right;\">\n",
              "      <th></th>\n",
              "      <th></th>\n",
              "      <th></th>\n",
              "      <th></th>\n",
              "      <th></th>\n",
              "      <th></th>\n",
              "      <th></th>\n",
              "      <th></th>\n",
              "      <th></th>\n",
              "      <th></th>\n",
              "      <th></th>\n",
              "      <th></th>\n",
              "      <th></th>\n",
              "      <th></th>\n",
              "      <th></th>\n",
              "      <th></th>\n",
              "      <th></th>\n",
              "      <th></th>\n",
              "      <th></th>\n",
              "      <th></th>\n",
              "      <th></th>\n",
              "      <th></th>\n",
              "      <th></th>\n",
              "      <th></th>\n",
              "      <th></th>\n",
              "      <th></th>\n",
              "      <th></th>\n",
              "      <th></th>\n",
              "      <th></th>\n",
              "      <th></th>\n",
              "      <th></th>\n",
              "      <th></th>\n",
              "      <th></th>\n",
              "      <th></th>\n",
              "      <th></th>\n",
              "      <th></th>\n",
              "      <th></th>\n",
              "      <th></th>\n",
              "      <th></th>\n",
              "      <th></th>\n",
              "      <th></th>\n",
              "      <th></th>\n",
              "      <th></th>\n",
              "      <th></th>\n",
              "      <th></th>\n",
              "      <th></th>\n",
              "      <th></th>\n",
              "      <th></th>\n",
              "      <th></th>\n",
              "      <th></th>\n",
              "      <th></th>\n",
              "      <th></th>\n",
              "      <th></th>\n",
              "      <th></th>\n",
              "      <th></th>\n",
              "      <th></th>\n",
              "      <th></th>\n",
              "      <th></th>\n",
              "      <th></th>\n",
              "      <th></th>\n",
              "      <th></th>\n",
              "      <th></th>\n",
              "      <th></th>\n",
              "      <th></th>\n",
              "      <th></th>\n",
              "      <th></th>\n",
              "      <th></th>\n",
              "      <th></th>\n",
              "      <th></th>\n",
              "      <th></th>\n",
              "      <th></th>\n",
              "      <th></th>\n",
              "      <th></th>\n",
              "      <th></th>\n",
              "      <th></th>\n",
              "      <th></th>\n",
              "      <th></th>\n",
              "      <th></th>\n",
              "      <th></th>\n",
              "      <th></th>\n",
              "      <th></th>\n",
              "      <th></th>\n",
              "      <th></th>\n",
              "      <th></th>\n",
              "      <th></th>\n",
              "      <th></th>\n",
              "      <th></th>\n",
              "      <th></th>\n",
              "      <th></th>\n",
              "      <th></th>\n",
              "      <th></th>\n",
              "      <th></th>\n",
              "      <th></th>\n",
              "      <th></th>\n",
              "      <th></th>\n",
              "      <th></th>\n",
              "      <th></th>\n",
              "      <th></th>\n",
              "      <th></th>\n",
              "      <th></th>\n",
              "      <th></th>\n",
              "      <th></th>\n",
              "      <th></th>\n",
              "      <th></th>\n",
              "      <th></th>\n",
              "      <th></th>\n",
              "      <th></th>\n",
              "      <th></th>\n",
              "      <th></th>\n",
              "      <th></th>\n",
              "      <th></th>\n",
              "      <th></th>\n",
              "      <th></th>\n",
              "      <th></th>\n",
              "      <th></th>\n",
              "      <th></th>\n",
              "      <th></th>\n",
              "      <th></th>\n",
              "      <th></th>\n",
              "      <th></th>\n",
              "      <th></th>\n",
              "      <th></th>\n",
              "      <th></th>\n",
              "      <th></th>\n",
              "      <th></th>\n",
              "      <th></th>\n",
              "      <th></th>\n",
              "      <th></th>\n",
              "      <th></th>\n",
              "      <th></th>\n",
              "      <th></th>\n",
              "      <th></th>\n",
              "      <th></th>\n",
              "      <th></th>\n",
              "      <th></th>\n",
              "      <th></th>\n",
              "      <th></th>\n",
              "      <th></th>\n",
              "      <th></th>\n",
              "      <th></th>\n",
              "      <th></th>\n",
              "      <th></th>\n",
              "      <th></th>\n",
              "      <th>Notes offered by Prospectus (https://www.lendingclub.com/info/prospectus.action)</th>\n",
              "    </tr>\n",
              "  </thead>\n",
              "  <tbody>\n",
              "    <tr>\n",
              "      <th>id</th>\n",
              "      <th>member_id</th>\n",
              "      <th>loan_amnt</th>\n",
              "      <th>funded_amnt</th>\n",
              "      <th>funded_amnt_inv</th>\n",
              "      <th>term</th>\n",
              "      <th>int_rate</th>\n",
              "      <th>installment</th>\n",
              "      <th>grade</th>\n",
              "      <th>sub_grade</th>\n",
              "      <th>emp_title</th>\n",
              "      <th>emp_length</th>\n",
              "      <th>home_ownership</th>\n",
              "      <th>annual_inc</th>\n",
              "      <th>verification_status</th>\n",
              "      <th>issue_d</th>\n",
              "      <th>loan_status</th>\n",
              "      <th>pymnt_plan</th>\n",
              "      <th>url</th>\n",
              "      <th>desc</th>\n",
              "      <th>purpose</th>\n",
              "      <th>title</th>\n",
              "      <th>zip_code</th>\n",
              "      <th>addr_state</th>\n",
              "      <th>dti</th>\n",
              "      <th>delinq_2yrs</th>\n",
              "      <th>earliest_cr_line</th>\n",
              "      <th>inq_last_6mths</th>\n",
              "      <th>mths_since_last_delinq</th>\n",
              "      <th>mths_since_last_record</th>\n",
              "      <th>open_acc</th>\n",
              "      <th>pub_rec</th>\n",
              "      <th>revol_bal</th>\n",
              "      <th>revol_util</th>\n",
              "      <th>total_acc</th>\n",
              "      <th>initial_list_status</th>\n",
              "      <th>out_prncp</th>\n",
              "      <th>out_prncp_inv</th>\n",
              "      <th>total_pymnt</th>\n",
              "      <th>total_pymnt_inv</th>\n",
              "      <th>total_rec_prncp</th>\n",
              "      <th>total_rec_int</th>\n",
              "      <th>total_rec_late_fee</th>\n",
              "      <th>recoveries</th>\n",
              "      <th>collection_recovery_fee</th>\n",
              "      <th>last_pymnt_d</th>\n",
              "      <th>last_pymnt_amnt</th>\n",
              "      <th>next_pymnt_d</th>\n",
              "      <th>last_credit_pull_d</th>\n",
              "      <th>collections_12_mths_ex_med</th>\n",
              "      <th>mths_since_last_major_derog</th>\n",
              "      <th>policy_code</th>\n",
              "      <th>application_type</th>\n",
              "      <th>annual_inc_joint</th>\n",
              "      <th>dti_joint</th>\n",
              "      <th>verification_status_joint</th>\n",
              "      <th>acc_now_delinq</th>\n",
              "      <th>tot_coll_amt</th>\n",
              "      <th>tot_cur_bal</th>\n",
              "      <th>open_acc_6m</th>\n",
              "      <th>open_act_il</th>\n",
              "      <th>open_il_12m</th>\n",
              "      <th>open_il_24m</th>\n",
              "      <th>mths_since_rcnt_il</th>\n",
              "      <th>total_bal_il</th>\n",
              "      <th>il_util</th>\n",
              "      <th>open_rv_12m</th>\n",
              "      <th>open_rv_24m</th>\n",
              "      <th>max_bal_bc</th>\n",
              "      <th>all_util</th>\n",
              "      <th>total_rev_hi_lim</th>\n",
              "      <th>inq_fi</th>\n",
              "      <th>total_cu_tl</th>\n",
              "      <th>inq_last_12m</th>\n",
              "      <th>acc_open_past_24mths</th>\n",
              "      <th>avg_cur_bal</th>\n",
              "      <th>bc_open_to_buy</th>\n",
              "      <th>bc_util</th>\n",
              "      <th>chargeoff_within_12_mths</th>\n",
              "      <th>delinq_amnt</th>\n",
              "      <th>mo_sin_old_il_acct</th>\n",
              "      <th>mo_sin_old_rev_tl_op</th>\n",
              "      <th>mo_sin_rcnt_rev_tl_op</th>\n",
              "      <th>mo_sin_rcnt_tl</th>\n",
              "      <th>mort_acc</th>\n",
              "      <th>mths_since_recent_bc</th>\n",
              "      <th>mths_since_recent_bc_dlq</th>\n",
              "      <th>mths_since_recent_inq</th>\n",
              "      <th>mths_since_recent_revol_delinq</th>\n",
              "      <th>num_accts_ever_120_pd</th>\n",
              "      <th>num_actv_bc_tl</th>\n",
              "      <th>num_actv_rev_tl</th>\n",
              "      <th>num_bc_sats</th>\n",
              "      <th>num_bc_tl</th>\n",
              "      <th>num_il_tl</th>\n",
              "      <th>num_op_rev_tl</th>\n",
              "      <th>num_rev_accts</th>\n",
              "      <th>num_rev_tl_bal_gt_0</th>\n",
              "      <th>num_sats</th>\n",
              "      <th>num_tl_120dpd_2m</th>\n",
              "      <th>num_tl_30dpd</th>\n",
              "      <th>num_tl_90g_dpd_24m</th>\n",
              "      <th>num_tl_op_past_12m</th>\n",
              "      <th>pct_tl_nvr_dlq</th>\n",
              "      <th>percent_bc_gt_75</th>\n",
              "      <th>pub_rec_bankruptcies</th>\n",
              "      <th>tax_liens</th>\n",
              "      <th>tot_hi_cred_lim</th>\n",
              "      <th>total_bal_ex_mort</th>\n",
              "      <th>total_bc_limit</th>\n",
              "      <th>total_il_high_credit_limit</th>\n",
              "      <th>revol_bal_joint</th>\n",
              "      <th>sec_app_earliest_cr_line</th>\n",
              "      <th>sec_app_inq_last_6mths</th>\n",
              "      <th>sec_app_mort_acc</th>\n",
              "      <th>sec_app_open_acc</th>\n",
              "      <th>sec_app_revol_util</th>\n",
              "      <th>sec_app_open_act_il</th>\n",
              "      <th>sec_app_num_rev_accts</th>\n",
              "      <th>sec_app_chargeoff_within_12_mths</th>\n",
              "      <th>sec_app_collections_12_mths_ex_med</th>\n",
              "      <th>sec_app_mths_since_last_major_derog</th>\n",
              "      <th>hardship_flag</th>\n",
              "      <th>hardship_type</th>\n",
              "      <th>hardship_reason</th>\n",
              "      <th>hardship_status</th>\n",
              "      <th>deferral_term</th>\n",
              "      <th>hardship_amount</th>\n",
              "      <th>hardship_start_date</th>\n",
              "      <th>hardship_end_date</th>\n",
              "      <th>payment_plan_start_date</th>\n",
              "      <th>hardship_length</th>\n",
              "      <th>hardship_dpd</th>\n",
              "      <th>hardship_loan_status</th>\n",
              "      <th>orig_projected_additional_accrued_interest</th>\n",
              "      <th>hardship_payoff_balance_amount</th>\n",
              "      <th>hardship_last_payment_amount</th>\n",
              "      <th>debt_settlement_flag</th>\n",
              "      <th>debt_settlement_flag_date</th>\n",
              "      <th>settlement_status</th>\n",
              "      <th>settlement_date</th>\n",
              "      <th>settlement_amount</th>\n",
              "      <th>settlement_percentage</th>\n",
              "      <td>settlement_term</td>\n",
              "    </tr>\n",
              "    <tr>\n",
              "      <th rowspan=\"4\" valign=\"top\">NaN</th>\n",
              "      <th rowspan=\"4\" valign=\"top\">NaN</th>\n",
              "      <th>5000</th>\n",
              "      <th>5000</th>\n",
              "      <th>5000</th>\n",
              "      <th>36 months</th>\n",
              "      <th>17.97%</th>\n",
              "      <th>180.69</th>\n",
              "      <th>D</th>\n",
              "      <th>D1</th>\n",
              "      <th>Administrative</th>\n",
              "      <th>6 years</th>\n",
              "      <th>MORTGAGE</th>\n",
              "      <th>59280</th>\n",
              "      <th>Source Verified</th>\n",
              "      <th>Dec-2018</th>\n",
              "      <th>Current</th>\n",
              "      <th>n</th>\n",
              "      <th>NaN</th>\n",
              "      <th>NaN</th>\n",
              "      <th>debt_consolidation</th>\n",
              "      <th>Debt consolidation</th>\n",
              "      <th>490xx</th>\n",
              "      <th>MI</th>\n",
              "      <th>10.51</th>\n",
              "      <th>0</th>\n",
              "      <th>Apr-2011</th>\n",
              "      <th>0</th>\n",
              "      <th>NaN</th>\n",
              "      <th>NaN</th>\n",
              "      <th>8</th>\n",
              "      <th>0</th>\n",
              "      <th>4599</th>\n",
              "      <th>19.1%</th>\n",
              "      <th>13</th>\n",
              "      <th>w</th>\n",
              "      <th>4456.17</th>\n",
              "      <th>4456.17</th>\n",
              "      <th>895.96</th>\n",
              "      <th>895.96</th>\n",
              "      <th>543.83</th>\n",
              "      <th>352.13</th>\n",
              "      <th>0.0</th>\n",
              "      <th>0.0</th>\n",
              "      <th>0.0</th>\n",
              "      <th>Jun-2019</th>\n",
              "      <th>180.69</th>\n",
              "      <th>Jul-2019</th>\n",
              "      <th>Jun-2019</th>\n",
              "      <th>0</th>\n",
              "      <th>NaN</th>\n",
              "      <th>1</th>\n",
              "      <th>Individual</th>\n",
              "      <th>NaN</th>\n",
              "      <th>NaN</th>\n",
              "      <th>NaN</th>\n",
              "      <th>0</th>\n",
              "      <th>0</th>\n",
              "      <th>110299</th>\n",
              "      <th>0</th>\n",
              "      <th>1</th>\n",
              "      <th>0</th>\n",
              "      <th>2</th>\n",
              "      <th>14</th>\n",
              "      <th>7150</th>\n",
              "      <th>72</th>\n",
              "      <th>0</th>\n",
              "      <th>2</th>\n",
              "      <th>0</th>\n",
              "      <th>35</th>\n",
              "      <th>24100</th>\n",
              "      <th>1</th>\n",
              "      <th>5</th>\n",
              "      <th>0</th>\n",
              "      <th>4</th>\n",
              "      <th>18383</th>\n",
              "      <th>13800</th>\n",
              "      <th>0</th>\n",
              "      <th>0</th>\n",
              "      <th>0</th>\n",
              "      <th>87</th>\n",
              "      <th>92</th>\n",
              "      <th>15</th>\n",
              "      <th>14</th>\n",
              "      <th>2</th>\n",
              "      <th>77</th>\n",
              "      <th>NaN</th>\n",
              "      <th>14</th>\n",
              "      <th>NaN</th>\n",
              "      <th>0</th>\n",
              "      <th>0</th>\n",
              "      <th>3</th>\n",
              "      <th>3</th>\n",
              "      <th>3</th>\n",
              "      <th>4</th>\n",
              "      <th>6</th>\n",
              "      <th>7</th>\n",
              "      <th>3</th>\n",
              "      <th>8</th>\n",
              "      <th>0</th>\n",
              "      <th>0</th>\n",
              "      <th>0</th>\n",
              "      <th>0</th>\n",
              "      <th>100</th>\n",
              "      <th>0</th>\n",
              "      <th>0</th>\n",
              "      <th>0</th>\n",
              "      <th>136927</th>\n",
              "      <th>11749</th>\n",
              "      <th>13800</th>\n",
              "      <th>10000</th>\n",
              "      <th>NaN</th>\n",
              "      <th>NaN</th>\n",
              "      <th>NaN</th>\n",
              "      <th>NaN</th>\n",
              "      <th>NaN</th>\n",
              "      <th>NaN</th>\n",
              "      <th>NaN</th>\n",
              "      <th>NaN</th>\n",
              "      <th>NaN</th>\n",
              "      <th>NaN</th>\n",
              "      <th>NaN</th>\n",
              "      <th>N</th>\n",
              "      <th>NaN</th>\n",
              "      <th>NaN</th>\n",
              "      <th>NaN</th>\n",
              "      <th>NaN</th>\n",
              "      <th>NaN</th>\n",
              "      <th>NaN</th>\n",
              "      <th>NaN</th>\n",
              "      <th>NaN</th>\n",
              "      <th>NaN</th>\n",
              "      <th>NaN</th>\n",
              "      <th>NaN</th>\n",
              "      <th>NaN</th>\n",
              "      <th>NaN</th>\n",
              "      <th>NaN</th>\n",
              "      <th>N</th>\n",
              "      <th>NaN</th>\n",
              "      <th>NaN</th>\n",
              "      <th>NaN</th>\n",
              "      <th>NaN</th>\n",
              "      <th>NaN</th>\n",
              "      <td>NaN</td>\n",
              "    </tr>\n",
              "    <tr>\n",
              "      <th>25000</th>\n",
              "      <th>25000</th>\n",
              "      <th>25000</th>\n",
              "      <th>60 months</th>\n",
              "      <th>14.47%</th>\n",
              "      <th>587.82</th>\n",
              "      <th>C</th>\n",
              "      <th>C2</th>\n",
              "      <th>teacher</th>\n",
              "      <th>10+ years</th>\n",
              "      <th>OWN</th>\n",
              "      <th>110000</th>\n",
              "      <th>Not Verified</th>\n",
              "      <th>Dec-2018</th>\n",
              "      <th>Current</th>\n",
              "      <th>n</th>\n",
              "      <th>NaN</th>\n",
              "      <th>NaN</th>\n",
              "      <th>credit_card</th>\n",
              "      <th>Credit card refinancing</th>\n",
              "      <th>117xx</th>\n",
              "      <th>NY</th>\n",
              "      <th>26.43</th>\n",
              "      <th>1</th>\n",
              "      <th>Jan-1997</th>\n",
              "      <th>0</th>\n",
              "      <th>7</th>\n",
              "      <th>NaN</th>\n",
              "      <th>23</th>\n",
              "      <th>0</th>\n",
              "      <th>39053</th>\n",
              "      <th>45.7%</th>\n",
              "      <th>49</th>\n",
              "      <th>w</th>\n",
              "      <th>23533.24</th>\n",
              "      <th>23533.24</th>\n",
              "      <th>2908.95</th>\n",
              "      <th>2908.95</th>\n",
              "      <th>1466.76</th>\n",
              "      <th>1442.19</th>\n",
              "      <th>0.0</th>\n",
              "      <th>0.0</th>\n",
              "      <th>0.0</th>\n",
              "      <th>May-2019</th>\n",
              "      <th>587.82</th>\n",
              "      <th>Jul-2019</th>\n",
              "      <th>Jun-2019</th>\n",
              "      <th>0</th>\n",
              "      <th>7</th>\n",
              "      <th>1</th>\n",
              "      <th>Individual</th>\n",
              "      <th>NaN</th>\n",
              "      <th>NaN</th>\n",
              "      <th>NaN</th>\n",
              "      <th>0</th>\n",
              "      <th>0</th>\n",
              "      <th>95648</th>\n",
              "      <th>0</th>\n",
              "      <th>3</th>\n",
              "      <th>0</th>\n",
              "      <th>0</th>\n",
              "      <th>35</th>\n",
              "      <th>54716</th>\n",
              "      <th>23</th>\n",
              "      <th>1</th>\n",
              "      <th>2</th>\n",
              "      <th>8422</th>\n",
              "      <th>39</th>\n",
              "      <th>85500</th>\n",
              "      <th>0</th>\n",
              "      <th>1</th>\n",
              "      <th>0</th>\n",
              "      <th>2</th>\n",
              "      <th>4159</th>\n",
              "      <th>34837</th>\n",
              "      <th>44.5</th>\n",
              "      <th>0</th>\n",
              "      <th>0</th>\n",
              "      <th>263</th>\n",
              "      <th>246</th>\n",
              "      <th>10</th>\n",
              "      <th>10</th>\n",
              "      <th>0</th>\n",
              "      <th>48</th>\n",
              "      <th>NaN</th>\n",
              "      <th>NaN</th>\n",
              "      <th>NaN</th>\n",
              "      <th>0</th>\n",
              "      <th>9</th>\n",
              "      <th>13</th>\n",
              "      <th>10</th>\n",
              "      <th>14</th>\n",
              "      <th>21</th>\n",
              "      <th>19</th>\n",
              "      <th>27</th>\n",
              "      <th>13</th>\n",
              "      <th>23</th>\n",
              "      <th>0</th>\n",
              "      <th>0</th>\n",
              "      <th>1</th>\n",
              "      <th>1</th>\n",
              "      <th>98</th>\n",
              "      <th>10</th>\n",
              "      <th>0</th>\n",
              "      <th>0</th>\n",
              "      <th>179321</th>\n",
              "      <th>95648</th>\n",
              "      <th>62800</th>\n",
              "      <th>91424</th>\n",
              "      <th>NaN</th>\n",
              "      <th>NaN</th>\n",
              "      <th>NaN</th>\n",
              "      <th>NaN</th>\n",
              "      <th>NaN</th>\n",
              "      <th>NaN</th>\n",
              "      <th>NaN</th>\n",
              "      <th>NaN</th>\n",
              "      <th>NaN</th>\n",
              "      <th>NaN</th>\n",
              "      <th>NaN</th>\n",
              "      <th>N</th>\n",
              "      <th>NaN</th>\n",
              "      <th>NaN</th>\n",
              "      <th>NaN</th>\n",
              "      <th>NaN</th>\n",
              "      <th>NaN</th>\n",
              "      <th>NaN</th>\n",
              "      <th>NaN</th>\n",
              "      <th>NaN</th>\n",
              "      <th>NaN</th>\n",
              "      <th>NaN</th>\n",
              "      <th>NaN</th>\n",
              "      <th>NaN</th>\n",
              "      <th>NaN</th>\n",
              "      <th>NaN</th>\n",
              "      <th>N</th>\n",
              "      <th>NaN</th>\n",
              "      <th>NaN</th>\n",
              "      <th>NaN</th>\n",
              "      <th>NaN</th>\n",
              "      <th>NaN</th>\n",
              "      <td>NaN</td>\n",
              "    </tr>\n",
              "    <tr>\n",
              "      <th>10000</th>\n",
              "      <th>10000</th>\n",
              "      <th>10000</th>\n",
              "      <th>36 months</th>\n",
              "      <th>10.33%</th>\n",
              "      <th>324.23</th>\n",
              "      <th>B</th>\n",
              "      <th>B1</th>\n",
              "      <th>NaN</th>\n",
              "      <th>&lt; 1 year</th>\n",
              "      <th>MORTGAGE</th>\n",
              "      <th>280000</th>\n",
              "      <th>Not Verified</th>\n",
              "      <th>Dec-2018</th>\n",
              "      <th>Current</th>\n",
              "      <th>n</th>\n",
              "      <th>NaN</th>\n",
              "      <th>NaN</th>\n",
              "      <th>debt_consolidation</th>\n",
              "      <th>Debt consolidation</th>\n",
              "      <th>974xx</th>\n",
              "      <th>OR</th>\n",
              "      <th>6.15</th>\n",
              "      <th>2</th>\n",
              "      <th>Jan-1996</th>\n",
              "      <th>0</th>\n",
              "      <th>18</th>\n",
              "      <th>NaN</th>\n",
              "      <th>14</th>\n",
              "      <th>0</th>\n",
              "      <th>9082</th>\n",
              "      <th>38%</th>\n",
              "      <th>23</th>\n",
              "      <th>w</th>\n",
              "      <th>8788.59</th>\n",
              "      <th>8788.59</th>\n",
              "      <th>1612.54</th>\n",
              "      <th>1612.54</th>\n",
              "      <th>1211.41</th>\n",
              "      <th>401.13</th>\n",
              "      <th>0.0</th>\n",
              "      <th>0.0</th>\n",
              "      <th>0.0</th>\n",
              "      <th>May-2019</th>\n",
              "      <th>324.23</th>\n",
              "      <th>Jul-2019</th>\n",
              "      <th>Jun-2019</th>\n",
              "      <th>0</th>\n",
              "      <th>NaN</th>\n",
              "      <th>1</th>\n",
              "      <th>Individual</th>\n",
              "      <th>NaN</th>\n",
              "      <th>NaN</th>\n",
              "      <th>NaN</th>\n",
              "      <th>0</th>\n",
              "      <th>671</th>\n",
              "      <th>246828</th>\n",
              "      <th>1</th>\n",
              "      <th>3</th>\n",
              "      <th>2</th>\n",
              "      <th>3</th>\n",
              "      <th>1</th>\n",
              "      <th>48552</th>\n",
              "      <th>62</th>\n",
              "      <th>1</th>\n",
              "      <th>3</th>\n",
              "      <th>4923</th>\n",
              "      <th>46</th>\n",
              "      <th>23900</th>\n",
              "      <th>2</th>\n",
              "      <th>7</th>\n",
              "      <th>1</th>\n",
              "      <th>7</th>\n",
              "      <th>17631</th>\n",
              "      <th>11897</th>\n",
              "      <th>43.1</th>\n",
              "      <th>0</th>\n",
              "      <th>0</th>\n",
              "      <th>158</th>\n",
              "      <th>275</th>\n",
              "      <th>11</th>\n",
              "      <th>1</th>\n",
              "      <th>1</th>\n",
              "      <th>11</th>\n",
              "      <th>NaN</th>\n",
              "      <th>11</th>\n",
              "      <th>NaN</th>\n",
              "      <th>0</th>\n",
              "      <th>3</th>\n",
              "      <th>4</th>\n",
              "      <th>7</th>\n",
              "      <th>7</th>\n",
              "      <th>10</th>\n",
              "      <th>9</th>\n",
              "      <th>11</th>\n",
              "      <th>4</th>\n",
              "      <th>14</th>\n",
              "      <th>0</th>\n",
              "      <th>0</th>\n",
              "      <th>0</th>\n",
              "      <th>4</th>\n",
              "      <th>91.3</th>\n",
              "      <th>28.6</th>\n",
              "      <th>0</th>\n",
              "      <th>0</th>\n",
              "      <th>367828</th>\n",
              "      <th>61364</th>\n",
              "      <th>20900</th>\n",
              "      <th>54912</th>\n",
              "      <th>NaN</th>\n",
              "      <th>NaN</th>\n",
              "      <th>NaN</th>\n",
              "      <th>NaN</th>\n",
              "      <th>NaN</th>\n",
              "      <th>NaN</th>\n",
              "      <th>NaN</th>\n",
              "      <th>NaN</th>\n",
              "      <th>NaN</th>\n",
              "      <th>NaN</th>\n",
              "      <th>NaN</th>\n",
              "      <th>N</th>\n",
              "      <th>NaN</th>\n",
              "      <th>NaN</th>\n",
              "      <th>NaN</th>\n",
              "      <th>NaN</th>\n",
              "      <th>NaN</th>\n",
              "      <th>NaN</th>\n",
              "      <th>NaN</th>\n",
              "      <th>NaN</th>\n",
              "      <th>NaN</th>\n",
              "      <th>NaN</th>\n",
              "      <th>NaN</th>\n",
              "      <th>NaN</th>\n",
              "      <th>NaN</th>\n",
              "      <th>NaN</th>\n",
              "      <th>N</th>\n",
              "      <th>NaN</th>\n",
              "      <th>NaN</th>\n",
              "      <th>NaN</th>\n",
              "      <th>NaN</th>\n",
              "      <th>NaN</th>\n",
              "      <td>NaN</td>\n",
              "    </tr>\n",
              "    <tr>\n",
              "      <th>4000</th>\n",
              "      <th>4000</th>\n",
              "      <th>4000</th>\n",
              "      <th>36 months</th>\n",
              "      <th>23.40%</th>\n",
              "      <th>155.68</th>\n",
              "      <th>E</th>\n",
              "      <th>E1</th>\n",
              "      <th>Security</th>\n",
              "      <th>3 years</th>\n",
              "      <th>RENT</th>\n",
              "      <th>90000</th>\n",
              "      <th>Source Verified</th>\n",
              "      <th>Dec-2018</th>\n",
              "      <th>Current</th>\n",
              "      <th>n</th>\n",
              "      <th>NaN</th>\n",
              "      <th>NaN</th>\n",
              "      <th>debt_consolidation</th>\n",
              "      <th>Debt consolidation</th>\n",
              "      <th>070xx</th>\n",
              "      <th>NJ</th>\n",
              "      <th>26.33</th>\n",
              "      <th>0</th>\n",
              "      <th>Sep-2006</th>\n",
              "      <th>4</th>\n",
              "      <th>59</th>\n",
              "      <th>NaN</th>\n",
              "      <th>15</th>\n",
              "      <th>0</th>\n",
              "      <th>5199</th>\n",
              "      <th>19.2%</th>\n",
              "      <th>20</th>\n",
              "      <th>w</th>\n",
              "      <th>3596.15</th>\n",
              "      <th>3596.15</th>\n",
              "      <th>770.6</th>\n",
              "      <th>770.60</th>\n",
              "      <th>403.85</th>\n",
              "      <th>366.75</th>\n",
              "      <th>0.0</th>\n",
              "      <th>0.0</th>\n",
              "      <th>0.0</th>\n",
              "      <th>May-2019</th>\n",
              "      <th>155.68</th>\n",
              "      <th>Jul-2019</th>\n",
              "      <th>Jun-2019</th>\n",
              "      <th>0</th>\n",
              "      <th>NaN</th>\n",
              "      <th>1</th>\n",
              "      <th>Individual</th>\n",
              "      <th>NaN</th>\n",
              "      <th>NaN</th>\n",
              "      <th>NaN</th>\n",
              "      <th>0</th>\n",
              "      <th>0</th>\n",
              "      <th>66926</th>\n",
              "      <th>5</th>\n",
              "      <th>4</th>\n",
              "      <th>3</th>\n",
              "      <th>4</th>\n",
              "      <th>5</th>\n",
              "      <th>61727</th>\n",
              "      <th>86</th>\n",
              "      <th>6</th>\n",
              "      <th>11</th>\n",
              "      <th>1353</th>\n",
              "      <th>68</th>\n",
              "      <th>27100</th>\n",
              "      <th>4</th>\n",
              "      <th>0</th>\n",
              "      <th>4</th>\n",
              "      <th>15</th>\n",
              "      <th>4462</th>\n",
              "      <th>20174</th>\n",
              "      <th>7.9</th>\n",
              "      <th>0</th>\n",
              "      <th>0</th>\n",
              "      <th>147</th>\n",
              "      <th>118</th>\n",
              "      <th>2</th>\n",
              "      <th>2</th>\n",
              "      <th>0</th>\n",
              "      <th>2</th>\n",
              "      <th>NaN</th>\n",
              "      <th>0</th>\n",
              "      <th>NaN</th>\n",
              "      <th>0</th>\n",
              "      <th>5</th>\n",
              "      <th>7</th>\n",
              "      <th>9</th>\n",
              "      <th>9</th>\n",
              "      <th>8</th>\n",
              "      <th>11</th>\n",
              "      <th>12</th>\n",
              "      <th>7</th>\n",
              "      <th>15</th>\n",
              "      <th>0</th>\n",
              "      <th>0</th>\n",
              "      <th>0</th>\n",
              "      <th>9</th>\n",
              "      <th>95</th>\n",
              "      <th>0</th>\n",
              "      <th>0</th>\n",
              "      <th>0</th>\n",
              "      <th>98655</th>\n",
              "      <th>66926</th>\n",
              "      <th>21900</th>\n",
              "      <th>71555</th>\n",
              "      <th>NaN</th>\n",
              "      <th>NaN</th>\n",
              "      <th>NaN</th>\n",
              "      <th>NaN</th>\n",
              "      <th>NaN</th>\n",
              "      <th>NaN</th>\n",
              "      <th>NaN</th>\n",
              "      <th>NaN</th>\n",
              "      <th>NaN</th>\n",
              "      <th>NaN</th>\n",
              "      <th>NaN</th>\n",
              "      <th>N</th>\n",
              "      <th>NaN</th>\n",
              "      <th>NaN</th>\n",
              "      <th>NaN</th>\n",
              "      <th>NaN</th>\n",
              "      <th>NaN</th>\n",
              "      <th>NaN</th>\n",
              "      <th>NaN</th>\n",
              "      <th>NaN</th>\n",
              "      <th>NaN</th>\n",
              "      <th>NaN</th>\n",
              "      <th>NaN</th>\n",
              "      <th>NaN</th>\n",
              "      <th>NaN</th>\n",
              "      <th>NaN</th>\n",
              "      <th>N</th>\n",
              "      <th>NaN</th>\n",
              "      <th>NaN</th>\n",
              "      <th>NaN</th>\n",
              "      <th>NaN</th>\n",
              "      <th>NaN</th>\n",
              "      <td>NaN</td>\n",
              "    </tr>\n",
              "  </tbody>\n",
              "</table>\n",
              "</div>"
            ],
            "text/plain": [
              "                                                                                                                                                                                                                                                                                                                                                                                                                                                                                                                                                                                                                                                                                                                                                                                                                                                                                                                                                                                                                                                                                                                                                                                                                                                                                                                                                                                                                                                                                                                                                                                                                                                                                                                                                                                                                                                                                                                                                                                                                                                                                                                                                                                                                                                                                                                                                                                                       Notes offered by Prospectus (https://www.lendingclub.com/info/prospectus.action)\n",
              "id  member_id loan_amnt funded_amnt funded_amnt_inv term       int_rate installment grade sub_grade emp_title      emp_length home_ownership annual_inc verification_status issue_d  loan_status pymnt_plan url desc purpose            title                   zip_code addr_state dti   delinq_2yrs earliest_cr_line inq_last_6mths mths_since_last_delinq mths_since_last_record open_acc pub_rec revol_bal revol_util total_acc initial_list_status out_prncp out_prncp_inv total_pymnt total_pymnt_inv total_rec_prncp total_rec_int total_rec_late_fee recoveries collection_recovery_fee last_pymnt_d last_pymnt_amnt next_pymnt_d last_credit_pull_d collections_12_mths_ex_med mths_since_last_major_derog policy_code application_type annual_inc_joint dti_joint verification_status_joint acc_now_delinq tot_coll_amt tot_cur_bal open_acc_6m open_act_il open_il_12m open_il_24m mths_since_rcnt_il total_bal_il il_util open_rv_12m open_rv_24m max_bal_bc all_util total_rev_hi_lim inq_fi total_cu_tl inq_last_12m acc_open_past_24mths avg_cur_bal bc_open_to_buy bc_util chargeoff_within_12_mths delinq_amnt mo_sin_old_il_acct mo_sin_old_rev_tl_op mo_sin_rcnt_rev_tl_op mo_sin_rcnt_tl mort_acc mths_since_recent_bc mths_since_recent_bc_dlq mths_since_recent_inq mths_since_recent_revol_delinq num_accts_ever_120_pd num_actv_bc_tl num_actv_rev_tl num_bc_sats num_bc_tl num_il_tl num_op_rev_tl num_rev_accts num_rev_tl_bal_gt_0 num_sats num_tl_120dpd_2m num_tl_30dpd num_tl_90g_dpd_24m num_tl_op_past_12m pct_tl_nvr_dlq percent_bc_gt_75 pub_rec_bankruptcies tax_liens tot_hi_cred_lim total_bal_ex_mort total_bc_limit total_il_high_credit_limit revol_bal_joint sec_app_earliest_cr_line sec_app_inq_last_6mths sec_app_mort_acc sec_app_open_acc sec_app_revol_util sec_app_open_act_il sec_app_num_rev_accts sec_app_chargeoff_within_12_mths sec_app_collections_12_mths_ex_med sec_app_mths_since_last_major_derog hardship_flag hardship_type hardship_reason hardship_status deferral_term hardship_amount hardship_start_date hardship_end_date payment_plan_start_date hardship_length hardship_dpd hardship_loan_status orig_projected_additional_accrued_interest hardship_payoff_balance_amount hardship_last_payment_amount debt_settlement_flag debt_settlement_flag_date settlement_status settlement_date settlement_amount settlement_percentage                                    settlement_term                              \n",
              "NaN NaN       5000      5000        5000             36 months  17.97%  180.69      D     D1        Administrative 6 years    MORTGAGE       59280      Source Verified     Dec-2018 Current     n          NaN NaN  debt_consolidation Debt consolidation      490xx    MI         10.51 0           Apr-2011         0              NaN                    NaN                    8        0       4599      19.1%      13        w                   4456.17   4456.17       895.96      895.96          543.83          352.13        0.0                0.0        0.0                     Jun-2019     180.69          Jul-2019     Jun-2019           0                          NaN                         1           Individual       NaN              NaN       NaN                       0              0            110299      0           1           0           2           14                 7150         72      0           2           0          35       24100            1      5           0            4                    18383       13800          0       0                        0           87                 92                   15                    14             2        77                   NaN                      14                    NaN                            0                     0              3               3           3         4         6             7             3                   8        0                0            0                  0                  100            0                0                    0         136927          11749             13800          10000                      NaN             NaN                      NaN                    NaN              NaN              NaN                NaN                 NaN                   NaN                              NaN                                NaN                                 N             NaN           NaN             NaN             NaN           NaN             NaN                 NaN               NaN                     NaN             NaN          NaN                  NaN                                        NaN                            NaN                          N                    NaN                       NaN               NaN             NaN               NaN                                                                  NaN                              \n",
              "              25000     25000       25000            60 months  14.47%  587.82      C     C2        teacher        10+ years  OWN            110000     Not Verified        Dec-2018 Current     n          NaN NaN  credit_card        Credit card refinancing 117xx    NY         26.43 1           Jan-1997         0              7                      NaN                    23       0       39053     45.7%      49        w                   23533.24  23533.24      2908.95     2908.95         1466.76         1442.19       0.0                0.0        0.0                     May-2019     587.82          Jul-2019     Jun-2019           0                          7                           1           Individual       NaN              NaN       NaN                       0              0            95648       0           3           0           0           35                 54716        23      1           2           8422       39       85500            0      1           0            2                    4159        34837          44.5    0                        0           263                246                  10                    10             0        48                   NaN                      NaN                   NaN                            0                     9              13              10          14        21        19            27            13                  23       0                0            1                  1                  98             10               0                    0         179321          95648             62800          91424                      NaN             NaN                      NaN                    NaN              NaN              NaN                NaN                 NaN                   NaN                              NaN                                NaN                                 N             NaN           NaN             NaN             NaN           NaN             NaN                 NaN               NaN                     NaN             NaN          NaN                  NaN                                        NaN                            NaN                          N                    NaN                       NaN               NaN             NaN               NaN                                                                  NaN                              \n",
              "              10000     10000       10000            36 months  10.33%  324.23      B     B1        NaN            < 1 year   MORTGAGE       280000     Not Verified        Dec-2018 Current     n          NaN NaN  debt_consolidation Debt consolidation      974xx    OR         6.15  2           Jan-1996         0              18                     NaN                    14       0       9082      38%        23        w                   8788.59   8788.59       1612.54     1612.54         1211.41         401.13        0.0                0.0        0.0                     May-2019     324.23          Jul-2019     Jun-2019           0                          NaN                         1           Individual       NaN              NaN       NaN                       0              671          246828      1           3           2           3           1                  48552        62      1           3           4923       46       23900            2      7           1            7                    17631       11897          43.1    0                        0           158                275                  11                    1              1        11                   NaN                      11                    NaN                            0                     3              4               7           7         10        9             11            4                   14       0                0            0                  4                  91.3           28.6             0                    0         367828          61364             20900          54912                      NaN             NaN                      NaN                    NaN              NaN              NaN                NaN                 NaN                   NaN                              NaN                                NaN                                 N             NaN           NaN             NaN             NaN           NaN             NaN                 NaN               NaN                     NaN             NaN          NaN                  NaN                                        NaN                            NaN                          N                    NaN                       NaN               NaN             NaN               NaN                                                                  NaN                              \n",
              "              4000      4000        4000             36 months  23.40%  155.68      E     E1        Security       3 years    RENT           90000      Source Verified     Dec-2018 Current     n          NaN NaN  debt_consolidation Debt consolidation      070xx    NJ         26.33 0           Sep-2006         4              59                     NaN                    15       0       5199      19.2%      20        w                   3596.15   3596.15       770.6       770.60          403.85          366.75        0.0                0.0        0.0                     May-2019     155.68          Jul-2019     Jun-2019           0                          NaN                         1           Individual       NaN              NaN       NaN                       0              0            66926       5           4           3           4           5                  61727        86      6           11          1353       68       27100            4      0           4            15                   4462        20174          7.9     0                        0           147                118                  2                     2              0        2                    NaN                      0                     NaN                            0                     5              7               9           9         8         11            12            7                   15       0                0            0                  9                  95             0                0                    0         98655           66926             21900          71555                      NaN             NaN                      NaN                    NaN              NaN              NaN                NaN                 NaN                   NaN                              NaN                                NaN                                 N             NaN           NaN             NaN             NaN           NaN             NaN                 NaN               NaN                     NaN             NaN          NaN                  NaN                                        NaN                            NaN                          N                    NaN                       NaN               NaN             NaN               NaN                                                                  NaN                              "
            ]
          },
          "metadata": {
            "tags": []
          },
          "execution_count": 23
        }
      ]
    },
    {
      "cell_type": "code",
      "metadata": {
        "id": "81ylcV0KUnAW",
        "colab_type": "code",
        "outputId": "7b2956e9-496c-48d6-96c5-001fbfd62e74",
        "colab": {
          "base_uri": "https://localhost:8080/",
          "height": 51
        }
      },
      "source": [
        "df =pd.read_csv(sep=',',filepath_or_buffer='LoanStats_2018Q4.csv', skiprows=1, skipfooter=2)"
      ],
      "execution_count": 24,
      "outputs": [
        {
          "output_type": "stream",
          "text": [
            "/usr/local/lib/python3.6/dist-packages/ipykernel_launcher.py:1: ParserWarning: Falling back to the 'python' engine because the 'c' engine does not support skipfooter; you can avoid this warning by specifying engine='python'.\n",
            "  \"\"\"Entry point for launching an IPython kernel.\n"
          ],
          "name": "stderr"
        }
      ]
    },
    {
      "cell_type": "markdown",
      "metadata": {
        "colab_type": "text",
        "id": "1b5_hMTio2Ly"
      },
      "source": [
        "## Work with strings"
      ]
    },
    {
      "cell_type": "markdown",
      "metadata": {
        "id": "iCFfJilIRyfu",
        "colab_type": "text"
      },
      "source": [
        "For machine learning, we usually want to replace strings with numbers.\n",
        "\n",
        "We can get info about which columns have a datatype of \"object\" (strings)"
      ]
    },
    {
      "cell_type": "code",
      "metadata": {
        "colab_type": "code",
        "id": "WOL7QPVNo3F4",
        "colab": {}
      },
      "source": [
        "def strip_percent(x_str):\n",
        "    return float(x_str.strip('%%'))"
      ],
      "execution_count": 0,
      "outputs": []
    },
    {
      "cell_type": "markdown",
      "metadata": {
        "id": "XEKokVqxRyf2",
        "colab_type": "text"
      },
      "source": [
        "### Convert `int_rate`\n",
        "\n",
        "Define a function to remove percent signs from strings and convert to floats"
      ]
    },
    {
      "cell_type": "code",
      "metadata": {
        "id": "CShEMxnuRyf4",
        "colab_type": "code",
        "colab": {}
      },
      "source": [
        "df['int_rate']= df['int_rate'].apply(strip_percent)"
      ],
      "execution_count": 0,
      "outputs": []
    },
    {
      "cell_type": "markdown",
      "metadata": {
        "id": "X39qJ4bWRygB",
        "colab_type": "text"
      },
      "source": [
        "Apply the function to the `int_rate` column"
      ]
    },
    {
      "cell_type": "code",
      "metadata": {
        "id": "yLDMZtfaRygC",
        "colab_type": "code",
        "outputId": "0326c4a3-3096-4083-9935-87be66c23a0e",
        "colab": {
          "base_uri": "https://localhost:8080/",
          "height": 119
        }
      },
      "source": [
        "df.int_rate.head()"
      ],
      "execution_count": 27,
      "outputs": [
        {
          "output_type": "execute_result",
          "data": {
            "text/plain": [
              "0    17.97\n",
              "1    14.47\n",
              "2    10.33\n",
              "3    23.40\n",
              "4     7.56\n",
              "Name: int_rate, dtype: float64"
            ]
          },
          "metadata": {
            "tags": []
          },
          "execution_count": 27
        }
      ]
    },
    {
      "cell_type": "markdown",
      "metadata": {
        "id": "GIU_ki3iRygF",
        "colab_type": "text"
      },
      "source": [
        "### Clean `emp_title`\n",
        "\n",
        "Look at top 20 titles"
      ]
    },
    {
      "cell_type": "code",
      "metadata": {
        "id": "2-k39k35RygH",
        "colab_type": "code",
        "outputId": "f578eac9-b09b-410f-d27e-6ff80ccc2ba9",
        "colab": {
          "base_uri": "https://localhost:8080/",
          "height": 204
        }
      },
      "source": [
        "df['emp_title'].head(n=10)"
      ],
      "execution_count": 28,
      "outputs": [
        {
          "output_type": "execute_result",
          "data": {
            "text/plain": [
              "0               Administrative\n",
              "1                      teacher\n",
              "2                          NaN\n",
              "3                     Security\n",
              "4         Construction Manager\n",
              "5    Administrative Assistant \n",
              "6                          NaN\n",
              "7       Quality Field Engineer\n",
              "8                   Consultant\n",
              "9               Vice President\n",
              "Name: emp_title, dtype: object"
            ]
          },
          "metadata": {
            "tags": []
          },
          "execution_count": 28
        }
      ]
    },
    {
      "cell_type": "markdown",
      "metadata": {
        "id": "Ol6VJSOmRygK",
        "colab_type": "text"
      },
      "source": [
        "How often is `emp_title` null?"
      ]
    },
    {
      "cell_type": "code",
      "metadata": {
        "id": "KcHYz5DoRygL",
        "colab_type": "code",
        "outputId": "f8da3452-2e42-4ab0-f775-2c122e35f996",
        "colab": {
          "base_uri": "https://localhost:8080/",
          "height": 374
        }
      },
      "source": [
        "df.emp_title.value_counts(dropna=False).head(20)"
      ],
      "execution_count": 29,
      "outputs": [
        {
          "output_type": "execute_result",
          "data": {
            "text/plain": [
              "NaN                   20947\n",
              "Teacher                2090\n",
              "Manager                1773\n",
              "Registered Nurse        952\n",
              "Driver                  924\n",
              "RN                      726\n",
              "Supervisor              697\n",
              "Sales                   580\n",
              "Project Manager         526\n",
              "General Manager         523\n",
              "Office Manager          521\n",
              "Owner                   420\n",
              "Director                402\n",
              "Operations Manager      387\n",
              "Truck Driver            387\n",
              "Nurse                   326\n",
              "Engineer                325\n",
              "Sales Manager           304\n",
              "manager                 301\n",
              "Supervisor              270\n",
              "Name: emp_title, dtype: int64"
            ]
          },
          "metadata": {
            "tags": []
          },
          "execution_count": 29
        }
      ]
    },
    {
      "cell_type": "markdown",
      "metadata": {
        "id": "JRTcx7o0RygP",
        "colab_type": "text"
      },
      "source": [
        "Clean the title and handle missing values"
      ]
    },
    {
      "cell_type": "code",
      "metadata": {
        "id": "SzxR8e1QRygQ",
        "colab_type": "code",
        "outputId": "05a75542-19b0-49a1-f9f3-f120437c0a0a",
        "colab": {
          "base_uri": "https://localhost:8080/",
          "height": 34
        }
      },
      "source": [
        "df['emp_title'].isnull().sum()"
      ],
      "execution_count": 30,
      "outputs": [
        {
          "output_type": "execute_result",
          "data": {
            "text/plain": [
              "20947"
            ]
          },
          "metadata": {
            "tags": []
          },
          "execution_count": 30
        }
      ]
    },
    {
      "cell_type": "markdown",
      "metadata": {
        "id": "O5CLvjPsRygU",
        "colab_type": "text"
      },
      "source": [
        "### Create `emp_title_manager`\n",
        "\n",
        "pandas documentation: [`str.contains`](https://pandas.pydata.org/pandas-docs/stable/generated/pandas.Series.str.contains.html)"
      ]
    },
    {
      "cell_type": "code",
      "metadata": {
        "id": "GnCzZ_BTRygW",
        "colab_type": "code",
        "outputId": "500e041a-b9de-42f6-b0c3-795eabf6e88d",
        "colab": {
          "base_uri": "https://localhost:8080/",
          "height": 1000
        }
      },
      "source": [
        "df['emp_title'].str.lower()"
      ],
      "execution_count": 31,
      "outputs": [
        {
          "output_type": "execute_result",
          "data": {
            "text/plain": [
              "0                                administrative\n",
              "1                                       teacher\n",
              "2                                           NaN\n",
              "3                                      security\n",
              "4                          construction manager\n",
              "5                     administrative assistant \n",
              "6                                           NaN\n",
              "7                        quality field engineer\n",
              "8                                    consultant\n",
              "9                                vice president\n",
              "10                                          cna\n",
              "11                            financial advisor\n",
              "12                                        sever\n",
              "13                                   bus driver\n",
              "14                                   controller\n",
              "15                     manager, patient finance\n",
              "16                                      printer\n",
              "17                                      dealer \n",
              "18                              sr. cae analyst\n",
              "19                                 tire builder\n",
              "20                                  casino host\n",
              "21                                   pharmacist\n",
              "22                       transportation manager\n",
              "23                             business analyst\n",
              "24                                          NaN\n",
              "25                   program support assistant \n",
              "26                                      teller \n",
              "27                                  tech driver\n",
              "28                           compliance manager\n",
              "29                      plant logistics manager\n",
              "                          ...                  \n",
              "128382                     part sales associate\n",
              "128383                         slot floorperson\n",
              "128384                         sales specialist\n",
              "128385                            cnc machinist\n",
              "128386                           branch manager\n",
              "128387                                 engineer\n",
              "128388                        welder/blacksmith\n",
              "128389                  implementation manager \n",
              "128390    senior accountant, fixed assets acctg\n",
              "128391                            rn supervisor\n",
              "128392                 merchandise team captain\n",
              "128393                      corrections officer\n",
              "128394                                      NaN\n",
              "128395                  sr. application analyst\n",
              "128396      instructional technology specialist\n",
              "128397                    technical supvervisor\n",
              "128398        senior business account executive\n",
              "128399                                     tech\n",
              "128400                                      NaN\n",
              "128401                                      NaN\n",
              "128402               secondary opps/lead coater\n",
              "128403                   production supervisor \n",
              "128404                                    owner\n",
              "128405               oncology medical assistant\n",
              "128406                                      NaN\n",
              "128407                           tax consultant\n",
              "128408                           security guard\n",
              "128409                             payoff clerk\n",
              "128410                                      NaN\n",
              "128411                     key accounts manager\n",
              "Name: emp_title, Length: 128412, dtype: object"
            ]
          },
          "metadata": {
            "tags": []
          },
          "execution_count": 31
        }
      ]
    },
    {
      "cell_type": "code",
      "metadata": {
        "id": "eNU3ojf6e005",
        "colab_type": "code",
        "colab": {}
      },
      "source": [
        "import numpy as np"
      ],
      "execution_count": 0,
      "outputs": []
    },
    {
      "cell_type": "code",
      "metadata": {
        "id": "DIcLfAZtfAas",
        "colab_type": "code",
        "colab": {}
      },
      "source": [
        "def clean_title(title):\n",
        "    if isinstance(title, str):\n",
        "        return title.strip().lower()\n",
        "    else:\n",
        "        return 'unknown'"
      ],
      "execution_count": 0,
      "outputs": []
    },
    {
      "cell_type": "code",
      "metadata": {
        "id": "tzPkuU8pfZco",
        "colab_type": "code",
        "colab": {}
      },
      "source": [
        "df['emp_title'] = df['emp_title'].apply(clean_title)"
      ],
      "execution_count": 0,
      "outputs": []
    },
    {
      "cell_type": "code",
      "metadata": {
        "id": "pl-JTJklfvI1",
        "colab_type": "code",
        "outputId": "cc0af4f8-250d-4577-ac26-6b0f703b1271",
        "colab": {
          "base_uri": "https://localhost:8080/",
          "height": 374
        }
      },
      "source": [
        "df.emp_title.value_counts(dropna=False).head(20)"
      ],
      "execution_count": 35,
      "outputs": [
        {
          "output_type": "execute_result",
          "data": {
            "text/plain": [
              "unknown               20947\n",
              "teacher                2557\n",
              "manager                2395\n",
              "registered nurse       1418\n",
              "driver                 1258\n",
              "supervisor             1160\n",
              "truck driver            920\n",
              "rn                      834\n",
              "office manager          805\n",
              "sales                   803\n",
              "general manager         791\n",
              "project manager         720\n",
              "owner                   625\n",
              "director                523\n",
              "operations manager      518\n",
              "sales manager           500\n",
              "police officer          440\n",
              "nurse                   425\n",
              "technician              420\n",
              "engineer                412\n",
              "Name: emp_title, dtype: int64"
            ]
          },
          "metadata": {
            "tags": []
          },
          "execution_count": 35
        }
      ]
    },
    {
      "cell_type": "code",
      "metadata": {
        "id": "1BIRNGP8giSJ",
        "colab_type": "code",
        "colab": {}
      },
      "source": [
        "df['emp_title_manager']= df['emp_title'].str.contains('manager')"
      ],
      "execution_count": 0,
      "outputs": []
    },
    {
      "cell_type": "code",
      "metadata": {
        "id": "pfu2gP1qizd4",
        "colab_type": "code",
        "outputId": "28591406-98d9-442b-f7e0-819c6f5890cc",
        "colab": {
          "base_uri": "https://localhost:8080/",
          "height": 1000
        }
      },
      "source": [
        "df['emp_title_manager']\n"
      ],
      "execution_count": 38,
      "outputs": [
        {
          "output_type": "execute_result",
          "data": {
            "text/plain": [
              "0         False\n",
              "1         False\n",
              "2         False\n",
              "3         False\n",
              "4          True\n",
              "5         False\n",
              "6         False\n",
              "7         False\n",
              "8         False\n",
              "9         False\n",
              "10        False\n",
              "11        False\n",
              "12        False\n",
              "13        False\n",
              "14        False\n",
              "15         True\n",
              "16        False\n",
              "17        False\n",
              "18        False\n",
              "19        False\n",
              "20        False\n",
              "21        False\n",
              "22         True\n",
              "23        False\n",
              "24        False\n",
              "25        False\n",
              "26        False\n",
              "27        False\n",
              "28         True\n",
              "29         True\n",
              "          ...  \n",
              "128382    False\n",
              "128383    False\n",
              "128384    False\n",
              "128385    False\n",
              "128386     True\n",
              "128387    False\n",
              "128388    False\n",
              "128389     True\n",
              "128390    False\n",
              "128391    False\n",
              "128392    False\n",
              "128393    False\n",
              "128394    False\n",
              "128395    False\n",
              "128396    False\n",
              "128397    False\n",
              "128398    False\n",
              "128399    False\n",
              "128400    False\n",
              "128401    False\n",
              "128402    False\n",
              "128403    False\n",
              "128404    False\n",
              "128405    False\n",
              "128406    False\n",
              "128407    False\n",
              "128408    False\n",
              "128409    False\n",
              "128410    False\n",
              "128411     True\n",
              "Name: emp_title_manager, Length: 128412, dtype: bool"
            ]
          },
          "metadata": {
            "tags": []
          },
          "execution_count": 38
        }
      ]
    },
    {
      "cell_type": "markdown",
      "metadata": {
        "colab_type": "text",
        "id": "s8BcCY6so3by"
      },
      "source": [
        "## Work with dates"
      ]
    },
    {
      "cell_type": "markdown",
      "metadata": {
        "id": "kDMZhW9oRyga",
        "colab_type": "text"
      },
      "source": [
        "pandas documentation\n",
        "- [to_datetime](https://pandas.pydata.org/pandas-docs/stable/generated/pandas.to_datetime.html)\n",
        "- [Time/Date Components](https://pandas.pydata.org/pandas-docs/stable/timeseries.html#time-date-components) \"You can access these properties via the `.dt` accessor\""
      ]
    },
    {
      "cell_type": "code",
      "metadata": {
        "colab_type": "code",
        "id": "kNrKxOTeo4W3",
        "colab": {}
      },
      "source": [
        ""
      ],
      "execution_count": 0,
      "outputs": []
    },
    {
      "cell_type": "markdown",
      "metadata": {
        "id": "LUuWs0aiRygf",
        "colab_type": "text"
      },
      "source": [
        "# ASSIGNMENT\n",
        "\n",
        "- Replicate the lesson code.\n",
        "\n",
        "- Convert the `term` column from string to integer.\n",
        "\n",
        "- Make a column named `loan_status_is_great`. It should contain the integer 1 if `loan_status` is \"Current\" or \"Fully Paid.\" Else it should contain the integer 0.\n",
        "\n",
        "- Make `last_pymnt_d_month` and `last_pymnt_d_year` columns."
      ]
    },
    {
      "cell_type": "code",
      "metadata": {
        "id": "n2THpqaTilpH",
        "colab_type": "code",
        "outputId": "0dde6bbf-e64e-4fa5-c335-4112d0ab6be9",
        "colab": {
          "base_uri": "https://localhost:8080/",
          "height": 119
        }
      },
      "source": [
        "#Checking DataFrame to see if it contains information\n",
        "df.term.head()"
      ],
      "execution_count": 60,
      "outputs": [
        {
          "output_type": "execute_result",
          "data": {
            "text/plain": [
              "0     36 months\n",
              "1     60 months\n",
              "2     36 months\n",
              "3     36 months\n",
              "4     36 months\n",
              "Name: term, dtype: object"
            ]
          },
          "metadata": {
            "tags": []
          },
          "execution_count": 60
        }
      ]
    },
    {
      "cell_type": "code",
      "metadata": {
        "id": "Rz_3K0_kkBwA",
        "colab_type": "code",
        "colab": {}
      },
      "source": [
        "def strip_months(m_str):\n",
        "    \n",
        "    \"\"\"Returns an integer after stripping\n",
        "    the whitespace and months strings\"\"\"\n",
        "    \n",
        "    return int(m_str.strip(' months'))"
      ],
      "execution_count": 0,
      "outputs": []
    },
    {
      "cell_type": "code",
      "metadata": {
        "id": "addBRu2pnt-1",
        "colab_type": "code",
        "colab": {}
      },
      "source": [
        "# Using strip_months function on the term column and showing head of new column term int\n",
        "df['term int']= df.term.apply(strip_months)"
      ],
      "execution_count": 0,
      "outputs": []
    },
    {
      "cell_type": "code",
      "metadata": {
        "id": "YvuE1j4guWRm",
        "colab_type": "code",
        "outputId": "589d7734-9b91-4eef-a2bf-c9bea42e8639",
        "colab": {
          "base_uri": "https://localhost:8080/",
          "height": 153
        }
      },
      "source": [
        "#displaying the names of the columns in my df\n",
        "df.columns"
      ],
      "execution_count": 79,
      "outputs": [
        {
          "output_type": "execute_result",
          "data": {
            "text/plain": [
              "Index(['id', 'member_id', 'loan_amnt', 'funded_amnt', 'funded_amnt_inv',\n",
              "       'term', 'int_rate', 'installment', 'grade', 'sub_grade',\n",
              "       ...\n",
              "       'debt_settlement_flag', 'debt_settlement_flag_date',\n",
              "       'settlement_status', 'settlement_date', 'settlement_amount',\n",
              "       'settlement_percentage', 'settlement_term', 'emp_title_manager',\n",
              "       'loan_status_is_great', 'term int'],\n",
              "      dtype='object', length=147)"
            ]
          },
          "metadata": {
            "tags": []
          },
          "execution_count": 79
        }
      ]
    },
    {
      "cell_type": "code",
      "metadata": {
        "id": "NvthXFktu7yI",
        "colab_type": "code",
        "outputId": "4bbdf6ae-e3d3-476f-d63e-43cbe5435ce4",
        "colab": {
          "base_uri": "https://localhost:8080/",
          "height": 1000
        }
      },
      "source": [
        "#displaying the loan status column\n",
        "df['loan_status']"
      ],
      "execution_count": 80,
      "outputs": [
        {
          "output_type": "execute_result",
          "data": {
            "text/plain": [
              "0                    Current\n",
              "1                    Current\n",
              "2                    Current\n",
              "3                    Current\n",
              "4                    Current\n",
              "5                    Current\n",
              "6                    Current\n",
              "7                    Current\n",
              "8                    Current\n",
              "9                    Current\n",
              "10                Fully Paid\n",
              "11                Fully Paid\n",
              "12                   Current\n",
              "13                   Current\n",
              "14                   Current\n",
              "15                   Current\n",
              "16                   Current\n",
              "17                   Current\n",
              "18                   Current\n",
              "19                   Current\n",
              "20        Late (31-120 days)\n",
              "21                   Current\n",
              "22                   Current\n",
              "23                   Current\n",
              "24                   Current\n",
              "25                   Current\n",
              "26                   Current\n",
              "27                   Current\n",
              "28                   Current\n",
              "29                Fully Paid\n",
              "                 ...        \n",
              "128382               Current\n",
              "128383               Current\n",
              "128384               Current\n",
              "128385               Current\n",
              "128386               Current\n",
              "128387               Current\n",
              "128388               Current\n",
              "128389               Current\n",
              "128390               Current\n",
              "128391    Late (31-120 days)\n",
              "128392               Current\n",
              "128393               Current\n",
              "128394            Fully Paid\n",
              "128395               Current\n",
              "128396               Current\n",
              "128397               Current\n",
              "128398               Current\n",
              "128399               Current\n",
              "128400               Current\n",
              "128401               Current\n",
              "128402               Current\n",
              "128403               Current\n",
              "128404               Current\n",
              "128405            Fully Paid\n",
              "128406               Current\n",
              "128407           Charged Off\n",
              "128408               Current\n",
              "128409               Current\n",
              "128410               Current\n",
              "128411               Current\n",
              "Name: loan_status, Length: 128412, dtype: object"
            ]
          },
          "metadata": {
            "tags": []
          },
          "execution_count": 80
        }
      ]
    },
    {
      "cell_type": "code",
      "metadata": {
        "id": "lFD4SUlyve4T",
        "colab_type": "code",
        "colab": {}
      },
      "source": [
        "def loan_stat(stat):\n",
        "    \n",
        "    \"\"\" converts the object type values to 1s and 0s\"\"\"\n",
        "    \n",
        "    if stat == 'Current' or stat == 'Fully Paid':\n",
        "        return 1 \n",
        "    else:\n",
        "        return 0 \n",
        " "
      ],
      "execution_count": 0,
      "outputs": []
    },
    {
      "cell_type": "code",
      "metadata": {
        "id": "NberRobQt0tq",
        "colab_type": "code",
        "colab": {}
      },
      "source": [
        "#Made a column named loan_status_is_great.containing the integer 1 if loan_status is \"Current\" or \"Fully Paid.\"\n",
        "#Else it should contain the integer 0.\n",
        "\n",
        "df['loan_status_is_great'] = df['loan_status'].apply(loan_stat)"
      ],
      "execution_count": 0,
      "outputs": []
    },
    {
      "cell_type": "code",
      "metadata": {
        "id": "O33wwEDIx6g2",
        "colab_type": "code",
        "outputId": "52b63159-ed44-434d-9381-c465b890ed46",
        "colab": {
          "base_uri": "https://localhost:8080/",
          "height": 1000
        }
      },
      "source": [
        "#displaying the new column \n",
        "df['loan_status_is_great']"
      ],
      "execution_count": 83,
      "outputs": [
        {
          "output_type": "execute_result",
          "data": {
            "text/plain": [
              "0         1\n",
              "1         1\n",
              "2         1\n",
              "3         1\n",
              "4         1\n",
              "5         1\n",
              "6         1\n",
              "7         1\n",
              "8         1\n",
              "9         1\n",
              "10        1\n",
              "11        1\n",
              "12        1\n",
              "13        1\n",
              "14        1\n",
              "15        1\n",
              "16        1\n",
              "17        1\n",
              "18        1\n",
              "19        1\n",
              "20        0\n",
              "21        1\n",
              "22        1\n",
              "23        1\n",
              "24        1\n",
              "25        1\n",
              "26        1\n",
              "27        1\n",
              "28        1\n",
              "29        1\n",
              "         ..\n",
              "128382    1\n",
              "128383    1\n",
              "128384    1\n",
              "128385    1\n",
              "128386    1\n",
              "128387    1\n",
              "128388    1\n",
              "128389    1\n",
              "128390    1\n",
              "128391    0\n",
              "128392    1\n",
              "128393    1\n",
              "128394    1\n",
              "128395    1\n",
              "128396    1\n",
              "128397    1\n",
              "128398    1\n",
              "128399    1\n",
              "128400    1\n",
              "128401    1\n",
              "128402    1\n",
              "128403    1\n",
              "128404    1\n",
              "128405    1\n",
              "128406    1\n",
              "128407    0\n",
              "128408    1\n",
              "128409    1\n",
              "128410    1\n",
              "128411    1\n",
              "Name: loan_status_is_great, Length: 128412, dtype: int64"
            ]
          },
          "metadata": {
            "tags": []
          },
          "execution_count": 83
        }
      ]
    },
    {
      "cell_type": "code",
      "metadata": {
        "id": "g8y-Ij6iyEHM",
        "colab_type": "code",
        "outputId": "be6b31c8-d865-424f-ed4f-e33dff33edde",
        "colab": {
          "base_uri": "https://localhost:8080/",
          "height": 34
        }
      },
      "source": [
        "#checking a random value \n",
        "df['loan_status_is_great'][128407]"
      ],
      "execution_count": 84,
      "outputs": [
        {
          "output_type": "execute_result",
          "data": {
            "text/plain": [
              "0"
            ]
          },
          "metadata": {
            "tags": []
          },
          "execution_count": 84
        }
      ]
    },
    {
      "cell_type": "code",
      "metadata": {
        "id": "fim8rk8yz4ft",
        "colab_type": "code",
        "outputId": "d438a390-6a86-4351-890c-86dc0d523f43",
        "colab": {
          "base_uri": "https://localhost:8080/",
          "height": 34
        }
      },
      "source": [
        "#checking the data type of loan status column\n",
        "df['loan_status'].dtype"
      ],
      "execution_count": 85,
      "outputs": [
        {
          "output_type": "execute_result",
          "data": {
            "text/plain": [
              "dtype('O')"
            ]
          },
          "metadata": {
            "tags": []
          },
          "execution_count": 85
        }
      ]
    },
    {
      "cell_type": "code",
      "metadata": {
        "id": "RlkeBbOjR6jh",
        "colab_type": "code",
        "outputId": "44aacab1-40f6-4265-872b-21fc83d95f1e",
        "colab": {
          "base_uri": "https://localhost:8080/",
          "height": 153
        }
      },
      "source": [
        "#displaying colmuns in df\n",
        "df.columns\n"
      ],
      "execution_count": 86,
      "outputs": [
        {
          "output_type": "execute_result",
          "data": {
            "text/plain": [
              "Index(['id', 'member_id', 'loan_amnt', 'funded_amnt', 'funded_amnt_inv',\n",
              "       'term', 'int_rate', 'installment', 'grade', 'sub_grade',\n",
              "       ...\n",
              "       'debt_settlement_flag', 'debt_settlement_flag_date',\n",
              "       'settlement_status', 'settlement_date', 'settlement_amount',\n",
              "       'settlement_percentage', 'settlement_term', 'emp_title_manager',\n",
              "       'loan_status_is_great', 'term int'],\n",
              "      dtype='object', length=147)"
            ]
          },
          "metadata": {
            "tags": []
          },
          "execution_count": 86
        }
      ]
    },
    {
      "cell_type": "markdown",
      "metadata": {
        "id": "jyjVdGQbKYJ2",
        "colab_type": "text"
      },
      "source": [
        "Make last_pymnt_d_month and last_pymnt_d_year columns."
      ]
    },
    {
      "cell_type": "code",
      "metadata": {
        "id": "Fqu3OPA_SoU-",
        "colab_type": "code",
        "colab": {}
      },
      "source": [
        "#displaying issue date column\n",
        "df['issue_d'] = pd.to_datetime(df['issue_d'])"
      ],
      "execution_count": 0,
      "outputs": []
    },
    {
      "cell_type": "code",
      "metadata": {
        "id": "CUqmd1IBKX25",
        "colab_type": "code",
        "colab": {
          "base_uri": "https://localhost:8080/",
          "height": 119
        },
        "outputId": "5cd52941-92f1-46a6-db6d-7e511a4c7df9"
      },
      "source": [
        "df['issue_d'].head()"
      ],
      "execution_count": 100,
      "outputs": [
        {
          "output_type": "execute_result",
          "data": {
            "text/plain": [
              "0   2018-12-01\n",
              "1   2018-12-01\n",
              "2   2018-12-01\n",
              "3   2018-12-01\n",
              "4   2018-12-01\n",
              "Name: issue_d, dtype: datetime64[ns]"
            ]
          },
          "metadata": {
            "tags": []
          },
          "execution_count": 100
        }
      ]
    },
    {
      "cell_type": "code",
      "metadata": {
        "id": "5V-7hg8qVFlp",
        "colab_type": "code",
        "colab": {}
      },
      "source": [
        "df['term in years'] = df['term int']//12"
      ],
      "execution_count": 0,
      "outputs": []
    },
    {
      "cell_type": "code",
      "metadata": {
        "id": "m3ylEj-IM-dR",
        "colab_type": "code",
        "colab": {}
      },
      "source": [
        "df['term in years'] = pd.to_datetime(df['term in years'])"
      ],
      "execution_count": 0,
      "outputs": []
    },
    {
      "cell_type": "code",
      "metadata": {
        "id": "SUaFMNAiLOa2",
        "colab_type": "code",
        "colab": {
          "base_uri": "https://localhost:8080/",
          "height": 307
        },
        "outputId": "c35dbc56-284d-415f-e592-e1a18173deae"
      },
      "source": [
        "df['last_payment_d_year']= pd.to_datetime( df['term in years']) + df['issue_d']"
      ],
      "execution_count": 105,
      "outputs": [
        {
          "output_type": "error",
          "ename": "TypeError",
          "evalue": "ignored",
          "traceback": [
            "\u001b[0;31m---------------------------------------------------------------------------\u001b[0m",
            "\u001b[0;31mTypeError\u001b[0m                                 Traceback (most recent call last)",
            "\u001b[0;32m<ipython-input-105-837446b63646>\u001b[0m in \u001b[0;36m<module>\u001b[0;34m()\u001b[0m\n\u001b[0;32m----> 1\u001b[0;31m \u001b[0mdf\u001b[0m\u001b[0;34m[\u001b[0m\u001b[0;34m'last_payment_d_year'\u001b[0m\u001b[0;34m]\u001b[0m\u001b[0;34m=\u001b[0m \u001b[0mpd\u001b[0m\u001b[0;34m.\u001b[0m\u001b[0mto_datetime\u001b[0m\u001b[0;34m(\u001b[0m \u001b[0mdf\u001b[0m\u001b[0;34m[\u001b[0m\u001b[0;34m'term in years'\u001b[0m\u001b[0;34m]\u001b[0m\u001b[0;34m)\u001b[0m \u001b[0;34m+\u001b[0m \u001b[0mdf\u001b[0m\u001b[0;34m[\u001b[0m\u001b[0;34m'issue_d'\u001b[0m\u001b[0;34m]\u001b[0m\u001b[0;34m\u001b[0m\u001b[0;34m\u001b[0m\u001b[0m\n\u001b[0m",
            "\u001b[0;32m/usr/local/lib/python3.6/dist-packages/pandas/core/ops.py\u001b[0m in \u001b[0;36mwrapper\u001b[0;34m(left, right)\u001b[0m\n\u001b[1;32m   1550\u001b[0m             \u001b[0;31m# test_dt64_series_add_intlike, which the index dispatching handles\u001b[0m\u001b[0;34m\u001b[0m\u001b[0;34m\u001b[0m\u001b[0;34m\u001b[0m\u001b[0m\n\u001b[1;32m   1551\u001b[0m             \u001b[0;31m# specifically.\u001b[0m\u001b[0;34m\u001b[0m\u001b[0;34m\u001b[0m\u001b[0;34m\u001b[0m\u001b[0m\n\u001b[0;32m-> 1552\u001b[0;31m             \u001b[0mresult\u001b[0m \u001b[0;34m=\u001b[0m \u001b[0mdispatch_to_index_op\u001b[0m\u001b[0;34m(\u001b[0m\u001b[0mop\u001b[0m\u001b[0;34m,\u001b[0m \u001b[0mleft\u001b[0m\u001b[0;34m,\u001b[0m \u001b[0mright\u001b[0m\u001b[0;34m,\u001b[0m \u001b[0mpd\u001b[0m\u001b[0;34m.\u001b[0m\u001b[0mDatetimeIndex\u001b[0m\u001b[0;34m)\u001b[0m\u001b[0;34m\u001b[0m\u001b[0;34m\u001b[0m\u001b[0m\n\u001b[0m\u001b[1;32m   1553\u001b[0m             return construct_result(left, result,\n\u001b[1;32m   1554\u001b[0m                                     \u001b[0mindex\u001b[0m\u001b[0;34m=\u001b[0m\u001b[0mleft\u001b[0m\u001b[0;34m.\u001b[0m\u001b[0mindex\u001b[0m\u001b[0;34m,\u001b[0m \u001b[0mname\u001b[0m\u001b[0;34m=\u001b[0m\u001b[0mres_name\u001b[0m\u001b[0;34m,\u001b[0m\u001b[0;34m\u001b[0m\u001b[0;34m\u001b[0m\u001b[0m\n",
            "\u001b[0;32m/usr/local/lib/python3.6/dist-packages/pandas/core/ops.py\u001b[0m in \u001b[0;36mdispatch_to_index_op\u001b[0;34m(op, left, right, index_class)\u001b[0m\n\u001b[1;32m   1189\u001b[0m         \u001b[0mleft_idx\u001b[0m \u001b[0;34m=\u001b[0m \u001b[0mleft_idx\u001b[0m\u001b[0;34m.\u001b[0m\u001b[0m_shallow_copy\u001b[0m\u001b[0;34m(\u001b[0m\u001b[0mfreq\u001b[0m\u001b[0;34m=\u001b[0m\u001b[0;32mNone\u001b[0m\u001b[0;34m)\u001b[0m\u001b[0;34m\u001b[0m\u001b[0;34m\u001b[0m\u001b[0m\n\u001b[1;32m   1190\u001b[0m     \u001b[0;32mtry\u001b[0m\u001b[0;34m:\u001b[0m\u001b[0;34m\u001b[0m\u001b[0;34m\u001b[0m\u001b[0m\n\u001b[0;32m-> 1191\u001b[0;31m         \u001b[0mresult\u001b[0m \u001b[0;34m=\u001b[0m \u001b[0mop\u001b[0m\u001b[0;34m(\u001b[0m\u001b[0mleft_idx\u001b[0m\u001b[0;34m,\u001b[0m \u001b[0mright\u001b[0m\u001b[0;34m)\u001b[0m\u001b[0;34m\u001b[0m\u001b[0;34m\u001b[0m\u001b[0m\n\u001b[0m\u001b[1;32m   1192\u001b[0m     \u001b[0;32mexcept\u001b[0m \u001b[0mNullFrequencyError\u001b[0m\u001b[0;34m:\u001b[0m\u001b[0;34m\u001b[0m\u001b[0;34m\u001b[0m\u001b[0m\n\u001b[1;32m   1193\u001b[0m         \u001b[0;31m# DatetimeIndex and TimedeltaIndex with freq == None raise ValueError\u001b[0m\u001b[0;34m\u001b[0m\u001b[0;34m\u001b[0m\u001b[0;34m\u001b[0m\u001b[0m\n",
            "\u001b[0;32m/usr/local/lib/python3.6/dist-packages/pandas/core/ops.py\u001b[0m in \u001b[0;36mwrapper\u001b[0;34m(left, right)\u001b[0m\n\u001b[1;32m   1550\u001b[0m             \u001b[0;31m# test_dt64_series_add_intlike, which the index dispatching handles\u001b[0m\u001b[0;34m\u001b[0m\u001b[0;34m\u001b[0m\u001b[0;34m\u001b[0m\u001b[0m\n\u001b[1;32m   1551\u001b[0m             \u001b[0;31m# specifically.\u001b[0m\u001b[0;34m\u001b[0m\u001b[0;34m\u001b[0m\u001b[0;34m\u001b[0m\u001b[0m\n\u001b[0;32m-> 1552\u001b[0;31m             \u001b[0mresult\u001b[0m \u001b[0;34m=\u001b[0m \u001b[0mdispatch_to_index_op\u001b[0m\u001b[0;34m(\u001b[0m\u001b[0mop\u001b[0m\u001b[0;34m,\u001b[0m \u001b[0mleft\u001b[0m\u001b[0;34m,\u001b[0m \u001b[0mright\u001b[0m\u001b[0;34m,\u001b[0m \u001b[0mpd\u001b[0m\u001b[0;34m.\u001b[0m\u001b[0mDatetimeIndex\u001b[0m\u001b[0;34m)\u001b[0m\u001b[0;34m\u001b[0m\u001b[0;34m\u001b[0m\u001b[0m\n\u001b[0m\u001b[1;32m   1553\u001b[0m             return construct_result(left, result,\n\u001b[1;32m   1554\u001b[0m                                     \u001b[0mindex\u001b[0m\u001b[0;34m=\u001b[0m\u001b[0mleft\u001b[0m\u001b[0;34m.\u001b[0m\u001b[0mindex\u001b[0m\u001b[0;34m,\u001b[0m \u001b[0mname\u001b[0m\u001b[0;34m=\u001b[0m\u001b[0mres_name\u001b[0m\u001b[0;34m,\u001b[0m\u001b[0;34m\u001b[0m\u001b[0;34m\u001b[0m\u001b[0m\n",
            "\u001b[0;32m/usr/local/lib/python3.6/dist-packages/pandas/core/ops.py\u001b[0m in \u001b[0;36mdispatch_to_index_op\u001b[0;34m(op, left, right, index_class)\u001b[0m\n\u001b[1;32m   1189\u001b[0m         \u001b[0mleft_idx\u001b[0m \u001b[0;34m=\u001b[0m \u001b[0mleft_idx\u001b[0m\u001b[0;34m.\u001b[0m\u001b[0m_shallow_copy\u001b[0m\u001b[0;34m(\u001b[0m\u001b[0mfreq\u001b[0m\u001b[0;34m=\u001b[0m\u001b[0;32mNone\u001b[0m\u001b[0;34m)\u001b[0m\u001b[0;34m\u001b[0m\u001b[0;34m\u001b[0m\u001b[0m\n\u001b[1;32m   1190\u001b[0m     \u001b[0;32mtry\u001b[0m\u001b[0;34m:\u001b[0m\u001b[0;34m\u001b[0m\u001b[0;34m\u001b[0m\u001b[0m\n\u001b[0;32m-> 1191\u001b[0;31m         \u001b[0mresult\u001b[0m \u001b[0;34m=\u001b[0m \u001b[0mop\u001b[0m\u001b[0;34m(\u001b[0m\u001b[0mleft_idx\u001b[0m\u001b[0;34m,\u001b[0m \u001b[0mright\u001b[0m\u001b[0;34m)\u001b[0m\u001b[0;34m\u001b[0m\u001b[0;34m\u001b[0m\u001b[0m\n\u001b[0m\u001b[1;32m   1192\u001b[0m     \u001b[0;32mexcept\u001b[0m \u001b[0mNullFrequencyError\u001b[0m\u001b[0;34m:\u001b[0m\u001b[0;34m\u001b[0m\u001b[0;34m\u001b[0m\u001b[0m\n\u001b[1;32m   1193\u001b[0m         \u001b[0;31m# DatetimeIndex and TimedeltaIndex with freq == None raise ValueError\u001b[0m\u001b[0;34m\u001b[0m\u001b[0;34m\u001b[0m\u001b[0;34m\u001b[0m\u001b[0m\n",
            "\u001b[0;32m/usr/local/lib/python3.6/dist-packages/pandas/core/ops.py\u001b[0m in \u001b[0;36mradd\u001b[0;34m(left, right)\u001b[0m\n\u001b[1;32m    142\u001b[0m \u001b[0;34m\u001b[0m\u001b[0m\n\u001b[1;32m    143\u001b[0m \u001b[0;32mdef\u001b[0m \u001b[0mradd\u001b[0m\u001b[0;34m(\u001b[0m\u001b[0mleft\u001b[0m\u001b[0;34m,\u001b[0m \u001b[0mright\u001b[0m\u001b[0;34m)\u001b[0m\u001b[0;34m:\u001b[0m\u001b[0;34m\u001b[0m\u001b[0;34m\u001b[0m\u001b[0m\n\u001b[0;32m--> 144\u001b[0;31m     \u001b[0;32mreturn\u001b[0m \u001b[0mright\u001b[0m \u001b[0;34m+\u001b[0m \u001b[0mleft\u001b[0m\u001b[0;34m\u001b[0m\u001b[0;34m\u001b[0m\u001b[0m\n\u001b[0m\u001b[1;32m    145\u001b[0m \u001b[0;34m\u001b[0m\u001b[0m\n\u001b[1;32m    146\u001b[0m \u001b[0;34m\u001b[0m\u001b[0m\n",
            "\u001b[0;32m/usr/local/lib/python3.6/dist-packages/pandas/core/indexes/datetimelike.py\u001b[0m in \u001b[0;36m__add__\u001b[0;34m(self, other)\u001b[0m\n\u001b[1;32m    487\u001b[0m         \u001b[0;32mdef\u001b[0m \u001b[0m__add__\u001b[0m\u001b[0;34m(\u001b[0m\u001b[0mself\u001b[0m\u001b[0;34m,\u001b[0m \u001b[0mother\u001b[0m\u001b[0;34m)\u001b[0m\u001b[0;34m:\u001b[0m\u001b[0;34m\u001b[0m\u001b[0;34m\u001b[0m\u001b[0m\n\u001b[1;32m    488\u001b[0m             \u001b[0;31m# dispatch to ExtensionArray implementation\u001b[0m\u001b[0;34m\u001b[0m\u001b[0;34m\u001b[0m\u001b[0;34m\u001b[0m\u001b[0m\n\u001b[0;32m--> 489\u001b[0;31m             \u001b[0mresult\u001b[0m \u001b[0;34m=\u001b[0m \u001b[0mself\u001b[0m\u001b[0;34m.\u001b[0m\u001b[0m_data\u001b[0m\u001b[0;34m.\u001b[0m\u001b[0m__add__\u001b[0m\u001b[0;34m(\u001b[0m\u001b[0mmaybe_unwrap_index\u001b[0m\u001b[0;34m(\u001b[0m\u001b[0mother\u001b[0m\u001b[0;34m)\u001b[0m\u001b[0;34m)\u001b[0m\u001b[0;34m\u001b[0m\u001b[0;34m\u001b[0m\u001b[0m\n\u001b[0m\u001b[1;32m    490\u001b[0m             \u001b[0;32mreturn\u001b[0m \u001b[0mwrap_arithmetic_op\u001b[0m\u001b[0;34m(\u001b[0m\u001b[0mself\u001b[0m\u001b[0;34m,\u001b[0m \u001b[0mother\u001b[0m\u001b[0;34m,\u001b[0m \u001b[0mresult\u001b[0m\u001b[0;34m)\u001b[0m\u001b[0;34m\u001b[0m\u001b[0;34m\u001b[0m\u001b[0m\n\u001b[1;32m    491\u001b[0m \u001b[0;34m\u001b[0m\u001b[0m\n",
            "\u001b[0;32m/usr/local/lib/python3.6/dist-packages/pandas/core/arrays/datetimelike.py\u001b[0m in \u001b[0;36m__add__\u001b[0;34m(self, other)\u001b[0m\n\u001b[1;32m   1207\u001b[0m         \u001b[0;32melif\u001b[0m \u001b[0mis_datetime64_dtype\u001b[0m\u001b[0;34m(\u001b[0m\u001b[0mother\u001b[0m\u001b[0;34m)\u001b[0m \u001b[0;32mor\u001b[0m \u001b[0mis_datetime64tz_dtype\u001b[0m\u001b[0;34m(\u001b[0m\u001b[0mother\u001b[0m\u001b[0;34m)\u001b[0m\u001b[0;34m:\u001b[0m\u001b[0;34m\u001b[0m\u001b[0;34m\u001b[0m\u001b[0m\n\u001b[1;32m   1208\u001b[0m             \u001b[0;31m# DatetimeIndex, ndarray[datetime64]\u001b[0m\u001b[0;34m\u001b[0m\u001b[0;34m\u001b[0m\u001b[0;34m\u001b[0m\u001b[0m\n\u001b[0;32m-> 1209\u001b[0;31m             \u001b[0;32mreturn\u001b[0m \u001b[0mself\u001b[0m\u001b[0;34m.\u001b[0m\u001b[0m_add_datetime_arraylike\u001b[0m\u001b[0;34m(\u001b[0m\u001b[0mother\u001b[0m\u001b[0;34m)\u001b[0m\u001b[0;34m\u001b[0m\u001b[0;34m\u001b[0m\u001b[0m\n\u001b[0m\u001b[1;32m   1210\u001b[0m         \u001b[0;32melif\u001b[0m \u001b[0mis_integer_dtype\u001b[0m\u001b[0;34m(\u001b[0m\u001b[0mother\u001b[0m\u001b[0;34m)\u001b[0m\u001b[0;34m:\u001b[0m\u001b[0;34m\u001b[0m\u001b[0;34m\u001b[0m\u001b[0m\n\u001b[1;32m   1211\u001b[0m             \u001b[0;32mif\u001b[0m \u001b[0;32mnot\u001b[0m \u001b[0mis_period_dtype\u001b[0m\u001b[0;34m(\u001b[0m\u001b[0mself\u001b[0m\u001b[0;34m)\u001b[0m\u001b[0;34m:\u001b[0m\u001b[0;34m\u001b[0m\u001b[0;34m\u001b[0m\u001b[0m\n",
            "\u001b[0;32m/usr/local/lib/python3.6/dist-packages/pandas/core/arrays/datetimelike.py\u001b[0m in \u001b[0;36m_add_datetimelike_scalar\u001b[0;34m(self, other)\u001b[0m\n\u001b[1;32m    919\u001b[0m         raise TypeError(\"cannot add {cls} and {typ}\"\n\u001b[1;32m    920\u001b[0m                         .format(cls=type(self).__name__,\n\u001b[0;32m--> 921\u001b[0;31m                                 typ=type(other).__name__))\n\u001b[0m\u001b[1;32m    922\u001b[0m \u001b[0;34m\u001b[0m\u001b[0m\n\u001b[1;32m    923\u001b[0m     \u001b[0m_add_datetime_arraylike\u001b[0m \u001b[0;34m=\u001b[0m \u001b[0m_add_datetimelike_scalar\u001b[0m\u001b[0;34m\u001b[0m\u001b[0;34m\u001b[0m\u001b[0m\n",
            "\u001b[0;31mTypeError\u001b[0m: cannot add DatetimeArray and DatetimeArray"
          ]
        }
      ]
    },
    {
      "cell_type": "code",
      "metadata": {
        "id": "eibjGk4bLOVn",
        "colab_type": "code",
        "colab": {}
      },
      "source": [
        "df['las']"
      ],
      "execution_count": 0,
      "outputs": []
    },
    {
      "cell_type": "markdown",
      "metadata": {
        "colab_type": "text",
        "id": "L8k0LiHmo5EU"
      },
      "source": [
        "# STRETCH OPTIONS\n",
        "\n",
        "You can do more with the LendingClub or Instacart datasets.\n",
        "\n",
        "LendingClub options:\n",
        "- There's one other column in the dataframe with percent signs. Remove them and convert to floats. You'll need to handle missing values.\n",
        "- Modify the `emp_title` column to replace titles with 'Other' if the title is not in the top 20. \n",
        "- Take initiatve and work on your own ideas!\n",
        "\n",
        "Instacart options:\n",
        "- Read [Instacart Market Basket Analysis, Winner's Interview: 2nd place, Kazuki Onodera](http://blog.kaggle.com/2017/09/21/instacart-market-basket-analysis-winners-interview-2nd-place-kazuki-onodera/), especially the **Feature Engineering** section. (Can you choose one feature from his bulleted lists, and try to engineer it with pandas code?)\n",
        "- Read and replicate parts of [Simple Exploration Notebook - Instacart](https://www.kaggle.com/sudalairajkumar/simple-exploration-notebook-instacart). (It's the Python Notebook with the most upvotes for this Kaggle competition.)\n",
        "- Take initiative and work on your own ideas!"
      ]
    },
    {
      "cell_type": "markdown",
      "metadata": {
        "colab_type": "text",
        "id": "0_7PXF7lpEXg"
      },
      "source": [
        "You can uncomment and run the cells below to re-download and extract the Instacart data"
      ]
    },
    {
      "cell_type": "code",
      "metadata": {
        "id": "VGNDUht7RyhA",
        "colab_type": "code",
        "colab": {}
      },
      "source": [
        "# !wget https://s3.amazonaws.com/instacart-datasets/instacart_online_grocery_shopping_2017_05_01.tar.gz"
      ],
      "execution_count": 0,
      "outputs": []
    },
    {
      "cell_type": "code",
      "metadata": {
        "id": "07_hGg2cRyhD",
        "colab_type": "code",
        "colab": {}
      },
      "source": [
        "# !tar --gunzip --extract --verbose --file=instacart_online_grocery_shopping_2017_05_01.tar.gz"
      ],
      "execution_count": 0,
      "outputs": []
    },
    {
      "cell_type": "code",
      "metadata": {
        "id": "c-Br1TSPRyhG",
        "colab_type": "code",
        "colab": {}
      },
      "source": [
        "# %cd instacart_2017_05_01"
      ],
      "execution_count": 0,
      "outputs": []
    }
  ]
}