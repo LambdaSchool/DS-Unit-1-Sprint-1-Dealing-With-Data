{
  "nbformat": 4,
  "nbformat_minor": 0,
  "metadata": {
    "colab": {
      "name": "LS_DS_114_Make_Features_Assignment.ipynb",
      "version": "0.3.2",
      "provenance": [],
      "collapsed_sections": [
        "77_PYSim67xf",
        "VVCfaR0V7EWW",
        "JhnozEm49bP-",
        "L8k0LiHmo5EU"
      ],
      "include_colab_link": true
    },
    "kernelspec": {
      "display_name": "Python 3",
      "language": "python",
      "name": "python3"
    },
    "language_info": {
      "codemirror_mode": {
        "name": "ipython",
        "version": 3
      },
      "file_extension": ".py",
      "mimetype": "text/x-python",
      "name": "python",
      "nbconvert_exporter": "python",
      "pygments_lexer": "ipython3",
      "version": "3.7.1"
    }
  },
  "cells": [
    {
      "cell_type": "markdown",
      "metadata": {
        "id": "view-in-github",
        "colab_type": "text"
      },
      "source": [
        "<a href=\"https://colab.research.google.com/github/Pdugovich/DS-Unit-1-Sprint-1-Dealing-With-Data/blob/master/module4-makefeatures/LS_DS_114_Make_Features_Assignment.ipynb\" target=\"_parent\"><img src=\"https://colab.research.google.com/assets/colab-badge.svg\" alt=\"Open In Colab\"/></a>"
      ]
    },
    {
      "cell_type": "markdown",
      "metadata": {
        "id": "SnDJqBLi0FYW",
        "colab_type": "text"
      },
      "source": [
        "<img align=\"left\" src=\"https://lever-client-logos.s3.amazonaws.com/864372b1-534c-480e-acd5-9711f850815c-1524247202159.png\" width=200> "
      ]
    },
    {
      "cell_type": "markdown",
      "metadata": {
        "id": "W5GjI1z5yNG4",
        "colab_type": "text"
      },
      "source": [
        "# ASSIGNMENT\n",
        "\n",
        "- Replicate the lesson code.\n",
        "\n",
        " - This means that if you haven't followed along already, type out the things that we did in class. Forcing your fingers to hit each key will help you internalize the syntax of what we're doing.\n",
        " - [Lambda Learning Method for DS - By Ryan Herr](https://docs.google.com/document/d/1ubOw9B3Hfip27hF2ZFnW3a3z9xAgrUDRReOEo-FHCVs/edit?usp=sharing)\n",
        "- Convert the `term` column from string to integer.\n",
        "- Make a column named `loan_status_is_great`. It should contain the integer 1 if `loan_status` is \"Current\" or \"Fully Paid.\" Else it should contain the integer 0.\n",
        "\n",
        "- Make `last_pymnt_d_month` and `last_pymnt_d_year` columns."
      ]
    },
    {
      "cell_type": "markdown",
      "metadata": {
        "id": "77_PYSim67xf",
        "colab_type": "text"
      },
      "source": [
        "##Converting 'term' column from string to integer"
      ]
    },
    {
      "cell_type": "code",
      "metadata": {
        "id": "b7oyq_o1DQqC",
        "colab_type": "code",
        "colab": {}
      },
      "source": [
        "#Getting expected imports out of the way\n",
        "import pandas as pd\n",
        "#didn't end up needing these two\n",
        "# import numpy as np\n",
        "# import matplotlib.pyplot as plt"
      ],
      "execution_count": 0,
      "outputs": []
    },
    {
      "cell_type": "code",
      "metadata": {
        "id": "AazB4eFwym2p",
        "colab_type": "code",
        "colab": {}
      },
      "source": [
        "#pulling the zip file from website\n",
        "!wget https://resources.lendingclub.com/LoanStats_2018Q4.csv.zip"
      ],
      "execution_count": 0,
      "outputs": []
    },
    {
      "cell_type": "code",
      "metadata": {
        "id": "RpiiX03EDuZm",
        "colab_type": "code",
        "colab": {
          "base_uri": "https://localhost:8080/",
          "height": 51
        },
        "outputId": "1253a609-4fd7-44a0-8610-cd92814615ef"
      },
      "source": [
        "#unzipping file to get csv\n",
        "!unzip LoanStats_2018Q4.csv.zip"
      ],
      "execution_count": 8,
      "outputs": [
        {
          "output_type": "stream",
          "text": [
            "Archive:  LoanStats_2018Q4.csv.zip\n",
            "  inflating: LoanStats_2018Q4.csv    \n"
          ],
          "name": "stdout"
        }
      ]
    },
    {
      "cell_type": "code",
      "metadata": {
        "id": "21tlg88hDPy3",
        "colab_type": "code",
        "colab": {
          "base_uri": "https://localhost:8080/",
          "height": 51
        },
        "outputId": "fbc21441-78b6-42bb-bc4c-c4da82ffa86c"
      },
      "source": [
        "#Getting a parserwarning for using skipfooter, but it seems to be working\n",
        "df = pd.read_csv('LoanStats_2018Q4.csv',header=1,skipfooter=2)\n",
        "#Checked header and footer, and it seems good"
      ],
      "execution_count": 9,
      "outputs": [
        {
          "output_type": "stream",
          "text": [
            "/usr/local/lib/python3.6/dist-packages/ipykernel_launcher.py:1: ParserWarning: Falling back to the 'python' engine because the 'c' engine does not support skipfooter; you can avoid this warning by specifying engine='python'.\n",
            "  \"\"\"Entry point for launching an IPython kernel.\n"
          ],
          "name": "stderr"
        }
      ]
    },
    {
      "cell_type": "code",
      "metadata": {
        "id": "4JnHFcG1EShQ",
        "colab_type": "code",
        "colab": {
          "base_uri": "https://localhost:8080/",
          "height": 68
        },
        "outputId": "346e21ed-2127-4e22-b2d8-1c32f1d9bbca"
      },
      "source": [
        "#I see there are only two unique values and no null values. Great!\n",
        "df['term'].value_counts(dropna=False)"
      ],
      "execution_count": 18,
      "outputs": [
        {
          "output_type": "execute_result",
          "data": {
            "text/plain": [
              " 36 months    88179\n",
              " 60 months    40233\n",
              "Name: term, dtype: int64"
            ]
          },
          "metadata": {
            "tags": []
          },
          "execution_count": 18
        }
      ]
    },
    {
      "cell_type": "code",
      "metadata": {
        "id": "y3W6u5Lk4Mdx",
        "colab_type": "code",
        "colab": {
          "base_uri": "https://localhost:8080/",
          "height": 34
        },
        "outputId": "7b275ce0-6d47-4f54-e54e-73a14b695e43"
      },
      "source": [
        "#making an example list to make sure my .strip() and casting to int code works\n",
        "examples = ['36 months','36 months','60 months']\n",
        "#made sure to include leading white space in ' months'\n",
        "cleaned_examples = [int(item.strip(' months')) for item in examples]\n",
        "print(cleaned_examples)\n",
        "#list comprhension worked as expected on example data"
      ],
      "execution_count": 26,
      "outputs": [
        {
          "output_type": "stream",
          "text": [
            "[36, 36, 60]\n"
          ],
          "name": "stdout"
        }
      ]
    },
    {
      "cell_type": "code",
      "metadata": {
        "id": "lQtIuNgSGbNp",
        "colab_type": "code",
        "colab": {}
      },
      "source": [
        "#creating a function to use with .apply()\n",
        "def remove_months_to_int(item):\n",
        "  return int(item.strip(' months'))"
      ],
      "execution_count": 0,
      "outputs": []
    },
    {
      "cell_type": "code",
      "metadata": {
        "id": "gkctxquaFtOH",
        "colab_type": "code",
        "colab": {}
      },
      "source": [
        "#replacing the term column with the cleaned version\n",
        "df['term'] = df['term'].apply(remove_months_to_int)"
      ],
      "execution_count": 0,
      "outputs": []
    },
    {
      "cell_type": "code",
      "metadata": {
        "id": "yqNftzcF6SOn",
        "colab_type": "code",
        "colab": {}
      },
      "source": [
        "#Checking to make sure it looks like I expect\n",
        "df['term']"
      ],
      "execution_count": 0,
      "outputs": []
    },
    {
      "cell_type": "markdown",
      "metadata": {
        "id": "VVCfaR0V7EWW",
        "colab_type": "text"
      },
      "source": [
        "##Creating 'loan_status_is_great' column"
      ]
    },
    {
      "cell_type": "code",
      "metadata": {
        "id": "aqNZTZoo7TSs",
        "colab_type": "code",
        "colab": {
          "base_uri": "https://localhost:8080/",
          "height": 244
        },
        "outputId": "1977429e-8c26-49f4-94de-55c9d264ef12"
      },
      "source": [
        "df.head()\n",
        "df.describe(exclude='number')"
      ],
      "execution_count": 39,
      "outputs": [
        {
          "output_type": "execute_result",
          "data": {
            "text/html": [
              "<div>\n",
              "<style scoped>\n",
              "    .dataframe tbody tr th:only-of-type {\n",
              "        vertical-align: middle;\n",
              "    }\n",
              "\n",
              "    .dataframe tbody tr th {\n",
              "        vertical-align: top;\n",
              "    }\n",
              "\n",
              "    .dataframe thead th {\n",
              "        text-align: right;\n",
              "    }\n",
              "</style>\n",
              "<table border=\"1\" class=\"dataframe\">\n",
              "  <thead>\n",
              "    <tr style=\"text-align: right;\">\n",
              "      <th></th>\n",
              "      <th>int_rate</th>\n",
              "      <th>grade</th>\n",
              "      <th>sub_grade</th>\n",
              "      <th>emp_title</th>\n",
              "      <th>emp_length</th>\n",
              "      <th>home_ownership</th>\n",
              "      <th>verification_status</th>\n",
              "      <th>issue_d</th>\n",
              "      <th>loan_status</th>\n",
              "      <th>pymnt_plan</th>\n",
              "      <th>purpose</th>\n",
              "      <th>title</th>\n",
              "      <th>zip_code</th>\n",
              "      <th>addr_state</th>\n",
              "      <th>earliest_cr_line</th>\n",
              "      <th>revol_util</th>\n",
              "      <th>initial_list_status</th>\n",
              "      <th>last_pymnt_d</th>\n",
              "      <th>next_pymnt_d</th>\n",
              "      <th>last_credit_pull_d</th>\n",
              "      <th>application_type</th>\n",
              "      <th>verification_status_joint</th>\n",
              "      <th>sec_app_earliest_cr_line</th>\n",
              "      <th>hardship_flag</th>\n",
              "      <th>hardship_type</th>\n",
              "      <th>hardship_reason</th>\n",
              "      <th>hardship_status</th>\n",
              "      <th>hardship_start_date</th>\n",
              "      <th>hardship_end_date</th>\n",
              "      <th>payment_plan_start_date</th>\n",
              "      <th>hardship_loan_status</th>\n",
              "      <th>debt_settlement_flag</th>\n",
              "      <th>debt_settlement_flag_date</th>\n",
              "      <th>settlement_status</th>\n",
              "      <th>settlement_date</th>\n",
              "    </tr>\n",
              "  </thead>\n",
              "  <tbody>\n",
              "    <tr>\n",
              "      <th>count</th>\n",
              "      <td>128412</td>\n",
              "      <td>128412</td>\n",
              "      <td>128412</td>\n",
              "      <td>107465</td>\n",
              "      <td>116708</td>\n",
              "      <td>128412</td>\n",
              "      <td>128412</td>\n",
              "      <td>128412</td>\n",
              "      <td>128412</td>\n",
              "      <td>128412</td>\n",
              "      <td>128412</td>\n",
              "      <td>128412</td>\n",
              "      <td>128412</td>\n",
              "      <td>128412</td>\n",
              "      <td>128412</td>\n",
              "      <td>128256</td>\n",
              "      <td>128412</td>\n",
              "      <td>128253</td>\n",
              "      <td>112289</td>\n",
              "      <td>128411</td>\n",
              "      <td>128412</td>\n",
              "      <td>14848</td>\n",
              "      <td>16782</td>\n",
              "      <td>128412</td>\n",
              "      <td>27</td>\n",
              "      <td>27</td>\n",
              "      <td>27</td>\n",
              "      <td>27</td>\n",
              "      <td>27</td>\n",
              "      <td>27</td>\n",
              "      <td>27</td>\n",
              "      <td>128412</td>\n",
              "      <td>111</td>\n",
              "      <td>111</td>\n",
              "      <td>111</td>\n",
              "    </tr>\n",
              "    <tr>\n",
              "      <th>unique</th>\n",
              "      <td>46</td>\n",
              "      <td>7</td>\n",
              "      <td>35</td>\n",
              "      <td>43892</td>\n",
              "      <td>11</td>\n",
              "      <td>4</td>\n",
              "      <td>3</td>\n",
              "      <td>3</td>\n",
              "      <td>7</td>\n",
              "      <td>2</td>\n",
              "      <td>12</td>\n",
              "      <td>12</td>\n",
              "      <td>880</td>\n",
              "      <td>50</td>\n",
              "      <td>644</td>\n",
              "      <td>1074</td>\n",
              "      <td>2</td>\n",
              "      <td>12</td>\n",
              "      <td>3</td>\n",
              "      <td>12</td>\n",
              "      <td>2</td>\n",
              "      <td>3</td>\n",
              "      <td>573</td>\n",
              "      <td>2</td>\n",
              "      <td>1</td>\n",
              "      <td>6</td>\n",
              "      <td>3</td>\n",
              "      <td>3</td>\n",
              "      <td>4</td>\n",
              "      <td>3</td>\n",
              "      <td>4</td>\n",
              "      <td>2</td>\n",
              "      <td>6</td>\n",
              "      <td>3</td>\n",
              "      <td>7</td>\n",
              "    </tr>\n",
              "    <tr>\n",
              "      <th>top</th>\n",
              "      <td>13.56%</td>\n",
              "      <td>A</td>\n",
              "      <td>A4</td>\n",
              "      <td>Teacher</td>\n",
              "      <td>10+ years</td>\n",
              "      <td>MORTGAGE</td>\n",
              "      <td>Not Verified</td>\n",
              "      <td>Oct-2018</td>\n",
              "      <td>Current</td>\n",
              "      <td>n</td>\n",
              "      <td>debt_consolidation</td>\n",
              "      <td>Debt consolidation</td>\n",
              "      <td>112xx</td>\n",
              "      <td>CA</td>\n",
              "      <td>Aug-2006</td>\n",
              "      <td>0%</td>\n",
              "      <td>w</td>\n",
              "      <td>Aug-2019</td>\n",
              "      <td>Sep-2019</td>\n",
              "      <td>Aug-2019</td>\n",
              "      <td>Individual</td>\n",
              "      <td>Not Verified</td>\n",
              "      <td>Aug-2006</td>\n",
              "      <td>N</td>\n",
              "      <td>INTEREST ONLY-3 MONTHS DEFERRAL</td>\n",
              "      <td>EXCESSIVE_OBLIGATIONS</td>\n",
              "      <td>ACTIVE</td>\n",
              "      <td>Aug-2019</td>\n",
              "      <td>Oct-2019</td>\n",
              "      <td>Aug-2019</td>\n",
              "      <td>In Grace Period</td>\n",
              "      <td>N</td>\n",
              "      <td>Aug-2019</td>\n",
              "      <td>ACTIVE</td>\n",
              "      <td>Jul-2019</td>\n",
              "    </tr>\n",
              "    <tr>\n",
              "      <th>freq</th>\n",
              "      <td>6974</td>\n",
              "      <td>38011</td>\n",
              "      <td>9770</td>\n",
              "      <td>2090</td>\n",
              "      <td>38826</td>\n",
              "      <td>63490</td>\n",
              "      <td>58350</td>\n",
              "      <td>46305</td>\n",
              "      <td>108584</td>\n",
              "      <td>128398</td>\n",
              "      <td>70603</td>\n",
              "      <td>70603</td>\n",
              "      <td>1370</td>\n",
              "      <td>17879</td>\n",
              "      <td>1130</td>\n",
              "      <td>1132</td>\n",
              "      <td>114498</td>\n",
              "      <td>105424</td>\n",
              "      <td>112228</td>\n",
              "      <td>117910</td>\n",
              "      <td>111630</td>\n",
              "      <td>6360</td>\n",
              "      <td>155</td>\n",
              "      <td>128387</td>\n",
              "      <td>27</td>\n",
              "      <td>8</td>\n",
              "      <td>25</td>\n",
              "      <td>19</td>\n",
              "      <td>14</td>\n",
              "      <td>15</td>\n",
              "      <td>10</td>\n",
              "      <td>128301</td>\n",
              "      <td>48</td>\n",
              "      <td>99</td>\n",
              "      <td>43</td>\n",
              "    </tr>\n",
              "  </tbody>\n",
              "</table>\n",
              "</div>"
            ],
            "text/plain": [
              "       int_rate   grade  ... settlement_status settlement_date\n",
              "count    128412  128412  ...               111             111\n",
              "unique       46       7  ...                 3               7\n",
              "top      13.56%       A  ...            ACTIVE        Jul-2019\n",
              "freq       6974   38011  ...                99              43\n",
              "\n",
              "[4 rows x 35 columns]"
            ]
          },
          "metadata": {
            "tags": []
          },
          "execution_count": 39
        }
      ]
    },
    {
      "cell_type": "code",
      "metadata": {
        "id": "AkLWb9E27f89",
        "colab_type": "code",
        "colab": {}
      },
      "source": [
        "#creates column where 'Current' or 'Fully Paid' = True\n",
        "df['loan_status_is_great'] = df['loan_status'].str.contains('Current','Fully Paid')"
      ],
      "execution_count": 0,
      "outputs": []
    },
    {
      "cell_type": "code",
      "metadata": {
        "id": "G7CeNy8H7y4O",
        "colab_type": "code",
        "colab": {}
      },
      "source": [
        "#replaces those T/F values with 1/0\n",
        "df['loan_status_is_great'] = df['loan_status_is_great'].replace(False,0).replace(True,1)"
      ],
      "execution_count": 0,
      "outputs": []
    },
    {
      "cell_type": "code",
      "metadata": {
        "id": "TfdidZqv8pQM",
        "colab_type": "code",
        "colab": {
          "base_uri": "https://localhost:8080/",
          "height": 1000
        },
        "outputId": "0e118ceb-e05a-44b8-9695-a0d583bc34d5"
      },
      "source": [
        "#Checking to make sure everything looks good\n",
        "df['loan_status_is_great']\n"
      ],
      "execution_count": 50,
      "outputs": [
        {
          "output_type": "execute_result",
          "data": {
            "text/plain": [
              "0         1.0\n",
              "1         1.0\n",
              "2         0.0\n",
              "3         1.0\n",
              "4         1.0\n",
              "5         1.0\n",
              "6         1.0\n",
              "7         1.0\n",
              "8         0.0\n",
              "9         1.0\n",
              "10        1.0\n",
              "11        1.0\n",
              "12        1.0\n",
              "13        1.0\n",
              "14        1.0\n",
              "15        1.0\n",
              "16        1.0\n",
              "17        1.0\n",
              "18        1.0\n",
              "19        0.0\n",
              "20        1.0\n",
              "21        1.0\n",
              "22        1.0\n",
              "23        1.0\n",
              "24        1.0\n",
              "25        1.0\n",
              "26        1.0\n",
              "27        1.0\n",
              "28        1.0\n",
              "29        1.0\n",
              "         ... \n",
              "128382    1.0\n",
              "128383    1.0\n",
              "128384    1.0\n",
              "128385    1.0\n",
              "128386    1.0\n",
              "128387    1.0\n",
              "128388    1.0\n",
              "128389    0.0\n",
              "128390    0.0\n",
              "128391    0.0\n",
              "128392    1.0\n",
              "128393    1.0\n",
              "128394    1.0\n",
              "128395    1.0\n",
              "128396    1.0\n",
              "128397    0.0\n",
              "128398    1.0\n",
              "128399    1.0\n",
              "128400    1.0\n",
              "128401    1.0\n",
              "128402    1.0\n",
              "128403    1.0\n",
              "128404    0.0\n",
              "128405    1.0\n",
              "128406    1.0\n",
              "128407    0.0\n",
              "128408    1.0\n",
              "128409    1.0\n",
              "128410    1.0\n",
              "128411    1.0\n",
              "Name: loan_status_is_great, Length: 128412, dtype: float64"
            ]
          },
          "metadata": {
            "tags": []
          },
          "execution_count": 50
        }
      ]
    },
    {
      "cell_type": "markdown",
      "metadata": {
        "id": "JhnozEm49bP-",
        "colab_type": "text"
      },
      "source": [
        "## Creating 'last_pymnt_d_month' and 'last_pymnt_d_year' columns"
      ]
    },
    {
      "cell_type": "code",
      "metadata": {
        "id": "fncEwvIPEuh9",
        "colab_type": "code",
        "colab": {
          "base_uri": "https://localhost:8080/",
          "height": 255
        },
        "outputId": "415ebf60-a1b4-4880-99cb-014ab41c2b23"
      },
      "source": [
        "df['last_pymnt_d'].value_counts(dropna=False)"
      ],
      "execution_count": 42,
      "outputs": [
        {
          "output_type": "execute_result",
          "data": {
            "text/plain": [
              "Aug-2019    105424\n",
              "Jul-2019      8087\n",
              "May-2019      2575\n",
              "Jun-2019      2372\n",
              "Apr-2019      2358\n",
              "Mar-2019      1984\n",
              "Feb-2019      1915\n",
              "Jan-2019      1561\n",
              "Dec-2018      1054\n",
              "Nov-2018       679\n",
              "Oct-2018       234\n",
              "NaN            159\n",
              "Sep-2019        10\n",
              "Name: last_pymnt_d, dtype: int64"
            ]
          },
          "metadata": {
            "tags": []
          },
          "execution_count": 42
        }
      ]
    },
    {
      "cell_type": "code",
      "metadata": {
        "id": "GL-_Jla89y5y",
        "colab_type": "code",
        "colab": {}
      },
      "source": [
        "#I figured I could do it all in one line and I was correct\n",
        "#Creates a new column for month that converts last_pymnt_d to dt format, \n",
        "#then pulls the month into last_pymnt_d_month\n",
        "df['last_pymnt_d_month'] = pd.to_datetime(df['last_pymnt_d'], infer_datetime_format=True).dt.month"
      ],
      "execution_count": 0,
      "outputs": []
    },
    {
      "cell_type": "code",
      "metadata": {
        "id": "bkI0EK37F8az",
        "colab_type": "code",
        "colab": {}
      },
      "source": [
        "#Same code as above but for year\n",
        "df['last_pymnt_d_year'] = pd.to_datetime(df['last_pymnt_d'], infer_datetime_format=True).dt.year\n"
      ],
      "execution_count": 0,
      "outputs": []
    },
    {
      "cell_type": "code",
      "metadata": {
        "id": "BGJTweFNPjcZ",
        "colab_type": "code",
        "colab": {}
      },
      "source": [
        "df['last_pymnt_d_year'].value_counts(dropna=False)"
      ],
      "execution_count": 0,
      "outputs": []
    },
    {
      "cell_type": "markdown",
      "metadata": {
        "colab_type": "text",
        "id": "L8k0LiHmo5EU"
      },
      "source": [
        "# STRETCH OPTIONS\n",
        "\n",
        "You can do more with the LendingClub or Instacart datasets.\n",
        "\n",
        "LendingClub options:\n",
        "- There's one other column in the dataframe with percent signs. Remove them and convert to floats. You'll need to handle missing values.\n",
        "- Modify the `emp_title` column to replace titles with 'Other' if the title is not in the top 20. \n",
        "- Take initiatve and work on your own ideas!\n",
        "\n",
        "Instacart options:\n",
        "- Read [Instacart Market Basket Analysis, Winner's Interview: 2nd place, Kazuki Onodera](http://blog.kaggle.com/2017/09/21/instacart-market-basket-analysis-winners-interview-2nd-place-kazuki-onodera/), especially the **Feature Engineering** section. (Can you choose one feature from his bulleted lists, and try to engineer it with pandas code?)\n",
        "- Read and replicate parts of [Simple Exploration Notebook - Instacart](https://www.kaggle.com/sudalairajkumar/simple-exploration-notebook-instacart). (It's the Python Notebook with the most upvotes for this Kaggle competition.)\n",
        "- Take initiative and work on your own ideas!"
      ]
    },
    {
      "cell_type": "markdown",
      "metadata": {
        "colab_type": "text",
        "id": "0_7PXF7lpEXg"
      },
      "source": [
        "You can uncomment and run the cells below to re-download and extract the Instacart data"
      ]
    },
    {
      "cell_type": "code",
      "metadata": {
        "id": "urIePNa0yNG6",
        "colab_type": "code",
        "colab": {}
      },
      "source": [
        "# !wget https://s3.amazonaws.com/instacart-datasets/instacart_online_grocery_shopping_2017_05_01.tar.gz"
      ],
      "execution_count": 0,
      "outputs": []
    },
    {
      "cell_type": "code",
      "metadata": {
        "id": "X9zEyu-uyNG8",
        "colab_type": "code",
        "colab": {}
      },
      "source": [
        "# !tar --gunzip --extract --verbose --file=instacart_online_grocery_shopping_2017_05_01.tar.gz"
      ],
      "execution_count": 0,
      "outputs": []
    },
    {
      "cell_type": "code",
      "metadata": {
        "id": "Y3IqrhlpyNG-",
        "colab_type": "code",
        "colab": {}
      },
      "source": [
        "# %cd instacart_2017_05_01"
      ],
      "execution_count": 0,
      "outputs": []
    }
  ]
}