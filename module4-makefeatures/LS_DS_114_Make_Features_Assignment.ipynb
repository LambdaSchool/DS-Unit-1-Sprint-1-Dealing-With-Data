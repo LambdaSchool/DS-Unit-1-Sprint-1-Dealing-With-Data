{
  "nbformat": 4,
  "nbformat_minor": 0,
  "metadata": {
    "colab": {
      "name": "LS_DS_114_Make_Features_Assignment.ipynb",
      "version": "0.3.2",
      "provenance": [],
      "collapsed_sections": [],
      "include_colab_link": true
    },
    "kernelspec": {
      "display_name": "Python 3",
      "language": "python",
      "name": "python3"
    },
    "language_info": {
      "codemirror_mode": {
        "name": "ipython",
        "version": 3
      },
      "file_extension": ".py",
      "mimetype": "text/x-python",
      "name": "python",
      "nbconvert_exporter": "python",
      "pygments_lexer": "ipython3",
      "version": "3.7.1"
    }
  },
  "cells": [
    {
      "cell_type": "markdown",
      "metadata": {
        "id": "view-in-github",
        "colab_type": "text"
      },
      "source": [
        "<a href=\"https://colab.research.google.com/github/Phatdeluxe/DS-Unit-1-Sprint-1-Dealing-With-Data/blob/master/module4-makefeatures/LS_DS_114_Make_Features_Assignment.ipynb\" target=\"_parent\"><img src=\"https://colab.research.google.com/assets/colab-badge.svg\" alt=\"Open In Colab\"/></a>"
      ]
    },
    {
      "cell_type": "markdown",
      "metadata": {
        "id": "SnDJqBLi0FYW",
        "colab_type": "text"
      },
      "source": [
        "<img align=\"left\" src=\"https://lever-client-logos.s3.amazonaws.com/864372b1-534c-480e-acd5-9711f850815c-1524247202159.png\" width=200> "
      ]
    },
    {
      "cell_type": "markdown",
      "metadata": {
        "id": "W5GjI1z5yNG4",
        "colab_type": "text"
      },
      "source": [
        "# ASSIGNMENT\n",
        "\n",
        "- Replicate the lesson code.\n",
        "\n",
        " - This means that if you haven't followed along already, type out the things that we did in class. Forcing your fingers to hit each key will help you internalize the syntax of what we're doing.\n",
        " - [Lambda Learning Method for DS - By Ryan Herr](https://docs.google.com/document/d/1ubOw9B3Hfip27hF2ZFnW3a3z9xAgrUDRReOEo-FHCVs/edit?usp=sharing)\n",
        "- Convert the `term` column from string to integer.\n",
        "- Make a column named `loan_status_is_great`. It should contain the integer 1 if `loan_status` is \"Current\" or \"Fully Paid.\" Else it should contain the integer 0.\n",
        "\n",
        "- Make `last_pymnt_d_month` and `last_pymnt_d_year` columns."
      ]
    },
    {
      "cell_type": "code",
      "metadata": {
        "id": "AazB4eFwym2p",
        "colab_type": "code",
        "colab": {}
      },
      "source": [
        "# Followed along with everything except for the working with dates section, but \n",
        "# I typed it all out anyway because it is nice working with cleaner data"
      ],
      "execution_count": 0,
      "outputs": []
    },
    {
      "cell_type": "code",
      "metadata": {
        "id": "rhjf8ePZ41vP",
        "colab_type": "code",
        "colab": {}
      },
      "source": [
        "import pandas as pd"
      ],
      "execution_count": 0,
      "outputs": []
    },
    {
      "cell_type": "code",
      "metadata": {
        "id": "DZcIj_Bx4_AU",
        "colab_type": "code",
        "colab": {}
      },
      "source": [
        "!wget https://resources.lendingclub.com/LoanStats_2018Q4.csv.zip"
      ],
      "execution_count": 0,
      "outputs": []
    },
    {
      "cell_type": "code",
      "metadata": {
        "id": "HvJAMwKL5E2i",
        "colab_type": "code",
        "colab": {}
      },
      "source": [
        "!unzip LoanStats_2018Q4.csv.zip"
      ],
      "execution_count": 0,
      "outputs": []
    },
    {
      "cell_type": "code",
      "metadata": {
        "id": "YX4_VDp05MRb",
        "colab_type": "code",
        "colab": {}
      },
      "source": [
        "df = pd.read_csv('LoanStats_2018Q4.csv', skipfooter=2, header=1)"
      ],
      "execution_count": 0,
      "outputs": []
    },
    {
      "cell_type": "code",
      "metadata": {
        "id": "n9OI8S3l59gN",
        "colab_type": "code",
        "colab": {}
      },
      "source": [
        "df.head(10)"
      ],
      "execution_count": 0,
      "outputs": []
    },
    {
      "cell_type": "code",
      "metadata": {
        "id": "vSdMVDeg9fKb",
        "colab_type": "code",
        "colab": {}
      },
      "source": [
        "df.isnull().sum().sort_values(ascending=False)"
      ],
      "execution_count": 0,
      "outputs": []
    },
    {
      "cell_type": "code",
      "metadata": {
        "id": "XrM75WHo6AHU",
        "colab_type": "code",
        "colab": {}
      },
      "source": [
        "dfCopy1 = df.drop(columns=['id', 'member_id', 'desc', 'url'])"
      ],
      "execution_count": 0,
      "outputs": []
    },
    {
      "cell_type": "code",
      "metadata": {
        "id": "ehOjfUB16boh",
        "colab_type": "code",
        "colab": {}
      },
      "source": [
        "dfCopy1.head(10)"
      ],
      "execution_count": 0,
      "outputs": []
    },
    {
      "cell_type": "code",
      "metadata": {
        "id": "yv-MICnz6gUo",
        "colab_type": "code",
        "colab": {}
      },
      "source": [
        "def removePercentToFloat(string):\n",
        "  return float(string.strip('%'))\n",
        "\n",
        "dfCopy1['int_rate'] = dfCopy1['int_rate'].apply(removePercentToFloat)"
      ],
      "execution_count": 0,
      "outputs": []
    },
    {
      "cell_type": "code",
      "metadata": {
        "id": "RJWyVigC7ewa",
        "colab_type": "code",
        "colab": {}
      },
      "source": [
        "dfCopy1.head(10)"
      ],
      "execution_count": 0,
      "outputs": []
    },
    {
      "cell_type": "code",
      "metadata": {
        "id": "38TUzY3O7jda",
        "colab_type": "code",
        "colab": {}
      },
      "source": [
        "import numpy as np"
      ],
      "execution_count": 0,
      "outputs": []
    },
    {
      "cell_type": "code",
      "metadata": {
        "id": "VGBsM5Wd79eI",
        "colab_type": "code",
        "colab": {}
      },
      "source": [
        "def cleanTitle(title):\n",
        "  if isinstance(title, str):\n",
        "    return title.strip().title()\n",
        "  else:\n",
        "    return 'Unknown'\n",
        "  \n",
        "dfCopy1['emp_title'] = dfCopy1['emp_title'].apply(cleanTitle)"
      ],
      "execution_count": 0,
      "outputs": []
    },
    {
      "cell_type": "code",
      "metadata": {
        "id": "HnkMS1BI9LVa",
        "colab_type": "code",
        "colab": {}
      },
      "source": [
        "dfCopy1['emp_title'].value_counts()"
      ],
      "execution_count": 0,
      "outputs": []
    },
    {
      "cell_type": "code",
      "metadata": {
        "id": "46Si7-Lb-lXs",
        "colab_type": "code",
        "colab": {}
      },
      "source": [
        "dfCopy1['emp_title_manager'] = False"
      ],
      "execution_count": 0,
      "outputs": []
    },
    {
      "cell_type": "code",
      "metadata": {
        "id": "0XRYHgA2_IkQ",
        "colab_type": "code",
        "colab": {}
      },
      "source": [
        "dfCopy1['emp_title_manager'] = dfCopy1['emp_title'].str.contains('Manager')"
      ],
      "execution_count": 0,
      "outputs": []
    },
    {
      "cell_type": "code",
      "metadata": {
        "id": "MwTXdr7sAVpa",
        "colab_type": "code",
        "colab": {}
      },
      "source": [
        "manager = dfCopy1[dfCopy1['emp_title'].str.contains('Manager') == True]"
      ],
      "execution_count": 0,
      "outputs": []
    },
    {
      "cell_type": "code",
      "metadata": {
        "id": "xixt-azBBNcq",
        "colab_type": "code",
        "colab": {}
      },
      "source": [
        "manager.head()"
      ],
      "execution_count": 0,
      "outputs": []
    },
    {
      "cell_type": "code",
      "metadata": {
        "id": "LRbmyw5M_ga3",
        "colab_type": "code",
        "colab": {}
      },
      "source": [
        "nonManager = dfCopy1[dfCopy1['emp_title_manager'] == False]"
      ],
      "execution_count": 0,
      "outputs": []
    },
    {
      "cell_type": "code",
      "metadata": {
        "id": "HGAx6va8CjKr",
        "colab_type": "code",
        "colab": {}
      },
      "source": [
        "# help(df.plot)"
      ],
      "execution_count": 0,
      "outputs": []
    },
    {
      "cell_type": "code",
      "metadata": {
        "id": "VfbS7NtN_7tN",
        "colab_type": "code",
        "colab": {}
      },
      "source": [
        "manager['int_rate'].plot.bar();\n",
        "\n",
        "# Absolutely horrendous, just messing around with the different plot types pandas has to offer"
      ],
      "execution_count": 0,
      "outputs": []
    },
    {
      "cell_type": "code",
      "metadata": {
        "id": "AOcWTH_qBgtJ",
        "colab_type": "code",
        "colab": {}
      },
      "source": [
        "manager['int_rate'].hist(bins=20);"
      ],
      "execution_count": 0,
      "outputs": []
    },
    {
      "cell_type": "code",
      "metadata": {
        "id": "iXOBXt56Gif3",
        "colab_type": "code",
        "colab": {}
      },
      "source": [
        "manager['int_rate'].plot.pie()"
      ],
      "execution_count": 0,
      "outputs": []
    },
    {
      "cell_type": "code",
      "metadata": {
        "id": "xy1xXTw_Lvcb",
        "colab_type": "code",
        "colab": {}
      },
      "source": [
        "dfCopy1['issue_d']"
      ],
      "execution_count": 0,
      "outputs": []
    },
    {
      "cell_type": "code",
      "metadata": {
        "id": "oYWZ1SLWMDof",
        "colab_type": "code",
        "colab": {}
      },
      "source": [
        "dfCopy1['issue_d'] = pd.to_datetime(dfCopy1['issue_d'], infer_datetime_format=True)"
      ],
      "execution_count": 0,
      "outputs": []
    },
    {
      "cell_type": "code",
      "metadata": {
        "id": "lwkOtJLmMiTa",
        "colab_type": "code",
        "colab": {}
      },
      "source": [
        "dfCopy1.dtypes"
      ],
      "execution_count": 0,
      "outputs": []
    },
    {
      "cell_type": "code",
      "metadata": {
        "id": "Zum0fdKSMyWM",
        "colab_type": "code",
        "colab": {}
      },
      "source": [
        "dfCopy1['issue_d'].head().values"
      ],
      "execution_count": 0,
      "outputs": []
    },
    {
      "cell_type": "code",
      "metadata": {
        "id": "FVp7MMR_NAPp",
        "colab_type": "code",
        "colab": {}
      },
      "source": [
        "dfCopy1['issue_d'].dt.month"
      ],
      "execution_count": 0,
      "outputs": []
    },
    {
      "cell_type": "code",
      "metadata": {
        "id": "fOp-osXvNU_x",
        "colab_type": "code",
        "colab": {}
      },
      "source": [
        "dfCopy1['issue_year'] = dfCopy1['issue_d'].dt.year\n",
        "dfCopy1['issue_month'] = dfCopy1['issue_d'].dt.month"
      ],
      "execution_count": 0,
      "outputs": []
    },
    {
      "cell_type": "code",
      "metadata": {
        "id": "wRJ1sqqiNo2U",
        "colab_type": "code",
        "colab": {}
      },
      "source": [
        "dfCopy1[['issue_year', 'issue_month']].head(20)"
      ],
      "execution_count": 0,
      "outputs": []
    },
    {
      "cell_type": "code",
      "metadata": {
        "id": "NrzXcveNOXAD",
        "colab_type": "code",
        "colab": {}
      },
      "source": [
        "dfCopy1['earliest_cr_line'] = pd.to_datetime(dfCopy1['earliest_cr_line'], infer_datetime_format=True)"
      ],
      "execution_count": 0,
      "outputs": []
    },
    {
      "cell_type": "code",
      "metadata": {
        "id": "1_98H114O1J1",
        "colab_type": "code",
        "colab": {}
      },
      "source": [
        "dfCopy1['issue_d'] - dfCopy1['earliest_cr_line']"
      ],
      "execution_count": 0,
      "outputs": []
    },
    {
      "cell_type": "code",
      "metadata": {
        "id": "6tfQHhaLPEC1",
        "colab_type": "code",
        "colab": {}
      },
      "source": [
        "dfCopy1['days_from_earliest_credit_to_issue'] = (dfCopy1['issue_d'] - dfCopy1['earliest_cr_line']).dt.days\n",
        "dfCopy1.head()"
      ],
      "execution_count": 0,
      "outputs": []
    },
    {
      "cell_type": "code",
      "metadata": {
        "id": "9otp59pHPpHw",
        "colab_type": "code",
        "colab": {}
      },
      "source": [
        "dfCopy1['days_from_earliest_credit_to_issue'].describe()"
      ],
      "execution_count": 0,
      "outputs": []
    },
    {
      "cell_type": "code",
      "metadata": {
        "id": "qWVeN4-LPv7F",
        "colab_type": "code",
        "colab": {}
      },
      "source": [
        "25171./365.25"
      ],
      "execution_count": 0,
      "outputs": []
    },
    {
      "cell_type": "code",
      "metadata": {
        "id": "Z-Sr01B8QMDy",
        "colab_type": "code",
        "colab": {}
      },
      "source": [
        "# Convert the term column from string to integer.\n",
        "dfCopy1['term'].isnull().sum()"
      ],
      "execution_count": 0,
      "outputs": []
    },
    {
      "cell_type": "code",
      "metadata": {
        "id": "p0eCmuNKQsfi",
        "colab_type": "code",
        "colab": {
          "base_uri": "https://localhost:8080/",
          "height": 34
        },
        "outputId": "d4eec6b1-adc2-4344-8a0e-1a805df4f353"
      },
      "source": [
        "# Quick test for removing the word ' months'\n",
        "\n",
        "stringTest = '12 months'\n",
        "\n",
        "int(string.strip(' months'))"
      ],
      "execution_count": 89,
      "outputs": [
        {
          "output_type": "execute_result",
          "data": {
            "text/plain": [
              "12"
            ]
          },
          "metadata": {
            "tags": []
          },
          "execution_count": 89
        }
      ]
    },
    {
      "cell_type": "code",
      "metadata": {
        "id": "cWfjP9KMRnSJ",
        "colab_type": "code",
        "colab": {}
      },
      "source": [
        "# Removes the ' months' off the back of the string then typecasts to int\n",
        "\n",
        "def strToInt(string):\n",
        "  return int(string.strip(' months'))\n",
        "\n",
        "dfCopy1['term'] = dfCopy1['term'].apply(strToInt)"
      ],
      "execution_count": 0,
      "outputs": []
    },
    {
      "cell_type": "code",
      "metadata": {
        "id": "FK10IahvSOI7",
        "colab_type": "code",
        "colab": {}
      },
      "source": [
        "dfCopy1['term'].head()"
      ],
      "execution_count": 0,
      "outputs": []
    },
    {
      "cell_type": "code",
      "metadata": {
        "id": "N0oqKgxSSckI",
        "colab_type": "code",
        "colab": {}
      },
      "source": [
        "# Make a column named loan_status_is_great. It should contain the integer 1 if\n",
        "# loan_status is \"Current\" or \"Fully Paid.\" Else it should contain the integer 0."
      ],
      "execution_count": 0,
      "outputs": []
    },
    {
      "cell_type": "code",
      "metadata": {
        "id": "NcE9SqoKSqJX",
        "colab_type": "code",
        "colab": {}
      },
      "source": [
        "# Making the new column and initializing it\n",
        "\n",
        "dfCopy1['loan_status_is_great'] = 0"
      ],
      "execution_count": 0,
      "outputs": []
    },
    {
      "cell_type": "code",
      "metadata": {
        "id": "dK0JNFVkSyvi",
        "colab_type": "code",
        "colab": {}
      },
      "source": [
        "# Making sure the above worked\n",
        "\n",
        "dfCopy1['loan_status_is_great']"
      ],
      "execution_count": 0,
      "outputs": []
    },
    {
      "cell_type": "code",
      "metadata": {
        "id": "AUsL8jxVSy3H",
        "colab_type": "code",
        "colab": {}
      },
      "source": [
        "# Function to add a 1 or a 0 to loan_status_is_great depending on the presence of 'current' or 'fully paid'\n",
        "\n",
        "def loanStatusPaid(loan):\n",
        "  if loan == 'Current' or loan == 'Fully Paid':\n",
        "    return 1\n",
        "  else:\n",
        "    return 0\n",
        "\n",
        "dfCopy1['loan_status_is_great'] = dfCopy1['loan_status'].apply(loanStatusPaid)"
      ],
      "execution_count": 0,
      "outputs": []
    },
    {
      "cell_type": "code",
      "metadata": {
        "id": "0by1WJKESy_D",
        "colab_type": "code",
        "colab": {}
      },
      "source": [
        "# Checking to see if the above worked\n",
        "\n",
        "dfCopy1['loan_status_is_great'].value_counts()"
      ],
      "execution_count": 0,
      "outputs": []
    },
    {
      "cell_type": "code",
      "metadata": {
        "id": "q1GgRPmmWOCu",
        "colab_type": "code",
        "colab": {}
      },
      "source": [
        "# Make last_pymnt_d_month and last_pymnt_d_year columns."
      ],
      "execution_count": 0,
      "outputs": []
    },
    {
      "cell_type": "code",
      "metadata": {
        "id": "WwVptbxcWUTa",
        "colab_type": "code",
        "colab": {}
      },
      "source": [
        "# Making the columns and initializing them\n",
        "\n",
        "dfCopy1['last_pymnt_d_month'] = 0\n",
        "dfCopy1['last_pymnt_d_year'] = 0"
      ],
      "execution_count": 0,
      "outputs": []
    },
    {
      "cell_type": "code",
      "metadata": {
        "id": "WOxMpCrrWtOj",
        "colab_type": "code",
        "colab": {}
      },
      "source": [
        "# Changing 'last_pmynt_d' to a datetime format\n",
        "\n",
        "dfCopy1['last_pymnt_d'] = pd.to_datetime(dfCopy1['last_pymnt_d'], infer_datetime_format=True)"
      ],
      "execution_count": 0,
      "outputs": []
    },
    {
      "cell_type": "code",
      "metadata": {
        "id": "jMM3wcnPXvcQ",
        "colab_type": "code",
        "colab": {}
      },
      "source": [
        "# Making sure above worked\n",
        "\n",
        "dfCopy1['last_pymnt_d']"
      ],
      "execution_count": 0,
      "outputs": []
    },
    {
      "cell_type": "code",
      "metadata": {
        "id": "x6JzsBo2X07R",
        "colab_type": "code",
        "colab": {}
      },
      "source": [
        "# Adding the month and year to their respective columns\n",
        "\n",
        "dfCopy1['last_pymnt_d_month'] = dfCopy1['last_pymnt_d'].dt.month\n",
        "dfCopy1['last_pymnt_d_year'] = dfCopy1['last_pymnt_d'].dt.year"
      ],
      "execution_count": 0,
      "outputs": []
    },
    {
      "cell_type": "code",
      "metadata": {
        "id": "oP4LayoEakUc",
        "colab_type": "code",
        "colab": {}
      },
      "source": [
        "def toInt(number):\n",
        "  if number > 0:\n",
        "    return int(number)\n",
        "  else:\n",
        "    return 'No Date Listed'\n",
        "dfCopy1['last_pymnt_d_year'] = dfCopy1['last_pymnt_d_year'].apply(toInt)\n",
        "dfCopy1['last_pymnt_d_month'] = dfCopy1['last_pymnt_d_month'].apply(toInt)"
      ],
      "execution_count": 0,
      "outputs": []
    },
    {
      "cell_type": "code",
      "metadata": {
        "id": "koVmx3mBYBO2",
        "colab_type": "code",
        "colab": {}
      },
      "source": [
        "dfCopy1['last_pymnt_d_month']"
      ],
      "execution_count": 0,
      "outputs": []
    },
    {
      "cell_type": "code",
      "metadata": {
        "id": "4D1SeqV5Ya5j",
        "colab_type": "code",
        "colab": {}
      },
      "source": [
        "dfCopy1['last_pymnt_d_year']"
      ],
      "execution_count": 0,
      "outputs": []
    },
    {
      "cell_type": "markdown",
      "metadata": {
        "colab_type": "text",
        "id": "L8k0LiHmo5EU"
      },
      "source": [
        "# STRETCH OPTIONS\n",
        "\n",
        "You can do more with the LendingClub or Instacart datasets.\n",
        "\n",
        "LendingClub options:\n",
        "- There's one other column in the dataframe with percent signs. Remove them and convert to floats. You'll need to handle missing values.\n",
        "- Modify the `emp_title` column to replace titles with 'Other' if the title is not in the top 20. \n",
        "- Take initiatve and work on your own ideas!\n",
        "\n",
        "Instacart options:\n",
        "- Read [Instacart Market Basket Analysis, Winner's Interview: 2nd place, Kazuki Onodera](http://blog.kaggle.com/2017/09/21/instacart-market-basket-analysis-winners-interview-2nd-place-kazuki-onodera/), especially the **Feature Engineering** section. (Can you choose one feature from his bulleted lists, and try to engineer it with pandas code?)\n",
        "- Read and replicate parts of [Simple Exploration Notebook - Instacart](https://www.kaggle.com/sudalairajkumar/simple-exploration-notebook-instacart). (It's the Python Notebook with the most upvotes for this Kaggle competition.)\n",
        "- Take initiative and work on your own ideas!"
      ]
    },
    {
      "cell_type": "markdown",
      "metadata": {
        "colab_type": "text",
        "id": "0_7PXF7lpEXg"
      },
      "source": [
        "You can uncomment and run the cells below to re-download and extract the Instacart data"
      ]
    },
    {
      "cell_type": "code",
      "metadata": {
        "id": "urIePNa0yNG6",
        "colab_type": "code",
        "colab": {}
      },
      "source": [
        "# !wget https://s3.amazonaws.com/instacart-datasets/instacart_online_grocery_shopping_2017_05_01.tar.gz"
      ],
      "execution_count": 0,
      "outputs": []
    },
    {
      "cell_type": "code",
      "metadata": {
        "id": "X9zEyu-uyNG8",
        "colab_type": "code",
        "colab": {}
      },
      "source": [
        "# !tar --gunzip --extract --verbose --file=instacart_online_grocery_shopping_2017_05_01.tar.gz"
      ],
      "execution_count": 0,
      "outputs": []
    },
    {
      "cell_type": "code",
      "metadata": {
        "id": "Y3IqrhlpyNG-",
        "colab_type": "code",
        "colab": {}
      },
      "source": [
        "# %cd instacart_2017_05_01"
      ],
      "execution_count": 0,
      "outputs": []
    }
  ]
}