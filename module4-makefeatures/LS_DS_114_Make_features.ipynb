{
  "nbformat": 4,
  "nbformat_minor": 0,
  "metadata": {
    "colab": {
      "name": "LS_DS_114_Make_features.ipynb",
      "version": "0.3.2",
      "provenance": [],
      "collapsed_sections": [],
      "include_colab_link": true
    },
    "kernelspec": {
      "display_name": "Python 3",
      "language": "python",
      "name": "python3"
    },
    "language_info": {
      "codemirror_mode": {
        "name": "ipython",
        "version": 3
      },
      "file_extension": ".py",
      "mimetype": "text/x-python",
      "name": "python",
      "nbconvert_exporter": "python",
      "pygments_lexer": "ipython3",
      "version": "3.7.1"
    }
  },
  "cells": [
    {
      "cell_type": "markdown",
      "metadata": {
        "id": "view-in-github",
        "colab_type": "text"
      },
      "source": [
        "<a href=\"https://colab.research.google.com/github/corbittcoder/DS-Unit-1-Sprint-1-Dealing-With-Data/blob/master/module4-makefeatures/LS_DS_114_Make_features.ipynb\" target=\"_parent\"><img src=\"https://colab.research.google.com/assets/colab-badge.svg\" alt=\"Open In Colab\"/></a>"
      ]
    },
    {
      "cell_type": "markdown",
      "metadata": {
        "id": "7fknoKxGz_jk",
        "colab_type": "text"
      },
      "source": [
        "<img align=\"left\" src=\"https://lever-client-logos.s3.amazonaws.com/864372b1-534c-480e-acd5-9711f850815c-1524247202159.png\" width=200> "
      ]
    },
    {
      "cell_type": "markdown",
      "metadata": {
        "colab_type": "text",
        "id": "qacqiXogluN_"
      },
      "source": [
        "\n",
        "\n",
        "\n",
        "# Make features\n",
        "\n",
        "Objectives\n",
        "-  understand the purpose of feature engineering\n",
        "-  work with strings in pandas\n",
        "- work with dates and times in pandas\n",
        "\n",
        "Links\n",
        "- [Feature Engineering](https://en.wikipedia.org/wiki/Feature_engineering)\n",
        "- Python Data Science Handbook\n",
        "  - [Chapter 3.10](https://jakevdp.github.io/PythonDataScienceHandbook/03.10-working-with-strings.html), Vectorized String Operations\n",
        "  - [Chapter 3.11](https://jakevdp.github.io/PythonDataScienceHandbook/03.11-working-with-time-series.html), Working with Time Series\n",
        "- [Lambda Learning Method for DS - By Ryan Herr](https://docs.google.com/document/d/1ubOw9B3Hfip27hF2ZFnW3a3z9xAgrUDRReOEo-FHCVs/edit?usp=sharing)"
      ]
    },
    {
      "cell_type": "markdown",
      "metadata": {
        "colab_type": "text",
        "id": "iSGiSktAoWIx"
      },
      "source": [
        "## Get LendingClub data\n",
        "\n",
        "[Source](https://www.lendingclub.com/info/download-data.action)"
      ]
    },
    {
      "cell_type": "code",
      "metadata": {
        "colab_type": "code",
        "id": "2ugxlWXimoHn",
        "colab": {
          "base_uri": "https://localhost:8080/",
          "height": 211
        },
        "outputId": "4061f72f-0938-4931-8bd0-b2e857e8fdb7"
      },
      "source": [
        "!wget https://resources.lendingclub.com/LoanStats_2018Q4.csv.zip"
      ],
      "execution_count": 1,
      "outputs": [
        {
          "output_type": "stream",
          "text": [
            "--2019-08-08 17:35:03--  https://resources.lendingclub.com/LoanStats_2018Q4.csv.zip\n",
            "Resolving resources.lendingclub.com (resources.lendingclub.com)... 64.48.1.20\n",
            "Connecting to resources.lendingclub.com (resources.lendingclub.com)|64.48.1.20|:443... connected.\n",
            "HTTP request sent, awaiting response... 200 OK\n",
            "Length: unspecified [application/zip]\n",
            "Saving to: ‘LoanStats_2018Q4.csv.zip’\n",
            "\n",
            "LoanStats_2018Q4.cs     [        <=>         ]  21.56M  1.69MB/s    in 13s     \n",
            "\n",
            "2019-08-08 17:35:22 (1.68 MB/s) - ‘LoanStats_2018Q4.csv.zip’ saved [22606280]\n",
            "\n"
          ],
          "name": "stdout"
        }
      ]
    },
    {
      "cell_type": "code",
      "metadata": {
        "colab_type": "code",
        "id": "-4sk6qPgmpmN",
        "colab": {
          "base_uri": "https://localhost:8080/",
          "height": 52
        },
        "outputId": "1ab66567-fc44-4b8e-9b28-9346f2f0ec95"
      },
      "source": [
        "!unzip LoanStats_2018Q4.csv.zip"
      ],
      "execution_count": 2,
      "outputs": [
        {
          "output_type": "stream",
          "text": [
            "Archive:  LoanStats_2018Q4.csv.zip\n",
            "  inflating: LoanStats_2018Q4.csv    \n"
          ],
          "name": "stdout"
        }
      ]
    },
    {
      "cell_type": "code",
      "metadata": {
        "colab_type": "code",
        "id": "seh5oNE1nD0X",
        "colab": {
          "base_uri": "https://localhost:8080/",
          "height": 213
        },
        "outputId": "68435966-122b-4154-eb94-5026826aeeab"
      },
      "source": [
        "!head LoanStats_2018Q4.csv"
      ],
      "execution_count": 3,
      "outputs": [
        {
          "output_type": "stream",
          "text": [
            "Notes offered by Prospectus (https://www.lendingclub.com/info/prospectus.action)\n",
            "\"id\",\"member_id\",\"loan_amnt\",\"funded_amnt\",\"funded_amnt_inv\",\"term\",\"int_rate\",\"installment\",\"grade\",\"sub_grade\",\"emp_title\",\"emp_length\",\"home_ownership\",\"annual_inc\",\"verification_status\",\"issue_d\",\"loan_status\",\"pymnt_plan\",\"url\",\"desc\",\"purpose\",\"title\",\"zip_code\",\"addr_state\",\"dti\",\"delinq_2yrs\",\"earliest_cr_line\",\"inq_last_6mths\",\"mths_since_last_delinq\",\"mths_since_last_record\",\"open_acc\",\"pub_rec\",\"revol_bal\",\"revol_util\",\"total_acc\",\"initial_list_status\",\"out_prncp\",\"out_prncp_inv\",\"total_pymnt\",\"total_pymnt_inv\",\"total_rec_prncp\",\"total_rec_int\",\"total_rec_late_fee\",\"recoveries\",\"collection_recovery_fee\",\"last_pymnt_d\",\"last_pymnt_amnt\",\"next_pymnt_d\",\"last_credit_pull_d\",\"collections_12_mths_ex_med\",\"mths_since_last_major_derog\",\"policy_code\",\"application_type\",\"annual_inc_joint\",\"dti_joint\",\"verification_status_joint\",\"acc_now_delinq\",\"tot_coll_amt\",\"tot_cur_bal\",\"open_acc_6m\",\"open_act_il\",\"open_il_12m\",\"open_il_24m\",\"mths_since_rcnt_il\",\"total_bal_il\",\"il_util\",\"open_rv_12m\",\"open_rv_24m\",\"max_bal_bc\",\"all_util\",\"total_rev_hi_lim\",\"inq_fi\",\"total_cu_tl\",\"inq_last_12m\",\"acc_open_past_24mths\",\"avg_cur_bal\",\"bc_open_to_buy\",\"bc_util\",\"chargeoff_within_12_mths\",\"delinq_amnt\",\"mo_sin_old_il_acct\",\"mo_sin_old_rev_tl_op\",\"mo_sin_rcnt_rev_tl_op\",\"mo_sin_rcnt_tl\",\"mort_acc\",\"mths_since_recent_bc\",\"mths_since_recent_bc_dlq\",\"mths_since_recent_inq\",\"mths_since_recent_revol_delinq\",\"num_accts_ever_120_pd\",\"num_actv_bc_tl\",\"num_actv_rev_tl\",\"num_bc_sats\",\"num_bc_tl\",\"num_il_tl\",\"num_op_rev_tl\",\"num_rev_accts\",\"num_rev_tl_bal_gt_0\",\"num_sats\",\"num_tl_120dpd_2m\",\"num_tl_30dpd\",\"num_tl_90g_dpd_24m\",\"num_tl_op_past_12m\",\"pct_tl_nvr_dlq\",\"percent_bc_gt_75\",\"pub_rec_bankruptcies\",\"tax_liens\",\"tot_hi_cred_lim\",\"total_bal_ex_mort\",\"total_bc_limit\",\"total_il_high_credit_limit\",\"revol_bal_joint\",\"sec_app_earliest_cr_line\",\"sec_app_inq_last_6mths\",\"sec_app_mort_acc\",\"sec_app_open_acc\",\"sec_app_revol_util\",\"sec_app_open_act_il\",\"sec_app_num_rev_accts\",\"sec_app_chargeoff_within_12_mths\",\"sec_app_collections_12_mths_ex_med\",\"sec_app_mths_since_last_major_derog\",\"hardship_flag\",\"hardship_type\",\"hardship_reason\",\"hardship_status\",\"deferral_term\",\"hardship_amount\",\"hardship_start_date\",\"hardship_end_date\",\"payment_plan_start_date\",\"hardship_length\",\"hardship_dpd\",\"hardship_loan_status\",\"orig_projected_additional_accrued_interest\",\"hardship_payoff_balance_amount\",\"hardship_last_payment_amount\",\"debt_settlement_flag\",\"debt_settlement_flag_date\",\"settlement_status\",\"settlement_date\",\"settlement_amount\",\"settlement_percentage\",\"settlement_term\"\n",
            "\"\",\"\",\"10000\",\"10000\",\"10000\",\" 36 months\",\" 10.33%\",\"324.23\",\"B\",\"B1\",\"\",\"< 1 year\",\"MORTGAGE\",\"280000\",\"Not Verified\",\"Dec-2018\",\"Current\",\"n\",\"\",\"\",\"debt_consolidation\",\"Debt consolidation\",\"974xx\",\"OR\",\"6.15\",\"2\",\"Jan-1996\",\"0\",\"18\",\"\",\"14\",\"0\",\"9082\",\"38%\",\"23\",\"w\",\"8540.01\",\"8540.01\",\"1936.77\",\"1936.77\",\"1459.99\",\"476.78\",\"0.0\",\"0.0\",\"0.0\",\"Jul-2019\",\"324.23\",\"Jul-2019\",\"Jul-2019\",\"0\",\"\",\"1\",\"Individual\",\"\",\"\",\"\",\"0\",\"671\",\"246828\",\"1\",\"3\",\"2\",\"3\",\"1\",\"48552\",\"62\",\"1\",\"3\",\"4923\",\"46\",\"23900\",\"2\",\"7\",\"1\",\"7\",\"17631\",\"11897\",\"43.1\",\"0\",\"0\",\"158\",\"275\",\"11\",\"1\",\"1\",\"11\",\"\",\"11\",\"\",\"0\",\"3\",\"4\",\"7\",\"7\",\"10\",\"9\",\"11\",\"4\",\"14\",\"0\",\"0\",\"0\",\"4\",\"91.3\",\"28.6\",\"0\",\"0\",\"367828\",\"61364\",\"20900\",\"54912\",\"\",\"\",\"\",\"\",\"\",\"\",\"\",\"\",\"\",\"\",\"\",\"N\",\"\",\"\",\"\",\"\",\"\",\"\",\"\",\"\",\"\",\"\",\"\",\"\",\"\",\"\",\"N\",\"\",\"\",\"\",\"\",\"\",\"\"\n",
            "\"\",\"\",\"4000\",\"4000\",\"4000\",\" 36 months\",\" 23.40%\",\"155.68\",\"E\",\"E1\",\"Security\",\"3 years\",\"RENT\",\"90000\",\"Source Verified\",\"Dec-2018\",\"Current\",\"n\",\"\",\"\",\"debt_consolidation\",\"Debt consolidation\",\"070xx\",\"NJ\",\"26.33\",\"0\",\"Sep-2006\",\"4\",\"59\",\"\",\"15\",\"0\",\"5199\",\"19.2%\",\"20\",\"w\",\"3510.60\",\"3510.60\",\"926.28\",\"926.28\",\"489.40\",\"436.88\",\"0.0\",\"0.0\",\"0.0\",\"Jul-2019\",\"155.68\",\"Jul-2019\",\"Jul-2019\",\"0\",\"\",\"1\",\"Individual\",\"\",\"\",\"\",\"0\",\"0\",\"66926\",\"5\",\"4\",\"3\",\"4\",\"5\",\"61727\",\"86\",\"6\",\"11\",\"1353\",\"68\",\"27100\",\"4\",\"0\",\"4\",\"15\",\"4462\",\"20174\",\"7.9\",\"0\",\"0\",\"147\",\"118\",\"2\",\"2\",\"0\",\"2\",\"\",\"0\",\"\",\"0\",\"5\",\"7\",\"9\",\"9\",\"8\",\"11\",\"12\",\"7\",\"15\",\"0\",\"0\",\"0\",\"9\",\"95\",\"0\",\"0\",\"0\",\"98655\",\"66926\",\"21900\",\"71555\",\"\",\"\",\"\",\"\",\"\",\"\",\"\",\"\",\"\",\"\",\"\",\"N\",\"\",\"\",\"\",\"\",\"\",\"\",\"\",\"\",\"\",\"\",\"\",\"\",\"\",\"\",\"N\",\"\",\"\",\"\",\"\",\"\",\"\"\n",
            "\"\",\"\",\"5000\",\"5000\",\"5000\",\" 36 months\",\" 17.97%\",\"180.69\",\"D\",\"D1\",\"Administrative\",\"6 years\",\"MORTGAGE\",\"59280\",\"Source Verified\",\"Dec-2018\",\"Late (16-30 days)\",\"n\",\"\",\"\",\"debt_consolidation\",\"Debt consolidation\",\"490xx\",\"MI\",\"10.51\",\"0\",\"Apr-2011\",\"0\",\"\",\"\",\"8\",\"0\",\"4599\",\"19.1%\",\"13\",\"w\",\"4456.17\",\"4456.17\",\"895.96\",\"895.96\",\"543.83\",\"352.13\",\"0.0\",\"0.0\",\"0.0\",\"Jun-2019\",\"180.69\",\"Jul-2019\",\"Jul-2019\",\"0\",\"\",\"1\",\"Individual\",\"\",\"\",\"\",\"0\",\"0\",\"110299\",\"0\",\"1\",\"0\",\"2\",\"14\",\"7150\",\"72\",\"0\",\"2\",\"0\",\"35\",\"24100\",\"1\",\"5\",\"0\",\"4\",\"18383\",\"13800\",\"0\",\"0\",\"0\",\"87\",\"92\",\"15\",\"14\",\"2\",\"77\",\"\",\"14\",\"\",\"0\",\"0\",\"3\",\"3\",\"3\",\"4\",\"6\",\"7\",\"3\",\"8\",\"0\",\"0\",\"0\",\"0\",\"100\",\"0\",\"0\",\"0\",\"136927\",\"11749\",\"13800\",\"10000\",\"\",\"\",\"\",\"\",\"\",\"\",\"\",\"\",\"\",\"\",\"\",\"N\",\"\",\"\",\"\",\"\",\"\",\"\",\"\",\"\",\"\",\"\",\"\",\"\",\"\",\"\",\"N\",\"\",\"\",\"\",\"\",\"\",\"\"\n",
            "\"\",\"\",\"23000\",\"23000\",\"23000\",\" 60 months\",\" 20.89%\",\"620.81\",\"D\",\"D4\",\"Operator\",\"5 years\",\"RENT\",\"68107\",\"Source Verified\",\"Dec-2018\",\"Current\",\"n\",\"\",\"\",\"debt_consolidation\",\"Debt consolidation\",\"672xx\",\"KS\",\"0.52\",\"0\",\"Feb-1997\",\"0\",\"\",\"\",\"5\",\"0\",\"976\",\"13%\",\"10\",\"w\",\"21597.84\",\"21597.84\",\"3686.64\",\"3686.64\",\"1402.16\",\"2284.48\",\"0.0\",\"0.0\",\"0.0\",\"Jul-2019\",\"620.81\",\"Jul-2019\",\"Jul-2019\",\"1\",\"\",\"1\",\"Individual\",\"\",\"\",\"\",\"0\",\"2693\",\"976\",\"0\",\"0\",\"0\",\"0\",\"36\",\"0\",\"\",\"3\",\"4\",\"0\",\"13\",\"7500\",\"2\",\"2\",\"4\",\"4\",\"195\",\"3300\",\"0\",\"0\",\"0\",\"237\",\"262\",\"10\",\"10\",\"0\",\"10\",\"\",\"9\",\"\",\"0\",\"0\",\"1\",\"3\",\"4\",\"3\",\"5\",\"7\",\"1\",\"5\",\"0\",\"0\",\"0\",\"3\",\"100\",\"0\",\"0\",\"0\",\"7500\",\"976\",\"3300\",\"0\",\"\",\"\",\"\",\"\",\"\",\"\",\"\",\"\",\"\",\"\",\"\",\"N\",\"\",\"\",\"\",\"\",\"\",\"\",\"\",\"\",\"\",\"\",\"\",\"\",\"\",\"\",\"N\",\"\",\"\",\"\",\"\",\"\",\"\"\n",
            "\"\",\"\",\"8000\",\"8000\",\"8000\",\" 36 months\",\" 23.40%\",\"311.35\",\"E\",\"E1\",\"Manager\",\"10+ years\",\"OWN\",\"43000\",\"Source Verified\",\"Dec-2018\",\"Current\",\"n\",\"\",\"\",\"debt_consolidation\",\"Debt consolidation\",\"357xx\",\"AL\",\"33.24\",\"0\",\"Jan-1995\",\"0\",\"\",\"107\",\"8\",\"1\",\"9019\",\"81.3%\",\"16\",\"w\",\"7021.26\",\"7021.26\",\"1852.5\",\"1852.50\",\"978.74\",\"873.76\",\"0.0\",\"0.0\",\"0.0\",\"Jul-2019\",\"311.35\",\"Jul-2019\",\"Jul-2019\",\"0\",\"\",\"1\",\"Individual\",\"\",\"\",\"\",\"0\",\"0\",\"169223\",\"0\",\"3\",\"2\",\"2\",\"7\",\"22059\",\"69\",\"0\",\"0\",\"2174\",\"72\",\"11100\",\"1\",\"1\",\"1\",\"2\",\"21153\",\"126\",\"94.5\",\"0\",\"0\",\"148\",\"287\",\"44\",\"7\",\"1\",\"51\",\"\",\"7\",\"\",\"0\",\"1\",\"4\",\"1\",\"2\",\"8\",\"4\",\"7\",\"4\",\"8\",\"0\",\"0\",\"0\",\"2\",\"100\",\"100\",\"1\",\"0\",\"199744\",\"31078\",\"2300\",\"32206\",\"\",\"\",\"\",\"\",\"\",\"\",\"\",\"\",\"\",\"\",\"\",\"N\",\"\",\"\",\"\",\"\",\"\",\"\",\"\",\"\",\"\",\"\",\"\",\"\",\"\",\"\",\"N\",\"\",\"\",\"\",\"\",\"\",\"\"\n",
            "\"\",\"\",\"32075\",\"32075\",\"32075\",\" 60 months\",\" 11.80%\",\"710.26\",\"B\",\"B4\",\"Nursing Supervisor\",\"10+ years\",\"MORTGAGE\",\"150000\",\"Not Verified\",\"Dec-2018\",\"Current\",\"n\",\"\",\"\",\"credit_card\",\"Credit card refinancing\",\"231xx\",\"VA\",\"22.21\",\"0\",\"Aug-2005\",\"0\",\"\",\"\",\"17\",\"0\",\"19077\",\"32%\",\"24\",\"w\",\"29646.85\",\"29646.85\",\"4230.02\",\"4230.02\",\"2428.15\",\"1801.87\",\"0.0\",\"0.0\",\"0.0\",\"Jul-2019\",\"710.26\",\"Jul-2019\",\"Jul-2019\",\"0\",\"\",\"1\",\"Individual\",\"\",\"\",\"\",\"0\",\"0\",\"272667\",\"1\",\"4\",\"1\",\"1\",\"9\",\"37558\",\"47\",\"1\",\"1\",\"3910\",\"41\",\"59600\",\"1\",\"2\",\"0\",\"3\",\"16039\",\"10446\",\"47.8\",\"0\",\"0\",\"160\",\"70\",\"4\",\"4\",\"2\",\"27\",\"\",\"14\",\"\",\"0\",\"4\",\"10\",\"4\",\"4\",\"8\",\"12\",\"14\",\"10\",\"17\",\"0\",\"0\",\"0\",\"2\",\"100\",\"50\",\"0\",\"0\",\"360433\",\"56635\",\"20000\",\"80125\",\"\",\"\",\"\",\"\",\"\",\"\",\"\",\"\",\"\",\"\",\"\",\"N\",\"\",\"\",\"\",\"\",\"\",\"\",\"\",\"\",\"\",\"\",\"\",\"\",\"\",\"\",\"N\",\"\",\"\",\"\",\"\",\"\",\"\"\n",
            "\"\",\"\",\"9600\",\"9600\",\"9600\",\" 36 months\",\" 12.98%\",\"323.37\",\"B\",\"B5\",\"\",\"n/a\",\"MORTGAGE\",\"35704\",\"Not Verified\",\"Dec-2018\",\"Current\",\"n\",\"\",\"\",\"home_improvement\",\"Home improvement\",\"401xx\",\"KY\",\"0.84\",\"0\",\"Nov-2003\",\"0\",\"69\",\"\",\"5\",\"0\",\"748\",\"11.5%\",\"23\",\"w\",\"8246.68\",\"8246.68\",\"1964.46\",\"1964.46\",\"1353.32\",\"611.14\",\"0.0\",\"0.0\",\"0.0\",\"Jul-2019\",\"323.37\",\"Aug-2019\",\"Jul-2019\",\"0\",\"\",\"1\",\"Individual\",\"\",\"\",\"\",\"0\",\"0\",\"748\",\"0\",\"0\",\"0\",\"0\",\"44\",\"0\",\"\",\"0\",\"3\",\"748\",\"12\",\"6500\",\"0\",\"0\",\"1\",\"3\",\"150\",\"3452\",\"17.8\",\"0\",\"0\",\"181\",\"100\",\"13\",\"13\",\"0\",\"16\",\"\",\"3\",\"\",\"0\",\"1\",\"1\",\"2\",\"2\",\"16\",\"5\",\"7\",\"1\",\"5\",\"0\",\"0\",\"0\",\"0\",\"95.5\",\"0\",\"0\",\"0\",\"6500\",\"748\",\"4200\",\"0\",\"\",\"\",\"\",\"\",\"\",\"\",\"\",\"\",\"\",\"\",\"\",\"N\",\"\",\"\",\"\",\"\",\"\",\"\",\"\",\"\",\"\",\"\",\"\",\"\",\"\",\"\",\"N\",\"\",\"\",\"\",\"\",\"\",\"\"\n",
            "\"\",\"\",\"2500\",\"2500\",\"2500\",\" 36 months\",\" 13.56%\",\"84.92\",\"C\",\"C1\",\"Chef\",\"10+ years\",\"RENT\",\"55000\",\"Not Verified\",\"Dec-2018\",\"Fully Paid\",\"n\",\"\",\"\",\"debt_consolidation\",\"Debt consolidation\",\"109xx\",\"NY\",\"18.24\",\"0\",\"Apr-2001\",\"1\",\"\",\"45\",\"9\",\"1\",\"4341\",\"10.3%\",\"34\",\"w\",\"0.00\",\"0.00\",\"2652.7659856095\",\"2652.77\",\"2500.00\",\"152.77\",\"0.0\",\"0.0\",\"0.0\",\"May-2019\",\"2315.91\",\"\",\"Jul-2019\",\"0\",\"\",\"1\",\"Individual\",\"\",\"\",\"\",\"0\",\"0\",\"16901\",\"2\",\"2\",\"1\",\"2\",\"2\",\"12560\",\"69\",\"2\",\"7\",\"2137\",\"28\",\"42000\",\"1\",\"11\",\"2\",\"9\",\"1878\",\"34360\",\"5.9\",\"0\",\"0\",\"140\",\"212\",\"1\",\"1\",\"0\",\"1\",\"\",\"2\",\"\",\"0\",\"2\",\"5\",\"3\",\"3\",\"16\",\"7\",\"18\",\"5\",\"9\",\"0\",\"0\",\"0\",\"3\",\"100\",\"0\",\"1\",\"0\",\"60124\",\"16901\",\"36500\",\"18124\",\"\",\"\",\"\",\"\",\"\",\"\",\"\",\"\",\"\",\"\",\"\",\"N\",\"\",\"\",\"\",\"\",\"\",\"\",\"\",\"\",\"\",\"\",\"\",\"\",\"\",\"\",\"N\",\"\",\"\",\"\",\"\",\"\",\"\"\n"
          ],
          "name": "stdout"
        }
      ]
    },
    {
      "cell_type": "markdown",
      "metadata": {
        "colab_type": "text",
        "id": "3nAIRCZdofrY"
      },
      "source": [
        "## Load LendingClub data\n",
        "\n",
        "pandas documentation\n",
        "- [`read_csv`](https://pandas.pydata.org/pandas-docs/stable/generated/pandas.read_csv.html)\n",
        "- [`options.display`](https://pandas.pydata.org/pandas-docs/stable/options.html#available-options)"
      ]
    },
    {
      "cell_type": "code",
      "metadata": {
        "colab_type": "code",
        "id": "3-8Vn3y6ooBC",
        "colab": {}
      },
      "source": [
        "import pandas as pd"
      ],
      "execution_count": 0,
      "outputs": []
    },
    {
      "cell_type": "markdown",
      "metadata": {
        "colab_type": "text",
        "id": "1b5_hMTio2Ly"
      },
      "source": [
        "## Work with strings"
      ]
    },
    {
      "cell_type": "markdown",
      "metadata": {
        "id": "QJV0YKsAyNGd",
        "colab_type": "text"
      },
      "source": [
        "For machine learning, we usually want to replace strings with numbers.\n",
        "\n",
        "We can get info about which columns have a datatype of \"object\" (strings)"
      ]
    },
    {
      "cell_type": "code",
      "metadata": {
        "colab_type": "code",
        "id": "WOL7QPVNo3F4",
        "colab": {}
      },
      "source": [
        ""
      ],
      "execution_count": 0,
      "outputs": []
    },
    {
      "cell_type": "markdown",
      "metadata": {
        "id": "2qThJYVayNGg",
        "colab_type": "text"
      },
      "source": [
        "### Convert `int_rate`\n",
        "\n",
        "Define a function to remove percent signs from strings and convert to floats"
      ]
    },
    {
      "cell_type": "code",
      "metadata": {
        "id": "jzXB9lKCyNGh",
        "colab_type": "code",
        "colab": {}
      },
      "source": [
        ""
      ],
      "execution_count": 0,
      "outputs": []
    },
    {
      "cell_type": "markdown",
      "metadata": {
        "id": "-XyfID8AyNGj",
        "colab_type": "text"
      },
      "source": [
        "Apply the function to the `int_rate` column"
      ]
    },
    {
      "cell_type": "code",
      "metadata": {
        "id": "Mpj4rS9myNGk",
        "colab_type": "code",
        "colab": {}
      },
      "source": [
        ""
      ],
      "execution_count": 0,
      "outputs": []
    },
    {
      "cell_type": "markdown",
      "metadata": {
        "id": "EyD92vNFyNGm",
        "colab_type": "text"
      },
      "source": [
        "### Clean `emp_title`\n",
        "\n",
        "Look at top 20 titles"
      ]
    },
    {
      "cell_type": "code",
      "metadata": {
        "id": "W242mH9XyNGm",
        "colab_type": "code",
        "colab": {}
      },
      "source": [
        ""
      ],
      "execution_count": 0,
      "outputs": []
    },
    {
      "cell_type": "markdown",
      "metadata": {
        "id": "115y_DNbyNGp",
        "colab_type": "text"
      },
      "source": [
        "How often is `emp_title` null?"
      ]
    },
    {
      "cell_type": "code",
      "metadata": {
        "id": "lOE1c3bOyNGq",
        "colab_type": "code",
        "colab": {}
      },
      "source": [
        ""
      ],
      "execution_count": 0,
      "outputs": []
    },
    {
      "cell_type": "markdown",
      "metadata": {
        "id": "PKGA99d5yNGt",
        "colab_type": "text"
      },
      "source": [
        "Clean the title and handle missing values"
      ]
    },
    {
      "cell_type": "code",
      "metadata": {
        "id": "t6IRMyv1yNGu",
        "colab_type": "code",
        "colab": {}
      },
      "source": [
        ""
      ],
      "execution_count": 0,
      "outputs": []
    },
    {
      "cell_type": "markdown",
      "metadata": {
        "id": "RKTR_P-fyNGx",
        "colab_type": "text"
      },
      "source": [
        "### Create `emp_title_manager`\n",
        "\n",
        "pandas documentation: [`str.contains`](https://pandas.pydata.org/pandas-docs/stable/generated/pandas.Series.str.contains.html)"
      ]
    },
    {
      "cell_type": "code",
      "metadata": {
        "id": "G-c_mKO0yNGy",
        "colab_type": "code",
        "colab": {}
      },
      "source": [
        ""
      ],
      "execution_count": 0,
      "outputs": []
    },
    {
      "cell_type": "markdown",
      "metadata": {
        "colab_type": "text",
        "id": "s8BcCY6so3by"
      },
      "source": [
        "## Work with dates"
      ]
    },
    {
      "cell_type": "markdown",
      "metadata": {
        "id": "TcZ_doi5yNG0",
        "colab_type": "text"
      },
      "source": [
        "pandas documentation\n",
        "- [to_datetime](https://pandas.pydata.org/pandas-docs/stable/generated/pandas.to_datetime.html)\n",
        "- [Time/Date Components](https://pandas.pydata.org/pandas-docs/stable/timeseries.html#time-date-components) \"You can access these properties via the `.dt` accessor\""
      ]
    },
    {
      "cell_type": "code",
      "metadata": {
        "colab_type": "code",
        "id": "kNrKxOTeo4W3",
        "colab": {}
      },
      "source": [
        ""
      ],
      "execution_count": 0,
      "outputs": []
    }
  ]
}