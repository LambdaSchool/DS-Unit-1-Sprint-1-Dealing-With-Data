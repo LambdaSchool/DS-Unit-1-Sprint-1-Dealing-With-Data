{
  "nbformat": 4,
  "nbformat_minor": 0,
  "metadata": {
    "colab": {
      "name": "Jonathan Mendoza LS_DS_124_Make_features.ipynb",
      "version": "0.3.2",
      "provenance": [],
      "collapsed_sections": [],
      "include_colab_link": true
    },
    "kernelspec": {
      "display_name": "Python 3",
      "language": "python",
      "name": "python3"
    },
    "language_info": {
      "codemirror_mode": {
        "name": "ipython",
        "version": 3
      },
      "file_extension": ".py",
      "mimetype": "text/x-python",
      "name": "python",
      "nbconvert_exporter": "python",
      "pygments_lexer": "ipython3",
      "version": "3.7.1"
    }
  },
  "cells": [
    {
      "cell_type": "markdown",
      "metadata": {
        "id": "view-in-github",
        "colab_type": "text"
      },
      "source": [
        "<a href=\"https://colab.research.google.com/github/jmend01/DS-Unit-1-Sprint-1-Dealing-With-Data/blob/master/module4-makefeatures/Jonathan_Mendoza_LS_DS_124_Make_features.ipynb\" target=\"_parent\"><img src=\"https://colab.research.google.com/assets/colab-badge.svg\" alt=\"Open In Colab\"/></a>"
      ]
    },
    {
      "cell_type": "markdown",
      "metadata": {
        "colab_type": "text",
        "id": "qacqiXogluN_"
      },
      "source": [
        "_Lambda School Data Science_\n",
        "\n",
        "# Make features\n",
        "\n",
        "Objectives\n",
        "-  understand the purpose of feature engineering\n",
        "-  work with strings in pandas\n",
        "- work with dates and times in pandas\n",
        "\n",
        "Links\n",
        "- [Feature Engineering](https://en.wikipedia.org/wiki/Feature_engineering)\n",
        "- Python Data Science Handbook\n",
        "  - [Chapter 3.10](https://jakevdp.github.io/PythonDataScienceHandbook/03.10-working-with-strings.html), Vectorized String Operations\n",
        "  - [Chapter 3.11](https://jakevdp.github.io/PythonDataScienceHandbook/03.11-working-with-time-series.html), Working with Time Series"
      ]
    },
    {
      "cell_type": "markdown",
      "metadata": {
        "colab_type": "text",
        "id": "iSGiSktAoWIx"
      },
      "source": [
        "## Get LendingClub data\n",
        "\n",
        "[Source](https://www.lendingclub.com/info/download-data.action)"
      ]
    },
    {
      "cell_type": "code",
      "metadata": {
        "colab_type": "code",
        "id": "2ugxlWXimoHn",
        "colab": {}
      },
      "source": [
        "!wget https://resources.lendingclub.com/LoanStats_2019Q1.csv.zip"
      ],
      "execution_count": 0,
      "outputs": []
    },
    {
      "cell_type": "code",
      "metadata": {
        "colab_type": "code",
        "id": "-4sk6qPgmpmN",
        "colab": {}
      },
      "source": [
        "!unzip LoanStats_2019Q1.csv.zip"
      ],
      "execution_count": 0,
      "outputs": []
    },
    {
      "cell_type": "code",
      "metadata": {
        "colab_type": "code",
        "id": "seh5oNE1nD0X",
        "colab": {}
      },
      "source": [
        "!head LoanStats_2019Q1.csv"
      ],
      "execution_count": 0,
      "outputs": []
    },
    {
      "cell_type": "markdown",
      "metadata": {
        "colab_type": "text",
        "id": "3nAIRCZdofrY"
      },
      "source": [
        "## Load LendingClub data\n",
        "\n",
        "pandas documentation\n",
        "- [`read_csv`](https://pandas.pydata.org/pandas-docs/stable/generated/pandas.read_csv.html)\n",
        "- [`options.display`](https://pandas.pydata.org/pandas-docs/stable/options.html#available-options)"
      ]
    },
    {
      "cell_type": "code",
      "metadata": {
        "colab_type": "code",
        "id": "3-8Vn3y6ooBC",
        "colab": {}
      },
      "source": [
        "import pandas as pd\n",
        "df = pd.read_csv('LoanStats_2019Q1.csv',skiprows = 1, skipfooter = 2, engine = 'python')\n",
        "print(df.shape)\n",
        "df.head()"
      ],
      "execution_count": 0,
      "outputs": []
    },
    {
      "cell_type": "code",
      "metadata": {
        "id": "R0uAJ0UD2O4r",
        "colab_type": "code",
        "colab": {}
      },
      "source": [
        "df.isna().sum()"
      ],
      "execution_count": 0,
      "outputs": []
    },
    {
      "cell_type": "code",
      "metadata": {
        "id": "cvqIJWzT2vCB",
        "colab_type": "code",
        "colab": {}
      },
      "source": [
        "df[df.loan_amnt.isna()]"
      ],
      "execution_count": 0,
      "outputs": []
    },
    {
      "cell_type": "code",
      "metadata": {
        "id": "krZkmEsl3HLC",
        "colab_type": "code",
        "colab": {}
      },
      "source": [
        "df.head().T"
      ],
      "execution_count": 0,
      "outputs": []
    },
    {
      "cell_type": "code",
      "metadata": {
        "id": "SESd4tuE6c-c",
        "colab_type": "code",
        "colab": {}
      },
      "source": [
        "pd.options.display.max_columns = 150\n",
        "pd.options.display.max_rows = 150\n",
        "df.head().T"
      ],
      "execution_count": 0,
      "outputs": []
    },
    {
      "cell_type": "markdown",
      "metadata": {
        "colab_type": "text",
        "id": "1b5_hMTio2Ly"
      },
      "source": [
        "## Work with strings"
      ]
    },
    {
      "cell_type": "markdown",
      "metadata": {
        "id": "PKKQ85qXxhHG",
        "colab_type": "text"
      },
      "source": [
        "For machine learning, we usually want to replace strings with numbers.\n",
        "\n",
        "We can get info about which columns have a datatype of \"object\" (strings)"
      ]
    },
    {
      "cell_type": "code",
      "metadata": {
        "colab_type": "code",
        "id": "WOL7QPVNo3F4",
        "colab": {}
      },
      "source": [
        "df.describe(include = 'object')"
      ],
      "execution_count": 0,
      "outputs": []
    },
    {
      "cell_type": "code",
      "metadata": {
        "id": "OaE55hhR74cb",
        "colab_type": "code",
        "colab": {}
      },
      "source": [
        "df.grade.value_counts()"
      ],
      "execution_count": 0,
      "outputs": []
    },
    {
      "cell_type": "markdown",
      "metadata": {
        "id": "B2-Kp7UQxhHW",
        "colab_type": "text"
      },
      "source": [
        "### Convert `int_rate`\n",
        "\n",
        "Define a function to remove percent signs from strings and convert to floats"
      ]
    },
    {
      "cell_type": "code",
      "metadata": {
        "id": "nTzDUHphxhHZ",
        "colab_type": "code",
        "colab": {}
      },
      "source": [
        "x = '12.5%'\n",
        "float(x.strip('%'))\n"
      ],
      "execution_count": 0,
      "outputs": []
    },
    {
      "cell_type": "markdown",
      "metadata": {
        "id": "JBUqFNjMxhHn",
        "colab_type": "text"
      },
      "source": [
        "Apply the function to the `int_rate` column"
      ]
    },
    {
      "cell_type": "code",
      "metadata": {
        "id": "UHomgx-txhHp",
        "colab_type": "code",
        "colab": {}
      },
      "source": [
        "df.int_rate.str.strip('%').astype(float).head()"
      ],
      "execution_count": 0,
      "outputs": []
    },
    {
      "cell_type": "code",
      "metadata": {
        "id": "ryBmQwcGAUmh",
        "colab_type": "code",
        "colab": {}
      },
      "source": [
        "def remove_pc(string):\n",
        "  return float(string.strip('%'))"
      ],
      "execution_count": 0,
      "outputs": []
    },
    {
      "cell_type": "code",
      "metadata": {
        "id": "Zrb6GTycBakK",
        "colab_type": "code",
        "colab": {}
      },
      "source": [
        "df['int_rate'] = df['int_rate'].apply(remove_pc)"
      ],
      "execution_count": 0,
      "outputs": []
    },
    {
      "cell_type": "markdown",
      "metadata": {
        "id": "rhg1rjPoxhHy",
        "colab_type": "text"
      },
      "source": [
        "### Clean `emp_title`\n",
        "\n",
        "Look at top 20 titles"
      ]
    },
    {
      "cell_type": "code",
      "metadata": {
        "id": "O05fmyb1xhH6",
        "colab_type": "code",
        "colab": {}
      },
      "source": [
        "df.emp_title.value_counts().head(20)"
      ],
      "execution_count": 0,
      "outputs": []
    },
    {
      "cell_type": "code",
      "metadata": {
        "id": "tDb3erT9GhDz",
        "colab_type": "code",
        "colab": {}
      },
      "source": [
        "df.emp_title.nunique()"
      ],
      "execution_count": 0,
      "outputs": []
    },
    {
      "cell_type": "markdown",
      "metadata": {
        "id": "ohHrqdizxhIL",
        "colab_type": "text"
      },
      "source": [
        "How often is `emp_title` null?"
      ]
    },
    {
      "cell_type": "code",
      "metadata": {
        "id": "T4hbHLXsxhIN",
        "colab_type": "code",
        "colab": {}
      },
      "source": [
        "df.emp_title.isna().sum()/df.shape[0]"
      ],
      "execution_count": 0,
      "outputs": []
    },
    {
      "cell_type": "markdown",
      "metadata": {
        "id": "nXqbdrtVxhIZ",
        "colab_type": "text"
      },
      "source": [
        "Clean the title and handle missing values"
      ]
    },
    {
      "cell_type": "code",
      "metadata": {
        "id": "LJYy6S2dxhId",
        "colab_type": "code",
        "colab": {}
      },
      "source": [
        "import numpy as np\n",
        "\n",
        "example = ['owner','Supervisor','Project manager',np.nan]\n",
        "\n",
        "def clean_emp_title(x):\n",
        "  if isinstance(x, str):\n",
        "    return x.strip().title()\n",
        "  else:\n",
        "    return 'Missing'\n",
        "  \n",
        "# for ex in example:\n",
        "#     print(clean_emp_title(ex))\n",
        "\n",
        "[clean_emp_title(x) for x in example]"
      ],
      "execution_count": 0,
      "outputs": []
    },
    {
      "cell_type": "code",
      "metadata": {
        "id": "_42e9R-DJ73b",
        "colab_type": "code",
        "colab": {}
      },
      "source": [
        "df['emp_title'] = df['emp_title'].apply(clean_emp_title)"
      ],
      "execution_count": 0,
      "outputs": []
    },
    {
      "cell_type": "code",
      "metadata": {
        "id": "CG4mXezKJeLS",
        "colab_type": "code",
        "colab": {}
      },
      "source": [
        "df.emp_title.nunique()"
      ],
      "execution_count": 0,
      "outputs": []
    },
    {
      "cell_type": "markdown",
      "metadata": {
        "id": "GGl5qvw2xhIt",
        "colab_type": "text"
      },
      "source": [
        "### Create `emp_title_manager`\n",
        "\n",
        "pandas documentation: [`str.contains`](https://pandas.pydata.org/pandas-docs/stable/generated/pandas.Series.str.contains.html)"
      ]
    },
    {
      "cell_type": "code",
      "metadata": {
        "id": "otc6gscHxhIv",
        "colab_type": "code",
        "colab": {}
      },
      "source": [
        "df['emp_title'].str.contains('manager', case = False ).head()"
      ],
      "execution_count": 0,
      "outputs": []
    },
    {
      "cell_type": "code",
      "metadata": {
        "id": "ev-KRRhVK2OU",
        "colab_type": "code",
        "colab": {}
      },
      "source": [
        "df['emp_title_manager'] = df.emp_title.str.contains('Manager')\n",
        "df['emp_title_manager'].value_counts()"
      ],
      "execution_count": 0,
      "outputs": []
    },
    {
      "cell_type": "code",
      "metadata": {
        "id": "quM5eYoULKdP",
        "colab_type": "code",
        "colab": {}
      },
      "source": [
        "df.groupby('emp_title_manager').int_rate.mean()"
      ],
      "execution_count": 0,
      "outputs": []
    },
    {
      "cell_type": "markdown",
      "metadata": {
        "colab_type": "text",
        "id": "s8BcCY6so3by"
      },
      "source": [
        "## Work with dates"
      ]
    },
    {
      "cell_type": "markdown",
      "metadata": {
        "id": "tbctSYUrxhI9",
        "colab_type": "text"
      },
      "source": [
        "pandas documentation\n",
        "- [to_datetime](https://pandas.pydata.org/pandas-docs/stable/generated/pandas.to_datetime.html)\n",
        "- [Time/Date Components](https://pandas.pydata.org/pandas-docs/stable/timeseries.html#time-date-components) \"You can access these properties via the `.dt` accessor\""
      ]
    },
    {
      "cell_type": "code",
      "metadata": {
        "colab_type": "code",
        "id": "kNrKxOTeo4W3",
        "colab": {}
      },
      "source": [
        "df['issue_d'].describe()"
      ],
      "execution_count": 0,
      "outputs": []
    },
    {
      "cell_type": "code",
      "metadata": {
        "id": "e29YudtxNZUY",
        "colab_type": "code",
        "colab": {}
      },
      "source": [
        "df['issue_d'] = pd.to_datetime(df['issue_d'], infer_datetime_format = True)"
      ],
      "execution_count": 0,
      "outputs": []
    },
    {
      "cell_type": "code",
      "metadata": {
        "id": "yviP1M5NOP6Y",
        "colab_type": "code",
        "colab": {}
      },
      "source": [
        "df['issue_d'].describe()"
      ],
      "execution_count": 0,
      "outputs": []
    },
    {
      "cell_type": "code",
      "metadata": {
        "id": "NTbVYbvuOlt_",
        "colab_type": "code",
        "colab": {}
      },
      "source": [
        "df['issue_d'].iloc [0:5].dt.year"
      ],
      "execution_count": 0,
      "outputs": []
    },
    {
      "cell_type": "code",
      "metadata": {
        "id": "USovbQB4O7fv",
        "colab_type": "code",
        "colab": {}
      },
      "source": [
        "df['issue_month'] = df['issue_d'].dt.month"
      ],
      "execution_count": 0,
      "outputs": []
    },
    {
      "cell_type": "code",
      "metadata": {
        "id": "7uQsGRRwPLlJ",
        "colab_type": "code",
        "colab": {}
      },
      "source": [
        "df['issue_month'].value_counts()"
      ],
      "execution_count": 0,
      "outputs": []
    },
    {
      "cell_type": "code",
      "metadata": {
        "id": "NG2rClwMPrCz",
        "colab_type": "code",
        "colab": {}
      },
      "source": [
        "df['earliest_cr_line']= pd.to_datetime(df['earliest_cr_line'])"
      ],
      "execution_count": 0,
      "outputs": []
    },
    {
      "cell_type": "code",
      "metadata": {
        "id": "r1pdaxgwPf5C",
        "colab_type": "code",
        "colab": {}
      },
      "source": [
        "df['days_since_earliest_cr_line'] = (df['issue_d']-df['earliest_cr_line']).dt.days"
      ],
      "execution_count": 0,
      "outputs": []
    },
    {
      "cell_type": "code",
      "metadata": {
        "id": "Q0lZf-BwQBdV",
        "colab_type": "code",
        "colab": {}
      },
      "source": [
        "df['days_since_earliest_cr_line'].describe()"
      ],
      "execution_count": 0,
      "outputs": []
    },
    {
      "cell_type": "code",
      "metadata": {
        "id": "HKeHIteNQMxG",
        "colab_type": "code",
        "colab": {}
      },
      "source": [
        "[col for col in df if col.endswith('_d')]"
      ],
      "execution_count": 0,
      "outputs": []
    },
    {
      "cell_type": "code",
      "metadata": {
        "id": "ypsAyuDgQazM",
        "colab_type": "code",
        "colab": {}
      },
      "source": [
        "for col in ['last_pymnt_d', 'next_pymnt_d', 'last_credit_pull_d']:\n",
        "  df[col] = pd.to_datetime(df[col])"
      ],
      "execution_count": 0,
      "outputs": []
    },
    {
      "cell_type": "code",
      "metadata": {
        "id": "eaiiK75XQ0if",
        "colab_type": "code",
        "colab": {}
      },
      "source": [
        "df.describe(include = 'datetime')"
      ],
      "execution_count": 0,
      "outputs": []
    },
    {
      "cell_type": "markdown",
      "metadata": {
        "id": "EvMMz2x8xhJJ",
        "colab_type": "text"
      },
      "source": [
        "# ASSIGNMENT\n",
        "\n",
        "- Replicate the lesson code.\n",
        "\n",
        "- Convert the `term` column from string to integer.\n",
        "\n",
        "- Make a column named `loan_status_is_great`. It should contain the integer 1 if `loan_status` is \"Current\" or \"Fully Paid.\" Else it should contain the integer 0.\n",
        "\n",
        "- Make `last_pymnt_d_month` and `last_pymnt_d_year` columns."
      ]
    },
    {
      "cell_type": "markdown",
      "metadata": {
        "id": "9vbMBY3t4jf1",
        "colab_type": "text"
      },
      "source": [
        "## Load in data"
      ]
    },
    {
      "cell_type": "code",
      "metadata": {
        "id": "IbzXnEbR5-ac",
        "colab_type": "code",
        "colab": {}
      },
      "source": [
        "!wget https://resources.lendingclub.com/LoanStats_2019Q1.csv.zip\n",
        "!unzip LoanStats_2019Q1.csv.zip"
      ],
      "execution_count": 0,
      "outputs": []
    },
    {
      "cell_type": "markdown",
      "metadata": {
        "id": "IT53EESm6OqB",
        "colab_type": "text"
      },
      "source": [
        "## Import libraries, initialize and inspect dataset"
      ]
    },
    {
      "cell_type": "code",
      "metadata": {
        "id": "j4cJsIpd6MQe",
        "colab_type": "code",
        "colab": {}
      },
      "source": [
        "import pandas as pd\n",
        "import numpy as np\n",
        "\n",
        "df = pd.read_csv('LoanStats_2019Q1.csv',skiprows = 1, skipfooter = 2, engine = 'python')\n",
        "print(df.shape)\n",
        "df.head()"
      ],
      "execution_count": 0,
      "outputs": []
    },
    {
      "cell_type": "markdown",
      "metadata": {
        "id": "bSq5gegq8Rdc",
        "colab_type": "text"
      },
      "source": [
        "## inspect 'term' column and change variable type"
      ]
    },
    {
      "cell_type": "code",
      "metadata": {
        "id": "grqPm6ShRQnn",
        "colab_type": "code",
        "colab": {}
      },
      "source": [
        "print(df.term.head())\n",
        "df.term.value_counts()"
      ],
      "execution_count": 0,
      "outputs": []
    },
    {
      "cell_type": "code",
      "metadata": {
        "id": "6f5c9Vmj4VtQ",
        "colab_type": "code",
        "colab": {}
      },
      "source": [
        "def remove_text(string):\n",
        "  return int(string.strip(' months'))\n",
        "\n",
        "df['term'] = df['term'].apply(remove_text)\n",
        "df.term.head()"
      ],
      "execution_count": 0,
      "outputs": []
    },
    {
      "cell_type": "markdown",
      "metadata": {
        "id": "X0oWbDb6-nOX",
        "colab_type": "text"
      },
      "source": [
        "## Create new column"
      ]
    },
    {
      "cell_type": "code",
      "metadata": {
        "id": "XAfvWS-q_ApN",
        "colab_type": "code",
        "colab": {}
      },
      "source": [
        "df.loan_status.value_counts()"
      ],
      "execution_count": 0,
      "outputs": []
    },
    {
      "cell_type": "code",
      "metadata": {
        "id": "vT-nOqRT_k3A",
        "colab_type": "code",
        "colab": {}
      },
      "source": [
        "df['loan_status_is_great'] = np.where((df['loan_status']== 'Current')|(df['loan_status']=='Fully Paid'), 1, 0)\n",
        "\n",
        "df['loan_status_is_great'].value_counts()"
      ],
      "execution_count": 0,
      "outputs": []
    },
    {
      "cell_type": "code",
      "metadata": {
        "id": "zDfW1V1FCsnI",
        "colab_type": "code",
        "colab": {}
      },
      "source": [
        "col_dates = [col for col in df if col.endswith('_d')]\n",
        "for col in col_dates:\n",
        "  df[col] = pd.to_datetime(df[col], infer_datetime_format = True)\n",
        "  \n",
        "df[col_dates].head()"
      ],
      "execution_count": 0,
      "outputs": []
    },
    {
      "cell_type": "code",
      "metadata": {
        "id": "XLp5sWqAEqvM",
        "colab_type": "code",
        "colab": {}
      },
      "source": [
        "df['last_pymnt_d_month'] = df['last_pymnt_d'].dt.month\n",
        "df['last_pymnt_d_year'] = df['last_pymnt_d'].dt.year\n",
        "\n",
        "print(df['last_pymnt_d_month'].value_counts())\n",
        "df['last_pymnt_d_year'].value_counts()"
      ],
      "execution_count": 0,
      "outputs": []
    },
    {
      "cell_type": "markdown",
      "metadata": {
        "colab_type": "text",
        "id": "L8k0LiHmo5EU"
      },
      "source": [
        "# STRETCH OPTIONS\n",
        "\n",
        "You can do more with the LendingClub or Instacart datasets.\n",
        "\n",
        "LendingClub options:\n",
        "- There's one other column in the dataframe with percent signs. Remove them and convert to floats. You'll need to handle missing values.\n",
        "- Modify the `emp_title` column to replace titles with 'Other' if the title is not in the top 20. \n",
        "- Take initiatve and work on your own ideas!\n",
        "\n",
        "Instacart options:\n",
        "- Read [Instacart Market Basket Analysis, Winner's Interview: 2nd place, Kazuki Onodera](http://blog.kaggle.com/2017/09/21/instacart-market-basket-analysis-winners-interview-2nd-place-kazuki-onodera/), especially the **Feature Engineering** section. (Can you choose one feature from his bulleted lists, and try to engineer it with pandas code?)\n",
        "- Read and replicate parts of [Simple Exploration Notebook - Instacart](https://www.kaggle.com/sudalairajkumar/simple-exploration-notebook-instacart). (It's the Python Notebook with the most upvotes for this Kaggle competition.)\n",
        "- Take initiative and work on your own ideas!"
      ]
    },
    {
      "cell_type": "markdown",
      "metadata": {
        "id": "kmcL9NaYGvcF",
        "colab_type": "text"
      },
      "source": [
        "## Lending Club Stretch"
      ]
    },
    {
      "cell_type": "markdown",
      "metadata": {
        "id": "TFgNSq5iG1d1",
        "colab_type": "text"
      },
      "source": [
        "### find and update columns with percent sign, convert to float, handle missing values"
      ]
    },
    {
      "cell_type": "code",
      "metadata": {
        "id": "gqeikweOGuvD",
        "colab_type": "code",
        "colab": {}
      },
      "source": [
        "df.head()"
      ],
      "execution_count": 0,
      "outputs": []
    },
    {
      "cell_type": "code",
      "metadata": {
        "id": "SdxqKJEVSEDD",
        "colab_type": "code",
        "colab": {}
      },
      "source": [
        "df.shape"
      ],
      "execution_count": 0,
      "outputs": []
    },
    {
      "cell_type": "code",
      "metadata": {
        "id": "dvUjCGUiH1HZ",
        "colab_type": "code",
        "colab": {}
      },
      "source": [
        "print(df.revol_util.isna().sum())\n",
        "print(df.revol_util.value_counts())\n",
        "df.revol_util.head()"
      ],
      "execution_count": 0,
      "outputs": []
    },
    {
      "cell_type": "code",
      "metadata": {
        "id": "c0jQEX92SO0C",
        "colab_type": "code",
        "colab": {}
      },
      "source": [
        "df.revol_util.fillna(method = 'ffill', inplace = True)\n",
        "df.revol_util.isna().sum()"
      ],
      "execution_count": 0,
      "outputs": []
    },
    {
      "cell_type": "code",
      "metadata": {
        "id": "dZHGweSOIT0S",
        "colab_type": "code",
        "colab": {}
      },
      "source": [
        "def remove_perc(string):\n",
        "  return float(string.strip('%'))\n",
        "\n",
        "df['int_rate'] = df['int_rate'].apply(remove_perc)\n",
        "df['revol_util'] = df['revol_util'].apply(remove_perc)"
      ],
      "execution_count": 0,
      "outputs": []
    },
    {
      "cell_type": "code",
      "metadata": {
        "id": "bjZhbe95Tlh2",
        "colab_type": "code",
        "colab": {}
      },
      "source": [
        "print(df.int_rate.head())\n",
        "df.revol_util.head()"
      ],
      "execution_count": 0,
      "outputs": []
    },
    {
      "cell_type": "markdown",
      "metadata": {
        "id": "gw9lH463Unva",
        "colab_type": "text"
      },
      "source": [
        "### Change emp_title to other if not in top 20"
      ]
    },
    {
      "cell_type": "code",
      "metadata": {
        "id": "dcsCvedKT-26",
        "colab_type": "code",
        "colab": {}
      },
      "source": [
        "df.emp_title.value_counts()"
      ],
      "execution_count": 0,
      "outputs": []
    },
    {
      "cell_type": "code",
      "metadata": {
        "id": "uAlp_vMNW_Dp",
        "colab_type": "code",
        "colab": {}
      },
      "source": [
        "#unfinished\n",
        "\n",
        "def replacement(col1,col2,string,out):\n",
        "  df[col1] = np.where((df[col2].str.contains(string, case = False) == True), out, df[col2])\n",
        "  \n",
        "  return df[col1]                    "
      ],
      "execution_count": 0,
      "outputs": []
    },
    {
      "cell_type": "code",
      "metadata": {
        "id": "XFTko5WZ5AUZ",
        "colab_type": "code",
        "colab": {
          "base_uri": "https://localhost:8080/",
          "height": 1000
        },
        "outputId": "597c818d-6aae-46d8-e3c7-d7991c86d0d8"
      },
      "source": [
        "replacement('emp_title2','emp_title','manager','Manager')\n",
        "df.emp_title.value_counts()"
      ],
      "execution_count": 114,
      "outputs": [
        {
          "output_type": "execute_result",
          "data": {
            "text/plain": [
              "Teacher                                     2037\n",
              "Manager                                     1626\n",
              "Registered Nurse                             898\n",
              "Driver                                       857\n",
              "Supervisor                                   655\n",
              "RN                                           623\n",
              "Sales                                        586\n",
              "Office Manager                               574\n",
              "Project Manager                              540\n",
              "General Manager                              486\n",
              "Owner                                        449\n",
              "Director                                     374\n",
              "Operations Manager                           313\n",
              "Engineer                                     309\n",
              "Truck Driver                                 308\n",
              "Sales Manager                                288\n",
              "Nurse                                        281\n",
              "Administrative Assistant                     267\n",
              "Supervisor                                   260\n",
              "Accountant                                   259\n",
              "Server                                       258\n",
              "Account Manager                              254\n",
              "manager                                      246\n",
              "President                                    242\n",
              "Technician                                   240\n",
              "Vice President                               238\n",
              "Police Officer                               237\n",
              "Attorney                                     226\n",
              "teacher                                      225\n",
              "Manager                                      221\n",
              "                                            ... \n",
              "Vice President of Development                  1\n",
              " Warehouse Manager                             1\n",
              "Property Coordinator                           1\n",
              "Manufacturer Partner                           1\n",
              "Executive Director CDM                         1\n",
              "Patient care Coordinator                       1\n",
              "Radio Broadcast Producer                       1\n",
              "Community Wellness Advocate                    1\n",
              "Retail Market Manager II                       1\n",
              "associate director of residential dining       1\n",
              "ISP/OSP Tech II                                1\n",
              "Retirement Benefits Technician                 1\n",
              "Environmental Specialist                       1\n",
              "Appeals Contact Specialist                     1\n",
              "Director - Inland Waterways                    1\n",
              "Dentist/owner                                  1\n",
              "Senior Client Relations Representative         1\n",
              "Driver/receving                                1\n",
              "professional civil engineer                    1\n",
              "sales rep/consultant                           1\n",
              "Office Administator                            1\n",
              "Assistant Director, Student Affairs            1\n",
              "Manager-IT Database Management                 1\n",
              "Software Developer Manager                     1\n",
              "Customer Service Representatives               1\n",
              "Field service                                  1\n",
              "Iss Assistant                                  1\n",
              "A/R Analyst                                    1\n",
              "Special Project Analyst                        1\n",
              "ADOC                                           1\n",
              "Name: emp_title, Length: 39387, dtype: int64"
            ]
          },
          "metadata": {
            "tags": []
          },
          "execution_count": 114
        }
      ]
    },
    {
      "cell_type": "code",
      "metadata": {
        "id": "G7MDZ6CPWu67",
        "colab_type": "code",
        "colab": {}
      },
      "source": [
        "df.emp_title2.value_counts()"
      ],
      "execution_count": 0,
      "outputs": []
    },
    {
      "cell_type": "code",
      "metadata": {
        "id": "Qlb4Ze2PXlhw",
        "colab_type": "code",
        "colab": {}
      },
      "source": [
        "replacement('emp_title2','emp_title2','mgr','Manager')\n",
        "replacement('emp_title2','emp_title2','rn','RN')\n",
        "replacement('emp_title2','emp_title2','registered nurse','RN')\n",
        "replacement('emp_title2','emp_title2','nurse','Nurse')\n",
        "replacement('emp_title2','emp_title2','vp','Vice President')\n",
        "replacement('emp_title2','emp_title2','teacher','Educator')\n",
        "replacement('emp_title2','emp_title2','educator','Educator')\n",
        "replacement('emp_title2','emp_title2','Vice President', 'Vice President')\n",
        "replacement('emp_title2','emp_title2','driver','Driver')\n",
        "replacement('emp_title2','emp_title2','supervisor','Supervisor')\n",
        "replacement('emp_title2','emp_title2','owner','Owner')\n",
        "replacement('emp_title2','emp_title2','admin','Administrative Support')\n",
        "replacement('emp_title2','emp_title2','operator','Machine Operator')\n",
        "replacement('emp_title2','emp_title2','ceo','CEO')\n",
        "replacement('emp_title2','emp_title2','underwriter','Underwriter')\n",
        "replacement('emp_title2','emp_title2','director','Director')\n",
        "replacement('emp_title2','emp_title2','tech','Technician')\n",
        "replacement('emp_title2','emp_title2','sales','Sales')\n",
        "replacement('emp_title2','emp_title2','analyst','Analyst')\n",
        "replacement('emp_title2','emp_title2','specialist','Specialist')\n",
        "replacement('emp_title2','emp_title2','labor','Laborer')\n",
        "replacement('emp_title2','emp_title2','maint','Maintenance')\n",
        "replacement('emp_title2','emp_title2','assistant','Assistant')\n",
        "replacement('emp_title2','emp_title2','qa','Quality Assurance')\n",
        "replacement('emp_title2','emp_title2','quality','Quality Assurance')\n",
        "replacement('emp_title2','emp_title2','data','Data Scientist')\n",
        "replacement('emp_title2','emp_title2','coor','Coordinator')\n",
        "replacement('emp_title2','emp_title2','mech','Mechanic');\n",
        "replacement('emp_title2','emp_title2','sched','Scheduler');\n",
        "replacement('emp_title2','emp_title2','secu','Security');\n",
        "replacement('emp_title2','emp_title2','physician','Physician');\n",
        "replacement('emp_title2','emp_title2','oper','Operations');\n",
        "replacement('emp_title2','emp_title2','customer','Customer Service');\n",
        "replacement('emp_title2','emp_title2','publish','Publisher');\n",
        "replacement('emp_title2','emp_title2','consul','Consultant');\n",
        "replacement('emp_title2','emp_title2','assoc','Associate');"
      ],
      "execution_count": 0,
      "outputs": []
    },
    {
      "cell_type": "code",
      "metadata": {
        "id": "8Gu7H3Vib-46",
        "colab_type": "code",
        "colab": {}
      },
      "source": [
        "top_twenty = df.emp_title2.value_counts().index.tolist()[:20]"
      ],
      "execution_count": 0,
      "outputs": []
    },
    {
      "cell_type": "code",
      "metadata": {
        "id": "M-qj0o7gnR74",
        "colab_type": "code",
        "colab": {}
      },
      "source": [
        "df['emp_title2'] = np.where(df['emp_title2'].isin(top_twenty), df['emp_title2'],'Other')"
      ],
      "execution_count": 0,
      "outputs": []
    },
    {
      "cell_type": "code",
      "metadata": {
        "id": "DcesnJrpvwAU",
        "colab_type": "code",
        "colab": {
          "base_uri": "https://localhost:8080/",
          "height": 421
        },
        "outputId": "0d7bdda8-c476-4709-e6c3-c25adf22998f"
      },
      "source": [
        "df['emp_title2'].value_counts()"
      ],
      "execution_count": 118,
      "outputs": [
        {
          "output_type": "execute_result",
          "data": {
            "text/plain": [
              "Other                     56390\n",
              "Manager                   16228\n",
              "Technician                 4732\n",
              "Director                   4011\n",
              "Educator                   3279\n",
              "RN                         3207\n",
              "Supervisor                 3107\n",
              "Driver                     3029\n",
              "Specialist                 2739\n",
              "Sales                      2424\n",
              "Operations                 2397\n",
              "Analyst                    2291\n",
              "Administrative Support     2243\n",
              "Assistant                  2157\n",
              "Coordinator                1671\n",
              "Vice President             1365\n",
              "Nurse                      1020\n",
              "Associate                   930\n",
              "Owner                       887\n",
              "Consultant                  812\n",
              "Mechanic                    756\n",
              "Name: emp_title2, dtype: int64"
            ]
          },
          "metadata": {
            "tags": []
          },
          "execution_count": 118
        }
      ]
    },
    {
      "cell_type": "markdown",
      "metadata": {
        "colab_type": "text",
        "id": "0_7PXF7lpEXg"
      },
      "source": [
        "You can uncomment and run the cells below to re-download and extract the Instacart data"
      ]
    },
    {
      "cell_type": "code",
      "metadata": {
        "id": "myMuF-9ExhJV",
        "colab_type": "code",
        "colab": {}
      },
      "source": [
        "# !wget https://s3.amazonaws.com/instacart-datasets/instacart_online_grocery_shopping_2017_05_01.tar.gz"
      ],
      "execution_count": 0,
      "outputs": []
    },
    {
      "cell_type": "code",
      "metadata": {
        "id": "7k0eb0SHxhJd",
        "colab_type": "code",
        "colab": {}
      },
      "source": [
        "# !tar --gunzip --extract --verbose --file=instacart_online_grocery_shopping_2017_05_01.tar.gz"
      ],
      "execution_count": 0,
      "outputs": []
    },
    {
      "cell_type": "code",
      "metadata": {
        "id": "j-TssydYxhJn",
        "colab_type": "code",
        "colab": {}
      },
      "source": [
        "# %cd instacart_2017_05_01"
      ],
      "execution_count": 0,
      "outputs": []
    }
  ]
}