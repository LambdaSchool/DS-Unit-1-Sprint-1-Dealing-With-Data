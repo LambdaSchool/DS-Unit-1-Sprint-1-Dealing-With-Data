{
  "nbformat": 4,
  "nbformat_minor": 0,
  "metadata": {
    "colab": {
      "name": "Jonathan Mendoza LS_DS_124_Make_features.ipynb",
      "version": "0.3.2",
      "provenance": [],
      "collapsed_sections": [
        "qacqiXogluN_"
      ],
      "include_colab_link": true
    },
    "kernelspec": {
      "display_name": "Python 3",
      "language": "python",
      "name": "python3"
    },
    "language_info": {
      "codemirror_mode": {
        "name": "ipython",
        "version": 3
      },
      "file_extension": ".py",
      "mimetype": "text/x-python",
      "name": "python",
      "nbconvert_exporter": "python",
      "pygments_lexer": "ipython3",
      "version": "3.7.1"
    }
  },
  "cells": [
    {
      "cell_type": "markdown",
      "metadata": {
        "id": "view-in-github",
        "colab_type": "text"
      },
      "source": [
        "<a href=\"https://colab.research.google.com/github/jmend01/DS-Unit-1-Sprint-1-Dealing-With-Data/blob/master/module4-makefeatures/Jonathan_Mendoza_LS_DS_124_Make_features.ipynb\" target=\"_parent\"><img src=\"https://colab.research.google.com/assets/colab-badge.svg\" alt=\"Open In Colab\"/></a>"
      ]
    },
    {
      "cell_type": "markdown",
      "metadata": {
        "colab_type": "text",
        "id": "qacqiXogluN_"
      },
      "source": [
        "_Lambda School Data Science_\n",
        "\n",
        "# Make features\n",
        "\n",
        "Objectives\n",
        "-  understand the purpose of feature engineering\n",
        "-  work with strings in pandas\n",
        "- work with dates and times in pandas\n",
        "\n",
        "Links\n",
        "- [Feature Engineering](https://en.wikipedia.org/wiki/Feature_engineering)\n",
        "- Python Data Science Handbook\n",
        "  - [Chapter 3.10](https://jakevdp.github.io/PythonDataScienceHandbook/03.10-working-with-strings.html), Vectorized String Operations\n",
        "  - [Chapter 3.11](https://jakevdp.github.io/PythonDataScienceHandbook/03.11-working-with-time-series.html), Working with Time Series"
      ]
    },
    {
      "cell_type": "markdown",
      "metadata": {
        "colab_type": "text",
        "id": "iSGiSktAoWIx"
      },
      "source": [
        "## Get LendingClub data\n",
        "\n",
        "[Source](https://www.lendingclub.com/info/download-data.action)"
      ]
    },
    {
      "cell_type": "code",
      "metadata": {
        "colab_type": "code",
        "id": "2ugxlWXimoHn",
        "colab": {}
      },
      "source": [
        "!wget https://resources.lendingclub.com/LoanStats_2019Q1.csv.zip"
      ],
      "execution_count": 0,
      "outputs": []
    },
    {
      "cell_type": "code",
      "metadata": {
        "colab_type": "code",
        "id": "-4sk6qPgmpmN",
        "colab": {}
      },
      "source": [
        "!unzip LoanStats_2019Q1.csv.zip"
      ],
      "execution_count": 0,
      "outputs": []
    },
    {
      "cell_type": "code",
      "metadata": {
        "colab_type": "code",
        "id": "seh5oNE1nD0X",
        "colab": {}
      },
      "source": [
        "!head LoanStats_2019Q1.csv"
      ],
      "execution_count": 0,
      "outputs": []
    },
    {
      "cell_type": "markdown",
      "metadata": {
        "colab_type": "text",
        "id": "3nAIRCZdofrY"
      },
      "source": [
        "## Load LendingClub data\n",
        "\n",
        "pandas documentation\n",
        "- [`read_csv`](https://pandas.pydata.org/pandas-docs/stable/generated/pandas.read_csv.html)\n",
        "- [`options.display`](https://pandas.pydata.org/pandas-docs/stable/options.html#available-options)"
      ]
    },
    {
      "cell_type": "code",
      "metadata": {
        "colab_type": "code",
        "id": "3-8Vn3y6ooBC",
        "colab": {}
      },
      "source": [
        "import pandas as pd\n",
        "df = pd.read_csv('LoanStats_2019Q1.csv',skiprows = 1, skipfooter = 2, engine = 'python')\n",
        "print(df.shape)\n",
        "df.head()"
      ],
      "execution_count": 0,
      "outputs": []
    },
    {
      "cell_type": "code",
      "metadata": {
        "id": "R0uAJ0UD2O4r",
        "colab_type": "code",
        "colab": {}
      },
      "source": [
        "df.isna().sum()"
      ],
      "execution_count": 0,
      "outputs": []
    },
    {
      "cell_type": "code",
      "metadata": {
        "id": "cvqIJWzT2vCB",
        "colab_type": "code",
        "colab": {}
      },
      "source": [
        "df[df.loan_amnt.isna()]"
      ],
      "execution_count": 0,
      "outputs": []
    },
    {
      "cell_type": "code",
      "metadata": {
        "id": "krZkmEsl3HLC",
        "colab_type": "code",
        "colab": {}
      },
      "source": [
        "df.head().T"
      ],
      "execution_count": 0,
      "outputs": []
    },
    {
      "cell_type": "code",
      "metadata": {
        "id": "SESd4tuE6c-c",
        "colab_type": "code",
        "colab": {}
      },
      "source": [
        "pd.options.display.max_columns = 150\n",
        "pd.options.display.max_rows = 150\n",
        "df.head().T"
      ],
      "execution_count": 0,
      "outputs": []
    },
    {
      "cell_type": "markdown",
      "metadata": {
        "colab_type": "text",
        "id": "1b5_hMTio2Ly"
      },
      "source": [
        "## Work with strings"
      ]
    },
    {
      "cell_type": "markdown",
      "metadata": {
        "id": "PKKQ85qXxhHG",
        "colab_type": "text"
      },
      "source": [
        "For machine learning, we usually want to replace strings with numbers.\n",
        "\n",
        "We can get info about which columns have a datatype of \"object\" (strings)"
      ]
    },
    {
      "cell_type": "code",
      "metadata": {
        "colab_type": "code",
        "id": "WOL7QPVNo3F4",
        "colab": {}
      },
      "source": [
        "df.describe(include = 'object')"
      ],
      "execution_count": 0,
      "outputs": []
    },
    {
      "cell_type": "code",
      "metadata": {
        "id": "OaE55hhR74cb",
        "colab_type": "code",
        "colab": {}
      },
      "source": [
        "df.grade.value_counts()"
      ],
      "execution_count": 0,
      "outputs": []
    },
    {
      "cell_type": "markdown",
      "metadata": {
        "id": "B2-Kp7UQxhHW",
        "colab_type": "text"
      },
      "source": [
        "### Convert `int_rate`\n",
        "\n",
        "Define a function to remove percent signs from strings and convert to floats"
      ]
    },
    {
      "cell_type": "code",
      "metadata": {
        "id": "nTzDUHphxhHZ",
        "colab_type": "code",
        "colab": {}
      },
      "source": [
        "x = '12.5%'\n",
        "float(x.strip('%'))\n"
      ],
      "execution_count": 0,
      "outputs": []
    },
    {
      "cell_type": "markdown",
      "metadata": {
        "id": "JBUqFNjMxhHn",
        "colab_type": "text"
      },
      "source": [
        "Apply the function to the `int_rate` column"
      ]
    },
    {
      "cell_type": "code",
      "metadata": {
        "id": "UHomgx-txhHp",
        "colab_type": "code",
        "colab": {}
      },
      "source": [
        "df.int_rate.str.strip('%').astype(float).head()"
      ],
      "execution_count": 0,
      "outputs": []
    },
    {
      "cell_type": "code",
      "metadata": {
        "id": "ryBmQwcGAUmh",
        "colab_type": "code",
        "colab": {}
      },
      "source": [
        "def remove_pc(string):\n",
        "  return float(string.strip('%'))"
      ],
      "execution_count": 0,
      "outputs": []
    },
    {
      "cell_type": "code",
      "metadata": {
        "id": "Zrb6GTycBakK",
        "colab_type": "code",
        "colab": {}
      },
      "source": [
        "df['int_rate'] = df['int_rate'].apply(remove_pc)"
      ],
      "execution_count": 0,
      "outputs": []
    },
    {
      "cell_type": "markdown",
      "metadata": {
        "id": "rhg1rjPoxhHy",
        "colab_type": "text"
      },
      "source": [
        "### Clean `emp_title`\n",
        "\n",
        "Look at top 20 titles"
      ]
    },
    {
      "cell_type": "code",
      "metadata": {
        "id": "O05fmyb1xhH6",
        "colab_type": "code",
        "colab": {}
      },
      "source": [
        "df.emp_title.value_counts().head(20)"
      ],
      "execution_count": 0,
      "outputs": []
    },
    {
      "cell_type": "code",
      "metadata": {
        "id": "tDb3erT9GhDz",
        "colab_type": "code",
        "colab": {}
      },
      "source": [
        "df.emp_title.nunique()"
      ],
      "execution_count": 0,
      "outputs": []
    },
    {
      "cell_type": "markdown",
      "metadata": {
        "id": "ohHrqdizxhIL",
        "colab_type": "text"
      },
      "source": [
        "How often is `emp_title` null?"
      ]
    },
    {
      "cell_type": "code",
      "metadata": {
        "id": "T4hbHLXsxhIN",
        "colab_type": "code",
        "colab": {}
      },
      "source": [
        "df.emp_title.isna().sum()/df.shape[0]"
      ],
      "execution_count": 0,
      "outputs": []
    },
    {
      "cell_type": "markdown",
      "metadata": {
        "id": "nXqbdrtVxhIZ",
        "colab_type": "text"
      },
      "source": [
        "Clean the title and handle missing values"
      ]
    },
    {
      "cell_type": "code",
      "metadata": {
        "id": "LJYy6S2dxhId",
        "colab_type": "code",
        "colab": {}
      },
      "source": [
        "import numpy as np\n",
        "\n",
        "example = ['owner','Supervisor','Project manager',np.nan]\n",
        "\n",
        "def clean_emp_title(x):\n",
        "  if isinstance(x, str):\n",
        "    return x.strip().title()\n",
        "  else:\n",
        "    return 'Missing'\n",
        "  \n",
        "# for ex in example:\n",
        "#     print(clean_emp_title(ex))\n",
        "\n",
        "[clean_emp_title(x) for x in example]"
      ],
      "execution_count": 0,
      "outputs": []
    },
    {
      "cell_type": "code",
      "metadata": {
        "id": "_42e9R-DJ73b",
        "colab_type": "code",
        "colab": {}
      },
      "source": [
        "df['emp_title'] = df['emp_title'].apply(clean_emp_title)"
      ],
      "execution_count": 0,
      "outputs": []
    },
    {
      "cell_type": "code",
      "metadata": {
        "id": "CG4mXezKJeLS",
        "colab_type": "code",
        "colab": {}
      },
      "source": [
        "df.emp_title.nunique()"
      ],
      "execution_count": 0,
      "outputs": []
    },
    {
      "cell_type": "markdown",
      "metadata": {
        "id": "GGl5qvw2xhIt",
        "colab_type": "text"
      },
      "source": [
        "### Create `emp_title_manager`\n",
        "\n",
        "pandas documentation: [`str.contains`](https://pandas.pydata.org/pandas-docs/stable/generated/pandas.Series.str.contains.html)"
      ]
    },
    {
      "cell_type": "code",
      "metadata": {
        "id": "otc6gscHxhIv",
        "colab_type": "code",
        "colab": {}
      },
      "source": [
        "df['emp_title'].str.contains('manager', case = False ).head()"
      ],
      "execution_count": 0,
      "outputs": []
    },
    {
      "cell_type": "code",
      "metadata": {
        "id": "ev-KRRhVK2OU",
        "colab_type": "code",
        "colab": {}
      },
      "source": [
        "df['emp_title_manager'] = df.emp_title.str.contains('Manager')\n",
        "df['emp_title_manager'].value_counts()"
      ],
      "execution_count": 0,
      "outputs": []
    },
    {
      "cell_type": "code",
      "metadata": {
        "id": "quM5eYoULKdP",
        "colab_type": "code",
        "colab": {}
      },
      "source": [
        "df.groupby('emp_title_manager').int_rate.mean()"
      ],
      "execution_count": 0,
      "outputs": []
    },
    {
      "cell_type": "markdown",
      "metadata": {
        "colab_type": "text",
        "id": "s8BcCY6so3by"
      },
      "source": [
        "## Work with dates"
      ]
    },
    {
      "cell_type": "markdown",
      "metadata": {
        "id": "tbctSYUrxhI9",
        "colab_type": "text"
      },
      "source": [
        "pandas documentation\n",
        "- [to_datetime](https://pandas.pydata.org/pandas-docs/stable/generated/pandas.to_datetime.html)\n",
        "- [Time/Date Components](https://pandas.pydata.org/pandas-docs/stable/timeseries.html#time-date-components) \"You can access these properties via the `.dt` accessor\""
      ]
    },
    {
      "cell_type": "code",
      "metadata": {
        "colab_type": "code",
        "id": "kNrKxOTeo4W3",
        "colab": {}
      },
      "source": [
        "df['issue_d'].describe()"
      ],
      "execution_count": 0,
      "outputs": []
    },
    {
      "cell_type": "code",
      "metadata": {
        "id": "e29YudtxNZUY",
        "colab_type": "code",
        "colab": {}
      },
      "source": [
        "df['issue_d'] = pd.to_datetime(df['issue_d'], infer_datetime_format = True)"
      ],
      "execution_count": 0,
      "outputs": []
    },
    {
      "cell_type": "code",
      "metadata": {
        "id": "yviP1M5NOP6Y",
        "colab_type": "code",
        "colab": {}
      },
      "source": [
        "df['issue_d'].describe()"
      ],
      "execution_count": 0,
      "outputs": []
    },
    {
      "cell_type": "code",
      "metadata": {
        "id": "NTbVYbvuOlt_",
        "colab_type": "code",
        "colab": {}
      },
      "source": [
        "df['issue_d'].iloc [0:5].dt.year"
      ],
      "execution_count": 0,
      "outputs": []
    },
    {
      "cell_type": "code",
      "metadata": {
        "id": "USovbQB4O7fv",
        "colab_type": "code",
        "colab": {}
      },
      "source": [
        "df['issue_month'] = df['issue_d'].dt.month"
      ],
      "execution_count": 0,
      "outputs": []
    },
    {
      "cell_type": "code",
      "metadata": {
        "id": "7uQsGRRwPLlJ",
        "colab_type": "code",
        "colab": {}
      },
      "source": [
        "df['issue_month'].value_counts()"
      ],
      "execution_count": 0,
      "outputs": []
    },
    {
      "cell_type": "code",
      "metadata": {
        "id": "NG2rClwMPrCz",
        "colab_type": "code",
        "colab": {}
      },
      "source": [
        "df['earliest_cr_line']= pd.to_datetime(df['earliest_cr_line'])"
      ],
      "execution_count": 0,
      "outputs": []
    },
    {
      "cell_type": "code",
      "metadata": {
        "id": "r1pdaxgwPf5C",
        "colab_type": "code",
        "colab": {}
      },
      "source": [
        "df['days_since_earliest_cr_line'] = (df['issue_d']-df['earliest_cr_line']).dt.days"
      ],
      "execution_count": 0,
      "outputs": []
    },
    {
      "cell_type": "code",
      "metadata": {
        "id": "Q0lZf-BwQBdV",
        "colab_type": "code",
        "colab": {}
      },
      "source": [
        "df['days_since_earliest_cr_line'].describe()"
      ],
      "execution_count": 0,
      "outputs": []
    },
    {
      "cell_type": "code",
      "metadata": {
        "id": "HKeHIteNQMxG",
        "colab_type": "code",
        "colab": {}
      },
      "source": [
        "[col for col in df if col.endswith('_d')]"
      ],
      "execution_count": 0,
      "outputs": []
    },
    {
      "cell_type": "code",
      "metadata": {
        "id": "ypsAyuDgQazM",
        "colab_type": "code",
        "colab": {}
      },
      "source": [
        "for col in ['last_pymnt_d', 'next_pymnt_d', 'last_credit_pull_d']:\n",
        "  df[col] = pd.to_datetime(df[col])"
      ],
      "execution_count": 0,
      "outputs": []
    },
    {
      "cell_type": "code",
      "metadata": {
        "id": "eaiiK75XQ0if",
        "colab_type": "code",
        "colab": {}
      },
      "source": [
        "df.describe(include = 'datetime')"
      ],
      "execution_count": 0,
      "outputs": []
    },
    {
      "cell_type": "markdown",
      "metadata": {
        "id": "EvMMz2x8xhJJ",
        "colab_type": "text"
      },
      "source": [
        "# ASSIGNMENT\n",
        "\n",
        "- Replicate the lesson code.\n",
        "\n",
        "- Convert the `term` column from string to integer.\n",
        "\n",
        "- Make a column named `loan_status_is_great`. It should contain the integer 1 if `loan_status` is \"Current\" or \"Fully Paid.\" Else it should contain the integer 0.\n",
        "\n",
        "- Make `last_pymnt_d_month` and `last_pymnt_d_year` columns."
      ]
    },
    {
      "cell_type": "markdown",
      "metadata": {
        "id": "9vbMBY3t4jf1",
        "colab_type": "text"
      },
      "source": [
        "## Load in data"
      ]
    },
    {
      "cell_type": "code",
      "metadata": {
        "id": "IbzXnEbR5-ac",
        "colab_type": "code",
        "outputId": "b37af8ce-3b6f-4b98-9162-d969529ef51c",
        "colab": {
          "base_uri": "https://localhost:8080/",
          "height": 366
        }
      },
      "source": [
        "!wget https://resources.lendingclub.com/LoanStats_2019Q1.csv.zip\n",
        "!unzip LoanStats_2019Q1.csv.zip\n",
        "!pip install pandas==0.23.4 #downgrade pandas version to enable crosstab for two binned features\n"
      ],
      "execution_count": 1,
      "outputs": [
        {
          "output_type": "stream",
          "text": [
            "Collecting pandas==0.23.4\n",
            "\u001b[?25l  Downloading https://files.pythonhosted.org/packages/e1/d8/feeb346d41f181e83fba45224ab14a8d8af019b48af742e047f3845d8cff/pandas-0.23.4-cp36-cp36m-manylinux1_x86_64.whl (8.9MB)\n",
            "\u001b[K     |████████████████████████████████| 8.9MB 5.0MB/s \n",
            "\u001b[?25hRequirement already satisfied: pytz>=2011k in /usr/local/lib/python3.6/dist-packages (from pandas==0.23.4) (2018.9)\n",
            "Requirement already satisfied: python-dateutil>=2.5.0 in /usr/local/lib/python3.6/dist-packages (from pandas==0.23.4) (2.5.3)\n",
            "Requirement already satisfied: numpy>=1.9.0 in /usr/local/lib/python3.6/dist-packages (from pandas==0.23.4) (1.16.4)\n",
            "Requirement already satisfied: six>=1.5 in /usr/local/lib/python3.6/dist-packages (from python-dateutil>=2.5.0->pandas==0.23.4) (1.12.0)\n",
            "\u001b[31mERROR: google-colab 1.0.0 has requirement pandas~=0.24.0, but you'll have pandas 0.23.4 which is incompatible.\u001b[0m\n",
            "Installing collected packages: pandas\n",
            "  Found existing installation: pandas 0.24.2\n",
            "    Uninstalling pandas-0.24.2:\n",
            "      Successfully uninstalled pandas-0.24.2\n",
            "Successfully installed pandas-0.23.4\n"
          ],
          "name": "stdout"
        },
        {
          "output_type": "display_data",
          "data": {
            "application/vnd.colab-display-data+json": {
              "pip_warning": {
                "packages": [
                  "pandas"
                ]
              }
            }
          },
          "metadata": {
            "tags": []
          }
        }
      ]
    },
    {
      "cell_type": "markdown",
      "metadata": {
        "id": "IT53EESm6OqB",
        "colab_type": "text"
      },
      "source": [
        "## Import libraries, initialize and inspect dataset"
      ]
    },
    {
      "cell_type": "code",
      "metadata": {
        "id": "j4cJsIpd6MQe",
        "colab_type": "code",
        "outputId": "4b712e02-6451-462c-cf70-6a6c99305ad1",
        "colab": {
          "base_uri": "https://localhost:8080/",
          "height": 331
        }
      },
      "source": [
        "import pandas as pd\n",
        "import numpy as np\n",
        "\n",
        "df = pd.read_csv('LoanStats_2019Q1.csv',skiprows = 1, skipfooter = 2, engine = 'python')\n",
        "print(df.shape)\n",
        "df.head()"
      ],
      "execution_count": 1,
      "outputs": [
        {
          "output_type": "stream",
          "text": [
            "(115675, 144)\n"
          ],
          "name": "stdout"
        },
        {
          "output_type": "execute_result",
          "data": {
            "text/html": [
              "<div>\n",
              "<style scoped>\n",
              "    .dataframe tbody tr th:only-of-type {\n",
              "        vertical-align: middle;\n",
              "    }\n",
              "\n",
              "    .dataframe tbody tr th {\n",
              "        vertical-align: top;\n",
              "    }\n",
              "\n",
              "    .dataframe thead th {\n",
              "        text-align: right;\n",
              "    }\n",
              "</style>\n",
              "<table border=\"1\" class=\"dataframe\">\n",
              "  <thead>\n",
              "    <tr style=\"text-align: right;\">\n",
              "      <th></th>\n",
              "      <th>id</th>\n",
              "      <th>member_id</th>\n",
              "      <th>loan_amnt</th>\n",
              "      <th>funded_amnt</th>\n",
              "      <th>funded_amnt_inv</th>\n",
              "      <th>term</th>\n",
              "      <th>int_rate</th>\n",
              "      <th>installment</th>\n",
              "      <th>grade</th>\n",
              "      <th>sub_grade</th>\n",
              "      <th>emp_title</th>\n",
              "      <th>emp_length</th>\n",
              "      <th>home_ownership</th>\n",
              "      <th>annual_inc</th>\n",
              "      <th>verification_status</th>\n",
              "      <th>issue_d</th>\n",
              "      <th>loan_status</th>\n",
              "      <th>pymnt_plan</th>\n",
              "      <th>url</th>\n",
              "      <th>desc</th>\n",
              "      <th>purpose</th>\n",
              "      <th>title</th>\n",
              "      <th>zip_code</th>\n",
              "      <th>addr_state</th>\n",
              "      <th>dti</th>\n",
              "      <th>delinq_2yrs</th>\n",
              "      <th>earliest_cr_line</th>\n",
              "      <th>inq_last_6mths</th>\n",
              "      <th>mths_since_last_delinq</th>\n",
              "      <th>mths_since_last_record</th>\n",
              "      <th>open_acc</th>\n",
              "      <th>pub_rec</th>\n",
              "      <th>revol_bal</th>\n",
              "      <th>revol_util</th>\n",
              "      <th>total_acc</th>\n",
              "      <th>initial_list_status</th>\n",
              "      <th>out_prncp</th>\n",
              "      <th>out_prncp_inv</th>\n",
              "      <th>total_pymnt</th>\n",
              "      <th>total_pymnt_inv</th>\n",
              "      <th>...</th>\n",
              "      <th>percent_bc_gt_75</th>\n",
              "      <th>pub_rec_bankruptcies</th>\n",
              "      <th>tax_liens</th>\n",
              "      <th>tot_hi_cred_lim</th>\n",
              "      <th>total_bal_ex_mort</th>\n",
              "      <th>total_bc_limit</th>\n",
              "      <th>total_il_high_credit_limit</th>\n",
              "      <th>revol_bal_joint</th>\n",
              "      <th>sec_app_earliest_cr_line</th>\n",
              "      <th>sec_app_inq_last_6mths</th>\n",
              "      <th>sec_app_mort_acc</th>\n",
              "      <th>sec_app_open_acc</th>\n",
              "      <th>sec_app_revol_util</th>\n",
              "      <th>sec_app_open_act_il</th>\n",
              "      <th>sec_app_num_rev_accts</th>\n",
              "      <th>sec_app_chargeoff_within_12_mths</th>\n",
              "      <th>sec_app_collections_12_mths_ex_med</th>\n",
              "      <th>sec_app_mths_since_last_major_derog</th>\n",
              "      <th>hardship_flag</th>\n",
              "      <th>hardship_type</th>\n",
              "      <th>hardship_reason</th>\n",
              "      <th>hardship_status</th>\n",
              "      <th>deferral_term</th>\n",
              "      <th>hardship_amount</th>\n",
              "      <th>hardship_start_date</th>\n",
              "      <th>hardship_end_date</th>\n",
              "      <th>payment_plan_start_date</th>\n",
              "      <th>hardship_length</th>\n",
              "      <th>hardship_dpd</th>\n",
              "      <th>hardship_loan_status</th>\n",
              "      <th>orig_projected_additional_accrued_interest</th>\n",
              "      <th>hardship_payoff_balance_amount</th>\n",
              "      <th>hardship_last_payment_amount</th>\n",
              "      <th>debt_settlement_flag</th>\n",
              "      <th>debt_settlement_flag_date</th>\n",
              "      <th>settlement_status</th>\n",
              "      <th>settlement_date</th>\n",
              "      <th>settlement_amount</th>\n",
              "      <th>settlement_percentage</th>\n",
              "      <th>settlement_term</th>\n",
              "    </tr>\n",
              "  </thead>\n",
              "  <tbody>\n",
              "    <tr>\n",
              "      <th>0</th>\n",
              "      <td>NaN</td>\n",
              "      <td>NaN</td>\n",
              "      <td>20000</td>\n",
              "      <td>20000</td>\n",
              "      <td>20000</td>\n",
              "      <td>60 months</td>\n",
              "      <td>17.19%</td>\n",
              "      <td>499.10</td>\n",
              "      <td>C</td>\n",
              "      <td>C5</td>\n",
              "      <td>Front desk supervisor</td>\n",
              "      <td>6 years</td>\n",
              "      <td>RENT</td>\n",
              "      <td>47000.0</td>\n",
              "      <td>Source Verified</td>\n",
              "      <td>Mar-2019</td>\n",
              "      <td>Current</td>\n",
              "      <td>n</td>\n",
              "      <td>NaN</td>\n",
              "      <td>NaN</td>\n",
              "      <td>debt_consolidation</td>\n",
              "      <td>Debt consolidation</td>\n",
              "      <td>958xx</td>\n",
              "      <td>CA</td>\n",
              "      <td>14.02</td>\n",
              "      <td>0</td>\n",
              "      <td>Sep-2006</td>\n",
              "      <td>1</td>\n",
              "      <td>50.0</td>\n",
              "      <td>NaN</td>\n",
              "      <td>15</td>\n",
              "      <td>0</td>\n",
              "      <td>10687</td>\n",
              "      <td>19.7%</td>\n",
              "      <td>53</td>\n",
              "      <td>w</td>\n",
              "      <td>19254.76</td>\n",
              "      <td>19254.76</td>\n",
              "      <td>1459.10</td>\n",
              "      <td>1459.10</td>\n",
              "      <td>...</td>\n",
              "      <td>12.5</td>\n",
              "      <td>0</td>\n",
              "      <td>0</td>\n",
              "      <td>75824</td>\n",
              "      <td>31546</td>\n",
              "      <td>33800</td>\n",
              "      <td>21524</td>\n",
              "      <td>NaN</td>\n",
              "      <td>NaN</td>\n",
              "      <td>NaN</td>\n",
              "      <td>NaN</td>\n",
              "      <td>NaN</td>\n",
              "      <td>NaN</td>\n",
              "      <td>NaN</td>\n",
              "      <td>NaN</td>\n",
              "      <td>NaN</td>\n",
              "      <td>NaN</td>\n",
              "      <td>NaN</td>\n",
              "      <td>N</td>\n",
              "      <td>NaN</td>\n",
              "      <td>NaN</td>\n",
              "      <td>NaN</td>\n",
              "      <td>NaN</td>\n",
              "      <td>NaN</td>\n",
              "      <td>NaN</td>\n",
              "      <td>NaN</td>\n",
              "      <td>NaN</td>\n",
              "      <td>NaN</td>\n",
              "      <td>NaN</td>\n",
              "      <td>NaN</td>\n",
              "      <td>NaN</td>\n",
              "      <td>NaN</td>\n",
              "      <td>NaN</td>\n",
              "      <td>N</td>\n",
              "      <td>NaN</td>\n",
              "      <td>NaN</td>\n",
              "      <td>NaN</td>\n",
              "      <td>NaN</td>\n",
              "      <td>NaN</td>\n",
              "      <td>NaN</td>\n",
              "    </tr>\n",
              "    <tr>\n",
              "      <th>1</th>\n",
              "      <td>NaN</td>\n",
              "      <td>NaN</td>\n",
              "      <td>12000</td>\n",
              "      <td>12000</td>\n",
              "      <td>12000</td>\n",
              "      <td>36 months</td>\n",
              "      <td>16.40%</td>\n",
              "      <td>424.26</td>\n",
              "      <td>C</td>\n",
              "      <td>C4</td>\n",
              "      <td>Executive Director</td>\n",
              "      <td>4 years</td>\n",
              "      <td>MORTGAGE</td>\n",
              "      <td>95000.0</td>\n",
              "      <td>Not Verified</td>\n",
              "      <td>Mar-2019</td>\n",
              "      <td>Current</td>\n",
              "      <td>n</td>\n",
              "      <td>NaN</td>\n",
              "      <td>NaN</td>\n",
              "      <td>debt_consolidation</td>\n",
              "      <td>Debt consolidation</td>\n",
              "      <td>436xx</td>\n",
              "      <td>OH</td>\n",
              "      <td>29.50</td>\n",
              "      <td>0</td>\n",
              "      <td>Nov-1992</td>\n",
              "      <td>0</td>\n",
              "      <td>29.0</td>\n",
              "      <td>NaN</td>\n",
              "      <td>19</td>\n",
              "      <td>0</td>\n",
              "      <td>16619</td>\n",
              "      <td>64.9%</td>\n",
              "      <td>36</td>\n",
              "      <td>w</td>\n",
              "      <td>11475.92</td>\n",
              "      <td>11475.92</td>\n",
              "      <td>826.65</td>\n",
              "      <td>826.65</td>\n",
              "      <td>...</td>\n",
              "      <td>66.7</td>\n",
              "      <td>0</td>\n",
              "      <td>0</td>\n",
              "      <td>209488</td>\n",
              "      <td>51734</td>\n",
              "      <td>18500</td>\n",
              "      <td>54263</td>\n",
              "      <td>NaN</td>\n",
              "      <td>NaN</td>\n",
              "      <td>NaN</td>\n",
              "      <td>NaN</td>\n",
              "      <td>NaN</td>\n",
              "      <td>NaN</td>\n",
              "      <td>NaN</td>\n",
              "      <td>NaN</td>\n",
              "      <td>NaN</td>\n",
              "      <td>NaN</td>\n",
              "      <td>NaN</td>\n",
              "      <td>N</td>\n",
              "      <td>NaN</td>\n",
              "      <td>NaN</td>\n",
              "      <td>NaN</td>\n",
              "      <td>NaN</td>\n",
              "      <td>NaN</td>\n",
              "      <td>NaN</td>\n",
              "      <td>NaN</td>\n",
              "      <td>NaN</td>\n",
              "      <td>NaN</td>\n",
              "      <td>NaN</td>\n",
              "      <td>NaN</td>\n",
              "      <td>NaN</td>\n",
              "      <td>NaN</td>\n",
              "      <td>NaN</td>\n",
              "      <td>N</td>\n",
              "      <td>NaN</td>\n",
              "      <td>NaN</td>\n",
              "      <td>NaN</td>\n",
              "      <td>NaN</td>\n",
              "      <td>NaN</td>\n",
              "      <td>NaN</td>\n",
              "    </tr>\n",
              "    <tr>\n",
              "      <th>2</th>\n",
              "      <td>NaN</td>\n",
              "      <td>NaN</td>\n",
              "      <td>3000</td>\n",
              "      <td>3000</td>\n",
              "      <td>3000</td>\n",
              "      <td>36 months</td>\n",
              "      <td>14.74%</td>\n",
              "      <td>103.62</td>\n",
              "      <td>C</td>\n",
              "      <td>C2</td>\n",
              "      <td>Office Manager</td>\n",
              "      <td>4 years</td>\n",
              "      <td>MORTGAGE</td>\n",
              "      <td>58750.0</td>\n",
              "      <td>Verified</td>\n",
              "      <td>Mar-2019</td>\n",
              "      <td>Current</td>\n",
              "      <td>n</td>\n",
              "      <td>NaN</td>\n",
              "      <td>NaN</td>\n",
              "      <td>medical</td>\n",
              "      <td>Medical expenses</td>\n",
              "      <td>327xx</td>\n",
              "      <td>FL</td>\n",
              "      <td>30.91</td>\n",
              "      <td>0</td>\n",
              "      <td>Jun-2004</td>\n",
              "      <td>0</td>\n",
              "      <td>24.0</td>\n",
              "      <td>NaN</td>\n",
              "      <td>16</td>\n",
              "      <td>0</td>\n",
              "      <td>20502</td>\n",
              "      <td>60.1%</td>\n",
              "      <td>25</td>\n",
              "      <td>f</td>\n",
              "      <td>2865.64</td>\n",
              "      <td>2865.64</td>\n",
              "      <td>202.33</td>\n",
              "      <td>202.33</td>\n",
              "      <td>...</td>\n",
              "      <td>71.4</td>\n",
              "      <td>0</td>\n",
              "      <td>0</td>\n",
              "      <td>69911</td>\n",
              "      <td>37816</td>\n",
              "      <td>11400</td>\n",
              "      <td>35811</td>\n",
              "      <td>NaN</td>\n",
              "      <td>NaN</td>\n",
              "      <td>NaN</td>\n",
              "      <td>NaN</td>\n",
              "      <td>NaN</td>\n",
              "      <td>NaN</td>\n",
              "      <td>NaN</td>\n",
              "      <td>NaN</td>\n",
              "      <td>NaN</td>\n",
              "      <td>NaN</td>\n",
              "      <td>NaN</td>\n",
              "      <td>N</td>\n",
              "      <td>NaN</td>\n",
              "      <td>NaN</td>\n",
              "      <td>NaN</td>\n",
              "      <td>NaN</td>\n",
              "      <td>NaN</td>\n",
              "      <td>NaN</td>\n",
              "      <td>NaN</td>\n",
              "      <td>NaN</td>\n",
              "      <td>NaN</td>\n",
              "      <td>NaN</td>\n",
              "      <td>NaN</td>\n",
              "      <td>NaN</td>\n",
              "      <td>NaN</td>\n",
              "      <td>NaN</td>\n",
              "      <td>N</td>\n",
              "      <td>NaN</td>\n",
              "      <td>NaN</td>\n",
              "      <td>NaN</td>\n",
              "      <td>NaN</td>\n",
              "      <td>NaN</td>\n",
              "      <td>NaN</td>\n",
              "    </tr>\n",
              "    <tr>\n",
              "      <th>3</th>\n",
              "      <td>NaN</td>\n",
              "      <td>NaN</td>\n",
              "      <td>35000</td>\n",
              "      <td>35000</td>\n",
              "      <td>35000</td>\n",
              "      <td>36 months</td>\n",
              "      <td>15.57%</td>\n",
              "      <td>1223.08</td>\n",
              "      <td>C</td>\n",
              "      <td>C3</td>\n",
              "      <td>Store Manager</td>\n",
              "      <td>10+ years</td>\n",
              "      <td>RENT</td>\n",
              "      <td>122000.0</td>\n",
              "      <td>Verified</td>\n",
              "      <td>Mar-2019</td>\n",
              "      <td>Current</td>\n",
              "      <td>n</td>\n",
              "      <td>NaN</td>\n",
              "      <td>NaN</td>\n",
              "      <td>credit_card</td>\n",
              "      <td>Credit card refinancing</td>\n",
              "      <td>333xx</td>\n",
              "      <td>FL</td>\n",
              "      <td>22.00</td>\n",
              "      <td>1</td>\n",
              "      <td>Dec-2009</td>\n",
              "      <td>0</td>\n",
              "      <td>20.0</td>\n",
              "      <td>NaN</td>\n",
              "      <td>5</td>\n",
              "      <td>0</td>\n",
              "      <td>1441</td>\n",
              "      <td>24.4%</td>\n",
              "      <td>18</td>\n",
              "      <td>w</td>\n",
              "      <td>33459.43</td>\n",
              "      <td>33459.43</td>\n",
              "      <td>2446.76</td>\n",
              "      <td>2446.76</td>\n",
              "      <td>...</td>\n",
              "      <td>100.0</td>\n",
              "      <td>0</td>\n",
              "      <td>0</td>\n",
              "      <td>65640</td>\n",
              "      <td>24471</td>\n",
              "      <td>1600</td>\n",
              "      <td>59740</td>\n",
              "      <td>NaN</td>\n",
              "      <td>NaN</td>\n",
              "      <td>NaN</td>\n",
              "      <td>NaN</td>\n",
              "      <td>NaN</td>\n",
              "      <td>NaN</td>\n",
              "      <td>NaN</td>\n",
              "      <td>NaN</td>\n",
              "      <td>NaN</td>\n",
              "      <td>NaN</td>\n",
              "      <td>NaN</td>\n",
              "      <td>N</td>\n",
              "      <td>NaN</td>\n",
              "      <td>NaN</td>\n",
              "      <td>NaN</td>\n",
              "      <td>NaN</td>\n",
              "      <td>NaN</td>\n",
              "      <td>NaN</td>\n",
              "      <td>NaN</td>\n",
              "      <td>NaN</td>\n",
              "      <td>NaN</td>\n",
              "      <td>NaN</td>\n",
              "      <td>NaN</td>\n",
              "      <td>NaN</td>\n",
              "      <td>NaN</td>\n",
              "      <td>NaN</td>\n",
              "      <td>N</td>\n",
              "      <td>NaN</td>\n",
              "      <td>NaN</td>\n",
              "      <td>NaN</td>\n",
              "      <td>NaN</td>\n",
              "      <td>NaN</td>\n",
              "      <td>NaN</td>\n",
              "    </tr>\n",
              "    <tr>\n",
              "      <th>4</th>\n",
              "      <td>NaN</td>\n",
              "      <td>NaN</td>\n",
              "      <td>5000</td>\n",
              "      <td>5000</td>\n",
              "      <td>5000</td>\n",
              "      <td>36 months</td>\n",
              "      <td>15.57%</td>\n",
              "      <td>174.73</td>\n",
              "      <td>C</td>\n",
              "      <td>C3</td>\n",
              "      <td>Area Manager</td>\n",
              "      <td>3 years</td>\n",
              "      <td>OWN</td>\n",
              "      <td>65000.0</td>\n",
              "      <td>Verified</td>\n",
              "      <td>Mar-2019</td>\n",
              "      <td>Current</td>\n",
              "      <td>n</td>\n",
              "      <td>NaN</td>\n",
              "      <td>NaN</td>\n",
              "      <td>house</td>\n",
              "      <td>Home buying</td>\n",
              "      <td>640xx</td>\n",
              "      <td>MO</td>\n",
              "      <td>16.28</td>\n",
              "      <td>1</td>\n",
              "      <td>Jul-2001</td>\n",
              "      <td>0</td>\n",
              "      <td>7.0</td>\n",
              "      <td>NaN</td>\n",
              "      <td>9</td>\n",
              "      <td>0</td>\n",
              "      <td>5604</td>\n",
              "      <td>64.4%</td>\n",
              "      <td>25</td>\n",
              "      <td>w</td>\n",
              "      <td>4778.86</td>\n",
              "      <td>4778.86</td>\n",
              "      <td>340.81</td>\n",
              "      <td>340.81</td>\n",
              "      <td>...</td>\n",
              "      <td>50.0</td>\n",
              "      <td>0</td>\n",
              "      <td>0</td>\n",
              "      <td>38190</td>\n",
              "      <td>29775</td>\n",
              "      <td>4400</td>\n",
              "      <td>29490</td>\n",
              "      <td>NaN</td>\n",
              "      <td>NaN</td>\n",
              "      <td>NaN</td>\n",
              "      <td>NaN</td>\n",
              "      <td>NaN</td>\n",
              "      <td>NaN</td>\n",
              "      <td>NaN</td>\n",
              "      <td>NaN</td>\n",
              "      <td>NaN</td>\n",
              "      <td>NaN</td>\n",
              "      <td>NaN</td>\n",
              "      <td>N</td>\n",
              "      <td>NaN</td>\n",
              "      <td>NaN</td>\n",
              "      <td>NaN</td>\n",
              "      <td>NaN</td>\n",
              "      <td>NaN</td>\n",
              "      <td>NaN</td>\n",
              "      <td>NaN</td>\n",
              "      <td>NaN</td>\n",
              "      <td>NaN</td>\n",
              "      <td>NaN</td>\n",
              "      <td>NaN</td>\n",
              "      <td>NaN</td>\n",
              "      <td>NaN</td>\n",
              "      <td>NaN</td>\n",
              "      <td>N</td>\n",
              "      <td>NaN</td>\n",
              "      <td>NaN</td>\n",
              "      <td>NaN</td>\n",
              "      <td>NaN</td>\n",
              "      <td>NaN</td>\n",
              "      <td>NaN</td>\n",
              "    </tr>\n",
              "  </tbody>\n",
              "</table>\n",
              "</div>"
            ],
            "text/plain": [
              "   id  member_id       ...         settlement_percentage  settlement_term\n",
              "0 NaN        NaN       ...                           NaN              NaN\n",
              "1 NaN        NaN       ...                           NaN              NaN\n",
              "2 NaN        NaN       ...                           NaN              NaN\n",
              "3 NaN        NaN       ...                           NaN              NaN\n",
              "4 NaN        NaN       ...                           NaN              NaN\n",
              "\n",
              "[5 rows x 144 columns]"
            ]
          },
          "metadata": {
            "tags": []
          },
          "execution_count": 1
        }
      ]
    },
    {
      "cell_type": "markdown",
      "metadata": {
        "id": "bSq5gegq8Rdc",
        "colab_type": "text"
      },
      "source": [
        "## inspect 'term' column and change variable type"
      ]
    },
    {
      "cell_type": "code",
      "metadata": {
        "id": "grqPm6ShRQnn",
        "colab_type": "code",
        "outputId": "19d05cc3-be63-4895-cf9b-3f437051747f",
        "colab": {
          "base_uri": "https://localhost:8080/",
          "height": 182
        }
      },
      "source": [
        "print(df.term.head())\n",
        "df.term.value_counts()"
      ],
      "execution_count": 2,
      "outputs": [
        {
          "output_type": "stream",
          "text": [
            "0     60 months\n",
            "1     36 months\n",
            "2     36 months\n",
            "3     36 months\n",
            "4     36 months\n",
            "Name: term, dtype: object\n"
          ],
          "name": "stdout"
        },
        {
          "output_type": "execute_result",
          "data": {
            "text/plain": [
              " 36 months    78429\n",
              " 60 months    37246\n",
              "Name: term, dtype: int64"
            ]
          },
          "metadata": {
            "tags": []
          },
          "execution_count": 2
        }
      ]
    },
    {
      "cell_type": "code",
      "metadata": {
        "id": "6f5c9Vmj4VtQ",
        "colab_type": "code",
        "outputId": "22e4b7d5-5646-4f6e-9bb3-ee03bdfc8fb3",
        "colab": {
          "base_uri": "https://localhost:8080/",
          "height": 127
        }
      },
      "source": [
        "def remove_text(string):\n",
        "  return int(string.strip(' months'))\n",
        "\n",
        "df['term'] = df['term'].apply(remove_text)\n",
        "df.term.head()"
      ],
      "execution_count": 3,
      "outputs": [
        {
          "output_type": "execute_result",
          "data": {
            "text/plain": [
              "0    60\n",
              "1    36\n",
              "2    36\n",
              "3    36\n",
              "4    36\n",
              "Name: term, dtype: int64"
            ]
          },
          "metadata": {
            "tags": []
          },
          "execution_count": 3
        }
      ]
    },
    {
      "cell_type": "markdown",
      "metadata": {
        "id": "X0oWbDb6-nOX",
        "colab_type": "text"
      },
      "source": [
        "## Create new column"
      ]
    },
    {
      "cell_type": "code",
      "metadata": {
        "id": "XAfvWS-q_ApN",
        "colab_type": "code",
        "outputId": "8e399a3a-e814-497d-9fad-6e2f77add1a2",
        "colab": {
          "base_uri": "https://localhost:8080/",
          "height": 146
        }
      },
      "source": [
        "df.loan_status.value_counts()"
      ],
      "execution_count": 4,
      "outputs": [
        {
          "output_type": "execute_result",
          "data": {
            "text/plain": [
              "Current               109176\n",
              "Fully Paid              4730\n",
              "Late (31-120 days)       795\n",
              "In Grace Period          538\n",
              "Late (16-30 days)        260\n",
              "Charged Off              176\n",
              "Name: loan_status, dtype: int64"
            ]
          },
          "metadata": {
            "tags": []
          },
          "execution_count": 4
        }
      ]
    },
    {
      "cell_type": "code",
      "metadata": {
        "id": "vT-nOqRT_k3A",
        "colab_type": "code",
        "outputId": "809d22da-7442-4400-82dc-ac9a8d5a4651",
        "colab": {
          "base_uri": "https://localhost:8080/",
          "height": 72
        }
      },
      "source": [
        "df['loan_status_is_great'] = np.where((df['loan_status']== 'Current')|(df['loan_status']=='Fully Paid'), 1, 0)\n",
        "\n",
        "df['loan_status_is_great'].value_counts()"
      ],
      "execution_count": 5,
      "outputs": [
        {
          "output_type": "execute_result",
          "data": {
            "text/plain": [
              "1    113906\n",
              "0      1769\n",
              "Name: loan_status_is_great, dtype: int64"
            ]
          },
          "metadata": {
            "tags": []
          },
          "execution_count": 5
        }
      ]
    },
    {
      "cell_type": "code",
      "metadata": {
        "id": "zDfW1V1FCsnI",
        "colab_type": "code",
        "outputId": "b8613cf2-3cc1-4366-dd0f-e1828cdb9abf",
        "colab": {
          "base_uri": "https://localhost:8080/",
          "height": 206
        }
      },
      "source": [
        "col_dates = [col for col in df if col.endswith('_d')]\n",
        "for col in col_dates:\n",
        "  df[col] = pd.to_datetime(df[col], infer_datetime_format = True)\n",
        "  \n",
        "df[col_dates].head()"
      ],
      "execution_count": 6,
      "outputs": [
        {
          "output_type": "execute_result",
          "data": {
            "text/html": [
              "<div>\n",
              "<style scoped>\n",
              "    .dataframe tbody tr th:only-of-type {\n",
              "        vertical-align: middle;\n",
              "    }\n",
              "\n",
              "    .dataframe tbody tr th {\n",
              "        vertical-align: top;\n",
              "    }\n",
              "\n",
              "    .dataframe thead th {\n",
              "        text-align: right;\n",
              "    }\n",
              "</style>\n",
              "<table border=\"1\" class=\"dataframe\">\n",
              "  <thead>\n",
              "    <tr style=\"text-align: right;\">\n",
              "      <th></th>\n",
              "      <th>issue_d</th>\n",
              "      <th>last_pymnt_d</th>\n",
              "      <th>next_pymnt_d</th>\n",
              "      <th>last_credit_pull_d</th>\n",
              "    </tr>\n",
              "  </thead>\n",
              "  <tbody>\n",
              "    <tr>\n",
              "      <th>0</th>\n",
              "      <td>2019-03-01</td>\n",
              "      <td>2019-06-01</td>\n",
              "      <td>2019-07-01</td>\n",
              "      <td>2019-06-01</td>\n",
              "    </tr>\n",
              "    <tr>\n",
              "      <th>1</th>\n",
              "      <td>2019-03-01</td>\n",
              "      <td>2019-05-01</td>\n",
              "      <td>2019-07-01</td>\n",
              "      <td>2019-06-01</td>\n",
              "    </tr>\n",
              "    <tr>\n",
              "      <th>2</th>\n",
              "      <td>2019-03-01</td>\n",
              "      <td>2019-05-01</td>\n",
              "      <td>2019-07-01</td>\n",
              "      <td>2019-06-01</td>\n",
              "    </tr>\n",
              "    <tr>\n",
              "      <th>3</th>\n",
              "      <td>2019-03-01</td>\n",
              "      <td>2019-06-01</td>\n",
              "      <td>2019-07-01</td>\n",
              "      <td>2019-06-01</td>\n",
              "    </tr>\n",
              "    <tr>\n",
              "      <th>4</th>\n",
              "      <td>2019-03-01</td>\n",
              "      <td>2019-05-01</td>\n",
              "      <td>2019-07-01</td>\n",
              "      <td>2019-06-01</td>\n",
              "    </tr>\n",
              "  </tbody>\n",
              "</table>\n",
              "</div>"
            ],
            "text/plain": [
              "     issue_d last_pymnt_d next_pymnt_d last_credit_pull_d\n",
              "0 2019-03-01   2019-06-01   2019-07-01         2019-06-01\n",
              "1 2019-03-01   2019-05-01   2019-07-01         2019-06-01\n",
              "2 2019-03-01   2019-05-01   2019-07-01         2019-06-01\n",
              "3 2019-03-01   2019-06-01   2019-07-01         2019-06-01\n",
              "4 2019-03-01   2019-05-01   2019-07-01         2019-06-01"
            ]
          },
          "metadata": {
            "tags": []
          },
          "execution_count": 6
        }
      ]
    },
    {
      "cell_type": "code",
      "metadata": {
        "id": "XLp5sWqAEqvM",
        "colab_type": "code",
        "outputId": "58518506-6380-4797-cc8b-451b20824b92",
        "colab": {
          "base_uri": "https://localhost:8080/",
          "height": 201
        }
      },
      "source": [
        "df['last_pymnt_d_month'] = df['last_pymnt_d'].dt.month\n",
        "df['last_pymnt_d_year'] = df['last_pymnt_d'].dt.year\n",
        "\n",
        "print(df['last_pymnt_d_month'].value_counts())\n",
        "df['last_pymnt_d_year'].value_counts()"
      ],
      "execution_count": 7,
      "outputs": [
        {
          "output_type": "stream",
          "text": [
            "6.0    102101\n",
            "5.0      9503\n",
            "4.0      1581\n",
            "3.0      1187\n",
            "2.0       864\n",
            "1.0       208\n",
            "7.0         1\n",
            "Name: last_pymnt_d_month, dtype: int64\n"
          ],
          "name": "stdout"
        },
        {
          "output_type": "execute_result",
          "data": {
            "text/plain": [
              "2019.0    115445\n",
              "Name: last_pymnt_d_year, dtype: int64"
            ]
          },
          "metadata": {
            "tags": []
          },
          "execution_count": 7
        }
      ]
    },
    {
      "cell_type": "markdown",
      "metadata": {
        "colab_type": "text",
        "id": "L8k0LiHmo5EU"
      },
      "source": [
        "# STRETCH OPTIONS\n",
        "\n",
        "You can do more with the LendingClub or Instacart datasets.\n",
        "\n",
        "LendingClub options:\n",
        "- There's one other column in the dataframe with percent signs. Remove them and convert to floats. You'll need to handle missing values.\n",
        "- Modify the `emp_title` column to replace titles with 'Other' if the title is not in the top 20. \n",
        "- Take initiatve and work on your own ideas!\n",
        "\n",
        "Instacart options:\n",
        "- Read [Instacart Market Basket Analysis, Winner's Interview: 2nd place, Kazuki Onodera](http://blog.kaggle.com/2017/09/21/instacart-market-basket-analysis-winners-interview-2nd-place-kazuki-onodera/), especially the **Feature Engineering** section. (Can you choose one feature from his bulleted lists, and try to engineer it with pandas code?)\n",
        "- Read and replicate parts of [Simple Exploration Notebook - Instacart](https://www.kaggle.com/sudalairajkumar/simple-exploration-notebook-instacart). (It's the Python Notebook with the most upvotes for this Kaggle competition.)\n",
        "- Take initiative and work on your own ideas!"
      ]
    },
    {
      "cell_type": "markdown",
      "metadata": {
        "id": "kmcL9NaYGvcF",
        "colab_type": "text"
      },
      "source": [
        "## Lending Club Stretch"
      ]
    },
    {
      "cell_type": "markdown",
      "metadata": {
        "id": "TFgNSq5iG1d1",
        "colab_type": "text"
      },
      "source": [
        "### find and update columns with percent sign, convert to float, handle missing values"
      ]
    },
    {
      "cell_type": "code",
      "metadata": {
        "id": "gqeikweOGuvD",
        "colab_type": "code",
        "colab": {}
      },
      "source": [
        "df.head()"
      ],
      "execution_count": 0,
      "outputs": []
    },
    {
      "cell_type": "code",
      "metadata": {
        "id": "SdxqKJEVSEDD",
        "colab_type": "code",
        "colab": {}
      },
      "source": [
        "df.shape"
      ],
      "execution_count": 0,
      "outputs": []
    },
    {
      "cell_type": "code",
      "metadata": {
        "id": "dvUjCGUiH1HZ",
        "colab_type": "code",
        "colab": {}
      },
      "source": [
        "print(df.revol_util.isna().sum())\n",
        "print(df.revol_util.value_counts())\n",
        "df.revol_util.head()"
      ],
      "execution_count": 0,
      "outputs": []
    },
    {
      "cell_type": "code",
      "metadata": {
        "id": "c0jQEX92SO0C",
        "colab_type": "code",
        "outputId": "3e0376a8-fb7e-4d58-872a-a2de277f6df0",
        "colab": {
          "base_uri": "https://localhost:8080/",
          "height": 35
        }
      },
      "source": [
        "df.revol_util.fillna(method = 'ffill', inplace = True)\n",
        "df.revol_util.isna().sum()"
      ],
      "execution_count": 8,
      "outputs": [
        {
          "output_type": "execute_result",
          "data": {
            "text/plain": [
              "0"
            ]
          },
          "metadata": {
            "tags": []
          },
          "execution_count": 8
        }
      ]
    },
    {
      "cell_type": "code",
      "metadata": {
        "id": "dZHGweSOIT0S",
        "colab_type": "code",
        "colab": {}
      },
      "source": [
        "def remove_perc(string):\n",
        "  return float(string.strip('%'))\n",
        "\n",
        "df['int_rate'] = df['int_rate'].apply(remove_perc)\n",
        "df['revol_util'] = df['revol_util'].apply(remove_perc)"
      ],
      "execution_count": 0,
      "outputs": []
    },
    {
      "cell_type": "code",
      "metadata": {
        "id": "bjZhbe95Tlh2",
        "colab_type": "code",
        "colab": {}
      },
      "source": [
        "print(df.int_rate.head())\n",
        "df.revol_util.head()"
      ],
      "execution_count": 0,
      "outputs": []
    },
    {
      "cell_type": "markdown",
      "metadata": {
        "id": "gw9lH463Unva",
        "colab_type": "text"
      },
      "source": [
        "### Change emp_title to other if not in top 20"
      ]
    },
    {
      "cell_type": "code",
      "metadata": {
        "id": "dcsCvedKT-26",
        "colab_type": "code",
        "colab": {}
      },
      "source": [
        "df.emp_title.value_counts()"
      ],
      "execution_count": 0,
      "outputs": []
    },
    {
      "cell_type": "code",
      "metadata": {
        "id": "uAlp_vMNW_Dp",
        "colab_type": "code",
        "colab": {}
      },
      "source": [
        "def replacement(col1,col2,string,out):\n",
        "  df[col1] = np.where((df[col2].str.contains(string, case = False) == True), out, df[col2])\n",
        "  \n",
        "  return df[col1]                    "
      ],
      "execution_count": 0,
      "outputs": []
    },
    {
      "cell_type": "code",
      "metadata": {
        "id": "Qlb4Ze2PXlhw",
        "colab_type": "code",
        "colab": {}
      },
      "source": [
        "# create new column 'emp_title2' and tidy up the column entries;\n",
        "# it is best to do this before checking what the top 20 titles are\n",
        "\n",
        "replacement('emp_title2','emp_title','mana','Manager')\n",
        "replacement('emp_title2','emp_title2','mgr','Manager')\n",
        "replacement('emp_title2','emp_title2','rn','RN')\n",
        "replacement('emp_title2','emp_title2','registered nurse','RN')\n",
        "replacement('emp_title2','emp_title2','nurse','Nurse')\n",
        "replacement('emp_title2','emp_title2','vp','VP')\n",
        "replacement('emp_title2','emp_title2','teacher','Educator')\n",
        "replacement('emp_title2','emp_title2','educator','Educator')\n",
        "replacement('emp_title2','emp_title2','vice president', 'VP')\n",
        "replacement('emp_title2','emp_title2','presi', 'President')\n",
        "replacement('emp_title2','emp_title2','driver','Driver')\n",
        "replacement('emp_title2','emp_title2','supervisor','Supervisor')\n",
        "replacement('emp_title2','emp_title2','owner','Owner')\n",
        "replacement('emp_title2','emp_title2','admin','Administrative Support')\n",
        "replacement('emp_title2','emp_title2','operator','Machine Operator')\n",
        "replacement('emp_title2','emp_title2','ceo','CEO')\n",
        "replacement('emp_title2','emp_title2','underwriter','Underwriter')\n",
        "replacement('emp_title2','emp_title2','director','Director')\n",
        "replacement('emp_title2','emp_title2','tech','Technician')\n",
        "replacement('emp_title2','emp_title2','sales','Sales')\n",
        "replacement('emp_title2','emp_title2','analyst','Analyst')\n",
        "replacement('emp_title2','emp_title2','specialist','Specialist')\n",
        "replacement('emp_title2','emp_title2','labor','Laborer')\n",
        "replacement('emp_title2','emp_title2','maint','Maintenance')\n",
        "replacement('emp_title2','emp_title2','assistant','Assistant')\n",
        "replacement('emp_title2','emp_title2','qa','Quality Assurance')\n",
        "replacement('emp_title2','emp_title2','quality','Quality Assurance')\n",
        "replacement('emp_title2','emp_title2','data','Data Scientist')\n",
        "replacement('emp_title2','emp_title2','coor','Coordinator')\n",
        "replacement('emp_title2','emp_title2','mech','Mechanic')\n",
        "replacement('emp_title2','emp_title2','sched','Scheduler')\n",
        "replacement('emp_title2','emp_title2','secu','Security')\n",
        "replacement('emp_title2','emp_title2','physician','Physician')\n",
        "replacement('emp_title2','emp_title2','oper','Operations')\n",
        "replacement('emp_title2','emp_title2','customer','Customer Service')\n",
        "replacement('emp_title2','emp_title2','represent','Customer Service')\n",
        "replacement('emp_title2','emp_title2','publish','Publisher')\n",
        "replacement('emp_title2','emp_title2','consul','Consultant')\n",
        "replacement('emp_title2','emp_title2','assoc','Associate')\n",
        "replacement('emp_title2','emp_title2','human','HR');"
      ],
      "execution_count": 0,
      "outputs": []
    },
    {
      "cell_type": "code",
      "metadata": {
        "id": "8Gu7H3Vib-46",
        "colab_type": "code",
        "outputId": "60672417-84d6-4168-eec5-0e54686452e5",
        "colab": {
          "base_uri": "https://localhost:8080/",
          "height": 55
        }
      },
      "source": [
        "top_twenty = df.emp_title2.value_counts().index.tolist()[:20]\n",
        "print(top_twenty)\n",
        "\n",
        "top_fifty = df.emp_title2.value_counts().index.tolist()[:50]"
      ],
      "execution_count": 12,
      "outputs": [
        {
          "output_type": "stream",
          "text": [
            "['Manager', 'Technician', 'Director', 'Educator', 'RN', 'Supervisor', 'Driver', 'Specialist', 'Sales', 'Operations', 'Administrative Support', 'Analyst', 'Assistant', 'Coordinator', 'VP', 'Customer Service', 'Nurse', 'Associate', 'Owner', 'Consultant']\n"
          ],
          "name": "stdout"
        }
      ]
    },
    {
      "cell_type": "code",
      "metadata": {
        "id": "M-qj0o7gnR74",
        "colab_type": "code",
        "colab": {}
      },
      "source": [
        "df['emp_title2'] = np.where(df['emp_title2'].isin(top_fifty), df['emp_title2'],'Other')"
      ],
      "execution_count": 0,
      "outputs": []
    },
    {
      "cell_type": "code",
      "metadata": {
        "id": "DcesnJrpvwAU",
        "colab_type": "code",
        "colab": {}
      },
      "source": [
        "df['emp_title2'].value_counts()"
      ],
      "execution_count": 0,
      "outputs": []
    },
    {
      "cell_type": "code",
      "metadata": {
        "id": "v30dJEUv6BRx",
        "colab_type": "code",
        "outputId": "e51d079d-267b-4162-cf5d-b45e44d73fe8",
        "colab": {
          "base_uri": "https://localhost:8080/",
          "height": 559
        }
      },
      "source": [
        "import matplotlib.pyplot as plt\n",
        "# df.groupby('emp_title2').plot.bar(df['int_rate'])\n",
        "\n",
        "int_bins = pd.cut(df['int_rate'], 5)\n",
        "\n",
        "pd.crosstab(df['emp_title2'], int_bins, normalize = 'index').plot.hist(figsize = (16,9), alpha = 0.8, bins = 50)"
      ],
      "execution_count": 14,
      "outputs": [
        {
          "output_type": "execute_result",
          "data": {
            "text/plain": [
              "<matplotlib.axes._subplots.AxesSubplot at 0x7fa934c3aa90>"
            ]
          },
          "metadata": {
            "tags": []
          },
          "execution_count": 14
        },
        {
          "output_type": "display_data",
          "data": {
            "image/png": "[encoded data removed]",
            "text/plain": [
              "<Figure size 1152x648 with 1 Axes>"
            ]
          },
          "metadata": {
            "tags": []
          }
        }
      ]
    },
    {
      "cell_type": "code",
      "metadata": {
        "id": "L5Rt8zlNGSR6",
        "colab_type": "code",
        "outputId": "220a1974-35e5-4d0f-9f78-ae582ee6385c",
        "colab": {
          "base_uri": "https://localhost:8080/",
          "height": 679
        }
      },
      "source": [
        "pd.crosstab(df['emp_title2'], int_bins, normalize = 'index').plot.bar(figsize = (16,9), stacked = True)"
      ],
      "execution_count": 15,
      "outputs": [
        {
          "output_type": "execute_result",
          "data": {
            "text/plain": [
              "<matplotlib.axes._subplots.AxesSubplot at 0x7fa934bfbc18>"
            ]
          },
          "metadata": {
            "tags": []
          },
          "execution_count": 15
        },
        {
          "output_type": "display_data",
          "data": {
            "image/png": "[encoded data removed]",
            "text/plain": [
              "<Figure size 1152x648 with 1 Axes>"
            ]
          },
          "metadata": {
            "tags": []
          }
        }
      ]
    },
    {
      "cell_type": "code",
      "metadata": {
        "id": "yIm00U3U0mn6",
        "colab_type": "code",
        "colab": {
          "base_uri": "https://localhost:8080/",
          "height": 706
        },
        "outputId": "df6951d6-4e90-45b9-d3e5-e7b5e99a6f30"
      },
      "source": [
        "df.boxplot(column = 'int_rate', by = 'emp_title2', figsize= (19,9))\n",
        "plt.xticks(rotation=90)\n",
        "plt.show()"
      ],
      "execution_count": 21,
      "outputs": [
        {
          "output_type": "display_data",
          "data": {
            "image/png": "[encoded data removed]",
            "text/plain": [
              "<Figure size 1368x648 with 1 Axes>"
            ]
          },
          "metadata": {
            "tags": []
          }
        }
      ]
    },
    {
      "cell_type": "markdown",
      "metadata": {
        "id": "p9ebrxgf2wp3",
        "colab_type": "text"
      },
      "source": [
        "Cashiers are more likely to have a higer loan rate than all other groups"
      ]
    },
    {
      "cell_type": "code",
      "metadata": {
        "id": "BMA_U2jvuwqB",
        "colab_type": "code",
        "colab": {
          "base_uri": "https://localhost:8080/",
          "height": 648
        },
        "outputId": "6cfdf193-3753-451f-bb0b-4b69fadbd773"
      },
      "source": [
        "(pd.crosstab(df['emp_title2'],int_bins, normalize = 'index')*100).mean().plot.bar(figsize = (16,9))"
      ],
      "execution_count": 16,
      "outputs": [
        {
          "output_type": "execute_result",
          "data": {
            "text/plain": [
              "<matplotlib.axes._subplots.AxesSubplot at 0x7fa934bcae10>"
            ]
          },
          "metadata": {
            "tags": []
          },
          "execution_count": 16
        },
        {
          "output_type": "display_data",
          "data": {
            "image/png": "[encoded data removed]",
            "text/plain": [
              "<Figure size 1152x648 with 1 Axes>"
            ]
          },
          "metadata": {
            "tags": []
          }
        }
      ]
    },
    {
      "cell_type": "code",
      "metadata": {
        "id": "pO5YFVbUw0-r",
        "colab_type": "code",
        "colab": {
          "base_uri": "https://localhost:8080/",
          "height": 679
        },
        "outputId": "fe2f4f3a-f639-43c9-ccc4-b03f9086b8ff"
      },
      "source": [
        "pd.crosstab(df['emp_title2'], df['loan_status_is_great'], normalize = 'index').plot.bar(figsize = (16,9), stacked = True)"
      ],
      "execution_count": 17,
      "outputs": [
        {
          "output_type": "execute_result",
          "data": {
            "text/plain": [
              "<matplotlib.axes._subplots.AxesSubplot at 0x7fa934b8f550>"
            ]
          },
          "metadata": {
            "tags": []
          },
          "execution_count": 17
        },
        {
          "output_type": "display_data",
          "data": {
            "image/png": "[encoded data removed]",
            "text/plain": [
              "<Figure size 1152x648 with 1 Axes>"
            ]
          },
          "metadata": {
            "tags": []
          }
        }
      ]
    },
    {
      "cell_type": "markdown",
      "metadata": {
        "id": "v9WQMHtD2h5N",
        "colab_type": "text"
      },
      "source": [
        "Schedulers are late on their payments more than any other group of employee types! "
      ]
    },
    {
      "cell_type": "markdown",
      "metadata": {
        "colab_type": "text",
        "id": "0_7PXF7lpEXg"
      },
      "source": [
        "You can uncomment and run the cells below to re-download and extract the Instacart data"
      ]
    },
    {
      "cell_type": "code",
      "metadata": {
        "id": "myMuF-9ExhJV",
        "colab_type": "code",
        "colab": {}
      },
      "source": [
        "# !wget https://s3.amazonaws.com/instacart-datasets/instacart_online_grocery_shopping_2017_05_01.tar.gz"
      ],
      "execution_count": 0,
      "outputs": []
    },
    {
      "cell_type": "code",
      "metadata": {
        "id": "7k0eb0SHxhJd",
        "colab_type": "code",
        "colab": {}
      },
      "source": [
        "# !tar --gunzip --extract --verbose --file=instacart_online_grocery_shopping_2017_05_01.tar.gz"
      ],
      "execution_count": 0,
      "outputs": []
    },
    {
      "cell_type": "code",
      "metadata": {
        "id": "j-TssydYxhJn",
        "colab_type": "code",
        "colab": {}
      },
      "source": [
        "# %cd instacart_2017_05_01"
      ],
      "execution_count": 0,
      "outputs": []
    }
  ]
}