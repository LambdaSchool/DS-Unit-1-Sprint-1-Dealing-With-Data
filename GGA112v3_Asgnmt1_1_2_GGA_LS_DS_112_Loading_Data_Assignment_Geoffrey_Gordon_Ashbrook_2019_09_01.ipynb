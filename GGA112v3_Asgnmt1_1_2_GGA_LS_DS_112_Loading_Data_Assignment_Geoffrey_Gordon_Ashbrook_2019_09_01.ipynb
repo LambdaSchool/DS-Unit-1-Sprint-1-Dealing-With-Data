{
  "nbformat": 4,
  "nbformat_minor": 0,
  "metadata": {
    "colab": {
      "name": "GGA112v3 Asgnmt1.1.2 GGA LS_DS_112_Loading_Data_Assignment Geoffrey Gordon Ashbrook 2019.09.01.ipynb",
      "version": "0.3.2",
      "provenance": [],
      "collapsed_sections": [],
      "include_colab_link": true
    },
    "kernelspec": {
      "name": "python3",
      "display_name": "Python 3"
    }
  },
  "cells": [
    {
      "cell_type": "markdown",
      "metadata": {
        "id": "view-in-github",
        "colab_type": "text"
      },
      "source": [
        "<a href=\"https://colab.research.google.com/github/lineality/DS-Unit-1-Sprint-1-Dealing-With-Data/blob/master/GGA112v3_Asgnmt1_1_2_GGA_LS_DS_112_Loading_Data_Assignment_Geoffrey_Gordon_Ashbrook_2019_09_01.ipynb\" target=\"_parent\"><img src=\"https://colab.research.google.com/assets/colab-badge.svg\" alt=\"Open In Colab\"/></a>"
      ]
    },
    {
      "cell_type": "markdown",
      "metadata": {
        "colab_type": "text",
        "id": "MSnsTgZLKO72"
      },
      "source": [
        "Note: As directed by staff, this assignment is a mixture of work done over the weekend + work done after class based on updated assignment details. The smaller dataset was used over the weekend, the Adults data set was said to be required by staff after class.\n",
        "Also please see (if interested) notes from the submitted 1.1.1 assignment which talked about finding and loading the dataset, etc.\n",
        "\n",
        "# Practice Loading Datasets\n",
        "\n",
        "This assignment is purposely semi-open-ended you will be asked to load datasets both from github and also from CSV files from the [UC Irvine Machine Learning Repository](https://archive.ics.uci.edu/ml/index.php). \n",
        "\n",
        "Remember that the UCI datasets may not have a file type of `.csv` so it's important that you learn as much as you can about the dataset before you try and load it. See if you can look at the raw text of the file either locally, on github, using the `!curl` shell command, or in some other way before you try and read it in as a dataframe, this will help you catch what would otherwise be unforseen problems.\n"
      ]
    },
    {
      "cell_type": "markdown",
      "metadata": {
        "id": "156P6ndeKojO",
        "colab_type": "text"
      },
      "source": [
        "## 1) Load a dataset from Github (via its *RAW* URL)\n",
        "\n",
        "Pick a dataset from the following repository and load it into Google Colab. Make sure that the headers are what you would expect and check to see if missing values have been encoded as NaN values:\n",
        "\n",
        "<https://github.com/ryanleeallred/datasets>"
      ]
    },
    {
      "cell_type": "code",
      "metadata": {
        "id": "vuxqPil321sx",
        "colab_type": "code",
        "colab": {}
      },
      "source": [
        "#importing standard python libraries for later use\n",
        "%matplotlib inline\n",
        "import matplotlib.pyplot as plt\n",
        "import numpy as np\n",
        "import pandas as pd\n",
        "\n",
        "\n"
      ],
      "execution_count": 0,
      "outputs": []
    },
    {
      "cell_type": "code",
      "metadata": {
        "id": "IkEvQ3M7BQeT",
        "colab_type": "code",
        "colab": {}
      },
      "source": [
        ""
      ],
      "execution_count": 0,
      "outputs": []
    },
    {
      "cell_type": "code",
      "metadata": {
        "id": "jqf4ddLy--l8",
        "colab_type": "code",
        "colab": {}
      },
      "source": [
        "# demonstrating a few ways of loading data\n",
        "\n",
        "\n",
        "#The URLs for the assigned dataset\n",
        "#\n",
        "##https://github.com/lineality/DS8_1.1.1_GGAshbrook/blob/master/adult.data?raw=true\n",
        "#or\n",
        "#https://raw.githubusercontent.com/lineality/DS8_1.1.1_GGAshbrook/master/adult.data\n",
        "#https://raw.githubusercontent.com/lineality/DS8_1.1.1_GGAshbrook/master/adult.names\n",
        "#https://raw.githubusercontent.com/lineality/DS8_1.1.1_GGAshbrook/master/adult.test\n",
        "\n",
        "#Method 1\n",
        "#set URL, good form\n",
        "data_url1 = 'https://raw.githubusercontent.com/lineality/DS8_1.1.1_GGAshbrook/master/adult.data'\n",
        "#data_url2 = 'https://raw.githubusercontent.com/lineality/DS8_1.1.1_GGAshbrook/master/adult.names'\n",
        "#data_url3 = 'https://raw.githubusercontent.com/lineality/DS8_1.1.1_GGAshbrook/master/adult.test'"
      ],
      "execution_count": 0,
      "outputs": []
    },
    {
      "cell_type": "code",
      "metadata": {
        "id": "eV655dHI_Ici",
        "colab_type": "code",
        "colab": {}
      },
      "source": [
        "#For some reason when being used on multiple lines this stopped working...but ran out of time to find out exactly why, since other methods worked.\n",
        "\n",
        "#use URL to load dataset into an array called dataset\n",
        "dataset1 = pd.read_csv(data_url1)\n",
        "#dataset2 = pd.read_csv(data_url2)\n",
        "#dataset3 = pd.read_csv(data_url3)\n"
      ],
      "execution_count": 0,
      "outputs": []
    },
    {
      "cell_type": "markdown",
      "metadata": {
        "id": "c4wh-SyIAdXW",
        "colab_type": "text"
      },
      "source": [
        ""
      ]
    },
    {
      "cell_type": "code",
      "metadata": {
        "id": "Q7ujMLaw_bTK",
        "colab_type": "code",
        "colab": {}
      },
      "source": [
        "#use URL to load dataset into an array called dataset\n",
        "dataset1 = pd.read_csv(data_url1)\n"
      ],
      "execution_count": 0,
      "outputs": []
    },
    {
      "cell_type": "code",
      "metadata": {
        "id": "zLZqvh2z_dIi",
        "colab_type": "code",
        "colab": {}
      },
      "source": [
        "#use URL to load dataset into an array called dataset\n",
        "#dataset1 = pd.read_csv(data_url1)\n",
        "#dataset2 = pd.read_csv(data_url2)\n",
        "#dataset3 = pd.read_csv(data_url3)\n"
      ],
      "execution_count": 0,
      "outputs": []
    },
    {
      "cell_type": "code",
      "metadata": {
        "id": "M2uk1PDA_thV",
        "colab_type": "code",
        "outputId": "9125652c-1130-4e32-8de2-02c5c06dbbd6",
        "colab": {
          "base_uri": "https://localhost:8080/",
          "height": 753
        }
      },
      "source": [
        "#alternately, download dataset into a 'local' directory for the jupyter notebook \n",
        "import os\n",
        "os.getcwd()\n",
        "\n",
        "#Original dataset from weekend\n",
        "!wget https://raw.githubusercontent.com/lineality/DS8_1.1.1_GGAshbrook/master/prek_dataset_csv3.csv\n",
        "\n",
        "#dataset with missing data from class\n",
        "!wget https://raw.githubusercontent.com/lineality/DS8_1.1.1_GGAshbrook/master/adult.data\n",
        "!wget https://raw.githubusercontent.com/lineality/DS8_1.1.1_GGAshbrook/master/adult.names\n",
        "!wget https://raw.githubusercontent.com/lineality/DS8_1.1.1_GGAshbrook/master/adult.test\n",
        "  "
      ],
      "execution_count": 51,
      "outputs": [
        {
          "output_type": "stream",
          "text": [
            "--2019-09-04 12:22:55--  https://raw.githubusercontent.com/lineality/DS8_1.1.1_GGAshbrook/master/prek_dataset_csv3.csv\n",
            "Resolving raw.githubusercontent.com (raw.githubusercontent.com)... 151.101.0.133, 151.101.64.133, 151.101.128.133, ...\n",
            "Connecting to raw.githubusercontent.com (raw.githubusercontent.com)|151.101.0.133|:443... connected.\n",
            "HTTP request sent, awaiting response... 200 OK\n",
            "Length: 421 [text/plain]\n",
            "Saving to: ‘prek_dataset_csv3.csv.2’\n",
            "\n",
            "\rprek_dataset_csv3.c   0%[                    ]       0  --.-KB/s               \rprek_dataset_csv3.c 100%[===================>]     421  --.-KB/s    in 0s      \n",
            "\n",
            "2019-09-04 12:22:55 (105 MB/s) - ‘prek_dataset_csv3.csv.2’ saved [421/421]\n",
            "\n",
            "--2019-09-04 12:22:56--  https://raw.githubusercontent.com/lineality/DS8_1.1.1_GGAshbrook/master/adult.data\n",
            "Resolving raw.githubusercontent.com (raw.githubusercontent.com)... 151.101.0.133, 151.101.64.133, 151.101.128.133, ...\n",
            "Connecting to raw.githubusercontent.com (raw.githubusercontent.com)|151.101.0.133|:443... connected.\n",
            "HTTP request sent, awaiting response... 200 OK\n",
            "Length: 3974305 (3.8M) [text/plain]\n",
            "Saving to: ‘adult.data.1’\n",
            "\n",
            "adult.data.1        100%[===================>]   3.79M  --.-KB/s    in 0.1s    \n",
            "\n",
            "2019-09-04 12:22:56 (37.6 MB/s) - ‘adult.data.1’ saved [3974305/3974305]\n",
            "\n",
            "--2019-09-04 12:22:57--  https://raw.githubusercontent.com/lineality/DS8_1.1.1_GGAshbrook/master/adult.names\n",
            "Resolving raw.githubusercontent.com (raw.githubusercontent.com)... 151.101.0.133, 151.101.64.133, 151.101.128.133, ...\n",
            "Connecting to raw.githubusercontent.com (raw.githubusercontent.com)|151.101.0.133|:443... connected.\n",
            "HTTP request sent, awaiting response... 200 OK\n",
            "Length: 5229 (5.1K) [text/plain]\n",
            "Saving to: ‘adult.names’\n",
            "\n",
            "adult.names         100%[===================>]   5.11K  --.-KB/s    in 0s      \n",
            "\n",
            "2019-09-04 12:22:57 (84.2 MB/s) - ‘adult.names’ saved [5229/5229]\n",
            "\n",
            "--2019-09-04 12:22:57--  https://raw.githubusercontent.com/lineality/DS8_1.1.1_GGAshbrook/master/adult.test\n",
            "Resolving raw.githubusercontent.com (raw.githubusercontent.com)... 151.101.0.133, 151.101.64.133, 151.101.128.133, ...\n",
            "Connecting to raw.githubusercontent.com (raw.githubusercontent.com)|151.101.0.133|:443... connected.\n",
            "HTTP request sent, awaiting response... 200 OK\n",
            "Length: 2003153 (1.9M) [text/plain]\n",
            "Saving to: ‘adult.test’\n",
            "\n",
            "adult.test          100%[===================>]   1.91M  --.-KB/s    in 0.1s    \n",
            "\n",
            "2019-09-04 12:22:58 (18.9 MB/s) - ‘adult.test’ saved [2003153/2003153]\n",
            "\n"
          ],
          "name": "stdout"
        }
      ]
    },
    {
      "cell_type": "code",
      "metadata": {
        "id": "0QsRFGTqAuw6",
        "colab_type": "code",
        "outputId": "4c596b54-bf73-4ae9-aac2-568d58df1424",
        "colab": {
          "base_uri": "https://localhost:8080/",
          "height": 50
        }
      },
      "source": [
        "!ls"
      ],
      "execution_count": 52,
      "outputs": [
        {
          "output_type": "stream",
          "text": [
            "adult.data    adult.names  prek_dataset_csv3.csv    prek_dataset_csv3.csv.2\n",
            "adult.data.1  adult.test   prek_dataset_csv3.csv.1  sample_data\n"
          ],
          "name": "stdout"
        }
      ]
    },
    {
      "cell_type": "code",
      "metadata": {
        "id": "G1a2gSNE3AIw",
        "colab_type": "code",
        "colab": {
          "base_uri": "https://localhost:8080/",
          "height": 201
        },
        "outputId": "8f100d30-eba3-481b-8964-e669916d84b5"
      },
      "source": [
        "\n",
        "#use URL to load dataset into an array called dataset\n",
        "dataset1 = pd.read_csv(data_url1)\n",
        "#dataset2 = pd.read_csv(data_url2)\n",
        "#dataset3 = pd.read_csv(data_url3)\n",
        "\n",
        "#alternately, download dataset into a 'local' directory for the jupyter notebook \n",
        "import os\n",
        "os.getcwd()\n",
        "!wget https://raw.githubusercontent.com/lineality/DS8_1.1.1_GGAshbrook/master/prek_dataset_csv3.csv\n",
        "\n",
        "\n"
      ],
      "execution_count": 55,
      "outputs": [
        {
          "output_type": "stream",
          "text": [
            "--2019-09-04 12:24:18--  https://raw.githubusercontent.com/lineality/DS8_1.1.1_GGAshbrook/master/prek_dataset_csv3.csv\n",
            "Resolving raw.githubusercontent.com (raw.githubusercontent.com)... 151.101.0.133, 151.101.64.133, 151.101.128.133, ...\n",
            "Connecting to raw.githubusercontent.com (raw.githubusercontent.com)|151.101.0.133|:443... connected.\n",
            "HTTP request sent, awaiting response... 200 OK\n",
            "Length: 421 [text/plain]\n",
            "Saving to: ‘prek_dataset_csv3.csv.5’\n",
            "\n",
            "\rprek_dataset_csv3.c   0%[                    ]       0  --.-KB/s               \rprek_dataset_csv3.c 100%[===================>]     421  --.-KB/s    in 0s      \n",
            "\n",
            "2019-09-04 12:24:18 (67.3 MB/s) - ‘prek_dataset_csv3.csv.5’ saved [421/421]\n",
            "\n"
          ],
          "name": "stdout"
        }
      ]
    },
    {
      "cell_type": "code",
      "metadata": {
        "id": "I2UlzOEEO2WB",
        "colab_type": "code",
        "colab": {
          "base_uri": "https://localhost:8080/",
          "height": 228
        },
        "outputId": "901e32f0-27f7-403e-d9c4-503ea7db864a"
      },
      "source": [
        "#method3: \"standard accepted method\"\n",
        "url1 = 'https://raw.githubusercontent.com/lineality/DS8_1.1.1_GGAshbrook/master/adult.data'\n",
        "\n",
        "response = requests.get(url1)\n",
        "\n",
        "#check to see (validate) that it worked\n",
        "response\n"
      ],
      "execution_count": 57,
      "outputs": [
        {
          "output_type": "error",
          "ename": "NameError",
          "evalue": "ignored",
          "traceback": [
            "\u001b[0;31m---------------------------------------------------------------------------\u001b[0m",
            "\u001b[0;31mNameError\u001b[0m                                 Traceback (most recent call last)",
            "\u001b[0;32m<ipython-input-57-1c35612f68f4>\u001b[0m in \u001b[0;36m<module>\u001b[0;34m()\u001b[0m\n\u001b[1;32m      1\u001b[0m \u001b[0murl1\u001b[0m \u001b[0;34m=\u001b[0m \u001b[0;34m'https://raw.githubusercontent.com/lineality/DS8_1.1.1_GGAshbrook/master/adult.data'\u001b[0m\u001b[0;34m\u001b[0m\u001b[0;34m\u001b[0m\u001b[0m\n\u001b[1;32m      2\u001b[0m \u001b[0;34m\u001b[0m\u001b[0m\n\u001b[0;32m----> 3\u001b[0;31m \u001b[0mresponse\u001b[0m \u001b[0;34m=\u001b[0m \u001b[0mrequests\u001b[0m\u001b[0;34m.\u001b[0m\u001b[0mget\u001b[0m\u001b[0;34m(\u001b[0m\u001b[0murl1\u001b[0m\u001b[0;34m)\u001b[0m\u001b[0;34m\u001b[0m\u001b[0;34m\u001b[0m\u001b[0m\n\u001b[0m\u001b[1;32m      4\u001b[0m \u001b[0;34m\u001b[0m\u001b[0m\n\u001b[1;32m      5\u001b[0m \u001b[0;31m#check to see (validate) that it worked\u001b[0m\u001b[0;34m\u001b[0m\u001b[0;34m\u001b[0m\u001b[0;34m\u001b[0m\u001b[0m\n",
            "\u001b[0;31mNameError\u001b[0m: name 'requests' is not defined"
          ]
        }
      ]
    },
    {
      "cell_type": "code",
      "metadata": {
        "id": "NJdISe69ZT7E",
        "colab_type": "code",
        "colab": {
          "base_uri": "https://localhost:8080/",
          "height": 318
        },
        "outputId": "fc4d3f3f-00c3-4ce4-b6db-e1e0528c7a47"
      },
      "source": [
        "import pandas as pd\n",
        "# TODO your work here!\n",
        "# And note you should write comments, descriptions, and add new\n",
        "# code and text blocks as needed\n",
        "\n",
        "# various demonstrations of 'getting' raw github (GH) datasets\n",
        "\n",
        "#set URL, good form\n",
        "data_url = 'https://raw.githubusercontent.com/lineality/DS8_1.1.1_GGAshbrook/master/prek_dataset_csv3.csv'\n",
        "\n",
        "#use URL to load dataset into an array called dataset\n",
        "dataset = pd.read_csv(data_url)\n",
        "\n",
        "#alternately, download dataset into a 'local' directory for the jupyter notebook \n",
        "import os\n",
        "os.getcwd()\n",
        "!wget https://raw.githubusercontent.com/lineality/DS8_1.1.1_GGAshbrook/master/prek_dataset_csv3.csv\n",
        "\n",
        "#get/inspect data\n",
        "!curl https://raw.githubusercontent.com/lineality/DS8_1.1.1_GGAshbrook/master/prek_dataset_csv3.csv\n",
        "\n",
        "  #see step below which does not seem to run if mixed with other code"
      ],
      "execution_count": 17,
      "outputs": [
        {
          "output_type": "stream",
          "text": [
            "--2019-09-04 12:20:19--  https://raw.githubusercontent.com/lineality/DS8_1.1.1_GGAshbrook/master/prek_dataset_csv3.csv\n",
            "Resolving raw.githubusercontent.com (raw.githubusercontent.com)... 151.101.0.133, 151.101.64.133, 151.101.128.133, ...\n",
            "Connecting to raw.githubusercontent.com (raw.githubusercontent.com)|151.101.0.133|:443... connected.\n",
            "HTTP request sent, awaiting response... 200 OK\n",
            "Length: 421 [text/plain]\n",
            "Saving to: ‘prek_dataset_csv3.csv’\n",
            "\n",
            "\rprek_dataset_csv3.c   0%[                    ]       0  --.-KB/s               \rprek_dataset_csv3.c 100%[===================>]     421  --.-KB/s    in 0s      \n",
            "\n",
            "2019-09-04 12:20:19 (50.7 MB/s) - ‘prek_dataset_csv3.csv’ saved [421/421]\n",
            "\n",
            "ethnicity,receptive_vocabulary,expressive_vocabulary,listening_comprehension,matching_discrimination,counting\n",
            "1,88.680084,70.753735,42.243457,37.108204,5.185253\n",
            "2,82.627962,62.023166,35.357777,30.691528,3.652264\n",
            "3,79.383332,55.704622,29.862567,25.533035,2.243786\n",
            "3,78.266055,53.69808,28.213154,24.117186,1.903763\n",
            "4,78.91484,54.167163,27.761501,23.158304,1.079575\n",
            "5,74.908589,49.946801,25.507733,21.722392,1.448737\n"
          ],
          "name": "stdout"
        }
      ]
    },
    {
      "cell_type": "code",
      "metadata": {
        "id": "HnK8xfei67WK",
        "colab_type": "code",
        "outputId": "eeff08b3-d723-457c-b372-2ba145ba77fa",
        "colab": {
          "base_uri": "https://localhost:8080/",
          "height": 178
        }
      },
      "source": [
        "#note, this produces an error message here, but elsewhere \"ls\" functions in two different ways\n",
        "ls\n",
        "\n"
      ],
      "execution_count": 18,
      "outputs": [
        {
          "output_type": "error",
          "ename": "NameError",
          "evalue": "ignored",
          "traceback": [
            "\u001b[0;31m---------------------------------------------------------------------------\u001b[0m",
            "\u001b[0;31mNameError\u001b[0m                                 Traceback (most recent call last)",
            "\u001b[0;32m<ipython-input-18-fbcbadb25859>\u001b[0m in \u001b[0;36m<module>\u001b[0;34m()\u001b[0m\n\u001b[0;32m----> 1\u001b[0;31m \u001b[0mls\u001b[0m\u001b[0;34m\u001b[0m\u001b[0;34m\u001b[0m\u001b[0m\n\u001b[0m\u001b[1;32m      2\u001b[0m \u001b[0;34m\u001b[0m\u001b[0m\n",
            "\u001b[0;31mNameError\u001b[0m: name 'ls' is not defined"
          ]
        }
      ]
    },
    {
      "cell_type": "code",
      "metadata": {
        "id": "GYF2M4UV2WDI",
        "colab_type": "code",
        "colab": {}
      },
      "source": [
        ""
      ],
      "execution_count": 0,
      "outputs": []
    },
    {
      "cell_type": "markdown",
      "metadata": {
        "id": "ZVhlZfwi7wvZ",
        "colab_type": "text"
      },
      "source": [
        "see odd LS error screenshot - why does it sometimes not work?\n",
        "https://drive.google.com/open?id=1h6SM_CTCXw47uLdYvSCtCLvpUS-7Zn59\n",
        "[alt text](https://drive.google.com/open?id=1h6SM_CTCXw47uLdYvSCtCLvpUS-7Zn59)"
      ]
    },
    {
      "cell_type": "code",
      "metadata": {
        "id": "5RhSvnta7epp",
        "colab_type": "code",
        "outputId": "a60092f8-f1d7-4460-aeb9-969986b631c1",
        "colab": {
          "base_uri": "https://localhost:8080/",
          "height": 33
        }
      },
      "source": [
        "ls\n"
      ],
      "execution_count": 19,
      "outputs": [
        {
          "output_type": "stream",
          "text": [
            "prek_dataset_csv3.csv  \u001b[0m\u001b[01;34msample_data\u001b[0m/\n"
          ],
          "name": "stdout"
        }
      ]
    },
    {
      "cell_type": "code",
      "metadata": {
        "id": "y1Wa7FvYyc4Y",
        "colab_type": "code",
        "outputId": "50bfc0a4-6b8b-4f3f-ffe8-d37654c29888",
        "colab": {
          "base_uri": "https://localhost:8080/",
          "height": 33
        }
      },
      "source": [
        "#that is curious, it returns a different result...or format (yellow vs. white?)\n",
        "!ls"
      ],
      "execution_count": 20,
      "outputs": [
        {
          "output_type": "stream",
          "text": [
            "prek_dataset_csv3.csv  sample_data\n"
          ],
          "name": "stdout"
        }
      ]
    },
    {
      "cell_type": "markdown",
      "metadata": {
        "id": "-gFnZR6iLLPY",
        "colab_type": "text"
      },
      "source": [
        "## 2) Load a dataset from your local machine\n",
        "Download a dataset from the [UC Irvine Machine Learning Repository](https://archive.ics.uci.edu/ml/index.php) and then upload the file to Google Colab either using the files tab in the left-hand sidebar or by importing `files` from `google.colab` The following link will be a useful resource if you can't remember the syntax: <https://towardsdatascience.com/3-ways-to-load-csv-files-into-colab-7c14fcbdcb92>\n",
        "\n",
        "While you are free to try and load any dataset from the UCI repository, I strongly suggest starting with one of the most popular datasets like those that are featured on the right-hand side of the home page. \n",
        "\n",
        "Some datasets on UCI will have challenges associated with importing them far beyond what we have exposed you to in class today, so if you run into a dataset that you don't know how to deal with, struggle with it for a little bit, but ultimately feel free to simply choose a different one. \n",
        "\n",
        "- Make sure that your file has correct headers, and the same number of rows and columns as is specified on the UCI page. If your dataset doesn't have headers use the parameters of the `read_csv` function to add them. Likewise make sure that missing values are encoded as `NaN`."
      ]
    },
    {
      "cell_type": "code",
      "metadata": {
        "id": "qUmwX-ZoM9cq",
        "colab_type": "code",
        "colab": {}
      },
      "source": [
        "# \n",
        "\n",
        "\n",
        "\n"
      ],
      "execution_count": 0,
      "outputs": []
    },
    {
      "cell_type": "code",
      "metadata": {
        "id": "04XZEo_fjxXY",
        "colab_type": "code",
        "colab": {
          "resources": {
            "http://localhost:8080/nbextensions/google.colab/files.js": {
              "data": "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",
              "ok": true,
              "headers": [
                [
                  "content-type",
                  "application/javascript"
                ]
              ],
              "status": 200,
              "status_text": ""
            }
          },
          "base_uri": "https://localhost:8080/",
          "height": 284
        },
        "outputId": "3676d9a7-81ee-4dd9-f85f-655d351b7109"
      },
      "source": [
        "#Method: uploading file from local computer into local Notebook directory (colabs)\n",
        "\n",
        "#uploading a csv from my home computer to CoLabs (session?)\n",
        "from google.colab import files\n",
        "uploaded = files.upload()\n",
        "\n",
        "#name of \n",
        "dataset\n",
        "\n",
        "#name of dataset\n",
        "# prek_dataset_csv3.csv\n",
        "#using file from local computer, downloaded from gitHub"
      ],
      "execution_count": 65,
      "outputs": [
        {
          "output_type": "display_data",
          "data": {
            "text/html": [
              "\n",
              "     <input type=\"file\" id=\"files-b2e94024-9f18-4a74-b65e-4c06d0c43f99\" name=\"files[]\" multiple disabled />\n",
              "     <output id=\"result-b2e94024-9f18-4a74-b65e-4c06d0c43f99\">\n",
              "      Upload widget is only available when the cell has been executed in the\n",
              "      current browser session. Please rerun this cell to enable.\n",
              "      </output>\n",
              "      <script src=\"/nbextensions/google.colab/files.js\"></script> "
            ],
            "text/plain": [
              "<IPython.core.display.HTML object>"
            ]
          },
          "metadata": {
            "tags": []
          }
        },
        {
          "output_type": "stream",
          "text": [
            "Saving prek_dataset_csv3.csv to prek_dataset_csv3 (1).csv\n"
          ],
          "name": "stdout"
        },
        {
          "output_type": "execute_result",
          "data": {
            "text/html": [
              "<div>\n",
              "<style scoped>\n",
              "    .dataframe tbody tr th:only-of-type {\n",
              "        vertical-align: middle;\n",
              "    }\n",
              "\n",
              "    .dataframe tbody tr th {\n",
              "        vertical-align: top;\n",
              "    }\n",
              "\n",
              "    .dataframe thead th {\n",
              "        text-align: right;\n",
              "    }\n",
              "</style>\n",
              "<table border=\"1\" class=\"dataframe\">\n",
              "  <thead>\n",
              "    <tr style=\"text-align: right;\">\n",
              "      <th></th>\n",
              "      <th>ethnicity</th>\n",
              "      <th>receptive_vocabulary</th>\n",
              "      <th>expressive_vocabulary</th>\n",
              "      <th>listening_comprehension</th>\n",
              "      <th>matching_discrimination</th>\n",
              "      <th>counting</th>\n",
              "    </tr>\n",
              "  </thead>\n",
              "  <tbody>\n",
              "    <tr>\n",
              "      <th>0</th>\n",
              "      <td>1</td>\n",
              "      <td>88.680084</td>\n",
              "      <td>70.753735</td>\n",
              "      <td>42.243457</td>\n",
              "      <td>37.108204</td>\n",
              "      <td>5.185253</td>\n",
              "    </tr>\n",
              "    <tr>\n",
              "      <th>1</th>\n",
              "      <td>2</td>\n",
              "      <td>82.627962</td>\n",
              "      <td>62.023166</td>\n",
              "      <td>35.357777</td>\n",
              "      <td>30.691528</td>\n",
              "      <td>3.652264</td>\n",
              "    </tr>\n",
              "    <tr>\n",
              "      <th>2</th>\n",
              "      <td>3</td>\n",
              "      <td>79.383332</td>\n",
              "      <td>55.704622</td>\n",
              "      <td>29.862567</td>\n",
              "      <td>25.533035</td>\n",
              "      <td>2.243786</td>\n",
              "    </tr>\n",
              "    <tr>\n",
              "      <th>3</th>\n",
              "      <td>3</td>\n",
              "      <td>78.266055</td>\n",
              "      <td>53.698080</td>\n",
              "      <td>28.213154</td>\n",
              "      <td>24.117186</td>\n",
              "      <td>1.903763</td>\n",
              "    </tr>\n",
              "    <tr>\n",
              "      <th>4</th>\n",
              "      <td>4</td>\n",
              "      <td>78.914840</td>\n",
              "      <td>54.167163</td>\n",
              "      <td>27.761501</td>\n",
              "      <td>23.158304</td>\n",
              "      <td>1.079575</td>\n",
              "    </tr>\n",
              "    <tr>\n",
              "      <th>5</th>\n",
              "      <td>5</td>\n",
              "      <td>74.908589</td>\n",
              "      <td>49.946801</td>\n",
              "      <td>25.507733</td>\n",
              "      <td>21.722392</td>\n",
              "      <td>1.448737</td>\n",
              "    </tr>\n",
              "  </tbody>\n",
              "</table>\n",
              "</div>"
            ],
            "text/plain": [
              "   ethnicity  receptive_vocabulary  expressive_vocabulary  listening_comprehension  matching_discrimination  counting\n",
              "0          1             88.680084              70.753735                42.243457                37.108204  5.185253\n",
              "1          2             82.627962              62.023166                35.357777                30.691528  3.652264\n",
              "2          3             79.383332              55.704622                29.862567                25.533035  2.243786\n",
              "3          3             78.266055              53.698080                28.213154                24.117186  1.903763\n",
              "4          4             78.914840              54.167163                27.761501                23.158304  1.079575\n",
              "5          5             74.908589              49.946801                25.507733                21.722392  1.448737"
            ]
          },
          "metadata": {
            "tags": []
          },
          "execution_count": 65
        }
      ]
    },
    {
      "cell_type": "markdown",
      "metadata": {
        "id": "miGPilCbiWP9",
        "colab_type": "text"
      },
      "source": [
        ""
      ]
    },
    {
      "cell_type": "code",
      "metadata": {
        "id": "HBMEuau7AbdQ",
        "colab_type": "code",
        "outputId": "77c3e39f-ab87-4c4a-c998-757602425039",
        "colab": {
          "base_uri": "https://localhost:8080/",
          "height": 84
        }
      },
      "source": [
        "ls\n"
      ],
      "execution_count": 66,
      "outputs": [
        {
          "output_type": "stream",
          "text": [
            " adult.data    'prek_dataset_csv3 (1).csv'   prek_dataset_csv3.csv.3\n",
            " adult.data.1   prek_dataset_csv3.csv        prek_dataset_csv3.csv.4\n",
            " adult.names    prek_dataset_csv3.csv.1      prek_dataset_csv3.csv.5\n",
            " adult.test     prek_dataset_csv3.csv.2      \u001b[0m\u001b[01;34msample_data\u001b[0m/\n"
          ],
          "name": "stdout"
        }
      ]
    },
    {
      "cell_type": "code",
      "metadata": {
        "id": "tXEYwb9pi4Vl",
        "colab_type": "code",
        "colab": {
          "base_uri": "https://localhost:8080/",
          "height": 84
        },
        "outputId": "0dc77f13-c0e7-4df4-f65d-271e6774f9fa"
      },
      "source": [
        "!ls"
      ],
      "execution_count": 61,
      "outputs": [
        {
          "output_type": "stream",
          "text": [
            "adult.data    prek_dataset_csv3.csv    prek_dataset_csv3.csv.4\n",
            "adult.data.1  prek_dataset_csv3.csv.1  prek_dataset_csv3.csv.5\n",
            "adult.names   prek_dataset_csv3.csv.2  sample_data\n",
            "adult.test    prek_dataset_csv3.csv.3\n"
          ],
          "name": "stdout"
        }
      ]
    },
    {
      "cell_type": "code",
      "metadata": {
        "id": "Btz86ktY8tIp",
        "colab_type": "code",
        "outputId": "dfff1cb6-90f9-4d86-c64c-ad4caa9f0989",
        "colab": {
          "base_uri": "https://localhost:8080/",
          "height": 485
        }
      },
      "source": [
        "#baseic inspection of data\n",
        "print(dataset.isna().sum())\n",
        "print(dataset.count())\n",
        "print(dataset.head(3))\n",
        "print(dataset.describe())\n",
        "print(dataset.shape)\n"
      ],
      "execution_count": 70,
      "outputs": [
        {
          "output_type": "stream",
          "text": [
            "ethnicity                  0\n",
            "receptive_vocabulary       0\n",
            "expressive_vocabulary      0\n",
            "listening_comprehension    0\n",
            "matching_discrimination    0\n",
            "counting                   0\n",
            "dtype: int64\n",
            "ethnicity                  6\n",
            "receptive_vocabulary       6\n",
            "expressive_vocabulary      6\n",
            "listening_comprehension    6\n",
            "matching_discrimination    6\n",
            "counting                   6\n",
            "dtype: int64\n",
            "   ethnicity  receptive_vocabulary  expressive_vocabulary  listening_comprehension  matching_discrimination  counting\n",
            "0          1             88.680084              70.753735                42.243457                37.108204  5.185253\n",
            "1          2             82.627962              62.023166                35.357777                30.691528  3.652264\n",
            "2          3             79.383332              55.704622                29.862567                25.533035  2.243786\n",
            "       ethnicity  receptive_vocabulary  expressive_vocabulary  listening_comprehension  matching_discrimination  counting\n",
            "count   6.000000              6.000000               6.000000                 6.000000                 6.000000  6.000000\n",
            "mean    3.000000             80.463477              57.715595                31.491032                27.055108  2.585563\n",
            "std     1.414214              4.721188               7.505708                 6.223697                 5.811357  1.551662\n",
            "min     1.000000             74.908589              49.946801                25.507733                21.722392  1.079575\n",
            "25%     2.250000             78.428251              53.815351                27.874414                23.398025  1.562493\n",
            "50%     3.000000             79.149086              54.935893                29.037861                24.825111  2.073774\n",
            "75%     3.750000             81.816804              60.443530                33.983975                29.401905  3.300145\n",
            "max     5.000000             88.680084              70.753735                42.243457                37.108204  5.185253\n",
            "(6, 6)\n"
          ],
          "name": "stdout"
        }
      ]
    },
    {
      "cell_type": "code",
      "metadata": {
        "id": "-cm4lRF69-wF",
        "colab_type": "code",
        "colab": {}
      },
      "source": [
        ""
      ],
      "execution_count": 0,
      "outputs": []
    },
    {
      "cell_type": "markdown",
      "metadata": {
        "id": "knfG-PRFFvJW",
        "colab_type": "text"
      },
      "source": [
        "# From Local Machine Version 2"
      ]
    },
    {
      "cell_type": "code",
      "metadata": {
        "id": "O02zJ8T5AauL",
        "colab_type": "code",
        "colab": {}
      },
      "source": [
        "#I tried but was not able to get this to work, after much websearching and a rebuff by staff to look more on my own I gave up in the interest of time.\n",
        "\n",
        "data3 = pd.read_csv(r'C:/Users/linea/Downloads/data/prek_dataset_csv3.csv')"
      ],
      "execution_count": 0,
      "outputs": []
    },
    {
      "cell_type": "markdown",
      "metadata": {
        "id": "mq_aQjxlM-u5",
        "colab_type": "text"
      },
      "source": [
        "## 3) Load a dataset from UCI using `!wget` and fill in missing values\n",
        "\n",
        "\"Shell Out\" and try loading a file directly into your google colab's memory using the `!wget` command and then read it in with `read_csv`.\n",
        "\n",
        "With this file we'll do a bit more to it.\n",
        "\n",
        "- Read it in, fix any problems with the header as make sure missing values are encoded as `NaN`.\n",
        "- Use the `.fillna()` method to fill any missing values. \n",
        " - [.fillna() documentation](https://pandas.pydata.org/pandas-docs/stable/reference/api/pandas.DataFrame.fillna.html)\n",
        "- Create one of each of the following plots using the Pandas plotting functionality:\n",
        " - Scatterplot\n",
        " - Histogram\n",
        " - Density Plot\n"
      ]
    },
    {
      "cell_type": "code",
      "metadata": {
        "id": "I-TeEjak8u-B",
        "colab_type": "code",
        "outputId": "ad6a6c1a-f043-4f89-fc73-d95d4b948416",
        "colab": {
          "base_uri": "https://localhost:8080/",
          "height": 217
        }
      },
      "source": [
        "# see above also for use of !wget and checking to see what files are in the local directory\n",
        "!wget https://raw.githubusercontent.com/lineality/DS8_1.1.1_GGAshbrook/master/prek_dataset_csv3.csv\n",
        "!\n",
        "\n",
        "#next cell checks to see that file is in the local directory\n",
        "!ls\n",
        "  \n",
        "  "
      ],
      "execution_count": 24,
      "outputs": [
        {
          "output_type": "stream",
          "text": [
            "--2019-09-04 12:21:07--  https://raw.githubusercontent.com/lineality/DS8_1.1.1_GGAshbrook/master/prek_dataset_csv3.csv\n",
            "Resolving raw.githubusercontent.com (raw.githubusercontent.com)... 151.101.0.133, 151.101.64.133, 151.101.128.133, ...\n",
            "Connecting to raw.githubusercontent.com (raw.githubusercontent.com)|151.101.0.133|:443... connected.\n",
            "HTTP request sent, awaiting response... 200 OK\n",
            "Length: 421 [text/plain]\n",
            "Saving to: ‘prek_dataset_csv3.csv.1’\n",
            "\n",
            "\rprek_dataset_csv3.c   0%[                    ]       0  --.-KB/s               \rprek_dataset_csv3.c 100%[===================>]     421  --.-KB/s    in 0s      \n",
            "\n",
            "2019-09-04 12:21:07 (59.5 MB/s) - ‘prek_dataset_csv3.csv.1’ saved [421/421]\n",
            "\n",
            "prek_dataset_csv3.csv  prek_dataset_csv3.csv.1\tsample_data\n"
          ],
          "name": "stdout"
        }
      ]
    },
    {
      "cell_type": "code",
      "metadata": {
        "id": "vdkbfq2HIR-H",
        "colab_type": "code",
        "outputId": "9515e968-f77f-46bc-96a7-2d5a8a84b3e0",
        "colab": {
          "base_uri": "https://localhost:8080/",
          "height": 201
        }
      },
      "source": [
        "#using the assigned data\n",
        "!wget https://raw.githubusercontent.com/lineality/DS8_1.1.1_GGAshbrook/master/adult.data"
      ],
      "execution_count": 25,
      "outputs": [
        {
          "output_type": "stream",
          "text": [
            "--2019-09-04 12:21:11--  https://raw.githubusercontent.com/lineality/DS8_1.1.1_GGAshbrook/master/adult.data\n",
            "Resolving raw.githubusercontent.com (raw.githubusercontent.com)... 151.101.0.133, 151.101.64.133, 151.101.128.133, ...\n",
            "Connecting to raw.githubusercontent.com (raw.githubusercontent.com)|151.101.0.133|:443... connected.\n",
            "HTTP request sent, awaiting response... 200 OK\n",
            "Length: 3974305 (3.8M) [text/plain]\n",
            "Saving to: ‘adult.data’\n",
            "\n",
            "\radult.data            0%[                    ]       0  --.-KB/s               \radult.data          100%[===================>]   3.79M  --.-KB/s    in 0.1s    \n",
            "\n",
            "2019-09-04 12:21:11 (36.9 MB/s) - ‘adult.data’ saved [3974305/3974305]\n",
            "\n"
          ],
          "name": "stdout"
        }
      ]
    },
    {
      "cell_type": "code",
      "metadata": {
        "id": "0gAdpLonJFih",
        "colab_type": "code",
        "colab": {}
      },
      "source": [
        "#Read it in, fix any problems with the header as make sure missing values are encoded as NaN.\n",
        "#Use the .fillna() method to fill any missing values.\n",
        "#.fillna() documentation"
      ],
      "execution_count": 0,
      "outputs": []
    },
    {
      "cell_type": "code",
      "metadata": {
        "id": "I7dLN6YaJFpN",
        "colab_type": "code",
        "colab": {}
      },
      "source": [
        "#setting the dataframe\n",
        "df_adult = pd.read_csv('adult.data')\n",
        "\n",
        "#checking the dataframe\n",
        "df_adult.head(20)\n",
        "\n",
        "\n",
        "\n",
        "\n"
      ],
      "execution_count": 0,
      "outputs": []
    },
    {
      "cell_type": "code",
      "metadata": {
        "id": "OR80SCUoOl3i",
        "colab_type": "code",
        "colab": {}
      },
      "source": [
        "df_adult = df_adult.replace({' ?': np.NaN})\n",
        "#df_adult = df_adult.replace({'?': np.NaN})\n",
        "df_adult.head(20)"
      ],
      "execution_count": 0,
      "outputs": []
    },
    {
      "cell_type": "code",
      "metadata": {
        "id": "rUtUzCKpMnmD",
        "colab_type": "code",
        "colab": {}
      },
      "source": [
        ""
      ],
      "execution_count": 0,
      "outputs": []
    },
    {
      "cell_type": "code",
      "metadata": {
        "id": "6RUoScNqKIoH",
        "colab_type": "code",
        "colab": {}
      },
      "source": [
        "\n",
        "#there is a problem, so the dataframe has to be reset:\n",
        "\n",
        "column_headers = ['age', 'workclass', 'fnlwgt', 'education', 'education-num', \n",
        "                 'marital-status', 'occupation', 'relationship', 'race', 'sex', \n",
        "                 'capital-gain', 'capital-loss', 'hours-per-week', \n",
        "                 'native-country', 'income']\n",
        "\n",
        "df_adult = pd.read_csv('adult.data', names=column_headers)\n",
        "\n",
        "#so full head displays\n",
        "pd.set_option('display.max_rows', 1000)\n",
        "pd.set_option('display.max_columns', 1000)\n",
        "pd.set_option('display.width', 2000)\n",
        "\n",
        "#look at data\n",
        "print(df_adult.shape)\n",
        "print(df_adult.head(20))\n",
        "\n",
        "#check the data for missing values etc.\n",
        "print(df_adult.count())\n",
        "print(df_adult.isna().sum())\n",
        "print(df_adult.head())\n",
        "print(df_adult.describe())\n",
        "print(df_adult.shape)\n",
        "\n",
        "\n",
        "\n"
      ],
      "execution_count": 0,
      "outputs": []
    },
    {
      "cell_type": "code",
      "metadata": {
        "id": "6yr07QWQNL-f",
        "colab_type": "code",
        "outputId": "0b033159-444a-4688-b3a9-73d11679c6f8",
        "colab": {
          "base_uri": "https://localhost:8080/",
          "height": 33
        }
      },
      "source": [
        "#taking a closer look at a problematic 'cell'\n",
        "\n",
        "df_adult.iloc[14][13]"
      ],
      "execution_count": 29,
      "outputs": [
        {
          "output_type": "execute_result",
          "data": {
            "text/plain": [
              "' ?'"
            ]
          },
          "metadata": {
            "tags": []
          },
          "execution_count": 29
        }
      ]
    },
    {
      "cell_type": "markdown",
      "metadata": {
        "id": "4L6s6FWULbyy",
        "colab_type": "text"
      },
      "source": [
        ""
      ]
    },
    {
      "cell_type": "code",
      "metadata": {
        "id": "XfoWcoP5JFsA",
        "colab_type": "code",
        "colab": {
          "base_uri": "https://localhost:8080/",
          "height": 762
        },
        "outputId": "2a8ef36e-8a43-4967-8450-6770f829dc7f"
      },
      "source": [
        "# Starting to clean the data:\n",
        "# identifying different problems:\n",
        "# the use of question marks\n",
        "\n",
        "df_adult = df_adult.replace({' ?': np.NaN})\n",
        "df_adult.head(15)"
      ],
      "execution_count": 30,
      "outputs": [
        {
          "output_type": "execute_result",
          "data": {
            "text/html": [
              "<div>\n",
              "<style scoped>\n",
              "    .dataframe tbody tr th:only-of-type {\n",
              "        vertical-align: middle;\n",
              "    }\n",
              "\n",
              "    .dataframe tbody tr th {\n",
              "        vertical-align: top;\n",
              "    }\n",
              "\n",
              "    .dataframe thead th {\n",
              "        text-align: right;\n",
              "    }\n",
              "</style>\n",
              "<table border=\"1\" class=\"dataframe\">\n",
              "  <thead>\n",
              "    <tr style=\"text-align: right;\">\n",
              "      <th></th>\n",
              "      <th>age</th>\n",
              "      <th>workclass</th>\n",
              "      <th>fnlwgt</th>\n",
              "      <th>education</th>\n",
              "      <th>education-num</th>\n",
              "      <th>marital-status</th>\n",
              "      <th>occupation</th>\n",
              "      <th>relationship</th>\n",
              "      <th>race</th>\n",
              "      <th>sex</th>\n",
              "      <th>capital-gain</th>\n",
              "      <th>capital-loss</th>\n",
              "      <th>hours-per-week</th>\n",
              "      <th>native-country</th>\n",
              "      <th>income</th>\n",
              "    </tr>\n",
              "  </thead>\n",
              "  <tbody>\n",
              "    <tr>\n",
              "      <th>0</th>\n",
              "      <td>39</td>\n",
              "      <td>State-gov</td>\n",
              "      <td>77516</td>\n",
              "      <td>Bachelors</td>\n",
              "      <td>13</td>\n",
              "      <td>Never-married</td>\n",
              "      <td>Adm-clerical</td>\n",
              "      <td>Not-in-family</td>\n",
              "      <td>White</td>\n",
              "      <td>Male</td>\n",
              "      <td>2174</td>\n",
              "      <td>0</td>\n",
              "      <td>40</td>\n",
              "      <td>United-States</td>\n",
              "      <td>&lt;=50K</td>\n",
              "    </tr>\n",
              "    <tr>\n",
              "      <th>1</th>\n",
              "      <td>50</td>\n",
              "      <td>Self-emp-not-inc</td>\n",
              "      <td>83311</td>\n",
              "      <td>Bachelors</td>\n",
              "      <td>13</td>\n",
              "      <td>Married-civ-spouse</td>\n",
              "      <td>Exec-managerial</td>\n",
              "      <td>Husband</td>\n",
              "      <td>White</td>\n",
              "      <td>Male</td>\n",
              "      <td>0</td>\n",
              "      <td>0</td>\n",
              "      <td>13</td>\n",
              "      <td>United-States</td>\n",
              "      <td>&lt;=50K</td>\n",
              "    </tr>\n",
              "    <tr>\n",
              "      <th>2</th>\n",
              "      <td>38</td>\n",
              "      <td>Private</td>\n",
              "      <td>215646</td>\n",
              "      <td>HS-grad</td>\n",
              "      <td>9</td>\n",
              "      <td>Divorced</td>\n",
              "      <td>Handlers-cleaners</td>\n",
              "      <td>Not-in-family</td>\n",
              "      <td>White</td>\n",
              "      <td>Male</td>\n",
              "      <td>0</td>\n",
              "      <td>0</td>\n",
              "      <td>40</td>\n",
              "      <td>United-States</td>\n",
              "      <td>&lt;=50K</td>\n",
              "    </tr>\n",
              "    <tr>\n",
              "      <th>3</th>\n",
              "      <td>53</td>\n",
              "      <td>Private</td>\n",
              "      <td>234721</td>\n",
              "      <td>11th</td>\n",
              "      <td>7</td>\n",
              "      <td>Married-civ-spouse</td>\n",
              "      <td>Handlers-cleaners</td>\n",
              "      <td>Husband</td>\n",
              "      <td>Black</td>\n",
              "      <td>Male</td>\n",
              "      <td>0</td>\n",
              "      <td>0</td>\n",
              "      <td>40</td>\n",
              "      <td>United-States</td>\n",
              "      <td>&lt;=50K</td>\n",
              "    </tr>\n",
              "    <tr>\n",
              "      <th>4</th>\n",
              "      <td>28</td>\n",
              "      <td>Private</td>\n",
              "      <td>338409</td>\n",
              "      <td>Bachelors</td>\n",
              "      <td>13</td>\n",
              "      <td>Married-civ-spouse</td>\n",
              "      <td>Prof-specialty</td>\n",
              "      <td>Wife</td>\n",
              "      <td>Black</td>\n",
              "      <td>Female</td>\n",
              "      <td>0</td>\n",
              "      <td>0</td>\n",
              "      <td>40</td>\n",
              "      <td>Cuba</td>\n",
              "      <td>&lt;=50K</td>\n",
              "    </tr>\n",
              "    <tr>\n",
              "      <th>5</th>\n",
              "      <td>37</td>\n",
              "      <td>Private</td>\n",
              "      <td>284582</td>\n",
              "      <td>Masters</td>\n",
              "      <td>14</td>\n",
              "      <td>Married-civ-spouse</td>\n",
              "      <td>Exec-managerial</td>\n",
              "      <td>Wife</td>\n",
              "      <td>White</td>\n",
              "      <td>Female</td>\n",
              "      <td>0</td>\n",
              "      <td>0</td>\n",
              "      <td>40</td>\n",
              "      <td>United-States</td>\n",
              "      <td>&lt;=50K</td>\n",
              "    </tr>\n",
              "    <tr>\n",
              "      <th>6</th>\n",
              "      <td>49</td>\n",
              "      <td>Private</td>\n",
              "      <td>160187</td>\n",
              "      <td>9th</td>\n",
              "      <td>5</td>\n",
              "      <td>Married-spouse-absent</td>\n",
              "      <td>Other-service</td>\n",
              "      <td>Not-in-family</td>\n",
              "      <td>Black</td>\n",
              "      <td>Female</td>\n",
              "      <td>0</td>\n",
              "      <td>0</td>\n",
              "      <td>16</td>\n",
              "      <td>Jamaica</td>\n",
              "      <td>&lt;=50K</td>\n",
              "    </tr>\n",
              "    <tr>\n",
              "      <th>7</th>\n",
              "      <td>52</td>\n",
              "      <td>Self-emp-not-inc</td>\n",
              "      <td>209642</td>\n",
              "      <td>HS-grad</td>\n",
              "      <td>9</td>\n",
              "      <td>Married-civ-spouse</td>\n",
              "      <td>Exec-managerial</td>\n",
              "      <td>Husband</td>\n",
              "      <td>White</td>\n",
              "      <td>Male</td>\n",
              "      <td>0</td>\n",
              "      <td>0</td>\n",
              "      <td>45</td>\n",
              "      <td>United-States</td>\n",
              "      <td>&gt;50K</td>\n",
              "    </tr>\n",
              "    <tr>\n",
              "      <th>8</th>\n",
              "      <td>31</td>\n",
              "      <td>Private</td>\n",
              "      <td>45781</td>\n",
              "      <td>Masters</td>\n",
              "      <td>14</td>\n",
              "      <td>Never-married</td>\n",
              "      <td>Prof-specialty</td>\n",
              "      <td>Not-in-family</td>\n",
              "      <td>White</td>\n",
              "      <td>Female</td>\n",
              "      <td>14084</td>\n",
              "      <td>0</td>\n",
              "      <td>50</td>\n",
              "      <td>United-States</td>\n",
              "      <td>&gt;50K</td>\n",
              "    </tr>\n",
              "    <tr>\n",
              "      <th>9</th>\n",
              "      <td>42</td>\n",
              "      <td>Private</td>\n",
              "      <td>159449</td>\n",
              "      <td>Bachelors</td>\n",
              "      <td>13</td>\n",
              "      <td>Married-civ-spouse</td>\n",
              "      <td>Exec-managerial</td>\n",
              "      <td>Husband</td>\n",
              "      <td>White</td>\n",
              "      <td>Male</td>\n",
              "      <td>5178</td>\n",
              "      <td>0</td>\n",
              "      <td>40</td>\n",
              "      <td>United-States</td>\n",
              "      <td>&gt;50K</td>\n",
              "    </tr>\n",
              "    <tr>\n",
              "      <th>10</th>\n",
              "      <td>37</td>\n",
              "      <td>Private</td>\n",
              "      <td>280464</td>\n",
              "      <td>Some-college</td>\n",
              "      <td>10</td>\n",
              "      <td>Married-civ-spouse</td>\n",
              "      <td>Exec-managerial</td>\n",
              "      <td>Husband</td>\n",
              "      <td>Black</td>\n",
              "      <td>Male</td>\n",
              "      <td>0</td>\n",
              "      <td>0</td>\n",
              "      <td>80</td>\n",
              "      <td>United-States</td>\n",
              "      <td>&gt;50K</td>\n",
              "    </tr>\n",
              "    <tr>\n",
              "      <th>11</th>\n",
              "      <td>30</td>\n",
              "      <td>State-gov</td>\n",
              "      <td>141297</td>\n",
              "      <td>Bachelors</td>\n",
              "      <td>13</td>\n",
              "      <td>Married-civ-spouse</td>\n",
              "      <td>Prof-specialty</td>\n",
              "      <td>Husband</td>\n",
              "      <td>Asian-Pac-Islander</td>\n",
              "      <td>Male</td>\n",
              "      <td>0</td>\n",
              "      <td>0</td>\n",
              "      <td>40</td>\n",
              "      <td>India</td>\n",
              "      <td>&gt;50K</td>\n",
              "    </tr>\n",
              "    <tr>\n",
              "      <th>12</th>\n",
              "      <td>23</td>\n",
              "      <td>Private</td>\n",
              "      <td>122272</td>\n",
              "      <td>Bachelors</td>\n",
              "      <td>13</td>\n",
              "      <td>Never-married</td>\n",
              "      <td>Adm-clerical</td>\n",
              "      <td>Own-child</td>\n",
              "      <td>White</td>\n",
              "      <td>Female</td>\n",
              "      <td>0</td>\n",
              "      <td>0</td>\n",
              "      <td>30</td>\n",
              "      <td>United-States</td>\n",
              "      <td>&lt;=50K</td>\n",
              "    </tr>\n",
              "    <tr>\n",
              "      <th>13</th>\n",
              "      <td>32</td>\n",
              "      <td>Private</td>\n",
              "      <td>205019</td>\n",
              "      <td>Assoc-acdm</td>\n",
              "      <td>12</td>\n",
              "      <td>Never-married</td>\n",
              "      <td>Sales</td>\n",
              "      <td>Not-in-family</td>\n",
              "      <td>Black</td>\n",
              "      <td>Male</td>\n",
              "      <td>0</td>\n",
              "      <td>0</td>\n",
              "      <td>50</td>\n",
              "      <td>United-States</td>\n",
              "      <td>&lt;=50K</td>\n",
              "    </tr>\n",
              "    <tr>\n",
              "      <th>14</th>\n",
              "      <td>40</td>\n",
              "      <td>Private</td>\n",
              "      <td>121772</td>\n",
              "      <td>Assoc-voc</td>\n",
              "      <td>11</td>\n",
              "      <td>Married-civ-spouse</td>\n",
              "      <td>Craft-repair</td>\n",
              "      <td>Husband</td>\n",
              "      <td>Asian-Pac-Islander</td>\n",
              "      <td>Male</td>\n",
              "      <td>0</td>\n",
              "      <td>0</td>\n",
              "      <td>40</td>\n",
              "      <td>NaN</td>\n",
              "      <td>&gt;50K</td>\n",
              "    </tr>\n",
              "  </tbody>\n",
              "</table>\n",
              "</div>"
            ],
            "text/plain": [
              "    age          workclass  fnlwgt      education  education-num          marital-status          occupation    relationship                 race      sex  capital-gain  capital-loss  hours-per-week  native-country  income\n",
              "0    39          State-gov   77516      Bachelors             13           Never-married        Adm-clerical   Not-in-family                White     Male          2174             0              40   United-States   <=50K\n",
              "1    50   Self-emp-not-inc   83311      Bachelors             13      Married-civ-spouse     Exec-managerial         Husband                White     Male             0             0              13   United-States   <=50K\n",
              "2    38            Private  215646        HS-grad              9                Divorced   Handlers-cleaners   Not-in-family                White     Male             0             0              40   United-States   <=50K\n",
              "3    53            Private  234721           11th              7      Married-civ-spouse   Handlers-cleaners         Husband                Black     Male             0             0              40   United-States   <=50K\n",
              "4    28            Private  338409      Bachelors             13      Married-civ-spouse      Prof-specialty            Wife                Black   Female             0             0              40            Cuba   <=50K\n",
              "5    37            Private  284582        Masters             14      Married-civ-spouse     Exec-managerial            Wife                White   Female             0             0              40   United-States   <=50K\n",
              "6    49            Private  160187            9th              5   Married-spouse-absent       Other-service   Not-in-family                Black   Female             0             0              16         Jamaica   <=50K\n",
              "7    52   Self-emp-not-inc  209642        HS-grad              9      Married-civ-spouse     Exec-managerial         Husband                White     Male             0             0              45   United-States    >50K\n",
              "8    31            Private   45781        Masters             14           Never-married      Prof-specialty   Not-in-family                White   Female         14084             0              50   United-States    >50K\n",
              "9    42            Private  159449      Bachelors             13      Married-civ-spouse     Exec-managerial         Husband                White     Male          5178             0              40   United-States    >50K\n",
              "10   37            Private  280464   Some-college             10      Married-civ-spouse     Exec-managerial         Husband                Black     Male             0             0              80   United-States    >50K\n",
              "11   30          State-gov  141297      Bachelors             13      Married-civ-spouse      Prof-specialty         Husband   Asian-Pac-Islander     Male             0             0              40           India    >50K\n",
              "12   23            Private  122272      Bachelors             13           Never-married        Adm-clerical       Own-child                White   Female             0             0              30   United-States   <=50K\n",
              "13   32            Private  205019     Assoc-acdm             12           Never-married               Sales   Not-in-family                Black     Male             0             0              50   United-States   <=50K\n",
              "14   40            Private  121772      Assoc-voc             11      Married-civ-spouse        Craft-repair         Husband   Asian-Pac-Islander     Male             0             0              40             NaN    >50K"
            ]
          },
          "metadata": {
            "tags": []
          },
          "execution_count": 30
        }
      ]
    },
    {
      "cell_type": "code",
      "metadata": {
        "id": "MPnTkqPPJFt3",
        "colab_type": "code",
        "colab": {}
      },
      "source": [
        ""
      ],
      "execution_count": 0,
      "outputs": []
    },
    {
      "cell_type": "code",
      "metadata": {
        "id": "TPjmGaKjJFwK",
        "colab_type": "code",
        "outputId": "3be930a3-4064-4836-ac82-3f86576730c4",
        "colab": {
          "base_uri": "https://localhost:8080/",
          "height": 284
        }
      },
      "source": [
        "#Looking again at data\n",
        "#\n",
        "#check the data for missing values etc.\n",
        "#print(df_adult.count())\n",
        "print(df_adult.isna().sum())\n",
        "#print(df_adult.head())\n",
        "#print(df_adult.describe())\n",
        "#print(df_adult.shape)"
      ],
      "execution_count": 31,
      "outputs": [
        {
          "output_type": "stream",
          "text": [
            "age                  0\n",
            "workclass         1836\n",
            "fnlwgt               0\n",
            "education            0\n",
            "education-num        0\n",
            "marital-status       0\n",
            "occupation        1843\n",
            "relationship         0\n",
            "race                 0\n",
            "sex                  0\n",
            "capital-gain         0\n",
            "capital-loss         0\n",
            "hours-per-week       0\n",
            "native-country     583\n",
            "income               0\n",
            "dtype: int64\n"
          ],
          "name": "stdout"
        }
      ]
    },
    {
      "cell_type": "code",
      "metadata": {
        "id": "xQJ6ls3ugPjK",
        "colab_type": "code",
        "colab": {}
      },
      "source": [
        ""
      ],
      "execution_count": 0,
      "outputs": []
    },
    {
      "cell_type": "code",
      "metadata": {
        "id": "OgeofJZKgPmm",
        "colab_type": "code",
        "colab": {}
      },
      "source": [
        "# IT looks like there are still nan values that need to be filled in\n",
        "# as assigned we will be using the .fillna function.\n",
        "# I will do two sweeps, a forward fill and a back-fill, to make sure all cases are covered.\n",
        "\n",
        "df_adult.fillna(method ='ffill', inplace = True)\n",
        "df_adult.fillna(method ='backfill', inplace = True)\n",
        "\n"
      ],
      "execution_count": 0,
      "outputs": []
    },
    {
      "cell_type": "code",
      "metadata": {
        "id": "xcdBbm7mgPqe",
        "colab_type": "code",
        "colab": {}
      },
      "source": [
        "#Let's check again:\n",
        "print(df_adult.isna().sum())"
      ],
      "execution_count": 0,
      "outputs": []
    },
    {
      "cell_type": "code",
      "metadata": {
        "id": "wQSEX_e1giKZ",
        "colab_type": "code",
        "colab": {}
      },
      "source": [
        "#maybe it's ok, but let's look at more of the actual data to see if it's ok\n",
        "df_adult.head(100)\n",
        "\n",
        "# Yes, it looks like everything is ok!! (Go team!)"
      ],
      "execution_count": 0,
      "outputs": []
    },
    {
      "cell_type": "code",
      "metadata": {
        "id": "mkmwpQxMgiMq",
        "colab_type": "code",
        "colab": {}
      },
      "source": [
        ""
      ],
      "execution_count": 0,
      "outputs": []
    },
    {
      "cell_type": "code",
      "metadata": {
        "id": "6BWgWgfRgiQD",
        "colab_type": "code",
        "colab": {}
      },
      "source": [
        ""
      ],
      "execution_count": 0,
      "outputs": []
    },
    {
      "cell_type": "code",
      "metadata": {
        "id": "mri6puoFEhQL",
        "colab_type": "code",
        "outputId": "54a773ee-81c3-45c1-984b-9537c2b9677a",
        "colab": {
          "base_uri": "https://localhost:8080/",
          "height": 196
        }
      },
      "source": [
        "#This is from the original work done over the weekend.\n",
        "dataset1 = pd.read_csv('prek_dataset_csv3.csv')\n",
        "dataset1.head()"
      ],
      "execution_count": 34,
      "outputs": [
        {
          "output_type": "execute_result",
          "data": {
            "text/html": [
              "<div>\n",
              "<style scoped>\n",
              "    .dataframe tbody tr th:only-of-type {\n",
              "        vertical-align: middle;\n",
              "    }\n",
              "\n",
              "    .dataframe tbody tr th {\n",
              "        vertical-align: top;\n",
              "    }\n",
              "\n",
              "    .dataframe thead th {\n",
              "        text-align: right;\n",
              "    }\n",
              "</style>\n",
              "<table border=\"1\" class=\"dataframe\">\n",
              "  <thead>\n",
              "    <tr style=\"text-align: right;\">\n",
              "      <th></th>\n",
              "      <th>ethnicity</th>\n",
              "      <th>receptive_vocabulary</th>\n",
              "      <th>expressive_vocabulary</th>\n",
              "      <th>listening_comprehension</th>\n",
              "      <th>matching_discrimination</th>\n",
              "      <th>counting</th>\n",
              "    </tr>\n",
              "  </thead>\n",
              "  <tbody>\n",
              "    <tr>\n",
              "      <th>0</th>\n",
              "      <td>1</td>\n",
              "      <td>88.680084</td>\n",
              "      <td>70.753735</td>\n",
              "      <td>42.243457</td>\n",
              "      <td>37.108204</td>\n",
              "      <td>5.185253</td>\n",
              "    </tr>\n",
              "    <tr>\n",
              "      <th>1</th>\n",
              "      <td>2</td>\n",
              "      <td>82.627962</td>\n",
              "      <td>62.023166</td>\n",
              "      <td>35.357777</td>\n",
              "      <td>30.691528</td>\n",
              "      <td>3.652264</td>\n",
              "    </tr>\n",
              "    <tr>\n",
              "      <th>2</th>\n",
              "      <td>3</td>\n",
              "      <td>79.383332</td>\n",
              "      <td>55.704622</td>\n",
              "      <td>29.862567</td>\n",
              "      <td>25.533035</td>\n",
              "      <td>2.243786</td>\n",
              "    </tr>\n",
              "    <tr>\n",
              "      <th>3</th>\n",
              "      <td>3</td>\n",
              "      <td>78.266055</td>\n",
              "      <td>53.698080</td>\n",
              "      <td>28.213154</td>\n",
              "      <td>24.117186</td>\n",
              "      <td>1.903763</td>\n",
              "    </tr>\n",
              "    <tr>\n",
              "      <th>4</th>\n",
              "      <td>4</td>\n",
              "      <td>78.914840</td>\n",
              "      <td>54.167163</td>\n",
              "      <td>27.761501</td>\n",
              "      <td>23.158304</td>\n",
              "      <td>1.079575</td>\n",
              "    </tr>\n",
              "  </tbody>\n",
              "</table>\n",
              "</div>"
            ],
            "text/plain": [
              "   ethnicity  receptive_vocabulary  expressive_vocabulary  listening_comprehension  matching_discrimination  counting\n",
              "0          1             88.680084              70.753735                42.243457                37.108204  5.185253\n",
              "1          2             82.627962              62.023166                35.357777                30.691528  3.652264\n",
              "2          3             79.383332              55.704622                29.862567                25.533035  2.243786\n",
              "3          3             78.266055              53.698080                28.213154                24.117186  1.903763\n",
              "4          4             78.914840              54.167163                27.761501                23.158304  1.079575"
            ]
          },
          "metadata": {
            "tags": []
          },
          "execution_count": 34
        }
      ]
    },
    {
      "cell_type": "code",
      "metadata": {
        "id": "jiwdbUx38vHo",
        "colab_type": "code",
        "colab": {}
      },
      "source": [
        "ls"
      ],
      "execution_count": 0,
      "outputs": []
    },
    {
      "cell_type": "markdown",
      "metadata": {
        "id": "TCWM_P0q81Mz",
        "colab_type": "text"
      },
      "source": [
        ""
      ]
    },
    {
      "cell_type": "code",
      "metadata": {
        "id": "EP360Z97DTO0",
        "colab_type": "code",
        "outputId": "35835758-e14e-4aaf-884d-6299f78c9333",
        "colab": {
          "base_uri": "https://localhost:8080/",
          "height": 134
        }
      },
      "source": [
        "#check to see if file is ok and checking to see what spellings of headings is\n",
        "!curl https://raw.githubusercontent.com/lineality/DS8_1.1.1_GGAshbrook/master/prek_dataset_csv3.csv"
      ],
      "execution_count": 35,
      "outputs": [
        {
          "output_type": "stream",
          "text": [
            "ethnicity,receptive_vocabulary,expressive_vocabulary,listening_comprehension,matching_discrimination,counting\r\n",
            "1,88.680084,70.753735,42.243457,37.108204,5.185253\r\n",
            "2,82.627962,62.023166,35.357777,30.691528,3.652264\r\n",
            "3,79.383332,55.704622,29.862567,25.533035,2.243786\r\n",
            "3,78.266055,53.69808,28.213154,24.117186,1.903763\r\n",
            "4,78.91484,54.167163,27.761501,23.158304,1.079575\r\n",
            "5,74.908589,49.946801,25.507733,21.722392,1.448737\r\n"
          ],
          "name": "stdout"
        }
      ]
    },
    {
      "cell_type": "markdown",
      "metadata": {
        "id": "AaSCVcUVu0S8",
        "colab_type": "text"
      },
      "source": [
        "This is not the most exciting data-set, but it was very interesting to find:\n",
        "https://nsf.gov/nsb/sei/edTool/datatables/prek-01-2.xls\n",
        "\n",
        "I had to do a lot of manual reformatting, not all nessesary, but fun for experimentation."
      ]
    },
    {
      "cell_type": "code",
      "metadata": {
        "id": "x5P02Ai00DRW",
        "colab_type": "code",
        "outputId": "6d50b51e-a65f-420a-b33f-5ff618e7143d",
        "colab": {
          "base_uri": "https://localhost:8080/",
          "height": 283
        }
      },
      "source": [
        "#Scatterplot\n",
        "# Pandas Scatterplot\n",
        "dataset1.plot.scatter('ethnicity', 'receptive_vocabulary');"
      ],
      "execution_count": 36,
      "outputs": [
        {
          "output_type": "display_data",
          "data": {
            "image/png": "[encoded data removed]",
            "text/plain": [
              "<Figure size 432x288 with 1 Axes>"
            ]
          },
          "metadata": {
            "tags": []
          }
        }
      ]
    },
    {
      "cell_type": "code",
      "metadata": {
        "id": "T59br7Dn0DUO",
        "colab_type": "code",
        "outputId": "8fc9d4da-2f10-4b20-df53-3663217bf967",
        "colab": {
          "base_uri": "https://localhost:8080/",
          "height": 269
        }
      },
      "source": [
        "#Histogram \n",
        "\n",
        "# Using Pandas to generate a simple Histogram \n",
        "dataset1['ethnicity'].hist(bins=10);\n"
      ],
      "execution_count": 37,
      "outputs": [
        {
          "output_type": "display_data",
          "data": {
            "image/png": "[encoded data removed]",
            "text/plain": [
              "<Figure size 432x288 with 1 Axes>"
            ]
          },
          "metadata": {
            "tags": []
          }
        }
      ]
    },
    {
      "cell_type": "code",
      "metadata": {
        "id": "Enn_sedg0DYQ",
        "colab_type": "code",
        "outputId": "fe33c8a1-c4cf-4bf3-e374-d61ba1b8005a",
        "colab": {
          "base_uri": "https://localhost:8080/",
          "height": 269
        }
      },
      "source": [
        "#Density Plot\n",
        "#Pandas Density Plot\n",
        "dataset1['ethnicity'].plot.density();"
      ],
      "execution_count": 38,
      "outputs": [
        {
          "output_type": "display_data",
          "data": {
            "image/png": "[encoded data removed]",
            "text/plain": [
              "<Figure size 432x288 with 1 Axes>"
            ]
          },
          "metadata": {
            "tags": []
          }
        }
      ]
    },
    {
      "cell_type": "markdown",
      "metadata": {
        "id": "MZCxTwKuReV9",
        "colab_type": "text"
      },
      "source": [
        "## Stretch Goals - Other types and sources of data\n",
        "\n",
        "Not all data comes in a nice single file - for example, image classification involves handling lots of image files. You still will probably want labels for them, so you may have tabular data in addition to the image blobs - and the images may be reduced in resolution and even fit in a regular csv as a bunch of numbers.\n",
        "\n",
        "If you're interested in natural language processing and analyzing text, that is another example where, while it can be put in a csv, you may end up loading much larger raw data and generating features that can then be thought of in a more standard tabular fashion.\n",
        "\n",
        "Overall you will in the course of learning data science deal with loading data in a variety of ways. Another common way to get data is from a database - most modern applications are backed by one or more databases, which you can query to get data to analyze. We'll cover this more in our data engineering unit.\n",
        "\n",
        "How does data get in the database? Most applications generate logs - text files with lots and lots of records of each use of the application. Databases are often populated based on these files, but in some situations you may directly analyze log files. The usual way to do this is with command line (Unix) tools - command lines are intimidating, so don't expect to learn them all at once, but depending on your interests it can be useful to practice.\n",
        "\n",
        "One last major source of data is APIs: https://github.com/toddmotto/public-apis\n",
        "\n",
        "API stands for Application Programming Interface, and while originally meant e.g. the way an application interfaced with the GUI or other aspects of an operating system, now it largely refers to online services that let you query and retrieve data. You can essentially think of most of them as \"somebody else's database\" - you have (usually limited) access.\n",
        "\n",
        "*Stretch goal* - research one of the above extended forms of data/data loading. See if you can get a basic example working in a notebook. Image, text, or (public) APIs are probably more tractable - databases are interesting, but there aren't many publicly accessible and they require a great deal of setup."
      ]
    },
    {
      "cell_type": "code",
      "metadata": {
        "id": "f4QP6--JBXNK",
        "colab_type": "code",
        "colab": {}
      },
      "source": [
        "#stretch goals\n",
        "#as far as I am concerned this is experimenting out of fascination, passion, and interest, not mastery. I am not claiming full credit for this last part, \n",
        "#every single part...e.g. I am just starting to learn about dealing with classifiers...in this context."
      ],
      "execution_count": 0,
      "outputs": []
    },
    {
      "cell_type": "code",
      "metadata": {
        "id": "yky6K0EEs1LI",
        "colab_type": "code",
        "colab": {}
      },
      "source": [
        "#as far as I am concerned this is experimenting out of fascination, passion, and interest, not mastery. I am not claiming full credit for this last part.\n",
        "\n",
        "#This is experimentation, not mastery on my part, \n",
        "#taking information from different places to cobble together something that works\n",
        "# https://en.wikipedia.org/wiki/Iris_flower_data_set\n",
        "#https://scikit-learn.org/0.16/modules/generated/sklearn.datasets.load_iris.html\n",
        "#https://scikit-learn.org/stable/auto_examples/datasets/plot_iris_dataset.html\n",
        "#https://scikit-learn.org/stable/auto_examples/classification/plot_classifier_comparison.html\n",
        "\n",
        "import matplotlib.pyplot as plt\n",
        "from mpl_toolkits.mplot3d import Axes3D\n",
        "from sklearn import datasets\n",
        "from sklearn.decomposition import PCA\n",
        "\n",
        "# import data which seems to be directly through sklearn\n",
        "# this particular example it appears that loading the data\n",
        "# is oddly simple\n",
        "irises = datasets.load_iris()\n"
      ],
      "execution_count": 0,
      "outputs": []
    },
    {
      "cell_type": "code",
      "metadata": {
        "id": "A68hrfXvs1Nu",
        "colab_type": "code",
        "colab": {
          "base_uri": "https://localhost:8080/",
          "height": 420
        },
        "outputId": "ac3b3201-4506-4061-f24a-547c13bffc9c"
      },
      "source": [
        "#note, error messages result with any attempts to inspect the data as with arrays\n",
        "irises.head(2)"
      ],
      "execution_count": 43,
      "outputs": [
        {
          "output_type": "error",
          "ename": "AttributeError",
          "evalue": "ignored",
          "traceback": [
            "\u001b[0;31m---------------------------------------------------------------------------\u001b[0m",
            "\u001b[0;31mKeyError\u001b[0m                                  Traceback (most recent call last)",
            "\u001b[0;32m/usr/local/lib/python3.6/dist-packages/sklearn/utils/__init__.py\u001b[0m in \u001b[0;36m__getattr__\u001b[0;34m(self, key)\u001b[0m\n\u001b[1;32m    104\u001b[0m         \u001b[0;32mtry\u001b[0m\u001b[0;34m:\u001b[0m\u001b[0;34m\u001b[0m\u001b[0;34m\u001b[0m\u001b[0m\n\u001b[0;32m--> 105\u001b[0;31m             \u001b[0;32mreturn\u001b[0m \u001b[0mself\u001b[0m\u001b[0;34m[\u001b[0m\u001b[0mkey\u001b[0m\u001b[0;34m]\u001b[0m\u001b[0;34m\u001b[0m\u001b[0;34m\u001b[0m\u001b[0m\n\u001b[0m\u001b[1;32m    106\u001b[0m         \u001b[0;32mexcept\u001b[0m \u001b[0mKeyError\u001b[0m\u001b[0;34m:\u001b[0m\u001b[0;34m\u001b[0m\u001b[0;34m\u001b[0m\u001b[0m\n",
            "\u001b[0;31mKeyError\u001b[0m: 'head'",
            "\nDuring handling of the above exception, another exception occurred:\n",
            "\u001b[0;31mAttributeError\u001b[0m                            Traceback (most recent call last)",
            "\u001b[0;32m<ipython-input-43-b838954711fd>\u001b[0m in \u001b[0;36m<module>\u001b[0;34m()\u001b[0m\n\u001b[0;32m----> 1\u001b[0;31m \u001b[0mirises\u001b[0m\u001b[0;34m.\u001b[0m\u001b[0mhead\u001b[0m\u001b[0;34m(\u001b[0m\u001b[0;36m2\u001b[0m\u001b[0;34m)\u001b[0m\u001b[0;34m\u001b[0m\u001b[0;34m\u001b[0m\u001b[0m\n\u001b[0m",
            "\u001b[0;32m/usr/local/lib/python3.6/dist-packages/sklearn/utils/__init__.py\u001b[0m in \u001b[0;36m__getattr__\u001b[0;34m(self, key)\u001b[0m\n\u001b[1;32m    105\u001b[0m             \u001b[0;32mreturn\u001b[0m \u001b[0mself\u001b[0m\u001b[0;34m[\u001b[0m\u001b[0mkey\u001b[0m\u001b[0;34m]\u001b[0m\u001b[0;34m\u001b[0m\u001b[0;34m\u001b[0m\u001b[0m\n\u001b[1;32m    106\u001b[0m         \u001b[0;32mexcept\u001b[0m \u001b[0mKeyError\u001b[0m\u001b[0;34m:\u001b[0m\u001b[0;34m\u001b[0m\u001b[0;34m\u001b[0m\u001b[0m\n\u001b[0;32m--> 107\u001b[0;31m             \u001b[0;32mraise\u001b[0m \u001b[0mAttributeError\u001b[0m\u001b[0;34m(\u001b[0m\u001b[0mkey\u001b[0m\u001b[0;34m)\u001b[0m\u001b[0;34m\u001b[0m\u001b[0;34m\u001b[0m\u001b[0m\n\u001b[0m\u001b[1;32m    108\u001b[0m \u001b[0;34m\u001b[0m\u001b[0m\n\u001b[1;32m    109\u001b[0m     \u001b[0;32mdef\u001b[0m \u001b[0m__setstate__\u001b[0m\u001b[0;34m(\u001b[0m\u001b[0mself\u001b[0m\u001b[0;34m,\u001b[0m \u001b[0mstate\u001b[0m\u001b[0;34m)\u001b[0m\u001b[0;34m:\u001b[0m\u001b[0;34m\u001b[0m\u001b[0;34m\u001b[0m\u001b[0m\n",
            "\u001b[0;31mAttributeError\u001b[0m: head"
          ]
        }
      ]
    },
    {
      "cell_type": "code",
      "metadata": {
        "id": "1EKu0pF1s1Ua",
        "colab_type": "code",
        "outputId": "1ad2bf8f-b1a4-4400-cfed-6f4525d7efce",
        "colab": {
          "base_uri": "https://localhost:8080/",
          "height": 404
        }
      },
      "source": [
        "X = irises.data[:, :2]  # features, not sure why number up to 4 work sometimes...\n",
        "y = irises.target\n",
        "\n",
        "#calibrating the classifiers...\n",
        "x_min, x_max = X[:, 0].min() - .5, X[:, 0].max() + .5\n",
        "y_min, y_max = X[:, 1].min() - .5, X[:, 1].max() + .5\n",
        "\n",
        "\n",
        "#plot figure\n",
        "plt.figure(figsize=(8, 6))\n",
        "\n",
        "#Colors of parts, \n",
        "plt.scatter(X[:, 0], X[:, 1], c=y, cmap=plt.cm.Set3, edgecolor='r')\n",
        "#adding lables for axes\n",
        "plt.xlabel('length of iris feature')\n",
        "plt.ylabel('width of iris feature')\n",
        "\n",
        "#make the graph!!!\n",
        "plt.title('Embrace the iris!')\n",
        "plt.show()"
      ],
      "execution_count": 44,
      "outputs": [
        {
          "output_type": "display_data",
          "data": {
            "image/png": "[encoded data removed]",
            "text/plain": [
              "<Figure size 576x432 with 1 Axes>"
            ]
          },
          "metadata": {
            "tags": []
          }
        }
      ]
    },
    {
      "cell_type": "code",
      "metadata": {
        "id": "AwaKX2vVs1ZQ",
        "colab_type": "code",
        "outputId": "d47bd944-5702-4194-c5e0-ae378687b4be",
        "colab": {
          "base_uri": "https://localhost:8080/",
          "height": 404
        }
      },
      "source": [
        "#some color map schemes work better than others\n",
        "\n",
        "\n",
        "X = irises.data[:, :2]  # features, not sure why number up to 4 work sometimes...\n",
        "y = irises.target\n",
        "\n",
        "#calibrating the classifiers...\n",
        "x_min, x_max = X[:, 0].min() - .5, X[:, 0].max() + .5\n",
        "y_min, y_max = X[:, 1].min() - .5, X[:, 1].max() + .5\n",
        "\n",
        "#plot figure\n",
        "plt.figure(figsize=(8, 6))\n",
        "\n",
        "# Here is where the color scheme is set:(see the #1)\n",
        "#Colors of parts, \n",
        "plt.scatter(X[:, 0], X[:, 1], c=y, cmap=plt.cm.Set1, edgecolor='b')\n",
        "#adding lables for axes\n",
        "plt.xlabel('length of plant feature')\n",
        "plt.ylabel('width of plant feature')\n",
        "\n",
        "#make the graph!!!\n",
        "plt.title('Behold, the iris!')\n",
        "plt.show()"
      ],
      "execution_count": 45,
      "outputs": [
        {
          "output_type": "display_data",
          "data": {
            "image/png": "[encoded data removed]",
            "text/plain": [
              "<Figure size 576x432 with 1 Axes>"
            ]
          },
          "metadata": {
            "tags": []
          }
        }
      ]
    },
    {
      "cell_type": "code",
      "metadata": {
        "id": "JM0z9lf5s1W_",
        "colab_type": "code",
        "colab": {}
      },
      "source": [
        ""
      ],
      "execution_count": 0,
      "outputs": []
    },
    {
      "cell_type": "code",
      "metadata": {
        "id": "N9T9zGb5s1SF",
        "colab_type": "code",
        "colab": {}
      },
      "source": [
        ""
      ],
      "execution_count": 0,
      "outputs": []
    },
    {
      "cell_type": "code",
      "metadata": {
        "id": "lnYnvJyds1Ii",
        "colab_type": "code",
        "colab": {}
      },
      "source": [
        ""
      ],
      "execution_count": 0,
      "outputs": []
    }
  ]
}