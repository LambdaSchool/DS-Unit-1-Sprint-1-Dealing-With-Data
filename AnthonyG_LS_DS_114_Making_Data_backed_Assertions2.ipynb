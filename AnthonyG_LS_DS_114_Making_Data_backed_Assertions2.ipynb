{
  "nbformat": 4,
  "nbformat_minor": 0,
  "metadata": {
    "colab": {
      "name": "AnthonyG_LS_DS_114_Making_Data_backed_Assertions2.ipynb",
      "version": "0.3.2",
      "provenance": [],
      "collapsed_sections": [],
      "include_colab_link": true
    },
    "kernelspec": {
      "name": "python3",
      "display_name": "Python 3"
    }
  },
  "cells": [
    {
      "cell_type": "markdown",
      "metadata": {
        "id": "view-in-github",
        "colab_type": "text"
      },
      "source": [
        "<a href=\"https://colab.research.google.com/github/Anthonyyoyo/DS-Unit-1-Sprint-1-Dealing-With-Data/blob/master/AnthonyG_LS_DS_114_Making_Data_backed_Assertions2.ipynb\" target=\"_parent\"><img src=\"https://colab.research.google.com/assets/colab-badge.svg\" alt=\"Open In Colab\"/></a>"
      ]
    },
    {
      "cell_type": "markdown",
      "metadata": {
        "id": "Okfr_uhwhS1X",
        "colab_type": "text"
      },
      "source": [
        "# Lambda School Data Science - Making Data-backed Assertions\n",
        "\n",
        "This is, for many, the main point of data science - to create and support reasoned arguments based on evidence. It's not a topic to master in a day, but it is worth some focused time thinking about and structuring your approach to it."
      ]
    },
    {
      "cell_type": "markdown",
      "metadata": {
        "id": "9dtJETFRhnOG",
        "colab_type": "text"
      },
      "source": [
        "## Lecture - generating a confounding variable\n",
        "\n",
        "The prewatch material told a story about a hypothetical health condition where both the drug usage and overall health outcome were related to gender - thus making gender a confounding variable, obfuscating the possible relationship between the drug and the outcome.\n",
        "\n",
        "Let's use Python to generate data that actually behaves in this fashion!"
      ]
    },
    {
      "cell_type": "code",
      "metadata": {
        "id": "WiBkgmPJhmhE",
        "colab_type": "code",
        "outputId": "b05065d6-183a-44e4-bf16-d80aaa7bf9b9",
        "colab": {
          "base_uri": "https://localhost:8080/",
          "height": 1000
        }
      },
      "source": [
        "import random\n",
        "dir(random)  # Reminding ourselves what we can do here"
      ],
      "execution_count": 2,
      "outputs": [
        {
          "output_type": "execute_result",
          "data": {
            "text/plain": [
              "['BPF',\n",
              " 'LOG4',\n",
              " 'NV_MAGICCONST',\n",
              " 'RECIP_BPF',\n",
              " 'Random',\n",
              " 'SG_MAGICCONST',\n",
              " 'SystemRandom',\n",
              " 'TWOPI',\n",
              " '_BuiltinMethodType',\n",
              " '_MethodType',\n",
              " '_Sequence',\n",
              " '_Set',\n",
              " '__all__',\n",
              " '__builtins__',\n",
              " '__cached__',\n",
              " '__doc__',\n",
              " '__file__',\n",
              " '__loader__',\n",
              " '__name__',\n",
              " '__package__',\n",
              " '__spec__',\n",
              " '_acos',\n",
              " '_bisect',\n",
              " '_ceil',\n",
              " '_cos',\n",
              " '_e',\n",
              " '_exp',\n",
              " '_inst',\n",
              " '_itertools',\n",
              " '_log',\n",
              " '_pi',\n",
              " '_random',\n",
              " '_sha512',\n",
              " '_sin',\n",
              " '_sqrt',\n",
              " '_test',\n",
              " '_test_generator',\n",
              " '_urandom',\n",
              " '_warn',\n",
              " 'betavariate',\n",
              " 'choice',\n",
              " 'choices',\n",
              " 'expovariate',\n",
              " 'gammavariate',\n",
              " 'gauss',\n",
              " 'getrandbits',\n",
              " 'getstate',\n",
              " 'lognormvariate',\n",
              " 'normalvariate',\n",
              " 'paretovariate',\n",
              " 'randint',\n",
              " 'random',\n",
              " 'randrange',\n",
              " 'sample',\n",
              " 'seed',\n",
              " 'setstate',\n",
              " 'shuffle',\n",
              " 'triangular',\n",
              " 'uniform',\n",
              " 'vonmisesvariate',\n",
              " 'weibullvariate']"
            ]
          },
          "metadata": {
            "tags": []
          },
          "execution_count": 2
        }
      ]
    },
    {
      "cell_type": "code",
      "metadata": {
        "id": "vgXWAdcmloM0",
        "colab_type": "code",
        "outputId": "a2778f20-176c-4061-f21b-3b346b30285d",
        "colab": {
          "base_uri": "https://localhost:8080/",
          "height": 35
        }
      },
      "source": [
        "from collections import namedtuple\n",
        "\n",
        "User = namedtuple('User', ['purchased','time_on_site', 'mobile'])\n",
        "example_user = User(False, 12, False)\n",
        "example_user"
      ],
      "execution_count": 3,
      "outputs": [
        {
          "output_type": "execute_result",
          "data": {
            "text/plain": [
              "User(purchased=False, time_on_site=12, mobile=False)"
            ]
          },
          "metadata": {
            "tags": []
          },
          "execution_count": 3
        }
      ]
    },
    {
      "cell_type": "code",
      "metadata": {
        "id": "NFq4XSKJmoBZ",
        "colab_type": "code",
        "outputId": "382f3749-08d3-489e-cfd6-bc226f21cde8",
        "colab": {
          "base_uri": "https://localhost:8080/",
          "height": 35
        }
      },
      "source": [
        "example_user[1]"
      ],
      "execution_count": 8,
      "outputs": [
        {
          "output_type": "execute_result",
          "data": {
            "text/plain": [
              "12"
            ]
          },
          "metadata": {
            "tags": []
          },
          "execution_count": 8
        }
      ]
    },
    {
      "cell_type": "code",
      "metadata": {
        "id": "eGrJVL28GoDG",
        "colab_type": "code",
        "colab": {
          "base_uri": "https://localhost:8080/",
          "height": 35
        },
        "outputId": "4efd8fe0-0675-42f9-e3a8-77db3c17d72d"
      },
      "source": [
        "#Changes with every run\n",
        "random.uniform(10, 600)"
      ],
      "execution_count": 11,
      "outputs": [
        {
          "output_type": "execute_result",
          "data": {
            "text/plain": [
              "483.47958086183854"
            ]
          },
          "metadata": {
            "tags": []
          },
          "execution_count": 11
        }
      ]
    },
    {
      "cell_type": "code",
      "metadata": {
        "id": "Ks5qFtpnq-q5",
        "colab_type": "code",
        "outputId": "d72ce53e-5e4d-49ce-fbf6-b95b8960639f",
        "colab": {
          "base_uri": "https://localhost:8080/",
          "height": 35
        }
      },
      "source": [
        "# Let's think of another scenario:\n",
        "# We work for a company that sells accessories for mobile phones.\n",
        "# They have an ecommerce site, and we are supposed to analyze logs\n",
        "# to determine what sort of usage is related to purchases, and thus guide\n",
        "# website development to encourage higher conversion.\n",
        "\n",
        "# The hypothesis - users who spend longer on the site tend\n",
        "# to spend more. Seems reasonable, no?\n",
        "\n",
        "# But there's a confounding variable! If they're on a phone, they:\n",
        "# a) Spend less time on the site, but\n",
        "# b) Are more likely to be interested in the actual products!\n",
        "\n",
        "# Let's use namedtuple to represent our data\n",
        "\n",
        "from collections import namedtuple\n",
        "# purchased and mobile are bools, time_on_site in seconds\n",
        "User = namedtuple('User', ['purchased','time_on_site', 'mobile'])\n",
        "\n",
        "example_user = User(False, 12, False)\n",
        "print(example_user)"
      ],
      "execution_count": 12,
      "outputs": [
        {
          "output_type": "stream",
          "text": [
            "User(purchased=False, time_on_site=12, mobile=False)\n"
          ],
          "name": "stdout"
        }
      ]
    },
    {
      "cell_type": "code",
      "metadata": {
        "id": "O8eNmP-xol4x",
        "colab_type": "code",
        "outputId": "d35a5fea-c8a4-4fbc-ef40-cffe4e2b84db",
        "colab": {
          "base_uri": "https://localhost:8080/",
          "height": 35
        }
      },
      "source": [
        "import numpy as np\n",
        "\n",
        "np.random.normal(10,2)"
      ],
      "execution_count": 13,
      "outputs": [
        {
          "output_type": "execute_result",
          "data": {
            "text/plain": [
              "10.867157443897732"
            ]
          },
          "metadata": {
            "tags": []
          },
          "execution_count": 13
        }
      ]
    },
    {
      "cell_type": "code",
      "metadata": {
        "id": "lfPiHNG_sefL",
        "colab_type": "code",
        "outputId": "d8c5ccdd-2f89-44e3-ca88-e60b19d6ded1",
        "colab": {
          "base_uri": "https://localhost:8080/",
          "height": 201
        }
      },
      "source": [
        "# And now let's generate 1000 example users\n",
        "# 750 mobile, 250 not (i.e. desktop)\n",
        "# A desktop user has a base conversion likelihood of 10%\n",
        "# And it goes up by 1% for each 15 seconds they spend on the site\n",
        "# And they spend anywhere from 10 seconds to 10 minutes on the site (uniform)\n",
        "# Mobile users spend on average half as much time on the site as desktop\n",
        "# But have three times as much base likelihood of buying something\n",
        "\n",
        "users = []\n",
        "\n",
        "for _ in range(250):\n",
        "  # Desktop users\n",
        "  # time_on_site = random.uniform(10, 600)\n",
        "  time_on_site = np.random.normal(9.4*60, 3*60)\n",
        "  purchased = random.random() < 0.1 + (time_on_site / 1500)\n",
        "  users.append(User(purchased, time_on_site, False))\n",
        "  \n",
        "for _ in range(750):\n",
        "  # Mobile users\n",
        "  # time_on_site = random.uniform(5, 300)\n",
        "  time_on_site = np.random.normal(7.5*60, 2.5*60)\n",
        "  purchased = random.random() < 0.3 + (time_on_site / 1500)\n",
        "  users.append(User(purchased, time_on_site, True))\n",
        "  \n",
        "random.shuffle(users)\n",
        "users[:10]"
      ],
      "execution_count": 14,
      "outputs": [
        {
          "output_type": "execute_result",
          "data": {
            "text/plain": [
              "[User(purchased=False, time_on_site=477.1960516594001, mobile=True),\n",
              " User(purchased=False, time_on_site=591.39463642989, mobile=False),\n",
              " User(purchased=False, time_on_site=269.3166645952039, mobile=True),\n",
              " User(purchased=True, time_on_site=527.4918630005394, mobile=True),\n",
              " User(purchased=True, time_on_site=190.33302199291774, mobile=False),\n",
              " User(purchased=False, time_on_site=569.3552847689216, mobile=False),\n",
              " User(purchased=True, time_on_site=484.38627537497746, mobile=False),\n",
              " User(purchased=False, time_on_site=389.5882584704165, mobile=True),\n",
              " User(purchased=True, time_on_site=422.0381355323397, mobile=True),\n",
              " User(purchased=False, time_on_site=618.0929684468699, mobile=False)]"
            ]
          },
          "metadata": {
            "tags": []
          },
          "execution_count": 14
        }
      ]
    },
    {
      "cell_type": "code",
      "metadata": {
        "id": "n-qKJbkLK2py",
        "colab_type": "code",
        "colab": {
          "base_uri": "https://localhost:8080/",
          "height": 35
        },
        "outputId": "0e7612a8-d3fc-4ae0-f61f-230094917b22"
      },
      "source": [
        "#normal random with two arguments means and SD\n",
        "import numpy as np\n",
        "np.random.normal(10, 2)"
      ],
      "execution_count": 19,
      "outputs": [
        {
          "output_type": "execute_result",
          "data": {
            "text/plain": [
              "8.567844811797357"
            ]
          },
          "metadata": {
            "tags": []
          },
          "execution_count": 19
        }
      ]
    },
    {
      "cell_type": "code",
      "metadata": {
        "id": "9gDYb5qGuRzy",
        "colab_type": "code",
        "outputId": "2931323b-de21-4615-c76f-7db0b92abe0d",
        "colab": {
          "base_uri": "https://localhost:8080/",
          "height": 206
        }
      },
      "source": [
        "# Let's put this in a dataframe so we can look at it more easily\n",
        "import pandas as pd\n",
        "user_data = pd.DataFrame(users)\n",
        "user_data.head()"
      ],
      "execution_count": 15,
      "outputs": [
        {
          "output_type": "execute_result",
          "data": {
            "text/html": [
              "<div>\n",
              "<style scoped>\n",
              "    .dataframe tbody tr th:only-of-type {\n",
              "        vertical-align: middle;\n",
              "    }\n",
              "\n",
              "    .dataframe tbody tr th {\n",
              "        vertical-align: top;\n",
              "    }\n",
              "\n",
              "    .dataframe thead th {\n",
              "        text-align: right;\n",
              "    }\n",
              "</style>\n",
              "<table border=\"1\" class=\"dataframe\">\n",
              "  <thead>\n",
              "    <tr style=\"text-align: right;\">\n",
              "      <th></th>\n",
              "      <th>purchased</th>\n",
              "      <th>time_on_site</th>\n",
              "      <th>mobile</th>\n",
              "    </tr>\n",
              "  </thead>\n",
              "  <tbody>\n",
              "    <tr>\n",
              "      <th>0</th>\n",
              "      <td>False</td>\n",
              "      <td>477.196052</td>\n",
              "      <td>True</td>\n",
              "    </tr>\n",
              "    <tr>\n",
              "      <th>1</th>\n",
              "      <td>False</td>\n",
              "      <td>591.394636</td>\n",
              "      <td>False</td>\n",
              "    </tr>\n",
              "    <tr>\n",
              "      <th>2</th>\n",
              "      <td>False</td>\n",
              "      <td>269.316665</td>\n",
              "      <td>True</td>\n",
              "    </tr>\n",
              "    <tr>\n",
              "      <th>3</th>\n",
              "      <td>True</td>\n",
              "      <td>527.491863</td>\n",
              "      <td>True</td>\n",
              "    </tr>\n",
              "    <tr>\n",
              "      <th>4</th>\n",
              "      <td>True</td>\n",
              "      <td>190.333022</td>\n",
              "      <td>False</td>\n",
              "    </tr>\n",
              "  </tbody>\n",
              "</table>\n",
              "</div>"
            ],
            "text/plain": [
              "   purchased  time_on_site  mobile\n",
              "0      False    477.196052    True\n",
              "1      False    591.394636   False\n",
              "2      False    269.316665    True\n",
              "3       True    527.491863    True\n",
              "4       True    190.333022   False"
            ]
          },
          "metadata": {
            "tags": []
          },
          "execution_count": 15
        }
      ]
    },
    {
      "cell_type": "code",
      "metadata": {
        "id": "ZkfgdXavR5Cw",
        "colab_type": "code",
        "colab": {
          "base_uri": "https://localhost:8080/",
          "height": 206
        },
        "outputId": "834ac010-e488-480a-e126-8e812d764bf7"
      },
      "source": [
        "user_data['time_on_site_min'] = user_data['time_on_site']/60\n",
        "user_data.head()"
      ],
      "execution_count": 20,
      "outputs": [
        {
          "output_type": "execute_result",
          "data": {
            "text/html": [
              "<div>\n",
              "<style scoped>\n",
              "    .dataframe tbody tr th:only-of-type {\n",
              "        vertical-align: middle;\n",
              "    }\n",
              "\n",
              "    .dataframe tbody tr th {\n",
              "        vertical-align: top;\n",
              "    }\n",
              "\n",
              "    .dataframe thead th {\n",
              "        text-align: right;\n",
              "    }\n",
              "</style>\n",
              "<table border=\"1\" class=\"dataframe\">\n",
              "  <thead>\n",
              "    <tr style=\"text-align: right;\">\n",
              "      <th></th>\n",
              "      <th>purchased</th>\n",
              "      <th>time_on_site</th>\n",
              "      <th>mobile</th>\n",
              "      <th>time_on_site_min</th>\n",
              "    </tr>\n",
              "  </thead>\n",
              "  <tbody>\n",
              "    <tr>\n",
              "      <th>0</th>\n",
              "      <td>False</td>\n",
              "      <td>477.196052</td>\n",
              "      <td>True</td>\n",
              "      <td>7.953268</td>\n",
              "    </tr>\n",
              "    <tr>\n",
              "      <th>1</th>\n",
              "      <td>False</td>\n",
              "      <td>591.394636</td>\n",
              "      <td>False</td>\n",
              "      <td>9.856577</td>\n",
              "    </tr>\n",
              "    <tr>\n",
              "      <th>2</th>\n",
              "      <td>False</td>\n",
              "      <td>269.316665</td>\n",
              "      <td>True</td>\n",
              "      <td>4.488611</td>\n",
              "    </tr>\n",
              "    <tr>\n",
              "      <th>3</th>\n",
              "      <td>True</td>\n",
              "      <td>527.491863</td>\n",
              "      <td>True</td>\n",
              "      <td>8.791531</td>\n",
              "    </tr>\n",
              "    <tr>\n",
              "      <th>4</th>\n",
              "      <td>True</td>\n",
              "      <td>190.333022</td>\n",
              "      <td>False</td>\n",
              "      <td>3.172217</td>\n",
              "    </tr>\n",
              "  </tbody>\n",
              "</table>\n",
              "</div>"
            ],
            "text/plain": [
              "   purchased  time_on_site  mobile  time_on_site_min\n",
              "0      False    477.196052    True          7.953268\n",
              "1      False    591.394636   False          9.856577\n",
              "2      False    269.316665    True          4.488611\n",
              "3       True    527.491863    True          8.791531\n",
              "4       True    190.333022   False          3.172217"
            ]
          },
          "metadata": {
            "tags": []
          },
          "execution_count": 20
        }
      ]
    },
    {
      "cell_type": "code",
      "metadata": {
        "id": "vYhp5ybWSHv-",
        "colab_type": "code",
        "colab": {
          "base_uri": "https://localhost:8080/",
          "height": 422
        },
        "outputId": "617e5cc2-216c-4bf0-fd69-be5b339274ab"
      },
      "source": [
        "#Creating histogram of time on site per min based on mobile users\n",
        "\n",
        "import matplotlib.pyplot as plt\n",
        "\n",
        "user_data.groupby('mobile')['time_on_site_min'].hist(bins=20, alpha=0.5, figsize=(10, 6))\n",
        "\n",
        "plt.title('Time on Site by Source')\n",
        "plt.xlabel('Time in Minutes')\n",
        "plt.ylabel('Count')\n",
        "plt.legend(['Desktop', 'Mobile'])"
      ],
      "execution_count": 25,
      "outputs": [
        {
          "output_type": "execute_result",
          "data": {
            "text/plain": [
              "<matplotlib.legend.Legend at 0x7f05e72b01d0>"
            ]
          },
          "metadata": {
            "tags": []
          },
          "execution_count": 25
        },
        {
          "output_type": "display_data",
          "data": {
            "image/png": "[encoded data removed]",
            "text/plain": [
              "<Figure size 720x432 with 1 Axes>"
            ]
          },
          "metadata": {
            "tags": []
          }
        }
      ]
    },
    {
      "cell_type": "code",
      "metadata": {
        "id": "nRt3A_YzKCWM",
        "colab_type": "code",
        "colab": {
          "base_uri": "https://localhost:8080/",
          "height": 287
        },
        "outputId": "3d08405f-3637-4f6b-c9bd-37ae4439030a"
      },
      "source": [
        "user_data['time_on_site'].hist(bins=50)"
      ],
      "execution_count": 17,
      "outputs": [
        {
          "output_type": "execute_result",
          "data": {
            "text/plain": [
              "<matplotlib.axes._subplots.AxesSubplot at 0x7f05e8ab6208>"
            ]
          },
          "metadata": {
            "tags": []
          },
          "execution_count": 17
        },
        {
          "output_type": "display_data",
          "data": {
            "image/png": "[encoded data removed]",
            "text/plain": [
              "<Figure size 432x288 with 1 Axes>"
            ]
          },
          "metadata": {
            "tags": []
          }
        }
      ]
    },
    {
      "cell_type": "code",
      "metadata": {
        "id": "2wtlajslqnbM",
        "colab_type": "code",
        "outputId": "b6b9a3c5-4efc-41cd-9773-0b3eb3e22560",
        "colab": {
          "base_uri": "https://localhost:8080/",
          "height": 195
        }
      },
      "source": [
        "# Convert seconds to minutes (for comparison)\n",
        "user_data['time_on_site_min'] = user_data['time_on_site'] / 60\n",
        "user_data.head()"
      ],
      "execution_count": 0,
      "outputs": [
        {
          "output_type": "execute_result",
          "data": {
            "text/html": [
              "<div>\n",
              "<style scoped>\n",
              "    .dataframe tbody tr th:only-of-type {\n",
              "        vertical-align: middle;\n",
              "    }\n",
              "\n",
              "    .dataframe tbody tr th {\n",
              "        vertical-align: top;\n",
              "    }\n",
              "\n",
              "    .dataframe thead th {\n",
              "        text-align: right;\n",
              "    }\n",
              "</style>\n",
              "<table border=\"1\" class=\"dataframe\">\n",
              "  <thead>\n",
              "    <tr style=\"text-align: right;\">\n",
              "      <th></th>\n",
              "      <th>purchased</th>\n",
              "      <th>time_on_site</th>\n",
              "      <th>mobile</th>\n",
              "      <th>time_on_site_min</th>\n",
              "    </tr>\n",
              "  </thead>\n",
              "  <tbody>\n",
              "    <tr>\n",
              "      <th>0</th>\n",
              "      <td>False</td>\n",
              "      <td>285.015654</td>\n",
              "      <td>True</td>\n",
              "      <td>4.750261</td>\n",
              "    </tr>\n",
              "    <tr>\n",
              "      <th>1</th>\n",
              "      <td>False</td>\n",
              "      <td>555.306570</td>\n",
              "      <td>True</td>\n",
              "      <td>9.255109</td>\n",
              "    </tr>\n",
              "    <tr>\n",
              "      <th>2</th>\n",
              "      <td>True</td>\n",
              "      <td>316.331878</td>\n",
              "      <td>False</td>\n",
              "      <td>5.272198</td>\n",
              "    </tr>\n",
              "    <tr>\n",
              "      <th>3</th>\n",
              "      <td>False</td>\n",
              "      <td>635.183542</td>\n",
              "      <td>True</td>\n",
              "      <td>10.586392</td>\n",
              "    </tr>\n",
              "    <tr>\n",
              "      <th>4</th>\n",
              "      <td>False</td>\n",
              "      <td>346.850329</td>\n",
              "      <td>False</td>\n",
              "      <td>5.780839</td>\n",
              "    </tr>\n",
              "  </tbody>\n",
              "</table>\n",
              "</div>"
            ],
            "text/plain": [
              "   purchased  time_on_site  mobile  time_on_site_min\n",
              "0      False    285.015654    True          4.750261\n",
              "1      False    555.306570    True          9.255109\n",
              "2       True    316.331878   False          5.272198\n",
              "3      False    635.183542    True         10.586392\n",
              "4      False    346.850329   False          5.780839"
            ]
          },
          "metadata": {
            "tags": []
          },
          "execution_count": 42
        }
      ]
    },
    {
      "cell_type": "code",
      "metadata": {
        "id": "c348ZkyKsZDJ",
        "colab_type": "code",
        "outputId": "cd096c0f-30af-41f2-843e-641d78573bce",
        "colab": {
          "base_uri": "https://localhost:8080/",
          "height": 106
        }
      },
      "source": [
        "# Find negative time data\n",
        "user_data[user_data.time_on_site < 0.0]"
      ],
      "execution_count": 0,
      "outputs": [
        {
          "output_type": "execute_result",
          "data": {
            "text/html": [
              "<div>\n",
              "<style scoped>\n",
              "    .dataframe tbody tr th:only-of-type {\n",
              "        vertical-align: middle;\n",
              "    }\n",
              "\n",
              "    .dataframe tbody tr th {\n",
              "        vertical-align: top;\n",
              "    }\n",
              "\n",
              "    .dataframe thead th {\n",
              "        text-align: right;\n",
              "    }\n",
              "</style>\n",
              "<table border=\"1\" class=\"dataframe\">\n",
              "  <thead>\n",
              "    <tr style=\"text-align: right;\">\n",
              "      <th></th>\n",
              "      <th>purchased</th>\n",
              "      <th>time_on_site</th>\n",
              "      <th>mobile</th>\n",
              "      <th>time_on_site_min</th>\n",
              "    </tr>\n",
              "  </thead>\n",
              "  <tbody>\n",
              "    <tr>\n",
              "      <th>454</th>\n",
              "      <td>False</td>\n",
              "      <td>-9.838808</td>\n",
              "      <td>True</td>\n",
              "      <td>-0.163980</td>\n",
              "    </tr>\n",
              "    <tr>\n",
              "      <th>680</th>\n",
              "      <td>False</td>\n",
              "      <td>-71.060583</td>\n",
              "      <td>False</td>\n",
              "      <td>-1.184343</td>\n",
              "    </tr>\n",
              "  </tbody>\n",
              "</table>\n",
              "</div>"
            ],
            "text/plain": [
              "     purchased  time_on_site  mobile  time_on_site_min\n",
              "454      False     -9.838808    True         -0.163980\n",
              "680      False    -71.060583   False         -1.184343"
            ]
          },
          "metadata": {
            "tags": []
          },
          "execution_count": 39
        }
      ]
    },
    {
      "cell_type": "code",
      "metadata": {
        "id": "KYL-Eg9tsqJ-",
        "colab_type": "code",
        "outputId": "41406932-da17-4ae9-93de-31a43bfb2980",
        "colab": {
          "base_uri": "https://localhost:8080/",
          "height": 47
        }
      },
      "source": [
        "# Assign negative time_on_site values to 0.0\n",
        "user_data.loc[user_data['time_on_site'] < 0.0, 'time_on_site'] = 0.0\n",
        "user_data[user_data.time_on_site < 0.0] # confirm no zeros"
      ],
      "execution_count": 0,
      "outputs": [
        {
          "output_type": "execute_result",
          "data": {
            "text/html": [
              "<div>\n",
              "<style scoped>\n",
              "    .dataframe tbody tr th:only-of-type {\n",
              "        vertical-align: middle;\n",
              "    }\n",
              "\n",
              "    .dataframe tbody tr th {\n",
              "        vertical-align: top;\n",
              "    }\n",
              "\n",
              "    .dataframe thead th {\n",
              "        text-align: right;\n",
              "    }\n",
              "</style>\n",
              "<table border=\"1\" class=\"dataframe\">\n",
              "  <thead>\n",
              "    <tr style=\"text-align: right;\">\n",
              "      <th></th>\n",
              "      <th>purchased</th>\n",
              "      <th>time_on_site</th>\n",
              "      <th>mobile</th>\n",
              "      <th>time_on_site_min</th>\n",
              "    </tr>\n",
              "  </thead>\n",
              "  <tbody>\n",
              "  </tbody>\n",
              "</table>\n",
              "</div>"
            ],
            "text/plain": [
              "Empty DataFrame\n",
              "Columns: [purchased, time_on_site, mobile, time_on_site_min]\n",
              "Index: []"
            ]
          },
          "metadata": {
            "tags": []
          },
          "execution_count": 40
        }
      ]
    },
    {
      "cell_type": "code",
      "metadata": {
        "id": "xteBsuq5rala",
        "colab_type": "code",
        "outputId": "31266848-3522-4aa2-be2e-74cd8290e2e0",
        "colab": {
          "base_uri": "https://localhost:8080/",
          "height": 404
        }
      },
      "source": [
        "import matplotlib.pyplot as plt\n",
        "\n",
        "user_data.groupby('mobile').time_on_site_min.hist(bins=20, alpha=0.5, figsize=(10,6));\n",
        "plt.title('Time on Site by Source (Desktop vs. Mobile in minutes)');\n",
        "plt.ylabel('Count')\n",
        "plt.xlabel('Time in Minutes')\n",
        "plt.legend(['Desktop','Mobile']);"
      ],
      "execution_count": 0,
      "outputs": [
        {
          "output_type": "display_data",
          "data": {
            "image/png": "[encoded data removed]",
            "text/plain": [
              "<Figure size 720x432 with 1 Axes>"
            ]
          },
          "metadata": {
            "tags": []
          }
        }
      ]
    },
    {
      "cell_type": "code",
      "metadata": {
        "id": "sr6IJv77ulVl",
        "colab_type": "code",
        "outputId": "57ad7857-7cd7-4373-c082-fa967e2d892b",
        "colab": {
          "base_uri": "https://localhost:8080/",
          "height": 185
        }
      },
      "source": [
        "# Let's use crosstabulation to try to see what's going on\n",
        "pd.crosstab(user_data['purchased'], user_data['time_on_site'])"
      ],
      "execution_count": 0,
      "outputs": [
        {
          "output_type": "execute_result",
          "data": {
            "text/html": [
              "<div>\n",
              "<style scoped>\n",
              "    .dataframe tbody tr th:only-of-type {\n",
              "        vertical-align: middle;\n",
              "    }\n",
              "\n",
              "    .dataframe tbody tr th {\n",
              "        vertical-align: top;\n",
              "    }\n",
              "\n",
              "    .dataframe thead th {\n",
              "        text-align: right;\n",
              "    }\n",
              "</style>\n",
              "<table border=\"1\" class=\"dataframe\">\n",
              "  <thead>\n",
              "    <tr style=\"text-align: right;\">\n",
              "      <th>time_on_site</th>\n",
              "      <th>0.0</th>\n",
              "      <th>3.0285036712932083</th>\n",
              "      <th>9.721226060890103</th>\n",
              "      <th>30.821765737178396</th>\n",
              "      <th>40.58130156230504</th>\n",
              "      <th>68.47907090179973</th>\n",
              "      <th>71.11661080344567</th>\n",
              "      <th>77.2709590565463</th>\n",
              "      <th>77.95136272847662</th>\n",
              "      <th>85.03973644096402</th>\n",
              "      <th>87.63727651236951</th>\n",
              "      <th>95.42732048625476</th>\n",
              "      <th>96.991459736725</th>\n",
              "      <th>103.4061161154873</th>\n",
              "      <th>108.49787718944799</th>\n",
              "      <th>109.6747491901994</th>\n",
              "      <th>127.07532578418011</th>\n",
              "      <th>129.8727348475835</th>\n",
              "      <th>133.63041975019962</th>\n",
              "      <th>135.9957143721574</th>\n",
              "      <th>140.63029666453366</th>\n",
              "      <th>143.25751492945165</th>\n",
              "      <th>150.17700521832074</th>\n",
              "      <th>150.2114554541024</th>\n",
              "      <th>158.2678892349996</th>\n",
              "      <th>162.43659667207214</th>\n",
              "      <th>167.61625719998563</th>\n",
              "      <th>168.40482150692003</th>\n",
              "      <th>169.74208989365803</th>\n",
              "      <th>171.8753926018191</th>\n",
              "      <th>174.17018469655687</th>\n",
              "      <th>175.86683017255802</th>\n",
              "      <th>177.51404660336362</th>\n",
              "      <th>179.6555056400906</th>\n",
              "      <th>184.34024853128773</th>\n",
              "      <th>184.9151163948515</th>\n",
              "      <th>191.1345207604267</th>\n",
              "      <th>191.7180980868505</th>\n",
              "      <th>192.7326868256078</th>\n",
              "      <th>193.18162906937692</th>\n",
              "      <th>...</th>\n",
              "      <th>777.724936597747</th>\n",
              "      <th>780.8518208113812</th>\n",
              "      <th>787.205264990241</th>\n",
              "      <th>788.2025802757564</th>\n",
              "      <th>788.8501997180151</th>\n",
              "      <th>790.3872013347907</th>\n",
              "      <th>793.3476181131414</th>\n",
              "      <th>796.0551094295059</th>\n",
              "      <th>798.3992047528309</th>\n",
              "      <th>799.8831522491607</th>\n",
              "      <th>804.1879733151068</th>\n",
              "      <th>807.9306487048157</th>\n",
              "      <th>811.6472213021195</th>\n",
              "      <th>812.9401767647412</th>\n",
              "      <th>814.4607647890188</th>\n",
              "      <th>814.7900188433573</th>\n",
              "      <th>815.2515402782735</th>\n",
              "      <th>816.6210668335766</th>\n",
              "      <th>824.1201355662944</th>\n",
              "      <th>824.602580730429</th>\n",
              "      <th>825.6955669669555</th>\n",
              "      <th>826.7132726710965</th>\n",
              "      <th>847.9797592064529</th>\n",
              "      <th>848.8148439189026</th>\n",
              "      <th>856.7517358673776</th>\n",
              "      <th>858.1755639127041</th>\n",
              "      <th>865.414069720297</th>\n",
              "      <th>867.6179554276248</th>\n",
              "      <th>870.4264375761616</th>\n",
              "      <th>871.8475297069019</th>\n",
              "      <th>893.4134572716619</th>\n",
              "      <th>898.0130210924046</th>\n",
              "      <th>900.8822569343163</th>\n",
              "      <th>914.4033842579952</th>\n",
              "      <th>918.6019504017138</th>\n",
              "      <th>934.4213406345956</th>\n",
              "      <th>981.319796815736</th>\n",
              "      <th>986.6457878010106</th>\n",
              "      <th>1010.0389009826024</th>\n",
              "      <th>1196.7695499229685</th>\n",
              "    </tr>\n",
              "    <tr>\n",
              "      <th>purchased</th>\n",
              "      <th></th>\n",
              "      <th></th>\n",
              "      <th></th>\n",
              "      <th></th>\n",
              "      <th></th>\n",
              "      <th></th>\n",
              "      <th></th>\n",
              "      <th></th>\n",
              "      <th></th>\n",
              "      <th></th>\n",
              "      <th></th>\n",
              "      <th></th>\n",
              "      <th></th>\n",
              "      <th></th>\n",
              "      <th></th>\n",
              "      <th></th>\n",
              "      <th></th>\n",
              "      <th></th>\n",
              "      <th></th>\n",
              "      <th></th>\n",
              "      <th></th>\n",
              "      <th></th>\n",
              "      <th></th>\n",
              "      <th></th>\n",
              "      <th></th>\n",
              "      <th></th>\n",
              "      <th></th>\n",
              "      <th></th>\n",
              "      <th></th>\n",
              "      <th></th>\n",
              "      <th></th>\n",
              "      <th></th>\n",
              "      <th></th>\n",
              "      <th></th>\n",
              "      <th></th>\n",
              "      <th></th>\n",
              "      <th></th>\n",
              "      <th></th>\n",
              "      <th></th>\n",
              "      <th></th>\n",
              "      <th></th>\n",
              "      <th></th>\n",
              "      <th></th>\n",
              "      <th></th>\n",
              "      <th></th>\n",
              "      <th></th>\n",
              "      <th></th>\n",
              "      <th></th>\n",
              "      <th></th>\n",
              "      <th></th>\n",
              "      <th></th>\n",
              "      <th></th>\n",
              "      <th></th>\n",
              "      <th></th>\n",
              "      <th></th>\n",
              "      <th></th>\n",
              "      <th></th>\n",
              "      <th></th>\n",
              "      <th></th>\n",
              "      <th></th>\n",
              "      <th></th>\n",
              "      <th></th>\n",
              "      <th></th>\n",
              "      <th></th>\n",
              "      <th></th>\n",
              "      <th></th>\n",
              "      <th></th>\n",
              "      <th></th>\n",
              "      <th></th>\n",
              "      <th></th>\n",
              "      <th></th>\n",
              "      <th></th>\n",
              "      <th></th>\n",
              "      <th></th>\n",
              "      <th></th>\n",
              "      <th></th>\n",
              "      <th></th>\n",
              "      <th></th>\n",
              "      <th></th>\n",
              "      <th></th>\n",
              "      <th></th>\n",
              "    </tr>\n",
              "  </thead>\n",
              "  <tbody>\n",
              "    <tr>\n",
              "      <th>False</th>\n",
              "      <td>2</td>\n",
              "      <td>1</td>\n",
              "      <td>1</td>\n",
              "      <td>0</td>\n",
              "      <td>0</td>\n",
              "      <td>1</td>\n",
              "      <td>1</td>\n",
              "      <td>0</td>\n",
              "      <td>1</td>\n",
              "      <td>1</td>\n",
              "      <td>1</td>\n",
              "      <td>1</td>\n",
              "      <td>1</td>\n",
              "      <td>0</td>\n",
              "      <td>0</td>\n",
              "      <td>0</td>\n",
              "      <td>1</td>\n",
              "      <td>0</td>\n",
              "      <td>1</td>\n",
              "      <td>1</td>\n",
              "      <td>1</td>\n",
              "      <td>1</td>\n",
              "      <td>1</td>\n",
              "      <td>0</td>\n",
              "      <td>1</td>\n",
              "      <td>1</td>\n",
              "      <td>0</td>\n",
              "      <td>1</td>\n",
              "      <td>1</td>\n",
              "      <td>1</td>\n",
              "      <td>0</td>\n",
              "      <td>0</td>\n",
              "      <td>0</td>\n",
              "      <td>0</td>\n",
              "      <td>0</td>\n",
              "      <td>1</td>\n",
              "      <td>1</td>\n",
              "      <td>1</td>\n",
              "      <td>0</td>\n",
              "      <td>1</td>\n",
              "      <td>...</td>\n",
              "      <td>1</td>\n",
              "      <td>1</td>\n",
              "      <td>1</td>\n",
              "      <td>0</td>\n",
              "      <td>1</td>\n",
              "      <td>1</td>\n",
              "      <td>0</td>\n",
              "      <td>0</td>\n",
              "      <td>0</td>\n",
              "      <td>0</td>\n",
              "      <td>1</td>\n",
              "      <td>1</td>\n",
              "      <td>0</td>\n",
              "      <td>0</td>\n",
              "      <td>0</td>\n",
              "      <td>0</td>\n",
              "      <td>0</td>\n",
              "      <td>0</td>\n",
              "      <td>1</td>\n",
              "      <td>0</td>\n",
              "      <td>1</td>\n",
              "      <td>0</td>\n",
              "      <td>0</td>\n",
              "      <td>0</td>\n",
              "      <td>0</td>\n",
              "      <td>0</td>\n",
              "      <td>0</td>\n",
              "      <td>0</td>\n",
              "      <td>0</td>\n",
              "      <td>0</td>\n",
              "      <td>1</td>\n",
              "      <td>0</td>\n",
              "      <td>1</td>\n",
              "      <td>0</td>\n",
              "      <td>0</td>\n",
              "      <td>0</td>\n",
              "      <td>0</td>\n",
              "      <td>0</td>\n",
              "      <td>0</td>\n",
              "      <td>0</td>\n",
              "    </tr>\n",
              "    <tr>\n",
              "      <th>True</th>\n",
              "      <td>0</td>\n",
              "      <td>0</td>\n",
              "      <td>0</td>\n",
              "      <td>1</td>\n",
              "      <td>1</td>\n",
              "      <td>0</td>\n",
              "      <td>0</td>\n",
              "      <td>1</td>\n",
              "      <td>0</td>\n",
              "      <td>0</td>\n",
              "      <td>0</td>\n",
              "      <td>0</td>\n",
              "      <td>0</td>\n",
              "      <td>1</td>\n",
              "      <td>1</td>\n",
              "      <td>1</td>\n",
              "      <td>0</td>\n",
              "      <td>1</td>\n",
              "      <td>0</td>\n",
              "      <td>0</td>\n",
              "      <td>0</td>\n",
              "      <td>0</td>\n",
              "      <td>0</td>\n",
              "      <td>1</td>\n",
              "      <td>0</td>\n",
              "      <td>0</td>\n",
              "      <td>1</td>\n",
              "      <td>0</td>\n",
              "      <td>0</td>\n",
              "      <td>0</td>\n",
              "      <td>1</td>\n",
              "      <td>1</td>\n",
              "      <td>1</td>\n",
              "      <td>1</td>\n",
              "      <td>1</td>\n",
              "      <td>0</td>\n",
              "      <td>0</td>\n",
              "      <td>0</td>\n",
              "      <td>1</td>\n",
              "      <td>0</td>\n",
              "      <td>...</td>\n",
              "      <td>0</td>\n",
              "      <td>0</td>\n",
              "      <td>0</td>\n",
              "      <td>1</td>\n",
              "      <td>0</td>\n",
              "      <td>0</td>\n",
              "      <td>1</td>\n",
              "      <td>1</td>\n",
              "      <td>1</td>\n",
              "      <td>1</td>\n",
              "      <td>0</td>\n",
              "      <td>0</td>\n",
              "      <td>1</td>\n",
              "      <td>1</td>\n",
              "      <td>1</td>\n",
              "      <td>1</td>\n",
              "      <td>1</td>\n",
              "      <td>1</td>\n",
              "      <td>0</td>\n",
              "      <td>1</td>\n",
              "      <td>0</td>\n",
              "      <td>1</td>\n",
              "      <td>1</td>\n",
              "      <td>1</td>\n",
              "      <td>1</td>\n",
              "      <td>1</td>\n",
              "      <td>1</td>\n",
              "      <td>1</td>\n",
              "      <td>1</td>\n",
              "      <td>1</td>\n",
              "      <td>0</td>\n",
              "      <td>1</td>\n",
              "      <td>0</td>\n",
              "      <td>1</td>\n",
              "      <td>1</td>\n",
              "      <td>1</td>\n",
              "      <td>1</td>\n",
              "      <td>1</td>\n",
              "      <td>1</td>\n",
              "      <td>1</td>\n",
              "    </tr>\n",
              "  </tbody>\n",
              "</table>\n",
              "<p>2 rows × 999 columns</p>\n",
              "</div>"
            ],
            "text/plain": [
              "time_on_site  0.000000     3.028504     ...  1010.038901  1196.769550\n",
              "purchased                               ...                          \n",
              "False                   2            1  ...            0            0\n",
              "True                    0            0  ...            1            1\n",
              "\n",
              "[2 rows x 999 columns]"
            ]
          },
          "metadata": {
            "tags": []
          },
          "execution_count": 44
        }
      ]
    },
    {
      "cell_type": "code",
      "metadata": {
        "id": "hvAv6J3EwA9s",
        "colab_type": "code",
        "outputId": "658dbf0f-72c7-423c-acc1-72ae347be666",
        "colab": {
          "base_uri": "https://localhost:8080/",
          "height": 225
        }
      },
      "source": [
        "# OK, that's not quite what we want\n",
        "# Time is continuous! We need to put it in discrete buckets\n",
        "# Pandas calls these bins, and pandas.cut helps make them\n",
        "\n",
        "time_bins = pd.cut(user_data['time_on_site_min'], 5)  # 5 equal-sized bins\n",
        "pd.crosstab(time_bins, user_data['purchased'], normalize='columns')"
      ],
      "execution_count": 0,
      "outputs": [
        {
          "output_type": "execute_result",
          "data": {
            "text/html": [
              "<div>\n",
              "<style scoped>\n",
              "    .dataframe tbody tr th:only-of-type {\n",
              "        vertical-align: middle;\n",
              "    }\n",
              "\n",
              "    .dataframe tbody tr th {\n",
              "        vertical-align: top;\n",
              "    }\n",
              "\n",
              "    .dataframe thead th {\n",
              "        text-align: right;\n",
              "    }\n",
              "</style>\n",
              "<table border=\"1\" class=\"dataframe\">\n",
              "  <thead>\n",
              "    <tr style=\"text-align: right;\">\n",
              "      <th>purchased</th>\n",
              "      <th>False</th>\n",
              "      <th>True</th>\n",
              "    </tr>\n",
              "    <tr>\n",
              "      <th>time_on_site_min</th>\n",
              "      <th></th>\n",
              "      <th></th>\n",
              "    </tr>\n",
              "  </thead>\n",
              "  <tbody>\n",
              "    <tr>\n",
              "      <th>(-0.0199, 3.989]</th>\n",
              "      <td>0.090909</td>\n",
              "      <td>0.057143</td>\n",
              "    </tr>\n",
              "    <tr>\n",
              "      <th>(3.989, 7.978]</th>\n",
              "      <td>0.454545</td>\n",
              "      <td>0.376786</td>\n",
              "    </tr>\n",
              "    <tr>\n",
              "      <th>(7.978, 11.968]</th>\n",
              "      <td>0.402273</td>\n",
              "      <td>0.462500</td>\n",
              "    </tr>\n",
              "    <tr>\n",
              "      <th>(11.968, 15.957]</th>\n",
              "      <td>0.052273</td>\n",
              "      <td>0.096429</td>\n",
              "    </tr>\n",
              "    <tr>\n",
              "      <th>(15.957, 19.946]</th>\n",
              "      <td>0.000000</td>\n",
              "      <td>0.007143</td>\n",
              "    </tr>\n",
              "  </tbody>\n",
              "</table>\n",
              "</div>"
            ],
            "text/plain": [
              "purchased            False     True \n",
              "time_on_site_min                    \n",
              "(-0.0199, 3.989]  0.090909  0.057143\n",
              "(3.989, 7.978]    0.454545  0.376786\n",
              "(7.978, 11.968]   0.402273  0.462500\n",
              "(11.968, 15.957]  0.052273  0.096429\n",
              "(15.957, 19.946]  0.000000  0.007143"
            ]
          },
          "metadata": {
            "tags": []
          },
          "execution_count": 54
        }
      ]
    },
    {
      "cell_type": "code",
      "metadata": {
        "id": "4O6dm9fhvstl",
        "colab_type": "code",
        "outputId": "c90f722c-1fe9-497c-94a2-2ae137d0e9f5",
        "colab": {
          "base_uri": "https://localhost:8080/",
          "height": 225
        }
      },
      "source": [
        "pd.crosstab(columns=user_data['purchased'], index=time_bins, normalize='index')"
      ],
      "execution_count": 0,
      "outputs": [
        {
          "output_type": "execute_result",
          "data": {
            "text/html": [
              "<div>\n",
              "<style scoped>\n",
              "    .dataframe tbody tr th:only-of-type {\n",
              "        vertical-align: middle;\n",
              "    }\n",
              "\n",
              "    .dataframe tbody tr th {\n",
              "        vertical-align: top;\n",
              "    }\n",
              "\n",
              "    .dataframe thead th {\n",
              "        text-align: right;\n",
              "    }\n",
              "</style>\n",
              "<table border=\"1\" class=\"dataframe\">\n",
              "  <thead>\n",
              "    <tr style=\"text-align: right;\">\n",
              "      <th>purchased</th>\n",
              "      <th>False</th>\n",
              "      <th>True</th>\n",
              "    </tr>\n",
              "    <tr>\n",
              "      <th>time_on_site_min</th>\n",
              "      <th></th>\n",
              "      <th></th>\n",
              "    </tr>\n",
              "  </thead>\n",
              "  <tbody>\n",
              "    <tr>\n",
              "      <th>(-0.0199, 3.989]</th>\n",
              "      <td>0.555556</td>\n",
              "      <td>0.444444</td>\n",
              "    </tr>\n",
              "    <tr>\n",
              "      <th>(3.989, 7.978]</th>\n",
              "      <td>0.486618</td>\n",
              "      <td>0.513382</td>\n",
              "    </tr>\n",
              "    <tr>\n",
              "      <th>(7.978, 11.968]</th>\n",
              "      <td>0.405963</td>\n",
              "      <td>0.594037</td>\n",
              "    </tr>\n",
              "    <tr>\n",
              "      <th>(11.968, 15.957]</th>\n",
              "      <td>0.298701</td>\n",
              "      <td>0.701299</td>\n",
              "    </tr>\n",
              "    <tr>\n",
              "      <th>(15.957, 19.946]</th>\n",
              "      <td>0.000000</td>\n",
              "      <td>1.000000</td>\n",
              "    </tr>\n",
              "  </tbody>\n",
              "</table>\n",
              "</div>"
            ],
            "text/plain": [
              "purchased            False     True \n",
              "time_on_site_min                    \n",
              "(-0.0199, 3.989]  0.555556  0.444444\n",
              "(3.989, 7.978]    0.486618  0.513382\n",
              "(7.978, 11.968]   0.405963  0.594037\n",
              "(11.968, 15.957]  0.298701  0.701299\n",
              "(15.957, 19.946]  0.000000  1.000000"
            ]
          },
          "metadata": {
            "tags": []
          },
          "execution_count": 50
        }
      ]
    },
    {
      "cell_type": "code",
      "metadata": {
        "id": "pjcXnJw0wfaj",
        "colab_type": "code",
        "outputId": "81d34e33-ff3d-414c-ee38-5fb5583a154c",
        "colab": {
          "base_uri": "https://localhost:8080/",
          "height": 225
        }
      },
      "source": [
        "# We can make this a bit clearer by normalizing (getting %)\n",
        "pd.crosstab(time_bins, user_data['purchased'], normalize='columns')"
      ],
      "execution_count": 0,
      "outputs": [
        {
          "output_type": "execute_result",
          "data": {
            "text/html": [
              "<div>\n",
              "<style scoped>\n",
              "    .dataframe tbody tr th:only-of-type {\n",
              "        vertical-align: middle;\n",
              "    }\n",
              "\n",
              "    .dataframe tbody tr th {\n",
              "        vertical-align: top;\n",
              "    }\n",
              "\n",
              "    .dataframe thead th {\n",
              "        text-align: right;\n",
              "    }\n",
              "</style>\n",
              "<table border=\"1\" class=\"dataframe\">\n",
              "  <thead>\n",
              "    <tr style=\"text-align: right;\">\n",
              "      <th>purchased</th>\n",
              "      <th>False</th>\n",
              "      <th>True</th>\n",
              "    </tr>\n",
              "    <tr>\n",
              "      <th>time_on_site_min</th>\n",
              "      <th></th>\n",
              "      <th></th>\n",
              "    </tr>\n",
              "  </thead>\n",
              "  <tbody>\n",
              "    <tr>\n",
              "      <th>(-0.0199, 3.989]</th>\n",
              "      <td>0.090909</td>\n",
              "      <td>0.057143</td>\n",
              "    </tr>\n",
              "    <tr>\n",
              "      <th>(3.989, 7.978]</th>\n",
              "      <td>0.454545</td>\n",
              "      <td>0.376786</td>\n",
              "    </tr>\n",
              "    <tr>\n",
              "      <th>(7.978, 11.968]</th>\n",
              "      <td>0.402273</td>\n",
              "      <td>0.462500</td>\n",
              "    </tr>\n",
              "    <tr>\n",
              "      <th>(11.968, 15.957]</th>\n",
              "      <td>0.052273</td>\n",
              "      <td>0.096429</td>\n",
              "    </tr>\n",
              "    <tr>\n",
              "      <th>(15.957, 19.946]</th>\n",
              "      <td>0.000000</td>\n",
              "      <td>0.007143</td>\n",
              "    </tr>\n",
              "  </tbody>\n",
              "</table>\n",
              "</div>"
            ],
            "text/plain": [
              "purchased            False     True \n",
              "time_on_site_min                    \n",
              "(-0.0199, 3.989]  0.090909  0.057143\n",
              "(3.989, 7.978]    0.454545  0.376786\n",
              "(7.978, 11.968]   0.402273  0.462500\n",
              "(11.968, 15.957]  0.052273  0.096429\n",
              "(15.957, 19.946]  0.000000  0.007143"
            ]
          },
          "metadata": {
            "tags": []
          },
          "execution_count": 51
        }
      ]
    },
    {
      "cell_type": "code",
      "metadata": {
        "id": "C3GzvDxlvZMa",
        "colab_type": "code",
        "outputId": "52a09715-23e2-4653-fc78-c6192e6b1fef",
        "colab": {
          "base_uri": "https://localhost:8080/",
          "height": 136
        }
      },
      "source": [
        "# That seems counter to our hypothesis\n",
        "# More time on the site can actually have fewer purchases\n",
        "\n",
        "# But we know why, since we generated the data!\n",
        "# Let's look at mobile and purchased\n",
        "pd.crosstab(user_data['purchased'], user_data['mobile'], normalize='columns')"
      ],
      "execution_count": 0,
      "outputs": [
        {
          "output_type": "execute_result",
          "data": {
            "text/html": [
              "<div>\n",
              "<style scoped>\n",
              "    .dataframe tbody tr th:only-of-type {\n",
              "        vertical-align: middle;\n",
              "    }\n",
              "\n",
              "    .dataframe tbody tr th {\n",
              "        vertical-align: top;\n",
              "    }\n",
              "\n",
              "    .dataframe thead th {\n",
              "        text-align: right;\n",
              "    }\n",
              "</style>\n",
              "<table border=\"1\" class=\"dataframe\">\n",
              "  <thead>\n",
              "    <tr style=\"text-align: right;\">\n",
              "      <th>mobile</th>\n",
              "      <th>False</th>\n",
              "      <th>True</th>\n",
              "    </tr>\n",
              "    <tr>\n",
              "      <th>purchased</th>\n",
              "      <th></th>\n",
              "      <th></th>\n",
              "    </tr>\n",
              "  </thead>\n",
              "  <tbody>\n",
              "    <tr>\n",
              "      <th>False</th>\n",
              "      <td>0.52</td>\n",
              "      <td>0.413333</td>\n",
              "    </tr>\n",
              "    <tr>\n",
              "      <th>True</th>\n",
              "      <td>0.48</td>\n",
              "      <td>0.586667</td>\n",
              "    </tr>\n",
              "  </tbody>\n",
              "</table>\n",
              "</div>"
            ],
            "text/plain": [
              "mobile     False     True \n",
              "purchased                 \n",
              "False       0.52  0.413333\n",
              "True        0.48  0.586667"
            ]
          },
          "metadata": {
            "tags": []
          },
          "execution_count": 52
        }
      ]
    },
    {
      "cell_type": "code",
      "metadata": {
        "id": "KQb-wU60xCum",
        "colab_type": "code",
        "outputId": "2090a614-48df-47c6-8391-0e2b44daeabf",
        "colab": {
          "base_uri": "https://localhost:8080/",
          "height": 254
        }
      },
      "source": [
        "# Yep, mobile users are more likely to buy things\n",
        "# But we're still not seeing the *whole* story until we look at all 3 at once\n",
        "\n",
        "# Live/stretch goal - how can we do that?\n",
        "pd.crosstab(time_bins, [user_data['purchased'], user_data['mobile']], normalize='columns')"
      ],
      "execution_count": 0,
      "outputs": [
        {
          "output_type": "execute_result",
          "data": {
            "text/html": [
              "<div>\n",
              "<style scoped>\n",
              "    .dataframe tbody tr th:only-of-type {\n",
              "        vertical-align: middle;\n",
              "    }\n",
              "\n",
              "    .dataframe tbody tr th {\n",
              "        vertical-align: top;\n",
              "    }\n",
              "\n",
              "    .dataframe thead tr th {\n",
              "        text-align: left;\n",
              "    }\n",
              "\n",
              "    .dataframe thead tr:last-of-type th {\n",
              "        text-align: right;\n",
              "    }\n",
              "</style>\n",
              "<table border=\"1\" class=\"dataframe\">\n",
              "  <thead>\n",
              "    <tr>\n",
              "      <th>purchased</th>\n",
              "      <th colspan=\"2\" halign=\"left\">False</th>\n",
              "      <th colspan=\"2\" halign=\"left\">True</th>\n",
              "    </tr>\n",
              "    <tr>\n",
              "      <th>mobile</th>\n",
              "      <th>False</th>\n",
              "      <th>True</th>\n",
              "      <th>False</th>\n",
              "      <th>True</th>\n",
              "    </tr>\n",
              "    <tr>\n",
              "      <th>time_on_site_min</th>\n",
              "      <th></th>\n",
              "      <th></th>\n",
              "      <th></th>\n",
              "      <th></th>\n",
              "    </tr>\n",
              "  </thead>\n",
              "  <tbody>\n",
              "    <tr>\n",
              "      <th>(-0.0199, 3.989]</th>\n",
              "      <td>0.061538</td>\n",
              "      <td>0.103226</td>\n",
              "      <td>0.033333</td>\n",
              "      <td>0.063636</td>\n",
              "    </tr>\n",
              "    <tr>\n",
              "      <th>(3.989, 7.978]</th>\n",
              "      <td>0.353846</td>\n",
              "      <td>0.496774</td>\n",
              "      <td>0.241667</td>\n",
              "      <td>0.413636</td>\n",
              "    </tr>\n",
              "    <tr>\n",
              "      <th>(7.978, 11.968]</th>\n",
              "      <td>0.453846</td>\n",
              "      <td>0.380645</td>\n",
              "      <td>0.458333</td>\n",
              "      <td>0.463636</td>\n",
              "    </tr>\n",
              "    <tr>\n",
              "      <th>(11.968, 15.957]</th>\n",
              "      <td>0.130769</td>\n",
              "      <td>0.019355</td>\n",
              "      <td>0.241667</td>\n",
              "      <td>0.056818</td>\n",
              "    </tr>\n",
              "    <tr>\n",
              "      <th>(15.957, 19.946]</th>\n",
              "      <td>0.000000</td>\n",
              "      <td>0.000000</td>\n",
              "      <td>0.025000</td>\n",
              "      <td>0.002273</td>\n",
              "    </tr>\n",
              "  </tbody>\n",
              "</table>\n",
              "</div>"
            ],
            "text/plain": [
              "purchased            False               True           \n",
              "mobile               False     True      False     True \n",
              "time_on_site_min                                        \n",
              "(-0.0199, 3.989]  0.061538  0.103226  0.033333  0.063636\n",
              "(3.989, 7.978]    0.353846  0.496774  0.241667  0.413636\n",
              "(7.978, 11.968]   0.453846  0.380645  0.458333  0.463636\n",
              "(11.968, 15.957]  0.130769  0.019355  0.241667  0.056818\n",
              "(15.957, 19.946]  0.000000  0.000000  0.025000  0.002273"
            ]
          },
          "metadata": {
            "tags": []
          },
          "execution_count": 53
        }
      ]
    },
    {
      "cell_type": "code",
      "metadata": {
        "id": "hqKYzaGAyV6T",
        "colab_type": "code",
        "outputId": "792add3d-7af0-4049-8bbf-41f11d6f1bd0",
        "colab": {
          "base_uri": "https://localhost:8080/",
          "height": 225
        }
      },
      "source": [
        "pd.crosstab(time_bins, user_data['purchased'], normalize='columns')"
      ],
      "execution_count": 0,
      "outputs": [
        {
          "output_type": "execute_result",
          "data": {
            "text/html": [
              "<div>\n",
              "<style scoped>\n",
              "    .dataframe tbody tr th:only-of-type {\n",
              "        vertical-align: middle;\n",
              "    }\n",
              "\n",
              "    .dataframe tbody tr th {\n",
              "        vertical-align: top;\n",
              "    }\n",
              "\n",
              "    .dataframe thead th {\n",
              "        text-align: right;\n",
              "    }\n",
              "</style>\n",
              "<table border=\"1\" class=\"dataframe\">\n",
              "  <thead>\n",
              "    <tr style=\"text-align: right;\">\n",
              "      <th>purchased</th>\n",
              "      <th>False</th>\n",
              "      <th>True</th>\n",
              "    </tr>\n",
              "    <tr>\n",
              "      <th>time_on_site_min</th>\n",
              "      <th></th>\n",
              "      <th></th>\n",
              "    </tr>\n",
              "  </thead>\n",
              "  <tbody>\n",
              "    <tr>\n",
              "      <th>(-0.0199, 3.989]</th>\n",
              "      <td>0.090909</td>\n",
              "      <td>0.057143</td>\n",
              "    </tr>\n",
              "    <tr>\n",
              "      <th>(3.989, 7.978]</th>\n",
              "      <td>0.454545</td>\n",
              "      <td>0.376786</td>\n",
              "    </tr>\n",
              "    <tr>\n",
              "      <th>(7.978, 11.968]</th>\n",
              "      <td>0.402273</td>\n",
              "      <td>0.462500</td>\n",
              "    </tr>\n",
              "    <tr>\n",
              "      <th>(11.968, 15.957]</th>\n",
              "      <td>0.052273</td>\n",
              "      <td>0.096429</td>\n",
              "    </tr>\n",
              "    <tr>\n",
              "      <th>(15.957, 19.946]</th>\n",
              "      <td>0.000000</td>\n",
              "      <td>0.007143</td>\n",
              "    </tr>\n",
              "  </tbody>\n",
              "</table>\n",
              "</div>"
            ],
            "text/plain": [
              "purchased            False     True \n",
              "time_on_site_min                    \n",
              "(-0.0199, 3.989]  0.090909  0.057143\n",
              "(3.989, 7.978]    0.454545  0.376786\n",
              "(7.978, 11.968]   0.402273  0.462500\n",
              "(11.968, 15.957]  0.052273  0.096429\n",
              "(15.957, 19.946]  0.000000  0.007143"
            ]
          },
          "metadata": {
            "tags": []
          },
          "execution_count": 55
        }
      ]
    },
    {
      "cell_type": "markdown",
      "metadata": {
        "id": "ci5U0YdHzbX2",
        "colab_type": "text"
      },
      "source": [
        "## Stanford Open Police Project\n",
        "https://openpolicing.stanford.edu/findings/"
      ]
    },
    {
      "cell_type": "code",
      "metadata": {
        "id": "GGYJ7G_yziiL",
        "colab_type": "code",
        "outputId": "d265a8aa-5c89-4770-c83c-69b308f47471",
        "colab": {
          "base_uri": "https://localhost:8080/",
          "height": 67
        }
      },
      "source": [
        "!unzip jb084sr9005_nj_statewide_2019_02_25.csv.zip\n",
        "!ls"
      ],
      "execution_count": 0,
      "outputs": [
        {
          "output_type": "stream",
          "text": [
            "Archive:  jb084sr9005_nj_statewide_2019_02_25.csv.zip\n",
            "  inflating: share/data/opp-for-archive/nj_statewide_2019_02_25.csv  \n",
            "jb084sr9005_nj_statewide_2019_02_25.csv.zip  sample_data  share\n"
          ],
          "name": "stdout"
        }
      ]
    },
    {
      "cell_type": "code",
      "metadata": {
        "id": "S6SrGM7NzbG4",
        "colab_type": "code",
        "outputId": "c6ed9403-c65f-41db-b217-c61a716f0df6",
        "colab": {
          "base_uri": "https://localhost:8080/",
          "height": 67
        }
      },
      "source": [
        "%%time\n",
        "df = pd.read_csv('./share/data/opp-for-archive/nj_statewide_2019_02_25.csv')\n",
        "print(df.shape)"
      ],
      "execution_count": 0,
      "outputs": [
        {
          "output_type": "stream",
          "text": [
            "(3845334, 20)\n",
            "CPU times: user 18.3 s, sys: 1.41 s, total: 19.7 s\n",
            "Wall time: 19.7 s\n"
          ],
          "name": "stdout"
        }
      ]
    },
    {
      "cell_type": "code",
      "metadata": {
        "id": "8DLu8Iw514FV",
        "colab_type": "code",
        "outputId": "0d98d942-f8d1-4ad1-ca96-f1de5ef73ab2",
        "colab": {
          "base_uri": "https://localhost:8080/",
          "height": 366
        }
      },
      "source": [
        "df.head()"
      ],
      "execution_count": 0,
      "outputs": [
        {
          "output_type": "execute_result",
          "data": {
            "text/html": [
              "<div>\n",
              "<style scoped>\n",
              "    .dataframe tbody tr th:only-of-type {\n",
              "        vertical-align: middle;\n",
              "    }\n",
              "\n",
              "    .dataframe tbody tr th {\n",
              "        vertical-align: top;\n",
              "    }\n",
              "\n",
              "    .dataframe thead th {\n",
              "        text-align: right;\n",
              "    }\n",
              "</style>\n",
              "<table border=\"1\" class=\"dataframe\">\n",
              "  <thead>\n",
              "    <tr style=\"text-align: right;\">\n",
              "      <th></th>\n",
              "      <th>raw_row_number</th>\n",
              "      <th>date</th>\n",
              "      <th>time</th>\n",
              "      <th>location</th>\n",
              "      <th>subject_race</th>\n",
              "      <th>subject_sex</th>\n",
              "      <th>officer_id_hash</th>\n",
              "      <th>department_id</th>\n",
              "      <th>type</th>\n",
              "      <th>violation</th>\n",
              "      <th>arrest_made</th>\n",
              "      <th>citation_issued</th>\n",
              "      <th>warning_issued</th>\n",
              "      <th>outcome</th>\n",
              "      <th>frisk_performed</th>\n",
              "      <th>search_conducted</th>\n",
              "      <th>vehicle_color</th>\n",
              "      <th>vehicle_make</th>\n",
              "      <th>vehicle_model</th>\n",
              "      <th>vehicle_registration_state</th>\n",
              "    </tr>\n",
              "  </thead>\n",
              "  <tbody>\n",
              "    <tr>\n",
              "      <th>0</th>\n",
              "      <td>24723</td>\n",
              "      <td>2009-01-10</td>\n",
              "      <td>15:38:41</td>\n",
              "      <td>31ST / CARMEN, Camden City</td>\n",
              "      <td>black</td>\n",
              "      <td>male</td>\n",
              "      <td>347f40fd4d</td>\n",
              "      <td>A010</td>\n",
              "      <td>vehicular</td>\n",
              "      <td>NaN</td>\n",
              "      <td>True</td>\n",
              "      <td>NaN</td>\n",
              "      <td>NaN</td>\n",
              "      <td>arrest</td>\n",
              "      <td>True</td>\n",
              "      <td>True</td>\n",
              "      <td>SIL</td>\n",
              "      <td>Chrysler</td>\n",
              "      <td>Town &amp; Country</td>\n",
              "      <td>NJ</td>\n",
              "    </tr>\n",
              "    <tr>\n",
              "      <th>1</th>\n",
              "      <td>88239</td>\n",
              "      <td>2009-02-06</td>\n",
              "      <td>11:34:36</td>\n",
              "      <td>@division, Ewing Twp</td>\n",
              "      <td>black</td>\n",
              "      <td>female</td>\n",
              "      <td>e84e551aad</td>\n",
              "      <td>A010</td>\n",
              "      <td>vehicular</td>\n",
              "      <td>NaN</td>\n",
              "      <td>NaN</td>\n",
              "      <td>NaN</td>\n",
              "      <td>NaN</td>\n",
              "      <td>NaN</td>\n",
              "      <td>NaN</td>\n",
              "      <td>NaN</td>\n",
              "      <td>NaN</td>\n",
              "      <td>NaN</td>\n",
              "      <td>NaN</td>\n",
              "      <td>NaN</td>\n",
              "    </tr>\n",
              "    <tr>\n",
              "      <th>2</th>\n",
              "      <td>101999</td>\n",
              "      <td>2009-02-11</td>\n",
              "      <td>01:34:26</td>\n",
              "      <td>34TH / WESTFIELD, Camden City</td>\n",
              "      <td>black</td>\n",
              "      <td>male</td>\n",
              "      <td>e008ccd5a2</td>\n",
              "      <td>A010</td>\n",
              "      <td>vehicular</td>\n",
              "      <td>NaN</td>\n",
              "      <td>True</td>\n",
              "      <td>NaN</td>\n",
              "      <td>NaN</td>\n",
              "      <td>arrest</td>\n",
              "      <td>False</td>\n",
              "      <td>True</td>\n",
              "      <td>GRY</td>\n",
              "      <td>Chevrolet</td>\n",
              "      <td>NaN</td>\n",
              "      <td>PA</td>\n",
              "    </tr>\n",
              "    <tr>\n",
              "      <th>3</th>\n",
              "      <td>151289</td>\n",
              "      <td>2009-03-03</td>\n",
              "      <td>20:29:16</td>\n",
              "      <td>MACARTHUR / 12TH, Camden City</td>\n",
              "      <td>black</td>\n",
              "      <td>male</td>\n",
              "      <td>b84c0f827e</td>\n",
              "      <td>A010</td>\n",
              "      <td>vehicular</td>\n",
              "      <td>NaN</td>\n",
              "      <td>True</td>\n",
              "      <td>NaN</td>\n",
              "      <td>NaN</td>\n",
              "      <td>arrest</td>\n",
              "      <td>True</td>\n",
              "      <td>True</td>\n",
              "      <td>BLU</td>\n",
              "      <td>Chevrolet</td>\n",
              "      <td>Tahoe</td>\n",
              "      <td>NJ</td>\n",
              "    </tr>\n",
              "    <tr>\n",
              "      <th>4</th>\n",
              "      <td>153223</td>\n",
              "      <td>2009-03-05</td>\n",
              "      <td>22:25:26</td>\n",
              "      <td>FEDERAL / 10TH, Camden City</td>\n",
              "      <td>black</td>\n",
              "      <td>male</td>\n",
              "      <td>56eb37f85f</td>\n",
              "      <td>A010</td>\n",
              "      <td>vehicular</td>\n",
              "      <td>NaN</td>\n",
              "      <td>NaN</td>\n",
              "      <td>NaN</td>\n",
              "      <td>NaN</td>\n",
              "      <td>NaN</td>\n",
              "      <td>NaN</td>\n",
              "      <td>NaN</td>\n",
              "      <td>BLK</td>\n",
              "      <td>Ford</td>\n",
              "      <td>Expedition</td>\n",
              "      <td>NJ</td>\n",
              "    </tr>\n",
              "  </tbody>\n",
              "</table>\n",
              "</div>"
            ],
            "text/plain": [
              "   raw_row_number        date  ...   vehicle_model vehicle_registration_state\n",
              "0           24723  2009-01-10  ...  Town & Country                         NJ\n",
              "1           88239  2009-02-06  ...             NaN                        NaN\n",
              "2          101999  2009-02-11  ...             NaN                         PA\n",
              "3          151289  2009-03-03  ...           Tahoe                         NJ\n",
              "4          153223  2009-03-05  ...      Expedition                         NJ\n",
              "\n",
              "[5 rows x 20 columns]"
            ]
          },
          "metadata": {
            "tags": []
          },
          "execution_count": 58
        }
      ]
    },
    {
      "cell_type": "code",
      "metadata": {
        "id": "G5g2x2Td2XgU",
        "colab_type": "code",
        "outputId": "0a61da6e-6365-4be2-d2ff-81455ff21606",
        "colab": {
          "base_uri": "https://localhost:8080/",
          "height": 370
        }
      },
      "source": [
        "df.isna().sum()"
      ],
      "execution_count": 0,
      "outputs": [
        {
          "output_type": "execute_result",
          "data": {
            "text/plain": [
              "raw_row_number                      0\n",
              "date                                0\n",
              "time                                0\n",
              "location                            0\n",
              "subject_race                   109431\n",
              "subject_sex                     18787\n",
              "officer_id_hash                     0\n",
              "department_id                       0\n",
              "type                                0\n",
              "violation                      916990\n",
              "arrest_made                   3719812\n",
              "citation_issued                852818\n",
              "warning_issued                 858842\n",
              "outcome                        845936\n",
              "frisk_performed               3707675\n",
              "search_conducted              3703294\n",
              "vehicle_color                  102890\n",
              "vehicle_make                   143182\n",
              "vehicle_model                 2887636\n",
              "vehicle_registration_state      27617\n",
              "dtype: int64"
            ]
          },
          "metadata": {
            "tags": []
          },
          "execution_count": 59
        }
      ]
    },
    {
      "cell_type": "code",
      "metadata": {
        "id": "-VucvHVR2pVw",
        "colab_type": "code",
        "outputId": "393a10d7-fd4a-4ca7-d146-7a9404c7934d",
        "colab": {
          "base_uri": "https://localhost:8080/",
          "height": 202
        }
      },
      "source": [
        "# What are the most common violations?\n",
        "df.violation.value_counts().head(10)"
      ],
      "execution_count": 0,
      "outputs": [
        {
          "output_type": "execute_result",
          "data": {
            "text/plain": [
              "39:4-97 CARELESS DRIVING                          726267\n",
              "39:4-98 RATES OF SPEED                            301189\n",
              "39:4-88B UNSAFE LANE CHANGE                       218747\n",
              "39:3-76.2F REQ WEARING SEATBELTS                  189408\n",
              "39:4-56 DELAYING TRAFFIC                          165038\n",
              "39:3-66 MAINTENANCE ILLUM DEVICE                  139425\n",
              "39:4-97.3 USE OF HANDS-FREE WIRELESS TELEPHONE    126905\n",
              "39:4-99 EXCEED SPEED LIMITATIONS                   96289\n",
              "39:3-75 SAFETY GLASS DEFINED                       82905\n",
              "39:3-74 WINDSHIELD WIPERS                          73668\n",
              "Name: violation, dtype: int64"
            ]
          },
          "metadata": {
            "tags": []
          },
          "execution_count": 61
        }
      ]
    },
    {
      "cell_type": "code",
      "metadata": {
        "id": "hlKGcDd328xy",
        "colab_type": "code",
        "outputId": "e2219a34-ffab-40b9-8235-1dbcfd5e11dc",
        "colab": {
          "base_uri": "https://localhost:8080/",
          "height": 202
        }
      },
      "source": [
        "# What can we infer about vehicle make and likelihood of getting pulled over?\n",
        "df.vehicle_make.value_counts(normalize=True).head(10)"
      ],
      "execution_count": 0,
      "outputs": [
        {
          "output_type": "execute_result",
          "data": {
            "text/plain": [
              "Honda         0.118632\n",
              "Ford          0.106514\n",
              "Toyota        0.099623\n",
              "Chevrolet     0.084403\n",
              "Nissan        0.081274\n",
              "Dodge         0.047225\n",
              "Hyundai       0.037378\n",
              "Jeep          0.035211\n",
              "BMW           0.034904\n",
              "Volkswagen    0.028908\n",
              "Name: vehicle_make, dtype: float64"
            ]
          },
          "metadata": {
            "tags": []
          },
          "execution_count": 62
        }
      ]
    },
    {
      "cell_type": "code",
      "metadata": {
        "id": "ZFAT8Nvj3W-X",
        "colab_type": "code",
        "outputId": "1c4648c4-7008-4ea9-bb3a-4d6785a88127",
        "colab": {
          "base_uri": "https://localhost:8080/",
          "height": 202
        }
      },
      "source": [
        "# What can we infer about this statement? Are other confounding relationships needed (male, female, race, etc.)?\n",
        "df[df.violation == '39:4-98 RATES OF SPEED'].vehicle_make.value_counts(normalize=True).head(10)"
      ],
      "execution_count": 0,
      "outputs": [
        {
          "output_type": "execute_result",
          "data": {
            "text/plain": [
              "Honda            0.125034\n",
              "Toyota           0.107939\n",
              "Ford             0.088320\n",
              "Nissan           0.084921\n",
              "Chevrolet        0.074299\n",
              "BMW              0.043302\n",
              "Dodge            0.041296\n",
              "Hyundai          0.039327\n",
              "Volkswagen       0.032925\n",
              "Mercedes-Benz    0.031556\n",
              "Name: vehicle_make, dtype: float64"
            ]
          },
          "metadata": {
            "tags": []
          },
          "execution_count": 66
        }
      ]
    },
    {
      "cell_type": "code",
      "metadata": {
        "id": "xYIAKnNL38h5",
        "colab_type": "code",
        "outputId": "564c6fa0-1d7b-4b05-86b9-3326c8f3d726",
        "colab": {
          "base_uri": "https://localhost:8080/",
          "height": 202
        }
      },
      "source": [
        "# What about vehicle color?\n",
        "df[df.violation == '39:4-98 RATES OF SPEED'].vehicle_color.value_counts(normalize=True).head(10)"
      ],
      "execution_count": 0,
      "outputs": [
        {
          "output_type": "execute_result",
          "data": {
            "text/plain": [
              "BLK    0.238954\n",
              "SIL    0.200708\n",
              "WHI    0.157833\n",
              "GRY    0.110433\n",
              "BLU    0.096752\n",
              "RED    0.077175\n",
              "GRN    0.043044\n",
              "TAN    0.020111\n",
              "GLD    0.019722\n",
              "BGE    0.009164\n",
              "Name: vehicle_color, dtype: float64"
            ]
          },
          "metadata": {
            "tags": []
          },
          "execution_count": 84
        }
      ]
    },
    {
      "cell_type": "markdown",
      "metadata": {
        "id": "7nGHGUUH9qoP",
        "colab_type": "text"
      },
      "source": [
        "## Using %%timeit for Different Pandas Operations"
      ]
    },
    {
      "cell_type": "code",
      "metadata": {
        "id": "flj__8UV4mDs",
        "colab_type": "code",
        "outputId": "b638e59e-cec4-46a2-afc9-3cc2141388f6",
        "colab": {
          "base_uri": "https://localhost:8080/",
          "height": 212
        }
      },
      "source": [
        "df = pd.DataFrame({'a': np.arange(1e6),\n",
        "                  'b': 2*np.arange(1e6)})\n",
        "print(df.shape)\n",
        "df.head()"
      ],
      "execution_count": 0,
      "outputs": [
        {
          "output_type": "stream",
          "text": [
            "(1000000, 2)\n"
          ],
          "name": "stdout"
        },
        {
          "output_type": "execute_result",
          "data": {
            "text/html": [
              "<div>\n",
              "<style scoped>\n",
              "    .dataframe tbody tr th:only-of-type {\n",
              "        vertical-align: middle;\n",
              "    }\n",
              "\n",
              "    .dataframe tbody tr th {\n",
              "        vertical-align: top;\n",
              "    }\n",
              "\n",
              "    .dataframe thead th {\n",
              "        text-align: right;\n",
              "    }\n",
              "</style>\n",
              "<table border=\"1\" class=\"dataframe\">\n",
              "  <thead>\n",
              "    <tr style=\"text-align: right;\">\n",
              "      <th></th>\n",
              "      <th>a</th>\n",
              "      <th>b</th>\n",
              "    </tr>\n",
              "  </thead>\n",
              "  <tbody>\n",
              "    <tr>\n",
              "      <th>0</th>\n",
              "      <td>0.0</td>\n",
              "      <td>0.0</td>\n",
              "    </tr>\n",
              "    <tr>\n",
              "      <th>1</th>\n",
              "      <td>1.0</td>\n",
              "      <td>2.0</td>\n",
              "    </tr>\n",
              "    <tr>\n",
              "      <th>2</th>\n",
              "      <td>2.0</td>\n",
              "      <td>4.0</td>\n",
              "    </tr>\n",
              "    <tr>\n",
              "      <th>3</th>\n",
              "      <td>3.0</td>\n",
              "      <td>6.0</td>\n",
              "    </tr>\n",
              "    <tr>\n",
              "      <th>4</th>\n",
              "      <td>4.0</td>\n",
              "      <td>8.0</td>\n",
              "    </tr>\n",
              "  </tbody>\n",
              "</table>\n",
              "</div>"
            ],
            "text/plain": [
              "     a    b\n",
              "0  0.0  0.0\n",
              "1  1.0  2.0\n",
              "2  2.0  4.0\n",
              "3  3.0  6.0\n",
              "4  4.0  8.0"
            ]
          },
          "metadata": {
            "tags": []
          },
          "execution_count": 87
        }
      ]
    },
    {
      "cell_type": "code",
      "metadata": {
        "id": "wPyrszq15BuY",
        "colab_type": "code",
        "outputId": "6fdf9eb1-5f8c-4606-b066-367b037b24c7",
        "colab": {
          "base_uri": "https://localhost:8080/",
          "height": 34
        }
      },
      "source": [
        "%timeit df['c'] = df['a']**2"
      ],
      "execution_count": 0,
      "outputs": [
        {
          "output_type": "stream",
          "text": [
            "100 loops, best of 3: 15.3 ms per loop\n"
          ],
          "name": "stdout"
        }
      ]
    },
    {
      "cell_type": "code",
      "metadata": {
        "id": "8S5BrYNw6sji",
        "colab_type": "code",
        "colab": {}
      },
      "source": [
        "from tqdm import tqdm\n",
        "tqdm.pandas()"
      ],
      "execution_count": 0,
      "outputs": []
    },
    {
      "cell_type": "code",
      "metadata": {
        "id": "dlE2KsCI-p4d",
        "colab_type": "code",
        "outputId": "c7c39317-4af6-4174-e796-1ea4d3901788",
        "colab": {
          "base_uri": "https://localhost:8080/",
          "height": 34
        }
      },
      "source": [
        "%timeit df['c2'] = df['a'].apply(lambda x: x**2)"
      ],
      "execution_count": 0,
      "outputs": [
        {
          "output_type": "stream",
          "text": [
            "1 loop, best of 3: 324 ms per loop\n"
          ],
          "name": "stdout"
        }
      ]
    },
    {
      "cell_type": "code",
      "metadata": {
        "id": "HuemeDJB5i9j",
        "colab_type": "code",
        "outputId": "a122aed3-c90c-4c73-950d-e446c5e514cf",
        "colab": {
          "base_uri": "https://localhost:8080/",
          "height": 101
        }
      },
      "source": [
        "%timeit df['c3'] = df['a'].progress_apply(lambda x: x**2)"
      ],
      "execution_count": 0,
      "outputs": [
        {
          "output_type": "stream",
          "text": [
            "100%|██████████| 1000000/1000000 [00:01<00:00, 715486.46it/s]\n",
            "100%|██████████| 1000000/1000000 [00:01<00:00, 709237.44it/s]\n",
            "100%|██████████| 1000000/1000000 [00:01<00:00, 698433.83it/s]\n",
            "100%|██████████| 1000000/1000000 [00:01<00:00, 700210.45it/s]"
          ],
          "name": "stderr"
        },
        {
          "output_type": "stream",
          "text": [
            "1 loop, best of 3: 1.43 s per loop\n"
          ],
          "name": "stdout"
        },
        {
          "output_type": "stream",
          "text": [
            "\n"
          ],
          "name": "stderr"
        }
      ]
    },
    {
      "cell_type": "markdown",
      "metadata": {
        "id": "lOqaPds9huME",
        "colab_type": "text"
      },
      "source": [
        "## Assignment - what's going on here?\n",
        "\n",
        "Consider the data in `persons.csv` (already prepared for you, in the repo for the week). It has four columns - a unique id, followed by age (in years), weight (in lbs), and exercise time (in minutes/week) of 1200 (hypothetical) people.\n",
        "\n",
        "Try to figure out which variables are possibly related to each other, and which may be confounding relationships."
      ]
    },
    {
      "cell_type": "code",
      "metadata": {
        "id": "TGUS79cOhPWj",
        "colab_type": "code",
        "colab": {}
      },
      "source": [
        "# TODO - your code here\n",
        "# Use what we did live in lecture as an example\n",
        "\n",
        "# HINT - you can find the raw URL on GitHub and potentially use that\n",
        "# to load the data with read_csv, or you can upload it yourself"
      ],
      "execution_count": 0,
      "outputs": []
    },
    {
      "cell_type": "markdown",
      "metadata": {
        "id": "BT9gdS7viJZa",
        "colab_type": "text"
      },
      "source": [
        "### Assignment questions\n",
        "\n",
        "After you've worked on some code, answer the following questions in this text block:\n",
        "\n",
        "1.  What are the variable types in the data?\n",
        "2.  What are the relationships between the variables?\n",
        "3.  Which relationships are \"real\", and which spurious?\n"
      ]
    },
    {
      "cell_type": "markdown",
      "metadata": {
        "id": "_XXg2crAipwP",
        "colab_type": "text"
      },
      "source": [
        "## Stretch goals and resources\n",
        "\n",
        "Following are *optional* things for you to take a look at. Focus on the above assignment first, and make sure to commit and push your changes to GitHub.\n",
        "\n",
        "- [Spurious Correlations](http://tylervigen.com/spurious-correlations)\n",
        "- [NIH on controlling for confounding variables](https://www.ncbi.nlm.nih.gov/pmc/articles/PMC4017459/)\n",
        "\n",
        "Stretch goals:\n",
        "\n",
        "- Produce your own plot inspired by the Spurious Correlation visualizations (and consider writing a blog post about it - both the content and how you made it)\n",
        "- Pick one of the techniques that NIH highlights for confounding variables - we'll be going into many of them later, but see if you can find which Python modules may help (hint - check scikit-learn)"
      ]
    }
  ]
}