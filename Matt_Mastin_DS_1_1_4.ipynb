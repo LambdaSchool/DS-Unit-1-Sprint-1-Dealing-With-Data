{
  "nbformat": 4,
  "nbformat_minor": 0,
  "metadata": {
    "colab": {
      "name": "Matt Mastin DS 1.1.4.ipynb",
      "version": "0.3.2",
      "provenance": [],
      "collapsed_sections": [],
      "include_colab_link": true
    },
    "kernelspec": {
      "name": "python3",
      "display_name": "Python 3"
    }
  },
  "cells": [
    {
      "cell_type": "markdown",
      "metadata": {
        "id": "view-in-github",
        "colab_type": "text"
      },
      "source": [
        "<a href=\"https://colab.research.google.com/github/mmastin/DS-Unit-1-Sprint-1-Dealing-With-Data/blob/master/Matt_Mastin_DS_1_1_4.ipynb\" target=\"_parent\"><img src=\"https://colab.research.google.com/assets/colab-badge.svg\" alt=\"Open In Colab\"/></a>"
      ]
    },
    {
      "metadata": {
        "id": "Okfr_uhwhS1X",
        "colab_type": "text"
      },
      "cell_type": "markdown",
      "source": [
        "# Lambda School Data Science - Making Data-backed Assertions\n",
        "\n",
        "This is, for many, the main point of data science - to create and support reasoned arguments based on evidence. It's not a topic to master in a day, but it is worth some focused time thinking about and structuring your approach to it."
      ]
    },
    {
      "metadata": {
        "id": "9dtJETFRhnOG",
        "colab_type": "text"
      },
      "cell_type": "markdown",
      "source": [
        "## Lecture - generating a confounding variable\n",
        "\n",
        "The prewatch material told a story about a hypothetical health condition where both the drug usage and overall health outcome were related to gender - thus making gender a confounding variable, obfuscating the possible relationship between the drug and the outcome.\n",
        "\n",
        "Let's use Python to generate data that actually behaves in this fashion!"
      ]
    },
    {
      "metadata": {
        "id": "w4bEg9ibKTCr",
        "colab_type": "code",
        "colab": {}
      },
      "cell_type": "code",
      "source": [
        "# y = 'health_outcome' - predicted variable - dependent variable\n",
        "# x = 'drug_usage' - explanatory variable - independent variable\n",
        "\n"
      ],
      "execution_count": 0,
      "outputs": []
    },
    {
      "metadata": {
        "id": "WiBkgmPJhmhE",
        "colab_type": "code",
        "colab": {}
      },
      "cell_type": "code",
      "source": [
        "import random\n",
        "dir(random)  # Reminding ourselves what we can do here\n",
        "random.seed(10) # random seed for reproducibility"
      ],
      "execution_count": 0,
      "outputs": []
    },
    {
      "metadata": {
        "id": "Ks5qFtpnq-q5",
        "colab_type": "code",
        "outputId": "ae9c9865-5a3b-4c1c-f0fb-83a6445d57ec",
        "colab": {
          "base_uri": "https://localhost:8080/",
          "height": 34
        }
      },
      "cell_type": "code",
      "source": [
        "# Let's think of another scenario:\n",
        "# We work for a company that sells accessories for mobile phones.\n",
        "# They have an ecommerce site, and we are supposed to analyze logs\n",
        "# to determine what sort of usage is related to purchases, and thus guide\n",
        "# website development to encourage higher conversion.\n",
        "\n",
        "# The hypothesis - users who spend longer on the site tend\n",
        "# to spend more. Seems reasonable, no?\n",
        "\n",
        "# But there's a confounding variable! If they're on a phone, they:\n",
        "# a) Spend less time on the site, but\n",
        "# b) Are more likely to be interested in the actual products!\n",
        "\n",
        "# Let's use namedtuple to represent our data\n",
        "\n",
        "from collections import namedtuple\n",
        "# purchased and mobile are bools, time_on_site in seconds\n",
        "User = namedtuple('User', ['purchased','time_on_site', 'mobile'])\n",
        "\n",
        "example_user = User(False, 12, False)\n",
        "print(example_user)\n",
        "\n",
        "# practice code\n",
        "# from collections import namedtuple\n",
        "# user=namedtuple('User', ['purchased', 'time_on_site', 'mobile'])\n",
        "# example_user = User(False, 12, False)\n",
        "# print(example_user)\n"
      ],
      "execution_count": 0,
      "outputs": [
        {
          "output_type": "stream",
          "text": [
            "User(purchased=False, time_on_site=12, mobile=False)\n"
          ],
          "name": "stdout"
        }
      ]
    },
    {
      "metadata": {
        "id": "lfPiHNG_sefL",
        "colab_type": "code",
        "outputId": "413be583-e3c2-474a-9ff1-88b054c0d73e",
        "colab": {
          "base_uri": "https://localhost:8080/",
          "height": 54
        }
      },
      "cell_type": "code",
      "source": [
        "# And now let's generate 1000 example users\n",
        "# 750 mobile, 250 not (i.e. desktop)\n",
        "# A desktop user has a base conversion likelihood of 10%\n",
        "# And it goes up by 1% for each 15 seconds they spend on the site\n",
        "# And they spend anywhere from 10 seconds to 10 minutes on the site (uniform)\n",
        "# Mobile users spend on average half as much time on the site as desktop\n",
        "# But have three times as much base likelihood of buying something\n",
        "\n",
        "users = []\n",
        "\n",
        "for _ in range(250):\n",
        "  # Desktop users\n",
        "  time_on_site = random.uniform(10, 600)\n",
        "  purchased = random.random() < 0.1 + (time_on_site / 1500)\n",
        "  users.append(User(purchased, time_on_site, False))\n",
        "  \n",
        "for _ in range(750):\n",
        "  # Mobile users\n",
        "  time_on_site = random.uniform(5, 300)\n",
        "  purchased = random.random() < 0.3 + (time_on_site / 1500)\n",
        "  users.append(User(purchased, time_on_site, True))\n",
        "  \n",
        "random.shuffle(users)\n",
        "print(users[:10])\n",
        "\n",
        "# practice code\n",
        "# users = []\n",
        "# for _ in range(250):\n",
        "#   time_on_site = random.uniform(10, 600)\n",
        "#   purchased = random.random() < 0.1 + (time_ons_site / 1500)\n",
        "#   users.append(User(purchased, time_on_site, False)\n",
        "               \n",
        "# for _ in range(750):\n",
        "#   time_on_site = random.uniform(5, 300)\n",
        "#   purchased = random.random() < 0.3 (time_on_site) / 1500)\n",
        "#   useres.append(User(purchased, time_on_site, True))\n",
        "  \n",
        "# random.shuffle(users)\n",
        "# print(users[:10])"
      ],
      "execution_count": 0,
      "outputs": [
        {
          "output_type": "stream",
          "text": [
            "[User(purchased=False, time_on_site=172.07500125969045, mobile=False), User(purchased=False, time_on_site=242.1604565076447, mobile=True), User(purchased=True, time_on_site=172.4562884302345, mobile=True), User(purchased=False, time_on_site=134.30741730988564, mobile=True), User(purchased=False, time_on_site=176.6659151415657, mobile=False), User(purchased=False, time_on_site=98.57704667574383, mobile=True), User(purchased=False, time_on_site=141.90635886960914, mobile=True), User(purchased=False, time_on_site=46.30954508769639, mobile=True), User(purchased=True, time_on_site=568.9570603645093, mobile=False), User(purchased=False, time_on_site=64.57737234489078, mobile=True)]\n"
          ],
          "name": "stdout"
        }
      ]
    },
    {
      "metadata": {
        "id": "9gDYb5qGuRzy",
        "colab_type": "code",
        "outputId": "509061e3-789a-40ca-c918-7e3ddf8937b4",
        "colab": {
          "base_uri": "https://localhost:8080/",
          "height": 206
        }
      },
      "cell_type": "code",
      "source": [
        "# Let's put this in a dataframe so we can look at it more easily\n",
        "import pandas as pd\n",
        "user_data = pd.DataFrame(users)\n",
        "user_data.head()\n",
        "\n",
        "# import pandas as pd\n",
        "# user_date = pd.DataFrame(users)\n",
        "# user_data.head()"
      ],
      "execution_count": 0,
      "outputs": [
        {
          "output_type": "execute_result",
          "data": {
            "text/html": [
              "<div>\n",
              "<style scoped>\n",
              "    .dataframe tbody tr th:only-of-type {\n",
              "        vertical-align: middle;\n",
              "    }\n",
              "\n",
              "    .dataframe tbody tr th {\n",
              "        vertical-align: top;\n",
              "    }\n",
              "\n",
              "    .dataframe thead th {\n",
              "        text-align: right;\n",
              "    }\n",
              "</style>\n",
              "<table border=\"1\" class=\"dataframe\">\n",
              "  <thead>\n",
              "    <tr style=\"text-align: right;\">\n",
              "      <th></th>\n",
              "      <th>purchased</th>\n",
              "      <th>time_on_site</th>\n",
              "      <th>mobile</th>\n",
              "    </tr>\n",
              "  </thead>\n",
              "  <tbody>\n",
              "    <tr>\n",
              "      <th>0</th>\n",
              "      <td>False</td>\n",
              "      <td>172.075001</td>\n",
              "      <td>False</td>\n",
              "    </tr>\n",
              "    <tr>\n",
              "      <th>1</th>\n",
              "      <td>False</td>\n",
              "      <td>242.160457</td>\n",
              "      <td>True</td>\n",
              "    </tr>\n",
              "    <tr>\n",
              "      <th>2</th>\n",
              "      <td>True</td>\n",
              "      <td>172.456288</td>\n",
              "      <td>True</td>\n",
              "    </tr>\n",
              "    <tr>\n",
              "      <th>3</th>\n",
              "      <td>False</td>\n",
              "      <td>134.307417</td>\n",
              "      <td>True</td>\n",
              "    </tr>\n",
              "    <tr>\n",
              "      <th>4</th>\n",
              "      <td>False</td>\n",
              "      <td>176.665915</td>\n",
              "      <td>False</td>\n",
              "    </tr>\n",
              "  </tbody>\n",
              "</table>\n",
              "</div>"
            ],
            "text/plain": [
              "   purchased  time_on_site  mobile\n",
              "0      False    172.075001   False\n",
              "1      False    242.160457    True\n",
              "2       True    172.456288    True\n",
              "3      False    134.307417    True\n",
              "4      False    176.665915   False"
            ]
          },
          "metadata": {
            "tags": []
          },
          "execution_count": 4
        }
      ]
    },
    {
      "metadata": {
        "id": "P_uNIn9GSYhd",
        "colab_type": "code",
        "colab": {}
      },
      "cell_type": "code",
      "source": [
        "# !pip freeze\n",
        "\n",
        "# shows version of libraries running\n",
        "\n",
        "# !pip install pandas==0.23.4"
      ],
      "execution_count": 0,
      "outputs": []
    },
    {
      "metadata": {
        "id": "sr6IJv77ulVl",
        "colab_type": "code",
        "outputId": "cb0b91dc-a8ad-4e5e-b876-50de218a0b43",
        "colab": {
          "base_uri": "https://localhost:8080/",
          "height": 193
        }
      },
      "cell_type": "code",
      "source": [
        "# Let's use crosstabulation to try to see what's going on\n",
        "pd.crosstab(user_data['purchased'], user_data['time_on_site'])\n",
        "\n",
        "# pd.crosstab(user_data['purchased'], user_data['time_on_site'])"
      ],
      "execution_count": 0,
      "outputs": [
        {
          "output_type": "execute_result",
          "data": {
            "text/html": [
              "<div>\n",
              "<style scoped>\n",
              "    .dataframe tbody tr th:only-of-type {\n",
              "        vertical-align: middle;\n",
              "    }\n",
              "\n",
              "    .dataframe tbody tr th {\n",
              "        vertical-align: top;\n",
              "    }\n",
              "\n",
              "    .dataframe thead th {\n",
              "        text-align: right;\n",
              "    }\n",
              "</style>\n",
              "<table border=\"1\" class=\"dataframe\">\n",
              "  <thead>\n",
              "    <tr style=\"text-align: right;\">\n",
              "      <th>time_on_site</th>\n",
              "      <th>5.167894147962072</th>\n",
              "      <th>5.230051694531813</th>\n",
              "      <th>5.859655940198439</th>\n",
              "      <th>6.0175026563650755</th>\n",
              "      <th>6.029351938631506</th>\n",
              "      <th>6.076534025386882</th>\n",
              "      <th>7.530625255773601</th>\n",
              "      <th>7.817115390608255</th>\n",
              "      <th>7.825127435732432</th>\n",
              "      <th>7.9926238138229575</th>\n",
              "      <th>...</th>\n",
              "      <th>582.0038712877167</th>\n",
              "      <th>585.1679472229359</th>\n",
              "      <th>588.9784218509578</th>\n",
              "      <th>589.6238169166027</th>\n",
              "      <th>594.952201290341</th>\n",
              "      <th>595.4861528820476</th>\n",
              "      <th>595.6859588006147</th>\n",
              "      <th>597.9686255982785</th>\n",
              "      <th>599.821842253337</th>\n",
              "      <th>599.9043999383127</th>\n",
              "    </tr>\n",
              "    <tr>\n",
              "      <th>purchased</th>\n",
              "      <th></th>\n",
              "      <th></th>\n",
              "      <th></th>\n",
              "      <th></th>\n",
              "      <th></th>\n",
              "      <th></th>\n",
              "      <th></th>\n",
              "      <th></th>\n",
              "      <th></th>\n",
              "      <th></th>\n",
              "      <th></th>\n",
              "      <th></th>\n",
              "      <th></th>\n",
              "      <th></th>\n",
              "      <th></th>\n",
              "      <th></th>\n",
              "      <th></th>\n",
              "      <th></th>\n",
              "      <th></th>\n",
              "      <th></th>\n",
              "      <th></th>\n",
              "    </tr>\n",
              "  </thead>\n",
              "  <tbody>\n",
              "    <tr>\n",
              "      <th>False</th>\n",
              "      <td>0</td>\n",
              "      <td>1</td>\n",
              "      <td>1</td>\n",
              "      <td>0</td>\n",
              "      <td>1</td>\n",
              "      <td>1</td>\n",
              "      <td>1</td>\n",
              "      <td>1</td>\n",
              "      <td>1</td>\n",
              "      <td>0</td>\n",
              "      <td>...</td>\n",
              "      <td>1</td>\n",
              "      <td>1</td>\n",
              "      <td>0</td>\n",
              "      <td>1</td>\n",
              "      <td>1</td>\n",
              "      <td>1</td>\n",
              "      <td>0</td>\n",
              "      <td>0</td>\n",
              "      <td>1</td>\n",
              "      <td>0</td>\n",
              "    </tr>\n",
              "    <tr>\n",
              "      <th>True</th>\n",
              "      <td>1</td>\n",
              "      <td>0</td>\n",
              "      <td>0</td>\n",
              "      <td>1</td>\n",
              "      <td>0</td>\n",
              "      <td>0</td>\n",
              "      <td>0</td>\n",
              "      <td>0</td>\n",
              "      <td>0</td>\n",
              "      <td>1</td>\n",
              "      <td>...</td>\n",
              "      <td>0</td>\n",
              "      <td>0</td>\n",
              "      <td>1</td>\n",
              "      <td>0</td>\n",
              "      <td>0</td>\n",
              "      <td>0</td>\n",
              "      <td>1</td>\n",
              "      <td>1</td>\n",
              "      <td>0</td>\n",
              "      <td>1</td>\n",
              "    </tr>\n",
              "  </tbody>\n",
              "</table>\n",
              "<p>2 rows × 1000 columns</p>\n",
              "</div>"
            ],
            "text/plain": [
              "time_on_site  5.167894    5.230052    5.859656    6.017503    6.029352    \\\n",
              "purchased                                                                  \n",
              "False                  0           1           1           0           1   \n",
              "True                   1           0           0           1           0   \n",
              "\n",
              "time_on_site  6.076534    7.530625    7.817115    7.825127    7.992624    \\\n",
              "purchased                                                                  \n",
              "False                  1           1           1           1           0   \n",
              "True                   0           0           0           0           1   \n",
              "\n",
              "time_on_site     ...      582.003871  585.167947  588.978422  589.623817  \\\n",
              "purchased        ...                                                       \n",
              "False            ...               1           1           0           1   \n",
              "True             ...               0           0           1           0   \n",
              "\n",
              "time_on_site  594.952201  595.486153  595.685959  597.968626  599.821842  \\\n",
              "purchased                                                                  \n",
              "False                  1           1           0           0           1   \n",
              "True                   0           0           1           1           0   \n",
              "\n",
              "time_on_site  599.904400  \n",
              "purchased                 \n",
              "False                  0  \n",
              "True                   1  \n",
              "\n",
              "[2 rows x 1000 columns]"
            ]
          },
          "metadata": {
            "tags": []
          },
          "execution_count": 6
        }
      ]
    },
    {
      "metadata": {
        "id": "hvAv6J3EwA9s",
        "colab_type": "code",
        "outputId": "6e6525a4-37c6-4073-fa5c-30fae497cbe6",
        "colab": {
          "base_uri": "https://localhost:8080/",
          "height": 143
        }
      },
      "cell_type": "code",
      "source": [
        "# OK, that's not quite what we want\n",
        "# Time is continuous! We need to put it in discrete buckets\n",
        "# Pandas calls these bins, and pandas.cut helps make them\n",
        "\n",
        "# for equal bins\n",
        "# try 6 bins? Close to 100s per. fiddle around\n",
        "\n",
        "time_bins = pd.cut(user_data['time_on_site'], 5)  # 5 equal-sized bins\n",
        "pd.crosstab(user_data['purchased'], time_bins)\n",
        "\n",
        "# time_bins = pd.cut(user_data['time_on_site'], 5)\n",
        "# pd.crosstab(user_data['purchased'], time_bins)"
      ],
      "execution_count": 0,
      "outputs": [
        {
          "output_type": "execute_result",
          "data": {
            "text/html": [
              "<div>\n",
              "<style scoped>\n",
              "    .dataframe tbody tr th:only-of-type {\n",
              "        vertical-align: middle;\n",
              "    }\n",
              "\n",
              "    .dataframe tbody tr th {\n",
              "        vertical-align: top;\n",
              "    }\n",
              "\n",
              "    .dataframe thead th {\n",
              "        text-align: right;\n",
              "    }\n",
              "</style>\n",
              "<table border=\"1\" class=\"dataframe\">\n",
              "  <thead>\n",
              "    <tr style=\"text-align: right;\">\n",
              "      <th>time_on_site</th>\n",
              "      <th>(4.573, 124.115]</th>\n",
              "      <th>(124.115, 243.062]</th>\n",
              "      <th>(243.062, 362.01]</th>\n",
              "      <th>(362.01, 480.957]</th>\n",
              "      <th>(480.957, 599.904]</th>\n",
              "    </tr>\n",
              "    <tr>\n",
              "      <th>purchased</th>\n",
              "      <th></th>\n",
              "      <th></th>\n",
              "      <th></th>\n",
              "      <th></th>\n",
              "      <th></th>\n",
              "    </tr>\n",
              "  </thead>\n",
              "  <tbody>\n",
              "    <tr>\n",
              "      <th>False</th>\n",
              "      <td>249</td>\n",
              "      <td>212</td>\n",
              "      <td>119</td>\n",
              "      <td>42</td>\n",
              "      <td>22</td>\n",
              "    </tr>\n",
              "    <tr>\n",
              "      <th>True</th>\n",
              "      <td>100</td>\n",
              "      <td>139</td>\n",
              "      <td>84</td>\n",
              "      <td>15</td>\n",
              "      <td>18</td>\n",
              "    </tr>\n",
              "  </tbody>\n",
              "</table>\n",
              "</div>"
            ],
            "text/plain": [
              "time_on_site  (4.573, 124.115]  (124.115, 243.062]  (243.062, 362.01]  \\\n",
              "purchased                                                               \n",
              "False                      249                 212                119   \n",
              "True                       100                 139                 84   \n",
              "\n",
              "time_on_site  (362.01, 480.957]  (480.957, 599.904]  \n",
              "purchased                                            \n",
              "False                        42                  22  \n",
              "True                         15                  18  "
            ]
          },
          "metadata": {
            "tags": []
          },
          "execution_count": 7
        }
      ]
    },
    {
      "metadata": {
        "id": "pjcXnJw0wfaj",
        "colab_type": "code",
        "outputId": "98bc9cdb-23db-451f-ace6-5e4a4385450d",
        "colab": {
          "base_uri": "https://localhost:8080/",
          "height": 143
        }
      },
      "cell_type": "code",
      "source": [
        "# We can make this a bit clearer by normalizing (getting %)\n",
        "pd.crosstab(user_data['purchased'], time_bins, normalize='columns')"
      ],
      "execution_count": 0,
      "outputs": [
        {
          "output_type": "execute_result",
          "data": {
            "text/html": [
              "<div>\n",
              "<style scoped>\n",
              "    .dataframe tbody tr th:only-of-type {\n",
              "        vertical-align: middle;\n",
              "    }\n",
              "\n",
              "    .dataframe tbody tr th {\n",
              "        vertical-align: top;\n",
              "    }\n",
              "\n",
              "    .dataframe thead th {\n",
              "        text-align: right;\n",
              "    }\n",
              "</style>\n",
              "<table border=\"1\" class=\"dataframe\">\n",
              "  <thead>\n",
              "    <tr style=\"text-align: right;\">\n",
              "      <th>time_on_site</th>\n",
              "      <th>(4.573, 124.115]</th>\n",
              "      <th>(124.115, 243.062]</th>\n",
              "      <th>(243.062, 362.01]</th>\n",
              "      <th>(362.01, 480.957]</th>\n",
              "      <th>(480.957, 599.904]</th>\n",
              "    </tr>\n",
              "    <tr>\n",
              "      <th>purchased</th>\n",
              "      <th></th>\n",
              "      <th></th>\n",
              "      <th></th>\n",
              "      <th></th>\n",
              "      <th></th>\n",
              "    </tr>\n",
              "  </thead>\n",
              "  <tbody>\n",
              "    <tr>\n",
              "      <th>False</th>\n",
              "      <td>0.713467</td>\n",
              "      <td>0.603989</td>\n",
              "      <td>0.586207</td>\n",
              "      <td>0.736842</td>\n",
              "      <td>0.55</td>\n",
              "    </tr>\n",
              "    <tr>\n",
              "      <th>True</th>\n",
              "      <td>0.286533</td>\n",
              "      <td>0.396011</td>\n",
              "      <td>0.413793</td>\n",
              "      <td>0.263158</td>\n",
              "      <td>0.45</td>\n",
              "    </tr>\n",
              "  </tbody>\n",
              "</table>\n",
              "</div>"
            ],
            "text/plain": [
              "time_on_site  (4.573, 124.115]  (124.115, 243.062]  (243.062, 362.01]  \\\n",
              "purchased                                                               \n",
              "False                 0.713467            0.603989           0.586207   \n",
              "True                  0.286533            0.396011           0.413793   \n",
              "\n",
              "time_on_site  (362.01, 480.957]  (480.957, 599.904]  \n",
              "purchased                                            \n",
              "False                  0.736842                0.55  \n",
              "True                   0.263158                0.45  "
            ]
          },
          "metadata": {
            "tags": []
          },
          "execution_count": 8
        }
      ]
    },
    {
      "metadata": {
        "id": "C3GzvDxlvZMa",
        "colab_type": "code",
        "outputId": "305e872f-1881-4b32-95c7-3afc92e93f55",
        "colab": {
          "base_uri": "https://localhost:8080/",
          "height": 143
        }
      },
      "cell_type": "code",
      "source": [
        "# That seems counter to our hypothesis\n",
        "# More time on the site can actually have fewer purchases\n",
        "\n",
        "# But we know why, since we generated the data!\n",
        "# Let's look at mobile and purchased\n",
        "pd.crosstab(user_data['purchased'], user_data['mobile'], normalize='columns')"
      ],
      "execution_count": 0,
      "outputs": [
        {
          "output_type": "execute_result",
          "data": {
            "text/html": [
              "<div>\n",
              "<style scoped>\n",
              "    .dataframe tbody tr th:only-of-type {\n",
              "        vertical-align: middle;\n",
              "    }\n",
              "\n",
              "    .dataframe tbody tr th {\n",
              "        vertical-align: top;\n",
              "    }\n",
              "\n",
              "    .dataframe thead th {\n",
              "        text-align: right;\n",
              "    }\n",
              "</style>\n",
              "<table border=\"1\" class=\"dataframe\">\n",
              "  <thead>\n",
              "    <tr style=\"text-align: right;\">\n",
              "      <th>mobile</th>\n",
              "      <th>False</th>\n",
              "      <th>True</th>\n",
              "    </tr>\n",
              "    <tr>\n",
              "      <th>purchased</th>\n",
              "      <th></th>\n",
              "      <th></th>\n",
              "    </tr>\n",
              "  </thead>\n",
              "  <tbody>\n",
              "    <tr>\n",
              "      <th>False</th>\n",
              "      <td>0.728</td>\n",
              "      <td>0.616</td>\n",
              "    </tr>\n",
              "    <tr>\n",
              "      <th>True</th>\n",
              "      <td>0.272</td>\n",
              "      <td>0.384</td>\n",
              "    </tr>\n",
              "  </tbody>\n",
              "</table>\n",
              "</div>"
            ],
            "text/plain": [
              "mobile     False  True \n",
              "purchased              \n",
              "False      0.728  0.616\n",
              "True       0.272  0.384"
            ]
          },
          "metadata": {
            "tags": []
          },
          "execution_count": 9
        }
      ]
    },
    {
      "metadata": {
        "id": "KQb-wU60xCum",
        "colab_type": "code",
        "outputId": "af97be07-62cb-4b86-85a9-d178b60e8db6",
        "colab": {
          "base_uri": "https://localhost:8080/",
          "height": 192
        }
      },
      "cell_type": "code",
      "source": [
        "# Yep, mobile users are more likely to buy things\n",
        "# But we're still not seeing the *whole* story until we look at all 3 at once\n",
        "\n",
        "# Live/stretch goal - how can we do that?\n",
        "\n",
        "pd.crosstab(user_data['mobile'], [user_data['purchased'], time_bins],\n",
        "            rownames=['device'],\n",
        "            colnames=['purchased', 'time on site'],\n",
        "            normalize='index')"
      ],
      "execution_count": 0,
      "outputs": [
        {
          "output_type": "execute_result",
          "data": {
            "text/html": [
              "<div>\n",
              "<style scoped>\n",
              "    .dataframe tbody tr th:only-of-type {\n",
              "        vertical-align: middle;\n",
              "    }\n",
              "\n",
              "    .dataframe tbody tr th {\n",
              "        vertical-align: top;\n",
              "    }\n",
              "\n",
              "    .dataframe thead tr th {\n",
              "        text-align: left;\n",
              "    }\n",
              "\n",
              "    .dataframe thead tr:last-of-type th {\n",
              "        text-align: right;\n",
              "    }\n",
              "</style>\n",
              "<table border=\"1\" class=\"dataframe\">\n",
              "  <thead>\n",
              "    <tr>\n",
              "      <th>purchased</th>\n",
              "      <th colspan=\"5\" halign=\"left\">False</th>\n",
              "      <th colspan=\"5\" halign=\"left\">True</th>\n",
              "    </tr>\n",
              "    <tr>\n",
              "      <th>time on site</th>\n",
              "      <th>(4.573, 124.115]</th>\n",
              "      <th>(124.115, 243.062]</th>\n",
              "      <th>(243.062, 362.01]</th>\n",
              "      <th>(362.01, 480.957]</th>\n",
              "      <th>(480.957, 599.904]</th>\n",
              "      <th>(4.573, 124.115]</th>\n",
              "      <th>(124.115, 243.062]</th>\n",
              "      <th>(243.062, 362.01]</th>\n",
              "      <th>(362.01, 480.957]</th>\n",
              "      <th>(480.957, 599.904]</th>\n",
              "    </tr>\n",
              "    <tr>\n",
              "      <th>device</th>\n",
              "      <th></th>\n",
              "      <th></th>\n",
              "      <th></th>\n",
              "      <th></th>\n",
              "      <th></th>\n",
              "      <th></th>\n",
              "      <th></th>\n",
              "      <th></th>\n",
              "      <th></th>\n",
              "      <th></th>\n",
              "    </tr>\n",
              "  </thead>\n",
              "  <tbody>\n",
              "    <tr>\n",
              "      <th>False</th>\n",
              "      <td>0.172000</td>\n",
              "      <td>0.120000</td>\n",
              "      <td>0.180000</td>\n",
              "      <td>0.168</td>\n",
              "      <td>0.088</td>\n",
              "      <td>0.036000</td>\n",
              "      <td>0.056000</td>\n",
              "      <td>0.048</td>\n",
              "      <td>0.06</td>\n",
              "      <td>0.072</td>\n",
              "    </tr>\n",
              "    <tr>\n",
              "      <th>True</th>\n",
              "      <td>0.274667</td>\n",
              "      <td>0.242667</td>\n",
              "      <td>0.098667</td>\n",
              "      <td>0.000</td>\n",
              "      <td>0.000</td>\n",
              "      <td>0.121333</td>\n",
              "      <td>0.166667</td>\n",
              "      <td>0.096</td>\n",
              "      <td>0.00</td>\n",
              "      <td>0.000</td>\n",
              "    </tr>\n",
              "  </tbody>\n",
              "</table>\n",
              "</div>"
            ],
            "text/plain": [
              "purchased               False                                       \\\n",
              "time on site (4.573, 124.115] (124.115, 243.062] (243.062, 362.01]   \n",
              "device                                                               \n",
              "False                0.172000           0.120000          0.180000   \n",
              "True                 0.274667           0.242667          0.098667   \n",
              "\n",
              "purchased                                                    True   \\\n",
              "time on site (362.01, 480.957] (480.957, 599.904] (4.573, 124.115]   \n",
              "device                                                               \n",
              "False                    0.168              0.088         0.036000   \n",
              "True                     0.000              0.000         0.121333   \n",
              "\n",
              "purchased                                                            \\\n",
              "time on site (124.115, 243.062] (243.062, 362.01] (362.01, 480.957]   \n",
              "device                                                                \n",
              "False                  0.056000             0.048              0.06   \n",
              "True                   0.166667             0.096              0.00   \n",
              "\n",
              "purchased                        \n",
              "time on site (480.957, 599.904]  \n",
              "device                           \n",
              "False                     0.072  \n",
              "True                      0.000  "
            ]
          },
          "metadata": {
            "tags": []
          },
          "execution_count": 14
        }
      ]
    },
    {
      "metadata": {
        "id": "mX_-8UPUa1h1",
        "colab_type": "code",
        "outputId": "8dccb900-4c03-44d6-9474-3a0e268482cf",
        "colab": {
          "base_uri": "https://localhost:8080/",
          "height": 417
        }
      },
      "cell_type": "code",
      "source": [
        "# heatmap\n",
        "\n",
        "import seaborn as sns\n",
        "\n",
        "sns.heatmap(pd.crosstab(user_data['mobile'], [user_data['purchased'], time_bins]), cmap='YlGnBu', annot=True, cbar=False)"
      ],
      "execution_count": 0,
      "outputs": [
        {
          "output_type": "execute_result",
          "data": {
            "text/plain": [
              "<matplotlib.axes._subplots.AxesSubplot at 0x7f0569f30ef0>"
            ]
          },
          "metadata": {
            "tags": []
          },
          "execution_count": 18
        },
        {
          "output_type": "display_data",
          "data": {
            "image/png": "[encoded data removed]",
            "text/plain": [
              "<Figure size 432x288 with 1 Axes>"
            ]
          },
          "metadata": {
            "tags": []
          }
        }
      ]
    },
    {
      "metadata": {
        "id": "yXgMSmvTbgdY",
        "colab_type": "code",
        "outputId": "bce53bc6-e13f-4f84-91cb-cad95cad528a",
        "colab": {
          "base_uri": "https://localhost:8080/",
          "height": 300
        }
      },
      "cell_type": "code",
      "source": [
        "sns.violinplot(user_data['purchased'], user_data['time_on_site'], hue=user_data['mobile'])"
      ],
      "execution_count": 0,
      "outputs": [
        {
          "output_type": "execute_result",
          "data": {
            "text/plain": [
              "<matplotlib.axes._subplots.AxesSubplot at 0x7f0565f07278>"
            ]
          },
          "metadata": {
            "tags": []
          },
          "execution_count": 19
        },
        {
          "output_type": "display_data",
          "data": {
            "image/png": "[encoded data removed]",
            "text/plain": [
              "<Figure size 432x288 with 1 Axes>"
            ]
          },
          "metadata": {
            "tags": []
          }
        }
      ]
    },
    {
      "metadata": {
        "id": "l_3J8rJOb4i7",
        "colab_type": "code",
        "outputId": "10d34acf-cd1d-4bcd-f965-be24ea7ff90d",
        "colab": {
          "base_uri": "https://localhost:8080/",
          "height": 387
        }
      },
      "cell_type": "code",
      "source": [
        "# average probability of purchase by time bins\n",
        "\n",
        "pd.pivot_table(user_data, values='purchased', index=time_bins).plot.bar()"
      ],
      "execution_count": 0,
      "outputs": [
        {
          "output_type": "execute_result",
          "data": {
            "text/plain": [
              "<matplotlib.axes._subplots.AxesSubplot at 0x7f055c791cc0>"
            ]
          },
          "metadata": {
            "tags": []
          },
          "execution_count": 20
        },
        {
          "output_type": "display_data",
          "data": {
            "image/png": "[encoded data removed]",
            "text/plain": [
              "<Figure size 432x288 with 1 Axes>"
            ]
          },
          "metadata": {
            "tags": []
          }
        }
      ]
    },
    {
      "metadata": {
        "id": "UHtkaxxZcUX0",
        "colab_type": "code",
        "outputId": "74cc6371-e96b-40e1-bc47-a4c8a95088f1",
        "colab": {
          "base_uri": "https://localhost:8080/",
          "height": 370
        }
      },
      "cell_type": "code",
      "source": [
        "pd.pivot_table(user_data, values='time_on_site', index=time_bins).plot.bar();"
      ],
      "execution_count": 0,
      "outputs": [
        {
          "output_type": "display_data",
          "data": {
            "image/png": "[encoded data removed]",
            "text/plain": [
              "<Figure size 432x288 with 1 Axes>"
            ]
          },
          "metadata": {
            "tags": []
          }
        }
      ]
    },
    {
      "metadata": {
        "id": "VI6LNFtRckxL",
        "colab_type": "code",
        "outputId": "6d8a6535-f918-405d-9819-7cfd3e0288b4",
        "colab": {
          "base_uri": "https://localhost:8080/",
          "height": 370
        }
      },
      "cell_type": "code",
      "source": [
        "pd.pivot_table(user_data, values='mobile', index=time_bins).plot.bar();"
      ],
      "execution_count": 0,
      "outputs": [
        {
          "output_type": "display_data",
          "data": {
            "image/png": "[encoded data removed]",
            "text/plain": [
              "<Figure size 432x288 with 1 Axes>"
            ]
          },
          "metadata": {
            "tags": []
          }
        }
      ]
    },
    {
      "metadata": {
        "id": "b0Tcvy--Y2xM",
        "colab_type": "text"
      },
      "cell_type": "markdown",
      "source": [
        ""
      ]
    },
    {
      "metadata": {
        "id": "XW8y9coKcxF4",
        "colab_type": "code",
        "outputId": "2699f2d9-ca9a-4f4d-a0d4-078994071f37",
        "colab": {
          "base_uri": "https://localhost:8080/",
          "height": 286
        }
      },
      "cell_type": "code",
      "source": [
        "user_data['time_on_site'].plot.density()"
      ],
      "execution_count": 0,
      "outputs": [
        {
          "output_type": "execute_result",
          "data": {
            "text/plain": [
              "<matplotlib.axes._subplots.AxesSubplot at 0x7f055c65e320>"
            ]
          },
          "metadata": {
            "tags": []
          },
          "execution_count": 24
        },
        {
          "output_type": "display_data",
          "data": {
            "image/png": "[encoded data removed]",
            "text/plain": [
              "<Figure size 432x288 with 1 Axes>"
            ]
          },
          "metadata": {
            "tags": []
          }
        }
      ]
    },
    {
      "metadata": {
        "id": "8GQNxZGRdCp6",
        "colab_type": "code",
        "outputId": "ebde4908-47da-4c32-8d07-ee5c46517359",
        "colab": {
          "base_uri": "https://localhost:8080/",
          "height": 269
        }
      },
      "cell_type": "code",
      "source": [
        "ct = pd.crosstab(time_bins, [user_data['purchased'], user_data['mobile']], normalize='columns')\n",
        "\n",
        "ct"
      ],
      "execution_count": 0,
      "outputs": [
        {
          "output_type": "execute_result",
          "data": {
            "text/html": [
              "<div>\n",
              "<style scoped>\n",
              "    .dataframe tbody tr th:only-of-type {\n",
              "        vertical-align: middle;\n",
              "    }\n",
              "\n",
              "    .dataframe tbody tr th {\n",
              "        vertical-align: top;\n",
              "    }\n",
              "\n",
              "    .dataframe thead tr th {\n",
              "        text-align: left;\n",
              "    }\n",
              "\n",
              "    .dataframe thead tr:last-of-type th {\n",
              "        text-align: right;\n",
              "    }\n",
              "</style>\n",
              "<table border=\"1\" class=\"dataframe\">\n",
              "  <thead>\n",
              "    <tr>\n",
              "      <th>purchased</th>\n",
              "      <th colspan=\"2\" halign=\"left\">False</th>\n",
              "      <th colspan=\"2\" halign=\"left\">True</th>\n",
              "    </tr>\n",
              "    <tr>\n",
              "      <th>mobile</th>\n",
              "      <th>False</th>\n",
              "      <th>True</th>\n",
              "      <th>False</th>\n",
              "      <th>True</th>\n",
              "    </tr>\n",
              "    <tr>\n",
              "      <th>time_on_site</th>\n",
              "      <th></th>\n",
              "      <th></th>\n",
              "      <th></th>\n",
              "      <th></th>\n",
              "    </tr>\n",
              "  </thead>\n",
              "  <tbody>\n",
              "    <tr>\n",
              "      <th>(4.573, 124.115]</th>\n",
              "      <td>0.236264</td>\n",
              "      <td>0.445887</td>\n",
              "      <td>0.132353</td>\n",
              "      <td>0.315972</td>\n",
              "    </tr>\n",
              "    <tr>\n",
              "      <th>(124.115, 243.062]</th>\n",
              "      <td>0.164835</td>\n",
              "      <td>0.393939</td>\n",
              "      <td>0.205882</td>\n",
              "      <td>0.434028</td>\n",
              "    </tr>\n",
              "    <tr>\n",
              "      <th>(243.062, 362.01]</th>\n",
              "      <td>0.247253</td>\n",
              "      <td>0.160173</td>\n",
              "      <td>0.176471</td>\n",
              "      <td>0.250000</td>\n",
              "    </tr>\n",
              "    <tr>\n",
              "      <th>(362.01, 480.957]</th>\n",
              "      <td>0.230769</td>\n",
              "      <td>0.000000</td>\n",
              "      <td>0.220588</td>\n",
              "      <td>0.000000</td>\n",
              "    </tr>\n",
              "    <tr>\n",
              "      <th>(480.957, 599.904]</th>\n",
              "      <td>0.120879</td>\n",
              "      <td>0.000000</td>\n",
              "      <td>0.264706</td>\n",
              "      <td>0.000000</td>\n",
              "    </tr>\n",
              "  </tbody>\n",
              "</table>\n",
              "</div>"
            ],
            "text/plain": [
              "purchased              False               True           \n",
              "mobile                 False     True      False     True \n",
              "time_on_site                                              \n",
              "(4.573, 124.115]    0.236264  0.445887  0.132353  0.315972\n",
              "(124.115, 243.062]  0.164835  0.393939  0.205882  0.434028\n",
              "(243.062, 362.01]   0.247253  0.160173  0.176471  0.250000\n",
              "(362.01, 480.957]   0.230769  0.000000  0.220588  0.000000\n",
              "(480.957, 599.904]  0.120879  0.000000  0.264706  0.000000"
            ]
          },
          "metadata": {
            "tags": []
          },
          "execution_count": 26
        }
      ]
    },
    {
      "metadata": {
        "id": "1ZNTzJ1MdYyc",
        "colab_type": "code",
        "outputId": "9f198297-d34f-434b-ec42-b471f201b67b",
        "colab": {
          "base_uri": "https://localhost:8080/",
          "height": 274
        }
      },
      "cell_type": "code",
      "source": [
        "ct.plot();"
      ],
      "execution_count": 0,
      "outputs": [
        {
          "output_type": "display_data",
          "data": {
            "image/png": "[encoded data removed]",
            "text/plain": [
              "<Figure size 432x288 with 1 Axes>"
            ]
          },
          "metadata": {
            "tags": []
          }
        }
      ]
    },
    {
      "metadata": {
        "id": "NH3itBsrdxxr",
        "colab_type": "code",
        "outputId": "62eea142-d973-4201-9b6b-5251551cba8e",
        "colab": {
          "base_uri": "https://localhost:8080/",
          "height": 370
        }
      },
      "cell_type": "code",
      "source": [
        "ct.plot(kind='bar', stacked=True);"
      ],
      "execution_count": 0,
      "outputs": [
        {
          "output_type": "display_data",
          "data": {
            "image/png": "[encoded data removed]",
            "text/plain": [
              "<Figure size 432x288 with 1 Axes>"
            ]
          },
          "metadata": {
            "tags": []
          }
        }
      ]
    },
    {
      "metadata": {
        "id": "lOqaPds9huME",
        "colab_type": "text"
      },
      "cell_type": "markdown",
      "source": [
        "## Assignment - what's going on here?\n",
        "\n",
        "Consider the data in `persons.csv` (already prepared for you, in the repo for the week). It has four columns - a unique id, followed by age (in years), weight (in lbs), and exercise time (in minutes/week) of 1200 (hypothetical) people.\n",
        "\n",
        "Try to figure out which variables are possibly related to each other, and which may be confounding relationships."
      ]
    },
    {
      "metadata": {
        "id": "TGUS79cOhPWj",
        "colab_type": "code",
        "colab": {}
      },
      "cell_type": "code",
      "source": [
        "persons_url = 'https://raw.githubusercontent.com/LambdaSchool/DS-Unit-1-Sprint-1-Dealing-With-Data/master/module4-databackedassertions/persons.csv'\n",
        "  \n",
        "persons = pd.read_csv(persons_url)\n",
        "\n",
        "import matplotlib.pyplot as plt"
      ],
      "execution_count": 0,
      "outputs": []
    },
    {
      "metadata": {
        "id": "SSspnAIIfZ2O",
        "colab_type": "code",
        "outputId": "b9ace26b-1afa-4f6c-8ce5-cf55efacae60",
        "colab": {
          "base_uri": "https://localhost:8080/",
          "height": 300
        }
      },
      "cell_type": "code",
      "source": [
        "persons.describe()"
      ],
      "execution_count": 0,
      "outputs": [
        {
          "output_type": "execute_result",
          "data": {
            "text/html": [
              "<div>\n",
              "<style scoped>\n",
              "    .dataframe tbody tr th:only-of-type {\n",
              "        vertical-align: middle;\n",
              "    }\n",
              "\n",
              "    .dataframe tbody tr th {\n",
              "        vertical-align: top;\n",
              "    }\n",
              "\n",
              "    .dataframe thead th {\n",
              "        text-align: right;\n",
              "    }\n",
              "</style>\n",
              "<table border=\"1\" class=\"dataframe\">\n",
              "  <thead>\n",
              "    <tr style=\"text-align: right;\">\n",
              "      <th></th>\n",
              "      <th>Unnamed: 0</th>\n",
              "      <th>age</th>\n",
              "      <th>weight</th>\n",
              "      <th>exercise_time</th>\n",
              "    </tr>\n",
              "  </thead>\n",
              "  <tbody>\n",
              "    <tr>\n",
              "      <th>count</th>\n",
              "      <td>1200.000000</td>\n",
              "      <td>1200.000000</td>\n",
              "      <td>1200.000000</td>\n",
              "      <td>1200.000000</td>\n",
              "    </tr>\n",
              "    <tr>\n",
              "      <th>mean</th>\n",
              "      <td>599.500000</td>\n",
              "      <td>48.396667</td>\n",
              "      <td>153.540833</td>\n",
              "      <td>134.910833</td>\n",
              "    </tr>\n",
              "    <tr>\n",
              "      <th>std</th>\n",
              "      <td>346.554469</td>\n",
              "      <td>18.166802</td>\n",
              "      <td>35.132182</td>\n",
              "      <td>85.548895</td>\n",
              "    </tr>\n",
              "    <tr>\n",
              "      <th>min</th>\n",
              "      <td>0.000000</td>\n",
              "      <td>18.000000</td>\n",
              "      <td>100.000000</td>\n",
              "      <td>0.000000</td>\n",
              "    </tr>\n",
              "    <tr>\n",
              "      <th>25%</th>\n",
              "      <td>299.750000</td>\n",
              "      <td>33.000000</td>\n",
              "      <td>125.000000</td>\n",
              "      <td>65.000000</td>\n",
              "    </tr>\n",
              "    <tr>\n",
              "      <th>50%</th>\n",
              "      <td>599.500000</td>\n",
              "      <td>48.000000</td>\n",
              "      <td>149.000000</td>\n",
              "      <td>122.000000</td>\n",
              "    </tr>\n",
              "    <tr>\n",
              "      <th>75%</th>\n",
              "      <td>899.250000</td>\n",
              "      <td>64.000000</td>\n",
              "      <td>180.250000</td>\n",
              "      <td>206.000000</td>\n",
              "    </tr>\n",
              "    <tr>\n",
              "      <th>max</th>\n",
              "      <td>1199.000000</td>\n",
              "      <td>80.000000</td>\n",
              "      <td>246.000000</td>\n",
              "      <td>300.000000</td>\n",
              "    </tr>\n",
              "  </tbody>\n",
              "</table>\n",
              "</div>"
            ],
            "text/plain": [
              "        Unnamed: 0          age       weight  exercise_time\n",
              "count  1200.000000  1200.000000  1200.000000    1200.000000\n",
              "mean    599.500000    48.396667   153.540833     134.910833\n",
              "std     346.554469    18.166802    35.132182      85.548895\n",
              "min       0.000000    18.000000   100.000000       0.000000\n",
              "25%     299.750000    33.000000   125.000000      65.000000\n",
              "50%     599.500000    48.000000   149.000000     122.000000\n",
              "75%     899.250000    64.000000   180.250000     206.000000\n",
              "max    1199.000000    80.000000   246.000000     300.000000"
            ]
          },
          "metadata": {
            "tags": []
          },
          "execution_count": 33
        }
      ]
    },
    {
      "metadata": {
        "id": "II2h9Vgkfijw",
        "colab_type": "code",
        "outputId": "cedb3311-e023-4c52-d15f-5193542853b4",
        "colab": {
          "base_uri": "https://localhost:8080/",
          "height": 34
        }
      },
      "cell_type": "code",
      "source": [
        "persons.shape"
      ],
      "execution_count": 0,
      "outputs": [
        {
          "output_type": "execute_result",
          "data": {
            "text/plain": [
              "(1200, 4)"
            ]
          },
          "metadata": {
            "tags": []
          },
          "execution_count": 34
        }
      ]
    },
    {
      "metadata": {
        "id": "jGLDYgPXfkPH",
        "colab_type": "code",
        "outputId": "454cfbd1-92ca-45c1-b89b-b66f484fcb79",
        "colab": {
          "base_uri": "https://localhost:8080/",
          "height": 206
        }
      },
      "cell_type": "code",
      "source": [
        "persons.head()"
      ],
      "execution_count": 0,
      "outputs": [
        {
          "output_type": "execute_result",
          "data": {
            "text/html": [
              "<div>\n",
              "<style scoped>\n",
              "    .dataframe tbody tr th:only-of-type {\n",
              "        vertical-align: middle;\n",
              "    }\n",
              "\n",
              "    .dataframe tbody tr th {\n",
              "        vertical-align: top;\n",
              "    }\n",
              "\n",
              "    .dataframe thead th {\n",
              "        text-align: right;\n",
              "    }\n",
              "</style>\n",
              "<table border=\"1\" class=\"dataframe\">\n",
              "  <thead>\n",
              "    <tr style=\"text-align: right;\">\n",
              "      <th></th>\n",
              "      <th>Unnamed: 0</th>\n",
              "      <th>age</th>\n",
              "      <th>weight</th>\n",
              "      <th>exercise_time</th>\n",
              "    </tr>\n",
              "  </thead>\n",
              "  <tbody>\n",
              "    <tr>\n",
              "      <th>0</th>\n",
              "      <td>0</td>\n",
              "      <td>44</td>\n",
              "      <td>118</td>\n",
              "      <td>192</td>\n",
              "    </tr>\n",
              "    <tr>\n",
              "      <th>1</th>\n",
              "      <td>1</td>\n",
              "      <td>41</td>\n",
              "      <td>161</td>\n",
              "      <td>35</td>\n",
              "    </tr>\n",
              "    <tr>\n",
              "      <th>2</th>\n",
              "      <td>2</td>\n",
              "      <td>46</td>\n",
              "      <td>128</td>\n",
              "      <td>220</td>\n",
              "    </tr>\n",
              "    <tr>\n",
              "      <th>3</th>\n",
              "      <td>3</td>\n",
              "      <td>39</td>\n",
              "      <td>216</td>\n",
              "      <td>57</td>\n",
              "    </tr>\n",
              "    <tr>\n",
              "      <th>4</th>\n",
              "      <td>4</td>\n",
              "      <td>28</td>\n",
              "      <td>116</td>\n",
              "      <td>182</td>\n",
              "    </tr>\n",
              "  </tbody>\n",
              "</table>\n",
              "</div>"
            ],
            "text/plain": [
              "   Unnamed: 0  age  weight  exercise_time\n",
              "0           0   44     118            192\n",
              "1           1   41     161             35\n",
              "2           2   46     128            220\n",
              "3           3   39     216             57\n",
              "4           4   28     116            182"
            ]
          },
          "metadata": {
            "tags": []
          },
          "execution_count": 35
        }
      ]
    },
    {
      "metadata": {
        "id": "IHY3wDEFgE5M",
        "colab_type": "code",
        "colab": {}
      },
      "cell_type": "code",
      "source": [
        "weight_bins = pd.cut(persons.weight, 5)\n",
        "age_bins = pd.cut(persons.age, 6)\n",
        "exercise_bins = pd.cut(persons.exercise_time, 3)"
      ],
      "execution_count": 0,
      "outputs": []
    },
    {
      "metadata": {
        "id": "s06425xogFEk",
        "colab_type": "code",
        "outputId": "db20026a-6ac0-452b-f45b-ef27c0e869aa",
        "colab": {
          "base_uri": "https://localhost:8080/",
          "height": 380
        }
      },
      "cell_type": "code",
      "source": [
        "pd.pivot_table(persons, values='age', index=weight_bins).plot.bar();\n",
        "\n",
        "plt.xlabel('Weight Bins')\n",
        "plt.ylabel('Average Age')\n",
        "plt.title('Weight by Age')"
      ],
      "execution_count": 0,
      "outputs": [
        {
          "output_type": "execute_result",
          "data": {
            "text/plain": [
              "Text(0.5, 1.0, 'Weight by Age')"
            ]
          },
          "metadata": {
            "tags": []
          },
          "execution_count": 67
        },
        {
          "output_type": "display_data",
          "data": {
            "image/png": "[encoded data removed]",
            "text/plain": [
              "<Figure size 432x288 with 1 Axes>"
            ]
          },
          "metadata": {
            "tags": []
          }
        }
      ]
    },
    {
      "metadata": {
        "id": "UebWuIDL1oap",
        "colab_type": "code",
        "outputId": "b4da19a9-2f6d-4652-c305-b68b4b0ac17d",
        "colab": {
          "base_uri": "https://localhost:8080/",
          "height": 386
        }
      },
      "cell_type": "code",
      "source": [
        "pd.pivot_table(persons, values='exercise_time', index=age_bins).plot.bar();\n",
        "\n",
        "plt.xlabel('Age Bins')\n",
        "plt.ylabel('Average Exercise Time')\n",
        "plt.title('Exercise Time by Age')\n"
      ],
      "execution_count": 0,
      "outputs": [
        {
          "output_type": "execute_result",
          "data": {
            "text/plain": [
              "Text(0.5, 1.0, 'Exercise Time by Age')"
            ]
          },
          "metadata": {
            "tags": []
          },
          "execution_count": 68
        },
        {
          "output_type": "display_data",
          "data": {
            "image/png": "[encoded data removed]",
            "text/plain": [
              "<Figure size 432x288 with 1 Axes>"
            ]
          },
          "metadata": {
            "tags": []
          }
        }
      ]
    },
    {
      "metadata": {
        "id": "Umg45qCZgFJg",
        "colab_type": "code",
        "outputId": "42910af6-8842-4773-8469-4a41a3e6334a",
        "colab": {
          "base_uri": "https://localhost:8080/",
          "height": 373
        }
      },
      "cell_type": "code",
      "source": [
        "pd.pivot_table(persons, values='weight', index=exercise_bins).plot.bar();\n",
        "\n",
        "plt.xlabel('Exercise Time')\n",
        "plt.ylabel('Weight')\n",
        "plt.title('Weight per Exercise Time')"
      ],
      "execution_count": 0,
      "outputs": [
        {
          "output_type": "execute_result",
          "data": {
            "text/plain": [
              "Text(0.5, 1.0, 'Weight per Exercise Time')"
            ]
          },
          "metadata": {
            "tags": []
          },
          "execution_count": 70
        },
        {
          "output_type": "display_data",
          "data": {
            "image/png": "[encoded data removed]",
            "text/plain": [
              "<Figure size 432x288 with 1 Axes>"
            ]
          },
          "metadata": {
            "tags": []
          }
        }
      ]
    },
    {
      "metadata": {
        "id": "GseaUBng6l0x",
        "colab_type": "code",
        "outputId": "ab51575c-82a6-47ef-80a5-0d97dedbcfb4",
        "colab": {
          "base_uri": "https://localhost:8080/",
          "height": 269
        }
      },
      "cell_type": "code",
      "source": [
        "plt.scatter(persons.age, persons.weight);"
      ],
      "execution_count": 0,
      "outputs": [
        {
          "output_type": "display_data",
          "data": {
            "image/png": "[encoded data removed]",
            "text/plain": [
              "<Figure size 432x288 with 1 Axes>"
            ]
          },
          "metadata": {
            "tags": []
          }
        }
      ]
    },
    {
      "metadata": {
        "id": "2Y3YpQk56tEB",
        "colab_type": "code",
        "outputId": "db535dce-1e18-4ae7-ed83-1de6421be596",
        "colab": {
          "base_uri": "https://localhost:8080/",
          "height": 269
        }
      },
      "cell_type": "code",
      "source": [
        "plt.scatter(persons.exercise_time, persons.weight);"
      ],
      "execution_count": 0,
      "outputs": [
        {
          "output_type": "display_data",
          "data": {
            "image/png": "[encoded data removed]",
            "text/plain": [
              "<Figure size 432x288 with 1 Axes>"
            ]
          },
          "metadata": {
            "tags": []
          }
        }
      ]
    },
    {
      "metadata": {
        "id": "jjFd8seh7a55",
        "colab_type": "code",
        "outputId": "2a9f7950-6a83-475d-c071-44b508b74951",
        "colab": {
          "base_uri": "https://localhost:8080/",
          "height": 269
        }
      },
      "cell_type": "code",
      "source": [
        "plt.scatter(persons.exercise_time, persons.age);"
      ],
      "execution_count": 0,
      "outputs": [
        {
          "output_type": "display_data",
          "data": {
            "image/png": "[encoded data removed]",
            "text/plain": [
              "<Figure size 432x288 with 1 Axes>"
            ]
          },
          "metadata": {
            "tags": []
          }
        }
      ]
    },
    {
      "metadata": {
        "id": "uwRQT_fu9Ces",
        "colab_type": "code",
        "outputId": "1b0b9cc2-99fc-4edd-d1e3-86e7c4c65e51",
        "colab": {
          "base_uri": "https://localhost:8080/",
          "height": 69
        }
      },
      "cell_type": "code",
      "source": [
        "from scipy.stats.stats import pearsonr\n",
        "\n",
        "print('Age / Weight correlation and p-value: ', pearsonr(persons.age, persons.weight))\n",
        "print('Exercise Time / Weight correlation and p-value: ', pearsonr(persons.exercise_time, persons.weight))\n",
        "print('Exercise Time / Age correlation and p-value: ', pearsonr(persons.exercise_time, persons.age))"
      ],
      "execution_count": 0,
      "outputs": [
        {
          "output_type": "stream",
          "text": [
            "Age / Weight correlation and p-value:  (0.14416818571376627, 5.299248993134188e-07)\n",
            "Exercise Time / Weight correlation and p-value:  (-0.4780213304385565, 1.5656747078563096e-69)\n",
            "Exercise Time / Age correlation and p-value:  (-0.27381804383521097, 4.429555470258789e-22)\n"
          ],
          "name": "stdout"
        }
      ]
    },
    {
      "metadata": {
        "id": "BT9gdS7viJZa",
        "colab_type": "text"
      },
      "cell_type": "markdown",
      "source": [
        "### Assignment questions\n",
        "\n",
        "After you've worked on some code, answer the following questions in this text block:\n",
        "\n",
        "1.  What are the variable types in the data?\n",
        "\n",
        "*Each of the variable types here are continuous*\n",
        "\n",
        "2.  What are the relationships between the variables?\n",
        "\n",
        "*The strongest correlation is between Exercise Time and Weight. Weight consistently drops with increased exercise duration.*\n",
        "\n",
        "*People also tend to exercise less as they age.*\n",
        "\n",
        "*There's a slight overall increase in weight as people age, but it's less pronounced than the other factors.\n",
        "\n",
        "3.  Which relationships are \"real\", and which spurious?\n",
        "\n",
        "*I would say that all of the relationships are real, as backed by the data and common sense.*"
      ]
    },
    {
      "metadata": {
        "id": "_XXg2crAipwP",
        "colab_type": "text"
      },
      "cell_type": "markdown",
      "source": [
        "## Stretch goals and resources\n",
        "\n",
        "Following are *optional* things for you to take a look at. Focus on the above assignment first, and make sure to commit and push your changes to GitHub.\n",
        "\n",
        "- [Spurious Correlations](http://tylervigen.com/spurious-correlations)\n",
        "- [NIH on controlling for confounding variables](https://www.ncbi.nlm.nih.gov/pmc/articles/PMC4017459/)\n",
        "\n",
        "Stretch goals:\n",
        "\n",
        "- Produce your own plot inspired by the Spurious Correlation visualizations (and consider writing a blog post about it - both the content and how you made it)\n",
        "- Pick one of the techniques that NIH highlights for confounding variables - we'll be going into many of them later, but see if you can find which Python modules may help (hint - check scikit-learn)\n",
        "\n",
        "try to use a groupby object to create some useful visualizations\n"
      ]
    },
    {
      "metadata": {
        "id": "rxBV00PZBHi_",
        "colab_type": "code",
        "colab": {}
      },
      "cell_type": "code",
      "source": [
        "# Attempting to compare NBA 3PT Attempts per season to Population\n",
        "# Hit a road block with population data in chronological form and NBA data starting with most recent season\n",
        "# Wasn't sure how to reverse data or otherwise get the two datasets to match\n",
        "\n",
        "import requests\n",
        "from bs4 import BeautifulSoup"
      ],
      "execution_count": 0,
      "outputs": []
    },
    {
      "metadata": {
        "id": "RE2C4sFLB-k1",
        "colab_type": "code",
        "colab": {}
      },
      "cell_type": "code",
      "source": [
        "nba_data = pd.read_csv('https://raw.githubusercontent.com/mmastin/Datasets/master/NBA%20League%20Averages%20per%20Game')"
      ],
      "execution_count": 0,
      "outputs": []
    },
    {
      "metadata": {
        "id": "-tW0dRSwEuJG",
        "colab_type": "code",
        "outputId": "2c2982ad-ef25-4613-cf2a-6f49ce6d160f",
        "colab": {
          "base_uri": "https://localhost:8080/",
          "height": 273
        }
      },
      "cell_type": "code",
      "source": [
        "nba_data.head()"
      ],
      "execution_count": 0,
      "outputs": [
        {
          "output_type": "execute_result",
          "data": {
            "text/html": [
              "<div>\n",
              "<style scoped>\n",
              "    .dataframe tbody tr th:only-of-type {\n",
              "        vertical-align: middle;\n",
              "    }\n",
              "\n",
              "    .dataframe tbody tr th {\n",
              "        vertical-align: top;\n",
              "    }\n",
              "\n",
              "    .dataframe thead th {\n",
              "        text-align: right;\n",
              "    }\n",
              "</style>\n",
              "<table border=\"1\" class=\"dataframe\">\n",
              "  <thead>\n",
              "    <tr style=\"text-align: right;\">\n",
              "      <th></th>\n",
              "      <th>Unnamed: 0</th>\n",
              "      <th>Unnamed: 1</th>\n",
              "      <th>Unnamed: 2</th>\n",
              "      <th>Unnamed: 3</th>\n",
              "      <th>Unnamed: 4</th>\n",
              "      <th>Unnamed: 5</th>\n",
              "      <th>Unnamed: 6</th>\n",
              "      <th>Per Game</th>\n",
              "      <th>Per Game.1</th>\n",
              "      <th>Per Game.2</th>\n",
              "      <th>...</th>\n",
              "      <th>Per Game.15</th>\n",
              "      <th>Shooting</th>\n",
              "      <th>Shooting.1</th>\n",
              "      <th>Shooting.2</th>\n",
              "      <th>Advanced</th>\n",
              "      <th>Advanced.1</th>\n",
              "      <th>Advanced.2</th>\n",
              "      <th>Advanced.3</th>\n",
              "      <th>Advanced.4</th>\n",
              "      <th>Advanced.5</th>\n",
              "    </tr>\n",
              "  </thead>\n",
              "  <tbody>\n",
              "    <tr>\n",
              "      <th>0</th>\n",
              "      <td>Rk</td>\n",
              "      <td>Season</td>\n",
              "      <td>Lg</td>\n",
              "      <td>Age</td>\n",
              "      <td>Ht</td>\n",
              "      <td>Wt</td>\n",
              "      <td>G</td>\n",
              "      <td>MP</td>\n",
              "      <td>FG</td>\n",
              "      <td>FGA</td>\n",
              "      <td>...</td>\n",
              "      <td>PTS</td>\n",
              "      <td>FG%</td>\n",
              "      <td>3P%</td>\n",
              "      <td>FT%</td>\n",
              "      <td>Pace</td>\n",
              "      <td>eFG%</td>\n",
              "      <td>TOV%</td>\n",
              "      <td>ORB%</td>\n",
              "      <td>FT/FGA</td>\n",
              "      <td>ORtg</td>\n",
              "    </tr>\n",
              "    <tr>\n",
              "      <th>1</th>\n",
              "      <td>1</td>\n",
              "      <td>2018-19</td>\n",
              "      <td>NBA</td>\n",
              "      <td>26.3</td>\n",
              "      <td>6-7</td>\n",
              "      <td>218</td>\n",
              "      <td>1230</td>\n",
              "      <td>241.6</td>\n",
              "      <td>41.1</td>\n",
              "      <td>89.2</td>\n",
              "      <td>...</td>\n",
              "      <td>111.2</td>\n",
              "      <td>.461</td>\n",
              "      <td>.355</td>\n",
              "      <td>.766</td>\n",
              "      <td>100.0</td>\n",
              "      <td>.524</td>\n",
              "      <td>12.4</td>\n",
              "      <td>22.9</td>\n",
              "      <td>.198</td>\n",
              "      <td>110.4</td>\n",
              "    </tr>\n",
              "    <tr>\n",
              "      <th>2</th>\n",
              "      <td>2</td>\n",
              "      <td>2017-18</td>\n",
              "      <td>NBA</td>\n",
              "      <td>26.4</td>\n",
              "      <td>6-7</td>\n",
              "      <td>219</td>\n",
              "      <td>1230</td>\n",
              "      <td>241.4</td>\n",
              "      <td>39.6</td>\n",
              "      <td>86.1</td>\n",
              "      <td>...</td>\n",
              "      <td>106.3</td>\n",
              "      <td>.460</td>\n",
              "      <td>.362</td>\n",
              "      <td>.767</td>\n",
              "      <td>97.3</td>\n",
              "      <td>.521</td>\n",
              "      <td>13.0</td>\n",
              "      <td>22.3</td>\n",
              "      <td>.193</td>\n",
              "      <td>108.6</td>\n",
              "    </tr>\n",
              "    <tr>\n",
              "      <th>3</th>\n",
              "      <td>3</td>\n",
              "      <td>2016-17</td>\n",
              "      <td>NBA</td>\n",
              "      <td>26.6</td>\n",
              "      <td>6-7</td>\n",
              "      <td>220</td>\n",
              "      <td>1230</td>\n",
              "      <td>241.6</td>\n",
              "      <td>39.0</td>\n",
              "      <td>85.4</td>\n",
              "      <td>...</td>\n",
              "      <td>105.6</td>\n",
              "      <td>.457</td>\n",
              "      <td>.358</td>\n",
              "      <td>.772</td>\n",
              "      <td>96.4</td>\n",
              "      <td>.514</td>\n",
              "      <td>12.7</td>\n",
              "      <td>23.3</td>\n",
              "      <td>.209</td>\n",
              "      <td>108.8</td>\n",
              "    </tr>\n",
              "    <tr>\n",
              "      <th>4</th>\n",
              "      <td>4</td>\n",
              "      <td>2015-16</td>\n",
              "      <td>NBA</td>\n",
              "      <td>26.7</td>\n",
              "      <td>6-7</td>\n",
              "      <td>221</td>\n",
              "      <td>1230</td>\n",
              "      <td>241.8</td>\n",
              "      <td>38.2</td>\n",
              "      <td>84.6</td>\n",
              "      <td>...</td>\n",
              "      <td>102.7</td>\n",
              "      <td>.452</td>\n",
              "      <td>.354</td>\n",
              "      <td>.757</td>\n",
              "      <td>95.8</td>\n",
              "      <td>.502</td>\n",
              "      <td>13.2</td>\n",
              "      <td>23.8</td>\n",
              "      <td>.209</td>\n",
              "      <td>106.4</td>\n",
              "    </tr>\n",
              "  </tbody>\n",
              "</table>\n",
              "<p>5 rows × 32 columns</p>\n",
              "</div>"
            ],
            "text/plain": [
              "  Unnamed: 0 Unnamed: 1 Unnamed: 2 Unnamed: 3 Unnamed: 4 Unnamed: 5  \\\n",
              "0         Rk     Season         Lg        Age         Ht         Wt   \n",
              "1          1    2018-19        NBA       26.3        6-7        218   \n",
              "2          2    2017-18        NBA       26.4        6-7        219   \n",
              "3          3    2016-17        NBA       26.6        6-7        220   \n",
              "4          4    2015-16        NBA       26.7        6-7        221   \n",
              "\n",
              "  Unnamed: 6 Per Game Per Game.1 Per Game.2    ...     Per Game.15 Shooting  \\\n",
              "0          G       MP         FG        FGA    ...             PTS      FG%   \n",
              "1       1230    241.6       41.1       89.2    ...           111.2     .461   \n",
              "2       1230    241.4       39.6       86.1    ...           106.3     .460   \n",
              "3       1230    241.6       39.0       85.4    ...           105.6     .457   \n",
              "4       1230    241.8       38.2       84.6    ...           102.7     .452   \n",
              "\n",
              "  Shooting.1 Shooting.2 Advanced Advanced.1 Advanced.2 Advanced.3 Advanced.4  \\\n",
              "0        3P%        FT%     Pace       eFG%       TOV%       ORB%     FT/FGA   \n",
              "1       .355       .766    100.0       .524       12.4       22.9       .198   \n",
              "2       .362       .767     97.3       .521       13.0       22.3       .193   \n",
              "3       .358       .772     96.4       .514       12.7       23.3       .209   \n",
              "4       .354       .757     95.8       .502       13.2       23.8       .209   \n",
              "\n",
              "  Advanced.5  \n",
              "0       ORtg  \n",
              "1      110.4  \n",
              "2      108.6  \n",
              "3      108.8  \n",
              "4      106.4  \n",
              "\n",
              "[5 rows x 32 columns]"
            ]
          },
          "metadata": {
            "tags": []
          },
          "execution_count": 94
        }
      ]
    },
    {
      "metadata": {
        "id": "R_9WCeawDcAD",
        "colab_type": "code",
        "colab": {}
      },
      "cell_type": "code",
      "source": [
        "population_data = pd.read_csv('https://raw.githubusercontent.com/mmastin/Datasets/master/comma-separated-values-file-1.csv')"
      ],
      "execution_count": 0,
      "outputs": []
    },
    {
      "metadata": {
        "id": "Q10A0ao4Gjht",
        "colab_type": "code",
        "outputId": "2b54efff-f9cd-4bdd-8940-d8e2e1de1ca1",
        "colab": {
          "base_uri": "https://localhost:8080/",
          "height": 290
        }
      },
      "cell_type": "code",
      "source": [
        "population_data.head()"
      ],
      "execution_count": 0,
      "outputs": [
        {
          "output_type": "execute_result",
          "data": {
            "text/html": [
              "<div>\n",
              "<style scoped>\n",
              "    .dataframe tbody tr th:only-of-type {\n",
              "        vertical-align: middle;\n",
              "    }\n",
              "\n",
              "    .dataframe tbody tr th {\n",
              "        vertical-align: top;\n",
              "    }\n",
              "\n",
              "    .dataframe thead th {\n",
              "        text-align: right;\n",
              "    }\n",
              "</style>\n",
              "<table border=\"1\" class=\"dataframe\">\n",
              "  <thead>\n",
              "    <tr style=\"text-align: right;\">\n",
              "      <th></th>\n",
              "      <th>Unnamed: 0</th>\n",
              "      <th>1980</th>\n",
              "      <th>1981</th>\n",
              "      <th>1982</th>\n",
              "      <th>1983</th>\n",
              "      <th>1984</th>\n",
              "      <th>1985</th>\n",
              "      <th>1986</th>\n",
              "      <th>1987</th>\n",
              "      <th>1988</th>\n",
              "      <th>...</th>\n",
              "      <th>2001</th>\n",
              "      <th>2002</th>\n",
              "      <th>2003</th>\n",
              "      <th>2004</th>\n",
              "      <th>2005</th>\n",
              "      <th>2006</th>\n",
              "      <th>2007</th>\n",
              "      <th>2008</th>\n",
              "      <th>2009</th>\n",
              "      <th>2010</th>\n",
              "    </tr>\n",
              "  </thead>\n",
              "  <tbody>\n",
              "    <tr>\n",
              "      <th>0</th>\n",
              "      <td>North America</td>\n",
              "      <td>320.27638</td>\n",
              "      <td>324.44694</td>\n",
              "      <td>328.62014</td>\n",
              "      <td>332.72487</td>\n",
              "      <td>336.72143</td>\n",
              "      <td>340.74811</td>\n",
              "      <td>344.89548</td>\n",
              "      <td>349.07829</td>\n",
              "      <td>353.2939</td>\n",
              "      <td>...</td>\n",
              "      <td>417.83236</td>\n",
              "      <td>422.05268</td>\n",
              "      <td>426.06238</td>\n",
              "      <td>430.26938</td>\n",
              "      <td>434.47232</td>\n",
              "      <td>438.82964</td>\n",
              "      <td>443.3473</td>\n",
              "      <td>447.67394</td>\n",
              "      <td>451.83698</td>\n",
              "      <td>456.59331</td>\n",
              "    </tr>\n",
              "    <tr>\n",
              "      <th>1</th>\n",
              "      <td>Bermuda</td>\n",
              "      <td>0.05473</td>\n",
              "      <td>0.05491</td>\n",
              "      <td>0.05517</td>\n",
              "      <td>0.05551</td>\n",
              "      <td>0.05585</td>\n",
              "      <td>0.05618</td>\n",
              "      <td>0.05651</td>\n",
              "      <td>0.05683</td>\n",
              "      <td>0.05717</td>\n",
              "      <td>...</td>\n",
              "      <td>0.06361</td>\n",
              "      <td>0.06418</td>\n",
              "      <td>0.06476</td>\n",
              "      <td>0.06534</td>\n",
              "      <td>0.06591</td>\n",
              "      <td>0.06644</td>\n",
              "      <td>0.06692</td>\n",
              "      <td>0.06739</td>\n",
              "      <td>0.06784</td>\n",
              "      <td>0.06827</td>\n",
              "    </tr>\n",
              "    <tr>\n",
              "      <th>2</th>\n",
              "      <td>Canada</td>\n",
              "      <td>24.5933</td>\n",
              "      <td>24.9</td>\n",
              "      <td>25.2019</td>\n",
              "      <td>25.4563</td>\n",
              "      <td>25.7018</td>\n",
              "      <td>25.9416</td>\n",
              "      <td>26.2038</td>\n",
              "      <td>26.5497</td>\n",
              "      <td>26.8948</td>\n",
              "      <td>...</td>\n",
              "      <td>31.37674</td>\n",
              "      <td>31.64096</td>\n",
              "      <td>31.88931</td>\n",
              "      <td>32.13476</td>\n",
              "      <td>32.38638</td>\n",
              "      <td>32.65668</td>\n",
              "      <td>32.93596</td>\n",
              "      <td>33.2127</td>\n",
              "      <td>33.48721</td>\n",
              "      <td>33.75974</td>\n",
              "    </tr>\n",
              "    <tr>\n",
              "      <th>3</th>\n",
              "      <td>Greenland</td>\n",
              "      <td>0.05021</td>\n",
              "      <td>0.05103</td>\n",
              "      <td>0.05166</td>\n",
              "      <td>0.05211</td>\n",
              "      <td>0.05263</td>\n",
              "      <td>0.05315</td>\n",
              "      <td>0.05364</td>\n",
              "      <td>0.0541</td>\n",
              "      <td>0.05485</td>\n",
              "      <td>...</td>\n",
              "      <td>0.05713</td>\n",
              "      <td>0.05736</td>\n",
              "      <td>0.05754</td>\n",
              "      <td>0.0577</td>\n",
              "      <td>0.05778</td>\n",
              "      <td>0.05764</td>\n",
              "      <td>0.05753</td>\n",
              "      <td>0.05756</td>\n",
              "      <td>0.0576</td>\n",
              "      <td>0.05764</td>\n",
              "    </tr>\n",
              "    <tr>\n",
              "      <th>4</th>\n",
              "      <td>Mexico</td>\n",
              "      <td>68.34748</td>\n",
              "      <td>69.96926</td>\n",
              "      <td>71.6409</td>\n",
              "      <td>73.36288</td>\n",
              "      <td>75.08014</td>\n",
              "      <td>76.76723</td>\n",
              "      <td>78.44243</td>\n",
              "      <td>80.12249</td>\n",
              "      <td>81.78182</td>\n",
              "      <td>...</td>\n",
              "      <td>101.24696</td>\n",
              "      <td>102.47993</td>\n",
              "      <td>103.71806</td>\n",
              "      <td>104.95959</td>\n",
              "      <td>106.2029</td>\n",
              "      <td>107.44953</td>\n",
              "      <td>108.70089</td>\n",
              "      <td>109.9554</td>\n",
              "      <td>111.21179</td>\n",
              "      <td>112.46886</td>\n",
              "    </tr>\n",
              "  </tbody>\n",
              "</table>\n",
              "<p>5 rows × 32 columns</p>\n",
              "</div>"
            ],
            "text/plain": [
              "      Unnamed: 0       1980       1981       1982       1983       1984  \\\n",
              "0  North America  320.27638  324.44694  328.62014  332.72487  336.72143   \n",
              "1        Bermuda    0.05473    0.05491    0.05517    0.05551    0.05585   \n",
              "2         Canada    24.5933       24.9    25.2019    25.4563    25.7018   \n",
              "3      Greenland    0.05021    0.05103    0.05166    0.05211    0.05263   \n",
              "4         Mexico   68.34748   69.96926    71.6409   73.36288   75.08014   \n",
              "\n",
              "        1985       1986       1987      1988    ...           2001       2002  \\\n",
              "0  340.74811  344.89548  349.07829  353.2939    ...      417.83236  422.05268   \n",
              "1    0.05618    0.05651    0.05683   0.05717    ...        0.06361    0.06418   \n",
              "2    25.9416    26.2038    26.5497   26.8948    ...       31.37674   31.64096   \n",
              "3    0.05315    0.05364     0.0541   0.05485    ...        0.05713    0.05736   \n",
              "4   76.76723   78.44243   80.12249  81.78182    ...      101.24696  102.47993   \n",
              "\n",
              "        2003       2004       2005       2006       2007       2008  \\\n",
              "0  426.06238  430.26938  434.47232  438.82964   443.3473  447.67394   \n",
              "1    0.06476    0.06534    0.06591    0.06644    0.06692    0.06739   \n",
              "2   31.88931   32.13476   32.38638   32.65668   32.93596    33.2127   \n",
              "3    0.05754     0.0577    0.05778    0.05764    0.05753    0.05756   \n",
              "4  103.71806  104.95959   106.2029  107.44953  108.70089   109.9554   \n",
              "\n",
              "        2009       2010  \n",
              "0  451.83698  456.59331  \n",
              "1    0.06784    0.06827  \n",
              "2   33.48721   33.75974  \n",
              "3     0.0576    0.05764  \n",
              "4  111.21179  112.46886  \n",
              "\n",
              "[5 rows x 32 columns]"
            ]
          },
          "metadata": {
            "tags": []
          },
          "execution_count": 116
        }
      ]
    },
    {
      "metadata": {
        "id": "sxcBW430KaON",
        "colab_type": "code",
        "colab": {}
      },
      "cell_type": "code",
      "source": [
        "import numpy as np\n",
        "population_data = np.transpose(population_data)"
      ],
      "execution_count": 0,
      "outputs": []
    },
    {
      "metadata": {
        "id": "2KhdqRZ5LWVo",
        "colab_type": "code",
        "outputId": "42ed7e22-7298-4247-94fc-1b760eaa289c",
        "colab": {
          "base_uri": "https://localhost:8080/",
          "height": 308
        }
      },
      "cell_type": "code",
      "source": [
        "population_data.head()"
      ],
      "execution_count": 0,
      "outputs": [
        {
          "output_type": "execute_result",
          "data": {
            "text/html": [
              "<div>\n",
              "<style scoped>\n",
              "    .dataframe tbody tr th:only-of-type {\n",
              "        vertical-align: middle;\n",
              "    }\n",
              "\n",
              "    .dataframe tbody tr th {\n",
              "        vertical-align: top;\n",
              "    }\n",
              "\n",
              "    .dataframe thead th {\n",
              "        text-align: right;\n",
              "    }\n",
              "</style>\n",
              "<table border=\"1\" class=\"dataframe\">\n",
              "  <thead>\n",
              "    <tr style=\"text-align: right;\">\n",
              "      <th></th>\n",
              "      <th>0</th>\n",
              "      <th>1</th>\n",
              "      <th>2</th>\n",
              "      <th>3</th>\n",
              "      <th>4</th>\n",
              "      <th>5</th>\n",
              "      <th>6</th>\n",
              "      <th>7</th>\n",
              "      <th>8</th>\n",
              "      <th>9</th>\n",
              "      <th>...</th>\n",
              "      <th>222</th>\n",
              "      <th>223</th>\n",
              "      <th>224</th>\n",
              "      <th>225</th>\n",
              "      <th>226</th>\n",
              "      <th>227</th>\n",
              "      <th>228</th>\n",
              "      <th>229</th>\n",
              "      <th>230</th>\n",
              "      <th>231</th>\n",
              "    </tr>\n",
              "  </thead>\n",
              "  <tbody>\n",
              "    <tr>\n",
              "      <th>Unnamed: 0</th>\n",
              "      <td>North America</td>\n",
              "      <td>Bermuda</td>\n",
              "      <td>Canada</td>\n",
              "      <td>Greenland</td>\n",
              "      <td>Mexico</td>\n",
              "      <td>Saint Pierre and Miquelon</td>\n",
              "      <td>United States</td>\n",
              "      <td>Central &amp; South America</td>\n",
              "      <td>Antarctica</td>\n",
              "      <td>Antigua and Barbuda</td>\n",
              "      <td>...</td>\n",
              "      <td>Sri Lanka</td>\n",
              "      <td>Taiwan</td>\n",
              "      <td>Thailand</td>\n",
              "      <td>Timor-Leste (East Timor)</td>\n",
              "      <td>Tonga</td>\n",
              "      <td>U.S. Pacific Islands</td>\n",
              "      <td>Vanuatu</td>\n",
              "      <td>Vietnam</td>\n",
              "      <td>Wake Island</td>\n",
              "      <td>World</td>\n",
              "    </tr>\n",
              "    <tr>\n",
              "      <th>1980</th>\n",
              "      <td>320.27638</td>\n",
              "      <td>0.05473</td>\n",
              "      <td>24.5933</td>\n",
              "      <td>0.05021</td>\n",
              "      <td>68.34748</td>\n",
              "      <td>0.00599</td>\n",
              "      <td>227.22468</td>\n",
              "      <td>293.05856</td>\n",
              "      <td>NaN</td>\n",
              "      <td>0.06855</td>\n",
              "      <td>...</td>\n",
              "      <td>15.05597</td>\n",
              "      <td>17.84832</td>\n",
              "      <td>47.02576</td>\n",
              "      <td>--</td>\n",
              "      <td>0.09136</td>\n",
              "      <td>0.13796</td>\n",
              "      <td>0.11679</td>\n",
              "      <td>53.7152</td>\n",
              "      <td>NaN</td>\n",
              "      <td>4451.32679</td>\n",
              "    </tr>\n",
              "    <tr>\n",
              "      <th>1981</th>\n",
              "      <td>324.44694</td>\n",
              "      <td>0.05491</td>\n",
              "      <td>24.9</td>\n",
              "      <td>0.05103</td>\n",
              "      <td>69.96926</td>\n",
              "      <td>0.00601</td>\n",
              "      <td>229.46571</td>\n",
              "      <td>299.43033</td>\n",
              "      <td>NaN</td>\n",
              "      <td>0.06826</td>\n",
              "      <td>...</td>\n",
              "      <td>15.31549</td>\n",
              "      <td>18.17743</td>\n",
              "      <td>47.9365</td>\n",
              "      <td>--</td>\n",
              "      <td>0.09177</td>\n",
              "      <td>0.14283</td>\n",
              "      <td>0.12026</td>\n",
              "      <td>54.90268</td>\n",
              "      <td>NaN</td>\n",
              "      <td>4534.01064</td>\n",
              "    </tr>\n",
              "    <tr>\n",
              "      <th>1982</th>\n",
              "      <td>328.62014</td>\n",
              "      <td>0.05517</td>\n",
              "      <td>25.2019</td>\n",
              "      <td>0.05166</td>\n",
              "      <td>71.6409</td>\n",
              "      <td>0.00605</td>\n",
              "      <td>231.66446</td>\n",
              "      <td>305.95253</td>\n",
              "      <td>NaN</td>\n",
              "      <td>0.06801</td>\n",
              "      <td>...</td>\n",
              "      <td>15.57547</td>\n",
              "      <td>18.50139</td>\n",
              "      <td>48.82716</td>\n",
              "      <td>--</td>\n",
              "      <td>0.0922</td>\n",
              "      <td>0.14762</td>\n",
              "      <td>0.12379</td>\n",
              "      <td>56.14218</td>\n",
              "      <td>NaN</td>\n",
              "      <td>4613.94102</td>\n",
              "    </tr>\n",
              "    <tr>\n",
              "      <th>1983</th>\n",
              "      <td>332.72487</td>\n",
              "      <td>0.05551</td>\n",
              "      <td>25.4563</td>\n",
              "      <td>0.05211</td>\n",
              "      <td>73.36288</td>\n",
              "      <td>0.00607</td>\n",
              "      <td>233.79199</td>\n",
              "      <td>312.51136</td>\n",
              "      <td>NaN</td>\n",
              "      <td>0.06562</td>\n",
              "      <td>...</td>\n",
              "      <td>15.78446</td>\n",
              "      <td>18.80339</td>\n",
              "      <td>49.69425</td>\n",
              "      <td>--</td>\n",
              "      <td>0.09263</td>\n",
              "      <td>0.15281</td>\n",
              "      <td>0.12738</td>\n",
              "      <td>57.43635</td>\n",
              "      <td>NaN</td>\n",
              "      <td>4694.9362</td>\n",
              "    </tr>\n",
              "  </tbody>\n",
              "</table>\n",
              "<p>5 rows × 232 columns</p>\n",
              "</div>"
            ],
            "text/plain": [
              "                      0        1        2          3         4    \\\n",
              "Unnamed: 0  North America  Bermuda   Canada  Greenland    Mexico   \n",
              "1980            320.27638  0.05473  24.5933    0.05021  68.34748   \n",
              "1981            324.44694  0.05491     24.9    0.05103  69.96926   \n",
              "1982            328.62014  0.05517  25.2019    0.05166   71.6409   \n",
              "1983            332.72487  0.05551  25.4563    0.05211  73.36288   \n",
              "\n",
              "                                  5              6                        7    \\\n",
              "Unnamed: 0  Saint Pierre and Miquelon  United States  Central & South America   \n",
              "1980                          0.00599      227.22468                293.05856   \n",
              "1981                          0.00601      229.46571                299.43033   \n",
              "1982                          0.00605      231.66446                305.95253   \n",
              "1983                          0.00607      233.79199                312.51136   \n",
              "\n",
              "                   8                    9       ...            222       223  \\\n",
              "Unnamed: 0  Antarctica  Antigua and Barbuda     ...      Sri Lanka    Taiwan   \n",
              "1980               NaN              0.06855     ...       15.05597  17.84832   \n",
              "1981               NaN              0.06826     ...       15.31549  18.17743   \n",
              "1982               NaN              0.06801     ...       15.57547  18.50139   \n",
              "1983               NaN              0.06562     ...       15.78446  18.80339   \n",
              "\n",
              "                 224                       225      226                   227  \\\n",
              "Unnamed: 0  Thailand  Timor-Leste (East Timor)    Tonga  U.S. Pacific Islands   \n",
              "1980        47.02576                        --  0.09136               0.13796   \n",
              "1981         47.9365                        --  0.09177               0.14283   \n",
              "1982        48.82716                        --   0.0922               0.14762   \n",
              "1983        49.69425                        --  0.09263               0.15281   \n",
              "\n",
              "                228       229          230         231  \n",
              "Unnamed: 0  Vanuatu   Vietnam  Wake Island       World  \n",
              "1980        0.11679   53.7152          NaN  4451.32679  \n",
              "1981        0.12026  54.90268          NaN  4534.01064  \n",
              "1982        0.12379  56.14218          NaN  4613.94102  \n",
              "1983        0.12738  57.43635          NaN   4694.9362  \n",
              "\n",
              "[5 rows x 232 columns]"
            ]
          },
          "metadata": {
            "tags": []
          },
          "execution_count": 120
        }
      ]
    },
    {
      "metadata": {
        "id": "UctPPDNmKdkk",
        "colab_type": "code",
        "outputId": "ed2e192d-4ef1-4ffb-cdb1-d619e05cefda",
        "colab": {
          "base_uri": "https://localhost:8080/",
          "height": 884
        }
      },
      "cell_type": "code",
      "source": [
        "plt.scatter(nba_data['Per Game.3'], population_data['Canada'])"
      ],
      "execution_count": 0,
      "outputs": [
        {
          "output_type": "error",
          "ename": "KeyError",
          "evalue": "ignored",
          "traceback": [
            "\u001b[0;31m---------------------------------------------------------------------------\u001b[0m",
            "\u001b[0;31mTypeError\u001b[0m                                 Traceback (most recent call last)",
            "\u001b[0;32mpandas/_libs/index.pyx\u001b[0m in \u001b[0;36mpandas._libs.index.IndexEngine.get_loc\u001b[0;34m()\u001b[0m\n",
            "\u001b[0;32mpandas/_libs/hashtable_class_helper.pxi\u001b[0m in \u001b[0;36mpandas._libs.hashtable.Int64HashTable.get_item\u001b[0;34m()\u001b[0m\n",
            "\u001b[0;31mTypeError\u001b[0m: an integer is required",
            "\nDuring handling of the above exception, another exception occurred:\n",
            "\u001b[0;31mKeyError\u001b[0m                                  Traceback (most recent call last)",
            "\u001b[0;32m/usr/local/lib/python3.6/dist-packages/pandas/core/indexes/base.py\u001b[0m in \u001b[0;36mget_loc\u001b[0;34m(self, key, method, tolerance)\u001b[0m\n\u001b[1;32m   3077\u001b[0m             \u001b[0;32mtry\u001b[0m\u001b[0;34m:\u001b[0m\u001b[0;34m\u001b[0m\u001b[0;34m\u001b[0m\u001b[0m\n\u001b[0;32m-> 3078\u001b[0;31m                 \u001b[0;32mreturn\u001b[0m \u001b[0mself\u001b[0m\u001b[0;34m.\u001b[0m\u001b[0m_engine\u001b[0m\u001b[0;34m.\u001b[0m\u001b[0mget_loc\u001b[0m\u001b[0;34m(\u001b[0m\u001b[0mkey\u001b[0m\u001b[0;34m)\u001b[0m\u001b[0;34m\u001b[0m\u001b[0;34m\u001b[0m\u001b[0m\n\u001b[0m\u001b[1;32m   3079\u001b[0m             \u001b[0;32mexcept\u001b[0m \u001b[0mKeyError\u001b[0m\u001b[0;34m:\u001b[0m\u001b[0;34m\u001b[0m\u001b[0;34m\u001b[0m\u001b[0m\n",
            "\u001b[0;32mpandas/_libs/index.pyx\u001b[0m in \u001b[0;36mpandas._libs.index.IndexEngine.get_loc\u001b[0;34m()\u001b[0m\n",
            "\u001b[0;32mpandas/_libs/index.pyx\u001b[0m in \u001b[0;36mpandas._libs.index.IndexEngine.get_loc\u001b[0;34m()\u001b[0m\n",
            "\u001b[0;31mKeyError\u001b[0m: 'Canada'",
            "\nDuring handling of the above exception, another exception occurred:\n",
            "\u001b[0;31mTypeError\u001b[0m                                 Traceback (most recent call last)",
            "\u001b[0;32mpandas/_libs/index.pyx\u001b[0m in \u001b[0;36mpandas._libs.index.IndexEngine.get_loc\u001b[0;34m()\u001b[0m\n",
            "\u001b[0;32mpandas/_libs/hashtable_class_helper.pxi\u001b[0m in \u001b[0;36mpandas._libs.hashtable.Int64HashTable.get_item\u001b[0;34m()\u001b[0m\n",
            "\u001b[0;31mTypeError\u001b[0m: an integer is required",
            "\nDuring handling of the above exception, another exception occurred:\n",
            "\u001b[0;31mKeyError\u001b[0m                                  Traceback (most recent call last)",
            "\u001b[0;32m<ipython-input-128-52e61bb0ba07>\u001b[0m in \u001b[0;36m<module>\u001b[0;34m()\u001b[0m\n\u001b[0;32m----> 1\u001b[0;31m \u001b[0mplt\u001b[0m\u001b[0;34m.\u001b[0m\u001b[0mscatter\u001b[0m\u001b[0;34m(\u001b[0m\u001b[0mnba_data\u001b[0m\u001b[0;34m[\u001b[0m\u001b[0;34m'Per Game.3'\u001b[0m\u001b[0;34m]\u001b[0m\u001b[0;34m,\u001b[0m \u001b[0mpopulation_data\u001b[0m\u001b[0;34m[\u001b[0m\u001b[0;34m'Canada'\u001b[0m\u001b[0;34m]\u001b[0m\u001b[0;34m)\u001b[0m\u001b[0;34m\u001b[0m\u001b[0;34m\u001b[0m\u001b[0m\n\u001b[0m",
            "\u001b[0;32m/usr/local/lib/python3.6/dist-packages/pandas/core/frame.py\u001b[0m in \u001b[0;36m__getitem__\u001b[0;34m(self, key)\u001b[0m\n\u001b[1;32m   2686\u001b[0m             \u001b[0;32mreturn\u001b[0m \u001b[0mself\u001b[0m\u001b[0;34m.\u001b[0m\u001b[0m_getitem_multilevel\u001b[0m\u001b[0;34m(\u001b[0m\u001b[0mkey\u001b[0m\u001b[0;34m)\u001b[0m\u001b[0;34m\u001b[0m\u001b[0;34m\u001b[0m\u001b[0m\n\u001b[1;32m   2687\u001b[0m         \u001b[0;32melse\u001b[0m\u001b[0;34m:\u001b[0m\u001b[0;34m\u001b[0m\u001b[0;34m\u001b[0m\u001b[0m\n\u001b[0;32m-> 2688\u001b[0;31m             \u001b[0;32mreturn\u001b[0m \u001b[0mself\u001b[0m\u001b[0;34m.\u001b[0m\u001b[0m_getitem_column\u001b[0m\u001b[0;34m(\u001b[0m\u001b[0mkey\u001b[0m\u001b[0;34m)\u001b[0m\u001b[0;34m\u001b[0m\u001b[0;34m\u001b[0m\u001b[0m\n\u001b[0m\u001b[1;32m   2689\u001b[0m \u001b[0;34m\u001b[0m\u001b[0m\n\u001b[1;32m   2690\u001b[0m     \u001b[0;32mdef\u001b[0m \u001b[0m_getitem_column\u001b[0m\u001b[0;34m(\u001b[0m\u001b[0mself\u001b[0m\u001b[0;34m,\u001b[0m \u001b[0mkey\u001b[0m\u001b[0;34m)\u001b[0m\u001b[0;34m:\u001b[0m\u001b[0;34m\u001b[0m\u001b[0;34m\u001b[0m\u001b[0m\n",
            "\u001b[0;32m/usr/local/lib/python3.6/dist-packages/pandas/core/frame.py\u001b[0m in \u001b[0;36m_getitem_column\u001b[0;34m(self, key)\u001b[0m\n\u001b[1;32m   2693\u001b[0m         \u001b[0;31m# get column\u001b[0m\u001b[0;34m\u001b[0m\u001b[0;34m\u001b[0m\u001b[0;34m\u001b[0m\u001b[0m\n\u001b[1;32m   2694\u001b[0m         \u001b[0;32mif\u001b[0m \u001b[0mself\u001b[0m\u001b[0;34m.\u001b[0m\u001b[0mcolumns\u001b[0m\u001b[0;34m.\u001b[0m\u001b[0mis_unique\u001b[0m\u001b[0;34m:\u001b[0m\u001b[0;34m\u001b[0m\u001b[0;34m\u001b[0m\u001b[0m\n\u001b[0;32m-> 2695\u001b[0;31m             \u001b[0;32mreturn\u001b[0m \u001b[0mself\u001b[0m\u001b[0;34m.\u001b[0m\u001b[0m_get_item_cache\u001b[0m\u001b[0;34m(\u001b[0m\u001b[0mkey\u001b[0m\u001b[0;34m)\u001b[0m\u001b[0;34m\u001b[0m\u001b[0;34m\u001b[0m\u001b[0m\n\u001b[0m\u001b[1;32m   2696\u001b[0m \u001b[0;34m\u001b[0m\u001b[0m\n\u001b[1;32m   2697\u001b[0m         \u001b[0;31m# duplicate columns & possible reduce dimensionality\u001b[0m\u001b[0;34m\u001b[0m\u001b[0;34m\u001b[0m\u001b[0;34m\u001b[0m\u001b[0m\n",
            "\u001b[0;32m/usr/local/lib/python3.6/dist-packages/pandas/core/generic.py\u001b[0m in \u001b[0;36m_get_item_cache\u001b[0;34m(self, item)\u001b[0m\n\u001b[1;32m   2487\u001b[0m         \u001b[0mres\u001b[0m \u001b[0;34m=\u001b[0m \u001b[0mcache\u001b[0m\u001b[0;34m.\u001b[0m\u001b[0mget\u001b[0m\u001b[0;34m(\u001b[0m\u001b[0mitem\u001b[0m\u001b[0;34m)\u001b[0m\u001b[0;34m\u001b[0m\u001b[0;34m\u001b[0m\u001b[0m\n\u001b[1;32m   2488\u001b[0m         \u001b[0;32mif\u001b[0m \u001b[0mres\u001b[0m \u001b[0;32mis\u001b[0m \u001b[0;32mNone\u001b[0m\u001b[0;34m:\u001b[0m\u001b[0;34m\u001b[0m\u001b[0;34m\u001b[0m\u001b[0m\n\u001b[0;32m-> 2489\u001b[0;31m             \u001b[0mvalues\u001b[0m \u001b[0;34m=\u001b[0m \u001b[0mself\u001b[0m\u001b[0;34m.\u001b[0m\u001b[0m_data\u001b[0m\u001b[0;34m.\u001b[0m\u001b[0mget\u001b[0m\u001b[0;34m(\u001b[0m\u001b[0mitem\u001b[0m\u001b[0;34m)\u001b[0m\u001b[0;34m\u001b[0m\u001b[0;34m\u001b[0m\u001b[0m\n\u001b[0m\u001b[1;32m   2490\u001b[0m             \u001b[0mres\u001b[0m \u001b[0;34m=\u001b[0m \u001b[0mself\u001b[0m\u001b[0;34m.\u001b[0m\u001b[0m_box_item_values\u001b[0m\u001b[0;34m(\u001b[0m\u001b[0mitem\u001b[0m\u001b[0;34m,\u001b[0m \u001b[0mvalues\u001b[0m\u001b[0;34m)\u001b[0m\u001b[0;34m\u001b[0m\u001b[0;34m\u001b[0m\u001b[0m\n\u001b[1;32m   2491\u001b[0m             \u001b[0mcache\u001b[0m\u001b[0;34m[\u001b[0m\u001b[0mitem\u001b[0m\u001b[0;34m]\u001b[0m \u001b[0;34m=\u001b[0m \u001b[0mres\u001b[0m\u001b[0;34m\u001b[0m\u001b[0;34m\u001b[0m\u001b[0m\n",
            "\u001b[0;32m/usr/local/lib/python3.6/dist-packages/pandas/core/internals.py\u001b[0m in \u001b[0;36mget\u001b[0;34m(self, item, fastpath)\u001b[0m\n\u001b[1;32m   4113\u001b[0m \u001b[0;34m\u001b[0m\u001b[0m\n\u001b[1;32m   4114\u001b[0m             \u001b[0;32mif\u001b[0m \u001b[0;32mnot\u001b[0m \u001b[0misna\u001b[0m\u001b[0;34m(\u001b[0m\u001b[0mitem\u001b[0m\u001b[0;34m)\u001b[0m\u001b[0;34m:\u001b[0m\u001b[0;34m\u001b[0m\u001b[0;34m\u001b[0m\u001b[0m\n\u001b[0;32m-> 4115\u001b[0;31m                 \u001b[0mloc\u001b[0m \u001b[0;34m=\u001b[0m \u001b[0mself\u001b[0m\u001b[0;34m.\u001b[0m\u001b[0mitems\u001b[0m\u001b[0;34m.\u001b[0m\u001b[0mget_loc\u001b[0m\u001b[0;34m(\u001b[0m\u001b[0mitem\u001b[0m\u001b[0;34m)\u001b[0m\u001b[0;34m\u001b[0m\u001b[0;34m\u001b[0m\u001b[0m\n\u001b[0m\u001b[1;32m   4116\u001b[0m             \u001b[0;32melse\u001b[0m\u001b[0;34m:\u001b[0m\u001b[0;34m\u001b[0m\u001b[0;34m\u001b[0m\u001b[0m\n\u001b[1;32m   4117\u001b[0m                 \u001b[0mindexer\u001b[0m \u001b[0;34m=\u001b[0m \u001b[0mnp\u001b[0m\u001b[0;34m.\u001b[0m\u001b[0marange\u001b[0m\u001b[0;34m(\u001b[0m\u001b[0mlen\u001b[0m\u001b[0;34m(\u001b[0m\u001b[0mself\u001b[0m\u001b[0;34m.\u001b[0m\u001b[0mitems\u001b[0m\u001b[0;34m)\u001b[0m\u001b[0;34m)\u001b[0m\u001b[0;34m[\u001b[0m\u001b[0misna\u001b[0m\u001b[0;34m(\u001b[0m\u001b[0mself\u001b[0m\u001b[0;34m.\u001b[0m\u001b[0mitems\u001b[0m\u001b[0;34m)\u001b[0m\u001b[0;34m]\u001b[0m\u001b[0;34m\u001b[0m\u001b[0;34m\u001b[0m\u001b[0m\n",
            "\u001b[0;32m/usr/local/lib/python3.6/dist-packages/pandas/core/indexes/base.py\u001b[0m in \u001b[0;36mget_loc\u001b[0;34m(self, key, method, tolerance)\u001b[0m\n\u001b[1;32m   3078\u001b[0m                 \u001b[0;32mreturn\u001b[0m \u001b[0mself\u001b[0m\u001b[0;34m.\u001b[0m\u001b[0m_engine\u001b[0m\u001b[0;34m.\u001b[0m\u001b[0mget_loc\u001b[0m\u001b[0;34m(\u001b[0m\u001b[0mkey\u001b[0m\u001b[0;34m)\u001b[0m\u001b[0;34m\u001b[0m\u001b[0;34m\u001b[0m\u001b[0m\n\u001b[1;32m   3079\u001b[0m             \u001b[0;32mexcept\u001b[0m \u001b[0mKeyError\u001b[0m\u001b[0;34m:\u001b[0m\u001b[0;34m\u001b[0m\u001b[0;34m\u001b[0m\u001b[0m\n\u001b[0;32m-> 3080\u001b[0;31m                 \u001b[0;32mreturn\u001b[0m \u001b[0mself\u001b[0m\u001b[0;34m.\u001b[0m\u001b[0m_engine\u001b[0m\u001b[0;34m.\u001b[0m\u001b[0mget_loc\u001b[0m\u001b[0;34m(\u001b[0m\u001b[0mself\u001b[0m\u001b[0;34m.\u001b[0m\u001b[0m_maybe_cast_indexer\u001b[0m\u001b[0;34m(\u001b[0m\u001b[0mkey\u001b[0m\u001b[0;34m)\u001b[0m\u001b[0;34m)\u001b[0m\u001b[0;34m\u001b[0m\u001b[0;34m\u001b[0m\u001b[0m\n\u001b[0m\u001b[1;32m   3081\u001b[0m \u001b[0;34m\u001b[0m\u001b[0m\n\u001b[1;32m   3082\u001b[0m         \u001b[0mindexer\u001b[0m \u001b[0;34m=\u001b[0m \u001b[0mself\u001b[0m\u001b[0;34m.\u001b[0m\u001b[0mget_indexer\u001b[0m\u001b[0;34m(\u001b[0m\u001b[0;34m[\u001b[0m\u001b[0mkey\u001b[0m\u001b[0;34m]\u001b[0m\u001b[0;34m,\u001b[0m \u001b[0mmethod\u001b[0m\u001b[0;34m=\u001b[0m\u001b[0mmethod\u001b[0m\u001b[0;34m,\u001b[0m \u001b[0mtolerance\u001b[0m\u001b[0;34m=\u001b[0m\u001b[0mtolerance\u001b[0m\u001b[0;34m)\u001b[0m\u001b[0;34m\u001b[0m\u001b[0;34m\u001b[0m\u001b[0m\n",
            "\u001b[0;32mpandas/_libs/index.pyx\u001b[0m in \u001b[0;36mpandas._libs.index.IndexEngine.get_loc\u001b[0;34m()\u001b[0m\n",
            "\u001b[0;32mpandas/_libs/index.pyx\u001b[0m in \u001b[0;36mpandas._libs.index.IndexEngine.get_loc\u001b[0;34m()\u001b[0m\n",
            "\u001b[0;31mKeyError\u001b[0m: 'Canada'"
          ]
        }
      ]
    },
    {
      "metadata": {
        "id": "HJ_cU-4RPUgV",
        "colab_type": "code",
        "colab": {}
      },
      "cell_type": "code",
      "source": [
        ""
      ],
      "execution_count": 0,
      "outputs": []
    }
  ]
}