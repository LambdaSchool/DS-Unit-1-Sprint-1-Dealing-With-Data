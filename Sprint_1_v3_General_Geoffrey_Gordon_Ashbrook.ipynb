{
  "nbformat": 4,
  "nbformat_minor": 0,
  "metadata": {
    "colab": {
      "name": "Sprint 1 v3 General Geoffrey Gordon Ashbrook.ipynb",
      "version": "0.3.2",
      "provenance": [],
      "collapsed_sections": [],
      "include_colab_link": true
    },
    "kernelspec": {
      "name": "python3",
      "display_name": "Python 3"
    }
  },
  "cells": [
    {
      "cell_type": "markdown",
      "metadata": {
        "id": "view-in-github",
        "colab_type": "text"
      },
      "source": [
        "<a href=\"https://colab.research.google.com/github/lineality/DS-Unit-1-Sprint-1-Dealing-With-Data/blob/master/Sprint_1_v3_General_Geoffrey_Gordon_Ashbrook.ipynb\" target=\"_parent\"><img src=\"https://colab.research.google.com/assets/colab-badge.svg\" alt=\"Open In Colab\"/></a>"
      ]
    },
    {
      "cell_type": "markdown",
      "metadata": {
        "id": "PfpC0WOhvYEY",
        "colab_type": "text"
      },
      "source": [
        "Geroffrey Gordon Ashbrook Spring Challenge 2019.09.06\n",
        "\n",
        "\n",
        "Pre-released goals:\n",
        "1) Be able to load a dataset, handle atypical missing value indicators and replace them with NaN values, fix the header on a dataframe if it doesn't come with one\n",
        "\n",
        "\n",
        "2) Be able to think about and identify potential confounding variables.\n",
        "\n",
        "3) Be able to make crosstabs and basic graphs using Pandas\n",
        "\n",
        "4) Be able to filter dataframes and use the .apply() method to make changes to dataframe columns.\n",
        "\n",
        "5) Be able to create new columns on a dataframe (edite"
      ]
    },
    {
      "cell_type": "markdown",
      "metadata": {
        "id": "SfVwQFlWsH51",
        "colab_type": "text"
      },
      "source": [
        ""
      ]
    },
    {
      "cell_type": "markdown",
      "metadata": {
        "id": "7Qwfp-eNJ-8E",
        "colab_type": "text"
      },
      "source": [
        ""
      ]
    },
    {
      "cell_type": "markdown",
      "metadata": {
        "id": "HhSR8BsMJ--s",
        "colab_type": "text"
      },
      "source": [
        ""
      ]
    },
    {
      "cell_type": "markdown",
      "metadata": {
        "id": "16McUVWlJ_DD",
        "colab_type": "text"
      },
      "source": [
        "Data Science Unit 1 Sprint Challenge 1\n",
        "Loading, cleaning, visualizing, and analyzing data\n",
        "In this sprint challenge you will look at a dataset of the survival of patients who underwent surgery for breast cancer.\n",
        "\n",
        "http://archive.ics.uci.edu/ml/datasets/Haberman%27s+Survival\n",
        "\n",
        "Data Set Information: The dataset contains cases from a study that was conducted between 1958 and 1970 at the University of Chicago's Billings Hospital on the survival of patients who had undergone surgery for breast cancer.\n",
        "\n",
        "Attribute Information:\n",
        "\n",
        "Age of patient at time of operation (numerical)\n",
        "Patient's year of operation (year - 1900, numerical)\n",
        "Number of positive axillary nodes detected (numerical)\n",
        "Survival status (class attribute)\n",
        "-- 1 = the patient survived 5 years or longer -- 2 = the patient died within 5 year\n",
        "\n",
        "Sprint challenges are evaluated based on satisfactory completion of each part. It is suggested you work through it in order, getting each aspect reasonably working, before trying to deeply explore, iterate, or refine any given step. Once you get to the end, if you want to go back and improve things, go for it!"
      ]
    },
    {
      "cell_type": "markdown",
      "metadata": {
        "id": "kxG_JmeDJ_BD",
        "colab_type": "text"
      },
      "source": [
        ""
      ]
    },
    {
      "cell_type": "markdown",
      "metadata": {
        "id": "6jJZA56_r2D5",
        "colab_type": "text"
      },
      "source": [
        "https://docs.google.com/document/d/1u_XRJRd6p2BvVVnBbKLJ-lgzkDZOS-wPxCy7wxqedrQ/edit?usp=sharing"
      ]
    },
    {
      "cell_type": "markdown",
      "metadata": {
        "id": "pVcWtjp7sJOV",
        "colab_type": "text"
      },
      "source": [
        "Be able to \n",
        "\n",
        "1.1) load a dataset\n",
        "\n",
        "1.2) handle atypical missing value indicators and replace them with NaN values, (typical are marked as Nan)\n",
        "\n",
        "1.3) fix the header on a dataframe if it doesn't come with one\n",
        "\n",
        "2) Be able to think about and identify potential confounding variables.\n",
        "Not main X\n",
        "\n",
        "3.1) Be able to make crosstabs and \n",
        "https://chrisalbon.com/python/data_wrangling/pandas_crosstabs/\n",
        "pd.crosstab(df.regiment, df.company, margins=True)\n",
        "\n",
        "A crosstab is a table showing the relationship between two or more variables. Where the table only shows the relationship between two categorical variables, a crosstab is also known as a contingency table.\n",
        "\n",
        "3.2) make basic graphs using Pandas\n",
        "\n",
        "4) Be able to filter dataframes and use the \n",
        ".apply() method to make changes to dataframe columns.\n",
        "\n",
        "5) Be able to create new columns on a dataframe (edited)\n",
        "https://erikrood.com/Python_References/create_new_col_pandas.html\n",
        "\n",
        "maybe\n",
        "6) skip the first and last few two rows of file\n"
      ]
    },
    {
      "cell_type": "markdown",
      "metadata": {
        "id": "g6IXfdNGvdIu",
        "colab_type": "text"
      },
      "source": [
        "https://www.youtube.com/watch?v=iROVFQeuMlw&feature=youtu.be\n"
      ]
    },
    {
      "cell_type": "code",
      "metadata": {
        "id": "kYljVuqFJ-nw",
        "colab_type": "code",
        "colab": {}
      },
      "source": [
        "cross tabs"
      ],
      "execution_count": 0,
      "outputs": []
    },
    {
      "cell_type": "markdown",
      "metadata": {
        "id": "0oJ1QoeIvdnf",
        "colab_type": "text"
      },
      "source": [
        "#(Title) General Template for Date Science Code\n"
      ]
    },
    {
      "cell_type": "code",
      "metadata": {
        "id": "W5JQU45YJ9t2",
        "colab_type": "code",
        "colab": {}
      },
      "source": [
        ""
      ],
      "execution_count": 0,
      "outputs": []
    },
    {
      "cell_type": "code",
      "metadata": {
        "id": "Fo3h6RMNv3YI",
        "colab_type": "code",
        "colab": {}
      },
      "source": [
        ""
      ],
      "execution_count": 0,
      "outputs": []
    },
    {
      "cell_type": "markdown",
      "metadata": {
        "id": "TMa_SBGvv4Gn",
        "colab_type": "text"
      },
      "source": [
        "(enter Overall Goal and description of code)\n",
        "\n"
      ]
    },
    {
      "cell_type": "markdown",
      "metadata": {
        "id": "fT_rF0Bmzp5o",
        "colab_type": "text"
      },
      "source": [
        "#Import Libraries"
      ]
    },
    {
      "cell_type": "code",
      "metadata": {
        "id": "rgH9aF7ZLEsq",
        "colab_type": "code",
        "outputId": "bf1de16e-5a51-4692-feae-f322b28706ca",
        "colab": {
          "base_uri": "https://localhost:8080/",
          "height": 108
        }
      },
      "source": [
        "!pip install pandas==0.23.4"
      ],
      "execution_count": 2,
      "outputs": [
        {
          "output_type": "stream",
          "text": [
            "Requirement already satisfied: pandas==0.23.4 in /usr/local/lib/python3.6/dist-packages (0.23.4)\n",
            "Requirement already satisfied: python-dateutil>=2.5.0 in /usr/local/lib/python3.6/dist-packages (from pandas==0.23.4) (2.5.3)\n",
            "Requirement already satisfied: pytz>=2011k in /usr/local/lib/python3.6/dist-packages (from pandas==0.23.4) (2018.9)\n",
            "Requirement already satisfied: numpy>=1.9.0 in /usr/local/lib/python3.6/dist-packages (from pandas==0.23.4) (1.16.5)\n",
            "Requirement already satisfied: six>=1.5 in /usr/local/lib/python3.6/dist-packages (from python-dateutil>=2.5.0->pandas==0.23.4) (1.12.0)\n"
          ],
          "name": "stdout"
        }
      ]
    },
    {
      "cell_type": "code",
      "metadata": {
        "id": "CmUgofCcvd8X",
        "colab_type": "code",
        "colab": {}
      },
      "source": [
        "#library Imports\n",
        "%matplotlib inline\n",
        "import matplotlib.pyplot as plt\n",
        "import numpy as np\n",
        "import pandas as pd\n",
        "import requests\n",
        "\n"
      ],
      "execution_count": 0,
      "outputs": []
    },
    {
      "cell_type": "markdown",
      "metadata": {
        "id": "Qf-GX2YxKxgL",
        "colab_type": "text"
      },
      "source": [
        "Versioning\n"
      ]
    },
    {
      "cell_type": "code",
      "metadata": {
        "id": "-TmOl2cg0e-A",
        "colab_type": "code",
        "colab": {}
      },
      "source": [
        ""
      ],
      "execution_count": 0,
      "outputs": []
    },
    {
      "cell_type": "markdown",
      "metadata": {
        "id": "P4vVgBsGzvgH",
        "colab_type": "text"
      },
      "source": [
        "###Settings and Adjustments"
      ]
    },
    {
      "cell_type": "code",
      "metadata": {
        "id": "M8_QIFWey1uI",
        "colab_type": "code",
        "colab": {}
      },
      "source": [
        "#so more head displays\n",
        "#override display option\n",
        "pd.set_option('display.max_rows', 500)\n",
        "pd.set_option('display.max_columns', 500)\n",
        "pd.set_option('display.width', 1000)\n",
        "\n",
        "#alt, put in length of DF collums\n",
        "#?pd.set_option('display.max_rows',len(df.columns))\n",
        "#pd.set_option('display.max_columns',len(df.columns)) \n"
      ],
      "execution_count": 0,
      "outputs": []
    },
    {
      "cell_type": "code",
      "metadata": {
        "id": "0wNWh87t4aNG",
        "colab_type": "code",
        "colab": {}
      },
      "source": [
        "#tells you version of libraries and packages\n",
        "#pd.__version__"
      ],
      "execution_count": 0,
      "outputs": []
    },
    {
      "cell_type": "code",
      "metadata": {
        "id": "78pmQzWN4hjO",
        "colab_type": "code",
        "colab": {}
      },
      "source": [
        "#installs earlier version software\n",
        "#!pip install pandas==0.23.4"
      ],
      "execution_count": 0,
      "outputs": []
    },
    {
      "cell_type": "code",
      "metadata": {
        "id": "CRaKLO2L0fow",
        "colab_type": "code",
        "colab": {}
      },
      "source": [
        "#check/set/recheck your local directory\n",
        "\n",
        "#import os\n",
        "#os.getcwd()\n",
        "#os.chdir('C:\\\\Users\\\\linea\\\\DS8_LS\\\\edu')\n",
        "#os.getcwd()\n"
      ],
      "execution_count": 0,
      "outputs": []
    },
    {
      "cell_type": "code",
      "metadata": {
        "id": "2Qc_hR7P6xeP",
        "colab_type": "code",
        "colab": {}
      },
      "source": [
        "#shows all libraries and versions as preinstalled\n",
        "#use pip freeze to view all of the \n",
        "#librarires/packages that are installed\n",
        "#in our instance\n",
        "\n",
        "#!pip freeze"
      ],
      "execution_count": 0,
      "outputs": []
    },
    {
      "cell_type": "markdown",
      "metadata": {
        "id": "jmaj4dBFy7z3",
        "colab_type": "text"
      },
      "source": [
        "##Import Data\n"
      ]
    },
    {
      "cell_type": "markdown",
      "metadata": {
        "id": "m_GILCQtNbVF",
        "colab_type": "text"
      },
      "source": [
        "#data set\n",
        "http://archive.ics.uci.edu/ml/datasets/Haberman%27s+Survival\n",
        "http://archive.ics.uci.edu/ml/datasets/Haberman%27s+Survival\n",
        "\n",
        "http://archive.ics.uci.edu/ml/machine-learning-databases/haberman/\n",
        "\n",
        "Data set:\n",
        "\n",
        "http://archive.ics.uci.edu/ml/machine-learning-databases/haberman/haberman.data\n",
        "\n",
        "\n",
        "Date Names:\n",
        "\n",
        "http://archive.ics.uci.edu/ml/machine-learning-databases/haberman/haberman.names\n"
      ]
    },
    {
      "cell_type": "code",
      "metadata": {
        "id": "3peh78AILgcE",
        "colab_type": "code",
        "colab": {}
      },
      "source": [
        ""
      ],
      "execution_count": 0,
      "outputs": []
    },
    {
      "cell_type": "code",
      "metadata": {
        "id": "Gu7IK7eK0y_g",
        "colab_type": "code",
        "colab": {}
      },
      "source": [
        "#inspect file\n",
        "#before loading file, check to see what the file is by loading it into a browser, text editor, or the following:\n",
        "#inspect dataset\n",
        "#e.g.\n",
        "#!curl http://archive.ics.uci.edu/ml/machine-learning-databases/haberman/haberman.data"
      ],
      "execution_count": 0,
      "outputs": []
    },
    {
      "cell_type": "markdown",
      "metadata": {
        "id": "8hz1HRa5N2Wb",
        "colab_type": "text"
      },
      "source": [
        "There is no header, will have to put one in.\n",
        "\n",
        "The four collumns seem to be in order."
      ]
    },
    {
      "cell_type": "code",
      "metadata": {
        "id": "PsFYEKTly6o-",
        "colab_type": "code",
        "colab": {}
      },
      "source": [
        "##method1: \"standard accepted method\"\n",
        "#import requests\n",
        "#url1 = 'https://...'\n",
        "#response = requests.get(url1)\n",
        "##check to see (validate) that it worked\n",
        "#response\n"
      ],
      "execution_count": 0,
      "outputs": []
    },
    {
      "cell_type": "code",
      "metadata": {
        "id": "UK3KBrhK43JY",
        "colab_type": "code",
        "outputId": "0d1ab97e-8856-4d52-81e2-b3117c9cdcf9",
        "colab": {
          "base_uri": "https://localhost:8080/",
          "height": 217
        }
      },
      "source": [
        "#Import Method 2\n",
        "!wget http://archive.ics.uci.edu/ml/machine-learning-databases/haberman/haberman.data"
      ],
      "execution_count": 3,
      "outputs": [
        {
          "output_type": "stream",
          "text": [
            "--2019-09-06 17:46:52--  http://archive.ics.uci.edu/ml/machine-learning-databases/haberman/haberman.data\n",
            "Resolving archive.ics.uci.edu (archive.ics.uci.edu)... 128.195.10.252\n",
            "Connecting to archive.ics.uci.edu (archive.ics.uci.edu)|128.195.10.252|:80... connected.\n",
            "HTTP request sent, awaiting response... 200 OK\n",
            "Length: 3103 (3.0K) [application/x-httpd-php]\n",
            "Saving to: ‘haberman.data.1’\n",
            "\n",
            "\rhaberman.data.1       0%[                    ]       0  --.-KB/s               \rhaberman.data.1     100%[===================>]   3.03K  --.-KB/s    in 0s      \n",
            "\n",
            "2019-09-06 17:46:52 (368 MB/s) - ‘haberman.data.1’ saved [3103/3103]\n",
            "\n"
          ],
          "name": "stdout"
        }
      ]
    },
    {
      "cell_type": "code",
      "metadata": {
        "id": "i7m9U6mq4vH3",
        "colab_type": "code",
        "colab": {}
      },
      "source": [
        "#to unzip a zipped file\n",
        "#!unzip filename.csv.zip"
      ],
      "execution_count": 0,
      "outputs": []
    },
    {
      "cell_type": "code",
      "metadata": {
        "id": "DWuvdrKx0qVf",
        "colab_type": "code",
        "outputId": "26e0a673-342f-417d-ca80-9796fe10c8ba",
        "colab": {
          "base_uri": "https://localhost:8080/",
          "height": 35
        }
      },
      "source": [
        "#Check that file exists in local directory\n",
        "!ls"
      ],
      "execution_count": 4,
      "outputs": [
        {
          "output_type": "stream",
          "text": [
            "haberman.data  haberman.data.1\tsample_data\n"
          ],
          "name": "stdout"
        }
      ]
    },
    {
      "cell_type": "markdown",
      "metadata": {
        "id": "_8Vcg0WF3Jpp",
        "colab_type": "text"
      },
      "source": [
        "##Load Data"
      ]
    },
    {
      "cell_type": "code",
      "metadata": {
        "id": "IkWnUfG1zE5-",
        "colab_type": "code",
        "colab": {}
      },
      "source": [
        "#Loading data into Data Frame (df)\n",
        "\n",
        "#Basic loading for csv,tsv,json\n",
        "#CSV setting datasets to a 'df' variable:\n",
        "#df1 = pd.read_csv('file_name.csv')\n",
        "\n",
        "#TSV\n",
        "#df3 = pd.read_csv(('FastFmProfiles.tsv'), delimiter='\\t')\n",
        "\n",
        "#JSON\n",
        "#df2 = pd.read_json('PeopleInSpaceNow.json')\n",
        "\n",
        "#What would be the bracket method of doing this?\n",
        "\n",
        "\n",
        "#future add\n",
        "#xml\n",
        "\n",
        "#future add\n",
        "#rss\n",
        "\n"
      ],
      "execution_count": 0,
      "outputs": []
    },
    {
      "cell_type": "markdown",
      "metadata": {
        "id": "ax1RgVntvwF-",
        "colab_type": "text"
      },
      "source": [
        "##Setting Header"
      ]
    },
    {
      "cell_type": "markdown",
      "metadata": {
        "id": "EPFqXhdSOXDc",
        "colab_type": "text"
      },
      "source": [
        "Attribute Information:\n",
        "\n",
        "1. Age of patient at time of operation (numerical)\n",
        "2. Patient's year of operation (year - 1900, numerical)\n",
        "3. Number of positive axillary nodes detected (numerical)\n",
        "4. Survival status (class attribute)\n",
        "-- 1 = the patient survived 5 years or longer\n",
        "-- 2 = the patient died within 5 year"
      ]
    },
    {
      "cell_type": "code",
      "metadata": {
        "id": "ABQrFk8oPfXb",
        "colab_type": "code",
        "colab": {}
      },
      "source": [
        "#there is a problem, so the dataframe has to be reset:\n",
        "column_headers = ['age_at_operation', 'year_operation', 'positive_axillary_nodes', 'suvival_status']\n",
        "\n",
        "df = pd.read_csv('haberman.data', names=column_headers)"
      ],
      "execution_count": 0,
      "outputs": []
    },
    {
      "cell_type": "code",
      "metadata": {
        "id": "ZtrphayXvwO9",
        "colab_type": "code",
        "colab": {}
      },
      "source": [
        "'''#header=None (specifies that you will add your own header)\n",
        "\n",
        "#e.g. from UCI site, headings may be listed in text on HTML page, cut and paste those...\n",
        "\n",
        "df = pd.read_csv('URL', header=None, index_col=None, names=header_names)\n",
        "\n",
        "header_names = header_names.split('\\n')\n",
        "header_names\n",
        "#list comprehension\n",
        "#\n",
        "[name.split(':')[0] for name in header_name[1:-1]]\n",
        "\n",
        "df.reset_index()'''\n",
        "\n",
        "\n"
      ],
      "execution_count": 0,
      "outputs": []
    },
    {
      "cell_type": "markdown",
      "metadata": {
        "id": "kiPiOPMyzLz4",
        "colab_type": "text"
      },
      "source": [
        "\n",
        "##Initial Data Inspection\n",
        "\n"
      ]
    },
    {
      "cell_type": "code",
      "metadata": {
        "id": "y9nzfWeAPlhy",
        "colab_type": "code",
        "colab": {}
      },
      "source": [
        "print(df.head(20))"
      ],
      "execution_count": 0,
      "outputs": []
    },
    {
      "cell_type": "code",
      "metadata": {
        "id": "scmvgEA5QAPq",
        "colab_type": "code",
        "outputId": "f0e5dfda-ae7e-4067-cf58-55a30215d90b",
        "colab": {
          "base_uri": "https://localhost:8080/",
          "height": 35
        }
      },
      "source": [
        "df.shape"
      ],
      "execution_count": 7,
      "outputs": [
        {
          "output_type": "execute_result",
          "data": {
            "text/plain": [
              "(306, 4)"
            ]
          },
          "metadata": {
            "tags": []
          },
          "execution_count": 7
        }
      ]
    },
    {
      "cell_type": "markdown",
      "metadata": {
        "id": "syEiVzGtQkvE",
        "colab_type": "text"
      },
      "source": [
        "The data has been loaded correctly with informative headings inserted\n",
        "All integers\n",
        "no missing data\n"
      ]
    },
    {
      "cell_type": "code",
      "metadata": {
        "id": "GHYO8M5ezFEm",
        "colab_type": "code",
        "outputId": "1ce249bb-8c7f-4e4a-8bc0-15e5b0a368c0",
        "colab": {
          "base_uri": "https://localhost:8080/",
          "height": 763
        }
      },
      "source": [
        "#Basic Data Inspections\n",
        "\n",
        "#(default) first five rows\n",
        "print(df.head())\n",
        "\n",
        "# shows footer if there is one\n",
        "print (df.tail())\n",
        "\n",
        "#alt method\n",
        "#!head file.csv\n",
        "#!tail file.csv\n",
        "\n",
        "#checks for and summarizes missing data\n",
        "print(df.isna().sum())\n",
        "\n",
        "#prints a complete boolean of missing data (warning this may be long)\n",
        "#df.isna()\n",
        "\n",
        "#How many items are in each column\n",
        "print(df.count())\n",
        "\n",
        "#Gives basic statistics\n",
        "print(df.describe())\n",
        "\n",
        "#Rows and Columns\n",
        "print(df.shape)\n",
        "\n",
        "#look at datatypes\n",
        "print(df.dtypes)\n",
        "\n",
        "#view a list of df columns\n",
        "list(df.columns)\n"
      ],
      "execution_count": 24,
      "outputs": [
        {
          "output_type": "stream",
          "text": [
            "   age_at_operation  year_operation  positive_axillary_nodes  suvival_status\n",
            "0                30              64                        1               1\n",
            "1                30              62                        3               1\n",
            "2                30              65                        0               1\n",
            "3                31              59                        0               1\n",
            "4                31              65                        4               1\n",
            "     age_at_operation  year_operation  positive_axillary_nodes  suvival_status\n",
            "301                75              62                        1               1\n",
            "302                76              67                        0               1\n",
            "303                77              65                        3               1\n",
            "304                78              65                        1               0\n",
            "305                83              58                        0               0\n",
            "age_at_operation           0\n",
            "year_operation             0\n",
            "positive_axillary_nodes    0\n",
            "suvival_status             0\n",
            "dtype: int64\n",
            "age_at_operation           306\n",
            "year_operation             306\n",
            "positive_axillary_nodes    306\n",
            "suvival_status             306\n",
            "dtype: int64\n",
            "       age_at_operation  year_operation  positive_axillary_nodes  suvival_status\n",
            "count        306.000000      306.000000               306.000000      306.000000\n",
            "mean          52.457516       62.852941                 3.895425        0.735294\n",
            "std           10.803452        3.249405                 7.243460        0.441899\n",
            "min           30.000000       58.000000                 0.000000        0.000000\n",
            "25%           44.000000       60.000000                 0.000000        0.000000\n",
            "50%           52.000000       63.000000                 0.000000        1.000000\n",
            "75%           60.750000       65.750000                 4.000000        1.000000\n",
            "max           83.000000       69.000000                52.000000        1.000000\n",
            "(306, 4)\n",
            "age_at_operation           int64\n",
            "year_operation             int64\n",
            "positive_axillary_nodes    int64\n",
            "suvival_status             int64\n",
            "dtype: object\n"
          ],
          "name": "stdout"
        },
        {
          "output_type": "execute_result",
          "data": {
            "text/plain": [
              "['age_at_operation',\n",
              " 'year_operation',\n",
              " 'positive_axillary_nodes',\n",
              " 'suvival_status']"
            ]
          },
          "metadata": {
            "tags": []
          },
          "execution_count": 24
        }
      ]
    },
    {
      "cell_type": "markdown",
      "metadata": {
        "id": "vMi5puWLQRmu",
        "colab_type": "text"
      },
      "source": [
        "Part 1 - \n",
        "\n",
        "1 Load and validate the data\n",
        "\n",
        "2 Load the data as a pandas data frame.\n",
        "\n",
        "3 Validate that it has the appropriate number of observations (you can check the raw file, and also read the dataset description from UCI).\n",
        "\n",
        "4 Validate that you have no missing values.\n",
        "\n",
        "5 Add informative names to the features.\n",
        "\n",
        "6 The survival variable is encoded as 1 for surviving >5 years and 2 for not - change this to be 0 for not surviving and 1 for surviving >5 years (0/1 is a more traditional encoding of binary variables)\n",
        "\n",
        "7 At the end, print the first five rows of the dataset to demonstrate the above."
      ]
    },
    {
      "cell_type": "markdown",
      "metadata": {
        "id": "OW75X_Ky9Fnn",
        "colab_type": "text"
      },
      "source": [
        "##Missing Data\n"
      ]
    },
    {
      "cell_type": "code",
      "metadata": {
        "id": "kMmvp-u09Edq",
        "colab_type": "code",
        "outputId": "2d55be3c-2c8a-4172-e17d-07832020145a",
        "colab": {
          "base_uri": "https://localhost:8080/",
          "height": 108
        }
      },
      "source": [
        "df.isnull().sum()\n",
        "df.isnull().sum(). sort_values(ascending=False)"
      ],
      "execution_count": 25,
      "outputs": [
        {
          "output_type": "execute_result",
          "data": {
            "text/plain": [
              "suvival_status             0\n",
              "positive_axillary_nodes    0\n",
              "year_operation             0\n",
              "age_at_operation           0\n",
              "dtype: int64"
            ]
          },
          "metadata": {
            "tags": []
          },
          "execution_count": 25
        }
      ]
    },
    {
      "cell_type": "markdown",
      "metadata": {
        "id": "71LNDiU_P8va",
        "colab_type": "text"
      },
      "source": [
        "No mising data..."
      ]
    },
    {
      "cell_type": "markdown",
      "metadata": {
        "id": "SgLluk9mzQav",
        "colab_type": "text"
      },
      "source": [
        "##Basic Cleaning and Preprocessing"
      ]
    },
    {
      "cell_type": "markdown",
      "metadata": {
        "id": "8aV-GaMasa5c",
        "colab_type": "text"
      },
      "source": [
        "1.2) handle atypical missing value indicators and replace them with NaN values, (typical are marked as Nan)"
      ]
    },
    {
      "cell_type": "markdown",
      "metadata": {
        "id": "-nLNPEJnwtn0",
        "colab_type": "text"
      },
      "source": [
        "https://pandas.pydata.org/pandas-docs/stable/reference/api/pandas.DataFrame.fillna.html\n",
        "\n",
        "https://colab.research.google.com/drive/1xqeB-Jk7LlsTV5KkHPwr0Jqpw6QHfMtd#scrollTo=OR80SCUoOl3i\n"
      ]
    },
    {
      "cell_type": "markdown",
      "metadata": {
        "id": "AoXxP8SG4jDy",
        "colab_type": "text"
      },
      "source": [
        ""
      ]
    },
    {
      "cell_type": "code",
      "metadata": {
        "id": "cfIN35q44QXP",
        "colab_type": "code",
        "colab": {}
      },
      "source": [
        "#look at the data at the source: look at individual cells if need be\n",
        "#df.iloc[14][13]\n"
      ],
      "execution_count": 0,
      "outputs": []
    },
    {
      "cell_type": "markdown",
      "metadata": {
        "id": "pByYZd2_4eUO",
        "colab_type": "text"
      },
      "source": [
        "\n",
        "###Repair Header / Footer\n",
        "\n"
      ]
    },
    {
      "cell_type": "markdown",
      "metadata": {
        "id": "-OUNbULFOgEz",
        "colab_type": "text"
      },
      "source": [
        "1. Age of patient at time of operation (numerical)\n",
        "2. Patient's year of operation (year - 1900, numerical)\n",
        "3. Number of positive axillary nodes detected (numerical)\n",
        "4. Survival status (class attribute)"
      ]
    },
    {
      "cell_type": "code",
      "metadata": {
        "id": "X5-GENPB4ejd",
        "colab_type": "code",
        "colab": {}
      },
      "source": [
        "#there is a problem, so the dataframe has to be reset:\n",
        "#column_headers = ['age_at_operation', 'year_operation', 'positive_axillary_nodes', 'suvival_status']\n",
        "\n",
        "#df_adult = pd.read_csv('haberman.data', names=column_headers)"
      ],
      "execution_count": 0,
      "outputs": []
    },
    {
      "cell_type": "code",
      "metadata": {
        "id": "YE5uMBaZ6sxP",
        "colab_type": "code",
        "colab": {}
      },
      "source": [
        "#this will skip the header and footer from the files being imported\n",
        "#df = pd.read_csv('LoanStats_2018Q4.csv', header=1, na_values=['n/a'], skipfooter=2)"
      ],
      "execution_count": 0,
      "outputs": []
    },
    {
      "cell_type": "code",
      "metadata": {
        "id": "Li258uh3zQko",
        "colab_type": "code",
        "colab": {}
      },
      "source": [
        "\n",
        "#removes\n",
        "#skipfooter=2\n",
        " \n",
        "# look for a footer to take out\n",
        "\n",
        " \n",
        "\n"
      ],
      "execution_count": 0,
      "outputs": []
    },
    {
      "cell_type": "code",
      "metadata": {
        "id": "-4pEVjcPZox8",
        "colab_type": "code",
        "outputId": "07bc5e12-f142-47cd-e4e7-1d307e17dce4",
        "colab": {
          "base_uri": "https://localhost:8080/",
          "height": 198
        }
      },
      "source": [
        "df.head()"
      ],
      "execution_count": 26,
      "outputs": [
        {
          "output_type": "execute_result",
          "data": {
            "text/html": [
              "<div>\n",
              "<style scoped>\n",
              "    .dataframe tbody tr th:only-of-type {\n",
              "        vertical-align: middle;\n",
              "    }\n",
              "\n",
              "    .dataframe tbody tr th {\n",
              "        vertical-align: top;\n",
              "    }\n",
              "\n",
              "    .dataframe thead th {\n",
              "        text-align: right;\n",
              "    }\n",
              "</style>\n",
              "<table border=\"1\" class=\"dataframe\">\n",
              "  <thead>\n",
              "    <tr style=\"text-align: right;\">\n",
              "      <th></th>\n",
              "      <th>age_at_operation</th>\n",
              "      <th>year_operation</th>\n",
              "      <th>positive_axillary_nodes</th>\n",
              "      <th>suvival_status</th>\n",
              "    </tr>\n",
              "  </thead>\n",
              "  <tbody>\n",
              "    <tr>\n",
              "      <th>0</th>\n",
              "      <td>30</td>\n",
              "      <td>64</td>\n",
              "      <td>1</td>\n",
              "      <td>1</td>\n",
              "    </tr>\n",
              "    <tr>\n",
              "      <th>1</th>\n",
              "      <td>30</td>\n",
              "      <td>62</td>\n",
              "      <td>3</td>\n",
              "      <td>1</td>\n",
              "    </tr>\n",
              "    <tr>\n",
              "      <th>2</th>\n",
              "      <td>30</td>\n",
              "      <td>65</td>\n",
              "      <td>0</td>\n",
              "      <td>1</td>\n",
              "    </tr>\n",
              "    <tr>\n",
              "      <th>3</th>\n",
              "      <td>31</td>\n",
              "      <td>59</td>\n",
              "      <td>0</td>\n",
              "      <td>1</td>\n",
              "    </tr>\n",
              "    <tr>\n",
              "      <th>4</th>\n",
              "      <td>31</td>\n",
              "      <td>65</td>\n",
              "      <td>4</td>\n",
              "      <td>1</td>\n",
              "    </tr>\n",
              "  </tbody>\n",
              "</table>\n",
              "</div>"
            ],
            "text/plain": [
              "   age_at_operation  year_operation  positive_axillary_nodes  suvival_status\n",
              "0                30              64                        1               1\n",
              "1                30              62                        3               1\n",
              "2                30              65                        0               1\n",
              "3                31              59                        0               1\n",
              "4                31              65                        4               1"
            ]
          },
          "metadata": {
            "tags": []
          },
          "execution_count": 26
        }
      ]
    },
    {
      "cell_type": "markdown",
      "metadata": {
        "id": "24u_7hpKZ-9r",
        "colab_type": "text"
      },
      "source": [
        "#Change heading metrics\n",
        "\n",
        "make 1,2 into 0,1"
      ]
    },
    {
      "cell_type": "code",
      "metadata": {
        "colab_type": "code",
        "id": "UMGQGePuZrNA",
        "colab": {}
      },
      "source": [
        ""
      ],
      "execution_count": 0,
      "outputs": []
    },
    {
      "cell_type": "code",
      "metadata": {
        "colab_type": "code",
        "id": "vGBCPpM8sw1Q",
        "colab": {}
      },
      "source": [
        "#df = df.replace({1:0, 2:1})"
      ],
      "execution_count": 0,
      "outputs": []
    },
    {
      "cell_type": "code",
      "metadata": {
        "id": "hQpod0HJksaq",
        "colab_type": "code",
        "colab": {}
      },
      "source": [
        ""
      ],
      "execution_count": 0,
      "outputs": []
    },
    {
      "cell_type": "code",
      "metadata": {
        "colab_type": "code",
        "id": "O_zs6evUsvsJ",
        "colab": {}
      },
      "source": [
        "#in case you wanted zero to be dead\n",
        "df = df.replace({2:0})"
      ],
      "execution_count": 0,
      "outputs": []
    },
    {
      "cell_type": "code",
      "metadata": {
        "id": "EOA6O7ewlK-G",
        "colab_type": "code",
        "colab": {}
      },
      "source": [
        ""
      ],
      "execution_count": 0,
      "outputs": []
    },
    {
      "cell_type": "code",
      "metadata": {
        "id": "8KmNJpeqmg6f",
        "colab_type": "code",
        "colab": {}
      },
      "source": [
        ""
      ],
      "execution_count": 0,
      "outputs": []
    },
    {
      "cell_type": "code",
      "metadata": {
        "id": "2RP9i2D4mg9R",
        "colab_type": "code",
        "colab": {}
      },
      "source": [
        "#df4 = df.replace({1:0, 2:1})"
      ],
      "execution_count": 0,
      "outputs": []
    },
    {
      "cell_type": "code",
      "metadata": {
        "id": "3Me9MSsomhC4",
        "colab_type": "code",
        "colab": {}
      },
      "source": [
        ""
      ],
      "execution_count": 0,
      "outputs": []
    },
    {
      "cell_type": "code",
      "metadata": {
        "id": "HuC_UEuVmhAG",
        "colab_type": "code",
        "colab": {}
      },
      "source": [
        ""
      ],
      "execution_count": 0,
      "outputs": []
    },
    {
      "cell_type": "code",
      "metadata": {
        "id": "Rn9UIepFZ79L",
        "colab_type": "code",
        "colab": {}
      },
      "source": [
        ""
      ],
      "execution_count": 0,
      "outputs": []
    },
    {
      "cell_type": "code",
      "metadata": {
        "colab_type": "code",
        "id": "57uqinFUZ8hT",
        "colab": {}
      },
      "source": [
        ""
      ],
      "execution_count": 0,
      "outputs": []
    },
    {
      "cell_type": "code",
      "metadata": {
        "id": "2TdgqH6rkDmz",
        "colab_type": "code",
        "colab": {}
      },
      "source": [
        ")"
      ],
      "execution_count": 0,
      "outputs": []
    },
    {
      "cell_type": "markdown",
      "metadata": {
        "id": "oy0EhxkXw3-8",
        "colab_type": "text"
      },
      "source": [
        ""
      ]
    },
    {
      "cell_type": "code",
      "metadata": {
        "id": "w1eRw9b5w4HV",
        "colab_type": "code",
        "colab": {}
      },
      "source": [
        "## forward fill NaN\n",
        "#df.fillna(method='ffill')\n"
      ],
      "execution_count": 0,
      "outputs": []
    },
    {
      "cell_type": "code",
      "metadata": {
        "id": "bERSDcpEw4ND",
        "colab_type": "code",
        "colab": {}
      },
      "source": [
        "##backfill NaN\n",
        "#df.fillna(method='backfill')"
      ],
      "execution_count": 0,
      "outputs": []
    },
    {
      "cell_type": "code",
      "metadata": {
        "id": "LrWP3NRjwps-",
        "colab_type": "code",
        "outputId": "0873f423-ddc3-4507-e374-f21979b7fba1",
        "colab": {
          "base_uri": "https://localhost:8080/",
          "height": 108
        }
      },
      "source": [
        "#check again\n",
        "#checks for and summarizes missing data\n",
        "print(df.isna().sum())"
      ],
      "execution_count": 27,
      "outputs": [
        {
          "output_type": "stream",
          "text": [
            "age_at_operation           0\n",
            "year_operation             0\n",
            "positive_axillary_nodes    0\n",
            "suvival_status             0\n",
            "dtype: int64\n"
          ],
          "name": "stdout"
        }
      ]
    },
    {
      "cell_type": "markdown",
      "metadata": {
        "id": "n3frOw5zzbSP",
        "colab_type": "text"
      },
      "source": [
        "##Encoding (and Dummy variables?)\n",
        "\n",
        "\n",
        "\n",
        "```\n",
        "# This is formatted as code\n",
        "```\n",
        "\n",
        "\n",
        "\n",
        "\n"
      ]
    },
    {
      "cell_type": "code",
      "metadata": {
        "id": "2ame0RkgzVSI",
        "colab_type": "code",
        "colab": {}
      },
      "source": [
        "#https://docs.google.com/document/d/15hF87e25XniWek9ueiE-AuTLWUcmO0csTprlJXLOXeQ/edit?usp=sharing"
      ],
      "execution_count": 0,
      "outputs": []
    },
    {
      "cell_type": "markdown",
      "metadata": {
        "id": "-z4cDqyZzVcH",
        "colab_type": "text"
      },
      "source": [
        ""
      ]
    },
    {
      "cell_type": "code",
      "metadata": {
        "id": "FD7mnmDzzViy",
        "colab_type": "code",
        "colab": {}
      },
      "source": [
        "\n"
      ],
      "execution_count": 0,
      "outputs": []
    },
    {
      "cell_type": "code",
      "metadata": {
        "id": "m3kcbtKvzWon",
        "colab_type": "code",
        "colab": {}
      },
      "source": [
        ""
      ],
      "execution_count": 0,
      "outputs": []
    },
    {
      "cell_type": "markdown",
      "metadata": {
        "id": "sxAuW7MiRFbk",
        "colab_type": "text"
      },
      "source": [
        "Changing/ReCasting? Data for Survival\n",
        "\n",
        "6 The survival variable is encoded as 1 for surviving >5 years and 2 for not - change this to be 0 for not surviving and 1 for surviving >5 years (0/1 is a more traditional encoding of binary variables)"
      ]
    },
    {
      "cell_type": "code",
      "metadata": {
        "id": "xS2pXfmgRKCC",
        "colab_type": "code",
        "colab": {}
      },
      "source": [
        ""
      ],
      "execution_count": 0,
      "outputs": []
    },
    {
      "cell_type": "code",
      "metadata": {
        "id": "V-NOiiH7RKFI",
        "colab_type": "code",
        "colab": {}
      },
      "source": [
        ""
      ],
      "execution_count": 0,
      "outputs": []
    },
    {
      "cell_type": "code",
      "metadata": {
        "id": "8wYIxuqFRKHa",
        "colab_type": "code",
        "colab": {}
      },
      "source": [
        ""
      ],
      "execution_count": 0,
      "outputs": []
    },
    {
      "cell_type": "markdown",
      "metadata": {
        "id": "9_yCVNNVAcIT",
        "colab_type": "text"
      },
      "source": [
        "## Changing the Metrics of Survival\n",
        "\n",
        "##.Apply\n",
        "\n",
        "s.apply(func, convert_dtype=True, args=())"
      ]
    },
    {
      "cell_type": "code",
      "metadata": {
        "id": "-uS5NBIkAcjT",
        "colab_type": "code",
        "colab": {}
      },
      "source": [
        "# defining function to check price \n",
        "#def function_name(item): \n",
        " #       return item+2\n",
        "  \n",
        "# passing function to apply and storing returned series in new \n",
        "#new = s.apply(fun) "
      ],
      "execution_count": 0,
      "outputs": []
    },
    {
      "cell_type": "code",
      "metadata": {
        "id": "Ii3X984mBYZt",
        "colab_type": "code",
        "colab": {}
      },
      "source": [
        "# Write a function that will work on any given cell in a dataframe column\n",
        "#def remove_percent_to_float(string):\n",
        "#  return float(string.strip('%'))\n",
        "\n",
        "#remove_percent_to_float(int_rate)"
      ],
      "execution_count": 0,
      "outputs": []
    },
    {
      "cell_type": "code",
      "metadata": {
        "id": "UA3GvPNmSivB",
        "colab_type": "code",
        "outputId": "034e9426-8b27-440e-91ef-e69cf3190fed",
        "colab": {
          "base_uri": "https://localhost:8080/",
          "height": 198
        }
      },
      "source": [
        "df.head(5)\n"
      ],
      "execution_count": 28,
      "outputs": [
        {
          "output_type": "execute_result",
          "data": {
            "text/html": [
              "<div>\n",
              "<style scoped>\n",
              "    .dataframe tbody tr th:only-of-type {\n",
              "        vertical-align: middle;\n",
              "    }\n",
              "\n",
              "    .dataframe tbody tr th {\n",
              "        vertical-align: top;\n",
              "    }\n",
              "\n",
              "    .dataframe thead th {\n",
              "        text-align: right;\n",
              "    }\n",
              "</style>\n",
              "<table border=\"1\" class=\"dataframe\">\n",
              "  <thead>\n",
              "    <tr style=\"text-align: right;\">\n",
              "      <th></th>\n",
              "      <th>age_at_operation</th>\n",
              "      <th>year_operation</th>\n",
              "      <th>positive_axillary_nodes</th>\n",
              "      <th>suvival_status</th>\n",
              "    </tr>\n",
              "  </thead>\n",
              "  <tbody>\n",
              "    <tr>\n",
              "      <th>0</th>\n",
              "      <td>30</td>\n",
              "      <td>64</td>\n",
              "      <td>1</td>\n",
              "      <td>1</td>\n",
              "    </tr>\n",
              "    <tr>\n",
              "      <th>1</th>\n",
              "      <td>30</td>\n",
              "      <td>62</td>\n",
              "      <td>3</td>\n",
              "      <td>1</td>\n",
              "    </tr>\n",
              "    <tr>\n",
              "      <th>2</th>\n",
              "      <td>30</td>\n",
              "      <td>65</td>\n",
              "      <td>0</td>\n",
              "      <td>1</td>\n",
              "    </tr>\n",
              "    <tr>\n",
              "      <th>3</th>\n",
              "      <td>31</td>\n",
              "      <td>59</td>\n",
              "      <td>0</td>\n",
              "      <td>1</td>\n",
              "    </tr>\n",
              "    <tr>\n",
              "      <th>4</th>\n",
              "      <td>31</td>\n",
              "      <td>65</td>\n",
              "      <td>4</td>\n",
              "      <td>1</td>\n",
              "    </tr>\n",
              "  </tbody>\n",
              "</table>\n",
              "</div>"
            ],
            "text/plain": [
              "   age_at_operation  year_operation  positive_axillary_nodes  suvival_status\n",
              "0                30              64                        1               1\n",
              "1                30              62                        3               1\n",
              "2                30              65                        0               1\n",
              "3                31              59                        0               1\n",
              "4                31              65                        4               1"
            ]
          },
          "metadata": {
            "tags": []
          },
          "execution_count": 28
        }
      ]
    },
    {
      "cell_type": "markdown",
      "metadata": {
        "id": "qpJCBytZUS4u",
        "colab_type": "text"
      },
      "source": [
        "End of part 1, here are the printed first five values."
      ]
    },
    {
      "cell_type": "markdown",
      "metadata": {
        "id": "BH5ZpkVlUYbC",
        "colab_type": "text"
      },
      "source": [
        ""
      ]
    },
    {
      "cell_type": "markdown",
      "metadata": {
        "id": "yZlzrKGGUYeX",
        "colab_type": "text"
      },
      "source": [
        "#Part 2\n",
        "\n",
        "Examine the distribution and relationships of the features\n",
        "Explore the data - create at least 2 tables (can be summary statistics or crosstabulations) and 2 plots illustrating the nature of the data.\n",
        "\n",
        "This is open-ended, so to remind - first complete this task as a baseline, then go on to the remaining sections, and then as time allows revisit and explore further.\n",
        "\n",
        "Hint - you may need to bin some variables depending on your chosen tables/plots."
      ]
    },
    {
      "cell_type": "markdown",
      "metadata": {
        "id": "5upLvGITWmoU",
        "colab_type": "text"
      },
      "source": [
        "# Before we begin...\n",
        "\n",
        "Let us look conceptually at what we are looking at and how.\n",
        "\n",
        "###Generally  we are looking at data with X,Y relationships (one Y, many Xs).\n",
        "\n",
        "1 The Y is our choice.\n",
        "\n",
        "2 There will be maybe 1 primary X \n",
        "\n",
        "3 and other 'confounding' Xs, perhaps.\n",
        "\n",
        "###Specifically:\n",
        "\n",
        "We are looking at cancer survival or non-survival and other patient data.\n",
        "\n",
        "So, the Y we can safely choose as survival (or 1 in that column).\n",
        "\n",
        "We will do various graphical and numberical initial surveys to see what first overall patterns we can see in this general and specific context for this data:\n",
        "\n",
        "Summary: what primarily affects survival (which X is primary for Y surivial)?\n",
        "\n",
        "\n"
      ]
    },
    {
      "cell_type": "markdown",
      "metadata": {
        "id": "whJo8zhaXuYK",
        "colab_type": "text"
      },
      "source": [
        ""
      ]
    },
    {
      "cell_type": "code",
      "metadata": {
        "id": "l5XTLVtFXumt",
        "colab_type": "code",
        "colab": {}
      },
      "source": [
        ""
      ],
      "execution_count": 0,
      "outputs": []
    },
    {
      "cell_type": "markdown",
      "metadata": {
        "id": "mBuwSyRtXuvD",
        "colab_type": "text"
      },
      "source": [
        "Lets start with a correlation test, just to start with something.\n"
      ]
    },
    {
      "cell_type": "code",
      "metadata": {
        "id": "O7g7F7TTXu1b",
        "colab_type": "code",
        "outputId": "2afa27c9-698c-4728-95d4-8a23f0581044",
        "colab": {
          "base_uri": "https://localhost:8080/",
          "height": 168
        }
      },
      "source": [
        "df.corr()"
      ],
      "execution_count": 29,
      "outputs": [
        {
          "output_type": "execute_result",
          "data": {
            "text/html": [
              "<div>\n",
              "<style scoped>\n",
              "    .dataframe tbody tr th:only-of-type {\n",
              "        vertical-align: middle;\n",
              "    }\n",
              "\n",
              "    .dataframe tbody tr th {\n",
              "        vertical-align: top;\n",
              "    }\n",
              "\n",
              "    .dataframe thead th {\n",
              "        text-align: right;\n",
              "    }\n",
              "</style>\n",
              "<table border=\"1\" class=\"dataframe\">\n",
              "  <thead>\n",
              "    <tr style=\"text-align: right;\">\n",
              "      <th></th>\n",
              "      <th>age_at_operation</th>\n",
              "      <th>year_operation</th>\n",
              "      <th>positive_axillary_nodes</th>\n",
              "      <th>suvival_status</th>\n",
              "    </tr>\n",
              "  </thead>\n",
              "  <tbody>\n",
              "    <tr>\n",
              "      <th>age_at_operation</th>\n",
              "      <td>1.000000</td>\n",
              "      <td>0.089529</td>\n",
              "      <td>-0.060767</td>\n",
              "      <td>-0.067950</td>\n",
              "    </tr>\n",
              "    <tr>\n",
              "      <th>year_operation</th>\n",
              "      <td>0.089529</td>\n",
              "      <td>1.000000</td>\n",
              "      <td>0.007145</td>\n",
              "      <td>0.004768</td>\n",
              "    </tr>\n",
              "    <tr>\n",
              "      <th>positive_axillary_nodes</th>\n",
              "      <td>-0.060767</td>\n",
              "      <td>0.007145</td>\n",
              "      <td>1.000000</td>\n",
              "      <td>-0.285240</td>\n",
              "    </tr>\n",
              "    <tr>\n",
              "      <th>suvival_status</th>\n",
              "      <td>-0.067950</td>\n",
              "      <td>0.004768</td>\n",
              "      <td>-0.285240</td>\n",
              "      <td>1.000000</td>\n",
              "    </tr>\n",
              "  </tbody>\n",
              "</table>\n",
              "</div>"
            ],
            "text/plain": [
              "                         age_at_operation  year_operation  positive_axillary_nodes  suvival_status\n",
              "age_at_operation                 1.000000        0.089529                -0.060767       -0.067950\n",
              "year_operation                   0.089529        1.000000                 0.007145        0.004768\n",
              "positive_axillary_nodes         -0.060767        0.007145                 1.000000       -0.285240\n",
              "suvival_status                  -0.067950        0.004768                -0.285240        1.000000"
            ]
          },
          "metadata": {
            "tags": []
          },
          "execution_count": 29
        }
      ]
    },
    {
      "cell_type": "markdown",
      "metadata": {
        "id": "0smTOSGfXu8h",
        "colab_type": "text"
      },
      "source": [
        "What can we see from looking at these cursory first look?\n",
        "\n",
        "It looks like the strongest correlation with surivival is the presense of positive axillary nodes.\n",
        "\n",
        "It looks like the weakest correlation with survival is the year of operation. "
      ]
    },
    {
      "cell_type": "code",
      "metadata": {
        "id": "fJxugNRtXvB4",
        "colab_type": "code",
        "outputId": "b831e74e-041f-4f9a-92e5-751d9b8e4dfd",
        "colab": {
          "base_uri": "https://localhost:8080/",
          "height": 198
        }
      },
      "source": [
        "df.head()"
      ],
      "execution_count": 30,
      "outputs": [
        {
          "output_type": "execute_result",
          "data": {
            "text/html": [
              "<div>\n",
              "<style scoped>\n",
              "    .dataframe tbody tr th:only-of-type {\n",
              "        vertical-align: middle;\n",
              "    }\n",
              "\n",
              "    .dataframe tbody tr th {\n",
              "        vertical-align: top;\n",
              "    }\n",
              "\n",
              "    .dataframe thead th {\n",
              "        text-align: right;\n",
              "    }\n",
              "</style>\n",
              "<table border=\"1\" class=\"dataframe\">\n",
              "  <thead>\n",
              "    <tr style=\"text-align: right;\">\n",
              "      <th></th>\n",
              "      <th>age_at_operation</th>\n",
              "      <th>year_operation</th>\n",
              "      <th>positive_axillary_nodes</th>\n",
              "      <th>suvival_status</th>\n",
              "    </tr>\n",
              "  </thead>\n",
              "  <tbody>\n",
              "    <tr>\n",
              "      <th>0</th>\n",
              "      <td>30</td>\n",
              "      <td>64</td>\n",
              "      <td>1</td>\n",
              "      <td>1</td>\n",
              "    </tr>\n",
              "    <tr>\n",
              "      <th>1</th>\n",
              "      <td>30</td>\n",
              "      <td>62</td>\n",
              "      <td>3</td>\n",
              "      <td>1</td>\n",
              "    </tr>\n",
              "    <tr>\n",
              "      <th>2</th>\n",
              "      <td>30</td>\n",
              "      <td>65</td>\n",
              "      <td>0</td>\n",
              "      <td>1</td>\n",
              "    </tr>\n",
              "    <tr>\n",
              "      <th>3</th>\n",
              "      <td>31</td>\n",
              "      <td>59</td>\n",
              "      <td>0</td>\n",
              "      <td>1</td>\n",
              "    </tr>\n",
              "    <tr>\n",
              "      <th>4</th>\n",
              "      <td>31</td>\n",
              "      <td>65</td>\n",
              "      <td>4</td>\n",
              "      <td>1</td>\n",
              "    </tr>\n",
              "  </tbody>\n",
              "</table>\n",
              "</div>"
            ],
            "text/plain": [
              "   age_at_operation  year_operation  positive_axillary_nodes  suvival_status\n",
              "0                30              64                        1               1\n",
              "1                30              62                        3               1\n",
              "2                30              65                        0               1\n",
              "3                31              59                        0               1\n",
              "4                31              65                        4               1"
            ]
          },
          "metadata": {
            "tags": []
          },
          "execution_count": 30
        }
      ]
    },
    {
      "cell_type": "markdown",
      "metadata": {
        "id": "dj6B51c-XvLL",
        "colab_type": "text"
      },
      "source": [
        "#Initial Graphs\n",
        "\n",
        "### Let's look at the data visually and see what patterns we can see.\n",
        "Let's compare out Y(survial) with each of the different Xs."
      ]
    },
    {
      "cell_type": "code",
      "metadata": {
        "id": "ACyCPbeVXvQe",
        "colab_type": "code",
        "outputId": "a3745777-2ce7-4fdd-9760-e1f88ce8e71d",
        "colab": {
          "base_uri": "https://localhost:8080/",
          "height": 315
        }
      },
      "source": [
        "#Graphs\n",
        "\n",
        "#Scatterplot\n",
        "plot1 = df.plot.scatter('positive_axillary_nodes', 'suvival_status');\n",
        "plot1.set_ylabel('suvival_status')\n",
        "plot1.set_xlabel('positive_axillary_nodes')\n",
        "plot1.set_title('suvival_status and positive_axillary_nodes')\n"
      ],
      "execution_count": 32,
      "outputs": [
        {
          "output_type": "execute_result",
          "data": {
            "text/plain": [
              "Text(0.5, 1.0, 'suvival_status and positive_axillary_nodes')"
            ]
          },
          "metadata": {
            "tags": []
          },
          "execution_count": 32
        },
        {
          "output_type": "display_data",
          "data": {
            "image/png": "[encoded data removed]",
            "text/plain": [
              "<Figure size 432x288 with 1 Axes>"
            ]
          },
          "metadata": {
            "tags": []
          }
        }
      ]
    },
    {
      "cell_type": "code",
      "metadata": {
        "id": "fx6_Huv3aWON",
        "colab_type": "code",
        "outputId": "03d3cabb-4648-405f-d962-6961d434b2a2",
        "colab": {
          "base_uri": "https://localhost:8080/",
          "height": 315
        }
      },
      "source": [
        "#Graphs year_operation\t\n",
        "\n",
        "#Scatterplot\n",
        "plot2 = df.plot.scatter('year_operation', 'suvival_status');\n",
        "plot2.set_ylabel('suvival_status')\n",
        "plot2.set_xlabel('year_operation\t')\n",
        "plot2.set_title('suvival_status and year_operation')\n"
      ],
      "execution_count": 33,
      "outputs": [
        {
          "output_type": "execute_result",
          "data": {
            "text/plain": [
              "Text(0.5, 1.0, 'suvival_status and year_operation')"
            ]
          },
          "metadata": {
            "tags": []
          },
          "execution_count": 33
        },
        {
          "output_type": "display_data",
          "data": {
            "image/png": "[encoded data removed]",
            "text/plain": [
              "<Figure size 432x288 with 1 Axes>"
            ]
          },
          "metadata": {
            "tags": []
          }
        }
      ]
    },
    {
      "cell_type": "code",
      "metadata": {
        "colab_type": "code",
        "id": "232MAlUWaXSZ",
        "outputId": "a9747cfe-03db-4c0f-eeff-8d7cf2d00e67",
        "colab": {
          "base_uri": "https://localhost:8080/",
          "height": 315
        }
      },
      "source": [
        "#Graphs\n",
        "\n",
        "#Scatterplot\n",
        "plot3 = df.plot.scatter('age_at_operation', 'suvival_status');\n",
        "plot3.set_ylabel('suvival_status')\n",
        "plot3.set_xlabel('age_at_operation\t')\n",
        "plot3.set_title('suvival_status and age_at_operation')\n",
        "\n"
      ],
      "execution_count": 34,
      "outputs": [
        {
          "output_type": "execute_result",
          "data": {
            "text/plain": [
              "Text(0.5, 1.0, 'suvival_status and age_at_operation')"
            ]
          },
          "metadata": {
            "tags": []
          },
          "execution_count": 34
        },
        {
          "output_type": "display_data",
          "data": {
            "image/png": "[encoded data removed]",
            "text/plain": [
              "<Figure size 432x288 with 1 Axes>"
            ]
          },
          "metadata": {
            "tags": []
          }
        }
      ]
    },
    {
      "cell_type": "code",
      "metadata": {
        "id": "cmoNI6UdaWdK",
        "colab_type": "code",
        "colab": {}
      },
      "source": [
        ""
      ],
      "execution_count": 0,
      "outputs": []
    },
    {
      "cell_type": "markdown",
      "metadata": {
        "id": "tbE9xuKHcJ4H",
        "colab_type": "text"
      },
      "source": [
        "##Cross Tabs\n",
        "Lets look at some cross tabulation"
      ]
    },
    {
      "cell_type": "code",
      "metadata": {
        "id": "RbCjxSghaWuz",
        "colab_type": "code",
        "outputId": "6f6942d6-7ff3-47be-99f6-74921c302098",
        "colab": {
          "base_uri": "https://localhost:8080/",
          "height": 168
        }
      },
      "source": [
        "#generate crosstable\n",
        " pd.crosstab(df.suvival_status, df.year_operation, margins=True)"
      ],
      "execution_count": 35,
      "outputs": [
        {
          "output_type": "execute_result",
          "data": {
            "text/html": [
              "<div>\n",
              "<style scoped>\n",
              "    .dataframe tbody tr th:only-of-type {\n",
              "        vertical-align: middle;\n",
              "    }\n",
              "\n",
              "    .dataframe tbody tr th {\n",
              "        vertical-align: top;\n",
              "    }\n",
              "\n",
              "    .dataframe thead th {\n",
              "        text-align: right;\n",
              "    }\n",
              "</style>\n",
              "<table border=\"1\" class=\"dataframe\">\n",
              "  <thead>\n",
              "    <tr style=\"text-align: right;\">\n",
              "      <th>year_operation</th>\n",
              "      <th>58</th>\n",
              "      <th>59</th>\n",
              "      <th>60</th>\n",
              "      <th>61</th>\n",
              "      <th>62</th>\n",
              "      <th>63</th>\n",
              "      <th>64</th>\n",
              "      <th>65</th>\n",
              "      <th>66</th>\n",
              "      <th>67</th>\n",
              "      <th>68</th>\n",
              "      <th>69</th>\n",
              "      <th>All</th>\n",
              "    </tr>\n",
              "    <tr>\n",
              "      <th>suvival_status</th>\n",
              "      <th></th>\n",
              "      <th></th>\n",
              "      <th></th>\n",
              "      <th></th>\n",
              "      <th></th>\n",
              "      <th></th>\n",
              "      <th></th>\n",
              "      <th></th>\n",
              "      <th></th>\n",
              "      <th></th>\n",
              "      <th></th>\n",
              "      <th></th>\n",
              "      <th></th>\n",
              "    </tr>\n",
              "  </thead>\n",
              "  <tbody>\n",
              "    <tr>\n",
              "      <th>0</th>\n",
              "      <td>12</td>\n",
              "      <td>9</td>\n",
              "      <td>4</td>\n",
              "      <td>3</td>\n",
              "      <td>7</td>\n",
              "      <td>8</td>\n",
              "      <td>8</td>\n",
              "      <td>13</td>\n",
              "      <td>6</td>\n",
              "      <td>4</td>\n",
              "      <td>3</td>\n",
              "      <td>4</td>\n",
              "      <td>81</td>\n",
              "    </tr>\n",
              "    <tr>\n",
              "      <th>1</th>\n",
              "      <td>24</td>\n",
              "      <td>18</td>\n",
              "      <td>24</td>\n",
              "      <td>23</td>\n",
              "      <td>16</td>\n",
              "      <td>22</td>\n",
              "      <td>23</td>\n",
              "      <td>15</td>\n",
              "      <td>22</td>\n",
              "      <td>21</td>\n",
              "      <td>10</td>\n",
              "      <td>7</td>\n",
              "      <td>225</td>\n",
              "    </tr>\n",
              "    <tr>\n",
              "      <th>All</th>\n",
              "      <td>36</td>\n",
              "      <td>27</td>\n",
              "      <td>28</td>\n",
              "      <td>26</td>\n",
              "      <td>23</td>\n",
              "      <td>30</td>\n",
              "      <td>31</td>\n",
              "      <td>28</td>\n",
              "      <td>28</td>\n",
              "      <td>25</td>\n",
              "      <td>13</td>\n",
              "      <td>11</td>\n",
              "      <td>306</td>\n",
              "    </tr>\n",
              "  </tbody>\n",
              "</table>\n",
              "</div>"
            ],
            "text/plain": [
              "year_operation  58  59  60  61  62  63  64  65  66  67  68  69  All\n",
              "suvival_status                                                     \n",
              "0               12   9   4   3   7   8   8  13   6   4   3   4   81\n",
              "1               24  18  24  23  16  22  23  15  22  21  10   7  225\n",
              "All             36  27  28  26  23  30  31  28  28  25  13  11  306"
            ]
          },
          "metadata": {
            "tags": []
          },
          "execution_count": 35
        }
      ]
    },
    {
      "cell_type": "code",
      "metadata": {
        "id": "XxYAuBhUcO8w",
        "colab_type": "code",
        "outputId": "076499b9-f946-4ed8-9b55-0c22f90832c6",
        "colab": {
          "base_uri": "https://localhost:8080/",
          "height": 188
        }
      },
      "source": [
        "#generate crosstable\n",
        " pd.crosstab(df.suvival_status, df.age_at_operation, margins=True)"
      ],
      "execution_count": 36,
      "outputs": [
        {
          "output_type": "execute_result",
          "data": {
            "text/html": [
              "<div>\n",
              "<style scoped>\n",
              "    .dataframe tbody tr th:only-of-type {\n",
              "        vertical-align: middle;\n",
              "    }\n",
              "\n",
              "    .dataframe tbody tr th {\n",
              "        vertical-align: top;\n",
              "    }\n",
              "\n",
              "    .dataframe thead th {\n",
              "        text-align: right;\n",
              "    }\n",
              "</style>\n",
              "<table border=\"1\" class=\"dataframe\">\n",
              "  <thead>\n",
              "    <tr style=\"text-align: right;\">\n",
              "      <th>age_at_operation</th>\n",
              "      <th>30</th>\n",
              "      <th>31</th>\n",
              "      <th>33</th>\n",
              "      <th>34</th>\n",
              "      <th>35</th>\n",
              "      <th>36</th>\n",
              "      <th>37</th>\n",
              "      <th>38</th>\n",
              "      <th>39</th>\n",
              "      <th>40</th>\n",
              "      <th>41</th>\n",
              "      <th>42</th>\n",
              "      <th>43</th>\n",
              "      <th>44</th>\n",
              "      <th>45</th>\n",
              "      <th>46</th>\n",
              "      <th>47</th>\n",
              "      <th>48</th>\n",
              "      <th>49</th>\n",
              "      <th>50</th>\n",
              "      <th>51</th>\n",
              "      <th>52</th>\n",
              "      <th>53</th>\n",
              "      <th>54</th>\n",
              "      <th>55</th>\n",
              "      <th>56</th>\n",
              "      <th>57</th>\n",
              "      <th>58</th>\n",
              "      <th>59</th>\n",
              "      <th>60</th>\n",
              "      <th>61</th>\n",
              "      <th>62</th>\n",
              "      <th>63</th>\n",
              "      <th>64</th>\n",
              "      <th>65</th>\n",
              "      <th>66</th>\n",
              "      <th>67</th>\n",
              "      <th>68</th>\n",
              "      <th>69</th>\n",
              "      <th>70</th>\n",
              "      <th>71</th>\n",
              "      <th>72</th>\n",
              "      <th>73</th>\n",
              "      <th>74</th>\n",
              "      <th>75</th>\n",
              "      <th>76</th>\n",
              "      <th>77</th>\n",
              "      <th>78</th>\n",
              "      <th>83</th>\n",
              "      <th>All</th>\n",
              "    </tr>\n",
              "    <tr>\n",
              "      <th>suvival_status</th>\n",
              "      <th></th>\n",
              "      <th></th>\n",
              "      <th></th>\n",
              "      <th></th>\n",
              "      <th></th>\n",
              "      <th></th>\n",
              "      <th></th>\n",
              "      <th></th>\n",
              "      <th></th>\n",
              "      <th></th>\n",
              "      <th></th>\n",
              "      <th></th>\n",
              "      <th></th>\n",
              "      <th></th>\n",
              "      <th></th>\n",
              "      <th></th>\n",
              "      <th></th>\n",
              "      <th></th>\n",
              "      <th></th>\n",
              "      <th></th>\n",
              "      <th></th>\n",
              "      <th></th>\n",
              "      <th></th>\n",
              "      <th></th>\n",
              "      <th></th>\n",
              "      <th></th>\n",
              "      <th></th>\n",
              "      <th></th>\n",
              "      <th></th>\n",
              "      <th></th>\n",
              "      <th></th>\n",
              "      <th></th>\n",
              "      <th></th>\n",
              "      <th></th>\n",
              "      <th></th>\n",
              "      <th></th>\n",
              "      <th></th>\n",
              "      <th></th>\n",
              "      <th></th>\n",
              "      <th></th>\n",
              "      <th></th>\n",
              "      <th></th>\n",
              "      <th></th>\n",
              "      <th></th>\n",
              "      <th></th>\n",
              "      <th></th>\n",
              "      <th></th>\n",
              "      <th></th>\n",
              "      <th></th>\n",
              "      <th></th>\n",
              "    </tr>\n",
              "  </thead>\n",
              "  <tbody>\n",
              "    <tr>\n",
              "      <th>0</th>\n",
              "      <td>0</td>\n",
              "      <td>0</td>\n",
              "      <td>0</td>\n",
              "      <td>2</td>\n",
              "      <td>0</td>\n",
              "      <td>0</td>\n",
              "      <td>0</td>\n",
              "      <td>1</td>\n",
              "      <td>1</td>\n",
              "      <td>0</td>\n",
              "      <td>3</td>\n",
              "      <td>2</td>\n",
              "      <td>4</td>\n",
              "      <td>3</td>\n",
              "      <td>3</td>\n",
              "      <td>4</td>\n",
              "      <td>3</td>\n",
              "      <td>3</td>\n",
              "      <td>2</td>\n",
              "      <td>2</td>\n",
              "      <td>2</td>\n",
              "      <td>4</td>\n",
              "      <td>6</td>\n",
              "      <td>4</td>\n",
              "      <td>2</td>\n",
              "      <td>2</td>\n",
              "      <td>3</td>\n",
              "      <td>0</td>\n",
              "      <td>1</td>\n",
              "      <td>2</td>\n",
              "      <td>3</td>\n",
              "      <td>3</td>\n",
              "      <td>1</td>\n",
              "      <td>0</td>\n",
              "      <td>4</td>\n",
              "      <td>2</td>\n",
              "      <td>2</td>\n",
              "      <td>0</td>\n",
              "      <td>1</td>\n",
              "      <td>2</td>\n",
              "      <td>0</td>\n",
              "      <td>1</td>\n",
              "      <td>0</td>\n",
              "      <td>1</td>\n",
              "      <td>0</td>\n",
              "      <td>0</td>\n",
              "      <td>0</td>\n",
              "      <td>1</td>\n",
              "      <td>1</td>\n",
              "      <td>81</td>\n",
              "    </tr>\n",
              "    <tr>\n",
              "      <th>1</th>\n",
              "      <td>3</td>\n",
              "      <td>2</td>\n",
              "      <td>2</td>\n",
              "      <td>5</td>\n",
              "      <td>2</td>\n",
              "      <td>2</td>\n",
              "      <td>6</td>\n",
              "      <td>9</td>\n",
              "      <td>5</td>\n",
              "      <td>3</td>\n",
              "      <td>7</td>\n",
              "      <td>7</td>\n",
              "      <td>7</td>\n",
              "      <td>4</td>\n",
              "      <td>6</td>\n",
              "      <td>3</td>\n",
              "      <td>8</td>\n",
              "      <td>4</td>\n",
              "      <td>8</td>\n",
              "      <td>10</td>\n",
              "      <td>4</td>\n",
              "      <td>10</td>\n",
              "      <td>5</td>\n",
              "      <td>9</td>\n",
              "      <td>8</td>\n",
              "      <td>5</td>\n",
              "      <td>8</td>\n",
              "      <td>7</td>\n",
              "      <td>7</td>\n",
              "      <td>4</td>\n",
              "      <td>6</td>\n",
              "      <td>4</td>\n",
              "      <td>7</td>\n",
              "      <td>5</td>\n",
              "      <td>6</td>\n",
              "      <td>3</td>\n",
              "      <td>4</td>\n",
              "      <td>2</td>\n",
              "      <td>3</td>\n",
              "      <td>5</td>\n",
              "      <td>1</td>\n",
              "      <td>3</td>\n",
              "      <td>2</td>\n",
              "      <td>1</td>\n",
              "      <td>1</td>\n",
              "      <td>1</td>\n",
              "      <td>1</td>\n",
              "      <td>0</td>\n",
              "      <td>0</td>\n",
              "      <td>225</td>\n",
              "    </tr>\n",
              "    <tr>\n",
              "      <th>All</th>\n",
              "      <td>3</td>\n",
              "      <td>2</td>\n",
              "      <td>2</td>\n",
              "      <td>7</td>\n",
              "      <td>2</td>\n",
              "      <td>2</td>\n",
              "      <td>6</td>\n",
              "      <td>10</td>\n",
              "      <td>6</td>\n",
              "      <td>3</td>\n",
              "      <td>10</td>\n",
              "      <td>9</td>\n",
              "      <td>11</td>\n",
              "      <td>7</td>\n",
              "      <td>9</td>\n",
              "      <td>7</td>\n",
              "      <td>11</td>\n",
              "      <td>7</td>\n",
              "      <td>10</td>\n",
              "      <td>12</td>\n",
              "      <td>6</td>\n",
              "      <td>14</td>\n",
              "      <td>11</td>\n",
              "      <td>13</td>\n",
              "      <td>10</td>\n",
              "      <td>7</td>\n",
              "      <td>11</td>\n",
              "      <td>7</td>\n",
              "      <td>8</td>\n",
              "      <td>6</td>\n",
              "      <td>9</td>\n",
              "      <td>7</td>\n",
              "      <td>8</td>\n",
              "      <td>5</td>\n",
              "      <td>10</td>\n",
              "      <td>5</td>\n",
              "      <td>6</td>\n",
              "      <td>2</td>\n",
              "      <td>4</td>\n",
              "      <td>7</td>\n",
              "      <td>1</td>\n",
              "      <td>4</td>\n",
              "      <td>2</td>\n",
              "      <td>2</td>\n",
              "      <td>1</td>\n",
              "      <td>1</td>\n",
              "      <td>1</td>\n",
              "      <td>1</td>\n",
              "      <td>1</td>\n",
              "      <td>306</td>\n",
              "    </tr>\n",
              "  </tbody>\n",
              "</table>\n",
              "</div>"
            ],
            "text/plain": [
              "age_at_operation  30  31  33  34  35  36  37  38  39  40  41  42  43  44  45  46  47  48  49  50  51  52  53  54  55  56  57  58  59  60  61  62  63  64  65  66  67  68  69  70  71  72  73  74  75  76  77  78  83  All\n",
              "suvival_status                                                                                                                                                                                                           \n",
              "0                  0   0   0   2   0   0   0   1   1   0   3   2   4   3   3   4   3   3   2   2   2   4   6   4   2   2   3   0   1   2   3   3   1   0   4   2   2   0   1   2   0   1   0   1   0   0   0   1   1   81\n",
              "1                  3   2   2   5   2   2   6   9   5   3   7   7   7   4   6   3   8   4   8  10   4  10   5   9   8   5   8   7   7   4   6   4   7   5   6   3   4   2   3   5   1   3   2   1   1   1   1   0   0  225\n",
              "All                3   2   2   7   2   2   6  10   6   3  10   9  11   7   9   7  11   7  10  12   6  14  11  13  10   7  11   7   8   6   9   7   8   5  10   5   6   2   4   7   1   4   2   2   1   1   1   1   1  306"
            ]
          },
          "metadata": {
            "tags": []
          },
          "execution_count": 36
        }
      ]
    },
    {
      "cell_type": "code",
      "metadata": {
        "id": "l85JjYhvcPAZ",
        "colab_type": "code",
        "outputId": "a9568630-443a-45a9-e075-f4014107bb92",
        "colab": {
          "base_uri": "https://localhost:8080/",
          "height": 168
        }
      },
      "source": [
        "#generate crosstable\n",
        " pd.crosstab(df.suvival_status, df.positive_axillary_nodes, margins=True)"
      ],
      "execution_count": 37,
      "outputs": [
        {
          "output_type": "execute_result",
          "data": {
            "text/html": [
              "<div>\n",
              "<style scoped>\n",
              "    .dataframe tbody tr th:only-of-type {\n",
              "        vertical-align: middle;\n",
              "    }\n",
              "\n",
              "    .dataframe tbody tr th {\n",
              "        vertical-align: top;\n",
              "    }\n",
              "\n",
              "    .dataframe thead th {\n",
              "        text-align: right;\n",
              "    }\n",
              "</style>\n",
              "<table border=\"1\" class=\"dataframe\">\n",
              "  <thead>\n",
              "    <tr style=\"text-align: right;\">\n",
              "      <th>positive_axillary_nodes</th>\n",
              "      <th>0</th>\n",
              "      <th>1</th>\n",
              "      <th>3</th>\n",
              "      <th>4</th>\n",
              "      <th>5</th>\n",
              "      <th>6</th>\n",
              "      <th>7</th>\n",
              "      <th>8</th>\n",
              "      <th>9</th>\n",
              "      <th>10</th>\n",
              "      <th>11</th>\n",
              "      <th>12</th>\n",
              "      <th>13</th>\n",
              "      <th>14</th>\n",
              "      <th>15</th>\n",
              "      <th>16</th>\n",
              "      <th>17</th>\n",
              "      <th>18</th>\n",
              "      <th>19</th>\n",
              "      <th>20</th>\n",
              "      <th>21</th>\n",
              "      <th>22</th>\n",
              "      <th>23</th>\n",
              "      <th>24</th>\n",
              "      <th>25</th>\n",
              "      <th>28</th>\n",
              "      <th>30</th>\n",
              "      <th>35</th>\n",
              "      <th>46</th>\n",
              "      <th>52</th>\n",
              "      <th>All</th>\n",
              "    </tr>\n",
              "    <tr>\n",
              "      <th>suvival_status</th>\n",
              "      <th></th>\n",
              "      <th></th>\n",
              "      <th></th>\n",
              "      <th></th>\n",
              "      <th></th>\n",
              "      <th></th>\n",
              "      <th></th>\n",
              "      <th></th>\n",
              "      <th></th>\n",
              "      <th></th>\n",
              "      <th></th>\n",
              "      <th></th>\n",
              "      <th></th>\n",
              "      <th></th>\n",
              "      <th></th>\n",
              "      <th></th>\n",
              "      <th></th>\n",
              "      <th></th>\n",
              "      <th></th>\n",
              "      <th></th>\n",
              "      <th></th>\n",
              "      <th></th>\n",
              "      <th></th>\n",
              "      <th></th>\n",
              "      <th></th>\n",
              "      <th></th>\n",
              "      <th></th>\n",
              "      <th></th>\n",
              "      <th></th>\n",
              "      <th></th>\n",
              "      <th></th>\n",
              "    </tr>\n",
              "  </thead>\n",
              "  <tbody>\n",
              "    <tr>\n",
              "      <th>0</th>\n",
              "      <td>24</td>\n",
              "      <td>8</td>\n",
              "      <td>7</td>\n",
              "      <td>3</td>\n",
              "      <td>4</td>\n",
              "      <td>3</td>\n",
              "      <td>2</td>\n",
              "      <td>2</td>\n",
              "      <td>4</td>\n",
              "      <td>1</td>\n",
              "      <td>3</td>\n",
              "      <td>1</td>\n",
              "      <td>4</td>\n",
              "      <td>1</td>\n",
              "      <td>2</td>\n",
              "      <td>0</td>\n",
              "      <td>1</td>\n",
              "      <td>0</td>\n",
              "      <td>2</td>\n",
              "      <td>1</td>\n",
              "      <td>1</td>\n",
              "      <td>1</td>\n",
              "      <td>3</td>\n",
              "      <td>1</td>\n",
              "      <td>0</td>\n",
              "      <td>0</td>\n",
              "      <td>0</td>\n",
              "      <td>1</td>\n",
              "      <td>0</td>\n",
              "      <td>1</td>\n",
              "      <td>81</td>\n",
              "    </tr>\n",
              "    <tr>\n",
              "      <th>1</th>\n",
              "      <td>132</td>\n",
              "      <td>33</td>\n",
              "      <td>13</td>\n",
              "      <td>10</td>\n",
              "      <td>2</td>\n",
              "      <td>4</td>\n",
              "      <td>5</td>\n",
              "      <td>5</td>\n",
              "      <td>2</td>\n",
              "      <td>2</td>\n",
              "      <td>1</td>\n",
              "      <td>1</td>\n",
              "      <td>1</td>\n",
              "      <td>3</td>\n",
              "      <td>1</td>\n",
              "      <td>1</td>\n",
              "      <td>0</td>\n",
              "      <td>1</td>\n",
              "      <td>1</td>\n",
              "      <td>1</td>\n",
              "      <td>0</td>\n",
              "      <td>2</td>\n",
              "      <td>0</td>\n",
              "      <td>0</td>\n",
              "      <td>1</td>\n",
              "      <td>1</td>\n",
              "      <td>1</td>\n",
              "      <td>0</td>\n",
              "      <td>1</td>\n",
              "      <td>0</td>\n",
              "      <td>225</td>\n",
              "    </tr>\n",
              "    <tr>\n",
              "      <th>All</th>\n",
              "      <td>156</td>\n",
              "      <td>41</td>\n",
              "      <td>20</td>\n",
              "      <td>13</td>\n",
              "      <td>6</td>\n",
              "      <td>7</td>\n",
              "      <td>7</td>\n",
              "      <td>7</td>\n",
              "      <td>6</td>\n",
              "      <td>3</td>\n",
              "      <td>4</td>\n",
              "      <td>2</td>\n",
              "      <td>5</td>\n",
              "      <td>4</td>\n",
              "      <td>3</td>\n",
              "      <td>1</td>\n",
              "      <td>1</td>\n",
              "      <td>1</td>\n",
              "      <td>3</td>\n",
              "      <td>2</td>\n",
              "      <td>1</td>\n",
              "      <td>3</td>\n",
              "      <td>3</td>\n",
              "      <td>1</td>\n",
              "      <td>1</td>\n",
              "      <td>1</td>\n",
              "      <td>1</td>\n",
              "      <td>1</td>\n",
              "      <td>1</td>\n",
              "      <td>1</td>\n",
              "      <td>306</td>\n",
              "    </tr>\n",
              "  </tbody>\n",
              "</table>\n",
              "</div>"
            ],
            "text/plain": [
              "positive_axillary_nodes    0   1   3   4  5  6  7  8  9  10  11  12  13  14  15  16  17  18  19  20  21  22  23  24  25  28  30  35  46  52  All\n",
              "suvival_status                                                                                                                                  \n",
              "0                         24   8   7   3  4  3  2  2  4   1   3   1   4   1   2   0   1   0   2   1   1   1   3   1   0   0   0   1   0   1   81\n",
              "1                        132  33  13  10  2  4  5  5  2   2   1   1   1   3   1   1   0   1   1   1   0   2   0   0   1   1   1   0   1   0  225\n",
              "All                      156  41  20  13  6  7  7  7  6   3   4   2   5   4   3   1   1   1   3   2   1   3   3   1   1   1   1   1   1   1  306"
            ]
          },
          "metadata": {
            "tags": []
          },
          "execution_count": 37
        }
      ]
    },
    {
      "cell_type": "code",
      "metadata": {
        "id": "ZNqJl1NraWsz",
        "colab_type": "code",
        "colab": {}
      },
      "source": [
        ""
      ],
      "execution_count": 0,
      "outputs": []
    },
    {
      "cell_type": "code",
      "metadata": {
        "id": "-teT6wlNdPkz",
        "colab_type": "code",
        "colab": {}
      },
      "source": [
        ""
      ],
      "execution_count": 0,
      "outputs": []
    },
    {
      "cell_type": "code",
      "metadata": {
        "id": "n6D42zAOdPnn",
        "colab_type": "code",
        "colab": {}
      },
      "source": [
        ""
      ],
      "execution_count": 0,
      "outputs": []
    },
    {
      "cell_type": "markdown",
      "metadata": {
        "id": "shQHdmsYdPw3",
        "colab_type": "text"
      },
      "source": [
        "## Initial Conclusions for part 2\n",
        "perhaps due to the survival being binary and the types of graphs selected, the graphs are not entirely helpful, or perhaps there are no very strong correlations present. (Heat map...?)"
      ]
    },
    {
      "cell_type": "markdown",
      "metadata": {
        "id": "FytrL4X9eMIT",
        "colab_type": "text"
      },
      "source": [
        ""
      ]
    },
    {
      "cell_type": "markdown",
      "metadata": {
        "id": "U91e3Rzmdkes",
        "colab_type": "text"
      },
      "source": [
        ""
      ]
    },
    {
      "cell_type": "markdown",
      "metadata": {
        "id": "-Wrc3mjBeMB0",
        "colab_type": "text"
      },
      "source": [
        ""
      ]
    },
    {
      "cell_type": "markdown",
      "metadata": {
        "id": "whXczD3Hdkoc",
        "colab_type": "text"
      },
      "source": [
        "#Part 3 - DataFrame Filtering\n",
        "Use DataFrame filtering to subset the data into two smaller dataframes. You should make one dataframe for individuals who survived >5 years and a second dataframe for individuals who did not.\n",
        "\n",
        "Create a graph with each of the dataframes (can be the same graph type) to show the differences in Age and Number of Positive Axillary Nodes Detected between the two groups.\n"
      ]
    },
    {
      "cell_type": "markdown",
      "metadata": {
        "id": "0vDrfrR-en0r",
        "colab_type": "text"
      },
      "source": [
        "#Approach (Part 3)\n",
        "\n",
        "Let's begin by creating two new dataframes: \n",
        "\n",
        "df_1 for those who survived\n",
        "\n",
        "df_0 for those who did not survive\n",
        "\n"
      ]
    },
    {
      "cell_type": "markdown",
      "metadata": {
        "id": "2H2w5a9-BhX-",
        "colab_type": "text"
      },
      "source": [
        "apply function to column_name\n",
        "remembmer to return a value!"
      ]
    },
    {
      "cell_type": "code",
      "metadata": {
        "id": "td0djjjGfHs0",
        "colab_type": "code",
        "colab": {}
      },
      "source": [
        "df_1 = df[df['suvival_status'] == 1]"
      ],
      "execution_count": 0,
      "outputs": []
    },
    {
      "cell_type": "code",
      "metadata": {
        "id": "AvjrMHOGnuwL",
        "colab_type": "code",
        "colab": {}
      },
      "source": [
        "df_0 = df[df['suvival_status'] == 0]"
      ],
      "execution_count": 0,
      "outputs": []
    },
    {
      "cell_type": "code",
      "metadata": {
        "id": "jBWTcJ2RfH3H",
        "colab_type": "code",
        "outputId": "906728a0-f3f8-4e10-fa64-e47d9caff36a",
        "colab": {
          "base_uri": "https://localhost:8080/",
          "height": 108
        }
      },
      "source": [
        "#checking to see if operation worked\n",
        "df_1.head(2)"
      ],
      "execution_count": 40,
      "outputs": [
        {
          "output_type": "execute_result",
          "data": {
            "text/html": [
              "<div>\n",
              "<style scoped>\n",
              "    .dataframe tbody tr th:only-of-type {\n",
              "        vertical-align: middle;\n",
              "    }\n",
              "\n",
              "    .dataframe tbody tr th {\n",
              "        vertical-align: top;\n",
              "    }\n",
              "\n",
              "    .dataframe thead th {\n",
              "        text-align: right;\n",
              "    }\n",
              "</style>\n",
              "<table border=\"1\" class=\"dataframe\">\n",
              "  <thead>\n",
              "    <tr style=\"text-align: right;\">\n",
              "      <th></th>\n",
              "      <th>age_at_operation</th>\n",
              "      <th>year_operation</th>\n",
              "      <th>positive_axillary_nodes</th>\n",
              "      <th>suvival_status</th>\n",
              "    </tr>\n",
              "  </thead>\n",
              "  <tbody>\n",
              "    <tr>\n",
              "      <th>0</th>\n",
              "      <td>30</td>\n",
              "      <td>64</td>\n",
              "      <td>1</td>\n",
              "      <td>1</td>\n",
              "    </tr>\n",
              "    <tr>\n",
              "      <th>1</th>\n",
              "      <td>30</td>\n",
              "      <td>62</td>\n",
              "      <td>3</td>\n",
              "      <td>1</td>\n",
              "    </tr>\n",
              "  </tbody>\n",
              "</table>\n",
              "</div>"
            ],
            "text/plain": [
              "   age_at_operation  year_operation  positive_axillary_nodes  suvival_status\n",
              "0                30              64                        1               1\n",
              "1                30              62                        3               1"
            ]
          },
          "metadata": {
            "tags": []
          },
          "execution_count": 40
        }
      ]
    },
    {
      "cell_type": "code",
      "metadata": {
        "id": "m9d_bNUKn08U",
        "colab_type": "code",
        "outputId": "cf3508ce-ce08-485a-f1c7-816b6235ab9d",
        "colab": {
          "base_uri": "https://localhost:8080/",
          "height": 108
        }
      },
      "source": [
        "df_0.head(2)"
      ],
      "execution_count": 41,
      "outputs": [
        {
          "output_type": "execute_result",
          "data": {
            "text/html": [
              "<div>\n",
              "<style scoped>\n",
              "    .dataframe tbody tr th:only-of-type {\n",
              "        vertical-align: middle;\n",
              "    }\n",
              "\n",
              "    .dataframe tbody tr th {\n",
              "        vertical-align: top;\n",
              "    }\n",
              "\n",
              "    .dataframe thead th {\n",
              "        text-align: right;\n",
              "    }\n",
              "</style>\n",
              "<table border=\"1\" class=\"dataframe\">\n",
              "  <thead>\n",
              "    <tr style=\"text-align: right;\">\n",
              "      <th></th>\n",
              "      <th>age_at_operation</th>\n",
              "      <th>year_operation</th>\n",
              "      <th>positive_axillary_nodes</th>\n",
              "      <th>suvival_status</th>\n",
              "    </tr>\n",
              "  </thead>\n",
              "  <tbody>\n",
              "    <tr>\n",
              "      <th>7</th>\n",
              "      <td>34</td>\n",
              "      <td>59</td>\n",
              "      <td>0</td>\n",
              "      <td>0</td>\n",
              "    </tr>\n",
              "    <tr>\n",
              "      <th>8</th>\n",
              "      <td>34</td>\n",
              "      <td>66</td>\n",
              "      <td>9</td>\n",
              "      <td>0</td>\n",
              "    </tr>\n",
              "  </tbody>\n",
              "</table>\n",
              "</div>"
            ],
            "text/plain": [
              "   age_at_operation  year_operation  positive_axillary_nodes  suvival_status\n",
              "7                34              59                        0               0\n",
              "8                34              66                        9               0"
            ]
          },
          "metadata": {
            "tags": []
          },
          "execution_count": 41
        }
      ]
    },
    {
      "cell_type": "markdown",
      "metadata": {
        "id": "ZtodJUbWoS65",
        "colab_type": "text"
      },
      "source": [
        "##Graphs\n"
      ]
    },
    {
      "cell_type": "code",
      "metadata": {
        "id": "GRrS9mpOg-Xv",
        "colab_type": "code",
        "outputId": "ee521dc9-d05a-4804-a4b7-c2f23f683303",
        "colab": {
          "base_uri": "https://localhost:8080/",
          "height": 315
        }
      },
      "source": [
        "#Graphs year_operation\t\n",
        "\n",
        "#Scatterplot\n",
        "\n",
        "plot12 = df_1.plot.scatter('positive_axillary_nodes', 'age_at_operation');\n",
        "plot12.set_ylabel('age_at_operation')\n",
        "plot12.set_xlabel('positive_axillary_nodes')\n",
        "plot12.set_title('age_at_operation and positive_axillary_nodes survivors')"
      ],
      "execution_count": 42,
      "outputs": [
        {
          "output_type": "execute_result",
          "data": {
            "text/plain": [
              "Text(0.5, 1.0, 'age_at_operation and positive_axillary_nodes survivors')"
            ]
          },
          "metadata": {
            "tags": []
          },
          "execution_count": 42
        },
        {
          "output_type": "display_data",
          "data": {
            "image/png": "[encoded data removed]",
            "text/plain": [
              "<Figure size 432x288 with 1 Axes>"
            ]
          },
          "metadata": {
            "tags": []
          }
        }
      ]
    },
    {
      "cell_type": "code",
      "metadata": {
        "id": "DjsLITD8hyMx",
        "colab_type": "code",
        "outputId": "8206d990-10a2-4d15-f5e4-46e851a15f4a",
        "colab": {
          "base_uri": "https://localhost:8080/",
          "height": 315
        }
      },
      "source": [
        "#Graphs year_operation\t\n",
        "\n",
        "plot01 = df_0.plot.scatter('positive_axillary_nodes', 'age_at_operation');\n",
        "plot01.set_ylabel('age_at_operation')\n",
        "plot01.set_xlabel('positive_axillary_nodes')\n",
        "plot01.set_title('age_at_operation and positive_axillary_nodes fatalities')"
      ],
      "execution_count": 43,
      "outputs": [
        {
          "output_type": "execute_result",
          "data": {
            "text/plain": [
              "Text(0.5, 1.0, 'age_at_operation and positive_axillary_nodes fatalities')"
            ]
          },
          "metadata": {
            "tags": []
          },
          "execution_count": 43
        },
        {
          "output_type": "display_data",
          "data": {
            "image/png": "[encoded data removed]",
            "text/plain": [
              "<Figure size 432x288 with 1 Axes>"
            ]
          },
          "metadata": {
            "tags": []
          }
        }
      ]
    },
    {
      "cell_type": "markdown",
      "metadata": {
        "id": "4jG-Oe34hBnR",
        "colab_type": "text"
      },
      "source": [
        "Now we can make changes to our new dateframes\n"
      ]
    },
    {
      "cell_type": "code",
      "metadata": {
        "id": "PvxzILeXg-xg",
        "colab_type": "code",
        "colab": {}
      },
      "source": [
        "\n"
      ],
      "execution_count": 0,
      "outputs": []
    },
    {
      "cell_type": "code",
      "metadata": {
        "id": "t6_Ss7cJfH7S",
        "colab_type": "code",
        "colab": {}
      },
      "source": [
        ""
      ],
      "execution_count": 0,
      "outputs": []
    },
    {
      "cell_type": "code",
      "metadata": {
        "id": "GGs9fW0yBW1L",
        "colab_type": "code",
        "colab": {}
      },
      "source": [
        "#df['int_rate'] = df['int_rate'].apply(remove_percent_to_float)"
      ],
      "execution_count": 0,
      "outputs": []
    },
    {
      "cell_type": "markdown",
      "metadata": {
        "id": "EcSt1BXeR5-N",
        "colab_type": "text"
      },
      "source": [
        "Use a function and apply to change the values of 1 to 0 and 2 to 1.\n"
      ]
    },
    {
      "cell_type": "code",
      "metadata": {
        "id": "efCHMAiCSBH3",
        "colab_type": "code",
        "colab": {
          "base_uri": "https://localhost:8080/",
          "height": 35
        },
        "outputId": "7872c3e6-1b24-4c4b-b7ee-92ef83dc1e00"
      },
      "source": [
        "'''def change_metrics(x):\n",
        "  if x == 1:\n",
        "    x = 0\n",
        "    return x\n",
        "  else:\n",
        "    x = 2\n",
        "    return x \n",
        "#change_metrics(int_rate)\n",
        "'''"
      ],
      "execution_count": 45,
      "outputs": [
        {
          "output_type": "execute_result",
          "data": {
            "text/plain": [
              "'def change_metrics(x):\\n  if x == 1:\\n    x = 0\\n    return x\\n  else:\\n    x = 2\\n    return x \\n#change_metrics(int_rate)\\n'"
            ]
          },
          "metadata": {
            "tags": []
          },
          "execution_count": 45
        }
      ]
    },
    {
      "cell_type": "code",
      "metadata": {
        "id": "rulKSmcVSBKm",
        "colab_type": "code",
        "colab": {}
      },
      "source": [
        "#"
      ],
      "execution_count": 0,
      "outputs": []
    },
    {
      "cell_type": "code",
      "metadata": {
        "id": "XkHsWApjSBNC",
        "colab_type": "code",
        "outputId": "bad7b6fb-438d-4378-955e-9fdeb7140aba",
        "colab": {
          "base_uri": "https://localhost:8080/",
          "height": 348
        }
      },
      "source": [
        "df.head(10)"
      ],
      "execution_count": 47,
      "outputs": [
        {
          "output_type": "execute_result",
          "data": {
            "text/html": [
              "<div>\n",
              "<style scoped>\n",
              "    .dataframe tbody tr th:only-of-type {\n",
              "        vertical-align: middle;\n",
              "    }\n",
              "\n",
              "    .dataframe tbody tr th {\n",
              "        vertical-align: top;\n",
              "    }\n",
              "\n",
              "    .dataframe thead th {\n",
              "        text-align: right;\n",
              "    }\n",
              "</style>\n",
              "<table border=\"1\" class=\"dataframe\">\n",
              "  <thead>\n",
              "    <tr style=\"text-align: right;\">\n",
              "      <th></th>\n",
              "      <th>age_at_operation</th>\n",
              "      <th>year_operation</th>\n",
              "      <th>positive_axillary_nodes</th>\n",
              "      <th>suvival_status</th>\n",
              "    </tr>\n",
              "  </thead>\n",
              "  <tbody>\n",
              "    <tr>\n",
              "      <th>0</th>\n",
              "      <td>30</td>\n",
              "      <td>64</td>\n",
              "      <td>1</td>\n",
              "      <td>1</td>\n",
              "    </tr>\n",
              "    <tr>\n",
              "      <th>1</th>\n",
              "      <td>30</td>\n",
              "      <td>62</td>\n",
              "      <td>3</td>\n",
              "      <td>1</td>\n",
              "    </tr>\n",
              "    <tr>\n",
              "      <th>2</th>\n",
              "      <td>30</td>\n",
              "      <td>65</td>\n",
              "      <td>0</td>\n",
              "      <td>1</td>\n",
              "    </tr>\n",
              "    <tr>\n",
              "      <th>3</th>\n",
              "      <td>31</td>\n",
              "      <td>59</td>\n",
              "      <td>0</td>\n",
              "      <td>1</td>\n",
              "    </tr>\n",
              "    <tr>\n",
              "      <th>4</th>\n",
              "      <td>31</td>\n",
              "      <td>65</td>\n",
              "      <td>4</td>\n",
              "      <td>1</td>\n",
              "    </tr>\n",
              "    <tr>\n",
              "      <th>5</th>\n",
              "      <td>33</td>\n",
              "      <td>58</td>\n",
              "      <td>10</td>\n",
              "      <td>1</td>\n",
              "    </tr>\n",
              "    <tr>\n",
              "      <th>6</th>\n",
              "      <td>33</td>\n",
              "      <td>60</td>\n",
              "      <td>0</td>\n",
              "      <td>1</td>\n",
              "    </tr>\n",
              "    <tr>\n",
              "      <th>7</th>\n",
              "      <td>34</td>\n",
              "      <td>59</td>\n",
              "      <td>0</td>\n",
              "      <td>0</td>\n",
              "    </tr>\n",
              "    <tr>\n",
              "      <th>8</th>\n",
              "      <td>34</td>\n",
              "      <td>66</td>\n",
              "      <td>9</td>\n",
              "      <td>0</td>\n",
              "    </tr>\n",
              "    <tr>\n",
              "      <th>9</th>\n",
              "      <td>34</td>\n",
              "      <td>58</td>\n",
              "      <td>30</td>\n",
              "      <td>1</td>\n",
              "    </tr>\n",
              "  </tbody>\n",
              "</table>\n",
              "</div>"
            ],
            "text/plain": [
              "   age_at_operation  year_operation  positive_axillary_nodes  suvival_status\n",
              "0                30              64                        1               1\n",
              "1                30              62                        3               1\n",
              "2                30              65                        0               1\n",
              "3                31              59                        0               1\n",
              "4                31              65                        4               1\n",
              "5                33              58                       10               1\n",
              "6                33              60                        0               1\n",
              "7                34              59                        0               0\n",
              "8                34              66                        9               0\n",
              "9                34              58                       30               1"
            ]
          },
          "metadata": {
            "tags": []
          },
          "execution_count": 47
        }
      ]
    },
    {
      "cell_type": "code",
      "metadata": {
        "id": "kQJJpU5qTdxM",
        "colab_type": "code",
        "colab": {}
      },
      "source": [
        "#checking all\n",
        "#df"
      ],
      "execution_count": 0,
      "outputs": []
    },
    {
      "cell_type": "markdown",
      "metadata": {
        "id": "G1LIxg4D8Yp3",
        "colab_type": "text"
      },
      "source": [
        "##Feature Engineering\n"
      ]
    },
    {
      "cell_type": "markdown",
      "metadata": {
        "id": "9FQNu4odqSS2",
        "colab_type": "text"
      },
      "source": [
        "#Part 4 - Analysis and Interpretation\n",
        "Now that you've looked at the data, answer the following questions:\n",
        "\n",
        "4.1 What is at least one feature that looks to have a positive relationship with survival? (As that feature goes up in value rate of survival increases)\n",
        "\n",
        "4.2 What is at least one feature that looks to have a negative relationship with survival? (As that feature goes down in value rate of survival increases)\n",
        "\n",
        "4.3 How are those two features related with each other, and what might that mean?\n",
        "\n",
        "Answer with text, but feel free to intersperse example code/results or refer to it from earlier."
      ]
    },
    {
      "cell_type": "code",
      "metadata": {
        "id": "aVOGhMFOuS1r",
        "colab_type": "code",
        "colab": {
          "base_uri": "https://localhost:8080/",
          "height": 168
        },
        "outputId": "ad42b36c-2614-4e9e-a20d-c7361344ea6f"
      },
      "source": [
        "df.corr()"
      ],
      "execution_count": 50,
      "outputs": [
        {
          "output_type": "execute_result",
          "data": {
            "text/html": [
              "<div>\n",
              "<style scoped>\n",
              "    .dataframe tbody tr th:only-of-type {\n",
              "        vertical-align: middle;\n",
              "    }\n",
              "\n",
              "    .dataframe tbody tr th {\n",
              "        vertical-align: top;\n",
              "    }\n",
              "\n",
              "    .dataframe thead th {\n",
              "        text-align: right;\n",
              "    }\n",
              "</style>\n",
              "<table border=\"1\" class=\"dataframe\">\n",
              "  <thead>\n",
              "    <tr style=\"text-align: right;\">\n",
              "      <th></th>\n",
              "      <th>age_at_operation</th>\n",
              "      <th>year_operation</th>\n",
              "      <th>positive_axillary_nodes</th>\n",
              "      <th>suvival_status</th>\n",
              "    </tr>\n",
              "  </thead>\n",
              "  <tbody>\n",
              "    <tr>\n",
              "      <th>age_at_operation</th>\n",
              "      <td>1.000000</td>\n",
              "      <td>0.089529</td>\n",
              "      <td>-0.060767</td>\n",
              "      <td>-0.067950</td>\n",
              "    </tr>\n",
              "    <tr>\n",
              "      <th>year_operation</th>\n",
              "      <td>0.089529</td>\n",
              "      <td>1.000000</td>\n",
              "      <td>0.007145</td>\n",
              "      <td>0.004768</td>\n",
              "    </tr>\n",
              "    <tr>\n",
              "      <th>positive_axillary_nodes</th>\n",
              "      <td>-0.060767</td>\n",
              "      <td>0.007145</td>\n",
              "      <td>1.000000</td>\n",
              "      <td>-0.285240</td>\n",
              "    </tr>\n",
              "    <tr>\n",
              "      <th>suvival_status</th>\n",
              "      <td>-0.067950</td>\n",
              "      <td>0.004768</td>\n",
              "      <td>-0.285240</td>\n",
              "      <td>1.000000</td>\n",
              "    </tr>\n",
              "  </tbody>\n",
              "</table>\n",
              "</div>"
            ],
            "text/plain": [
              "                         age_at_operation  year_operation  positive_axillary_nodes  suvival_status\n",
              "age_at_operation                 1.000000        0.089529                -0.060767       -0.067950\n",
              "year_operation                   0.089529        1.000000                 0.007145        0.004768\n",
              "positive_axillary_nodes         -0.060767        0.007145                 1.000000       -0.285240\n",
              "suvival_status                  -0.067950        0.004768                -0.285240        1.000000"
            ]
          },
          "metadata": {
            "tags": []
          },
          "execution_count": 50
        }
      ]
    },
    {
      "cell_type": "markdown",
      "metadata": {
        "id": "qI0L7Z0qqSWs",
        "colab_type": "text"
      },
      "source": [
        "##4.1 What is at least one feature that looks to have a positive relationship with survival? (As that feature goes up in value rate of survival increases)\n",
        "\n"
      ]
    },
    {
      "cell_type": "markdown",
      "metadata": {
        "id": "OdT2SZ_NuNcq",
        "colab_type": "text"
      },
      "source": [
        "The year of operation appears to have a weak positive correlation with survival."
      ]
    },
    {
      "cell_type": "markdown",
      "metadata": {
        "id": "1MaQenqQqSZH",
        "colab_type": "text"
      },
      "source": [
        ""
      ]
    },
    {
      "cell_type": "code",
      "metadata": {
        "id": "H7TlerH78YxW",
        "colab_type": "code",
        "colab": {}
      },
      "source": [
        ""
      ],
      "execution_count": 0,
      "outputs": []
    },
    {
      "cell_type": "markdown",
      "metadata": {
        "id": "zUPT5KDpzWwg",
        "colab_type": "text"
      },
      "source": [
        "##4.2 What is at least one feature that looks to have a negative relationship with survival? (As that feature goes down in value rate of survival increases)\n",
        "\n"
      ]
    },
    {
      "cell_type": "code",
      "metadata": {
        "id": "_hffccMmsOXT",
        "colab_type": "code",
        "colab": {}
      },
      "source": [
        ""
      ],
      "execution_count": 0,
      "outputs": []
    },
    {
      "cell_type": "markdown",
      "metadata": {
        "id": "-DrQKvCRrI-6",
        "colab_type": "text"
      },
      "source": [
        "The presence of Positive Axillary Nodes is the strongest correlation and it is a negative corelation (with survival), meaning that the presence of nodes is most strongly corelated with dying. "
      ]
    },
    {
      "cell_type": "code",
      "metadata": {
        "id": "VeTpxSqy_gsw",
        "colab_type": "code",
        "colab": {}
      },
      "source": [
        ""
      ],
      "execution_count": 0,
      "outputs": []
    },
    {
      "cell_type": "code",
      "metadata": {
        "id": "Dzq39x3A_gwj",
        "colab_type": "code",
        "colab": {}
      },
      "source": [
        ""
      ],
      "execution_count": 0,
      "outputs": []
    },
    {
      "cell_type": "markdown",
      "metadata": {
        "id": "SBIT219N_hfj",
        "colab_type": "text"
      },
      "source": [
        "## 4.3 How are those two features related with each other, and what might that mean?"
      ]
    },
    {
      "cell_type": "code",
      "metadata": {
        "id": "2qtDVuS__gzy",
        "colab_type": "code",
        "colab": {}
      },
      "source": [
        ""
      ],
      "execution_count": 0,
      "outputs": []
    },
    {
      "cell_type": "markdown",
      "metadata": {
        "id": "Q1uRl9n0ueIX",
        "colab_type": "text"
      },
      "source": [
        "The year of operation and weak correlation appear to have a weak positive correlation with eachother, meaning that this could be an effect that may need to be taken into consideration and 'filtered out' of final conclutions."
      ]
    },
    {
      "cell_type": "markdown",
      "metadata": {
        "id": "FC-gHMuUuZ0-",
        "colab_type": "text"
      },
      "source": [
        ""
      ]
    },
    {
      "cell_type": "code",
      "metadata": {
        "id": "76jfFbZX_g26",
        "colab_type": "code",
        "colab": {}
      },
      "source": [
        "\n"
      ],
      "execution_count": 0,
      "outputs": []
    },
    {
      "cell_type": "markdown",
      "metadata": {
        "id": "oa8JJA8Ky7F2",
        "colab_type": "text"
      },
      "source": [
        "\n"
      ]
    },
    {
      "cell_type": "code",
      "metadata": {
        "id": "0pLL1HPeyC6a",
        "colab_type": "code",
        "colab": {}
      },
      "source": [
        ""
      ],
      "execution_count": 0,
      "outputs": []
    },
    {
      "cell_type": "code",
      "metadata": {
        "id": "fSJlPNNC8goH",
        "colab_type": "code",
        "colab": {}
      },
      "source": [
        ""
      ],
      "execution_count": 0,
      "outputs": []
    },
    {
      "cell_type": "code",
      "metadata": {
        "id": "pdHWf7c2zl7m",
        "colab_type": "code",
        "colab": {}
      },
      "source": [
        ""
      ],
      "execution_count": 0,
      "outputs": []
    },
    {
      "cell_type": "code",
      "metadata": {
        "id": "wynlhCFCzl-M",
        "colab_type": "code",
        "colab": {}
      },
      "source": [
        ""
      ],
      "execution_count": 0,
      "outputs": []
    },
    {
      "cell_type": "markdown",
      "metadata": {
        "id": "g6YnyYIZzmIO",
        "colab_type": "text"
      },
      "source": [
        ""
      ]
    },
    {
      "cell_type": "markdown",
      "metadata": {
        "id": "h1J5svmSzmKJ",
        "colab_type": "text"
      },
      "source": [
        ""
      ]
    },
    {
      "cell_type": "code",
      "metadata": {
        "id": "gb6IGeGBzmT2",
        "colab_type": "code",
        "colab": {}
      },
      "source": [
        ""
      ],
      "execution_count": 0,
      "outputs": []
    },
    {
      "cell_type": "code",
      "metadata": {
        "id": "U3G_e1CJzmWb",
        "colab_type": "code",
        "colab": {}
      },
      "source": [
        "\n"
      ],
      "execution_count": 0,
      "outputs": []
    },
    {
      "cell_type": "code",
      "metadata": {
        "id": "J7fEavEWzmYi",
        "colab_type": "code",
        "colab": {}
      },
      "source": [
        ""
      ],
      "execution_count": 0,
      "outputs": []
    },
    {
      "cell_type": "code",
      "metadata": {
        "id": "VUUQHjYJzlEt",
        "colab_type": "code",
        "colab": {}
      },
      "source": [
        ""
      ],
      "execution_count": 0,
      "outputs": []
    },
    {
      "cell_type": "markdown",
      "metadata": {
        "id": "2487Y6mD0HZt",
        "colab_type": "text"
      },
      "source": [
        ""
      ]
    },
    {
      "cell_type": "code",
      "metadata": {
        "id": "6bbqzjNO0Hh8",
        "colab_type": "code",
        "colab": {}
      },
      "source": [
        "\n"
      ],
      "execution_count": 0,
      "outputs": []
    },
    {
      "cell_type": "code",
      "metadata": {
        "id": "md2cW4bw1AbV",
        "colab_type": "code",
        "colab": {}
      },
      "source": [
        "\n"
      ],
      "execution_count": 0,
      "outputs": []
    },
    {
      "cell_type": "code",
      "metadata": {
        "id": "845uf_161S1D",
        "colab_type": "code",
        "colab": {}
      },
      "source": [
        ""
      ],
      "execution_count": 0,
      "outputs": []
    },
    {
      "cell_type": "code",
      "metadata": {
        "id": "8YdHm3eY18W2",
        "colab_type": "code",
        "colab": {}
      },
      "source": [
        ""
      ],
      "execution_count": 0,
      "outputs": []
    },
    {
      "cell_type": "code",
      "metadata": {
        "id": "3mJQ8R0s18v0",
        "colab_type": "code",
        "colab": {}
      },
      "source": [
        "\n",
        "\n"
      ],
      "execution_count": 0,
      "outputs": []
    }
  ]
}