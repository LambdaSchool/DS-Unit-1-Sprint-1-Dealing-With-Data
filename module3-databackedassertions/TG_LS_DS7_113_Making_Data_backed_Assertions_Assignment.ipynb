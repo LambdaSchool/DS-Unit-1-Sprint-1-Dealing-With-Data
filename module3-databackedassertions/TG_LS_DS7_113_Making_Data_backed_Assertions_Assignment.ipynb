{
  "nbformat": 4,
  "nbformat_minor": 0,
  "metadata": {
    "colab": {
      "name": "TG-LS_DS7_113_Making_Data_backed_Assertions_Assignment.ipynb",
      "version": "0.3.2",
      "provenance": [],
      "collapsed_sections": [],
      "include_colab_link": true
    },
    "kernelspec": {
      "name": "python3",
      "display_name": "Python 3"
    }
  },
  "cells": [
    {
      "cell_type": "markdown",
      "metadata": {
        "id": "view-in-github",
        "colab_type": "text"
      },
      "source": [
        "<a href=\"https://colab.research.google.com/github/ToddMG/DS-Unit-1-Sprint-1-Dealing-With-Data/blob/master/module3-databackedassertions/TG_LS_DS7_113_Making_Data_backed_Assertions_Assignment.ipynb\" target=\"_parent\"><img src=\"https://colab.research.google.com/assets/colab-badge.svg\" alt=\"Open In Colab\"/></a>"
      ]
    },
    {
      "cell_type": "markdown",
      "metadata": {
        "id": "Okfr_uhwhS1X",
        "colab_type": "text"
      },
      "source": [
        "# Lambda School Data Science - Making Data-backed Assertions\n",
        "\n",
        "This is, for many, the main point of data science - to create and support reasoned arguments based on evidence. It's not a topic to master in a day, but it is worth some focused time thinking about and structuring your approach to it."
      ]
    },
    {
      "cell_type": "markdown",
      "metadata": {
        "id": "lOqaPds9huME",
        "colab_type": "text"
      },
      "source": [
        "## Assignment - what's going on here?\n",
        "\n",
        "Consider the data in `persons.csv` (already prepared for you, in the repo for the week). It has four columns - a unique id, followed by age (in years), weight (in lbs), and exercise time (in minutes/week) of 1200 (hypothetical) people.\n",
        "\n",
        "Try to figure out which variables are possibly related to each other, and which may be confounding relationships.\n",
        "\n",
        "Try and isolate the main relationships and then communicate them using crosstabs and graphs. Share any cool graphs that you make with the rest of the class in Slack!"
      ]
    },
    {
      "cell_type": "code",
      "metadata": {
        "id": "TGUS79cOhPWj",
        "colab_type": "code",
        "colab": {}
      },
      "source": [
        "# TODO - your code here\n",
        "# Use what we did live in lecture as an example\n",
        "\n",
        "# HINT - you can find the raw URL on GitHub and potentially use that\n",
        "# to load the data with read_csv, or you can upload it yourself"
      ],
      "execution_count": 0,
      "outputs": []
    },
    {
      "cell_type": "code",
      "metadata": {
        "id": "T72PX3JhVUYa",
        "colab_type": "code",
        "colab": {}
      },
      "source": [
        "import pandas as pd"
      ],
      "execution_count": 0,
      "outputs": []
    },
    {
      "cell_type": "markdown",
      "metadata": {
        "id": "5w9-Gj5XVnQA",
        "colab_type": "text"
      },
      "source": [
        "###Load in CSV"
      ]
    },
    {
      "cell_type": "code",
      "metadata": {
        "id": "GlYnn3pZVmEN",
        "colab_type": "code",
        "colab": {}
      },
      "source": [
        "#Load csv from  github raw\n",
        "df = pd.read_csv('https://raw.githubusercontent.com/ToddMG/DS-Unit-1-Sprint-1-Dealing-With-Data/master/module3-databackedassertions/persons.csv')"
      ],
      "execution_count": 0,
      "outputs": []
    },
    {
      "cell_type": "markdown",
      "metadata": {
        "id": "CuUO8wizV1Bn",
        "colab_type": "text"
      },
      "source": [
        "###Check attributes"
      ]
    },
    {
      "cell_type": "code",
      "metadata": {
        "id": "lEp3qyX2V0RO",
        "colab_type": "code",
        "colab": {
          "base_uri": "https://localhost:8080/",
          "height": 665
        },
        "outputId": "d5036a74-52c6-4944-e6a2-bdc953d96951"
      },
      "source": [
        "#Check rows and columns\n",
        "print(df.shape, '\\n')\n",
        "\n",
        "#Check data types of each column\n",
        "print(df.info())\n",
        "\n",
        "#Check for any missing variables\n",
        "print('\\n', df.isna().sum())\n",
        "\n",
        "df.head(10)"
      ],
      "execution_count": 4,
      "outputs": [
        {
          "output_type": "stream",
          "text": [
            "(1200, 4) \n",
            "\n",
            "<class 'pandas.core.frame.DataFrame'>\n",
            "RangeIndex: 1200 entries, 0 to 1199\n",
            "Data columns (total 4 columns):\n",
            "Unnamed: 0       1200 non-null int64\n",
            "age              1200 non-null int64\n",
            "weight           1200 non-null int64\n",
            "exercise_time    1200 non-null int64\n",
            "dtypes: int64(4)\n",
            "memory usage: 37.6 KB\n",
            "None\n",
            "\n",
            " Unnamed: 0       0\n",
            "age              0\n",
            "weight           0\n",
            "exercise_time    0\n",
            "dtype: int64\n"
          ],
          "name": "stdout"
        },
        {
          "output_type": "execute_result",
          "data": {
            "text/html": [
              "<div>\n",
              "<style scoped>\n",
              "    .dataframe tbody tr th:only-of-type {\n",
              "        vertical-align: middle;\n",
              "    }\n",
              "\n",
              "    .dataframe tbody tr th {\n",
              "        vertical-align: top;\n",
              "    }\n",
              "\n",
              "    .dataframe thead th {\n",
              "        text-align: right;\n",
              "    }\n",
              "</style>\n",
              "<table border=\"1\" class=\"dataframe\">\n",
              "  <thead>\n",
              "    <tr style=\"text-align: right;\">\n",
              "      <th></th>\n",
              "      <th>Unnamed: 0</th>\n",
              "      <th>age</th>\n",
              "      <th>weight</th>\n",
              "      <th>exercise_time</th>\n",
              "    </tr>\n",
              "  </thead>\n",
              "  <tbody>\n",
              "    <tr>\n",
              "      <th>0</th>\n",
              "      <td>0</td>\n",
              "      <td>44</td>\n",
              "      <td>118</td>\n",
              "      <td>192</td>\n",
              "    </tr>\n",
              "    <tr>\n",
              "      <th>1</th>\n",
              "      <td>1</td>\n",
              "      <td>41</td>\n",
              "      <td>161</td>\n",
              "      <td>35</td>\n",
              "    </tr>\n",
              "    <tr>\n",
              "      <th>2</th>\n",
              "      <td>2</td>\n",
              "      <td>46</td>\n",
              "      <td>128</td>\n",
              "      <td>220</td>\n",
              "    </tr>\n",
              "    <tr>\n",
              "      <th>3</th>\n",
              "      <td>3</td>\n",
              "      <td>39</td>\n",
              "      <td>216</td>\n",
              "      <td>57</td>\n",
              "    </tr>\n",
              "    <tr>\n",
              "      <th>4</th>\n",
              "      <td>4</td>\n",
              "      <td>28</td>\n",
              "      <td>116</td>\n",
              "      <td>182</td>\n",
              "    </tr>\n",
              "    <tr>\n",
              "      <th>5</th>\n",
              "      <td>5</td>\n",
              "      <td>58</td>\n",
              "      <td>103</td>\n",
              "      <td>165</td>\n",
              "    </tr>\n",
              "    <tr>\n",
              "      <th>6</th>\n",
              "      <td>6</td>\n",
              "      <td>55</td>\n",
              "      <td>161</td>\n",
              "      <td>107</td>\n",
              "    </tr>\n",
              "    <tr>\n",
              "      <th>7</th>\n",
              "      <td>7</td>\n",
              "      <td>21</td>\n",
              "      <td>188</td>\n",
              "      <td>37</td>\n",
              "    </tr>\n",
              "    <tr>\n",
              "      <th>8</th>\n",
              "      <td>8</td>\n",
              "      <td>55</td>\n",
              "      <td>216</td>\n",
              "      <td>79</td>\n",
              "    </tr>\n",
              "    <tr>\n",
              "      <th>9</th>\n",
              "      <td>9</td>\n",
              "      <td>50</td>\n",
              "      <td>127</td>\n",
              "      <td>267</td>\n",
              "    </tr>\n",
              "  </tbody>\n",
              "</table>\n",
              "</div>"
            ],
            "text/plain": [
              "   Unnamed: 0  age  weight  exercise_time\n",
              "0           0   44     118            192\n",
              "1           1   41     161             35\n",
              "2           2   46     128            220\n",
              "3           3   39     216             57\n",
              "4           4   28     116            182\n",
              "5           5   58     103            165\n",
              "6           6   55     161            107\n",
              "7           7   21     188             37\n",
              "8           8   55     216             79\n",
              "9           9   50     127            267"
            ]
          },
          "metadata": {
            "tags": []
          },
          "execution_count": 4
        }
      ]
    },
    {
      "cell_type": "markdown",
      "metadata": {
        "id": "r_kVuFA5WGvW",
        "colab_type": "text"
      },
      "source": [
        "###Fix dataset"
      ]
    },
    {
      "cell_type": "code",
      "metadata": {
        "id": "XA1heTMmWGR6",
        "colab_type": "code",
        "colab": {
          "base_uri": "https://localhost:8080/",
          "height": 204
        },
        "outputId": "f23e8a00-32fd-4eb9-dfcf-6f14098199dd"
      },
      "source": [
        "df = df.rename(columns={'Unnamed: 0': 'ID'}) #Rename unnamed column to ID\n",
        "df.head(5)"
      ],
      "execution_count": 5,
      "outputs": [
        {
          "output_type": "execute_result",
          "data": {
            "text/html": [
              "<div>\n",
              "<style scoped>\n",
              "    .dataframe tbody tr th:only-of-type {\n",
              "        vertical-align: middle;\n",
              "    }\n",
              "\n",
              "    .dataframe tbody tr th {\n",
              "        vertical-align: top;\n",
              "    }\n",
              "\n",
              "    .dataframe thead th {\n",
              "        text-align: right;\n",
              "    }\n",
              "</style>\n",
              "<table border=\"1\" class=\"dataframe\">\n",
              "  <thead>\n",
              "    <tr style=\"text-align: right;\">\n",
              "      <th></th>\n",
              "      <th>ID</th>\n",
              "      <th>age</th>\n",
              "      <th>weight</th>\n",
              "      <th>exercise_time</th>\n",
              "    </tr>\n",
              "  </thead>\n",
              "  <tbody>\n",
              "    <tr>\n",
              "      <th>0</th>\n",
              "      <td>0</td>\n",
              "      <td>44</td>\n",
              "      <td>118</td>\n",
              "      <td>192</td>\n",
              "    </tr>\n",
              "    <tr>\n",
              "      <th>1</th>\n",
              "      <td>1</td>\n",
              "      <td>41</td>\n",
              "      <td>161</td>\n",
              "      <td>35</td>\n",
              "    </tr>\n",
              "    <tr>\n",
              "      <th>2</th>\n",
              "      <td>2</td>\n",
              "      <td>46</td>\n",
              "      <td>128</td>\n",
              "      <td>220</td>\n",
              "    </tr>\n",
              "    <tr>\n",
              "      <th>3</th>\n",
              "      <td>3</td>\n",
              "      <td>39</td>\n",
              "      <td>216</td>\n",
              "      <td>57</td>\n",
              "    </tr>\n",
              "    <tr>\n",
              "      <th>4</th>\n",
              "      <td>4</td>\n",
              "      <td>28</td>\n",
              "      <td>116</td>\n",
              "      <td>182</td>\n",
              "    </tr>\n",
              "  </tbody>\n",
              "</table>\n",
              "</div>"
            ],
            "text/plain": [
              "   ID  age  weight  exercise_time\n",
              "0   0   44     118            192\n",
              "1   1   41     161             35\n",
              "2   2   46     128            220\n",
              "3   3   39     216             57\n",
              "4   4   28     116            182"
            ]
          },
          "metadata": {
            "tags": []
          },
          "execution_count": 5
        }
      ]
    },
    {
      "cell_type": "markdown",
      "metadata": {
        "id": "0q_21TFrkx2c",
        "colab_type": "text"
      },
      "source": [
        "**For my test, I will be using exercise time as the target and age as the independent variable.**\n",
        "\n",
        "***Hypothesis*: as people age their tendency to exercise decreases.**"
      ]
    },
    {
      "cell_type": "markdown",
      "metadata": {
        "id": "bBbK0NLpksGr",
        "colab_type": "text"
      },
      "source": [
        "###Data Analysis"
      ]
    },
    {
      "cell_type": "code",
      "metadata": {
        "id": "4cdFDALbkupw",
        "colab_type": "code",
        "colab": {}
      },
      "source": [
        "time_bins = pd.cut(df['exercise_time'], 3)  # 6 equal-sized bins\n",
        "age_bins = pd.cut(df['age'], 6) # 6 equal-sized bins\n",
        "\n",
        "#crosstab = pd.crosstab(time_bins, age_bins) #Gives an error. Need to downgrade pandas."
      ],
      "execution_count": 0,
      "outputs": []
    },
    {
      "cell_type": "markdown",
      "metadata": {
        "id": "DHlU_zevnMLQ",
        "colab_type": "text"
      },
      "source": [
        "###Downgrading Pandas Library"
      ]
    },
    {
      "cell_type": "code",
      "metadata": {
        "id": "_C6sICF4nLwx",
        "colab_type": "code",
        "colab": {}
      },
      "source": [
        "!pip install pandas==0.23.4"
      ],
      "execution_count": 0,
      "outputs": []
    },
    {
      "cell_type": "markdown",
      "metadata": {
        "id": "Pk_CIWa3nc3s",
        "colab_type": "text"
      },
      "source": [
        "###Back to Analysis"
      ]
    },
    {
      "cell_type": "code",
      "metadata": {
        "id": "PBNv78ZcnyU-",
        "colab_type": "code",
        "colab": {
          "base_uri": "https://localhost:8080/",
          "height": 266
        },
        "outputId": "74543103-7e45-41c3-8ef7-bbeedc3fbee9"
      },
      "source": [
        "#Create cross tab with age_bins and time_bins, normalize the results and store it into a variable for later use.\n",
        "crosstab = pd.crosstab(age_bins, time_bins, normalize='columns')\n",
        "crosstab"
      ],
      "execution_count": 14,
      "outputs": [
        {
          "output_type": "execute_result",
          "data": {
            "text/html": [
              "<div>\n",
              "<style scoped>\n",
              "    .dataframe tbody tr th:only-of-type {\n",
              "        vertical-align: middle;\n",
              "    }\n",
              "\n",
              "    .dataframe tbody tr th {\n",
              "        vertical-align: top;\n",
              "    }\n",
              "\n",
              "    .dataframe thead th {\n",
              "        text-align: right;\n",
              "    }\n",
              "</style>\n",
              "<table border=\"1\" class=\"dataframe\">\n",
              "  <thead>\n",
              "    <tr style=\"text-align: right;\">\n",
              "      <th>exercise_time</th>\n",
              "      <th>(-0.3, 100.0]</th>\n",
              "      <th>(100.0, 200.0]</th>\n",
              "      <th>(200.0, 300.0]</th>\n",
              "    </tr>\n",
              "    <tr>\n",
              "      <th>age</th>\n",
              "      <th></th>\n",
              "      <th></th>\n",
              "      <th></th>\n",
              "    </tr>\n",
              "  </thead>\n",
              "  <tbody>\n",
              "    <tr>\n",
              "      <th>(17.938, 28.333]</th>\n",
              "      <td>0.126733</td>\n",
              "      <td>0.203125</td>\n",
              "      <td>0.215434</td>\n",
              "    </tr>\n",
              "    <tr>\n",
              "      <th>(28.333, 38.667]</th>\n",
              "      <td>0.158416</td>\n",
              "      <td>0.184896</td>\n",
              "      <td>0.212219</td>\n",
              "    </tr>\n",
              "    <tr>\n",
              "      <th>(38.667, 49.0]</th>\n",
              "      <td>0.132673</td>\n",
              "      <td>0.132812</td>\n",
              "      <td>0.263666</td>\n",
              "    </tr>\n",
              "    <tr>\n",
              "      <th>(49.0, 59.333]</th>\n",
              "      <td>0.110891</td>\n",
              "      <td>0.151042</td>\n",
              "      <td>0.225080</td>\n",
              "    </tr>\n",
              "    <tr>\n",
              "      <th>(59.333, 69.667]</th>\n",
              "      <td>0.192079</td>\n",
              "      <td>0.179688</td>\n",
              "      <td>0.083601</td>\n",
              "    </tr>\n",
              "    <tr>\n",
              "      <th>(69.667, 80.0]</th>\n",
              "      <td>0.279208</td>\n",
              "      <td>0.148438</td>\n",
              "      <td>0.000000</td>\n",
              "    </tr>\n",
              "  </tbody>\n",
              "</table>\n",
              "</div>"
            ],
            "text/plain": [
              "exercise_time     (-0.3, 100.0]  (100.0, 200.0]  (200.0, 300.0]\n",
              "age                                                            \n",
              "(17.938, 28.333]       0.126733        0.203125        0.215434\n",
              "(28.333, 38.667]       0.158416        0.184896        0.212219\n",
              "(38.667, 49.0]         0.132673        0.132812        0.263666\n",
              "(49.0, 59.333]         0.110891        0.151042        0.225080\n",
              "(59.333, 69.667]       0.192079        0.179688        0.083601\n",
              "(69.667, 80.0]         0.279208        0.148438        0.000000"
            ]
          },
          "metadata": {
            "tags": []
          },
          "execution_count": 14
        }
      ]
    },
    {
      "cell_type": "markdown",
      "metadata": {
        "id": "1Au57n2CpZg1",
        "colab_type": "text"
      },
      "source": [
        "###Let's do some plotting to better visualize the data."
      ]
    },
    {
      "cell_type": "code",
      "metadata": {
        "id": "N4Hj845MpETX",
        "colab_type": "code",
        "colab": {
          "base_uri": "https://localhost:8080/",
          "height": 273
        },
        "outputId": "9b0f2077-e893-4023-9285-a43c10831e16"
      },
      "source": [
        "crosstab.plot();\n",
        "#We can observe as age reaches 50 longer exercise times decrease sharply.\n",
        "#As age increases, shortest exercise times increase sharply"
      ],
      "execution_count": 9,
      "outputs": [
        {
          "output_type": "display_data",
          "data": {
            "image/png": "[encoded data removed]",
            "text/plain": [
              "<Figure size 432x288 with 1 Axes>"
            ]
          },
          "metadata": {
            "tags": []
          }
        }
      ]
    },
    {
      "cell_type": "code",
      "metadata": {
        "id": "mtokQfYIpmql",
        "colab_type": "code",
        "colab": {
          "base_uri": "https://localhost:8080/",
          "height": 697
        },
        "outputId": "ec8f7d74-67a0-44c3-91f7-8d72e93cd3d8"
      },
      "source": [
        "#Another plot\n",
        "crosstab.plot(kind='bar');\n",
        "#This plot helps us visualize the cross point where exercise times are favored almost equally. From ages 55-68.\n",
        "#We also see longer exercise times tend to peak around 40-50 years old.\n",
        "\n",
        "crosstab.plot(kind='bar', stacked=True);\n",
        "#This plot helps visualize total exercise's downward trend as age increases."
      ],
      "execution_count": 15,
      "outputs": [
        {
          "output_type": "display_data",
          "data": {
            "image/png": "[encoded data removed]",
            "text/plain": [
              "<Figure size 432x288 with 1 Axes>"
            ]
          },
          "metadata": {
            "tags": []
          }
        },
        {
          "output_type": "display_data",
          "data": {
            "image/png": "[encoded data removed]",
            "text/plain": [
              "<Figure size 432x288 with 1 Axes>"
            ]
          },
          "metadata": {
            "tags": []
          }
        }
      ]
    },
    {
      "cell_type": "markdown",
      "metadata": {
        "id": "BT9gdS7viJZa",
        "colab_type": "text"
      },
      "source": [
        "### Assignment questions\n",
        "\n",
        "After you've worked on some code, answer the following questions in this text block:\n",
        "\n",
        "1.  What are the variable types in the data?\n",
        "* Integers\n",
        "2.  What are the relationships between the variables?\n",
        "* From my test, age tends to decrease exercise time, especially after the age of 55.\n",
        "* Weight would most likely decrease as exercise time increases\n",
        "* Exercise time would most likely decrease as weight increases\n",
        "* Age would most likely decrease as weight increases\n",
        "3.  Which relationships are \"real\", and which spurious?\n",
        "* I would say every relationship I pointed out previously is real for the most part. However, I would be inclined to say exercise time doesn't directly depend on weight. Factors like motivation, spare income and time would be more likely contributing factors.\n"
      ]
    },
    {
      "cell_type": "markdown",
      "metadata": {
        "id": "_XXg2crAipwP",
        "colab_type": "text"
      },
      "source": [
        "## Stretch goals and resources\n",
        "\n",
        "Following are *optional* things for you to take a look at. Focus on the above assignment first, and make sure to commit and push your changes to GitHub.\n",
        "\n",
        "- [Spurious Correlations](http://tylervigen.com/spurious-correlations)\n",
        "- [NIH on controlling for confounding variables](https://www.ncbi.nlm.nih.gov/pmc/articles/PMC4017459/)\n",
        "\n",
        "Stretch goals:\n",
        "\n",
        "- Produce your own plot inspired by the Spurious Correlation visualizations (and consider writing a blog post about it - both the content and how you made it)\n",
        "- Pick one of the techniques that NIH highlights for confounding variables - we'll be going into many of them later, but see if you can find which Python modules may help (hint - check scikit-learn)"
      ]
    }
  ]
}