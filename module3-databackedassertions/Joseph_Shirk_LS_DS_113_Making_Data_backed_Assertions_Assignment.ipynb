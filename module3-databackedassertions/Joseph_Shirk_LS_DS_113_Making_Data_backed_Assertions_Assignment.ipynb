{
  "nbformat": 4,
  "nbformat_minor": 0,
  "metadata": {
    "colab": {
      "name": "Joseph_Shirk_LS_DS_113_Making_Data_backed_Assertions_Assignment.ipynb",
      "version": "0.3.2",
      "provenance": [],
      "collapsed_sections": [],
      "include_colab_link": true
    },
    "kernelspec": {
      "name": "python3",
      "display_name": "Python 3"
    }
  },
  "cells": [
    {
      "cell_type": "markdown",
      "metadata": {
        "id": "view-in-github",
        "colab_type": "text"
      },
      "source": [
        "<a href=\"https://colab.research.google.com/github/jbshirk/DS-Unit-1-Sprint-1-Dealing-With-Data/blob/master/module3-databackedassertions/Joseph_Shirk_LS_DS_113_Making_Data_backed_Assertions_Assignment.ipynb\" target=\"_parent\"><img src=\"https://colab.research.google.com/assets/colab-badge.svg\" alt=\"Open In Colab\"/></a>"
      ]
    },
    {
      "cell_type": "markdown",
      "metadata": {
        "id": "Okfr_uhwhS1X",
        "colab_type": "text"
      },
      "source": [
        "# Lambda School Data Science - Making Data-backed Assertions\n",
        "\n",
        "This is, for many, the main point of data science - to create and support reasoned arguments based on evidence. It's not a topic to master in a day, but it is worth some focused time thinking about and structuring your approach to it."
      ]
    },
    {
      "cell_type": "markdown",
      "metadata": {
        "id": "lOqaPds9huME",
        "colab_type": "text"
      },
      "source": [
        "## Assignment - what's going on here?\n",
        "\n",
        "Consider the data in `persons.csv` (already prepared for you, in the repo for the week). It has four columns - a unique id, followed by age (in years), weight (in lbs), and exercise time (in minutes/week) of 1200 (hypothetical) people.\n",
        "\n",
        "Try to figure out which variables are possibly related to each other, and which may be confounding relationships.\n",
        "\n",
        "Try and isolate the main relationships and then communicate them using crosstabs and graphs. Share any cool graphs that you make with the rest of the class in Slack!"
      ]
    },
    {
      "cell_type": "code",
      "metadata": {
        "id": "tZT0hQPNCGWX",
        "colab_type": "code",
        "colab": {
          "base_uri": "https://localhost:8080/",
          "height": 361
        },
        "outputId": "bab735fb-5bce-4331-eb7d-13ae0f1cac34"
      },
      "source": [
        "!pip install pandas==0.23.4"
      ],
      "execution_count": 1,
      "outputs": [
        {
          "output_type": "stream",
          "text": [
            "Collecting pandas==0.23.4\n",
            "\u001b[?25l  Downloading https://files.pythonhosted.org/packages/e1/d8/feeb346d41f181e83fba45224ab14a8d8af019b48af742e047f3845d8cff/pandas-0.23.4-cp36-cp36m-manylinux1_x86_64.whl (8.9MB)\n",
            "\u001b[K     |████████████████████████████████| 8.9MB 4.9MB/s \n",
            "\u001b[?25hRequirement already satisfied: pytz>=2011k in /usr/local/lib/python3.6/dist-packages (from pandas==0.23.4) (2018.9)\n",
            "Requirement already satisfied: numpy>=1.9.0 in /usr/local/lib/python3.6/dist-packages (from pandas==0.23.4) (1.16.5)\n",
            "Requirement already satisfied: python-dateutil>=2.5.0 in /usr/local/lib/python3.6/dist-packages (from pandas==0.23.4) (2.5.3)\n",
            "Requirement already satisfied: six>=1.5 in /usr/local/lib/python3.6/dist-packages (from python-dateutil>=2.5.0->pandas==0.23.4) (1.12.0)\n",
            "\u001b[31mERROR: google-colab 1.0.0 has requirement pandas~=0.24.0, but you'll have pandas 0.23.4 which is incompatible.\u001b[0m\n",
            "Installing collected packages: pandas\n",
            "  Found existing installation: pandas 0.24.2\n",
            "    Uninstalling pandas-0.24.2:\n",
            "      Successfully uninstalled pandas-0.24.2\n",
            "Successfully installed pandas-0.23.4\n"
          ],
          "name": "stdout"
        },
        {
          "output_type": "display_data",
          "data": {
            "application/vnd.colab-display-data+json": {
              "pip_warning": {
                "packages": [
                  "pandas"
                ]
              }
            }
          },
          "metadata": {
            "tags": []
          }
        }
      ]
    },
    {
      "cell_type": "code",
      "metadata": {
        "id": "4lztCYV6LZMS",
        "colab_type": "code",
        "colab": {}
      },
      "source": [
        "import pandas as pd\n",
        "import matplotlib.pyplot as plt\n",
        "import numpy as np\n",
        "import random \n",
        "from collections import namedtuple as nt "
      ],
      "execution_count": 0,
      "outputs": []
    },
    {
      "cell_type": "code",
      "metadata": {
        "id": "TGUS79cOhPWj",
        "colab_type": "code",
        "colab": {}
      },
      "source": [
        "person_url='https://raw.githubusercontent.com/LambdaSchool/DS-Unit-1-Sprint-1-Dealing-With-Data/master/module3-databackedassertions/persons.csv'\n",
        "df1 = pd.read_csv(person_url)"
      ],
      "execution_count": 0,
      "outputs": []
    },
    {
      "cell_type": "code",
      "metadata": {
        "id": "WC5EtloaLqWH",
        "colab_type": "code",
        "colab": {
          "base_uri": "https://localhost:8080/",
          "height": 677
        },
        "outputId": "10da5b84-1189-49ac-92f9-d664db5a5a87"
      },
      "source": [
        "df1.sample(20)"
      ],
      "execution_count": 3,
      "outputs": [
        {
          "output_type": "execute_result",
          "data": {
            "text/html": [
              "<div>\n",
              "<style scoped>\n",
              "    .dataframe tbody tr th:only-of-type {\n",
              "        vertical-align: middle;\n",
              "    }\n",
              "\n",
              "    .dataframe tbody tr th {\n",
              "        vertical-align: top;\n",
              "    }\n",
              "\n",
              "    .dataframe thead th {\n",
              "        text-align: right;\n",
              "    }\n",
              "</style>\n",
              "<table border=\"1\" class=\"dataframe\">\n",
              "  <thead>\n",
              "    <tr style=\"text-align: right;\">\n",
              "      <th></th>\n",
              "      <th>Unnamed: 0</th>\n",
              "      <th>age</th>\n",
              "      <th>weight</th>\n",
              "      <th>exercise_time</th>\n",
              "    </tr>\n",
              "  </thead>\n",
              "  <tbody>\n",
              "    <tr>\n",
              "      <th>234</th>\n",
              "      <td>234</td>\n",
              "      <td>33</td>\n",
              "      <td>105</td>\n",
              "      <td>242</td>\n",
              "    </tr>\n",
              "    <tr>\n",
              "      <th>1159</th>\n",
              "      <td>1159</td>\n",
              "      <td>50</td>\n",
              "      <td>181</td>\n",
              "      <td>24</td>\n",
              "    </tr>\n",
              "    <tr>\n",
              "      <th>915</th>\n",
              "      <td>915</td>\n",
              "      <td>41</td>\n",
              "      <td>125</td>\n",
              "      <td>211</td>\n",
              "    </tr>\n",
              "    <tr>\n",
              "      <th>664</th>\n",
              "      <td>664</td>\n",
              "      <td>20</td>\n",
              "      <td>171</td>\n",
              "      <td>62</td>\n",
              "    </tr>\n",
              "    <tr>\n",
              "      <th>723</th>\n",
              "      <td>723</td>\n",
              "      <td>24</td>\n",
              "      <td>171</td>\n",
              "      <td>89</td>\n",
              "    </tr>\n",
              "    <tr>\n",
              "      <th>1193</th>\n",
              "      <td>1193</td>\n",
              "      <td>33</td>\n",
              "      <td>106</td>\n",
              "      <td>112</td>\n",
              "    </tr>\n",
              "    <tr>\n",
              "      <th>459</th>\n",
              "      <td>459</td>\n",
              "      <td>66</td>\n",
              "      <td>214</td>\n",
              "      <td>92</td>\n",
              "    </tr>\n",
              "    <tr>\n",
              "      <th>762</th>\n",
              "      <td>762</td>\n",
              "      <td>20</td>\n",
              "      <td>165</td>\n",
              "      <td>192</td>\n",
              "    </tr>\n",
              "    <tr>\n",
              "      <th>390</th>\n",
              "      <td>390</td>\n",
              "      <td>56</td>\n",
              "      <td>214</td>\n",
              "      <td>65</td>\n",
              "    </tr>\n",
              "    <tr>\n",
              "      <th>122</th>\n",
              "      <td>122</td>\n",
              "      <td>20</td>\n",
              "      <td>106</td>\n",
              "      <td>198</td>\n",
              "    </tr>\n",
              "    <tr>\n",
              "      <th>397</th>\n",
              "      <td>397</td>\n",
              "      <td>64</td>\n",
              "      <td>178</td>\n",
              "      <td>117</td>\n",
              "    </tr>\n",
              "    <tr>\n",
              "      <th>13</th>\n",
              "      <td>13</td>\n",
              "      <td>27</td>\n",
              "      <td>165</td>\n",
              "      <td>48</td>\n",
              "    </tr>\n",
              "    <tr>\n",
              "      <th>59</th>\n",
              "      <td>59</td>\n",
              "      <td>69</td>\n",
              "      <td>153</td>\n",
              "      <td>43</td>\n",
              "    </tr>\n",
              "    <tr>\n",
              "      <th>618</th>\n",
              "      <td>618</td>\n",
              "      <td>52</td>\n",
              "      <td>178</td>\n",
              "      <td>134</td>\n",
              "    </tr>\n",
              "    <tr>\n",
              "      <th>1145</th>\n",
              "      <td>1145</td>\n",
              "      <td>29</td>\n",
              "      <td>113</td>\n",
              "      <td>188</td>\n",
              "    </tr>\n",
              "    <tr>\n",
              "      <th>316</th>\n",
              "      <td>316</td>\n",
              "      <td>64</td>\n",
              "      <td>132</td>\n",
              "      <td>108</td>\n",
              "    </tr>\n",
              "    <tr>\n",
              "      <th>31</th>\n",
              "      <td>31</td>\n",
              "      <td>40</td>\n",
              "      <td>168</td>\n",
              "      <td>115</td>\n",
              "    </tr>\n",
              "    <tr>\n",
              "      <th>10</th>\n",
              "      <td>10</td>\n",
              "      <td>21</td>\n",
              "      <td>160</td>\n",
              "      <td>228</td>\n",
              "    </tr>\n",
              "    <tr>\n",
              "      <th>480</th>\n",
              "      <td>480</td>\n",
              "      <td>49</td>\n",
              "      <td>139</td>\n",
              "      <td>101</td>\n",
              "    </tr>\n",
              "    <tr>\n",
              "      <th>838</th>\n",
              "      <td>838</td>\n",
              "      <td>55</td>\n",
              "      <td>154</td>\n",
              "      <td>5</td>\n",
              "    </tr>\n",
              "  </tbody>\n",
              "</table>\n",
              "</div>"
            ],
            "text/plain": [
              "      Unnamed: 0  age  weight  exercise_time\n",
              "234          234   33     105            242\n",
              "1159        1159   50     181             24\n",
              "915          915   41     125            211\n",
              "664          664   20     171             62\n",
              "723          723   24     171             89\n",
              "1193        1193   33     106            112\n",
              "459          459   66     214             92\n",
              "762          762   20     165            192\n",
              "390          390   56     214             65\n",
              "122          122   20     106            198\n",
              "397          397   64     178            117\n",
              "13            13   27     165             48\n",
              "59            59   69     153             43\n",
              "618          618   52     178            134\n",
              "1145        1145   29     113            188\n",
              "316          316   64     132            108\n",
              "31            31   40     168            115\n",
              "10            10   21     160            228\n",
              "480          480   49     139            101\n",
              "838          838   55     154              5"
            ]
          },
          "metadata": {
            "tags": []
          },
          "execution_count": 3
        }
      ]
    },
    {
      "cell_type": "code",
      "metadata": {
        "id": "6cow2fIakLip",
        "colab_type": "code",
        "colab": {
          "base_uri": "https://localhost:8080/",
          "height": 35
        },
        "outputId": "dad0d228-5e73-4e11-ab49-0e1bf7bd2f16"
      },
      "source": [
        "df1.columns[0]"
      ],
      "execution_count": 4,
      "outputs": [
        {
          "output_type": "execute_result",
          "data": {
            "text/plain": [
              "'Unnamed: 0'"
            ]
          },
          "metadata": {
            "tags": []
          },
          "execution_count": 4
        }
      ]
    },
    {
      "cell_type": "code",
      "metadata": {
        "id": "XMxcvqoFje1d",
        "colab_type": "code",
        "colab": {}
      },
      "source": [
        "# first column is a redundant and useless index\n",
        "\n",
        "df1 = df1.drop(['Unnamed: 0'],axis=1)"
      ],
      "execution_count": 0,
      "outputs": []
    },
    {
      "cell_type": "code",
      "metadata": {
        "id": "FLa6Bhn9mwHh",
        "colab_type": "code",
        "colab": {
          "base_uri": "https://localhost:8080/",
          "height": 88
        },
        "outputId": "5a10bbd3-b1af-4d6d-a0be-f729d17d53b3"
      },
      "source": [
        "df1.isna().sum()"
      ],
      "execution_count": 6,
      "outputs": [
        {
          "output_type": "execute_result",
          "data": {
            "text/plain": [
              "age              0\n",
              "weight           0\n",
              "exercise_time    0\n",
              "dtype: int64"
            ]
          },
          "metadata": {
            "tags": []
          },
          "execution_count": 6
        }
      ]
    },
    {
      "cell_type": "code",
      "metadata": {
        "id": "hu9-VUd_pYsq",
        "colab_type": "code",
        "colab": {
          "base_uri": "https://localhost:8080/",
          "height": 300
        },
        "outputId": "2414cc8e-4372-41f4-a1aa-b5daacefbfb5"
      },
      "source": [
        "df1.describe()"
      ],
      "execution_count": 8,
      "outputs": [
        {
          "output_type": "execute_result",
          "data": {
            "text/html": [
              "<div>\n",
              "<style scoped>\n",
              "    .dataframe tbody tr th:only-of-type {\n",
              "        vertical-align: middle;\n",
              "    }\n",
              "\n",
              "    .dataframe tbody tr th {\n",
              "        vertical-align: top;\n",
              "    }\n",
              "\n",
              "    .dataframe thead th {\n",
              "        text-align: right;\n",
              "    }\n",
              "</style>\n",
              "<table border=\"1\" class=\"dataframe\">\n",
              "  <thead>\n",
              "    <tr style=\"text-align: right;\">\n",
              "      <th></th>\n",
              "      <th>age</th>\n",
              "      <th>weight</th>\n",
              "      <th>exercise_time</th>\n",
              "    </tr>\n",
              "  </thead>\n",
              "  <tbody>\n",
              "    <tr>\n",
              "      <th>count</th>\n",
              "      <td>1200.000000</td>\n",
              "      <td>1200.000000</td>\n",
              "      <td>1200.000000</td>\n",
              "    </tr>\n",
              "    <tr>\n",
              "      <th>mean</th>\n",
              "      <td>48.396667</td>\n",
              "      <td>153.540833</td>\n",
              "      <td>134.910833</td>\n",
              "    </tr>\n",
              "    <tr>\n",
              "      <th>std</th>\n",
              "      <td>18.166802</td>\n",
              "      <td>35.132182</td>\n",
              "      <td>85.548895</td>\n",
              "    </tr>\n",
              "    <tr>\n",
              "      <th>min</th>\n",
              "      <td>18.000000</td>\n",
              "      <td>100.000000</td>\n",
              "      <td>0.000000</td>\n",
              "    </tr>\n",
              "    <tr>\n",
              "      <th>25%</th>\n",
              "      <td>33.000000</td>\n",
              "      <td>125.000000</td>\n",
              "      <td>65.000000</td>\n",
              "    </tr>\n",
              "    <tr>\n",
              "      <th>50%</th>\n",
              "      <td>48.000000</td>\n",
              "      <td>149.000000</td>\n",
              "      <td>122.000000</td>\n",
              "    </tr>\n",
              "    <tr>\n",
              "      <th>75%</th>\n",
              "      <td>64.000000</td>\n",
              "      <td>180.250000</td>\n",
              "      <td>206.000000</td>\n",
              "    </tr>\n",
              "    <tr>\n",
              "      <th>max</th>\n",
              "      <td>80.000000</td>\n",
              "      <td>246.000000</td>\n",
              "      <td>300.000000</td>\n",
              "    </tr>\n",
              "  </tbody>\n",
              "</table>\n",
              "</div>"
            ],
            "text/plain": [
              "               age       weight  exercise_time\n",
              "count  1200.000000  1200.000000    1200.000000\n",
              "mean     48.396667   153.540833     134.910833\n",
              "std      18.166802    35.132182      85.548895\n",
              "min      18.000000   100.000000       0.000000\n",
              "25%      33.000000   125.000000      65.000000\n",
              "50%      48.000000   149.000000     122.000000\n",
              "75%      64.000000   180.250000     206.000000\n",
              "max      80.000000   246.000000     300.000000"
            ]
          },
          "metadata": {
            "tags": []
          },
          "execution_count": 8
        }
      ]
    },
    {
      "cell_type": "markdown",
      "metadata": {
        "id": "YWN7c02_p4o9",
        "colab_type": "text"
      },
      "source": [
        "## Exercise time crosstab\n",
        "\n",
        "I could not think of any meaningful crosstabulation for these features."
      ]
    },
    {
      "cell_type": "code",
      "metadata": {
        "id": "Yv9BWxnsm73q",
        "colab_type": "code",
        "colab": {}
      },
      "source": [
        "?plt.plot()"
      ],
      "execution_count": 0,
      "outputs": []
    },
    {
      "cell_type": "code",
      "metadata": {
        "id": "LYHtIkY9aJlA",
        "colab_type": "code",
        "colab": {
          "base_uri": "https://localhost:8080/",
          "height": 567
        },
        "outputId": "d1a048d0-5550-4cf3-83a3-b37e9c49b7db"
      },
      "source": [
        "df1.plot.scatter('age', 'exercise_time')\n",
        "df1.plot.scatter('weight', 'exercise_time')"
      ],
      "execution_count": 19,
      "outputs": [
        {
          "output_type": "execute_result",
          "data": {
            "text/plain": [
              "<matplotlib.axes._subplots.AxesSubplot at 0x7fa113cabbe0>"
            ]
          },
          "metadata": {
            "tags": []
          },
          "execution_count": 19
        },
        {
          "output_type": "display_data",
          "data": {
            "image/png": "[encoded data removed]",
            "text/plain": [
              "<Figure size 432x288 with 1 Axes>"
            ]
          },
          "metadata": {
            "tags": []
          }
        },
        {
          "output_type": "display_data",
          "data": {
            "image/png": "[encoded data removed]",
            "text/plain": [
              "<Figure size 432x288 with 1 Axes>"
            ]
          },
          "metadata": {
            "tags": []
          }
        }
      ]
    },
    {
      "cell_type": "markdown",
      "metadata": {
        "id": "lS9V0UpAqVdL",
        "colab_type": "text"
      },
      "source": [
        "## Scatter plot\n",
        "shows that exercise time, if we assume it to mean measure of cardiovascular capacity (instead of, suppose, average daily exercise habit) - people of any age or weight can be 'all over the map' in terms of cardiovascular health.\n",
        "\n",
        "There is no measure of weight loss, so it is quite unreasonable to suppose an inverted relationship between exercise time and weight.\n",
        "\n",
        "It is not possible to assume that exercise time has an influence on age.\n"
      ]
    },
    {
      "cell_type": "markdown",
      "metadata": {
        "id": "BT9gdS7viJZa",
        "colab_type": "text"
      },
      "source": [
        "### Assignment questions\n",
        "\n",
        "After you've worked on some code, answer the following questions in this text block:\n",
        "\n",
        "1.  What are the variable types in the data?\n",
        "> Each observation has age, weight, exercise time ; \n",
        "> * age is independent, continuous but could be treated as ordinal in buckets\n",
        "> * weight is independent, continuous\n",
        "> * excersise_time is apparently dependent, continuous\n",
        "2.  What are the relationships between the variables?\n",
        "> * age and weight are exclusively independent of each other\n",
        "> * exercise_time 'appears' to be dependent\n",
        "3.  Which relationships are \"real\", and which spurious?\n",
        "> * exercise_time appears to be a function of age and weight but in reality reflects a hidden/missing measure of \"cardiovascular health.\" \n",
        "> * There are certainly some \"old\" people in good health, and while certainly cardiovascular capacity naturally decreases with age in general, more likely \"weight\" would be a better indicator of cardiovascular health over all ages -but only if it were possible to know whether the person is obese: without measures of body fat percentage and height, this cannot be inferred. A very \"big\" or tall person is not necessarily overweight nor in poor cardiovascular health.\n"
      ]
    },
    {
      "cell_type": "markdown",
      "metadata": {
        "id": "vuEpUwA9AoK0",
        "colab_type": "text"
      },
      "source": [
        "## Weight and Age bins\n"
      ]
    },
    {
      "cell_type": "code",
      "metadata": {
        "id": "leodTSgbAu8x",
        "colab_type": "code",
        "colab": {}
      },
      "source": [
        "abins = [18, 30, 42, 54, 66, 80]\n",
        "wbins = [90, 130, 160, 190, 220, 250]\n",
        "weight_bins = pd.cut(df1['weight'],wbins)\n",
        "age_bins = pd.cut(df1['age'],abins)"
      ],
      "execution_count": 0,
      "outputs": []
    },
    {
      "cell_type": "code",
      "metadata": {
        "id": "YGxDfd0UD5wA",
        "colab_type": "code",
        "colab": {}
      },
      "source": [
        "?pd.crosstab #actually not helpful"
      ],
      "execution_count": 0,
      "outputs": []
    },
    {
      "cell_type": "markdown",
      "metadata": {
        "id": "F8YD6iD6FI04",
        "colab_type": "text"
      },
      "source": [
        "https://pandas.pydata.org/pandas-docs/version/0.23.4/generated/pandas.crosstab.html\n",
        "\n",
        "Inexcusable that agg funcs are not listed or not even a link!\n",
        "\n",
        "Only trivial examples!\n",
        "\n",
        "https://pandas.pydata.org/pandas-docs/stable/reference/api/pandas.pivot_table.html\n",
        "better examples but no guarantee of congruent syntax.\n"
      ]
    },
    {
      "cell_type": "code",
      "metadata": {
        "id": "OA5Id8IkJ0Yi",
        "colab_type": "code",
        "colab": {}
      },
      "source": [
        "pd.crosstab(df1['weight'],age_bins) # just gives counts"
      ],
      "execution_count": 0,
      "outputs": []
    },
    {
      "cell_type": "code",
      "metadata": {
        "id": "SViF0GhdKxoI",
        "colab_type": "code",
        "colab": {}
      },
      "source": [
        "pd.crosstab(df1['weight'],age_bins,values=df1['exercise_time'], aggfunc=np.mean)"
      ],
      "execution_count": 0,
      "outputs": []
    },
    {
      "cell_type": "markdown",
      "metadata": {
        "id": "u9vpCFFeLcA-",
        "colab_type": "text"
      },
      "source": [
        "an improvement but really need that weight bin!"
      ]
    },
    {
      "cell_type": "code",
      "metadata": {
        "id": "FUzUM_ttLZl1",
        "colab_type": "code",
        "colab": {
          "base_uri": "https://localhost:8080/",
          "height": 238
        },
        "outputId": "e52b3054-adc9-4e1a-85f5-78dcd5827238"
      },
      "source": [
        "pd.crosstab(weight_bins,age_bins,values=df1['exercise_time'], aggfunc=np.mean)"
      ],
      "execution_count": 47,
      "outputs": [
        {
          "output_type": "execute_result",
          "data": {
            "text/html": [
              "<div>\n",
              "<style scoped>\n",
              "    .dataframe tbody tr th:only-of-type {\n",
              "        vertical-align: middle;\n",
              "    }\n",
              "\n",
              "    .dataframe tbody tr th {\n",
              "        vertical-align: top;\n",
              "    }\n",
              "\n",
              "    .dataframe thead th {\n",
              "        text-align: right;\n",
              "    }\n",
              "</style>\n",
              "<table border=\"1\" class=\"dataframe\">\n",
              "  <thead>\n",
              "    <tr style=\"text-align: right;\">\n",
              "      <th>age</th>\n",
              "      <th>(18, 30]</th>\n",
              "      <th>(30, 42]</th>\n",
              "      <th>(42, 54]</th>\n",
              "      <th>(54, 66]</th>\n",
              "      <th>(66, 80]</th>\n",
              "    </tr>\n",
              "    <tr>\n",
              "      <th>weight</th>\n",
              "      <th></th>\n",
              "      <th></th>\n",
              "      <th></th>\n",
              "      <th></th>\n",
              "      <th></th>\n",
              "    </tr>\n",
              "  </thead>\n",
              "  <tbody>\n",
              "    <tr>\n",
              "      <th>(90, 130]</th>\n",
              "      <td>185.039474</td>\n",
              "      <td>186.451923</td>\n",
              "      <td>205.972222</td>\n",
              "      <td>171.741379</td>\n",
              "      <td>93.106061</td>\n",
              "    </tr>\n",
              "    <tr>\n",
              "      <th>(130, 160]</th>\n",
              "      <td>169.784810</td>\n",
              "      <td>178.075758</td>\n",
              "      <td>187.927273</td>\n",
              "      <td>166.066667</td>\n",
              "      <td>97.848485</td>\n",
              "    </tr>\n",
              "    <tr>\n",
              "      <th>(160, 190]</th>\n",
              "      <td>120.866667</td>\n",
              "      <td>117.723404</td>\n",
              "      <td>123.418605</td>\n",
              "      <td>103.931818</td>\n",
              "      <td>84.000000</td>\n",
              "    </tr>\n",
              "    <tr>\n",
              "      <th>(190, 220]</th>\n",
              "      <td>73.806452</td>\n",
              "      <td>61.290323</td>\n",
              "      <td>72.208333</td>\n",
              "      <td>75.761905</td>\n",
              "      <td>67.422222</td>\n",
              "    </tr>\n",
              "    <tr>\n",
              "      <th>(220, 250]</th>\n",
              "      <td>21.400000</td>\n",
              "      <td>18.000000</td>\n",
              "      <td>22.800000</td>\n",
              "      <td>22.000000</td>\n",
              "      <td>38.526316</td>\n",
              "    </tr>\n",
              "  </tbody>\n",
              "</table>\n",
              "</div>"
            ],
            "text/plain": [
              "age           (18, 30]    (30, 42]    (42, 54]    (54, 66]   (66, 80]\n",
              "weight                                                               \n",
              "(90, 130]   185.039474  186.451923  205.972222  171.741379  93.106061\n",
              "(130, 160]  169.784810  178.075758  187.927273  166.066667  97.848485\n",
              "(160, 190]  120.866667  117.723404  123.418605  103.931818  84.000000\n",
              "(190, 220]   73.806452   61.290323   72.208333   75.761905  67.422222\n",
              "(220, 250]   21.400000   18.000000   22.800000   22.000000  38.526316"
            ]
          },
          "metadata": {
            "tags": []
          },
          "execution_count": 47
        }
      ]
    },
    {
      "cell_type": "markdown",
      "metadata": {
        "id": "_XXg2crAipwP",
        "colab_type": "text"
      },
      "source": [
        "## Stretch goals and resources\n",
        "\n",
        "Following are *optional* things for you to take a look at. Focus on the above assignment first, and make sure to commit and push your changes to GitHub.\n",
        "\n",
        "- [Spurious Correlations](http://tylervigen.com/spurious-correlations)\n",
        "- [NIH on controlling for confounding variables](https://www.ncbi.nlm.nih.gov/pmc/articles/PMC4017459/)\n",
        "\n",
        "Stretch goals:\n",
        "\n",
        "- Produce your own plot inspired by the Spurious Correlation visualizations (and consider writing a blog post about it - both the content and how you made it)\n",
        "- Pick one of the techniques that NIH highlights for confounding variables - we'll be going into many of them later, but see if you can find which Python modules may help (hint - check scikit-learn)"
      ]
    }
  ]
}