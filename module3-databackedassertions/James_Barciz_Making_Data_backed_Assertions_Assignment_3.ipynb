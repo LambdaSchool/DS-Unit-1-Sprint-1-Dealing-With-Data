{
  "nbformat": 4,
  "nbformat_minor": 0,
  "metadata": {
    "colab": {
      "name": "James Barciz - Making Data-backed Assertions - Assignment 3",
      "version": "0.3.2",
      "provenance": [],
      "collapsed_sections": [],
      "include_colab_link": true
    },
    "kernelspec": {
      "name": "python3",
      "display_name": "Python 3"
    }
  },
  "cells": [
    {
      "cell_type": "markdown",
      "metadata": {
        "id": "view-in-github",
        "colab_type": "text"
      },
      "source": [
        "<a href=\"https://colab.research.google.com/github/JamesBarciz/DS-Unit-1-Sprint-1-Dealing-With-Data/blob/master/module3-databackedassertions/James_Barciz_Making_Data_backed_Assertions_Assignment_3.ipynb\" target=\"_parent\"><img src=\"https://colab.research.google.com/assets/colab-badge.svg\" alt=\"Open In Colab\"/></a>"
      ]
    },
    {
      "cell_type": "markdown",
      "metadata": {
        "id": "Okfr_uhwhS1X",
        "colab_type": "text"
      },
      "source": [
        "# Lambda School Data Science - Making Data-backed Assertions\n",
        "\n",
        "This is, for many, the main point of data science - to create and support reasoned arguments based on evidence. It's not a topic to master in a day, but it is worth some focused time thinking about and structuring your approach to it."
      ]
    },
    {
      "cell_type": "markdown",
      "metadata": {
        "id": "lOqaPds9huME",
        "colab_type": "text"
      },
      "source": [
        "## Assignment - what's going on here?\n",
        "\n",
        "Consider the data in `persons.csv` (already prepared for you, in the repo for the week). It has four columns - a unique id, followed by age (in years), weight (in lbs), and exercise time (in minutes/week) of 1200 (hypothetical) people.\n",
        "\n",
        "Try to figure out which variables are possibly related to each other, and which may be confounding relationships.\n",
        "\n",
        "Try and isolate the main relationships and then communicate them using crosstabs and graphs. Share any cool graphs that you make with the rest of the class in Slack!"
      ]
    },
    {
      "cell_type": "code",
      "metadata": {
        "id": "TGUS79cOhPWj",
        "colab_type": "code",
        "colab": {
          "base_uri": "https://localhost:8080/",
          "height": 201
        },
        "outputId": "8212e555-85be-4b0c-b961-eeef98cab306"
      },
      "source": [
        "# TODO - your code here\n",
        "# Use what we did live in lecture as an example\n",
        "\n",
        "# HINT - you can find the raw URL on GitHub and potentially use that\n",
        "# to load the data with read_csv, or you can upload it yourself\n",
        "\n",
        "import pandas as pd\n",
        "\n",
        "url = 'https://raw.githubusercontent.com/JamesBarciz/DS-Unit-1-Sprint-1-Dealing-With-Data/master/module3-databackedassertions/persons.csv'\n",
        "\n",
        "df = pd.read_csv(url)\n",
        "df.head()"
      ],
      "execution_count": 53,
      "outputs": [
        {
          "output_type": "execute_result",
          "data": {
            "text/html": [
              "<div>\n",
              "<style scoped>\n",
              "    .dataframe tbody tr th:only-of-type {\n",
              "        vertical-align: middle;\n",
              "    }\n",
              "\n",
              "    .dataframe tbody tr th {\n",
              "        vertical-align: top;\n",
              "    }\n",
              "\n",
              "    .dataframe thead th {\n",
              "        text-align: right;\n",
              "    }\n",
              "</style>\n",
              "<table border=\"1\" class=\"dataframe\">\n",
              "  <thead>\n",
              "    <tr style=\"text-align: right;\">\n",
              "      <th></th>\n",
              "      <th>Unnamed: 0</th>\n",
              "      <th>age</th>\n",
              "      <th>weight</th>\n",
              "      <th>exercise_time</th>\n",
              "    </tr>\n",
              "  </thead>\n",
              "  <tbody>\n",
              "    <tr>\n",
              "      <th>0</th>\n",
              "      <td>0</td>\n",
              "      <td>44</td>\n",
              "      <td>118</td>\n",
              "      <td>192</td>\n",
              "    </tr>\n",
              "    <tr>\n",
              "      <th>1</th>\n",
              "      <td>1</td>\n",
              "      <td>41</td>\n",
              "      <td>161</td>\n",
              "      <td>35</td>\n",
              "    </tr>\n",
              "    <tr>\n",
              "      <th>2</th>\n",
              "      <td>2</td>\n",
              "      <td>46</td>\n",
              "      <td>128</td>\n",
              "      <td>220</td>\n",
              "    </tr>\n",
              "    <tr>\n",
              "      <th>3</th>\n",
              "      <td>3</td>\n",
              "      <td>39</td>\n",
              "      <td>216</td>\n",
              "      <td>57</td>\n",
              "    </tr>\n",
              "    <tr>\n",
              "      <th>4</th>\n",
              "      <td>4</td>\n",
              "      <td>28</td>\n",
              "      <td>116</td>\n",
              "      <td>182</td>\n",
              "    </tr>\n",
              "  </tbody>\n",
              "</table>\n",
              "</div>"
            ],
            "text/plain": [
              "   Unnamed: 0  age  weight  exercise_time\n",
              "0           0   44     118            192\n",
              "1           1   41     161             35\n",
              "2           2   46     128            220\n",
              "3           3   39     216             57\n",
              "4           4   28     116            182"
            ]
          },
          "metadata": {
            "tags": []
          },
          "execution_count": 53
        }
      ]
    },
    {
      "cell_type": "code",
      "metadata": {
        "id": "4ZL7CgbKuvgk",
        "colab_type": "code",
        "colab": {
          "base_uri": "https://localhost:8080/",
          "height": 34
        },
        "outputId": "3a6ea547-f8d9-43e2-83ed-706c21a1ed80"
      },
      "source": [
        "#!pip install pandas==0.23.4\n",
        "pd.__version__"
      ],
      "execution_count": 54,
      "outputs": [
        {
          "output_type": "execute_result",
          "data": {
            "text/plain": [
              "'0.23.4'"
            ]
          },
          "metadata": {
            "tags": []
          },
          "execution_count": 54
        }
      ]
    },
    {
      "cell_type": "code",
      "metadata": {
        "id": "0_M0pC4ytYin",
        "colab_type": "code",
        "colab": {}
      },
      "source": [
        "age_bins = pd.cut(df['age'], 6, precision=0) # 6 bins to get bins each covering apx 10 years.\n",
        "weight_bins = pd.cut(df['weight'], 4, precision=0)\n",
        "time_bins = pd.cut(df['exercise_time'], 3, precision=0) # 3 bins each covering a range of 100 min."
      ],
      "execution_count": 0,
      "outputs": []
    },
    {
      "cell_type": "code",
      "metadata": {
        "id": "fJueWAdGyqEQ",
        "colab_type": "code",
        "colab": {
          "base_uri": "https://localhost:8080/",
          "height": 170
        },
        "outputId": "fca4051b-f609-4033-ecb8-a90fea39b589"
      },
      "source": [
        "pd.crosstab(time_bins, age_bins, normalize='columns')\n",
        "\n",
        "# Between Time and Age"
      ],
      "execution_count": 56,
      "outputs": [
        {
          "output_type": "execute_result",
          "data": {
            "text/html": [
              "<div>\n",
              "<style scoped>\n",
              "    .dataframe tbody tr th:only-of-type {\n",
              "        vertical-align: middle;\n",
              "    }\n",
              "\n",
              "    .dataframe tbody tr th {\n",
              "        vertical-align: top;\n",
              "    }\n",
              "\n",
              "    .dataframe thead th {\n",
              "        text-align: right;\n",
              "    }\n",
              "</style>\n",
              "<table border=\"1\" class=\"dataframe\">\n",
              "  <thead>\n",
              "    <tr style=\"text-align: right;\">\n",
              "      <th>age</th>\n",
              "      <th>(18.0, 28.0]</th>\n",
              "      <th>(28.0, 39.0]</th>\n",
              "      <th>(39.0, 49.0]</th>\n",
              "      <th>(49.0, 59.0]</th>\n",
              "      <th>(59.0, 70.0]</th>\n",
              "      <th>(70.0, 80.0]</th>\n",
              "    </tr>\n",
              "    <tr>\n",
              "      <th>exercise_time</th>\n",
              "      <th></th>\n",
              "      <th></th>\n",
              "      <th></th>\n",
              "      <th></th>\n",
              "      <th></th>\n",
              "      <th></th>\n",
              "    </tr>\n",
              "  </thead>\n",
              "  <tbody>\n",
              "    <tr>\n",
              "      <th>(-0.0, 100.0]</th>\n",
              "      <td>0.306220</td>\n",
              "      <td>0.368664</td>\n",
              "      <td>0.335</td>\n",
              "      <td>0.304348</td>\n",
              "      <td>0.505208</td>\n",
              "      <td>0.712121</td>\n",
              "    </tr>\n",
              "    <tr>\n",
              "      <th>(100.0, 200.0]</th>\n",
              "      <td>0.373206</td>\n",
              "      <td>0.327189</td>\n",
              "      <td>0.255</td>\n",
              "      <td>0.315217</td>\n",
              "      <td>0.359375</td>\n",
              "      <td>0.287879</td>\n",
              "    </tr>\n",
              "    <tr>\n",
              "      <th>(200.0, 300.0]</th>\n",
              "      <td>0.320574</td>\n",
              "      <td>0.304147</td>\n",
              "      <td>0.410</td>\n",
              "      <td>0.380435</td>\n",
              "      <td>0.135417</td>\n",
              "      <td>0.000000</td>\n",
              "    </tr>\n",
              "  </tbody>\n",
              "</table>\n",
              "</div>"
            ],
            "text/plain": [
              "age             (18.0, 28.0]      ...       (70.0, 80.0]\n",
              "exercise_time                     ...                   \n",
              "(-0.0, 100.0]       0.306220      ...           0.712121\n",
              "(100.0, 200.0]      0.373206      ...           0.287879\n",
              "(200.0, 300.0]      0.320574      ...           0.000000\n",
              "\n",
              "[3 rows x 6 columns]"
            ]
          },
          "metadata": {
            "tags": []
          },
          "execution_count": 56
        }
      ]
    },
    {
      "cell_type": "code",
      "metadata": {
        "id": "g1jJvSis1HA5",
        "colab_type": "code",
        "colab": {
          "base_uri": "https://localhost:8080/",
          "height": 344
        },
        "outputId": "76cc1076-8157-475b-a5bc-3f9b508b45c8"
      },
      "source": [
        "ct1 = pd.crosstab(time_bins, age_bins, normalize='columns')\n",
        "\n",
        "ct1.plot(kind='bar').legend(bbox_to_anchor=(1.2, 0.5));"
      ],
      "execution_count": 57,
      "outputs": [
        {
          "output_type": "display_data",
          "data": {
            "image/png": "[encoded data removed]",
            "text/plain": [
              "<Figure size 432x288 with 1 Axes>"
            ]
          },
          "metadata": {
            "tags": []
          }
        }
      ]
    },
    {
      "cell_type": "code",
      "metadata": {
        "id": "qhqwK_6fy7Qi",
        "colab_type": "code",
        "colab": {
          "base_uri": "https://localhost:8080/",
          "height": 170
        },
        "outputId": "0db9d466-6214-4026-dc5c-0a6f72178812"
      },
      "source": [
        "pd.crosstab(time_bins, weight_bins, normalize='columns')\n",
        "\n",
        "# Between time and weight"
      ],
      "execution_count": 58,
      "outputs": [
        {
          "output_type": "execute_result",
          "data": {
            "text/html": [
              "<div>\n",
              "<style scoped>\n",
              "    .dataframe tbody tr th:only-of-type {\n",
              "        vertical-align: middle;\n",
              "    }\n",
              "\n",
              "    .dataframe tbody tr th {\n",
              "        vertical-align: top;\n",
              "    }\n",
              "\n",
              "    .dataframe thead th {\n",
              "        text-align: right;\n",
              "    }\n",
              "</style>\n",
              "<table border=\"1\" class=\"dataframe\">\n",
              "  <thead>\n",
              "    <tr style=\"text-align: right;\">\n",
              "      <th>weight</th>\n",
              "      <th>(100.0, 136.0]</th>\n",
              "      <th>(136.0, 173.0]</th>\n",
              "      <th>(173.0, 210.0]</th>\n",
              "      <th>(210.0, 246.0]</th>\n",
              "    </tr>\n",
              "    <tr>\n",
              "      <th>exercise_time</th>\n",
              "      <th></th>\n",
              "      <th></th>\n",
              "      <th></th>\n",
              "      <th></th>\n",
              "    </tr>\n",
              "  </thead>\n",
              "  <tbody>\n",
              "    <tr>\n",
              "      <th>(-0.0, 100.0]</th>\n",
              "      <td>0.253304</td>\n",
              "      <td>0.365239</td>\n",
              "      <td>0.604743</td>\n",
              "      <td>0.958333</td>\n",
              "    </tr>\n",
              "    <tr>\n",
              "      <th>(100.0, 200.0]</th>\n",
              "      <td>0.319383</td>\n",
              "      <td>0.350126</td>\n",
              "      <td>0.379447</td>\n",
              "      <td>0.041667</td>\n",
              "    </tr>\n",
              "    <tr>\n",
              "      <th>(200.0, 300.0]</th>\n",
              "      <td>0.427313</td>\n",
              "      <td>0.284635</td>\n",
              "      <td>0.015810</td>\n",
              "      <td>0.000000</td>\n",
              "    </tr>\n",
              "  </tbody>\n",
              "</table>\n",
              "</div>"
            ],
            "text/plain": [
              "weight          (100.0, 136.0]       ...        (210.0, 246.0]\n",
              "exercise_time                        ...                      \n",
              "(-0.0, 100.0]         0.253304       ...              0.958333\n",
              "(100.0, 200.0]        0.319383       ...              0.041667\n",
              "(200.0, 300.0]        0.427313       ...              0.000000\n",
              "\n",
              "[3 rows x 4 columns]"
            ]
          },
          "metadata": {
            "tags": []
          },
          "execution_count": 58
        }
      ]
    },
    {
      "cell_type": "code",
      "metadata": {
        "id": "CXTPf3pO28pE",
        "colab_type": "code",
        "colab": {
          "base_uri": "https://localhost:8080/",
          "height": 344
        },
        "outputId": "761a91f8-8c1d-478d-86e7-d951e6bd5760"
      },
      "source": [
        "ct2 = pd.crosstab(time_bins, weight_bins, normalize='columns')\n",
        "ct2.plot(kind='bar').legend(bbox_to_anchor=(1, 0.5));\n",
        "\n",
        "# The lower the range of weight, the more likely to exercise longer\n",
        "# The higher the range of weight, the less likely to exercise longer"
      ],
      "execution_count": 59,
      "outputs": [
        {
          "output_type": "display_data",
          "data": {
            "image/png": "[encoded data removed]",
            "text/plain": [
              "<Figure size 432x288 with 1 Axes>"
            ]
          },
          "metadata": {
            "tags": []
          }
        }
      ]
    },
    {
      "cell_type": "code",
      "metadata": {
        "id": "Bk-571VnzOT-",
        "colab_type": "code",
        "colab": {
          "base_uri": "https://localhost:8080/",
          "height": 201
        },
        "outputId": "16c0fe6f-ff72-4e90-bacc-346b1d55b309"
      },
      "source": [
        "# Normalizing the columns between weight bins and age bins\n",
        "pd.crosstab(weight_bins, age_bins, normalize='columns')"
      ],
      "execution_count": 60,
      "outputs": [
        {
          "output_type": "execute_result",
          "data": {
            "text/html": [
              "<div>\n",
              "<style scoped>\n",
              "    .dataframe tbody tr th:only-of-type {\n",
              "        vertical-align: middle;\n",
              "    }\n",
              "\n",
              "    .dataframe tbody tr th {\n",
              "        vertical-align: top;\n",
              "    }\n",
              "\n",
              "    .dataframe thead th {\n",
              "        text-align: right;\n",
              "    }\n",
              "</style>\n",
              "<table border=\"1\" class=\"dataframe\">\n",
              "  <thead>\n",
              "    <tr style=\"text-align: right;\">\n",
              "      <th>age</th>\n",
              "      <th>(18.0, 28.0]</th>\n",
              "      <th>(28.0, 39.0]</th>\n",
              "      <th>(39.0, 49.0]</th>\n",
              "      <th>(49.0, 59.0]</th>\n",
              "      <th>(59.0, 70.0]</th>\n",
              "      <th>(70.0, 80.0]</th>\n",
              "    </tr>\n",
              "    <tr>\n",
              "      <th>weight</th>\n",
              "      <th></th>\n",
              "      <th></th>\n",
              "      <th></th>\n",
              "      <th></th>\n",
              "      <th></th>\n",
              "      <th></th>\n",
              "    </tr>\n",
              "  </thead>\n",
              "  <tbody>\n",
              "    <tr>\n",
              "      <th>(100.0, 136.0]</th>\n",
              "      <td>0.382775</td>\n",
              "      <td>0.437788</td>\n",
              "      <td>0.425</td>\n",
              "      <td>0.418478</td>\n",
              "      <td>0.302083</td>\n",
              "      <td>0.297980</td>\n",
              "    </tr>\n",
              "    <tr>\n",
              "      <th>(136.0, 173.0]</th>\n",
              "      <td>0.387560</td>\n",
              "      <td>0.313364</td>\n",
              "      <td>0.335</td>\n",
              "      <td>0.304348</td>\n",
              "      <td>0.333333</td>\n",
              "      <td>0.308081</td>\n",
              "    </tr>\n",
              "    <tr>\n",
              "      <th>(173.0, 210.0]</th>\n",
              "      <td>0.167464</td>\n",
              "      <td>0.193548</td>\n",
              "      <td>0.175</td>\n",
              "      <td>0.211957</td>\n",
              "      <td>0.265625</td>\n",
              "      <td>0.257576</td>\n",
              "    </tr>\n",
              "    <tr>\n",
              "      <th>(210.0, 246.0]</th>\n",
              "      <td>0.062201</td>\n",
              "      <td>0.055300</td>\n",
              "      <td>0.065</td>\n",
              "      <td>0.065217</td>\n",
              "      <td>0.098958</td>\n",
              "      <td>0.136364</td>\n",
              "    </tr>\n",
              "  </tbody>\n",
              "</table>\n",
              "</div>"
            ],
            "text/plain": [
              "age             (18.0, 28.0]      ...       (70.0, 80.0]\n",
              "weight                            ...                   \n",
              "(100.0, 136.0]      0.382775      ...           0.297980\n",
              "(136.0, 173.0]      0.387560      ...           0.308081\n",
              "(173.0, 210.0]      0.167464      ...           0.257576\n",
              "(210.0, 246.0]      0.062201      ...           0.136364\n",
              "\n",
              "[4 rows x 6 columns]"
            ]
          },
          "metadata": {
            "tags": []
          },
          "execution_count": 60
        }
      ]
    },
    {
      "cell_type": "code",
      "metadata": {
        "id": "dmX_IRCz3yuL",
        "colab_type": "code",
        "colab": {
          "base_uri": "https://localhost:8080/",
          "height": 344
        },
        "outputId": "cf780cc4-ebab-436c-e49c-9bc9ebefb49b"
      },
      "source": [
        "ct3 = pd.crosstab(weight_bins, age_bins, normalize='columns')\n",
        "ct3.plot(kind='bar').legend(bbox_to_anchor=(1, 0.5));"
      ],
      "execution_count": 61,
      "outputs": [
        {
          "output_type": "display_data",
          "data": {
            "image/png": "[encoded data removed]",
            "text/plain": [
              "<Figure size 432x288 with 1 Axes>"
            ]
          },
          "metadata": {
            "tags": []
          }
        }
      ]
    },
    {
      "cell_type": "markdown",
      "metadata": {
        "id": "BT9gdS7viJZa",
        "colab_type": "text"
      },
      "source": [
        "### Assignment questions\n",
        "\n",
        "After you've worked on some code, answer the following questions in this text block:\n",
        "\n",
        "1.  What are the variable types in the data?\n",
        "-- The variable types used in the data are a mix of floats and integers.\n",
        "2.  What are the relationships between the variables?\n",
        "-- I believe the main relationships are between time spent exercising and both weight and age.\n",
        "3.  Which relationships are \"real\", and which spurious?\n",
        "-- The real relationships are between time spent exercising and either age or weight whereas the relationship between age and weight as well as the id of the hypothetical person are spurious."
      ]
    },
    {
      "cell_type": "markdown",
      "metadata": {
        "id": "_XXg2crAipwP",
        "colab_type": "text"
      },
      "source": [
        "## Stretch goals and resources\n",
        "\n",
        "Following are *optional* things for you to take a look at. Focus on the above assignment first, and make sure to commit and push your changes to GitHub.\n",
        "\n",
        "- [Spurious Correlations](http://tylervigen.com/spurious-correlations)\n",
        "- [NIH on controlling for confounding variables](https://www.ncbi.nlm.nih.gov/pmc/articles/PMC4017459/)\n",
        "\n",
        "Stretch goals:\n",
        "\n",
        "- Produce your own plot inspired by the Spurious Correlation visualizations (and consider writing a blog post about it - both the content and how you made it)\n",
        "- Pick one of the techniques that NIH highlights for confounding variables - we'll be going into many of them later, but see if you can find which Python modules may help (hint - check scikit-learn)"
      ]
    }
  ]
}