{
  "nbformat": 4,
  "nbformat_minor": 0,
  "metadata": {
    "colab": {
      "name": "LS_DS_113_Making_Data_backed_Assertions_Assignment.ipynb",
      "version": "0.3.2",
      "provenance": [],
      "collapsed_sections": [],
      "include_colab_link": true
    },
    "kernelspec": {
      "name": "python3",
      "display_name": "Python 3"
    }
  },
  "cells": [
    {
      "cell_type": "markdown",
      "metadata": {
        "id": "view-in-github",
        "colab_type": "text"
      },
      "source": [
        "<a href=\"https://colab.research.google.com/github/FuriouStyles/DS-Unit-1-Sprint-1-Dealing-With-Data/blob/master/module3-databackedassertions/LS_DS_113_Making_Data_backed_Assertions_Assignment.ipynb\" target=\"_parent\"><img src=\"https://colab.research.google.com/assets/colab-badge.svg\" alt=\"Open In Colab\"/></a>"
      ]
    },
    {
      "cell_type": "markdown",
      "metadata": {
        "id": "Okfr_uhwhS1X",
        "colab_type": "text"
      },
      "source": [
        "# Lambda School Data Science - Making Data-backed Assertions\n",
        "\n",
        "This is, for many, the main point of data science - to create and support reasoned arguments based on evidence. It's not a topic to master in a day, but it is worth some focused time thinking about and structuring your approach to it."
      ]
    },
    {
      "cell_type": "markdown",
      "metadata": {
        "id": "lOqaPds9huME",
        "colab_type": "text"
      },
      "source": [
        "## Assignment - what's going on here?\n",
        "\n",
        "Consider the data in `persons.csv` (already prepared for you, in the repo for the week). It has four columns - a unique id, followed by age (in years), weight (in lbs), and exercise time (in minutes/week) of 1200 (hypothetical) people.\n",
        "\n",
        "Try to figure out which variables are possibly related to each other, and which may be confounding relationships.\n",
        "\n",
        "Try and isolate the main relationships and then communicate them using crosstabs and graphs. Share any cool graphs that you make with the rest of the class in Slack!"
      ]
    },
    {
      "cell_type": "code",
      "metadata": {
        "id": "TGUS79cOhPWj",
        "colab_type": "code",
        "colab": {
          "base_uri": "https://localhost:8080/",
          "height": 323
        },
        "outputId": "1d6121ea-943e-4c07-d056-e87101aff7dd"
      },
      "source": [
        "!pip install pandas==0.23.4"
      ],
      "execution_count": 13,
      "outputs": [
        {
          "output_type": "stream",
          "text": [
            "Collecting pandas==0.23.4\n",
            "\u001b[?25l  Downloading https://files.pythonhosted.org/packages/e1/d8/feeb346d41f181e83fba45224ab14a8d8af019b48af742e047f3845d8cff/pandas-0.23.4-cp36-cp36m-manylinux1_x86_64.whl (8.9MB)\n",
            "\u001b[K     |████████████████████████████████| 8.9MB 2.8MB/s \n",
            "\u001b[?25hRequirement already satisfied: python-dateutil>=2.5.0 in /usr/local/lib/python3.6/dist-packages (from pandas==0.23.4) (2.5.3)\n",
            "Requirement already satisfied: pytz>=2011k in /usr/local/lib/python3.6/dist-packages (from pandas==0.23.4) (2018.9)\n",
            "Requirement already satisfied: numpy>=1.9.0 in /usr/local/lib/python3.6/dist-packages (from pandas==0.23.4) (1.16.5)\n",
            "Requirement already satisfied: six>=1.5 in /usr/local/lib/python3.6/dist-packages (from python-dateutil>=2.5.0->pandas==0.23.4) (1.12.0)\n",
            "\u001b[31mERROR: google-colab 1.0.0 has requirement pandas~=0.24.0, but you'll have pandas 0.23.4 which is incompatible.\u001b[0m\n",
            "Installing collected packages: pandas\n",
            "  Found existing installation: pandas 0.24.2\n",
            "    Uninstalling pandas-0.24.2:\n",
            "      Successfully uninstalled pandas-0.24.2\n",
            "Successfully installed pandas-0.23.4\n"
          ],
          "name": "stdout"
        },
        {
          "output_type": "display_data",
          "data": {
            "application/vnd.colab-display-data+json": {
              "pip_warning": {
                "packages": [
                  "pandas"
                ]
              }
            }
          },
          "metadata": {
            "tags": []
          }
        }
      ]
    },
    {
      "cell_type": "code",
      "metadata": {
        "id": "88o1nWty2CVo",
        "colab_type": "code",
        "colab": {}
      },
      "source": [
        "import pandas as pd\n",
        "\n",
        "persons_data_url = \"https://raw.githubusercontent.com/FuriouStyles/DS-Unit-1-Sprint-1-Dealing-With-Data/master/module3-databackedassertions/persons.csv\"\n",
        "df = pd.read_csv(persons_data_url)"
      ],
      "execution_count": 0,
      "outputs": []
    },
    {
      "cell_type": "code",
      "metadata": {
        "id": "A6-cb7iw36Zx",
        "colab_type": "code",
        "colab": {
          "base_uri": "https://localhost:8080/",
          "height": 204
        },
        "outputId": "1032623b-2019-44b8-9284-2c167cfe4ca1"
      },
      "source": [
        "# There isn't enough data here to cross tabulate anything yet, so we will create \n",
        "# a new column filled with a binary true/false that shows whether or not a \n",
        "# person is active according to the American Heart Association. \n",
        "# https://www.heart.org/en/healthy-living/fitness/fitness-basics/aha-recs-for-physical-activity-in-adults\n",
        "\n",
        "df['is_active'] = df['exercise_time'] > 75\n",
        "df.head()"
      ],
      "execution_count": 3,
      "outputs": [
        {
          "output_type": "execute_result",
          "data": {
            "text/html": [
              "<div>\n",
              "<style scoped>\n",
              "    .dataframe tbody tr th:only-of-type {\n",
              "        vertical-align: middle;\n",
              "    }\n",
              "\n",
              "    .dataframe tbody tr th {\n",
              "        vertical-align: top;\n",
              "    }\n",
              "\n",
              "    .dataframe thead th {\n",
              "        text-align: right;\n",
              "    }\n",
              "</style>\n",
              "<table border=\"1\" class=\"dataframe\">\n",
              "  <thead>\n",
              "    <tr style=\"text-align: right;\">\n",
              "      <th></th>\n",
              "      <th>Unnamed: 0</th>\n",
              "      <th>age</th>\n",
              "      <th>weight</th>\n",
              "      <th>exercise_time</th>\n",
              "      <th>is_active</th>\n",
              "    </tr>\n",
              "  </thead>\n",
              "  <tbody>\n",
              "    <tr>\n",
              "      <th>0</th>\n",
              "      <td>0</td>\n",
              "      <td>44</td>\n",
              "      <td>118</td>\n",
              "      <td>192</td>\n",
              "      <td>True</td>\n",
              "    </tr>\n",
              "    <tr>\n",
              "      <th>1</th>\n",
              "      <td>1</td>\n",
              "      <td>41</td>\n",
              "      <td>161</td>\n",
              "      <td>35</td>\n",
              "      <td>False</td>\n",
              "    </tr>\n",
              "    <tr>\n",
              "      <th>2</th>\n",
              "      <td>2</td>\n",
              "      <td>46</td>\n",
              "      <td>128</td>\n",
              "      <td>220</td>\n",
              "      <td>True</td>\n",
              "    </tr>\n",
              "    <tr>\n",
              "      <th>3</th>\n",
              "      <td>3</td>\n",
              "      <td>39</td>\n",
              "      <td>216</td>\n",
              "      <td>57</td>\n",
              "      <td>False</td>\n",
              "    </tr>\n",
              "    <tr>\n",
              "      <th>4</th>\n",
              "      <td>4</td>\n",
              "      <td>28</td>\n",
              "      <td>116</td>\n",
              "      <td>182</td>\n",
              "      <td>True</td>\n",
              "    </tr>\n",
              "  </tbody>\n",
              "</table>\n",
              "</div>"
            ],
            "text/plain": [
              "   Unnamed: 0  age  weight  exercise_time  is_active\n",
              "0           0   44     118            192       True\n",
              "1           1   41     161             35      False\n",
              "2           2   46     128            220       True\n",
              "3           3   39     216             57      False\n",
              "4           4   28     116            182       True"
            ]
          },
          "metadata": {
            "tags": []
          },
          "execution_count": 3
        }
      ]
    },
    {
      "cell_type": "code",
      "metadata": {
        "id": "3PhRe1NZ5gMs",
        "colab_type": "code",
        "colab": {
          "base_uri": "https://localhost:8080/",
          "height": 297
        },
        "outputId": "b9ed9023-6ce4-4c5f-df97-fa656d747a2f"
      },
      "source": [
        "# Crosstabulate and bin\n",
        "age_bins = pd.cut(df['age'], 6)\n",
        "weight_bins = pd.cut(df['weight'], 6)\n",
        "pd.crosstab(age_bins, [weight_bins, df['is_active']])"
      ],
      "execution_count": 10,
      "outputs": [
        {
          "output_type": "execute_result",
          "data": {
            "text/html": [
              "<div>\n",
              "<style scoped>\n",
              "    .dataframe tbody tr th:only-of-type {\n",
              "        vertical-align: middle;\n",
              "    }\n",
              "\n",
              "    .dataframe tbody tr th {\n",
              "        vertical-align: top;\n",
              "    }\n",
              "\n",
              "    .dataframe thead tr th {\n",
              "        text-align: left;\n",
              "    }\n",
              "\n",
              "    .dataframe thead tr:last-of-type th {\n",
              "        text-align: right;\n",
              "    }\n",
              "</style>\n",
              "<table border=\"1\" class=\"dataframe\">\n",
              "  <thead>\n",
              "    <tr>\n",
              "      <th>weight</th>\n",
              "      <th colspan=\"2\" halign=\"left\">(99.854, 124.333]</th>\n",
              "      <th colspan=\"2\" halign=\"left\">(124.333, 148.667]</th>\n",
              "      <th colspan=\"2\" halign=\"left\">(148.667, 173.0]</th>\n",
              "      <th colspan=\"2\" halign=\"left\">(173.0, 197.333]</th>\n",
              "      <th colspan=\"2\" halign=\"left\">(197.333, 221.667]</th>\n",
              "      <th colspan=\"2\" halign=\"left\">(221.667, 246.0]</th>\n",
              "    </tr>\n",
              "    <tr>\n",
              "      <th>is_active</th>\n",
              "      <th>False</th>\n",
              "      <th>True</th>\n",
              "      <th>False</th>\n",
              "      <th>True</th>\n",
              "      <th>False</th>\n",
              "      <th>True</th>\n",
              "      <th>False</th>\n",
              "      <th>True</th>\n",
              "      <th>False</th>\n",
              "      <th>True</th>\n",
              "      <th>False</th>\n",
              "      <th>True</th>\n",
              "    </tr>\n",
              "    <tr>\n",
              "      <th>age</th>\n",
              "      <th></th>\n",
              "      <th></th>\n",
              "      <th></th>\n",
              "      <th></th>\n",
              "      <th></th>\n",
              "      <th></th>\n",
              "      <th></th>\n",
              "      <th></th>\n",
              "      <th></th>\n",
              "      <th></th>\n",
              "      <th></th>\n",
              "      <th></th>\n",
              "    </tr>\n",
              "  </thead>\n",
              "  <tbody>\n",
              "    <tr>\n",
              "      <th>(17.938, 28.333]</th>\n",
              "      <td>8</td>\n",
              "      <td>48</td>\n",
              "      <td>8</td>\n",
              "      <td>49</td>\n",
              "      <td>3</td>\n",
              "      <td>45</td>\n",
              "      <td>10</td>\n",
              "      <td>13</td>\n",
              "      <td>12</td>\n",
              "      <td>8</td>\n",
              "      <td>5</td>\n",
              "      <td>0</td>\n",
              "    </tr>\n",
              "    <tr>\n",
              "      <th>(28.333, 38.667]</th>\n",
              "      <td>11</td>\n",
              "      <td>59</td>\n",
              "      <td>9</td>\n",
              "      <td>40</td>\n",
              "      <td>11</td>\n",
              "      <td>33</td>\n",
              "      <td>11</td>\n",
              "      <td>17</td>\n",
              "      <td>14</td>\n",
              "      <td>8</td>\n",
              "      <td>4</td>\n",
              "      <td>0</td>\n",
              "    </tr>\n",
              "    <tr>\n",
              "      <th>(38.667, 49.0]</th>\n",
              "      <td>3</td>\n",
              "      <td>46</td>\n",
              "      <td>8</td>\n",
              "      <td>56</td>\n",
              "      <td>8</td>\n",
              "      <td>31</td>\n",
              "      <td>8</td>\n",
              "      <td>14</td>\n",
              "      <td>10</td>\n",
              "      <td>11</td>\n",
              "      <td>5</td>\n",
              "      <td>0</td>\n",
              "    </tr>\n",
              "    <tr>\n",
              "      <th>(49.0, 59.333]</th>\n",
              "      <td>8</td>\n",
              "      <td>42</td>\n",
              "      <td>4</td>\n",
              "      <td>46</td>\n",
              "      <td>9</td>\n",
              "      <td>24</td>\n",
              "      <td>10</td>\n",
              "      <td>18</td>\n",
              "      <td>8</td>\n",
              "      <td>14</td>\n",
              "      <td>1</td>\n",
              "      <td>0</td>\n",
              "    </tr>\n",
              "    <tr>\n",
              "      <th>(59.333, 69.667]</th>\n",
              "      <td>9</td>\n",
              "      <td>21</td>\n",
              "      <td>7</td>\n",
              "      <td>41</td>\n",
              "      <td>10</td>\n",
              "      <td>34</td>\n",
              "      <td>11</td>\n",
              "      <td>21</td>\n",
              "      <td>19</td>\n",
              "      <td>10</td>\n",
              "      <td>9</td>\n",
              "      <td>0</td>\n",
              "    </tr>\n",
              "    <tr>\n",
              "      <th>(69.667, 80.0]</th>\n",
              "      <td>17</td>\n",
              "      <td>22</td>\n",
              "      <td>19</td>\n",
              "      <td>17</td>\n",
              "      <td>19</td>\n",
              "      <td>26</td>\n",
              "      <td>17</td>\n",
              "      <td>18</td>\n",
              "      <td>17</td>\n",
              "      <td>11</td>\n",
              "      <td>13</td>\n",
              "      <td>2</td>\n",
              "    </tr>\n",
              "  </tbody>\n",
              "</table>\n",
              "</div>"
            ],
            "text/plain": [
              "weight           (99.854, 124.333]        ...  (221.667, 246.0]      \n",
              "is_active                    False True   ...             False True \n",
              "age                                       ...                        \n",
              "(17.938, 28.333]                 8    48  ...                 5     0\n",
              "(28.333, 38.667]                11    59  ...                 4     0\n",
              "(38.667, 49.0]                   3    46  ...                 5     0\n",
              "(49.0, 59.333]                   8    42  ...                 1     0\n",
              "(59.333, 69.667]                 9    21  ...                 9     0\n",
              "(69.667, 80.0]                  17    22  ...                13     2\n",
              "\n",
              "[6 rows x 12 columns]"
            ]
          },
          "metadata": {
            "tags": []
          },
          "execution_count": 10
        }
      ]
    },
    {
      "cell_type": "code",
      "metadata": {
        "id": "GyGODWVkC0De",
        "colab_type": "code",
        "colab": {
          "base_uri": "https://localhost:8080/",
          "height": 495
        },
        "outputId": "25c275d2-375b-4556-8adc-bafa88af4fff"
      },
      "source": [
        "# This crosstabulation tells us something that is easily recognizable: if you are\n",
        "# not active as defined by the American Heart Association then you are significantly\n",
        "# more likely to be heavier regardless of your age. Visualizing this crosstabulation\n",
        "# would be very messy, however we can see this trend in the bar\n",
        "# plot below when age is not taken into account at all.\n",
        "ctab = pd.crosstab(weight_bins, df['is_active'])\n",
        "ctab.plot(kind='bar', figsize=(8,6))"
      ],
      "execution_count": 23,
      "outputs": [
        {
          "output_type": "execute_result",
          "data": {
            "text/plain": [
              "<matplotlib.axes._subplots.AxesSubplot at 0x7fb7d972e7f0>"
            ]
          },
          "metadata": {
            "tags": []
          },
          "execution_count": 23
        },
        {
          "output_type": "display_data",
          "data": {
            "image/png": "[encoded data removed]",
            "text/plain": [
              "<Figure size 576x432 with 1 Axes>"
            ]
          },
          "metadata": {
            "tags": []
          }
        }
      ]
    },
    {
      "cell_type": "markdown",
      "metadata": {
        "id": "BT9gdS7viJZa",
        "colab_type": "text"
      },
      "source": [
        "### Assignment questions\n",
        "\n",
        "After you've worked on some code, answer the following questions in this text block:\n",
        "\n",
        "1.  What are the variable types in the data?\n",
        "2.  What are the relationships between the variables?\n",
        "3.  Which relationships are \"real\", and which spurious?\n"
      ]
    },
    {
      "cell_type": "markdown",
      "metadata": {
        "id": "YxagJHRWNkJX",
        "colab_type": "text"
      },
      "source": [
        "### Assignment Answers\n",
        "\n",
        "\n",
        "\n",
        "1.   There are a number of different kinds of data. Age and weight are both continuous variables. Exercise time is a measured variable.  \n",
        "2.   There is a clear relationship between weight and exercise time. Those that lead an active lifestyle as defined by the American Heart Association, which is more than 75 minutes per week of vigorous aerobic activity, are much less likely to be heavier.\n",
        "3.   The relationship with activity levels and weight are clear, and age appears to be the confounding variable that doesn't have as much of an impact on weight as I would have thought. \n",
        "\n",
        "\n"
      ]
    },
    {
      "cell_type": "markdown",
      "metadata": {
        "id": "_XXg2crAipwP",
        "colab_type": "text"
      },
      "source": [
        "## Stretch goals and resources\n",
        "\n",
        "Following are *optional* things for you to take a look at. Focus on the above assignment first, and make sure to commit and push your changes to GitHub.\n",
        "\n",
        "- [Spurious Correlations](http://tylervigen.com/spurious-correlations)\n",
        "- [NIH on controlling for confounding variables](https://www.ncbi.nlm.nih.gov/pmc/articles/PMC4017459/)\n",
        "\n",
        "Stretch goals:\n",
        "\n",
        "- Produce your own plot inspired by the Spurious Correlation visualizations (and consider writing a blog post about it - both the content and how you made it)\n",
        "- Pick one of the techniques that NIH highlights for confounding variables - we'll be going into many of them later, but see if you can find which Python modules may help (hint - check scikit-learn)"
      ]
    }
  ]
}