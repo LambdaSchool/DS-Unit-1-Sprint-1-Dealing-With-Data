{
  "nbformat": 4,
  "nbformat_minor": 0,
  "metadata": {
    "colab": {
      "name": "LS_DS_113_Making_Data_backed_Assertions_Assignment.ipynb",
      "version": "0.3.2",
      "provenance": [],
      "collapsed_sections": [],
      "include_colab_link": true
    },
    "kernelspec": {
      "name": "python3",
      "display_name": "Python 3"
    }
  },
  "cells": [
    {
      "cell_type": "markdown",
      "metadata": {
        "id": "view-in-github",
        "colab_type": "text"
      },
      "source": [
        "<a href=\"https://colab.research.google.com/github/owenburton/DS-Unit-1-Sprint-1-Dealing-With-Data/blob/master/module3-databackedassertions/LS_DS_113_Making_Data_backed_Assertions_Assignment.ipynb\" target=\"_parent\"><img src=\"https://colab.research.google.com/assets/colab-badge.svg\" alt=\"Open In Colab\"/></a>"
      ]
    },
    {
      "cell_type": "markdown",
      "metadata": {
        "id": "Okfr_uhwhS1X",
        "colab_type": "text"
      },
      "source": [
        "# Lambda School Data Science - Making Data-backed Assertions\n",
        "\n",
        "This is, for many, the main point of data science - to create and support reasoned arguments based on evidence. It's not a topic to master in a day, but it is worth some focused time thinking about and structuring your approach to it."
      ]
    },
    {
      "cell_type": "markdown",
      "metadata": {
        "id": "lOqaPds9huME",
        "colab_type": "text"
      },
      "source": [
        "## Assignment - what's going on here?\n",
        "\n",
        "Consider the data in `persons.csv` (already prepared for you, in the repo for the week). It has four columns - a unique id, followed by age (in years), weight (in lbs), and exercise time (in minutes/week) of 1200 (hypothetical) people.\n",
        "\n",
        "Try to figure out which variables are possibly related to each other, and which may be confounding relationships.\n",
        "\n",
        "Try and isolate the main relationships and then communicate them using crosstabs and graphs. Share any cool graphs that you make with the rest of the class in Slack!"
      ]
    },
    {
      "cell_type": "code",
      "metadata": {
        "id": "TGUS79cOhPWj",
        "colab_type": "code",
        "colab": {
          "base_uri": "https://localhost:8080/",
          "height": 206
        },
        "outputId": "a262df97-797e-475a-faf0-32fef8ade043"
      },
      "source": [
        "# TODO - your code here\n",
        "# Use what we did live in lecture as an example\n",
        "\n",
        "# HINT - you can find the raw URL on GitHub and potentially use that\n",
        "# to load the data with read_csv, or you can upload it yourself\n",
        "\n",
        "# Importing libraries\n",
        "import pandas as pd\n",
        "\n",
        "# Loading the data as dataframe \"df\"\n",
        "df = pd.read_csv('https://raw.githubusercontent.com/LambdaSchool/DS-Unit-1-Sprint-1-Dealing-With-Data/master/module3-databackedassertions/persons.csv')\n",
        "\n",
        "df.head()"
      ],
      "execution_count": 3,
      "outputs": [
        {
          "output_type": "execute_result",
          "data": {
            "text/html": [
              "<div>\n",
              "<style scoped>\n",
              "    .dataframe tbody tr th:only-of-type {\n",
              "        vertical-align: middle;\n",
              "    }\n",
              "\n",
              "    .dataframe tbody tr th {\n",
              "        vertical-align: top;\n",
              "    }\n",
              "\n",
              "    .dataframe thead th {\n",
              "        text-align: right;\n",
              "    }\n",
              "</style>\n",
              "<table border=\"1\" class=\"dataframe\">\n",
              "  <thead>\n",
              "    <tr style=\"text-align: right;\">\n",
              "      <th></th>\n",
              "      <th>Unnamed: 0</th>\n",
              "      <th>age</th>\n",
              "      <th>weight</th>\n",
              "      <th>exercise_time</th>\n",
              "    </tr>\n",
              "  </thead>\n",
              "  <tbody>\n",
              "    <tr>\n",
              "      <th>0</th>\n",
              "      <td>0</td>\n",
              "      <td>44</td>\n",
              "      <td>118</td>\n",
              "      <td>192</td>\n",
              "    </tr>\n",
              "    <tr>\n",
              "      <th>1</th>\n",
              "      <td>1</td>\n",
              "      <td>41</td>\n",
              "      <td>161</td>\n",
              "      <td>35</td>\n",
              "    </tr>\n",
              "    <tr>\n",
              "      <th>2</th>\n",
              "      <td>2</td>\n",
              "      <td>46</td>\n",
              "      <td>128</td>\n",
              "      <td>220</td>\n",
              "    </tr>\n",
              "    <tr>\n",
              "      <th>3</th>\n",
              "      <td>3</td>\n",
              "      <td>39</td>\n",
              "      <td>216</td>\n",
              "      <td>57</td>\n",
              "    </tr>\n",
              "    <tr>\n",
              "      <th>4</th>\n",
              "      <td>4</td>\n",
              "      <td>28</td>\n",
              "      <td>116</td>\n",
              "      <td>182</td>\n",
              "    </tr>\n",
              "  </tbody>\n",
              "</table>\n",
              "</div>"
            ],
            "text/plain": [
              "   Unnamed: 0  age  weight  exercise_time\n",
              "0           0   44     118            192\n",
              "1           1   41     161             35\n",
              "2           2   46     128            220\n",
              "3           3   39     216             57\n",
              "4           4   28     116            182"
            ]
          },
          "metadata": {
            "tags": []
          },
          "execution_count": 3
        }
      ]
    },
    {
      "cell_type": "markdown",
      "metadata": {
        "id": "cq7i3tJTGrd4",
        "colab_type": "text"
      },
      "source": [
        "#What's going on here, really?\n",
        "###This as a summary of what I found using the code below.\n",
        "\n",
        "- I could use exercise time as my target, or y variable. Age and weight are the independent, or x variables. \n",
        "- There's a general inverse relationship between weight and exercise time.\n",
        "- Here, age may be a confounding variable, because there are certain spikes in exersize time that don't follow the otherwise downward trend as one ages. Specifically, people start exercising a bit more in middle age, which skews things a tad. \n",
        "- You can see these observations illustrated by the following crosstabs and graphs."
      ]
    },
    {
      "cell_type": "code",
      "metadata": {
        "id": "qR91toAa2mUS",
        "colab_type": "code",
        "colab": {
          "base_uri": "https://localhost:8080/",
          "height": 349
        },
        "outputId": "f27d4377-58ca-40eb-a3c5-ab10dfab6278"
      },
      "source": [
        "# Installing older version of pandas.\n",
        "!pip install pandas==0.23.4"
      ],
      "execution_count": 19,
      "outputs": [
        {
          "output_type": "stream",
          "text": [
            "Collecting pandas==0.23.4\n",
            "\u001b[?25l  Downloading https://files.pythonhosted.org/packages/e1/d8/feeb346d41f181e83fba45224ab14a8d8af019b48af742e047f3845d8cff/pandas-0.23.4-cp36-cp36m-manylinux1_x86_64.whl (8.9MB)\n",
            "\u001b[K     |████████████████████████████████| 8.9MB 2.8MB/s \n",
            "\u001b[?25hRequirement already satisfied: numpy>=1.9.0 in /usr/local/lib/python3.6/dist-packages (from pandas==0.23.4) (1.16.4)\n",
            "Requirement already satisfied: pytz>=2011k in /usr/local/lib/python3.6/dist-packages (from pandas==0.23.4) (2018.9)\n",
            "Requirement already satisfied: python-dateutil>=2.5.0 in /usr/local/lib/python3.6/dist-packages (from pandas==0.23.4) (2.5.3)\n",
            "Requirement already satisfied: six>=1.5 in /usr/local/lib/python3.6/dist-packages (from python-dateutil>=2.5.0->pandas==0.23.4) (1.12.0)\n",
            "\u001b[31mERROR: google-colab 1.0.0 has requirement pandas~=0.24.0, but you'll have pandas 0.23.4 which is incompatible.\u001b[0m\n",
            "Installing collected packages: pandas\n",
            "  Found existing installation: pandas 0.24.2\n",
            "    Uninstalling pandas-0.24.2:\n",
            "      Successfully uninstalled pandas-0.24.2\n",
            "Successfully installed pandas-0.23.4\n"
          ],
          "name": "stdout"
        },
        {
          "output_type": "display_data",
          "data": {
            "application/vnd.colab-display-data+json": {
              "pip_warning": {
                "packages": [
                  "pandas"
                ]
              }
            }
          },
          "metadata": {
            "tags": []
          }
        }
      ]
    },
    {
      "cell_type": "code",
      "metadata": {
        "id": "B2YrgK40zRTM",
        "colab_type": "code",
        "colab": {
          "base_uri": "https://localhost:8080/",
          "height": 34
        },
        "outputId": "fe144859-5f0d-4543-b8b5-12fd8520f9af"
      },
      "source": [
        "# My hypothesis is that age and weight have a linear relationship, while age and exercise time have an inverse relationship. \n",
        "# It follows from my hypothesis that weight and exercize time have an inverse relationship as well.\n",
        "\n",
        "# Checking to see if I have the older version.\n",
        "import pandas as pd\n",
        "pd.__version__"
      ],
      "execution_count": 3,
      "outputs": [
        {
          "output_type": "execute_result",
          "data": {
            "text/plain": [
              "'0.23.4'"
            ]
          },
          "metadata": {
            "tags": []
          },
          "execution_count": 3
        }
      ]
    },
    {
      "cell_type": "code",
      "metadata": {
        "id": "i0Lz4qwU3UrP",
        "colab_type": "code",
        "colab": {
          "base_uri": "https://localhost:8080/",
          "height": 268
        },
        "outputId": "f46cf295-034e-4b0a-d44e-8223597dd712"
      },
      "source": [
        "# Loading the data\n",
        "df = pd.read_csv('https://raw.githubusercontent.com/LambdaSchool/DS-Unit-1-Sprint-1-Dealing-With-Data/master/module3-databackedassertions/persons.csv')\n",
        "\n",
        "# Making it easier to \"see\" the data by grouping each feature in intervals.\n",
        "age_bins = pd.cut(df.age, 6)\n",
        "weight_bins = pd.cut(df.weight, 6)\n",
        "exercise_time_bins = pd.cut(df.exercise_time, 6)\n",
        "\n",
        "# Creating a crosstab of the weight and age features as percents.\n",
        "pd.crosstab(age_bins, weight_bins, normalize='columns')"
      ],
      "execution_count": 44,
      "outputs": [
        {
          "output_type": "execute_result",
          "data": {
            "text/html": [
              "<div>\n",
              "<style scoped>\n",
              "    .dataframe tbody tr th:only-of-type {\n",
              "        vertical-align: middle;\n",
              "    }\n",
              "\n",
              "    .dataframe tbody tr th {\n",
              "        vertical-align: top;\n",
              "    }\n",
              "\n",
              "    .dataframe thead th {\n",
              "        text-align: right;\n",
              "    }\n",
              "</style>\n",
              "<table border=\"1\" class=\"dataframe\">\n",
              "  <thead>\n",
              "    <tr style=\"text-align: right;\">\n",
              "      <th>weight</th>\n",
              "      <th>(99.854, 124.333]</th>\n",
              "      <th>(124.333, 148.667]</th>\n",
              "      <th>(148.667, 173.0]</th>\n",
              "      <th>(173.0, 197.333]</th>\n",
              "      <th>(197.333, 221.667]</th>\n",
              "      <th>(221.667, 246.0]</th>\n",
              "    </tr>\n",
              "    <tr>\n",
              "      <th>age</th>\n",
              "      <th></th>\n",
              "      <th></th>\n",
              "      <th></th>\n",
              "      <th></th>\n",
              "      <th></th>\n",
              "      <th></th>\n",
              "    </tr>\n",
              "  </thead>\n",
              "  <tbody>\n",
              "    <tr>\n",
              "      <th>(17.938, 28.333]</th>\n",
              "      <td>0.190476</td>\n",
              "      <td>0.187500</td>\n",
              "      <td>0.189723</td>\n",
              "      <td>0.136905</td>\n",
              "      <td>0.140845</td>\n",
              "      <td>0.128205</td>\n",
              "    </tr>\n",
              "    <tr>\n",
              "      <th>(28.333, 38.667]</th>\n",
              "      <td>0.238095</td>\n",
              "      <td>0.161184</td>\n",
              "      <td>0.173913</td>\n",
              "      <td>0.166667</td>\n",
              "      <td>0.154930</td>\n",
              "      <td>0.102564</td>\n",
              "    </tr>\n",
              "    <tr>\n",
              "      <th>(38.667, 49.0]</th>\n",
              "      <td>0.166667</td>\n",
              "      <td>0.210526</td>\n",
              "      <td>0.154150</td>\n",
              "      <td>0.130952</td>\n",
              "      <td>0.147887</td>\n",
              "      <td>0.128205</td>\n",
              "    </tr>\n",
              "    <tr>\n",
              "      <th>(49.0, 59.333]</th>\n",
              "      <td>0.170068</td>\n",
              "      <td>0.164474</td>\n",
              "      <td>0.130435</td>\n",
              "      <td>0.166667</td>\n",
              "      <td>0.154930</td>\n",
              "      <td>0.025641</td>\n",
              "    </tr>\n",
              "    <tr>\n",
              "      <th>(59.333, 69.667]</th>\n",
              "      <td>0.102041</td>\n",
              "      <td>0.157895</td>\n",
              "      <td>0.173913</td>\n",
              "      <td>0.190476</td>\n",
              "      <td>0.204225</td>\n",
              "      <td>0.230769</td>\n",
              "    </tr>\n",
              "    <tr>\n",
              "      <th>(69.667, 80.0]</th>\n",
              "      <td>0.132653</td>\n",
              "      <td>0.118421</td>\n",
              "      <td>0.177866</td>\n",
              "      <td>0.208333</td>\n",
              "      <td>0.197183</td>\n",
              "      <td>0.384615</td>\n",
              "    </tr>\n",
              "  </tbody>\n",
              "</table>\n",
              "</div>"
            ],
            "text/plain": [
              "weight            (99.854, 124.333]        ...         (221.667, 246.0]\n",
              "age                                        ...                         \n",
              "(17.938, 28.333]           0.190476        ...                 0.128205\n",
              "(28.333, 38.667]           0.238095        ...                 0.102564\n",
              "(38.667, 49.0]             0.166667        ...                 0.128205\n",
              "(49.0, 59.333]             0.170068        ...                 0.025641\n",
              "(59.333, 69.667]           0.102041        ...                 0.230769\n",
              "(69.667, 80.0]             0.132653        ...                 0.384615\n",
              "\n",
              "[6 rows x 6 columns]"
            ]
          },
          "metadata": {
            "tags": []
          },
          "execution_count": 44
        }
      ]
    },
    {
      "cell_type": "markdown",
      "metadata": {
        "id": "mjac71qoJ1rB",
        "colab_type": "text"
      },
      "source": [
        "- In the results above you can see one is more likely to be old if they are heavy. Generally, the older, the heavier."
      ]
    },
    {
      "cell_type": "code",
      "metadata": {
        "id": "GhuB3JDoCcVl",
        "colab_type": "code",
        "colab": {
          "base_uri": "https://localhost:8080/",
          "height": 268
        },
        "outputId": "d2e665f5-e8a2-4f23-a24a-d155c5aa978f"
      },
      "source": [
        "# Crosstab with weight and exercise time.\n",
        "pd.crosstab(exercise_time_bins, weight_bins, normalize='columns')"
      ],
      "execution_count": 45,
      "outputs": [
        {
          "output_type": "execute_result",
          "data": {
            "text/html": [
              "<div>\n",
              "<style scoped>\n",
              "    .dataframe tbody tr th:only-of-type {\n",
              "        vertical-align: middle;\n",
              "    }\n",
              "\n",
              "    .dataframe tbody tr th {\n",
              "        vertical-align: top;\n",
              "    }\n",
              "\n",
              "    .dataframe thead th {\n",
              "        text-align: right;\n",
              "    }\n",
              "</style>\n",
              "<table border=\"1\" class=\"dataframe\">\n",
              "  <thead>\n",
              "    <tr style=\"text-align: right;\">\n",
              "      <th>weight</th>\n",
              "      <th>(99.854, 124.333]</th>\n",
              "      <th>(124.333, 148.667]</th>\n",
              "      <th>(148.667, 173.0]</th>\n",
              "      <th>(173.0, 197.333]</th>\n",
              "      <th>(197.333, 221.667]</th>\n",
              "      <th>(221.667, 246.0]</th>\n",
              "    </tr>\n",
              "    <tr>\n",
              "      <th>exercise_time</th>\n",
              "      <th></th>\n",
              "      <th></th>\n",
              "      <th></th>\n",
              "      <th></th>\n",
              "      <th></th>\n",
              "      <th></th>\n",
              "    </tr>\n",
              "  </thead>\n",
              "  <tbody>\n",
              "    <tr>\n",
              "      <th>(-0.3, 50.0]</th>\n",
              "      <td>0.115646</td>\n",
              "      <td>0.121711</td>\n",
              "      <td>0.146245</td>\n",
              "      <td>0.279762</td>\n",
              "      <td>0.366197</td>\n",
              "      <td>0.871795</td>\n",
              "    </tr>\n",
              "    <tr>\n",
              "      <th>(50.0, 100.0]</th>\n",
              "      <td>0.142857</td>\n",
              "      <td>0.154605</td>\n",
              "      <td>0.249012</td>\n",
              "      <td>0.267857</td>\n",
              "      <td>0.436620</td>\n",
              "      <td>0.128205</td>\n",
              "    </tr>\n",
              "    <tr>\n",
              "      <th>(100.0, 150.0]</th>\n",
              "      <td>0.173469</td>\n",
              "      <td>0.088816</td>\n",
              "      <td>0.193676</td>\n",
              "      <td>0.244048</td>\n",
              "      <td>0.183099</td>\n",
              "      <td>0.000000</td>\n",
              "    </tr>\n",
              "    <tr>\n",
              "      <th>(150.0, 200.0]</th>\n",
              "      <td>0.173469</td>\n",
              "      <td>0.203947</td>\n",
              "      <td>0.173913</td>\n",
              "      <td>0.184524</td>\n",
              "      <td>0.014085</td>\n",
              "      <td>0.000000</td>\n",
              "    </tr>\n",
              "    <tr>\n",
              "      <th>(200.0, 250.0]</th>\n",
              "      <td>0.156463</td>\n",
              "      <td>0.207237</td>\n",
              "      <td>0.166008</td>\n",
              "      <td>0.023810</td>\n",
              "      <td>0.000000</td>\n",
              "      <td>0.000000</td>\n",
              "    </tr>\n",
              "    <tr>\n",
              "      <th>(250.0, 300.0]</th>\n",
              "      <td>0.238095</td>\n",
              "      <td>0.223684</td>\n",
              "      <td>0.071146</td>\n",
              "      <td>0.000000</td>\n",
              "      <td>0.000000</td>\n",
              "      <td>0.000000</td>\n",
              "    </tr>\n",
              "  </tbody>\n",
              "</table>\n",
              "</div>"
            ],
            "text/plain": [
              "weight          (99.854, 124.333]        ...         (221.667, 246.0]\n",
              "exercise_time                            ...                         \n",
              "(-0.3, 50.0]             0.115646        ...                 0.871795\n",
              "(50.0, 100.0]            0.142857        ...                 0.128205\n",
              "(100.0, 150.0]           0.173469        ...                 0.000000\n",
              "(150.0, 200.0]           0.173469        ...                 0.000000\n",
              "(200.0, 250.0]           0.156463        ...                 0.000000\n",
              "(250.0, 300.0]           0.238095        ...                 0.000000\n",
              "\n",
              "[6 rows x 6 columns]"
            ]
          },
          "metadata": {
            "tags": []
          },
          "execution_count": 45
        }
      ]
    },
    {
      "cell_type": "markdown",
      "metadata": {
        "id": "HB6qkB05MrGA",
        "colab_type": "text"
      },
      "source": [
        "- Above you can see that longer exercise times decrease as weight increases."
      ]
    },
    {
      "cell_type": "code",
      "metadata": {
        "id": "XQjuQsvlCjFq",
        "colab_type": "code",
        "colab": {
          "base_uri": "https://localhost:8080/",
          "height": 268
        },
        "outputId": "bbf43386-8024-467e-bc22-ec55a32ffbeb"
      },
      "source": [
        "# Crosstab with age and exercise time.\n",
        "pd.crosstab(exercise_time_bins, age_bins, normalize='columns')"
      ],
      "execution_count": 47,
      "outputs": [
        {
          "output_type": "execute_result",
          "data": {
            "text/html": [
              "<div>\n",
              "<style scoped>\n",
              "    .dataframe tbody tr th:only-of-type {\n",
              "        vertical-align: middle;\n",
              "    }\n",
              "\n",
              "    .dataframe tbody tr th {\n",
              "        vertical-align: top;\n",
              "    }\n",
              "\n",
              "    .dataframe thead th {\n",
              "        text-align: right;\n",
              "    }\n",
              "</style>\n",
              "<table border=\"1\" class=\"dataframe\">\n",
              "  <thead>\n",
              "    <tr style=\"text-align: right;\">\n",
              "      <th>age</th>\n",
              "      <th>(17.938, 28.333]</th>\n",
              "      <th>(28.333, 38.667]</th>\n",
              "      <th>(38.667, 49.0]</th>\n",
              "      <th>(49.0, 59.333]</th>\n",
              "      <th>(59.333, 69.667]</th>\n",
              "      <th>(69.667, 80.0]</th>\n",
              "    </tr>\n",
              "    <tr>\n",
              "      <th>exercise_time</th>\n",
              "      <th></th>\n",
              "      <th></th>\n",
              "      <th></th>\n",
              "      <th></th>\n",
              "      <th></th>\n",
              "      <th></th>\n",
              "    </tr>\n",
              "  </thead>\n",
              "  <tbody>\n",
              "    <tr>\n",
              "      <th>(-0.3, 50.0]</th>\n",
              "      <td>0.138756</td>\n",
              "      <td>0.221198</td>\n",
              "      <td>0.135</td>\n",
              "      <td>0.141304</td>\n",
              "      <td>0.229167</td>\n",
              "      <td>0.338384</td>\n",
              "    </tr>\n",
              "    <tr>\n",
              "      <th>(50.0, 100.0]</th>\n",
              "      <td>0.167464</td>\n",
              "      <td>0.147465</td>\n",
              "      <td>0.200</td>\n",
              "      <td>0.163043</td>\n",
              "      <td>0.276042</td>\n",
              "      <td>0.373737</td>\n",
              "    </tr>\n",
              "    <tr>\n",
              "      <th>(100.0, 150.0]</th>\n",
              "      <td>0.157895</td>\n",
              "      <td>0.133641</td>\n",
              "      <td>0.125</td>\n",
              "      <td>0.157609</td>\n",
              "      <td>0.171875</td>\n",
              "      <td>0.227273</td>\n",
              "    </tr>\n",
              "    <tr>\n",
              "      <th>(150.0, 200.0]</th>\n",
              "      <td>0.215311</td>\n",
              "      <td>0.193548</td>\n",
              "      <td>0.130</td>\n",
              "      <td>0.157609</td>\n",
              "      <td>0.187500</td>\n",
              "      <td>0.060606</td>\n",
              "    </tr>\n",
              "    <tr>\n",
              "      <th>(200.0, 250.0]</th>\n",
              "      <td>0.186603</td>\n",
              "      <td>0.156682</td>\n",
              "      <td>0.180</td>\n",
              "      <td>0.130435</td>\n",
              "      <td>0.114583</td>\n",
              "      <td>0.000000</td>\n",
              "    </tr>\n",
              "    <tr>\n",
              "      <th>(250.0, 300.0]</th>\n",
              "      <td>0.133971</td>\n",
              "      <td>0.147465</td>\n",
              "      <td>0.230</td>\n",
              "      <td>0.250000</td>\n",
              "      <td>0.020833</td>\n",
              "      <td>0.000000</td>\n",
              "    </tr>\n",
              "  </tbody>\n",
              "</table>\n",
              "</div>"
            ],
            "text/plain": [
              "age             (17.938, 28.333]       ...        (69.667, 80.0]\n",
              "exercise_time                          ...                      \n",
              "(-0.3, 50.0]            0.138756       ...              0.338384\n",
              "(50.0, 100.0]           0.167464       ...              0.373737\n",
              "(100.0, 150.0]          0.157895       ...              0.227273\n",
              "(150.0, 200.0]          0.215311       ...              0.060606\n",
              "(200.0, 250.0]          0.186603       ...              0.000000\n",
              "(250.0, 300.0]          0.133971       ...              0.000000\n",
              "\n",
              "[6 rows x 6 columns]"
            ]
          },
          "metadata": {
            "tags": []
          },
          "execution_count": 47
        }
      ]
    },
    {
      "cell_type": "markdown",
      "metadata": {
        "id": "2pBXey1eNKof",
        "colab_type": "text"
      },
      "source": [
        "- The crosstab above shows that older people are less likely to exercise for long periods. "
      ]
    },
    {
      "cell_type": "code",
      "metadata": {
        "id": "UfE_7p6TDKrS",
        "colab_type": "code",
        "colab": {}
      },
      "source": [
        "# Triple crosstab is weird. Not sure how to make it useful.\n",
        "# pd.crosstab([age_bins, exercise_time_bins], weight_bins, normalize='columns')"
      ],
      "execution_count": 0,
      "outputs": []
    },
    {
      "cell_type": "code",
      "metadata": {
        "id": "2GMqOuwNOC7s",
        "colab_type": "code",
        "colab": {
          "base_uri": "https://localhost:8080/",
          "height": 295
        },
        "outputId": "95feb636-af24-40e2-fb14-2cfaefb47d76"
      },
      "source": [
        "# A hexbin plot to represent many of the previous observations.\n",
        "plot = df.plot.hexbin(x='age', \n",
        "               y='weight', \n",
        "               C='exercise_time',\n",
        "               gridsize=30,\n",
        "               title='One Graph to Rule Them',\n",
        "               cmap='magma',\n",
        "               sharex=False\n",
        "              );\n",
        "# Apparently have to access the colorbar?\n",
        "f = plt.gcf()\n",
        "cax = f.get_axes()[1]\n",
        "cax.set_ylabel('exercise time (min/wk)');\n"
      ],
      "execution_count": 91,
      "outputs": [
        {
          "output_type": "display_data",
          "data": {
            "image/png": "[encoded data removed]",
            "text/plain": [
              "<Figure size 432x288 with 2 Axes>"
            ]
          },
          "metadata": {
            "tags": []
          }
        }
      ]
    },
    {
      "cell_type": "markdown",
      "metadata": {
        "id": "BT9gdS7viJZa",
        "colab_type": "text"
      },
      "source": [
        "### Assignment questions\n",
        "\n",
        "After you've worked on some code, answer the following questions in this text block:\n",
        "\n",
        "1.  What are the variable types in the data?\n",
        "2.  What are the relationships between the variables?\n",
        "3.  Which relationships are \"real\", and which spurious?\n"
      ]
    },
    {
      "cell_type": "markdown",
      "metadata": {
        "id": "l7CaRxdubFm8",
        "colab_type": "text"
      },
      "source": [
        "1. They're all continuous. I've deemed the exercise_time variable to be dependent in my graph.\n",
        "2. Weight and age have an inverse relationship. There are more heavy old people than heavy young people. Exercise time decreases as a person gets older or heavier.\n",
        "3. The relationship between exercise time and weight is \"real\". The relationship between exercise time and age is \"real\". The relationship between age and weight is more spurious, or they're associated but not necessarilly causally related."
      ]
    },
    {
      "cell_type": "markdown",
      "metadata": {
        "id": "_XXg2crAipwP",
        "colab_type": "text"
      },
      "source": [
        "## Stretch goals and resources\n",
        "\n",
        "Following are *optional* things for you to take a look at. Focus on the above assignment first, and make sure to commit and push your changes to GitHub.\n",
        "\n",
        "- [Spurious Correlations](http://tylervigen.com/spurious-correlations)\n",
        "- [NIH on controlling for confounding variables](https://www.ncbi.nlm.nih.gov/pmc/articles/PMC4017459/)\n",
        "\n",
        "Stretch goals:\n",
        "\n",
        "- Produce your own plot inspired by the Spurious Correlation visualizations (and consider writing a blog post about it - both the content and how you made it)\n",
        "- Pick one of the techniques that NIH highlights for confounding variables - we'll be going into many of them later, but see if you can find which Python modules may help (hint - check scikit-learn)"
      ]
    }
  ]
}