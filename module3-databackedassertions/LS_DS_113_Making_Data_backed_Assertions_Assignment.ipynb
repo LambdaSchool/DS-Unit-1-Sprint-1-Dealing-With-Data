{
  "nbformat": 4,
  "nbformat_minor": 0,
  "metadata": {
    "colab": {
      "name": "LS_DS_113_Making_Data_backed_Assertions_Assignment.ipynb",
      "version": "0.3.2",
      "provenance": [],
      "collapsed_sections": [],
      "include_colab_link": true
    },
    "kernelspec": {
      "name": "python3",
      "display_name": "Python 3"
    }
  },
  "cells": [
    {
      "cell_type": "markdown",
      "metadata": {
        "id": "view-in-github",
        "colab_type": "text"
      },
      "source": [
        "<a href=\"https://colab.research.google.com/github/tobias-fyi/DS-Unit-1-Sprint-1-Dealing-With-Data/blob/master/module3-databackedassertions/LS_DS_113_Making_Data_backed_Assertions_Assignment.ipynb\" target=\"_parent\"><img src=\"https://colab.research.google.com/assets/colab-badge.svg\" alt=\"Open In Colab\"/></a>"
      ]
    },
    {
      "cell_type": "markdown",
      "metadata": {
        "id": "Okfr_uhwhS1X",
        "colab_type": "text"
      },
      "source": [
        "# Lambda School Data Science - Making Data-backed Assertions\n",
        "\n",
        "This is, for many, the main point of data science - to create and support reasoned arguments based on evidence. It's not a topic to master in a day, but it is worth some focused time thinking about and structuring your approach to it."
      ]
    },
    {
      "cell_type": "markdown",
      "metadata": {
        "id": "lOqaPds9huME",
        "colab_type": "text"
      },
      "source": [
        "## Assignment - what's going on here?\n",
        "\n",
        "Consider the data in `persons.csv` (already prepared for you, in the repo for the week). It has four columns - a unique id, followed by age (in years), weight (in lbs), and exercise time (in minutes/week) of 1200 (hypothetical) people.\n",
        "\n",
        "Try to figure out which variables are possibly related to each other, and which may be confounding relationships.\n",
        "\n",
        "Try and isolate the main relationships and then communicate them using crosstabs and graphs. Share any cool graphs that you make with the rest of the class in Slack!"
      ]
    },
    {
      "cell_type": "code",
      "metadata": {
        "id": "hNXFRrZGv9eV",
        "colab_type": "code",
        "colab": {}
      },
      "source": [
        "# Imports\n",
        "import pandas as pd"
      ],
      "execution_count": 0,
      "outputs": []
    },
    {
      "cell_type": "code",
      "metadata": {
        "id": "N-ac_73HvByP",
        "colab_type": "code",
        "colab": {
          "base_uri": "https://localhost:8080/",
          "height": 225
        },
        "outputId": "1bd18726-9e5d-4997-946e-71e5d42c357f"
      },
      "source": [
        "# Load the dataset via URL\n",
        "persons_url = \"https://raw.githubusercontent.com/tobias-fyi/DS-Unit-1-Sprint-1-Dealing-With-Data/master/module3-databackedassertions/persons.csv\"\n",
        "persons_df = pd.read_csv(persons_url)\n",
        "\n",
        "# Overview / preview of the dataset\n",
        "print(persons_df.shape)\n",
        "persons_df.head()"
      ],
      "execution_count": 3,
      "outputs": [
        {
          "output_type": "stream",
          "text": [
            "(1200, 4)\n"
          ],
          "name": "stdout"
        },
        {
          "output_type": "execute_result",
          "data": {
            "text/html": [
              "<div>\n",
              "<style scoped>\n",
              "    .dataframe tbody tr th:only-of-type {\n",
              "        vertical-align: middle;\n",
              "    }\n",
              "\n",
              "    .dataframe tbody tr th {\n",
              "        vertical-align: top;\n",
              "    }\n",
              "\n",
              "    .dataframe thead th {\n",
              "        text-align: right;\n",
              "    }\n",
              "</style>\n",
              "<table border=\"1\" class=\"dataframe\">\n",
              "  <thead>\n",
              "    <tr style=\"text-align: right;\">\n",
              "      <th></th>\n",
              "      <th>Unnamed: 0</th>\n",
              "      <th>age</th>\n",
              "      <th>weight</th>\n",
              "      <th>exercise_time</th>\n",
              "    </tr>\n",
              "  </thead>\n",
              "  <tbody>\n",
              "    <tr>\n",
              "      <th>0</th>\n",
              "      <td>0</td>\n",
              "      <td>44</td>\n",
              "      <td>118</td>\n",
              "      <td>192</td>\n",
              "    </tr>\n",
              "    <tr>\n",
              "      <th>1</th>\n",
              "      <td>1</td>\n",
              "      <td>41</td>\n",
              "      <td>161</td>\n",
              "      <td>35</td>\n",
              "    </tr>\n",
              "    <tr>\n",
              "      <th>2</th>\n",
              "      <td>2</td>\n",
              "      <td>46</td>\n",
              "      <td>128</td>\n",
              "      <td>220</td>\n",
              "    </tr>\n",
              "    <tr>\n",
              "      <th>3</th>\n",
              "      <td>3</td>\n",
              "      <td>39</td>\n",
              "      <td>216</td>\n",
              "      <td>57</td>\n",
              "    </tr>\n",
              "    <tr>\n",
              "      <th>4</th>\n",
              "      <td>4</td>\n",
              "      <td>28</td>\n",
              "      <td>116</td>\n",
              "      <td>182</td>\n",
              "    </tr>\n",
              "  </tbody>\n",
              "</table>\n",
              "</div>"
            ],
            "text/plain": [
              "   Unnamed: 0  age  weight  exercise_time\n",
              "0           0   44     118            192\n",
              "1           1   41     161             35\n",
              "2           2   46     128            220\n",
              "3           3   39     216             57\n",
              "4           4   28     116            182"
            ]
          },
          "metadata": {
            "tags": []
          },
          "execution_count": 3
        }
      ]
    },
    {
      "cell_type": "markdown",
      "metadata": {
        "id": "FlGbGt7m0h-Y",
        "colab_type": "text"
      },
      "source": [
        "## Hypothesis\n",
        "\n",
        "My initial hypothesis is that both age and exercise_time have an"
      ]
    },
    {
      "cell_type": "code",
      "metadata": {
        "id": "3eygqUJew33d",
        "colab_type": "code",
        "colab": {
          "base_uri": "https://localhost:8080/",
          "height": 109
        },
        "outputId": "2711a3c5-ac62-43c6-c06e-5d9a3a36c1dd"
      },
      "source": [
        "# Taking a look at the types\n",
        "# Though it is somewhat obvious all the columns are integers\n",
        "print(persons_df.dtypes)"
      ],
      "execution_count": 4,
      "outputs": [
        {
          "output_type": "stream",
          "text": [
            "Unnamed: 0       int64\n",
            "age              int64\n",
            "weight           int64\n",
            "exercise_time    int64\n",
            "dtype: object\n"
          ],
          "name": "stdout"
        }
      ]
    },
    {
      "cell_type": "code",
      "metadata": {
        "id": "QPxiDZSExRTV",
        "colab_type": "code",
        "colab": {}
      },
      "source": [
        "# Time for some crosstabulation\n",
        "pd.crosstab(persons_df[\"weight\"], persons_df[\"age\"])"
      ],
      "execution_count": 0,
      "outputs": []
    },
    {
      "cell_type": "code",
      "metadata": {
        "id": "F767iE1Cxt9T",
        "colab_type": "code",
        "colab": {}
      },
      "source": [
        "# Not very useful of a table\n",
        "# I'm going to try grouping the records into bins\n",
        "# I'll create bins for each variable, first with 4\n",
        "age_bins = pd.cut(persons_df[\"age\"], 4)\n",
        "wgt_bins = pd.cut(persons_df[\"weight\"], 4)\n",
        "exe_bins = pd.cut(persons_df[\"exercise_time\"], 4)\n"
      ],
      "execution_count": 0,
      "outputs": []
    },
    {
      "cell_type": "code",
      "metadata": {
        "id": "KQerdsRw0UWY",
        "colab_type": "code",
        "colab": {
          "base_uri": "https://localhost:8080/",
          "height": 206
        },
        "outputId": "dbf4aa7f-ce16-4a53-91d8-fb7b6e45b72e"
      },
      "source": [
        "# Weight x Age\n",
        "pd.crosstab(wgt_bins, age_bins, normalize=\"columns\")\n",
        "# Although not a strong or obvious relationship,\n",
        "# it seems that in general older individuals are more likely to weigh more"
      ],
      "execution_count": 15,
      "outputs": [
        {
          "output_type": "execute_result",
          "data": {
            "text/html": [
              "<div>\n",
              "<style scoped>\n",
              "    .dataframe tbody tr th:only-of-type {\n",
              "        vertical-align: middle;\n",
              "    }\n",
              "\n",
              "    .dataframe tbody tr th {\n",
              "        vertical-align: top;\n",
              "    }\n",
              "\n",
              "    .dataframe thead th {\n",
              "        text-align: right;\n",
              "    }\n",
              "</style>\n",
              "<table border=\"1\" class=\"dataframe\">\n",
              "  <thead>\n",
              "    <tr style=\"text-align: right;\">\n",
              "      <th>age</th>\n",
              "      <th>(17.938, 33.5]</th>\n",
              "      <th>(33.5, 49.0]</th>\n",
              "      <th>(49.0, 64.5]</th>\n",
              "      <th>(64.5, 80.0]</th>\n",
              "    </tr>\n",
              "    <tr>\n",
              "      <th>weight</th>\n",
              "      <th></th>\n",
              "      <th></th>\n",
              "      <th></th>\n",
              "      <th></th>\n",
              "    </tr>\n",
              "  </thead>\n",
              "  <tbody>\n",
              "    <tr>\n",
              "      <th>(99.854, 136.5]</th>\n",
              "      <td>0.389408</td>\n",
              "      <td>0.442623</td>\n",
              "      <td>0.391304</td>\n",
              "      <td>0.288591</td>\n",
              "    </tr>\n",
              "    <tr>\n",
              "      <th>(136.5, 173.0]</th>\n",
              "      <td>0.383178</td>\n",
              "      <td>0.304918</td>\n",
              "      <td>0.307971</td>\n",
              "      <td>0.322148</td>\n",
              "    </tr>\n",
              "    <tr>\n",
              "      <th>(173.0, 209.5]</th>\n",
              "      <td>0.161994</td>\n",
              "      <td>0.196721</td>\n",
              "      <td>0.228261</td>\n",
              "      <td>0.261745</td>\n",
              "    </tr>\n",
              "    <tr>\n",
              "      <th>(209.5, 246.0]</th>\n",
              "      <td>0.065421</td>\n",
              "      <td>0.055738</td>\n",
              "      <td>0.072464</td>\n",
              "      <td>0.127517</td>\n",
              "    </tr>\n",
              "  </tbody>\n",
              "</table>\n",
              "</div>"
            ],
            "text/plain": [
              "age              (17.938, 33.5]      ...       (64.5, 80.0]\n",
              "weight                               ...                   \n",
              "(99.854, 136.5]        0.389408      ...           0.288591\n",
              "(136.5, 173.0]         0.383178      ...           0.322148\n",
              "(173.0, 209.5]         0.161994      ...           0.261745\n",
              "(209.5, 246.0]         0.065421      ...           0.127517\n",
              "\n",
              "[4 rows x 4 columns]"
            ]
          },
          "metadata": {
            "tags": []
          },
          "execution_count": 15
        }
      ]
    },
    {
      "cell_type": "code",
      "metadata": {
        "id": "uv3I4Xst1GRE",
        "colab_type": "code",
        "colab": {
          "base_uri": "https://localhost:8080/",
          "height": 206
        },
        "outputId": "2e9d4174-57f6-4942-b91c-06d77b4d76f2"
      },
      "source": [
        "# Weight x Exercise Time\n",
        "pd.crosstab(wgt_bins, exe_bins, normalize=\"columns\")\n",
        "# This seems to be an obvious relationship\n",
        "# The more time spent exercising, the more likely an individual will weight less"
      ],
      "execution_count": 22,
      "outputs": [
        {
          "output_type": "execute_result",
          "data": {
            "text/html": [
              "<div>\n",
              "<style scoped>\n",
              "    .dataframe tbody tr th:only-of-type {\n",
              "        vertical-align: middle;\n",
              "    }\n",
              "\n",
              "    .dataframe tbody tr th {\n",
              "        vertical-align: top;\n",
              "    }\n",
              "\n",
              "    .dataframe thead th {\n",
              "        text-align: right;\n",
              "    }\n",
              "</style>\n",
              "<table border=\"1\" class=\"dataframe\">\n",
              "  <thead>\n",
              "    <tr style=\"text-align: right;\">\n",
              "      <th>exercise_time</th>\n",
              "      <th>(-0.3, 75.0]</th>\n",
              "      <th>(75.0, 150.0]</th>\n",
              "      <th>(150.0, 225.0]</th>\n",
              "      <th>(225.0, 300.0]</th>\n",
              "    </tr>\n",
              "    <tr>\n",
              "      <th>weight</th>\n",
              "      <th></th>\n",
              "      <th></th>\n",
              "      <th></th>\n",
              "      <th></th>\n",
              "    </tr>\n",
              "  </thead>\n",
              "  <tbody>\n",
              "    <tr>\n",
              "      <th>(99.854, 136.5]</th>\n",
              "      <td>0.230986</td>\n",
              "      <td>0.290698</td>\n",
              "      <td>0.459770</td>\n",
              "      <td>0.633333</td>\n",
              "    </tr>\n",
              "    <tr>\n",
              "      <th>(136.5, 173.0]</th>\n",
              "      <td>0.250704</td>\n",
              "      <td>0.337209</td>\n",
              "      <td>0.398467</td>\n",
              "      <td>0.366667</td>\n",
              "    </tr>\n",
              "    <tr>\n",
              "      <th>(173.0, 209.5]</th>\n",
              "      <td>0.301408</td>\n",
              "      <td>0.316860</td>\n",
              "      <td>0.141762</td>\n",
              "      <td>0.000000</td>\n",
              "    </tr>\n",
              "    <tr>\n",
              "      <th>(209.5, 246.0]</th>\n",
              "      <td>0.216901</td>\n",
              "      <td>0.055233</td>\n",
              "      <td>0.000000</td>\n",
              "      <td>0.000000</td>\n",
              "    </tr>\n",
              "  </tbody>\n",
              "</table>\n",
              "</div>"
            ],
            "text/plain": [
              "exercise_time    (-0.3, 75.0]       ...        (225.0, 300.0]\n",
              "weight                              ...                      \n",
              "(99.854, 136.5]      0.230986       ...              0.633333\n",
              "(136.5, 173.0]       0.250704       ...              0.366667\n",
              "(173.0, 209.5]       0.301408       ...              0.000000\n",
              "(209.5, 246.0]       0.216901       ...              0.000000\n",
              "\n",
              "[4 rows x 4 columns]"
            ]
          },
          "metadata": {
            "tags": []
          },
          "execution_count": 22
        }
      ]
    },
    {
      "cell_type": "code",
      "metadata": {
        "id": "jjvg4qV0Ijlw",
        "colab_type": "code",
        "colab": {
          "base_uri": "https://localhost:8080/",
          "height": 206
        },
        "outputId": "29d8af45-f0b8-4ba4-bd60-a89f738d6323"
      },
      "source": [
        "# Exercise Time x Age\n",
        "pd.crosstab(exe_bins, age_bins, normalize=\"columns\")\n",
        "# Aside from the oldest age group, the exercise times of individuals within the age groups are basically equal"
      ],
      "execution_count": 33,
      "outputs": [
        {
          "output_type": "execute_result",
          "data": {
            "text/html": [
              "<div>\n",
              "<style scoped>\n",
              "    .dataframe tbody tr th:only-of-type {\n",
              "        vertical-align: middle;\n",
              "    }\n",
              "\n",
              "    .dataframe tbody tr th {\n",
              "        vertical-align: top;\n",
              "    }\n",
              "\n",
              "    .dataframe thead th {\n",
              "        text-align: right;\n",
              "    }\n",
              "</style>\n",
              "<table border=\"1\" class=\"dataframe\">\n",
              "  <thead>\n",
              "    <tr style=\"text-align: right;\">\n",
              "      <th>age</th>\n",
              "      <th>(17.938, 33.5]</th>\n",
              "      <th>(33.5, 49.0]</th>\n",
              "      <th>(49.0, 64.5]</th>\n",
              "      <th>(64.5, 80.0]</th>\n",
              "    </tr>\n",
              "    <tr>\n",
              "      <th>exercise_time</th>\n",
              "      <th></th>\n",
              "      <th></th>\n",
              "      <th></th>\n",
              "      <th></th>\n",
              "    </tr>\n",
              "  </thead>\n",
              "  <tbody>\n",
              "    <tr>\n",
              "      <th>(-0.3, 75.0]</th>\n",
              "      <td>0.242991</td>\n",
              "      <td>0.229508</td>\n",
              "      <td>0.250000</td>\n",
              "      <td>0.463087</td>\n",
              "    </tr>\n",
              "    <tr>\n",
              "      <th>(75.0, 150.0]</th>\n",
              "      <td>0.227414</td>\n",
              "      <td>0.252459</td>\n",
              "      <td>0.264493</td>\n",
              "      <td>0.406040</td>\n",
              "    </tr>\n",
              "    <tr>\n",
              "      <th>(150.0, 225.0]</th>\n",
              "      <td>0.277259</td>\n",
              "      <td>0.232787</td>\n",
              "      <td>0.231884</td>\n",
              "      <td>0.124161</td>\n",
              "    </tr>\n",
              "    <tr>\n",
              "      <th>(225.0, 300.0]</th>\n",
              "      <td>0.252336</td>\n",
              "      <td>0.285246</td>\n",
              "      <td>0.253623</td>\n",
              "      <td>0.006711</td>\n",
              "    </tr>\n",
              "  </tbody>\n",
              "</table>\n",
              "</div>"
            ],
            "text/plain": [
              "age             (17.938, 33.5]      ...       (64.5, 80.0]\n",
              "exercise_time                       ...                   \n",
              "(-0.3, 75.0]          0.242991      ...           0.463087\n",
              "(75.0, 150.0]         0.227414      ...           0.406040\n",
              "(150.0, 225.0]        0.277259      ...           0.124161\n",
              "(225.0, 300.0]        0.252336      ...           0.006711\n",
              "\n",
              "[4 rows x 4 columns]"
            ]
          },
          "metadata": {
            "tags": []
          },
          "execution_count": 33
        }
      ]
    },
    {
      "cell_type": "code",
      "metadata": {
        "id": "0fMTUStD_Lyv",
        "colab_type": "code",
        "colab": {
          "base_uri": "https://localhost:8080/",
          "height": 275
        },
        "outputId": "93b87e5c-9100-4ef3-dc36-5eb07349e5cc"
      },
      "source": [
        "# Crosstab of all three variables\n",
        "pd.crosstab(wgt_bins, [exe_bins, age_bins], normalize=\"columns\")"
      ],
      "execution_count": 24,
      "outputs": [
        {
          "output_type": "execute_result",
          "data": {
            "text/html": [
              "<div>\n",
              "<style scoped>\n",
              "    .dataframe tbody tr th:only-of-type {\n",
              "        vertical-align: middle;\n",
              "    }\n",
              "\n",
              "    .dataframe tbody tr th {\n",
              "        vertical-align: top;\n",
              "    }\n",
              "\n",
              "    .dataframe thead tr th {\n",
              "        text-align: left;\n",
              "    }\n",
              "\n",
              "    .dataframe thead tr:last-of-type th {\n",
              "        text-align: right;\n",
              "    }\n",
              "</style>\n",
              "<table border=\"1\" class=\"dataframe\">\n",
              "  <thead>\n",
              "    <tr>\n",
              "      <th>exercise_time</th>\n",
              "      <th colspan=\"4\" halign=\"left\">(-0.3, 75.0]</th>\n",
              "      <th colspan=\"4\" halign=\"left\">(75.0, 150.0]</th>\n",
              "      <th colspan=\"4\" halign=\"left\">(150.0, 225.0]</th>\n",
              "      <th colspan=\"4\" halign=\"left\">(225.0, 300.0]</th>\n",
              "    </tr>\n",
              "    <tr>\n",
              "      <th>age</th>\n",
              "      <th>(17.938, 33.5]</th>\n",
              "      <th>(33.5, 49.0]</th>\n",
              "      <th>(49.0, 64.5]</th>\n",
              "      <th>(64.5, 80.0]</th>\n",
              "      <th>(17.938, 33.5]</th>\n",
              "      <th>(33.5, 49.0]</th>\n",
              "      <th>(49.0, 64.5]</th>\n",
              "      <th>(64.5, 80.0]</th>\n",
              "      <th>(17.938, 33.5]</th>\n",
              "      <th>(33.5, 49.0]</th>\n",
              "      <th>(49.0, 64.5]</th>\n",
              "      <th>(64.5, 80.0]</th>\n",
              "      <th>(17.938, 33.5]</th>\n",
              "      <th>(33.5, 49.0]</th>\n",
              "      <th>(49.0, 64.5]</th>\n",
              "      <th>(64.5, 80.0]</th>\n",
              "    </tr>\n",
              "    <tr>\n",
              "      <th>weight</th>\n",
              "      <th></th>\n",
              "      <th></th>\n",
              "      <th></th>\n",
              "      <th></th>\n",
              "      <th></th>\n",
              "      <th></th>\n",
              "      <th></th>\n",
              "      <th></th>\n",
              "      <th></th>\n",
              "      <th></th>\n",
              "      <th></th>\n",
              "      <th></th>\n",
              "      <th></th>\n",
              "      <th></th>\n",
              "      <th></th>\n",
              "      <th></th>\n",
              "    </tr>\n",
              "  </thead>\n",
              "  <tbody>\n",
              "    <tr>\n",
              "      <th>(99.854, 136.5]</th>\n",
              "      <td>0.230769</td>\n",
              "      <td>0.171429</td>\n",
              "      <td>0.231884</td>\n",
              "      <td>0.260870</td>\n",
              "      <td>0.301370</td>\n",
              "      <td>0.363636</td>\n",
              "      <td>0.246575</td>\n",
              "      <td>0.264463</td>\n",
              "      <td>0.393258</td>\n",
              "      <td>0.521127</td>\n",
              "      <td>0.500000</td>\n",
              "      <td>0.432432</td>\n",
              "      <td>0.617284</td>\n",
              "      <td>0.666667</td>\n",
              "      <td>0.6</td>\n",
              "      <td>1.0</td>\n",
              "    </tr>\n",
              "    <tr>\n",
              "      <th>(136.5, 173.0]</th>\n",
              "      <td>0.230769</td>\n",
              "      <td>0.300000</td>\n",
              "      <td>0.246377</td>\n",
              "      <td>0.239130</td>\n",
              "      <td>0.397260</td>\n",
              "      <td>0.246753</td>\n",
              "      <td>0.287671</td>\n",
              "      <td>0.388430</td>\n",
              "      <td>0.505618</td>\n",
              "      <td>0.338028</td>\n",
              "      <td>0.296875</td>\n",
              "      <td>0.432432</td>\n",
              "      <td>0.382716</td>\n",
              "      <td>0.333333</td>\n",
              "      <td>0.4</td>\n",
              "      <td>0.0</td>\n",
              "    </tr>\n",
              "    <tr>\n",
              "      <th>(173.0, 209.5]</th>\n",
              "      <td>0.307692</td>\n",
              "      <td>0.314286</td>\n",
              "      <td>0.333333</td>\n",
              "      <td>0.275362</td>\n",
              "      <td>0.260274</td>\n",
              "      <td>0.363636</td>\n",
              "      <td>0.369863</td>\n",
              "      <td>0.289256</td>\n",
              "      <td>0.101124</td>\n",
              "      <td>0.140845</td>\n",
              "      <td>0.203125</td>\n",
              "      <td>0.135135</td>\n",
              "      <td>0.000000</td>\n",
              "      <td>0.000000</td>\n",
              "      <td>0.0</td>\n",
              "      <td>0.0</td>\n",
              "    </tr>\n",
              "    <tr>\n",
              "      <th>(209.5, 246.0]</th>\n",
              "      <td>0.230769</td>\n",
              "      <td>0.214286</td>\n",
              "      <td>0.188406</td>\n",
              "      <td>0.224638</td>\n",
              "      <td>0.041096</td>\n",
              "      <td>0.025974</td>\n",
              "      <td>0.095890</td>\n",
              "      <td>0.057851</td>\n",
              "      <td>0.000000</td>\n",
              "      <td>0.000000</td>\n",
              "      <td>0.000000</td>\n",
              "      <td>0.000000</td>\n",
              "      <td>0.000000</td>\n",
              "      <td>0.000000</td>\n",
              "      <td>0.0</td>\n",
              "      <td>0.0</td>\n",
              "    </tr>\n",
              "  </tbody>\n",
              "</table>\n",
              "</div>"
            ],
            "text/plain": [
              "exercise_time     (-0.3, 75.0]      ...       (225.0, 300.0]\n",
              "age             (17.938, 33.5]      ...         (64.5, 80.0]\n",
              "weight                              ...                     \n",
              "(99.854, 136.5]       0.230769      ...                  1.0\n",
              "(136.5, 173.0]        0.230769      ...                  0.0\n",
              "(173.0, 209.5]        0.307692      ...                  0.0\n",
              "(209.5, 246.0]        0.230769      ...                  0.0\n",
              "\n",
              "[4 rows x 16 columns]"
            ]
          },
          "metadata": {
            "tags": []
          },
          "execution_count": 24
        }
      ]
    },
    {
      "cell_type": "code",
      "metadata": {
        "id": "W4eCbU2Z_XQk",
        "colab_type": "code",
        "colab": {
          "base_uri": "https://localhost:8080/",
          "height": 212
        },
        "outputId": "6d88d03a-2e27-420f-b185-ff99fbd87910"
      },
      "source": [
        "# Going to try with even fewer bins for weight\n",
        "wgt_bins_2 = pd.cut(persons_df[\"weight\"], 2)\n",
        "pd.crosstab(wgt_bins_2, [exe_bins, age_bins], normalize=\"columns\")"
      ],
      "execution_count": 20,
      "outputs": [
        {
          "output_type": "execute_result",
          "data": {
            "text/html": [
              "<div>\n",
              "<style scoped>\n",
              "    .dataframe tbody tr th:only-of-type {\n",
              "        vertical-align: middle;\n",
              "    }\n",
              "\n",
              "    .dataframe tbody tr th {\n",
              "        vertical-align: top;\n",
              "    }\n",
              "\n",
              "    .dataframe thead tr th {\n",
              "        text-align: left;\n",
              "    }\n",
              "\n",
              "    .dataframe thead tr:last-of-type th {\n",
              "        text-align: right;\n",
              "    }\n",
              "</style>\n",
              "<table border=\"1\" class=\"dataframe\">\n",
              "  <thead>\n",
              "    <tr>\n",
              "      <th>exercise_time</th>\n",
              "      <th colspan=\"4\" halign=\"left\">(-0.3, 75.0]</th>\n",
              "      <th colspan=\"4\" halign=\"left\">(75.0, 150.0]</th>\n",
              "      <th colspan=\"4\" halign=\"left\">(150.0, 225.0]</th>\n",
              "      <th colspan=\"4\" halign=\"left\">(225.0, 300.0]</th>\n",
              "    </tr>\n",
              "    <tr>\n",
              "      <th>age</th>\n",
              "      <th>(17.938, 33.5]</th>\n",
              "      <th>(33.5, 49.0]</th>\n",
              "      <th>(49.0, 64.5]</th>\n",
              "      <th>(64.5, 80.0]</th>\n",
              "      <th>(17.938, 33.5]</th>\n",
              "      <th>(33.5, 49.0]</th>\n",
              "      <th>(49.0, 64.5]</th>\n",
              "      <th>(64.5, 80.0]</th>\n",
              "      <th>(17.938, 33.5]</th>\n",
              "      <th>(33.5, 49.0]</th>\n",
              "      <th>(49.0, 64.5]</th>\n",
              "      <th>(64.5, 80.0]</th>\n",
              "      <th>(17.938, 33.5]</th>\n",
              "      <th>(33.5, 49.0]</th>\n",
              "      <th>(49.0, 64.5]</th>\n",
              "      <th>(64.5, 80.0]</th>\n",
              "    </tr>\n",
              "    <tr>\n",
              "      <th>weight</th>\n",
              "      <th></th>\n",
              "      <th></th>\n",
              "      <th></th>\n",
              "      <th></th>\n",
              "      <th></th>\n",
              "      <th></th>\n",
              "      <th></th>\n",
              "      <th></th>\n",
              "      <th></th>\n",
              "      <th></th>\n",
              "      <th></th>\n",
              "      <th></th>\n",
              "      <th></th>\n",
              "      <th></th>\n",
              "      <th></th>\n",
              "      <th></th>\n",
              "    </tr>\n",
              "  </thead>\n",
              "  <tbody>\n",
              "    <tr>\n",
              "      <th>(99.854, 173.0]</th>\n",
              "      <td>0.461538</td>\n",
              "      <td>0.471429</td>\n",
              "      <td>0.478261</td>\n",
              "      <td>0.5</td>\n",
              "      <td>0.69863</td>\n",
              "      <td>0.61039</td>\n",
              "      <td>0.534247</td>\n",
              "      <td>0.652893</td>\n",
              "      <td>0.898876</td>\n",
              "      <td>0.859155</td>\n",
              "      <td>0.796875</td>\n",
              "      <td>0.864865</td>\n",
              "      <td>1.0</td>\n",
              "      <td>1.0</td>\n",
              "      <td>1.0</td>\n",
              "      <td>1.0</td>\n",
              "    </tr>\n",
              "    <tr>\n",
              "      <th>(173.0, 246.0]</th>\n",
              "      <td>0.538462</td>\n",
              "      <td>0.528571</td>\n",
              "      <td>0.521739</td>\n",
              "      <td>0.5</td>\n",
              "      <td>0.30137</td>\n",
              "      <td>0.38961</td>\n",
              "      <td>0.465753</td>\n",
              "      <td>0.347107</td>\n",
              "      <td>0.101124</td>\n",
              "      <td>0.140845</td>\n",
              "      <td>0.203125</td>\n",
              "      <td>0.135135</td>\n",
              "      <td>0.0</td>\n",
              "      <td>0.0</td>\n",
              "      <td>0.0</td>\n",
              "      <td>0.0</td>\n",
              "    </tr>\n",
              "  </tbody>\n",
              "</table>\n",
              "</div>"
            ],
            "text/plain": [
              "exercise_time     (-0.3, 75.0]      ...       (225.0, 300.0]\n",
              "age             (17.938, 33.5]      ...         (64.5, 80.0]\n",
              "weight                              ...                     \n",
              "(99.854, 173.0]       0.461538      ...                  1.0\n",
              "(173.0, 246.0]        0.538462      ...                  0.0\n",
              "\n",
              "[2 rows x 16 columns]"
            ]
          },
          "metadata": {
            "tags": []
          },
          "execution_count": 20
        }
      ]
    },
    {
      "cell_type": "code",
      "metadata": {
        "id": "KZDXadbXCYLb",
        "colab_type": "code",
        "colab": {
          "base_uri": "https://localhost:8080/",
          "height": 192
        },
        "outputId": "fb494ab1-8596-44d7-9561-2dbf72ff2515"
      },
      "source": [
        "# Going to try with even fewer bins for weight AND age\n",
        "age_bins_2 = pd.cut(persons_df[\"age\"], 2)\n",
        "pd.crosstab(wgt_bins_2, [exe_bins, age_bins_2], normalize=\"columns\")"
      ],
      "execution_count": 21,
      "outputs": [
        {
          "output_type": "execute_result",
          "data": {
            "text/html": [
              "<div>\n",
              "<style scoped>\n",
              "    .dataframe tbody tr th:only-of-type {\n",
              "        vertical-align: middle;\n",
              "    }\n",
              "\n",
              "    .dataframe tbody tr th {\n",
              "        vertical-align: top;\n",
              "    }\n",
              "\n",
              "    .dataframe thead tr th {\n",
              "        text-align: left;\n",
              "    }\n",
              "\n",
              "    .dataframe thead tr:last-of-type th {\n",
              "        text-align: right;\n",
              "    }\n",
              "</style>\n",
              "<table border=\"1\" class=\"dataframe\">\n",
              "  <thead>\n",
              "    <tr>\n",
              "      <th>exercise_time</th>\n",
              "      <th colspan=\"2\" halign=\"left\">(-0.3, 75.0]</th>\n",
              "      <th colspan=\"2\" halign=\"left\">(75.0, 150.0]</th>\n",
              "      <th colspan=\"2\" halign=\"left\">(150.0, 225.0]</th>\n",
              "      <th colspan=\"2\" halign=\"left\">(225.0, 300.0]</th>\n",
              "    </tr>\n",
              "    <tr>\n",
              "      <th>age</th>\n",
              "      <th>(17.938, 49.0]</th>\n",
              "      <th>(49.0, 80.0]</th>\n",
              "      <th>(17.938, 49.0]</th>\n",
              "      <th>(49.0, 80.0]</th>\n",
              "      <th>(17.938, 49.0]</th>\n",
              "      <th>(49.0, 80.0]</th>\n",
              "      <th>(17.938, 49.0]</th>\n",
              "      <th>(49.0, 80.0]</th>\n",
              "    </tr>\n",
              "    <tr>\n",
              "      <th>weight</th>\n",
              "      <th></th>\n",
              "      <th></th>\n",
              "      <th></th>\n",
              "      <th></th>\n",
              "      <th></th>\n",
              "      <th></th>\n",
              "      <th></th>\n",
              "      <th></th>\n",
              "    </tr>\n",
              "  </thead>\n",
              "  <tbody>\n",
              "    <tr>\n",
              "      <th>(99.854, 173.0]</th>\n",
              "      <td>0.466216</td>\n",
              "      <td>0.492754</td>\n",
              "      <td>0.653333</td>\n",
              "      <td>0.608247</td>\n",
              "      <td>0.88125</td>\n",
              "      <td>0.821782</td>\n",
              "      <td>1.0</td>\n",
              "      <td>1.0</td>\n",
              "    </tr>\n",
              "    <tr>\n",
              "      <th>(173.0, 246.0]</th>\n",
              "      <td>0.533784</td>\n",
              "      <td>0.507246</td>\n",
              "      <td>0.346667</td>\n",
              "      <td>0.391753</td>\n",
              "      <td>0.11875</td>\n",
              "      <td>0.178218</td>\n",
              "      <td>0.0</td>\n",
              "      <td>0.0</td>\n",
              "    </tr>\n",
              "  </tbody>\n",
              "</table>\n",
              "</div>"
            ],
            "text/plain": [
              "exercise_time     (-0.3, 75.0]      ...       (225.0, 300.0]\n",
              "age             (17.938, 49.0]      ...         (49.0, 80.0]\n",
              "weight                              ...                     \n",
              "(99.854, 173.0]       0.466216      ...                  1.0\n",
              "(173.0, 246.0]        0.533784      ...                  0.0\n",
              "\n",
              "[2 rows x 8 columns]"
            ]
          },
          "metadata": {
            "tags": []
          },
          "execution_count": 21
        }
      ]
    },
    {
      "cell_type": "code",
      "metadata": {
        "id": "QthQBAoRDfk0",
        "colab_type": "code",
        "colab": {
          "base_uri": "https://localhost:8080/",
          "height": 192
        },
        "outputId": "96224466-8a5a-4370-94b6-5195d3055eb6"
      },
      "source": [
        "# This time, swapping the exercise and age bins\n",
        "crosstab_1 = pd.crosstab(wgt_bins_2, [age_bins_2, exe_bins], normalize=\"columns\")\n",
        "crosstab_1\n",
        "# The relationship between exercise time and weight is more apparent\n",
        "# Within the age bins, as exercise time increases the probability of being overweight decreases"
      ],
      "execution_count": 39,
      "outputs": [
        {
          "output_type": "execute_result",
          "data": {
            "text/html": [
              "<div>\n",
              "<style scoped>\n",
              "    .dataframe tbody tr th:only-of-type {\n",
              "        vertical-align: middle;\n",
              "    }\n",
              "\n",
              "    .dataframe tbody tr th {\n",
              "        vertical-align: top;\n",
              "    }\n",
              "\n",
              "    .dataframe thead tr th {\n",
              "        text-align: left;\n",
              "    }\n",
              "\n",
              "    .dataframe thead tr:last-of-type th {\n",
              "        text-align: right;\n",
              "    }\n",
              "</style>\n",
              "<table border=\"1\" class=\"dataframe\">\n",
              "  <thead>\n",
              "    <tr>\n",
              "      <th>age</th>\n",
              "      <th colspan=\"4\" halign=\"left\">(17.938, 49.0]</th>\n",
              "      <th colspan=\"4\" halign=\"left\">(49.0, 80.0]</th>\n",
              "    </tr>\n",
              "    <tr>\n",
              "      <th>exercise_time</th>\n",
              "      <th>(-0.3, 75.0]</th>\n",
              "      <th>(75.0, 150.0]</th>\n",
              "      <th>(150.0, 225.0]</th>\n",
              "      <th>(225.0, 300.0]</th>\n",
              "      <th>(-0.3, 75.0]</th>\n",
              "      <th>(75.0, 150.0]</th>\n",
              "      <th>(150.0, 225.0]</th>\n",
              "      <th>(225.0, 300.0]</th>\n",
              "    </tr>\n",
              "    <tr>\n",
              "      <th>weight</th>\n",
              "      <th></th>\n",
              "      <th></th>\n",
              "      <th></th>\n",
              "      <th></th>\n",
              "      <th></th>\n",
              "      <th></th>\n",
              "      <th></th>\n",
              "      <th></th>\n",
              "    </tr>\n",
              "  </thead>\n",
              "  <tbody>\n",
              "    <tr>\n",
              "      <th>(99.854, 173.0]</th>\n",
              "      <td>0.466216</td>\n",
              "      <td>0.653333</td>\n",
              "      <td>0.88125</td>\n",
              "      <td>1.0</td>\n",
              "      <td>0.492754</td>\n",
              "      <td>0.608247</td>\n",
              "      <td>0.821782</td>\n",
              "      <td>1.0</td>\n",
              "    </tr>\n",
              "    <tr>\n",
              "      <th>(173.0, 246.0]</th>\n",
              "      <td>0.533784</td>\n",
              "      <td>0.346667</td>\n",
              "      <td>0.11875</td>\n",
              "      <td>0.0</td>\n",
              "      <td>0.507246</td>\n",
              "      <td>0.391753</td>\n",
              "      <td>0.178218</td>\n",
              "      <td>0.0</td>\n",
              "    </tr>\n",
              "  </tbody>\n",
              "</table>\n",
              "</div>"
            ],
            "text/plain": [
              "age             (17.938, 49.0]      ...         (49.0, 80.0]\n",
              "exercise_time     (-0.3, 75.0]      ...       (225.0, 300.0]\n",
              "weight                              ...                     \n",
              "(99.854, 173.0]       0.466216      ...                  1.0\n",
              "(173.0, 246.0]        0.533784      ...                  0.0\n",
              "\n",
              "[2 rows x 8 columns]"
            ]
          },
          "metadata": {
            "tags": []
          },
          "execution_count": 39
        }
      ]
    },
    {
      "cell_type": "code",
      "metadata": {
        "id": "96QjgbbvEqhi",
        "colab_type": "code",
        "colab": {
          "base_uri": "https://localhost:8080/",
          "height": 834
        },
        "outputId": "3c01f3e2-e3b2-4378-f8b7-404a883a0a39"
      },
      "source": [
        "# Time to look at some plots - first up, scatter\n",
        "persons_df.plot.scatter(\"weight\", \"exercise_time\")\n",
        "persons_df.plot.scatter(\"weight\", \"age\")\n",
        "persons_df.plot.scatter(\"exercise_time\", \"age\")"
      ],
      "execution_count": 36,
      "outputs": [
        {
          "output_type": "execute_result",
          "data": {
            "text/plain": [
              "<matplotlib.axes._subplots.AxesSubplot at 0x7f32b9b5bda0>"
            ]
          },
          "metadata": {
            "tags": []
          },
          "execution_count": 36
        },
        {
          "output_type": "display_data",
          "data": {
            "image/png": "[encoded data removed]",
            "text/plain": [
              "<Figure size 432x288 with 1 Axes>"
            ]
          },
          "metadata": {
            "tags": []
          }
        },
        {
          "output_type": "display_data",
          "data": {
            "image/png": "[encoded data removed]",
            "text/plain": [
              "<Figure size 432x288 with 1 Axes>"
            ]
          },
          "metadata": {
            "tags": []
          }
        },
        {
          "output_type": "display_data",
          "data": {
            "image/png": "[encoded data removed]",
            "text/plain": [
              "<Figure size 432x288 with 1 Axes>"
            ]
          },
          "metadata": {
            "tags": []
          }
        }
      ]
    },
    {
      "cell_type": "code",
      "metadata": {
        "id": "F1ON4aUfT1ss",
        "colab_type": "code",
        "colab": {
          "base_uri": "https://localhost:8080/",
          "height": 238
        },
        "outputId": "03ae7d17-10db-4d20-eaf4-481d9da3acca"
      },
      "source": [
        "# The plots above don't do a whole lot of good\n",
        "# Trying something else, such as a line plot\n",
        "# Also going to remove the older age group and use 4 bins for weight, 2 for exercise time\n",
        "exe_bins_2 = pd.cut(persons_df[\"exercise_time\"], 2)\n",
        "crosstab_2 = pd.crosstab(wgt_bins, [age_bins_2, exe_bins_2], normalize=\"columns\")\n",
        "ct_final = crosstab_2.iloc[:, :2]\n",
        "ct_final"
      ],
      "execution_count": 64,
      "outputs": [
        {
          "output_type": "execute_result",
          "data": {
            "text/html": [
              "<div>\n",
              "<style scoped>\n",
              "    .dataframe tbody tr th:only-of-type {\n",
              "        vertical-align: middle;\n",
              "    }\n",
              "\n",
              "    .dataframe tbody tr th {\n",
              "        vertical-align: top;\n",
              "    }\n",
              "\n",
              "    .dataframe thead tr th {\n",
              "        text-align: left;\n",
              "    }\n",
              "\n",
              "    .dataframe thead tr:last-of-type th {\n",
              "        text-align: right;\n",
              "    }\n",
              "</style>\n",
              "<table border=\"1\" class=\"dataframe\">\n",
              "  <thead>\n",
              "    <tr>\n",
              "      <th>age</th>\n",
              "      <th colspan=\"2\" halign=\"left\">(17.938, 49.0]</th>\n",
              "    </tr>\n",
              "    <tr>\n",
              "      <th>exercise_time</th>\n",
              "      <th>(-0.3, 150.0]</th>\n",
              "      <th>(150.0, 300.0]</th>\n",
              "    </tr>\n",
              "    <tr>\n",
              "      <th>weight</th>\n",
              "      <th></th>\n",
              "      <th></th>\n",
              "    </tr>\n",
              "  </thead>\n",
              "  <tbody>\n",
              "    <tr>\n",
              "      <th>(99.854, 136.5]</th>\n",
              "      <td>0.268456</td>\n",
              "      <td>0.548780</td>\n",
              "    </tr>\n",
              "    <tr>\n",
              "      <th>(136.5, 173.0]</th>\n",
              "      <td>0.291946</td>\n",
              "      <td>0.393293</td>\n",
              "    </tr>\n",
              "    <tr>\n",
              "      <th>(173.0, 209.5]</th>\n",
              "      <td>0.312081</td>\n",
              "      <td>0.057927</td>\n",
              "    </tr>\n",
              "    <tr>\n",
              "      <th>(209.5, 246.0]</th>\n",
              "      <td>0.127517</td>\n",
              "      <td>0.000000</td>\n",
              "    </tr>\n",
              "  </tbody>\n",
              "</table>\n",
              "</div>"
            ],
            "text/plain": [
              "age             (17.938, 49.0]               \n",
              "exercise_time    (-0.3, 150.0] (150.0, 300.0]\n",
              "weight                                       \n",
              "(99.854, 136.5]       0.268456       0.548780\n",
              "(136.5, 173.0]        0.291946       0.393293\n",
              "(173.0, 209.5]        0.312081       0.057927\n",
              "(209.5, 246.0]        0.127517       0.000000"
            ]
          },
          "metadata": {
            "tags": []
          },
          "execution_count": 64
        }
      ]
    },
    {
      "cell_type": "code",
      "metadata": {
        "id": "xziAiy2LVgIB",
        "colab_type": "code",
        "colab": {
          "base_uri": "https://localhost:8080/",
          "height": 273
        },
        "outputId": "4c392f38-73ec-4717-85f7-fb5a00d0e57d"
      },
      "source": [
        "ct_final.plot();\n",
        "# This is one of the more intuitive ones that doesn't get too crowded."
      ],
      "execution_count": 65,
      "outputs": [
        {
          "output_type": "display_data",
          "data": {
            "image/png": "[encoded data removed]",
            "text/plain": [
              "<Figure size 432x288 with 1 Axes>"
            ]
          },
          "metadata": {
            "tags": []
          }
        }
      ]
    },
    {
      "cell_type": "code",
      "metadata": {
        "id": "aaKLkD3rXm5L",
        "colab_type": "code",
        "colab": {
          "base_uri": "https://localhost:8080/",
          "height": 350
        },
        "outputId": "868d1f16-2c05-46cc-ad14-6d4c0bfd1ddd"
      },
      "source": [
        "# Maybe the same data would look better as a different type of plot\n",
        "ct_final.plot(kind=\"bar\");"
      ],
      "execution_count": 66,
      "outputs": [
        {
          "output_type": "display_data",
          "data": {
            "image/png": "[encoded data removed]",
            "text/plain": [
              "<Figure size 432x288 with 1 Axes>"
            ]
          },
          "metadata": {
            "tags": []
          }
        }
      ]
    },
    {
      "cell_type": "markdown",
      "metadata": {
        "id": "BT9gdS7viJZa",
        "colab_type": "text"
      },
      "source": [
        "### Assignment questions\n",
        "\n",
        "After you've worked on some code, answer the following questions in this text block:\n",
        "\n",
        "1.  What are the variable types in the data?\n",
        "2.  What are the relationships between the variables?\n",
        "3.  Which relationships are \"real\", and which spurious?\n",
        "\n",
        "---\n",
        "\n",
        "1. The variables are all integers.\n",
        "2. It seems to be the case that older individuals are more likely to weigh more, and that those who spend more time exercising are more likely to weigh less.\n",
        "3. My intuition says that the relationship between age and weight is spurious. Apart from the increase in weight when a person goes through puberty, there is no real reason to believe that age dictates weight. On the other hand, the most obvious and \"real\" relationship is between exercise time and weight. This relationship becaomes even more apparent when the age is binned - within the age bins, the relationship between exercise time and weight is very consistently negative.\n",
        "\n"
      ]
    },
    {
      "cell_type": "markdown",
      "metadata": {
        "id": "_XXg2crAipwP",
        "colab_type": "text"
      },
      "source": [
        "## Stretch goals and resources\n",
        "\n",
        "Following are *optional* things for you to take a look at. Focus on the above assignment first, and make sure to commit and push your changes to GitHub.\n",
        "\n",
        "- [Spurious Correlations](http://tylervigen.com/spurious-correlations)\n",
        "- [NIH on controlling for confounding variables](https://www.ncbi.nlm.nih.gov/pmc/articles/PMC4017459/)\n",
        "\n",
        "Stretch goals:\n",
        "\n",
        "- Produce your own plot inspired by the Spurious Correlation visualizations (and consider writing a blog post about it - both the content and how you made it)\n",
        "- Pick one of the techniques that NIH highlights for confounding variables - we'll be going into many of them later, but see if you can find which Python modules may help (hint - check scikit-learn)"
      ]
    }
  ]
}