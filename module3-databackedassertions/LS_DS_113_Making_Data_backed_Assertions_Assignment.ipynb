{
  "nbformat": 4,
  "nbformat_minor": 0,
  "metadata": {
    "colab": {
      "name": "Copy of LS_DS_113_Making_Data_backed_Assertions_Assignment.ipynb",
      "version": "0.3.2",
      "provenance": [],
      "collapsed_sections": [],
      "include_colab_link": true
    },
    "kernelspec": {
      "name": "python3",
      "display_name": "Python 3"
    }
  },
  "cells": [
    {
      "cell_type": "markdown",
      "metadata": {
        "id": "view-in-github",
        "colab_type": "text"
      },
      "source": [
        "<a href=\"https://colab.research.google.com/github/CurtCalledBurt/DS-Unit-1-Sprint-1-Dealing-With-Data/blob/master/module3-databackedassertions/LS_DS_113_Making_Data_backed_Assertions_Assignment.ipynb\" target=\"_parent\"><img src=\"https://colab.research.google.com/assets/colab-badge.svg\" alt=\"Open In Colab\"/></a>"
      ]
    },
    {
      "cell_type": "markdown",
      "metadata": {
        "id": "Okfr_uhwhS1X",
        "colab_type": "text"
      },
      "source": [
        "# Lambda School Data Science - Making Data-backed Assertions\n",
        "\n",
        "This is, for many, the main point of data science - to create and support reasoned arguments based on evidence. It's not a topic to master in a day, but it is worth some focused time thinking about and structuring your approach to it."
      ]
    },
    {
      "cell_type": "markdown",
      "metadata": {
        "id": "lOqaPds9huME",
        "colab_type": "text"
      },
      "source": [
        "## Assignment - what's going on here?\n",
        "\n",
        "Consider the data in `persons.csv` (already prepared for you, in the repo for the week). It has four columns - a unique id, followed by age (in years), weight (in lbs), and exercise time (in minutes/week) of 1200 (hypothetical) people.\n",
        "\n",
        "Try to figure out which variables are possibly related to each other, and which may be confounding relationships.\n",
        "\n",
        "Try and isolate the main relationships and then communicate them using crosstabs and graphs. Share any cool graphs that you make with the rest of the class in Slack!"
      ]
    },
    {
      "cell_type": "code",
      "metadata": {
        "id": "TRB05Mthsb_Q",
        "colab_type": "code",
        "colab": {}
      },
      "source": [
        "import pandas as pd"
      ],
      "execution_count": 0,
      "outputs": []
    },
    {
      "cell_type": "code",
      "metadata": {
        "id": "3xtHoAe6wbgK",
        "colab_type": "code",
        "colab": {}
      },
      "source": [
        "#!pip install pandas==0.23.4"
      ],
      "execution_count": 0,
      "outputs": []
    },
    {
      "cell_type": "code",
      "metadata": {
        "id": "TGUS79cOhPWj",
        "colab_type": "code",
        "colab": {
          "base_uri": "https://localhost:8080/",
          "height": 195
        },
        "outputId": "56417ddd-4f20-4ad5-8585-347360ea25f6"
      },
      "source": [
        "# TODO - your code here\n",
        "# Use what we did live in lecture as an example\n",
        "weight_data_url = 'https://raw.githubusercontent.com/LambdaSchool/DS-Unit-1-Sprint-1-Dealing-With-Data/master/module3-databackedassertions/persons.csv'\n",
        "weight_data = pd.read_csv(weight_data_url)\n",
        "weight_data.head()\n",
        "# HINT - you can find the raw URL on GitHub and potentially use that\n",
        "# to load the data with read_csv, or you can upload it yourself"
      ],
      "execution_count": 3,
      "outputs": [
        {
          "output_type": "execute_result",
          "data": {
            "text/html": [
              "<div>\n",
              "<style scoped>\n",
              "    .dataframe tbody tr th:only-of-type {\n",
              "        vertical-align: middle;\n",
              "    }\n",
              "\n",
              "    .dataframe tbody tr th {\n",
              "        vertical-align: top;\n",
              "    }\n",
              "\n",
              "    .dataframe thead th {\n",
              "        text-align: right;\n",
              "    }\n",
              "</style>\n",
              "<table border=\"1\" class=\"dataframe\">\n",
              "  <thead>\n",
              "    <tr style=\"text-align: right;\">\n",
              "      <th></th>\n",
              "      <th>Unnamed: 0</th>\n",
              "      <th>age</th>\n",
              "      <th>weight</th>\n",
              "      <th>exercise_time</th>\n",
              "    </tr>\n",
              "  </thead>\n",
              "  <tbody>\n",
              "    <tr>\n",
              "      <th>0</th>\n",
              "      <td>0</td>\n",
              "      <td>44</td>\n",
              "      <td>118</td>\n",
              "      <td>192</td>\n",
              "    </tr>\n",
              "    <tr>\n",
              "      <th>1</th>\n",
              "      <td>1</td>\n",
              "      <td>41</td>\n",
              "      <td>161</td>\n",
              "      <td>35</td>\n",
              "    </tr>\n",
              "    <tr>\n",
              "      <th>2</th>\n",
              "      <td>2</td>\n",
              "      <td>46</td>\n",
              "      <td>128</td>\n",
              "      <td>220</td>\n",
              "    </tr>\n",
              "    <tr>\n",
              "      <th>3</th>\n",
              "      <td>3</td>\n",
              "      <td>39</td>\n",
              "      <td>216</td>\n",
              "      <td>57</td>\n",
              "    </tr>\n",
              "    <tr>\n",
              "      <th>4</th>\n",
              "      <td>4</td>\n",
              "      <td>28</td>\n",
              "      <td>116</td>\n",
              "      <td>182</td>\n",
              "    </tr>\n",
              "  </tbody>\n",
              "</table>\n",
              "</div>"
            ],
            "text/plain": [
              "   Unnamed: 0  age  weight  exercise_time\n",
              "0           0   44     118            192\n",
              "1           1   41     161             35\n",
              "2           2   46     128            220\n",
              "3           3   39     216             57\n",
              "4           4   28     116            182"
            ]
          },
          "metadata": {
            "tags": []
          },
          "execution_count": 3
        }
      ]
    },
    {
      "cell_type": "code",
      "metadata": {
        "id": "kngJIuAps6wL",
        "colab_type": "code",
        "colab": {
          "base_uri": "https://localhost:8080/",
          "height": 101
        },
        "outputId": "00a15f74-e689-4a57-942c-5b0068ddc802"
      },
      "source": [
        "weight_data.isna().sum()"
      ],
      "execution_count": 4,
      "outputs": [
        {
          "output_type": "execute_result",
          "data": {
            "text/plain": [
              "Unnamed: 0       0\n",
              "age              0\n",
              "weight           0\n",
              "exercise_time    0\n",
              "dtype: int64"
            ]
          },
          "metadata": {
            "tags": []
          },
          "execution_count": 4
        }
      ]
    },
    {
      "cell_type": "code",
      "metadata": {
        "id": "QhfTg9Odxbjo",
        "colab_type": "code",
        "colab": {}
      },
      "source": [
        "weight_bins = pd.cut(weight_data.weight, 6)\n",
        "exercise_bins = pd.cut(weight_data.exercise_time, 6)\n",
        "age_bins = pd.cut(weight_data.age, 6)"
      ],
      "execution_count": 0,
      "outputs": []
    },
    {
      "cell_type": "code",
      "metadata": {
        "id": "OyrBQa21s_RA",
        "colab_type": "code",
        "colab": {
          "base_uri": "https://localhost:8080/",
          "height": 254
        },
        "outputId": "87f32034-c7c5-41b9-f016-07f148759664"
      },
      "source": [
        "pd.crosstab(weight_bins, exercise_bins, normalize = 'columns')"
      ],
      "execution_count": 14,
      "outputs": [
        {
          "output_type": "execute_result",
          "data": {
            "text/html": [
              "<div>\n",
              "<style scoped>\n",
              "    .dataframe tbody tr th:only-of-type {\n",
              "        vertical-align: middle;\n",
              "    }\n",
              "\n",
              "    .dataframe tbody tr th {\n",
              "        vertical-align: top;\n",
              "    }\n",
              "\n",
              "    .dataframe thead th {\n",
              "        text-align: right;\n",
              "    }\n",
              "</style>\n",
              "<table border=\"1\" class=\"dataframe\">\n",
              "  <thead>\n",
              "    <tr style=\"text-align: right;\">\n",
              "      <th>exercise_time</th>\n",
              "      <th>(-0.3, 50.0]</th>\n",
              "      <th>(50.0, 100.0]</th>\n",
              "      <th>(100.0, 150.0]</th>\n",
              "      <th>(150.0, 200.0]</th>\n",
              "      <th>(200.0, 250.0]</th>\n",
              "      <th>(250.0, 300.0]</th>\n",
              "    </tr>\n",
              "    <tr>\n",
              "      <th>weight</th>\n",
              "      <th></th>\n",
              "      <th></th>\n",
              "      <th></th>\n",
              "      <th></th>\n",
              "      <th></th>\n",
              "      <th></th>\n",
              "    </tr>\n",
              "  </thead>\n",
              "  <tbody>\n",
              "    <tr>\n",
              "      <th>(99.854, 124.333]</th>\n",
              "      <td>0.141079</td>\n",
              "      <td>0.159091</td>\n",
              "      <td>0.262887</td>\n",
              "      <td>0.268421</td>\n",
              "      <td>0.296774</td>\n",
              "      <td>0.448718</td>\n",
              "    </tr>\n",
              "    <tr>\n",
              "      <th>(124.333, 148.667]</th>\n",
              "      <td>0.153527</td>\n",
              "      <td>0.178030</td>\n",
              "      <td>0.139175</td>\n",
              "      <td>0.326316</td>\n",
              "      <td>0.406452</td>\n",
              "      <td>0.435897</td>\n",
              "    </tr>\n",
              "    <tr>\n",
              "      <th>(148.667, 173.0]</th>\n",
              "      <td>0.153527</td>\n",
              "      <td>0.238636</td>\n",
              "      <td>0.252577</td>\n",
              "      <td>0.231579</td>\n",
              "      <td>0.270968</td>\n",
              "      <td>0.115385</td>\n",
              "    </tr>\n",
              "    <tr>\n",
              "      <th>(173.0, 197.333]</th>\n",
              "      <td>0.195021</td>\n",
              "      <td>0.170455</td>\n",
              "      <td>0.211340</td>\n",
              "      <td>0.163158</td>\n",
              "      <td>0.025806</td>\n",
              "      <td>0.000000</td>\n",
              "    </tr>\n",
              "    <tr>\n",
              "      <th>(197.333, 221.667]</th>\n",
              "      <td>0.215768</td>\n",
              "      <td>0.234848</td>\n",
              "      <td>0.134021</td>\n",
              "      <td>0.010526</td>\n",
              "      <td>0.000000</td>\n",
              "      <td>0.000000</td>\n",
              "    </tr>\n",
              "    <tr>\n",
              "      <th>(221.667, 246.0]</th>\n",
              "      <td>0.141079</td>\n",
              "      <td>0.018939</td>\n",
              "      <td>0.000000</td>\n",
              "      <td>0.000000</td>\n",
              "      <td>0.000000</td>\n",
              "      <td>0.000000</td>\n",
              "    </tr>\n",
              "  </tbody>\n",
              "</table>\n",
              "</div>"
            ],
            "text/plain": [
              "exercise_time       (-0.3, 50.0]       ...        (250.0, 300.0]\n",
              "weight                                 ...                      \n",
              "(99.854, 124.333]       0.141079       ...              0.448718\n",
              "(124.333, 148.667]      0.153527       ...              0.435897\n",
              "(148.667, 173.0]        0.153527       ...              0.115385\n",
              "(173.0, 197.333]        0.195021       ...              0.000000\n",
              "(197.333, 221.667]      0.215768       ...              0.000000\n",
              "(221.667, 246.0]        0.141079       ...              0.000000\n",
              "\n",
              "[6 rows x 6 columns]"
            ]
          },
          "metadata": {
            "tags": []
          },
          "execution_count": 14
        }
      ]
    },
    {
      "cell_type": "markdown",
      "metadata": {
        "id": "wpo3azXFt4wh",
        "colab_type": "text"
      },
      "source": [
        "Okay, so right off the bat we appear to be starting according to our intution (at least for the bottom right of the crosstab): people who exercise more tend to not weigh extreme amounts."
      ]
    },
    {
      "cell_type": "code",
      "metadata": {
        "id": "b9HAjs5XuNmP",
        "colab_type": "code",
        "colab": {
          "base_uri": "https://localhost:8080/",
          "height": 254
        },
        "outputId": "655ca59b-ccb7-4a82-c753-f7eb065f1d64"
      },
      "source": [
        "pd.crosstab(weight_bins, age_bins, normalize = 'columns')"
      ],
      "execution_count": 15,
      "outputs": [
        {
          "output_type": "execute_result",
          "data": {
            "text/html": [
              "<div>\n",
              "<style scoped>\n",
              "    .dataframe tbody tr th:only-of-type {\n",
              "        vertical-align: middle;\n",
              "    }\n",
              "\n",
              "    .dataframe tbody tr th {\n",
              "        vertical-align: top;\n",
              "    }\n",
              "\n",
              "    .dataframe thead th {\n",
              "        text-align: right;\n",
              "    }\n",
              "</style>\n",
              "<table border=\"1\" class=\"dataframe\">\n",
              "  <thead>\n",
              "    <tr style=\"text-align: right;\">\n",
              "      <th>age</th>\n",
              "      <th>(17.938, 28.333]</th>\n",
              "      <th>(28.333, 38.667]</th>\n",
              "      <th>(38.667, 49.0]</th>\n",
              "      <th>(49.0, 59.333]</th>\n",
              "      <th>(59.333, 69.667]</th>\n",
              "      <th>(69.667, 80.0]</th>\n",
              "    </tr>\n",
              "    <tr>\n",
              "      <th>weight</th>\n",
              "      <th></th>\n",
              "      <th></th>\n",
              "      <th></th>\n",
              "      <th></th>\n",
              "      <th></th>\n",
              "      <th></th>\n",
              "    </tr>\n",
              "  </thead>\n",
              "  <tbody>\n",
              "    <tr>\n",
              "      <th>(99.854, 124.333]</th>\n",
              "      <td>0.267943</td>\n",
              "      <td>0.322581</td>\n",
              "      <td>0.245</td>\n",
              "      <td>0.271739</td>\n",
              "      <td>0.156250</td>\n",
              "      <td>0.196970</td>\n",
              "    </tr>\n",
              "    <tr>\n",
              "      <th>(124.333, 148.667]</th>\n",
              "      <td>0.272727</td>\n",
              "      <td>0.225806</td>\n",
              "      <td>0.320</td>\n",
              "      <td>0.271739</td>\n",
              "      <td>0.250000</td>\n",
              "      <td>0.181818</td>\n",
              "    </tr>\n",
              "    <tr>\n",
              "      <th>(148.667, 173.0]</th>\n",
              "      <td>0.229665</td>\n",
              "      <td>0.202765</td>\n",
              "      <td>0.195</td>\n",
              "      <td>0.179348</td>\n",
              "      <td>0.229167</td>\n",
              "      <td>0.227273</td>\n",
              "    </tr>\n",
              "    <tr>\n",
              "      <th>(173.0, 197.333]</th>\n",
              "      <td>0.110048</td>\n",
              "      <td>0.129032</td>\n",
              "      <td>0.110</td>\n",
              "      <td>0.152174</td>\n",
              "      <td>0.166667</td>\n",
              "      <td>0.176768</td>\n",
              "    </tr>\n",
              "    <tr>\n",
              "      <th>(197.333, 221.667]</th>\n",
              "      <td>0.095694</td>\n",
              "      <td>0.101382</td>\n",
              "      <td>0.105</td>\n",
              "      <td>0.119565</td>\n",
              "      <td>0.151042</td>\n",
              "      <td>0.141414</td>\n",
              "    </tr>\n",
              "    <tr>\n",
              "      <th>(221.667, 246.0]</th>\n",
              "      <td>0.023923</td>\n",
              "      <td>0.018433</td>\n",
              "      <td>0.025</td>\n",
              "      <td>0.005435</td>\n",
              "      <td>0.046875</td>\n",
              "      <td>0.075758</td>\n",
              "    </tr>\n",
              "  </tbody>\n",
              "</table>\n",
              "</div>"
            ],
            "text/plain": [
              "age                 (17.938, 28.333]       ...        (69.667, 80.0]\n",
              "weight                                     ...                      \n",
              "(99.854, 124.333]           0.267943       ...              0.196970\n",
              "(124.333, 148.667]          0.272727       ...              0.181818\n",
              "(148.667, 173.0]            0.229665       ...              0.227273\n",
              "(173.0, 197.333]            0.110048       ...              0.176768\n",
              "(197.333, 221.667]          0.095694       ...              0.141414\n",
              "(221.667, 246.0]            0.023923       ...              0.075758\n",
              "\n",
              "[6 rows x 6 columns]"
            ]
          },
          "metadata": {
            "tags": []
          },
          "execution_count": 15
        }
      ]
    },
    {
      "cell_type": "markdown",
      "metadata": {
        "id": "Ut2jq1bouTdx",
        "colab_type": "text"
      },
      "source": [
        "This leads me to think that either age has no bearing on weight (which would be counter to my intuition, though that might be wrong), or the relation is a bit subtler than initially anticipated.  "
      ]
    },
    {
      "cell_type": "code",
      "metadata": {
        "id": "ee7UFhfYumMy",
        "colab_type": "code",
        "colab": {
          "base_uri": "https://localhost:8080/",
          "height": 254
        },
        "outputId": "3fc9b9c6-bb4d-48fd-8576-87b95fd3db73"
      },
      "source": [
        "#might as well plot the last 2 variable combination\n",
        "pd.crosstab(exercise_bins, age_bins, normalize = 'columns')"
      ],
      "execution_count": 16,
      "outputs": [
        {
          "output_type": "execute_result",
          "data": {
            "text/html": [
              "<div>\n",
              "<style scoped>\n",
              "    .dataframe tbody tr th:only-of-type {\n",
              "        vertical-align: middle;\n",
              "    }\n",
              "\n",
              "    .dataframe tbody tr th {\n",
              "        vertical-align: top;\n",
              "    }\n",
              "\n",
              "    .dataframe thead th {\n",
              "        text-align: right;\n",
              "    }\n",
              "</style>\n",
              "<table border=\"1\" class=\"dataframe\">\n",
              "  <thead>\n",
              "    <tr style=\"text-align: right;\">\n",
              "      <th>age</th>\n",
              "      <th>(17.938, 28.333]</th>\n",
              "      <th>(28.333, 38.667]</th>\n",
              "      <th>(38.667, 49.0]</th>\n",
              "      <th>(49.0, 59.333]</th>\n",
              "      <th>(59.333, 69.667]</th>\n",
              "      <th>(69.667, 80.0]</th>\n",
              "    </tr>\n",
              "    <tr>\n",
              "      <th>exercise_time</th>\n",
              "      <th></th>\n",
              "      <th></th>\n",
              "      <th></th>\n",
              "      <th></th>\n",
              "      <th></th>\n",
              "      <th></th>\n",
              "    </tr>\n",
              "  </thead>\n",
              "  <tbody>\n",
              "    <tr>\n",
              "      <th>(-0.3, 50.0]</th>\n",
              "      <td>0.138756</td>\n",
              "      <td>0.221198</td>\n",
              "      <td>0.135</td>\n",
              "      <td>0.141304</td>\n",
              "      <td>0.229167</td>\n",
              "      <td>0.338384</td>\n",
              "    </tr>\n",
              "    <tr>\n",
              "      <th>(50.0, 100.0]</th>\n",
              "      <td>0.167464</td>\n",
              "      <td>0.147465</td>\n",
              "      <td>0.200</td>\n",
              "      <td>0.163043</td>\n",
              "      <td>0.276042</td>\n",
              "      <td>0.373737</td>\n",
              "    </tr>\n",
              "    <tr>\n",
              "      <th>(100.0, 150.0]</th>\n",
              "      <td>0.157895</td>\n",
              "      <td>0.133641</td>\n",
              "      <td>0.125</td>\n",
              "      <td>0.157609</td>\n",
              "      <td>0.171875</td>\n",
              "      <td>0.227273</td>\n",
              "    </tr>\n",
              "    <tr>\n",
              "      <th>(150.0, 200.0]</th>\n",
              "      <td>0.215311</td>\n",
              "      <td>0.193548</td>\n",
              "      <td>0.130</td>\n",
              "      <td>0.157609</td>\n",
              "      <td>0.187500</td>\n",
              "      <td>0.060606</td>\n",
              "    </tr>\n",
              "    <tr>\n",
              "      <th>(200.0, 250.0]</th>\n",
              "      <td>0.186603</td>\n",
              "      <td>0.156682</td>\n",
              "      <td>0.180</td>\n",
              "      <td>0.130435</td>\n",
              "      <td>0.114583</td>\n",
              "      <td>0.000000</td>\n",
              "    </tr>\n",
              "    <tr>\n",
              "      <th>(250.0, 300.0]</th>\n",
              "      <td>0.133971</td>\n",
              "      <td>0.147465</td>\n",
              "      <td>0.230</td>\n",
              "      <td>0.250000</td>\n",
              "      <td>0.020833</td>\n",
              "      <td>0.000000</td>\n",
              "    </tr>\n",
              "  </tbody>\n",
              "</table>\n",
              "</div>"
            ],
            "text/plain": [
              "age             (17.938, 28.333]       ...        (69.667, 80.0]\n",
              "exercise_time                          ...                      \n",
              "(-0.3, 50.0]            0.138756       ...              0.338384\n",
              "(50.0, 100.0]           0.167464       ...              0.373737\n",
              "(100.0, 150.0]          0.157895       ...              0.227273\n",
              "(150.0, 200.0]          0.215311       ...              0.060606\n",
              "(200.0, 250.0]          0.186603       ...              0.000000\n",
              "(250.0, 300.0]          0.133971       ...              0.000000\n",
              "\n",
              "[6 rows x 6 columns]"
            ]
          },
          "metadata": {
            "tags": []
          },
          "execution_count": 16
        }
      ]
    },
    {
      "cell_type": "markdown",
      "metadata": {
        "id": "tKevh1W0u6dX",
        "colab_type": "text"
      },
      "source": [
        "This also makes sense, as people get older, they tend to exercise less as their bodies get less and less capable of exercising. Though it does appear that being young does not make you more likely to exercise from this crosstab."
      ]
    },
    {
      "cell_type": "code",
      "metadata": {
        "id": "SKJV2VdjzXhN",
        "colab_type": "code",
        "colab": {
          "base_uri": "https://localhost:8080/",
          "height": 698
        },
        "outputId": "78fbec91-487c-4c57-c059-4b775ada6cae"
      },
      "source": [
        "tab = pd.crosstab(weight_bins, [age_bins, exercise_bins], normalize = 'columns')\n",
        "tab.plot(kind='bar')"
      ],
      "execution_count": 20,
      "outputs": [
        {
          "output_type": "execute_result",
          "data": {
            "text/plain": [
              "<matplotlib.axes._subplots.AxesSubplot at 0x7f9b85444e80>"
            ]
          },
          "metadata": {
            "tags": []
          },
          "execution_count": 20
        },
        {
          "output_type": "display_data",
          "data": {
            "image/png": "[encoded data removed]",
            "text/plain": [
              "<Figure size 432x288 with 1 Axes>"
            ]
          },
          "metadata": {
            "tags": []
          }
        }
      ]
    },
    {
      "cell_type": "markdown",
      "metadata": {
        "id": "d4IKczgF0ByD",
        "colab_type": "text"
      },
      "source": [
        "This chart is useless. However! it and the previous weird \"drop off\"s of people at certain exercise threshholds and ages made me realize that I can probably decrease the number of age bins and weight bins down to 2. Because as I noted before, it looks like being young does not do much for your weight, but being old can. And for humans, depending on sex and size, 90-170 lbs is pretty healthy, and where I'd expect most exercising adults to be, where everything close to and above 200 lbs (unless you are JACKED) is where I'd expect most non-exercising adults to be. "
      ]
    },
    {
      "cell_type": "code",
      "metadata": {
        "id": "Qtr-ph5I0iFN",
        "colab_type": "code",
        "colab": {}
      },
      "source": [
        "weight_bins = pd.cut(weight_data.weight, 2)\n",
        "exercise_bins = pd.cut(weight_data.exercise_time, 2)\n",
        "age_bins = pd.cut(weight_data.age, 2)"
      ],
      "execution_count": 0,
      "outputs": []
    },
    {
      "cell_type": "code",
      "metadata": {
        "id": "C6thbCXI0sY2",
        "colab_type": "code",
        "colab": {
          "base_uri": "https://localhost:8080/",
          "height": 366
        },
        "outputId": "78acfd8b-8f8d-40e1-d4b4-c8e7b745bc72"
      },
      "source": [
        "tab = pd.crosstab(weight_bins, [age_bins, exercise_bins], normalize = 'columns')\n",
        "tab.plot(kind='bar')"
      ],
      "execution_count": 29,
      "outputs": [
        {
          "output_type": "execute_result",
          "data": {
            "text/plain": [
              "<matplotlib.axes._subplots.AxesSubplot at 0x7f9b80d1b128>"
            ]
          },
          "metadata": {
            "tags": []
          },
          "execution_count": 29
        },
        {
          "output_type": "display_data",
          "data": {
            "image/png": "[encoded data removed]",
            "text/plain": [
              "<Figure size 432x288 with 1 Axes>"
            ]
          },
          "metadata": {
            "tags": []
          }
        }
      ]
    },
    {
      "cell_type": "markdown",
      "metadata": {
        "id": "6shRLHIa2H_N",
        "colab_type": "text"
      },
      "source": [
        "This shows that decreasing the number of bins shows things a lot better. We clearly that exercise time has a clear relation "
      ]
    },
    {
      "cell_type": "code",
      "metadata": {
        "id": "1ZYQeLyv1wK2",
        "colab_type": "code",
        "colab": {}
      },
      "source": [
        "weight_bins = pd.cut(weight_data.weight, 2)\n",
        "exercise_bins = pd.cut(weight_data.exercise_time, 3)\n",
        "age_bins = pd.cut(weight_data.age, 2)"
      ],
      "execution_count": 0,
      "outputs": []
    },
    {
      "cell_type": "code",
      "metadata": {
        "id": "oHbuPchC1xex",
        "colab_type": "code",
        "colab": {
          "base_uri": "https://localhost:8080/",
          "height": 366
        },
        "outputId": "3c42fb11-0703-4dea-d092-c7a35d86d860"
      },
      "source": [
        "tab = pd.crosstab(weight_bins, [age_bins, exercise_bins], normalize = 'columns')\n",
        "tab.plot(kind='bar')"
      ],
      "execution_count": 48,
      "outputs": [
        {
          "output_type": "execute_result",
          "data": {
            "text/plain": [
              "<matplotlib.axes._subplots.AxesSubplot at 0x7f9b807729e8>"
            ]
          },
          "metadata": {
            "tags": []
          },
          "execution_count": 48
        },
        {
          "output_type": "display_data",
          "data": {
            "image/png": "[encoded data removed]",
            "text/plain": [
              "<Figure size 432x288 with 1 Axes>"
            ]
          },
          "metadata": {
            "tags": []
          }
        }
      ]
    },
    {
      "cell_type": "markdown",
      "metadata": {
        "id": "StbIuWPp267X",
        "colab_type": "text"
      },
      "source": [
        "Same as with the previous chart really, the more you exercise, the less you tend to weigh, regardless of age. Just thought I'd increase the number of bins for exercise time to check how much of an effect a middling amount of exercise can have vs. a large amount. Turns out to look pretty linear. \n",
        "\n",
        "Also, as a percentage, for each exercise amount level, the number of old vs young people is the same. Showing that age is probably NOT useful predictor in how much a person might weigh."
      ]
    },
    {
      "cell_type": "code",
      "metadata": {
        "id": "19geFyIV7uiZ",
        "colab_type": "code",
        "colab": {
          "base_uri": "https://localhost:8080/",
          "height": 361
        },
        "outputId": "03d73f2d-c8f3-4f3d-a7fc-0dec28850fc5"
      },
      "source": [
        "weight_bins = pd.cut(weight_data.weight, 2)\n",
        "exercise_bins = pd.cut(weight_data.exercise_time, 3)\n",
        "age_bins = pd.cut(weight_data.age, 2)\n",
        "\n",
        "tab = pd.crosstab(exercise_bins , [age_bins, weight_bins], normalize = 'columns')\n",
        "tab.plot(kind='bar')"
      ],
      "execution_count": 49,
      "outputs": [
        {
          "output_type": "execute_result",
          "data": {
            "text/plain": [
              "<matplotlib.axes._subplots.AxesSubplot at 0x7f9b8061d828>"
            ]
          },
          "metadata": {
            "tags": []
          },
          "execution_count": 49
        },
        {
          "output_type": "display_data",
          "data": {
            "image/png": "[encoded data removed]",
            "text/plain": [
              "<Figure size 432x288 with 1 Axes>"
            ]
          },
          "metadata": {
            "tags": []
          }
        }
      ]
    },
    {
      "cell_type": "markdown",
      "metadata": {
        "id": "Q8a6-ayN81wA",
        "colab_type": "text"
      },
      "source": [
        "This chart also shows there is a relationship between age and exercise time. The older you are, the less likely you are to get a lot of exercise."
      ]
    },
    {
      "cell_type": "markdown",
      "metadata": {
        "id": "BT9gdS7viJZa",
        "colab_type": "text"
      },
      "source": [
        "### Assignment questions\n",
        "\n",
        "After you've worked on some code, answer the following questions in this text block:\n",
        "\n",
        "1.  What are the variable types in the data? \\\\\n",
        "These are discrete variables. Each variable was reported in integer amounts.\n",
        "\n",
        "2.  What are the relationships between the variables? \\\\\n",
        "There are three relationships: Age vs Weight, Weight vs Exercise, and Exercise vs Weight.\n",
        "\n",
        "3.  Which relationships are \"real\", and which spurious? \\\\\n",
        "$\\>$ The more a person exercises, the less they tend to weigh. Note, this does not conclude that exercise leads to weight LOSS. The relation could be that people who exercise more can do so (and therefore do do so) because they weigh less. \\\\\n",
        "$\\>$ Also, the older you are, the less likely it is that you exercise. \\\\\n",
        "$\\>$ But finally, there is no direct relation between age and weight. If you exercise you are likely to weigh less even when you're old.\n"
      ]
    },
    {
      "cell_type": "markdown",
      "metadata": {
        "id": "_XXg2crAipwP",
        "colab_type": "text"
      },
      "source": [
        "## Stretch goals and resources\n",
        "\n",
        "Following are *optional* things for you to take a look at. Focus on the above assignment first, and make sure to commit and push your changes to GitHub.\n",
        "\n",
        "- [Spurious Correlations](http://tylervigen.com/spurious-correlations)\n",
        "- [NIH on controlling for confounding variables](https://www.ncbi.nlm.nih.gov/pmc/articles/PMC4017459/)\n",
        "\n",
        "Stretch goals:\n",
        "\n",
        "- Produce your own plot inspired by the Spurious Correlation visualizations (and consider writing a blog post about it - both the content and how you made it)\n",
        "- Pick one of the techniques that NIH highlights for confounding variables - we'll be going into many of them later, but see if you can find which Python modules may help (hint - check scikit-learn)"
      ]
    }
  ]
}