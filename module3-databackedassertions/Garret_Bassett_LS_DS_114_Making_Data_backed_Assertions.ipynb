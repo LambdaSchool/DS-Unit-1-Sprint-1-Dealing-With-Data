{
  "nbformat": 4,
  "nbformat_minor": 0,
  "metadata": {
    "colab": {
      "name": "Garret_Bassett_LS_DS_114_Making_Data_backed_Assertions.ipynb",
      "version": "0.3.2",
      "provenance": [],
      "collapsed_sections": [],
      "toc_visible": true,
      "include_colab_link": true
    },
    "kernelspec": {
      "name": "python3",
      "display_name": "Python 3"
    }
  },
  "cells": [
    {
      "cell_type": "markdown",
      "metadata": {
        "id": "view-in-github",
        "colab_type": "text"
      },
      "source": [
        "<a href=\"https://colab.research.google.com/github/garretbassett/DS-Unit-1-Sprint-1-Dealing-With-Data/blob/master/module3-databackedassertions/Garret_Bassett_LS_DS_114_Making_Data_backed_Assertions.ipynb\" target=\"_parent\"><img src=\"https://colab.research.google.com/assets/colab-badge.svg\" alt=\"Open In Colab\"/></a>"
      ]
    },
    {
      "cell_type": "markdown",
      "metadata": {
        "id": "Okfr_uhwhS1X",
        "colab_type": "text"
      },
      "source": [
        "# Lambda School Data Science - Making Data-backed Assertions\n",
        "\n",
        "This is, for many, the main point of data science - to create and support reasoned arguments based on evidence. It's not a topic to master in a day, but it is worth some focused time thinking about and structuring your approach to it."
      ]
    },
    {
      "cell_type": "markdown",
      "metadata": {
        "id": "9dtJETFRhnOG",
        "colab_type": "text"
      },
      "source": [
        "## Lecture - generating a confounding variable\n",
        "\n",
        "The prewatch material told a story about a hypothetical health condition where both the drug usage and overall health outcome were related to gender - thus making gender a confounding variable, obfuscating the possible relationship between the drug and the outcome.\n",
        "\n",
        "Let's use Python to generate data that actually behaves in this fashion!"
      ]
    },
    {
      "cell_type": "code",
      "metadata": {
        "id": "WiBkgmPJhmhE",
        "colab_type": "code",
        "outputId": "6e6dab40-c47e-4a34-a0e3-db116ce949f5",
        "colab": {
          "base_uri": "https://localhost:8080/",
          "height": 1000
        }
      },
      "source": [
        "import random\n",
        "import numpy as np\n",
        "dir(random)  # Reminding ourselves what we can do here"
      ],
      "execution_count": 0,
      "outputs": [
        {
          "output_type": "execute_result",
          "data": {
            "text/plain": [
              "['BPF',\n",
              " 'LOG4',\n",
              " 'NV_MAGICCONST',\n",
              " 'RECIP_BPF',\n",
              " 'Random',\n",
              " 'SG_MAGICCONST',\n",
              " 'SystemRandom',\n",
              " 'TWOPI',\n",
              " '_BuiltinMethodType',\n",
              " '_MethodType',\n",
              " '_Sequence',\n",
              " '_Set',\n",
              " '__all__',\n",
              " '__builtins__',\n",
              " '__cached__',\n",
              " '__doc__',\n",
              " '__file__',\n",
              " '__loader__',\n",
              " '__name__',\n",
              " '__package__',\n",
              " '__spec__',\n",
              " '_acos',\n",
              " '_bisect',\n",
              " '_ceil',\n",
              " '_cos',\n",
              " '_e',\n",
              " '_exp',\n",
              " '_inst',\n",
              " '_itertools',\n",
              " '_log',\n",
              " '_pi',\n",
              " '_random',\n",
              " '_sha512',\n",
              " '_sin',\n",
              " '_sqrt',\n",
              " '_test',\n",
              " '_test_generator',\n",
              " '_urandom',\n",
              " '_warn',\n",
              " 'betavariate',\n",
              " 'choice',\n",
              " 'choices',\n",
              " 'expovariate',\n",
              " 'gammavariate',\n",
              " 'gauss',\n",
              " 'getrandbits',\n",
              " 'getstate',\n",
              " 'lognormvariate',\n",
              " 'normalvariate',\n",
              " 'paretovariate',\n",
              " 'randint',\n",
              " 'random',\n",
              " 'randrange',\n",
              " 'sample',\n",
              " 'seed',\n",
              " 'setstate',\n",
              " 'shuffle',\n",
              " 'triangular',\n",
              " 'uniform',\n",
              " 'vonmisesvariate',\n",
              " 'weibullvariate']"
            ]
          },
          "metadata": {
            "tags": []
          },
          "execution_count": 24
        }
      ]
    },
    {
      "cell_type": "code",
      "metadata": {
        "id": "Ks5qFtpnq-q5",
        "colab_type": "code",
        "outputId": "c3d4a07a-f860-4941-e6fb-660fda404fb7",
        "colab": {
          "base_uri": "https://localhost:8080/",
          "height": 34
        }
      },
      "source": [
        "# Let's think of another scenario:\n",
        "# We work for a company that sells accessories for mobile phones.\n",
        "# They have an ecommerce site, and we are supposed to analyze logs\n",
        "# to determine what sort of usage is related to purchases, and thus guide\n",
        "# website development to encourage higher conversion.\n",
        "\n",
        "# The hypothesis - users who spend longer on the site tend\n",
        "# to spend more. Seems reasonable, no?\n",
        "\n",
        "# But there's a confounding variable! If they're on a phone, they:\n",
        "# a) Spend less time on the site, but\n",
        "# b) Are more likely to be interested in the actual products!\n",
        "\n",
        "# Let's use namedtuple to represent our data\n",
        "\n",
        "from collections import namedtuple\n",
        "# purchased and mobile are bools, time_on_site in seconds\n",
        "User = namedtuple('User', ['purchased','time_on_site', 'mobile'])\n",
        "\n",
        "example_user = User(False, 12, False)\n",
        "print(example_user)"
      ],
      "execution_count": 0,
      "outputs": [
        {
          "output_type": "stream",
          "text": [
            "User(purchased=False, time_on_site=12, mobile=False)\n"
          ],
          "name": "stdout"
        }
      ]
    },
    {
      "cell_type": "code",
      "metadata": {
        "id": "lfPiHNG_sefL",
        "colab_type": "code",
        "outputId": "7f18349d-7aaf-4869-c4b5-af85549275fa",
        "colab": {
          "base_uri": "https://localhost:8080/",
          "height": 187
        }
      },
      "source": [
        "# And now let's generate 1000 example users\n",
        "# 750 mobile, 250 not (i.e. desktop)\n",
        "# A desktop user has a base conversion likelihood of 10%\n",
        "# And it goes up by 1% for each 15 seconds they spend on the site\n",
        "# And they spend anywhere from 10 seconds to 10 minutes on the site (uniform)\n",
        "# Mobile users spend on average half as much time on the site as desktop\n",
        "# But have three times as much base likelihood of buying something\n",
        "\n",
        "users = []\n",
        "\n",
        "for _ in range(250):\n",
        "  # Desktop users\n",
        "  # time_on_site = random.uniform(10, 600)\n",
        "  time_on_site = np.random.normal(9.4*60, 3*60)\n",
        "  purchased = random.random() < 0.1 + (time_on_site / 1500)\n",
        "  users.append(User(purchased, time_on_site, False))\n",
        "  \n",
        "for _ in range(750):\n",
        "  # Mobile users\n",
        "  # time_on_site = random.uniform(5, 300)\n",
        "  time_on_site = np.random.normal(7.5*60, 2*60)\n",
        "  purchased = random.random() < 0.3 + (time_on_site / 1500)\n",
        "  users.append(User(purchased, time_on_site, True))\n",
        "  \n",
        "random.shuffle(users)\n",
        "users[:10]"
      ],
      "execution_count": 0,
      "outputs": [
        {
          "output_type": "execute_result",
          "data": {
            "text/plain": [
              "[User(purchased=True, time_on_site=538.8297121227506, mobile=True),\n",
              " User(purchased=True, time_on_site=523.636974607472, mobile=True),\n",
              " User(purchased=True, time_on_site=406.83880952065624, mobile=True),\n",
              " User(purchased=True, time_on_site=238.23367189280492, mobile=True),\n",
              " User(purchased=False, time_on_site=288.22299741203705, mobile=False),\n",
              " User(purchased=False, time_on_site=651.9919541612747, mobile=False),\n",
              " User(purchased=False, time_on_site=717.5032388870984, mobile=True),\n",
              " User(purchased=True, time_on_site=472.6006418410932, mobile=True),\n",
              " User(purchased=True, time_on_site=660.190072877449, mobile=True),\n",
              " User(purchased=False, time_on_site=397.9860425509189, mobile=False)]"
            ]
          },
          "metadata": {
            "tags": []
          },
          "execution_count": 29
        }
      ]
    },
    {
      "cell_type": "code",
      "metadata": {
        "id": "gpre4zCHnwgS",
        "colab_type": "code",
        "outputId": "69161b22-9b68-4f7c-eea7-a3b0f47cf83d",
        "colab": {
          "base_uri": "https://localhost:8080/",
          "height": 34
        }
      },
      "source": [
        "print((random.random() < .1) + 5)"
      ],
      "execution_count": 0,
      "outputs": [
        {
          "output_type": "stream",
          "text": [
            "5\n"
          ],
          "name": "stdout"
        }
      ]
    },
    {
      "cell_type": "code",
      "metadata": {
        "id": "9gDYb5qGuRzy",
        "colab_type": "code",
        "outputId": "93717bf3-01bb-4112-9e8f-65de7e0424eb",
        "colab": {
          "base_uri": "https://localhost:8080/",
          "height": 204
        }
      },
      "source": [
        "# Let's put this in a dataframe so we can look at it more easily\n",
        "import pandas as pd\n",
        "user_data = pd.DataFrame(users)\n",
        "user_data.head()"
      ],
      "execution_count": 0,
      "outputs": [
        {
          "output_type": "execute_result",
          "data": {
            "text/html": [
              "<div>\n",
              "<style scoped>\n",
              "    .dataframe tbody tr th:only-of-type {\n",
              "        vertical-align: middle;\n",
              "    }\n",
              "\n",
              "    .dataframe tbody tr th {\n",
              "        vertical-align: top;\n",
              "    }\n",
              "\n",
              "    .dataframe thead th {\n",
              "        text-align: right;\n",
              "    }\n",
              "</style>\n",
              "<table border=\"1\" class=\"dataframe\">\n",
              "  <thead>\n",
              "    <tr style=\"text-align: right;\">\n",
              "      <th></th>\n",
              "      <th>purchased</th>\n",
              "      <th>time_on_site</th>\n",
              "      <th>mobile</th>\n",
              "    </tr>\n",
              "  </thead>\n",
              "  <tbody>\n",
              "    <tr>\n",
              "      <th>0</th>\n",
              "      <td>True</td>\n",
              "      <td>538.829712</td>\n",
              "      <td>True</td>\n",
              "    </tr>\n",
              "    <tr>\n",
              "      <th>1</th>\n",
              "      <td>True</td>\n",
              "      <td>523.636975</td>\n",
              "      <td>True</td>\n",
              "    </tr>\n",
              "    <tr>\n",
              "      <th>2</th>\n",
              "      <td>True</td>\n",
              "      <td>406.838810</td>\n",
              "      <td>True</td>\n",
              "    </tr>\n",
              "    <tr>\n",
              "      <th>3</th>\n",
              "      <td>True</td>\n",
              "      <td>238.233672</td>\n",
              "      <td>True</td>\n",
              "    </tr>\n",
              "    <tr>\n",
              "      <th>4</th>\n",
              "      <td>False</td>\n",
              "      <td>288.222997</td>\n",
              "      <td>False</td>\n",
              "    </tr>\n",
              "  </tbody>\n",
              "</table>\n",
              "</div>"
            ],
            "text/plain": [
              "   purchased  time_on_site  mobile\n",
              "0       True    538.829712    True\n",
              "1       True    523.636975    True\n",
              "2       True    406.838810    True\n",
              "3       True    238.233672    True\n",
              "4      False    288.222997   False"
            ]
          },
          "metadata": {
            "tags": []
          },
          "execution_count": 31
        }
      ]
    },
    {
      "cell_type": "code",
      "metadata": {
        "id": "uTxHgATlvKo_",
        "colab_type": "code",
        "colab": {}
      },
      "source": [
        "user_data['time_on_site_min'] = user_data['time_on_site'] / 60 "
      ],
      "execution_count": 0,
      "outputs": []
    },
    {
      "cell_type": "code",
      "metadata": {
        "id": "pkKu9uNRqH5s",
        "colab_type": "code",
        "outputId": "28f0a0e7-0677-4125-89d2-67d1f344533a",
        "colab": {
          "base_uri": "https://localhost:8080/",
          "height": 269
        }
      },
      "source": [
        "import matplotlib.pyplot as plt\n",
        "# desktop_user_data.time_on_site.hist(alpha=.5)\n",
        "# mobile_user_data.time_on_site.hist(alpha=.5)\n",
        "\n",
        "user_data.groupby('mobile').time_on_site_min.hist(bins=20, alpha=0.5)\n",
        "# Instead of making two separate dataframes, he just grouped by the Boolean. Much simpler.\n",
        "\n",
        "plt.legend(['Desktop', 'Mobile']);"
      ],
      "execution_count": 0,
      "outputs": [
        {
          "output_type": "display_data",
          "data": {
            "image/png": "[encoded data removed]",
            "text/plain": [
              "<Figure size 432x288 with 1 Axes>"
            ]
          },
          "metadata": {
            "tags": []
          }
        }
      ]
    },
    {
      "cell_type": "code",
      "metadata": {
        "id": "wg0Qf3bjsg6-",
        "colab_type": "code",
        "outputId": "c1fb9fea-87b9-4dd8-ac18-a0bdcd109010",
        "colab": {
          "base_uri": "https://localhost:8080/",
          "height": 49
        }
      },
      "source": [
        "mobile_user_data[mobile_user_data['time_on_site'] < 0.0]\n",
        "\n",
        "# Bruno had a couple of negative values - not sure why I don't"
      ],
      "execution_count": 0,
      "outputs": [
        {
          "output_type": "execute_result",
          "data": {
            "text/html": [
              "<div>\n",
              "<style scoped>\n",
              "    .dataframe tbody tr th:only-of-type {\n",
              "        vertical-align: middle;\n",
              "    }\n",
              "\n",
              "    .dataframe tbody tr th {\n",
              "        vertical-align: top;\n",
              "    }\n",
              "\n",
              "    .dataframe thead th {\n",
              "        text-align: right;\n",
              "    }\n",
              "</style>\n",
              "<table border=\"1\" class=\"dataframe\">\n",
              "  <thead>\n",
              "    <tr style=\"text-align: right;\">\n",
              "      <th></th>\n",
              "      <th>purchased</th>\n",
              "      <th>time_on_site</th>\n",
              "      <th>mobile</th>\n",
              "    </tr>\n",
              "  </thead>\n",
              "  <tbody>\n",
              "  </tbody>\n",
              "</table>\n",
              "</div>"
            ],
            "text/plain": [
              "Empty DataFrame\n",
              "Columns: [purchased, time_on_site, mobile]\n",
              "Index: []"
            ]
          },
          "metadata": {
            "tags": []
          },
          "execution_count": 76
        }
      ]
    },
    {
      "cell_type": "code",
      "metadata": {
        "id": "sr6IJv77ulVl",
        "colab_type": "code",
        "outputId": "5314326d-3c2b-4ce5-eb3f-9fa6437f016f",
        "colab": {
          "base_uri": "https://localhost:8080/",
          "height": 191
        }
      },
      "source": [
        "# Let's use crosstabulation to try to see what's going on\n",
        "pd.crosstab(user_data['purchased'], user_data['time_on_site'])"
      ],
      "execution_count": 0,
      "outputs": [
        {
          "output_type": "execute_result",
          "data": {
            "text/html": [
              "<div>\n",
              "<style scoped>\n",
              "    .dataframe tbody tr th:only-of-type {\n",
              "        vertical-align: middle;\n",
              "    }\n",
              "\n",
              "    .dataframe tbody tr th {\n",
              "        vertical-align: top;\n",
              "    }\n",
              "\n",
              "    .dataframe thead th {\n",
              "        text-align: right;\n",
              "    }\n",
              "</style>\n",
              "<table border=\"1\" class=\"dataframe\">\n",
              "  <thead>\n",
              "    <tr style=\"text-align: right;\">\n",
              "      <th>time_on_site</th>\n",
              "      <th>23.586524039686253</th>\n",
              "      <th>93.31596448094501</th>\n",
              "      <th>94.1037219357429</th>\n",
              "      <th>109.86351970071382</th>\n",
              "      <th>120.15321267900413</th>\n",
              "      <th>124.56672197612107</th>\n",
              "      <th>126.10386708793396</th>\n",
              "      <th>126.98395550552613</th>\n",
              "      <th>139.99104481241693</th>\n",
              "      <th>142.40992632083783</th>\n",
              "      <th>143.65284246586396</th>\n",
              "      <th>145.86994149849528</th>\n",
              "      <th>149.2502079991355</th>\n",
              "      <th>152.30867499828707</th>\n",
              "      <th>153.71001245086023</th>\n",
              "      <th>155.39429192753386</th>\n",
              "      <th>156.73157550018266</th>\n",
              "      <th>158.17662942065988</th>\n",
              "      <th>159.307145620421</th>\n",
              "      <th>159.70360986265837</th>\n",
              "      <th>162.46055128130433</th>\n",
              "      <th>164.31042255287292</th>\n",
              "      <th>166.8104085036415</th>\n",
              "      <th>167.9114774293471</th>\n",
              "      <th>170.5676703232026</th>\n",
              "      <th>171.59727831814888</th>\n",
              "      <th>174.9492013957995</th>\n",
              "      <th>177.3401474509962</th>\n",
              "      <th>184.34509640579745</th>\n",
              "      <th>186.11659274496134</th>\n",
              "      <th>187.88423776004282</th>\n",
              "      <th>188.56339917554453</th>\n",
              "      <th>189.5596142405085</th>\n",
              "      <th>190.29902940711537</th>\n",
              "      <th>193.40286020686574</th>\n",
              "      <th>195.0063943659043</th>\n",
              "      <th>198.7046095313743</th>\n",
              "      <th>200.72891898596788</th>\n",
              "      <th>201.88336492602932</th>\n",
              "      <th>203.35565995894575</th>\n",
              "      <th>...</th>\n",
              "      <th>797.8954116294966</th>\n",
              "      <th>800.1589157943968</th>\n",
              "      <th>801.1539080317157</th>\n",
              "      <th>801.7155346262896</th>\n",
              "      <th>802.6674075121337</th>\n",
              "      <th>803.6825574740052</th>\n",
              "      <th>804.8743445821262</th>\n",
              "      <th>807.5671905547249</th>\n",
              "      <th>808.2534709469319</th>\n",
              "      <th>809.820988739694</th>\n",
              "      <th>810.4064142105847</th>\n",
              "      <th>814.8005454449899</th>\n",
              "      <th>817.0773256488262</th>\n",
              "      <th>818.5533256374265</th>\n",
              "      <th>820.1522911043674</th>\n",
              "      <th>820.4364117502446</th>\n",
              "      <th>820.9731154808903</th>\n",
              "      <th>821.8311699732735</th>\n",
              "      <th>830.3742678101676</th>\n",
              "      <th>832.9189281436305</th>\n",
              "      <th>834.3012803173597</th>\n",
              "      <th>834.4088350730308</th>\n",
              "      <th>839.983744408373</th>\n",
              "      <th>840.837892045477</th>\n",
              "      <th>849.2509274664089</th>\n",
              "      <th>856.2154103777765</th>\n",
              "      <th>865.1172303096052</th>\n",
              "      <th>866.7669913883085</th>\n",
              "      <th>869.8165854640924</th>\n",
              "      <th>881.433067261089</th>\n",
              "      <th>886.1483086229188</th>\n",
              "      <th>896.0298670455834</th>\n",
              "      <th>906.5167851621505</th>\n",
              "      <th>910.0732754093735</th>\n",
              "      <th>921.9854596094633</th>\n",
              "      <th>943.82762641552</th>\n",
              "      <th>986.0164713813881</th>\n",
              "      <th>1004.7048178968644</th>\n",
              "      <th>1016.7961913333775</th>\n",
              "      <th>1047.4059129657417</th>\n",
              "    </tr>\n",
              "    <tr>\n",
              "      <th>purchased</th>\n",
              "      <th></th>\n",
              "      <th></th>\n",
              "      <th></th>\n",
              "      <th></th>\n",
              "      <th></th>\n",
              "      <th></th>\n",
              "      <th></th>\n",
              "      <th></th>\n",
              "      <th></th>\n",
              "      <th></th>\n",
              "      <th></th>\n",
              "      <th></th>\n",
              "      <th></th>\n",
              "      <th></th>\n",
              "      <th></th>\n",
              "      <th></th>\n",
              "      <th></th>\n",
              "      <th></th>\n",
              "      <th></th>\n",
              "      <th></th>\n",
              "      <th></th>\n",
              "      <th></th>\n",
              "      <th></th>\n",
              "      <th></th>\n",
              "      <th></th>\n",
              "      <th></th>\n",
              "      <th></th>\n",
              "      <th></th>\n",
              "      <th></th>\n",
              "      <th></th>\n",
              "      <th></th>\n",
              "      <th></th>\n",
              "      <th></th>\n",
              "      <th></th>\n",
              "      <th></th>\n",
              "      <th></th>\n",
              "      <th></th>\n",
              "      <th></th>\n",
              "      <th></th>\n",
              "      <th></th>\n",
              "      <th></th>\n",
              "      <th></th>\n",
              "      <th></th>\n",
              "      <th></th>\n",
              "      <th></th>\n",
              "      <th></th>\n",
              "      <th></th>\n",
              "      <th></th>\n",
              "      <th></th>\n",
              "      <th></th>\n",
              "      <th></th>\n",
              "      <th></th>\n",
              "      <th></th>\n",
              "      <th></th>\n",
              "      <th></th>\n",
              "      <th></th>\n",
              "      <th></th>\n",
              "      <th></th>\n",
              "      <th></th>\n",
              "      <th></th>\n",
              "      <th></th>\n",
              "      <th></th>\n",
              "      <th></th>\n",
              "      <th></th>\n",
              "      <th></th>\n",
              "      <th></th>\n",
              "      <th></th>\n",
              "      <th></th>\n",
              "      <th></th>\n",
              "      <th></th>\n",
              "      <th></th>\n",
              "      <th></th>\n",
              "      <th></th>\n",
              "      <th></th>\n",
              "      <th></th>\n",
              "      <th></th>\n",
              "      <th></th>\n",
              "      <th></th>\n",
              "      <th></th>\n",
              "      <th></th>\n",
              "      <th></th>\n",
              "    </tr>\n",
              "  </thead>\n",
              "  <tbody>\n",
              "    <tr>\n",
              "      <th>False</th>\n",
              "      <td>0</td>\n",
              "      <td>1</td>\n",
              "      <td>1</td>\n",
              "      <td>1</td>\n",
              "      <td>1</td>\n",
              "      <td>0</td>\n",
              "      <td>1</td>\n",
              "      <td>1</td>\n",
              "      <td>1</td>\n",
              "      <td>0</td>\n",
              "      <td>1</td>\n",
              "      <td>0</td>\n",
              "      <td>1</td>\n",
              "      <td>0</td>\n",
              "      <td>1</td>\n",
              "      <td>1</td>\n",
              "      <td>0</td>\n",
              "      <td>1</td>\n",
              "      <td>1</td>\n",
              "      <td>1</td>\n",
              "      <td>0</td>\n",
              "      <td>1</td>\n",
              "      <td>1</td>\n",
              "      <td>0</td>\n",
              "      <td>1</td>\n",
              "      <td>0</td>\n",
              "      <td>1</td>\n",
              "      <td>1</td>\n",
              "      <td>0</td>\n",
              "      <td>1</td>\n",
              "      <td>1</td>\n",
              "      <td>1</td>\n",
              "      <td>1</td>\n",
              "      <td>1</td>\n",
              "      <td>1</td>\n",
              "      <td>1</td>\n",
              "      <td>0</td>\n",
              "      <td>1</td>\n",
              "      <td>1</td>\n",
              "      <td>1</td>\n",
              "      <td>...</td>\n",
              "      <td>1</td>\n",
              "      <td>0</td>\n",
              "      <td>1</td>\n",
              "      <td>1</td>\n",
              "      <td>0</td>\n",
              "      <td>0</td>\n",
              "      <td>1</td>\n",
              "      <td>0</td>\n",
              "      <td>0</td>\n",
              "      <td>0</td>\n",
              "      <td>0</td>\n",
              "      <td>1</td>\n",
              "      <td>0</td>\n",
              "      <td>0</td>\n",
              "      <td>1</td>\n",
              "      <td>0</td>\n",
              "      <td>0</td>\n",
              "      <td>1</td>\n",
              "      <td>1</td>\n",
              "      <td>1</td>\n",
              "      <td>1</td>\n",
              "      <td>0</td>\n",
              "      <td>1</td>\n",
              "      <td>1</td>\n",
              "      <td>0</td>\n",
              "      <td>0</td>\n",
              "      <td>0</td>\n",
              "      <td>0</td>\n",
              "      <td>0</td>\n",
              "      <td>0</td>\n",
              "      <td>1</td>\n",
              "      <td>0</td>\n",
              "      <td>0</td>\n",
              "      <td>0</td>\n",
              "      <td>0</td>\n",
              "      <td>1</td>\n",
              "      <td>1</td>\n",
              "      <td>0</td>\n",
              "      <td>1</td>\n",
              "      <td>1</td>\n",
              "    </tr>\n",
              "    <tr>\n",
              "      <th>True</th>\n",
              "      <td>1</td>\n",
              "      <td>0</td>\n",
              "      <td>0</td>\n",
              "      <td>0</td>\n",
              "      <td>0</td>\n",
              "      <td>1</td>\n",
              "      <td>0</td>\n",
              "      <td>0</td>\n",
              "      <td>0</td>\n",
              "      <td>1</td>\n",
              "      <td>0</td>\n",
              "      <td>1</td>\n",
              "      <td>0</td>\n",
              "      <td>1</td>\n",
              "      <td>0</td>\n",
              "      <td>0</td>\n",
              "      <td>1</td>\n",
              "      <td>0</td>\n",
              "      <td>0</td>\n",
              "      <td>0</td>\n",
              "      <td>1</td>\n",
              "      <td>0</td>\n",
              "      <td>0</td>\n",
              "      <td>1</td>\n",
              "      <td>0</td>\n",
              "      <td>1</td>\n",
              "      <td>0</td>\n",
              "      <td>0</td>\n",
              "      <td>1</td>\n",
              "      <td>0</td>\n",
              "      <td>0</td>\n",
              "      <td>0</td>\n",
              "      <td>0</td>\n",
              "      <td>0</td>\n",
              "      <td>0</td>\n",
              "      <td>0</td>\n",
              "      <td>1</td>\n",
              "      <td>0</td>\n",
              "      <td>0</td>\n",
              "      <td>0</td>\n",
              "      <td>...</td>\n",
              "      <td>0</td>\n",
              "      <td>1</td>\n",
              "      <td>0</td>\n",
              "      <td>0</td>\n",
              "      <td>1</td>\n",
              "      <td>1</td>\n",
              "      <td>0</td>\n",
              "      <td>1</td>\n",
              "      <td>1</td>\n",
              "      <td>1</td>\n",
              "      <td>1</td>\n",
              "      <td>0</td>\n",
              "      <td>1</td>\n",
              "      <td>1</td>\n",
              "      <td>0</td>\n",
              "      <td>1</td>\n",
              "      <td>1</td>\n",
              "      <td>0</td>\n",
              "      <td>0</td>\n",
              "      <td>0</td>\n",
              "      <td>0</td>\n",
              "      <td>1</td>\n",
              "      <td>0</td>\n",
              "      <td>0</td>\n",
              "      <td>1</td>\n",
              "      <td>1</td>\n",
              "      <td>1</td>\n",
              "      <td>1</td>\n",
              "      <td>1</td>\n",
              "      <td>1</td>\n",
              "      <td>0</td>\n",
              "      <td>1</td>\n",
              "      <td>1</td>\n",
              "      <td>1</td>\n",
              "      <td>1</td>\n",
              "      <td>0</td>\n",
              "      <td>0</td>\n",
              "      <td>1</td>\n",
              "      <td>0</td>\n",
              "      <td>0</td>\n",
              "    </tr>\n",
              "  </tbody>\n",
              "</table>\n",
              "<p>2 rows × 2000 columns</p>\n",
              "</div>"
            ],
            "text/plain": [
              "time_on_site  23.586524    93.315964    ...  1016.796191  1047.405913\n",
              "purchased                               ...                          \n",
              "False                   0            1  ...            1            1\n",
              "True                    1            0  ...            0            0\n",
              "\n",
              "[2 rows x 2000 columns]"
            ]
          },
          "metadata": {
            "tags": []
          },
          "execution_count": 77
        }
      ]
    },
    {
      "cell_type": "code",
      "metadata": {
        "id": "hvAv6J3EwA9s",
        "colab_type": "code",
        "outputId": "fd6442ae-6d72-4ee8-a65c-f3fb75944e9c",
        "colab": {
          "base_uri": "https://localhost:8080/",
          "height": 235
        }
      },
      "source": [
        "# OK, that's not quite what we want\n",
        "# Time is continuous! We need to put it in discrete buckets\n",
        "# Pandas calls these bins, and pandas.cut helps make them\n",
        "\n",
        "time_bins = pd.cut(user_data['time_on_site'], 5)  # 5 equal-sized bins\n",
        "pd.crosstab(time_bins, user_data['purchased']) # Why did I have to switch the variables?"
      ],
      "execution_count": 0,
      "outputs": [
        {
          "output_type": "execute_result",
          "data": {
            "text/html": [
              "<div>\n",
              "<style scoped>\n",
              "    .dataframe tbody tr th:only-of-type {\n",
              "        vertical-align: middle;\n",
              "    }\n",
              "\n",
              "    .dataframe tbody tr th {\n",
              "        vertical-align: top;\n",
              "    }\n",
              "\n",
              "    .dataframe thead th {\n",
              "        text-align: right;\n",
              "    }\n",
              "</style>\n",
              "<table border=\"1\" class=\"dataframe\">\n",
              "  <thead>\n",
              "    <tr style=\"text-align: right;\">\n",
              "      <th>purchased</th>\n",
              "      <th>False</th>\n",
              "      <th>True</th>\n",
              "    </tr>\n",
              "    <tr>\n",
              "      <th>time_on_site</th>\n",
              "      <th></th>\n",
              "      <th></th>\n",
              "    </tr>\n",
              "  </thead>\n",
              "  <tbody>\n",
              "    <tr>\n",
              "      <th>(22.563, 228.35]</th>\n",
              "      <td>37</td>\n",
              "      <td>19</td>\n",
              "    </tr>\n",
              "    <tr>\n",
              "      <th>(228.35, 433.114]</th>\n",
              "      <td>353</td>\n",
              "      <td>383</td>\n",
              "    </tr>\n",
              "    <tr>\n",
              "      <th>(433.114, 637.878]</th>\n",
              "      <td>400</td>\n",
              "      <td>559</td>\n",
              "    </tr>\n",
              "    <tr>\n",
              "      <th>(637.878, 842.642]</th>\n",
              "      <td>83</td>\n",
              "      <td>150</td>\n",
              "    </tr>\n",
              "    <tr>\n",
              "      <th>(842.642, 1047.406]</th>\n",
              "      <td>5</td>\n",
              "      <td>11</td>\n",
              "    </tr>\n",
              "  </tbody>\n",
              "</table>\n",
              "</div>"
            ],
            "text/plain": [
              "purchased            False  True \n",
              "time_on_site                     \n",
              "(22.563, 228.35]        37     19\n",
              "(228.35, 433.114]      353    383\n",
              "(433.114, 637.878]     400    559\n",
              "(637.878, 842.642]      83    150\n",
              "(842.642, 1047.406]      5     11"
            ]
          },
          "metadata": {
            "tags": []
          },
          "execution_count": 82
        }
      ]
    },
    {
      "cell_type": "code",
      "metadata": {
        "id": "pjcXnJw0wfaj",
        "colab_type": "code",
        "outputId": "77a7da80-43c7-452d-ec63-653c6aa36c31",
        "colab": {
          "base_uri": "https://localhost:8080/",
          "height": 235
        }
      },
      "source": [
        "# We can make this a bit clearer by normalizing (getting %)\n",
        "pd.crosstab(time_bins, user_data['purchased'], normalize='columns')"
      ],
      "execution_count": 0,
      "outputs": [
        {
          "output_type": "execute_result",
          "data": {
            "text/html": [
              "<div>\n",
              "<style scoped>\n",
              "    .dataframe tbody tr th:only-of-type {\n",
              "        vertical-align: middle;\n",
              "    }\n",
              "\n",
              "    .dataframe tbody tr th {\n",
              "        vertical-align: top;\n",
              "    }\n",
              "\n",
              "    .dataframe thead th {\n",
              "        text-align: right;\n",
              "    }\n",
              "</style>\n",
              "<table border=\"1\" class=\"dataframe\">\n",
              "  <thead>\n",
              "    <tr style=\"text-align: right;\">\n",
              "      <th>purchased</th>\n",
              "      <th>False</th>\n",
              "      <th>True</th>\n",
              "    </tr>\n",
              "    <tr>\n",
              "      <th>time_on_site</th>\n",
              "      <th></th>\n",
              "      <th></th>\n",
              "    </tr>\n",
              "  </thead>\n",
              "  <tbody>\n",
              "    <tr>\n",
              "      <th>(22.563, 228.35]</th>\n",
              "      <td>0.042141</td>\n",
              "      <td>0.016934</td>\n",
              "    </tr>\n",
              "    <tr>\n",
              "      <th>(228.35, 433.114]</th>\n",
              "      <td>0.402050</td>\n",
              "      <td>0.341355</td>\n",
              "    </tr>\n",
              "    <tr>\n",
              "      <th>(433.114, 637.878]</th>\n",
              "      <td>0.455581</td>\n",
              "      <td>0.498217</td>\n",
              "    </tr>\n",
              "    <tr>\n",
              "      <th>(637.878, 842.642]</th>\n",
              "      <td>0.094533</td>\n",
              "      <td>0.133690</td>\n",
              "    </tr>\n",
              "    <tr>\n",
              "      <th>(842.642, 1047.406]</th>\n",
              "      <td>0.005695</td>\n",
              "      <td>0.009804</td>\n",
              "    </tr>\n",
              "  </tbody>\n",
              "</table>\n",
              "</div>"
            ],
            "text/plain": [
              "purchased               False     True \n",
              "time_on_site                           \n",
              "(22.563, 228.35]     0.042141  0.016934\n",
              "(228.35, 433.114]    0.402050  0.341355\n",
              "(433.114, 637.878]   0.455581  0.498217\n",
              "(637.878, 842.642]   0.094533  0.133690\n",
              "(842.642, 1047.406]  0.005695  0.009804"
            ]
          },
          "metadata": {
            "tags": []
          },
          "execution_count": 80
        }
      ]
    },
    {
      "cell_type": "code",
      "metadata": {
        "id": "C3GzvDxlvZMa",
        "colab_type": "code",
        "outputId": "9868d269-1c0b-4a23-fc19-6382de06866c",
        "colab": {
          "base_uri": "https://localhost:8080/",
          "height": 142
        }
      },
      "source": [
        "# That seems counter to our hypothesis\n",
        "# More time on the site can actually have fewer purchases\n",
        "\n",
        "# But we know why, since we generated the data!\n",
        "# Let's look at mobile and purchased\n",
        "pd.crosstab(user_data['purchased'], user_data['mobile'], normalize='columns')"
      ],
      "execution_count": 0,
      "outputs": [
        {
          "output_type": "execute_result",
          "data": {
            "text/html": [
              "<div>\n",
              "<style scoped>\n",
              "    .dataframe tbody tr th:only-of-type {\n",
              "        vertical-align: middle;\n",
              "    }\n",
              "\n",
              "    .dataframe tbody tr th {\n",
              "        vertical-align: top;\n",
              "    }\n",
              "\n",
              "    .dataframe thead th {\n",
              "        text-align: right;\n",
              "    }\n",
              "</style>\n",
              "<table border=\"1\" class=\"dataframe\">\n",
              "  <thead>\n",
              "    <tr style=\"text-align: right;\">\n",
              "      <th>mobile</th>\n",
              "      <th>False</th>\n",
              "      <th>True</th>\n",
              "    </tr>\n",
              "    <tr>\n",
              "      <th>purchased</th>\n",
              "      <th></th>\n",
              "      <th></th>\n",
              "    </tr>\n",
              "  </thead>\n",
              "  <tbody>\n",
              "    <tr>\n",
              "      <th>False</th>\n",
              "      <td>0.566</td>\n",
              "      <td>0.396667</td>\n",
              "    </tr>\n",
              "    <tr>\n",
              "      <th>True</th>\n",
              "      <td>0.434</td>\n",
              "      <td>0.603333</td>\n",
              "    </tr>\n",
              "  </tbody>\n",
              "</table>\n",
              "</div>"
            ],
            "text/plain": [
              "mobile     False     True \n",
              "purchased                 \n",
              "False      0.566  0.396667\n",
              "True       0.434  0.603333"
            ]
          },
          "metadata": {
            "tags": []
          },
          "execution_count": 81
        }
      ]
    },
    {
      "cell_type": "code",
      "metadata": {
        "id": "KQb-wU60xCum",
        "colab_type": "code",
        "outputId": "981edbd2-963b-45dc-e967-9fb97cbd0acb",
        "colab": {
          "base_uri": "https://localhost:8080/",
          "height": 266
        }
      },
      "source": [
        "# Yep, mobile users are more likely to buy things\n",
        "# But we're still not seeing the *whole* story until we look at all 3 at once\n",
        "\n",
        "# Live/stretch goal - how can we do that?\n",
        "\n",
        "pd.crosstab(time_bins, [user_data['purchased'], user_data['mobile']], normalize='columns')"
      ],
      "execution_count": 0,
      "outputs": [
        {
          "output_type": "execute_result",
          "data": {
            "text/html": [
              "<div>\n",
              "<style scoped>\n",
              "    .dataframe tbody tr th:only-of-type {\n",
              "        vertical-align: middle;\n",
              "    }\n",
              "\n",
              "    .dataframe tbody tr th {\n",
              "        vertical-align: top;\n",
              "    }\n",
              "\n",
              "    .dataframe thead tr th {\n",
              "        text-align: left;\n",
              "    }\n",
              "\n",
              "    .dataframe thead tr:last-of-type th {\n",
              "        text-align: right;\n",
              "    }\n",
              "</style>\n",
              "<table border=\"1\" class=\"dataframe\">\n",
              "  <thead>\n",
              "    <tr>\n",
              "      <th>purchased</th>\n",
              "      <th colspan=\"2\" halign=\"left\">False</th>\n",
              "      <th colspan=\"2\" halign=\"left\">True</th>\n",
              "    </tr>\n",
              "    <tr>\n",
              "      <th>mobile</th>\n",
              "      <th>False</th>\n",
              "      <th>True</th>\n",
              "      <th>False</th>\n",
              "      <th>True</th>\n",
              "    </tr>\n",
              "    <tr>\n",
              "      <th>time_on_site</th>\n",
              "      <th></th>\n",
              "      <th></th>\n",
              "      <th></th>\n",
              "      <th></th>\n",
              "    </tr>\n",
              "  </thead>\n",
              "  <tbody>\n",
              "    <tr>\n",
              "      <th>(22.563, 228.35]</th>\n",
              "      <td>0.045936</td>\n",
              "      <td>0.040336</td>\n",
              "      <td>0.009217</td>\n",
              "      <td>0.018785</td>\n",
              "    </tr>\n",
              "    <tr>\n",
              "      <th>(228.35, 433.114]</th>\n",
              "      <td>0.254417</td>\n",
              "      <td>0.472269</td>\n",
              "      <td>0.211982</td>\n",
              "      <td>0.372376</td>\n",
              "    </tr>\n",
              "    <tr>\n",
              "      <th>(433.114, 637.878]</th>\n",
              "      <td>0.477032</td>\n",
              "      <td>0.445378</td>\n",
              "      <td>0.396313</td>\n",
              "      <td>0.522652</td>\n",
              "    </tr>\n",
              "    <tr>\n",
              "      <th>(637.878, 842.642]</th>\n",
              "      <td>0.204947</td>\n",
              "      <td>0.042017</td>\n",
              "      <td>0.336406</td>\n",
              "      <td>0.085083</td>\n",
              "    </tr>\n",
              "    <tr>\n",
              "      <th>(842.642, 1047.406]</th>\n",
              "      <td>0.017668</td>\n",
              "      <td>0.000000</td>\n",
              "      <td>0.046083</td>\n",
              "      <td>0.001105</td>\n",
              "    </tr>\n",
              "  </tbody>\n",
              "</table>\n",
              "</div>"
            ],
            "text/plain": [
              "purchased               False               True           \n",
              "mobile                  False     True      False     True \n",
              "time_on_site                                               \n",
              "(22.563, 228.35]     0.045936  0.040336  0.009217  0.018785\n",
              "(228.35, 433.114]    0.254417  0.472269  0.211982  0.372376\n",
              "(433.114, 637.878]   0.477032  0.445378  0.396313  0.522652\n",
              "(637.878, 842.642]   0.204947  0.042017  0.336406  0.085083\n",
              "(842.642, 1047.406]  0.017668  0.000000  0.046083  0.001105"
            ]
          },
          "metadata": {
            "tags": []
          },
          "execution_count": 88
        }
      ]
    },
    {
      "cell_type": "markdown",
      "metadata": {
        "id": "GKClGczo1jfs",
        "colab_type": "text"
      },
      "source": [
        "## Police stop data"
      ]
    },
    {
      "cell_type": "code",
      "metadata": {
        "id": "O7VWy0Kt1mEp",
        "colab_type": "code",
        "outputId": "30c0669f-d95e-49ea-f818-42ffd9d6524b",
        "colab": {
          "base_uri": "https://localhost:8080/",
          "height": 85
        }
      },
      "source": [
        "!unzip 'jb084sr9005_ma_statewide_2019_02_25.csv (2).zip'\n",
        "!ls"
      ],
      "execution_count": 0,
      "outputs": [
        {
          "output_type": "stream",
          "text": [
            "Archive:  jb084sr9005_ma_statewide_2019_02_25.csv (2).zip\n",
            "  inflating: share/data/opp-for-archive/ma_statewide_2019_02_25.csv  \n",
            "'jb084sr9005_ma_statewide_2019_02_25.csv (2).zip'   sample_data\n",
            " jb084sr9005_nj_statewide_2019_02_25.csv.zip\t    share\n"
          ],
          "name": "stdout"
        }
      ]
    },
    {
      "cell_type": "code",
      "metadata": {
        "id": "EMQvxrFM1owj",
        "colab_type": "code",
        "outputId": "899d57b7-bba7-4e8e-a732-57d8196b74c6",
        "colab": {
          "base_uri": "https://localhost:8080/",
          "height": 68
        }
      },
      "source": [
        "%%time\n",
        "import pandas as pd\n",
        "\n",
        "df = pd.read_csv('./share/data/opp-for-archive/ma_statewide_2019_02_25.csv', low_memory=False)\n",
        "print(df.shape)\n",
        "df.head()"
      ],
      "execution_count": 0,
      "outputs": [
        {
          "output_type": "stream",
          "text": [
            "(3416238, 23)\n",
            "CPU times: user 15.7 s, sys: 1.78 s, total: 17.5 s\n",
            "Wall time: 17.5 s\n"
          ],
          "name": "stdout"
        }
      ]
    },
    {
      "cell_type": "code",
      "metadata": {
        "id": "7yO729ZxiwFt",
        "colab_type": "code",
        "outputId": "a28c1436-0d8a-49f3-abf4-b94a30e5ffa4",
        "colab": {
          "base_uri": "https://localhost:8080/",
          "height": 309
        }
      },
      "source": [
        "df.head()"
      ],
      "execution_count": 0,
      "outputs": [
        {
          "output_type": "execute_result",
          "data": {
            "text/html": [
              "<div>\n",
              "<style scoped>\n",
              "    .dataframe tbody tr th:only-of-type {\n",
              "        vertical-align: middle;\n",
              "    }\n",
              "\n",
              "    .dataframe tbody tr th {\n",
              "        vertical-align: top;\n",
              "    }\n",
              "\n",
              "    .dataframe thead th {\n",
              "        text-align: right;\n",
              "    }\n",
              "</style>\n",
              "<table border=\"1\" class=\"dataframe\">\n",
              "  <thead>\n",
              "    <tr style=\"text-align: right;\">\n",
              "      <th></th>\n",
              "      <th>raw_row_number</th>\n",
              "      <th>date</th>\n",
              "      <th>location</th>\n",
              "      <th>county_name</th>\n",
              "      <th>subject_age</th>\n",
              "      <th>subject_race</th>\n",
              "      <th>subject_sex</th>\n",
              "      <th>type</th>\n",
              "      <th>arrest_made</th>\n",
              "      <th>citation_issued</th>\n",
              "      <th>warning_issued</th>\n",
              "      <th>outcome</th>\n",
              "      <th>contraband_found</th>\n",
              "      <th>contraband_drugs</th>\n",
              "      <th>contraband_weapons</th>\n",
              "      <th>contraband_alcohol</th>\n",
              "      <th>contraband_other</th>\n",
              "      <th>frisk_performed</th>\n",
              "      <th>search_conducted</th>\n",
              "      <th>search_basis</th>\n",
              "      <th>reason_for_stop</th>\n",
              "      <th>vehicle_type</th>\n",
              "      <th>vehicle_registration_state</th>\n",
              "    </tr>\n",
              "  </thead>\n",
              "  <tbody>\n",
              "    <tr>\n",
              "      <th>0</th>\n",
              "      <td>1</td>\n",
              "      <td>2007-06-06</td>\n",
              "      <td>MIDDLEBOROUGH</td>\n",
              "      <td>Plymouth</td>\n",
              "      <td>33.0</td>\n",
              "      <td>white</td>\n",
              "      <td>male</td>\n",
              "      <td>vehicular</td>\n",
              "      <td>False</td>\n",
              "      <td>True</td>\n",
              "      <td>False</td>\n",
              "      <td>citation</td>\n",
              "      <td>NaN</td>\n",
              "      <td>NaN</td>\n",
              "      <td>NaN</td>\n",
              "      <td>False</td>\n",
              "      <td>False</td>\n",
              "      <td>False</td>\n",
              "      <td>False</td>\n",
              "      <td>NaN</td>\n",
              "      <td>Speed</td>\n",
              "      <td>Passenger</td>\n",
              "      <td>MA</td>\n",
              "    </tr>\n",
              "    <tr>\n",
              "      <th>1</th>\n",
              "      <td>2</td>\n",
              "      <td>2007-06-07</td>\n",
              "      <td>SEEKONK</td>\n",
              "      <td>Bristol</td>\n",
              "      <td>36.0</td>\n",
              "      <td>white</td>\n",
              "      <td>male</td>\n",
              "      <td>vehicular</td>\n",
              "      <td>False</td>\n",
              "      <td>False</td>\n",
              "      <td>True</td>\n",
              "      <td>warning</td>\n",
              "      <td>False</td>\n",
              "      <td>False</td>\n",
              "      <td>False</td>\n",
              "      <td>False</td>\n",
              "      <td>False</td>\n",
              "      <td>False</td>\n",
              "      <td>True</td>\n",
              "      <td>other</td>\n",
              "      <td>NaN</td>\n",
              "      <td>Commercial</td>\n",
              "      <td>MA</td>\n",
              "    </tr>\n",
              "    <tr>\n",
              "      <th>2</th>\n",
              "      <td>3</td>\n",
              "      <td>2007-06-07</td>\n",
              "      <td>MEDFORD</td>\n",
              "      <td>Middlesex</td>\n",
              "      <td>56.0</td>\n",
              "      <td>white</td>\n",
              "      <td>female</td>\n",
              "      <td>vehicular</td>\n",
              "      <td>False</td>\n",
              "      <td>False</td>\n",
              "      <td>True</td>\n",
              "      <td>warning</td>\n",
              "      <td>NaN</td>\n",
              "      <td>NaN</td>\n",
              "      <td>NaN</td>\n",
              "      <td>False</td>\n",
              "      <td>False</td>\n",
              "      <td>False</td>\n",
              "      <td>False</td>\n",
              "      <td>NaN</td>\n",
              "      <td>NaN</td>\n",
              "      <td>Passenger</td>\n",
              "      <td>MA</td>\n",
              "    </tr>\n",
              "    <tr>\n",
              "      <th>3</th>\n",
              "      <td>4</td>\n",
              "      <td>2007-06-07</td>\n",
              "      <td>MEDFORD</td>\n",
              "      <td>Middlesex</td>\n",
              "      <td>37.0</td>\n",
              "      <td>white</td>\n",
              "      <td>male</td>\n",
              "      <td>vehicular</td>\n",
              "      <td>False</td>\n",
              "      <td>False</td>\n",
              "      <td>True</td>\n",
              "      <td>warning</td>\n",
              "      <td>NaN</td>\n",
              "      <td>NaN</td>\n",
              "      <td>NaN</td>\n",
              "      <td>False</td>\n",
              "      <td>False</td>\n",
              "      <td>False</td>\n",
              "      <td>False</td>\n",
              "      <td>NaN</td>\n",
              "      <td>NaN</td>\n",
              "      <td>Commercial</td>\n",
              "      <td>MA</td>\n",
              "    </tr>\n",
              "    <tr>\n",
              "      <th>4</th>\n",
              "      <td>5</td>\n",
              "      <td>2007-06-07</td>\n",
              "      <td>EVERETT</td>\n",
              "      <td>Middlesex</td>\n",
              "      <td>22.0</td>\n",
              "      <td>hispanic</td>\n",
              "      <td>female</td>\n",
              "      <td>vehicular</td>\n",
              "      <td>False</td>\n",
              "      <td>True</td>\n",
              "      <td>False</td>\n",
              "      <td>citation</td>\n",
              "      <td>NaN</td>\n",
              "      <td>NaN</td>\n",
              "      <td>NaN</td>\n",
              "      <td>False</td>\n",
              "      <td>False</td>\n",
              "      <td>False</td>\n",
              "      <td>False</td>\n",
              "      <td>NaN</td>\n",
              "      <td>NaN</td>\n",
              "      <td>Commercial</td>\n",
              "      <td>MA</td>\n",
              "    </tr>\n",
              "  </tbody>\n",
              "</table>\n",
              "</div>"
            ],
            "text/plain": [
              "   raw_row_number        date  ... vehicle_type vehicle_registration_state\n",
              "0               1  2007-06-06  ...    Passenger                         MA\n",
              "1               2  2007-06-07  ...   Commercial                         MA\n",
              "2               3  2007-06-07  ...    Passenger                         MA\n",
              "3               4  2007-06-07  ...   Commercial                         MA\n",
              "4               5  2007-06-07  ...   Commercial                         MA\n",
              "\n",
              "[5 rows x 23 columns]"
            ]
          },
          "metadata": {
            "tags": []
          },
          "execution_count": 12
        }
      ]
    },
    {
      "cell_type": "code",
      "metadata": {
        "id": "An7cFULBi22Z",
        "colab_type": "code",
        "outputId": "6d13207f-69ff-4517-9ef5-0e8859020463",
        "colab": {
          "base_uri": "https://localhost:8080/",
          "height": 425
        }
      },
      "source": [
        "df.isna().sum()"
      ],
      "execution_count": 0,
      "outputs": [
        {
          "output_type": "execute_result",
          "data": {
            "text/plain": [
              "raw_row_number                      0\n",
              "date                                0\n",
              "location                         6666\n",
              "county_name                      6666\n",
              "subject_age                    157828\n",
              "subject_race                     1664\n",
              "subject_sex                     15623\n",
              "type                                0\n",
              "arrest_made                       916\n",
              "citation_issued                   916\n",
              "warning_issued                    916\n",
              "outcome                          6858\n",
              "contraband_found              3359800\n",
              "contraband_drugs              3359800\n",
              "contraband_weapons            3359800\n",
              "contraband_alcohol                  0\n",
              "contraband_other                    0\n",
              "frisk_performed                  2217\n",
              "search_conducted                  410\n",
              "search_basis                  3365209\n",
              "reason_for_stop               1659589\n",
              "vehicle_type                     4963\n",
              "vehicle_registration_state       9814\n",
              "dtype: int64"
            ]
          },
          "metadata": {
            "tags": []
          },
          "execution_count": 14
        }
      ]
    },
    {
      "cell_type": "code",
      "metadata": {
        "id": "wbsJeKkKjWRF",
        "colab_type": "code",
        "outputId": "a95fec0c-cf3e-4b21-c8ad-1bbac33ee015",
        "colab": {
          "base_uri": "https://localhost:8080/",
          "height": 153
        }
      },
      "source": [
        "df.reason_for_stop.value_counts()"
      ],
      "execution_count": 0,
      "outputs": [
        {
          "output_type": "execute_result",
          "data": {
            "text/plain": [
              "Speed                       1516016\n",
              "SeatBelt                     173645\n",
              "Speed,SeatBelt                52361\n",
              "ChildRest                      8160\n",
              "Speed,ChildRest                3638\n",
              "SeatBelt,ChildRest             2322\n",
              "Speed,SeatBelt,ChildRest        507\n",
              "Name: reason_for_stop, dtype: int64"
            ]
          },
          "metadata": {
            "tags": []
          },
          "execution_count": 15
        }
      ]
    },
    {
      "cell_type": "code",
      "metadata": {
        "id": "6dT7XhJNjdeZ",
        "colab_type": "code",
        "outputId": "70b12ae7-c7e2-41c3-cb84-a993eec754fa",
        "colab": {
          "base_uri": "https://localhost:8080/",
          "height": 85
        }
      },
      "source": [
        "df.outcome.value_counts()"
      ],
      "execution_count": 0,
      "outputs": [
        {
          "output_type": "execute_result",
          "data": {
            "text/plain": [
              "citation    2171283\n",
              "warning     1146078\n",
              "arrest        92019\n",
              "Name: outcome, dtype: int64"
            ]
          },
          "metadata": {
            "tags": []
          },
          "execution_count": 16
        }
      ]
    },
    {
      "cell_type": "code",
      "metadata": {
        "id": "jIYfqC_NkG77",
        "colab_type": "code",
        "outputId": "1caae20d-c356-4e68-e2d1-381e64121628",
        "colab": {
          "base_uri": "https://localhost:8080/",
          "height": 297
        }
      },
      "source": [
        "pd.crosstab(df['reason_for_stop'], df['outcome'], normalize='columns')"
      ],
      "execution_count": 0,
      "outputs": [
        {
          "output_type": "execute_result",
          "data": {
            "text/html": [
              "<div>\n",
              "<style scoped>\n",
              "    .dataframe tbody tr th:only-of-type {\n",
              "        vertical-align: middle;\n",
              "    }\n",
              "\n",
              "    .dataframe tbody tr th {\n",
              "        vertical-align: top;\n",
              "    }\n",
              "\n",
              "    .dataframe thead th {\n",
              "        text-align: right;\n",
              "    }\n",
              "</style>\n",
              "<table border=\"1\" class=\"dataframe\">\n",
              "  <thead>\n",
              "    <tr style=\"text-align: right;\">\n",
              "      <th>outcome</th>\n",
              "      <th>arrest</th>\n",
              "      <th>citation</th>\n",
              "      <th>warning</th>\n",
              "    </tr>\n",
              "    <tr>\n",
              "      <th>reason_for_stop</th>\n",
              "      <th></th>\n",
              "      <th></th>\n",
              "      <th></th>\n",
              "    </tr>\n",
              "  </thead>\n",
              "  <tbody>\n",
              "    <tr>\n",
              "      <th>ChildRest</th>\n",
              "      <td>0.012785</td>\n",
              "      <td>0.005004</td>\n",
              "      <td>0.003090</td>\n",
              "    </tr>\n",
              "    <tr>\n",
              "      <th>SeatBelt</th>\n",
              "      <td>0.180274</td>\n",
              "      <td>0.112021</td>\n",
              "      <td>0.053079</td>\n",
              "    </tr>\n",
              "    <tr>\n",
              "      <th>SeatBelt,ChildRest</th>\n",
              "      <td>0.001781</td>\n",
              "      <td>0.001649</td>\n",
              "      <td>0.000263</td>\n",
              "    </tr>\n",
              "    <tr>\n",
              "      <th>Speed</th>\n",
              "      <td>0.766758</td>\n",
              "      <td>0.842607</td>\n",
              "      <td>0.932354</td>\n",
              "    </tr>\n",
              "    <tr>\n",
              "      <th>Speed,ChildRest</th>\n",
              "      <td>0.001872</td>\n",
              "      <td>0.002307</td>\n",
              "      <td>0.001338</td>\n",
              "    </tr>\n",
              "    <tr>\n",
              "      <th>Speed,SeatBelt</th>\n",
              "      <td>0.036210</td>\n",
              "      <td>0.036052</td>\n",
              "      <td>0.009815</td>\n",
              "    </tr>\n",
              "    <tr>\n",
              "      <th>Speed,SeatBelt,ChildRest</th>\n",
              "      <td>0.000320</td>\n",
              "      <td>0.000360</td>\n",
              "      <td>0.000060</td>\n",
              "    </tr>\n",
              "  </tbody>\n",
              "</table>\n",
              "</div>"
            ],
            "text/plain": [
              "outcome                     arrest  citation   warning\n",
              "reason_for_stop                                       \n",
              "ChildRest                 0.012785  0.005004  0.003090\n",
              "SeatBelt                  0.180274  0.112021  0.053079\n",
              "SeatBelt,ChildRest        0.001781  0.001649  0.000263\n",
              "Speed                     0.766758  0.842607  0.932354\n",
              "Speed,ChildRest           0.001872  0.002307  0.001338\n",
              "Speed,SeatBelt            0.036210  0.036052  0.009815\n",
              "Speed,SeatBelt,ChildRest  0.000320  0.000360  0.000060"
            ]
          },
          "metadata": {
            "tags": []
          },
          "execution_count": 18
        }
      ]
    },
    {
      "cell_type": "markdown",
      "metadata": {
        "id": "lOqaPds9huME",
        "colab_type": "text"
      },
      "source": [
        "## Assignment - what's going on here?\n",
        "\n",
        "Consider the data in `persons.csv` (already prepared for you, in the repo for the week). It has four columns - a unique id, followed by age (in years), weight (in lbs), and exercise time (in minutes/week) of 1200 (hypothetical) people.\n",
        "\n",
        "Try to figure out which variables are possibly related to each other, and which may be confounding relationships."
      ]
    },
    {
      "cell_type": "code",
      "metadata": {
        "id": "TGUS79cOhPWj",
        "colab_type": "code",
        "outputId": "62d29211-9caa-4ca6-b38e-88659d3e16e6",
        "colab": {
          "base_uri": "https://localhost:8080/",
          "height": 221
        }
      },
      "source": [
        "# TODO - your code here\n",
        "# Use what we did live in lecture as an example\n",
        "\n",
        "# HINT - you can find the raw URL on GitHub and potentially use that\n",
        "# to load the data with read_csv, or you can upload it yourself\n",
        "\n",
        "#### DATA: https://openpolicing.stanford.edu/data/ ####\n",
        "\n",
        "persons = pd.read_csv('https://raw.githubusercontent.com/garretbassett/DS-Unit-1-Sprint-1-Dealing-With-Data/master/module3-databackedassertions/persons.csv')\n",
        "persons = persons.drop('Unnamed: 0', axis=1)\n",
        "print(persons.shape)\n",
        "persons.head()"
      ],
      "execution_count": 53,
      "outputs": [
        {
          "output_type": "stream",
          "text": [
            "(1200, 3)\n"
          ],
          "name": "stdout"
        },
        {
          "output_type": "execute_result",
          "data": {
            "text/html": [
              "<div>\n",
              "<style scoped>\n",
              "    .dataframe tbody tr th:only-of-type {\n",
              "        vertical-align: middle;\n",
              "    }\n",
              "\n",
              "    .dataframe tbody tr th {\n",
              "        vertical-align: top;\n",
              "    }\n",
              "\n",
              "    .dataframe thead th {\n",
              "        text-align: right;\n",
              "    }\n",
              "</style>\n",
              "<table border=\"1\" class=\"dataframe\">\n",
              "  <thead>\n",
              "    <tr style=\"text-align: right;\">\n",
              "      <th></th>\n",
              "      <th>age</th>\n",
              "      <th>weight</th>\n",
              "      <th>exercise_time</th>\n",
              "    </tr>\n",
              "  </thead>\n",
              "  <tbody>\n",
              "    <tr>\n",
              "      <th>0</th>\n",
              "      <td>44</td>\n",
              "      <td>118</td>\n",
              "      <td>192</td>\n",
              "    </tr>\n",
              "    <tr>\n",
              "      <th>1</th>\n",
              "      <td>41</td>\n",
              "      <td>161</td>\n",
              "      <td>35</td>\n",
              "    </tr>\n",
              "    <tr>\n",
              "      <th>2</th>\n",
              "      <td>46</td>\n",
              "      <td>128</td>\n",
              "      <td>220</td>\n",
              "    </tr>\n",
              "    <tr>\n",
              "      <th>3</th>\n",
              "      <td>39</td>\n",
              "      <td>216</td>\n",
              "      <td>57</td>\n",
              "    </tr>\n",
              "    <tr>\n",
              "      <th>4</th>\n",
              "      <td>28</td>\n",
              "      <td>116</td>\n",
              "      <td>182</td>\n",
              "    </tr>\n",
              "  </tbody>\n",
              "</table>\n",
              "</div>"
            ],
            "text/plain": [
              "   age  weight  exercise_time\n",
              "0   44     118            192\n",
              "1   41     161             35\n",
              "2   46     128            220\n",
              "3   39     216             57\n",
              "4   28     116            182"
            ]
          },
          "metadata": {
            "tags": []
          },
          "execution_count": 53
        }
      ]
    },
    {
      "cell_type": "code",
      "metadata": {
        "id": "FKE4qD93k1TY",
        "colab_type": "code",
        "outputId": "63b94f07-de79-4454-a525-97d622f4fb20",
        "colab": {
          "base_uri": "https://localhost:8080/",
          "height": 269
        }
      },
      "source": [
        "# First I wanted to visualize the distributions of each variable.\n",
        "# Not much to see here; age is basically a uniform dist, weight tapers down\n",
        "# across the board, as does exercise_time.\n",
        "\n",
        "persons.age.hist(bins=20, alpha = 0.5)\n",
        "plt.show()"
      ],
      "execution_count": 56,
      "outputs": [
        {
          "output_type": "display_data",
          "data": {
            "image/png": "[encoded data removed]",
            "text/plain": [
              "<Figure size 432x288 with 1 Axes>"
            ]
          },
          "metadata": {
            "tags": []
          }
        }
      ]
    },
    {
      "cell_type": "code",
      "metadata": {
        "id": "tudm-H8Zmf9-",
        "colab_type": "code",
        "outputId": "2e670254-c24a-4e8b-e31c-21883abdfd51",
        "colab": {
          "base_uri": "https://localhost:8080/",
          "height": 269
        }
      },
      "source": [
        "# How about some scatter plots?\n",
        "# For age vs. exercise time, we get a fairly uniform distribution\n",
        "#    before a steep dropoff at 60 yrs old.\n",
        "# For weight vs. exercise time, we see a similar thing happening,\n",
        "#    but the dropoff starts at 140 lbs and goes almost to 0 at 240.\n",
        "\n",
        "plt.scatter(persons['weight'], persons['exercise_time'])\n",
        "plt.show()"
      ],
      "execution_count": 68,
      "outputs": [
        {
          "output_type": "display_data",
          "data": {
            "image/png": "[encoded data removed]",
            "text/plain": [
              "<Figure size 432x288 with 1 Axes>"
            ]
          },
          "metadata": {
            "tags": []
          }
        }
      ]
    },
    {
      "cell_type": "code",
      "metadata": {
        "id": "dz44pkWBnQ5-",
        "colab_type": "code",
        "colab": {
          "base_uri": "https://localhost:8080/",
          "height": 68
        },
        "outputId": "1916b5c1-14bc-4223-ebaf-b97d9ed51e81"
      },
      "source": [
        "# Given the negative correlations between both age / weight and\n",
        "# exercise time, I want to be able to separate the two if possible.\n",
        "#\n",
        "# The first thing I want to try is creating a new boolean variable called\n",
        "# \"is_old\" and separating the data on that.\n",
        "\n",
        "persons['is_old'] = persons['age'] > 65\n",
        "persons['is_old'].value_counts()\n",
        "\n",
        "persons['is_large'] = persons['weight'] > 200\n",
        "persons['is_large'].value_counts()"
      ],
      "execution_count": 64,
      "outputs": [
        {
          "output_type": "execute_result",
          "data": {
            "text/plain": [
              "False    1052\n",
              "True      148\n",
              "Name: is_large, dtype: int64"
            ]
          },
          "metadata": {
            "tags": []
          },
          "execution_count": 64
        }
      ]
    },
    {
      "cell_type": "code",
      "metadata": {
        "id": "ChK94tVhqJza",
        "colab_type": "code",
        "colab": {
          "base_uri": "https://localhost:8080/",
          "height": 421
        },
        "outputId": "1e23d185-a56d-451c-db58-c452fa941c21"
      },
      "source": [
        "exercise_bins = pd.cut(persons['exercise_time'], 10)\n",
        "pd.crosstab(exercise_bins, [persons['is_old'], persons['is_large']])\n",
        "\n",
        "# Looks like people who are not old are more likely to have high exercise time,\n",
        "# while old people's time peaks at the first quartile."
      ],
      "execution_count": 87,
      "outputs": [
        {
          "output_type": "execute_result",
          "data": {
            "text/html": [
              "<div>\n",
              "<style scoped>\n",
              "    .dataframe tbody tr th:only-of-type {\n",
              "        vertical-align: middle;\n",
              "    }\n",
              "\n",
              "    .dataframe tbody tr th {\n",
              "        vertical-align: top;\n",
              "    }\n",
              "\n",
              "    .dataframe thead tr th {\n",
              "        text-align: left;\n",
              "    }\n",
              "\n",
              "    .dataframe thead tr:last-of-type th {\n",
              "        text-align: right;\n",
              "    }\n",
              "</style>\n",
              "<table border=\"1\" class=\"dataframe\">\n",
              "  <thead>\n",
              "    <tr>\n",
              "      <th>is_old</th>\n",
              "      <th colspan=\"2\" halign=\"left\">False</th>\n",
              "      <th colspan=\"2\" halign=\"left\">True</th>\n",
              "    </tr>\n",
              "    <tr>\n",
              "      <th>is_large</th>\n",
              "      <th>False</th>\n",
              "      <th>True</th>\n",
              "      <th>False</th>\n",
              "      <th>True</th>\n",
              "    </tr>\n",
              "    <tr>\n",
              "      <th>exercise_time</th>\n",
              "      <th></th>\n",
              "      <th></th>\n",
              "      <th></th>\n",
              "      <th></th>\n",
              "    </tr>\n",
              "  </thead>\n",
              "  <tbody>\n",
              "    <tr>\n",
              "      <th>(-0.3, 30.0]</th>\n",
              "      <td>61</td>\n",
              "      <td>30</td>\n",
              "      <td>36</td>\n",
              "      <td>22</td>\n",
              "    </tr>\n",
              "    <tr>\n",
              "      <th>(30.0, 60.0]</th>\n",
              "      <td>61</td>\n",
              "      <td>28</td>\n",
              "      <td>27</td>\n",
              "      <td>13</td>\n",
              "    </tr>\n",
              "    <tr>\n",
              "      <th>(60.0, 90.0]</th>\n",
              "      <td>86</td>\n",
              "      <td>13</td>\n",
              "      <td>53</td>\n",
              "      <td>12</td>\n",
              "    </tr>\n",
              "    <tr>\n",
              "      <th>(90.0, 120.0]</th>\n",
              "      <td>77</td>\n",
              "      <td>22</td>\n",
              "      <td>48</td>\n",
              "      <td>5</td>\n",
              "    </tr>\n",
              "    <tr>\n",
              "      <th>(120.0, 150.0]</th>\n",
              "      <td>71</td>\n",
              "      <td>3</td>\n",
              "      <td>31</td>\n",
              "      <td>0</td>\n",
              "    </tr>\n",
              "    <tr>\n",
              "      <th>(150.0, 180.0]</th>\n",
              "      <td>93</td>\n",
              "      <td>0</td>\n",
              "      <td>25</td>\n",
              "      <td>0</td>\n",
              "    </tr>\n",
              "    <tr>\n",
              "      <th>(180.0, 210.0]</th>\n",
              "      <td>86</td>\n",
              "      <td>0</td>\n",
              "      <td>8</td>\n",
              "      <td>0</td>\n",
              "    </tr>\n",
              "    <tr>\n",
              "      <th>(210.0, 240.0]</th>\n",
              "      <td>95</td>\n",
              "      <td>0</td>\n",
              "      <td>3</td>\n",
              "      <td>0</td>\n",
              "    </tr>\n",
              "    <tr>\n",
              "      <th>(240.0, 270.0]</th>\n",
              "      <td>100</td>\n",
              "      <td>0</td>\n",
              "      <td>0</td>\n",
              "      <td>0</td>\n",
              "    </tr>\n",
              "    <tr>\n",
              "      <th>(270.0, 300.0]</th>\n",
              "      <td>91</td>\n",
              "      <td>0</td>\n",
              "      <td>0</td>\n",
              "      <td>0</td>\n",
              "    </tr>\n",
              "  </tbody>\n",
              "</table>\n",
              "</div>"
            ],
            "text/plain": [
              "is_old         False       True       \n",
              "is_large       False True  False True \n",
              "exercise_time                         \n",
              "(-0.3, 30.0]      61    30    36    22\n",
              "(30.0, 60.0]      61    28    27    13\n",
              "(60.0, 90.0]      86    13    53    12\n",
              "(90.0, 120.0]     77    22    48     5\n",
              "(120.0, 150.0]    71     3    31     0\n",
              "(150.0, 180.0]    93     0    25     0\n",
              "(180.0, 210.0]    86     0     8     0\n",
              "(210.0, 240.0]    95     0     3     0\n",
              "(240.0, 270.0]   100     0     0     0\n",
              "(270.0, 300.0]    91     0     0     0"
            ]
          },
          "metadata": {
            "tags": []
          },
          "execution_count": 87
        }
      ]
    },
    {
      "cell_type": "code",
      "metadata": {
        "id": "up1T1BLgspOj",
        "colab_type": "code",
        "colab": {
          "base_uri": "https://localhost:8080/",
          "height": 337
        },
        "outputId": "77fa8944-1bb6-4eb8-b39d-0dc0a156b668"
      },
      "source": [
        "# print(persons[persons['is_old'] = True].value_counts())\n",
        "persons.groupby('is_old').weight.hist(bins=20, alpha=0.5)"
      ],
      "execution_count": 94,
      "outputs": [
        {
          "output_type": "execute_result",
          "data": {
            "text/plain": [
              "is_old\n",
              "False    AxesSubplot(0.125,0.125;0.775x0.755)\n",
              "True     AxesSubplot(0.125,0.125;0.775x0.755)\n",
              "Name: weight, dtype: object"
            ]
          },
          "metadata": {
            "tags": []
          },
          "execution_count": 94
        },
        {
          "output_type": "display_data",
          "data": {
            "image/png": "[encoded data removed]",
            "text/plain": [
              "<Figure size 432x288 with 1 Axes>"
            ]
          },
          "metadata": {
            "tags": []
          }
        }
      ]
    },
    {
      "cell_type": "code",
      "metadata": {
        "id": "x9AXBX2-wIJt",
        "colab_type": "code",
        "colab": {
          "base_uri": "https://localhost:8080/",
          "height": 34
        },
        "outputId": "29ff91bb-6996-4ca1-8c9f-4f82350be93f"
      },
      "source": [
        "new_ct = pd.crosstab(exercise_bins, [persons['is_old'], persons['is_large']], normalize='columns')\n",
        "type(new_ct)"
      ],
      "execution_count": 75,
      "outputs": [
        {
          "output_type": "execute_result",
          "data": {
            "text/plain": [
              "pandas.core.frame.DataFrame"
            ]
          },
          "metadata": {
            "tags": []
          },
          "execution_count": 75
        }
      ]
    },
    {
      "cell_type": "markdown",
      "metadata": {
        "id": "BT9gdS7viJZa",
        "colab_type": "text"
      },
      "source": [
        "### Assignment questions\n",
        "\n",
        "After you've worked on some code, answer the following questions in this text block:\n",
        "\n",
        "1.  What are the variable types in the data? \n",
        "\n",
        "**I'm not sure what this means. There were three variables, all of which were quantitative and discrete depending on how you look at it.**\n",
        "\n",
        "2.  What are the relationships between the variables?\n",
        "\n",
        "**Both age and weight are negatively correlated with exercise time.**\n",
        "\n",
        "3.  Which relationships are \"real\", and which are spurious?\n",
        "\n",
        "**I'm not sure. The weight distribution is pretty even for old people (>65 yrs), while it tapers down from 120 for young. I would think this results in an overstated effect of age on exercise.**\n",
        "\n",
        "**I believe this is the case - when we account for that distinction, it is clear more old people exercise for longer in the non-heavy group.**"
      ]
    },
    {
      "cell_type": "code",
      "metadata": {
        "id": "1yzqaVWr1Cuh",
        "colab_type": "code",
        "colab": {}
      },
      "source": [
        ""
      ],
      "execution_count": 0,
      "outputs": []
    },
    {
      "cell_type": "markdown",
      "metadata": {
        "id": "_XXg2crAipwP",
        "colab_type": "text"
      },
      "source": [
        "## Stretch goals and resources\n",
        "\n",
        "Following are *optional* things for you to take a look at. Focus on the above assignment first, and make sure to commit and push your changes to GitHub.\n",
        "\n",
        "- [Spurious Correlations](http://tylervigen.com/spurious-correlations)\n",
        "- [NIH on controlling for confounding variables](https://www.ncbi.nlm.nih.gov/pmc/articles/PMC4017459/)\n",
        "\n",
        "Stretch goals:\n",
        "\n",
        "- Produce your own plot inspired by the Spurious Correlation visualizations (and consider writing a blog post about it - both the content and how you made it)\n",
        "- Pick one of the techniques that NIH highlights for confounding variables - we'll be going into many of them later, but see if you can find which Python modules may help (hint - check scikit-learn)"
      ]
    }
  ]
}
