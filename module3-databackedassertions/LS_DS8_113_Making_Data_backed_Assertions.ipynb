{
  "nbformat": 4,
  "nbformat_minor": 0,
  "metadata": {
    "colab": {
      "name": "LS_DS8_113_Making_Data_backed_Assertions.ipynb",
      "version": "0.3.2",
      "provenance": [],
      "collapsed_sections": [],
      "include_colab_link": true
    },
    "kernelspec": {
      "name": "python3",
      "display_name": "Python 3"
    }
  },
  "cells": [
    {
      "cell_type": "markdown",
      "metadata": {
        "id": "view-in-github",
        "colab_type": "text"
      },
      "source": [
        "<a href=\"https://colab.research.google.com/github/VeraMendes/DS-Unit-1-Sprint-1-Dealing-With-Data/blob/master/module3-databackedassertions/LS_DS8_113_Making_Data_backed_Assertions.ipynb\" target=\"_parent\"><img src=\"https://colab.research.google.com/assets/colab-badge.svg\" alt=\"Open In Colab\"/></a>"
      ]
    },
    {
      "cell_type": "markdown",
      "metadata": {
        "id": "Okfr_uhwhS1X",
        "colab_type": "text"
      },
      "source": [
        "# Lambda School Data Science - Making Data-backed Assertions\n",
        "\n",
        "This is, for many, the main point of data science - to create and support reasoned arguments based on evidence. It's not a topic to master in a day, but it is worth some focused time thinking about and structuring your approach to it."
      ]
    },
    {
      "cell_type": "markdown",
      "metadata": {
        "id": "H--MPB99Hf_E",
        "colab_type": "text"
      },
      "source": [
        "## Synonyms for Y Variable:\n",
        "- the thing that we want to predict\n",
        "- label\n",
        "- target\n",
        "- dependent variable \n",
        "- predicted variable\n",
        "- outputs\n",
        "- response variable\n",
        "\n",
        "## Synonyms for X Variable: \n",
        "- Predictors \n",
        "- independent variables\n",
        "- inputs\n",
        "- control"
      ]
    },
    {
      "cell_type": "markdown",
      "metadata": {
        "id": "9dtJETFRhnOG",
        "colab_type": "text"
      },
      "source": [
        "## Lecture - generating a confounding variable\n",
        "\n",
        "The prewatch material told a story about a hypothetical health condition where both the drug usage and overall health outcome were related to gender - thus making gender a confounding variable, obfuscating the possible relationship between the drug and the outcome.\n",
        "\n",
        "Let's use Python to generate data that actually behaves in this fashion!"
      ]
    },
    {
      "cell_type": "code",
      "metadata": {
        "id": "WiBkgmPJhmhE",
        "colab_type": "code",
        "outputId": "ee2ef43d-92c3-4c89-f315-e975514f0f0d",
        "colab": {
          "base_uri": "https://localhost:8080/",
          "height": 1000
        }
      },
      "source": [
        "import random\n",
        "dir(random)  # Reminding ourselves what we can do here"
      ],
      "execution_count": 0,
      "outputs": [
        {
          "output_type": "execute_result",
          "data": {
            "text/plain": [
              "['BPF',\n",
              " 'LOG4',\n",
              " 'NV_MAGICCONST',\n",
              " 'RECIP_BPF',\n",
              " 'Random',\n",
              " 'SG_MAGICCONST',\n",
              " 'SystemRandom',\n",
              " 'TWOPI',\n",
              " '_BuiltinMethodType',\n",
              " '_MethodType',\n",
              " '_Sequence',\n",
              " '_Set',\n",
              " '__all__',\n",
              " '__builtins__',\n",
              " '__cached__',\n",
              " '__doc__',\n",
              " '__file__',\n",
              " '__loader__',\n",
              " '__name__',\n",
              " '__package__',\n",
              " '__spec__',\n",
              " '_acos',\n",
              " '_bisect',\n",
              " '_ceil',\n",
              " '_cos',\n",
              " '_e',\n",
              " '_exp',\n",
              " '_inst',\n",
              " '_itertools',\n",
              " '_log',\n",
              " '_pi',\n",
              " '_random',\n",
              " '_sha512',\n",
              " '_sin',\n",
              " '_sqrt',\n",
              " '_test',\n",
              " '_test_generator',\n",
              " '_urandom',\n",
              " '_warn',\n",
              " 'betavariate',\n",
              " 'choice',\n",
              " 'choices',\n",
              " 'expovariate',\n",
              " 'gammavariate',\n",
              " 'gauss',\n",
              " 'getrandbits',\n",
              " 'getstate',\n",
              " 'lognormvariate',\n",
              " 'normalvariate',\n",
              " 'paretovariate',\n",
              " 'randint',\n",
              " 'random',\n",
              " 'randrange',\n",
              " 'sample',\n",
              " 'seed',\n",
              " 'setstate',\n",
              " 'shuffle',\n",
              " 'triangular',\n",
              " 'uniform',\n",
              " 'vonmisesvariate',\n",
              " 'weibullvariate']"
            ]
          },
          "metadata": {
            "tags": []
          },
          "execution_count": 1
        }
      ]
    },
    {
      "cell_type": "code",
      "metadata": {
        "id": "Ks5qFtpnq-q5",
        "colab_type": "code",
        "outputId": "e59ae841-8aca-4f56-d816-83145c044879",
        "colab": {
          "base_uri": "https://localhost:8080/",
          "height": 35
        }
      },
      "source": [
        "# Let's think of another scenario:\n",
        "# We work for a company that sells accessories for mobile phones.\n",
        "# They have an ecommerce site, and we are supposed to analyze logs\n",
        "# to determine what sort of usage is related to purchases, and thus guide\n",
        "# website development to encourage higher conversion.\n",
        "\n",
        "# The hypothesis - users who spend longer on the site tend\n",
        "# to spend more. Seems reasonable, no?\n",
        "\n",
        "# But there's a confounding variable! If they're on a phone, they:\n",
        "# a) Spend less time on the site, but\n",
        "# b) Are more likely to be interested in the actual products!\n",
        "\n",
        "# Let's use namedtuple to represent our data\n",
        "\n",
        "from collections import namedtuple\n",
        "# purchased and mobile are bools, time_on_site in seconds\n",
        "User = namedtuple('User', ['purchased','time_on_site', 'mobile'])\n",
        "\n",
        "example_user = User(False, 12, False)\n",
        "print(example_user)"
      ],
      "execution_count": 0,
      "outputs": [
        {
          "output_type": "stream",
          "text": [
            "User(purchased=False, time_on_site=12, mobile=False)\n"
          ],
          "name": "stdout"
        }
      ]
    },
    {
      "cell_type": "code",
      "metadata": {
        "id": "lfPiHNG_sefL",
        "colab_type": "code",
        "outputId": "cb29a7f0-2647-4aff-ec3f-7adbc0c0cfdd",
        "colab": {
          "base_uri": "https://localhost:8080/",
          "height": 55
        }
      },
      "source": [
        "# And now let's generate 1000 example users\n",
        "# 750 mobile, 250 not (i.e. desktop)\n",
        "# A desktop user has a base conversion likelihood of 10%\n",
        "# And it goes up by 1% for each 15 seconds they spend on the site\n",
        "# And they spend anywhere from 10 seconds to 10 minutes on the site (uniform)\n",
        "# Mobile users spend on average half as much time on the site as desktop\n",
        "# But have three times as much base likelihood of buying something\n",
        "\n",
        "# Sets Random Seed for Reproducibility\n",
        "random.seed(42)\n",
        "\n",
        "users = []\n",
        "\n",
        "for _ in range(2500):\n",
        "  # Desktop users\n",
        "  time_on_site = random.uniform(10, 600)\n",
        "  purchased = random.random() < 0.1 + (time_on_site / 1500)\n",
        "  users.append(User(purchased, time_on_site, False))\n",
        "  \n",
        "for _ in range(7500):\n",
        "  # Mobile users\n",
        "  time_on_site = random.uniform(5, 300)\n",
        "  purchased = random.random() < 0.3 + (time_on_site / 1500)\n",
        "  users.append(User(purchased, time_on_site, True))\n",
        "  \n",
        "random.shuffle(users)\n",
        "print(users[:10])"
      ],
      "execution_count": 0,
      "outputs": [
        {
          "output_type": "stream",
          "text": [
            "[User(purchased=True, time_on_site=509.416187933058, mobile=False), User(purchased=False, time_on_site=191.82566237541744, mobile=True), User(purchased=False, time_on_site=452.0246712066497, mobile=False), User(purchased=False, time_on_site=171.38143869888478, mobile=False), User(purchased=False, time_on_site=597.381444476765, mobile=False), User(purchased=True, time_on_site=35.15185418613914, mobile=True), User(purchased=True, time_on_site=144.6119813893192, mobile=True), User(purchased=False, time_on_site=150.9757982065105, mobile=True), User(purchased=False, time_on_site=229.66268044260147, mobile=False), User(purchased=False, time_on_site=573.7129554027825, mobile=False)]\n"
          ],
          "name": "stdout"
        }
      ]
    },
    {
      "cell_type": "code",
      "metadata": {
        "id": "9gDYb5qGuRzy",
        "colab_type": "code",
        "outputId": "3788d203-a836-4005-8979-196034c36ec8",
        "colab": {
          "base_uri": "https://localhost:8080/",
          "height": 198
        }
      },
      "source": [
        "# Let's put this in a dataframe so we can look at it more easily\n",
        "import pandas as pd\n",
        "user_data = pd.DataFrame(users)\n",
        "user_data.head()"
      ],
      "execution_count": 0,
      "outputs": [
        {
          "output_type": "execute_result",
          "data": {
            "text/html": [
              "<div>\n",
              "<style scoped>\n",
              "    .dataframe tbody tr th:only-of-type {\n",
              "        vertical-align: middle;\n",
              "    }\n",
              "\n",
              "    .dataframe tbody tr th {\n",
              "        vertical-align: top;\n",
              "    }\n",
              "\n",
              "    .dataframe thead th {\n",
              "        text-align: right;\n",
              "    }\n",
              "</style>\n",
              "<table border=\"1\" class=\"dataframe\">\n",
              "  <thead>\n",
              "    <tr style=\"text-align: right;\">\n",
              "      <th></th>\n",
              "      <th>purchased</th>\n",
              "      <th>time_on_site</th>\n",
              "      <th>mobile</th>\n",
              "    </tr>\n",
              "  </thead>\n",
              "  <tbody>\n",
              "    <tr>\n",
              "      <th>0</th>\n",
              "      <td>True</td>\n",
              "      <td>509.416188</td>\n",
              "      <td>False</td>\n",
              "    </tr>\n",
              "    <tr>\n",
              "      <th>1</th>\n",
              "      <td>False</td>\n",
              "      <td>191.825662</td>\n",
              "      <td>True</td>\n",
              "    </tr>\n",
              "    <tr>\n",
              "      <th>2</th>\n",
              "      <td>False</td>\n",
              "      <td>452.024671</td>\n",
              "      <td>False</td>\n",
              "    </tr>\n",
              "    <tr>\n",
              "      <th>3</th>\n",
              "      <td>False</td>\n",
              "      <td>171.381439</td>\n",
              "      <td>False</td>\n",
              "    </tr>\n",
              "    <tr>\n",
              "      <th>4</th>\n",
              "      <td>False</td>\n",
              "      <td>597.381444</td>\n",
              "      <td>False</td>\n",
              "    </tr>\n",
              "  </tbody>\n",
              "</table>\n",
              "</div>"
            ],
            "text/plain": [
              "   purchased  time_on_site  mobile\n",
              "0       True    509.416188   False\n",
              "1      False    191.825662    True\n",
              "2      False    452.024671   False\n",
              "3      False    171.381439   False\n",
              "4      False    597.381444   False"
            ]
          },
          "metadata": {
            "tags": []
          },
          "execution_count": 20
        }
      ]
    },
    {
      "cell_type": "code",
      "metadata": {
        "id": "sr6IJv77ulVl",
        "colab_type": "code",
        "outputId": "00340b73-a84c-4424-af08-6e11a75e1c5d",
        "colab": {
          "base_uri": "https://localhost:8080/",
          "height": 158
        }
      },
      "source": [
        "# Let's use crosstabulation to try to see what's going on\n",
        "pd.crosstab(user_data['purchased'], user_data['time_on_site'])"
      ],
      "execution_count": 0,
      "outputs": [
        {
          "output_type": "execute_result",
          "data": {
            "text/html": [
              "<div>\n",
              "<style scoped>\n",
              "    .dataframe tbody tr th:only-of-type {\n",
              "        vertical-align: middle;\n",
              "    }\n",
              "\n",
              "    .dataframe tbody tr th {\n",
              "        vertical-align: top;\n",
              "    }\n",
              "\n",
              "    .dataframe thead th {\n",
              "        text-align: right;\n",
              "    }\n",
              "</style>\n",
              "<table border=\"1\" class=\"dataframe\">\n",
              "  <thead>\n",
              "    <tr style=\"text-align: right;\">\n",
              "      <th>time_on_site</th>\n",
              "      <th>5.00279642281481</th>\n",
              "      <th>5.025241473759988</th>\n",
              "      <th>5.054380434289009</th>\n",
              "      <th>5.146061213803238</th>\n",
              "      <th>5.167259591466299</th>\n",
              "      <th>5.17585544652597</th>\n",
              "      <th>5.191759604407825</th>\n",
              "      <th>5.193114635237504</th>\n",
              "      <th>5.248746792149076</th>\n",
              "      <th>5.288562900732693</th>\n",
              "      <th>5.295312290861409</th>\n",
              "      <th>5.323725027312455</th>\n",
              "      <th>5.439577394735216</th>\n",
              "      <th>5.444779464938038</th>\n",
              "      <th>5.465680387443639</th>\n",
              "      <th>5.4951549819534975</th>\n",
              "      <th>5.628629799220321</th>\n",
              "      <th>5.642735616904634</th>\n",
              "      <th>5.664181865412473</th>\n",
              "      <th>5.807505517126516</th>\n",
              "      <th>5.824698882557048</th>\n",
              "      <th>5.892932585916332</th>\n",
              "      <th>5.906862059779251</th>\n",
              "      <th>5.943324589163366</th>\n",
              "      <th>5.9756712869185264</th>\n",
              "      <th>5.981824519542817</th>\n",
              "      <th>6.090636316212112</th>\n",
              "      <th>6.097913484477176</th>\n",
              "      <th>6.133134869679523</th>\n",
              "      <th>6.1354094737828735</th>\n",
              "      <th>6.212411424066756</th>\n",
              "      <th>6.236429236976141</th>\n",
              "      <th>6.348162178133177</th>\n",
              "      <th>6.382365757368867</th>\n",
              "      <th>6.424628838828278</th>\n",
              "      <th>6.449180879309817</th>\n",
              "      <th>6.521988813566926</th>\n",
              "      <th>6.55951455992685</th>\n",
              "      <th>6.612670521885143</th>\n",
              "      <th>6.643063355781841</th>\n",
              "      <th>...</th>\n",
              "      <th>592.7970586092715</th>\n",
              "      <th>592.9903367212349</th>\n",
              "      <th>593.0636163031444</th>\n",
              "      <th>593.1155765019158</th>\n",
              "      <th>593.3128991469864</th>\n",
              "      <th>593.748133299305</th>\n",
              "      <th>593.8187768755912</th>\n",
              "      <th>593.9676794472431</th>\n",
              "      <th>594.1184436754107</th>\n",
              "      <th>594.2374886674392</th>\n",
              "      <th>594.4992060406652</th>\n",
              "      <th>594.5133625178112</th>\n",
              "      <th>595.0034808240367</th>\n",
              "      <th>595.4317122431796</th>\n",
              "      <th>595.6883057398695</th>\n",
              "      <th>595.7377359877075</th>\n",
              "      <th>595.7853931627186</th>\n",
              "      <th>595.8346915953672</th>\n",
              "      <th>596.1130856371782</th>\n",
              "      <th>596.4116923990299</th>\n",
              "      <th>596.4350337479841</th>\n",
              "      <th>596.5768396856306</th>\n",
              "      <th>596.8613378576682</th>\n",
              "      <th>597.0643579789552</th>\n",
              "      <th>597.1381204299279</th>\n",
              "      <th>597.381444476765</th>\n",
              "      <th>597.4546221368852</th>\n",
              "      <th>597.7116143416571</th>\n",
              "      <th>598.2059693634536</th>\n",
              "      <th>598.2141307602859</th>\n",
              "      <th>598.5067687511946</th>\n",
              "      <th>598.547187832115</th>\n",
              "      <th>598.908852686099</th>\n",
              "      <th>599.088120104121</th>\n",
              "      <th>599.2496232569925</th>\n",
              "      <th>599.5766563635087</th>\n",
              "      <th>599.7474841405088</th>\n",
              "      <th>599.7610759212882</th>\n",
              "      <th>599.9407360122243</th>\n",
              "      <th>599.9456188204334</th>\n",
              "    </tr>\n",
              "    <tr>\n",
              "      <th>purchased</th>\n",
              "      <th></th>\n",
              "      <th></th>\n",
              "      <th></th>\n",
              "      <th></th>\n",
              "      <th></th>\n",
              "      <th></th>\n",
              "      <th></th>\n",
              "      <th></th>\n",
              "      <th></th>\n",
              "      <th></th>\n",
              "      <th></th>\n",
              "      <th></th>\n",
              "      <th></th>\n",
              "      <th></th>\n",
              "      <th></th>\n",
              "      <th></th>\n",
              "      <th></th>\n",
              "      <th></th>\n",
              "      <th></th>\n",
              "      <th></th>\n",
              "      <th></th>\n",
              "      <th></th>\n",
              "      <th></th>\n",
              "      <th></th>\n",
              "      <th></th>\n",
              "      <th></th>\n",
              "      <th></th>\n",
              "      <th></th>\n",
              "      <th></th>\n",
              "      <th></th>\n",
              "      <th></th>\n",
              "      <th></th>\n",
              "      <th></th>\n",
              "      <th></th>\n",
              "      <th></th>\n",
              "      <th></th>\n",
              "      <th></th>\n",
              "      <th></th>\n",
              "      <th></th>\n",
              "      <th></th>\n",
              "      <th></th>\n",
              "      <th></th>\n",
              "      <th></th>\n",
              "      <th></th>\n",
              "      <th></th>\n",
              "      <th></th>\n",
              "      <th></th>\n",
              "      <th></th>\n",
              "      <th></th>\n",
              "      <th></th>\n",
              "      <th></th>\n",
              "      <th></th>\n",
              "      <th></th>\n",
              "      <th></th>\n",
              "      <th></th>\n",
              "      <th></th>\n",
              "      <th></th>\n",
              "      <th></th>\n",
              "      <th></th>\n",
              "      <th></th>\n",
              "      <th></th>\n",
              "      <th></th>\n",
              "      <th></th>\n",
              "      <th></th>\n",
              "      <th></th>\n",
              "      <th></th>\n",
              "      <th></th>\n",
              "      <th></th>\n",
              "      <th></th>\n",
              "      <th></th>\n",
              "      <th></th>\n",
              "      <th></th>\n",
              "      <th></th>\n",
              "      <th></th>\n",
              "      <th></th>\n",
              "      <th></th>\n",
              "      <th></th>\n",
              "      <th></th>\n",
              "      <th></th>\n",
              "      <th></th>\n",
              "      <th></th>\n",
              "    </tr>\n",
              "  </thead>\n",
              "  <tbody>\n",
              "    <tr>\n",
              "      <th>False</th>\n",
              "      <td>1</td>\n",
              "      <td>0</td>\n",
              "      <td>0</td>\n",
              "      <td>1</td>\n",
              "      <td>0</td>\n",
              "      <td>1</td>\n",
              "      <td>0</td>\n",
              "      <td>1</td>\n",
              "      <td>0</td>\n",
              "      <td>1</td>\n",
              "      <td>1</td>\n",
              "      <td>1</td>\n",
              "      <td>0</td>\n",
              "      <td>1</td>\n",
              "      <td>0</td>\n",
              "      <td>0</td>\n",
              "      <td>0</td>\n",
              "      <td>1</td>\n",
              "      <td>1</td>\n",
              "      <td>1</td>\n",
              "      <td>0</td>\n",
              "      <td>0</td>\n",
              "      <td>1</td>\n",
              "      <td>0</td>\n",
              "      <td>1</td>\n",
              "      <td>0</td>\n",
              "      <td>0</td>\n",
              "      <td>1</td>\n",
              "      <td>1</td>\n",
              "      <td>1</td>\n",
              "      <td>1</td>\n",
              "      <td>1</td>\n",
              "      <td>0</td>\n",
              "      <td>1</td>\n",
              "      <td>1</td>\n",
              "      <td>1</td>\n",
              "      <td>0</td>\n",
              "      <td>1</td>\n",
              "      <td>0</td>\n",
              "      <td>1</td>\n",
              "      <td>...</td>\n",
              "      <td>0</td>\n",
              "      <td>1</td>\n",
              "      <td>1</td>\n",
              "      <td>1</td>\n",
              "      <td>0</td>\n",
              "      <td>1</td>\n",
              "      <td>1</td>\n",
              "      <td>0</td>\n",
              "      <td>0</td>\n",
              "      <td>0</td>\n",
              "      <td>0</td>\n",
              "      <td>0</td>\n",
              "      <td>1</td>\n",
              "      <td>1</td>\n",
              "      <td>0</td>\n",
              "      <td>1</td>\n",
              "      <td>0</td>\n",
              "      <td>0</td>\n",
              "      <td>0</td>\n",
              "      <td>0</td>\n",
              "      <td>1</td>\n",
              "      <td>1</td>\n",
              "      <td>1</td>\n",
              "      <td>0</td>\n",
              "      <td>1</td>\n",
              "      <td>1</td>\n",
              "      <td>1</td>\n",
              "      <td>1</td>\n",
              "      <td>1</td>\n",
              "      <td>1</td>\n",
              "      <td>0</td>\n",
              "      <td>1</td>\n",
              "      <td>0</td>\n",
              "      <td>1</td>\n",
              "      <td>0</td>\n",
              "      <td>1</td>\n",
              "      <td>0</td>\n",
              "      <td>1</td>\n",
              "      <td>1</td>\n",
              "      <td>0</td>\n",
              "    </tr>\n",
              "    <tr>\n",
              "      <th>True</th>\n",
              "      <td>0</td>\n",
              "      <td>1</td>\n",
              "      <td>1</td>\n",
              "      <td>0</td>\n",
              "      <td>1</td>\n",
              "      <td>0</td>\n",
              "      <td>1</td>\n",
              "      <td>0</td>\n",
              "      <td>1</td>\n",
              "      <td>0</td>\n",
              "      <td>0</td>\n",
              "      <td>0</td>\n",
              "      <td>1</td>\n",
              "      <td>0</td>\n",
              "      <td>1</td>\n",
              "      <td>1</td>\n",
              "      <td>1</td>\n",
              "      <td>0</td>\n",
              "      <td>0</td>\n",
              "      <td>0</td>\n",
              "      <td>1</td>\n",
              "      <td>1</td>\n",
              "      <td>0</td>\n",
              "      <td>1</td>\n",
              "      <td>0</td>\n",
              "      <td>1</td>\n",
              "      <td>1</td>\n",
              "      <td>0</td>\n",
              "      <td>0</td>\n",
              "      <td>0</td>\n",
              "      <td>0</td>\n",
              "      <td>0</td>\n",
              "      <td>1</td>\n",
              "      <td>0</td>\n",
              "      <td>0</td>\n",
              "      <td>0</td>\n",
              "      <td>1</td>\n",
              "      <td>0</td>\n",
              "      <td>1</td>\n",
              "      <td>0</td>\n",
              "      <td>...</td>\n",
              "      <td>1</td>\n",
              "      <td>0</td>\n",
              "      <td>0</td>\n",
              "      <td>0</td>\n",
              "      <td>1</td>\n",
              "      <td>0</td>\n",
              "      <td>0</td>\n",
              "      <td>1</td>\n",
              "      <td>1</td>\n",
              "      <td>1</td>\n",
              "      <td>1</td>\n",
              "      <td>1</td>\n",
              "      <td>0</td>\n",
              "      <td>0</td>\n",
              "      <td>1</td>\n",
              "      <td>0</td>\n",
              "      <td>1</td>\n",
              "      <td>1</td>\n",
              "      <td>1</td>\n",
              "      <td>1</td>\n",
              "      <td>0</td>\n",
              "      <td>0</td>\n",
              "      <td>0</td>\n",
              "      <td>1</td>\n",
              "      <td>0</td>\n",
              "      <td>0</td>\n",
              "      <td>0</td>\n",
              "      <td>0</td>\n",
              "      <td>0</td>\n",
              "      <td>0</td>\n",
              "      <td>1</td>\n",
              "      <td>0</td>\n",
              "      <td>1</td>\n",
              "      <td>0</td>\n",
              "      <td>1</td>\n",
              "      <td>0</td>\n",
              "      <td>1</td>\n",
              "      <td>0</td>\n",
              "      <td>0</td>\n",
              "      <td>1</td>\n",
              "    </tr>\n",
              "  </tbody>\n",
              "</table>\n",
              "</div>"
            ],
            "text/plain": [
              "time_on_site  5.002796    5.025241       ...      599.940736  599.945619\n",
              "purchased                                ...                            \n",
              "False                  1           0     ...               1           0\n",
              "True                   0           1     ...               0           1\n",
              "\n",
              "[2 rows x 10000 columns]"
            ]
          },
          "metadata": {
            "tags": []
          },
          "execution_count": 21
        }
      ]
    },
    {
      "cell_type": "code",
      "metadata": {
        "id": "0r_-0Ei6USJ-",
        "colab_type": "code",
        "outputId": "c9e6cf43-f067-4d5c-b0f1-fd3674190ebc",
        "colab": {
          "base_uri": "https://localhost:8080/",
          "height": 35
        }
      },
      "source": [
        "# use .__version__ to look at the version of a specific library/package\n",
        "pd.__version__"
      ],
      "execution_count": 0,
      "outputs": [
        {
          "output_type": "execute_result",
          "data": {
            "text/plain": [
              "'0.23.4'"
            ]
          },
          "metadata": {
            "tags": []
          },
          "execution_count": 6
        }
      ]
    },
    {
      "cell_type": "code",
      "metadata": {
        "id": "EEfEwKrmUkuf",
        "colab_type": "code",
        "colab": {}
      },
      "source": [
        "# Use pip freeze to view all of the libraries/packages that are installed on our\n",
        "# Google Colab instance\n",
        "!pip freeze"
      ],
      "execution_count": 0,
      "outputs": []
    },
    {
      "cell_type": "code",
      "metadata": {
        "id": "g9oLbNCQUX0o",
        "colab_type": "code",
        "colab": {}
      },
      "source": [
        "# Run !pip install to revert back to an earlier version of pandas\n",
        "# We will need to restart our runtime for the changes to take full effect.\n",
        "# !pip install pandas==0.23.4"
      ],
      "execution_count": 0,
      "outputs": []
    },
    {
      "cell_type": "code",
      "metadata": {
        "id": "hvAv6J3EwA9s",
        "colab_type": "code",
        "outputId": "dfb43865-fdd3-4baf-fa1e-b4dd117e9450",
        "colab": {
          "base_uri": "https://localhost:8080/",
          "height": 138
        }
      },
      "source": [
        "# OK, that's not quite what we want\n",
        "# Time is continuous! We need to put it in discrete buckets\n",
        "# Pandas calls these bins, and pandas.cut helps make them\n",
        "\n",
        "time_bins = pd.cut(user_data['time_on_site'], 6)  # 5 equal-sized bins\n",
        "pd.crosstab(user_data['purchased'], time_bins)"
      ],
      "execution_count": 0,
      "outputs": [
        {
          "output_type": "execute_result",
          "data": {
            "text/html": [
              "<div>\n",
              "<style scoped>\n",
              "    .dataframe tbody tr th:only-of-type {\n",
              "        vertical-align: middle;\n",
              "    }\n",
              "\n",
              "    .dataframe tbody tr th {\n",
              "        vertical-align: top;\n",
              "    }\n",
              "\n",
              "    .dataframe thead th {\n",
              "        text-align: right;\n",
              "    }\n",
              "</style>\n",
              "<table border=\"1\" class=\"dataframe\">\n",
              "  <thead>\n",
              "    <tr style=\"text-align: right;\">\n",
              "      <th>time_on_site</th>\n",
              "      <th>(4.408, 104.16]</th>\n",
              "      <th>(104.16, 203.317]</th>\n",
              "      <th>(203.317, 302.474]</th>\n",
              "      <th>(302.474, 401.631]</th>\n",
              "      <th>(401.631, 500.788]</th>\n",
              "      <th>(500.788, 599.946]</th>\n",
              "    </tr>\n",
              "    <tr>\n",
              "      <th>purchased</th>\n",
              "      <th></th>\n",
              "      <th></th>\n",
              "      <th></th>\n",
              "      <th></th>\n",
              "      <th></th>\n",
              "      <th></th>\n",
              "    </tr>\n",
              "  </thead>\n",
              "  <tbody>\n",
              "    <tr>\n",
              "      <th>False</th>\n",
              "      <td>2015</td>\n",
              "      <td>1855</td>\n",
              "      <td>1631</td>\n",
              "      <td>285</td>\n",
              "      <td>253</td>\n",
              "      <td>208</td>\n",
              "    </tr>\n",
              "    <tr>\n",
              "      <th>True</th>\n",
              "      <td>890</td>\n",
              "      <td>1054</td>\n",
              "      <td>1299</td>\n",
              "      <td>148</td>\n",
              "      <td>179</td>\n",
              "      <td>183</td>\n",
              "    </tr>\n",
              "  </tbody>\n",
              "</table>\n",
              "</div>"
            ],
            "text/plain": [
              "time_on_site  (4.408, 104.16]         ...          (500.788, 599.946]\n",
              "purchased                             ...                            \n",
              "False                    2015         ...                         208\n",
              "True                      890         ...                         183\n",
              "\n",
              "[2 rows x 6 columns]"
            ]
          },
          "metadata": {
            "tags": []
          },
          "execution_count": 22
        }
      ]
    },
    {
      "cell_type": "code",
      "metadata": {
        "id": "pjcXnJw0wfaj",
        "colab_type": "code",
        "outputId": "88b03584-4277-43c9-c852-2c00c55899a4",
        "colab": {
          "base_uri": "https://localhost:8080/",
          "height": 138
        }
      },
      "source": [
        "# We can make this a bit clearer by normalizing (getting %)\n",
        "pd.crosstab(user_data['purchased'], time_bins, normalize='columns')"
      ],
      "execution_count": 0,
      "outputs": [
        {
          "output_type": "execute_result",
          "data": {
            "text/html": [
              "<div>\n",
              "<style scoped>\n",
              "    .dataframe tbody tr th:only-of-type {\n",
              "        vertical-align: middle;\n",
              "    }\n",
              "\n",
              "    .dataframe tbody tr th {\n",
              "        vertical-align: top;\n",
              "    }\n",
              "\n",
              "    .dataframe thead th {\n",
              "        text-align: right;\n",
              "    }\n",
              "</style>\n",
              "<table border=\"1\" class=\"dataframe\">\n",
              "  <thead>\n",
              "    <tr style=\"text-align: right;\">\n",
              "      <th>time_on_site</th>\n",
              "      <th>(4.408, 104.16]</th>\n",
              "      <th>(104.16, 203.317]</th>\n",
              "      <th>(203.317, 302.474]</th>\n",
              "      <th>(302.474, 401.631]</th>\n",
              "      <th>(401.631, 500.788]</th>\n",
              "      <th>(500.788, 599.946]</th>\n",
              "    </tr>\n",
              "    <tr>\n",
              "      <th>purchased</th>\n",
              "      <th></th>\n",
              "      <th></th>\n",
              "      <th></th>\n",
              "      <th></th>\n",
              "      <th></th>\n",
              "      <th></th>\n",
              "    </tr>\n",
              "  </thead>\n",
              "  <tbody>\n",
              "    <tr>\n",
              "      <th>False</th>\n",
              "      <td>0.693632</td>\n",
              "      <td>0.637676</td>\n",
              "      <td>0.556655</td>\n",
              "      <td>0.658199</td>\n",
              "      <td>0.585648</td>\n",
              "      <td>0.531969</td>\n",
              "    </tr>\n",
              "    <tr>\n",
              "      <th>True</th>\n",
              "      <td>0.306368</td>\n",
              "      <td>0.362324</td>\n",
              "      <td>0.443345</td>\n",
              "      <td>0.341801</td>\n",
              "      <td>0.414352</td>\n",
              "      <td>0.468031</td>\n",
              "    </tr>\n",
              "  </tbody>\n",
              "</table>\n",
              "</div>"
            ],
            "text/plain": [
              "time_on_site  (4.408, 104.16]         ...          (500.788, 599.946]\n",
              "purchased                             ...                            \n",
              "False                0.693632         ...                    0.531969\n",
              "True                 0.306368         ...                    0.468031\n",
              "\n",
              "[2 rows x 6 columns]"
            ]
          },
          "metadata": {
            "tags": []
          },
          "execution_count": 23
        }
      ]
    },
    {
      "cell_type": "code",
      "metadata": {
        "id": "C3GzvDxlvZMa",
        "colab_type": "code",
        "outputId": "83ec4810-5091-47c8-d68a-60e81e2e0d9c",
        "colab": {
          "base_uri": "https://localhost:8080/",
          "height": 138
        }
      },
      "source": [
        "# That seems counter to our hypothesis\n",
        "# More time on the site can actually have fewer purchases\n",
        "\n",
        "# But we know why, since we generated the data!\n",
        "# Let's look at mobile and purchased\n",
        "pd.crosstab(user_data['purchased'], user_data['mobile'], normalize='columns')"
      ],
      "execution_count": 0,
      "outputs": [
        {
          "output_type": "execute_result",
          "data": {
            "text/html": [
              "<div>\n",
              "<style scoped>\n",
              "    .dataframe tbody tr th:only-of-type {\n",
              "        vertical-align: middle;\n",
              "    }\n",
              "\n",
              "    .dataframe tbody tr th {\n",
              "        vertical-align: top;\n",
              "    }\n",
              "\n",
              "    .dataframe thead th {\n",
              "        text-align: right;\n",
              "    }\n",
              "</style>\n",
              "<table border=\"1\" class=\"dataframe\">\n",
              "  <thead>\n",
              "    <tr style=\"text-align: right;\">\n",
              "      <th>mobile</th>\n",
              "      <th>False</th>\n",
              "      <th>True</th>\n",
              "    </tr>\n",
              "    <tr>\n",
              "      <th>purchased</th>\n",
              "      <th></th>\n",
              "      <th></th>\n",
              "    </tr>\n",
              "  </thead>\n",
              "  <tbody>\n",
              "    <tr>\n",
              "      <th>False</th>\n",
              "      <td>0.7056</td>\n",
              "      <td>0.597733</td>\n",
              "    </tr>\n",
              "    <tr>\n",
              "      <th>True</th>\n",
              "      <td>0.2944</td>\n",
              "      <td>0.402267</td>\n",
              "    </tr>\n",
              "  </tbody>\n",
              "</table>\n",
              "</div>"
            ],
            "text/plain": [
              "mobile      False     True \n",
              "purchased                  \n",
              "False      0.7056  0.597733\n",
              "True       0.2944  0.402267"
            ]
          },
          "metadata": {
            "tags": []
          },
          "execution_count": 24
        }
      ]
    },
    {
      "cell_type": "markdown",
      "metadata": {
        "id": "wGJVHbLaYoPp",
        "colab_type": "text"
      },
      "source": [
        "## Three-Variable Crosstab"
      ]
    },
    {
      "cell_type": "code",
      "metadata": {
        "id": "8ZdalJLWZ20o",
        "colab_type": "code",
        "outputId": "0a4df8a2-19d4-40a2-9fdb-df2b9f80fcff",
        "colab": {
          "base_uri": "https://localhost:8080/",
          "height": 185
        }
      },
      "source": [
        "pd.crosstab(user_data['purchased'], [user_data['mobile'], time_bins], normalize='columns')"
      ],
      "execution_count": 0,
      "outputs": [
        {
          "output_type": "execute_result",
          "data": {
            "text/html": [
              "<div>\n",
              "<style scoped>\n",
              "    .dataframe tbody tr th:only-of-type {\n",
              "        vertical-align: middle;\n",
              "    }\n",
              "\n",
              "    .dataframe tbody tr th {\n",
              "        vertical-align: top;\n",
              "    }\n",
              "\n",
              "    .dataframe thead tr th {\n",
              "        text-align: left;\n",
              "    }\n",
              "\n",
              "    .dataframe thead tr:last-of-type th {\n",
              "        text-align: right;\n",
              "    }\n",
              "</style>\n",
              "<table border=\"1\" class=\"dataframe\">\n",
              "  <thead>\n",
              "    <tr>\n",
              "      <th>mobile</th>\n",
              "      <th colspan=\"6\" halign=\"left\">False</th>\n",
              "      <th colspan=\"3\" halign=\"left\">True</th>\n",
              "    </tr>\n",
              "    <tr>\n",
              "      <th>time_on_site</th>\n",
              "      <th>(4.408, 104.16]</th>\n",
              "      <th>(104.16, 203.317]</th>\n",
              "      <th>(203.317, 302.474]</th>\n",
              "      <th>(302.474, 401.631]</th>\n",
              "      <th>(401.631, 500.788]</th>\n",
              "      <th>(500.788, 599.946]</th>\n",
              "      <th>(4.408, 104.16]</th>\n",
              "      <th>(104.16, 203.317]</th>\n",
              "      <th>(203.317, 302.474]</th>\n",
              "    </tr>\n",
              "    <tr>\n",
              "      <th>purchased</th>\n",
              "      <th></th>\n",
              "      <th></th>\n",
              "      <th></th>\n",
              "      <th></th>\n",
              "      <th></th>\n",
              "      <th></th>\n",
              "      <th></th>\n",
              "      <th></th>\n",
              "      <th></th>\n",
              "    </tr>\n",
              "  </thead>\n",
              "  <tbody>\n",
              "    <tr>\n",
              "      <th>False</th>\n",
              "      <td>0.877551</td>\n",
              "      <td>0.821596</td>\n",
              "      <td>0.760563</td>\n",
              "      <td>0.658199</td>\n",
              "      <td>0.585648</td>\n",
              "      <td>0.531969</td>\n",
              "      <td>0.664942</td>\n",
              "      <td>0.606122</td>\n",
              "      <td>0.521965</td>\n",
              "    </tr>\n",
              "    <tr>\n",
              "      <th>True</th>\n",
              "      <td>0.122449</td>\n",
              "      <td>0.178404</td>\n",
              "      <td>0.239437</td>\n",
              "      <td>0.341801</td>\n",
              "      <td>0.414352</td>\n",
              "      <td>0.468031</td>\n",
              "      <td>0.335058</td>\n",
              "      <td>0.393878</td>\n",
              "      <td>0.478035</td>\n",
              "    </tr>\n",
              "  </tbody>\n",
              "</table>\n",
              "</div>"
            ],
            "text/plain": [
              "mobile                 False        ...                      True \n",
              "time_on_site (4.408, 104.16]        ...         (203.317, 302.474]\n",
              "purchased                           ...                           \n",
              "False               0.877551        ...                   0.521965\n",
              "True                0.122449        ...                   0.478035\n",
              "\n",
              "[2 rows x 9 columns]"
            ]
          },
          "metadata": {
            "tags": []
          },
          "execution_count": 25
        }
      ]
    },
    {
      "cell_type": "code",
      "metadata": {
        "id": "Si-cVdy2YkK0",
        "colab_type": "code",
        "outputId": "86a09815-4c01-4c7e-c4f4-d5dcc106223e",
        "colab": {
          "base_uri": "https://localhost:8080/",
          "height": 185
        }
      },
      "source": [
        "pd.crosstab(user_data['purchased'], [user_data['mobile'], time_bins], normalize='columns')"
      ],
      "execution_count": 0,
      "outputs": [
        {
          "output_type": "execute_result",
          "data": {
            "text/html": [
              "<div>\n",
              "<style scoped>\n",
              "    .dataframe tbody tr th:only-of-type {\n",
              "        vertical-align: middle;\n",
              "    }\n",
              "\n",
              "    .dataframe tbody tr th {\n",
              "        vertical-align: top;\n",
              "    }\n",
              "\n",
              "    .dataframe thead tr th {\n",
              "        text-align: left;\n",
              "    }\n",
              "\n",
              "    .dataframe thead tr:last-of-type th {\n",
              "        text-align: right;\n",
              "    }\n",
              "</style>\n",
              "<table border=\"1\" class=\"dataframe\">\n",
              "  <thead>\n",
              "    <tr>\n",
              "      <th>mobile</th>\n",
              "      <th colspan=\"6\" halign=\"left\">False</th>\n",
              "      <th colspan=\"3\" halign=\"left\">True</th>\n",
              "    </tr>\n",
              "    <tr>\n",
              "      <th>time_on_site</th>\n",
              "      <th>(5.196, 104.754]</th>\n",
              "      <th>(104.754, 203.718]</th>\n",
              "      <th>(203.718, 302.683]</th>\n",
              "      <th>(302.683, 401.648]</th>\n",
              "      <th>(401.648, 500.612]</th>\n",
              "      <th>(500.612, 599.577]</th>\n",
              "      <th>(5.196, 104.754]</th>\n",
              "      <th>(104.754, 203.718]</th>\n",
              "      <th>(203.718, 302.683]</th>\n",
              "    </tr>\n",
              "    <tr>\n",
              "      <th>purchased</th>\n",
              "      <th></th>\n",
              "      <th></th>\n",
              "      <th></th>\n",
              "      <th></th>\n",
              "      <th></th>\n",
              "      <th></th>\n",
              "      <th></th>\n",
              "      <th></th>\n",
              "      <th></th>\n",
              "    </tr>\n",
              "  </thead>\n",
              "  <tbody>\n",
              "    <tr>\n",
              "      <th>False</th>\n",
              "      <td>0.891892</td>\n",
              "      <td>0.869565</td>\n",
              "      <td>0.617021</td>\n",
              "      <td>0.638889</td>\n",
              "      <td>0.567568</td>\n",
              "      <td>0.638298</td>\n",
              "      <td>0.648536</td>\n",
              "      <td>0.653846</td>\n",
              "      <td>0.537849</td>\n",
              "    </tr>\n",
              "    <tr>\n",
              "      <th>True</th>\n",
              "      <td>0.108108</td>\n",
              "      <td>0.130435</td>\n",
              "      <td>0.382979</td>\n",
              "      <td>0.361111</td>\n",
              "      <td>0.432432</td>\n",
              "      <td>0.361702</td>\n",
              "      <td>0.351464</td>\n",
              "      <td>0.346154</td>\n",
              "      <td>0.462151</td>\n",
              "    </tr>\n",
              "  </tbody>\n",
              "</table>\n",
              "</div>"
            ],
            "text/plain": [
              "mobile                  False        ...                      True \n",
              "time_on_site (5.196, 104.754]        ...         (203.718, 302.683]\n",
              "purchased                            ...                           \n",
              "False                0.891892        ...                   0.537849\n",
              "True                 0.108108        ...                   0.462151\n",
              "\n",
              "[2 rows x 9 columns]"
            ]
          },
          "metadata": {
            "tags": []
          },
          "execution_count": 17
        }
      ]
    },
    {
      "cell_type": "code",
      "metadata": {
        "id": "QmpUluDMah96",
        "colab_type": "code",
        "outputId": "1a836771-f360-4b9e-f0d3-63eeb5ce6fe1",
        "colab": {
          "base_uri": "https://localhost:8080/",
          "height": 288
        }
      },
      "source": [
        "crosstab = pd.crosstab(time_bins, [user_data['purchased'], user_data['mobile']], normalize='columns')\n",
        "crosstab"
      ],
      "execution_count": 0,
      "outputs": [
        {
          "output_type": "execute_result",
          "data": {
            "text/html": [
              "<div>\n",
              "<style scoped>\n",
              "    .dataframe tbody tr th:only-of-type {\n",
              "        vertical-align: middle;\n",
              "    }\n",
              "\n",
              "    .dataframe tbody tr th {\n",
              "        vertical-align: top;\n",
              "    }\n",
              "\n",
              "    .dataframe thead tr th {\n",
              "        text-align: left;\n",
              "    }\n",
              "\n",
              "    .dataframe thead tr:last-of-type th {\n",
              "        text-align: right;\n",
              "    }\n",
              "</style>\n",
              "<table border=\"1\" class=\"dataframe\">\n",
              "  <thead>\n",
              "    <tr>\n",
              "      <th>purchased</th>\n",
              "      <th colspan=\"2\" halign=\"left\">False</th>\n",
              "      <th colspan=\"2\" halign=\"left\">True</th>\n",
              "    </tr>\n",
              "    <tr>\n",
              "      <th>mobile</th>\n",
              "      <th>False</th>\n",
              "      <th>True</th>\n",
              "      <th>False</th>\n",
              "      <th>True</th>\n",
              "    </tr>\n",
              "    <tr>\n",
              "      <th>time_on_site</th>\n",
              "      <th></th>\n",
              "      <th></th>\n",
              "      <th></th>\n",
              "      <th></th>\n",
              "    </tr>\n",
              "  </thead>\n",
              "  <tbody>\n",
              "    <tr>\n",
              "      <th>(4.408, 104.16]</th>\n",
              "      <td>0.195011</td>\n",
              "      <td>0.372741</td>\n",
              "      <td>0.065217</td>\n",
              "      <td>0.279085</td>\n",
              "    </tr>\n",
              "    <tr>\n",
              "      <th>(104.16, 203.317]</th>\n",
              "      <td>0.198413</td>\n",
              "      <td>0.335713</td>\n",
              "      <td>0.103261</td>\n",
              "      <td>0.324163</td>\n",
              "    </tr>\n",
              "    <tr>\n",
              "      <th>(203.317, 302.474]</th>\n",
              "      <td>0.183673</td>\n",
              "      <td>0.291546</td>\n",
              "      <td>0.138587</td>\n",
              "      <td>0.396752</td>\n",
              "    </tr>\n",
              "    <tr>\n",
              "      <th>(302.474, 401.631]</th>\n",
              "      <td>0.161565</td>\n",
              "      <td>0.000000</td>\n",
              "      <td>0.201087</td>\n",
              "      <td>0.000000</td>\n",
              "    </tr>\n",
              "    <tr>\n",
              "      <th>(401.631, 500.788]</th>\n",
              "      <td>0.143424</td>\n",
              "      <td>0.000000</td>\n",
              "      <td>0.243207</td>\n",
              "      <td>0.000000</td>\n",
              "    </tr>\n",
              "    <tr>\n",
              "      <th>(500.788, 599.946]</th>\n",
              "      <td>0.117914</td>\n",
              "      <td>0.000000</td>\n",
              "      <td>0.248641</td>\n",
              "      <td>0.000000</td>\n",
              "    </tr>\n",
              "  </tbody>\n",
              "</table>\n",
              "</div>"
            ],
            "text/plain": [
              "purchased              False               True           \n",
              "mobile                 False     True      False     True \n",
              "time_on_site                                              \n",
              "(4.408, 104.16]     0.195011  0.372741  0.065217  0.279085\n",
              "(104.16, 203.317]   0.198413  0.335713  0.103261  0.324163\n",
              "(203.317, 302.474]  0.183673  0.291546  0.138587  0.396752\n",
              "(302.474, 401.631]  0.161565  0.000000  0.201087  0.000000\n",
              "(401.631, 500.788]  0.143424  0.000000  0.243207  0.000000\n",
              "(500.788, 599.946]  0.117914  0.000000  0.248641  0.000000"
            ]
          },
          "metadata": {
            "tags": []
          },
          "execution_count": 27
        }
      ]
    },
    {
      "cell_type": "code",
      "metadata": {
        "id": "YQ8wOXjFbAmv",
        "colab_type": "code",
        "outputId": "d1c4f8f1-dfdc-42c8-9b41-882450fdf21b",
        "colab": {
          "base_uri": "https://localhost:8080/",
          "height": 35
        }
      },
      "source": [
        "type(crosstab)"
      ],
      "execution_count": 0,
      "outputs": [
        {
          "output_type": "execute_result",
          "data": {
            "text/plain": [
              "pandas.core.frame.DataFrame"
            ]
          },
          "metadata": {
            "tags": []
          },
          "execution_count": 29
        }
      ]
    },
    {
      "cell_type": "code",
      "metadata": {
        "id": "s38r3cara24p",
        "colab_type": "code",
        "outputId": "bb0262f9-0d59-4ed5-9e00-d00f6a3ca40a",
        "colab": {
          "base_uri": "https://localhost:8080/",
          "height": 387
        }
      },
      "source": [
        "crosstab.plot(kind='bar')"
      ],
      "execution_count": 0,
      "outputs": [
        {
          "output_type": "execute_result",
          "data": {
            "text/plain": [
              "<matplotlib.axes._subplots.AxesSubplot at 0x7ff537996d68>"
            ]
          },
          "metadata": {
            "tags": []
          },
          "execution_count": 30
        },
        {
          "output_type": "display_data",
          "data": {
            "image/png": "[encoded data removed]",
            "text/plain": [
              "<Figure size 432x288 with 1 Axes>"
            ]
          },
          "metadata": {
            "tags": []
          }
        }
      ]
    },
    {
      "cell_type": "code",
      "metadata": {
        "id": "uSG9n_nlbVL7",
        "colab_type": "code",
        "outputId": "c762455f-c006-4feb-f48d-d489ab8a8474",
        "colab": {
          "base_uri": "https://localhost:8080/",
          "height": 288
        }
      },
      "source": [
        "crosstab_final = crosstab.iloc[:,[2,3]]\n",
        "crosstab_final"
      ],
      "execution_count": 0,
      "outputs": [
        {
          "output_type": "execute_result",
          "data": {
            "text/html": [
              "<div>\n",
              "<style scoped>\n",
              "    .dataframe tbody tr th:only-of-type {\n",
              "        vertical-align: middle;\n",
              "    }\n",
              "\n",
              "    .dataframe tbody tr th {\n",
              "        vertical-align: top;\n",
              "    }\n",
              "\n",
              "    .dataframe thead tr th {\n",
              "        text-align: left;\n",
              "    }\n",
              "\n",
              "    .dataframe thead tr:last-of-type th {\n",
              "        text-align: right;\n",
              "    }\n",
              "</style>\n",
              "<table border=\"1\" class=\"dataframe\">\n",
              "  <thead>\n",
              "    <tr>\n",
              "      <th>purchased</th>\n",
              "      <th colspan=\"2\" halign=\"left\">True</th>\n",
              "    </tr>\n",
              "    <tr>\n",
              "      <th>mobile</th>\n",
              "      <th>False</th>\n",
              "      <th>True</th>\n",
              "    </tr>\n",
              "    <tr>\n",
              "      <th>time_on_site</th>\n",
              "      <th></th>\n",
              "      <th></th>\n",
              "    </tr>\n",
              "  </thead>\n",
              "  <tbody>\n",
              "    <tr>\n",
              "      <th>(4.408, 104.16]</th>\n",
              "      <td>0.065217</td>\n",
              "      <td>0.279085</td>\n",
              "    </tr>\n",
              "    <tr>\n",
              "      <th>(104.16, 203.317]</th>\n",
              "      <td>0.103261</td>\n",
              "      <td>0.324163</td>\n",
              "    </tr>\n",
              "    <tr>\n",
              "      <th>(203.317, 302.474]</th>\n",
              "      <td>0.138587</td>\n",
              "      <td>0.396752</td>\n",
              "    </tr>\n",
              "    <tr>\n",
              "      <th>(302.474, 401.631]</th>\n",
              "      <td>0.201087</td>\n",
              "      <td>0.000000</td>\n",
              "    </tr>\n",
              "    <tr>\n",
              "      <th>(401.631, 500.788]</th>\n",
              "      <td>0.243207</td>\n",
              "      <td>0.000000</td>\n",
              "    </tr>\n",
              "    <tr>\n",
              "      <th>(500.788, 599.946]</th>\n",
              "      <td>0.248641</td>\n",
              "      <td>0.000000</td>\n",
              "    </tr>\n",
              "  </tbody>\n",
              "</table>\n",
              "</div>"
            ],
            "text/plain": [
              "purchased               True          \n",
              "mobile                 False     True \n",
              "time_on_site                          \n",
              "(4.408, 104.16]     0.065217  0.279085\n",
              "(104.16, 203.317]   0.103261  0.324163\n",
              "(203.317, 302.474]  0.138587  0.396752\n",
              "(302.474, 401.631]  0.201087  0.000000\n",
              "(401.631, 500.788]  0.243207  0.000000\n",
              "(500.788, 599.946]  0.248641  0.000000"
            ]
          },
          "metadata": {
            "tags": []
          },
          "execution_count": 34
        }
      ]
    },
    {
      "cell_type": "code",
      "metadata": {
        "id": "kdFn6R6_cK3g",
        "colab_type": "code",
        "outputId": "7e1eb4e9-7239-4170-8086-81bede8485e1",
        "colab": {
          "base_uri": "https://localhost:8080/",
          "height": 370
        }
      },
      "source": [
        "crosstab_final.plot(kind='bar');"
      ],
      "execution_count": 0,
      "outputs": [
        {
          "output_type": "display_data",
          "data": {
            "image/png": "[encoded data removed]",
            "text/plain": [
              "<Figure size 432x288 with 1 Axes>"
            ]
          },
          "metadata": {
            "tags": []
          }
        }
      ]
    },
    {
      "cell_type": "code",
      "metadata": {
        "id": "TX8kVvPjcZob",
        "colab_type": "code",
        "outputId": "152b2fe4-76cd-47d8-ed16-39a6e27cb03b",
        "colab": {
          "base_uri": "https://localhost:8080/",
          "height": 269
        }
      },
      "source": [
        "crosstab_final.plot(kind='barh');"
      ],
      "execution_count": 0,
      "outputs": [
        {
          "output_type": "display_data",
          "data": {
            "image/png": "[encoded data removed]",
            "text/plain": [
              "<Figure size 432x288 with 1 Axes>"
            ]
          },
          "metadata": {
            "tags": []
          }
        }
      ]
    },
    {
      "cell_type": "code",
      "metadata": {
        "id": "BvhVJgo-cdBG",
        "colab_type": "code",
        "outputId": "24ead65d-6522-45b7-903b-2fcaa724d29d",
        "colab": {
          "base_uri": "https://localhost:8080/",
          "height": 370
        }
      },
      "source": [
        "crosstab_final.plot(kind='bar', stacked=True);"
      ],
      "execution_count": 0,
      "outputs": [
        {
          "output_type": "display_data",
          "data": {
            "image/png": "[encoded data removed]",
            "text/plain": [
              "<Figure size 432x288 with 1 Axes>"
            ]
          },
          "metadata": {
            "tags": []
          }
        }
      ]
    },
    {
      "cell_type": "code",
      "metadata": {
        "id": "eC2xSskzchL6",
        "colab_type": "code",
        "outputId": "f9a769d9-225a-49f3-cc15-f874b5cb82c4",
        "colab": {
          "base_uri": "https://localhost:8080/",
          "height": 275
        }
      },
      "source": [
        "crosstab_final.plot();"
      ],
      "execution_count": 0,
      "outputs": [
        {
          "output_type": "display_data",
          "data": {
            "image/png": "[encoded data removed]",
            "text/plain": [
              "<Figure size 432x288 with 1 Axes>"
            ]
          },
          "metadata": {
            "tags": []
          }
        }
      ]
    },
    {
      "cell_type": "code",
      "metadata": {
        "id": "wMISuQagco_Z",
        "colab_type": "code",
        "outputId": "a9b4af71-0e4f-42a2-962c-b64d02949a69",
        "colab": {
          "base_uri": "https://localhost:8080/",
          "height": 269
        }
      },
      "source": [
        "crosstab_final.plot.density();"
      ],
      "execution_count": 0,
      "outputs": [
        {
          "output_type": "display_data",
          "data": {
            "image/png": "[encoded data removed]",
            "text/plain": [
              "<Figure size 432x288 with 1 Axes>"
            ]
          },
          "metadata": {
            "tags": []
          }
        }
      ]
    },
    {
      "cell_type": "code",
      "metadata": {
        "id": "JyFRFb_acryi",
        "colab_type": "code",
        "outputId": "cb92df6b-e5cd-4814-fc03-b43a516d03bc",
        "colab": {
          "base_uri": "https://localhost:8080/",
          "height": 269
        }
      },
      "source": [
        "user_data['time_on_site'].hist(bins=50);"
      ],
      "execution_count": 0,
      "outputs": [
        {
          "output_type": "display_data",
          "data": {
            "image/png": "[encoded data removed]",
            "text/plain": [
              "<Figure size 432x288 with 1 Axes>"
            ]
          },
          "metadata": {
            "tags": []
          }
        }
      ]
    },
    {
      "cell_type": "code",
      "metadata": {
        "id": "KQb-wU60xCum",
        "colab_type": "code",
        "colab": {}
      },
      "source": [
        "# Yep, mobile users are more likely to buy things\n",
        "# But we're still not seeing the *whole* story until we look at all 3 at once\n",
        "\n",
        "# Live/stretch goal - how can we do that?"
      ],
      "execution_count": 0,
      "outputs": []
    }
  ]
}