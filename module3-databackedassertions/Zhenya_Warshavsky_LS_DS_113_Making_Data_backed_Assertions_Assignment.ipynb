{
  "nbformat": 4,
  "nbformat_minor": 0,
  "metadata": {
    "colab": {
      "name": "Zhenya Warshavsky_LS_DS_113_Making_Data_backed_Assertions_Assignment.ipynb",
      "version": "0.3.2",
      "provenance": [],
      "collapsed_sections": [],
      "include_colab_link": true
    },
    "kernelspec": {
      "name": "python3",
      "display_name": "Python 3"
    }
  },
  "cells": [
    {
      "cell_type": "markdown",
      "metadata": {
        "id": "view-in-github",
        "colab_type": "text"
      },
      "source": [
        "<a href=\"https://colab.research.google.com/github/zwarshavsky/DS-Unit-1-Sprint-1-Dealing-With-Data/blob/master/module3-databackedassertions/Zhenya_Warshavsky_LS_DS_113_Making_Data_backed_Assertions_Assignment.ipynb\" target=\"_parent\"><img src=\"https://colab.research.google.com/assets/colab-badge.svg\" alt=\"Open In Colab\"/></a>"
      ]
    },
    {
      "cell_type": "markdown",
      "metadata": {
        "id": "Okfr_uhwhS1X",
        "colab_type": "text"
      },
      "source": [
        "# Lambda School Data Science - Making Data-backed Assertions\n",
        "\n",
        "This is, for many, the main point of data science - to create and support reasoned arguments based on evidence. It's not a topic to master in a day, but it is worth some focused time thinking about and structuring your approach to it."
      ]
    },
    {
      "cell_type": "markdown",
      "metadata": {
        "id": "lOqaPds9huME",
        "colab_type": "text"
      },
      "source": [
        "## Assignment - what's going on here?\n",
        "\n",
        "Consider the data in `persons.csv` (already prepared for you, in the repo for the week). It has four columns - a unique id, followed by age (in years), weight (in lbs), and exercise time (in minutes/week) of 1200 (hypothetical) people.\n",
        "\n",
        "Try to figure out which variables are possibly related to each other, and which may be confounding relationships.\n",
        "\n",
        "Try and isolate the main relationships and then communicate them using crosstabs and graphs. Share any cool graphs that you make with the rest of the class in Slack!"
      ]
    },
    {
      "cell_type": "code",
      "metadata": {
        "id": "em1XWQEHsCbM",
        "colab_type": "code",
        "colab": {
          "base_uri": "https://localhost:8080/",
          "height": 255
        },
        "outputId": "264c39eb-0a97-4068-c8fb-978e3fac58a3"
      },
      "source": [
        "!curl https://raw.githubusercontent.com/zwarshavsky/DS-Unit-1-Sprint-1-Dealing-With-Data/master/module3-databackedassertions/persons.csv | head -n 10\n",
        "# !curl https://raw.githubusercontent.com/zwarshavsky/DS-Unit-1-Sprint-1-Dealing-With-Data/master/module3-databackedassertions/persons.csv"
      ],
      "execution_count": 1,
      "outputs": [
        {
          "output_type": "stream",
          "text": [
            "  % Total    % Received % Xferd  Average Speed   Time    Time     Time  Current\n",
            "                                 Dload  Upload   Total   Spent    Left  Speed\n",
            "\r  0     0    0     0    0     0      0      0 --:--:-- --:--:-- --:--:--     0,age,weight,exercise_time\n",
            "0,44,118,192\n",
            "1,41,161,35\n",
            "2,46,128,220\n",
            "3,39,216,57\n",
            "4,28,116,182\n",
            "5,58,103,165\n",
            "6,55,161,107\n",
            "7,21,188,37\n",
            "8,55,216,79\n",
            "\r 58 17574   58 10200    0     0  77272      0 --:--:-- --:--:-- --:--:-- 77272\n",
            "curl: (23) Failed writing body (751 != 2759)\n"
          ],
          "name": "stdout"
        }
      ]
    },
    {
      "cell_type": "code",
      "metadata": {
        "id": "TGUS79cOhPWj",
        "colab_type": "code",
        "colab": {
          "base_uri": "https://localhost:8080/",
          "height": 705
        },
        "outputId": "40d3c0d5-e1ea-4c48-d966-73d775011ebc"
      },
      "source": [
        "import pandas as pd\n",
        "import numpy as np\n",
        "import matplotlib.pyplot as plt\n",
        "\n",
        "\n",
        "#function for dataframe stats\n",
        "\n",
        "def df_stats(dataframe):\n",
        "    try:\n",
        "        display(dataframe.shape,dataframe.head(),dataframe.isna().sum(),dataframe.dtypes,dataframe.count(),dataframe.describe(),dataframe.describe(exclude=\"number\"))\n",
        "    except:\n",
        "        display(dataframe.shape,dataframe.head(),dataframe.isna().sum(),dataframe.dtypes,dataframe.count(),dataframe.describe())\n",
        "\n",
        "\n",
        "\n",
        "# TODO - your code here\n",
        "# Use what we did live in lecture as an example\n",
        "\n",
        "# HINT - you can find the raw URL on GitHub and potentially use that\n",
        "# to load the data with read_csv, or you can upload it yourself\n",
        "df = pd.read_csv(\"https://raw.githubusercontent.com/zwarshavsky/DS-Unit-1-Sprint-1-Dealing-With-Data/master/module3-databackedassertions/persons.csv\")\n",
        "\n",
        "\n",
        "df = df.drop(columns=[\"Unnamed: 0\"])\n",
        "df_stats(df)\n",
        "\n"
      ],
      "execution_count": 2,
      "outputs": [
        {
          "output_type": "display_data",
          "data": {
            "text/plain": [
              "(1200, 3)"
            ]
          },
          "metadata": {
            "tags": []
          }
        },
        {
          "output_type": "display_data",
          "data": {
            "text/html": [
              "<div>\n",
              "<style scoped>\n",
              "    .dataframe tbody tr th:only-of-type {\n",
              "        vertical-align: middle;\n",
              "    }\n",
              "\n",
              "    .dataframe tbody tr th {\n",
              "        vertical-align: top;\n",
              "    }\n",
              "\n",
              "    .dataframe thead th {\n",
              "        text-align: right;\n",
              "    }\n",
              "</style>\n",
              "<table border=\"1\" class=\"dataframe\">\n",
              "  <thead>\n",
              "    <tr style=\"text-align: right;\">\n",
              "      <th></th>\n",
              "      <th>age</th>\n",
              "      <th>weight</th>\n",
              "      <th>exercise_time</th>\n",
              "    </tr>\n",
              "  </thead>\n",
              "  <tbody>\n",
              "    <tr>\n",
              "      <th>0</th>\n",
              "      <td>44</td>\n",
              "      <td>118</td>\n",
              "      <td>192</td>\n",
              "    </tr>\n",
              "    <tr>\n",
              "      <th>1</th>\n",
              "      <td>41</td>\n",
              "      <td>161</td>\n",
              "      <td>35</td>\n",
              "    </tr>\n",
              "    <tr>\n",
              "      <th>2</th>\n",
              "      <td>46</td>\n",
              "      <td>128</td>\n",
              "      <td>220</td>\n",
              "    </tr>\n",
              "    <tr>\n",
              "      <th>3</th>\n",
              "      <td>39</td>\n",
              "      <td>216</td>\n",
              "      <td>57</td>\n",
              "    </tr>\n",
              "    <tr>\n",
              "      <th>4</th>\n",
              "      <td>28</td>\n",
              "      <td>116</td>\n",
              "      <td>182</td>\n",
              "    </tr>\n",
              "  </tbody>\n",
              "</table>\n",
              "</div>"
            ],
            "text/plain": [
              "   age  weight  exercise_time\n",
              "0   44     118            192\n",
              "1   41     161             35\n",
              "2   46     128            220\n",
              "3   39     216             57\n",
              "4   28     116            182"
            ]
          },
          "metadata": {
            "tags": []
          }
        },
        {
          "output_type": "display_data",
          "data": {
            "text/plain": [
              "age              0\n",
              "weight           0\n",
              "exercise_time    0\n",
              "dtype: int64"
            ]
          },
          "metadata": {
            "tags": []
          }
        },
        {
          "output_type": "display_data",
          "data": {
            "text/plain": [
              "age              int64\n",
              "weight           int64\n",
              "exercise_time    int64\n",
              "dtype: object"
            ]
          },
          "metadata": {
            "tags": []
          }
        },
        {
          "output_type": "display_data",
          "data": {
            "text/plain": [
              "age              1200\n",
              "weight           1200\n",
              "exercise_time    1200\n",
              "dtype: int64"
            ]
          },
          "metadata": {
            "tags": []
          }
        },
        {
          "output_type": "display_data",
          "data": {
            "text/html": [
              "<div>\n",
              "<style scoped>\n",
              "    .dataframe tbody tr th:only-of-type {\n",
              "        vertical-align: middle;\n",
              "    }\n",
              "\n",
              "    .dataframe tbody tr th {\n",
              "        vertical-align: top;\n",
              "    }\n",
              "\n",
              "    .dataframe thead th {\n",
              "        text-align: right;\n",
              "    }\n",
              "</style>\n",
              "<table border=\"1\" class=\"dataframe\">\n",
              "  <thead>\n",
              "    <tr style=\"text-align: right;\">\n",
              "      <th></th>\n",
              "      <th>age</th>\n",
              "      <th>weight</th>\n",
              "      <th>exercise_time</th>\n",
              "    </tr>\n",
              "  </thead>\n",
              "  <tbody>\n",
              "    <tr>\n",
              "      <th>count</th>\n",
              "      <td>1200.000000</td>\n",
              "      <td>1200.000000</td>\n",
              "      <td>1200.000000</td>\n",
              "    </tr>\n",
              "    <tr>\n",
              "      <th>mean</th>\n",
              "      <td>48.396667</td>\n",
              "      <td>153.540833</td>\n",
              "      <td>134.910833</td>\n",
              "    </tr>\n",
              "    <tr>\n",
              "      <th>std</th>\n",
              "      <td>18.166802</td>\n",
              "      <td>35.132182</td>\n",
              "      <td>85.548895</td>\n",
              "    </tr>\n",
              "    <tr>\n",
              "      <th>min</th>\n",
              "      <td>18.000000</td>\n",
              "      <td>100.000000</td>\n",
              "      <td>0.000000</td>\n",
              "    </tr>\n",
              "    <tr>\n",
              "      <th>25%</th>\n",
              "      <td>33.000000</td>\n",
              "      <td>125.000000</td>\n",
              "      <td>65.000000</td>\n",
              "    </tr>\n",
              "    <tr>\n",
              "      <th>50%</th>\n",
              "      <td>48.000000</td>\n",
              "      <td>149.000000</td>\n",
              "      <td>122.000000</td>\n",
              "    </tr>\n",
              "    <tr>\n",
              "      <th>75%</th>\n",
              "      <td>64.000000</td>\n",
              "      <td>180.250000</td>\n",
              "      <td>206.000000</td>\n",
              "    </tr>\n",
              "    <tr>\n",
              "      <th>max</th>\n",
              "      <td>80.000000</td>\n",
              "      <td>246.000000</td>\n",
              "      <td>300.000000</td>\n",
              "    </tr>\n",
              "  </tbody>\n",
              "</table>\n",
              "</div>"
            ],
            "text/plain": [
              "               age       weight  exercise_time\n",
              "count  1200.000000  1200.000000    1200.000000\n",
              "mean     48.396667   153.540833     134.910833\n",
              "std      18.166802    35.132182      85.548895\n",
              "min      18.000000   100.000000       0.000000\n",
              "25%      33.000000   125.000000      65.000000\n",
              "50%      48.000000   149.000000     122.000000\n",
              "75%      64.000000   180.250000     206.000000\n",
              "max      80.000000   246.000000     300.000000"
            ]
          },
          "metadata": {
            "tags": []
          }
        }
      ]
    },
    {
      "cell_type": "markdown",
      "metadata": {
        "id": "1Jbfy_Ozwdry",
        "colab_type": "text"
      },
      "source": [
        "*Try to predict person's weight. In data set it is not super clear what is the most interesting thing. \n",
        "*Exercise time is in minutes/week of exercise \n",
        "*Do some research on pivot tables in this assignment."
      ]
    },
    {
      "cell_type": "code",
      "metadata": {
        "id": "kS7AIc0bxaKi",
        "colab_type": "code",
        "colab": {
          "base_uri": "https://localhost:8080/",
          "height": 34
        },
        "outputId": "edeb2ec7-9f08-46a1-e247-318ee5e7f301"
      },
      "source": [
        "from collections import namedtuple\n",
        "\n",
        "User = namedtuple('User', ['age','weight', 'exercise_time'])\n",
        "\n",
        "example_user = User(18, 140, 65)\n",
        "print(example_user)"
      ],
      "execution_count": 3,
      "outputs": [
        {
          "output_type": "stream",
          "text": [
            "User(age=18, weight=140, exercise_time=65)\n"
          ],
          "name": "stdout"
        }
      ]
    },
    {
      "cell_type": "code",
      "metadata": {
        "id": "JtgF_8iX3HTy",
        "colab_type": "code",
        "colab": {
          "base_uri": "https://localhost:8080/",
          "height": 34
        },
        "outputId": "357bcb3c-61ac-4e50-cd9d-c0f06f274d03"
      },
      "source": [
        "pd.__version__"
      ],
      "execution_count": 4,
      "outputs": [
        {
          "output_type": "execute_result",
          "data": {
            "text/plain": [
              "'0.23.4'"
            ]
          },
          "metadata": {
            "tags": []
          },
          "execution_count": 4
        }
      ]
    },
    {
      "cell_type": "code",
      "metadata": {
        "id": "Fx0MG8Gx3Lmt",
        "colab_type": "code",
        "colab": {}
      },
      "source": [
        "# !pip install pandas==0.23.4"
      ],
      "execution_count": 0,
      "outputs": []
    },
    {
      "cell_type": "code",
      "metadata": {
        "id": "Lmt3RmaWyofU",
        "colab_type": "code",
        "colab": {
          "base_uri": "https://localhost:8080/",
          "height": 807
        },
        "outputId": "d9fa2df8-d8e7-4dba-cf5c-bdfd81ba97b9"
      },
      "source": [
        "age_bins = pd.cut(df['age'], 4)  # 4 equal-sized bins\n",
        "exercise_bins = pd.cut(df['exercise_time'], 4)  # 4 equal-sized bins\n",
        "weight_bins = pd.cut(df['weight'], 4)  # 4 equal-sized bins\n",
        "\n",
        "\n",
        "crosstab = pd.crosstab(exercise_bins,weight_bins, normalize='columns')\n",
        "df_stats(crosstab)"
      ],
      "execution_count": 20,
      "outputs": [
        {
          "output_type": "display_data",
          "data": {
            "text/plain": [
              "(4, 4)"
            ]
          },
          "metadata": {
            "tags": []
          }
        },
        {
          "output_type": "display_data",
          "data": {
            "text/html": [
              "<div>\n",
              "<style scoped>\n",
              "    .dataframe tbody tr th:only-of-type {\n",
              "        vertical-align: middle;\n",
              "    }\n",
              "\n",
              "    .dataframe tbody tr th {\n",
              "        vertical-align: top;\n",
              "    }\n",
              "\n",
              "    .dataframe thead th {\n",
              "        text-align: right;\n",
              "    }\n",
              "</style>\n",
              "<table border=\"1\" class=\"dataframe\">\n",
              "  <thead>\n",
              "    <tr style=\"text-align: right;\">\n",
              "      <th>weight</th>\n",
              "      <th>(99.854, 136.5]</th>\n",
              "      <th>(136.5, 173.0]</th>\n",
              "      <th>(173.0, 209.5]</th>\n",
              "      <th>(209.5, 246.0]</th>\n",
              "    </tr>\n",
              "    <tr>\n",
              "      <th>exercise_time</th>\n",
              "      <th></th>\n",
              "      <th></th>\n",
              "      <th></th>\n",
              "      <th></th>\n",
              "    </tr>\n",
              "  </thead>\n",
              "  <tbody>\n",
              "    <tr>\n",
              "      <th>(-0.3, 75.0]</th>\n",
              "      <td>0.180617</td>\n",
              "      <td>0.224181</td>\n",
              "      <td>0.422925</td>\n",
              "      <td>0.802083</td>\n",
              "    </tr>\n",
              "    <tr>\n",
              "      <th>(75.0, 150.0]</th>\n",
              "      <td>0.220264</td>\n",
              "      <td>0.292191</td>\n",
              "      <td>0.430830</td>\n",
              "      <td>0.197917</td>\n",
              "    </tr>\n",
              "    <tr>\n",
              "      <th>(150.0, 225.0]</th>\n",
              "      <td>0.264317</td>\n",
              "      <td>0.261965</td>\n",
              "      <td>0.146245</td>\n",
              "      <td>0.000000</td>\n",
              "    </tr>\n",
              "    <tr>\n",
              "      <th>(225.0, 300.0]</th>\n",
              "      <td>0.334802</td>\n",
              "      <td>0.221662</td>\n",
              "      <td>0.000000</td>\n",
              "      <td>0.000000</td>\n",
              "    </tr>\n",
              "  </tbody>\n",
              "</table>\n",
              "</div>"
            ],
            "text/plain": [
              "weight          (99.854, 136.5]       ...        (209.5, 246.0]\n",
              "exercise_time                         ...                      \n",
              "(-0.3, 75.0]           0.180617       ...              0.802083\n",
              "(75.0, 150.0]          0.220264       ...              0.197917\n",
              "(150.0, 225.0]         0.264317       ...              0.000000\n",
              "(225.0, 300.0]         0.334802       ...              0.000000\n",
              "\n",
              "[4 rows x 4 columns]"
            ]
          },
          "metadata": {
            "tags": []
          }
        },
        {
          "output_type": "display_data",
          "data": {
            "text/plain": [
              "weight\n",
              "(99.854, 136.5]    0\n",
              "(136.5, 173.0]     0\n",
              "(173.0, 209.5]     0\n",
              "(209.5, 246.0]     0\n",
              "dtype: int64"
            ]
          },
          "metadata": {
            "tags": []
          }
        },
        {
          "output_type": "display_data",
          "data": {
            "text/plain": [
              "weight\n",
              "(99.854, 136.5]    float64\n",
              "(136.5, 173.0]     float64\n",
              "(173.0, 209.5]     float64\n",
              "(209.5, 246.0]     float64\n",
              "dtype: object"
            ]
          },
          "metadata": {
            "tags": []
          }
        },
        {
          "output_type": "display_data",
          "data": {
            "text/plain": [
              "weight\n",
              "(99.854, 136.5]    4\n",
              "(136.5, 173.0]     4\n",
              "(173.0, 209.5]     4\n",
              "(209.5, 246.0]     4\n",
              "dtype: int64"
            ]
          },
          "metadata": {
            "tags": []
          }
        },
        {
          "output_type": "display_data",
          "data": {
            "text/html": [
              "<div>\n",
              "<style scoped>\n",
              "    .dataframe tbody tr th:only-of-type {\n",
              "        vertical-align: middle;\n",
              "    }\n",
              "\n",
              "    .dataframe tbody tr th {\n",
              "        vertical-align: top;\n",
              "    }\n",
              "\n",
              "    .dataframe thead th {\n",
              "        text-align: right;\n",
              "    }\n",
              "</style>\n",
              "<table border=\"1\" class=\"dataframe\">\n",
              "  <thead>\n",
              "    <tr style=\"text-align: right;\">\n",
              "      <th>weight</th>\n",
              "      <th>(99.854, 136.5]</th>\n",
              "      <th>(136.5, 173.0]</th>\n",
              "      <th>(173.0, 209.5]</th>\n",
              "      <th>(209.5, 246.0]</th>\n",
              "    </tr>\n",
              "  </thead>\n",
              "  <tbody>\n",
              "    <tr>\n",
              "      <th>count</th>\n",
              "      <td>4.000000</td>\n",
              "      <td>4.000000</td>\n",
              "      <td>4.000000</td>\n",
              "      <td>4.000000</td>\n",
              "    </tr>\n",
              "    <tr>\n",
              "      <th>mean</th>\n",
              "      <td>0.250000</td>\n",
              "      <td>0.250000</td>\n",
              "      <td>0.250000</td>\n",
              "      <td>0.250000</td>\n",
              "    </tr>\n",
              "    <tr>\n",
              "      <th>std</th>\n",
              "      <td>0.066067</td>\n",
              "      <td>0.033630</td>\n",
              "      <td>0.212813</td>\n",
              "      <td>0.379697</td>\n",
              "    </tr>\n",
              "    <tr>\n",
              "      <th>min</th>\n",
              "      <td>0.180617</td>\n",
              "      <td>0.221662</td>\n",
              "      <td>0.000000</td>\n",
              "      <td>0.000000</td>\n",
              "    </tr>\n",
              "    <tr>\n",
              "      <th>25%</th>\n",
              "      <td>0.210352</td>\n",
              "      <td>0.223552</td>\n",
              "      <td>0.109684</td>\n",
              "      <td>0.000000</td>\n",
              "    </tr>\n",
              "    <tr>\n",
              "      <th>50%</th>\n",
              "      <td>0.242291</td>\n",
              "      <td>0.243073</td>\n",
              "      <td>0.284585</td>\n",
              "      <td>0.098958</td>\n",
              "    </tr>\n",
              "    <tr>\n",
              "      <th>75%</th>\n",
              "      <td>0.281938</td>\n",
              "      <td>0.269521</td>\n",
              "      <td>0.424901</td>\n",
              "      <td>0.348958</td>\n",
              "    </tr>\n",
              "    <tr>\n",
              "      <th>max</th>\n",
              "      <td>0.334802</td>\n",
              "      <td>0.292191</td>\n",
              "      <td>0.430830</td>\n",
              "      <td>0.802083</td>\n",
              "    </tr>\n",
              "  </tbody>\n",
              "</table>\n",
              "</div>"
            ],
            "text/plain": [
              "weight  (99.854, 136.5]       ...        (209.5, 246.0]\n",
              "count          4.000000       ...              4.000000\n",
              "mean           0.250000       ...              0.250000\n",
              "std            0.066067       ...              0.379697\n",
              "min            0.180617       ...              0.000000\n",
              "25%            0.210352       ...              0.000000\n",
              "50%            0.242291       ...              0.098958\n",
              "75%            0.281938       ...              0.348958\n",
              "max            0.334802       ...              0.802083\n",
              "\n",
              "[8 rows x 4 columns]"
            ]
          },
          "metadata": {
            "tags": []
          }
        }
      ]
    },
    {
      "cell_type": "code",
      "metadata": {
        "id": "Fdcm8Z4K5qR4",
        "colab_type": "code",
        "colab": {
          "base_uri": "https://localhost:8080/",
          "height": 602
        },
        "outputId": "6f5cff71-70e2-4332-bcd5-83e1961a9fd7"
      },
      "source": [
        "crosstab.plot(kind = \"bar\");\n",
        "\n",
        "#the line chart does an excellent job of revealing the relationship between exercise time and weight. As weight increases, exercise time decreases. \n",
        "#the counding variable could tell a different story\n",
        "crosstab.plot();"
      ],
      "execution_count": 23,
      "outputs": [
        {
          "output_type": "display_data",
          "data": {
            "image/png": "[encoded data removed]",
            "text/plain": [
              "<Figure size 432x288 with 1 Axes>"
            ]
          },
          "metadata": {
            "tags": []
          }
        },
        {
          "output_type": "display_data",
          "data": {
            "image/png": "[encoded data removed]",
            "text/plain": [
              "<Figure size 432x288 with 1 Axes>"
            ]
          },
          "metadata": {
            "tags": []
          }
        }
      ]
    },
    {
      "cell_type": "code",
      "metadata": {
        "id": "tGzJsLX28B0Y",
        "colab_type": "code",
        "colab": {
          "base_uri": "https://localhost:8080/",
          "height": 807
        },
        "outputId": "9642f380-6b64-4a58-c06f-520ccc98a740"
      },
      "source": [
        "crosstab2 = pd.crosstab(age_bins,weight_bins, normalize='columns')\n",
        "df_stats(crosstab2)"
      ],
      "execution_count": 24,
      "outputs": [
        {
          "output_type": "display_data",
          "data": {
            "text/plain": [
              "(4, 4)"
            ]
          },
          "metadata": {
            "tags": []
          }
        },
        {
          "output_type": "display_data",
          "data": {
            "text/html": [
              "<div>\n",
              "<style scoped>\n",
              "    .dataframe tbody tr th:only-of-type {\n",
              "        vertical-align: middle;\n",
              "    }\n",
              "\n",
              "    .dataframe tbody tr th {\n",
              "        vertical-align: top;\n",
              "    }\n",
              "\n",
              "    .dataframe thead th {\n",
              "        text-align: right;\n",
              "    }\n",
              "</style>\n",
              "<table border=\"1\" class=\"dataframe\">\n",
              "  <thead>\n",
              "    <tr style=\"text-align: right;\">\n",
              "      <th>weight</th>\n",
              "      <th>(99.854, 136.5]</th>\n",
              "      <th>(136.5, 173.0]</th>\n",
              "      <th>(173.0, 209.5]</th>\n",
              "      <th>(209.5, 246.0]</th>\n",
              "    </tr>\n",
              "    <tr>\n",
              "      <th>age</th>\n",
              "      <th></th>\n",
              "      <th></th>\n",
              "      <th></th>\n",
              "      <th></th>\n",
              "    </tr>\n",
              "  </thead>\n",
              "  <tbody>\n",
              "    <tr>\n",
              "      <th>(17.938, 33.5]</th>\n",
              "      <td>0.275330</td>\n",
              "      <td>0.309824</td>\n",
              "      <td>0.205534</td>\n",
              "      <td>0.218750</td>\n",
              "    </tr>\n",
              "    <tr>\n",
              "      <th>(33.5, 49.0]</th>\n",
              "      <td>0.297357</td>\n",
              "      <td>0.234257</td>\n",
              "      <td>0.237154</td>\n",
              "      <td>0.177083</td>\n",
              "    </tr>\n",
              "    <tr>\n",
              "      <th>(49.0, 64.5]</th>\n",
              "      <td>0.237885</td>\n",
              "      <td>0.214106</td>\n",
              "      <td>0.249012</td>\n",
              "      <td>0.208333</td>\n",
              "    </tr>\n",
              "    <tr>\n",
              "      <th>(64.5, 80.0]</th>\n",
              "      <td>0.189427</td>\n",
              "      <td>0.241814</td>\n",
              "      <td>0.308300</td>\n",
              "      <td>0.395833</td>\n",
              "    </tr>\n",
              "  </tbody>\n",
              "</table>\n",
              "</div>"
            ],
            "text/plain": [
              "weight          (99.854, 136.5]       ...        (209.5, 246.0]\n",
              "age                                   ...                      \n",
              "(17.938, 33.5]         0.275330       ...              0.218750\n",
              "(33.5, 49.0]           0.297357       ...              0.177083\n",
              "(49.0, 64.5]           0.237885       ...              0.208333\n",
              "(64.5, 80.0]           0.189427       ...              0.395833\n",
              "\n",
              "[4 rows x 4 columns]"
            ]
          },
          "metadata": {
            "tags": []
          }
        },
        {
          "output_type": "display_data",
          "data": {
            "text/plain": [
              "weight\n",
              "(99.854, 136.5]    0\n",
              "(136.5, 173.0]     0\n",
              "(173.0, 209.5]     0\n",
              "(209.5, 246.0]     0\n",
              "dtype: int64"
            ]
          },
          "metadata": {
            "tags": []
          }
        },
        {
          "output_type": "display_data",
          "data": {
            "text/plain": [
              "weight\n",
              "(99.854, 136.5]    float64\n",
              "(136.5, 173.0]     float64\n",
              "(173.0, 209.5]     float64\n",
              "(209.5, 246.0]     float64\n",
              "dtype: object"
            ]
          },
          "metadata": {
            "tags": []
          }
        },
        {
          "output_type": "display_data",
          "data": {
            "text/plain": [
              "weight\n",
              "(99.854, 136.5]    4\n",
              "(136.5, 173.0]     4\n",
              "(173.0, 209.5]     4\n",
              "(209.5, 246.0]     4\n",
              "dtype: int64"
            ]
          },
          "metadata": {
            "tags": []
          }
        },
        {
          "output_type": "display_data",
          "data": {
            "text/html": [
              "<div>\n",
              "<style scoped>\n",
              "    .dataframe tbody tr th:only-of-type {\n",
              "        vertical-align: middle;\n",
              "    }\n",
              "\n",
              "    .dataframe tbody tr th {\n",
              "        vertical-align: top;\n",
              "    }\n",
              "\n",
              "    .dataframe thead th {\n",
              "        text-align: right;\n",
              "    }\n",
              "</style>\n",
              "<table border=\"1\" class=\"dataframe\">\n",
              "  <thead>\n",
              "    <tr style=\"text-align: right;\">\n",
              "      <th>weight</th>\n",
              "      <th>(99.854, 136.5]</th>\n",
              "      <th>(136.5, 173.0]</th>\n",
              "      <th>(173.0, 209.5]</th>\n",
              "      <th>(209.5, 246.0]</th>\n",
              "    </tr>\n",
              "  </thead>\n",
              "  <tbody>\n",
              "    <tr>\n",
              "      <th>count</th>\n",
              "      <td>4.000000</td>\n",
              "      <td>4.000000</td>\n",
              "      <td>4.000000</td>\n",
              "      <td>4.000000</td>\n",
              "    </tr>\n",
              "    <tr>\n",
              "      <th>mean</th>\n",
              "      <td>0.250000</td>\n",
              "      <td>0.250000</td>\n",
              "      <td>0.250000</td>\n",
              "      <td>0.250000</td>\n",
              "    </tr>\n",
              "    <tr>\n",
              "      <th>std</th>\n",
              "      <td>0.047259</td>\n",
              "      <td>0.041562</td>\n",
              "      <td>0.042981</td>\n",
              "      <td>0.098821</td>\n",
              "    </tr>\n",
              "    <tr>\n",
              "      <th>min</th>\n",
              "      <td>0.189427</td>\n",
              "      <td>0.214106</td>\n",
              "      <td>0.205534</td>\n",
              "      <td>0.177083</td>\n",
              "    </tr>\n",
              "    <tr>\n",
              "      <th>25%</th>\n",
              "      <td>0.225771</td>\n",
              "      <td>0.229219</td>\n",
              "      <td>0.229249</td>\n",
              "      <td>0.200521</td>\n",
              "    </tr>\n",
              "    <tr>\n",
              "      <th>50%</th>\n",
              "      <td>0.256608</td>\n",
              "      <td>0.238035</td>\n",
              "      <td>0.243083</td>\n",
              "      <td>0.213542</td>\n",
              "    </tr>\n",
              "    <tr>\n",
              "      <th>75%</th>\n",
              "      <td>0.280837</td>\n",
              "      <td>0.258816</td>\n",
              "      <td>0.263834</td>\n",
              "      <td>0.263021</td>\n",
              "    </tr>\n",
              "    <tr>\n",
              "      <th>max</th>\n",
              "      <td>0.297357</td>\n",
              "      <td>0.309824</td>\n",
              "      <td>0.308300</td>\n",
              "      <td>0.395833</td>\n",
              "    </tr>\n",
              "  </tbody>\n",
              "</table>\n",
              "</div>"
            ],
            "text/plain": [
              "weight  (99.854, 136.5]       ...        (209.5, 246.0]\n",
              "count          4.000000       ...              4.000000\n",
              "mean           0.250000       ...              0.250000\n",
              "std            0.047259       ...              0.098821\n",
              "min            0.189427       ...              0.177083\n",
              "25%            0.225771       ...              0.200521\n",
              "50%            0.256608       ...              0.213542\n",
              "75%            0.280837       ...              0.263021\n",
              "max            0.297357       ...              0.395833\n",
              "\n",
              "[8 rows x 4 columns]"
            ]
          },
          "metadata": {
            "tags": []
          }
        }
      ]
    },
    {
      "cell_type": "code",
      "metadata": {
        "id": "-cEwqrnM8avC",
        "colab_type": "code",
        "colab": {
          "base_uri": "https://localhost:8080/",
          "height": 273
        },
        "outputId": "4e891681-408f-49a8-eaa0-1dadc9e514be"
      },
      "source": [
        "crosstab2.plot();"
      ],
      "execution_count": 25,
      "outputs": [
        {
          "output_type": "display_data",
          "data": {
            "image/png": "[encoded data removed]",
            "text/plain": [
              "<Figure size 432x288 with 1 Axes>"
            ]
          },
          "metadata": {
            "tags": []
          }
        }
      ]
    },
    {
      "cell_type": "code",
      "metadata": {
        "id": "HplcQ5o38sAN",
        "colab_type": "code",
        "colab": {
          "base_uri": "https://localhost:8080/",
          "height": 1000
        },
        "outputId": "52a2491a-25e9-483f-bb3d-957d910260bd"
      },
      "source": [
        "crosstab3 = pd.crosstab(exercise_bins,age_bins, normalize='columns')\n",
        "df_stats(crosstab3)\n",
        "crosstab3.plot();"
      ],
      "execution_count": 27,
      "outputs": [
        {
          "output_type": "display_data",
          "data": {
            "text/plain": [
              "(4, 4)"
            ]
          },
          "metadata": {
            "tags": []
          }
        },
        {
          "output_type": "display_data",
          "data": {
            "text/html": [
              "<div>\n",
              "<style scoped>\n",
              "    .dataframe tbody tr th:only-of-type {\n",
              "        vertical-align: middle;\n",
              "    }\n",
              "\n",
              "    .dataframe tbody tr th {\n",
              "        vertical-align: top;\n",
              "    }\n",
              "\n",
              "    .dataframe thead th {\n",
              "        text-align: right;\n",
              "    }\n",
              "</style>\n",
              "<table border=\"1\" class=\"dataframe\">\n",
              "  <thead>\n",
              "    <tr style=\"text-align: right;\">\n",
              "      <th>age</th>\n",
              "      <th>(17.938, 33.5]</th>\n",
              "      <th>(33.5, 49.0]</th>\n",
              "      <th>(49.0, 64.5]</th>\n",
              "      <th>(64.5, 80.0]</th>\n",
              "    </tr>\n",
              "    <tr>\n",
              "      <th>exercise_time</th>\n",
              "      <th></th>\n",
              "      <th></th>\n",
              "      <th></th>\n",
              "      <th></th>\n",
              "    </tr>\n",
              "  </thead>\n",
              "  <tbody>\n",
              "    <tr>\n",
              "      <th>(-0.3, 75.0]</th>\n",
              "      <td>0.242991</td>\n",
              "      <td>0.229508</td>\n",
              "      <td>0.250000</td>\n",
              "      <td>0.463087</td>\n",
              "    </tr>\n",
              "    <tr>\n",
              "      <th>(75.0, 150.0]</th>\n",
              "      <td>0.227414</td>\n",
              "      <td>0.252459</td>\n",
              "      <td>0.264493</td>\n",
              "      <td>0.406040</td>\n",
              "    </tr>\n",
              "    <tr>\n",
              "      <th>(150.0, 225.0]</th>\n",
              "      <td>0.277259</td>\n",
              "      <td>0.232787</td>\n",
              "      <td>0.231884</td>\n",
              "      <td>0.124161</td>\n",
              "    </tr>\n",
              "    <tr>\n",
              "      <th>(225.0, 300.0]</th>\n",
              "      <td>0.252336</td>\n",
              "      <td>0.285246</td>\n",
              "      <td>0.253623</td>\n",
              "      <td>0.006711</td>\n",
              "    </tr>\n",
              "  </tbody>\n",
              "</table>\n",
              "</div>"
            ],
            "text/plain": [
              "age             (17.938, 33.5]      ...       (64.5, 80.0]\n",
              "exercise_time                       ...                   \n",
              "(-0.3, 75.0]          0.242991      ...           0.463087\n",
              "(75.0, 150.0]         0.227414      ...           0.406040\n",
              "(150.0, 225.0]        0.277259      ...           0.124161\n",
              "(225.0, 300.0]        0.252336      ...           0.006711\n",
              "\n",
              "[4 rows x 4 columns]"
            ]
          },
          "metadata": {
            "tags": []
          }
        },
        {
          "output_type": "display_data",
          "data": {
            "text/plain": [
              "age\n",
              "(17.938, 33.5]    0\n",
              "(33.5, 49.0]      0\n",
              "(49.0, 64.5]      0\n",
              "(64.5, 80.0]      0\n",
              "dtype: int64"
            ]
          },
          "metadata": {
            "tags": []
          }
        },
        {
          "output_type": "display_data",
          "data": {
            "text/plain": [
              "age\n",
              "(17.938, 33.5]    float64\n",
              "(33.5, 49.0]      float64\n",
              "(49.0, 64.5]      float64\n",
              "(64.5, 80.0]      float64\n",
              "dtype: object"
            ]
          },
          "metadata": {
            "tags": []
          }
        },
        {
          "output_type": "display_data",
          "data": {
            "text/plain": [
              "age\n",
              "(17.938, 33.5]    4\n",
              "(33.5, 49.0]      4\n",
              "(49.0, 64.5]      4\n",
              "(64.5, 80.0]      4\n",
              "dtype: int64"
            ]
          },
          "metadata": {
            "tags": []
          }
        },
        {
          "output_type": "display_data",
          "data": {
            "text/html": [
              "<div>\n",
              "<style scoped>\n",
              "    .dataframe tbody tr th:only-of-type {\n",
              "        vertical-align: middle;\n",
              "    }\n",
              "\n",
              "    .dataframe tbody tr th {\n",
              "        vertical-align: top;\n",
              "    }\n",
              "\n",
              "    .dataframe thead th {\n",
              "        text-align: right;\n",
              "    }\n",
              "</style>\n",
              "<table border=\"1\" class=\"dataframe\">\n",
              "  <thead>\n",
              "    <tr style=\"text-align: right;\">\n",
              "      <th>age</th>\n",
              "      <th>(17.938, 33.5]</th>\n",
              "      <th>(33.5, 49.0]</th>\n",
              "      <th>(49.0, 64.5]</th>\n",
              "      <th>(64.5, 80.0]</th>\n",
              "    </tr>\n",
              "  </thead>\n",
              "  <tbody>\n",
              "    <tr>\n",
              "      <th>count</th>\n",
              "      <td>4.000000</td>\n",
              "      <td>4.000000</td>\n",
              "      <td>4.000000</td>\n",
              "      <td>4.000000</td>\n",
              "    </tr>\n",
              "    <tr>\n",
              "      <th>mean</th>\n",
              "      <td>0.250000</td>\n",
              "      <td>0.250000</td>\n",
              "      <td>0.250000</td>\n",
              "      <td>0.250000</td>\n",
              "    </tr>\n",
              "    <tr>\n",
              "      <th>std</th>\n",
              "      <td>0.020878</td>\n",
              "      <td>0.025590</td>\n",
              "      <td>0.013557</td>\n",
              "      <td>0.219681</td>\n",
              "    </tr>\n",
              "    <tr>\n",
              "      <th>min</th>\n",
              "      <td>0.227414</td>\n",
              "      <td>0.229508</td>\n",
              "      <td>0.231884</td>\n",
              "      <td>0.006711</td>\n",
              "    </tr>\n",
              "    <tr>\n",
              "      <th>25%</th>\n",
              "      <td>0.239097</td>\n",
              "      <td>0.231967</td>\n",
              "      <td>0.245471</td>\n",
              "      <td>0.094799</td>\n",
              "    </tr>\n",
              "    <tr>\n",
              "      <th>50%</th>\n",
              "      <td>0.247664</td>\n",
              "      <td>0.242623</td>\n",
              "      <td>0.251812</td>\n",
              "      <td>0.265101</td>\n",
              "    </tr>\n",
              "    <tr>\n",
              "      <th>75%</th>\n",
              "      <td>0.258567</td>\n",
              "      <td>0.260656</td>\n",
              "      <td>0.256341</td>\n",
              "      <td>0.420302</td>\n",
              "    </tr>\n",
              "    <tr>\n",
              "      <th>max</th>\n",
              "      <td>0.277259</td>\n",
              "      <td>0.285246</td>\n",
              "      <td>0.264493</td>\n",
              "      <td>0.463087</td>\n",
              "    </tr>\n",
              "  </tbody>\n",
              "</table>\n",
              "</div>"
            ],
            "text/plain": [
              "age    (17.938, 33.5]  (33.5, 49.0]  (49.0, 64.5]  (64.5, 80.0]\n",
              "count        4.000000      4.000000      4.000000      4.000000\n",
              "mean         0.250000      0.250000      0.250000      0.250000\n",
              "std          0.020878      0.025590      0.013557      0.219681\n",
              "min          0.227414      0.229508      0.231884      0.006711\n",
              "25%          0.239097      0.231967      0.245471      0.094799\n",
              "50%          0.247664      0.242623      0.251812      0.265101\n",
              "75%          0.258567      0.260656      0.256341      0.420302\n",
              "max          0.277259      0.285246      0.264493      0.463087"
            ]
          },
          "metadata": {
            "tags": []
          }
        },
        {
          "output_type": "display_data",
          "data": {
            "image/png": "[encoded data removed]",
            "text/plain": [
              "<Figure size 432x288 with 1 Axes>"
            ]
          },
          "metadata": {
            "tags": []
          }
        }
      ]
    },
    {
      "cell_type": "code",
      "metadata": {
        "id": "vk7wK9RiNdv0",
        "colab_type": "code",
        "colab": {
          "base_uri": "https://localhost:8080/",
          "height": 286
        },
        "outputId": "6c1f2490-24f5-4285-e4e4-5dad48f1b37e"
      },
      "source": [
        "#weight appears to be the outcome given it's uneven distribution. \n",
        "\n",
        "display(df[\"weight\"].plot.hist());\n",
        "\n",
        "\n"
      ],
      "execution_count": 40,
      "outputs": [
        {
          "output_type": "display_data",
          "data": {
            "text/plain": [
              "<matplotlib.axes._subplots.AxesSubplot at 0x7fa55487cc18>"
            ]
          },
          "metadata": {
            "tags": []
          }
        },
        {
          "output_type": "display_data",
          "data": {
            "image/png": "[encoded data removed]",
            "text/plain": [
              "<Figure size 432x288 with 1 Axes>"
            ]
          },
          "metadata": {
            "tags": []
          }
        }
      ]
    },
    {
      "cell_type": "markdown",
      "metadata": {
        "id": "BT9gdS7viJZa",
        "colab_type": "text"
      },
      "source": [
        "### Assignment questions\n",
        "\n",
        "After you've worked on some code, answer the following questions in this text block:\n",
        "\n",
        "1.  What are the variable types in the data?\n",
        "\n",
        "**A. Variables are all continuous, which is why bins were necessary per variable for proper visualization.**\n",
        "\n",
        "2.  What are the relationships between the variables?\n",
        "\n",
        "**A. Weight and age are inversely related to exercise time. As they increase, exercise time diminishes**\n",
        "\n",
        "3.  Which relationships are \"real\", and which spurious?\n",
        "\n",
        "**A. Relationship between age and exercise appear to be real because is a similar distribution of the data. Their relationship to weight is spurious because it is likely there is a mean weight for the sample data regardless of the inputs.** \n"
      ]
    },
    {
      "cell_type": "markdown",
      "metadata": {
        "id": "_XXg2crAipwP",
        "colab_type": "text"
      },
      "source": [
        "## Stretch goals and resources\n",
        "\n",
        "Following are *optional* things for you to take a look at. Focus on the above assignment first, and make sure to commit and push your changes to GitHub.\n",
        "\n",
        "- [Spurious Correlations](http://tylervigen.com/spurious-correlations)\n",
        "- [NIH on controlling for confounding variables](https://www.ncbi.nlm.nih.gov/pmc/articles/PMC4017459/)\n",
        "\n",
        "Stretch goals:\n",
        "\n",
        "- Produce your own plot inspired by the Spurious Correlation visualizations (and consider writing a blog post about it - both the content and how you made it)\n",
        "- Pick one of the techniques that NIH highlights for confounding variables - we'll be going into many of them later, but see if you can find which Python modules may help (hint - check scikit-learn)"
      ]
    }
  ]
}