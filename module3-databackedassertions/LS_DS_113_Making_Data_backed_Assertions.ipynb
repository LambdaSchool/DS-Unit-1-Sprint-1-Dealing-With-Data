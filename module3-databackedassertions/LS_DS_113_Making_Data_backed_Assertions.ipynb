{
  "nbformat": 4,
  "nbformat_minor": 0,
  "metadata": {
    "colab": {
      "name": "LS_DS_114_Making_Data_backed_Assertions.ipynb",
      "version": "0.3.2",
      "provenance": [],
      "collapsed_sections": []
    },
    "kernelspec": {
      "name": "python3",
      "display_name": "Python 3"
    }
  },
  "cells": [
    {
      "metadata": {
        "id": "Okfr_uhwhS1X",
        "colab_type": "text"
      },
      "cell_type": "markdown",
      "source": [
        "# Lambda School Data Science - Making Data-backed Assertions\n",
        "\n",
        "This is, for many, the main point of data science - to create and support reasoned arguments based on evidence. It's not a topic to master in a day, but it is worth some focused time thinking about and structuring your approach to it."
      ]
    },
    {
      "metadata": {
        "id": "9dtJETFRhnOG",
        "colab_type": "text"
      },
      "cell_type": "markdown",
      "source": [
        "## Lecture - generating a confounding variable\n",
        "\n",
        "The prewatch material told a story about a hypothetical health condition where both the drug usage and overall health outcome were related to gender - thus making gender a confounding variable, obfuscating the possible relationship between the drug and the outcome.\n",
        "\n",
        "Let's use Python to generate data that actually behaves in this fashion!"
      ]
    },
    {
      "metadata": {
        "id": "WiBkgmPJhmhE",
        "colab_type": "code",
        "outputId": "ea97fcb6-84f0-4f8f-a99a-20eef5b39e6c",
        "colab": {
          "base_uri": "https://localhost:8080/",
          "height": 1137
        }
      },
      "cell_type": "code",
      "source": [
        "import random\n",
        "dir(random)  # Reminding ourselves what we can do here"
      ],
      "execution_count": 0,
      "outputs": [
        {
          "output_type": "execute_result",
          "data": {
            "text/plain": [
              "['BPF',\n",
              " 'LOG4',\n",
              " 'NV_MAGICCONST',\n",
              " 'RECIP_BPF',\n",
              " 'Random',\n",
              " 'SG_MAGICCONST',\n",
              " 'SystemRandom',\n",
              " 'TWOPI',\n",
              " '_BuiltinMethodType',\n",
              " '_MethodType',\n",
              " '_Sequence',\n",
              " '_Set',\n",
              " '__all__',\n",
              " '__builtins__',\n",
              " '__cached__',\n",
              " '__doc__',\n",
              " '__file__',\n",
              " '__loader__',\n",
              " '__name__',\n",
              " '__package__',\n",
              " '__spec__',\n",
              " '_acos',\n",
              " '_bisect',\n",
              " '_ceil',\n",
              " '_cos',\n",
              " '_e',\n",
              " '_exp',\n",
              " '_inst',\n",
              " '_itertools',\n",
              " '_log',\n",
              " '_pi',\n",
              " '_random',\n",
              " '_sha512',\n",
              " '_sin',\n",
              " '_sqrt',\n",
              " '_test',\n",
              " '_test_generator',\n",
              " '_urandom',\n",
              " '_warn',\n",
              " 'betavariate',\n",
              " 'choice',\n",
              " 'choices',\n",
              " 'expovariate',\n",
              " 'gammavariate',\n",
              " 'gauss',\n",
              " 'getrandbits',\n",
              " 'getstate',\n",
              " 'lognormvariate',\n",
              " 'normalvariate',\n",
              " 'paretovariate',\n",
              " 'randint',\n",
              " 'random',\n",
              " 'randrange',\n",
              " 'sample',\n",
              " 'seed',\n",
              " 'setstate',\n",
              " 'shuffle',\n",
              " 'triangular',\n",
              " 'uniform',\n",
              " 'vonmisesvariate',\n",
              " 'weibullvariate']"
            ]
          },
          "metadata": {
            "tags": []
          },
          "execution_count": 1
        }
      ]
    },
    {
      "metadata": {
        "id": "V0wpRGEicUe7",
        "colab_type": "code",
        "colab": {}
      },
      "cell_type": "code",
      "source": [
        "import random\n",
        "import numpy as np\n",
        "import pandas as pd\n",
        "\n",
        "df = pd.DataFrame({'a': np.arange(100000)})"
      ],
      "execution_count": 0,
      "outputs": []
    },
    {
      "metadata": {
        "id": "q61-AbY6xDna",
        "colab_type": "code",
        "outputId": "58a11160-cba8-4905-822d-b4dad051b1bb",
        "colab": {
          "base_uri": "https://localhost:8080/",
          "height": 35
        }
      },
      "cell_type": "code",
      "source": [
        "%%timeit\n",
        "df['b'] = df['a'].apply(lambda x: np.sin(x**2))"
      ],
      "execution_count": 0,
      "outputs": [
        {
          "output_type": "stream",
          "text": [
            "1 loop, best of 3: 186 ms per loop\n"
          ],
          "name": "stdout"
        }
      ]
    },
    {
      "metadata": {
        "id": "pSCIpc7Jxf1t",
        "colab_type": "code",
        "outputId": "589a959f-4128-4b6b-d3bb-977b0ca0a9cb",
        "colab": {
          "base_uri": "https://localhost:8080/",
          "height": 54
        }
      },
      "cell_type": "code",
      "source": [
        "%%timeit\n",
        "df['b'] = np.sin(df['a']**2)"
      ],
      "execution_count": 0,
      "outputs": [
        {
          "output_type": "stream",
          "text": [
            "The slowest run took 6.07 times longer than the fastest. This could mean that an intermediate result is being cached.\n",
            "100 loops, best of 3: 5.86 ms per loop\n"
          ],
          "name": "stdout"
        }
      ]
    },
    {
      "metadata": {
        "id": "Ks5qFtpnq-q5",
        "colab_type": "code",
        "outputId": "08f2c956-07fa-4613-e0bf-5680e378773d",
        "colab": {
          "base_uri": "https://localhost:8080/",
          "height": 35
        }
      },
      "cell_type": "code",
      "source": [
        "# Let's think of another scenario:\n",
        "# We work for a company that sells accessories for mobile phones.\n",
        "# They have an ecommerce site, and we are supposed to analyze logs\n",
        "# to determine what sort of usage is related to purchases, and thus guide\n",
        "# website development to encourage higher conversion.\n",
        "\n",
        "# The hypothesis - users who spend longer on the site tend\n",
        "# to spend more. Seems reasonable, no?\n",
        "\n",
        "# But there's a confounding variable! If they're on a phone, they:\n",
        "# a) Spend less time on the site, but\n",
        "# b) Are more likely to be interested in the actual products!\n",
        "\n",
        "# Let's use namedtuple to represent our data\n",
        "\n",
        "from collections import namedtuple\n",
        "# purchased and mobile are bools, time_on_site in seconds\n",
        "User = namedtuple('User', ['purchased','time_on_site', 'mobile'])\n",
        "\n",
        "example_user = User(False, 12, False)\n",
        "print(example_user)"
      ],
      "execution_count": 0,
      "outputs": [
        {
          "output_type": "stream",
          "text": [
            "User(purchased=False, time_on_site=12, mobile=False)\n"
          ],
          "name": "stdout"
        }
      ]
    },
    {
      "metadata": {
        "id": "lfPiHNG_sefL",
        "colab_type": "code",
        "outputId": "981eb59c-956c-4cb1-9422-f268ba0ec0a0",
        "colab": {
          "base_uri": "https://localhost:8080/",
          "height": 55
        }
      },
      "cell_type": "code",
      "source": [
        "# And now let's generate 1000 example users\n",
        "# 750 mobile, 250 not (i.e. desktop)\n",
        "# A desktop user has a base conversion likelihood of 10%\n",
        "# And it goes up by 1% for each 15 seconds they spend on the site\n",
        "# And they spend anywhere from 10 seconds to 10 minutes on the site (uniform)\n",
        "# Mobile users spend on average half as much time on the site as desktop\n",
        "# But have three times as much base likelihood of buying something\n",
        "\n",
        "users = []\n",
        "\n",
        "for _ in range(250):\n",
        "  # Desktop users\n",
        "  time_on_site = np.random.normal(420, 100)\n",
        "  purchased = random.random() < 0.1 + (time_on_site / 1500)\n",
        "  users.append(User(purchased, time_on_site, False))\n",
        "  \n",
        "for _ in range(750):\n",
        "  # Mobile users\n",
        "  time_on_site = np.random.normal(200, 90)\n",
        "  purchased = random.random() < 0.3 + (time_on_site / 1500)\n",
        "  users.append(User(purchased, time_on_site, True))\n",
        "  \n",
        "random.shuffle(users)\n",
        "print(users[:10])"
      ],
      "execution_count": 0,
      "outputs": [
        {
          "output_type": "stream",
          "text": [
            "[User(purchased=False, time_on_site=203.812460680267, mobile=True), User(purchased=True, time_on_site=304.5983585922901, mobile=True), User(purchased=True, time_on_site=403.3633215367553, mobile=False), User(purchased=True, time_on_site=551.4505553326815, mobile=False), User(purchased=False, time_on_site=372.259352908308, mobile=False), User(purchased=True, time_on_site=464.9066951574843, mobile=False), User(purchased=False, time_on_site=326.22054053211974, mobile=False), User(purchased=True, time_on_site=653.550671376443, mobile=False), User(purchased=True, time_on_site=156.1655675086613, mobile=True), User(purchased=True, time_on_site=340.0431045334034, mobile=True)]\n"
          ],
          "name": "stdout"
        }
      ]
    },
    {
      "metadata": {
        "id": "9gDYb5qGuRzy",
        "colab_type": "code",
        "outputId": "8a9477dc-85dd-469a-ccd9-8f5f3f2be639",
        "colab": {
          "base_uri": "https://localhost:8080/",
          "height": 206
        }
      },
      "cell_type": "code",
      "source": [
        "# Let's put this in a dataframe so we can look at it more easily\n",
        "import pandas as pd\n",
        "user_data = pd.DataFrame(users)\n",
        "user_data.head()"
      ],
      "execution_count": 0,
      "outputs": [
        {
          "output_type": "execute_result",
          "data": {
            "text/html": [
              "<div>\n",
              "<style scoped>\n",
              "    .dataframe tbody tr th:only-of-type {\n",
              "        vertical-align: middle;\n",
              "    }\n",
              "\n",
              "    .dataframe tbody tr th {\n",
              "        vertical-align: top;\n",
              "    }\n",
              "\n",
              "    .dataframe thead th {\n",
              "        text-align: right;\n",
              "    }\n",
              "</style>\n",
              "<table border=\"1\" class=\"dataframe\">\n",
              "  <thead>\n",
              "    <tr style=\"text-align: right;\">\n",
              "      <th></th>\n",
              "      <th>purchased</th>\n",
              "      <th>time_on_site</th>\n",
              "      <th>mobile</th>\n",
              "    </tr>\n",
              "  </thead>\n",
              "  <tbody>\n",
              "    <tr>\n",
              "      <th>0</th>\n",
              "      <td>False</td>\n",
              "      <td>203.812461</td>\n",
              "      <td>True</td>\n",
              "    </tr>\n",
              "    <tr>\n",
              "      <th>1</th>\n",
              "      <td>True</td>\n",
              "      <td>304.598359</td>\n",
              "      <td>True</td>\n",
              "    </tr>\n",
              "    <tr>\n",
              "      <th>2</th>\n",
              "      <td>True</td>\n",
              "      <td>403.363322</td>\n",
              "      <td>False</td>\n",
              "    </tr>\n",
              "    <tr>\n",
              "      <th>3</th>\n",
              "      <td>True</td>\n",
              "      <td>551.450555</td>\n",
              "      <td>False</td>\n",
              "    </tr>\n",
              "    <tr>\n",
              "      <th>4</th>\n",
              "      <td>False</td>\n",
              "      <td>372.259353</td>\n",
              "      <td>False</td>\n",
              "    </tr>\n",
              "  </tbody>\n",
              "</table>\n",
              "</div>"
            ],
            "text/plain": [
              "   purchased  time_on_site  mobile\n",
              "0      False    203.812461    True\n",
              "1       True    304.598359    True\n",
              "2       True    403.363322   False\n",
              "3       True    551.450555   False\n",
              "4      False    372.259353   False"
            ]
          },
          "metadata": {
            "tags": []
          },
          "execution_count": 7
        }
      ]
    },
    {
      "metadata": {
        "id": "i9hq6LhddV4Z",
        "colab_type": "code",
        "outputId": "97f70782-caa2-4390-9f9b-c40e817c2206",
        "colab": {
          "base_uri": "https://localhost:8080/",
          "height": 287
        }
      },
      "cell_type": "code",
      "source": [
        "user_data['time_on_site'].hist(bins=20)"
      ],
      "execution_count": 0,
      "outputs": [
        {
          "output_type": "execute_result",
          "data": {
            "text/plain": [
              "<matplotlib.axes._subplots.AxesSubplot at 0x7fa060d7c898>"
            ]
          },
          "metadata": {
            "tags": []
          },
          "execution_count": 8
        },
        {
          "output_type": "display_data",
          "data": {
            "image/png": "[encoded data removed]",
            "text/plain": [
              "<Figure size 432x288 with 1 Axes>"
            ]
          },
          "metadata": {
            "tags": []
          }
        }
      ]
    },
    {
      "metadata": {
        "id": "sr6IJv77ulVl",
        "colab_type": "code",
        "outputId": "984a2334-4ebc-458d-9b82-acff9027b557",
        "colab": {
          "base_uri": "https://localhost:8080/",
          "height": 193
        }
      },
      "cell_type": "code",
      "source": [
        "# Let's use crosstabulation to try to see what's going on\n",
        "pd.crosstab(user_data['purchased'], user_data['time_on_site'])"
      ],
      "execution_count": 0,
      "outputs": [
        {
          "output_type": "execute_result",
          "data": {
            "text/html": [
              "<div>\n",
              "<style scoped>\n",
              "    .dataframe tbody tr th:only-of-type {\n",
              "        vertical-align: middle;\n",
              "    }\n",
              "\n",
              "    .dataframe tbody tr th {\n",
              "        vertical-align: top;\n",
              "    }\n",
              "\n",
              "    .dataframe thead th {\n",
              "        text-align: right;\n",
              "    }\n",
              "</style>\n",
              "<table border=\"1\" class=\"dataframe\">\n",
              "  <thead>\n",
              "    <tr style=\"text-align: right;\">\n",
              "      <th>time_on_site</th>\n",
              "      <th>-109.03542389754205</th>\n",
              "      <th>-37.46082284578284</th>\n",
              "      <th>-16.855593570841762</th>\n",
              "      <th>-13.719708054617826</th>\n",
              "      <th>-12.41936646812448</th>\n",
              "      <th>0.5665709345905157</th>\n",
              "      <th>2.823548234580926</th>\n",
              "      <th>3.03501299468266</th>\n",
              "      <th>4.645835092665067</th>\n",
              "      <th>5.435871543242513</th>\n",
              "      <th>...</th>\n",
              "      <th>574.6848609423313</th>\n",
              "      <th>575.8341554409866</th>\n",
              "      <th>580.4218354226338</th>\n",
              "      <th>585.1943320552093</th>\n",
              "      <th>586.1633624744601</th>\n",
              "      <th>596.694756864094</th>\n",
              "      <th>607.9934946877481</th>\n",
              "      <th>630.2967708271916</th>\n",
              "      <th>638.5381732673642</th>\n",
              "      <th>653.550671376443</th>\n",
              "    </tr>\n",
              "    <tr>\n",
              "      <th>purchased</th>\n",
              "      <th></th>\n",
              "      <th></th>\n",
              "      <th></th>\n",
              "      <th></th>\n",
              "      <th></th>\n",
              "      <th></th>\n",
              "      <th></th>\n",
              "      <th></th>\n",
              "      <th></th>\n",
              "      <th></th>\n",
              "      <th></th>\n",
              "      <th></th>\n",
              "      <th></th>\n",
              "      <th></th>\n",
              "      <th></th>\n",
              "      <th></th>\n",
              "      <th></th>\n",
              "      <th></th>\n",
              "      <th></th>\n",
              "      <th></th>\n",
              "      <th></th>\n",
              "    </tr>\n",
              "  </thead>\n",
              "  <tbody>\n",
              "    <tr>\n",
              "      <th>False</th>\n",
              "      <td>1</td>\n",
              "      <td>1</td>\n",
              "      <td>1</td>\n",
              "      <td>1</td>\n",
              "      <td>1</td>\n",
              "      <td>1</td>\n",
              "      <td>0</td>\n",
              "      <td>1</td>\n",
              "      <td>1</td>\n",
              "      <td>1</td>\n",
              "      <td>...</td>\n",
              "      <td>0</td>\n",
              "      <td>1</td>\n",
              "      <td>1</td>\n",
              "      <td>1</td>\n",
              "      <td>1</td>\n",
              "      <td>1</td>\n",
              "      <td>0</td>\n",
              "      <td>0</td>\n",
              "      <td>1</td>\n",
              "      <td>0</td>\n",
              "    </tr>\n",
              "    <tr>\n",
              "      <th>True</th>\n",
              "      <td>0</td>\n",
              "      <td>0</td>\n",
              "      <td>0</td>\n",
              "      <td>0</td>\n",
              "      <td>0</td>\n",
              "      <td>0</td>\n",
              "      <td>1</td>\n",
              "      <td>0</td>\n",
              "      <td>0</td>\n",
              "      <td>0</td>\n",
              "      <td>...</td>\n",
              "      <td>1</td>\n",
              "      <td>0</td>\n",
              "      <td>0</td>\n",
              "      <td>0</td>\n",
              "      <td>0</td>\n",
              "      <td>0</td>\n",
              "      <td>1</td>\n",
              "      <td>1</td>\n",
              "      <td>0</td>\n",
              "      <td>1</td>\n",
              "    </tr>\n",
              "  </tbody>\n",
              "</table>\n",
              "<p>2 rows × 1000 columns</p>\n",
              "</div>"
            ],
            "text/plain": [
              "time_on_site  -109.035424  -37.460823   -16.855594   -13.719708   -12.419366   \\\n",
              "purchased                                                                       \n",
              "False                   1            1            1            1            1   \n",
              "True                    0            0            0            0            0   \n",
              "\n",
              "time_on_site   0.566571     2.823548     3.035013     4.645835     5.435872    \\\n",
              "purchased                                                                       \n",
              "False                   1            0            1            1            1   \n",
              "True                    0            1            0            0            0   \n",
              "\n",
              "time_on_site  ...   574.684861   575.834155   580.421835   585.194332  \\\n",
              "purchased     ...                                                       \n",
              "False         ...            0            1            1            1   \n",
              "True          ...            1            0            0            0   \n",
              "\n",
              "time_on_site   586.163362   596.694757   607.993495   630.296771   638.538173  \\\n",
              "purchased                                                                       \n",
              "False                   1            1            0            0            1   \n",
              "True                    0            0            1            1            0   \n",
              "\n",
              "time_on_site   653.550671  \n",
              "purchased                  \n",
              "False                   0  \n",
              "True                    1  \n",
              "\n",
              "[2 rows x 1000 columns]"
            ]
          },
          "metadata": {
            "tags": []
          },
          "execution_count": 9
        }
      ]
    },
    {
      "metadata": {
        "id": "8MisiBoXLTvf",
        "colab_type": "code",
        "colab": {}
      },
      "cell_type": "code",
      "source": [
        "user_data.loc[user_data['time_on_site'] < 0, 'time_on_site'] = np.NaN"
      ],
      "execution_count": 0,
      "outputs": []
    },
    {
      "metadata": {
        "id": "Y1E4Z1l0LpGc",
        "colab_type": "code",
        "outputId": "5cda0a18-85f7-45b7-c046-0b723a20b057",
        "colab": {
          "base_uri": "https://localhost:8080/",
          "height": 1992
        }
      },
      "cell_type": "code",
      "source": [
        "user_data.isnull()"
      ],
      "execution_count": 0,
      "outputs": [
        {
          "output_type": "execute_result",
          "data": {
            "text/html": [
              "<div>\n",
              "<style scoped>\n",
              "    .dataframe tbody tr th:only-of-type {\n",
              "        vertical-align: middle;\n",
              "    }\n",
              "\n",
              "    .dataframe tbody tr th {\n",
              "        vertical-align: top;\n",
              "    }\n",
              "\n",
              "    .dataframe thead th {\n",
              "        text-align: right;\n",
              "    }\n",
              "</style>\n",
              "<table border=\"1\" class=\"dataframe\">\n",
              "  <thead>\n",
              "    <tr style=\"text-align: right;\">\n",
              "      <th></th>\n",
              "      <th>purchased</th>\n",
              "      <th>time_on_site</th>\n",
              "      <th>mobile</th>\n",
              "    </tr>\n",
              "  </thead>\n",
              "  <tbody>\n",
              "    <tr>\n",
              "      <th>0</th>\n",
              "      <td>False</td>\n",
              "      <td>False</td>\n",
              "      <td>False</td>\n",
              "    </tr>\n",
              "    <tr>\n",
              "      <th>1</th>\n",
              "      <td>False</td>\n",
              "      <td>False</td>\n",
              "      <td>False</td>\n",
              "    </tr>\n",
              "    <tr>\n",
              "      <th>2</th>\n",
              "      <td>False</td>\n",
              "      <td>False</td>\n",
              "      <td>False</td>\n",
              "    </tr>\n",
              "    <tr>\n",
              "      <th>3</th>\n",
              "      <td>False</td>\n",
              "      <td>False</td>\n",
              "      <td>False</td>\n",
              "    </tr>\n",
              "    <tr>\n",
              "      <th>4</th>\n",
              "      <td>False</td>\n",
              "      <td>False</td>\n",
              "      <td>False</td>\n",
              "    </tr>\n",
              "    <tr>\n",
              "      <th>5</th>\n",
              "      <td>False</td>\n",
              "      <td>False</td>\n",
              "      <td>False</td>\n",
              "    </tr>\n",
              "    <tr>\n",
              "      <th>6</th>\n",
              "      <td>False</td>\n",
              "      <td>False</td>\n",
              "      <td>False</td>\n",
              "    </tr>\n",
              "    <tr>\n",
              "      <th>7</th>\n",
              "      <td>False</td>\n",
              "      <td>False</td>\n",
              "      <td>False</td>\n",
              "    </tr>\n",
              "    <tr>\n",
              "      <th>8</th>\n",
              "      <td>False</td>\n",
              "      <td>False</td>\n",
              "      <td>False</td>\n",
              "    </tr>\n",
              "    <tr>\n",
              "      <th>9</th>\n",
              "      <td>False</td>\n",
              "      <td>False</td>\n",
              "      <td>False</td>\n",
              "    </tr>\n",
              "    <tr>\n",
              "      <th>10</th>\n",
              "      <td>False</td>\n",
              "      <td>False</td>\n",
              "      <td>False</td>\n",
              "    </tr>\n",
              "    <tr>\n",
              "      <th>11</th>\n",
              "      <td>False</td>\n",
              "      <td>False</td>\n",
              "      <td>False</td>\n",
              "    </tr>\n",
              "    <tr>\n",
              "      <th>12</th>\n",
              "      <td>False</td>\n",
              "      <td>False</td>\n",
              "      <td>False</td>\n",
              "    </tr>\n",
              "    <tr>\n",
              "      <th>13</th>\n",
              "      <td>False</td>\n",
              "      <td>False</td>\n",
              "      <td>False</td>\n",
              "    </tr>\n",
              "    <tr>\n",
              "      <th>14</th>\n",
              "      <td>False</td>\n",
              "      <td>False</td>\n",
              "      <td>False</td>\n",
              "    </tr>\n",
              "    <tr>\n",
              "      <th>15</th>\n",
              "      <td>False</td>\n",
              "      <td>False</td>\n",
              "      <td>False</td>\n",
              "    </tr>\n",
              "    <tr>\n",
              "      <th>16</th>\n",
              "      <td>False</td>\n",
              "      <td>False</td>\n",
              "      <td>False</td>\n",
              "    </tr>\n",
              "    <tr>\n",
              "      <th>17</th>\n",
              "      <td>False</td>\n",
              "      <td>False</td>\n",
              "      <td>False</td>\n",
              "    </tr>\n",
              "    <tr>\n",
              "      <th>18</th>\n",
              "      <td>False</td>\n",
              "      <td>False</td>\n",
              "      <td>False</td>\n",
              "    </tr>\n",
              "    <tr>\n",
              "      <th>19</th>\n",
              "      <td>False</td>\n",
              "      <td>False</td>\n",
              "      <td>False</td>\n",
              "    </tr>\n",
              "    <tr>\n",
              "      <th>20</th>\n",
              "      <td>False</td>\n",
              "      <td>False</td>\n",
              "      <td>False</td>\n",
              "    </tr>\n",
              "    <tr>\n",
              "      <th>21</th>\n",
              "      <td>False</td>\n",
              "      <td>False</td>\n",
              "      <td>False</td>\n",
              "    </tr>\n",
              "    <tr>\n",
              "      <th>22</th>\n",
              "      <td>False</td>\n",
              "      <td>False</td>\n",
              "      <td>False</td>\n",
              "    </tr>\n",
              "    <tr>\n",
              "      <th>23</th>\n",
              "      <td>False</td>\n",
              "      <td>False</td>\n",
              "      <td>False</td>\n",
              "    </tr>\n",
              "    <tr>\n",
              "      <th>24</th>\n",
              "      <td>False</td>\n",
              "      <td>False</td>\n",
              "      <td>False</td>\n",
              "    </tr>\n",
              "    <tr>\n",
              "      <th>25</th>\n",
              "      <td>False</td>\n",
              "      <td>False</td>\n",
              "      <td>False</td>\n",
              "    </tr>\n",
              "    <tr>\n",
              "      <th>26</th>\n",
              "      <td>False</td>\n",
              "      <td>False</td>\n",
              "      <td>False</td>\n",
              "    </tr>\n",
              "    <tr>\n",
              "      <th>27</th>\n",
              "      <td>False</td>\n",
              "      <td>False</td>\n",
              "      <td>False</td>\n",
              "    </tr>\n",
              "    <tr>\n",
              "      <th>28</th>\n",
              "      <td>False</td>\n",
              "      <td>False</td>\n",
              "      <td>False</td>\n",
              "    </tr>\n",
              "    <tr>\n",
              "      <th>29</th>\n",
              "      <td>False</td>\n",
              "      <td>False</td>\n",
              "      <td>False</td>\n",
              "    </tr>\n",
              "    <tr>\n",
              "      <th>...</th>\n",
              "      <td>...</td>\n",
              "      <td>...</td>\n",
              "      <td>...</td>\n",
              "    </tr>\n",
              "    <tr>\n",
              "      <th>970</th>\n",
              "      <td>False</td>\n",
              "      <td>False</td>\n",
              "      <td>False</td>\n",
              "    </tr>\n",
              "    <tr>\n",
              "      <th>971</th>\n",
              "      <td>False</td>\n",
              "      <td>False</td>\n",
              "      <td>False</td>\n",
              "    </tr>\n",
              "    <tr>\n",
              "      <th>972</th>\n",
              "      <td>False</td>\n",
              "      <td>False</td>\n",
              "      <td>False</td>\n",
              "    </tr>\n",
              "    <tr>\n",
              "      <th>973</th>\n",
              "      <td>False</td>\n",
              "      <td>False</td>\n",
              "      <td>False</td>\n",
              "    </tr>\n",
              "    <tr>\n",
              "      <th>974</th>\n",
              "      <td>False</td>\n",
              "      <td>False</td>\n",
              "      <td>False</td>\n",
              "    </tr>\n",
              "    <tr>\n",
              "      <th>975</th>\n",
              "      <td>False</td>\n",
              "      <td>False</td>\n",
              "      <td>False</td>\n",
              "    </tr>\n",
              "    <tr>\n",
              "      <th>976</th>\n",
              "      <td>False</td>\n",
              "      <td>False</td>\n",
              "      <td>False</td>\n",
              "    </tr>\n",
              "    <tr>\n",
              "      <th>977</th>\n",
              "      <td>False</td>\n",
              "      <td>False</td>\n",
              "      <td>False</td>\n",
              "    </tr>\n",
              "    <tr>\n",
              "      <th>978</th>\n",
              "      <td>False</td>\n",
              "      <td>False</td>\n",
              "      <td>False</td>\n",
              "    </tr>\n",
              "    <tr>\n",
              "      <th>979</th>\n",
              "      <td>False</td>\n",
              "      <td>False</td>\n",
              "      <td>False</td>\n",
              "    </tr>\n",
              "    <tr>\n",
              "      <th>980</th>\n",
              "      <td>False</td>\n",
              "      <td>False</td>\n",
              "      <td>False</td>\n",
              "    </tr>\n",
              "    <tr>\n",
              "      <th>981</th>\n",
              "      <td>False</td>\n",
              "      <td>False</td>\n",
              "      <td>False</td>\n",
              "    </tr>\n",
              "    <tr>\n",
              "      <th>982</th>\n",
              "      <td>False</td>\n",
              "      <td>False</td>\n",
              "      <td>False</td>\n",
              "    </tr>\n",
              "    <tr>\n",
              "      <th>983</th>\n",
              "      <td>False</td>\n",
              "      <td>False</td>\n",
              "      <td>False</td>\n",
              "    </tr>\n",
              "    <tr>\n",
              "      <th>984</th>\n",
              "      <td>False</td>\n",
              "      <td>False</td>\n",
              "      <td>False</td>\n",
              "    </tr>\n",
              "    <tr>\n",
              "      <th>985</th>\n",
              "      <td>False</td>\n",
              "      <td>False</td>\n",
              "      <td>False</td>\n",
              "    </tr>\n",
              "    <tr>\n",
              "      <th>986</th>\n",
              "      <td>False</td>\n",
              "      <td>False</td>\n",
              "      <td>False</td>\n",
              "    </tr>\n",
              "    <tr>\n",
              "      <th>987</th>\n",
              "      <td>False</td>\n",
              "      <td>False</td>\n",
              "      <td>False</td>\n",
              "    </tr>\n",
              "    <tr>\n",
              "      <th>988</th>\n",
              "      <td>False</td>\n",
              "      <td>False</td>\n",
              "      <td>False</td>\n",
              "    </tr>\n",
              "    <tr>\n",
              "      <th>989</th>\n",
              "      <td>False</td>\n",
              "      <td>False</td>\n",
              "      <td>False</td>\n",
              "    </tr>\n",
              "    <tr>\n",
              "      <th>990</th>\n",
              "      <td>False</td>\n",
              "      <td>False</td>\n",
              "      <td>False</td>\n",
              "    </tr>\n",
              "    <tr>\n",
              "      <th>991</th>\n",
              "      <td>False</td>\n",
              "      <td>False</td>\n",
              "      <td>False</td>\n",
              "    </tr>\n",
              "    <tr>\n",
              "      <th>992</th>\n",
              "      <td>False</td>\n",
              "      <td>False</td>\n",
              "      <td>False</td>\n",
              "    </tr>\n",
              "    <tr>\n",
              "      <th>993</th>\n",
              "      <td>False</td>\n",
              "      <td>False</td>\n",
              "      <td>False</td>\n",
              "    </tr>\n",
              "    <tr>\n",
              "      <th>994</th>\n",
              "      <td>False</td>\n",
              "      <td>False</td>\n",
              "      <td>False</td>\n",
              "    </tr>\n",
              "    <tr>\n",
              "      <th>995</th>\n",
              "      <td>False</td>\n",
              "      <td>False</td>\n",
              "      <td>False</td>\n",
              "    </tr>\n",
              "    <tr>\n",
              "      <th>996</th>\n",
              "      <td>False</td>\n",
              "      <td>False</td>\n",
              "      <td>False</td>\n",
              "    </tr>\n",
              "    <tr>\n",
              "      <th>997</th>\n",
              "      <td>False</td>\n",
              "      <td>False</td>\n",
              "      <td>False</td>\n",
              "    </tr>\n",
              "    <tr>\n",
              "      <th>998</th>\n",
              "      <td>False</td>\n",
              "      <td>False</td>\n",
              "      <td>False</td>\n",
              "    </tr>\n",
              "    <tr>\n",
              "      <th>999</th>\n",
              "      <td>False</td>\n",
              "      <td>False</td>\n",
              "      <td>False</td>\n",
              "    </tr>\n",
              "  </tbody>\n",
              "</table>\n",
              "<p>1000 rows × 3 columns</p>\n",
              "</div>"
            ],
            "text/plain": [
              "     purchased  time_on_site  mobile\n",
              "0        False         False   False\n",
              "1        False         False   False\n",
              "2        False         False   False\n",
              "3        False         False   False\n",
              "4        False         False   False\n",
              "5        False         False   False\n",
              "6        False         False   False\n",
              "7        False         False   False\n",
              "8        False         False   False\n",
              "9        False         False   False\n",
              "10       False         False   False\n",
              "11       False         False   False\n",
              "12       False         False   False\n",
              "13       False         False   False\n",
              "14       False         False   False\n",
              "15       False         False   False\n",
              "16       False         False   False\n",
              "17       False         False   False\n",
              "18       False         False   False\n",
              "19       False         False   False\n",
              "20       False         False   False\n",
              "21       False         False   False\n",
              "22       False         False   False\n",
              "23       False         False   False\n",
              "24       False         False   False\n",
              "25       False         False   False\n",
              "26       False         False   False\n",
              "27       False         False   False\n",
              "28       False         False   False\n",
              "29       False         False   False\n",
              "..         ...           ...     ...\n",
              "970      False         False   False\n",
              "971      False         False   False\n",
              "972      False         False   False\n",
              "973      False         False   False\n",
              "974      False         False   False\n",
              "975      False         False   False\n",
              "976      False         False   False\n",
              "977      False         False   False\n",
              "978      False         False   False\n",
              "979      False         False   False\n",
              "980      False         False   False\n",
              "981      False         False   False\n",
              "982      False         False   False\n",
              "983      False         False   False\n",
              "984      False         False   False\n",
              "985      False         False   False\n",
              "986      False         False   False\n",
              "987      False         False   False\n",
              "988      False         False   False\n",
              "989      False         False   False\n",
              "990      False         False   False\n",
              "991      False         False   False\n",
              "992      False         False   False\n",
              "993      False         False   False\n",
              "994      False         False   False\n",
              "995      False         False   False\n",
              "996      False         False   False\n",
              "997      False         False   False\n",
              "998      False         False   False\n",
              "999      False         False   False\n",
              "\n",
              "[1000 rows x 3 columns]"
            ]
          },
          "metadata": {
            "tags": []
          },
          "execution_count": 11
        }
      ]
    },
    {
      "metadata": {
        "id": "hvAv6J3EwA9s",
        "colab_type": "code",
        "outputId": "d87c8f92-3af0-451f-ccac-83e31e9c4322",
        "colab": {
          "base_uri": "https://localhost:8080/",
          "height": 238
        }
      },
      "cell_type": "code",
      "source": [
        "# OK, that's not quite what we want\n",
        "# Time is continuous! We need to put it in discrete buckets\n",
        "# Pandas calls these bins, and pandas.cut helps make them\n",
        "\n",
        "time_bins = pd.cut(user_data['time_on_site'], bins=5)  # 5 equal-sized bins\n",
        "pd.crosstab(time_bins, user_data['purchased'])"
      ],
      "execution_count": 0,
      "outputs": [
        {
          "output_type": "execute_result",
          "data": {
            "text/html": [
              "<div>\n",
              "<style scoped>\n",
              "    .dataframe tbody tr th:only-of-type {\n",
              "        vertical-align: middle;\n",
              "    }\n",
              "\n",
              "    .dataframe tbody tr th {\n",
              "        vertical-align: top;\n",
              "    }\n",
              "\n",
              "    .dataframe thead th {\n",
              "        text-align: right;\n",
              "    }\n",
              "</style>\n",
              "<table border=\"1\" class=\"dataframe\">\n",
              "  <thead>\n",
              "    <tr style=\"text-align: right;\">\n",
              "      <th>purchased</th>\n",
              "      <th>False</th>\n",
              "      <th>True</th>\n",
              "    </tr>\n",
              "    <tr>\n",
              "      <th>time_on_site</th>\n",
              "      <th></th>\n",
              "      <th></th>\n",
              "    </tr>\n",
              "  </thead>\n",
              "  <tbody>\n",
              "    <tr>\n",
              "      <th>(-0.0864, 131.163]</th>\n",
              "      <td>113</td>\n",
              "      <td>53</td>\n",
              "    </tr>\n",
              "    <tr>\n",
              "      <th>(131.163, 261.76]</th>\n",
              "      <td>235</td>\n",
              "      <td>186</td>\n",
              "    </tr>\n",
              "    <tr>\n",
              "      <th>(261.76, 392.357]</th>\n",
              "      <td>146</td>\n",
              "      <td>104</td>\n",
              "    </tr>\n",
              "    <tr>\n",
              "      <th>(392.357, 522.954]</th>\n",
              "      <td>66</td>\n",
              "      <td>60</td>\n",
              "    </tr>\n",
              "    <tr>\n",
              "      <th>(522.954, 653.551]</th>\n",
              "      <td>17</td>\n",
              "      <td>15</td>\n",
              "    </tr>\n",
              "  </tbody>\n",
              "</table>\n",
              "</div>"
            ],
            "text/plain": [
              "purchased           False  True \n",
              "time_on_site                    \n",
              "(-0.0864, 131.163]    113     53\n",
              "(131.163, 261.76]     235    186\n",
              "(261.76, 392.357]     146    104\n",
              "(392.357, 522.954]     66     60\n",
              "(522.954, 653.551]     17     15"
            ]
          },
          "metadata": {
            "tags": []
          },
          "execution_count": 12
        }
      ]
    },
    {
      "metadata": {
        "id": "pjcXnJw0wfaj",
        "colab_type": "code",
        "outputId": "619db5cc-2935-4eee-fecd-8639fd8acf5a",
        "colab": {
          "base_uri": "https://localhost:8080/",
          "height": 238
        }
      },
      "cell_type": "code",
      "source": [
        "# We can make this a bit clearer by normalizing (getting %)\n",
        "pd.crosstab(time_bins, user_data['purchased'], normalize='columns')"
      ],
      "execution_count": 0,
      "outputs": [
        {
          "output_type": "execute_result",
          "data": {
            "text/html": [
              "<div>\n",
              "<style scoped>\n",
              "    .dataframe tbody tr th:only-of-type {\n",
              "        vertical-align: middle;\n",
              "    }\n",
              "\n",
              "    .dataframe tbody tr th {\n",
              "        vertical-align: top;\n",
              "    }\n",
              "\n",
              "    .dataframe thead th {\n",
              "        text-align: right;\n",
              "    }\n",
              "</style>\n",
              "<table border=\"1\" class=\"dataframe\">\n",
              "  <thead>\n",
              "    <tr style=\"text-align: right;\">\n",
              "      <th>purchased</th>\n",
              "      <th>False</th>\n",
              "      <th>True</th>\n",
              "    </tr>\n",
              "    <tr>\n",
              "      <th>time_on_site</th>\n",
              "      <th></th>\n",
              "      <th></th>\n",
              "    </tr>\n",
              "  </thead>\n",
              "  <tbody>\n",
              "    <tr>\n",
              "      <th>(-0.0864, 131.163]</th>\n",
              "      <td>0.195841</td>\n",
              "      <td>0.126794</td>\n",
              "    </tr>\n",
              "    <tr>\n",
              "      <th>(131.163, 261.76]</th>\n",
              "      <td>0.407279</td>\n",
              "      <td>0.444976</td>\n",
              "    </tr>\n",
              "    <tr>\n",
              "      <th>(261.76, 392.357]</th>\n",
              "      <td>0.253033</td>\n",
              "      <td>0.248804</td>\n",
              "    </tr>\n",
              "    <tr>\n",
              "      <th>(392.357, 522.954]</th>\n",
              "      <td>0.114385</td>\n",
              "      <td>0.143541</td>\n",
              "    </tr>\n",
              "    <tr>\n",
              "      <th>(522.954, 653.551]</th>\n",
              "      <td>0.029463</td>\n",
              "      <td>0.035885</td>\n",
              "    </tr>\n",
              "  </tbody>\n",
              "</table>\n",
              "</div>"
            ],
            "text/plain": [
              "purchased              False     True \n",
              "time_on_site                          \n",
              "(-0.0864, 131.163]  0.195841  0.126794\n",
              "(131.163, 261.76]   0.407279  0.444976\n",
              "(261.76, 392.357]   0.253033  0.248804\n",
              "(392.357, 522.954]  0.114385  0.143541\n",
              "(522.954, 653.551]  0.029463  0.035885"
            ]
          },
          "metadata": {
            "tags": []
          },
          "execution_count": 13
        }
      ]
    },
    {
      "metadata": {
        "id": "C3GzvDxlvZMa",
        "colab_type": "code",
        "outputId": "dea898b3-af18-4fac-b15f-0108b76ffcdd",
        "colab": {
          "base_uri": "https://localhost:8080/",
          "height": 143
        }
      },
      "cell_type": "code",
      "source": [
        "# That seems counter to our hypothesis\n",
        "# More time on the site can actually have fewer purchases\n",
        "\n",
        "# But we know why, since we generated the data!\n",
        "# Let's look at mobile and purchased\n",
        "pd.crosstab(user_data['purchased'], user_data['mobile'], normalize='columns')"
      ],
      "execution_count": 0,
      "outputs": [
        {
          "output_type": "execute_result",
          "data": {
            "text/html": [
              "<div>\n",
              "<style scoped>\n",
              "    .dataframe tbody tr th:only-of-type {\n",
              "        vertical-align: middle;\n",
              "    }\n",
              "\n",
              "    .dataframe tbody tr th {\n",
              "        vertical-align: top;\n",
              "    }\n",
              "\n",
              "    .dataframe thead th {\n",
              "        text-align: right;\n",
              "    }\n",
              "</style>\n",
              "<table border=\"1\" class=\"dataframe\">\n",
              "  <thead>\n",
              "    <tr style=\"text-align: right;\">\n",
              "      <th>mobile</th>\n",
              "      <th>False</th>\n",
              "      <th>True</th>\n",
              "    </tr>\n",
              "    <tr>\n",
              "      <th>purchased</th>\n",
              "      <th></th>\n",
              "      <th></th>\n",
              "    </tr>\n",
              "  </thead>\n",
              "  <tbody>\n",
              "    <tr>\n",
              "      <th>False</th>\n",
              "      <td>0.584</td>\n",
              "      <td>0.581333</td>\n",
              "    </tr>\n",
              "    <tr>\n",
              "      <th>True</th>\n",
              "      <td>0.416</td>\n",
              "      <td>0.418667</td>\n",
              "    </tr>\n",
              "  </tbody>\n",
              "</table>\n",
              "</div>"
            ],
            "text/plain": [
              "mobile     False     True \n",
              "purchased                 \n",
              "False      0.584  0.581333\n",
              "True       0.416  0.418667"
            ]
          },
          "metadata": {
            "tags": []
          },
          "execution_count": 14
        }
      ]
    },
    {
      "metadata": {
        "id": "KQb-wU60xCum",
        "colab_type": "code",
        "outputId": "ff0663d1-fb11-4967-b609-2e27b683b7a1",
        "colab": {
          "base_uri": "https://localhost:8080/",
          "height": 269
        }
      },
      "cell_type": "code",
      "source": [
        "# Yep, mobile users are more likely to buy things\n",
        "# But we're still not seeing the *whole* story until we look at all 3 at once\n",
        "\n",
        "# Live/stretch goal - how can we do that?\n",
        "pd.crosstab(time_bins, [user_data['mobile'], user_data['purchased']], normalize='all')"
      ],
      "execution_count": 0,
      "outputs": [
        {
          "output_type": "execute_result",
          "data": {
            "text/html": [
              "<div>\n",
              "<style scoped>\n",
              "    .dataframe tbody tr th:only-of-type {\n",
              "        vertical-align: middle;\n",
              "    }\n",
              "\n",
              "    .dataframe tbody tr th {\n",
              "        vertical-align: top;\n",
              "    }\n",
              "\n",
              "    .dataframe thead tr th {\n",
              "        text-align: left;\n",
              "    }\n",
              "\n",
              "    .dataframe thead tr:last-of-type th {\n",
              "        text-align: right;\n",
              "    }\n",
              "</style>\n",
              "<table border=\"1\" class=\"dataframe\">\n",
              "  <thead>\n",
              "    <tr>\n",
              "      <th>mobile</th>\n",
              "      <th colspan=\"2\" halign=\"left\">False</th>\n",
              "      <th colspan=\"2\" halign=\"left\">True</th>\n",
              "    </tr>\n",
              "    <tr>\n",
              "      <th>purchased</th>\n",
              "      <th>False</th>\n",
              "      <th>True</th>\n",
              "      <th>False</th>\n",
              "      <th>True</th>\n",
              "    </tr>\n",
              "    <tr>\n",
              "      <th>time_on_site</th>\n",
              "      <th></th>\n",
              "      <th></th>\n",
              "      <th></th>\n",
              "      <th></th>\n",
              "    </tr>\n",
              "  </thead>\n",
              "  <tbody>\n",
              "    <tr>\n",
              "      <th>(-0.0864, 131.163]</th>\n",
              "      <td>0.001005</td>\n",
              "      <td>0.000000</td>\n",
              "      <td>0.112563</td>\n",
              "      <td>0.053266</td>\n",
              "    </tr>\n",
              "    <tr>\n",
              "      <th>(131.163, 261.76]</th>\n",
              "      <td>0.009045</td>\n",
              "      <td>0.005025</td>\n",
              "      <td>0.227136</td>\n",
              "      <td>0.181910</td>\n",
              "    </tr>\n",
              "    <tr>\n",
              "      <th>(261.76, 392.357]</th>\n",
              "      <td>0.057286</td>\n",
              "      <td>0.030151</td>\n",
              "      <td>0.089447</td>\n",
              "      <td>0.074372</td>\n",
              "    </tr>\n",
              "    <tr>\n",
              "      <th>(392.357, 522.954]</th>\n",
              "      <td>0.062312</td>\n",
              "      <td>0.054271</td>\n",
              "      <td>0.004020</td>\n",
              "      <td>0.006030</td>\n",
              "    </tr>\n",
              "    <tr>\n",
              "      <th>(522.954, 653.551]</th>\n",
              "      <td>0.017085</td>\n",
              "      <td>0.015075</td>\n",
              "      <td>0.000000</td>\n",
              "      <td>0.000000</td>\n",
              "    </tr>\n",
              "  </tbody>\n",
              "</table>\n",
              "</div>"
            ],
            "text/plain": [
              "mobile                 False               True           \n",
              "purchased              False     True      False     True \n",
              "time_on_site                                              \n",
              "(-0.0864, 131.163]  0.001005  0.000000  0.112563  0.053266\n",
              "(131.163, 261.76]   0.009045  0.005025  0.227136  0.181910\n",
              "(261.76, 392.357]   0.057286  0.030151  0.089447  0.074372\n",
              "(392.357, 522.954]  0.062312  0.054271  0.004020  0.006030\n",
              "(522.954, 653.551]  0.017085  0.015075  0.000000  0.000000"
            ]
          },
          "metadata": {
            "tags": []
          },
          "execution_count": 15
        }
      ]
    },
    {
      "metadata": {
        "id": "lOqaPds9huME",
        "colab_type": "text"
      },
      "cell_type": "markdown",
      "source": [
        "## Assignment - what's going on here?\n",
        "\n",
        "Consider the data in `persons.csv` (already prepared for you, in the repo for the week). It has four columns - a unique id, followed by age (in years), weight (in lbs), and exercise time (in minutes/week) of 1200 (hypothetical) people.\n",
        "\n",
        "Try to figure out which variables are possibly related to each other, and which may be confounding relationships."
      ]
    },
    {
      "metadata": {
        "id": "TGUS79cOhPWj",
        "colab_type": "code",
        "colab": {}
      },
      "cell_type": "code",
      "source": [
        "# TODO - your code here\n",
        "# Use what we did live in lecture as an example\n",
        "\n",
        "# HINT - you can find the raw URL on GitHub and potentially use that\n",
        "# to load the data with read_csv, or you can upload it yourself\n",
        "\n",
        "import numpy as np\n",
        "import matplotlib.pyplot as plt\n",
        "import seaborn as sns"
      ],
      "execution_count": 0,
      "outputs": []
    },
    {
      "metadata": {
        "id": "UgBz09wWGae5",
        "colab_type": "code",
        "colab": {}
      },
      "cell_type": "code",
      "source": [
        "persons_df = pd.read_csv('https://raw.githubusercontent.com/ElisabethShah/DS-Unit-1-Sprint-1-Dealing-With-Data/master/module3-databackedassertions/persons.csv', \n",
        "                        usecols = ['age', 'weight', 'exercise_time'])"
      ],
      "execution_count": 0,
      "outputs": []
    },
    {
      "metadata": {
        "id": "Rlr0TJ-jGax9",
        "colab_type": "code",
        "outputId": "45d3087e-5f16-4eaa-8c25-841d16cd7767",
        "colab": {
          "base_uri": "https://localhost:8080/",
          "height": 206
        }
      },
      "cell_type": "code",
      "source": [
        "persons_df.sample(5)"
      ],
      "execution_count": 0,
      "outputs": [
        {
          "output_type": "execute_result",
          "data": {
            "text/html": [
              "<div>\n",
              "<style scoped>\n",
              "    .dataframe tbody tr th:only-of-type {\n",
              "        vertical-align: middle;\n",
              "    }\n",
              "\n",
              "    .dataframe tbody tr th {\n",
              "        vertical-align: top;\n",
              "    }\n",
              "\n",
              "    .dataframe thead th {\n",
              "        text-align: right;\n",
              "    }\n",
              "</style>\n",
              "<table border=\"1\" class=\"dataframe\">\n",
              "  <thead>\n",
              "    <tr style=\"text-align: right;\">\n",
              "      <th></th>\n",
              "      <th>age</th>\n",
              "      <th>weight</th>\n",
              "      <th>exercise_time</th>\n",
              "    </tr>\n",
              "  </thead>\n",
              "  <tbody>\n",
              "    <tr>\n",
              "      <th>732</th>\n",
              "      <td>27</td>\n",
              "      <td>145</td>\n",
              "      <td>156</td>\n",
              "    </tr>\n",
              "    <tr>\n",
              "      <th>1194</th>\n",
              "      <td>64</td>\n",
              "      <td>122</td>\n",
              "      <td>184</td>\n",
              "    </tr>\n",
              "    <tr>\n",
              "      <th>331</th>\n",
              "      <td>49</td>\n",
              "      <td>216</td>\n",
              "      <td>2</td>\n",
              "    </tr>\n",
              "    <tr>\n",
              "      <th>724</th>\n",
              "      <td>26</td>\n",
              "      <td>167</td>\n",
              "      <td>189</td>\n",
              "    </tr>\n",
              "    <tr>\n",
              "      <th>1126</th>\n",
              "      <td>24</td>\n",
              "      <td>101</td>\n",
              "      <td>300</td>\n",
              "    </tr>\n",
              "  </tbody>\n",
              "</table>\n",
              "</div>"
            ],
            "text/plain": [
              "      age  weight  exercise_time\n",
              "732    27     145            156\n",
              "1194   64     122            184\n",
              "331    49     216              2\n",
              "724    26     167            189\n",
              "1126   24     101            300"
            ]
          },
          "metadata": {
            "tags": []
          },
          "execution_count": 18
        }
      ]
    },
    {
      "metadata": {
        "id": "6DP3mDBqGbD2",
        "colab_type": "code",
        "outputId": "fcada792-8ede-45a6-bbd6-ddc959889ece",
        "colab": {
          "base_uri": "https://localhost:8080/",
          "height": 90
        }
      },
      "cell_type": "code",
      "source": [
        "persons_df.dtypes"
      ],
      "execution_count": 0,
      "outputs": [
        {
          "output_type": "execute_result",
          "data": {
            "text/plain": [
              "age              int64\n",
              "weight           int64\n",
              "exercise_time    int64\n",
              "dtype: object"
            ]
          },
          "metadata": {
            "tags": []
          },
          "execution_count": 19
        }
      ]
    },
    {
      "metadata": {
        "id": "xqBRxL8BGbVV",
        "colab_type": "code",
        "outputId": "95d9006f-1b99-44b3-9c94-8adbfa1a1dfe",
        "colab": {
          "base_uri": "https://localhost:8080/",
          "height": 300
        }
      },
      "cell_type": "code",
      "source": [
        "persons_df.describe()"
      ],
      "execution_count": 0,
      "outputs": [
        {
          "output_type": "execute_result",
          "data": {
            "text/html": [
              "<div>\n",
              "<style scoped>\n",
              "    .dataframe tbody tr th:only-of-type {\n",
              "        vertical-align: middle;\n",
              "    }\n",
              "\n",
              "    .dataframe tbody tr th {\n",
              "        vertical-align: top;\n",
              "    }\n",
              "\n",
              "    .dataframe thead th {\n",
              "        text-align: right;\n",
              "    }\n",
              "</style>\n",
              "<table border=\"1\" class=\"dataframe\">\n",
              "  <thead>\n",
              "    <tr style=\"text-align: right;\">\n",
              "      <th></th>\n",
              "      <th>age</th>\n",
              "      <th>weight</th>\n",
              "      <th>exercise_time</th>\n",
              "    </tr>\n",
              "  </thead>\n",
              "  <tbody>\n",
              "    <tr>\n",
              "      <th>count</th>\n",
              "      <td>1200.000000</td>\n",
              "      <td>1200.000000</td>\n",
              "      <td>1200.000000</td>\n",
              "    </tr>\n",
              "    <tr>\n",
              "      <th>mean</th>\n",
              "      <td>48.396667</td>\n",
              "      <td>153.540833</td>\n",
              "      <td>134.910833</td>\n",
              "    </tr>\n",
              "    <tr>\n",
              "      <th>std</th>\n",
              "      <td>18.166802</td>\n",
              "      <td>35.132182</td>\n",
              "      <td>85.548895</td>\n",
              "    </tr>\n",
              "    <tr>\n",
              "      <th>min</th>\n",
              "      <td>18.000000</td>\n",
              "      <td>100.000000</td>\n",
              "      <td>0.000000</td>\n",
              "    </tr>\n",
              "    <tr>\n",
              "      <th>25%</th>\n",
              "      <td>33.000000</td>\n",
              "      <td>125.000000</td>\n",
              "      <td>65.000000</td>\n",
              "    </tr>\n",
              "    <tr>\n",
              "      <th>50%</th>\n",
              "      <td>48.000000</td>\n",
              "      <td>149.000000</td>\n",
              "      <td>122.000000</td>\n",
              "    </tr>\n",
              "    <tr>\n",
              "      <th>75%</th>\n",
              "      <td>64.000000</td>\n",
              "      <td>180.250000</td>\n",
              "      <td>206.000000</td>\n",
              "    </tr>\n",
              "    <tr>\n",
              "      <th>max</th>\n",
              "      <td>80.000000</td>\n",
              "      <td>246.000000</td>\n",
              "      <td>300.000000</td>\n",
              "    </tr>\n",
              "  </tbody>\n",
              "</table>\n",
              "</div>"
            ],
            "text/plain": [
              "               age       weight  exercise_time\n",
              "count  1200.000000  1200.000000    1200.000000\n",
              "mean     48.396667   153.540833     134.910833\n",
              "std      18.166802    35.132182      85.548895\n",
              "min      18.000000   100.000000       0.000000\n",
              "25%      33.000000   125.000000      65.000000\n",
              "50%      48.000000   149.000000     122.000000\n",
              "75%      64.000000   180.250000     206.000000\n",
              "max      80.000000   246.000000     300.000000"
            ]
          },
          "metadata": {
            "tags": []
          },
          "execution_count": 20
        }
      ]
    },
    {
      "metadata": {
        "id": "yJBZApcqGbkO",
        "colab_type": "code",
        "outputId": "487d413b-786d-435c-ba00-07a08e366b08",
        "colab": {
          "base_uri": "https://localhost:8080/",
          "height": 295
        }
      },
      "cell_type": "code",
      "source": [
        "plt.hist(persons_df.age)\n",
        "plt.title('Histogram of Ages')\n",
        "plt.xlabel('Age')\n",
        "plt.ylabel('Number of Individuals')\n",
        "plt.show()"
      ],
      "execution_count": 0,
      "outputs": [
        {
          "output_type": "display_data",
          "data": {
            "image/png": "[encoded data removed]",
            "text/plain": [
              "<Figure size 432x288 with 1 Axes>"
            ]
          },
          "metadata": {
            "tags": []
          }
        }
      ]
    },
    {
      "metadata": {
        "id": "YJN7XqnrGbyV",
        "colab_type": "code",
        "outputId": "576c8794-428e-452c-b0f2-7356b9243651",
        "colab": {
          "base_uri": "https://localhost:8080/",
          "height": 295
        }
      },
      "cell_type": "code",
      "source": [
        "plt.hist(persons_df.weight)\n",
        "plt.title('Histogram of Weights')\n",
        "plt.xlabel('Weight')\n",
        "plt.ylabel('Number of Individuals')\n",
        "plt.show()"
      ],
      "execution_count": 0,
      "outputs": [
        {
          "output_type": "display_data",
          "data": {
            "image/png": "[encoded data removed]",
            "text/plain": [
              "<Figure size 432x288 with 1 Axes>"
            ]
          },
          "metadata": {
            "tags": []
          }
        }
      ]
    },
    {
      "metadata": {
        "id": "oxvU2xk4Gb_F",
        "colab_type": "code",
        "outputId": "3a81a652-121e-455b-8ced-f1c5a9fd47d9",
        "colab": {
          "base_uri": "https://localhost:8080/",
          "height": 295
        }
      },
      "cell_type": "code",
      "source": [
        "plt.hist(persons_df.exercise_time)\n",
        "plt.title('Histogram of Exercise Times')\n",
        "plt.xlabel('Exercise Time')\n",
        "plt.ylabel('Number of Individuals')\n",
        "plt.show()"
      ],
      "execution_count": 0,
      "outputs": [
        {
          "output_type": "display_data",
          "data": {
            "image/png": "[encoded data removed]",
            "text/plain": [
              "<Figure size 432x288 with 1 Axes>"
            ]
          },
          "metadata": {
            "tags": []
          }
        }
      ]
    },
    {
      "metadata": {
        "id": "iQXMdJL7GcLl",
        "colab_type": "code",
        "outputId": "02ea1bc1-d9c6-4cbf-d084-e6d40ed74a98",
        "colab": {
          "base_uri": "https://localhost:8080/",
          "height": 549
        }
      },
      "cell_type": "code",
      "source": [
        "sns.pairplot(persons_df);"
      ],
      "execution_count": 0,
      "outputs": [
        {
          "output_type": "display_data",
          "data": {
            "image/png": "[encoded data removed]",
            "text/plain": [
              "<Figure size 540x540 with 12 Axes>"
            ]
          },
          "metadata": {
            "tags": []
          }
        }
      ]
    },
    {
      "metadata": {
        "id": "y12zDjfNGcZO",
        "colab_type": "code",
        "outputId": "79ca1d47-7cdf-433c-b6c5-fc5e3e9dcd4f",
        "colab": {
          "base_uri": "https://localhost:8080/",
          "height": 54
        }
      },
      "cell_type": "code",
      "source": [
        "np.corrcoef(persons_df.age, persons_df.weight)"
      ],
      "execution_count": 0,
      "outputs": [
        {
          "output_type": "execute_result",
          "data": {
            "text/plain": [
              "array([[1.        , 0.14416819],\n",
              "       [0.14416819, 1.        ]])"
            ]
          },
          "metadata": {
            "tags": []
          },
          "execution_count": 25
        }
      ]
    },
    {
      "metadata": {
        "id": "NzDlD8TeGcm9",
        "colab_type": "code",
        "outputId": "6b49e5fe-01a9-4402-dc25-38545665b9ef",
        "colab": {
          "base_uri": "https://localhost:8080/",
          "height": 54
        }
      },
      "cell_type": "code",
      "source": [
        "np.corrcoef(persons_df.age, persons_df.exercise_time)"
      ],
      "execution_count": 0,
      "outputs": [
        {
          "output_type": "execute_result",
          "data": {
            "text/plain": [
              "array([[ 1.        , -0.27381804],\n",
              "       [-0.27381804,  1.        ]])"
            ]
          },
          "metadata": {
            "tags": []
          },
          "execution_count": 26
        }
      ]
    },
    {
      "metadata": {
        "id": "gY8BhR4kGc1m",
        "colab_type": "code",
        "outputId": "b6288eea-ad81-4ebd-d57e-40ab8ad48d5e",
        "colab": {
          "base_uri": "https://localhost:8080/",
          "height": 54
        }
      },
      "cell_type": "code",
      "source": [
        "np.corrcoef(persons_df.exercise_time, persons_df.weight)"
      ],
      "execution_count": 0,
      "outputs": [
        {
          "output_type": "execute_result",
          "data": {
            "text/plain": [
              "array([[ 1.        , -0.47802133],\n",
              "       [-0.47802133,  1.        ]])"
            ]
          },
          "metadata": {
            "tags": []
          },
          "execution_count": 27
        }
      ]
    },
    {
      "metadata": {
        "id": "vcjngdPRIY9b",
        "colab_type": "code",
        "colab": {}
      },
      "cell_type": "code",
      "source": [
        "persons_df['age_bin'] = pd.cut(persons_df.age, bins = 6, include_lowest = True).astype(str)\n",
        "persons_df['weight_bin'] = pd.cut(persons_df.weight, np.linspace(100, 250, num = 11), include_lowest = True).astype(str)\n",
        "persons_df['exercise_bin'] = pd.cut(persons_df.exercise_time, np.linspace(0, 300, num = 7), include_lowest = True).astype(str)"
      ],
      "execution_count": 0,
      "outputs": []
    },
    {
      "metadata": {
        "id": "ZPveuyMCJPGP",
        "colab_type": "code",
        "outputId": "6fe7121a-2537-4a21-de7a-f9471f2a9317",
        "colab": {
          "base_uri": "https://localhost:8080/",
          "height": 146
        }
      },
      "cell_type": "code",
      "source": [
        "persons_df['age_bin'].value_counts()"
      ],
      "execution_count": 0,
      "outputs": [
        {
          "output_type": "execute_result",
          "data": {
            "text/plain": [
              "(28.333, 38.667]                217\n",
              "(17.936999999999998, 28.333]    209\n",
              "(38.667, 49.0]                  200\n",
              "(69.667, 80.0]                  198\n",
              "(59.333, 69.667]                192\n",
              "(49.0, 59.333]                  184\n",
              "Name: age_bin, dtype: int64"
            ]
          },
          "metadata": {
            "tags": []
          },
          "execution_count": 148
        }
      ]
    },
    {
      "metadata": {
        "id": "CeH-4rZRL_Uy",
        "colab_type": "code",
        "outputId": "332c0e37-ee4a-41de-ac10-ada0a22525a5",
        "colab": {
          "base_uri": "https://localhost:8080/",
          "height": 219
        }
      },
      "cell_type": "code",
      "source": [
        "persons_df['weight_bin'].value_counts()"
      ],
      "execution_count": 0,
      "outputs": [
        {
          "output_type": "execute_result",
          "data": {
            "text/plain": [
              "(115.0, 130.0]     196\n",
              "(99.999, 115.0]    187\n",
              "(130.0, 145.0]     182\n",
              "(145.0, 160.0]     167\n",
              "(160.0, 175.0]     133\n",
              "(175.0, 190.0]     121\n",
              "(190.0, 205.0]      97\n",
              "(205.0, 220.0]      77\n",
              "(220.0, 235.0]      27\n",
              "(235.0, 250.0]      13\n",
              "Name: weight_bin, dtype: int64"
            ]
          },
          "metadata": {
            "tags": []
          },
          "execution_count": 149
        }
      ]
    },
    {
      "metadata": {
        "id": "l7y9L9A4MUh7",
        "colab_type": "code",
        "outputId": "386ab23a-778b-4c8f-b14c-e7bdc587fb34",
        "colab": {
          "base_uri": "https://localhost:8080/",
          "height": 146
        }
      },
      "cell_type": "code",
      "source": [
        "persons_df['exercise_bin'].value_counts()"
      ],
      "execution_count": 0,
      "outputs": [
        {
          "output_type": "execute_result",
          "data": {
            "text/plain": [
              "(50.0, 100.0]     264\n",
              "(-0.001, 50.0]    241\n",
              "(100.0, 150.0]    194\n",
              "(150.0, 200.0]    190\n",
              "(250.0, 300.0]    156\n",
              "(200.0, 250.0]    155\n",
              "Name: exercise_bin, dtype: int64"
            ]
          },
          "metadata": {
            "tags": []
          },
          "execution_count": 150
        }
      ]
    },
    {
      "metadata": {
        "id": "3C3hfZJVMn9t",
        "colab_type": "code",
        "outputId": "b4a80c34-9f8f-4d35-ccc0-89fa238c62b9",
        "colab": {
          "base_uri": "https://localhost:8080/",
          "height": 206
        }
      },
      "cell_type": "code",
      "source": [
        "persons_df.sample(5)"
      ],
      "execution_count": 0,
      "outputs": [
        {
          "output_type": "execute_result",
          "data": {
            "text/html": [
              "<div>\n",
              "<style scoped>\n",
              "    .dataframe tbody tr th:only-of-type {\n",
              "        vertical-align: middle;\n",
              "    }\n",
              "\n",
              "    .dataframe tbody tr th {\n",
              "        vertical-align: top;\n",
              "    }\n",
              "\n",
              "    .dataframe thead th {\n",
              "        text-align: right;\n",
              "    }\n",
              "</style>\n",
              "<table border=\"1\" class=\"dataframe\">\n",
              "  <thead>\n",
              "    <tr style=\"text-align: right;\">\n",
              "      <th></th>\n",
              "      <th>age</th>\n",
              "      <th>weight</th>\n",
              "      <th>exercise_time</th>\n",
              "      <th>age_bin</th>\n",
              "      <th>weight_bin</th>\n",
              "      <th>exercise_bin</th>\n",
              "    </tr>\n",
              "  </thead>\n",
              "  <tbody>\n",
              "    <tr>\n",
              "      <th>199</th>\n",
              "      <td>29</td>\n",
              "      <td>119</td>\n",
              "      <td>282</td>\n",
              "      <td>(28.333, 38.667]</td>\n",
              "      <td>(115.0, 130.0]</td>\n",
              "      <td>(250.0, 300.0]</td>\n",
              "    </tr>\n",
              "    <tr>\n",
              "      <th>1164</th>\n",
              "      <td>53</td>\n",
              "      <td>103</td>\n",
              "      <td>276</td>\n",
              "      <td>(49.0, 59.333]</td>\n",
              "      <td>(99.999, 115.0]</td>\n",
              "      <td>(250.0, 300.0]</td>\n",
              "    </tr>\n",
              "    <tr>\n",
              "      <th>41</th>\n",
              "      <td>80</td>\n",
              "      <td>186</td>\n",
              "      <td>87</td>\n",
              "      <td>(69.667, 80.0]</td>\n",
              "      <td>(175.0, 190.0]</td>\n",
              "      <td>(50.0, 100.0]</td>\n",
              "    </tr>\n",
              "    <tr>\n",
              "      <th>1116</th>\n",
              "      <td>63</td>\n",
              "      <td>144</td>\n",
              "      <td>1</td>\n",
              "      <td>(59.333, 69.667]</td>\n",
              "      <td>(130.0, 145.0]</td>\n",
              "      <td>(-0.001, 50.0]</td>\n",
              "    </tr>\n",
              "    <tr>\n",
              "      <th>1112</th>\n",
              "      <td>58</td>\n",
              "      <td>144</td>\n",
              "      <td>89</td>\n",
              "      <td>(49.0, 59.333]</td>\n",
              "      <td>(130.0, 145.0]</td>\n",
              "      <td>(50.0, 100.0]</td>\n",
              "    </tr>\n",
              "  </tbody>\n",
              "</table>\n",
              "</div>"
            ],
            "text/plain": [
              "      age  weight  exercise_time           age_bin       weight_bin  \\\n",
              "199    29     119            282  (28.333, 38.667]   (115.0, 130.0]   \n",
              "1164   53     103            276    (49.0, 59.333]  (99.999, 115.0]   \n",
              "41     80     186             87    (69.667, 80.0]   (175.0, 190.0]   \n",
              "1116   63     144              1  (59.333, 69.667]   (130.0, 145.0]   \n",
              "1112   58     144             89    (49.0, 59.333]   (130.0, 145.0]   \n",
              "\n",
              "        exercise_bin  \n",
              "199   (250.0, 300.0]  \n",
              "1164  (250.0, 300.0]  \n",
              "41     (50.0, 100.0]  \n",
              "1116  (-0.001, 50.0]  \n",
              "1112   (50.0, 100.0]  "
            ]
          },
          "metadata": {
            "tags": []
          },
          "execution_count": 151
        }
      ]
    },
    {
      "metadata": {
        "id": "cLgRzFeZNuA9",
        "colab_type": "code",
        "outputId": "3057d5af-f5b2-4644-97e7-112d8115f007",
        "colab": {
          "base_uri": "https://localhost:8080/",
          "height": 146
        }
      },
      "cell_type": "code",
      "source": [
        "persons_df.dtypes"
      ],
      "execution_count": 0,
      "outputs": [
        {
          "output_type": "execute_result",
          "data": {
            "text/plain": [
              "age               int64\n",
              "weight            int64\n",
              "exercise_time     int64\n",
              "age_bin          object\n",
              "weight_bin       object\n",
              "exercise_bin     object\n",
              "dtype: object"
            ]
          },
          "metadata": {
            "tags": []
          },
          "execution_count": 152
        }
      ]
    },
    {
      "metadata": {
        "id": "5AcPzCjjQ4M2",
        "colab_type": "code",
        "outputId": "e8f4f1e5-3e80-46fb-e4a6-48a8f20de78b",
        "colab": {
          "base_uri": "https://localhost:8080/",
          "height": 146
        }
      },
      "cell_type": "code",
      "source": [
        "persons_df.isnull().any()"
      ],
      "execution_count": 0,
      "outputs": [
        {
          "output_type": "execute_result",
          "data": {
            "text/plain": [
              "age              False\n",
              "weight           False\n",
              "exercise_time    False\n",
              "age_bin          False\n",
              "weight_bin       False\n",
              "exercise_bin     False\n",
              "dtype: bool"
            ]
          },
          "metadata": {
            "tags": []
          },
          "execution_count": 153
        }
      ]
    },
    {
      "metadata": {
        "id": "OqCZiuNtQkhb",
        "colab_type": "code",
        "outputId": "59c6b613-325b-4f59-ee48-7459cf657975",
        "colab": {
          "base_uri": "https://localhost:8080/",
          "height": 269
        }
      },
      "cell_type": "code",
      "source": [
        "mean_weight_ct = pd.crosstab(persons_df.age_bin, persons_df.exercise_bin, values = persons_df.weight, aggfunc = np.mean)\n",
        "mean_weight_ct"
      ],
      "execution_count": 0,
      "outputs": [
        {
          "output_type": "execute_result",
          "data": {
            "text/html": [
              "<div>\n",
              "<style scoped>\n",
              "    .dataframe tbody tr th:only-of-type {\n",
              "        vertical-align: middle;\n",
              "    }\n",
              "\n",
              "    .dataframe tbody tr th {\n",
              "        vertical-align: top;\n",
              "    }\n",
              "\n",
              "    .dataframe thead th {\n",
              "        text-align: right;\n",
              "    }\n",
              "</style>\n",
              "<table border=\"1\" class=\"dataframe\">\n",
              "  <thead>\n",
              "    <tr style=\"text-align: right;\">\n",
              "      <th>exercise_bin</th>\n",
              "      <th>(-0.001, 50.0]</th>\n",
              "      <th>(100.0, 150.0]</th>\n",
              "      <th>(150.0, 200.0]</th>\n",
              "      <th>(200.0, 250.0]</th>\n",
              "      <th>(250.0, 300.0]</th>\n",
              "      <th>(50.0, 100.0]</th>\n",
              "    </tr>\n",
              "    <tr>\n",
              "      <th>age_bin</th>\n",
              "      <th></th>\n",
              "      <th></th>\n",
              "      <th></th>\n",
              "      <th></th>\n",
              "      <th></th>\n",
              "      <th></th>\n",
              "    </tr>\n",
              "  </thead>\n",
              "  <tbody>\n",
              "    <tr>\n",
              "      <th>(17.936999999999998, 28.333]</th>\n",
              "      <td>180.310345</td>\n",
              "      <td>151.393939</td>\n",
              "      <td>144.911111</td>\n",
              "      <td>139.128205</td>\n",
              "      <td>122.035714</td>\n",
              "      <td>165.885714</td>\n",
              "    </tr>\n",
              "    <tr>\n",
              "      <th>(28.333, 38.667]</th>\n",
              "      <td>174.895833</td>\n",
              "      <td>153.344828</td>\n",
              "      <td>140.976190</td>\n",
              "      <td>131.058824</td>\n",
              "      <td>129.343750</td>\n",
              "      <td>150.531250</td>\n",
              "    </tr>\n",
              "    <tr>\n",
              "      <th>(38.667, 49.0]</th>\n",
              "      <td>183.222222</td>\n",
              "      <td>158.120000</td>\n",
              "      <td>142.807692</td>\n",
              "      <td>134.138889</td>\n",
              "      <td>127.695652</td>\n",
              "      <td>166.375000</td>\n",
              "    </tr>\n",
              "    <tr>\n",
              "      <th>(49.0, 59.333]</th>\n",
              "      <td>166.538462</td>\n",
              "      <td>158.655172</td>\n",
              "      <td>148.586207</td>\n",
              "      <td>137.375000</td>\n",
              "      <td>126.956522</td>\n",
              "      <td>175.400000</td>\n",
              "    </tr>\n",
              "    <tr>\n",
              "      <th>(59.333, 69.667]</th>\n",
              "      <td>184.772727</td>\n",
              "      <td>156.454545</td>\n",
              "      <td>145.250000</td>\n",
              "      <td>135.636364</td>\n",
              "      <td>135.750000</td>\n",
              "      <td>165.735849</td>\n",
              "    </tr>\n",
              "    <tr>\n",
              "      <th>(69.667, 80.0]</th>\n",
              "      <td>169.686567</td>\n",
              "      <td>154.155556</td>\n",
              "      <td>136.583333</td>\n",
              "      <td>NaN</td>\n",
              "      <td>NaN</td>\n",
              "      <td>166.094595</td>\n",
              "    </tr>\n",
              "  </tbody>\n",
              "</table>\n",
              "</div>"
            ],
            "text/plain": [
              "exercise_bin                  (-0.001, 50.0]  (100.0, 150.0]  (150.0, 200.0]  \\\n",
              "age_bin                                                                        \n",
              "(17.936999999999998, 28.333]      180.310345      151.393939      144.911111   \n",
              "(28.333, 38.667]                  174.895833      153.344828      140.976190   \n",
              "(38.667, 49.0]                    183.222222      158.120000      142.807692   \n",
              "(49.0, 59.333]                    166.538462      158.655172      148.586207   \n",
              "(59.333, 69.667]                  184.772727      156.454545      145.250000   \n",
              "(69.667, 80.0]                    169.686567      154.155556      136.583333   \n",
              "\n",
              "exercise_bin                  (200.0, 250.0]  (250.0, 300.0]  (50.0, 100.0]  \n",
              "age_bin                                                                      \n",
              "(17.936999999999998, 28.333]      139.128205      122.035714     165.885714  \n",
              "(28.333, 38.667]                  131.058824      129.343750     150.531250  \n",
              "(38.667, 49.0]                    134.138889      127.695652     166.375000  \n",
              "(49.0, 59.333]                    137.375000      126.956522     175.400000  \n",
              "(59.333, 69.667]                  135.636364      135.750000     165.735849  \n",
              "(69.667, 80.0]                           NaN             NaN     166.094595  "
            ]
          },
          "metadata": {
            "tags": []
          },
          "execution_count": 157
        }
      ]
    },
    {
      "metadata": {
        "id": "NAoMhEmHVdPD",
        "colab_type": "code",
        "outputId": "1614d33c-544e-4d5d-ef56-5e5f0d44675a",
        "colab": {
          "base_uri": "https://localhost:8080/",
          "height": 283
        }
      },
      "cell_type": "code",
      "source": [
        "sns.regplot(persons_df[persons_df.exercise_bin == '(-0.001, 50.0]'].age, persons_df[persons_df.exercise_bin == '(-0.001, 50.0]'].weight);"
      ],
      "execution_count": 0,
      "outputs": [
        {
          "output_type": "display_data",
          "data": {
            "image/png": "[encoded data removed]",
            "text/plain": [
              "<Figure size 432x288 with 1 Axes>"
            ]
          },
          "metadata": {
            "tags": []
          }
        }
      ]
    },
    {
      "metadata": {
        "id": "gE46HWJzYIDG",
        "colab_type": "code",
        "outputId": "d9c59fc2-450e-43cf-92ba-815e8c169fd1",
        "colab": {
          "base_uri": "https://localhost:8080/",
          "height": 54
        }
      },
      "cell_type": "code",
      "source": [
        "np.corrcoef(persons_df[persons_df.exercise_bin == '(-0.001, 50.0]'].age, persons_df[persons_df.exercise_bin == '(-0.001, 50.0]'].weight)"
      ],
      "execution_count": 0,
      "outputs": [
        {
          "output_type": "execute_result",
          "data": {
            "text/plain": [
              "array([[ 1.        , -0.03889818],\n",
              "       [-0.03889818,  1.        ]])"
            ]
          },
          "metadata": {
            "tags": []
          },
          "execution_count": 172
        }
      ]
    },
    {
      "metadata": {
        "id": "M8Dlc4v-XGWF",
        "colab_type": "code",
        "outputId": "89d26cbf-0abb-4ea7-f27a-e62135100e4a",
        "colab": {
          "base_uri": "https://localhost:8080/",
          "height": 283
        }
      },
      "cell_type": "code",
      "source": [
        "sns.regplot(persons_df[persons_df.exercise_bin == '(50.0, 100.0]'].age, persons_df[persons_df.exercise_bin == '(50.0, 100.0]'].weight);"
      ],
      "execution_count": 0,
      "outputs": [
        {
          "output_type": "display_data",
          "data": {
            "image/png": "[encoded data removed]",
            "text/plain": [
              "<Figure size 432x288 with 1 Axes>"
            ]
          },
          "metadata": {
            "tags": []
          }
        }
      ]
    },
    {
      "metadata": {
        "id": "DsvTgThtYVGK",
        "colab_type": "code",
        "outputId": "5b853894-87e4-40c1-9c96-878a8db71781",
        "colab": {
          "base_uri": "https://localhost:8080/",
          "height": 54
        }
      },
      "cell_type": "code",
      "source": [
        "np.corrcoef(persons_df[persons_df.exercise_bin == '(50.0, 100.0]'].age, persons_df[persons_df.exercise_bin == '(50.0, 100.0]'].weight)"
      ],
      "execution_count": 0,
      "outputs": [
        {
          "output_type": "execute_result",
          "data": {
            "text/plain": [
              "array([[1.        , 0.06289446],\n",
              "       [0.06289446, 1.        ]])"
            ]
          },
          "metadata": {
            "tags": []
          },
          "execution_count": 173
        }
      ]
    },
    {
      "metadata": {
        "id": "QPmL-3axXO8B",
        "colab_type": "code",
        "outputId": "cfcd8952-8bf3-4e40-b90a-ad0b226c0cf8",
        "colab": {
          "base_uri": "https://localhost:8080/",
          "height": 283
        }
      },
      "cell_type": "code",
      "source": [
        "sns.regplot(persons_df[persons_df.exercise_bin == '(100.0, 150.0]'].age, persons_df[persons_df.exercise_bin == '(100.0, 150.0]'].weight);"
      ],
      "execution_count": 0,
      "outputs": [
        {
          "output_type": "display_data",
          "data": {
            "image/png": "[encoded data removed]",
            "text/plain": [
              "<Figure size 432x288 with 1 Axes>"
            ]
          },
          "metadata": {
            "tags": []
          }
        }
      ]
    },
    {
      "metadata": {
        "id": "j0iI0jomYl0b",
        "colab_type": "code",
        "outputId": "4d2ac732-5bfe-4251-ee11-04a673a53576",
        "colab": {
          "base_uri": "https://localhost:8080/",
          "height": 54
        }
      },
      "cell_type": "code",
      "source": [
        "np.corrcoef(persons_df[persons_df.exercise_bin == '(100.0, 150.0]'].age, persons_df[persons_df.exercise_bin == '(100.0, 150.0]'].weight)"
      ],
      "execution_count": 0,
      "outputs": [
        {
          "output_type": "execute_result",
          "data": {
            "text/plain": [
              "array([[1.        , 0.03181193],\n",
              "       [0.03181193, 1.        ]])"
            ]
          },
          "metadata": {
            "tags": []
          },
          "execution_count": 174
        }
      ]
    },
    {
      "metadata": {
        "id": "JSj_yn9TXRIZ",
        "colab_type": "code",
        "outputId": "db77a54f-6c31-4302-8538-d0bad220f91d",
        "colab": {
          "base_uri": "https://localhost:8080/",
          "height": 283
        }
      },
      "cell_type": "code",
      "source": [
        "sns.regplot(persons_df[persons_df.exercise_bin == '(150.0, 200.0]'].age, persons_df[persons_df.exercise_bin == '(150.0, 200.0]'].weight);"
      ],
      "execution_count": 0,
      "outputs": [
        {
          "output_type": "display_data",
          "data": {
            "image/png": "[encoded data removed]",
            "text/plain": [
              "<Figure size 432x288 with 1 Axes>"
            ]
          },
          "metadata": {
            "tags": []
          }
        }
      ]
    },
    {
      "metadata": {
        "id": "3NV_9M1_YyVI",
        "colab_type": "code",
        "outputId": "8f14c327-bc90-4fa4-9d7d-706e0484a7d3",
        "colab": {
          "base_uri": "https://localhost:8080/",
          "height": 54
        }
      },
      "cell_type": "code",
      "source": [
        "np.corrcoef(persons_df[persons_df.exercise_bin == '(150.0, 200.0]'].age, persons_df[persons_df.exercise_bin == '(150.0, 200.0]'].weight)"
      ],
      "execution_count": 0,
      "outputs": [
        {
          "output_type": "execute_result",
          "data": {
            "text/plain": [
              "array([[1.        , 0.00689758],\n",
              "       [0.00689758, 1.        ]])"
            ]
          },
          "metadata": {
            "tags": []
          },
          "execution_count": 175
        }
      ]
    },
    {
      "metadata": {
        "id": "N3BCm30QXRdm",
        "colab_type": "code",
        "outputId": "0cf98cac-378c-4a77-cf40-c49d3cd4e47b",
        "colab": {
          "base_uri": "https://localhost:8080/",
          "height": 283
        }
      },
      "cell_type": "code",
      "source": [
        "sns.regplot(persons_df[persons_df.exercise_bin == '(200.0, 250.0]'].age, persons_df[persons_df.exercise_bin == '(200.0, 250.0]'].weight);"
      ],
      "execution_count": 0,
      "outputs": [
        {
          "output_type": "display_data",
          "data": {
            "image/png": "[encoded data removed]",
            "text/plain": [
              "<Figure size 432x288 with 1 Axes>"
            ]
          },
          "metadata": {
            "tags": []
          }
        }
      ]
    },
    {
      "metadata": {
        "id": "4PKaWnPmY3gM",
        "colab_type": "code",
        "outputId": "555b904b-0d0b-4dda-a01a-7f3624c00f53",
        "colab": {
          "base_uri": "https://localhost:8080/",
          "height": 54
        }
      },
      "cell_type": "code",
      "source": [
        "np.corrcoef(persons_df[persons_df.exercise_bin == '(200.0, 250.0]'].age, persons_df[persons_df.exercise_bin == '(200.0, 250.0]'].weight)"
      ],
      "execution_count": 0,
      "outputs": [
        {
          "output_type": "execute_result",
          "data": {
            "text/plain": [
              "array([[ 1.        , -0.01102847],\n",
              "       [-0.01102847,  1.        ]])"
            ]
          },
          "metadata": {
            "tags": []
          },
          "execution_count": 176
        }
      ]
    },
    {
      "metadata": {
        "id": "CZT8bUGfXR2n",
        "colab_type": "code",
        "outputId": "0dca2333-d242-42f5-cbe2-549d135626f1",
        "colab": {
          "base_uri": "https://localhost:8080/",
          "height": 283
        }
      },
      "cell_type": "code",
      "source": [
        "sns.regplot(persons_df[persons_df.exercise_bin == '(250.0, 300.0]'].age, persons_df[persons_df.exercise_bin == '(250.0, 300.0]'].weight);"
      ],
      "execution_count": 0,
      "outputs": [
        {
          "output_type": "display_data",
          "data": {
            "image/png": "[encoded data removed]",
            "text/plain": [
              "<Figure size 432x288 with 1 Axes>"
            ]
          },
          "metadata": {
            "tags": []
          }
        }
      ]
    },
    {
      "metadata": {
        "id": "BkZWbDIcY9c7",
        "colab_type": "code",
        "outputId": "6b9f209d-deb5-4c04-8822-c3b45a53f91b",
        "colab": {
          "base_uri": "https://localhost:8080/",
          "height": 54
        }
      },
      "cell_type": "code",
      "source": [
        "np.corrcoef(persons_df[persons_df.exercise_bin == '(250.0, 300.0]'].age, persons_df[persons_df.exercise_bin == '(250.0, 300.0]'].weight)"
      ],
      "execution_count": 0,
      "outputs": [
        {
          "output_type": "execute_result",
          "data": {
            "text/plain": [
              "array([[1.        , 0.10494501],\n",
              "       [0.10494501, 1.        ]])"
            ]
          },
          "metadata": {
            "tags": []
          },
          "execution_count": 177
        }
      ]
    },
    {
      "metadata": {
        "id": "BT9gdS7viJZa",
        "colab_type": "text"
      },
      "cell_type": "markdown",
      "source": [
        "### Assignment questions\n",
        "\n",
        "After you've worked on some code, answer the following questions in this text block:\n",
        "\n",
        "1.  What are the variable types in the data?\n",
        "\n",
        "\n",
        "> **They are all 64-bit integers.**\n",
        "\n",
        "\n",
        "2.  What are the relationships between the variables?\n",
        "\n",
        "\n",
        "> **Age and weight show a very weak positive correlation. Age and exercise time show a weak negative correlation, and there is a moderate negative correlation between exercise time and weight.**\n",
        "\n",
        "\n",
        "3.  Which relationships are \"real\", and which spurious?\n",
        "The correlation between age and weight, already weak, essentially disappears when exercise time is held constant; it appears largely spurious, based on this data. The correlations between age and exercise time and between exercise time and weight appear more solid.\n"
      ]
    },
    {
      "metadata": {
        "id": "_XXg2crAipwP",
        "colab_type": "text"
      },
      "cell_type": "markdown",
      "source": [
        "## Stretch goals and resources\n",
        "\n",
        "Following are *optional* things for you to take a look at. Focus on the above assignment first, and make sure to commit and push your changes to GitHub.\n",
        "\n",
        "- [Spurious Correlations](http://tylervigen.com/spurious-correlations)\n",
        "- [NIH on controlling for confounding variables](https://www.ncbi.nlm.nih.gov/pmc/articles/PMC4017459/)\n",
        "\n",
        "Stretch goals:\n",
        "\n",
        "- Produce your own plot inspired by the Spurious Correlation visualizations (and consider writing a blog post about it - both the content and how you made it)\n",
        "- Pick one of the techniques that NIH highlights for confounding variables - we'll be going into many of them later, but see if you can find which Python modules may help (hint - check scikit-learn)"
      ]
    }
  ]
}