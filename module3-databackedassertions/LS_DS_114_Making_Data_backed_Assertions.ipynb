{
  "nbformat": 4,
  "nbformat_minor": 0,
  "metadata": {
    "colab": {
      "name": "LS_DS_114_Making_Data_backed_Assertions.ipynb",
      "version": "0.3.2",
      "provenance": [],
      "collapsed_sections": [],
      "include_colab_link": true
    },
    "kernelspec": {
      "name": "python3",
      "display_name": "Python 3"
    }
  },
  "cells": [
    {
      "cell_type": "markdown",
      "metadata": {
        "id": "view-in-github",
        "colab_type": "text"
      },
      "source": [
        "<a href=\"https://colab.research.google.com/github/timidsurgeon/DS-Unit-1-Sprint-1-Dealing-With-Data/blob/master/module3-databackedassertions/LS_DS_114_Making_Data_backed_Assertions.ipynb\" target=\"_parent\"><img src=\"https://colab.research.google.com/assets/colab-badge.svg\" alt=\"Open In Colab\"/></a>"
      ]
    },
    {
      "cell_type": "markdown",
      "metadata": {
        "id": "Okfr_uhwhS1X",
        "colab_type": "text"
      },
      "source": [
        "# Lambda School Data Science - Making Data-backed Assertions\n",
        "\n",
        "This is, for many, the main point of data science - to create and support reasoned arguments based on evidence. It's not a topic to master in a day, but it is worth some focused time thinking about and structuring your approach to it."
      ]
    },
    {
      "cell_type": "markdown",
      "metadata": {
        "id": "_skarlreWS5m",
        "colab_type": "text"
      },
      "source": [
        "## @channel Hey everyone! Today we'll be starting off with a Walkie-Talkie. In Walkie-Talkies you'll be split into small groups where you answer the questions posted in this channel. Half of your career (especially interviews) as a data scientist will be about communicating and explaining your ideas to others. This helps you prepare for that and review material, as well as build community across our cohort. Today's your first one, so the questions will be about getting you used to the format and thinking about what it is you're doing as a data scientist.\n",
        "\n",
        "#### Question 1: What are numpy and pandas and what are they used for?\n",
        "\n",
        "Numpy and pandas are both libraries that are integrated well into the Python language. They are used for data analysis and visualization. Pandas offers easy-to-use data structures and data analysis tools. Numpy allows for array manipulation, and integrates the use of linear algebra. \n",
        "\n",
        "#### Question 2: What is data science to you?\n",
        "\n",
        "Data science is the use of data to extract knowledge and insights. It encompasses the use of statistical models and data analysis. Data scientists source, manage, and analyze large amounts of data. \n",
        "\n",
        "#### Question 3: What made you transition into data science?\n",
        "\n",
        "The ability to be able to \"forcast\" well into the future using statistics and to be able to arrive at meaningful conclusions was something that really interested me about the field. I find it really intriguing to be able to come across patterns that were not apparent before making the analysis and visualizations. \n",
        "\n",
        "#### Question 4: What is the most confusing topic from week one of class?\n",
        "\n",
        "The most confusing topic was the part of the lecture that dealt with merging two datasets together. \n",
        "\n",
        "#### Question 5: What would you love to acquire if there were no limitations?\n",
        "\n",
        "I would love th acquire the ability to pick and memorize all the different functions easily without having to constantly look back at my notes for clarification. I find myself having to constantly look back and forth between my notes and the assignments because of the syntax. \n",
        "\n",
        "#### Question 6: What would you do with that data (projects, startups, apps)?\n",
        "\n",
        "I would look into working on projects with the data and seeing what type of conclusions I can derive from the information. Hopefully, they are meaningful-enough conclusions that I can use to better the life and quality of life of myself and others. "
      ]
    },
    {
      "cell_type": "markdown",
      "metadata": {
        "id": "9dtJETFRhnOG",
        "colab_type": "text"
      },
      "source": [
        "## Lecture - generating a confounding variable\n",
        "\n",
        "The prewatch material told a story about a hypothetical health condition where both the drug usage and overall health outcome were related to gender - thus making gender a confounding variable, obfuscating the possible relationship between the drug and the outcome.\n",
        "\n",
        "Let's use Python to generate data that actually behaves in this fashion!"
      ]
    },
    {
      "cell_type": "code",
      "metadata": {
        "id": "WiBkgmPJhmhE",
        "colab_type": "code",
        "outputId": "7807b42e-ad5f-43da-b30b-49c2ab24b695",
        "colab": {
          "base_uri": "https://localhost:8080/",
          "height": 1000
        }
      },
      "source": [
        "import random\n",
        "dir(random)  # Reminding ourselves what we can do here"
      ],
      "execution_count": 0,
      "outputs": [
        {
          "output_type": "execute_result",
          "data": {
            "text/plain": [
              "['BPF',\n",
              " 'LOG4',\n",
              " 'NV_MAGICCONST',\n",
              " 'RECIP_BPF',\n",
              " 'Random',\n",
              " 'SG_MAGICCONST',\n",
              " 'SystemRandom',\n",
              " 'TWOPI',\n",
              " '_BuiltinMethodType',\n",
              " '_MethodType',\n",
              " '_Sequence',\n",
              " '_Set',\n",
              " '__all__',\n",
              " '__builtins__',\n",
              " '__cached__',\n",
              " '__doc__',\n",
              " '__file__',\n",
              " '__loader__',\n",
              " '__name__',\n",
              " '__package__',\n",
              " '__spec__',\n",
              " '_acos',\n",
              " '_bisect',\n",
              " '_ceil',\n",
              " '_cos',\n",
              " '_e',\n",
              " '_exp',\n",
              " '_inst',\n",
              " '_itertools',\n",
              " '_log',\n",
              " '_pi',\n",
              " '_random',\n",
              " '_sha512',\n",
              " '_sin',\n",
              " '_sqrt',\n",
              " '_test',\n",
              " '_test_generator',\n",
              " '_urandom',\n",
              " '_warn',\n",
              " 'betavariate',\n",
              " 'choice',\n",
              " 'choices',\n",
              " 'expovariate',\n",
              " 'gammavariate',\n",
              " 'gauss',\n",
              " 'getrandbits',\n",
              " 'getstate',\n",
              " 'lognormvariate',\n",
              " 'normalvariate',\n",
              " 'paretovariate',\n",
              " 'randint',\n",
              " 'random',\n",
              " 'randrange',\n",
              " 'sample',\n",
              " 'seed',\n",
              " 'setstate',\n",
              " 'shuffle',\n",
              " 'triangular',\n",
              " 'uniform',\n",
              " 'vonmisesvariate',\n",
              " 'weibullvariate']"
            ]
          },
          "metadata": {
            "tags": []
          },
          "execution_count": 86
        }
      ]
    },
    {
      "cell_type": "code",
      "metadata": {
        "id": "kjFNPNZPv4kz",
        "colab_type": "code",
        "outputId": "43efc3ca-d3b7-4df6-ddb9-450071acfb68",
        "colab": {
          "base_uri": "https://localhost:8080/",
          "height": 34
        }
      },
      "source": [
        "from collections import namedtuple\n",
        "\n",
        "User = namedtuple('User', ['purchased','time_on_site', 'mobile'])\n",
        "example_user = User(False, 12, False)\n",
        "example_user"
      ],
      "execution_count": 0,
      "outputs": [
        {
          "output_type": "execute_result",
          "data": {
            "text/plain": [
              "User(purchased=False, time_on_site=12, mobile=False)"
            ]
          },
          "metadata": {
            "tags": []
          },
          "execution_count": 87
        }
      ]
    },
    {
      "cell_type": "code",
      "metadata": {
        "id": "2Bbywho8wMhr",
        "colab_type": "code",
        "outputId": "6c7cd6b9-47e7-4fac-c917-12403b6bc034",
        "colab": {
          "base_uri": "https://localhost:8080/",
          "height": 34
        }
      },
      "source": [
        "example_user.time_on_site"
      ],
      "execution_count": 0,
      "outputs": [
        {
          "output_type": "execute_result",
          "data": {
            "text/plain": [
              "12"
            ]
          },
          "metadata": {
            "tags": []
          },
          "execution_count": 88
        }
      ]
    },
    {
      "cell_type": "code",
      "metadata": {
        "id": "BegVj_zTwSti",
        "colab_type": "code",
        "outputId": "8ede3003-6d41-4d75-b1b5-ceec8428ef91",
        "colab": {
          "base_uri": "https://localhost:8080/",
          "height": 184
        }
      },
      "source": [
        "# tuples are immutable\n",
        "example_user.time_on_site = 30"
      ],
      "execution_count": 0,
      "outputs": [
        {
          "output_type": "error",
          "ename": "AttributeError",
          "evalue": "ignored",
          "traceback": [
            "\u001b[0;31m---------------------------------------------------------------------------\u001b[0m",
            "\u001b[0;31mAttributeError\u001b[0m                            Traceback (most recent call last)",
            "\u001b[0;32m<ipython-input-89-4e4fee74e23a>\u001b[0m in \u001b[0;36m<module>\u001b[0;34m()\u001b[0m\n\u001b[0;32m----> 1\u001b[0;31m \u001b[0mexample_user\u001b[0m\u001b[0;34m.\u001b[0m\u001b[0mtime_on_site\u001b[0m \u001b[0;34m=\u001b[0m \u001b[0;36m30\u001b[0m\u001b[0;34m\u001b[0m\u001b[0;34m\u001b[0m\u001b[0m\n\u001b[0m",
            "\u001b[0;31mAttributeError\u001b[0m: can't set attribute"
          ]
        }
      ]
    },
    {
      "cell_type": "code",
      "metadata": {
        "id": "Ks5qFtpnq-q5",
        "colab_type": "code",
        "outputId": "e329f3da-6c19-43ee-a36c-1f27681f4bf2",
        "colab": {
          "base_uri": "https://localhost:8080/",
          "height": 34
        }
      },
      "source": [
        "# Let's think of another scenario:\n",
        "# We work for a company that sells accessories for mobile phones.\n",
        "# They have an ecommerce site, and we are supposed to analyze logs\n",
        "# to determine what sort of usage is related to purchases, and thus guide\n",
        "# website development to encourage higher conversion.\n",
        "\n",
        "# The hypothesis - users who spend longer on the site tend\n",
        "# to spend more. Seems reasonable, no?\n",
        "\n",
        "# But there's a confounding variable! If they're on a phone, they:\n",
        "# a) Spend less time on the site, but\n",
        "# b) Are more likely to be interested in the actual products!\n",
        "\n",
        "# Let's use namedtuple to represent our data\n",
        "\n",
        "from collections import namedtuple\n",
        "# purchased and mobile are bools, time_on_site in seconds\n",
        "User = namedtuple('User', ['purchased','time_on_site', 'mobile'])\n",
        "\n",
        "example_user = User(False, 12, False)\n",
        "print(example_user)"
      ],
      "execution_count": 0,
      "outputs": [
        {
          "output_type": "stream",
          "text": [
            "User(purchased=False, time_on_site=12, mobile=False)\n"
          ],
          "name": "stdout"
        }
      ]
    },
    {
      "cell_type": "code",
      "metadata": {
        "id": "lf3eZN_vxS9B",
        "colab_type": "code",
        "outputId": "02eaedb0-7462-4c1d-a036-8295d8d6c0cb",
        "colab": {
          "base_uri": "https://localhost:8080/",
          "height": 34
        }
      },
      "source": [
        "# random float between 10 and 600 seconds\n",
        "random.uniform(10, 600)"
      ],
      "execution_count": 0,
      "outputs": [
        {
          "output_type": "execute_result",
          "data": {
            "text/plain": [
              "245.77305260966776"
            ]
          },
          "metadata": {
            "tags": []
          },
          "execution_count": 91
        }
      ]
    },
    {
      "cell_type": "code",
      "metadata": {
        "id": "lfPiHNG_sefL",
        "colab_type": "code",
        "outputId": "c2d00e40-36d4-401c-e444-ad7d4720fe54",
        "colab": {
          "base_uri": "https://localhost:8080/",
          "height": 54
        }
      },
      "source": [
        "# And now let's generate 1000 example users\n",
        "# 750 mobile, 250 not (i.e. desktop)\n",
        "# A desktop user has a base conversion likelihood of 10%\n",
        "# And it goes up by 1% for each 15 seconds they spend on the site\n",
        "# And they spend anywhere from 10 seconds to 10 minutes on the site (uniform)\n",
        "# Mobile users spend on average half as much time on the site as desktop\n",
        "# But have three times as much base likelihood of buying something\n",
        "\n",
        "users = []\n",
        "\n",
        "for _ in range(250):\n",
        "  # Desktop users\n",
        "  time_on_site = random.uniform(10, 600)\n",
        "  purchased = random.random() < 0.1 + (time_on_site / 1500)\n",
        "  users.append(User(purchased, time_on_site, False))\n",
        "  \n",
        "for _ in range(750):\n",
        "  # Mobile users\n",
        "  time_on_site = random.uniform(5, 300)\n",
        "  purchased = random.random() < 0.3 + (time_on_site / 1500)\n",
        "  users.append(User(purchased, time_on_site, True))\n",
        "  \n",
        "random.shuffle(users)\n",
        "print(users[:10])"
      ],
      "execution_count": 0,
      "outputs": [
        {
          "output_type": "stream",
          "text": [
            "[User(purchased=True, time_on_site=241.2886953123564, mobile=True), User(purchased=False, time_on_site=133.21681391889956, mobile=True), User(purchased=False, time_on_site=80.90282863854814, mobile=True), User(purchased=False, time_on_site=10.54171183078693, mobile=True), User(purchased=False, time_on_site=84.97614362768064, mobile=True), User(purchased=True, time_on_site=31.201240844434874, mobile=True), User(purchased=False, time_on_site=415.4293037553443, mobile=False), User(purchased=False, time_on_site=23.667395082288348, mobile=True), User(purchased=False, time_on_site=39.0105815671542, mobile=True), User(purchased=False, time_on_site=113.18186006141289, mobile=True)]\n"
          ],
          "name": "stdout"
        }
      ]
    },
    {
      "cell_type": "code",
      "metadata": {
        "id": "GfPCkwV5yoLj",
        "colab_type": "code",
        "outputId": "652e1cc5-6680-499d-9ff4-2d4a4f131b25",
        "colab": {
          "base_uri": "https://localhost:8080/",
          "height": 207
        }
      },
      "source": [
        "# prints the output of the users going up and down instead of side to side \n",
        "users[:10]"
      ],
      "execution_count": 0,
      "outputs": [
        {
          "output_type": "execute_result",
          "data": {
            "text/plain": [
              "[User(purchased=True, time_on_site=241.2886953123564, mobile=True),\n",
              " User(purchased=False, time_on_site=133.21681391889956, mobile=True),\n",
              " User(purchased=False, time_on_site=80.90282863854814, mobile=True),\n",
              " User(purchased=False, time_on_site=10.54171183078693, mobile=True),\n",
              " User(purchased=False, time_on_site=84.97614362768064, mobile=True),\n",
              " User(purchased=True, time_on_site=31.201240844434874, mobile=True),\n",
              " User(purchased=False, time_on_site=415.4293037553443, mobile=False),\n",
              " User(purchased=False, time_on_site=23.667395082288348, mobile=True),\n",
              " User(purchased=False, time_on_site=39.0105815671542, mobile=True),\n",
              " User(purchased=False, time_on_site=113.18186006141289, mobile=True)]"
            ]
          },
          "metadata": {
            "tags": []
          },
          "execution_count": 93
        }
      ]
    },
    {
      "cell_type": "code",
      "metadata": {
        "id": "9gDYb5qGuRzy",
        "colab_type": "code",
        "outputId": "d0a662c3-77c0-4ddc-bacd-7ed59d783a3b",
        "colab": {
          "base_uri": "https://localhost:8080/",
          "height": 204
        }
      },
      "source": [
        "# Let's put this in a dataframe so we can look at it more easily\n",
        "import pandas as pd\n",
        "user_data = pd.DataFrame(users)\n",
        "user_data.head()"
      ],
      "execution_count": 0,
      "outputs": [
        {
          "output_type": "execute_result",
          "data": {
            "text/html": [
              "<div>\n",
              "<style scoped>\n",
              "    .dataframe tbody tr th:only-of-type {\n",
              "        vertical-align: middle;\n",
              "    }\n",
              "\n",
              "    .dataframe tbody tr th {\n",
              "        vertical-align: top;\n",
              "    }\n",
              "\n",
              "    .dataframe thead th {\n",
              "        text-align: right;\n",
              "    }\n",
              "</style>\n",
              "<table border=\"1\" class=\"dataframe\">\n",
              "  <thead>\n",
              "    <tr style=\"text-align: right;\">\n",
              "      <th></th>\n",
              "      <th>purchased</th>\n",
              "      <th>time_on_site</th>\n",
              "      <th>mobile</th>\n",
              "    </tr>\n",
              "  </thead>\n",
              "  <tbody>\n",
              "    <tr>\n",
              "      <th>0</th>\n",
              "      <td>True</td>\n",
              "      <td>241.288695</td>\n",
              "      <td>True</td>\n",
              "    </tr>\n",
              "    <tr>\n",
              "      <th>1</th>\n",
              "      <td>False</td>\n",
              "      <td>133.216814</td>\n",
              "      <td>True</td>\n",
              "    </tr>\n",
              "    <tr>\n",
              "      <th>2</th>\n",
              "      <td>False</td>\n",
              "      <td>80.902829</td>\n",
              "      <td>True</td>\n",
              "    </tr>\n",
              "    <tr>\n",
              "      <th>3</th>\n",
              "      <td>False</td>\n",
              "      <td>10.541712</td>\n",
              "      <td>True</td>\n",
              "    </tr>\n",
              "    <tr>\n",
              "      <th>4</th>\n",
              "      <td>False</td>\n",
              "      <td>84.976144</td>\n",
              "      <td>True</td>\n",
              "    </tr>\n",
              "  </tbody>\n",
              "</table>\n",
              "</div>"
            ],
            "text/plain": [
              "   purchased  time_on_site  mobile\n",
              "0       True    241.288695    True\n",
              "1      False    133.216814    True\n",
              "2      False     80.902829    True\n",
              "3      False     10.541712    True\n",
              "4      False     84.976144    True"
            ]
          },
          "metadata": {
            "tags": []
          },
          "execution_count": 94
        }
      ]
    },
    {
      "cell_type": "code",
      "metadata": {
        "id": "TIMjNOEvzKgq",
        "colab_type": "code",
        "outputId": "6f66fd0b-edd2-4431-aea9-059a32745519",
        "colab": {
          "base_uri": "https://localhost:8080/",
          "height": 269
        }
      },
      "source": [
        "user_data.time_on_site.hist();"
      ],
      "execution_count": 0,
      "outputs": [
        {
          "output_type": "display_data",
          "data": {
            "image/png": "[encoded data removed]",
            "text/plain": [
              "<Figure size 432x288 with 1 Axes>"
            ]
          },
          "metadata": {
            "tags": []
          }
        }
      ]
    },
    {
      "cell_type": "code",
      "metadata": {
        "id": "iYQwIaMMz2Ol",
        "colab_type": "code",
        "colab": {}
      },
      "source": [
        "import numpy as np "
      ],
      "execution_count": 0,
      "outputs": []
    },
    {
      "cell_type": "code",
      "metadata": {
        "id": "oHRQu_mpzyEl",
        "colab_type": "code",
        "outputId": "8b71915d-dda1-4a90-d33f-2df9e90d4617",
        "colab": {
          "base_uri": "https://localhost:8080/",
          "height": 34
        }
      },
      "source": [
        "# takes in mean and standard deviation; normalizes the histogram\n",
        "np.random.normal(10,2)"
      ],
      "execution_count": 0,
      "outputs": [
        {
          "output_type": "execute_result",
          "data": {
            "text/plain": [
              "9.883313599416839"
            ]
          },
          "metadata": {
            "tags": []
          },
          "execution_count": 97
        }
      ]
    },
    {
      "cell_type": "code",
      "metadata": {
        "id": "aO1bHkpR0XBL",
        "colab_type": "code",
        "outputId": "ec2ee319-907e-4c43-9b93-95e69e0a54da",
        "colab": {
          "base_uri": "https://localhost:8080/",
          "height": 54
        }
      },
      "source": [
        "# times modified to represent how much time they spend; more representative \n",
        "users = []\n",
        "\n",
        "for _ in range(250):\n",
        "  # Desktop users\n",
        "  time_on_site = np.random.normal(9.4*60, 3*60)\n",
        "  purchased = random.random() < 0.1 + (time_on_site / 1500)\n",
        "  users.append(User(purchased, time_on_site, False))\n",
        "  \n",
        "for _ in range(750):\n",
        "  # Mobile users\n",
        "  time_on_site = np.random.normal(7.5*60, 2.5*60)\n",
        "  purchased = random.random() < 0.3 + (time_on_site / 1500)\n",
        "  users.append(User(purchased, time_on_site, True))\n",
        "  \n",
        "random.shuffle(users)\n",
        "print(users[:10])"
      ],
      "execution_count": 0,
      "outputs": [
        {
          "output_type": "stream",
          "text": [
            "[User(purchased=False, time_on_site=463.18427759957945, mobile=True), User(purchased=False, time_on_site=425.39764306861963, mobile=True), User(purchased=True, time_on_site=457.4487250574005, mobile=True), User(purchased=True, time_on_site=472.20325151096256, mobile=True), User(purchased=False, time_on_site=462.8006166555106, mobile=True), User(purchased=False, time_on_site=271.50747653572677, mobile=False), User(purchased=True, time_on_site=427.5978577605387, mobile=False), User(purchased=True, time_on_site=574.687703178536, mobile=False), User(purchased=False, time_on_site=412.9549009976221, mobile=True), User(purchased=True, time_on_site=976.9483982160118, mobile=False)]\n"
          ],
          "name": "stdout"
        }
      ]
    },
    {
      "cell_type": "code",
      "metadata": {
        "id": "JqMxcRWT1YuU",
        "colab_type": "code",
        "outputId": "0af5a16e-21c8-4370-84dd-693b6c4c9df4",
        "colab": {
          "base_uri": "https://localhost:8080/",
          "height": 207
        }
      },
      "source": [
        "users[:10]"
      ],
      "execution_count": 0,
      "outputs": [
        {
          "output_type": "execute_result",
          "data": {
            "text/plain": [
              "[User(purchased=False, time_on_site=463.18427759957945, mobile=True),\n",
              " User(purchased=False, time_on_site=425.39764306861963, mobile=True),\n",
              " User(purchased=True, time_on_site=457.4487250574005, mobile=True),\n",
              " User(purchased=True, time_on_site=472.20325151096256, mobile=True),\n",
              " User(purchased=False, time_on_site=462.8006166555106, mobile=True),\n",
              " User(purchased=False, time_on_site=271.50747653572677, mobile=False),\n",
              " User(purchased=True, time_on_site=427.5978577605387, mobile=False),\n",
              " User(purchased=True, time_on_site=574.687703178536, mobile=False),\n",
              " User(purchased=False, time_on_site=412.9549009976221, mobile=True),\n",
              " User(purchased=True, time_on_site=976.9483982160118, mobile=False)]"
            ]
          },
          "metadata": {
            "tags": []
          },
          "execution_count": 99
        }
      ]
    },
    {
      "cell_type": "code",
      "metadata": {
        "id": "e0LoA6j_1gs_",
        "colab_type": "code",
        "outputId": "a170d02a-09cc-4264-f6c0-62cdd86feb69",
        "colab": {
          "base_uri": "https://localhost:8080/",
          "height": 204
        }
      },
      "source": [
        "user_data = pd.DataFrame(users)\n",
        "user_data.head()"
      ],
      "execution_count": 0,
      "outputs": [
        {
          "output_type": "execute_result",
          "data": {
            "text/html": [
              "<div>\n",
              "<style scoped>\n",
              "    .dataframe tbody tr th:only-of-type {\n",
              "        vertical-align: middle;\n",
              "    }\n",
              "\n",
              "    .dataframe tbody tr th {\n",
              "        vertical-align: top;\n",
              "    }\n",
              "\n",
              "    .dataframe thead th {\n",
              "        text-align: right;\n",
              "    }\n",
              "</style>\n",
              "<table border=\"1\" class=\"dataframe\">\n",
              "  <thead>\n",
              "    <tr style=\"text-align: right;\">\n",
              "      <th></th>\n",
              "      <th>purchased</th>\n",
              "      <th>time_on_site</th>\n",
              "      <th>mobile</th>\n",
              "    </tr>\n",
              "  </thead>\n",
              "  <tbody>\n",
              "    <tr>\n",
              "      <th>0</th>\n",
              "      <td>False</td>\n",
              "      <td>463.184278</td>\n",
              "      <td>True</td>\n",
              "    </tr>\n",
              "    <tr>\n",
              "      <th>1</th>\n",
              "      <td>False</td>\n",
              "      <td>425.397643</td>\n",
              "      <td>True</td>\n",
              "    </tr>\n",
              "    <tr>\n",
              "      <th>2</th>\n",
              "      <td>True</td>\n",
              "      <td>457.448725</td>\n",
              "      <td>True</td>\n",
              "    </tr>\n",
              "    <tr>\n",
              "      <th>3</th>\n",
              "      <td>True</td>\n",
              "      <td>472.203252</td>\n",
              "      <td>True</td>\n",
              "    </tr>\n",
              "    <tr>\n",
              "      <th>4</th>\n",
              "      <td>False</td>\n",
              "      <td>462.800617</td>\n",
              "      <td>True</td>\n",
              "    </tr>\n",
              "  </tbody>\n",
              "</table>\n",
              "</div>"
            ],
            "text/plain": [
              "   purchased  time_on_site  mobile\n",
              "0      False    463.184278    True\n",
              "1      False    425.397643    True\n",
              "2       True    457.448725    True\n",
              "3       True    472.203252    True\n",
              "4      False    462.800617    True"
            ]
          },
          "metadata": {
            "tags": []
          },
          "execution_count": 100
        }
      ]
    },
    {
      "cell_type": "code",
      "metadata": {
        "id": "1bflVqLR4H79",
        "colab_type": "code",
        "outputId": "07b9a02e-c275-491f-ff9f-a4e85b0aff5f",
        "colab": {
          "base_uri": "https://localhost:8080/",
          "height": 204
        }
      },
      "source": [
        "user_data['time_on_site_min'] = user_data['time_on_site'] / 60 \n",
        "user_data.head()"
      ],
      "execution_count": 0,
      "outputs": [
        {
          "output_type": "execute_result",
          "data": {
            "text/html": [
              "<div>\n",
              "<style scoped>\n",
              "    .dataframe tbody tr th:only-of-type {\n",
              "        vertical-align: middle;\n",
              "    }\n",
              "\n",
              "    .dataframe tbody tr th {\n",
              "        vertical-align: top;\n",
              "    }\n",
              "\n",
              "    .dataframe thead th {\n",
              "        text-align: right;\n",
              "    }\n",
              "</style>\n",
              "<table border=\"1\" class=\"dataframe\">\n",
              "  <thead>\n",
              "    <tr style=\"text-align: right;\">\n",
              "      <th></th>\n",
              "      <th>purchased</th>\n",
              "      <th>time_on_site</th>\n",
              "      <th>mobile</th>\n",
              "      <th>time_on_site_min</th>\n",
              "    </tr>\n",
              "  </thead>\n",
              "  <tbody>\n",
              "    <tr>\n",
              "      <th>0</th>\n",
              "      <td>False</td>\n",
              "      <td>463.184278</td>\n",
              "      <td>True</td>\n",
              "      <td>7.719738</td>\n",
              "    </tr>\n",
              "    <tr>\n",
              "      <th>1</th>\n",
              "      <td>False</td>\n",
              "      <td>425.397643</td>\n",
              "      <td>True</td>\n",
              "      <td>7.089961</td>\n",
              "    </tr>\n",
              "    <tr>\n",
              "      <th>2</th>\n",
              "      <td>True</td>\n",
              "      <td>457.448725</td>\n",
              "      <td>True</td>\n",
              "      <td>7.624145</td>\n",
              "    </tr>\n",
              "    <tr>\n",
              "      <th>3</th>\n",
              "      <td>True</td>\n",
              "      <td>472.203252</td>\n",
              "      <td>True</td>\n",
              "      <td>7.870054</td>\n",
              "    </tr>\n",
              "    <tr>\n",
              "      <th>4</th>\n",
              "      <td>False</td>\n",
              "      <td>462.800617</td>\n",
              "      <td>True</td>\n",
              "      <td>7.713344</td>\n",
              "    </tr>\n",
              "  </tbody>\n",
              "</table>\n",
              "</div>"
            ],
            "text/plain": [
              "   purchased  time_on_site  mobile  time_on_site_min\n",
              "0      False    463.184278    True          7.719738\n",
              "1      False    425.397643    True          7.089961\n",
              "2       True    457.448725    True          7.624145\n",
              "3       True    472.203252    True          7.870054\n",
              "4      False    462.800617    True          7.713344"
            ]
          },
          "metadata": {
            "tags": []
          },
          "execution_count": 101
        }
      ]
    },
    {
      "cell_type": "code",
      "metadata": {
        "id": "VGffK8qe4WQO",
        "colab_type": "code",
        "outputId": "be05dfe3-78ed-43b9-b1b9-d9cb363f1101",
        "colab": {
          "base_uri": "https://localhost:8080/",
          "height": 424
        }
      },
      "source": [
        "import matplotlib.pyplot as plt\n",
        "\n",
        "user_data.groupby('mobile').time_on_site_min.hist(bins=20, alpha=0.5, figsize=(10,6))\n",
        "plt.title('Time on Site by Source (Desktop vs. Mobile in minutes)')\n",
        "plt.ylabel('Count')\n",
        "plt.xlabel('Time in Minutes')\n",
        "plt.legend(['Desktop', 'Mobile'])\n",
        "plt.show()"
      ],
      "execution_count": 0,
      "outputs": [
        {
          "output_type": "display_data",
          "data": {
            "image/png": "[encoded data removed]",
            "text/plain": [
              "<Figure size 720x432 with 1 Axes>"
            ]
          },
          "metadata": {
            "tags": []
          }
        }
      ]
    },
    {
      "cell_type": "code",
      "metadata": {
        "id": "Iasl11U76CT2",
        "colab_type": "code",
        "outputId": "144b70eb-8665-448b-9dae-23f0610858b2",
        "colab": {
          "base_uri": "https://localhost:8080/",
          "height": 80
        }
      },
      "source": [
        "# locating the data points that are negative because no time spent can be negative\n",
        "user_data[user_data.time_on_site < 0.0]"
      ],
      "execution_count": 0,
      "outputs": [
        {
          "output_type": "execute_result",
          "data": {
            "text/html": [
              "<div>\n",
              "<style scoped>\n",
              "    .dataframe tbody tr th:only-of-type {\n",
              "        vertical-align: middle;\n",
              "    }\n",
              "\n",
              "    .dataframe tbody tr th {\n",
              "        vertical-align: top;\n",
              "    }\n",
              "\n",
              "    .dataframe thead th {\n",
              "        text-align: right;\n",
              "    }\n",
              "</style>\n",
              "<table border=\"1\" class=\"dataframe\">\n",
              "  <thead>\n",
              "    <tr style=\"text-align: right;\">\n",
              "      <th></th>\n",
              "      <th>purchased</th>\n",
              "      <th>time_on_site</th>\n",
              "      <th>mobile</th>\n",
              "      <th>time_on_site_min</th>\n",
              "    </tr>\n",
              "  </thead>\n",
              "  <tbody>\n",
              "    <tr>\n",
              "      <th>974</th>\n",
              "      <td>False</td>\n",
              "      <td>-23.55527</td>\n",
              "      <td>True</td>\n",
              "      <td>-0.392588</td>\n",
              "    </tr>\n",
              "  </tbody>\n",
              "</table>\n",
              "</div>"
            ],
            "text/plain": [
              "     purchased  time_on_site  mobile  time_on_site_min\n",
              "974      False     -23.55527    True         -0.392588"
            ]
          },
          "metadata": {
            "tags": []
          },
          "execution_count": 103
        }
      ]
    },
    {
      "cell_type": "code",
      "metadata": {
        "id": "C4tCLTjf6NXO",
        "colab_type": "code",
        "colab": {}
      },
      "source": [
        "# overriding those negative values with zero\n",
        "user_data.loc[user_data['time_on_site'] < 0.0, 'time_on_site'] = 0.0"
      ],
      "execution_count": 0,
      "outputs": []
    },
    {
      "cell_type": "code",
      "metadata": {
        "id": "HjXPWggB6pi-",
        "colab_type": "code",
        "outputId": "a956420f-2911-4eca-98ea-d38db2314b6e",
        "colab": {
          "base_uri": "https://localhost:8080/",
          "height": 49
        }
      },
      "source": [
        "# rechecking to confirm that they actually been changed to zero\n",
        "user_data[user_data.time_on_site < 0.0]"
      ],
      "execution_count": 0,
      "outputs": [
        {
          "output_type": "execute_result",
          "data": {
            "text/html": [
              "<div>\n",
              "<style scoped>\n",
              "    .dataframe tbody tr th:only-of-type {\n",
              "        vertical-align: middle;\n",
              "    }\n",
              "\n",
              "    .dataframe tbody tr th {\n",
              "        vertical-align: top;\n",
              "    }\n",
              "\n",
              "    .dataframe thead th {\n",
              "        text-align: right;\n",
              "    }\n",
              "</style>\n",
              "<table border=\"1\" class=\"dataframe\">\n",
              "  <thead>\n",
              "    <tr style=\"text-align: right;\">\n",
              "      <th></th>\n",
              "      <th>purchased</th>\n",
              "      <th>time_on_site</th>\n",
              "      <th>mobile</th>\n",
              "      <th>time_on_site_min</th>\n",
              "    </tr>\n",
              "  </thead>\n",
              "  <tbody>\n",
              "  </tbody>\n",
              "</table>\n",
              "</div>"
            ],
            "text/plain": [
              "Empty DataFrame\n",
              "Columns: [purchased, time_on_site, mobile, time_on_site_min]\n",
              "Index: []"
            ]
          },
          "metadata": {
            "tags": []
          },
          "execution_count": 105
        }
      ]
    },
    {
      "cell_type": "code",
      "metadata": {
        "id": "rfyrqUj27qnQ",
        "colab_type": "code",
        "outputId": "27e0ba50-7d28-4a42-8f32-5cf804b794e3",
        "colab": {
          "base_uri": "https://localhost:8080/",
          "height": 204
        }
      },
      "source": [
        "user_data['time_on_site_min'] = user_data['time_on_site'] / 60 \n",
        "user_data.head()"
      ],
      "execution_count": 0,
      "outputs": [
        {
          "output_type": "execute_result",
          "data": {
            "text/html": [
              "<div>\n",
              "<style scoped>\n",
              "    .dataframe tbody tr th:only-of-type {\n",
              "        vertical-align: middle;\n",
              "    }\n",
              "\n",
              "    .dataframe tbody tr th {\n",
              "        vertical-align: top;\n",
              "    }\n",
              "\n",
              "    .dataframe thead th {\n",
              "        text-align: right;\n",
              "    }\n",
              "</style>\n",
              "<table border=\"1\" class=\"dataframe\">\n",
              "  <thead>\n",
              "    <tr style=\"text-align: right;\">\n",
              "      <th></th>\n",
              "      <th>purchased</th>\n",
              "      <th>time_on_site</th>\n",
              "      <th>mobile</th>\n",
              "      <th>time_on_site_min</th>\n",
              "    </tr>\n",
              "  </thead>\n",
              "  <tbody>\n",
              "    <tr>\n",
              "      <th>0</th>\n",
              "      <td>False</td>\n",
              "      <td>463.184278</td>\n",
              "      <td>True</td>\n",
              "      <td>7.719738</td>\n",
              "    </tr>\n",
              "    <tr>\n",
              "      <th>1</th>\n",
              "      <td>False</td>\n",
              "      <td>425.397643</td>\n",
              "      <td>True</td>\n",
              "      <td>7.089961</td>\n",
              "    </tr>\n",
              "    <tr>\n",
              "      <th>2</th>\n",
              "      <td>True</td>\n",
              "      <td>457.448725</td>\n",
              "      <td>True</td>\n",
              "      <td>7.624145</td>\n",
              "    </tr>\n",
              "    <tr>\n",
              "      <th>3</th>\n",
              "      <td>True</td>\n",
              "      <td>472.203252</td>\n",
              "      <td>True</td>\n",
              "      <td>7.870054</td>\n",
              "    </tr>\n",
              "    <tr>\n",
              "      <th>4</th>\n",
              "      <td>False</td>\n",
              "      <td>462.800617</td>\n",
              "      <td>True</td>\n",
              "      <td>7.713344</td>\n",
              "    </tr>\n",
              "  </tbody>\n",
              "</table>\n",
              "</div>"
            ],
            "text/plain": [
              "   purchased  time_on_site  mobile  time_on_site_min\n",
              "0      False    463.184278    True          7.719738\n",
              "1      False    425.397643    True          7.089961\n",
              "2       True    457.448725    True          7.624145\n",
              "3       True    472.203252    True          7.870054\n",
              "4      False    462.800617    True          7.713344"
            ]
          },
          "metadata": {
            "tags": []
          },
          "execution_count": 107
        }
      ]
    },
    {
      "cell_type": "code",
      "metadata": {
        "id": "V7jpxy467Srd",
        "colab_type": "code",
        "outputId": "b89ac4ab-13bc-4853-82b9-b103a5a6755c",
        "colab": {
          "base_uri": "https://localhost:8080/",
          "height": 424
        }
      },
      "source": [
        "# cut off at zero and there are no more negative values \n",
        "user_data.groupby('mobile').time_on_site_min.hist(bins=20, alpha=0.5, figsize=(10,6))\n",
        "plt.title('Time on Site by Source (Desktop vs. Mobile in minutes)')\n",
        "plt.ylabel('Count')\n",
        "plt.xlabel('Time in Minutes')\n",
        "plt.legend(['Desktop', 'Mobile'])\n",
        "plt.show()"
      ],
      "execution_count": 0,
      "outputs": [
        {
          "output_type": "display_data",
          "data": {
            "image/png": "[encoded data removed]",
            "text/plain": [
              "<Figure size 720x432 with 1 Axes>"
            ]
          },
          "metadata": {
            "tags": []
          }
        }
      ]
    },
    {
      "cell_type": "code",
      "metadata": {
        "id": "i3ukyz1_1lPC",
        "colab_type": "code",
        "outputId": "f5547c17-03c6-4734-ad30-d16c74435a1e",
        "colab": {
          "base_uri": "https://localhost:8080/",
          "height": 269
        }
      },
      "source": [
        " user_data.time_on_site.hist();"
      ],
      "execution_count": 0,
      "outputs": [
        {
          "output_type": "display_data",
          "data": {
            "image/png": "[encoded data removed]",
            "text/plain": [
              "<Figure size 432x288 with 1 Axes>"
            ]
          },
          "metadata": {
            "tags": []
          }
        }
      ]
    },
    {
      "cell_type": "code",
      "metadata": {
        "id": "-DAVSZEn12mf",
        "colab_type": "code",
        "colab": {}
      },
      "source": [
        "?pd.crosstab()"
      ],
      "execution_count": 0,
      "outputs": []
    },
    {
      "cell_type": "code",
      "metadata": {
        "id": "sr6IJv77ulVl",
        "colab_type": "code",
        "outputId": "d2555a84-fc5c-4e98-bcaa-0038bf658f9f",
        "colab": {
          "base_uri": "https://localhost:8080/",
          "height": 191
        }
      },
      "source": [
        "# Let's use crosstabulation to try to see what's going on\n",
        "pd.crosstab(user_data['purchased'], user_data['time_on_site'])"
      ],
      "execution_count": 0,
      "outputs": [
        {
          "output_type": "execute_result",
          "data": {
            "text/html": [
              "<div>\n",
              "<style scoped>\n",
              "    .dataframe tbody tr th:only-of-type {\n",
              "        vertical-align: middle;\n",
              "    }\n",
              "\n",
              "    .dataframe tbody tr th {\n",
              "        vertical-align: top;\n",
              "    }\n",
              "\n",
              "    .dataframe thead th {\n",
              "        text-align: right;\n",
              "    }\n",
              "</style>\n",
              "<table border=\"1\" class=\"dataframe\">\n",
              "  <thead>\n",
              "    <tr style=\"text-align: right;\">\n",
              "      <th>time_on_site</th>\n",
              "      <th>0.0</th>\n",
              "      <th>61.15572500887794</th>\n",
              "      <th>68.65298111854128</th>\n",
              "      <th>73.8679353322072</th>\n",
              "      <th>74.16657852057915</th>\n",
              "      <th>84.9502637179018</th>\n",
              "      <th>92.22421469318886</th>\n",
              "      <th>105.00147413258048</th>\n",
              "      <th>106.55356329697594</th>\n",
              "      <th>110.19604558218816</th>\n",
              "      <th>112.42983960741219</th>\n",
              "      <th>120.49480987714543</th>\n",
              "      <th>121.6548214381229</th>\n",
              "      <th>122.69385138616866</th>\n",
              "      <th>126.23581852795422</th>\n",
              "      <th>131.10827800525436</th>\n",
              "      <th>138.39825677797512</th>\n",
              "      <th>139.067167112604</th>\n",
              "      <th>144.4187308223154</th>\n",
              "      <th>148.70434022333006</th>\n",
              "      <th>149.3904781933776</th>\n",
              "      <th>151.16663405689343</th>\n",
              "      <th>152.0895069268284</th>\n",
              "      <th>157.87753428402414</th>\n",
              "      <th>161.7980542619764</th>\n",
              "      <th>162.65396195819346</th>\n",
              "      <th>172.9249305241193</th>\n",
              "      <th>175.99745848176303</th>\n",
              "      <th>177.8138190684818</th>\n",
              "      <th>178.35534606458577</th>\n",
              "      <th>178.84277704072605</th>\n",
              "      <th>181.31441818218912</th>\n",
              "      <th>184.85660921115988</th>\n",
              "      <th>187.74139766016282</th>\n",
              "      <th>200.05837946087647</th>\n",
              "      <th>201.02274511108996</th>\n",
              "      <th>201.2508091196836</th>\n",
              "      <th>203.2154897874893</th>\n",
              "      <th>204.33178068576478</th>\n",
              "      <th>204.58806515198222</th>\n",
              "      <th>...</th>\n",
              "      <th>759.1877283281601</th>\n",
              "      <th>765.4436263373055</th>\n",
              "      <th>765.9222051687849</th>\n",
              "      <th>775.7878565385452</th>\n",
              "      <th>777.1312839705001</th>\n",
              "      <th>781.1393183786876</th>\n",
              "      <th>783.509053057723</th>\n",
              "      <th>785.6959037479375</th>\n",
              "      <th>786.2282160297309</th>\n",
              "      <th>787.9744679496446</th>\n",
              "      <th>792.1061783795433</th>\n",
              "      <th>793.9991150653282</th>\n",
              "      <th>798.0893837271219</th>\n",
              "      <th>799.1095019691248</th>\n",
              "      <th>806.5360372748316</th>\n",
              "      <th>806.8104220101269</th>\n",
              "      <th>807.8449678177365</th>\n",
              "      <th>808.8606007557557</th>\n",
              "      <th>811.7247492284041</th>\n",
              "      <th>815.8171029538001</th>\n",
              "      <th>815.9154296544302</th>\n",
              "      <th>819.9085881547421</th>\n",
              "      <th>822.9055739208484</th>\n",
              "      <th>823.399679149622</th>\n",
              "      <th>823.9968207690285</th>\n",
              "      <th>829.6916044499446</th>\n",
              "      <th>839.8417023945153</th>\n",
              "      <th>846.4876656374136</th>\n",
              "      <th>848.0454059972963</th>\n",
              "      <th>857.3038135687202</th>\n",
              "      <th>891.3131134492289</th>\n",
              "      <th>895.5108309281748</th>\n",
              "      <th>905.519495723516</th>\n",
              "      <th>913.368369435672</th>\n",
              "      <th>932.3223368715117</th>\n",
              "      <th>976.9483982160118</th>\n",
              "      <th>1012.8142295890593</th>\n",
              "      <th>1053.6810481017328</th>\n",
              "      <th>1066.2585034630545</th>\n",
              "      <th>1130.5614773934014</th>\n",
              "    </tr>\n",
              "    <tr>\n",
              "      <th>purchased</th>\n",
              "      <th></th>\n",
              "      <th></th>\n",
              "      <th></th>\n",
              "      <th></th>\n",
              "      <th></th>\n",
              "      <th></th>\n",
              "      <th></th>\n",
              "      <th></th>\n",
              "      <th></th>\n",
              "      <th></th>\n",
              "      <th></th>\n",
              "      <th></th>\n",
              "      <th></th>\n",
              "      <th></th>\n",
              "      <th></th>\n",
              "      <th></th>\n",
              "      <th></th>\n",
              "      <th></th>\n",
              "      <th></th>\n",
              "      <th></th>\n",
              "      <th></th>\n",
              "      <th></th>\n",
              "      <th></th>\n",
              "      <th></th>\n",
              "      <th></th>\n",
              "      <th></th>\n",
              "      <th></th>\n",
              "      <th></th>\n",
              "      <th></th>\n",
              "      <th></th>\n",
              "      <th></th>\n",
              "      <th></th>\n",
              "      <th></th>\n",
              "      <th></th>\n",
              "      <th></th>\n",
              "      <th></th>\n",
              "      <th></th>\n",
              "      <th></th>\n",
              "      <th></th>\n",
              "      <th></th>\n",
              "      <th></th>\n",
              "      <th></th>\n",
              "      <th></th>\n",
              "      <th></th>\n",
              "      <th></th>\n",
              "      <th></th>\n",
              "      <th></th>\n",
              "      <th></th>\n",
              "      <th></th>\n",
              "      <th></th>\n",
              "      <th></th>\n",
              "      <th></th>\n",
              "      <th></th>\n",
              "      <th></th>\n",
              "      <th></th>\n",
              "      <th></th>\n",
              "      <th></th>\n",
              "      <th></th>\n",
              "      <th></th>\n",
              "      <th></th>\n",
              "      <th></th>\n",
              "      <th></th>\n",
              "      <th></th>\n",
              "      <th></th>\n",
              "      <th></th>\n",
              "      <th></th>\n",
              "      <th></th>\n",
              "      <th></th>\n",
              "      <th></th>\n",
              "      <th></th>\n",
              "      <th></th>\n",
              "      <th></th>\n",
              "      <th></th>\n",
              "      <th></th>\n",
              "      <th></th>\n",
              "      <th></th>\n",
              "      <th></th>\n",
              "      <th></th>\n",
              "      <th></th>\n",
              "      <th></th>\n",
              "      <th></th>\n",
              "    </tr>\n",
              "  </thead>\n",
              "  <tbody>\n",
              "    <tr>\n",
              "      <th>False</th>\n",
              "      <td>1</td>\n",
              "      <td>0</td>\n",
              "      <td>1</td>\n",
              "      <td>0</td>\n",
              "      <td>1</td>\n",
              "      <td>1</td>\n",
              "      <td>1</td>\n",
              "      <td>1</td>\n",
              "      <td>1</td>\n",
              "      <td>1</td>\n",
              "      <td>1</td>\n",
              "      <td>1</td>\n",
              "      <td>1</td>\n",
              "      <td>1</td>\n",
              "      <td>1</td>\n",
              "      <td>0</td>\n",
              "      <td>0</td>\n",
              "      <td>0</td>\n",
              "      <td>0</td>\n",
              "      <td>0</td>\n",
              "      <td>0</td>\n",
              "      <td>1</td>\n",
              "      <td>0</td>\n",
              "      <td>1</td>\n",
              "      <td>0</td>\n",
              "      <td>1</td>\n",
              "      <td>0</td>\n",
              "      <td>0</td>\n",
              "      <td>1</td>\n",
              "      <td>0</td>\n",
              "      <td>1</td>\n",
              "      <td>0</td>\n",
              "      <td>0</td>\n",
              "      <td>0</td>\n",
              "      <td>1</td>\n",
              "      <td>0</td>\n",
              "      <td>0</td>\n",
              "      <td>1</td>\n",
              "      <td>1</td>\n",
              "      <td>1</td>\n",
              "      <td>...</td>\n",
              "      <td>1</td>\n",
              "      <td>0</td>\n",
              "      <td>0</td>\n",
              "      <td>1</td>\n",
              "      <td>0</td>\n",
              "      <td>0</td>\n",
              "      <td>1</td>\n",
              "      <td>0</td>\n",
              "      <td>0</td>\n",
              "      <td>1</td>\n",
              "      <td>0</td>\n",
              "      <td>0</td>\n",
              "      <td>0</td>\n",
              "      <td>1</td>\n",
              "      <td>1</td>\n",
              "      <td>0</td>\n",
              "      <td>1</td>\n",
              "      <td>0</td>\n",
              "      <td>0</td>\n",
              "      <td>1</td>\n",
              "      <td>1</td>\n",
              "      <td>0</td>\n",
              "      <td>0</td>\n",
              "      <td>1</td>\n",
              "      <td>0</td>\n",
              "      <td>0</td>\n",
              "      <td>1</td>\n",
              "      <td>0</td>\n",
              "      <td>0</td>\n",
              "      <td>0</td>\n",
              "      <td>0</td>\n",
              "      <td>0</td>\n",
              "      <td>1</td>\n",
              "      <td>0</td>\n",
              "      <td>0</td>\n",
              "      <td>0</td>\n",
              "      <td>0</td>\n",
              "      <td>1</td>\n",
              "      <td>0</td>\n",
              "      <td>0</td>\n",
              "    </tr>\n",
              "    <tr>\n",
              "      <th>True</th>\n",
              "      <td>0</td>\n",
              "      <td>1</td>\n",
              "      <td>0</td>\n",
              "      <td>1</td>\n",
              "      <td>0</td>\n",
              "      <td>0</td>\n",
              "      <td>0</td>\n",
              "      <td>0</td>\n",
              "      <td>0</td>\n",
              "      <td>0</td>\n",
              "      <td>0</td>\n",
              "      <td>0</td>\n",
              "      <td>0</td>\n",
              "      <td>0</td>\n",
              "      <td>0</td>\n",
              "      <td>1</td>\n",
              "      <td>1</td>\n",
              "      <td>1</td>\n",
              "      <td>1</td>\n",
              "      <td>1</td>\n",
              "      <td>1</td>\n",
              "      <td>0</td>\n",
              "      <td>1</td>\n",
              "      <td>0</td>\n",
              "      <td>1</td>\n",
              "      <td>0</td>\n",
              "      <td>1</td>\n",
              "      <td>1</td>\n",
              "      <td>0</td>\n",
              "      <td>1</td>\n",
              "      <td>0</td>\n",
              "      <td>1</td>\n",
              "      <td>1</td>\n",
              "      <td>1</td>\n",
              "      <td>0</td>\n",
              "      <td>1</td>\n",
              "      <td>1</td>\n",
              "      <td>0</td>\n",
              "      <td>0</td>\n",
              "      <td>0</td>\n",
              "      <td>...</td>\n",
              "      <td>0</td>\n",
              "      <td>1</td>\n",
              "      <td>1</td>\n",
              "      <td>0</td>\n",
              "      <td>1</td>\n",
              "      <td>1</td>\n",
              "      <td>0</td>\n",
              "      <td>1</td>\n",
              "      <td>1</td>\n",
              "      <td>0</td>\n",
              "      <td>1</td>\n",
              "      <td>1</td>\n",
              "      <td>1</td>\n",
              "      <td>0</td>\n",
              "      <td>0</td>\n",
              "      <td>1</td>\n",
              "      <td>0</td>\n",
              "      <td>1</td>\n",
              "      <td>1</td>\n",
              "      <td>0</td>\n",
              "      <td>0</td>\n",
              "      <td>1</td>\n",
              "      <td>1</td>\n",
              "      <td>0</td>\n",
              "      <td>1</td>\n",
              "      <td>1</td>\n",
              "      <td>0</td>\n",
              "      <td>1</td>\n",
              "      <td>1</td>\n",
              "      <td>1</td>\n",
              "      <td>1</td>\n",
              "      <td>1</td>\n",
              "      <td>0</td>\n",
              "      <td>1</td>\n",
              "      <td>1</td>\n",
              "      <td>1</td>\n",
              "      <td>1</td>\n",
              "      <td>0</td>\n",
              "      <td>1</td>\n",
              "      <td>1</td>\n",
              "    </tr>\n",
              "  </tbody>\n",
              "</table>\n",
              "<p>2 rows × 1000 columns</p>\n",
              "</div>"
            ],
            "text/plain": [
              "time_on_site  0.000000     61.155725    ...  1066.258503  1130.561477\n",
              "purchased                               ...                          \n",
              "False                   1            0  ...            0            0\n",
              "True                    0            1  ...            1            1\n",
              "\n",
              "[2 rows x 1000 columns]"
            ]
          },
          "metadata": {
            "tags": []
          },
          "execution_count": 110
        }
      ]
    },
    {
      "cell_type": "code",
      "metadata": {
        "id": "hvAv6J3EwA9s",
        "colab_type": "code",
        "outputId": "67d1e9ad-8ff2-42c3-d3ee-defd994780b9",
        "colab": {
          "base_uri": "https://localhost:8080/",
          "height": 235
        }
      },
      "source": [
        "# OK, that's not quite what we want\n",
        "# Time is continuous! We need to put it in discrete buckets\n",
        "# Pandas calls these bins, and pandas.cut helps make them\n",
        "\n",
        "time_bins = pd.cut(user_data['time_on_site_min'], 5)  # 5 equal-sized bins\n",
        "pd.crosstab(time_bins, user_data['purchased'])"
      ],
      "execution_count": 0,
      "outputs": [
        {
          "output_type": "execute_result",
          "data": {
            "text/html": [
              "<div>\n",
              "<style scoped>\n",
              "    .dataframe tbody tr th:only-of-type {\n",
              "        vertical-align: middle;\n",
              "    }\n",
              "\n",
              "    .dataframe tbody tr th {\n",
              "        vertical-align: top;\n",
              "    }\n",
              "\n",
              "    .dataframe thead th {\n",
              "        text-align: right;\n",
              "    }\n",
              "</style>\n",
              "<table border=\"1\" class=\"dataframe\">\n",
              "  <thead>\n",
              "    <tr style=\"text-align: right;\">\n",
              "      <th>purchased</th>\n",
              "      <th>False</th>\n",
              "      <th>True</th>\n",
              "    </tr>\n",
              "    <tr>\n",
              "      <th>time_on_site_min</th>\n",
              "      <th></th>\n",
              "      <th></th>\n",
              "    </tr>\n",
              "  </thead>\n",
              "  <tbody>\n",
              "    <tr>\n",
              "      <th>(-0.0188, 3.769]</th>\n",
              "      <td>31</td>\n",
              "      <td>22</td>\n",
              "    </tr>\n",
              "    <tr>\n",
              "      <th>(3.769, 7.537]</th>\n",
              "      <td>211</td>\n",
              "      <td>184</td>\n",
              "    </tr>\n",
              "    <tr>\n",
              "      <th>(7.537, 11.306]</th>\n",
              "      <td>150</td>\n",
              "      <td>282</td>\n",
              "    </tr>\n",
              "    <tr>\n",
              "      <th>(11.306, 15.074]</th>\n",
              "      <td>40</td>\n",
              "      <td>72</td>\n",
              "    </tr>\n",
              "    <tr>\n",
              "      <th>(15.074, 18.843]</th>\n",
              "      <td>2</td>\n",
              "      <td>6</td>\n",
              "    </tr>\n",
              "  </tbody>\n",
              "</table>\n",
              "</div>"
            ],
            "text/plain": [
              "purchased         False  True \n",
              "time_on_site_min              \n",
              "(-0.0188, 3.769]     31     22\n",
              "(3.769, 7.537]      211    184\n",
              "(7.537, 11.306]     150    282\n",
              "(11.306, 15.074]     40     72\n",
              "(15.074, 18.843]      2      6"
            ]
          },
          "metadata": {
            "tags": []
          },
          "execution_count": 114
        }
      ]
    },
    {
      "cell_type": "code",
      "metadata": {
        "id": "mNKUyJ2i9u7B",
        "colab_type": "code",
        "outputId": "6cc8b1d2-7029-4c56-c776-a07a2b1754fb",
        "colab": {
          "base_uri": "https://localhost:8080/",
          "height": 235
        }
      },
      "source": [
        "# looking at percentages column-wise\n",
        "time_bins = pd.cut(user_data['time_on_site_min'], 5)  # 5 equal-sized bins\n",
        "pd.crosstab(time_bins, user_data['purchased'], normalize='columns')"
      ],
      "execution_count": 0,
      "outputs": [
        {
          "output_type": "execute_result",
          "data": {
            "text/html": [
              "<div>\n",
              "<style scoped>\n",
              "    .dataframe tbody tr th:only-of-type {\n",
              "        vertical-align: middle;\n",
              "    }\n",
              "\n",
              "    .dataframe tbody tr th {\n",
              "        vertical-align: top;\n",
              "    }\n",
              "\n",
              "    .dataframe thead th {\n",
              "        text-align: right;\n",
              "    }\n",
              "</style>\n",
              "<table border=\"1\" class=\"dataframe\">\n",
              "  <thead>\n",
              "    <tr style=\"text-align: right;\">\n",
              "      <th>purchased</th>\n",
              "      <th>False</th>\n",
              "      <th>True</th>\n",
              "    </tr>\n",
              "    <tr>\n",
              "      <th>time_on_site_min</th>\n",
              "      <th></th>\n",
              "      <th></th>\n",
              "    </tr>\n",
              "  </thead>\n",
              "  <tbody>\n",
              "    <tr>\n",
              "      <th>(-0.0188, 3.769]</th>\n",
              "      <td>0.071429</td>\n",
              "      <td>0.038869</td>\n",
              "    </tr>\n",
              "    <tr>\n",
              "      <th>(3.769, 7.537]</th>\n",
              "      <td>0.486175</td>\n",
              "      <td>0.325088</td>\n",
              "    </tr>\n",
              "    <tr>\n",
              "      <th>(7.537, 11.306]</th>\n",
              "      <td>0.345622</td>\n",
              "      <td>0.498233</td>\n",
              "    </tr>\n",
              "    <tr>\n",
              "      <th>(11.306, 15.074]</th>\n",
              "      <td>0.092166</td>\n",
              "      <td>0.127208</td>\n",
              "    </tr>\n",
              "    <tr>\n",
              "      <th>(15.074, 18.843]</th>\n",
              "      <td>0.004608</td>\n",
              "      <td>0.010601</td>\n",
              "    </tr>\n",
              "  </tbody>\n",
              "</table>\n",
              "</div>"
            ],
            "text/plain": [
              "purchased            False     True \n",
              "time_on_site_min                    \n",
              "(-0.0188, 3.769]  0.071429  0.038869\n",
              "(3.769, 7.537]    0.486175  0.325088\n",
              "(7.537, 11.306]   0.345622  0.498233\n",
              "(11.306, 15.074]  0.092166  0.127208\n",
              "(15.074, 18.843]  0.004608  0.010601"
            ]
          },
          "metadata": {
            "tags": []
          },
          "execution_count": 117
        }
      ]
    },
    {
      "cell_type": "code",
      "metadata": {
        "id": "SvPDfBr198ju",
        "colab_type": "code",
        "outputId": "da86a806-83b1-40cc-e821-2f6385f7ef99",
        "colab": {
          "base_uri": "https://localhost:8080/",
          "height": 235
        }
      },
      "source": [
        "# looking at percentages row-wise \n",
        "time_bins = pd.cut(user_data['time_on_site_min'], 5)  # 5 equal-sized bins\n",
        "pd.crosstab(time_bins, user_data['purchased'], normalize='index')"
      ],
      "execution_count": 0,
      "outputs": [
        {
          "output_type": "execute_result",
          "data": {
            "text/html": [
              "<div>\n",
              "<style scoped>\n",
              "    .dataframe tbody tr th:only-of-type {\n",
              "        vertical-align: middle;\n",
              "    }\n",
              "\n",
              "    .dataframe tbody tr th {\n",
              "        vertical-align: top;\n",
              "    }\n",
              "\n",
              "    .dataframe thead th {\n",
              "        text-align: right;\n",
              "    }\n",
              "</style>\n",
              "<table border=\"1\" class=\"dataframe\">\n",
              "  <thead>\n",
              "    <tr style=\"text-align: right;\">\n",
              "      <th>purchased</th>\n",
              "      <th>False</th>\n",
              "      <th>True</th>\n",
              "    </tr>\n",
              "    <tr>\n",
              "      <th>time_on_site_min</th>\n",
              "      <th></th>\n",
              "      <th></th>\n",
              "    </tr>\n",
              "  </thead>\n",
              "  <tbody>\n",
              "    <tr>\n",
              "      <th>(-0.0188, 3.769]</th>\n",
              "      <td>0.584906</td>\n",
              "      <td>0.415094</td>\n",
              "    </tr>\n",
              "    <tr>\n",
              "      <th>(3.769, 7.537]</th>\n",
              "      <td>0.534177</td>\n",
              "      <td>0.465823</td>\n",
              "    </tr>\n",
              "    <tr>\n",
              "      <th>(7.537, 11.306]</th>\n",
              "      <td>0.347222</td>\n",
              "      <td>0.652778</td>\n",
              "    </tr>\n",
              "    <tr>\n",
              "      <th>(11.306, 15.074]</th>\n",
              "      <td>0.357143</td>\n",
              "      <td>0.642857</td>\n",
              "    </tr>\n",
              "    <tr>\n",
              "      <th>(15.074, 18.843]</th>\n",
              "      <td>0.250000</td>\n",
              "      <td>0.750000</td>\n",
              "    </tr>\n",
              "  </tbody>\n",
              "</table>\n",
              "</div>"
            ],
            "text/plain": [
              "purchased            False     True \n",
              "time_on_site_min                    \n",
              "(-0.0188, 3.769]  0.584906  0.415094\n",
              "(3.769, 7.537]    0.534177  0.465823\n",
              "(7.537, 11.306]   0.347222  0.652778\n",
              "(11.306, 15.074]  0.357143  0.642857\n",
              "(15.074, 18.843]  0.250000  0.750000"
            ]
          },
          "metadata": {
            "tags": []
          },
          "execution_count": 118
        }
      ]
    },
    {
      "cell_type": "code",
      "metadata": {
        "id": "uSmTMAV3_e4w",
        "colab_type": "code",
        "outputId": "3a8491ca-1fc0-4bb5-b867-27f5db5cd87a",
        "colab": {
          "base_uri": "https://localhost:8080/",
          "height": 235
        }
      },
      "source": [
        "# another way to perform the crosstab\n",
        "pd.crosstab(columns=user_data['purchased'], index=time_bins, normalize='index')"
      ],
      "execution_count": 0,
      "outputs": [
        {
          "output_type": "execute_result",
          "data": {
            "text/html": [
              "<div>\n",
              "<style scoped>\n",
              "    .dataframe tbody tr th:only-of-type {\n",
              "        vertical-align: middle;\n",
              "    }\n",
              "\n",
              "    .dataframe tbody tr th {\n",
              "        vertical-align: top;\n",
              "    }\n",
              "\n",
              "    .dataframe thead th {\n",
              "        text-align: right;\n",
              "    }\n",
              "</style>\n",
              "<table border=\"1\" class=\"dataframe\">\n",
              "  <thead>\n",
              "    <tr style=\"text-align: right;\">\n",
              "      <th>purchased</th>\n",
              "      <th>False</th>\n",
              "      <th>True</th>\n",
              "    </tr>\n",
              "    <tr>\n",
              "      <th>time_on_site_min</th>\n",
              "      <th></th>\n",
              "      <th></th>\n",
              "    </tr>\n",
              "  </thead>\n",
              "  <tbody>\n",
              "    <tr>\n",
              "      <th>(-0.0188, 3.769]</th>\n",
              "      <td>0.584906</td>\n",
              "      <td>0.415094</td>\n",
              "    </tr>\n",
              "    <tr>\n",
              "      <th>(3.769, 7.537]</th>\n",
              "      <td>0.534177</td>\n",
              "      <td>0.465823</td>\n",
              "    </tr>\n",
              "    <tr>\n",
              "      <th>(7.537, 11.306]</th>\n",
              "      <td>0.347222</td>\n",
              "      <td>0.652778</td>\n",
              "    </tr>\n",
              "    <tr>\n",
              "      <th>(11.306, 15.074]</th>\n",
              "      <td>0.357143</td>\n",
              "      <td>0.642857</td>\n",
              "    </tr>\n",
              "    <tr>\n",
              "      <th>(15.074, 18.843]</th>\n",
              "      <td>0.250000</td>\n",
              "      <td>0.750000</td>\n",
              "    </tr>\n",
              "  </tbody>\n",
              "</table>\n",
              "</div>"
            ],
            "text/plain": [
              "purchased            False     True \n",
              "time_on_site_min                    \n",
              "(-0.0188, 3.769]  0.584906  0.415094\n",
              "(3.769, 7.537]    0.534177  0.465823\n",
              "(7.537, 11.306]   0.347222  0.652778\n",
              "(11.306, 15.074]  0.357143  0.642857\n",
              "(15.074, 18.843]  0.250000  0.750000"
            ]
          },
          "metadata": {
            "tags": []
          },
          "execution_count": 120
        }
      ]
    },
    {
      "cell_type": "code",
      "metadata": {
        "id": "pjcXnJw0wfaj",
        "colab_type": "code",
        "outputId": "8c234d56-f542-4e57-ec28-762d806a2bc0",
        "colab": {
          "base_uri": "https://localhost:8080/",
          "height": 235
        }
      },
      "source": [
        "# We can make this a bit clearer by normalizing (getting %)\n",
        "pd.crosstab(time_bins, user_data['purchased'], normalize='columns')"
      ],
      "execution_count": 0,
      "outputs": [
        {
          "output_type": "execute_result",
          "data": {
            "text/html": [
              "<div>\n",
              "<style scoped>\n",
              "    .dataframe tbody tr th:only-of-type {\n",
              "        vertical-align: middle;\n",
              "    }\n",
              "\n",
              "    .dataframe tbody tr th {\n",
              "        vertical-align: top;\n",
              "    }\n",
              "\n",
              "    .dataframe thead th {\n",
              "        text-align: right;\n",
              "    }\n",
              "</style>\n",
              "<table border=\"1\" class=\"dataframe\">\n",
              "  <thead>\n",
              "    <tr style=\"text-align: right;\">\n",
              "      <th>purchased</th>\n",
              "      <th>False</th>\n",
              "      <th>True</th>\n",
              "    </tr>\n",
              "    <tr>\n",
              "      <th>time_on_site_min</th>\n",
              "      <th></th>\n",
              "      <th></th>\n",
              "    </tr>\n",
              "  </thead>\n",
              "  <tbody>\n",
              "    <tr>\n",
              "      <th>(-0.0188, 3.769]</th>\n",
              "      <td>0.071429</td>\n",
              "      <td>0.038869</td>\n",
              "    </tr>\n",
              "    <tr>\n",
              "      <th>(3.769, 7.537]</th>\n",
              "      <td>0.486175</td>\n",
              "      <td>0.325088</td>\n",
              "    </tr>\n",
              "    <tr>\n",
              "      <th>(7.537, 11.306]</th>\n",
              "      <td>0.345622</td>\n",
              "      <td>0.498233</td>\n",
              "    </tr>\n",
              "    <tr>\n",
              "      <th>(11.306, 15.074]</th>\n",
              "      <td>0.092166</td>\n",
              "      <td>0.127208</td>\n",
              "    </tr>\n",
              "    <tr>\n",
              "      <th>(15.074, 18.843]</th>\n",
              "      <td>0.004608</td>\n",
              "      <td>0.010601</td>\n",
              "    </tr>\n",
              "  </tbody>\n",
              "</table>\n",
              "</div>"
            ],
            "text/plain": [
              "purchased            False     True \n",
              "time_on_site_min                    \n",
              "(-0.0188, 3.769]  0.071429  0.038869\n",
              "(3.769, 7.537]    0.486175  0.325088\n",
              "(7.537, 11.306]   0.345622  0.498233\n",
              "(11.306, 15.074]  0.092166  0.127208\n",
              "(15.074, 18.843]  0.004608  0.010601"
            ]
          },
          "metadata": {
            "tags": []
          },
          "execution_count": 122
        }
      ]
    },
    {
      "cell_type": "code",
      "metadata": {
        "id": "C3GzvDxlvZMa",
        "colab_type": "code",
        "outputId": "f3e3ea9d-3b48-42fa-b1d4-4bbb7949694f",
        "colab": {
          "base_uri": "https://localhost:8080/",
          "height": 142
        }
      },
      "source": [
        "# That seems counter to our hypothesis\n",
        "# More time on the site can actually have fewer purchases\n",
        "\n",
        "# But we know why, since we generated the data!\n",
        "# Let's look at mobile and purchased\n",
        "pd.crosstab(user_data['purchased'], user_data['mobile'], normalize='columns')"
      ],
      "execution_count": 0,
      "outputs": [
        {
          "output_type": "execute_result",
          "data": {
            "text/html": [
              "<div>\n",
              "<style scoped>\n",
              "    .dataframe tbody tr th:only-of-type {\n",
              "        vertical-align: middle;\n",
              "    }\n",
              "\n",
              "    .dataframe tbody tr th {\n",
              "        vertical-align: top;\n",
              "    }\n",
              "\n",
              "    .dataframe thead th {\n",
              "        text-align: right;\n",
              "    }\n",
              "</style>\n",
              "<table border=\"1\" class=\"dataframe\">\n",
              "  <thead>\n",
              "    <tr style=\"text-align: right;\">\n",
              "      <th>mobile</th>\n",
              "      <th>False</th>\n",
              "      <th>True</th>\n",
              "    </tr>\n",
              "    <tr>\n",
              "      <th>purchased</th>\n",
              "      <th></th>\n",
              "      <th></th>\n",
              "    </tr>\n",
              "  </thead>\n",
              "  <tbody>\n",
              "    <tr>\n",
              "      <th>False</th>\n",
              "      <td>0.48</td>\n",
              "      <td>0.418667</td>\n",
              "    </tr>\n",
              "    <tr>\n",
              "      <th>True</th>\n",
              "      <td>0.52</td>\n",
              "      <td>0.581333</td>\n",
              "    </tr>\n",
              "  </tbody>\n",
              "</table>\n",
              "</div>"
            ],
            "text/plain": [
              "mobile     False     True \n",
              "purchased                 \n",
              "False       0.48  0.418667\n",
              "True        0.52  0.581333"
            ]
          },
          "metadata": {
            "tags": []
          },
          "execution_count": 123
        }
      ]
    },
    {
      "cell_type": "code",
      "metadata": {
        "id": "KQb-wU60xCum",
        "colab_type": "code",
        "outputId": "4ce21e8e-4889-4096-98f6-091cee3d91e5",
        "colab": {
          "base_uri": "https://localhost:8080/",
          "height": 266
        }
      },
      "source": [
        "# Yep, mobile users are more likely to buy things\n",
        "# But we're still not seeing the *whole* story until we look at all 3 at once\n",
        "\n",
        "# Live/stretch goal - how can we do that?\n",
        "pd.crosstab(time_bins, [user_data['purchased'], user_data['mobile']], normalize='columns')"
      ],
      "execution_count": 0,
      "outputs": [
        {
          "output_type": "execute_result",
          "data": {
            "text/html": [
              "<div>\n",
              "<style scoped>\n",
              "    .dataframe tbody tr th:only-of-type {\n",
              "        vertical-align: middle;\n",
              "    }\n",
              "\n",
              "    .dataframe tbody tr th {\n",
              "        vertical-align: top;\n",
              "    }\n",
              "\n",
              "    .dataframe thead tr th {\n",
              "        text-align: left;\n",
              "    }\n",
              "\n",
              "    .dataframe thead tr:last-of-type th {\n",
              "        text-align: right;\n",
              "    }\n",
              "</style>\n",
              "<table border=\"1\" class=\"dataframe\">\n",
              "  <thead>\n",
              "    <tr>\n",
              "      <th>purchased</th>\n",
              "      <th colspan=\"2\" halign=\"left\">False</th>\n",
              "      <th colspan=\"2\" halign=\"left\">True</th>\n",
              "    </tr>\n",
              "    <tr>\n",
              "      <th>mobile</th>\n",
              "      <th>False</th>\n",
              "      <th>True</th>\n",
              "      <th>False</th>\n",
              "      <th>True</th>\n",
              "    </tr>\n",
              "    <tr>\n",
              "      <th>time_on_site_min</th>\n",
              "      <th></th>\n",
              "      <th></th>\n",
              "      <th></th>\n",
              "      <th></th>\n",
              "    </tr>\n",
              "  </thead>\n",
              "  <tbody>\n",
              "    <tr>\n",
              "      <th>(-0.0188, 3.769]</th>\n",
              "      <td>0.016667</td>\n",
              "      <td>0.092357</td>\n",
              "      <td>0.007692</td>\n",
              "      <td>0.048165</td>\n",
              "    </tr>\n",
              "    <tr>\n",
              "      <th>(3.769, 7.537]</th>\n",
              "      <td>0.291667</td>\n",
              "      <td>0.560510</td>\n",
              "      <td>0.123077</td>\n",
              "      <td>0.385321</td>\n",
              "    </tr>\n",
              "    <tr>\n",
              "      <th>(7.537, 11.306]</th>\n",
              "      <td>0.441667</td>\n",
              "      <td>0.308917</td>\n",
              "      <td>0.553846</td>\n",
              "      <td>0.481651</td>\n",
              "    </tr>\n",
              "    <tr>\n",
              "      <th>(11.306, 15.074]</th>\n",
              "      <td>0.233333</td>\n",
              "      <td>0.038217</td>\n",
              "      <td>0.284615</td>\n",
              "      <td>0.080275</td>\n",
              "    </tr>\n",
              "    <tr>\n",
              "      <th>(15.074, 18.843]</th>\n",
              "      <td>0.016667</td>\n",
              "      <td>0.000000</td>\n",
              "      <td>0.030769</td>\n",
              "      <td>0.004587</td>\n",
              "    </tr>\n",
              "  </tbody>\n",
              "</table>\n",
              "</div>"
            ],
            "text/plain": [
              "purchased            False               True           \n",
              "mobile               False     True      False     True \n",
              "time_on_site_min                                        \n",
              "(-0.0188, 3.769]  0.016667  0.092357  0.007692  0.048165\n",
              "(3.769, 7.537]    0.291667  0.560510  0.123077  0.385321\n",
              "(7.537, 11.306]   0.441667  0.308917  0.553846  0.481651\n",
              "(11.306, 15.074]  0.233333  0.038217  0.284615  0.080275\n",
              "(15.074, 18.843]  0.016667  0.000000  0.030769  0.004587"
            ]
          },
          "metadata": {
            "tags": []
          },
          "execution_count": 129
        }
      ]
    },
    {
      "cell_type": "code",
      "metadata": {
        "id": "yhpIDVNMCuuZ",
        "colab_type": "code",
        "outputId": "295af0bc-9ce5-431c-f618-6e72a63ed402",
        "colab": {
          "base_uri": "https://localhost:8080/",
          "height": 235
        }
      },
      "source": [
        "pd.crosstab(time_bins, user_data['purchased'], normalize='columns')"
      ],
      "execution_count": 0,
      "outputs": [
        {
          "output_type": "execute_result",
          "data": {
            "text/html": [
              "<div>\n",
              "<style scoped>\n",
              "    .dataframe tbody tr th:only-of-type {\n",
              "        vertical-align: middle;\n",
              "    }\n",
              "\n",
              "    .dataframe tbody tr th {\n",
              "        vertical-align: top;\n",
              "    }\n",
              "\n",
              "    .dataframe thead th {\n",
              "        text-align: right;\n",
              "    }\n",
              "</style>\n",
              "<table border=\"1\" class=\"dataframe\">\n",
              "  <thead>\n",
              "    <tr style=\"text-align: right;\">\n",
              "      <th>purchased</th>\n",
              "      <th>False</th>\n",
              "      <th>True</th>\n",
              "    </tr>\n",
              "    <tr>\n",
              "      <th>time_on_site_min</th>\n",
              "      <th></th>\n",
              "      <th></th>\n",
              "    </tr>\n",
              "  </thead>\n",
              "  <tbody>\n",
              "    <tr>\n",
              "      <th>(-0.0188, 3.769]</th>\n",
              "      <td>0.071429</td>\n",
              "      <td>0.038869</td>\n",
              "    </tr>\n",
              "    <tr>\n",
              "      <th>(3.769, 7.537]</th>\n",
              "      <td>0.486175</td>\n",
              "      <td>0.325088</td>\n",
              "    </tr>\n",
              "    <tr>\n",
              "      <th>(7.537, 11.306]</th>\n",
              "      <td>0.345622</td>\n",
              "      <td>0.498233</td>\n",
              "    </tr>\n",
              "    <tr>\n",
              "      <th>(11.306, 15.074]</th>\n",
              "      <td>0.092166</td>\n",
              "      <td>0.127208</td>\n",
              "    </tr>\n",
              "    <tr>\n",
              "      <th>(15.074, 18.843]</th>\n",
              "      <td>0.004608</td>\n",
              "      <td>0.010601</td>\n",
              "    </tr>\n",
              "  </tbody>\n",
              "</table>\n",
              "</div>"
            ],
            "text/plain": [
              "purchased            False     True \n",
              "time_on_site_min                    \n",
              "(-0.0188, 3.769]  0.071429  0.038869\n",
              "(3.769, 7.537]    0.486175  0.325088\n",
              "(7.537, 11.306]   0.345622  0.498233\n",
              "(11.306, 15.074]  0.092166  0.127208\n",
              "(15.074, 18.843]  0.004608  0.010601"
            ]
          },
          "metadata": {
            "tags": []
          },
          "execution_count": 130
        }
      ]
    },
    {
      "cell_type": "markdown",
      "metadata": {
        "id": "ufyO53_aEJUe",
        "colab_type": "text"
      },
      "source": [
        "## Stanford Open Police Project\n",
        "https://openpolicing.stanford.edu/\n"
      ]
    },
    {
      "cell_type": "code",
      "metadata": {
        "id": "Y3wtmkwHMqXm",
        "colab_type": "code",
        "outputId": "dc4bc372-f48d-4a79-cf6d-b114d1aca839",
        "colab": {
          "base_uri": "https://localhost:8080/",
          "height": 88
        }
      },
      "source": [
        "# unzip file and look at the files in the directory\n",
        "!unzip jb084sr9005_nj_statewide_2019_02_25.csv.zip\n",
        "!ls"
      ],
      "execution_count": 0,
      "outputs": [
        {
          "output_type": "stream",
          "text": [
            "Archive:  jb084sr9005_nj_statewide_2019_02_25.csv.zip\n",
            "  inflating: share/data/opp-for-archive/nj_statewide_2019_02_25.csv  \n",
            "jb084sr9005_nj_statewide_2019_02_25.csv.zip  sample_data  share\n"
          ],
          "name": "stdout"
        }
      ]
    },
    {
      "cell_type": "code",
      "metadata": {
        "id": "TWxLdJAoN5V1",
        "colab_type": "code",
        "outputId": "5f102d39-1840-4b0b-b77e-997260a2a5e1",
        "colab": {
          "base_uri": "https://localhost:8080/",
          "height": 68
        }
      },
      "source": [
        " %%time\n",
        "  df = pd.read_csv('./share/data/opp-for-archive/nj_statewide_2019_02_25.csv')\n",
        "  print(df.shape)"
      ],
      "execution_count": 0,
      "outputs": [
        {
          "output_type": "stream",
          "text": [
            "(3845334, 20)\n",
            "CPU times: user 18.1 s, sys: 1.78 s, total: 19.9 s\n",
            "Wall time: 19.9 s\n"
          ],
          "name": "stdout"
        }
      ]
    },
    {
      "cell_type": "code",
      "metadata": {
        "id": "udQcUAGoOvP2",
        "colab_type": "code",
        "outputId": "82b681a1-5bcd-4e82-edf2-8ba95cb8d98a",
        "colab": {
          "base_uri": "https://localhost:8080/",
          "height": 377
        }
      },
      "source": [
        "df.head()"
      ],
      "execution_count": 0,
      "outputs": [
        {
          "output_type": "execute_result",
          "data": {
            "text/html": [
              "<div>\n",
              "<style scoped>\n",
              "    .dataframe tbody tr th:only-of-type {\n",
              "        vertical-align: middle;\n",
              "    }\n",
              "\n",
              "    .dataframe tbody tr th {\n",
              "        vertical-align: top;\n",
              "    }\n",
              "\n",
              "    .dataframe thead th {\n",
              "        text-align: right;\n",
              "    }\n",
              "</style>\n",
              "<table border=\"1\" class=\"dataframe\">\n",
              "  <thead>\n",
              "    <tr style=\"text-align: right;\">\n",
              "      <th></th>\n",
              "      <th>raw_row_number</th>\n",
              "      <th>date</th>\n",
              "      <th>time</th>\n",
              "      <th>location</th>\n",
              "      <th>subject_race</th>\n",
              "      <th>subject_sex</th>\n",
              "      <th>officer_id_hash</th>\n",
              "      <th>department_id</th>\n",
              "      <th>type</th>\n",
              "      <th>violation</th>\n",
              "      <th>arrest_made</th>\n",
              "      <th>citation_issued</th>\n",
              "      <th>warning_issued</th>\n",
              "      <th>outcome</th>\n",
              "      <th>frisk_performed</th>\n",
              "      <th>search_conducted</th>\n",
              "      <th>vehicle_color</th>\n",
              "      <th>vehicle_make</th>\n",
              "      <th>vehicle_model</th>\n",
              "      <th>vehicle_registration_state</th>\n",
              "    </tr>\n",
              "  </thead>\n",
              "  <tbody>\n",
              "    <tr>\n",
              "      <th>0</th>\n",
              "      <td>24723</td>\n",
              "      <td>2009-01-10</td>\n",
              "      <td>15:38:41</td>\n",
              "      <td>31ST / CARMEN, Camden City</td>\n",
              "      <td>black</td>\n",
              "      <td>male</td>\n",
              "      <td>347f40fd4d</td>\n",
              "      <td>A010</td>\n",
              "      <td>vehicular</td>\n",
              "      <td>NaN</td>\n",
              "      <td>True</td>\n",
              "      <td>NaN</td>\n",
              "      <td>NaN</td>\n",
              "      <td>arrest</td>\n",
              "      <td>True</td>\n",
              "      <td>True</td>\n",
              "      <td>SIL</td>\n",
              "      <td>Chrysler</td>\n",
              "      <td>Town &amp; Country</td>\n",
              "      <td>NJ</td>\n",
              "    </tr>\n",
              "    <tr>\n",
              "      <th>1</th>\n",
              "      <td>88239</td>\n",
              "      <td>2009-02-06</td>\n",
              "      <td>11:34:36</td>\n",
              "      <td>@division, Ewing Twp</td>\n",
              "      <td>black</td>\n",
              "      <td>female</td>\n",
              "      <td>e84e551aad</td>\n",
              "      <td>A010</td>\n",
              "      <td>vehicular</td>\n",
              "      <td>NaN</td>\n",
              "      <td>NaN</td>\n",
              "      <td>NaN</td>\n",
              "      <td>NaN</td>\n",
              "      <td>NaN</td>\n",
              "      <td>NaN</td>\n",
              "      <td>NaN</td>\n",
              "      <td>NaN</td>\n",
              "      <td>NaN</td>\n",
              "      <td>NaN</td>\n",
              "      <td>NaN</td>\n",
              "    </tr>\n",
              "    <tr>\n",
              "      <th>2</th>\n",
              "      <td>101999</td>\n",
              "      <td>2009-02-11</td>\n",
              "      <td>01:34:26</td>\n",
              "      <td>34TH / WESTFIELD, Camden City</td>\n",
              "      <td>black</td>\n",
              "      <td>male</td>\n",
              "      <td>e008ccd5a2</td>\n",
              "      <td>A010</td>\n",
              "      <td>vehicular</td>\n",
              "      <td>NaN</td>\n",
              "      <td>True</td>\n",
              "      <td>NaN</td>\n",
              "      <td>NaN</td>\n",
              "      <td>arrest</td>\n",
              "      <td>False</td>\n",
              "      <td>True</td>\n",
              "      <td>GRY</td>\n",
              "      <td>Chevrolet</td>\n",
              "      <td>NaN</td>\n",
              "      <td>PA</td>\n",
              "    </tr>\n",
              "    <tr>\n",
              "      <th>3</th>\n",
              "      <td>151289</td>\n",
              "      <td>2009-03-03</td>\n",
              "      <td>20:29:16</td>\n",
              "      <td>MACARTHUR / 12TH, Camden City</td>\n",
              "      <td>black</td>\n",
              "      <td>male</td>\n",
              "      <td>b84c0f827e</td>\n",
              "      <td>A010</td>\n",
              "      <td>vehicular</td>\n",
              "      <td>NaN</td>\n",
              "      <td>True</td>\n",
              "      <td>NaN</td>\n",
              "      <td>NaN</td>\n",
              "      <td>arrest</td>\n",
              "      <td>True</td>\n",
              "      <td>True</td>\n",
              "      <td>BLU</td>\n",
              "      <td>Chevrolet</td>\n",
              "      <td>Tahoe</td>\n",
              "      <td>NJ</td>\n",
              "    </tr>\n",
              "    <tr>\n",
              "      <th>4</th>\n",
              "      <td>153223</td>\n",
              "      <td>2009-03-05</td>\n",
              "      <td>22:25:26</td>\n",
              "      <td>FEDERAL / 10TH, Camden City</td>\n",
              "      <td>black</td>\n",
              "      <td>male</td>\n",
              "      <td>56eb37f85f</td>\n",
              "      <td>A010</td>\n",
              "      <td>vehicular</td>\n",
              "      <td>NaN</td>\n",
              "      <td>NaN</td>\n",
              "      <td>NaN</td>\n",
              "      <td>NaN</td>\n",
              "      <td>NaN</td>\n",
              "      <td>NaN</td>\n",
              "      <td>NaN</td>\n",
              "      <td>BLK</td>\n",
              "      <td>Ford</td>\n",
              "      <td>Expedition</td>\n",
              "      <td>NJ</td>\n",
              "    </tr>\n",
              "  </tbody>\n",
              "</table>\n",
              "</div>"
            ],
            "text/plain": [
              "   raw_row_number        date  ...   vehicle_model vehicle_registration_state\n",
              "0           24723  2009-01-10  ...  Town & Country                         NJ\n",
              "1           88239  2009-02-06  ...             NaN                        NaN\n",
              "2          101999  2009-02-11  ...             NaN                         PA\n",
              "3          151289  2009-03-03  ...           Tahoe                         NJ\n",
              "4          153223  2009-03-05  ...      Expedition                         NJ\n",
              "\n",
              "[5 rows x 20 columns]"
            ]
          },
          "metadata": {
            "tags": []
          },
          "execution_count": 133
        }
      ]
    },
    {
      "cell_type": "code",
      "metadata": {
        "id": "ezQ2_-5YPYYI",
        "colab_type": "code",
        "outputId": "af49a0e8-16cb-4560-d02f-8c16291d0200",
        "colab": {
          "base_uri": "https://localhost:8080/",
          "height": 374
        }
      },
      "source": [
        "df.isna().sum()"
      ],
      "execution_count": 0,
      "outputs": [
        {
          "output_type": "execute_result",
          "data": {
            "text/plain": [
              "raw_row_number                      0\n",
              "date                                0\n",
              "time                                0\n",
              "location                            0\n",
              "subject_race                   109431\n",
              "subject_sex                     18787\n",
              "officer_id_hash                     0\n",
              "department_id                       0\n",
              "type                                0\n",
              "violation                      916990\n",
              "arrest_made                   3719812\n",
              "citation_issued                852818\n",
              "warning_issued                 858842\n",
              "outcome                        845936\n",
              "frisk_performed               3707675\n",
              "search_conducted              3703294\n",
              "vehicle_color                  102890\n",
              "vehicle_make                   143182\n",
              "vehicle_model                 2887636\n",
              "vehicle_registration_state      27617\n",
              "dtype: int64"
            ]
          },
          "metadata": {
            "tags": []
          },
          "execution_count": 134
        }
      ]
    },
    {
      "cell_type": "code",
      "metadata": {
        "id": "l1-Ej6ScPc1_",
        "colab_type": "code",
        "outputId": "e4691610-9df2-4775-efdc-762f49799260",
        "colab": {
          "base_uri": "https://localhost:8080/",
          "height": 1000
        }
      },
      "source": [
        "df.violation.value_counts()"
      ],
      "execution_count": 0,
      "outputs": [
        {
          "output_type": "execute_result",
          "data": {
            "text/plain": [
              "39:4-97 CARELESS DRIVING                                     726267\n",
              "39:4-98 RATES OF SPEED                                       301189\n",
              "39:4-88B UNSAFE LANE CHANGE                                  218747\n",
              "39:3-76.2F REQ WEARING SEATBELTS                             189408\n",
              "39:4-56 DELAYING TRAFFIC                                     165038\n",
              "39:3-66 MAINTENANCE ILLUM DEVICE                             139425\n",
              "39:4-97.3 USE OF HANDS-FREE WIRELESS TELEPHONE               126905\n",
              "39:4-99 EXCEED SPEED LIMITATIONS                              96289\n",
              "39:3-75 SAFETY GLASS DEFINED                                  82905\n",
              "39:3-74 WINDSHIELD WIPERS                                     73668\n",
              "39:3-33 REG PLATES / FICTITIOUS                               66398\n",
              "39:4-88A FAILURE TO KEEP RIGHT (PASSENGER CAR)                64332\n",
              "19:9-1.2 SPEED LIMITS                                         57325\n",
              "39:3-40 DRIVE WITHOUT LICENSE                                 54652\n",
              "19:9-1.2A SPEED LIMITS 65 MPH                                 53042\n",
              "39:4-67 OBSTRUCT PASS OF VEH                                  43655\n",
              "39:4-126 APPROPRIATE SIGNALS                                  34507\n",
              "39:3-4 UNREGISTERED VEHICLE                                   31916\n",
              "39:3-29 LIC, REG, INSURANCE                                   26421\n",
              "39:8-1 VEHICLE INSPECTION                                     25089\n",
              "19:9-1.17 OPERATION OF VEHICLES ON AUTHORITY PROJECTS         23892\n",
              "39:4-85 PASSING LEFT OVERTAKING                               23601\n",
              "39:4-144 STOP/YIELD RIGHT OF WAY                              21557\n",
              "39:3-10 UNLICENSED DRIVER                                     20310\n",
              "39:4-215 FAIL OBEY DIRECTIONS                                 19996\n",
              "39:4-89 DISTANCE BETWEEN VEHICLE                              14383\n",
              "39:4-92.2 FAILURE TO YIELD, STOPPED EMERGENCY VEHICLE         13400\n",
              "39:4-96 RECKLESS DRIVING                                      10639\n",
              "19:9-1.3C DISREGARD OF TPK SIGNS                              10589\n",
              "39:4-81 OBEYING TRAFFIC SIGNALS                                9715\n",
              "                                                              ...  \n",
              "49CFR391.45 EXPIRED MEDICAL EXAM                                  1\n",
              "49CFR391.11B4 ALLOW UNQUAL DRIVE                                  1\n",
              "39:3C-22 ORGANIZED SPECIAL EVENT                                  1\n",
              "39:3B-5 RULES & REGULATIONS                                       1\n",
              "13:82-1.1 ANCHORING IN CHANNELS                                   1\n",
              "39:4-128.8 REST ON BACKING UP                                     1\n",
              "49CFR393.60 GLASS (WINDSHIELD)                                    1\n",
              "39:4-22 REINS HELD IN HAND                                        1\n",
              "39:3-77.2 PROPERLY MARKED DOORS                                   1\n",
              "39:5-28 SUMMONS OR WARRANT VALID                                  1\n",
              "49CFR392.7 NO PRETRIP INSP                                        1\n",
              "39:3-84B4 AXLE WEIGHT (OUT/STATE                                  1\n",
              "39:4-24 RESTRICTION OF WHIP                                       1\n",
              "39:4-72 STOP SIGNAL HORSEBACK                                     1\n",
              "49CFR395.8E FALSE LOG                                             1\n",
              "49CFR395.3B 60/70 HOUR RULE                                       1\n",
              "39:4-37.1 RIGHT OF WAY BLIND PER                                  1\n",
              "39:4-60.2 REMOVAL WITHOUT NOTICE                                  1\n",
              "19:9-1.26 PARADES, DEMONSTRATIONS AND PICNICS PROHIBITED          1\n",
              "39:3-4E INFORMATION REQ INSURERS                                  1\n",
              "39:5B-28 REPORTS                                                  1\n",
              "39:4-14.3E LIABILITY INSURANCE                                    1\n",
              "12:7-47.1 MANDATORY WEARING OF PFD'S BY CHILDREN                  1\n",
              "39:3-19 OMNIBUS REGISTRATION                                      1\n",
              "39:4-207.7 REMOVAL OF VEHICLE                                     1\n",
              "58:24-10 FORFEITURE USED IN TITLE 58 VIOLATIONS                   1\n",
              "49CFR393.75A4 CUT EXPOSING PLY/BE                                 1\n",
              "19:2-5.9 HITCH-HIKING AND LOITERING PROHIBITED EXPRESSWAY         1\n",
              "39:4-14.3A SELL MOTORIZED BIKES                                   1\n",
              "19:9-1.29 FIRE PROHIBITED                                         1\n",
              "Name: violation, Length: 518, dtype: int64"
            ]
          },
          "metadata": {
            "tags": []
          },
          "execution_count": 136
        }
      ]
    },
    {
      "cell_type": "code",
      "metadata": {
        "id": "v8bx-jYCP-PD",
        "colab_type": "code",
        "outputId": "b10b538c-c161-46b4-b0c7-5f4fa2d148f9",
        "colab": {
          "base_uri": "https://localhost:8080/",
          "height": 119
        }
      },
      "source": [
        "df.violation.value_counts().head()"
      ],
      "execution_count": 0,
      "outputs": [
        {
          "output_type": "execute_result",
          "data": {
            "text/plain": [
              "39:4-97 CARELESS DRIVING            726267\n",
              "39:4-98 RATES OF SPEED              301189\n",
              "39:4-88B UNSAFE LANE CHANGE         218747\n",
              "39:3-76.2F REQ WEARING SEATBELTS    189408\n",
              "39:4-56 DELAYING TRAFFIC            165038\n",
              "Name: violation, dtype: int64"
            ]
          },
          "metadata": {
            "tags": []
          },
          "execution_count": 137
        }
      ]
    },
    {
      "cell_type": "code",
      "metadata": {
        "id": "RZA5KbEpQBlC",
        "colab_type": "code",
        "outputId": "9b4bbaaf-01bd-436b-e640-806e47190d95",
        "colab": {
          "base_uri": "https://localhost:8080/",
          "height": 204
        }
      },
      "source": [
        "df.vehicle_make.value_counts(normalize=True).head(10)"
      ],
      "execution_count": 0,
      "outputs": [
        {
          "output_type": "execute_result",
          "data": {
            "text/plain": [
              "Honda         0.118632\n",
              "Ford          0.106514\n",
              "Toyota        0.099623\n",
              "Chevrolet     0.084403\n",
              "Nissan        0.081274\n",
              "Dodge         0.047225\n",
              "Hyundai       0.037378\n",
              "Jeep          0.035211\n",
              "BMW           0.034904\n",
              "Volkswagen    0.028908\n",
              "Name: vehicle_make, dtype: float64"
            ]
          },
          "metadata": {
            "tags": []
          },
          "execution_count": 140
        }
      ]
    },
    {
      "cell_type": "code",
      "metadata": {
        "id": "mOmj2iCgQZ76",
        "colab_type": "code",
        "outputId": "4d6072d0-be76-44e3-91ba-ed7be8f41ef8",
        "colab": {
          "base_uri": "https://localhost:8080/",
          "height": 34
        }
      },
      "source": [
        "df[df.violation == '39:4-98 RATES OF SPEED'].shape"
      ],
      "execution_count": 0,
      "outputs": [
        {
          "output_type": "execute_result",
          "data": {
            "text/plain": [
              "(301189, 20)"
            ]
          },
          "metadata": {
            "tags": []
          },
          "execution_count": 142
        }
      ]
    },
    {
      "cell_type": "code",
      "metadata": {
        "id": "BeaBqXl4Q2gT",
        "colab_type": "code",
        "outputId": "233e2a48-28dd-4dea-f248-5f5028f142a7",
        "colab": {
          "base_uri": "https://localhost:8080/",
          "height": 34
        }
      },
      "source": [
        "df[df.violation == ' 39:4-98 RATES OF SPEED'].shape"
      ],
      "execution_count": 0,
      "outputs": [
        {
          "output_type": "execute_result",
          "data": {
            "text/plain": [
              "(0, 20)"
            ]
          },
          "metadata": {
            "tags": []
          },
          "execution_count": 143
        }
      ]
    },
    {
      "cell_type": "code",
      "metadata": {
        "id": "TUNvEv1wRBuo",
        "colab_type": "code",
        "outputId": "20026244-78fe-47b2-bfe2-4cacc9ec6568",
        "colab": {
          "base_uri": "https://localhost:8080/",
          "height": 204
        }
      },
      "source": [
        "df[df.violation == '39:4-98 RATES OF SPEED'].vehicle_make.value_counts(normalize=True).head(10)"
      ],
      "execution_count": 0,
      "outputs": [
        {
          "output_type": "execute_result",
          "data": {
            "text/plain": [
              "Honda            0.125034\n",
              "Toyota           0.107939\n",
              "Ford             0.088320\n",
              "Nissan           0.084921\n",
              "Chevrolet        0.074299\n",
              "BMW              0.043302\n",
              "Dodge            0.041296\n",
              "Hyundai          0.039327\n",
              "Volkswagen       0.032925\n",
              "Mercedes-Benz    0.031556\n",
              "Name: vehicle_make, dtype: float64"
            ]
          },
          "metadata": {
            "tags": []
          },
          "execution_count": 145
        }
      ]
    },
    {
      "cell_type": "code",
      "metadata": {
        "id": "XE5HJm2fRoTh",
        "colab_type": "code",
        "outputId": "c340a7f4-0aed-4950-aeb6-3fdf0ee374eb",
        "colab": {
          "base_uri": "https://localhost:8080/",
          "height": 595
        }
      },
      "source": [
        "df.vehicle_color.value_counts()"
      ],
      "execution_count": 0,
      "outputs": [
        {
          "output_type": "execute_result",
          "data": {
            "text/plain": [
              "BLK        855265\n",
              "SIL        712231\n",
              "WHI        636554\n",
              "GRY        374745\n",
              "BLU        366103\n",
              "RED        307223\n",
              "GRN        193176\n",
              "TAN         83242\n",
              "GLD         77951\n",
              "BGE         35110\n",
              "MAR         33557\n",
              "BRN         17403\n",
              "YEL         15338\n",
              "ONG         11093\n",
              "PLE         10247\n",
              "BRO          9166\n",
              "TEA          1212\n",
              "DBL           667\n",
              "LAV           300\n",
              "CAM           298\n",
              "LBL           295\n",
              "AME           267\n",
              "PNK           221\n",
              "DGR           186\n",
              "TRQ           144\n",
              "CRM           143\n",
              "BRZ           114\n",
              "MUL/COL        74\n",
              "CPR            54\n",
              "LGR            38\n",
              "COM            16\n",
              "TPE             9\n",
              "MVE             2\n",
              "Name: vehicle_color, dtype: int64"
            ]
          },
          "metadata": {
            "tags": []
          },
          "execution_count": 146
        }
      ]
    },
    {
      "cell_type": "code",
      "metadata": {
        "id": "VmkWWpf4RzmG",
        "colab_type": "code",
        "outputId": "2b9b7755-71e4-4f9b-a2bd-419fc8e02d69",
        "colab": {
          "base_uri": "https://localhost:8080/",
          "height": 561
        }
      },
      "source": [
        "df[df.violation == '39:4-98 RATES OF SPEED'].vehicle_color.value_counts(normalize=True)"
      ],
      "execution_count": 0,
      "outputs": [
        {
          "output_type": "execute_result",
          "data": {
            "text/plain": [
              "BLK        0.238954\n",
              "SIL        0.200708\n",
              "WHI        0.157833\n",
              "GRY        0.110433\n",
              "BLU        0.096752\n",
              "RED        0.077175\n",
              "GRN        0.043044\n",
              "TAN        0.020111\n",
              "GLD        0.019722\n",
              "BGE        0.009164\n",
              "MAR        0.009076\n",
              "BRN        0.004281\n",
              "YEL        0.003337\n",
              "ONG        0.002924\n",
              "BRO        0.002785\n",
              "PLE        0.002558\n",
              "TEA        0.000288\n",
              "DBL        0.000237\n",
              "AME        0.000081\n",
              "LBL        0.000081\n",
              "PNK        0.000078\n",
              "LAV        0.000074\n",
              "CAM        0.000071\n",
              "DGR        0.000064\n",
              "BRZ        0.000047\n",
              "TRQ        0.000030\n",
              "CRM        0.000027\n",
              "LGR        0.000020\n",
              "MUL/COL    0.000020\n",
              "CPR        0.000014\n",
              "TPE        0.000010\n",
              "Name: vehicle_color, dtype: float64"
            ]
          },
          "metadata": {
            "tags": []
          },
          "execution_count": 149
        }
      ]
    },
    {
      "cell_type": "code",
      "metadata": {
        "id": "Fmn103iHTRpk",
        "colab_type": "code",
        "outputId": "e4b104ea-8cc4-4d1f-dcf3-392d08f17f8d",
        "colab": {
          "base_uri": "https://localhost:8080/",
          "height": 221
        }
      },
      "source": [
        "df = pd.DataFrame({'a': np.arange(1e6), \n",
        "                  'b': np.arange(1e6)})\n",
        "print(df.shape)\n",
        "df.head()"
      ],
      "execution_count": 0,
      "outputs": [
        {
          "output_type": "stream",
          "text": [
            "(1000000, 2)\n"
          ],
          "name": "stdout"
        },
        {
          "output_type": "execute_result",
          "data": {
            "text/html": [
              "<div>\n",
              "<style scoped>\n",
              "    .dataframe tbody tr th:only-of-type {\n",
              "        vertical-align: middle;\n",
              "    }\n",
              "\n",
              "    .dataframe tbody tr th {\n",
              "        vertical-align: top;\n",
              "    }\n",
              "\n",
              "    .dataframe thead th {\n",
              "        text-align: right;\n",
              "    }\n",
              "</style>\n",
              "<table border=\"1\" class=\"dataframe\">\n",
              "  <thead>\n",
              "    <tr style=\"text-align: right;\">\n",
              "      <th></th>\n",
              "      <th>a</th>\n",
              "      <th>b</th>\n",
              "    </tr>\n",
              "  </thead>\n",
              "  <tbody>\n",
              "    <tr>\n",
              "      <th>0</th>\n",
              "      <td>0.0</td>\n",
              "      <td>0.0</td>\n",
              "    </tr>\n",
              "    <tr>\n",
              "      <th>1</th>\n",
              "      <td>1.0</td>\n",
              "      <td>1.0</td>\n",
              "    </tr>\n",
              "    <tr>\n",
              "      <th>2</th>\n",
              "      <td>2.0</td>\n",
              "      <td>2.0</td>\n",
              "    </tr>\n",
              "    <tr>\n",
              "      <th>3</th>\n",
              "      <td>3.0</td>\n",
              "      <td>3.0</td>\n",
              "    </tr>\n",
              "    <tr>\n",
              "      <th>4</th>\n",
              "      <td>4.0</td>\n",
              "      <td>4.0</td>\n",
              "    </tr>\n",
              "  </tbody>\n",
              "</table>\n",
              "</div>"
            ],
            "text/plain": [
              "     a    b\n",
              "0  0.0  0.0\n",
              "1  1.0  1.0\n",
              "2  2.0  2.0\n",
              "3  3.0  3.0\n",
              "4  4.0  4.0"
            ]
          },
          "metadata": {
            "tags": []
          },
          "execution_count": 152
        }
      ]
    },
    {
      "cell_type": "code",
      "metadata": {
        "id": "dzbxjg2RT8Yf",
        "colab_type": "code",
        "outputId": "26d2b137-b9f6-4c99-b124-9c2feed19761",
        "colab": {
          "base_uri": "https://localhost:8080/",
          "height": 34
        }
      },
      "source": [
        "%timeit df['c'] = df['a']**2"
      ],
      "execution_count": 0,
      "outputs": [
        {
          "output_type": "stream",
          "text": [
            "100 loops, best of 3: 14.1 ms per loop\n"
          ],
          "name": "stdout"
        }
      ]
    },
    {
      "cell_type": "code",
      "metadata": {
        "id": "G_Kr1vi_UVfh",
        "colab_type": "code",
        "outputId": "45ecf90a-573c-42e9-f339-c4560a14dc84",
        "colab": {
          "base_uri": "https://localhost:8080/",
          "height": 34
        }
      },
      "source": [
        "%timeit df['c2'] = df['a'].apply(lambda x: x**2)"
      ],
      "execution_count": 0,
      "outputs": [
        {
          "output_type": "stream",
          "text": [
            "1 loop, best of 3: 313 ms per loop\n"
          ],
          "name": "stdout"
        }
      ]
    },
    {
      "cell_type": "code",
      "metadata": {
        "id": "Hwyl6FoaUPkz",
        "colab_type": "code",
        "outputId": "a3ba738d-e566-4d6e-81f9-89ac9b08c066",
        "colab": {
          "base_uri": "https://localhost:8080/",
          "height": 204
        }
      },
      "source": [
        "df.head()"
      ],
      "execution_count": 0,
      "outputs": [
        {
          "output_type": "execute_result",
          "data": {
            "text/html": [
              "<div>\n",
              "<style scoped>\n",
              "    .dataframe tbody tr th:only-of-type {\n",
              "        vertical-align: middle;\n",
              "    }\n",
              "\n",
              "    .dataframe tbody tr th {\n",
              "        vertical-align: top;\n",
              "    }\n",
              "\n",
              "    .dataframe thead th {\n",
              "        text-align: right;\n",
              "    }\n",
              "</style>\n",
              "<table border=\"1\" class=\"dataframe\">\n",
              "  <thead>\n",
              "    <tr style=\"text-align: right;\">\n",
              "      <th></th>\n",
              "      <th>a</th>\n",
              "      <th>b</th>\n",
              "      <th>c</th>\n",
              "      <th>c2</th>\n",
              "    </tr>\n",
              "  </thead>\n",
              "  <tbody>\n",
              "    <tr>\n",
              "      <th>0</th>\n",
              "      <td>0.0</td>\n",
              "      <td>0.0</td>\n",
              "      <td>0.0</td>\n",
              "      <td>0.0</td>\n",
              "    </tr>\n",
              "    <tr>\n",
              "      <th>1</th>\n",
              "      <td>1.0</td>\n",
              "      <td>1.0</td>\n",
              "      <td>1.0</td>\n",
              "      <td>1.0</td>\n",
              "    </tr>\n",
              "    <tr>\n",
              "      <th>2</th>\n",
              "      <td>2.0</td>\n",
              "      <td>2.0</td>\n",
              "      <td>4.0</td>\n",
              "      <td>4.0</td>\n",
              "    </tr>\n",
              "    <tr>\n",
              "      <th>3</th>\n",
              "      <td>3.0</td>\n",
              "      <td>3.0</td>\n",
              "      <td>9.0</td>\n",
              "      <td>9.0</td>\n",
              "    </tr>\n",
              "    <tr>\n",
              "      <th>4</th>\n",
              "      <td>4.0</td>\n",
              "      <td>4.0</td>\n",
              "      <td>16.0</td>\n",
              "      <td>16.0</td>\n",
              "    </tr>\n",
              "  </tbody>\n",
              "</table>\n",
              "</div>"
            ],
            "text/plain": [
              "     a    b     c    c2\n",
              "0  0.0  0.0   0.0   0.0\n",
              "1  1.0  1.0   1.0   1.0\n",
              "2  2.0  2.0   4.0   4.0\n",
              "3  3.0  3.0   9.0   9.0\n",
              "4  4.0  4.0  16.0  16.0"
            ]
          },
          "metadata": {
            "tags": []
          },
          "execution_count": 156
        }
      ]
    },
    {
      "cell_type": "code",
      "metadata": {
        "id": "IapoIcRcVvpP",
        "colab_type": "code",
        "colab": {}
      },
      "source": [
        "import tqdm "
      ],
      "execution_count": 0,
      "outputs": []
    },
    {
      "cell_type": "markdown",
      "metadata": {
        "id": "lOqaPds9huME",
        "colab_type": "text"
      },
      "source": [
        "## Assignment - what's going on here?\n",
        "\n",
        "Consider the data in `persons.csv` (already prepared for you, in the repo for the week). It has four columns - a unique id, followed by age (in years), weight (in lbs), and exercise time (in minutes/week) of 1200 (hypothetical) people.\n",
        "\n",
        "Try to figure out which variables are possibly related to each other, and which may be confounding relationships."
      ]
    },
    {
      "cell_type": "code",
      "metadata": {
        "id": "TGUS79cOhPWj",
        "colab_type": "code",
        "colab": {}
      },
      "source": [
        "# TODO - your code here\n",
        "# Use what we did live in lecture as an example\n",
        "\n",
        "# HINT - you can find the raw URL on GitHub and potentially use that\n",
        "# to load the data with read_csv, or you can upload it yourself"
      ],
      "execution_count": 0,
      "outputs": []
    },
    {
      "cell_type": "code",
      "metadata": {
        "id": "_X5spK4Rl5t2",
        "colab_type": "code",
        "colab": {}
      },
      "source": [
        "import matplotlib.pyplot as plt "
      ],
      "execution_count": 0,
      "outputs": []
    },
    {
      "cell_type": "code",
      "metadata": {
        "id": "yCFprYDLmfxv",
        "colab_type": "code",
        "colab": {}
      },
      "source": [
        "import pandas as pd"
      ],
      "execution_count": 0,
      "outputs": []
    },
    {
      "cell_type": "code",
      "metadata": {
        "id": "p-Q9_9Wkmhg_",
        "colab_type": "code",
        "colab": {}
      },
      "source": [
        "import numpy as np"
      ],
      "execution_count": 0,
      "outputs": []
    },
    {
      "cell_type": "code",
      "metadata": {
        "id": "1uOkQi9_mn4B",
        "colab_type": "code",
        "outputId": "daf4c5e6-8f76-4ce2-c28e-9715bae8ab4a",
        "colab": {
          "base_uri": "https://localhost:8080/",
          "height": 221
        }
      },
      "source": [
        "df = pd.read_csv('https://raw.githubusercontent.com/timidsurgeon/DS-Unit-1-Sprint-1-Dealing-With-Data/master/module3-databackedassertions/persons.csv')\n",
        "print(df.shape)\n",
        "df.head()"
      ],
      "execution_count": 6,
      "outputs": [
        {
          "output_type": "stream",
          "text": [
            "(1200, 4)\n"
          ],
          "name": "stdout"
        },
        {
          "output_type": "execute_result",
          "data": {
            "text/html": [
              "<div>\n",
              "<style scoped>\n",
              "    .dataframe tbody tr th:only-of-type {\n",
              "        vertical-align: middle;\n",
              "    }\n",
              "\n",
              "    .dataframe tbody tr th {\n",
              "        vertical-align: top;\n",
              "    }\n",
              "\n",
              "    .dataframe thead th {\n",
              "        text-align: right;\n",
              "    }\n",
              "</style>\n",
              "<table border=\"1\" class=\"dataframe\">\n",
              "  <thead>\n",
              "    <tr style=\"text-align: right;\">\n",
              "      <th></th>\n",
              "      <th>Unnamed: 0</th>\n",
              "      <th>age</th>\n",
              "      <th>weight</th>\n",
              "      <th>exercise_time</th>\n",
              "    </tr>\n",
              "  </thead>\n",
              "  <tbody>\n",
              "    <tr>\n",
              "      <th>0</th>\n",
              "      <td>0</td>\n",
              "      <td>44</td>\n",
              "      <td>118</td>\n",
              "      <td>192</td>\n",
              "    </tr>\n",
              "    <tr>\n",
              "      <th>1</th>\n",
              "      <td>1</td>\n",
              "      <td>41</td>\n",
              "      <td>161</td>\n",
              "      <td>35</td>\n",
              "    </tr>\n",
              "    <tr>\n",
              "      <th>2</th>\n",
              "      <td>2</td>\n",
              "      <td>46</td>\n",
              "      <td>128</td>\n",
              "      <td>220</td>\n",
              "    </tr>\n",
              "    <tr>\n",
              "      <th>3</th>\n",
              "      <td>3</td>\n",
              "      <td>39</td>\n",
              "      <td>216</td>\n",
              "      <td>57</td>\n",
              "    </tr>\n",
              "    <tr>\n",
              "      <th>4</th>\n",
              "      <td>4</td>\n",
              "      <td>28</td>\n",
              "      <td>116</td>\n",
              "      <td>182</td>\n",
              "    </tr>\n",
              "  </tbody>\n",
              "</table>\n",
              "</div>"
            ],
            "text/plain": [
              "   Unnamed: 0  age  weight  exercise_time\n",
              "0           0   44     118            192\n",
              "1           1   41     161             35\n",
              "2           2   46     128            220\n",
              "3           3   39     216             57\n",
              "4           4   28     116            182"
            ]
          },
          "metadata": {
            "tags": []
          },
          "execution_count": 6
        }
      ]
    },
    {
      "cell_type": "code",
      "metadata": {
        "id": "ZNeiNGR3nC2f",
        "colab_type": "code",
        "outputId": "c46a5fd7-465a-42ca-c013-88988bbc4c8c",
        "colab": {
          "base_uri": "https://localhost:8080/",
          "height": 170
        }
      },
      "source": [
        "df.info()"
      ],
      "execution_count": 7,
      "outputs": [
        {
          "output_type": "stream",
          "text": [
            "<class 'pandas.core.frame.DataFrame'>\n",
            "RangeIndex: 1200 entries, 0 to 1199\n",
            "Data columns (total 4 columns):\n",
            "Unnamed: 0       1200 non-null int64\n",
            "age              1200 non-null int64\n",
            "weight           1200 non-null int64\n",
            "exercise_time    1200 non-null int64\n",
            "dtypes: int64(4)\n",
            "memory usage: 37.6 KB\n"
          ],
          "name": "stdout"
        }
      ]
    },
    {
      "cell_type": "code",
      "metadata": {
        "id": "JegRiFIJnFQk",
        "colab_type": "code",
        "outputId": "cca7a988-2e36-435d-efea-fc96690580c1",
        "colab": {
          "base_uri": "https://localhost:8080/",
          "height": 102
        }
      },
      "source": [
        "df.isnull().sum()"
      ],
      "execution_count": 8,
      "outputs": [
        {
          "output_type": "execute_result",
          "data": {
            "text/plain": [
              "Unnamed: 0       0\n",
              "age              0\n",
              "weight           0\n",
              "exercise_time    0\n",
              "dtype: int64"
            ]
          },
          "metadata": {
            "tags": []
          },
          "execution_count": 8
        }
      ]
    },
    {
      "cell_type": "code",
      "metadata": {
        "id": "mUxM040ZnvE_",
        "colab_type": "code",
        "outputId": "42ace577-190b-4c6c-907d-6c68de9e1de9",
        "colab": {
          "base_uri": "https://localhost:8080/",
          "height": 102
        }
      },
      "source": [
        "df.count()"
      ],
      "execution_count": 9,
      "outputs": [
        {
          "output_type": "execute_result",
          "data": {
            "text/plain": [
              "Unnamed: 0       1200\n",
              "age              1200\n",
              "weight           1200\n",
              "exercise_time    1200\n",
              "dtype: int64"
            ]
          },
          "metadata": {
            "tags": []
          },
          "execution_count": 9
        }
      ]
    },
    {
      "cell_type": "code",
      "metadata": {
        "id": "W8c20e7In6BN",
        "colab_type": "code",
        "outputId": "e07dbe17-94f4-459f-ed30-6304df6269f1",
        "colab": {
          "base_uri": "https://localhost:8080/",
          "height": 1000
        }
      },
      "source": [
        "df.weight.value_counts()"
      ],
      "execution_count": 10,
      "outputs": [
        {
          "output_type": "execute_result",
          "data": {
            "text/plain": [
              "113    20\n",
              "108    19\n",
              "137    19\n",
              "125    18\n",
              "128    17\n",
              "126    17\n",
              "124    17\n",
              "156    16\n",
              "140    16\n",
              "100    15\n",
              "116    15\n",
              "127    15\n",
              "144    15\n",
              "136    15\n",
              "199    15\n",
              "154    15\n",
              "110    14\n",
              "129    14\n",
              "131    14\n",
              "117    14\n",
              "135    13\n",
              "147    13\n",
              "150    13\n",
              "138    13\n",
              "153    13\n",
              "160    13\n",
              "183    13\n",
              "182    13\n",
              "139    13\n",
              "109    13\n",
              "       ..\n",
              "236     3\n",
              "230     3\n",
              "226     3\n",
              "222     3\n",
              "219     3\n",
              "231     3\n",
              "217     3\n",
              "196     3\n",
              "179     3\n",
              "167     3\n",
              "234     2\n",
              "207     2\n",
              "225     2\n",
              "237     2\n",
              "241     2\n",
              "215     2\n",
              "240     1\n",
              "244     1\n",
              "242     1\n",
              "238     1\n",
              "239     1\n",
              "228     1\n",
              "233     1\n",
              "227     1\n",
              "224     1\n",
              "223     1\n",
              "221     1\n",
              "220     1\n",
              "201     1\n",
              "246     1\n",
              "Name: weight, Length: 143, dtype: int64"
            ]
          },
          "metadata": {
            "tags": []
          },
          "execution_count": 10
        }
      ]
    },
    {
      "cell_type": "code",
      "metadata": {
        "id": "NhxS6sXMnMlC",
        "colab_type": "code",
        "outputId": "97af0476-5925-4fd8-9a5d-843ac532ac76",
        "colab": {
          "base_uri": "https://localhost:8080/",
          "height": 119
        }
      },
      "source": [
        "df = df.drop(columns=[\"Unnamed: 0\"])\n",
        "print(df.head())"
      ],
      "execution_count": 11,
      "outputs": [
        {
          "output_type": "stream",
          "text": [
            "   age  weight  exercise_time\n",
            "0   44     118            192\n",
            "1   41     161             35\n",
            "2   46     128            220\n",
            "3   39     216             57\n",
            "4   28     116            182\n"
          ],
          "name": "stdout"
        }
      ]
    },
    {
      "cell_type": "code",
      "metadata": {
        "id": "Cqa1ydkepsU6",
        "colab_type": "code",
        "outputId": "306a5c74-ff7a-4c3c-b5e8-e6bc48304231",
        "colab": {
          "base_uri": "https://localhost:8080/",
          "height": 204
        }
      },
      "source": [
        "df.head()"
      ],
      "execution_count": 12,
      "outputs": [
        {
          "output_type": "execute_result",
          "data": {
            "text/html": [
              "<div>\n",
              "<style scoped>\n",
              "    .dataframe tbody tr th:only-of-type {\n",
              "        vertical-align: middle;\n",
              "    }\n",
              "\n",
              "    .dataframe tbody tr th {\n",
              "        vertical-align: top;\n",
              "    }\n",
              "\n",
              "    .dataframe thead th {\n",
              "        text-align: right;\n",
              "    }\n",
              "</style>\n",
              "<table border=\"1\" class=\"dataframe\">\n",
              "  <thead>\n",
              "    <tr style=\"text-align: right;\">\n",
              "      <th></th>\n",
              "      <th>age</th>\n",
              "      <th>weight</th>\n",
              "      <th>exercise_time</th>\n",
              "    </tr>\n",
              "  </thead>\n",
              "  <tbody>\n",
              "    <tr>\n",
              "      <th>0</th>\n",
              "      <td>44</td>\n",
              "      <td>118</td>\n",
              "      <td>192</td>\n",
              "    </tr>\n",
              "    <tr>\n",
              "      <th>1</th>\n",
              "      <td>41</td>\n",
              "      <td>161</td>\n",
              "      <td>35</td>\n",
              "    </tr>\n",
              "    <tr>\n",
              "      <th>2</th>\n",
              "      <td>46</td>\n",
              "      <td>128</td>\n",
              "      <td>220</td>\n",
              "    </tr>\n",
              "    <tr>\n",
              "      <th>3</th>\n",
              "      <td>39</td>\n",
              "      <td>216</td>\n",
              "      <td>57</td>\n",
              "    </tr>\n",
              "    <tr>\n",
              "      <th>4</th>\n",
              "      <td>28</td>\n",
              "      <td>116</td>\n",
              "      <td>182</td>\n",
              "    </tr>\n",
              "  </tbody>\n",
              "</table>\n",
              "</div>"
            ],
            "text/plain": [
              "   age  weight  exercise_time\n",
              "0   44     118            192\n",
              "1   41     161             35\n",
              "2   46     128            220\n",
              "3   39     216             57\n",
              "4   28     116            182"
            ]
          },
          "metadata": {
            "tags": []
          },
          "execution_count": 12
        }
      ]
    },
    {
      "cell_type": "code",
      "metadata": {
        "id": "-5qQURosrZF5",
        "colab_type": "code",
        "outputId": "7255945c-8a06-4d59-d5ea-5ff3a09deceb",
        "colab": {
          "base_uri": "https://localhost:8080/",
          "height": 269
        }
      },
      "source": [
        "df.exercise_time.hist();"
      ],
      "execution_count": 13,
      "outputs": [
        {
          "output_type": "display_data",
          "data": {
            "image/png": "[encoded data removed]",
            "text/plain": [
              "<Figure size 432x288 with 1 Axes>"
            ]
          },
          "metadata": {
            "tags": []
          }
        }
      ]
    },
    {
      "cell_type": "code",
      "metadata": {
        "id": "Y9YmEODusqpw",
        "colab_type": "code",
        "outputId": "12ea3ee8-239a-4b61-890b-35b779a9320e",
        "colab": {
          "base_uri": "https://localhost:8080/",
          "height": 269
        }
      },
      "source": [
        "df.age.hist();"
      ],
      "execution_count": 14,
      "outputs": [
        {
          "output_type": "display_data",
          "data": {
            "image/png": "[encoded data removed]",
            "text/plain": [
              "<Figure size 432x288 with 1 Axes>"
            ]
          },
          "metadata": {
            "tags": []
          }
        }
      ]
    },
    {
      "cell_type": "code",
      "metadata": {
        "id": "VTb5q4XWsuC7",
        "colab_type": "code",
        "outputId": "0a0810c1-1546-4705-f732-1273a66cf05d",
        "colab": {
          "base_uri": "https://localhost:8080/",
          "height": 269
        }
      },
      "source": [
        "df.weight.hist();"
      ],
      "execution_count": 15,
      "outputs": [
        {
          "output_type": "display_data",
          "data": {
            "image/png": "[encoded data removed]",
            "text/plain": [
              "<Figure size 432x288 with 1 Axes>"
            ]
          },
          "metadata": {
            "tags": []
          }
        }
      ]
    },
    {
      "cell_type": "markdown",
      "metadata": {
        "id": "w_tRIt5ZMBMD",
        "colab_type": "text"
      },
      "source": [
        "# (Bottom) - no apparent relationship between age and exercise time up until the age of 60. There seems to be sharp decline in exercise time. "
      ]
    },
    {
      "cell_type": "code",
      "metadata": {
        "id": "UO2OfjEAs1ex",
        "colab_type": "code",
        "outputId": "15e720e4-5d48-4430-b321-56decc702a95",
        "colab": {
          "base_uri": "https://localhost:8080/",
          "height": 269
        }
      },
      "source": [
        "plt.scatter(df.age, df.exercise_time);"
      ],
      "execution_count": 16,
      "outputs": [
        {
          "output_type": "display_data",
          "data": {
            "image/png": "[encoded data removed]",
            "text/plain": [
              "<Figure size 432x288 with 1 Axes>"
            ]
          },
          "metadata": {
            "tags": []
          }
        }
      ]
    },
    {
      "cell_type": "markdown",
      "metadata": {
        "id": "nCKmaGSXLU06",
        "colab_type": "text"
      },
      "source": [
        "# (Bottom) - weight vs. exercise time is inverse linear showing a visible relationship between the two. Less exercise time spent for the heavier-set group. "
      ]
    },
    {
      "cell_type": "code",
      "metadata": {
        "id": "kXMSy5Aas8NP",
        "colab_type": "code",
        "outputId": "c8d03161-5dce-499d-ea8c-7efb5245be89",
        "colab": {
          "base_uri": "https://localhost:8080/",
          "height": 269
        }
      },
      "source": [
        "plt.scatter(df.weight, df.exercise_time);"
      ],
      "execution_count": 0,
      "outputs": [
        {
          "output_type": "display_data",
          "data": {
            "image/png": "[encoded data removed]",
            "text/plain": [
              "<Figure size 432x288 with 1 Axes>"
            ]
          },
          "metadata": {
            "tags": []
          }
        }
      ]
    },
    {
      "cell_type": "markdown",
      "metadata": {
        "id": "-800jzOKLJWD",
        "colab_type": "text"
      },
      "source": [
        "# (Bottom) - age vs. weight is scattered and shows a spurious relationship. There appears to be no apparent trend. "
      ]
    },
    {
      "cell_type": "code",
      "metadata": {
        "id": "mEUZbkhntD5k",
        "colab_type": "code",
        "outputId": "8fcdd472-a5e0-4c3f-c8a5-5fe9002643c8",
        "colab": {
          "base_uri": "https://localhost:8080/",
          "height": 269
        }
      },
      "source": [
        "plt.scatter(df.age, df.weight);"
      ],
      "execution_count": 0,
      "outputs": [
        {
          "output_type": "display_data",
          "data": {
            "image/png": "[encoded data removed]",
            "text/plain": [
              "<Figure size 432x288 with 1 Axes>"
            ]
          },
          "metadata": {
            "tags": []
          }
        }
      ]
    },
    {
      "cell_type": "code",
      "metadata": {
        "id": "B-sIda1UuRUt",
        "colab_type": "code",
        "outputId": "2265a326-98d5-4754-f43c-12ac24f79290",
        "colab": {
          "base_uri": "https://localhost:8080/",
          "height": 204
        }
      },
      "source": [
        "df['exercise_time_in_hours'] = df['exercise_time']/60\n",
        "df.head()"
      ],
      "execution_count": 0,
      "outputs": [
        {
          "output_type": "execute_result",
          "data": {
            "text/html": [
              "<div>\n",
              "<style scoped>\n",
              "    .dataframe tbody tr th:only-of-type {\n",
              "        vertical-align: middle;\n",
              "    }\n",
              "\n",
              "    .dataframe tbody tr th {\n",
              "        vertical-align: top;\n",
              "    }\n",
              "\n",
              "    .dataframe thead th {\n",
              "        text-align: right;\n",
              "    }\n",
              "</style>\n",
              "<table border=\"1\" class=\"dataframe\">\n",
              "  <thead>\n",
              "    <tr style=\"text-align: right;\">\n",
              "      <th></th>\n",
              "      <th>age</th>\n",
              "      <th>weight</th>\n",
              "      <th>exercise_time</th>\n",
              "      <th>exercise_time_in_hours</th>\n",
              "    </tr>\n",
              "  </thead>\n",
              "  <tbody>\n",
              "    <tr>\n",
              "      <th>0</th>\n",
              "      <td>44</td>\n",
              "      <td>118</td>\n",
              "      <td>192</td>\n",
              "      <td>3.200000</td>\n",
              "    </tr>\n",
              "    <tr>\n",
              "      <th>1</th>\n",
              "      <td>41</td>\n",
              "      <td>161</td>\n",
              "      <td>35</td>\n",
              "      <td>0.583333</td>\n",
              "    </tr>\n",
              "    <tr>\n",
              "      <th>2</th>\n",
              "      <td>46</td>\n",
              "      <td>128</td>\n",
              "      <td>220</td>\n",
              "      <td>3.666667</td>\n",
              "    </tr>\n",
              "    <tr>\n",
              "      <th>3</th>\n",
              "      <td>39</td>\n",
              "      <td>216</td>\n",
              "      <td>57</td>\n",
              "      <td>0.950000</td>\n",
              "    </tr>\n",
              "    <tr>\n",
              "      <th>4</th>\n",
              "      <td>28</td>\n",
              "      <td>116</td>\n",
              "      <td>182</td>\n",
              "      <td>3.033333</td>\n",
              "    </tr>\n",
              "  </tbody>\n",
              "</table>\n",
              "</div>"
            ],
            "text/plain": [
              "   age  weight  exercise_time  exercise_time_in_hours\n",
              "0   44     118            192                3.200000\n",
              "1   41     161             35                0.583333\n",
              "2   46     128            220                3.666667\n",
              "3   39     216             57                0.950000\n",
              "4   28     116            182                3.033333"
            ]
          },
          "metadata": {
            "tags": []
          },
          "execution_count": 69
        }
      ]
    },
    {
      "cell_type": "code",
      "metadata": {
        "id": "pDr7wXmjvNvY",
        "colab_type": "code",
        "outputId": "38cd89d9-7d32-4a8c-8c00-f193078d3115",
        "colab": {
          "base_uri": "https://localhost:8080/",
          "height": 669
        }
      },
      "source": [
        "df['over_25'] = df['age'] > 25\n",
        "df.head(20)"
      ],
      "execution_count": 0,
      "outputs": [
        {
          "output_type": "execute_result",
          "data": {
            "text/html": [
              "<div>\n",
              "<style scoped>\n",
              "    .dataframe tbody tr th:only-of-type {\n",
              "        vertical-align: middle;\n",
              "    }\n",
              "\n",
              "    .dataframe tbody tr th {\n",
              "        vertical-align: top;\n",
              "    }\n",
              "\n",
              "    .dataframe thead th {\n",
              "        text-align: right;\n",
              "    }\n",
              "</style>\n",
              "<table border=\"1\" class=\"dataframe\">\n",
              "  <thead>\n",
              "    <tr style=\"text-align: right;\">\n",
              "      <th></th>\n",
              "      <th>age</th>\n",
              "      <th>weight</th>\n",
              "      <th>exercise_time</th>\n",
              "      <th>exercise_time_in_hours</th>\n",
              "      <th>over_25</th>\n",
              "    </tr>\n",
              "  </thead>\n",
              "  <tbody>\n",
              "    <tr>\n",
              "      <th>0</th>\n",
              "      <td>44</td>\n",
              "      <td>118</td>\n",
              "      <td>192</td>\n",
              "      <td>3.200000</td>\n",
              "      <td>True</td>\n",
              "    </tr>\n",
              "    <tr>\n",
              "      <th>1</th>\n",
              "      <td>41</td>\n",
              "      <td>161</td>\n",
              "      <td>35</td>\n",
              "      <td>0.583333</td>\n",
              "      <td>True</td>\n",
              "    </tr>\n",
              "    <tr>\n",
              "      <th>2</th>\n",
              "      <td>46</td>\n",
              "      <td>128</td>\n",
              "      <td>220</td>\n",
              "      <td>3.666667</td>\n",
              "      <td>True</td>\n",
              "    </tr>\n",
              "    <tr>\n",
              "      <th>3</th>\n",
              "      <td>39</td>\n",
              "      <td>216</td>\n",
              "      <td>57</td>\n",
              "      <td>0.950000</td>\n",
              "      <td>True</td>\n",
              "    </tr>\n",
              "    <tr>\n",
              "      <th>4</th>\n",
              "      <td>28</td>\n",
              "      <td>116</td>\n",
              "      <td>182</td>\n",
              "      <td>3.033333</td>\n",
              "      <td>True</td>\n",
              "    </tr>\n",
              "    <tr>\n",
              "      <th>5</th>\n",
              "      <td>58</td>\n",
              "      <td>103</td>\n",
              "      <td>165</td>\n",
              "      <td>2.750000</td>\n",
              "      <td>True</td>\n",
              "    </tr>\n",
              "    <tr>\n",
              "      <th>6</th>\n",
              "      <td>55</td>\n",
              "      <td>161</td>\n",
              "      <td>107</td>\n",
              "      <td>1.783333</td>\n",
              "      <td>True</td>\n",
              "    </tr>\n",
              "    <tr>\n",
              "      <th>7</th>\n",
              "      <td>21</td>\n",
              "      <td>188</td>\n",
              "      <td>37</td>\n",
              "      <td>0.616667</td>\n",
              "      <td>False</td>\n",
              "    </tr>\n",
              "    <tr>\n",
              "      <th>8</th>\n",
              "      <td>55</td>\n",
              "      <td>216</td>\n",
              "      <td>79</td>\n",
              "      <td>1.316667</td>\n",
              "      <td>True</td>\n",
              "    </tr>\n",
              "    <tr>\n",
              "      <th>9</th>\n",
              "      <td>50</td>\n",
              "      <td>127</td>\n",
              "      <td>267</td>\n",
              "      <td>4.450000</td>\n",
              "      <td>True</td>\n",
              "    </tr>\n",
              "    <tr>\n",
              "      <th>10</th>\n",
              "      <td>21</td>\n",
              "      <td>160</td>\n",
              "      <td>228</td>\n",
              "      <td>3.800000</td>\n",
              "      <td>False</td>\n",
              "    </tr>\n",
              "    <tr>\n",
              "      <th>11</th>\n",
              "      <td>43</td>\n",
              "      <td>102</td>\n",
              "      <td>78</td>\n",
              "      <td>1.300000</td>\n",
              "      <td>True</td>\n",
              "    </tr>\n",
              "    <tr>\n",
              "      <th>12</th>\n",
              "      <td>73</td>\n",
              "      <td>209</td>\n",
              "      <td>44</td>\n",
              "      <td>0.733333</td>\n",
              "      <td>True</td>\n",
              "    </tr>\n",
              "    <tr>\n",
              "      <th>13</th>\n",
              "      <td>27</td>\n",
              "      <td>165</td>\n",
              "      <td>48</td>\n",
              "      <td>0.800000</td>\n",
              "      <td>True</td>\n",
              "    </tr>\n",
              "    <tr>\n",
              "      <th>14</th>\n",
              "      <td>21</td>\n",
              "      <td>169</td>\n",
              "      <td>171</td>\n",
              "      <td>2.850000</td>\n",
              "      <td>False</td>\n",
              "    </tr>\n",
              "    <tr>\n",
              "      <th>15</th>\n",
              "      <td>36</td>\n",
              "      <td>131</td>\n",
              "      <td>194</td>\n",
              "      <td>3.233333</td>\n",
              "      <td>True</td>\n",
              "    </tr>\n",
              "    <tr>\n",
              "      <th>16</th>\n",
              "      <td>49</td>\n",
              "      <td>171</td>\n",
              "      <td>191</td>\n",
              "      <td>3.183333</td>\n",
              "      <td>True</td>\n",
              "    </tr>\n",
              "    <tr>\n",
              "      <th>17</th>\n",
              "      <td>69</td>\n",
              "      <td>172</td>\n",
              "      <td>147</td>\n",
              "      <td>2.450000</td>\n",
              "      <td>True</td>\n",
              "    </tr>\n",
              "    <tr>\n",
              "      <th>18</th>\n",
              "      <td>18</td>\n",
              "      <td>122</td>\n",
              "      <td>271</td>\n",
              "      <td>4.516667</td>\n",
              "      <td>False</td>\n",
              "    </tr>\n",
              "    <tr>\n",
              "      <th>19</th>\n",
              "      <td>55</td>\n",
              "      <td>157</td>\n",
              "      <td>111</td>\n",
              "      <td>1.850000</td>\n",
              "      <td>True</td>\n",
              "    </tr>\n",
              "  </tbody>\n",
              "</table>\n",
              "</div>"
            ],
            "text/plain": [
              "    age  weight  exercise_time  exercise_time_in_hours  over_25\n",
              "0    44     118            192                3.200000     True\n",
              "1    41     161             35                0.583333     True\n",
              "2    46     128            220                3.666667     True\n",
              "3    39     216             57                0.950000     True\n",
              "4    28     116            182                3.033333     True\n",
              "5    58     103            165                2.750000     True\n",
              "6    55     161            107                1.783333     True\n",
              "7    21     188             37                0.616667    False\n",
              "8    55     216             79                1.316667     True\n",
              "9    50     127            267                4.450000     True\n",
              "10   21     160            228                3.800000    False\n",
              "11   43     102             78                1.300000     True\n",
              "12   73     209             44                0.733333     True\n",
              "13   27     165             48                0.800000     True\n",
              "14   21     169            171                2.850000    False\n",
              "15   36     131            194                3.233333     True\n",
              "16   49     171            191                3.183333     True\n",
              "17   69     172            147                2.450000     True\n",
              "18   18     122            271                4.516667    False\n",
              "19   55     157            111                1.850000     True"
            ]
          },
          "metadata": {
            "tags": []
          },
          "execution_count": 74
        }
      ]
    },
    {
      "cell_type": "code",
      "metadata": {
        "id": "KkMeowgowZXP",
        "colab_type": "code",
        "outputId": "b61ce8ae-cadb-49d1-b336-06969d26db12",
        "colab": {
          "base_uri": "https://localhost:8080/",
          "height": 68
        }
      },
      "source": [
        "df.over_25.value_counts()"
      ],
      "execution_count": 0,
      "outputs": [
        {
          "output_type": "execute_result",
          "data": {
            "text/plain": [
              "True     1046\n",
              "False     154\n",
              "Name: over_25, dtype: int64"
            ]
          },
          "metadata": {
            "tags": []
          },
          "execution_count": 76
        }
      ]
    },
    {
      "cell_type": "code",
      "metadata": {
        "id": "bdamTyll026L",
        "colab_type": "code",
        "outputId": "4cc88dab-5480-490b-cfe3-f636fe25798a",
        "colab": {
          "base_uri": "https://localhost:8080/",
          "height": 424
        }
      },
      "source": [
        "df.groupby('over_25').exercise_time_in_hours.hist(bins=20, alpha=0.5, figsize=(10,6))\n",
        "plt.title('Exercise Time in Hours(Over the Age of 25 vs.Under the Age of 25)')\n",
        "plt.ylabel('Count')\n",
        "plt.xlabel('Time in Hours')\n",
        "plt.legend(['Less than Age 25', 'Greater than Age 25'])\n",
        "plt.show()"
      ],
      "execution_count": 0,
      "outputs": [
        {
          "output_type": "display_data",
          "data": {
            "image/png": "[encoded data removed]",
            "text/plain": [
              "<Figure size 720x432 with 1 Axes>"
            ]
          },
          "metadata": {
            "tags": []
          }
        }
      ]
    },
    {
      "cell_type": "code",
      "metadata": {
        "id": "lveJr2ob3VCb",
        "colab_type": "code",
        "outputId": "7b0fc7e5-426e-4cb6-d3bd-e75e892f411e",
        "colab": {
          "base_uri": "https://localhost:8080/",
          "height": 191
        }
      },
      "source": [
        "pd.crosstab(df['over_25'], df['exercise_time'])"
      ],
      "execution_count": 0,
      "outputs": [
        {
          "output_type": "execute_result",
          "data": {
            "text/html": [
              "<div>\n",
              "<style scoped>\n",
              "    .dataframe tbody tr th:only-of-type {\n",
              "        vertical-align: middle;\n",
              "    }\n",
              "\n",
              "    .dataframe tbody tr th {\n",
              "        vertical-align: top;\n",
              "    }\n",
              "\n",
              "    .dataframe thead th {\n",
              "        text-align: right;\n",
              "    }\n",
              "</style>\n",
              "<table border=\"1\" class=\"dataframe\">\n",
              "  <thead>\n",
              "    <tr style=\"text-align: right;\">\n",
              "      <th>exercise_time</th>\n",
              "      <th>0</th>\n",
              "      <th>1</th>\n",
              "      <th>2</th>\n",
              "      <th>3</th>\n",
              "      <th>4</th>\n",
              "      <th>5</th>\n",
              "      <th>6</th>\n",
              "      <th>7</th>\n",
              "      <th>8</th>\n",
              "      <th>9</th>\n",
              "      <th>10</th>\n",
              "      <th>11</th>\n",
              "      <th>12</th>\n",
              "      <th>13</th>\n",
              "      <th>14</th>\n",
              "      <th>15</th>\n",
              "      <th>16</th>\n",
              "      <th>17</th>\n",
              "      <th>18</th>\n",
              "      <th>19</th>\n",
              "      <th>20</th>\n",
              "      <th>21</th>\n",
              "      <th>22</th>\n",
              "      <th>23</th>\n",
              "      <th>24</th>\n",
              "      <th>25</th>\n",
              "      <th>26</th>\n",
              "      <th>27</th>\n",
              "      <th>28</th>\n",
              "      <th>30</th>\n",
              "      <th>31</th>\n",
              "      <th>32</th>\n",
              "      <th>33</th>\n",
              "      <th>34</th>\n",
              "      <th>35</th>\n",
              "      <th>36</th>\n",
              "      <th>37</th>\n",
              "      <th>38</th>\n",
              "      <th>39</th>\n",
              "      <th>40</th>\n",
              "      <th>...</th>\n",
              "      <th>260</th>\n",
              "      <th>261</th>\n",
              "      <th>262</th>\n",
              "      <th>263</th>\n",
              "      <th>264</th>\n",
              "      <th>265</th>\n",
              "      <th>266</th>\n",
              "      <th>267</th>\n",
              "      <th>268</th>\n",
              "      <th>269</th>\n",
              "      <th>270</th>\n",
              "      <th>271</th>\n",
              "      <th>272</th>\n",
              "      <th>273</th>\n",
              "      <th>274</th>\n",
              "      <th>275</th>\n",
              "      <th>276</th>\n",
              "      <th>277</th>\n",
              "      <th>278</th>\n",
              "      <th>279</th>\n",
              "      <th>280</th>\n",
              "      <th>281</th>\n",
              "      <th>282</th>\n",
              "      <th>283</th>\n",
              "      <th>284</th>\n",
              "      <th>285</th>\n",
              "      <th>286</th>\n",
              "      <th>287</th>\n",
              "      <th>288</th>\n",
              "      <th>289</th>\n",
              "      <th>290</th>\n",
              "      <th>291</th>\n",
              "      <th>292</th>\n",
              "      <th>293</th>\n",
              "      <th>294</th>\n",
              "      <th>296</th>\n",
              "      <th>297</th>\n",
              "      <th>298</th>\n",
              "      <th>299</th>\n",
              "      <th>300</th>\n",
              "    </tr>\n",
              "    <tr>\n",
              "      <th>over_25</th>\n",
              "      <th></th>\n",
              "      <th></th>\n",
              "      <th></th>\n",
              "      <th></th>\n",
              "      <th></th>\n",
              "      <th></th>\n",
              "      <th></th>\n",
              "      <th></th>\n",
              "      <th></th>\n",
              "      <th></th>\n",
              "      <th></th>\n",
              "      <th></th>\n",
              "      <th></th>\n",
              "      <th></th>\n",
              "      <th></th>\n",
              "      <th></th>\n",
              "      <th></th>\n",
              "      <th></th>\n",
              "      <th></th>\n",
              "      <th></th>\n",
              "      <th></th>\n",
              "      <th></th>\n",
              "      <th></th>\n",
              "      <th></th>\n",
              "      <th></th>\n",
              "      <th></th>\n",
              "      <th></th>\n",
              "      <th></th>\n",
              "      <th></th>\n",
              "      <th></th>\n",
              "      <th></th>\n",
              "      <th></th>\n",
              "      <th></th>\n",
              "      <th></th>\n",
              "      <th></th>\n",
              "      <th></th>\n",
              "      <th></th>\n",
              "      <th></th>\n",
              "      <th></th>\n",
              "      <th></th>\n",
              "      <th></th>\n",
              "      <th></th>\n",
              "      <th></th>\n",
              "      <th></th>\n",
              "      <th></th>\n",
              "      <th></th>\n",
              "      <th></th>\n",
              "      <th></th>\n",
              "      <th></th>\n",
              "      <th></th>\n",
              "      <th></th>\n",
              "      <th></th>\n",
              "      <th></th>\n",
              "      <th></th>\n",
              "      <th></th>\n",
              "      <th></th>\n",
              "      <th></th>\n",
              "      <th></th>\n",
              "      <th></th>\n",
              "      <th></th>\n",
              "      <th></th>\n",
              "      <th></th>\n",
              "      <th></th>\n",
              "      <th></th>\n",
              "      <th></th>\n",
              "      <th></th>\n",
              "      <th></th>\n",
              "      <th></th>\n",
              "      <th></th>\n",
              "      <th></th>\n",
              "      <th></th>\n",
              "      <th></th>\n",
              "      <th></th>\n",
              "      <th></th>\n",
              "      <th></th>\n",
              "      <th></th>\n",
              "      <th></th>\n",
              "      <th></th>\n",
              "      <th></th>\n",
              "      <th></th>\n",
              "      <th></th>\n",
              "    </tr>\n",
              "  </thead>\n",
              "  <tbody>\n",
              "    <tr>\n",
              "      <th>False</th>\n",
              "      <td>1</td>\n",
              "      <td>0</td>\n",
              "      <td>0</td>\n",
              "      <td>1</td>\n",
              "      <td>0</td>\n",
              "      <td>0</td>\n",
              "      <td>1</td>\n",
              "      <td>0</td>\n",
              "      <td>0</td>\n",
              "      <td>1</td>\n",
              "      <td>1</td>\n",
              "      <td>1</td>\n",
              "      <td>0</td>\n",
              "      <td>0</td>\n",
              "      <td>0</td>\n",
              "      <td>0</td>\n",
              "      <td>0</td>\n",
              "      <td>0</td>\n",
              "      <td>0</td>\n",
              "      <td>0</td>\n",
              "      <td>1</td>\n",
              "      <td>1</td>\n",
              "      <td>0</td>\n",
              "      <td>0</td>\n",
              "      <td>0</td>\n",
              "      <td>0</td>\n",
              "      <td>0</td>\n",
              "      <td>0</td>\n",
              "      <td>3</td>\n",
              "      <td>1</td>\n",
              "      <td>2</td>\n",
              "      <td>0</td>\n",
              "      <td>0</td>\n",
              "      <td>0</td>\n",
              "      <td>2</td>\n",
              "      <td>1</td>\n",
              "      <td>1</td>\n",
              "      <td>0</td>\n",
              "      <td>0</td>\n",
              "      <td>0</td>\n",
              "      <td>...</td>\n",
              "      <td>0</td>\n",
              "      <td>0</td>\n",
              "      <td>1</td>\n",
              "      <td>0</td>\n",
              "      <td>1</td>\n",
              "      <td>1</td>\n",
              "      <td>0</td>\n",
              "      <td>1</td>\n",
              "      <td>0</td>\n",
              "      <td>0</td>\n",
              "      <td>0</td>\n",
              "      <td>1</td>\n",
              "      <td>0</td>\n",
              "      <td>1</td>\n",
              "      <td>0</td>\n",
              "      <td>0</td>\n",
              "      <td>0</td>\n",
              "      <td>0</td>\n",
              "      <td>0</td>\n",
              "      <td>1</td>\n",
              "      <td>1</td>\n",
              "      <td>1</td>\n",
              "      <td>1</td>\n",
              "      <td>0</td>\n",
              "      <td>0</td>\n",
              "      <td>1</td>\n",
              "      <td>0</td>\n",
              "      <td>0</td>\n",
              "      <td>0</td>\n",
              "      <td>0</td>\n",
              "      <td>0</td>\n",
              "      <td>0</td>\n",
              "      <td>0</td>\n",
              "      <td>1</td>\n",
              "      <td>0</td>\n",
              "      <td>0</td>\n",
              "      <td>0</td>\n",
              "      <td>0</td>\n",
              "      <td>0</td>\n",
              "      <td>1</td>\n",
              "    </tr>\n",
              "    <tr>\n",
              "      <th>True</th>\n",
              "      <td>1</td>\n",
              "      <td>4</td>\n",
              "      <td>7</td>\n",
              "      <td>5</td>\n",
              "      <td>5</td>\n",
              "      <td>7</td>\n",
              "      <td>5</td>\n",
              "      <td>1</td>\n",
              "      <td>3</td>\n",
              "      <td>2</td>\n",
              "      <td>5</td>\n",
              "      <td>0</td>\n",
              "      <td>2</td>\n",
              "      <td>6</td>\n",
              "      <td>3</td>\n",
              "      <td>5</td>\n",
              "      <td>5</td>\n",
              "      <td>11</td>\n",
              "      <td>6</td>\n",
              "      <td>5</td>\n",
              "      <td>4</td>\n",
              "      <td>11</td>\n",
              "      <td>7</td>\n",
              "      <td>2</td>\n",
              "      <td>5</td>\n",
              "      <td>3</td>\n",
              "      <td>2</td>\n",
              "      <td>6</td>\n",
              "      <td>3</td>\n",
              "      <td>6</td>\n",
              "      <td>6</td>\n",
              "      <td>3</td>\n",
              "      <td>6</td>\n",
              "      <td>6</td>\n",
              "      <td>5</td>\n",
              "      <td>6</td>\n",
              "      <td>4</td>\n",
              "      <td>5</td>\n",
              "      <td>1</td>\n",
              "      <td>4</td>\n",
              "      <td>...</td>\n",
              "      <td>3</td>\n",
              "      <td>4</td>\n",
              "      <td>3</td>\n",
              "      <td>4</td>\n",
              "      <td>3</td>\n",
              "      <td>4</td>\n",
              "      <td>3</td>\n",
              "      <td>3</td>\n",
              "      <td>1</td>\n",
              "      <td>1</td>\n",
              "      <td>6</td>\n",
              "      <td>0</td>\n",
              "      <td>1</td>\n",
              "      <td>2</td>\n",
              "      <td>3</td>\n",
              "      <td>1</td>\n",
              "      <td>5</td>\n",
              "      <td>6</td>\n",
              "      <td>3</td>\n",
              "      <td>2</td>\n",
              "      <td>5</td>\n",
              "      <td>1</td>\n",
              "      <td>3</td>\n",
              "      <td>1</td>\n",
              "      <td>3</td>\n",
              "      <td>1</td>\n",
              "      <td>1</td>\n",
              "      <td>5</td>\n",
              "      <td>3</td>\n",
              "      <td>7</td>\n",
              "      <td>1</td>\n",
              "      <td>3</td>\n",
              "      <td>2</td>\n",
              "      <td>2</td>\n",
              "      <td>1</td>\n",
              "      <td>4</td>\n",
              "      <td>4</td>\n",
              "      <td>6</td>\n",
              "      <td>2</td>\n",
              "      <td>4</td>\n",
              "    </tr>\n",
              "  </tbody>\n",
              "</table>\n",
              "<p>2 rows × 294 columns</p>\n",
              "</div>"
            ],
            "text/plain": [
              "exercise_time  0    1    2    3    4    5    ...  294  296  297  298  299  300\n",
              "over_25                                      ...                              \n",
              "False            1    0    0    1    0    0  ...    0    0    0    0    0    1\n",
              "True             1    4    7    5    5    7  ...    1    4    4    6    2    4\n",
              "\n",
              "[2 rows x 294 columns]"
            ]
          },
          "metadata": {
            "tags": []
          },
          "execution_count": 91
        }
      ]
    },
    {
      "cell_type": "code",
      "metadata": {
        "id": "YIri4Rqj3xy3",
        "colab_type": "code",
        "outputId": "69758c57-3e3b-474e-f3d5-bdb9d45732b1",
        "colab": {
          "base_uri": "https://localhost:8080/",
          "height": 235
        }
      },
      "source": [
        "time_bins = pd.cut(df['exercise_time_in_hours'], 5)\n",
        "pd.crosstab(time_bins, df['over_25'])"
      ],
      "execution_count": 0,
      "outputs": [
        {
          "output_type": "execute_result",
          "data": {
            "text/html": [
              "<div>\n",
              "<style scoped>\n",
              "    .dataframe tbody tr th:only-of-type {\n",
              "        vertical-align: middle;\n",
              "    }\n",
              "\n",
              "    .dataframe tbody tr th {\n",
              "        vertical-align: top;\n",
              "    }\n",
              "\n",
              "    .dataframe thead th {\n",
              "        text-align: right;\n",
              "    }\n",
              "</style>\n",
              "<table border=\"1\" class=\"dataframe\">\n",
              "  <thead>\n",
              "    <tr style=\"text-align: right;\">\n",
              "      <th>over_25</th>\n",
              "      <th>False</th>\n",
              "      <th>True</th>\n",
              "    </tr>\n",
              "    <tr>\n",
              "      <th>exercise_time_in_hours</th>\n",
              "      <th></th>\n",
              "      <th></th>\n",
              "    </tr>\n",
              "  </thead>\n",
              "  <tbody>\n",
              "    <tr>\n",
              "      <th>(-0.005, 1.0]</th>\n",
              "      <td>26</td>\n",
              "      <td>252</td>\n",
              "    </tr>\n",
              "    <tr>\n",
              "      <th>(1.0, 2.0]</th>\n",
              "      <td>34</td>\n",
              "      <td>282</td>\n",
              "    </tr>\n",
              "    <tr>\n",
              "      <th>(2.0, 3.0]</th>\n",
              "      <td>36</td>\n",
              "      <td>187</td>\n",
              "    </tr>\n",
              "    <tr>\n",
              "      <th>(3.0, 4.0]</th>\n",
              "      <td>38</td>\n",
              "      <td>154</td>\n",
              "    </tr>\n",
              "    <tr>\n",
              "      <th>(4.0, 5.0]</th>\n",
              "      <td>20</td>\n",
              "      <td>171</td>\n",
              "    </tr>\n",
              "  </tbody>\n",
              "</table>\n",
              "</div>"
            ],
            "text/plain": [
              "over_25                 False  True \n",
              "exercise_time_in_hours              \n",
              "(-0.005, 1.0]              26    252\n",
              "(1.0, 2.0]                 34    282\n",
              "(2.0, 3.0]                 36    187\n",
              "(3.0, 4.0]                 38    154\n",
              "(4.0, 5.0]                 20    171"
            ]
          },
          "metadata": {
            "tags": []
          },
          "execution_count": 92
        }
      ]
    },
    {
      "cell_type": "code",
      "metadata": {
        "id": "fSBbOG4G4iyE",
        "colab_type": "code",
        "outputId": "c2b7b716-d6d1-4f57-e181-d809b2f49931",
        "colab": {
          "base_uri": "https://localhost:8080/",
          "height": 235
        }
      },
      "source": [
        "time_bins = pd.cut(df['exercise_time_in_hours'], 5)\n",
        "pd.crosstab(time_bins, df['over_25'], normalize='index')"
      ],
      "execution_count": 0,
      "outputs": [
        {
          "output_type": "execute_result",
          "data": {
            "text/html": [
              "<div>\n",
              "<style scoped>\n",
              "    .dataframe tbody tr th:only-of-type {\n",
              "        vertical-align: middle;\n",
              "    }\n",
              "\n",
              "    .dataframe tbody tr th {\n",
              "        vertical-align: top;\n",
              "    }\n",
              "\n",
              "    .dataframe thead th {\n",
              "        text-align: right;\n",
              "    }\n",
              "</style>\n",
              "<table border=\"1\" class=\"dataframe\">\n",
              "  <thead>\n",
              "    <tr style=\"text-align: right;\">\n",
              "      <th>over_25</th>\n",
              "      <th>False</th>\n",
              "      <th>True</th>\n",
              "    </tr>\n",
              "    <tr>\n",
              "      <th>exercise_time_in_hours</th>\n",
              "      <th></th>\n",
              "      <th></th>\n",
              "    </tr>\n",
              "  </thead>\n",
              "  <tbody>\n",
              "    <tr>\n",
              "      <th>(-0.005, 1.0]</th>\n",
              "      <td>0.093525</td>\n",
              "      <td>0.906475</td>\n",
              "    </tr>\n",
              "    <tr>\n",
              "      <th>(1.0, 2.0]</th>\n",
              "      <td>0.107595</td>\n",
              "      <td>0.892405</td>\n",
              "    </tr>\n",
              "    <tr>\n",
              "      <th>(2.0, 3.0]</th>\n",
              "      <td>0.161435</td>\n",
              "      <td>0.838565</td>\n",
              "    </tr>\n",
              "    <tr>\n",
              "      <th>(3.0, 4.0]</th>\n",
              "      <td>0.197917</td>\n",
              "      <td>0.802083</td>\n",
              "    </tr>\n",
              "    <tr>\n",
              "      <th>(4.0, 5.0]</th>\n",
              "      <td>0.104712</td>\n",
              "      <td>0.895288</td>\n",
              "    </tr>\n",
              "  </tbody>\n",
              "</table>\n",
              "</div>"
            ],
            "text/plain": [
              "over_25                    False     True \n",
              "exercise_time_in_hours                    \n",
              "(-0.005, 1.0]           0.093525  0.906475\n",
              "(1.0, 2.0]              0.107595  0.892405\n",
              "(2.0, 3.0]              0.161435  0.838565\n",
              "(3.0, 4.0]              0.197917  0.802083\n",
              "(4.0, 5.0]              0.104712  0.895288"
            ]
          },
          "metadata": {
            "tags": []
          },
          "execution_count": 93
        }
      ]
    },
    {
      "cell_type": "code",
      "metadata": {
        "id": "hj2UV8vB431o",
        "colab_type": "code",
        "outputId": "aa2f9c5f-cf77-4450-a1fa-153f05c32294",
        "colab": {
          "base_uri": "https://localhost:8080/",
          "height": 235
        }
      },
      "source": [
        "pd.crosstab(time_bins, df['over_25'], normalize='columns')"
      ],
      "execution_count": 0,
      "outputs": [
        {
          "output_type": "execute_result",
          "data": {
            "text/html": [
              "<div>\n",
              "<style scoped>\n",
              "    .dataframe tbody tr th:only-of-type {\n",
              "        vertical-align: middle;\n",
              "    }\n",
              "\n",
              "    .dataframe tbody tr th {\n",
              "        vertical-align: top;\n",
              "    }\n",
              "\n",
              "    .dataframe thead th {\n",
              "        text-align: right;\n",
              "    }\n",
              "</style>\n",
              "<table border=\"1\" class=\"dataframe\">\n",
              "  <thead>\n",
              "    <tr style=\"text-align: right;\">\n",
              "      <th>over_25</th>\n",
              "      <th>False</th>\n",
              "      <th>True</th>\n",
              "    </tr>\n",
              "    <tr>\n",
              "      <th>exercise_time_in_hours</th>\n",
              "      <th></th>\n",
              "      <th></th>\n",
              "    </tr>\n",
              "  </thead>\n",
              "  <tbody>\n",
              "    <tr>\n",
              "      <th>(-0.005, 1.0]</th>\n",
              "      <td>0.168831</td>\n",
              "      <td>0.240918</td>\n",
              "    </tr>\n",
              "    <tr>\n",
              "      <th>(1.0, 2.0]</th>\n",
              "      <td>0.220779</td>\n",
              "      <td>0.269598</td>\n",
              "    </tr>\n",
              "    <tr>\n",
              "      <th>(2.0, 3.0]</th>\n",
              "      <td>0.233766</td>\n",
              "      <td>0.178776</td>\n",
              "    </tr>\n",
              "    <tr>\n",
              "      <th>(3.0, 4.0]</th>\n",
              "      <td>0.246753</td>\n",
              "      <td>0.147228</td>\n",
              "    </tr>\n",
              "    <tr>\n",
              "      <th>(4.0, 5.0]</th>\n",
              "      <td>0.129870</td>\n",
              "      <td>0.163480</td>\n",
              "    </tr>\n",
              "  </tbody>\n",
              "</table>\n",
              "</div>"
            ],
            "text/plain": [
              "over_25                    False     True \n",
              "exercise_time_in_hours                    \n",
              "(-0.005, 1.0]           0.168831  0.240918\n",
              "(1.0, 2.0]              0.220779  0.269598\n",
              "(2.0, 3.0]              0.233766  0.178776\n",
              "(3.0, 4.0]              0.246753  0.147228\n",
              "(4.0, 5.0]              0.129870  0.163480"
            ]
          },
          "metadata": {
            "tags": []
          },
          "execution_count": 95
        }
      ]
    },
    {
      "cell_type": "code",
      "metadata": {
        "id": "uVpYWhXH7-ED",
        "colab_type": "code",
        "outputId": "659b6312-11b4-4804-e0b6-ed2c497f8468",
        "colab": {
          "base_uri": "https://localhost:8080/",
          "height": 34
        }
      },
      "source": [
        "average_weight = 196.9 + 167.6/2\n",
        "print(average_weight)"
      ],
      "execution_count": 0,
      "outputs": [
        {
          "output_type": "stream",
          "text": [
            "280.7\n"
          ],
          "name": "stdout"
        }
      ]
    },
    {
      "cell_type": "markdown",
      "metadata": {
        "id": "BT9gdS7viJZa",
        "colab_type": "text"
      },
      "source": [
        "### Assignment questions\n",
        "\n",
        "After you've worked on some code, answer the following questions in this text block:\n",
        "\n",
        "1.  What are the variable types in the data?\n",
        "All of the variables are int-type.\n",
        "I added in an extra bool column to check if the age of the people was over 25.\n",
        "2.  What are the relationships between the variables?\n",
        "It looks like people under the age of 25 were vastly overrepresented in the sample in comparison to older folks. Those numbers were driving the exercise time way up. \n",
        "3.  Which relationships are \"real\", and which spurious?\n",
        "Gender has not been taken into account, which may play a huge role . Also, their daily schedules are very important in terms of extra time devoted to exercising. \n"
      ]
    },
    {
      "cell_type": "markdown",
      "metadata": {
        "id": "_XXg2crAipwP",
        "colab_type": "text"
      },
      "source": [
        "## Stretch goals and resources\n",
        "\n",
        "Following are *optional* things for you to take a look at. Focus on the above assignment first, and make sure to commit and push your changes to GitHub.\n",
        "\n",
        "- [Spurious Correlations](http://tylervigen.com/spurious-correlations)\n",
        "- [NIH on controlling for confounding variables](https://www.ncbi.nlm.nih.gov/pmc/articles/PMC4017459/)\n",
        "\n",
        "Stretch goals:\n",
        "\n",
        "- Produce your own plot inspired by the Spurious Correlation visualizations (and consider writing a blog post about it - both the content and how you made it)\n",
        "- Pick one of the techniques that NIH highlights for confounding variables - we'll be going into many of them later, but see if you can find which Python modules may help (hint - check scikit-learn)"
      ]
    },
    {
      "cell_type": "markdown",
      "metadata": {
        "id": "TW21-fWiCM5F",
        "colab_type": "text"
      },
      "source": [
        "## Link to lecture\n",
        "https://youtu.be/rcnSkpbRQh0"
      ]
    }
  ]
}