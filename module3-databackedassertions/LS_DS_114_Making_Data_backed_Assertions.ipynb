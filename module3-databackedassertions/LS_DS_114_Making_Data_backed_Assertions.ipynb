{
  "nbformat": 4,
  "nbformat_minor": 0,
  "metadata": {
    "colab": {
      "name": "LS_DS_114_Making_Data_backed_Assertions.ipynb",
      "version": "0.3.2",
      "provenance": [],
      "collapsed_sections": [],
      "include_colab_link": true
    },
    "kernelspec": {
      "name": "python3",
      "display_name": "Python 3"
    }
  },
  "cells": [
    {
      "cell_type": "markdown",
      "metadata": {
        "id": "view-in-github",
        "colab_type": "text"
      },
      "source": [
        "<a href=\"https://colab.research.google.com/github/mauney/DS-Unit-1-Sprint-1-Dealing-With-Data/blob/master/module3-databackedassertions/LS_DS_114_Making_Data_backed_Assertions.ipynb\" target=\"_parent\"><img src=\"https://colab.research.google.com/assets/colab-badge.svg\" alt=\"Open In Colab\"/></a>"
      ]
    },
    {
      "cell_type": "markdown",
      "metadata": {
        "id": "Okfr_uhwhS1X",
        "colab_type": "text"
      },
      "source": [
        "# Lambda School Data Science - Making Data-backed Assertions\n",
        "\n",
        "This is, for many, the main point of data science - to create and support reasoned arguments based on evidence. It's not a topic to master in a day, but it is worth some focused time thinking about and structuring your approach to it."
      ]
    },
    {
      "cell_type": "markdown",
      "metadata": {
        "id": "9dtJETFRhnOG",
        "colab_type": "text"
      },
      "source": [
        "## Lecture - generating a confounding variable\n",
        "\n",
        "The prewatch material told a story about a hypothetical health condition where both the drug usage and overall health outcome were related to gender - thus making gender a confounding variable, obfuscating the possible relationship between the drug and the outcome.\n",
        "\n",
        "Let's use Python to generate data that actually behaves in this fashion!"
      ]
    },
    {
      "cell_type": "code",
      "metadata": {
        "id": "WiBkgmPJhmhE",
        "colab_type": "code",
        "colab": {}
      },
      "source": [
        "import random\n",
        "dir(random)  # Reminding ourselves what we can do here"
      ],
      "execution_count": 0,
      "outputs": []
    },
    {
      "cell_type": "code",
      "metadata": {
        "id": "Ks5qFtpnq-q5",
        "colab_type": "code",
        "outputId": "4d8e1064-bf60-4a45-81c1-d6dcd3ecfe0a",
        "colab": {
          "base_uri": "https://localhost:8080/",
          "height": 35
        }
      },
      "source": [
        "# Let's think of another scenario:\n",
        "# We work for a company that sells accessories for mobile phones.\n",
        "# They have an ecommerce site, and we are supposed to analyze logs\n",
        "# to determine what sort of usage is related to purchases, and thus guide\n",
        "# website development to encourage higher conversion.\n",
        "\n",
        "# The hypothesis - users who spend longer on the site tend\n",
        "# to spend more. Seems reasonable, no?\n",
        "\n",
        "# But there's a confounding variable! If they're on a phone, they:\n",
        "# a) Spend less time on the site, but\n",
        "# b) Are more likely to be interested in the actual products!\n",
        "\n",
        "# Let's use namedtuple to represent our data\n",
        "\n",
        "from collections import namedtuple\n",
        "# purchased and mobile are bools, time_on_site in seconds\n",
        "User = namedtuple('User', ['purchased','time_on_site', 'mobile'])\n",
        "\n",
        "example_user = User(False, 12, False)\n",
        "print(example_user)"
      ],
      "execution_count": 0,
      "outputs": [
        {
          "output_type": "stream",
          "text": [
            "User(purchased=False, time_on_site=12, mobile=False)\n"
          ],
          "name": "stdout"
        }
      ]
    },
    {
      "cell_type": "code",
      "metadata": {
        "id": "lfPiHNG_sefL",
        "colab_type": "code",
        "outputId": "903da34a-fa19-4d4a-8cc7-45dd14f022cf",
        "colab": {
          "base_uri": "https://localhost:8080/",
          "height": 55
        }
      },
      "source": [
        "# And now let's generate 1000 example users\n",
        "# 750 mobile, 250 not (i.e. desktop)\n",
        "# A desktop user has a base conversion likelihood of 10%\n",
        "# And it goes up by 1% for each 15 seconds they spend on the site\n",
        "# And they spend anywhere from 10 seconds to 10 minutes on the site (uniform)\n",
        "# Mobile users spend on average half as much time on the site as desktop\n",
        "# But have three times as much base likelihood of buying something\n",
        "\n",
        "users = []\n",
        "\n",
        "for _ in range(250):\n",
        "  # Desktop users\n",
        "  time_on_site = random.uniform(10, 600)\n",
        "  purchased = random.random() < 0.1 + (time_on_site / 1500)\n",
        "  users.append(User(purchased, time_on_site, False))\n",
        "  \n",
        "for _ in range(750):\n",
        "  # Mobile users\n",
        "  time_on_site = random.uniform(5, 300)\n",
        "  purchased = random.random() < 0.3 + (time_on_site / 1500)\n",
        "  users.append(User(purchased, time_on_site, True))\n",
        "  \n",
        "random.shuffle(users)\n",
        "print(users[:10])"
      ],
      "execution_count": 0,
      "outputs": [
        {
          "output_type": "stream",
          "text": [
            "[User(purchased=False, time_on_site=180.18849314523848, mobile=False), User(purchased=True, time_on_site=135.67700482149365, mobile=False), User(purchased=True, time_on_site=159.88535379510446, mobile=True), User(purchased=True, time_on_site=257.7835981679507, mobile=True), User(purchased=False, time_on_site=86.99445445027507, mobile=False), User(purchased=False, time_on_site=173.67358829592212, mobile=True), User(purchased=True, time_on_site=44.968058188901246, mobile=True), User(purchased=False, time_on_site=30.15219480121866, mobile=True), User(purchased=False, time_on_site=460.0007745853941, mobile=False), User(purchased=False, time_on_site=122.22911474525455, mobile=True)]\n"
          ],
          "name": "stdout"
        }
      ]
    },
    {
      "cell_type": "code",
      "metadata": {
        "id": "9gDYb5qGuRzy",
        "colab_type": "code",
        "colab": {}
      },
      "source": [
        "# Let's put this in a dataframe so we can look at it more easily\n",
        "import pandas as pd\n",
        "user_data = pd.DataFrame(users)\n",
        "user_data.head()"
      ],
      "execution_count": 0,
      "outputs": []
    },
    {
      "cell_type": "code",
      "metadata": {
        "id": "sr6IJv77ulVl",
        "colab_type": "code",
        "outputId": "07eace5e-1308-4f04-d3a9-6093a31f24ed",
        "colab": {
          "base_uri": "https://localhost:8080/",
          "height": 193
        }
      },
      "source": [
        "# Let's use crosstabulation to try to see what's going on\n",
        "pd.crosstab(user_data['purchased'], user_data['time_on_site'])"
      ],
      "execution_count": 0,
      "outputs": [
        {
          "output_type": "execute_result",
          "data": {
            "text/html": [
              "<div>\n",
              "<style scoped>\n",
              "    .dataframe tbody tr th:only-of-type {\n",
              "        vertical-align: middle;\n",
              "    }\n",
              "\n",
              "    .dataframe tbody tr th {\n",
              "        vertical-align: top;\n",
              "    }\n",
              "\n",
              "    .dataframe thead th {\n",
              "        text-align: right;\n",
              "    }\n",
              "</style>\n",
              "<table border=\"1\" class=\"dataframe\">\n",
              "  <thead>\n",
              "    <tr style=\"text-align: right;\">\n",
              "      <th>time_on_site</th>\n",
              "      <th>5.395806383057993</th>\n",
              "      <th>5.457727420381445</th>\n",
              "      <th>6.012980358659168</th>\n",
              "      <th>6.370819673044487</th>\n",
              "      <th>6.526220869482321</th>\n",
              "      <th>6.618506115477453</th>\n",
              "      <th>6.744300972093091</th>\n",
              "      <th>6.937814523764514</th>\n",
              "      <th>7.022230321283178</th>\n",
              "      <th>7.738183255456649</th>\n",
              "      <th>...</th>\n",
              "      <th>570.7205763776294</th>\n",
              "      <th>572.579212329361</th>\n",
              "      <th>573.071762294419</th>\n",
              "      <th>577.5607756708825</th>\n",
              "      <th>578.0265919014007</th>\n",
              "      <th>578.8349054472059</th>\n",
              "      <th>584.0914381586123</th>\n",
              "      <th>586.960469433746</th>\n",
              "      <th>588.7975083689481</th>\n",
              "      <th>599.8083961016524</th>\n",
              "    </tr>\n",
              "    <tr>\n",
              "      <th>purchased</th>\n",
              "      <th></th>\n",
              "      <th></th>\n",
              "      <th></th>\n",
              "      <th></th>\n",
              "      <th></th>\n",
              "      <th></th>\n",
              "      <th></th>\n",
              "      <th></th>\n",
              "      <th></th>\n",
              "      <th></th>\n",
              "      <th></th>\n",
              "      <th></th>\n",
              "      <th></th>\n",
              "      <th></th>\n",
              "      <th></th>\n",
              "      <th></th>\n",
              "      <th></th>\n",
              "      <th></th>\n",
              "      <th></th>\n",
              "      <th></th>\n",
              "      <th></th>\n",
              "    </tr>\n",
              "  </thead>\n",
              "  <tbody>\n",
              "    <tr>\n",
              "      <th>False</th>\n",
              "      <td>1</td>\n",
              "      <td>1</td>\n",
              "      <td>1</td>\n",
              "      <td>1</td>\n",
              "      <td>1</td>\n",
              "      <td>1</td>\n",
              "      <td>1</td>\n",
              "      <td>1</td>\n",
              "      <td>1</td>\n",
              "      <td>1</td>\n",
              "      <td>...</td>\n",
              "      <td>0</td>\n",
              "      <td>1</td>\n",
              "      <td>1</td>\n",
              "      <td>1</td>\n",
              "      <td>1</td>\n",
              "      <td>0</td>\n",
              "      <td>0</td>\n",
              "      <td>0</td>\n",
              "      <td>1</td>\n",
              "      <td>1</td>\n",
              "    </tr>\n",
              "    <tr>\n",
              "      <th>True</th>\n",
              "      <td>0</td>\n",
              "      <td>0</td>\n",
              "      <td>0</td>\n",
              "      <td>0</td>\n",
              "      <td>0</td>\n",
              "      <td>0</td>\n",
              "      <td>0</td>\n",
              "      <td>0</td>\n",
              "      <td>0</td>\n",
              "      <td>0</td>\n",
              "      <td>...</td>\n",
              "      <td>1</td>\n",
              "      <td>0</td>\n",
              "      <td>0</td>\n",
              "      <td>0</td>\n",
              "      <td>0</td>\n",
              "      <td>1</td>\n",
              "      <td>1</td>\n",
              "      <td>1</td>\n",
              "      <td>0</td>\n",
              "      <td>0</td>\n",
              "    </tr>\n",
              "  </tbody>\n",
              "</table>\n",
              "<p>2 rows × 1000 columns</p>\n",
              "</div>"
            ],
            "text/plain": [
              "time_on_site  5.395806    5.457727    6.012980    6.370820    6.526221    \\\n",
              "purchased                                                                  \n",
              "False                  1           1           1           1           1   \n",
              "True                   0           0           0           0           0   \n",
              "\n",
              "time_on_site  6.618506    6.744301    6.937815    7.022230    7.738183    \\\n",
              "purchased                                                                  \n",
              "False                  1           1           1           1           1   \n",
              "True                   0           0           0           0           0   \n",
              "\n",
              "time_on_site     ...      570.720576  572.579212  573.071762  577.560776  \\\n",
              "purchased        ...                                                       \n",
              "False            ...               0           1           1           1   \n",
              "True             ...               1           0           0           0   \n",
              "\n",
              "time_on_site  578.026592  578.834905  584.091438  586.960469  588.797508  \\\n",
              "purchased                                                                  \n",
              "False                  1           0           0           0           1   \n",
              "True                   0           1           1           1           0   \n",
              "\n",
              "time_on_site  599.808396  \n",
              "purchased                 \n",
              "False                  1  \n",
              "True                   0  \n",
              "\n",
              "[2 rows x 1000 columns]"
            ]
          },
          "metadata": {
            "tags": []
          },
          "execution_count": 5
        }
      ]
    },
    {
      "cell_type": "code",
      "metadata": {
        "id": "hvAv6J3EwA9s",
        "colab_type": "code",
        "outputId": "7b45d8c5-2fda-4df6-fecc-a14129ed76fb",
        "colab": {
          "base_uri": "https://localhost:8080/",
          "height": 161
        }
      },
      "source": [
        "# OK, that's not quite what we want\n",
        "# Time is continuous! We need to put it in discrete buckets\n",
        "# Pandas calls these bins, and pandas.cut helps make them\n",
        "\n",
        "time_bins = pd.cut(user_data['time_on_site'], 5)  # 5 equal-sized bins\n",
        "pd.crosstab(user_data['purchased'], time_bins)"
      ],
      "execution_count": 0,
      "outputs": [
        {
          "output_type": "execute_result",
          "data": {
            "text/html": [
              "<div>\n",
              "<style scoped>\n",
              "    .dataframe tbody tr th:only-of-type {\n",
              "        vertical-align: middle;\n",
              "    }\n",
              "\n",
              "    .dataframe tbody tr th {\n",
              "        vertical-align: top;\n",
              "    }\n",
              "\n",
              "    .dataframe thead th {\n",
              "        text-align: right;\n",
              "    }\n",
              "</style>\n",
              "<table border=\"1\" class=\"dataframe\">\n",
              "  <thead>\n",
              "    <tr style=\"text-align: right;\">\n",
              "      <th>time_on_site</th>\n",
              "      <th>(4.801, 124.278]</th>\n",
              "      <th>(124.278, 243.161]</th>\n",
              "      <th>(243.161, 362.043]</th>\n",
              "      <th>(362.043, 480.926]</th>\n",
              "      <th>(480.926, 599.808]</th>\n",
              "    </tr>\n",
              "    <tr>\n",
              "      <th>purchased</th>\n",
              "      <th></th>\n",
              "      <th></th>\n",
              "      <th></th>\n",
              "      <th></th>\n",
              "      <th></th>\n",
              "    </tr>\n",
              "  </thead>\n",
              "  <tbody>\n",
              "    <tr>\n",
              "      <th>False</th>\n",
              "      <td>240</td>\n",
              "      <td>233</td>\n",
              "      <td>105</td>\n",
              "      <td>29</td>\n",
              "      <td>28</td>\n",
              "    </tr>\n",
              "    <tr>\n",
              "      <th>True</th>\n",
              "      <td>96</td>\n",
              "      <td>131</td>\n",
              "      <td>102</td>\n",
              "      <td>20</td>\n",
              "      <td>16</td>\n",
              "    </tr>\n",
              "  </tbody>\n",
              "</table>\n",
              "</div>"
            ],
            "text/plain": [
              "time_on_site  (4.801, 124.278]  (124.278, 243.161]  (243.161, 362.043]  \\\n",
              "purchased                                                                \n",
              "False                      240                 233                 105   \n",
              "True                        96                 131                 102   \n",
              "\n",
              "time_on_site  (362.043, 480.926]  (480.926, 599.808]  \n",
              "purchased                                             \n",
              "False                         29                  28  \n",
              "True                          20                  16  "
            ]
          },
          "metadata": {
            "tags": []
          },
          "execution_count": 6
        }
      ]
    },
    {
      "cell_type": "code",
      "metadata": {
        "id": "pjcXnJw0wfaj",
        "colab_type": "code",
        "outputId": "e8f6d2d9-7f66-46b4-d213-04145889e0df",
        "colab": {
          "base_uri": "https://localhost:8080/",
          "height": 161
        }
      },
      "source": [
        "# We can make this a bit clearer by normalizing (getting %)\n",
        "pd.crosstab(user_data['purchased'], time_bins, normalize='columns')"
      ],
      "execution_count": 0,
      "outputs": [
        {
          "output_type": "execute_result",
          "data": {
            "text/html": [
              "<div>\n",
              "<style scoped>\n",
              "    .dataframe tbody tr th:only-of-type {\n",
              "        vertical-align: middle;\n",
              "    }\n",
              "\n",
              "    .dataframe tbody tr th {\n",
              "        vertical-align: top;\n",
              "    }\n",
              "\n",
              "    .dataframe thead th {\n",
              "        text-align: right;\n",
              "    }\n",
              "</style>\n",
              "<table border=\"1\" class=\"dataframe\">\n",
              "  <thead>\n",
              "    <tr style=\"text-align: right;\">\n",
              "      <th>time_on_site</th>\n",
              "      <th>(4.801, 124.278]</th>\n",
              "      <th>(124.278, 243.161]</th>\n",
              "      <th>(243.161, 362.043]</th>\n",
              "      <th>(362.043, 480.926]</th>\n",
              "      <th>(480.926, 599.808]</th>\n",
              "    </tr>\n",
              "    <tr>\n",
              "      <th>purchased</th>\n",
              "      <th></th>\n",
              "      <th></th>\n",
              "      <th></th>\n",
              "      <th></th>\n",
              "      <th></th>\n",
              "    </tr>\n",
              "  </thead>\n",
              "  <tbody>\n",
              "    <tr>\n",
              "      <th>False</th>\n",
              "      <td>0.714286</td>\n",
              "      <td>0.64011</td>\n",
              "      <td>0.507246</td>\n",
              "      <td>0.591837</td>\n",
              "      <td>0.636364</td>\n",
              "    </tr>\n",
              "    <tr>\n",
              "      <th>True</th>\n",
              "      <td>0.285714</td>\n",
              "      <td>0.35989</td>\n",
              "      <td>0.492754</td>\n",
              "      <td>0.408163</td>\n",
              "      <td>0.363636</td>\n",
              "    </tr>\n",
              "  </tbody>\n",
              "</table>\n",
              "</div>"
            ],
            "text/plain": [
              "time_on_site  (4.801, 124.278]  (124.278, 243.161]  (243.161, 362.043]  \\\n",
              "purchased                                                                \n",
              "False                 0.714286             0.64011            0.507246   \n",
              "True                  0.285714             0.35989            0.492754   \n",
              "\n",
              "time_on_site  (362.043, 480.926]  (480.926, 599.808]  \n",
              "purchased                                             \n",
              "False                   0.591837            0.636364  \n",
              "True                    0.408163            0.363636  "
            ]
          },
          "metadata": {
            "tags": []
          },
          "execution_count": 7
        }
      ]
    },
    {
      "cell_type": "code",
      "metadata": {
        "id": "C3GzvDxlvZMa",
        "colab_type": "code",
        "outputId": "d07bf197-350b-4bf2-a5d8-8897b8fc8446",
        "colab": {
          "base_uri": "https://localhost:8080/",
          "height": 143
        }
      },
      "source": [
        "# That seems counter to our hypothesis\n",
        "# More time on the site can actually have fewer purchases\n",
        "\n",
        "# But we know why, since we generated the data!\n",
        "# Let's look at mobile and purchased\n",
        "pd.crosstab(user_data['purchased'], user_data['mobile'], normalize='columns')"
      ],
      "execution_count": 0,
      "outputs": [
        {
          "output_type": "execute_result",
          "data": {
            "text/html": [
              "<div>\n",
              "<style scoped>\n",
              "    .dataframe tbody tr th:only-of-type {\n",
              "        vertical-align: middle;\n",
              "    }\n",
              "\n",
              "    .dataframe tbody tr th {\n",
              "        vertical-align: top;\n",
              "    }\n",
              "\n",
              "    .dataframe thead th {\n",
              "        text-align: right;\n",
              "    }\n",
              "</style>\n",
              "<table border=\"1\" class=\"dataframe\">\n",
              "  <thead>\n",
              "    <tr style=\"text-align: right;\">\n",
              "      <th>mobile</th>\n",
              "      <th>False</th>\n",
              "      <th>True</th>\n",
              "    </tr>\n",
              "    <tr>\n",
              "      <th>purchased</th>\n",
              "      <th></th>\n",
              "      <th></th>\n",
              "    </tr>\n",
              "  </thead>\n",
              "  <tbody>\n",
              "    <tr>\n",
              "      <th>False</th>\n",
              "      <td>0.672</td>\n",
              "      <td>0.622667</td>\n",
              "    </tr>\n",
              "    <tr>\n",
              "      <th>True</th>\n",
              "      <td>0.328</td>\n",
              "      <td>0.377333</td>\n",
              "    </tr>\n",
              "  </tbody>\n",
              "</table>\n",
              "</div>"
            ],
            "text/plain": [
              "mobile     False     True \n",
              "purchased                 \n",
              "False      0.672  0.622667\n",
              "True       0.328  0.377333"
            ]
          },
          "metadata": {
            "tags": []
          },
          "execution_count": 8
        }
      ]
    },
    {
      "cell_type": "code",
      "metadata": {
        "id": "KQb-wU60xCum",
        "colab_type": "code",
        "colab": {}
      },
      "source": [
        "# Yep, mobile users are more likely to buy things\n",
        "# But we're still not seeing the *whole* story until we look at all 3 at once\n",
        "\n",
        "# Live/stretch goal - how can we do that?"
      ],
      "execution_count": 0,
      "outputs": []
    },
    {
      "cell_type": "markdown",
      "metadata": {
        "id": "lOqaPds9huME",
        "colab_type": "text"
      },
      "source": [
        "## Assignment - what's going on here?\n",
        "\n",
        "Consider the data in `persons.csv` (already prepared for you, in the repo for the week). It has four columns - a unique id, followed by age (in years), weight (in lbs), and exercise time (in minutes/week) of 1200 (hypothetical) people.\n",
        "\n",
        "Try to figure out which variables are possibly related to each other, and which may be confounding relationships."
      ]
    },
    {
      "cell_type": "code",
      "metadata": {
        "id": "TGUS79cOhPWj",
        "colab_type": "code",
        "colab": {}
      },
      "source": [
        "# TODO - your code here\n",
        "# Use what we did live in lecture as an example\n",
        "\n",
        "# HINT - you can find the raw URL on GitHub and potentially use that\n",
        "# to load the data with read_csv, or you can upload it yourself"
      ],
      "execution_count": 0,
      "outputs": []
    },
    {
      "cell_type": "code",
      "metadata": {
        "id": "Ia8YsX3KBfJt",
        "colab_type": "code",
        "colab": {}
      },
      "source": [
        "!pip install pandas==0.23.4"
      ],
      "execution_count": 0,
      "outputs": []
    },
    {
      "cell_type": "code",
      "metadata": {
        "id": "EIh_PBqkBsqw",
        "colab_type": "code",
        "colab": {}
      },
      "source": [
        "import pandas as pd\n",
        "import seaborn as sns"
      ],
      "execution_count": 0,
      "outputs": []
    },
    {
      "cell_type": "code",
      "metadata": {
        "id": "0qDfsrPnBw3P",
        "colab_type": "code",
        "outputId": "ef6ed7e0-8e9e-4218-8483-866ff67743a3",
        "colab": {
          "base_uri": "https://localhost:8080/",
          "height": 204
        }
      },
      "source": [
        "persons_url = 'https://raw.githubusercontent.com/mauney/DS-Unit-1-Sprint-1-Dealing-With-Data/master/module3-databackedassertions/persons.csv'\n",
        "persons_df = pd.read_csv(persons_url, usecols=['age', 'weight', 'exercise_time'])\n",
        "persons_df.head()"
      ],
      "execution_count": 0,
      "outputs": [
        {
          "output_type": "execute_result",
          "data": {
            "text/html": [
              "<div>\n",
              "<style scoped>\n",
              "    .dataframe tbody tr th:only-of-type {\n",
              "        vertical-align: middle;\n",
              "    }\n",
              "\n",
              "    .dataframe tbody tr th {\n",
              "        vertical-align: top;\n",
              "    }\n",
              "\n",
              "    .dataframe thead th {\n",
              "        text-align: right;\n",
              "    }\n",
              "</style>\n",
              "<table border=\"1\" class=\"dataframe\">\n",
              "  <thead>\n",
              "    <tr style=\"text-align: right;\">\n",
              "      <th></th>\n",
              "      <th>age</th>\n",
              "      <th>weight</th>\n",
              "      <th>exercise_time</th>\n",
              "    </tr>\n",
              "  </thead>\n",
              "  <tbody>\n",
              "    <tr>\n",
              "      <th>0</th>\n",
              "      <td>44</td>\n",
              "      <td>118</td>\n",
              "      <td>192</td>\n",
              "    </tr>\n",
              "    <tr>\n",
              "      <th>1</th>\n",
              "      <td>41</td>\n",
              "      <td>161</td>\n",
              "      <td>35</td>\n",
              "    </tr>\n",
              "    <tr>\n",
              "      <th>2</th>\n",
              "      <td>46</td>\n",
              "      <td>128</td>\n",
              "      <td>220</td>\n",
              "    </tr>\n",
              "    <tr>\n",
              "      <th>3</th>\n",
              "      <td>39</td>\n",
              "      <td>216</td>\n",
              "      <td>57</td>\n",
              "    </tr>\n",
              "    <tr>\n",
              "      <th>4</th>\n",
              "      <td>28</td>\n",
              "      <td>116</td>\n",
              "      <td>182</td>\n",
              "    </tr>\n",
              "  </tbody>\n",
              "</table>\n",
              "</div>"
            ],
            "text/plain": [
              "   age  weight  exercise_time\n",
              "0   44     118            192\n",
              "1   41     161             35\n",
              "2   46     128            220\n",
              "3   39     216             57\n",
              "4   28     116            182"
            ]
          },
          "metadata": {
            "tags": []
          },
          "execution_count": 2
        }
      ]
    },
    {
      "cell_type": "code",
      "metadata": {
        "id": "UA-aVfrQB1hy",
        "colab_type": "code",
        "outputId": "c422dbdc-b390-4cc8-97ef-15a711215cc4",
        "colab": {
          "base_uri": "https://localhost:8080/",
          "height": 34
        }
      },
      "source": [
        "persons_df.shape"
      ],
      "execution_count": 0,
      "outputs": [
        {
          "output_type": "execute_result",
          "data": {
            "text/plain": [
              "(1200, 3)"
            ]
          },
          "metadata": {
            "tags": []
          },
          "execution_count": 3
        }
      ]
    },
    {
      "cell_type": "code",
      "metadata": {
        "id": "HD-V5h1TB5wy",
        "colab_type": "code",
        "outputId": "3ece9498-14b6-4851-b808-a2678ec540aa",
        "colab": {
          "base_uri": "https://localhost:8080/",
          "height": 85
        }
      },
      "source": [
        "persons_df.dtypes"
      ],
      "execution_count": 0,
      "outputs": [
        {
          "output_type": "execute_result",
          "data": {
            "text/plain": [
              "age              int64\n",
              "weight           int64\n",
              "exercise_time    int64\n",
              "dtype: object"
            ]
          },
          "metadata": {
            "tags": []
          },
          "execution_count": 4
        }
      ]
    },
    {
      "cell_type": "code",
      "metadata": {
        "id": "NC7eHHi-B7WE",
        "colab_type": "code",
        "outputId": "0e593651-5d59-4690-abc7-6309973390c2",
        "colab": {
          "base_uri": "https://localhost:8080/",
          "height": 85
        }
      },
      "source": [
        "persons_df.isna().sum()"
      ],
      "execution_count": 0,
      "outputs": [
        {
          "output_type": "execute_result",
          "data": {
            "text/plain": [
              "age              0\n",
              "weight           0\n",
              "exercise_time    0\n",
              "dtype: int64"
            ]
          },
          "metadata": {
            "tags": []
          },
          "execution_count": 5
        }
      ]
    },
    {
      "cell_type": "code",
      "metadata": {
        "id": "XFU51iibCCEa",
        "colab_type": "code",
        "outputId": "9c4b2228-0e82-477d-98fa-f8948ed4f959",
        "colab": {
          "base_uri": "https://localhost:8080/",
          "height": 297
        }
      },
      "source": [
        "persons_df.describe()"
      ],
      "execution_count": 0,
      "outputs": [
        {
          "output_type": "execute_result",
          "data": {
            "text/html": [
              "<div>\n",
              "<style scoped>\n",
              "    .dataframe tbody tr th:only-of-type {\n",
              "        vertical-align: middle;\n",
              "    }\n",
              "\n",
              "    .dataframe tbody tr th {\n",
              "        vertical-align: top;\n",
              "    }\n",
              "\n",
              "    .dataframe thead th {\n",
              "        text-align: right;\n",
              "    }\n",
              "</style>\n",
              "<table border=\"1\" class=\"dataframe\">\n",
              "  <thead>\n",
              "    <tr style=\"text-align: right;\">\n",
              "      <th></th>\n",
              "      <th>age</th>\n",
              "      <th>weight</th>\n",
              "      <th>exercise_time</th>\n",
              "    </tr>\n",
              "  </thead>\n",
              "  <tbody>\n",
              "    <tr>\n",
              "      <th>count</th>\n",
              "      <td>1200.000000</td>\n",
              "      <td>1200.000000</td>\n",
              "      <td>1200.000000</td>\n",
              "    </tr>\n",
              "    <tr>\n",
              "      <th>mean</th>\n",
              "      <td>48.396667</td>\n",
              "      <td>153.540833</td>\n",
              "      <td>134.910833</td>\n",
              "    </tr>\n",
              "    <tr>\n",
              "      <th>std</th>\n",
              "      <td>18.166802</td>\n",
              "      <td>35.132182</td>\n",
              "      <td>85.548895</td>\n",
              "    </tr>\n",
              "    <tr>\n",
              "      <th>min</th>\n",
              "      <td>18.000000</td>\n",
              "      <td>100.000000</td>\n",
              "      <td>0.000000</td>\n",
              "    </tr>\n",
              "    <tr>\n",
              "      <th>25%</th>\n",
              "      <td>33.000000</td>\n",
              "      <td>125.000000</td>\n",
              "      <td>65.000000</td>\n",
              "    </tr>\n",
              "    <tr>\n",
              "      <th>50%</th>\n",
              "      <td>48.000000</td>\n",
              "      <td>149.000000</td>\n",
              "      <td>122.000000</td>\n",
              "    </tr>\n",
              "    <tr>\n",
              "      <th>75%</th>\n",
              "      <td>64.000000</td>\n",
              "      <td>180.250000</td>\n",
              "      <td>206.000000</td>\n",
              "    </tr>\n",
              "    <tr>\n",
              "      <th>max</th>\n",
              "      <td>80.000000</td>\n",
              "      <td>246.000000</td>\n",
              "      <td>300.000000</td>\n",
              "    </tr>\n",
              "  </tbody>\n",
              "</table>\n",
              "</div>"
            ],
            "text/plain": [
              "               age       weight  exercise_time\n",
              "count  1200.000000  1200.000000    1200.000000\n",
              "mean     48.396667   153.540833     134.910833\n",
              "std      18.166802    35.132182      85.548895\n",
              "min      18.000000   100.000000       0.000000\n",
              "25%      33.000000   125.000000      65.000000\n",
              "50%      48.000000   149.000000     122.000000\n",
              "75%      64.000000   180.250000     206.000000\n",
              "max      80.000000   246.000000     300.000000"
            ]
          },
          "metadata": {
            "tags": []
          },
          "execution_count": 6
        }
      ]
    },
    {
      "cell_type": "code",
      "metadata": {
        "id": "VJZpUVg-CGii",
        "colab_type": "code",
        "outputId": "c5c92b31-3a4b-464c-f60a-5197288e36ea",
        "colab": {
          "base_uri": "https://localhost:8080/",
          "height": 545
        }
      },
      "source": [
        "sns.set(style='ticks', color_codes=True)\n",
        "g = sns.pairplot(persons_df)"
      ],
      "execution_count": 0,
      "outputs": [
        {
          "output_type": "display_data",
          "data": {
            "image/png": "[encoded data removed]",
            "text/plain": [
              "<Figure size 540x540 with 12 Axes>"
            ]
          },
          "metadata": {
            "tags": []
          }
        }
      ]
    },
    {
      "cell_type": "code",
      "metadata": {
        "id": "zY8ArOhbCKUi",
        "colab_type": "code",
        "colab": {}
      },
      "source": [
        "age_bins = pd.cut(persons_df['age'], 4)\n",
        "weight_bins = pd.cut(persons_df['weight'], 4)\n",
        "time_bins = pd.cut(persons_df['exercise_time'], 4)"
      ],
      "execution_count": 0,
      "outputs": []
    },
    {
      "cell_type": "code",
      "metadata": {
        "id": "SPsljhPwCOsy",
        "colab_type": "code",
        "outputId": "455d5921-75c2-42fa-e2dd-6511fd49b15f",
        "colab": {
          "base_uri": "https://localhost:8080/",
          "height": 204
        }
      },
      "source": [
        "pd.crosstab(weight_bins, time_bins)"
      ],
      "execution_count": 0,
      "outputs": [
        {
          "output_type": "execute_result",
          "data": {
            "text/html": [
              "<div>\n",
              "<style scoped>\n",
              "    .dataframe tbody tr th:only-of-type {\n",
              "        vertical-align: middle;\n",
              "    }\n",
              "\n",
              "    .dataframe tbody tr th {\n",
              "        vertical-align: top;\n",
              "    }\n",
              "\n",
              "    .dataframe thead th {\n",
              "        text-align: right;\n",
              "    }\n",
              "</style>\n",
              "<table border=\"1\" class=\"dataframe\">\n",
              "  <thead>\n",
              "    <tr style=\"text-align: right;\">\n",
              "      <th>exercise_time</th>\n",
              "      <th>(-0.3, 75.0]</th>\n",
              "      <th>(75.0, 150.0]</th>\n",
              "      <th>(150.0, 225.0]</th>\n",
              "      <th>(225.0, 300.0]</th>\n",
              "    </tr>\n",
              "    <tr>\n",
              "      <th>weight</th>\n",
              "      <th></th>\n",
              "      <th></th>\n",
              "      <th></th>\n",
              "      <th></th>\n",
              "    </tr>\n",
              "  </thead>\n",
              "  <tbody>\n",
              "    <tr>\n",
              "      <th>(99.854, 136.5]</th>\n",
              "      <td>82</td>\n",
              "      <td>100</td>\n",
              "      <td>120</td>\n",
              "      <td>152</td>\n",
              "    </tr>\n",
              "    <tr>\n",
              "      <th>(136.5, 173.0]</th>\n",
              "      <td>89</td>\n",
              "      <td>116</td>\n",
              "      <td>104</td>\n",
              "      <td>88</td>\n",
              "    </tr>\n",
              "    <tr>\n",
              "      <th>(173.0, 209.5]</th>\n",
              "      <td>107</td>\n",
              "      <td>109</td>\n",
              "      <td>37</td>\n",
              "      <td>0</td>\n",
              "    </tr>\n",
              "    <tr>\n",
              "      <th>(209.5, 246.0]</th>\n",
              "      <td>77</td>\n",
              "      <td>19</td>\n",
              "      <td>0</td>\n",
              "      <td>0</td>\n",
              "    </tr>\n",
              "  </tbody>\n",
              "</table>\n",
              "</div>"
            ],
            "text/plain": [
              "exercise_time    (-0.3, 75.0]       ...        (225.0, 300.0]\n",
              "weight                              ...                      \n",
              "(99.854, 136.5]            82       ...                   152\n",
              "(136.5, 173.0]             89       ...                    88\n",
              "(173.0, 209.5]            107       ...                     0\n",
              "(209.5, 246.0]             77       ...                     0\n",
              "\n",
              "[4 rows x 4 columns]"
            ]
          },
          "metadata": {
            "tags": []
          },
          "execution_count": 8
        }
      ]
    },
    {
      "cell_type": "code",
      "metadata": {
        "id": "iI3UgeDQCTx2",
        "colab_type": "code",
        "outputId": "fa1f8157-a0bf-46ec-dbc5-eec3a2d267e5",
        "colab": {
          "base_uri": "https://localhost:8080/",
          "height": 204
        }
      },
      "source": [
        "ct1 = pd.crosstab(weight_bins, time_bins, normalize='index')\n",
        "ct1"
      ],
      "execution_count": 0,
      "outputs": [
        {
          "output_type": "execute_result",
          "data": {
            "text/html": [
              "<div>\n",
              "<style scoped>\n",
              "    .dataframe tbody tr th:only-of-type {\n",
              "        vertical-align: middle;\n",
              "    }\n",
              "\n",
              "    .dataframe tbody tr th {\n",
              "        vertical-align: top;\n",
              "    }\n",
              "\n",
              "    .dataframe thead th {\n",
              "        text-align: right;\n",
              "    }\n",
              "</style>\n",
              "<table border=\"1\" class=\"dataframe\">\n",
              "  <thead>\n",
              "    <tr style=\"text-align: right;\">\n",
              "      <th>exercise_time</th>\n",
              "      <th>(-0.3, 75.0]</th>\n",
              "      <th>(75.0, 150.0]</th>\n",
              "      <th>(150.0, 225.0]</th>\n",
              "      <th>(225.0, 300.0]</th>\n",
              "    </tr>\n",
              "    <tr>\n",
              "      <th>weight</th>\n",
              "      <th></th>\n",
              "      <th></th>\n",
              "      <th></th>\n",
              "      <th></th>\n",
              "    </tr>\n",
              "  </thead>\n",
              "  <tbody>\n",
              "    <tr>\n",
              "      <th>(99.854, 136.5]</th>\n",
              "      <td>0.180617</td>\n",
              "      <td>0.220264</td>\n",
              "      <td>0.264317</td>\n",
              "      <td>0.334802</td>\n",
              "    </tr>\n",
              "    <tr>\n",
              "      <th>(136.5, 173.0]</th>\n",
              "      <td>0.224181</td>\n",
              "      <td>0.292191</td>\n",
              "      <td>0.261965</td>\n",
              "      <td>0.221662</td>\n",
              "    </tr>\n",
              "    <tr>\n",
              "      <th>(173.0, 209.5]</th>\n",
              "      <td>0.422925</td>\n",
              "      <td>0.430830</td>\n",
              "      <td>0.146245</td>\n",
              "      <td>0.000000</td>\n",
              "    </tr>\n",
              "    <tr>\n",
              "      <th>(209.5, 246.0]</th>\n",
              "      <td>0.802083</td>\n",
              "      <td>0.197917</td>\n",
              "      <td>0.000000</td>\n",
              "      <td>0.000000</td>\n",
              "    </tr>\n",
              "  </tbody>\n",
              "</table>\n",
              "</div>"
            ],
            "text/plain": [
              "exercise_time    (-0.3, 75.0]       ...        (225.0, 300.0]\n",
              "weight                              ...                      \n",
              "(99.854, 136.5]      0.180617       ...              0.334802\n",
              "(136.5, 173.0]       0.224181       ...              0.221662\n",
              "(173.0, 209.5]       0.422925       ...              0.000000\n",
              "(209.5, 246.0]       0.802083       ...              0.000000\n",
              "\n",
              "[4 rows x 4 columns]"
            ]
          },
          "metadata": {
            "tags": []
          },
          "execution_count": 9
        }
      ]
    },
    {
      "cell_type": "code",
      "metadata": {
        "id": "DWjqBOOPCdpT",
        "colab_type": "code",
        "outputId": "2c094878-11c0-4d58-e963-1c7a72797732",
        "colab": {
          "base_uri": "https://localhost:8080/",
          "height": 273
        }
      },
      "source": [
        "ct1.plot();"
      ],
      "execution_count": 0,
      "outputs": [
        {
          "output_type": "display_data",
          "data": {
            "image/png": "[encoded data removed]",
            "text/plain": [
              "<Figure size 432x288 with 1 Axes>"
            ]
          },
          "metadata": {
            "tags": []
          }
        }
      ]
    },
    {
      "cell_type": "code",
      "metadata": {
        "id": "_sAnlKaMC580",
        "colab_type": "code",
        "outputId": "d6b06ad2-c368-4cb8-b430-4c893c65291b",
        "colab": {
          "base_uri": "https://localhost:8080/",
          "height": 204
        }
      },
      "source": [
        "ct2 = pd.crosstab(time_bins, weight_bins, normalize='index')\n",
        "ct2"
      ],
      "execution_count": 0,
      "outputs": [
        {
          "output_type": "execute_result",
          "data": {
            "text/html": [
              "<div>\n",
              "<style scoped>\n",
              "    .dataframe tbody tr th:only-of-type {\n",
              "        vertical-align: middle;\n",
              "    }\n",
              "\n",
              "    .dataframe tbody tr th {\n",
              "        vertical-align: top;\n",
              "    }\n",
              "\n",
              "    .dataframe thead th {\n",
              "        text-align: right;\n",
              "    }\n",
              "</style>\n",
              "<table border=\"1\" class=\"dataframe\">\n",
              "  <thead>\n",
              "    <tr style=\"text-align: right;\">\n",
              "      <th>weight</th>\n",
              "      <th>(99.854, 136.5]</th>\n",
              "      <th>(136.5, 173.0]</th>\n",
              "      <th>(173.0, 209.5]</th>\n",
              "      <th>(209.5, 246.0]</th>\n",
              "    </tr>\n",
              "    <tr>\n",
              "      <th>exercise_time</th>\n",
              "      <th></th>\n",
              "      <th></th>\n",
              "      <th></th>\n",
              "      <th></th>\n",
              "    </tr>\n",
              "  </thead>\n",
              "  <tbody>\n",
              "    <tr>\n",
              "      <th>(-0.3, 75.0]</th>\n",
              "      <td>0.230986</td>\n",
              "      <td>0.250704</td>\n",
              "      <td>0.301408</td>\n",
              "      <td>0.216901</td>\n",
              "    </tr>\n",
              "    <tr>\n",
              "      <th>(75.0, 150.0]</th>\n",
              "      <td>0.290698</td>\n",
              "      <td>0.337209</td>\n",
              "      <td>0.316860</td>\n",
              "      <td>0.055233</td>\n",
              "    </tr>\n",
              "    <tr>\n",
              "      <th>(150.0, 225.0]</th>\n",
              "      <td>0.459770</td>\n",
              "      <td>0.398467</td>\n",
              "      <td>0.141762</td>\n",
              "      <td>0.000000</td>\n",
              "    </tr>\n",
              "    <tr>\n",
              "      <th>(225.0, 300.0]</th>\n",
              "      <td>0.633333</td>\n",
              "      <td>0.366667</td>\n",
              "      <td>0.000000</td>\n",
              "      <td>0.000000</td>\n",
              "    </tr>\n",
              "  </tbody>\n",
              "</table>\n",
              "</div>"
            ],
            "text/plain": [
              "weight          (99.854, 136.5]       ...        (209.5, 246.0]\n",
              "exercise_time                         ...                      \n",
              "(-0.3, 75.0]           0.230986       ...              0.216901\n",
              "(75.0, 150.0]          0.290698       ...              0.055233\n",
              "(150.0, 225.0]         0.459770       ...              0.000000\n",
              "(225.0, 300.0]         0.633333       ...              0.000000\n",
              "\n",
              "[4 rows x 4 columns]"
            ]
          },
          "metadata": {
            "tags": []
          },
          "execution_count": 12
        }
      ]
    },
    {
      "cell_type": "code",
      "metadata": {
        "id": "gJ9L-rTsDAUn",
        "colab_type": "code",
        "outputId": "36f0f60d-bbd7-4130-f7d5-1d1bae3ca8dc",
        "colab": {
          "base_uri": "https://localhost:8080/",
          "height": 291
        }
      },
      "source": [
        "ct2.plot()"
      ],
      "execution_count": 0,
      "outputs": [
        {
          "output_type": "execute_result",
          "data": {
            "text/plain": [
              "<matplotlib.axes._subplots.AxesSubplot at 0x7f4b210002e8>"
            ]
          },
          "metadata": {
            "tags": []
          },
          "execution_count": 13
        },
        {
          "output_type": "display_data",
          "data": {
            "image/png": "[encoded data removed]",
            "text/plain": [
              "<Figure size 432x288 with 1 Axes>"
            ]
          },
          "metadata": {
            "tags": []
          }
        }
      ]
    },
    {
      "cell_type": "code",
      "metadata": {
        "id": "sRoHj8tED2E-",
        "colab_type": "code",
        "outputId": "2e8dfc5f-35df-4d80-c8f1-b28f1188ab80",
        "colab": {
          "base_uri": "https://localhost:8080/",
          "height": 204
        }
      },
      "source": [
        "ct3 = pd.crosstab(age_bins, time_bins, normalize='index')\n",
        "ct3"
      ],
      "execution_count": 0,
      "outputs": [
        {
          "output_type": "execute_result",
          "data": {
            "text/html": [
              "<div>\n",
              "<style scoped>\n",
              "    .dataframe tbody tr th:only-of-type {\n",
              "        vertical-align: middle;\n",
              "    }\n",
              "\n",
              "    .dataframe tbody tr th {\n",
              "        vertical-align: top;\n",
              "    }\n",
              "\n",
              "    .dataframe thead th {\n",
              "        text-align: right;\n",
              "    }\n",
              "</style>\n",
              "<table border=\"1\" class=\"dataframe\">\n",
              "  <thead>\n",
              "    <tr style=\"text-align: right;\">\n",
              "      <th>exercise_time</th>\n",
              "      <th>(-0.3, 75.0]</th>\n",
              "      <th>(75.0, 150.0]</th>\n",
              "      <th>(150.0, 225.0]</th>\n",
              "      <th>(225.0, 300.0]</th>\n",
              "    </tr>\n",
              "    <tr>\n",
              "      <th>age</th>\n",
              "      <th></th>\n",
              "      <th></th>\n",
              "      <th></th>\n",
              "      <th></th>\n",
              "    </tr>\n",
              "  </thead>\n",
              "  <tbody>\n",
              "    <tr>\n",
              "      <th>(17.938, 33.5]</th>\n",
              "      <td>0.242991</td>\n",
              "      <td>0.227414</td>\n",
              "      <td>0.277259</td>\n",
              "      <td>0.252336</td>\n",
              "    </tr>\n",
              "    <tr>\n",
              "      <th>(33.5, 49.0]</th>\n",
              "      <td>0.229508</td>\n",
              "      <td>0.252459</td>\n",
              "      <td>0.232787</td>\n",
              "      <td>0.285246</td>\n",
              "    </tr>\n",
              "    <tr>\n",
              "      <th>(49.0, 64.5]</th>\n",
              "      <td>0.250000</td>\n",
              "      <td>0.264493</td>\n",
              "      <td>0.231884</td>\n",
              "      <td>0.253623</td>\n",
              "    </tr>\n",
              "    <tr>\n",
              "      <th>(64.5, 80.0]</th>\n",
              "      <td>0.463087</td>\n",
              "      <td>0.406040</td>\n",
              "      <td>0.124161</td>\n",
              "      <td>0.006711</td>\n",
              "    </tr>\n",
              "  </tbody>\n",
              "</table>\n",
              "</div>"
            ],
            "text/plain": [
              "exercise_time   (-0.3, 75.0]       ...        (225.0, 300.0]\n",
              "age                                ...                      \n",
              "(17.938, 33.5]      0.242991       ...              0.252336\n",
              "(33.5, 49.0]        0.229508       ...              0.285246\n",
              "(49.0, 64.5]        0.250000       ...              0.253623\n",
              "(64.5, 80.0]        0.463087       ...              0.006711\n",
              "\n",
              "[4 rows x 4 columns]"
            ]
          },
          "metadata": {
            "tags": []
          },
          "execution_count": 14
        }
      ]
    },
    {
      "cell_type": "code",
      "metadata": {
        "id": "88xBDYvUD2Sm",
        "colab_type": "code",
        "outputId": "55382c70-110e-463b-b2d4-8aed7ba1823b",
        "colab": {
          "base_uri": "https://localhost:8080/",
          "height": 273
        }
      },
      "source": [
        "ct3.plot();"
      ],
      "execution_count": 0,
      "outputs": [
        {
          "output_type": "display_data",
          "data": {
            "image/png": "[encoded data removed]",
            "text/plain": [
              "<Figure size 432x288 with 1 Axes>"
            ]
          },
          "metadata": {
            "tags": []
          }
        }
      ]
    },
    {
      "cell_type": "code",
      "metadata": {
        "id": "dtr7MWSQD7ED",
        "colab_type": "code",
        "outputId": "37c7aba9-6c7f-4d57-8298-b16a04b22242",
        "colab": {
          "base_uri": "https://localhost:8080/",
          "height": 204
        }
      },
      "source": [
        "ct4 = pd.crosstab(time_bins, age_bins, normalize='index')\n",
        "ct4"
      ],
      "execution_count": 0,
      "outputs": [
        {
          "output_type": "execute_result",
          "data": {
            "text/html": [
              "<div>\n",
              "<style scoped>\n",
              "    .dataframe tbody tr th:only-of-type {\n",
              "        vertical-align: middle;\n",
              "    }\n",
              "\n",
              "    .dataframe tbody tr th {\n",
              "        vertical-align: top;\n",
              "    }\n",
              "\n",
              "    .dataframe thead th {\n",
              "        text-align: right;\n",
              "    }\n",
              "</style>\n",
              "<table border=\"1\" class=\"dataframe\">\n",
              "  <thead>\n",
              "    <tr style=\"text-align: right;\">\n",
              "      <th>age</th>\n",
              "      <th>(17.938, 33.5]</th>\n",
              "      <th>(33.5, 49.0]</th>\n",
              "      <th>(49.0, 64.5]</th>\n",
              "      <th>(64.5, 80.0]</th>\n",
              "    </tr>\n",
              "    <tr>\n",
              "      <th>exercise_time</th>\n",
              "      <th></th>\n",
              "      <th></th>\n",
              "      <th></th>\n",
              "      <th></th>\n",
              "    </tr>\n",
              "  </thead>\n",
              "  <tbody>\n",
              "    <tr>\n",
              "      <th>(-0.3, 75.0]</th>\n",
              "      <td>0.219718</td>\n",
              "      <td>0.197183</td>\n",
              "      <td>0.194366</td>\n",
              "      <td>0.388732</td>\n",
              "    </tr>\n",
              "    <tr>\n",
              "      <th>(75.0, 150.0]</th>\n",
              "      <td>0.212209</td>\n",
              "      <td>0.223837</td>\n",
              "      <td>0.212209</td>\n",
              "      <td>0.351744</td>\n",
              "    </tr>\n",
              "    <tr>\n",
              "      <th>(150.0, 225.0]</th>\n",
              "      <td>0.340996</td>\n",
              "      <td>0.272031</td>\n",
              "      <td>0.245211</td>\n",
              "      <td>0.141762</td>\n",
              "    </tr>\n",
              "    <tr>\n",
              "      <th>(225.0, 300.0]</th>\n",
              "      <td>0.337500</td>\n",
              "      <td>0.362500</td>\n",
              "      <td>0.291667</td>\n",
              "      <td>0.008333</td>\n",
              "    </tr>\n",
              "  </tbody>\n",
              "</table>\n",
              "</div>"
            ],
            "text/plain": [
              "age             (17.938, 33.5]      ...       (64.5, 80.0]\n",
              "exercise_time                       ...                   \n",
              "(-0.3, 75.0]          0.219718      ...           0.388732\n",
              "(75.0, 150.0]         0.212209      ...           0.351744\n",
              "(150.0, 225.0]        0.340996      ...           0.141762\n",
              "(225.0, 300.0]        0.337500      ...           0.008333\n",
              "\n",
              "[4 rows x 4 columns]"
            ]
          },
          "metadata": {
            "tags": []
          },
          "execution_count": 16
        }
      ]
    },
    {
      "cell_type": "code",
      "metadata": {
        "id": "rL5kbZzPD7N-",
        "colab_type": "code",
        "outputId": "0b6b3024-6afc-4a88-d495-916952a3c47f",
        "colab": {
          "base_uri": "https://localhost:8080/",
          "height": 274
        }
      },
      "source": [
        "ct4.plot();"
      ],
      "execution_count": 0,
      "outputs": [
        {
          "output_type": "display_data",
          "data": {
            "image/png": "[encoded data removed]",
            "text/plain": [
              "<Figure size 432x288 with 1 Axes>"
            ]
          },
          "metadata": {
            "tags": []
          }
        }
      ]
    },
    {
      "cell_type": "code",
      "metadata": {
        "id": "sM1EesnwD7W6",
        "colab_type": "code",
        "outputId": "3a60143d-dcce-4132-8d0a-c6eedd384e19",
        "colab": {
          "base_uri": "https://localhost:8080/",
          "height": 204
        }
      },
      "source": [
        "ct5 = pd.crosstab(age_bins, weight_bins, normalize='index')\n",
        "ct5"
      ],
      "execution_count": 0,
      "outputs": [
        {
          "output_type": "execute_result",
          "data": {
            "text/html": [
              "<div>\n",
              "<style scoped>\n",
              "    .dataframe tbody tr th:only-of-type {\n",
              "        vertical-align: middle;\n",
              "    }\n",
              "\n",
              "    .dataframe tbody tr th {\n",
              "        vertical-align: top;\n",
              "    }\n",
              "\n",
              "    .dataframe thead th {\n",
              "        text-align: right;\n",
              "    }\n",
              "</style>\n",
              "<table border=\"1\" class=\"dataframe\">\n",
              "  <thead>\n",
              "    <tr style=\"text-align: right;\">\n",
              "      <th>weight</th>\n",
              "      <th>(99.854, 136.5]</th>\n",
              "      <th>(136.5, 173.0]</th>\n",
              "      <th>(173.0, 209.5]</th>\n",
              "      <th>(209.5, 246.0]</th>\n",
              "    </tr>\n",
              "    <tr>\n",
              "      <th>age</th>\n",
              "      <th></th>\n",
              "      <th></th>\n",
              "      <th></th>\n",
              "      <th></th>\n",
              "    </tr>\n",
              "  </thead>\n",
              "  <tbody>\n",
              "    <tr>\n",
              "      <th>(17.938, 33.5]</th>\n",
              "      <td>0.389408</td>\n",
              "      <td>0.383178</td>\n",
              "      <td>0.161994</td>\n",
              "      <td>0.065421</td>\n",
              "    </tr>\n",
              "    <tr>\n",
              "      <th>(33.5, 49.0]</th>\n",
              "      <td>0.442623</td>\n",
              "      <td>0.304918</td>\n",
              "      <td>0.196721</td>\n",
              "      <td>0.055738</td>\n",
              "    </tr>\n",
              "    <tr>\n",
              "      <th>(49.0, 64.5]</th>\n",
              "      <td>0.391304</td>\n",
              "      <td>0.307971</td>\n",
              "      <td>0.228261</td>\n",
              "      <td>0.072464</td>\n",
              "    </tr>\n",
              "    <tr>\n",
              "      <th>(64.5, 80.0]</th>\n",
              "      <td>0.288591</td>\n",
              "      <td>0.322148</td>\n",
              "      <td>0.261745</td>\n",
              "      <td>0.127517</td>\n",
              "    </tr>\n",
              "  </tbody>\n",
              "</table>\n",
              "</div>"
            ],
            "text/plain": [
              "weight          (99.854, 136.5]       ...        (209.5, 246.0]\n",
              "age                                   ...                      \n",
              "(17.938, 33.5]         0.389408       ...              0.065421\n",
              "(33.5, 49.0]           0.442623       ...              0.055738\n",
              "(49.0, 64.5]           0.391304       ...              0.072464\n",
              "(64.5, 80.0]           0.288591       ...              0.127517\n",
              "\n",
              "[4 rows x 4 columns]"
            ]
          },
          "metadata": {
            "tags": []
          },
          "execution_count": 18
        }
      ]
    },
    {
      "cell_type": "code",
      "metadata": {
        "id": "9X7Lb9q_D7gR",
        "colab_type": "code",
        "outputId": "d460502e-43cf-45c7-840e-1ca96e5f35ad",
        "colab": {
          "base_uri": "https://localhost:8080/",
          "height": 273
        }
      },
      "source": [
        "ct5.plot(ylim=0);"
      ],
      "execution_count": 0,
      "outputs": [
        {
          "output_type": "display_data",
          "data": {
            "image/png": "[encoded data removed]",
            "text/plain": [
              "<Figure size 432x288 with 1 Axes>"
            ]
          },
          "metadata": {
            "tags": []
          }
        }
      ]
    },
    {
      "cell_type": "code",
      "metadata": {
        "id": "_QhwgDfLD7pB",
        "colab_type": "code",
        "outputId": "3d20b584-4376-473e-8d3e-0ee13cd9cc71",
        "colab": {
          "base_uri": "https://localhost:8080/",
          "height": 204
        }
      },
      "source": [
        "ct6 = pd.crosstab(weight_bins, age_bins, normalize='index')\n",
        "ct6"
      ],
      "execution_count": 0,
      "outputs": [
        {
          "output_type": "execute_result",
          "data": {
            "text/html": [
              "<div>\n",
              "<style scoped>\n",
              "    .dataframe tbody tr th:only-of-type {\n",
              "        vertical-align: middle;\n",
              "    }\n",
              "\n",
              "    .dataframe tbody tr th {\n",
              "        vertical-align: top;\n",
              "    }\n",
              "\n",
              "    .dataframe thead th {\n",
              "        text-align: right;\n",
              "    }\n",
              "</style>\n",
              "<table border=\"1\" class=\"dataframe\">\n",
              "  <thead>\n",
              "    <tr style=\"text-align: right;\">\n",
              "      <th>age</th>\n",
              "      <th>(17.938, 33.5]</th>\n",
              "      <th>(33.5, 49.0]</th>\n",
              "      <th>(49.0, 64.5]</th>\n",
              "      <th>(64.5, 80.0]</th>\n",
              "    </tr>\n",
              "    <tr>\n",
              "      <th>weight</th>\n",
              "      <th></th>\n",
              "      <th></th>\n",
              "      <th></th>\n",
              "      <th></th>\n",
              "    </tr>\n",
              "  </thead>\n",
              "  <tbody>\n",
              "    <tr>\n",
              "      <th>(99.854, 136.5]</th>\n",
              "      <td>0.275330</td>\n",
              "      <td>0.297357</td>\n",
              "      <td>0.237885</td>\n",
              "      <td>0.189427</td>\n",
              "    </tr>\n",
              "    <tr>\n",
              "      <th>(136.5, 173.0]</th>\n",
              "      <td>0.309824</td>\n",
              "      <td>0.234257</td>\n",
              "      <td>0.214106</td>\n",
              "      <td>0.241814</td>\n",
              "    </tr>\n",
              "    <tr>\n",
              "      <th>(173.0, 209.5]</th>\n",
              "      <td>0.205534</td>\n",
              "      <td>0.237154</td>\n",
              "      <td>0.249012</td>\n",
              "      <td>0.308300</td>\n",
              "    </tr>\n",
              "    <tr>\n",
              "      <th>(209.5, 246.0]</th>\n",
              "      <td>0.218750</td>\n",
              "      <td>0.177083</td>\n",
              "      <td>0.208333</td>\n",
              "      <td>0.395833</td>\n",
              "    </tr>\n",
              "  </tbody>\n",
              "</table>\n",
              "</div>"
            ],
            "text/plain": [
              "age              (17.938, 33.5]      ...       (64.5, 80.0]\n",
              "weight                               ...                   \n",
              "(99.854, 136.5]        0.275330      ...           0.189427\n",
              "(136.5, 173.0]         0.309824      ...           0.241814\n",
              "(173.0, 209.5]         0.205534      ...           0.308300\n",
              "(209.5, 246.0]         0.218750      ...           0.395833\n",
              "\n",
              "[4 rows x 4 columns]"
            ]
          },
          "metadata": {
            "tags": []
          },
          "execution_count": 20
        }
      ]
    },
    {
      "cell_type": "code",
      "metadata": {
        "id": "NXHOdp4LD7xn",
        "colab_type": "code",
        "outputId": "337f2b80-b126-43a5-ab69-07bb976e4d35",
        "colab": {
          "base_uri": "https://localhost:8080/",
          "height": 273
        }
      },
      "source": [
        "ct6.plot(ylim=0);"
      ],
      "execution_count": 0,
      "outputs": [
        {
          "output_type": "display_data",
          "data": {
            "image/png": "[encoded data removed]",
            "text/plain": [
              "<Figure size 432x288 with 1 Axes>"
            ]
          },
          "metadata": {
            "tags": []
          }
        }
      ]
    },
    {
      "cell_type": "code",
      "metadata": {
        "id": "pofbxo1c1Uo1",
        "colab_type": "code",
        "outputId": "d35b4c23-da03-4d88-826f-ac706be75a20",
        "colab": {
          "base_uri": "https://localhost:8080/",
          "height": 286
        }
      },
      "source": [
        "# Overall exercise time distribution\n",
        "persons_df['exercise_time'].plot.hist()"
      ],
      "execution_count": 0,
      "outputs": [
        {
          "output_type": "execute_result",
          "data": {
            "text/plain": [
              "<matplotlib.axes._subplots.AxesSubplot at 0x7f4b1e2febe0>"
            ]
          },
          "metadata": {
            "tags": []
          },
          "execution_count": 23
        },
        {
          "output_type": "display_data",
          "data": {
            "image/png": "[encoded data removed]",
            "text/plain": [
              "<Figure size 432x288 with 1 Axes>"
            ]
          },
          "metadata": {
            "tags": []
          }
        }
      ]
    },
    {
      "cell_type": "code",
      "metadata": {
        "id": "9XBpJeId1U0U",
        "colab_type": "code",
        "outputId": "4c1464a6-2237-4f7b-a01c-52fe6da8732c",
        "colab": {
          "base_uri": "https://localhost:8080/",
          "height": 286
        }
      },
      "source": [
        "# Let's look at a slice of the age and weight ranges (I need to learn how to not show these two variables in the plot).\n",
        "# This subsample seems to skew high for exercise time\n",
        "persons_df[(persons_df['age'] > 35) & (persons_df['age'] < 60) & (persons_df['weight'] > 130) & (persons_df['weight'] < 160)].plot.hist()"
      ],
      "execution_count": 0,
      "outputs": [
        {
          "output_type": "execute_result",
          "data": {
            "text/plain": [
              "<matplotlib.axes._subplots.AxesSubplot at 0x7f4b1e33cbe0>"
            ]
          },
          "metadata": {
            "tags": []
          },
          "execution_count": 22
        },
        {
          "output_type": "display_data",
          "data": {
            "image/png": "[encoded data removed]",
            "text/plain": [
              "<Figure size 432x288 with 1 Axes>"
            ]
          },
          "metadata": {
            "tags": []
          }
        }
      ]
    },
    {
      "cell_type": "markdown",
      "metadata": {
        "id": "BT9gdS7viJZa",
        "colab_type": "text"
      },
      "source": [
        "### Assignment questions\n",
        "\n",
        "After you've worked on some code, answer the following questions in this text block:\n",
        "\n",
        "1.  What are the variable types in the data? All values are integers within a set range for each variable. A case could be made that there are enough possible values to treat the variables as continuous. However, since only integer values are recorded, I tend to view age, weight, and exercise time as discreet, ordinal variables. \n",
        "\n",
        "  Update: Ordinal may imply that the distance between values is not know (e.g. 4 stars is not necessarily twice as good as 2 stars). The variable swe have in persons.csv are best described as discreet and having a ratio scale because all three variables have a non-arbitrary zero value.\n",
        "\n",
        "2.  What are the relationships between the variables? The more a person weighs, their time spent exercising is likely to be less than other people. Conversely, the more time one exercises, the less likely he or she is to be at the high end of the weight scale. Older people are more likely to weigh more than younger people, and the amount of exercise decreases drastically with older people.\n",
        "\n",
        "3.  Which relationships are \"real\", and which spurious? Age can affect weight and exercise time. Weight and exercise time can affect each other. I doubt that weigth or exercise time can affect age.\n",
        "\n",
        "Age --> Weight\n",
        "\n",
        "Age --> Exercise Time\n",
        "\n",
        "Weight <--> Exercise Time\n"
      ]
    },
    {
      "cell_type": "markdown",
      "metadata": {
        "id": "U9AOV3L-5hG1",
        "colab_type": "text"
      },
      "source": [
        "## Heatmaps"
      ]
    },
    {
      "cell_type": "code",
      "metadata": {
        "id": "EbXAQQCV5oEv",
        "colab_type": "code",
        "colab": {}
      },
      "source": [
        "age_8bins = pd.cut(persons_df['age'], 8)\n",
        "weight_8bins = pd.cut(persons_df['weight'], 8)\n",
        "time_8bins = pd.cut(persons_df['exercise_time'], 8)"
      ],
      "execution_count": 0,
      "outputs": []
    },
    {
      "cell_type": "code",
      "metadata": {
        "id": "dfGMUNBMDPxz",
        "colab_type": "code",
        "outputId": "fac74cdc-8d24-476c-d683-e8e63f507b48",
        "colab": {
          "base_uri": "https://localhost:8080/",
          "height": 328
        }
      },
      "source": [
        "# table of weights\n",
        "ct1 = pd.crosstab(time_8bins, age_8bins, values=persons_df['weight'], aggfunc='mean')\n",
        "ct1"
      ],
      "execution_count": 0,
      "outputs": [
        {
          "output_type": "execute_result",
          "data": {
            "text/html": [
              "<div>\n",
              "<style scoped>\n",
              "    .dataframe tbody tr th:only-of-type {\n",
              "        vertical-align: middle;\n",
              "    }\n",
              "\n",
              "    .dataframe tbody tr th {\n",
              "        vertical-align: top;\n",
              "    }\n",
              "\n",
              "    .dataframe thead th {\n",
              "        text-align: right;\n",
              "    }\n",
              "</style>\n",
              "<table border=\"1\" class=\"dataframe\">\n",
              "  <thead>\n",
              "    <tr style=\"text-align: right;\">\n",
              "      <th>age</th>\n",
              "      <th>(17.938, 25.75]</th>\n",
              "      <th>(25.75, 33.5]</th>\n",
              "      <th>(33.5, 41.25]</th>\n",
              "      <th>(41.25, 49.0]</th>\n",
              "      <th>(49.0, 56.75]</th>\n",
              "      <th>(56.75, 64.5]</th>\n",
              "      <th>(64.5, 72.25]</th>\n",
              "      <th>(72.25, 80.0]</th>\n",
              "    </tr>\n",
              "    <tr>\n",
              "      <th>exercise_time</th>\n",
              "      <th></th>\n",
              "      <th></th>\n",
              "      <th></th>\n",
              "      <th></th>\n",
              "      <th></th>\n",
              "      <th></th>\n",
              "      <th></th>\n",
              "      <th></th>\n",
              "    </tr>\n",
              "  </thead>\n",
              "  <tbody>\n",
              "    <tr>\n",
              "      <th>(-0.3, 37.5]</th>\n",
              "      <td>176.055556</td>\n",
              "      <td>175.526316</td>\n",
              "      <td>178.629630</td>\n",
              "      <td>188.750000</td>\n",
              "      <td>168.583333</td>\n",
              "      <td>176.518519</td>\n",
              "      <td>177.714286</td>\n",
              "      <td>170.463415</td>\n",
              "    </tr>\n",
              "    <tr>\n",
              "      <th>(37.5, 75.0]</th>\n",
              "      <td>161.625000</td>\n",
              "      <td>176.440000</td>\n",
              "      <td>163.294118</td>\n",
              "      <td>171.714286</td>\n",
              "      <td>162.461538</td>\n",
              "      <td>167.705882</td>\n",
              "      <td>169.666667</td>\n",
              "      <td>171.600000</td>\n",
              "    </tr>\n",
              "    <tr>\n",
              "      <th>(75.0, 112.5]</th>\n",
              "      <td>166.400000</td>\n",
              "      <td>155.846154</td>\n",
              "      <td>153.171429</td>\n",
              "      <td>165.611111</td>\n",
              "      <td>190.000000</td>\n",
              "      <td>162.440000</td>\n",
              "      <td>159.853659</td>\n",
              "      <td>162.324324</td>\n",
              "    </tr>\n",
              "    <tr>\n",
              "      <th>(112.5, 150.0]</th>\n",
              "      <td>151.363636</td>\n",
              "      <td>149.444444</td>\n",
              "      <td>153.285714</td>\n",
              "      <td>161.400000</td>\n",
              "      <td>149.176471</td>\n",
              "      <td>170.944444</td>\n",
              "      <td>158.434783</td>\n",
              "      <td>148.550000</td>\n",
              "    </tr>\n",
              "    <tr>\n",
              "      <th>(150.0, 187.5]</th>\n",
              "      <td>151.458333</td>\n",
              "      <td>142.863636</td>\n",
              "      <td>135.428571</td>\n",
              "      <td>146.312500</td>\n",
              "      <td>152.666667</td>\n",
              "      <td>143.380952</td>\n",
              "      <td>148.370370</td>\n",
              "      <td>108.000000</td>\n",
              "    </tr>\n",
              "    <tr>\n",
              "      <th>(187.5, 225.0]</th>\n",
              "      <td>138.260870</td>\n",
              "      <td>136.850000</td>\n",
              "      <td>132.695652</td>\n",
              "      <td>142.818182</td>\n",
              "      <td>131.727273</td>\n",
              "      <td>134.411765</td>\n",
              "      <td>130.444444</td>\n",
              "      <td>NaN</td>\n",
              "    </tr>\n",
              "    <tr>\n",
              "      <th>(225.0, 262.5]</th>\n",
              "      <td>138.263158</td>\n",
              "      <td>135.464286</td>\n",
              "      <td>132.421053</td>\n",
              "      <td>128.260870</td>\n",
              "      <td>137.125000</td>\n",
              "      <td>141.928571</td>\n",
              "      <td>118.000000</td>\n",
              "      <td>NaN</td>\n",
              "    </tr>\n",
              "    <tr>\n",
              "      <th>(262.5, 300.0]</th>\n",
              "      <td>119.666667</td>\n",
              "      <td>123.454545</td>\n",
              "      <td>125.583333</td>\n",
              "      <td>130.523810</td>\n",
              "      <td>126.038462</td>\n",
              "      <td>130.285714</td>\n",
              "      <td>NaN</td>\n",
              "      <td>NaN</td>\n",
              "    </tr>\n",
              "  </tbody>\n",
              "</table>\n",
              "</div>"
            ],
            "text/plain": [
              "age             (17.938, 25.75]      ...        (72.25, 80.0]\n",
              "exercise_time                        ...                     \n",
              "(-0.3, 37.5]         176.055556      ...           170.463415\n",
              "(37.5, 75.0]         161.625000      ...           171.600000\n",
              "(75.0, 112.5]        166.400000      ...           162.324324\n",
              "(112.5, 150.0]       151.363636      ...           148.550000\n",
              "(150.0, 187.5]       151.458333      ...           108.000000\n",
              "(187.5, 225.0]       138.260870      ...                  NaN\n",
              "(225.0, 262.5]       138.263158      ...                  NaN\n",
              "(262.5, 300.0]       119.666667      ...                  NaN\n",
              "\n",
              "[8 rows x 8 columns]"
            ]
          },
          "metadata": {
            "tags": []
          },
          "execution_count": 26
        }
      ]
    },
    {
      "cell_type": "code",
      "metadata": {
        "id": "m8GC7j0RDQC2",
        "colab_type": "code",
        "outputId": "0b2a29d9-cf0e-479d-db2f-5fe2bd334316",
        "colab": {
          "base_uri": "https://localhost:8080/",
          "height": 350
        }
      },
      "source": [
        "sns.heatmap(ct1, cmap = sns.cm.rocket_r, cbar_kws={'label': 'average weight for cell'}).invert_yaxis()"
      ],
      "execution_count": 0,
      "outputs": [
        {
          "output_type": "display_data",
          "data": {
            "image/png": "[encoded data removed]",
            "text/plain": [
              "<Figure size 432x288 with 2 Axes>"
            ]
          },
          "metadata": {
            "tags": []
          }
        }
      ]
    },
    {
      "cell_type": "code",
      "metadata": {
        "id": "v7sy9S00DQR1",
        "colab_type": "code",
        "outputId": "af94454a-eb93-4adb-b9ae-0656922f73a7",
        "colab": {
          "base_uri": "https://localhost:8080/",
          "height": 328
        }
      },
      "source": [
        "# table of exercise times\n",
        "ct2 = pd.crosstab(weight_8bins, age_8bins, values=persons_df['exercise_time'], aggfunc='mean')\n",
        "ct2"
      ],
      "execution_count": 0,
      "outputs": [
        {
          "output_type": "execute_result",
          "data": {
            "text/html": [
              "<div>\n",
              "<style scoped>\n",
              "    .dataframe tbody tr th:only-of-type {\n",
              "        vertical-align: middle;\n",
              "    }\n",
              "\n",
              "    .dataframe tbody tr th {\n",
              "        vertical-align: top;\n",
              "    }\n",
              "\n",
              "    .dataframe thead th {\n",
              "        text-align: right;\n",
              "    }\n",
              "</style>\n",
              "<table border=\"1\" class=\"dataframe\">\n",
              "  <thead>\n",
              "    <tr style=\"text-align: right;\">\n",
              "      <th>age</th>\n",
              "      <th>(17.938, 25.75]</th>\n",
              "      <th>(25.75, 33.5]</th>\n",
              "      <th>(33.5, 41.25]</th>\n",
              "      <th>(41.25, 49.0]</th>\n",
              "      <th>(49.0, 56.75]</th>\n",
              "      <th>(56.75, 64.5]</th>\n",
              "      <th>(64.5, 72.25]</th>\n",
              "      <th>(72.25, 80.0]</th>\n",
              "    </tr>\n",
              "    <tr>\n",
              "      <th>weight</th>\n",
              "      <th></th>\n",
              "      <th></th>\n",
              "      <th></th>\n",
              "      <th></th>\n",
              "      <th></th>\n",
              "      <th></th>\n",
              "      <th></th>\n",
              "      <th></th>\n",
              "    </tr>\n",
              "  </thead>\n",
              "  <tbody>\n",
              "    <tr>\n",
              "      <th>(99.854, 118.25]</th>\n",
              "      <td>181.709677</td>\n",
              "      <td>188.100000</td>\n",
              "      <td>178.318182</td>\n",
              "      <td>201.300000</td>\n",
              "      <td>191.958333</td>\n",
              "      <td>160.083333</td>\n",
              "      <td>108.523810</td>\n",
              "      <td>81.277778</td>\n",
              "    </tr>\n",
              "    <tr>\n",
              "      <th>(118.25, 136.5]</th>\n",
              "      <td>167.769231</td>\n",
              "      <td>211.000000</td>\n",
              "      <td>189.500000</td>\n",
              "      <td>208.225806</td>\n",
              "      <td>223.137931</td>\n",
              "      <td>175.193548</td>\n",
              "      <td>116.482759</td>\n",
              "      <td>69.555556</td>\n",
              "    </tr>\n",
              "    <tr>\n",
              "      <th>(136.5, 154.75]</th>\n",
              "      <td>157.200000</td>\n",
              "      <td>177.352941</td>\n",
              "      <td>161.806452</td>\n",
              "      <td>177.695652</td>\n",
              "      <td>200.454545</td>\n",
              "      <td>154.851852</td>\n",
              "      <td>110.259259</td>\n",
              "      <td>79.842105</td>\n",
              "    </tr>\n",
              "    <tr>\n",
              "      <th>(154.75, 173.0]</th>\n",
              "      <td>164.066667</td>\n",
              "      <td>144.965517</td>\n",
              "      <td>120.352941</td>\n",
              "      <td>166.909091</td>\n",
              "      <td>119.352941</td>\n",
              "      <td>156.157895</td>\n",
              "      <td>117.689655</td>\n",
              "      <td>50.619048</td>\n",
              "    </tr>\n",
              "    <tr>\n",
              "      <th>(173.0, 191.25]</th>\n",
              "      <td>86.437500</td>\n",
              "      <td>108.857143</td>\n",
              "      <td>108.380952</td>\n",
              "      <td>101.272727</td>\n",
              "      <td>118.733333</td>\n",
              "      <td>96.590909</td>\n",
              "      <td>106.473684</td>\n",
              "      <td>67.217391</td>\n",
              "    </tr>\n",
              "    <tr>\n",
              "      <th>(191.25, 209.5]</th>\n",
              "      <td>97.428571</td>\n",
              "      <td>48.375000</td>\n",
              "      <td>64.750000</td>\n",
              "      <td>85.500000</td>\n",
              "      <td>81.000000</td>\n",
              "      <td>95.277778</td>\n",
              "      <td>66.100000</td>\n",
              "      <td>72.000000</td>\n",
              "    </tr>\n",
              "    <tr>\n",
              "      <th>(209.5, 227.75]</th>\n",
              "      <td>46.666667</td>\n",
              "      <td>49.500000</td>\n",
              "      <td>38.200000</td>\n",
              "      <td>45.714286</td>\n",
              "      <td>79.285714</td>\n",
              "      <td>50.500000</td>\n",
              "      <td>53.500000</td>\n",
              "      <td>57.428571</td>\n",
              "    </tr>\n",
              "    <tr>\n",
              "      <th>(227.75, 246.0]</th>\n",
              "      <td>15.500000</td>\n",
              "      <td>19.000000</td>\n",
              "      <td>23.500000</td>\n",
              "      <td>11.666667</td>\n",
              "      <td>36.000000</td>\n",
              "      <td>12.500000</td>\n",
              "      <td>22.888889</td>\n",
              "      <td>30.800000</td>\n",
              "    </tr>\n",
              "  </tbody>\n",
              "</table>\n",
              "</div>"
            ],
            "text/plain": [
              "age               (17.938, 25.75]      ...        (72.25, 80.0]\n",
              "weight                                 ...                     \n",
              "(99.854, 118.25]       181.709677      ...            81.277778\n",
              "(118.25, 136.5]        167.769231      ...            69.555556\n",
              "(136.5, 154.75]        157.200000      ...            79.842105\n",
              "(154.75, 173.0]        164.066667      ...            50.619048\n",
              "(173.0, 191.25]         86.437500      ...            67.217391\n",
              "(191.25, 209.5]         97.428571      ...            72.000000\n",
              "(209.5, 227.75]         46.666667      ...            57.428571\n",
              "(227.75, 246.0]         15.500000      ...            30.800000\n",
              "\n",
              "[8 rows x 8 columns]"
            ]
          },
          "metadata": {
            "tags": []
          },
          "execution_count": 28
        }
      ]
    },
    {
      "cell_type": "code",
      "metadata": {
        "id": "5yVFG2WlDQYy",
        "colab_type": "code",
        "outputId": "85afae80-abd7-4163-9061-8809c46ddda4",
        "colab": {
          "base_uri": "https://localhost:8080/",
          "height": 350
        }
      },
      "source": [
        "sns.heatmap(ct2, cbar_kws={'label': 'average exercise time for cell'}).invert_yaxis()"
      ],
      "execution_count": 0,
      "outputs": [
        {
          "output_type": "display_data",
          "data": {
            "image/png": "[encoded data removed]",
            "text/plain": [
              "<Figure size 432x288 with 2 Axes>"
            ]
          },
          "metadata": {
            "tags": []
          }
        }
      ]
    },
    {
      "cell_type": "code",
      "metadata": {
        "id": "jBbCKknxDQgY",
        "colab_type": "code",
        "outputId": "9d7b29a9-1a6a-4477-ced0-557697d7ce3f",
        "colab": {
          "base_uri": "https://localhost:8080/",
          "height": 328
        }
      },
      "source": [
        "# table of ages\n",
        "ct3 = pd.crosstab(time_8bins, weight_8bins, values=persons_df['age'], aggfunc='mean')\n",
        "ct3"
      ],
      "execution_count": 0,
      "outputs": [
        {
          "output_type": "execute_result",
          "data": {
            "text/html": [
              "<div>\n",
              "<style scoped>\n",
              "    .dataframe tbody tr th:only-of-type {\n",
              "        vertical-align: middle;\n",
              "    }\n",
              "\n",
              "    .dataframe tbody tr th {\n",
              "        vertical-align: top;\n",
              "    }\n",
              "\n",
              "    .dataframe thead th {\n",
              "        text-align: right;\n",
              "    }\n",
              "</style>\n",
              "<table border=\"1\" class=\"dataframe\">\n",
              "  <thead>\n",
              "    <tr style=\"text-align: right;\">\n",
              "      <th>weight</th>\n",
              "      <th>(99.854, 118.25]</th>\n",
              "      <th>(118.25, 136.5]</th>\n",
              "      <th>(136.5, 154.75]</th>\n",
              "      <th>(154.75, 173.0]</th>\n",
              "      <th>(173.0, 191.25]</th>\n",
              "      <th>(191.25, 209.5]</th>\n",
              "      <th>(209.5, 227.75]</th>\n",
              "      <th>(227.75, 246.0]</th>\n",
              "    </tr>\n",
              "    <tr>\n",
              "      <th>exercise_time</th>\n",
              "      <th></th>\n",
              "      <th></th>\n",
              "      <th></th>\n",
              "      <th></th>\n",
              "      <th></th>\n",
              "      <th></th>\n",
              "      <th></th>\n",
              "      <th></th>\n",
              "    </tr>\n",
              "  </thead>\n",
              "  <tbody>\n",
              "    <tr>\n",
              "      <th>(-0.3, 37.5]</th>\n",
              "      <td>55.045455</td>\n",
              "      <td>58.000000</td>\n",
              "      <td>51.958333</td>\n",
              "      <td>57.400000</td>\n",
              "      <td>51.857143</td>\n",
              "      <td>52.366667</td>\n",
              "      <td>52.869565</td>\n",
              "      <td>56.583333</td>\n",
              "    </tr>\n",
              "    <tr>\n",
              "      <th>(37.5, 75.0]</th>\n",
              "      <td>51.181818</td>\n",
              "      <td>56.666667</td>\n",
              "      <td>48.700000</td>\n",
              "      <td>54.600000</td>\n",
              "      <td>52.200000</td>\n",
              "      <td>50.791667</td>\n",
              "      <td>53.423077</td>\n",
              "      <td>52.250000</td>\n",
              "    </tr>\n",
              "    <tr>\n",
              "      <th>(75.0, 112.5]</th>\n",
              "      <td>51.260870</td>\n",
              "      <td>53.321429</td>\n",
              "      <td>57.406250</td>\n",
              "      <td>51.095238</td>\n",
              "      <td>54.656250</td>\n",
              "      <td>51.857143</td>\n",
              "      <td>57.000000</td>\n",
              "      <td>NaN</td>\n",
              "    </tr>\n",
              "    <tr>\n",
              "      <th>(112.5, 150.0]</th>\n",
              "      <td>48.538462</td>\n",
              "      <td>47.695652</td>\n",
              "      <td>48.944444</td>\n",
              "      <td>50.500000</td>\n",
              "      <td>50.666667</td>\n",
              "      <td>52.960000</td>\n",
              "      <td>48.500000</td>\n",
              "      <td>NaN</td>\n",
              "    </tr>\n",
              "    <tr>\n",
              "      <th>(150.0, 187.5]</th>\n",
              "      <td>41.275862</td>\n",
              "      <td>49.384615</td>\n",
              "      <td>46.948718</td>\n",
              "      <td>43.250000</td>\n",
              "      <td>46.708333</td>\n",
              "      <td>39.400000</td>\n",
              "      <td>NaN</td>\n",
              "      <td>NaN</td>\n",
              "    </tr>\n",
              "    <tr>\n",
              "      <th>(187.5, 225.0]</th>\n",
              "      <td>40.870968</td>\n",
              "      <td>45.500000</td>\n",
              "      <td>36.391304</td>\n",
              "      <td>36.166667</td>\n",
              "      <td>45.875000</td>\n",
              "      <td>NaN</td>\n",
              "      <td>NaN</td>\n",
              "      <td>NaN</td>\n",
              "    </tr>\n",
              "    <tr>\n",
              "      <th>(225.0, 262.5]</th>\n",
              "      <td>39.310345</td>\n",
              "      <td>41.147059</td>\n",
              "      <td>40.515152</td>\n",
              "      <td>39.640000</td>\n",
              "      <td>NaN</td>\n",
              "      <td>NaN</td>\n",
              "      <td>NaN</td>\n",
              "      <td>NaN</td>\n",
              "    </tr>\n",
              "    <tr>\n",
              "      <th>(262.5, 300.0]</th>\n",
              "      <td>39.350000</td>\n",
              "      <td>42.510204</td>\n",
              "      <td>44.708333</td>\n",
              "      <td>43.000000</td>\n",
              "      <td>NaN</td>\n",
              "      <td>NaN</td>\n",
              "      <td>NaN</td>\n",
              "      <td>NaN</td>\n",
              "    </tr>\n",
              "  </tbody>\n",
              "</table>\n",
              "</div>"
            ],
            "text/plain": [
              "weight          (99.854, 118.25]       ...         (227.75, 246.0]\n",
              "exercise_time                          ...                        \n",
              "(-0.3, 37.5]           55.045455       ...               56.583333\n",
              "(37.5, 75.0]           51.181818       ...               52.250000\n",
              "(75.0, 112.5]          51.260870       ...                     NaN\n",
              "(112.5, 150.0]         48.538462       ...                     NaN\n",
              "(150.0, 187.5]         41.275862       ...                     NaN\n",
              "(187.5, 225.0]         40.870968       ...                     NaN\n",
              "(225.0, 262.5]         39.310345       ...                     NaN\n",
              "(262.5, 300.0]         39.350000       ...                     NaN\n",
              "\n",
              "[8 rows x 8 columns]"
            ]
          },
          "metadata": {
            "tags": []
          },
          "execution_count": 30
        }
      ]
    },
    {
      "cell_type": "code",
      "metadata": {
        "id": "ZI-l96_yDQnZ",
        "colab_type": "code",
        "outputId": "09853c6d-763e-44f7-cd2b-2bb57cb0d69d",
        "colab": {
          "base_uri": "https://localhost:8080/",
          "height": 357
        }
      },
      "source": [
        "sns.heatmap(ct3, cmap = sns.cm.rocket_r, cbar_kws={'label': 'average age for cell'}).invert_yaxis()"
      ],
      "execution_count": 0,
      "outputs": [
        {
          "output_type": "display_data",
          "data": {
            "image/png": "[encoded data removed]",
            "text/plain": [
              "<Figure size 432x288 with 2 Axes>"
            ]
          },
          "metadata": {
            "tags": []
          }
        }
      ]
    },
    {
      "cell_type": "markdown",
      "metadata": {
        "id": "_XXg2crAipwP",
        "colab_type": "text"
      },
      "source": [
        "## Stretch goals and resources\n",
        "\n",
        "Following are *optional* things for you to take a look at. Focus on the above assignment first, and make sure to commit and push your changes to GitHub.\n",
        "\n",
        "- [Spurious Correlations](http://tylervigen.com/spurious-correlations)\n",
        "- [NIH on controlling for confounding variables](https://www.ncbi.nlm.nih.gov/pmc/articles/PMC4017459/)\n",
        "\n",
        "Stretch goals:\n",
        "\n",
        "- Produce your own plot inspired by the Spurious Correlation visualizations (and consider writing a blog post about it - both the content and how you made it)\n",
        "- Pick one of the techniques that NIH highlights for confounding variables - we'll be going into many of them later, but see if you can find which Python modules may help (hint - check scikit-learn)"
      ]
    }
  ]
}