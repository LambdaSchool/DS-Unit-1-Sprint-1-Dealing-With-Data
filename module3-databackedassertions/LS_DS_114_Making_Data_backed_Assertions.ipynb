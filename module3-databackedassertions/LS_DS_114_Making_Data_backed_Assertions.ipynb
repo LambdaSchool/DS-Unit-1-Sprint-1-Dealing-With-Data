{
  "nbformat": 4,
  "nbformat_minor": 0,
  "metadata": {
    "colab": {
      "name": "LS_DS_114_Making_Data_backed_Assertions.ipynb",
      "version": "0.3.2",
      "provenance": [],
      "collapsed_sections": [],
      "include_colab_link": true
    },
    "kernelspec": {
      "name": "python3",
      "display_name": "Python 3"
    }
  },
  "cells": [
    {
      "cell_type": "markdown",
      "metadata": {
        "id": "view-in-github",
        "colab_type": "text"
      },
      "source": [
        "<a href=\"https://colab.research.google.com/github/SamH3pn3r/DS-Unit-1-Sprint-1-Dealing-With-Data/blob/master/module3-databackedassertions/LS_DS_114_Making_Data_backed_Assertions.ipynb\" target=\"_parent\"><img src=\"https://colab.research.google.com/assets/colab-badge.svg\" alt=\"Open In Colab\"/></a>"
      ]
    },
    {
      "cell_type": "markdown",
      "metadata": {
        "id": "Okfr_uhwhS1X",
        "colab_type": "text"
      },
      "source": [
        "# Lambda School Data Science - Making Data-backed Assertions\n",
        "\n",
        "This is, for many, the main point of data science - to create and support reasoned arguments based on evidence. It's not a topic to master in a day, but it is worth some focused time thinking about and structuring your approach to it."
      ]
    },
    {
      "cell_type": "markdown",
      "metadata": {
        "id": "9dtJETFRhnOG",
        "colab_type": "text"
      },
      "source": [
        "## Lecture - generating a confounding variable\n",
        "\n",
        "The prewatch material told a story about a hypothetical health condition where both the drug usage and overall health outcome were related to gender - thus making gender a confounding variable, obfuscating the possible relationship between the drug and the outcome.\n",
        "\n",
        "Let's use Python to generate data that actually behaves in this fashion!"
      ]
    },
    {
      "cell_type": "code",
      "metadata": {
        "id": "WiBkgmPJhmhE",
        "colab_type": "code",
        "outputId": "a3cee8af-d841-433e-fabc-851de7c28e9e",
        "colab": {
          "base_uri": "https://localhost:8080/",
          "height": 1000
        }
      },
      "source": [
        "import random\n",
        "dir(random)  # Reminding ourselves what we can do here"
      ],
      "execution_count": 2,
      "outputs": [
        {
          "output_type": "execute_result",
          "data": {
            "text/plain": [
              "['BPF',\n",
              " 'LOG4',\n",
              " 'NV_MAGICCONST',\n",
              " 'RECIP_BPF',\n",
              " 'Random',\n",
              " 'SG_MAGICCONST',\n",
              " 'SystemRandom',\n",
              " 'TWOPI',\n",
              " '_BuiltinMethodType',\n",
              " '_MethodType',\n",
              " '_Sequence',\n",
              " '_Set',\n",
              " '__all__',\n",
              " '__builtins__',\n",
              " '__cached__',\n",
              " '__doc__',\n",
              " '__file__',\n",
              " '__loader__',\n",
              " '__name__',\n",
              " '__package__',\n",
              " '__spec__',\n",
              " '_acos',\n",
              " '_bisect',\n",
              " '_ceil',\n",
              " '_cos',\n",
              " '_e',\n",
              " '_exp',\n",
              " '_inst',\n",
              " '_itertools',\n",
              " '_log',\n",
              " '_pi',\n",
              " '_random',\n",
              " '_sha512',\n",
              " '_sin',\n",
              " '_sqrt',\n",
              " '_test',\n",
              " '_test_generator',\n",
              " '_urandom',\n",
              " '_warn',\n",
              " 'betavariate',\n",
              " 'choice',\n",
              " 'choices',\n",
              " 'expovariate',\n",
              " 'gammavariate',\n",
              " 'gauss',\n",
              " 'getrandbits',\n",
              " 'getstate',\n",
              " 'lognormvariate',\n",
              " 'normalvariate',\n",
              " 'paretovariate',\n",
              " 'randint',\n",
              " 'random',\n",
              " 'randrange',\n",
              " 'sample',\n",
              " 'seed',\n",
              " 'setstate',\n",
              " 'shuffle',\n",
              " 'triangular',\n",
              " 'uniform',\n",
              " 'vonmisesvariate',\n",
              " 'weibullvariate']"
            ]
          },
          "metadata": {
            "tags": []
          },
          "execution_count": 2
        }
      ]
    },
    {
      "cell_type": "code",
      "metadata": {
        "id": "Ks5qFtpnq-q5",
        "colab_type": "code",
        "outputId": "902437e9-6e79-411c-ae58-ff70f8ca5c77",
        "colab": {
          "base_uri": "https://localhost:8080/",
          "height": 35
        }
      },
      "source": [
        "# Let's think of another scenario:\n",
        "# We work for a company that sells accessories for mobile phones.\n",
        "# They have an ecommerce site, and we are supposed to analyze logs\n",
        "# to determine what sort of usage is related to purchases, and thus guide\n",
        "# website development to encourage higher conversion.\n",
        "\n",
        "# The hypothesis - users who spend longer on the site tend\n",
        "# to spend more. Seems reasonable, no?\n",
        "\n",
        "# But there's a confounding variable! If they're on a phone, they:\n",
        "# a) Spend less time on the site, but\n",
        "# b) Are more likely to be interested in the actual products!\n",
        "\n",
        "# Let's use namedtuple to represent our data\n",
        "\n",
        "from collections import namedtuple\n",
        "# purchased and mobile are bools, time_on_site in seconds\n",
        "User = namedtuple('User', ['purchased','time_on_site', 'mobile'])\n",
        "\n",
        "example_user = User(False, 12, False)\n",
        "print(example_user)"
      ],
      "execution_count": 3,
      "outputs": [
        {
          "output_type": "stream",
          "text": [
            "User(purchased=False, time_on_site=12, mobile=False)\n"
          ],
          "name": "stdout"
        }
      ]
    },
    {
      "cell_type": "code",
      "metadata": {
        "id": "lfPiHNG_sefL",
        "colab_type": "code",
        "outputId": "d285c33f-ce55-42dd-8b39-ff82ffc0329c",
        "colab": {
          "base_uri": "https://localhost:8080/",
          "height": 55
        }
      },
      "source": [
        "# And now let's generate 1000 example users\n",
        "# 750 mobile, 250 not (i.e. desktop)\n",
        "# A desktop user has a base conversion likelihood of 10%\n",
        "# And it goes up by 1% for each 15 seconds they spend on the site\n",
        "# And they spend anywhere from 10 seconds to 10 minutes on the site (uniform)\n",
        "# Mobile users spend on average half as much time on the site as desktop\n",
        "# But have three times as much base likelihood of buying something\n",
        "\n",
        "users = []\n",
        "\n",
        "for _ in range(250):\n",
        "  # Desktop users\n",
        "  time_on_site = random.uniform(10, 600)\n",
        "  purchased = random.random() < 0.1 + (time_on_site / 1500)\n",
        "  users.append(User(purchased, time_on_site, False))\n",
        "  \n",
        "for _ in range(750):\n",
        "  # Mobile users\n",
        "  time_on_site = random.uniform(5, 300)\n",
        "  purchased = random.random() < 0.3 + (time_on_site / 1500)\n",
        "  users.append(User(purchased, time_on_site, True))\n",
        "  \n",
        "random.shuffle(users)\n",
        "print(users[:10])"
      ],
      "execution_count": 4,
      "outputs": [
        {
          "output_type": "stream",
          "text": [
            "[User(purchased=True, time_on_site=549.2086944767983, mobile=False), User(purchased=False, time_on_site=82.98505220806115, mobile=True), User(purchased=False, time_on_site=10.37999853491663, mobile=True), User(purchased=False, time_on_site=199.6635856294555, mobile=False), User(purchased=True, time_on_site=173.96159043738047, mobile=True), User(purchased=False, time_on_site=476.70047926838197, mobile=False), User(purchased=True, time_on_site=214.8372069003409, mobile=True), User(purchased=False, time_on_site=201.7531121218215, mobile=True), User(purchased=True, time_on_site=216.24666554886988, mobile=True), User(purchased=True, time_on_site=193.45734427946596, mobile=True)]\n"
          ],
          "name": "stdout"
        }
      ]
    },
    {
      "cell_type": "code",
      "metadata": {
        "id": "iaU9wyZl1CDA",
        "colab_type": "code",
        "colab": {}
      },
      "source": [
        "!pip freeze"
      ],
      "execution_count": 0,
      "outputs": []
    },
    {
      "cell_type": "code",
      "metadata": {
        "id": "ybbVu0UM1VjW",
        "colab_type": "code",
        "colab": {
          "base_uri": "https://localhost:8080/",
          "height": 367
        },
        "outputId": "0ec66102-bdc5-4832-cc36-03028df04c94"
      },
      "source": [
        "!pip install pandas==0.23.4"
      ],
      "execution_count": 10,
      "outputs": [
        {
          "output_type": "stream",
          "text": [
            "Collecting pandas==0.23.4\n",
            "\u001b[?25l  Downloading https://files.pythonhosted.org/packages/e1/d8/feeb346d41f181e83fba45224ab14a8d8af019b48af742e047f3845d8cff/pandas-0.23.4-cp36-cp36m-manylinux1_x86_64.whl (8.9MB)\n",
            "\u001b[K     |████████████████████████████████| 8.9MB 4.7MB/s \n",
            "\u001b[?25hRequirement already satisfied: pytz>=2011k in /usr/local/lib/python3.6/dist-packages (from pandas==0.23.4) (2018.9)\n",
            "Requirement already satisfied: numpy>=1.9.0 in /usr/local/lib/python3.6/dist-packages (from pandas==0.23.4) (1.16.4)\n",
            "Requirement already satisfied: python-dateutil>=2.5.0 in /usr/local/lib/python3.6/dist-packages (from pandas==0.23.4) (2.5.3)\n",
            "Requirement already satisfied: six>=1.5 in /usr/local/lib/python3.6/dist-packages (from python-dateutil>=2.5.0->pandas==0.23.4) (1.12.0)\n",
            "\u001b[31mERROR: google-colab 1.0.0 has requirement pandas~=0.24.0, but you'll have pandas 0.23.4 which is incompatible.\u001b[0m\n",
            "Installing collected packages: pandas\n",
            "  Found existing installation: pandas 0.24.2\n",
            "    Uninstalling pandas-0.24.2:\n",
            "      Successfully uninstalled pandas-0.24.2\n",
            "Successfully installed pandas-0.23.4\n"
          ],
          "name": "stdout"
        },
        {
          "output_type": "display_data",
          "data": {
            "application/vnd.colab-display-data+json": {
              "pip_warning": {
                "packages": [
                  "pandas"
                ]
              }
            }
          },
          "metadata": {
            "tags": []
          }
        }
      ]
    },
    {
      "cell_type": "code",
      "metadata": {
        "id": "9gDYb5qGuRzy",
        "colab_type": "code",
        "outputId": "1264cb55-186e-4ed7-96cb-4b3e36159ddc",
        "colab": {
          "base_uri": "https://localhost:8080/",
          "height": 676
        }
      },
      "source": [
        "# Let's put this in a dataframe so we can look at it more easily\n",
        "import pandas as pd\n",
        "user_data = pd.DataFrame(users)\n",
        "user_data.head(20)"
      ],
      "execution_count": 6,
      "outputs": [
        {
          "output_type": "execute_result",
          "data": {
            "text/html": [
              "<div>\n",
              "<style scoped>\n",
              "    .dataframe tbody tr th:only-of-type {\n",
              "        vertical-align: middle;\n",
              "    }\n",
              "\n",
              "    .dataframe tbody tr th {\n",
              "        vertical-align: top;\n",
              "    }\n",
              "\n",
              "    .dataframe thead th {\n",
              "        text-align: right;\n",
              "    }\n",
              "</style>\n",
              "<table border=\"1\" class=\"dataframe\">\n",
              "  <thead>\n",
              "    <tr style=\"text-align: right;\">\n",
              "      <th></th>\n",
              "      <th>purchased</th>\n",
              "      <th>time_on_site</th>\n",
              "      <th>mobile</th>\n",
              "    </tr>\n",
              "  </thead>\n",
              "  <tbody>\n",
              "    <tr>\n",
              "      <th>0</th>\n",
              "      <td>True</td>\n",
              "      <td>549.208694</td>\n",
              "      <td>False</td>\n",
              "    </tr>\n",
              "    <tr>\n",
              "      <th>1</th>\n",
              "      <td>False</td>\n",
              "      <td>82.985052</td>\n",
              "      <td>True</td>\n",
              "    </tr>\n",
              "    <tr>\n",
              "      <th>2</th>\n",
              "      <td>False</td>\n",
              "      <td>10.379999</td>\n",
              "      <td>True</td>\n",
              "    </tr>\n",
              "    <tr>\n",
              "      <th>3</th>\n",
              "      <td>False</td>\n",
              "      <td>199.663586</td>\n",
              "      <td>False</td>\n",
              "    </tr>\n",
              "    <tr>\n",
              "      <th>4</th>\n",
              "      <td>True</td>\n",
              "      <td>173.961590</td>\n",
              "      <td>True</td>\n",
              "    </tr>\n",
              "    <tr>\n",
              "      <th>5</th>\n",
              "      <td>False</td>\n",
              "      <td>476.700479</td>\n",
              "      <td>False</td>\n",
              "    </tr>\n",
              "    <tr>\n",
              "      <th>6</th>\n",
              "      <td>True</td>\n",
              "      <td>214.837207</td>\n",
              "      <td>True</td>\n",
              "    </tr>\n",
              "    <tr>\n",
              "      <th>7</th>\n",
              "      <td>False</td>\n",
              "      <td>201.753112</td>\n",
              "      <td>True</td>\n",
              "    </tr>\n",
              "    <tr>\n",
              "      <th>8</th>\n",
              "      <td>True</td>\n",
              "      <td>216.246666</td>\n",
              "      <td>True</td>\n",
              "    </tr>\n",
              "    <tr>\n",
              "      <th>9</th>\n",
              "      <td>True</td>\n",
              "      <td>193.457344</td>\n",
              "      <td>True</td>\n",
              "    </tr>\n",
              "    <tr>\n",
              "      <th>10</th>\n",
              "      <td>True</td>\n",
              "      <td>167.453794</td>\n",
              "      <td>True</td>\n",
              "    </tr>\n",
              "    <tr>\n",
              "      <th>11</th>\n",
              "      <td>False</td>\n",
              "      <td>105.332293</td>\n",
              "      <td>True</td>\n",
              "    </tr>\n",
              "    <tr>\n",
              "      <th>12</th>\n",
              "      <td>True</td>\n",
              "      <td>271.119669</td>\n",
              "      <td>False</td>\n",
              "    </tr>\n",
              "    <tr>\n",
              "      <th>13</th>\n",
              "      <td>False</td>\n",
              "      <td>73.519146</td>\n",
              "      <td>True</td>\n",
              "    </tr>\n",
              "    <tr>\n",
              "      <th>14</th>\n",
              "      <td>True</td>\n",
              "      <td>175.691361</td>\n",
              "      <td>True</td>\n",
              "    </tr>\n",
              "    <tr>\n",
              "      <th>15</th>\n",
              "      <td>False</td>\n",
              "      <td>10.733527</td>\n",
              "      <td>False</td>\n",
              "    </tr>\n",
              "    <tr>\n",
              "      <th>16</th>\n",
              "      <td>False</td>\n",
              "      <td>388.104329</td>\n",
              "      <td>False</td>\n",
              "    </tr>\n",
              "    <tr>\n",
              "      <th>17</th>\n",
              "      <td>False</td>\n",
              "      <td>298.497007</td>\n",
              "      <td>True</td>\n",
              "    </tr>\n",
              "    <tr>\n",
              "      <th>18</th>\n",
              "      <td>False</td>\n",
              "      <td>43.222508</td>\n",
              "      <td>True</td>\n",
              "    </tr>\n",
              "    <tr>\n",
              "      <th>19</th>\n",
              "      <td>True</td>\n",
              "      <td>425.531627</td>\n",
              "      <td>False</td>\n",
              "    </tr>\n",
              "  </tbody>\n",
              "</table>\n",
              "</div>"
            ],
            "text/plain": [
              "    purchased  time_on_site  mobile\n",
              "0        True    549.208694   False\n",
              "1       False     82.985052    True\n",
              "2       False     10.379999    True\n",
              "3       False    199.663586   False\n",
              "4        True    173.961590    True\n",
              "5       False    476.700479   False\n",
              "6        True    214.837207    True\n",
              "7       False    201.753112    True\n",
              "8        True    216.246666    True\n",
              "9        True    193.457344    True\n",
              "10       True    167.453794    True\n",
              "11      False    105.332293    True\n",
              "12       True    271.119669   False\n",
              "13      False     73.519146    True\n",
              "14       True    175.691361    True\n",
              "15      False     10.733527   False\n",
              "16      False    388.104329   False\n",
              "17      False    298.497007    True\n",
              "18      False     43.222508    True\n",
              "19       True    425.531627   False"
            ]
          },
          "metadata": {
            "tags": []
          },
          "execution_count": 6
        }
      ]
    },
    {
      "cell_type": "code",
      "metadata": {
        "id": "sr6IJv77ulVl",
        "colab_type": "code",
        "outputId": "ea0137b8-8a58-4ccf-e170-a211938e5388",
        "colab": {
          "base_uri": "https://localhost:8080/",
          "height": 163
        }
      },
      "source": [
        "# Let's use crosstabulation to try to see what's going on\n",
        "pd.crosstab(user_data['purchased'], user_data['time_on_site'])"
      ],
      "execution_count": 7,
      "outputs": [
        {
          "output_type": "execute_result",
          "data": {
            "text/html": [
              "<div>\n",
              "<style scoped>\n",
              "    .dataframe tbody tr th:only-of-type {\n",
              "        vertical-align: middle;\n",
              "    }\n",
              "\n",
              "    .dataframe tbody tr th {\n",
              "        vertical-align: top;\n",
              "    }\n",
              "\n",
              "    .dataframe thead th {\n",
              "        text-align: right;\n",
              "    }\n",
              "</style>\n",
              "<table border=\"1\" class=\"dataframe\">\n",
              "  <thead>\n",
              "    <tr style=\"text-align: right;\">\n",
              "      <th>time_on_site</th>\n",
              "      <th>5.088827808775765</th>\n",
              "      <th>5.219876602394463</th>\n",
              "      <th>5.49623133621817</th>\n",
              "      <th>5.921862805297637</th>\n",
              "      <th>6.674642225763021</th>\n",
              "      <th>6.866432168297793</th>\n",
              "      <th>6.89136154701731</th>\n",
              "      <th>6.952817320994936</th>\n",
              "      <th>7.252053471157675</th>\n",
              "      <th>7.715721051931856</th>\n",
              "      <th>8.391348423334183</th>\n",
              "      <th>8.42570338745352</th>\n",
              "      <th>8.684955680181227</th>\n",
              "      <th>8.904959518439453</th>\n",
              "      <th>9.129811608213394</th>\n",
              "      <th>9.432163033082844</th>\n",
              "      <th>9.728000571513062</th>\n",
              "      <th>9.824961590203838</th>\n",
              "      <th>10.37999853491663</th>\n",
              "      <th>10.733527022350387</th>\n",
              "      <th>11.86253555432961</th>\n",
              "      <th>11.879424643431275</th>\n",
              "      <th>12.055758013905177</th>\n",
              "      <th>12.13392530382459</th>\n",
              "      <th>12.283514568255384</th>\n",
              "      <th>12.380177500433296</th>\n",
              "      <th>12.695576824663542</th>\n",
              "      <th>12.96032637936894</th>\n",
              "      <th>12.977136660546991</th>\n",
              "      <th>13.453799675056413</th>\n",
              "      <th>13.882151199190972</th>\n",
              "      <th>14.436561350625547</th>\n",
              "      <th>14.5836938389272</th>\n",
              "      <th>14.640776890740598</th>\n",
              "      <th>14.939230496458585</th>\n",
              "      <th>15.27668891406826</th>\n",
              "      <th>16.420343561358248</th>\n",
              "      <th>16.78698499348276</th>\n",
              "      <th>17.43232936591315</th>\n",
              "      <th>17.63819205537918</th>\n",
              "      <th>...</th>\n",
              "      <th>489.5699564675082</th>\n",
              "      <th>492.3391485253717</th>\n",
              "      <th>493.66279097749697</th>\n",
              "      <th>495.3543034705803</th>\n",
              "      <th>496.90486198150177</th>\n",
              "      <th>502.03903122428704</th>\n",
              "      <th>503.2126206882664</th>\n",
              "      <th>505.74831255240485</th>\n",
              "      <th>509.12286112156823</th>\n",
              "      <th>509.34166936739643</th>\n",
              "      <th>510.8343138937771</th>\n",
              "      <th>512.784070849736</th>\n",
              "      <th>521.3147792306761</th>\n",
              "      <th>521.9308374775711</th>\n",
              "      <th>529.6647086058108</th>\n",
              "      <th>532.9869107309889</th>\n",
              "      <th>537.7525653659756</th>\n",
              "      <th>540.5879000310795</th>\n",
              "      <th>544.7813910999105</th>\n",
              "      <th>545.7463602209443</th>\n",
              "      <th>549.2086944767983</th>\n",
              "      <th>555.1194571688732</th>\n",
              "      <th>555.6885527293224</th>\n",
              "      <th>556.4284062421301</th>\n",
              "      <th>559.5469392187073</th>\n",
              "      <th>564.6245612560587</th>\n",
              "      <th>572.1470735663605</th>\n",
              "      <th>573.1207127204697</th>\n",
              "      <th>576.928491001582</th>\n",
              "      <th>580.2422689523536</th>\n",
              "      <th>580.920640516344</th>\n",
              "      <th>583.29473499356</th>\n",
              "      <th>583.5702559653394</th>\n",
              "      <th>583.9776930058396</th>\n",
              "      <th>587.3657333669496</th>\n",
              "      <th>588.2227725611015</th>\n",
              "      <th>594.0035307689654</th>\n",
              "      <th>594.7239078996153</th>\n",
              "      <th>598.0667169797609</th>\n",
              "      <th>599.8007965203186</th>\n",
              "    </tr>\n",
              "    <tr>\n",
              "      <th>purchased</th>\n",
              "      <th></th>\n",
              "      <th></th>\n",
              "      <th></th>\n",
              "      <th></th>\n",
              "      <th></th>\n",
              "      <th></th>\n",
              "      <th></th>\n",
              "      <th></th>\n",
              "      <th></th>\n",
              "      <th></th>\n",
              "      <th></th>\n",
              "      <th></th>\n",
              "      <th></th>\n",
              "      <th></th>\n",
              "      <th></th>\n",
              "      <th></th>\n",
              "      <th></th>\n",
              "      <th></th>\n",
              "      <th></th>\n",
              "      <th></th>\n",
              "      <th></th>\n",
              "      <th></th>\n",
              "      <th></th>\n",
              "      <th></th>\n",
              "      <th></th>\n",
              "      <th></th>\n",
              "      <th></th>\n",
              "      <th></th>\n",
              "      <th></th>\n",
              "      <th></th>\n",
              "      <th></th>\n",
              "      <th></th>\n",
              "      <th></th>\n",
              "      <th></th>\n",
              "      <th></th>\n",
              "      <th></th>\n",
              "      <th></th>\n",
              "      <th></th>\n",
              "      <th></th>\n",
              "      <th></th>\n",
              "      <th></th>\n",
              "      <th></th>\n",
              "      <th></th>\n",
              "      <th></th>\n",
              "      <th></th>\n",
              "      <th></th>\n",
              "      <th></th>\n",
              "      <th></th>\n",
              "      <th></th>\n",
              "      <th></th>\n",
              "      <th></th>\n",
              "      <th></th>\n",
              "      <th></th>\n",
              "      <th></th>\n",
              "      <th></th>\n",
              "      <th></th>\n",
              "      <th></th>\n",
              "      <th></th>\n",
              "      <th></th>\n",
              "      <th></th>\n",
              "      <th></th>\n",
              "      <th></th>\n",
              "      <th></th>\n",
              "      <th></th>\n",
              "      <th></th>\n",
              "      <th></th>\n",
              "      <th></th>\n",
              "      <th></th>\n",
              "      <th></th>\n",
              "      <th></th>\n",
              "      <th></th>\n",
              "      <th></th>\n",
              "      <th></th>\n",
              "      <th></th>\n",
              "      <th></th>\n",
              "      <th></th>\n",
              "      <th></th>\n",
              "      <th></th>\n",
              "      <th></th>\n",
              "      <th></th>\n",
              "      <th></th>\n",
              "    </tr>\n",
              "  </thead>\n",
              "  <tbody>\n",
              "    <tr>\n",
              "      <th>False</th>\n",
              "      <td>0</td>\n",
              "      <td>1</td>\n",
              "      <td>1</td>\n",
              "      <td>1</td>\n",
              "      <td>1</td>\n",
              "      <td>1</td>\n",
              "      <td>1</td>\n",
              "      <td>1</td>\n",
              "      <td>0</td>\n",
              "      <td>0</td>\n",
              "      <td>1</td>\n",
              "      <td>1</td>\n",
              "      <td>1</td>\n",
              "      <td>1</td>\n",
              "      <td>1</td>\n",
              "      <td>1</td>\n",
              "      <td>0</td>\n",
              "      <td>1</td>\n",
              "      <td>1</td>\n",
              "      <td>1</td>\n",
              "      <td>0</td>\n",
              "      <td>1</td>\n",
              "      <td>0</td>\n",
              "      <td>1</td>\n",
              "      <td>1</td>\n",
              "      <td>0</td>\n",
              "      <td>1</td>\n",
              "      <td>1</td>\n",
              "      <td>1</td>\n",
              "      <td>0</td>\n",
              "      <td>0</td>\n",
              "      <td>1</td>\n",
              "      <td>1</td>\n",
              "      <td>1</td>\n",
              "      <td>1</td>\n",
              "      <td>1</td>\n",
              "      <td>0</td>\n",
              "      <td>1</td>\n",
              "      <td>1</td>\n",
              "      <td>0</td>\n",
              "      <td>...</td>\n",
              "      <td>1</td>\n",
              "      <td>1</td>\n",
              "      <td>0</td>\n",
              "      <td>1</td>\n",
              "      <td>1</td>\n",
              "      <td>0</td>\n",
              "      <td>1</td>\n",
              "      <td>1</td>\n",
              "      <td>0</td>\n",
              "      <td>0</td>\n",
              "      <td>1</td>\n",
              "      <td>0</td>\n",
              "      <td>1</td>\n",
              "      <td>1</td>\n",
              "      <td>0</td>\n",
              "      <td>1</td>\n",
              "      <td>0</td>\n",
              "      <td>1</td>\n",
              "      <td>1</td>\n",
              "      <td>1</td>\n",
              "      <td>0</td>\n",
              "      <td>0</td>\n",
              "      <td>0</td>\n",
              "      <td>1</td>\n",
              "      <td>1</td>\n",
              "      <td>0</td>\n",
              "      <td>0</td>\n",
              "      <td>1</td>\n",
              "      <td>0</td>\n",
              "      <td>1</td>\n",
              "      <td>0</td>\n",
              "      <td>0</td>\n",
              "      <td>0</td>\n",
              "      <td>0</td>\n",
              "      <td>0</td>\n",
              "      <td>0</td>\n",
              "      <td>0</td>\n",
              "      <td>1</td>\n",
              "      <td>1</td>\n",
              "      <td>0</td>\n",
              "    </tr>\n",
              "    <tr>\n",
              "      <th>True</th>\n",
              "      <td>1</td>\n",
              "      <td>0</td>\n",
              "      <td>0</td>\n",
              "      <td>0</td>\n",
              "      <td>0</td>\n",
              "      <td>0</td>\n",
              "      <td>0</td>\n",
              "      <td>0</td>\n",
              "      <td>1</td>\n",
              "      <td>1</td>\n",
              "      <td>0</td>\n",
              "      <td>0</td>\n",
              "      <td>0</td>\n",
              "      <td>0</td>\n",
              "      <td>0</td>\n",
              "      <td>0</td>\n",
              "      <td>1</td>\n",
              "      <td>0</td>\n",
              "      <td>0</td>\n",
              "      <td>0</td>\n",
              "      <td>1</td>\n",
              "      <td>0</td>\n",
              "      <td>1</td>\n",
              "      <td>0</td>\n",
              "      <td>0</td>\n",
              "      <td>1</td>\n",
              "      <td>0</td>\n",
              "      <td>0</td>\n",
              "      <td>0</td>\n",
              "      <td>1</td>\n",
              "      <td>1</td>\n",
              "      <td>0</td>\n",
              "      <td>0</td>\n",
              "      <td>0</td>\n",
              "      <td>0</td>\n",
              "      <td>0</td>\n",
              "      <td>1</td>\n",
              "      <td>0</td>\n",
              "      <td>0</td>\n",
              "      <td>1</td>\n",
              "      <td>...</td>\n",
              "      <td>0</td>\n",
              "      <td>0</td>\n",
              "      <td>1</td>\n",
              "      <td>0</td>\n",
              "      <td>0</td>\n",
              "      <td>1</td>\n",
              "      <td>0</td>\n",
              "      <td>0</td>\n",
              "      <td>1</td>\n",
              "      <td>1</td>\n",
              "      <td>0</td>\n",
              "      <td>1</td>\n",
              "      <td>0</td>\n",
              "      <td>0</td>\n",
              "      <td>1</td>\n",
              "      <td>0</td>\n",
              "      <td>1</td>\n",
              "      <td>0</td>\n",
              "      <td>0</td>\n",
              "      <td>0</td>\n",
              "      <td>1</td>\n",
              "      <td>1</td>\n",
              "      <td>1</td>\n",
              "      <td>0</td>\n",
              "      <td>0</td>\n",
              "      <td>1</td>\n",
              "      <td>1</td>\n",
              "      <td>0</td>\n",
              "      <td>1</td>\n",
              "      <td>0</td>\n",
              "      <td>1</td>\n",
              "      <td>1</td>\n",
              "      <td>1</td>\n",
              "      <td>1</td>\n",
              "      <td>1</td>\n",
              "      <td>1</td>\n",
              "      <td>1</td>\n",
              "      <td>0</td>\n",
              "      <td>0</td>\n",
              "      <td>1</td>\n",
              "    </tr>\n",
              "  </tbody>\n",
              "</table>\n",
              "</div>"
            ],
            "text/plain": [
              "time_on_site  5.088828    5.219877       ...      598.066717  599.800797\n",
              "purchased                                ...                            \n",
              "False                  0           1     ...               1           0\n",
              "True                   1           0     ...               0           1\n",
              "\n",
              "[2 rows x 1000 columns]"
            ]
          },
          "metadata": {
            "tags": []
          },
          "execution_count": 7
        }
      ]
    },
    {
      "cell_type": "code",
      "metadata": {
        "id": "hvAv6J3EwA9s",
        "colab_type": "code",
        "outputId": "84b51a01-d463-411a-d636-e2ea57e54ae8",
        "colab": {
          "base_uri": "https://localhost:8080/",
          "height": 143
        }
      },
      "source": [
        "# OK, that's not quite what we want\n",
        "# Time is continuous! We need to put it in discrete buckets\n",
        "# Pandas calls these bins, and pandas.cut helps make them\n",
        "\n",
        "time_bins = pd.cut(user_data['time_on_site'], 5)  # 5 equal-sized bins\n",
        "pd.crosstab(user_data['purchased'], time_bins)"
      ],
      "execution_count": 8,
      "outputs": [
        {
          "output_type": "execute_result",
          "data": {
            "text/html": [
              "<div>\n",
              "<style scoped>\n",
              "    .dataframe tbody tr th:only-of-type {\n",
              "        vertical-align: middle;\n",
              "    }\n",
              "\n",
              "    .dataframe tbody tr th {\n",
              "        vertical-align: top;\n",
              "    }\n",
              "\n",
              "    .dataframe thead th {\n",
              "        text-align: right;\n",
              "    }\n",
              "</style>\n",
              "<table border=\"1\" class=\"dataframe\">\n",
              "  <thead>\n",
              "    <tr style=\"text-align: right;\">\n",
              "      <th>time_on_site</th>\n",
              "      <th>(4.494, 124.031]</th>\n",
              "      <th>(124.031, 242.974]</th>\n",
              "      <th>(242.974, 361.916]</th>\n",
              "      <th>(361.916, 480.858]</th>\n",
              "      <th>(480.858, 599.801]</th>\n",
              "    </tr>\n",
              "    <tr>\n",
              "      <th>purchased</th>\n",
              "      <th></th>\n",
              "      <th></th>\n",
              "      <th></th>\n",
              "      <th></th>\n",
              "      <th></th>\n",
              "    </tr>\n",
              "  </thead>\n",
              "  <tbody>\n",
              "    <tr>\n",
              "      <th>False</th>\n",
              "      <td>244</td>\n",
              "      <td>220</td>\n",
              "      <td>86</td>\n",
              "      <td>30</td>\n",
              "      <td>21</td>\n",
              "    </tr>\n",
              "    <tr>\n",
              "      <th>True</th>\n",
              "      <td>108</td>\n",
              "      <td>160</td>\n",
              "      <td>87</td>\n",
              "      <td>20</td>\n",
              "      <td>24</td>\n",
              "    </tr>\n",
              "  </tbody>\n",
              "</table>\n",
              "</div>"
            ],
            "text/plain": [
              "time_on_site  (4.494, 124.031]         ...          (480.858, 599.801]\n",
              "purchased                              ...                            \n",
              "False                      244         ...                          21\n",
              "True                       108         ...                          24\n",
              "\n",
              "[2 rows x 5 columns]"
            ]
          },
          "metadata": {
            "tags": []
          },
          "execution_count": 8
        }
      ]
    },
    {
      "cell_type": "code",
      "metadata": {
        "id": "pjcXnJw0wfaj",
        "colab_type": "code",
        "outputId": "509a3b32-304b-4445-93e8-0bb25fa637f2",
        "colab": {
          "base_uri": "https://localhost:8080/",
          "height": 143
        }
      },
      "source": [
        "# We can make this a bit clearer by normalizing (getting %)\n",
        "pd.crosstab(user_data['purchased'], time_bins, normalize='columns')"
      ],
      "execution_count": 10,
      "outputs": [
        {
          "output_type": "execute_result",
          "data": {
            "text/html": [
              "<div>\n",
              "<style scoped>\n",
              "    .dataframe tbody tr th:only-of-type {\n",
              "        vertical-align: middle;\n",
              "    }\n",
              "\n",
              "    .dataframe tbody tr th {\n",
              "        vertical-align: top;\n",
              "    }\n",
              "\n",
              "    .dataframe thead th {\n",
              "        text-align: right;\n",
              "    }\n",
              "</style>\n",
              "<table border=\"1\" class=\"dataframe\">\n",
              "  <thead>\n",
              "    <tr style=\"text-align: right;\">\n",
              "      <th>time_on_site</th>\n",
              "      <th>(4.494, 124.031]</th>\n",
              "      <th>(124.031, 242.974]</th>\n",
              "      <th>(242.974, 361.916]</th>\n",
              "      <th>(361.916, 480.858]</th>\n",
              "      <th>(480.858, 599.801]</th>\n",
              "    </tr>\n",
              "    <tr>\n",
              "      <th>purchased</th>\n",
              "      <th></th>\n",
              "      <th></th>\n",
              "      <th></th>\n",
              "      <th></th>\n",
              "      <th></th>\n",
              "    </tr>\n",
              "  </thead>\n",
              "  <tbody>\n",
              "    <tr>\n",
              "      <th>False</th>\n",
              "      <td>0.693182</td>\n",
              "      <td>0.578947</td>\n",
              "      <td>0.49711</td>\n",
              "      <td>0.6</td>\n",
              "      <td>0.466667</td>\n",
              "    </tr>\n",
              "    <tr>\n",
              "      <th>True</th>\n",
              "      <td>0.306818</td>\n",
              "      <td>0.421053</td>\n",
              "      <td>0.50289</td>\n",
              "      <td>0.4</td>\n",
              "      <td>0.533333</td>\n",
              "    </tr>\n",
              "  </tbody>\n",
              "</table>\n",
              "</div>"
            ],
            "text/plain": [
              "time_on_site  (4.494, 124.031]         ...          (480.858, 599.801]\n",
              "purchased                              ...                            \n",
              "False                 0.693182         ...                    0.466667\n",
              "True                  0.306818         ...                    0.533333\n",
              "\n",
              "[2 rows x 5 columns]"
            ]
          },
          "metadata": {
            "tags": []
          },
          "execution_count": 10
        }
      ]
    },
    {
      "cell_type": "code",
      "metadata": {
        "id": "C3GzvDxlvZMa",
        "colab_type": "code",
        "outputId": "ccc90bad-9250-4c98-9730-482a4beeccce",
        "colab": {
          "base_uri": "https://localhost:8080/",
          "height": 143
        }
      },
      "source": [
        "# That seems counter to our hypothesis\n",
        "# More time on the site can actually have fewer purchases\n",
        "\n",
        "# But we know why, since we generated the data!\n",
        "# Let's look at mobile and purchased\n",
        "pd.crosstab(user_data['purchased'], user_data['mobile'], normalize='columns')"
      ],
      "execution_count": 11,
      "outputs": [
        {
          "output_type": "execute_result",
          "data": {
            "text/html": [
              "<div>\n",
              "<style scoped>\n",
              "    .dataframe tbody tr th:only-of-type {\n",
              "        vertical-align: middle;\n",
              "    }\n",
              "\n",
              "    .dataframe tbody tr th {\n",
              "        vertical-align: top;\n",
              "    }\n",
              "\n",
              "    .dataframe thead th {\n",
              "        text-align: right;\n",
              "    }\n",
              "</style>\n",
              "<table border=\"1\" class=\"dataframe\">\n",
              "  <thead>\n",
              "    <tr style=\"text-align: right;\">\n",
              "      <th>mobile</th>\n",
              "      <th>False</th>\n",
              "      <th>True</th>\n",
              "    </tr>\n",
              "    <tr>\n",
              "      <th>purchased</th>\n",
              "      <th></th>\n",
              "      <th></th>\n",
              "    </tr>\n",
              "  </thead>\n",
              "  <tbody>\n",
              "    <tr>\n",
              "      <th>False</th>\n",
              "      <td>0.684</td>\n",
              "      <td>0.573333</td>\n",
              "    </tr>\n",
              "    <tr>\n",
              "      <th>True</th>\n",
              "      <td>0.316</td>\n",
              "      <td>0.426667</td>\n",
              "    </tr>\n",
              "  </tbody>\n",
              "</table>\n",
              "</div>"
            ],
            "text/plain": [
              "mobile     False     True \n",
              "purchased                 \n",
              "False      0.684  0.573333\n",
              "True       0.316  0.426667"
            ]
          },
          "metadata": {
            "tags": []
          },
          "execution_count": 11
        }
      ]
    },
    {
      "cell_type": "code",
      "metadata": {
        "id": "KQb-wU60xCum",
        "colab_type": "code",
        "colab": {
          "base_uri": "https://localhost:8080/",
          "height": 192
        },
        "outputId": "cfee9c8e-1794-435d-8c09-eb8441b450cd"
      },
      "source": [
        "# Yep, mobile users are more likely to buy things\n",
        "# But we're still not seeing the *whole* story until we look at all 3 at once\n",
        "\n",
        "ct = pd.crosstab(user_data['mobile'], [user_data['purchased'], time_bins], normalize='index')\n",
        "ct"
      ],
      "execution_count": 18,
      "outputs": [
        {
          "output_type": "execute_result",
          "data": {
            "text/html": [
              "<div>\n",
              "<style scoped>\n",
              "    .dataframe tbody tr th:only-of-type {\n",
              "        vertical-align: middle;\n",
              "    }\n",
              "\n",
              "    .dataframe tbody tr th {\n",
              "        vertical-align: top;\n",
              "    }\n",
              "\n",
              "    .dataframe thead tr th {\n",
              "        text-align: left;\n",
              "    }\n",
              "\n",
              "    .dataframe thead tr:last-of-type th {\n",
              "        text-align: right;\n",
              "    }\n",
              "</style>\n",
              "<table border=\"1\" class=\"dataframe\">\n",
              "  <thead>\n",
              "    <tr>\n",
              "      <th>purchased</th>\n",
              "      <th colspan=\"5\" halign=\"left\">False</th>\n",
              "      <th colspan=\"5\" halign=\"left\">True</th>\n",
              "    </tr>\n",
              "    <tr>\n",
              "      <th>time_on_site</th>\n",
              "      <th>(4.494, 124.031]</th>\n",
              "      <th>(124.031, 242.974]</th>\n",
              "      <th>(242.974, 361.916]</th>\n",
              "      <th>(361.916, 480.858]</th>\n",
              "      <th>(480.858, 599.801]</th>\n",
              "      <th>(4.494, 124.031]</th>\n",
              "      <th>(124.031, 242.974]</th>\n",
              "      <th>(242.974, 361.916]</th>\n",
              "      <th>(361.916, 480.858]</th>\n",
              "      <th>(480.858, 599.801]</th>\n",
              "    </tr>\n",
              "    <tr>\n",
              "      <th>mobile</th>\n",
              "      <th></th>\n",
              "      <th></th>\n",
              "      <th></th>\n",
              "      <th></th>\n",
              "      <th></th>\n",
              "      <th></th>\n",
              "      <th></th>\n",
              "      <th></th>\n",
              "      <th></th>\n",
              "      <th></th>\n",
              "    </tr>\n",
              "  </thead>\n",
              "  <tbody>\n",
              "    <tr>\n",
              "      <th>False</th>\n",
              "      <td>0.216000</td>\n",
              "      <td>0.176000</td>\n",
              "      <td>0.088000</td>\n",
              "      <td>0.12</td>\n",
              "      <td>0.084</td>\n",
              "      <td>0.040000</td>\n",
              "      <td>0.044000</td>\n",
              "      <td>0.056000</td>\n",
              "      <td>0.08</td>\n",
              "      <td>0.096</td>\n",
              "    </tr>\n",
              "    <tr>\n",
              "      <th>True</th>\n",
              "      <td>0.253333</td>\n",
              "      <td>0.234667</td>\n",
              "      <td>0.085333</td>\n",
              "      <td>0.00</td>\n",
              "      <td>0.000</td>\n",
              "      <td>0.130667</td>\n",
              "      <td>0.198667</td>\n",
              "      <td>0.097333</td>\n",
              "      <td>0.00</td>\n",
              "      <td>0.000</td>\n",
              "    </tr>\n",
              "  </tbody>\n",
              "</table>\n",
              "</div>"
            ],
            "text/plain": [
              "purchased               False        ...                      True \n",
              "time_on_site (4.494, 124.031]        ...         (480.858, 599.801]\n",
              "mobile                               ...                           \n",
              "False                0.216000        ...                      0.096\n",
              "True                 0.253333        ...                      0.000\n",
              "\n",
              "[2 rows x 10 columns]"
            ]
          },
          "metadata": {
            "tags": []
          },
          "execution_count": 18
        }
      ]
    },
    {
      "cell_type": "code",
      "metadata": {
        "id": "rKzs0u28-0iu",
        "colab_type": "code",
        "colab": {
          "base_uri": "https://localhost:8080/",
          "height": 35
        },
        "outputId": "9c0792a8-2480-42ce-fab4-792cd4e046a9"
      },
      "source": [
        "type(ct)"
      ],
      "execution_count": 19,
      "outputs": [
        {
          "output_type": "execute_result",
          "data": {
            "text/plain": [
              "pandas.core.frame.DataFrame"
            ]
          },
          "metadata": {
            "tags": []
          },
          "execution_count": 19
        }
      ]
    },
    {
      "cell_type": "code",
      "metadata": {
        "id": "--CF7k_j-31C",
        "colab_type": "code",
        "colab": {
          "base_uri": "https://localhost:8080/",
          "height": 299
        },
        "outputId": "956ca83d-dd92-4b59-d744-cdc671f62139"
      },
      "source": [
        "ct.plot(kind='bar', legend=False);"
      ],
      "execution_count": 25,
      "outputs": [
        {
          "output_type": "display_data",
          "data": {
            "image/png": "[encoded data removed]",
            "text/plain": [
              "<Figure size 432x288 with 1 Axes>"
            ]
          },
          "metadata": {
            "tags": []
          }
        }
      ]
    },
    {
      "cell_type": "code",
      "metadata": {
        "id": "tCoPBzl4_Vcz",
        "colab_type": "code",
        "colab": {
          "base_uri": "https://localhost:8080/",
          "height": 299
        },
        "outputId": "02db1e67-6339-4f07-a4f9-b08374729f87"
      },
      "source": [
        "ct.plot(kind='bar',stacked=True, legend=False);"
      ],
      "execution_count": 26,
      "outputs": [
        {
          "output_type": "display_data",
          "data": {
            "image/png": "[encoded data removed]",
            "text/plain": [
              "<Figure size 432x288 with 1 Axes>"
            ]
          },
          "metadata": {
            "tags": []
          }
        }
      ]
    },
    {
      "cell_type": "code",
      "metadata": {
        "id": "3ZuHA-9e_qsq",
        "colab_type": "code",
        "colab": {
          "base_uri": "https://localhost:8080/",
          "height": 269
        },
        "outputId": "d7101a2f-7274-4051-db81-3c90d41cc630"
      },
      "source": [
        "user_data['time_on_site'].plot.hist(bins=50);"
      ],
      "execution_count": 27,
      "outputs": [
        {
          "output_type": "display_data",
          "data": {
            "image/png": "[encoded data removed]",
            "text/plain": [
              "<Figure size 432x288 with 1 Axes>"
            ]
          },
          "metadata": {
            "tags": []
          }
        }
      ]
    },
    {
      "cell_type": "code",
      "metadata": {
        "id": "-kvJUaTE_zPP",
        "colab_type": "code",
        "colab": {
          "base_uri": "https://localhost:8080/",
          "height": 269
        },
        "outputId": "42d2ce9c-8f16-41f0-9c8e-2a9e54bb151b"
      },
      "source": [
        "user_data[(user_data['mobile']==False) & (user_data['purchased']==True)].plot.hist();"
      ],
      "execution_count": 38,
      "outputs": [
        {
          "output_type": "display_data",
          "data": {
            "image/png": "[encoded data removed]",
            "text/plain": [
              "<Figure size 432x288 with 1 Axes>"
            ]
          },
          "metadata": {
            "tags": []
          }
        }
      ]
    },
    {
      "cell_type": "code",
      "metadata": {
        "id": "etuinzpVADOb",
        "colab_type": "code",
        "colab": {
          "base_uri": "https://localhost:8080/",
          "height": 269
        },
        "outputId": "77955b3a-9e70-46fb-aae7-99ddd8197078"
      },
      "source": [
        "user_data[(user_data['mobile']==True) & (user_data['purchased']==True)].plot.hist();"
      ],
      "execution_count": 39,
      "outputs": [
        {
          "output_type": "display_data",
          "data": {
            "image/png": "[encoded data removed]",
            "text/plain": [
              "<Figure size 432x288 with 1 Axes>"
            ]
          },
          "metadata": {
            "tags": []
          }
        }
      ]
    },
    {
      "cell_type": "code",
      "metadata": {
        "id": "3q46gpS0Az_-",
        "colab_type": "code",
        "colab": {
          "base_uri": "https://localhost:8080/",
          "height": 237
        },
        "outputId": "3b5ec711-fc54-4224-ee66-9a3bf7cb6e46"
      },
      "source": [
        "pt = pd.pivot_table(user_data, values='purchased', index = time_bins)\n",
        "pt"
      ],
      "execution_count": 40,
      "outputs": [
        {
          "output_type": "execute_result",
          "data": {
            "text/html": [
              "<div>\n",
              "<style scoped>\n",
              "    .dataframe tbody tr th:only-of-type {\n",
              "        vertical-align: middle;\n",
              "    }\n",
              "\n",
              "    .dataframe tbody tr th {\n",
              "        vertical-align: top;\n",
              "    }\n",
              "\n",
              "    .dataframe thead th {\n",
              "        text-align: right;\n",
              "    }\n",
              "</style>\n",
              "<table border=\"1\" class=\"dataframe\">\n",
              "  <thead>\n",
              "    <tr style=\"text-align: right;\">\n",
              "      <th></th>\n",
              "      <th>purchased</th>\n",
              "    </tr>\n",
              "    <tr>\n",
              "      <th>time_on_site</th>\n",
              "      <th></th>\n",
              "    </tr>\n",
              "  </thead>\n",
              "  <tbody>\n",
              "    <tr>\n",
              "      <th>(4.494, 124.031]</th>\n",
              "      <td>0.306818</td>\n",
              "    </tr>\n",
              "    <tr>\n",
              "      <th>(124.031, 242.974]</th>\n",
              "      <td>0.421053</td>\n",
              "    </tr>\n",
              "    <tr>\n",
              "      <th>(242.974, 361.916]</th>\n",
              "      <td>0.502890</td>\n",
              "    </tr>\n",
              "    <tr>\n",
              "      <th>(361.916, 480.858]</th>\n",
              "      <td>0.400000</td>\n",
              "    </tr>\n",
              "    <tr>\n",
              "      <th>(480.858, 599.801]</th>\n",
              "      <td>0.533333</td>\n",
              "    </tr>\n",
              "  </tbody>\n",
              "</table>\n",
              "</div>"
            ],
            "text/plain": [
              "                    purchased\n",
              "time_on_site                 \n",
              "(4.494, 124.031]     0.306818\n",
              "(124.031, 242.974]   0.421053\n",
              "(242.974, 361.916]   0.502890\n",
              "(361.916, 480.858]   0.400000\n",
              "(480.858, 599.801]   0.533333"
            ]
          },
          "metadata": {
            "tags": []
          },
          "execution_count": 40
        }
      ]
    },
    {
      "cell_type": "code",
      "metadata": {
        "id": "ESMD-FHBBWOj",
        "colab_type": "code",
        "colab": {
          "base_uri": "https://localhost:8080/",
          "height": 370
        },
        "outputId": "f9fb7c3e-f412-4c14-d9f0-061efb953c98"
      },
      "source": [
        "pt.plot.bar();"
      ],
      "execution_count": 41,
      "outputs": [
        {
          "output_type": "display_data",
          "data": {
            "image/png": "[encoded data removed]",
            "text/plain": [
              "<Figure size 432x288 with 1 Axes>"
            ]
          },
          "metadata": {
            "tags": []
          }
        }
      ]
    },
    {
      "cell_type": "code",
      "metadata": {
        "id": "kkdLLAToBaeu",
        "colab_type": "code",
        "colab": {
          "base_uri": "https://localhost:8080/",
          "height": 269
        },
        "outputId": "444ebb71-9496-4de1-d446-286c2f852e2b"
      },
      "source": [
        "ct = pd.crosstab(time_bins,[user_data['purchased'], user_data['mobile']], normalize='columns')\n",
        "ct"
      ],
      "execution_count": 43,
      "outputs": [
        {
          "output_type": "execute_result",
          "data": {
            "text/html": [
              "<div>\n",
              "<style scoped>\n",
              "    .dataframe tbody tr th:only-of-type {\n",
              "        vertical-align: middle;\n",
              "    }\n",
              "\n",
              "    .dataframe tbody tr th {\n",
              "        vertical-align: top;\n",
              "    }\n",
              "\n",
              "    .dataframe thead tr th {\n",
              "        text-align: left;\n",
              "    }\n",
              "\n",
              "    .dataframe thead tr:last-of-type th {\n",
              "        text-align: right;\n",
              "    }\n",
              "</style>\n",
              "<table border=\"1\" class=\"dataframe\">\n",
              "  <thead>\n",
              "    <tr>\n",
              "      <th>purchased</th>\n",
              "      <th colspan=\"2\" halign=\"left\">False</th>\n",
              "      <th colspan=\"2\" halign=\"left\">True</th>\n",
              "    </tr>\n",
              "    <tr>\n",
              "      <th>mobile</th>\n",
              "      <th>False</th>\n",
              "      <th>True</th>\n",
              "      <th>False</th>\n",
              "      <th>True</th>\n",
              "    </tr>\n",
              "    <tr>\n",
              "      <th>time_on_site</th>\n",
              "      <th></th>\n",
              "      <th></th>\n",
              "      <th></th>\n",
              "      <th></th>\n",
              "    </tr>\n",
              "  </thead>\n",
              "  <tbody>\n",
              "    <tr>\n",
              "      <th>(4.494, 124.031]</th>\n",
              "      <td>0.315789</td>\n",
              "      <td>0.441860</td>\n",
              "      <td>0.126582</td>\n",
              "      <td>0.306250</td>\n",
              "    </tr>\n",
              "    <tr>\n",
              "      <th>(124.031, 242.974]</th>\n",
              "      <td>0.257310</td>\n",
              "      <td>0.409302</td>\n",
              "      <td>0.139241</td>\n",
              "      <td>0.465625</td>\n",
              "    </tr>\n",
              "    <tr>\n",
              "      <th>(242.974, 361.916]</th>\n",
              "      <td>0.128655</td>\n",
              "      <td>0.148837</td>\n",
              "      <td>0.177215</td>\n",
              "      <td>0.228125</td>\n",
              "    </tr>\n",
              "    <tr>\n",
              "      <th>(361.916, 480.858]</th>\n",
              "      <td>0.175439</td>\n",
              "      <td>0.000000</td>\n",
              "      <td>0.253165</td>\n",
              "      <td>0.000000</td>\n",
              "    </tr>\n",
              "    <tr>\n",
              "      <th>(480.858, 599.801]</th>\n",
              "      <td>0.122807</td>\n",
              "      <td>0.000000</td>\n",
              "      <td>0.303797</td>\n",
              "      <td>0.000000</td>\n",
              "    </tr>\n",
              "  </tbody>\n",
              "</table>\n",
              "</div>"
            ],
            "text/plain": [
              "purchased              False               True           \n",
              "mobile                 False     True      False     True \n",
              "time_on_site                                              \n",
              "(4.494, 124.031]    0.315789  0.441860  0.126582  0.306250\n",
              "(124.031, 242.974]  0.257310  0.409302  0.139241  0.465625\n",
              "(242.974, 361.916]  0.128655  0.148837  0.177215  0.228125\n",
              "(361.916, 480.858]  0.175439  0.000000  0.253165  0.000000\n",
              "(480.858, 599.801]  0.122807  0.000000  0.303797  0.000000"
            ]
          },
          "metadata": {
            "tags": []
          },
          "execution_count": 43
        }
      ]
    },
    {
      "cell_type": "code",
      "metadata": {
        "id": "TIpoADArCb8O",
        "colab_type": "code",
        "colab": {
          "base_uri": "https://localhost:8080/",
          "height": 274
        },
        "outputId": "d049dbc9-2b30-4378-87e9-8d5338b67d74"
      },
      "source": [
        "ct.plot();"
      ],
      "execution_count": 44,
      "outputs": [
        {
          "output_type": "display_data",
          "data": {
            "image/png": "[encoded data removed]",
            "text/plain": [
              "<Figure size 432x288 with 1 Axes>"
            ]
          },
          "metadata": {
            "tags": []
          }
        }
      ]
    },
    {
      "cell_type": "code",
      "metadata": {
        "id": "m7_9g1jqCg3n",
        "colab_type": "code",
        "colab": {
          "base_uri": "https://localhost:8080/",
          "height": 370
        },
        "outputId": "2e8be081-8e61-4801-b6e5-6f7690492d97"
      },
      "source": [
        "ct_sliced = ct.iloc[:,[2,3]]\n",
        "\n",
        "ct_sliced.plot(kind='bar', stacked=True);"
      ],
      "execution_count": 47,
      "outputs": [
        {
          "output_type": "display_data",
          "data": {
            "image/png": "[encoded data removed]",
            "text/plain": [
              "<Figure size 432x288 with 1 Axes>"
            ]
          },
          "metadata": {
            "tags": []
          }
        }
      ]
    },
    {
      "cell_type": "markdown",
      "metadata": {
        "id": "lOqaPds9huME",
        "colab_type": "text"
      },
      "source": [
        "## Assignment - what's going on here?\n",
        "\n",
        "Consider the data in `persons.csv` (already prepared for you, in the repo for the week). It has four columns - a unique id, followed by age (in years), weight (in lbs), and exercise time (in minutes/week) of 1200 (hypothetical) people.\n",
        "\n",
        "Try to figure out which variables are possibly related to each other, and which may be confounding relationships."
      ]
    },
    {
      "cell_type": "code",
      "metadata": {
        "id": "TGUS79cOhPWj",
        "colab_type": "code",
        "colab": {
          "base_uri": "https://localhost:8080/",
          "height": 206
        },
        "outputId": "e50ead01-1b6f-4b8b-cf53-a3b1a184bd74"
      },
      "source": [
        "# TODO - your code here\n",
        "# Use what we did live in lecture as an example\n",
        "\n",
        "# HINT - you can find the raw URL on GitHub and potentially use that\n",
        "# to load the data with read_csv, or you can upload it yourself\n",
        "import pandas as pd\n",
        "persons_data_url = 'https://raw.githubusercontent.com/LambdaSchool/DS-Unit-1-Sprint-1-Dealing-With-Data/master/module3-databackedassertions/persons.csv'\n",
        "\n",
        "persons_data = pd.read_csv(persons_data_url)\n",
        "persons_data.head()"
      ],
      "execution_count": 52,
      "outputs": [
        {
          "output_type": "execute_result",
          "data": {
            "text/html": [
              "<div>\n",
              "<style scoped>\n",
              "    .dataframe tbody tr th:only-of-type {\n",
              "        vertical-align: middle;\n",
              "    }\n",
              "\n",
              "    .dataframe tbody tr th {\n",
              "        vertical-align: top;\n",
              "    }\n",
              "\n",
              "    .dataframe thead th {\n",
              "        text-align: right;\n",
              "    }\n",
              "</style>\n",
              "<table border=\"1\" class=\"dataframe\">\n",
              "  <thead>\n",
              "    <tr style=\"text-align: right;\">\n",
              "      <th></th>\n",
              "      <th>Unnamed: 0</th>\n",
              "      <th>age</th>\n",
              "      <th>weight</th>\n",
              "      <th>exercise_time</th>\n",
              "    </tr>\n",
              "  </thead>\n",
              "  <tbody>\n",
              "    <tr>\n",
              "      <th>0</th>\n",
              "      <td>0</td>\n",
              "      <td>44</td>\n",
              "      <td>118</td>\n",
              "      <td>192</td>\n",
              "    </tr>\n",
              "    <tr>\n",
              "      <th>1</th>\n",
              "      <td>1</td>\n",
              "      <td>41</td>\n",
              "      <td>161</td>\n",
              "      <td>35</td>\n",
              "    </tr>\n",
              "    <tr>\n",
              "      <th>2</th>\n",
              "      <td>2</td>\n",
              "      <td>46</td>\n",
              "      <td>128</td>\n",
              "      <td>220</td>\n",
              "    </tr>\n",
              "    <tr>\n",
              "      <th>3</th>\n",
              "      <td>3</td>\n",
              "      <td>39</td>\n",
              "      <td>216</td>\n",
              "      <td>57</td>\n",
              "    </tr>\n",
              "    <tr>\n",
              "      <th>4</th>\n",
              "      <td>4</td>\n",
              "      <td>28</td>\n",
              "      <td>116</td>\n",
              "      <td>182</td>\n",
              "    </tr>\n",
              "  </tbody>\n",
              "</table>\n",
              "</div>"
            ],
            "text/plain": [
              "   Unnamed: 0  age  weight  exercise_time\n",
              "0           0   44     118            192\n",
              "1           1   41     161             35\n",
              "2           2   46     128            220\n",
              "3           3   39     216             57\n",
              "4           4   28     116            182"
            ]
          },
          "metadata": {
            "tags": []
          },
          "execution_count": 52
        }
      ]
    },
    {
      "cell_type": "code",
      "metadata": {
        "id": "3dbnecZBEQoK",
        "colab_type": "code",
        "colab": {}
      },
      "source": [
        "#deleting first column\n",
        "persons_data = persons_data.drop(columns='Unnamed: 0')\n",
        "persons_data"
      ],
      "execution_count": 0,
      "outputs": []
    },
    {
      "cell_type": "code",
      "metadata": {
        "id": "i5c3o2QcIXe4",
        "colab_type": "code",
        "colab": {
          "base_uri": "https://localhost:8080/",
          "height": 109
        },
        "outputId": "c0e2f5c7-33af-4ec5-8fe5-03d55d68d074"
      },
      "source": [
        "#find data types\n",
        "persons_data.dtypes"
      ],
      "execution_count": 57,
      "outputs": [
        {
          "output_type": "execute_result",
          "data": {
            "text/plain": [
              "Unnamed: 0       int64\n",
              "age              int64\n",
              "weight           int64\n",
              "exercise_time    int64\n",
              "dtype: object"
            ]
          },
          "metadata": {
            "tags": []
          },
          "execution_count": 57
        }
      ]
    },
    {
      "cell_type": "code",
      "metadata": {
        "id": "mgON2Eu5bGc5",
        "colab_type": "code",
        "colab": {}
      },
      "source": [
        "weight_bins = pd.cut(persons_data['weight'], 7)\n",
        "exercise_time_bins = pd.cut(persons_data['exercise_time'],7)\n",
        "age_bins = pd.cut(persons_data['age'],7)"
      ],
      "execution_count": 0,
      "outputs": []
    },
    {
      "cell_type": "code",
      "metadata": {
        "id": "PrdrKiZCcXH-",
        "colab_type": "code",
        "colab": {}
      },
      "source": [
        "we = pd.crosstab(weight_bins,exercise_time_bins)\n",
        "ae = pd.crosstab(age_bins,exercise_time_bins)\n",
        "aw = pd.crosstab(age_bins, weight_bins)\n",
        "ew = pd.crosstab(exercise_time_bins, weight_bins)"
      ],
      "execution_count": 0,
      "outputs": []
    },
    {
      "cell_type": "code",
      "metadata": {
        "id": "gVjvl466et5A",
        "colab_type": "code",
        "colab": {
          "base_uri": "https://localhost:8080/",
          "height": 785
        },
        "outputId": "67e6c6cd-0025-4880-bdd3-4016eb476a3e"
      },
      "source": [
        "#first quick plots\n",
        "we.plot();\n",
        "ae.plot();\n",
        "aw.plot();"
      ],
      "execution_count": 118,
      "outputs": [
        {
          "output_type": "display_data",
          "data": {
            "image/png": "[encoded data removed]",
            "text/plain": [
              "<Figure size 432x288 with 1 Axes>"
            ]
          },
          "metadata": {
            "tags": []
          }
        },
        {
          "output_type": "display_data",
          "data": {
            "image/png": "[encoded data removed]",
            "text/plain": [
              "<Figure size 432x288 with 1 Axes>"
            ]
          },
          "metadata": {
            "tags": []
          }
        },
        {
          "output_type": "display_data",
          "data": {
            "image/png": "[encoded data removed]",
            "text/plain": [
              "<Figure size 432x288 with 1 Axes>"
            ]
          },
          "metadata": {
            "tags": []
          }
        }
      ]
    },
    {
      "cell_type": "code",
      "metadata": {
        "id": "6w_wTanaiaid",
        "colab_type": "code",
        "colab": {
          "base_uri": "https://localhost:8080/",
          "height": 723
        },
        "outputId": "dffaec5b-8c94-48d3-add0-aefc9da73250"
      },
      "source": [
        "#plotting bar graphs with rotated x-axis labels\n",
        "we.plot(kind='bar',legend = False);\n",
        "ew.plot(kind='bar',legend=False);"
      ],
      "execution_count": 120,
      "outputs": [
        {
          "output_type": "display_data",
          "data": {
            "image/png": "[encoded data removed]",
            "text/plain": [
              "<Figure size 432x288 with 1 Axes>"
            ]
          },
          "metadata": {
            "tags": []
          }
        },
        {
          "output_type": "display_data",
          "data": {
            "image/png": "[encoded data removed]",
            "text/plain": [
              "<Figure size 432x288 with 1 Axes>"
            ]
          },
          "metadata": {
            "tags": []
          }
        }
      ]
    },
    {
      "cell_type": "code",
      "metadata": {
        "id": "yWVSsZTqqBTi",
        "colab_type": "code",
        "colab": {
          "base_uri": "https://localhost:8080/",
          "height": 473
        },
        "outputId": "ea384fbd-7cbb-444c-e002-cbf8be2b9dd1"
      },
      "source": [
        "all_three = pd.crosstab(weight_bins,[age_bins,exercise_time_bins], normalize='index')\n",
        "all_three"
      ],
      "execution_count": 142,
      "outputs": [
        {
          "output_type": "execute_result",
          "data": {
            "text/html": [
              "<div>\n",
              "<style scoped>\n",
              "    .dataframe tbody tr th:only-of-type {\n",
              "        vertical-align: middle;\n",
              "    }\n",
              "\n",
              "    .dataframe tbody tr th {\n",
              "        vertical-align: top;\n",
              "    }\n",
              "\n",
              "    .dataframe thead tr th {\n",
              "        text-align: left;\n",
              "    }\n",
              "\n",
              "    .dataframe thead tr:last-of-type th {\n",
              "        text-align: right;\n",
              "    }\n",
              "</style>\n",
              "<table border=\"1\" class=\"dataframe\">\n",
              "  <thead>\n",
              "    <tr>\n",
              "      <th>age</th>\n",
              "      <th colspan=\"7\" halign=\"left\">(17.938, 26.857]</th>\n",
              "      <th colspan=\"7\" halign=\"left\">(26.857, 35.714]</th>\n",
              "      <th colspan=\"7\" halign=\"left\">(35.714, 44.571]</th>\n",
              "      <th colspan=\"7\" halign=\"left\">(44.571, 53.429]</th>\n",
              "      <th colspan=\"7\" halign=\"left\">(53.429, 62.286]</th>\n",
              "      <th colspan=\"6\" halign=\"left\">(62.286, 71.143]</th>\n",
              "      <th colspan=\"4\" halign=\"left\">(71.143, 80.0]</th>\n",
              "    </tr>\n",
              "    <tr>\n",
              "      <th>exercise_time</th>\n",
              "      <th>(-0.3, 42.857]</th>\n",
              "      <th>(42.857, 85.714]</th>\n",
              "      <th>(85.714, 128.571]</th>\n",
              "      <th>(128.571, 171.429]</th>\n",
              "      <th>(171.429, 214.286]</th>\n",
              "      <th>(214.286, 257.143]</th>\n",
              "      <th>(257.143, 300.0]</th>\n",
              "      <th>(-0.3, 42.857]</th>\n",
              "      <th>(42.857, 85.714]</th>\n",
              "      <th>(85.714, 128.571]</th>\n",
              "      <th>(128.571, 171.429]</th>\n",
              "      <th>(171.429, 214.286]</th>\n",
              "      <th>(214.286, 257.143]</th>\n",
              "      <th>(257.143, 300.0]</th>\n",
              "      <th>(-0.3, 42.857]</th>\n",
              "      <th>(42.857, 85.714]</th>\n",
              "      <th>(85.714, 128.571]</th>\n",
              "      <th>(128.571, 171.429]</th>\n",
              "      <th>(171.429, 214.286]</th>\n",
              "      <th>(214.286, 257.143]</th>\n",
              "      <th>(257.143, 300.0]</th>\n",
              "      <th>(-0.3, 42.857]</th>\n",
              "      <th>(42.857, 85.714]</th>\n",
              "      <th>(85.714, 128.571]</th>\n",
              "      <th>(128.571, 171.429]</th>\n",
              "      <th>(171.429, 214.286]</th>\n",
              "      <th>(214.286, 257.143]</th>\n",
              "      <th>(257.143, 300.0]</th>\n",
              "      <th>(-0.3, 42.857]</th>\n",
              "      <th>(42.857, 85.714]</th>\n",
              "      <th>(85.714, 128.571]</th>\n",
              "      <th>(128.571, 171.429]</th>\n",
              "      <th>(171.429, 214.286]</th>\n",
              "      <th>(214.286, 257.143]</th>\n",
              "      <th>(257.143, 300.0]</th>\n",
              "      <th>(-0.3, 42.857]</th>\n",
              "      <th>(42.857, 85.714]</th>\n",
              "      <th>(85.714, 128.571]</th>\n",
              "      <th>(128.571, 171.429]</th>\n",
              "      <th>(171.429, 214.286]</th>\n",
              "      <th>(214.286, 257.143]</th>\n",
              "      <th>(-0.3, 42.857]</th>\n",
              "      <th>(42.857, 85.714]</th>\n",
              "      <th>(85.714, 128.571]</th>\n",
              "      <th>(128.571, 171.429]</th>\n",
              "    </tr>\n",
              "    <tr>\n",
              "      <th>weight</th>\n",
              "      <th></th>\n",
              "      <th></th>\n",
              "      <th></th>\n",
              "      <th></th>\n",
              "      <th></th>\n",
              "      <th></th>\n",
              "      <th></th>\n",
              "      <th></th>\n",
              "      <th></th>\n",
              "      <th></th>\n",
              "      <th></th>\n",
              "      <th></th>\n",
              "      <th></th>\n",
              "      <th></th>\n",
              "      <th></th>\n",
              "      <th></th>\n",
              "      <th></th>\n",
              "      <th></th>\n",
              "      <th></th>\n",
              "      <th></th>\n",
              "      <th></th>\n",
              "      <th></th>\n",
              "      <th></th>\n",
              "      <th></th>\n",
              "      <th></th>\n",
              "      <th></th>\n",
              "      <th></th>\n",
              "      <th></th>\n",
              "      <th></th>\n",
              "      <th></th>\n",
              "      <th></th>\n",
              "      <th></th>\n",
              "      <th></th>\n",
              "      <th></th>\n",
              "      <th></th>\n",
              "      <th></th>\n",
              "      <th></th>\n",
              "      <th></th>\n",
              "      <th></th>\n",
              "      <th></th>\n",
              "      <th></th>\n",
              "      <th></th>\n",
              "      <th></th>\n",
              "      <th></th>\n",
              "      <th></th>\n",
              "    </tr>\n",
              "  </thead>\n",
              "  <tbody>\n",
              "    <tr>\n",
              "      <th>(99.854, 120.857]</th>\n",
              "      <td>0.008130</td>\n",
              "      <td>0.020325</td>\n",
              "      <td>0.016260</td>\n",
              "      <td>0.028455</td>\n",
              "      <td>0.024390</td>\n",
              "      <td>0.020325</td>\n",
              "      <td>0.040650</td>\n",
              "      <td>0.012195</td>\n",
              "      <td>0.024390</td>\n",
              "      <td>0.008130</td>\n",
              "      <td>0.032520</td>\n",
              "      <td>0.044715</td>\n",
              "      <td>0.044715</td>\n",
              "      <td>0.056911</td>\n",
              "      <td>0.012195</td>\n",
              "      <td>0.016260</td>\n",
              "      <td>0.020325</td>\n",
              "      <td>0.032520</td>\n",
              "      <td>0.020325</td>\n",
              "      <td>0.036585</td>\n",
              "      <td>0.036585</td>\n",
              "      <td>0.008130</td>\n",
              "      <td>0.012195</td>\n",
              "      <td>0.008130</td>\n",
              "      <td>0.008130</td>\n",
              "      <td>0.016260</td>\n",
              "      <td>0.016260</td>\n",
              "      <td>0.056911</td>\n",
              "      <td>0.020325</td>\n",
              "      <td>0.004065</td>\n",
              "      <td>0.012195</td>\n",
              "      <td>0.020325</td>\n",
              "      <td>0.016260</td>\n",
              "      <td>0.024390</td>\n",
              "      <td>0.028455</td>\n",
              "      <td>0.020325</td>\n",
              "      <td>0.024390</td>\n",
              "      <td>0.012195</td>\n",
              "      <td>0.016260</td>\n",
              "      <td>0.020325</td>\n",
              "      <td>0.008130</td>\n",
              "      <td>0.020325</td>\n",
              "      <td>0.020325</td>\n",
              "      <td>0.028455</td>\n",
              "      <td>0.020325</td>\n",
              "    </tr>\n",
              "    <tr>\n",
              "      <th>(120.857, 141.714]</th>\n",
              "      <td>0.014235</td>\n",
              "      <td>0.010676</td>\n",
              "      <td>0.021352</td>\n",
              "      <td>0.014235</td>\n",
              "      <td>0.014235</td>\n",
              "      <td>0.024911</td>\n",
              "      <td>0.028470</td>\n",
              "      <td>0.003559</td>\n",
              "      <td>0.014235</td>\n",
              "      <td>0.007117</td>\n",
              "      <td>0.021352</td>\n",
              "      <td>0.024911</td>\n",
              "      <td>0.049822</td>\n",
              "      <td>0.032028</td>\n",
              "      <td>0.003559</td>\n",
              "      <td>0.021352</td>\n",
              "      <td>0.021352</td>\n",
              "      <td>0.017794</td>\n",
              "      <td>0.021352</td>\n",
              "      <td>0.042705</td>\n",
              "      <td>0.042705</td>\n",
              "      <td>0.003559</td>\n",
              "      <td>0.017794</td>\n",
              "      <td>0.010676</td>\n",
              "      <td>0.014235</td>\n",
              "      <td>0.017794</td>\n",
              "      <td>0.035587</td>\n",
              "      <td>0.056940</td>\n",
              "      <td>0.010676</td>\n",
              "      <td>0.010676</td>\n",
              "      <td>0.007117</td>\n",
              "      <td>0.024911</td>\n",
              "      <td>0.032028</td>\n",
              "      <td>0.017794</td>\n",
              "      <td>0.042705</td>\n",
              "      <td>0.024911</td>\n",
              "      <td>0.017794</td>\n",
              "      <td>0.035587</td>\n",
              "      <td>0.024911</td>\n",
              "      <td>0.032028</td>\n",
              "      <td>0.021352</td>\n",
              "      <td>0.017794</td>\n",
              "      <td>0.021352</td>\n",
              "      <td>0.039146</td>\n",
              "      <td>0.010676</td>\n",
              "    </tr>\n",
              "    <tr>\n",
              "      <th>(141.714, 162.571]</th>\n",
              "      <td>0.004464</td>\n",
              "      <td>0.013393</td>\n",
              "      <td>0.035714</td>\n",
              "      <td>0.026786</td>\n",
              "      <td>0.040179</td>\n",
              "      <td>0.040179</td>\n",
              "      <td>0.008929</td>\n",
              "      <td>0.040179</td>\n",
              "      <td>0.013393</td>\n",
              "      <td>0.013393</td>\n",
              "      <td>0.022321</td>\n",
              "      <td>0.026786</td>\n",
              "      <td>0.035714</td>\n",
              "      <td>0.017857</td>\n",
              "      <td>0.022321</td>\n",
              "      <td>0.013393</td>\n",
              "      <td>0.026786</td>\n",
              "      <td>0.000000</td>\n",
              "      <td>0.022321</td>\n",
              "      <td>0.031250</td>\n",
              "      <td>0.026786</td>\n",
              "      <td>0.004464</td>\n",
              "      <td>0.013393</td>\n",
              "      <td>0.013393</td>\n",
              "      <td>0.017857</td>\n",
              "      <td>0.008929</td>\n",
              "      <td>0.004464</td>\n",
              "      <td>0.026786</td>\n",
              "      <td>0.013393</td>\n",
              "      <td>0.017857</td>\n",
              "      <td>0.026786</td>\n",
              "      <td>0.008929</td>\n",
              "      <td>0.017857</td>\n",
              "      <td>0.031250</td>\n",
              "      <td>0.035714</td>\n",
              "      <td>0.013393</td>\n",
              "      <td>0.040179</td>\n",
              "      <td>0.035714</td>\n",
              "      <td>0.040179</td>\n",
              "      <td>0.017857</td>\n",
              "      <td>0.017857</td>\n",
              "      <td>0.031250</td>\n",
              "      <td>0.035714</td>\n",
              "      <td>0.031250</td>\n",
              "      <td>0.013393</td>\n",
              "    </tr>\n",
              "    <tr>\n",
              "      <th>(162.571, 183.429]</th>\n",
              "      <td>0.010811</td>\n",
              "      <td>0.027027</td>\n",
              "      <td>0.032432</td>\n",
              "      <td>0.021622</td>\n",
              "      <td>0.037838</td>\n",
              "      <td>0.016216</td>\n",
              "      <td>0.000000</td>\n",
              "      <td>0.016216</td>\n",
              "      <td>0.032432</td>\n",
              "      <td>0.021622</td>\n",
              "      <td>0.027027</td>\n",
              "      <td>0.037838</td>\n",
              "      <td>0.016216</td>\n",
              "      <td>0.000000</td>\n",
              "      <td>0.005405</td>\n",
              "      <td>0.027027</td>\n",
              "      <td>0.037838</td>\n",
              "      <td>0.016216</td>\n",
              "      <td>0.005405</td>\n",
              "      <td>0.005405</td>\n",
              "      <td>0.000000</td>\n",
              "      <td>0.021622</td>\n",
              "      <td>0.016216</td>\n",
              "      <td>0.021622</td>\n",
              "      <td>0.037838</td>\n",
              "      <td>0.043243</td>\n",
              "      <td>0.010811</td>\n",
              "      <td>0.000000</td>\n",
              "      <td>0.021622</td>\n",
              "      <td>0.027027</td>\n",
              "      <td>0.043243</td>\n",
              "      <td>0.005405</td>\n",
              "      <td>0.021622</td>\n",
              "      <td>0.016216</td>\n",
              "      <td>0.000000</td>\n",
              "      <td>0.037838</td>\n",
              "      <td>0.010811</td>\n",
              "      <td>0.059459</td>\n",
              "      <td>0.027027</td>\n",
              "      <td>0.021622</td>\n",
              "      <td>0.005405</td>\n",
              "      <td>0.048649</td>\n",
              "      <td>0.059459</td>\n",
              "      <td>0.032432</td>\n",
              "      <td>0.016216</td>\n",
              "    </tr>\n",
              "    <tr>\n",
              "      <th>(183.429, 204.286]</th>\n",
              "      <td>0.028169</td>\n",
              "      <td>0.035211</td>\n",
              "      <td>0.049296</td>\n",
              "      <td>0.028169</td>\n",
              "      <td>0.000000</td>\n",
              "      <td>0.000000</td>\n",
              "      <td>0.000000</td>\n",
              "      <td>0.035211</td>\n",
              "      <td>0.021127</td>\n",
              "      <td>0.021127</td>\n",
              "      <td>0.014085</td>\n",
              "      <td>0.014085</td>\n",
              "      <td>0.000000</td>\n",
              "      <td>0.000000</td>\n",
              "      <td>0.049296</td>\n",
              "      <td>0.035211</td>\n",
              "      <td>0.042254</td>\n",
              "      <td>0.014085</td>\n",
              "      <td>0.000000</td>\n",
              "      <td>0.000000</td>\n",
              "      <td>0.000000</td>\n",
              "      <td>0.042254</td>\n",
              "      <td>0.007042</td>\n",
              "      <td>0.028169</td>\n",
              "      <td>0.028169</td>\n",
              "      <td>0.007042</td>\n",
              "      <td>0.000000</td>\n",
              "      <td>0.000000</td>\n",
              "      <td>0.028169</td>\n",
              "      <td>0.028169</td>\n",
              "      <td>0.021127</td>\n",
              "      <td>0.028169</td>\n",
              "      <td>0.021127</td>\n",
              "      <td>0.000000</td>\n",
              "      <td>0.000000</td>\n",
              "      <td>0.049296</td>\n",
              "      <td>0.049296</td>\n",
              "      <td>0.063380</td>\n",
              "      <td>0.042254</td>\n",
              "      <td>0.007042</td>\n",
              "      <td>0.000000</td>\n",
              "      <td>0.056338</td>\n",
              "      <td>0.021127</td>\n",
              "      <td>0.063380</td>\n",
              "      <td>0.021127</td>\n",
              "    </tr>\n",
              "    <tr>\n",
              "      <th>(204.286, 225.143]</th>\n",
              "      <td>0.022222</td>\n",
              "      <td>0.022222</td>\n",
              "      <td>0.011111</td>\n",
              "      <td>0.000000</td>\n",
              "      <td>0.000000</td>\n",
              "      <td>0.000000</td>\n",
              "      <td>0.000000</td>\n",
              "      <td>0.122222</td>\n",
              "      <td>0.044444</td>\n",
              "      <td>0.044444</td>\n",
              "      <td>0.000000</td>\n",
              "      <td>0.000000</td>\n",
              "      <td>0.000000</td>\n",
              "      <td>0.000000</td>\n",
              "      <td>0.044444</td>\n",
              "      <td>0.022222</td>\n",
              "      <td>0.033333</td>\n",
              "      <td>0.000000</td>\n",
              "      <td>0.000000</td>\n",
              "      <td>0.000000</td>\n",
              "      <td>0.000000</td>\n",
              "      <td>0.022222</td>\n",
              "      <td>0.044444</td>\n",
              "      <td>0.022222</td>\n",
              "      <td>0.000000</td>\n",
              "      <td>0.000000</td>\n",
              "      <td>0.000000</td>\n",
              "      <td>0.000000</td>\n",
              "      <td>0.044444</td>\n",
              "      <td>0.077778</td>\n",
              "      <td>0.055556</td>\n",
              "      <td>0.000000</td>\n",
              "      <td>0.000000</td>\n",
              "      <td>0.000000</td>\n",
              "      <td>0.000000</td>\n",
              "      <td>0.055556</td>\n",
              "      <td>0.044444</td>\n",
              "      <td>0.033333</td>\n",
              "      <td>0.000000</td>\n",
              "      <td>0.000000</td>\n",
              "      <td>0.000000</td>\n",
              "      <td>0.066667</td>\n",
              "      <td>0.133333</td>\n",
              "      <td>0.033333</td>\n",
              "      <td>0.000000</td>\n",
              "    </tr>\n",
              "    <tr>\n",
              "      <th>(225.143, 246.0]</th>\n",
              "      <td>0.093750</td>\n",
              "      <td>0.031250</td>\n",
              "      <td>0.000000</td>\n",
              "      <td>0.000000</td>\n",
              "      <td>0.000000</td>\n",
              "      <td>0.000000</td>\n",
              "      <td>0.000000</td>\n",
              "      <td>0.093750</td>\n",
              "      <td>0.031250</td>\n",
              "      <td>0.000000</td>\n",
              "      <td>0.000000</td>\n",
              "      <td>0.000000</td>\n",
              "      <td>0.000000</td>\n",
              "      <td>0.000000</td>\n",
              "      <td>0.031250</td>\n",
              "      <td>0.031250</td>\n",
              "      <td>0.000000</td>\n",
              "      <td>0.000000</td>\n",
              "      <td>0.000000</td>\n",
              "      <td>0.000000</td>\n",
              "      <td>0.000000</td>\n",
              "      <td>0.125000</td>\n",
              "      <td>0.000000</td>\n",
              "      <td>0.000000</td>\n",
              "      <td>0.000000</td>\n",
              "      <td>0.000000</td>\n",
              "      <td>0.000000</td>\n",
              "      <td>0.000000</td>\n",
              "      <td>0.031250</td>\n",
              "      <td>0.000000</td>\n",
              "      <td>0.000000</td>\n",
              "      <td>0.000000</td>\n",
              "      <td>0.000000</td>\n",
              "      <td>0.000000</td>\n",
              "      <td>0.000000</td>\n",
              "      <td>0.281250</td>\n",
              "      <td>0.031250</td>\n",
              "      <td>0.000000</td>\n",
              "      <td>0.000000</td>\n",
              "      <td>0.000000</td>\n",
              "      <td>0.000000</td>\n",
              "      <td>0.187500</td>\n",
              "      <td>0.031250</td>\n",
              "      <td>0.000000</td>\n",
              "      <td>0.000000</td>\n",
              "    </tr>\n",
              "  </tbody>\n",
              "</table>\n",
              "</div>"
            ],
            "text/plain": [
              "age                (17.938, 26.857]        ...             (71.143, 80.0]\n",
              "exercise_time        (-0.3, 42.857]        ...         (128.571, 171.429]\n",
              "weight                                     ...                           \n",
              "(99.854, 120.857]          0.008130        ...                   0.020325\n",
              "(120.857, 141.714]         0.014235        ...                   0.010676\n",
              "(141.714, 162.571]         0.004464        ...                   0.013393\n",
              "(162.571, 183.429]         0.010811        ...                   0.016216\n",
              "(183.429, 204.286]         0.028169        ...                   0.021127\n",
              "(204.286, 225.143]         0.022222        ...                   0.000000\n",
              "(225.143, 246.0]           0.093750        ...                   0.000000\n",
              "\n",
              "[7 rows x 45 columns]"
            ]
          },
          "metadata": {
            "tags": []
          },
          "execution_count": 142
        }
      ]
    },
    {
      "cell_type": "code",
      "metadata": {
        "id": "CeIxm2kTsWTh",
        "colab_type": "code",
        "colab": {}
      },
      "source": [
        "#selecting young people\n",
        "all_three_young = all_three.iloc[:,[0,1,2,3,4,5,6]]"
      ],
      "execution_count": 0,
      "outputs": []
    },
    {
      "cell_type": "code",
      "metadata": {
        "id": "dmRIJzRos45X",
        "colab_type": "code",
        "colab": {}
      },
      "source": [
        "#selecting mid age people\n",
        "all_three_mid = all_three.iloc[:,[7,8,9,10,11,12,13]]"
      ],
      "execution_count": 0,
      "outputs": []
    },
    {
      "cell_type": "code",
      "metadata": {
        "id": "ZM57jpt1tCIs",
        "colab_type": "code",
        "colab": {}
      },
      "source": [
        "#selecting older age people\n",
        "all_three_old = all_three.iloc[:,[14,15,16,17,18,19,20]]"
      ],
      "execution_count": 0,
      "outputs": []
    },
    {
      "cell_type": "code",
      "metadata": {
        "id": "tg92bxNDtMnW",
        "colab_type": "code",
        "colab": {
          "base_uri": "https://localhost:8080/",
          "height": 785
        },
        "outputId": "6778a695-4e18-46ad-e03f-6fcdaf6ee80a"
      },
      "source": [
        "#displaying the three age groups separately\n",
        "all_three_young.plot(legend=False);\n",
        "all_three_mid.plot(legend=False);\n",
        "all_three_old.plot(legend=False);"
      ],
      "execution_count": 150,
      "outputs": [
        {
          "output_type": "display_data",
          "data": {
            "image/png": "[encoded data removed]",
            "text/plain": [
              "<Figure size 432x288 with 1 Axes>"
            ]
          },
          "metadata": {
            "tags": []
          }
        },
        {
          "output_type": "display_data",
          "data": {
            "image/png": "[encoded data removed]",
            "text/plain": [
              "<Figure size 432x288 with 1 Axes>"
            ]
          },
          "metadata": {
            "tags": []
          }
        },
        {
          "output_type": "display_data",
          "data": {
            "image/png": "[encoded data removed]",
            "text/plain": [
              "<Figure size 432x288 with 1 Axes>"
            ]
          },
          "metadata": {
            "tags": []
          }
        }
      ]
    },
    {
      "cell_type": "markdown",
      "metadata": {
        "id": "BT9gdS7viJZa",
        "colab_type": "text"
      },
      "source": [
        "### Assignment questions\n",
        "\n",
        "After you've worked on some code, answer the following questions in this text block:\n",
        "\n",
        "1.  What are the variable types in the data?\n",
        "2.  What are the relationships between the variables?\n",
        "3.  Which relationships are \"real\", and which spurious?\n"
      ]
    },
    {
      "cell_type": "markdown",
      "metadata": {
        "id": "ji_ndp22oRF8",
        "colab_type": "text"
      },
      "source": [
        "1. All variables are integers.\n",
        "2. As weight increases (across all ages), the number of people exercising for shorter period of time is increasing where longer periods of exercise time are decreasing.\n",
        "3. Weight and exercise time are real relationships but age is spurious.\n"
      ]
    },
    {
      "cell_type": "markdown",
      "metadata": {
        "id": "_XXg2crAipwP",
        "colab_type": "text"
      },
      "source": [
        "## Stretch goals and resources\n",
        "\n",
        "Following are *optional* things for you to take a look at. Focus on the above assignment first, and make sure to commit and push your changes to GitHub.\n",
        "\n",
        "- [Spurious Correlations](http://tylervigen.com/spurious-correlations)\n",
        "- [NIH on controlling for confounding variables](https://www.ncbi.nlm.nih.gov/pmc/articles/PMC4017459/)\n",
        "\n",
        "Stretch goals:\n",
        "\n",
        "- Produce your own plot inspired by the Spurious Correlation visualizations (and consider writing a blog post about it - both the content and how you made it)\n",
        "- Pick one of the techniques that NIH highlights for confounding variables - we'll be going into many of them later, but see if you can find which Python modules may help (hint - check scikit-learn)"
      ]
    }
  ]
}