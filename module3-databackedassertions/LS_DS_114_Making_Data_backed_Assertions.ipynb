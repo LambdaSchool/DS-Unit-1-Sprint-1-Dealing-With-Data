{
  "nbformat": 4,
  "nbformat_minor": 0,
  "metadata": {
    "colab": {
      "name": "LS_DS_114_Making_Data_backed_Assertions.ipynb",
      "version": "0.3.2",
      "provenance": [],
      "collapsed_sections": [],
      "toc_visible": true
    },
    "kernelspec": {
      "name": "python3",
      "display_name": "Python 3"
    }
  },
  "cells": [
    {
      "cell_type": "markdown",
      "metadata": {
        "id": "Okfr_uhwhS1X",
        "colab_type": "text"
      },
      "source": [
        "# Lambda School Data Science - Making Data-backed Assertions\n",
        "\n",
        "This is, for many, the main point of data science - to create and support reasoned arguments based on evidence. It's not a topic to master in a day, but it is worth some focused time thinking about and structuring your approach to it."
      ]
    },
    {
      "cell_type": "markdown",
      "metadata": {
        "id": "9dtJETFRhnOG",
        "colab_type": "text"
      },
      "source": [
        "## Lecture - generating a confounding variable\n",
        "\n",
        "The prewatch material told a story about a hypothetical health condition where both the drug usage and overall health outcome were related to gender - thus making gender a confounding variable, obfuscating the possible relationship between the drug and the outcome.\n",
        "\n",
        "Let's use Python to generate data that actually behaves in this fashion!"
      ]
    },
    {
      "cell_type": "code",
      "metadata": {
        "id": "WiBkgmPJhmhE",
        "colab_type": "code",
        "outputId": "39a17348-7e0b-4656-9d5a-f4a963e763d8",
        "colab": {
          "base_uri": "https://localhost:8080/",
          "height": 1000
        }
      },
      "source": [
        "import random\n",
        "dir(random)  # Reminding ourselves what we can do here"
      ],
      "execution_count": 20,
      "outputs": [
        {
          "output_type": "execute_result",
          "data": {
            "text/plain": [
              "['BPF',\n",
              " 'LOG4',\n",
              " 'NV_MAGICCONST',\n",
              " 'RECIP_BPF',\n",
              " 'Random',\n",
              " 'SG_MAGICCONST',\n",
              " 'SystemRandom',\n",
              " 'TWOPI',\n",
              " '_BuiltinMethodType',\n",
              " '_MethodType',\n",
              " '_Sequence',\n",
              " '_Set',\n",
              " '__all__',\n",
              " '__builtins__',\n",
              " '__cached__',\n",
              " '__doc__',\n",
              " '__file__',\n",
              " '__loader__',\n",
              " '__name__',\n",
              " '__package__',\n",
              " '__spec__',\n",
              " '_acos',\n",
              " '_bisect',\n",
              " '_ceil',\n",
              " '_cos',\n",
              " '_e',\n",
              " '_exp',\n",
              " '_inst',\n",
              " '_itertools',\n",
              " '_log',\n",
              " '_pi',\n",
              " '_random',\n",
              " '_sha512',\n",
              " '_sin',\n",
              " '_sqrt',\n",
              " '_test',\n",
              " '_test_generator',\n",
              " '_urandom',\n",
              " '_warn',\n",
              " 'betavariate',\n",
              " 'choice',\n",
              " 'choices',\n",
              " 'expovariate',\n",
              " 'gammavariate',\n",
              " 'gauss',\n",
              " 'getrandbits',\n",
              " 'getstate',\n",
              " 'lognormvariate',\n",
              " 'normalvariate',\n",
              " 'paretovariate',\n",
              " 'randint',\n",
              " 'random',\n",
              " 'randrange',\n",
              " 'sample',\n",
              " 'seed',\n",
              " 'setstate',\n",
              " 'shuffle',\n",
              " 'triangular',\n",
              " 'uniform',\n",
              " 'vonmisesvariate',\n",
              " 'weibullvariate']"
            ]
          },
          "metadata": {
            "tags": []
          },
          "execution_count": 20
        }
      ]
    },
    {
      "cell_type": "code",
      "metadata": {
        "id": "Ks5qFtpnq-q5",
        "colab_type": "code",
        "outputId": "dad7c37b-0d46-4b80-f96e-c8ab60e46f43",
        "colab": {
          "base_uri": "https://localhost:8080/",
          "height": 36
        }
      },
      "source": [
        "# Let's think of another scenario:\n",
        "# We work for a company that sells accessories for mobile phones.\n",
        "# They have an ecommerce site, and we are supposed to analyze logs\n",
        "# to determine what sort of usage is related to purchases, and thus guide\n",
        "# website development to encourage higher conversion.\n",
        "\n",
        "# The hypothesis - users who spend longer on the site tend\n",
        "# to spend more. Seems reasonable, no?\n",
        "\n",
        "# But there's a confounding variable! If they're on a phone, they:\n",
        "# a) Spend less time on the site, but\n",
        "# b) Are more likely to be interested in the actual products!\n",
        "\n",
        "# Let's use namedtuple to represent our data\n",
        "\n",
        "from collections import namedtuple\n",
        "# purchased and mobile are bools, time_on_site in seconds\n",
        "User = namedtuple('User', ['purchased','time_on_site', 'mobile'])\n",
        "\n",
        "example_user = User(False, 12, False)\n",
        "print(example_user)"
      ],
      "execution_count": 21,
      "outputs": [
        {
          "output_type": "stream",
          "text": [
            "User(purchased=False, time_on_site=12, mobile=False)\n"
          ],
          "name": "stdout"
        }
      ]
    },
    {
      "cell_type": "code",
      "metadata": {
        "id": "aQQzFgxHICZw",
        "colab_type": "code",
        "colab": {
          "base_uri": "https://localhost:8080/",
          "height": 36
        },
        "outputId": "548b4d34-a78a-4674-8433-b5735271edba"
      },
      "source": [
        "import numpy as np\n",
        "\n",
        "np.random.normal(10,2)"
      ],
      "execution_count": 22,
      "outputs": [
        {
          "output_type": "execute_result",
          "data": {
            "text/plain": [
              "11.035564816790092"
            ]
          },
          "metadata": {
            "tags": []
          },
          "execution_count": 22
        }
      ]
    },
    {
      "cell_type": "code",
      "metadata": {
        "id": "lfPiHNG_sefL",
        "colab_type": "code",
        "outputId": "9a453851-285b-45e3-9caf-6d2495e1f0c8",
        "colab": {
          "base_uri": "https://localhost:8080/",
          "height": 56
        }
      },
      "source": [
        "# And now let's generate 1000 example users\n",
        "# 750 mobile, 250 not (i.e. desktop)\n",
        "# A desktop user has a base conversion likelihood of 10%\n",
        "# And it goes up by 1% for each 15 seconds they spend on the site\n",
        "# And they spend anywhere from 10 seconds to 10 minutes on the site (uniform)\n",
        "# Mobile users spend on average half as much time on the site as desktop\n",
        "# But have three times as much base likelihood of buying something\n",
        "\n",
        "users = []\n",
        "\n",
        "for _ in range(250):\n",
        "  # Desktop users\n",
        "  time_on_site = np.random.normal(9.4*60, 3*60)\n",
        "  purchased = random.random() < 0.1 + (time_on_site / 1500)\n",
        "  users.append(User(purchased, time_on_site, False))\n",
        "  \n",
        "for _ in range(750):\n",
        "  # Mobile users\n",
        "  time_on_site = np.random.normal(7.5*60, 2.5*60)\n",
        "  purchased = random.random() < 0.3 + (time_on_site / 1500)\n",
        "  users.append(User(purchased, time_on_site, True))\n",
        "  \n",
        "random.shuffle(users)\n",
        "print(users[:10])"
      ],
      "execution_count": 23,
      "outputs": [
        {
          "output_type": "stream",
          "text": [
            "[User(purchased=True, time_on_site=702.769906018762, mobile=True), User(purchased=True, time_on_site=347.59020059118643, mobile=False), User(purchased=True, time_on_site=550.3807810780138, mobile=False), User(purchased=True, time_on_site=574.3873656467194, mobile=True), User(purchased=True, time_on_site=694.8604401595921, mobile=True), User(purchased=True, time_on_site=340.22014224561946, mobile=True), User(purchased=False, time_on_site=620.9705570506504, mobile=True), User(purchased=False, time_on_site=489.6244145611221, mobile=True), User(purchased=False, time_on_site=419.6130144980601, mobile=True), User(purchased=True, time_on_site=728.9382696758877, mobile=True)]\n"
          ],
          "name": "stdout"
        }
      ]
    },
    {
      "cell_type": "code",
      "metadata": {
        "id": "9gDYb5qGuRzy",
        "colab_type": "code",
        "outputId": "7970427d-3518-40fb-de05-45bf1fcbe74b",
        "colab": {
          "base_uri": "https://localhost:8080/",
          "height": 206
        }
      },
      "source": [
        "# Let's put this in a dataframe so we can look at it more easily\n",
        "import pandas as pd\n",
        "user_data = pd.DataFrame(users)\n",
        "user_data.head()"
      ],
      "execution_count": 24,
      "outputs": [
        {
          "output_type": "execute_result",
          "data": {
            "text/html": [
              "<div>\n",
              "<style scoped>\n",
              "    .dataframe tbody tr th:only-of-type {\n",
              "        vertical-align: middle;\n",
              "    }\n",
              "\n",
              "    .dataframe tbody tr th {\n",
              "        vertical-align: top;\n",
              "    }\n",
              "\n",
              "    .dataframe thead th {\n",
              "        text-align: right;\n",
              "    }\n",
              "</style>\n",
              "<table border=\"1\" class=\"dataframe\">\n",
              "  <thead>\n",
              "    <tr style=\"text-align: right;\">\n",
              "      <th></th>\n",
              "      <th>purchased</th>\n",
              "      <th>time_on_site</th>\n",
              "      <th>mobile</th>\n",
              "    </tr>\n",
              "  </thead>\n",
              "  <tbody>\n",
              "    <tr>\n",
              "      <th>0</th>\n",
              "      <td>True</td>\n",
              "      <td>702.769906</td>\n",
              "      <td>True</td>\n",
              "    </tr>\n",
              "    <tr>\n",
              "      <th>1</th>\n",
              "      <td>True</td>\n",
              "      <td>347.590201</td>\n",
              "      <td>False</td>\n",
              "    </tr>\n",
              "    <tr>\n",
              "      <th>2</th>\n",
              "      <td>True</td>\n",
              "      <td>550.380781</td>\n",
              "      <td>False</td>\n",
              "    </tr>\n",
              "    <tr>\n",
              "      <th>3</th>\n",
              "      <td>True</td>\n",
              "      <td>574.387366</td>\n",
              "      <td>True</td>\n",
              "    </tr>\n",
              "    <tr>\n",
              "      <th>4</th>\n",
              "      <td>True</td>\n",
              "      <td>694.860440</td>\n",
              "      <td>True</td>\n",
              "    </tr>\n",
              "  </tbody>\n",
              "</table>\n",
              "</div>"
            ],
            "text/plain": [
              "   purchased  time_on_site  mobile\n",
              "0       True    702.769906    True\n",
              "1       True    347.590201   False\n",
              "2       True    550.380781   False\n",
              "3       True    574.387366    True\n",
              "4       True    694.860440    True"
            ]
          },
          "metadata": {
            "tags": []
          },
          "execution_count": 24
        }
      ]
    },
    {
      "cell_type": "code",
      "metadata": {
        "id": "tJ8TnDpUIeCT",
        "colab_type": "code",
        "colab": {
          "base_uri": "https://localhost:8080/",
          "height": 206
        },
        "outputId": "2dbf75a7-02e8-4164-cfa2-422d8144f0d5"
      },
      "source": [
        "# Convert seconds to minutes (for comparison)\n",
        "user_data['time_on_site_min'] = user_data['time_on_site'] / 60\n",
        "user_data.head()"
      ],
      "execution_count": 25,
      "outputs": [
        {
          "output_type": "execute_result",
          "data": {
            "text/html": [
              "<div>\n",
              "<style scoped>\n",
              "    .dataframe tbody tr th:only-of-type {\n",
              "        vertical-align: middle;\n",
              "    }\n",
              "\n",
              "    .dataframe tbody tr th {\n",
              "        vertical-align: top;\n",
              "    }\n",
              "\n",
              "    .dataframe thead th {\n",
              "        text-align: right;\n",
              "    }\n",
              "</style>\n",
              "<table border=\"1\" class=\"dataframe\">\n",
              "  <thead>\n",
              "    <tr style=\"text-align: right;\">\n",
              "      <th></th>\n",
              "      <th>purchased</th>\n",
              "      <th>time_on_site</th>\n",
              "      <th>mobile</th>\n",
              "      <th>time_on_site_min</th>\n",
              "    </tr>\n",
              "  </thead>\n",
              "  <tbody>\n",
              "    <tr>\n",
              "      <th>0</th>\n",
              "      <td>True</td>\n",
              "      <td>702.769906</td>\n",
              "      <td>True</td>\n",
              "      <td>11.712832</td>\n",
              "    </tr>\n",
              "    <tr>\n",
              "      <th>1</th>\n",
              "      <td>True</td>\n",
              "      <td>347.590201</td>\n",
              "      <td>False</td>\n",
              "      <td>5.793170</td>\n",
              "    </tr>\n",
              "    <tr>\n",
              "      <th>2</th>\n",
              "      <td>True</td>\n",
              "      <td>550.380781</td>\n",
              "      <td>False</td>\n",
              "      <td>9.173013</td>\n",
              "    </tr>\n",
              "    <tr>\n",
              "      <th>3</th>\n",
              "      <td>True</td>\n",
              "      <td>574.387366</td>\n",
              "      <td>True</td>\n",
              "      <td>9.573123</td>\n",
              "    </tr>\n",
              "    <tr>\n",
              "      <th>4</th>\n",
              "      <td>True</td>\n",
              "      <td>694.860440</td>\n",
              "      <td>True</td>\n",
              "      <td>11.581007</td>\n",
              "    </tr>\n",
              "  </tbody>\n",
              "</table>\n",
              "</div>"
            ],
            "text/plain": [
              "   purchased  time_on_site  mobile  time_on_site_min\n",
              "0       True    702.769906    True         11.712832\n",
              "1       True    347.590201   False          5.793170\n",
              "2       True    550.380781   False          9.173013\n",
              "3       True    574.387366    True          9.573123\n",
              "4       True    694.860440    True         11.581007"
            ]
          },
          "metadata": {
            "tags": []
          },
          "execution_count": 25
        }
      ]
    },
    {
      "cell_type": "code",
      "metadata": {
        "id": "f9veDvtDIhIO",
        "colab_type": "code",
        "colab": {
          "base_uri": "https://localhost:8080/",
          "height": 81
        },
        "outputId": "1b7b79c9-2d22-4ed1-f202-7f0851f377db"
      },
      "source": [
        "# Find negative time data\n",
        "user_data[user_data.time_on_site < 0.0]"
      ],
      "execution_count": 26,
      "outputs": [
        {
          "output_type": "execute_result",
          "data": {
            "text/html": [
              "<div>\n",
              "<style scoped>\n",
              "    .dataframe tbody tr th:only-of-type {\n",
              "        vertical-align: middle;\n",
              "    }\n",
              "\n",
              "    .dataframe tbody tr th {\n",
              "        vertical-align: top;\n",
              "    }\n",
              "\n",
              "    .dataframe thead th {\n",
              "        text-align: right;\n",
              "    }\n",
              "</style>\n",
              "<table border=\"1\" class=\"dataframe\">\n",
              "  <thead>\n",
              "    <tr style=\"text-align: right;\">\n",
              "      <th></th>\n",
              "      <th>purchased</th>\n",
              "      <th>time_on_site</th>\n",
              "      <th>mobile</th>\n",
              "      <th>time_on_site_min</th>\n",
              "    </tr>\n",
              "  </thead>\n",
              "  <tbody>\n",
              "    <tr>\n",
              "      <th>440</th>\n",
              "      <td>True</td>\n",
              "      <td>-71.862791</td>\n",
              "      <td>True</td>\n",
              "      <td>-1.197713</td>\n",
              "    </tr>\n",
              "  </tbody>\n",
              "</table>\n",
              "</div>"
            ],
            "text/plain": [
              "     purchased  time_on_site  mobile  time_on_site_min\n",
              "440       True    -71.862791    True         -1.197713"
            ]
          },
          "metadata": {
            "tags": []
          },
          "execution_count": 26
        }
      ]
    },
    {
      "cell_type": "code",
      "metadata": {
        "id": "Si_vttsyIhuQ",
        "colab_type": "code",
        "colab": {
          "base_uri": "https://localhost:8080/",
          "height": 49
        },
        "outputId": "967fa689-0efd-469d-aea0-3c0068bca1f8"
      },
      "source": [
        "# Assign negative time_on_site values to 0.0\n",
        "user_data.loc[user_data['time_on_site'] < 0.0, 'time_on_site'] = 0.0\n",
        "user_data[user_data.time_on_site < 0.0] # confirm no zeros"
      ],
      "execution_count": 27,
      "outputs": [
        {
          "output_type": "execute_result",
          "data": {
            "text/html": [
              "<div>\n",
              "<style scoped>\n",
              "    .dataframe tbody tr th:only-of-type {\n",
              "        vertical-align: middle;\n",
              "    }\n",
              "\n",
              "    .dataframe tbody tr th {\n",
              "        vertical-align: top;\n",
              "    }\n",
              "\n",
              "    .dataframe thead th {\n",
              "        text-align: right;\n",
              "    }\n",
              "</style>\n",
              "<table border=\"1\" class=\"dataframe\">\n",
              "  <thead>\n",
              "    <tr style=\"text-align: right;\">\n",
              "      <th></th>\n",
              "      <th>purchased</th>\n",
              "      <th>time_on_site</th>\n",
              "      <th>mobile</th>\n",
              "      <th>time_on_site_min</th>\n",
              "    </tr>\n",
              "  </thead>\n",
              "  <tbody>\n",
              "  </tbody>\n",
              "</table>\n",
              "</div>"
            ],
            "text/plain": [
              "Empty DataFrame\n",
              "Columns: [purchased, time_on_site, mobile, time_on_site_min]\n",
              "Index: []"
            ]
          },
          "metadata": {
            "tags": []
          },
          "execution_count": 27
        }
      ]
    },
    {
      "cell_type": "code",
      "metadata": {
        "id": "cHTAZynaIqbk",
        "colab_type": "code",
        "colab": {
          "base_uri": "https://localhost:8080/",
          "height": 404
        },
        "outputId": "f1589944-16f9-49e1-c8a0-a1a65841762b"
      },
      "source": [
        "import matplotlib.pyplot as plt\n",
        "\n",
        "user_data.groupby('mobile').time_on_site_min.hist(bins=20, alpha=0.5, figsize=(10,6));\n",
        "plt.title('Time on Site by Source (Desktop vs. Mobile in minutes)');\n",
        "plt.ylabel('Count')\n",
        "plt.xlabel('Time in Minutes')\n",
        "plt.legend(['Desktop','Mobile']);"
      ],
      "execution_count": 28,
      "outputs": [
        {
          "output_type": "display_data",
          "data": {
            "image/png": "[encoded data removed]",
            "text/plain": [
              "<Figure size 720x432 with 1 Axes>"
            ]
          },
          "metadata": {
            "tags": []
          }
        }
      ]
    },
    {
      "cell_type": "code",
      "metadata": {
        "id": "sr6IJv77ulVl",
        "colab_type": "code",
        "outputId": "2489b6bd-eb01-4306-bb59-f25e2fbdf5f1",
        "colab": {
          "base_uri": "https://localhost:8080/",
          "height": 193
        }
      },
      "source": [
        "# Let's use crosstabulation to try to see what's going on\n",
        "pd.crosstab(user_data['purchased'], user_data['time_on_site'])"
      ],
      "execution_count": 29,
      "outputs": [
        {
          "output_type": "execute_result",
          "data": {
            "text/html": [
              "<div>\n",
              "<style scoped>\n",
              "    .dataframe tbody tr th:only-of-type {\n",
              "        vertical-align: middle;\n",
              "    }\n",
              "\n",
              "    .dataframe tbody tr th {\n",
              "        vertical-align: top;\n",
              "    }\n",
              "\n",
              "    .dataframe thead th {\n",
              "        text-align: right;\n",
              "    }\n",
              "</style>\n",
              "<table border=\"1\" class=\"dataframe\">\n",
              "  <thead>\n",
              "    <tr style=\"text-align: right;\">\n",
              "      <th>time_on_site</th>\n",
              "      <th>0.0</th>\n",
              "      <th>28.368534275135232</th>\n",
              "      <th>76.335631155295</th>\n",
              "      <th>79.87292631253547</th>\n",
              "      <th>87.02792029357636</th>\n",
              "      <th>88.88850806336865</th>\n",
              "      <th>102.85597959525035</th>\n",
              "      <th>106.65398058375524</th>\n",
              "      <th>112.5481096627999</th>\n",
              "      <th>122.90156322454618</th>\n",
              "      <th>130.68179982625867</th>\n",
              "      <th>136.4517440383956</th>\n",
              "      <th>147.79996740099477</th>\n",
              "      <th>148.4935448265358</th>\n",
              "      <th>148.86595080721537</th>\n",
              "      <th>152.0001990463643</th>\n",
              "      <th>152.21825944369658</th>\n",
              "      <th>153.7585293675814</th>\n",
              "      <th>155.7936928408883</th>\n",
              "      <th>158.4972880062947</th>\n",
              "      <th>159.0290251126624</th>\n",
              "      <th>160.6031605798205</th>\n",
              "      <th>163.8893495620299</th>\n",
              "      <th>164.12847356189053</th>\n",
              "      <th>164.799704767499</th>\n",
              "      <th>166.00000228906254</th>\n",
              "      <th>168.98493271082202</th>\n",
              "      <th>172.9179625327239</th>\n",
              "      <th>173.42493515487797</th>\n",
              "      <th>173.9558784479653</th>\n",
              "      <th>174.86446200740193</th>\n",
              "      <th>175.28916216212787</th>\n",
              "      <th>177.43572210897622</th>\n",
              "      <th>177.97282021167268</th>\n",
              "      <th>178.35192615229022</th>\n",
              "      <th>179.33055972798968</th>\n",
              "      <th>185.7688028647073</th>\n",
              "      <th>188.69463855794226</th>\n",
              "      <th>189.2813403725305</th>\n",
              "      <th>190.1751956895822</th>\n",
              "      <th>...</th>\n",
              "      <th>784.4421837571349</th>\n",
              "      <th>785.1090245821748</th>\n",
              "      <th>792.794898849553</th>\n",
              "      <th>798.0601368029186</th>\n",
              "      <th>798.3239879551995</th>\n",
              "      <th>800.1569432933302</th>\n",
              "      <th>800.5254060123239</th>\n",
              "      <th>802.2593010934295</th>\n",
              "      <th>806.9079284926721</th>\n",
              "      <th>807.3138455110084</th>\n",
              "      <th>814.2098573558034</th>\n",
              "      <th>814.8722341001344</th>\n",
              "      <th>815.7933524089585</th>\n",
              "      <th>815.8126331040379</th>\n",
              "      <th>816.9672352784985</th>\n",
              "      <th>820.3077407223016</th>\n",
              "      <th>820.9752801769259</th>\n",
              "      <th>823.7031517769715</th>\n",
              "      <th>826.2842736305745</th>\n",
              "      <th>829.655892839681</th>\n",
              "      <th>831.305001364796</th>\n",
              "      <th>831.4772802711116</th>\n",
              "      <th>831.9865363075728</th>\n",
              "      <th>833.6484625772483</th>\n",
              "      <th>840.0849063931153</th>\n",
              "      <th>848.6615472384949</th>\n",
              "      <th>868.0655924308215</th>\n",
              "      <th>872.1797030742737</th>\n",
              "      <th>880.9536093125354</th>\n",
              "      <th>893.6562086375451</th>\n",
              "      <th>898.3852952496769</th>\n",
              "      <th>909.3905513821322</th>\n",
              "      <th>926.3997808769961</th>\n",
              "      <th>928.5449870965974</th>\n",
              "      <th>942.9041348949803</th>\n",
              "      <th>979.1079928699486</th>\n",
              "      <th>993.1560436832747</th>\n",
              "      <th>1024.5030104357743</th>\n",
              "      <th>1073.7766367014115</th>\n",
              "      <th>1092.1054243694098</th>\n",
              "    </tr>\n",
              "    <tr>\n",
              "      <th>purchased</th>\n",
              "      <th></th>\n",
              "      <th></th>\n",
              "      <th></th>\n",
              "      <th></th>\n",
              "      <th></th>\n",
              "      <th></th>\n",
              "      <th></th>\n",
              "      <th></th>\n",
              "      <th></th>\n",
              "      <th></th>\n",
              "      <th></th>\n",
              "      <th></th>\n",
              "      <th></th>\n",
              "      <th></th>\n",
              "      <th></th>\n",
              "      <th></th>\n",
              "      <th></th>\n",
              "      <th></th>\n",
              "      <th></th>\n",
              "      <th></th>\n",
              "      <th></th>\n",
              "      <th></th>\n",
              "      <th></th>\n",
              "      <th></th>\n",
              "      <th></th>\n",
              "      <th></th>\n",
              "      <th></th>\n",
              "      <th></th>\n",
              "      <th></th>\n",
              "      <th></th>\n",
              "      <th></th>\n",
              "      <th></th>\n",
              "      <th></th>\n",
              "      <th></th>\n",
              "      <th></th>\n",
              "      <th></th>\n",
              "      <th></th>\n",
              "      <th></th>\n",
              "      <th></th>\n",
              "      <th></th>\n",
              "      <th></th>\n",
              "      <th></th>\n",
              "      <th></th>\n",
              "      <th></th>\n",
              "      <th></th>\n",
              "      <th></th>\n",
              "      <th></th>\n",
              "      <th></th>\n",
              "      <th></th>\n",
              "      <th></th>\n",
              "      <th></th>\n",
              "      <th></th>\n",
              "      <th></th>\n",
              "      <th></th>\n",
              "      <th></th>\n",
              "      <th></th>\n",
              "      <th></th>\n",
              "      <th></th>\n",
              "      <th></th>\n",
              "      <th></th>\n",
              "      <th></th>\n",
              "      <th></th>\n",
              "      <th></th>\n",
              "      <th></th>\n",
              "      <th></th>\n",
              "      <th></th>\n",
              "      <th></th>\n",
              "      <th></th>\n",
              "      <th></th>\n",
              "      <th></th>\n",
              "      <th></th>\n",
              "      <th></th>\n",
              "      <th></th>\n",
              "      <th></th>\n",
              "      <th></th>\n",
              "      <th></th>\n",
              "      <th></th>\n",
              "      <th></th>\n",
              "      <th></th>\n",
              "      <th></th>\n",
              "      <th></th>\n",
              "    </tr>\n",
              "  </thead>\n",
              "  <tbody>\n",
              "    <tr>\n",
              "      <th>False</th>\n",
              "      <td>0</td>\n",
              "      <td>1</td>\n",
              "      <td>1</td>\n",
              "      <td>0</td>\n",
              "      <td>1</td>\n",
              "      <td>0</td>\n",
              "      <td>0</td>\n",
              "      <td>0</td>\n",
              "      <td>1</td>\n",
              "      <td>1</td>\n",
              "      <td>0</td>\n",
              "      <td>1</td>\n",
              "      <td>1</td>\n",
              "      <td>1</td>\n",
              "      <td>1</td>\n",
              "      <td>0</td>\n",
              "      <td>1</td>\n",
              "      <td>1</td>\n",
              "      <td>0</td>\n",
              "      <td>1</td>\n",
              "      <td>0</td>\n",
              "      <td>0</td>\n",
              "      <td>0</td>\n",
              "      <td>1</td>\n",
              "      <td>1</td>\n",
              "      <td>0</td>\n",
              "      <td>0</td>\n",
              "      <td>0</td>\n",
              "      <td>1</td>\n",
              "      <td>0</td>\n",
              "      <td>0</td>\n",
              "      <td>1</td>\n",
              "      <td>0</td>\n",
              "      <td>0</td>\n",
              "      <td>1</td>\n",
              "      <td>0</td>\n",
              "      <td>1</td>\n",
              "      <td>1</td>\n",
              "      <td>0</td>\n",
              "      <td>1</td>\n",
              "      <td>...</td>\n",
              "      <td>0</td>\n",
              "      <td>1</td>\n",
              "      <td>0</td>\n",
              "      <td>0</td>\n",
              "      <td>1</td>\n",
              "      <td>0</td>\n",
              "      <td>0</td>\n",
              "      <td>1</td>\n",
              "      <td>0</td>\n",
              "      <td>0</td>\n",
              "      <td>0</td>\n",
              "      <td>0</td>\n",
              "      <td>0</td>\n",
              "      <td>0</td>\n",
              "      <td>0</td>\n",
              "      <td>0</td>\n",
              "      <td>1</td>\n",
              "      <td>0</td>\n",
              "      <td>0</td>\n",
              "      <td>1</td>\n",
              "      <td>0</td>\n",
              "      <td>1</td>\n",
              "      <td>1</td>\n",
              "      <td>0</td>\n",
              "      <td>0</td>\n",
              "      <td>0</td>\n",
              "      <td>0</td>\n",
              "      <td>0</td>\n",
              "      <td>1</td>\n",
              "      <td>0</td>\n",
              "      <td>0</td>\n",
              "      <td>1</td>\n",
              "      <td>0</td>\n",
              "      <td>0</td>\n",
              "      <td>1</td>\n",
              "      <td>1</td>\n",
              "      <td>0</td>\n",
              "      <td>0</td>\n",
              "      <td>0</td>\n",
              "      <td>0</td>\n",
              "    </tr>\n",
              "    <tr>\n",
              "      <th>True</th>\n",
              "      <td>1</td>\n",
              "      <td>0</td>\n",
              "      <td>0</td>\n",
              "      <td>1</td>\n",
              "      <td>0</td>\n",
              "      <td>1</td>\n",
              "      <td>1</td>\n",
              "      <td>1</td>\n",
              "      <td>0</td>\n",
              "      <td>0</td>\n",
              "      <td>1</td>\n",
              "      <td>0</td>\n",
              "      <td>0</td>\n",
              "      <td>0</td>\n",
              "      <td>0</td>\n",
              "      <td>1</td>\n",
              "      <td>0</td>\n",
              "      <td>0</td>\n",
              "      <td>1</td>\n",
              "      <td>0</td>\n",
              "      <td>1</td>\n",
              "      <td>1</td>\n",
              "      <td>1</td>\n",
              "      <td>0</td>\n",
              "      <td>0</td>\n",
              "      <td>1</td>\n",
              "      <td>1</td>\n",
              "      <td>1</td>\n",
              "      <td>0</td>\n",
              "      <td>1</td>\n",
              "      <td>1</td>\n",
              "      <td>0</td>\n",
              "      <td>1</td>\n",
              "      <td>1</td>\n",
              "      <td>0</td>\n",
              "      <td>1</td>\n",
              "      <td>0</td>\n",
              "      <td>0</td>\n",
              "      <td>1</td>\n",
              "      <td>0</td>\n",
              "      <td>...</td>\n",
              "      <td>1</td>\n",
              "      <td>0</td>\n",
              "      <td>1</td>\n",
              "      <td>1</td>\n",
              "      <td>0</td>\n",
              "      <td>1</td>\n",
              "      <td>1</td>\n",
              "      <td>0</td>\n",
              "      <td>1</td>\n",
              "      <td>1</td>\n",
              "      <td>1</td>\n",
              "      <td>1</td>\n",
              "      <td>1</td>\n",
              "      <td>1</td>\n",
              "      <td>1</td>\n",
              "      <td>1</td>\n",
              "      <td>0</td>\n",
              "      <td>1</td>\n",
              "      <td>1</td>\n",
              "      <td>0</td>\n",
              "      <td>1</td>\n",
              "      <td>0</td>\n",
              "      <td>0</td>\n",
              "      <td>1</td>\n",
              "      <td>1</td>\n",
              "      <td>1</td>\n",
              "      <td>1</td>\n",
              "      <td>1</td>\n",
              "      <td>0</td>\n",
              "      <td>1</td>\n",
              "      <td>1</td>\n",
              "      <td>0</td>\n",
              "      <td>1</td>\n",
              "      <td>1</td>\n",
              "      <td>0</td>\n",
              "      <td>0</td>\n",
              "      <td>1</td>\n",
              "      <td>1</td>\n",
              "      <td>1</td>\n",
              "      <td>1</td>\n",
              "    </tr>\n",
              "  </tbody>\n",
              "</table>\n",
              "<p>2 rows × 1000 columns</p>\n",
              "</div>"
            ],
            "text/plain": [
              "time_on_site  0.000000     28.368534    ...  1073.776637  1092.105424\n",
              "purchased                               ...                          \n",
              "False                   0            1  ...            0            0\n",
              "True                    1            0  ...            1            1\n",
              "\n",
              "[2 rows x 1000 columns]"
            ]
          },
          "metadata": {
            "tags": []
          },
          "execution_count": 29
        }
      ]
    },
    {
      "cell_type": "code",
      "metadata": {
        "id": "hvAv6J3EwA9s",
        "colab_type": "code",
        "outputId": "fdc39e04-d6d2-4fab-b61c-e9873a13987e",
        "colab": {
          "base_uri": "https://localhost:8080/",
          "height": 237
        }
      },
      "source": [
        "# OK, that's not quite what we want\n",
        "# Time is continuous! We need to put it in discrete buckets\n",
        "# Pandas calls these bins, and pandas.cut helps make them\n",
        "\n",
        "time_bins = pd.cut(user_data['time_on_site_min'], 5)  # 5 equal-sized bins\n",
        "pd.crosstab(time_bins, user_data['purchased'], normalize='columns')"
      ],
      "execution_count": 31,
      "outputs": [
        {
          "output_type": "execute_result",
          "data": {
            "text/html": [
              "<div>\n",
              "<style scoped>\n",
              "    .dataframe tbody tr th:only-of-type {\n",
              "        vertical-align: middle;\n",
              "    }\n",
              "\n",
              "    .dataframe tbody tr th {\n",
              "        vertical-align: top;\n",
              "    }\n",
              "\n",
              "    .dataframe thead th {\n",
              "        text-align: right;\n",
              "    }\n",
              "</style>\n",
              "<table border=\"1\" class=\"dataframe\">\n",
              "  <thead>\n",
              "    <tr style=\"text-align: right;\">\n",
              "      <th>purchased</th>\n",
              "      <th>False</th>\n",
              "      <th>True</th>\n",
              "    </tr>\n",
              "    <tr>\n",
              "      <th>time_on_site_min</th>\n",
              "      <th></th>\n",
              "      <th></th>\n",
              "    </tr>\n",
              "  </thead>\n",
              "  <tbody>\n",
              "    <tr>\n",
              "      <th>(-1.217, 2.682]</th>\n",
              "      <td>0.026726</td>\n",
              "      <td>0.018149</td>\n",
              "    </tr>\n",
              "    <tr>\n",
              "      <th>(2.682, 6.562]</th>\n",
              "      <td>0.342984</td>\n",
              "      <td>0.283122</td>\n",
              "    </tr>\n",
              "    <tr>\n",
              "      <th>(6.562, 10.442]</th>\n",
              "      <td>0.478842</td>\n",
              "      <td>0.513612</td>\n",
              "    </tr>\n",
              "    <tr>\n",
              "      <th>(10.442, 14.322]</th>\n",
              "      <td>0.142539</td>\n",
              "      <td>0.166969</td>\n",
              "    </tr>\n",
              "    <tr>\n",
              "      <th>(14.322, 18.202]</th>\n",
              "      <td>0.008909</td>\n",
              "      <td>0.018149</td>\n",
              "    </tr>\n",
              "  </tbody>\n",
              "</table>\n",
              "</div>"
            ],
            "text/plain": [
              "purchased            False     True \n",
              "time_on_site_min                    \n",
              "(-1.217, 2.682]   0.026726  0.018149\n",
              "(2.682, 6.562]    0.342984  0.283122\n",
              "(6.562, 10.442]   0.478842  0.513612\n",
              "(10.442, 14.322]  0.142539  0.166969\n",
              "(14.322, 18.202]  0.008909  0.018149"
            ]
          },
          "metadata": {
            "tags": []
          },
          "execution_count": 31
        }
      ]
    },
    {
      "cell_type": "code",
      "metadata": {
        "id": "PxpMAoH8JKQP",
        "colab_type": "code",
        "colab": {
          "base_uri": "https://localhost:8080/",
          "height": 237
        },
        "outputId": "f786fee1-1d3f-4f41-840d-c12d576b049f"
      },
      "source": [
        "pd.crosstab(columns=user_data['purchased'], index=time_bins, normalize='index')"
      ],
      "execution_count": 32,
      "outputs": [
        {
          "output_type": "execute_result",
          "data": {
            "text/html": [
              "<div>\n",
              "<style scoped>\n",
              "    .dataframe tbody tr th:only-of-type {\n",
              "        vertical-align: middle;\n",
              "    }\n",
              "\n",
              "    .dataframe tbody tr th {\n",
              "        vertical-align: top;\n",
              "    }\n",
              "\n",
              "    .dataframe thead th {\n",
              "        text-align: right;\n",
              "    }\n",
              "</style>\n",
              "<table border=\"1\" class=\"dataframe\">\n",
              "  <thead>\n",
              "    <tr style=\"text-align: right;\">\n",
              "      <th>purchased</th>\n",
              "      <th>False</th>\n",
              "      <th>True</th>\n",
              "    </tr>\n",
              "    <tr>\n",
              "      <th>time_on_site_min</th>\n",
              "      <th></th>\n",
              "      <th></th>\n",
              "    </tr>\n",
              "  </thead>\n",
              "  <tbody>\n",
              "    <tr>\n",
              "      <th>(-1.217, 2.682]</th>\n",
              "      <td>0.545455</td>\n",
              "      <td>0.454545</td>\n",
              "    </tr>\n",
              "    <tr>\n",
              "      <th>(2.682, 6.562]</th>\n",
              "      <td>0.496774</td>\n",
              "      <td>0.503226</td>\n",
              "    </tr>\n",
              "    <tr>\n",
              "      <th>(6.562, 10.442]</th>\n",
              "      <td>0.431727</td>\n",
              "      <td>0.568273</td>\n",
              "    </tr>\n",
              "    <tr>\n",
              "      <th>(10.442, 14.322]</th>\n",
              "      <td>0.410256</td>\n",
              "      <td>0.589744</td>\n",
              "    </tr>\n",
              "    <tr>\n",
              "      <th>(14.322, 18.202]</th>\n",
              "      <td>0.285714</td>\n",
              "      <td>0.714286</td>\n",
              "    </tr>\n",
              "  </tbody>\n",
              "</table>\n",
              "</div>"
            ],
            "text/plain": [
              "purchased            False     True \n",
              "time_on_site_min                    \n",
              "(-1.217, 2.682]   0.545455  0.454545\n",
              "(2.682, 6.562]    0.496774  0.503226\n",
              "(6.562, 10.442]   0.431727  0.568273\n",
              "(10.442, 14.322]  0.410256  0.589744\n",
              "(14.322, 18.202]  0.285714  0.714286"
            ]
          },
          "metadata": {
            "tags": []
          },
          "execution_count": 32
        }
      ]
    },
    {
      "cell_type": "code",
      "metadata": {
        "id": "pjcXnJw0wfaj",
        "colab_type": "code",
        "outputId": "1f4ddd9e-7427-4fd7-ea86-03183216208d",
        "colab": {
          "base_uri": "https://localhost:8080/",
          "height": 237
        }
      },
      "source": [
        "# We can make this a bit clearer by normalizing (getting %)\n",
        "pd.crosstab(time_bins, user_data['purchased'], normalize='columns')"
      ],
      "execution_count": 34,
      "outputs": [
        {
          "output_type": "execute_result",
          "data": {
            "text/html": [
              "<div>\n",
              "<style scoped>\n",
              "    .dataframe tbody tr th:only-of-type {\n",
              "        vertical-align: middle;\n",
              "    }\n",
              "\n",
              "    .dataframe tbody tr th {\n",
              "        vertical-align: top;\n",
              "    }\n",
              "\n",
              "    .dataframe thead th {\n",
              "        text-align: right;\n",
              "    }\n",
              "</style>\n",
              "<table border=\"1\" class=\"dataframe\">\n",
              "  <thead>\n",
              "    <tr style=\"text-align: right;\">\n",
              "      <th>purchased</th>\n",
              "      <th>False</th>\n",
              "      <th>True</th>\n",
              "    </tr>\n",
              "    <tr>\n",
              "      <th>time_on_site_min</th>\n",
              "      <th></th>\n",
              "      <th></th>\n",
              "    </tr>\n",
              "  </thead>\n",
              "  <tbody>\n",
              "    <tr>\n",
              "      <th>(-1.217, 2.682]</th>\n",
              "      <td>0.026726</td>\n",
              "      <td>0.018149</td>\n",
              "    </tr>\n",
              "    <tr>\n",
              "      <th>(2.682, 6.562]</th>\n",
              "      <td>0.342984</td>\n",
              "      <td>0.283122</td>\n",
              "    </tr>\n",
              "    <tr>\n",
              "      <th>(6.562, 10.442]</th>\n",
              "      <td>0.478842</td>\n",
              "      <td>0.513612</td>\n",
              "    </tr>\n",
              "    <tr>\n",
              "      <th>(10.442, 14.322]</th>\n",
              "      <td>0.142539</td>\n",
              "      <td>0.166969</td>\n",
              "    </tr>\n",
              "    <tr>\n",
              "      <th>(14.322, 18.202]</th>\n",
              "      <td>0.008909</td>\n",
              "      <td>0.018149</td>\n",
              "    </tr>\n",
              "  </tbody>\n",
              "</table>\n",
              "</div>"
            ],
            "text/plain": [
              "purchased            False     True \n",
              "time_on_site_min                    \n",
              "(-1.217, 2.682]   0.026726  0.018149\n",
              "(2.682, 6.562]    0.342984  0.283122\n",
              "(6.562, 10.442]   0.478842  0.513612\n",
              "(10.442, 14.322]  0.142539  0.166969\n",
              "(14.322, 18.202]  0.008909  0.018149"
            ]
          },
          "metadata": {
            "tags": []
          },
          "execution_count": 34
        }
      ]
    },
    {
      "cell_type": "code",
      "metadata": {
        "id": "C3GzvDxlvZMa",
        "colab_type": "code",
        "outputId": "8e49149a-2240-487a-c602-9411df03f26a",
        "colab": {
          "base_uri": "https://localhost:8080/",
          "height": 143
        }
      },
      "source": [
        "# That seems counter to our hypothesis\n",
        "# More time on the site can actually have fewer purchases\n",
        "\n",
        "# But we know why, since we generated the data!\n",
        "# Let's look at mobile and purchased\n",
        "pd.crosstab(user_data['purchased'], user_data['mobile'], normalize='columns')"
      ],
      "execution_count": 35,
      "outputs": [
        {
          "output_type": "execute_result",
          "data": {
            "text/html": [
              "<div>\n",
              "<style scoped>\n",
              "    .dataframe tbody tr th:only-of-type {\n",
              "        vertical-align: middle;\n",
              "    }\n",
              "\n",
              "    .dataframe tbody tr th {\n",
              "        vertical-align: top;\n",
              "    }\n",
              "\n",
              "    .dataframe thead th {\n",
              "        text-align: right;\n",
              "    }\n",
              "</style>\n",
              "<table border=\"1\" class=\"dataframe\">\n",
              "  <thead>\n",
              "    <tr style=\"text-align: right;\">\n",
              "      <th>mobile</th>\n",
              "      <th>False</th>\n",
              "      <th>True</th>\n",
              "    </tr>\n",
              "    <tr>\n",
              "      <th>purchased</th>\n",
              "      <th></th>\n",
              "      <th></th>\n",
              "    </tr>\n",
              "  </thead>\n",
              "  <tbody>\n",
              "    <tr>\n",
              "      <th>False</th>\n",
              "      <td>0.556</td>\n",
              "      <td>0.413333</td>\n",
              "    </tr>\n",
              "    <tr>\n",
              "      <th>True</th>\n",
              "      <td>0.444</td>\n",
              "      <td>0.586667</td>\n",
              "    </tr>\n",
              "  </tbody>\n",
              "</table>\n",
              "</div>"
            ],
            "text/plain": [
              "mobile     False     True \n",
              "purchased                 \n",
              "False      0.556  0.413333\n",
              "True       0.444  0.586667"
            ]
          },
          "metadata": {
            "tags": []
          },
          "execution_count": 35
        }
      ]
    },
    {
      "cell_type": "code",
      "metadata": {
        "id": "KQb-wU60xCum",
        "colab_type": "code",
        "colab": {
          "base_uri": "https://localhost:8080/",
          "height": 269
        },
        "outputId": "2771e219-c829-4ed1-fc51-9b5afcab98b5"
      },
      "source": [
        "# Yep, mobile users are more likely to buy things\n",
        "# But we're still not seeing the *whole* story until we look at all 3 at once\n",
        "\n",
        "# Live/stretch goal - how can we do that?\n",
        "pd.crosstab(time_bins, [user_data['purchased'], user_data['mobile']], normalize='columns')"
      ],
      "execution_count": 36,
      "outputs": [
        {
          "output_type": "execute_result",
          "data": {
            "text/html": [
              "<div>\n",
              "<style scoped>\n",
              "    .dataframe tbody tr th:only-of-type {\n",
              "        vertical-align: middle;\n",
              "    }\n",
              "\n",
              "    .dataframe tbody tr th {\n",
              "        vertical-align: top;\n",
              "    }\n",
              "\n",
              "    .dataframe thead tr th {\n",
              "        text-align: left;\n",
              "    }\n",
              "\n",
              "    .dataframe thead tr:last-of-type th {\n",
              "        text-align: right;\n",
              "    }\n",
              "</style>\n",
              "<table border=\"1\" class=\"dataframe\">\n",
              "  <thead>\n",
              "    <tr>\n",
              "      <th>purchased</th>\n",
              "      <th colspan=\"2\" halign=\"left\">False</th>\n",
              "      <th colspan=\"2\" halign=\"left\">True</th>\n",
              "    </tr>\n",
              "    <tr>\n",
              "      <th>mobile</th>\n",
              "      <th>False</th>\n",
              "      <th>True</th>\n",
              "      <th>False</th>\n",
              "      <th>True</th>\n",
              "    </tr>\n",
              "    <tr>\n",
              "      <th>time_on_site_min</th>\n",
              "      <th></th>\n",
              "      <th></th>\n",
              "      <th></th>\n",
              "      <th></th>\n",
              "    </tr>\n",
              "  </thead>\n",
              "  <tbody>\n",
              "    <tr>\n",
              "      <th>(-1.217, 2.682]</th>\n",
              "      <td>0.014388</td>\n",
              "      <td>0.032258</td>\n",
              "      <td>0.000000</td>\n",
              "      <td>0.022727</td>\n",
              "    </tr>\n",
              "    <tr>\n",
              "      <th>(2.682, 6.562]</th>\n",
              "      <td>0.230216</td>\n",
              "      <td>0.393548</td>\n",
              "      <td>0.117117</td>\n",
              "      <td>0.325000</td>\n",
              "    </tr>\n",
              "    <tr>\n",
              "      <th>(6.562, 10.442]</th>\n",
              "      <td>0.431655</td>\n",
              "      <td>0.500000</td>\n",
              "      <td>0.423423</td>\n",
              "      <td>0.536364</td>\n",
              "    </tr>\n",
              "    <tr>\n",
              "      <th>(10.442, 14.322]</th>\n",
              "      <td>0.294964</td>\n",
              "      <td>0.074194</td>\n",
              "      <td>0.396396</td>\n",
              "      <td>0.109091</td>\n",
              "    </tr>\n",
              "    <tr>\n",
              "      <th>(14.322, 18.202]</th>\n",
              "      <td>0.028777</td>\n",
              "      <td>0.000000</td>\n",
              "      <td>0.063063</td>\n",
              "      <td>0.006818</td>\n",
              "    </tr>\n",
              "  </tbody>\n",
              "</table>\n",
              "</div>"
            ],
            "text/plain": [
              "purchased            False               True           \n",
              "mobile               False     True      False     True \n",
              "time_on_site_min                                        \n",
              "(-1.217, 2.682]   0.014388  0.032258  0.000000  0.022727\n",
              "(2.682, 6.562]    0.230216  0.393548  0.117117  0.325000\n",
              "(6.562, 10.442]   0.431655  0.500000  0.423423  0.536364\n",
              "(10.442, 14.322]  0.294964  0.074194  0.396396  0.109091\n",
              "(14.322, 18.202]  0.028777  0.000000  0.063063  0.006818"
            ]
          },
          "metadata": {
            "tags": []
          },
          "execution_count": 36
        }
      ]
    },
    {
      "cell_type": "code",
      "metadata": {
        "id": "M8D8UNZmJdlh",
        "colab_type": "code",
        "colab": {
          "base_uri": "https://localhost:8080/",
          "height": 237
        },
        "outputId": "77a758b3-d738-4603-fd97-f5bb0f2c9014"
      },
      "source": [
        "pd.crosstab(time_bins, user_data['purchased'], normalize='columns')"
      ],
      "execution_count": 37,
      "outputs": [
        {
          "output_type": "execute_result",
          "data": {
            "text/html": [
              "<div>\n",
              "<style scoped>\n",
              "    .dataframe tbody tr th:only-of-type {\n",
              "        vertical-align: middle;\n",
              "    }\n",
              "\n",
              "    .dataframe tbody tr th {\n",
              "        vertical-align: top;\n",
              "    }\n",
              "\n",
              "    .dataframe thead th {\n",
              "        text-align: right;\n",
              "    }\n",
              "</style>\n",
              "<table border=\"1\" class=\"dataframe\">\n",
              "  <thead>\n",
              "    <tr style=\"text-align: right;\">\n",
              "      <th>purchased</th>\n",
              "      <th>False</th>\n",
              "      <th>True</th>\n",
              "    </tr>\n",
              "    <tr>\n",
              "      <th>time_on_site_min</th>\n",
              "      <th></th>\n",
              "      <th></th>\n",
              "    </tr>\n",
              "  </thead>\n",
              "  <tbody>\n",
              "    <tr>\n",
              "      <th>(-1.217, 2.682]</th>\n",
              "      <td>0.026726</td>\n",
              "      <td>0.018149</td>\n",
              "    </tr>\n",
              "    <tr>\n",
              "      <th>(2.682, 6.562]</th>\n",
              "      <td>0.342984</td>\n",
              "      <td>0.283122</td>\n",
              "    </tr>\n",
              "    <tr>\n",
              "      <th>(6.562, 10.442]</th>\n",
              "      <td>0.478842</td>\n",
              "      <td>0.513612</td>\n",
              "    </tr>\n",
              "    <tr>\n",
              "      <th>(10.442, 14.322]</th>\n",
              "      <td>0.142539</td>\n",
              "      <td>0.166969</td>\n",
              "    </tr>\n",
              "    <tr>\n",
              "      <th>(14.322, 18.202]</th>\n",
              "      <td>0.008909</td>\n",
              "      <td>0.018149</td>\n",
              "    </tr>\n",
              "  </tbody>\n",
              "</table>\n",
              "</div>"
            ],
            "text/plain": [
              "purchased            False     True \n",
              "time_on_site_min                    \n",
              "(-1.217, 2.682]   0.026726  0.018149\n",
              "(2.682, 6.562]    0.342984  0.283122\n",
              "(6.562, 10.442]   0.478842  0.513612\n",
              "(10.442, 14.322]  0.142539  0.166969\n",
              "(14.322, 18.202]  0.008909  0.018149"
            ]
          },
          "metadata": {
            "tags": []
          },
          "execution_count": 37
        }
      ]
    },
    {
      "cell_type": "markdown",
      "metadata": {
        "id": "TmwlUjFfzoUh",
        "colab_type": "text"
      },
      "source": [
        "##Stanford open policing project"
      ]
    },
    {
      "cell_type": "code",
      "metadata": {
        "id": "yTKqVUynzrLl",
        "colab_type": "code",
        "colab": {
          "base_uri": "https://localhost:8080/",
          "height": 73
        },
        "outputId": "4b8afe84-7c1b-423a-a4f5-0b42d88aa373"
      },
      "source": [
        "!unzip jb084sr9005_nj_statewide_2019_02_25.csv.zip\n",
        "!ls"
      ],
      "execution_count": 38,
      "outputs": [
        {
          "output_type": "stream",
          "text": [
            "Archive:  jb084sr9005_nj_statewide_2019_02_25.csv.zip\n",
            "  inflating: share/data/opp-for-archive/nj_statewide_2019_02_25.csv  \n",
            "jb084sr9005_nj_statewide_2019_02_25.csv.zip  sample_data  share\n"
          ],
          "name": "stdout"
        }
      ]
    },
    {
      "cell_type": "code",
      "metadata": {
        "id": "0SWuzNdv1enU",
        "colab_type": "code",
        "colab": {
          "base_uri": "https://localhost:8080/",
          "height": 73
        },
        "outputId": "01eb0c03-4621-4a9e-c0d4-a867a615965a"
      },
      "source": [
        "%%time\n",
        "df = pd.read_csv('./share/data/opp-for-archive/nj_statewide_2019_02_25.csv')\n",
        "print(df.shape)"
      ],
      "execution_count": 39,
      "outputs": [
        {
          "output_type": "stream",
          "text": [
            "(3845334, 20)\n",
            "CPU times: user 19.9 s, sys: 1.3 s, total: 21.2 s\n",
            "Wall time: 21.2 s\n"
          ],
          "name": "stdout"
        }
      ]
    },
    {
      "cell_type": "code",
      "metadata": {
        "id": "82ztDCWN2Mrc",
        "colab_type": "code",
        "colab": {
          "base_uri": "https://localhost:8080/",
          "height": 382
        },
        "outputId": "b5caf59e-a34b-49d6-cd48-506559f348b3"
      },
      "source": [
        "df.head()"
      ],
      "execution_count": 40,
      "outputs": [
        {
          "output_type": "execute_result",
          "data": {
            "text/html": [
              "<div>\n",
              "<style scoped>\n",
              "    .dataframe tbody tr th:only-of-type {\n",
              "        vertical-align: middle;\n",
              "    }\n",
              "\n",
              "    .dataframe tbody tr th {\n",
              "        vertical-align: top;\n",
              "    }\n",
              "\n",
              "    .dataframe thead th {\n",
              "        text-align: right;\n",
              "    }\n",
              "</style>\n",
              "<table border=\"1\" class=\"dataframe\">\n",
              "  <thead>\n",
              "    <tr style=\"text-align: right;\">\n",
              "      <th></th>\n",
              "      <th>raw_row_number</th>\n",
              "      <th>date</th>\n",
              "      <th>time</th>\n",
              "      <th>location</th>\n",
              "      <th>subject_race</th>\n",
              "      <th>subject_sex</th>\n",
              "      <th>officer_id_hash</th>\n",
              "      <th>department_id</th>\n",
              "      <th>type</th>\n",
              "      <th>violation</th>\n",
              "      <th>arrest_made</th>\n",
              "      <th>citation_issued</th>\n",
              "      <th>warning_issued</th>\n",
              "      <th>outcome</th>\n",
              "      <th>frisk_performed</th>\n",
              "      <th>search_conducted</th>\n",
              "      <th>vehicle_color</th>\n",
              "      <th>vehicle_make</th>\n",
              "      <th>vehicle_model</th>\n",
              "      <th>vehicle_registration_state</th>\n",
              "    </tr>\n",
              "  </thead>\n",
              "  <tbody>\n",
              "    <tr>\n",
              "      <th>0</th>\n",
              "      <td>24723</td>\n",
              "      <td>2009-01-10</td>\n",
              "      <td>15:38:41</td>\n",
              "      <td>31ST / CARMEN, Camden City</td>\n",
              "      <td>black</td>\n",
              "      <td>male</td>\n",
              "      <td>347f40fd4d</td>\n",
              "      <td>A010</td>\n",
              "      <td>vehicular</td>\n",
              "      <td>NaN</td>\n",
              "      <td>True</td>\n",
              "      <td>NaN</td>\n",
              "      <td>NaN</td>\n",
              "      <td>arrest</td>\n",
              "      <td>True</td>\n",
              "      <td>True</td>\n",
              "      <td>SIL</td>\n",
              "      <td>Chrysler</td>\n",
              "      <td>Town &amp; Country</td>\n",
              "      <td>NJ</td>\n",
              "    </tr>\n",
              "    <tr>\n",
              "      <th>1</th>\n",
              "      <td>88239</td>\n",
              "      <td>2009-02-06</td>\n",
              "      <td>11:34:36</td>\n",
              "      <td>@division, Ewing Twp</td>\n",
              "      <td>black</td>\n",
              "      <td>female</td>\n",
              "      <td>e84e551aad</td>\n",
              "      <td>A010</td>\n",
              "      <td>vehicular</td>\n",
              "      <td>NaN</td>\n",
              "      <td>NaN</td>\n",
              "      <td>NaN</td>\n",
              "      <td>NaN</td>\n",
              "      <td>NaN</td>\n",
              "      <td>NaN</td>\n",
              "      <td>NaN</td>\n",
              "      <td>NaN</td>\n",
              "      <td>NaN</td>\n",
              "      <td>NaN</td>\n",
              "      <td>NaN</td>\n",
              "    </tr>\n",
              "    <tr>\n",
              "      <th>2</th>\n",
              "      <td>101999</td>\n",
              "      <td>2009-02-11</td>\n",
              "      <td>01:34:26</td>\n",
              "      <td>34TH / WESTFIELD, Camden City</td>\n",
              "      <td>black</td>\n",
              "      <td>male</td>\n",
              "      <td>e008ccd5a2</td>\n",
              "      <td>A010</td>\n",
              "      <td>vehicular</td>\n",
              "      <td>NaN</td>\n",
              "      <td>True</td>\n",
              "      <td>NaN</td>\n",
              "      <td>NaN</td>\n",
              "      <td>arrest</td>\n",
              "      <td>False</td>\n",
              "      <td>True</td>\n",
              "      <td>GRY</td>\n",
              "      <td>Chevrolet</td>\n",
              "      <td>NaN</td>\n",
              "      <td>PA</td>\n",
              "    </tr>\n",
              "    <tr>\n",
              "      <th>3</th>\n",
              "      <td>151289</td>\n",
              "      <td>2009-03-03</td>\n",
              "      <td>20:29:16</td>\n",
              "      <td>MACARTHUR / 12TH, Camden City</td>\n",
              "      <td>black</td>\n",
              "      <td>male</td>\n",
              "      <td>b84c0f827e</td>\n",
              "      <td>A010</td>\n",
              "      <td>vehicular</td>\n",
              "      <td>NaN</td>\n",
              "      <td>True</td>\n",
              "      <td>NaN</td>\n",
              "      <td>NaN</td>\n",
              "      <td>arrest</td>\n",
              "      <td>True</td>\n",
              "      <td>True</td>\n",
              "      <td>BLU</td>\n",
              "      <td>Chevrolet</td>\n",
              "      <td>Tahoe</td>\n",
              "      <td>NJ</td>\n",
              "    </tr>\n",
              "    <tr>\n",
              "      <th>4</th>\n",
              "      <td>153223</td>\n",
              "      <td>2009-03-05</td>\n",
              "      <td>22:25:26</td>\n",
              "      <td>FEDERAL / 10TH, Camden City</td>\n",
              "      <td>black</td>\n",
              "      <td>male</td>\n",
              "      <td>56eb37f85f</td>\n",
              "      <td>A010</td>\n",
              "      <td>vehicular</td>\n",
              "      <td>NaN</td>\n",
              "      <td>NaN</td>\n",
              "      <td>NaN</td>\n",
              "      <td>NaN</td>\n",
              "      <td>NaN</td>\n",
              "      <td>NaN</td>\n",
              "      <td>NaN</td>\n",
              "      <td>BLK</td>\n",
              "      <td>Ford</td>\n",
              "      <td>Expedition</td>\n",
              "      <td>NJ</td>\n",
              "    </tr>\n",
              "  </tbody>\n",
              "</table>\n",
              "</div>"
            ],
            "text/plain": [
              "   raw_row_number        date  ...   vehicle_model vehicle_registration_state\n",
              "0           24723  2009-01-10  ...  Town & Country                         NJ\n",
              "1           88239  2009-02-06  ...             NaN                        NaN\n",
              "2          101999  2009-02-11  ...             NaN                         PA\n",
              "3          151289  2009-03-03  ...           Tahoe                         NJ\n",
              "4          153223  2009-03-05  ...      Expedition                         NJ\n",
              "\n",
              "[5 rows x 20 columns]"
            ]
          },
          "metadata": {
            "tags": []
          },
          "execution_count": 40
        }
      ]
    },
    {
      "cell_type": "code",
      "metadata": {
        "id": "3JjFRDdy2d95",
        "colab_type": "code",
        "colab": {
          "base_uri": "https://localhost:8080/",
          "height": 411
        },
        "outputId": "dbbe9e3e-9381-47b2-e77e-a46be08fb31b"
      },
      "source": [
        "df.isna().sum()"
      ],
      "execution_count": 41,
      "outputs": [
        {
          "output_type": "execute_result",
          "data": {
            "text/plain": [
              "raw_row_number                      0\n",
              "date                                0\n",
              "time                                0\n",
              "location                            0\n",
              "subject_race                   109431\n",
              "subject_sex                     18787\n",
              "officer_id_hash                     0\n",
              "department_id                       0\n",
              "type                                0\n",
              "violation                      916990\n",
              "arrest_made                   3719812\n",
              "citation_issued                852818\n",
              "warning_issued                 858842\n",
              "outcome                        845936\n",
              "frisk_performed               3707675\n",
              "search_conducted              3703294\n",
              "vehicle_color                  102890\n",
              "vehicle_make                   143182\n",
              "vehicle_model                 2887636\n",
              "vehicle_registration_state      27617\n",
              "dtype: int64"
            ]
          },
          "metadata": {
            "tags": []
          },
          "execution_count": 41
        }
      ]
    },
    {
      "cell_type": "code",
      "metadata": {
        "id": "9FMmafi4J9Uq",
        "colab_type": "code",
        "colab": {
          "base_uri": "https://localhost:8080/",
          "height": 223
        },
        "outputId": "fb52da02-9dd2-4f02-9bf0-5c6763e9b5ab"
      },
      "source": [
        "# What are the most common violations?\n",
        "df.violation.value_counts().head(10)"
      ],
      "execution_count": 42,
      "outputs": [
        {
          "output_type": "execute_result",
          "data": {
            "text/plain": [
              "39:4-97 CARELESS DRIVING                          726267\n",
              "39:4-98 RATES OF SPEED                            301189\n",
              "39:4-88B UNSAFE LANE CHANGE                       218747\n",
              "39:3-76.2F REQ WEARING SEATBELTS                  189408\n",
              "39:4-56 DELAYING TRAFFIC                          165038\n",
              "39:3-66 MAINTENANCE ILLUM DEVICE                  139425\n",
              "39:4-97.3 USE OF HANDS-FREE WIRELESS TELEPHONE    126905\n",
              "39:4-99 EXCEED SPEED LIMITATIONS                   96289\n",
              "39:3-75 SAFETY GLASS DEFINED                       82905\n",
              "39:3-74 WINDSHIELD WIPERS                          73668\n",
              "Name: violation, dtype: int64"
            ]
          },
          "metadata": {
            "tags": []
          },
          "execution_count": 42
        }
      ]
    },
    {
      "cell_type": "code",
      "metadata": {
        "id": "dSZ6SRZq3ACC",
        "colab_type": "code",
        "colab": {
          "base_uri": "https://localhost:8080/",
          "height": 223
        },
        "outputId": "fbf36a65-0ec3-4cc8-b9ec-d9cc990bd26f"
      },
      "source": [
        "df.vehicle_make.value_counts(normalize=True).head(10)"
      ],
      "execution_count": 16,
      "outputs": [
        {
          "output_type": "execute_result",
          "data": {
            "text/plain": [
              "Honda         0.118632\n",
              "Ford          0.106514\n",
              "Toyota        0.099623\n",
              "Chevrolet     0.084403\n",
              "Nissan        0.081274\n",
              "Dodge         0.047225\n",
              "Hyundai       0.037378\n",
              "Jeep          0.035211\n",
              "BMW           0.034904\n",
              "Volkswagen    0.028908\n",
              "Name: vehicle_make, dtype: float64"
            ]
          },
          "metadata": {
            "tags": []
          },
          "execution_count": 16
        }
      ]
    },
    {
      "cell_type": "code",
      "metadata": {
        "id": "KJg-a1Sa3bt0",
        "colab_type": "code",
        "colab": {
          "base_uri": "https://localhost:8080/",
          "height": 223
        },
        "outputId": "ee345db8-4e22-4e64-b6e0-dce8bfbb6e98"
      },
      "source": [
        "df[df.violation == '39:4-98 RATES OF SPEED'].vehicle_make.value_counts(normalize=True).head(10)"
      ],
      "execution_count": 17,
      "outputs": [
        {
          "output_type": "execute_result",
          "data": {
            "text/plain": [
              "Honda            0.125034\n",
              "Toyota           0.107939\n",
              "Ford             0.088320\n",
              "Nissan           0.084921\n",
              "Chevrolet        0.074299\n",
              "BMW              0.043302\n",
              "Dodge            0.041296\n",
              "Hyundai          0.039327\n",
              "Volkswagen       0.032925\n",
              "Mercedes-Benz    0.031556\n",
              "Name: vehicle_make, dtype: float64"
            ]
          },
          "metadata": {
            "tags": []
          },
          "execution_count": 17
        }
      ]
    },
    {
      "cell_type": "code",
      "metadata": {
        "id": "stApFhej4OJZ",
        "colab_type": "code",
        "colab": {
          "base_uri": "https://localhost:8080/",
          "height": 223
        },
        "outputId": "c1db4a80-e7bb-4c0b-936a-123bd7107862"
      },
      "source": [
        "df[df.violation == '39:4-98 RATES OF SPEED'].vehicle_color.value_counts(normalize=True).head(10)"
      ],
      "execution_count": 18,
      "outputs": [
        {
          "output_type": "execute_result",
          "data": {
            "text/plain": [
              "BLK    0.238954\n",
              "SIL    0.200708\n",
              "WHI    0.157833\n",
              "GRY    0.110433\n",
              "BLU    0.096752\n",
              "RED    0.077175\n",
              "GRN    0.043044\n",
              "TAN    0.020111\n",
              "GLD    0.019722\n",
              "BGE    0.009164\n",
              "Name: vehicle_color, dtype: float64"
            ]
          },
          "metadata": {
            "tags": []
          },
          "execution_count": 18
        }
      ]
    },
    {
      "cell_type": "markdown",
      "metadata": {
        "id": "Svb7TYIxKHkj",
        "colab_type": "text"
      },
      "source": [
        "##%TimeIt"
      ]
    },
    {
      "cell_type": "code",
      "metadata": {
        "id": "VAh3BMznKLCW",
        "colab_type": "code",
        "colab": {
          "base_uri": "https://localhost:8080/",
          "height": 225
        },
        "outputId": "5b776dbc-9580-4b74-e6b4-0f1b24fc821e"
      },
      "source": [
        "df = pd.DataFrame({'a': np.arange(1e6),\n",
        "                  'b': 2*np.arange(1e6)})\n",
        "print(df.shape)\n",
        "df.head()"
      ],
      "execution_count": 43,
      "outputs": [
        {
          "output_type": "stream",
          "text": [
            "(1000000, 2)\n"
          ],
          "name": "stdout"
        },
        {
          "output_type": "execute_result",
          "data": {
            "text/html": [
              "<div>\n",
              "<style scoped>\n",
              "    .dataframe tbody tr th:only-of-type {\n",
              "        vertical-align: middle;\n",
              "    }\n",
              "\n",
              "    .dataframe tbody tr th {\n",
              "        vertical-align: top;\n",
              "    }\n",
              "\n",
              "    .dataframe thead th {\n",
              "        text-align: right;\n",
              "    }\n",
              "</style>\n",
              "<table border=\"1\" class=\"dataframe\">\n",
              "  <thead>\n",
              "    <tr style=\"text-align: right;\">\n",
              "      <th></th>\n",
              "      <th>a</th>\n",
              "      <th>b</th>\n",
              "    </tr>\n",
              "  </thead>\n",
              "  <tbody>\n",
              "    <tr>\n",
              "      <th>0</th>\n",
              "      <td>0.0</td>\n",
              "      <td>0.0</td>\n",
              "    </tr>\n",
              "    <tr>\n",
              "      <th>1</th>\n",
              "      <td>1.0</td>\n",
              "      <td>2.0</td>\n",
              "    </tr>\n",
              "    <tr>\n",
              "      <th>2</th>\n",
              "      <td>2.0</td>\n",
              "      <td>4.0</td>\n",
              "    </tr>\n",
              "    <tr>\n",
              "      <th>3</th>\n",
              "      <td>3.0</td>\n",
              "      <td>6.0</td>\n",
              "    </tr>\n",
              "    <tr>\n",
              "      <th>4</th>\n",
              "      <td>4.0</td>\n",
              "      <td>8.0</td>\n",
              "    </tr>\n",
              "  </tbody>\n",
              "</table>\n",
              "</div>"
            ],
            "text/plain": [
              "     a    b\n",
              "0  0.0  0.0\n",
              "1  1.0  2.0\n",
              "2  2.0  4.0\n",
              "3  3.0  6.0\n",
              "4  4.0  8.0"
            ]
          },
          "metadata": {
            "tags": []
          },
          "execution_count": 43
        }
      ]
    },
    {
      "cell_type": "code",
      "metadata": {
        "id": "NWHPS6rGKNvf",
        "colab_type": "code",
        "colab": {
          "base_uri": "https://localhost:8080/",
          "height": 36
        },
        "outputId": "7c4862f9-5ab9-4ceb-d476-6296c3b5c4d1"
      },
      "source": [
        "%timeit df['c'] = df['a']**2"
      ],
      "execution_count": 44,
      "outputs": [
        {
          "output_type": "stream",
          "text": [
            "100 loops, best of 3: 14.6 ms per loop\n"
          ],
          "name": "stdout"
        }
      ]
    },
    {
      "cell_type": "code",
      "metadata": {
        "id": "NWpdVMUQKRhZ",
        "colab_type": "code",
        "colab": {}
      },
      "source": [
        "from tqdm import tqdm\n",
        "tqdm.pandas()"
      ],
      "execution_count": 0,
      "outputs": []
    },
    {
      "cell_type": "code",
      "metadata": {
        "id": "oE86TfJMKRvb",
        "colab_type": "code",
        "colab": {
          "base_uri": "https://localhost:8080/",
          "height": 36
        },
        "outputId": "f812a54a-3f68-4fb9-9711-ea5bf5600acb"
      },
      "source": [
        "%timeit df['c2'] = df['a'].apply(lambda x: x**2)"
      ],
      "execution_count": 46,
      "outputs": [
        {
          "output_type": "stream",
          "text": [
            "1 loop, best of 3: 307 ms per loop\n"
          ],
          "name": "stdout"
        }
      ]
    },
    {
      "cell_type": "code",
      "metadata": {
        "id": "gdO7QZ63KR6h",
        "colab_type": "code",
        "colab": {
          "base_uri": "https://localhost:8080/",
          "height": 111
        },
        "outputId": "3f0e0a1c-9804-425b-a0d1-eecd64b2e373"
      },
      "source": [
        "%timeit df['c3'] = df['a'].progress_apply(lambda x: x**2)"
      ],
      "execution_count": 47,
      "outputs": [
        {
          "output_type": "stream",
          "text": [
            "100%|██████████| 1000000/1000000 [00:01<00:00, 713456.30it/s]\n",
            "100%|██████████| 1000000/1000000 [00:01<00:00, 699330.28it/s]\n",
            "100%|██████████| 1000000/1000000 [00:01<00:00, 707257.57it/s]\n",
            "100%|██████████| 1000000/1000000 [00:01<00:00, 705959.06it/s]"
          ],
          "name": "stderr"
        },
        {
          "output_type": "stream",
          "text": [
            "1 loop, best of 3: 1.42 s per loop\n"
          ],
          "name": "stdout"
        },
        {
          "output_type": "stream",
          "text": [
            "\n"
          ],
          "name": "stderr"
        }
      ]
    },
    {
      "cell_type": "markdown",
      "metadata": {
        "id": "lOqaPds9huME",
        "colab_type": "text"
      },
      "source": [
        "## Assignment - what's going on here?\n",
        "\n",
        "Consider the data in `persons.csv` (already prepared for you, in the repo for the week). It has four columns - a unique id, followed by age (in years), weight (in lbs), and exercise time (in minutes/week) of 1200 (hypothetical) people.\n",
        "\n",
        "Try to figure out which variables are possibly related to each other, and which may be confounding relationships."
      ]
    },
    {
      "cell_type": "code",
      "metadata": {
        "id": "TGUS79cOhPWj",
        "colab_type": "code",
        "colab": {
          "base_uri": "https://localhost:8080/",
          "height": 131
        },
        "outputId": "b2677c10-a2f1-4e77-99eb-3ac9fd0f1668"
      },
      "source": [
        "# TODO - your code here\n",
        "# Use what we did live in lecture as an example\n",
        "\n",
        "# HINT - you can find the raw URL on GitHub and potentially use that\n",
        "# to load the data with read_csv, or you can upload it yourself\n",
        "!pip install pandas==0.23.4\n",
        "import pandas as pd\n",
        "import numpy as np\n",
        "import matplotlib.pyplot as plt\n",
        "import seaborn as sns\n",
        "\n",
        "df = pd.read_csv('https://raw.githubusercontent.com/crsanderford/DS-Unit-1-Sprint-1-Dealing-With-Data/master/module3-databackedassertions/persons.csv')"
      ],
      "execution_count": 24,
      "outputs": [
        {
          "output_type": "stream",
          "text": [
            "Requirement already satisfied: pandas==0.23.4 in /usr/local/lib/python3.6/dist-packages (0.23.4)\n",
            "Requirement already satisfied: pytz>=2011k in /usr/local/lib/python3.6/dist-packages (from pandas==0.23.4) (2018.9)\n",
            "Requirement already satisfied: numpy>=1.9.0 in /usr/local/lib/python3.6/dist-packages (from pandas==0.23.4) (1.16.4)\n",
            "Requirement already satisfied: python-dateutil>=2.5.0 in /usr/local/lib/python3.6/dist-packages (from pandas==0.23.4) (2.5.3)\n",
            "Requirement already satisfied: six>=1.5 in /usr/local/lib/python3.6/dist-packages (from python-dateutil>=2.5.0->pandas==0.23.4) (1.12.0)\n"
          ],
          "name": "stdout"
        }
      ]
    },
    {
      "cell_type": "code",
      "metadata": {
        "id": "NcXjvh4yMQuk",
        "colab_type": "code",
        "colab": {
          "base_uri": "https://localhost:8080/",
          "height": 225
        },
        "outputId": "bb527395-1b18-4024-b571-96db5f771cfe"
      },
      "source": [
        "print(df.shape)\n",
        "df.head()"
      ],
      "execution_count": 25,
      "outputs": [
        {
          "output_type": "stream",
          "text": [
            "(1200, 4)\n"
          ],
          "name": "stdout"
        },
        {
          "output_type": "execute_result",
          "data": {
            "text/html": [
              "<div>\n",
              "<style scoped>\n",
              "    .dataframe tbody tr th:only-of-type {\n",
              "        vertical-align: middle;\n",
              "    }\n",
              "\n",
              "    .dataframe tbody tr th {\n",
              "        vertical-align: top;\n",
              "    }\n",
              "\n",
              "    .dataframe thead th {\n",
              "        text-align: right;\n",
              "    }\n",
              "</style>\n",
              "<table border=\"1\" class=\"dataframe\">\n",
              "  <thead>\n",
              "    <tr style=\"text-align: right;\">\n",
              "      <th></th>\n",
              "      <th>Unnamed: 0</th>\n",
              "      <th>age</th>\n",
              "      <th>weight</th>\n",
              "      <th>exercise_time</th>\n",
              "    </tr>\n",
              "  </thead>\n",
              "  <tbody>\n",
              "    <tr>\n",
              "      <th>0</th>\n",
              "      <td>0</td>\n",
              "      <td>44</td>\n",
              "      <td>118</td>\n",
              "      <td>192</td>\n",
              "    </tr>\n",
              "    <tr>\n",
              "      <th>1</th>\n",
              "      <td>1</td>\n",
              "      <td>41</td>\n",
              "      <td>161</td>\n",
              "      <td>35</td>\n",
              "    </tr>\n",
              "    <tr>\n",
              "      <th>2</th>\n",
              "      <td>2</td>\n",
              "      <td>46</td>\n",
              "      <td>128</td>\n",
              "      <td>220</td>\n",
              "    </tr>\n",
              "    <tr>\n",
              "      <th>3</th>\n",
              "      <td>3</td>\n",
              "      <td>39</td>\n",
              "      <td>216</td>\n",
              "      <td>57</td>\n",
              "    </tr>\n",
              "    <tr>\n",
              "      <th>4</th>\n",
              "      <td>4</td>\n",
              "      <td>28</td>\n",
              "      <td>116</td>\n",
              "      <td>182</td>\n",
              "    </tr>\n",
              "  </tbody>\n",
              "</table>\n",
              "</div>"
            ],
            "text/plain": [
              "   Unnamed: 0  age  weight  exercise_time\n",
              "0           0   44     118            192\n",
              "1           1   41     161             35\n",
              "2           2   46     128            220\n",
              "3           3   39     216             57\n",
              "4           4   28     116            182"
            ]
          },
          "metadata": {
            "tags": []
          },
          "execution_count": 25
        }
      ]
    },
    {
      "cell_type": "code",
      "metadata": {
        "id": "cNonj2TWQJr1",
        "colab_type": "code",
        "colab": {
          "base_uri": "https://localhost:8080/",
          "height": 568
        },
        "outputId": "4be3d0f9-da7e-41e2-d58d-71c17eb46325"
      },
      "source": [
        "# Let's use a seaborn pairplot to see scatterplots of each feature versus the other. We'll omit the index.\n",
        "import matplotlib.pyplot as plt\n",
        "import seaborn as sns\n",
        "\n",
        "\n",
        "sns.pairplot(df[['age','weight','exercise_time']])"
      ],
      "execution_count": 26,
      "outputs": [
        {
          "output_type": "execute_result",
          "data": {
            "text/plain": [
              "<seaborn.axisgrid.PairGrid at 0x7fe9b5694d68>"
            ]
          },
          "metadata": {
            "tags": []
          },
          "execution_count": 26
        },
        {
          "output_type": "display_data",
          "data": {
            "image/png": "[encoded data removed]",
            "text/plain": [
              "<Figure size 540x540 with 12 Axes>"
            ]
          },
          "metadata": {
            "tags": []
          }
        }
      ]
    },
    {
      "cell_type": "code",
      "metadata": {
        "id": "P1aJjP8LRmMH",
        "colab_type": "code",
        "colab": {
          "base_uri": "https://localhost:8080/",
          "height": 73
        },
        "outputId": "6f413218-de6e-4b2d-edaf-75b9335bcd5e"
      },
      "source": [
        "# Age and weight look to have the weakest correlation. Weight and exercise time; and age and exercise time, have some pretty visible trends.\n",
        "# We'll use some crosstabs to examine further - all our variables are continuous, so we'll look at mins and maxes to see where to break up the range.\n",
        "print(df.age.min(),df.age.max())\n",
        "print(df.weight.min(),df.weight.max())\n",
        "print(df.exercise_time.min(),df.exercise_time.max())\n"
      ],
      "execution_count": 27,
      "outputs": [
        {
          "output_type": "stream",
          "text": [
            "18 80\n",
            "100 246\n",
            "0 300\n"
          ],
          "name": "stdout"
        }
      ]
    },
    {
      "cell_type": "code",
      "metadata": {
        "id": "AkPypP_sSQta",
        "colab_type": "code",
        "colab": {}
      },
      "source": [
        "# If we break each of these into 5 equal bins, we're getting brackets of about eight years of age, thirty pounds, and a minute of exercise time.\n",
        "# That sounds pretty reasonable.\n",
        "\n",
        "age_bins = pd.cut(df['age'], 5)\n",
        "weight_bins = pd.cut(df['weight'], 5)\n",
        "exercise_bins = pd.cut(df['exercise_time'], 5)"
      ],
      "execution_count": 0,
      "outputs": []
    },
    {
      "cell_type": "code",
      "metadata": {
        "id": "7wGFr5PmTwAY",
        "colab_type": "code",
        "colab": {
          "base_uri": "https://localhost:8080/",
          "height": 237
        },
        "outputId": "22e9008c-5a56-4134-b5a5-058e8a62025b"
      },
      "source": [
        "# Okay, crosstabs. First age and weight.\n",
        "pd.crosstab(columns=age_bins, index=weight_bins, normalize='index')"
      ],
      "execution_count": 29,
      "outputs": [
        {
          "output_type": "execute_result",
          "data": {
            "text/html": [
              "<div>\n",
              "<style scoped>\n",
              "    .dataframe tbody tr th:only-of-type {\n",
              "        vertical-align: middle;\n",
              "    }\n",
              "\n",
              "    .dataframe tbody tr th {\n",
              "        vertical-align: top;\n",
              "    }\n",
              "\n",
              "    .dataframe thead th {\n",
              "        text-align: right;\n",
              "    }\n",
              "</style>\n",
              "<table border=\"1\" class=\"dataframe\">\n",
              "  <thead>\n",
              "    <tr style=\"text-align: right;\">\n",
              "      <th>age</th>\n",
              "      <th>(17.938, 30.4]</th>\n",
              "      <th>(30.4, 42.8]</th>\n",
              "      <th>(42.8, 55.2]</th>\n",
              "      <th>(55.2, 67.6]</th>\n",
              "      <th>(67.6, 80.0]</th>\n",
              "    </tr>\n",
              "    <tr>\n",
              "      <th>weight</th>\n",
              "      <th></th>\n",
              "      <th></th>\n",
              "      <th></th>\n",
              "      <th></th>\n",
              "      <th></th>\n",
              "    </tr>\n",
              "  </thead>\n",
              "  <tbody>\n",
              "    <tr>\n",
              "      <th>(99.854, 129.2]</th>\n",
              "      <td>0.213333</td>\n",
              "      <td>0.277333</td>\n",
              "      <td>0.208000</td>\n",
              "      <td>0.141333</td>\n",
              "      <td>0.160000</td>\n",
              "    </tr>\n",
              "    <tr>\n",
              "      <th>(129.2, 158.4]</th>\n",
              "      <td>0.256716</td>\n",
              "      <td>0.185075</td>\n",
              "      <td>0.185075</td>\n",
              "      <td>0.211940</td>\n",
              "      <td>0.161194</td>\n",
              "    </tr>\n",
              "    <tr>\n",
              "      <th>(158.4, 187.6]</th>\n",
              "      <td>0.189922</td>\n",
              "      <td>0.189922</td>\n",
              "      <td>0.189922</td>\n",
              "      <td>0.174419</td>\n",
              "      <td>0.255814</td>\n",
              "    </tr>\n",
              "    <tr>\n",
              "      <th>(187.6, 216.8]</th>\n",
              "      <td>0.189944</td>\n",
              "      <td>0.173184</td>\n",
              "      <td>0.145251</td>\n",
              "      <td>0.245810</td>\n",
              "      <td>0.245810</td>\n",
              "    </tr>\n",
              "    <tr>\n",
              "      <th>(216.8, 246.0]</th>\n",
              "      <td>0.132075</td>\n",
              "      <td>0.132075</td>\n",
              "      <td>0.150943</td>\n",
              "      <td>0.169811</td>\n",
              "      <td>0.415094</td>\n",
              "    </tr>\n",
              "  </tbody>\n",
              "</table>\n",
              "</div>"
            ],
            "text/plain": [
              "age              (17.938, 30.4]      ...       (67.6, 80.0]\n",
              "weight                               ...                   \n",
              "(99.854, 129.2]        0.213333      ...           0.160000\n",
              "(129.2, 158.4]         0.256716      ...           0.161194\n",
              "(158.4, 187.6]         0.189922      ...           0.255814\n",
              "(187.6, 216.8]         0.189944      ...           0.245810\n",
              "(216.8, 246.0]         0.132075      ...           0.415094\n",
              "\n",
              "[5 rows x 5 columns]"
            ]
          },
          "metadata": {
            "tags": []
          },
          "execution_count": 29
        }
      ]
    },
    {
      "cell_type": "code",
      "metadata": {
        "id": "NLAS1hgzdiw4",
        "colab_type": "code",
        "colab": {
          "base_uri": "https://localhost:8080/",
          "height": 237
        },
        "outputId": "76e619a5-2a53-4f6e-fff5-8325b5f71881"
      },
      "source": [
        "# That sort of makes sense. No intensely visible correlation, but for the lower weight brackets, percentages tend to go down as age increases.\n",
        "# And for the higher weight brackets, percentages tend to increase as age increases. \n",
        "\n",
        "# Let's try age and exercise.\n",
        "pd.crosstab(columns=age_bins, index=exercise_bins, normalize='index')"
      ],
      "execution_count": 30,
      "outputs": [
        {
          "output_type": "execute_result",
          "data": {
            "text/html": [
              "<div>\n",
              "<style scoped>\n",
              "    .dataframe tbody tr th:only-of-type {\n",
              "        vertical-align: middle;\n",
              "    }\n",
              "\n",
              "    .dataframe tbody tr th {\n",
              "        vertical-align: top;\n",
              "    }\n",
              "\n",
              "    .dataframe thead th {\n",
              "        text-align: right;\n",
              "    }\n",
              "</style>\n",
              "<table border=\"1\" class=\"dataframe\">\n",
              "  <thead>\n",
              "    <tr style=\"text-align: right;\">\n",
              "      <th>age</th>\n",
              "      <th>(17.938, 30.4]</th>\n",
              "      <th>(30.4, 42.8]</th>\n",
              "      <th>(42.8, 55.2]</th>\n",
              "      <th>(55.2, 67.6]</th>\n",
              "      <th>(67.6, 80.0]</th>\n",
              "    </tr>\n",
              "    <tr>\n",
              "      <th>exercise_time</th>\n",
              "      <th></th>\n",
              "      <th></th>\n",
              "      <th></th>\n",
              "      <th></th>\n",
              "      <th></th>\n",
              "    </tr>\n",
              "  </thead>\n",
              "  <tbody>\n",
              "    <tr>\n",
              "      <th>(-0.3, 60.0]</th>\n",
              "      <td>0.187050</td>\n",
              "      <td>0.187050</td>\n",
              "      <td>0.147482</td>\n",
              "      <td>0.165468</td>\n",
              "      <td>0.312950</td>\n",
              "    </tr>\n",
              "    <tr>\n",
              "      <th>(60.0, 120.0]</th>\n",
              "      <td>0.145570</td>\n",
              "      <td>0.174051</td>\n",
              "      <td>0.132911</td>\n",
              "      <td>0.224684</td>\n",
              "      <td>0.322785</td>\n",
              "    </tr>\n",
              "    <tr>\n",
              "      <th>(120.0, 180.0]</th>\n",
              "      <td>0.242152</td>\n",
              "      <td>0.188341</td>\n",
              "      <td>0.174888</td>\n",
              "      <td>0.179372</td>\n",
              "      <td>0.215247</td>\n",
              "    </tr>\n",
              "    <tr>\n",
              "      <th>(180.0, 240.0]</th>\n",
              "      <td>0.317708</td>\n",
              "      <td>0.244792</td>\n",
              "      <td>0.177083</td>\n",
              "      <td>0.213542</td>\n",
              "      <td>0.046875</td>\n",
              "    </tr>\n",
              "    <tr>\n",
              "      <th>(240.0, 300.0]</th>\n",
              "      <td>0.225131</td>\n",
              "      <td>0.298429</td>\n",
              "      <td>0.350785</td>\n",
              "      <td>0.125654</td>\n",
              "      <td>0.000000</td>\n",
              "    </tr>\n",
              "  </tbody>\n",
              "</table>\n",
              "</div>"
            ],
            "text/plain": [
              "age             (17.938, 30.4]      ...       (67.6, 80.0]\n",
              "exercise_time                       ...                   \n",
              "(-0.3, 60.0]          0.187050      ...           0.312950\n",
              "(60.0, 120.0]         0.145570      ...           0.322785\n",
              "(120.0, 180.0]        0.242152      ...           0.215247\n",
              "(180.0, 240.0]        0.317708      ...           0.046875\n",
              "(240.0, 300.0]        0.225131      ...           0.000000\n",
              "\n",
              "[5 rows x 5 columns]"
            ]
          },
          "metadata": {
            "tags": []
          },
          "execution_count": 30
        }
      ]
    },
    {
      "cell_type": "code",
      "metadata": {
        "id": "Uv587PBoeB5t",
        "colab_type": "code",
        "colab": {
          "base_uri": "https://localhost:8080/",
          "height": 237
        },
        "outputId": "e5fe797e-a142-4df8-bcfe-7f347bac7471"
      },
      "source": [
        "# Here we get a much more obvious correlation. In the lower duration brackets, older individuals make up a greater share.\n",
        "# And in the higher duration brackets, younger individuals make up a greater share.\n",
        "\n",
        "# Now weight and exercise.\n",
        "pd.crosstab(columns = weight_bins, index = exercise_bins, normalize='index')"
      ],
      "execution_count": 31,
      "outputs": [
        {
          "output_type": "execute_result",
          "data": {
            "text/html": [
              "<div>\n",
              "<style scoped>\n",
              "    .dataframe tbody tr th:only-of-type {\n",
              "        vertical-align: middle;\n",
              "    }\n",
              "\n",
              "    .dataframe tbody tr th {\n",
              "        vertical-align: top;\n",
              "    }\n",
              "\n",
              "    .dataframe thead th {\n",
              "        text-align: right;\n",
              "    }\n",
              "</style>\n",
              "<table border=\"1\" class=\"dataframe\">\n",
              "  <thead>\n",
              "    <tr style=\"text-align: right;\">\n",
              "      <th>weight</th>\n",
              "      <th>(99.854, 129.2]</th>\n",
              "      <th>(129.2, 158.4]</th>\n",
              "      <th>(158.4, 187.6]</th>\n",
              "      <th>(187.6, 216.8]</th>\n",
              "      <th>(216.8, 246.0]</th>\n",
              "    </tr>\n",
              "    <tr>\n",
              "      <th>exercise_time</th>\n",
              "      <th></th>\n",
              "      <th></th>\n",
              "      <th></th>\n",
              "      <th></th>\n",
              "      <th></th>\n",
              "    </tr>\n",
              "  </thead>\n",
              "  <tbody>\n",
              "    <tr>\n",
              "      <th>(-0.3, 60.0]</th>\n",
              "      <td>0.190647</td>\n",
              "      <td>0.158273</td>\n",
              "      <td>0.219424</td>\n",
              "      <td>0.273381</td>\n",
              "      <td>0.158273</td>\n",
              "    </tr>\n",
              "    <tr>\n",
              "      <th>(60.0, 120.0]</th>\n",
              "      <td>0.205696</td>\n",
              "      <td>0.240506</td>\n",
              "      <td>0.294304</td>\n",
              "      <td>0.231013</td>\n",
              "      <td>0.028481</td>\n",
              "    </tr>\n",
              "    <tr>\n",
              "      <th>(120.0, 180.0]</th>\n",
              "      <td>0.318386</td>\n",
              "      <td>0.300448</td>\n",
              "      <td>0.251121</td>\n",
              "      <td>0.130045</td>\n",
              "      <td>0.000000</td>\n",
              "    </tr>\n",
              "    <tr>\n",
              "      <th>(180.0, 240.0]</th>\n",
              "      <td>0.411458</td>\n",
              "      <td>0.385417</td>\n",
              "      <td>0.197917</td>\n",
              "      <td>0.005208</td>\n",
              "      <td>0.000000</td>\n",
              "    </tr>\n",
              "    <tr>\n",
              "      <th>(240.0, 300.0]</th>\n",
              "      <td>0.560209</td>\n",
              "      <td>0.387435</td>\n",
              "      <td>0.052356</td>\n",
              "      <td>0.000000</td>\n",
              "      <td>0.000000</td>\n",
              "    </tr>\n",
              "  </tbody>\n",
              "</table>\n",
              "</div>"
            ],
            "text/plain": [
              "weight          (99.854, 129.2]       ...        (216.8, 246.0]\n",
              "exercise_time                         ...                      \n",
              "(-0.3, 60.0]           0.190647       ...              0.158273\n",
              "(60.0, 120.0]          0.205696       ...              0.028481\n",
              "(120.0, 180.0]         0.318386       ...              0.000000\n",
              "(180.0, 240.0]         0.411458       ...              0.000000\n",
              "(240.0, 300.0]         0.560209       ...              0.000000\n",
              "\n",
              "[5 rows x 5 columns]"
            ]
          },
          "metadata": {
            "tags": []
          },
          "execution_count": 31
        }
      ]
    },
    {
      "cell_type": "code",
      "metadata": {
        "id": "toeBHgsNfewI",
        "colab_type": "code",
        "colab": {}
      },
      "source": [
        "# This is also a pretty obvious correlation. Low duration brackets have some representation from the top two weight classes;\n",
        "# but by the middle duration bracket, the highest weight bracket has dropped out completely, and the second highest barely there.\n",
        "\n",
        "# Let's try holding a variable near-constant, and checking the correlation of the other two.\n",
        "\n",
        "def age_filter(dataframe):\n",
        "    return (dataframe['age'] > 42.8) & (dataframe['age'] <= 55.2)\n",
        "  \n",
        "def weight_filter(dataframe):\n",
        "    return (dataframe['weight'] > 158.4) & (dataframe['weight'] <= 187.6)\n",
        "  \n",
        "def exercise_filter(dataframe):\n",
        "    return (dataframe['exercise_time'] > 120.0) & (dataframe['exercise_time'] <= 180.0)"
      ],
      "execution_count": 0,
      "outputs": []
    },
    {
      "cell_type": "code",
      "metadata": {
        "id": "3IXcs53xC6LW",
        "colab_type": "code",
        "colab": {
          "base_uri": "https://localhost:8080/",
          "height": 206
        },
        "outputId": "9c26b84c-5701-405c-8ed4-ee8c9585eefb"
      },
      "source": [
        "# We'll make three filtered dataframes.\n",
        "# Age before beauty!\n",
        "\n",
        "hold_age = df.copy()\n",
        "hold_age = df[age_filter(df)]\n",
        "hold_age.head()"
      ],
      "execution_count": 68,
      "outputs": [
        {
          "output_type": "execute_result",
          "data": {
            "text/html": [
              "<div>\n",
              "<style scoped>\n",
              "    .dataframe tbody tr th:only-of-type {\n",
              "        vertical-align: middle;\n",
              "    }\n",
              "\n",
              "    .dataframe tbody tr th {\n",
              "        vertical-align: top;\n",
              "    }\n",
              "\n",
              "    .dataframe thead th {\n",
              "        text-align: right;\n",
              "    }\n",
              "</style>\n",
              "<table border=\"1\" class=\"dataframe\">\n",
              "  <thead>\n",
              "    <tr style=\"text-align: right;\">\n",
              "      <th></th>\n",
              "      <th>Unnamed: 0</th>\n",
              "      <th>age</th>\n",
              "      <th>weight</th>\n",
              "      <th>exercise_time</th>\n",
              "    </tr>\n",
              "  </thead>\n",
              "  <tbody>\n",
              "    <tr>\n",
              "      <th>0</th>\n",
              "      <td>0</td>\n",
              "      <td>44</td>\n",
              "      <td>118</td>\n",
              "      <td>192</td>\n",
              "    </tr>\n",
              "    <tr>\n",
              "      <th>2</th>\n",
              "      <td>2</td>\n",
              "      <td>46</td>\n",
              "      <td>128</td>\n",
              "      <td>220</td>\n",
              "    </tr>\n",
              "    <tr>\n",
              "      <th>6</th>\n",
              "      <td>6</td>\n",
              "      <td>55</td>\n",
              "      <td>161</td>\n",
              "      <td>107</td>\n",
              "    </tr>\n",
              "    <tr>\n",
              "      <th>8</th>\n",
              "      <td>8</td>\n",
              "      <td>55</td>\n",
              "      <td>216</td>\n",
              "      <td>79</td>\n",
              "    </tr>\n",
              "    <tr>\n",
              "      <th>9</th>\n",
              "      <td>9</td>\n",
              "      <td>50</td>\n",
              "      <td>127</td>\n",
              "      <td>267</td>\n",
              "    </tr>\n",
              "  </tbody>\n",
              "</table>\n",
              "</div>"
            ],
            "text/plain": [
              "   Unnamed: 0  age  weight  exercise_time\n",
              "0           0   44     118            192\n",
              "2           2   46     128            220\n",
              "6           6   55     161            107\n",
              "8           8   55     216             79\n",
              "9           9   50     127            267"
            ]
          },
          "metadata": {
            "tags": []
          },
          "execution_count": 68
        }
      ]
    },
    {
      "cell_type": "code",
      "metadata": {
        "id": "3SMg0DM7NvdQ",
        "colab_type": "code",
        "colab": {
          "base_uri": "https://localhost:8080/",
          "height": 206
        },
        "outputId": "fa7dd981-e71c-4405-fb91-3bf6770830a7"
      },
      "source": [
        "# Then weight.\n",
        "\n",
        "hold_weight = df.copy()\n",
        "hold_weight = df[weight_filter(df)]\n",
        "hold_weight.head()"
      ],
      "execution_count": 69,
      "outputs": [
        {
          "output_type": "execute_result",
          "data": {
            "text/html": [
              "<div>\n",
              "<style scoped>\n",
              "    .dataframe tbody tr th:only-of-type {\n",
              "        vertical-align: middle;\n",
              "    }\n",
              "\n",
              "    .dataframe tbody tr th {\n",
              "        vertical-align: top;\n",
              "    }\n",
              "\n",
              "    .dataframe thead th {\n",
              "        text-align: right;\n",
              "    }\n",
              "</style>\n",
              "<table border=\"1\" class=\"dataframe\">\n",
              "  <thead>\n",
              "    <tr style=\"text-align: right;\">\n",
              "      <th></th>\n",
              "      <th>Unnamed: 0</th>\n",
              "      <th>age</th>\n",
              "      <th>weight</th>\n",
              "      <th>exercise_time</th>\n",
              "    </tr>\n",
              "  </thead>\n",
              "  <tbody>\n",
              "    <tr>\n",
              "      <th>1</th>\n",
              "      <td>1</td>\n",
              "      <td>41</td>\n",
              "      <td>161</td>\n",
              "      <td>35</td>\n",
              "    </tr>\n",
              "    <tr>\n",
              "      <th>6</th>\n",
              "      <td>6</td>\n",
              "      <td>55</td>\n",
              "      <td>161</td>\n",
              "      <td>107</td>\n",
              "    </tr>\n",
              "    <tr>\n",
              "      <th>10</th>\n",
              "      <td>10</td>\n",
              "      <td>21</td>\n",
              "      <td>160</td>\n",
              "      <td>228</td>\n",
              "    </tr>\n",
              "    <tr>\n",
              "      <th>13</th>\n",
              "      <td>13</td>\n",
              "      <td>27</td>\n",
              "      <td>165</td>\n",
              "      <td>48</td>\n",
              "    </tr>\n",
              "    <tr>\n",
              "      <th>14</th>\n",
              "      <td>14</td>\n",
              "      <td>21</td>\n",
              "      <td>169</td>\n",
              "      <td>171</td>\n",
              "    </tr>\n",
              "  </tbody>\n",
              "</table>\n",
              "</div>"
            ],
            "text/plain": [
              "    Unnamed: 0  age  weight  exercise_time\n",
              "1            1   41     161             35\n",
              "6            6   55     161            107\n",
              "10          10   21     160            228\n",
              "13          13   27     165             48\n",
              "14          14   21     169            171"
            ]
          },
          "metadata": {
            "tags": []
          },
          "execution_count": 69
        }
      ]
    },
    {
      "cell_type": "code",
      "metadata": {
        "id": "Mpwi1T_lNvmi",
        "colab_type": "code",
        "colab": {
          "base_uri": "https://localhost:8080/",
          "height": 206
        },
        "outputId": "065b8d45-b036-44c6-b007-d5b1a46e8dd5"
      },
      "source": [
        "# And exercise\n",
        "\n",
        "hold_exercise = df.copy()\n",
        "hold_exercise = df[exercise_filter(df)]\n",
        "hold_exercise.head()"
      ],
      "execution_count": 70,
      "outputs": [
        {
          "output_type": "execute_result",
          "data": {
            "text/html": [
              "<div>\n",
              "<style scoped>\n",
              "    .dataframe tbody tr th:only-of-type {\n",
              "        vertical-align: middle;\n",
              "    }\n",
              "\n",
              "    .dataframe tbody tr th {\n",
              "        vertical-align: top;\n",
              "    }\n",
              "\n",
              "    .dataframe thead th {\n",
              "        text-align: right;\n",
              "    }\n",
              "</style>\n",
              "<table border=\"1\" class=\"dataframe\">\n",
              "  <thead>\n",
              "    <tr style=\"text-align: right;\">\n",
              "      <th></th>\n",
              "      <th>Unnamed: 0</th>\n",
              "      <th>age</th>\n",
              "      <th>weight</th>\n",
              "      <th>exercise_time</th>\n",
              "    </tr>\n",
              "  </thead>\n",
              "  <tbody>\n",
              "    <tr>\n",
              "      <th>5</th>\n",
              "      <td>5</td>\n",
              "      <td>58</td>\n",
              "      <td>103</td>\n",
              "      <td>165</td>\n",
              "    </tr>\n",
              "    <tr>\n",
              "      <th>14</th>\n",
              "      <td>14</td>\n",
              "      <td>21</td>\n",
              "      <td>169</td>\n",
              "      <td>171</td>\n",
              "    </tr>\n",
              "    <tr>\n",
              "      <th>17</th>\n",
              "      <td>17</td>\n",
              "      <td>69</td>\n",
              "      <td>172</td>\n",
              "      <td>147</td>\n",
              "    </tr>\n",
              "    <tr>\n",
              "      <th>33</th>\n",
              "      <td>33</td>\n",
              "      <td>70</td>\n",
              "      <td>169</td>\n",
              "      <td>172</td>\n",
              "    </tr>\n",
              "    <tr>\n",
              "      <th>34</th>\n",
              "      <td>34</td>\n",
              "      <td>32</td>\n",
              "      <td>163</td>\n",
              "      <td>175</td>\n",
              "    </tr>\n",
              "  </tbody>\n",
              "</table>\n",
              "</div>"
            ],
            "text/plain": [
              "    Unnamed: 0  age  weight  exercise_time\n",
              "5            5   58     103            165\n",
              "14          14   21     169            171\n",
              "17          17   69     172            147\n",
              "33          33   70     169            172\n",
              "34          34   32     163            175"
            ]
          },
          "metadata": {
            "tags": []
          },
          "execution_count": 70
        }
      ]
    },
    {
      "cell_type": "code",
      "metadata": {
        "id": "ZBBg8YV_Og-7",
        "colab_type": "code",
        "colab": {
          "base_uri": "https://localhost:8080/",
          "height": 295
        },
        "outputId": "b5354a16-c038-469b-cb3c-5a1006253691"
      },
      "source": [
        "# Now for the scatterplots. Exercise and weight, age constant.\n",
        "\n",
        "plt.scatter(hold_age['weight'], hold_age['exercise_time'])\n",
        "plt.title('Weight vs exercise time, restricted age')\n",
        "plt.xlabel('Weight in pounds')\n",
        "plt.ylabel('Exercise time in seconds')\n",
        "plt.show()"
      ],
      "execution_count": 71,
      "outputs": [
        {
          "output_type": "display_data",
          "data": {
            "image/png": "[encoded data removed]",
            "text/plain": [
              "<Figure size 432x288 with 1 Axes>"
            ]
          },
          "metadata": {
            "tags": []
          }
        }
      ]
    },
    {
      "cell_type": "code",
      "metadata": {
        "id": "FycegqIyOhCX",
        "colab_type": "code",
        "colab": {
          "base_uri": "https://localhost:8080/",
          "height": 295
        },
        "outputId": "098d285e-94c9-4645-d35f-faefa110d70b"
      },
      "source": [
        "# Decent correlation there!\n",
        "\n",
        "# Age and exercise, weight constant.\n",
        "\n",
        "plt.scatter(hold_weight['age'], hold_weight['exercise_time'])\n",
        "plt.title('Age vs exercise time, restricted weight')\n",
        "plt.xlabel('Age in years')\n",
        "plt.ylabel('Exercise time in seconds')\n",
        "plt.show()"
      ],
      "execution_count": 74,
      "outputs": [
        {
          "output_type": "display_data",
          "data": {
            "image/png": "[encoded data removed]",
            "text/plain": [
              "<Figure size 432x288 with 1 Axes>"
            ]
          },
          "metadata": {
            "tags": []
          }
        }
      ]
    },
    {
      "cell_type": "code",
      "metadata": {
        "id": "5c5hkmsdOheh",
        "colab_type": "code",
        "colab": {
          "base_uri": "https://localhost:8080/",
          "height": 295
        },
        "outputId": "263cb814-c3aa-4b76-b11d-b7941e3340ed"
      },
      "source": [
        "# A little weaker, but still something to be seen.\n",
        "\n",
        "# Age and weight, exercise constant.\n",
        "\n",
        "plt.scatter(hold_exercise['age'], hold_exercise['weight'])\n",
        "plt.title('Age vs weight, restricted exercise time')\n",
        "plt.xlabel('Age in years')\n",
        "plt.ylabel('Weight in pounds')\n",
        "plt.show()"
      ],
      "execution_count": 75,
      "outputs": [
        {
          "output_type": "display_data",
          "data": {
            "image/png": "[encoded data removed]",
            "text/plain": [
              "<Figure size 432x288 with 1 Axes>"
            ]
          },
          "metadata": {
            "tags": []
          }
        }
      ]
    },
    {
      "cell_type": "code",
      "metadata": {
        "id": "ke7W_jTlP8Au",
        "colab_type": "code",
        "colab": {}
      },
      "source": [
        "# This one looks pretty lacking."
      ],
      "execution_count": 0,
      "outputs": []
    },
    {
      "cell_type": "markdown",
      "metadata": {
        "id": "BT9gdS7viJZa",
        "colab_type": "text"
      },
      "source": [
        "### Assignment questions\n",
        "\n",
        "After you've worked on some code, answer the following questions in this text block:\n",
        "\n",
        "1.  What are the variable types in the data?\n",
        "\n",
        "    All the variables are of type int, but can be thought of as being continuous.\n",
        "\n",
        "2.  What are the relationships between the variables?\n",
        "\n",
        "    Age vs weight is a weak positive correlation. Both age vs exercise time, and weight vs exercise time, have either a negative direct correlation, or an inverse correlation.\n",
        "\n",
        "3.  Which relationships are \"real\", and which spurious?\n",
        "\n",
        "  The relationship between age and weight is the one which appears to have the weakest correlation when the third variable (exercise time here) is held constant. The other two, weight vs exercise and age vs exercise, maintain a strong correlation even when they are restricted by narrowing the domain of the third variable."
      ]
    },
    {
      "cell_type": "markdown",
      "metadata": {
        "id": "pG-btD7sqnsx",
        "colab_type": "text"
      },
      "source": [
        "### ECommerce Company responses\n",
        "\n",
        "Approach problems:\n",
        "\n",
        "\n",
        "*   By combining old legacy cookies with new legacy cookies, they allow for a confounder - business performance before and after the introduction of the new system. Business may simply have been better (or worse!) prior to their month of testing.\n",
        "*   Old cookies are subject to *selection bias* - an old cookie is one that has survived for some time, whereas a new cookie very well may not. The most obvious reason why an old cookie would survive would be that old cookies represent *repeat customers*, who likely represent greater revenue.\n",
        "*   Similarly, some customers may be the kind of people who delete cookies. Cookie-deleters may have some characteristics, like being unamenable to advertisements. Old cookies are largely free of this lower-revenue population.\n",
        "\n",
        "Solutions:\n",
        "\n",
        "\n",
        "*   Simply don't use old cookies along with new ones.\n",
        "*   Use legacy cookies from before the test, but drop all cookies which have had a period of activity greater than a month.\n",
        "\n",
        "\n",
        "\n"
      ]
    },
    {
      "cell_type": "markdown",
      "metadata": {
        "id": "_XXg2crAipwP",
        "colab_type": "text"
      },
      "source": [
        "## Stretch goals and resources\n",
        "\n",
        "Following are *optional* things for you to take a look at. Focus on the above assignment first, and make sure to commit and push your changes to GitHub.\n",
        "\n",
        "- [Spurious Correlations](http://tylervigen.com/spurious-correlations)\n",
        "- [NIH on controlling for confounding variables](https://www.ncbi.nlm.nih.gov/pmc/articles/PMC4017459/)\n",
        "\n",
        "Stretch goals:\n",
        "\n",
        "- Produce your own plot inspired by the Spurious Correlation visualizations (and consider writing a blog post about it - both the content and how you made it)\n",
        "- Pick one of the techniques that NIH highlights for confounding variables - we'll be going into many of them later, but see if you can find which Python modules may help (hint - check scikit-learn)"
      ]
    },
    {
      "cell_type": "code",
      "metadata": {
        "id": "gY30yoS83RsM",
        "colab_type": "code",
        "colab": {
          "base_uri": "https://localhost:8080/",
          "height": 225
        },
        "outputId": "bf999fe5-b624-46e8-b193-c681160012ca"
      },
      "source": [
        "# Load in some data\n",
        "bananas = pd.read_csv('PBANSOPUSDQ.csv')\n",
        "print(bananas.shape)\n",
        "bananas.head()"
      ],
      "execution_count": 12,
      "outputs": [
        {
          "output_type": "stream",
          "text": [
            "(53, 2)\n"
          ],
          "name": "stdout"
        },
        {
          "output_type": "execute_result",
          "data": {
            "text/html": [
              "<div>\n",
              "<style scoped>\n",
              "    .dataframe tbody tr th:only-of-type {\n",
              "        vertical-align: middle;\n",
              "    }\n",
              "\n",
              "    .dataframe tbody tr th {\n",
              "        vertical-align: top;\n",
              "    }\n",
              "\n",
              "    .dataframe thead th {\n",
              "        text-align: right;\n",
              "    }\n",
              "</style>\n",
              "<table border=\"1\" class=\"dataframe\">\n",
              "  <thead>\n",
              "    <tr style=\"text-align: right;\">\n",
              "      <th></th>\n",
              "      <th>DATE</th>\n",
              "      <th>PBANSOPUSDQ</th>\n",
              "    </tr>\n",
              "  </thead>\n",
              "  <tbody>\n",
              "    <tr>\n",
              "      <th>0</th>\n",
              "      <td>2006-01-01</td>\n",
              "      <td>792.302681</td>\n",
              "    </tr>\n",
              "    <tr>\n",
              "      <th>1</th>\n",
              "      <td>2006-04-01</td>\n",
              "      <td>776.619789</td>\n",
              "    </tr>\n",
              "    <tr>\n",
              "      <th>2</th>\n",
              "      <td>2006-07-01</td>\n",
              "      <td>558.715479</td>\n",
              "    </tr>\n",
              "    <tr>\n",
              "      <th>3</th>\n",
              "      <td>2006-10-01</td>\n",
              "      <td>603.763563</td>\n",
              "    </tr>\n",
              "    <tr>\n",
              "      <th>4</th>\n",
              "      <td>2007-01-01</td>\n",
              "      <td>648.554364</td>\n",
              "    </tr>\n",
              "  </tbody>\n",
              "</table>\n",
              "</div>"
            ],
            "text/plain": [
              "         DATE  PBANSOPUSDQ\n",
              "0  2006-01-01   792.302681\n",
              "1  2006-04-01   776.619789\n",
              "2  2006-07-01   558.715479\n",
              "3  2006-10-01   603.763563\n",
              "4  2007-01-01   648.554364"
            ]
          },
          "metadata": {
            "tags": []
          },
          "execution_count": 12
        }
      ]
    },
    {
      "cell_type": "code",
      "metadata": {
        "id": "SCale5h34kW7",
        "colab_type": "code",
        "colab": {
          "base_uri": "https://localhost:8080/",
          "height": 225
        },
        "outputId": "ebc19309-22a9-435f-ceda-587ee4bc536d"
      },
      "source": [
        "# Load in some more data\n",
        "loans = pd.read_csv('SLOAS.csv')\n",
        "print(loans.shape)\n",
        "loans.head()"
      ],
      "execution_count": 13,
      "outputs": [
        {
          "output_type": "stream",
          "text": [
            "(53, 2)\n"
          ],
          "name": "stdout"
        },
        {
          "output_type": "execute_result",
          "data": {
            "text/html": [
              "<div>\n",
              "<style scoped>\n",
              "    .dataframe tbody tr th:only-of-type {\n",
              "        vertical-align: middle;\n",
              "    }\n",
              "\n",
              "    .dataframe tbody tr th {\n",
              "        vertical-align: top;\n",
              "    }\n",
              "\n",
              "    .dataframe thead th {\n",
              "        text-align: right;\n",
              "    }\n",
              "</style>\n",
              "<table border=\"1\" class=\"dataframe\">\n",
              "  <thead>\n",
              "    <tr style=\"text-align: right;\">\n",
              "      <th></th>\n",
              "      <th>DATE</th>\n",
              "      <th>SLOAS</th>\n",
              "    </tr>\n",
              "  </thead>\n",
              "  <tbody>\n",
              "    <tr>\n",
              "      <th>0</th>\n",
              "      <td>2006-01-01</td>\n",
              "      <td>480.96698</td>\n",
              "    </tr>\n",
              "    <tr>\n",
              "      <th>1</th>\n",
              "      <td>2006-04-01</td>\n",
              "      <td>487.12604</td>\n",
              "    </tr>\n",
              "    <tr>\n",
              "      <th>2</th>\n",
              "      <td>2006-07-01</td>\n",
              "      <td>510.54846</td>\n",
              "    </tr>\n",
              "    <tr>\n",
              "      <th>3</th>\n",
              "      <td>2006-10-01</td>\n",
              "      <td>521.38249</td>\n",
              "    </tr>\n",
              "    <tr>\n",
              "      <th>4</th>\n",
              "      <td>2007-01-01</td>\n",
              "      <td>544.98854</td>\n",
              "    </tr>\n",
              "  </tbody>\n",
              "</table>\n",
              "</div>"
            ],
            "text/plain": [
              "         DATE      SLOAS\n",
              "0  2006-01-01  480.96698\n",
              "1  2006-04-01  487.12604\n",
              "2  2006-07-01  510.54846\n",
              "3  2006-10-01  521.38249\n",
              "4  2007-01-01  544.98854"
            ]
          },
          "metadata": {
            "tags": []
          },
          "execution_count": 13
        }
      ]
    },
    {
      "cell_type": "code",
      "metadata": {
        "id": "_sBM9s4c9sxu",
        "colab_type": "code",
        "colab": {
          "base_uri": "https://localhost:8080/",
          "height": 73
        },
        "outputId": "ff209cd8-a641-4003-9c6e-2eb4aaa00602"
      },
      "source": [
        "# Check for NaNs\n",
        "bananas.isna().sum()"
      ],
      "execution_count": 15,
      "outputs": [
        {
          "output_type": "execute_result",
          "data": {
            "text/plain": [
              "DATE           0\n",
              "PBANSOPUSDQ    0\n",
              "dtype: int64"
            ]
          },
          "metadata": {
            "tags": []
          },
          "execution_count": 15
        }
      ]
    },
    {
      "cell_type": "code",
      "metadata": {
        "id": "DpayfHAg91-o",
        "colab_type": "code",
        "colab": {
          "base_uri": "https://localhost:8080/",
          "height": 73
        },
        "outputId": "94a45a20-ec70-4682-db29-df41473e2cfd"
      },
      "source": [
        "bananas.isna().sum()"
      ],
      "execution_count": 16,
      "outputs": [
        {
          "output_type": "execute_result",
          "data": {
            "text/plain": [
              "DATE           0\n",
              "PBANSOPUSDQ    0\n",
              "dtype: int64"
            ]
          },
          "metadata": {
            "tags": []
          },
          "execution_count": 16
        }
      ]
    },
    {
      "cell_type": "code",
      "metadata": {
        "id": "zQTBcnI-73sY",
        "colab_type": "code",
        "colab": {
          "base_uri": "https://localhost:8080/",
          "height": 641
        },
        "outputId": "1304632b-8e8d-4374-9124-e3bf84830d29"
      },
      "source": [
        "# No NaNs, scatterplot it.\n",
        "\n",
        "fig = plt.figure(figsize = [20,10])\n",
        "\n",
        "plt.scatter(bananas['PBANSOPUSDQ'], loans['SLOAS'], c=(loans.index), cmap='copper')\n",
        "plt.title('Student Loans vs Banana Price')\n",
        "plt.xlabel('Global Banana Price (USD/Metric Ton)')\n",
        "plt.ylabel('Outstanding Student Loans (Billions of USD)')\n",
        "plt.show()"
      ],
      "execution_count": 14,
      "outputs": [
        {
          "output_type": "display_data",
          "data": {
            "image/png": "[encoded data removed]",
            "text/plain": [
              "<Figure size 1440x720 with 1 Axes>"
            ]
          },
          "metadata": {
            "tags": []
          }
        }
      ]
    }
  ]
}