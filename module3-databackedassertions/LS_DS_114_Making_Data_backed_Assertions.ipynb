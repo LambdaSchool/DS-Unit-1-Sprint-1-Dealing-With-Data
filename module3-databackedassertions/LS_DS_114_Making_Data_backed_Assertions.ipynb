{
  "nbformat": 4,
  "nbformat_minor": 0,
  "metadata": {
    "colab": {
      "name": "LS_DS_114_Making_Data_backed_Assertions.ipynb",
      "version": "0.3.2",
      "provenance": [],
      "collapsed_sections": [],
      "include_colab_link": true
    },
    "kernelspec": {
      "name": "python3",
      "display_name": "Python 3"
    }
  },
  "cells": [
    {
      "cell_type": "markdown",
      "metadata": {
        "id": "view-in-github",
        "colab_type": "text"
      },
      "source": [
        "<a href=\"https://colab.research.google.com/github/lechemrc/DS-Unit-1-Sprint-1-Dealing-With-Data/blob/master/module3-databackedassertions/LS_DS_114_Making_Data_backed_Assertions.ipynb\" target=\"_parent\"><img src=\"https://colab.research.google.com/assets/colab-badge.svg\" alt=\"Open In Colab\"/></a>"
      ]
    },
    {
      "cell_type": "markdown",
      "metadata": {
        "id": "Okfr_uhwhS1X",
        "colab_type": "text"
      },
      "source": [
        "# Lambda School Data Science - Making Data-backed Assertions\n",
        "\n",
        "This is, for many, the main point of data science - to create and support reasoned arguments based on evidence. It's not a topic to master in a day, but it is worth some focused time thinking about and structuring your approach to it."
      ]
    },
    {
      "cell_type": "markdown",
      "metadata": {
        "id": "9dtJETFRhnOG",
        "colab_type": "text"
      },
      "source": [
        "## Lecture - generating a confounding variable\n",
        "\n",
        "The prewatch material told a story about a hypothetical health condition where both the drug usage and overall health outcome were related to gender - thus making gender a confounding variable, obfuscating the possible relationship between the drug and the outcome.\n",
        "\n",
        "Let's use Python to generate data that actually behaves in this fashion!"
      ]
    },
    {
      "cell_type": "code",
      "metadata": {
        "id": "WiBkgmPJhmhE",
        "colab_type": "code",
        "outputId": "d65b152d-a5b2-4911-f670-3b0eb09ec1fe",
        "colab": {
          "base_uri": "https://localhost:8080/",
          "height": 1000
        }
      },
      "source": [
        "import random\n",
        "dir(random)  # Reminding ourselves what we can do here"
      ],
      "execution_count": 1,
      "outputs": [
        {
          "output_type": "execute_result",
          "data": {
            "text/plain": [
              "['BPF',\n",
              " 'LOG4',\n",
              " 'NV_MAGICCONST',\n",
              " 'RECIP_BPF',\n",
              " 'Random',\n",
              " 'SG_MAGICCONST',\n",
              " 'SystemRandom',\n",
              " 'TWOPI',\n",
              " '_BuiltinMethodType',\n",
              " '_MethodType',\n",
              " '_Sequence',\n",
              " '_Set',\n",
              " '__all__',\n",
              " '__builtins__',\n",
              " '__cached__',\n",
              " '__doc__',\n",
              " '__file__',\n",
              " '__loader__',\n",
              " '__name__',\n",
              " '__package__',\n",
              " '__spec__',\n",
              " '_acos',\n",
              " '_bisect',\n",
              " '_ceil',\n",
              " '_cos',\n",
              " '_e',\n",
              " '_exp',\n",
              " '_inst',\n",
              " '_itertools',\n",
              " '_log',\n",
              " '_pi',\n",
              " '_random',\n",
              " '_sha512',\n",
              " '_sin',\n",
              " '_sqrt',\n",
              " '_test',\n",
              " '_test_generator',\n",
              " '_urandom',\n",
              " '_warn',\n",
              " 'betavariate',\n",
              " 'choice',\n",
              " 'choices',\n",
              " 'expovariate',\n",
              " 'gammavariate',\n",
              " 'gauss',\n",
              " 'getrandbits',\n",
              " 'getstate',\n",
              " 'lognormvariate',\n",
              " 'normalvariate',\n",
              " 'paretovariate',\n",
              " 'randint',\n",
              " 'random',\n",
              " 'randrange',\n",
              " 'sample',\n",
              " 'seed',\n",
              " 'setstate',\n",
              " 'shuffle',\n",
              " 'triangular',\n",
              " 'uniform',\n",
              " 'vonmisesvariate',\n",
              " 'weibullvariate']"
            ]
          },
          "metadata": {
            "tags": []
          },
          "execution_count": 1
        }
      ]
    },
    {
      "cell_type": "code",
      "metadata": {
        "id": "zMM1PbcSmi-I",
        "colab_type": "code",
        "colab": {
          "base_uri": "https://localhost:8080/",
          "height": 35
        },
        "outputId": "cc36c906-2ded-4dc3-fbe4-a79d54536078"
      },
      "source": [
        "from collections import namedtuple\n",
        "\n",
        "User = namedtuple('User', ['purchased', 'time_on_site', 'mobile'])\n",
        "example_user = User(False, 12, False)\n",
        "example_user"
      ],
      "execution_count": 3,
      "outputs": [
        {
          "output_type": "execute_result",
          "data": {
            "text/plain": [
              "User(purchased=False, time_on_site=12, mobile=False)"
            ]
          },
          "metadata": {
            "tags": []
          },
          "execution_count": 3
        }
      ]
    },
    {
      "cell_type": "code",
      "metadata": {
        "id": "6W3NnQV1m7Qn",
        "colab_type": "code",
        "colab": {
          "base_uri": "https://localhost:8080/",
          "height": 171
        },
        "outputId": "71dc2b18-d2fc-4e5f-b72d-e84554477774"
      },
      "source": [
        "example_user.time_on_site=30"
      ],
      "execution_count": 4,
      "outputs": [
        {
          "output_type": "error",
          "ename": "AttributeError",
          "evalue": "ignored",
          "traceback": [
            "\u001b[0;31m---------------------------------------------------------------------------\u001b[0m",
            "\u001b[0;31mAttributeError\u001b[0m                            Traceback (most recent call last)",
            "\u001b[0;32m<ipython-input-4-01dcbb266925>\u001b[0m in \u001b[0;36m<module>\u001b[0;34m()\u001b[0m\n\u001b[0;32m----> 1\u001b[0;31m \u001b[0mexample_user\u001b[0m\u001b[0;34m.\u001b[0m\u001b[0mtime_on_site\u001b[0m\u001b[0;34m=\u001b[0m\u001b[0;36m30\u001b[0m\u001b[0;34m\u001b[0m\u001b[0;34m\u001b[0m\u001b[0m\n\u001b[0m",
            "\u001b[0;31mAttributeError\u001b[0m: can't set attribute"
          ]
        }
      ]
    },
    {
      "cell_type": "code",
      "metadata": {
        "id": "Ks5qFtpnq-q5",
        "colab_type": "code",
        "outputId": "45e4dc43-4952-49b7-b91c-a6efc20a6481",
        "colab": {
          "base_uri": "https://localhost:8080/",
          "height": 35
        }
      },
      "source": [
        "# Let's think of another scenario:\n",
        "# We work for a company that sells accessories for mobile phones.\n",
        "# They have an ecommerce site, and we are supposed to analyze logs\n",
        "# to determine what sort of usage is related to purchases, and thus guide\n",
        "# website development to encourage higher conversion.\n",
        "\n",
        "# The hypothesis - users who spend longer on the site tend\n",
        "# to spend more. Seems reasonable, no?\n",
        "\n",
        "# But there's a confounding variable! If they're on a phone, they:\n",
        "# a) Spend less time on the site, but\n",
        "# b) Are more likely to be interested in the actual products!\n",
        "\n",
        "# Let's use namedtuple to represent our data\n",
        "\n",
        "from collections import namedtuple\n",
        "# purchased and mobile are bools, time_on_site in seconds\n",
        "User = namedtuple('User', ['purchased','time_on_site', 'mobile'])\n",
        "\n",
        "example_user = User(False, 12, False)\n",
        "print(example_user)"
      ],
      "execution_count": 2,
      "outputs": [
        {
          "output_type": "stream",
          "text": [
            "User(purchased=False, time_on_site=12, mobile=False)\n"
          ],
          "name": "stdout"
        }
      ]
    },
    {
      "cell_type": "code",
      "metadata": {
        "id": "lfPiHNG_sefL",
        "colab_type": "code",
        "outputId": "48dc9913-9e54-4302-cce0-404bd57678e0",
        "colab": {
          "base_uri": "https://localhost:8080/",
          "height": 199
        }
      },
      "source": [
        "# And now let's generate 1000 example users\n",
        "# 750 mobile, 250 not (i.e. desktop)\n",
        "# A desktop user has a base conversion likelihood of 10%\n",
        "# And it goes up by 1% for each 15 seconds they spend on the site\n",
        "# And they spend anywhere from 10 seconds to 10 minutes (600 sec) on the site (uniform)\n",
        "# Mobile users spend on average half as much time on the site as desktop\n",
        "# But have three times as much base likelihood of buying something\n",
        "\n",
        "users = []\n",
        "\n",
        "for _ in range(250):\n",
        "  # Desktop users\n",
        "  # time_on_site = random.uniform(10, 600)\n",
        "  time_on_site = np.random.normal(9.4*60, 3*60) # based on ecommerce data from 2016\n",
        "  purchased = random.random() < 0.1 + (time_on_site / 1500) # 15 sec x 100%\n",
        "  users.append(User(purchased, time_on_site, False))\n",
        "  \n",
        "for _ in range(750):\n",
        "  # Mobile users\n",
        "  # time_on_site = random.uniform(5, 300)\n",
        "  time_on_site = np.random.normal(7.5*60, 2.5*60)# based on ecommerce data from 2016\n",
        "  purchased = random.random() < 0.3 + (time_on_site / 1500) \n",
        "  users.append(User(purchased, time_on_site, True))\n",
        "  \n",
        "random.shuffle(users) # shuffling is just good practice, especially for predictive modeling\n",
        "users[:10]"
      ],
      "execution_count": 32,
      "outputs": [
        {
          "output_type": "execute_result",
          "data": {
            "text/plain": [
              "[User(purchased=True, time_on_site=368.3818870369276, mobile=True),\n",
              " User(purchased=False, time_on_site=148.044691797363, mobile=False),\n",
              " User(purchased=True, time_on_site=668.2172486015669, mobile=False),\n",
              " User(purchased=True, time_on_site=621.4149288129579, mobile=True),\n",
              " User(purchased=True, time_on_site=443.58603515991297, mobile=True),\n",
              " User(purchased=False, time_on_site=506.7562869129816, mobile=True),\n",
              " User(purchased=True, time_on_site=687.6286823640582, mobile=True),\n",
              " User(purchased=True, time_on_site=725.5712305032962, mobile=True),\n",
              " User(purchased=True, time_on_site=435.0126393745839, mobile=True),\n",
              " User(purchased=False, time_on_site=804.4829530614045, mobile=False)]"
            ]
          },
          "metadata": {
            "tags": []
          },
          "execution_count": 32
        }
      ]
    },
    {
      "cell_type": "code",
      "metadata": {
        "id": "ZKxDXM89oqUw",
        "colab_type": "code",
        "colab": {
          "base_uri": "https://localhost:8080/",
          "height": 35
        },
        "outputId": "46bf3529-18af-4c5c-836c-b3fa7fd3aa32"
      },
      "source": [
        "import numpy as np\n",
        "\n",
        "np.random.normal()"
      ],
      "execution_count": 33,
      "outputs": [
        {
          "output_type": "execute_result",
          "data": {
            "text/plain": [
              "-0.4487249103051886"
            ]
          },
          "metadata": {
            "tags": []
          },
          "execution_count": 33
        }
      ]
    },
    {
      "cell_type": "code",
      "metadata": {
        "id": "9gDYb5qGuRzy",
        "colab_type": "code",
        "outputId": "06ef735c-33b8-418d-dd4a-6f70c8fdf877",
        "colab": {
          "base_uri": "https://localhost:8080/",
          "height": 198
        }
      },
      "source": [
        "# Let's put this in a dataframe so we can look at it more easily\n",
        "import pandas as pd\n",
        "user_data = pd.DataFrame(users)\n",
        "user_data.head()"
      ],
      "execution_count": 34,
      "outputs": [
        {
          "output_type": "execute_result",
          "data": {
            "text/html": [
              "<div>\n",
              "<style scoped>\n",
              "    .dataframe tbody tr th:only-of-type {\n",
              "        vertical-align: middle;\n",
              "    }\n",
              "\n",
              "    .dataframe tbody tr th {\n",
              "        vertical-align: top;\n",
              "    }\n",
              "\n",
              "    .dataframe thead th {\n",
              "        text-align: right;\n",
              "    }\n",
              "</style>\n",
              "<table border=\"1\" class=\"dataframe\">\n",
              "  <thead>\n",
              "    <tr style=\"text-align: right;\">\n",
              "      <th></th>\n",
              "      <th>purchased</th>\n",
              "      <th>time_on_site</th>\n",
              "      <th>mobile</th>\n",
              "    </tr>\n",
              "  </thead>\n",
              "  <tbody>\n",
              "    <tr>\n",
              "      <th>0</th>\n",
              "      <td>True</td>\n",
              "      <td>368.381887</td>\n",
              "      <td>True</td>\n",
              "    </tr>\n",
              "    <tr>\n",
              "      <th>1</th>\n",
              "      <td>False</td>\n",
              "      <td>148.044692</td>\n",
              "      <td>False</td>\n",
              "    </tr>\n",
              "    <tr>\n",
              "      <th>2</th>\n",
              "      <td>True</td>\n",
              "      <td>668.217249</td>\n",
              "      <td>False</td>\n",
              "    </tr>\n",
              "    <tr>\n",
              "      <th>3</th>\n",
              "      <td>True</td>\n",
              "      <td>621.414929</td>\n",
              "      <td>True</td>\n",
              "    </tr>\n",
              "    <tr>\n",
              "      <th>4</th>\n",
              "      <td>True</td>\n",
              "      <td>443.586035</td>\n",
              "      <td>True</td>\n",
              "    </tr>\n",
              "  </tbody>\n",
              "</table>\n",
              "</div>"
            ],
            "text/plain": [
              "   purchased  time_on_site  mobile\n",
              "0       True    368.381887    True\n",
              "1      False    148.044692   False\n",
              "2       True    668.217249   False\n",
              "3       True    621.414929    True\n",
              "4       True    443.586035    True"
            ]
          },
          "metadata": {
            "tags": []
          },
          "execution_count": 34
        }
      ]
    },
    {
      "cell_type": "code",
      "metadata": {
        "id": "2fLaP1VXrgCi",
        "colab_type": "code",
        "colab": {
          "base_uri": "https://localhost:8080/",
          "height": 198
        },
        "outputId": "e5255e79-8e7f-4b1c-e608-8052669ffca8"
      },
      "source": [
        "user_data['time_on_site_min'] = user_data['time_on_site'] / 60\n",
        "user_data.head()"
      ],
      "execution_count": 43,
      "outputs": [
        {
          "output_type": "execute_result",
          "data": {
            "text/html": [
              "<div>\n",
              "<style scoped>\n",
              "    .dataframe tbody tr th:only-of-type {\n",
              "        vertical-align: middle;\n",
              "    }\n",
              "\n",
              "    .dataframe tbody tr th {\n",
              "        vertical-align: top;\n",
              "    }\n",
              "\n",
              "    .dataframe thead th {\n",
              "        text-align: right;\n",
              "    }\n",
              "</style>\n",
              "<table border=\"1\" class=\"dataframe\">\n",
              "  <thead>\n",
              "    <tr style=\"text-align: right;\">\n",
              "      <th></th>\n",
              "      <th>purchased</th>\n",
              "      <th>time_on_site</th>\n",
              "      <th>mobile</th>\n",
              "      <th>time_on_site_min</th>\n",
              "    </tr>\n",
              "  </thead>\n",
              "  <tbody>\n",
              "    <tr>\n",
              "      <th>0</th>\n",
              "      <td>True</td>\n",
              "      <td>368.381887</td>\n",
              "      <td>True</td>\n",
              "      <td>6.139698</td>\n",
              "    </tr>\n",
              "    <tr>\n",
              "      <th>1</th>\n",
              "      <td>False</td>\n",
              "      <td>148.044692</td>\n",
              "      <td>False</td>\n",
              "      <td>2.467412</td>\n",
              "    </tr>\n",
              "    <tr>\n",
              "      <th>2</th>\n",
              "      <td>True</td>\n",
              "      <td>668.217249</td>\n",
              "      <td>False</td>\n",
              "      <td>11.136954</td>\n",
              "    </tr>\n",
              "    <tr>\n",
              "      <th>3</th>\n",
              "      <td>True</td>\n",
              "      <td>621.414929</td>\n",
              "      <td>True</td>\n",
              "      <td>10.356915</td>\n",
              "    </tr>\n",
              "    <tr>\n",
              "      <th>4</th>\n",
              "      <td>True</td>\n",
              "      <td>443.586035</td>\n",
              "      <td>True</td>\n",
              "      <td>7.393101</td>\n",
              "    </tr>\n",
              "  </tbody>\n",
              "</table>\n",
              "</div>"
            ],
            "text/plain": [
              "   purchased  time_on_site  mobile  time_on_site_min\n",
              "0       True    368.381887    True          6.139698\n",
              "1      False    148.044692   False          2.467412\n",
              "2       True    668.217249   False         11.136954\n",
              "3       True    621.414929    True         10.356915\n",
              "4       True    443.586035    True          7.393101"
            ]
          },
          "metadata": {
            "tags": []
          },
          "execution_count": 43
        }
      ]
    },
    {
      "cell_type": "code",
      "metadata": {
        "id": "PiWkEbgSoOQu",
        "colab_type": "code",
        "colab": {
          "base_uri": "https://localhost:8080/",
          "height": 269
        },
        "outputId": "e0f49ebf-e434-44c2-8b48-bb6945d85eca"
      },
      "source": [
        "ax = user_data.time_on_site.hist()\n",
        "ax.legend(['Desktop', 'Mobile']);"
      ],
      "execution_count": 36,
      "outputs": [
        {
          "output_type": "display_data",
          "data": {
            "image/png": "[encoded data removed]",
            "text/plain": [
              "<Figure size 432x288 with 1 Axes>"
            ]
          },
          "metadata": {
            "tags": []
          }
        }
      ]
    },
    {
      "cell_type": "code",
      "metadata": {
        "id": "j9KYyW0drquL",
        "colab_type": "code",
        "colab": {
          "base_uri": "https://localhost:8080/",
          "height": 405
        },
        "outputId": "f5a7545b-387d-4cb8-c588-f259c354206f"
      },
      "source": [
        "import matplotlib.pyplot as plt\n",
        "\n",
        "user_data.groupby('mobile').time_on_site_min.hist(bins=20, alpha=0.5, figsize=(10,6))\n",
        "plt.title('Time on Site by Source (Desktop vs. Mobile in Minutes)')\n",
        "plt.ylabel('Count')\n",
        "plt.xlabel('Time in Minutes')\n",
        "plt.legend(['Desktop', 'Mobile']);"
      ],
      "execution_count": 44,
      "outputs": [
        {
          "output_type": "display_data",
          "data": {
            "image/png": "[encoded data removed]",
            "text/plain": [
              "<Figure size 720x432 with 1 Axes>"
            ]
          },
          "metadata": {
            "tags": []
          }
        }
      ]
    },
    {
      "cell_type": "code",
      "metadata": {
        "id": "q_oV6kZFqGJk",
        "colab_type": "code",
        "colab": {
          "base_uri": "https://localhost:8080/",
          "height": 78
        },
        "outputId": "d6c814b3-e34e-43ac-f5ed-d4134ace2f68"
      },
      "source": [
        "user_data[user_data['time_on_site'] < 0.0]"
      ],
      "execution_count": 40,
      "outputs": [
        {
          "output_type": "execute_result",
          "data": {
            "text/html": [
              "<div>\n",
              "<style scoped>\n",
              "    .dataframe tbody tr th:only-of-type {\n",
              "        vertical-align: middle;\n",
              "    }\n",
              "\n",
              "    .dataframe tbody tr th {\n",
              "        vertical-align: top;\n",
              "    }\n",
              "\n",
              "    .dataframe thead th {\n",
              "        text-align: right;\n",
              "    }\n",
              "</style>\n",
              "<table border=\"1\" class=\"dataframe\">\n",
              "  <thead>\n",
              "    <tr style=\"text-align: right;\">\n",
              "      <th></th>\n",
              "      <th>purchased</th>\n",
              "      <th>time_on_site</th>\n",
              "      <th>mobile</th>\n",
              "      <th>time_on_site_min</th>\n",
              "    </tr>\n",
              "  </thead>\n",
              "  <tbody>\n",
              "    <tr>\n",
              "      <th>745</th>\n",
              "      <td>False</td>\n",
              "      <td>-28.203572</td>\n",
              "      <td>True</td>\n",
              "      <td>-0.47006</td>\n",
              "    </tr>\n",
              "  </tbody>\n",
              "</table>\n",
              "</div>"
            ],
            "text/plain": [
              "     purchased  time_on_site  mobile  time_on_site_min\n",
              "745      False    -28.203572    True          -0.47006"
            ]
          },
          "metadata": {
            "tags": []
          },
          "execution_count": 40
        }
      ]
    },
    {
      "cell_type": "code",
      "metadata": {
        "id": "Dep5ERG9sw5v",
        "colab_type": "code",
        "colab": {
          "base_uri": "https://localhost:8080/",
          "height": 48
        },
        "outputId": "90b5a60f-e710-49ac-9e79-83c20042ef49"
      },
      "source": [
        "user_data.loc[user_data['time_on_site'] < 0.0, 'time_on_site'] = 0.0\n",
        "user_data[user_data['time_on_site'] < 0.0]"
      ],
      "execution_count": 41,
      "outputs": [
        {
          "output_type": "execute_result",
          "data": {
            "text/html": [
              "<div>\n",
              "<style scoped>\n",
              "    .dataframe tbody tr th:only-of-type {\n",
              "        vertical-align: middle;\n",
              "    }\n",
              "\n",
              "    .dataframe tbody tr th {\n",
              "        vertical-align: top;\n",
              "    }\n",
              "\n",
              "    .dataframe thead th {\n",
              "        text-align: right;\n",
              "    }\n",
              "</style>\n",
              "<table border=\"1\" class=\"dataframe\">\n",
              "  <thead>\n",
              "    <tr style=\"text-align: right;\">\n",
              "      <th></th>\n",
              "      <th>purchased</th>\n",
              "      <th>time_on_site</th>\n",
              "      <th>mobile</th>\n",
              "      <th>time_on_site_min</th>\n",
              "    </tr>\n",
              "  </thead>\n",
              "  <tbody>\n",
              "  </tbody>\n",
              "</table>\n",
              "</div>"
            ],
            "text/plain": [
              "Empty DataFrame\n",
              "Columns: [purchased, time_on_site, mobile, time_on_site_min]\n",
              "Index: []"
            ]
          },
          "metadata": {
            "tags": []
          },
          "execution_count": 41
        }
      ]
    },
    {
      "cell_type": "code",
      "metadata": {
        "id": "aCKt2sgBqNZ2",
        "colab_type": "code",
        "colab": {}
      },
      "source": [
        "help(pd.crosstab)"
      ],
      "execution_count": 0,
      "outputs": []
    },
    {
      "cell_type": "code",
      "metadata": {
        "id": "sr6IJv77ulVl",
        "colab_type": "code",
        "outputId": "d6ec59af-12f6-489a-f9ac-de81b9cdec34",
        "colab": {
          "base_uri": "https://localhost:8080/",
          "height": 187
        }
      },
      "source": [
        "# Let's use crosstabulation to try to see what's going on\n",
        "pd.crosstab(user_data['purchased'], user_data['time_on_site'])"
      ],
      "execution_count": 46,
      "outputs": [
        {
          "output_type": "execute_result",
          "data": {
            "text/html": [
              "<div>\n",
              "<style scoped>\n",
              "    .dataframe tbody tr th:only-of-type {\n",
              "        vertical-align: middle;\n",
              "    }\n",
              "\n",
              "    .dataframe tbody tr th {\n",
              "        vertical-align: top;\n",
              "    }\n",
              "\n",
              "    .dataframe thead th {\n",
              "        text-align: right;\n",
              "    }\n",
              "</style>\n",
              "<table border=\"1\" class=\"dataframe\">\n",
              "  <thead>\n",
              "    <tr style=\"text-align: right;\">\n",
              "      <th>time_on_site</th>\n",
              "      <th>0.0</th>\n",
              "      <th>36.03597350362935</th>\n",
              "      <th>66.68154396411148</th>\n",
              "      <th>69.6461078702697</th>\n",
              "      <th>77.30196212218999</th>\n",
              "      <th>85.35497595806885</th>\n",
              "      <th>89.60617853457029</th>\n",
              "      <th>90.59177858547815</th>\n",
              "      <th>125.80183832703102</th>\n",
              "      <th>127.43625695694732</th>\n",
              "      <th>127.48667598491005</th>\n",
              "      <th>146.79337537647393</th>\n",
              "      <th>147.20837230474035</th>\n",
              "      <th>148.044691797363</th>\n",
              "      <th>153.22010874668598</th>\n",
              "      <th>154.14015465280966</th>\n",
              "      <th>156.43328507299924</th>\n",
              "      <th>158.27989022150285</th>\n",
              "      <th>158.34915497263222</th>\n",
              "      <th>158.59281321173734</th>\n",
              "      <th>161.6553122626916</th>\n",
              "      <th>164.14545664765535</th>\n",
              "      <th>165.1303969343952</th>\n",
              "      <th>166.7319773194393</th>\n",
              "      <th>167.57287746386675</th>\n",
              "      <th>170.97279165264962</th>\n",
              "      <th>173.3522989926704</th>\n",
              "      <th>174.12087234558976</th>\n",
              "      <th>175.25806299496145</th>\n",
              "      <th>179.55284651125453</th>\n",
              "      <th>182.32034361269916</th>\n",
              "      <th>185.42436764344296</th>\n",
              "      <th>190.2196956619752</th>\n",
              "      <th>193.69466498070597</th>\n",
              "      <th>196.10684476369556</th>\n",
              "      <th>196.56991100388777</th>\n",
              "      <th>196.80969975087785</th>\n",
              "      <th>201.9203409233081</th>\n",
              "      <th>203.8094252353858</th>\n",
              "      <th>210.08554093653902</th>\n",
              "      <th>...</th>\n",
              "      <th>771.0349127891908</th>\n",
              "      <th>771.2711300125492</th>\n",
              "      <th>779.3722197828089</th>\n",
              "      <th>780.3129961708472</th>\n",
              "      <th>781.0505481613998</th>\n",
              "      <th>787.6740506117397</th>\n",
              "      <th>792.5419557401146</th>\n",
              "      <th>792.8486805511013</th>\n",
              "      <th>794.7158344463553</th>\n",
              "      <th>798.9573873503291</th>\n",
              "      <th>798.9722121928319</th>\n",
              "      <th>802.3827146662794</th>\n",
              "      <th>802.4108056421072</th>\n",
              "      <th>803.0250944462197</th>\n",
              "      <th>804.4829530614045</th>\n",
              "      <th>804.9411082644912</th>\n",
              "      <th>809.3421331824683</th>\n",
              "      <th>812.2989321253822</th>\n",
              "      <th>813.2016662346002</th>\n",
              "      <th>813.7516086969628</th>\n",
              "      <th>819.4664495435502</th>\n",
              "      <th>830.6370445847003</th>\n",
              "      <th>835.44815368985</th>\n",
              "      <th>836.8709015860128</th>\n",
              "      <th>840.6682502741154</th>\n",
              "      <th>847.9113841113927</th>\n",
              "      <th>870.1085635193042</th>\n",
              "      <th>880.7671015198723</th>\n",
              "      <th>905.5201724416565</th>\n",
              "      <th>907.1353809222867</th>\n",
              "      <th>915.2802558118325</th>\n",
              "      <th>919.5245475120882</th>\n",
              "      <th>929.2921777596334</th>\n",
              "      <th>930.0716519499647</th>\n",
              "      <th>941.0230555306548</th>\n",
              "      <th>942.5776021867257</th>\n",
              "      <th>958.2412454865073</th>\n",
              "      <th>991.3573319890991</th>\n",
              "      <th>1008.3715642389873</th>\n",
              "      <th>1045.6649798432124</th>\n",
              "    </tr>\n",
              "    <tr>\n",
              "      <th>purchased</th>\n",
              "      <th></th>\n",
              "      <th></th>\n",
              "      <th></th>\n",
              "      <th></th>\n",
              "      <th></th>\n",
              "      <th></th>\n",
              "      <th></th>\n",
              "      <th></th>\n",
              "      <th></th>\n",
              "      <th></th>\n",
              "      <th></th>\n",
              "      <th></th>\n",
              "      <th></th>\n",
              "      <th></th>\n",
              "      <th></th>\n",
              "      <th></th>\n",
              "      <th></th>\n",
              "      <th></th>\n",
              "      <th></th>\n",
              "      <th></th>\n",
              "      <th></th>\n",
              "      <th></th>\n",
              "      <th></th>\n",
              "      <th></th>\n",
              "      <th></th>\n",
              "      <th></th>\n",
              "      <th></th>\n",
              "      <th></th>\n",
              "      <th></th>\n",
              "      <th></th>\n",
              "      <th></th>\n",
              "      <th></th>\n",
              "      <th></th>\n",
              "      <th></th>\n",
              "      <th></th>\n",
              "      <th></th>\n",
              "      <th></th>\n",
              "      <th></th>\n",
              "      <th></th>\n",
              "      <th></th>\n",
              "      <th></th>\n",
              "      <th></th>\n",
              "      <th></th>\n",
              "      <th></th>\n",
              "      <th></th>\n",
              "      <th></th>\n",
              "      <th></th>\n",
              "      <th></th>\n",
              "      <th></th>\n",
              "      <th></th>\n",
              "      <th></th>\n",
              "      <th></th>\n",
              "      <th></th>\n",
              "      <th></th>\n",
              "      <th></th>\n",
              "      <th></th>\n",
              "      <th></th>\n",
              "      <th></th>\n",
              "      <th></th>\n",
              "      <th></th>\n",
              "      <th></th>\n",
              "      <th></th>\n",
              "      <th></th>\n",
              "      <th></th>\n",
              "      <th></th>\n",
              "      <th></th>\n",
              "      <th></th>\n",
              "      <th></th>\n",
              "      <th></th>\n",
              "      <th></th>\n",
              "      <th></th>\n",
              "      <th></th>\n",
              "      <th></th>\n",
              "      <th></th>\n",
              "      <th></th>\n",
              "      <th></th>\n",
              "      <th></th>\n",
              "      <th></th>\n",
              "      <th></th>\n",
              "      <th></th>\n",
              "      <th></th>\n",
              "    </tr>\n",
              "  </thead>\n",
              "  <tbody>\n",
              "    <tr>\n",
              "      <th>False</th>\n",
              "      <td>1</td>\n",
              "      <td>0</td>\n",
              "      <td>1</td>\n",
              "      <td>0</td>\n",
              "      <td>0</td>\n",
              "      <td>1</td>\n",
              "      <td>1</td>\n",
              "      <td>0</td>\n",
              "      <td>0</td>\n",
              "      <td>1</td>\n",
              "      <td>0</td>\n",
              "      <td>1</td>\n",
              "      <td>0</td>\n",
              "      <td>1</td>\n",
              "      <td>0</td>\n",
              "      <td>1</td>\n",
              "      <td>1</td>\n",
              "      <td>0</td>\n",
              "      <td>1</td>\n",
              "      <td>1</td>\n",
              "      <td>0</td>\n",
              "      <td>1</td>\n",
              "      <td>1</td>\n",
              "      <td>1</td>\n",
              "      <td>0</td>\n",
              "      <td>1</td>\n",
              "      <td>0</td>\n",
              "      <td>1</td>\n",
              "      <td>1</td>\n",
              "      <td>1</td>\n",
              "      <td>1</td>\n",
              "      <td>0</td>\n",
              "      <td>0</td>\n",
              "      <td>1</td>\n",
              "      <td>0</td>\n",
              "      <td>1</td>\n",
              "      <td>1</td>\n",
              "      <td>0</td>\n",
              "      <td>1</td>\n",
              "      <td>1</td>\n",
              "      <td>...</td>\n",
              "      <td>0</td>\n",
              "      <td>0</td>\n",
              "      <td>0</td>\n",
              "      <td>1</td>\n",
              "      <td>0</td>\n",
              "      <td>0</td>\n",
              "      <td>0</td>\n",
              "      <td>0</td>\n",
              "      <td>0</td>\n",
              "      <td>0</td>\n",
              "      <td>0</td>\n",
              "      <td>1</td>\n",
              "      <td>1</td>\n",
              "      <td>0</td>\n",
              "      <td>1</td>\n",
              "      <td>0</td>\n",
              "      <td>0</td>\n",
              "      <td>1</td>\n",
              "      <td>1</td>\n",
              "      <td>0</td>\n",
              "      <td>1</td>\n",
              "      <td>0</td>\n",
              "      <td>0</td>\n",
              "      <td>0</td>\n",
              "      <td>0</td>\n",
              "      <td>0</td>\n",
              "      <td>0</td>\n",
              "      <td>1</td>\n",
              "      <td>0</td>\n",
              "      <td>0</td>\n",
              "      <td>0</td>\n",
              "      <td>0</td>\n",
              "      <td>0</td>\n",
              "      <td>0</td>\n",
              "      <td>0</td>\n",
              "      <td>0</td>\n",
              "      <td>0</td>\n",
              "      <td>1</td>\n",
              "      <td>0</td>\n",
              "      <td>0</td>\n",
              "    </tr>\n",
              "    <tr>\n",
              "      <th>True</th>\n",
              "      <td>0</td>\n",
              "      <td>1</td>\n",
              "      <td>0</td>\n",
              "      <td>1</td>\n",
              "      <td>1</td>\n",
              "      <td>0</td>\n",
              "      <td>0</td>\n",
              "      <td>1</td>\n",
              "      <td>1</td>\n",
              "      <td>0</td>\n",
              "      <td>1</td>\n",
              "      <td>0</td>\n",
              "      <td>1</td>\n",
              "      <td>0</td>\n",
              "      <td>1</td>\n",
              "      <td>0</td>\n",
              "      <td>0</td>\n",
              "      <td>1</td>\n",
              "      <td>0</td>\n",
              "      <td>0</td>\n",
              "      <td>1</td>\n",
              "      <td>0</td>\n",
              "      <td>0</td>\n",
              "      <td>0</td>\n",
              "      <td>1</td>\n",
              "      <td>0</td>\n",
              "      <td>1</td>\n",
              "      <td>0</td>\n",
              "      <td>0</td>\n",
              "      <td>0</td>\n",
              "      <td>0</td>\n",
              "      <td>1</td>\n",
              "      <td>1</td>\n",
              "      <td>0</td>\n",
              "      <td>1</td>\n",
              "      <td>0</td>\n",
              "      <td>0</td>\n",
              "      <td>1</td>\n",
              "      <td>0</td>\n",
              "      <td>0</td>\n",
              "      <td>...</td>\n",
              "      <td>1</td>\n",
              "      <td>1</td>\n",
              "      <td>1</td>\n",
              "      <td>0</td>\n",
              "      <td>1</td>\n",
              "      <td>1</td>\n",
              "      <td>1</td>\n",
              "      <td>1</td>\n",
              "      <td>1</td>\n",
              "      <td>1</td>\n",
              "      <td>1</td>\n",
              "      <td>0</td>\n",
              "      <td>0</td>\n",
              "      <td>1</td>\n",
              "      <td>0</td>\n",
              "      <td>1</td>\n",
              "      <td>1</td>\n",
              "      <td>0</td>\n",
              "      <td>0</td>\n",
              "      <td>1</td>\n",
              "      <td>0</td>\n",
              "      <td>1</td>\n",
              "      <td>1</td>\n",
              "      <td>1</td>\n",
              "      <td>1</td>\n",
              "      <td>1</td>\n",
              "      <td>1</td>\n",
              "      <td>0</td>\n",
              "      <td>1</td>\n",
              "      <td>1</td>\n",
              "      <td>1</td>\n",
              "      <td>1</td>\n",
              "      <td>1</td>\n",
              "      <td>1</td>\n",
              "      <td>1</td>\n",
              "      <td>1</td>\n",
              "      <td>1</td>\n",
              "      <td>0</td>\n",
              "      <td>1</td>\n",
              "      <td>1</td>\n",
              "    </tr>\n",
              "  </tbody>\n",
              "</table>\n",
              "<p>2 rows × 1000 columns</p>\n",
              "</div>"
            ],
            "text/plain": [
              "time_on_site  0.000000     36.035974    ...  1008.371564  1045.664980\n",
              "purchased                               ...                          \n",
              "False                   1            0  ...            0            0\n",
              "True                    0            1  ...            1            1\n",
              "\n",
              "[2 rows x 1000 columns]"
            ]
          },
          "metadata": {
            "tags": []
          },
          "execution_count": 46
        }
      ]
    },
    {
      "cell_type": "code",
      "metadata": {
        "id": "hvAv6J3EwA9s",
        "colab_type": "code",
        "outputId": "edd64490-b4e7-4f85-a313-d36edd7e6ded",
        "colab": {
          "base_uri": "https://localhost:8080/",
          "height": 228
        }
      },
      "source": [
        "# OK, that's not quite what we want\n",
        "# Time is continuous! We need to put it in discrete buckets\n",
        "# Pandas calls these bins, and pandas.cut helps make them\n",
        "\n",
        "time_bins = pd.cut(user_data['time_on_site_min'], 5)  # 5 equal-sized bins\n",
        "pd.crosstab(time_bins, user_data['purchased'])"
      ],
      "execution_count": 54,
      "outputs": [
        {
          "output_type": "execute_result",
          "data": {
            "text/html": [
              "<div>\n",
              "<style scoped>\n",
              "    .dataframe tbody tr th:only-of-type {\n",
              "        vertical-align: middle;\n",
              "    }\n",
              "\n",
              "    .dataframe tbody tr th {\n",
              "        vertical-align: top;\n",
              "    }\n",
              "\n",
              "    .dataframe thead th {\n",
              "        text-align: right;\n",
              "    }\n",
              "</style>\n",
              "<table border=\"1\" class=\"dataframe\">\n",
              "  <thead>\n",
              "    <tr style=\"text-align: right;\">\n",
              "      <th>purchased</th>\n",
              "      <th>False</th>\n",
              "      <th>True</th>\n",
              "    </tr>\n",
              "    <tr>\n",
              "      <th>time_on_site_min</th>\n",
              "      <th></th>\n",
              "      <th></th>\n",
              "    </tr>\n",
              "  </thead>\n",
              "  <tbody>\n",
              "    <tr>\n",
              "      <th>(-0.0174, 3.486]</th>\n",
              "      <td>23</td>\n",
              "      <td>16</td>\n",
              "    </tr>\n",
              "    <tr>\n",
              "      <th>(3.486, 6.971]</th>\n",
              "      <td>165</td>\n",
              "      <td>148</td>\n",
              "    </tr>\n",
              "    <tr>\n",
              "      <th>(6.971, 10.457]</th>\n",
              "      <td>183</td>\n",
              "      <td>294</td>\n",
              "    </tr>\n",
              "    <tr>\n",
              "      <th>(10.457, 13.942]</th>\n",
              "      <td>58</td>\n",
              "      <td>96</td>\n",
              "    </tr>\n",
              "    <tr>\n",
              "      <th>(13.942, 17.428]</th>\n",
              "      <td>2</td>\n",
              "      <td>15</td>\n",
              "    </tr>\n",
              "  </tbody>\n",
              "</table>\n",
              "</div>"
            ],
            "text/plain": [
              "purchased         False  True \n",
              "time_on_site_min              \n",
              "(-0.0174, 3.486]     23     16\n",
              "(3.486, 6.971]      165    148\n",
              "(6.971, 10.457]     183    294\n",
              "(10.457, 13.942]     58     96\n",
              "(13.942, 17.428]      2     15"
            ]
          },
          "metadata": {
            "tags": []
          },
          "execution_count": 54
        }
      ]
    },
    {
      "cell_type": "code",
      "metadata": {
        "id": "emmsf7houj7-",
        "colab_type": "code",
        "colab": {}
      },
      "source": [
        "# above we haven't taken into account mobile or desktop\n"
      ],
      "execution_count": 0,
      "outputs": []
    },
    {
      "cell_type": "code",
      "metadata": {
        "id": "pjcXnJw0wfaj",
        "colab_type": "code",
        "outputId": "16be4675-0bd7-41c6-d130-7d79ac9122c9",
        "colab": {
          "base_uri": "https://localhost:8080/",
          "height": 228
        }
      },
      "source": [
        "# We can make this a bit clearer by normalizing (getting %)\n",
        "pd.crosstab(time_bins, user_data['purchased'], normalize='columns')"
      ],
      "execution_count": 53,
      "outputs": [
        {
          "output_type": "execute_result",
          "data": {
            "text/html": [
              "<div>\n",
              "<style scoped>\n",
              "    .dataframe tbody tr th:only-of-type {\n",
              "        vertical-align: middle;\n",
              "    }\n",
              "\n",
              "    .dataframe tbody tr th {\n",
              "        vertical-align: top;\n",
              "    }\n",
              "\n",
              "    .dataframe thead th {\n",
              "        text-align: right;\n",
              "    }\n",
              "</style>\n",
              "<table border=\"1\" class=\"dataframe\">\n",
              "  <thead>\n",
              "    <tr style=\"text-align: right;\">\n",
              "      <th>purchased</th>\n",
              "      <th>False</th>\n",
              "      <th>True</th>\n",
              "    </tr>\n",
              "    <tr>\n",
              "      <th>time_on_site_min</th>\n",
              "      <th></th>\n",
              "      <th></th>\n",
              "    </tr>\n",
              "  </thead>\n",
              "  <tbody>\n",
              "    <tr>\n",
              "      <th>(-0.0174, 3.486]</th>\n",
              "      <td>0.053364</td>\n",
              "      <td>0.028120</td>\n",
              "    </tr>\n",
              "    <tr>\n",
              "      <th>(3.486, 6.971]</th>\n",
              "      <td>0.382831</td>\n",
              "      <td>0.260105</td>\n",
              "    </tr>\n",
              "    <tr>\n",
              "      <th>(6.971, 10.457]</th>\n",
              "      <td>0.424594</td>\n",
              "      <td>0.516696</td>\n",
              "    </tr>\n",
              "    <tr>\n",
              "      <th>(10.457, 13.942]</th>\n",
              "      <td>0.134571</td>\n",
              "      <td>0.168717</td>\n",
              "    </tr>\n",
              "    <tr>\n",
              "      <th>(13.942, 17.428]</th>\n",
              "      <td>0.004640</td>\n",
              "      <td>0.026362</td>\n",
              "    </tr>\n",
              "  </tbody>\n",
              "</table>\n",
              "</div>"
            ],
            "text/plain": [
              "purchased            False     True \n",
              "time_on_site_min                    \n",
              "(-0.0174, 3.486]  0.053364  0.028120\n",
              "(3.486, 6.971]    0.382831  0.260105\n",
              "(6.971, 10.457]   0.424594  0.516696\n",
              "(10.457, 13.942]  0.134571  0.168717\n",
              "(13.942, 17.428]  0.004640  0.026362"
            ]
          },
          "metadata": {
            "tags": []
          },
          "execution_count": 53
        }
      ]
    },
    {
      "cell_type": "code",
      "metadata": {
        "id": "C3GzvDxlvZMa",
        "colab_type": "code",
        "outputId": "49d535db-174a-4fa5-ca56-d6b248b8fc03",
        "colab": {
          "base_uri": "https://localhost:8080/",
          "height": 138
        }
      },
      "source": [
        "# That seems counter to our hypothesis\n",
        "# More time on the site can actually have fewer purchases\n",
        "\n",
        "# But we know why, since we generated the data!\n",
        "# Let's look at mobile and purchased\n",
        "pd.crosstab(user_data['purchased'], user_data['mobile'], normalize='columns')"
      ],
      "execution_count": 55,
      "outputs": [
        {
          "output_type": "execute_result",
          "data": {
            "text/html": [
              "<div>\n",
              "<style scoped>\n",
              "    .dataframe tbody tr th:only-of-type {\n",
              "        vertical-align: middle;\n",
              "    }\n",
              "\n",
              "    .dataframe tbody tr th {\n",
              "        vertical-align: top;\n",
              "    }\n",
              "\n",
              "    .dataframe thead th {\n",
              "        text-align: right;\n",
              "    }\n",
              "</style>\n",
              "<table border=\"1\" class=\"dataframe\">\n",
              "  <thead>\n",
              "    <tr style=\"text-align: right;\">\n",
              "      <th>mobile</th>\n",
              "      <th>False</th>\n",
              "      <th>True</th>\n",
              "    </tr>\n",
              "    <tr>\n",
              "      <th>purchased</th>\n",
              "      <th></th>\n",
              "      <th></th>\n",
              "    </tr>\n",
              "  </thead>\n",
              "  <tbody>\n",
              "    <tr>\n",
              "      <th>False</th>\n",
              "      <td>0.54</td>\n",
              "      <td>0.394667</td>\n",
              "    </tr>\n",
              "    <tr>\n",
              "      <th>True</th>\n",
              "      <td>0.46</td>\n",
              "      <td>0.605333</td>\n",
              "    </tr>\n",
              "  </tbody>\n",
              "</table>\n",
              "</div>"
            ],
            "text/plain": [
              "mobile     False     True \n",
              "purchased                 \n",
              "False       0.54  0.394667\n",
              "True        0.46  0.605333"
            ]
          },
          "metadata": {
            "tags": []
          },
          "execution_count": 55
        }
      ]
    },
    {
      "cell_type": "code",
      "metadata": {
        "id": "KQb-wU60xCum",
        "colab_type": "code",
        "colab": {
          "base_uri": "https://localhost:8080/",
          "height": 258
        },
        "outputId": "d1b62633-42bb-4aa0-89ac-256799f00cf2"
      },
      "source": [
        "# Yep, mobile users are more likely to buy things\n",
        "# But we're still not seeing the *whole* story until we look at all 3 at once\n",
        "\n",
        "# Live/stretch goal - how can we do that?\n",
        "\n",
        "pd.crosstab(time_bins, [user_data['purchased'], user_data['mobile']], normalize='columns')"
      ],
      "execution_count": 63,
      "outputs": [
        {
          "output_type": "execute_result",
          "data": {
            "text/html": [
              "<div>\n",
              "<style scoped>\n",
              "    .dataframe tbody tr th:only-of-type {\n",
              "        vertical-align: middle;\n",
              "    }\n",
              "\n",
              "    .dataframe tbody tr th {\n",
              "        vertical-align: top;\n",
              "    }\n",
              "\n",
              "    .dataframe thead tr th {\n",
              "        text-align: left;\n",
              "    }\n",
              "\n",
              "    .dataframe thead tr:last-of-type th {\n",
              "        text-align: right;\n",
              "    }\n",
              "</style>\n",
              "<table border=\"1\" class=\"dataframe\">\n",
              "  <thead>\n",
              "    <tr>\n",
              "      <th>purchased</th>\n",
              "      <th colspan=\"2\" halign=\"left\">False</th>\n",
              "      <th colspan=\"2\" halign=\"left\">True</th>\n",
              "    </tr>\n",
              "    <tr>\n",
              "      <th>mobile</th>\n",
              "      <th>False</th>\n",
              "      <th>True</th>\n",
              "      <th>False</th>\n",
              "      <th>True</th>\n",
              "    </tr>\n",
              "    <tr>\n",
              "      <th>time_on_site_min</th>\n",
              "      <th></th>\n",
              "      <th></th>\n",
              "      <th></th>\n",
              "      <th></th>\n",
              "    </tr>\n",
              "  </thead>\n",
              "  <tbody>\n",
              "    <tr>\n",
              "      <th>(-0.0174, 3.486]</th>\n",
              "      <td>0.044444</td>\n",
              "      <td>0.057432</td>\n",
              "      <td>0.008696</td>\n",
              "      <td>0.033040</td>\n",
              "    </tr>\n",
              "    <tr>\n",
              "      <th>(3.486, 6.971]</th>\n",
              "      <td>0.185185</td>\n",
              "      <td>0.472973</td>\n",
              "      <td>0.130435</td>\n",
              "      <td>0.292952</td>\n",
              "    </tr>\n",
              "    <tr>\n",
              "      <th>(6.971, 10.457]</th>\n",
              "      <td>0.481481</td>\n",
              "      <td>0.398649</td>\n",
              "      <td>0.478261</td>\n",
              "      <td>0.526432</td>\n",
              "    </tr>\n",
              "    <tr>\n",
              "      <th>(10.457, 13.942]</th>\n",
              "      <td>0.274074</td>\n",
              "      <td>0.070946</td>\n",
              "      <td>0.260870</td>\n",
              "      <td>0.145374</td>\n",
              "    </tr>\n",
              "    <tr>\n",
              "      <th>(13.942, 17.428]</th>\n",
              "      <td>0.014815</td>\n",
              "      <td>0.000000</td>\n",
              "      <td>0.121739</td>\n",
              "      <td>0.002203</td>\n",
              "    </tr>\n",
              "  </tbody>\n",
              "</table>\n",
              "</div>"
            ],
            "text/plain": [
              "purchased            False               True           \n",
              "mobile               False     True      False     True \n",
              "time_on_site_min                                        \n",
              "(-0.0174, 3.486]  0.044444  0.057432  0.008696  0.033040\n",
              "(3.486, 6.971]    0.185185  0.472973  0.130435  0.292952\n",
              "(6.971, 10.457]   0.481481  0.398649  0.478261  0.526432\n",
              "(10.457, 13.942]  0.274074  0.070946  0.260870  0.145374\n",
              "(13.942, 17.428]  0.014815  0.000000  0.121739  0.002203"
            ]
          },
          "metadata": {
            "tags": []
          },
          "execution_count": 63
        }
      ]
    },
    {
      "cell_type": "markdown",
      "metadata": {
        "id": "HhR5CslOzdxz",
        "colab_type": "text"
      },
      "source": [
        "## Stanford Open Police Project"
      ]
    },
    {
      "cell_type": "code",
      "metadata": {
        "id": "CywcD2HwzkNI",
        "colab_type": "code",
        "colab": {
          "base_uri": "https://localhost:8080/",
          "height": 72
        },
        "outputId": "1cc03bd5-2ba9-475f-f9b0-97da24f99645"
      },
      "source": [
        "!unzip tr137st9964_tx_austin_2019_02_25.csv.zip\n",
        "!ls"
      ],
      "execution_count": 65,
      "outputs": [
        {
          "output_type": "stream",
          "text": [
            "Archive:  tr137st9964_tx_austin_2019_02_25.csv.zip\n",
            "  inflating: share/data/opp-for-archive/tx_austin_2019_02_25.csv  \n",
            "sample_data  share  tr137st9964_tx_austin_2019_02_25.csv.zip\n"
          ],
          "name": "stdout"
        }
      ]
    },
    {
      "cell_type": "code",
      "metadata": {
        "id": "8jHB_z041UQj",
        "colab_type": "code",
        "colab": {
          "base_uri": "https://localhost:8080/",
          "height": 72
        },
        "outputId": "df7892a3-fa5a-443b-c176-aec1343a438d"
      },
      "source": [
        "%%time\n",
        "df = pd.read_csv('./share/data/opp-for-archive/tx_austin_2019_02_25.csv')\n",
        "print(df.shape)\n"
      ],
      "execution_count": 66,
      "outputs": [
        {
          "output_type": "stream",
          "text": [
            "(435222, 20)\n",
            "CPU times: user 1.82 s, sys: 199 ms, total: 2.02 s\n",
            "Wall time: 2.02 s\n"
          ],
          "name": "stdout"
        }
      ]
    },
    {
      "cell_type": "code",
      "metadata": {
        "id": "CLESbZuK15Ft",
        "colab_type": "code",
        "colab": {
          "base_uri": "https://localhost:8080/",
          "height": 374
        },
        "outputId": "5454d5b1-90d1-4965-cefd-32fe0e22f5fa"
      },
      "source": [
        "df.head()"
      ],
      "execution_count": 67,
      "outputs": [
        {
          "output_type": "execute_result",
          "data": {
            "text/html": [
              "<div>\n",
              "<style scoped>\n",
              "    .dataframe tbody tr th:only-of-type {\n",
              "        vertical-align: middle;\n",
              "    }\n",
              "\n",
              "    .dataframe tbody tr th {\n",
              "        vertical-align: top;\n",
              "    }\n",
              "\n",
              "    .dataframe thead th {\n",
              "        text-align: right;\n",
              "    }\n",
              "</style>\n",
              "<table border=\"1\" class=\"dataframe\">\n",
              "  <thead>\n",
              "    <tr style=\"text-align: right;\">\n",
              "      <th></th>\n",
              "      <th>raw_row_number</th>\n",
              "      <th>date</th>\n",
              "      <th>subject_age</th>\n",
              "      <th>subject_race</th>\n",
              "      <th>subject_sex</th>\n",
              "      <th>officer_id_hash</th>\n",
              "      <th>type</th>\n",
              "      <th>contraband_found</th>\n",
              "      <th>contraband_drugs</th>\n",
              "      <th>contraband_weapons</th>\n",
              "      <th>frisk_performed</th>\n",
              "      <th>search_conducted</th>\n",
              "      <th>search_person</th>\n",
              "      <th>search_vehicle</th>\n",
              "      <th>search_basis</th>\n",
              "      <th>reason_for_stop</th>\n",
              "      <th>vehicle_make</th>\n",
              "      <th>vehicle_model</th>\n",
              "      <th>vehicle_registration_state</th>\n",
              "      <th>vehicle_year</th>\n",
              "    </tr>\n",
              "  </thead>\n",
              "  <tbody>\n",
              "    <tr>\n",
              "      <th>0</th>\n",
              "      <td>141</td>\n",
              "      <td>2006-01-07</td>\n",
              "      <td>53.0</td>\n",
              "      <td>white</td>\n",
              "      <td>female</td>\n",
              "      <td>59c9092a79</td>\n",
              "      <td>vehicular</td>\n",
              "      <td>NaN</td>\n",
              "      <td>NaN</td>\n",
              "      <td>NaN</td>\n",
              "      <td>NaN</td>\n",
              "      <td>True</td>\n",
              "      <td>True</td>\n",
              "      <td>True</td>\n",
              "      <td>probable cause</td>\n",
              "      <td>VIOLATION OF TRANSPORTATION/VEHICLE LAWS</td>\n",
              "      <td>STRN</td>\n",
              "      <td>NaN</td>\n",
              "      <td>TX</td>\n",
              "      <td>1996.0</td>\n",
              "    </tr>\n",
              "    <tr>\n",
              "      <th>1</th>\n",
              "      <td>4819</td>\n",
              "      <td>2006-03-21</td>\n",
              "      <td>21.0</td>\n",
              "      <td>white</td>\n",
              "      <td>male</td>\n",
              "      <td>46f8ed46eb</td>\n",
              "      <td>vehicular</td>\n",
              "      <td>NaN</td>\n",
              "      <td>NaN</td>\n",
              "      <td>NaN</td>\n",
              "      <td>NaN</td>\n",
              "      <td>False</td>\n",
              "      <td>False</td>\n",
              "      <td>False</td>\n",
              "      <td>NaN</td>\n",
              "      <td>VIOLATION OF TRANSPORTATION/VEHICLE LAWS</td>\n",
              "      <td>CADI</td>\n",
              "      <td>NaN</td>\n",
              "      <td>TX</td>\n",
              "      <td>2000.0</td>\n",
              "    </tr>\n",
              "    <tr>\n",
              "      <th>2</th>\n",
              "      <td>4820</td>\n",
              "      <td>2006-03-21</td>\n",
              "      <td>43.0</td>\n",
              "      <td>black</td>\n",
              "      <td>female</td>\n",
              "      <td>0d1d4fb150</td>\n",
              "      <td>vehicular</td>\n",
              "      <td>NaN</td>\n",
              "      <td>NaN</td>\n",
              "      <td>NaN</td>\n",
              "      <td>NaN</td>\n",
              "      <td>False</td>\n",
              "      <td>False</td>\n",
              "      <td>False</td>\n",
              "      <td>NaN</td>\n",
              "      <td>VIOLATION OF TRANSPORTATION/VEHICLE LAWS</td>\n",
              "      <td>KIA</td>\n",
              "      <td>NaN</td>\n",
              "      <td>TX</td>\n",
              "      <td>2003.0</td>\n",
              "    </tr>\n",
              "    <tr>\n",
              "      <th>3</th>\n",
              "      <td>4821</td>\n",
              "      <td>2006-04-20</td>\n",
              "      <td>46.0</td>\n",
              "      <td>hispanic</td>\n",
              "      <td>male</td>\n",
              "      <td>c70bca9788</td>\n",
              "      <td>NaN</td>\n",
              "      <td>NaN</td>\n",
              "      <td>NaN</td>\n",
              "      <td>NaN</td>\n",
              "      <td>NaN</td>\n",
              "      <td>False</td>\n",
              "      <td>False</td>\n",
              "      <td>False</td>\n",
              "      <td>NaN</td>\n",
              "      <td>VIOLATION OF CITY ORDINANCE</td>\n",
              "      <td>KW</td>\n",
              "      <td>NaN</td>\n",
              "      <td>TX</td>\n",
              "      <td>1994.0</td>\n",
              "    </tr>\n",
              "    <tr>\n",
              "      <th>4</th>\n",
              "      <td>4822</td>\n",
              "      <td>2006-03-21</td>\n",
              "      <td>25.0</td>\n",
              "      <td>white</td>\n",
              "      <td>male</td>\n",
              "      <td>e3f693e058</td>\n",
              "      <td>vehicular</td>\n",
              "      <td>NaN</td>\n",
              "      <td>NaN</td>\n",
              "      <td>NaN</td>\n",
              "      <td>NaN</td>\n",
              "      <td>False</td>\n",
              "      <td>False</td>\n",
              "      <td>False</td>\n",
              "      <td>NaN</td>\n",
              "      <td>VIOLATION OF TRANSPORTATION/VEHICLE LAWS</td>\n",
              "      <td>GMC</td>\n",
              "      <td>NaN</td>\n",
              "      <td>TX</td>\n",
              "      <td>2002.0</td>\n",
              "    </tr>\n",
              "  </tbody>\n",
              "</table>\n",
              "</div>"
            ],
            "text/plain": [
              "  raw_row_number        date  ...  vehicle_registration_state vehicle_year\n",
              "0            141  2006-01-07  ...                          TX       1996.0\n",
              "1           4819  2006-03-21  ...                          TX       2000.0\n",
              "2           4820  2006-03-21  ...                          TX       2003.0\n",
              "3           4821  2006-04-20  ...                          TX       1994.0\n",
              "4           4822  2006-03-21  ...                          TX       2002.0\n",
              "\n",
              "[5 rows x 20 columns]"
            ]
          },
          "metadata": {
            "tags": []
          },
          "execution_count": 67
        }
      ]
    },
    {
      "cell_type": "code",
      "metadata": {
        "id": "l4Mjepka2bXD",
        "colab_type": "code",
        "colab": {
          "base_uri": "https://localhost:8080/",
          "height": 399
        },
        "outputId": "b9366bfa-a1ed-435f-de59-5b746d428787"
      },
      "source": [
        "df.isna().sum()"
      ],
      "execution_count": 69,
      "outputs": [
        {
          "output_type": "execute_result",
          "data": {
            "text/plain": [
              "raw_row_number                     0\n",
              "date                               0\n",
              "subject_age                    14767\n",
              "subject_race                    2146\n",
              "subject_sex                     7748\n",
              "officer_id_hash                    0\n",
              "type                           80175\n",
              "contraband_found              427515\n",
              "contraband_drugs              429512\n",
              "contraband_weapons            429078\n",
              "frisk_performed               422843\n",
              "search_conducted               76844\n",
              "search_person                  44596\n",
              "search_vehicle                 73062\n",
              "search_basis                  419155\n",
              "reason_for_stop                    5\n",
              "vehicle_make                    9396\n",
              "vehicle_model                 297026\n",
              "vehicle_registration_state     13040\n",
              "vehicle_year                  110886\n",
              "dtype: int64"
            ]
          },
          "metadata": {
            "tags": []
          },
          "execution_count": 69
        }
      ]
    },
    {
      "cell_type": "code",
      "metadata": {
        "id": "-ZFoXjdX4j_l",
        "colab_type": "code",
        "colab": {
          "base_uri": "https://localhost:8080/",
          "height": 54
        },
        "outputId": "2cd7a0dc-7215-4d80-fcf6-8c50c4983f61"
      },
      "source": [
        "df['type'].value_counts()"
      ],
      "execution_count": 82,
      "outputs": [
        {
          "output_type": "execute_result",
          "data": {
            "text/plain": [
              "vehicular    355047\n",
              "Name: type, dtype: int64"
            ]
          },
          "metadata": {
            "tags": []
          },
          "execution_count": 82
        }
      ]
    },
    {
      "cell_type": "code",
      "metadata": {
        "id": "C0vuZv4f2rSQ",
        "colab_type": "code",
        "colab": {
          "base_uri": "https://localhost:8080/",
          "height": 217
        },
        "outputId": "8be47aca-1831-4ef2-d713-73055cd4919d"
      },
      "source": [
        "df['vehicle_make'].value_counts(normalize=True).head(10)  #normalize gives a percent, head(10) shows us the top 10"
      ],
      "execution_count": 75,
      "outputs": [
        {
          "output_type": "execute_result",
          "data": {
            "text/plain": [
              "FORD    0.121042\n",
              "CHEV    0.116792\n",
              "TOYT    0.088987\n",
              "HOND    0.080448\n",
              "NISS    0.055123\n",
              "DODG    0.047362\n",
              "MAZD    0.030956\n",
              "JEEP    0.021330\n",
              "HYUN    0.018980\n",
              "BUIC    0.018893\n",
              "Name: vehicle_make, dtype: float64"
            ]
          },
          "metadata": {
            "tags": []
          },
          "execution_count": 75
        }
      ]
    },
    {
      "cell_type": "code",
      "metadata": {
        "id": "RwzTy9E-4D30",
        "colab_type": "code",
        "colab": {
          "base_uri": "https://localhost:8080/",
          "height": 72
        },
        "outputId": "59cee4bf-1abd-4145-9d10-a3c7a6ec05ed"
      },
      "source": [
        "df[df['vehicle_make'] == 'FORD']['subject_sex'].value_counts()"
      ],
      "execution_count": 85,
      "outputs": [
        {
          "output_type": "execute_result",
          "data": {
            "text/plain": [
              "male      35921\n",
              "female    14586\n",
              "Name: subject_sex, dtype: int64"
            ]
          },
          "metadata": {
            "tags": []
          },
          "execution_count": 85
        }
      ]
    },
    {
      "cell_type": "code",
      "metadata": {
        "id": "V69R1tE93gHx",
        "colab_type": "code",
        "colab": {
          "base_uri": "https://localhost:8080/",
          "height": 1000
        },
        "outputId": "2bb30c2b-3f7c-4e2b-cd38-be91be11f1e6"
      },
      "source": [
        "df['reason_for_stop'].value_counts()"
      ],
      "execution_count": 76,
      "outputs": [
        {
          "output_type": "execute_result",
          "data": {
            "text/plain": [
              "VIOLATION OF TRANSPORTATION/VEHICLE LAWS                                                                                               339565\n",
              "OTHER                                                                                                                                   32567\n",
              "VIOLATION OF CITY ORDINANCE                                                                                                             29834\n",
              "CALL FOR SERVICE                                                                                                                        13751\n",
              "SUSPICIOUS PERSON / VEHICLE                                                                                                             13118\n",
              "WATER SAFETY ACT                                                                                                                         2457\n",
              "PRE-EXISTING KNOWLEDGE                                                                                                                   1393\n",
              "VIOLATION OF PENAL CODE                                                                                                                  1014\n",
              "CONSENSUAL CONTACT                                                                                                                        535\n",
              "MOTOR VEHICLE DRIVER                                                                                                                      370\n",
              "VIOLATION OF TRANSPORTATION/VEHICLE LAWS|VIOLATION OF PENAL CODE                                                                          114\n",
              "OTHER|MOTOR VEHICLE DRIVER                                                                                                                 90\n",
              "SUSPICIOUS PERSON / VEHICLE|CALL FOR SERVICE                                                                                               88\n",
              "VIOLATION OF TRANSPORTATION/VEHICLE LAWS|MOTOR VEHICLE DRIVER                                                                              61\n",
              "VIOLATION OF TRANSPORTATION/VEHICLE LAWS|SUSPICIOUS PERSON / VEHICLE                                                                       50\n",
              "VIOLATION OF TRANSPORTATION/VEHICLE LAWS|VIOLATION OF CITY ORDINANCE                                                                       39\n",
              "VIOLATION OF TRANSPORTATION/VEHICLE LAWS|CALL FOR SERVICE                                                                                  23\n",
              "VIOLATION OF TRANSPORTATION/VEHICLE LAWS|OTHER                                                                                             20\n",
              "SUSPICIOUS PERSON / VEHICLE|VIOLATION OF CITY ORDINANCE                                                                                    14\n",
              "SUSPICIOUS PERSON / VEHICLE|PRE-EXISTING KNOWLEDGE                                                                                         12\n",
              "VIOLATION OF TRANSPORTATION/VEHICLE LAWS|PRE-EXISTING KNOWLEDGE                                                                            11\n",
              "SUSPICIOUS PERSON / VEHICLE|OTHER                                                                                                          11\n",
              "PRE-EXISTING KNOWLEDGE|VIOLATION OF CITY ORDINANCE                                                                                          7\n",
              "CONSENSUAL CONTACT|SUSPICIOUS PERSON / VEHICLE                                                                                              7\n",
              "CALL FOR SERVICE|PRE-EXISTING KNOWLEDGE                                                                                                     5\n",
              "VIOLATION OF TRANSPORTATION/VEHICLE LAWS|WATER SAFETY ACT                                                                                   5\n",
              "VIOLATION OF CITY ORDINANCE|OTHER                                                                                                           5\n",
              "VIOLATION OF TRANSPORTATION/VEHICLE LAWS|SUSPICIOUS PERSON / VEHICLE|CALL FOR SERVICE                                                       4\n",
              "VIOLATION OF CITY ORDINANCE|WATER SAFETY ACT                                                                                                4\n",
              "VIOLATION OF TRANSPORTATION/VEHICLE LAWS|SUSPICIOUS PERSON / VEHICLE|OTHER                                                                  3\n",
              "                                                                                                                                        ...  \n",
              "CALL FOR SERVICE|VIOLATION OF CITY ORDINANCE                                                                                                3\n",
              "CALL FOR SERVICE|OTHER                                                                                                                      3\n",
              "CONSENSUAL CONTACT|CALL FOR SERVICE                                                                                                         2\n",
              "SUSPICIOUS PERSON / VEHICLE|CALL FOR SERVICE|VIOLATION OF CITY ORDINANCE                                                                    2\n",
              "CALL FOR SERVICE|WATER SAFETY ACT                                                                                                           2\n",
              "VIOLATION OF TRANSPORTATION/VEHICLE LAWS|SUSPICIOUS PERSON / VEHICLE|MOTOR VEHICLE DRIVER                                                   1\n",
              "CONSENSUAL CONTACT|SUSPICIOUS PERSON / VEHICLE|CALL FOR SERVICE                                                                             1\n",
              "CONSENSUAL CONTACT|PRE-EXISTING KNOWLEDGE                                                                                                   1\n",
              "VIOLATION OF PENAL CODE|OTHER|MOTOR VEHICLE DRIVER                                                                                          1\n",
              "VIOLATION OF TRANSPORTATION/VEHICLE LAWS|CONSENSUAL CONTACT|CALL FOR SERVICE                                                                1\n",
              "VIOLATION OF CITY ORDINANCE|MOTOR VEHICLE DRIVER                                                                                            1\n",
              "CALL FOR SERVICE|PRE-EXISTING KNOWLEDGE|MOTOR VEHICLE DRIVER                                                                                1\n",
              "PRE-EXISTING KNOWLEDGE|MOTOR VEHICLE DRIVER                                                                                                 1\n",
              "VIOLATION OF CITY ORDINANCE|OTHER|WATER SAFETY ACT                                                                                          1\n",
              "VIOLATION OF PENAL CODE|VIOLATION OF CITY ORDINANCE                                                                                         1\n",
              "CALL FOR SERVICE|MOTOR VEHICLE DRIVER                                                                                                       1\n",
              "PRE-EXISTING KNOWLEDGE|OTHER                                                                                                                1\n",
              "NA|VIOLATION OF TRANSPORTATION/VEHICLE LAWS|NA|CONSENSUAL CONTACT|VIOLATION OF TRANSPORTATION/VEHICLE LAWS|PRE-EXISTING KNOWLEDGE           1\n",
              "VIOLATION OF PENAL CODE|PRE-EXISTING KNOWLEDGE                                                                                              1\n",
              "VIOLATION OF PENAL CODE|CALL FOR SERVICE                                                                                                    1\n",
              "CONSENSUAL CONTACT|MOTOR VEHICLE DRIVER                                                                                                     1\n",
              "VIOLATION OF TRANSPORTATION/VEHICLE LAWS|CALL FOR SERVICE|PRE-EXISTING KNOWLEDGE                                                            1\n",
              "NA|VIOLATION OF PENAL CODE|VIOLATION OF TRANSPORTATION/VEHICLE LAWS|PRE-EXISTING KNOWLEDGE|VIOLATION OF PENAL CODE|WATER SAFETY ACT         1\n",
              "SUSPICIOUS PERSON / VEHICLE|MOTOR VEHICLE DRIVER                                                                                            1\n",
              "CONSENSUAL CONTACT|SUSPICIOUS PERSON / VEHICLE|PRE-EXISTING KNOWLEDGE                                                                       1\n",
              "CONSENSUAL CONTACT|OTHER                                                                                                                    1\n",
              "SUSPICIOUS PERSON / VEHICLE|VIOLATION OF CITY ORDINANCE|OTHER                                                                               1\n",
              "OTHER|WATER SAFETY ACT                                                                                                                      1\n",
              "VIOLATION OF TRANSPORTATION/VEHICLE LAWS|SUSPICIOUS PERSON / VEHICLE|PRE-EXISTING KNOWLEDGE                                                 1\n",
              "SUSPICIOUS PERSON / VEHICLE|PRE-EXISTING KNOWLEDGE|OTHER                                                                                    1\n",
              "Name: reason_for_stop, Length: 61, dtype: int64"
            ]
          },
          "metadata": {
            "tags": []
          },
          "execution_count": 76
        }
      ]
    },
    {
      "cell_type": "code",
      "metadata": {
        "id": "Q2YYIdgu43sL",
        "colab_type": "code",
        "colab": {
          "base_uri": "https://localhost:8080/",
          "height": 216
        },
        "outputId": "136f4dec-f7dc-4672-ec2c-3e406ce48ad0"
      },
      "source": [
        "df = pd.DataFrame({'a': np.arange(1e6),\n",
        "                  'b': 2*np.arange(1e6)})\n",
        "print(df.shape)\n",
        "df.head()"
      ],
      "execution_count": 87,
      "outputs": [
        {
          "output_type": "stream",
          "text": [
            "(1000000, 2)\n"
          ],
          "name": "stdout"
        },
        {
          "output_type": "execute_result",
          "data": {
            "text/html": [
              "<div>\n",
              "<style scoped>\n",
              "    .dataframe tbody tr th:only-of-type {\n",
              "        vertical-align: middle;\n",
              "    }\n",
              "\n",
              "    .dataframe tbody tr th {\n",
              "        vertical-align: top;\n",
              "    }\n",
              "\n",
              "    .dataframe thead th {\n",
              "        text-align: right;\n",
              "    }\n",
              "</style>\n",
              "<table border=\"1\" class=\"dataframe\">\n",
              "  <thead>\n",
              "    <tr style=\"text-align: right;\">\n",
              "      <th></th>\n",
              "      <th>a</th>\n",
              "      <th>b</th>\n",
              "    </tr>\n",
              "  </thead>\n",
              "  <tbody>\n",
              "    <tr>\n",
              "      <th>0</th>\n",
              "      <td>0.0</td>\n",
              "      <td>0.0</td>\n",
              "    </tr>\n",
              "    <tr>\n",
              "      <th>1</th>\n",
              "      <td>1.0</td>\n",
              "      <td>2.0</td>\n",
              "    </tr>\n",
              "    <tr>\n",
              "      <th>2</th>\n",
              "      <td>2.0</td>\n",
              "      <td>4.0</td>\n",
              "    </tr>\n",
              "    <tr>\n",
              "      <th>3</th>\n",
              "      <td>3.0</td>\n",
              "      <td>6.0</td>\n",
              "    </tr>\n",
              "    <tr>\n",
              "      <th>4</th>\n",
              "      <td>4.0</td>\n",
              "      <td>8.0</td>\n",
              "    </tr>\n",
              "  </tbody>\n",
              "</table>\n",
              "</div>"
            ],
            "text/plain": [
              "     a    b\n",
              "0  0.0  0.0\n",
              "1  1.0  2.0\n",
              "2  2.0  4.0\n",
              "3  3.0  6.0\n",
              "4  4.0  8.0"
            ]
          },
          "metadata": {
            "tags": []
          },
          "execution_count": 87
        }
      ]
    },
    {
      "cell_type": "code",
      "metadata": {
        "id": "7q9CeNAK5NyM",
        "colab_type": "code",
        "colab": {
          "base_uri": "https://localhost:8080/",
          "height": 35
        },
        "outputId": "fa6bb22d-8a69-46c5-d05a-4c4c99fa864b"
      },
      "source": [
        "%timeit df['c'] = df['a'] ** 2"
      ],
      "execution_count": 88,
      "outputs": [
        {
          "output_type": "stream",
          "text": [
            "100 loops, best of 3: 15.9 ms per loop\n"
          ],
          "name": "stdout"
        }
      ]
    },
    {
      "cell_type": "code",
      "metadata": {
        "id": "R1oRXruu5kd9",
        "colab_type": "code",
        "colab": {
          "base_uri": "https://localhost:8080/",
          "height": 35
        },
        "outputId": "327fe531-cb80-45ec-fb77-0e1490bf5908"
      },
      "source": [
        "%timeit df['c2'] = df['a'].apply(lambda x: x**2)\n",
        "\n",
        "# if you were working with a larger data set, this time \n",
        "# difference would be much more impactful "
      ],
      "execution_count": 93,
      "outputs": [
        {
          "output_type": "stream",
          "text": [
            "1 loop, best of 3: 310 ms per loop\n"
          ],
          "name": "stdout"
        }
      ]
    },
    {
      "cell_type": "code",
      "metadata": {
        "id": "4S4oCY3Z7bbl",
        "colab_type": "code",
        "colab": {
          "base_uri": "https://localhost:8080/",
          "height": 108
        },
        "outputId": "5de69560-2c0c-499f-af8d-7f265192351c"
      },
      "source": [
        "from tqdm import tqdm # this gives you a progress bar functionality! \n",
        "tqdm.pandas()\n",
        "%timeit df['c2'] = df['a'].progress_apply(lambda x: x**2)"
      ],
      "execution_count": 95,
      "outputs": [
        {
          "output_type": "stream",
          "text": [
            "100%|██████████| 1000000/1000000 [00:01<00:00, 701365.64it/s]\n",
            "100%|██████████| 1000000/1000000 [00:01<00:00, 700454.49it/s]\n",
            "100%|██████████| 1000000/1000000 [00:01<00:00, 700749.75it/s]\n",
            "100%|██████████| 1000000/1000000 [00:01<00:00, 710798.39it/s]"
          ],
          "name": "stderr"
        },
        {
          "output_type": "stream",
          "text": [
            "1 loop, best of 3: 1.42 s per loop\n"
          ],
          "name": "stdout"
        },
        {
          "output_type": "stream",
          "text": [
            "\n"
          ],
          "name": "stderr"
        }
      ]
    },
    {
      "cell_type": "code",
      "metadata": {
        "id": "7AoMgdf77cSg",
        "colab_type": "code",
        "colab": {}
      },
      "source": [
        ""
      ],
      "execution_count": 0,
      "outputs": []
    },
    {
      "cell_type": "code",
      "metadata": {
        "id": "yWyRJLJR5XoR",
        "colab_type": "code",
        "colab": {
          "base_uri": "https://localhost:8080/",
          "height": 198
        },
        "outputId": "0f438e3b-a2b9-4fe4-b8ed-b92a66bbb13b"
      },
      "source": [
        "df.head()"
      ],
      "execution_count": 91,
      "outputs": [
        {
          "output_type": "execute_result",
          "data": {
            "text/html": [
              "<div>\n",
              "<style scoped>\n",
              "    .dataframe tbody tr th:only-of-type {\n",
              "        vertical-align: middle;\n",
              "    }\n",
              "\n",
              "    .dataframe tbody tr th {\n",
              "        vertical-align: top;\n",
              "    }\n",
              "\n",
              "    .dataframe thead th {\n",
              "        text-align: right;\n",
              "    }\n",
              "</style>\n",
              "<table border=\"1\" class=\"dataframe\">\n",
              "  <thead>\n",
              "    <tr style=\"text-align: right;\">\n",
              "      <th></th>\n",
              "      <th>a</th>\n",
              "      <th>b</th>\n",
              "      <th>c</th>\n",
              "      <th>c2</th>\n",
              "    </tr>\n",
              "  </thead>\n",
              "  <tbody>\n",
              "    <tr>\n",
              "      <th>0</th>\n",
              "      <td>0.0</td>\n",
              "      <td>0.0</td>\n",
              "      <td>0.0</td>\n",
              "      <td>0.0</td>\n",
              "    </tr>\n",
              "    <tr>\n",
              "      <th>1</th>\n",
              "      <td>1.0</td>\n",
              "      <td>2.0</td>\n",
              "      <td>1.0</td>\n",
              "      <td>1.0</td>\n",
              "    </tr>\n",
              "    <tr>\n",
              "      <th>2</th>\n",
              "      <td>2.0</td>\n",
              "      <td>4.0</td>\n",
              "      <td>4.0</td>\n",
              "      <td>4.0</td>\n",
              "    </tr>\n",
              "    <tr>\n",
              "      <th>3</th>\n",
              "      <td>3.0</td>\n",
              "      <td>6.0</td>\n",
              "      <td>9.0</td>\n",
              "      <td>9.0</td>\n",
              "    </tr>\n",
              "    <tr>\n",
              "      <th>4</th>\n",
              "      <td>4.0</td>\n",
              "      <td>8.0</td>\n",
              "      <td>16.0</td>\n",
              "      <td>16.0</td>\n",
              "    </tr>\n",
              "  </tbody>\n",
              "</table>\n",
              "</div>"
            ],
            "text/plain": [
              "     a    b     c    c2\n",
              "0  0.0  0.0   0.0   0.0\n",
              "1  1.0  2.0   1.0   1.0\n",
              "2  2.0  4.0   4.0   4.0\n",
              "3  3.0  6.0   9.0   9.0\n",
              "4  4.0  8.0  16.0  16.0"
            ]
          },
          "metadata": {
            "tags": []
          },
          "execution_count": 91
        }
      ]
    },
    {
      "cell_type": "markdown",
      "metadata": {
        "id": "lOqaPds9huME",
        "colab_type": "text"
      },
      "source": [
        "## Assignment - what's going on here?\n",
        "\n",
        "Consider the data in `persons.csv` (already prepared for you, in the repo for the week). It has four columns - a unique id, followed by age (in years), weight (in lbs), and exercise time (in minutes/week) of 1200 (hypothetical) people.\n",
        "\n",
        "Try to figure out which variables are possibly related to each other, and which may be confounding relationships."
      ]
    },
    {
      "cell_type": "code",
      "metadata": {
        "id": "TGUS79cOhPWj",
        "colab_type": "code",
        "colab": {}
      },
      "source": [
        "# TODO - your code here\n",
        "# Use what we did live in lecture as an example\n",
        "\n",
        "# HINT - you can find the raw URL on GitHub and potentially use that\n",
        "# to load the data with read_csv, or you can upload it yourself"
      ],
      "execution_count": 0,
      "outputs": []
    },
    {
      "cell_type": "code",
      "metadata": {
        "id": "7Oa9ZT32y03c",
        "colab_type": "code",
        "colab": {
          "base_uri": "https://localhost:8080/",
          "height": 216
        },
        "outputId": "46b20dba-f522-490c-d49b-0764b87e49b6"
      },
      "source": [
        "df = pd.read_csv('https://raw.githubusercontent.com/lechemrc/DS-Unit-1-Sprint-1-Dealing-With-Data/master/module3-databackedassertions/persons.csv', )\n",
        "print(df.shape)\n",
        "df.head()"
      ],
      "execution_count": 64,
      "outputs": [
        {
          "output_type": "stream",
          "text": [
            "(1200, 4)\n"
          ],
          "name": "stdout"
        },
        {
          "output_type": "execute_result",
          "data": {
            "text/html": [
              "<div>\n",
              "<style scoped>\n",
              "    .dataframe tbody tr th:only-of-type {\n",
              "        vertical-align: middle;\n",
              "    }\n",
              "\n",
              "    .dataframe tbody tr th {\n",
              "        vertical-align: top;\n",
              "    }\n",
              "\n",
              "    .dataframe thead th {\n",
              "        text-align: right;\n",
              "    }\n",
              "</style>\n",
              "<table border=\"1\" class=\"dataframe\">\n",
              "  <thead>\n",
              "    <tr style=\"text-align: right;\">\n",
              "      <th></th>\n",
              "      <th>Unnamed: 0</th>\n",
              "      <th>age</th>\n",
              "      <th>weight</th>\n",
              "      <th>exercise_time</th>\n",
              "    </tr>\n",
              "  </thead>\n",
              "  <tbody>\n",
              "    <tr>\n",
              "      <th>0</th>\n",
              "      <td>0</td>\n",
              "      <td>44</td>\n",
              "      <td>118</td>\n",
              "      <td>192</td>\n",
              "    </tr>\n",
              "    <tr>\n",
              "      <th>1</th>\n",
              "      <td>1</td>\n",
              "      <td>41</td>\n",
              "      <td>161</td>\n",
              "      <td>35</td>\n",
              "    </tr>\n",
              "    <tr>\n",
              "      <th>2</th>\n",
              "      <td>2</td>\n",
              "      <td>46</td>\n",
              "      <td>128</td>\n",
              "      <td>220</td>\n",
              "    </tr>\n",
              "    <tr>\n",
              "      <th>3</th>\n",
              "      <td>3</td>\n",
              "      <td>39</td>\n",
              "      <td>216</td>\n",
              "      <td>57</td>\n",
              "    </tr>\n",
              "    <tr>\n",
              "      <th>4</th>\n",
              "      <td>4</td>\n",
              "      <td>28</td>\n",
              "      <td>116</td>\n",
              "      <td>182</td>\n",
              "    </tr>\n",
              "  </tbody>\n",
              "</table>\n",
              "</div>"
            ],
            "text/plain": [
              "   Unnamed: 0  age  weight  exercise_time\n",
              "0           0   44     118            192\n",
              "1           1   41     161             35\n",
              "2           2   46     128            220\n",
              "3           3   39     216             57\n",
              "4           4   28     116            182"
            ]
          },
          "metadata": {
            "tags": []
          },
          "execution_count": 64
        }
      ]
    },
    {
      "cell_type": "markdown",
      "metadata": {
        "id": "BT9gdS7viJZa",
        "colab_type": "text"
      },
      "source": [
        "### Assignment questions\n",
        "\n",
        "After you've worked on some code, answer the following questions in this text block:\n",
        "\n",
        "1.  What are the variable types in the data?\n",
        "2.  What are the relationships between the variables?\n",
        "3.  Which relationships are \"real\", and which spurious?\n"
      ]
    },
    {
      "cell_type": "markdown",
      "metadata": {
        "id": "_XXg2crAipwP",
        "colab_type": "text"
      },
      "source": [
        "## Stretch goals and resources\n",
        "\n",
        "Following are *optional* things for you to take a look at. Focus on the above assignment first, and make sure to commit and push your changes to GitHub.\n",
        "\n",
        "- [Spurious Correlations](http://tylervigen.com/spurious-correlations)\n",
        "- [NIH on controlling for confounding variables](https://www.ncbi.nlm.nih.gov/pmc/articles/PMC4017459/)\n",
        "\n",
        "Stretch goals:\n",
        "\n",
        "- Produce your own plot inspired by the Spurious Correlation visualizations (and consider writing a blog post about it - both the content and how you made it)\n",
        "- Pick one of the techniques that NIH highlights for confounding variables - we'll be going into many of them later, but see if you can find which Python modules may help (hint - check scikit-learn)"
      ]
    }
  ]
}