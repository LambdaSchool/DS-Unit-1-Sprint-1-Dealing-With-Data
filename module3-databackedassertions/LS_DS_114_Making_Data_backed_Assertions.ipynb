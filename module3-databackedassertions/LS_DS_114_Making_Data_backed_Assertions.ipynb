{
  "nbformat": 4,
  "nbformat_minor": 0,
  "metadata": {
    "colab": {
      "name": "LS_DS_114_Making_Data_backed_Assertions.ipynb",
      "version": "0.3.2",
      "provenance": [],
      "collapsed_sections": [],
      "include_colab_link": true
    },
    "kernelspec": {
      "name": "python3",
      "display_name": "Python 3"
    }
  },
  "cells": [
    {
      "cell_type": "markdown",
      "metadata": {
        "id": "view-in-github",
        "colab_type": "text"
      },
      "source": [
        "<a href=\"https://colab.research.google.com/github/andre-sav/DS-Unit-1-Sprint-1-Dealing-With-Data/blob/master/module3-databackedassertions/LS_DS_114_Making_Data_backed_Assertions.ipynb\" target=\"_parent\"><img src=\"https://colab.research.google.com/assets/colab-badge.svg\" alt=\"Open In Colab\"/></a>"
      ]
    },
    {
      "cell_type": "markdown",
      "metadata": {
        "id": "Okfr_uhwhS1X",
        "colab_type": "text"
      },
      "source": [
        "# Lambda School Data Science - Making Data-backed Assertions\n",
        "\n",
        "This is, for many, the main point of data science - to create and support reasoned arguments based on evidence. It's not a topic to master in a day, but it is worth some focused time thinking about and structuring your approach to it."
      ]
    },
    {
      "cell_type": "markdown",
      "metadata": {
        "colab_type": "text",
        "id": "d0yfHpva3AqI"
      },
      "source": [
        "## Assignment - what's going on here?\n",
        "\n",
        "Consider the data in `persons.csv` (already prepared for you, in the repo for the week). It has four columns - a unique id, followed by age (in years), weight (in lbs), and exercise time (in minutes/week) of 1200 (hypothetical) people.\n",
        "\n",
        "Try to figure out which variables are possibly related to each other, and which may be confounding relationships."
      ]
    },
    {
      "cell_type": "code",
      "metadata": {
        "id": "TGUS79cOhPWj",
        "colab_type": "code",
        "colab": {}
      },
      "source": [
        "# TODO - your code here\n",
        "# Use what we did live in lecture as an example\n",
        "\n",
        "# HINT - you can find the raw URL on GitHub and potentially use that\n",
        "# to load the data with read_csv, or you can upload it yourself\n",
        "\n",
        "import pandas as pd\n",
        "import numpy as np\n",
        "\n",
        "df = pd.read_csv('https://raw.githubusercontent.com/LambdaSchool/DS-Unit-1-Sprint-1-Dealing-With-Data/master/module3-databackedassertions/persons.csv', index_col=0)"
      ],
      "execution_count": 0,
      "outputs": []
    },
    {
      "cell_type": "code",
      "metadata": {
        "id": "rahlZdQw5Oob",
        "colab_type": "code",
        "outputId": "9b567569-22ad-43e3-86f6-ea53b26f2753",
        "colab": {
          "base_uri": "https://localhost:8080/",
          "height": 329
        }
      },
      "source": [
        "!pip install pandas==0.23.4"
      ],
      "execution_count": 2,
      "outputs": [
        {
          "output_type": "stream",
          "text": [
            "Collecting pandas==0.23.4\n",
            "\u001b[?25l  Downloading https://files.pythonhosted.org/packages/e1/d8/feeb346d41f181e83fba45224ab14a8d8af019b48af742e047f3845d8cff/pandas-0.23.4-cp36-cp36m-manylinux1_x86_64.whl (8.9MB)\n",
            "\u001b[K     |████████████████████████████████| 8.9MB 2.8MB/s \n",
            "\u001b[?25hRequirement already satisfied: python-dateutil>=2.5.0 in /usr/local/lib/python3.6/dist-packages (from pandas==0.23.4) (2.5.3)\n",
            "Requirement already satisfied: pytz>=2011k in /usr/local/lib/python3.6/dist-packages (from pandas==0.23.4) (2018.9)\n",
            "Requirement already satisfied: numpy>=1.9.0 in /usr/local/lib/python3.6/dist-packages (from pandas==0.23.4) (1.16.3)\n",
            "Requirement already satisfied: six>=1.5 in /usr/local/lib/python3.6/dist-packages (from python-dateutil>=2.5.0->pandas==0.23.4) (1.12.0)\n",
            "\u001b[31mERROR: google-colab 1.0.0 has requirement pandas~=0.24.0, but you'll have pandas 0.23.4 which is incompatible.\u001b[0m\n",
            "Installing collected packages: pandas\n",
            "  Found existing installation: pandas 0.24.2\n",
            "    Uninstalling pandas-0.24.2:\n",
            "      Successfully uninstalled pandas-0.24.2\n",
            "Successfully installed pandas-0.23.4\n"
          ],
          "name": "stdout"
        },
        {
          "output_type": "display_data",
          "data": {
            "application/vnd.colab-display-data+json": {
              "pip_warning": {
                "packages": [
                  "pandas"
                ]
              }
            }
          },
          "metadata": {
            "tags": []
          }
        }
      ]
    },
    {
      "cell_type": "code",
      "metadata": {
        "id": "Plc-Mkzr4zRy",
        "colab_type": "code",
        "outputId": "ae656a59-f6e6-477e-aa2e-75e2908f732c",
        "colab": {
          "base_uri": "https://localhost:8080/",
          "height": 198
        }
      },
      "source": [
        "df.head()"
      ],
      "execution_count": 0,
      "outputs": [
        {
          "output_type": "execute_result",
          "data": {
            "text/html": [
              "<div>\n",
              "<style scoped>\n",
              "    .dataframe tbody tr th:only-of-type {\n",
              "        vertical-align: middle;\n",
              "    }\n",
              "\n",
              "    .dataframe tbody tr th {\n",
              "        vertical-align: top;\n",
              "    }\n",
              "\n",
              "    .dataframe thead th {\n",
              "        text-align: right;\n",
              "    }\n",
              "</style>\n",
              "<table border=\"1\" class=\"dataframe\">\n",
              "  <thead>\n",
              "    <tr style=\"text-align: right;\">\n",
              "      <th></th>\n",
              "      <th>age</th>\n",
              "      <th>weight</th>\n",
              "      <th>exercise_time</th>\n",
              "    </tr>\n",
              "  </thead>\n",
              "  <tbody>\n",
              "    <tr>\n",
              "      <th>0</th>\n",
              "      <td>44</td>\n",
              "      <td>118</td>\n",
              "      <td>192</td>\n",
              "    </tr>\n",
              "    <tr>\n",
              "      <th>1</th>\n",
              "      <td>41</td>\n",
              "      <td>161</td>\n",
              "      <td>35</td>\n",
              "    </tr>\n",
              "    <tr>\n",
              "      <th>2</th>\n",
              "      <td>46</td>\n",
              "      <td>128</td>\n",
              "      <td>220</td>\n",
              "    </tr>\n",
              "    <tr>\n",
              "      <th>3</th>\n",
              "      <td>39</td>\n",
              "      <td>216</td>\n",
              "      <td>57</td>\n",
              "    </tr>\n",
              "    <tr>\n",
              "      <th>4</th>\n",
              "      <td>28</td>\n",
              "      <td>116</td>\n",
              "      <td>182</td>\n",
              "    </tr>\n",
              "  </tbody>\n",
              "</table>\n",
              "</div>"
            ],
            "text/plain": [
              "   age  weight  exercise_time\n",
              "0   44     118            192\n",
              "1   41     161             35\n",
              "2   46     128            220\n",
              "3   39     216             57\n",
              "4   28     116            182"
            ]
          },
          "metadata": {
            "tags": []
          },
          "execution_count": 3
        }
      ]
    },
    {
      "cell_type": "code",
      "metadata": {
        "id": "gKewoFay3x21",
        "colab_type": "code",
        "outputId": "7edf2a6b-3d9b-4842-fe30-aa64a803e43d",
        "colab": {
          "base_uri": "https://localhost:8080/",
          "height": 86
        }
      },
      "source": [
        "df.dtypes"
      ],
      "execution_count": 0,
      "outputs": [
        {
          "output_type": "execute_result",
          "data": {
            "text/plain": [
              "age              int64\n",
              "weight           int64\n",
              "exercise_time    int64\n",
              "dtype: object"
            ]
          },
          "metadata": {
            "tags": []
          },
          "execution_count": 4
        }
      ]
    },
    {
      "cell_type": "code",
      "metadata": {
        "id": "OcYQUh-K3xp3",
        "colab_type": "code",
        "outputId": "ece6d701-e810-4198-99f3-612515eac5ce",
        "colab": {
          "base_uri": "https://localhost:8080/",
          "height": 86
        }
      },
      "source": [
        "df.isnull().sum()"
      ],
      "execution_count": 0,
      "outputs": [
        {
          "output_type": "execute_result",
          "data": {
            "text/plain": [
              "age              0\n",
              "weight           0\n",
              "exercise_time    0\n",
              "dtype: int64"
            ]
          },
          "metadata": {
            "tags": []
          },
          "execution_count": 5
        }
      ]
    },
    {
      "cell_type": "code",
      "metadata": {
        "id": "Sm9msX-y4Y2j",
        "colab_type": "code",
        "outputId": "6697aac9-dc4c-4f82-a19a-b1b87c993271",
        "colab": {
          "base_uri": "https://localhost:8080/",
          "height": 288
        }
      },
      "source": [
        "df.describe()"
      ],
      "execution_count": 0,
      "outputs": [
        {
          "output_type": "execute_result",
          "data": {
            "text/html": [
              "<div>\n",
              "<style scoped>\n",
              "    .dataframe tbody tr th:only-of-type {\n",
              "        vertical-align: middle;\n",
              "    }\n",
              "\n",
              "    .dataframe tbody tr th {\n",
              "        vertical-align: top;\n",
              "    }\n",
              "\n",
              "    .dataframe thead th {\n",
              "        text-align: right;\n",
              "    }\n",
              "</style>\n",
              "<table border=\"1\" class=\"dataframe\">\n",
              "  <thead>\n",
              "    <tr style=\"text-align: right;\">\n",
              "      <th></th>\n",
              "      <th>age</th>\n",
              "      <th>weight</th>\n",
              "      <th>exercise_time</th>\n",
              "    </tr>\n",
              "  </thead>\n",
              "  <tbody>\n",
              "    <tr>\n",
              "      <th>count</th>\n",
              "      <td>1200.000000</td>\n",
              "      <td>1200.000000</td>\n",
              "      <td>1200.000000</td>\n",
              "    </tr>\n",
              "    <tr>\n",
              "      <th>mean</th>\n",
              "      <td>48.396667</td>\n",
              "      <td>153.540833</td>\n",
              "      <td>134.910833</td>\n",
              "    </tr>\n",
              "    <tr>\n",
              "      <th>std</th>\n",
              "      <td>18.166802</td>\n",
              "      <td>35.132182</td>\n",
              "      <td>85.548895</td>\n",
              "    </tr>\n",
              "    <tr>\n",
              "      <th>min</th>\n",
              "      <td>18.000000</td>\n",
              "      <td>100.000000</td>\n",
              "      <td>0.000000</td>\n",
              "    </tr>\n",
              "    <tr>\n",
              "      <th>25%</th>\n",
              "      <td>33.000000</td>\n",
              "      <td>125.000000</td>\n",
              "      <td>65.000000</td>\n",
              "    </tr>\n",
              "    <tr>\n",
              "      <th>50%</th>\n",
              "      <td>48.000000</td>\n",
              "      <td>149.000000</td>\n",
              "      <td>122.000000</td>\n",
              "    </tr>\n",
              "    <tr>\n",
              "      <th>75%</th>\n",
              "      <td>64.000000</td>\n",
              "      <td>180.250000</td>\n",
              "      <td>206.000000</td>\n",
              "    </tr>\n",
              "    <tr>\n",
              "      <th>max</th>\n",
              "      <td>80.000000</td>\n",
              "      <td>246.000000</td>\n",
              "      <td>300.000000</td>\n",
              "    </tr>\n",
              "  </tbody>\n",
              "</table>\n",
              "</div>"
            ],
            "text/plain": [
              "               age       weight  exercise_time\n",
              "count  1200.000000  1200.000000    1200.000000\n",
              "mean     48.396667   153.540833     134.910833\n",
              "std      18.166802    35.132182      85.548895\n",
              "min      18.000000   100.000000       0.000000\n",
              "25%      33.000000   125.000000      65.000000\n",
              "50%      48.000000   149.000000     122.000000\n",
              "75%      64.000000   180.250000     206.000000\n",
              "max      80.000000   246.000000     300.000000"
            ]
          },
          "metadata": {
            "tags": []
          },
          "execution_count": 6
        }
      ]
    },
    {
      "cell_type": "code",
      "metadata": {
        "id": "NyKzjo8W4bm1",
        "colab_type": "code",
        "outputId": "42da6f31-8930-415f-e8c4-d3d8a6f2f94a",
        "colab": {
          "base_uri": "https://localhost:8080/",
          "height": 263
        }
      },
      "source": [
        "exercise_time_bins = pd.cut(df['exercise_time'], 10)\n",
        "\n",
        "weight_bins = pd.cut(df['weight'], 6)\n",
        "\n",
        "age_bins = pd.cut(df['age'], 6)\n",
        "\n",
        "ct = pd.crosstab(weight_bins, exercise_time_bins, normalize='columns')\n",
        "\n",
        "ct"
      ],
      "execution_count": 2,
      "outputs": [
        {
          "output_type": "execute_result",
          "data": {
            "text/html": [
              "<div>\n",
              "<style scoped>\n",
              "    .dataframe tbody tr th:only-of-type {\n",
              "        vertical-align: middle;\n",
              "    }\n",
              "\n",
              "    .dataframe tbody tr th {\n",
              "        vertical-align: top;\n",
              "    }\n",
              "\n",
              "    .dataframe thead th {\n",
              "        text-align: right;\n",
              "    }\n",
              "</style>\n",
              "<table border=\"1\" class=\"dataframe\">\n",
              "  <thead>\n",
              "    <tr style=\"text-align: right;\">\n",
              "      <th>exercise_time</th>\n",
              "      <th>(-0.3, 30.0]</th>\n",
              "      <th>(30.0, 60.0]</th>\n",
              "      <th>(60.0, 90.0]</th>\n",
              "      <th>(90.0, 120.0]</th>\n",
              "      <th>(120.0, 150.0]</th>\n",
              "      <th>(150.0, 180.0]</th>\n",
              "      <th>(180.0, 210.0]</th>\n",
              "      <th>(210.0, 240.0]</th>\n",
              "      <th>(240.0, 270.0]</th>\n",
              "      <th>(270.0, 300.0]</th>\n",
              "    </tr>\n",
              "    <tr>\n",
              "      <th>weight</th>\n",
              "      <th></th>\n",
              "      <th></th>\n",
              "      <th></th>\n",
              "      <th></th>\n",
              "      <th></th>\n",
              "      <th></th>\n",
              "      <th></th>\n",
              "      <th></th>\n",
              "      <th></th>\n",
              "      <th></th>\n",
              "    </tr>\n",
              "  </thead>\n",
              "  <tbody>\n",
              "    <tr>\n",
              "      <th>(99.854, 124.333]</th>\n",
              "      <td>0.140940</td>\n",
              "      <td>0.170543</td>\n",
              "      <td>0.164634</td>\n",
              "      <td>0.171053</td>\n",
              "      <td>0.295238</td>\n",
              "      <td>0.237288</td>\n",
              "      <td>0.308511</td>\n",
              "      <td>0.326531</td>\n",
              "      <td>0.33</td>\n",
              "      <td>0.494505</td>\n",
              "    </tr>\n",
              "    <tr>\n",
              "      <th>(124.333, 148.667]</th>\n",
              "      <td>0.147651</td>\n",
              "      <td>0.155039</td>\n",
              "      <td>0.213415</td>\n",
              "      <td>0.125000</td>\n",
              "      <td>0.142857</td>\n",
              "      <td>0.347458</td>\n",
              "      <td>0.319149</td>\n",
              "      <td>0.367347</td>\n",
              "      <td>0.46</td>\n",
              "      <td>0.439560</td>\n",
              "    </tr>\n",
              "    <tr>\n",
              "      <th>(148.667, 173.0]</th>\n",
              "      <td>0.140940</td>\n",
              "      <td>0.170543</td>\n",
              "      <td>0.243902</td>\n",
              "      <td>0.269737</td>\n",
              "      <td>0.238095</td>\n",
              "      <td>0.220339</td>\n",
              "      <td>0.234043</td>\n",
              "      <td>0.295918</td>\n",
              "      <td>0.21</td>\n",
              "      <td>0.065934</td>\n",
              "    </tr>\n",
              "    <tr>\n",
              "      <th>(173.0, 197.333]</th>\n",
              "      <td>0.194631</td>\n",
              "      <td>0.178295</td>\n",
              "      <td>0.170732</td>\n",
              "      <td>0.210526</td>\n",
              "      <td>0.200000</td>\n",
              "      <td>0.177966</td>\n",
              "      <td>0.138298</td>\n",
              "      <td>0.010204</td>\n",
              "      <td>0.00</td>\n",
              "      <td>0.000000</td>\n",
              "    </tr>\n",
              "    <tr>\n",
              "      <th>(197.333, 221.667]</th>\n",
              "      <td>0.221477</td>\n",
              "      <td>0.232558</td>\n",
              "      <td>0.182927</td>\n",
              "      <td>0.223684</td>\n",
              "      <td>0.123810</td>\n",
              "      <td>0.016949</td>\n",
              "      <td>0.000000</td>\n",
              "      <td>0.000000</td>\n",
              "      <td>0.00</td>\n",
              "      <td>0.000000</td>\n",
              "    </tr>\n",
              "    <tr>\n",
              "      <th>(221.667, 246.0]</th>\n",
              "      <td>0.154362</td>\n",
              "      <td>0.093023</td>\n",
              "      <td>0.024390</td>\n",
              "      <td>0.000000</td>\n",
              "      <td>0.000000</td>\n",
              "      <td>0.000000</td>\n",
              "      <td>0.000000</td>\n",
              "      <td>0.000000</td>\n",
              "      <td>0.00</td>\n",
              "      <td>0.000000</td>\n",
              "    </tr>\n",
              "  </tbody>\n",
              "</table>\n",
              "</div>"
            ],
            "text/plain": [
              "exercise_time       (-0.3, 30.0]       ...        (270.0, 300.0]\n",
              "weight                                 ...                      \n",
              "(99.854, 124.333]       0.140940       ...              0.494505\n",
              "(124.333, 148.667]      0.147651       ...              0.439560\n",
              "(148.667, 173.0]        0.140940       ...              0.065934\n",
              "(173.0, 197.333]        0.194631       ...              0.000000\n",
              "(197.333, 221.667]      0.221477       ...              0.000000\n",
              "(221.667, 246.0]        0.154362       ...              0.000000\n",
              "\n",
              "[6 rows x 10 columns]"
            ]
          },
          "metadata": {
            "tags": []
          },
          "execution_count": 2
        }
      ]
    },
    {
      "cell_type": "code",
      "metadata": {
        "id": "sovwqZqh7PKc",
        "colab_type": "code",
        "outputId": "1d282462-7758-48a4-9ebe-9639d024b959",
        "colab": {
          "base_uri": "https://localhost:8080/",
          "height": 263
        }
      },
      "source": [
        "ct2 = pd.crosstab(age_bins, exercise_time_bins, normalize='columns')\n",
        "\n",
        "ct2"
      ],
      "execution_count": 3,
      "outputs": [
        {
          "output_type": "execute_result",
          "data": {
            "text/html": [
              "<div>\n",
              "<style scoped>\n",
              "    .dataframe tbody tr th:only-of-type {\n",
              "        vertical-align: middle;\n",
              "    }\n",
              "\n",
              "    .dataframe tbody tr th {\n",
              "        vertical-align: top;\n",
              "    }\n",
              "\n",
              "    .dataframe thead th {\n",
              "        text-align: right;\n",
              "    }\n",
              "</style>\n",
              "<table border=\"1\" class=\"dataframe\">\n",
              "  <thead>\n",
              "    <tr style=\"text-align: right;\">\n",
              "      <th>exercise_time</th>\n",
              "      <th>(-0.3, 30.0]</th>\n",
              "      <th>(30.0, 60.0]</th>\n",
              "      <th>(60.0, 90.0]</th>\n",
              "      <th>(90.0, 120.0]</th>\n",
              "      <th>(120.0, 150.0]</th>\n",
              "      <th>(150.0, 180.0]</th>\n",
              "      <th>(180.0, 210.0]</th>\n",
              "      <th>(210.0, 240.0]</th>\n",
              "      <th>(240.0, 270.0]</th>\n",
              "      <th>(270.0, 300.0]</th>\n",
              "    </tr>\n",
              "    <tr>\n",
              "      <th>age</th>\n",
              "      <th></th>\n",
              "      <th></th>\n",
              "      <th></th>\n",
              "      <th></th>\n",
              "      <th></th>\n",
              "      <th></th>\n",
              "      <th></th>\n",
              "      <th></th>\n",
              "      <th></th>\n",
              "      <th></th>\n",
              "    </tr>\n",
              "  </thead>\n",
              "  <tbody>\n",
              "    <tr>\n",
              "      <th>(17.938, 28.333]</th>\n",
              "      <td>0.093960</td>\n",
              "      <td>0.178295</td>\n",
              "      <td>0.121951</td>\n",
              "      <td>0.131579</td>\n",
              "      <td>0.190476</td>\n",
              "      <td>0.220339</td>\n",
              "      <td>0.244681</td>\n",
              "      <td>0.275510</td>\n",
              "      <td>0.21</td>\n",
              "      <td>0.164835</td>\n",
              "    </tr>\n",
              "    <tr>\n",
              "      <th>(28.333, 38.667]</th>\n",
              "      <td>0.154362</td>\n",
              "      <td>0.232558</td>\n",
              "      <td>0.097561</td>\n",
              "      <td>0.164474</td>\n",
              "      <td>0.142857</td>\n",
              "      <td>0.203390</td>\n",
              "      <td>0.234043</td>\n",
              "      <td>0.204082</td>\n",
              "      <td>0.21</td>\n",
              "      <td>0.230769</td>\n",
              "    </tr>\n",
              "    <tr>\n",
              "      <th>(38.667, 49.0]</th>\n",
              "      <td>0.127517</td>\n",
              "      <td>0.131783</td>\n",
              "      <td>0.146341</td>\n",
              "      <td>0.131579</td>\n",
              "      <td>0.114286</td>\n",
              "      <td>0.144068</td>\n",
              "      <td>0.148936</td>\n",
              "      <td>0.204082</td>\n",
              "      <td>0.34</td>\n",
              "      <td>0.252747</td>\n",
              "    </tr>\n",
              "    <tr>\n",
              "      <th>(49.0, 59.333]</th>\n",
              "      <td>0.114094</td>\n",
              "      <td>0.093023</td>\n",
              "      <td>0.128049</td>\n",
              "      <td>0.111842</td>\n",
              "      <td>0.171429</td>\n",
              "      <td>0.161017</td>\n",
              "      <td>0.159574</td>\n",
              "      <td>0.163265</td>\n",
              "      <td>0.19</td>\n",
              "      <td>0.329670</td>\n",
              "    </tr>\n",
              "    <tr>\n",
              "      <th>(59.333, 69.667]</th>\n",
              "      <td>0.194631</td>\n",
              "      <td>0.131783</td>\n",
              "      <td>0.201220</td>\n",
              "      <td>0.210526</td>\n",
              "      <td>0.180952</td>\n",
              "      <td>0.186441</td>\n",
              "      <td>0.191489</td>\n",
              "      <td>0.153061</td>\n",
              "      <td>0.05</td>\n",
              "      <td>0.021978</td>\n",
              "    </tr>\n",
              "    <tr>\n",
              "      <th>(69.667, 80.0]</th>\n",
              "      <td>0.315436</td>\n",
              "      <td>0.232558</td>\n",
              "      <td>0.304878</td>\n",
              "      <td>0.250000</td>\n",
              "      <td>0.200000</td>\n",
              "      <td>0.084746</td>\n",
              "      <td>0.021277</td>\n",
              "      <td>0.000000</td>\n",
              "      <td>0.00</td>\n",
              "      <td>0.000000</td>\n",
              "    </tr>\n",
              "  </tbody>\n",
              "</table>\n",
              "</div>"
            ],
            "text/plain": [
              "exercise_time     (-0.3, 30.0]       ...        (270.0, 300.0]\n",
              "age                                  ...                      \n",
              "(17.938, 28.333]      0.093960       ...              0.164835\n",
              "(28.333, 38.667]      0.154362       ...              0.230769\n",
              "(38.667, 49.0]        0.127517       ...              0.252747\n",
              "(49.0, 59.333]        0.114094       ...              0.329670\n",
              "(59.333, 69.667]      0.194631       ...              0.021978\n",
              "(69.667, 80.0]        0.315436       ...              0.000000\n",
              "\n",
              "[6 rows x 10 columns]"
            ]
          },
          "metadata": {
            "tags": []
          },
          "execution_count": 3
        }
      ]
    },
    {
      "cell_type": "code",
      "metadata": {
        "id": "HldJr3nRAV9N",
        "colab_type": "code",
        "outputId": "74d95c3f-12d9-4c9f-e7c0-27c9c447cd46",
        "colab": {
          "base_uri": "https://localhost:8080/",
          "height": 263
        }
      },
      "source": [
        "pd.crosstab(age_bins, weight_bins, normalize='columns')"
      ],
      "execution_count": 4,
      "outputs": [
        {
          "output_type": "execute_result",
          "data": {
            "text/html": [
              "<div>\n",
              "<style scoped>\n",
              "    .dataframe tbody tr th:only-of-type {\n",
              "        vertical-align: middle;\n",
              "    }\n",
              "\n",
              "    .dataframe tbody tr th {\n",
              "        vertical-align: top;\n",
              "    }\n",
              "\n",
              "    .dataframe thead th {\n",
              "        text-align: right;\n",
              "    }\n",
              "</style>\n",
              "<table border=\"1\" class=\"dataframe\">\n",
              "  <thead>\n",
              "    <tr style=\"text-align: right;\">\n",
              "      <th>weight</th>\n",
              "      <th>(99.854, 124.333]</th>\n",
              "      <th>(124.333, 148.667]</th>\n",
              "      <th>(148.667, 173.0]</th>\n",
              "      <th>(173.0, 197.333]</th>\n",
              "      <th>(197.333, 221.667]</th>\n",
              "      <th>(221.667, 246.0]</th>\n",
              "    </tr>\n",
              "    <tr>\n",
              "      <th>age</th>\n",
              "      <th></th>\n",
              "      <th></th>\n",
              "      <th></th>\n",
              "      <th></th>\n",
              "      <th></th>\n",
              "      <th></th>\n",
              "    </tr>\n",
              "  </thead>\n",
              "  <tbody>\n",
              "    <tr>\n",
              "      <th>(17.938, 28.333]</th>\n",
              "      <td>0.190476</td>\n",
              "      <td>0.187500</td>\n",
              "      <td>0.189723</td>\n",
              "      <td>0.136905</td>\n",
              "      <td>0.140845</td>\n",
              "      <td>0.128205</td>\n",
              "    </tr>\n",
              "    <tr>\n",
              "      <th>(28.333, 38.667]</th>\n",
              "      <td>0.238095</td>\n",
              "      <td>0.161184</td>\n",
              "      <td>0.173913</td>\n",
              "      <td>0.166667</td>\n",
              "      <td>0.154930</td>\n",
              "      <td>0.102564</td>\n",
              "    </tr>\n",
              "    <tr>\n",
              "      <th>(38.667, 49.0]</th>\n",
              "      <td>0.166667</td>\n",
              "      <td>0.210526</td>\n",
              "      <td>0.154150</td>\n",
              "      <td>0.130952</td>\n",
              "      <td>0.147887</td>\n",
              "      <td>0.128205</td>\n",
              "    </tr>\n",
              "    <tr>\n",
              "      <th>(49.0, 59.333]</th>\n",
              "      <td>0.170068</td>\n",
              "      <td>0.164474</td>\n",
              "      <td>0.130435</td>\n",
              "      <td>0.166667</td>\n",
              "      <td>0.154930</td>\n",
              "      <td>0.025641</td>\n",
              "    </tr>\n",
              "    <tr>\n",
              "      <th>(59.333, 69.667]</th>\n",
              "      <td>0.102041</td>\n",
              "      <td>0.157895</td>\n",
              "      <td>0.173913</td>\n",
              "      <td>0.190476</td>\n",
              "      <td>0.204225</td>\n",
              "      <td>0.230769</td>\n",
              "    </tr>\n",
              "    <tr>\n",
              "      <th>(69.667, 80.0]</th>\n",
              "      <td>0.132653</td>\n",
              "      <td>0.118421</td>\n",
              "      <td>0.177866</td>\n",
              "      <td>0.208333</td>\n",
              "      <td>0.197183</td>\n",
              "      <td>0.384615</td>\n",
              "    </tr>\n",
              "  </tbody>\n",
              "</table>\n",
              "</div>"
            ],
            "text/plain": [
              "weight            (99.854, 124.333]        ...         (221.667, 246.0]\n",
              "age                                        ...                         \n",
              "(17.938, 28.333]           0.190476        ...                 0.128205\n",
              "(28.333, 38.667]           0.238095        ...                 0.102564\n",
              "(38.667, 49.0]             0.166667        ...                 0.128205\n",
              "(49.0, 59.333]             0.170068        ...                 0.025641\n",
              "(59.333, 69.667]           0.102041        ...                 0.230769\n",
              "(69.667, 80.0]             0.132653        ...                 0.384615\n",
              "\n",
              "[6 rows x 6 columns]"
            ]
          },
          "metadata": {
            "tags": []
          },
          "execution_count": 4
        }
      ]
    },
    {
      "cell_type": "code",
      "metadata": {
        "id": "Ou6WTRuN8AsV",
        "colab_type": "code",
        "outputId": "6ff0bd15-468f-458c-d792-cf216d61bb30",
        "colab": {
          "base_uri": "https://localhost:8080/",
          "height": 435
        }
      },
      "source": [
        "ct3 = pd.crosstab(weight_bins, [age_bins, exercise_time_bins], normalize='index')\n",
        "\n",
        "ct3"
      ],
      "execution_count": 7,
      "outputs": [
        {
          "output_type": "execute_result",
          "data": {
            "text/html": [
              "<div>\n",
              "<style scoped>\n",
              "    .dataframe tbody tr th:only-of-type {\n",
              "        vertical-align: middle;\n",
              "    }\n",
              "\n",
              "    .dataframe tbody tr th {\n",
              "        vertical-align: top;\n",
              "    }\n",
              "\n",
              "    .dataframe thead tr th {\n",
              "        text-align: left;\n",
              "    }\n",
              "\n",
              "    .dataframe thead tr:last-of-type th {\n",
              "        text-align: right;\n",
              "    }\n",
              "</style>\n",
              "<table border=\"1\" class=\"dataframe\">\n",
              "  <thead>\n",
              "    <tr>\n",
              "      <th>age</th>\n",
              "      <th colspan=\"10\" halign=\"left\">(17.938, 28.333]</th>\n",
              "      <th colspan=\"10\" halign=\"left\">(28.333, 38.667]</th>\n",
              "      <th colspan=\"10\" halign=\"left\">(38.667, 49.0]</th>\n",
              "      <th colspan=\"10\" halign=\"left\">(49.0, 59.333]</th>\n",
              "      <th colspan=\"10\" halign=\"left\">(59.333, 69.667]</th>\n",
              "      <th colspan=\"7\" halign=\"left\">(69.667, 80.0]</th>\n",
              "    </tr>\n",
              "    <tr>\n",
              "      <th>exercise_time</th>\n",
              "      <th>(-0.3, 30.0]</th>\n",
              "      <th>(30.0, 60.0]</th>\n",
              "      <th>(60.0, 90.0]</th>\n",
              "      <th>(90.0, 120.0]</th>\n",
              "      <th>(120.0, 150.0]</th>\n",
              "      <th>(150.0, 180.0]</th>\n",
              "      <th>(180.0, 210.0]</th>\n",
              "      <th>(210.0, 240.0]</th>\n",
              "      <th>(240.0, 270.0]</th>\n",
              "      <th>(270.0, 300.0]</th>\n",
              "      <th>(-0.3, 30.0]</th>\n",
              "      <th>(30.0, 60.0]</th>\n",
              "      <th>(60.0, 90.0]</th>\n",
              "      <th>(90.0, 120.0]</th>\n",
              "      <th>(120.0, 150.0]</th>\n",
              "      <th>(150.0, 180.0]</th>\n",
              "      <th>(180.0, 210.0]</th>\n",
              "      <th>(210.0, 240.0]</th>\n",
              "      <th>(240.0, 270.0]</th>\n",
              "      <th>(270.0, 300.0]</th>\n",
              "      <th>(-0.3, 30.0]</th>\n",
              "      <th>(30.0, 60.0]</th>\n",
              "      <th>(60.0, 90.0]</th>\n",
              "      <th>(90.0, 120.0]</th>\n",
              "      <th>(120.0, 150.0]</th>\n",
              "      <th>(150.0, 180.0]</th>\n",
              "      <th>(180.0, 210.0]</th>\n",
              "      <th>(210.0, 240.0]</th>\n",
              "      <th>(240.0, 270.0]</th>\n",
              "      <th>(270.0, 300.0]</th>\n",
              "      <th>(-0.3, 30.0]</th>\n",
              "      <th>(30.0, 60.0]</th>\n",
              "      <th>(60.0, 90.0]</th>\n",
              "      <th>(90.0, 120.0]</th>\n",
              "      <th>(120.0, 150.0]</th>\n",
              "      <th>(150.0, 180.0]</th>\n",
              "      <th>(180.0, 210.0]</th>\n",
              "      <th>(210.0, 240.0]</th>\n",
              "      <th>(240.0, 270.0]</th>\n",
              "      <th>(270.0, 300.0]</th>\n",
              "      <th>(-0.3, 30.0]</th>\n",
              "      <th>(30.0, 60.0]</th>\n",
              "      <th>(60.0, 90.0]</th>\n",
              "      <th>(90.0, 120.0]</th>\n",
              "      <th>(120.0, 150.0]</th>\n",
              "      <th>(150.0, 180.0]</th>\n",
              "      <th>(180.0, 210.0]</th>\n",
              "      <th>(210.0, 240.0]</th>\n",
              "      <th>(240.0, 270.0]</th>\n",
              "      <th>(270.0, 300.0]</th>\n",
              "      <th>(-0.3, 30.0]</th>\n",
              "      <th>(30.0, 60.0]</th>\n",
              "      <th>(60.0, 90.0]</th>\n",
              "      <th>(90.0, 120.0]</th>\n",
              "      <th>(120.0, 150.0]</th>\n",
              "      <th>(150.0, 180.0]</th>\n",
              "      <th>(180.0, 210.0]</th>\n",
              "    </tr>\n",
              "    <tr>\n",
              "      <th>weight</th>\n",
              "      <th></th>\n",
              "      <th></th>\n",
              "      <th></th>\n",
              "      <th></th>\n",
              "      <th></th>\n",
              "      <th></th>\n",
              "      <th></th>\n",
              "      <th></th>\n",
              "      <th></th>\n",
              "      <th></th>\n",
              "      <th></th>\n",
              "      <th></th>\n",
              "      <th></th>\n",
              "      <th></th>\n",
              "      <th></th>\n",
              "      <th></th>\n",
              "      <th></th>\n",
              "      <th></th>\n",
              "      <th></th>\n",
              "      <th></th>\n",
              "      <th></th>\n",
              "      <th></th>\n",
              "      <th></th>\n",
              "      <th></th>\n",
              "      <th></th>\n",
              "      <th></th>\n",
              "      <th></th>\n",
              "      <th></th>\n",
              "      <th></th>\n",
              "      <th></th>\n",
              "      <th></th>\n",
              "      <th></th>\n",
              "      <th></th>\n",
              "      <th></th>\n",
              "      <th></th>\n",
              "      <th></th>\n",
              "      <th></th>\n",
              "      <th></th>\n",
              "      <th></th>\n",
              "      <th></th>\n",
              "      <th></th>\n",
              "      <th></th>\n",
              "      <th></th>\n",
              "      <th></th>\n",
              "      <th></th>\n",
              "      <th></th>\n",
              "      <th></th>\n",
              "      <th></th>\n",
              "      <th></th>\n",
              "      <th></th>\n",
              "      <th></th>\n",
              "      <th></th>\n",
              "      <th></th>\n",
              "      <th></th>\n",
              "      <th></th>\n",
              "      <th></th>\n",
              "      <th></th>\n",
              "    </tr>\n",
              "  </thead>\n",
              "  <tbody>\n",
              "    <tr>\n",
              "      <th>(99.854, 124.333]</th>\n",
              "      <td>0.003401</td>\n",
              "      <td>0.017007</td>\n",
              "      <td>0.006803</td>\n",
              "      <td>0.013605</td>\n",
              "      <td>0.020408</td>\n",
              "      <td>0.020408</td>\n",
              "      <td>0.020408</td>\n",
              "      <td>0.023810</td>\n",
              "      <td>0.037415</td>\n",
              "      <td>0.027211</td>\n",
              "      <td>0.006803</td>\n",
              "      <td>0.023810</td>\n",
              "      <td>0.027211</td>\n",
              "      <td>0.017007</td>\n",
              "      <td>0.023810</td>\n",
              "      <td>0.034014</td>\n",
              "      <td>0.023810</td>\n",
              "      <td>0.027211</td>\n",
              "      <td>0.013605</td>\n",
              "      <td>0.040816</td>\n",
              "      <td>0.006803</td>\n",
              "      <td>0.003401</td>\n",
              "      <td>0.013605</td>\n",
              "      <td>0.003401</td>\n",
              "      <td>0.010204</td>\n",
              "      <td>0.010204</td>\n",
              "      <td>0.020408</td>\n",
              "      <td>0.020408</td>\n",
              "      <td>0.037415</td>\n",
              "      <td>0.040816</td>\n",
              "      <td>0.017007</td>\n",
              "      <td>0.006803</td>\n",
              "      <td>0.006803</td>\n",
              "      <td>0.010204</td>\n",
              "      <td>0.013605</td>\n",
              "      <td>0.010204</td>\n",
              "      <td>0.017007</td>\n",
              "      <td>0.023810</td>\n",
              "      <td>0.023810</td>\n",
              "      <td>0.040816</td>\n",
              "      <td>0.013605</td>\n",
              "      <td>0.003401</td>\n",
              "      <td>0.013605</td>\n",
              "      <td>0.013605</td>\n",
              "      <td>0.017007</td>\n",
              "      <td>0.010204</td>\n",
              "      <td>0.013605</td>\n",
              "      <td>0.013605</td>\n",
              "      <td>0.000000</td>\n",
              "      <td>0.003401</td>\n",
              "      <td>0.023810</td>\n",
              "      <td>0.020408</td>\n",
              "      <td>0.023810</td>\n",
              "      <td>0.030612</td>\n",
              "      <td>0.020408</td>\n",
              "      <td>0.010204</td>\n",
              "      <td>0.003401</td>\n",
              "    </tr>\n",
              "    <tr>\n",
              "      <th>(124.333, 148.667]</th>\n",
              "      <td>0.006579</td>\n",
              "      <td>0.009868</td>\n",
              "      <td>0.023026</td>\n",
              "      <td>0.006579</td>\n",
              "      <td>0.013158</td>\n",
              "      <td>0.032895</td>\n",
              "      <td>0.019737</td>\n",
              "      <td>0.032895</td>\n",
              "      <td>0.019737</td>\n",
              "      <td>0.023026</td>\n",
              "      <td>0.013158</td>\n",
              "      <td>0.013158</td>\n",
              "      <td>0.003289</td>\n",
              "      <td>0.009868</td>\n",
              "      <td>0.003289</td>\n",
              "      <td>0.013158</td>\n",
              "      <td>0.026316</td>\n",
              "      <td>0.019737</td>\n",
              "      <td>0.032895</td>\n",
              "      <td>0.026316</td>\n",
              "      <td>0.013158</td>\n",
              "      <td>0.009868</td>\n",
              "      <td>0.023026</td>\n",
              "      <td>0.009868</td>\n",
              "      <td>0.006579</td>\n",
              "      <td>0.016447</td>\n",
              "      <td>0.013158</td>\n",
              "      <td>0.036184</td>\n",
              "      <td>0.059211</td>\n",
              "      <td>0.023026</td>\n",
              "      <td>0.003289</td>\n",
              "      <td>0.003289</td>\n",
              "      <td>0.009868</td>\n",
              "      <td>0.000000</td>\n",
              "      <td>0.009868</td>\n",
              "      <td>0.032895</td>\n",
              "      <td>0.013158</td>\n",
              "      <td>0.006579</td>\n",
              "      <td>0.029605</td>\n",
              "      <td>0.055921</td>\n",
              "      <td>0.013158</td>\n",
              "      <td>0.003289</td>\n",
              "      <td>0.023026</td>\n",
              "      <td>0.016447</td>\n",
              "      <td>0.009868</td>\n",
              "      <td>0.032895</td>\n",
              "      <td>0.023026</td>\n",
              "      <td>0.023026</td>\n",
              "      <td>0.009868</td>\n",
              "      <td>0.003289</td>\n",
              "      <td>0.023026</td>\n",
              "      <td>0.026316</td>\n",
              "      <td>0.032895</td>\n",
              "      <td>0.019737</td>\n",
              "      <td>0.006579</td>\n",
              "      <td>0.006579</td>\n",
              "      <td>0.003289</td>\n",
              "    </tr>\n",
              "    <tr>\n",
              "      <th>(148.667, 173.0]</th>\n",
              "      <td>0.000000</td>\n",
              "      <td>0.007905</td>\n",
              "      <td>0.019763</td>\n",
              "      <td>0.027668</td>\n",
              "      <td>0.015810</td>\n",
              "      <td>0.019763</td>\n",
              "      <td>0.043478</td>\n",
              "      <td>0.039526</td>\n",
              "      <td>0.015810</td>\n",
              "      <td>0.000000</td>\n",
              "      <td>0.015810</td>\n",
              "      <td>0.027668</td>\n",
              "      <td>0.003953</td>\n",
              "      <td>0.027668</td>\n",
              "      <td>0.011858</td>\n",
              "      <td>0.015810</td>\n",
              "      <td>0.015810</td>\n",
              "      <td>0.023715</td>\n",
              "      <td>0.027668</td>\n",
              "      <td>0.003953</td>\n",
              "      <td>0.003953</td>\n",
              "      <td>0.015810</td>\n",
              "      <td>0.023715</td>\n",
              "      <td>0.015810</td>\n",
              "      <td>0.015810</td>\n",
              "      <td>0.031621</td>\n",
              "      <td>0.003953</td>\n",
              "      <td>0.007905</td>\n",
              "      <td>0.019763</td>\n",
              "      <td>0.015810</td>\n",
              "      <td>0.007905</td>\n",
              "      <td>0.007905</td>\n",
              "      <td>0.031621</td>\n",
              "      <td>0.019763</td>\n",
              "      <td>0.015810</td>\n",
              "      <td>0.000000</td>\n",
              "      <td>0.003953</td>\n",
              "      <td>0.027668</td>\n",
              "      <td>0.011858</td>\n",
              "      <td>0.003953</td>\n",
              "      <td>0.011858</td>\n",
              "      <td>0.015810</td>\n",
              "      <td>0.035573</td>\n",
              "      <td>0.027668</td>\n",
              "      <td>0.023715</td>\n",
              "      <td>0.015810</td>\n",
              "      <td>0.019763</td>\n",
              "      <td>0.015810</td>\n",
              "      <td>0.007905</td>\n",
              "      <td>0.000000</td>\n",
              "      <td>0.043478</td>\n",
              "      <td>0.011858</td>\n",
              "      <td>0.043478</td>\n",
              "      <td>0.043478</td>\n",
              "      <td>0.015810</td>\n",
              "      <td>0.019763</td>\n",
              "      <td>0.000000</td>\n",
              "    </tr>\n",
              "    <tr>\n",
              "      <th>(173.0, 197.333]</th>\n",
              "      <td>0.029762</td>\n",
              "      <td>0.023810</td>\n",
              "      <td>0.011905</td>\n",
              "      <td>0.017857</td>\n",
              "      <td>0.029762</td>\n",
              "      <td>0.023810</td>\n",
              "      <td>0.000000</td>\n",
              "      <td>0.000000</td>\n",
              "      <td>0.000000</td>\n",
              "      <td>0.000000</td>\n",
              "      <td>0.023810</td>\n",
              "      <td>0.023810</td>\n",
              "      <td>0.023810</td>\n",
              "      <td>0.029762</td>\n",
              "      <td>0.017857</td>\n",
              "      <td>0.029762</td>\n",
              "      <td>0.017857</td>\n",
              "      <td>0.000000</td>\n",
              "      <td>0.000000</td>\n",
              "      <td>0.000000</td>\n",
              "      <td>0.023810</td>\n",
              "      <td>0.017857</td>\n",
              "      <td>0.023810</td>\n",
              "      <td>0.029762</td>\n",
              "      <td>0.005952</td>\n",
              "      <td>0.005952</td>\n",
              "      <td>0.017857</td>\n",
              "      <td>0.005952</td>\n",
              "      <td>0.000000</td>\n",
              "      <td>0.000000</td>\n",
              "      <td>0.029762</td>\n",
              "      <td>0.023810</td>\n",
              "      <td>0.011905</td>\n",
              "      <td>0.017857</td>\n",
              "      <td>0.017857</td>\n",
              "      <td>0.035714</td>\n",
              "      <td>0.029762</td>\n",
              "      <td>0.000000</td>\n",
              "      <td>0.000000</td>\n",
              "      <td>0.000000</td>\n",
              "      <td>0.023810</td>\n",
              "      <td>0.017857</td>\n",
              "      <td>0.035714</td>\n",
              "      <td>0.053571</td>\n",
              "      <td>0.017857</td>\n",
              "      <td>0.029762</td>\n",
              "      <td>0.011905</td>\n",
              "      <td>0.000000</td>\n",
              "      <td>0.000000</td>\n",
              "      <td>0.000000</td>\n",
              "      <td>0.041667</td>\n",
              "      <td>0.029762</td>\n",
              "      <td>0.059524</td>\n",
              "      <td>0.041667</td>\n",
              "      <td>0.035714</td>\n",
              "      <td>0.000000</td>\n",
              "      <td>0.000000</td>\n",
              "    </tr>\n",
              "    <tr>\n",
              "      <th>(197.333, 221.667]</th>\n",
              "      <td>0.021127</td>\n",
              "      <td>0.049296</td>\n",
              "      <td>0.028169</td>\n",
              "      <td>0.028169</td>\n",
              "      <td>0.007042</td>\n",
              "      <td>0.007042</td>\n",
              "      <td>0.000000</td>\n",
              "      <td>0.000000</td>\n",
              "      <td>0.000000</td>\n",
              "      <td>0.000000</td>\n",
              "      <td>0.049296</td>\n",
              "      <td>0.042254</td>\n",
              "      <td>0.014085</td>\n",
              "      <td>0.035211</td>\n",
              "      <td>0.007042</td>\n",
              "      <td>0.007042</td>\n",
              "      <td>0.000000</td>\n",
              "      <td>0.000000</td>\n",
              "      <td>0.000000</td>\n",
              "      <td>0.000000</td>\n",
              "      <td>0.028169</td>\n",
              "      <td>0.035211</td>\n",
              "      <td>0.021127</td>\n",
              "      <td>0.049296</td>\n",
              "      <td>0.014085</td>\n",
              "      <td>0.000000</td>\n",
              "      <td>0.000000</td>\n",
              "      <td>0.000000</td>\n",
              "      <td>0.000000</td>\n",
              "      <td>0.000000</td>\n",
              "      <td>0.028169</td>\n",
              "      <td>0.014085</td>\n",
              "      <td>0.042254</td>\n",
              "      <td>0.042254</td>\n",
              "      <td>0.028169</td>\n",
              "      <td>0.000000</td>\n",
              "      <td>0.000000</td>\n",
              "      <td>0.000000</td>\n",
              "      <td>0.000000</td>\n",
              "      <td>0.000000</td>\n",
              "      <td>0.049296</td>\n",
              "      <td>0.042254</td>\n",
              "      <td>0.049296</td>\n",
              "      <td>0.049296</td>\n",
              "      <td>0.014085</td>\n",
              "      <td>0.000000</td>\n",
              "      <td>0.000000</td>\n",
              "      <td>0.000000</td>\n",
              "      <td>0.000000</td>\n",
              "      <td>0.000000</td>\n",
              "      <td>0.056338</td>\n",
              "      <td>0.028169</td>\n",
              "      <td>0.056338</td>\n",
              "      <td>0.035211</td>\n",
              "      <td>0.021127</td>\n",
              "      <td>0.000000</td>\n",
              "      <td>0.000000</td>\n",
              "    </tr>\n",
              "    <tr>\n",
              "      <th>(221.667, 246.0]</th>\n",
              "      <td>0.076923</td>\n",
              "      <td>0.051282</td>\n",
              "      <td>0.000000</td>\n",
              "      <td>0.000000</td>\n",
              "      <td>0.000000</td>\n",
              "      <td>0.000000</td>\n",
              "      <td>0.000000</td>\n",
              "      <td>0.000000</td>\n",
              "      <td>0.000000</td>\n",
              "      <td>0.000000</td>\n",
              "      <td>0.051282</td>\n",
              "      <td>0.051282</td>\n",
              "      <td>0.000000</td>\n",
              "      <td>0.000000</td>\n",
              "      <td>0.000000</td>\n",
              "      <td>0.000000</td>\n",
              "      <td>0.000000</td>\n",
              "      <td>0.000000</td>\n",
              "      <td>0.000000</td>\n",
              "      <td>0.000000</td>\n",
              "      <td>0.102564</td>\n",
              "      <td>0.025641</td>\n",
              "      <td>0.000000</td>\n",
              "      <td>0.000000</td>\n",
              "      <td>0.000000</td>\n",
              "      <td>0.000000</td>\n",
              "      <td>0.000000</td>\n",
              "      <td>0.000000</td>\n",
              "      <td>0.000000</td>\n",
              "      <td>0.000000</td>\n",
              "      <td>0.000000</td>\n",
              "      <td>0.025641</td>\n",
              "      <td>0.000000</td>\n",
              "      <td>0.000000</td>\n",
              "      <td>0.000000</td>\n",
              "      <td>0.000000</td>\n",
              "      <td>0.000000</td>\n",
              "      <td>0.000000</td>\n",
              "      <td>0.000000</td>\n",
              "      <td>0.000000</td>\n",
              "      <td>0.179487</td>\n",
              "      <td>0.051282</td>\n",
              "      <td>0.000000</td>\n",
              "      <td>0.000000</td>\n",
              "      <td>0.000000</td>\n",
              "      <td>0.000000</td>\n",
              "      <td>0.000000</td>\n",
              "      <td>0.000000</td>\n",
              "      <td>0.000000</td>\n",
              "      <td>0.000000</td>\n",
              "      <td>0.179487</td>\n",
              "      <td>0.102564</td>\n",
              "      <td>0.102564</td>\n",
              "      <td>0.000000</td>\n",
              "      <td>0.000000</td>\n",
              "      <td>0.000000</td>\n",
              "      <td>0.000000</td>\n",
              "    </tr>\n",
              "  </tbody>\n",
              "</table>\n",
              "</div>"
            ],
            "text/plain": [
              "age                (17.938, 28.333]      ...       (69.667, 80.0]\n",
              "exercise_time          (-0.3, 30.0]      ...       (180.0, 210.0]\n",
              "weight                                   ...                     \n",
              "(99.854, 124.333]          0.003401      ...             0.003401\n",
              "(124.333, 148.667]         0.006579      ...             0.003289\n",
              "(148.667, 173.0]           0.000000      ...             0.000000\n",
              "(173.0, 197.333]           0.029762      ...             0.000000\n",
              "(197.333, 221.667]         0.021127      ...             0.000000\n",
              "(221.667, 246.0]           0.076923      ...             0.000000\n",
              "\n",
              "[6 rows x 57 columns]"
            ]
          },
          "metadata": {
            "tags": []
          },
          "execution_count": 7
        }
      ]
    },
    {
      "cell_type": "code",
      "metadata": {
        "id": "_ifz5A77lCcS",
        "colab_type": "code",
        "colab": {
          "base_uri": "https://localhost:8080/",
          "height": 386
        },
        "outputId": "562575e4-4192-4926-b55b-22fdc0961d9f"
      },
      "source": [
        "ct4 = pd.crosstab(exercise_time_bins, age_bins, normalize='columns')\n",
        "\n",
        "ct4"
      ],
      "execution_count": 14,
      "outputs": [
        {
          "output_type": "execute_result",
          "data": {
            "text/html": [
              "<div>\n",
              "<style scoped>\n",
              "    .dataframe tbody tr th:only-of-type {\n",
              "        vertical-align: middle;\n",
              "    }\n",
              "\n",
              "    .dataframe tbody tr th {\n",
              "        vertical-align: top;\n",
              "    }\n",
              "\n",
              "    .dataframe thead th {\n",
              "        text-align: right;\n",
              "    }\n",
              "</style>\n",
              "<table border=\"1\" class=\"dataframe\">\n",
              "  <thead>\n",
              "    <tr style=\"text-align: right;\">\n",
              "      <th>age</th>\n",
              "      <th>(17.938, 28.333]</th>\n",
              "      <th>(28.333, 38.667]</th>\n",
              "      <th>(38.667, 49.0]</th>\n",
              "      <th>(49.0, 59.333]</th>\n",
              "      <th>(59.333, 69.667]</th>\n",
              "      <th>(69.667, 80.0]</th>\n",
              "    </tr>\n",
              "    <tr>\n",
              "      <th>exercise_time</th>\n",
              "      <th></th>\n",
              "      <th></th>\n",
              "      <th></th>\n",
              "      <th></th>\n",
              "      <th></th>\n",
              "      <th></th>\n",
              "    </tr>\n",
              "  </thead>\n",
              "  <tbody>\n",
              "    <tr>\n",
              "      <th>(-0.3, 30.0]</th>\n",
              "      <td>0.066986</td>\n",
              "      <td>0.105991</td>\n",
              "      <td>0.095</td>\n",
              "      <td>0.092391</td>\n",
              "      <td>0.151042</td>\n",
              "      <td>0.237374</td>\n",
              "    </tr>\n",
              "    <tr>\n",
              "      <th>(30.0, 60.0]</th>\n",
              "      <td>0.110048</td>\n",
              "      <td>0.138249</td>\n",
              "      <td>0.085</td>\n",
              "      <td>0.065217</td>\n",
              "      <td>0.088542</td>\n",
              "      <td>0.151515</td>\n",
              "    </tr>\n",
              "    <tr>\n",
              "      <th>(60.0, 90.0]</th>\n",
              "      <td>0.095694</td>\n",
              "      <td>0.073733</td>\n",
              "      <td>0.120</td>\n",
              "      <td>0.114130</td>\n",
              "      <td>0.171875</td>\n",
              "      <td>0.252525</td>\n",
              "    </tr>\n",
              "    <tr>\n",
              "      <th>(90.0, 120.0]</th>\n",
              "      <td>0.095694</td>\n",
              "      <td>0.115207</td>\n",
              "      <td>0.100</td>\n",
              "      <td>0.092391</td>\n",
              "      <td>0.166667</td>\n",
              "      <td>0.191919</td>\n",
              "    </tr>\n",
              "    <tr>\n",
              "      <th>(120.0, 150.0]</th>\n",
              "      <td>0.095694</td>\n",
              "      <td>0.069124</td>\n",
              "      <td>0.060</td>\n",
              "      <td>0.097826</td>\n",
              "      <td>0.098958</td>\n",
              "      <td>0.106061</td>\n",
              "    </tr>\n",
              "    <tr>\n",
              "      <th>(150.0, 180.0]</th>\n",
              "      <td>0.124402</td>\n",
              "      <td>0.110599</td>\n",
              "      <td>0.085</td>\n",
              "      <td>0.103261</td>\n",
              "      <td>0.114583</td>\n",
              "      <td>0.050505</td>\n",
              "    </tr>\n",
              "    <tr>\n",
              "      <th>(180.0, 210.0]</th>\n",
              "      <td>0.110048</td>\n",
              "      <td>0.101382</td>\n",
              "      <td>0.070</td>\n",
              "      <td>0.081522</td>\n",
              "      <td>0.093750</td>\n",
              "      <td>0.010101</td>\n",
              "    </tr>\n",
              "    <tr>\n",
              "      <th>(210.0, 240.0]</th>\n",
              "      <td>0.129187</td>\n",
              "      <td>0.092166</td>\n",
              "      <td>0.100</td>\n",
              "      <td>0.086957</td>\n",
              "      <td>0.078125</td>\n",
              "      <td>0.000000</td>\n",
              "    </tr>\n",
              "    <tr>\n",
              "      <th>(240.0, 270.0]</th>\n",
              "      <td>0.100478</td>\n",
              "      <td>0.096774</td>\n",
              "      <td>0.170</td>\n",
              "      <td>0.103261</td>\n",
              "      <td>0.026042</td>\n",
              "      <td>0.000000</td>\n",
              "    </tr>\n",
              "    <tr>\n",
              "      <th>(270.0, 300.0]</th>\n",
              "      <td>0.071770</td>\n",
              "      <td>0.096774</td>\n",
              "      <td>0.115</td>\n",
              "      <td>0.163043</td>\n",
              "      <td>0.010417</td>\n",
              "      <td>0.000000</td>\n",
              "    </tr>\n",
              "  </tbody>\n",
              "</table>\n",
              "</div>"
            ],
            "text/plain": [
              "age             (17.938, 28.333]       ...        (69.667, 80.0]\n",
              "exercise_time                          ...                      \n",
              "(-0.3, 30.0]            0.066986       ...              0.237374\n",
              "(30.0, 60.0]            0.110048       ...              0.151515\n",
              "(60.0, 90.0]            0.095694       ...              0.252525\n",
              "(90.0, 120.0]           0.095694       ...              0.191919\n",
              "(120.0, 150.0]          0.095694       ...              0.106061\n",
              "(150.0, 180.0]          0.124402       ...              0.050505\n",
              "(180.0, 210.0]          0.110048       ...              0.010101\n",
              "(210.0, 240.0]          0.129187       ...              0.000000\n",
              "(240.0, 270.0]          0.100478       ...              0.000000\n",
              "(270.0, 300.0]          0.071770       ...              0.000000\n",
              "\n",
              "[10 rows x 6 columns]"
            ]
          },
          "metadata": {
            "tags": []
          },
          "execution_count": 14
        }
      ]
    },
    {
      "cell_type": "code",
      "metadata": {
        "id": "hqd_kOtW8xMc",
        "colab_type": "code",
        "outputId": "29a98657-74c2-4b91-d6cc-d262a2de6472",
        "colab": {
          "base_uri": "https://localhost:8080/",
          "height": 378
        }
      },
      "source": [
        "pt = pd.pivot_table(df, values='weight', index=exercise_time_bins)\n",
        "\n",
        "pt"
      ],
      "execution_count": 0,
      "outputs": [
        {
          "output_type": "execute_result",
          "data": {
            "text/html": [
              "<div>\n",
              "<style scoped>\n",
              "    .dataframe tbody tr th:only-of-type {\n",
              "        vertical-align: middle;\n",
              "    }\n",
              "\n",
              "    .dataframe tbody tr th {\n",
              "        vertical-align: top;\n",
              "    }\n",
              "\n",
              "    .dataframe thead th {\n",
              "        text-align: right;\n",
              "    }\n",
              "</style>\n",
              "<table border=\"1\" class=\"dataframe\">\n",
              "  <thead>\n",
              "    <tr style=\"text-align: right;\">\n",
              "      <th></th>\n",
              "      <th>weight</th>\n",
              "    </tr>\n",
              "    <tr>\n",
              "      <th>exercise_time</th>\n",
              "      <th></th>\n",
              "    </tr>\n",
              "  </thead>\n",
              "  <tbody>\n",
              "    <tr>\n",
              "      <th>(-0.3, 30.0]</th>\n",
              "      <td>177.610738</td>\n",
              "    </tr>\n",
              "    <tr>\n",
              "      <th>(30.0, 60.0]</th>\n",
              "      <td>171.178295</td>\n",
              "    </tr>\n",
              "    <tr>\n",
              "      <th>(60.0, 90.0]</th>\n",
              "      <td>162.073171</td>\n",
              "    </tr>\n",
              "    <tr>\n",
              "      <th>(90.0, 120.0]</th>\n",
              "      <td>164.381579</td>\n",
              "    </tr>\n",
              "    <tr>\n",
              "      <th>(120.0, 150.0]</th>\n",
              "      <td>152.380952</td>\n",
              "    </tr>\n",
              "    <tr>\n",
              "      <th>(150.0, 180.0]</th>\n",
              "      <td>145.389831</td>\n",
              "    </tr>\n",
              "    <tr>\n",
              "      <th>(180.0, 210.0]</th>\n",
              "      <td>140.340426</td>\n",
              "    </tr>\n",
              "    <tr>\n",
              "      <th>(210.0, 240.0]</th>\n",
              "      <td>135.326531</td>\n",
              "    </tr>\n",
              "    <tr>\n",
              "      <th>(240.0, 270.0]</th>\n",
              "      <td>131.560000</td>\n",
              "    </tr>\n",
              "    <tr>\n",
              "      <th>(270.0, 300.0]</th>\n",
              "      <td>124.956044</td>\n",
              "    </tr>\n",
              "  </tbody>\n",
              "</table>\n",
              "</div>"
            ],
            "text/plain": [
              "                    weight\n",
              "exercise_time             \n",
              "(-0.3, 30.0]    177.610738\n",
              "(30.0, 60.0]    171.178295\n",
              "(60.0, 90.0]    162.073171\n",
              "(90.0, 120.0]   164.381579\n",
              "(120.0, 150.0]  152.380952\n",
              "(150.0, 180.0]  145.389831\n",
              "(180.0, 210.0]  140.340426\n",
              "(210.0, 240.0]  135.326531\n",
              "(240.0, 270.0]  131.560000\n",
              "(270.0, 300.0]  124.956044"
            ]
          },
          "metadata": {
            "tags": []
          },
          "execution_count": 16
        }
      ]
    },
    {
      "cell_type": "code",
      "metadata": {
        "id": "6PdiJlKHBq0X",
        "colab_type": "code",
        "outputId": "bbedad1f-6907-497a-8de9-4e81a438ed01",
        "colab": {
          "base_uri": "https://localhost:8080/",
          "height": 386
        }
      },
      "source": [
        "ct.plot.bar()"
      ],
      "execution_count": 0,
      "outputs": [
        {
          "output_type": "execute_result",
          "data": {
            "text/plain": [
              "<matplotlib.axes._subplots.AxesSubplot at 0x7fdb89bc19b0>"
            ]
          },
          "metadata": {
            "tags": []
          },
          "execution_count": 21
        },
        {
          "output_type": "display_data",
          "data": {
            "image/png": "[encoded data removed]",
            "text/plain": [
              "<Figure size 432x288 with 1 Axes>"
            ]
          },
          "metadata": {
            "tags": []
          }
        }
      ]
    },
    {
      "cell_type": "code",
      "metadata": {
        "id": "em9E5CjcB_PL",
        "colab_type": "code",
        "outputId": "d614d00a-9286-41a4-f4e4-fbc21d4b5b53",
        "colab": {
          "base_uri": "https://localhost:8080/",
          "height": 375
        }
      },
      "source": [
        "ct2.plot.bar()"
      ],
      "execution_count": 0,
      "outputs": [
        {
          "output_type": "execute_result",
          "data": {
            "text/plain": [
              "<matplotlib.axes._subplots.AxesSubplot at 0x7fdb847d75f8>"
            ]
          },
          "metadata": {
            "tags": []
          },
          "execution_count": 23
        },
        {
          "output_type": "display_data",
          "data": {
            "image/png": "[encoded data removed]",
            "text/plain": [
              "<Figure size 432x288 with 1 Axes>"
            ]
          },
          "metadata": {
            "tags": []
          }
        }
      ]
    },
    {
      "cell_type": "code",
      "metadata": {
        "id": "JIUXrQZmkrif",
        "colab_type": "code",
        "colab": {
          "base_uri": "https://localhost:8080/",
          "height": 362
        },
        "outputId": "de2e5882-c202-40e5-c9f1-6c695094bc89"
      },
      "source": [
        "ct4.plot.bar()"
      ],
      "execution_count": 15,
      "outputs": [
        {
          "output_type": "execute_result",
          "data": {
            "text/plain": [
              "<matplotlib.axes._subplots.AxesSubplot at 0x7f49996d1668>"
            ]
          },
          "metadata": {
            "tags": []
          },
          "execution_count": 15
        },
        {
          "output_type": "display_data",
          "data": {
            "image/png": "[encoded data removed]",
            "text/plain": [
              "<Figure size 432x288 with 1 Axes>"
            ]
          },
          "metadata": {
            "tags": []
          }
        }
      ]
    },
    {
      "cell_type": "code",
      "metadata": {
        "id": "fNKN1hV5lmWP",
        "colab_type": "code",
        "colab": {
          "base_uri": "https://localhost:8080/",
          "height": 291
        },
        "outputId": "2605a181-8949-4004-c2cc-b588b4cbf3a8"
      },
      "source": [
        "ct4.plot()"
      ],
      "execution_count": 16,
      "outputs": [
        {
          "output_type": "execute_result",
          "data": {
            "text/plain": [
              "<matplotlib.axes._subplots.AxesSubplot at 0x7f4999795f98>"
            ]
          },
          "metadata": {
            "tags": []
          },
          "execution_count": 16
        },
        {
          "output_type": "display_data",
          "data": {
            "image/png": "[encoded data removed]",
            "text/plain": [
              "<Figure size 432x288 with 1 Axes>"
            ]
          },
          "metadata": {
            "tags": []
          }
        }
      ]
    },
    {
      "cell_type": "code",
      "metadata": {
        "id": "lszOTfeZW0ev",
        "colab_type": "code",
        "outputId": "f0e39a00-8952-483c-b8ae-c074a4e53ac4",
        "colab": {
          "base_uri": "https://localhost:8080/",
          "height": 291
        }
      },
      "source": [
        "ct.plot()"
      ],
      "execution_count": 0,
      "outputs": [
        {
          "output_type": "execute_result",
          "data": {
            "text/plain": [
              "<matplotlib.axes._subplots.AxesSubplot at 0x7fdb84555860>"
            ]
          },
          "metadata": {
            "tags": []
          },
          "execution_count": 26
        },
        {
          "output_type": "display_data",
          "data": {
            "image/png": "[encoded data removed]",
            "text/plain": [
              "<Figure size 432x288 with 1 Axes>"
            ]
          },
          "metadata": {
            "tags": []
          }
        }
      ]
    },
    {
      "cell_type": "markdown",
      "metadata": {
        "id": "BT9gdS7viJZa",
        "colab_type": "text"
      },
      "source": [
        "### Assignment questions\n",
        "\n",
        "After you've worked on some code, answer the following questions in this text block:\n",
        "\n",
        "1.  What are the variable types in the data?\n",
        "2.  What are the relationships between the variables?\n",
        "3.  Which relationships are \"real\", and which spurious?\n",
        "\n",
        "The variable types are int64, meaning integers. Time is continuous, weight and age are ordinal.\n",
        "\n",
        "The weight has a strong correlative relationship to the amount of time spent exercising. Age has some correlation with exercise time. ID has no relationship to anything as it is used solely as an identifier. \n",
        "\n",
        "There is a \"real\" correlation between weight and time spent exercising. This holds true for age and exercise time as well. The relationship between age and weight is statistically spurious. \n",
        "\n"
      ]
    }
  ]
}