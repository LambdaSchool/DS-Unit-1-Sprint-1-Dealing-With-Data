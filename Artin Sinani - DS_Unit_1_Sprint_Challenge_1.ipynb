{
  "nbformat": 4,
  "nbformat_minor": 0,
  "metadata": {
    "colab": {
      "name": "Copy of DS_Unit_1_Sprint_Challenge_1.ipynb",
      "version": "0.3.2",
      "provenance": [],
      "collapsed_sections": [],
      "include_colab_link": true
    },
    "kernelspec": {
      "name": "python3",
      "display_name": "Python 3"
    }
  },
  "cells": [
    {
      "cell_type": "markdown",
      "metadata": {
        "id": "view-in-github",
        "colab_type": "text"
      },
      "source": [
        "<a href=\"https://colab.research.google.com/github/TheJoys2019/DS-Unit-1-Sprint-1-Dealing-With-Data/blob/master/Artin%20Sinani%20-%20DS_Unit_1_Sprint_Challenge_1.ipynb\" target=\"_parent\"><img src=\"https://colab.research.google.com/assets/colab-badge.svg\" alt=\"Open In Colab\"/></a>"
      ]
    },
    {
      "metadata": {
        "id": "NooAiTdnafkz",
        "colab_type": "text"
      },
      "cell_type": "markdown",
      "source": [
        "# Data Science Unit 1 Sprint Challenge 1\n",
        "\n",
        "## Loading, cleaning, visualizing, and analyzing data\n",
        "\n",
        "In this sprint challenge you will look at a dataset of the survival of patients who underwent surgery for breast cancer.\n",
        "\n",
        "http://archive.ics.uci.edu/ml/datasets/Haberman%27s+Survival\n",
        "\n",
        "Data Set Information:\n",
        "The dataset contains cases from a study that was conducted between 1958 and 1970 at the University of Chicago's Billings Hospital on the survival of patients who had undergone surgery for breast cancer.\n",
        "\n",
        "Attribute Information:\n",
        "1. Age of patient at time of operation (numerical)\n",
        "2. Patient's year of operation (year - 1900, numerical)\n",
        "3. Number of positive axillary nodes detected (numerical)\n",
        "4. Survival status (class attribute)\n",
        "-- 1 = the patient survived 5 years or longer\n",
        "-- 2 = the patient died within 5 year\n",
        "\n",
        "Sprint challenges are evaluated based on satisfactory completion of each part. It is suggested you work through it in order, getting each aspect reasonably working, before trying to deeply explore, iterate, or refine any given step. Once you get to the end, if you want to go back and improve things, go for it!"
      ]
    },
    {
      "metadata": {
        "id": "5wch6ksCbJtZ",
        "colab_type": "text"
      },
      "cell_type": "markdown",
      "source": [
        "## Part 1 - Load and validate the data\n",
        "\n",
        "- Load the data as a `pandas` data frame.\n",
        "- Validate that it has the appropriate number of observations (you can check the raw file, and also read the dataset description from UCI).\n",
        "- Validate that you have no missing values.\n",
        "- Add informative names to the features.\n",
        "- The survival variable is encoded as 1 for surviving >5 years and 2 for not - change this to be 0 for not surviving and 1 for surviving >5 years (0/1 is a more traditional encoding of binary variables)\n",
        "\n",
        "At the end, print the first five rows of the dataset to demonstrate the above."
      ]
    },
    {
      "metadata": {
        "id": "287TpoGKFRVK",
        "colab_type": "code",
        "outputId": "7960ec3e-dc5d-497e-b539-6f9bba24cbfe",
        "colab": {
          "base_uri": "https://localhost:8080/",
          "height": 491
        }
      },
      "cell_type": "code",
      "source": [
        "# TODO\n",
        "# Importing the libraries \n",
        "\n",
        "import pandas as pd\n",
        "import matplotlib.pyplot as plt\n",
        "import seaborn as sns\n",
        "import numpy as np\n",
        "\n",
        "# Loading the dataset file\n",
        "patients = pd.read_csv('http://archive.ics.uci.edu/ml/machine-learning-databases/haberman/haberman.data', header=None)\n",
        "\n",
        "#Renaming the column names here to make some sense of the numbers\n",
        "patients.columns = ['Age', 'Year of Operation','Positive Aux Nodes','Survival Status']\n",
        "\n",
        "# Displaying the first 15 rows to give us a better feel for the dataset\n",
        "patients.head(15)"
      ],
      "execution_count": 0,
      "outputs": [
        {
          "output_type": "execute_result",
          "data": {
            "text/html": [
              "<div>\n",
              "<style scoped>\n",
              "    .dataframe tbody tr th:only-of-type {\n",
              "        vertical-align: middle;\n",
              "    }\n",
              "\n",
              "    .dataframe tbody tr th {\n",
              "        vertical-align: top;\n",
              "    }\n",
              "\n",
              "    .dataframe thead th {\n",
              "        text-align: right;\n",
              "    }\n",
              "</style>\n",
              "<table border=\"1\" class=\"dataframe\">\n",
              "  <thead>\n",
              "    <tr style=\"text-align: right;\">\n",
              "      <th></th>\n",
              "      <th>Age</th>\n",
              "      <th>Year of Operation</th>\n",
              "      <th>Positive Aux Nodes</th>\n",
              "      <th>Survival Status</th>\n",
              "    </tr>\n",
              "  </thead>\n",
              "  <tbody>\n",
              "    <tr>\n",
              "      <th>0</th>\n",
              "      <td>30</td>\n",
              "      <td>64</td>\n",
              "      <td>1</td>\n",
              "      <td>1</td>\n",
              "    </tr>\n",
              "    <tr>\n",
              "      <th>1</th>\n",
              "      <td>30</td>\n",
              "      <td>62</td>\n",
              "      <td>3</td>\n",
              "      <td>1</td>\n",
              "    </tr>\n",
              "    <tr>\n",
              "      <th>2</th>\n",
              "      <td>30</td>\n",
              "      <td>65</td>\n",
              "      <td>0</td>\n",
              "      <td>1</td>\n",
              "    </tr>\n",
              "    <tr>\n",
              "      <th>3</th>\n",
              "      <td>31</td>\n",
              "      <td>59</td>\n",
              "      <td>2</td>\n",
              "      <td>1</td>\n",
              "    </tr>\n",
              "    <tr>\n",
              "      <th>4</th>\n",
              "      <td>31</td>\n",
              "      <td>65</td>\n",
              "      <td>4</td>\n",
              "      <td>1</td>\n",
              "    </tr>\n",
              "    <tr>\n",
              "      <th>5</th>\n",
              "      <td>33</td>\n",
              "      <td>58</td>\n",
              "      <td>10</td>\n",
              "      <td>1</td>\n",
              "    </tr>\n",
              "    <tr>\n",
              "      <th>6</th>\n",
              "      <td>33</td>\n",
              "      <td>60</td>\n",
              "      <td>0</td>\n",
              "      <td>1</td>\n",
              "    </tr>\n",
              "    <tr>\n",
              "      <th>7</th>\n",
              "      <td>34</td>\n",
              "      <td>59</td>\n",
              "      <td>0</td>\n",
              "      <td>2</td>\n",
              "    </tr>\n",
              "    <tr>\n",
              "      <th>8</th>\n",
              "      <td>34</td>\n",
              "      <td>66</td>\n",
              "      <td>9</td>\n",
              "      <td>2</td>\n",
              "    </tr>\n",
              "    <tr>\n",
              "      <th>9</th>\n",
              "      <td>34</td>\n",
              "      <td>58</td>\n",
              "      <td>30</td>\n",
              "      <td>1</td>\n",
              "    </tr>\n",
              "    <tr>\n",
              "      <th>10</th>\n",
              "      <td>34</td>\n",
              "      <td>60</td>\n",
              "      <td>1</td>\n",
              "      <td>1</td>\n",
              "    </tr>\n",
              "    <tr>\n",
              "      <th>11</th>\n",
              "      <td>34</td>\n",
              "      <td>61</td>\n",
              "      <td>10</td>\n",
              "      <td>1</td>\n",
              "    </tr>\n",
              "    <tr>\n",
              "      <th>12</th>\n",
              "      <td>34</td>\n",
              "      <td>67</td>\n",
              "      <td>7</td>\n",
              "      <td>1</td>\n",
              "    </tr>\n",
              "    <tr>\n",
              "      <th>13</th>\n",
              "      <td>34</td>\n",
              "      <td>60</td>\n",
              "      <td>0</td>\n",
              "      <td>1</td>\n",
              "    </tr>\n",
              "    <tr>\n",
              "      <th>14</th>\n",
              "      <td>35</td>\n",
              "      <td>64</td>\n",
              "      <td>13</td>\n",
              "      <td>1</td>\n",
              "    </tr>\n",
              "  </tbody>\n",
              "</table>\n",
              "</div>"
            ],
            "text/plain": [
              "    Age  Year of Operation  Positive Aux Nodes  Survival Status\n",
              "0    30                 64                   1                1\n",
              "1    30                 62                   3                1\n",
              "2    30                 65                   0                1\n",
              "3    31                 59                   2                1\n",
              "4    31                 65                   4                1\n",
              "5    33                 58                  10                1\n",
              "6    33                 60                   0                1\n",
              "7    34                 59                   0                2\n",
              "8    34                 66                   9                2\n",
              "9    34                 58                  30                1\n",
              "10   34                 60                   1                1\n",
              "11   34                 61                  10                1\n",
              "12   34                 67                   7                1\n",
              "13   34                 60                   0                1\n",
              "14   35                 64                  13                1"
            ]
          },
          "metadata": {
            "tags": []
          },
          "execution_count": 49
        }
      ]
    },
    {
      "metadata": {
        "id": "FbnwekLV8Hfa",
        "colab_type": "code",
        "outputId": "dfa43c3c-c317-411a-ccc5-7d04c79a1c53",
        "colab": {
          "base_uri": "https://localhost:8080/",
          "height": 101
        }
      },
      "cell_type": "code",
      "source": [
        "# Looks like there are no Null values\n",
        "patients.isnull().sum()\n"
      ],
      "execution_count": 0,
      "outputs": [
        {
          "output_type": "execute_result",
          "data": {
            "text/plain": [
              "Age                   0\n",
              "Year of Operation     0\n",
              "Positive Aux Nodes    0\n",
              "Survival Status       0\n",
              "dtype: int64"
            ]
          },
          "metadata": {
            "tags": []
          },
          "execution_count": 50
        }
      ]
    },
    {
      "metadata": {
        "id": "-5adx3u58rr7",
        "colab_type": "code",
        "outputId": "7ed86d1d-7029-4235-a8bb-03f0d8922a3f",
        "colab": {
          "base_uri": "https://localhost:8080/",
          "height": 101
        }
      },
      "cell_type": "code",
      "source": [
        "# Looks like there are no NaN values. \n",
        "patients.isna().sum()"
      ],
      "execution_count": 0,
      "outputs": [
        {
          "output_type": "execute_result",
          "data": {
            "text/plain": [
              "Age                   0\n",
              "Year of Operation     0\n",
              "Positive Aux Nodes    0\n",
              "Survival Status       0\n",
              "dtype: int64"
            ]
          },
          "metadata": {
            "tags": []
          },
          "execution_count": 51
        }
      ]
    },
    {
      "metadata": {
        "id": "tK2_Y8SB9tF5",
        "colab_type": "code",
        "outputId": "3b4a2074-d1f7-410c-a3c6-0f04a4054a07",
        "colab": {
          "base_uri": "https://localhost:8080/",
          "height": 34
        }
      },
      "cell_type": "code",
      "source": [
        "# Looks like the number of instances () and attributes are correct\n",
        "patients.shape"
      ],
      "execution_count": 0,
      "outputs": [
        {
          "output_type": "execute_result",
          "data": {
            "text/plain": [
              "(306, 4)"
            ]
          },
          "metadata": {
            "tags": []
          },
          "execution_count": 52
        }
      ]
    },
    {
      "metadata": {
        "id": "qAECY_O__9as",
        "colab_type": "code",
        "outputId": "2316dcb9-f0ec-4c85-dcb6-294fae454042",
        "colab": {
          "base_uri": "https://localhost:8080/",
          "height": 1058
        }
      },
      "cell_type": "code",
      "source": [
        "# Replaced survival variable is encoded as 1 for surviving >5 years \n",
        "# and 2 for not - change this to be 0 for not surviving and 1 for surviving \n",
        "#>5 years (0/1 is a more traditional encoding of binary variables)\n",
        "\n",
        "patients['Survival Status'].replace(to_replace=(1,2), value=(0,1))"
      ],
      "execution_count": 0,
      "outputs": [
        {
          "output_type": "execute_result",
          "data": {
            "text/plain": [
              "0      0\n",
              "1      0\n",
              "2      0\n",
              "3      0\n",
              "4      0\n",
              "5      0\n",
              "6      0\n",
              "7      1\n",
              "8      1\n",
              "9      0\n",
              "10     0\n",
              "11     0\n",
              "12     0\n",
              "13     0\n",
              "14     0\n",
              "15     0\n",
              "16     0\n",
              "17     0\n",
              "18     0\n",
              "19     0\n",
              "20     0\n",
              "21     0\n",
              "22     0\n",
              "23     0\n",
              "24     1\n",
              "25     0\n",
              "26     0\n",
              "27     0\n",
              "28     0\n",
              "29     0\n",
              "      ..\n",
              "276    0\n",
              "277    0\n",
              "278    0\n",
              "279    0\n",
              "280    0\n",
              "281    1\n",
              "282    0\n",
              "283    0\n",
              "284    0\n",
              "285    1\n",
              "286    1\n",
              "287    0\n",
              "288    0\n",
              "289    0\n",
              "290    0\n",
              "291    0\n",
              "292    0\n",
              "293    1\n",
              "294    0\n",
              "295    0\n",
              "296    0\n",
              "297    0\n",
              "298    0\n",
              "299    1\n",
              "300    0\n",
              "301    0\n",
              "302    0\n",
              "303    0\n",
              "304    1\n",
              "305    1\n",
              "Name: Survival Status, Length: 306, dtype: int64"
            ]
          },
          "metadata": {
            "tags": []
          },
          "execution_count": 53
        }
      ]
    },
    {
      "metadata": {
        "id": "G7rLytbrO38L",
        "colab_type": "text"
      },
      "cell_type": "markdown",
      "source": [
        "## Part 2 - Examine the distribution and relationships of the features\n",
        "\n",
        "Explore the data - create at least *2* tables (can be summary statistics or crosstabulations) and *2* plots illustrating the nature of the data.\n",
        "\n",
        "This is open-ended, so to remind - first *complete* this task as a baseline, then go on to the remaining sections, and *then* as time allows revisit and explore further.\n",
        "\n",
        "Hint - you may need to bin some variables depending on your chosen tables/plots."
      ]
    },
    {
      "metadata": {
        "id": "xWX6tRdk8Cz2",
        "colab_type": "code",
        "outputId": "1a03bbf2-424b-46f1-b73a-581a40db7348",
        "colab": {
          "base_uri": "https://localhost:8080/",
          "height": 284
        }
      },
      "cell_type": "code",
      "source": [
        "# Checking out the statistics for each column\n",
        "patients.describe()"
      ],
      "execution_count": 0,
      "outputs": [
        {
          "output_type": "execute_result",
          "data": {
            "text/html": [
              "<div>\n",
              "<style scoped>\n",
              "    .dataframe tbody tr th:only-of-type {\n",
              "        vertical-align: middle;\n",
              "    }\n",
              "\n",
              "    .dataframe tbody tr th {\n",
              "        vertical-align: top;\n",
              "    }\n",
              "\n",
              "    .dataframe thead th {\n",
              "        text-align: right;\n",
              "    }\n",
              "</style>\n",
              "<table border=\"1\" class=\"dataframe\">\n",
              "  <thead>\n",
              "    <tr style=\"text-align: right;\">\n",
              "      <th></th>\n",
              "      <th>Age</th>\n",
              "      <th>Year of Operation</th>\n",
              "      <th>Positive Aux Nodes</th>\n",
              "      <th>Survival Status</th>\n",
              "    </tr>\n",
              "  </thead>\n",
              "  <tbody>\n",
              "    <tr>\n",
              "      <th>count</th>\n",
              "      <td>306.000000</td>\n",
              "      <td>306.000000</td>\n",
              "      <td>306.000000</td>\n",
              "      <td>306.000000</td>\n",
              "    </tr>\n",
              "    <tr>\n",
              "      <th>mean</th>\n",
              "      <td>52.457516</td>\n",
              "      <td>62.852941</td>\n",
              "      <td>4.026144</td>\n",
              "      <td>1.264706</td>\n",
              "    </tr>\n",
              "    <tr>\n",
              "      <th>std</th>\n",
              "      <td>10.803452</td>\n",
              "      <td>3.249405</td>\n",
              "      <td>7.189654</td>\n",
              "      <td>0.441899</td>\n",
              "    </tr>\n",
              "    <tr>\n",
              "      <th>min</th>\n",
              "      <td>30.000000</td>\n",
              "      <td>58.000000</td>\n",
              "      <td>0.000000</td>\n",
              "      <td>1.000000</td>\n",
              "    </tr>\n",
              "    <tr>\n",
              "      <th>25%</th>\n",
              "      <td>44.000000</td>\n",
              "      <td>60.000000</td>\n",
              "      <td>0.000000</td>\n",
              "      <td>1.000000</td>\n",
              "    </tr>\n",
              "    <tr>\n",
              "      <th>50%</th>\n",
              "      <td>52.000000</td>\n",
              "      <td>63.000000</td>\n",
              "      <td>1.000000</td>\n",
              "      <td>1.000000</td>\n",
              "    </tr>\n",
              "    <tr>\n",
              "      <th>75%</th>\n",
              "      <td>60.750000</td>\n",
              "      <td>65.750000</td>\n",
              "      <td>4.000000</td>\n",
              "      <td>2.000000</td>\n",
              "    </tr>\n",
              "    <tr>\n",
              "      <th>max</th>\n",
              "      <td>83.000000</td>\n",
              "      <td>69.000000</td>\n",
              "      <td>52.000000</td>\n",
              "      <td>2.000000</td>\n",
              "    </tr>\n",
              "  </tbody>\n",
              "</table>\n",
              "</div>"
            ],
            "text/plain": [
              "              Age  Year of Operation  Positive Aux Nodes  Survival Status\n",
              "count  306.000000         306.000000          306.000000       306.000000\n",
              "mean    52.457516          62.852941            4.026144         1.264706\n",
              "std     10.803452           3.249405            7.189654         0.441899\n",
              "min     30.000000          58.000000            0.000000         1.000000\n",
              "25%     44.000000          60.000000            0.000000         1.000000\n",
              "50%     52.000000          63.000000            1.000000         1.000000\n",
              "75%     60.750000          65.750000            4.000000         2.000000\n",
              "max     83.000000          69.000000           52.000000         2.000000"
            ]
          },
          "metadata": {
            "tags": []
          },
          "execution_count": 54
        }
      ]
    },
    {
      "metadata": {
        "id": "IAkllgCIFVj0",
        "colab_type": "code",
        "outputId": "d8a621e3-d0e4-481e-f91c-f3724c082455",
        "colab": {
          "base_uri": "https://localhost:8080/",
          "height": 994
        }
      },
      "cell_type": "code",
      "source": [
        "# Let's make some crosstabulations! Fun!\n",
        "# First CrossFABULOUStions (Get it? Like Fabulous Crosstabulation?)\n",
        "# Positive Aux Nodes VS Survival Status\n",
        "\n",
        "# Well that crosstab wasn't so fabulous, let's make it look condensed and sexy next\n",
        "pd.crosstab(patients['Positive Aux Nodes'], patients['Survival Status'])"
      ],
      "execution_count": 0,
      "outputs": [
        {
          "output_type": "execute_result",
          "data": {
            "text/html": [
              "<div>\n",
              "<style scoped>\n",
              "    .dataframe tbody tr th:only-of-type {\n",
              "        vertical-align: middle;\n",
              "    }\n",
              "\n",
              "    .dataframe tbody tr th {\n",
              "        vertical-align: top;\n",
              "    }\n",
              "\n",
              "    .dataframe thead th {\n",
              "        text-align: right;\n",
              "    }\n",
              "</style>\n",
              "<table border=\"1\" class=\"dataframe\">\n",
              "  <thead>\n",
              "    <tr style=\"text-align: right;\">\n",
              "      <th>Survival Status</th>\n",
              "      <th>1</th>\n",
              "      <th>2</th>\n",
              "    </tr>\n",
              "    <tr>\n",
              "      <th>Positive Aux Nodes</th>\n",
              "      <th></th>\n",
              "      <th></th>\n",
              "    </tr>\n",
              "  </thead>\n",
              "  <tbody>\n",
              "    <tr>\n",
              "      <th>0</th>\n",
              "      <td>117</td>\n",
              "      <td>19</td>\n",
              "    </tr>\n",
              "    <tr>\n",
              "      <th>1</th>\n",
              "      <td>33</td>\n",
              "      <td>8</td>\n",
              "    </tr>\n",
              "    <tr>\n",
              "      <th>2</th>\n",
              "      <td>15</td>\n",
              "      <td>5</td>\n",
              "    </tr>\n",
              "    <tr>\n",
              "      <th>3</th>\n",
              "      <td>13</td>\n",
              "      <td>7</td>\n",
              "    </tr>\n",
              "    <tr>\n",
              "      <th>4</th>\n",
              "      <td>10</td>\n",
              "      <td>3</td>\n",
              "    </tr>\n",
              "    <tr>\n",
              "      <th>5</th>\n",
              "      <td>2</td>\n",
              "      <td>4</td>\n",
              "    </tr>\n",
              "    <tr>\n",
              "      <th>6</th>\n",
              "      <td>4</td>\n",
              "      <td>3</td>\n",
              "    </tr>\n",
              "    <tr>\n",
              "      <th>7</th>\n",
              "      <td>5</td>\n",
              "      <td>2</td>\n",
              "    </tr>\n",
              "    <tr>\n",
              "      <th>8</th>\n",
              "      <td>5</td>\n",
              "      <td>2</td>\n",
              "    </tr>\n",
              "    <tr>\n",
              "      <th>9</th>\n",
              "      <td>2</td>\n",
              "      <td>4</td>\n",
              "    </tr>\n",
              "    <tr>\n",
              "      <th>10</th>\n",
              "      <td>2</td>\n",
              "      <td>1</td>\n",
              "    </tr>\n",
              "    <tr>\n",
              "      <th>11</th>\n",
              "      <td>1</td>\n",
              "      <td>3</td>\n",
              "    </tr>\n",
              "    <tr>\n",
              "      <th>12</th>\n",
              "      <td>1</td>\n",
              "      <td>1</td>\n",
              "    </tr>\n",
              "    <tr>\n",
              "      <th>13</th>\n",
              "      <td>1</td>\n",
              "      <td>4</td>\n",
              "    </tr>\n",
              "    <tr>\n",
              "      <th>14</th>\n",
              "      <td>3</td>\n",
              "      <td>1</td>\n",
              "    </tr>\n",
              "    <tr>\n",
              "      <th>15</th>\n",
              "      <td>1</td>\n",
              "      <td>2</td>\n",
              "    </tr>\n",
              "    <tr>\n",
              "      <th>16</th>\n",
              "      <td>1</td>\n",
              "      <td>0</td>\n",
              "    </tr>\n",
              "    <tr>\n",
              "      <th>17</th>\n",
              "      <td>0</td>\n",
              "      <td>1</td>\n",
              "    </tr>\n",
              "    <tr>\n",
              "      <th>18</th>\n",
              "      <td>1</td>\n",
              "      <td>0</td>\n",
              "    </tr>\n",
              "    <tr>\n",
              "      <th>19</th>\n",
              "      <td>1</td>\n",
              "      <td>2</td>\n",
              "    </tr>\n",
              "    <tr>\n",
              "      <th>20</th>\n",
              "      <td>1</td>\n",
              "      <td>1</td>\n",
              "    </tr>\n",
              "    <tr>\n",
              "      <th>21</th>\n",
              "      <td>0</td>\n",
              "      <td>1</td>\n",
              "    </tr>\n",
              "    <tr>\n",
              "      <th>22</th>\n",
              "      <td>2</td>\n",
              "      <td>1</td>\n",
              "    </tr>\n",
              "    <tr>\n",
              "      <th>23</th>\n",
              "      <td>0</td>\n",
              "      <td>3</td>\n",
              "    </tr>\n",
              "    <tr>\n",
              "      <th>24</th>\n",
              "      <td>0</td>\n",
              "      <td>1</td>\n",
              "    </tr>\n",
              "    <tr>\n",
              "      <th>25</th>\n",
              "      <td>1</td>\n",
              "      <td>0</td>\n",
              "    </tr>\n",
              "    <tr>\n",
              "      <th>28</th>\n",
              "      <td>1</td>\n",
              "      <td>0</td>\n",
              "    </tr>\n",
              "    <tr>\n",
              "      <th>30</th>\n",
              "      <td>1</td>\n",
              "      <td>0</td>\n",
              "    </tr>\n",
              "    <tr>\n",
              "      <th>35</th>\n",
              "      <td>0</td>\n",
              "      <td>1</td>\n",
              "    </tr>\n",
              "    <tr>\n",
              "      <th>46</th>\n",
              "      <td>1</td>\n",
              "      <td>0</td>\n",
              "    </tr>\n",
              "    <tr>\n",
              "      <th>52</th>\n",
              "      <td>0</td>\n",
              "      <td>1</td>\n",
              "    </tr>\n",
              "  </tbody>\n",
              "</table>\n",
              "</div>"
            ],
            "text/plain": [
              "Survival Status       1   2\n",
              "Positive Aux Nodes         \n",
              "0                   117  19\n",
              "1                    33   8\n",
              "2                    15   5\n",
              "3                    13   7\n",
              "4                    10   3\n",
              "5                     2   4\n",
              "6                     4   3\n",
              "7                     5   2\n",
              "8                     5   2\n",
              "9                     2   4\n",
              "10                    2   1\n",
              "11                    1   3\n",
              "12                    1   1\n",
              "13                    1   4\n",
              "14                    3   1\n",
              "15                    1   2\n",
              "16                    1   0\n",
              "17                    0   1\n",
              "18                    1   0\n",
              "19                    1   2\n",
              "20                    1   1\n",
              "21                    0   1\n",
              "22                    2   1\n",
              "23                    0   3\n",
              "24                    0   1\n",
              "25                    1   0\n",
              "28                    1   0\n",
              "30                    1   0\n",
              "35                    0   1\n",
              "46                    1   0\n",
              "52                    0   1"
            ]
          },
          "metadata": {
            "tags": []
          },
          "execution_count": 55
        }
      ]
    },
    {
      "metadata": {
        "id": "FsKcIL4hOEnk",
        "colab_type": "code",
        "outputId": "ae808cc6-cc33-47d9-a95a-fb9369ca026f",
        "colab": {
          "base_uri": "https://localhost:8080/",
          "height": 225
        }
      },
      "cell_type": "code",
      "source": [
        "# Now that looks much sexier and helps us understand the data\n",
        "\n",
        "PAN_bin = pd.cut(patients['Positive Aux Nodes'],5)\n",
        "Surv_bin = pd.cut(patients['Survival Status'], 5)\n",
        "\n",
        "pd.crosstab(PAN_bin, Surv_bin)"
      ],
      "execution_count": 0,
      "outputs": [
        {
          "output_type": "execute_result",
          "data": {
            "text/html": [
              "<div>\n",
              "<style scoped>\n",
              "    .dataframe tbody tr th:only-of-type {\n",
              "        vertical-align: middle;\n",
              "    }\n",
              "\n",
              "    .dataframe tbody tr th {\n",
              "        vertical-align: top;\n",
              "    }\n",
              "\n",
              "    .dataframe thead th {\n",
              "        text-align: right;\n",
              "    }\n",
              "</style>\n",
              "<table border=\"1\" class=\"dataframe\">\n",
              "  <thead>\n",
              "    <tr style=\"text-align: right;\">\n",
              "      <th>Survival Status</th>\n",
              "      <th>(0.999, 1.2]</th>\n",
              "      <th>(1.2, 1.4]</th>\n",
              "      <th>(1.4, 1.6]</th>\n",
              "      <th>(1.6, 1.8]</th>\n",
              "      <th>(1.8, 2.0]</th>\n",
              "    </tr>\n",
              "    <tr>\n",
              "      <th>Positive Aux Nodes</th>\n",
              "      <th></th>\n",
              "      <th></th>\n",
              "      <th></th>\n",
              "      <th></th>\n",
              "      <th></th>\n",
              "    </tr>\n",
              "  </thead>\n",
              "  <tbody>\n",
              "    <tr>\n",
              "      <th>(-0.052, 10.4]</th>\n",
              "      <td>208</td>\n",
              "      <td>0</td>\n",
              "      <td>0</td>\n",
              "      <td>0</td>\n",
              "      <td>58</td>\n",
              "    </tr>\n",
              "    <tr>\n",
              "      <th>(10.4, 20.8]</th>\n",
              "      <td>11</td>\n",
              "      <td>0</td>\n",
              "      <td>0</td>\n",
              "      <td>0</td>\n",
              "      <td>15</td>\n",
              "    </tr>\n",
              "    <tr>\n",
              "      <th>(20.8, 31.2]</th>\n",
              "      <td>5</td>\n",
              "      <td>0</td>\n",
              "      <td>0</td>\n",
              "      <td>0</td>\n",
              "      <td>6</td>\n",
              "    </tr>\n",
              "    <tr>\n",
              "      <th>(31.2, 41.6]</th>\n",
              "      <td>0</td>\n",
              "      <td>0</td>\n",
              "      <td>0</td>\n",
              "      <td>0</td>\n",
              "      <td>1</td>\n",
              "    </tr>\n",
              "    <tr>\n",
              "      <th>(41.6, 52.0]</th>\n",
              "      <td>1</td>\n",
              "      <td>0</td>\n",
              "      <td>0</td>\n",
              "      <td>0</td>\n",
              "      <td>1</td>\n",
              "    </tr>\n",
              "  </tbody>\n",
              "</table>\n",
              "</div>"
            ],
            "text/plain": [
              "Survival Status     (0.999, 1.2]  (1.2, 1.4]  (1.4, 1.6]  (1.6, 1.8]  \\\n",
              "Positive Aux Nodes                                                     \n",
              "(-0.052, 10.4]               208           0           0           0   \n",
              "(10.4, 20.8]                  11           0           0           0   \n",
              "(20.8, 31.2]                   5           0           0           0   \n",
              "(31.2, 41.6]                   0           0           0           0   \n",
              "(41.6, 52.0]                   1           0           0           0   \n",
              "\n",
              "Survival Status     (1.8, 2.0]  \n",
              "Positive Aux Nodes              \n",
              "(-0.052, 10.4]              58  \n",
              "(10.4, 20.8]                15  \n",
              "(20.8, 31.2]                 6  \n",
              "(31.2, 41.6]                 1  \n",
              "(41.6, 52.0]                 1  "
            ]
          },
          "metadata": {
            "tags": []
          },
          "execution_count": 56
        }
      ]
    },
    {
      "metadata": {
        "id": "x23NDV6qPf5q",
        "colab_type": "code",
        "outputId": "039bed7b-0c75-452f-8deb-93c35ac836ca",
        "colab": {
          "base_uri": "https://localhost:8080/",
          "height": 346
        }
      },
      "cell_type": "code",
      "source": [
        "# Let's create a bar graph to make sense of Survival Status\n",
        "\n",
        "pd.pivot_table(patients, values='Survival Status', index=PAN_bin).plot.bar(color='orange', edgecolor='green', linewidth=3)"
      ],
      "execution_count": 0,
      "outputs": [
        {
          "output_type": "execute_result",
          "data": {
            "text/plain": [
              "<matplotlib.axes._subplots.AxesSubplot at 0x7fbbd8a52780>"
            ]
          },
          "metadata": {
            "tags": []
          },
          "execution_count": 57
        },
        {
          "output_type": "display_data",
          "data": {
            "image/png": "[encoded data removed]",
            "text/plain": [
              "<Figure size 432x288 with 1 Axes>"
            ]
          },
          "metadata": {
            "tags": []
          }
        }
      ]
    },
    {
      "metadata": {
        "id": "uBsaZVmFRtf_",
        "colab_type": "code",
        "outputId": "067d429a-1a2c-465e-a958-096e7b3c3f16",
        "colab": {
          "base_uri": "https://localhost:8080/",
          "height": 334
        }
      },
      "cell_type": "code",
      "source": [
        "# Let's make a crosstab for survival, PAN and Age to analyze \n",
        "\n",
        "PAN_SURV = pd.crosstab(PAN_bin, [patients['Survival Status'], patients['Age']], normalize='columns')\n",
        "print(type(PAN_SURV))\n",
        "PAN_SURV"
      ],
      "execution_count": 70,
      "outputs": [
        {
          "output_type": "stream",
          "text": [
            "<class 'pandas.core.frame.DataFrame'>\n"
          ],
          "name": "stdout"
        },
        {
          "output_type": "execute_result",
          "data": {
            "text/html": [
              "<div>\n",
              "<style scoped>\n",
              "    .dataframe tbody tr th:only-of-type {\n",
              "        vertical-align: middle;\n",
              "    }\n",
              "\n",
              "    .dataframe tbody tr th {\n",
              "        vertical-align: top;\n",
              "    }\n",
              "\n",
              "    .dataframe thead tr th {\n",
              "        text-align: left;\n",
              "    }\n",
              "\n",
              "    .dataframe thead tr:last-of-type th {\n",
              "        text-align: right;\n",
              "    }\n",
              "</style>\n",
              "<table border=\"1\" class=\"dataframe\">\n",
              "  <thead>\n",
              "    <tr>\n",
              "      <th>Survival Status</th>\n",
              "      <th colspan=\"10\" halign=\"left\">1</th>\n",
              "      <th>...</th>\n",
              "      <th colspan=\"10\" halign=\"left\">2</th>\n",
              "    </tr>\n",
              "    <tr>\n",
              "      <th>Age</th>\n",
              "      <th>30</th>\n",
              "      <th>31</th>\n",
              "      <th>33</th>\n",
              "      <th>34</th>\n",
              "      <th>35</th>\n",
              "      <th>36</th>\n",
              "      <th>37</th>\n",
              "      <th>38</th>\n",
              "      <th>39</th>\n",
              "      <th>40</th>\n",
              "      <th>...</th>\n",
              "      <th>70</th>\n",
              "      <th>71</th>\n",
              "      <th>72</th>\n",
              "      <th>73</th>\n",
              "      <th>74</th>\n",
              "      <th>75</th>\n",
              "      <th>76</th>\n",
              "      <th>77</th>\n",
              "      <th>78</th>\n",
              "      <th>83</th>\n",
              "    </tr>\n",
              "    <tr>\n",
              "      <th>Positive Aux Nodes</th>\n",
              "      <th></th>\n",
              "      <th></th>\n",
              "      <th></th>\n",
              "      <th></th>\n",
              "      <th></th>\n",
              "      <th></th>\n",
              "      <th></th>\n",
              "      <th></th>\n",
              "      <th></th>\n",
              "      <th></th>\n",
              "      <th></th>\n",
              "      <th></th>\n",
              "      <th></th>\n",
              "      <th></th>\n",
              "      <th></th>\n",
              "      <th></th>\n",
              "      <th></th>\n",
              "      <th></th>\n",
              "      <th></th>\n",
              "      <th></th>\n",
              "      <th></th>\n",
              "    </tr>\n",
              "  </thead>\n",
              "  <tbody>\n",
              "    <tr>\n",
              "      <th>(-0.052, 10.4]</th>\n",
              "      <td>1.0</td>\n",
              "      <td>1.0</td>\n",
              "      <td>1.0</td>\n",
              "      <td>0.8</td>\n",
              "      <td>0.5</td>\n",
              "      <td>1.0</td>\n",
              "      <td>0.833333</td>\n",
              "      <td>0.888889</td>\n",
              "      <td>1.0</td>\n",
              "      <td>1.0</td>\n",
              "      <td>...</td>\n",
              "      <td>1.0</td>\n",
              "      <td>0.0</td>\n",
              "      <td>1.0</td>\n",
              "      <td>0.0</td>\n",
              "      <td>1.0</td>\n",
              "      <td>0.0</td>\n",
              "      <td>0.0</td>\n",
              "      <td>0.0</td>\n",
              "      <td>1.0</td>\n",
              "      <td>1.0</td>\n",
              "    </tr>\n",
              "    <tr>\n",
              "      <th>(10.4, 20.8]</th>\n",
              "      <td>0.0</td>\n",
              "      <td>0.0</td>\n",
              "      <td>0.0</td>\n",
              "      <td>0.0</td>\n",
              "      <td>0.5</td>\n",
              "      <td>0.0</td>\n",
              "      <td>0.166667</td>\n",
              "      <td>0.111111</td>\n",
              "      <td>0.0</td>\n",
              "      <td>0.0</td>\n",
              "      <td>...</td>\n",
              "      <td>0.0</td>\n",
              "      <td>0.0</td>\n",
              "      <td>0.0</td>\n",
              "      <td>0.0</td>\n",
              "      <td>0.0</td>\n",
              "      <td>0.0</td>\n",
              "      <td>0.0</td>\n",
              "      <td>0.0</td>\n",
              "      <td>0.0</td>\n",
              "      <td>0.0</td>\n",
              "    </tr>\n",
              "    <tr>\n",
              "      <th>(20.8, 31.2]</th>\n",
              "      <td>0.0</td>\n",
              "      <td>0.0</td>\n",
              "      <td>0.0</td>\n",
              "      <td>0.2</td>\n",
              "      <td>0.0</td>\n",
              "      <td>0.0</td>\n",
              "      <td>0.000000</td>\n",
              "      <td>0.000000</td>\n",
              "      <td>0.0</td>\n",
              "      <td>0.0</td>\n",
              "      <td>...</td>\n",
              "      <td>0.0</td>\n",
              "      <td>0.0</td>\n",
              "      <td>0.0</td>\n",
              "      <td>0.0</td>\n",
              "      <td>0.0</td>\n",
              "      <td>0.0</td>\n",
              "      <td>0.0</td>\n",
              "      <td>0.0</td>\n",
              "      <td>0.0</td>\n",
              "      <td>0.0</td>\n",
              "    </tr>\n",
              "    <tr>\n",
              "      <th>(31.2, 41.6]</th>\n",
              "      <td>0.0</td>\n",
              "      <td>0.0</td>\n",
              "      <td>0.0</td>\n",
              "      <td>0.0</td>\n",
              "      <td>0.0</td>\n",
              "      <td>0.0</td>\n",
              "      <td>0.000000</td>\n",
              "      <td>0.000000</td>\n",
              "      <td>0.0</td>\n",
              "      <td>0.0</td>\n",
              "      <td>...</td>\n",
              "      <td>0.0</td>\n",
              "      <td>0.0</td>\n",
              "      <td>0.0</td>\n",
              "      <td>0.0</td>\n",
              "      <td>0.0</td>\n",
              "      <td>0.0</td>\n",
              "      <td>0.0</td>\n",
              "      <td>0.0</td>\n",
              "      <td>0.0</td>\n",
              "      <td>0.0</td>\n",
              "    </tr>\n",
              "    <tr>\n",
              "      <th>(41.6, 52.0]</th>\n",
              "      <td>0.0</td>\n",
              "      <td>0.0</td>\n",
              "      <td>0.0</td>\n",
              "      <td>0.0</td>\n",
              "      <td>0.0</td>\n",
              "      <td>0.0</td>\n",
              "      <td>0.000000</td>\n",
              "      <td>0.000000</td>\n",
              "      <td>0.0</td>\n",
              "      <td>0.0</td>\n",
              "      <td>...</td>\n",
              "      <td>0.0</td>\n",
              "      <td>0.0</td>\n",
              "      <td>0.0</td>\n",
              "      <td>0.0</td>\n",
              "      <td>0.0</td>\n",
              "      <td>0.0</td>\n",
              "      <td>0.0</td>\n",
              "      <td>0.0</td>\n",
              "      <td>0.0</td>\n",
              "      <td>0.0</td>\n",
              "    </tr>\n",
              "  </tbody>\n",
              "</table>\n",
              "<p>5 rows × 98 columns</p>\n",
              "</div>"
            ],
            "text/plain": [
              "Survival Status       1                                                    \\\n",
              "Age                  30   31   33   34   35   36        37        38   39   \n",
              "Positive Aux Nodes                                                          \n",
              "(-0.052, 10.4]      1.0  1.0  1.0  0.8  0.5  1.0  0.833333  0.888889  1.0   \n",
              "(10.4, 20.8]        0.0  0.0  0.0  0.0  0.5  0.0  0.166667  0.111111  0.0   \n",
              "(20.8, 31.2]        0.0  0.0  0.0  0.2  0.0  0.0  0.000000  0.000000  0.0   \n",
              "(31.2, 41.6]        0.0  0.0  0.0  0.0  0.0  0.0  0.000000  0.000000  0.0   \n",
              "(41.6, 52.0]        0.0  0.0  0.0  0.0  0.0  0.0  0.000000  0.000000  0.0   \n",
              "\n",
              "Survival Status         ...     2                                               \n",
              "Age                  40 ...    70   71   72   73   74   75   76   77   78   83  \n",
              "Positive Aux Nodes      ...                                                     \n",
              "(-0.052, 10.4]      1.0 ...   1.0  0.0  1.0  0.0  1.0  0.0  0.0  0.0  1.0  1.0  \n",
              "(10.4, 20.8]        0.0 ...   0.0  0.0  0.0  0.0  0.0  0.0  0.0  0.0  0.0  0.0  \n",
              "(20.8, 31.2]        0.0 ...   0.0  0.0  0.0  0.0  0.0  0.0  0.0  0.0  0.0  0.0  \n",
              "(31.2, 41.6]        0.0 ...   0.0  0.0  0.0  0.0  0.0  0.0  0.0  0.0  0.0  0.0  \n",
              "(41.6, 52.0]        0.0 ...   0.0  0.0  0.0  0.0  0.0  0.0  0.0  0.0  0.0  0.0  \n",
              "\n",
              "[5 rows x 98 columns]"
            ]
          },
          "metadata": {
            "tags": []
          },
          "execution_count": 70
        }
      ]
    },
    {
      "metadata": {
        "id": "lB9Kvx5KSj73",
        "colab_type": "code",
        "outputId": "71774f71-a8bf-4231-8fca-fcccf999d941",
        "colab": {
          "base_uri": "https://localhost:8080/",
          "height": 283
        }
      },
      "cell_type": "code",
      "source": [
        "# A Scatterplot to help show the PAN, AGE and Survival Status\n",
        "plt.scatter('Positive Aux Nodes', 'Age', c = 'Survival Status', cmap=\"plasma\", data=patients)\n",
        "plt.xlabel(\"Positive Aux Nodes\")\n",
        "plt.ylabel(\"Age\")\n",
        "plt.colorbar().set_label('Survival Status')\n",
        "plt.show()"
      ],
      "execution_count": 73,
      "outputs": [
        {
          "output_type": "display_data",
          "data": {
            "image/png": "[encoded data removed]",
            "text/plain": [
              "<Figure size 432x288 with 2 Axes>"
            ]
          },
          "metadata": {
            "tags": []
          }
        }
      ]
    },
    {
      "metadata": {
        "id": "QVSKSoUedb8e",
        "colab_type": "code",
        "colab": {
          "base_uri": "https://localhost:8080/",
          "height": 282
        },
        "outputId": "a4fc35b8-8ea5-40ee-c347-531ae4b99c15"
      },
      "cell_type": "code",
      "source": [
        "# This doesn't help much\n",
        "patients.plot.density()"
      ],
      "execution_count": 78,
      "outputs": [
        {
          "output_type": "execute_result",
          "data": {
            "text/plain": [
              "<matplotlib.axes._subplots.AxesSubplot at 0x7fbbd68e9828>"
            ]
          },
          "metadata": {
            "tags": []
          },
          "execution_count": 78
        },
        {
          "output_type": "display_data",
          "data": {
            "image/png": "[encoded data removed]",
            "text/plain": [
              "<Figure size 432x288 with 1 Axes>"
            ]
          },
          "metadata": {
            "tags": []
          }
        }
      ]
    },
    {
      "metadata": {
        "id": "u_zxXGWad-wT",
        "colab_type": "code",
        "colab": {}
      },
      "cell_type": "code",
      "source": [
        ""
      ],
      "execution_count": 0,
      "outputs": []
    },
    {
      "metadata": {
        "id": "p7i0t8QuZMUU",
        "colab_type": "code",
        "colab": {
          "base_uri": "https://localhost:8080/",
          "height": 34
        },
        "outputId": "3ea3cba3-3850-40e9-d272-1cc77712e15f"
      },
      "cell_type": "code",
      "source": [
        "# To remind me what the columns are instead of having to scroll up\n",
        "patients.columns"
      ],
      "execution_count": 60,
      "outputs": [
        {
          "output_type": "execute_result",
          "data": {
            "text/plain": [
              "Index(['Age', 'Year of Operation', 'Positive Aux Nodes', 'Survival Status'], dtype='object')"
            ]
          },
          "metadata": {
            "tags": []
          },
          "execution_count": 60
        }
      ]
    },
    {
      "metadata": {
        "id": "jl8vpXdUY1em",
        "colab_type": "code",
        "colab": {
          "base_uri": "https://localhost:8080/",
          "height": 364
        },
        "outputId": "c8769289-8958-4f74-b28b-82e8879e7547"
      },
      "cell_type": "code",
      "source": [
        "# Histogram of Patients Dataframe To get a better idea of whats going on\n",
        "patients.hist(bins=20)"
      ],
      "execution_count": 66,
      "outputs": [
        {
          "output_type": "execute_result",
          "data": {
            "text/plain": [
              "array([[<matplotlib.axes._subplots.AxesSubplot object at 0x7fbbd8c8b9e8>,\n",
              "        <matplotlib.axes._subplots.AxesSubplot object at 0x7fbbd89ce588>],\n",
              "       [<matplotlib.axes._subplots.AxesSubplot object at 0x7fbbd8c49eb8>,\n",
              "        <matplotlib.axes._subplots.AxesSubplot object at 0x7fbbd8c37860>]],\n",
              "      dtype=object)"
            ]
          },
          "metadata": {
            "tags": []
          },
          "execution_count": 66
        },
        {
          "output_type": "display_data",
          "data": {
            "image/png": "[encoded data removed]",
            "text/plain": [
              "<Figure size 432x288 with 4 Axes>"
            ]
          },
          "metadata": {
            "tags": []
          }
        }
      ]
    },
    {
      "metadata": {
        "id": "ZM8JckA2bgnp",
        "colab_type": "text"
      },
      "cell_type": "markdown",
      "source": [
        "## Part 3 - Analysis and Interpretation\n",
        "\n",
        "Now that you've looked at the data, answer the following questions:\n",
        "\n",
        "- What is at least one feature that looks to have a positive relationship with survival?\n",
        "- What is at least one feature that looks to have a negative relationship with survival?\n",
        "- How are those two features related with each other, and what might that mean?\n",
        "\n",
        "Answer with text, but feel free to intersperse example code/results or refer to it from earlier."
      ]
    },
    {
      "metadata": {
        "id": "vxxP061dYme7",
        "colab_type": "text"
      },
      "cell_type": "markdown",
      "source": [
        "1. What is at least one feature that looks to have a positive relationship with survival?\n",
        "    \n",
        " Based on the figure below, we can make the assumption that there is a positive relationship between survival and age when the number of positive auxiliary nodes is less than 10. As positive auxiliary nodes is a lymph node in the arm pit area to which the cancer has spread. The positive relationship between having fewer than 10 PAN.  \n",
        " \n",
        " As you can tell a regression tends to form as the PAN increases in number and the survival status begins to drop. \n",
        " \n",
        "\n"
      ]
    },
    {
      "metadata": {
        "id": "ZPHTAxKabX9A",
        "colab_type": "code",
        "colab": {
          "base_uri": "https://localhost:8080/",
          "height": 283
        },
        "outputId": "d94fba31-67ad-433b-8279-137bd42ec919"
      },
      "cell_type": "code",
      "source": [
        "# A Scatter plot to help show the relationship\n",
        "plt.scatter('Positive Aux Nodes', 'Age', c = 'Survival Status', cmap=\"plasma\", data=patients)\n",
        "plt.xlabel(\"Positive Aux Nodes\")\n",
        "plt.ylabel(\"Age\")\n",
        "plt.colorbar().set_label('Survival Status')\n",
        "plt.show()"
      ],
      "execution_count": 68,
      "outputs": [
        {
          "output_type": "display_data",
          "data": {
            "image/png": "[encoded data removed]",
            "text/plain": [
              "<Figure size 432x288 with 2 Axes>"
            ]
          },
          "metadata": {
            "tags": []
          }
        }
      ]
    },
    {
      "metadata": {
        "id": "h1nnkJqmbYmw",
        "colab_type": "text"
      },
      "cell_type": "markdown",
      "source": [
        "2. What is at least one feature that looks to have a negative relationship with survival?\n",
        "\n",
        "  A higher age shows to have a negative relationship with survival based on the crosstabulations below:\n"
      ]
    },
    {
      "metadata": {
        "id": "kYkEtlkaeYsy",
        "colab_type": "code",
        "colab": {
          "base_uri": "https://localhost:8080/",
          "height": 334
        },
        "outputId": "3a530677-d66b-416c-9f05-169dfa584349"
      },
      "cell_type": "code",
      "source": [
        "PAN_SURV = pd.crosstab(PAN_bin, [patients['Survival Status'], patients['Age']], normalize='columns')\n",
        "print(type(PAN_SURV))\n",
        "PAN_SURV"
      ],
      "execution_count": 81,
      "outputs": [
        {
          "output_type": "stream",
          "text": [
            "<class 'pandas.core.frame.DataFrame'>\n"
          ],
          "name": "stdout"
        },
        {
          "output_type": "execute_result",
          "data": {
            "text/html": [
              "<div>\n",
              "<style scoped>\n",
              "    .dataframe tbody tr th:only-of-type {\n",
              "        vertical-align: middle;\n",
              "    }\n",
              "\n",
              "    .dataframe tbody tr th {\n",
              "        vertical-align: top;\n",
              "    }\n",
              "\n",
              "    .dataframe thead tr th {\n",
              "        text-align: left;\n",
              "    }\n",
              "\n",
              "    .dataframe thead tr:last-of-type th {\n",
              "        text-align: right;\n",
              "    }\n",
              "</style>\n",
              "<table border=\"1\" class=\"dataframe\">\n",
              "  <thead>\n",
              "    <tr>\n",
              "      <th>Survival Status</th>\n",
              "      <th colspan=\"10\" halign=\"left\">1</th>\n",
              "      <th>...</th>\n",
              "      <th colspan=\"10\" halign=\"left\">2</th>\n",
              "    </tr>\n",
              "    <tr>\n",
              "      <th>Age</th>\n",
              "      <th>30</th>\n",
              "      <th>31</th>\n",
              "      <th>33</th>\n",
              "      <th>34</th>\n",
              "      <th>35</th>\n",
              "      <th>36</th>\n",
              "      <th>37</th>\n",
              "      <th>38</th>\n",
              "      <th>39</th>\n",
              "      <th>40</th>\n",
              "      <th>...</th>\n",
              "      <th>70</th>\n",
              "      <th>71</th>\n",
              "      <th>72</th>\n",
              "      <th>73</th>\n",
              "      <th>74</th>\n",
              "      <th>75</th>\n",
              "      <th>76</th>\n",
              "      <th>77</th>\n",
              "      <th>78</th>\n",
              "      <th>83</th>\n",
              "    </tr>\n",
              "    <tr>\n",
              "      <th>Positive Aux Nodes</th>\n",
              "      <th></th>\n",
              "      <th></th>\n",
              "      <th></th>\n",
              "      <th></th>\n",
              "      <th></th>\n",
              "      <th></th>\n",
              "      <th></th>\n",
              "      <th></th>\n",
              "      <th></th>\n",
              "      <th></th>\n",
              "      <th></th>\n",
              "      <th></th>\n",
              "      <th></th>\n",
              "      <th></th>\n",
              "      <th></th>\n",
              "      <th></th>\n",
              "      <th></th>\n",
              "      <th></th>\n",
              "      <th></th>\n",
              "      <th></th>\n",
              "      <th></th>\n",
              "    </tr>\n",
              "  </thead>\n",
              "  <tbody>\n",
              "    <tr>\n",
              "      <th>(-0.052, 10.4]</th>\n",
              "      <td>1.0</td>\n",
              "      <td>1.0</td>\n",
              "      <td>1.0</td>\n",
              "      <td>0.8</td>\n",
              "      <td>0.5</td>\n",
              "      <td>1.0</td>\n",
              "      <td>0.833333</td>\n",
              "      <td>0.888889</td>\n",
              "      <td>1.0</td>\n",
              "      <td>1.0</td>\n",
              "      <td>...</td>\n",
              "      <td>1.0</td>\n",
              "      <td>0.0</td>\n",
              "      <td>1.0</td>\n",
              "      <td>0.0</td>\n",
              "      <td>1.0</td>\n",
              "      <td>0.0</td>\n",
              "      <td>0.0</td>\n",
              "      <td>0.0</td>\n",
              "      <td>1.0</td>\n",
              "      <td>1.0</td>\n",
              "    </tr>\n",
              "    <tr>\n",
              "      <th>(10.4, 20.8]</th>\n",
              "      <td>0.0</td>\n",
              "      <td>0.0</td>\n",
              "      <td>0.0</td>\n",
              "      <td>0.0</td>\n",
              "      <td>0.5</td>\n",
              "      <td>0.0</td>\n",
              "      <td>0.166667</td>\n",
              "      <td>0.111111</td>\n",
              "      <td>0.0</td>\n",
              "      <td>0.0</td>\n",
              "      <td>...</td>\n",
              "      <td>0.0</td>\n",
              "      <td>0.0</td>\n",
              "      <td>0.0</td>\n",
              "      <td>0.0</td>\n",
              "      <td>0.0</td>\n",
              "      <td>0.0</td>\n",
              "      <td>0.0</td>\n",
              "      <td>0.0</td>\n",
              "      <td>0.0</td>\n",
              "      <td>0.0</td>\n",
              "    </tr>\n",
              "    <tr>\n",
              "      <th>(20.8, 31.2]</th>\n",
              "      <td>0.0</td>\n",
              "      <td>0.0</td>\n",
              "      <td>0.0</td>\n",
              "      <td>0.2</td>\n",
              "      <td>0.0</td>\n",
              "      <td>0.0</td>\n",
              "      <td>0.000000</td>\n",
              "      <td>0.000000</td>\n",
              "      <td>0.0</td>\n",
              "      <td>0.0</td>\n",
              "      <td>...</td>\n",
              "      <td>0.0</td>\n",
              "      <td>0.0</td>\n",
              "      <td>0.0</td>\n",
              "      <td>0.0</td>\n",
              "      <td>0.0</td>\n",
              "      <td>0.0</td>\n",
              "      <td>0.0</td>\n",
              "      <td>0.0</td>\n",
              "      <td>0.0</td>\n",
              "      <td>0.0</td>\n",
              "    </tr>\n",
              "    <tr>\n",
              "      <th>(31.2, 41.6]</th>\n",
              "      <td>0.0</td>\n",
              "      <td>0.0</td>\n",
              "      <td>0.0</td>\n",
              "      <td>0.0</td>\n",
              "      <td>0.0</td>\n",
              "      <td>0.0</td>\n",
              "      <td>0.000000</td>\n",
              "      <td>0.000000</td>\n",
              "      <td>0.0</td>\n",
              "      <td>0.0</td>\n",
              "      <td>...</td>\n",
              "      <td>0.0</td>\n",
              "      <td>0.0</td>\n",
              "      <td>0.0</td>\n",
              "      <td>0.0</td>\n",
              "      <td>0.0</td>\n",
              "      <td>0.0</td>\n",
              "      <td>0.0</td>\n",
              "      <td>0.0</td>\n",
              "      <td>0.0</td>\n",
              "      <td>0.0</td>\n",
              "    </tr>\n",
              "    <tr>\n",
              "      <th>(41.6, 52.0]</th>\n",
              "      <td>0.0</td>\n",
              "      <td>0.0</td>\n",
              "      <td>0.0</td>\n",
              "      <td>0.0</td>\n",
              "      <td>0.0</td>\n",
              "      <td>0.0</td>\n",
              "      <td>0.000000</td>\n",
              "      <td>0.000000</td>\n",
              "      <td>0.0</td>\n",
              "      <td>0.0</td>\n",
              "      <td>...</td>\n",
              "      <td>0.0</td>\n",
              "      <td>0.0</td>\n",
              "      <td>0.0</td>\n",
              "      <td>0.0</td>\n",
              "      <td>0.0</td>\n",
              "      <td>0.0</td>\n",
              "      <td>0.0</td>\n",
              "      <td>0.0</td>\n",
              "      <td>0.0</td>\n",
              "      <td>0.0</td>\n",
              "    </tr>\n",
              "  </tbody>\n",
              "</table>\n",
              "<p>5 rows × 98 columns</p>\n",
              "</div>"
            ],
            "text/plain": [
              "Survival Status       1                                                    \\\n",
              "Age                  30   31   33   34   35   36        37        38   39   \n",
              "Positive Aux Nodes                                                          \n",
              "(-0.052, 10.4]      1.0  1.0  1.0  0.8  0.5  1.0  0.833333  0.888889  1.0   \n",
              "(10.4, 20.8]        0.0  0.0  0.0  0.0  0.5  0.0  0.166667  0.111111  0.0   \n",
              "(20.8, 31.2]        0.0  0.0  0.0  0.2  0.0  0.0  0.000000  0.000000  0.0   \n",
              "(31.2, 41.6]        0.0  0.0  0.0  0.0  0.0  0.0  0.000000  0.000000  0.0   \n",
              "(41.6, 52.0]        0.0  0.0  0.0  0.0  0.0  0.0  0.000000  0.000000  0.0   \n",
              "\n",
              "Survival Status         ...     2                                               \n",
              "Age                  40 ...    70   71   72   73   74   75   76   77   78   83  \n",
              "Positive Aux Nodes      ...                                                     \n",
              "(-0.052, 10.4]      1.0 ...   1.0  0.0  1.0  0.0  1.0  0.0  0.0  0.0  1.0  1.0  \n",
              "(10.4, 20.8]        0.0 ...   0.0  0.0  0.0  0.0  0.0  0.0  0.0  0.0  0.0  0.0  \n",
              "(20.8, 31.2]        0.0 ...   0.0  0.0  0.0  0.0  0.0  0.0  0.0  0.0  0.0  0.0  \n",
              "(31.2, 41.6]        0.0 ...   0.0  0.0  0.0  0.0  0.0  0.0  0.0  0.0  0.0  0.0  \n",
              "(41.6, 52.0]        0.0 ...   0.0  0.0  0.0  0.0  0.0  0.0  0.0  0.0  0.0  0.0  \n",
              "\n",
              "[5 rows x 98 columns]"
            ]
          },
          "metadata": {
            "tags": []
          },
          "execution_count": 81
        }
      ]
    },
    {
      "metadata": {
        "id": "hBvIKImAfNXr",
        "colab_type": "code",
        "colab": {
          "base_uri": "https://localhost:8080/",
          "height": 454
        },
        "outputId": "5c6ea503-bfa9-48ec-a7fe-fec045cb9b41"
      },
      "cell_type": "code",
      "source": [
        "age_bin = pd.cut(patients['Age'], 5)\n",
        "pd.crosstab(PAN_bin, [Surv_bin, age_bin], normalize='columns')"
      ],
      "execution_count": 86,
      "outputs": [
        {
          "output_type": "execute_result",
          "data": {
            "text/html": [
              "<div>\n",
              "<style scoped>\n",
              "    .dataframe tbody tr th:only-of-type {\n",
              "        vertical-align: middle;\n",
              "    }\n",
              "\n",
              "    .dataframe tbody tr th {\n",
              "        vertical-align: top;\n",
              "    }\n",
              "\n",
              "    .dataframe thead tr th {\n",
              "        text-align: left;\n",
              "    }\n",
              "\n",
              "    .dataframe thead tr:last-of-type th {\n",
              "        text-align: right;\n",
              "    }\n",
              "</style>\n",
              "<table border=\"1\" class=\"dataframe\">\n",
              "  <thead>\n",
              "    <tr>\n",
              "      <th>Survival Status</th>\n",
              "      <th colspan=\"5\" halign=\"left\">(0.999, 1.2]</th>\n",
              "      <th colspan=\"5\" halign=\"left\">(1.2, 1.4]</th>\n",
              "      <th>...</th>\n",
              "      <th colspan=\"5\" halign=\"left\">(1.6, 1.8]</th>\n",
              "      <th colspan=\"5\" halign=\"left\">(1.8, 2.0]</th>\n",
              "    </tr>\n",
              "    <tr>\n",
              "      <th>Age</th>\n",
              "      <th>(29.947, 40.6]</th>\n",
              "      <th>(40.6, 51.2]</th>\n",
              "      <th>(51.2, 61.8]</th>\n",
              "      <th>(61.8, 72.4]</th>\n",
              "      <th>(72.4, 83.0]</th>\n",
              "      <th>(29.947, 40.6]</th>\n",
              "      <th>(40.6, 51.2]</th>\n",
              "      <th>(51.2, 61.8]</th>\n",
              "      <th>(61.8, 72.4]</th>\n",
              "      <th>(72.4, 83.0]</th>\n",
              "      <th>...</th>\n",
              "      <th>(29.947, 40.6]</th>\n",
              "      <th>(40.6, 51.2]</th>\n",
              "      <th>(51.2, 61.8]</th>\n",
              "      <th>(61.8, 72.4]</th>\n",
              "      <th>(72.4, 83.0]</th>\n",
              "      <th>(29.947, 40.6]</th>\n",
              "      <th>(40.6, 51.2]</th>\n",
              "      <th>(51.2, 61.8]</th>\n",
              "      <th>(61.8, 72.4]</th>\n",
              "      <th>(72.4, 83.0]</th>\n",
              "    </tr>\n",
              "    <tr>\n",
              "      <th>Positive Aux Nodes</th>\n",
              "      <th></th>\n",
              "      <th></th>\n",
              "      <th></th>\n",
              "      <th></th>\n",
              "      <th></th>\n",
              "      <th></th>\n",
              "      <th></th>\n",
              "      <th></th>\n",
              "      <th></th>\n",
              "      <th></th>\n",
              "      <th></th>\n",
              "      <th></th>\n",
              "      <th></th>\n",
              "      <th></th>\n",
              "      <th></th>\n",
              "      <th></th>\n",
              "      <th></th>\n",
              "      <th></th>\n",
              "      <th></th>\n",
              "      <th></th>\n",
              "      <th></th>\n",
              "    </tr>\n",
              "  </thead>\n",
              "  <tbody>\n",
              "    <tr>\n",
              "      <th>(-0.052, 10.4]</th>\n",
              "      <td>0.897436</td>\n",
              "      <td>0.926471</td>\n",
              "      <td>0.927536</td>\n",
              "      <td>0.930233</td>\n",
              "      <td>1.0</td>\n",
              "      <td>0.0</td>\n",
              "      <td>0.0</td>\n",
              "      <td>0.0</td>\n",
              "      <td>0.0</td>\n",
              "      <td>0.0</td>\n",
              "      <td>...</td>\n",
              "      <td>0.0</td>\n",
              "      <td>0.0</td>\n",
              "      <td>0.0</td>\n",
              "      <td>0.0</td>\n",
              "      <td>0.0</td>\n",
              "      <td>0.75</td>\n",
              "      <td>0.709677</td>\n",
              "      <td>0.703704</td>\n",
              "      <td>0.6875</td>\n",
              "      <td>1.0</td>\n",
              "    </tr>\n",
              "    <tr>\n",
              "      <th>(10.4, 20.8]</th>\n",
              "      <td>0.076923</td>\n",
              "      <td>0.073529</td>\n",
              "      <td>0.028986</td>\n",
              "      <td>0.023256</td>\n",
              "      <td>0.0</td>\n",
              "      <td>0.0</td>\n",
              "      <td>0.0</td>\n",
              "      <td>0.0</td>\n",
              "      <td>0.0</td>\n",
              "      <td>0.0</td>\n",
              "      <td>...</td>\n",
              "      <td>0.0</td>\n",
              "      <td>0.0</td>\n",
              "      <td>0.0</td>\n",
              "      <td>0.0</td>\n",
              "      <td>0.0</td>\n",
              "      <td>0.00</td>\n",
              "      <td>0.193548</td>\n",
              "      <td>0.185185</td>\n",
              "      <td>0.2500</td>\n",
              "      <td>0.0</td>\n",
              "    </tr>\n",
              "    <tr>\n",
              "      <th>(20.8, 31.2]</th>\n",
              "      <td>0.025641</td>\n",
              "      <td>0.000000</td>\n",
              "      <td>0.028986</td>\n",
              "      <td>0.046512</td>\n",
              "      <td>0.0</td>\n",
              "      <td>0.0</td>\n",
              "      <td>0.0</td>\n",
              "      <td>0.0</td>\n",
              "      <td>0.0</td>\n",
              "      <td>0.0</td>\n",
              "      <td>...</td>\n",
              "      <td>0.0</td>\n",
              "      <td>0.0</td>\n",
              "      <td>0.0</td>\n",
              "      <td>0.0</td>\n",
              "      <td>0.0</td>\n",
              "      <td>0.25</td>\n",
              "      <td>0.064516</td>\n",
              "      <td>0.074074</td>\n",
              "      <td>0.0625</td>\n",
              "      <td>0.0</td>\n",
              "    </tr>\n",
              "    <tr>\n",
              "      <th>(31.2, 41.6]</th>\n",
              "      <td>0.000000</td>\n",
              "      <td>0.000000</td>\n",
              "      <td>0.000000</td>\n",
              "      <td>0.000000</td>\n",
              "      <td>0.0</td>\n",
              "      <td>0.0</td>\n",
              "      <td>0.0</td>\n",
              "      <td>0.0</td>\n",
              "      <td>0.0</td>\n",
              "      <td>0.0</td>\n",
              "      <td>...</td>\n",
              "      <td>0.0</td>\n",
              "      <td>0.0</td>\n",
              "      <td>0.0</td>\n",
              "      <td>0.0</td>\n",
              "      <td>0.0</td>\n",
              "      <td>0.00</td>\n",
              "      <td>0.000000</td>\n",
              "      <td>0.037037</td>\n",
              "      <td>0.0000</td>\n",
              "      <td>0.0</td>\n",
              "    </tr>\n",
              "    <tr>\n",
              "      <th>(41.6, 52.0]</th>\n",
              "      <td>0.000000</td>\n",
              "      <td>0.000000</td>\n",
              "      <td>0.014493</td>\n",
              "      <td>0.000000</td>\n",
              "      <td>0.0</td>\n",
              "      <td>0.0</td>\n",
              "      <td>0.0</td>\n",
              "      <td>0.0</td>\n",
              "      <td>0.0</td>\n",
              "      <td>0.0</td>\n",
              "      <td>...</td>\n",
              "      <td>0.0</td>\n",
              "      <td>0.0</td>\n",
              "      <td>0.0</td>\n",
              "      <td>0.0</td>\n",
              "      <td>0.0</td>\n",
              "      <td>0.00</td>\n",
              "      <td>0.032258</td>\n",
              "      <td>0.000000</td>\n",
              "      <td>0.0000</td>\n",
              "      <td>0.0</td>\n",
              "    </tr>\n",
              "  </tbody>\n",
              "</table>\n",
              "<p>5 rows × 25 columns</p>\n",
              "</div>"
            ],
            "text/plain": [
              "Survival Status      (0.999, 1.2]                                         \\\n",
              "Age                (29.947, 40.6] (40.6, 51.2] (51.2, 61.8] (61.8, 72.4]   \n",
              "Positive Aux Nodes                                                         \n",
              "(-0.052, 10.4]           0.897436     0.926471     0.927536     0.930233   \n",
              "(10.4, 20.8]             0.076923     0.073529     0.028986     0.023256   \n",
              "(20.8, 31.2]             0.025641     0.000000     0.028986     0.046512   \n",
              "(31.2, 41.6]             0.000000     0.000000     0.000000     0.000000   \n",
              "(41.6, 52.0]             0.000000     0.000000     0.014493     0.000000   \n",
              "\n",
              "Survival Status                     (1.2, 1.4]                            \\\n",
              "Age                (72.4, 83.0] (29.947, 40.6] (40.6, 51.2] (51.2, 61.8]   \n",
              "Positive Aux Nodes                                                         \n",
              "(-0.052, 10.4]              1.0            0.0          0.0          0.0   \n",
              "(10.4, 20.8]                0.0            0.0          0.0          0.0   \n",
              "(20.8, 31.2]                0.0            0.0          0.0          0.0   \n",
              "(31.2, 41.6]                0.0            0.0          0.0          0.0   \n",
              "(41.6, 52.0]                0.0            0.0          0.0          0.0   \n",
              "\n",
              "Survival Status                                  ...          (1.6, 1.8]  \\\n",
              "Age                (61.8, 72.4] (72.4, 83.0]     ...      (29.947, 40.6]   \n",
              "Positive Aux Nodes                               ...                       \n",
              "(-0.052, 10.4]              0.0          0.0     ...                 0.0   \n",
              "(10.4, 20.8]                0.0          0.0     ...                 0.0   \n",
              "(20.8, 31.2]                0.0          0.0     ...                 0.0   \n",
              "(31.2, 41.6]                0.0          0.0     ...                 0.0   \n",
              "(41.6, 52.0]                0.0          0.0     ...                 0.0   \n",
              "\n",
              "Survival Status                                                         \\\n",
              "Age                (40.6, 51.2] (51.2, 61.8] (61.8, 72.4] (72.4, 83.0]   \n",
              "Positive Aux Nodes                                                       \n",
              "(-0.052, 10.4]              0.0          0.0          0.0          0.0   \n",
              "(10.4, 20.8]                0.0          0.0          0.0          0.0   \n",
              "(20.8, 31.2]                0.0          0.0          0.0          0.0   \n",
              "(31.2, 41.6]                0.0          0.0          0.0          0.0   \n",
              "(41.6, 52.0]                0.0          0.0          0.0          0.0   \n",
              "\n",
              "Survival Status        (1.8, 2.0]                                         \\\n",
              "Age                (29.947, 40.6] (40.6, 51.2] (51.2, 61.8] (61.8, 72.4]   \n",
              "Positive Aux Nodes                                                         \n",
              "(-0.052, 10.4]               0.75     0.709677     0.703704       0.6875   \n",
              "(10.4, 20.8]                 0.00     0.193548     0.185185       0.2500   \n",
              "(20.8, 31.2]                 0.25     0.064516     0.074074       0.0625   \n",
              "(31.2, 41.6]                 0.00     0.000000     0.037037       0.0000   \n",
              "(41.6, 52.0]                 0.00     0.032258     0.000000       0.0000   \n",
              "\n",
              "Survival Status                  \n",
              "Age                (72.4, 83.0]  \n",
              "Positive Aux Nodes               \n",
              "(-0.052, 10.4]              1.0  \n",
              "(10.4, 20.8]                0.0  \n",
              "(20.8, 31.2]                0.0  \n",
              "(31.2, 41.6]                0.0  \n",
              "(41.6, 52.0]                0.0  \n",
              "\n",
              "[5 rows x 25 columns]"
            ]
          },
          "metadata": {
            "tags": []
          },
          "execution_count": 86
        }
      ]
    },
    {
      "metadata": {
        "id": "ip9eianheuFc",
        "colab_type": "text"
      },
      "cell_type": "markdown",
      "source": [
        "We can make the assumption that as the age increases the odds of not surviving (0) increases dramatically. "
      ]
    },
    {
      "metadata": {
        "id": "Y71Vga_FeZan",
        "colab_type": "text"
      },
      "cell_type": "markdown",
      "source": [
        "\n",
        "3. How are those two features related with each other, and what might that mean?\n",
        "\n",
        "     The correlation between the two features indicates that the increase in age and years of operation indicates that this is the highest correlation in regards to every other feature. This means that as the age increases alongside the year of operation, the likelihood of survival drops. "
      ]
    },
    {
      "metadata": {
        "id": "Gdr6v7KthcOb",
        "colab_type": "code",
        "colab": {
          "base_uri": "https://localhost:8080/",
          "height": 50
        },
        "outputId": "3228186c-f5b0-4ac3-c9b5-d1423beb272e"
      },
      "cell_type": "code",
      "source": [
        "np.corrcoef(patients['Age'],patients['Year of Operation'])"
      ],
      "execution_count": 96,
      "outputs": [
        {
          "output_type": "execute_result",
          "data": {
            "text/plain": [
              "array([[1.        , 0.08952945],\n",
              "       [0.08952945, 1.        ]])"
            ]
          },
          "metadata": {
            "tags": []
          },
          "execution_count": 96
        }
      ]
    },
    {
      "metadata": {
        "id": "FzMWTvi1hlGT",
        "colab_type": "code",
        "colab": {}
      },
      "cell_type": "code",
      "source": [
        ""
      ],
      "execution_count": 0,
      "outputs": []
    }
  ]
}