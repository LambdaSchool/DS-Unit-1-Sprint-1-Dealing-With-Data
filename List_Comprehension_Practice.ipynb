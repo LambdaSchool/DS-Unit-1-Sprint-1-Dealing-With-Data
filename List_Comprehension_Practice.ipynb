{
  "nbformat": 4,
  "nbformat_minor": 0,
  "metadata": {
    "colab": {
      "name": "List Comprehension Practice.ipynb",
      "version": "0.3.2",
      "provenance": [],
      "include_colab_link": true
    },
    "kernelspec": {
      "name": "python3",
      "display_name": "Python 3"
    }
  },
  "cells": [
    {
      "cell_type": "markdown",
      "metadata": {
        "id": "view-in-github",
        "colab_type": "text"
      },
      "source": [
        "<a href=\"https://colab.research.google.com/github/donw385/DS-Sprint-01-Dealing-With-Data/blob/master/List_Comprehension_Practice.ipynb\" target=\"_parent\"><img src=\"https://colab.research.google.com/assets/colab-badge.svg\" alt=\"Open In Colab\"/></a>"
      ]
    },
    {
      "metadata": {
        "id": "FlZfPEDWMHgh",
        "colab_type": "code",
        "colab": {
          "base_uri": "https://localhost:8080/",
          "height": 33
        },
        "outputId": "7f5531c0-88e6-4e56-fa2d-124218b1a3b9"
      },
      "cell_type": "code",
      "source": [
        "#Make a function, power_list, that accepts a list of numbers and returns a new list that contains each number raised to the i-th power where i is the index of that number in the given list.\n",
        "\n",
        "numbers =[1234,2434,3533,4655,5342]\n",
        "list(enumerate(numbers))\n",
        "powers = [n**i for i,n in enumerate(numbers)]\n",
        "##for i,n in enumerate(numbers):\n",
        "  #powers.append(n**i)\n",
        "  \n",
        "powers"
      ],
      "execution_count": 32,
      "outputs": [
        {
          "output_type": "execute_result",
          "data": {
            "text/plain": [
              "[1, 2434, 12482089, 100869311375, 814358314337296]"
            ]
          },
          "metadata": {
            "tags": []
          },
          "execution_count": 32
        }
      ]
    },
    {
      "metadata": {
        "id": "MfLYAYYSOvu8",
        "colab_type": "code",
        "colab": {
          "base_uri": "https://localhost:8080/",
          "height": 33
        },
        "outputId": "8bae1da7-f866-4fff-e464-115a736a98f5"
      },
      "cell_type": "code",
      "source": [
        "#Make a function that accepts a list of names and returns a new list containing all names that start with a vowel.\n",
        "\n",
        "names = [\"Scott\", \"Arthur\", \"Jan\", \"Elizabeth\"]\n",
        "\n",
        "vowels =['A','E','I','O','U']\n",
        "\n",
        "def vowel_names(names):\n",
        "  return [name for name in names if name[0] in vowels]\n",
        "\n",
        "\n",
        "vowel_names(names)"
      ],
      "execution_count": 33,
      "outputs": [
        {
          "output_type": "execute_result",
          "data": {
            "text/plain": [
              "['Arthur', 'Elizabeth']"
            ]
          },
          "metadata": {
            "tags": []
          },
          "execution_count": 33
        }
      ]
    },
    {
      "metadata": {
        "id": "pjk9VYMPTZPK",
        "colab_type": "code",
        "colab": {
          "base_uri": "https://localhost:8080/",
          "height": 567
        },
        "outputId": "39b75d17-c068-4829-a275-b980df6151b0"
      },
      "cell_type": "code",
      "source": [
        "#Make a list of all numbers between 100 and 300 that are divisble by both 6 and 10.\n",
        "\n",
        "numbers2 = range(100,300)\n",
        "new_list = [n for n in numbers2 if n%6==0 if n%6==0]\n",
        "new_list"
      ],
      "execution_count": 34,
      "outputs": [
        {
          "output_type": "execute_result",
          "data": {
            "text/plain": [
              "[102,\n",
              " 108,\n",
              " 114,\n",
              " 120,\n",
              " 126,\n",
              " 132,\n",
              " 138,\n",
              " 144,\n",
              " 150,\n",
              " 156,\n",
              " 162,\n",
              " 168,\n",
              " 174,\n",
              " 180,\n",
              " 186,\n",
              " 192,\n",
              " 198,\n",
              " 204,\n",
              " 210,\n",
              " 216,\n",
              " 222,\n",
              " 228,\n",
              " 234,\n",
              " 240,\n",
              " 246,\n",
              " 252,\n",
              " 258,\n",
              " 264,\n",
              " 270,\n",
              " 276,\n",
              " 282,\n",
              " 288,\n",
              " 294]"
            ]
          },
          "metadata": {
            "tags": []
          },
          "execution_count": 34
        }
      ]
    },
    {
      "metadata": {
        "id": "wiwUMVyxa7px",
        "colab_type": "code",
        "colab": {
          "base_uri": "https://localhost:8080/",
          "height": 50
        },
        "outputId": "ffaa86aa-958e-4151-f233-f54b45bea4f2"
      },
      "cell_type": "code",
      "source": [
        "#Create a function flatten, that will take a matrix (a list of lists) and return a flattened version of the matrix.\n",
        "\n",
        "matrix = [[row * 3 + incr for incr in range(1, 4)] for row in range(4)]\n",
        "print(matrix)\n",
        "import itertools\n",
        "\n",
        "merged = list(itertools.chain(*matrix))\n",
        "print(merged)\n"
      ],
      "execution_count": 35,
      "outputs": [
        {
          "output_type": "stream",
          "text": [
            "[[1, 2, 3], [4, 5, 6], [7, 8, 9], [10, 11, 12]]\n",
            "[1, 2, 3, 4, 5, 6, 7, 8, 9, 10, 11, 12]\n"
          ],
          "name": "stdout"
        }
      ]
    },
    {
      "metadata": {
        "id": "Ad71Mc4PdCZs",
        "colab_type": "code",
        "colab": {
          "base_uri": "https://localhost:8080/",
          "height": 100
        },
        "outputId": "e4c15d09-5c52-4178-9793-d318bba42932"
      },
      "cell_type": "code",
      "source": [
        "#Create a function that accepts a list of strings and returns a dictionary containing the strings as keys and a list of corresponding ASCII character codes as values.\n",
        "words = [\"hello\", \"bye\", \"yes\", \"no\", \"python\"]\n",
        "\n",
        "def get_ascii_codes(words):\n",
        "  return {word: [ord(char)for char in word]for word in words}\n",
        "\n",
        "get_ascii_codes(words)"
      ],
      "execution_count": 36,
      "outputs": [
        {
          "output_type": "execute_result",
          "data": {
            "text/plain": [
              "{'bye': [98, 121, 101],\n",
              " 'hello': [104, 101, 108, 108, 111],\n",
              " 'no': [110, 111],\n",
              " 'python': [112, 121, 116, 104, 111, 110],\n",
              " 'yes': [121, 101, 115]}"
            ]
          },
          "metadata": {
            "tags": []
          },
          "execution_count": 36
        }
      ]
    },
    {
      "metadata": {
        "id": "gkibcuePfAPw",
        "colab_type": "code",
        "colab": {
          "base_uri": "https://localhost:8080/",
          "height": 117
        },
        "outputId": "e1ba2b83-bd3f-4d39-9216-9d7576c9fa9a"
      },
      "cell_type": "code",
      "source": [
        "#Make a function flip_dict, that flips dictionary keys and values\n",
        "dictionary = {'Python': \"2015-09-15\", 'Java': \"2015-09-14\", 'C': \"2015-09-13\",'2015-09-13': 'C', '2015-09-15': 'Python', '2015-09-14': 'Java'}\n",
        "\n",
        "def flip_dict(dictionary):\n",
        "  return {v: k for k, v in dictionary.items()}\n",
        "\n",
        "flip_dict(dictionary)"
      ],
      "execution_count": 37,
      "outputs": [
        {
          "output_type": "execute_result",
          "data": {
            "text/plain": [
              "{'2015-09-13': 'C',\n",
              " '2015-09-14': 'Java',\n",
              " '2015-09-15': 'Python',\n",
              " 'C': '2015-09-13',\n",
              " 'Java': '2015-09-14',\n",
              " 'Python': '2015-09-15'}"
            ]
          },
          "metadata": {
            "tags": []
          },
          "execution_count": 37
        }
      ]
    },
    {
      "metadata": {
        "id": "veQQLoG3f2aJ",
        "colab_type": "code",
        "colab": {
          "base_uri": "https://localhost:8080/",
          "height": 100
        },
        "outputId": "7dc5b628-a405-4dcd-a9b0-35cccdf67aec"
      },
      "cell_type": "code",
      "source": [
        "def get_factors(number):\n",
        "    return [n for n in range(1, number + 1) if number % n == 0]\n",
        "  \n",
        "def get_all_factors(numbers):\n",
        "  factors_by_number = {}\n",
        "  for n in numbers:\n",
        "    factors_by_number[n] = get_factors(n)\n",
        "  return factors_by_number\n",
        "\n",
        "get_all_factors(numbers)"
      ],
      "execution_count": 38,
      "outputs": [
        {
          "output_type": "execute_result",
          "data": {
            "text/plain": [
              "{1234: [1, 2, 617, 1234],\n",
              " 2434: [1, 2, 1217, 2434],\n",
              " 3533: [1, 3533],\n",
              " 4655: [1, 5, 7, 19, 35, 49, 95, 133, 245, 665, 931, 4655],\n",
              " 5342: [1, 2, 2671, 5342]}"
            ]
          },
          "metadata": {
            "tags": []
          },
          "execution_count": 38
        }
      ]
    }
  ]
}