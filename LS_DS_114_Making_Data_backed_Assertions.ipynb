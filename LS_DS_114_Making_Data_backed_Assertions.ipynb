{
  "nbformat": 4,
  "nbformat_minor": 0,
  "metadata": {
    "colab": {
      "name": "LS_DS_114_Making_Data_backed_Assertions.ipynb",
      "version": "0.3.2",
      "provenance": [],
      "collapsed_sections": [
        "BT9gdS7viJZa",
        "_XXg2crAipwP"
      ],
      "include_colab_link": true
    },
    "kernelspec": {
      "name": "python3",
      "display_name": "Python 3"
    }
  },
  "cells": [
    {
      "cell_type": "markdown",
      "metadata": {
        "id": "view-in-github",
        "colab_type": "text"
      },
      "source": [
        "<a href=\"https://colab.research.google.com/github/elliotgunn/DS-Unit-1-Sprint-1-Dealing-With-Data/blob/master/LS_DS_114_Making_Data_backed_Assertions.ipynb\" target=\"_parent\"><img src=\"https://colab.research.google.com/assets/colab-badge.svg\" alt=\"Open In Colab\"/></a>"
      ]
    },
    {
      "cell_type": "markdown",
      "metadata": {
        "id": "Okfr_uhwhS1X",
        "colab_type": "text"
      },
      "source": [
        "# Lambda School Data Science - Making Data-backed Assertions\n",
        "\n",
        "This is, for many, the main point of data science - to create and support reasoned arguments based on evidence. It's not a topic to master in a day, but it is worth some focused time thinking about and structuring your approach to it."
      ]
    },
    {
      "cell_type": "markdown",
      "metadata": {
        "id": "9dtJETFRhnOG",
        "colab_type": "text"
      },
      "source": [
        "## Lecture - generating a confounding variable\n",
        "\n",
        "The prewatch material told a story about a hypothetical health condition where both the drug usage and overall health outcome were related to gender - thus making gender a confounding variable, obfuscating the possible relationship between the drug and the outcome.\n",
        "\n",
        "Let's use Python to generate data that actually behaves in this fashion!\n",
        "\n",
        "X variable:\n",
        "predictor, explanatory, feature, independent\n",
        "\n",
        "Y variable:\n",
        "predicted, explained, target, dependent"
      ]
    },
    {
      "cell_type": "code",
      "metadata": {
        "id": "WiBkgmPJhmhE",
        "colab_type": "code",
        "outputId": "177d422d-2348-4976-ad31-347d19d34e2d",
        "colab": {
          "base_uri": "https://localhost:8080/",
          "height": 1000
        }
      },
      "source": [
        "import random\n",
        "dir(random)  # Reminding ourselves what we can do here\n"
      ],
      "execution_count": 93,
      "outputs": [
        {
          "output_type": "execute_result",
          "data": {
            "text/plain": [
              "['BPF',\n",
              " 'LOG4',\n",
              " 'NV_MAGICCONST',\n",
              " 'RECIP_BPF',\n",
              " 'Random',\n",
              " 'SG_MAGICCONST',\n",
              " 'SystemRandom',\n",
              " 'TWOPI',\n",
              " '_BuiltinMethodType',\n",
              " '_MethodType',\n",
              " '_Sequence',\n",
              " '_Set',\n",
              " '__all__',\n",
              " '__builtins__',\n",
              " '__cached__',\n",
              " '__doc__',\n",
              " '__file__',\n",
              " '__loader__',\n",
              " '__name__',\n",
              " '__package__',\n",
              " '__spec__',\n",
              " '_acos',\n",
              " '_bisect',\n",
              " '_ceil',\n",
              " '_cos',\n",
              " '_e',\n",
              " '_exp',\n",
              " '_inst',\n",
              " '_itertools',\n",
              " '_log',\n",
              " '_pi',\n",
              " '_random',\n",
              " '_sha512',\n",
              " '_sin',\n",
              " '_sqrt',\n",
              " '_test',\n",
              " '_test_generator',\n",
              " '_urandom',\n",
              " '_warn',\n",
              " 'betavariate',\n",
              " 'choice',\n",
              " 'choices',\n",
              " 'expovariate',\n",
              " 'gammavariate',\n",
              " 'gauss',\n",
              " 'getrandbits',\n",
              " 'getstate',\n",
              " 'lognormvariate',\n",
              " 'normalvariate',\n",
              " 'paretovariate',\n",
              " 'randint',\n",
              " 'random',\n",
              " 'randrange',\n",
              " 'sample',\n",
              " 'seed',\n",
              " 'setstate',\n",
              " 'shuffle',\n",
              " 'triangular',\n",
              " 'uniform',\n",
              " 'vonmisesvariate',\n",
              " 'weibullvariate']"
            ]
          },
          "metadata": {
            "tags": []
          },
          "execution_count": 93
        }
      ]
    },
    {
      "cell_type": "code",
      "metadata": {
        "id": "Ks5qFtpnq-q5",
        "colab_type": "code",
        "outputId": "990dc4a2-e7f0-4cfa-ebc3-0299ed72e70a",
        "colab": {
          "base_uri": "https://localhost:8080/",
          "height": 34
        }
      },
      "source": [
        "# Let's think of another scenario:\n",
        "# We work for a company that sells accessories for mobile phones.\n",
        "# They have an ecommerce site, and we are supposed to analyze logs\n",
        "# to determine what sort of usage is related to purchases, and thus guide\n",
        "# website development to encourage higher conversion.\n",
        "\n",
        "# The hypothesis - users who spend longer on the site tend\n",
        "# to spend more. Seems reasonable, no?\n",
        "\n",
        "# But there's a confounding variable! If they're on a phone, they:\n",
        "# a) Spend less time on the site, but\n",
        "# b) Are more likely to be interested in the actual products!\n",
        "\n",
        "# Let's use namedtuple to represent our data\n",
        "\n",
        "from collections import namedtuple\n",
        "#namedtuple: fancy data structure, useful because we can generate each user individually, and then its easy to put the list into a dataframe\n",
        "\n",
        "# purchased and mobile are bools, time_on_site in seconds\n",
        "User = namedtuple('User', ['purchased','time_on_site', 'mobile'])\n",
        "\n",
        "example_user = User(False, 12, False)\n",
        "print(example_user)"
      ],
      "execution_count": 94,
      "outputs": [
        {
          "output_type": "stream",
          "text": [
            "User(purchased=False, time_on_site=12, mobile=False)\n"
          ],
          "name": "stdout"
        }
      ]
    },
    {
      "cell_type": "code",
      "metadata": {
        "id": "lfPiHNG_sefL",
        "colab_type": "code",
        "outputId": "d5eb8734-478d-4647-ce6d-cf1efed23663",
        "colab": {
          "base_uri": "https://localhost:8080/",
          "height": 54
        }
      },
      "source": [
        "# And now let's generate 1000 example users\n",
        "# 750 mobile, 250 not (i.e. desktop)\n",
        "# A desktop user has a base conversion likelihood of 10%\n",
        "# And it goes up by 1% for each 15 seconds they spend on the site\n",
        "# And they spend anywhere from 10 seconds to 10 minutes on the site (uniform)\n",
        "# Mobile users spend on average half as much time on the site as desktop\n",
        "# But have three times as much base likelihood of buying something\n",
        "\n",
        "users = []\n",
        "\n",
        "for _ in range(250):\n",
        "  # Desktop users\n",
        "  time_on_site = random.uniform(10, 600)\n",
        "  purchased = random.random() < 0.1 + (time_on_site / 1500)\n",
        "  #^ 0.1 is the initial likelihood of purchasing which is smaller. so the + is the increased likelihood of purchasing predicated on the prior randomly generated time_on_site.\n",
        "  # we need the purchased value to be a bool. \n",
        "  users.append(User(purchased, time_on_site, False))\n",
        "  \n",
        "for _ in range(750):\n",
        "  # Mobile users\n",
        "  time_on_site = random.uniform(5, 300)\n",
        "  purchased = random.random() < 0.3 + (time_on_site / 1500)\n",
        "  users.append(User(purchased, time_on_site, True))\n",
        "  \n",
        "random.shuffle(users)\n",
        "print(users[:10])\n",
        "#the first ten users"
      ],
      "execution_count": 95,
      "outputs": [
        {
          "output_type": "stream",
          "text": [
            "[User(purchased=True, time_on_site=372.3830619579334, mobile=False), User(purchased=True, time_on_site=333.0360577005804, mobile=False), User(purchased=True, time_on_site=263.33786270827284, mobile=True), User(purchased=False, time_on_site=179.943844304955, mobile=True), User(purchased=False, time_on_site=267.6799853561355, mobile=True), User(purchased=False, time_on_site=160.85238803144068, mobile=True), User(purchased=False, time_on_site=310.65813838141804, mobile=False), User(purchased=False, time_on_site=78.8279060165546, mobile=True), User(purchased=False, time_on_site=394.33294654286857, mobile=False), User(purchased=False, time_on_site=53.89589122460648, mobile=True)]\n"
          ],
          "name": "stdout"
        }
      ]
    },
    {
      "cell_type": "code",
      "metadata": {
        "id": "2neEpxck1Auy",
        "colab_type": "code",
        "colab": {
          "base_uri": "https://localhost:8080/",
          "height": 1000
        },
        "outputId": "c080f1f6-1afa-44d7-fc93-ad3d059a9330"
      },
      "source": [
        "#there's an issue with pandas version, so we need to change version of pandas library\n",
        "\n",
        "!pip freeze\n",
        "#tool for installing new versions of libraries\n",
        "#pandas==0.24.2, we need a downgraded version"
      ],
      "execution_count": 96,
      "outputs": [
        {
          "output_type": "stream",
          "text": [
            "absl-py==0.7.1\n",
            "alabaster==0.7.12\n",
            "albumentations==0.1.12\n",
            "altair==3.1.0\n",
            "astor==0.8.0\n",
            "astropy==3.0.5\n",
            "atari-py==0.1.15\n",
            "atomicwrites==1.3.0\n",
            "attrs==19.1.0\n",
            "audioread==2.1.8\n",
            "autograd==1.2\n",
            "Babel==2.7.0\n",
            "backcall==0.1.0\n",
            "backports.tempfile==1.0\n",
            "backports.weakref==1.0.post1\n",
            "beautifulsoup4==4.6.3\n",
            "bleach==3.1.0\n",
            "blis==0.2.4\n",
            "bokeh==1.0.4\n",
            "boto==2.49.0\n",
            "boto3==1.9.180\n",
            "botocore==1.12.180\n",
            "Bottleneck==1.2.1\n",
            "branca==0.3.1\n",
            "bs4==0.0.1\n",
            "bz2file==0.98\n",
            "cachetools==3.1.1\n",
            "certifi==2019.6.16\n",
            "cffi==1.12.3\n",
            "chainer==5.4.0\n",
            "chardet==3.0.4\n",
            "Click==7.0\n",
            "cloudpickle==0.6.1\n",
            "cmake==3.12.0\n",
            "colorlover==0.3.0\n",
            "community==1.0.0b1\n",
            "contextlib2==0.5.5\n",
            "convertdate==2.1.3\n",
            "coverage==3.7.1\n",
            "coveralls==0.5\n",
            "crcmod==1.7\n",
            "cufflinks==0.14.6\n",
            "cvxopt==1.2.3\n",
            "cvxpy==1.0.15\n",
            "cycler==0.10.0\n",
            "cymem==2.0.2\n",
            "Cython==0.29.10\n",
            "daft==0.0.4\n",
            "dask==1.1.5\n",
            "dataclasses==0.6\n",
            "datascience==0.10.6\n",
            "decorator==4.4.0\n",
            "defusedxml==0.6.0\n",
            "descartes==1.1.0\n",
            "dill==0.3.0\n",
            "distributed==1.25.3\n",
            "Django==2.2.2\n",
            "dlib==19.16.0\n",
            "dm-sonnet==1.33\n",
            "docopt==0.6.2\n",
            "docutils==0.14\n",
            "dopamine-rl==1.0.5\n",
            "easydict==1.9\n",
            "ecos==2.0.7.post1\n",
            "editdistance==0.5.3\n",
            "en-core-web-sm==2.1.0\n",
            "entrypoints==0.3\n",
            "enum34==1.1.6\n",
            "ephem==3.7.6.0\n",
            "et-xmlfile==1.0.1\n",
            "fa2==0.3.5\n",
            "fancyimpute==0.4.3\n",
            "fastai==1.0.54\n",
            "fastcache==1.1.0\n",
            "fastdtw==0.3.2\n",
            "fastprogress==0.1.21\n",
            "fastrlock==0.4\n",
            "fbprophet==0.5\n",
            "feather-format==0.4.0\n",
            "featuretools==0.4.1\n",
            "filelock==3.0.12\n",
            "fix-yahoo-finance==0.0.22\n",
            "Flask==1.0.3\n",
            "folium==0.8.3\n",
            "future==0.16.0\n",
            "gast==0.2.2\n",
            "GDAL==2.2.2\n",
            "gdown==3.6.4\n",
            "gensim==3.6.0\n",
            "geographiclib==1.49\n",
            "geopy==1.17.0\n",
            "gevent==1.4.0\n",
            "gin-config==0.1.4\n",
            "glob2==0.7\n",
            "google==2.0.2\n",
            "google-api-core==1.13.0\n",
            "google-api-python-client==1.7.9\n",
            "google-auth==1.4.2\n",
            "google-auth-httplib2==0.0.3\n",
            "google-auth-oauthlib==0.4.0\n",
            "google-cloud-bigquery==1.14.0\n",
            "google-cloud-core==1.0.2\n",
            "google-cloud-datastore==1.8.0\n",
            "google-cloud-language==1.2.0\n",
            "google-cloud-storage==1.16.1\n",
            "google-cloud-translate==1.5.0\n",
            "google-colab==1.0.0\n",
            "google-pasta==0.1.7\n",
            "google-resumable-media==0.3.2\n",
            "googleapis-common-protos==1.6.0\n",
            "googledrivedownloader==0.4\n",
            "graph-nets==1.0.4\n",
            "graphviz==0.10.1\n",
            "greenlet==0.4.15\n",
            "grpcio==1.15.0\n",
            "gspread==3.0.1\n",
            "gspread-dataframe==3.0.2\n",
            "gunicorn==19.9.0\n",
            "gym==0.10.11\n",
            "h5py==2.8.0\n",
            "HeapDict==1.0.0\n",
            "holidays==0.9.10\n",
            "html5lib==1.0.1\n",
            "httpimport==0.5.16\n",
            "httplib2==0.11.3\n",
            "humanize==0.5.1\n",
            "hyperopt==0.1.2\n",
            "ideep4py==2.0.0.post3\n",
            "idna==2.8\n",
            "image==1.5.27\n",
            "imageio==2.4.1\n",
            "imagesize==1.1.0\n",
            "imbalanced-learn==0.4.3\n",
            "imblearn==0.0\n",
            "imgaug==0.2.9\n",
            "importlib-metadata==0.18\n",
            "imutils==0.5.2\n",
            "inflect==2.1.0\n",
            "intel-openmp==2019.0\n",
            "intervaltree==2.1.0\n",
            "ipykernel==4.6.1\n",
            "ipython==5.5.0\n",
            "ipython-genutils==0.2.0\n",
            "ipython-sql==0.3.9\n",
            "ipywidgets==7.4.2\n",
            "itsdangerous==1.1.0\n",
            "jdcal==1.4.1\n",
            "jedi==0.14.0\n",
            "jieba==0.39\n",
            "Jinja2==2.10.1\n",
            "jmespath==0.9.4\n",
            "joblib==0.13.2\n",
            "jpeg4py==0.1.4\n",
            "jsonschema==2.6.0\n",
            "jupyter==1.0.0\n",
            "jupyter-client==5.2.4\n",
            "jupyter-console==6.0.0\n",
            "jupyter-core==4.5.0\n",
            "kaggle==1.5.4\n",
            "kapre==0.1.3.1\n",
            "Keras==2.2.4\n",
            "Keras-Applications==1.0.8\n",
            "Keras-Preprocessing==1.1.0\n",
            "keras-vis==0.4.1\n",
            "kiwisolver==1.1.0\n",
            "knnimpute==0.1.0\n",
            "librosa==0.6.3\n",
            "lightgbm==2.2.3\n",
            "llvmlite==0.29.0\n",
            "lmdb==0.95\n",
            "lucid==0.3.8\n",
            "lunardate==0.2.0\n",
            "lxml==4.2.6\n",
            "magenta==0.3.19\n",
            "Markdown==3.1.1\n",
            "MarkupSafe==1.1.1\n",
            "matplotlib==3.0.3\n",
            "matplotlib-venn==0.11.5\n",
            "mesh-tensorflow==0.0.5\n",
            "mido==1.2.6\n",
            "mir-eval==0.5\n",
            "missingno==0.4.1\n",
            "mistune==0.8.4\n",
            "mizani==0.5.4\n",
            "mkl==2019.0\n",
            "mlxtend==0.14.0\n",
            "more-itertools==7.1.0\n",
            "moviepy==0.2.3.5\n",
            "mpi4py==3.0.2\n",
            "mpmath==1.1.0\n",
            "msgpack==0.5.6\n",
            "multiprocess==0.70.8\n",
            "multitasking==0.0.9\n",
            "murmurhash==1.0.2\n",
            "music21==5.5.0\n",
            "natsort==5.5.0\n",
            "nbconvert==5.5.0\n",
            "nbformat==4.4.0\n",
            "networkx==2.3\n",
            "nibabel==2.3.3\n",
            "nltk==3.2.5\n",
            "nose==1.3.7\n",
            "notebook==5.2.2\n",
            "np-utils==0.5.10.0\n",
            "numba==0.40.1\n",
            "numexpr==2.6.9\n",
            "numpy==1.16.4\n",
            "nvidia-ml-py3==7.352.0\n",
            "oauth2client==4.1.3\n",
            "oauthlib==3.0.1\n",
            "okgrade==0.4.3\n",
            "olefile==0.46\n",
            "opencv-contrib-python==3.4.3.18\n",
            "opencv-python==3.4.5.20\n",
            "openpyxl==2.5.9\n",
            "osqp==0.5.0\n",
            "packaging==19.0\n",
            "palettable==3.1.1\n",
            "pandas==0.23.4\n",
            "pandas-datareader==0.7.0\n",
            "pandas-gbq==0.4.1\n",
            "pandas-profiling==1.4.1\n",
            "pandocfilters==1.4.2\n",
            "parso==0.5.0\n",
            "pathlib==1.0.1\n",
            "patsy==0.5.1\n",
            "pexpect==4.7.0\n",
            "pickleshare==0.7.5\n",
            "Pillow==4.3.0\n",
            "pip-tools==3.6.1\n",
            "plac==0.9.6\n",
            "plotly==3.6.1\n",
            "plotnine==0.5.1\n",
            "pluggy==0.7.1\n",
            "portpicker==1.2.0\n",
            "prefetch-generator==1.0.1\n",
            "preshed==2.0.1\n",
            "pretty-midi==0.2.8\n",
            "prettytable==0.7.2\n",
            "progressbar2==3.38.0\n",
            "prometheus-client==0.7.1\n",
            "promise==2.2.1\n",
            "prompt-toolkit==1.0.16\n",
            "protobuf==3.7.1\n",
            "psutil==5.4.8\n",
            "psycopg2==2.7.6.1\n",
            "ptyprocess==0.6.0\n",
            "py==1.8.0\n",
            "pyarrow==0.13.0\n",
            "pyasn1==0.4.5\n",
            "pyasn1-modules==0.2.5\n",
            "pycocotools==2.0.0\n",
            "pycparser==2.19\n",
            "pydot==1.3.0\n",
            "pydot-ng==2.0.0\n",
            "pydotplus==2.0.2\n",
            "pyemd==0.5.1\n",
            "pyglet==1.3.2\n",
            "Pygments==2.1.3\n",
            "pygobject==3.26.1\n",
            "pymc3==3.7\n",
            "pymongo==3.8.0\n",
            "pymystem3==0.2.0\n",
            "PyOpenGL==3.1.0\n",
            "pyparsing==2.4.0\n",
            "pyrsistent==0.15.2\n",
            "pysndfile==1.3.3\n",
            "PySocks==1.7.0\n",
            "pystan==2.19.0.0\n",
            "pytest==3.6.4\n",
            "python-apt==1.6.4\n",
            "python-chess==0.23.11\n",
            "python-dateutil==2.5.3\n",
            "python-louvain==0.13\n",
            "python-rtmidi==1.3.0\n",
            "python-slugify==3.0.2\n",
            "python-utils==2.3.0\n",
            "pytz==2018.9\n",
            "PyWavelets==1.0.3\n",
            "PyYAML==3.13\n",
            "pyzmq==17.0.0\n",
            "qtconsole==4.5.1\n",
            "requests==2.21.0\n",
            "requests-oauthlib==1.2.0\n",
            "resampy==0.2.1\n",
            "retrying==1.3.3\n",
            "rpy2==2.9.5\n",
            "rsa==4.0\n",
            "s3fs==0.2.1\n",
            "s3transfer==0.2.1\n",
            "scikit-image==0.15.0\n",
            "scikit-learn==0.21.2\n",
            "scipy==1.3.0\n",
            "screen-resolution-extra==0.0.0\n",
            "scs==2.1.0\n",
            "seaborn==0.9.0\n",
            "semantic-version==2.6.0\n",
            "Send2Trash==1.5.0\n",
            "setuptools-git==1.2\n",
            "Shapely==1.6.4.post2\n",
            "simplegeneric==0.8.1\n",
            "siphash==0.0.1\n",
            "six==1.12.0\n",
            "sklearn==0.0\n",
            "sklearn-pandas==1.8.0\n",
            "smart-open==1.8.4\n",
            "snowballstemmer==1.9.0\n",
            "sortedcontainers==2.1.0\n",
            "spacy==2.1.4\n",
            "Sphinx==1.8.5\n",
            "sphinxcontrib-websupport==1.1.2\n",
            "SQLAlchemy==1.3.5\n",
            "sqlparse==0.3.0\n",
            "srsly==0.0.7\n",
            "stable-baselines==2.2.1\n",
            "statsmodels==0.10.0\n",
            "sympy==1.1.1\n",
            "tables==3.4.4\n",
            "tabulate==0.8.3\n",
            "tblib==1.4.0\n",
            "tensor2tensor==1.11.0\n",
            "tensorboard==1.14.0\n",
            "tensorboardcolab==0.0.22\n",
            "tensorflow==1.14.0\n",
            "tensorflow-estimator==1.14.0\n",
            "tensorflow-hub==0.5.0\n",
            "tensorflow-metadata==0.13.0\n",
            "tensorflow-probability==0.7.0\n",
            "termcolor==1.1.0\n",
            "terminado==0.8.2\n",
            "testpath==0.4.2\n",
            "text-unidecode==1.2\n",
            "textblob==0.15.3\n",
            "textgenrnn==1.4.1\n",
            "tfds-nightly==1.0.2.dev201906280105\n",
            "tflearn==0.3.2\n",
            "Theano==1.0.4\n",
            "thinc==7.0.4\n",
            "toolz==0.9.0\n",
            "torch==1.1.0\n",
            "torchsummary==1.5.1\n",
            "torchtext==0.3.1\n",
            "torchvision==0.3.0\n",
            "tornado==4.5.3\n",
            "tqdm==4.28.1\n",
            "traitlets==4.3.2\n",
            "tweepy==3.6.0\n",
            "typing==3.7.4\n",
            "tzlocal==1.5.1\n",
            "umap-learn==0.3.9\n",
            "uritemplate==3.0.0\n",
            "urllib3==1.24.3\n",
            "vega-datasets==0.7.0\n",
            "wasabi==0.2.2\n",
            "wcwidth==0.1.7\n",
            "webencodings==0.5.1\n",
            "Werkzeug==0.15.4\n",
            "widgetsnbextension==3.4.2\n",
            "wordcloud==1.5.0\n",
            "wrapt==1.11.2\n",
            "xarray==0.11.3\n",
            "xgboost==0.90\n",
            "xkit==0.0.0\n",
            "xlrd==1.1.0\n",
            "xlwt==1.3.0\n",
            "yellowbrick==0.9.1\n",
            "zict==1.0.0\n",
            "zipp==0.5.1\n",
            "zmq==0.0.0\n"
          ],
          "name": "stdout"
        }
      ]
    },
    {
      "cell_type": "code",
      "metadata": {
        "id": "GMi1D1181bul",
        "colab_type": "code",
        "outputId": "7a672d7c-3014-4216-bc0c-9d56c4d14009",
        "colab": {
          "base_uri": "https://localhost:8080/",
          "height": 102
        }
      },
      "source": [
        "pip install pandas==0.23.4"
      ],
      "execution_count": 97,
      "outputs": [
        {
          "output_type": "stream",
          "text": [
            "Requirement already satisfied: pandas==0.23.4 in /usr/local/lib/python3.6/dist-packages (0.23.4)\n",
            "Requirement already satisfied: python-dateutil>=2.5.0 in /usr/local/lib/python3.6/dist-packages (from pandas==0.23.4) (2.5.3)\n",
            "Requirement already satisfied: pytz>=2011k in /usr/local/lib/python3.6/dist-packages (from pandas==0.23.4) (2018.9)\n",
            "Requirement already satisfied: numpy>=1.9.0 in /usr/local/lib/python3.6/dist-packages (from pandas==0.23.4) (1.16.4)\n",
            "Requirement already satisfied: six>=1.5 in /usr/local/lib/python3.6/dist-packages (from python-dateutil>=2.5.0->pandas==0.23.4) (1.12.0)\n"
          ],
          "name": "stdout"
        }
      ]
    },
    {
      "cell_type": "code",
      "metadata": {
        "id": "9gDYb5qGuRzy",
        "colab_type": "code",
        "outputId": "d6d4baac-906d-4500-cc73-76fbf1231398",
        "colab": {
          "base_uri": "https://localhost:8080/",
          "height": 204
        }
      },
      "source": [
        "# Let's put this in a dataframe so we can look at it more easily\n",
        "import pandas as pd\n",
        "user_data = pd.DataFrame(users)\n",
        "user_data.head()\n",
        "#using NAMEDTUPLES gives us headers. otherwise just TUPLES doesn't give it.\n",
        "\n",
        "#time_on_site is continuous"
      ],
      "execution_count": 98,
      "outputs": [
        {
          "output_type": "execute_result",
          "data": {
            "text/html": [
              "<div>\n",
              "<style scoped>\n",
              "    .dataframe tbody tr th:only-of-type {\n",
              "        vertical-align: middle;\n",
              "    }\n",
              "\n",
              "    .dataframe tbody tr th {\n",
              "        vertical-align: top;\n",
              "    }\n",
              "\n",
              "    .dataframe thead th {\n",
              "        text-align: right;\n",
              "    }\n",
              "</style>\n",
              "<table border=\"1\" class=\"dataframe\">\n",
              "  <thead>\n",
              "    <tr style=\"text-align: right;\">\n",
              "      <th></th>\n",
              "      <th>purchased</th>\n",
              "      <th>time_on_site</th>\n",
              "      <th>mobile</th>\n",
              "    </tr>\n",
              "  </thead>\n",
              "  <tbody>\n",
              "    <tr>\n",
              "      <th>0</th>\n",
              "      <td>True</td>\n",
              "      <td>372.383062</td>\n",
              "      <td>False</td>\n",
              "    </tr>\n",
              "    <tr>\n",
              "      <th>1</th>\n",
              "      <td>True</td>\n",
              "      <td>333.036058</td>\n",
              "      <td>False</td>\n",
              "    </tr>\n",
              "    <tr>\n",
              "      <th>2</th>\n",
              "      <td>True</td>\n",
              "      <td>263.337863</td>\n",
              "      <td>True</td>\n",
              "    </tr>\n",
              "    <tr>\n",
              "      <th>3</th>\n",
              "      <td>False</td>\n",
              "      <td>179.943844</td>\n",
              "      <td>True</td>\n",
              "    </tr>\n",
              "    <tr>\n",
              "      <th>4</th>\n",
              "      <td>False</td>\n",
              "      <td>267.679985</td>\n",
              "      <td>True</td>\n",
              "    </tr>\n",
              "  </tbody>\n",
              "</table>\n",
              "</div>"
            ],
            "text/plain": [
              "   purchased  time_on_site  mobile\n",
              "0       True    372.383062   False\n",
              "1       True    333.036058   False\n",
              "2       True    263.337863    True\n",
              "3      False    179.943844    True\n",
              "4      False    267.679985    True"
            ]
          },
          "metadata": {
            "tags": []
          },
          "execution_count": 98
        }
      ]
    },
    {
      "cell_type": "code",
      "metadata": {
        "id": "sr6IJv77ulVl",
        "colab_type": "code",
        "outputId": "5f3867cf-f10d-4688-dee3-6bafa89c2567",
        "colab": {
          "base_uri": "https://localhost:8080/",
          "height": 162
        }
      },
      "source": [
        "# Let's use crosstabulation to try to see what's going on\n",
        "pd.crosstab(user_data['purchased'], user_data['time_on_site'])\n",
        "\n",
        "#because time_on_site is a continuous variable, this is not very useful\n",
        "#crosstabs are typically used to compare categorical variables"
      ],
      "execution_count": 99,
      "outputs": [
        {
          "output_type": "execute_result",
          "data": {
            "text/html": [
              "<div>\n",
              "<style scoped>\n",
              "    .dataframe tbody tr th:only-of-type {\n",
              "        vertical-align: middle;\n",
              "    }\n",
              "\n",
              "    .dataframe tbody tr th {\n",
              "        vertical-align: top;\n",
              "    }\n",
              "\n",
              "    .dataframe thead th {\n",
              "        text-align: right;\n",
              "    }\n",
              "</style>\n",
              "<table border=\"1\" class=\"dataframe\">\n",
              "  <thead>\n",
              "    <tr style=\"text-align: right;\">\n",
              "      <th>time_on_site</th>\n",
              "      <th>6.172966844967938</th>\n",
              "      <th>6.924253618818034</th>\n",
              "      <th>7.134980286341245</th>\n",
              "      <th>7.5733985661232825</th>\n",
              "      <th>8.055190463892163</th>\n",
              "      <th>8.453600057533134</th>\n",
              "      <th>8.480011790959246</th>\n",
              "      <th>8.648554181516928</th>\n",
              "      <th>8.959262359230278</th>\n",
              "      <th>9.005768947051077</th>\n",
              "      <th>9.505467349382819</th>\n",
              "      <th>9.902297098583695</th>\n",
              "      <th>10.025034303259108</th>\n",
              "      <th>10.342086167085018</th>\n",
              "      <th>11.274377855920928</th>\n",
              "      <th>12.024135322949617</th>\n",
              "      <th>12.03098260370485</th>\n",
              "      <th>12.248438975396098</th>\n",
              "      <th>12.389351589548475</th>\n",
              "      <th>12.587579731054195</th>\n",
              "      <th>13.13792911538424</th>\n",
              "      <th>13.235821921014328</th>\n",
              "      <th>13.363841165168164</th>\n",
              "      <th>13.594822222731507</th>\n",
              "      <th>13.873321723163988</th>\n",
              "      <th>14.112467548053418</th>\n",
              "      <th>15.380787910434776</th>\n",
              "      <th>15.545299539817572</th>\n",
              "      <th>15.731583720413813</th>\n",
              "      <th>15.935937056953238</th>\n",
              "      <th>15.957140987181091</th>\n",
              "      <th>15.958407277645078</th>\n",
              "      <th>16.040153706962116</th>\n",
              "      <th>16.31748494959584</th>\n",
              "      <th>17.080818914725196</th>\n",
              "      <th>17.80694230714839</th>\n",
              "      <th>18.277201931982074</th>\n",
              "      <th>19.775034798592777</th>\n",
              "      <th>19.997027758510143</th>\n",
              "      <th>20.17101462037489</th>\n",
              "      <th>...</th>\n",
              "      <th>490.98252199550865</th>\n",
              "      <th>494.1780156140406</th>\n",
              "      <th>494.89660577878266</th>\n",
              "      <th>495.8690404699022</th>\n",
              "      <th>496.19499829925564</th>\n",
              "      <th>498.5557463795418</th>\n",
              "      <th>499.7154241460697</th>\n",
              "      <th>507.2288231543147</th>\n",
              "      <th>508.69067919591566</th>\n",
              "      <th>515.8113871771166</th>\n",
              "      <th>519.3115393297002</th>\n",
              "      <th>521.2482485751025</th>\n",
              "      <th>522.673898992681</th>\n",
              "      <th>526.4939461749826</th>\n",
              "      <th>527.2965785388753</th>\n",
              "      <th>528.5348044147125</th>\n",
              "      <th>529.8507414950122</th>\n",
              "      <th>540.1306422083615</th>\n",
              "      <th>540.7163102106535</th>\n",
              "      <th>550.6161292912788</th>\n",
              "      <th>551.8723941336418</th>\n",
              "      <th>557.5304403313163</th>\n",
              "      <th>558.5858301473039</th>\n",
              "      <th>568.0917325420689</th>\n",
              "      <th>568.7206390472043</th>\n",
              "      <th>573.4619978858267</th>\n",
              "      <th>576.1494447187935</th>\n",
              "      <th>576.570124036797</th>\n",
              "      <th>576.6102215747476</th>\n",
              "      <th>576.8706968862876</th>\n",
              "      <th>576.8901695151474</th>\n",
              "      <th>578.3717057404406</th>\n",
              "      <th>580.8615832831002</th>\n",
              "      <th>585.4059389543943</th>\n",
              "      <th>589.7552428660753</th>\n",
              "      <th>591.8385202803826</th>\n",
              "      <th>594.7131386341403</th>\n",
              "      <th>594.9075456752574</th>\n",
              "      <th>595.4019681747066</th>\n",
              "      <th>595.7623885261132</th>\n",
              "    </tr>\n",
              "    <tr>\n",
              "      <th>purchased</th>\n",
              "      <th></th>\n",
              "      <th></th>\n",
              "      <th></th>\n",
              "      <th></th>\n",
              "      <th></th>\n",
              "      <th></th>\n",
              "      <th></th>\n",
              "      <th></th>\n",
              "      <th></th>\n",
              "      <th></th>\n",
              "      <th></th>\n",
              "      <th></th>\n",
              "      <th></th>\n",
              "      <th></th>\n",
              "      <th></th>\n",
              "      <th></th>\n",
              "      <th></th>\n",
              "      <th></th>\n",
              "      <th></th>\n",
              "      <th></th>\n",
              "      <th></th>\n",
              "      <th></th>\n",
              "      <th></th>\n",
              "      <th></th>\n",
              "      <th></th>\n",
              "      <th></th>\n",
              "      <th></th>\n",
              "      <th></th>\n",
              "      <th></th>\n",
              "      <th></th>\n",
              "      <th></th>\n",
              "      <th></th>\n",
              "      <th></th>\n",
              "      <th></th>\n",
              "      <th></th>\n",
              "      <th></th>\n",
              "      <th></th>\n",
              "      <th></th>\n",
              "      <th></th>\n",
              "      <th></th>\n",
              "      <th></th>\n",
              "      <th></th>\n",
              "      <th></th>\n",
              "      <th></th>\n",
              "      <th></th>\n",
              "      <th></th>\n",
              "      <th></th>\n",
              "      <th></th>\n",
              "      <th></th>\n",
              "      <th></th>\n",
              "      <th></th>\n",
              "      <th></th>\n",
              "      <th></th>\n",
              "      <th></th>\n",
              "      <th></th>\n",
              "      <th></th>\n",
              "      <th></th>\n",
              "      <th></th>\n",
              "      <th></th>\n",
              "      <th></th>\n",
              "      <th></th>\n",
              "      <th></th>\n",
              "      <th></th>\n",
              "      <th></th>\n",
              "      <th></th>\n",
              "      <th></th>\n",
              "      <th></th>\n",
              "      <th></th>\n",
              "      <th></th>\n",
              "      <th></th>\n",
              "      <th></th>\n",
              "      <th></th>\n",
              "      <th></th>\n",
              "      <th></th>\n",
              "      <th></th>\n",
              "      <th></th>\n",
              "      <th></th>\n",
              "      <th></th>\n",
              "      <th></th>\n",
              "      <th></th>\n",
              "      <th></th>\n",
              "    </tr>\n",
              "  </thead>\n",
              "  <tbody>\n",
              "    <tr>\n",
              "      <th>False</th>\n",
              "      <td>1</td>\n",
              "      <td>1</td>\n",
              "      <td>1</td>\n",
              "      <td>0</td>\n",
              "      <td>0</td>\n",
              "      <td>1</td>\n",
              "      <td>1</td>\n",
              "      <td>0</td>\n",
              "      <td>1</td>\n",
              "      <td>1</td>\n",
              "      <td>1</td>\n",
              "      <td>0</td>\n",
              "      <td>1</td>\n",
              "      <td>1</td>\n",
              "      <td>0</td>\n",
              "      <td>0</td>\n",
              "      <td>1</td>\n",
              "      <td>1</td>\n",
              "      <td>1</td>\n",
              "      <td>1</td>\n",
              "      <td>1</td>\n",
              "      <td>1</td>\n",
              "      <td>1</td>\n",
              "      <td>1</td>\n",
              "      <td>1</td>\n",
              "      <td>0</td>\n",
              "      <td>1</td>\n",
              "      <td>0</td>\n",
              "      <td>1</td>\n",
              "      <td>0</td>\n",
              "      <td>1</td>\n",
              "      <td>0</td>\n",
              "      <td>1</td>\n",
              "      <td>1</td>\n",
              "      <td>1</td>\n",
              "      <td>1</td>\n",
              "      <td>1</td>\n",
              "      <td>0</td>\n",
              "      <td>0</td>\n",
              "      <td>1</td>\n",
              "      <td>...</td>\n",
              "      <td>1</td>\n",
              "      <td>1</td>\n",
              "      <td>0</td>\n",
              "      <td>0</td>\n",
              "      <td>0</td>\n",
              "      <td>1</td>\n",
              "      <td>1</td>\n",
              "      <td>0</td>\n",
              "      <td>1</td>\n",
              "      <td>1</td>\n",
              "      <td>0</td>\n",
              "      <td>1</td>\n",
              "      <td>0</td>\n",
              "      <td>1</td>\n",
              "      <td>1</td>\n",
              "      <td>1</td>\n",
              "      <td>0</td>\n",
              "      <td>1</td>\n",
              "      <td>1</td>\n",
              "      <td>1</td>\n",
              "      <td>0</td>\n",
              "      <td>0</td>\n",
              "      <td>1</td>\n",
              "      <td>1</td>\n",
              "      <td>1</td>\n",
              "      <td>1</td>\n",
              "      <td>1</td>\n",
              "      <td>1</td>\n",
              "      <td>0</td>\n",
              "      <td>1</td>\n",
              "      <td>0</td>\n",
              "      <td>0</td>\n",
              "      <td>1</td>\n",
              "      <td>1</td>\n",
              "      <td>1</td>\n",
              "      <td>0</td>\n",
              "      <td>1</td>\n",
              "      <td>1</td>\n",
              "      <td>0</td>\n",
              "      <td>1</td>\n",
              "    </tr>\n",
              "    <tr>\n",
              "      <th>True</th>\n",
              "      <td>0</td>\n",
              "      <td>0</td>\n",
              "      <td>0</td>\n",
              "      <td>1</td>\n",
              "      <td>1</td>\n",
              "      <td>0</td>\n",
              "      <td>0</td>\n",
              "      <td>1</td>\n",
              "      <td>0</td>\n",
              "      <td>0</td>\n",
              "      <td>0</td>\n",
              "      <td>1</td>\n",
              "      <td>0</td>\n",
              "      <td>0</td>\n",
              "      <td>1</td>\n",
              "      <td>1</td>\n",
              "      <td>0</td>\n",
              "      <td>0</td>\n",
              "      <td>0</td>\n",
              "      <td>0</td>\n",
              "      <td>0</td>\n",
              "      <td>0</td>\n",
              "      <td>0</td>\n",
              "      <td>0</td>\n",
              "      <td>0</td>\n",
              "      <td>1</td>\n",
              "      <td>0</td>\n",
              "      <td>1</td>\n",
              "      <td>0</td>\n",
              "      <td>1</td>\n",
              "      <td>0</td>\n",
              "      <td>1</td>\n",
              "      <td>0</td>\n",
              "      <td>0</td>\n",
              "      <td>0</td>\n",
              "      <td>0</td>\n",
              "      <td>0</td>\n",
              "      <td>1</td>\n",
              "      <td>1</td>\n",
              "      <td>0</td>\n",
              "      <td>...</td>\n",
              "      <td>0</td>\n",
              "      <td>0</td>\n",
              "      <td>1</td>\n",
              "      <td>1</td>\n",
              "      <td>1</td>\n",
              "      <td>0</td>\n",
              "      <td>0</td>\n",
              "      <td>1</td>\n",
              "      <td>0</td>\n",
              "      <td>0</td>\n",
              "      <td>1</td>\n",
              "      <td>0</td>\n",
              "      <td>1</td>\n",
              "      <td>0</td>\n",
              "      <td>0</td>\n",
              "      <td>0</td>\n",
              "      <td>1</td>\n",
              "      <td>0</td>\n",
              "      <td>0</td>\n",
              "      <td>0</td>\n",
              "      <td>1</td>\n",
              "      <td>1</td>\n",
              "      <td>0</td>\n",
              "      <td>0</td>\n",
              "      <td>0</td>\n",
              "      <td>0</td>\n",
              "      <td>0</td>\n",
              "      <td>0</td>\n",
              "      <td>1</td>\n",
              "      <td>0</td>\n",
              "      <td>1</td>\n",
              "      <td>1</td>\n",
              "      <td>0</td>\n",
              "      <td>0</td>\n",
              "      <td>0</td>\n",
              "      <td>1</td>\n",
              "      <td>0</td>\n",
              "      <td>0</td>\n",
              "      <td>1</td>\n",
              "      <td>0</td>\n",
              "    </tr>\n",
              "  </tbody>\n",
              "</table>\n",
              "</div>"
            ],
            "text/plain": [
              "time_on_site  6.172967    6.924254       ...      595.401968  595.762389\n",
              "purchased                                ...                            \n",
              "False                  1           1     ...               0           1\n",
              "True                   0           0     ...               1           0\n",
              "\n",
              "[2 rows x 1000 columns]"
            ]
          },
          "metadata": {
            "tags": []
          },
          "execution_count": 99
        }
      ]
    },
    {
      "cell_type": "code",
      "metadata": {
        "id": "hvAv6J3EwA9s",
        "colab_type": "code",
        "outputId": "ba4b760c-7cee-41f7-cecb-b7be85c030f3",
        "colab": {
          "base_uri": "https://localhost:8080/",
          "height": 142
        }
      },
      "source": [
        "# OK, that's not quite what we want\n",
        "# Time is continuous! We need to put it in discrete buckets\n",
        "# Pandas calls these bins, and pandas.cut helps make them\n",
        "\n",
        "\n",
        "time_bins = pd.cut(user_data['time_on_site'], 6)  # 6 equal-sized bins\n",
        "pd.crosstab(user_data['purchased'], time_bins)\n",
        "\n",
        "\n",
        "#note interval notation: ( means exclusive, [ is inclusive"
      ],
      "execution_count": 100,
      "outputs": [
        {
          "output_type": "execute_result",
          "data": {
            "text/html": [
              "<div>\n",
              "<style scoped>\n",
              "    .dataframe tbody tr th:only-of-type {\n",
              "        vertical-align: middle;\n",
              "    }\n",
              "\n",
              "    .dataframe tbody tr th {\n",
              "        vertical-align: top;\n",
              "    }\n",
              "\n",
              "    .dataframe thead th {\n",
              "        text-align: right;\n",
              "    }\n",
              "</style>\n",
              "<table border=\"1\" class=\"dataframe\">\n",
              "  <thead>\n",
              "    <tr style=\"text-align: right;\">\n",
              "      <th>time_on_site</th>\n",
              "      <th>(5.583, 104.438]</th>\n",
              "      <th>(104.438, 202.703]</th>\n",
              "      <th>(202.703, 300.968]</th>\n",
              "      <th>(300.968, 399.233]</th>\n",
              "      <th>(399.233, 497.497]</th>\n",
              "      <th>(497.497, 595.762]</th>\n",
              "    </tr>\n",
              "    <tr>\n",
              "      <th>purchased</th>\n",
              "      <th></th>\n",
              "      <th></th>\n",
              "      <th></th>\n",
              "      <th></th>\n",
              "      <th></th>\n",
              "      <th></th>\n",
              "    </tr>\n",
              "  </thead>\n",
              "  <tbody>\n",
              "    <tr>\n",
              "      <th>False</th>\n",
              "      <td>218</td>\n",
              "      <td>174</td>\n",
              "      <td>167</td>\n",
              "      <td>39</td>\n",
              "      <td>24</td>\n",
              "      <td>24</td>\n",
              "    </tr>\n",
              "    <tr>\n",
              "      <th>True</th>\n",
              "      <td>79</td>\n",
              "      <td>114</td>\n",
              "      <td>119</td>\n",
              "      <td>11</td>\n",
              "      <td>20</td>\n",
              "      <td>11</td>\n",
              "    </tr>\n",
              "  </tbody>\n",
              "</table>\n",
              "</div>"
            ],
            "text/plain": [
              "time_on_site  (5.583, 104.438]         ...          (497.497, 595.762]\n",
              "purchased                              ...                            \n",
              "False                      218         ...                          24\n",
              "True                        79         ...                          11\n",
              "\n",
              "[2 rows x 6 columns]"
            ]
          },
          "metadata": {
            "tags": []
          },
          "execution_count": 100
        }
      ]
    },
    {
      "cell_type": "code",
      "metadata": {
        "id": "pjcXnJw0wfaj",
        "colab_type": "code",
        "outputId": "59688840-06f6-4d91-8cde-dd98f9b31bd1",
        "colab": {
          "base_uri": "https://localhost:8080/",
          "height": 142
        }
      },
      "source": [
        "# We can make this a bit clearer by normalizing (getting %)\n",
        "pd.crosstab(user_data['purchased'], time_bins, normalize='columns')\n",
        "#this takes raw values in table into percentages of users buying within time period, which is better for analyzing than just looking at the raw count which leads to \n",
        "#strange interpretations (more time spent on site, less purchasing)"
      ],
      "execution_count": 101,
      "outputs": [
        {
          "output_type": "execute_result",
          "data": {
            "text/html": [
              "<div>\n",
              "<style scoped>\n",
              "    .dataframe tbody tr th:only-of-type {\n",
              "        vertical-align: middle;\n",
              "    }\n",
              "\n",
              "    .dataframe tbody tr th {\n",
              "        vertical-align: top;\n",
              "    }\n",
              "\n",
              "    .dataframe thead th {\n",
              "        text-align: right;\n",
              "    }\n",
              "</style>\n",
              "<table border=\"1\" class=\"dataframe\">\n",
              "  <thead>\n",
              "    <tr style=\"text-align: right;\">\n",
              "      <th>time_on_site</th>\n",
              "      <th>(5.583, 104.438]</th>\n",
              "      <th>(104.438, 202.703]</th>\n",
              "      <th>(202.703, 300.968]</th>\n",
              "      <th>(300.968, 399.233]</th>\n",
              "      <th>(399.233, 497.497]</th>\n",
              "      <th>(497.497, 595.762]</th>\n",
              "    </tr>\n",
              "    <tr>\n",
              "      <th>purchased</th>\n",
              "      <th></th>\n",
              "      <th></th>\n",
              "      <th></th>\n",
              "      <th></th>\n",
              "      <th></th>\n",
              "      <th></th>\n",
              "    </tr>\n",
              "  </thead>\n",
              "  <tbody>\n",
              "    <tr>\n",
              "      <th>False</th>\n",
              "      <td>0.734007</td>\n",
              "      <td>0.604167</td>\n",
              "      <td>0.583916</td>\n",
              "      <td>0.78</td>\n",
              "      <td>0.545455</td>\n",
              "      <td>0.685714</td>\n",
              "    </tr>\n",
              "    <tr>\n",
              "      <th>True</th>\n",
              "      <td>0.265993</td>\n",
              "      <td>0.395833</td>\n",
              "      <td>0.416084</td>\n",
              "      <td>0.22</td>\n",
              "      <td>0.454545</td>\n",
              "      <td>0.314286</td>\n",
              "    </tr>\n",
              "  </tbody>\n",
              "</table>\n",
              "</div>"
            ],
            "text/plain": [
              "time_on_site  (5.583, 104.438]         ...          (497.497, 595.762]\n",
              "purchased                              ...                            \n",
              "False                 0.734007         ...                    0.685714\n",
              "True                  0.265993         ...                    0.314286\n",
              "\n",
              "[2 rows x 6 columns]"
            ]
          },
          "metadata": {
            "tags": []
          },
          "execution_count": 101
        }
      ]
    },
    {
      "cell_type": "code",
      "metadata": {
        "id": "C3GzvDxlvZMa",
        "colab_type": "code",
        "outputId": "ed58d6ae-9da6-4554-d119-ff678cdf5bd1",
        "colab": {
          "base_uri": "https://localhost:8080/",
          "height": 142
        }
      },
      "source": [
        "# That seems counter to our hypothesis\n",
        "# More time on the site can actually have fewer purchases\n",
        "\n",
        "# But we know why, since we generated the data!\n",
        "# Let's look at mobile and purchased\n",
        "pd.crosstab(user_data['purchased'], user_data['mobile'], normalize='columns')"
      ],
      "execution_count": 102,
      "outputs": [
        {
          "output_type": "execute_result",
          "data": {
            "text/html": [
              "<div>\n",
              "<style scoped>\n",
              "    .dataframe tbody tr th:only-of-type {\n",
              "        vertical-align: middle;\n",
              "    }\n",
              "\n",
              "    .dataframe tbody tr th {\n",
              "        vertical-align: top;\n",
              "    }\n",
              "\n",
              "    .dataframe thead th {\n",
              "        text-align: right;\n",
              "    }\n",
              "</style>\n",
              "<table border=\"1\" class=\"dataframe\">\n",
              "  <thead>\n",
              "    <tr style=\"text-align: right;\">\n",
              "      <th>mobile</th>\n",
              "      <th>False</th>\n",
              "      <th>True</th>\n",
              "    </tr>\n",
              "    <tr>\n",
              "      <th>purchased</th>\n",
              "      <th></th>\n",
              "      <th></th>\n",
              "    </tr>\n",
              "  </thead>\n",
              "  <tbody>\n",
              "    <tr>\n",
              "      <th>False</th>\n",
              "      <td>0.768</td>\n",
              "      <td>0.605333</td>\n",
              "    </tr>\n",
              "    <tr>\n",
              "      <th>True</th>\n",
              "      <td>0.232</td>\n",
              "      <td>0.394667</td>\n",
              "    </tr>\n",
              "  </tbody>\n",
              "</table>\n",
              "</div>"
            ],
            "text/plain": [
              "mobile     False     True \n",
              "purchased                 \n",
              "False      0.768  0.605333\n",
              "True       0.232  0.394667"
            ]
          },
          "metadata": {
            "tags": []
          },
          "execution_count": 102
        }
      ]
    },
    {
      "cell_type": "code",
      "metadata": {
        "id": "KQb-wU60xCum",
        "colab_type": "code",
        "outputId": "80b12062-84eb-4f9a-931f-313b78b98c8b",
        "colab": {
          "base_uri": "https://localhost:8080/",
          "height": 190
        }
      },
      "source": [
        "# Yep, mobile users are more likely to buy things\n",
        "# But we're still not seeing the *whole* story until we look at all 3 at once\n",
        "\n",
        "# Live/stretch goal - how can we do that?\n",
        "\n",
        "\n",
        "pd.crosstab(user_data['mobile'], [user_data['purchased'], time_bins], normalize='index')\n",
        "#changed the bins from 5 to 6 as otherwise the middle section is overweighted and biased towards desktop users\n",
        "#each row = 100% bc we normalized by index which is 'purchased'\n"
      ],
      "execution_count": 103,
      "outputs": [
        {
          "output_type": "execute_result",
          "data": {
            "text/html": [
              "<div>\n",
              "<style scoped>\n",
              "    .dataframe tbody tr th:only-of-type {\n",
              "        vertical-align: middle;\n",
              "    }\n",
              "\n",
              "    .dataframe tbody tr th {\n",
              "        vertical-align: top;\n",
              "    }\n",
              "\n",
              "    .dataframe thead tr th {\n",
              "        text-align: left;\n",
              "    }\n",
              "\n",
              "    .dataframe thead tr:last-of-type th {\n",
              "        text-align: right;\n",
              "    }\n",
              "</style>\n",
              "<table border=\"1\" class=\"dataframe\">\n",
              "  <thead>\n",
              "    <tr>\n",
              "      <th>purchased</th>\n",
              "      <th colspan=\"6\" halign=\"left\">False</th>\n",
              "      <th colspan=\"6\" halign=\"left\">True</th>\n",
              "    </tr>\n",
              "    <tr>\n",
              "      <th>time_on_site</th>\n",
              "      <th>(5.583, 104.438]</th>\n",
              "      <th>(104.438, 202.703]</th>\n",
              "      <th>(202.703, 300.968]</th>\n",
              "      <th>(300.968, 399.233]</th>\n",
              "      <th>(399.233, 497.497]</th>\n",
              "      <th>(497.497, 595.762]</th>\n",
              "      <th>(5.583, 104.438]</th>\n",
              "      <th>(104.438, 202.703]</th>\n",
              "      <th>(202.703, 300.968]</th>\n",
              "      <th>(300.968, 399.233]</th>\n",
              "      <th>(399.233, 497.497]</th>\n",
              "      <th>(497.497, 595.762]</th>\n",
              "    </tr>\n",
              "    <tr>\n",
              "      <th>mobile</th>\n",
              "      <th></th>\n",
              "      <th></th>\n",
              "      <th></th>\n",
              "      <th></th>\n",
              "      <th></th>\n",
              "      <th></th>\n",
              "      <th></th>\n",
              "      <th></th>\n",
              "      <th></th>\n",
              "      <th></th>\n",
              "      <th></th>\n",
              "      <th></th>\n",
              "    </tr>\n",
              "  </thead>\n",
              "  <tbody>\n",
              "    <tr>\n",
              "      <th>False</th>\n",
              "      <td>0.188</td>\n",
              "      <td>0.144</td>\n",
              "      <td>0.088000</td>\n",
              "      <td>0.156</td>\n",
              "      <td>0.096</td>\n",
              "      <td>0.096</td>\n",
              "      <td>0.024000</td>\n",
              "      <td>0.024</td>\n",
              "      <td>0.016000</td>\n",
              "      <td>0.044</td>\n",
              "      <td>0.08</td>\n",
              "      <td>0.044</td>\n",
              "    </tr>\n",
              "    <tr>\n",
              "      <th>True</th>\n",
              "      <td>0.228</td>\n",
              "      <td>0.184</td>\n",
              "      <td>0.193333</td>\n",
              "      <td>0.000</td>\n",
              "      <td>0.000</td>\n",
              "      <td>0.000</td>\n",
              "      <td>0.097333</td>\n",
              "      <td>0.144</td>\n",
              "      <td>0.153333</td>\n",
              "      <td>0.000</td>\n",
              "      <td>0.00</td>\n",
              "      <td>0.000</td>\n",
              "    </tr>\n",
              "  </tbody>\n",
              "</table>\n",
              "</div>"
            ],
            "text/plain": [
              "purchased               False        ...                      True \n",
              "time_on_site (5.583, 104.438]        ...         (497.497, 595.762]\n",
              "mobile                               ...                           \n",
              "False                   0.188        ...                      0.044\n",
              "True                    0.228        ...                      0.000\n",
              "\n",
              "[2 rows x 12 columns]"
            ]
          },
          "metadata": {
            "tags": []
          },
          "execution_count": 103
        }
      ]
    },
    {
      "cell_type": "code",
      "metadata": {
        "id": "SgRWd2XV_Gc3",
        "colab_type": "code",
        "outputId": "0e5c55ec-f460-4273-f94f-6bbaeb695ac6",
        "colab": {
          "base_uri": "https://localhost:8080/",
          "height": 34
        }
      },
      "source": [
        "ct = pd.crosstab(user_data['mobile'], [user_data['purchased'], time_bins], normalize='index')\n",
        "\n",
        "type(ct)"
      ],
      "execution_count": 104,
      "outputs": [
        {
          "output_type": "execute_result",
          "data": {
            "text/plain": [
              "pandas.core.frame.DataFrame"
            ]
          },
          "metadata": {
            "tags": []
          },
          "execution_count": 104
        }
      ]
    },
    {
      "cell_type": "code",
      "metadata": {
        "id": "Is9XGVNP_J_v",
        "colab_type": "code",
        "outputId": "fff2fdf4-d066-429a-b5f6-6578cc9fc390",
        "colab": {
          "base_uri": "https://localhost:8080/",
          "height": 299
        }
      },
      "source": [
        "ct.plot(kind='bar', legend=False);\n"
      ],
      "execution_count": 105,
      "outputs": [
        {
          "output_type": "display_data",
          "data": {
            "image/png": "[encoded data removed]",
            "text/plain": [
              "<Figure size 432x288 with 1 Axes>"
            ]
          },
          "metadata": {
            "tags": []
          }
        }
      ]
    },
    {
      "cell_type": "code",
      "metadata": {
        "id": "BWX2pCtk_oVu",
        "colab_type": "code",
        "outputId": "cf2f9faa-176f-4d99-f5fb-dc1dcde9b17a",
        "colab": {
          "base_uri": "https://localhost:8080/",
          "height": 269
        }
      },
      "source": [
        "user_data['time_on_site'].plot.hist(bins=50);"
      ],
      "execution_count": 106,
      "outputs": [
        {
          "output_type": "display_data",
          "data": {
            "image/png": "[encoded data removed]",
            "text/plain": [
              "<Figure size 432x288 with 1 Axes>"
            ]
          },
          "metadata": {
            "tags": []
          }
        }
      ]
    },
    {
      "cell_type": "code",
      "metadata": {
        "id": "emSnMXP3_1Tf",
        "colab_type": "code",
        "colab": {
          "base_uri": "https://localhost:8080/",
          "height": 1000
        },
        "outputId": "76513ad2-e872-4b95-c20a-2678e274440a"
      },
      "source": [
        "user_data[user_data['mobile']==False]\n",
        "#only giving desktop users"
      ],
      "execution_count": 107,
      "outputs": [
        {
          "output_type": "execute_result",
          "data": {
            "text/html": [
              "<div>\n",
              "<style scoped>\n",
              "    .dataframe tbody tr th:only-of-type {\n",
              "        vertical-align: middle;\n",
              "    }\n",
              "\n",
              "    .dataframe tbody tr th {\n",
              "        vertical-align: top;\n",
              "    }\n",
              "\n",
              "    .dataframe thead th {\n",
              "        text-align: right;\n",
              "    }\n",
              "</style>\n",
              "<table border=\"1\" class=\"dataframe\">\n",
              "  <thead>\n",
              "    <tr style=\"text-align: right;\">\n",
              "      <th></th>\n",
              "      <th>purchased</th>\n",
              "      <th>time_on_site</th>\n",
              "      <th>mobile</th>\n",
              "    </tr>\n",
              "  </thead>\n",
              "  <tbody>\n",
              "    <tr>\n",
              "      <th>0</th>\n",
              "      <td>True</td>\n",
              "      <td>372.383062</td>\n",
              "      <td>False</td>\n",
              "    </tr>\n",
              "    <tr>\n",
              "      <th>1</th>\n",
              "      <td>True</td>\n",
              "      <td>333.036058</td>\n",
              "      <td>False</td>\n",
              "    </tr>\n",
              "    <tr>\n",
              "      <th>6</th>\n",
              "      <td>False</td>\n",
              "      <td>310.658138</td>\n",
              "      <td>False</td>\n",
              "    </tr>\n",
              "    <tr>\n",
              "      <th>8</th>\n",
              "      <td>False</td>\n",
              "      <td>394.332947</td>\n",
              "      <td>False</td>\n",
              "    </tr>\n",
              "    <tr>\n",
              "      <th>12</th>\n",
              "      <td>False</td>\n",
              "      <td>242.694698</td>\n",
              "      <td>False</td>\n",
              "    </tr>\n",
              "    <tr>\n",
              "      <th>17</th>\n",
              "      <td>False</td>\n",
              "      <td>576.570124</td>\n",
              "      <td>False</td>\n",
              "    </tr>\n",
              "    <tr>\n",
              "      <th>21</th>\n",
              "      <td>False</td>\n",
              "      <td>218.136071</td>\n",
              "      <td>False</td>\n",
              "    </tr>\n",
              "    <tr>\n",
              "      <th>22</th>\n",
              "      <td>False</td>\n",
              "      <td>131.374201</td>\n",
              "      <td>False</td>\n",
              "    </tr>\n",
              "    <tr>\n",
              "      <th>29</th>\n",
              "      <td>False</td>\n",
              "      <td>31.086949</td>\n",
              "      <td>False</td>\n",
              "    </tr>\n",
              "    <tr>\n",
              "      <th>31</th>\n",
              "      <td>True</td>\n",
              "      <td>50.899793</td>\n",
              "      <td>False</td>\n",
              "    </tr>\n",
              "    <tr>\n",
              "      <th>33</th>\n",
              "      <td>False</td>\n",
              "      <td>150.491257</td>\n",
              "      <td>False</td>\n",
              "    </tr>\n",
              "    <tr>\n",
              "      <th>34</th>\n",
              "      <td>False</td>\n",
              "      <td>508.690679</td>\n",
              "      <td>False</td>\n",
              "    </tr>\n",
              "    <tr>\n",
              "      <th>35</th>\n",
              "      <td>False</td>\n",
              "      <td>104.272154</td>\n",
              "      <td>False</td>\n",
              "    </tr>\n",
              "    <tr>\n",
              "      <th>38</th>\n",
              "      <td>True</td>\n",
              "      <td>321.761419</td>\n",
              "      <td>False</td>\n",
              "    </tr>\n",
              "    <tr>\n",
              "      <th>43</th>\n",
              "      <td>False</td>\n",
              "      <td>441.129723</td>\n",
              "      <td>False</td>\n",
              "    </tr>\n",
              "    <tr>\n",
              "      <th>44</th>\n",
              "      <td>True</td>\n",
              "      <td>340.412508</td>\n",
              "      <td>False</td>\n",
              "    </tr>\n",
              "    <tr>\n",
              "      <th>50</th>\n",
              "      <td>True</td>\n",
              "      <td>81.512577</td>\n",
              "      <td>False</td>\n",
              "    </tr>\n",
              "    <tr>\n",
              "      <th>55</th>\n",
              "      <td>False</td>\n",
              "      <td>361.174951</td>\n",
              "      <td>False</td>\n",
              "    </tr>\n",
              "    <tr>\n",
              "      <th>58</th>\n",
              "      <td>False</td>\n",
              "      <td>147.953237</td>\n",
              "      <td>False</td>\n",
              "    </tr>\n",
              "    <tr>\n",
              "      <th>60</th>\n",
              "      <td>False</td>\n",
              "      <td>202.576782</td>\n",
              "      <td>False</td>\n",
              "    </tr>\n",
              "    <tr>\n",
              "      <th>63</th>\n",
              "      <td>False</td>\n",
              "      <td>540.716310</td>\n",
              "      <td>False</td>\n",
              "    </tr>\n",
              "    <tr>\n",
              "      <th>70</th>\n",
              "      <td>True</td>\n",
              "      <td>26.421568</td>\n",
              "      <td>False</td>\n",
              "    </tr>\n",
              "    <tr>\n",
              "      <th>77</th>\n",
              "      <td>False</td>\n",
              "      <td>352.961888</td>\n",
              "      <td>False</td>\n",
              "    </tr>\n",
              "    <tr>\n",
              "      <th>78</th>\n",
              "      <td>False</td>\n",
              "      <td>378.277637</td>\n",
              "      <td>False</td>\n",
              "    </tr>\n",
              "    <tr>\n",
              "      <th>82</th>\n",
              "      <td>True</td>\n",
              "      <td>595.401968</td>\n",
              "      <td>False</td>\n",
              "    </tr>\n",
              "    <tr>\n",
              "      <th>92</th>\n",
              "      <td>False</td>\n",
              "      <td>118.605585</td>\n",
              "      <td>False</td>\n",
              "    </tr>\n",
              "    <tr>\n",
              "      <th>93</th>\n",
              "      <td>False</td>\n",
              "      <td>122.648001</td>\n",
              "      <td>False</td>\n",
              "    </tr>\n",
              "    <tr>\n",
              "      <th>95</th>\n",
              "      <td>True</td>\n",
              "      <td>476.026906</td>\n",
              "      <td>False</td>\n",
              "    </tr>\n",
              "    <tr>\n",
              "      <th>96</th>\n",
              "      <td>False</td>\n",
              "      <td>540.130642</td>\n",
              "      <td>False</td>\n",
              "    </tr>\n",
              "    <tr>\n",
              "      <th>101</th>\n",
              "      <td>True</td>\n",
              "      <td>557.530440</td>\n",
              "      <td>False</td>\n",
              "    </tr>\n",
              "    <tr>\n",
              "      <th>...</th>\n",
              "      <td>...</td>\n",
              "      <td>...</td>\n",
              "      <td>...</td>\n",
              "    </tr>\n",
              "    <tr>\n",
              "      <th>895</th>\n",
              "      <td>False</td>\n",
              "      <td>437.685784</td>\n",
              "      <td>False</td>\n",
              "    </tr>\n",
              "    <tr>\n",
              "      <th>896</th>\n",
              "      <td>False</td>\n",
              "      <td>328.351184</td>\n",
              "      <td>False</td>\n",
              "    </tr>\n",
              "    <tr>\n",
              "      <th>899</th>\n",
              "      <td>False</td>\n",
              "      <td>259.364212</td>\n",
              "      <td>False</td>\n",
              "    </tr>\n",
              "    <tr>\n",
              "      <th>908</th>\n",
              "      <td>False</td>\n",
              "      <td>466.836880</td>\n",
              "      <td>False</td>\n",
              "    </tr>\n",
              "    <tr>\n",
              "      <th>909</th>\n",
              "      <td>False</td>\n",
              "      <td>527.296579</td>\n",
              "      <td>False</td>\n",
              "    </tr>\n",
              "    <tr>\n",
              "      <th>910</th>\n",
              "      <td>True</td>\n",
              "      <td>496.194998</td>\n",
              "      <td>False</td>\n",
              "    </tr>\n",
              "    <tr>\n",
              "      <th>912</th>\n",
              "      <td>False</td>\n",
              "      <td>149.880436</td>\n",
              "      <td>False</td>\n",
              "    </tr>\n",
              "    <tr>\n",
              "      <th>916</th>\n",
              "      <td>False</td>\n",
              "      <td>267.940351</td>\n",
              "      <td>False</td>\n",
              "    </tr>\n",
              "    <tr>\n",
              "      <th>936</th>\n",
              "      <td>True</td>\n",
              "      <td>468.547534</td>\n",
              "      <td>False</td>\n",
              "    </tr>\n",
              "    <tr>\n",
              "      <th>939</th>\n",
              "      <td>False</td>\n",
              "      <td>109.402644</td>\n",
              "      <td>False</td>\n",
              "    </tr>\n",
              "    <tr>\n",
              "      <th>940</th>\n",
              "      <td>False</td>\n",
              "      <td>391.619814</td>\n",
              "      <td>False</td>\n",
              "    </tr>\n",
              "    <tr>\n",
              "      <th>941</th>\n",
              "      <td>False</td>\n",
              "      <td>62.541960</td>\n",
              "      <td>False</td>\n",
              "    </tr>\n",
              "    <tr>\n",
              "      <th>944</th>\n",
              "      <td>False</td>\n",
              "      <td>58.295762</td>\n",
              "      <td>False</td>\n",
              "    </tr>\n",
              "    <tr>\n",
              "      <th>946</th>\n",
              "      <td>True</td>\n",
              "      <td>141.930319</td>\n",
              "      <td>False</td>\n",
              "    </tr>\n",
              "    <tr>\n",
              "      <th>947</th>\n",
              "      <td>False</td>\n",
              "      <td>144.112199</td>\n",
              "      <td>False</td>\n",
              "    </tr>\n",
              "    <tr>\n",
              "      <th>950</th>\n",
              "      <td>True</td>\n",
              "      <td>319.533803</td>\n",
              "      <td>False</td>\n",
              "    </tr>\n",
              "    <tr>\n",
              "      <th>951</th>\n",
              "      <td>False</td>\n",
              "      <td>271.768717</td>\n",
              "      <td>False</td>\n",
              "    </tr>\n",
              "    <tr>\n",
              "      <th>953</th>\n",
              "      <td>False</td>\n",
              "      <td>594.713139</td>\n",
              "      <td>False</td>\n",
              "    </tr>\n",
              "    <tr>\n",
              "      <th>958</th>\n",
              "      <td>False</td>\n",
              "      <td>55.747103</td>\n",
              "      <td>False</td>\n",
              "    </tr>\n",
              "    <tr>\n",
              "      <th>959</th>\n",
              "      <td>False</td>\n",
              "      <td>370.555270</td>\n",
              "      <td>False</td>\n",
              "    </tr>\n",
              "    <tr>\n",
              "      <th>961</th>\n",
              "      <td>True</td>\n",
              "      <td>440.358514</td>\n",
              "      <td>False</td>\n",
              "    </tr>\n",
              "    <tr>\n",
              "      <th>962</th>\n",
              "      <td>False</td>\n",
              "      <td>81.472254</td>\n",
              "      <td>False</td>\n",
              "    </tr>\n",
              "    <tr>\n",
              "      <th>965</th>\n",
              "      <td>False</td>\n",
              "      <td>84.898309</td>\n",
              "      <td>False</td>\n",
              "    </tr>\n",
              "    <tr>\n",
              "      <th>969</th>\n",
              "      <td>False</td>\n",
              "      <td>18.277202</td>\n",
              "      <td>False</td>\n",
              "    </tr>\n",
              "    <tr>\n",
              "      <th>970</th>\n",
              "      <td>False</td>\n",
              "      <td>363.359170</td>\n",
              "      <td>False</td>\n",
              "    </tr>\n",
              "    <tr>\n",
              "      <th>975</th>\n",
              "      <td>False</td>\n",
              "      <td>499.715424</td>\n",
              "      <td>False</td>\n",
              "    </tr>\n",
              "    <tr>\n",
              "      <th>983</th>\n",
              "      <td>False</td>\n",
              "      <td>315.099186</td>\n",
              "      <td>False</td>\n",
              "    </tr>\n",
              "    <tr>\n",
              "      <th>986</th>\n",
              "      <td>False</td>\n",
              "      <td>172.944514</td>\n",
              "      <td>False</td>\n",
              "    </tr>\n",
              "    <tr>\n",
              "      <th>992</th>\n",
              "      <td>True</td>\n",
              "      <td>469.217961</td>\n",
              "      <td>False</td>\n",
              "    </tr>\n",
              "    <tr>\n",
              "      <th>998</th>\n",
              "      <td>False</td>\n",
              "      <td>95.822892</td>\n",
              "      <td>False</td>\n",
              "    </tr>\n",
              "  </tbody>\n",
              "</table>\n",
              "<p>250 rows × 3 columns</p>\n",
              "</div>"
            ],
            "text/plain": [
              "     purchased  time_on_site  mobile\n",
              "0         True    372.383062   False\n",
              "1         True    333.036058   False\n",
              "6        False    310.658138   False\n",
              "8        False    394.332947   False\n",
              "12       False    242.694698   False\n",
              "17       False    576.570124   False\n",
              "21       False    218.136071   False\n",
              "22       False    131.374201   False\n",
              "29       False     31.086949   False\n",
              "31        True     50.899793   False\n",
              "33       False    150.491257   False\n",
              "34       False    508.690679   False\n",
              "35       False    104.272154   False\n",
              "38        True    321.761419   False\n",
              "43       False    441.129723   False\n",
              "44        True    340.412508   False\n",
              "50        True     81.512577   False\n",
              "55       False    361.174951   False\n",
              "58       False    147.953237   False\n",
              "60       False    202.576782   False\n",
              "63       False    540.716310   False\n",
              "70        True     26.421568   False\n",
              "77       False    352.961888   False\n",
              "78       False    378.277637   False\n",
              "82        True    595.401968   False\n",
              "92       False    118.605585   False\n",
              "93       False    122.648001   False\n",
              "95        True    476.026906   False\n",
              "96       False    540.130642   False\n",
              "101       True    557.530440   False\n",
              "..         ...           ...     ...\n",
              "895      False    437.685784   False\n",
              "896      False    328.351184   False\n",
              "899      False    259.364212   False\n",
              "908      False    466.836880   False\n",
              "909      False    527.296579   False\n",
              "910       True    496.194998   False\n",
              "912      False    149.880436   False\n",
              "916      False    267.940351   False\n",
              "936       True    468.547534   False\n",
              "939      False    109.402644   False\n",
              "940      False    391.619814   False\n",
              "941      False     62.541960   False\n",
              "944      False     58.295762   False\n",
              "946       True    141.930319   False\n",
              "947      False    144.112199   False\n",
              "950       True    319.533803   False\n",
              "951      False    271.768717   False\n",
              "953      False    594.713139   False\n",
              "958      False     55.747103   False\n",
              "959      False    370.555270   False\n",
              "961       True    440.358514   False\n",
              "962      False     81.472254   False\n",
              "965      False     84.898309   False\n",
              "969      False     18.277202   False\n",
              "970      False    363.359170   False\n",
              "975      False    499.715424   False\n",
              "983      False    315.099186   False\n",
              "986      False    172.944514   False\n",
              "992       True    469.217961   False\n",
              "998      False     95.822892   False\n",
              "\n",
              "[250 rows x 3 columns]"
            ]
          },
          "metadata": {
            "tags": []
          },
          "execution_count": 107
        }
      ]
    },
    {
      "cell_type": "code",
      "metadata": {
        "id": "Yv5n0AqvABbc",
        "colab_type": "code",
        "outputId": "222eb6d1-d8bd-46fa-8e95-3721a5d1af8b",
        "colab": {
          "base_uri": "https://localhost:8080/",
          "height": 269
        }
      },
      "source": [
        "user_data[user_data['mobile']==True].plot.density();"
      ],
      "execution_count": 108,
      "outputs": [
        {
          "output_type": "display_data",
          "data": {
            "image/png": "[encoded data removed]",
            "text/plain": [
              "<Figure size 432x288 with 1 Axes>"
            ]
          },
          "metadata": {
            "tags": []
          }
        }
      ]
    },
    {
      "cell_type": "code",
      "metadata": {
        "id": "k-lbZ206AiAV",
        "colab_type": "code",
        "colab": {}
      },
      "source": [
        "#user_data[(user_data['mobile'])]\n",
        "\n",
        "#plot.hist(bins=50);"
      ],
      "execution_count": 0,
      "outputs": []
    },
    {
      "cell_type": "code",
      "metadata": {
        "id": "inL55LoWAs20",
        "colab_type": "code",
        "outputId": "a52bf7cd-0332-4e01-d2a1-57a3ded76510",
        "colab": {
          "base_uri": "https://localhost:8080/",
          "height": 266
        }
      },
      "source": [
        "#new tool, pivot table!\n",
        "\n",
        "pt = pd.pivot_table(user_data, values='purchased', index=time_bins)\n",
        "pt\n",
        "\n",
        "#this should be very similar to the crosstab earlier"
      ],
      "execution_count": 110,
      "outputs": [
        {
          "output_type": "execute_result",
          "data": {
            "text/html": [
              "<div>\n",
              "<style scoped>\n",
              "    .dataframe tbody tr th:only-of-type {\n",
              "        vertical-align: middle;\n",
              "    }\n",
              "\n",
              "    .dataframe tbody tr th {\n",
              "        vertical-align: top;\n",
              "    }\n",
              "\n",
              "    .dataframe thead th {\n",
              "        text-align: right;\n",
              "    }\n",
              "</style>\n",
              "<table border=\"1\" class=\"dataframe\">\n",
              "  <thead>\n",
              "    <tr style=\"text-align: right;\">\n",
              "      <th></th>\n",
              "      <th>purchased</th>\n",
              "    </tr>\n",
              "    <tr>\n",
              "      <th>time_on_site</th>\n",
              "      <th></th>\n",
              "    </tr>\n",
              "  </thead>\n",
              "  <tbody>\n",
              "    <tr>\n",
              "      <th>(5.583, 104.438]</th>\n",
              "      <td>0.265993</td>\n",
              "    </tr>\n",
              "    <tr>\n",
              "      <th>(104.438, 202.703]</th>\n",
              "      <td>0.395833</td>\n",
              "    </tr>\n",
              "    <tr>\n",
              "      <th>(202.703, 300.968]</th>\n",
              "      <td>0.416084</td>\n",
              "    </tr>\n",
              "    <tr>\n",
              "      <th>(300.968, 399.233]</th>\n",
              "      <td>0.220000</td>\n",
              "    </tr>\n",
              "    <tr>\n",
              "      <th>(399.233, 497.497]</th>\n",
              "      <td>0.454545</td>\n",
              "    </tr>\n",
              "    <tr>\n",
              "      <th>(497.497, 595.762]</th>\n",
              "      <td>0.314286</td>\n",
              "    </tr>\n",
              "  </tbody>\n",
              "</table>\n",
              "</div>"
            ],
            "text/plain": [
              "                    purchased\n",
              "time_on_site                 \n",
              "(5.583, 104.438]     0.265993\n",
              "(104.438, 202.703]   0.395833\n",
              "(202.703, 300.968]   0.416084\n",
              "(300.968, 399.233]   0.220000\n",
              "(399.233, 497.497]   0.454545\n",
              "(497.497, 595.762]   0.314286"
            ]
          },
          "metadata": {
            "tags": []
          },
          "execution_count": 110
        }
      ]
    },
    {
      "cell_type": "code",
      "metadata": {
        "id": "-4nlgd8LBQJW",
        "colab_type": "code",
        "outputId": "f0e83100-a73b-4f8f-9681-018e12fab267",
        "colab": {
          "base_uri": "https://localhost:8080/",
          "height": 387
        }
      },
      "source": [
        "pt.plot.bar()"
      ],
      "execution_count": 111,
      "outputs": [
        {
          "output_type": "execute_result",
          "data": {
            "text/plain": [
              "<matplotlib.axes._subplots.AxesSubplot at 0x7f27016e9e10>"
            ]
          },
          "metadata": {
            "tags": []
          },
          "execution_count": 111
        },
        {
          "output_type": "display_data",
          "data": {
            "image/png": "[encoded data removed]",
            "text/plain": [
              "<Figure size 432x288 with 1 Axes>"
            ]
          },
          "metadata": {
            "tags": []
          }
        }
      ]
    },
    {
      "cell_type": "code",
      "metadata": {
        "id": "vnXujuXRBXJr",
        "colab_type": "code",
        "outputId": "dddfa488-d873-4e82-fe1d-aae4294e7b30",
        "colab": {
          "base_uri": "https://localhost:8080/",
          "height": 297
        }
      },
      "source": [
        "ct = pd.crosstab(time_bins, [user_data['purchased'],user_data['mobile']], normalize='columns')\n",
        "ct"
      ],
      "execution_count": 112,
      "outputs": [
        {
          "output_type": "execute_result",
          "data": {
            "text/html": [
              "<div>\n",
              "<style scoped>\n",
              "    .dataframe tbody tr th:only-of-type {\n",
              "        vertical-align: middle;\n",
              "    }\n",
              "\n",
              "    .dataframe tbody tr th {\n",
              "        vertical-align: top;\n",
              "    }\n",
              "\n",
              "    .dataframe thead tr th {\n",
              "        text-align: left;\n",
              "    }\n",
              "\n",
              "    .dataframe thead tr:last-of-type th {\n",
              "        text-align: right;\n",
              "    }\n",
              "</style>\n",
              "<table border=\"1\" class=\"dataframe\">\n",
              "  <thead>\n",
              "    <tr>\n",
              "      <th>purchased</th>\n",
              "      <th colspan=\"2\" halign=\"left\">False</th>\n",
              "      <th colspan=\"2\" halign=\"left\">True</th>\n",
              "    </tr>\n",
              "    <tr>\n",
              "      <th>mobile</th>\n",
              "      <th>False</th>\n",
              "      <th>True</th>\n",
              "      <th>False</th>\n",
              "      <th>True</th>\n",
              "    </tr>\n",
              "    <tr>\n",
              "      <th>time_on_site</th>\n",
              "      <th></th>\n",
              "      <th></th>\n",
              "      <th></th>\n",
              "      <th></th>\n",
              "    </tr>\n",
              "  </thead>\n",
              "  <tbody>\n",
              "    <tr>\n",
              "      <th>(5.583, 104.438]</th>\n",
              "      <td>0.244792</td>\n",
              "      <td>0.376652</td>\n",
              "      <td>0.103448</td>\n",
              "      <td>0.246622</td>\n",
              "    </tr>\n",
              "    <tr>\n",
              "      <th>(104.438, 202.703]</th>\n",
              "      <td>0.187500</td>\n",
              "      <td>0.303965</td>\n",
              "      <td>0.103448</td>\n",
              "      <td>0.364865</td>\n",
              "    </tr>\n",
              "    <tr>\n",
              "      <th>(202.703, 300.968]</th>\n",
              "      <td>0.114583</td>\n",
              "      <td>0.319383</td>\n",
              "      <td>0.068966</td>\n",
              "      <td>0.388514</td>\n",
              "    </tr>\n",
              "    <tr>\n",
              "      <th>(300.968, 399.233]</th>\n",
              "      <td>0.203125</td>\n",
              "      <td>0.000000</td>\n",
              "      <td>0.189655</td>\n",
              "      <td>0.000000</td>\n",
              "    </tr>\n",
              "    <tr>\n",
              "      <th>(399.233, 497.497]</th>\n",
              "      <td>0.125000</td>\n",
              "      <td>0.000000</td>\n",
              "      <td>0.344828</td>\n",
              "      <td>0.000000</td>\n",
              "    </tr>\n",
              "    <tr>\n",
              "      <th>(497.497, 595.762]</th>\n",
              "      <td>0.125000</td>\n",
              "      <td>0.000000</td>\n",
              "      <td>0.189655</td>\n",
              "      <td>0.000000</td>\n",
              "    </tr>\n",
              "  </tbody>\n",
              "</table>\n",
              "</div>"
            ],
            "text/plain": [
              "purchased              False               True           \n",
              "mobile                 False     True      False     True \n",
              "time_on_site                                              \n",
              "(5.583, 104.438]    0.244792  0.376652  0.103448  0.246622\n",
              "(104.438, 202.703]  0.187500  0.303965  0.103448  0.364865\n",
              "(202.703, 300.968]  0.114583  0.319383  0.068966  0.388514\n",
              "(300.968, 399.233]  0.203125  0.000000  0.189655  0.000000\n",
              "(399.233, 497.497]  0.125000  0.000000  0.344828  0.000000\n",
              "(497.497, 595.762]  0.125000  0.000000  0.189655  0.000000"
            ]
          },
          "metadata": {
            "tags": []
          },
          "execution_count": 112
        }
      ]
    },
    {
      "cell_type": "code",
      "metadata": {
        "id": "tb9i2IVGBf9L",
        "colab_type": "code",
        "outputId": "b80c51f9-a807-4b2e-88c7-0379c03cb681",
        "colab": {
          "base_uri": "https://localhost:8080/",
          "height": 274
        }
      },
      "source": [
        "ct.plot();"
      ],
      "execution_count": 113,
      "outputs": [
        {
          "output_type": "display_data",
          "data": {
            "image/png": "[encoded data removed]",
            "text/plain": [
              "<Figure size 432x288 with 1 Axes>"
            ]
          },
          "metadata": {
            "tags": []
          }
        }
      ]
    },
    {
      "cell_type": "code",
      "metadata": {
        "id": "kdtAuT5BCDeV",
        "colab_type": "code",
        "outputId": "d4f60fec-3279-4e26-f933-f2e892ea7c17",
        "colab": {
          "base_uri": "https://localhost:8080/",
          "height": 370
        }
      },
      "source": [
        "ct.plot(kind='bar');"
      ],
      "execution_count": 114,
      "outputs": [
        {
          "output_type": "display_data",
          "data": {
            "image/png": "[encoded data removed]",
            "text/plain": [
              "<Figure size 432x288 with 1 Axes>"
            ]
          },
          "metadata": {
            "tags": []
          }
        }
      ]
    },
    {
      "cell_type": "code",
      "metadata": {
        "id": "oYt4MOJoCmx0",
        "colab_type": "code",
        "outputId": "4b71bbbd-b998-48a2-f225-dd7662ae830b",
        "colab": {
          "base_uri": "https://localhost:8080/",
          "height": 387
        }
      },
      "source": [
        "ct_sliced = ct.iloc[:, [2,3]]\n",
        "ct_sliced.plot(kind='bar', stacked=True)"
      ],
      "execution_count": 115,
      "outputs": [
        {
          "output_type": "execute_result",
          "data": {
            "text/plain": [
              "<matplotlib.axes._subplots.AxesSubplot at 0x7f2701740780>"
            ]
          },
          "metadata": {
            "tags": []
          },
          "execution_count": 115
        },
        {
          "output_type": "display_data",
          "data": {
            "image/png": "[encoded data removed]",
            "text/plain": [
              "<Figure size 432x288 with 1 Axes>"
            ]
          },
          "metadata": {
            "tags": []
          }
        }
      ]
    },
    {
      "cell_type": "markdown",
      "metadata": {
        "id": "lOqaPds9huME",
        "colab_type": "text"
      },
      "source": [
        "## Assignment - what's going on here?\n",
        "\n",
        "Consider the data in `persons.csv` (already prepared for you, in the repo for the week). It has four columns - a unique id, followed by age (in years), weight (in lbs), and exercise time (in minutes/week) of 1200 (hypothetical) people.\n",
        "\n",
        "Try to figure out which variables are possibly related to each other, and which may be confounding relationships."
      ]
    },
    {
      "cell_type": "code",
      "metadata": {
        "id": "TGUS79cOhPWj",
        "colab_type": "code",
        "colab": {}
      },
      "source": [
        "# TODO - your code here\n",
        "# Use what we did live in lecture as an example\n",
        "\n",
        "# HINT - you can find the raw URL on GitHub and potentially use that\n",
        "# to load the data with read_csv, or you can upload it yourself\n",
        "\n",
        "\n",
        "#find the CT that tells the story and generates a plot to show your analysis"
      ],
      "execution_count": 0,
      "outputs": []
    },
    {
      "cell_type": "markdown",
      "metadata": {
        "id": "15MMBgGyzTOB",
        "colab_type": "text"
      },
      "source": [
        "## Preliminary data cleaning"
      ]
    },
    {
      "cell_type": "code",
      "metadata": {
        "id": "IBAY9y8kD3Df",
        "colab_type": "code",
        "outputId": "e7709812-a342-4419-f766-cb23a6c97e59",
        "colab": {
          "base_uri": "https://localhost:8080/",
          "height": 289
        }
      },
      "source": [
        "#load data\n",
        "\n",
        "file_url = 'https://raw.githubusercontent.com/LambdaSchool/DS-Unit-1-Sprint-1-Dealing-With-Data/master/module3-databackedassertions/persons.csv'\n",
        "\n",
        "import pandas as pd\n",
        "\n",
        "exercise_data = pd.read_csv(file_url, index_col=0)\n",
        "\n",
        "#?pd.read_csv\n",
        "\n",
        "!pip install pandas==0.23.4\n",
        "\n",
        "exercise_data.head()\n"
      ],
      "execution_count": 117,
      "outputs": [
        {
          "output_type": "stream",
          "text": [
            "Requirement already satisfied: pandas==0.23.4 in /usr/local/lib/python3.6/dist-packages (0.23.4)\n",
            "Requirement already satisfied: pytz>=2011k in /usr/local/lib/python3.6/dist-packages (from pandas==0.23.4) (2018.9)\n",
            "Requirement already satisfied: numpy>=1.9.0 in /usr/local/lib/python3.6/dist-packages (from pandas==0.23.4) (1.16.4)\n",
            "Requirement already satisfied: python-dateutil>=2.5.0 in /usr/local/lib/python3.6/dist-packages (from pandas==0.23.4) (2.5.3)\n",
            "Requirement already satisfied: six>=1.5 in /usr/local/lib/python3.6/dist-packages (from python-dateutil>=2.5.0->pandas==0.23.4) (1.12.0)\n"
          ],
          "name": "stdout"
        },
        {
          "output_type": "execute_result",
          "data": {
            "text/html": [
              "<div>\n",
              "<style scoped>\n",
              "    .dataframe tbody tr th:only-of-type {\n",
              "        vertical-align: middle;\n",
              "    }\n",
              "\n",
              "    .dataframe tbody tr th {\n",
              "        vertical-align: top;\n",
              "    }\n",
              "\n",
              "    .dataframe thead th {\n",
              "        text-align: right;\n",
              "    }\n",
              "</style>\n",
              "<table border=\"1\" class=\"dataframe\">\n",
              "  <thead>\n",
              "    <tr style=\"text-align: right;\">\n",
              "      <th></th>\n",
              "      <th>age</th>\n",
              "      <th>weight</th>\n",
              "      <th>exercise_time</th>\n",
              "    </tr>\n",
              "  </thead>\n",
              "  <tbody>\n",
              "    <tr>\n",
              "      <th>0</th>\n",
              "      <td>44</td>\n",
              "      <td>118</td>\n",
              "      <td>192</td>\n",
              "    </tr>\n",
              "    <tr>\n",
              "      <th>1</th>\n",
              "      <td>41</td>\n",
              "      <td>161</td>\n",
              "      <td>35</td>\n",
              "    </tr>\n",
              "    <tr>\n",
              "      <th>2</th>\n",
              "      <td>46</td>\n",
              "      <td>128</td>\n",
              "      <td>220</td>\n",
              "    </tr>\n",
              "    <tr>\n",
              "      <th>3</th>\n",
              "      <td>39</td>\n",
              "      <td>216</td>\n",
              "      <td>57</td>\n",
              "    </tr>\n",
              "    <tr>\n",
              "      <th>4</th>\n",
              "      <td>28</td>\n",
              "      <td>116</td>\n",
              "      <td>182</td>\n",
              "    </tr>\n",
              "  </tbody>\n",
              "</table>\n",
              "</div>"
            ],
            "text/plain": [
              "   age  weight  exercise_time\n",
              "0   44     118            192\n",
              "1   41     161             35\n",
              "2   46     128            220\n",
              "3   39     216             57\n",
              "4   28     116            182"
            ]
          },
          "metadata": {
            "tags": []
          },
          "execution_count": 117
        }
      ]
    },
    {
      "cell_type": "code",
      "metadata": {
        "id": "cLBcv5gGF07Z",
        "colab_type": "code",
        "outputId": "002048e1-b39b-4855-9ea9-c2ed8d3e1c08",
        "colab": {
          "base_uri": "https://localhost:8080/",
          "height": 85
        }
      },
      "source": [
        "exercise_data.isna().sum()"
      ],
      "execution_count": 118,
      "outputs": [
        {
          "output_type": "execute_result",
          "data": {
            "text/plain": [
              "age              0\n",
              "weight           0\n",
              "exercise_time    0\n",
              "dtype: int64"
            ]
          },
          "metadata": {
            "tags": []
          },
          "execution_count": 118
        }
      ]
    },
    {
      "cell_type": "code",
      "metadata": {
        "id": "9BvB3aPjF56P",
        "colab_type": "code",
        "outputId": "a2383b30-c15b-4ecf-a8f2-685574111f72",
        "colab": {
          "base_uri": "https://localhost:8080/",
          "height": 85
        }
      },
      "source": [
        "exercise_data.dtypes"
      ],
      "execution_count": 119,
      "outputs": [
        {
          "output_type": "execute_result",
          "data": {
            "text/plain": [
              "age              int64\n",
              "weight           int64\n",
              "exercise_time    int64\n",
              "dtype: object"
            ]
          },
          "metadata": {
            "tags": []
          },
          "execution_count": 119
        }
      ]
    },
    {
      "cell_type": "markdown",
      "metadata": {
        "id": "pb1hkzkozY4R",
        "colab_type": "text"
      },
      "source": [
        "## High level associations"
      ]
    },
    {
      "cell_type": "code",
      "metadata": {
        "id": "ucTpgtF9Ytmk",
        "colab_type": "code",
        "outputId": "5100c012-7789-4c59-cd2a-5991fb269e9b",
        "colab": {
          "base_uri": "https://localhost:8080/",
          "height": 142
        }
      },
      "source": [
        "#correlation matrix shows the expected directions of effect, nothing anomalous\n",
        "exercise_data.corr()"
      ],
      "execution_count": 120,
      "outputs": [
        {
          "output_type": "execute_result",
          "data": {
            "text/html": [
              "<div>\n",
              "<style scoped>\n",
              "    .dataframe tbody tr th:only-of-type {\n",
              "        vertical-align: middle;\n",
              "    }\n",
              "\n",
              "    .dataframe tbody tr th {\n",
              "        vertical-align: top;\n",
              "    }\n",
              "\n",
              "    .dataframe thead th {\n",
              "        text-align: right;\n",
              "    }\n",
              "</style>\n",
              "<table border=\"1\" class=\"dataframe\">\n",
              "  <thead>\n",
              "    <tr style=\"text-align: right;\">\n",
              "      <th></th>\n",
              "      <th>age</th>\n",
              "      <th>weight</th>\n",
              "      <th>exercise_time</th>\n",
              "    </tr>\n",
              "  </thead>\n",
              "  <tbody>\n",
              "    <tr>\n",
              "      <th>age</th>\n",
              "      <td>1.000000</td>\n",
              "      <td>0.144168</td>\n",
              "      <td>-0.273818</td>\n",
              "    </tr>\n",
              "    <tr>\n",
              "      <th>weight</th>\n",
              "      <td>0.144168</td>\n",
              "      <td>1.000000</td>\n",
              "      <td>-0.478021</td>\n",
              "    </tr>\n",
              "    <tr>\n",
              "      <th>exercise_time</th>\n",
              "      <td>-0.273818</td>\n",
              "      <td>-0.478021</td>\n",
              "      <td>1.000000</td>\n",
              "    </tr>\n",
              "  </tbody>\n",
              "</table>\n",
              "</div>"
            ],
            "text/plain": [
              "                    age    weight  exercise_time\n",
              "age            1.000000  0.144168      -0.273818\n",
              "weight         0.144168  1.000000      -0.478021\n",
              "exercise_time -0.273818 -0.478021       1.000000"
            ]
          },
          "metadata": {
            "tags": []
          },
          "execution_count": 120
        }
      ]
    },
    {
      "cell_type": "code",
      "metadata": {
        "id": "Exd1J6aszka_",
        "colab_type": "code",
        "outputId": "b80dd113-bab6-4412-fa1f-881852c8d36e",
        "colab": {
          "base_uri": "https://localhost:8080/",
          "height": 269
        }
      },
      "source": [
        "import matplotlib.pyplot as plt\n",
        "\n",
        "plt.scatter(exercise_data['age'], exercise_data['weight']);"
      ],
      "execution_count": 121,
      "outputs": [
        {
          "output_type": "display_data",
          "data": {
            "image/png": "[encoded data removed]",
            "text/plain": [
              "<Figure size 432x288 with 1 Axes>"
            ]
          },
          "metadata": {
            "tags": []
          }
        }
      ]
    },
    {
      "cell_type": "code",
      "metadata": {
        "id": "htqVbQWDzrsj",
        "colab_type": "code",
        "outputId": "9a939b22-d589-4eaf-9de6-5e86b37639a3",
        "colab": {
          "base_uri": "https://localhost:8080/",
          "height": 269
        }
      },
      "source": [
        "plt.scatter(exercise_data['age'], exercise_data['exercise_time']);"
      ],
      "execution_count": 122,
      "outputs": [
        {
          "output_type": "display_data",
          "data": {
            "image/png": "[encoded data removed]",
            "text/plain": [
              "<Figure size 432x288 with 1 Axes>"
            ]
          },
          "metadata": {
            "tags": []
          }
        }
      ]
    },
    {
      "cell_type": "code",
      "metadata": {
        "id": "BCAzWEt7z0Sv",
        "colab_type": "code",
        "outputId": "06f27aca-4eb1-412d-b4e1-473b22b178b5",
        "colab": {
          "base_uri": "https://localhost:8080/",
          "height": 269
        }
      },
      "source": [
        "plt.scatter(exercise_data['weight'], exercise_data['exercise_time']);"
      ],
      "execution_count": 123,
      "outputs": [
        {
          "output_type": "display_data",
          "data": {
            "image/png": "[encoded data removed]",
            "text/plain": [
              "<Figure size 432x288 with 1 Axes>"
            ]
          },
          "metadata": {
            "tags": []
          }
        }
      ]
    },
    {
      "cell_type": "code",
      "metadata": {
        "id": "_bW6xebLz1yJ",
        "colab_type": "code",
        "outputId": "484f21a6-de3f-4267-ff13-85523ad8ffc4",
        "colab": {
          "base_uri": "https://localhost:8080/",
          "height": 269
        }
      },
      "source": [
        "plt.scatter(exercise_data['exercise_time'], exercise_data['weight']);"
      ],
      "execution_count": 124,
      "outputs": [
        {
          "output_type": "display_data",
          "data": {
            "image/png": "[encoded data removed]",
            "text/plain": [
              "<Figure size 432x288 with 1 Axes>"
            ]
          },
          "metadata": {
            "tags": []
          }
        }
      ]
    },
    {
      "cell_type": "code",
      "metadata": {
        "id": "UqGHQ7k-Y_PH",
        "colab_type": "code",
        "outputId": "e85e4ff7-40a6-46ff-be16-5b9c0989c4a5",
        "colab": {
          "base_uri": "https://localhost:8080/",
          "height": 204
        }
      },
      "source": [
        "#crosstabulation to see what's going on\n",
        "time_bins = pd.cut(exercise_data['exercise_time'],4)\n",
        "weight_bins = pd.cut(exercise_data['weight'],4)\n",
        "pd.crosstab(weight_bins, time_bins, normalize='columns')\n",
        "#normalizing by columns means that each row = 100%"
      ],
      "execution_count": 125,
      "outputs": [
        {
          "output_type": "execute_result",
          "data": {
            "text/html": [
              "<div>\n",
              "<style scoped>\n",
              "    .dataframe tbody tr th:only-of-type {\n",
              "        vertical-align: middle;\n",
              "    }\n",
              "\n",
              "    .dataframe tbody tr th {\n",
              "        vertical-align: top;\n",
              "    }\n",
              "\n",
              "    .dataframe thead th {\n",
              "        text-align: right;\n",
              "    }\n",
              "</style>\n",
              "<table border=\"1\" class=\"dataframe\">\n",
              "  <thead>\n",
              "    <tr style=\"text-align: right;\">\n",
              "      <th>exercise_time</th>\n",
              "      <th>(-0.3, 75.0]</th>\n",
              "      <th>(75.0, 150.0]</th>\n",
              "      <th>(150.0, 225.0]</th>\n",
              "      <th>(225.0, 300.0]</th>\n",
              "    </tr>\n",
              "    <tr>\n",
              "      <th>weight</th>\n",
              "      <th></th>\n",
              "      <th></th>\n",
              "      <th></th>\n",
              "      <th></th>\n",
              "    </tr>\n",
              "  </thead>\n",
              "  <tbody>\n",
              "    <tr>\n",
              "      <th>(99.854, 136.5]</th>\n",
              "      <td>0.230986</td>\n",
              "      <td>0.290698</td>\n",
              "      <td>0.459770</td>\n",
              "      <td>0.633333</td>\n",
              "    </tr>\n",
              "    <tr>\n",
              "      <th>(136.5, 173.0]</th>\n",
              "      <td>0.250704</td>\n",
              "      <td>0.337209</td>\n",
              "      <td>0.398467</td>\n",
              "      <td>0.366667</td>\n",
              "    </tr>\n",
              "    <tr>\n",
              "      <th>(173.0, 209.5]</th>\n",
              "      <td>0.301408</td>\n",
              "      <td>0.316860</td>\n",
              "      <td>0.141762</td>\n",
              "      <td>0.000000</td>\n",
              "    </tr>\n",
              "    <tr>\n",
              "      <th>(209.5, 246.0]</th>\n",
              "      <td>0.216901</td>\n",
              "      <td>0.055233</td>\n",
              "      <td>0.000000</td>\n",
              "      <td>0.000000</td>\n",
              "    </tr>\n",
              "  </tbody>\n",
              "</table>\n",
              "</div>"
            ],
            "text/plain": [
              "exercise_time    (-0.3, 75.0]       ...        (225.0, 300.0]\n",
              "weight                              ...                      \n",
              "(99.854, 136.5]      0.230986       ...              0.633333\n",
              "(136.5, 173.0]       0.250704       ...              0.366667\n",
              "(173.0, 209.5]       0.301408       ...              0.000000\n",
              "(209.5, 246.0]       0.216901       ...              0.000000\n",
              "\n",
              "[4 rows x 4 columns]"
            ]
          },
          "metadata": {
            "tags": []
          },
          "execution_count": 125
        }
      ]
    },
    {
      "cell_type": "code",
      "metadata": {
        "id": "eZvaFKp-3jMP",
        "colab_type": "code",
        "outputId": "27b596b9-0c5b-475c-de6d-ff768da37edf",
        "colab": {
          "base_uri": "https://localhost:8080/",
          "height": 204
        }
      },
      "source": [
        "pt = pd.pivot_table(exercise_data, values='exercise_time', index=weight_bins)\n",
        "pt"
      ],
      "execution_count": 126,
      "outputs": [
        {
          "output_type": "execute_result",
          "data": {
            "text/html": [
              "<div>\n",
              "<style scoped>\n",
              "    .dataframe tbody tr th:only-of-type {\n",
              "        vertical-align: middle;\n",
              "    }\n",
              "\n",
              "    .dataframe tbody tr th {\n",
              "        vertical-align: top;\n",
              "    }\n",
              "\n",
              "    .dataframe thead th {\n",
              "        text-align: right;\n",
              "    }\n",
              "</style>\n",
              "<table border=\"1\" class=\"dataframe\">\n",
              "  <thead>\n",
              "    <tr style=\"text-align: right;\">\n",
              "      <th></th>\n",
              "      <th>exercise_time</th>\n",
              "    </tr>\n",
              "    <tr>\n",
              "      <th>weight</th>\n",
              "      <th></th>\n",
              "    </tr>\n",
              "  </thead>\n",
              "  <tbody>\n",
              "    <tr>\n",
              "      <th>(99.854, 136.5]</th>\n",
              "      <td>171.931718</td>\n",
              "    </tr>\n",
              "    <tr>\n",
              "      <th>(136.5, 173.0]</th>\n",
              "      <td>144.206549</td>\n",
              "    </tr>\n",
              "    <tr>\n",
              "      <th>(173.0, 209.5]</th>\n",
              "      <td>88.296443</td>\n",
              "    </tr>\n",
              "    <tr>\n",
              "      <th>(209.5, 246.0]</th>\n",
              "      <td>44.239583</td>\n",
              "    </tr>\n",
              "  </tbody>\n",
              "</table>\n",
              "</div>"
            ],
            "text/plain": [
              "                 exercise_time\n",
              "weight                        \n",
              "(99.854, 136.5]     171.931718\n",
              "(136.5, 173.0]      144.206549\n",
              "(173.0, 209.5]       88.296443\n",
              "(209.5, 246.0]       44.239583"
            ]
          },
          "metadata": {
            "tags": []
          },
          "execution_count": 126
        }
      ]
    },
    {
      "cell_type": "code",
      "metadata": {
        "id": "yuT7F57n3oxs",
        "colab_type": "code",
        "outputId": "a9e30f87-f7a2-42cc-965b-b91429929fad",
        "colab": {
          "base_uri": "https://localhost:8080/",
          "height": 204
        }
      },
      "source": [
        "pt = pd.pivot_table(exercise_data, values='weight', index=time_bins)\n",
        "pt"
      ],
      "execution_count": 127,
      "outputs": [
        {
          "output_type": "execute_result",
          "data": {
            "text/html": [
              "<div>\n",
              "<style scoped>\n",
              "    .dataframe tbody tr th:only-of-type {\n",
              "        vertical-align: middle;\n",
              "    }\n",
              "\n",
              "    .dataframe tbody tr th {\n",
              "        vertical-align: top;\n",
              "    }\n",
              "\n",
              "    .dataframe thead th {\n",
              "        text-align: right;\n",
              "    }\n",
              "</style>\n",
              "<table border=\"1\" class=\"dataframe\">\n",
              "  <thead>\n",
              "    <tr style=\"text-align: right;\">\n",
              "      <th></th>\n",
              "      <th>weight</th>\n",
              "    </tr>\n",
              "    <tr>\n",
              "      <th>exercise_time</th>\n",
              "      <th></th>\n",
              "    </tr>\n",
              "  </thead>\n",
              "  <tbody>\n",
              "    <tr>\n",
              "      <th>(-0.3, 75.0]</th>\n",
              "      <td>172.723944</td>\n",
              "    </tr>\n",
              "    <tr>\n",
              "      <th>(75.0, 150.0]</th>\n",
              "      <td>159.287791</td>\n",
              "    </tr>\n",
              "    <tr>\n",
              "      <th>(150.0, 225.0]</th>\n",
              "      <td>141.095785</td>\n",
              "    </tr>\n",
              "    <tr>\n",
              "      <th>(225.0, 300.0]</th>\n",
              "      <td>130.462500</td>\n",
              "    </tr>\n",
              "  </tbody>\n",
              "</table>\n",
              "</div>"
            ],
            "text/plain": [
              "                    weight\n",
              "exercise_time             \n",
              "(-0.3, 75.0]    172.723944\n",
              "(75.0, 150.0]   159.287791\n",
              "(150.0, 225.0]  141.095785\n",
              "(225.0, 300.0]  130.462500"
            ]
          },
          "metadata": {
            "tags": []
          },
          "execution_count": 127
        }
      ]
    },
    {
      "cell_type": "markdown",
      "metadata": {
        "id": "jIYmPztJ0GxK",
        "colab_type": "text"
      },
      "source": [
        "## Transform 'age' variable"
      ]
    },
    {
      "cell_type": "markdown",
      "metadata": {
        "id": "kdIH82YK0lxh",
        "colab_type": "text"
      },
      "source": [
        "I split age into two large groups because generally we know that younger individuals generally weigh less and exercise more. We know this from the correlation matrix. This cross tab confirms that, within comparable age groups, individuals who weigh less are associated with higher exercise times. We still don't know the direction of effect. "
      ]
    },
    {
      "cell_type": "code",
      "metadata": {
        "id": "yzHM8eenf8Le",
        "colab_type": "code",
        "outputId": "a2654081-745a-4bd8-c875-746233802e4d",
        "colab": {
          "base_uri": "https://localhost:8080/",
          "height": 269
        }
      },
      "source": [
        "exercise_data['age'].plot.hist(600);\n",
        "#age data is very uniform\n",
        "\n",
        "#I want to transform age data into something categorical: young, middle, old.  \n",
        "\n",
        "exercise_data.quantile(.5)\n",
        "#0.5 quartile = 48 years\n",
        "import numpy as np\n",
        "exercise_data['age_cohort'] = np.where(exercise_data['age']>=48.0,'Old','Young')\n"
      ],
      "execution_count": 128,
      "outputs": [
        {
          "output_type": "display_data",
          "data": {
            "image/png": "[encoded data removed]",
            "text/plain": [
              "<Figure size 432x288 with 1 Axes>"
            ]
          },
          "metadata": {
            "tags": []
          }
        }
      ]
    },
    {
      "cell_type": "code",
      "metadata": {
        "id": "zQiuBal-kjTz",
        "colab_type": "code",
        "outputId": "91f46741-aeef-494e-882a-859d900f5511",
        "colab": {
          "base_uri": "https://localhost:8080/",
          "height": 204
        }
      },
      "source": [
        "exercise_data.head()"
      ],
      "execution_count": 129,
      "outputs": [
        {
          "output_type": "execute_result",
          "data": {
            "text/html": [
              "<div>\n",
              "<style scoped>\n",
              "    .dataframe tbody tr th:only-of-type {\n",
              "        vertical-align: middle;\n",
              "    }\n",
              "\n",
              "    .dataframe tbody tr th {\n",
              "        vertical-align: top;\n",
              "    }\n",
              "\n",
              "    .dataframe thead th {\n",
              "        text-align: right;\n",
              "    }\n",
              "</style>\n",
              "<table border=\"1\" class=\"dataframe\">\n",
              "  <thead>\n",
              "    <tr style=\"text-align: right;\">\n",
              "      <th></th>\n",
              "      <th>age</th>\n",
              "      <th>weight</th>\n",
              "      <th>exercise_time</th>\n",
              "      <th>age_cohort</th>\n",
              "    </tr>\n",
              "  </thead>\n",
              "  <tbody>\n",
              "    <tr>\n",
              "      <th>0</th>\n",
              "      <td>44</td>\n",
              "      <td>118</td>\n",
              "      <td>192</td>\n",
              "      <td>Young</td>\n",
              "    </tr>\n",
              "    <tr>\n",
              "      <th>1</th>\n",
              "      <td>41</td>\n",
              "      <td>161</td>\n",
              "      <td>35</td>\n",
              "      <td>Young</td>\n",
              "    </tr>\n",
              "    <tr>\n",
              "      <th>2</th>\n",
              "      <td>46</td>\n",
              "      <td>128</td>\n",
              "      <td>220</td>\n",
              "      <td>Young</td>\n",
              "    </tr>\n",
              "    <tr>\n",
              "      <th>3</th>\n",
              "      <td>39</td>\n",
              "      <td>216</td>\n",
              "      <td>57</td>\n",
              "      <td>Young</td>\n",
              "    </tr>\n",
              "    <tr>\n",
              "      <th>4</th>\n",
              "      <td>28</td>\n",
              "      <td>116</td>\n",
              "      <td>182</td>\n",
              "      <td>Young</td>\n",
              "    </tr>\n",
              "  </tbody>\n",
              "</table>\n",
              "</div>"
            ],
            "text/plain": [
              "   age  weight  exercise_time age_cohort\n",
              "0   44     118            192      Young\n",
              "1   41     161             35      Young\n",
              "2   46     128            220      Young\n",
              "3   39     216             57      Young\n",
              "4   28     116            182      Young"
            ]
          },
          "metadata": {
            "tags": []
          },
          "execution_count": 129
        }
      ]
    },
    {
      "cell_type": "markdown",
      "metadata": {
        "id": "VzFfpAMX0OpU",
        "colab_type": "text"
      },
      "source": [
        "## Potential confounding by age"
      ]
    },
    {
      "cell_type": "code",
      "metadata": {
        "id": "7bhxuhfYcKma",
        "colab_type": "code",
        "outputId": "1f6f01d2-5b64-4ca2-96f2-4692987c60cd",
        "colab": {
          "base_uri": "https://localhost:8080/",
          "height": 142
        }
      },
      "source": [
        "age_bins = pd.cut(exercise_data['age'], 2)\n",
        "\n",
        "pd.crosstab(age_bins, weight_bins, normalize='columns')"
      ],
      "execution_count": 130,
      "outputs": [
        {
          "output_type": "execute_result",
          "data": {
            "text/html": [
              "<div>\n",
              "<style scoped>\n",
              "    .dataframe tbody tr th:only-of-type {\n",
              "        vertical-align: middle;\n",
              "    }\n",
              "\n",
              "    .dataframe tbody tr th {\n",
              "        vertical-align: top;\n",
              "    }\n",
              "\n",
              "    .dataframe thead th {\n",
              "        text-align: right;\n",
              "    }\n",
              "</style>\n",
              "<table border=\"1\" class=\"dataframe\">\n",
              "  <thead>\n",
              "    <tr style=\"text-align: right;\">\n",
              "      <th>weight</th>\n",
              "      <th>(99.854, 136.5]</th>\n",
              "      <th>(136.5, 173.0]</th>\n",
              "      <th>(173.0, 209.5]</th>\n",
              "      <th>(209.5, 246.0]</th>\n",
              "    </tr>\n",
              "    <tr>\n",
              "      <th>age</th>\n",
              "      <th></th>\n",
              "      <th></th>\n",
              "      <th></th>\n",
              "      <th></th>\n",
              "    </tr>\n",
              "  </thead>\n",
              "  <tbody>\n",
              "    <tr>\n",
              "      <th>(17.938, 49.0]</th>\n",
              "      <td>0.572687</td>\n",
              "      <td>0.544081</td>\n",
              "      <td>0.442688</td>\n",
              "      <td>0.395833</td>\n",
              "    </tr>\n",
              "    <tr>\n",
              "      <th>(49.0, 80.0]</th>\n",
              "      <td>0.427313</td>\n",
              "      <td>0.455919</td>\n",
              "      <td>0.557312</td>\n",
              "      <td>0.604167</td>\n",
              "    </tr>\n",
              "  </tbody>\n",
              "</table>\n",
              "</div>"
            ],
            "text/plain": [
              "weight          (99.854, 136.5]       ...        (209.5, 246.0]\n",
              "age                                   ...                      \n",
              "(17.938, 49.0]         0.572687       ...              0.395833\n",
              "(49.0, 80.0]           0.427313       ...              0.604167\n",
              "\n",
              "[2 rows x 4 columns]"
            ]
          },
          "metadata": {
            "tags": []
          },
          "execution_count": 130
        }
      ]
    },
    {
      "cell_type": "code",
      "metadata": {
        "id": "YWsyh4yhbD2K",
        "colab_type": "code",
        "outputId": "ab221c9d-f50b-4d64-92fb-430aa0b529dc",
        "colab": {
          "base_uri": "https://localhost:8080/",
          "height": 142
        }
      },
      "source": [
        "pd.crosstab(age_bins, time_bins, normalize='columns')"
      ],
      "execution_count": 131,
      "outputs": [
        {
          "output_type": "execute_result",
          "data": {
            "text/html": [
              "<div>\n",
              "<style scoped>\n",
              "    .dataframe tbody tr th:only-of-type {\n",
              "        vertical-align: middle;\n",
              "    }\n",
              "\n",
              "    .dataframe tbody tr th {\n",
              "        vertical-align: top;\n",
              "    }\n",
              "\n",
              "    .dataframe thead th {\n",
              "        text-align: right;\n",
              "    }\n",
              "</style>\n",
              "<table border=\"1\" class=\"dataframe\">\n",
              "  <thead>\n",
              "    <tr style=\"text-align: right;\">\n",
              "      <th>exercise_time</th>\n",
              "      <th>(-0.3, 75.0]</th>\n",
              "      <th>(75.0, 150.0]</th>\n",
              "      <th>(150.0, 225.0]</th>\n",
              "      <th>(225.0, 300.0]</th>\n",
              "    </tr>\n",
              "    <tr>\n",
              "      <th>age</th>\n",
              "      <th></th>\n",
              "      <th></th>\n",
              "      <th></th>\n",
              "      <th></th>\n",
              "    </tr>\n",
              "  </thead>\n",
              "  <tbody>\n",
              "    <tr>\n",
              "      <th>(17.938, 49.0]</th>\n",
              "      <td>0.416901</td>\n",
              "      <td>0.436047</td>\n",
              "      <td>0.613027</td>\n",
              "      <td>0.7</td>\n",
              "    </tr>\n",
              "    <tr>\n",
              "      <th>(49.0, 80.0]</th>\n",
              "      <td>0.583099</td>\n",
              "      <td>0.563953</td>\n",
              "      <td>0.386973</td>\n",
              "      <td>0.3</td>\n",
              "    </tr>\n",
              "  </tbody>\n",
              "</table>\n",
              "</div>"
            ],
            "text/plain": [
              "exercise_time   (-0.3, 75.0]       ...        (225.0, 300.0]\n",
              "age                                ...                      \n",
              "(17.938, 49.0]      0.416901       ...                   0.7\n",
              "(49.0, 80.0]        0.583099       ...                   0.3\n",
              "\n",
              "[2 rows x 4 columns]"
            ]
          },
          "metadata": {
            "tags": []
          },
          "execution_count": 131
        }
      ]
    },
    {
      "cell_type": "markdown",
      "metadata": {
        "id": "KFR2XlHO02B1",
        "colab_type": "text"
      },
      "source": [
        "Let's look at all three at once, but using 'age_cohort'. Again, the direction of effect isn't clear so we'll run it both ways."
      ]
    },
    {
      "cell_type": "code",
      "metadata": {
        "id": "94o592iEdo9p",
        "colab_type": "code",
        "outputId": "e080918c-47c5-4832-e1fa-98c02c45d3cb",
        "colab": {
          "base_uri": "https://localhost:8080/",
          "height": 190
        }
      },
      "source": [
        "ct = pd.crosstab(exercise_data['age_cohort'], [weight_bins, time_bins], normalize=\"index\")\n",
        "ct"
      ],
      "execution_count": 132,
      "outputs": [
        {
          "output_type": "execute_result",
          "data": {
            "text/html": [
              "<div>\n",
              "<style scoped>\n",
              "    .dataframe tbody tr th:only-of-type {\n",
              "        vertical-align: middle;\n",
              "    }\n",
              "\n",
              "    .dataframe tbody tr th {\n",
              "        vertical-align: top;\n",
              "    }\n",
              "\n",
              "    .dataframe thead tr th {\n",
              "        text-align: left;\n",
              "    }\n",
              "\n",
              "    .dataframe thead tr:last-of-type th {\n",
              "        text-align: right;\n",
              "    }\n",
              "</style>\n",
              "<table border=\"1\" class=\"dataframe\">\n",
              "  <thead>\n",
              "    <tr>\n",
              "      <th>weight</th>\n",
              "      <th colspan=\"4\" halign=\"left\">(99.854, 136.5]</th>\n",
              "      <th colspan=\"4\" halign=\"left\">(136.5, 173.0]</th>\n",
              "      <th colspan=\"3\" halign=\"left\">(173.0, 209.5]</th>\n",
              "      <th colspan=\"2\" halign=\"left\">(209.5, 246.0]</th>\n",
              "    </tr>\n",
              "    <tr>\n",
              "      <th>exercise_time</th>\n",
              "      <th>(-0.3, 75.0]</th>\n",
              "      <th>(75.0, 150.0]</th>\n",
              "      <th>(150.0, 225.0]</th>\n",
              "      <th>(225.0, 300.0]</th>\n",
              "      <th>(-0.3, 75.0]</th>\n",
              "      <th>(75.0, 150.0]</th>\n",
              "      <th>(150.0, 225.0]</th>\n",
              "      <th>(225.0, 300.0]</th>\n",
              "      <th>(-0.3, 75.0]</th>\n",
              "      <th>(75.0, 150.0]</th>\n",
              "      <th>(150.0, 225.0]</th>\n",
              "      <th>(-0.3, 75.0]</th>\n",
              "      <th>(75.0, 150.0]</th>\n",
              "    </tr>\n",
              "    <tr>\n",
              "      <th>age_cohort</th>\n",
              "      <th></th>\n",
              "      <th></th>\n",
              "      <th></th>\n",
              "      <th></th>\n",
              "      <th></th>\n",
              "      <th></th>\n",
              "      <th></th>\n",
              "      <th></th>\n",
              "      <th></th>\n",
              "      <th></th>\n",
              "      <th></th>\n",
              "      <th></th>\n",
              "      <th></th>\n",
              "    </tr>\n",
              "  </thead>\n",
              "  <tbody>\n",
              "    <tr>\n",
              "      <th>Old</th>\n",
              "      <td>0.088235</td>\n",
              "      <td>0.081699</td>\n",
              "      <td>0.083333</td>\n",
              "      <td>0.086601</td>\n",
              "      <td>0.086601</td>\n",
              "      <td>0.114379</td>\n",
              "      <td>0.065359</td>\n",
              "      <td>0.057190</td>\n",
              "      <td>0.102941</td>\n",
              "      <td>0.104575</td>\n",
              "      <td>0.031046</td>\n",
              "      <td>0.075163</td>\n",
              "      <td>0.022876</td>\n",
              "    </tr>\n",
              "    <tr>\n",
              "      <th>Young</th>\n",
              "      <td>0.047619</td>\n",
              "      <td>0.085034</td>\n",
              "      <td>0.117347</td>\n",
              "      <td>0.168367</td>\n",
              "      <td>0.061224</td>\n",
              "      <td>0.078231</td>\n",
              "      <td>0.108844</td>\n",
              "      <td>0.090136</td>\n",
              "      <td>0.074830</td>\n",
              "      <td>0.076531</td>\n",
              "      <td>0.030612</td>\n",
              "      <td>0.052721</td>\n",
              "      <td>0.008503</td>\n",
              "    </tr>\n",
              "  </tbody>\n",
              "</table>\n",
              "</div>"
            ],
            "text/plain": [
              "weight        (99.854, 136.5]      ...       (209.5, 246.0]\n",
              "exercise_time    (-0.3, 75.0]      ...        (75.0, 150.0]\n",
              "age_cohort                         ...                     \n",
              "Old                  0.088235      ...             0.022876\n",
              "Young                0.047619      ...             0.008503\n",
              "\n",
              "[2 rows x 13 columns]"
            ]
          },
          "metadata": {
            "tags": []
          },
          "execution_count": 132
        }
      ]
    },
    {
      "cell_type": "code",
      "metadata": {
        "id": "7IMVwRCaepxt",
        "colab_type": "code",
        "outputId": "ce7e2f00-482f-47b3-c2ef-dbce3bad136a",
        "colab": {
          "base_uri": "https://localhost:8080/",
          "height": 305
        }
      },
      "source": [
        "ct.plot(kind='bar');"
      ],
      "execution_count": 133,
      "outputs": [
        {
          "output_type": "display_data",
          "data": {
            "image/png": "[encoded data removed]",
            "text/plain": [
              "<Figure size 432x288 with 1 Axes>"
            ]
          },
          "metadata": {
            "tags": []
          }
        }
      ]
    },
    {
      "cell_type": "markdown",
      "metadata": {
        "id": "jH6xYwml14OI",
        "colab_type": "text"
      },
      "source": [
        "I think we can finally get some idea of what is happening here. The two bar plots show that the relationship between weight and exercise is slightly different between the age cohorots. \n",
        "\n",
        "In the first bar plot "
      ]
    },
    {
      "cell_type": "code",
      "metadata": {
        "id": "SPF5_opByuaE",
        "colab_type": "code",
        "outputId": "bc8c2da4-c9df-4ed6-d63b-ac62015f43d7",
        "colab": {
          "base_uri": "https://localhost:8080/",
          "height": 190
        }
      },
      "source": [
        "ct = pd.crosstab(exercise_data['age_cohort'], [time_bins, weight_bins], normalize=\"index\")\n",
        "ct"
      ],
      "execution_count": 134,
      "outputs": [
        {
          "output_type": "execute_result",
          "data": {
            "text/html": [
              "<div>\n",
              "<style scoped>\n",
              "    .dataframe tbody tr th:only-of-type {\n",
              "        vertical-align: middle;\n",
              "    }\n",
              "\n",
              "    .dataframe tbody tr th {\n",
              "        vertical-align: top;\n",
              "    }\n",
              "\n",
              "    .dataframe thead tr th {\n",
              "        text-align: left;\n",
              "    }\n",
              "\n",
              "    .dataframe thead tr:last-of-type th {\n",
              "        text-align: right;\n",
              "    }\n",
              "</style>\n",
              "<table border=\"1\" class=\"dataframe\">\n",
              "  <thead>\n",
              "    <tr>\n",
              "      <th>exercise_time</th>\n",
              "      <th colspan=\"4\" halign=\"left\">(-0.3, 75.0]</th>\n",
              "      <th colspan=\"4\" halign=\"left\">(75.0, 150.0]</th>\n",
              "      <th colspan=\"3\" halign=\"left\">(150.0, 225.0]</th>\n",
              "      <th colspan=\"2\" halign=\"left\">(225.0, 300.0]</th>\n",
              "    </tr>\n",
              "    <tr>\n",
              "      <th>weight</th>\n",
              "      <th>(99.854, 136.5]</th>\n",
              "      <th>(136.5, 173.0]</th>\n",
              "      <th>(173.0, 209.5]</th>\n",
              "      <th>(209.5, 246.0]</th>\n",
              "      <th>(99.854, 136.5]</th>\n",
              "      <th>(136.5, 173.0]</th>\n",
              "      <th>(173.0, 209.5]</th>\n",
              "      <th>(209.5, 246.0]</th>\n",
              "      <th>(99.854, 136.5]</th>\n",
              "      <th>(136.5, 173.0]</th>\n",
              "      <th>(173.0, 209.5]</th>\n",
              "      <th>(99.854, 136.5]</th>\n",
              "      <th>(136.5, 173.0]</th>\n",
              "    </tr>\n",
              "    <tr>\n",
              "      <th>age_cohort</th>\n",
              "      <th></th>\n",
              "      <th></th>\n",
              "      <th></th>\n",
              "      <th></th>\n",
              "      <th></th>\n",
              "      <th></th>\n",
              "      <th></th>\n",
              "      <th></th>\n",
              "      <th></th>\n",
              "      <th></th>\n",
              "      <th></th>\n",
              "      <th></th>\n",
              "      <th></th>\n",
              "    </tr>\n",
              "  </thead>\n",
              "  <tbody>\n",
              "    <tr>\n",
              "      <th>Old</th>\n",
              "      <td>0.088235</td>\n",
              "      <td>0.086601</td>\n",
              "      <td>0.102941</td>\n",
              "      <td>0.075163</td>\n",
              "      <td>0.081699</td>\n",
              "      <td>0.114379</td>\n",
              "      <td>0.104575</td>\n",
              "      <td>0.022876</td>\n",
              "      <td>0.083333</td>\n",
              "      <td>0.065359</td>\n",
              "      <td>0.031046</td>\n",
              "      <td>0.086601</td>\n",
              "      <td>0.057190</td>\n",
              "    </tr>\n",
              "    <tr>\n",
              "      <th>Young</th>\n",
              "      <td>0.047619</td>\n",
              "      <td>0.061224</td>\n",
              "      <td>0.074830</td>\n",
              "      <td>0.052721</td>\n",
              "      <td>0.085034</td>\n",
              "      <td>0.078231</td>\n",
              "      <td>0.076531</td>\n",
              "      <td>0.008503</td>\n",
              "      <td>0.117347</td>\n",
              "      <td>0.108844</td>\n",
              "      <td>0.030612</td>\n",
              "      <td>0.168367</td>\n",
              "      <td>0.090136</td>\n",
              "    </tr>\n",
              "  </tbody>\n",
              "</table>\n",
              "</div>"
            ],
            "text/plain": [
              "exercise_time    (-0.3, 75.0]      ...       (225.0, 300.0]\n",
              "weight        (99.854, 136.5]      ...       (136.5, 173.0]\n",
              "age_cohort                         ...                     \n",
              "Old                  0.088235      ...             0.057190\n",
              "Young                0.047619      ...             0.090136\n",
              "\n",
              "[2 rows x 13 columns]"
            ]
          },
          "metadata": {
            "tags": []
          },
          "execution_count": 134
        }
      ]
    },
    {
      "cell_type": "code",
      "metadata": {
        "id": "DIyvPwtp9oef",
        "colab_type": "code",
        "outputId": "7d5b99bc-e050-4fa8-8621-cd3bec835533",
        "colab": {
          "base_uri": "https://localhost:8080/",
          "height": 235
        }
      },
      "source": [
        "ct = pd.crosstab(time_bins, [exercise_data['age_cohort'],weight_bins], normalize=\"index\")\n",
        "ct"
      ],
      "execution_count": 135,
      "outputs": [
        {
          "output_type": "execute_result",
          "data": {
            "text/html": [
              "<div>\n",
              "<style scoped>\n",
              "    .dataframe tbody tr th:only-of-type {\n",
              "        vertical-align: middle;\n",
              "    }\n",
              "\n",
              "    .dataframe tbody tr th {\n",
              "        vertical-align: top;\n",
              "    }\n",
              "\n",
              "    .dataframe thead tr th {\n",
              "        text-align: left;\n",
              "    }\n",
              "\n",
              "    .dataframe thead tr:last-of-type th {\n",
              "        text-align: right;\n",
              "    }\n",
              "</style>\n",
              "<table border=\"1\" class=\"dataframe\">\n",
              "  <thead>\n",
              "    <tr>\n",
              "      <th>age_cohort</th>\n",
              "      <th colspan=\"4\" halign=\"left\">Old</th>\n",
              "      <th colspan=\"4\" halign=\"left\">Young</th>\n",
              "    </tr>\n",
              "    <tr>\n",
              "      <th>weight</th>\n",
              "      <th>(99.854, 136.5]</th>\n",
              "      <th>(136.5, 173.0]</th>\n",
              "      <th>(173.0, 209.5]</th>\n",
              "      <th>(209.5, 246.0]</th>\n",
              "      <th>(99.854, 136.5]</th>\n",
              "      <th>(136.5, 173.0]</th>\n",
              "      <th>(173.0, 209.5]</th>\n",
              "      <th>(209.5, 246.0]</th>\n",
              "    </tr>\n",
              "    <tr>\n",
              "      <th>exercise_time</th>\n",
              "      <th></th>\n",
              "      <th></th>\n",
              "      <th></th>\n",
              "      <th></th>\n",
              "      <th></th>\n",
              "      <th></th>\n",
              "      <th></th>\n",
              "      <th></th>\n",
              "    </tr>\n",
              "  </thead>\n",
              "  <tbody>\n",
              "    <tr>\n",
              "      <th>(-0.3, 75.0]</th>\n",
              "      <td>0.152113</td>\n",
              "      <td>0.149296</td>\n",
              "      <td>0.177465</td>\n",
              "      <td>0.129577</td>\n",
              "      <td>0.078873</td>\n",
              "      <td>0.101408</td>\n",
              "      <td>0.123944</td>\n",
              "      <td>0.087324</td>\n",
              "    </tr>\n",
              "    <tr>\n",
              "      <th>(75.0, 150.0]</th>\n",
              "      <td>0.145349</td>\n",
              "      <td>0.203488</td>\n",
              "      <td>0.186047</td>\n",
              "      <td>0.040698</td>\n",
              "      <td>0.145349</td>\n",
              "      <td>0.133721</td>\n",
              "      <td>0.130814</td>\n",
              "      <td>0.014535</td>\n",
              "    </tr>\n",
              "    <tr>\n",
              "      <th>(150.0, 225.0]</th>\n",
              "      <td>0.195402</td>\n",
              "      <td>0.153257</td>\n",
              "      <td>0.072797</td>\n",
              "      <td>0.000000</td>\n",
              "      <td>0.264368</td>\n",
              "      <td>0.245211</td>\n",
              "      <td>0.068966</td>\n",
              "      <td>0.000000</td>\n",
              "    </tr>\n",
              "    <tr>\n",
              "      <th>(225.0, 300.0]</th>\n",
              "      <td>0.220833</td>\n",
              "      <td>0.145833</td>\n",
              "      <td>0.000000</td>\n",
              "      <td>0.000000</td>\n",
              "      <td>0.412500</td>\n",
              "      <td>0.220833</td>\n",
              "      <td>0.000000</td>\n",
              "      <td>0.000000</td>\n",
              "    </tr>\n",
              "  </tbody>\n",
              "</table>\n",
              "</div>"
            ],
            "text/plain": [
              "age_cohort                 Old      ...                Young\n",
              "weight         (99.854, 136.5]      ...       (209.5, 246.0]\n",
              "exercise_time                       ...                     \n",
              "(-0.3, 75.0]          0.152113      ...             0.087324\n",
              "(75.0, 150.0]         0.145349      ...             0.014535\n",
              "(150.0, 225.0]        0.195402      ...             0.000000\n",
              "(225.0, 300.0]        0.220833      ...             0.000000\n",
              "\n",
              "[4 rows x 8 columns]"
            ]
          },
          "metadata": {
            "tags": []
          },
          "execution_count": 135
        }
      ]
    },
    {
      "cell_type": "code",
      "metadata": {
        "id": "Pn_hiUqLy5ue",
        "colab_type": "code",
        "outputId": "e70c4f8b-f02a-4ffc-c65a-b9c2094c951d",
        "colab": {
          "base_uri": "https://localhost:8080/",
          "height": 345
        }
      },
      "source": [
        "ct.plot(kind='bar');"
      ],
      "execution_count": 136,
      "outputs": [
        {
          "output_type": "display_data",
          "data": {
            "image/png": "[encoded data removed]",
            "text/plain": [
              "<Figure size 432x288 with 1 Axes>"
            ]
          },
          "metadata": {
            "tags": []
          }
        }
      ]
    },
    {
      "cell_type": "markdown",
      "metadata": {
        "id": "ES1oAfGO0-Wr",
        "colab_type": "text"
      },
      "source": [
        "## Age cohort analysis"
      ]
    },
    {
      "cell_type": "markdown",
      "metadata": {
        "id": "ANuB5SbN4whQ",
        "colab_type": "text"
      },
      "source": [
        "I want to make two crosstab tables that only differ by age cohort."
      ]
    },
    {
      "cell_type": "code",
      "metadata": {
        "id": "_G9DVija86bN",
        "colab_type": "code",
        "outputId": "bef18a3a-d845-4e8e-c7a1-ec3d412eff80",
        "colab": {
          "base_uri": "https://localhost:8080/",
          "height": 204
        }
      },
      "source": [
        "exercise_data_old = exercise_data[exercise_data['age_cohort']=='Old']\n",
        "time_bins = pd.cut(exercise_data_old['exercise_time'],4)\n",
        "weight_bins = pd.cut(exercise_data_old['weight'],4)\n",
        "\n",
        "ct_old = pd.crosstab(weight_bins, time_bins, normalize='index')\n",
        "ct_old\n"
      ],
      "execution_count": 146,
      "outputs": [
        {
          "output_type": "execute_result",
          "data": {
            "text/html": [
              "<div>\n",
              "<style scoped>\n",
              "    .dataframe tbody tr th:only-of-type {\n",
              "        vertical-align: middle;\n",
              "    }\n",
              "\n",
              "    .dataframe tbody tr th {\n",
              "        vertical-align: top;\n",
              "    }\n",
              "\n",
              "    .dataframe thead th {\n",
              "        text-align: right;\n",
              "    }\n",
              "</style>\n",
              "<table border=\"1\" class=\"dataframe\">\n",
              "  <thead>\n",
              "    <tr style=\"text-align: right;\">\n",
              "      <th>exercise_time</th>\n",
              "      <th>(0.701, 75.75]</th>\n",
              "      <th>(75.75, 150.5]</th>\n",
              "      <th>(150.5, 225.25]</th>\n",
              "      <th>(225.25, 300.0]</th>\n",
              "    </tr>\n",
              "    <tr>\n",
              "      <th>weight</th>\n",
              "      <th></th>\n",
              "      <th></th>\n",
              "      <th></th>\n",
              "      <th></th>\n",
              "    </tr>\n",
              "  </thead>\n",
              "  <tbody>\n",
              "    <tr>\n",
              "      <th>(99.854, 136.5]</th>\n",
              "      <td>0.259615</td>\n",
              "      <td>0.240385</td>\n",
              "      <td>0.245192</td>\n",
              "      <td>0.254808</td>\n",
              "    </tr>\n",
              "    <tr>\n",
              "      <th>(136.5, 173.0]</th>\n",
              "      <td>0.267677</td>\n",
              "      <td>0.353535</td>\n",
              "      <td>0.202020</td>\n",
              "      <td>0.176768</td>\n",
              "    </tr>\n",
              "    <tr>\n",
              "      <th>(173.0, 209.5]</th>\n",
              "      <td>0.431507</td>\n",
              "      <td>0.438356</td>\n",
              "      <td>0.130137</td>\n",
              "      <td>0.000000</td>\n",
              "    </tr>\n",
              "    <tr>\n",
              "      <th>(209.5, 246.0]</th>\n",
              "      <td>0.766667</td>\n",
              "      <td>0.233333</td>\n",
              "      <td>0.000000</td>\n",
              "      <td>0.000000</td>\n",
              "    </tr>\n",
              "  </tbody>\n",
              "</table>\n",
              "</div>"
            ],
            "text/plain": [
              "exercise_time    (0.701, 75.75]       ...         (225.25, 300.0]\n",
              "weight                                ...                        \n",
              "(99.854, 136.5]        0.259615       ...                0.254808\n",
              "(136.5, 173.0]         0.267677       ...                0.176768\n",
              "(173.0, 209.5]         0.431507       ...                0.000000\n",
              "(209.5, 246.0]         0.766667       ...                0.000000\n",
              "\n",
              "[4 rows x 4 columns]"
            ]
          },
          "metadata": {
            "tags": []
          },
          "execution_count": 146
        }
      ]
    },
    {
      "cell_type": "code",
      "metadata": {
        "id": "G0yJgagtCFcH",
        "colab_type": "code",
        "colab": {
          "base_uri": "https://localhost:8080/",
          "height": 350
        },
        "outputId": "b0c3e9ce-a871-4a42-86bb-b56d7235a109"
      },
      "source": [
        "ct_old.plot(kind='bar');"
      ],
      "execution_count": 147,
      "outputs": [
        {
          "output_type": "display_data",
          "data": {
            "image/png": "[encoded data removed]",
            "text/plain": [
              "<Figure size 432x288 with 1 Axes>"
            ]
          },
          "metadata": {
            "tags": []
          }
        }
      ]
    },
    {
      "cell_type": "code",
      "metadata": {
        "id": "cxs7mR1-6gYt",
        "colab_type": "code",
        "outputId": "0cfcc958-7c29-475a-d1d9-4403b90244b5",
        "colab": {
          "base_uri": "https://localhost:8080/",
          "height": 204
        }
      },
      "source": [
        "exercise_data_young = exercise_data[exercise_data['age_cohort']=='Young']\n",
        "time_bins = pd.cut(exercise_data_young['exercise_time'],4)\n",
        "weight_bins = pd.cut(exercise_data_young['weight'],4)\n",
        "\n",
        "ct_young = pd.crosstab(weight_bins, time_bins, normalize='index')\n",
        "ct_young\n",
        "\n"
      ],
      "execution_count": 148,
      "outputs": [
        {
          "output_type": "execute_result",
          "data": {
            "text/html": [
              "<div>\n",
              "<style scoped>\n",
              "    .dataframe tbody tr th:only-of-type {\n",
              "        vertical-align: middle;\n",
              "    }\n",
              "\n",
              "    .dataframe tbody tr th {\n",
              "        vertical-align: top;\n",
              "    }\n",
              "\n",
              "    .dataframe thead th {\n",
              "        text-align: right;\n",
              "    }\n",
              "</style>\n",
              "<table border=\"1\" class=\"dataframe\">\n",
              "  <thead>\n",
              "    <tr style=\"text-align: right;\">\n",
              "      <th>exercise_time</th>\n",
              "      <th>(-0.3, 75.0]</th>\n",
              "      <th>(75.0, 150.0]</th>\n",
              "      <th>(150.0, 225.0]</th>\n",
              "      <th>(225.0, 300.0]</th>\n",
              "    </tr>\n",
              "    <tr>\n",
              "      <th>weight</th>\n",
              "      <th></th>\n",
              "      <th></th>\n",
              "      <th></th>\n",
              "      <th></th>\n",
              "    </tr>\n",
              "  </thead>\n",
              "  <tbody>\n",
              "    <tr>\n",
              "      <th>(99.858, 135.5]</th>\n",
              "      <td>0.112033</td>\n",
              "      <td>0.207469</td>\n",
              "      <td>0.273859</td>\n",
              "      <td>0.406639</td>\n",
              "    </tr>\n",
              "    <tr>\n",
              "      <th>(135.5, 171.0]</th>\n",
              "      <td>0.180412</td>\n",
              "      <td>0.226804</td>\n",
              "      <td>0.319588</td>\n",
              "      <td>0.273196</td>\n",
              "    </tr>\n",
              "    <tr>\n",
              "      <th>(171.0, 206.5]</th>\n",
              "      <td>0.376147</td>\n",
              "      <td>0.403670</td>\n",
              "      <td>0.211009</td>\n",
              "      <td>0.009174</td>\n",
              "    </tr>\n",
              "    <tr>\n",
              "      <th>(206.5, 242.0]</th>\n",
              "      <td>0.818182</td>\n",
              "      <td>0.181818</td>\n",
              "      <td>0.000000</td>\n",
              "      <td>0.000000</td>\n",
              "    </tr>\n",
              "  </tbody>\n",
              "</table>\n",
              "</div>"
            ],
            "text/plain": [
              "exercise_time    (-0.3, 75.0]       ...        (225.0, 300.0]\n",
              "weight                              ...                      \n",
              "(99.858, 135.5]      0.112033       ...              0.406639\n",
              "(135.5, 171.0]       0.180412       ...              0.273196\n",
              "(171.0, 206.5]       0.376147       ...              0.009174\n",
              "(206.5, 242.0]       0.818182       ...              0.000000\n",
              "\n",
              "[4 rows x 4 columns]"
            ]
          },
          "metadata": {
            "tags": []
          },
          "execution_count": 148
        }
      ]
    },
    {
      "cell_type": "code",
      "metadata": {
        "id": "msdOus1nCJgS",
        "colab_type": "code",
        "colab": {
          "base_uri": "https://localhost:8080/",
          "height": 350
        },
        "outputId": "acb5bb64-76c0-4f3f-fbfe-0d46b79de383"
      },
      "source": [
        "ct_young.plot(kind='bar');"
      ],
      "execution_count": 149,
      "outputs": [
        {
          "output_type": "display_data",
          "data": {
            "image/png": "[encoded data removed]",
            "text/plain": [
              "<Figure size 432x288 with 1 Axes>"
            ]
          },
          "metadata": {
            "tags": []
          }
        }
      ]
    },
    {
      "cell_type": "code",
      "metadata": {
        "id": "11fThyidBQNN",
        "colab_type": "code",
        "outputId": "f9f8ebc1-de6e-4884-90cd-3cecfb331952",
        "colab": {
          "base_uri": "https://localhost:8080/",
          "height": 269
        }
      },
      "source": [
        "plt.scatter(exercise_data_young['weight'], exercise_data_young['exercise_time']);"
      ],
      "execution_count": 139,
      "outputs": [
        {
          "output_type": "display_data",
          "data": {
            "image/png": "[encoded data removed]",
            "text/plain": [
              "<Figure size 432x288 with 1 Axes>"
            ]
          },
          "metadata": {
            "tags": []
          }
        }
      ]
    },
    {
      "cell_type": "code",
      "metadata": {
        "id": "l41CJlKn3e-g",
        "colab_type": "code",
        "outputId": "020df5b5-5759-4cf8-c6f1-1c5010efb061",
        "colab": {
          "base_uri": "https://localhost:8080/",
          "height": 269
        }
      },
      "source": [
        "plt.scatter(exercise_data_old['weight'], exercise_data_old['exercise_time']);"
      ],
      "execution_count": 140,
      "outputs": [
        {
          "output_type": "display_data",
          "data": {
            "image/png": "[encoded data removed]",
            "text/plain": [
              "<Figure size 432x288 with 1 Axes>"
            ]
          },
          "metadata": {
            "tags": []
          }
        }
      ]
    },
    {
      "cell_type": "markdown",
      "metadata": {
        "id": "9wnoSkRXD2BM",
        "colab_type": "text"
      },
      "source": [
        "## Stratification\n",
        "Objective of stratification is to fix the level of the confounders and produce groups within which the confounder does not vary. Then evaluate the exposure-outcome association within each stratum of the confounder. So within each stratum, the confounder cannot confound because it does not vary across the exposure-outcome."
      ]
    },
    {
      "cell_type": "code",
      "metadata": {
        "id": "guhABIBDD_Ee",
        "colab_type": "code",
        "colab": {}
      },
      "source": [
        "#this builds on the previous section, since I have already created two age cohort dataframes"
      ],
      "execution_count": 0,
      "outputs": []
    },
    {
      "cell_type": "code",
      "metadata": {
        "id": "isDWQHFmF8kz",
        "colab_type": "code",
        "colab": {
          "base_uri": "https://localhost:8080/",
          "height": 34
        },
        "outputId": "1d50422b-4198-4424-d74a-bcdfca1fd584"
      },
      "source": [
        "from sklearn.linear_model import LinearRegression\n",
        "\n",
        "features = ['age', 'exercise_time']\n",
        "\n",
        "target = 'weight'\n",
        "\n",
        "model = LinearRegression()\n",
        "model.fit(exercise_data[features], exercise_data[target])"
      ],
      "execution_count": 153,
      "outputs": [
        {
          "output_type": "execute_result",
          "data": {
            "text/plain": [
              "LinearRegression(copy_X=True, fit_intercept=True, n_jobs=None, normalize=False)"
            ]
          },
          "metadata": {
            "tags": []
          },
          "execution_count": 153
        }
      ]
    },
    {
      "cell_type": "markdown",
      "metadata": {
        "id": "BT9gdS7viJZa",
        "colab_type": "text"
      },
      "source": [
        "### Assignment questions\n",
        "\n",
        "After you've worked on some code, answer the following questions in this text block:\n",
        "\n",
        "1.  What are the variable types in the data?\n",
        "\n",
        "They are integers.\n",
        "\n",
        "2.  What are the relationships between the variables?\n",
        "\n",
        "I did a correlation matrix to quickly verify the direction of association between variables. As expected,  age is positively correlated with weight and negatively corr with exercise time. Weight is negatively corr with exercise time. \n",
        "\n",
        "I think a typical researcher would be interested in the relationship between weight and exercise time. What we're not sure about is the direction of this effect, and to what extent age is a confounding variable. For instance, heavier individuals may spend less time exercising because it is less enjoyable. Or, individuals are heavier precisely because they spend less time exercising. \n",
        "\n",
        "Hence, we will treat the main relationship of interest to be the one between weight and exercise. Age is the potential confounder. \n",
        "\n",
        "What might be illuminating, is look at the relationship between weight and exercise time via *age groups*. \n",
        "\n",
        "I tried to an age cohort analysis as suggested in the stretch goal (the NIH highlights piece). \n",
        "\n",
        "3.  Which relationships are \"real\", and which spurious?\n",
        "\n",
        "At this stage in the analysis, I don't think it's possible to definitively show that any relationships are spurious. It's more likely that age is a confounder. We can see in the exploratory visuals that age affects both weight and exercise time in opposite ways. "
      ]
    },
    {
      "cell_type": "markdown",
      "metadata": {
        "id": "_XXg2crAipwP",
        "colab_type": "text"
      },
      "source": [
        "## Stretch goals and resources\n",
        "\n",
        "Following are *optional* things for you to take a look at. Focus on the above assignment first, and make sure to commit and push your changes to GitHub.\n",
        "\n",
        "- [Spurious Correlations](http://tylervigen.com/spurious-correlations)\n",
        "- [NIH on controlling for confounding variables](https://www.ncbi.nlm.nih.gov/pmc/articles/PMC4017459/)\n",
        "\n",
        "Stretch goals:\n",
        "\n",
        "- Produce your own plot inspired by the Spurious Correlation visualizations (and consider writing a blog post about it - both the content and how you made it)\n",
        "- Pick one of the techniques that NIH highlights for confounding variables - we'll be going into many of them later, but see if you can find which Python modules may help (hint - check scikit-learn)"
      ]
    }
  ]
}