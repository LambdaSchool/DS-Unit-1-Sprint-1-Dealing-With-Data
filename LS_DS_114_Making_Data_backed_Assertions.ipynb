{
  "nbformat": 4,
  "nbformat_minor": 0,
  "metadata": {
    "colab": {
      "name": "LS DS 114 - Making Data-backed Assertions.ipynb",
      "version": "0.3.2",
      "provenance": [],
      "collapsed_sections": [],
      "include_colab_link": true
    },
    "kernelspec": {
      "name": "python3",
      "display_name": "Python 3"
    }
  },
  "cells": [
    {
      "cell_type": "markdown",
      "metadata": {
        "id": "view-in-github",
        "colab_type": "text"
      },
      "source": [
        "<a href=\"https://colab.research.google.com/github/valogonor/DS-Sprint-01-Dealing-With-Data/blob/master/LS_DS_114_Making_Data_backed_Assertions.ipynb\" target=\"_parent\"><img src=\"https://colab.research.google.com/assets/colab-badge.svg\" alt=\"Open In Colab\"/></a>"
      ]
    },
    {
      "metadata": {
        "id": "Okfr_uhwhS1X",
        "colab_type": "text"
      },
      "cell_type": "markdown",
      "source": [
        "# Lambda School Data Science - Making Data-backed Assertions\n",
        "\n",
        "This is, for many, the main point of data science - to create and support reasoned arguments based on evidence. It's not a topic to master in a day, but it is worth some focused time thinking about and structuring your approach to it."
      ]
    },
    {
      "metadata": {
        "id": "9dtJETFRhnOG",
        "colab_type": "text"
      },
      "cell_type": "markdown",
      "source": [
        "## Lecture - generating a confounding variable\n",
        "\n",
        "The prewatch material told a story about a hypothetical health condition where both the drug usage and overall health outcome were related to gender - thus making gender a confounding variable, obfuscating the possible relationship between the drug and the outcome.\n",
        "\n",
        "Let's use Python to generate data that actually behaves in this fashion!"
      ]
    },
    {
      "metadata": {
        "id": "WiBkgmPJhmhE",
        "colab_type": "code",
        "outputId": "054102d2-5d1d-4afc-ab7a-16bad44d8ee8",
        "colab": {
          "base_uri": "https://localhost:8080/",
          "height": 1125
        }
      },
      "cell_type": "code",
      "source": [
        "import random\n",
        "dir(random)  # Reminding ourselves what we can do here"
      ],
      "execution_count": 1,
      "outputs": [
        {
          "output_type": "execute_result",
          "data": {
            "text/plain": [
              "['BPF',\n",
              " 'LOG4',\n",
              " 'NV_MAGICCONST',\n",
              " 'RECIP_BPF',\n",
              " 'Random',\n",
              " 'SG_MAGICCONST',\n",
              " 'SystemRandom',\n",
              " 'TWOPI',\n",
              " '_BuiltinMethodType',\n",
              " '_MethodType',\n",
              " '_Sequence',\n",
              " '_Set',\n",
              " '__all__',\n",
              " '__builtins__',\n",
              " '__cached__',\n",
              " '__doc__',\n",
              " '__file__',\n",
              " '__loader__',\n",
              " '__name__',\n",
              " '__package__',\n",
              " '__spec__',\n",
              " '_acos',\n",
              " '_bisect',\n",
              " '_ceil',\n",
              " '_cos',\n",
              " '_e',\n",
              " '_exp',\n",
              " '_inst',\n",
              " '_itertools',\n",
              " '_log',\n",
              " '_pi',\n",
              " '_random',\n",
              " '_sha512',\n",
              " '_sin',\n",
              " '_sqrt',\n",
              " '_test',\n",
              " '_test_generator',\n",
              " '_urandom',\n",
              " '_warn',\n",
              " 'betavariate',\n",
              " 'choice',\n",
              " 'choices',\n",
              " 'expovariate',\n",
              " 'gammavariate',\n",
              " 'gauss',\n",
              " 'getrandbits',\n",
              " 'getstate',\n",
              " 'lognormvariate',\n",
              " 'normalvariate',\n",
              " 'paretovariate',\n",
              " 'randint',\n",
              " 'random',\n",
              " 'randrange',\n",
              " 'sample',\n",
              " 'seed',\n",
              " 'setstate',\n",
              " 'shuffle',\n",
              " 'triangular',\n",
              " 'uniform',\n",
              " 'vonmisesvariate',\n",
              " 'weibullvariate']"
            ]
          },
          "metadata": {
            "tags": []
          },
          "execution_count": 1
        }
      ]
    },
    {
      "metadata": {
        "id": "Ks5qFtpnq-q5",
        "colab_type": "code",
        "outputId": "a07d235c-d3a7-4365-c227-02992a95813b",
        "colab": {
          "base_uri": "https://localhost:8080/",
          "height": 35
        }
      },
      "cell_type": "code",
      "source": [
        "# Let's think of another scenario:\n",
        "# We work for a company that sells accessories for mobile phones.\n",
        "# They have an ecommerce site, and we are supposed to analyze logs\n",
        "# to determine what sort of usage is related to purchases, and thus guide\n",
        "# website development to encourage higher conversion.\n",
        "\n",
        "# The hypothesis - users who spend longer on the site tend\n",
        "# to spend more. Seems reasonable, no?\n",
        "\n",
        "# But there's a confounding variable! If they're on a phone, they:\n",
        "# a) Spend less time on the site, but\n",
        "# b) Are more likely to be interested in the actual products!\n",
        "\n",
        "# Let's use namedtuple to represent our data\n",
        "\n",
        "from collections import namedtuple\n",
        "# purchased and mobile are bools, time_on_site in seconds\n",
        "User = namedtuple('User', ['purchased','time_on_site', 'mobile'])\n",
        "\n",
        "example_user = User(False, 12, False)\n",
        "print(example_user)"
      ],
      "execution_count": 2,
      "outputs": [
        {
          "output_type": "stream",
          "text": [
            "User(purchased=False, time_on_site=12, mobile=False)\n"
          ],
          "name": "stdout"
        }
      ]
    },
    {
      "metadata": {
        "id": "lfPiHNG_sefL",
        "colab_type": "code",
        "outputId": "1e889eb3-6467-43a6-ddc7-58b079785d0e",
        "colab": {
          "base_uri": "https://localhost:8080/",
          "height": 55
        }
      },
      "cell_type": "code",
      "source": [
        "# And now let's generate 1000 example users\n",
        "# 750 mobile, 250 not (i.e. desktop)\n",
        "# A desktop user has a base conversion likelihood of 10%\n",
        "# And it goes up by 1% for each 15 seconds they spend on the site\n",
        "# And they spend anywhere from 10 seconds to 10 minutes on the site (uniform)\n",
        "# Mobile users spend on average half as much time on the site as desktop\n",
        "# But have twice as much base likelihood of buying something\n",
        "\n",
        "users = []\n",
        "\n",
        "for _ in range(250):\n",
        "  # Desktop users\n",
        "  time_on_site = random.uniform(10, 600)\n",
        "  purchased = random.random() < 0.1 + (time_on_site // 1500)\n",
        "  users.append(User(purchased, time_on_site, False))\n",
        "  \n",
        "for _ in range(750):\n",
        "  # Mobile users\n",
        "  time_on_site = random.uniform(5, 300)\n",
        "  purchased = random.random() < 0.2 + (time_on_site // 1500)\n",
        "  users.append(User(purchased, time_on_site, True))\n",
        "  \n",
        "random.shuffle(users)\n",
        "print(users[:10])"
      ],
      "execution_count": 3,
      "outputs": [
        {
          "output_type": "stream",
          "text": [
            "[User(purchased=False, time_on_site=119.59973378028572, mobile=True), User(purchased=False, time_on_site=157.15186194979424, mobile=True), User(purchased=False, time_on_site=296.76110188746907, mobile=True), User(purchased=False, time_on_site=133.8860979203729, mobile=False), User(purchased=False, time_on_site=136.25324342214176, mobile=False), User(purchased=False, time_on_site=8.934650935367136, mobile=True), User(purchased=False, time_on_site=278.7422316286559, mobile=True), User(purchased=False, time_on_site=32.09547450211177, mobile=True), User(purchased=False, time_on_site=118.32329884396006, mobile=False), User(purchased=False, time_on_site=16.33551474025396, mobile=False)]\n"
          ],
          "name": "stdout"
        }
      ]
    },
    {
      "metadata": {
        "id": "9gDYb5qGuRzy",
        "colab_type": "code",
        "outputId": "464b1b7d-b737-4831-bf10-a8067033b859",
        "colab": {
          "base_uri": "https://localhost:8080/",
          "height": 206
        }
      },
      "cell_type": "code",
      "source": [
        "# Let's put this in a dataframe so we can look at it more easily\n",
        "import pandas as pd\n",
        "user_data = pd.DataFrame(users)\n",
        "user_data.head()"
      ],
      "execution_count": 4,
      "outputs": [
        {
          "output_type": "execute_result",
          "data": {
            "text/html": [
              "<div>\n",
              "<style scoped>\n",
              "    .dataframe tbody tr th:only-of-type {\n",
              "        vertical-align: middle;\n",
              "    }\n",
              "\n",
              "    .dataframe tbody tr th {\n",
              "        vertical-align: top;\n",
              "    }\n",
              "\n",
              "    .dataframe thead th {\n",
              "        text-align: right;\n",
              "    }\n",
              "</style>\n",
              "<table border=\"1\" class=\"dataframe\">\n",
              "  <thead>\n",
              "    <tr style=\"text-align: right;\">\n",
              "      <th></th>\n",
              "      <th>purchased</th>\n",
              "      <th>time_on_site</th>\n",
              "      <th>mobile</th>\n",
              "    </tr>\n",
              "  </thead>\n",
              "  <tbody>\n",
              "    <tr>\n",
              "      <th>0</th>\n",
              "      <td>False</td>\n",
              "      <td>119.599734</td>\n",
              "      <td>True</td>\n",
              "    </tr>\n",
              "    <tr>\n",
              "      <th>1</th>\n",
              "      <td>False</td>\n",
              "      <td>157.151862</td>\n",
              "      <td>True</td>\n",
              "    </tr>\n",
              "    <tr>\n",
              "      <th>2</th>\n",
              "      <td>False</td>\n",
              "      <td>296.761102</td>\n",
              "      <td>True</td>\n",
              "    </tr>\n",
              "    <tr>\n",
              "      <th>3</th>\n",
              "      <td>False</td>\n",
              "      <td>133.886098</td>\n",
              "      <td>False</td>\n",
              "    </tr>\n",
              "    <tr>\n",
              "      <th>4</th>\n",
              "      <td>False</td>\n",
              "      <td>136.253243</td>\n",
              "      <td>False</td>\n",
              "    </tr>\n",
              "  </tbody>\n",
              "</table>\n",
              "</div>"
            ],
            "text/plain": [
              "   purchased  time_on_site  mobile\n",
              "0      False    119.599734    True\n",
              "1      False    157.151862    True\n",
              "2      False    296.761102    True\n",
              "3      False    133.886098   False\n",
              "4      False    136.253243   False"
            ]
          },
          "metadata": {
            "tags": []
          },
          "execution_count": 4
        }
      ]
    },
    {
      "metadata": {
        "id": "sr6IJv77ulVl",
        "colab_type": "code",
        "outputId": "f88708fd-614b-48c6-8978-91dc5b8b5ba3",
        "colab": {
          "base_uri": "https://localhost:8080/",
          "height": 193
        }
      },
      "cell_type": "code",
      "source": [
        "# Let's use crosstabulation to try to see what's going on\n",
        "pd.crosstab(user_data['purchased'], user_data['time_on_site'])"
      ],
      "execution_count": 5,
      "outputs": [
        {
          "output_type": "execute_result",
          "data": {
            "text/html": [
              "<div>\n",
              "<style scoped>\n",
              "    .dataframe tbody tr th:only-of-type {\n",
              "        vertical-align: middle;\n",
              "    }\n",
              "\n",
              "    .dataframe tbody tr th {\n",
              "        vertical-align: top;\n",
              "    }\n",
              "\n",
              "    .dataframe thead th {\n",
              "        text-align: right;\n",
              "    }\n",
              "</style>\n",
              "<table border=\"1\" class=\"dataframe\">\n",
              "  <thead>\n",
              "    <tr style=\"text-align: right;\">\n",
              "      <th>time_on_site</th>\n",
              "      <th>5.130275009663677</th>\n",
              "      <th>5.214245765046557</th>\n",
              "      <th>7.146668151774349</th>\n",
              "      <th>8.183286042242788</th>\n",
              "      <th>8.322234804773062</th>\n",
              "      <th>8.460492701204773</th>\n",
              "      <th>8.49472520404321</th>\n",
              "      <th>8.674415760881686</th>\n",
              "      <th>8.934650935367136</th>\n",
              "      <th>9.498951590906092</th>\n",
              "      <th>...</th>\n",
              "      <th>579.728862405721</th>\n",
              "      <th>580.5386338178107</th>\n",
              "      <th>584.085385095457</th>\n",
              "      <th>586.0999692714972</th>\n",
              "      <th>587.8077258258127</th>\n",
              "      <th>593.8781828317962</th>\n",
              "      <th>596.3892414254603</th>\n",
              "      <th>596.4400817607856</th>\n",
              "      <th>598.020536679392</th>\n",
              "      <th>599.8208975573865</th>\n",
              "    </tr>\n",
              "    <tr>\n",
              "      <th>purchased</th>\n",
              "      <th></th>\n",
              "      <th></th>\n",
              "      <th></th>\n",
              "      <th></th>\n",
              "      <th></th>\n",
              "      <th></th>\n",
              "      <th></th>\n",
              "      <th></th>\n",
              "      <th></th>\n",
              "      <th></th>\n",
              "      <th></th>\n",
              "      <th></th>\n",
              "      <th></th>\n",
              "      <th></th>\n",
              "      <th></th>\n",
              "      <th></th>\n",
              "      <th></th>\n",
              "      <th></th>\n",
              "      <th></th>\n",
              "      <th></th>\n",
              "      <th></th>\n",
              "    </tr>\n",
              "  </thead>\n",
              "  <tbody>\n",
              "    <tr>\n",
              "      <th>False</th>\n",
              "      <td>1</td>\n",
              "      <td>0</td>\n",
              "      <td>1</td>\n",
              "      <td>1</td>\n",
              "      <td>1</td>\n",
              "      <td>1</td>\n",
              "      <td>0</td>\n",
              "      <td>1</td>\n",
              "      <td>1</td>\n",
              "      <td>1</td>\n",
              "      <td>...</td>\n",
              "      <td>1</td>\n",
              "      <td>1</td>\n",
              "      <td>1</td>\n",
              "      <td>1</td>\n",
              "      <td>1</td>\n",
              "      <td>1</td>\n",
              "      <td>1</td>\n",
              "      <td>1</td>\n",
              "      <td>1</td>\n",
              "      <td>1</td>\n",
              "    </tr>\n",
              "    <tr>\n",
              "      <th>True</th>\n",
              "      <td>0</td>\n",
              "      <td>1</td>\n",
              "      <td>0</td>\n",
              "      <td>0</td>\n",
              "      <td>0</td>\n",
              "      <td>0</td>\n",
              "      <td>1</td>\n",
              "      <td>0</td>\n",
              "      <td>0</td>\n",
              "      <td>0</td>\n",
              "      <td>...</td>\n",
              "      <td>0</td>\n",
              "      <td>0</td>\n",
              "      <td>0</td>\n",
              "      <td>0</td>\n",
              "      <td>0</td>\n",
              "      <td>0</td>\n",
              "      <td>0</td>\n",
              "      <td>0</td>\n",
              "      <td>0</td>\n",
              "      <td>0</td>\n",
              "    </tr>\n",
              "  </tbody>\n",
              "</table>\n",
              "<p>2 rows × 1000 columns</p>\n",
              "</div>"
            ],
            "text/plain": [
              "time_on_site  5.130275    5.214246    7.146668    8.183286    8.322235    \\\n",
              "purchased                                                                  \n",
              "False                  1           0           1           1           1   \n",
              "True                   0           1           0           0           0   \n",
              "\n",
              "time_on_site  8.460493    8.494725    8.674416    8.934651    9.498952    \\\n",
              "purchased                                                                  \n",
              "False                  1           0           1           1           1   \n",
              "True                   0           1           0           0           0   \n",
              "\n",
              "time_on_site     ...      579.728862  580.538634  584.085385  586.099969  \\\n",
              "purchased        ...                                                       \n",
              "False            ...               1           1           1           1   \n",
              "True             ...               0           0           0           0   \n",
              "\n",
              "time_on_site  587.807726  593.878183  596.389241  596.440082  598.020537  \\\n",
              "purchased                                                                  \n",
              "False                  1           1           1           1           1   \n",
              "True                   0           0           0           0           0   \n",
              "\n",
              "time_on_site  599.820898  \n",
              "purchased                 \n",
              "False                  1  \n",
              "True                   0  \n",
              "\n",
              "[2 rows x 1000 columns]"
            ]
          },
          "metadata": {
            "tags": []
          },
          "execution_count": 5
        }
      ]
    },
    {
      "metadata": {
        "id": "hvAv6J3EwA9s",
        "colab_type": "code",
        "outputId": "84bfb15c-2b10-44a8-bec7-0d50034ad872",
        "colab": {
          "base_uri": "https://localhost:8080/",
          "height": 143
        }
      },
      "cell_type": "code",
      "source": [
        "# OK, that's not quite what we want\n",
        "# Time is continuous! We need to put it in discrete buckets\n",
        "# Pandas calls these bins, and pandas.cut helps make them\n",
        "\n",
        "time_bins = pd.cut(user_data['time_on_site'], 5)  # 5 equal-sized bins\n",
        "pd.crosstab(user_data['purchased'], time_bins)"
      ],
      "execution_count": 6,
      "outputs": [
        {
          "output_type": "execute_result",
          "data": {
            "text/html": [
              "<div>\n",
              "<style scoped>\n",
              "    .dataframe tbody tr th:only-of-type {\n",
              "        vertical-align: middle;\n",
              "    }\n",
              "\n",
              "    .dataframe tbody tr th {\n",
              "        vertical-align: top;\n",
              "    }\n",
              "\n",
              "    .dataframe thead th {\n",
              "        text-align: right;\n",
              "    }\n",
              "</style>\n",
              "<table border=\"1\" class=\"dataframe\">\n",
              "  <thead>\n",
              "    <tr style=\"text-align: right;\">\n",
              "      <th>time_on_site</th>\n",
              "      <th>(4.536, 124.068]</th>\n",
              "      <th>(124.068, 243.007]</th>\n",
              "      <th>(243.007, 361.945]</th>\n",
              "      <th>(361.945, 480.883]</th>\n",
              "      <th>(480.883, 599.821]</th>\n",
              "    </tr>\n",
              "    <tr>\n",
              "      <th>purchased</th>\n",
              "      <th></th>\n",
              "      <th></th>\n",
              "      <th></th>\n",
              "      <th></th>\n",
              "      <th></th>\n",
              "    </tr>\n",
              "  </thead>\n",
              "  <tbody>\n",
              "    <tr>\n",
              "      <th>False</th>\n",
              "      <td>288</td>\n",
              "      <td>294</td>\n",
              "      <td>143</td>\n",
              "      <td>47</td>\n",
              "      <td>39</td>\n",
              "    </tr>\n",
              "    <tr>\n",
              "      <th>True</th>\n",
              "      <td>65</td>\n",
              "      <td>84</td>\n",
              "      <td>29</td>\n",
              "      <td>4</td>\n",
              "      <td>7</td>\n",
              "    </tr>\n",
              "  </tbody>\n",
              "</table>\n",
              "</div>"
            ],
            "text/plain": [
              "time_on_site  (4.536, 124.068]  (124.068, 243.007]  (243.007, 361.945]  \\\n",
              "purchased                                                                \n",
              "False                      288                 294                 143   \n",
              "True                        65                  84                  29   \n",
              "\n",
              "time_on_site  (361.945, 480.883]  (480.883, 599.821]  \n",
              "purchased                                             \n",
              "False                         47                  39  \n",
              "True                           4                   7  "
            ]
          },
          "metadata": {
            "tags": []
          },
          "execution_count": 6
        }
      ]
    },
    {
      "metadata": {
        "id": "pjcXnJw0wfaj",
        "colab_type": "code",
        "outputId": "d5d46fa1-fbf8-4e39-a740-44ecf9d4e4b4",
        "colab": {
          "base_uri": "https://localhost:8080/",
          "height": 143
        }
      },
      "cell_type": "code",
      "source": [
        "# We can make this a bit clearer by normalizing (getting %)\n",
        "pd.crosstab(user_data['purchased'], time_bins, normalize='columns')"
      ],
      "execution_count": 7,
      "outputs": [
        {
          "output_type": "execute_result",
          "data": {
            "text/html": [
              "<div>\n",
              "<style scoped>\n",
              "    .dataframe tbody tr th:only-of-type {\n",
              "        vertical-align: middle;\n",
              "    }\n",
              "\n",
              "    .dataframe tbody tr th {\n",
              "        vertical-align: top;\n",
              "    }\n",
              "\n",
              "    .dataframe thead th {\n",
              "        text-align: right;\n",
              "    }\n",
              "</style>\n",
              "<table border=\"1\" class=\"dataframe\">\n",
              "  <thead>\n",
              "    <tr style=\"text-align: right;\">\n",
              "      <th>time_on_site</th>\n",
              "      <th>(4.536, 124.068]</th>\n",
              "      <th>(124.068, 243.007]</th>\n",
              "      <th>(243.007, 361.945]</th>\n",
              "      <th>(361.945, 480.883]</th>\n",
              "      <th>(480.883, 599.821]</th>\n",
              "    </tr>\n",
              "    <tr>\n",
              "      <th>purchased</th>\n",
              "      <th></th>\n",
              "      <th></th>\n",
              "      <th></th>\n",
              "      <th></th>\n",
              "      <th></th>\n",
              "    </tr>\n",
              "  </thead>\n",
              "  <tbody>\n",
              "    <tr>\n",
              "      <th>False</th>\n",
              "      <td>0.815864</td>\n",
              "      <td>0.777778</td>\n",
              "      <td>0.831395</td>\n",
              "      <td>0.921569</td>\n",
              "      <td>0.847826</td>\n",
              "    </tr>\n",
              "    <tr>\n",
              "      <th>True</th>\n",
              "      <td>0.184136</td>\n",
              "      <td>0.222222</td>\n",
              "      <td>0.168605</td>\n",
              "      <td>0.078431</td>\n",
              "      <td>0.152174</td>\n",
              "    </tr>\n",
              "  </tbody>\n",
              "</table>\n",
              "</div>"
            ],
            "text/plain": [
              "time_on_site  (4.536, 124.068]  (124.068, 243.007]  (243.007, 361.945]  \\\n",
              "purchased                                                                \n",
              "False                 0.815864            0.777778            0.831395   \n",
              "True                  0.184136            0.222222            0.168605   \n",
              "\n",
              "time_on_site  (361.945, 480.883]  (480.883, 599.821]  \n",
              "purchased                                             \n",
              "False                   0.921569            0.847826  \n",
              "True                    0.078431            0.152174  "
            ]
          },
          "metadata": {
            "tags": []
          },
          "execution_count": 7
        }
      ]
    },
    {
      "metadata": {
        "id": "C3GzvDxlvZMa",
        "colab_type": "code",
        "outputId": "e069db96-3127-40a5-d043-bc5a94c431f8",
        "colab": {
          "base_uri": "https://localhost:8080/",
          "height": 143
        }
      },
      "cell_type": "code",
      "source": [
        "# That seems counter to our hypothesis\n",
        "# More time on the site seems to have fewer purchases\n",
        "\n",
        "# But we know why, since we generated the data!\n",
        "# Let's look at mobile and purchased\n",
        "pd.crosstab(user_data['purchased'], user_data['mobile'], normalize='columns')"
      ],
      "execution_count": 8,
      "outputs": [
        {
          "output_type": "execute_result",
          "data": {
            "text/html": [
              "<div>\n",
              "<style scoped>\n",
              "    .dataframe tbody tr th:only-of-type {\n",
              "        vertical-align: middle;\n",
              "    }\n",
              "\n",
              "    .dataframe tbody tr th {\n",
              "        vertical-align: top;\n",
              "    }\n",
              "\n",
              "    .dataframe thead th {\n",
              "        text-align: right;\n",
              "    }\n",
              "</style>\n",
              "<table border=\"1\" class=\"dataframe\">\n",
              "  <thead>\n",
              "    <tr style=\"text-align: right;\">\n",
              "      <th>mobile</th>\n",
              "      <th>False</th>\n",
              "      <th>True</th>\n",
              "    </tr>\n",
              "    <tr>\n",
              "      <th>purchased</th>\n",
              "      <th></th>\n",
              "      <th></th>\n",
              "    </tr>\n",
              "  </thead>\n",
              "  <tbody>\n",
              "    <tr>\n",
              "      <th>False</th>\n",
              "      <td>0.88</td>\n",
              "      <td>0.788</td>\n",
              "    </tr>\n",
              "    <tr>\n",
              "      <th>True</th>\n",
              "      <td>0.12</td>\n",
              "      <td>0.212</td>\n",
              "    </tr>\n",
              "  </tbody>\n",
              "</table>\n",
              "</div>"
            ],
            "text/plain": [
              "mobile     False  True \n",
              "purchased              \n",
              "False       0.88  0.788\n",
              "True        0.12  0.212"
            ]
          },
          "metadata": {
            "tags": []
          },
          "execution_count": 8
        }
      ]
    },
    {
      "metadata": {
        "id": "KQb-wU60xCum",
        "colab_type": "code",
        "colab": {
          "base_uri": "https://localhost:8080/",
          "height": 394
        },
        "outputId": "3e8f19a8-17b2-4bd0-ecda-a4a84514f9e2"
      },
      "cell_type": "code",
      "source": [
        "# Yep, mobile users are more likely to buy things\n",
        "# But we're still not seeing the *whole* story until we look at all 3 at once\n",
        "\n",
        "# Live/stretch goal - how can we do that?\n",
        "pd.crosstab([user_data['purchased'], time_bins], user_data['mobile'],\n",
        "            normalize='columns')"
      ],
      "execution_count": 9,
      "outputs": [
        {
          "output_type": "execute_result",
          "data": {
            "text/html": [
              "<div>\n",
              "<style scoped>\n",
              "    .dataframe tbody tr th:only-of-type {\n",
              "        vertical-align: middle;\n",
              "    }\n",
              "\n",
              "    .dataframe tbody tr th {\n",
              "        vertical-align: top;\n",
              "    }\n",
              "\n",
              "    .dataframe thead th {\n",
              "        text-align: right;\n",
              "    }\n",
              "</style>\n",
              "<table border=\"1\" class=\"dataframe\">\n",
              "  <thead>\n",
              "    <tr style=\"text-align: right;\">\n",
              "      <th></th>\n",
              "      <th>mobile</th>\n",
              "      <th>False</th>\n",
              "      <th>True</th>\n",
              "    </tr>\n",
              "    <tr>\n",
              "      <th>purchased</th>\n",
              "      <th>time_on_site</th>\n",
              "      <th></th>\n",
              "      <th></th>\n",
              "    </tr>\n",
              "  </thead>\n",
              "  <tbody>\n",
              "    <tr>\n",
              "      <th rowspan=\"5\" valign=\"top\">False</th>\n",
              "      <th>(4.536, 124.068]</th>\n",
              "      <td>0.200</td>\n",
              "      <td>0.317333</td>\n",
              "    </tr>\n",
              "    <tr>\n",
              "      <th>(124.068, 243.007]</th>\n",
              "      <td>0.176</td>\n",
              "      <td>0.333333</td>\n",
              "    </tr>\n",
              "    <tr>\n",
              "      <th>(243.007, 361.945]</th>\n",
              "      <td>0.160</td>\n",
              "      <td>0.137333</td>\n",
              "    </tr>\n",
              "    <tr>\n",
              "      <th>(361.945, 480.883]</th>\n",
              "      <td>0.188</td>\n",
              "      <td>0.000000</td>\n",
              "    </tr>\n",
              "    <tr>\n",
              "      <th>(480.883, 599.821]</th>\n",
              "      <td>0.156</td>\n",
              "      <td>0.000000</td>\n",
              "    </tr>\n",
              "    <tr>\n",
              "      <th rowspan=\"5\" valign=\"top\">True</th>\n",
              "      <th>(4.536, 124.068]</th>\n",
              "      <td>0.032</td>\n",
              "      <td>0.076000</td>\n",
              "    </tr>\n",
              "    <tr>\n",
              "      <th>(124.068, 243.007]</th>\n",
              "      <td>0.020</td>\n",
              "      <td>0.105333</td>\n",
              "    </tr>\n",
              "    <tr>\n",
              "      <th>(243.007, 361.945]</th>\n",
              "      <td>0.024</td>\n",
              "      <td>0.030667</td>\n",
              "    </tr>\n",
              "    <tr>\n",
              "      <th>(361.945, 480.883]</th>\n",
              "      <td>0.016</td>\n",
              "      <td>0.000000</td>\n",
              "    </tr>\n",
              "    <tr>\n",
              "      <th>(480.883, 599.821]</th>\n",
              "      <td>0.028</td>\n",
              "      <td>0.000000</td>\n",
              "    </tr>\n",
              "  </tbody>\n",
              "</table>\n",
              "</div>"
            ],
            "text/plain": [
              "mobile                        False     True \n",
              "purchased time_on_site                       \n",
              "False     (4.536, 124.068]    0.200  0.317333\n",
              "          (124.068, 243.007]  0.176  0.333333\n",
              "          (243.007, 361.945]  0.160  0.137333\n",
              "          (361.945, 480.883]  0.188  0.000000\n",
              "          (480.883, 599.821]  0.156  0.000000\n",
              "True      (4.536, 124.068]    0.032  0.076000\n",
              "          (124.068, 243.007]  0.020  0.105333\n",
              "          (243.007, 361.945]  0.024  0.030667\n",
              "          (361.945, 480.883]  0.016  0.000000\n",
              "          (480.883, 599.821]  0.028  0.000000"
            ]
          },
          "metadata": {
            "tags": []
          },
          "execution_count": 9
        }
      ]
    },
    {
      "metadata": {
        "id": "kY8GEBQpF5KO",
        "colab_type": "code",
        "colab": {
          "base_uri": "https://localhost:8080/",
          "height": 394
        },
        "outputId": "bbadbb47-4337-441d-c599-beb98d4ea1b3"
      },
      "cell_type": "code",
      "source": [
        "ct = pd.crosstab([user_data['purchased'], time_bins], user_data['mobile'],\n",
        "                 normalize='columns')\n",
        "ct"
      ],
      "execution_count": 10,
      "outputs": [
        {
          "output_type": "execute_result",
          "data": {
            "text/html": [
              "<div>\n",
              "<style scoped>\n",
              "    .dataframe tbody tr th:only-of-type {\n",
              "        vertical-align: middle;\n",
              "    }\n",
              "\n",
              "    .dataframe tbody tr th {\n",
              "        vertical-align: top;\n",
              "    }\n",
              "\n",
              "    .dataframe thead th {\n",
              "        text-align: right;\n",
              "    }\n",
              "</style>\n",
              "<table border=\"1\" class=\"dataframe\">\n",
              "  <thead>\n",
              "    <tr style=\"text-align: right;\">\n",
              "      <th></th>\n",
              "      <th>mobile</th>\n",
              "      <th>False</th>\n",
              "      <th>True</th>\n",
              "    </tr>\n",
              "    <tr>\n",
              "      <th>purchased</th>\n",
              "      <th>time_on_site</th>\n",
              "      <th></th>\n",
              "      <th></th>\n",
              "    </tr>\n",
              "  </thead>\n",
              "  <tbody>\n",
              "    <tr>\n",
              "      <th rowspan=\"5\" valign=\"top\">False</th>\n",
              "      <th>(4.536, 124.068]</th>\n",
              "      <td>0.200</td>\n",
              "      <td>0.317333</td>\n",
              "    </tr>\n",
              "    <tr>\n",
              "      <th>(124.068, 243.007]</th>\n",
              "      <td>0.176</td>\n",
              "      <td>0.333333</td>\n",
              "    </tr>\n",
              "    <tr>\n",
              "      <th>(243.007, 361.945]</th>\n",
              "      <td>0.160</td>\n",
              "      <td>0.137333</td>\n",
              "    </tr>\n",
              "    <tr>\n",
              "      <th>(361.945, 480.883]</th>\n",
              "      <td>0.188</td>\n",
              "      <td>0.000000</td>\n",
              "    </tr>\n",
              "    <tr>\n",
              "      <th>(480.883, 599.821]</th>\n",
              "      <td>0.156</td>\n",
              "      <td>0.000000</td>\n",
              "    </tr>\n",
              "    <tr>\n",
              "      <th rowspan=\"5\" valign=\"top\">True</th>\n",
              "      <th>(4.536, 124.068]</th>\n",
              "      <td>0.032</td>\n",
              "      <td>0.076000</td>\n",
              "    </tr>\n",
              "    <tr>\n",
              "      <th>(124.068, 243.007]</th>\n",
              "      <td>0.020</td>\n",
              "      <td>0.105333</td>\n",
              "    </tr>\n",
              "    <tr>\n",
              "      <th>(243.007, 361.945]</th>\n",
              "      <td>0.024</td>\n",
              "      <td>0.030667</td>\n",
              "    </tr>\n",
              "    <tr>\n",
              "      <th>(361.945, 480.883]</th>\n",
              "      <td>0.016</td>\n",
              "      <td>0.000000</td>\n",
              "    </tr>\n",
              "    <tr>\n",
              "      <th>(480.883, 599.821]</th>\n",
              "      <td>0.028</td>\n",
              "      <td>0.000000</td>\n",
              "    </tr>\n",
              "  </tbody>\n",
              "</table>\n",
              "</div>"
            ],
            "text/plain": [
              "mobile                        False     True \n",
              "purchased time_on_site                       \n",
              "False     (4.536, 124.068]    0.200  0.317333\n",
              "          (124.068, 243.007]  0.176  0.333333\n",
              "          (243.007, 361.945]  0.160  0.137333\n",
              "          (361.945, 480.883]  0.188  0.000000\n",
              "          (480.883, 599.821]  0.156  0.000000\n",
              "True      (4.536, 124.068]    0.032  0.076000\n",
              "          (124.068, 243.007]  0.020  0.105333\n",
              "          (243.007, 361.945]  0.024  0.030667\n",
              "          (361.945, 480.883]  0.016  0.000000\n",
              "          (480.883, 599.821]  0.028  0.000000"
            ]
          },
          "metadata": {
            "tags": []
          },
          "execution_count": 10
        }
      ]
    },
    {
      "metadata": {
        "id": "pZmW3QWoGHr8",
        "colab_type": "code",
        "colab": {
          "base_uri": "https://localhost:8080/",
          "height": 472
        },
        "outputId": "54585346-14c3-41b6-abcf-79f445a62112"
      },
      "cell_type": "code",
      "source": [
        "ct.plot(kind='bar', stacked=True);"
      ],
      "execution_count": 12,
      "outputs": [
        {
          "output_type": "display_data",
          "data": {
            "image/png": "[encoded data removed]",
            "text/plain": [
              "<matplotlib.figure.Figure at 0x7fc96895fbe0>"
            ]
          },
          "metadata": {
            "tags": []
          }
        }
      ]
    },
    {
      "metadata": {
        "id": "ctvfoT2MGoB1",
        "colab_type": "code",
        "colab": {
          "base_uri": "https://localhost:8080/",
          "height": 436
        },
        "outputId": "5eade1c1-aa38-4fb8-efc5-da3738f7cb11"
      },
      "cell_type": "code",
      "source": [
        "pd.crosstab(time_bins, [user_data['purchased'], user_data['mobile']],\n",
        "            normalize='columns').plot(kind = 'bar', stacked = False);"
      ],
      "execution_count": 13,
      "outputs": [
        {
          "output_type": "display_data",
          "data": {
            "image/png": "[encoded data removed]",
            "text/plain": [
              "<matplotlib.figure.Figure at 0x7fc9660c63c8>"
            ]
          },
          "metadata": {
            "tags": []
          }
        }
      ]
    },
    {
      "metadata": {
        "id": "lOqaPds9huME",
        "colab_type": "text"
      },
      "cell_type": "markdown",
      "source": [
        "## Assignment - what's going on here?\n",
        "\n",
        "Consider the data in `persons.csv` (already prepared for you, in the repo for the week). It has four columns - a unique id, followed by age (in years), weight (in lbs), and exercise time (in minutes/week) of 1200 (hypothetical) people.\n",
        "\n",
        "Try to figure out which variables are possibly related to each other, and which may be confounding relationships."
      ]
    },
    {
      "metadata": {
        "id": "TGUS79cOhPWj",
        "colab_type": "code",
        "colab": {
          "base_uri": "https://localhost:8080/",
          "height": 300
        },
        "outputId": "2f2bc5d3-eec5-40dc-9bf2-3400733876a0"
      },
      "cell_type": "code",
      "source": [
        "# TODO - your code here\n",
        "# Use what we did live in lecture as an example\n",
        "\n",
        "# HINT - you can find the raw URL on GitHub and potentially use that\n",
        "# to load the data with read_csv, or you can upload it yourself\n",
        "\n",
        "persons_data_url = 'https://raw.githubusercontent.com/valogonor/DS-Sprint-01-Dealing-With-Data/master/module4-databackedassertions/persons.csv'\n",
        "persons_data = pd.read_csv(persons_data_url)\n",
        "persons_data.describe()"
      ],
      "execution_count": 19,
      "outputs": [
        {
          "output_type": "execute_result",
          "data": {
            "text/html": [
              "<div>\n",
              "<style scoped>\n",
              "    .dataframe tbody tr th:only-of-type {\n",
              "        vertical-align: middle;\n",
              "    }\n",
              "\n",
              "    .dataframe tbody tr th {\n",
              "        vertical-align: top;\n",
              "    }\n",
              "\n",
              "    .dataframe thead th {\n",
              "        text-align: right;\n",
              "    }\n",
              "</style>\n",
              "<table border=\"1\" class=\"dataframe\">\n",
              "  <thead>\n",
              "    <tr style=\"text-align: right;\">\n",
              "      <th></th>\n",
              "      <th>Unnamed: 0</th>\n",
              "      <th>age</th>\n",
              "      <th>weight</th>\n",
              "      <th>exercise_time</th>\n",
              "    </tr>\n",
              "  </thead>\n",
              "  <tbody>\n",
              "    <tr>\n",
              "      <th>count</th>\n",
              "      <td>1200.000000</td>\n",
              "      <td>1200.000000</td>\n",
              "      <td>1200.000000</td>\n",
              "      <td>1200.000000</td>\n",
              "    </tr>\n",
              "    <tr>\n",
              "      <th>mean</th>\n",
              "      <td>599.500000</td>\n",
              "      <td>48.396667</td>\n",
              "      <td>153.540833</td>\n",
              "      <td>134.910833</td>\n",
              "    </tr>\n",
              "    <tr>\n",
              "      <th>std</th>\n",
              "      <td>346.554469</td>\n",
              "      <td>18.166802</td>\n",
              "      <td>35.132182</td>\n",
              "      <td>85.548895</td>\n",
              "    </tr>\n",
              "    <tr>\n",
              "      <th>min</th>\n",
              "      <td>0.000000</td>\n",
              "      <td>18.000000</td>\n",
              "      <td>100.000000</td>\n",
              "      <td>0.000000</td>\n",
              "    </tr>\n",
              "    <tr>\n",
              "      <th>25%</th>\n",
              "      <td>299.750000</td>\n",
              "      <td>33.000000</td>\n",
              "      <td>125.000000</td>\n",
              "      <td>65.000000</td>\n",
              "    </tr>\n",
              "    <tr>\n",
              "      <th>50%</th>\n",
              "      <td>599.500000</td>\n",
              "      <td>48.000000</td>\n",
              "      <td>149.000000</td>\n",
              "      <td>122.000000</td>\n",
              "    </tr>\n",
              "    <tr>\n",
              "      <th>75%</th>\n",
              "      <td>899.250000</td>\n",
              "      <td>64.000000</td>\n",
              "      <td>180.250000</td>\n",
              "      <td>206.000000</td>\n",
              "    </tr>\n",
              "    <tr>\n",
              "      <th>max</th>\n",
              "      <td>1199.000000</td>\n",
              "      <td>80.000000</td>\n",
              "      <td>246.000000</td>\n",
              "      <td>300.000000</td>\n",
              "    </tr>\n",
              "  </tbody>\n",
              "</table>\n",
              "</div>"
            ],
            "text/plain": [
              "        Unnamed: 0          age       weight  exercise_time\n",
              "count  1200.000000  1200.000000  1200.000000    1200.000000\n",
              "mean    599.500000    48.396667   153.540833     134.910833\n",
              "std     346.554469    18.166802    35.132182      85.548895\n",
              "min       0.000000    18.000000   100.000000       0.000000\n",
              "25%     299.750000    33.000000   125.000000      65.000000\n",
              "50%     599.500000    48.000000   149.000000     122.000000\n",
              "75%     899.250000    64.000000   180.250000     206.000000\n",
              "max    1199.000000    80.000000   246.000000     300.000000"
            ]
          },
          "metadata": {
            "tags": []
          },
          "execution_count": 19
        }
      ]
    },
    {
      "metadata": {
        "id": "HNzMzkGiJjZS",
        "colab_type": "code",
        "colab": {
          "base_uri": "https://localhost:8080/",
          "height": 376
        },
        "outputId": "f9b1e042-2953-4349-bc36-4b8e43ebd9c7"
      },
      "cell_type": "code",
      "source": [
        "import matplotlib.pyplot as plt\n",
        "x = persons_data.exercise_time\n",
        "y = persons_data.weight\n",
        "plt.scatter(x, y)\n",
        "plt.xlabel('Exercise Time')\n",
        "plt.ylabel('Weight')\n",
        "plt.title('Weight by Exercise Time')\n",
        "plt.show()"
      ],
      "execution_count": 24,
      "outputs": [
        {
          "output_type": "display_data",
          "data": {
            "image/png": "[encoded data removed]",
            "text/plain": [
              "<matplotlib.figure.Figure at 0x7fc965e7e6a0>"
            ]
          },
          "metadata": {
            "tags": []
          }
        }
      ]
    },
    {
      "metadata": {
        "id": "fmjov-6qKkXW",
        "colab_type": "code",
        "colab": {
          "base_uri": "https://localhost:8080/",
          "height": 376
        },
        "outputId": "adf302f3-8acb-4a41-b13c-41a8a7c884be"
      },
      "cell_type": "code",
      "source": [
        "x = persons_data.age\n",
        "y = persons_data.weight\n",
        "plt.scatter(x, y)\n",
        "plt.xlabel('Age')\n",
        "plt.ylabel('Weight')\n",
        "plt.title('Weight by Age')\n",
        "plt.show()"
      ],
      "execution_count": 25,
      "outputs": [
        {
          "output_type": "display_data",
          "data": {
            "image/png": "[encoded data removed]",
            "text/plain": [
              "<matplotlib.figure.Figure at 0x7fc965e6ceb8>"
            ]
          },
          "metadata": {
            "tags": []
          }
        }
      ]
    },
    {
      "metadata": {
        "id": "dc0VPIcSK9Dc",
        "colab_type": "code",
        "colab": {
          "base_uri": "https://localhost:8080/",
          "height": 376
        },
        "outputId": "923fb1cb-93fd-4cc5-be11-d04e7e310df6"
      },
      "cell_type": "code",
      "source": [
        "x = persons_data.age\n",
        "y = persons_data.exercise_time\n",
        "plt.scatter(x, y)\n",
        "plt.xlabel('Age')\n",
        "plt.ylabel('Exercise Time')\n",
        "plt.title('Exercise Time by Age')\n",
        "plt.show()"
      ],
      "execution_count": 26,
      "outputs": [
        {
          "output_type": "display_data",
          "data": {
            "image/png": "[encoded data removed]",
            "text/plain": [
              "<matplotlib.figure.Figure at 0x7fc965fd2be0>"
            ]
          },
          "metadata": {
            "tags": []
          }
        }
      ]
    },
    {
      "metadata": {
        "id": "gIqKy-Y6b--S",
        "colab_type": "code",
        "colab": {
          "base_uri": "https://localhost:8080/",
          "height": 237
        },
        "outputId": "4223d7db-8df3-40eb-98ec-e73e4ae0b6a5"
      },
      "cell_type": "code",
      "source": [
        "# pd.crosstab(persons_data['exercise_time'], persons_data['weight'], normalize='columns')\n",
        "exercise_time_bins = pd.cut(persons_data['exercise_time'], 5)\n",
        "weight_bins = pd.cut(persons_data['weight'], 5)\n",
        "age_bins = pd.cut(persons_data['age'], 5)\n",
        "pd.crosstab(exercise_time_bins, weight_bins, normalize='columns')"
      ],
      "execution_count": 28,
      "outputs": [
        {
          "output_type": "execute_result",
          "data": {
            "text/html": [
              "<div>\n",
              "<style scoped>\n",
              "    .dataframe tbody tr th:only-of-type {\n",
              "        vertical-align: middle;\n",
              "    }\n",
              "\n",
              "    .dataframe tbody tr th {\n",
              "        vertical-align: top;\n",
              "    }\n",
              "\n",
              "    .dataframe thead th {\n",
              "        text-align: right;\n",
              "    }\n",
              "</style>\n",
              "<table border=\"1\" class=\"dataframe\">\n",
              "  <thead>\n",
              "    <tr style=\"text-align: right;\">\n",
              "      <th>weight</th>\n",
              "      <th>(99.854, 129.2]</th>\n",
              "      <th>(129.2, 158.4]</th>\n",
              "      <th>(158.4, 187.6]</th>\n",
              "      <th>(187.6, 216.8]</th>\n",
              "      <th>(216.8, 246.0]</th>\n",
              "    </tr>\n",
              "    <tr>\n",
              "      <th>exercise_time</th>\n",
              "      <th></th>\n",
              "      <th></th>\n",
              "      <th></th>\n",
              "      <th></th>\n",
              "      <th></th>\n",
              "    </tr>\n",
              "  </thead>\n",
              "  <tbody>\n",
              "    <tr>\n",
              "      <th>(-0.3, 60.0]</th>\n",
              "      <td>0.141333</td>\n",
              "      <td>0.131343</td>\n",
              "      <td>0.236434</td>\n",
              "      <td>0.424581</td>\n",
              "      <td>0.830189</td>\n",
              "    </tr>\n",
              "    <tr>\n",
              "      <th>(60.0, 120.0]</th>\n",
              "      <td>0.173333</td>\n",
              "      <td>0.226866</td>\n",
              "      <td>0.360465</td>\n",
              "      <td>0.407821</td>\n",
              "      <td>0.169811</td>\n",
              "    </tr>\n",
              "    <tr>\n",
              "      <th>(120.0, 180.0]</th>\n",
              "      <td>0.189333</td>\n",
              "      <td>0.200000</td>\n",
              "      <td>0.217054</td>\n",
              "      <td>0.162011</td>\n",
              "      <td>0.000000</td>\n",
              "    </tr>\n",
              "    <tr>\n",
              "      <th>(180.0, 240.0]</th>\n",
              "      <td>0.210667</td>\n",
              "      <td>0.220896</td>\n",
              "      <td>0.147287</td>\n",
              "      <td>0.005587</td>\n",
              "      <td>0.000000</td>\n",
              "    </tr>\n",
              "    <tr>\n",
              "      <th>(240.0, 300.0]</th>\n",
              "      <td>0.285333</td>\n",
              "      <td>0.220896</td>\n",
              "      <td>0.038760</td>\n",
              "      <td>0.000000</td>\n",
              "      <td>0.000000</td>\n",
              "    </tr>\n",
              "  </tbody>\n",
              "</table>\n",
              "</div>"
            ],
            "text/plain": [
              "weight          (99.854, 129.2]  (129.2, 158.4]  (158.4, 187.6]  \\\n",
              "exercise_time                                                     \n",
              "(-0.3, 60.0]           0.141333        0.131343        0.236434   \n",
              "(60.0, 120.0]          0.173333        0.226866        0.360465   \n",
              "(120.0, 180.0]         0.189333        0.200000        0.217054   \n",
              "(180.0, 240.0]         0.210667        0.220896        0.147287   \n",
              "(240.0, 300.0]         0.285333        0.220896        0.038760   \n",
              "\n",
              "weight          (187.6, 216.8]  (216.8, 246.0]  \n",
              "exercise_time                                   \n",
              "(-0.3, 60.0]          0.424581        0.830189  \n",
              "(60.0, 120.0]         0.407821        0.169811  \n",
              "(120.0, 180.0]        0.162011        0.000000  \n",
              "(180.0, 240.0]        0.005587        0.000000  \n",
              "(240.0, 300.0]        0.000000        0.000000  "
            ]
          },
          "metadata": {
            "tags": []
          },
          "execution_count": 28
        }
      ]
    },
    {
      "metadata": {
        "id": "aa16T0of0snP",
        "colab_type": "code",
        "colab": {
          "base_uri": "https://localhost:8080/",
          "height": 237
        },
        "outputId": "9ce30e9f-fc77-4ebf-dd90-c93631baee37"
      },
      "cell_type": "code",
      "source": [
        "pd.crosstab(exercise_time_bins, age_bins, normalize='columns')"
      ],
      "execution_count": 29,
      "outputs": [
        {
          "output_type": "execute_result",
          "data": {
            "text/html": [
              "<div>\n",
              "<style scoped>\n",
              "    .dataframe tbody tr th:only-of-type {\n",
              "        vertical-align: middle;\n",
              "    }\n",
              "\n",
              "    .dataframe tbody tr th {\n",
              "        vertical-align: top;\n",
              "    }\n",
              "\n",
              "    .dataframe thead th {\n",
              "        text-align: right;\n",
              "    }\n",
              "</style>\n",
              "<table border=\"1\" class=\"dataframe\">\n",
              "  <thead>\n",
              "    <tr style=\"text-align: right;\">\n",
              "      <th>age</th>\n",
              "      <th>(17.938, 30.4]</th>\n",
              "      <th>(30.4, 42.8]</th>\n",
              "      <th>(42.8, 55.2]</th>\n",
              "      <th>(55.2, 67.6]</th>\n",
              "      <th>(67.6, 80.0]</th>\n",
              "    </tr>\n",
              "    <tr>\n",
              "      <th>exercise_time</th>\n",
              "      <th></th>\n",
              "      <th></th>\n",
              "      <th></th>\n",
              "      <th></th>\n",
              "      <th></th>\n",
              "    </tr>\n",
              "  </thead>\n",
              "  <tbody>\n",
              "    <tr>\n",
              "      <th>(-0.3, 60.0]</th>\n",
              "      <td>0.203125</td>\n",
              "      <td>0.205534</td>\n",
              "      <td>0.183857</td>\n",
              "      <td>0.207207</td>\n",
              "      <td>0.353659</td>\n",
              "    </tr>\n",
              "    <tr>\n",
              "      <th>(60.0, 120.0]</th>\n",
              "      <td>0.179688</td>\n",
              "      <td>0.217391</td>\n",
              "      <td>0.188341</td>\n",
              "      <td>0.319820</td>\n",
              "      <td>0.414634</td>\n",
              "    </tr>\n",
              "    <tr>\n",
              "      <th>(120.0, 180.0]</th>\n",
              "      <td>0.210938</td>\n",
              "      <td>0.166008</td>\n",
              "      <td>0.174888</td>\n",
              "      <td>0.180180</td>\n",
              "      <td>0.195122</td>\n",
              "    </tr>\n",
              "    <tr>\n",
              "      <th>(180.0, 240.0]</th>\n",
              "      <td>0.238281</td>\n",
              "      <td>0.185771</td>\n",
              "      <td>0.152466</td>\n",
              "      <td>0.184685</td>\n",
              "      <td>0.036585</td>\n",
              "    </tr>\n",
              "    <tr>\n",
              "      <th>(240.0, 300.0]</th>\n",
              "      <td>0.167969</td>\n",
              "      <td>0.225296</td>\n",
              "      <td>0.300448</td>\n",
              "      <td>0.108108</td>\n",
              "      <td>0.000000</td>\n",
              "    </tr>\n",
              "  </tbody>\n",
              "</table>\n",
              "</div>"
            ],
            "text/plain": [
              "age             (17.938, 30.4]  (30.4, 42.8]  (42.8, 55.2]  (55.2, 67.6]  \\\n",
              "exercise_time                                                              \n",
              "(-0.3, 60.0]          0.203125      0.205534      0.183857      0.207207   \n",
              "(60.0, 120.0]         0.179688      0.217391      0.188341      0.319820   \n",
              "(120.0, 180.0]        0.210938      0.166008      0.174888      0.180180   \n",
              "(180.0, 240.0]        0.238281      0.185771      0.152466      0.184685   \n",
              "(240.0, 300.0]        0.167969      0.225296      0.300448      0.108108   \n",
              "\n",
              "age             (67.6, 80.0]  \n",
              "exercise_time                 \n",
              "(-0.3, 60.0]        0.353659  \n",
              "(60.0, 120.0]       0.414634  \n",
              "(120.0, 180.0]      0.195122  \n",
              "(180.0, 240.0]      0.036585  \n",
              "(240.0, 300.0]      0.000000  "
            ]
          },
          "metadata": {
            "tags": []
          },
          "execution_count": 29
        }
      ]
    },
    {
      "metadata": {
        "id": "eL1NTMsl07nk",
        "colab_type": "code",
        "colab": {
          "base_uri": "https://localhost:8080/",
          "height": 237
        },
        "outputId": "fd1c2528-9b22-4930-a76b-8d0112fa81bd"
      },
      "cell_type": "code",
      "source": [
        "pd.crosstab(age_bins, weight_bins, normalize='columns')"
      ],
      "execution_count": 30,
      "outputs": [
        {
          "output_type": "execute_result",
          "data": {
            "text/html": [
              "<div>\n",
              "<style scoped>\n",
              "    .dataframe tbody tr th:only-of-type {\n",
              "        vertical-align: middle;\n",
              "    }\n",
              "\n",
              "    .dataframe tbody tr th {\n",
              "        vertical-align: top;\n",
              "    }\n",
              "\n",
              "    .dataframe thead th {\n",
              "        text-align: right;\n",
              "    }\n",
              "</style>\n",
              "<table border=\"1\" class=\"dataframe\">\n",
              "  <thead>\n",
              "    <tr style=\"text-align: right;\">\n",
              "      <th>weight</th>\n",
              "      <th>(99.854, 129.2]</th>\n",
              "      <th>(129.2, 158.4]</th>\n",
              "      <th>(158.4, 187.6]</th>\n",
              "      <th>(187.6, 216.8]</th>\n",
              "      <th>(216.8, 246.0]</th>\n",
              "    </tr>\n",
              "    <tr>\n",
              "      <th>age</th>\n",
              "      <th></th>\n",
              "      <th></th>\n",
              "      <th></th>\n",
              "      <th></th>\n",
              "      <th></th>\n",
              "    </tr>\n",
              "  </thead>\n",
              "  <tbody>\n",
              "    <tr>\n",
              "      <th>(17.938, 30.4]</th>\n",
              "      <td>0.213333</td>\n",
              "      <td>0.256716</td>\n",
              "      <td>0.189922</td>\n",
              "      <td>0.189944</td>\n",
              "      <td>0.132075</td>\n",
              "    </tr>\n",
              "    <tr>\n",
              "      <th>(30.4, 42.8]</th>\n",
              "      <td>0.277333</td>\n",
              "      <td>0.185075</td>\n",
              "      <td>0.189922</td>\n",
              "      <td>0.173184</td>\n",
              "      <td>0.132075</td>\n",
              "    </tr>\n",
              "    <tr>\n",
              "      <th>(42.8, 55.2]</th>\n",
              "      <td>0.208000</td>\n",
              "      <td>0.185075</td>\n",
              "      <td>0.189922</td>\n",
              "      <td>0.145251</td>\n",
              "      <td>0.150943</td>\n",
              "    </tr>\n",
              "    <tr>\n",
              "      <th>(55.2, 67.6]</th>\n",
              "      <td>0.141333</td>\n",
              "      <td>0.211940</td>\n",
              "      <td>0.174419</td>\n",
              "      <td>0.245810</td>\n",
              "      <td>0.169811</td>\n",
              "    </tr>\n",
              "    <tr>\n",
              "      <th>(67.6, 80.0]</th>\n",
              "      <td>0.160000</td>\n",
              "      <td>0.161194</td>\n",
              "      <td>0.255814</td>\n",
              "      <td>0.245810</td>\n",
              "      <td>0.415094</td>\n",
              "    </tr>\n",
              "  </tbody>\n",
              "</table>\n",
              "</div>"
            ],
            "text/plain": [
              "weight          (99.854, 129.2]  (129.2, 158.4]  (158.4, 187.6]  \\\n",
              "age                                                               \n",
              "(17.938, 30.4]         0.213333        0.256716        0.189922   \n",
              "(30.4, 42.8]           0.277333        0.185075        0.189922   \n",
              "(42.8, 55.2]           0.208000        0.185075        0.189922   \n",
              "(55.2, 67.6]           0.141333        0.211940        0.174419   \n",
              "(67.6, 80.0]           0.160000        0.161194        0.255814   \n",
              "\n",
              "weight          (187.6, 216.8]  (216.8, 246.0]  \n",
              "age                                             \n",
              "(17.938, 30.4]        0.189944        0.132075  \n",
              "(30.4, 42.8]          0.173184        0.132075  \n",
              "(42.8, 55.2]          0.145251        0.150943  \n",
              "(55.2, 67.6]          0.245810        0.169811  \n",
              "(67.6, 80.0]          0.245810        0.415094  "
            ]
          },
          "metadata": {
            "tags": []
          },
          "execution_count": 30
        }
      ]
    },
    {
      "metadata": {
        "id": "gfR79y2l1d_l",
        "colab_type": "code",
        "colab": {
          "base_uri": "https://localhost:8080/",
          "height": 35
        },
        "outputId": "e1d77393-d574-4d69-a65d-de1e65985cf3"
      },
      "cell_type": "code",
      "source": [
        "persons_data.age.dtype"
      ],
      "execution_count": 33,
      "outputs": [
        {
          "output_type": "execute_result",
          "data": {
            "text/plain": [
              "dtype('int64')"
            ]
          },
          "metadata": {
            "tags": []
          },
          "execution_count": 33
        }
      ]
    },
    {
      "metadata": {
        "id": "_VPudPwu1uNp",
        "colab_type": "code",
        "colab": {
          "base_uri": "https://localhost:8080/",
          "height": 35
        },
        "outputId": "fd59143e-af66-4bfa-969c-cbec50691e6f"
      },
      "cell_type": "code",
      "source": [
        "persons_data.weight.dtype"
      ],
      "execution_count": 34,
      "outputs": [
        {
          "output_type": "execute_result",
          "data": {
            "text/plain": [
              "dtype('int64')"
            ]
          },
          "metadata": {
            "tags": []
          },
          "execution_count": 34
        }
      ]
    },
    {
      "metadata": {
        "id": "d1ODn57x1yPt",
        "colab_type": "code",
        "colab": {
          "base_uri": "https://localhost:8080/",
          "height": 35
        },
        "outputId": "bafc10ab-441c-42e6-e42e-f7e5154b7ac0"
      },
      "cell_type": "code",
      "source": [
        "persons_data.exercise_time.dtype"
      ],
      "execution_count": 35,
      "outputs": [
        {
          "output_type": "execute_result",
          "data": {
            "text/plain": [
              "dtype('int64')"
            ]
          },
          "metadata": {
            "tags": []
          },
          "execution_count": 35
        }
      ]
    },
    {
      "metadata": {
        "id": "BT9gdS7viJZa",
        "colab_type": "text"
      },
      "cell_type": "markdown",
      "source": [
        "### Assignment questions\n",
        "\n",
        "After you've worked on some code, answer the following questions in this text block:\n",
        "\n",
        "1.  What are the variable types in the data?\n",
        "2.  What are the relationships between the variables?\n",
        "3.  Which relationships are \"real\", and which spurious?\n"
      ]
    },
    {
      "metadata": {
        "id": "BaQARQqu1SFp",
        "colab_type": "text"
      },
      "cell_type": "markdown",
      "source": [
        "1. They're all integers.\n",
        "2. Weight tends to go down with increasing exercise time. There is little correlation between weight and age. There is little correlation between age and exercise time until age reaches about 60, when maximum exercise time starts to go down.\n",
        "3. All the above relationships are real. There may be others that are spurious, but I didn't find them."
      ]
    },
    {
      "metadata": {
        "id": "_XXg2crAipwP",
        "colab_type": "text"
      },
      "cell_type": "markdown",
      "source": [
        "## Stretch goals and resources\n",
        "\n",
        "Following are *optional* things for you to take a look at. Focus on the above assignment first, and make sure to commit and push your changes to GitHub.\n",
        "\n",
        "- [Spurious Correlations](http://tylervigen.com/spurious-correlations)\n",
        "- [NIH on controlling for confounding variables](https://www.ncbi.nlm.nih.gov/pmc/articles/PMC4017459/)\n",
        "\n",
        "Stretch goals:\n",
        "\n",
        "- Produce your own plot inspierd by the Spurious Correlation visualizations (and consider writing a blog post about it - both the content and how you made it)\n",
        "- Pick one of the techniques that NIH highlights for confounding variables - we'll be going into many of them later, but see if you can find which Python modules may help (hint - check scikit-learn)"
      ]
    }
  ]
}