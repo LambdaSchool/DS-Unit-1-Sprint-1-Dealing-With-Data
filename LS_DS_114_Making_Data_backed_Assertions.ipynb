{
  "nbformat": 4,
  "nbformat_minor": 0,
  "metadata": {
    "colab": {
      "name": "LS_DS_114_Making_Data_backed_Assertions.ipynb",
      "version": "0.3.2",
      "provenance": [],
      "collapsed_sections": [],
      "include_colab_link": true
    },
    "kernelspec": {
      "name": "python3",
      "display_name": "Python 3"
    },
    "accelerator": "GPU"
  },
  "cells": [
    {
      "cell_type": "markdown",
      "metadata": {
        "id": "view-in-github",
        "colab_type": "text"
      },
      "source": [
        "<a href=\"https://colab.research.google.com/github/standroidbeta/DS-Unit-1-Sprint-1-Dealing-With-Data/blob/master/LS_DS_114_Making_Data_backed_Assertions.ipynb\" target=\"_parent\"><img src=\"https://colab.research.google.com/assets/colab-badge.svg\" alt=\"Open In Colab\"/></a>"
      ]
    },
    {
      "metadata": {
        "id": "Okfr_uhwhS1X",
        "colab_type": "text"
      },
      "cell_type": "markdown",
      "source": [
        "# Lambda School Data Science - Making Data-backed Assertions\n",
        "\n",
        "This is, for many, the main point of data science - to create and support reasoned arguments based on evidence. It's not a topic to master in a day, but it is worth some focused time thinking about and structuring your approach to it."
      ]
    },
    {
      "metadata": {
        "id": "9dtJETFRhnOG",
        "colab_type": "text"
      },
      "cell_type": "markdown",
      "source": [
        "## Lecture - generating a confounding variable\n",
        "\n",
        "The prewatch material told a story about a hypothetical health condition where both the drug usage and overall health outcome were related to gender - thus making gender a confounding variable, obfuscating the possible relationship between the drug and the outcome.\n",
        "\n",
        "Let's use Python to generate data that actually behaves in this fashion!"
      ]
    },
    {
      "metadata": {
        "id": "WiBkgmPJhmhE",
        "colab_type": "code",
        "colab": {}
      },
      "cell_type": "code",
      "source": [
        "import random\n",
        "import random\n",
        "random.seed(42) # Random seed for reproducibility\n",
        "# dir(random)  # Reminding ourselves what we can do here"
      ],
      "execution_count": 0,
      "outputs": []
    },
    {
      "metadata": {
        "id": "Ks5qFtpnq-q5",
        "colab_type": "code",
        "outputId": "6d2279ea-35ac-4756-e4fd-5f3b6fad0d17",
        "colab": {
          "base_uri": "https://localhost:8080/",
          "height": 34
        }
      },
      "cell_type": "code",
      "source": [
        "# Let's think of another scenario:\n",
        "# We work for a company that sells accessories for mobile phones.\n",
        "# They have an ecommerce site, and we are supposed to analyze logs\n",
        "# to determine what sort of usage is related to purchases, and thus guide\n",
        "# website development to encourage higher conversion.\n",
        "\n",
        "# The hypothesis - users who spend longer on the site tend\n",
        "# to spend more. Seems reasonable, no?\n",
        "\n",
        "# But there's a confounding variable! If they're on a phone, they:\n",
        "# a) Spend less time on the site, but\n",
        "# b) Are more likely to be interested in the actual products!\n",
        "\n",
        "# Let's use namedtuple to represent our data\n",
        "\n",
        "from collections import namedtuple\n",
        "# purchased and mobile are bools, time_on_site in seconds\n",
        "User = namedtuple('User', ['purchased','time_on_site', 'mobile'])\n",
        "\n",
        "example_user = User(False, 12, False)\n",
        "print(example_user)"
      ],
      "execution_count": 4,
      "outputs": [
        {
          "output_type": "stream",
          "text": [
            "User(purchased=False, time_on_site=12, mobile=False)\n"
          ],
          "name": "stdout"
        }
      ]
    },
    {
      "metadata": {
        "id": "lfPiHNG_sefL",
        "colab_type": "code",
        "outputId": "de3e2d37-8ecf-4fc9-91ba-9342b75bf3d7",
        "colab": {
          "base_uri": "https://localhost:8080/",
          "height": 54
        }
      },
      "cell_type": "code",
      "source": [
        "# And now let's generate 1000 example users\n",
        "# 750 mobile, 250 not (i.e. desktop)\n",
        "# A desktop user has a base conversion likelihood of 10%\n",
        "# And it goes up by 1% for each 15 seconds they spend on the site\n",
        "# And they spend anywhere from 10 seconds to 10 minutes on the site (uniform)\n",
        "# Mobile users spend on average half as much time on the site as desktop\n",
        "# But have three times as much base likelihood of buying something\n",
        "\n",
        "users = []\n",
        "\n",
        "for _ in range(250):\n",
        "  # Desktop users\n",
        "  time_on_site = random.uniform(10, 600)\n",
        "  purchased = random.random() < 0.1 + (time_on_site / 1500)\n",
        "  users.append(User(purchased, time_on_site, False))\n",
        "  \n",
        "for _ in range(750):\n",
        "  # Mobile users\n",
        "  time_on_site = random.uniform(5, 300)\n",
        "  purchased = random.random() < 0.3 + (time_on_site / 1500)\n",
        "  users.append(User(purchased, time_on_site, True))\n",
        "  \n",
        "random.shuffle(users)\n",
        "print(users[:10])"
      ],
      "execution_count": 5,
      "outputs": [
        {
          "output_type": "stream",
          "text": [
            "[User(purchased=False, time_on_site=150.42273427770718, mobile=False), User(purchased=True, time_on_site=284.06235530493245, mobile=True), User(purchased=True, time_on_site=140.37976895454653, mobile=True), User(purchased=True, time_on_site=49.206452507812216, mobile=True), User(purchased=False, time_on_site=167.81563803588924, mobile=True), User(purchased=False, time_on_site=20.484876517641524, mobile=True), User(purchased=False, time_on_site=167.3540069049869, mobile=True), User(purchased=False, time_on_site=447.75054592529114, mobile=False), User(purchased=True, time_on_site=57.93525538719398, mobile=True), User(purchased=True, time_on_site=292.6494305470663, mobile=True)]\n"
          ],
          "name": "stdout"
        }
      ]
    },
    {
      "metadata": {
        "id": "9gDYb5qGuRzy",
        "colab_type": "code",
        "outputId": "02f923fd-2b73-4af1-b939-718494c163de",
        "colab": {
          "base_uri": "https://localhost:8080/",
          "height": 204
        }
      },
      "cell_type": "code",
      "source": [
        "# Let's put this in a dataframe so we can look at it more easily\n",
        "import pandas as pd\n",
        "user_data = pd.DataFrame(users)\n",
        "user_data.head()"
      ],
      "execution_count": 6,
      "outputs": [
        {
          "output_type": "execute_result",
          "data": {
            "text/html": [
              "<div>\n",
              "<style scoped>\n",
              "    .dataframe tbody tr th:only-of-type {\n",
              "        vertical-align: middle;\n",
              "    }\n",
              "\n",
              "    .dataframe tbody tr th {\n",
              "        vertical-align: top;\n",
              "    }\n",
              "\n",
              "    .dataframe thead th {\n",
              "        text-align: right;\n",
              "    }\n",
              "</style>\n",
              "<table border=\"1\" class=\"dataframe\">\n",
              "  <thead>\n",
              "    <tr style=\"text-align: right;\">\n",
              "      <th></th>\n",
              "      <th>purchased</th>\n",
              "      <th>time_on_site</th>\n",
              "      <th>mobile</th>\n",
              "    </tr>\n",
              "  </thead>\n",
              "  <tbody>\n",
              "    <tr>\n",
              "      <th>0</th>\n",
              "      <td>False</td>\n",
              "      <td>150.422734</td>\n",
              "      <td>False</td>\n",
              "    </tr>\n",
              "    <tr>\n",
              "      <th>1</th>\n",
              "      <td>True</td>\n",
              "      <td>284.062355</td>\n",
              "      <td>True</td>\n",
              "    </tr>\n",
              "    <tr>\n",
              "      <th>2</th>\n",
              "      <td>True</td>\n",
              "      <td>140.379769</td>\n",
              "      <td>True</td>\n",
              "    </tr>\n",
              "    <tr>\n",
              "      <th>3</th>\n",
              "      <td>True</td>\n",
              "      <td>49.206453</td>\n",
              "      <td>True</td>\n",
              "    </tr>\n",
              "    <tr>\n",
              "      <th>4</th>\n",
              "      <td>False</td>\n",
              "      <td>167.815638</td>\n",
              "      <td>True</td>\n",
              "    </tr>\n",
              "  </tbody>\n",
              "</table>\n",
              "</div>"
            ],
            "text/plain": [
              "   purchased  time_on_site  mobile\n",
              "0      False    150.422734   False\n",
              "1       True    284.062355    True\n",
              "2       True    140.379769    True\n",
              "3       True     49.206453    True\n",
              "4      False    167.815638    True"
            ]
          },
          "metadata": {
            "tags": []
          },
          "execution_count": 6
        }
      ]
    },
    {
      "metadata": {
        "id": "sr6IJv77ulVl",
        "colab_type": "code",
        "outputId": "35e42218-4015-4e87-ba7e-91d53c3511f6",
        "colab": {
          "base_uri": "https://localhost:8080/",
          "height": 208
        }
      },
      "cell_type": "code",
      "source": [
        "# Let's use crosstabulation to try to see what's going on\n",
        "print(pd.crosstab(user_data['purchased'], user_data['time_on_site']).shape)\n",
        "pd.crosstab(user_data['purchased'], user_data['time_on_site'])"
      ],
      "execution_count": 7,
      "outputs": [
        {
          "output_type": "stream",
          "text": [
            "(2, 1000)\n"
          ],
          "name": "stdout"
        },
        {
          "output_type": "execute_result",
          "data": {
            "text/html": [
              "<div>\n",
              "<style scoped>\n",
              "    .dataframe tbody tr th:only-of-type {\n",
              "        vertical-align: middle;\n",
              "    }\n",
              "\n",
              "    .dataframe tbody tr th {\n",
              "        vertical-align: top;\n",
              "    }\n",
              "\n",
              "    .dataframe thead th {\n",
              "        text-align: right;\n",
              "    }\n",
              "</style>\n",
              "<table border=\"1\" class=\"dataframe\">\n",
              "  <thead>\n",
              "    <tr style=\"text-align: right;\">\n",
              "      <th>time_on_site</th>\n",
              "      <th>5.789338167851291</th>\n",
              "      <th>5.836487686604824</th>\n",
              "      <th>7.267690340465448</th>\n",
              "      <th>7.280322437947023</th>\n",
              "      <th>7.733814701629437</th>\n",
              "      <th>7.772242279186957</th>\n",
              "      <th>7.994578759409748</th>\n",
              "      <th>8.373541587279558</th>\n",
              "      <th>9.106003254765849</th>\n",
              "      <th>9.38379653305911</th>\n",
              "      <th>...</th>\n",
              "      <th>582.5363605031145</th>\n",
              "      <th>582.9362427920347</th>\n",
              "      <th>588.8783154469735</th>\n",
              "      <th>590.65747470592</th>\n",
              "      <th>593.8187768755912</th>\n",
              "      <th>597.1381204299279</th>\n",
              "      <th>597.7116143416571</th>\n",
              "      <th>598.547187832115</th>\n",
              "      <th>599.088120104121</th>\n",
              "      <th>599.5766563635087</th>\n",
              "    </tr>\n",
              "    <tr>\n",
              "      <th>purchased</th>\n",
              "      <th></th>\n",
              "      <th></th>\n",
              "      <th></th>\n",
              "      <th></th>\n",
              "      <th></th>\n",
              "      <th></th>\n",
              "      <th></th>\n",
              "      <th></th>\n",
              "      <th></th>\n",
              "      <th></th>\n",
              "      <th></th>\n",
              "      <th></th>\n",
              "      <th></th>\n",
              "      <th></th>\n",
              "      <th></th>\n",
              "      <th></th>\n",
              "      <th></th>\n",
              "      <th></th>\n",
              "      <th></th>\n",
              "      <th></th>\n",
              "      <th></th>\n",
              "    </tr>\n",
              "  </thead>\n",
              "  <tbody>\n",
              "    <tr>\n",
              "      <th>False</th>\n",
              "      <td>1</td>\n",
              "      <td>1</td>\n",
              "      <td>0</td>\n",
              "      <td>1</td>\n",
              "      <td>1</td>\n",
              "      <td>1</td>\n",
              "      <td>1</td>\n",
              "      <td>1</td>\n",
              "      <td>1</td>\n",
              "      <td>1</td>\n",
              "      <td>...</td>\n",
              "      <td>0</td>\n",
              "      <td>1</td>\n",
              "      <td>1</td>\n",
              "      <td>0</td>\n",
              "      <td>1</td>\n",
              "      <td>1</td>\n",
              "      <td>1</td>\n",
              "      <td>1</td>\n",
              "      <td>1</td>\n",
              "      <td>1</td>\n",
              "    </tr>\n",
              "    <tr>\n",
              "      <th>True</th>\n",
              "      <td>0</td>\n",
              "      <td>0</td>\n",
              "      <td>1</td>\n",
              "      <td>0</td>\n",
              "      <td>0</td>\n",
              "      <td>0</td>\n",
              "      <td>0</td>\n",
              "      <td>0</td>\n",
              "      <td>0</td>\n",
              "      <td>0</td>\n",
              "      <td>...</td>\n",
              "      <td>1</td>\n",
              "      <td>0</td>\n",
              "      <td>0</td>\n",
              "      <td>1</td>\n",
              "      <td>0</td>\n",
              "      <td>0</td>\n",
              "      <td>0</td>\n",
              "      <td>0</td>\n",
              "      <td>0</td>\n",
              "      <td>0</td>\n",
              "    </tr>\n",
              "  </tbody>\n",
              "</table>\n",
              "<p>2 rows × 1000 columns</p>\n",
              "</div>"
            ],
            "text/plain": [
              "time_on_site  5.789338    5.836488    7.267690    7.280322    7.733815    \\\n",
              "purchased                                                                  \n",
              "False                  1           1           0           1           1   \n",
              "True                   0           0           1           0           0   \n",
              "\n",
              "time_on_site  7.772242    7.994579    8.373542    9.106003    9.383797    \\\n",
              "purchased                                                                  \n",
              "False                  1           1           1           1           1   \n",
              "True                   0           0           0           0           0   \n",
              "\n",
              "time_on_site     ...      582.536361  582.936243  588.878315  590.657475  \\\n",
              "purchased        ...                                                       \n",
              "False            ...               0           1           1           0   \n",
              "True             ...               1           0           0           1   \n",
              "\n",
              "time_on_site  593.818777  597.138120  597.711614  598.547188  599.088120  \\\n",
              "purchased                                                                  \n",
              "False                  1           1           1           1           1   \n",
              "True                   0           0           0           0           0   \n",
              "\n",
              "time_on_site  599.576656  \n",
              "purchased                 \n",
              "False                  1  \n",
              "True                   0  \n",
              "\n",
              "[2 rows x 1000 columns]"
            ]
          },
          "metadata": {
            "tags": []
          },
          "execution_count": 7
        }
      ]
    },
    {
      "metadata": {
        "id": "hvAv6J3EwA9s",
        "colab_type": "code",
        "outputId": "02c490ed-a098-4127-d3c1-9467bb90760a",
        "colab": {
          "base_uri": "https://localhost:8080/",
          "height": 142
        }
      },
      "cell_type": "code",
      "source": [
        "# OK, that's not quite what we want\n",
        "# Time is continuous! We need to put it in discrete buckets\n",
        "# Pandas calls these bins, and pandas.cut helps make them\n",
        "\n",
        "time_bins = pd.cut(user_data['time_on_site'], 5)  # 5 equal-sized bins\n",
        "pd.crosstab(user_data['purchased'], time_bins)"
      ],
      "execution_count": 8,
      "outputs": [
        {
          "output_type": "execute_result",
          "data": {
            "text/html": [
              "<div>\n",
              "<style scoped>\n",
              "    .dataframe tbody tr th:only-of-type {\n",
              "        vertical-align: middle;\n",
              "    }\n",
              "\n",
              "    .dataframe tbody tr th {\n",
              "        vertical-align: top;\n",
              "    }\n",
              "\n",
              "    .dataframe thead th {\n",
              "        text-align: right;\n",
              "    }\n",
              "</style>\n",
              "<table border=\"1\" class=\"dataframe\">\n",
              "  <thead>\n",
              "    <tr style=\"text-align: right;\">\n",
              "      <th>time_on_site</th>\n",
              "      <th>(5.196, 124.547]</th>\n",
              "      <th>(124.547, 243.304]</th>\n",
              "      <th>(243.304, 362.062]</th>\n",
              "      <th>(362.062, 480.819]</th>\n",
              "      <th>(480.819, 599.577]</th>\n",
              "    </tr>\n",
              "    <tr>\n",
              "      <th>purchased</th>\n",
              "      <th></th>\n",
              "      <th></th>\n",
              "      <th></th>\n",
              "      <th></th>\n",
              "      <th></th>\n",
              "    </tr>\n",
              "  </thead>\n",
              "  <tbody>\n",
              "    <tr>\n",
              "      <th>False</th>\n",
              "      <td>227</td>\n",
              "      <td>238</td>\n",
              "      <td>111</td>\n",
              "      <td>23</td>\n",
              "      <td>37</td>\n",
              "    </tr>\n",
              "    <tr>\n",
              "      <th>True</th>\n",
              "      <td>106</td>\n",
              "      <td>133</td>\n",
              "      <td>84</td>\n",
              "      <td>20</td>\n",
              "      <td>21</td>\n",
              "    </tr>\n",
              "  </tbody>\n",
              "</table>\n",
              "</div>"
            ],
            "text/plain": [
              "time_on_site  (5.196, 124.547]  (124.547, 243.304]  (243.304, 362.062]  \\\n",
              "purchased                                                                \n",
              "False                      227                 238                 111   \n",
              "True                       106                 133                  84   \n",
              "\n",
              "time_on_site  (362.062, 480.819]  (480.819, 599.577]  \n",
              "purchased                                             \n",
              "False                         23                  37  \n",
              "True                          20                  21  "
            ]
          },
          "metadata": {
            "tags": []
          },
          "execution_count": 8
        }
      ]
    },
    {
      "metadata": {
        "id": "pjcXnJw0wfaj",
        "colab_type": "code",
        "outputId": "f1f50d2c-7e44-4498-c852-8304c269fa3c",
        "colab": {
          "base_uri": "https://localhost:8080/",
          "height": 142
        }
      },
      "cell_type": "code",
      "source": [
        "# We can make this a bit clearer by normalizing (getting %)\n",
        "pd.crosstab(user_data['purchased'], time_bins, normalize='columns')"
      ],
      "execution_count": 9,
      "outputs": [
        {
          "output_type": "execute_result",
          "data": {
            "text/html": [
              "<div>\n",
              "<style scoped>\n",
              "    .dataframe tbody tr th:only-of-type {\n",
              "        vertical-align: middle;\n",
              "    }\n",
              "\n",
              "    .dataframe tbody tr th {\n",
              "        vertical-align: top;\n",
              "    }\n",
              "\n",
              "    .dataframe thead th {\n",
              "        text-align: right;\n",
              "    }\n",
              "</style>\n",
              "<table border=\"1\" class=\"dataframe\">\n",
              "  <thead>\n",
              "    <tr style=\"text-align: right;\">\n",
              "      <th>time_on_site</th>\n",
              "      <th>(5.196, 124.547]</th>\n",
              "      <th>(124.547, 243.304]</th>\n",
              "      <th>(243.304, 362.062]</th>\n",
              "      <th>(362.062, 480.819]</th>\n",
              "      <th>(480.819, 599.577]</th>\n",
              "    </tr>\n",
              "    <tr>\n",
              "      <th>purchased</th>\n",
              "      <th></th>\n",
              "      <th></th>\n",
              "      <th></th>\n",
              "      <th></th>\n",
              "      <th></th>\n",
              "    </tr>\n",
              "  </thead>\n",
              "  <tbody>\n",
              "    <tr>\n",
              "      <th>False</th>\n",
              "      <td>0.681682</td>\n",
              "      <td>0.641509</td>\n",
              "      <td>0.569231</td>\n",
              "      <td>0.534884</td>\n",
              "      <td>0.637931</td>\n",
              "    </tr>\n",
              "    <tr>\n",
              "      <th>True</th>\n",
              "      <td>0.318318</td>\n",
              "      <td>0.358491</td>\n",
              "      <td>0.430769</td>\n",
              "      <td>0.465116</td>\n",
              "      <td>0.362069</td>\n",
              "    </tr>\n",
              "  </tbody>\n",
              "</table>\n",
              "</div>"
            ],
            "text/plain": [
              "time_on_site  (5.196, 124.547]  (124.547, 243.304]  (243.304, 362.062]  \\\n",
              "purchased                                                                \n",
              "False                 0.681682            0.641509            0.569231   \n",
              "True                  0.318318            0.358491            0.430769   \n",
              "\n",
              "time_on_site  (362.062, 480.819]  (480.819, 599.577]  \n",
              "purchased                                             \n",
              "False                   0.534884            0.637931  \n",
              "True                    0.465116            0.362069  "
            ]
          },
          "metadata": {
            "tags": []
          },
          "execution_count": 9
        }
      ]
    },
    {
      "metadata": {
        "id": "C3GzvDxlvZMa",
        "colab_type": "code",
        "outputId": "c3cbc43d-4003-49bc-dcf2-99f48c593766",
        "colab": {
          "base_uri": "https://localhost:8080/",
          "height": 142
        }
      },
      "cell_type": "code",
      "source": [
        "# That seems counter to our hypothesis\n",
        "# More time on the site can actually have fewer purchases\n",
        "\n",
        "# But we know why, since we generated the data!\n",
        "# Let's look at mobile and purchased\n",
        "pd.crosstab(user_data['purchased'], user_data['mobile'], normalize='columns')"
      ],
      "execution_count": 10,
      "outputs": [
        {
          "output_type": "execute_result",
          "data": {
            "text/html": [
              "<div>\n",
              "<style scoped>\n",
              "    .dataframe tbody tr th:only-of-type {\n",
              "        vertical-align: middle;\n",
              "    }\n",
              "\n",
              "    .dataframe tbody tr th {\n",
              "        vertical-align: top;\n",
              "    }\n",
              "\n",
              "    .dataframe thead th {\n",
              "        text-align: right;\n",
              "    }\n",
              "</style>\n",
              "<table border=\"1\" class=\"dataframe\">\n",
              "  <thead>\n",
              "    <tr style=\"text-align: right;\">\n",
              "      <th>mobile</th>\n",
              "      <th>False</th>\n",
              "      <th>True</th>\n",
              "    </tr>\n",
              "    <tr>\n",
              "      <th>purchased</th>\n",
              "      <th></th>\n",
              "      <th></th>\n",
              "    </tr>\n",
              "  </thead>\n",
              "  <tbody>\n",
              "    <tr>\n",
              "      <th>False</th>\n",
              "      <td>0.704</td>\n",
              "      <td>0.613333</td>\n",
              "    </tr>\n",
              "    <tr>\n",
              "      <th>True</th>\n",
              "      <td>0.296</td>\n",
              "      <td>0.386667</td>\n",
              "    </tr>\n",
              "  </tbody>\n",
              "</table>\n",
              "</div>"
            ],
            "text/plain": [
              "mobile     False     True \n",
              "purchased                 \n",
              "False      0.704  0.613333\n",
              "True       0.296  0.386667"
            ]
          },
          "metadata": {
            "tags": []
          },
          "execution_count": 10
        }
      ]
    },
    {
      "metadata": {
        "id": "KQb-wU60xCum",
        "colab_type": "code",
        "outputId": "1715a903-3794-494c-a77e-31db5163619c",
        "colab": {
          "base_uri": "https://localhost:8080/",
          "height": 173
        }
      },
      "cell_type": "code",
      "source": [
        "# Yep, mobile users are more likely to buy things\n",
        "# But we're still not seeing the *whole* story until we look at all 3 at once\n",
        "pd.crosstab(user_data['mobile'], [user_data['purchased'], time_bins], \n",
        "            rownames=['device'], \n",
        "            colnames=[\"purchased\", \"time on site\"], \n",
        "            normalize='index')\n",
        "# Live/stretch goal - how can we do that?"
      ],
      "execution_count": 11,
      "outputs": [
        {
          "output_type": "execute_result",
          "data": {
            "text/html": [
              "<div>\n",
              "<style scoped>\n",
              "    .dataframe tbody tr th:only-of-type {\n",
              "        vertical-align: middle;\n",
              "    }\n",
              "\n",
              "    .dataframe tbody tr th {\n",
              "        vertical-align: top;\n",
              "    }\n",
              "\n",
              "    .dataframe thead tr th {\n",
              "        text-align: left;\n",
              "    }\n",
              "\n",
              "    .dataframe thead tr:last-of-type th {\n",
              "        text-align: right;\n",
              "    }\n",
              "</style>\n",
              "<table border=\"1\" class=\"dataframe\">\n",
              "  <thead>\n",
              "    <tr>\n",
              "      <th>purchased</th>\n",
              "      <th colspan=\"5\" halign=\"left\">False</th>\n",
              "      <th colspan=\"5\" halign=\"left\">True</th>\n",
              "    </tr>\n",
              "    <tr>\n",
              "      <th>time on site</th>\n",
              "      <th>(5.196, 124.547]</th>\n",
              "      <th>(124.547, 243.304]</th>\n",
              "      <th>(243.304, 362.062]</th>\n",
              "      <th>(362.062, 480.819]</th>\n",
              "      <th>(480.819, 599.577]</th>\n",
              "      <th>(5.196, 124.547]</th>\n",
              "      <th>(124.547, 243.304]</th>\n",
              "      <th>(243.304, 362.062]</th>\n",
              "      <th>(362.062, 480.819]</th>\n",
              "      <th>(480.819, 599.577]</th>\n",
              "    </tr>\n",
              "    <tr>\n",
              "      <th>device</th>\n",
              "      <th></th>\n",
              "      <th></th>\n",
              "      <th></th>\n",
              "      <th></th>\n",
              "      <th></th>\n",
              "      <th></th>\n",
              "      <th></th>\n",
              "      <th></th>\n",
              "      <th></th>\n",
              "      <th></th>\n",
              "    </tr>\n",
              "  </thead>\n",
              "  <tbody>\n",
              "    <tr>\n",
              "      <th>False</th>\n",
              "      <td>0.148000</td>\n",
              "      <td>0.172</td>\n",
              "      <td>0.144</td>\n",
              "      <td>0.092</td>\n",
              "      <td>0.148</td>\n",
              "      <td>0.016</td>\n",
              "      <td>0.044000</td>\n",
              "      <td>0.072</td>\n",
              "      <td>0.08</td>\n",
              "      <td>0.084</td>\n",
              "    </tr>\n",
              "    <tr>\n",
              "      <th>True</th>\n",
              "      <td>0.253333</td>\n",
              "      <td>0.260</td>\n",
              "      <td>0.100</td>\n",
              "      <td>0.000</td>\n",
              "      <td>0.000</td>\n",
              "      <td>0.136</td>\n",
              "      <td>0.162667</td>\n",
              "      <td>0.088</td>\n",
              "      <td>0.00</td>\n",
              "      <td>0.000</td>\n",
              "    </tr>\n",
              "  </tbody>\n",
              "</table>\n",
              "</div>"
            ],
            "text/plain": [
              "purchased               False                                        \\\n",
              "time on site (5.196, 124.547] (124.547, 243.304] (243.304, 362.062]   \n",
              "device                                                                \n",
              "False                0.148000              0.172              0.144   \n",
              "True                 0.253333              0.260              0.100   \n",
              "\n",
              "purchased                                                     True   \\\n",
              "time on site (362.062, 480.819] (480.819, 599.577] (5.196, 124.547]   \n",
              "device                                                                \n",
              "False                     0.092              0.148            0.016   \n",
              "True                      0.000              0.000            0.136   \n",
              "\n",
              "purchased                                                              \\\n",
              "time on site (124.547, 243.304] (243.304, 362.062] (362.062, 480.819]   \n",
              "device                                                                  \n",
              "False                  0.044000              0.072               0.08   \n",
              "True                   0.162667              0.088               0.00   \n",
              "\n",
              "purchased                        \n",
              "time on site (480.819, 599.577]  \n",
              "device                           \n",
              "False                     0.084  \n",
              "True                      0.000  "
            ]
          },
          "metadata": {
            "tags": []
          },
          "execution_count": 11
        }
      ]
    },
    {
      "metadata": {
        "id": "7_zPxMNTCsQn",
        "colab_type": "code",
        "outputId": "c144f32f-6015-4ea7-d713-05729b88a68c",
        "colab": {
          "base_uri": "https://localhost:8080/",
          "height": 6344
        }
      },
      "cell_type": "code",
      "source": [
        "help(user_data.plot)"
      ],
      "execution_count": 12,
      "outputs": [
        {
          "output_type": "stream",
          "text": [
            "Help on FramePlotMethods in module pandas.plotting._core object:\n",
            "\n",
            "class FramePlotMethods(BasePlotMethods)\n",
            " |  DataFrame plotting accessor and method\n",
            " |  \n",
            " |  Examples\n",
            " |  --------\n",
            " |  >>> df.plot.line()\n",
            " |  >>> df.plot.scatter('x', 'y')\n",
            " |  >>> df.plot.hexbin()\n",
            " |  \n",
            " |  These plotting methods can also be accessed by calling the accessor as a\n",
            " |  method with the ``kind`` argument:\n",
            " |  ``df.plot(kind='line')`` is equivalent to ``df.plot.line()``\n",
            " |  \n",
            " |  Method resolution order:\n",
            " |      FramePlotMethods\n",
            " |      BasePlotMethods\n",
            " |      pandas.core.base.PandasObject\n",
            " |      pandas.core.base.StringMixin\n",
            " |      pandas.core.accessor.DirNamesMixin\n",
            " |      builtins.object\n",
            " |  \n",
            " |  Methods defined here:\n",
            " |  \n",
            " |  __call__(self, x=None, y=None, kind='line', ax=None, subplots=False, sharex=None, sharey=False, layout=None, figsize=None, use_index=True, title=None, grid=None, legend=True, style=None, logx=False, logy=False, loglog=False, xticks=None, yticks=None, xlim=None, ylim=None, rot=None, fontsize=None, colormap=None, table=False, yerr=None, xerr=None, secondary_y=False, sort_columns=False, **kwds)\n",
            " |      Make plots of DataFrame using matplotlib / pylab.\n",
            " |      \n",
            " |      *New in version 0.17.0:* Each plot kind has a corresponding method on the\n",
            " |      ``DataFrame.plot`` accessor:\n",
            " |      ``df.plot(kind='line')`` is equivalent to\n",
            " |      ``df.plot.line()``.\n",
            " |      \n",
            " |      Parameters\n",
            " |      ----------\n",
            " |      data : DataFrame\n",
            " |      x : label or position, default None\n",
            " |      y : label or position, default None\n",
            " |          Allows plotting of one column versus another\n",
            " |      kind : str\n",
            " |          - 'line' : line plot (default)\n",
            " |          - 'bar' : vertical bar plot\n",
            " |          - 'barh' : horizontal bar plot\n",
            " |          - 'hist' : histogram\n",
            " |          - 'box' : boxplot\n",
            " |          - 'kde' : Kernel Density Estimation plot\n",
            " |          - 'density' : same as 'kde'\n",
            " |          - 'area' : area plot\n",
            " |          - 'pie' : pie plot\n",
            " |          - 'scatter' : scatter plot\n",
            " |          - 'hexbin' : hexbin plot\n",
            " |      ax : matplotlib axes object, default None\n",
            " |      subplots : boolean, default False\n",
            " |          Make separate subplots for each column\n",
            " |      sharex : boolean, default True if ax is None else False\n",
            " |          In case subplots=True, share x axis and set some x axis labels to\n",
            " |          invisible; defaults to True if ax is None otherwise False if an ax\n",
            " |          is passed in; Be aware, that passing in both an ax and sharex=True\n",
            " |          will alter all x axis labels for all axis in a figure!\n",
            " |      sharey : boolean, default False\n",
            " |          In case subplots=True, share y axis and set some y axis labels to\n",
            " |          invisible\n",
            " |      layout : tuple (optional)\n",
            " |          (rows, columns) for the layout of subplots\n",
            " |      figsize : a tuple (width, height) in inches\n",
            " |      use_index : boolean, default True\n",
            " |          Use index as ticks for x axis\n",
            " |      title : string or list\n",
            " |          Title to use for the plot. If a string is passed, print the string at\n",
            " |          the top of the figure. If a list is passed and `subplots` is True,\n",
            " |          print each item in the list above the corresponding subplot.\n",
            " |      grid : boolean, default None (matlab style default)\n",
            " |          Axis grid lines\n",
            " |      legend : False/True/'reverse'\n",
            " |          Place legend on axis subplots\n",
            " |      style : list or dict\n",
            " |          matplotlib line style per column\n",
            " |      logx : boolean, default False\n",
            " |          Use log scaling on x axis\n",
            " |      logy : boolean, default False\n",
            " |          Use log scaling on y axis\n",
            " |      loglog : boolean, default False\n",
            " |          Use log scaling on both x and y axes\n",
            " |      xticks : sequence\n",
            " |          Values to use for the xticks\n",
            " |      yticks : sequence\n",
            " |          Values to use for the yticks\n",
            " |      xlim : 2-tuple/list\n",
            " |      ylim : 2-tuple/list\n",
            " |      rot : int, default None\n",
            " |          Rotation for ticks (xticks for vertical, yticks for horizontal plots)\n",
            " |      fontsize : int, default None\n",
            " |          Font size for xticks and yticks\n",
            " |      colormap : str or matplotlib colormap object, default None\n",
            " |          Colormap to select colors from. If string, load colormap with that name\n",
            " |          from matplotlib.\n",
            " |      colorbar : boolean, optional\n",
            " |          If True, plot colorbar (only relevant for 'scatter' and 'hexbin' plots)\n",
            " |      position : float\n",
            " |          Specify relative alignments for bar plot layout.\n",
            " |          From 0 (left/bottom-end) to 1 (right/top-end). Default is 0.5 (center)\n",
            " |      table : boolean, Series or DataFrame, default False\n",
            " |          If True, draw a table using the data in the DataFrame and the data will\n",
            " |          be transposed to meet matplotlib's default layout.\n",
            " |          If a Series or DataFrame is passed, use passed data to draw a table.\n",
            " |      yerr : DataFrame, Series, array-like, dict and str\n",
            " |          See :ref:`Plotting with Error Bars <visualization.errorbars>` for\n",
            " |          detail.\n",
            " |      xerr : same types as yerr.\n",
            " |      stacked : boolean, default False in line and\n",
            " |          bar plots, and True in area plot. If True, create stacked plot.\n",
            " |      sort_columns : boolean, default False\n",
            " |          Sort column names to determine plot ordering\n",
            " |      secondary_y : boolean or sequence, default False\n",
            " |          Whether to plot on the secondary y-axis\n",
            " |          If a list/tuple, which columns to plot on secondary y-axis\n",
            " |      mark_right : boolean, default True\n",
            " |          When using a secondary_y axis, automatically mark the column\n",
            " |          labels with \"(right)\" in the legend\n",
            " |      kwds : keywords\n",
            " |          Options to pass to matplotlib plotting method\n",
            " |      \n",
            " |      Returns\n",
            " |      -------\n",
            " |      axes : matplotlib.AxesSubplot or np.array of them\n",
            " |      \n",
            " |      Notes\n",
            " |      -----\n",
            " |      \n",
            " |      - See matplotlib documentation online for more on this subject\n",
            " |      - If `kind` = 'bar' or 'barh', you can specify relative alignments\n",
            " |        for bar plot layout by `position` keyword.\n",
            " |        From 0 (left/bottom-end) to 1 (right/top-end). Default is 0.5 (center)\n",
            " |      - If `kind` = 'scatter' and the argument `c` is the name of a dataframe\n",
            " |        column, the values of that column are used to color each point.\n",
            " |      - If `kind` = 'hexbin', you can control the size of the bins with the\n",
            " |        `gridsize` argument. By default, a histogram of the counts around each\n",
            " |        `(x, y)` point is computed. You can specify alternative aggregations\n",
            " |        by passing values to the `C` and `reduce_C_function` arguments.\n",
            " |        `C` specifies the value at each `(x, y)` point and `reduce_C_function`\n",
            " |        is a function of one argument that reduces all the values in a bin to\n",
            " |        a single number (e.g. `mean`, `max`, `sum`, `std`).\n",
            " |  \n",
            " |  area(self, x=None, y=None, **kwds)\n",
            " |      Area plot\n",
            " |      \n",
            " |      .. versionadded:: 0.17.0\n",
            " |      \n",
            " |      Parameters\n",
            " |      ----------\n",
            " |      x, y : label or position, optional\n",
            " |          Coordinates for each point.\n",
            " |      **kwds : optional\n",
            " |          Keyword arguments to pass on to :py:meth:`pandas.DataFrame.plot`.\n",
            " |      \n",
            " |      Returns\n",
            " |      -------\n",
            " |      axes : matplotlib.AxesSubplot or np.array of them\n",
            " |  \n",
            " |  bar(self, x=None, y=None, **kwds)\n",
            " |      Vertical bar plot\n",
            " |      \n",
            " |      .. versionadded:: 0.17.0\n",
            " |      \n",
            " |      Parameters\n",
            " |      ----------\n",
            " |      x, y : label or position, optional\n",
            " |          Coordinates for each point.\n",
            " |      **kwds : optional\n",
            " |          Keyword arguments to pass on to :py:meth:`pandas.DataFrame.plot`.\n",
            " |      \n",
            " |      Returns\n",
            " |      -------\n",
            " |      axes : matplotlib.AxesSubplot or np.array of them\n",
            " |  \n",
            " |  barh(self, x=None, y=None, **kwds)\n",
            " |      Horizontal bar plot\n",
            " |      \n",
            " |      .. versionadded:: 0.17.0\n",
            " |      \n",
            " |      Parameters\n",
            " |      ----------\n",
            " |      x, y : label or position, optional\n",
            " |          Coordinates for each point.\n",
            " |      **kwds : optional\n",
            " |          Keyword arguments to pass on to :py:meth:`pandas.DataFrame.plot`.\n",
            " |      \n",
            " |      Returns\n",
            " |      -------\n",
            " |      axes : matplotlib.AxesSubplot or np.array of them\n",
            " |  \n",
            " |  box(self, by=None, **kwds)\n",
            " |      Boxplot\n",
            " |      \n",
            " |      .. versionadded:: 0.17.0\n",
            " |      \n",
            " |      Parameters\n",
            " |      ----------\n",
            " |      by : string or sequence\n",
            " |          Column in the DataFrame to group by.\n",
            " |      \\*\\*kwds : optional\n",
            " |          Keyword arguments to pass on to :py:meth:`pandas.DataFrame.plot`.\n",
            " |      \n",
            " |      Returns\n",
            " |      -------\n",
            " |      axes : matplotlib.AxesSubplot or np.array of them\n",
            " |  \n",
            " |  density = kde(self, **kwds)\n",
            " |  \n",
            " |  hexbin(self, x, y, C=None, reduce_C_function=None, gridsize=None, **kwds)\n",
            " |      Hexbin plot\n",
            " |      \n",
            " |      .. versionadded:: 0.17.0\n",
            " |      \n",
            " |      Parameters\n",
            " |      ----------\n",
            " |      x, y : label or position, optional\n",
            " |          Coordinates for each point.\n",
            " |      C : label or position, optional\n",
            " |          The value at each `(x, y)` point.\n",
            " |      reduce_C_function : callable, optional\n",
            " |          Function of one argument that reduces all the values in a bin to\n",
            " |          a single number (e.g. `mean`, `max`, `sum`, `std`).\n",
            " |      gridsize : int, optional\n",
            " |          Number of bins.\n",
            " |      **kwds : optional\n",
            " |          Keyword arguments to pass on to :py:meth:`pandas.DataFrame.plot`.\n",
            " |      \n",
            " |      Returns\n",
            " |      -------\n",
            " |      axes : matplotlib.AxesSubplot or np.array of them\n",
            " |  \n",
            " |  hist(self, by=None, bins=10, **kwds)\n",
            " |      Histogram\n",
            " |      \n",
            " |      .. versionadded:: 0.17.0\n",
            " |      \n",
            " |      Parameters\n",
            " |      ----------\n",
            " |      by : string or sequence\n",
            " |          Column in the DataFrame to group by.\n",
            " |      bins: integer, default 10\n",
            " |          Number of histogram bins to be used\n",
            " |      **kwds : optional\n",
            " |          Keyword arguments to pass on to :py:meth:`pandas.DataFrame.plot`.\n",
            " |      \n",
            " |      Returns\n",
            " |      -------\n",
            " |      axes : matplotlib.AxesSubplot or np.array of them\n",
            " |  \n",
            " |  kde(self, **kwds)\n",
            " |      Kernel Density Estimate plot\n",
            " |      \n",
            " |      .. versionadded:: 0.17.0\n",
            " |      \n",
            " |      Parameters\n",
            " |      ----------\n",
            " |      **kwds : optional\n",
            " |          Keyword arguments to pass on to :py:meth:`pandas.DataFrame.plot`.\n",
            " |      \n",
            " |      Returns\n",
            " |      -------\n",
            " |      axes : matplotlib.AxesSubplot or np.array of them\n",
            " |  \n",
            " |  line(self, x=None, y=None, **kwds)\n",
            " |      Line plot\n",
            " |      \n",
            " |      .. versionadded:: 0.17.0\n",
            " |      \n",
            " |      Parameters\n",
            " |      ----------\n",
            " |      x, y : label or position, optional\n",
            " |          Coordinates for each point.\n",
            " |      **kwds : optional\n",
            " |          Keyword arguments to pass on to :py:meth:`pandas.DataFrame.plot`.\n",
            " |      \n",
            " |      Returns\n",
            " |      -------\n",
            " |      axes : matplotlib.AxesSubplot or np.array of them\n",
            " |  \n",
            " |  pie(self, y=None, **kwds)\n",
            " |      Pie chart\n",
            " |      \n",
            " |      .. versionadded:: 0.17.0\n",
            " |      \n",
            " |      Parameters\n",
            " |      ----------\n",
            " |      y : label or position, optional\n",
            " |          Column to plot.\n",
            " |      **kwds : optional\n",
            " |          Keyword arguments to pass on to :py:meth:`pandas.DataFrame.plot`.\n",
            " |      \n",
            " |      Returns\n",
            " |      -------\n",
            " |      axes : matplotlib.AxesSubplot or np.array of them\n",
            " |  \n",
            " |  scatter(self, x, y, s=None, c=None, **kwds)\n",
            " |      Scatter plot\n",
            " |      \n",
            " |      .. versionadded:: 0.17.0\n",
            " |      \n",
            " |      Parameters\n",
            " |      ----------\n",
            " |      x, y : label or position, optional\n",
            " |          Coordinates for each point.\n",
            " |      s : scalar or array_like, optional\n",
            " |          Size of each point.\n",
            " |      c : label or position, optional\n",
            " |          Color of each point.\n",
            " |      **kwds : optional\n",
            " |          Keyword arguments to pass on to :py:meth:`pandas.DataFrame.plot`.\n",
            " |      \n",
            " |      Returns\n",
            " |      -------\n",
            " |      axes : matplotlib.AxesSubplot or np.array of them\n",
            " |  \n",
            " |  ----------------------------------------------------------------------\n",
            " |  Methods inherited from BasePlotMethods:\n",
            " |  \n",
            " |  __init__(self, data)\n",
            " |      Initialize self.  See help(type(self)) for accurate signature.\n",
            " |  \n",
            " |  ----------------------------------------------------------------------\n",
            " |  Methods inherited from pandas.core.base.PandasObject:\n",
            " |  \n",
            " |  __sizeof__(self)\n",
            " |      Generates the total memory usage for a object that returns\n",
            " |      either a value or Series of values\n",
            " |  \n",
            " |  __unicode__(self)\n",
            " |      Return a string representation for a particular object.\n",
            " |      \n",
            " |      Invoked by unicode(obj) in py2 only. Yields a Unicode String in both\n",
            " |      py2/py3.\n",
            " |  \n",
            " |  ----------------------------------------------------------------------\n",
            " |  Methods inherited from pandas.core.base.StringMixin:\n",
            " |  \n",
            " |  __bytes__(self)\n",
            " |      Return a string representation for a particular object.\n",
            " |      \n",
            " |      Invoked by bytes(obj) in py3 only.\n",
            " |      Yields a bytestring in both py2/py3.\n",
            " |  \n",
            " |  __repr__(self)\n",
            " |      Return a string representation for a particular object.\n",
            " |      \n",
            " |      Yields Bytestring in Py2, Unicode String in py3.\n",
            " |  \n",
            " |  __str__(self)\n",
            " |      Return a string representation for a particular Object\n",
            " |      \n",
            " |      Invoked by str(df) in both py2/py3.\n",
            " |      Yields Bytestring in Py2, Unicode String in py3.\n",
            " |  \n",
            " |  ----------------------------------------------------------------------\n",
            " |  Data descriptors inherited from pandas.core.base.StringMixin:\n",
            " |  \n",
            " |  __dict__\n",
            " |      dictionary for instance variables (if defined)\n",
            " |  \n",
            " |  __weakref__\n",
            " |      list of weak references to the object (if defined)\n",
            " |  \n",
            " |  ----------------------------------------------------------------------\n",
            " |  Methods inherited from pandas.core.accessor.DirNamesMixin:\n",
            " |  \n",
            " |  __dir__(self)\n",
            " |      Provide method name lookup and completion\n",
            " |      Only provide 'public' methods\n",
            "\n"
          ],
          "name": "stdout"
        }
      ]
    },
    {
      "metadata": {
        "id": "3rOpQmWuCzer",
        "colab_type": "code",
        "outputId": "463bb648-3500-4b7a-b0ec-887b23b062d8",
        "colab": {
          "base_uri": "https://localhost:8080/",
          "height": 348
        }
      },
      "cell_type": "code",
      "source": [
        "pd.pivot_table(\n",
        "    user_data, values='time_on_site', index=bin).plot.bar();"
      ],
      "execution_count": 13,
      "outputs": [
        {
          "output_type": "display_data",
          "data": {
            "image/png": "[encoded data removed]",
            "text/plain": [
              "<Figure size 432x288 with 1 Axes>"
            ]
          },
          "metadata": {
            "tags": []
          }
        }
      ]
    },
    {
      "metadata": {
        "id": "CYeW0ZhnC6bg",
        "colab_type": "code",
        "outputId": "a3b4b0a9-b015-447d-d379-82a2383876ea",
        "colab": {
          "base_uri": "https://localhost:8080/",
          "height": 142
        }
      },
      "cell_type": "code",
      "source": [
        "pd.crosstab(user_data['mobile'], user_data['purchased'], time_bins, aggfunc=','.join)"
      ],
      "execution_count": 14,
      "outputs": [
        {
          "output_type": "execute_result",
          "data": {
            "text/html": [
              "<div>\n",
              "<style scoped>\n",
              "    .dataframe tbody tr th:only-of-type {\n",
              "        vertical-align: middle;\n",
              "    }\n",
              "\n",
              "    .dataframe tbody tr th {\n",
              "        vertical-align: top;\n",
              "    }\n",
              "\n",
              "    .dataframe thead th {\n",
              "        text-align: right;\n",
              "    }\n",
              "</style>\n",
              "<table border=\"1\" class=\"dataframe\">\n",
              "  <thead>\n",
              "    <tr style=\"text-align: right;\">\n",
              "      <th>purchased</th>\n",
              "      <th>False</th>\n",
              "      <th>True</th>\n",
              "    </tr>\n",
              "    <tr>\n",
              "      <th>mobile</th>\n",
              "      <th></th>\n",
              "      <th></th>\n",
              "    </tr>\n",
              "  </thead>\n",
              "  <tbody>\n",
              "    <tr>\n",
              "      <th>False</th>\n",
              "      <td>mobile,purchased,__dummy__</td>\n",
              "      <td>mobile,purchased,__dummy__</td>\n",
              "    </tr>\n",
              "    <tr>\n",
              "      <th>True</th>\n",
              "      <td>mobile,purchased,__dummy__</td>\n",
              "      <td>mobile,purchased,__dummy__</td>\n",
              "    </tr>\n",
              "  </tbody>\n",
              "</table>\n",
              "</div>"
            ],
            "text/plain": [
              "purchased                       False                       True \n",
              "mobile                                                           \n",
              "False      mobile,purchased,__dummy__  mobile,purchased,__dummy__\n",
              "True       mobile,purchased,__dummy__  mobile,purchased,__dummy__"
            ]
          },
          "metadata": {
            "tags": []
          },
          "execution_count": 14
        }
      ]
    },
    {
      "metadata": {
        "id": "n_rK0rfqDARy",
        "colab_type": "code",
        "outputId": "c05131de-827a-40ed-abf8-c8273e99c887",
        "colab": {
          "base_uri": "https://localhost:8080/",
          "height": 284
        }
      },
      "cell_type": "code",
      "source": [
        "user_data.hist(bins=20);"
      ],
      "execution_count": 15,
      "outputs": [
        {
          "output_type": "display_data",
          "data": {
            "image/png": "[encoded data removed]",
            "text/plain": [
              "<Figure size 432x288 with 4 Axes>"
            ]
          },
          "metadata": {
            "tags": []
          }
        }
      ]
    },
    {
      "metadata": {
        "id": "KWt2YZhpDHvW",
        "colab_type": "code",
        "outputId": "da475084-78ed-4c2d-b1d5-8606d47faaf2",
        "colab": {
          "base_uri": "https://localhost:8080/",
          "height": 404
        }
      },
      "cell_type": "code",
      "source": [
        "pd.pivot_table(user_data, values='purchased',\n",
        "               index=time_bins).plot.bar()"
      ],
      "execution_count": 16,
      "outputs": [
        {
          "output_type": "execute_result",
          "data": {
            "text/plain": [
              "<matplotlib.axes._subplots.AxesSubplot at 0x7f17228549e8>"
            ]
          },
          "metadata": {
            "tags": []
          },
          "execution_count": 16
        },
        {
          "output_type": "display_data",
          "data": {
            "image/png": "[encoded data removed]",
            "text/plain": [
              "<Figure size 432x288 with 1 Axes>"
            ]
          },
          "metadata": {
            "tags": []
          }
        }
      ]
    },
    {
      "metadata": {
        "id": "oRMDo5UzDQCi",
        "colab_type": "code",
        "outputId": "22a800df-f00b-45e9-a15a-1c756eb630b3",
        "colab": {
          "base_uri": "https://localhost:8080/",
          "height": 387
        }
      },
      "cell_type": "code",
      "source": [
        "pd.pivot_table(\n",
        "    user_data, values='time_on_site', index=time_bins).plot.bar();"
      ],
      "execution_count": 17,
      "outputs": [
        {
          "output_type": "display_data",
          "data": {
            "image/png": "[encoded data removed]",
            "text/plain": [
              "<Figure size 432x288 with 1 Axes>"
            ]
          },
          "metadata": {
            "tags": []
          }
        }
      ]
    },
    {
      "metadata": {
        "id": "PO4QE619DSUv",
        "colab_type": "code",
        "outputId": "f913b592-9b0c-4f3d-8c9a-6758da5a1d75",
        "colab": {
          "base_uri": "https://localhost:8080/",
          "height": 291
        }
      },
      "cell_type": "code",
      "source": [
        "user_data['time_on_site'].plot.density()"
      ],
      "execution_count": 18,
      "outputs": [
        {
          "output_type": "execute_result",
          "data": {
            "text/plain": [
              "<matplotlib.axes._subplots.AxesSubplot at 0x7f17226eb470>"
            ]
          },
          "metadata": {
            "tags": []
          },
          "execution_count": 18
        },
        {
          "output_type": "display_data",
          "data": {
            "image/png": "[encoded data removed]",
            "text/plain": [
              "<Figure size 432x288 with 1 Axes>"
            ]
          },
          "metadata": {
            "tags": []
          }
        }
      ]
    },
    {
      "metadata": {
        "id": "NaAvVKD2DZBu",
        "colab_type": "code",
        "outputId": "d9791820-32de-4d01-e51b-84ce29608148",
        "colab": {
          "base_uri": "https://localhost:8080/",
          "height": 283
        }
      },
      "cell_type": "code",
      "source": [
        "ct = pd.crosstab(time_bins, [user_data['purchased'], user_data['mobile']],\n",
        "                 normalize='columns')\n",
        "print(type(ct))\n",
        "ct"
      ],
      "execution_count": 19,
      "outputs": [
        {
          "output_type": "stream",
          "text": [
            "<class 'pandas.core.frame.DataFrame'>\n"
          ],
          "name": "stdout"
        },
        {
          "output_type": "execute_result",
          "data": {
            "text/html": [
              "<div>\n",
              "<style scoped>\n",
              "    .dataframe tbody tr th:only-of-type {\n",
              "        vertical-align: middle;\n",
              "    }\n",
              "\n",
              "    .dataframe tbody tr th {\n",
              "        vertical-align: top;\n",
              "    }\n",
              "\n",
              "    .dataframe thead tr th {\n",
              "        text-align: left;\n",
              "    }\n",
              "\n",
              "    .dataframe thead tr:last-of-type th {\n",
              "        text-align: right;\n",
              "    }\n",
              "</style>\n",
              "<table border=\"1\" class=\"dataframe\">\n",
              "  <thead>\n",
              "    <tr>\n",
              "      <th>purchased</th>\n",
              "      <th colspan=\"2\" halign=\"left\">False</th>\n",
              "      <th colspan=\"2\" halign=\"left\">True</th>\n",
              "    </tr>\n",
              "    <tr>\n",
              "      <th>mobile</th>\n",
              "      <th>False</th>\n",
              "      <th>True</th>\n",
              "      <th>False</th>\n",
              "      <th>True</th>\n",
              "    </tr>\n",
              "    <tr>\n",
              "      <th>time_on_site</th>\n",
              "      <th></th>\n",
              "      <th></th>\n",
              "      <th></th>\n",
              "      <th></th>\n",
              "    </tr>\n",
              "  </thead>\n",
              "  <tbody>\n",
              "    <tr>\n",
              "      <th>(5.196, 124.547]</th>\n",
              "      <td>0.210227</td>\n",
              "      <td>0.413043</td>\n",
              "      <td>0.054054</td>\n",
              "      <td>0.351724</td>\n",
              "    </tr>\n",
              "    <tr>\n",
              "      <th>(124.547, 243.304]</th>\n",
              "      <td>0.244318</td>\n",
              "      <td>0.423913</td>\n",
              "      <td>0.148649</td>\n",
              "      <td>0.420690</td>\n",
              "    </tr>\n",
              "    <tr>\n",
              "      <th>(243.304, 362.062]</th>\n",
              "      <td>0.204545</td>\n",
              "      <td>0.163043</td>\n",
              "      <td>0.243243</td>\n",
              "      <td>0.227586</td>\n",
              "    </tr>\n",
              "    <tr>\n",
              "      <th>(362.062, 480.819]</th>\n",
              "      <td>0.130682</td>\n",
              "      <td>0.000000</td>\n",
              "      <td>0.270270</td>\n",
              "      <td>0.000000</td>\n",
              "    </tr>\n",
              "    <tr>\n",
              "      <th>(480.819, 599.577]</th>\n",
              "      <td>0.210227</td>\n",
              "      <td>0.000000</td>\n",
              "      <td>0.283784</td>\n",
              "      <td>0.000000</td>\n",
              "    </tr>\n",
              "  </tbody>\n",
              "</table>\n",
              "</div>"
            ],
            "text/plain": [
              "purchased              False               True           \n",
              "mobile                 False     True      False     True \n",
              "time_on_site                                              \n",
              "(5.196, 124.547]    0.210227  0.413043  0.054054  0.351724\n",
              "(124.547, 243.304]  0.244318  0.423913  0.148649  0.420690\n",
              "(243.304, 362.062]  0.204545  0.163043  0.243243  0.227586\n",
              "(362.062, 480.819]  0.130682  0.000000  0.270270  0.000000\n",
              "(480.819, 599.577]  0.210227  0.000000  0.283784  0.000000"
            ]
          },
          "metadata": {
            "tags": []
          },
          "execution_count": 19
        }
      ]
    },
    {
      "metadata": {
        "id": "qKIUQjByDedN",
        "colab_type": "code",
        "outputId": "8843f18d-ac83-455a-f450-d8f9e51b912c",
        "colab": {
          "base_uri": "https://localhost:8080/",
          "height": 281
        }
      },
      "cell_type": "code",
      "source": [
        "ct.plot();"
      ],
      "execution_count": 20,
      "outputs": [
        {
          "output_type": "display_data",
          "data": {
            "image/png": "[encoded data removed]",
            "text/plain": [
              "<Figure size 432x288 with 1 Axes>"
            ]
          },
          "metadata": {
            "tags": []
          }
        }
      ]
    },
    {
      "metadata": {
        "id": "kWvoJIUKDkDi",
        "colab_type": "code",
        "outputId": "34ca06c8-bb0c-4dff-fa1f-008f0d53f77d",
        "colab": {
          "base_uri": "https://localhost:8080/",
          "height": 387
        }
      },
      "cell_type": "code",
      "source": [
        "ct.plot(kind='bar', stacked=True);"
      ],
      "execution_count": 21,
      "outputs": [
        {
          "output_type": "display_data",
          "data": {
            "image/png": "[encoded data removed]",
            "text/plain": [
              "<Figure size 432x288 with 1 Axes>"
            ]
          },
          "metadata": {
            "tags": []
          }
        }
      ]
    },
    {
      "metadata": {
        "id": "8359PWSdDuTi",
        "colab_type": "code",
        "outputId": "5f9912be-7ab0-44b3-80e8-b5c505a15b3c",
        "colab": {
          "base_uri": "https://localhost:8080/",
          "height": 173
        }
      },
      "cell_type": "code",
      "source": [
        "ct2 = pd.crosstab(user_data['purchased'], [user_data['mobile'], time_bins],\n",
        "                  normalize='columns')\n",
        "ct2"
      ],
      "execution_count": 22,
      "outputs": [
        {
          "output_type": "execute_result",
          "data": {
            "text/html": [
              "<div>\n",
              "<style scoped>\n",
              "    .dataframe tbody tr th:only-of-type {\n",
              "        vertical-align: middle;\n",
              "    }\n",
              "\n",
              "    .dataframe tbody tr th {\n",
              "        vertical-align: top;\n",
              "    }\n",
              "\n",
              "    .dataframe thead tr th {\n",
              "        text-align: left;\n",
              "    }\n",
              "\n",
              "    .dataframe thead tr:last-of-type th {\n",
              "        text-align: right;\n",
              "    }\n",
              "</style>\n",
              "<table border=\"1\" class=\"dataframe\">\n",
              "  <thead>\n",
              "    <tr>\n",
              "      <th>mobile</th>\n",
              "      <th colspan=\"5\" halign=\"left\">False</th>\n",
              "      <th colspan=\"5\" halign=\"left\">True</th>\n",
              "    </tr>\n",
              "    <tr>\n",
              "      <th>time_on_site</th>\n",
              "      <th>(5.196, 124.547]</th>\n",
              "      <th>(124.547, 243.304]</th>\n",
              "      <th>(243.304, 362.062]</th>\n",
              "      <th>(362.062, 480.819]</th>\n",
              "      <th>(480.819, 599.577]</th>\n",
              "      <th>(5.196, 124.547]</th>\n",
              "      <th>(124.547, 243.304]</th>\n",
              "      <th>(243.304, 362.062]</th>\n",
              "      <th>(362.062, 480.819]</th>\n",
              "      <th>(480.819, 599.577]</th>\n",
              "    </tr>\n",
              "    <tr>\n",
              "      <th>purchased</th>\n",
              "      <th></th>\n",
              "      <th></th>\n",
              "      <th></th>\n",
              "      <th></th>\n",
              "      <th></th>\n",
              "      <th></th>\n",
              "      <th></th>\n",
              "      <th></th>\n",
              "      <th></th>\n",
              "      <th></th>\n",
              "    </tr>\n",
              "  </thead>\n",
              "  <tbody>\n",
              "    <tr>\n",
              "      <th>False</th>\n",
              "      <td>0.902439</td>\n",
              "      <td>0.796296</td>\n",
              "      <td>0.666667</td>\n",
              "      <td>0.534884</td>\n",
              "      <td>0.637931</td>\n",
              "      <td>0.650685</td>\n",
              "      <td>0.615142</td>\n",
              "      <td>0.531915</td>\n",
              "      <td>0.0</td>\n",
              "      <td>0.0</td>\n",
              "    </tr>\n",
              "    <tr>\n",
              "      <th>True</th>\n",
              "      <td>0.097561</td>\n",
              "      <td>0.203704</td>\n",
              "      <td>0.333333</td>\n",
              "      <td>0.465116</td>\n",
              "      <td>0.362069</td>\n",
              "      <td>0.349315</td>\n",
              "      <td>0.384858</td>\n",
              "      <td>0.468085</td>\n",
              "      <td>0.0</td>\n",
              "      <td>0.0</td>\n",
              "    </tr>\n",
              "  </tbody>\n",
              "</table>\n",
              "</div>"
            ],
            "text/plain": [
              "mobile                  False                                        \\\n",
              "time_on_site (5.196, 124.547] (124.547, 243.304] (243.304, 362.062]   \n",
              "purchased                                                             \n",
              "False                0.902439           0.796296           0.666667   \n",
              "True                 0.097561           0.203704           0.333333   \n",
              "\n",
              "mobile                                                        True   \\\n",
              "time_on_site (362.062, 480.819] (480.819, 599.577] (5.196, 124.547]   \n",
              "purchased                                                             \n",
              "False                  0.534884           0.637931         0.650685   \n",
              "True                   0.465116           0.362069         0.349315   \n",
              "\n",
              "mobile                                                                 \\\n",
              "time_on_site (124.547, 243.304] (243.304, 362.062] (362.062, 480.819]   \n",
              "purchased                                                               \n",
              "False                  0.615142           0.531915                0.0   \n",
              "True                   0.384858           0.468085                0.0   \n",
              "\n",
              "mobile                           \n",
              "time_on_site (480.819, 599.577]  \n",
              "purchased                        \n",
              "False                       0.0  \n",
              "True                        0.0  "
            ]
          },
          "metadata": {
            "tags": []
          },
          "execution_count": 22
        }
      ]
    },
    {
      "metadata": {
        "id": "ORhwkgwPDyqk",
        "colab_type": "code",
        "outputId": "63f4d92d-afe9-49fa-e52e-9ac7714047be",
        "colab": {
          "base_uri": "https://localhost:8080/",
          "height": 310
        }
      },
      "cell_type": "code",
      "source": [
        "ct2.plot(kind='bar');"
      ],
      "execution_count": 23,
      "outputs": [
        {
          "output_type": "display_data",
          "data": {
            "image/png": "[encoded data removed]",
            "text/plain": [
              "<Figure size 432x288 with 1 Axes>"
            ]
          },
          "metadata": {
            "tags": []
          }
        }
      ]
    },
    {
      "metadata": {
        "id": "gTovyyuuD25r",
        "colab_type": "code",
        "outputId": "516e9250-9b5d-46fb-b1b6-837cecacf48d",
        "colab": {
          "base_uri": "https://localhost:8080/",
          "height": 319
        }
      },
      "cell_type": "code",
      "source": [
        "# Trying 3D barplot courtesy of Cole\n",
        "%matplotlib inline\n",
        "\n",
        "from mpl_toolkits.mplot3d import Axes3D\n",
        "import matplotlib.pyplot as plt\n",
        "import numpy as np\n",
        "%matplotlib inline\n",
        "\n",
        "data = pd.crosstab(user_data['purchased'], user_data['mobile'], normalize='columns').values\n",
        "\n",
        "column_names = ['True','False']\n",
        "row_names = ['True','False']\n",
        "fig = plt.figure()\n",
        "ax = Axes3D(fig)\n",
        "\n",
        "lx= 2\n",
        "ly= 2\n",
        "xpos = np.array([1,0])\n",
        "ypos = np.array([1,0])\n",
        "xpos, ypos = np.meshgrid(xpos, ypos)\n",
        "\n",
        "xpos = xpos.flatten()\n",
        "ypos = ypos.flatten()\n",
        "zpos = np.zeros(lx*ly)\n",
        "\n",
        "dx = 0.3 * np.ones_like(zpos)\n",
        "dy = dx.copy()\n",
        "dz = data.flatten()\n",
        "\n",
        "cs = ['r', 'b'] * ly\n",
        "\n",
        "ax.bar3d(xpos, ypos, zpos, dx, dy, dz, color=cs)\n",
        "\n",
        "ax.axes.set_xticks([1,0])\n",
        "ax.axes.set_yticks([1,0])\n",
        "ax.set_xlabel('Did Purchase?')\n",
        "ax.set_ylabel('Is Mobile?')\n",
        "ax.set_zlabel('time_on_site')\n",
        "\n",
        "plt.show()"
      ],
      "execution_count": 24,
      "outputs": [
        {
          "output_type": "display_data",
          "data": {
            "image/png": "[encoded data removed]",
            "text/plain": [
              "<Figure size 432x288 with 1 Axes>"
            ]
          },
          "metadata": {
            "tags": []
          }
        }
      ]
    },
    {
      "metadata": {
        "id": "lOqaPds9huME",
        "colab_type": "text"
      },
      "cell_type": "markdown",
      "source": [
        "## Assignment - what's going on here?\n",
        "\n",
        "Consider the data in `persons.csv` (already prepared for you, in the repo for the week). It has four columns - a unique id, followed by age (in years), weight (in lbs), and exercise time (in minutes/week) of 1200 (hypothetical) people.\n",
        "\n",
        "Try to figure out which variables are possibly related to each other, and which may be confounding relationships."
      ]
    },
    {
      "metadata": {
        "id": "TGUS79cOhPWj",
        "colab_type": "code",
        "outputId": "bd39f5a5-e13a-4f48-8420-5287aac16a9b",
        "colab": {
          "base_uri": "https://localhost:8080/",
          "height": 221
        }
      },
      "cell_type": "code",
      "source": [
        "# TODO - your code here\n",
        "# Use what we did live in lecture as an example\n",
        "persons_df = pd.read_csv('https://raw.githubusercontent.com/standroidbeta/DS-Unit-1-Sprint-1-Dealing-With-Data/master/module4-databackedassertions/persons.csv')\n",
        "\n",
        "print(persons_df.shape)\n",
        "persons_df.head()\n",
        "# HINT - you can find the raw URL on GitHub and potentially use that\n",
        "# to load the data with read_csv, or you can upload it yourself"
      ],
      "execution_count": 25,
      "outputs": [
        {
          "output_type": "stream",
          "text": [
            "(1200, 4)\n"
          ],
          "name": "stdout"
        },
        {
          "output_type": "execute_result",
          "data": {
            "text/html": [
              "<div>\n",
              "<style scoped>\n",
              "    .dataframe tbody tr th:only-of-type {\n",
              "        vertical-align: middle;\n",
              "    }\n",
              "\n",
              "    .dataframe tbody tr th {\n",
              "        vertical-align: top;\n",
              "    }\n",
              "\n",
              "    .dataframe thead th {\n",
              "        text-align: right;\n",
              "    }\n",
              "</style>\n",
              "<table border=\"1\" class=\"dataframe\">\n",
              "  <thead>\n",
              "    <tr style=\"text-align: right;\">\n",
              "      <th></th>\n",
              "      <th>Unnamed: 0</th>\n",
              "      <th>age</th>\n",
              "      <th>weight</th>\n",
              "      <th>exercise_time</th>\n",
              "    </tr>\n",
              "  </thead>\n",
              "  <tbody>\n",
              "    <tr>\n",
              "      <th>0</th>\n",
              "      <td>0</td>\n",
              "      <td>44</td>\n",
              "      <td>118</td>\n",
              "      <td>192</td>\n",
              "    </tr>\n",
              "    <tr>\n",
              "      <th>1</th>\n",
              "      <td>1</td>\n",
              "      <td>41</td>\n",
              "      <td>161</td>\n",
              "      <td>35</td>\n",
              "    </tr>\n",
              "    <tr>\n",
              "      <th>2</th>\n",
              "      <td>2</td>\n",
              "      <td>46</td>\n",
              "      <td>128</td>\n",
              "      <td>220</td>\n",
              "    </tr>\n",
              "    <tr>\n",
              "      <th>3</th>\n",
              "      <td>3</td>\n",
              "      <td>39</td>\n",
              "      <td>216</td>\n",
              "      <td>57</td>\n",
              "    </tr>\n",
              "    <tr>\n",
              "      <th>4</th>\n",
              "      <td>4</td>\n",
              "      <td>28</td>\n",
              "      <td>116</td>\n",
              "      <td>182</td>\n",
              "    </tr>\n",
              "  </tbody>\n",
              "</table>\n",
              "</div>"
            ],
            "text/plain": [
              "   Unnamed: 0  age  weight  exercise_time\n",
              "0           0   44     118            192\n",
              "1           1   41     161             35\n",
              "2           2   46     128            220\n",
              "3           3   39     216             57\n",
              "4           4   28     116            182"
            ]
          },
          "metadata": {
            "tags": []
          },
          "execution_count": 25
        }
      ]
    },
    {
      "metadata": {
        "id": "G3rmgVxDE9EM",
        "colab_type": "code",
        "outputId": "7e5598a2-b7c6-4604-b4fb-78569b9f374c",
        "colab": {
          "base_uri": "https://localhost:8080/",
          "height": 102
        }
      },
      "cell_type": "code",
      "source": [
        "persons_df.isnull().sum()"
      ],
      "execution_count": 26,
      "outputs": [
        {
          "output_type": "execute_result",
          "data": {
            "text/plain": [
              "Unnamed: 0       0\n",
              "age              0\n",
              "weight           0\n",
              "exercise_time    0\n",
              "dtype: int64"
            ]
          },
          "metadata": {
            "tags": []
          },
          "execution_count": 26
        }
      ]
    },
    {
      "metadata": {
        "id": "eFDgCYENFP3j",
        "colab_type": "code",
        "outputId": "c1a24355-e0bb-47f0-da42-ede60444ed76",
        "colab": {
          "base_uri": "https://localhost:8080/",
          "height": 102
        }
      },
      "cell_type": "code",
      "source": [
        "persons_df.isna().sum()"
      ],
      "execution_count": 27,
      "outputs": [
        {
          "output_type": "execute_result",
          "data": {
            "text/plain": [
              "Unnamed: 0       0\n",
              "age              0\n",
              "weight           0\n",
              "exercise_time    0\n",
              "dtype: int64"
            ]
          },
          "metadata": {
            "tags": []
          },
          "execution_count": 27
        }
      ]
    },
    {
      "metadata": {
        "id": "OLFm9QxfFZKn",
        "colab_type": "code",
        "outputId": "9563da95-ffb9-4381-f057-ea668678c294",
        "colab": {
          "base_uri": "https://localhost:8080/",
          "height": 170
        }
      },
      "cell_type": "code",
      "source": [
        "persons_df.info()"
      ],
      "execution_count": 28,
      "outputs": [
        {
          "output_type": "stream",
          "text": [
            "<class 'pandas.core.frame.DataFrame'>\n",
            "RangeIndex: 1200 entries, 0 to 1199\n",
            "Data columns (total 4 columns):\n",
            "Unnamed: 0       1200 non-null int64\n",
            "age              1200 non-null int64\n",
            "weight           1200 non-null int64\n",
            "exercise_time    1200 non-null int64\n",
            "dtypes: int64(4)\n",
            "memory usage: 37.6 KB\n"
          ],
          "name": "stdout"
        }
      ]
    },
    {
      "metadata": {
        "id": "R3SAJZvoFf0d",
        "colab_type": "code",
        "outputId": "b8577586-dc4e-4aea-9258-67d29d69b3b6",
        "colab": {
          "base_uri": "https://localhost:8080/",
          "height": 204
        }
      },
      "cell_type": "code",
      "source": [
        "persons_df = persons_df.rename({'Unnamed: 0':'Participant ID'}, axis=\"columns\")\n",
        "\n",
        "persons_df.head()"
      ],
      "execution_count": 29,
      "outputs": [
        {
          "output_type": "execute_result",
          "data": {
            "text/html": [
              "<div>\n",
              "<style scoped>\n",
              "    .dataframe tbody tr th:only-of-type {\n",
              "        vertical-align: middle;\n",
              "    }\n",
              "\n",
              "    .dataframe tbody tr th {\n",
              "        vertical-align: top;\n",
              "    }\n",
              "\n",
              "    .dataframe thead th {\n",
              "        text-align: right;\n",
              "    }\n",
              "</style>\n",
              "<table border=\"1\" class=\"dataframe\">\n",
              "  <thead>\n",
              "    <tr style=\"text-align: right;\">\n",
              "      <th></th>\n",
              "      <th>Participant ID</th>\n",
              "      <th>age</th>\n",
              "      <th>weight</th>\n",
              "      <th>exercise_time</th>\n",
              "    </tr>\n",
              "  </thead>\n",
              "  <tbody>\n",
              "    <tr>\n",
              "      <th>0</th>\n",
              "      <td>0</td>\n",
              "      <td>44</td>\n",
              "      <td>118</td>\n",
              "      <td>192</td>\n",
              "    </tr>\n",
              "    <tr>\n",
              "      <th>1</th>\n",
              "      <td>1</td>\n",
              "      <td>41</td>\n",
              "      <td>161</td>\n",
              "      <td>35</td>\n",
              "    </tr>\n",
              "    <tr>\n",
              "      <th>2</th>\n",
              "      <td>2</td>\n",
              "      <td>46</td>\n",
              "      <td>128</td>\n",
              "      <td>220</td>\n",
              "    </tr>\n",
              "    <tr>\n",
              "      <th>3</th>\n",
              "      <td>3</td>\n",
              "      <td>39</td>\n",
              "      <td>216</td>\n",
              "      <td>57</td>\n",
              "    </tr>\n",
              "    <tr>\n",
              "      <th>4</th>\n",
              "      <td>4</td>\n",
              "      <td>28</td>\n",
              "      <td>116</td>\n",
              "      <td>182</td>\n",
              "    </tr>\n",
              "  </tbody>\n",
              "</table>\n",
              "</div>"
            ],
            "text/plain": [
              "   Participant ID  age  weight  exercise_time\n",
              "0               0   44     118            192\n",
              "1               1   41     161             35\n",
              "2               2   46     128            220\n",
              "3               3   39     216             57\n",
              "4               4   28     116            182"
            ]
          },
          "metadata": {
            "tags": []
          },
          "execution_count": 29
        }
      ]
    },
    {
      "metadata": {
        "id": "8TaOOf7Ir4mU",
        "colab_type": "code",
        "colab": {
          "base_uri": "https://localhost:8080/",
          "height": 221
        },
        "outputId": "5cfe7fdf-a38f-4916-820e-7fa7ecc39ffa"
      },
      "cell_type": "code",
      "source": [
        "!pip install seaborn --upgrade"
      ],
      "execution_count": 30,
      "outputs": [
        {
          "output_type": "stream",
          "text": [
            "Requirement already up-to-date: seaborn in /usr/local/lib/python3.6/dist-packages (0.9.0)\n",
            "Requirement already satisfied, skipping upgrade: pandas>=0.15.2 in /usr/local/lib/python3.6/dist-packages (from seaborn) (0.22.0)\n",
            "Requirement already satisfied, skipping upgrade: scipy>=0.14.0 in /usr/local/lib/python3.6/dist-packages (from seaborn) (1.1.0)\n",
            "Requirement already satisfied, skipping upgrade: matplotlib>=1.4.3 in /usr/local/lib/python3.6/dist-packages (from seaborn) (3.0.3)\n",
            "Requirement already satisfied, skipping upgrade: numpy>=1.9.3 in /usr/local/lib/python3.6/dist-packages (from seaborn) (1.14.6)\n",
            "Requirement already satisfied, skipping upgrade: pytz>=2011k in /usr/local/lib/python3.6/dist-packages (from pandas>=0.15.2->seaborn) (2018.9)\n",
            "Requirement already satisfied, skipping upgrade: python-dateutil>=2 in /usr/local/lib/python3.6/dist-packages (from pandas>=0.15.2->seaborn) (2.5.3)\n",
            "Requirement already satisfied, skipping upgrade: cycler>=0.10 in /usr/local/lib/python3.6/dist-packages (from matplotlib>=1.4.3->seaborn) (0.10.0)\n",
            "Requirement already satisfied, skipping upgrade: pyparsing!=2.0.4,!=2.1.2,!=2.1.6,>=2.0.1 in /usr/local/lib/python3.6/dist-packages (from matplotlib>=1.4.3->seaborn) (2.3.1)\n",
            "Requirement already satisfied, skipping upgrade: kiwisolver>=1.0.1 in /usr/local/lib/python3.6/dist-packages (from matplotlib>=1.4.3->seaborn) (1.0.1)\n",
            "Requirement already satisfied, skipping upgrade: six>=1.5 in /usr/local/lib/python3.6/dist-packages (from python-dateutil>=2->pandas>=0.15.2->seaborn) (1.11.0)\n",
            "Requirement already satisfied, skipping upgrade: setuptools in /usr/local/lib/python3.6/dist-packages (from kiwisolver>=1.0.1->matplotlib>=1.4.3->seaborn) (40.8.0)\n"
          ],
          "name": "stdout"
        }
      ]
    },
    {
      "metadata": {
        "id": "GzuODqg8KaaU",
        "colab_type": "code",
        "colab": {
          "base_uri": "https://localhost:8080/",
          "height": 617
        },
        "outputId": "c8254ad3-1a54-4e15-b7a5-d5cddbf7f246"
      },
      "cell_type": "code",
      "source": [
        "import seaborn as sns\n",
        "from numpy import mean\n",
        "age_bins = pd.cut(persons_df['age'], 5)\n",
        "weight_bins = pd.cut(persons_df['weight'], 5)\n",
        "exercise_time_bins = pd.cut(persons_df['exercise_time'], 5)\n",
        "\n",
        "sns.set(style=\"whitegrid\")\n",
        "plt.figure(figsize=(16, 10))\n",
        "persons_ax = sns.barplot(x=age_bins, y='exercise_time', data=persons_df);\n"
      ],
      "execution_count": 53,
      "outputs": [
        {
          "output_type": "display_data",
          "data": {
            "image/png": "[encoded data removed]",
            "text/plain": [
              "<Figure size 1152x720 with 1 Axes>"
            ]
          },
          "metadata": {
            "tags": []
          }
        }
      ]
    },
    {
      "metadata": {
        "id": "p1C0rxjLD5iX",
        "colab_type": "code",
        "colab": {
          "base_uri": "https://localhost:8080/",
          "height": 617
        },
        "outputId": "4294bf9e-eb3b-4180-d644-97e01f80339e"
      },
      "cell_type": "code",
      "source": [
        "sns.set(style=\"darkgrid\")\n",
        "plt.figure(figsize=(16, 10))\n",
        "persons_ax = sns.barplot(x=weight_bins, y='exercise_time', data=persons_df);\n",
        "sns.despine(left=True, bottom=True)"
      ],
      "execution_count": 54,
      "outputs": [
        {
          "output_type": "display_data",
          "data": {
            "image/png": "[encoded data removed]",
            "text/plain": [
              "<Figure size 1152x720 with 1 Axes>"
            ]
          },
          "metadata": {
            "tags": []
          }
        }
      ]
    },
    {
      "metadata": {
        "id": "1m4DyfxramzW",
        "colab_type": "code",
        "colab": {
          "base_uri": "https://localhost:8080/",
          "height": 617
        },
        "outputId": "c2bf4e28-ed08-4bd0-be6e-83ec7c517089"
      },
      "cell_type": "code",
      "source": [
        "sns.set(style=\"darkgrid\")\n",
        "plt.figure(figsize=(16, 10))\n",
        "persons_ax = sns.barplot(x=exercise_time_bins, y='age', data=persons_df);"
      ],
      "execution_count": 55,
      "outputs": [
        {
          "output_type": "display_data",
          "data": {
            "image/png": "[encoded data removed]",
            "text/plain": [
              "<Figure size 1152x720 with 1 Axes>"
            ]
          },
          "metadata": {
            "tags": []
          }
        }
      ]
    },
    {
      "metadata": {
        "id": "LsBO3BkXbXPH",
        "colab_type": "code",
        "colab": {
          "base_uri": "https://localhost:8080/",
          "height": 617
        },
        "outputId": "7750c17e-d355-42a8-8651-97ab7ca55fad"
      },
      "cell_type": "code",
      "source": [
        "sns.set(style=\"darkgrid\")\n",
        "plt.figure(figsize=(16, 10))\n",
        "persons_ax = sns.barplot(x=exercise_time_bins, y='weight', data=persons_df);"
      ],
      "execution_count": 57,
      "outputs": [
        {
          "output_type": "display_data",
          "data": {
            "image/png": "[encoded data removed]",
            "text/plain": [
              "<Figure size 1152x720 with 1 Axes>"
            ]
          },
          "metadata": {
            "tags": []
          }
        }
      ]
    },
    {
      "metadata": {
        "id": "BT9gdS7viJZa",
        "colab_type": "text"
      },
      "cell_type": "markdown",
      "source": [
        "### Assignment questions\n",
        "\n",
        "After you've worked on some code, answer the following questions in this text block:\n",
        "\n",
        "1.  What are the variable types in the data?\n",
        "\n",
        "**Answer:** *age, weight, exercise time*\n",
        "\n",
        "2.  What are the relationships between the variables?\n",
        "\n",
        "**Answer:** *The relationship is age and weight to exercise time.*\n",
        "\n",
        "3.  Which relationships are \"real\", and which spurious?\n",
        "\n",
        "**Answer:** *Age and exercise time are real whereas weight is spurious becuase there are muiltiple factors that can determine a person's weight.\n"
      ]
    },
    {
      "metadata": {
        "id": "_XXg2crAipwP",
        "colab_type": "text"
      },
      "cell_type": "markdown",
      "source": [
        "## Stretch goals and resources\n",
        "\n",
        "Following are *optional* things for you to take a look at. Focus on the above assignment first, and make sure to commit and push your changes to GitHub.\n",
        "\n",
        "- [Spurious Correlations](http://tylervigen.com/spurious-correlations)\n",
        "- [NIH on controlling for confounding variables](https://www.ncbi.nlm.nih.gov/pmc/articles/PMC4017459/)\n",
        "\n",
        "Stretch goals:\n",
        "\n",
        "- Produce your own plot inspired by the Spurious Correlation visualizations (and consider writing a blog post about it - both the content and how you made it)\n",
        "- Pick one of the techniques that NIH highlights for confounding variables - we'll be going into many of them later, but see if you can find which Python modules may help (hint - check scikit-learn)"
      ]
    }
  ]
}