{
  "nbformat": 4,
  "nbformat_minor": 0,
  "metadata": {
    "colab": {
      "name": "Nicholas George Copy of LS_DS_111_A_First_Look_at_Data.ipynb",
      "version": "0.3.2",
      "provenance": [],
      "collapsed_sections": [],
      "include_colab_link": true
    },
    "kernelspec": {
      "name": "python3",
      "display_name": "Python 3"
    }
  },
  "cells": [
    {
      "cell_type": "markdown",
      "metadata": {
        "id": "view-in-github",
        "colab_type": "text"
      },
      "source": [
        "<a href=\"https://colab.research.google.com/github/npgeorge/DS-Unit-1-Sprint-1-Dealing-With-Data/blob/master/Nicholas_George_Copy_of_LS_DS_111_A_First_Look_at_Data.ipynb\" target=\"_parent\"><img src=\"https://colab.research.google.com/assets/colab-badge.svg\" alt=\"Open In Colab\"/></a>"
      ]
    },
    {
      "cell_type": "markdown",
      "metadata": {
        "id": "Okfr_uhwhS1X",
        "colab_type": "text"
      },
      "source": [
        "# Lambda School Data Science - A First Look at Data\n",
        "\n"
      ]
    },
    {
      "cell_type": "markdown",
      "metadata": {
        "id": "9dtJETFRhnOG",
        "colab_type": "text"
      },
      "source": [
        "## Lecture - let's explore Python DS libraries and examples!\n",
        "\n",
        "The Python Data Science ecosystem is huge. You've seen some of the big pieces - pandas, scikit-learn, matplotlib. What parts do you want to see more of?"
      ]
    },
    {
      "cell_type": "markdown",
      "metadata": {
        "id": "Yy53QIUvu7EG",
        "colab_type": "text"
      },
      "source": [
        "I'd like to see other parts of the ecosystem that will help manipulate data. A broad overview of whats out there would help me understand some different ways industries are using data science."
      ]
    },
    {
      "cell_type": "code",
      "metadata": {
        "id": "7Cvg_hiMptps",
        "colab_type": "code",
        "colab": {}
      },
      "source": [
        "#grow mart example from module 1\n",
        "\n",
        "grow_mart = { 'name': 'Grow Mart', 'year in business': (2019-1973), 'Annual Revenue': 265000, 'Annual Expenses': 183000, 'is_profitable': profitable }\n",
        "plant_depot = { 'name': 'Plant Depot', 'years in business': (2019-1973), 'Annual Revenue': 302000, 'Annual Expenses': 240000, 'is_profitable': profitable  }\n",
        "trees_r_us = { 'name': 'Trees R Us', 'years in business': (2019-1985), 'Annual Revenue': 123000, 'Annual Expenses': 130000, 'is_profitable': profitable  }\n",
        "businesses = [grow_mart, plant_depot, trees_r_us]\n",
        "\n",
        "#this is wrong\n",
        "def profitable(): \n",
        "  if 'Annual Revenue' > 'Annual Expenses'\n",
        "  is_profitable = True\n",
        "  else\n",
        "  is_profitable = False\n",
        "\n",
        "print(businesses)"
      ],
      "execution_count": 0,
      "outputs": []
    },
    {
      "cell_type": "markdown",
      "metadata": {
        "id": "lOqaPds9huME",
        "colab_type": "text"
      },
      "source": [
        "## Assignment - now it's your turn\n",
        "\n",
        "Pick at least one Python DS library, and using documentation/examples reproduce in this notebook something cool. It's OK if you don't fully understand it or get it 100% working, but do put in effort and look things up."
      ]
    },
    {
      "cell_type": "code",
      "metadata": {
        "id": "TGUS79cOhPWj",
        "colab_type": "code",
        "colab": {}
      },
      "source": [
        "# TODO - your code here\n",
        "# Use what we did live in lecture as an example\n",
        "\n",
        "#import pandas as pd\n",
        "#df = pd.read_csv('https://raw.githubusercontent.com/ryanleeallred/datasets/master/tmdb_5000_movies.csv')\n",
        "\n",
        "#df.head() #spits out the first 5 rows "
      ],
      "execution_count": 0,
      "outputs": []
    },
    {
      "cell_type": "code",
      "metadata": {
        "id": "EPEKyv5TtD20",
        "colab_type": "code",
        "colab": {}
      },
      "source": [
        "#df.describe() #useful summary statistics"
      ],
      "execution_count": 0,
      "outputs": []
    },
    {
      "cell_type": "code",
      "metadata": {
        "id": "gv7XMrxoBW6k",
        "colab_type": "code",
        "outputId": "62b45476-a957-4127-9931-cfc774f62f0a",
        "colab": {
          "base_uri": "https://localhost:8080/",
          "height": 550
        }
      },
      "source": [
        "import numpy as np\n",
        "import matplotlib.pyplot as plt\n",
        "import pandas as pd\n",
        "\n",
        "np.random.randint(0, 70, size=500)"
      ],
      "execution_count": 0,
      "outputs": [
        {
          "output_type": "execute_result",
          "data": {
            "text/plain": [
              "array([37, 33, 30, 37, 23,  1, 31, 26, 43,  2, 50, 48,  4, 12, 24, 66, 35,\n",
              "       20, 24, 19, 24, 48, 55,  4, 49, 17, 49, 65, 54, 58, 24,  7,  0, 56,\n",
              "       55, 18, 13, 26,  8, 68, 49, 34, 46, 52, 40, 59, 60, 15, 13,  7, 11,\n",
              "        4, 53, 46, 29, 10, 17, 29, 31, 41, 17, 33, 45,  2, 50, 69, 43, 42,\n",
              "       34,  1,  3, 41, 31, 30, 24, 15,  9, 18,  1, 60, 58, 10, 43, 23, 69,\n",
              "       33, 18, 13, 30,  0, 66, 32, 48, 37, 14, 64, 47, 27,  7, 16, 30, 28,\n",
              "       60, 34, 67, 19, 47, 50, 15, 52, 66, 46, 32, 30, 59, 55, 14, 27, 63,\n",
              "       59, 47, 18, 39, 19, 50,  6, 12, 16, 33, 21, 36, 58, 35, 68, 33, 59,\n",
              "       27, 59, 11, 52, 58, 22, 63, 23, 69, 17, 55, 30, 68, 62, 67, 32, 35,\n",
              "       43, 62, 64, 61, 33, 19,  7, 43, 65, 33, 62, 13, 63, 43,  7, 29, 62,\n",
              "       37, 32, 18,  3, 37, 27, 42, 52, 29, 30, 36, 57, 11, 16, 12, 66, 38,\n",
              "       46, 31, 13, 61, 56, 49, 33, 64, 25, 27, 24, 14, 18,  4, 30, 45, 69,\n",
              "       27, 67, 14, 67, 23, 54, 31, 13, 64, 47, 65, 20, 40, 22, 61, 62, 38,\n",
              "       34,  8, 61, 61, 33, 65, 69, 23, 39,  4, 24, 64, 63, 21, 16, 56, 42,\n",
              "        5, 45, 46, 52, 20, 35, 54, 13, 21, 25, 25,  8, 47, 15, 17, 57, 49,\n",
              "       31, 31, 15, 67, 48, 21, 41, 27, 38,  1, 14, 14, 56, 21, 29, 28, 25,\n",
              "       19, 30, 66, 28, 52, 28, 55, 60, 19,  3, 16, 57, 52, 31, 31, 29, 51,\n",
              "       43, 49, 25,  6, 16, 31, 45, 57, 57, 51, 63, 12, 60, 41, 20, 53,  4,\n",
              "       30, 14, 11, 69, 29,  4, 19, 14, 27, 66, 32, 66, 26, 35, 37, 13,  4,\n",
              "       43,  8, 13, 15, 11, 19, 69, 14, 64,  4, 46, 65, 52, 21,  3, 68, 33,\n",
              "       50, 55, 24, 63, 52, 67, 68, 25, 35, 34,  0, 37, 15, 38, 68, 36, 14,\n",
              "       57,  8, 68,  0, 50, 45, 65, 26, 39, 65,  6, 53, 53,  4, 62, 41, 32,\n",
              "       26, 15, 54, 38,  5, 61, 34, 31, 45, 25, 14, 31, 12, 26, 48, 32, 64,\n",
              "       40, 63,  5, 23, 53, 32,  3, 66, 32, 32, 25,  1, 56, 17, 43, 17,  6,\n",
              "       37, 13, 50, 49, 27, 34, 49, 69, 51, 41,  1,  6, 64, 22, 20,  1,  7,\n",
              "       39, 17, 21,  5, 50, 59, 69, 38, 24, 16,  5, 44, 52, 11, 10, 22, 36,\n",
              "       52, 65,  2, 10, 50, 50, 55, 22, 58, 38, 32, 38, 44, 42, 56, 54, 38,\n",
              "       51, 67, 40, 41,  8, 57, 17, 21, 33, 66, 38, 54, 66, 43,  8, 68, 63,\n",
              "       22, 46, 38, 25, 58,  8,  2, 27, 42, 56,  5, 69, 36, 24, 55, 12, 65,\n",
              "       41, 21, 63, 14, 68, 35, 19])"
            ]
          },
          "metadata": {
            "tags": []
          },
          "execution_count": 2
        }
      ]
    },
    {
      "cell_type": "code",
      "metadata": {
        "id": "xmiivNRtKz8q",
        "colab_type": "code",
        "outputId": "7545acce-32c5-43cb-c5d6-e9c3e1b4169c",
        "colab": {
          "base_uri": "https://localhost:8080/",
          "height": 268
        }
      },
      "source": [
        "x = [0, 0, 10, 10, 10, 20, 20, 20, 30, 30, 40, 30, 30, 40, 50, 50, 58, 50, 50, 50, 58]\n",
        "y = [10, 50, 10, 50, 10, 10, 50, 10, 10, 50, 50, 50, 10, 10, 10, 30, 10, 30, 50, 30, 50]\n",
        "\n",
        "plt.scatter(x,y, color='k');\n",
        "#plt.plot(x,y, color='r');\n"
      ],
      "execution_count": 0,
      "outputs": [
        {
          "output_type": "display_data",
          "data": {
            "image/png": "[encoded data removed]",
            "text/plain": [
              "<Figure size 432x288 with 1 Axes>"
            ]
          },
          "metadata": {
            "tags": []
          }
        }
      ]
    },
    {
      "cell_type": "code",
      "metadata": {
        "id": "Kplx0PSFUThJ",
        "colab_type": "code",
        "outputId": "f4daa38b-d099-450f-a8c2-f2c90ce337aa",
        "colab": {
          "base_uri": "https://localhost:8080/",
          "height": 268
        }
      },
      "source": [
        "plt.plot(x,y, color='r');\n"
      ],
      "execution_count": 0,
      "outputs": [
        {
          "output_type": "display_data",
          "data": {
            "image/png": "[encoded data removed]",
            "text/plain": [
              "<Figure size 432x288 with 1 Axes>"
            ]
          },
          "metadata": {
            "tags": []
          }
        }
      ]
    },
    {
      "cell_type": "code",
      "metadata": {
        "id": "H-MyIWqdXyNV",
        "colab_type": "code",
        "outputId": "3a87148f-ae73-4f83-dbe4-227605186f96",
        "colab": {
          "base_uri": "https://localhost:8080/",
          "height": 677
        }
      },
      "source": [
        "df = pd.DataFrame({'nick_x': x, \"nick_y\": y})\n",
        "df"
      ],
      "execution_count": 0,
      "outputs": [
        {
          "output_type": "execute_result",
          "data": {
            "text/html": [
              "<div>\n",
              "<style scoped>\n",
              "    .dataframe tbody tr th:only-of-type {\n",
              "        vertical-align: middle;\n",
              "    }\n",
              "\n",
              "    .dataframe tbody tr th {\n",
              "        vertical-align: top;\n",
              "    }\n",
              "\n",
              "    .dataframe thead th {\n",
              "        text-align: right;\n",
              "    }\n",
              "</style>\n",
              "<table border=\"1\" class=\"dataframe\">\n",
              "  <thead>\n",
              "    <tr style=\"text-align: right;\">\n",
              "      <th></th>\n",
              "      <th>nick_x</th>\n",
              "      <th>nick_y</th>\n",
              "    </tr>\n",
              "  </thead>\n",
              "  <tbody>\n",
              "    <tr>\n",
              "      <th>0</th>\n",
              "      <td>0</td>\n",
              "      <td>10</td>\n",
              "    </tr>\n",
              "    <tr>\n",
              "      <th>1</th>\n",
              "      <td>0</td>\n",
              "      <td>50</td>\n",
              "    </tr>\n",
              "    <tr>\n",
              "      <th>2</th>\n",
              "      <td>10</td>\n",
              "      <td>10</td>\n",
              "    </tr>\n",
              "    <tr>\n",
              "      <th>3</th>\n",
              "      <td>10</td>\n",
              "      <td>50</td>\n",
              "    </tr>\n",
              "    <tr>\n",
              "      <th>4</th>\n",
              "      <td>10</td>\n",
              "      <td>10</td>\n",
              "    </tr>\n",
              "    <tr>\n",
              "      <th>5</th>\n",
              "      <td>20</td>\n",
              "      <td>10</td>\n",
              "    </tr>\n",
              "    <tr>\n",
              "      <th>6</th>\n",
              "      <td>20</td>\n",
              "      <td>50</td>\n",
              "    </tr>\n",
              "    <tr>\n",
              "      <th>7</th>\n",
              "      <td>20</td>\n",
              "      <td>10</td>\n",
              "    </tr>\n",
              "    <tr>\n",
              "      <th>8</th>\n",
              "      <td>30</td>\n",
              "      <td>10</td>\n",
              "    </tr>\n",
              "    <tr>\n",
              "      <th>9</th>\n",
              "      <td>30</td>\n",
              "      <td>50</td>\n",
              "    </tr>\n",
              "    <tr>\n",
              "      <th>10</th>\n",
              "      <td>40</td>\n",
              "      <td>50</td>\n",
              "    </tr>\n",
              "    <tr>\n",
              "      <th>11</th>\n",
              "      <td>30</td>\n",
              "      <td>50</td>\n",
              "    </tr>\n",
              "    <tr>\n",
              "      <th>12</th>\n",
              "      <td>30</td>\n",
              "      <td>10</td>\n",
              "    </tr>\n",
              "    <tr>\n",
              "      <th>13</th>\n",
              "      <td>40</td>\n",
              "      <td>10</td>\n",
              "    </tr>\n",
              "    <tr>\n",
              "      <th>14</th>\n",
              "      <td>50</td>\n",
              "      <td>10</td>\n",
              "    </tr>\n",
              "    <tr>\n",
              "      <th>15</th>\n",
              "      <td>50</td>\n",
              "      <td>30</td>\n",
              "    </tr>\n",
              "    <tr>\n",
              "      <th>16</th>\n",
              "      <td>58</td>\n",
              "      <td>10</td>\n",
              "    </tr>\n",
              "    <tr>\n",
              "      <th>17</th>\n",
              "      <td>50</td>\n",
              "      <td>30</td>\n",
              "    </tr>\n",
              "    <tr>\n",
              "      <th>18</th>\n",
              "      <td>50</td>\n",
              "      <td>50</td>\n",
              "    </tr>\n",
              "    <tr>\n",
              "      <th>19</th>\n",
              "      <td>50</td>\n",
              "      <td>30</td>\n",
              "    </tr>\n",
              "    <tr>\n",
              "      <th>20</th>\n",
              "      <td>58</td>\n",
              "      <td>50</td>\n",
              "    </tr>\n",
              "  </tbody>\n",
              "</table>\n",
              "</div>"
            ],
            "text/plain": [
              "    nick_x  nick_y\n",
              "0        0      10\n",
              "1        0      50\n",
              "2       10      10\n",
              "3       10      50\n",
              "4       10      10\n",
              "5       20      10\n",
              "6       20      50\n",
              "7       20      10\n",
              "8       30      10\n",
              "9       30      50\n",
              "10      40      50\n",
              "11      30      50\n",
              "12      30      10\n",
              "13      40      10\n",
              "14      50      10\n",
              "15      50      30\n",
              "16      58      10\n",
              "17      50      30\n",
              "18      50      50\n",
              "19      50      30\n",
              "20      58      50"
            ]
          },
          "metadata": {
            "tags": []
          },
          "execution_count": 5
        }
      ]
    },
    {
      "cell_type": "code",
      "metadata": {
        "id": "bKrHVQmvYCvx",
        "colab_type": "code",
        "outputId": "2fa86399-4bc6-4aa5-a8e3-8414f6a06413",
        "colab": {
          "base_uri": "https://localhost:8080/",
          "height": 677
        }
      },
      "source": [
        "df['nick_z'] = 2*df['nick_x']\n",
        "df['nick_a'] = 2*df['nick_y']\n",
        "df"
      ],
      "execution_count": 0,
      "outputs": [
        {
          "output_type": "execute_result",
          "data": {
            "text/html": [
              "<div>\n",
              "<style scoped>\n",
              "    .dataframe tbody tr th:only-of-type {\n",
              "        vertical-align: middle;\n",
              "    }\n",
              "\n",
              "    .dataframe tbody tr th {\n",
              "        vertical-align: top;\n",
              "    }\n",
              "\n",
              "    .dataframe thead th {\n",
              "        text-align: right;\n",
              "    }\n",
              "</style>\n",
              "<table border=\"1\" class=\"dataframe\">\n",
              "  <thead>\n",
              "    <tr style=\"text-align: right;\">\n",
              "      <th></th>\n",
              "      <th>nick_x</th>\n",
              "      <th>nick_y</th>\n",
              "      <th>nick_z</th>\n",
              "      <th>nick_a</th>\n",
              "    </tr>\n",
              "  </thead>\n",
              "  <tbody>\n",
              "    <tr>\n",
              "      <th>0</th>\n",
              "      <td>0</td>\n",
              "      <td>10</td>\n",
              "      <td>0</td>\n",
              "      <td>20</td>\n",
              "    </tr>\n",
              "    <tr>\n",
              "      <th>1</th>\n",
              "      <td>0</td>\n",
              "      <td>50</td>\n",
              "      <td>0</td>\n",
              "      <td>100</td>\n",
              "    </tr>\n",
              "    <tr>\n",
              "      <th>2</th>\n",
              "      <td>10</td>\n",
              "      <td>10</td>\n",
              "      <td>20</td>\n",
              "      <td>20</td>\n",
              "    </tr>\n",
              "    <tr>\n",
              "      <th>3</th>\n",
              "      <td>10</td>\n",
              "      <td>50</td>\n",
              "      <td>20</td>\n",
              "      <td>100</td>\n",
              "    </tr>\n",
              "    <tr>\n",
              "      <th>4</th>\n",
              "      <td>10</td>\n",
              "      <td>10</td>\n",
              "      <td>20</td>\n",
              "      <td>20</td>\n",
              "    </tr>\n",
              "    <tr>\n",
              "      <th>5</th>\n",
              "      <td>20</td>\n",
              "      <td>10</td>\n",
              "      <td>40</td>\n",
              "      <td>20</td>\n",
              "    </tr>\n",
              "    <tr>\n",
              "      <th>6</th>\n",
              "      <td>20</td>\n",
              "      <td>50</td>\n",
              "      <td>40</td>\n",
              "      <td>100</td>\n",
              "    </tr>\n",
              "    <tr>\n",
              "      <th>7</th>\n",
              "      <td>20</td>\n",
              "      <td>10</td>\n",
              "      <td>40</td>\n",
              "      <td>20</td>\n",
              "    </tr>\n",
              "    <tr>\n",
              "      <th>8</th>\n",
              "      <td>30</td>\n",
              "      <td>10</td>\n",
              "      <td>60</td>\n",
              "      <td>20</td>\n",
              "    </tr>\n",
              "    <tr>\n",
              "      <th>9</th>\n",
              "      <td>30</td>\n",
              "      <td>50</td>\n",
              "      <td>60</td>\n",
              "      <td>100</td>\n",
              "    </tr>\n",
              "    <tr>\n",
              "      <th>10</th>\n",
              "      <td>40</td>\n",
              "      <td>50</td>\n",
              "      <td>80</td>\n",
              "      <td>100</td>\n",
              "    </tr>\n",
              "    <tr>\n",
              "      <th>11</th>\n",
              "      <td>30</td>\n",
              "      <td>50</td>\n",
              "      <td>60</td>\n",
              "      <td>100</td>\n",
              "    </tr>\n",
              "    <tr>\n",
              "      <th>12</th>\n",
              "      <td>30</td>\n",
              "      <td>10</td>\n",
              "      <td>60</td>\n",
              "      <td>20</td>\n",
              "    </tr>\n",
              "    <tr>\n",
              "      <th>13</th>\n",
              "      <td>40</td>\n",
              "      <td>10</td>\n",
              "      <td>80</td>\n",
              "      <td>20</td>\n",
              "    </tr>\n",
              "    <tr>\n",
              "      <th>14</th>\n",
              "      <td>50</td>\n",
              "      <td>10</td>\n",
              "      <td>100</td>\n",
              "      <td>20</td>\n",
              "    </tr>\n",
              "    <tr>\n",
              "      <th>15</th>\n",
              "      <td>50</td>\n",
              "      <td>30</td>\n",
              "      <td>100</td>\n",
              "      <td>60</td>\n",
              "    </tr>\n",
              "    <tr>\n",
              "      <th>16</th>\n",
              "      <td>58</td>\n",
              "      <td>10</td>\n",
              "      <td>116</td>\n",
              "      <td>20</td>\n",
              "    </tr>\n",
              "    <tr>\n",
              "      <th>17</th>\n",
              "      <td>50</td>\n",
              "      <td>30</td>\n",
              "      <td>100</td>\n",
              "      <td>60</td>\n",
              "    </tr>\n",
              "    <tr>\n",
              "      <th>18</th>\n",
              "      <td>50</td>\n",
              "      <td>50</td>\n",
              "      <td>100</td>\n",
              "      <td>100</td>\n",
              "    </tr>\n",
              "    <tr>\n",
              "      <th>19</th>\n",
              "      <td>50</td>\n",
              "      <td>30</td>\n",
              "      <td>100</td>\n",
              "      <td>60</td>\n",
              "    </tr>\n",
              "    <tr>\n",
              "      <th>20</th>\n",
              "      <td>58</td>\n",
              "      <td>50</td>\n",
              "      <td>116</td>\n",
              "      <td>100</td>\n",
              "    </tr>\n",
              "  </tbody>\n",
              "</table>\n",
              "</div>"
            ],
            "text/plain": [
              "    nick_x  nick_y  nick_z  nick_a\n",
              "0        0      10       0      20\n",
              "1        0      50       0     100\n",
              "2       10      10      20      20\n",
              "3       10      50      20     100\n",
              "4       10      10      20      20\n",
              "5       20      10      40      20\n",
              "6       20      50      40     100\n",
              "7       20      10      40      20\n",
              "8       30      10      60      20\n",
              "9       30      50      60     100\n",
              "10      40      50      80     100\n",
              "11      30      50      60     100\n",
              "12      30      10      60      20\n",
              "13      40      10      80      20\n",
              "14      50      10     100      20\n",
              "15      50      30     100      60\n",
              "16      58      10     116      20\n",
              "17      50      30     100      60\n",
              "18      50      50     100     100\n",
              "19      50      30     100      60\n",
              "20      58      50     116     100"
            ]
          },
          "metadata": {
            "tags": []
          },
          "execution_count": 6
        }
      ]
    },
    {
      "cell_type": "code",
      "metadata": {
        "id": "1wJPyeSCYgjZ",
        "colab_type": "code",
        "outputId": "d8aa49be-aa13-4de1-d668-7c16975575f8",
        "colab": {
          "base_uri": "https://localhost:8080/",
          "height": 268
        }
      },
      "source": [
        "z=df['nick_z']\n",
        "a=df['nick_a']\n",
        "plt.plot(x,y,z,a);\n"
      ],
      "execution_count": 0,
      "outputs": [
        {
          "output_type": "display_data",
          "data": {
            "image/png": "[encoded data removed]",
            "text/plain": [
              "<Figure size 432x288 with 1 Axes>"
            ]
          },
          "metadata": {
            "tags": []
          }
        }
      ]
    },
    {
      "cell_type": "markdown",
      "metadata": {
        "id": "BT9gdS7viJZa",
        "colab_type": "text"
      },
      "source": [
        "### Assignment questions\n",
        "\n",
        "After you've worked on some code, answer the following questions in this text block:\n",
        "\n",
        "1.  Describe in a paragraph of text what you did and why, as if you were writing an email to somebody interested but nontechnical.\n",
        "\n",
        "2.  What was the most challenging part of what you did?\n",
        "\n",
        "3.  What was the most interesting thing you learned?\n",
        "\n",
        "4.  What area would you like to explore with more time?\n",
        "\n",
        "\n"
      ]
    },
    {
      "cell_type": "markdown",
      "metadata": {
        "id": "ZrMIKiTfwF5k",
        "colab_type": "text"
      },
      "source": [
        "1.\n",
        "\n",
        "To Whom it May Concern, \n",
        "\n",
        "  I was given an assignment in my Data Science class to explore various libraries of code that enabled me to manipulate some of my own data. The first library of code I used was called Numpy. The Numpy library can perform a lot of fancy math with arrays, but I just used it to give me an array(list) of 500 random integers from 0 to 70.\n",
        "  The next library I used was called \"Matplotlib.pyplot\". This library allowed me to take two lists of numbers, X and Y, and plot them. I messed around with the numbers until the plot drew my name, just to see if I could do it. \n",
        "  The last library I used was called Pandas. Pandas is a library that allows the user to build data frames. I built a data frame, with rows and columns, of the points I chose that drew my name. Then, I added two more rows. The first row doubled my X values, and the second doubled my Y values. This in turn, allowed me to plot my name in two different sizes, the second name showing twice as big as the first. \n",
        "  That's all for now!\n",
        "\n",
        "Thanks, \n",
        "Nick"
      ]
    },
    {
      "cell_type": "markdown",
      "metadata": {
        "id": "eLWtN5A5zdjg",
        "colab_type": "text"
      },
      "source": [
        "2.\n",
        "\n",
        "The most challenging part of what I did was tweaking the numbers to make my name."
      ]
    },
    {
      "cell_type": "markdown",
      "metadata": {
        "id": "W_rZwwcGznvc",
        "colab_type": "text"
      },
      "source": [
        "3.\n",
        "\n",
        "The most interesting thing I learned was that I could add columns to data frames with data that is derived from the original data. I can see this being very useful for when calculations are needed on a large group of data. "
      ]
    },
    {
      "cell_type": "markdown",
      "metadata": {
        "id": "g2khetkh0SsB",
        "colab_type": "text"
      },
      "source": [
        "4.\n",
        "\n",
        "I would like to explore numpy with more time because it is descrived as the \"fundamental scientific computing package\" for Python."
      ]
    },
    {
      "cell_type": "markdown",
      "metadata": {
        "id": "_XXg2crAipwP",
        "colab_type": "text"
      },
      "source": [
        "## Stretch goals and resources\n",
        "\n",
        "Following are *optional* things for you to take a look at. Focus on the above assignment first, and make sure to commit and push your changes to GitHub (and since this is the first assignment of the sprint, open a PR as well).\n",
        "\n",
        "- [pandas documentation](https://pandas.pydata.org/pandas-docs/stable/)\n",
        "- [scikit-learn documentation](http://scikit-learn.org/stable/documentation.html)\n",
        "- [matplotlib documentation](https://matplotlib.org/contents.html)\n",
        "- [Awesome Data Science](https://github.com/bulutyazilim/awesome-datascience) - a list of many types of DS resources\n",
        "\n",
        "Stretch goals:\n",
        "\n",
        "- Find and read blogs, walkthroughs, and other examples of people working through cool things with data science - and share with your classmates!\n",
        "- Write a blog post (Medium is a popular place to publish) introducing yourself as somebody learning data science, and talking about what you've learned already and what you're excited to learn more about."
      ]
    },
    {
      "cell_type": "markdown",
      "metadata": {
        "id": "v2gY-68rasBZ",
        "colab_type": "text"
      },
      "source": [
        "___________________________________________________________________________________\n",
        "\n",
        "A great post I found on AI and Machine Learning by Andreesen Horowitz covering the basics of AI.\n",
        "\n",
        "[A16Z AI Playbook](http://aiplaybook.a16z.com/)\n",
        "\n",
        "which includes various links throughout, listed below are the ones I found interesting:\n",
        "\n",
        "[Trends and Development in Deep Learning by Jeff Dean](https://www.slideshare.net/AIFrontiers/jeff-dean-trends-and-developments-in-deep-learning-research)\n",
        "\n",
        "[Language Processing Capabilities from Stanford](https://stanfordnlp.github.io/CoreNLP/)\n",
        "\n",
        "\n",
        "Different websites to use to train various Machine Learning models on your data:\n",
        "\n",
        "[MLib - A collection of Machine Learning techniques](https://spark.apache.org/mllib/)\n",
        "\n",
        "[TensorFlow - An open source Machine Learning platform](https://www.tensorflow.org/)\n",
        "\n",
        "[Keras: The Python Deep Learning library](https://keras.io)\n",
        "\n",
        "[Pytorch: An open source Machine Learning framework](https://pytorch.org/)\n",
        "\n",
        "[MXNet: A flexible and efficient library for deep learning](https://mxnet.incubator.apache.org/)\n",
        "\n",
        "\n",
        "This is a cool comparison of different models sentiment analysis:\n",
        "\n",
        "[Phrase Sentiment Analysis](http://aiplaybook.a16z.com/test/phrase/sentiment-analysis)\n",
        "\n",
        "\n",
        "\n"
      ]
    }
  ]
}