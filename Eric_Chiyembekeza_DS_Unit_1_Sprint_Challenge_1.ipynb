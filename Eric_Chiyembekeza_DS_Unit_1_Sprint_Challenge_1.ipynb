{
  "nbformat": 4,
  "nbformat_minor": 0,
  "metadata": {
    "colab": {
      "name": "Eric_Chiyembekeza_DS_Unit_1_Sprint_Challenge_1.ipynb",
      "version": "0.3.2",
      "provenance": [],
      "collapsed_sections": [],
      "include_colab_link": true
    },
    "kernelspec": {
      "name": "python3",
      "display_name": "Python 3"
    }
  },
  "cells": [
    {
      "cell_type": "markdown",
      "metadata": {
        "id": "view-in-github",
        "colab_type": "text"
      },
      "source": [
        "<a href=\"https://colab.research.google.com/github/echiyembekeza/DS-Unit-1-Sprint-1-Dealing-With-Data/blob/master/Eric_Chiyembekeza_DS_Unit_1_Sprint_Challenge_1.ipynb\" target=\"_parent\"><img src=\"https://colab.research.google.com/assets/colab-badge.svg\" alt=\"Open In Colab\"/></a>"
      ]
    },
    {
      "cell_type": "markdown",
      "metadata": {
        "id": "NooAiTdnafkz",
        "colab_type": "text"
      },
      "source": [
        "# Data Science Unit 1 Sprint Challenge 1\n",
        "\n",
        "## Loading, cleaning, visualizing, and analyzing data\n",
        "\n",
        "In this sprint challenge you will look at a dataset of the survival of patients who underwent surgery for breast cancer.\n",
        "\n",
        "http://archive.ics.uci.edu/ml/datasets/Haberman%27s+Survival\n",
        "\n",
        "Data Set Information:\n",
        "The dataset contains cases from a study that was conducted between 1958 and 1970 at the University of Chicago's Billings Hospital on the survival of patients who had undergone surgery for breast cancer.\n",
        "\n",
        "Attribute Information:\n",
        "1. Age of patient at time of operation (numerical)\n",
        "2. Patient's year of operation (year - 1900, numerical)\n",
        "3. Number of positive axillary nodes detected (numerical)\n",
        "4. Survival status (class attribute)\n",
        "-- 1 = the patient survived 5 years or longer\n",
        "-- 2 = the patient died within 5 year\n",
        "\n",
        "Sprint challenges are evaluated based on satisfactory completion of each part. It is suggested you work through it in order, getting each aspect reasonably working, before trying to deeply explore, iterate, or refine any given step. Once you get to the end, if you want to go back and improve things, go for it!"
      ]
    },
    {
      "cell_type": "markdown",
      "metadata": {
        "id": "5wch6ksCbJtZ",
        "colab_type": "text"
      },
      "source": [
        "## Part 1 - Load and validate the data\n",
        "\n",
        "- Load the data as a `pandas` data frame.\n",
        "- Validate that it has the appropriate number of observations (you can check the raw file, and also read the dataset description from UCI).\n",
        "- Validate that you have no missing values.\n",
        "- Add informative names to the features.\n",
        "- The survival variable is encoded as 1 for surviving >5 years and 2 for not - change this to be 0 for not surviving and 1 for surviving >5 years (0/1 is a more traditional encoding of binary variables)\n",
        "\n",
        "At the end, print the first five rows of the dataset to demonstrate the above."
      ]
    },
    {
      "cell_type": "code",
      "metadata": {
        "id": "287TpoGKFRVK",
        "colab_type": "code",
        "outputId": "235cbe9f-8540-40f8-df56-67dd572c4679",
        "colab": {
          "base_uri": "https://localhost:8080/",
          "height": 204
        }
      },
      "source": [
        "# TODO load data\n",
        "import pandas as pd\n",
        "col_names = ['Age', 'Op_year', 'Num_nodes', 'Surv_stat']\n",
        "df = pd.read_csv('http://archive.ics.uci.edu/ml/machine-learning-databases/haberman/haberman.data', header=None, names=col_names)\n",
        "#we now need to make this data make sense\n",
        "#let's add some names to these features\n",
        "#we can get the features from the attributes above\n",
        "#==============#\n",
        "#Age of patient at time of operation (numerical)\n",
        "#Patient's year of operation (year - 1900, numerical)\n",
        "#Number of positive axillary nodes detected (numerical)\n",
        "#Survival status (class attribute) -- 1 = the patient survived 5 years or longer -- 2 = the patient died within 5 year\n",
        "\n",
        "df.head()"
      ],
      "execution_count": 0,
      "outputs": [
        {
          "output_type": "execute_result",
          "data": {
            "text/html": [
              "<div>\n",
              "<style scoped>\n",
              "    .dataframe tbody tr th:only-of-type {\n",
              "        vertical-align: middle;\n",
              "    }\n",
              "\n",
              "    .dataframe tbody tr th {\n",
              "        vertical-align: top;\n",
              "    }\n",
              "\n",
              "    .dataframe thead th {\n",
              "        text-align: right;\n",
              "    }\n",
              "</style>\n",
              "<table border=\"1\" class=\"dataframe\">\n",
              "  <thead>\n",
              "    <tr style=\"text-align: right;\">\n",
              "      <th></th>\n",
              "      <th>Age</th>\n",
              "      <th>Op_year</th>\n",
              "      <th>Num_nodes</th>\n",
              "      <th>Surv_stat</th>\n",
              "    </tr>\n",
              "  </thead>\n",
              "  <tbody>\n",
              "    <tr>\n",
              "      <th>0</th>\n",
              "      <td>30</td>\n",
              "      <td>64</td>\n",
              "      <td>1</td>\n",
              "      <td>1</td>\n",
              "    </tr>\n",
              "    <tr>\n",
              "      <th>1</th>\n",
              "      <td>30</td>\n",
              "      <td>62</td>\n",
              "      <td>3</td>\n",
              "      <td>1</td>\n",
              "    </tr>\n",
              "    <tr>\n",
              "      <th>2</th>\n",
              "      <td>30</td>\n",
              "      <td>65</td>\n",
              "      <td>0</td>\n",
              "      <td>1</td>\n",
              "    </tr>\n",
              "    <tr>\n",
              "      <th>3</th>\n",
              "      <td>31</td>\n",
              "      <td>59</td>\n",
              "      <td>2</td>\n",
              "      <td>1</td>\n",
              "    </tr>\n",
              "    <tr>\n",
              "      <th>4</th>\n",
              "      <td>31</td>\n",
              "      <td>65</td>\n",
              "      <td>4</td>\n",
              "      <td>1</td>\n",
              "    </tr>\n",
              "  </tbody>\n",
              "</table>\n",
              "</div>"
            ],
            "text/plain": [
              "   Age  Op_year  Num_nodes  Surv_stat\n",
              "0   30       64          1          1\n",
              "1   30       62          3          1\n",
              "2   30       65          0          1\n",
              "3   31       59          2          1\n",
              "4   31       65          4          1"
            ]
          },
          "metadata": {
            "tags": []
          },
          "execution_count": 18
        }
      ]
    },
    {
      "cell_type": "code",
      "metadata": {
        "id": "l94SUpNYYt09",
        "colab_type": "code",
        "outputId": "cb4ed20e-77b9-4c5d-f3f0-37320d63183e",
        "colab": {
          "base_uri": "https://localhost:8080/",
          "height": 34
        }
      },
      "source": [
        "#Validate the appropriate number of obs.\n",
        "#The UCI site says that there are 306 instances with 4 attributes\n",
        "#running the shape of the dataframe will produce these results\n",
        "df.shape"
      ],
      "execution_count": 0,
      "outputs": [
        {
          "output_type": "execute_result",
          "data": {
            "text/plain": [
              "(306, 4)"
            ]
          },
          "metadata": {
            "tags": []
          },
          "execution_count": 19
        }
      ]
    },
    {
      "cell_type": "code",
      "metadata": {
        "id": "9KHCl-y5ZHhp",
        "colab_type": "code",
        "outputId": "097efaf9-07ed-4670-f95f-c23a26ae4293",
        "colab": {
          "base_uri": "https://localhost:8080/",
          "height": 1190
        }
      },
      "source": [
        "#Look for missing values\n",
        "print (df.isnull()) #running this appears to show that there are no missing values.\n",
        "#but let's be sure by also running the sum\n",
        "df.isnull().sum()"
      ],
      "execution_count": 0,
      "outputs": [
        {
          "output_type": "stream",
          "text": [
            "       Age  Op_year  Num_nodes  Surv_stat\n",
            "0    False    False      False      False\n",
            "1    False    False      False      False\n",
            "2    False    False      False      False\n",
            "3    False    False      False      False\n",
            "4    False    False      False      False\n",
            "5    False    False      False      False\n",
            "6    False    False      False      False\n",
            "7    False    False      False      False\n",
            "8    False    False      False      False\n",
            "9    False    False      False      False\n",
            "10   False    False      False      False\n",
            "11   False    False      False      False\n",
            "12   False    False      False      False\n",
            "13   False    False      False      False\n",
            "14   False    False      False      False\n",
            "15   False    False      False      False\n",
            "16   False    False      False      False\n",
            "17   False    False      False      False\n",
            "18   False    False      False      False\n",
            "19   False    False      False      False\n",
            "20   False    False      False      False\n",
            "21   False    False      False      False\n",
            "22   False    False      False      False\n",
            "23   False    False      False      False\n",
            "24   False    False      False      False\n",
            "25   False    False      False      False\n",
            "26   False    False      False      False\n",
            "27   False    False      False      False\n",
            "28   False    False      False      False\n",
            "29   False    False      False      False\n",
            "..     ...      ...        ...        ...\n",
            "276  False    False      False      False\n",
            "277  False    False      False      False\n",
            "278  False    False      False      False\n",
            "279  False    False      False      False\n",
            "280  False    False      False      False\n",
            "281  False    False      False      False\n",
            "282  False    False      False      False\n",
            "283  False    False      False      False\n",
            "284  False    False      False      False\n",
            "285  False    False      False      False\n",
            "286  False    False      False      False\n",
            "287  False    False      False      False\n",
            "288  False    False      False      False\n",
            "289  False    False      False      False\n",
            "290  False    False      False      False\n",
            "291  False    False      False      False\n",
            "292  False    False      False      False\n",
            "293  False    False      False      False\n",
            "294  False    False      False      False\n",
            "295  False    False      False      False\n",
            "296  False    False      False      False\n",
            "297  False    False      False      False\n",
            "298  False    False      False      False\n",
            "299  False    False      False      False\n",
            "300  False    False      False      False\n",
            "301  False    False      False      False\n",
            "302  False    False      False      False\n",
            "303  False    False      False      False\n",
            "304  False    False      False      False\n",
            "305  False    False      False      False\n",
            "\n",
            "[306 rows x 4 columns]\n"
          ],
          "name": "stdout"
        },
        {
          "output_type": "execute_result",
          "data": {
            "text/plain": [
              "Age          0\n",
              "Op_year      0\n",
              "Num_nodes    0\n",
              "Surv_stat    0\n",
              "dtype: int64"
            ]
          },
          "metadata": {
            "tags": []
          },
          "execution_count": 20
        }
      ]
    },
    {
      "cell_type": "code",
      "metadata": {
        "id": "-pnay-Qtbb6q",
        "colab_type": "code",
        "outputId": "ed18ac10-768f-4f10-f7ef-f6a22be39420",
        "colab": {
          "base_uri": "https://localhost:8080/",
          "height": 1105
        }
      },
      "source": [
        "change_surv = {2:0}\n",
        "df['Surv_stat'] = df['Surv_stat'].replace(change_surv)\n",
        "df.head"
      ],
      "execution_count": 0,
      "outputs": [
        {
          "output_type": "execute_result",
          "data": {
            "text/plain": [
              "<bound method NDFrame.head of      Age  Op_year  Num_nodes  Surv_stat\n",
              "0     30       64          1          1\n",
              "1     30       62          3          1\n",
              "2     30       65          0          1\n",
              "3     31       59          2          1\n",
              "4     31       65          4          1\n",
              "5     33       58         10          1\n",
              "6     33       60          0          1\n",
              "7     34       59          0          0\n",
              "8     34       66          9          0\n",
              "9     34       58         30          1\n",
              "10    34       60          1          1\n",
              "11    34       61         10          1\n",
              "12    34       67          7          1\n",
              "13    34       60          0          1\n",
              "14    35       64         13          1\n",
              "15    35       63          0          1\n",
              "16    36       60          1          1\n",
              "17    36       69          0          1\n",
              "18    37       60          0          1\n",
              "19    37       63          0          1\n",
              "20    37       58          0          1\n",
              "21    37       59          6          1\n",
              "22    37       60         15          1\n",
              "23    37       63          0          1\n",
              "24    38       69         21          0\n",
              "25    38       59          2          1\n",
              "26    38       60          0          1\n",
              "27    38       60          0          1\n",
              "28    38       62          3          1\n",
              "29    38       64          1          1\n",
              "..   ...      ...        ...        ...\n",
              "276   67       66          0          1\n",
              "277   67       61          0          1\n",
              "278   67       65          0          1\n",
              "279   68       67          0          1\n",
              "280   68       68          0          1\n",
              "281   69       67          8          0\n",
              "282   69       60          0          1\n",
              "283   69       65          0          1\n",
              "284   69       66          0          1\n",
              "285   70       58          0          0\n",
              "286   70       58          4          0\n",
              "287   70       66         14          1\n",
              "288   70       67          0          1\n",
              "289   70       68          0          1\n",
              "290   70       59          8          1\n",
              "291   70       63          0          1\n",
              "292   71       68          2          1\n",
              "293   72       63          0          0\n",
              "294   72       58          0          1\n",
              "295   72       64          0          1\n",
              "296   72       67          3          1\n",
              "297   73       62          0          1\n",
              "298   73       68          0          1\n",
              "299   74       65          3          0\n",
              "300   74       63          0          1\n",
              "301   75       62          1          1\n",
              "302   76       67          0          1\n",
              "303   77       65          3          1\n",
              "304   78       65          1          0\n",
              "305   83       58          2          0\n",
              "\n",
              "[306 rows x 4 columns]>"
            ]
          },
          "metadata": {
            "tags": []
          },
          "execution_count": 22
        }
      ]
    },
    {
      "cell_type": "markdown",
      "metadata": {
        "id": "G7rLytbrO38L",
        "colab_type": "text"
      },
      "source": [
        "## Part 2 - Examine the distribution and relationships of the features\n",
        "\n",
        "Explore the data - create at least *2* tables (can be summary statistics or crosstabulations) and *2* plots illustrating the nature of the data.\n",
        "\n",
        "This is open-ended, so to remind - first *complete* this task as a baseline, then go on to the remaining sections, and *then* as time allows revisit and explore further.\n",
        "\n",
        "Hint - you may need to bin some variables depending on your chosen tables/plots."
      ]
    },
    {
      "cell_type": "code",
      "metadata": {
        "id": "IAkllgCIFVj0",
        "colab_type": "code",
        "outputId": "6b624d27-fbdc-4761-ec17-2a9630b6a842",
        "colab": {
          "base_uri": "https://localhost:8080/",
          "height": 170
        }
      },
      "source": [
        "# TODO\n",
        "#Let's descibe the data\n",
        "stats = df.describe()\n",
        "print(stats)\n"
      ],
      "execution_count": 0,
      "outputs": [
        {
          "output_type": "stream",
          "text": [
            "              Age     Op_year   Num_nodes   Surv_stat\n",
            "count  306.000000  306.000000  306.000000  306.000000\n",
            "mean    52.457516   62.852941    4.026144    0.735294\n",
            "std     10.803452    3.249405    7.189654    0.441899\n",
            "min     30.000000   58.000000    0.000000    0.000000\n",
            "25%     44.000000   60.000000    0.000000    0.000000\n",
            "50%     52.000000   63.000000    1.000000    1.000000\n",
            "75%     60.750000   65.750000    4.000000    1.000000\n",
            "max     83.000000   69.000000   52.000000    1.000000\n"
          ],
          "name": "stdout"
        }
      ]
    },
    {
      "cell_type": "code",
      "metadata": {
        "id": "XwWe17YcdroP",
        "colab_type": "code",
        "outputId": "82a3bcf2-8be1-41b5-ff5d-eb49875b7b18",
        "colab": {
          "base_uri": "https://localhost:8080/",
          "height": 1207
        }
      },
      "source": [
        "#Let's include some binning for the age since that is continuous\n",
        "age_bins = pd.cut(df['Age'], 5)\n",
        "node_bins = pd.cut(df['Num_nodes'], 5)\n",
        "#let's crosstab some stuff\n",
        "ct = pd.crosstab([df['Num_nodes'],node_bins], [df['Surv_stat'], age_bins])\n",
        "ct_norm = pd.crosstab([df['Num_nodes'],node_bins], [df['Surv_stat'], age_bins], normalize=True)\n",
        "print(ct)\n",
        "print(ct_norm)"
      ],
      "execution_count": 0,
      "outputs": [
        {
          "output_type": "stream",
          "text": [
            "Surv_stat                                  0                            \\\n",
            "Age                           (29.947, 40.6] (40.6, 51.2] (51.2, 61.8]   \n",
            "Num_nodes      Num_nodes                                                 \n",
            "(-0.052, 10.4] (-0.052, 10.4]              3           22           19   \n",
            "(10.4, 20.8]   (10.4, 20.8]                0            6            5   \n",
            "(20.8, 31.2]   (20.8, 31.2]                1            2            2   \n",
            "(31.2, 41.6]   (31.2, 41.6]                0            0            1   \n",
            "(41.6, 52.0]   (41.6, 52.0]                0            1            0   \n",
            "\n",
            "Surv_stat                                                            1  \\\n",
            "Age                           (61.8, 72.4] (72.4, 83.0] (29.947, 40.6]   \n",
            "Num_nodes      Num_nodes                                                 \n",
            "(-0.052, 10.4] (-0.052, 10.4]           11            3             35   \n",
            "(10.4, 20.8]   (10.4, 20.8]              4            0              3   \n",
            "(20.8, 31.2]   (20.8, 31.2]              1            0              1   \n",
            "(31.2, 41.6]   (31.2, 41.6]              0            0              0   \n",
            "(41.6, 52.0]   (41.6, 52.0]              0            0              0   \n",
            "\n",
            "Surv_stat                                                             \\\n",
            "Age                           (40.6, 51.2] (51.2, 61.8] (61.8, 72.4]   \n",
            "Num_nodes      Num_nodes                                               \n",
            "(-0.052, 10.4] (-0.052, 10.4]           63           64           40   \n",
            "(10.4, 20.8]   (10.4, 20.8]              5            2            1   \n",
            "(20.8, 31.2]   (20.8, 31.2]              0            2            2   \n",
            "(31.2, 41.6]   (31.2, 41.6]              0            0            0   \n",
            "(41.6, 52.0]   (41.6, 52.0]              0            1            0   \n",
            "\n",
            "Surv_stat                                   \n",
            "Age                           (72.4, 83.0]  \n",
            "Num_nodes      Num_nodes                    \n",
            "(-0.052, 10.4] (-0.052, 10.4]            6  \n",
            "(10.4, 20.8]   (10.4, 20.8]              0  \n",
            "(20.8, 31.2]   (20.8, 31.2]              0  \n",
            "(31.2, 41.6]   (31.2, 41.6]              0  \n",
            "(41.6, 52.0]   (41.6, 52.0]              0  \n",
            "Surv_stat                                  0                            \\\n",
            "Age                           (29.947, 40.6] (40.6, 51.2] (51.2, 61.8]   \n",
            "Num_nodes      Num_nodes                                                 \n",
            "(-0.052, 10.4] (-0.052, 10.4]       0.009804     0.071895     0.062092   \n",
            "(10.4, 20.8]   (10.4, 20.8]         0.000000     0.019608     0.016340   \n",
            "(20.8, 31.2]   (20.8, 31.2]         0.003268     0.006536     0.006536   \n",
            "(31.2, 41.6]   (31.2, 41.6]         0.000000     0.000000     0.003268   \n",
            "(41.6, 52.0]   (41.6, 52.0]         0.000000     0.003268     0.000000   \n",
            "\n",
            "Surv_stat                                                            1  \\\n",
            "Age                           (61.8, 72.4] (72.4, 83.0] (29.947, 40.6]   \n",
            "Num_nodes      Num_nodes                                                 \n",
            "(-0.052, 10.4] (-0.052, 10.4]     0.035948     0.009804       0.114379   \n",
            "(10.4, 20.8]   (10.4, 20.8]       0.013072     0.000000       0.009804   \n",
            "(20.8, 31.2]   (20.8, 31.2]       0.003268     0.000000       0.003268   \n",
            "(31.2, 41.6]   (31.2, 41.6]       0.000000     0.000000       0.000000   \n",
            "(41.6, 52.0]   (41.6, 52.0]       0.000000     0.000000       0.000000   \n",
            "\n",
            "Surv_stat                                                             \\\n",
            "Age                           (40.6, 51.2] (51.2, 61.8] (61.8, 72.4]   \n",
            "Num_nodes      Num_nodes                                               \n",
            "(-0.052, 10.4] (-0.052, 10.4]     0.205882     0.209150     0.130719   \n",
            "(10.4, 20.8]   (10.4, 20.8]       0.016340     0.006536     0.003268   \n",
            "(20.8, 31.2]   (20.8, 31.2]       0.000000     0.006536     0.006536   \n",
            "(31.2, 41.6]   (31.2, 41.6]       0.000000     0.000000     0.000000   \n",
            "(41.6, 52.0]   (41.6, 52.0]       0.000000     0.003268     0.000000   \n",
            "\n",
            "Surv_stat                                   \n",
            "Age                           (72.4, 83.0]  \n",
            "Num_nodes      Num_nodes                    \n",
            "(-0.052, 10.4] (-0.052, 10.4]     0.019608  \n",
            "(10.4, 20.8]   (10.4, 20.8]       0.000000  \n",
            "(20.8, 31.2]   (20.8, 31.2]       0.000000  \n",
            "(31.2, 41.6]   (31.2, 41.6]       0.000000  \n",
            "(41.6, 52.0]   (41.6, 52.0]       0.000000  \n"
          ],
          "name": "stdout"
        }
      ]
    },
    {
      "cell_type": "code",
      "metadata": {
        "id": "qSoE_21Dg6Fl",
        "colab_type": "code",
        "outputId": "130187fe-830c-4d00-9a77-264a7ba010c7",
        "colab": {
          "base_uri": "https://localhost:8080/",
          "height": 286
        }
      },
      "source": [
        "#This gives us a pictoral depiction of statistical data\n",
        "age_box = df.boxplot('Age')\n",
        "print(age_box)"
      ],
      "execution_count": 0,
      "outputs": [
        {
          "output_type": "stream",
          "text": [
            "AxesSubplot(0.125,0.125;0.775x0.755)\n"
          ],
          "name": "stdout"
        },
        {
          "output_type": "display_data",
          "data": {
            "image/png": "[encoded data removed]",
            "text/plain": [
              "<Figure size 432x288 with 1 Axes>"
            ]
          },
          "metadata": {
            "tags": []
          }
        }
      ]
    },
    {
      "cell_type": "code",
      "metadata": {
        "id": "dMGy6maXhhFq",
        "colab_type": "code",
        "outputId": "685d293f-a154-47ed-b24c-2bcbfb0afb12",
        "colab": {
          "base_uri": "https://localhost:8080/",
          "height": 281
        }
      },
      "source": [
        "ct.hist();"
      ],
      "execution_count": 0,
      "outputs": [
        {
          "output_type": "display_data",
          "data": {
            "image/png": "[encoded data removed]",
            "text/plain": [
              "<Figure size 432x288 with 12 Axes>"
            ]
          },
          "metadata": {
            "tags": []
          }
        }
      ]
    },
    {
      "cell_type": "code",
      "metadata": {
        "id": "uf3wyMlPiZKF",
        "colab_type": "code",
        "outputId": "afb08dc9-bd30-4b82-c9fa-d8f21f389847",
        "colab": {
          "base_uri": "https://localhost:8080/",
          "height": 355
        }
      },
      "source": [
        "import seaborn as sns\n",
        "sns.heatmap(pd.crosstab([df['Num_nodes'],node_bins], [df['Surv_stat'], age_bins]));"
      ],
      "execution_count": 0,
      "outputs": [
        {
          "output_type": "display_data",
          "data": {
            "image/png": "[encoded data removed]",
            "text/plain": [
              "<Figure size 432x288 with 2 Axes>"
            ]
          },
          "metadata": {
            "tags": []
          }
        }
      ]
    },
    {
      "cell_type": "code",
      "metadata": {
        "id": "K8wl6adYldl3",
        "colab_type": "code",
        "outputId": "e31fd367-7f12-42fa-fe6c-5e5e0ac12e10",
        "colab": {
          "base_uri": "https://localhost:8080/",
          "height": 899
        }
      },
      "source": [
        "age_kde = sns.jointplot(x='Age', y='Surv_stat', data=df, kind=\"kde\");\n",
        "print(age_kde)\n",
        "year_kde = sns.jointplot(x='Op_year', y='Surv_stat', data=df, kind=\"kde\");\n",
        "print(year_kde)\n",
        "\n"
      ],
      "execution_count": 0,
      "outputs": [
        {
          "output_type": "stream",
          "text": [
            "<seaborn.axisgrid.JointGrid object at 0x7f1de4f3b080>\n",
            "<seaborn.axisgrid.JointGrid object at 0x7f1de5c14ba8>\n"
          ],
          "name": "stdout"
        },
        {
          "output_type": "display_data",
          "data": {
            "image/png": "[encoded data removed]",
            "text/plain": [
              "<Figure size 432x432 with 3 Axes>"
            ]
          },
          "metadata": {
            "tags": []
          }
        },
        {
          "output_type": "display_data",
          "data": {
            "image/png": "[encoded data removed]",
            "text/plain": [
              "<Figure size 432x432 with 3 Axes>"
            ]
          },
          "metadata": {
            "tags": []
          }
        }
      ]
    },
    {
      "cell_type": "markdown",
      "metadata": {
        "id": "ZM8JckA2bgnp",
        "colab_type": "text"
      },
      "source": [
        "## Part 3 - Analysis and Interpretation\n",
        "\n",
        "Now that you've looked at the data, answer the following questions:\n",
        "\n",
        "- What is at least one feature that looks to have a positive relationship with survival?\n",
        "\n",
        "*One feature that appeared to really have a positive relationship with survival would be the number of nodes. I decided to \"bin\" the number of nodes since the range of that feature was from 0 to 52. I \"binned\" the nodes feature into 5 bins, much like I did with age. Based on the heat map, it appears that the most positive relationship with survival were in individuals with 0 to 10.4 nodes.*\n",
        "\n",
        "- What is at least one feature that looks to have a negative relationship with survival?\n",
        "\n",
        "*The feature that seems to have a slightly negative relationship with survival would be the operation year. While the relationship seems to be slight, there is a much higher density (signifying higher survival) in the earlier years of operation.*\n",
        "\n",
        "- How are those two features related with each other, and what might that mean?\n",
        "*From the visualization below (especially), it is pretty clear that there is no real correlation or relationship between the operation year and the number of nodes meaning that this could be a spurious relationship.*\n",
        "\n",
        "Answer with text, but feel free to intersperse example code/results or refer to it from earlier."
      ]
    },
    {
      "cell_type": "code",
      "metadata": {
        "id": "Bd2K8asHsfsv",
        "colab_type": "code",
        "outputId": "8a21fc2d-d551-42c9-e4fc-2404662556b8",
        "colab": {
          "base_uri": "https://localhost:8080/",
          "height": 284
        }
      },
      "source": [
        "node_year = sns.scatterplot(x='Op_year', y='Num_nodes', data=df);"
      ],
      "execution_count": 0,
      "outputs": [
        {
          "output_type": "display_data",
          "data": {
            "image/png": "[encoded data removed]",
            "text/plain": [
              "<Figure size 432x288 with 1 Axes>"
            ]
          },
          "metadata": {
            "tags": []
          }
        }
      ]
    },
    {
      "cell_type": "code",
      "metadata": {
        "id": "m1xBPjoesgeI",
        "colab_type": "code",
        "colab": {}
      },
      "source": [
        ""
      ],
      "execution_count": 0,
      "outputs": []
    }
  ]
}