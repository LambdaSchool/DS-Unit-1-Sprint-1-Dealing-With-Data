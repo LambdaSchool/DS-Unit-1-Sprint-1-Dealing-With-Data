{
  "nbformat": 4,
  "nbformat_minor": 0,
  "metadata": {
    "colab": {
      "name": "ASartan LS_DS_111_A_First_Look_at_Data.ipynb",
      "version": "0.3.2",
      "provenance": [],
      "include_colab_link": true
    },
    "kernelspec": {
      "name": "python3",
      "display_name": "Python 3"
    }
  },
  "cells": [
    {
      "cell_type": "markdown",
      "metadata": {
        "id": "view-in-github",
        "colab_type": "text"
      },
      "source": [
        "<a href=\"https://colab.research.google.com/github/asartan/DS-Unit-1-Sprint-1-Dealing-With-Data/blob/master/ASartan_LS_DS_111_A_First_Look_at_Data.ipynb\" target=\"_parent\"><img src=\"https://colab.research.google.com/assets/colab-badge.svg\" alt=\"Open In Colab\"/></a>"
      ]
    },
    {
      "cell_type": "markdown",
      "metadata": {
        "id": "Okfr_uhwhS1X",
        "colab_type": "text"
      },
      "source": [
        "# Lambda School Data Science - A First Look at Data\n",
        "\n"
      ]
    },
    {
      "cell_type": "markdown",
      "metadata": {
        "id": "9dtJETFRhnOG",
        "colab_type": "text"
      },
      "source": [
        "## Lecture - let's explore Python DS libraries and examples!\n",
        "\n",
        "The Python Data Science ecosystem is huge. You've seen some of the big pieces - pandas, scikit-learn, matplotlib. What parts do you want to see more of?"
      ]
    },
    {
      "cell_type": "code",
      "metadata": {
        "id": "WiBkgmPJhmhE",
        "colab_type": "code",
        "outputId": "08bd8172-b30b-4436-9700-b754b80fff5e",
        "colab": {
          "base_uri": "https://localhost:8080/",
          "height": 34
        }
      },
      "source": [
        "2 + 2"
      ],
      "execution_count": 81,
      "outputs": [
        {
          "output_type": "execute_result",
          "data": {
            "text/plain": [
              "4"
            ]
          },
          "metadata": {
            "tags": []
          },
          "execution_count": 81
        }
      ]
    },
    {
      "cell_type": "markdown",
      "metadata": {
        "id": "lOqaPds9huME",
        "colab_type": "text"
      },
      "source": [
        "## Assignment - now it's your turn\n",
        "\n",
        "Pick at least one Python DS library, and using documentation/examples reproduce in this notebook something cool. It's OK if you don't fully understand it or get it 100% working, but do put in effort and look things up."
      ]
    },
    {
      "cell_type": "code",
      "metadata": {
        "id": "TGUS79cOhPWj",
        "colab_type": "code",
        "colab": {
          "resources": {
            "http://localhost:8080/nbextensions/google.colab/files.js": {
              "data": "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",
              "ok": true,
              "headers": [
                [
                  "content-type",
                  "application/javascript"
                ]
              ],
              "status": 200,
              "status_text": "OK"
            }
          },
          "base_uri": "https://localhost:8080/",
          "height": 72
        },
        "outputId": "75b89501-4a2e-4099-96e7-c43debc5f965"
      },
      "source": [
        "import pandas as pd\n",
        "\n",
        "#Importing Women's Shoe Prices dataset \n",
        "\n",
        "from google.colab import files\n",
        "uploaded = files.upload()"
      ],
      "execution_count": 83,
      "outputs": [
        {
          "output_type": "display_data",
          "data": {
            "text/html": [
              "\n",
              "     <input type=\"file\" id=\"files-9da9fec9-d5d0-4806-8ddc-ab46e91fefc7\" name=\"files[]\" multiple disabled />\n",
              "     <output id=\"result-9da9fec9-d5d0-4806-8ddc-ab46e91fefc7\">\n",
              "      Upload widget is only available when the cell has been executed in the\n",
              "      current browser session. Please rerun this cell to enable.\n",
              "      </output>\n",
              "      <script src=\"/nbextensions/google.colab/files.js\"></script> "
            ],
            "text/plain": [
              "<IPython.core.display.HTML object>"
            ]
          },
          "metadata": {
            "tags": []
          }
        },
        {
          "output_type": "stream",
          "text": [
            "Saving Datafiniti_Womens_Shoes_Jun19.csv to Datafiniti_Womens_Shoes_Jun19 (2).csv\n"
          ],
          "name": "stdout"
        }
      ]
    },
    {
      "cell_type": "code",
      "metadata": {
        "id": "8YbAs-7ydxyZ",
        "colab_type": "code",
        "colab": {}
      },
      "source": [
        "import io\n",
        "\n",
        "df = pd.read_csv(io.BytesIO(uploaded['Datafiniti_Womens_Shoes_Jun19.csv']))"
      ],
      "execution_count": 0,
      "outputs": []
    },
    {
      "cell_type": "code",
      "metadata": {
        "id": "hkkhzbiDe24n",
        "colab_type": "code",
        "colab": {
          "base_uri": "https://localhost:8080/",
          "height": 643
        },
        "outputId": "e6ca3dbc-c5a3-406c-948d-f04a0930910d"
      },
      "source": [
        "df.head()"
      ],
      "execution_count": 85,
      "outputs": [
        {
          "output_type": "execute_result",
          "data": {
            "text/html": [
              "<div>\n",
              "<style scoped>\n",
              "    .dataframe tbody tr th:only-of-type {\n",
              "        vertical-align: middle;\n",
              "    }\n",
              "\n",
              "    .dataframe tbody tr th {\n",
              "        vertical-align: top;\n",
              "    }\n",
              "\n",
              "    .dataframe thead th {\n",
              "        text-align: right;\n",
              "    }\n",
              "</style>\n",
              "<table border=\"1\" class=\"dataframe\">\n",
              "  <thead>\n",
              "    <tr style=\"text-align: right;\">\n",
              "      <th></th>\n",
              "      <th>id</th>\n",
              "      <th>dateAdded</th>\n",
              "      <th>dateUpdated</th>\n",
              "      <th>asins</th>\n",
              "      <th>brand</th>\n",
              "      <th>categories</th>\n",
              "      <th>primaryCategories</th>\n",
              "      <th>colors</th>\n",
              "      <th>dimension</th>\n",
              "      <th>ean / upc</th>\n",
              "      <th>imageURLs</th>\n",
              "      <th>keys</th>\n",
              "      <th>manufacturer</th>\n",
              "      <th>manufacturerNumber</th>\n",
              "      <th>name</th>\n",
              "      <th>prices.amountMax</th>\n",
              "      <th>prices.amountMin</th>\n",
              "      <th>prices.availability</th>\n",
              "      <th>prices.color</th>\n",
              "      <th>prices.condition</th>\n",
              "      <th>prices.currency</th>\n",
              "      <th>prices.dateAdded</th>\n",
              "      <th>prices.dateSeen</th>\n",
              "      <th>prices.isSale</th>\n",
              "      <th>prices.merchant</th>\n",
              "      <th>prices.offer</th>\n",
              "      <th>prices.returnPolicy</th>\n",
              "      <th>prices.shipping</th>\n",
              "      <th>prices.size</th>\n",
              "      <th>prices.sourceURLs</th>\n",
              "      <th>sizes</th>\n",
              "      <th>sourceURLs</th>\n",
              "    </tr>\n",
              "  </thead>\n",
              "  <tbody>\n",
              "    <tr>\n",
              "      <th>0</th>\n",
              "      <td>AWpyySsJAGTnQPR7wNt4</td>\n",
              "      <td>2019-05-01T09:27:22Z</td>\n",
              "      <td>2019-05-01T09:27:22Z</td>\n",
              "      <td>NaN</td>\n",
              "      <td>City Classified</td>\n",
              "      <td>Clothing,Shoes,Womens Shoes,All Womens Shoes</td>\n",
              "      <td>Shoes</td>\n",
              "      <td>Black</td>\n",
              "      <td>NaN</td>\n",
              "      <td>656000000000</td>\n",
              "      <td>https://i5.walmartimages.com/asr/f0dc6cbd-fa38...</td>\n",
              "      <td>walmart.com-2013PXX8GMN7,656143772191,06561437...</td>\n",
              "      <td>NaN</td>\n",
              "      <td>NaN</td>\n",
              "      <td>City Classified Stylish-S Women's Zipper Ankle...</td>\n",
              "      <td>29.95</td>\n",
              "      <td>29.95</td>\n",
              "      <td>True</td>\n",
              "      <td>Black</td>\n",
              "      <td>NaN</td>\n",
              "      <td>USD</td>\n",
              "      <td>NaN</td>\n",
              "      <td>2019-04-19T07:09:29Z</td>\n",
              "      <td>NaN</td>\n",
              "      <td>NaN</td>\n",
              "      <td>Online only</td>\n",
              "      <td>NaN</td>\n",
              "      <td>NaN</td>\n",
              "      <td>8</td>\n",
              "      <td>https://www.walmart.com/ip/City-Classified-Sty...</td>\n",
              "      <td>8</td>\n",
              "      <td>https://www.walmart.com/ip/City-Classified-Sty...</td>\n",
              "    </tr>\n",
              "    <tr>\n",
              "      <th>1</th>\n",
              "      <td>AWpyyyb3AGTnQPR7wN-u</td>\n",
              "      <td>2019-05-01T09:27:19Z</td>\n",
              "      <td>2019-05-01T09:27:19Z</td>\n",
              "      <td>NaN</td>\n",
              "      <td>Skechers</td>\n",
              "      <td>Clothing,Shoes,Womens Shoes,All Womens Shoes</td>\n",
              "      <td>Shoes</td>\n",
              "      <td>Taupe</td>\n",
              "      <td>NaN</td>\n",
              "      <td>192000000000</td>\n",
              "      <td>NaN</td>\n",
              "      <td>192283420528,0192283420528,walmart.com-21739WH...</td>\n",
              "      <td>NaN</td>\n",
              "      <td>NaN</td>\n",
              "      <td>Skechers Women'S You Radiate, Walking</td>\n",
              "      <td>84.00</td>\n",
              "      <td>84.00</td>\n",
              "      <td>True</td>\n",
              "      <td>Taupe</td>\n",
              "      <td>NaN</td>\n",
              "      <td>USD</td>\n",
              "      <td>NaN</td>\n",
              "      <td>2019-04-24T09:14:11Z</td>\n",
              "      <td>NaN</td>\n",
              "      <td>NaN</td>\n",
              "      <td>Online only</td>\n",
              "      <td>NaN</td>\n",
              "      <td>NaN</td>\n",
              "      <td>6 M US</td>\n",
              "      <td>https://www.walmart.com/ip/Skechers-Women-S-Yo...</td>\n",
              "      <td>6 M US</td>\n",
              "      <td>https://www.walmart.com/ip/Skechers-Women-S-Yo...</td>\n",
              "    </tr>\n",
              "    <tr>\n",
              "      <th>2</th>\n",
              "      <td>AWpyzlajAGTnQPR7wOX8</td>\n",
              "      <td>2019-05-01T09:26:59Z</td>\n",
              "      <td>2019-05-01T09:26:59Z</td>\n",
              "      <td>NaN</td>\n",
              "      <td>Floral</td>\n",
              "      <td>Clothing,Shoes,Womens Shoes,All Womens Shoes</td>\n",
              "      <td>Shoes</td>\n",
              "      <td>Black</td>\n",
              "      <td>NaN</td>\n",
              "      <td>709000000000</td>\n",
              "      <td>NaN</td>\n",
              "      <td>walmart.com-1MXIR45EG0EO,708750137976,07087501...</td>\n",
              "      <td>NaN</td>\n",
              "      <td>NaN</td>\n",
              "      <td>FLORAL Pearl Women's Wide Width Evening Dress ...</td>\n",
              "      <td>49.95</td>\n",
              "      <td>49.95</td>\n",
              "      <td>True</td>\n",
              "      <td>Black</td>\n",
              "      <td>NaN</td>\n",
              "      <td>USD</td>\n",
              "      <td>NaN</td>\n",
              "      <td>2019-04-25T12:35:00.000Z</td>\n",
              "      <td>NaN</td>\n",
              "      <td>NaN</td>\n",
              "      <td>Online only</td>\n",
              "      <td>NaN</td>\n",
              "      <td>NaN</td>\n",
              "      <td>5</td>\n",
              "      <td>https://www.walmart.com/ip/FLORAL-Pearl-Women-...</td>\n",
              "      <td>5</td>\n",
              "      <td>https://www.walmart.com/ip/FLORAL-Pearl-Women-...</td>\n",
              "    </tr>\n",
              "    <tr>\n",
              "      <th>3</th>\n",
              "      <td>AWpyxomE0U_gzG0hkA1q</td>\n",
              "      <td>2019-05-01T09:26:56Z</td>\n",
              "      <td>2019-05-01T09:26:56Z</td>\n",
              "      <td>NaN</td>\n",
              "      <td>Jambu</td>\n",
              "      <td>Clothing,Shoes,Womens Shoes,All Womens Shoes</td>\n",
              "      <td>Shoes</td>\n",
              "      <td>Black/Multi</td>\n",
              "      <td>NaN</td>\n",
              "      <td>884000000000</td>\n",
              "      <td>https://i5.walmartimages.com/asr/bf04e7cf-0f7b...</td>\n",
              "      <td>883988336206,0883988336206,walmart.com-653BPY2...</td>\n",
              "      <td>NaN</td>\n",
              "      <td>NaN</td>\n",
              "      <td>Women's Jambu Amal Water Resistant Bootie</td>\n",
              "      <td>127.20</td>\n",
              "      <td>127.20</td>\n",
              "      <td>False</td>\n",
              "      <td>Black/Multi</td>\n",
              "      <td>NaN</td>\n",
              "      <td>USD</td>\n",
              "      <td>NaN</td>\n",
              "      <td>2019-04-30T19:49:00.000Z</td>\n",
              "      <td>NaN</td>\n",
              "      <td>NaN</td>\n",
              "      <td>Online only: 20% off</td>\n",
              "      <td>NaN</td>\n",
              "      <td>NaN</td>\n",
              "      <td>9.5 BM US</td>\n",
              "      <td>https://www.walmart.com/ip/Jambu-Women-s-AMAL-...</td>\n",
              "      <td>9.5 BM US</td>\n",
              "      <td>https://www.walmart.com/ip/Jambu-Women-s-AMAL-...</td>\n",
              "    </tr>\n",
              "    <tr>\n",
              "      <th>4</th>\n",
              "      <td>AWpyxChWJbEilcB6RhWx</td>\n",
              "      <td>2019-05-01T09:26:56Z</td>\n",
              "      <td>2019-05-01T09:26:56Z</td>\n",
              "      <td>NaN</td>\n",
              "      <td>Trotters</td>\n",
              "      <td>Clothing,Shoes,Womens Shoes,All Womens Shoes</td>\n",
              "      <td>Shoes</td>\n",
              "      <td>White</td>\n",
              "      <td>NaN</td>\n",
              "      <td>887000000000</td>\n",
              "      <td>NaN</td>\n",
              "      <td>887246520857,0887246520857,walmart.com-3HL720G...</td>\n",
              "      <td>NaN</td>\n",
              "      <td>NaN</td>\n",
              "      <td>trotters women's blast iii boot,black quill,11...</td>\n",
              "      <td>47.66</td>\n",
              "      <td>47.66</td>\n",
              "      <td>False</td>\n",
              "      <td>White</td>\n",
              "      <td>NaN</td>\n",
              "      <td>USD</td>\n",
              "      <td>NaN</td>\n",
              "      <td>2019-04-19T07:07:46Z</td>\n",
              "      <td>NaN</td>\n",
              "      <td>NaN</td>\n",
              "      <td>Online only: 50% off</td>\n",
              "      <td>NaN</td>\n",
              "      <td>NaN</td>\n",
              "      <td>11</td>\n",
              "      <td>https://www.walmart.com/ip/Women-s-Trotters-Bl...</td>\n",
              "      <td>11</td>\n",
              "      <td>https://www.walmart.com/ip/Women-s-Trotters-Bl...</td>\n",
              "    </tr>\n",
              "  </tbody>\n",
              "</table>\n",
              "</div>"
            ],
            "text/plain": [
              "                     id  ...                                         sourceURLs\n",
              "0  AWpyySsJAGTnQPR7wNt4  ...  https://www.walmart.com/ip/City-Classified-Sty...\n",
              "1  AWpyyyb3AGTnQPR7wN-u  ...  https://www.walmart.com/ip/Skechers-Women-S-Yo...\n",
              "2  AWpyzlajAGTnQPR7wOX8  ...  https://www.walmart.com/ip/FLORAL-Pearl-Women-...\n",
              "3  AWpyxomE0U_gzG0hkA1q  ...  https://www.walmart.com/ip/Jambu-Women-s-AMAL-...\n",
              "4  AWpyxChWJbEilcB6RhWx  ...  https://www.walmart.com/ip/Women-s-Trotters-Bl...\n",
              "\n",
              "[5 rows x 32 columns]"
            ]
          },
          "metadata": {
            "tags": []
          },
          "execution_count": 85
        }
      ]
    },
    {
      "cell_type": "code",
      "metadata": {
        "id": "M2I9I12JfDcn",
        "colab_type": "code",
        "colab": {
          "base_uri": "https://localhost:8080/",
          "height": 34
        },
        "outputId": "07227197-cc8c-49da-90b4-65d6e4571610"
      },
      "source": [
        "#exploring data\n",
        "\n",
        "df.shape"
      ],
      "execution_count": 86,
      "outputs": [
        {
          "output_type": "execute_result",
          "data": {
            "text/plain": [
              "(10000, 32)"
            ]
          },
          "metadata": {
            "tags": []
          },
          "execution_count": 86
        }
      ]
    },
    {
      "cell_type": "code",
      "metadata": {
        "id": "IhU1frpZfFuO",
        "colab_type": "code",
        "colab": {
          "base_uri": "https://localhost:8080/",
          "height": 590
        },
        "outputId": "5d5ec0b4-82f1-41fb-f9c8-0481043ca433"
      },
      "source": [
        "df.dtypes"
      ],
      "execution_count": 87,
      "outputs": [
        {
          "output_type": "execute_result",
          "data": {
            "text/plain": [
              "id                      object\n",
              "dateAdded               object\n",
              "dateUpdated             object\n",
              "asins                   object\n",
              "brand                   object\n",
              "categories              object\n",
              "primaryCategories       object\n",
              "colors                  object\n",
              "dimension               object\n",
              "ean / upc                int64\n",
              "imageURLs               object\n",
              "keys                    object\n",
              "manufacturer            object\n",
              "manufacturerNumber      object\n",
              "name                    object\n",
              "prices.amountMax       float64\n",
              "prices.amountMin       float64\n",
              "prices.availability       bool\n",
              "prices.color            object\n",
              "prices.condition       float64\n",
              "prices.currency         object\n",
              "prices.dateAdded       float64\n",
              "prices.dateSeen         object\n",
              "prices.isSale           object\n",
              "prices.merchant        float64\n",
              "prices.offer            object\n",
              "prices.returnPolicy    float64\n",
              "prices.shipping         object\n",
              "prices.size             object\n",
              "prices.sourceURLs       object\n",
              "sizes                   object\n",
              "sourceURLs              object\n",
              "dtype: object"
            ]
          },
          "metadata": {
            "tags": []
          },
          "execution_count": 87
        }
      ]
    },
    {
      "cell_type": "code",
      "metadata": {
        "id": "m_iBvWnbfrz_",
        "colab_type": "code",
        "colab": {
          "base_uri": "https://localhost:8080/",
          "height": 590
        },
        "outputId": "691ff708-263b-49f1-b583-48ed7ba4809f"
      },
      "source": [
        "#exploring null values\n",
        "\n",
        "df.isnull().sum()"
      ],
      "execution_count": 89,
      "outputs": [
        {
          "output_type": "execute_result",
          "data": {
            "text/plain": [
              "id                         0\n",
              "dateAdded                  0\n",
              "dateUpdated                0\n",
              "asins                   9995\n",
              "brand                      0\n",
              "categories                 0\n",
              "primaryCategories          0\n",
              "colors                     0\n",
              "dimension               9535\n",
              "ean / upc                  0\n",
              "imageURLs               7357\n",
              "keys                       0\n",
              "manufacturer            8638\n",
              "manufacturerNumber      8569\n",
              "name                       0\n",
              "prices.amountMax           0\n",
              "prices.amountMin           0\n",
              "prices.availability        0\n",
              "prices.color               0\n",
              "prices.condition       10000\n",
              "prices.currency            0\n",
              "prices.dateAdded       10000\n",
              "prices.dateSeen            0\n",
              "prices.isSale           8636\n",
              "prices.merchant        10000\n",
              "prices.offer               0\n",
              "prices.returnPolicy    10000\n",
              "prices.shipping         9951\n",
              "prices.size                0\n",
              "prices.sourceURLs          0\n",
              "sizes                      0\n",
              "sourceURLs                 0\n",
              "dtype: int64"
            ]
          },
          "metadata": {
            "tags": []
          },
          "execution_count": 89
        }
      ]
    },
    {
      "cell_type": "code",
      "metadata": {
        "id": "qGKQsjZMgFJv",
        "colab_type": "code",
        "colab": {
          "base_uri": "https://localhost:8080/",
          "height": 206
        },
        "outputId": "7dcc3836-fd20-41ef-a5b4-db82aa245530"
      },
      "source": [
        "#Keeping useful columns to define prices of white shoes compare to average shoes price for certain brands\n",
        "\n",
        "df_new = df[['colors', 'brand', 'prices.amountMax']]\n",
        "\n",
        "df_new.head()"
      ],
      "execution_count": 100,
      "outputs": [
        {
          "output_type": "execute_result",
          "data": {
            "text/html": [
              "<div>\n",
              "<style scoped>\n",
              "    .dataframe tbody tr th:only-of-type {\n",
              "        vertical-align: middle;\n",
              "    }\n",
              "\n",
              "    .dataframe tbody tr th {\n",
              "        vertical-align: top;\n",
              "    }\n",
              "\n",
              "    .dataframe thead th {\n",
              "        text-align: right;\n",
              "    }\n",
              "</style>\n",
              "<table border=\"1\" class=\"dataframe\">\n",
              "  <thead>\n",
              "    <tr style=\"text-align: right;\">\n",
              "      <th></th>\n",
              "      <th>colors</th>\n",
              "      <th>brand</th>\n",
              "      <th>prices.amountMax</th>\n",
              "    </tr>\n",
              "  </thead>\n",
              "  <tbody>\n",
              "    <tr>\n",
              "      <th>0</th>\n",
              "      <td>Black</td>\n",
              "      <td>City Classified</td>\n",
              "      <td>29.95</td>\n",
              "    </tr>\n",
              "    <tr>\n",
              "      <th>1</th>\n",
              "      <td>Taupe</td>\n",
              "      <td>Skechers</td>\n",
              "      <td>84.00</td>\n",
              "    </tr>\n",
              "    <tr>\n",
              "      <th>2</th>\n",
              "      <td>Black</td>\n",
              "      <td>Floral</td>\n",
              "      <td>49.95</td>\n",
              "    </tr>\n",
              "    <tr>\n",
              "      <th>3</th>\n",
              "      <td>Black/Multi</td>\n",
              "      <td>Jambu</td>\n",
              "      <td>127.20</td>\n",
              "    </tr>\n",
              "    <tr>\n",
              "      <th>4</th>\n",
              "      <td>White</td>\n",
              "      <td>Trotters</td>\n",
              "      <td>47.66</td>\n",
              "    </tr>\n",
              "  </tbody>\n",
              "</table>\n",
              "</div>"
            ],
            "text/plain": [
              "        colors            brand  prices.amountMax\n",
              "0        Black  City Classified             29.95\n",
              "1        Taupe         Skechers             84.00\n",
              "2        Black           Floral             49.95\n",
              "3  Black/Multi            Jambu            127.20\n",
              "4        White         Trotters             47.66"
            ]
          },
          "metadata": {
            "tags": []
          },
          "execution_count": 100
        }
      ]
    },
    {
      "cell_type": "code",
      "metadata": {
        "id": "oTwg3XolxHSg",
        "colab_type": "code",
        "colab": {
          "base_uri": "https://localhost:8080/",
          "height": 141
        },
        "outputId": "924f707a-7972-4616-ebb9-9b8cbabc6f4a"
      },
      "source": [
        "df_new.colors.value_counts().head()"
      ],
      "execution_count": 95,
      "outputs": [
        {
          "output_type": "execute_result",
          "data": {
            "text/plain": [
              "Black                                                                                                                                                                                                                                                                         1004\n",
              "White                                                                                                                                                                                                                                                                          547\n",
              "Bone Smooth,Bronze,Brown,Purple Rebel,Dsty Tp Nb,Blue,Pearl Pewter,Teak Brown,Dusty Taupe Nubuck,Black,White Grain,White,Metallic,Purple,Pewter,Coral,Teak Brown Smooth,Royal Blue,Blue Full Grain Leather,Bone,Sunshine Yellow,Off-White,Black Grain,Pearl Pewter Leather     211\n",
              "Brown                                                                                                                                                                                                                                                                          189\n",
              "Grey                                                                                                                                                                                                                                                                           139\n",
              "Name: colors, dtype: int64"
            ]
          },
          "metadata": {
            "tags": []
          },
          "execution_count": 95
        }
      ]
    },
    {
      "cell_type": "code",
      "metadata": {
        "id": "ExqkNzSHykUC",
        "colab_type": "code",
        "colab": {
          "base_uri": "https://localhost:8080/",
          "height": 903
        },
        "outputId": "8cb2f818-5748-4ee6-f550-d60b2e761bb2"
      },
      "source": [
        "df_new.brand.value_counts().head(50)"
      ],
      "execution_count": 99,
      "outputs": [
        {
          "output_type": "execute_result",
          "data": {
            "text/plain": [
              "Brinley Co.                   1007\n",
              "Propet                         643\n",
              "SAS                            455\n",
              "Trotters                       449\n",
              "Soda                           360\n",
              "Pleaser                        350\n",
              "Aerosoles                      235\n",
              "L'Artiste by Spring Step       229\n",
              "Drew                           196\n",
              "Easy Street                    159\n",
              "City Classified                149\n",
              "Softwalk                       133\n",
              "New Balance                    130\n",
              "David Tate                     120\n",
              "SoftWalk                       110\n",
              "Steve Madden                   106\n",
              "Floral                          94\n",
              "Unique Bargains                 93\n",
              "Nature Breeze                   91\n",
              "Ros Hommerson                   83\n",
              "Skechers                        79\n",
              "Pleaser Pink Label              75\n",
              "Funtasma                        73\n",
              "PleaserUSA                      72\n",
              "Qupid                           72\n",
              "Delicious                       72\n",
              "ELLIE                           68\n",
              "The Highest Heel                65\n",
              "Old West                        65\n",
              "SummitFashions                  64\n",
              "Bellini                         63\n",
              "Ellie Shoes                     62\n",
              "Dr. Comfort                     60\n",
              "White Mountain                  60\n",
              "Spring Step                     56\n",
              "Victoria K.                     54\n",
              "Dyeables                        51\n",
              "Diba True                       50\n",
              "Dolce Vita                      49\n",
              "Fergalicious                    49\n",
              "ellie                           48\n",
              "Forever Link                    48\n",
              "Cape Robbin                     48\n",
              "A2 by Aerosoles                 48\n",
              "Jambu                           43\n",
              "Blossom                         42\n",
              "J. Adams                        40\n",
              "INC International Concepts      39\n",
              "Beacon Shoes                    38\n",
              "Alfani                          37\n",
              "Name: brand, dtype: int64"
            ]
          },
          "metadata": {
            "tags": []
          },
          "execution_count": 99
        }
      ]
    },
    {
      "cell_type": "code",
      "metadata": {
        "id": "cFWfSUuUz7ba",
        "colab_type": "code",
        "colab": {
          "base_uri": "https://localhost:8080/",
          "height": 298
        },
        "outputId": "f67e676f-8e7c-40b3-f376-5a992b2c57ba"
      },
      "source": [
        "#Defining the price range for shoes by Aerosoles\n",
        "\n",
        "import matplotlib.pyplot as plt\n",
        "\n",
        "\n",
        "df_aerosoles = df.loc[df['brand'] == 'Aerosoles']\n",
        "\n",
        "plt.hist(df_aerosoles['prices.amountMax'], bins=100, range=(0,500))\n",
        "plt.title('Prices of shoes by Aerosoles brand')"
      ],
      "execution_count": 113,
      "outputs": [
        {
          "output_type": "execute_result",
          "data": {
            "text/plain": [
              "Text(0.5, 1.0, 'Prices of shoes by Aerosoles brand')"
            ]
          },
          "metadata": {
            "tags": []
          },
          "execution_count": 113
        },
        {
          "output_type": "display_data",
          "data": {
            "image/png": "[encoded data removed]",
            "text/plain": [
              "<Figure size 432x288 with 1 Axes>"
            ]
          },
          "metadata": {
            "tags": []
          }
        }
      ]
    },
    {
      "cell_type": "code",
      "metadata": {
        "id": "YhnyviCE3Ulb",
        "colab_type": "code",
        "colab": {}
      },
      "source": [
        "df_aerosoles.colors.value_counts().head(50)\n"
      ],
      "execution_count": 0,
      "outputs": []
    },
    {
      "cell_type": "code",
      "metadata": {
        "id": "gkQB1bUn2oZk",
        "colab_type": "code",
        "colab": {
          "base_uri": "https://localhost:8080/",
          "height": 298
        },
        "outputId": "5104c743-785a-4788-e3a3-ebcd2ffbf444"
      },
      "source": [
        "#Defining the price range for white shoes by Aerosoles\n",
        "\n",
        "\n",
        "df_aerosoles_white = df_aerosoles[df_aerosoles['colors'] == 'White']\n",
        "\n",
        "\n",
        "plt.hist(df_aerosoles_white['prices.amountMax'], bins=100, color=\"yellow\", range=(0,500))\n",
        "plt.title('Prices of white shoes by Aerosoles brand')"
      ],
      "execution_count": 120,
      "outputs": [
        {
          "output_type": "execute_result",
          "data": {
            "text/plain": [
              "Text(0.5, 1.0, 'Prices of white shoes by Aerosoles brand')"
            ]
          },
          "metadata": {
            "tags": []
          },
          "execution_count": 120
        },
        {
          "output_type": "display_data",
          "data": {
            "image/png": "[encoded data removed]",
            "text/plain": [
              "<Figure size 432x288 with 1 Axes>"
            ]
          },
          "metadata": {
            "tags": []
          }
        }
      ]
    },
    {
      "cell_type": "code",
      "metadata": {
        "id": "QGU0YwRQ3xc7",
        "colab_type": "code",
        "colab": {
          "base_uri": "https://localhost:8080/",
          "height": 298
        },
        "outputId": "171e1985-7df3-4a29-fdeb-a4cddabd7fab"
      },
      "source": [
        "#Comparing the price range for white shoes by Aerosoles to average shoe price by the same brand\n",
        "\n",
        "\n",
        "plt.hist(df_aerosoles['prices.amountMax'], bins=100, range=(0,500))\n",
        "plt.hist(df_aerosoles_white['prices.amountMax'], bins=100, color=\"yellow\", range=(0,500))\n",
        "plt.title('Prices of white shoes vs all shoes by Aerosoles brand')"
      ],
      "execution_count": 121,
      "outputs": [
        {
          "output_type": "execute_result",
          "data": {
            "text/plain": [
              "Text(0.5, 1.0, 'Prices of white shoes vs all shoes by Aerosoles brand')"
            ]
          },
          "metadata": {
            "tags": []
          },
          "execution_count": 121
        },
        {
          "output_type": "display_data",
          "data": {
            "image/png": "[encoded data removed]",
            "text/plain": [
              "<Figure size 432x288 with 1 Axes>"
            ]
          },
          "metadata": {
            "tags": []
          }
        }
      ]
    },
    {
      "cell_type": "code",
      "metadata": {
        "id": "3mPXi6DJ5Kfy",
        "colab_type": "code",
        "colab": {
          "base_uri": "https://localhost:8080/",
          "height": 298
        },
        "outputId": "0b899d1d-f72c-4dda-838c-2d8d096dbe5a"
      },
      "source": [
        "#Comparing the price range for white shoes by Trotters to average shoe price by the same brand\n",
        "\n",
        "df_trotters = df.loc[df['brand'] == 'Trotters']\n",
        "df_trotters_white = df_trotters[df_trotters['colors'] == 'White']\n",
        "\n",
        "plt.hist(df_trotters['prices.amountMax'], bins=100, range=(0,500))\n",
        "plt.hist(df_trotters_white['prices.amountMax'], bins=100, color=\"yellow\", range=(0,500))\n",
        "plt.title('Prices of white shoes vs all shoes by Trotters brand')\n",
        "\n"
      ],
      "execution_count": 124,
      "outputs": [
        {
          "output_type": "execute_result",
          "data": {
            "text/plain": [
              "Text(0.5, 1.0, 'Prices of white shoes vs all shoes by Trotters brand')"
            ]
          },
          "metadata": {
            "tags": []
          },
          "execution_count": 124
        },
        {
          "output_type": "display_data",
          "data": {
            "image/png": "[encoded data removed]",
            "text/plain": [
              "<Figure size 432x288 with 1 Axes>"
            ]
          },
          "metadata": {
            "tags": []
          }
        }
      ]
    },
    {
      "cell_type": "markdown",
      "metadata": {
        "id": "BT9gdS7viJZa",
        "colab_type": "text"
      },
      "source": [
        "### Assignment questions\n",
        "\n",
        "After you've worked on some code, answer the following questions in this text block:\n",
        "\n",
        "1.  Describe in a paragraph of text what you did and why, as if you were writing an email to somebody interested but nontechnical.\n",
        "\n",
        "2.  What was the most challenging part of what you did?\n",
        "\n",
        "3.  What was the most interesting thing you learned?\n",
        "\n",
        "4.  What area would you like to explore with more time?\n",
        "\n",
        "\n"
      ]
    },
    {
      "cell_type": "markdown",
      "metadata": {
        "id": "M10OAHuZ6JCq",
        "colab_type": "text"
      },
      "source": [
        "1. I was interested to find out if there is a dependency in between a color of shoes and its price. I picked brands that have a significant amount of white shoes inventory and compared its price to an average price by the brand. To make a comparison I build histograms. It appeared that white shoes are cheapper than average shoes price by the same brand. White shoes are most likely to be summer shoes that require less materials to produce, so they cost cheaper. \n",
        "\n",
        "2. Building subsets of certain values in certain columns, for example white shoes in Aerosoles brand\n",
        "\n",
        "3. How to build subsets\n",
        "\n",
        "4. Figure out how to see what brands have a significant amount of white shoes inventory"
      ]
    },
    {
      "cell_type": "markdown",
      "metadata": {
        "id": "_XXg2crAipwP",
        "colab_type": "text"
      },
      "source": [
        "## Stretch goals and resources\n",
        "\n",
        "Following are *optional* things for you to take a look at. Focus on the above assignment first, and make sure to commit and push your changes to GitHub (and since this is the first assignment of the sprint, open a PR as well).\n",
        "\n",
        "- [pandas documentation](https://pandas.pydata.org/pandas-docs/stable/)\n",
        "- [scikit-learn documentation](http://scikit-learn.org/stable/documentation.html)\n",
        "- [matplotlib documentation](https://matplotlib.org/contents.html)\n",
        "- [Awesome Data Science](https://github.com/bulutyazilim/awesome-datascience) - a list of many types of DS resources\n",
        "\n",
        "Stretch goals:\n",
        "\n",
        "- Find and read blogs, walkthroughs, and other examples of people working through cool things with data science - and share with your classmates!\n",
        "- Write a blog post (Medium is a popular place to publish) introducing yourself as somebody learning data science, and talking about what you've learned already and what you're excited to learn more about."
      ]
    }
  ]
}