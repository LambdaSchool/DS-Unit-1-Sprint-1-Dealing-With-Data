{
  "nbformat": 4,
  "nbformat_minor": 0,
  "metadata": {
    "colab": {
      "name": "Copy of LS_DS_122_Choose_appropriate_visualizations.ipynb",
      "version": "0.3.2",
      "provenance": [],
      "include_colab_link": true
    },
    "kernelspec": {
      "display_name": "Python 3",
      "language": "python",
      "name": "python3"
    }
  },
  "cells": [
    {
      "cell_type": "markdown",
      "metadata": {
        "id": "view-in-github",
        "colab_type": "text"
      },
      "source": [
        "<a href=\"https://colab.research.google.com/github/invegat/DS-Sprint-01-Dealing-With-Data/blob/master/Copy_of_LS_DS_122_Choose_appropriate_visualizations.ipynb\" target=\"_parent\"><img src=\"https://colab.research.google.com/assets/colab-badge.svg\" alt=\"Open In Colab\"/></a>"
      ]
    },
    {
      "metadata": {
        "id": "2ad_BishCM73",
        "colab_type": "text"
      },
      "cell_type": "markdown",
      "source": [
        "_Lambda School Data Science_\n",
        "# Choose appropriate visualizations"
      ]
    },
    {
      "metadata": {
        "id": "6n5GCbEYCM78",
        "colab_type": "text"
      },
      "cell_type": "markdown",
      "source": [
        "# Upgrade Seaborn\n",
        "\n",
        "Make sure you have at least version 0.9.0"
      ]
    },
    {
      "metadata": {
        "id": "LLFFQcGoCM79",
        "colab_type": "code",
        "outputId": "bf58a269-9316-43f6-b06b-42fc0a9965a1",
        "colab": {
          "base_uri": "https://localhost:8080/",
          "height": 314
        }
      },
      "cell_type": "code",
      "source": [
        "!pip install --upgrade seaborn"
      ],
      "execution_count": 0,
      "outputs": [
        {
          "output_type": "stream",
          "text": [
            "Collecting seaborn\n",
            "\u001b[?25l  Downloading https://files.pythonhosted.org/packages/a8/76/220ba4420459d9c4c9c9587c6ce607bf56c25b3d3d2de62056efe482dadc/seaborn-0.9.0-py3-none-any.whl (208kB)\n",
            "\u001b[K    100% |████████████████████████████████| 215kB 6.2MB/s \n",
            "\u001b[?25hRequirement already satisfied, skipping upgrade: scipy>=0.14.0 in /usr/local/lib/python3.6/dist-packages (from seaborn) (1.1.0)\n",
            "Requirement already satisfied, skipping upgrade: matplotlib>=1.4.3 in /usr/local/lib/python3.6/dist-packages (from seaborn) (2.1.2)\n",
            "Requirement already satisfied, skipping upgrade: pandas>=0.15.2 in /usr/local/lib/python3.6/dist-packages (from seaborn) (0.22.0)\n",
            "Requirement already satisfied, skipping upgrade: numpy>=1.9.3 in /usr/local/lib/python3.6/dist-packages (from seaborn) (1.14.6)\n",
            "Requirement already satisfied, skipping upgrade: python-dateutil>=2.1 in /usr/local/lib/python3.6/dist-packages (from matplotlib>=1.4.3->seaborn) (2.5.3)\n",
            "Requirement already satisfied, skipping upgrade: cycler>=0.10 in /usr/local/lib/python3.6/dist-packages (from matplotlib>=1.4.3->seaborn) (0.10.0)\n",
            "Requirement already satisfied, skipping upgrade: pytz in /usr/local/lib/python3.6/dist-packages (from matplotlib>=1.4.3->seaborn) (2018.7)\n",
            "Requirement already satisfied, skipping upgrade: pyparsing!=2.0.4,!=2.1.2,!=2.1.6,>=2.0.1 in /usr/local/lib/python3.6/dist-packages (from matplotlib>=1.4.3->seaborn) (2.3.0)\n",
            "Requirement already satisfied, skipping upgrade: six>=1.10 in /usr/local/lib/python3.6/dist-packages (from matplotlib>=1.4.3->seaborn) (1.11.0)\n",
            "Installing collected packages: seaborn\n",
            "  Found existing installation: seaborn 0.7.1\n",
            "    Uninstalling seaborn-0.7.1:\n",
            "      Successfully uninstalled seaborn-0.7.1\n",
            "Successfully installed seaborn-0.9.0\n"
          ],
          "name": "stdout"
        }
      ]
    },
    {
      "metadata": {
        "id": "AjpNPWWnCM8B",
        "colab_type": "code",
        "outputId": "1b4ac16f-5ab5-408f-8074-ccb47bbf9367",
        "colab": {
          "base_uri": "https://localhost:8080/",
          "height": 34
        }
      },
      "cell_type": "code",
      "source": [
        "import seaborn as sns\n",
        "sns.__version__"
      ],
      "execution_count": 0,
      "outputs": [
        {
          "output_type": "execute_result",
          "data": {
            "text/plain": [
              "'0.9.0'"
            ]
          },
          "metadata": {
            "tags": []
          },
          "execution_count": 1
        }
      ]
    },
    {
      "metadata": {
        "id": "t-_buU0WCM8H",
        "colab_type": "text"
      },
      "cell_type": "markdown",
      "source": [
        "# Fix misleading visualizations"
      ]
    },
    {
      "metadata": {
        "id": "9j6UioPrCM8I",
        "colab_type": "code",
        "colab": {}
      },
      "cell_type": "code",
      "source": [
        "%matplotlib inline\n",
        "import matplotlib.pyplot as plt\n",
        "import numpy as np\n",
        "import pandas as pd"
      ],
      "execution_count": 0,
      "outputs": []
    },
    {
      "metadata": {
        "id": "anFGWESNCM8K",
        "colab_type": "code",
        "colab": {}
      },
      "cell_type": "code",
      "source": [
        "!wget https://raw.githubusercontent.com/LambdaSchool/DS-Sprint-02-Storytelling-With-Data/master/module2-choose-appropriate-visualizations/misleading.py\n",
        "    \n",
        "import misleading"
      ],
      "execution_count": 0,
      "outputs": []
    },
    {
      "metadata": {
        "id": "5r2tyJMsCM8M",
        "colab_type": "text"
      },
      "cell_type": "markdown",
      "source": [
        "#### Fix misleading plot #1"
      ]
    },
    {
      "metadata": {
        "id": "Jsl-z3RtCM8O",
        "colab_type": "code",
        "colab": {}
      },
      "cell_type": "code",
      "source": [
        "misleading.plot1()"
      ],
      "execution_count": 0,
      "outputs": []
    },
    {
      "metadata": {
        "id": "aLIjnHUHCM8Q",
        "colab_type": "code",
        "colab": {}
      },
      "cell_type": "code",
      "source": [
        ""
      ],
      "execution_count": 0,
      "outputs": []
    },
    {
      "metadata": {
        "id": "f5tF8KnUCM8T",
        "colab_type": "text"
      },
      "cell_type": "markdown",
      "source": [
        "#### Fix misleading plot #2"
      ]
    },
    {
      "metadata": {
        "id": "IgkdKfixCM8T",
        "colab_type": "code",
        "colab": {}
      },
      "cell_type": "code",
      "source": [
        "misleading.plot2()"
      ],
      "execution_count": 0,
      "outputs": []
    },
    {
      "metadata": {
        "id": "oKZ7dXAtCM8X",
        "colab_type": "code",
        "colab": {}
      },
      "cell_type": "code",
      "source": [
        ""
      ],
      "execution_count": 0,
      "outputs": []
    },
    {
      "metadata": {
        "id": "TAftbblgCM8b",
        "colab_type": "text"
      },
      "cell_type": "markdown",
      "source": [
        "#### Fix misleading plot #3"
      ]
    },
    {
      "metadata": {
        "id": "PSbr0-jaCM8b",
        "colab_type": "code",
        "colab": {}
      },
      "cell_type": "code",
      "source": [
        "misleading.plot3()"
      ],
      "execution_count": 0,
      "outputs": []
    },
    {
      "metadata": {
        "id": "F0LfadfLCM8d",
        "colab_type": "code",
        "colab": {}
      },
      "cell_type": "code",
      "source": [
        ""
      ],
      "execution_count": 0,
      "outputs": []
    },
    {
      "metadata": {
        "id": "M0ipCYbnCM8g",
        "colab_type": "text"
      },
      "cell_type": "markdown",
      "source": [
        "#### Fix misleading plot #4"
      ]
    },
    {
      "metadata": {
        "id": "NQ3HO_qOCM8g",
        "colab_type": "text"
      },
      "cell_type": "markdown",
      "source": [
        "_If you're on Jupyter (not Colab) then uncomment and run this cell below:_"
      ]
    },
    {
      "metadata": {
        "id": "km8Bf_GLCM8i",
        "colab_type": "code",
        "colab": {}
      },
      "cell_type": "code",
      "source": [
        "# import altair as alt\n",
        "# alt.renderers.enable('notebook')"
      ],
      "execution_count": 0,
      "outputs": []
    },
    {
      "metadata": {
        "id": "HvcGfUXPCM8j",
        "colab_type": "code",
        "colab": {}
      },
      "cell_type": "code",
      "source": [
        "misleading.plot4()"
      ],
      "execution_count": 0,
      "outputs": []
    },
    {
      "metadata": {
        "id": "ZRXvRwEVCM8m",
        "colab_type": "code",
        "colab": {}
      },
      "cell_type": "code",
      "source": [
        ""
      ],
      "execution_count": 0,
      "outputs": []
    },
    {
      "metadata": {
        "id": "pcacxOoACM8p",
        "colab_type": "text"
      },
      "cell_type": "markdown",
      "source": [
        "#### Links\n",
        "- [How to Spot Visualization Lies](https://flowingdata.com/2017/02/09/how-to-spot-visualization-lies/)\n",
        "- [Where to Start and End Your Y-Axis Scale](http://stephanieevergreen.com/y-axis/)\n",
        "- [xkcd heatmap](https://xkcd.com/1138/)\n",
        "- [Surprise Maps: Showing the Unexpected](https://medium.com/@uwdata/surprise-maps-showing-the-unexpected-e92b67398865)"
      ]
    },
    {
      "metadata": {
        "id": "la29FoVlCM8q",
        "colab_type": "text"
      },
      "cell_type": "markdown",
      "source": [
        "# Use Seaborn to visualize distributions and relationships with continuous and discrete variables\n",
        "\n",
        "#### Links\n",
        "- [Seaborn tutorial](https://seaborn.pydata.org/tutorial.html)\n",
        "- [Seaborn example gallery](https://seaborn.pydata.org/examples/index.html)\n",
        "- [Chart Chooser](https://extremepresentation.typepad.com/files/choosing-a-good-chart-09.pdf)"
      ]
    },
    {
      "metadata": {
        "id": "Y0Y0fVFNCM8r",
        "colab_type": "text"
      },
      "cell_type": "markdown",
      "source": [
        "## 1. Anscombe dataset"
      ]
    },
    {
      "metadata": {
        "id": "J_PCZ8_cCM8s",
        "colab_type": "text"
      },
      "cell_type": "markdown",
      "source": [
        "### Load dataset"
      ]
    },
    {
      "metadata": {
        "id": "tiN5RwXuCM8t",
        "colab_type": "code",
        "colab": {}
      },
      "cell_type": "code",
      "source": [
        "df = sns.load_dataset('anscombe')"
      ],
      "execution_count": 0,
      "outputs": []
    },
    {
      "metadata": {
        "id": "0YFYge1BCM8y",
        "colab_type": "text"
      },
      "cell_type": "markdown",
      "source": [
        "### See the data's shape"
      ]
    },
    {
      "metadata": {
        "id": "nj_qUglFCM82",
        "colab_type": "code",
        "colab": {}
      },
      "cell_type": "code",
      "source": [
        ""
      ],
      "execution_count": 0,
      "outputs": []
    },
    {
      "metadata": {
        "id": "yQzLwbIjCM88",
        "colab_type": "text"
      },
      "cell_type": "markdown",
      "source": [
        "### See the data"
      ]
    },
    {
      "metadata": {
        "id": "s6WeObgvCM8-",
        "colab_type": "code",
        "colab": {}
      },
      "cell_type": "code",
      "source": [
        ""
      ],
      "execution_count": 0,
      "outputs": []
    },
    {
      "metadata": {
        "id": "K9wBRZQdCM9A",
        "colab_type": "text"
      },
      "cell_type": "markdown",
      "source": [
        "### [Group by](https://pandas.pydata.org/pandas-docs/stable/generated/pandas.DataFrame.groupby.html) `'dataset'`"
      ]
    },
    {
      "metadata": {
        "id": "wK_-RrqLCM9A",
        "colab_type": "code",
        "colab": {}
      },
      "cell_type": "code",
      "source": [
        ""
      ],
      "execution_count": 0,
      "outputs": []
    },
    {
      "metadata": {
        "id": "MHLe00YbCM9E",
        "colab_type": "text"
      },
      "cell_type": "markdown",
      "source": [
        "### [Describe](https://pandas.pydata.org/pandas-docs/stable/generated/pandas.DataFrame.describe.html) the groups"
      ]
    },
    {
      "metadata": {
        "id": "iaF48ULUCM9F",
        "colab_type": "code",
        "colab": {}
      },
      "cell_type": "code",
      "source": [
        ""
      ],
      "execution_count": 0,
      "outputs": []
    },
    {
      "metadata": {
        "id": "DVBLrFwyCM9I",
        "colab_type": "text"
      },
      "cell_type": "markdown",
      "source": [
        "### Get the [count](https://pandas.pydata.org/pandas-docs/stable/generated/pandas.DataFrame.count.html), for each column in each group"
      ]
    },
    {
      "metadata": {
        "id": "H8sSZnUnCM9I",
        "colab_type": "code",
        "colab": {}
      },
      "cell_type": "code",
      "source": [
        ""
      ],
      "execution_count": 0,
      "outputs": []
    },
    {
      "metadata": {
        "id": "FXZPQO50CM9L",
        "colab_type": "text"
      },
      "cell_type": "markdown",
      "source": [
        "### Get the [mean](https://pandas.pydata.org/pandas-docs/stable/generated/pandas.DataFrame.mean.html) ..."
      ]
    },
    {
      "metadata": {
        "id": "PG5nzalaCM9L",
        "colab_type": "code",
        "colab": {}
      },
      "cell_type": "code",
      "source": [
        ""
      ],
      "execution_count": 0,
      "outputs": []
    },
    {
      "metadata": {
        "id": "yqj0zUddCM9N",
        "colab_type": "text"
      },
      "cell_type": "markdown",
      "source": [
        "### Get the [standard deviation](https://pandas.pydata.org/pandas-docs/stable/generated/pandas.DataFrame.std.html) ..."
      ]
    },
    {
      "metadata": {
        "id": "j_uWA4leCM9N",
        "colab_type": "code",
        "colab": {}
      },
      "cell_type": "code",
      "source": [
        ""
      ],
      "execution_count": 0,
      "outputs": []
    },
    {
      "metadata": {
        "id": "ChmtLuIVCM9Q",
        "colab_type": "text"
      },
      "cell_type": "markdown",
      "source": [
        "### Get the [correlation](https://pandas.pydata.org/pandas-docs/stable/generated/pandas.DataFrame.corr.html) ..."
      ]
    },
    {
      "metadata": {
        "id": "dPGUTW73CM9V",
        "colab_type": "code",
        "colab": {}
      },
      "cell_type": "code",
      "source": [
        ""
      ],
      "execution_count": 0,
      "outputs": []
    },
    {
      "metadata": {
        "id": "ouqex-scCM9X",
        "colab_type": "text"
      },
      "cell_type": "markdown",
      "source": [
        "### Use pandas to [plot](https://pandas.pydata.org/pandas-docs/stable/generated/pandas.DataFrame.plot.html) the groups, as scatter plots"
      ]
    },
    {
      "metadata": {
        "id": "8C2SvYgMCM9X",
        "colab_type": "code",
        "colab": {}
      },
      "cell_type": "code",
      "source": [
        ""
      ],
      "execution_count": 0,
      "outputs": []
    },
    {
      "metadata": {
        "id": "BZMsZCjfCM9a",
        "colab_type": "text"
      },
      "cell_type": "markdown",
      "source": [
        "### Use Seaborn to make [relational plots](http://seaborn.pydata.org/generated/seaborn.relplot.html)"
      ]
    },
    {
      "metadata": {
        "id": "Edl-MKZTCM9b",
        "colab_type": "code",
        "colab": {}
      },
      "cell_type": "code",
      "source": [
        ""
      ],
      "execution_count": 0,
      "outputs": []
    },
    {
      "metadata": {
        "id": "XO63zj3rCM9d",
        "colab_type": "text"
      },
      "cell_type": "markdown",
      "source": [
        "### Use Seaborn to make [linear model plots](http://seaborn.pydata.org/generated/seaborn.lmplot.html)"
      ]
    },
    {
      "metadata": {
        "id": "qpsOwATICM9d",
        "colab_type": "code",
        "colab": {}
      },
      "cell_type": "code",
      "source": [
        ""
      ],
      "execution_count": 0,
      "outputs": []
    },
    {
      "metadata": {
        "id": "xfG0hrgECM9f",
        "colab_type": "text"
      },
      "cell_type": "markdown",
      "source": [
        "#### Links\n",
        "- [Seaborn examples: Anscombe's quartet](http://seaborn.pydata.org/examples/anscombes_quartet.html)\n",
        "- [Wikipedia: Anscombe's quartet](https://en.wikipedia.org/wiki/Anscombe%27s_quartet)\n",
        "- [The Datasaurus Dozen](https://www.autodeskresearch.com/publications/samestats)"
      ]
    },
    {
      "metadata": {
        "id": "x3-1rgabCM9f",
        "colab_type": "text"
      },
      "cell_type": "markdown",
      "source": [
        "## 2. Tips dataset"
      ]
    },
    {
      "metadata": {
        "id": "3tQt90dgCM9g",
        "colab_type": "text"
      },
      "cell_type": "markdown",
      "source": [
        "### Load dataset"
      ]
    },
    {
      "metadata": {
        "id": "kVjVcksDCM9h",
        "colab_type": "code",
        "colab": {}
      },
      "cell_type": "code",
      "source": [
        "tips = sns.load_dataset('tips')"
      ],
      "execution_count": 0,
      "outputs": []
    },
    {
      "metadata": {
        "id": "OE1PBdRYCM9i",
        "colab_type": "text"
      },
      "cell_type": "markdown",
      "source": [
        "### See the data's shape"
      ]
    },
    {
      "metadata": {
        "id": "9H5_-eGKCM9j",
        "colab_type": "code",
        "colab": {}
      },
      "cell_type": "code",
      "source": [
        ""
      ],
      "execution_count": 0,
      "outputs": []
    },
    {
      "metadata": {
        "id": "mrBXFaNuCM9l",
        "colab_type": "text"
      },
      "cell_type": "markdown",
      "source": [
        "### See the first 5 rows"
      ]
    },
    {
      "metadata": {
        "id": "2RdDcR4aCM9m",
        "colab_type": "code",
        "colab": {}
      },
      "cell_type": "code",
      "source": [
        ""
      ],
      "execution_count": 0,
      "outputs": []
    },
    {
      "metadata": {
        "id": "rC5SswAjCM9n",
        "colab_type": "text"
      },
      "cell_type": "markdown",
      "source": [
        "### Describe the data"
      ]
    },
    {
      "metadata": {
        "id": "nADykevRCM9o",
        "colab_type": "code",
        "colab": {}
      },
      "cell_type": "code",
      "source": [
        ""
      ],
      "execution_count": 0,
      "outputs": []
    },
    {
      "metadata": {
        "id": "-9r2qGEjCM9s",
        "colab_type": "text"
      },
      "cell_type": "markdown",
      "source": [
        "### Make univariate [distribution plots](https://seaborn.pydata.org/generated/seaborn.distplot.html)"
      ]
    },
    {
      "metadata": {
        "id": "Gpn3o3ifCM9u",
        "colab_type": "code",
        "colab": {}
      },
      "cell_type": "code",
      "source": [
        ""
      ],
      "execution_count": 0,
      "outputs": []
    },
    {
      "metadata": {
        "id": "UYMyDytrCM9x",
        "colab_type": "text"
      },
      "cell_type": "markdown",
      "source": [
        "### Make bivariate [relational plots](https://seaborn.pydata.org/generated/seaborn.relplot.html)"
      ]
    },
    {
      "metadata": {
        "id": "aCfmD7T-CM92",
        "colab_type": "code",
        "colab": {}
      },
      "cell_type": "code",
      "source": [
        ""
      ],
      "execution_count": 0,
      "outputs": []
    },
    {
      "metadata": {
        "id": "IewevwOmCM94",
        "colab_type": "text"
      },
      "cell_type": "markdown",
      "source": [
        "### Make univariate [categorical plots](https://seaborn.pydata.org/generated/seaborn.catplot.html)"
      ]
    },
    {
      "metadata": {
        "id": "whDMXs2QCM95",
        "colab_type": "code",
        "colab": {}
      },
      "cell_type": "code",
      "source": [
        ""
      ],
      "execution_count": 0,
      "outputs": []
    },
    {
      "metadata": {
        "id": "Wg9MuE1kCM99",
        "colab_type": "text"
      },
      "cell_type": "markdown",
      "source": [
        "### Make bivariate [categorical plots](https://seaborn.pydata.org/generated/seaborn.catplot.html)"
      ]
    },
    {
      "metadata": {
        "id": "oQauaLwCCM9-",
        "colab_type": "code",
        "colab": {}
      },
      "cell_type": "code",
      "source": [
        ""
      ],
      "execution_count": 0,
      "outputs": []
    },
    {
      "metadata": {
        "id": "cvtzrERCCM-C",
        "colab_type": "text"
      },
      "cell_type": "markdown",
      "source": [
        "## 3. Flights"
      ]
    },
    {
      "metadata": {
        "id": "iIpMQ0TBCM-D",
        "colab_type": "text"
      },
      "cell_type": "markdown",
      "source": [
        "### Load dataset"
      ]
    },
    {
      "metadata": {
        "id": "ubDWuIbyCM-D",
        "colab_type": "code",
        "colab": {}
      },
      "cell_type": "code",
      "source": [
        "flights = sns.load_dataset('flights')"
      ],
      "execution_count": 0,
      "outputs": []
    },
    {
      "metadata": {
        "id": "1rJbe_eLCM-G",
        "colab_type": "text"
      },
      "cell_type": "markdown",
      "source": [
        "### See the data's shape"
      ]
    },
    {
      "metadata": {
        "id": "i7WRdnquCM-G",
        "colab_type": "code",
        "colab": {}
      },
      "cell_type": "code",
      "source": [
        ""
      ],
      "execution_count": 0,
      "outputs": []
    },
    {
      "metadata": {
        "id": "GVqOKsKvCM-I",
        "colab_type": "text"
      },
      "cell_type": "markdown",
      "source": [
        "### See the first 5 rows"
      ]
    },
    {
      "metadata": {
        "id": "XuZqHnlECM-J",
        "colab_type": "code",
        "colab": {}
      },
      "cell_type": "code",
      "source": [
        ""
      ],
      "execution_count": 0,
      "outputs": []
    },
    {
      "metadata": {
        "id": "TDvSEpxCCM-K",
        "colab_type": "text"
      },
      "cell_type": "markdown",
      "source": [
        "### Describe the data"
      ]
    },
    {
      "metadata": {
        "id": "0NSIhD8rCM-L",
        "colab_type": "code",
        "colab": {}
      },
      "cell_type": "code",
      "source": [
        ""
      ],
      "execution_count": 0,
      "outputs": []
    },
    {
      "metadata": {
        "id": "vCPKsvSyCM-Q",
        "colab_type": "text"
      },
      "cell_type": "markdown",
      "source": [
        "### Plot year & passengers"
      ]
    },
    {
      "metadata": {
        "id": "5Yd3-muxCM-Q",
        "colab_type": "code",
        "colab": {}
      },
      "cell_type": "code",
      "source": [
        ""
      ],
      "execution_count": 0,
      "outputs": []
    },
    {
      "metadata": {
        "id": "Lh3VO1NeCM-V",
        "colab_type": "text"
      },
      "cell_type": "markdown",
      "source": [
        "### Plot month & passengers"
      ]
    },
    {
      "metadata": {
        "id": "55xidVfLCM-W",
        "colab_type": "code",
        "colab": {}
      },
      "cell_type": "code",
      "source": [
        ""
      ],
      "execution_count": 0,
      "outputs": []
    },
    {
      "metadata": {
        "id": "7CFYmnXaCM-Y",
        "colab_type": "text"
      },
      "cell_type": "markdown",
      "source": [
        "### Create a [pivot table](https://pandas.pydata.org/pandas-docs/stable/generated/pandas.DataFrame.pivot_table.html) of passengers by month and year"
      ]
    },
    {
      "metadata": {
        "id": "4A61-j_ACM-Z",
        "colab_type": "code",
        "colab": {}
      },
      "cell_type": "code",
      "source": [
        ""
      ],
      "execution_count": 0,
      "outputs": []
    },
    {
      "metadata": {
        "id": "x1eo720vCM-b",
        "colab_type": "text"
      },
      "cell_type": "markdown",
      "source": [
        "### Plot the pivot table as a [heat map](https://seaborn.pydata.org/generated/seaborn.heatmap.html)"
      ]
    },
    {
      "metadata": {
        "id": "-oQe5pRPCM-b",
        "colab_type": "code",
        "colab": {}
      },
      "cell_type": "code",
      "source": [
        ""
      ],
      "execution_count": 0,
      "outputs": []
    }
  ]
}