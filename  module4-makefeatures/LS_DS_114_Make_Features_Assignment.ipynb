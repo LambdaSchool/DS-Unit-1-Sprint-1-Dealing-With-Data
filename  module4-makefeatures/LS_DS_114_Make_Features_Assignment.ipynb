{
  "nbformat": 4,
  "nbformat_minor": 0,
  "metadata": {
    "colab": {
      "name": "Copy of LS_DS_114_Make_Features_Assignment.ipynb",
      "version": "0.3.2",
      "provenance": [],
      "collapsed_sections": [],
      "toc_visible": true,
      "include_colab_link": true
    },
    "kernelspec": {
      "display_name": "Python 3",
      "language": "python",
      "name": "python3"
    },
    "language_info": {
      "codemirror_mode": {
        "name": "ipython",
        "version": 3
      },
      "file_extension": ".py",
      "mimetype": "text/x-python",
      "name": "python",
      "nbconvert_exporter": "python",
      "pygments_lexer": "ipython3",
      "version": "3.7.1"
    }
  },
  "cells": [
    {
      "cell_type": "markdown",
      "metadata": {
        "id": "view-in-github",
        "colab_type": "text"
      },
      "source": [
        "<a href=\"https://colab.research.google.com/github/apathyhill/DS-Unit-1-Sprint-1-Dealing-With-Data/blob/master/%20module4-makefeatures/LS_DS_114_Make_Features_Assignment.ipynb\" target=\"_parent\"><img src=\"https://colab.research.google.com/assets/colab-badge.svg\" alt=\"Open In Colab\"/></a>"
      ]
    },
    {
      "cell_type": "markdown",
      "metadata": {
        "id": "SnDJqBLi0FYW",
        "colab_type": "text"
      },
      "source": [
        "<img align=\"left\" src=\"https://lever-client-logos.s3.amazonaws.com/864372b1-534c-480e-acd5-9711f850815c-1524247202159.png\" width=200> "
      ]
    },
    {
      "cell_type": "markdown",
      "metadata": {
        "id": "W5GjI1z5yNG4",
        "colab_type": "text"
      },
      "source": [
        "# ASSIGNMENT\n",
        "\n",
        "- Replicate the lesson code.\n",
        "\n",
        " - This means that if you haven't followed along already, type out the things that we did in class. Forcing your fingers to hit each key will help you internalize the syntax of what we're doing.\n",
        " - [Lambda Learning Method for DS - By Ryan Herr](https://docs.google.com/document/d/1ubOw9B3Hfip27hF2ZFnW3a3z9xAgrUDRReOEo-FHCVs/edit?usp=sharing)\n",
        "- Convert the `term` column from string to integer.\n",
        "- Make a column named `loan_status_is_great`. It should contain the integer 1 if `loan_status` is \"Current\" or \"Fully Paid.\" Else it should contain the integer 0.\n",
        "\n",
        "- Make `last_pymnt_d_month` and `last_pymnt_d_year` columns."
      ]
    },
    {
      "cell_type": "code",
      "metadata": {
        "id": "AazB4eFwym2p",
        "colab_type": "code",
        "outputId": "baa0ea73-497b-4d31-b67f-d91914acbf32",
        "colab": {
          "base_uri": "https://localhost:8080/",
          "height": 257
        }
      },
      "source": [
        "!wget https://resources.lendingclub.com/LoanStats_2018Q4.csv.zip\n",
        "!unzip LoanStats_2018Q4.csv.zip"
      ],
      "execution_count": 0,
      "outputs": [
        {
          "output_type": "stream",
          "text": [
            "--2019-09-05 19:50:08--  https://resources.lendingclub.com/LoanStats_2018Q4.csv.zip\n",
            "Resolving resources.lendingclub.com (resources.lendingclub.com)... 64.48.1.20\n",
            "Connecting to resources.lendingclub.com (resources.lendingclub.com)|64.48.1.20|:443... connected.\n",
            "HTTP request sent, awaiting response... 200 OK\n",
            "Length: unspecified [application/zip]\n",
            "Saving to: ‘LoanStats_2018Q4.csv.zip’\n",
            "\n",
            "LoanStats_2018Q4.cs     [       <=>          ]  21.58M  1.68MB/s    in 13s     \n",
            "\n",
            "2019-09-05 19:50:21 (1.66 MB/s) - ‘LoanStats_2018Q4.csv.zip’ saved [22631049]\n",
            "\n",
            "Archive:  LoanStats_2018Q4.csv.zip\n",
            "  inflating: LoanStats_2018Q4.csv    \n"
          ],
          "name": "stdout"
        }
      ]
    },
    {
      "cell_type": "code",
      "metadata": {
        "id": "iTZ-qs5u-pYN",
        "colab_type": "code",
        "outputId": "afcb527f-393a-4d1d-b298-9baa5225cdf6",
        "colab": {
          "base_uri": "https://localhost:8080/",
          "height": 74
        }
      },
      "source": [
        "import pandas as pd\n",
        "import numpy as np\n",
        "data_orig = pd.read_csv(\"LoanStats_2018Q4.csv\", header=1, skipfooter=2, na_values=[\"n/a\", \"nan\"])"
      ],
      "execution_count": 120,
      "outputs": [
        {
          "output_type": "stream",
          "text": [
            "/usr/local/lib/python3.6/dist-packages/ipykernel_launcher.py:3: ParserWarning: Falling back to the 'python' engine because the 'c' engine does not support skipfooter; you can avoid this warning by specifying engine='python'.\n",
            "  This is separate from the ipykernel package so we can avoid doing imports until\n"
          ],
          "name": "stderr"
        }
      ]
    },
    {
      "cell_type": "code",
      "metadata": {
        "id": "643_n7nRBTB8",
        "colab_type": "code",
        "outputId": "c8a4e221-7a90-4a9f-b095-f16ac6036554",
        "colab": {
          "base_uri": "https://localhost:8080/",
          "height": 682
        }
      },
      "source": [
        "def string_to_num(string, datatype=\"int\"):\n",
        "  if pd.isnull(string):\n",
        "    return 0\n",
        "  string = \"\".join([char for char in string if char.isdigit() or char == \".\"])\n",
        "  if not string:\n",
        "    return 0\n",
        "  if datatype == \"int\":\n",
        "    return int(string)\n",
        "  elif datatype == \"float\":\n",
        "    return float(string)\n",
        "  return 0\n",
        "\n",
        "def loan_status_int(string):\n",
        "  return int(string in [\"Current\", \"Fully Paid\"])\n",
        "\n",
        "data = data_orig.copy()\n",
        "\n",
        "print(data[\"term\"].head(5))\n",
        "data[\"term\"] = data_orig[\"term\"].apply(string_to_num, datatype=\"int\")\n",
        "print(data[\"term\"].head(5))\n",
        "\n",
        "data[\"loan_status_is_great\"] = data[\"loan_status\"].apply(loan_status_int)\n",
        "print(data[\"loan_status_is_great\"].head(5))\n",
        "print(data[\"loan_status\"].head(5))\n",
        "\n",
        "data[\"last_pymnt_d\"] = pd.to_datetime(data[\"last_pymnt_d\"], infer_datetime_format=True)\n",
        "data[\"last_pymnt_d_year\"] = data[\"last_pymnt_d\"].dt.year\n",
        "data[\"last_pymnt_d_month\"] = data[\"last_pymnt_d\"].dt.month\n",
        "print(data[\"last_pymnt_d_year\"].head(5))\n",
        "print(data[\"last_pymnt_d_month\"].head(5))"
      ],
      "execution_count": 127,
      "outputs": [
        {
          "output_type": "stream",
          "text": [
            "0     36 months\n",
            "1     36 months\n",
            "2     36 months\n",
            "3     60 months\n",
            "4     36 months\n",
            "Name: term, dtype: object\n",
            "0    36\n",
            "1    36\n",
            "2    36\n",
            "3    60\n",
            "4    36\n",
            "Name: term, dtype: int64\n",
            "0    1\n",
            "1    1\n",
            "2    0\n",
            "3    1\n",
            "4    1\n",
            "Name: loan_status_is_great, dtype: int64\n",
            "0               Current\n",
            "1               Current\n",
            "2    Late (31-120 days)\n",
            "3               Current\n",
            "4               Current\n",
            "Name: loan_status, dtype: object\n",
            "0    2019.0\n",
            "1    2019.0\n",
            "2    2019.0\n",
            "3    2019.0\n",
            "4    2019.0\n",
            "Name: last_pymnt_d_year, dtype: float64\n",
            "0    7.0\n",
            "1    7.0\n",
            "2    6.0\n",
            "3    7.0\n",
            "4    7.0\n",
            "Name: last_pymnt_d_month, dtype: float64\n"
          ],
          "name": "stdout"
        }
      ]
    },
    {
      "cell_type": "markdown",
      "metadata": {
        "colab_type": "text",
        "id": "L8k0LiHmo5EU"
      },
      "source": [
        "# STRETCH OPTIONS\n",
        "\n",
        "You can do more with the LendingClub or Instacart datasets.\n",
        "\n",
        "LendingClub options:\n",
        "- There's one other column in the dataframe with percent signs. Remove them and convert to floats. You'll need to handle missing values.\n",
        "- Modify the `emp_title` column to replace titles with 'Other' if the title is not in the top 20. \n",
        "- Take initiatve and work on your own ideas!\n",
        "\n",
        "Instacart options:\n",
        "- Read [Instacart Market Basket Analysis, Winner's Interview: 2nd place, Kazuki Onodera](http://blog.kaggle.com/2017/09/21/instacart-market-basket-analysis-winners-interview-2nd-place-kazuki-onodera/), especially the **Feature Engineering** section. (Can you choose one feature from his bulleted lists, and try to engineer it with pandas code?)\n",
        "- Read and replicate parts of [Simple Exploration Notebook - Instacart](https://www.kaggle.com/sudalairajkumar/simple-exploration-notebook-instacart). (It's the Python Notebook with the most upvotes for this Kaggle competition.)\n",
        "- Take initiative and work on your own ideas!"
      ]
    },
    {
      "cell_type": "markdown",
      "metadata": {
        "colab_type": "text",
        "id": "0_7PXF7lpEXg"
      },
      "source": [
        "You can uncomment and run the cells below to re-download and extract the Instacart data"
      ]
    },
    {
      "cell_type": "code",
      "metadata": {
        "id": "jbpDpYq5OZwb",
        "colab_type": "code",
        "outputId": "1a7dba61-3dd7-477e-c677-e821a04fea14",
        "colab": {
          "base_uri": "https://localhost:8080/",
          "height": 1000
        }
      },
      "source": [
        "print(data[\"revol_util\"].head(5))\n",
        "data[\"revol_util\"] = data_orig[\"revol_util\"].apply(string_to_num, datatype=\"float\")\n",
        "print(data[\"revol_util\"].head(5))\n",
        "\n",
        "def change_unpopular(value, table):\n",
        "  if value in table:\n",
        "    return value\n",
        "  return \"Other\"\n",
        "\n",
        "def fix_title(value):\n",
        "  return value.strip().title() if isinstance(value, str) else \"Unknown\"\n",
        "\n",
        "data[\"emp_title\"] = data_orig[\"emp_title\"].apply(fix_title)\n",
        "freq_table = data[\"emp_title\"].value_counts(dropna=False)[0:19]\n",
        "data[\"emp_title\"] = data[\"emp_title\"].apply(change_unpopular, table=freq_table)\n",
        "print(data[\"emp_title\"].head(50))"
      ],
      "execution_count": 139,
      "outputs": [
        {
          "output_type": "stream",
          "text": [
            "0    38.0\n",
            "1    19.2\n",
            "2    19.1\n",
            "3    13.0\n",
            "4    81.3\n",
            "Name: revol_util, dtype: float64\n",
            "0    38.0\n",
            "1    19.2\n",
            "2    19.1\n",
            "3    13.0\n",
            "4    81.3\n",
            "Name: revol_util, dtype: float64\n",
            "0     Unknown\n",
            "1       Other\n",
            "2       Other\n",
            "3       Other\n",
            "4     Manager\n",
            "5       Other\n",
            "6     Unknown\n",
            "7       Other\n",
            "8       Other\n",
            "9     Unknown\n",
            "10      Other\n",
            "11      Other\n",
            "12      Other\n",
            "13    Unknown\n",
            "14      Other\n",
            "15      Other\n",
            "16      Other\n",
            "17      Other\n",
            "18      Other\n",
            "19      Other\n",
            "20    Unknown\n",
            "21      Other\n",
            "22      Other\n",
            "23      Other\n",
            "24    Unknown\n",
            "25      Other\n",
            "26    Unknown\n",
            "27      Other\n",
            "28      Other\n",
            "29      Other\n",
            "30      Other\n",
            "31      Other\n",
            "32      Other\n",
            "33      Other\n",
            "34    Unknown\n",
            "35      Other\n",
            "36    Unknown\n",
            "37      Other\n",
            "38      Other\n",
            "39    Teacher\n",
            "40    Unknown\n",
            "41      Other\n",
            "42      Other\n",
            "43      Other\n",
            "44     Driver\n",
            "45      Other\n",
            "46    Teacher\n",
            "47    Unknown\n",
            "48      Other\n",
            "49      Other\n",
            "Name: emp_title, dtype: object\n"
          ],
          "name": "stdout"
        }
      ]
    },
    {
      "cell_type": "code",
      "metadata": {
        "id": "vm9veErSOlrj",
        "colab_type": "code",
        "colab": {}
      },
      "source": [
        "\"\""
      ],
      "execution_count": 0,
      "outputs": []
    }
  ]
}