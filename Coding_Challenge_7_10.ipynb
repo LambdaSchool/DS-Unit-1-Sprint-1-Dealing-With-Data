{
  "nbformat": 4,
  "nbformat_minor": 0,
  "metadata": {
    "colab": {
      "name": "Coding Challenge 7.10.ipynb",
      "version": "0.3.2",
      "provenance": [],
      "include_colab_link": true
    },
    "kernelspec": {
      "name": "python3",
      "display_name": "Python 3"
    }
  },
  "cells": [
    {
      "cell_type": "markdown",
      "metadata": {
        "id": "view-in-github",
        "colab_type": "text"
      },
      "source": [
        "<a href=\"https://colab.research.google.com/github/JayellWolfe/DS-Unit-1-Sprint-1-Dealing-With-Data/blob/master/Coding_Challenge_7_10.ipynb\" target=\"_parent\"><img src=\"https://colab.research.google.com/assets/colab-badge.svg\" alt=\"Open In Colab\"/></a>"
      ]
    },
    {
      "cell_type": "markdown",
      "metadata": {
        "id": "DTryy-ftM4Nn",
        "colab_type": "text"
      },
      "source": [
        "## Good Morning! For today's coding challenge, we are going to solve some python basics. "
      ]
    },
    {
      "cell_type": "markdown",
      "metadata": {
        "id": "MYcqiCCYNvrU",
        "colab_type": "text"
      },
      "source": [
        "### 1. Write a Python program to create all possible strings by using 'a', 'e', 'i', 'o', 'u'. Use the characters exactly once.\n"
      ]
    },
    {
      "cell_type": "code",
      "metadata": {
        "id": "P5oD9XXnMJ6S",
        "colab_type": "code",
        "colab": {}
      },
      "source": [
        "# TODO code here"
      ],
      "execution_count": 0,
      "outputs": []
    },
    {
      "cell_type": "markdown",
      "metadata": {
        "id": "U5VoSsxeN23s",
        "colab_type": "text"
      },
      "source": [
        "###2.  Write a Python program to calculate number of days between two dates"
      ]
    },
    {
      "cell_type": "code",
      "metadata": {
        "id": "OskMQGCUOTg9",
        "colab_type": "code",
        "colab": {}
      },
      "source": [
        "# TODO code here "
      ],
      "execution_count": 0,
      "outputs": []
    },
    {
      "cell_type": "markdown",
      "metadata": {
        "id": "H039HvT_OWQD",
        "colab_type": "text"
      },
      "source": [
        "### 3. Write a Python program to get the difference between a given number and 17, if the number is greater than 17 return double the absolute difference.\n",
        "\n"
      ]
    },
    {
      "cell_type": "code",
      "metadata": {
        "id": "z7w5-aDmO6A9",
        "colab_type": "code",
        "colab": {}
      },
      "source": [
        "# TODO code here "
      ],
      "execution_count": 0,
      "outputs": []
    },
    {
      "cell_type": "markdown",
      "metadata": {
        "id": "Mx4wWoGlPtKD",
        "colab_type": "text"
      },
      "source": [
        "### Stretch Goals"
      ]
    },
    {
      "cell_type": "markdown",
      "metadata": {
        "id": "Fpfn3ozePw96",
        "colab_type": "text"
      },
      "source": [
        "### 4. Write a Python program to find whether a given number (accept from the user) is even or odd, print out an appropriate message to the user."
      ]
    },
    {
      "cell_type": "code",
      "metadata": {
        "id": "tUSmmweKPwaL",
        "colab_type": "code",
        "colab": {}
      },
      "source": [
        "# TODO code here "
      ],
      "execution_count": 0,
      "outputs": []
    },
    {
      "cell_type": "markdown",
      "metadata": {
        "id": "oHF_eYwkQSgH",
        "colab_type": "text"
      },
      "source": [
        "### 5. Write a Python program to display your details like name, age, address in three different lines."
      ]
    },
    {
      "cell_type": "code",
      "metadata": {
        "id": "aXmgBFO1QzCO",
        "colab_type": "code",
        "colab": {}
      },
      "source": [
        "# TODO code here "
      ],
      "execution_count": 0,
      "outputs": []
    }
  ]
}