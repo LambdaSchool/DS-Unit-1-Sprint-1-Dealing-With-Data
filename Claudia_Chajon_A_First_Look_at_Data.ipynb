{
  "nbformat": 4,
  "nbformat_minor": 0,
  "metadata": {
    "colab": {
      "name": "Claudia Chajon:A_First_Look_at_Data.ipynb",
      "version": "0.3.2",
      "provenance": [],
      "collapsed_sections": [],
      "include_colab_link": true
    },
    "kernelspec": {
      "name": "python3",
      "display_name": "Python 3"
    }
  },
  "cells": [
    {
      "cell_type": "markdown",
      "metadata": {
        "id": "view-in-github",
        "colab_type": "text"
      },
      "source": [
        "<a href=\"https://colab.research.google.com/github/claudiasofiaC/DS-Unit-1-Sprint-1-Dealing-With-Data/blob/master/Claudia_Chajon_A_First_Look_at_Data.ipynb\" target=\"_parent\"><img src=\"https://colab.research.google.com/assets/colab-badge.svg\" alt=\"Open In Colab\"/></a>"
      ]
    },
    {
      "cell_type": "markdown",
      "metadata": {
        "id": "Okfr_uhwhS1X",
        "colab_type": "text"
      },
      "source": [
        "# Lambda School Data Science - A First Look at Data\n",
        "\n"
      ]
    },
    {
      "cell_type": "markdown",
      "metadata": {
        "id": "9dtJETFRhnOG",
        "colab_type": "text"
      },
      "source": [
        "## Lecture - let's explore Python DS libraries and examples!\n",
        "\n",
        "The Python Data Science ecosystem is huge. You've seen some of the big pieces - pandas, scikit-learn, matplotlib. What parts do you want to see more of?"
      ]
    },
    {
      "cell_type": "code",
      "metadata": {
        "id": "WiBkgmPJhmhE",
        "colab_type": "code",
        "outputId": "68ddbea7-b732-4d13-b001-35077bf66ec5",
        "colab": {
          "base_uri": "https://localhost:8080/",
          "height": 34
        }
      },
      "source": [
        "2 + 2"
      ],
      "execution_count": 0,
      "outputs": [
        {
          "output_type": "execute_result",
          "data": {
            "text/plain": [
              "4"
            ]
          },
          "metadata": {
            "tags": []
          },
          "execution_count": 1
        }
      ]
    },
    {
      "cell_type": "markdown",
      "metadata": {
        "id": "FUuR3l3-UKCL",
        "colab_type": "text"
      },
      "source": [
        "I would like to see more of matplotlib and what can be done with it. "
      ]
    },
    {
      "cell_type": "markdown",
      "metadata": {
        "id": "lOqaPds9huME",
        "colab_type": "text"
      },
      "source": [
        "## Assignment - now it's your turn\n",
        "\n",
        "Pick at least one Python DS library, and using documentation/examples reproduce in this notebook something cool. It's OK if you don't fully understand it or get it 100% working, but do put in effort and look things up."
      ]
    },
    {
      "cell_type": "markdown",
      "metadata": {
        "id": "jbT54yilUIaU",
        "colab_type": "text"
      },
      "source": [
        ""
      ]
    },
    {
      "cell_type": "code",
      "metadata": {
        "id": "TGUS79cOhPWj",
        "colab_type": "code",
        "outputId": "35aa7b44-0314-4a4c-b39a-89846cb15df5",
        "colab": {
          "base_uri": "https://localhost:8080/",
          "height": 297
        }
      },
      "source": [
        "# TODO - your code here\n",
        "# Use what we did live in lecture as an example\n",
        "\n",
        "import numpy as np\n",
        "import pandas as pd\n",
        "df = pd.read_csv('https://data.boston.gov/dataset/6220d948-eae2-4e4b-8723-2dc8e67722a3/resource/12cb3883-56f5-47de-afa5-3b1cf61b257b/download/tmpm23l6m_3.csv')\n",
        "\n",
        "\n",
        "df.describe()\n",
        "\n"
      ],
      "execution_count": 3,
      "outputs": [
        {
          "output_type": "execute_result",
          "data": {
            "text/html": [
              "<div>\n",
              "<style scoped>\n",
              "    .dataframe tbody tr th:only-of-type {\n",
              "        vertical-align: middle;\n",
              "    }\n",
              "\n",
              "    .dataframe tbody tr th {\n",
              "        vertical-align: top;\n",
              "    }\n",
              "\n",
              "    .dataframe thead th {\n",
              "        text-align: right;\n",
              "    }\n",
              "</style>\n",
              "<table border=\"1\" class=\"dataframe\">\n",
              "  <thead>\n",
              "    <tr style=\"text-align: right;\">\n",
              "      <th></th>\n",
              "      <th>OFFENSE_CODE</th>\n",
              "      <th>YEAR</th>\n",
              "      <th>MONTH</th>\n",
              "      <th>HOUR</th>\n",
              "      <th>Lat</th>\n",
              "      <th>Long</th>\n",
              "    </tr>\n",
              "  </thead>\n",
              "  <tbody>\n",
              "    <tr>\n",
              "      <th>count</th>\n",
              "      <td>418273.000000</td>\n",
              "      <td>418273.000000</td>\n",
              "      <td>418273.000000</td>\n",
              "      <td>418273.000000</td>\n",
              "      <td>390684.000000</td>\n",
              "      <td>390684.000000</td>\n",
              "    </tr>\n",
              "    <tr>\n",
              "      <th>mean</th>\n",
              "      <td>2328.066897</td>\n",
              "      <td>2017.053668</td>\n",
              "      <td>6.601110</td>\n",
              "      <td>13.115903</td>\n",
              "      <td>42.218780</td>\n",
              "      <td>-70.915776</td>\n",
              "    </tr>\n",
              "    <tr>\n",
              "      <th>std</th>\n",
              "      <td>1181.479176</td>\n",
              "      <td>1.267411</td>\n",
              "      <td>3.295399</td>\n",
              "      <td>6.296692</td>\n",
              "      <td>2.113665</td>\n",
              "      <td>3.419053</td>\n",
              "    </tr>\n",
              "    <tr>\n",
              "      <th>min</th>\n",
              "      <td>111.000000</td>\n",
              "      <td>2015.000000</td>\n",
              "      <td>1.000000</td>\n",
              "      <td>0.000000</td>\n",
              "      <td>-1.000000</td>\n",
              "      <td>-71.178674</td>\n",
              "    </tr>\n",
              "    <tr>\n",
              "      <th>25%</th>\n",
              "      <td>1102.000000</td>\n",
              "      <td>2016.000000</td>\n",
              "      <td>4.000000</td>\n",
              "      <td>9.000000</td>\n",
              "      <td>42.297145</td>\n",
              "      <td>-71.097172</td>\n",
              "    </tr>\n",
              "    <tr>\n",
              "      <th>50%</th>\n",
              "      <td>3001.000000</td>\n",
              "      <td>2017.000000</td>\n",
              "      <td>7.000000</td>\n",
              "      <td>14.000000</td>\n",
              "      <td>42.325538</td>\n",
              "      <td>-71.077610</td>\n",
              "    </tr>\n",
              "    <tr>\n",
              "      <th>75%</th>\n",
              "      <td>3201.000000</td>\n",
              "      <td>2018.000000</td>\n",
              "      <td>9.000000</td>\n",
              "      <td>18.000000</td>\n",
              "      <td>42.348551</td>\n",
              "      <td>-71.062583</td>\n",
              "    </tr>\n",
              "    <tr>\n",
              "      <th>max</th>\n",
              "      <td>3831.000000</td>\n",
              "      <td>2019.000000</td>\n",
              "      <td>12.000000</td>\n",
              "      <td>23.000000</td>\n",
              "      <td>42.395042</td>\n",
              "      <td>-1.000000</td>\n",
              "    </tr>\n",
              "  </tbody>\n",
              "</table>\n",
              "</div>"
            ],
            "text/plain": [
              "        OFFENSE_CODE           YEAR  ...            Lat           Long\n",
              "count  418273.000000  418273.000000  ...  390684.000000  390684.000000\n",
              "mean     2328.066897    2017.053668  ...      42.218780     -70.915776\n",
              "std      1181.479176       1.267411  ...       2.113665       3.419053\n",
              "min       111.000000    2015.000000  ...      -1.000000     -71.178674\n",
              "25%      1102.000000    2016.000000  ...      42.297145     -71.097172\n",
              "50%      3001.000000    2017.000000  ...      42.325538     -71.077610\n",
              "75%      3201.000000    2018.000000  ...      42.348551     -71.062583\n",
              "max      3831.000000    2019.000000  ...      42.395042      -1.000000\n",
              "\n",
              "[8 rows x 6 columns]"
            ]
          },
          "metadata": {
            "tags": []
          },
          "execution_count": 3
        }
      ]
    },
    {
      "cell_type": "code",
      "metadata": {
        "id": "IK5wqLZynxfL",
        "colab_type": "code",
        "outputId": "6f144170-3288-45b3-d4de-314e1c387b0a",
        "colab": {
          "base_uri": "https://localhost:8080/",
          "height": 566
        }
      },
      "source": [
        "df.head(10)"
      ],
      "execution_count": 4,
      "outputs": [
        {
          "output_type": "execute_result",
          "data": {
            "text/html": [
              "<div>\n",
              "<style scoped>\n",
              "    .dataframe tbody tr th:only-of-type {\n",
              "        vertical-align: middle;\n",
              "    }\n",
              "\n",
              "    .dataframe tbody tr th {\n",
              "        vertical-align: top;\n",
              "    }\n",
              "\n",
              "    .dataframe thead th {\n",
              "        text-align: right;\n",
              "    }\n",
              "</style>\n",
              "<table border=\"1\" class=\"dataframe\">\n",
              "  <thead>\n",
              "    <tr style=\"text-align: right;\">\n",
              "      <th></th>\n",
              "      <th>INCIDENT_NUMBER</th>\n",
              "      <th>OFFENSE_CODE</th>\n",
              "      <th>OFFENSE_CODE_GROUP</th>\n",
              "      <th>OFFENSE_DESCRIPTION</th>\n",
              "      <th>DISTRICT</th>\n",
              "      <th>REPORTING_AREA</th>\n",
              "      <th>SHOOTING</th>\n",
              "      <th>OCCURRED_ON_DATE</th>\n",
              "      <th>YEAR</th>\n",
              "      <th>MONTH</th>\n",
              "      <th>DAY_OF_WEEK</th>\n",
              "      <th>HOUR</th>\n",
              "      <th>UCR_PART</th>\n",
              "      <th>STREET</th>\n",
              "      <th>Lat</th>\n",
              "      <th>Long</th>\n",
              "      <th>Location</th>\n",
              "    </tr>\n",
              "  </thead>\n",
              "  <tbody>\n",
              "    <tr>\n",
              "      <th>0</th>\n",
              "      <td>I192069764</td>\n",
              "      <td>3301</td>\n",
              "      <td>Verbal Disputes</td>\n",
              "      <td>VERBAL DISPUTE</td>\n",
              "      <td>C11</td>\n",
              "      <td>402</td>\n",
              "      <td>NaN</td>\n",
              "      <td>2019-09-01 21:28:00</td>\n",
              "      <td>2019</td>\n",
              "      <td>9</td>\n",
              "      <td>Sunday</td>\n",
              "      <td>21</td>\n",
              "      <td>Part Three</td>\n",
              "      <td>DORCHESTER AVE</td>\n",
              "      <td>42.284398</td>\n",
              "      <td>-71.064684</td>\n",
              "      <td>(42.28439820, -71.06468373)</td>\n",
              "    </tr>\n",
              "    <tr>\n",
              "      <th>1</th>\n",
              "      <td>I192069763</td>\n",
              "      <td>614</td>\n",
              "      <td>Larceny From Motor Vehicle</td>\n",
              "      <td>LARCENY THEFT FROM MV - NON-ACCESSORY</td>\n",
              "      <td>B3</td>\n",
              "      <td>466</td>\n",
              "      <td>NaN</td>\n",
              "      <td>2019-09-01 13:00:00</td>\n",
              "      <td>2019</td>\n",
              "      <td>9</td>\n",
              "      <td>Sunday</td>\n",
              "      <td>13</td>\n",
              "      <td>Part One</td>\n",
              "      <td>GOODALE RD</td>\n",
              "      <td>42.283628</td>\n",
              "      <td>-71.093496</td>\n",
              "      <td>(42.28362830, -71.09349553)</td>\n",
              "    </tr>\n",
              "    <tr>\n",
              "      <th>2</th>\n",
              "      <td>I192069757</td>\n",
              "      <td>613</td>\n",
              "      <td>Larceny</td>\n",
              "      <td>LARCENY SHOPLIFTING</td>\n",
              "      <td>B2</td>\n",
              "      <td>603</td>\n",
              "      <td>NaN</td>\n",
              "      <td>2019-09-01 21:03:00</td>\n",
              "      <td>2019</td>\n",
              "      <td>9</td>\n",
              "      <td>Sunday</td>\n",
              "      <td>21</td>\n",
              "      <td>Part One</td>\n",
              "      <td>TREMONT ST</td>\n",
              "      <td>42.333807</td>\n",
              "      <td>-71.103778</td>\n",
              "      <td>(42.33380683, -71.10377843)</td>\n",
              "    </tr>\n",
              "    <tr>\n",
              "      <th>3</th>\n",
              "      <td>I192069753</td>\n",
              "      <td>611</td>\n",
              "      <td>Larceny</td>\n",
              "      <td>LARCENY PICK-POCKET</td>\n",
              "      <td>NaN</td>\n",
              "      <td></td>\n",
              "      <td>NaN</td>\n",
              "      <td>2019-09-01 21:22:00</td>\n",
              "      <td>2019</td>\n",
              "      <td>9</td>\n",
              "      <td>Sunday</td>\n",
              "      <td>21</td>\n",
              "      <td>Part One</td>\n",
              "      <td>NaN</td>\n",
              "      <td>NaN</td>\n",
              "      <td>NaN</td>\n",
              "      <td>(0.00000000, 0.00000000)</td>\n",
              "    </tr>\n",
              "    <tr>\n",
              "      <th>4</th>\n",
              "      <td>I192069751</td>\n",
              "      <td>613</td>\n",
              "      <td>Larceny</td>\n",
              "      <td>LARCENY SHOPLIFTING</td>\n",
              "      <td>B3</td>\n",
              "      <td>476</td>\n",
              "      <td>NaN</td>\n",
              "      <td>2019-09-01 20:59:00</td>\n",
              "      <td>2019</td>\n",
              "      <td>9</td>\n",
              "      <td>Sunday</td>\n",
              "      <td>20</td>\n",
              "      <td>Part One</td>\n",
              "      <td>BLUE HILL AVE</td>\n",
              "      <td>42.269947</td>\n",
              "      <td>-71.093803</td>\n",
              "      <td>(42.26994732, -71.09380308)</td>\n",
              "    </tr>\n",
              "    <tr>\n",
              "      <th>5</th>\n",
              "      <td>I192069749</td>\n",
              "      <td>3301</td>\n",
              "      <td>Verbal Disputes</td>\n",
              "      <td>VERBAL DISPUTE</td>\n",
              "      <td>D4</td>\n",
              "      <td>273</td>\n",
              "      <td>NaN</td>\n",
              "      <td>2019-09-01 20:43:00</td>\n",
              "      <td>2019</td>\n",
              "      <td>9</td>\n",
              "      <td>Sunday</td>\n",
              "      <td>20</td>\n",
              "      <td>Part Three</td>\n",
              "      <td>WASHINGTON ST</td>\n",
              "      <td>42.335435</td>\n",
              "      <td>-71.078402</td>\n",
              "      <td>(42.33543510, -71.07840204)</td>\n",
              "    </tr>\n",
              "    <tr>\n",
              "      <th>6</th>\n",
              "      <td>I192069746</td>\n",
              "      <td>1106</td>\n",
              "      <td>Confidence Games</td>\n",
              "      <td>FRAUD - CREDIT CARD / ATM FRAUD</td>\n",
              "      <td>D4</td>\n",
              "      <td>273</td>\n",
              "      <td>NaN</td>\n",
              "      <td>2019-09-01 20:40:00</td>\n",
              "      <td>2019</td>\n",
              "      <td>9</td>\n",
              "      <td>Sunday</td>\n",
              "      <td>20</td>\n",
              "      <td>Part Two</td>\n",
              "      <td>WASHINGTON ST</td>\n",
              "      <td>42.336219</td>\n",
              "      <td>-71.077338</td>\n",
              "      <td>(42.33621941, -71.07733761)</td>\n",
              "    </tr>\n",
              "    <tr>\n",
              "      <th>7</th>\n",
              "      <td>I192069744</td>\n",
              "      <td>1402</td>\n",
              "      <td>Vandalism</td>\n",
              "      <td>VANDALISM</td>\n",
              "      <td>D14</td>\n",
              "      <td>766</td>\n",
              "      <td>NaN</td>\n",
              "      <td>2019-09-01 19:45:00</td>\n",
              "      <td>2019</td>\n",
              "      <td>9</td>\n",
              "      <td>Sunday</td>\n",
              "      <td>19</td>\n",
              "      <td>Part Two</td>\n",
              "      <td>FALKLAND ST</td>\n",
              "      <td>42.355276</td>\n",
              "      <td>-71.158612</td>\n",
              "      <td>(42.35527592, -71.15861184)</td>\n",
              "    </tr>\n",
              "    <tr>\n",
              "      <th>8</th>\n",
              "      <td>I192069743</td>\n",
              "      <td>3831</td>\n",
              "      <td>Motor Vehicle Accident Response</td>\n",
              "      <td>M/V - LEAVING SCENE - PROPERTY DAMAGE</td>\n",
              "      <td>E13</td>\n",
              "      <td>571</td>\n",
              "      <td>NaN</td>\n",
              "      <td>2019-08-31 16:00:00</td>\n",
              "      <td>2019</td>\n",
              "      <td>8</td>\n",
              "      <td>Saturday</td>\n",
              "      <td>16</td>\n",
              "      <td>Part Three</td>\n",
              "      <td>GLEN RD</td>\n",
              "      <td>42.308572</td>\n",
              "      <td>-71.101399</td>\n",
              "      <td>(42.30857205, -71.10139889)</td>\n",
              "    </tr>\n",
              "    <tr>\n",
              "      <th>9</th>\n",
              "      <td>I192069742</td>\n",
              "      <td>3410</td>\n",
              "      <td>Towed</td>\n",
              "      <td>TOWED MOTOR VEHICLE</td>\n",
              "      <td>D4</td>\n",
              "      <td>139</td>\n",
              "      <td>NaN</td>\n",
              "      <td>2019-09-01 18:58:00</td>\n",
              "      <td>2019</td>\n",
              "      <td>9</td>\n",
              "      <td>Sunday</td>\n",
              "      <td>18</td>\n",
              "      <td>Part Three</td>\n",
              "      <td>BEACON ST</td>\n",
              "      <td>42.351722</td>\n",
              "      <td>-71.086246</td>\n",
              "      <td>(42.35172174, -71.08624608)</td>\n",
              "    </tr>\n",
              "  </tbody>\n",
              "</table>\n",
              "</div>"
            ],
            "text/plain": [
              "  INCIDENT_NUMBER  OFFENSE_CODE  ...       Long                     Location\n",
              "0      I192069764          3301  ... -71.064684  (42.28439820, -71.06468373)\n",
              "1      I192069763           614  ... -71.093496  (42.28362830, -71.09349553)\n",
              "2      I192069757           613  ... -71.103778  (42.33380683, -71.10377843)\n",
              "3      I192069753           611  ...        NaN     (0.00000000, 0.00000000)\n",
              "4      I192069751           613  ... -71.093803  (42.26994732, -71.09380308)\n",
              "5      I192069749          3301  ... -71.078402  (42.33543510, -71.07840204)\n",
              "6      I192069746          1106  ... -71.077338  (42.33621941, -71.07733761)\n",
              "7      I192069744          1402  ... -71.158612  (42.35527592, -71.15861184)\n",
              "8      I192069743          3831  ... -71.101399  (42.30857205, -71.10139889)\n",
              "9      I192069742          3410  ... -71.086246  (42.35172174, -71.08624608)\n",
              "\n",
              "[10 rows x 17 columns]"
            ]
          },
          "metadata": {
            "tags": []
          },
          "execution_count": 4
        }
      ]
    },
    {
      "cell_type": "code",
      "metadata": {
        "id": "slQr01v7prC4",
        "colab_type": "code",
        "colab": {
          "base_uri": "https://localhost:8080/",
          "height": 1000
        },
        "outputId": "75fda6aa-1132-4f61-ba87-4f257191acb9"
      },
      "source": [
        "crime_type=df.OFFENSE_CODE_GROUP.value_counts()\n",
        "crime_type "
      ],
      "execution_count": 5,
      "outputs": [
        {
          "output_type": "execute_result",
          "data": {
            "text/plain": [
              "Motor Vehicle Accident Response              48617\n",
              "Larceny                                      34015\n",
              "Medical Assistance                           31983\n",
              "Investigate Person                           24404\n",
              "Other                                        23537\n",
              "Drug Violation                               21640\n",
              "Simple Assault                               20884\n",
              "Vandalism                                    19722\n",
              "Verbal Disputes                              17414\n",
              "Investigate Property                         14821\n",
              "Towed                                        14643\n",
              "Larceny From Motor Vehicle                   13661\n",
              "Property Lost                                13156\n",
              "Warrant Arrests                              10888\n",
              "Aggravated Assault                           10429\n",
              "Fraud                                         8076\n",
              "Violations                                    7879\n",
              "Missing Person Located                        7100\n",
              "Residential Burglary                          6758\n",
              "Auto Theft                                    6076\n",
              "Robbery                                       5700\n",
              "Harassment                                    5414\n",
              "Property Found                                5153\n",
              "Missing Person Reported                       4744\n",
              "Confidence Games                              3965\n",
              "Police Service Incidents                      3953\n",
              "Disorderly Conduct                            3248\n",
              "Fire Related Reports                          2439\n",
              "Firearm Violations                            2430\n",
              "License Violation                             2254\n",
              "                                             ...  \n",
              "Landlord/Tenant Disputes                      1309\n",
              "Search Warrants                               1300\n",
              "Property Related Damage                       1163\n",
              "Assembly or Gathering Violations              1131\n",
              "Firearm Discovery                              877\n",
              "License Plate Related Incidents                741\n",
              "Operating Under the Influence                  724\n",
              "Offenses Against Child / Family                668\n",
              "Other Burglary                                 578\n",
              "Evading Fare                                   515\n",
              "Embezzlement                                   398\n",
              "Service                                        380\n",
              "Prisoner Related Incidents                     343\n",
              "Harbor Related Incidents                       303\n",
              "Homicide                                       271\n",
              "Prostitution                                   264\n",
              "Criminal Harassment                            157\n",
              "Bomb Hoax                                      109\n",
              "Arson                                          109\n",
              "HOME INVASION                                   93\n",
              "Aircraft                                        58\n",
              "Phone Call Complaints                           45\n",
              "Explosives                                      33\n",
              "Manslaughter                                    10\n",
              "Gambling                                         8\n",
              "HUMAN TRAFFICKING                                8\n",
              "Burglary - No Property Taken                     5\n",
              "INVESTIGATE PERSON                               5\n",
              "HUMAN TRAFFICKING - INVOLUNTARY SERVITUDE        3\n",
              "Biological Threat                                2\n",
              "Name: OFFENSE_CODE_GROUP, Length: 67, dtype: int64"
            ]
          },
          "metadata": {
            "tags": []
          },
          "execution_count": 5
        }
      ]
    },
    {
      "cell_type": "code",
      "metadata": {
        "id": "kqMN6GqerOOZ",
        "colab_type": "code",
        "colab": {
          "base_uri": "https://localhost:8080/",
          "height": 729
        },
        "outputId": "941c5e39-475d-4702-ff73-e0f6db7fad4c"
      },
      "source": [
        "import seaborn as sns\n",
        "import matplotlib.pyplot as plt\n",
        "labels_months=crime_type.index\n",
        "count_type=df.OFFENSE_CODE_GROUP.value_counts()\n",
        "plt.figure(figsize=(10,10))\n",
        "ax=sns.barplot(count_type.index, count_type.values)\n",
        "ax.set_xlabel('Offense code group')\n",
        "ax.set_xticklabels(labels_months, rotation=90)\n",
        "plt.tight_layout()"
      ],
      "execution_count": 10,
      "outputs": [
        {
          "output_type": "display_data",
          "data": {
            "image/png": "[encoded data removed]",
            "text/plain": [
              "<Figure size 720x720 with 1 Axes>"
            ]
          },
          "metadata": {
            "tags": []
          }
        }
      ]
    },
    {
      "cell_type": "code",
      "metadata": {
        "id": "VNGHbyY-qIqw",
        "colab_type": "code",
        "colab": {}
      },
      "source": [
        ""
      ],
      "execution_count": 0,
      "outputs": []
    },
    {
      "cell_type": "markdown",
      "metadata": {
        "id": "BT9gdS7viJZa",
        "colab_type": "text"
      },
      "source": [
        "### Assignment questions\n",
        "\n",
        "After you've worked on some code, answer the following questions in this text block:\n",
        "\n",
        "1.  Describe in a paragraph of text what you did and why, as if you were writing an email to somebody interested but nontechnical.\n",
        "\n",
        "I imported the crime incident reports in Boston from 2105 to date. I had the crimes sorted from most commited to least commited. First in a list form and then using the same data, used it to fill a bar graph to visually show the frequency of each offense in correlation to each other.\n",
        "\n",
        "2.  What was the most challenging part of what you did?\n",
        "\n",
        "The most diffuicult thing was picking a feeature in the data set to use and then making sure my code was clean enough to run smoothly.\n",
        "\n",
        "3.  What was the most interesting thing you learned?\n",
        "\n",
        "I learned to seriously take my time and clean up my coding because it is usually a small and simple mistake that will cause a crash.\n",
        "\n",
        "4.  What area would you like to explore with more time?\n",
        "\n",
        "I would like to explore the different types of graphs possible.\n"
      ]
    },
    {
      "cell_type": "markdown",
      "metadata": {
        "id": "_XXg2crAipwP",
        "colab_type": "text"
      },
      "source": [
        "## Stretch goals and resources\n",
        "\n",
        "Following are *optional* things for you to take a look at. Focus on the above assignment first, and make sure to commit and push your changes to GitHub (and since this is the first assignment of the sprint, open a PR as well).\n",
        "\n",
        "- [pandas documentation](https://pandas.pydata.org/pandas-docs/stable/)\n",
        "- [scikit-learn documentation](http://scikit-learn.org/stable/documentation.html)\n",
        "- [matplotlib documentation](https://matplotlib.org/contents.html)\n",
        "- [Awesome Data Science](https://github.com/bulutyazilim/awesome-datascience) - a list of many types of DS resources\n",
        "\n",
        "Stretch goals:\n",
        "\n",
        "- Find and read blogs, walkthroughs, and other examples of people working through cool things with data science - and share with your classmates!\n",
        "- Write a blog post (Medium is a popular place to publish) introducing yourself as somebody learning data science, and talking about what you've learned already and what you're excited to learn more about."
      ]
    }
  ]
}