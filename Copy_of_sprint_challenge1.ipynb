{
  "nbformat": 4,
  "nbformat_minor": 0,
  "metadata": {
    "colab": {
      "name": "Copy of sprint_challenge1.ipynb",
      "version": "0.3.2",
      "provenance": [],
      "include_colab_link": true
    },
    "kernelspec": {
      "name": "python3",
      "display_name": "Python 3"
    }
  },
  "cells": [
    {
      "cell_type": "markdown",
      "metadata": {
        "id": "view-in-github",
        "colab_type": "text"
      },
      "source": [
        "<a href=\"https://colab.research.google.com/github/mowgli28/DS-Sprint-01-Dealing-With-Data/blob/master/Copy_of_sprint_challenge1.ipynb\" target=\"_parent\"><img src=\"https://colab.research.google.com/assets/colab-badge.svg\" alt=\"Open In Colab\"/></a>"
      ]
    },
    {
      "metadata": {
        "id": "IML10ru0NhMS",
        "colab_type": "code",
        "colab": {}
      },
      "cell_type": "code",
      "source": [
        "{\n",
        "  \"nbformat\": 4,\n",
        "  \"nbformat_minor\": 0,\n",
        "  \"metadata\": {\n",
        "    \"colab\": {\n",
        "      \"name\": \"DS Unit 1 Sprint Challenge 1.ipynb\",\n",
        "      \"version\": \"0.3.2\",\n",
        "      \"provenance\": [],\n",
        "      \"collapsed_sections\": []\n",
        "    },\n",
        "    \"kernelspec\": {\n",
        "      \"name\": \"python3\",\n",
        "      \"display_name\": \"Python 3\"\n",
        "    }\n",
        "  },\n",
        "  \"cells\": [\n",
        "    {\n",
        "      \"metadata\": {\n",
        "        \"id\": \"NooAiTdnafkz\",\n",
        "        \"colab_type\": \"text\"\n",
        "      },\n",
        "      \"cell_type\": \"markdown\",\n",
        "      \"source\": [\n",
        "        \"# Data Science Unit 1 Sprint Challenge 1\\n\",\n",
        "        \"\\n\",\n",
        "        \"## Loading, cleaning, visualizing, and analyzing data\\n\",\n",
        "        \"\\n\",\n",
        "        \"In this sprint challenge you will look at a dataset of the survival of patients who underwent surgery for breast cancer.\\n\",\n",
        "        \"\\n\",\n",
        "        \"http://archive.ics.uci.edu/ml/datasets/Haberman%27s+Survival\\n\",\n",
        "        \"\\n\",\n",
        "        \"Data Set Information:\\n\",\n",
        "        \"The dataset contains cases from a study that was conducted between 1958 and 1970 at the University of Chicago's Billings Hospital on the survival of patients who had undergone surgery for breast cancer.\\n\",\n",
        "        \"\\n\",\n",
        "        \"Attribute Information:\\n\",\n",
        "        \"1. Age of patient at time of operation (numerical)\\n\",\n",
        "        \"2. Patient's year of operation (year - 1900, numerical)\\n\",\n",
        "        \"3. Number of positive axillary nodes detected (numerical)\\n\",\n",
        "        \"4. Survival status (class attribute)\\n\",\n",
        "        \"-- 1 = the patient survived 5 years or longer\\n\",\n",
        "        \"-- 2 = the patient died within 5 year\\n\",\n",
        "        \"\\n\",\n",
        "        \"Sprint challenges are evaluated based on satisfactory completion of each part. It is suggested you work through it in order, getting each aspect reasonably working, before trying to deeply explore, iterate, or refine any given step. Once you get to the end, if you want to go back and improve things, go for it!\"\n",
        "      ]\n",
        "    },\n",
        "    {\n",
        "      \"metadata\": {\n",
        "        \"id\": \"5wch6ksCbJtZ\",\n",
        "        \"colab_type\": \"text\"\n",
        "      },\n",
        "      \"cell_type\": \"markdown\",\n",
        "      \"source\": [\n",
        "        \"## Part 1 - Load and validate the data\\n\",\n",
        "        \"\\n\",\n",
        "        \"- Load the data as a `pandas` data frame.\\n\",\n",
        "        \"- Validate that it has the appropriate number of observations (you can check the raw file, and also read the dataset description from UCI).\\n\",\n",
        "        \"- Validate that you have no missing values.\\n\",\n",
        "        \"- Add informative names to the features.\\n\",\n",
        "        \"- The survival variable is encoded as 1 for surviving >5 years and 2 for not - change this to be 0 for not surviving and 1 for surviving >5 years (0/1 is a more traditional encoding of binary variables)\\n\",\n",
        "        \"\\n\",\n",
        "        \"At the end, print the first five rows of the dataset to demonstrate the above.\"\n",
        "      ]\n",
        "    },\n",
        "    {\n",
        "      \"metadata\": {\n",
        "        \"id\": \"287TpoGKFRVK\",\n",
        "        \"colab_type\": \"code\",\n",
        "        \"colab\": {}\n",
        "      },\n",
        "      \"cell_type\": \"code\",\n",
        "      \"source\": [\n",
        "        import pandas as pd\n",
        "          \n",
        "      ],\n",
        "      \"execution_count\": 0,\n",
        "      \"outputs\": []\n",
        "    },\n",
        "    {\n",
        "      \"metadata\": {\n",
        "        \"id\": \"G7rLytbrO38L\",\n",
        "        \"colab_type\": \"text\"\n",
        "      },\n",
        "      \"cell_type\": \"markdown\",\n",
        "      \"source\": [\n",
        "        \"## Part 2 - Examine the distribution and relationships of the features\\n\",\n",
        "        \"\\n\",\n",
        "        \"Explore the data - create at least *2* tables (can be summary statistics or crosstabulations) and *2* plots illustrating the nature of the data.\\n\",\n",
        "        \"\\n\",\n",
        "        \"This is open-ended, so to remind - first *complete* this task as a baseline, then go on to the remaining sections, and *then* as time allows revisit and explore further.\\n\",\n",
        "        \"\\n\",\n",
        "        \"Hint - you may need to bin some variables depending on your chosen tables/plots.\"\n",
        "      ]\n",
        "    },\n",
        "    {\n",
        "      \"metadata\": {\n",
        "        \"id\": \"IAkllgCIFVj0\",\n",
        "        \"colab_type\": \"code\",\n",
        "        \"colab\": {}\n",
        "      },\n",
        "      \"cell_type\": \"code\",\n",
        "      \"source\": [\n",
        "        \"# TODO\"\n",
        "      ],\n",
        "      \"execution_count\": 0,\n",
        "      \"outputs\": []\n",
        "    },\n",
        "    {\n",
        "      \"metadata\": {\n",
        "        \"id\": \"ZM8JckA2bgnp\",\n",
        "        \"colab_type\": \"text\"\n",
        "      },\n",
        "      \"cell_type\": \"markdown\",\n",
        "      \"source\": [\n",
        "        \"## Part 3 - Analysis and Interpretation\\n\",\n",
        "        \"\\n\",\n",
        "        \"Now that you've looked at the data, answer the following questions:\\n\",\n",
        "        \"\\n\",\n",
        "        \"- What is at least one feature that looks to have a positive correlation with survival?\\n\",\n",
        "        \"- What is at least one feature that looks to have a negative correlation with survival?\\n\",\n",
        "        \"- How are those two features related with each other, and what might that mean?\\n\",\n",
        "        \"\\n\",\n",
        "        \"Answer with text, but feel free to intersperse example code/results or refer to it from earlier.\"\n",
        "      ]\n",
        "    }\n",
        "  ]\n",
        "}"
      ],
      "execution_count": 0,
      "outputs": []
    },
    {
      "metadata": {
        "id": "nVJlbnz-R3iw",
        "colab_type": "code",
        "colab": {
          "base_uri": "https://localhost:8080/",
          "height": 204
        },
        "outputId": "aadb8475-f28e-4800-bf6c-0dfccd503dca"
      },
      "cell_type": "code",
      "source": [
        "import pandas as pd\n",
        "import numpy as np\n",
        "import matplotlib.pyplot as plt\n",
        "# http://archive.ics.uci.edu/ml/datasets/Haberman%27s+Survival\n",
        "\n",
        "df = pd.read_csv('http://archive.ics.uci.edu/ml/machine-learning-databases/haberman/haberman.data', header=None)\n",
        "age = df[0]\n",
        "pyear=df[1]\n",
        "pax=df[2]\n",
        "surv=df[3]\n",
        "#Had trouble renaming attributes coming back to this....\n",
        "#Also changing encoding from 1 & 2 to 0 & 1 \n",
        "\n",
        "df.head()"
      ],
      "execution_count": 29,
      "outputs": [
        {
          "output_type": "execute_result",
          "data": {
            "text/html": [
              "<div>\n",
              "<style scoped>\n",
              "    .dataframe tbody tr th:only-of-type {\n",
              "        vertical-align: middle;\n",
              "    }\n",
              "\n",
              "    .dataframe tbody tr th {\n",
              "        vertical-align: top;\n",
              "    }\n",
              "\n",
              "    .dataframe thead th {\n",
              "        text-align: right;\n",
              "    }\n",
              "</style>\n",
              "<table border=\"1\" class=\"dataframe\">\n",
              "  <thead>\n",
              "    <tr style=\"text-align: right;\">\n",
              "      <th></th>\n",
              "      <th>0</th>\n",
              "      <th>1</th>\n",
              "      <th>2</th>\n",
              "      <th>3</th>\n",
              "    </tr>\n",
              "  </thead>\n",
              "  <tbody>\n",
              "    <tr>\n",
              "      <th>0</th>\n",
              "      <td>30</td>\n",
              "      <td>64</td>\n",
              "      <td>1</td>\n",
              "      <td>1</td>\n",
              "    </tr>\n",
              "    <tr>\n",
              "      <th>1</th>\n",
              "      <td>30</td>\n",
              "      <td>62</td>\n",
              "      <td>3</td>\n",
              "      <td>1</td>\n",
              "    </tr>\n",
              "    <tr>\n",
              "      <th>2</th>\n",
              "      <td>30</td>\n",
              "      <td>65</td>\n",
              "      <td>0</td>\n",
              "      <td>1</td>\n",
              "    </tr>\n",
              "    <tr>\n",
              "      <th>3</th>\n",
              "      <td>31</td>\n",
              "      <td>59</td>\n",
              "      <td>2</td>\n",
              "      <td>1</td>\n",
              "    </tr>\n",
              "    <tr>\n",
              "      <th>4</th>\n",
              "      <td>31</td>\n",
              "      <td>65</td>\n",
              "      <td>4</td>\n",
              "      <td>1</td>\n",
              "    </tr>\n",
              "  </tbody>\n",
              "</table>\n",
              "</div>"
            ],
            "text/plain": [
              "    0   1  2  3\n",
              "0  30  64  1  1\n",
              "1  30  62  3  1\n",
              "2  30  65  0  1\n",
              "3  31  59  2  1\n",
              "4  31  65  4  1"
            ]
          },
          "metadata": {
            "tags": []
          },
          "execution_count": 29
        }
      ]
    },
    {
      "metadata": {
        "id": "RZJbq73iSA4o",
        "colab_type": "code",
        "colab": {
          "base_uri": "https://localhost:8080/",
          "height": 34
        },
        "outputId": "6ba46aae-bedd-4837-dfe5-7a8a763b17c1"
      },
      "cell_type": "code",
      "source": [
        "sum(df.isnull().values.ravel())"
      ],
      "execution_count": 9,
      "outputs": [
        {
          "output_type": "execute_result",
          "data": {
            "text/plain": [
              "0"
            ]
          },
          "metadata": {
            "tags": []
          },
          "execution_count": 9
        }
      ]
    },
    {
      "metadata": {
        "id": "V2uibl1jXANC",
        "colab_type": "code",
        "colab": {}
      },
      "cell_type": "code",
      "source": [
        "df.head(5)"
      ],
      "execution_count": 0,
      "outputs": []
    },
    {
      "metadata": {
        "id": "4-tqlLIsZPsk",
        "colab_type": "code",
        "colab": {
          "base_uri": "https://localhost:8080/",
          "height": 297
        },
        "outputId": "cb2aea56-5a31-42f9-9bff-95f32a5e5d04"
      },
      "cell_type": "code",
      "source": [
        "df.describe()"
      ],
      "execution_count": 32,
      "outputs": [
        {
          "output_type": "execute_result",
          "data": {
            "text/html": [
              "<div>\n",
              "<style scoped>\n",
              "    .dataframe tbody tr th:only-of-type {\n",
              "        vertical-align: middle;\n",
              "    }\n",
              "\n",
              "    .dataframe tbody tr th {\n",
              "        vertical-align: top;\n",
              "    }\n",
              "\n",
              "    .dataframe thead th {\n",
              "        text-align: right;\n",
              "    }\n",
              "</style>\n",
              "<table border=\"1\" class=\"dataframe\">\n",
              "  <thead>\n",
              "    <tr style=\"text-align: right;\">\n",
              "      <th></th>\n",
              "      <th>0</th>\n",
              "      <th>1</th>\n",
              "      <th>2</th>\n",
              "      <th>3</th>\n",
              "    </tr>\n",
              "  </thead>\n",
              "  <tbody>\n",
              "    <tr>\n",
              "      <th>count</th>\n",
              "      <td>306.000000</td>\n",
              "      <td>306.000000</td>\n",
              "      <td>306.000000</td>\n",
              "      <td>306.000000</td>\n",
              "    </tr>\n",
              "    <tr>\n",
              "      <th>mean</th>\n",
              "      <td>52.457516</td>\n",
              "      <td>62.852941</td>\n",
              "      <td>4.026144</td>\n",
              "      <td>1.264706</td>\n",
              "    </tr>\n",
              "    <tr>\n",
              "      <th>std</th>\n",
              "      <td>10.803452</td>\n",
              "      <td>3.249405</td>\n",
              "      <td>7.189654</td>\n",
              "      <td>0.441899</td>\n",
              "    </tr>\n",
              "    <tr>\n",
              "      <th>min</th>\n",
              "      <td>30.000000</td>\n",
              "      <td>58.000000</td>\n",
              "      <td>0.000000</td>\n",
              "      <td>1.000000</td>\n",
              "    </tr>\n",
              "    <tr>\n",
              "      <th>25%</th>\n",
              "      <td>44.000000</td>\n",
              "      <td>60.000000</td>\n",
              "      <td>0.000000</td>\n",
              "      <td>1.000000</td>\n",
              "    </tr>\n",
              "    <tr>\n",
              "      <th>50%</th>\n",
              "      <td>52.000000</td>\n",
              "      <td>63.000000</td>\n",
              "      <td>1.000000</td>\n",
              "      <td>1.000000</td>\n",
              "    </tr>\n",
              "    <tr>\n",
              "      <th>75%</th>\n",
              "      <td>60.750000</td>\n",
              "      <td>65.750000</td>\n",
              "      <td>4.000000</td>\n",
              "      <td>2.000000</td>\n",
              "    </tr>\n",
              "    <tr>\n",
              "      <th>max</th>\n",
              "      <td>83.000000</td>\n",
              "      <td>69.000000</td>\n",
              "      <td>52.000000</td>\n",
              "      <td>2.000000</td>\n",
              "    </tr>\n",
              "  </tbody>\n",
              "</table>\n",
              "</div>"
            ],
            "text/plain": [
              "                0           1           2           3\n",
              "count  306.000000  306.000000  306.000000  306.000000\n",
              "mean    52.457516   62.852941    4.026144    1.264706\n",
              "std     10.803452    3.249405    7.189654    0.441899\n",
              "min     30.000000   58.000000    0.000000    1.000000\n",
              "25%     44.000000   60.000000    0.000000    1.000000\n",
              "50%     52.000000   63.000000    1.000000    1.000000\n",
              "75%     60.750000   65.750000    4.000000    2.000000\n",
              "max     83.000000   69.000000   52.000000    2.000000"
            ]
          },
          "metadata": {
            "tags": []
          },
          "execution_count": 32
        }
      ]
    },
    {
      "metadata": {
        "id": "zmFQc9W7cVGh",
        "colab_type": "code",
        "colab": {
          "base_uri": "https://localhost:8080/",
          "height": 364
        },
        "outputId": "42fa85f0-27bc-44d1-ad57-cda14a56f7d9"
      },
      "cell_type": "code",
      "source": [
        "plt.bar(df[3], df[2])"
      ],
      "execution_count": 37,
      "outputs": [
        {
          "output_type": "execute_result",
          "data": {
            "text/plain": [
              "<Container object of 306 artists>"
            ]
          },
          "metadata": {
            "tags": []
          },
          "execution_count": 37
        },
        {
          "output_type": "display_data",
          "data": {
            "image/png": "[encoded data removed]",
            "text/plain": [
              "<matplotlib.figure.Figure at 0x7fbd011225c0>"
            ]
          },
          "metadata": {
            "tags": []
          }
        }
      ]
    },
    {
      "metadata": {
        "id": "vnOTLQ0BcVEK",
        "colab_type": "code",
        "colab": {
          "base_uri": "https://localhost:8080/",
          "height": 588
        },
        "outputId": "644c4a42-961d-4e8c-bbec-f8ed0ff02a36"
      },
      "cell_type": "code",
      "source": [
        "plt.hist2d(df[0], df[1], cmap='plasma')"
      ],
      "execution_count": 33,
      "outputs": [
        {
          "output_type": "execute_result",
          "data": {
            "text/plain": [
              "(array([[ 4.,  3.,  1.,  1.,  1.,  2.,  2.,  1.,  1.,  0.],\n",
              "        [ 7.,  6.,  0.,  1.,  4.,  1.,  1.,  3.,  2.,  2.],\n",
              "        [10.,  4.,  3.,  1.,  5.,  8.,  5.,  2.,  5.,  3.],\n",
              "        [11.,  2.,  7.,  6.,  7.,  5.,  4.,  6.,  3.,  2.],\n",
              "        [ 9.,  9.,  2.,  5.,  5.,  1.,  6.,  7.,  3.,  8.],\n",
              "        [ 7.,  2.,  6.,  4.,  2., 10.,  3.,  0.,  4.,  3.],\n",
              "        [10.,  1.,  7.,  3.,  3.,  3.,  3.,  7.,  2.,  2.],\n",
              "        [ 4.,  1.,  0.,  0.,  2.,  1.,  1.,  2.,  4.,  3.],\n",
              "        [ 0.,  0.,  0.,  2.,  1.,  0.,  2.,  0.,  1.,  1.],\n",
              "        [ 1.,  0.,  0.,  0.,  0.,  0.,  1.,  0.,  0.,  0.]]),\n",
              " array([30. , 35.3, 40.6, 45.9, 51.2, 56.5, 61.8, 67.1, 72.4, 77.7, 83. ]),\n",
              " array([58. , 59.1, 60.2, 61.3, 62.4, 63.5, 64.6, 65.7, 66.8, 67.9, 69. ]),\n",
              " <matplotlib.image.AxesImage at 0x7fbd01a1fb38>)"
            ]
          },
          "metadata": {
            "tags": []
          },
          "execution_count": 33
        },
        {
          "output_type": "display_data",
          "data": {
            "image/png": "[encoded data removed]",
            "text/plain": [
              "<matplotlib.figure.Figure at 0x7fbd01d6e438>"
            ]
          },
          "metadata": {
            "tags": []
          }
        }
      ]
    },
    {
      "metadata": {
        "id": "qXBCaqQEcVBl",
        "colab_type": "code",
        "colab": {
          "base_uri": "https://localhost:8080/",
          "height": 364
        },
        "outputId": "76c1da5f-5177-4959-edef-b821c9a4b484"
      },
      "cell_type": "code",
      "source": [
        "plt.scatter(df[0],df[1])"
      ],
      "execution_count": 38,
      "outputs": [
        {
          "output_type": "execute_result",
          "data": {
            "text/plain": [
              "<matplotlib.collections.PathCollection at 0x7fbd00db4438>"
            ]
          },
          "metadata": {
            "tags": []
          },
          "execution_count": 38
        },
        {
          "output_type": "display_data",
          "data": {
            "image/png": "[encoded data removed]",
            "text/plain": [
              "<matplotlib.figure.Figure at 0x7fbd01e21828>"
            ]
          },
          "metadata": {
            "tags": []
          }
        }
      ]
    },
    {
      "metadata": {
        "id": "XY16R58EcUoT",
        "colab_type": "code",
        "colab": {
          "base_uri": "https://localhost:8080/",
          "height": 364
        },
        "outputId": "a6214290-57ee-4405-9c53-4228a4203bba"
      },
      "cell_type": "code",
      "source": [
        "plt.scatter(df[1],df[2])"
      ],
      "execution_count": 41,
      "outputs": [
        {
          "output_type": "execute_result",
          "data": {
            "text/plain": [
              "<matplotlib.collections.PathCollection at 0x7fbd00c41208>"
            ]
          },
          "metadata": {
            "tags": []
          },
          "execution_count": 41
        },
        {
          "output_type": "display_data",
          "data": {
            "image/png": "[encoded data removed]",
            "text/plain": [
              "<matplotlib.figure.Figure at 0x7fbd00d3dcc0>"
            ]
          },
          "metadata": {
            "tags": []
          }
        }
      ]
    },
    {
      "metadata": {
        "id": "vyZYV-6rcUjC",
        "colab_type": "code",
        "colab": {
          "base_uri": "https://localhost:8080/",
          "height": 364
        },
        "outputId": "561f68e8-0168-4e62-cd80-79fb3dd1b2b4"
      },
      "cell_type": "code",
      "source": [
        "plt.scatter(df[0],df[3])"
      ],
      "execution_count": 42,
      "outputs": [
        {
          "output_type": "execute_result",
          "data": {
            "text/plain": [
              "<matplotlib.collections.PathCollection at 0x7fbd00c1e780>"
            ]
          },
          "metadata": {
            "tags": []
          },
          "execution_count": 42
        },
        {
          "output_type": "display_data",
          "data": {
            "image/png": "[encoded data removed]",
            "text/plain": [
              "<matplotlib.figure.Figure at 0x7fbd00c4fd68>"
            ]
          },
          "metadata": {
            "tags": []
          }
        }
      ]
    },
    {
      "metadata": {
        "id": "nwDq-i_ccUYb",
        "colab_type": "code",
        "colab": {
          "base_uri": "https://localhost:8080/",
          "height": 364
        },
        "outputId": "9f6cd00a-02d8-4116-b906-1605cef402dd"
      },
      "cell_type": "code",
      "source": [
        "plt.scatter(df[2],df[1])"
      ],
      "execution_count": 43,
      "outputs": [
        {
          "output_type": "execute_result",
          "data": {
            "text/plain": [
              "<matplotlib.collections.PathCollection at 0x7fbd00bf8d30>"
            ]
          },
          "metadata": {
            "tags": []
          },
          "execution_count": 43
        },
        {
          "output_type": "display_data",
          "data": {
            "image/png": "[encoded data removed]",
            "text/plain": [
              "<matplotlib.figure.Figure at 0x7fbd00c03470>"
            ]
          },
          "metadata": {
            "tags": []
          }
        }
      ]
    }
  ]
}