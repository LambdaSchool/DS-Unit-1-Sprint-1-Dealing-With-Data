{
  "nbformat": 4,
  "nbformat_minor": 0,
  "metadata": {
    "colab": {
      "name": "070919 Rotation Code Challange.ipynb",
      "version": "0.3.2",
      "provenance": [],
      "collapsed_sections": [],
      "include_colab_link": true
    },
    "kernelspec": {
      "name": "python3",
      "display_name": "Python 3"
    }
  },
  "cells": [
    {
      "cell_type": "markdown",
      "metadata": {
        "id": "view-in-github",
        "colab_type": "text"
      },
      "source": [
        "<a href=\"https://colab.research.google.com/github/deanhadzi/DS-Unit-1-Sprint-1-Dealing-With-Data/blob/master/Lambda%20Challenges%20/%20070919_Rotation_Code_Challange.ipynb\" target=\"_parent\"><img src=\"https://colab.research.google.com/assets/colab-badge.svg\" alt=\"Open In Colab\"/></a>"
      ]
    },
    {
      "cell_type": "code",
      "metadata": {
        "id": "QUTTjWQDaDIj",
        "colab_type": "code",
        "colab": {}
      },
      "source": [
        "words = ['supplant', 'undulate', 'xenon', 'asymptote', 'babushka', 'kart', 'other']\n",
        "\n",
        "def code_challenge(a_list):\n",
        "    answer = [i for i, n in enumerate(a_list) if 'a' in n[:1]]\n",
        "    return answer\n"
      ],
      "execution_count": 0,
      "outputs": []
    },
    {
      "cell_type": "code",
      "metadata": {
        "id": "7lWGjtnufC7E",
        "colab_type": "code",
        "outputId": "2fca7ce1-ed05-45f4-ed55-e9b20fbb476e",
        "colab": {
          "base_uri": "https://localhost:8080/",
          "height": 34
        }
      },
      "source": [
        "code_challenge(words)"
      ],
      "execution_count": 0,
      "outputs": [
        {
          "output_type": "execute_result",
          "data": {
            "text/plain": [
              "[3]"
            ]
          },
          "metadata": {
            "tags": []
          },
          "execution_count": 30
        }
      ]
    }
  ]
}