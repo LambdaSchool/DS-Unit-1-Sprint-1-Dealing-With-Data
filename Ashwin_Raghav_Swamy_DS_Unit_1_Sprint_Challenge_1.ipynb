{
  "nbformat": 4,
  "nbformat_minor": 0,
  "metadata": {
    "colab": {
      "name": "Ashwin Raghav Swamy DS_Unit_1_Sprint_Challenge_1.ipynb",
      "version": "0.3.2",
      "provenance": [],
      "collapsed_sections": [],
      "include_colab_link": true
    },
    "kernelspec": {
      "name": "python3",
      "display_name": "Python 3"
    }
  },
  "cells": [
    {
      "cell_type": "markdown",
      "metadata": {
        "id": "view-in-github",
        "colab_type": "text"
      },
      "source": [
        "<a href=\"https://colab.research.google.com/github/ash12hub/DS-Unit-1-Sprint-1-Dealing-With-Data/blob/master/Ashwin_Raghav_Swamy_DS_Unit_1_Sprint_Challenge_1.ipynb\" target=\"_parent\"><img src=\"https://colab.research.google.com/assets/colab-badge.svg\" alt=\"Open In Colab\"/></a>"
      ]
    },
    {
      "cell_type": "markdown",
      "metadata": {
        "id": "NooAiTdnafkz",
        "colab_type": "text"
      },
      "source": [
        "# Data Science Unit 1 Sprint Challenge 1\n",
        "\n",
        "## Loading, cleaning, visualizing, and analyzing data\n",
        "\n",
        "In this sprint challenge you will look at a dataset of the survival of patients who underwent surgery for breast cancer.\n",
        "\n",
        "http://archive.ics.uci.edu/ml/datasets/Haberman%27s+Survival\n",
        "\n",
        "Data Set Information:\n",
        "The dataset contains cases from a study that was conducted between 1958 and 1970 at the University of Chicago's Billings Hospital on the survival of patients who had undergone surgery for breast cancer.\n",
        "\n",
        "Attribute Information:\n",
        "1. Age of patient at time of operation (numerical)\n",
        "2. Patient's year of operation (year - 1900, numerical)\n",
        "3. Number of positive axillary nodes detected (numerical)\n",
        "4. Survival status (class attribute)\n",
        "-- 1 = the patient survived 5 years or longer\n",
        "-- 2 = the patient died within 5 year\n",
        "\n",
        "Sprint challenges are evaluated based on satisfactory completion of each part. It is suggested you work through it in order, getting each aspect reasonably working, before trying to deeply explore, iterate, or refine any given step. Once you get to the end, if you want to go back and improve things, go for it!"
      ]
    },
    {
      "cell_type": "markdown",
      "metadata": {
        "id": "5wch6ksCbJtZ",
        "colab_type": "text"
      },
      "source": [
        "## Part 1 - Load and validate the data\n",
        "\n",
        "- Load the data as a `pandas` data frame.\n",
        "- Validate that it has the appropriate number of observations (you can check the raw file, and also read the dataset description from UCI).\n",
        "- Validate that you have no missing values.\n",
        "- Add informative names to the features.\n",
        "- The survival variable is encoded as 1 for surviving >5 years and 2 for not - change this to be 0 for not surviving and 1 for surviving >5 years (0/1 is a more traditional encoding of binary variables)\n",
        "\n",
        "At the end, print the first five rows of the dataset to demonstrate the above."
      ]
    },
    {
      "cell_type": "code",
      "metadata": {
        "id": "gX9GlgBsY7Bb",
        "colab_type": "code",
        "colab": {}
      },
      "source": [
        "from google.colab import files\n",
        "\n",
        "files.upload()"
      ],
      "execution_count": 0,
      "outputs": []
    },
    {
      "cell_type": "code",
      "metadata": {
        "id": "287TpoGKFRVK",
        "colab_type": "code",
        "colab": {
          "base_uri": "https://localhost:8080/",
          "height": 1105
        },
        "outputId": "3cf0502d-3c11-4814-f407-0f01131a9ce0"
      },
      "source": [
        "# TODO\n",
        "import pandas as pd;\n",
        "\n",
        "headers=[\"Age of Patient\", \"Year of Operation\", \"Number of Nodes\", \"Survival Status\"];\n",
        "df = pd.read_csv(\"haberman.data\", names=headers)\n",
        "\n",
        "def changeValue(x_str):\n",
        "  if(int(x_str)==2):\n",
        "    return 0;\n",
        "  else:\n",
        "    return int(x_str);\n",
        "\n",
        "df['Survival Status'] = df['Survival Status'].apply(changeValue)\n",
        "\n",
        "print(df.head(-1));"
      ],
      "execution_count": 64,
      "outputs": [
        {
          "output_type": "stream",
          "text": [
            "     Age of Patient  Year of Operation  Number of Nodes  Survival Status\n",
            "0                30                 64                1                1\n",
            "1                30                 62                3                1\n",
            "2                30                 65                0                1\n",
            "3                31                 59                2                1\n",
            "4                31                 65                4                1\n",
            "5                33                 58               10                1\n",
            "6                33                 60                0                1\n",
            "7                34                 59                0                0\n",
            "8                34                 66                9                0\n",
            "9                34                 58               30                1\n",
            "10               34                 60                1                1\n",
            "11               34                 61               10                1\n",
            "12               34                 67                7                1\n",
            "13               34                 60                0                1\n",
            "14               35                 64               13                1\n",
            "15               35                 63                0                1\n",
            "16               36                 60                1                1\n",
            "17               36                 69                0                1\n",
            "18               37                 60                0                1\n",
            "19               37                 63                0                1\n",
            "20               37                 58                0                1\n",
            "21               37                 59                6                1\n",
            "22               37                 60               15                1\n",
            "23               37                 63                0                1\n",
            "24               38                 69               21                0\n",
            "25               38                 59                2                1\n",
            "26               38                 60                0                1\n",
            "27               38                 60                0                1\n",
            "28               38                 62                3                1\n",
            "29               38                 64                1                1\n",
            "..              ...                ...              ...              ...\n",
            "275              67                 66                0                1\n",
            "276              67                 66                0                1\n",
            "277              67                 61                0                1\n",
            "278              67                 65                0                1\n",
            "279              68                 67                0                1\n",
            "280              68                 68                0                1\n",
            "281              69                 67                8                0\n",
            "282              69                 60                0                1\n",
            "283              69                 65                0                1\n",
            "284              69                 66                0                1\n",
            "285              70                 58                0                0\n",
            "286              70                 58                4                0\n",
            "287              70                 66               14                1\n",
            "288              70                 67                0                1\n",
            "289              70                 68                0                1\n",
            "290              70                 59                8                1\n",
            "291              70                 63                0                1\n",
            "292              71                 68                2                1\n",
            "293              72                 63                0                0\n",
            "294              72                 58                0                1\n",
            "295              72                 64                0                1\n",
            "296              72                 67                3                1\n",
            "297              73                 62                0                1\n",
            "298              73                 68                0                1\n",
            "299              74                 65                3                0\n",
            "300              74                 63                0                1\n",
            "301              75                 62                1                1\n",
            "302              76                 67                0                1\n",
            "303              77                 65                3                1\n",
            "304              78                 65                1                0\n",
            "\n",
            "[305 rows x 4 columns]\n"
          ],
          "name": "stdout"
        }
      ]
    },
    {
      "cell_type": "markdown",
      "metadata": {
        "id": "G7rLytbrO38L",
        "colab_type": "text"
      },
      "source": [
        "## Part 2 - Examine the distribution and relationships of the features\n",
        "\n",
        "Explore the data - create at least *2* tables (can be summary statistics or crosstabulations) and *2* plots illustrating the nature of the data.\n",
        "\n",
        "This is open-ended, so to remind - first *complete* this task as a baseline, then go on to the remaining sections, and *then* as time allows revisit and explore further.\n",
        "\n",
        "Hint - you may need to bin some variables depending on your chosen tables/plots."
      ]
    },
    {
      "cell_type": "code",
      "metadata": {
        "id": "IAkllgCIFVj0",
        "colab_type": "code",
        "colab": {
          "base_uri": "https://localhost:8080/",
          "height": 980
        },
        "outputId": "872a4b21-72b3-4ec0-d899-e12daf960041"
      },
      "source": [
        "# TODO\n",
        "age_cut = pd.cut(df['Age of Patient'], 5)\n",
        "node_cut = pd.cut(df['Number of Nodes'], 5)\n",
        "print(pd.crosstab(df['Survival Status'], age_cut.astype(str), normalize=True))\n",
        "print(\"\\n\\n\\n\")\n",
        "print(pd.crosstab(df['Survival Status'], age_cut.astype(str)))\n",
        "\n",
        "import matplotlib.pyplot as plt;\n",
        "\n",
        "print(\"\\n\\n\")\n",
        "plt.bar(df['Year of Operation'], df['Number of Nodes'])\n",
        "plt.show();\n",
        "\n",
        "print(\"\\n\")\n",
        "plt.plot(df['Age of Patient'], df['Number of Nodes'])\n",
        "plt.show();"
      ],
      "execution_count": 127,
      "outputs": [
        {
          "output_type": "stream",
          "text": [
            "Age of Patient   (29.947, 40.6]  (40.6, 51.2]  (51.2, 61.8]  (61.8, 72.4]  \\\n",
            "Survival Status                                                             \n",
            "0                      0.013072      0.101307      0.088235      0.052288   \n",
            "1                      0.127451      0.222222      0.225490      0.140523   \n",
            "\n",
            "Age of Patient   (72.4, 83.0]  \n",
            "Survival Status                \n",
            "0                    0.009804  \n",
            "1                    0.019608  \n",
            "\n",
            "\n",
            "\n",
            "\n",
            "Age of Patient   (29.947, 40.6]  (40.6, 51.2]  (51.2, 61.8]  (61.8, 72.4]  \\\n",
            "Survival Status                                                             \n",
            "0                             4            31            27            16   \n",
            "1                            39            68            69            43   \n",
            "\n",
            "Age of Patient   (72.4, 83.0]  \n",
            "Survival Status                \n",
            "0                           3  \n",
            "1                           6  \n",
            "\n",
            "\n",
            "\n"
          ],
          "name": "stdout"
        },
        {
          "output_type": "display_data",
          "data": {
            "image/png": "[encoded data removed]",
            "text/plain": [
              "<Figure size 432x288 with 1 Axes>"
            ]
          },
          "metadata": {
            "tags": []
          }
        },
        {
          "output_type": "stream",
          "text": [
            "\n",
            "\n"
          ],
          "name": "stdout"
        },
        {
          "output_type": "display_data",
          "data": {
            "image/png": "[encoded data removed]",
            "text/plain": [
              "<Figure size 432x288 with 1 Axes>"
            ]
          },
          "metadata": {
            "tags": []
          }
        }
      ]
    },
    {
      "cell_type": "markdown",
      "metadata": {
        "id": "ZM8JckA2bgnp",
        "colab_type": "text"
      },
      "source": [
        "## Part 3 - Analysis and Interpretation\n",
        "\n",
        "Now that you've looked at the data, answer the following questions:\n",
        "\n",
        "- What is at least one feature that looks to have a positive relationship with survival?\n",
        "\n",
        "Year of Operation seems to have a positive relationship with survival. As the years increased, the number of people that did not survive gradually decreased which means there are higher chances for survival.\n",
        "\n",
        "<br />\n",
        "- What is at least one feature that looks to have a negative relationship with survival?\n",
        "\n",
        "The number of postive auxillary nodes seem to have a negative relationship with survival. Fewer nodes seem to have a much higher chance of survival than more nodes.\n",
        "\n",
        "<br />\n",
        "- How are those two features related with each other, and what might that mean?\n",
        "\n",
        "As years passed by, doctors became more experieced and better at performing the surgery, which led to increased survival chances in the later years.\n",
        "\n",
        "The total number of positve auxillary nodes used each year gradually decreased. This could mean that the doctors could create better success chances with fewer nodes than with more nodes.\n",
        "\n",
        "<br />\n",
        "Answer with text, but feel free to intersperse example code/results or refer to it from earlier."
      ]
    }
  ]
}