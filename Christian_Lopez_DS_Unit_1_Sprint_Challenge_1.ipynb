{
  "nbformat": 4,
  "nbformat_minor": 0,
  "metadata": {
    "colab": {
      "name": "Christian_Lopez_DS_Unit_1_Sprint_Challenge_1.ipynb",
      "version": "0.3.2",
      "provenance": [],
      "collapsed_sections": [],
      "include_colab_link": true
    },
    "kernelspec": {
      "name": "python3",
      "display_name": "Python 3"
    }
  },
  "cells": [
    {
      "cell_type": "markdown",
      "metadata": {
        "id": "view-in-github",
        "colab_type": "text"
      },
      "source": [
        "<a href=\"https://colab.research.google.com/github/timidsurgeon/DS-Unit-1-Sprint-1-Dealing-With-Data/blob/master/Christian_Lopez_DS_Unit_1_Sprint_Challenge_1.ipynb\" target=\"_parent\"><img src=\"https://colab.research.google.com/assets/colab-badge.svg\" alt=\"Open In Colab\"/></a>"
      ]
    },
    {
      "cell_type": "markdown",
      "metadata": {
        "id": "NooAiTdnafkz",
        "colab_type": "text"
      },
      "source": [
        "# Data Science Unit 1 Sprint Challenge 1\n",
        "\n",
        "## Loading, cleaning, visualizing, and analyzing data\n",
        "\n",
        "In this sprint challenge you will look at a dataset of the survival of patients who underwent surgery for breast cancer.\n",
        "\n",
        "http://archive.ics.uci.edu/ml/datasets/Haberman%27s+Survival\n",
        "\n",
        "Data Set Information:\n",
        "The dataset contains cases from a study that was conducted between 1958 and 1970 at the University of Chicago's Billings Hospital on the survival of patients who had undergone surgery for breast cancer.\n",
        "\n",
        "Attribute Information:\n",
        "1. Age of patient at time of operation (numerical)\n",
        "2. Patient's year of operation (year - 1900, numerical)\n",
        "3. Number of positive axillary nodes detected (numerical)\n",
        "4. Survival status (class attribute)\n",
        "-- 1 = the patient survived 5 years or longer\n",
        "-- 2 = the patient died within 5 year\n",
        "\n",
        "Sprint challenges are evaluated based on satisfactory completion of each part. It is suggested you work through it in order, getting each aspect reasonably working, before trying to deeply explore, iterate, or refine any given step. Once you get to the end, if you want to go back and improve things, go for it!"
      ]
    },
    {
      "cell_type": "markdown",
      "metadata": {
        "id": "5wch6ksCbJtZ",
        "colab_type": "text"
      },
      "source": [
        "## Part 1 - Load and validate the data\n",
        "\n",
        "- Load the data as a `pandas` data frame.\n",
        "- Validate that it has the appropriate number of observations (you can check the raw file, and also read the dataset description from UCI).\n",
        "- Validate that you have no missing values.\n",
        "- Add informative names to the features.\n",
        "- The survival variable is encoded as 1 for surviving >5 years and 2 for not - change this to be 0 for not surviving and 1 for surviving >5 years (0/1 is a more traditional encoding of binary variables)\n",
        "\n",
        "At the end, print the first five rows of the dataset to demonstrate the above."
      ]
    },
    {
      "cell_type": "markdown",
      "metadata": {
        "id": "dX_gjKzKnsRF",
        "colab_type": "text"
      },
      "source": [
        "### Importing modules"
      ]
    },
    {
      "cell_type": "code",
      "metadata": {
        "id": "287TpoGKFRVK",
        "colab_type": "code",
        "colab": {}
      },
      "source": [
        "import numpy as np \n",
        "import pandas as pd \n",
        "import matplotlib.pyplot as plt"
      ],
      "execution_count": 0,
      "outputs": []
    },
    {
      "cell_type": "markdown",
      "metadata": {
        "id": "qJ3lM6KGnzEX",
        "colab_type": "text"
      },
      "source": [
        "### Loading dataframe"
      ]
    },
    {
      "cell_type": "code",
      "metadata": {
        "id": "OlaJp-ZMKGsI",
        "colab_type": "code",
        "colab": {}
      },
      "source": [
        "cancer_data_url = 'http://archive.ics.uci.edu/ml/machine-learning-databases/haberman/haberman.data'"
      ],
      "execution_count": 0,
      "outputs": []
    },
    {
      "cell_type": "code",
      "metadata": {
        "id": "_rB5RYEfLWQZ",
        "colab_type": "code",
        "outputId": "a941a30a-7a56-4224-95d7-47dd3df8f30e",
        "colab": {
          "base_uri": "https://localhost:8080/",
          "height": 1000
        }
      },
      "source": [
        "!curl http://archive.ics.uci.edu/ml/machine-learning-databases/haberman/haberman.data"
      ],
      "execution_count": 3,
      "outputs": [
        {
          "output_type": "stream",
          "text": [
            "30,64,1,1\n",
            "30,62,3,1\n",
            "30,65,0,1\n",
            "31,59,2,1\n",
            "31,65,4,1\n",
            "33,58,10,1\n",
            "33,60,0,1\n",
            "34,59,0,2\n",
            "34,66,9,2\n",
            "34,58,30,1\n",
            "34,60,1,1\n",
            "34,61,10,1\n",
            "34,67,7,1\n",
            "34,60,0,1\n",
            "35,64,13,1\n",
            "35,63,0,1\n",
            "36,60,1,1\n",
            "36,69,0,1\n",
            "37,60,0,1\n",
            "37,63,0,1\n",
            "37,58,0,1\n",
            "37,59,6,1\n",
            "37,60,15,1\n",
            "37,63,0,1\n",
            "38,69,21,2\n",
            "38,59,2,1\n",
            "38,60,0,1\n",
            "38,60,0,1\n",
            "38,62,3,1\n",
            "38,64,1,1\n",
            "38,66,0,1\n",
            "38,66,11,1\n",
            "38,60,1,1\n",
            "38,67,5,1\n",
            "39,66,0,2\n",
            "39,63,0,1\n",
            "39,67,0,1\n",
            "39,58,0,1\n",
            "39,59,2,1\n",
            "39,63,4,1\n",
            "40,58,2,1\n",
            "40,58,0,1\n",
            "40,65,0,1\n",
            "41,60,23,2\n",
            "41,64,0,2\n",
            "41,67,0,2\n",
            "41,58,0,1\n",
            "41,59,8,1\n",
            "41,59,0,1\n",
            "41,64,0,1\n",
            "41,69,8,1\n",
            "41,65,0,1\n",
            "41,65,0,1\n",
            "42,69,1,2\n",
            "42,59,0,2\n",
            "42,58,0,1\n",
            "42,60,1,1\n",
            "42,59,2,1\n",
            "42,61,4,1\n",
            "42,62,20,1\n",
            "42,65,0,1\n",
            "42,63,1,1\n",
            "43,58,52,2\n",
            "43,59,2,2\n",
            "43,64,0,2\n",
            "43,64,0,2\n",
            "43,63,14,1\n",
            "43,64,2,1\n",
            "43,64,3,1\n",
            "43,60,0,1\n",
            "43,63,2,1\n",
            "43,65,0,1\n",
            "43,66,4,1\n",
            "44,64,6,2\n",
            "44,58,9,2\n",
            "44,63,19,2\n",
            "44,61,0,1\n",
            "44,63,1,1\n",
            "44,61,0,1\n",
            "44,67,16,1\n",
            "45,65,6,2\n",
            "45,66,0,2\n",
            "45,67,1,2\n",
            "45,60,0,1\n",
            "45,67,0,1\n",
            "45,59,14,1\n",
            "45,64,0,1\n",
            "45,68,0,1\n",
            "45,67,1,1\n",
            "46,58,2,2\n",
            "46,69,3,2\n",
            "46,62,5,2\n",
            "46,65,20,2\n",
            "46,62,0,1\n",
            "46,58,3,1\n",
            "46,63,0,1\n",
            "47,63,23,2\n",
            "47,62,0,2\n",
            "47,65,0,2\n",
            "47,61,0,1\n",
            "47,63,6,1\n",
            "47,66,0,1\n",
            "47,67,0,1\n",
            "47,58,3,1\n",
            "47,60,4,1\n",
            "47,68,4,1\n",
            "47,66,12,1\n",
            "48,58,11,2\n",
            "48,58,11,2\n",
            "48,67,7,2\n",
            "48,61,8,1\n",
            "48,62,2,1\n",
            "48,64,0,1\n",
            "48,66,0,1\n",
            "49,63,0,2\n",
            "49,64,10,2\n",
            "49,61,1,1\n",
            "49,62,0,1\n",
            "49,66,0,1\n",
            "49,60,1,1\n",
            "49,62,1,1\n",
            "49,63,3,1\n",
            "49,61,0,1\n",
            "49,67,1,1\n",
            "50,63,13,2\n",
            "50,64,0,2\n",
            "50,59,0,1\n",
            "50,61,6,1\n",
            "50,61,0,1\n",
            "50,63,1,1\n",
            "50,58,1,1\n",
            "50,59,2,1\n",
            "50,61,0,1\n",
            "50,64,0,1\n",
            "50,65,4,1\n",
            "50,66,1,1\n",
            "51,59,13,2\n",
            "51,59,3,2\n",
            "51,64,7,1\n",
            "51,59,1,1\n",
            "51,65,0,1\n",
            "51,66,1,1\n",
            "52,69,3,2\n",
            "52,59,2,2\n",
            "52,62,3,2\n",
            "52,66,4,2\n",
            "52,61,0,1\n",
            "52,63,4,1\n",
            "52,69,0,1\n",
            "52,60,4,1\n",
            "52,60,5,1\n",
            "52,62,0,1\n",
            "52,62,1,1\n",
            "52,64,0,1\n",
            "52,65,0,1\n",
            "52,68,0,1\n",
            "53,58,4,2\n",
            "53,65,1,2\n",
            "53,59,3,2\n",
            "53,60,9,2\n",
            "53,63,24,2\n",
            "53,65,12,2\n",
            "53,58,1,1\n",
            "53,60,1,1\n",
            "53,60,2,1\n",
            "53,61,1,1\n",
            "53,63,0,1\n",
            "54,60,11,2\n",
            "54,65,23,2\n",
            "54,65,5,2\n",
            "54,68,7,2\n",
            "54,59,7,1\n",
            "54,60,3,1\n",
            "54,66,0,1\n",
            "54,67,46,1\n",
            "54,62,0,1\n",
            "54,69,7,1\n",
            "54,63,19,1\n",
            "54,58,1,1\n",
            "54,62,0,1\n",
            "55,63,6,2\n",
            "55,68,15,2\n",
            "55,58,1,1\n",
            "55,58,0,1\n",
            "55,58,1,1\n",
            "55,66,18,1\n",
            "55,66,0,1\n",
            "55,69,3,1\n",
            "55,69,22,1\n",
            "55,67,1,1\n",
            "56,65,9,2\n",
            "56,66,3,2\n",
            "56,60,0,1\n",
            "56,66,2,1\n",
            "56,66,1,1\n",
            "56,67,0,1\n",
            "56,60,0,1\n",
            "57,61,5,2\n",
            "57,62,14,2\n",
            "57,64,1,2\n",
            "57,64,9,1\n",
            "57,69,0,1\n",
            "57,61,0,1\n",
            "57,62,0,1\n",
            "57,63,0,1\n",
            "57,64,0,1\n",
            "57,64,0,1\n",
            "57,67,0,1\n",
            "58,59,0,1\n",
            "58,60,3,1\n",
            "58,61,1,1\n",
            "58,67,0,1\n",
            "58,58,0,1\n",
            "58,58,3,1\n",
            "58,61,2,1\n",
            "59,62,35,2\n",
            "59,60,0,1\n",
            "59,63,0,1\n",
            "59,64,1,1\n",
            "59,64,4,1\n",
            "59,64,0,1\n",
            "59,64,7,1\n",
            "59,67,3,1\n",
            "60,59,17,2\n",
            "60,65,0,2\n",
            "60,61,1,1\n",
            "60,67,2,1\n",
            "60,61,25,1\n",
            "60,64,0,1\n",
            "61,62,5,2\n",
            "61,65,0,2\n",
            "61,68,1,2\n",
            "61,59,0,1\n",
            "61,59,0,1\n",
            "61,64,0,1\n",
            "61,65,8,1\n",
            "61,68,0,1\n",
            "61,59,0,1\n",
            "62,59,13,2\n",
            "62,58,0,2\n",
            "62,65,19,2\n",
            "62,62,6,1\n",
            "62,66,0,1\n",
            "62,66,0,1\n",
            "62,58,0,1\n",
            "63,60,1,2\n",
            "63,61,0,1\n",
            "63,62,0,1\n",
            "63,63,0,1\n",
            "63,63,0,1\n",
            "63,66,0,1\n",
            "63,61,9,1\n",
            "63,61,28,1\n",
            "64,58,0,1\n",
            "64,65,22,1\n",
            "64,66,0,1\n",
            "64,61,0,1\n",
            "64,68,0,1\n",
            "65,58,0,2\n",
            "65,61,2,2\n",
            "65,62,22,2\n",
            "65,66,15,2\n",
            "65,58,0,1\n",
            "65,64,0,1\n",
            "65,67,0,1\n",
            "65,59,2,1\n",
            "65,64,0,1\n",
            "65,67,1,1\n",
            "66,58,0,2\n",
            "66,61,13,2\n",
            "66,58,0,1\n",
            "66,58,1,1\n",
            "66,68,0,1\n",
            "67,64,8,2\n",
            "67,63,1,2\n",
            "67,66,0,1\n",
            "67,66,0,1\n",
            "67,61,0,1\n",
            "67,65,0,1\n",
            "68,67,0,1\n",
            "68,68,0,1\n",
            "69,67,8,2\n",
            "69,60,0,1\n",
            "69,65,0,1\n",
            "69,66,0,1\n",
            "70,58,0,2\n",
            "70,58,4,2\n",
            "70,66,14,1\n",
            "70,67,0,1\n",
            "70,68,0,1\n",
            "70,59,8,1\n",
            "70,63,0,1\n",
            "71,68,2,1\n",
            "72,63,0,2\n",
            "72,58,0,1\n",
            "72,64,0,1\n",
            "72,67,3,1\n",
            "73,62,0,1\n",
            "73,68,0,1\n",
            "74,65,3,2\n",
            "74,63,0,1\n",
            "75,62,1,1\n",
            "76,67,0,1\n",
            "77,65,3,1\n",
            "78,65,1,2\n",
            "83,58,2,2\n"
          ],
          "name": "stdout"
        }
      ]
    },
    {
      "cell_type": "code",
      "metadata": {
        "id": "CIDdKXgVL0YA",
        "colab_type": "code",
        "outputId": "20df4f06-5f87-4a36-c579-ea04815d6e48",
        "colab": {
          "base_uri": "https://localhost:8080/",
          "height": 221
        }
      },
      "source": [
        "df = pd.read_csv(cancer_data_url)\n",
        "print(df.shape)\n",
        "df.head()"
      ],
      "execution_count": 4,
      "outputs": [
        {
          "output_type": "stream",
          "text": [
            "(305, 4)\n"
          ],
          "name": "stdout"
        },
        {
          "output_type": "execute_result",
          "data": {
            "text/html": [
              "<div>\n",
              "<style scoped>\n",
              "    .dataframe tbody tr th:only-of-type {\n",
              "        vertical-align: middle;\n",
              "    }\n",
              "\n",
              "    .dataframe tbody tr th {\n",
              "        vertical-align: top;\n",
              "    }\n",
              "\n",
              "    .dataframe thead th {\n",
              "        text-align: right;\n",
              "    }\n",
              "</style>\n",
              "<table border=\"1\" class=\"dataframe\">\n",
              "  <thead>\n",
              "    <tr style=\"text-align: right;\">\n",
              "      <th></th>\n",
              "      <th>30</th>\n",
              "      <th>64</th>\n",
              "      <th>1</th>\n",
              "      <th>1.1</th>\n",
              "    </tr>\n",
              "  </thead>\n",
              "  <tbody>\n",
              "    <tr>\n",
              "      <th>0</th>\n",
              "      <td>30</td>\n",
              "      <td>62</td>\n",
              "      <td>3</td>\n",
              "      <td>1</td>\n",
              "    </tr>\n",
              "    <tr>\n",
              "      <th>1</th>\n",
              "      <td>30</td>\n",
              "      <td>65</td>\n",
              "      <td>0</td>\n",
              "      <td>1</td>\n",
              "    </tr>\n",
              "    <tr>\n",
              "      <th>2</th>\n",
              "      <td>31</td>\n",
              "      <td>59</td>\n",
              "      <td>2</td>\n",
              "      <td>1</td>\n",
              "    </tr>\n",
              "    <tr>\n",
              "      <th>3</th>\n",
              "      <td>31</td>\n",
              "      <td>65</td>\n",
              "      <td>4</td>\n",
              "      <td>1</td>\n",
              "    </tr>\n",
              "    <tr>\n",
              "      <th>4</th>\n",
              "      <td>33</td>\n",
              "      <td>58</td>\n",
              "      <td>10</td>\n",
              "      <td>1</td>\n",
              "    </tr>\n",
              "  </tbody>\n",
              "</table>\n",
              "</div>"
            ],
            "text/plain": [
              "   30  64   1  1.1\n",
              "0  30  62   3    1\n",
              "1  30  65   0    1\n",
              "2  31  59   2    1\n",
              "3  31  65   4    1\n",
              "4  33  58  10    1"
            ]
          },
          "metadata": {
            "tags": []
          },
          "execution_count": 4
        }
      ]
    },
    {
      "cell_type": "code",
      "metadata": {
        "id": "r3a8Ra7pMUI8",
        "colab_type": "code",
        "outputId": "05142e94-7527-49d0-ce23-dec6352c7b18",
        "colab": {
          "base_uri": "https://localhost:8080/",
          "height": 102
        }
      },
      "source": [
        "df.count()"
      ],
      "execution_count": 5,
      "outputs": [
        {
          "output_type": "execute_result",
          "data": {
            "text/plain": [
              "30     305\n",
              "64     305\n",
              "1      305\n",
              "1.1    305\n",
              "dtype: int64"
            ]
          },
          "metadata": {
            "tags": []
          },
          "execution_count": 5
        }
      ]
    },
    {
      "cell_type": "code",
      "metadata": {
        "id": "eGqvWrz9MoZ9",
        "colab_type": "code",
        "outputId": "f8674cf9-ca43-4029-fc52-a64f3374fe6e",
        "colab": {
          "base_uri": "https://localhost:8080/",
          "height": 221
        }
      },
      "source": [
        "df = pd.read_csv(cancer_data_url, header=None)\n",
        "print(df.shape)\n",
        "df.head()"
      ],
      "execution_count": 6,
      "outputs": [
        {
          "output_type": "stream",
          "text": [
            "(306, 4)\n"
          ],
          "name": "stdout"
        },
        {
          "output_type": "execute_result",
          "data": {
            "text/html": [
              "<div>\n",
              "<style scoped>\n",
              "    .dataframe tbody tr th:only-of-type {\n",
              "        vertical-align: middle;\n",
              "    }\n",
              "\n",
              "    .dataframe tbody tr th {\n",
              "        vertical-align: top;\n",
              "    }\n",
              "\n",
              "    .dataframe thead th {\n",
              "        text-align: right;\n",
              "    }\n",
              "</style>\n",
              "<table border=\"1\" class=\"dataframe\">\n",
              "  <thead>\n",
              "    <tr style=\"text-align: right;\">\n",
              "      <th></th>\n",
              "      <th>0</th>\n",
              "      <th>1</th>\n",
              "      <th>2</th>\n",
              "      <th>3</th>\n",
              "    </tr>\n",
              "  </thead>\n",
              "  <tbody>\n",
              "    <tr>\n",
              "      <th>0</th>\n",
              "      <td>30</td>\n",
              "      <td>64</td>\n",
              "      <td>1</td>\n",
              "      <td>1</td>\n",
              "    </tr>\n",
              "    <tr>\n",
              "      <th>1</th>\n",
              "      <td>30</td>\n",
              "      <td>62</td>\n",
              "      <td>3</td>\n",
              "      <td>1</td>\n",
              "    </tr>\n",
              "    <tr>\n",
              "      <th>2</th>\n",
              "      <td>30</td>\n",
              "      <td>65</td>\n",
              "      <td>0</td>\n",
              "      <td>1</td>\n",
              "    </tr>\n",
              "    <tr>\n",
              "      <th>3</th>\n",
              "      <td>31</td>\n",
              "      <td>59</td>\n",
              "      <td>2</td>\n",
              "      <td>1</td>\n",
              "    </tr>\n",
              "    <tr>\n",
              "      <th>4</th>\n",
              "      <td>31</td>\n",
              "      <td>65</td>\n",
              "      <td>4</td>\n",
              "      <td>1</td>\n",
              "    </tr>\n",
              "  </tbody>\n",
              "</table>\n",
              "</div>"
            ],
            "text/plain": [
              "    0   1  2  3\n",
              "0  30  64  1  1\n",
              "1  30  62  3  1\n",
              "2  30  65  0  1\n",
              "3  31  59  2  1\n",
              "4  31  65  4  1"
            ]
          },
          "metadata": {
            "tags": []
          },
          "execution_count": 6
        }
      ]
    },
    {
      "cell_type": "markdown",
      "metadata": {
        "id": "enVGJKTno5nV",
        "colab_type": "text"
      },
      "source": [
        "### Looking for NaN values"
      ]
    },
    {
      "cell_type": "code",
      "metadata": {
        "id": "DfYLgBKXNZBx",
        "colab_type": "code",
        "outputId": "6a9b7956-cd85-4884-c7a0-7ac7e263e9fb",
        "colab": {
          "base_uri": "https://localhost:8080/",
          "height": 102
        }
      },
      "source": [
        "df.isna().sum()"
      ],
      "execution_count": 7,
      "outputs": [
        {
          "output_type": "execute_result",
          "data": {
            "text/plain": [
              "0    0\n",
              "1    0\n",
              "2    0\n",
              "3    0\n",
              "dtype: int64"
            ]
          },
          "metadata": {
            "tags": []
          },
          "execution_count": 7
        }
      ]
    },
    {
      "cell_type": "code",
      "metadata": {
        "id": "kuMge9HROXt7",
        "colab_type": "code",
        "outputId": "e4501b3d-2d0b-438e-c59e-69e3311654a1",
        "colab": {
          "base_uri": "https://localhost:8080/",
          "height": 170
        }
      },
      "source": [
        "df.info()"
      ],
      "execution_count": 8,
      "outputs": [
        {
          "output_type": "stream",
          "text": [
            "<class 'pandas.core.frame.DataFrame'>\n",
            "RangeIndex: 306 entries, 0 to 305\n",
            "Data columns (total 4 columns):\n",
            "0    306 non-null int64\n",
            "1    306 non-null int64\n",
            "2    306 non-null int64\n",
            "3    306 non-null int64\n",
            "dtypes: int64(4)\n",
            "memory usage: 9.6 KB\n"
          ],
          "name": "stdout"
        }
      ]
    },
    {
      "cell_type": "markdown",
      "metadata": {
        "id": "lUppVKlepBPS",
        "colab_type": "text"
      },
      "source": [
        "### Renaming dataframe columns"
      ]
    },
    {
      "cell_type": "code",
      "metadata": {
        "id": "vQwCR5_rOnMg",
        "colab_type": "code",
        "outputId": "d8ba0428-0eb5-4fb2-e576-6c40544a18b5",
        "colab": {
          "base_uri": "https://localhost:8080/",
          "height": 669
        }
      },
      "source": [
        "col_headers = ['age_patient', 'year_op', 'ax_nodes', 'survived']\n",
        "df = pd.read_csv(cancer_data_url, header=None, names=col_headers)\n",
        "df.head(20)"
      ],
      "execution_count": 9,
      "outputs": [
        {
          "output_type": "execute_result",
          "data": {
            "text/html": [
              "<div>\n",
              "<style scoped>\n",
              "    .dataframe tbody tr th:only-of-type {\n",
              "        vertical-align: middle;\n",
              "    }\n",
              "\n",
              "    .dataframe tbody tr th {\n",
              "        vertical-align: top;\n",
              "    }\n",
              "\n",
              "    .dataframe thead th {\n",
              "        text-align: right;\n",
              "    }\n",
              "</style>\n",
              "<table border=\"1\" class=\"dataframe\">\n",
              "  <thead>\n",
              "    <tr style=\"text-align: right;\">\n",
              "      <th></th>\n",
              "      <th>age_patient</th>\n",
              "      <th>year_op</th>\n",
              "      <th>ax_nodes</th>\n",
              "      <th>survived</th>\n",
              "    </tr>\n",
              "  </thead>\n",
              "  <tbody>\n",
              "    <tr>\n",
              "      <th>0</th>\n",
              "      <td>30</td>\n",
              "      <td>64</td>\n",
              "      <td>1</td>\n",
              "      <td>1</td>\n",
              "    </tr>\n",
              "    <tr>\n",
              "      <th>1</th>\n",
              "      <td>30</td>\n",
              "      <td>62</td>\n",
              "      <td>3</td>\n",
              "      <td>1</td>\n",
              "    </tr>\n",
              "    <tr>\n",
              "      <th>2</th>\n",
              "      <td>30</td>\n",
              "      <td>65</td>\n",
              "      <td>0</td>\n",
              "      <td>1</td>\n",
              "    </tr>\n",
              "    <tr>\n",
              "      <th>3</th>\n",
              "      <td>31</td>\n",
              "      <td>59</td>\n",
              "      <td>2</td>\n",
              "      <td>1</td>\n",
              "    </tr>\n",
              "    <tr>\n",
              "      <th>4</th>\n",
              "      <td>31</td>\n",
              "      <td>65</td>\n",
              "      <td>4</td>\n",
              "      <td>1</td>\n",
              "    </tr>\n",
              "    <tr>\n",
              "      <th>5</th>\n",
              "      <td>33</td>\n",
              "      <td>58</td>\n",
              "      <td>10</td>\n",
              "      <td>1</td>\n",
              "    </tr>\n",
              "    <tr>\n",
              "      <th>6</th>\n",
              "      <td>33</td>\n",
              "      <td>60</td>\n",
              "      <td>0</td>\n",
              "      <td>1</td>\n",
              "    </tr>\n",
              "    <tr>\n",
              "      <th>7</th>\n",
              "      <td>34</td>\n",
              "      <td>59</td>\n",
              "      <td>0</td>\n",
              "      <td>2</td>\n",
              "    </tr>\n",
              "    <tr>\n",
              "      <th>8</th>\n",
              "      <td>34</td>\n",
              "      <td>66</td>\n",
              "      <td>9</td>\n",
              "      <td>2</td>\n",
              "    </tr>\n",
              "    <tr>\n",
              "      <th>9</th>\n",
              "      <td>34</td>\n",
              "      <td>58</td>\n",
              "      <td>30</td>\n",
              "      <td>1</td>\n",
              "    </tr>\n",
              "    <tr>\n",
              "      <th>10</th>\n",
              "      <td>34</td>\n",
              "      <td>60</td>\n",
              "      <td>1</td>\n",
              "      <td>1</td>\n",
              "    </tr>\n",
              "    <tr>\n",
              "      <th>11</th>\n",
              "      <td>34</td>\n",
              "      <td>61</td>\n",
              "      <td>10</td>\n",
              "      <td>1</td>\n",
              "    </tr>\n",
              "    <tr>\n",
              "      <th>12</th>\n",
              "      <td>34</td>\n",
              "      <td>67</td>\n",
              "      <td>7</td>\n",
              "      <td>1</td>\n",
              "    </tr>\n",
              "    <tr>\n",
              "      <th>13</th>\n",
              "      <td>34</td>\n",
              "      <td>60</td>\n",
              "      <td>0</td>\n",
              "      <td>1</td>\n",
              "    </tr>\n",
              "    <tr>\n",
              "      <th>14</th>\n",
              "      <td>35</td>\n",
              "      <td>64</td>\n",
              "      <td>13</td>\n",
              "      <td>1</td>\n",
              "    </tr>\n",
              "    <tr>\n",
              "      <th>15</th>\n",
              "      <td>35</td>\n",
              "      <td>63</td>\n",
              "      <td>0</td>\n",
              "      <td>1</td>\n",
              "    </tr>\n",
              "    <tr>\n",
              "      <th>16</th>\n",
              "      <td>36</td>\n",
              "      <td>60</td>\n",
              "      <td>1</td>\n",
              "      <td>1</td>\n",
              "    </tr>\n",
              "    <tr>\n",
              "      <th>17</th>\n",
              "      <td>36</td>\n",
              "      <td>69</td>\n",
              "      <td>0</td>\n",
              "      <td>1</td>\n",
              "    </tr>\n",
              "    <tr>\n",
              "      <th>18</th>\n",
              "      <td>37</td>\n",
              "      <td>60</td>\n",
              "      <td>0</td>\n",
              "      <td>1</td>\n",
              "    </tr>\n",
              "    <tr>\n",
              "      <th>19</th>\n",
              "      <td>37</td>\n",
              "      <td>63</td>\n",
              "      <td>0</td>\n",
              "      <td>1</td>\n",
              "    </tr>\n",
              "  </tbody>\n",
              "</table>\n",
              "</div>"
            ],
            "text/plain": [
              "    age_patient  year_op  ax_nodes  survived\n",
              "0            30       64         1         1\n",
              "1            30       62         3         1\n",
              "2            30       65         0         1\n",
              "3            31       59         2         1\n",
              "4            31       65         4         1\n",
              "5            33       58        10         1\n",
              "6            33       60         0         1\n",
              "7            34       59         0         2\n",
              "8            34       66         9         2\n",
              "9            34       58        30         1\n",
              "10           34       60         1         1\n",
              "11           34       61        10         1\n",
              "12           34       67         7         1\n",
              "13           34       60         0         1\n",
              "14           35       64        13         1\n",
              "15           35       63         0         1\n",
              "16           36       60         1         1\n",
              "17           36       69         0         1\n",
              "18           37       60         0         1\n",
              "19           37       63         0         1"
            ]
          },
          "metadata": {
            "tags": []
          },
          "execution_count": 9
        }
      ]
    },
    {
      "cell_type": "markdown",
      "metadata": {
        "id": "gvf5BJByu8XW",
        "colab_type": "text"
      },
      "source": [
        "### Encoding survival column"
      ]
    },
    {
      "cell_type": "code",
      "metadata": {
        "id": "ST1MXqsKuFTX",
        "colab_type": "code",
        "colab": {}
      },
      "source": [
        "df['survived'] = df['survived'].map({1:1, 2:0})"
      ],
      "execution_count": 0,
      "outputs": []
    },
    {
      "cell_type": "code",
      "metadata": {
        "id": "Paj7yRlxunzp",
        "colab_type": "code",
        "colab": {
          "base_uri": "https://localhost:8080/",
          "height": 68
        },
        "outputId": "48ca90f0-eb9f-417d-bb40-4b3c582a4578"
      },
      "source": [
        "df.survived.value_counts()"
      ],
      "execution_count": 13,
      "outputs": [
        {
          "output_type": "execute_result",
          "data": {
            "text/plain": [
              "1    225\n",
              "0     81\n",
              "Name: survived, dtype: int64"
            ]
          },
          "metadata": {
            "tags": []
          },
          "execution_count": 13
        }
      ]
    },
    {
      "cell_type": "markdown",
      "metadata": {
        "id": "heH2JTj2pGc2",
        "colab_type": "text"
      },
      "source": [
        "### Dataframe header(5)"
      ]
    },
    {
      "cell_type": "code",
      "metadata": {
        "id": "zU2CvtQHPZRP",
        "colab_type": "code",
        "outputId": "36229a42-18f2-45e9-e92a-64460f9796d8",
        "colab": {
          "base_uri": "https://localhost:8080/",
          "height": 119
        }
      },
      "source": [
        "print(df.head(5))"
      ],
      "execution_count": 11,
      "outputs": [
        {
          "output_type": "stream",
          "text": [
            "   age_patient  year_op  ax_nodes  survived\n",
            "0           30       64         1         1\n",
            "1           30       62         3         1\n",
            "2           30       65         0         1\n",
            "3           31       59         2         1\n",
            "4           31       65         4         1\n"
          ],
          "name": "stdout"
        }
      ]
    },
    {
      "cell_type": "markdown",
      "metadata": {
        "id": "G7rLytbrO38L",
        "colab_type": "text"
      },
      "source": [
        "## Part 2 - Examine the distribution and relationships of the features\n",
        "\n",
        "Explore the data - create at least *2* tables (can be summary statistics or crosstabulations) and *2* plots illustrating the nature of the data.\n",
        "\n",
        "This is open-ended, so to remind - first *complete* this task as a baseline, then go on to the remaining sections, and *then* as time allows revisit and explore further.\n",
        "\n",
        "Hint - you may need to bin some variables depending on your chosen tables/plots."
      ]
    },
    {
      "cell_type": "markdown",
      "metadata": {
        "id": "aNxrKFMx0Hsl",
        "colab_type": "text"
      },
      "source": [
        "#### year_op vs. survived"
      ]
    },
    {
      "cell_type": "code",
      "metadata": {
        "id": "XK7cmsG1wdun",
        "colab_type": "code",
        "colab": {
          "base_uri": "https://localhost:8080/",
          "height": 173
        },
        "outputId": "33108037-66ca-45a8-ac54-0726822d392b"
      },
      "source": [
        "time_bins = pd.cut(df['year_op'], 3)\n",
        "pd.crosstab(time_bins, df['survived'])"
      ],
      "execution_count": 32,
      "outputs": [
        {
          "output_type": "execute_result",
          "data": {
            "text/html": [
              "<div>\n",
              "<style scoped>\n",
              "    .dataframe tbody tr th:only-of-type {\n",
              "        vertical-align: middle;\n",
              "    }\n",
              "\n",
              "    .dataframe tbody tr th {\n",
              "        vertical-align: top;\n",
              "    }\n",
              "\n",
              "    .dataframe thead th {\n",
              "        text-align: right;\n",
              "    }\n",
              "</style>\n",
              "<table border=\"1\" class=\"dataframe\">\n",
              "  <thead>\n",
              "    <tr style=\"text-align: right;\">\n",
              "      <th>survived</th>\n",
              "      <th>0</th>\n",
              "      <th>1</th>\n",
              "    </tr>\n",
              "    <tr>\n",
              "      <th>year_op</th>\n",
              "      <th></th>\n",
              "      <th></th>\n",
              "    </tr>\n",
              "  </thead>\n",
              "  <tbody>\n",
              "    <tr>\n",
              "      <th>(57.989, 61.667]</th>\n",
              "      <td>28</td>\n",
              "      <td>89</td>\n",
              "    </tr>\n",
              "    <tr>\n",
              "      <th>(61.667, 65.333]</th>\n",
              "      <td>36</td>\n",
              "      <td>76</td>\n",
              "    </tr>\n",
              "    <tr>\n",
              "      <th>(65.333, 69.0]</th>\n",
              "      <td>17</td>\n",
              "      <td>60</td>\n",
              "    </tr>\n",
              "  </tbody>\n",
              "</table>\n",
              "</div>"
            ],
            "text/plain": [
              "survived           0   1\n",
              "year_op                 \n",
              "(57.989, 61.667]  28  89\n",
              "(61.667, 65.333]  36  76\n",
              "(65.333, 69.0]    17  60"
            ]
          },
          "metadata": {
            "tags": []
          },
          "execution_count": 32
        }
      ]
    },
    {
      "cell_type": "code",
      "metadata": {
        "id": "mVhPUgFxwd3W",
        "colab_type": "code",
        "colab": {
          "base_uri": "https://localhost:8080/",
          "height": 173
        },
        "outputId": "475667de-f640-40f4-dfb3-014a1d51367d"
      },
      "source": [
        "# percentages column-wise \n",
        "time_bins = pd.cut(df['year_op'], 3)\n",
        "pd.crosstab(time_bins, df['survived'], normalize='columns')"
      ],
      "execution_count": 31,
      "outputs": [
        {
          "output_type": "execute_result",
          "data": {
            "text/html": [
              "<div>\n",
              "<style scoped>\n",
              "    .dataframe tbody tr th:only-of-type {\n",
              "        vertical-align: middle;\n",
              "    }\n",
              "\n",
              "    .dataframe tbody tr th {\n",
              "        vertical-align: top;\n",
              "    }\n",
              "\n",
              "    .dataframe thead th {\n",
              "        text-align: right;\n",
              "    }\n",
              "</style>\n",
              "<table border=\"1\" class=\"dataframe\">\n",
              "  <thead>\n",
              "    <tr style=\"text-align: right;\">\n",
              "      <th>survived</th>\n",
              "      <th>0</th>\n",
              "      <th>1</th>\n",
              "    </tr>\n",
              "    <tr>\n",
              "      <th>year_op</th>\n",
              "      <th></th>\n",
              "      <th></th>\n",
              "    </tr>\n",
              "  </thead>\n",
              "  <tbody>\n",
              "    <tr>\n",
              "      <th>(57.989, 61.667]</th>\n",
              "      <td>0.345679</td>\n",
              "      <td>0.395556</td>\n",
              "    </tr>\n",
              "    <tr>\n",
              "      <th>(61.667, 65.333]</th>\n",
              "      <td>0.444444</td>\n",
              "      <td>0.337778</td>\n",
              "    </tr>\n",
              "    <tr>\n",
              "      <th>(65.333, 69.0]</th>\n",
              "      <td>0.209877</td>\n",
              "      <td>0.266667</td>\n",
              "    </tr>\n",
              "  </tbody>\n",
              "</table>\n",
              "</div>"
            ],
            "text/plain": [
              "survived                 0         1\n",
              "year_op                             \n",
              "(57.989, 61.667]  0.345679  0.395556\n",
              "(61.667, 65.333]  0.444444  0.337778\n",
              "(65.333, 69.0]    0.209877  0.266667"
            ]
          },
          "metadata": {
            "tags": []
          },
          "execution_count": 31
        }
      ]
    },
    {
      "cell_type": "code",
      "metadata": {
        "id": "L1I4uA4UxusX",
        "colab_type": "code",
        "colab": {
          "base_uri": "https://localhost:8080/",
          "height": 173
        },
        "outputId": "6e7c83d1-9584-4ae8-bd25-a0ce384af525"
      },
      "source": [
        "# percentages row-wise\n",
        "time_bins = pd.cut(df['year_op'], 3)\n",
        "pd.crosstab(time_bins, df['survived'], normalize='index')"
      ],
      "execution_count": 30,
      "outputs": [
        {
          "output_type": "execute_result",
          "data": {
            "text/html": [
              "<div>\n",
              "<style scoped>\n",
              "    .dataframe tbody tr th:only-of-type {\n",
              "        vertical-align: middle;\n",
              "    }\n",
              "\n",
              "    .dataframe tbody tr th {\n",
              "        vertical-align: top;\n",
              "    }\n",
              "\n",
              "    .dataframe thead th {\n",
              "        text-align: right;\n",
              "    }\n",
              "</style>\n",
              "<table border=\"1\" class=\"dataframe\">\n",
              "  <thead>\n",
              "    <tr style=\"text-align: right;\">\n",
              "      <th>survived</th>\n",
              "      <th>0</th>\n",
              "      <th>1</th>\n",
              "    </tr>\n",
              "    <tr>\n",
              "      <th>year_op</th>\n",
              "      <th></th>\n",
              "      <th></th>\n",
              "    </tr>\n",
              "  </thead>\n",
              "  <tbody>\n",
              "    <tr>\n",
              "      <th>(57.989, 61.667]</th>\n",
              "      <td>0.239316</td>\n",
              "      <td>0.760684</td>\n",
              "    </tr>\n",
              "    <tr>\n",
              "      <th>(61.667, 65.333]</th>\n",
              "      <td>0.321429</td>\n",
              "      <td>0.678571</td>\n",
              "    </tr>\n",
              "    <tr>\n",
              "      <th>(65.333, 69.0]</th>\n",
              "      <td>0.220779</td>\n",
              "      <td>0.779221</td>\n",
              "    </tr>\n",
              "  </tbody>\n",
              "</table>\n",
              "</div>"
            ],
            "text/plain": [
              "survived                 0         1\n",
              "year_op                             \n",
              "(57.989, 61.667]  0.239316  0.760684\n",
              "(61.667, 65.333]  0.321429  0.678571\n",
              "(65.333, 69.0]    0.220779  0.779221"
            ]
          },
          "metadata": {
            "tags": []
          },
          "execution_count": 30
        }
      ]
    },
    {
      "cell_type": "markdown",
      "metadata": {
        "id": "odleOZQB0MQf",
        "colab_type": "text"
      },
      "source": [
        "#### age_patient vs. survived"
      ]
    },
    {
      "cell_type": "code",
      "metadata": {
        "id": "iTrFPO09ymno",
        "colab_type": "code",
        "colab": {
          "base_uri": "https://localhost:8080/",
          "height": 173
        },
        "outputId": "2cfb650a-819d-4b54-b0f6-d7c10601075f"
      },
      "source": [
        "time_bins2 = pd.cut(df['age_patient'], 3)\n",
        "pd.crosstab(time_bins2, df['survived'])"
      ],
      "execution_count": 27,
      "outputs": [
        {
          "output_type": "execute_result",
          "data": {
            "text/html": [
              "<div>\n",
              "<style scoped>\n",
              "    .dataframe tbody tr th:only-of-type {\n",
              "        vertical-align: middle;\n",
              "    }\n",
              "\n",
              "    .dataframe tbody tr th {\n",
              "        vertical-align: top;\n",
              "    }\n",
              "\n",
              "    .dataframe thead th {\n",
              "        text-align: right;\n",
              "    }\n",
              "</style>\n",
              "<table border=\"1\" class=\"dataframe\">\n",
              "  <thead>\n",
              "    <tr style=\"text-align: right;\">\n",
              "      <th>survived</th>\n",
              "      <th>0</th>\n",
              "      <th>1</th>\n",
              "    </tr>\n",
              "    <tr>\n",
              "      <th>age_patient</th>\n",
              "      <th></th>\n",
              "      <th></th>\n",
              "    </tr>\n",
              "  </thead>\n",
              "  <tbody>\n",
              "    <tr>\n",
              "      <th>(29.947, 47.667]</th>\n",
              "      <td>26</td>\n",
              "      <td>81</td>\n",
              "    </tr>\n",
              "    <tr>\n",
              "      <th>(47.667, 65.333]</th>\n",
              "      <td>44</td>\n",
              "      <td>117</td>\n",
              "    </tr>\n",
              "    <tr>\n",
              "      <th>(65.333, 83.0]</th>\n",
              "      <td>11</td>\n",
              "      <td>27</td>\n",
              "    </tr>\n",
              "  </tbody>\n",
              "</table>\n",
              "</div>"
            ],
            "text/plain": [
              "survived           0    1\n",
              "age_patient              \n",
              "(29.947, 47.667]  26   81\n",
              "(47.667, 65.333]  44  117\n",
              "(65.333, 83.0]    11   27"
            ]
          },
          "metadata": {
            "tags": []
          },
          "execution_count": 27
        }
      ]
    },
    {
      "cell_type": "code",
      "metadata": {
        "id": "iR67Gounwd7t",
        "colab_type": "code",
        "colab": {
          "base_uri": "https://localhost:8080/",
          "height": 173
        },
        "outputId": "4082324a-3e1b-4a22-8437-bc5986c26d2c"
      },
      "source": [
        "# percentages column-wise \n",
        "time_bins2 = pd.cut(df['age_patient'], 3)\n",
        "pd.crosstab(time_bins2, df['survived'], normalize='columns')"
      ],
      "execution_count": 28,
      "outputs": [
        {
          "output_type": "execute_result",
          "data": {
            "text/html": [
              "<div>\n",
              "<style scoped>\n",
              "    .dataframe tbody tr th:only-of-type {\n",
              "        vertical-align: middle;\n",
              "    }\n",
              "\n",
              "    .dataframe tbody tr th {\n",
              "        vertical-align: top;\n",
              "    }\n",
              "\n",
              "    .dataframe thead th {\n",
              "        text-align: right;\n",
              "    }\n",
              "</style>\n",
              "<table border=\"1\" class=\"dataframe\">\n",
              "  <thead>\n",
              "    <tr style=\"text-align: right;\">\n",
              "      <th>survived</th>\n",
              "      <th>0</th>\n",
              "      <th>1</th>\n",
              "    </tr>\n",
              "    <tr>\n",
              "      <th>age_patient</th>\n",
              "      <th></th>\n",
              "      <th></th>\n",
              "    </tr>\n",
              "  </thead>\n",
              "  <tbody>\n",
              "    <tr>\n",
              "      <th>(29.947, 47.667]</th>\n",
              "      <td>0.320988</td>\n",
              "      <td>0.36</td>\n",
              "    </tr>\n",
              "    <tr>\n",
              "      <th>(47.667, 65.333]</th>\n",
              "      <td>0.543210</td>\n",
              "      <td>0.52</td>\n",
              "    </tr>\n",
              "    <tr>\n",
              "      <th>(65.333, 83.0]</th>\n",
              "      <td>0.135802</td>\n",
              "      <td>0.12</td>\n",
              "    </tr>\n",
              "  </tbody>\n",
              "</table>\n",
              "</div>"
            ],
            "text/plain": [
              "survived                 0     1\n",
              "age_patient                     \n",
              "(29.947, 47.667]  0.320988  0.36\n",
              "(47.667, 65.333]  0.543210  0.52\n",
              "(65.333, 83.0]    0.135802  0.12"
            ]
          },
          "metadata": {
            "tags": []
          },
          "execution_count": 28
        }
      ]
    },
    {
      "cell_type": "code",
      "metadata": {
        "id": "oRyDD-ZrweBk",
        "colab_type": "code",
        "colab": {
          "base_uri": "https://localhost:8080/",
          "height": 173
        },
        "outputId": "097c5702-93d3-4edf-c024-76d2c974f306"
      },
      "source": [
        "# percentages row-wise\n",
        "time_bins2 = pd.cut(df['age_patient'], 3)\n",
        "pd.crosstab(time_bins2, df['survived'], normalize='index')"
      ],
      "execution_count": 29,
      "outputs": [
        {
          "output_type": "execute_result",
          "data": {
            "text/html": [
              "<div>\n",
              "<style scoped>\n",
              "    .dataframe tbody tr th:only-of-type {\n",
              "        vertical-align: middle;\n",
              "    }\n",
              "\n",
              "    .dataframe tbody tr th {\n",
              "        vertical-align: top;\n",
              "    }\n",
              "\n",
              "    .dataframe thead th {\n",
              "        text-align: right;\n",
              "    }\n",
              "</style>\n",
              "<table border=\"1\" class=\"dataframe\">\n",
              "  <thead>\n",
              "    <tr style=\"text-align: right;\">\n",
              "      <th>survived</th>\n",
              "      <th>0</th>\n",
              "      <th>1</th>\n",
              "    </tr>\n",
              "    <tr>\n",
              "      <th>age_patient</th>\n",
              "      <th></th>\n",
              "      <th></th>\n",
              "    </tr>\n",
              "  </thead>\n",
              "  <tbody>\n",
              "    <tr>\n",
              "      <th>(29.947, 47.667]</th>\n",
              "      <td>0.242991</td>\n",
              "      <td>0.757009</td>\n",
              "    </tr>\n",
              "    <tr>\n",
              "      <th>(47.667, 65.333]</th>\n",
              "      <td>0.273292</td>\n",
              "      <td>0.726708</td>\n",
              "    </tr>\n",
              "    <tr>\n",
              "      <th>(65.333, 83.0]</th>\n",
              "      <td>0.289474</td>\n",
              "      <td>0.710526</td>\n",
              "    </tr>\n",
              "  </tbody>\n",
              "</table>\n",
              "</div>"
            ],
            "text/plain": [
              "survived                 0         1\n",
              "age_patient                         \n",
              "(29.947, 47.667]  0.242991  0.757009\n",
              "(47.667, 65.333]  0.273292  0.726708\n",
              "(65.333, 83.0]    0.289474  0.710526"
            ]
          },
          "metadata": {
            "tags": []
          },
          "execution_count": 29
        }
      ]
    },
    {
      "cell_type": "markdown",
      "metadata": {
        "id": "JxsTbQI30RG-",
        "colab_type": "text"
      },
      "source": [
        "#### ax_nodes vs. survived"
      ]
    },
    {
      "cell_type": "code",
      "metadata": {
        "id": "VKGwNv99weGY",
        "colab_type": "code",
        "colab": {
          "base_uri": "https://localhost:8080/",
          "height": 142
        },
        "outputId": "ddea9255-a21c-457f-d68a-96541d7d9697"
      },
      "source": [
        "time_bins3 = pd.cut(df['ax_nodes'], 2)\n",
        "pd.crosstab(time_bins3, df['survived'])"
      ],
      "execution_count": 33,
      "outputs": [
        {
          "output_type": "execute_result",
          "data": {
            "text/html": [
              "<div>\n",
              "<style scoped>\n",
              "    .dataframe tbody tr th:only-of-type {\n",
              "        vertical-align: middle;\n",
              "    }\n",
              "\n",
              "    .dataframe tbody tr th {\n",
              "        vertical-align: top;\n",
              "    }\n",
              "\n",
              "    .dataframe thead th {\n",
              "        text-align: right;\n",
              "    }\n",
              "</style>\n",
              "<table border=\"1\" class=\"dataframe\">\n",
              "  <thead>\n",
              "    <tr style=\"text-align: right;\">\n",
              "      <th>survived</th>\n",
              "      <th>0</th>\n",
              "      <th>1</th>\n",
              "    </tr>\n",
              "    <tr>\n",
              "      <th>ax_nodes</th>\n",
              "      <th></th>\n",
              "      <th></th>\n",
              "    </tr>\n",
              "  </thead>\n",
              "  <tbody>\n",
              "    <tr>\n",
              "      <th>(-0.052, 26.0]</th>\n",
              "      <td>79</td>\n",
              "      <td>222</td>\n",
              "    </tr>\n",
              "    <tr>\n",
              "      <th>(26.0, 52.0]</th>\n",
              "      <td>2</td>\n",
              "      <td>3</td>\n",
              "    </tr>\n",
              "  </tbody>\n",
              "</table>\n",
              "</div>"
            ],
            "text/plain": [
              "survived         0    1\n",
              "ax_nodes               \n",
              "(-0.052, 26.0]  79  222\n",
              "(26.0, 52.0]     2    3"
            ]
          },
          "metadata": {
            "tags": []
          },
          "execution_count": 33
        }
      ]
    },
    {
      "cell_type": "code",
      "metadata": {
        "id": "9iNE13rRweKZ",
        "colab_type": "code",
        "colab": {
          "base_uri": "https://localhost:8080/",
          "height": 142
        },
        "outputId": "921ac758-4ec1-4c02-a094-71a160ba6f0a"
      },
      "source": [
        "# percentages column-wise \n",
        "time_bins3 = pd.cut(df['ax_nodes'], 2)\n",
        "pd.crosstab(time_bins3, df['survived'], normalize='columns')"
      ],
      "execution_count": 34,
      "outputs": [
        {
          "output_type": "execute_result",
          "data": {
            "text/html": [
              "<div>\n",
              "<style scoped>\n",
              "    .dataframe tbody tr th:only-of-type {\n",
              "        vertical-align: middle;\n",
              "    }\n",
              "\n",
              "    .dataframe tbody tr th {\n",
              "        vertical-align: top;\n",
              "    }\n",
              "\n",
              "    .dataframe thead th {\n",
              "        text-align: right;\n",
              "    }\n",
              "</style>\n",
              "<table border=\"1\" class=\"dataframe\">\n",
              "  <thead>\n",
              "    <tr style=\"text-align: right;\">\n",
              "      <th>survived</th>\n",
              "      <th>0</th>\n",
              "      <th>1</th>\n",
              "    </tr>\n",
              "    <tr>\n",
              "      <th>ax_nodes</th>\n",
              "      <th></th>\n",
              "      <th></th>\n",
              "    </tr>\n",
              "  </thead>\n",
              "  <tbody>\n",
              "    <tr>\n",
              "      <th>(-0.052, 26.0]</th>\n",
              "      <td>0.975309</td>\n",
              "      <td>0.986667</td>\n",
              "    </tr>\n",
              "    <tr>\n",
              "      <th>(26.0, 52.0]</th>\n",
              "      <td>0.024691</td>\n",
              "      <td>0.013333</td>\n",
              "    </tr>\n",
              "  </tbody>\n",
              "</table>\n",
              "</div>"
            ],
            "text/plain": [
              "survived               0         1\n",
              "ax_nodes                          \n",
              "(-0.052, 26.0]  0.975309  0.986667\n",
              "(26.0, 52.0]    0.024691  0.013333"
            ]
          },
          "metadata": {
            "tags": []
          },
          "execution_count": 34
        }
      ]
    },
    {
      "cell_type": "code",
      "metadata": {
        "id": "lyAQTqVhweOs",
        "colab_type": "code",
        "colab": {
          "base_uri": "https://localhost:8080/",
          "height": 142
        },
        "outputId": "7dc31686-de94-4341-87dc-19e10cfe20e8"
      },
      "source": [
        "# percentages row-wise\n",
        "time_bins3 = pd.cut(df['ax_nodes'], 2)\n",
        "pd.crosstab(time_bins3, df['survived'], normalize='index')"
      ],
      "execution_count": 35,
      "outputs": [
        {
          "output_type": "execute_result",
          "data": {
            "text/html": [
              "<div>\n",
              "<style scoped>\n",
              "    .dataframe tbody tr th:only-of-type {\n",
              "        vertical-align: middle;\n",
              "    }\n",
              "\n",
              "    .dataframe tbody tr th {\n",
              "        vertical-align: top;\n",
              "    }\n",
              "\n",
              "    .dataframe thead th {\n",
              "        text-align: right;\n",
              "    }\n",
              "</style>\n",
              "<table border=\"1\" class=\"dataframe\">\n",
              "  <thead>\n",
              "    <tr style=\"text-align: right;\">\n",
              "      <th>survived</th>\n",
              "      <th>0</th>\n",
              "      <th>1</th>\n",
              "    </tr>\n",
              "    <tr>\n",
              "      <th>ax_nodes</th>\n",
              "      <th></th>\n",
              "      <th></th>\n",
              "    </tr>\n",
              "  </thead>\n",
              "  <tbody>\n",
              "    <tr>\n",
              "      <th>(-0.052, 26.0]</th>\n",
              "      <td>0.262458</td>\n",
              "      <td>0.737542</td>\n",
              "    </tr>\n",
              "    <tr>\n",
              "      <th>(26.0, 52.0]</th>\n",
              "      <td>0.400000</td>\n",
              "      <td>0.600000</td>\n",
              "    </tr>\n",
              "  </tbody>\n",
              "</table>\n",
              "</div>"
            ],
            "text/plain": [
              "survived               0         1\n",
              "ax_nodes                          \n",
              "(-0.052, 26.0]  0.262458  0.737542\n",
              "(26.0, 52.0]    0.400000  0.600000"
            ]
          },
          "metadata": {
            "tags": []
          },
          "execution_count": 35
        }
      ]
    },
    {
      "cell_type": "markdown",
      "metadata": {
        "id": "rj1W7rQG14_A",
        "colab_type": "text"
      },
      "source": [
        "### Visualizations"
      ]
    },
    {
      "cell_type": "code",
      "metadata": {
        "id": "5std9bj-14Eu",
        "colab_type": "code",
        "colab": {
          "base_uri": "https://localhost:8080/",
          "height": 295
        },
        "outputId": "3c11f67b-82cd-4394-dadc-eb007dcfa8f3"
      },
      "source": [
        "df.groupby('survived').year_op.hist(alpha=0.5)\n",
        "plt.title('Survival Rate by Year of Operation')\n",
        "plt.ylabel('Survival Rate')\n",
        "plt.xlabel('Year of Operation')\n",
        "plt.legend(['did not survive', 'survived'])\n",
        "plt.show()"
      ],
      "execution_count": 60,
      "outputs": [
        {
          "output_type": "display_data",
          "data": {
            "image/png": "[encoded data removed]",
            "text/plain": [
              "<Figure size 432x288 with 1 Axes>"
            ]
          },
          "metadata": {
            "tags": []
          }
        }
      ]
    },
    {
      "cell_type": "code",
      "metadata": {
        "id": "JGPsfUDa2SlX",
        "colab_type": "code",
        "colab": {
          "base_uri": "https://localhost:8080/",
          "height": 295
        },
        "outputId": "fa6b7e9b-9851-48ad-bf20-d1a04d97fd10"
      },
      "source": [
        "df.groupby('survived').age_patient.hist(bins=20, alpha=0.5)\n",
        "plt.title('Survival Rate by Age')\n",
        "plt.ylabel('Survival Rate')\n",
        "plt.xlabel('Patient Age')\n",
        "plt.legend(['did not survive', 'survived'])\n",
        "plt.show()"
      ],
      "execution_count": 62,
      "outputs": [
        {
          "output_type": "display_data",
          "data": {
            "image/png": "[encoded data removed]",
            "text/plain": [
              "<Figure size 432x288 with 1 Axes>"
            ]
          },
          "metadata": {
            "tags": []
          }
        }
      ]
    },
    {
      "cell_type": "code",
      "metadata": {
        "id": "qW4LEhaP2xTh",
        "colab_type": "code",
        "colab": {
          "base_uri": "https://localhost:8080/",
          "height": 295
        },
        "outputId": "c161552f-3221-4832-98d2-6a5a68b84a4a"
      },
      "source": [
        "df.groupby('survived').ax_nodes.hist(bins=20, alpha=0.5)\n",
        "plt.title('Survival Rate by Ax Nodes')\n",
        "plt.ylabel('Survival Rate')\n",
        "plt.xlabel('Ax Nodes')\n",
        "plt.legend(['did not survive', 'survived'])\n",
        "plt.show()"
      ],
      "execution_count": 63,
      "outputs": [
        {
          "output_type": "display_data",
          "data": {
            "image/png": "[encoded data removed]",
            "text/plain": [
              "<Figure size 432x288 with 1 Axes>"
            ]
          },
          "metadata": {
            "tags": []
          }
        }
      ]
    },
    {
      "cell_type": "code",
      "metadata": {
        "id": "NTkd8sxSVVTm",
        "colab_type": "code",
        "outputId": "0ae08284-08ed-405f-d117-35e0f710b499",
        "colab": {
          "base_uri": "https://localhost:8080/",
          "height": 269
        }
      },
      "source": [
        "df.plot.hist(alpha=0.5);"
      ],
      "execution_count": 0,
      "outputs": [
        {
          "output_type": "display_data",
          "data": {
            "image/png": "[encoded data removed]",
            "text/plain": [
              "<Figure size 432x288 with 1 Axes>"
            ]
          },
          "metadata": {
            "tags": []
          }
        }
      ]
    },
    {
      "cell_type": "code",
      "metadata": {
        "id": "gRwr7mDc7Y7h",
        "colab_type": "code",
        "colab": {
          "base_uri": "https://localhost:8080/",
          "height": 269
        },
        "outputId": "3527ccc4-f7fc-49aa-f6f5-586d1f25a03b"
      },
      "source": [
        "plt.scatter(df.age_patient, df.ax_nodes);"
      ],
      "execution_count": 55,
      "outputs": [
        {
          "output_type": "display_data",
          "data": {
            "image/png": "[encoded data removed]",
            "text/plain": [
              "<Figure size 432x288 with 1 Axes>"
            ]
          },
          "metadata": {
            "tags": []
          }
        }
      ]
    },
    {
      "cell_type": "markdown",
      "metadata": {
        "id": "ZM8JckA2bgnp",
        "colab_type": "text"
      },
      "source": [
        "## Part 3 - Analysis and Interpretation\n",
        "\n",
        "Now that you've looked at the data, answer the following questions:\n",
        "\n",
        "- What is at least one feature that looks to have a positive relationship with survival?\n",
        "\n",
        "One feature that looks to have a positive relationship with survival is the age of the patient. \n",
        "\n",
        "- What is at least one feature that looks to have a negative relationship with survival?\n",
        "\n",
        "One feature that looks to have a negative relationship is the number of ax nodes. \n",
        "\n",
        "- How are those two features related with each other, and what might that mean?\n",
        "\n",
        "These two features might be related to each other in the sense that as the age of the patient increases, so do the potential number of ax nodes. The number of ax nodes are, in turn, directly related to whether that person will eventually survive or die. This means that we should be aware and take precautions earlier rather than later, and get checked out before the number of ax nodes propagate and our chances of survival are dramatically reduced. "
      ]
    }
  ]
}