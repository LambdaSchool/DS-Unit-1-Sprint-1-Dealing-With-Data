{
  "nbformat": 4,
  "nbformat_minor": 0,
  "metadata": {
    "colab": {
      "name": "EricWuerfel_LS_DS5_112_Assignment.ipynb",
      "version": "0.3.2",
      "provenance": [],
      "collapsed_sections": [],
      "include_colab_link": true
    },
    "kernelspec": {
      "name": "python3",
      "display_name": "Python 3"
    }
  },
  "cells": [
    {
      "cell_type": "markdown",
      "metadata": {
        "id": "view-in-github",
        "colab_type": "text"
      },
      "source": [
        "<a href=\"https://colab.research.google.com/github/ewuerfel66/DS-Unit-1-Sprint-1-Dealing-With-Data/blob/master/EricWuerfel_LS_DS5_112_Assignment.ipynb\" target=\"_parent\"><img src=\"https://colab.research.google.com/assets/colab-badge.svg\" alt=\"Open In Colab\"/></a>"
      ]
    },
    {
      "cell_type": "markdown",
      "metadata": {
        "id": "zvDtc-3LrWp-",
        "colab_type": "text"
      },
      "source": [
        "Your assignment - pick a dataset and do something like the above\n",
        "\n",
        "This is purposely open-ended - you can pick any data set you wish. It is highly advised you pick a dataset from UCI or a similar semi-clean source. You don't want the data that you're working with for this assignment to have any bigger issues than maybe not having headers or including missing values, etc.\n",
        "\n",
        "After you have chosen your dataset, do the following:\n",
        "\n",
        "    Import the dataset using the method that you are least comfortable with (!curl or CSV upload).\n",
        "        Make sure that your dataset has the number of rows and columns that you expect.\n",
        "        Make sure that your dataset has appropriate column names, rename them if necessary.\n",
        "        If your dataset uses markers like \"?\" to indicate missing values, replace them with NaNs during import.\n",
        "    Identify and fill missing values in your dataset (if any)\n",
        "        Don't worry about using methods more advanced than the .fillna() function for today.\n",
        "    Create one of each of the following plots using your dataset\n",
        "        Scatterplot\n",
        "        Histogram\n",
        "        Density Plot\n",
        "        Pairplot (note that pairplots will take a long time to load with large datasets or datasets with many columns)\n",
        "\n",
        "If you get that done and want to try more challenging or exotic things, go for it! Use documentation as illustrated above, and follow the 20-minute rule (that is - ask for help if you're stuck!).\n",
        "\n",
        "If you have loaded a few traditional datasets, see the following section for suggested stretch goals."
      ]
    },
    {
      "cell_type": "code",
      "metadata": {
        "id": "1hCSaaYQrcRK",
        "colab_type": "code",
        "colab": {}
      },
      "source": [
        "import pandas as pd\n",
        "import numpy as np\n",
        "from statistics import median, mean"
      ],
      "execution_count": 0,
      "outputs": []
    },
    {
      "cell_type": "code",
      "metadata": {
        "id": "RuTS50tlrzaI",
        "colab_type": "code",
        "colab": {}
      },
      "source": [
        "!curl https://archive.ics.uci.edu/ml/machine-learning-databases/bridges/bridges.data.version1"
      ],
      "execution_count": 0,
      "outputs": []
    },
    {
      "cell_type": "code",
      "metadata": {
        "id": "Ot_nqN2HXXxn",
        "colab_type": "code",
        "colab": {}
      },
      "source": [
        "!curl https://archive.ics.uci.edu/ml/machine-learning-databases/bridges/bridges.names"
      ],
      "execution_count": 0,
      "outputs": []
    },
    {
      "cell_type": "code",
      "metadata": {
        "id": "4KuD0yJqsEOn",
        "colab_type": "code",
        "outputId": "6cbf1b6e-a36a-4121-89f8-61efc100a3e4",
        "colab": {
          "base_uri": "https://localhost:8080/",
          "height": 676
        }
      },
      "source": [
        "df = pd.read_csv('https://archive.ics.uci.edu/ml/machine-learning-databases/bridges/bridges.data.version1', header = None)\n",
        "df.columns = ['IDENTIF', 'RIVER', 'LOCATION', 'ERECTED', 'PURPOSE', 'LENGTH', 'LANES', 'CLEAR', 'T_OR_D', 'MATERIAL', 'SPAN', 'REL_LENGTH', 'TYPE']\n",
        "df.head(20)"
      ],
      "execution_count": 44,
      "outputs": [
        {
          "output_type": "execute_result",
          "data": {
            "text/html": [
              "<div>\n",
              "<style scoped>\n",
              "    .dataframe tbody tr th:only-of-type {\n",
              "        vertical-align: middle;\n",
              "    }\n",
              "\n",
              "    .dataframe tbody tr th {\n",
              "        vertical-align: top;\n",
              "    }\n",
              "\n",
              "    .dataframe thead th {\n",
              "        text-align: right;\n",
              "    }\n",
              "</style>\n",
              "<table border=\"1\" class=\"dataframe\">\n",
              "  <thead>\n",
              "    <tr style=\"text-align: right;\">\n",
              "      <th></th>\n",
              "      <th>IDENTIF</th>\n",
              "      <th>RIVER</th>\n",
              "      <th>LOCATION</th>\n",
              "      <th>ERECTED</th>\n",
              "      <th>PURPOSE</th>\n",
              "      <th>LENGTH</th>\n",
              "      <th>LANES</th>\n",
              "      <th>CLEAR</th>\n",
              "      <th>T_OR_D</th>\n",
              "      <th>MATERIAL</th>\n",
              "      <th>SPAN</th>\n",
              "      <th>REL_LENGTH</th>\n",
              "      <th>TYPE</th>\n",
              "    </tr>\n",
              "  </thead>\n",
              "  <tbody>\n",
              "    <tr>\n",
              "      <th>0</th>\n",
              "      <td>E1</td>\n",
              "      <td>M</td>\n",
              "      <td>3</td>\n",
              "      <td>1818</td>\n",
              "      <td>HIGHWAY</td>\n",
              "      <td>?</td>\n",
              "      <td>2</td>\n",
              "      <td>N</td>\n",
              "      <td>THROUGH</td>\n",
              "      <td>WOOD</td>\n",
              "      <td>SHORT</td>\n",
              "      <td>S</td>\n",
              "      <td>WOOD</td>\n",
              "    </tr>\n",
              "    <tr>\n",
              "      <th>1</th>\n",
              "      <td>E2</td>\n",
              "      <td>A</td>\n",
              "      <td>25</td>\n",
              "      <td>1819</td>\n",
              "      <td>HIGHWAY</td>\n",
              "      <td>1037</td>\n",
              "      <td>2</td>\n",
              "      <td>N</td>\n",
              "      <td>THROUGH</td>\n",
              "      <td>WOOD</td>\n",
              "      <td>SHORT</td>\n",
              "      <td>S</td>\n",
              "      <td>WOOD</td>\n",
              "    </tr>\n",
              "    <tr>\n",
              "      <th>2</th>\n",
              "      <td>E3</td>\n",
              "      <td>A</td>\n",
              "      <td>39</td>\n",
              "      <td>1829</td>\n",
              "      <td>AQUEDUCT</td>\n",
              "      <td>?</td>\n",
              "      <td>1</td>\n",
              "      <td>N</td>\n",
              "      <td>THROUGH</td>\n",
              "      <td>WOOD</td>\n",
              "      <td>?</td>\n",
              "      <td>S</td>\n",
              "      <td>WOOD</td>\n",
              "    </tr>\n",
              "    <tr>\n",
              "      <th>3</th>\n",
              "      <td>E5</td>\n",
              "      <td>A</td>\n",
              "      <td>29</td>\n",
              "      <td>1837</td>\n",
              "      <td>HIGHWAY</td>\n",
              "      <td>1000</td>\n",
              "      <td>2</td>\n",
              "      <td>N</td>\n",
              "      <td>THROUGH</td>\n",
              "      <td>WOOD</td>\n",
              "      <td>SHORT</td>\n",
              "      <td>S</td>\n",
              "      <td>WOOD</td>\n",
              "    </tr>\n",
              "    <tr>\n",
              "      <th>4</th>\n",
              "      <td>E6</td>\n",
              "      <td>M</td>\n",
              "      <td>23</td>\n",
              "      <td>1838</td>\n",
              "      <td>HIGHWAY</td>\n",
              "      <td>?</td>\n",
              "      <td>2</td>\n",
              "      <td>N</td>\n",
              "      <td>THROUGH</td>\n",
              "      <td>WOOD</td>\n",
              "      <td>?</td>\n",
              "      <td>S</td>\n",
              "      <td>WOOD</td>\n",
              "    </tr>\n",
              "    <tr>\n",
              "      <th>5</th>\n",
              "      <td>E7</td>\n",
              "      <td>A</td>\n",
              "      <td>27</td>\n",
              "      <td>1840</td>\n",
              "      <td>HIGHWAY</td>\n",
              "      <td>990</td>\n",
              "      <td>2</td>\n",
              "      <td>N</td>\n",
              "      <td>THROUGH</td>\n",
              "      <td>WOOD</td>\n",
              "      <td>MEDIUM</td>\n",
              "      <td>S</td>\n",
              "      <td>WOOD</td>\n",
              "    </tr>\n",
              "    <tr>\n",
              "      <th>6</th>\n",
              "      <td>E8</td>\n",
              "      <td>A</td>\n",
              "      <td>28</td>\n",
              "      <td>1844</td>\n",
              "      <td>AQUEDUCT</td>\n",
              "      <td>1000</td>\n",
              "      <td>1</td>\n",
              "      <td>N</td>\n",
              "      <td>THROUGH</td>\n",
              "      <td>IRON</td>\n",
              "      <td>SHORT</td>\n",
              "      <td>S</td>\n",
              "      <td>SUSPEN</td>\n",
              "    </tr>\n",
              "    <tr>\n",
              "      <th>7</th>\n",
              "      <td>E9</td>\n",
              "      <td>M</td>\n",
              "      <td>3</td>\n",
              "      <td>1846</td>\n",
              "      <td>HIGHWAY</td>\n",
              "      <td>1500</td>\n",
              "      <td>2</td>\n",
              "      <td>N</td>\n",
              "      <td>THROUGH</td>\n",
              "      <td>IRON</td>\n",
              "      <td>SHORT</td>\n",
              "      <td>S</td>\n",
              "      <td>SUSPEN</td>\n",
              "    </tr>\n",
              "    <tr>\n",
              "      <th>8</th>\n",
              "      <td>E10</td>\n",
              "      <td>A</td>\n",
              "      <td>39</td>\n",
              "      <td>1848</td>\n",
              "      <td>AQUEDUCT</td>\n",
              "      <td>?</td>\n",
              "      <td>1</td>\n",
              "      <td>N</td>\n",
              "      <td>DECK</td>\n",
              "      <td>WOOD</td>\n",
              "      <td>?</td>\n",
              "      <td>S</td>\n",
              "      <td>WOOD</td>\n",
              "    </tr>\n",
              "    <tr>\n",
              "      <th>9</th>\n",
              "      <td>E11</td>\n",
              "      <td>A</td>\n",
              "      <td>29</td>\n",
              "      <td>1851</td>\n",
              "      <td>HIGHWAY</td>\n",
              "      <td>1000</td>\n",
              "      <td>2</td>\n",
              "      <td>N</td>\n",
              "      <td>THROUGH</td>\n",
              "      <td>WOOD</td>\n",
              "      <td>MEDIUM</td>\n",
              "      <td>S</td>\n",
              "      <td>WOOD</td>\n",
              "    </tr>\n",
              "    <tr>\n",
              "      <th>10</th>\n",
              "      <td>E12</td>\n",
              "      <td>A</td>\n",
              "      <td>39</td>\n",
              "      <td>1853</td>\n",
              "      <td>RR</td>\n",
              "      <td>?</td>\n",
              "      <td>2</td>\n",
              "      <td>N</td>\n",
              "      <td>DECK</td>\n",
              "      <td>WOOD</td>\n",
              "      <td>?</td>\n",
              "      <td>S</td>\n",
              "      <td>WOOD</td>\n",
              "    </tr>\n",
              "    <tr>\n",
              "      <th>11</th>\n",
              "      <td>E14</td>\n",
              "      <td>M</td>\n",
              "      <td>6</td>\n",
              "      <td>1856</td>\n",
              "      <td>HIGHWAY</td>\n",
              "      <td>1200</td>\n",
              "      <td>2</td>\n",
              "      <td>N</td>\n",
              "      <td>THROUGH</td>\n",
              "      <td>WOOD</td>\n",
              "      <td>MEDIUM</td>\n",
              "      <td>S</td>\n",
              "      <td>WOOD</td>\n",
              "    </tr>\n",
              "    <tr>\n",
              "      <th>12</th>\n",
              "      <td>E13</td>\n",
              "      <td>A</td>\n",
              "      <td>33</td>\n",
              "      <td>1856</td>\n",
              "      <td>HIGHWAY</td>\n",
              "      <td>?</td>\n",
              "      <td>2</td>\n",
              "      <td>N</td>\n",
              "      <td>THROUGH</td>\n",
              "      <td>WOOD</td>\n",
              "      <td>?</td>\n",
              "      <td>S</td>\n",
              "      <td>WOOD</td>\n",
              "    </tr>\n",
              "    <tr>\n",
              "      <th>13</th>\n",
              "      <td>E15</td>\n",
              "      <td>A</td>\n",
              "      <td>28</td>\n",
              "      <td>1857</td>\n",
              "      <td>RR</td>\n",
              "      <td>?</td>\n",
              "      <td>2</td>\n",
              "      <td>N</td>\n",
              "      <td>THROUGH</td>\n",
              "      <td>WOOD</td>\n",
              "      <td>?</td>\n",
              "      <td>S</td>\n",
              "      <td>WOOD</td>\n",
              "    </tr>\n",
              "    <tr>\n",
              "      <th>14</th>\n",
              "      <td>E16</td>\n",
              "      <td>A</td>\n",
              "      <td>25</td>\n",
              "      <td>1859</td>\n",
              "      <td>HIGHWAY</td>\n",
              "      <td>1030</td>\n",
              "      <td>2</td>\n",
              "      <td>N</td>\n",
              "      <td>THROUGH</td>\n",
              "      <td>IRON</td>\n",
              "      <td>MEDIUM</td>\n",
              "      <td>S-F</td>\n",
              "      <td>SUSPEN</td>\n",
              "    </tr>\n",
              "    <tr>\n",
              "      <th>15</th>\n",
              "      <td>E17</td>\n",
              "      <td>M</td>\n",
              "      <td>4</td>\n",
              "      <td>1863</td>\n",
              "      <td>RR</td>\n",
              "      <td>1000</td>\n",
              "      <td>2</td>\n",
              "      <td>N</td>\n",
              "      <td>THROUGH</td>\n",
              "      <td>IRON</td>\n",
              "      <td>MEDIUM</td>\n",
              "      <td>?</td>\n",
              "      <td>SIMPLE-T</td>\n",
              "    </tr>\n",
              "    <tr>\n",
              "      <th>16</th>\n",
              "      <td>E18</td>\n",
              "      <td>A</td>\n",
              "      <td>28</td>\n",
              "      <td>1864</td>\n",
              "      <td>RR</td>\n",
              "      <td>1200</td>\n",
              "      <td>2</td>\n",
              "      <td>N</td>\n",
              "      <td>THROUGH</td>\n",
              "      <td>IRON</td>\n",
              "      <td>SHORT</td>\n",
              "      <td>S</td>\n",
              "      <td>SIMPLE-T</td>\n",
              "    </tr>\n",
              "    <tr>\n",
              "      <th>17</th>\n",
              "      <td>E19</td>\n",
              "      <td>A</td>\n",
              "      <td>29</td>\n",
              "      <td>1866</td>\n",
              "      <td>HIGHWAY</td>\n",
              "      <td>1000</td>\n",
              "      <td>2</td>\n",
              "      <td>N</td>\n",
              "      <td>THROUGH</td>\n",
              "      <td>WOOD</td>\n",
              "      <td>MEDIUM</td>\n",
              "      <td>S</td>\n",
              "      <td>WOOD</td>\n",
              "    </tr>\n",
              "    <tr>\n",
              "      <th>18</th>\n",
              "      <td>E20</td>\n",
              "      <td>A</td>\n",
              "      <td>32</td>\n",
              "      <td>1870</td>\n",
              "      <td>HIGHWAY</td>\n",
              "      <td>1000</td>\n",
              "      <td>2</td>\n",
              "      <td>N</td>\n",
              "      <td>THROUGH</td>\n",
              "      <td>WOOD</td>\n",
              "      <td>MEDIUM</td>\n",
              "      <td>S</td>\n",
              "      <td>WOOD</td>\n",
              "    </tr>\n",
              "    <tr>\n",
              "      <th>19</th>\n",
              "      <td>E21</td>\n",
              "      <td>M</td>\n",
              "      <td>16</td>\n",
              "      <td>1874</td>\n",
              "      <td>RR</td>\n",
              "      <td>?</td>\n",
              "      <td>2</td>\n",
              "      <td>?</td>\n",
              "      <td>THROUGH</td>\n",
              "      <td>IRON</td>\n",
              "      <td>?</td>\n",
              "      <td>?</td>\n",
              "      <td>SIMPLE-T</td>\n",
              "    </tr>\n",
              "  </tbody>\n",
              "</table>\n",
              "</div>"
            ],
            "text/plain": [
              "   IDENTIF RIVER LOCATION  ERECTED  ... MATERIAL    SPAN REL_LENGTH      TYPE\n",
              "0       E1     M        3     1818  ...     WOOD   SHORT          S      WOOD\n",
              "1       E2     A       25     1819  ...     WOOD   SHORT          S      WOOD\n",
              "2       E3     A       39     1829  ...     WOOD       ?          S      WOOD\n",
              "3       E5     A       29     1837  ...     WOOD   SHORT          S      WOOD\n",
              "4       E6     M       23     1838  ...     WOOD       ?          S      WOOD\n",
              "5       E7     A       27     1840  ...     WOOD  MEDIUM          S      WOOD\n",
              "6       E8     A       28     1844  ...     IRON   SHORT          S    SUSPEN\n",
              "7       E9     M        3     1846  ...     IRON   SHORT          S    SUSPEN\n",
              "8      E10     A       39     1848  ...     WOOD       ?          S      WOOD\n",
              "9      E11     A       29     1851  ...     WOOD  MEDIUM          S      WOOD\n",
              "10     E12     A       39     1853  ...     WOOD       ?          S      WOOD\n",
              "11     E14     M        6     1856  ...     WOOD  MEDIUM          S      WOOD\n",
              "12     E13     A       33     1856  ...     WOOD       ?          S      WOOD\n",
              "13     E15     A       28     1857  ...     WOOD       ?          S      WOOD\n",
              "14     E16     A       25     1859  ...     IRON  MEDIUM        S-F    SUSPEN\n",
              "15     E17     M        4     1863  ...     IRON  MEDIUM          ?  SIMPLE-T\n",
              "16     E18     A       28     1864  ...     IRON   SHORT          S  SIMPLE-T\n",
              "17     E19     A       29     1866  ...     WOOD  MEDIUM          S      WOOD\n",
              "18     E20     A       32     1870  ...     WOOD  MEDIUM          S      WOOD\n",
              "19     E21     M       16     1874  ...     IRON       ?          ?  SIMPLE-T\n",
              "\n",
              "[20 rows x 13 columns]"
            ]
          },
          "metadata": {
            "tags": []
          },
          "execution_count": 44
        }
      ]
    },
    {
      "cell_type": "markdown",
      "metadata": {
        "id": "kWVrZeiyKQnP",
        "colab_type": "text"
      },
      "source": [
        "Let's look at some of the '?'s"
      ]
    },
    {
      "cell_type": "code",
      "metadata": {
        "id": "MH2LyLeWwuX0",
        "colab_type": "code",
        "outputId": "61a8ce58-db29-4d2d-fc0b-cdc2a2cfcd7e",
        "colab": {
          "base_uri": "https://localhost:8080/",
          "height": 54
        }
      },
      "source": [
        "print(df.LENGTH[0])\n",
        "type(df.LENGTH[0])"
      ],
      "execution_count": 45,
      "outputs": [
        {
          "output_type": "stream",
          "text": [
            "?\n"
          ],
          "name": "stdout"
        },
        {
          "output_type": "execute_result",
          "data": {
            "text/plain": [
              "str"
            ]
          },
          "metadata": {
            "tags": []
          },
          "execution_count": 45
        }
      ]
    },
    {
      "cell_type": "markdown",
      "metadata": {
        "id": "UPJgmPiTLQ5q",
        "colab_type": "text"
      },
      "source": [
        "**Replace \"?\"s with NaNs**"
      ]
    },
    {
      "cell_type": "code",
      "metadata": {
        "id": "UhnGQH1uso1Y",
        "colab_type": "code",
        "colab": {}
      },
      "source": [
        "df.replace(\"?\", np.NaN, inplace=True)"
      ],
      "execution_count": 0,
      "outputs": []
    },
    {
      "cell_type": "code",
      "metadata": {
        "id": "lPJN_WeaLYo4",
        "colab_type": "code",
        "colab": {
          "base_uri": "https://localhost:8080/",
          "height": 279
        },
        "outputId": "118ab42a-110e-43a2-e0bb-2b4bc3906ecd"
      },
      "source": [
        "df.isnull().sum()"
      ],
      "execution_count": 47,
      "outputs": [
        {
          "output_type": "execute_result",
          "data": {
            "text/plain": [
              "IDENTIF        0\n",
              "RIVER          0\n",
              "LOCATION       1\n",
              "ERECTED        0\n",
              "PURPOSE        0\n",
              "LENGTH        27\n",
              "LANES         16\n",
              "CLEAR          2\n",
              "T_OR_D         6\n",
              "MATERIAL       2\n",
              "SPAN          16\n",
              "REL_LENGTH     5\n",
              "TYPE           2\n",
              "dtype: int64"
            ]
          },
          "metadata": {
            "tags": []
          },
          "execution_count": 47
        }
      ]
    },
    {
      "cell_type": "markdown",
      "metadata": {
        "id": "H__2Iy5bLpdT",
        "colab_type": "text"
      },
      "source": [
        "LOCATION, CLEAR, T_OR_D, MATERIAL, SPAN, REL_LENGTH, & TYPE can be replaced with ffill."
      ]
    },
    {
      "cell_type": "code",
      "metadata": {
        "id": "F9hFk2LwtPev",
        "colab_type": "code",
        "outputId": "76ae9864-7abc-4510-d121-ff19c08b556e",
        "colab": {
          "base_uri": "https://localhost:8080/",
          "height": 206
        }
      },
      "source": [
        "df['LOCATION'] = df['LOCATION'].fillna(method='ffill')\n",
        "df['CLEAR'] = df['CLEAR'].fillna(method='ffill')\n",
        "df['T_OR_D'] = df['T_OR_D'].fillna(method='ffill')\n",
        "df['MATERIAL'] = df['MATERIAL'].fillna(method='ffill')\n",
        "df['SPAN'] = df['SPAN'].fillna(method='ffill')\n",
        "df['REL_LENGTH'] = df['REL_LENGTH'].fillna(method='ffill')\n",
        "df['TYPE'] = df['TYPE'].fillna(method='ffill')\n",
        "df.head()"
      ],
      "execution_count": 48,
      "outputs": [
        {
          "output_type": "execute_result",
          "data": {
            "text/html": [
              "<div>\n",
              "<style scoped>\n",
              "    .dataframe tbody tr th:only-of-type {\n",
              "        vertical-align: middle;\n",
              "    }\n",
              "\n",
              "    .dataframe tbody tr th {\n",
              "        vertical-align: top;\n",
              "    }\n",
              "\n",
              "    .dataframe thead th {\n",
              "        text-align: right;\n",
              "    }\n",
              "</style>\n",
              "<table border=\"1\" class=\"dataframe\">\n",
              "  <thead>\n",
              "    <tr style=\"text-align: right;\">\n",
              "      <th></th>\n",
              "      <th>IDENTIF</th>\n",
              "      <th>RIVER</th>\n",
              "      <th>LOCATION</th>\n",
              "      <th>ERECTED</th>\n",
              "      <th>PURPOSE</th>\n",
              "      <th>LENGTH</th>\n",
              "      <th>LANES</th>\n",
              "      <th>CLEAR</th>\n",
              "      <th>T_OR_D</th>\n",
              "      <th>MATERIAL</th>\n",
              "      <th>SPAN</th>\n",
              "      <th>REL_LENGTH</th>\n",
              "      <th>TYPE</th>\n",
              "    </tr>\n",
              "  </thead>\n",
              "  <tbody>\n",
              "    <tr>\n",
              "      <th>0</th>\n",
              "      <td>E1</td>\n",
              "      <td>M</td>\n",
              "      <td>3</td>\n",
              "      <td>1818</td>\n",
              "      <td>HIGHWAY</td>\n",
              "      <td>NaN</td>\n",
              "      <td>2</td>\n",
              "      <td>N</td>\n",
              "      <td>THROUGH</td>\n",
              "      <td>WOOD</td>\n",
              "      <td>SHORT</td>\n",
              "      <td>S</td>\n",
              "      <td>WOOD</td>\n",
              "    </tr>\n",
              "    <tr>\n",
              "      <th>1</th>\n",
              "      <td>E2</td>\n",
              "      <td>A</td>\n",
              "      <td>25</td>\n",
              "      <td>1819</td>\n",
              "      <td>HIGHWAY</td>\n",
              "      <td>1037</td>\n",
              "      <td>2</td>\n",
              "      <td>N</td>\n",
              "      <td>THROUGH</td>\n",
              "      <td>WOOD</td>\n",
              "      <td>SHORT</td>\n",
              "      <td>S</td>\n",
              "      <td>WOOD</td>\n",
              "    </tr>\n",
              "    <tr>\n",
              "      <th>2</th>\n",
              "      <td>E3</td>\n",
              "      <td>A</td>\n",
              "      <td>39</td>\n",
              "      <td>1829</td>\n",
              "      <td>AQUEDUCT</td>\n",
              "      <td>NaN</td>\n",
              "      <td>1</td>\n",
              "      <td>N</td>\n",
              "      <td>THROUGH</td>\n",
              "      <td>WOOD</td>\n",
              "      <td>SHORT</td>\n",
              "      <td>S</td>\n",
              "      <td>WOOD</td>\n",
              "    </tr>\n",
              "    <tr>\n",
              "      <th>3</th>\n",
              "      <td>E5</td>\n",
              "      <td>A</td>\n",
              "      <td>29</td>\n",
              "      <td>1837</td>\n",
              "      <td>HIGHWAY</td>\n",
              "      <td>1000</td>\n",
              "      <td>2</td>\n",
              "      <td>N</td>\n",
              "      <td>THROUGH</td>\n",
              "      <td>WOOD</td>\n",
              "      <td>SHORT</td>\n",
              "      <td>S</td>\n",
              "      <td>WOOD</td>\n",
              "    </tr>\n",
              "    <tr>\n",
              "      <th>4</th>\n",
              "      <td>E6</td>\n",
              "      <td>M</td>\n",
              "      <td>23</td>\n",
              "      <td>1838</td>\n",
              "      <td>HIGHWAY</td>\n",
              "      <td>NaN</td>\n",
              "      <td>2</td>\n",
              "      <td>N</td>\n",
              "      <td>THROUGH</td>\n",
              "      <td>WOOD</td>\n",
              "      <td>SHORT</td>\n",
              "      <td>S</td>\n",
              "      <td>WOOD</td>\n",
              "    </tr>\n",
              "  </tbody>\n",
              "</table>\n",
              "</div>"
            ],
            "text/plain": [
              "  IDENTIF RIVER LOCATION  ERECTED  ... MATERIAL   SPAN REL_LENGTH  TYPE\n",
              "0      E1     M        3     1818  ...     WOOD  SHORT          S  WOOD\n",
              "1      E2     A       25     1819  ...     WOOD  SHORT          S  WOOD\n",
              "2      E3     A       39     1829  ...     WOOD  SHORT          S  WOOD\n",
              "3      E5     A       29     1837  ...     WOOD  SHORT          S  WOOD\n",
              "4      E6     M       23     1838  ...     WOOD  SHORT          S  WOOD\n",
              "\n",
              "[5 rows x 13 columns]"
            ]
          },
          "metadata": {
            "tags": []
          },
          "execution_count": 48
        }
      ]
    },
    {
      "cell_type": "markdown",
      "metadata": {
        "id": "qVNpehTVNKcW",
        "colab_type": "text"
      },
      "source": [
        "Replace missing numeric values with the median of the column"
      ]
    },
    {
      "cell_type": "code",
      "metadata": {
        "id": "2CvsrKguNiPv",
        "colab_type": "code",
        "colab": {
          "base_uri": "https://localhost:8080/",
          "height": 36
        },
        "outputId": "615fa958-c1cc-45e0-d5e4-92bca438401c"
      },
      "source": [
        "type(df.LENGTH[1])"
      ],
      "execution_count": 49,
      "outputs": [
        {
          "output_type": "execute_result",
          "data": {
            "text/plain": [
              "str"
            ]
          },
          "metadata": {
            "tags": []
          },
          "execution_count": 49
        }
      ]
    },
    {
      "cell_type": "markdown",
      "metadata": {
        "id": "vZaCrerpNp2R",
        "colab_type": "text"
      },
      "source": [
        "Convert non-NaN lengths to integers"
      ]
    },
    {
      "cell_type": "code",
      "metadata": {
        "id": "FbKr-np-Nv1Q",
        "colab_type": "code",
        "colab": {}
      },
      "source": [
        "def clean_LENGTH(value):\n",
        "  if type(value) == str:\n",
        "    return(int(value))"
      ],
      "execution_count": 0,
      "outputs": []
    },
    {
      "cell_type": "code",
      "metadata": {
        "id": "mqo9lRqnOCtB",
        "colab_type": "code",
        "colab": {}
      },
      "source": [
        "clean_LENGTH(df.LENGTH[0])"
      ],
      "execution_count": 0,
      "outputs": []
    },
    {
      "cell_type": "code",
      "metadata": {
        "id": "cHo7ztm9OMTO",
        "colab_type": "code",
        "colab": {}
      },
      "source": [
        "df['LENGTH'] = df['LENGTH'].apply(clean_LENGTH)"
      ],
      "execution_count": 0,
      "outputs": []
    },
    {
      "cell_type": "code",
      "metadata": {
        "id": "xDz9e01TOX0H",
        "colab_type": "code",
        "colab": {
          "base_uri": "https://localhost:8080/",
          "height": 206
        },
        "outputId": "405d06c2-3b51-4e90-bcc0-e5ad05780dcd"
      },
      "source": [
        "df.head()"
      ],
      "execution_count": 53,
      "outputs": [
        {
          "output_type": "execute_result",
          "data": {
            "text/html": [
              "<div>\n",
              "<style scoped>\n",
              "    .dataframe tbody tr th:only-of-type {\n",
              "        vertical-align: middle;\n",
              "    }\n",
              "\n",
              "    .dataframe tbody tr th {\n",
              "        vertical-align: top;\n",
              "    }\n",
              "\n",
              "    .dataframe thead th {\n",
              "        text-align: right;\n",
              "    }\n",
              "</style>\n",
              "<table border=\"1\" class=\"dataframe\">\n",
              "  <thead>\n",
              "    <tr style=\"text-align: right;\">\n",
              "      <th></th>\n",
              "      <th>IDENTIF</th>\n",
              "      <th>RIVER</th>\n",
              "      <th>LOCATION</th>\n",
              "      <th>ERECTED</th>\n",
              "      <th>PURPOSE</th>\n",
              "      <th>LENGTH</th>\n",
              "      <th>LANES</th>\n",
              "      <th>CLEAR</th>\n",
              "      <th>T_OR_D</th>\n",
              "      <th>MATERIAL</th>\n",
              "      <th>SPAN</th>\n",
              "      <th>REL_LENGTH</th>\n",
              "      <th>TYPE</th>\n",
              "    </tr>\n",
              "  </thead>\n",
              "  <tbody>\n",
              "    <tr>\n",
              "      <th>0</th>\n",
              "      <td>E1</td>\n",
              "      <td>M</td>\n",
              "      <td>3</td>\n",
              "      <td>1818</td>\n",
              "      <td>HIGHWAY</td>\n",
              "      <td>NaN</td>\n",
              "      <td>2</td>\n",
              "      <td>N</td>\n",
              "      <td>THROUGH</td>\n",
              "      <td>WOOD</td>\n",
              "      <td>SHORT</td>\n",
              "      <td>S</td>\n",
              "      <td>WOOD</td>\n",
              "    </tr>\n",
              "    <tr>\n",
              "      <th>1</th>\n",
              "      <td>E2</td>\n",
              "      <td>A</td>\n",
              "      <td>25</td>\n",
              "      <td>1819</td>\n",
              "      <td>HIGHWAY</td>\n",
              "      <td>1037.0</td>\n",
              "      <td>2</td>\n",
              "      <td>N</td>\n",
              "      <td>THROUGH</td>\n",
              "      <td>WOOD</td>\n",
              "      <td>SHORT</td>\n",
              "      <td>S</td>\n",
              "      <td>WOOD</td>\n",
              "    </tr>\n",
              "    <tr>\n",
              "      <th>2</th>\n",
              "      <td>E3</td>\n",
              "      <td>A</td>\n",
              "      <td>39</td>\n",
              "      <td>1829</td>\n",
              "      <td>AQUEDUCT</td>\n",
              "      <td>NaN</td>\n",
              "      <td>1</td>\n",
              "      <td>N</td>\n",
              "      <td>THROUGH</td>\n",
              "      <td>WOOD</td>\n",
              "      <td>SHORT</td>\n",
              "      <td>S</td>\n",
              "      <td>WOOD</td>\n",
              "    </tr>\n",
              "    <tr>\n",
              "      <th>3</th>\n",
              "      <td>E5</td>\n",
              "      <td>A</td>\n",
              "      <td>29</td>\n",
              "      <td>1837</td>\n",
              "      <td>HIGHWAY</td>\n",
              "      <td>1000.0</td>\n",
              "      <td>2</td>\n",
              "      <td>N</td>\n",
              "      <td>THROUGH</td>\n",
              "      <td>WOOD</td>\n",
              "      <td>SHORT</td>\n",
              "      <td>S</td>\n",
              "      <td>WOOD</td>\n",
              "    </tr>\n",
              "    <tr>\n",
              "      <th>4</th>\n",
              "      <td>E6</td>\n",
              "      <td>M</td>\n",
              "      <td>23</td>\n",
              "      <td>1838</td>\n",
              "      <td>HIGHWAY</td>\n",
              "      <td>NaN</td>\n",
              "      <td>2</td>\n",
              "      <td>N</td>\n",
              "      <td>THROUGH</td>\n",
              "      <td>WOOD</td>\n",
              "      <td>SHORT</td>\n",
              "      <td>S</td>\n",
              "      <td>WOOD</td>\n",
              "    </tr>\n",
              "  </tbody>\n",
              "</table>\n",
              "</div>"
            ],
            "text/plain": [
              "  IDENTIF RIVER LOCATION  ERECTED  ... MATERIAL   SPAN REL_LENGTH  TYPE\n",
              "0      E1     M        3     1818  ...     WOOD  SHORT          S  WOOD\n",
              "1      E2     A       25     1819  ...     WOOD  SHORT          S  WOOD\n",
              "2      E3     A       39     1829  ...     WOOD  SHORT          S  WOOD\n",
              "3      E5     A       29     1837  ...     WOOD  SHORT          S  WOOD\n",
              "4      E6     M       23     1838  ...     WOOD  SHORT          S  WOOD\n",
              "\n",
              "[5 rows x 13 columns]"
            ]
          },
          "metadata": {
            "tags": []
          },
          "execution_count": 53
        }
      ]
    },
    {
      "cell_type": "code",
      "metadata": {
        "id": "uJrYtaW0QVaD",
        "colab_type": "code",
        "colab": {
          "base_uri": "https://localhost:8080/",
          "height": 36
        },
        "outputId": "bc5da5f3-cf3e-49e7-d4a5-a4ff266dafac"
      },
      "source": [
        "median_LENGTH = df.LENGTH.median()\n",
        "print(median_LENGTH)"
      ],
      "execution_count": 59,
      "outputs": [
        {
          "output_type": "stream",
          "text": [
            "1300.0\n"
          ],
          "name": "stdout"
        }
      ]
    },
    {
      "cell_type": "code",
      "metadata": {
        "id": "AXCUgFq-QWbi",
        "colab_type": "code",
        "colab": {
          "base_uri": "https://localhost:8080/",
          "height": 206
        },
        "outputId": "3f00a284-910a-4f91-839d-5fe70d3ab147"
      },
      "source": [
        "df.LENGTH = df.LENGTH.fillna(median_LENGTH)\n",
        "df.head()"
      ],
      "execution_count": 62,
      "outputs": [
        {
          "output_type": "execute_result",
          "data": {
            "text/html": [
              "<div>\n",
              "<style scoped>\n",
              "    .dataframe tbody tr th:only-of-type {\n",
              "        vertical-align: middle;\n",
              "    }\n",
              "\n",
              "    .dataframe tbody tr th {\n",
              "        vertical-align: top;\n",
              "    }\n",
              "\n",
              "    .dataframe thead th {\n",
              "        text-align: right;\n",
              "    }\n",
              "</style>\n",
              "<table border=\"1\" class=\"dataframe\">\n",
              "  <thead>\n",
              "    <tr style=\"text-align: right;\">\n",
              "      <th></th>\n",
              "      <th>IDENTIF</th>\n",
              "      <th>RIVER</th>\n",
              "      <th>LOCATION</th>\n",
              "      <th>ERECTED</th>\n",
              "      <th>PURPOSE</th>\n",
              "      <th>LENGTH</th>\n",
              "      <th>LANES</th>\n",
              "      <th>CLEAR</th>\n",
              "      <th>T_OR_D</th>\n",
              "      <th>MATERIAL</th>\n",
              "      <th>SPAN</th>\n",
              "      <th>REL_LENGTH</th>\n",
              "      <th>TYPE</th>\n",
              "    </tr>\n",
              "  </thead>\n",
              "  <tbody>\n",
              "    <tr>\n",
              "      <th>0</th>\n",
              "      <td>E1</td>\n",
              "      <td>M</td>\n",
              "      <td>3</td>\n",
              "      <td>1818</td>\n",
              "      <td>HIGHWAY</td>\n",
              "      <td>1300.0</td>\n",
              "      <td>2</td>\n",
              "      <td>N</td>\n",
              "      <td>THROUGH</td>\n",
              "      <td>WOOD</td>\n",
              "      <td>SHORT</td>\n",
              "      <td>S</td>\n",
              "      <td>WOOD</td>\n",
              "    </tr>\n",
              "    <tr>\n",
              "      <th>1</th>\n",
              "      <td>E2</td>\n",
              "      <td>A</td>\n",
              "      <td>25</td>\n",
              "      <td>1819</td>\n",
              "      <td>HIGHWAY</td>\n",
              "      <td>1037.0</td>\n",
              "      <td>2</td>\n",
              "      <td>N</td>\n",
              "      <td>THROUGH</td>\n",
              "      <td>WOOD</td>\n",
              "      <td>SHORT</td>\n",
              "      <td>S</td>\n",
              "      <td>WOOD</td>\n",
              "    </tr>\n",
              "    <tr>\n",
              "      <th>2</th>\n",
              "      <td>E3</td>\n",
              "      <td>A</td>\n",
              "      <td>39</td>\n",
              "      <td>1829</td>\n",
              "      <td>AQUEDUCT</td>\n",
              "      <td>1300.0</td>\n",
              "      <td>1</td>\n",
              "      <td>N</td>\n",
              "      <td>THROUGH</td>\n",
              "      <td>WOOD</td>\n",
              "      <td>SHORT</td>\n",
              "      <td>S</td>\n",
              "      <td>WOOD</td>\n",
              "    </tr>\n",
              "    <tr>\n",
              "      <th>3</th>\n",
              "      <td>E5</td>\n",
              "      <td>A</td>\n",
              "      <td>29</td>\n",
              "      <td>1837</td>\n",
              "      <td>HIGHWAY</td>\n",
              "      <td>1000.0</td>\n",
              "      <td>2</td>\n",
              "      <td>N</td>\n",
              "      <td>THROUGH</td>\n",
              "      <td>WOOD</td>\n",
              "      <td>SHORT</td>\n",
              "      <td>S</td>\n",
              "      <td>WOOD</td>\n",
              "    </tr>\n",
              "    <tr>\n",
              "      <th>4</th>\n",
              "      <td>E6</td>\n",
              "      <td>M</td>\n",
              "      <td>23</td>\n",
              "      <td>1838</td>\n",
              "      <td>HIGHWAY</td>\n",
              "      <td>1300.0</td>\n",
              "      <td>2</td>\n",
              "      <td>N</td>\n",
              "      <td>THROUGH</td>\n",
              "      <td>WOOD</td>\n",
              "      <td>SHORT</td>\n",
              "      <td>S</td>\n",
              "      <td>WOOD</td>\n",
              "    </tr>\n",
              "  </tbody>\n",
              "</table>\n",
              "</div>"
            ],
            "text/plain": [
              "  IDENTIF RIVER LOCATION  ERECTED  ... MATERIAL   SPAN REL_LENGTH  TYPE\n",
              "0      E1     M        3     1818  ...     WOOD  SHORT          S  WOOD\n",
              "1      E2     A       25     1819  ...     WOOD  SHORT          S  WOOD\n",
              "2      E3     A       39     1829  ...     WOOD  SHORT          S  WOOD\n",
              "3      E5     A       29     1837  ...     WOOD  SHORT          S  WOOD\n",
              "4      E6     M       23     1838  ...     WOOD  SHORT          S  WOOD\n",
              "\n",
              "[5 rows x 13 columns]"
            ]
          },
          "metadata": {
            "tags": []
          },
          "execution_count": 62
        }
      ]
    },
    {
      "cell_type": "markdown",
      "metadata": {
        "id": "FgY4Cd2YRUK9",
        "colab_type": "text"
      },
      "source": [
        "Lanes"
      ]
    },
    {
      "cell_type": "code",
      "metadata": {
        "id": "aq_1nP7QRFVb",
        "colab_type": "code",
        "colab": {
          "base_uri": "https://localhost:8080/",
          "height": 36
        },
        "outputId": "42ef100a-b8a2-4917-8689-dc30851d0c28"
      },
      "source": [
        "median_LANES = df.LANES.median()\n",
        "print(median_LANES)"
      ],
      "execution_count": 63,
      "outputs": [
        {
          "output_type": "stream",
          "text": [
            "2.0\n"
          ],
          "name": "stdout"
        }
      ]
    },
    {
      "cell_type": "code",
      "metadata": {
        "id": "54Ew0-oBReYD",
        "colab_type": "code",
        "colab": {}
      },
      "source": [
        "df.LANES = df.LANES.fillna(median_LANES)"
      ],
      "execution_count": 0,
      "outputs": []
    },
    {
      "cell_type": "code",
      "metadata": {
        "id": "c6um8TlNRkZj",
        "colab_type": "code",
        "colab": {
          "base_uri": "https://localhost:8080/",
          "height": 279
        },
        "outputId": "dbe05d89-42c3-4370-a61d-e7be582622e7"
      },
      "source": [
        "df.isnull().sum()"
      ],
      "execution_count": 65,
      "outputs": [
        {
          "output_type": "execute_result",
          "data": {
            "text/plain": [
              "IDENTIF       0\n",
              "RIVER         0\n",
              "LOCATION      0\n",
              "ERECTED       0\n",
              "PURPOSE       0\n",
              "LENGTH        0\n",
              "LANES         0\n",
              "CLEAR         0\n",
              "T_OR_D        0\n",
              "MATERIAL      0\n",
              "SPAN          0\n",
              "REL_LENGTH    0\n",
              "TYPE          0\n",
              "dtype: int64"
            ]
          },
          "metadata": {
            "tags": []
          },
          "execution_count": 65
        }
      ]
    },
    {
      "cell_type": "markdown",
      "metadata": {
        "id": "OTba5EDRSFI3",
        "colab_type": "text"
      },
      "source": [
        "Let's make some plots"
      ]
    },
    {
      "cell_type": "code",
      "metadata": {
        "id": "sTTPwmAoRmH0",
        "colab_type": "code",
        "colab": {
          "base_uri": "https://localhost:8080/",
          "height": 283
        },
        "outputId": "51350cca-1766-4d42-94ee-f0a86b73a72c"
      },
      "source": [
        "df.plot.scatter('ERECTED', 'LENGTH');"
      ],
      "execution_count": 67,
      "outputs": [
        {
          "output_type": "display_data",
          "data": {
            "image/png": "[encoded data removed]",
            "text/plain": [
              "<Figure size 432x288 with 1 Axes>"
            ]
          },
          "metadata": {
            "tags": []
          }
        }
      ]
    },
    {
      "cell_type": "code",
      "metadata": {
        "id": "0Css6ifsSN8L",
        "colab_type": "code",
        "colab": {
          "base_uri": "https://localhost:8080/",
          "height": 269
        },
        "outputId": "0f7fbede-9203-4928-b916-355008f0ce6f"
      },
      "source": [
        "df.ERECTED.hist(bins=20); #a bin for each decade"
      ],
      "execution_count": 69,
      "outputs": [
        {
          "output_type": "display_data",
          "data": {
            "image/png": "[encoded data removed]",
            "text/plain": [
              "<Figure size 432x288 with 1 Axes>"
            ]
          },
          "metadata": {
            "tags": []
          }
        }
      ]
    },
    {
      "cell_type": "code",
      "metadata": {
        "id": "gfloBrBSSeOk",
        "colab_type": "code",
        "colab": {
          "base_uri": "https://localhost:8080/",
          "height": 269
        },
        "outputId": "02162a77-9e99-4e42-d204-5fc81017a71b"
      },
      "source": [
        "df.LENGTH.plot.density();"
      ],
      "execution_count": 70,
      "outputs": [
        {
          "output_type": "display_data",
          "data": {
            "image/png": "[encoded data removed]",
            "text/plain": [
              "<Figure size 432x288 with 1 Axes>"
            ]
          },
          "metadata": {
            "tags": []
          }
        }
      ]
    }
  ]
}