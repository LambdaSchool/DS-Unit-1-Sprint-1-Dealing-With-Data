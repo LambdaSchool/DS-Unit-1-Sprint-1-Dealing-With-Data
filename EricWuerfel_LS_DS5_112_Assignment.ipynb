{
  "nbformat": 4,
  "nbformat_minor": 0,
  "metadata": {
    "colab": {
      "name": "EricWuerfel_LS_DS5_112_Assignment.ipynb",
      "version": "0.3.2",
      "provenance": [],
      "include_colab_link": true
    },
    "kernelspec": {
      "name": "python3",
      "display_name": "Python 3"
    }
  },
  "cells": [
    {
      "cell_type": "markdown",
      "metadata": {
        "id": "view-in-github",
        "colab_type": "text"
      },
      "source": [
        "<a href=\"https://colab.research.google.com/github/ewuerfel66/DS-Unit-1-Sprint-1-Dealing-With-Data/blob/master/EricWuerfel_LS_DS5_112_Assignment.ipynb\" target=\"_parent\"><img src=\"https://colab.research.google.com/assets/colab-badge.svg\" alt=\"Open In Colab\"/></a>"
      ]
    },
    {
      "cell_type": "markdown",
      "metadata": {
        "id": "zvDtc-3LrWp-",
        "colab_type": "text"
      },
      "source": [
        "Your assignment - pick a dataset and do something like the above\n",
        "\n",
        "This is purposely open-ended - you can pick any data set you wish. It is highly advised you pick a dataset from UCI or a similar semi-clean source. You don't want the data that you're working with for this assignment to have any bigger issues than maybe not having headers or including missing values, etc.\n",
        "\n",
        "After you have chosen your dataset, do the following:\n",
        "\n",
        "    Import the dataset using the method that you are least comfortable with (!curl or CSV upload).\n",
        "        Make sure that your dataset has the number of rows and columns that you expect.\n",
        "        Make sure that your dataset has appropriate column names, rename them if necessary.\n",
        "        If your dataset uses markers like \"?\" to indicate missing values, replace them with NaNs during import.\n",
        "    Identify and fill missing values in your dataset (if any)\n",
        "        Don't worry about using methods more advanced than the .fillna() function for today.\n",
        "    Create one of each of the following plots using your dataset\n",
        "        Scatterplot\n",
        "        Histogram\n",
        "        Density Plot\n",
        "        Pairplot (note that pairplots will take a long time to load with large datasets or datasets with many columns)\n",
        "\n",
        "If you get that done and want to try more challenging or exotic things, go for it! Use documentation as illustrated above, and follow the 20-minute rule (that is - ask for help if you're stuck!).\n",
        "\n",
        "If you have loaded a few traditional datasets, see the following section for suggested stretch goals."
      ]
    },
    {
      "cell_type": "code",
      "metadata": {
        "id": "1hCSaaYQrcRK",
        "colab_type": "code",
        "colab": {}
      },
      "source": [
        "import pandas as pd\n",
        "from statistics import median, mean"
      ],
      "execution_count": 0,
      "outputs": []
    },
    {
      "cell_type": "code",
      "metadata": {
        "id": "RuTS50tlrzaI",
        "colab_type": "code",
        "colab": {}
      },
      "source": [
        "!curl https://archive.ics.uci.edu/ml/machine-learning-databases/bridges/bridges.data.version1"
      ],
      "execution_count": 0,
      "outputs": []
    },
    {
      "cell_type": "code",
      "metadata": {
        "id": "XrtTb2c9sbun",
        "colab_type": "code",
        "colab": {}
      },
      "source": [
        "!curl https://archive.ics.uci.edu/ml/machine-learning-databases/bridges/bridges.names"
      ],
      "execution_count": 0,
      "outputs": []
    },
    {
      "cell_type": "code",
      "metadata": {
        "id": "4KuD0yJqsEOn",
        "colab_type": "code",
        "colab": {
          "base_uri": "https://localhost:8080/",
          "height": 206
        },
        "outputId": "27cec73d-7ec4-4524-f7e9-3394c1dd0a69"
      },
      "source": [
        "df = pd.read_csv('https://archive.ics.uci.edu/ml/machine-learning-databases/bridges/bridges.data.version1', header = None)\n",
        "df.columns = ['one', 'two', 'three', 'four', 'five', 'six', 'seven', 'eight', 'nine', 'ten', 'eleven', 'twelve', 'thirteen']\n",
        "df.head()"
      ],
      "execution_count": 6,
      "outputs": [
        {
          "output_type": "execute_result",
          "data": {
            "text/html": [
              "<div>\n",
              "<style scoped>\n",
              "    .dataframe tbody tr th:only-of-type {\n",
              "        vertical-align: middle;\n",
              "    }\n",
              "\n",
              "    .dataframe tbody tr th {\n",
              "        vertical-align: top;\n",
              "    }\n",
              "\n",
              "    .dataframe thead th {\n",
              "        text-align: right;\n",
              "    }\n",
              "</style>\n",
              "<table border=\"1\" class=\"dataframe\">\n",
              "  <thead>\n",
              "    <tr style=\"text-align: right;\">\n",
              "      <th></th>\n",
              "      <th>one</th>\n",
              "      <th>two</th>\n",
              "      <th>three</th>\n",
              "      <th>four</th>\n",
              "      <th>five</th>\n",
              "      <th>six</th>\n",
              "      <th>seven</th>\n",
              "      <th>eight</th>\n",
              "      <th>nine</th>\n",
              "      <th>ten</th>\n",
              "      <th>eleven</th>\n",
              "      <th>twelve</th>\n",
              "      <th>thirteen</th>\n",
              "    </tr>\n",
              "  </thead>\n",
              "  <tbody>\n",
              "    <tr>\n",
              "      <th>0</th>\n",
              "      <td>E1</td>\n",
              "      <td>M</td>\n",
              "      <td>3</td>\n",
              "      <td>1818</td>\n",
              "      <td>HIGHWAY</td>\n",
              "      <td>?</td>\n",
              "      <td>2</td>\n",
              "      <td>N</td>\n",
              "      <td>THROUGH</td>\n",
              "      <td>WOOD</td>\n",
              "      <td>SHORT</td>\n",
              "      <td>S</td>\n",
              "      <td>WOOD</td>\n",
              "    </tr>\n",
              "    <tr>\n",
              "      <th>1</th>\n",
              "      <td>E2</td>\n",
              "      <td>A</td>\n",
              "      <td>25</td>\n",
              "      <td>1819</td>\n",
              "      <td>HIGHWAY</td>\n",
              "      <td>1037</td>\n",
              "      <td>2</td>\n",
              "      <td>N</td>\n",
              "      <td>THROUGH</td>\n",
              "      <td>WOOD</td>\n",
              "      <td>SHORT</td>\n",
              "      <td>S</td>\n",
              "      <td>WOOD</td>\n",
              "    </tr>\n",
              "    <tr>\n",
              "      <th>2</th>\n",
              "      <td>E3</td>\n",
              "      <td>A</td>\n",
              "      <td>39</td>\n",
              "      <td>1829</td>\n",
              "      <td>AQUEDUCT</td>\n",
              "      <td>?</td>\n",
              "      <td>1</td>\n",
              "      <td>N</td>\n",
              "      <td>THROUGH</td>\n",
              "      <td>WOOD</td>\n",
              "      <td>?</td>\n",
              "      <td>S</td>\n",
              "      <td>WOOD</td>\n",
              "    </tr>\n",
              "    <tr>\n",
              "      <th>3</th>\n",
              "      <td>E5</td>\n",
              "      <td>A</td>\n",
              "      <td>29</td>\n",
              "      <td>1837</td>\n",
              "      <td>HIGHWAY</td>\n",
              "      <td>1000</td>\n",
              "      <td>2</td>\n",
              "      <td>N</td>\n",
              "      <td>THROUGH</td>\n",
              "      <td>WOOD</td>\n",
              "      <td>SHORT</td>\n",
              "      <td>S</td>\n",
              "      <td>WOOD</td>\n",
              "    </tr>\n",
              "    <tr>\n",
              "      <th>4</th>\n",
              "      <td>E6</td>\n",
              "      <td>M</td>\n",
              "      <td>23</td>\n",
              "      <td>1838</td>\n",
              "      <td>HIGHWAY</td>\n",
              "      <td>?</td>\n",
              "      <td>2</td>\n",
              "      <td>N</td>\n",
              "      <td>THROUGH</td>\n",
              "      <td>WOOD</td>\n",
              "      <td>?</td>\n",
              "      <td>S</td>\n",
              "      <td>WOOD</td>\n",
              "    </tr>\n",
              "  </tbody>\n",
              "</table>\n",
              "</div>"
            ],
            "text/plain": [
              "  one two three  four      five  ...     nine   ten eleven twelve thirteen\n",
              "0  E1   M     3  1818   HIGHWAY  ...  THROUGH  WOOD  SHORT      S     WOOD\n",
              "1  E2   A    25  1819   HIGHWAY  ...  THROUGH  WOOD  SHORT      S     WOOD\n",
              "2  E3   A    39  1829  AQUEDUCT  ...  THROUGH  WOOD      ?      S     WOOD\n",
              "3  E5   A    29  1837   HIGHWAY  ...  THROUGH  WOOD  SHORT      S     WOOD\n",
              "4  E6   M    23  1838   HIGHWAY  ...  THROUGH  WOOD      ?      S     WOOD\n",
              "\n",
              "[5 rows x 13 columns]"
            ]
          },
          "metadata": {
            "tags": []
          },
          "execution_count": 6
        }
      ]
    },
    {
      "cell_type": "code",
      "metadata": {
        "id": "MH2LyLeWwuX0",
        "colab_type": "code",
        "colab": {
          "base_uri": "https://localhost:8080/",
          "height": 279
        },
        "outputId": "560f1922-ddfd-4e3e-84bf-1d957aa83fd1"
      },
      "source": [
        "df.dtypes"
      ],
      "execution_count": 24,
      "outputs": [
        {
          "output_type": "execute_result",
          "data": {
            "text/plain": [
              "one         object\n",
              "two         object\n",
              "three       object\n",
              "four         int64\n",
              "five        object\n",
              "six         object\n",
              "seven       object\n",
              "eight       object\n",
              "nine        object\n",
              "ten         object\n",
              "eleven      object\n",
              "twelve      object\n",
              "thirteen    object\n",
              "dtype: object"
            ]
          },
          "metadata": {
            "tags": []
          },
          "execution_count": 24
        }
      ]
    },
    {
      "cell_type": "code",
      "metadata": {
        "id": "UhnGQH1uso1Y",
        "colab_type": "code",
        "colab": {
          "base_uri": "https://localhost:8080/",
          "height": 36
        },
        "outputId": "94ce449b-00cd-4fc2-be16-732951db5aa2"
      },
      "source": [
        "df.six.loc[0]"
      ],
      "execution_count": 7,
      "outputs": [
        {
          "output_type": "execute_result",
          "data": {
            "text/plain": [
              "'?'"
            ]
          },
          "metadata": {
            "tags": []
          },
          "execution_count": 7
        }
      ]
    },
    {
      "cell_type": "code",
      "metadata": {
        "id": "F9hFk2LwtPev",
        "colab_type": "code",
        "colab": {
          "base_uri": "https://localhost:8080/",
          "height": 206
        },
        "outputId": "f2ad4257-306d-4bfb-c2db-7e73cb39bdfc"
      },
      "source": [
        "df_nan = pd.read_csv('https://archive.ics.uci.edu/ml/machine-learning-databases/bridges/bridges.data.version1', header = None, na_values='?')\n",
        "df_nan.columns = ['one', 'two', 'three', 'four', 'five', 'six', 'seven', 'eight', 'nine', 'ten', 'eleven', 'twelve', 'thirteen']\n",
        "df_nan.head()"
      ],
      "execution_count": 9,
      "outputs": [
        {
          "output_type": "execute_result",
          "data": {
            "text/html": [
              "<div>\n",
              "<style scoped>\n",
              "    .dataframe tbody tr th:only-of-type {\n",
              "        vertical-align: middle;\n",
              "    }\n",
              "\n",
              "    .dataframe tbody tr th {\n",
              "        vertical-align: top;\n",
              "    }\n",
              "\n",
              "    .dataframe thead th {\n",
              "        text-align: right;\n",
              "    }\n",
              "</style>\n",
              "<table border=\"1\" class=\"dataframe\">\n",
              "  <thead>\n",
              "    <tr style=\"text-align: right;\">\n",
              "      <th></th>\n",
              "      <th>one</th>\n",
              "      <th>two</th>\n",
              "      <th>three</th>\n",
              "      <th>four</th>\n",
              "      <th>five</th>\n",
              "      <th>six</th>\n",
              "      <th>seven</th>\n",
              "      <th>eight</th>\n",
              "      <th>nine</th>\n",
              "      <th>ten</th>\n",
              "      <th>eleven</th>\n",
              "      <th>twelve</th>\n",
              "      <th>thirteen</th>\n",
              "    </tr>\n",
              "  </thead>\n",
              "  <tbody>\n",
              "    <tr>\n",
              "      <th>0</th>\n",
              "      <td>E1</td>\n",
              "      <td>M</td>\n",
              "      <td>3.0</td>\n",
              "      <td>1818</td>\n",
              "      <td>HIGHWAY</td>\n",
              "      <td>NaN</td>\n",
              "      <td>2.0</td>\n",
              "      <td>N</td>\n",
              "      <td>THROUGH</td>\n",
              "      <td>WOOD</td>\n",
              "      <td>SHORT</td>\n",
              "      <td>S</td>\n",
              "      <td>WOOD</td>\n",
              "    </tr>\n",
              "    <tr>\n",
              "      <th>1</th>\n",
              "      <td>E2</td>\n",
              "      <td>A</td>\n",
              "      <td>25.0</td>\n",
              "      <td>1819</td>\n",
              "      <td>HIGHWAY</td>\n",
              "      <td>1037.0</td>\n",
              "      <td>2.0</td>\n",
              "      <td>N</td>\n",
              "      <td>THROUGH</td>\n",
              "      <td>WOOD</td>\n",
              "      <td>SHORT</td>\n",
              "      <td>S</td>\n",
              "      <td>WOOD</td>\n",
              "    </tr>\n",
              "    <tr>\n",
              "      <th>2</th>\n",
              "      <td>E3</td>\n",
              "      <td>A</td>\n",
              "      <td>39.0</td>\n",
              "      <td>1829</td>\n",
              "      <td>AQUEDUCT</td>\n",
              "      <td>NaN</td>\n",
              "      <td>1.0</td>\n",
              "      <td>N</td>\n",
              "      <td>THROUGH</td>\n",
              "      <td>WOOD</td>\n",
              "      <td>NaN</td>\n",
              "      <td>S</td>\n",
              "      <td>WOOD</td>\n",
              "    </tr>\n",
              "    <tr>\n",
              "      <th>3</th>\n",
              "      <td>E5</td>\n",
              "      <td>A</td>\n",
              "      <td>29.0</td>\n",
              "      <td>1837</td>\n",
              "      <td>HIGHWAY</td>\n",
              "      <td>1000.0</td>\n",
              "      <td>2.0</td>\n",
              "      <td>N</td>\n",
              "      <td>THROUGH</td>\n",
              "      <td>WOOD</td>\n",
              "      <td>SHORT</td>\n",
              "      <td>S</td>\n",
              "      <td>WOOD</td>\n",
              "    </tr>\n",
              "    <tr>\n",
              "      <th>4</th>\n",
              "      <td>E6</td>\n",
              "      <td>M</td>\n",
              "      <td>23.0</td>\n",
              "      <td>1838</td>\n",
              "      <td>HIGHWAY</td>\n",
              "      <td>NaN</td>\n",
              "      <td>2.0</td>\n",
              "      <td>N</td>\n",
              "      <td>THROUGH</td>\n",
              "      <td>WOOD</td>\n",
              "      <td>NaN</td>\n",
              "      <td>S</td>\n",
              "      <td>WOOD</td>\n",
              "    </tr>\n",
              "  </tbody>\n",
              "</table>\n",
              "</div>"
            ],
            "text/plain": [
              "  one two  three  four      five  ...     nine   ten eleven twelve thirteen\n",
              "0  E1   M    3.0  1818   HIGHWAY  ...  THROUGH  WOOD  SHORT      S     WOOD\n",
              "1  E2   A   25.0  1819   HIGHWAY  ...  THROUGH  WOOD  SHORT      S     WOOD\n",
              "2  E3   A   39.0  1829  AQUEDUCT  ...  THROUGH  WOOD    NaN      S     WOOD\n",
              "3  E5   A   29.0  1837   HIGHWAY  ...  THROUGH  WOOD  SHORT      S     WOOD\n",
              "4  E6   M   23.0  1838   HIGHWAY  ...  THROUGH  WOOD    NaN      S     WOOD\n",
              "\n",
              "[5 rows x 13 columns]"
            ]
          },
          "metadata": {
            "tags": []
          },
          "execution_count": 9
        }
      ]
    },
    {
      "cell_type": "code",
      "metadata": {
        "id": "eXFAOY69trl2",
        "colab_type": "code",
        "colab": {}
      },
      "source": [
        "six_clean = df_nan.six.dropna()\n",
        "six_median = median(six_clean)\n",
        "print(six_median)\n",
        "df_nan.six.fillna(six_median)"
      ],
      "execution_count": 0,
      "outputs": []
    },
    {
      "cell_type": "code",
      "metadata": {
        "id": "_imZov2GvHV4",
        "colab_type": "code",
        "colab": {
          "base_uri": "https://localhost:8080/",
          "height": 283
        },
        "outputId": "947fd0da-948c-49dc-d469-dfb72523ad26"
      },
      "source": [
        "df_nan.plot.scatter('four', 'six');"
      ],
      "execution_count": 21,
      "outputs": [
        {
          "output_type": "display_data",
          "data": {
            "image/png": "[encoded data removed]",
            "text/plain": [
              "<Figure size 432x288 with 1 Axes>"
            ]
          },
          "metadata": {
            "tags": []
          }
        }
      ]
    },
    {
      "cell_type": "code",
      "metadata": {
        "id": "bj5NAc0iwo8H",
        "colab_type": "code",
        "colab": {}
      },
      "source": [
        "df_nan"
      ],
      "execution_count": 0,
      "outputs": []
    }
  ]
}