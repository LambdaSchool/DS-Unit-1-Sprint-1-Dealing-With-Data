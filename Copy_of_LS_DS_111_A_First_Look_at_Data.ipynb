{
  "nbformat": 4,
  "nbformat_minor": 0,
  "metadata": {
    "colab": {
      "name": "Copy of LS_DS_111_A_First_Look_at_Data.ipynb",
      "version": "0.3.2",
      "provenance": [],
      "include_colab_link": true
    },
    "kernelspec": {
      "name": "python3",
      "display_name": "Python 3"
    }
  },
  "cells": [
    {
      "cell_type": "markdown",
      "metadata": {
        "id": "view-in-github",
        "colab_type": "text"
      },
      "source": [
        "<a href=\"https://colab.research.google.com/github/pragmatizt/DS-Unit-1-Sprint-1-Dealing-With-Data/blob/master/Copy_of_LS_DS_111_A_First_Look_at_Data.ipynb\" target=\"_parent\"><img src=\"https://colab.research.google.com/assets/colab-badge.svg\" alt=\"Open In Colab\"/></a>"
      ]
    },
    {
      "cell_type": "markdown",
      "metadata": {
        "id": "Okfr_uhwhS1X",
        "colab_type": "text"
      },
      "source": [
        "# Lambda School Data Science - A First Look at Data\n",
        "\n"
      ]
    },
    {
      "cell_type": "markdown",
      "metadata": {
        "id": "9dtJETFRhnOG",
        "colab_type": "text"
      },
      "source": [
        "## Lecture - let's explore Python DS libraries and examples!\n",
        "\n",
        "The Python Data Science ecosystem is huge. You've seen some of the big pieces - pandas, scikit-learn, matplotlib. What parts do you want to see more of?"
      ]
    },
    {
      "cell_type": "code",
      "metadata": {
        "id": "WiBkgmPJhmhE",
        "colab_type": "code",
        "colab": {}
      },
      "source": [
        "# TODO - we'll be doing this live, taking requests\n",
        "# and reproducing what it is to look up and learn things\n",
        "\n",
        "import numpy as np\n",
        "\n",
        "\n",
        "myList = [50, 42, 82, 100, 202]"
      ],
      "execution_count": 0,
      "outputs": []
    },
    {
      "cell_type": "markdown",
      "metadata": {
        "id": "lOqaPds9huME",
        "colab_type": "text"
      },
      "source": [
        "## Assignment - now it's your turn\n",
        "\n",
        "Pick at least one Python DS library, and using documentation/examples reproduce in this notebook something cool. It's OK if you don't fully understand it or get it 100% working, but do put in effort and look things up."
      ]
    },
    {
      "cell_type": "code",
      "metadata": {
        "id": "TGUS79cOhPWj",
        "colab_type": "code",
        "colab": {}
      },
      "source": [
        "# TODO - your code here\n",
        "# Use what we did live in lecture as an example\n",
        "\n",
        "import pandas as pd\n",
        "import numpy as np\n",
        "\n",
        "# load data set\n"
      ],
      "execution_count": 0,
      "outputs": []
    },
    {
      "cell_type": "code",
      "metadata": {
        "id": "2mo0xmC-lZ9b",
        "colab_type": "code",
        "colab": {
          "resources": {
            "http://localhost:8080/nbextensions/google.colab/files.js": {
              "data": "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",
              "ok": true,
              "headers": [
                [
                  "content-type",
                  "application/javascript"
                ]
              ],
              "status": 200,
              "status_text": ""
            }
          },
          "base_uri": "https://localhost:8080/",
          "height": 75
        },
        "outputId": "61bf219e-4ff6-416f-d26a-3135ffaefe7b"
      },
      "source": [
        "from google.colab import files\n",
        "uploaded = files.upload()"
      ],
      "execution_count": 1,
      "outputs": [
        {
          "output_type": "display_data",
          "data": {
            "text/html": [
              "\n",
              "     <input type=\"file\" id=\"files-21de4f39-d919-4a52-ba87-641b45351a10\" name=\"files[]\" multiple disabled />\n",
              "     <output id=\"result-21de4f39-d919-4a52-ba87-641b45351a10\">\n",
              "      Upload widget is only available when the cell has been executed in the\n",
              "      current browser session. Please rerun this cell to enable.\n",
              "      </output>\n",
              "      <script src=\"/nbextensions/google.colab/files.js\"></script> "
            ],
            "text/plain": [
              "<IPython.core.display.HTML object>"
            ]
          },
          "metadata": {
            "tags": []
          }
        },
        {
          "output_type": "stream",
          "text": [
            "Saving database.csv to database.csv\n"
          ],
          "name": "stdout"
        }
      ]
    },
    {
      "cell_type": "code",
      "metadata": {
        "id": "CeL4SOb6l7hQ",
        "colab_type": "code",
        "colab": {
          "base_uri": "https://localhost:8080/",
          "height": 341
        },
        "outputId": "e06fc4d1-66f4-4be3-d776-5b6362515954"
      },
      "source": [
        "df = pd.read_csv(\"database.csv\")\n",
        "df.head()"
      ],
      "execution_count": 7,
      "outputs": [
        {
          "output_type": "execute_result",
          "data": {
            "text/html": [
              "<div>\n",
              "<style scoped>\n",
              "    .dataframe tbody tr th:only-of-type {\n",
              "        vertical-align: middle;\n",
              "    }\n",
              "\n",
              "    .dataframe tbody tr th {\n",
              "        vertical-align: top;\n",
              "    }\n",
              "\n",
              "    .dataframe thead th {\n",
              "        text-align: right;\n",
              "    }\n",
              "</style>\n",
              "<table border=\"1\" class=\"dataframe\">\n",
              "  <thead>\n",
              "    <tr style=\"text-align: right;\">\n",
              "      <th></th>\n",
              "      <th>Flight Number</th>\n",
              "      <th>Launch Date</th>\n",
              "      <th>Launch Time</th>\n",
              "      <th>Launch Site</th>\n",
              "      <th>Vehicle Type</th>\n",
              "      <th>Payload Name</th>\n",
              "      <th>Payload Type</th>\n",
              "      <th>Payload Mass (kg)</th>\n",
              "      <th>Payload Orbit</th>\n",
              "      <th>Customer Name</th>\n",
              "      <th>Customer Type</th>\n",
              "      <th>Customer Country</th>\n",
              "      <th>Mission Outcome</th>\n",
              "      <th>Failure Reason</th>\n",
              "      <th>Landing Type</th>\n",
              "      <th>Landing Outcome</th>\n",
              "    </tr>\n",
              "  </thead>\n",
              "  <tbody>\n",
              "    <tr>\n",
              "      <th>0</th>\n",
              "      <td>F1-1</td>\n",
              "      <td>24 March 2006</td>\n",
              "      <td>22:30</td>\n",
              "      <td>Marshall Islands</td>\n",
              "      <td>Falcon 1</td>\n",
              "      <td>FalconSAT-2</td>\n",
              "      <td>Research Satellite</td>\n",
              "      <td>19.5</td>\n",
              "      <td>NaN</td>\n",
              "      <td>DARPA</td>\n",
              "      <td>Government</td>\n",
              "      <td>United States</td>\n",
              "      <td>Failure</td>\n",
              "      <td>Engine Fire During Launch</td>\n",
              "      <td>NaN</td>\n",
              "      <td>NaN</td>\n",
              "    </tr>\n",
              "    <tr>\n",
              "      <th>1</th>\n",
              "      <td>F1-2</td>\n",
              "      <td>21 March 2007</td>\n",
              "      <td>01:10</td>\n",
              "      <td>Marshall Islands</td>\n",
              "      <td>Falcon 1</td>\n",
              "      <td>DemoSat</td>\n",
              "      <td>NaN</td>\n",
              "      <td>NaN</td>\n",
              "      <td>NaN</td>\n",
              "      <td>DARPA</td>\n",
              "      <td>Government</td>\n",
              "      <td>United States</td>\n",
              "      <td>Failure</td>\n",
              "      <td>Engine Shutdown During Launch</td>\n",
              "      <td>NaN</td>\n",
              "      <td>NaN</td>\n",
              "    </tr>\n",
              "    <tr>\n",
              "      <th>2</th>\n",
              "      <td>F1-3</td>\n",
              "      <td>3 August 2008</td>\n",
              "      <td>03:34</td>\n",
              "      <td>Marshall Islands</td>\n",
              "      <td>Falcon 1</td>\n",
              "      <td>Trailblazer</td>\n",
              "      <td>Communication Satellite</td>\n",
              "      <td>NaN</td>\n",
              "      <td>NaN</td>\n",
              "      <td>ORS</td>\n",
              "      <td>Government</td>\n",
              "      <td>United States</td>\n",
              "      <td>Failure</td>\n",
              "      <td>Collision During Launch</td>\n",
              "      <td>NaN</td>\n",
              "      <td>NaN</td>\n",
              "    </tr>\n",
              "    <tr>\n",
              "      <th>3</th>\n",
              "      <td>F1-3</td>\n",
              "      <td>3 August 2008</td>\n",
              "      <td>03:34</td>\n",
              "      <td>Marshall Islands</td>\n",
              "      <td>Falcon 1</td>\n",
              "      <td>PRESat, NanoSail-D</td>\n",
              "      <td>Research Satellites</td>\n",
              "      <td>8.0</td>\n",
              "      <td>NaN</td>\n",
              "      <td>NASA</td>\n",
              "      <td>Government</td>\n",
              "      <td>United States</td>\n",
              "      <td>Failure</td>\n",
              "      <td>Collision During Launch</td>\n",
              "      <td>NaN</td>\n",
              "      <td>NaN</td>\n",
              "    </tr>\n",
              "    <tr>\n",
              "      <th>4</th>\n",
              "      <td>F1-3</td>\n",
              "      <td>3 August 2008</td>\n",
              "      <td>03:34</td>\n",
              "      <td>Marshall Islands</td>\n",
              "      <td>Falcon 1</td>\n",
              "      <td>Explorers</td>\n",
              "      <td>Human Remains</td>\n",
              "      <td>NaN</td>\n",
              "      <td>NaN</td>\n",
              "      <td>Celestis</td>\n",
              "      <td>Business</td>\n",
              "      <td>United States</td>\n",
              "      <td>Failure</td>\n",
              "      <td>Collision During Launch</td>\n",
              "      <td>NaN</td>\n",
              "      <td>NaN</td>\n",
              "    </tr>\n",
              "  </tbody>\n",
              "</table>\n",
              "</div>"
            ],
            "text/plain": [
              "  Flight Number    Launch Date  ... Landing Type Landing Outcome\n",
              "0          F1-1  24 March 2006  ...          NaN             NaN\n",
              "1          F1-2  21 March 2007  ...          NaN             NaN\n",
              "2          F1-3  3 August 2008  ...          NaN             NaN\n",
              "3          F1-3  3 August 2008  ...          NaN             NaN\n",
              "4          F1-3  3 August 2008  ...          NaN             NaN\n",
              "\n",
              "[5 rows x 16 columns]"
            ]
          },
          "metadata": {
            "tags": []
          },
          "execution_count": 7
        }
      ]
    },
    {
      "cell_type": "code",
      "metadata": {
        "id": "pJHjdIdWmO8U",
        "colab_type": "code",
        "colab": {
          "base_uri": "https://localhost:8080/",
          "height": 35
        },
        "outputId": "33701004-d8ce-476e-f25e-331a1ce1aede"
      },
      "source": [
        "print(df.shape)"
      ],
      "execution_count": 9,
      "outputs": [
        {
          "output_type": "stream",
          "text": [
            "(41, 16)\n"
          ],
          "name": "stdout"
        }
      ]
    },
    {
      "cell_type": "code",
      "metadata": {
        "id": "WIMIyskymwyt",
        "colab_type": "code",
        "colab": {
          "base_uri": "https://localhost:8080/",
          "height": 312
        },
        "outputId": "6c1c5555-d334-4e7b-c623-66d904e898af"
      },
      "source": [
        "print(df.dtypes)"
      ],
      "execution_count": 10,
      "outputs": [
        {
          "output_type": "stream",
          "text": [
            "Flight Number         object\n",
            "Launch Date           object\n",
            "Launch Time           object\n",
            "Launch Site           object\n",
            "Vehicle Type          object\n",
            "Payload Name          object\n",
            "Payload Type          object\n",
            "Payload Mass (kg)    float64\n",
            "Payload Orbit         object\n",
            "Customer Name         object\n",
            "Customer Type         object\n",
            "Customer Country      object\n",
            "Mission Outcome       object\n",
            "Failure Reason        object\n",
            "Landing Type          object\n",
            "Landing Outcome       object\n",
            "dtype: object\n"
          ],
          "name": "stdout"
        }
      ]
    },
    {
      "cell_type": "code",
      "metadata": {
        "id": "R-QTBpiYm3eS",
        "colab_type": "code",
        "colab": {}
      },
      "source": [
        "print(df.describe)"
      ],
      "execution_count": 0,
      "outputs": []
    },
    {
      "cell_type": "code",
      "metadata": {
        "id": "uMfxodXFnBcB",
        "colab_type": "code",
        "colab": {
          "base_uri": "https://localhost:8080/",
          "height": 104
        },
        "outputId": "2a74db4e-899f-4475-f0a3-d050567a8681"
      },
      "source": [
        "# df['Vehicle Type'] <--- used this to learn how to isolate single columns.\n",
        "# df.columns below to see the column names.  \n",
        "df.columns"
      ],
      "execution_count": 17,
      "outputs": [
        {
          "output_type": "execute_result",
          "data": {
            "text/plain": [
              "Index(['Flight Number', 'Launch Date', 'Launch Time', 'Launch Site',\n",
              "       'Vehicle Type', 'Payload Name', 'Payload Type', 'Payload Mass (kg)',\n",
              "       'Payload Orbit', 'Customer Name', 'Customer Type', 'Customer Country',\n",
              "       'Mission Outcome', 'Failure Reason', 'Landing Type', 'Landing Outcome'],\n",
              "      dtype='object')"
            ]
          },
          "metadata": {
            "tags": []
          },
          "execution_count": 17
        }
      ]
    },
    {
      "cell_type": "code",
      "metadata": {
        "id": "PW9xhOtas0BW",
        "colab_type": "code",
        "colab": {
          "base_uri": "https://localhost:8080/",
          "height": 1000
        },
        "outputId": "f8edf793-ab2c-4ec7-f0b9-11de582f0976"
      },
      "source": [
        "df[['Vehicle Type', 'Customer Name', 'Payload Type']]"
      ],
      "execution_count": 20,
      "outputs": [
        {
          "output_type": "execute_result",
          "data": {
            "text/html": [
              "<div>\n",
              "<style scoped>\n",
              "    .dataframe tbody tr th:only-of-type {\n",
              "        vertical-align: middle;\n",
              "    }\n",
              "\n",
              "    .dataframe tbody tr th {\n",
              "        vertical-align: top;\n",
              "    }\n",
              "\n",
              "    .dataframe thead th {\n",
              "        text-align: right;\n",
              "    }\n",
              "</style>\n",
              "<table border=\"1\" class=\"dataframe\">\n",
              "  <thead>\n",
              "    <tr style=\"text-align: right;\">\n",
              "      <th></th>\n",
              "      <th>Vehicle Type</th>\n",
              "      <th>Customer Name</th>\n",
              "      <th>Payload Type</th>\n",
              "    </tr>\n",
              "  </thead>\n",
              "  <tbody>\n",
              "    <tr>\n",
              "      <th>0</th>\n",
              "      <td>Falcon 1</td>\n",
              "      <td>DARPA</td>\n",
              "      <td>Research Satellite</td>\n",
              "    </tr>\n",
              "    <tr>\n",
              "      <th>1</th>\n",
              "      <td>Falcon 1</td>\n",
              "      <td>DARPA</td>\n",
              "      <td>NaN</td>\n",
              "    </tr>\n",
              "    <tr>\n",
              "      <th>2</th>\n",
              "      <td>Falcon 1</td>\n",
              "      <td>ORS</td>\n",
              "      <td>Communication Satellite</td>\n",
              "    </tr>\n",
              "    <tr>\n",
              "      <th>3</th>\n",
              "      <td>Falcon 1</td>\n",
              "      <td>NASA</td>\n",
              "      <td>Research Satellites</td>\n",
              "    </tr>\n",
              "    <tr>\n",
              "      <th>4</th>\n",
              "      <td>Falcon 1</td>\n",
              "      <td>Celestis</td>\n",
              "      <td>Human Remains</td>\n",
              "    </tr>\n",
              "    <tr>\n",
              "      <th>5</th>\n",
              "      <td>Falcon 1</td>\n",
              "      <td>NaN</td>\n",
              "      <td>NaN</td>\n",
              "    </tr>\n",
              "    <tr>\n",
              "      <th>6</th>\n",
              "      <td>Falcon 1</td>\n",
              "      <td>ATSB</td>\n",
              "      <td>Weather Satellite</td>\n",
              "    </tr>\n",
              "    <tr>\n",
              "      <th>7</th>\n",
              "      <td>Falcon 9 (v1.0)</td>\n",
              "      <td>NaN</td>\n",
              "      <td>NaN</td>\n",
              "    </tr>\n",
              "    <tr>\n",
              "      <th>8</th>\n",
              "      <td>Falcon 9 (v1.0)</td>\n",
              "      <td>NASA</td>\n",
              "      <td>Space Station Supplies</td>\n",
              "    </tr>\n",
              "    <tr>\n",
              "      <th>9</th>\n",
              "      <td>Falcon 9 (v1.0)</td>\n",
              "      <td>NASA</td>\n",
              "      <td>Space Station Supplies</td>\n",
              "    </tr>\n",
              "    <tr>\n",
              "      <th>10</th>\n",
              "      <td>Falcon 9 (v1.0)</td>\n",
              "      <td>NASA</td>\n",
              "      <td>Space Station Supplies</td>\n",
              "    </tr>\n",
              "    <tr>\n",
              "      <th>11</th>\n",
              "      <td>Falcon 9 (v1.0)</td>\n",
              "      <td>Orbcomm</td>\n",
              "      <td>Communication Satellite</td>\n",
              "    </tr>\n",
              "    <tr>\n",
              "      <th>12</th>\n",
              "      <td>Falcon 9 (v1.0)</td>\n",
              "      <td>NASA</td>\n",
              "      <td>Space Station Supplies</td>\n",
              "    </tr>\n",
              "    <tr>\n",
              "      <th>13</th>\n",
              "      <td>Falcon 9 (v1.1)</td>\n",
              "      <td>MDA Corp</td>\n",
              "      <td>Communication/Research Satellite</td>\n",
              "    </tr>\n",
              "    <tr>\n",
              "      <th>14</th>\n",
              "      <td>Falcon 9 (v1.1)</td>\n",
              "      <td>SES</td>\n",
              "      <td>Communication Satellite</td>\n",
              "    </tr>\n",
              "    <tr>\n",
              "      <th>15</th>\n",
              "      <td>Falcon 9 (v1.1)</td>\n",
              "      <td>Thaicom</td>\n",
              "      <td>Communication Satellite</td>\n",
              "    </tr>\n",
              "    <tr>\n",
              "      <th>16</th>\n",
              "      <td>Falcon 9 (v1.1)</td>\n",
              "      <td>NASA</td>\n",
              "      <td>Space Station Supplies</td>\n",
              "    </tr>\n",
              "    <tr>\n",
              "      <th>17</th>\n",
              "      <td>Falcon 9 (v1.1)</td>\n",
              "      <td>Orbcomm</td>\n",
              "      <td>Communication Satellite</td>\n",
              "    </tr>\n",
              "    <tr>\n",
              "      <th>18</th>\n",
              "      <td>Falcon 9 (v1.1)</td>\n",
              "      <td>AsiaSat</td>\n",
              "      <td>Communication Satellite</td>\n",
              "    </tr>\n",
              "    <tr>\n",
              "      <th>19</th>\n",
              "      <td>Falcon 9 (v1.1)</td>\n",
              "      <td>AsiaSat</td>\n",
              "      <td>Communication Satellite</td>\n",
              "    </tr>\n",
              "    <tr>\n",
              "      <th>20</th>\n",
              "      <td>Falcon 9 (v1.1)</td>\n",
              "      <td>NASA</td>\n",
              "      <td>Space Station Supplies</td>\n",
              "    </tr>\n",
              "    <tr>\n",
              "      <th>21</th>\n",
              "      <td>Falcon 9 (v1.1)</td>\n",
              "      <td>NASA</td>\n",
              "      <td>Space Station Supplies</td>\n",
              "    </tr>\n",
              "    <tr>\n",
              "      <th>22</th>\n",
              "      <td>Falcon 9 (v1.1)</td>\n",
              "      <td>US Air Force; NASA; NOAA</td>\n",
              "      <td>Weather Satellite</td>\n",
              "    </tr>\n",
              "    <tr>\n",
              "      <th>23</th>\n",
              "      <td>Falcon 9 (v1.1)</td>\n",
              "      <td>Asia Broadcast Satellite</td>\n",
              "      <td>Communication Satellite</td>\n",
              "    </tr>\n",
              "    <tr>\n",
              "      <th>24</th>\n",
              "      <td>Falcon 9 (v1.1)</td>\n",
              "      <td>Eutelsat (Satmex)</td>\n",
              "      <td>Communication Satellite</td>\n",
              "    </tr>\n",
              "    <tr>\n",
              "      <th>25</th>\n",
              "      <td>Falcon 9 (v1.1)</td>\n",
              "      <td>NASA</td>\n",
              "      <td>Space Station Supplies</td>\n",
              "    </tr>\n",
              "    <tr>\n",
              "      <th>26</th>\n",
              "      <td>Falcon 9 (v1.1)</td>\n",
              "      <td>Turkmenistan NSA</td>\n",
              "      <td>Communication Satellite</td>\n",
              "    </tr>\n",
              "    <tr>\n",
              "      <th>27</th>\n",
              "      <td>Falcon 9 (v1.1)</td>\n",
              "      <td>NASA</td>\n",
              "      <td>Space Station Supplies</td>\n",
              "    </tr>\n",
              "    <tr>\n",
              "      <th>28</th>\n",
              "      <td>Falcon 9 Full Thrust (v1.2)</td>\n",
              "      <td>Orbcomm</td>\n",
              "      <td>Communication Satellite</td>\n",
              "    </tr>\n",
              "    <tr>\n",
              "      <th>29</th>\n",
              "      <td>Falcon 9 (v1.1)</td>\n",
              "      <td>NASA; NOAA; CNES</td>\n",
              "      <td>Weather Satellite</td>\n",
              "    </tr>\n",
              "    <tr>\n",
              "      <th>30</th>\n",
              "      <td>Falcon 9 Full Thrust (v1.2)</td>\n",
              "      <td>SES</td>\n",
              "      <td>Communication Satellite</td>\n",
              "    </tr>\n",
              "    <tr>\n",
              "      <th>31</th>\n",
              "      <td>Falcon 9 Full Thrust (v1.2)</td>\n",
              "      <td>NASA</td>\n",
              "      <td>Space Station Supplies</td>\n",
              "    </tr>\n",
              "    <tr>\n",
              "      <th>32</th>\n",
              "      <td>Falcon 9 Full Thrust (v1.2)</td>\n",
              "      <td>SKY Perfect JSAT Group</td>\n",
              "      <td>Communication Satellite</td>\n",
              "    </tr>\n",
              "    <tr>\n",
              "      <th>33</th>\n",
              "      <td>Falcon 9 Full Thrust (v1.2)</td>\n",
              "      <td>Thaicom</td>\n",
              "      <td>Communication Satellite</td>\n",
              "    </tr>\n",
              "    <tr>\n",
              "      <th>34</th>\n",
              "      <td>Falcon 9 Full Thrust (v1.2)</td>\n",
              "      <td>Asia Broadcast Satellite</td>\n",
              "      <td>Communication Satellite</td>\n",
              "    </tr>\n",
              "    <tr>\n",
              "      <th>35</th>\n",
              "      <td>Falcon 9 Full Thrust (v1.2)</td>\n",
              "      <td>Eutelsat (Satmex)</td>\n",
              "      <td>Communication Satellite</td>\n",
              "    </tr>\n",
              "    <tr>\n",
              "      <th>36</th>\n",
              "      <td>Falcon 9 Full Thrust (v1.2)</td>\n",
              "      <td>NASA</td>\n",
              "      <td>Space Station Supplies</td>\n",
              "    </tr>\n",
              "    <tr>\n",
              "      <th>37</th>\n",
              "      <td>Falcon 9 Full Thrust (v1.2)</td>\n",
              "      <td>SKY Perfect JSAT Group</td>\n",
              "      <td>Communication Satellite</td>\n",
              "    </tr>\n",
              "    <tr>\n",
              "      <th>38</th>\n",
              "      <td>Falcon 9 Full Thrust (v1.2)</td>\n",
              "      <td>Spacecom</td>\n",
              "      <td>Communication Satellite</td>\n",
              "    </tr>\n",
              "    <tr>\n",
              "      <th>39</th>\n",
              "      <td>Falcon 9 Full Thrust (v1.2)</td>\n",
              "      <td>Iridium Communications</td>\n",
              "      <td>Communication Satellite</td>\n",
              "    </tr>\n",
              "    <tr>\n",
              "      <th>40</th>\n",
              "      <td>Falcon 9 Full Thrust (v1.2)</td>\n",
              "      <td>NASA</td>\n",
              "      <td>Space Station Supplies</td>\n",
              "    </tr>\n",
              "  </tbody>\n",
              "</table>\n",
              "</div>"
            ],
            "text/plain": [
              "                   Vehicle Type  ...                      Payload Type\n",
              "0                      Falcon 1  ...                Research Satellite\n",
              "1                      Falcon 1  ...                               NaN\n",
              "2                      Falcon 1  ...           Communication Satellite\n",
              "3                      Falcon 1  ...               Research Satellites\n",
              "4                      Falcon 1  ...                     Human Remains\n",
              "5                      Falcon 1  ...                               NaN\n",
              "6                      Falcon 1  ...                 Weather Satellite\n",
              "7               Falcon 9 (v1.0)  ...                               NaN\n",
              "8               Falcon 9 (v1.0)  ...            Space Station Supplies\n",
              "9               Falcon 9 (v1.0)  ...            Space Station Supplies\n",
              "10              Falcon 9 (v1.0)  ...            Space Station Supplies\n",
              "11              Falcon 9 (v1.0)  ...           Communication Satellite\n",
              "12              Falcon 9 (v1.0)  ...            Space Station Supplies\n",
              "13              Falcon 9 (v1.1)  ...  Communication/Research Satellite\n",
              "14              Falcon 9 (v1.1)  ...           Communication Satellite\n",
              "15              Falcon 9 (v1.1)  ...           Communication Satellite\n",
              "16              Falcon 9 (v1.1)  ...            Space Station Supplies\n",
              "17              Falcon 9 (v1.1)  ...           Communication Satellite\n",
              "18              Falcon 9 (v1.1)  ...           Communication Satellite\n",
              "19              Falcon 9 (v1.1)  ...           Communication Satellite\n",
              "20              Falcon 9 (v1.1)  ...            Space Station Supplies\n",
              "21              Falcon 9 (v1.1)  ...            Space Station Supplies\n",
              "22              Falcon 9 (v1.1)  ...                 Weather Satellite\n",
              "23              Falcon 9 (v1.1)  ...           Communication Satellite\n",
              "24              Falcon 9 (v1.1)  ...           Communication Satellite\n",
              "25              Falcon 9 (v1.1)  ...            Space Station Supplies\n",
              "26              Falcon 9 (v1.1)  ...           Communication Satellite\n",
              "27              Falcon 9 (v1.1)  ...            Space Station Supplies\n",
              "28  Falcon 9 Full Thrust (v1.2)  ...           Communication Satellite\n",
              "29              Falcon 9 (v1.1)  ...                 Weather Satellite\n",
              "30  Falcon 9 Full Thrust (v1.2)  ...           Communication Satellite\n",
              "31  Falcon 9 Full Thrust (v1.2)  ...            Space Station Supplies\n",
              "32  Falcon 9 Full Thrust (v1.2)  ...           Communication Satellite\n",
              "33  Falcon 9 Full Thrust (v1.2)  ...           Communication Satellite\n",
              "34  Falcon 9 Full Thrust (v1.2)  ...           Communication Satellite\n",
              "35  Falcon 9 Full Thrust (v1.2)  ...           Communication Satellite\n",
              "36  Falcon 9 Full Thrust (v1.2)  ...            Space Station Supplies\n",
              "37  Falcon 9 Full Thrust (v1.2)  ...           Communication Satellite\n",
              "38  Falcon 9 Full Thrust (v1.2)  ...           Communication Satellite\n",
              "39  Falcon 9 Full Thrust (v1.2)  ...           Communication Satellite\n",
              "40  Falcon 9 Full Thrust (v1.2)  ...            Space Station Supplies\n",
              "\n",
              "[41 rows x 3 columns]"
            ]
          },
          "metadata": {
            "tags": []
          },
          "execution_count": 20
        }
      ]
    },
    {
      "cell_type": "markdown",
      "metadata": {
        "id": "BT9gdS7viJZa",
        "colab_type": "text"
      },
      "source": [
        "### Assignment questions\n",
        "\n",
        "After you've worked on some code, answer the following questions in this text block:\n",
        "\n",
        "1.  Describe in a paragraph of text what you did and why, as if you were writing an email to somebody interested but nontechnical.\n",
        "\n",
        "2.  What was the most challenging part of what you did?\n",
        "\n",
        "3.  What was the most interesting thing you learned?\n",
        "\n",
        "4.  What area would you like to explore with more time?\n",
        "\n",
        "\n"
      ]
    },
    {
      "cell_type": "markdown",
      "metadata": {
        "id": "HQ-4CCYiuhsc",
        "colab_type": "text"
      },
      "source": [
        "**Assignment Answers**\n",
        "\n",
        "1.   I pulled a dataset I found on Kaggle relating to SpaceX launches from 2006 to 2017.  Once I uploaded the .csv file to be read on Colab, I ran a few commands to get an idea on what sort of information is available, the amount of data, the shape of the data set, etc.\n",
        "2.   The most challenging part was taking the baby steps to get the file uploaded.  Some of the initial datasets I found on Kaggle were a bit too complicated, so I chose something simpler to get a better understanding of the process.\n",
        "3.   Being able to narrow down on a specific column.  The dataset included 16 columns, so I was able to pick three that I found interesting: the types of launch vehicles used, who the customers were for this launches, as well as the type of payload.\n",
        "4.   I ran out of time, but I'd love to be able to run a command that returns to me:  the count of each discrete variable across the three columns, and then make a histogram out of that information.\n",
        "\n",
        "\n",
        "\n"
      ]
    },
    {
      "cell_type": "markdown",
      "metadata": {
        "id": "_XXg2crAipwP",
        "colab_type": "text"
      },
      "source": [
        "## Stretch goals and resources\n",
        "\n",
        "Following are *optional* things for you to take a look at. Focus on the above assignment first, and make sure to commit and push your changes to GitHub (and since this is the first assignment of the sprint, open a PR as well).\n",
        "\n",
        "- [pandas documentation](https://pandas.pydata.org/pandas-docs/stable/)\n",
        "- [scikit-learn documentation](http://scikit-learn.org/stable/documentation.html)\n",
        "- [matplotlib documentation](https://matplotlib.org/contents.html)\n",
        "- [Awesome Data Science](https://github.com/bulutyazilim/awesome-datascience) - a list of many types of DS resources\n",
        "\n",
        "Stretch goals:\n",
        "\n",
        "- Find and read blogs, walkthroughs, and other examples of people working through cool things with data science - and share with your classmates!\n",
        "- Write a blog post (Medium is a popular place to publish) introducing yourself as somebody learning data science, and talking about what you've learned already and what you're excited to learn more about."
      ]
    }
  ]
}