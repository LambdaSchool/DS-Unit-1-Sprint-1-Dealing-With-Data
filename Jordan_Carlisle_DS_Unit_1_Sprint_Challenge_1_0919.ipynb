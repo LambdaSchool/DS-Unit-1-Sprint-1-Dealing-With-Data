{
  "nbformat": 4,
  "nbformat_minor": 0,
  "metadata": {
    "colab": {
      "name": "Jordan_Carlisle_DS_Unit_1_Sprint_Challenge_1_0919.ipynb",
      "version": "0.3.2",
      "provenance": [],
      "collapsed_sections": [],
      "include_colab_link": true
    },
    "kernelspec": {
      "name": "python3",
      "display_name": "Python 3"
    }
  },
  "cells": [
    {
      "cell_type": "markdown",
      "metadata": {
        "id": "view-in-github",
        "colab_type": "text"
      },
      "source": [
        "<a href=\"https://colab.research.google.com/github/jordantcarlisle/DS-Unit-1-Sprint-1-Dealing-With-Data/blob/master/Jordan_Carlisle_DS_Unit_1_Sprint_Challenge_1_0919.ipynb\" target=\"_parent\"><img src=\"https://colab.research.google.com/assets/colab-badge.svg\" alt=\"Open In Colab\"/></a>"
      ]
    },
    {
      "cell_type": "markdown",
      "metadata": {
        "id": "NooAiTdnafkz",
        "colab_type": "text"
      },
      "source": [
        "# Data Science Unit 1 Sprint Challenge 1\n",
        "\n",
        "## Loading, cleaning, visualizing, and analyzing data\n",
        "\n",
        "In this sprint challenge you will look at a dataset of the survival of patients who underwent surgery for breast cancer.\n",
        "\n",
        "http://archive.ics.uci.edu/ml/datasets/Haberman%27s+Survival\n",
        "\n",
        "Data Set Information:\n",
        "The dataset contains cases from a study that was conducted between 1958 and 1970 at the University of Chicago's Billings Hospital on the survival of patients who had undergone surgery for breast cancer.\n",
        "\n",
        "Attribute Information:\n",
        "1. Age of patient at time of operation (numerical)\n",
        "2. Patient's year of operation (year - 1900, numerical)\n",
        "3. Number of positive axillary nodes detected (numerical)\n",
        "4. Survival status (class attribute)\n",
        "-- 1 = the patient survived 5 years or longer\n",
        "-- 2 = the patient died within 5 year\n",
        "\n",
        "Sprint challenges are evaluated based on satisfactory completion of each part. It is suggested you work through it in order, getting each aspect reasonably working, before trying to deeply explore, iterate, or refine any given step. Once you get to the end, if you want to go back and improve things, go for it!"
      ]
    },
    {
      "cell_type": "markdown",
      "metadata": {
        "id": "DUjOBLFAr3A5",
        "colab_type": "text"
      },
      "source": [
        "## Part 0 - Revert your version of Pandas right from the start\n",
        "I don't want any of you to get stuck because of Pandas bugs, so right from the get-go revert back to version `0.23.4`\n",
        "- Run the cell below\n",
        "- Then restart your runtime. Go to `Runtime`  ->  `Restart runtime...` in the top menu (or click the \"RESTART RUNTIME\" button that shows up in the output of the cell below).\n"
      ]
    },
    {
      "cell_type": "code",
      "metadata": {
        "id": "PWq6GbkjsRYQ",
        "colab_type": "code",
        "outputId": "43cb3d6d-7109-4ebd-9ea5-ad91e5eb93fd",
        "colab": {
          "base_uri": "https://localhost:8080/",
          "height": 341
        }
      },
      "source": [
        "!pip install pandas==0.23.4"
      ],
      "execution_count": 71,
      "outputs": [
        {
          "output_type": "stream",
          "text": [
            "Collecting pandas==0.23.4\n",
            "\u001b[?25l  Downloading https://files.pythonhosted.org/packages/e1/d8/feeb346d41f181e83fba45224ab14a8d8af019b48af742e047f3845d8cff/pandas-0.23.4-cp36-cp36m-manylinux1_x86_64.whl (8.9MB)\n",
            "\u001b[K     |████████████████████████████████| 8.9MB 2.7MB/s \n",
            "\u001b[?25hRequirement already satisfied: numpy>=1.9.0 in /usr/local/lib/python3.6/dist-packages (from pandas==0.23.4) (1.16.5)\n",
            "Requirement already satisfied: pytz>=2011k in /usr/local/lib/python3.6/dist-packages (from pandas==0.23.4) (2018.9)\n",
            "Requirement already satisfied: python-dateutil>=2.5.0 in /usr/local/lib/python3.6/dist-packages (from pandas==0.23.4) (2.5.3)\n",
            "Requirement already satisfied: six>=1.5 in /usr/local/lib/python3.6/dist-packages (from python-dateutil>=2.5.0->pandas==0.23.4) (1.12.0)\n",
            "\u001b[31mERROR: google-colab 1.0.0 has requirement pandas~=0.24.0, but you'll have pandas 0.23.4 which is incompatible.\u001b[0m\n",
            "Installing collected packages: pandas\n",
            "  Found existing installation: pandas 0.24.2\n",
            "    Uninstalling pandas-0.24.2:\n",
            "      Successfully uninstalled pandas-0.24.2\n",
            "Successfully installed pandas-0.23.4\n"
          ],
          "name": "stdout"
        },
        {
          "output_type": "display_data",
          "data": {
            "application/vnd.colab-display-data+json": {
              "pip_warning": {
                "packages": [
                  "pandas"
                ]
              }
            }
          },
          "metadata": {
            "tags": []
          }
        }
      ]
    },
    {
      "cell_type": "markdown",
      "metadata": {
        "id": "5wch6ksCbJtZ",
        "colab_type": "text"
      },
      "source": [
        "## Part 1 - Load and validate the data\n",
        "\n",
        "- ✅ Load the data as a `pandas` data frame.\n",
        "- ✅ Validate that it has the appropriate number of observations (you can check the raw file, and also read the dataset description from UCI).\n",
        "- ✅ Validate that you have no missing values.\n",
        "- ✅ Add informative names to the features.\n",
        "- ✅  The survival variable is encoded as 1 for surviving >5 years and 2 for not - change this to be 0 for not surviving and 1 for surviving >5 years (0/1 is a more traditional encoding of binary variables)\n",
        "\n",
        "At the end, print the first five rows of the dataset to demonstrate the above."
      ]
    },
    {
      "cell_type": "code",
      "metadata": {
        "id": "287TpoGKFRVK",
        "colab_type": "code",
        "outputId": "5b9c117f-19d7-4478-a962-a436a8feda49",
        "colab": {
          "base_uri": "https://localhost:8080/",
          "height": 195
        }
      },
      "source": [
        "# TODO\n",
        "import pandas as pd\n",
        "breast_cancer_url = \"http://archive.ics.uci.edu/ml/machine-learning-databases/haberman/haberman.data\"\n",
        "\n",
        "#adding descriptive header names\n",
        "column_headers = ['age', 'operation_year', 'positive_nodes', 'survival_status']\n",
        "df_breast_cancer = pd.read_csv(breast_cancer_url, names=column_headers)\n",
        "\n",
        "#df_breast_cancer['survival_status'] = df_breast_cancer.replace(to_replace=1, value=0 )\n",
        "df_breast_cancer['survival_status'] = df_breast_cancer['survival_status'].replace(2, 0)\n",
        "#df_breast_cancer.replace(to_replace=2, value=1 ), This didn't work\n",
        "\n",
        "\n",
        "df_breast_cancer.head()"
      ],
      "execution_count": 93,
      "outputs": [
        {
          "output_type": "execute_result",
          "data": {
            "text/html": [
              "<div>\n",
              "<style scoped>\n",
              "    .dataframe tbody tr th:only-of-type {\n",
              "        vertical-align: middle;\n",
              "    }\n",
              "\n",
              "    .dataframe tbody tr th {\n",
              "        vertical-align: top;\n",
              "    }\n",
              "\n",
              "    .dataframe thead th {\n",
              "        text-align: right;\n",
              "    }\n",
              "</style>\n",
              "<table border=\"1\" class=\"dataframe\">\n",
              "  <thead>\n",
              "    <tr style=\"text-align: right;\">\n",
              "      <th></th>\n",
              "      <th>age</th>\n",
              "      <th>operation_year</th>\n",
              "      <th>positive_nodes</th>\n",
              "      <th>survival_status</th>\n",
              "    </tr>\n",
              "  </thead>\n",
              "  <tbody>\n",
              "    <tr>\n",
              "      <th>0</th>\n",
              "      <td>30</td>\n",
              "      <td>64</td>\n",
              "      <td>1</td>\n",
              "      <td>1</td>\n",
              "    </tr>\n",
              "    <tr>\n",
              "      <th>1</th>\n",
              "      <td>30</td>\n",
              "      <td>62</td>\n",
              "      <td>3</td>\n",
              "      <td>1</td>\n",
              "    </tr>\n",
              "    <tr>\n",
              "      <th>2</th>\n",
              "      <td>30</td>\n",
              "      <td>65</td>\n",
              "      <td>0</td>\n",
              "      <td>1</td>\n",
              "    </tr>\n",
              "    <tr>\n",
              "      <th>3</th>\n",
              "      <td>31</td>\n",
              "      <td>59</td>\n",
              "      <td>2</td>\n",
              "      <td>1</td>\n",
              "    </tr>\n",
              "    <tr>\n",
              "      <th>4</th>\n",
              "      <td>31</td>\n",
              "      <td>65</td>\n",
              "      <td>4</td>\n",
              "      <td>1</td>\n",
              "    </tr>\n",
              "  </tbody>\n",
              "</table>\n",
              "</div>"
            ],
            "text/plain": [
              "   age  operation_year  positive_nodes  survival_status\n",
              "0   30              64               1                1\n",
              "1   30              62               3                1\n",
              "2   30              65               0                1\n",
              "3   31              59               2                1\n",
              "4   31              65               4                1"
            ]
          },
          "metadata": {
            "tags": []
          },
          "execution_count": 93
        }
      ]
    },
    {
      "cell_type": "code",
      "metadata": {
        "id": "8sXHrRCKGrmm",
        "colab_type": "code",
        "outputId": "67d416f0-cb38-47be-8175-d3229b15477d",
        "colab": {
          "base_uri": "https://localhost:8080/",
          "height": 34
        }
      },
      "source": [
        "#checking for missing data. The UCI documentaitons states that there are 306 instances and 4 attributes for each observation. This dataset is as labeled.\n",
        "df_breast_cancer.shape"
      ],
      "execution_count": 73,
      "outputs": [
        {
          "output_type": "execute_result",
          "data": {
            "text/plain": [
              "(306, 4)"
            ]
          },
          "metadata": {
            "tags": []
          },
          "execution_count": 73
        }
      ]
    },
    {
      "cell_type": "code",
      "metadata": {
        "id": "tBs0_b8ismtG",
        "colab_type": "code",
        "outputId": "9fd455b3-9fd9-43be-a4f4-f03e3371e0f1",
        "colab": {
          "base_uri": "https://localhost:8080/",
          "height": 101
        }
      },
      "source": [
        "#because there are no 'na' values then this dataset is not missing values\n",
        "df_breast_cancer.isna().sum()\n",
        "# there are no missing values"
      ],
      "execution_count": 74,
      "outputs": [
        {
          "output_type": "execute_result",
          "data": {
            "text/plain": [
              "age                0\n",
              "operation_year     0\n",
              "positive_nodes     0\n",
              "survival_status    0\n",
              "dtype: int64"
            ]
          },
          "metadata": {
            "tags": []
          },
          "execution_count": 74
        }
      ]
    },
    {
      "cell_type": "code",
      "metadata": {
        "id": "8ysfy9Evykq-",
        "colab_type": "code",
        "colab": {}
      },
      "source": [
        "#THIS DIDN'T WORK BECAUSE MY SYNTAX WAS SLIGHTLY OFF. See answer above for corrections. \n",
        "#df_breast_cancer['survival_status'].replace(1,0)\n",
        "#df_breast_cancer['survival_status'].replace(2,1)"
      ],
      "execution_count": 0,
      "outputs": []
    },
    {
      "cell_type": "markdown",
      "metadata": {
        "id": "G7rLytbrO38L",
        "colab_type": "text"
      },
      "source": [
        "## Part 2 - Examine the distribution and relationships of the features\n",
        "\n",
        "✅ Explore the data - create at least *2* tables (can be summary statistics or crosstabulations) and *2* plots illustrating the nature of the data.\n",
        "\n",
        "This is open-ended, so to remind - first *complete* this task as a baseline, then go on to the remaining sections, and *then* as time allows revisit and explore further.\n",
        "\n",
        "Hint - you may need to bin some variables depending on your chosen tables/plots."
      ]
    },
    {
      "cell_type": "code",
      "metadata": {
        "id": "3AV4AR0jSgbW",
        "colab_type": "code",
        "colab": {}
      },
      "source": [
        "#Declaring things to make less typing\n",
        "age_bins = pd.cut(df_breast_cancer['age'], 10)\n",
        "node_bins = pd.cut(df_breast_cancer['positive_nodes'], 5)\n",
        "survival = df_breast_cancer['survival_status']\n",
        "operation = df_breast_cancer['operation_year']"
      ],
      "execution_count": 0,
      "outputs": []
    },
    {
      "cell_type": "code",
      "metadata": {
        "id": "IAkllgCIFVj0",
        "colab_type": "code",
        "outputId": "8990648f-2448-42f6-d9d1-2591683a9863",
        "colab": {
          "base_uri": "https://localhost:8080/",
          "height": 118
        }
      },
      "source": [
        "# TODO\n",
        "pd.crosstab(node_bins, survival).T"
      ],
      "execution_count": 77,
      "outputs": [
        {
          "output_type": "execute_result",
          "data": {
            "text/plain": [
              "positive_nodes   (-0.052, 10.4]  (10.4, 20.8]  ...  (31.2, 41.6]  (41.6, 52.0]\n",
              "survival_status                                ...                            \n",
              "0                            58            15  ...             1             1\n",
              "1                           208            11  ...             0             1\n",
              "\n",
              "[2 rows x 5 columns]"
            ]
          },
          "metadata": {
            "tags": []
          },
          "execution_count": 77
        }
      ]
    },
    {
      "cell_type": "code",
      "metadata": {
        "id": "dkk8wzgRRkkX",
        "colab_type": "code",
        "outputId": "8666631e-8219-41a1-b49f-08224aa2e4a1",
        "colab": {
          "base_uri": "https://localhost:8080/",
          "height": 136
        }
      },
      "source": [
        "pd.crosstab(operation, survival).T"
      ],
      "execution_count": 78,
      "outputs": [
        {
          "output_type": "execute_result",
          "data": {
            "text/html": [
              "<div>\n",
              "<style scoped>\n",
              "    .dataframe tbody tr th:only-of-type {\n",
              "        vertical-align: middle;\n",
              "    }\n",
              "\n",
              "    .dataframe tbody tr th {\n",
              "        vertical-align: top;\n",
              "    }\n",
              "\n",
              "    .dataframe thead th {\n",
              "        text-align: right;\n",
              "    }\n",
              "</style>\n",
              "<table border=\"1\" class=\"dataframe\">\n",
              "  <thead>\n",
              "    <tr style=\"text-align: right;\">\n",
              "      <th>operation_year</th>\n",
              "      <th>58</th>\n",
              "      <th>59</th>\n",
              "      <th>60</th>\n",
              "      <th>61</th>\n",
              "      <th>62</th>\n",
              "      <th>63</th>\n",
              "      <th>64</th>\n",
              "      <th>65</th>\n",
              "      <th>66</th>\n",
              "      <th>67</th>\n",
              "      <th>68</th>\n",
              "      <th>69</th>\n",
              "    </tr>\n",
              "    <tr>\n",
              "      <th>survival_status</th>\n",
              "      <th></th>\n",
              "      <th></th>\n",
              "      <th></th>\n",
              "      <th></th>\n",
              "      <th></th>\n",
              "      <th></th>\n",
              "      <th></th>\n",
              "      <th></th>\n",
              "      <th></th>\n",
              "      <th></th>\n",
              "      <th></th>\n",
              "      <th></th>\n",
              "    </tr>\n",
              "  </thead>\n",
              "  <tbody>\n",
              "    <tr>\n",
              "      <th>0</th>\n",
              "      <td>12</td>\n",
              "      <td>9</td>\n",
              "      <td>4</td>\n",
              "      <td>3</td>\n",
              "      <td>7</td>\n",
              "      <td>8</td>\n",
              "      <td>8</td>\n",
              "      <td>13</td>\n",
              "      <td>6</td>\n",
              "      <td>4</td>\n",
              "      <td>3</td>\n",
              "      <td>4</td>\n",
              "    </tr>\n",
              "    <tr>\n",
              "      <th>1</th>\n",
              "      <td>24</td>\n",
              "      <td>18</td>\n",
              "      <td>24</td>\n",
              "      <td>23</td>\n",
              "      <td>16</td>\n",
              "      <td>22</td>\n",
              "      <td>23</td>\n",
              "      <td>15</td>\n",
              "      <td>22</td>\n",
              "      <td>21</td>\n",
              "      <td>10</td>\n",
              "      <td>7</td>\n",
              "    </tr>\n",
              "  </tbody>\n",
              "</table>\n",
              "</div>"
            ],
            "text/plain": [
              "operation_year   58  59  60  61  62  63  64  65  66  67  68  69\n",
              "survival_status                                                \n",
              "0                12   9   4   3   7   8   8  13   6   4   3   4\n",
              "1                24  18  24  23  16  22  23  15  22  21  10   7"
            ]
          },
          "metadata": {
            "tags": []
          },
          "execution_count": 78
        }
      ]
    },
    {
      "cell_type": "code",
      "metadata": {
        "id": "MyAXsOwBT9ky",
        "colab_type": "code",
        "outputId": "d22de12c-e9c5-4f4f-9101-701a091b79a0",
        "colab": {
          "base_uri": "https://localhost:8080/",
          "height": 156
        }
      },
      "source": [
        "#I thought normalizing would help see the percentage of survived greater than 5 years versus less over the years. \n",
        "pd.crosstab(survival, operation, normalize=True)"
      ],
      "execution_count": 79,
      "outputs": [
        {
          "output_type": "execute_result",
          "data": {
            "text/html": [
              "<div>\n",
              "<style scoped>\n",
              "    .dataframe tbody tr th:only-of-type {\n",
              "        vertical-align: middle;\n",
              "    }\n",
              "\n",
              "    .dataframe tbody tr th {\n",
              "        vertical-align: top;\n",
              "    }\n",
              "\n",
              "    .dataframe thead th {\n",
              "        text-align: right;\n",
              "    }\n",
              "</style>\n",
              "<table border=\"1\" class=\"dataframe\">\n",
              "  <thead>\n",
              "    <tr style=\"text-align: right;\">\n",
              "      <th>operation_year</th>\n",
              "      <th>58</th>\n",
              "      <th>59</th>\n",
              "      <th>60</th>\n",
              "      <th>61</th>\n",
              "      <th>62</th>\n",
              "      <th>63</th>\n",
              "      <th>64</th>\n",
              "      <th>65</th>\n",
              "      <th>66</th>\n",
              "      <th>67</th>\n",
              "      <th>68</th>\n",
              "      <th>69</th>\n",
              "    </tr>\n",
              "    <tr>\n",
              "      <th>survival_status</th>\n",
              "      <th></th>\n",
              "      <th></th>\n",
              "      <th></th>\n",
              "      <th></th>\n",
              "      <th></th>\n",
              "      <th></th>\n",
              "      <th></th>\n",
              "      <th></th>\n",
              "      <th></th>\n",
              "      <th></th>\n",
              "      <th></th>\n",
              "      <th></th>\n",
              "    </tr>\n",
              "  </thead>\n",
              "  <tbody>\n",
              "    <tr>\n",
              "      <th>0</th>\n",
              "      <td>0.039216</td>\n",
              "      <td>0.029412</td>\n",
              "      <td>0.013072</td>\n",
              "      <td>0.009804</td>\n",
              "      <td>0.022876</td>\n",
              "      <td>0.026144</td>\n",
              "      <td>0.026144</td>\n",
              "      <td>0.042484</td>\n",
              "      <td>0.019608</td>\n",
              "      <td>0.013072</td>\n",
              "      <td>0.009804</td>\n",
              "      <td>0.013072</td>\n",
              "    </tr>\n",
              "    <tr>\n",
              "      <th>1</th>\n",
              "      <td>0.078431</td>\n",
              "      <td>0.058824</td>\n",
              "      <td>0.078431</td>\n",
              "      <td>0.075163</td>\n",
              "      <td>0.052288</td>\n",
              "      <td>0.071895</td>\n",
              "      <td>0.075163</td>\n",
              "      <td>0.049020</td>\n",
              "      <td>0.071895</td>\n",
              "      <td>0.068627</td>\n",
              "      <td>0.032680</td>\n",
              "      <td>0.022876</td>\n",
              "    </tr>\n",
              "  </tbody>\n",
              "</table>\n",
              "</div>"
            ],
            "text/plain": [
              "operation_year         58        59        60  ...        67        68        69\n",
              "survival_status                                ...                              \n",
              "0                0.039216  0.029412  0.013072  ...  0.013072  0.009804  0.013072\n",
              "1                0.078431  0.058824  0.078431  ...  0.068627  0.032680  0.022876\n",
              "\n",
              "[2 rows x 12 columns]"
            ]
          },
          "metadata": {
            "tags": []
          },
          "execution_count": 79
        }
      ]
    },
    {
      "cell_type": "code",
      "metadata": {
        "id": "Ts26vGo_LXaf",
        "colab_type": "code",
        "outputId": "6afbdf7d-3635-4ce3-fbb4-1ec0d232f38a",
        "colab": {
          "base_uri": "https://localhost:8080/",
          "height": 219
        }
      },
      "source": [
        "pd.crosstab(survival, [age_bins, node_bins])"
      ],
      "execution_count": 80,
      "outputs": [
        {
          "output_type": "execute_result",
          "data": {
            "text/html": [
              "<div>\n",
              "<style scoped>\n",
              "    .dataframe tbody tr th:only-of-type {\n",
              "        vertical-align: middle;\n",
              "    }\n",
              "\n",
              "    .dataframe tbody tr th {\n",
              "        vertical-align: top;\n",
              "    }\n",
              "\n",
              "    .dataframe thead tr th {\n",
              "        text-align: left;\n",
              "    }\n",
              "\n",
              "    .dataframe thead tr:last-of-type th {\n",
              "        text-align: right;\n",
              "    }\n",
              "</style>\n",
              "<table border=\"1\" class=\"dataframe\">\n",
              "  <thead>\n",
              "    <tr>\n",
              "      <th>age</th>\n",
              "      <th colspan=\"3\" halign=\"left\">(29.947, 35.3]</th>\n",
              "      <th colspan=\"3\" halign=\"left\">(35.3, 40.6]</th>\n",
              "      <th colspan=\"4\" halign=\"left\">(40.6, 45.9]</th>\n",
              "      <th colspan=\"3\" halign=\"left\">(45.9, 51.2]</th>\n",
              "      <th colspan=\"4\" halign=\"left\">(51.2, 56.5]</th>\n",
              "      <th colspan=\"4\" halign=\"left\">(56.5, 61.8]</th>\n",
              "      <th colspan=\"3\" halign=\"left\">(61.8, 67.1]</th>\n",
              "      <th colspan=\"2\" halign=\"left\">(67.1, 72.4]</th>\n",
              "      <th>(72.4, 77.7]</th>\n",
              "      <th>(77.7, 83.0]</th>\n",
              "    </tr>\n",
              "    <tr>\n",
              "      <th>positive_nodes</th>\n",
              "      <th>(-0.052, 10.4]</th>\n",
              "      <th>(10.4, 20.8]</th>\n",
              "      <th>(20.8, 31.2]</th>\n",
              "      <th>(-0.052, 10.4]</th>\n",
              "      <th>(10.4, 20.8]</th>\n",
              "      <th>(20.8, 31.2]</th>\n",
              "      <th>(-0.052, 10.4]</th>\n",
              "      <th>(10.4, 20.8]</th>\n",
              "      <th>(20.8, 31.2]</th>\n",
              "      <th>(41.6, 52.0]</th>\n",
              "      <th>(-0.052, 10.4]</th>\n",
              "      <th>(10.4, 20.8]</th>\n",
              "      <th>(20.8, 31.2]</th>\n",
              "      <th>(-0.052, 10.4]</th>\n",
              "      <th>(10.4, 20.8]</th>\n",
              "      <th>(20.8, 31.2]</th>\n",
              "      <th>(41.6, 52.0]</th>\n",
              "      <th>(-0.052, 10.4]</th>\n",
              "      <th>(10.4, 20.8]</th>\n",
              "      <th>(20.8, 31.2]</th>\n",
              "      <th>(31.2, 41.6]</th>\n",
              "      <th>(-0.052, 10.4]</th>\n",
              "      <th>(10.4, 20.8]</th>\n",
              "      <th>(20.8, 31.2]</th>\n",
              "      <th>(-0.052, 10.4]</th>\n",
              "      <th>(10.4, 20.8]</th>\n",
              "      <th>(-0.052, 10.4]</th>\n",
              "      <th>(-0.052, 10.4]</th>\n",
              "    </tr>\n",
              "    <tr>\n",
              "      <th>survival_status</th>\n",
              "      <th></th>\n",
              "      <th></th>\n",
              "      <th></th>\n",
              "      <th></th>\n",
              "      <th></th>\n",
              "      <th></th>\n",
              "      <th></th>\n",
              "      <th></th>\n",
              "      <th></th>\n",
              "      <th></th>\n",
              "      <th></th>\n",
              "      <th></th>\n",
              "      <th></th>\n",
              "      <th></th>\n",
              "      <th></th>\n",
              "      <th></th>\n",
              "      <th></th>\n",
              "      <th></th>\n",
              "      <th></th>\n",
              "      <th></th>\n",
              "      <th></th>\n",
              "      <th></th>\n",
              "      <th></th>\n",
              "      <th></th>\n",
              "      <th></th>\n",
              "      <th></th>\n",
              "      <th></th>\n",
              "      <th></th>\n",
              "    </tr>\n",
              "  </thead>\n",
              "  <tbody>\n",
              "    <tr>\n",
              "      <th>0</th>\n",
              "      <td>2</td>\n",
              "      <td>0</td>\n",
              "      <td>0</td>\n",
              "      <td>1</td>\n",
              "      <td>0</td>\n",
              "      <td>1</td>\n",
              "      <td>12</td>\n",
              "      <td>1</td>\n",
              "      <td>1</td>\n",
              "      <td>1</td>\n",
              "      <td>10</td>\n",
              "      <td>5</td>\n",
              "      <td>1</td>\n",
              "      <td>13</td>\n",
              "      <td>3</td>\n",
              "      <td>2</td>\n",
              "      <td>0</td>\n",
              "      <td>6</td>\n",
              "      <td>2</td>\n",
              "      <td>0</td>\n",
              "      <td>1</td>\n",
              "      <td>7</td>\n",
              "      <td>4</td>\n",
              "      <td>1</td>\n",
              "      <td>4</td>\n",
              "      <td>0</td>\n",
              "      <td>1</td>\n",
              "      <td>2</td>\n",
              "    </tr>\n",
              "    <tr>\n",
              "      <th>1</th>\n",
              "      <td>12</td>\n",
              "      <td>1</td>\n",
              "      <td>1</td>\n",
              "      <td>23</td>\n",
              "      <td>2</td>\n",
              "      <td>0</td>\n",
              "      <td>27</td>\n",
              "      <td>4</td>\n",
              "      <td>0</td>\n",
              "      <td>0</td>\n",
              "      <td>36</td>\n",
              "      <td>1</td>\n",
              "      <td>0</td>\n",
              "      <td>33</td>\n",
              "      <td>2</td>\n",
              "      <td>1</td>\n",
              "      <td>1</td>\n",
              "      <td>31</td>\n",
              "      <td>0</td>\n",
              "      <td>1</td>\n",
              "      <td>0</td>\n",
              "      <td>27</td>\n",
              "      <td>0</td>\n",
              "      <td>2</td>\n",
              "      <td>13</td>\n",
              "      <td>1</td>\n",
              "      <td>6</td>\n",
              "      <td>0</td>\n",
              "    </tr>\n",
              "  </tbody>\n",
              "</table>\n",
              "</div>"
            ],
            "text/plain": [
              "age             (29.947, 35.3]               ...   (72.4, 77.7]   (77.7, 83.0]\n",
              "positive_nodes  (-0.052, 10.4] (10.4, 20.8]  ... (-0.052, 10.4] (-0.052, 10.4]\n",
              "survival_status                              ...                              \n",
              "0                            2            0  ...              1              2\n",
              "1                           12            1  ...              6              0\n",
              "\n",
              "[2 rows x 28 columns]"
            ]
          },
          "metadata": {
            "tags": []
          },
          "execution_count": 80
        }
      ]
    },
    {
      "cell_type": "code",
      "metadata": {
        "id": "YuK7xf1V1Uvc",
        "colab_type": "code",
        "outputId": "c20c9609-5fd7-4d92-e83e-92a20ee90fcd",
        "colab": {
          "base_uri": "https://localhost:8080/",
          "height": 284
        }
      },
      "source": [
        "import seaborn as sns\n",
        "#use for sns.distplot for potential visualizaitons. \"measures of central tendency\"\n",
        "#seaborn scatterplots, which could give me some hues for different outcomes \n",
        "\n",
        "df_breast_cancer.describe()"
      ],
      "execution_count": 96,
      "outputs": [
        {
          "output_type": "execute_result",
          "data": {
            "text/html": [
              "<div>\n",
              "<style scoped>\n",
              "    .dataframe tbody tr th:only-of-type {\n",
              "        vertical-align: middle;\n",
              "    }\n",
              "\n",
              "    .dataframe tbody tr th {\n",
              "        vertical-align: top;\n",
              "    }\n",
              "\n",
              "    .dataframe thead th {\n",
              "        text-align: right;\n",
              "    }\n",
              "</style>\n",
              "<table border=\"1\" class=\"dataframe\">\n",
              "  <thead>\n",
              "    <tr style=\"text-align: right;\">\n",
              "      <th></th>\n",
              "      <th>age</th>\n",
              "      <th>operation_year</th>\n",
              "      <th>positive_nodes</th>\n",
              "      <th>survival_status</th>\n",
              "    </tr>\n",
              "  </thead>\n",
              "  <tbody>\n",
              "    <tr>\n",
              "      <th>count</th>\n",
              "      <td>306.000000</td>\n",
              "      <td>306.000000</td>\n",
              "      <td>306.000000</td>\n",
              "      <td>306.000000</td>\n",
              "    </tr>\n",
              "    <tr>\n",
              "      <th>mean</th>\n",
              "      <td>52.457516</td>\n",
              "      <td>62.852941</td>\n",
              "      <td>4.026144</td>\n",
              "      <td>0.735294</td>\n",
              "    </tr>\n",
              "    <tr>\n",
              "      <th>std</th>\n",
              "      <td>10.803452</td>\n",
              "      <td>3.249405</td>\n",
              "      <td>7.189654</td>\n",
              "      <td>0.441899</td>\n",
              "    </tr>\n",
              "    <tr>\n",
              "      <th>min</th>\n",
              "      <td>30.000000</td>\n",
              "      <td>58.000000</td>\n",
              "      <td>0.000000</td>\n",
              "      <td>0.000000</td>\n",
              "    </tr>\n",
              "    <tr>\n",
              "      <th>25%</th>\n",
              "      <td>44.000000</td>\n",
              "      <td>60.000000</td>\n",
              "      <td>0.000000</td>\n",
              "      <td>0.000000</td>\n",
              "    </tr>\n",
              "    <tr>\n",
              "      <th>50%</th>\n",
              "      <td>52.000000</td>\n",
              "      <td>63.000000</td>\n",
              "      <td>1.000000</td>\n",
              "      <td>1.000000</td>\n",
              "    </tr>\n",
              "    <tr>\n",
              "      <th>75%</th>\n",
              "      <td>60.750000</td>\n",
              "      <td>65.750000</td>\n",
              "      <td>4.000000</td>\n",
              "      <td>1.000000</td>\n",
              "    </tr>\n",
              "    <tr>\n",
              "      <th>max</th>\n",
              "      <td>83.000000</td>\n",
              "      <td>69.000000</td>\n",
              "      <td>52.000000</td>\n",
              "      <td>1.000000</td>\n",
              "    </tr>\n",
              "  </tbody>\n",
              "</table>\n",
              "</div>"
            ],
            "text/plain": [
              "              age  operation_year  positive_nodes  survival_status\n",
              "count  306.000000      306.000000      306.000000       306.000000\n",
              "mean    52.457516       62.852941        4.026144         0.735294\n",
              "std     10.803452        3.249405        7.189654         0.441899\n",
              "min     30.000000       58.000000        0.000000         0.000000\n",
              "25%     44.000000       60.000000        0.000000         0.000000\n",
              "50%     52.000000       63.000000        1.000000         1.000000\n",
              "75%     60.750000       65.750000        4.000000         1.000000\n",
              "max     83.000000       69.000000       52.000000         1.000000"
            ]
          },
          "metadata": {
            "tags": []
          },
          "execution_count": 96
        }
      ]
    },
    {
      "cell_type": "code",
      "metadata": {
        "id": "gIOdxxLTcqHp",
        "colab_type": "code",
        "colab": {}
      },
      "source": [
        "# bc_dist= df_breast_cancer.describe()\n",
        "# sns.distplot(bc_dist,bins=None, hist=True)\n",
        "# I need to learn more about the colors kwarg "
      ],
      "execution_count": 0,
      "outputs": []
    },
    {
      "cell_type": "code",
      "metadata": {
        "id": "56sNpnW6QIN9",
        "colab_type": "code",
        "outputId": "84cd63f0-5897-4607-d725-055cdd9cb3a4",
        "colab": {
          "base_uri": "https://localhost:8080/",
          "height": 746
        }
      },
      "source": [
        "sns.pairplot(df_breast_cancer) #hue=) didn't get far enough into the documentation to use hue for this assignment."
      ],
      "execution_count": 82,
      "outputs": [
        {
          "output_type": "execute_result",
          "data": {
            "text/plain": [
              "<seaborn.axisgrid.PairGrid at 0x7f5fdf2eff60>"
            ]
          },
          "metadata": {
            "tags": []
          },
          "execution_count": 82
        },
        {
          "output_type": "display_data",
          "data": {
            "image/png": "[encoded data removed]",
            "text/plain": [
              "<Figure size 720x720 with 20 Axes>"
            ]
          },
          "metadata": {
            "tags": []
          }
        }
      ]
    },
    {
      "cell_type": "markdown",
      "metadata": {
        "id": "bAdK38v7V41L",
        "colab_type": "text"
      },
      "source": [
        "###Interesting Observations\n",
        "\n",
        "\n",
        "*   Age as a independent variable (x) and positive nodes as a dependent variable (y) seems to be the most insightful; however, it still seems inconclusive. There are fewer cases of high positive nodes for older observations. If I could layer on survival status, I think this would illuminate a bit more of the story. There are fewer breast cancer survivors that live longer than five years as the data trends towards 80 years old. This could mean that higher positive nodes are never observed because fewer patients live long enough to see a greter number of nodes. \n",
        "\n",
        "\n"
      ]
    },
    {
      "cell_type": "code",
      "metadata": {
        "id": "DLe1o3Dh2RFV",
        "colab_type": "code",
        "outputId": "b90d1742-a227-43f1-ab76-d91e60b09eae",
        "colab": {
          "base_uri": "https://localhost:8080/",
          "height": 300
        }
      },
      "source": [
        "df_breast_cancer.plot.scatter('age','positive_nodes')"
      ],
      "execution_count": 83,
      "outputs": [
        {
          "output_type": "execute_result",
          "data": {
            "text/plain": [
              "<matplotlib.axes._subplots.AxesSubplot at 0x7f5fec755e48>"
            ]
          },
          "metadata": {
            "tags": []
          },
          "execution_count": 83
        },
        {
          "output_type": "display_data",
          "data": {
            "image/png": "[encoded data removed]",
            "text/plain": [
              "<Figure size 432x288 with 1 Axes>"
            ]
          },
          "metadata": {
            "tags": []
          }
        }
      ]
    },
    {
      "cell_type": "code",
      "metadata": {
        "id": "T_x9h9mO26K2",
        "colab_type": "code",
        "colab": {}
      },
      "source": [
        "# import matplotlib.pyplot as plt\n",
        "# import numpy as np\n",
        "\n",
        "# #example from matplotlib documentation formatted with the breast cancer use case. Not all of it works. \n",
        "# labels = df_breast_cancer['age']\n",
        "# survived = df_breast_cancer['survival_status'] = 1\n",
        "# died = df_breast_cancer['survival_status'] = 0\n",
        "\n",
        "# x = np.arange(len(labels))  # the label locations\n",
        "# width = 0.35  # the width of the bars\n",
        "\n",
        "# fig, ax = plt.subplots()\n",
        "# rects1 = ax.bar(x - width/2, survived, width, label='Survived')\n",
        "# rects2 = ax.bar(x + width/2, died, width, label='Died')\n",
        "\n",
        "# # Add some text for labels, title and custom x-axis tick labels, etc.\n",
        "# ax.set_ylabel('Survived')\n",
        "# ax.set_title('Breast Cancer Survival')\n",
        "# ax.set_xticks(x)\n",
        "# ax.set_xticklabels(labels)\n",
        "# ax.legend()\n",
        "\n",
        "\n",
        "# def autolabel(rects):\n",
        "#     \"\"\"Attach a text label above each bar in *rects*, displaying its height.\"\"\"\n",
        "#     for rect in rects:\n",
        "#         height = rect.get_height()\n",
        "#         ax.annotate('{}'.format(height),\n",
        "#                     xy=(rect.get_x() + rect.get_width() / 2, height),\n",
        "#                     xytext=(0, 3),  # 3 points vertical offset\n",
        "#                     textcoords=\"offset points\",\n",
        "#                     ha='center', va='bottom')\n",
        "\n",
        "\n",
        "# plt.show()"
      ],
      "execution_count": 0,
      "outputs": []
    },
    {
      "cell_type": "markdown",
      "metadata": {
        "id": "sDXMio-yiWPT",
        "colab_type": "text"
      },
      "source": [
        "## Part 3 - DataFrame Filtering\n",
        "\n",
        "❌ Use DataFrame filtering to subset the data into two smaller dataframes. You should make one dataframe for individuals who survived >5 years and a second dataframe for individuals who did not. \n",
        "\n",
        "❌ Create a graph with each of the dataframes (can be the same graph type) to show the differences in Age and Number of Positive Axillary Nodes Detected between the two groups."
      ]
    },
    {
      "cell_type": "code",
      "metadata": {
        "id": "rLjGyJfGiedx",
        "colab_type": "code",
        "outputId": "698d4979-9982-402f-c643-1239c4bac427",
        "colab": {
          "base_uri": "https://localhost:8080/",
          "height": 195
        }
      },
      "source": [
        "# TODO\n",
        "survived = df_breast_cancer[df_breast_cancer['survival_status'] == 1]\n",
        "survived.head()"
      ],
      "execution_count": 103,
      "outputs": [
        {
          "output_type": "execute_result",
          "data": {
            "text/html": [
              "<div>\n",
              "<style scoped>\n",
              "    .dataframe tbody tr th:only-of-type {\n",
              "        vertical-align: middle;\n",
              "    }\n",
              "\n",
              "    .dataframe tbody tr th {\n",
              "        vertical-align: top;\n",
              "    }\n",
              "\n",
              "    .dataframe thead th {\n",
              "        text-align: right;\n",
              "    }\n",
              "</style>\n",
              "<table border=\"1\" class=\"dataframe\">\n",
              "  <thead>\n",
              "    <tr style=\"text-align: right;\">\n",
              "      <th></th>\n",
              "      <th>age</th>\n",
              "      <th>operation_year</th>\n",
              "      <th>positive_nodes</th>\n",
              "      <th>survival_status</th>\n",
              "    </tr>\n",
              "  </thead>\n",
              "  <tbody>\n",
              "    <tr>\n",
              "      <th>0</th>\n",
              "      <td>30</td>\n",
              "      <td>64</td>\n",
              "      <td>1</td>\n",
              "      <td>1</td>\n",
              "    </tr>\n",
              "    <tr>\n",
              "      <th>1</th>\n",
              "      <td>30</td>\n",
              "      <td>62</td>\n",
              "      <td>3</td>\n",
              "      <td>1</td>\n",
              "    </tr>\n",
              "    <tr>\n",
              "      <th>2</th>\n",
              "      <td>30</td>\n",
              "      <td>65</td>\n",
              "      <td>0</td>\n",
              "      <td>1</td>\n",
              "    </tr>\n",
              "    <tr>\n",
              "      <th>3</th>\n",
              "      <td>31</td>\n",
              "      <td>59</td>\n",
              "      <td>2</td>\n",
              "      <td>1</td>\n",
              "    </tr>\n",
              "    <tr>\n",
              "      <th>4</th>\n",
              "      <td>31</td>\n",
              "      <td>65</td>\n",
              "      <td>4</td>\n",
              "      <td>1</td>\n",
              "    </tr>\n",
              "  </tbody>\n",
              "</table>\n",
              "</div>"
            ],
            "text/plain": [
              "   age  operation_year  positive_nodes  survival_status\n",
              "0   30              64               1                1\n",
              "1   30              62               3                1\n",
              "2   30              65               0                1\n",
              "3   31              59               2                1\n",
              "4   31              65               4                1"
            ]
          },
          "metadata": {
            "tags": []
          },
          "execution_count": 103
        }
      ]
    },
    {
      "cell_type": "code",
      "metadata": {
        "id": "xyWXspdwYm3w",
        "colab_type": "code",
        "outputId": "3fc2e1a8-5abc-4799-e10d-61b55923a06a",
        "colab": {
          "base_uri": "https://localhost:8080/",
          "height": 300
        }
      },
      "source": [
        "survived.plot.scatter('age','positive_nodes')"
      ],
      "execution_count": 101,
      "outputs": [
        {
          "output_type": "execute_result",
          "data": {
            "text/plain": [
              "<matplotlib.axes._subplots.AxesSubplot at 0x7f5fddc5ca90>"
            ]
          },
          "metadata": {
            "tags": []
          },
          "execution_count": 101
        },
        {
          "output_type": "display_data",
          "data": {
            "image/png": "[encoded data removed]",
            "text/plain": [
              "<Figure size 432x288 with 1 Axes>"
            ]
          },
          "metadata": {
            "tags": []
          }
        }
      ]
    },
    {
      "cell_type": "code",
      "metadata": {
        "id": "28B_o3y8YLw3",
        "colab_type": "code",
        "outputId": "bcfe892c-0905-45d8-83ba-30674995381e",
        "colab": {
          "base_uri": "https://localhost:8080/",
          "height": 195
        }
      },
      "source": [
        "died = df_breast_cancer[df_breast_cancer['survival_status'] == 0]\n",
        "died.head()"
      ],
      "execution_count": 102,
      "outputs": [
        {
          "output_type": "execute_result",
          "data": {
            "text/html": [
              "<div>\n",
              "<style scoped>\n",
              "    .dataframe tbody tr th:only-of-type {\n",
              "        vertical-align: middle;\n",
              "    }\n",
              "\n",
              "    .dataframe tbody tr th {\n",
              "        vertical-align: top;\n",
              "    }\n",
              "\n",
              "    .dataframe thead th {\n",
              "        text-align: right;\n",
              "    }\n",
              "</style>\n",
              "<table border=\"1\" class=\"dataframe\">\n",
              "  <thead>\n",
              "    <tr style=\"text-align: right;\">\n",
              "      <th></th>\n",
              "      <th>age</th>\n",
              "      <th>operation_year</th>\n",
              "      <th>positive_nodes</th>\n",
              "      <th>survival_status</th>\n",
              "    </tr>\n",
              "  </thead>\n",
              "  <tbody>\n",
              "    <tr>\n",
              "      <th>7</th>\n",
              "      <td>34</td>\n",
              "      <td>59</td>\n",
              "      <td>0</td>\n",
              "      <td>0</td>\n",
              "    </tr>\n",
              "    <tr>\n",
              "      <th>8</th>\n",
              "      <td>34</td>\n",
              "      <td>66</td>\n",
              "      <td>9</td>\n",
              "      <td>0</td>\n",
              "    </tr>\n",
              "    <tr>\n",
              "      <th>24</th>\n",
              "      <td>38</td>\n",
              "      <td>69</td>\n",
              "      <td>21</td>\n",
              "      <td>0</td>\n",
              "    </tr>\n",
              "    <tr>\n",
              "      <th>34</th>\n",
              "      <td>39</td>\n",
              "      <td>66</td>\n",
              "      <td>0</td>\n",
              "      <td>0</td>\n",
              "    </tr>\n",
              "    <tr>\n",
              "      <th>43</th>\n",
              "      <td>41</td>\n",
              "      <td>60</td>\n",
              "      <td>23</td>\n",
              "      <td>0</td>\n",
              "    </tr>\n",
              "  </tbody>\n",
              "</table>\n",
              "</div>"
            ],
            "text/plain": [
              "    age  operation_year  positive_nodes  survival_status\n",
              "7    34              59               0                0\n",
              "8    34              66               9                0\n",
              "24   38              69              21                0\n",
              "34   39              66               0                0\n",
              "43   41              60              23                0"
            ]
          },
          "metadata": {
            "tags": []
          },
          "execution_count": 102
        }
      ]
    },
    {
      "cell_type": "code",
      "metadata": {
        "id": "raKml5WwdqLw",
        "colab_type": "code",
        "colab": {
          "base_uri": "https://localhost:8080/",
          "height": 300
        },
        "outputId": "a31113b0-9377-4237-f4fb-6acb2b1e84f6"
      },
      "source": [
        "died.plot.scatter('age','positive_nodes')"
      ],
      "execution_count": 105,
      "outputs": [
        {
          "output_type": "execute_result",
          "data": {
            "text/plain": [
              "<matplotlib.axes._subplots.AxesSubplot at 0x7f5fddc56a90>"
            ]
          },
          "metadata": {
            "tags": []
          },
          "execution_count": 105
        },
        {
          "output_type": "display_data",
          "data": {
            "image/png": "[encoded data removed]",
            "text/plain": [
              "<Figure size 432x288 with 1 Axes>"
            ]
          },
          "metadata": {
            "tags": []
          }
        }
      ]
    },
    {
      "cell_type": "markdown",
      "metadata": {
        "id": "ZM8JckA2bgnp",
        "colab_type": "text"
      },
      "source": [
        "## Part 4 - Analysis and Interpretation\n",
        "\n",
        "Now that you've looked at the data, answer the following questions:\n",
        "\n",
        "- What is at least one feature that looks to have a positive relationship with survival? (As that feature goes up in value rate of survival increases)\n",
        "- What is at least one feature that looks to have a negative relationship with survival? (As that feature goes down in value rate of survival increases)\n",
        "- How are those two features related with each other, and what might that mean?\n",
        "\n",
        "Answer with text, but feel free to intersperse example code/results or refer to it from earlier."
      ]
    },
    {
      "cell_type": "markdown",
      "metadata": {
        "id": "6dKITTOVtHWo",
        "colab_type": "text"
      },
      "source": [
        "\n",
        "\n",
        "1.   Between 1960 and 1964 survival rates seem to be increasing, but there were also a larger number of cases. Then, after 1965 the survival rate decreases but there are fewer bumber of cases. This is especially true in 1968 and 1969 where there are only 13 and 11 cases respectively compared to the 20-30 cases per year from 1958 to 1967. \n",
        "2.   Age seems to have a negative relationship with survival; however, it's difficult to tell because there are fewer cases. This could be because people die of other causes. \n",
        "3.   There appears to be a greater rate of survival with younger people and with less than 10 nodes. \n",
        "\n"
      ]
    },
    {
      "cell_type": "code",
      "metadata": {
        "id": "90OSBGhOjk1b",
        "colab_type": "code",
        "colab": {}
      },
      "source": [
        "# Any Supplemental Code for Analysis Here"
      ],
      "execution_count": 0,
      "outputs": []
    }
  ]
}