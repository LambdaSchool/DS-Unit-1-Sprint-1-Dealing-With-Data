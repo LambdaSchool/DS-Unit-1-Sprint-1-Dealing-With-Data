{
  "nbformat": 4,
  "nbformat_minor": 0,
  "metadata": {
    "colab": {
      "name": "Coding Challenge 11/5/18.ipynb",
      "version": "0.3.2",
      "provenance": [],
      "collapsed_sections": [],
      "include_colab_link": true
    },
    "kernelspec": {
      "name": "python3",
      "display_name": "Python 3"
    }
  },
  "cells": [
    {
      "cell_type": "markdown",
      "metadata": {
        "id": "view-in-github",
        "colab_type": "text"
      },
      "source": [
        "<a href=\"https://colab.research.google.com/github/aapte11/DS-Sprint-01-Dealing-With-Data/blob/master/Coding_Challenge_11_5_18.ipynb\" target=\"_parent\"><img src=\"https://colab.research.google.com/assets/colab-badge.svg\" alt=\"Open In Colab\"/></a>"
      ]
    },
    {
      "metadata": {
        "id": "EG5HZAWfja0v",
        "colab_type": "code",
        "colab": {}
      },
      "cell_type": "code",
      "source": [
        "joe = { 'name': 'Joe', 'is_female': False, 'age': 19 }\n",
        "alice = { 'name': 'Alice', 'is_female': True, 'age': 20 }\n",
        "sarah = { 'name': 'Sarah', 'is_female': True, 'age': 20 }\n",
        "students = [joe, alice, sarah]"
      ],
      "execution_count": 0,
      "outputs": []
    },
    {
      "metadata": {
        "id": "UdN42QR5jiDH",
        "colab_type": "code",
        "colab": {
          "base_uri": "https://localhost:8080/",
          "height": 69
        },
        "outputId": "59197cc0-7fa0-4ba2-edd9-28b20860b0e4"
      },
      "cell_type": "code",
      "source": [
        "students"
      ],
      "execution_count": 2,
      "outputs": [
        {
          "output_type": "execute_result",
          "data": {
            "text/plain": [
              "[{'age': 19, 'is_female': False, 'name': 'Joe'},\n",
              " {'age': 20, 'is_female': True, 'name': 'Alice'},\n",
              " {'age': 20, 'is_female': True, 'name': 'Sarah'}]"
            ]
          },
          "metadata": {
            "tags": []
          },
          "execution_count": 2
        }
      ]
    },
    {
      "metadata": {
        "id": "KIvXdyvzjoS8",
        "colab_type": "code",
        "colab": {
          "base_uri": "https://localhost:8080/",
          "height": 277
        },
        "outputId": "0691ec2c-e8e3-43d8-a574-949cf3ff18bd"
      },
      "cell_type": "code",
      "source": [
        "grow_mart = {'name': 'Grow Mart', 'year_founded': 1973, 'revenues': 265000, 'expenses' : 183000}\n",
        "plant_depot = {'name': 'Plant Depot', 'year_founded': 1973, 'revenues': 302000, 'expenses' : 240000}\n",
        "trees_r_us = {'name': 'Trees R Us', 'year_founded': 1985, 'revenues': 123000, 'expenses' : 130000}\n",
        "\n",
        "# Adding new key and values to dictionary: dict['new_key'] = value\n",
        "\n",
        "grow_mart['is_profitable'] = grow_mart['revenues'] > grow_mart['expenses']\n",
        "plant_depot['is_profitable'] = plant_depot['revenues'] > plant_depot['expenses']\n",
        "trees_r_us['is_profitable'] = trees_r_us['revenues'] > trees_r_us['expenses']\n",
        "\n",
        "plant_stores = [grow_mart, plant_depot, trees_r_us]\n",
        "\n",
        "\n",
        "plant_stores"
      ],
      "execution_count": 5,
      "outputs": [
        {
          "output_type": "execute_result",
          "data": {
            "text/plain": [
              "[{'expenses': 183000,\n",
              "  'is_profitable': True,\n",
              "  'name': 'Grow Mart',\n",
              "  'revenues': 265000,\n",
              "  'year_founded': 1973},\n",
              " {'expenses': 240000,\n",
              "  'is_profitable': True,\n",
              "  'name': 'Plant Depot',\n",
              "  'revenues': 302000,\n",
              "  'year_founded': 1973},\n",
              " {'expenses': 130000,\n",
              "  'is_profitable': False,\n",
              "  'name': 'Trees R Us',\n",
              "  'revenues': 123000,\n",
              "  'year_founded': 1985}]"
            ]
          },
          "metadata": {
            "tags": []
          },
          "execution_count": 5
        }
      ]
    },
    {
      "metadata": {
        "id": "gXKI5O8vu3ES",
        "colab_type": "code",
        "colab": {
          "base_uri": "https://localhost:8080/",
          "height": 277
        },
        "outputId": "f38a59a4-8370-43d8-b854-7229af556eb2"
      },
      "cell_type": "code",
      "source": [
        "# For Loop addition\n",
        "\n",
        "grow_mart = {'name': 'Grow Mart', 'year_founded': 1973, 'revenues': 265000, 'expenses' : 183000}\n",
        "plant_depot = {'name': 'Plant Depot', 'year_founded': 1973, 'revenues': 302000, 'expenses' : 240000}\n",
        "trees_r_us = {'name': 'Trees R Us', 'year_founded': 1985, 'revenues': 123000, 'expenses' : 130000}\n",
        "\n",
        "plant_stores = [grow_mart, plant_depot, trees_r_us]\n",
        "\n",
        "# Adding new key and values to dictionary: dict['new_key'] = value\n",
        "\n",
        "for ps in plant_stores:\n",
        "  ps['is_profitable'] = ps['revenues'] > ps['expenses']\n",
        "  \n",
        "  \n",
        "plant_stores  \n",
        "\n",
        "# grow_mart['is_profitable'] = grow_mart['revenues'] > grow_mart['expenses']\n",
        "# plant_depot['is_profitable'] = plant_depot['revenues'] > plant_depot['expenses']\n",
        "# trees_r_us['is_profitable'] = trees_r_us['revenues'] > trees_r_us['expenses']\n",
        "\n",
        "\n",
        "\n",
        "\n"
      ],
      "execution_count": 7,
      "outputs": [
        {
          "output_type": "execute_result",
          "data": {
            "text/plain": [
              "[{'expenses': 183000,\n",
              "  'is_profitable': True,\n",
              "  'name': 'Grow Mart',\n",
              "  'revenues': 265000,\n",
              "  'year_founded': 1973},\n",
              " {'expenses': 240000,\n",
              "  'is_profitable': True,\n",
              "  'name': 'Plant Depot',\n",
              "  'revenues': 302000,\n",
              "  'year_founded': 1973},\n",
              " {'expenses': 130000,\n",
              "  'is_profitable': False,\n",
              "  'name': 'Trees R Us',\n",
              "  'revenues': 123000,\n",
              "  'year_founded': 1985}]"
            ]
          },
          "metadata": {
            "tags": []
          },
          "execution_count": 7
        }
      ]
    },
    {
      "metadata": {
        "id": "QxuQ3Hg6jwtC",
        "colab_type": "code",
        "colab": {}
      },
      "cell_type": "code",
      "source": [
        ""
      ],
      "execution_count": 0,
      "outputs": []
    }
  ]
}