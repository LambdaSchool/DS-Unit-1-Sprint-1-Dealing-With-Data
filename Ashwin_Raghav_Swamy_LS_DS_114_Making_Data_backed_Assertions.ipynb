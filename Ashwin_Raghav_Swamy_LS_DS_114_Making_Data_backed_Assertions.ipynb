{
  "nbformat": 4,
  "nbformat_minor": 0,
  "metadata": {
    "colab": {
      "name": "Ashwin_Raghav_Swamy_LS_DS_114_Making_Data_backed_Assertions.ipynb",
      "version": "0.3.2",
      "provenance": [],
      "collapsed_sections": [],
      "include_colab_link": true
    },
    "kernelspec": {
      "name": "python3",
      "display_name": "Python 3"
    }
  },
  "cells": [
    {
      "cell_type": "markdown",
      "metadata": {
        "id": "view-in-github",
        "colab_type": "text"
      },
      "source": [
        "<a href=\"https://colab.research.google.com/github/ash12hub/DS-Unit-1-Sprint-1-Dealing-With-Data/blob/master/Ashwin_Raghav_Swamy_LS_DS_114_Making_Data_backed_Assertions.ipynb\" target=\"_parent\"><img src=\"https://colab.research.google.com/assets/colab-badge.svg\" alt=\"Open In Colab\"/></a>"
      ]
    },
    {
      "metadata": {
        "id": "Okfr_uhwhS1X",
        "colab_type": "text"
      },
      "cell_type": "markdown",
      "source": [
        "# Lambda School Data Science - Making Data-backed Assertions\n",
        "\n",
        "This is, for many, the main point of data science - to create and support reasoned arguments based on evidence. It's not a topic to master in a day, but it is worth some focused time thinking about and structuring your approach to it."
      ]
    },
    {
      "metadata": {
        "id": "9dtJETFRhnOG",
        "colab_type": "text"
      },
      "cell_type": "markdown",
      "source": [
        "## Lecture - generating a confounding variable\n",
        "\n",
        "The prewatch material told a story about a hypothetical health condition where both the drug usage and overall health outcome were related to gender - thus making gender a confounding variable, obfuscating the possible relationship between the drug and the outcome.\n",
        "\n",
        "Let's use Python to generate data that actually behaves in this fashion!"
      ]
    },
    {
      "metadata": {
        "id": "WiBkgmPJhmhE",
        "colab_type": "code",
        "outputId": "ee199d9e-d602-432c-c8b6-44473487b62d",
        "colab": {
          "base_uri": "https://localhost:8080/",
          "height": 1054
        }
      },
      "cell_type": "code",
      "source": [
        "import random\n",
        "dir(random)  # Reminding ourselves what we can do here"
      ],
      "execution_count": 11,
      "outputs": [
        {
          "output_type": "execute_result",
          "data": {
            "text/plain": [
              "['BPF',\n",
              " 'LOG4',\n",
              " 'NV_MAGICCONST',\n",
              " 'RECIP_BPF',\n",
              " 'Random',\n",
              " 'SG_MAGICCONST',\n",
              " 'SystemRandom',\n",
              " 'TWOPI',\n",
              " '_BuiltinMethodType',\n",
              " '_MethodType',\n",
              " '_Sequence',\n",
              " '_Set',\n",
              " '__all__',\n",
              " '__builtins__',\n",
              " '__cached__',\n",
              " '__doc__',\n",
              " '__file__',\n",
              " '__loader__',\n",
              " '__name__',\n",
              " '__package__',\n",
              " '__spec__',\n",
              " '_acos',\n",
              " '_bisect',\n",
              " '_ceil',\n",
              " '_cos',\n",
              " '_e',\n",
              " '_exp',\n",
              " '_inst',\n",
              " '_itertools',\n",
              " '_log',\n",
              " '_pi',\n",
              " '_random',\n",
              " '_sha512',\n",
              " '_sin',\n",
              " '_sqrt',\n",
              " '_test',\n",
              " '_test_generator',\n",
              " '_urandom',\n",
              " '_warn',\n",
              " 'betavariate',\n",
              " 'choice',\n",
              " 'choices',\n",
              " 'expovariate',\n",
              " 'gammavariate',\n",
              " 'gauss',\n",
              " 'getrandbits',\n",
              " 'getstate',\n",
              " 'lognormvariate',\n",
              " 'normalvariate',\n",
              " 'paretovariate',\n",
              " 'randint',\n",
              " 'random',\n",
              " 'randrange',\n",
              " 'sample',\n",
              " 'seed',\n",
              " 'setstate',\n",
              " 'shuffle',\n",
              " 'triangular',\n",
              " 'uniform',\n",
              " 'vonmisesvariate',\n",
              " 'weibullvariate']"
            ]
          },
          "metadata": {
            "tags": []
          },
          "execution_count": 11
        }
      ]
    },
    {
      "metadata": {
        "id": "Ks5qFtpnq-q5",
        "colab_type": "code",
        "outputId": "c62ce9c3-39d4-4a00-a080-1f3f5a2de21d",
        "colab": {
          "base_uri": "https://localhost:8080/",
          "height": 34
        }
      },
      "cell_type": "code",
      "source": [
        "# Let's think of another scenario:\n",
        "# We work for a company that sells accessories for mobile phones.\n",
        "# They have an ecommerce site, and we are supposed to analyze logs\n",
        "# to determine what sort of usage is related to purchases, and thus guide\n",
        "# website development to encourage higher conversion.\n",
        "\n",
        "# The hypothesis - users who spend longer on the site tend\n",
        "# to spend more. Seems reasonable, no?\n",
        "\n",
        "# But there's a confounding variable! If they're on a phone, they:\n",
        "# a) Spend less time on the site, but\n",
        "# b) Are more likely to be interested in the actual products!\n",
        "\n",
        "# Let's use namedtuple to represent our data\n",
        "\n",
        "from collections import namedtuple\n",
        "# purchased and mobile are bools, time_on_site in seconds\n",
        "User = namedtuple('User', ['purchased','time_on_site', 'mobile'])\n",
        "\n",
        "example_user = User(False, 12, False)\n",
        "print(example_user)"
      ],
      "execution_count": 12,
      "outputs": [
        {
          "output_type": "stream",
          "text": [
            "User(purchased=False, time_on_site=12, mobile=False)\n"
          ],
          "name": "stdout"
        }
      ]
    },
    {
      "metadata": {
        "id": "lfPiHNG_sefL",
        "colab_type": "code",
        "outputId": "724e612b-923f-449a-8e2b-8259d077d7a2",
        "colab": {
          "base_uri": "https://localhost:8080/",
          "height": 54
        }
      },
      "cell_type": "code",
      "source": [
        "# And now let's generate 1000 example users\n",
        "# 750 mobile, 250 not (i.e. desktop)\n",
        "# A desktop user has a base conversion likelihood of 10%\n",
        "# And it goes up by 1% for each 15 seconds they spend on the site\n",
        "# And they spend anywhere from 10 seconds to 10 minutes on the site (uniform)\n",
        "# Mobile users spend on average half as much time on the site as desktop\n",
        "# But have three times as much base likelihood of buying something\n",
        "\n",
        "users = []\n",
        "\n",
        "for _ in range(250):\n",
        "  # Desktop users\n",
        "  time_on_site = random.uniform(10, 600)\n",
        "  purchased = random.random() < 0.1 + (time_on_site / 1500)\n",
        "  users.append(User(purchased, time_on_site, False))\n",
        "  \n",
        "for _ in range(750):\n",
        "  # Mobile users\n",
        "  time_on_site = random.uniform(5, 300)\n",
        "  purchased = random.random() < 0.3 + (time_on_site / 1500)\n",
        "  users.append(User(purchased, time_on_site, True))\n",
        "  \n",
        "random.shuffle(users)\n",
        "print(users[:10])"
      ],
      "execution_count": 13,
      "outputs": [
        {
          "output_type": "stream",
          "text": [
            "[User(purchased=True, time_on_site=53.5929467752866, mobile=True), User(purchased=True, time_on_site=150.76910585097826, mobile=True), User(purchased=True, time_on_site=170.03487135583882, mobile=True), User(purchased=True, time_on_site=104.15982735126963, mobile=True), User(purchased=False, time_on_site=126.13567816767824, mobile=True), User(purchased=False, time_on_site=258.2386014244204, mobile=True), User(purchased=False, time_on_site=136.21318607819438, mobile=False), User(purchased=False, time_on_site=254.18809546002478, mobile=False), User(purchased=False, time_on_site=101.25037047071163, mobile=True), User(purchased=False, time_on_site=163.24518725479996, mobile=True)]\n"
          ],
          "name": "stdout"
        }
      ]
    },
    {
      "metadata": {
        "id": "9gDYb5qGuRzy",
        "colab_type": "code",
        "outputId": "47e7723b-deec-4267-cb43-d24b00913aaf",
        "colab": {
          "base_uri": "https://localhost:8080/",
          "height": 204
        }
      },
      "cell_type": "code",
      "source": [
        "# Let's put this in a dataframe so we can look at it more easily\n",
        "import pandas as pd\n",
        "user_data = pd.DataFrame(users)\n",
        "user_data.head()"
      ],
      "execution_count": 14,
      "outputs": [
        {
          "output_type": "execute_result",
          "data": {
            "text/html": [
              "<div>\n",
              "<style scoped>\n",
              "    .dataframe tbody tr th:only-of-type {\n",
              "        vertical-align: middle;\n",
              "    }\n",
              "\n",
              "    .dataframe tbody tr th {\n",
              "        vertical-align: top;\n",
              "    }\n",
              "\n",
              "    .dataframe thead th {\n",
              "        text-align: right;\n",
              "    }\n",
              "</style>\n",
              "<table border=\"1\" class=\"dataframe\">\n",
              "  <thead>\n",
              "    <tr style=\"text-align: right;\">\n",
              "      <th></th>\n",
              "      <th>purchased</th>\n",
              "      <th>time_on_site</th>\n",
              "      <th>mobile</th>\n",
              "    </tr>\n",
              "  </thead>\n",
              "  <tbody>\n",
              "    <tr>\n",
              "      <th>0</th>\n",
              "      <td>True</td>\n",
              "      <td>53.592947</td>\n",
              "      <td>True</td>\n",
              "    </tr>\n",
              "    <tr>\n",
              "      <th>1</th>\n",
              "      <td>True</td>\n",
              "      <td>150.769106</td>\n",
              "      <td>True</td>\n",
              "    </tr>\n",
              "    <tr>\n",
              "      <th>2</th>\n",
              "      <td>True</td>\n",
              "      <td>170.034871</td>\n",
              "      <td>True</td>\n",
              "    </tr>\n",
              "    <tr>\n",
              "      <th>3</th>\n",
              "      <td>True</td>\n",
              "      <td>104.159827</td>\n",
              "      <td>True</td>\n",
              "    </tr>\n",
              "    <tr>\n",
              "      <th>4</th>\n",
              "      <td>False</td>\n",
              "      <td>126.135678</td>\n",
              "      <td>True</td>\n",
              "    </tr>\n",
              "  </tbody>\n",
              "</table>\n",
              "</div>"
            ],
            "text/plain": [
              "   purchased  time_on_site  mobile\n",
              "0       True     53.592947    True\n",
              "1       True    150.769106    True\n",
              "2       True    170.034871    True\n",
              "3       True    104.159827    True\n",
              "4      False    126.135678    True"
            ]
          },
          "metadata": {
            "tags": []
          },
          "execution_count": 14
        }
      ]
    },
    {
      "metadata": {
        "id": "sr6IJv77ulVl",
        "colab_type": "code",
        "outputId": "6aa8ff04-e356-4178-b01f-572644ebf1c2",
        "colab": {
          "base_uri": "https://localhost:8080/",
          "height": 191
        }
      },
      "cell_type": "code",
      "source": [
        "# Let's use crosstabulation to try to see what's going on\n",
        "pd.crosstab(user_data['purchased'], user_data['time_on_site'])"
      ],
      "execution_count": 15,
      "outputs": [
        {
          "output_type": "execute_result",
          "data": {
            "text/html": [
              "<div>\n",
              "<style scoped>\n",
              "    .dataframe tbody tr th:only-of-type {\n",
              "        vertical-align: middle;\n",
              "    }\n",
              "\n",
              "    .dataframe tbody tr th {\n",
              "        vertical-align: top;\n",
              "    }\n",
              "\n",
              "    .dataframe thead th {\n",
              "        text-align: right;\n",
              "    }\n",
              "</style>\n",
              "<table border=\"1\" class=\"dataframe\">\n",
              "  <thead>\n",
              "    <tr style=\"text-align: right;\">\n",
              "      <th>time_on_site</th>\n",
              "      <th>6.129894981962449</th>\n",
              "      <th>6.9656622293171875</th>\n",
              "      <th>7.347251770453456</th>\n",
              "      <th>7.367046730094224</th>\n",
              "      <th>7.44476098999802</th>\n",
              "      <th>7.94949158636552</th>\n",
              "      <th>9.24251473426126</th>\n",
              "      <th>9.245871213959026</th>\n",
              "      <th>9.402234725702828</th>\n",
              "      <th>9.420099436747357</th>\n",
              "      <th>...</th>\n",
              "      <th>573.3331918857986</th>\n",
              "      <th>574.9077802930975</th>\n",
              "      <th>576.0503267132963</th>\n",
              "      <th>584.9338508591928</th>\n",
              "      <th>589.0609969252337</th>\n",
              "      <th>589.289925493586</th>\n",
              "      <th>589.8807690567894</th>\n",
              "      <th>591.8667515062981</th>\n",
              "      <th>593.8984699426222</th>\n",
              "      <th>597.5552982534095</th>\n",
              "    </tr>\n",
              "    <tr>\n",
              "      <th>purchased</th>\n",
              "      <th></th>\n",
              "      <th></th>\n",
              "      <th></th>\n",
              "      <th></th>\n",
              "      <th></th>\n",
              "      <th></th>\n",
              "      <th></th>\n",
              "      <th></th>\n",
              "      <th></th>\n",
              "      <th></th>\n",
              "      <th></th>\n",
              "      <th></th>\n",
              "      <th></th>\n",
              "      <th></th>\n",
              "      <th></th>\n",
              "      <th></th>\n",
              "      <th></th>\n",
              "      <th></th>\n",
              "      <th></th>\n",
              "      <th></th>\n",
              "      <th></th>\n",
              "    </tr>\n",
              "  </thead>\n",
              "  <tbody>\n",
              "    <tr>\n",
              "      <th>False</th>\n",
              "      <td>0</td>\n",
              "      <td>1</td>\n",
              "      <td>1</td>\n",
              "      <td>0</td>\n",
              "      <td>1</td>\n",
              "      <td>1</td>\n",
              "      <td>1</td>\n",
              "      <td>0</td>\n",
              "      <td>1</td>\n",
              "      <td>1</td>\n",
              "      <td>...</td>\n",
              "      <td>1</td>\n",
              "      <td>1</td>\n",
              "      <td>0</td>\n",
              "      <td>1</td>\n",
              "      <td>0</td>\n",
              "      <td>0</td>\n",
              "      <td>0</td>\n",
              "      <td>1</td>\n",
              "      <td>1</td>\n",
              "      <td>0</td>\n",
              "    </tr>\n",
              "    <tr>\n",
              "      <th>True</th>\n",
              "      <td>1</td>\n",
              "      <td>0</td>\n",
              "      <td>0</td>\n",
              "      <td>1</td>\n",
              "      <td>0</td>\n",
              "      <td>0</td>\n",
              "      <td>0</td>\n",
              "      <td>1</td>\n",
              "      <td>0</td>\n",
              "      <td>0</td>\n",
              "      <td>...</td>\n",
              "      <td>0</td>\n",
              "      <td>0</td>\n",
              "      <td>1</td>\n",
              "      <td>0</td>\n",
              "      <td>1</td>\n",
              "      <td>1</td>\n",
              "      <td>1</td>\n",
              "      <td>0</td>\n",
              "      <td>0</td>\n",
              "      <td>1</td>\n",
              "    </tr>\n",
              "  </tbody>\n",
              "</table>\n",
              "<p>2 rows × 1000 columns</p>\n",
              "</div>"
            ],
            "text/plain": [
              "time_on_site  6.129895    6.965662    7.347252    7.367047    7.444761    \\\n",
              "purchased                                                                  \n",
              "False                  0           1           1           0           1   \n",
              "True                   1           0           0           1           0   \n",
              "\n",
              "time_on_site  7.949492    9.242515    9.245871    9.402235    9.420099    ...  \\\n",
              "purchased                                                                 ...   \n",
              "False                  1           1           0           1           1  ...   \n",
              "True                   0           0           1           0           0  ...   \n",
              "\n",
              "time_on_site  573.333192  574.907780  576.050327  584.933851  589.060997  \\\n",
              "purchased                                                                  \n",
              "False                  1           1           0           1           0   \n",
              "True                   0           0           1           0           1   \n",
              "\n",
              "time_on_site  589.289925  589.880769  591.866752  593.898470  597.555298  \n",
              "purchased                                                                 \n",
              "False                  0           0           1           1           0  \n",
              "True                   1           1           0           0           1  \n",
              "\n",
              "[2 rows x 1000 columns]"
            ]
          },
          "metadata": {
            "tags": []
          },
          "execution_count": 15
        }
      ]
    },
    {
      "metadata": {
        "id": "hvAv6J3EwA9s",
        "colab_type": "code",
        "outputId": "1e829055-266d-48ea-9239-2826a4a85978",
        "colab": {
          "base_uri": "https://localhost:8080/",
          "height": 142
        }
      },
      "cell_type": "code",
      "source": [
        "# OK, that's not quite what we want\n",
        "# Time is continuous! We need to put it in discrete buckets\n",
        "# Pandas calls these bins, and pandas.cut helps make them\n",
        "\n",
        "time_bins = pd.cut(user_data['time_on_site'], 5)  # 5 equal-sized bins\n",
        "pd.crosstab(user_data['purchased'], time_bins.astype(str))"
      ],
      "execution_count": 49,
      "outputs": [
        {
          "output_type": "execute_result",
          "data": {
            "text/html": [
              "<div>\n",
              "<style scoped>\n",
              "    .dataframe tbody tr th:only-of-type {\n",
              "        vertical-align: middle;\n",
              "    }\n",
              "\n",
              "    .dataframe tbody tr th {\n",
              "        vertical-align: top;\n",
              "    }\n",
              "\n",
              "    .dataframe thead th {\n",
              "        text-align: right;\n",
              "    }\n",
              "</style>\n",
              "<table border=\"1\" class=\"dataframe\">\n",
              "  <thead>\n",
              "    <tr style=\"text-align: right;\">\n",
              "      <th>time_on_site</th>\n",
              "      <th>(124.415, 242.7]</th>\n",
              "      <th>(242.7, 360.985]</th>\n",
              "      <th>(360.985, 479.27]</th>\n",
              "      <th>(479.27, 597.555]</th>\n",
              "      <th>(5.538, 124.415]</th>\n",
              "    </tr>\n",
              "    <tr>\n",
              "      <th>purchased</th>\n",
              "      <th></th>\n",
              "      <th></th>\n",
              "      <th></th>\n",
              "      <th></th>\n",
              "      <th></th>\n",
              "    </tr>\n",
              "  </thead>\n",
              "  <tbody>\n",
              "    <tr>\n",
              "      <th>False</th>\n",
              "      <td>196</td>\n",
              "      <td>100</td>\n",
              "      <td>33</td>\n",
              "      <td>28</td>\n",
              "      <td>254</td>\n",
              "    </tr>\n",
              "    <tr>\n",
              "      <th>True</th>\n",
              "      <td>145</td>\n",
              "      <td>96</td>\n",
              "      <td>21</td>\n",
              "      <td>21</td>\n",
              "      <td>106</td>\n",
              "    </tr>\n",
              "  </tbody>\n",
              "</table>\n",
              "</div>"
            ],
            "text/plain": [
              "time_on_site  (124.415, 242.7]  (242.7, 360.985]  (360.985, 479.27]  \\\n",
              "purchased                                                             \n",
              "False                      196               100                 33   \n",
              "True                       145                96                 21   \n",
              "\n",
              "time_on_site  (479.27, 597.555]  (5.538, 124.415]  \n",
              "purchased                                          \n",
              "False                        28               254  \n",
              "True                         21               106  "
            ]
          },
          "metadata": {
            "tags": []
          },
          "execution_count": 49
        }
      ]
    },
    {
      "metadata": {
        "id": "pjcXnJw0wfaj",
        "colab_type": "code",
        "outputId": "e0227831-3da6-4645-89c7-a19dbfb7b229",
        "colab": {
          "base_uri": "https://localhost:8080/",
          "height": 142
        }
      },
      "cell_type": "code",
      "source": [
        "# We can make this a bit clearer by normalizing (getting %)\n",
        "pd.crosstab(user_data['purchased'], time_bins.astype(str), normalize='columns')"
      ],
      "execution_count": 50,
      "outputs": [
        {
          "output_type": "execute_result",
          "data": {
            "text/html": [
              "<div>\n",
              "<style scoped>\n",
              "    .dataframe tbody tr th:only-of-type {\n",
              "        vertical-align: middle;\n",
              "    }\n",
              "\n",
              "    .dataframe tbody tr th {\n",
              "        vertical-align: top;\n",
              "    }\n",
              "\n",
              "    .dataframe thead th {\n",
              "        text-align: right;\n",
              "    }\n",
              "</style>\n",
              "<table border=\"1\" class=\"dataframe\">\n",
              "  <thead>\n",
              "    <tr style=\"text-align: right;\">\n",
              "      <th>time_on_site</th>\n",
              "      <th>(124.415, 242.7]</th>\n",
              "      <th>(242.7, 360.985]</th>\n",
              "      <th>(360.985, 479.27]</th>\n",
              "      <th>(479.27, 597.555]</th>\n",
              "      <th>(5.538, 124.415]</th>\n",
              "    </tr>\n",
              "    <tr>\n",
              "      <th>purchased</th>\n",
              "      <th></th>\n",
              "      <th></th>\n",
              "      <th></th>\n",
              "      <th></th>\n",
              "      <th></th>\n",
              "    </tr>\n",
              "  </thead>\n",
              "  <tbody>\n",
              "    <tr>\n",
              "      <th>False</th>\n",
              "      <td>0.57478</td>\n",
              "      <td>0.510204</td>\n",
              "      <td>0.611111</td>\n",
              "      <td>0.571429</td>\n",
              "      <td>0.705556</td>\n",
              "    </tr>\n",
              "    <tr>\n",
              "      <th>True</th>\n",
              "      <td>0.42522</td>\n",
              "      <td>0.489796</td>\n",
              "      <td>0.388889</td>\n",
              "      <td>0.428571</td>\n",
              "      <td>0.294444</td>\n",
              "    </tr>\n",
              "  </tbody>\n",
              "</table>\n",
              "</div>"
            ],
            "text/plain": [
              "time_on_site  (124.415, 242.7]  (242.7, 360.985]  (360.985, 479.27]  \\\n",
              "purchased                                                             \n",
              "False                  0.57478          0.510204           0.611111   \n",
              "True                   0.42522          0.489796           0.388889   \n",
              "\n",
              "time_on_site  (479.27, 597.555]  (5.538, 124.415]  \n",
              "purchased                                          \n",
              "False                  0.571429          0.705556  \n",
              "True                   0.428571          0.294444  "
            ]
          },
          "metadata": {
            "tags": []
          },
          "execution_count": 50
        }
      ]
    },
    {
      "metadata": {
        "id": "C3GzvDxlvZMa",
        "colab_type": "code",
        "outputId": "b0b7c3de-af25-4fc6-d5da-b4b31a91dec6",
        "colab": {
          "base_uri": "https://localhost:8080/",
          "height": 142
        }
      },
      "cell_type": "code",
      "source": [
        "# That seems counter to our hypothesis\n",
        "# More time on the site can actually have fewer purchases\n",
        "\n",
        "# But we know why, since we generated the data!\n",
        "# Let's look at mobile and purchased\n",
        "pd.crosstab(user_data['purchased'], user_data['mobile'].astype(str), normalize='columns')"
      ],
      "execution_count": 48,
      "outputs": [
        {
          "output_type": "execute_result",
          "data": {
            "text/html": [
              "<div>\n",
              "<style scoped>\n",
              "    .dataframe tbody tr th:only-of-type {\n",
              "        vertical-align: middle;\n",
              "    }\n",
              "\n",
              "    .dataframe tbody tr th {\n",
              "        vertical-align: top;\n",
              "    }\n",
              "\n",
              "    .dataframe thead th {\n",
              "        text-align: right;\n",
              "    }\n",
              "</style>\n",
              "<table border=\"1\" class=\"dataframe\">\n",
              "  <thead>\n",
              "    <tr style=\"text-align: right;\">\n",
              "      <th>mobile</th>\n",
              "      <th>False</th>\n",
              "      <th>True</th>\n",
              "    </tr>\n",
              "    <tr>\n",
              "      <th>purchased</th>\n",
              "      <th></th>\n",
              "      <th></th>\n",
              "    </tr>\n",
              "  </thead>\n",
              "  <tbody>\n",
              "    <tr>\n",
              "      <th>False</th>\n",
              "      <td>0.7</td>\n",
              "      <td>0.581333</td>\n",
              "    </tr>\n",
              "    <tr>\n",
              "      <th>True</th>\n",
              "      <td>0.3</td>\n",
              "      <td>0.418667</td>\n",
              "    </tr>\n",
              "  </tbody>\n",
              "</table>\n",
              "</div>"
            ],
            "text/plain": [
              "mobile     False      True\n",
              "purchased                 \n",
              "False        0.7  0.581333\n",
              "True         0.3  0.418667"
            ]
          },
          "metadata": {
            "tags": []
          },
          "execution_count": 48
        }
      ]
    },
    {
      "metadata": {
        "id": "KQb-wU60xCum",
        "colab_type": "code",
        "colab": {}
      },
      "cell_type": "code",
      "source": [
        "# Yep, mobile users are more likely to buy things\n",
        "# But we're still not seeing the *whole* story until we look at all 3 at once\n",
        "\n",
        "# Live/stretch goal - how can we do that?"
      ],
      "execution_count": 0,
      "outputs": []
    },
    {
      "metadata": {
        "id": "lOqaPds9huME",
        "colab_type": "text"
      },
      "cell_type": "markdown",
      "source": [
        "## Assignment - what's going on here?\n",
        "\n",
        "Consider the data in `persons.csv` (already prepared for you, in the repo for the week). It has four columns - a unique id, followed by age (in years), weight (in lbs), and exercise time (in minutes/week) of 1200 (hypothetical) people.\n",
        "\n",
        "Try to figure out which variables are possibly related to each other, and which may be confounding relationships."
      ]
    },
    {
      "metadata": {
        "id": "eCI-cd5jPnmb",
        "colab_type": "code",
        "colab": {
          "resources": {
            "http://localhost:8080/nbextensions/google.colab/files.js": {
              "data": "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",
              "ok": true,
              "headers": [
                [
                  "content-type",
                  "application/javascript"
                ]
              ],
              "status": 200,
              "status_text": ""
            }
          },
          "base_uri": "https://localhost:8080/",
          "height": 108
        },
        "outputId": "0862e960-f551-4e7f-f69c-9632cfd1d2ec"
      },
      "cell_type": "code",
      "source": [
        "from google.colab import files\n",
        "\n",
        "files.upload()\n"
      ],
      "execution_count": 19,
      "outputs": [
        {
          "output_type": "display_data",
          "data": {
            "text/html": [
              "\n",
              "     <input type=\"file\" id=\"files-b1ffca8b-0e0a-4afb-b4cf-a9548d6b55c3\" name=\"files[]\" multiple disabled />\n",
              "     <output id=\"result-b1ffca8b-0e0a-4afb-b4cf-a9548d6b55c3\">\n",
              "      Upload widget is only available when the cell has been executed in the\n",
              "      current browser session. Please rerun this cell to enable.\n",
              "      </output>\n",
              "      <script src=\"/nbextensions/google.colab/files.js\"></script> "
            ],
            "text/plain": [
              "<IPython.core.display.HTML object>"
            ]
          },
          "metadata": {
            "tags": []
          }
        },
        {
          "output_type": "stream",
          "text": [
            "Saving persons.csv to persons.csv\n"
          ],
          "name": "stdout"
        },
        {
          "output_type": "execute_result",
          "data": {
            "text/plain": [
              "{'persons.csv': b',age,weight,exercise_time\\n0,44,118,192\\n1,41,161,35\\n2,46,128,220\\n3,39,216,57\\n4,28,116,182\\n5,58,103,165\\n6,55,161,107\\n7,21,188,37\\n8,55,216,79\\n9,50,127,267\\n10,21,160,228\\n11,43,102,78\\n12,73,209,44\\n13,27,165,48\\n14,21,169,171\\n15,36,131,194\\n16,49,171,191\\n17,69,172,147\\n18,18,122,271\\n19,55,157,111\\n20,19,218,28\\n21,34,143,24\\n22,20,116,267\\n23,20,159,241\\n24,32,117,181\\n25,71,103,21\\n26,21,164,229\\n27,79,189,38\\n28,72,149,110\\n29,26,117,279\\n30,29,157,91\\n31,40,168,115\\n32,78,208,67\\n33,70,169,172\\n34,32,163,175\\n35,61,133,147\\n36,58,145,164\\n37,41,158,63\\n38,69,138,159\\n39,40,200,78\\n40,35,112,270\\n41,80,186,87\\n42,72,211,100\\n43,63,158,151\\n44,74,152,83\\n45,52,140,187\\n46,71,136,75\\n47,27,192,6\\n48,23,120,264\\n49,49,149,171\\n50,61,193,71\\n51,49,140,280\\n52,50,109,194\\n53,60,134,162\\n54,70,244,18\\n55,34,101,182\\n56,60,170,182\\n57,47,200,105\\n58,53,122,259\\n59,69,153,43\\n60,31,109,164\\n61,68,109,25\\n62,41,128,225\\n63,28,142,215\\n64,64,154,249\\n65,31,231,2\\n66,32,186,187\\n67,72,207,2\\n68,55,130,300\\n69,40,137,238\\n70,58,113,276\\n71,79,160,73\\n72,58,172,61\\n73,36,198,71\\n74,69,193,130\\n75,58,100,280\\n76,60,199,125\\n77,69,214,20\\n78,51,214,76\\n79,74,156,20\\n80,74,200,141\\n81,30,173,175\\n82,29,119,142\\n83,18,114,104\\n84,32,165,109\\n85,47,213,68\\n86,73,161,18\\n87,72,160,120\\n88,53,108,53\\n89,32,205,0\\n90,33,187,188\\n91,57,125,175\\n92,29,172,226\\n93,35,198,156\\n94,37,147,283\\n95,30,153,9\\n96,40,177,215\\n97,68,164,93\\n98,55,199,132\\n99,71,110,16\\n100,66,159,168\\n101,26,139,258\\n102,34,131,225\\n103,80,216,22\\n104,49,176,209\\n105,45,129,183\\n106,49,130,276\\n107,56,191,94\\n108,38,138,170\\n109,64,159,234\\n110,19,152,222\\n111,70,164,154\\n112,35,180,63\\n113,32,169,179\\n114,59,143,288\\n115,75,182,117\\n116,80,170,61\\n117,61,218,65\\n118,49,172,212\\n119,32,129,193\\n120,70,162,100\\n121,34,206,36\\n122,20,106,198\\n123,68,138,153\\n124,39,113,293\\n125,75,137,120\\n126,67,237,17\\n127,72,162,170\\n128,36,191,111\\n129,79,165,2\\n130,24,236,3\\n131,60,174,67\\n132,62,229,22\\n133,25,183,93\\n134,28,138,160\\n135,26,155,91\\n136,23,127,20\\n137,65,203,17\\n138,51,204,28\\n139,21,156,232\\n140,63,198,147\\n141,20,198,152\\n142,57,198,83\\n143,28,130,181\\n144,33,214,38\\n145,27,148,160\\n146,41,180,35\\n147,50,171,113\\n148,23,116,70\\n149,24,117,273\\n150,24,129,247\\n151,33,152,248\\n152,64,148,183\\n153,37,123,90\\n154,33,168,227\\n155,34,142,194\\n156,30,116,24\\n157,73,225,64\\n158,80,221,67\\n159,76,113,37\\n160,39,124,221\\n161,64,173,32\\n162,46,219,3\\n163,31,101,222\\n164,55,118,288\\n165,71,124,15\\n166,53,158,126\\n167,49,130,57\\n168,51,168,61\\n169,67,202,24\\n170,28,106,263\\n171,18,138,235\\n172,58,199,1\\n173,72,182,148\\n174,48,110,186\\n175,22,180,57\\n176,59,145,278\\n177,75,150,79\\n178,63,101,219\\n179,47,104,280\\n180,43,152,21\\n181,78,223,78\\n182,32,164,96\\n183,42,158,173\\n184,40,127,257\\n185,62,150,192\\n186,47,147,213\\n187,57,117,206\\n188,35,154,132\\n189,29,210,49\\n190,41,117,289\\n191,43,180,80\\n192,43,226,43\\n193,71,131,6\\n194,29,102,280\\n195,69,188,153\\n196,39,135,216\\n197,74,100,4\\n198,54,109,219\\n199,29,119,282\\n200,69,151,80\\n201,34,126,161\\n202,80,238,34\\n203,18,120,161\\n204,39,180,98\\n205,75,110,142\\n206,75,216,97\\n207,62,204,31\\n208,47,200,147\\n209,29,108,161\\n210,66,141,214\\n211,58,174,79\\n212,70,122,109\\n213,67,136,113\\n214,53,127,267\\n215,59,107,222\\n216,69,182,177\\n217,60,208,96\\n218,62,146,255\\n219,64,101,66\\n220,70,153,97\\n221,30,192,118\\n222,71,220,67\\n223,49,163,250\\n224,27,216,38\\n225,49,128,300\\n226,67,112,145\\n227,74,174,22\\n228,29,133,264\\n229,37,208,4\\n230,30,181,72\\n231,34,106,51\\n232,61,112,239\\n233,54,108,170\\n234,33,105,242\\n235,25,126,234\\n236,75,121,116\\n237,77,129,110\\n238,21,114,195\\n239,64,153,80\\n240,53,150,275\\n241,69,106,103\\n242,44,135,80\\n243,38,115,128\\n244,74,161,66\\n245,57,123,261\\n246,40,107,86\\n247,26,133,262\\n248,78,136,95\\n249,34,125,250\\n250,20,185,66\\n251,64,172,231\\n252,30,165,256\\n253,38,108,287\\n254,68,157,206\\n255,65,151,19\\n256,59,188,185\\n257,32,111,297\\n258,79,218,55\\n259,19,197,21\\n260,72,200,139\\n261,75,181,139\\n262,71,139,35\\n263,51,121,233\\n264,44,156,274\\n265,26,156,260\\n266,65,193,88\\n267,33,153,103\\n268,71,166,89\\n269,22,164,31\\n270,80,212,16\\n271,26,163,136\\n272,20,148,166\\n273,57,123,157\\n274,27,162,241\\n275,47,137,227\\n276,33,206,93\\n277,41,203,117\\n278,44,165,56\\n279,39,104,221\\n280,77,197,22\\n281,69,159,82\\n282,31,153,41\\n283,44,147,264\\n284,43,125,266\\n285,34,183,189\\n286,40,100,277\\n287,58,159,79\\n288,37,100,163\\n289,29,141,191\\n290,60,173,94\\n291,61,146,181\\n292,24,168,92\\n293,51,181,33\\n294,18,161,85\\n295,48,135,256\\n296,29,160,40\\n297,25,144,174\\n298,32,215,37\\n299,57,214,72\\n300,28,104,139\\n301,69,208,50\\n302,24,155,153\\n303,56,176,207\\n304,23,113,50\\n305,30,176,47\\n306,19,183,160\\n307,48,119,298\\n308,67,128,34\\n309,55,105,13\\n310,34,119,51\\n311,51,215,92\\n312,61,121,72\\n313,34,146,57\\n314,74,182,62\\n315,51,174,184\\n316,64,132,108\\n317,33,122,72\\n318,49,191,41\\n319,50,125,279\\n320,75,190,17\\n321,72,141,90\\n322,68,209,41\\n323,18,171,217\\n324,29,195,54\\n325,22,137,122\\n326,64,156,236\\n327,29,132,249\\n328,44,164,169\\n329,52,147,174\\n330,60,183,33\\n331,49,216,2\\n332,29,114,144\\n333,28,208,54\\n334,20,144,281\\n335,58,114,69\\n336,63,142,178\\n337,19,177,91\\n338,21,102,174\\n339,65,100,18\\n340,41,158,127\\n341,27,115,192\\n342,28,115,249\\n343,25,111,58\\n344,26,154,212\\n345,74,171,17\\n346,21,168,152\\n347,48,108,261\\n348,39,218,13\\n349,34,204,100\\n350,63,194,115\\n351,19,108,262\\n352,66,169,66\\n353,26,137,287\\n354,55,141,245\\n355,44,125,247\\n356,43,126,244\\n357,38,148,241\\n358,71,166,149\\n359,66,175,83\\n360,67,162,92\\n361,73,183,61\\n362,30,102,219\\n363,51,146,300\\n364,56,140,202\\n365,25,173,194\\n366,29,137,50\\n367,30,187,34\\n368,23,130,279\\n369,75,198,121\\n370,48,144,32\\n371,61,105,3\\n372,18,184,119\\n373,30,137,243\\n374,71,204,28\\n375,48,209,76\\n376,51,204,115\\n377,22,153,144\\n378,31,133,276\\n379,28,214,54\\n380,66,190,70\\n381,24,159,167\\n382,71,113,185\\n383,73,176,136\\n384,24,173,185\\n385,49,137,242\\n386,67,202,52\\n387,25,141,253\\n388,41,107,145\\n389,61,155,265\\n390,56,214,65\\n391,44,132,77\\n392,80,136,43\\n393,51,120,3\\n394,59,149,65\\n395,70,125,179\\n396,77,208,100\\n397,64,178,117\\n398,79,100,54\\n399,39,186,151\\n400,46,160,272\\n401,67,126,105\\n402,71,113,73\\n403,35,134,277\\n404,74,131,19\\n405,56,167,246\\n406,22,109,44\\n407,56,144,175\\n408,56,126,287\\n409,71,114,180\\n410,65,187,21\\n411,80,239,8\\n412,69,108,207\\n413,53,139,70\\n414,64,185,120\\n415,57,182,31\\n416,43,137,69\\n417,49,141,242\\n418,59,122,298\\n419,50,125,180\\n420,36,175,96\\n421,73,162,68\\n422,71,170,31\\n423,31,138,291\\n424,38,116,85\\n425,20,183,0\\n426,74,236,23\\n427,60,132,298\\n428,33,151,228\\n429,44,137,160\\n430,42,103,163\\n431,35,116,82\\n432,31,124,129\\n433,48,128,242\\n434,72,124,163\\n435,46,118,56\\n436,44,129,80\\n437,34,137,91\\n438,68,139,205\\n439,59,146,161\\n440,69,160,66\\n441,64,212,113\\n442,57,123,84\\n443,23,154,219\\n444,19,121,115\\n445,49,156,62\\n446,71,226,30\\n447,67,126,165\\n448,41,202,50\\n449,35,177,178\\n450,38,122,46\\n451,73,170,8\\n452,23,194,162\\n453,52,107,120\\n454,22,146,85\\n455,69,113,144\\n456,36,154,256\\n457,44,176,69\\n458,64,127,246\\n459,66,214,92\\n460,41,131,112\\n461,43,135,274\\n462,25,203,92\\n463,46,165,172\\n464,57,125,209\\n465,21,111,282\\n466,40,140,263\\n467,52,234,36\\n468,79,126,17\\n469,18,115,243\\n470,48,120,287\\n471,73,160,2\\n472,76,169,54\\n473,33,100,206\\n474,63,136,189\\n475,68,188,92\\n476,28,134,206\\n477,79,142,89\\n478,69,177,176\\n479,36,124,228\\n480,49,139,101\\n481,27,136,156\\n482,42,161,244\\n483,68,222,45\\n484,57,166,193\\n485,77,140,112\\n486,52,166,132\\n487,28,144,219\\n488,76,139,31\\n489,41,158,263\\n490,36,196,17\\n491,45,199,134\\n492,47,204,98\\n493,40,110,203\\n494,50,176,41\\n495,40,107,208\\n496,64,136,216\\n497,28,222,45\\n498,20,154,86\\n499,76,173,96\\n500,71,130,96\\n501,61,208,70\\n502,25,231,6\\n503,51,184,181\\n504,62,120,145\\n505,75,139,145\\n506,21,119,137\\n507,33,120,265\\n508,21,138,163\\n509,25,155,148\\n510,57,118,216\\n511,41,143,87\\n512,28,210,38\\n513,56,171,65\\n514,41,146,236\\n515,52,184,156\\n516,35,204,118\\n517,50,127,266\\n518,31,123,248\\n519,47,237,25\\n520,53,181,194\\n521,75,140,127\\n522,64,199,119\\n523,67,184,174\\n524,45,140,231\\n525,41,168,78\\n526,44,102,244\\n527,60,110,284\\n528,35,126,297\\n529,64,138,78\\n530,29,161,229\\n531,59,127,35\\n532,19,182,80\\n533,65,166,40\\n534,54,188,126\\n535,34,184,82\\n536,21,114,265\\n537,34,120,237\\n538,80,168,87\\n539,51,119,225\\n540,66,156,154\\n541,39,179,210\\n542,32,134,293\\n543,66,195,49\\n544,29,100,226\\n545,72,229,34\\n546,30,145,179\\n547,80,229,27\\n548,54,213,55\\n549,60,154,73\\n550,65,199,10\\n551,18,191,9\\n552,34,113,296\\n553,35,199,9\\n554,46,108,245\\n555,29,142,203\\n556,55,111,213\\n557,48,101,196\\n558,24,117,35\\n559,64,111,126\\n560,47,161,57\\n561,73,126,43\\n562,19,166,103\\n563,36,161,252\\n564,57,115,186\\n565,52,137,277\\n566,66,236,27\\n567,51,148,140\\n568,25,146,35\\n569,63,233,3\\n570,72,200,107\\n571,30,209,40\\n572,41,137,160\\n573,18,188,128\\n574,66,203,31\\n575,65,128,245\\n576,41,153,62\\n577,46,128,86\\n578,70,104,61\\n579,31,127,261\\n580,23,192,127\\n581,79,230,62\\n582,45,135,143\\n583,80,127,30\\n584,59,116,111\\n585,30,188,61\\n586,61,179,103\\n587,22,108,62\\n588,50,156,87\\n589,25,108,214\\n590,38,177,113\\n591,34,149,260\\n592,71,229,49\\n593,32,146,17\\n594,52,114,273\\n595,51,122,257\\n596,23,152,191\\n597,68,199,87\\n598,77,112,86\\n599,62,154,205\\n600,61,135,13\\n601,38,128,110\\n602,24,157,191\\n603,34,161,36\\n604,53,185,17\\n605,71,228,28\\n606,43,110,131\\n607,40,141,240\\n608,68,197,67\\n609,57,156,238\\n610,78,187,35\\n611,57,151,99\\n612,78,202,81\\n613,32,106,299\\n614,40,186,18\\n615,47,131,297\\n616,75,119,106\\n617,63,112,54\\n618,52,178,134\\n619,40,144,15\\n620,65,172,139\\n621,61,105,159\\n622,18,141,122\\n623,38,109,173\\n624,45,119,258\\n625,31,133,243\\n626,49,152,170\\n627,32,118,85\\n628,37,100,216\\n629,63,135,64\\n630,72,150,157\\n631,23,203,122\\n632,65,156,112\\n633,54,131,290\\n634,31,168,105\\n635,65,159,187\\n636,42,102,236\\n637,28,137,218\\n638,46,137,132\\n639,76,100,79\\n640,49,133,22\\n641,36,107,185\\n642,45,183,130\\n643,64,191,96\\n644,43,104,247\\n645,59,180,103\\n646,63,200,98\\n647,35,208,106\\n648,19,140,28\\n649,33,118,145\\n650,54,111,10\\n651,61,124,173\\n652,38,139,59\\n653,33,117,289\\n654,34,172,4\\n655,18,138,213\\n656,19,205,69\\n657,34,117,191\\n658,61,175,187\\n659,60,136,99\\n660,80,225,55\\n661,41,204,33\\n662,51,194,166\\n663,38,139,182\\n664,20,171,62\\n665,74,124,131\\n666,38,210,96\\n667,53,175,169\\n668,68,210,63\\n669,40,209,97\\n670,43,184,21\\n671,28,113,234\\n672,52,134,74\\n673,45,127,260\\n674,75,108,138\\n675,77,149,126\\n676,40,136,27\\n677,67,199,100\\n678,39,109,77\\n679,38,109,111\\n680,58,178,67\\n681,33,114,291\\n682,62,158,89\\n683,41,147,87\\n684,47,163,90\\n685,19,172,78\\n686,59,180,137\\n687,31,156,270\\n688,70,150,65\\n689,39,186,80\\n690,72,188,115\\n691,31,177,154\\n692,21,175,52\\n693,78,205,5\\n694,37,105,289\\n695,61,139,165\\n696,59,201,137\\n697,69,122,65\\n698,71,123,110\\n699,41,120,282\\n700,69,164,135\\n701,25,131,280\\n702,54,217,97\\n703,73,199,94\\n704,69,149,135\\n705,63,181,190\\n706,49,113,235\\n707,55,144,262\\n708,35,213,20\\n709,41,109,142\\n710,77,110,104\\n711,25,115,258\\n712,76,183,86\\n713,55,116,229\\n714,70,183,30\\n715,80,197,38\\n716,55,129,221\\n717,55,186,47\\n718,55,150,46\\n719,64,151,226\\n720,29,169,3\\n721,36,129,238\\n722,78,119,120\\n723,24,171,89\\n724,26,167,189\\n725,38,154,257\\n726,20,204,118\\n727,53,114,43\\n728,61,128,197\\n729,29,162,16\\n730,33,187,134\\n731,78,195,118\\n732,27,145,156\\n733,59,107,258\\n734,25,217,11\\n735,55,170,90\\n736,35,124,100\\n737,55,140,170\\n738,48,177,93\\n739,31,229,36\\n740,24,131,75\\n741,46,131,213\\n742,78,184,68\\n743,22,140,201\\n744,18,135,156\\n745,71,189,143\\n746,77,168,53\\n747,71,152,155\\n748,50,110,148\\n749,33,117,108\\n750,68,194,151\\n751,62,128,173\\n752,34,106,160\\n753,80,127,48\\n754,18,150,119\\n755,45,173,218\\n756,59,158,219\\n757,79,166,4\\n758,78,156,76\\n759,71,169,102\\n760,20,128,293\\n761,58,206,44\\n762,20,165,192\\n763,68,106,171\\n764,54,115,287\\n765,55,126,178\\n766,65,128,117\\n767,41,128,265\\n768,56,132,210\\n769,77,222,81\\n770,74,188,21\\n771,44,187,93\\n772,59,126,123\\n773,54,124,277\\n774,66,198,68\\n775,78,120,14\\n776,21,177,125\\n777,61,151,30\\n778,72,109,98\\n779,41,165,147\\n780,33,138,228\\n781,23,143,122\\n782,31,129,147\\n783,69,180,128\\n784,36,162,99\\n785,53,102,276\\n786,40,112,252\\n787,24,111,170\\n788,77,200,15\\n789,48,137,263\\n790,21,153,91\\n791,28,214,89\\n792,26,101,126\\n793,34,111,219\\n794,28,154,116\\n795,59,144,277\\n796,62,133,76\\n797,38,102,84\\n798,25,102,285\\n799,57,199,137\\n800,29,150,235\\n801,22,240,10\\n802,27,128,280\\n803,48,246,5\\n804,39,147,289\\n805,70,124,34\\n806,24,108,136\\n807,47,241,5\\n808,38,154,176\\n809,66,124,100\\n810,74,176,56\\n811,74,127,27\\n812,34,105,200\\n813,70,131,88\\n814,52,114,291\\n815,33,172,184\\n816,36,203,13\\n817,44,207,110\\n818,37,149,199\\n819,34,151,190\\n820,70,171,108\\n821,66,211,4\\n822,39,136,190\\n823,40,205,18\\n824,24,234,43\\n825,57,136,298\\n826,79,203,37\\n827,78,165,83\\n828,44,177,115\\n829,47,184,80\\n830,18,140,31\\n831,57,154,270\\n832,34,151,40\\n833,28,144,172\\n834,36,113,21\\n835,79,135,69\\n836,57,136,274\\n837,61,175,95\\n838,55,154,5\\n839,39,125,262\\n840,18,126,79\\n841,46,121,289\\n842,56,127,151\\n843,47,171,158\\n844,75,148,90\\n845,25,148,200\\n846,51,144,258\\n847,73,110,51\\n848,38,147,47\\n849,40,134,292\\n850,35,226,5\\n851,25,125,219\\n852,78,145,69\\n853,39,101,254\\n854,44,124,278\\n855,80,180,69\\n856,23,110,161\\n857,38,186,169\\n858,77,196,110\\n859,68,161,96\\n860,72,150,93\\n861,41,113,232\\n862,49,108,208\\n863,20,125,36\\n864,26,216,44\\n865,27,103,289\\n866,50,132,297\\n867,70,108,68\\n868,28,116,52\\n869,28,121,175\\n870,65,108,234\\n871,39,129,257\\n872,61,113,93\\n873,63,168,93\\n874,52,170,150\\n875,41,105,17\\n876,27,175,46\\n877,42,138,269\\n878,39,125,101\\n879,37,116,163\\n880,32,173,44\\n881,76,183,5\\n882,19,157,121\\n883,43,151,180\\n884,74,187,86\\n885,74,103,64\\n886,65,143,81\\n887,44,135,270\\n888,79,147,75\\n889,20,101,195\\n890,64,140,135\\n891,35,107,178\\n892,59,190,179\\n893,34,155,217\\n894,21,157,219\\n895,38,129,289\\n896,22,131,151\\n897,30,114,173\\n898,76,145,32\\n899,31,183,162\\n900,32,129,73\\n901,23,182,180\\n902,22,115,147\\n903,23,199,79\\n904,35,186,12\\n905,19,204,67\\n906,18,102,224\\n907,67,134,219\\n908,41,196,55\\n909,25,117,249\\n910,55,132,285\\n911,79,100,46\\n912,73,173,12\\n913,69,153,159\\n914,40,185,113\\n915,41,125,211\\n916,72,140,60\\n917,56,150,256\\n918,22,191,156\\n919,31,181,122\\n920,63,176,5\\n921,71,159,149\\n922,76,218,6\\n923,45,104,10\\n924,71,181,121\\n925,52,107,261\\n926,57,156,218\\n927,80,206,19\\n928,62,211,10\\n929,76,193,140\\n930,44,135,163\\n931,28,130,243\\n932,55,154,240\\n933,31,138,244\\n934,32,117,36\\n935,27,113,254\\n936,39,137,179\\n937,62,224,26\\n938,28,128,294\\n939,57,216,25\\n940,39,203,96\\n941,22,135,90\\n942,75,163,101\\n943,63,137,236\\n944,26,147,65\\n945,30,147,212\\n946,47,140,47\\n947,77,168,20\\n948,68,210,93\\n949,26,141,266\\n950,30,112,33\\n951,41,110,101\\n952,32,159,147\\n953,73,108,154\\n954,37,103,93\\n955,41,121,229\\n956,50,134,267\\n957,54,145,282\\n958,36,126,98\\n959,23,164,238\\n960,33,148,292\\n961,78,153,96\\n962,79,117,110\\n963,38,116,37\\n964,33,144,170\\n965,63,100,196\\n966,22,132,143\\n967,56,164,239\\n968,74,182,93\\n969,70,125,180\\n970,59,182,17\\n971,49,152,277\\n972,79,113,16\\n973,19,158,247\\n974,67,136,165\\n975,51,127,245\\n976,32,169,141\\n977,48,194,13\\n978,45,125,259\\n979,67,230,10\\n980,20,107,158\\n981,29,109,235\\n982,48,160,54\\n983,19,119,216\\n984,63,197,148\\n985,57,182,110\\n986,41,160,101\\n987,37,113,273\\n988,23,108,126\\n989,62,120,212\\n990,69,126,191\\n991,66,134,123\\n992,42,120,265\\n993,21,136,234\\n994,23,125,114\\n995,67,134,63\\n996,72,230,2\\n997,57,198,144\\n998,41,242,1\\n999,35,231,46\\n1000,62,131,228\\n1001,41,124,161\\n1002,19,157,170\\n1003,24,153,240\\n1004,37,101,164\\n1005,64,212,31\\n1006,68,147,21\\n1007,52,125,148\\n1008,68,127,220\\n1009,69,150,141\\n1010,67,165,39\\n1011,73,178,82\\n1012,38,157,115\\n1013,42,116,252\\n1014,73,218,51\\n1015,61,141,17\\n1016,21,216,101\\n1017,51,144,278\\n1018,72,198,81\\n1019,54,113,150\\n1020,47,122,83\\n1021,44,128,182\\n1022,47,211,94\\n1023,56,205,99\\n1024,47,116,268\\n1025,56,125,270\\n1026,19,123,211\\n1027,22,104,229\\n1028,73,181,64\\n1029,52,121,113\\n1030,51,100,286\\n1031,30,110,66\\n1032,32,217,19\\n1033,47,163,120\\n1034,38,122,88\\n1035,51,193,13\\n1036,27,182,148\\n1037,56,166,122\\n1038,75,102,129\\n1039,54,129,234\\n1040,76,185,103\\n1041,27,105,296\\n1042,40,108,288\\n1043,38,209,34\\n1044,58,134,300\\n1045,18,148,182\\n1046,66,241,21\\n1047,33,165,41\\n1048,26,155,204\\n1049,59,156,236\\n1050,75,138,89\\n1051,30,156,84\\n1052,71,182,42\\n1053,68,214,21\\n1054,56,152,112\\n1055,30,133,7\\n1056,23,190,30\\n1057,63,199,74\\n1058,58,117,23\\n1059,29,164,197\\n1060,60,132,215\\n1061,37,179,171\\n1062,74,102,24\\n1063,52,167,59\\n1064,70,111,138\\n1065,52,105,299\\n1066,37,126,270\\n1067,76,152,19\\n1068,22,145,91\\n1069,37,188,42\\n1070,22,165,207\\n1071,23,124,117\\n1072,76,212,78\\n1073,60,203,75\\n1074,76,129,96\\n1075,80,182,15\\n1076,58,185,176\\n1077,24,194,141\\n1078,23,119,28\\n1079,54,169,231\\n1080,18,140,63\\n1081,38,199,87\\n1082,62,189,14\\n1083,75,139,88\\n1084,28,147,83\\n1085,35,120,130\\n1086,74,219,67\\n1087,73,112,136\\n1088,68,104,93\\n1089,69,186,44\\n1090,73,124,117\\n1091,59,100,264\\n1092,76,110,89\\n1093,44,212,55\\n1094,33,186,30\\n1095,19,204,53\\n1096,59,100,2\\n1097,28,123,226\\n1098,33,135,224\\n1099,49,113,254\\n1100,39,116,162\\n1101,80,153,26\\n1102,69,109,197\\n1103,37,189,27\\n1104,70,104,36\\n1105,30,175,139\\n1106,42,160,247\\n1107,68,183,103\\n1108,18,116,199\\n1109,35,157,281\\n1110,47,150,147\\n1111,62,107,125\\n1112,58,144,89\\n1113,55,212,91\\n1114,76,212,67\\n1115,40,122,296\\n1116,63,144,1\\n1117,50,183,174\\n1118,64,184,14\\n1119,65,145,87\\n1120,39,170,80\\n1121,27,208,22\\n1122,69,123,8\\n1123,52,163,16\\n1124,67,174,97\\n1125,19,200,59\\n1126,24,101,300\\n1127,55,117,251\\n1128,71,181,106\\n1129,55,192,6\\n1130,20,141,226\\n1131,52,172,74\\n1132,40,149,284\\n1133,23,143,226\\n1134,73,178,84\\n1135,36,160,33\\n1136,31,120,296\\n1137,63,227,33\\n1138,34,126,201\\n1139,46,139,160\\n1140,19,158,102\\n1141,67,131,171\\n1142,46,103,284\\n1143,77,148,21\\n1144,55,121,194\\n1145,29,113,188\\n1146,44,172,111\\n1147,19,163,182\\n1148,19,136,192\\n1149,52,204,89\\n1150,46,180,183\\n1151,33,210,121\\n1152,48,170,161\\n1153,80,130,51\\n1154,66,113,66\\n1155,51,102,136\\n1156,22,158,196\\n1157,67,142,77\\n1158,69,141,155\\n1159,50,181,24\\n1160,54,144,298\\n1161,33,128,221\\n1162,51,110,121\\n1163,26,109,117\\n1164,53,103,276\\n1165,69,155,143\\n1166,59,142,6\\n1167,47,219,55\\n1168,43,146,189\\n1169,34,108,298\\n1170,22,199,102\\n1171,56,139,158\\n1172,27,111,252\\n1173,74,161,142\\n1174,30,137,244\\n1175,61,164,86\\n1176,57,213,103\\n1177,38,174,103\\n1178,67,150,118\\n1179,69,140,184\\n1180,34,124,147\\n1181,41,142,18\\n1182,49,160,256\\n1183,70,133,198\\n1184,57,210,27\\n1185,35,124,48\\n1186,61,170,30\\n1187,48,160,125\\n1188,71,129,21\\n1189,35,126,201\\n1190,70,156,104\\n1191,29,105,174\\n1192,51,122,194\\n1193,33,106,112\\n1194,64,122,184\\n1195,47,195,1\\n1196,29,210,22\\n1197,29,147,15\\n1198,25,149,185\\n1199,67,154,84\\n'}"
            ]
          },
          "metadata": {
            "tags": []
          },
          "execution_count": 19
        }
      ]
    },
    {
      "metadata": {
        "id": "TGUS79cOhPWj",
        "colab_type": "code",
        "colab": {
          "base_uri": "https://localhost:8080/",
          "height": 779
        },
        "outputId": "48c339fc-3d2e-4385-d387-4c7214facaec"
      },
      "cell_type": "code",
      "source": [
        "# TODO - your code here\n",
        "import pandas as pd;\n",
        "\n",
        "df = pd.read_csv('persons.csv')\n",
        "age_cut = pd.cut(df['age'], 5)\n",
        "exercise_cut = pd.cut(df['exercise_time'], 5)\n",
        "weight_cut = pd.cut(df['weight'], 5)\n",
        "print(pd.crosstab(age_cut, weight_cut.astype(str)),'\\n')\n",
        "print(pd.crosstab(age_cut, exercise_cut.astype(str)),'\\n')\n",
        "print(pd.crosstab(weight_cut, exercise_cut.astype(str)),'\\n')\n",
        "# Use what we did live in lecture as an example\n",
        "\n",
        "# HINT - you can find the raw URL on GitHub and potentially use that\n",
        "# to load the data with read_csv, or you can upload it yourself"
      ],
      "execution_count": 59,
      "outputs": [
        {
          "output_type": "stream",
          "text": [
            "weight          (129.2, 158.4]  (158.4, 187.6]  (187.6, 216.8]  \\\n",
            "age                                                              \n",
            "(17.938, 30.4]              86              49              34   \n",
            "(30.4, 42.8]                62              49              31   \n",
            "(42.8, 55.2]                62              49              26   \n",
            "(55.2, 67.6]                71              45              44   \n",
            "(67.6, 80.0]                54              66              44   \n",
            "\n",
            "weight          (216.8, 246.0]  (99.854, 129.2]  \n",
            "age                                              \n",
            "(17.938, 30.4]               7               80  \n",
            "(30.4, 42.8]                 7              104  \n",
            "(42.8, 55.2]                 8               78  \n",
            "(55.2, 67.6]                 9               53  \n",
            "(67.6, 80.0]                22               60   \n",
            "\n",
            "exercise_time   (-0.3, 60.0]  (120.0, 180.0]  (180.0, 240.0]  (240.0, 300.0]  \\\n",
            "age                                                                            \n",
            "(17.938, 30.4]            52              54              61              43   \n",
            "(30.4, 42.8]              52              42              47              57   \n",
            "(42.8, 55.2]              41              39              34              67   \n",
            "(55.2, 67.6]              46              40              41              24   \n",
            "(67.6, 80.0]              87              48               9               0   \n",
            "\n",
            "exercise_time   (60.0, 120.0]  \n",
            "age                            \n",
            "(17.938, 30.4]             46  \n",
            "(30.4, 42.8]               55  \n",
            "(42.8, 55.2]               42  \n",
            "(55.2, 67.6]               71  \n",
            "(67.6, 80.0]              102   \n",
            "\n"
          ],
          "name": "stdout"
        },
        {
          "output_type": "execute_result",
          "data": {
            "text/html": [
              "<div>\n",
              "<style scoped>\n",
              "    .dataframe tbody tr th:only-of-type {\n",
              "        vertical-align: middle;\n",
              "    }\n",
              "\n",
              "    .dataframe tbody tr th {\n",
              "        vertical-align: top;\n",
              "    }\n",
              "\n",
              "    .dataframe thead th {\n",
              "        text-align: right;\n",
              "    }\n",
              "</style>\n",
              "<table border=\"1\" class=\"dataframe\">\n",
              "  <thead>\n",
              "    <tr style=\"text-align: right;\">\n",
              "      <th>exercise_time</th>\n",
              "      <th>(-0.3, 60.0]</th>\n",
              "      <th>(120.0, 180.0]</th>\n",
              "      <th>(180.0, 240.0]</th>\n",
              "      <th>(240.0, 300.0]</th>\n",
              "      <th>(60.0, 120.0]</th>\n",
              "    </tr>\n",
              "    <tr>\n",
              "      <th>weight</th>\n",
              "      <th></th>\n",
              "      <th></th>\n",
              "      <th></th>\n",
              "      <th></th>\n",
              "      <th></th>\n",
              "    </tr>\n",
              "  </thead>\n",
              "  <tbody>\n",
              "    <tr>\n",
              "      <th>(99.854, 129.2]</th>\n",
              "      <td>53</td>\n",
              "      <td>71</td>\n",
              "      <td>79</td>\n",
              "      <td>107</td>\n",
              "      <td>65</td>\n",
              "    </tr>\n",
              "    <tr>\n",
              "      <th>(129.2, 158.4]</th>\n",
              "      <td>44</td>\n",
              "      <td>67</td>\n",
              "      <td>74</td>\n",
              "      <td>74</td>\n",
              "      <td>76</td>\n",
              "    </tr>\n",
              "    <tr>\n",
              "      <th>(158.4, 187.6]</th>\n",
              "      <td>61</td>\n",
              "      <td>56</td>\n",
              "      <td>38</td>\n",
              "      <td>10</td>\n",
              "      <td>93</td>\n",
              "    </tr>\n",
              "    <tr>\n",
              "      <th>(187.6, 216.8]</th>\n",
              "      <td>76</td>\n",
              "      <td>29</td>\n",
              "      <td>1</td>\n",
              "      <td>0</td>\n",
              "      <td>73</td>\n",
              "    </tr>\n",
              "    <tr>\n",
              "      <th>(216.8, 246.0]</th>\n",
              "      <td>44</td>\n",
              "      <td>0</td>\n",
              "      <td>0</td>\n",
              "      <td>0</td>\n",
              "      <td>9</td>\n",
              "    </tr>\n",
              "  </tbody>\n",
              "</table>\n",
              "</div>"
            ],
            "text/plain": [
              "exercise_time    (-0.3, 60.0]  (120.0, 180.0]  (180.0, 240.0]  (240.0, 300.0]  \\\n",
              "weight                                                                          \n",
              "(99.854, 129.2]            53              71              79             107   \n",
              "(129.2, 158.4]             44              67              74              74   \n",
              "(158.4, 187.6]             61              56              38              10   \n",
              "(187.6, 216.8]             76              29               1               0   \n",
              "(216.8, 246.0]             44               0               0               0   \n",
              "\n",
              "exercise_time    (60.0, 120.0]  \n",
              "weight                          \n",
              "(99.854, 129.2]             65  \n",
              "(129.2, 158.4]              76  \n",
              "(158.4, 187.6]              93  \n",
              "(187.6, 216.8]              73  \n",
              "(216.8, 246.0]               9  "
            ]
          },
          "metadata": {
            "tags": []
          },
          "execution_count": 59
        }
      ]
    },
    {
      "metadata": {
        "id": "BT9gdS7viJZa",
        "colab_type": "text"
      },
      "cell_type": "markdown",
      "source": [
        "### Assignment questions\n",
        "\n",
        "After you've worked on some code, answer the following questions in this text block:\n",
        "\n",
        "1.  What are the variable types in the data?\n",
        "\n",
        "**Ans**: All the variables are of integer type.\n",
        "2.  What are the relationships between the variables?\n",
        "\n",
        "**Ans**: For wieght and exercise time. heavier people seem to exercise for shorter periods of time than lighter people.\n",
        "For age and exercise time. The exercise time doesn't seem to be related to age too much. Older people are less likely to exercise for longer periods of time, younger people may exercise for shorter or longer periods of time. So it seems like all ages are likely to exercise for shorter periods of time, but older people are less lickly to exercise for longer periods of time. There seems to be no real relationship between age and weight. Just that older people are more likely weigh more than 200 compared to other people.\n",
        "3.  Which relationships are \"real\", and which spurious?\n",
        "\n",
        "**Ans**: Real relationships are relationships where the values of two variables are dependant on each other. If one variable increases, the other one increases as well. The relationship between weight and exercise time is a real relationship.\n",
        "\n",
        "Spurious relationships are those where the relationships doesn't seem to have a logical connection. The spurious relationships are age and weight, and, age and exercise time."
      ]
    },
    {
      "metadata": {
        "id": "_XXg2crAipwP",
        "colab_type": "text"
      },
      "cell_type": "markdown",
      "source": [
        "## Stretch goals and resources\n",
        "\n",
        "Following are *optional* things for you to take a look at. Focus on the above assignment first, and make sure to commit and push your changes to GitHub.\n",
        "\n",
        "- [Spurious Correlations](http://tylervigen.com/spurious-correlations)\n",
        "- [NIH on controlling for confounding variables](https://www.ncbi.nlm.nih.gov/pmc/articles/PMC4017459/)\n",
        "\n",
        "Stretch goals:\n",
        "\n",
        "- Produce your own plot inspired by the Spurious Correlation visualizations (and consider writing a blog post about it - both the content and how you made it)\n",
        "- Pick one of the techniques that NIH highlights for confounding variables - we'll be going into many of them later, but see if you can find which Python modules may help (hint - check scikit-learn)"
      ]
    }
  ]
}