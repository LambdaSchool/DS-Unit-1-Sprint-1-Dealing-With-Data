{
  "nbformat": 4,
  "nbformat_minor": 0,
  "metadata": {
    "colab": {
      "name": "DS_Unit_1_Sprint_Challenge_3_Data_Storytelling.ipynb",
      "version": "0.3.2",
      "provenance": [],
      "collapsed_sections": [],
      "include_colab_link": true
    },
    "kernelspec": {
      "display_name": "Python 3",
      "language": "python",
      "name": "python3"
    }
  },
  "cells": [
    {
      "cell_type": "markdown",
      "metadata": {
        "id": "view-in-github",
        "colab_type": "text"
      },
      "source": [
        "<a href=\"https://colab.research.google.com/github/standroidbeta/DS-Unit-1-Sprint-1-Dealing-With-Data/blob/master/Unit%201%20Sprint%20Challenge%203%20/DS_Unit_1_Sprint_Challenge_3_Data_Storytelling.ipynb\" target=\"_parent\"><img src=\"https://colab.research.google.com/assets/colab-badge.svg\" alt=\"Open In Colab\"/></a>"
      ]
    },
    {
      "metadata": {
        "colab_type": "text",
        "id": "i-n_5en3ER1o"
      },
      "cell_type": "markdown",
      "source": [
        "# Data Science Unit 1 Sprint Challenge 3\n",
        "\n",
        "# Data Storytelling\n",
        "\n",
        "In this sprint challenge you'll work with a dataset from **FiveThirtyEight's article, [Every Guest Jon Stewart Ever Had On ‘The Daily Show’](https://fivethirtyeight.com/features/every-guest-jon-stewart-ever-had-on-the-daily-show/)**!"
      ]
    },
    {
      "metadata": {
        "colab_type": "text",
        "id": "Thm2n5FF2Fnp"
      },
      "cell_type": "markdown",
      "source": [
        "# Part 0 — Run this starter code\n",
        "\n",
        "You don't need to add or change anything here. Just run this cell and it loads the data for you, into a dataframe named `df`.\n",
        "\n",
        "(You can explore the data if you want, but it's not required to pass the Sprint Challenge.)"
      ]
    },
    {
      "metadata": {
        "colab_type": "code",
        "id": "0rTHgzJIuRS7",
        "colab": {}
      },
      "cell_type": "code",
      "source": [
        "%matplotlib inline\n",
        "import matplotlib.pyplot as plt\n",
        "import numpy as np\n",
        "import pandas as pd\n",
        "\n",
        "url = 'https://raw.githubusercontent.com/fivethirtyeight/data/master/daily-show-guests/daily_show_guests.csv'\n",
        "df = pd.read_csv(url).rename(columns={'YEAR': 'Year', 'Raw_Guest_List': 'Guest'})\n",
        "\n",
        "def get_occupation(group):\n",
        "    if group in ['Acting', 'Comedy', 'Musician']:\n",
        "        return 'Acting, Comedy & Music'\n",
        "    elif group in ['Media', 'media']:\n",
        "        return 'Media'\n",
        "    elif group in ['Government', 'Politician', 'Political Aide']:\n",
        "        return 'Government and Politics'\n",
        "    else:\n",
        "        return 'Other'\n",
        "      \n",
        "df['Occupation'] = df['Group'].apply(get_occupation)"
      ],
      "execution_count": 0,
      "outputs": []
    },
    {
      "metadata": {
        "colab_type": "text",
        "id": "OS0nW1vz1itX"
      },
      "cell_type": "markdown",
      "source": [
        "# Part 1 — What's the breakdown of guests’ occupations per year?\n",
        "\n",
        "For example, in 1999, what percentage of guests were actors, comedians, or musicians? What percentage were in the media? What percentage were in politics? What percentage were from another occupation?\n",
        "\n",
        "Then, what about in 2000? In 2001? And so on, up through 2015.\n",
        "\n",
        "So, **for each year of _The Daily Show_, calculate the percentage of guests from each occupation:**\n",
        "- Acting, Comedy & Music\n",
        "- Government and Politics\n",
        "- Media\n",
        "- Other\n",
        "\n",
        "#### Hints:\n",
        "You can make a crosstab. (See pandas documentation for examples, explanation, and parameters.)\n",
        "\n",
        "You'll know you've calculated correctly when the percentage of \"Acting, Comedy & Music\" guests is 90.36% in 1999, and 45% in 2015.\n",
        "\n",
        "**Optional Bonus Challenge:** Do additional insightful data exploration."
      ]
    },
    {
      "metadata": {
        "colab_type": "code",
        "id": "sRMc0H_5z6ff",
        "colab": {
          "base_uri": "https://localhost:8080/",
          "height": 204
        },
        "outputId": "35126944-6d44-4229-feec-239acefdd3ba"
      },
      "cell_type": "code",
      "source": [
        "df.info()"
      ],
      "execution_count": 262,
      "outputs": [
        {
          "output_type": "stream",
          "text": [
            "<class 'pandas.core.frame.DataFrame'>\n",
            "RangeIndex: 2693 entries, 0 to 2692\n",
            "Data columns (total 6 columns):\n",
            "Year                         2693 non-null int64\n",
            "GoogleKnowlege_Occupation    2667 non-null object\n",
            "Show                         2693 non-null object\n",
            "Group                        2662 non-null object\n",
            "Guest                        2693 non-null object\n",
            "Occupation                   2693 non-null object\n",
            "dtypes: int64(1), object(5)\n",
            "memory usage: 126.3+ KB\n"
          ],
          "name": "stdout"
        }
      ]
    },
    {
      "metadata": {
        "id": "gQuKKQqMQZ9C",
        "colab_type": "code",
        "colab": {}
      },
      "cell_type": "code",
      "source": [
        ""
      ],
      "execution_count": 0,
      "outputs": []
    },
    {
      "metadata": {
        "id": "q0eXbt0ZCyIz",
        "colab_type": "code",
        "colab": {
          "base_uri": "https://localhost:8080/",
          "height": 607
        },
        "outputId": "e91419a1-5d59-4f4a-9b96-3b99bc902927"
      },
      "cell_type": "code",
      "source": [
        "ct = pd.crosstab(df['Year'], df['Occupation'])\n",
        "\n",
        "ct"
      ],
      "execution_count": 263,
      "outputs": [
        {
          "output_type": "execute_result",
          "data": {
            "text/html": [
              "<div>\n",
              "<style scoped>\n",
              "    .dataframe tbody tr th:only-of-type {\n",
              "        vertical-align: middle;\n",
              "    }\n",
              "\n",
              "    .dataframe tbody tr th {\n",
              "        vertical-align: top;\n",
              "    }\n",
              "\n",
              "    .dataframe thead th {\n",
              "        text-align: right;\n",
              "    }\n",
              "</style>\n",
              "<table border=\"1\" class=\"dataframe\">\n",
              "  <thead>\n",
              "    <tr style=\"text-align: right;\">\n",
              "      <th>Occupation</th>\n",
              "      <th>Acting, Comedy &amp; Music</th>\n",
              "      <th>Government and Politics</th>\n",
              "      <th>Media</th>\n",
              "      <th>Other</th>\n",
              "    </tr>\n",
              "    <tr>\n",
              "      <th>Year</th>\n",
              "      <th></th>\n",
              "      <th></th>\n",
              "      <th></th>\n",
              "      <th></th>\n",
              "    </tr>\n",
              "  </thead>\n",
              "  <tbody>\n",
              "    <tr>\n",
              "      <th>1999</th>\n",
              "      <td>150</td>\n",
              "      <td>2</td>\n",
              "      <td>11</td>\n",
              "      <td>3</td>\n",
              "    </tr>\n",
              "    <tr>\n",
              "      <th>2000</th>\n",
              "      <td>125</td>\n",
              "      <td>14</td>\n",
              "      <td>21</td>\n",
              "      <td>9</td>\n",
              "    </tr>\n",
              "    <tr>\n",
              "      <th>2001</th>\n",
              "      <td>114</td>\n",
              "      <td>6</td>\n",
              "      <td>31</td>\n",
              "      <td>6</td>\n",
              "    </tr>\n",
              "    <tr>\n",
              "      <th>2002</th>\n",
              "      <td>99</td>\n",
              "      <td>11</td>\n",
              "      <td>42</td>\n",
              "      <td>7</td>\n",
              "    </tr>\n",
              "    <tr>\n",
              "      <th>2003</th>\n",
              "      <td>93</td>\n",
              "      <td>17</td>\n",
              "      <td>41</td>\n",
              "      <td>15</td>\n",
              "    </tr>\n",
              "    <tr>\n",
              "      <th>2004</th>\n",
              "      <td>63</td>\n",
              "      <td>37</td>\n",
              "      <td>45</td>\n",
              "      <td>19</td>\n",
              "    </tr>\n",
              "    <tr>\n",
              "      <th>2005</th>\n",
              "      <td>60</td>\n",
              "      <td>26</td>\n",
              "      <td>54</td>\n",
              "      <td>22</td>\n",
              "    </tr>\n",
              "    <tr>\n",
              "      <th>2006</th>\n",
              "      <td>58</td>\n",
              "      <td>31</td>\n",
              "      <td>47</td>\n",
              "      <td>25</td>\n",
              "    </tr>\n",
              "    <tr>\n",
              "      <th>2007</th>\n",
              "      <td>36</td>\n",
              "      <td>24</td>\n",
              "      <td>47</td>\n",
              "      <td>34</td>\n",
              "    </tr>\n",
              "    <tr>\n",
              "      <th>2008</th>\n",
              "      <td>34</td>\n",
              "      <td>33</td>\n",
              "      <td>77</td>\n",
              "      <td>20</td>\n",
              "    </tr>\n",
              "    <tr>\n",
              "      <th>2009</th>\n",
              "      <td>34</td>\n",
              "      <td>34</td>\n",
              "      <td>59</td>\n",
              "      <td>36</td>\n",
              "    </tr>\n",
              "    <tr>\n",
              "      <th>2010</th>\n",
              "      <td>58</td>\n",
              "      <td>30</td>\n",
              "      <td>50</td>\n",
              "      <td>27</td>\n",
              "    </tr>\n",
              "    <tr>\n",
              "      <th>2011</th>\n",
              "      <td>55</td>\n",
              "      <td>27</td>\n",
              "      <td>51</td>\n",
              "      <td>30</td>\n",
              "    </tr>\n",
              "    <tr>\n",
              "      <th>2012</th>\n",
              "      <td>44</td>\n",
              "      <td>33</td>\n",
              "      <td>52</td>\n",
              "      <td>35</td>\n",
              "    </tr>\n",
              "    <tr>\n",
              "      <th>2013</th>\n",
              "      <td>71</td>\n",
              "      <td>21</td>\n",
              "      <td>51</td>\n",
              "      <td>23</td>\n",
              "    </tr>\n",
              "    <tr>\n",
              "      <th>2014</th>\n",
              "      <td>64</td>\n",
              "      <td>21</td>\n",
              "      <td>53</td>\n",
              "      <td>25</td>\n",
              "    </tr>\n",
              "    <tr>\n",
              "      <th>2015</th>\n",
              "      <td>45</td>\n",
              "      <td>17</td>\n",
              "      <td>24</td>\n",
              "      <td>14</td>\n",
              "    </tr>\n",
              "  </tbody>\n",
              "</table>\n",
              "</div>"
            ],
            "text/plain": [
              "Occupation  Acting, Comedy & Music  Government and Politics  Media  Other\n",
              "Year                                                                     \n",
              "1999                           150                        2     11      3\n",
              "2000                           125                       14     21      9\n",
              "2001                           114                        6     31      6\n",
              "2002                            99                       11     42      7\n",
              "2003                            93                       17     41     15\n",
              "2004                            63                       37     45     19\n",
              "2005                            60                       26     54     22\n",
              "2006                            58                       31     47     25\n",
              "2007                            36                       24     47     34\n",
              "2008                            34                       33     77     20\n",
              "2009                            34                       34     59     36\n",
              "2010                            58                       30     50     27\n",
              "2011                            55                       27     51     30\n",
              "2012                            44                       33     52     35\n",
              "2013                            71                       21     51     23\n",
              "2014                            64                       21     53     25\n",
              "2015                            45                       17     24     14"
            ]
          },
          "metadata": {
            "tags": []
          },
          "execution_count": 263
        }
      ]
    },
    {
      "metadata": {
        "id": "RUFYjUi1JWDd",
        "colab_type": "code",
        "colab": {
          "base_uri": "https://localhost:8080/",
          "height": 607
        },
        "outputId": "c945828c-8a8d-48bd-8b5e-4b0d298c6889"
      },
      "cell_type": "code",
      "source": [
        "percents = ct.div(ct.sum(axis=1), axis=0)\n",
        "\n",
        "percents"
      ],
      "execution_count": 264,
      "outputs": [
        {
          "output_type": "execute_result",
          "data": {
            "text/html": [
              "<div>\n",
              "<style scoped>\n",
              "    .dataframe tbody tr th:only-of-type {\n",
              "        vertical-align: middle;\n",
              "    }\n",
              "\n",
              "    .dataframe tbody tr th {\n",
              "        vertical-align: top;\n",
              "    }\n",
              "\n",
              "    .dataframe thead th {\n",
              "        text-align: right;\n",
              "    }\n",
              "</style>\n",
              "<table border=\"1\" class=\"dataframe\">\n",
              "  <thead>\n",
              "    <tr style=\"text-align: right;\">\n",
              "      <th>Occupation</th>\n",
              "      <th>Acting, Comedy &amp; Music</th>\n",
              "      <th>Government and Politics</th>\n",
              "      <th>Media</th>\n",
              "      <th>Other</th>\n",
              "    </tr>\n",
              "    <tr>\n",
              "      <th>Year</th>\n",
              "      <th></th>\n",
              "      <th></th>\n",
              "      <th></th>\n",
              "      <th></th>\n",
              "    </tr>\n",
              "  </thead>\n",
              "  <tbody>\n",
              "    <tr>\n",
              "      <th>1999</th>\n",
              "      <td>0.903614</td>\n",
              "      <td>0.012048</td>\n",
              "      <td>0.066265</td>\n",
              "      <td>0.018072</td>\n",
              "    </tr>\n",
              "    <tr>\n",
              "      <th>2000</th>\n",
              "      <td>0.739645</td>\n",
              "      <td>0.082840</td>\n",
              "      <td>0.124260</td>\n",
              "      <td>0.053254</td>\n",
              "    </tr>\n",
              "    <tr>\n",
              "      <th>2001</th>\n",
              "      <td>0.726115</td>\n",
              "      <td>0.038217</td>\n",
              "      <td>0.197452</td>\n",
              "      <td>0.038217</td>\n",
              "    </tr>\n",
              "    <tr>\n",
              "      <th>2002</th>\n",
              "      <td>0.622642</td>\n",
              "      <td>0.069182</td>\n",
              "      <td>0.264151</td>\n",
              "      <td>0.044025</td>\n",
              "    </tr>\n",
              "    <tr>\n",
              "      <th>2003</th>\n",
              "      <td>0.560241</td>\n",
              "      <td>0.102410</td>\n",
              "      <td>0.246988</td>\n",
              "      <td>0.090361</td>\n",
              "    </tr>\n",
              "    <tr>\n",
              "      <th>2004</th>\n",
              "      <td>0.384146</td>\n",
              "      <td>0.225610</td>\n",
              "      <td>0.274390</td>\n",
              "      <td>0.115854</td>\n",
              "    </tr>\n",
              "    <tr>\n",
              "      <th>2005</th>\n",
              "      <td>0.370370</td>\n",
              "      <td>0.160494</td>\n",
              "      <td>0.333333</td>\n",
              "      <td>0.135802</td>\n",
              "    </tr>\n",
              "    <tr>\n",
              "      <th>2006</th>\n",
              "      <td>0.360248</td>\n",
              "      <td>0.192547</td>\n",
              "      <td>0.291925</td>\n",
              "      <td>0.155280</td>\n",
              "    </tr>\n",
              "    <tr>\n",
              "      <th>2007</th>\n",
              "      <td>0.255319</td>\n",
              "      <td>0.170213</td>\n",
              "      <td>0.333333</td>\n",
              "      <td>0.241135</td>\n",
              "    </tr>\n",
              "    <tr>\n",
              "      <th>2008</th>\n",
              "      <td>0.207317</td>\n",
              "      <td>0.201220</td>\n",
              "      <td>0.469512</td>\n",
              "      <td>0.121951</td>\n",
              "    </tr>\n",
              "    <tr>\n",
              "      <th>2009</th>\n",
              "      <td>0.208589</td>\n",
              "      <td>0.208589</td>\n",
              "      <td>0.361963</td>\n",
              "      <td>0.220859</td>\n",
              "    </tr>\n",
              "    <tr>\n",
              "      <th>2010</th>\n",
              "      <td>0.351515</td>\n",
              "      <td>0.181818</td>\n",
              "      <td>0.303030</td>\n",
              "      <td>0.163636</td>\n",
              "    </tr>\n",
              "    <tr>\n",
              "      <th>2011</th>\n",
              "      <td>0.337423</td>\n",
              "      <td>0.165644</td>\n",
              "      <td>0.312883</td>\n",
              "      <td>0.184049</td>\n",
              "    </tr>\n",
              "    <tr>\n",
              "      <th>2012</th>\n",
              "      <td>0.268293</td>\n",
              "      <td>0.201220</td>\n",
              "      <td>0.317073</td>\n",
              "      <td>0.213415</td>\n",
              "    </tr>\n",
              "    <tr>\n",
              "      <th>2013</th>\n",
              "      <td>0.427711</td>\n",
              "      <td>0.126506</td>\n",
              "      <td>0.307229</td>\n",
              "      <td>0.138554</td>\n",
              "    </tr>\n",
              "    <tr>\n",
              "      <th>2014</th>\n",
              "      <td>0.392638</td>\n",
              "      <td>0.128834</td>\n",
              "      <td>0.325153</td>\n",
              "      <td>0.153374</td>\n",
              "    </tr>\n",
              "    <tr>\n",
              "      <th>2015</th>\n",
              "      <td>0.450000</td>\n",
              "      <td>0.170000</td>\n",
              "      <td>0.240000</td>\n",
              "      <td>0.140000</td>\n",
              "    </tr>\n",
              "  </tbody>\n",
              "</table>\n",
              "</div>"
            ],
            "text/plain": [
              "Occupation  Acting, Comedy & Music  Government and Politics     Media  \\\n",
              "Year                                                                    \n",
              "1999                      0.903614                 0.012048  0.066265   \n",
              "2000                      0.739645                 0.082840  0.124260   \n",
              "2001                      0.726115                 0.038217  0.197452   \n",
              "2002                      0.622642                 0.069182  0.264151   \n",
              "2003                      0.560241                 0.102410  0.246988   \n",
              "2004                      0.384146                 0.225610  0.274390   \n",
              "2005                      0.370370                 0.160494  0.333333   \n",
              "2006                      0.360248                 0.192547  0.291925   \n",
              "2007                      0.255319                 0.170213  0.333333   \n",
              "2008                      0.207317                 0.201220  0.469512   \n",
              "2009                      0.208589                 0.208589  0.361963   \n",
              "2010                      0.351515                 0.181818  0.303030   \n",
              "2011                      0.337423                 0.165644  0.312883   \n",
              "2012                      0.268293                 0.201220  0.317073   \n",
              "2013                      0.427711                 0.126506  0.307229   \n",
              "2014                      0.392638                 0.128834  0.325153   \n",
              "2015                      0.450000                 0.170000  0.240000   \n",
              "\n",
              "Occupation     Other  \n",
              "Year                  \n",
              "1999        0.018072  \n",
              "2000        0.053254  \n",
              "2001        0.038217  \n",
              "2002        0.044025  \n",
              "2003        0.090361  \n",
              "2004        0.115854  \n",
              "2005        0.135802  \n",
              "2006        0.155280  \n",
              "2007        0.241135  \n",
              "2008        0.121951  \n",
              "2009        0.220859  \n",
              "2010        0.163636  \n",
              "2011        0.184049  \n",
              "2012        0.213415  \n",
              "2013        0.138554  \n",
              "2014        0.153374  \n",
              "2015        0.140000  "
            ]
          },
          "metadata": {
            "tags": []
          },
          "execution_count": 264
        }
      ]
    },
    {
      "metadata": {
        "id": "AfZrdpHE_DnZ",
        "colab_type": "code",
        "colab": {}
      },
      "cell_type": "code",
      "source": [
        "percents = percents.drop(columns=['Other'])"
      ],
      "execution_count": 0,
      "outputs": []
    },
    {
      "metadata": {
        "id": "a4lPEpEzLFWn",
        "colab_type": "code",
        "colab": {
          "base_uri": "https://localhost:8080/",
          "height": 418
        },
        "outputId": "7bbcea93-da81-4d4c-f19e-f83f83345ee3"
      },
      "cell_type": "code",
      "source": [
        "formated = percents.style.format(\"{:.2%}\")\n",
        "\n",
        "formated"
      ],
      "execution_count": 266,
      "outputs": [
        {
          "output_type": "execute_result",
          "data": {
            "text/html": [
              "<style  type=\"text/css\" >\n",
              "</style>  \n",
              "<table id=\"T_d0df9f6a_57e4_11e9_aa4a_0242ac1c0002\" > \n",
              "<thead>    <tr> \n",
              "        <th class=\"index_name level0\" >Occupation</th> \n",
              "        <th class=\"col_heading level0 col0\" >Acting, Comedy & Music</th> \n",
              "        <th class=\"col_heading level0 col1\" >Government and Politics</th> \n",
              "        <th class=\"col_heading level0 col2\" >Media</th> \n",
              "    </tr>    <tr> \n",
              "        <th class=\"index_name level0\" >Year</th> \n",
              "        <th class=\"blank\" ></th> \n",
              "        <th class=\"blank\" ></th> \n",
              "        <th class=\"blank\" ></th> \n",
              "    </tr></thead> \n",
              "<tbody>    <tr> \n",
              "        <th id=\"T_d0df9f6a_57e4_11e9_aa4a_0242ac1c0002level0_row0\" class=\"row_heading level0 row0\" >1999</th> \n",
              "        <td id=\"T_d0df9f6a_57e4_11e9_aa4a_0242ac1c0002row0_col0\" class=\"data row0 col0\" >90.36%</td> \n",
              "        <td id=\"T_d0df9f6a_57e4_11e9_aa4a_0242ac1c0002row0_col1\" class=\"data row0 col1\" >1.20%</td> \n",
              "        <td id=\"T_d0df9f6a_57e4_11e9_aa4a_0242ac1c0002row0_col2\" class=\"data row0 col2\" >6.63%</td> \n",
              "    </tr>    <tr> \n",
              "        <th id=\"T_d0df9f6a_57e4_11e9_aa4a_0242ac1c0002level0_row1\" class=\"row_heading level0 row1\" >2000</th> \n",
              "        <td id=\"T_d0df9f6a_57e4_11e9_aa4a_0242ac1c0002row1_col0\" class=\"data row1 col0\" >73.96%</td> \n",
              "        <td id=\"T_d0df9f6a_57e4_11e9_aa4a_0242ac1c0002row1_col1\" class=\"data row1 col1\" >8.28%</td> \n",
              "        <td id=\"T_d0df9f6a_57e4_11e9_aa4a_0242ac1c0002row1_col2\" class=\"data row1 col2\" >12.43%</td> \n",
              "    </tr>    <tr> \n",
              "        <th id=\"T_d0df9f6a_57e4_11e9_aa4a_0242ac1c0002level0_row2\" class=\"row_heading level0 row2\" >2001</th> \n",
              "        <td id=\"T_d0df9f6a_57e4_11e9_aa4a_0242ac1c0002row2_col0\" class=\"data row2 col0\" >72.61%</td> \n",
              "        <td id=\"T_d0df9f6a_57e4_11e9_aa4a_0242ac1c0002row2_col1\" class=\"data row2 col1\" >3.82%</td> \n",
              "        <td id=\"T_d0df9f6a_57e4_11e9_aa4a_0242ac1c0002row2_col2\" class=\"data row2 col2\" >19.75%</td> \n",
              "    </tr>    <tr> \n",
              "        <th id=\"T_d0df9f6a_57e4_11e9_aa4a_0242ac1c0002level0_row3\" class=\"row_heading level0 row3\" >2002</th> \n",
              "        <td id=\"T_d0df9f6a_57e4_11e9_aa4a_0242ac1c0002row3_col0\" class=\"data row3 col0\" >62.26%</td> \n",
              "        <td id=\"T_d0df9f6a_57e4_11e9_aa4a_0242ac1c0002row3_col1\" class=\"data row3 col1\" >6.92%</td> \n",
              "        <td id=\"T_d0df9f6a_57e4_11e9_aa4a_0242ac1c0002row3_col2\" class=\"data row3 col2\" >26.42%</td> \n",
              "    </tr>    <tr> \n",
              "        <th id=\"T_d0df9f6a_57e4_11e9_aa4a_0242ac1c0002level0_row4\" class=\"row_heading level0 row4\" >2003</th> \n",
              "        <td id=\"T_d0df9f6a_57e4_11e9_aa4a_0242ac1c0002row4_col0\" class=\"data row4 col0\" >56.02%</td> \n",
              "        <td id=\"T_d0df9f6a_57e4_11e9_aa4a_0242ac1c0002row4_col1\" class=\"data row4 col1\" >10.24%</td> \n",
              "        <td id=\"T_d0df9f6a_57e4_11e9_aa4a_0242ac1c0002row4_col2\" class=\"data row4 col2\" >24.70%</td> \n",
              "    </tr>    <tr> \n",
              "        <th id=\"T_d0df9f6a_57e4_11e9_aa4a_0242ac1c0002level0_row5\" class=\"row_heading level0 row5\" >2004</th> \n",
              "        <td id=\"T_d0df9f6a_57e4_11e9_aa4a_0242ac1c0002row5_col0\" class=\"data row5 col0\" >38.41%</td> \n",
              "        <td id=\"T_d0df9f6a_57e4_11e9_aa4a_0242ac1c0002row5_col1\" class=\"data row5 col1\" >22.56%</td> \n",
              "        <td id=\"T_d0df9f6a_57e4_11e9_aa4a_0242ac1c0002row5_col2\" class=\"data row5 col2\" >27.44%</td> \n",
              "    </tr>    <tr> \n",
              "        <th id=\"T_d0df9f6a_57e4_11e9_aa4a_0242ac1c0002level0_row6\" class=\"row_heading level0 row6\" >2005</th> \n",
              "        <td id=\"T_d0df9f6a_57e4_11e9_aa4a_0242ac1c0002row6_col0\" class=\"data row6 col0\" >37.04%</td> \n",
              "        <td id=\"T_d0df9f6a_57e4_11e9_aa4a_0242ac1c0002row6_col1\" class=\"data row6 col1\" >16.05%</td> \n",
              "        <td id=\"T_d0df9f6a_57e4_11e9_aa4a_0242ac1c0002row6_col2\" class=\"data row6 col2\" >33.33%</td> \n",
              "    </tr>    <tr> \n",
              "        <th id=\"T_d0df9f6a_57e4_11e9_aa4a_0242ac1c0002level0_row7\" class=\"row_heading level0 row7\" >2006</th> \n",
              "        <td id=\"T_d0df9f6a_57e4_11e9_aa4a_0242ac1c0002row7_col0\" class=\"data row7 col0\" >36.02%</td> \n",
              "        <td id=\"T_d0df9f6a_57e4_11e9_aa4a_0242ac1c0002row7_col1\" class=\"data row7 col1\" >19.25%</td> \n",
              "        <td id=\"T_d0df9f6a_57e4_11e9_aa4a_0242ac1c0002row7_col2\" class=\"data row7 col2\" >29.19%</td> \n",
              "    </tr>    <tr> \n",
              "        <th id=\"T_d0df9f6a_57e4_11e9_aa4a_0242ac1c0002level0_row8\" class=\"row_heading level0 row8\" >2007</th> \n",
              "        <td id=\"T_d0df9f6a_57e4_11e9_aa4a_0242ac1c0002row8_col0\" class=\"data row8 col0\" >25.53%</td> \n",
              "        <td id=\"T_d0df9f6a_57e4_11e9_aa4a_0242ac1c0002row8_col1\" class=\"data row8 col1\" >17.02%</td> \n",
              "        <td id=\"T_d0df9f6a_57e4_11e9_aa4a_0242ac1c0002row8_col2\" class=\"data row8 col2\" >33.33%</td> \n",
              "    </tr>    <tr> \n",
              "        <th id=\"T_d0df9f6a_57e4_11e9_aa4a_0242ac1c0002level0_row9\" class=\"row_heading level0 row9\" >2008</th> \n",
              "        <td id=\"T_d0df9f6a_57e4_11e9_aa4a_0242ac1c0002row9_col0\" class=\"data row9 col0\" >20.73%</td> \n",
              "        <td id=\"T_d0df9f6a_57e4_11e9_aa4a_0242ac1c0002row9_col1\" class=\"data row9 col1\" >20.12%</td> \n",
              "        <td id=\"T_d0df9f6a_57e4_11e9_aa4a_0242ac1c0002row9_col2\" class=\"data row9 col2\" >46.95%</td> \n",
              "    </tr>    <tr> \n",
              "        <th id=\"T_d0df9f6a_57e4_11e9_aa4a_0242ac1c0002level0_row10\" class=\"row_heading level0 row10\" >2009</th> \n",
              "        <td id=\"T_d0df9f6a_57e4_11e9_aa4a_0242ac1c0002row10_col0\" class=\"data row10 col0\" >20.86%</td> \n",
              "        <td id=\"T_d0df9f6a_57e4_11e9_aa4a_0242ac1c0002row10_col1\" class=\"data row10 col1\" >20.86%</td> \n",
              "        <td id=\"T_d0df9f6a_57e4_11e9_aa4a_0242ac1c0002row10_col2\" class=\"data row10 col2\" >36.20%</td> \n",
              "    </tr>    <tr> \n",
              "        <th id=\"T_d0df9f6a_57e4_11e9_aa4a_0242ac1c0002level0_row11\" class=\"row_heading level0 row11\" >2010</th> \n",
              "        <td id=\"T_d0df9f6a_57e4_11e9_aa4a_0242ac1c0002row11_col0\" class=\"data row11 col0\" >35.15%</td> \n",
              "        <td id=\"T_d0df9f6a_57e4_11e9_aa4a_0242ac1c0002row11_col1\" class=\"data row11 col1\" >18.18%</td> \n",
              "        <td id=\"T_d0df9f6a_57e4_11e9_aa4a_0242ac1c0002row11_col2\" class=\"data row11 col2\" >30.30%</td> \n",
              "    </tr>    <tr> \n",
              "        <th id=\"T_d0df9f6a_57e4_11e9_aa4a_0242ac1c0002level0_row12\" class=\"row_heading level0 row12\" >2011</th> \n",
              "        <td id=\"T_d0df9f6a_57e4_11e9_aa4a_0242ac1c0002row12_col0\" class=\"data row12 col0\" >33.74%</td> \n",
              "        <td id=\"T_d0df9f6a_57e4_11e9_aa4a_0242ac1c0002row12_col1\" class=\"data row12 col1\" >16.56%</td> \n",
              "        <td id=\"T_d0df9f6a_57e4_11e9_aa4a_0242ac1c0002row12_col2\" class=\"data row12 col2\" >31.29%</td> \n",
              "    </tr>    <tr> \n",
              "        <th id=\"T_d0df9f6a_57e4_11e9_aa4a_0242ac1c0002level0_row13\" class=\"row_heading level0 row13\" >2012</th> \n",
              "        <td id=\"T_d0df9f6a_57e4_11e9_aa4a_0242ac1c0002row13_col0\" class=\"data row13 col0\" >26.83%</td> \n",
              "        <td id=\"T_d0df9f6a_57e4_11e9_aa4a_0242ac1c0002row13_col1\" class=\"data row13 col1\" >20.12%</td> \n",
              "        <td id=\"T_d0df9f6a_57e4_11e9_aa4a_0242ac1c0002row13_col2\" class=\"data row13 col2\" >31.71%</td> \n",
              "    </tr>    <tr> \n",
              "        <th id=\"T_d0df9f6a_57e4_11e9_aa4a_0242ac1c0002level0_row14\" class=\"row_heading level0 row14\" >2013</th> \n",
              "        <td id=\"T_d0df9f6a_57e4_11e9_aa4a_0242ac1c0002row14_col0\" class=\"data row14 col0\" >42.77%</td> \n",
              "        <td id=\"T_d0df9f6a_57e4_11e9_aa4a_0242ac1c0002row14_col1\" class=\"data row14 col1\" >12.65%</td> \n",
              "        <td id=\"T_d0df9f6a_57e4_11e9_aa4a_0242ac1c0002row14_col2\" class=\"data row14 col2\" >30.72%</td> \n",
              "    </tr>    <tr> \n",
              "        <th id=\"T_d0df9f6a_57e4_11e9_aa4a_0242ac1c0002level0_row15\" class=\"row_heading level0 row15\" >2014</th> \n",
              "        <td id=\"T_d0df9f6a_57e4_11e9_aa4a_0242ac1c0002row15_col0\" class=\"data row15 col0\" >39.26%</td> \n",
              "        <td id=\"T_d0df9f6a_57e4_11e9_aa4a_0242ac1c0002row15_col1\" class=\"data row15 col1\" >12.88%</td> \n",
              "        <td id=\"T_d0df9f6a_57e4_11e9_aa4a_0242ac1c0002row15_col2\" class=\"data row15 col2\" >32.52%</td> \n",
              "    </tr>    <tr> \n",
              "        <th id=\"T_d0df9f6a_57e4_11e9_aa4a_0242ac1c0002level0_row16\" class=\"row_heading level0 row16\" >2015</th> \n",
              "        <td id=\"T_d0df9f6a_57e4_11e9_aa4a_0242ac1c0002row16_col0\" class=\"data row16 col0\" >45.00%</td> \n",
              "        <td id=\"T_d0df9f6a_57e4_11e9_aa4a_0242ac1c0002row16_col1\" class=\"data row16 col1\" >17.00%</td> \n",
              "        <td id=\"T_d0df9f6a_57e4_11e9_aa4a_0242ac1c0002row16_col2\" class=\"data row16 col2\" >24.00%</td> \n",
              "    </tr></tbody> \n",
              "</table> "
            ],
            "text/plain": [
              "<pandas.io.formats.style.Styler at 0x7fde642f1978>"
            ]
          },
          "metadata": {
            "tags": []
          },
          "execution_count": 266
        }
      ]
    },
    {
      "metadata": {
        "colab_type": "text",
        "id": "Nqf9oJJDDu-d"
      },
      "cell_type": "markdown",
      "source": [
        "# Part 2 — Recreate this explanatory visualization:"
      ]
    },
    {
      "metadata": {
        "colab_type": "code",
        "id": "scozkHQc0_eD",
        "outputId": "466c5b4f-eb44-480d-d5a7-3f1b579bc1da",
        "colab": {
          "base_uri": "https://localhost:8080/",
          "height": 406
        }
      },
      "cell_type": "code",
      "source": [
        "from IPython.display import display, Image\n",
        "png = 'https://fivethirtyeight.com/wp-content/uploads/2015/08/hickey-datalab-dailyshow.png'\n",
        "example = Image(png, width=500)\n",
        "display(example)"
      ],
      "execution_count": 267,
      "outputs": [
        {
          "output_type": "display_data",
          "data": {
            "image/png": "[encoded data removed]",
            "text/plain": [
              "<IPython.core.display.Image object>"
            ]
          },
          "metadata": {
            "tags": [],
            "image/png": {
              "width": 500
            }
          }
        }
      ]
    },
    {
      "metadata": {
        "colab_type": "text",
        "id": "W7lw3JzAE6BJ"
      },
      "cell_type": "markdown",
      "source": [
        "**Hints:**\n",
        "- You can choose any Python visualization library you want. I've verified the plot can be reproduced with matplotlib, pandas plot, or seaborn. I assume other libraries like altair or plotly would work too.\n",
        "- If you choose to use seaborn, you may want to upgrade the version to 0.9.0.\n",
        "\n",
        "**Expectations:** Your plot should include:\n",
        "- 3 lines visualizing \"occupation of guests, by year.\" The shapes of the lines should look roughly identical to 538's example. Each line should be a different color. (But you don't need to use the _same_ colors as 538.)\n",
        "- Legend or labels for the lines. (But you don't need each label positioned next to its line or colored like 538.)\n",
        "- Title in the upper left: _\"Who Got To Be On 'The Daily Show'?\"_ with more visual emphasis than the subtitle. (Bolder and/or larger font.)\n",
        "- Subtitle underneath the title: _\"Occupation of guests, by year\"_\n",
        "\n",
        "**Optional Bonus Challenge:**\n",
        "- Give your plot polished aesthetics, with improved resemblance to the 538 example.\n",
        "- Any visual element not specifically mentioned in the expectations is an optional bonus."
      ]
    },
    {
      "metadata": {
        "colab_type": "code",
        "id": "E8XBAr8rz_Na",
        "colab": {
          "base_uri": "https://localhost:8080/",
          "height": 342
        },
        "outputId": "ab865e6f-8a8f-4be7-aeb2-e24def77b496"
      },
      "cell_type": "code",
      "source": [
        "plt.style.use('fivethirtyeight')\n",
        "\n",
        "guests_graph = percents.plot();\n",
        "\n",
        "plt.title(\"Who Got To Be On 'The Daily Show'?\", \n",
        "          x=-.1, y=1.08, fontsize=18, fontweight='bold', loc='left')\n",
        "# guests_graph.set(xticks=range(0, 4, 2015)\n",
        "\n",
        "# guests_graph.text(x = 0, y = 3, s = \"Who Got To Be On 'The Daily Show'?\",\n",
        "#                fontsize = 18, weight = 'bold')\n",
        "plt.suptitle('Occupation of Guests, by year', x=0, y=.95, fontsize =16, horizontalalignment='left');"
      ],
      "execution_count": 272,
      "outputs": [
        {
          "output_type": "display_data",
          "data": {
            "image/png": "[encoded data removed]",
            "text/plain": [
              "<Figure size 432x288 with 1 Axes>"
            ]
          },
          "metadata": {
            "tags": []
          }
        }
      ]
    },
    {
      "metadata": {
        "colab_type": "text",
        "id": "LuacMjSf2ses"
      },
      "cell_type": "markdown",
      "source": [
        "# Part 3 — Who were the top 10 guests on _The Daily Show_?\n",
        "\n",
        "**Make a plot** that shows their names and number of appearances.\n",
        "\n",
        "**Add a title** of your choice.\n",
        "\n",
        "**Expectations:** It's ok to make a simple, quick plot: exploratory, instead of explanatory. \n",
        "\n",
        "**Optional Bonus Challenge:** You can change aesthetics and add more annotation. For example, in a relevant location, could you add the text \"19\" to show that Fareed Zakaria appeared 19 times on _The Daily Show_? (And so on, for each of the top 10 guests.)"
      ]
    },
    {
      "metadata": {
        "colab_type": "code",
        "id": "tbwfBN3HsFlh",
        "colab": {
          "base_uri": "https://localhost:8080/",
          "height": 359
        },
        "outputId": "0a63e733-d7a5-4862-b0ab-31515058e007"
      },
      "cell_type": "code",
      "source": [
        "appearances = df.drop(columns=['GoogleKnowlege_Occupation', 'Show', 'Group','Occupation'])\n",
        "\n",
        "appearances.head(10)"
      ],
      "execution_count": 269,
      "outputs": [
        {
          "output_type": "execute_result",
          "data": {
            "text/html": [
              "<div>\n",
              "<style scoped>\n",
              "    .dataframe tbody tr th:only-of-type {\n",
              "        vertical-align: middle;\n",
              "    }\n",
              "\n",
              "    .dataframe tbody tr th {\n",
              "        vertical-align: top;\n",
              "    }\n",
              "\n",
              "    .dataframe thead th {\n",
              "        text-align: right;\n",
              "    }\n",
              "</style>\n",
              "<table border=\"1\" class=\"dataframe\">\n",
              "  <thead>\n",
              "    <tr style=\"text-align: right;\">\n",
              "      <th></th>\n",
              "      <th>Year</th>\n",
              "      <th>Guest</th>\n",
              "    </tr>\n",
              "  </thead>\n",
              "  <tbody>\n",
              "    <tr>\n",
              "      <th>0</th>\n",
              "      <td>1999</td>\n",
              "      <td>Michael J. Fox</td>\n",
              "    </tr>\n",
              "    <tr>\n",
              "      <th>1</th>\n",
              "      <td>1999</td>\n",
              "      <td>Sandra Bernhard</td>\n",
              "    </tr>\n",
              "    <tr>\n",
              "      <th>2</th>\n",
              "      <td>1999</td>\n",
              "      <td>Tracey Ullman</td>\n",
              "    </tr>\n",
              "    <tr>\n",
              "      <th>3</th>\n",
              "      <td>1999</td>\n",
              "      <td>Gillian Anderson</td>\n",
              "    </tr>\n",
              "    <tr>\n",
              "      <th>4</th>\n",
              "      <td>1999</td>\n",
              "      <td>David Alan Grier</td>\n",
              "    </tr>\n",
              "    <tr>\n",
              "      <th>5</th>\n",
              "      <td>1999</td>\n",
              "      <td>William Baldwin</td>\n",
              "    </tr>\n",
              "    <tr>\n",
              "      <th>6</th>\n",
              "      <td>1999</td>\n",
              "      <td>Michael Stipe</td>\n",
              "    </tr>\n",
              "    <tr>\n",
              "      <th>7</th>\n",
              "      <td>1999</td>\n",
              "      <td>Carmen Electra</td>\n",
              "    </tr>\n",
              "    <tr>\n",
              "      <th>8</th>\n",
              "      <td>1999</td>\n",
              "      <td>Matthew Lillard</td>\n",
              "    </tr>\n",
              "    <tr>\n",
              "      <th>9</th>\n",
              "      <td>1999</td>\n",
              "      <td>David Cross</td>\n",
              "    </tr>\n",
              "  </tbody>\n",
              "</table>\n",
              "</div>"
            ],
            "text/plain": [
              "   Year             Guest\n",
              "0  1999    Michael J. Fox\n",
              "1  1999   Sandra Bernhard\n",
              "2  1999     Tracey Ullman\n",
              "3  1999  Gillian Anderson\n",
              "4  1999  David Alan Grier\n",
              "5  1999   William Baldwin\n",
              "6  1999     Michael Stipe\n",
              "7  1999    Carmen Electra\n",
              "8  1999   Matthew Lillard\n",
              "9  1999       David Cross"
            ]
          },
          "metadata": {
            "tags": []
          },
          "execution_count": 269
        }
      ]
    },
    {
      "metadata": {
        "id": "wg3nEZwrqo17",
        "colab_type": "code",
        "colab": {
          "base_uri": "https://localhost:8080/",
          "height": 204
        },
        "outputId": "3b9533c9-d7e9-4817-dfff-24ceaeca879f"
      },
      "cell_type": "code",
      "source": [
        "num_appearances = appearances['Guest'].value_counts()\n",
        "\n",
        "top_ten = num_appearances.head(10).sort_values(ascending=False)\n",
        "\n",
        "top_ten"
      ],
      "execution_count": 270,
      "outputs": [
        {
          "output_type": "execute_result",
          "data": {
            "text/plain": [
              "Fareed Zakaria    19\n",
              "Denis Leary       17\n",
              "Brian Williams    16\n",
              "Ricky Gervais     13\n",
              "Paul Rudd         13\n",
              "Tom Brokaw        12\n",
              "Bill O'Reilly     10\n",
              "Richard Lewis     10\n",
              "Reza Aslan        10\n",
              "Will Ferrell      10\n",
              "Name: Guest, dtype: int64"
            ]
          },
          "metadata": {
            "tags": []
          },
          "execution_count": 270
        }
      ]
    },
    {
      "metadata": {
        "id": "GCTaqnVzsOBt",
        "colab_type": "code",
        "colab": {
          "base_uri": "https://localhost:8080/",
          "height": 395
        },
        "outputId": "ec395f9b-72db-4740-ad8d-d8a831845f15"
      },
      "cell_type": "code",
      "source": [
        "top_ten.plot.bar()\n",
        "plt.title(\"Who were the top 10 guests on 'The Daily Show'?\", fontweight='bold');"
      ],
      "execution_count": 271,
      "outputs": [
        {
          "output_type": "display_data",
          "data": {
            "image/png": "[encoded data removed]",
            "text/plain": [
              "<Figure size 432x288 with 1 Axes>"
            ]
          },
          "metadata": {
            "tags": []
          }
        }
      ]
    }
  ]
}