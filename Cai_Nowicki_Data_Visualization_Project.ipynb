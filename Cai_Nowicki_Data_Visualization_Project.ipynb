{
  "nbformat": 4,
  "nbformat_minor": 0,
  "metadata": {
    "colab": {
      "name": "Cai_Nowicki_Data_Visualization_Project.ipynb",
      "version": "0.3.2",
      "provenance": [],
      "collapsed_sections": [],
      "include_colab_link": true
    },
    "kernelspec": {
      "name": "python3",
      "display_name": "Python 3"
    }
  },
  "cells": [
    {
      "cell_type": "markdown",
      "metadata": {
        "id": "view-in-github",
        "colab_type": "text"
      },
      "source": [
        "<a href=\"https://colab.research.google.com/github/dunkelweizen/DS-Unit-1-Sprint-1-Dealing-With-Data/blob/master/Cai_Nowicki_Data_Visualization_Project.ipynb\" target=\"_parent\"><img src=\"https://colab.research.google.com/assets/colab-badge.svg\" alt=\"Open In Colab\"/></a>"
      ]
    },
    {
      "cell_type": "markdown",
      "metadata": {
        "id": "aq1wh5QU5I1w",
        "colab_type": "text"
      },
      "source": [
        "#Exoplanet Data Visualization\n",
        "\n",
        "I started with CalTech's dataset on confirmed exoplanets. Initial project goal: create a visualization showing relative sizes and distances of a selection of exoplanets as compared to Earth, our Solar System, and the Sun. \n",
        "\n",
        "I could also create a visualization showing how many confirmed exoplanets are larger/smaller than Jupiter, and how many stars with exoplanets are larger/smaller, hotter/cooler than our Sun, how many exoplanets are denser/less dense than Earth, etc. Or compare their \"years\" to Earth years, and maybe even crosstab that with relative sizes of stellar object and exoplanet. (Does the size of the star or the size of the planet correlate to orbital times?)"
      ]
    },
    {
      "cell_type": "markdown",
      "metadata": {
        "id": "MpvL1WMN6SO6",
        "colab_type": "text"
      },
      "source": [
        "##Exoplanet Data Collection"
      ]
    },
    {
      "cell_type": "code",
      "metadata": {
        "id": "4jxEftVws6u9",
        "colab_type": "code",
        "colab": {
          "base_uri": "https://localhost:8080/",
          "height": 224
        },
        "outputId": "97025e3d-73ed-45fd-9ed1-07f63591689d"
      },
      "source": [
        "#explanation of how to get this file and format the API request https://exoplanetarchive.ipac.caltech.edu/docs/program_interfaces.html=\n",
        "#this query used table=exoplanets (exoplanet data), select=default (default columns), format=csv \n",
        "!wget \"https://exoplanetarchive.ipac.caltech.edu/cgi-bin/nstedAPI/nph-nstedAPI?&table=exoplanets&select=defaults&format=csv\" -O \"confirmed_exoplanets.csv\""
      ],
      "execution_count": 2,
      "outputs": [
        {
          "output_type": "stream",
          "text": [
            "--2019-09-14 01:50:29--  https://exoplanetarchive.ipac.caltech.edu/cgi-bin/nstedAPI/nph-nstedAPI?&table=exoplanets&select=defaults&format=csv\n",
            "Resolving exoplanetarchive.ipac.caltech.edu (exoplanetarchive.ipac.caltech.edu)... 134.4.54.151\n",
            "Connecting to exoplanetarchive.ipac.caltech.edu (exoplanetarchive.ipac.caltech.edu)|134.4.54.151|:443... connected.\n",
            "HTTP request sent, awaiting response... 200 OK\n",
            "Length: unspecified [text/plain]\n",
            "Saving to: ‘confirmed_exoplanets.csv’\n",
            "\n",
            "confirmed_exoplanet     [    <=>             ]   1.44M  1.41MB/s    in 1.0s    \n",
            "\n",
            "2019-09-14 01:50:31 (1.41 MB/s) - ‘confirmed_exoplanets.csv’ saved [1514253]\n",
            "\n"
          ],
          "name": "stdout"
        }
      ]
    },
    {
      "cell_type": "code",
      "metadata": {
        "id": "JUYMCnIovgzJ",
        "colab_type": "code",
        "colab": {}
      },
      "source": [
        "import pandas as pd\n",
        "import numpy as np\n",
        "import matplotlib.pyplot as plt"
      ],
      "execution_count": 0,
      "outputs": []
    },
    {
      "cell_type": "code",
      "metadata": {
        "id": "D5zUBKAPuAo8",
        "colab_type": "code",
        "colab": {}
      },
      "source": [
        "df = pd.read_csv('confirmed_exoplanets.csv')"
      ],
      "execution_count": 0,
      "outputs": []
    },
    {
      "cell_type": "code",
      "metadata": {
        "id": "M233l6wzuu2a",
        "colab_type": "code",
        "colab": {
          "base_uri": "https://localhost:8080/",
          "height": 338
        },
        "outputId": "cad610f2-3427-49dc-f55b-a2f176c71a3c"
      },
      "source": [
        "df.head()"
      ],
      "execution_count": 5,
      "outputs": [
        {
          "output_type": "execute_result",
          "data": {
            "text/html": [
              "<div>\n",
              "<style scoped>\n",
              "    .dataframe tbody tr th:only-of-type {\n",
              "        vertical-align: middle;\n",
              "    }\n",
              "\n",
              "    .dataframe tbody tr th {\n",
              "        vertical-align: top;\n",
              "    }\n",
              "\n",
              "    .dataframe thead th {\n",
              "        text-align: right;\n",
              "    }\n",
              "</style>\n",
              "<table border=\"1\" class=\"dataframe\">\n",
              "  <thead>\n",
              "    <tr style=\"text-align: right;\">\n",
              "      <th></th>\n",
              "      <th>pl_hostname</th>\n",
              "      <th>pl_letter</th>\n",
              "      <th>pl_name</th>\n",
              "      <th>pl_discmethod</th>\n",
              "      <th>pl_controvflag</th>\n",
              "      <th>pl_pnum</th>\n",
              "      <th>pl_orbper</th>\n",
              "      <th>pl_orbpererr1</th>\n",
              "      <th>pl_orbpererr2</th>\n",
              "      <th>pl_orbperlim</th>\n",
              "      <th>pl_orbpern</th>\n",
              "      <th>pl_orbsmax</th>\n",
              "      <th>pl_orbsmaxerr1</th>\n",
              "      <th>pl_orbsmaxerr2</th>\n",
              "      <th>pl_orbsmaxlim</th>\n",
              "      <th>pl_orbsmaxn</th>\n",
              "      <th>pl_orbeccen</th>\n",
              "      <th>pl_orbeccenerr1</th>\n",
              "      <th>pl_orbeccenerr2</th>\n",
              "      <th>pl_orbeccenlim</th>\n",
              "      <th>pl_orbeccenn</th>\n",
              "      <th>pl_orbincl</th>\n",
              "      <th>pl_orbinclerr1</th>\n",
              "      <th>pl_orbinclerr2</th>\n",
              "      <th>pl_orbincllim</th>\n",
              "      <th>pl_orbincln</th>\n",
              "      <th>pl_bmassj</th>\n",
              "      <th>pl_bmassjerr1</th>\n",
              "      <th>pl_bmassjerr2</th>\n",
              "      <th>pl_bmassjlim</th>\n",
              "      <th>pl_bmassn</th>\n",
              "      <th>pl_bmassprov</th>\n",
              "      <th>pl_radj</th>\n",
              "      <th>pl_radjerr1</th>\n",
              "      <th>pl_radjerr2</th>\n",
              "      <th>pl_radjlim</th>\n",
              "      <th>pl_radn</th>\n",
              "      <th>pl_dens</th>\n",
              "      <th>pl_denserr1</th>\n",
              "      <th>pl_denserr2</th>\n",
              "      <th>...</th>\n",
              "      <th>pl_ttvflag</th>\n",
              "      <th>pl_kepflag</th>\n",
              "      <th>pl_k2flag</th>\n",
              "      <th>ra_str</th>\n",
              "      <th>dec_str</th>\n",
              "      <th>ra</th>\n",
              "      <th>st_raerr</th>\n",
              "      <th>dec</th>\n",
              "      <th>st_decerr</th>\n",
              "      <th>st_posn</th>\n",
              "      <th>st_dist</th>\n",
              "      <th>st_disterr1</th>\n",
              "      <th>st_disterr2</th>\n",
              "      <th>st_distlim</th>\n",
              "      <th>st_distn</th>\n",
              "      <th>st_optmag</th>\n",
              "      <th>st_optmagerr</th>\n",
              "      <th>st_optmaglim</th>\n",
              "      <th>st_optband</th>\n",
              "      <th>gaia_gmag</th>\n",
              "      <th>gaia_gmagerr</th>\n",
              "      <th>gaia_gmaglim</th>\n",
              "      <th>st_teff</th>\n",
              "      <th>st_tefferr1</th>\n",
              "      <th>st_tefferr2</th>\n",
              "      <th>st_tefflim</th>\n",
              "      <th>st_teffn</th>\n",
              "      <th>st_mass</th>\n",
              "      <th>st_masserr1</th>\n",
              "      <th>st_masserr2</th>\n",
              "      <th>st_masslim</th>\n",
              "      <th>st_massn</th>\n",
              "      <th>st_rad</th>\n",
              "      <th>st_raderr1</th>\n",
              "      <th>st_raderr2</th>\n",
              "      <th>st_radlim</th>\n",
              "      <th>st_radn</th>\n",
              "      <th>pl_nnotes</th>\n",
              "      <th>rowupdate</th>\n",
              "      <th>pl_facility</th>\n",
              "    </tr>\n",
              "  </thead>\n",
              "  <tbody>\n",
              "    <tr>\n",
              "      <th>0</th>\n",
              "      <td>Kepler-150</td>\n",
              "      <td>d</td>\n",
              "      <td>Kepler-150 d</td>\n",
              "      <td>Transit</td>\n",
              "      <td>0</td>\n",
              "      <td>5</td>\n",
              "      <td>12.560930</td>\n",
              "      <td>0.000036</td>\n",
              "      <td>-0.000036</td>\n",
              "      <td>0.0</td>\n",
              "      <td>4</td>\n",
              "      <td>0.104</td>\n",
              "      <td>NaN</td>\n",
              "      <td>NaN</td>\n",
              "      <td>0.0</td>\n",
              "      <td>1</td>\n",
              "      <td>NaN</td>\n",
              "      <td>NaN</td>\n",
              "      <td>NaN</td>\n",
              "      <td>NaN</td>\n",
              "      <td>0</td>\n",
              "      <td>NaN</td>\n",
              "      <td>NaN</td>\n",
              "      <td>NaN</td>\n",
              "      <td>NaN</td>\n",
              "      <td>0</td>\n",
              "      <td>NaN</td>\n",
              "      <td>NaN</td>\n",
              "      <td>NaN</td>\n",
              "      <td>NaN</td>\n",
              "      <td>0</td>\n",
              "      <td>NaN</td>\n",
              "      <td>0.249</td>\n",
              "      <td>0.037</td>\n",
              "      <td>-0.037</td>\n",
              "      <td>0.0</td>\n",
              "      <td>3</td>\n",
              "      <td>NaN</td>\n",
              "      <td>NaN</td>\n",
              "      <td>NaN</td>\n",
              "      <td>...</td>\n",
              "      <td>0</td>\n",
              "      <td>1</td>\n",
              "      <td>0</td>\n",
              "      <td>19h12m56.18s</td>\n",
              "      <td>+40d31m15.3s</td>\n",
              "      <td>288.234084</td>\n",
              "      <td>0.000019</td>\n",
              "      <td>40.520905</td>\n",
              "      <td>0.000017</td>\n",
              "      <td>2</td>\n",
              "      <td>914.40</td>\n",
              "      <td>17.46</td>\n",
              "      <td>-17.46</td>\n",
              "      <td>0.0</td>\n",
              "      <td>3</td>\n",
              "      <td>14.985</td>\n",
              "      <td>NaN</td>\n",
              "      <td>0.0</td>\n",
              "      <td>Kepler-band</td>\n",
              "      <td>14.974</td>\n",
              "      <td>NaN</td>\n",
              "      <td>0.0</td>\n",
              "      <td>5560.0</td>\n",
              "      <td>100.0</td>\n",
              "      <td>-100.0</td>\n",
              "      <td>0.0</td>\n",
              "      <td>6</td>\n",
              "      <td>NaN</td>\n",
              "      <td>NaN</td>\n",
              "      <td>NaN</td>\n",
              "      <td>NaN</td>\n",
              "      <td>1</td>\n",
              "      <td>0.94</td>\n",
              "      <td>0.14</td>\n",
              "      <td>-0.14</td>\n",
              "      <td>0.0</td>\n",
              "      <td>6</td>\n",
              "      <td>1</td>\n",
              "      <td>2014-05-14</td>\n",
              "      <td>Kepler</td>\n",
              "    </tr>\n",
              "    <tr>\n",
              "      <th>1</th>\n",
              "      <td>Kepler-150</td>\n",
              "      <td>e</td>\n",
              "      <td>Kepler-150 e</td>\n",
              "      <td>Transit</td>\n",
              "      <td>0</td>\n",
              "      <td>5</td>\n",
              "      <td>30.826557</td>\n",
              "      <td>0.000199</td>\n",
              "      <td>-0.000199</td>\n",
              "      <td>0.0</td>\n",
              "      <td>4</td>\n",
              "      <td>0.189</td>\n",
              "      <td>NaN</td>\n",
              "      <td>NaN</td>\n",
              "      <td>0.0</td>\n",
              "      <td>1</td>\n",
              "      <td>NaN</td>\n",
              "      <td>NaN</td>\n",
              "      <td>NaN</td>\n",
              "      <td>NaN</td>\n",
              "      <td>0</td>\n",
              "      <td>NaN</td>\n",
              "      <td>NaN</td>\n",
              "      <td>NaN</td>\n",
              "      <td>NaN</td>\n",
              "      <td>0</td>\n",
              "      <td>NaN</td>\n",
              "      <td>NaN</td>\n",
              "      <td>NaN</td>\n",
              "      <td>NaN</td>\n",
              "      <td>0</td>\n",
              "      <td>NaN</td>\n",
              "      <td>0.278</td>\n",
              "      <td>0.049</td>\n",
              "      <td>-0.049</td>\n",
              "      <td>0.0</td>\n",
              "      <td>3</td>\n",
              "      <td>NaN</td>\n",
              "      <td>NaN</td>\n",
              "      <td>NaN</td>\n",
              "      <td>...</td>\n",
              "      <td>0</td>\n",
              "      <td>1</td>\n",
              "      <td>0</td>\n",
              "      <td>19h12m56.18s</td>\n",
              "      <td>+40d31m15.3s</td>\n",
              "      <td>288.234084</td>\n",
              "      <td>0.000019</td>\n",
              "      <td>40.520905</td>\n",
              "      <td>0.000017</td>\n",
              "      <td>2</td>\n",
              "      <td>914.40</td>\n",
              "      <td>17.46</td>\n",
              "      <td>-17.46</td>\n",
              "      <td>0.0</td>\n",
              "      <td>3</td>\n",
              "      <td>14.985</td>\n",
              "      <td>NaN</td>\n",
              "      <td>0.0</td>\n",
              "      <td>Kepler-band</td>\n",
              "      <td>14.974</td>\n",
              "      <td>NaN</td>\n",
              "      <td>0.0</td>\n",
              "      <td>5560.0</td>\n",
              "      <td>100.0</td>\n",
              "      <td>-100.0</td>\n",
              "      <td>0.0</td>\n",
              "      <td>6</td>\n",
              "      <td>NaN</td>\n",
              "      <td>NaN</td>\n",
              "      <td>NaN</td>\n",
              "      <td>NaN</td>\n",
              "      <td>1</td>\n",
              "      <td>0.94</td>\n",
              "      <td>0.14</td>\n",
              "      <td>-0.14</td>\n",
              "      <td>0.0</td>\n",
              "      <td>6</td>\n",
              "      <td>1</td>\n",
              "      <td>2014-05-14</td>\n",
              "      <td>Kepler</td>\n",
              "    </tr>\n",
              "    <tr>\n",
              "      <th>2</th>\n",
              "      <td>Kepler-151</td>\n",
              "      <td>b</td>\n",
              "      <td>Kepler-151 b</td>\n",
              "      <td>Transit</td>\n",
              "      <td>0</td>\n",
              "      <td>2</td>\n",
              "      <td>15.228958</td>\n",
              "      <td>0.000030</td>\n",
              "      <td>-0.000030</td>\n",
              "      <td>0.0</td>\n",
              "      <td>4</td>\n",
              "      <td>0.116</td>\n",
              "      <td>NaN</td>\n",
              "      <td>NaN</td>\n",
              "      <td>0.0</td>\n",
              "      <td>1</td>\n",
              "      <td>NaN</td>\n",
              "      <td>NaN</td>\n",
              "      <td>NaN</td>\n",
              "      <td>NaN</td>\n",
              "      <td>0</td>\n",
              "      <td>NaN</td>\n",
              "      <td>NaN</td>\n",
              "      <td>NaN</td>\n",
              "      <td>NaN</td>\n",
              "      <td>0</td>\n",
              "      <td>NaN</td>\n",
              "      <td>NaN</td>\n",
              "      <td>NaN</td>\n",
              "      <td>NaN</td>\n",
              "      <td>0</td>\n",
              "      <td>NaN</td>\n",
              "      <td>0.273</td>\n",
              "      <td>0.136</td>\n",
              "      <td>-0.136</td>\n",
              "      <td>0.0</td>\n",
              "      <td>3</td>\n",
              "      <td>NaN</td>\n",
              "      <td>NaN</td>\n",
              "      <td>NaN</td>\n",
              "      <td>...</td>\n",
              "      <td>0</td>\n",
              "      <td>1</td>\n",
              "      <td>0</td>\n",
              "      <td>19h28m39.07s</td>\n",
              "      <td>+41d01m23.6s</td>\n",
              "      <td>292.162778</td>\n",
              "      <td>0.000017</td>\n",
              "      <td>41.023235</td>\n",
              "      <td>0.000017</td>\n",
              "      <td>2</td>\n",
              "      <td>662.19</td>\n",
              "      <td>9.82</td>\n",
              "      <td>-9.82</td>\n",
              "      <td>0.0</td>\n",
              "      <td>3</td>\n",
              "      <td>14.769</td>\n",
              "      <td>NaN</td>\n",
              "      <td>0.0</td>\n",
              "      <td>Kepler-band</td>\n",
              "      <td>14.719</td>\n",
              "      <td>NaN</td>\n",
              "      <td>0.0</td>\n",
              "      <td>5460.0</td>\n",
              "      <td>200.0</td>\n",
              "      <td>-200.0</td>\n",
              "      <td>0.0</td>\n",
              "      <td>6</td>\n",
              "      <td>NaN</td>\n",
              "      <td>NaN</td>\n",
              "      <td>NaN</td>\n",
              "      <td>NaN</td>\n",
              "      <td>2</td>\n",
              "      <td>0.83</td>\n",
              "      <td>0.41</td>\n",
              "      <td>-0.41</td>\n",
              "      <td>0.0</td>\n",
              "      <td>6</td>\n",
              "      <td>1</td>\n",
              "      <td>2014-05-14</td>\n",
              "      <td>Kepler</td>\n",
              "    </tr>\n",
              "    <tr>\n",
              "      <th>3</th>\n",
              "      <td>Kepler-151</td>\n",
              "      <td>c</td>\n",
              "      <td>Kepler-151 c</td>\n",
              "      <td>Transit</td>\n",
              "      <td>0</td>\n",
              "      <td>2</td>\n",
              "      <td>24.674612</td>\n",
              "      <td>0.000106</td>\n",
              "      <td>-0.000106</td>\n",
              "      <td>0.0</td>\n",
              "      <td>4</td>\n",
              "      <td>0.160</td>\n",
              "      <td>NaN</td>\n",
              "      <td>NaN</td>\n",
              "      <td>0.0</td>\n",
              "      <td>1</td>\n",
              "      <td>NaN</td>\n",
              "      <td>NaN</td>\n",
              "      <td>NaN</td>\n",
              "      <td>NaN</td>\n",
              "      <td>0</td>\n",
              "      <td>NaN</td>\n",
              "      <td>NaN</td>\n",
              "      <td>NaN</td>\n",
              "      <td>NaN</td>\n",
              "      <td>0</td>\n",
              "      <td>NaN</td>\n",
              "      <td>NaN</td>\n",
              "      <td>NaN</td>\n",
              "      <td>NaN</td>\n",
              "      <td>0</td>\n",
              "      <td>NaN</td>\n",
              "      <td>0.186</td>\n",
              "      <td>0.093</td>\n",
              "      <td>-0.093</td>\n",
              "      <td>0.0</td>\n",
              "      <td>3</td>\n",
              "      <td>NaN</td>\n",
              "      <td>NaN</td>\n",
              "      <td>NaN</td>\n",
              "      <td>...</td>\n",
              "      <td>0</td>\n",
              "      <td>1</td>\n",
              "      <td>0</td>\n",
              "      <td>19h28m39.07s</td>\n",
              "      <td>+41d01m23.6s</td>\n",
              "      <td>292.162778</td>\n",
              "      <td>0.000017</td>\n",
              "      <td>41.023235</td>\n",
              "      <td>0.000017</td>\n",
              "      <td>2</td>\n",
              "      <td>662.19</td>\n",
              "      <td>9.82</td>\n",
              "      <td>-9.82</td>\n",
              "      <td>0.0</td>\n",
              "      <td>3</td>\n",
              "      <td>14.769</td>\n",
              "      <td>NaN</td>\n",
              "      <td>0.0</td>\n",
              "      <td>Kepler-band</td>\n",
              "      <td>14.719</td>\n",
              "      <td>NaN</td>\n",
              "      <td>0.0</td>\n",
              "      <td>5460.0</td>\n",
              "      <td>200.0</td>\n",
              "      <td>-200.0</td>\n",
              "      <td>0.0</td>\n",
              "      <td>6</td>\n",
              "      <td>NaN</td>\n",
              "      <td>NaN</td>\n",
              "      <td>NaN</td>\n",
              "      <td>NaN</td>\n",
              "      <td>2</td>\n",
              "      <td>0.83</td>\n",
              "      <td>0.41</td>\n",
              "      <td>-0.41</td>\n",
              "      <td>0.0</td>\n",
              "      <td>6</td>\n",
              "      <td>1</td>\n",
              "      <td>2014-05-14</td>\n",
              "      <td>Kepler</td>\n",
              "    </tr>\n",
              "    <tr>\n",
              "      <th>4</th>\n",
              "      <td>Kepler-152</td>\n",
              "      <td>b</td>\n",
              "      <td>Kepler-152 b</td>\n",
              "      <td>Transit</td>\n",
              "      <td>0</td>\n",
              "      <td>2</td>\n",
              "      <td>18.207973</td>\n",
              "      <td>0.000023</td>\n",
              "      <td>-0.000023</td>\n",
              "      <td>0.0</td>\n",
              "      <td>4</td>\n",
              "      <td>0.124</td>\n",
              "      <td>NaN</td>\n",
              "      <td>NaN</td>\n",
              "      <td>0.0</td>\n",
              "      <td>1</td>\n",
              "      <td>NaN</td>\n",
              "      <td>NaN</td>\n",
              "      <td>NaN</td>\n",
              "      <td>NaN</td>\n",
              "      <td>0</td>\n",
              "      <td>NaN</td>\n",
              "      <td>NaN</td>\n",
              "      <td>NaN</td>\n",
              "      <td>NaN</td>\n",
              "      <td>0</td>\n",
              "      <td>NaN</td>\n",
              "      <td>NaN</td>\n",
              "      <td>NaN</td>\n",
              "      <td>NaN</td>\n",
              "      <td>0</td>\n",
              "      <td>NaN</td>\n",
              "      <td>0.249</td>\n",
              "      <td>0.015</td>\n",
              "      <td>-0.015</td>\n",
              "      <td>0.0</td>\n",
              "      <td>3</td>\n",
              "      <td>NaN</td>\n",
              "      <td>NaN</td>\n",
              "      <td>NaN</td>\n",
              "      <td>...</td>\n",
              "      <td>0</td>\n",
              "      <td>1</td>\n",
              "      <td>0</td>\n",
              "      <td>19h07m27.71s</td>\n",
              "      <td>+41d59m20.7s</td>\n",
              "      <td>286.865479</td>\n",
              "      <td>0.000022</td>\n",
              "      <td>41.989086</td>\n",
              "      <td>0.000017</td>\n",
              "      <td>2</td>\n",
              "      <td>446.77</td>\n",
              "      <td>3.19</td>\n",
              "      <td>-3.19</td>\n",
              "      <td>0.0</td>\n",
              "      <td>3</td>\n",
              "      <td>14.290</td>\n",
              "      <td>NaN</td>\n",
              "      <td>0.0</td>\n",
              "      <td>Kepler-band</td>\n",
              "      <td>14.244</td>\n",
              "      <td>NaN</td>\n",
              "      <td>0.0</td>\n",
              "      <td>5088.0</td>\n",
              "      <td>100.0</td>\n",
              "      <td>-100.0</td>\n",
              "      <td>0.0</td>\n",
              "      <td>6</td>\n",
              "      <td>NaN</td>\n",
              "      <td>NaN</td>\n",
              "      <td>NaN</td>\n",
              "      <td>NaN</td>\n",
              "      <td>1</td>\n",
              "      <td>0.72</td>\n",
              "      <td>0.04</td>\n",
              "      <td>-0.04</td>\n",
              "      <td>0.0</td>\n",
              "      <td>6</td>\n",
              "      <td>1</td>\n",
              "      <td>2014-05-14</td>\n",
              "      <td>Kepler</td>\n",
              "    </tr>\n",
              "  </tbody>\n",
              "</table>\n",
              "<p>5 rows × 82 columns</p>\n",
              "</div>"
            ],
            "text/plain": [
              "  pl_hostname pl_letter       pl_name  ... pl_nnotes   rowupdate  pl_facility\n",
              "0  Kepler-150         d  Kepler-150 d  ...         1  2014-05-14       Kepler\n",
              "1  Kepler-150         e  Kepler-150 e  ...         1  2014-05-14       Kepler\n",
              "2  Kepler-151         b  Kepler-151 b  ...         1  2014-05-14       Kepler\n",
              "3  Kepler-151         c  Kepler-151 c  ...         1  2014-05-14       Kepler\n",
              "4  Kepler-152         b  Kepler-152 b  ...         1  2014-05-14       Kepler\n",
              "\n",
              "[5 rows x 82 columns]"
            ]
          },
          "metadata": {
            "tags": []
          },
          "execution_count": 5
        }
      ]
    },
    {
      "cell_type": "code",
      "metadata": {
        "id": "ycxBR1NT2o0U",
        "colab_type": "code",
        "colab": {
          "base_uri": "https://localhost:8080/",
          "height": 204
        },
        "outputId": "2646746e-c574-41cc-e8c7-d2453b61ad13"
      },
      "source": [
        "df['pl_bmassj'].sample(10)"
      ],
      "execution_count": 6,
      "outputs": [
        {
          "output_type": "execute_result",
          "data": {
            "text/plain": [
              "2806       NaN\n",
              "2808       NaN\n",
              "3359       NaN\n",
              "877      0.560\n",
              "2386       NaN\n",
              "727     15.040\n",
              "2524       NaN\n",
              "3703     0.223\n",
              "906        NaN\n",
              "485        NaN\n",
              "Name: pl_bmassj, dtype: float64"
            ]
          },
          "metadata": {
            "tags": []
          },
          "execution_count": 6
        }
      ]
    },
    {
      "cell_type": "code",
      "metadata": {
        "id": "Giyv-2VUuxO3",
        "colab_type": "code",
        "colab": {}
      },
      "source": [
        "#let's do something about those awful column headers and the size of that\n",
        "#if I don't understand what a column means I'm not going to be able to visualize, so just skip those\n",
        "#column name definitions from https://exoplanetarchive.ipac.caltech.edu/docs/API_exoplanet_columns.html#defaultcol\n",
        "df_exo = pd.DataFrame()\n",
        "df_exo['Host Star'] = df['pl_hostname']\n",
        "df_exo['System Distance (Parsecs)'] = df['st_dist']\n",
        "df_exo['Stellar Mass (solar masses)'] = df['st_mass']\n",
        "df_exo['Stellar Radius (solar radii)'] = df['st_rad']\n",
        "df_exo['Stellar Effective Temp (K)'] = df['st_teff']\n",
        "df_exo['Planet Name'] = df['pl_name']\n",
        "df_exo['Discovery Type'] = df['pl_discmethod']\n",
        "df_exo['Planets in System'] = df['pl_pnum']\n",
        "df_exo['Orbital Period (days)'] = df['pl_orbper']\n",
        "df_exo['Mass (J-masses)'] = df['pl_bmassj']\n",
        "df_exo['Planet Radius (J-radii)'] = df['pl_radj']\n",
        "df_exo['Planet Density'] = df['pl_dens']"
      ],
      "execution_count": 0,
      "outputs": []
    },
    {
      "cell_type": "code",
      "metadata": {
        "id": "22K13JSn050c",
        "colab_type": "code",
        "colab": {
          "base_uri": "https://localhost:8080/",
          "height": 614
        },
        "outputId": "b24bd4b8-3ba9-46b0-ad2e-5f054c1e8a81"
      },
      "source": [
        "df_exo.sample(10)   #much better!"
      ],
      "execution_count": 8,
      "outputs": [
        {
          "output_type": "execute_result",
          "data": {
            "text/html": [
              "<div>\n",
              "<style scoped>\n",
              "    .dataframe tbody tr th:only-of-type {\n",
              "        vertical-align: middle;\n",
              "    }\n",
              "\n",
              "    .dataframe tbody tr th {\n",
              "        vertical-align: top;\n",
              "    }\n",
              "\n",
              "    .dataframe thead th {\n",
              "        text-align: right;\n",
              "    }\n",
              "</style>\n",
              "<table border=\"1\" class=\"dataframe\">\n",
              "  <thead>\n",
              "    <tr style=\"text-align: right;\">\n",
              "      <th></th>\n",
              "      <th>Host Star</th>\n",
              "      <th>System Distance (Parsecs)</th>\n",
              "      <th>Stellar Mass (solar masses)</th>\n",
              "      <th>Stellar Radius (solar radii)</th>\n",
              "      <th>Stellar Effective Temp (K)</th>\n",
              "      <th>Planet Name</th>\n",
              "      <th>Discovery Type</th>\n",
              "      <th>Planets in System</th>\n",
              "      <th>Orbital Period (days)</th>\n",
              "      <th>Mass (J-masses)</th>\n",
              "      <th>Planet Radius (J-radii)</th>\n",
              "      <th>Planet Density</th>\n",
              "    </tr>\n",
              "  </thead>\n",
              "  <tbody>\n",
              "    <tr>\n",
              "      <th>2153</th>\n",
              "      <td>Kepler-484</td>\n",
              "      <td>377.00</td>\n",
              "      <td>0.96</td>\n",
              "      <td>0.87</td>\n",
              "      <td>5668.0</td>\n",
              "      <td>Kepler-484 b</td>\n",
              "      <td>Transit</td>\n",
              "      <td>1</td>\n",
              "      <td>10.045569</td>\n",
              "      <td>NaN</td>\n",
              "      <td>0.203</td>\n",
              "      <td>NaN</td>\n",
              "    </tr>\n",
              "    <tr>\n",
              "      <th>1344</th>\n",
              "      <td>HD 30669</td>\n",
              "      <td>57.10</td>\n",
              "      <td>0.92</td>\n",
              "      <td>0.91</td>\n",
              "      <td>5400.0</td>\n",
              "      <td>HD 30669 b</td>\n",
              "      <td>Radial Velocity</td>\n",
              "      <td>1</td>\n",
              "      <td>1684.000000</td>\n",
              "      <td>0.4700</td>\n",
              "      <td>NaN</td>\n",
              "      <td>NaN</td>\n",
              "    </tr>\n",
              "    <tr>\n",
              "      <th>2259</th>\n",
              "      <td>Kepler-1016</td>\n",
              "      <td>1239.00</td>\n",
              "      <td>0.99</td>\n",
              "      <td>1.00</td>\n",
              "      <td>5821.0</td>\n",
              "      <td>Kepler-1016 c</td>\n",
              "      <td>Transit</td>\n",
              "      <td>2</td>\n",
              "      <td>105.655137</td>\n",
              "      <td>NaN</td>\n",
              "      <td>0.328</td>\n",
              "      <td>NaN</td>\n",
              "    </tr>\n",
              "    <tr>\n",
              "      <th>484</th>\n",
              "      <td>Kepler-937</td>\n",
              "      <td>1482.00</td>\n",
              "      <td>1.15</td>\n",
              "      <td>1.22</td>\n",
              "      <td>6095.0</td>\n",
              "      <td>Kepler-937 c</td>\n",
              "      <td>Transit</td>\n",
              "      <td>2</td>\n",
              "      <td>153.343364</td>\n",
              "      <td>NaN</td>\n",
              "      <td>0.238</td>\n",
              "      <td>NaN</td>\n",
              "    </tr>\n",
              "    <tr>\n",
              "      <th>2842</th>\n",
              "      <td>K2-137</td>\n",
              "      <td>99.15</td>\n",
              "      <td>0.46</td>\n",
              "      <td>0.44</td>\n",
              "      <td>3492.0</td>\n",
              "      <td>K2-137 b</td>\n",
              "      <td>Transit</td>\n",
              "      <td>1</td>\n",
              "      <td>0.179715</td>\n",
              "      <td>0.5000</td>\n",
              "      <td>0.079</td>\n",
              "      <td>NaN</td>\n",
              "    </tr>\n",
              "    <tr>\n",
              "      <th>3319</th>\n",
              "      <td>Kepler-347</td>\n",
              "      <td>1349.45</td>\n",
              "      <td>NaN</td>\n",
              "      <td>1.00</td>\n",
              "      <td>6088.0</td>\n",
              "      <td>Kepler-347 c</td>\n",
              "      <td>Transit</td>\n",
              "      <td>2</td>\n",
              "      <td>27.320871</td>\n",
              "      <td>NaN</td>\n",
              "      <td>0.156</td>\n",
              "      <td>NaN</td>\n",
              "    </tr>\n",
              "    <tr>\n",
              "      <th>2204</th>\n",
              "      <td>Kepler-1016</td>\n",
              "      <td>1239.00</td>\n",
              "      <td>0.99</td>\n",
              "      <td>1.00</td>\n",
              "      <td>5821.0</td>\n",
              "      <td>Kepler-1016 b</td>\n",
              "      <td>Transit</td>\n",
              "      <td>2</td>\n",
              "      <td>1.954524</td>\n",
              "      <td>NaN</td>\n",
              "      <td>0.194</td>\n",
              "      <td>NaN</td>\n",
              "    </tr>\n",
              "    <tr>\n",
              "      <th>1585</th>\n",
              "      <td>Kepler-241</td>\n",
              "      <td>609.86</td>\n",
              "      <td>NaN</td>\n",
              "      <td>0.67</td>\n",
              "      <td>4699.0</td>\n",
              "      <td>Kepler-241 b</td>\n",
              "      <td>Transit</td>\n",
              "      <td>2</td>\n",
              "      <td>12.718092</td>\n",
              "      <td>NaN</td>\n",
              "      <td>0.208</td>\n",
              "      <td>NaN</td>\n",
              "    </tr>\n",
              "    <tr>\n",
              "      <th>3381</th>\n",
              "      <td>HATS-11</td>\n",
              "      <td>967.34</td>\n",
              "      <td>1.33</td>\n",
              "      <td>1.54</td>\n",
              "      <td>6563.0</td>\n",
              "      <td>HATS-11 b</td>\n",
              "      <td>Transit</td>\n",
              "      <td>1</td>\n",
              "      <td>3.619188</td>\n",
              "      <td>NaN</td>\n",
              "      <td>1.609</td>\n",
              "      <td>NaN</td>\n",
              "    </tr>\n",
              "    <tr>\n",
              "      <th>3799</th>\n",
              "      <td>HD 136352</td>\n",
              "      <td>14.81</td>\n",
              "      <td>0.81</td>\n",
              "      <td>NaN</td>\n",
              "      <td>5664.0</td>\n",
              "      <td>HD 136352 b</td>\n",
              "      <td>Radial Velocity</td>\n",
              "      <td>3</td>\n",
              "      <td>11.582400</td>\n",
              "      <td>0.0151</td>\n",
              "      <td>NaN</td>\n",
              "      <td>NaN</td>\n",
              "    </tr>\n",
              "  </tbody>\n",
              "</table>\n",
              "</div>"
            ],
            "text/plain": [
              "        Host Star  ...  Planet Density\n",
              "2153   Kepler-484  ...             NaN\n",
              "1344     HD 30669  ...             NaN\n",
              "2259  Kepler-1016  ...             NaN\n",
              "484    Kepler-937  ...             NaN\n",
              "2842       K2-137  ...             NaN\n",
              "3319   Kepler-347  ...             NaN\n",
              "2204  Kepler-1016  ...             NaN\n",
              "1585   Kepler-241  ...             NaN\n",
              "3381      HATS-11  ...             NaN\n",
              "3799    HD 136352  ...             NaN\n",
              "\n",
              "[10 rows x 12 columns]"
            ]
          },
          "metadata": {
            "tags": []
          },
          "execution_count": 8
        }
      ]
    },
    {
      "cell_type": "code",
      "metadata": {
        "id": "vPiw0K1J45Jp",
        "colab_type": "code",
        "colab": {}
      },
      "source": [
        ""
      ],
      "execution_count": 0,
      "outputs": []
    },
    {
      "cell_type": "markdown",
      "metadata": {
        "id": "zPYIoLXV6afp",
        "colab_type": "text"
      },
      "source": [
        "##Local System Data Collection\n",
        "If I'm going to compare to Earth and our system, I need to have the same info for our Sun and Earth as I do for the exoplanets\n",
        "\n",
        "* Host Star = Sun  (apparently there's no official designation! source = https://www.universetoday.com/18701/name-of-the-sun/)\n",
        "* System Distance = 0 AU (we are 0 AU from ourselves!)\n",
        "* Stellar Mass = 1 (by definition)\n",
        "* Stellar Radius = 1 (by definition)\n",
        "* Stellar Effective Temp = 5777 K  (source = https://en.wikipedia.org/wiki/Effective_temperature#/media/File:EffectiveTemperature_300dpi_e.png)\n",
        "* Planet Name = Earth (again, that's the official designation source = https://www.iau.org/public/themes/naming/#majorplanetsandmoon)\n",
        "* Discovery Type = None\n",
        "* Planets in System = 8\n",
        "* Orbital Period = 365.26  (source = https://pds.jpl.nasa.gov/planets/special/earth.htm)\n",
        "* Mass (J-masses) = 0.003 (source = https://en.wikipedia.org/wiki/Jupiter_mass#Relative_mass)\n",
        "* Planet Radius (J-radii) = 0.08921 (source = https://en.wikipedia.org/wiki/Jupiter_radius)\n",
        "* Planet Density = 5.52 g/cm^3 (source = https://pds.jpl.nasa.gov/planets/special/earth.htm )\n",
        "\n"
      ]
    },
    {
      "cell_type": "code",
      "metadata": {
        "id": "tKNZUSbHBH7Z",
        "colab_type": "code",
        "colab": {
          "base_uri": "https://localhost:8080/",
          "height": 391
        },
        "outputId": "21f91565-b262-4cc7-e9ef-cdeb826ac755"
      },
      "source": [
        "earth = ['Sun', 0, 1, 1, 5777, 'Earth', 'None', 8, 365.26, 0.003, 0.08921, 5.52]\n",
        "df_exo.loc[len(df_exo)] = earth\n",
        "df_exo.tail()"
      ],
      "execution_count": 9,
      "outputs": [
        {
          "output_type": "execute_result",
          "data": {
            "text/html": [
              "<div>\n",
              "<style scoped>\n",
              "    .dataframe tbody tr th:only-of-type {\n",
              "        vertical-align: middle;\n",
              "    }\n",
              "\n",
              "    .dataframe tbody tr th {\n",
              "        vertical-align: top;\n",
              "    }\n",
              "\n",
              "    .dataframe thead th {\n",
              "        text-align: right;\n",
              "    }\n",
              "</style>\n",
              "<table border=\"1\" class=\"dataframe\">\n",
              "  <thead>\n",
              "    <tr style=\"text-align: right;\">\n",
              "      <th></th>\n",
              "      <th>Host Star</th>\n",
              "      <th>System Distance (Parsecs)</th>\n",
              "      <th>Stellar Mass (solar masses)</th>\n",
              "      <th>Stellar Radius (solar radii)</th>\n",
              "      <th>Stellar Effective Temp (K)</th>\n",
              "      <th>Planet Name</th>\n",
              "      <th>Discovery Type</th>\n",
              "      <th>Planets in System</th>\n",
              "      <th>Orbital Period (days)</th>\n",
              "      <th>Mass (J-masses)</th>\n",
              "      <th>Planet Radius (J-radii)</th>\n",
              "      <th>Planet Density</th>\n",
              "    </tr>\n",
              "  </thead>\n",
              "  <tbody>\n",
              "    <tr>\n",
              "      <th>4051</th>\n",
              "      <td>OGLE-2018-BLG-0596L</td>\n",
              "      <td>5650.00</td>\n",
              "      <td>0.23</td>\n",
              "      <td>NaN</td>\n",
              "      <td>NaN</td>\n",
              "      <td>OGLE-2018-BLG-0596L b</td>\n",
              "      <td>Microlensing</td>\n",
              "      <td>1</td>\n",
              "      <td>NaN</td>\n",
              "      <td>0.04383</td>\n",
              "      <td>NaN</td>\n",
              "      <td>NaN</td>\n",
              "    </tr>\n",
              "    <tr>\n",
              "      <th>4052</th>\n",
              "      <td>Kepler-82</td>\n",
              "      <td>927.97</td>\n",
              "      <td>0.91</td>\n",
              "      <td>0.90</td>\n",
              "      <td>NaN</td>\n",
              "      <td>Kepler-82 f</td>\n",
              "      <td>Transit Timing Variations</td>\n",
              "      <td>5</td>\n",
              "      <td>75.732000</td>\n",
              "      <td>0.06576</td>\n",
              "      <td>NaN</td>\n",
              "      <td>NaN</td>\n",
              "    </tr>\n",
              "    <tr>\n",
              "      <th>4053</th>\n",
              "      <td>NGTS-5</td>\n",
              "      <td>309.50</td>\n",
              "      <td>0.66</td>\n",
              "      <td>0.74</td>\n",
              "      <td>4987.0</td>\n",
              "      <td>NGTS-5 b</td>\n",
              "      <td>Transit</td>\n",
              "      <td>1</td>\n",
              "      <td>3.356987</td>\n",
              "      <td>0.22900</td>\n",
              "      <td>1.13600</td>\n",
              "      <td>NaN</td>\n",
              "    </tr>\n",
              "    <tr>\n",
              "      <th>4054</th>\n",
              "      <td>HD 210193</td>\n",
              "      <td>42.25</td>\n",
              "      <td>1.04</td>\n",
              "      <td>NaN</td>\n",
              "      <td>5790.0</td>\n",
              "      <td>HD 210193 b</td>\n",
              "      <td>Radial Velocity</td>\n",
              "      <td>1</td>\n",
              "      <td>649.918000</td>\n",
              "      <td>0.48170</td>\n",
              "      <td>NaN</td>\n",
              "      <td>NaN</td>\n",
              "    </tr>\n",
              "    <tr>\n",
              "      <th>4055</th>\n",
              "      <td>Sun</td>\n",
              "      <td>0.00</td>\n",
              "      <td>1.00</td>\n",
              "      <td>1.00</td>\n",
              "      <td>5777.0</td>\n",
              "      <td>Earth</td>\n",
              "      <td>None</td>\n",
              "      <td>8</td>\n",
              "      <td>365.260000</td>\n",
              "      <td>0.00300</td>\n",
              "      <td>0.08921</td>\n",
              "      <td>5.52</td>\n",
              "    </tr>\n",
              "  </tbody>\n",
              "</table>\n",
              "</div>"
            ],
            "text/plain": [
              "                Host Star  ...  Planet Density\n",
              "4051  OGLE-2018-BLG-0596L  ...             NaN\n",
              "4052            Kepler-82  ...             NaN\n",
              "4053               NGTS-5  ...             NaN\n",
              "4054            HD 210193  ...             NaN\n",
              "4055                  Sun  ...            5.52\n",
              "\n",
              "[5 rows x 12 columns]"
            ]
          },
          "metadata": {
            "tags": []
          },
          "execution_count": 9
        }
      ]
    },
    {
      "cell_type": "code",
      "metadata": {
        "id": "pDFScMPOFHIJ",
        "colab_type": "code",
        "colab": {
          "base_uri": "https://localhost:8080/",
          "height": 131
        },
        "outputId": "e5250a07-6dbe-4afd-ee38-228a5dcdc3ad"
      },
      "source": [
        "#might also be useful to have a dataframe of just Earth\n",
        "df_earth = pd.DataFrame(columns=df_exo.columns)\n",
        "df_earth.loc[0] = earth\n",
        "df_earth"
      ],
      "execution_count": 10,
      "outputs": [
        {
          "output_type": "execute_result",
          "data": {
            "text/html": [
              "<div>\n",
              "<style scoped>\n",
              "    .dataframe tbody tr th:only-of-type {\n",
              "        vertical-align: middle;\n",
              "    }\n",
              "\n",
              "    .dataframe tbody tr th {\n",
              "        vertical-align: top;\n",
              "    }\n",
              "\n",
              "    .dataframe thead th {\n",
              "        text-align: right;\n",
              "    }\n",
              "</style>\n",
              "<table border=\"1\" class=\"dataframe\">\n",
              "  <thead>\n",
              "    <tr style=\"text-align: right;\">\n",
              "      <th></th>\n",
              "      <th>Host Star</th>\n",
              "      <th>System Distance (Parsecs)</th>\n",
              "      <th>Stellar Mass (solar masses)</th>\n",
              "      <th>Stellar Radius (solar radii)</th>\n",
              "      <th>Stellar Effective Temp (K)</th>\n",
              "      <th>Planet Name</th>\n",
              "      <th>Discovery Type</th>\n",
              "      <th>Planets in System</th>\n",
              "      <th>Orbital Period (days)</th>\n",
              "      <th>Mass (J-masses)</th>\n",
              "      <th>Planet Radius (J-radii)</th>\n",
              "      <th>Planet Density</th>\n",
              "    </tr>\n",
              "  </thead>\n",
              "  <tbody>\n",
              "    <tr>\n",
              "      <th>0</th>\n",
              "      <td>Sun</td>\n",
              "      <td>0</td>\n",
              "      <td>1</td>\n",
              "      <td>1</td>\n",
              "      <td>5777</td>\n",
              "      <td>Earth</td>\n",
              "      <td>None</td>\n",
              "      <td>8</td>\n",
              "      <td>365.26</td>\n",
              "      <td>0.003</td>\n",
              "      <td>0.08921</td>\n",
              "      <td>5.52</td>\n",
              "    </tr>\n",
              "  </tbody>\n",
              "</table>\n",
              "</div>"
            ],
            "text/plain": [
              "  Host Star System Distance (Parsecs)  ... Planet Radius (J-radii) Planet Density\n",
              "0       Sun                         0  ...                 0.08921           5.52\n",
              "\n",
              "[1 rows x 12 columns]"
            ]
          },
          "metadata": {
            "tags": []
          },
          "execution_count": 10
        }
      ]
    },
    {
      "cell_type": "markdown",
      "metadata": {
        "id": "xk8Fq48-6P9N",
        "colab_type": "text"
      },
      "source": [
        "##Visualizing the Data"
      ]
    },
    {
      "cell_type": "markdown",
      "metadata": {
        "id": "dV1XeL1s3seq",
        "colab_type": "text"
      },
      "source": [
        "###Averages Bar Plot"
      ]
    },
    {
      "cell_type": "markdown",
      "metadata": {
        "id": "qpYnicWVMFvm",
        "colab_type": "text"
      },
      "source": [
        "Let's start simple. I'll compare the mean values for numerical columns with Earth and the Sun."
      ]
    },
    {
      "cell_type": "code",
      "metadata": {
        "id": "m-VVuj7PE_Q9",
        "colab_type": "code",
        "colab": {
          "base_uri": "https://localhost:8080/",
          "height": 328
        },
        "outputId": "7cefb4b1-e255-4405-f763-6633848e7220"
      },
      "source": [
        "df_exo.describe().T   #this shows me all the numerical data columns\n"
      ],
      "execution_count": 11,
      "outputs": [
        {
          "output_type": "execute_result",
          "data": {
            "text/html": [
              "<div>\n",
              "<style scoped>\n",
              "    .dataframe tbody tr th:only-of-type {\n",
              "        vertical-align: middle;\n",
              "    }\n",
              "\n",
              "    .dataframe tbody tr th {\n",
              "        vertical-align: top;\n",
              "    }\n",
              "\n",
              "    .dataframe thead th {\n",
              "        text-align: right;\n",
              "    }\n",
              "</style>\n",
              "<table border=\"1\" class=\"dataframe\">\n",
              "  <thead>\n",
              "    <tr style=\"text-align: right;\">\n",
              "      <th></th>\n",
              "      <th>count</th>\n",
              "      <th>mean</th>\n",
              "      <th>std</th>\n",
              "      <th>min</th>\n",
              "      <th>25%</th>\n",
              "      <th>50%</th>\n",
              "      <th>75%</th>\n",
              "      <th>max</th>\n",
              "    </tr>\n",
              "  </thead>\n",
              "  <tbody>\n",
              "    <tr>\n",
              "      <th>System Distance (Parsecs)</th>\n",
              "      <td>4050.0</td>\n",
              "      <td>637.145200</td>\n",
              "      <td>826.601712</td>\n",
              "      <td>0.000000</td>\n",
              "      <td>158.390000</td>\n",
              "      <td>481.000000</td>\n",
              "      <td>867.000000</td>\n",
              "      <td>8500.00</td>\n",
              "    </tr>\n",
              "    <tr>\n",
              "      <th>Stellar Mass (solar masses)</th>\n",
              "      <td>3291.0</td>\n",
              "      <td>1.005220</td>\n",
              "      <td>0.652106</td>\n",
              "      <td>0.010000</td>\n",
              "      <td>0.810000</td>\n",
              "      <td>0.970000</td>\n",
              "      <td>1.130000</td>\n",
              "      <td>23.56</td>\n",
              "    </tr>\n",
              "    <tr>\n",
              "      <th>Stellar Radius (solar radii)</th>\n",
              "      <td>3717.0</td>\n",
              "      <td>1.543688</td>\n",
              "      <td>3.714217</td>\n",
              "      <td>0.010000</td>\n",
              "      <td>0.800000</td>\n",
              "      <td>0.970000</td>\n",
              "      <td>1.260000</td>\n",
              "      <td>71.23</td>\n",
              "    </tr>\n",
              "    <tr>\n",
              "      <th>Stellar Effective Temp (K)</th>\n",
              "      <td>3838.0</td>\n",
              "      <td>5495.682837</td>\n",
              "      <td>1763.098549</td>\n",
              "      <td>575.000000</td>\n",
              "      <td>5027.000000</td>\n",
              "      <td>5600.000000</td>\n",
              "      <td>5923.000000</td>\n",
              "      <td>57000.00</td>\n",
              "    </tr>\n",
              "    <tr>\n",
              "      <th>Planets in System</th>\n",
              "      <td>4056.0</td>\n",
              "      <td>1.776874</td>\n",
              "      <td>1.164314</td>\n",
              "      <td>1.000000</td>\n",
              "      <td>1.000000</td>\n",
              "      <td>1.000000</td>\n",
              "      <td>2.000000</td>\n",
              "      <td>8.00</td>\n",
              "    </tr>\n",
              "    <tr>\n",
              "      <th>Orbital Period (days)</th>\n",
              "      <td>3942.0</td>\n",
              "      <td>2315.356129</td>\n",
              "      <td>116642.605903</td>\n",
              "      <td>0.090706</td>\n",
              "      <td>4.489907</td>\n",
              "      <td>11.870525</td>\n",
              "      <td>42.273305</td>\n",
              "      <td>7300000.00</td>\n",
              "    </tr>\n",
              "    <tr>\n",
              "      <th>Mass (J-masses)</th>\n",
              "      <td>1614.0</td>\n",
              "      <td>2.514948</td>\n",
              "      <td>4.425381</td>\n",
              "      <td>0.000060</td>\n",
              "      <td>0.089872</td>\n",
              "      <td>0.861500</td>\n",
              "      <td>2.540000</td>\n",
              "      <td>55.59</td>\n",
              "    </tr>\n",
              "    <tr>\n",
              "      <th>Planet Radius (J-radii)</th>\n",
              "      <td>3143.0</td>\n",
              "      <td>0.375108</td>\n",
              "      <td>0.426963</td>\n",
              "      <td>0.030000</td>\n",
              "      <td>0.140000</td>\n",
              "      <td>0.208000</td>\n",
              "      <td>0.319000</td>\n",
              "      <td>6.90</td>\n",
              "    </tr>\n",
              "    <tr>\n",
              "      <th>Planet Density</th>\n",
              "      <td>481.0</td>\n",
              "      <td>2.562815</td>\n",
              "      <td>5.211017</td>\n",
              "      <td>0.030000</td>\n",
              "      <td>0.411000</td>\n",
              "      <td>0.994000</td>\n",
              "      <td>2.600000</td>\n",
              "      <td>77.70</td>\n",
              "    </tr>\n",
              "  </tbody>\n",
              "</table>\n",
              "</div>"
            ],
            "text/plain": [
              "                               count         mean  ...          75%         max\n",
              "System Distance (Parsecs)     4050.0   637.145200  ...   867.000000     8500.00\n",
              "Stellar Mass (solar masses)   3291.0     1.005220  ...     1.130000       23.56\n",
              "Stellar Radius (solar radii)  3717.0     1.543688  ...     1.260000       71.23\n",
              "Stellar Effective Temp (K)    3838.0  5495.682837  ...  5923.000000    57000.00\n",
              "Planets in System             4056.0     1.776874  ...     2.000000        8.00\n",
              "Orbital Period (days)         3942.0  2315.356129  ...    42.273305  7300000.00\n",
              "Mass (J-masses)               1614.0     2.514948  ...     2.540000       55.59\n",
              "Planet Radius (J-radii)       3143.0     0.375108  ...     0.319000        6.90\n",
              "Planet Density                 481.0     2.562815  ...     2.600000       77.70\n",
              "\n",
              "[9 rows x 8 columns]"
            ]
          },
          "metadata": {
            "tags": []
          },
          "execution_count": 11
        }
      ]
    },
    {
      "cell_type": "code",
      "metadata": {
        "id": "iCa1JGs1NNM3",
        "colab_type": "code",
        "colab": {
          "base_uri": "https://localhost:8080/",
          "height": 269
        },
        "outputId": "4a6ab6f3-9c4e-476f-c5c4-06fd6db106a7"
      },
      "source": [
        "plt.bar(x='Stellar Mass Average', height = df_exo['Stellar Mass (solar masses)'].mean())\n",
        "plt.bar(x='Sun Mass', height = 1.000)\n",
        "\n",
        "plt.bar(x='Stellar Radius Average', height = df_exo['Stellar Radius (solar radii)'].mean())\n",
        "plt.bar(x='Sun Radius', height = 1.000)\n",
        "\n",
        "plt.show()"
      ],
      "execution_count": 12,
      "outputs": [
        {
          "output_type": "display_data",
          "data": {
            "image/png": "[encoded data removed]",
            "text/plain": [
              "<Figure size 432x288 with 1 Axes>"
            ]
          },
          "metadata": {
            "tags": []
          }
        }
      ]
    },
    {
      "cell_type": "code",
      "metadata": {
        "id": "ruTnUcSpM9A-",
        "colab_type": "code",
        "colab": {}
      },
      "source": [
        "#I can make that look better\n",
        "import seaborn as sns\n",
        "#come back to this later"
      ],
      "execution_count": 0,
      "outputs": []
    },
    {
      "cell_type": "markdown",
      "metadata": {
        "id": "xhTuMLWkr6bU",
        "colab_type": "text"
      },
      "source": [
        "###Orbital Times Bar Plot"
      ]
    },
    {
      "cell_type": "code",
      "metadata": {
        "id": "6GzAFNaOtCib",
        "colab_type": "code",
        "colab": {
          "base_uri": "https://localhost:8080/",
          "height": 238
        },
        "outputId": "28e27cc0-c329-4e26-a22f-1dc61c5d495d"
      },
      "source": [
        "idmin = df_exo[['Orbital Period (days)']].idxmin()\n",
        "df_exo.iloc[3480]"
      ],
      "execution_count": 76,
      "outputs": [
        {
          "output_type": "execute_result",
          "data": {
            "text/plain": [
              "Host Star                         PSR J1719-1438\n",
              "System Distance (Parsecs)                   1200\n",
              "Stellar Mass (solar masses)                  1.4\n",
              "Stellar Radius (solar radii)                0.04\n",
              "Stellar Effective Temp (K)                  4500\n",
              "Planet Name                     PSR J1719-1438 b\n",
              "Discovery Type                     Pulsar Timing\n",
              "Planets in System                              1\n",
              "Orbital Period (days)                  0.0907063\n",
              "Mass (J-masses)                              1.2\n",
              "Planet Radius (J-radii)                      NaN\n",
              "Planet Density                                23\n",
              "Name: 3480, dtype: object"
            ]
          },
          "metadata": {
            "tags": []
          },
          "execution_count": 76
        }
      ]
    },
    {
      "cell_type": "code",
      "metadata": {
        "id": "NSQs80Kw9Vdh",
        "colab_type": "code",
        "colab": {
          "base_uri": "https://localhost:8080/",
          "height": 281
        },
        "outputId": "f24c32c2-0c50-46bd-8d71-81282ec83311"
      },
      "source": [
        "plt.title('Orbital Period')\n",
        "plt.ylabel('Orbital Period in Days')\n",
        "plt.bar(x='Earth', height = df_earth['Orbital Period (days)'].loc[0])   #Earth's orbital period\n",
        "plt.bar(x='Average', height=df_exo['Orbital Period (days)'].mean())     #Average orbital period\n",
        "#plt.bar(x=('Longest Orbital Period' + df_exo['Planet Name'].iloc[df_exo[['Orbital Period (days)']].idxmax()]),\n",
        "        #height = df_exo['Orbital Period (days)'].iloc[df_exo[['Orbital Period (days)']].idxmax()])\n",
        "#plt.bar(x=('Shortest Orbital Period' + df_exo['Planet Name'].iloc[df_exo[['Orbital Period (days)']].idxmin()]),\n",
        "        #height = df_exo['Orbital Period (days)'].iloc[df_exo[['Orbital Period (days)']].idxmin()])\n",
        "#it works but that is ugly code! And anyway the resulting graph isn't readable\n",
        "plt.show()"
      ],
      "execution_count": 80,
      "outputs": [
        {
          "output_type": "display_data",
          "data": {
            "image/png": "[encoded data removed]",
            "text/plain": [
              "<Figure size 432x288 with 1 Axes>"
            ]
          },
          "metadata": {
            "tags": []
          }
        }
      ]
    },
    {
      "cell_type": "markdown",
      "metadata": {
        "id": "VVkB5xUL3p2e",
        "colab_type": "text"
      },
      "source": [
        "###Circle patches\n",
        "I can use plt.patches.Circle to create a circle of a specific radius at a specific x,y coordinate pair. I could use the AU distance column as an X value and the J-radius column as the circle radius. Could use this to show the smallest exoplanet w/ distance, largest exoplanet w/ distance, Earth, and average size/average distance"
      ]
    },
    {
      "cell_type": "code",
      "metadata": {
        "id": "uh_AnOuq1Ql2",
        "colab_type": "code",
        "colab": {
          "base_uri": "https://localhost:8080/",
          "height": 269
        },
        "outputId": "35edc472-f292-4842-8a27-52da876df6d2"
      },
      "source": [
        "earth_cir = plt.Circle(xy=(0,1), radius=df_earth['Planet Radius (J-radii)'].iloc[0], color='blue')\n",
        "fig, ax = plt.subplots()\n",
        "ax.add_artist(earth_cir)\n",
        "plt.show()   #this shows the circle for Earth with AU = 0 and radius = Earth's J-radius"
      ],
      "execution_count": 15,
      "outputs": [
        {
          "output_type": "display_data",
          "data": {
            "image/png": "[encoded data removed]",
            "text/plain": [
              "<Figure size 432x288 with 1 Axes>"
            ]
          },
          "metadata": {
            "tags": []
          }
        }
      ]
    },
    {
      "cell_type": "code",
      "metadata": {
        "id": "bhuPjYKJJuB4",
        "colab_type": "code",
        "colab": {}
      },
      "source": [
        "earth_radius = df_earth['Planet Radius (J-radii)'].iloc[0]"
      ],
      "execution_count": 0,
      "outputs": []
    },
    {
      "cell_type": "code",
      "metadata": {
        "id": "PiY996Pd1yH2",
        "colab_type": "code",
        "colab": {
          "base_uri": "https://localhost:8080/",
          "height": 340
        },
        "outputId": "79c23aee-ed48-4c45-f5a9-f6b68048d5a6"
      },
      "source": [
        "df_exo_sorted1 = df_exo.sort_values(by='Planet Radius (J-radii)', ascending=True)\n",
        "df_exo_sorted1 = df_exo_sorted1.reset_index()\n",
        "df_exo_sorted1.head()"
      ],
      "execution_count": 17,
      "outputs": [
        {
          "output_type": "execute_result",
          "data": {
            "text/html": [
              "<div>\n",
              "<style scoped>\n",
              "    .dataframe tbody tr th:only-of-type {\n",
              "        vertical-align: middle;\n",
              "    }\n",
              "\n",
              "    .dataframe tbody tr th {\n",
              "        vertical-align: top;\n",
              "    }\n",
              "\n",
              "    .dataframe thead th {\n",
              "        text-align: right;\n",
              "    }\n",
              "</style>\n",
              "<table border=\"1\" class=\"dataframe\">\n",
              "  <thead>\n",
              "    <tr style=\"text-align: right;\">\n",
              "      <th></th>\n",
              "      <th>index</th>\n",
              "      <th>Host Star</th>\n",
              "      <th>System Distance (Parsecs)</th>\n",
              "      <th>Stellar Mass (solar masses)</th>\n",
              "      <th>Stellar Radius (solar radii)</th>\n",
              "      <th>Stellar Effective Temp (K)</th>\n",
              "      <th>Planet Name</th>\n",
              "      <th>Discovery Type</th>\n",
              "      <th>Planets in System</th>\n",
              "      <th>Orbital Period (days)</th>\n",
              "      <th>Mass (J-masses)</th>\n",
              "      <th>Planet Radius (J-radii)</th>\n",
              "      <th>Planet Density</th>\n",
              "    </tr>\n",
              "  </thead>\n",
              "  <tbody>\n",
              "    <tr>\n",
              "      <th>0</th>\n",
              "      <td>1307</td>\n",
              "      <td>Kepler-37</td>\n",
              "      <td>64.04</td>\n",
              "      <td>0.87</td>\n",
              "      <td>0.79</td>\n",
              "      <td>5417.0</td>\n",
              "      <td>Kepler-37 b</td>\n",
              "      <td>Transit</td>\n",
              "      <td>4</td>\n",
              "      <td>13.367310</td>\n",
              "      <td>0.01000</td>\n",
              "      <td>0.030</td>\n",
              "      <td>NaN</td>\n",
              "    </tr>\n",
              "    <tr>\n",
              "      <th>1</th>\n",
              "      <td>3204</td>\n",
              "      <td>Kepler-444</td>\n",
              "      <td>36.48</td>\n",
              "      <td>0.76</td>\n",
              "      <td>0.75</td>\n",
              "      <td>5046.0</td>\n",
              "      <td>Kepler-444 b</td>\n",
              "      <td>Transit</td>\n",
              "      <td>5</td>\n",
              "      <td>3.600105</td>\n",
              "      <td>NaN</td>\n",
              "      <td>0.036</td>\n",
              "      <td>NaN</td>\n",
              "    </tr>\n",
              "    <tr>\n",
              "      <th>2</th>\n",
              "      <td>971</td>\n",
              "      <td>Kepler-102</td>\n",
              "      <td>108.13</td>\n",
              "      <td>0.81</td>\n",
              "      <td>0.76</td>\n",
              "      <td>4909.0</td>\n",
              "      <td>Kepler-102 b</td>\n",
              "      <td>Transit</td>\n",
              "      <td>5</td>\n",
              "      <td>5.286960</td>\n",
              "      <td>0.01353</td>\n",
              "      <td>0.042</td>\n",
              "      <td>NaN</td>\n",
              "    </tr>\n",
              "    <tr>\n",
              "      <th>3</th>\n",
              "      <td>3205</td>\n",
              "      <td>Kepler-444</td>\n",
              "      <td>36.48</td>\n",
              "      <td>0.76</td>\n",
              "      <td>0.75</td>\n",
              "      <td>5046.0</td>\n",
              "      <td>Kepler-444 c</td>\n",
              "      <td>Transit</td>\n",
              "      <td>5</td>\n",
              "      <td>4.545884</td>\n",
              "      <td>NaN</td>\n",
              "      <td>0.044</td>\n",
              "      <td>NaN</td>\n",
              "    </tr>\n",
              "    <tr>\n",
              "      <th>4</th>\n",
              "      <td>540</td>\n",
              "      <td>Kepler-1308</td>\n",
              "      <td>73.00</td>\n",
              "      <td>0.35</td>\n",
              "      <td>0.34</td>\n",
              "      <td>3468.0</td>\n",
              "      <td>Kepler-1308 b</td>\n",
              "      <td>Transit</td>\n",
              "      <td>1</td>\n",
              "      <td>2.104338</td>\n",
              "      <td>NaN</td>\n",
              "      <td>0.046</td>\n",
              "      <td>NaN</td>\n",
              "    </tr>\n",
              "  </tbody>\n",
              "</table>\n",
              "</div>"
            ],
            "text/plain": [
              "   index    Host Star  ...  Planet Radius (J-radii)  Planet Density\n",
              "0   1307    Kepler-37  ...                    0.030             NaN\n",
              "1   3204   Kepler-444  ...                    0.036             NaN\n",
              "2    971   Kepler-102  ...                    0.042             NaN\n",
              "3   3205   Kepler-444  ...                    0.044             NaN\n",
              "4    540  Kepler-1308  ...                    0.046             NaN\n",
              "\n",
              "[5 rows x 13 columns]"
            ]
          },
          "metadata": {
            "tags": []
          },
          "execution_count": 17
        }
      ]
    },
    {
      "cell_type": "code",
      "metadata": {
        "id": "5E0otqb2-sw8",
        "colab_type": "code",
        "colab": {
          "base_uri": "https://localhost:8080/",
          "height": 34
        },
        "outputId": "48b70780-2f00-4312-a74c-f06b9815c779"
      },
      "source": [
        "sm_radius = df_exo_sorted1.loc[0, 'Planet Radius (J-radii)']\n",
        "sm_distance = df_exo_sorted1.loc[0, 'System Distance (Parsecs)']\n",
        "sm_planet = df_exo_sorted1.loc[0, 'Planet Name']\n",
        "print(sm_radius, sm_distance)"
      ],
      "execution_count": 33,
      "outputs": [
        {
          "output_type": "stream",
          "text": [
            "0.03 64.04\n"
          ],
          "name": "stdout"
        }
      ]
    },
    {
      "cell_type": "code",
      "metadata": {
        "id": "pjnQ_C_vE_9E",
        "colab_type": "code",
        "colab": {
          "base_uri": "https://localhost:8080/",
          "height": 357
        },
        "outputId": "a87716f4-ead1-4412-f097-63816cbb12f4"
      },
      "source": [
        "df_exo_sorted2 = df_exo.sort_values(by='Planet Radius (J-radii)', ascending=False)\n",
        "df_exo_sorted2 = df_exo_sorted2.reset_index()\n",
        "df_exo_sorted2.head()"
      ],
      "execution_count": 19,
      "outputs": [
        {
          "output_type": "execute_result",
          "data": {
            "text/html": [
              "<div>\n",
              "<style scoped>\n",
              "    .dataframe tbody tr th:only-of-type {\n",
              "        vertical-align: middle;\n",
              "    }\n",
              "\n",
              "    .dataframe tbody tr th {\n",
              "        vertical-align: top;\n",
              "    }\n",
              "\n",
              "    .dataframe thead th {\n",
              "        text-align: right;\n",
              "    }\n",
              "</style>\n",
              "<table border=\"1\" class=\"dataframe\">\n",
              "  <thead>\n",
              "    <tr style=\"text-align: right;\">\n",
              "      <th></th>\n",
              "      <th>index</th>\n",
              "      <th>Host Star</th>\n",
              "      <th>System Distance (Parsecs)</th>\n",
              "      <th>Stellar Mass (solar masses)</th>\n",
              "      <th>Stellar Radius (solar radii)</th>\n",
              "      <th>Stellar Effective Temp (K)</th>\n",
              "      <th>Planet Name</th>\n",
              "      <th>Discovery Type</th>\n",
              "      <th>Planets in System</th>\n",
              "      <th>Orbital Period (days)</th>\n",
              "      <th>Mass (J-masses)</th>\n",
              "      <th>Planet Radius (J-radii)</th>\n",
              "      <th>Planet Density</th>\n",
              "    </tr>\n",
              "  </thead>\n",
              "  <tbody>\n",
              "    <tr>\n",
              "      <th>0</th>\n",
              "      <td>924</td>\n",
              "      <td>HD 100546</td>\n",
              "      <td>110.02</td>\n",
              "      <td>2.40</td>\n",
              "      <td>NaN</td>\n",
              "      <td>10500.0</td>\n",
              "      <td>HD 100546 b</td>\n",
              "      <td>Imaging</td>\n",
              "      <td>1</td>\n",
              "      <td>NaN</td>\n",
              "      <td>NaN</td>\n",
              "      <td>6.900</td>\n",
              "      <td>NaN</td>\n",
              "    </tr>\n",
              "    <tr>\n",
              "      <th>1</th>\n",
              "      <td>175</td>\n",
              "      <td>HAT-P-35</td>\n",
              "      <td>514.20</td>\n",
              "      <td>23.56</td>\n",
              "      <td>3.82</td>\n",
              "      <td>6096.0</td>\n",
              "      <td>HAT-P-35 b</td>\n",
              "      <td>Transit</td>\n",
              "      <td>1</td>\n",
              "      <td>3.646710</td>\n",
              "      <td>7.52</td>\n",
              "      <td>3.550</td>\n",
              "      <td>NaN</td>\n",
              "    </tr>\n",
              "    <tr>\n",
              "      <th>2</th>\n",
              "      <td>1321</td>\n",
              "      <td>GQ Lup</td>\n",
              "      <td>151.82</td>\n",
              "      <td>0.70</td>\n",
              "      <td>NaN</td>\n",
              "      <td>NaN</td>\n",
              "      <td>GQ Lup b</td>\n",
              "      <td>Imaging</td>\n",
              "      <td>1</td>\n",
              "      <td>NaN</td>\n",
              "      <td>20.00</td>\n",
              "      <td>3.000</td>\n",
              "      <td>NaN</td>\n",
              "    </tr>\n",
              "    <tr>\n",
              "      <th>3</th>\n",
              "      <td>1263</td>\n",
              "      <td>CT Cha</td>\n",
              "      <td>165.00</td>\n",
              "      <td>NaN</td>\n",
              "      <td>NaN</td>\n",
              "      <td>NaN</td>\n",
              "      <td>CT Cha b</td>\n",
              "      <td>Imaging</td>\n",
              "      <td>1</td>\n",
              "      <td>NaN</td>\n",
              "      <td>17.00</td>\n",
              "      <td>2.200</td>\n",
              "      <td>NaN</td>\n",
              "    </tr>\n",
              "    <tr>\n",
              "      <th>4</th>\n",
              "      <td>2861</td>\n",
              "      <td>HAT-P-67</td>\n",
              "      <td>320.00</td>\n",
              "      <td>1.64</td>\n",
              "      <td>2.55</td>\n",
              "      <td>6406.0</td>\n",
              "      <td>HAT-P-67 b</td>\n",
              "      <td>Transit</td>\n",
              "      <td>1</td>\n",
              "      <td>4.810103</td>\n",
              "      <td>0.34</td>\n",
              "      <td>2.085</td>\n",
              "      <td>0.052</td>\n",
              "    </tr>\n",
              "  </tbody>\n",
              "</table>\n",
              "</div>"
            ],
            "text/plain": [
              "   index  Host Star  ...  Planet Radius (J-radii)  Planet Density\n",
              "0    924  HD 100546  ...                    6.900             NaN\n",
              "1    175   HAT-P-35  ...                    3.550             NaN\n",
              "2   1321     GQ Lup  ...                    3.000             NaN\n",
              "3   1263     CT Cha  ...                    2.200             NaN\n",
              "4   2861   HAT-P-67  ...                    2.085           0.052\n",
              "\n",
              "[5 rows x 13 columns]"
            ]
          },
          "metadata": {
            "tags": []
          },
          "execution_count": 19
        }
      ]
    },
    {
      "cell_type": "code",
      "metadata": {
        "id": "VE_3JZw0-57n",
        "colab_type": "code",
        "colab": {
          "base_uri": "https://localhost:8080/",
          "height": 34
        },
        "outputId": "d23a92db-337a-4d72-b491-057234f26d57"
      },
      "source": [
        "lg_radius = df_exo_sorted2.loc[0, 'Planet Radius (J-radii)']\n",
        "lg_distance = df_exo_sorted2.loc[0, 'System Distance (Parsecs)']\n",
        "lg_planet = df_exo_sorted2.loc[0, 'Planet Name']\n",
        "print(lg_radius, lg_distance)"
      ],
      "execution_count": 32,
      "outputs": [
        {
          "output_type": "stream",
          "text": [
            "6.9 110.02\n"
          ],
          "name": "stdout"
        }
      ]
    },
    {
      "cell_type": "code",
      "metadata": {
        "id": "VC5S5UH0JrZR",
        "colab_type": "code",
        "colab": {
          "base_uri": "https://localhost:8080/",
          "height": 34
        },
        "outputId": "6cfe6eb9-177e-4f83-c62f-dccb9a7067fd"
      },
      "source": [
        "print(earth_radius)"
      ],
      "execution_count": 21,
      "outputs": [
        {
          "output_type": "stream",
          "text": [
            "0.08921\n"
          ],
          "name": "stdout"
        }
      ]
    },
    {
      "cell_type": "code",
      "metadata": {
        "id": "u5Oxr98uWIQO",
        "colab_type": "code",
        "colab": {}
      },
      "source": [
        "lg_rad_scaled = lg_radius / 100\n",
        "lg_dist_scaled = lg_distance / 100\n",
        "sm_rad_scaled = sm_radius / 100\n",
        "sm_dist_scaled = sm_distance / 100\n",
        "e_rad_scaled = earth_radius / 100"
      ],
      "execution_count": 0,
      "outputs": []
    },
    {
      "cell_type": "code",
      "metadata": {
        "id": "NFM3FUfNZdvg",
        "colab_type": "code",
        "colab": {}
      },
      "source": [
        ""
      ],
      "execution_count": 0,
      "outputs": []
    },
    {
      "cell_type": "code",
      "metadata": {
        "id": "wh08ztXjARcs",
        "colab_type": "code",
        "colab": {
          "base_uri": "https://localhost:8080/",
          "height": 467
        },
        "outputId": "44d4cbdd-5d22-4226-a3e7-0cf5638f8c53"
      },
      "source": [
        "fig, ax = plt.subplots(figsize=(10, 5))    #sets the size of the graph\n",
        "ax.set_xlim(0, 120)   #sets the x and y axis lengths\n",
        "ax.set_ylim(0, 10)\n",
        "\n",
        "\n",
        "earth_cir = plt.Circle(xy=(0,1), radius=earth_radius, color='blue', clip_on=False)\n",
        "#creates a circle of 'radius' at x,y\n",
        "sm_cir = plt.Circle(xy = (sm_distance, 1), radius=sm_radius, color = 'red', clip_on=False)\n",
        "lg_cir = plt.Circle(xy = (lg_distance, 1), radius=lg_radius, color = 'green', clip_on=False)\n",
        "\n",
        "ax.add_artist(earth_cir)\n",
        "ax.add_artist(sm_cir)\n",
        "ax.add_artist(lg_cir)\n",
        "\n",
        "plt.xlabel('Distance from our Solar System in AU')\n",
        "fig.savefig('plotradius.png')\n",
        "\n",
        "#this works but it's not very readable, although it does nicely illustrate the massive difference in size"
      ],
      "execution_count": 23,
      "outputs": [
        {
          "output_type": "display_data",
          "data": {
            "image/png": "[encoded data removed]",
            "text/plain": [
              "<Figure size 720x360 with 1 Axes>"
            ]
          },
          "metadata": {
            "tags": []
          }
        }
      ]
    },
    {
      "cell_type": "code",
      "metadata": {
        "id": "VkGXH9jbDZld",
        "colab_type": "code",
        "colab": {
          "base_uri": "https://localhost:8080/",
          "height": 324
        },
        "outputId": "62548745-a946-4aa2-ce55-3701ccfc8982"
      },
      "source": [
        "fig, ax = plt.subplots(figsize=(5,5))\n",
        "ax.set_xlim(0, 70)\n",
        "ax.set_ylim(0, 2)\n",
        "earth_cir = plt.Circle(xy=(0,1), radius=earth_radius, color='blue', clip_on=False)\n",
        "sm_cir = plt.Circle(xy = (sm_distance, 1), radius=sm_radius, color = 'red', clip_on=False)\n",
        "ax.add_artist(earth_cir)\n",
        "ax.add_artist(sm_cir)\n",
        "\n",
        "fig.savefig('plotradius2.png')"
      ],
      "execution_count": 24,
      "outputs": [
        {
          "output_type": "display_data",
          "data": {
            "image/png": "[encoded data removed]",
            "text/plain": [
              "<Figure size 360x360 with 1 Axes>"
            ]
          },
          "metadata": {
            "tags": []
          }
        }
      ]
    },
    {
      "cell_type": "code",
      "metadata": {
        "id": "n1S7-5UcZL8p",
        "colab_type": "code",
        "colab": {
          "base_uri": "https://localhost:8080/",
          "height": 801
        },
        "outputId": "9cf5d350-9175-4521-e768-502b0cbbe2fd"
      },
      "source": [
        "#I guess x doesn't actually need to be AU...it would just be cool. probably more readable with smaller units for x. \n",
        "#maybe I should reduce distance by 10\n",
        "\n",
        "fig, ax = plt.subplots(figsize=(15,5))    #sets the size of the graph\n",
        "ax.set_xlim(0, 15)   #sets the x and y axis lengths\n",
        "ax.set_ylim(0, 5)\n",
        "\n",
        "\n",
        "earth_cir = plt.Circle(xy=(0,1), radius=earth_radius, color='blue', clip_on=False, \n",
        "                       label='Earth')\n",
        "#creates a circle of 'radius' at x,y\n",
        "sm_cir = plt.Circle(xy = ((sm_distance / 10), 1), radius=sm_radius, color = 'red', \n",
        "                    clip_on=False, label=sm_planet)\n",
        "lg_cir = plt.Circle(xy = ((lg_distance / 10), 1), radius=lg_radius, color = 'green', \n",
        "                    clip_on=False, fill=False, label=lg_planet, hatch='/')\n",
        "#making the largest circle open improves readability\n",
        "\n",
        "\n",
        "ax.add_artist(earth_cir)\n",
        "ax.add_artist(sm_cir)\n",
        "ax.add_artist(lg_cir)\n",
        "\n",
        "plt.xticks(np.arange(1,15, 0.5))\n",
        "plt.xlabel('Distance from our Solar System in AU*10')\n",
        "plt.title('Distance from Earth and relative size of the smallest exoplanet and the largest exoplanet measured')\n",
        "\n",
        "   \n",
        "ax.legend((earth_cir, sm_cir, lg_cir), ('Earth', sm_planet, lg_planet))\n",
        "fig.savefig('plotradius3.png')\n",
        "plt.gca().axes.get_yaxis().set_visible(False)  #turning off the numbers/tickmarks on the y-axis since they don't mean much here\n",
        "plt.show()"
      ],
      "execution_count": 70,
      "outputs": [
        {
          "output_type": "display_data",
          "data": {
            "image/png": "[encoded data removed]",
            "text/plain": [
              "<Figure size 1080x360 with 1 Axes>"
            ]
          },
          "metadata": {
            "tags": []
          }
        }
      ]
    },
    {
      "cell_type": "markdown",
      "metadata": {
        "id": "eJkcICgwlIfm",
        "colab_type": "text"
      },
      "source": [
        "So the center of the circle is located at the distance of that planet from Earth's Solar System in AU, while the size of the circle represents the relative radii of the planets.\n",
        "\n",
        "Need to figure out how to find the index of the planet closest to the median planet radius and add that too! "
      ]
    },
    {
      "cell_type": "code",
      "metadata": {
        "id": "MPpbF3ZGc8iO",
        "colab_type": "code",
        "colab": {}
      },
      "source": [
        ""
      ],
      "execution_count": 0,
      "outputs": []
    },
    {
      "cell_type": "markdown",
      "metadata": {
        "id": "r3pKWXsWyzYK",
        "colab_type": "text"
      },
      "source": [
        "##Crosstabulation of Orbital Time with Planet Size and Stellar Size"
      ]
    }
  ]
}