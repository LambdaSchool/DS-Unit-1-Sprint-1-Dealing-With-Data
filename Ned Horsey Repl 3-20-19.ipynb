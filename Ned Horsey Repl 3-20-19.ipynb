{
  "nbformat": 4,
  "nbformat_minor": 0,
  "metadata": {
    "colab": {
      "name": "Untitled1.ipynb",
      "version": "0.3.2",
      "provenance": [],
      "include_colab_link": true
    },
    "kernelspec": {
      "name": "python3",
      "display_name": "Python 3"
    }
  },
  "cells": [
    {
      "cell_type": "markdown",
      "metadata": {
        "id": "view-in-github",
        "colab_type": "text"
      },
      "source": [
        "<a href=\"https://colab.research.google.com/github/Rice-from-data/DS-Unit-1-Sprint-1-Dealing-With-Data/blob/master/Ned%20Horsey%20Repl%203-20-19.ipynb\" target=\"_parent\"><img src=\"https://colab.research.google.com/assets/colab-badge.svg\" alt=\"Open In Colab\"/></a>"
      ]
    },
    {
      "metadata": {
        "id": "tw3jqaMTsyYC",
        "colab_type": "text"
      },
      "cell_type": "markdown",
      "source": [
        "This coding challenge will walk you through the basics of Python 3 and Pandas library. \n",
        "\n",
        "Repl.it uses automatic unit tests to determine the correctness of your answer. On the left hand side you see the IDE and the console output windows. You execute your code by pressing the RUN button - you can do this as many times as you like. \n",
        "\n",
        "When you're ready, move on to the NEXT button to check your answers against the unit tests and submit your work for grading. Please make sure to submit your work (even if incomplete) before 8:45 PST so we can take attendance. Have fun!\n",
        "\n",
        "\n",
        "Task 1: \n",
        "Your first task is to import the Pandas library, as we must install libraries (also called packages or modules) that support the functionality we need (in this case loading datasets in various formats). Remember the \"iconic trio\"?\n",
        "\n",
        "Good detailed resource here: https://www.digitalocean.com/community/tutorials/how-to-import-modules-in-python-3\n",
        "\n",
        "\n",
        "Task 2:\n",
        "The second task is to load different file types for further processing and print out the first 5 rows. You will soon find that in data science, your datasets will come in various shapes and forms. Very frequently we use the .CSV (comma-separated values) format, however there are many others. \n",
        "\n",
        "Now let's test out loading and displaying a few different types in data. Load these three datasets and display the first five rows for each.\n",
        "\n",
        "Hint: https://pandas.pydata.org/pandas-docs/stable/generated/pandas.read_csv.html\n",
        "\n",
        "Dataset 1: \n",
        "https://raw.githubusercontent.com/pierretd/datasets-1/master/BlackFriday.csv\n",
        "\n",
        "Dataset 2: \n",
        "https://raw.githubusercontent.com/pierretd/datasets-1/master/PeopleInSpaceNow.json\n",
        "\n",
        "Dataset 3: \n",
        "https://raw.githubusercontent.com/pierretd/datasets-1/master/FastFmProfiles.tsv\n",
        "\n",
        "\n"
      ]
    },
    {
      "metadata": {
        "id": "v-IhJ7Fkrcsw",
        "colab_type": "code",
        "colab": {
          "base_uri": "https://localhost:8080/",
          "height": 204
        },
        "outputId": "caaad146-1013-4aa1-b387-bf2ad3623908"
      },
      "cell_type": "code",
      "source": [
        "# Task 1 - Pandas Library Import here: \n",
        "import pandas as pd\n",
        "\n",
        "# Task 2 - Load three datasets and display 5 rows of data for each dataset:\n",
        "bf_df = pd.read_csv('https://raw.githubusercontent.com/pierretd/datasets-1/master/BlackFriday.csv')\n",
        "bf_df.head()\n",
        "\n",
        "\n",
        "# Stretch Goal/Super Stretch Goal: Insert Colab Link here. Make sure it is a comment.\n",
        "\n"
      ],
      "execution_count": 1,
      "outputs": [
        {
          "output_type": "execute_result",
          "data": {
            "text/html": [
              "<div>\n",
              "<style scoped>\n",
              "    .dataframe tbody tr th:only-of-type {\n",
              "        vertical-align: middle;\n",
              "    }\n",
              "\n",
              "    .dataframe tbody tr th {\n",
              "        vertical-align: top;\n",
              "    }\n",
              "\n",
              "    .dataframe thead th {\n",
              "        text-align: right;\n",
              "    }\n",
              "</style>\n",
              "<table border=\"1\" class=\"dataframe\">\n",
              "  <thead>\n",
              "    <tr style=\"text-align: right;\">\n",
              "      <th></th>\n",
              "      <th>User_ID</th>\n",
              "      <th>Product_ID</th>\n",
              "      <th>Gender</th>\n",
              "      <th>Age</th>\n",
              "      <th>Occupation</th>\n",
              "      <th>City_Category</th>\n",
              "      <th>Stay_In_Current_City_Years</th>\n",
              "      <th>Marital_Status</th>\n",
              "      <th>Product_Category_1</th>\n",
              "      <th>Product_Category_2</th>\n",
              "      <th>Product_Category_3</th>\n",
              "      <th>Purchase</th>\n",
              "    </tr>\n",
              "  </thead>\n",
              "  <tbody>\n",
              "    <tr>\n",
              "      <th>0</th>\n",
              "      <td>1000001</td>\n",
              "      <td>P00069042</td>\n",
              "      <td>F</td>\n",
              "      <td>0-17</td>\n",
              "      <td>10</td>\n",
              "      <td>A</td>\n",
              "      <td>2</td>\n",
              "      <td>0</td>\n",
              "      <td>3</td>\n",
              "      <td>NaN</td>\n",
              "      <td>NaN</td>\n",
              "      <td>8370</td>\n",
              "    </tr>\n",
              "    <tr>\n",
              "      <th>1</th>\n",
              "      <td>1000001</td>\n",
              "      <td>P00248942</td>\n",
              "      <td>F</td>\n",
              "      <td>0-17</td>\n",
              "      <td>10</td>\n",
              "      <td>A</td>\n",
              "      <td>2</td>\n",
              "      <td>0</td>\n",
              "      <td>1</td>\n",
              "      <td>6.0</td>\n",
              "      <td>14.0</td>\n",
              "      <td>15200</td>\n",
              "    </tr>\n",
              "    <tr>\n",
              "      <th>2</th>\n",
              "      <td>1000001</td>\n",
              "      <td>P00087842</td>\n",
              "      <td>F</td>\n",
              "      <td>0-17</td>\n",
              "      <td>10</td>\n",
              "      <td>A</td>\n",
              "      <td>2</td>\n",
              "      <td>0</td>\n",
              "      <td>12</td>\n",
              "      <td>NaN</td>\n",
              "      <td>NaN</td>\n",
              "      <td>1422</td>\n",
              "    </tr>\n",
              "    <tr>\n",
              "      <th>3</th>\n",
              "      <td>1000001</td>\n",
              "      <td>P00085442</td>\n",
              "      <td>F</td>\n",
              "      <td>0-17</td>\n",
              "      <td>10</td>\n",
              "      <td>A</td>\n",
              "      <td>2</td>\n",
              "      <td>0</td>\n",
              "      <td>12</td>\n",
              "      <td>14.0</td>\n",
              "      <td>NaN</td>\n",
              "      <td>1057</td>\n",
              "    </tr>\n",
              "    <tr>\n",
              "      <th>4</th>\n",
              "      <td>1000002</td>\n",
              "      <td>P00285442</td>\n",
              "      <td>M</td>\n",
              "      <td>55+</td>\n",
              "      <td>16</td>\n",
              "      <td>C</td>\n",
              "      <td>4+</td>\n",
              "      <td>0</td>\n",
              "      <td>8</td>\n",
              "      <td>NaN</td>\n",
              "      <td>NaN</td>\n",
              "      <td>7969</td>\n",
              "    </tr>\n",
              "  </tbody>\n",
              "</table>\n",
              "</div>"
            ],
            "text/plain": [
              "   User_ID Product_ID Gender   Age  Occupation City_Category  \\\n",
              "0  1000001  P00069042      F  0-17          10             A   \n",
              "1  1000001  P00248942      F  0-17          10             A   \n",
              "2  1000001  P00087842      F  0-17          10             A   \n",
              "3  1000001  P00085442      F  0-17          10             A   \n",
              "4  1000002  P00285442      M   55+          16             C   \n",
              "\n",
              "  Stay_In_Current_City_Years  Marital_Status  Product_Category_1  \\\n",
              "0                          2               0                   3   \n",
              "1                          2               0                   1   \n",
              "2                          2               0                  12   \n",
              "3                          2               0                  12   \n",
              "4                         4+               0                   8   \n",
              "\n",
              "   Product_Category_2  Product_Category_3  Purchase  \n",
              "0                 NaN                 NaN      8370  \n",
              "1                 6.0                14.0     15200  \n",
              "2                 NaN                 NaN      1422  \n",
              "3                14.0                 NaN      1057  \n",
              "4                 NaN                 NaN      7969  "
            ]
          },
          "metadata": {
            "tags": []
          },
          "execution_count": 1
        }
      ]
    },
    {
      "metadata": {
        "id": "ZJCwVtvUrxT9",
        "colab_type": "code",
        "colab": {
          "base_uri": "https://localhost:8080/",
          "height": 142
        },
        "outputId": "6f603ee8-9fb7-4c34-bc8c-60e0c1946e14"
      },
      "cell_type": "code",
      "source": [
        "pis_df = pd.read_json('https://raw.githubusercontent.com/pierretd/datasets-1/master/PeopleInSpaceNow.json')\n",
        "pis_df.head(n=5)"
      ],
      "execution_count": 4,
      "outputs": [
        {
          "output_type": "execute_result",
          "data": {
            "text/html": [
              "<div>\n",
              "<style scoped>\n",
              "    .dataframe tbody tr th:only-of-type {\n",
              "        vertical-align: middle;\n",
              "    }\n",
              "\n",
              "    .dataframe tbody tr th {\n",
              "        vertical-align: top;\n",
              "    }\n",
              "\n",
              "    .dataframe thead th {\n",
              "        text-align: right;\n",
              "    }\n",
              "</style>\n",
              "<table border=\"1\" class=\"dataframe\">\n",
              "  <thead>\n",
              "    <tr style=\"text-align: right;\">\n",
              "      <th></th>\n",
              "      <th>message</th>\n",
              "      <th>number</th>\n",
              "      <th>people</th>\n",
              "    </tr>\n",
              "  </thead>\n",
              "  <tbody>\n",
              "    <tr>\n",
              "      <th>0</th>\n",
              "      <td>success</td>\n",
              "      <td>3</td>\n",
              "      <td>{'name': 'Sergey Prokopyev', 'craft': 'ISS'}</td>\n",
              "    </tr>\n",
              "    <tr>\n",
              "      <th>1</th>\n",
              "      <td>success</td>\n",
              "      <td>3</td>\n",
              "      <td>{'name': 'Alexander Gerst', 'craft': 'ISS'}</td>\n",
              "    </tr>\n",
              "    <tr>\n",
              "      <th>2</th>\n",
              "      <td>success</td>\n",
              "      <td>3</td>\n",
              "      <td>{'name': 'Serena Aunon-Chancellor', 'craft': '...</td>\n",
              "    </tr>\n",
              "  </tbody>\n",
              "</table>\n",
              "</div>"
            ],
            "text/plain": [
              "   message  number                                             people\n",
              "0  success       3       {'name': 'Sergey Prokopyev', 'craft': 'ISS'}\n",
              "1  success       3        {'name': 'Alexander Gerst', 'craft': 'ISS'}\n",
              "2  success       3  {'name': 'Serena Aunon-Chancellor', 'craft': '..."
            ]
          },
          "metadata": {
            "tags": []
          },
          "execution_count": 4
        }
      ]
    },
    {
      "metadata": {
        "id": "WCmqbPu_sE2d",
        "colab_type": "code",
        "colab": {
          "base_uri": "https://localhost:8080/",
          "height": 204
        },
        "outputId": "267f1dff-cf96-470c-e54d-3f5e8369cafa"
      },
      "cell_type": "code",
      "source": [
        "ffp_df = pd.read_table('https://raw.githubusercontent.com/pierretd/datasets-1/master/FastFmProfiles.tsv')\n",
        "ffp_df.head()"
      ],
      "execution_count": 8,
      "outputs": [
        {
          "output_type": "execute_result",
          "data": {
            "text/html": [
              "<div>\n",
              "<style scoped>\n",
              "    .dataframe tbody tr th:only-of-type {\n",
              "        vertical-align: middle;\n",
              "    }\n",
              "\n",
              "    .dataframe tbody tr th {\n",
              "        vertical-align: top;\n",
              "    }\n",
              "\n",
              "    .dataframe thead th {\n",
              "        text-align: right;\n",
              "    }\n",
              "</style>\n",
              "<table border=\"1\" class=\"dataframe\">\n",
              "  <thead>\n",
              "    <tr style=\"text-align: right;\">\n",
              "      <th></th>\n",
              "      <th>#id</th>\n",
              "      <th>gender</th>\n",
              "      <th>age</th>\n",
              "      <th>country</th>\n",
              "      <th>registered</th>\n",
              "    </tr>\n",
              "  </thead>\n",
              "  <tbody>\n",
              "    <tr>\n",
              "      <th>0</th>\n",
              "      <td>user_000001</td>\n",
              "      <td>m</td>\n",
              "      <td>NaN</td>\n",
              "      <td>Japan</td>\n",
              "      <td>Aug 13, 2006</td>\n",
              "    </tr>\n",
              "    <tr>\n",
              "      <th>1</th>\n",
              "      <td>user_000002</td>\n",
              "      <td>f</td>\n",
              "      <td>NaN</td>\n",
              "      <td>Peru</td>\n",
              "      <td>Feb 24, 2006</td>\n",
              "    </tr>\n",
              "    <tr>\n",
              "      <th>2</th>\n",
              "      <td>user_000003</td>\n",
              "      <td>m</td>\n",
              "      <td>22.0</td>\n",
              "      <td>United States</td>\n",
              "      <td>Oct 30, 2005</td>\n",
              "    </tr>\n",
              "    <tr>\n",
              "      <th>3</th>\n",
              "      <td>user_000004</td>\n",
              "      <td>f</td>\n",
              "      <td>NaN</td>\n",
              "      <td>NaN</td>\n",
              "      <td>Apr 26, 2006</td>\n",
              "    </tr>\n",
              "    <tr>\n",
              "      <th>4</th>\n",
              "      <td>user_000005</td>\n",
              "      <td>m</td>\n",
              "      <td>NaN</td>\n",
              "      <td>Bulgaria</td>\n",
              "      <td>Jun 29, 2006</td>\n",
              "    </tr>\n",
              "  </tbody>\n",
              "</table>\n",
              "</div>"
            ],
            "text/plain": [
              "           #id gender   age        country    registered\n",
              "0  user_000001      m   NaN          Japan  Aug 13, 2006\n",
              "1  user_000002      f   NaN           Peru  Feb 24, 2006\n",
              "2  user_000003      m  22.0  United States  Oct 30, 2005\n",
              "3  user_000004      f   NaN            NaN  Apr 26, 2006\n",
              "4  user_000005      m   NaN       Bulgaria  Jun 29, 2006"
            ]
          },
          "metadata": {
            "tags": []
          },
          "execution_count": 8
        }
      ]
    },
    {
      "metadata": {
        "id": "CIfCjtkKrl6u",
        "colab_type": "text"
      },
      "cell_type": "markdown",
      "source": [
        "Stretch Goals: \n",
        "Load Dataset 1 into a Colab notebook and answer the following questions. When you are finished, add a link to your Colab notebook to the top of the code challenge as a comment.\n",
        "\n",
        "1) Clean the data set and drop the Null/NaN values. Rename  Product_Category_1-3 columns with an actual Product. \n",
        "\n",
        "\n"
      ]
    },
    {
      "metadata": {
        "id": "0FAKQw-Qs7ee",
        "colab_type": "code",
        "colab": {
          "base_uri": "https://localhost:8080/",
          "height": 476
        },
        "outputId": "48b52480-9fba-4347-8067-32b7609a3744"
      },
      "cell_type": "code",
      "source": [
        "print(bf_df.isna().sum())\n",
        "print(bf_df.shape)\n",
        "bf_df.dtypes"
      ],
      "execution_count": 14,
      "outputs": [
        {
          "output_type": "stream",
          "text": [
            "User_ID                            0\n",
            "Product_ID                         0\n",
            "Gender                             0\n",
            "Age                                0\n",
            "Occupation                         0\n",
            "City_Category                      0\n",
            "Stay_In_Current_City_Years         0\n",
            "Marital_Status                     0\n",
            "Product_Category_1                 0\n",
            "Product_Category_2            166986\n",
            "Product_Category_3            373299\n",
            "Purchase                           0\n",
            "dtype: int64\n",
            "(537577, 12)\n"
          ],
          "name": "stdout"
        },
        {
          "output_type": "execute_result",
          "data": {
            "text/plain": [
              "User_ID                         int64\n",
              "Product_ID                     object\n",
              "Gender                         object\n",
              "Age                            object\n",
              "Occupation                      int64\n",
              "City_Category                  object\n",
              "Stay_In_Current_City_Years     object\n",
              "Marital_Status                  int64\n",
              "Product_Category_1              int64\n",
              "Product_Category_2            float64\n",
              "Product_Category_3            float64\n",
              "Purchase                        int64\n",
              "dtype: object"
            ]
          },
          "metadata": {
            "tags": []
          },
          "execution_count": 14
        }
      ]
    },
    {
      "metadata": {
        "id": "lvsM05YirdwX",
        "colab_type": "code",
        "colab": {
          "base_uri": "https://localhost:8080/",
          "height": 238
        },
        "outputId": "240b5f54-94bd-4e06-8c1c-afed7a31a862"
      },
      "cell_type": "code",
      "source": [
        "bf_masked = bf_df.dropna()\n",
        "bf_masked.isna().sum()"
      ],
      "execution_count": 17,
      "outputs": [
        {
          "output_type": "execute_result",
          "data": {
            "text/plain": [
              "User_ID                       0\n",
              "Product_ID                    0\n",
              "Gender                        0\n",
              "Age                           0\n",
              "Occupation                    0\n",
              "City_Category                 0\n",
              "Stay_In_Current_City_Years    0\n",
              "Marital_Status                0\n",
              "Product_Category_1            0\n",
              "Product_Category_2            0\n",
              "Product_Category_3            0\n",
              "Purchase                      0\n",
              "dtype: int64"
            ]
          },
          "metadata": {
            "tags": []
          },
          "execution_count": 17
        }
      ]
    },
    {
      "metadata": {
        "id": "c4JKw1N7ttvT",
        "colab_type": "code",
        "colab": {
          "base_uri": "https://localhost:8080/",
          "height": 221
        },
        "outputId": "83751ee7-7471-49ff-de4e-59d8b06b4378"
      },
      "cell_type": "code",
      "source": [
        "bf_renamed = bf_masked.rename(columns={'Product_Category_1': 'Toothbrush', 'Product_Category_2': 'Hairbrush', 'Product_Category_3': 'Dogbrush'})\n",
        "\n",
        "list(bf_renamed)"
      ],
      "execution_count": 20,
      "outputs": [
        {
          "output_type": "execute_result",
          "data": {
            "text/plain": [
              "['User_ID',\n",
              " 'Product_ID',\n",
              " 'Gender',\n",
              " 'Age',\n",
              " 'Occupation',\n",
              " 'City_Category',\n",
              " 'Stay_In_Current_City_Years',\n",
              " 'Marital_Status',\n",
              " 'Toothbrush',\n",
              " 'Hairbrush',\n",
              " 'Dogbrush',\n",
              " 'Purchase']"
            ]
          },
          "metadata": {
            "tags": []
          },
          "execution_count": 20
        }
      ]
    },
    {
      "metadata": {
        "id": "5dcve3SXunt-",
        "colab_type": "code",
        "colab": {}
      },
      "cell_type": "code",
      "source": [
        ""
      ],
      "execution_count": 0,
      "outputs": []
    },
    {
      "metadata": {
        "id": "GRKHETr-u2h_",
        "colab_type": "text"
      },
      "cell_type": "markdown",
      "source": [
        "2) How many unique user_ids does the data set contain?\n",
        "\n"
      ]
    },
    {
      "metadata": {
        "id": "8553wTWqu5mR",
        "colab_type": "code",
        "colab": {
          "base_uri": "https://localhost:8080/",
          "height": 34
        },
        "outputId": "6f2ae89a-bb39-4989-eb62-9e360dd707ca"
      },
      "cell_type": "code",
      "source": [
        "bf_renamed.User_ID.unique().size"
      ],
      "execution_count": 26,
      "outputs": [
        {
          "output_type": "execute_result",
          "data": {
            "text/plain": [
              "5868"
            ]
          },
          "metadata": {
            "tags": []
          },
          "execution_count": 26
        }
      ]
    },
    {
      "metadata": {
        "id": "GAMwLP1Nu4iK",
        "colab_type": "text"
      },
      "cell_type": "markdown",
      "source": [
        "3) How many unique age brackets are in the dataset. Which Age bracket has the most entries? Which has the least?\n"
      ]
    },
    {
      "metadata": {
        "id": "6o0-FE8gvgCN",
        "colab_type": "code",
        "colab": {
          "base_uri": "https://localhost:8080/",
          "height": 170
        },
        "outputId": "4675f341-96c6-4dd8-b802-bdc9fdecaea9"
      },
      "cell_type": "code",
      "source": [
        "bf_renamed.Age.unique().size\n",
        "# 7 age brackets\n",
        "\n",
        "bf_renamed.groupby('Age')['User_ID'].nunique()\n",
        "\n",
        "# So 26-35 has the most\n",
        "# 0-17 the least"
      ],
      "execution_count": 33,
      "outputs": [
        {
          "output_type": "execute_result",
          "data": {
            "text/plain": [
              "Age\n",
              "0-17      216\n",
              "18-25    1068\n",
              "26-35    2045\n",
              "36-45    1166\n",
              "46-50     526\n",
              "51-55     479\n",
              "55+       368\n",
              "Name: User_ID, dtype: int64"
            ]
          },
          "metadata": {
            "tags": []
          },
          "execution_count": 33
        }
      ]
    },
    {
      "metadata": {
        "id": "BHfZmpfhve3_",
        "colab_type": "text"
      },
      "cell_type": "markdown",
      "source": [
        "\n",
        "4) Transform the Gender categorical variable into a numerical variable. Then transform that numerical value into a Boolean.\n",
        "\n",
        "5)What is the average Occupation score? What is the Standard Deviation? What is the maximum and minimum value?\n"
      ]
    },
    {
      "metadata": {
        "id": "KliRkQIEwnFj",
        "colab_type": "code",
        "colab": {
          "base_uri": "https://localhost:8080/",
          "height": 238
        },
        "outputId": "a94829af-4997-47c6-87a6-129cecb9b3f9"
      },
      "cell_type": "code",
      "source": [
        "# bf_renamed.Gender\n",
        "# So I'll replace F = 1 and M = 0\n",
        "\n",
        "bf_gender = bf_renamed.replace(['F','M'], [1,0])\n",
        "\n",
        "# bf_gender.dtypes\n",
        "# bf_gender.Gender\n",
        "# replace worked\n",
        "\n",
        "bf_boolean = bf_gender.Gender.astype('bool')\n",
        "\n",
        "# bf_boolean.dtypes"
      ],
      "execution_count": 42,
      "outputs": [
        {
          "output_type": "execute_result",
          "data": {
            "text/plain": [
              "User_ID                         int64\n",
              "Product_ID                     object\n",
              "Gender                          int64\n",
              "Age                            object\n",
              "Occupation                      int64\n",
              "City_Category                  object\n",
              "Stay_In_Current_City_Years     object\n",
              "Marital_Status                  int64\n",
              "Toothbrush                      int64\n",
              "Hairbrush                     float64\n",
              "Dogbrush                      float64\n",
              "Purchase                        int64\n",
              "dtype: object"
            ]
          },
          "metadata": {
            "tags": []
          },
          "execution_count": 42
        }
      ]
    },
    {
      "metadata": {
        "id": "pe_Y6srOwvT_",
        "colab_type": "code",
        "colab": {}
      },
      "cell_type": "code",
      "source": [
        ""
      ],
      "execution_count": 0,
      "outputs": []
    }
  ]
}