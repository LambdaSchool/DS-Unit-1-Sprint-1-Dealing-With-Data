{
  "nbformat": 4,
  "nbformat_minor": 0,
  "metadata": {
    "colab": {
      "name": "Jerimiah Willhite - LS_DS_123_Make_Explanatory_Visualizations.ipynb",
      "version": "0.3.2",
      "provenance": [],
      "collapsed_sections": [],
      "include_colab_link": true
    },
    "language_info": {
      "codemirror_mode": {
        "name": "ipython",
        "version": 3
      },
      "file_extension": ".py",
      "mimetype": "text/x-python",
      "name": "python",
      "nbconvert_exporter": "python",
      "pygments_lexer": "ipython3",
      "version": "3.7.1"
    },
    "kernelspec": {
      "display_name": "Python 3",
      "language": "python",
      "name": "python3"
    }
  },
  "cells": [
    {
      "cell_type": "markdown",
      "metadata": {
        "id": "view-in-github",
        "colab_type": "text"
      },
      "source": [
        "<a href=\"https://colab.research.google.com/github/razzlestorm/DS-Unit-1-Sprint-1-Dealing-With-Data/blob/master/module3-make-explanatory-visualizations/Jerimiah_Willhite_LS_DS_123_Make_Explanatory_Visualizations.ipynb\" target=\"_parent\"><img src=\"https://colab.research.google.com/assets/colab-badge.svg\" alt=\"Open In Colab\"/></a>"
      ]
    },
    {
      "cell_type": "markdown",
      "metadata": {
        "colab_type": "text",
        "id": "-8-trVo__vRE"
      },
      "source": [
        "_Lambda School Data Science_\n",
        "\n",
        "# Make Explanatory Visualizations\n",
        "\n",
        "### Objectives\n",
        "\n",
        "- identify misleading visualizations and how to fix them\n",
        "- use Seaborn to visualize distributions and relationships with continuous and discrete variables\n",
        "- add emphasis and annotations to transform visualizations from exploratory to explanatory\n",
        "- remove clutter from visualizations\n",
        "\n",
        "### Links\n",
        "\n",
        "- [How to Spot Visualization Lies](https://flowingdata.com/2017/02/09/how-to-spot-visualization-lies/)\n",
        "- [Visual Vocabulary - Vega Edition](http://ft.com/vocabulary)\n",
        "- [Choosing a Python Visualization Tool flowchart](http://pbpython.com/python-vis-flowchart.html)\n",
        "- [Searborn example gallery](http://seaborn.pydata.org/examples/index.html) & [tutorial](http://seaborn.pydata.org/tutorial.html)\n",
        "- [Strong Titles Are The Biggest Bang for Your Buck](http://stephanieevergreen.com/strong-titles/)\n",
        "- [Remove to improve (the data-ink ratio)](https://www.darkhorseanalytics.com/blog/data-looks-better-naked)\n",
        "- [How to Generate FiveThirtyEight Graphs in Python](https://www.dataquest.io/blog/making-538-plots/)"
      ]
    },
    {
      "cell_type": "markdown",
      "metadata": {
        "id": "s-24T844-8qv",
        "colab_type": "text"
      },
      "source": [
        "# Avoid Misleading Visualizations\n",
        "\n",
        "Did you find/discuss any interesting misleading visualizations in your Walkie Talkie?"
      ]
    },
    {
      "cell_type": "markdown",
      "metadata": {
        "id": "Qzxt9ntsNjs0",
        "colab_type": "text"
      },
      "source": [
        "## What makes a visualization misleading?\n",
        "\n",
        "[5 Ways Writers Use Misleading Graphs To Manipulate You](https://venngage.com/blog/misleading-graphs/)"
      ]
    },
    {
      "cell_type": "markdown",
      "metadata": {
        "id": "q7_DUiENNvxk",
        "colab_type": "text"
      },
      "source": [
        "## Two y-axes\n",
        "\n",
        "<img src=\"https://kieranhealy.org/files/misc/two-y-by-four-sm.jpg\" width=\"800\">\n",
        " \n",
        " Other Examples: \n",
        " - [Spurious Correlations](https://tylervigen.com/spurious-correlations)\n",
        " - <https://blog.datawrapper.de/dualaxis/>\n",
        " - <https://kieranhealy.org/blog/archives/2016/01/16/two-y-axes/>\n",
        " - <http://www.storytellingwithdata.com/blog/2016/2/1/be-gone-dual-y-axis>"
      ]
    },
    {
      "cell_type": "markdown",
      "metadata": {
        "id": "oIijNBDMNv2k",
        "colab_type": "text"
      },
      "source": [
        "##  Y-axis doesn't start at zero.\n",
        "\n",
        "<img src=\"https://i.pinimg.com/originals/22/53/a9/2253a944f54bb61f1983bc076ff33cdd.jpg\" width=\"600\">"
      ]
    },
    {
      "cell_type": "markdown",
      "metadata": {
        "id": "ISB2p8vZNv6r",
        "colab_type": "text"
      },
      "source": [
        "## Pie Charts are bad\n",
        "\n",
        "<img src=\"https://i1.wp.com/flowingdata.com/wp-content/uploads/2009/11/Fox-News-pie-chart.png?fit=620%2C465&ssl=1\" width=\"600\">"
      ]
    },
    {
      "cell_type": "markdown",
      "metadata": {
        "id": "67CsAzu1NwBJ",
        "colab_type": "text"
      },
      "source": [
        "## Pie charts that omit data are extra bad\n",
        " \n",
        "- A guy makes a misleading chart that goes viral\n",
        "\n",
        " What does this chart imply at first glance? You don't want your user to have to do a lot of work in order to be able to interpret you graph correctly. You want that first-glance conclusions to be the correct ones.\n",
        "\n",
        " <img src=\"https://pbs.twimg.com/media/DiaiTLHWsAYAEEX?format=jpg&name=medium\" width='600'>\n",
        " \n",
        " <https://twitter.com/michaelbatnick/status/1019680856837849090?lang=en>\n",
        " \n",
        "- It gets picked up by overworked journalists (assuming incompetency before malice)\n",
        " \n",
        " <https://www.marketwatch.com/story/this-1-chart-puts-mega-techs-trillions-of-market-value-into-eye-popping-perspective-2018-07-18>\n",
        " \n",
        "- Even after the chart's implications have been refuted, it's hard a bad (although compelling) visualization from being passed around.\n",
        "\n",
        " <https://www.linkedin.com/pulse/good-bad-pie-charts-karthik-shashidhar/>\n",
        "\n",
        "**[\"yea I understand a pie chart was probably not the best choice to present this data.\"](https://twitter.com/michaelbatnick/status/1037036440494985216)**"
      ]
    },
    {
      "cell_type": "markdown",
      "metadata": {
        "id": "FYXmlToEOOTC",
        "colab_type": "text"
      },
      "source": [
        "## Pie Charts that compare unrelated things are next-level extra bad\n",
        "\n",
        "<img src=\"http://www.painting-with-numbers.com/download/document/186/170403+Legalizing+Marijuana+Graph.jpg\" width=\"600\">\n"
      ]
    },
    {
      "cell_type": "markdown",
      "metadata": {
        "id": "IwtMQpY_QFUw",
        "colab_type": "text"
      },
      "source": [
        "## Be careful about how you use volume to represent quantities:\n",
        "\n",
        "radius vs diameter vs volume\n",
        "\n",
        "<img src=\"https://static1.squarespace.com/static/5bfc8dbab40b9d7dd9054f41/t/5c32d86e0ebbe80a25873249/1546836082961/5474039-25383714-thumbnail.jpg?format=1500w\" width=\"600\">"
      ]
    },
    {
      "cell_type": "markdown",
      "metadata": {
        "id": "tTuAWjSBRsc7",
        "colab_type": "text"
      },
      "source": [
        "## Don't cherrypick timelines or specific subsets of your data:\n",
        "\n",
        "<img src=\"https://wattsupwiththat.com/wp-content/uploads/2019/02/Figure-1-1.png\" width=\"600\">\n",
        "\n",
        "Look how specifically the writer has selected what years to show in the legend on the right side.\n",
        "\n",
        "<https://wattsupwiththat.com/2019/02/24/strong-arctic-sea-ice-growth-this-year/>\n",
        "\n",
        "Try the tool that was used to make the graphic for yourself\n",
        "\n",
        "<http://nsidc.org/arcticseaicenews/charctic-interactive-sea-ice-graph/>\n",
        "                                                                                           "
      ]
    },
    {
      "cell_type": "markdown",
      "metadata": {
        "id": "Xs13S7p4Srme",
        "colab_type": "text"
      },
      "source": [
        "## Use Relative units rather than Absolute Units\n",
        "\n",
        "<img src=\"https://imgs.xkcd.com/comics/heatmap_2x.png\" width=\"600\">"
      ]
    },
    {
      "cell_type": "markdown",
      "metadata": {
        "id": "CIMt5OiuTlrr",
        "colab_type": "text"
      },
      "source": [
        "## Avoid 3D graphs unless having the extra dimension is effective\n",
        "\n",
        "Usually you can Split 3D graphs into multiple 2D graphs\n",
        "\n",
        "3D graphs that are interactive can be very cool. (See Plotly and Bokeh)\n",
        "\n",
        "<img src=\"https://thumbor.forbes.com/thumbor/1280x868/https%3A%2F%2Fblogs-images.forbes.com%2Fthumbnails%2Fblog_1855%2Fpt_1855_811_o.jpg%3Ft%3D1339592470\" width=\"600\">"
      ]
    },
    {
      "cell_type": "markdown",
      "metadata": {
        "id": "GATMu9IqUlIj",
        "colab_type": "text"
      },
      "source": [
        "## Don't go against typical conventions\n",
        "\n",
        "<img src=\"http://www.callingbullshit.org/twittercards/tools_misleading_axes.png\" width=\"600\">"
      ]
    },
    {
      "cell_type": "markdown",
      "metadata": {
        "id": "g6bKgZ0m_ynS",
        "colab_type": "text"
      },
      "source": [
        "# Tips for choosing an appropriate visualization:"
      ]
    },
    {
      "cell_type": "markdown",
      "metadata": {
        "id": "WtBsVnO4VHiJ",
        "colab_type": "text"
      },
      "source": [
        "## Use Appropriate \"Visual Vocabulary\"\n",
        "\n",
        "[Visual Vocabulary - Vega Edition](http://ft.com/vocabulary)"
      ]
    },
    {
      "cell_type": "markdown",
      "metadata": {
        "id": "H_QM9FHqVT7T",
        "colab_type": "text"
      },
      "source": [
        "## What are the properties of your data?\n",
        "- Is your primary variable of interest continuous or discrete?\n",
        "- Is in wide or long (tidy) format?\n",
        "- Does your visualization involve multiple variables?\n",
        "- How many dimensions do you need to include on your plot?\n",
        "\n",
        "Can you express the main idea of your visualization in a single sentence?\n",
        "\n",
        "How hard does your visualization make the user work in order to draw the intended conclusion?"
      ]
    },
    {
      "cell_type": "markdown",
      "metadata": {
        "id": "5EqXxnJeB89_",
        "colab_type": "text"
      },
      "source": [
        "## Which Visualization tool is most appropriate? \n",
        "\n",
        "[Choosing a Python Visualization Tool flowchart](http://pbpython.com/python-vis-flowchart.html)"
      ]
    },
    {
      "cell_type": "markdown",
      "metadata": {
        "id": "4mDuzLeNn23m",
        "colab_type": "text"
      },
      "source": [
        "## Anatomy of a Matplotlib Plot"
      ]
    },
    {
      "cell_type": "code",
      "metadata": {
        "id": "h-aIS1Vdn2RR",
        "colab_type": "code",
        "outputId": "e21a087a-1938-43a8-bf63-a9f272b3f9c2",
        "colab": {
          "base_uri": "https://localhost:8080/",
          "height": 555
        }
      },
      "source": [
        "import numpy as np\n",
        "import matplotlib.pyplot as plt\n",
        "from matplotlib.ticker import AutoMinorLocator, MultipleLocator, FuncFormatter\n",
        "\n",
        "np.random.seed(19680801)\n",
        "\n",
        "X = np.linspace(0.5, 3.5, 100)\n",
        "Y1 = 3+np.cos(X)\n",
        "Y2 = 1+np.cos(1+X/0.75)/2\n",
        "Y3 = np.random.uniform(Y1, Y2, len(X))\n",
        "\n",
        "fig = plt.figure(figsize=(8, 8))\n",
        "ax = fig.add_subplot(1, 1, 1, aspect=1)\n",
        "\n",
        "\n",
        "def minor_tick(x, pos):\n",
        "    if not x % 1.0:\n",
        "        return \"\"\n",
        "    return \"%.2f\" % x\n",
        "\n",
        "ax.xaxis.set_major_locator(MultipleLocator(1.000))\n",
        "ax.xaxis.set_minor_locator(AutoMinorLocator(4))\n",
        "ax.yaxis.set_major_locator(MultipleLocator(1.000))\n",
        "ax.yaxis.set_minor_locator(AutoMinorLocator(4))\n",
        "ax.xaxis.set_minor_formatter(FuncFormatter(minor_tick))\n",
        "\n",
        "ax.set_xlim(0, 4)\n",
        "ax.set_ylim(0, 4)\n",
        "\n",
        "ax.tick_params(which='major', width=1.0)\n",
        "ax.tick_params(which='major', length=10)\n",
        "ax.tick_params(which='minor', width=1.0, labelsize=10)\n",
        "ax.tick_params(which='minor', length=5, labelsize=10, labelcolor='0.25')\n",
        "\n",
        "ax.grid(linestyle=\"--\", linewidth=0.5, color='.25', zorder=-10)\n",
        "\n",
        "ax.plot(X, Y1, c=(0.25, 0.25, 1.00), lw=2, label=\"Blue signal\", zorder=10)\n",
        "ax.plot(X, Y2, c=(1.00, 0.25, 0.25), lw=2, label=\"Red signal\")\n",
        "ax.plot(X, Y3, linewidth=0,\n",
        "        marker='o', markerfacecolor='w', markeredgecolor='k')\n",
        "\n",
        "ax.set_title(\"Anatomy of a figure\", fontsize=20, verticalalignment='bottom')\n",
        "ax.set_xlabel(\"X axis label\")\n",
        "ax.set_ylabel(\"Y axis label\")\n",
        "\n",
        "ax.legend()\n",
        "\n",
        "\n",
        "def circle(x, y, radius=0.15):\n",
        "    from matplotlib.patches import Circle\n",
        "    from matplotlib.patheffects import withStroke\n",
        "    circle = Circle((x, y), radius, clip_on=False, zorder=10, linewidth=1,\n",
        "                    edgecolor='black', facecolor=(0, 0, 0, .0125),\n",
        "                    path_effects=[withStroke(linewidth=5, foreground='w')])\n",
        "    ax.add_artist(circle)\n",
        "\n",
        "\n",
        "def text(x, y, text):\n",
        "    ax.text(x, y, text, backgroundcolor=\"white\",\n",
        "            ha='center', va='top', weight='bold', color='blue')\n",
        "\n",
        "# Minor tick\n",
        "circle(0.50, -0.10)\n",
        "text(0.50, -0.32, \"Minor tick label\")\n",
        "\n",
        "# Major tick\n",
        "circle(-0.03, 4.00)\n",
        "text(0.03, 3.80, \"Major tick\")\n",
        "\n",
        "# Minor tick\n",
        "circle(0.00, 3.50)\n",
        "text(0.00, 3.30, \"Minor tick\")\n",
        "\n",
        "# Major tick label\n",
        "circle(-0.15, 3.00)\n",
        "text(-0.15, 2.80, \"Major tick label\")\n",
        "\n",
        "# X Label\n",
        "circle(1.80, -0.27)\n",
        "text(1.80, -0.45, \"X axis label\")\n",
        "\n",
        "# Y Label\n",
        "circle(-0.27, 1.80)\n",
        "text(-0.27, 1.6, \"Y axis label\")\n",
        "\n",
        "# Title\n",
        "circle(1.60, 4.13)\n",
        "text(1.60, 3.93, \"Title\")\n",
        "\n",
        "# Blue plot\n",
        "circle(1.75, 2.80)\n",
        "text(1.75, 2.60, \"Line\\n(line plot)\")\n",
        "\n",
        "# Red plot\n",
        "circle(1.20, 0.60)\n",
        "text(1.20, 0.40, \"Line\\n(line plot)\")\n",
        "\n",
        "# Scatter plot\n",
        "circle(3.20, 1.75)\n",
        "text(3.20, 1.55, \"Markers\\n(scatter plot)\")\n",
        "\n",
        "# Grid\n",
        "circle(3.00, 3.00)\n",
        "text(3.00, 2.80, \"Grid\")\n",
        "\n",
        "# Legend\n",
        "circle(3.70, 3.80)\n",
        "text(3.70, 3.60, \"Legend\")\n",
        "\n",
        "# Axes\n",
        "circle(0.5, 0.5)\n",
        "text(0.5, 0.3, \"Axes\")\n",
        "\n",
        "# Figure\n",
        "circle(-0.3, 0.65)\n",
        "text(-0.3, 0.45, \"Figure\")\n",
        "\n",
        "color = 'blue'\n",
        "ax.annotate('Spines', xy=(4.0, 0.35), xytext=(3.3, 0.5),\n",
        "            weight='bold', color=color,\n",
        "            arrowprops=dict(arrowstyle='->',\n",
        "                            connectionstyle=\"arc3\",\n",
        "                            color=color))\n",
        "\n",
        "ax.annotate('', xy=(3.15, 0.0), xytext=(3.45, 0.45),\n",
        "            weight='bold', color=color,\n",
        "            arrowprops=dict(arrowstyle='->',\n",
        "                            connectionstyle=\"arc3\",\n",
        "                            color=color))\n",
        "\n",
        "ax.text(4.0, -0.4, \"Made with http://matplotlib.org\",\n",
        "        fontsize=10, ha=\"right\", color='.5')\n",
        "\n",
        "plt.show()"
      ],
      "execution_count": 1,
      "outputs": [
        {
          "output_type": "display_data",
          "data": {
            "image/png": "[encoded data removed]",
            "text/plain": [
              "<Figure size 576x576 with 1 Axes>"
            ]
          },
          "metadata": {
            "tags": []
          }
        }
      ]
    },
    {
      "cell_type": "markdown",
      "metadata": {
        "id": "l7jAqU7KyXUz",
        "colab_type": "text"
      },
      "source": [
        "#Simple Web Scraper with IMBD"
      ]
    },
    {
      "cell_type": "code",
      "metadata": {
        "id": "vpvup1itya3v",
        "colab_type": "code",
        "outputId": "3dc1b19f-f3e6-4d90-fd44-89fcd7144b73",
        "colab": {
          "base_uri": "https://localhost:8080/",
          "height": 526
        }
      },
      "source": [
        "from requests import get\n",
        "\n",
        "url = 'https://www.imdb.com/title/tt6105098/ratings?ref_=tt_ov_rt'\n",
        "response = get(url)\n",
        "print(response.text[:500])"
      ],
      "execution_count": 2,
      "outputs": [
        {
          "output_type": "stream",
          "text": [
            "\n",
            "\n",
            "\n",
            "\n",
            "\n",
            "\n",
            "\n",
            "\n",
            "\n",
            "\n",
            "<!DOCTYPE html>\n",
            "<html\n",
            "    xmlns:og=\"http://ogp.me/ns#\"\n",
            "    xmlns:fb=\"http://www.facebook.com/2008/fbml\">\n",
            "    <head>\n",
            "         \n",
            "        <meta charset=\"utf-8\">\n",
            "        <meta http-equiv=\"X-UA-Compatible\" content=\"IE=edge\">\n",
            "\n",
            "    <meta name=\"apple-itunes-app\" content=\"app-id=342792525, app-argument=imdb:///title/tt6105098?src=mdot\">\n",
            "\n",
            "\n",
            "\n",
            "        <script type=\"text/javascript\">var IMDbTimer={starttime: new Date().getTime(),pt:'java'};</script>\n",
            "\n",
            "<script>\n",
            "    if (typeof uet == 'function') {\n",
            "     \n"
          ],
          "name": "stdout"
        }
      ]
    },
    {
      "cell_type": "code",
      "metadata": {
        "id": "a0plitUwzF6n",
        "colab_type": "code",
        "outputId": "379493f2-1a36-4f2b-db82-bfbe93f2f909",
        "colab": {
          "base_uri": "https://localhost:8080/",
          "height": 35
        }
      },
      "source": [
        "from bs4 import BeautifulSoup\n",
        "import pandas as pd\n",
        "\n",
        "html_soup = BeautifulSoup(response.text, 'html.parser')\n",
        "type(html_soup)"
      ],
      "execution_count": 3,
      "outputs": [
        {
          "output_type": "execute_result",
          "data": {
            "text/plain": [
              "bs4.BeautifulSoup"
            ]
          },
          "metadata": {
            "tags": []
          },
          "execution_count": 3
        }
      ]
    },
    {
      "cell_type": "code",
      "metadata": {
        "id": "kr7hnH64zcMi",
        "colab_type": "code",
        "outputId": "564c9f2c-3f84-42d4-9fd1-5c9f0307fc42",
        "colab": {
          "base_uri": "https://localhost:8080/",
          "height": 199
        }
      },
      "source": [
        "vote_container = html_soup.find_all('div', class_ = 'leftAligned')\n",
        "vote_container[1:11]"
      ],
      "execution_count": 4,
      "outputs": [
        {
          "output_type": "execute_result",
          "data": {
            "text/plain": [
              "[<div class=\"leftAligned\">10,732</div>,\n",
              " <div class=\"leftAligned\">6,909</div>,\n",
              " <div class=\"leftAligned\">12,673</div>,\n",
              " <div class=\"leftAligned\">13,514</div>,\n",
              " <div class=\"leftAligned\">7,225</div>,\n",
              " <div class=\"leftAligned\">3,325</div>,\n",
              " <div class=\"leftAligned\">1,532</div>,\n",
              " <div class=\"leftAligned\">1,036</div>,\n",
              " <div class=\"leftAligned\">786</div>,\n",
              " <div class=\"leftAligned\">2,635</div>]"
            ]
          },
          "metadata": {
            "tags": []
          },
          "execution_count": 4
        }
      ]
    },
    {
      "cell_type": "code",
      "metadata": {
        "id": "L3tVlXO90LRE",
        "colab_type": "code",
        "colab": {}
      },
      "source": [
        "votes = [containers.text for containers in vote_container][1:11]"
      ],
      "execution_count": 0,
      "outputs": []
    },
    {
      "cell_type": "code",
      "metadata": {
        "id": "zNEmrxV80rOt",
        "colab_type": "code",
        "outputId": "7073aada-9aea-4e1b-e8ec-6fc9d1bb527c",
        "colab": {
          "base_uri": "https://localhost:8080/",
          "height": 55
        }
      },
      "source": [
        "urls = ['https://www.imdb.com/title/tt6105098/ratings?ref_=tt_ov_rt',     # Lion King (2019)\n",
        "        'https://www.imdb.com/title/tt0110357/ratings?ref_=tt_ov_rt',     # Lion King (1994)\n",
        "        'https://www.imdb.com/title/tt6139732/ratings?ref_=tt_ov_rt',     # Aladdin (2019)\n",
        "        'https://www.imdb.com/title/tt0103639/ratings?ref_=tt_ov_rt']     # Aladdin (1992) w/ Robin Williams\n",
        "votes_list = []\n",
        "for url in urls:\n",
        "    # Get raw HTML response\n",
        "    response = get(url)\n",
        "    \n",
        "    # Convert to BS Object\n",
        "    html_soup = BeautifulSoup(response.text, 'html.parser')\n",
        "    \n",
        "    # Find vote containers and extract star ratings\n",
        "    vote_containers = html_soup.find_all('div', class_ = 'leftAligned')\n",
        "    votes = [containers.text for containers in vote_containers][1:11]\n",
        "    \n",
        "    # Append to initial list\n",
        "    votes_list.append(votes)\n",
        "    \n",
        "print(votes_list)"
      ],
      "execution_count": 6,
      "outputs": [
        {
          "output_type": "stream",
          "text": [
            "[['10,732', '6,909', '12,673', '13,514', '7,225', '3,325', '1,532', '1,036', '786', '2,635'], ['254,699', '219,257', '213,611', '100,744', '33,087', '13,246', '5,344', '3,010', '1,969', '4,956'], ['14,800', '11,772', '22,729', '20,311', '8,620', '3,342', '1,512', '915', '666', '2,395'], ['58,914', '61,231', '111,139', '61,573', '20,592', '7,057', '2,593', '1,199', '689', '1,249']]\n"
          ],
          "name": "stdout"
        }
      ]
    },
    {
      "cell_type": "code",
      "metadata": {
        "id": "VzqcF2hu1Rkm",
        "colab_type": "code",
        "outputId": "3e50486f-8fd2-4f40-e783-9f0fc96f0838",
        "colab": {
          "base_uri": "https://localhost:8080/",
          "height": 363
        }
      },
      "source": [
        "\n",
        "movies = ['The Lion King (2019)', 'The Lion King (1994)', 'Aladdin (2019)', 'Aladdin (1992)']\n",
        "df = pd.DataFrame(votes_list)\n",
        "df = df.T\n",
        "df.columns = movies\n",
        "df = df.apply(lambda x: x.str.replace(',',''))\n",
        "df['Star Rating'] = range(1,11)[::-1]\n",
        "df\n",
        "\n",
        "#could also have converted into tidy format first, and then concated into a df"
      ],
      "execution_count": 7,
      "outputs": [
        {
          "output_type": "execute_result",
          "data": {
            "text/html": [
              "<div>\n",
              "<style scoped>\n",
              "    .dataframe tbody tr th:only-of-type {\n",
              "        vertical-align: middle;\n",
              "    }\n",
              "\n",
              "    .dataframe tbody tr th {\n",
              "        vertical-align: top;\n",
              "    }\n",
              "\n",
              "    .dataframe thead th {\n",
              "        text-align: right;\n",
              "    }\n",
              "</style>\n",
              "<table border=\"1\" class=\"dataframe\">\n",
              "  <thead>\n",
              "    <tr style=\"text-align: right;\">\n",
              "      <th></th>\n",
              "      <th>The Lion King (2019)</th>\n",
              "      <th>The Lion King (1994)</th>\n",
              "      <th>Aladdin (2019)</th>\n",
              "      <th>Aladdin (1992)</th>\n",
              "      <th>Star Rating</th>\n",
              "    </tr>\n",
              "  </thead>\n",
              "  <tbody>\n",
              "    <tr>\n",
              "      <th>0</th>\n",
              "      <td>10732</td>\n",
              "      <td>254699</td>\n",
              "      <td>14800</td>\n",
              "      <td>58914</td>\n",
              "      <td>10</td>\n",
              "    </tr>\n",
              "    <tr>\n",
              "      <th>1</th>\n",
              "      <td>6909</td>\n",
              "      <td>219257</td>\n",
              "      <td>11772</td>\n",
              "      <td>61231</td>\n",
              "      <td>9</td>\n",
              "    </tr>\n",
              "    <tr>\n",
              "      <th>2</th>\n",
              "      <td>12673</td>\n",
              "      <td>213611</td>\n",
              "      <td>22729</td>\n",
              "      <td>111139</td>\n",
              "      <td>8</td>\n",
              "    </tr>\n",
              "    <tr>\n",
              "      <th>3</th>\n",
              "      <td>13514</td>\n",
              "      <td>100744</td>\n",
              "      <td>20311</td>\n",
              "      <td>61573</td>\n",
              "      <td>7</td>\n",
              "    </tr>\n",
              "    <tr>\n",
              "      <th>4</th>\n",
              "      <td>7225</td>\n",
              "      <td>33087</td>\n",
              "      <td>8620</td>\n",
              "      <td>20592</td>\n",
              "      <td>6</td>\n",
              "    </tr>\n",
              "    <tr>\n",
              "      <th>5</th>\n",
              "      <td>3325</td>\n",
              "      <td>13246</td>\n",
              "      <td>3342</td>\n",
              "      <td>7057</td>\n",
              "      <td>5</td>\n",
              "    </tr>\n",
              "    <tr>\n",
              "      <th>6</th>\n",
              "      <td>1532</td>\n",
              "      <td>5344</td>\n",
              "      <td>1512</td>\n",
              "      <td>2593</td>\n",
              "      <td>4</td>\n",
              "    </tr>\n",
              "    <tr>\n",
              "      <th>7</th>\n",
              "      <td>1036</td>\n",
              "      <td>3010</td>\n",
              "      <td>915</td>\n",
              "      <td>1199</td>\n",
              "      <td>3</td>\n",
              "    </tr>\n",
              "    <tr>\n",
              "      <th>8</th>\n",
              "      <td>786</td>\n",
              "      <td>1969</td>\n",
              "      <td>666</td>\n",
              "      <td>689</td>\n",
              "      <td>2</td>\n",
              "    </tr>\n",
              "    <tr>\n",
              "      <th>9</th>\n",
              "      <td>2635</td>\n",
              "      <td>4956</td>\n",
              "      <td>2395</td>\n",
              "      <td>1249</td>\n",
              "      <td>1</td>\n",
              "    </tr>\n",
              "  </tbody>\n",
              "</table>\n",
              "</div>"
            ],
            "text/plain": [
              "  The Lion King (2019) The Lion King (1994)  ... Aladdin (1992) Star Rating\n",
              "0                10732               254699  ...          58914          10\n",
              "1                 6909               219257  ...          61231           9\n",
              "2                12673               213611  ...         111139           8\n",
              "3                13514               100744  ...          61573           7\n",
              "4                 7225                33087  ...          20592           6\n",
              "5                 3325                13246  ...           7057           5\n",
              "6                 1532                 5344  ...           2593           4\n",
              "7                 1036                 3010  ...           1199           3\n",
              "8                  786                 1969  ...            689           2\n",
              "9                 2635                 4956  ...           1249           1\n",
              "\n",
              "[10 rows x 5 columns]"
            ]
          },
          "metadata": {
            "tags": []
          },
          "execution_count": 7
        }
      ]
    },
    {
      "cell_type": "code",
      "metadata": {
        "id": "7_WJIQhp12xj",
        "colab_type": "code",
        "outputId": "ad10cb1d-6390-4134-bf30-1ff14a0f8e5f",
        "colab": {
          "base_uri": "https://localhost:8080/",
          "height": 162
        }
      },
      "source": [
        "#convert df into tidy-format\n",
        "df_tidy = df.melt(id_vars='Star Rating')\n",
        "df_tidy = df_tidy.rename(columns={'variable': 'Movie', 'value': 'Number of Votes'})\n",
        "df_tidy['Number of Votes'] = pd.to_numeric(df_tidy['Number of Votes'])\n",
        "df_tidy.info()"
      ],
      "execution_count": 8,
      "outputs": [
        {
          "output_type": "stream",
          "text": [
            "<class 'pandas.core.frame.DataFrame'>\n",
            "RangeIndex: 40 entries, 0 to 39\n",
            "Data columns (total 3 columns):\n",
            "Star Rating        40 non-null int64\n",
            "Movie              40 non-null object\n",
            "Number of Votes    40 non-null int64\n",
            "dtypes: int64(2), object(1)\n",
            "memory usage: 1.0+ KB\n"
          ],
          "name": "stdout"
        }
      ]
    },
    {
      "cell_type": "code",
      "metadata": {
        "id": "BZmWatqc4DLx",
        "colab_type": "code",
        "outputId": "d8120502-65d0-4b85-9e7c-d2ca3f892d9e",
        "colab": {
          "base_uri": "https://localhost:8080/",
          "height": 206
        }
      },
      "source": [
        "df_tidy['Vote Percent'] = df_tidy.groupby('Movie')['Number of Votes'].apply(lambda x: x / x.sum() * 100)\n",
        "df_tidy.head()"
      ],
      "execution_count": 9,
      "outputs": [
        {
          "output_type": "execute_result",
          "data": {
            "text/html": [
              "<div>\n",
              "<style scoped>\n",
              "    .dataframe tbody tr th:only-of-type {\n",
              "        vertical-align: middle;\n",
              "    }\n",
              "\n",
              "    .dataframe tbody tr th {\n",
              "        vertical-align: top;\n",
              "    }\n",
              "\n",
              "    .dataframe thead th {\n",
              "        text-align: right;\n",
              "    }\n",
              "</style>\n",
              "<table border=\"1\" class=\"dataframe\">\n",
              "  <thead>\n",
              "    <tr style=\"text-align: right;\">\n",
              "      <th></th>\n",
              "      <th>Star Rating</th>\n",
              "      <th>Movie</th>\n",
              "      <th>Number of Votes</th>\n",
              "      <th>Vote Percent</th>\n",
              "    </tr>\n",
              "  </thead>\n",
              "  <tbody>\n",
              "    <tr>\n",
              "      <th>0</th>\n",
              "      <td>10</td>\n",
              "      <td>The Lion King (2019)</td>\n",
              "      <td>10732</td>\n",
              "      <td>17.777925</td>\n",
              "    </tr>\n",
              "    <tr>\n",
              "      <th>1</th>\n",
              "      <td>9</td>\n",
              "      <td>The Lion King (2019)</td>\n",
              "      <td>6909</td>\n",
              "      <td>11.444995</td>\n",
              "    </tr>\n",
              "    <tr>\n",
              "      <th>2</th>\n",
              "      <td>8</td>\n",
              "      <td>The Lion King (2019)</td>\n",
              "      <td>12673</td>\n",
              "      <td>20.993258</td>\n",
              "    </tr>\n",
              "    <tr>\n",
              "      <th>3</th>\n",
              "      <td>7</td>\n",
              "      <td>The Lion King (2019)</td>\n",
              "      <td>13514</td>\n",
              "      <td>22.386403</td>\n",
              "    </tr>\n",
              "    <tr>\n",
              "      <th>4</th>\n",
              "      <td>6</td>\n",
              "      <td>The Lion King (2019)</td>\n",
              "      <td>7225</td>\n",
              "      <td>11.968460</td>\n",
              "    </tr>\n",
              "  </tbody>\n",
              "</table>\n",
              "</div>"
            ],
            "text/plain": [
              "   Star Rating                 Movie  Number of Votes  Vote Percent\n",
              "0           10  The Lion King (2019)            10732     17.777925\n",
              "1            9  The Lion King (2019)             6909     11.444995\n",
              "2            8  The Lion King (2019)            12673     20.993258\n",
              "3            7  The Lion King (2019)            13514     22.386403\n",
              "4            6  The Lion King (2019)             7225     11.968460"
            ]
          },
          "metadata": {
            "tags": []
          },
          "execution_count": 9
        }
      ]
    },
    {
      "cell_type": "code",
      "metadata": {
        "id": "l7KObUc93LTs",
        "colab_type": "code",
        "outputId": "b5911449-10aa-4528-c106-f1a21dc153bc",
        "colab": {
          "base_uri": "https://localhost:8080/",
          "height": 873
        }
      },
      "source": [
        "import seaborn as sns\n",
        "\n",
        "sns.catplot(x='Star Rating', y='Vote Percent', col='Movie', col_wrap=2, height=6, kind='bar', data=df_tidy);"
      ],
      "execution_count": 10,
      "outputs": [
        {
          "output_type": "display_data",
          "data": {
            "image/png": "[encoded data removed]",
            "text/plain": [
              "<Figure size 864x864 with 4 Axes>"
            ]
          },
          "metadata": {
            "tags": []
          }
        }
      ]
    },
    {
      "cell_type": "markdown",
      "metadata": {
        "id": "5_na7Oy3NGKA",
        "colab_type": "text"
      },
      "source": [
        "# Making Explanatory Visualizations with Seaborn"
      ]
    },
    {
      "cell_type": "markdown",
      "metadata": {
        "id": "ORUwQD6F-VYg",
        "colab_type": "text"
      },
      "source": [
        "Today we will reproduce this [example by FiveThirtyEight:](https://fivethirtyeight.com/features/al-gores-new-movie-exposes-the-big-flaw-in-online-movie-ratings/)\n",
        "\n"
      ]
    },
    {
      "cell_type": "code",
      "metadata": {
        "colab_type": "code",
        "id": "ya_w5WORGs-n",
        "outputId": "4dce58b1-4e29-4146-aac6-94a61bc3d059",
        "colab": {
          "base_uri": "https://localhost:8080/",
          "height": 355
        }
      },
      "source": [
        "from IPython.display import display, Image\n",
        "\n",
        "url = 'https://fivethirtyeight.com/wp-content/uploads/2017/09/mehtahickey-inconvenient-0830-1.png'\n",
        "example = Image(url=url, width=400)\n",
        "\n",
        "display(example)"
      ],
      "execution_count": 11,
      "outputs": [
        {
          "output_type": "display_data",
          "data": {
            "text/html": [
              "<img src=\"https://fivethirtyeight.com/wp-content/uploads/2017/09/mehtahickey-inconvenient-0830-1.png\" width=\"400\"/>"
            ],
            "text/plain": [
              "<IPython.core.display.Image object>"
            ]
          },
          "metadata": {
            "tags": []
          }
        }
      ]
    },
    {
      "cell_type": "markdown",
      "metadata": {
        "colab_type": "text",
        "id": "HP4DALiRG3sC"
      },
      "source": [
        "Using this data: https://github.com/fivethirtyeight/data/tree/master/inconvenient-sequel"
      ]
    },
    {
      "cell_type": "markdown",
      "metadata": {
        "colab_type": "text",
        "id": "HioPkYtUG03B"
      },
      "source": [
        "Links\n",
        "- [Strong Titles Are The Biggest Bang for Your Buck](http://stephanieevergreen.com/strong-titles/)\n",
        "- [Remove to improve (the data-ink ratio)](https://www.darkhorseanalytics.com/blog/data-looks-better-naked)\n",
        "- [How to Generate FiveThirtyEight Graphs in Python](https://www.dataquest.io/blog/making-538-plots/)"
      ]
    },
    {
      "cell_type": "markdown",
      "metadata": {
        "colab_type": "text",
        "id": "0w_iMnQ6-VoQ"
      },
      "source": [
        "## Make prototypes\n",
        "\n",
        "This  helps us understand the problem"
      ]
    },
    {
      "cell_type": "code",
      "metadata": {
        "colab_type": "code",
        "id": "5uz0eEaEN-GO",
        "outputId": "49a6effb-88ad-48f6-ee8a-946c9165ba8f",
        "colab": {
          "base_uri": "https://localhost:8080/",
          "height": 285
        }
      },
      "source": [
        "%matplotlib inline\n",
        "import matplotlib.pyplot as plt\n",
        "import numpy as np\n",
        "import pandas as pd\n",
        "\n",
        "\n",
        "plt.style.use('fivethirtyeight')\n",
        "\n",
        "fake = pd.Series([38, 3, 2, 1, 2, 4, 6, 5, 5, 33], \n",
        "                 index=range(1,11))\n",
        "\n",
        "fake.plot.bar(color='C1', width=0.9);"
      ],
      "execution_count": 12,
      "outputs": [
        {
          "output_type": "display_data",
          "data": {
            "image/png": "[encoded data removed]",
            "text/plain": [
              "<Figure size 432x288 with 1 Axes>"
            ]
          },
          "metadata": {
            "tags": []
          }
        }
      ]
    },
    {
      "cell_type": "code",
      "metadata": {
        "colab_type": "code",
        "id": "KZ0VLOV8OyRr",
        "outputId": "e8c14047-bc92-43d6-9407-946cf3333571",
        "colab": {
          "base_uri": "https://localhost:8080/",
          "height": 289
        }
      },
      "source": [
        "fake2 = pd.Series(\n",
        "    [1, 1, 1, 1, 1, 1, 1, 1, 1, 1, 1, 1, 1, 1, 1, 1, 1, 1, 1, 1, 1, 1, 1, 1,\n",
        "     2, 2, 2, \n",
        "     3, 3, 3,\n",
        "     4, 4,\n",
        "     5, 5, 5,\n",
        "     6, 6, 6, 6,\n",
        "     7, 7, 7, 7, 7,\n",
        "     8, 8, 8, 8,\n",
        "     9, 9, 9, 9, \n",
        "     10, 10, 10, 10, 10, 10, 10, 10, 10, 10, 10, 10, 10, 10, 10, 10, 10, 10])\n",
        "\n",
        "fake2.value_counts().sort_index().plot.bar(color='C1', width=0.9);"
      ],
      "execution_count": 13,
      "outputs": [
        {
          "output_type": "display_data",
          "data": {
            "image/png": "[encoded data removed]",
            "text/plain": [
              "<Figure size 432x288 with 1 Axes>"
            ]
          },
          "metadata": {
            "tags": []
          }
        }
      ]
    },
    {
      "cell_type": "markdown",
      "metadata": {
        "colab_type": "text",
        "id": "mZb3UZWO-q05"
      },
      "source": [
        "## Annotate with text"
      ]
    },
    {
      "cell_type": "code",
      "metadata": {
        "colab_type": "code",
        "id": "f6U1vswr_uWp",
        "outputId": "0d30ad22-5875-4b5c-b47a-7f7f5089a273",
        "colab": {
          "base_uri": "https://localhost:8080/",
          "height": 388
        }
      },
      "source": [
        "import numpy as np\n",
        "\n",
        "plt.style.use('fivethirtyeight')\n",
        "\n",
        "#creates white background\n",
        "fig, ax = plt.subplots(facecolor='white')\n",
        "\n",
        "fake.plot.bar(color='C1', width=0.9)\n",
        "\n",
        "plt.text(x=-1.5, y=50, fontsize=16, fontweight='bold',\n",
        "    s = \"'An Inconvenient Sequel: Truth to Power' is divisive\")\n",
        "plt.text(x=-1.5, y=46, fontsize=12,\n",
        "    s = \"IMDB Ratings for the film as of Aug 29\")\n",
        "\n",
        "plt.yticks(range(0,41, 10))\n",
        "\n",
        "plt.xlabel('Rating', fontsize=10, fontweight='bold')\n",
        "plt.ylabel('Percent of Total Votes', fontsize=10, fontweight='bold')"
      ],
      "execution_count": 14,
      "outputs": [
        {
          "output_type": "execute_result",
          "data": {
            "text/plain": [
              "Text(0, 0.5, 'Percent of Total Votes')"
            ]
          },
          "metadata": {
            "tags": []
          },
          "execution_count": 14
        },
        {
          "output_type": "display_data",
          "data": {
            "image/png": "[encoded data removed]",
            "text/plain": [
              "<Figure size 432x288 with 1 Axes>"
            ]
          },
          "metadata": {
            "tags": []
          }
        }
      ]
    },
    {
      "cell_type": "markdown",
      "metadata": {
        "colab_type": "text",
        "id": "x8jRZkpB_MJ6"
      },
      "source": [
        "## Reproduce with real data"
      ]
    },
    {
      "cell_type": "code",
      "metadata": {
        "colab_type": "code",
        "id": "3SOHJckDUPI8",
        "outputId": "968372bd-ab66-4c6d-af01-7095c3705bde",
        "colab": {
          "base_uri": "https://localhost:8080/",
          "height": 418
        }
      },
      "source": [
        "df = pd.read_csv('https://raw.githubusercontent.com/fivethirtyeight/data/master/inconvenient-sequel/ratings.csv')\n",
        "print(df.shape)\n",
        "df.head()"
      ],
      "execution_count": 15,
      "outputs": [
        {
          "output_type": "stream",
          "text": [
            "(80053, 27)\n"
          ],
          "name": "stdout"
        },
        {
          "output_type": "execute_result",
          "data": {
            "text/html": [
              "<div>\n",
              "<style scoped>\n",
              "    .dataframe tbody tr th:only-of-type {\n",
              "        vertical-align: middle;\n",
              "    }\n",
              "\n",
              "    .dataframe tbody tr th {\n",
              "        vertical-align: top;\n",
              "    }\n",
              "\n",
              "    .dataframe thead th {\n",
              "        text-align: right;\n",
              "    }\n",
              "</style>\n",
              "<table border=\"1\" class=\"dataframe\">\n",
              "  <thead>\n",
              "    <tr style=\"text-align: right;\">\n",
              "      <th></th>\n",
              "      <th>timestamp</th>\n",
              "      <th>respondents</th>\n",
              "      <th>category</th>\n",
              "      <th>link</th>\n",
              "      <th>average</th>\n",
              "      <th>mean</th>\n",
              "      <th>median</th>\n",
              "      <th>1_votes</th>\n",
              "      <th>2_votes</th>\n",
              "      <th>3_votes</th>\n",
              "      <th>4_votes</th>\n",
              "      <th>5_votes</th>\n",
              "      <th>6_votes</th>\n",
              "      <th>7_votes</th>\n",
              "      <th>8_votes</th>\n",
              "      <th>9_votes</th>\n",
              "      <th>10_votes</th>\n",
              "      <th>1_pct</th>\n",
              "      <th>2_pct</th>\n",
              "      <th>3_pct</th>\n",
              "      <th>4_pct</th>\n",
              "      <th>5_pct</th>\n",
              "      <th>6_pct</th>\n",
              "      <th>7_pct</th>\n",
              "      <th>8_pct</th>\n",
              "      <th>9_pct</th>\n",
              "      <th>10_pct</th>\n",
              "    </tr>\n",
              "  </thead>\n",
              "  <tbody>\n",
              "    <tr>\n",
              "      <th>0</th>\n",
              "      <td>2017-07-17 12:28:32.785639</td>\n",
              "      <td>402</td>\n",
              "      <td>Males</td>\n",
              "      <td>http://www.imdb.com/title/tt6322922/ratings-male</td>\n",
              "      <td>4.6</td>\n",
              "      <td>5.0</td>\n",
              "      <td>2</td>\n",
              "      <td>197</td>\n",
              "      <td>7</td>\n",
              "      <td>7</td>\n",
              "      <td>3</td>\n",
              "      <td>7</td>\n",
              "      <td>7</td>\n",
              "      <td>11</td>\n",
              "      <td>8</td>\n",
              "      <td>20</td>\n",
              "      <td>135</td>\n",
              "      <td>49.0</td>\n",
              "      <td>1.7</td>\n",
              "      <td>1.7</td>\n",
              "      <td>0.7</td>\n",
              "      <td>1.7</td>\n",
              "      <td>1.7</td>\n",
              "      <td>2.7</td>\n",
              "      <td>2.0</td>\n",
              "      <td>5.0</td>\n",
              "      <td>33.6</td>\n",
              "    </tr>\n",
              "    <tr>\n",
              "      <th>1</th>\n",
              "      <td>2017-07-17 12:28:33.025600</td>\n",
              "      <td>78</td>\n",
              "      <td>Females</td>\n",
              "      <td>http://www.imdb.com/title/tt6322922/ratings-fe...</td>\n",
              "      <td>6.9</td>\n",
              "      <td>7.7</td>\n",
              "      <td>10</td>\n",
              "      <td>16</td>\n",
              "      <td>1</td>\n",
              "      <td>0</td>\n",
              "      <td>1</td>\n",
              "      <td>1</td>\n",
              "      <td>0</td>\n",
              "      <td>3</td>\n",
              "      <td>4</td>\n",
              "      <td>3</td>\n",
              "      <td>49</td>\n",
              "      <td>20.5</td>\n",
              "      <td>1.3</td>\n",
              "      <td>0.0</td>\n",
              "      <td>1.3</td>\n",
              "      <td>1.3</td>\n",
              "      <td>0.0</td>\n",
              "      <td>3.8</td>\n",
              "      <td>5.1</td>\n",
              "      <td>3.8</td>\n",
              "      <td>62.8</td>\n",
              "    </tr>\n",
              "    <tr>\n",
              "      <th>2</th>\n",
              "      <td>2017-07-17 12:28:33.273919</td>\n",
              "      <td>4</td>\n",
              "      <td>Aged under 18</td>\n",
              "      <td>http://www.imdb.com/title/tt6322922/ratings-age_1</td>\n",
              "      <td>4.2</td>\n",
              "      <td>4.2</td>\n",
              "      <td>3</td>\n",
              "      <td>2</td>\n",
              "      <td>0</td>\n",
              "      <td>0</td>\n",
              "      <td>0</td>\n",
              "      <td>1</td>\n",
              "      <td>0</td>\n",
              "      <td>0</td>\n",
              "      <td>0</td>\n",
              "      <td>0</td>\n",
              "      <td>1</td>\n",
              "      <td>50.0</td>\n",
              "      <td>0.0</td>\n",
              "      <td>0.0</td>\n",
              "      <td>0.0</td>\n",
              "      <td>25.0</td>\n",
              "      <td>0.0</td>\n",
              "      <td>0.0</td>\n",
              "      <td>0.0</td>\n",
              "      <td>0.0</td>\n",
              "      <td>25.0</td>\n",
              "    </tr>\n",
              "    <tr>\n",
              "      <th>3</th>\n",
              "      <td>2017-07-17 12:28:33.495325</td>\n",
              "      <td>4</td>\n",
              "      <td>Males under 18</td>\n",
              "      <td>http://www.imdb.com/title/tt6322922/ratings-ma...</td>\n",
              "      <td>4.2</td>\n",
              "      <td>4.2</td>\n",
              "      <td>3</td>\n",
              "      <td>2</td>\n",
              "      <td>0</td>\n",
              "      <td>0</td>\n",
              "      <td>0</td>\n",
              "      <td>1</td>\n",
              "      <td>0</td>\n",
              "      <td>0</td>\n",
              "      <td>0</td>\n",
              "      <td>0</td>\n",
              "      <td>1</td>\n",
              "      <td>50.0</td>\n",
              "      <td>0.0</td>\n",
              "      <td>0.0</td>\n",
              "      <td>0.0</td>\n",
              "      <td>25.0</td>\n",
              "      <td>0.0</td>\n",
              "      <td>0.0</td>\n",
              "      <td>0.0</td>\n",
              "      <td>0.0</td>\n",
              "      <td>25.0</td>\n",
              "    </tr>\n",
              "    <tr>\n",
              "      <th>4</th>\n",
              "      <td>2017-07-17 12:28:33.722849</td>\n",
              "      <td>130</td>\n",
              "      <td>Aged 18-29</td>\n",
              "      <td>http://www.imdb.com/title/tt6322922/ratings-age_2</td>\n",
              "      <td>6.3</td>\n",
              "      <td>6.5</td>\n",
              "      <td>9</td>\n",
              "      <td>41</td>\n",
              "      <td>0</td>\n",
              "      <td>3</td>\n",
              "      <td>1</td>\n",
              "      <td>2</td>\n",
              "      <td>3</td>\n",
              "      <td>6</td>\n",
              "      <td>4</td>\n",
              "      <td>6</td>\n",
              "      <td>64</td>\n",
              "      <td>31.5</td>\n",
              "      <td>0.0</td>\n",
              "      <td>2.3</td>\n",
              "      <td>0.8</td>\n",
              "      <td>1.5</td>\n",
              "      <td>2.3</td>\n",
              "      <td>4.6</td>\n",
              "      <td>3.1</td>\n",
              "      <td>4.6</td>\n",
              "      <td>49.2</td>\n",
              "    </tr>\n",
              "  </tbody>\n",
              "</table>\n",
              "</div>"
            ],
            "text/plain": [
              "                    timestamp  respondents  ... 9_pct 10_pct\n",
              "0  2017-07-17 12:28:32.785639          402  ...   5.0   33.6\n",
              "1  2017-07-17 12:28:33.025600           78  ...   3.8   62.8\n",
              "2  2017-07-17 12:28:33.273919            4  ...   0.0   25.0\n",
              "3  2017-07-17 12:28:33.495325            4  ...   0.0   25.0\n",
              "4  2017-07-17 12:28:33.722849          130  ...   4.6   49.2\n",
              "\n",
              "[5 rows x 27 columns]"
            ]
          },
          "metadata": {
            "tags": []
          },
          "execution_count": 15
        }
      ]
    },
    {
      "cell_type": "code",
      "metadata": {
        "colab_type": "code",
        "id": "cDltXxhC_yG-",
        "outputId": "e5f2f2e8-e281-48fc-832d-89469f22f101",
        "colab": {
          "base_uri": "https://localhost:8080/",
          "height": 380
        }
      },
      "source": [
        "df.category.value_counts()"
      ],
      "execution_count": 16,
      "outputs": [
        {
          "output_type": "execute_result",
          "data": {
            "text/plain": [
              "IMDb staff            4216\n",
              "Males                 4216\n",
              "IMDb users            4216\n",
              "Top 1000 voters       4216\n",
              "Males Aged 30-44      4216\n",
              "Females               4216\n",
              "US users              4216\n",
              "Females Aged 30-44    4216\n",
              "Males Aged 45+        4216\n",
              "Aged 18-29            4216\n",
              "Aged under 18         4216\n",
              "Females Aged 18-29    4216\n",
              "Aged 45+              4216\n",
              "Males under 18        4216\n",
              "Males Aged 18-29      4216\n",
              "Females Aged 45+      4216\n",
              "Non-US users          4216\n",
              "Aged 30-44            4216\n",
              "Females under 18      4165\n",
              "Name: category, dtype: int64"
            ]
          },
          "metadata": {
            "tags": []
          },
          "execution_count": 16
        }
      ]
    },
    {
      "cell_type": "code",
      "metadata": {
        "id": "53C9ziPa_BKh",
        "colab_type": "code",
        "colab": {
          "base_uri": "https://localhost:8080/",
          "height": 526
        },
        "outputId": "92201f18-b767-4634-8292-3a39a486558c"
      },
      "source": [
        "df.dtypes"
      ],
      "execution_count": 17,
      "outputs": [
        {
          "output_type": "execute_result",
          "data": {
            "text/plain": [
              "timestamp       object\n",
              "respondents      int64\n",
              "category        object\n",
              "link            object\n",
              "average        float64\n",
              "mean           float64\n",
              "median           int64\n",
              "1_votes          int64\n",
              "2_votes          int64\n",
              "3_votes          int64\n",
              "4_votes          int64\n",
              "5_votes          int64\n",
              "6_votes          int64\n",
              "7_votes          int64\n",
              "8_votes          int64\n",
              "9_votes          int64\n",
              "10_votes         int64\n",
              "1_pct          float64\n",
              "2_pct          float64\n",
              "3_pct          float64\n",
              "4_pct          float64\n",
              "5_pct          float64\n",
              "6_pct          float64\n",
              "7_pct          float64\n",
              "8_pct          float64\n",
              "9_pct          float64\n",
              "10_pct         float64\n",
              "dtype: object"
            ]
          },
          "metadata": {
            "tags": []
          },
          "execution_count": 17
        }
      ]
    },
    {
      "cell_type": "code",
      "metadata": {
        "id": "AFb5Y1rG_Vy6",
        "colab_type": "code",
        "outputId": "395e36dd-a364-4b82-a9d1-5f022f4d32f6",
        "colab": {
          "base_uri": "https://localhost:8080/",
          "height": 144
        }
      },
      "source": [
        "df['timestamp'] = pd.to_datetime(df['timestamp'])\n",
        "df['timestamp'].describe()"
      ],
      "execution_count": 18,
      "outputs": [
        {
          "output_type": "execute_result",
          "data": {
            "text/plain": [
              "count                          80053\n",
              "unique                         80053\n",
              "top       2017-07-24 23:00:02.760781\n",
              "freq                               1\n",
              "first     2017-07-17 12:28:32.785639\n",
              "last      2017-08-29 23:10:06.218251\n",
              "Name: timestamp, dtype: object"
            ]
          },
          "metadata": {
            "tags": []
          },
          "execution_count": 18
        }
      ]
    },
    {
      "cell_type": "code",
      "metadata": {
        "id": "IKNRDr2P_tcq",
        "colab_type": "code",
        "outputId": "9e3d926c-1843-4bb4-e480-f0c937bb5d47",
        "colab": {
          "base_uri": "https://localhost:8080/",
          "height": 35
        }
      },
      "source": [
        "df_imdb = df[df.category == 'IMDb users']\n",
        "df_imdb.shape"
      ],
      "execution_count": 19,
      "outputs": [
        {
          "output_type": "execute_result",
          "data": {
            "text/plain": [
              "(4216, 27)"
            ]
          },
          "metadata": {
            "tags": []
          },
          "execution_count": 19
        }
      ]
    },
    {
      "cell_type": "code",
      "metadata": {
        "id": "8gQeU70NAB8e",
        "colab_type": "code",
        "outputId": "b23cee16-318d-48a4-e873-16588b648e0f",
        "colab": {
          "base_uri": "https://localhost:8080/",
          "height": 135
        }
      },
      "source": [
        "final = df_imdb.tail(1)\n",
        "final"
      ],
      "execution_count": 20,
      "outputs": [
        {
          "output_type": "execute_result",
          "data": {
            "text/html": [
              "<div>\n",
              "<style scoped>\n",
              "    .dataframe tbody tr th:only-of-type {\n",
              "        vertical-align: middle;\n",
              "    }\n",
              "\n",
              "    .dataframe tbody tr th {\n",
              "        vertical-align: top;\n",
              "    }\n",
              "\n",
              "    .dataframe thead th {\n",
              "        text-align: right;\n",
              "    }\n",
              "</style>\n",
              "<table border=\"1\" class=\"dataframe\">\n",
              "  <thead>\n",
              "    <tr style=\"text-align: right;\">\n",
              "      <th></th>\n",
              "      <th>timestamp</th>\n",
              "      <th>respondents</th>\n",
              "      <th>category</th>\n",
              "      <th>link</th>\n",
              "      <th>average</th>\n",
              "      <th>mean</th>\n",
              "      <th>median</th>\n",
              "      <th>1_votes</th>\n",
              "      <th>2_votes</th>\n",
              "      <th>3_votes</th>\n",
              "      <th>4_votes</th>\n",
              "      <th>5_votes</th>\n",
              "      <th>6_votes</th>\n",
              "      <th>7_votes</th>\n",
              "      <th>8_votes</th>\n",
              "      <th>9_votes</th>\n",
              "      <th>10_votes</th>\n",
              "      <th>1_pct</th>\n",
              "      <th>2_pct</th>\n",
              "      <th>3_pct</th>\n",
              "      <th>4_pct</th>\n",
              "      <th>5_pct</th>\n",
              "      <th>6_pct</th>\n",
              "      <th>7_pct</th>\n",
              "      <th>8_pct</th>\n",
              "      <th>9_pct</th>\n",
              "      <th>10_pct</th>\n",
              "    </tr>\n",
              "  </thead>\n",
              "  <tbody>\n",
              "    <tr>\n",
              "      <th>80052</th>\n",
              "      <td>2017-08-29 23:10:06.218251</td>\n",
              "      <td>2662</td>\n",
              "      <td>IMDb users</td>\n",
              "      <td>http://www.imdb.com/title/tt6322922/ratings</td>\n",
              "      <td>5.4</td>\n",
              "      <td>5.6</td>\n",
              "      <td>7</td>\n",
              "      <td>1021</td>\n",
              "      <td>69</td>\n",
              "      <td>38</td>\n",
              "      <td>25</td>\n",
              "      <td>55</td>\n",
              "      <td>110</td>\n",
              "      <td>154</td>\n",
              "      <td>147</td>\n",
              "      <td>146</td>\n",
              "      <td>897</td>\n",
              "      <td>38.4</td>\n",
              "      <td>2.6</td>\n",
              "      <td>1.4</td>\n",
              "      <td>0.9</td>\n",
              "      <td>2.1</td>\n",
              "      <td>4.1</td>\n",
              "      <td>5.8</td>\n",
              "      <td>5.5</td>\n",
              "      <td>5.5</td>\n",
              "      <td>33.7</td>\n",
              "    </tr>\n",
              "  </tbody>\n",
              "</table>\n",
              "</div>"
            ],
            "text/plain": [
              "                       timestamp  respondents    category  ... 8_pct  9_pct  10_pct\n",
              "80052 2017-08-29 23:10:06.218251         2662  IMDb users  ...   5.5    5.5    33.7\n",
              "\n",
              "[1 rows x 27 columns]"
            ]
          },
          "metadata": {
            "tags": []
          },
          "execution_count": 20
        }
      ]
    },
    {
      "cell_type": "code",
      "metadata": {
        "id": "0f_MWDU0ANJN",
        "colab_type": "code",
        "outputId": "ea6e18dc-776c-47dc-efce-43ce4f5f997d",
        "colab": {
          "base_uri": "https://localhost:8080/",
          "height": 199
        }
      },
      "source": [
        "#columns = ['{}_pct'.format(i) for i in range(1,11)]\n",
        "columns = [f'{i}_pct' for i in range(1,11)]\n",
        "columns"
      ],
      "execution_count": 21,
      "outputs": [
        {
          "output_type": "execute_result",
          "data": {
            "text/plain": [
              "['1_pct',\n",
              " '2_pct',\n",
              " '3_pct',\n",
              " '4_pct',\n",
              " '5_pct',\n",
              " '6_pct',\n",
              " '7_pct',\n",
              " '8_pct',\n",
              " '9_pct',\n",
              " '10_pct']"
            ]
          },
          "metadata": {
            "tags": []
          },
          "execution_count": 21
        }
      ]
    },
    {
      "cell_type": "code",
      "metadata": {
        "id": "l6uOul3qA83m",
        "colab_type": "code",
        "outputId": "f29e3a9a-79df-474b-9c2c-141c575ef9e3",
        "colab": {
          "base_uri": "https://localhost:8080/",
          "height": 363
        }
      },
      "source": [
        "data = final[columns]\n",
        "data = data.T\n",
        "data.index = range(1,11)\n",
        "data"
      ],
      "execution_count": 22,
      "outputs": [
        {
          "output_type": "execute_result",
          "data": {
            "text/html": [
              "<div>\n",
              "<style scoped>\n",
              "    .dataframe tbody tr th:only-of-type {\n",
              "        vertical-align: middle;\n",
              "    }\n",
              "\n",
              "    .dataframe tbody tr th {\n",
              "        vertical-align: top;\n",
              "    }\n",
              "\n",
              "    .dataframe thead th {\n",
              "        text-align: right;\n",
              "    }\n",
              "</style>\n",
              "<table border=\"1\" class=\"dataframe\">\n",
              "  <thead>\n",
              "    <tr style=\"text-align: right;\">\n",
              "      <th></th>\n",
              "      <th>80052</th>\n",
              "    </tr>\n",
              "  </thead>\n",
              "  <tbody>\n",
              "    <tr>\n",
              "      <th>1</th>\n",
              "      <td>38.4</td>\n",
              "    </tr>\n",
              "    <tr>\n",
              "      <th>2</th>\n",
              "      <td>2.6</td>\n",
              "    </tr>\n",
              "    <tr>\n",
              "      <th>3</th>\n",
              "      <td>1.4</td>\n",
              "    </tr>\n",
              "    <tr>\n",
              "      <th>4</th>\n",
              "      <td>0.9</td>\n",
              "    </tr>\n",
              "    <tr>\n",
              "      <th>5</th>\n",
              "      <td>2.1</td>\n",
              "    </tr>\n",
              "    <tr>\n",
              "      <th>6</th>\n",
              "      <td>4.1</td>\n",
              "    </tr>\n",
              "    <tr>\n",
              "      <th>7</th>\n",
              "      <td>5.8</td>\n",
              "    </tr>\n",
              "    <tr>\n",
              "      <th>8</th>\n",
              "      <td>5.5</td>\n",
              "    </tr>\n",
              "    <tr>\n",
              "      <th>9</th>\n",
              "      <td>5.5</td>\n",
              "    </tr>\n",
              "    <tr>\n",
              "      <th>10</th>\n",
              "      <td>33.7</td>\n",
              "    </tr>\n",
              "  </tbody>\n",
              "</table>\n",
              "</div>"
            ],
            "text/plain": [
              "    80052\n",
              "1    38.4\n",
              "2     2.6\n",
              "3     1.4\n",
              "4     0.9\n",
              "5     2.1\n",
              "6     4.1\n",
              "7     5.8\n",
              "8     5.5\n",
              "9     5.5\n",
              "10   33.7"
            ]
          },
          "metadata": {
            "tags": []
          },
          "execution_count": 22
        }
      ]
    },
    {
      "cell_type": "code",
      "metadata": {
        "id": "nGX5XKtyBZXm",
        "colab_type": "code",
        "outputId": "b98b4925-100e-45bb-f87e-a6e4260dc9f6",
        "colab": {
          "base_uri": "https://localhost:8080/",
          "height": 367
        }
      },
      "source": [
        "import numpy as np\n",
        "\n",
        "plt.style.use('fivethirtyeight')\n",
        "\n",
        "data.plot.bar(color='C1', width=0.9, legend=False)\n",
        "\n",
        "plt.text(x=-1.5, y=50, fontsize=16, fontweight='bold',\n",
        "    s = \"'An Inconvenient Sequel: Truth to Power' is divisive\")\n",
        "plt.text(x=-1.5, y=46, fontsize=12,\n",
        "    s = \"IMDB Ratings for the film as of Aug 29\")\n",
        "\n",
        "plt.yticks(range(0,41, 10))\n",
        "\n",
        "plt.xlabel('Rating', fontsize=10, fontweight='bold')\n",
        "plt.ylabel('Percent of Total Votes', fontsize=10, fontweight='bold');"
      ],
      "execution_count": 23,
      "outputs": [
        {
          "output_type": "display_data",
          "data": {
            "image/png": "[encoded data removed]",
            "text/plain": [
              "<Figure size 432x288 with 1 Axes>"
            ]
          },
          "metadata": {
            "tags": []
          }
        }
      ]
    },
    {
      "cell_type": "markdown",
      "metadata": {
        "colab_type": "text",
        "id": "NMEswXWh9mqw"
      },
      "source": [
        "# ASSIGNMENT\n",
        "\n",
        "Replicate the lesson code. I recommend that you [do not copy-paste](https://docs.google.com/document/d/1ubOw9B3Hfip27hF2ZFnW3a3z9xAgrUDRReOEo-FHCVs/edit).\n",
        "\n",
        "# STRETCH OPTIONS\n",
        "\n",
        "#### 1) Reproduce another example from [FiveThityEight's shared data repository](https://data.fivethirtyeight.com/).\n",
        "\n",
        "#### 2) Reproduce one of the following using a library other than Seaborn or Matplotlib.\n",
        "\n",
        "For example:\n",
        "- [thanksgiving-2015](https://fivethirtyeight.com/features/heres-what-your-part-of-america-eats-on-thanksgiving/) (try the [`altair`](https://altair-viz.github.io/gallery/index.html#maps) library)\n",
        "- [candy-power-ranking](https://fivethirtyeight.com/features/the-ultimate-halloween-candy-power-ranking/) (try the [`statsmodels`](https://www.statsmodels.org/stable/index.html) library)\n",
        "- or another example of your choice!\n",
        "\n",
        "#### 3) Make more charts!\n",
        "\n",
        "Choose a chart you want to make, from [Visual Vocabulary - Vega Edition](http://ft.com/vocabulary).\n",
        "\n",
        "Find the chart in an example gallery of a Python data visualization library:\n",
        "- [Seaborn](http://seaborn.pydata.org/examples/index.html)\n",
        "- [Altair](https://altair-viz.github.io/gallery/index.html)\n",
        "- [Matplotlib](https://matplotlib.org/gallery.html)\n",
        "- [Pandas](https://pandas.pydata.org/pandas-docs/stable/visualization.html)\n",
        "\n",
        "Reproduce the chart. [Optionally, try the \"Ben Franklin Method.\"](https://docs.google.com/document/d/1ubOw9B3Hfip27hF2ZFnW3a3z9xAgrUDRReOEo-FHCVs/edit) If you want, experiment and make changes.\n",
        "\n",
        "Take notes. Consider sharing your work with your cohort!\n",
        "\n",
        "\n",
        "\n",
        "\n",
        "\n",
        "\n",
        "\n"
      ]
    },
    {
      "cell_type": "code",
      "metadata": {
        "id": "zrg6w-P5MT_y",
        "colab_type": "code",
        "colab": {
          "base_uri": "https://localhost:8080/",
          "height": 199
        },
        "outputId": "d1842ecd-80f4-4e6e-b7f6-7139ec3f8efb"
      },
      "source": [
        "pip install praw"
      ],
      "execution_count": 24,
      "outputs": [
        {
          "output_type": "stream",
          "text": [
            "Requirement already satisfied: praw in /usr/local/lib/python3.6/dist-packages (6.3.1)\n",
            "Requirement already satisfied: websocket-client>=0.54.0 in /usr/local/lib/python3.6/dist-packages (from praw) (0.56.0)\n",
            "Requirement already satisfied: update-checker>=0.16 in /usr/local/lib/python3.6/dist-packages (from praw) (0.16)\n",
            "Requirement already satisfied: prawcore<2.0,>=1.0.1 in /usr/local/lib/python3.6/dist-packages (from praw) (1.0.1)\n",
            "Requirement already satisfied: six in /usr/local/lib/python3.6/dist-packages (from websocket-client>=0.54.0->praw) (1.12.0)\n",
            "Requirement already satisfied: requests>=2.3.0 in /usr/local/lib/python3.6/dist-packages (from update-checker>=0.16->praw) (2.21.0)\n",
            "Requirement already satisfied: chardet<3.1.0,>=3.0.2 in /usr/local/lib/python3.6/dist-packages (from requests>=2.3.0->update-checker>=0.16->praw) (3.0.4)\n",
            "Requirement already satisfied: certifi>=2017.4.17 in /usr/local/lib/python3.6/dist-packages (from requests>=2.3.0->update-checker>=0.16->praw) (2019.6.16)\n",
            "Requirement already satisfied: idna<2.9,>=2.5 in /usr/local/lib/python3.6/dist-packages (from requests>=2.3.0->update-checker>=0.16->praw) (2.8)\n",
            "Requirement already satisfied: urllib3<1.25,>=1.21.1 in /usr/local/lib/python3.6/dist-packages (from requests>=2.3.0->update-checker>=0.16->praw) (1.24.3)\n"
          ],
          "name": "stdout"
        }
      ]
    },
    {
      "cell_type": "code",
      "metadata": {
        "id": "3wKTCm03oEsS",
        "colab_type": "code",
        "colab": {}
      },
      "source": [
        "import datetime as dt\n",
        "import pandas as pd\n",
        "import praw\n",
        "\n",
        "fourteen_char = '9K9BpUVBzwl09w'\n",
        "secret_key = 'vMa3KDc4h1YTASPTTFIgniu7fD4'\n",
        "reddit_username = 'graphingthrowaway'\n",
        "reddit_password = 'thisisapassword'\n",
        "\n",
        "\n",
        "reddit = praw.Reddit(client_id=fourteen_char, \\\n",
        "                     client_secret=secret_key, \\\n",
        "                     user_agent='data_getter', \\\n",
        "                     username=reddit_username, \\\n",
        "                     password=reddit_password)\n",
        "\n",
        "\n",
        "top_topics = reddit.subreddit('dataisbeautiful').top(limit=100)\n",
        "\n",
        "topic_dict = {\"Title\": [],\n",
        "              \"Author\": [],\n",
        "              \"Score\": [], \n",
        "              \"Id\":[], \n",
        "              \"Url\": [], \n",
        "              \"Created\": []}\n",
        "\n",
        "\n",
        "#goes through and adds information to the values in the topic_dict dictionary\n",
        "for submission in top_topics:\n",
        "    topic_dict['Title'].append(submission.title)\n",
        "    topic_dict['Author'].append(str(submission.author))\n",
        "    topic_dict['Score'].append(submission.score)\n",
        "    topic_dict['Id'].append(submission.id)\n",
        "    topic_dict['Url'].append(submission.url)\n",
        "    topic_dict['Created'].append(submission.created_utc)\n",
        "    \n",
        "#creates dataframe from dict\n",
        "df = pd.DataFrame.from_dict(topic_dict, orient='columns')\n",
        "\n",
        "#fixes timestamp issues\n",
        "def get_date(created):\n",
        "    return dt.datetime.fromtimestamp(created).strftime(\"%Y-%m-%d %H:%M:%S\")\n",
        "\n",
        "df[\"Created\"] = df[\"Created\"].apply(get_date)\n",
        "#turns the timestamps into datetime dtypes\n",
        "df[\"Created\"] = pd.to_datetime(df[\"Created\"])\n"
      ],
      "execution_count": 0,
      "outputs": []
    },
    {
      "cell_type": "code",
      "metadata": {
        "id": "SP2EQhHIbsQX",
        "colab_type": "code",
        "colab": {
          "base_uri": "https://localhost:8080/",
          "height": 206
        },
        "outputId": "71207ba0-c824-436c-cb72-23fa2190ca44"
      },
      "source": [
        "df.head()"
      ],
      "execution_count": 26,
      "outputs": [
        {
          "output_type": "execute_result",
          "data": {
            "text/html": [
              "<div>\n",
              "<style scoped>\n",
              "    .dataframe tbody tr th:only-of-type {\n",
              "        vertical-align: middle;\n",
              "    }\n",
              "\n",
              "    .dataframe tbody tr th {\n",
              "        vertical-align: top;\n",
              "    }\n",
              "\n",
              "    .dataframe thead th {\n",
              "        text-align: right;\n",
              "    }\n",
              "</style>\n",
              "<table border=\"1\" class=\"dataframe\">\n",
              "  <thead>\n",
              "    <tr style=\"text-align: right;\">\n",
              "      <th></th>\n",
              "      <th>Title</th>\n",
              "      <th>Author</th>\n",
              "      <th>Score</th>\n",
              "      <th>Id</th>\n",
              "      <th>Url</th>\n",
              "      <th>Created</th>\n",
              "    </tr>\n",
              "  </thead>\n",
              "  <tbody>\n",
              "    <tr>\n",
              "      <th>0</th>\n",
              "      <td>Let's hear it for the lurkers! The vast majori...</td>\n",
              "      <td>TrueBirch</td>\n",
              "      <td>108359</td>\n",
              "      <td>b5f9wi</td>\n",
              "      <td>https://i.redd.it/2731jdr3ibo21.png</td>\n",
              "      <td>2019-03-25 19:37:10</td>\n",
              "    </tr>\n",
              "    <tr>\n",
              "      <th>1</th>\n",
              "      <td>Cause of Death - Reality vs. Google vs. Media ...</td>\n",
              "      <td>aaronpenne</td>\n",
              "      <td>101452</td>\n",
              "      <td>8cwcbu</td>\n",
              "      <td>https://i.imgur.com/GtIzEok.gif</td>\n",
              "      <td>2018-04-17 13:02:52</td>\n",
              "    </tr>\n",
              "    <tr>\n",
              "      <th>2</th>\n",
              "      <td>Gaze and foot placement when walking over roug...</td>\n",
              "      <td>sandusky_hohoho</td>\n",
              "      <td>99613</td>\n",
              "      <td>8bzdr8</td>\n",
              "      <td>https://v.redd.it/h0f0m4v5nor01</td>\n",
              "      <td>2018-04-13 14:03:14</td>\n",
              "    </tr>\n",
              "    <tr>\n",
              "      <th>3</th>\n",
              "      <td>11 different brands of AA batteries, tested in...</td>\n",
              "      <td>thecrispiestbacon</td>\n",
              "      <td>84420</td>\n",
              "      <td>855y7m</td>\n",
              "      <td>https://i.redd.it/aiuv4unoedm01.jpg</td>\n",
              "      <td>2018-03-17 19:13:26</td>\n",
              "    </tr>\n",
              "    <tr>\n",
              "      <th>4</th>\n",
              "      <td>The City is Alive: The Population of Manhattan...</td>\n",
              "      <td>citrusvanilla</td>\n",
              "      <td>76723</td>\n",
              "      <td>8hys9k</td>\n",
              "      <td>https://i.redd.it/gbc2fc9l5ow01.gif</td>\n",
              "      <td>2018-05-08 17:57:11</td>\n",
              "    </tr>\n",
              "  </tbody>\n",
              "</table>\n",
              "</div>"
            ],
            "text/plain": [
              "                                               Title  ...             Created\n",
              "0  Let's hear it for the lurkers! The vast majori...  ... 2019-03-25 19:37:10\n",
              "1  Cause of Death - Reality vs. Google vs. Media ...  ... 2018-04-17 13:02:52\n",
              "2  Gaze and foot placement when walking over roug...  ... 2018-04-13 14:03:14\n",
              "3  11 different brands of AA batteries, tested in...  ... 2018-03-17 19:13:26\n",
              "4  The City is Alive: The Population of Manhattan...  ... 2018-05-08 17:57:11\n",
              "\n",
              "[5 rows x 6 columns]"
            ]
          },
          "metadata": {
            "tags": []
          },
          "execution_count": 26
        }
      ]
    },
    {
      "cell_type": "code",
      "metadata": {
        "id": "QhK00UDcjzHT",
        "colab_type": "code",
        "colab": {
          "base_uri": "https://localhost:8080/",
          "height": 35
        },
        "outputId": "0a3c9c81-2a50-4b61-d7b7-94dd1cd3083c"
      },
      "source": [
        "df['Created'].dtypes"
      ],
      "execution_count": 27,
      "outputs": [
        {
          "output_type": "execute_result",
          "data": {
            "text/plain": [
              "dtype('<M8[ns]')"
            ]
          },
          "metadata": {
            "tags": []
          },
          "execution_count": 27
        }
      ]
    },
    {
      "cell_type": "code",
      "metadata": {
        "id": "hRYLGnuBShWa",
        "colab_type": "code",
        "colab": {
          "base_uri": "https://localhost:8080/",
          "height": 126
        },
        "outputId": "de53dc9b-ef5b-4cc4-eba1-3cf2bd31334f"
      },
      "source": [
        "#things of interest: Tjukanov and datashown have had 3 of the top 100 posts\n",
        "df['Author'].value_counts().head()"
      ],
      "execution_count": 28,
      "outputs": [
        {
          "output_type": "execute_result",
          "data": {
            "text/plain": [
              "datashown      3\n",
              "Tjukanov       3\n",
              "Geographist    2\n",
              "neilrkaye      2\n",
              "labtec901      1\n",
              "Name: Author, dtype: int64"
            ]
          },
          "metadata": {
            "tags": []
          },
          "execution_count": 28
        }
      ]
    },
    {
      "cell_type": "code",
      "metadata": {
        "id": "tOIlayVEfQgA",
        "colab_type": "code",
        "colab": {
          "base_uri": "https://localhost:8080/",
          "height": 368
        },
        "outputId": "cabf046c-064d-423c-c547-25a68a2c4d2b"
      },
      "source": [
        "import altair as alt\n",
        "\n",
        "source = df\n",
        "\n",
        "dib_chart = alt.Chart(source).mark_circle(size=60).encode(\n",
        "    x='Created',\n",
        "    y='Score',\n",
        "    href='Url',\n",
        "    color=alt.Color('Author', legend=None),\n",
        "    tooltip=['Title', 'Author', 'Url', 'Created', 'Score']).interactive()\n",
        "\n",
        "dib_chart.save('dib_chart.html')\n",
        "\n",
        "dib_chart"
      ],
      "execution_count": 41,
      "outputs": [
        {
          "output_type": "execute_result",
          "data": {
            "text/plain": [
              "Chart({\n",
              "  data:                                                 Title  ...             Created\n",
              "  0   Let's hear it for the lurkers! The vast majori...  ... 2019-03-25 19:37:10\n",
              "  1   Cause of Death - Reality vs. Google vs. Media ...  ... 2018-04-17 13:02:52\n",
              "  2   Gaze and foot placement when walking over roug...  ... 2018-04-13 14:03:14\n",
              "  3   11 different brands of AA batteries, tested in...  ... 2018-03-17 19:13:26\n",
              "  4   The City is Alive: The Population of Manhattan...  ... 2018-05-08 17:57:11\n",
              "  5   Paths of 800 unmanned bicycles being pushed un...  ... 2018-01-22 19:59:01\n",
              "  6   Pornhub traffic in Hawaii during the \"missile ...  ... 2018-01-17 20:55:45\n",
              "  7   Berlin Subway Map compared to it's real geogra...  ... 2017-05-15 13:32:13\n",
              "  8   People killed in terrorist attacks in 2017: Eu...  ... 2017-10-25 08:05:03\n",
              "  9   Optimal routes from the geographic center of t...  ... 2018-01-12 13:47:47\n",
              "  10  Heatmap of numbers found at the end of Reddit ...  ... 2018-01-23 14:55:17\n",
              "  11                         Gaussian distribution [OC]  ... 2018-01-06 18:55:19\n",
              "  12  Cardiac Related Deaths During 2013 in the Cont...  ... 2017-11-17 20:15:45\n",
              "  13  My daughters sleeping patterns for the first 4...  ... 2016-12-30 12:46:15\n",
              "  14                                [OC] \"My eyes hurt\"  ... 2017-08-22 03:06:35\n",
              "  15               Average flag colour by latitude [OC]  ... 2018-06-16 00:18:04\n",
              "  16         Every Single Hour Of My 2017 Recorded [OC]  ... 2017-12-31 14:18:03\n",
              "  17  Animating the Mercator projection to the true ...  ... 2018-10-12 13:57:04\n",
              "  18               [OC] Percent of Air Per Bag of Chips  ... 2018-07-06 18:17:17\n",
              "  19  Taylor Swift's Newfound Infatuation with Alcoh...  ... 2018-04-11 15:36:29\n",
              "  20                        My 500 days on OkCupid [OC]  ... 2018-01-07 14:54:47\n",
              "  21                               The Unit Circle [OC]  ... 2018-12-09 13:38:10\n",
              "  22                        Double pendulum motion [OC]  ... 2018-02-04 16:07:36\n",
              "  23             Population distribution in Canada [OC]  ... 2018-06-08 19:51:02\n",
              "  24  Ratio of land and sea at different latitudes [OC]  ... 2018-11-30 13:47:12\n",
              "  25  [OC] I've secretly been keeping track of my co...  ... 2017-08-02 11:02:34\n",
              "  26                      Chance of Death per Year [OC]  ... 2018-01-31 12:14:12\n",
              "  27         100 years of hurricane paths animated [OC]  ... 2017-09-04 14:01:18\n",
              "  28  Searches for International Men's Day peak ever...  ... 2018-03-08 09:54:42\n",
              "  29  Combined faces of top 500 professional golfers...  ... 2017-10-03 15:46:53\n",
              "  ..                                                ...  ...                 ...\n",
              "  70       100 Historic Lives, through the decades [OC]  ... 2018-11-21 13:39:52\n",
              "  71                   Here's How America Uses Its Land  ... 2018-07-31 13:03:24\n",
              "  72  Age Distribution for the 10 Largest Countries ...  ... 2017-09-22 13:25:26\n",
              "  73   USA vs. Russia Arms Sales from 1950 to 2017 [OC]  ... 2018-08-27 13:24:32\n",
              "  74  \"Fuuuuck\", orthographic repetition on Twitter ...  ... 2017-08-05 00:52:15\n",
              "  75    Countries with the Largest Defense Budgets [OC]  ... 2017-03-01 12:48:59\n",
              "  76  You're as likely to get a job interview meetin...  ... 2018-11-27 14:05:40\n",
              "  77                          [OC] My 28 Days on Tinder  ... 2018-03-12 09:56:16\n",
              "  78    Top 10 downvoted comments, adjusted for EA [OC]  ... 2017-11-14 09:35:54\n",
              "  79  Heat Map of 1,058,383 Basketball Shots from NC...  ... 2018-03-09 16:04:03\n",
              "  80  61% of \"Entry-Level\" Jobs Require 3+ Years of ...  ... 2018-03-28 14:01:38\n",
              "  81  Timelapse of Hurricane Irma predictions vs act...  ... 2017-09-09 09:48:20\n",
              "  82  Netflix Employees Are Happier With Their Job T...  ... 2017-11-03 13:27:20\n",
              "  83  Internetspeed me and my roommates pay and what...  ... 2018-01-15 16:24:50\n",
              "  84  Daily charted my weight loss of 100 lbs over 1...  ... 2018-02-07 16:53:58\n",
              "  85  In his first 10 months, Trump told nearly six ...  ... 2017-12-14 17:44:50\n",
              "  86               [OC] Film Genre Popularity 1910-2018  ... 2019-01-15 13:02:27\n",
              "  87  1% of all communities initiate 74% of all conf...  ... 2018-03-19 05:35:51\n",
              "  88  ~80% of the 50 largest public companies are co...  ... 2018-07-26 15:40:51\n",
              "  89  The r/place canvas where every pixel's color i...  ... 2018-11-13 18:07:50\n",
              "  90  Right now a Texas-sized expanse of sea ice is ...  ... 2018-05-03 12:56:25\n",
              "  91  America’s new tobacco crisis: The rich stopped...  ... 2017-06-16 12:05:38\n",
              "  92  My heart rate watching my SO leave the country...  ... 2018-06-12 22:15:24\n",
              "  93  Donald Trump paid 63% less for each electoral ...  ... 2016-11-09 12:44:22\n",
              "  94                       How Herd Immunity Works [OC]  ... 2017-02-20 20:46:08\n",
              "  95  Much of Canada and the upper midwest forecaste...  ... 2016-12-15 19:56:04\n",
              "  96             Top 50 Sites in the United States [OC]  ... 2017-04-29 19:36:14\n",
              "  97  Uses of the word \"Fuck\" in the r/soccer match ...  ... 2018-07-12 17:26:02\n",
              "  98                 My weight loss over 126 weeks [OC]  ... 2018-02-16 14:54:52\n",
              "  99  Ride-hailing apps are now 65% bigger than taxi...  ... 2018-03-14 13:36:36\n",
              "  \n",
              "  [100 rows x 6 columns],\n",
              "  encoding: FacetedEncoding({\n",
              "    color: Color({\n",
              "      field: 'Author',\n",
              "      legend: None,\n",
              "      type: 'nominal'\n",
              "    }),\n",
              "    href: Href({\n",
              "      field: 'Url',\n",
              "      type: 'nominal'\n",
              "    }),\n",
              "    tooltip: [Tooltip({\n",
              "      field: 'Title',\n",
              "      type: 'nominal'\n",
              "    }), Tooltip({\n",
              "      field: 'Author',\n",
              "      type: 'nominal'\n",
              "    }), Tooltip({\n",
              "      field: 'Url',\n",
              "      type: 'nominal'\n",
              "    }), Tooltip({\n",
              "      field: 'Created',\n",
              "      type: 'temporal'\n",
              "    }), Tooltip({\n",
              "      field: 'Score',\n",
              "      type: 'quantitative'\n",
              "    })],\n",
              "    x: X({\n",
              "      field: 'Created',\n",
              "      type: 'temporal'\n",
              "    }),\n",
              "    y: Y({\n",
              "      field: 'Score',\n",
              "      type: 'quantitative'\n",
              "    })\n",
              "  }),\n",
              "  mark: MarkDef({\n",
              "    size: 60,\n",
              "    type: 'circle'\n",
              "  }),\n",
              "  selection: {'selector012': SelectionDef({\n",
              "    bind: 'scales',\n",
              "    encodings: ['x', 'y'],\n",
              "    type: 'interval'\n",
              "  })}\n",
              "})"
            ],
            "text/html": [
              "<!DOCTYPE html>\n",
              "<html>\n",
              "<head>\n",
              "  <style>\n",
              "    .vega-actions a {\n",
              "        margin-right: 12px;\n",
              "        color: #757575;\n",
              "        font-weight: normal;\n",
              "        font-size: 13px;\n",
              "    }\n",
              "    .error {\n",
              "        color: red;\n",
              "    }\n",
              "  </style>\n",
              "  <script type=\"text/javascript\" src=\"https://cdn.jsdelivr.net/npm//vega@5\"></script>\n",
              "  <script type=\"text/javascript\" src=\"https://cdn.jsdelivr.net/npm//vega-lite@3.3.0\"></script>\n",
              "  <script type=\"text/javascript\" src=\"https://cdn.jsdelivr.net/npm//vega-embed@4\"></script>\n",
              "</head>\n",
              "<body>\n",
              "  <div id=\"altair-viz\"></div>\n",
              "  <script>\n",
              "      var spec = {\"config\": {\"view\": {\"width\": 400, \"height\": 300}, \"mark\": {\"tooltip\": null}}, \"data\": {\"name\": \"data-52aeda125b2d4f5f31eeecdedf6a3f74\"}, \"mark\": {\"type\": \"circle\", \"size\": 60}, \"encoding\": {\"color\": {\"type\": \"nominal\", \"field\": \"Author\", \"legend\": null}, \"href\": {\"type\": \"nominal\", \"field\": \"Url\"}, \"tooltip\": [{\"type\": \"nominal\", \"field\": \"Title\"}, {\"type\": \"nominal\", \"field\": \"Author\"}, {\"type\": \"nominal\", \"field\": \"Url\"}, {\"type\": \"temporal\", \"field\": \"Created\"}, {\"type\": \"quantitative\", \"field\": \"Score\"}], \"x\": {\"type\": \"temporal\", \"field\": \"Created\"}, \"y\": {\"type\": \"quantitative\", \"field\": \"Score\"}}, \"selection\": {\"selector012\": {\"type\": \"interval\", \"bind\": \"scales\", \"encodings\": [\"x\", \"y\"]}}, \"$schema\": \"https://vega.github.io/schema/vega-lite/v3.3.0.json\", \"datasets\": {\"data-52aeda125b2d4f5f31eeecdedf6a3f74\": [{\"Title\": \"Let's hear it for the lurkers! The vast majority of Reddit users don't post or comment. [OC]\", \"Author\": \"TrueBirch\", \"Score\": 108359, \"Id\": \"b5f9wi\", \"Url\": \"https://i.redd.it/2731jdr3ibo21.png\", \"Created\": \"2019-03-25T19:37:10\"}, {\"Title\": \"Cause of Death - Reality vs. Google vs. Media [OC]\", \"Author\": \"aaronpenne\", \"Score\": 101452, \"Id\": \"8cwcbu\", \"Url\": \"https://i.imgur.com/GtIzEok.gif\", \"Created\": \"2018-04-17T13:02:52\"}, {\"Title\": \"Gaze and foot placement when walking over rough terrain (article link in comments) [OC]\", \"Author\": \"sandusky_hohoho\", \"Score\": 99613, \"Id\": \"8bzdr8\", \"Url\": \"https://v.redd.it/h0f0m4v5nor01\", \"Created\": \"2018-04-13T14:03:14\"}, {\"Title\": \"11 different brands of AA batteries, tested in identical flashlights. [OC]\", \"Author\": \"thecrispiestbacon\", \"Score\": 84420, \"Id\": \"855y7m\", \"Url\": \"https://i.redd.it/aiuv4unoedm01.jpg\", \"Created\": \"2018-03-17T19:13:26\"}, {\"Title\": \"The City is Alive: The Population of Manhattan, Hour-by-Hour [OC]\", \"Author\": \"citrusvanilla\", \"Score\": 76723, \"Id\": \"8hys9k\", \"Url\": \"https://i.redd.it/gbc2fc9l5ow01.gif\", \"Created\": \"2018-05-08T17:57:11\"}, {\"Title\": \"Paths of 800 unmanned bicycles being pushed until they fall over\", \"Author\": \"comp615\", \"Score\": 73274, \"Id\": \"7s8hck\", \"Url\": \"https://i.redd.it/wzux1azjcob01.jpg\", \"Created\": \"2018-01-22T19:59:01\"}, {\"Title\": \"Pornhub traffic in Hawaii during the \\\"missile alert\\\"\", \"Author\": \"mrjeffj\", \"Score\": 68845, \"Id\": \"7r47jj\", \"Url\": \"https://www.pornhub.com/insights/hawaii-alert\", \"Created\": \"2018-01-17T20:55:45\"}, {\"Title\": \"Berlin Subway Map compared to it's real geography [OC]\", \"Author\": \"vinnivinnivinni\", \"Score\": 67394, \"Id\": \"6baefh\", \"Url\": \"https://i.redd.it/cfq4b4zx1oxy.gif\", \"Created\": \"2017-05-15T13:32:13\"}, {\"Title\": \"People killed in terrorist attacks in 2017: Europe (Blue) vs Africa (Red) [OC]\", \"Author\": \"valouhhh\", \"Score\": 65360, \"Id\": \"78m9yi\", \"Url\": \"https://i.redd.it/cri4u68xnxtz.png\", \"Created\": \"2017-10-25T08:05:03\"}, {\"Title\": \"Optimal routes from the geographic center of the U.S. to all counties [OC]\", \"Author\": \"Tjukanov\", \"Score\": 65003, \"Id\": \"7pwnub\", \"Url\": \"https://i.redd.it/l1olivgg5n901.png\", \"Created\": \"2018-01-12T13:47:47\"}, {\"Title\": \"Heatmap of numbers found at the end of Reddit usernames [OC]\", \"Author\": \"halfeatenscone\", \"Score\": 64408, \"Id\": \"7sewjx\", \"Url\": \"https://i.redd.it/h0t99e0iztb01.png\", \"Created\": \"2018-01-23T14:55:17\"}, {\"Title\": \"Gaussian distribution [OC]\", \"Author\": \"anvaka\", \"Score\": 59315, \"Id\": \"7ol3gy\", \"Url\": \"https://i.redd.it/t3v8bbuquh801.gif\", \"Created\": \"2018-01-06T18:55:19\"}, {\"Title\": \"Cardiac Related Deaths During 2013 in the Contiguous USA Compared to Waffle House Locations. (Follow up to previous post) [OC]\", \"Author\": \"DR-ROBERT-J\", \"Score\": 58816, \"Id\": \"7dnnng\", \"Url\": \"https://i.redd.it/kmzap2dmflyz.jpg\", \"Created\": \"2017-11-17T20:15:45\"}, {\"Title\": \"My daughters sleeping patterns for the first 4 months of her life. One continuous spiral starting on the inside when she was born, each revolution representing a single day. Midnight at the top (24 hour clock). [OC]\", \"Author\": \"andrew_elliott\", \"Score\": 57838, \"Id\": \"5l39mu\", \"Url\": \"https://i.reddituploads.com/10f961abe2744c90844287efdd75ba47?fit=max&h=1536&w=1536&s=f019986ae2343e243ed97811b9f500fe\", \"Created\": \"2016-12-30T12:46:15\"}, {\"Title\": \"[OC] \\\"My eyes hurt\\\"\", \"Author\": \"superpaow\", \"Score\": 57530, \"Id\": \"6v8a9m\", \"Url\": \"https://i.redd.it/5ybj7f4wg7hz.png\", \"Created\": \"2017-08-22T03:06:35\"}, {\"Title\": \"Average flag colour by latitude [OC]\", \"Author\": \"richieahb\", \"Score\": 57391, \"Id\": \"8rfnc0\", \"Url\": \"https://i.redd.it/c40ueynfa9411.png\", \"Created\": \"2018-06-16T00:18:04\"}, {\"Title\": \"Every Single Hour Of My 2017 Recorded [OC]\", \"Author\": \"Kewpit\", \"Score\": 57288, \"Id\": \"7n8ocd\", \"Url\": \"https://i.redd.it/9xcg84rdk9701.png\", \"Created\": \"2017-12-31T14:18:03\"}, {\"Title\": \"Animating the Mercator projection to the true size of each country in relation to all the others. [OC]\", \"Author\": \"neilrkaye\", \"Score\": 57145, \"Id\": \"9nkhkz\", \"Url\": \"https://i.redd.it/96ptbqzyfrr11.gif\", \"Created\": \"2018-10-12T13:57:04\"}, {\"Title\": \"[OC] Percent of Air Per Bag of Chips\", \"Author\": \"doughilarious\", \"Score\": 57083, \"Id\": \"8wmdyf\", \"Url\": \"https://i.redd.it/lhoxfqc6dd811.png\", \"Created\": \"2018-07-06T18:17:17\"}, {\"Title\": \"Taylor Swift's Newfound Infatuation with Alcohol [OC]\", \"Author\": \"waitingforgoodoh\", \"Score\": 56158, \"Id\": \"8bi05k\", \"Url\": \"https://i.redd.it/mghmxkg2uar01.png\", \"Created\": \"2018-04-11T15:36:29\"}, {\"Title\": \"My 500 days on OkCupid [OC]\", \"Author\": \"meatenigma\", \"Score\": 55376, \"Id\": \"7oqygb\", \"Url\": \"https://i.redd.it/y82lfr8xsn801.png\", \"Created\": \"2018-01-07T14:54:47\"}, {\"Title\": \"The Unit Circle [OC]\", \"Author\": \"mud_tug\", \"Score\": 54506, \"Id\": \"a4l0ta\", \"Url\": \"https://i.imgur.com/jbqK8MJ.gifv\", \"Created\": \"2018-12-09T13:38:10\"}, {\"Title\": \"Double pendulum motion [OC]\", \"Author\": \"miran1\", \"Score\": 53118, \"Id\": \"7v7jji\", \"Url\": \"https://gfycat.com/ScaredHeavenlyFulmar\", \"Created\": \"2018-02-04T16:07:36\"}, {\"Title\": \"Population distribution in Canada [OC]\", \"Author\": \"repliers_beware\", \"Score\": 52901, \"Id\": \"8pmzd7\", \"Url\": \"https://i.redd.it/sjbijiqb0u211.png\", \"Created\": \"2018-06-08T19:51:02\"}, {\"Title\": \"Ratio of land and sea at different latitudes [OC]\", \"Author\": \"neilrkaye\", \"Score\": 52802, \"Id\": \"a1sk0v\", \"Url\": \"https://i.redd.it/ap6cdid03h121.gif\", \"Created\": \"2018-11-30T13:47:12\"}, {\"Title\": \"[OC] I've secretly been keeping track of my coworkers Diet Coke consumption\", \"Author\": \"genoohh\", \"Score\": 52735, \"Id\": \"6r3ew4\", \"Url\": \"https://i.redd.it/3ezl9zjl3bdz.jpg\", \"Created\": \"2017-08-02T11:02:34\"}, {\"Title\": \"Chance of Death per Year [OC]\", \"Author\": \"maxandron\", \"Score\": 52726, \"Id\": \"7u9h3f\", \"Url\": \"https://i.redd.it/ov7izfo89ed01.png\", \"Created\": \"2018-01-31T12:14:12\"}, {\"Title\": \"100 years of hurricane paths animated [OC]\", \"Author\": \"Tjukanov\", \"Score\": 51546, \"Id\": \"6y0h2q\", \"Url\": \"https://i.redd.it/q0udc4wfhvjz.gif\", \"Created\": \"2017-09-04T14:01:18\"}, {\"Title\": \"Searches for International Men's Day peak every International Women's Day [OC]\", \"Author\": \"R1zzles\", \"Score\": 51142, \"Id\": \"82wdpk\", \"Url\": \"https://i.imgur.com/4fhbw2a.png\", \"Created\": \"2018-03-08T09:54:42\"}, {\"Title\": \"Combined faces of top 500 professional golfers [OC]\", \"Author\": \"osmutiar\", \"Score\": 50896, \"Id\": \"7418ti\", \"Url\": \"https://i.redd.it/1fmcaccrympz.png\", \"Created\": \"2017-10-03T15:46:53\"}, {\"Title\": \"Asking 100 people for a random number from 1 to 10 [OC]\", \"Author\": \"squarific\", \"Score\": 50795, \"Id\": \"889zik\", \"Url\": \"https://i.imgur.com/bCaheF1.png\", \"Created\": \"2018-03-30T12:31:55\"}, {\"Title\": \"[UPDATE] I created a movie database site that combines Rotten Tomatoes, IMDb, Letterboxd and Metacritic scores, with Netflix and Amazon Prime availability (Updated to include more Reddit suggested features) [OC]\", \"Author\": \"yombato\", \"Score\": 50526, \"Id\": \"6kzmi1\", \"Url\": \"https://www.cinesift.com\", \"Created\": \"2017-07-03T12:35:10\"}, {\"Title\": \"61% of \\u201cEntry-Level\\u201d Jobs Require 3+ Years of Experience\", \"Author\": \"talentworks\", \"Score\": 50193, \"Id\": \"9r9mqd\", \"Url\": \"https://talent.works/blog/2018/03/28/the-science-of-the-job-search-part-iii-61-of-entry-level-jobs-require-3-years-of-experience/\", \"Created\": \"2018-10-25T12:00:58\"}, {\"Title\": \"For 18 months i have been asking Redditors to PM why they downvoted me. These are their responses [OC]\", \"Author\": \"PM_WHY_YOU_DOWNVOTED\", \"Score\": 49485, \"Id\": \"8ugx38\", \"Url\": \"https://i.imgur.com/TyZSHwY.jpg\", \"Created\": \"2018-06-28T06:38:26\"}, {\"Title\": \"[OC] Crop to Cup. I grew coffee and drank it, made some notes.\", \"Author\": \"matholio\", \"Score\": 49165, \"Id\": \"7ez9lh\", \"Url\": \"https://i.redd.it/p5mp0xfpupzz.png\", \"Created\": \"2017-11-23T12:14:27\"}, {\"Title\": \"Density map of stars on national flags [OC]\", \"Author\": \"conspiracie\", \"Score\": 48778, \"Id\": \"91is49\", \"Url\": \"https://i.redd.it/qviunrko7xb11.png\", \"Created\": \"2018-07-24T16:14:16\"}, {\"Title\": \"Animated optimal routes from San Francisco to ~2000 locations in the U.S. [OC]\", \"Author\": \"Tjukanov\", \"Score\": 48744, \"Id\": \"6o7j58\", \"Url\": \"https://i.redd.it/i9fmp9brwiaz.gif\", \"Created\": \"2017-07-19T10:09:56\"}, {\"Title\": \"xkcd: Earth Temperature Timeline\", \"Author\": \"silspd\", \"Score\": 48738, \"Id\": \"52f7wv\", \"Url\": \"http://xkcd.com/1732/\", \"Created\": \"2016-09-12T16:31:49\"}, {\"Title\": \"Vegetation intensity throughout the year for Africa [OC]\", \"Author\": \"mikea0228\", \"Score\": 48385, \"Id\": \"80o1ah\", \"Url\": \"https://i.redd.it/sic5o8u1esi01.gif\", \"Created\": \"2018-02-27T17:02:44\"}, {\"Title\": \"Marijuana responsible for 0 overdose deaths while opioids killed more than 20,000 Americans[OC]\", \"Author\": \"profcyclist\", \"Score\": 48263, \"Id\": \"6dv1tj\", \"Url\": \"http://www.newsindata.com/drug-overdose-deaths\", \"Created\": \"2017-05-28T17:39:38\"}, {\"Title\": \"Remarkable map: Where can North Korea's missiles reach?\", \"Author\": \"laughlander\", \"Score\": 47633, \"Id\": \"76nuzd\", \"Url\": \"http://www.abc.net.au/news/2017-10-16/north-korea-missile-range-map/8880894\", \"Created\": \"2017-10-16T03:28:04\"}, {\"Title\": \"I made a chart showing the popular vote turnout in 2008, 2012 and 2016. Hillary didn't lose because the Republicans grew their base; she lost because the Democrats didn't come out to vote. [OC]\", \"Author\": \"dinoignacio\", \"Score\": 46961, \"Id\": \"5c5k4e\", \"Url\": \"http://imgur.com/TOGIbcP\", \"Created\": \"2016-11-10T02:58:12\"}, {\"Title\": \"What if every day, 1% of humans turned into turkeys and 1% of turkeys turned into humans [OC]\", \"Author\": \"SciviasKnows\", \"Score\": 46606, \"Id\": \"9iav3b\", \"Url\": \"https://i.redd.it/673wpipyb1o11.png\", \"Created\": \"2018-09-23T18:56:01\"}, {\"Title\": \"'The Office' Characters' Most Distinguishing Words [OC]\", \"Author\": \"RyBread7\", \"Score\": 45805, \"Id\": \"8a4gbr\", \"Url\": \"https://i.redd.it/3k2o82q966q01.png\", \"Created\": \"2018-04-05T23:00:12\"}, {\"Title\": \"6 months of job hunting, by city, until I finally landed a job! [OC]\", \"Author\": \"Soproudofyou\", \"Score\": 45190, \"Id\": \"866qcz\", \"Url\": \"https://i.redd.it/f9dlbkj557n01.png\", \"Created\": \"2018-03-21T22:57:31\"}, {\"Title\": \"Visualizing PI - Distribution of the first 1,000 digits [OC]\", \"Author\": \"datavizard\", \"Score\": 44999, \"Id\": \"72m86c\", \"Url\": \"https://i.redd.it/kx6btivup9oz.gif\", \"Created\": \"2017-09-26T18:09:44\"}, {\"Title\": \"All 153 Disses on Eminem's album Kamikaze Counted and Categorized [OC]\", \"Author\": \"theonlydjorkaeff1\", \"Score\": 44653, \"Id\": \"9cgesq\", \"Url\": \"https://i.redd.it/s4cy33iupwj11.png\", \"Created\": \"2018-09-02T23:07:51\"}, {\"Title\": \"What happens when you pull the plug on the Marianas Trench [OC]\", \"Author\": \"Vinnytsia\", \"Score\": 43666, \"Id\": \"7iyva3\", \"Url\": \"https://v.redd.it/dar32enz87301\", \"Created\": \"2017-12-11T02:07:53\"}, {\"Title\": \"One year of accumulation of crime in central Chicago [OC]\", \"Author\": \"labtec901\", \"Score\": 43656, \"Id\": \"84joxm\", \"Url\": \"https://v.redd.it/gukfrozdpul01\", \"Created\": \"2018-03-15T04:01:06\"}, {\"Title\": \"30 Years of Data Reveals the Ever-changing Course of the Padma River [OC]\", \"Author\": \"Geographist\", \"Score\": 43398, \"Id\": \"97ifg9\", \"Url\": \"https://i.redd.it/gipnws0hi9g11.gif\", \"Created\": \"2018-08-15T13:55:04\"}, {\"Title\": \"What my gross income of 60000\\u20ac/year is actually used on in Europe, Austria [OC]\", \"Author\": \"Critical_Thinking_\", \"Score\": 43359, \"Id\": \"7h2idb\", \"Url\": \"https://i.redd.it/nten51hfbi101.png\", \"Created\": \"2017-12-02T13:02:01\"}, {\"Title\": \"The most-upvoted comments in Reddit threads aren't good. They're just early [OC]\", \"Author\": \"llewellynjean\", \"Score\": 43191, \"Id\": \"64y44g\", \"Url\": \"https://i.redd.it/g3d1x1udi4ry.png\", \"Created\": \"2017-04-12T13:24:54\"}, {\"Title\": \"The fewest US counties you can remove to change the outcome of the 2016 Presidential Election [OC]\", \"Author\": \"JesusIsMyZoloft\", \"Score\": 42928, \"Id\": \"8nkvbs\", \"Url\": \"https://i.redd.it/bknhw09gj8111.png\", \"Created\": \"2018-05-31T18:36:19\"}, {\"Title\": \"How I Wrote My Master's Thesis [OC]\", \"Author\": \"coneyislandimgur\", \"Score\": 42209, \"Id\": \"7fdl2f\", \"Url\": \"https://i.redd.it/in6pjt6zh2001.png\", \"Created\": \"2017-11-25T06:44:25\"}, {\"Title\": \"Visualizing the human footprint [OC]\", \"Author\": \"Reldresal\", \"Score\": 41895, \"Id\": \"8vnjb4\", \"Url\": \"https://i.redd.it/xyg7gplbem711.jpg\", \"Created\": \"2018-07-02T23:58:34\"}, {\"Title\": \"Heart rate during layoff [OC]\", \"Author\": \"failian\", \"Score\": 41761, \"Id\": \"77equl\", \"Url\": \"https://i.imgur.com/8pCFRrP.jpg\", \"Created\": \"2017-10-19T14:31:27\"}, {\"Title\": \"Sorting algorithms visualized [OC]\", \"Author\": \"morolin\", \"Score\": 41710, \"Id\": \"78fywy\", \"Url\": \"https://imgur.com/gallery/voutF\", \"Created\": \"2017-10-24T14:10:05\"}, {\"Title\": \"Police killing rates in G7 members [OC]\", \"Author\": \"Udzu\", \"Score\": 41665, \"Id\": \"7swce8\", \"Url\": \"https://i.redd.it/8edh13r038c01.png\", \"Created\": \"2018-01-25T14:18:55\"}, {\"Title\": \"CO\\u2082 concentration and global mean temperature 1958 - present [OC]\", \"Author\": \"kevpluck\", \"Score\": 41517, \"Id\": \"7ch00f\", \"Url\": \"https://v.redd.it/xbqk3qbk5lxz\", \"Created\": \"2017-11-12T18:15:15\"}, {\"Title\": \"Songs have gotten louder over time [OC]\", \"Author\": \"cavedave\", \"Score\": 41387, \"Id\": \"88q0d1\", \"Url\": \"https://i.redd.it/ya5phdn91ap01.png\", \"Created\": \"2018-04-01T10:46:54\"}, {\"Title\": \"Passenger fatalities per billion passenger miles [OC]\", \"Author\": \"theimpossiblesalad\", \"Score\": 41359, \"Id\": \"bvz5ne\", \"Url\": \"https://i.redd.it/rviipp7czy131.jpg\", \"Created\": \"2019-06-02T16:27:44\"}, {\"Title\": \"My Netflix viewing statistics so far [OC]\", \"Author\": \"c00liu5\", \"Score\": 41224, \"Id\": \"8saxyk\", \"Url\": \"https://i.redd.it/515xd1wtxz411.png\", \"Created\": \"2018-06-19T17:55:54\"}, {\"Title\": \"I just finished paying off my student loan! \\ud83d\\udcc9\\ud83d\\udcb8\\ud83c\\udf89 [OC]\", \"Author\": \"TM87_1e17\", \"Score\": 41162, \"Id\": \"66vgwt\", \"Url\": \"https://i.redd.it/0cdgwv4i93ty.png\", \"Created\": \"2017-04-22T11:21:03\"}, {\"Title\": \"The difference between Men's and Women's pockets\", \"Author\": \"zonination\", \"Score\": 41124, \"Id\": \"cdwmb0\", \"Url\": \"https://pudding.cool/2018/08/pockets/\", \"Created\": \"2019-07-16T12:50:43\"}, {\"Title\": \"Are Pop Lyrics Getting More Repetitive?\", \"Author\": \"AllSparks\", \"Score\": 41113, \"Id\": \"6aqp9y\", \"Url\": \"https://pudding.cool/2017/05/song-repetition/\", \"Created\": \"2017-05-12T11:23:53\"}, {\"Title\": \"The economics of a typical cup of coffee [OC]\", \"Author\": \"chartr\", \"Score\": 40635, \"Id\": \"by5jbw\", \"Url\": \"https://i.redd.it/yh6fvavx53331.jpg\", \"Created\": \"2019-06-08T07:35:26\"}, {\"Title\": \"Just released a hockey game on Steam where you can pick your player number. Here are the results. [OC]\", \"Author\": \"SuperSans\", \"Score\": 40367, \"Id\": \"azhmnh\", \"Url\": \"https://i.redd.it/hmkm84jcmbl21.png\", \"Created\": \"2019-03-10T16:56:23\"}, {\"Title\": \"Donations to Senators from Telecom Industry [OC]\", \"Author\": \"datashown\", \"Score\": 40265, \"Id\": \"62ep42\", \"Url\": \"http://i.imgur.com/JwaUqz0.png\", \"Created\": \"2017-03-30T15:37:45\"}, {\"Title\": \"The Average Faces of 42 Different Subreddits [OC]\", \"Author\": \"BizCaus\", \"Score\": 40199, \"Id\": \"843zzy\", \"Url\": \"https://imgur.com/a/NWQCw\", \"Created\": \"2018-03-13T13:07:47\"}, {\"Title\": \"From Bill Gates on Twitter. 'For every $1 spent on childhood vaccines, you get $44 in benefits. You can\\u2019t beat that deal'. Source: WHO/UNICEF\", \"Author\": \"ar_604\", \"Score\": 40146, \"Id\": \"5ut8ye\", \"Url\": \"https://twitter.com/BillGates/status/832981503705546754\", \"Created\": \"2017-02-18T16:39:50\"}, {\"Title\": \"100 Historic Lives, through the decades [OC]\", \"Author\": \"ptgorman\", \"Score\": 40107, \"Id\": \"9z3aic\", \"Url\": \"https://i.redd.it/h07p3e84toz11.gif\", \"Created\": \"2018-11-21T13:39:52\"}, {\"Title\": \"Here's How America Uses Its Land\", \"Author\": \"ramdasviky\", \"Score\": 39685, \"Id\": \"93eadd\", \"Url\": \"https://www.bloomberg.com/graphics/2018-us-land-use/\", \"Created\": \"2018-07-31T13:03:24\"}, {\"Title\": \"Age Distribution for the 10 Largest Countries [OC]\", \"Author\": \"madewulf\", \"Score\": 39512, \"Id\": \"71qyhf\", \"Url\": \"https://i.redd.it/681viwphrfnz.gif\", \"Created\": \"2017-09-22T13:25:26\"}, {\"Title\": \"USA vs. Russia Arms Sales from 1950 to 2017 [OC]\", \"Author\": \"transitmapper\", \"Score\": 39374, \"Id\": \"9aowbq\", \"Url\": \"https://vimeo.com/286751571\", \"Created\": \"2018-08-27T13:24:32\"}, {\"Title\": \"\\\"Fuuuuck\\\", orthographic repetition on Twitter [OC]\", \"Author\": \"cosmic_dozen\", \"Score\": 39295, \"Id\": \"6rosek\", \"Url\": \"https://i.redd.it/tascd7j0ftdz.png\", \"Created\": \"2017-08-05T00:52:15\"}, {\"Title\": \"Countries with the Largest Defense Budgets [OC]\", \"Author\": \"datashown\", \"Score\": 39247, \"Id\": \"5wvj6d\", \"Url\": \"http://i.imgur.com/SJwm2Kg.png\", \"Created\": \"2017-03-01T12:48:59\"}, {\"Title\": \"You're as likely to get a job interview meeting 50% of job requirements as meeting 90% of them [OC]\", \"Author\": \"clairejaja\", \"Score\": 39168, \"Id\": \"a0v4rb\", \"Url\": \"https://talent.works/blog/2018/11/27/the-science-of-the-job-search-part-vii-you-only-need-50-of-job-requirements.png\", \"Created\": \"2018-11-27T14:05:40\"}, {\"Title\": \"[OC] My 28 Days on Tinder\", \"Author\": \"keongmanja\", \"Score\": 39141, \"Id\": \"83ttdq\", \"Url\": \"https://i.redd.it/0yd4yx222bl01.png\", \"Created\": \"2018-03-12T09:56:16\"}, {\"Title\": \"Top 10 downvoted comments, adjusted for EA [OC]\", \"Author\": \"Lord_Fubar\", \"Score\": 39092, \"Id\": \"7cujsc\", \"Url\": \"https://i.redd.it/cto38aynuwxz.jpg\", \"Created\": \"2017-11-14T09:35:54\"}, {\"Title\": \"Heat Map of 1,058,383 Basketball Shots from NCAA Games [OC]\", \"Author\": \"minimaxir\", \"Score\": 39054, \"Id\": \"837qnu\", \"Url\": \"https://i.redd.it/8tjefknwgrk01.png\", \"Created\": \"2018-03-09T16:04:03\"}, {\"Title\": \"61% of \\\"Entry-Level\\\" Jobs Require 3+ Years of Experience [OC]\", \"Author\": \"kushalc\", \"Score\": 38675, \"Id\": \"87s4ee\", \"Url\": \"https://talent.works/blog/2018/03/28/the-science-of-the-job-search-part-iii-61-of-entry-level-jobs-require-3-years-of-experience/\", \"Created\": \"2018-03-28T14:01:38\"}, {\"Title\": \"Timelapse of Hurricane Irma predictions vs actual path [OC]\", \"Author\": \"savagedata\", \"Score\": 38656, \"Id\": \"6z0w20\", \"Url\": \"https://i.redd.it/x5ir9dbnvtkz.gif\", \"Created\": \"2017-09-09T09:48:20\"}, {\"Title\": \"Netflix Employees Are Happier With Their Job Than Facebook or Google Employees.\", \"Author\": \"badIntro1624\", \"Score\": 38572, \"Id\": \"7ajcro\", \"Url\": \"https://www.inc.com/business-insider/tech-employees-anonymously-rate-companies-work-facebook-google-netflix-twitter.html\", \"Created\": \"2017-11-03T13:27:20\"}, {\"Title\": \"Internetspeed me and my roommates pay and what we receive [OC]\", \"Author\": \"Qomp\", \"Score\": 38154, \"Id\": \"7qkqa1\", \"Url\": \"https://i.redd.it/pxyuarw1c9a01.png\", \"Created\": \"2018-01-15T16:24:50\"}, {\"Title\": \"Daily charted my weight loss of 100 lbs over 11 months [OC]\", \"Author\": \"LePhantomLimb\", \"Score\": 38091, \"Id\": \"7vxh21\", \"Url\": \"https://i.redd.it/dolq4kg5mte01.jpg\", \"Created\": \"2018-02-07T16:53:58\"}, {\"Title\": \"In his first 10 months, Trump told nearly six times as many lies as Obama did on his entire presidency.\", \"Author\": \"mysticpears\", \"Score\": 37915, \"Id\": \"7jt7ke\", \"Url\": \"https://twitter.com/dleonhardt/status/941285840248037377\", \"Created\": \"2017-12-14T17:44:50\"}, {\"Title\": \"[OC] Film Genre Popularity 1910-2018\", \"Author\": \"BoMcCready\", \"Score\": 37904, \"Id\": \"ag89q3\", \"Url\": \"https://i.redd.it/nmlabtyx4la21.png\", \"Created\": \"2019-01-15T13:02:27\"}, {\"Title\": \"1% of all communities initiate 74% of all conflicts on Reddit\", \"Author\": \"alexisonfire04\", \"Score\": 37884, \"Id\": \"85h7m3\", \"Url\": \"https://snap.stanford.edu/conflict/\", \"Created\": \"2018-03-19T05:35:51\"}, {\"Title\": \"~80% of the 50 largest public companies are connected to one another through 1 or more shared board member(s) [OC]\", \"Author\": \"qwerty2020\", \"Score\": 37723, \"Id\": \"923c92\", \"Url\": \"https://i.redd.it/fl4ixlc4bbc11.png\", \"Created\": \"2018-07-26T15:40:51\"}, {\"Title\": \"The r/place canvas where every pixel's color is the average of all colors placed at that location [OC]\", \"Author\": \"ganondorf_the_grey\", \"Score\": 37680, \"Id\": \"9wrgds\", \"Url\": \"https://i.redd.it/wtg1ou9225y11.png\", \"Created\": \"2018-11-13T18:07:50\"}, {\"Title\": \"Right now a Texas-sized expanse of sea ice is missing from the Bering Sea. New record lows have been set for the past 80 days in a row [OC]\", \"Author\": \"Geographist\", \"Score\": 37645, \"Id\": \"8gq5gq\", \"Url\": \"https://v.redd.it/h0rgk7oy0nv01\", \"Created\": \"2018-05-03T12:56:25\"}, {\"Title\": \"America\\u2019s new tobacco crisis: The rich stopped smoking, the poor didn\\u2019t\", \"Author\": \"OverflowDs\", \"Score\": 37431, \"Id\": \"6hm3p8\", \"Url\": \"https://www.washingtonpost.com/national/americas-new-tobacco-crisis-the-rich-stopped-smoking-the-poor-didnt/2017/06/13/a63b42ba-4c8c-11e7-9669-250d0b15f83b_story.html?hpid=hp_rhp-top-table-main_stillsmoking-155am%3Ahomepage%2Fstory&utm_term=.d44f2305167e\", \"Created\": \"2017-06-16T12:05:38\"}, {\"Title\": \"My heart rate watching my SO leave the country [OC]\", \"Author\": \"yesitsindefinite\", \"Score\": 37403, \"Id\": \"8qn6sq\", \"Url\": \"https://i.imgur.com/btLTrlA.png\", \"Created\": \"2018-06-12T22:15:24\"}, {\"Title\": \"Donald Trump paid 63% less for each electoral vote than Hillary Clinton [OC]\", \"Author\": \"None\", \"Score\": 37247, \"Id\": \"5c0vdn\", \"Url\": \"https://i.redd.it/1an5yis0blwx.jpg\", \"Created\": \"2016-11-09T12:44:22\"}, {\"Title\": \"How Herd Immunity Works [OC]\", \"Author\": \"theotheredmund\", \"Score\": 37147, \"Id\": \"5v72fw\", \"Url\": \"http://imgur.com/a/8M7q8\", \"Created\": \"2017-02-20T20:46:08\"}, {\"Title\": \"Much of Canada and the upper midwest forecasted to be colder than Mars today [OC]\", \"Author\": \"rtphokie\", \"Score\": 37016, \"Id\": \"5ijoka\", \"Url\": \"https://i.redd.it/825087j0ds3y.png\", \"Created\": \"2016-12-15T19:56:04\"}, {\"Title\": \"Top 50 Sites in the United States [OC]\", \"Author\": \"datashown\", \"Score\": 36904, \"Id\": \"68b8kp\", \"Url\": \"https://i.redd.it/h9eopbyhojuy.png\", \"Created\": \"2017-04-29T19:36:14\"}, {\"Title\": \"Uses of the word \\\"Fuck\\\" in the r/soccer match thread during yesterdays game between England and Croatia. 3.86% of 40,888 comments used the word [OC]\", \"Author\": \"PieGeters\", \"Score\": 36670, \"Id\": \"8ybsr3\", \"Url\": \"https://i.redd.it/jjy7s72ixj911.png\", \"Created\": \"2018-07-12T17:26:02\"}, {\"Title\": \"My weight loss over 126 weeks [OC]\", \"Author\": \"Galendis\", \"Score\": 36590, \"Id\": \"7xz836\", \"Url\": \"https://i.redd.it/j8ul7c4j9lg01.png\", \"Created\": \"2018-02-16T14:54:52\"}, {\"Title\": \"Ride-hailing apps are now 65% bigger than taxis in New York City [OC]\", \"Author\": \"toddsnyderny\", \"Score\": 36243, \"Id\": \"84df5z\", \"Url\": \"https://i.redd.it/ts312jk8fql01.png\", \"Created\": \"2018-03-14T13:36:36\"}]}};\n",
              "      var embedOpt = {\"mode\": \"vega-lite\"};\n",
              "\n",
              "      function showError(el, error){\n",
              "          el.innerHTML = ('<div class=\"error\" style=\"color:red;\">'\n",
              "                          + '<p>JavaScript Error: ' + error.message + '</p>'\n",
              "                          + \"<p>This usually means there's a typo in your chart specification. \"\n",
              "                          + \"See the javascript console for the full traceback.</p>\"\n",
              "                          + '</div>');\n",
              "          throw error;\n",
              "      }\n",
              "      const el = document.getElementById('altair-viz');\n",
              "      vegaEmbed(\"#altair-viz\", spec, embedOpt)\n",
              "        .catch(error => showError(el, error));\n",
              "\n",
              "  </script>\n",
              "</body>\n",
              "</html>"
            ]
          },
          "metadata": {
            "tags": []
          },
          "execution_count": 41
        }
      ]
    }
  ]
}