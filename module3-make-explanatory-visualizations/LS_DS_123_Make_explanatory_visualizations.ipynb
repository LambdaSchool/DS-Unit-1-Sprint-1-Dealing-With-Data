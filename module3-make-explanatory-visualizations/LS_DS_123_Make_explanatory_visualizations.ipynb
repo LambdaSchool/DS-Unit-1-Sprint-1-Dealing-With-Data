{
  "nbformat": 4,
  "nbformat_minor": 0,
  "metadata": {
    "colab": {
      "name": "LS_DS_123_Make_explanatory_visualizations.ipynb",
      "version": "0.3.2",
      "provenance": [],
      "collapsed_sections": [],
      "include_colab_link": true
    },
    "kernelspec": {
      "display_name": "Python 3",
      "language": "python",
      "name": "python3"
    }
  },
  "cells": [
    {
      "cell_type": "markdown",
      "metadata": {
        "id": "view-in-github",
        "colab_type": "text"
      },
      "source": [
        "<a href=\"https://colab.research.google.com/github/ShreyasJothish/DS-Sprint-01-Dealing-With-Data/blob/master/module3-make-explanatory-visualizations/LS_DS_123_Make_explanatory_visualizations.ipynb\" target=\"_parent\"><img src=\"https://colab.research.google.com/assets/colab-badge.svg\" alt=\"Open In Colab\"/></a>"
      ]
    },
    {
      "metadata": {
        "id": "vwnZeuKfM7TO",
        "colab_type": "text"
      },
      "cell_type": "markdown",
      "source": [
        "_Lambda School Data Science_\n",
        "\n",
        "# Choose appropriate visualizations\n",
        "\n",
        "\n",
        "Recreate this [example by FiveThirtyEight:](https://fivethirtyeight.com/features/al-gores-new-movie-exposes-the-big-flaw-in-online-movie-ratings/)\n",
        "\n",
        "![](https://fivethirtyeight.com/wp-content/uploads/2017/09/mehtahickey-inconvenient-0830-1.png?w=575)\n",
        "\n",
        "Using this data:\n",
        "\n",
        "https://github.com/fivethirtyeight/data/tree/master/inconvenient-sequel\n",
        "\n",
        "### Stretch goals\n",
        "\n",
        "Recreate more examples from [FiveThityEight's shared data repository](https://data.fivethirtyeight.com/).\n",
        "\n",
        "For example:\n",
        "- [thanksgiving-2015](https://fivethirtyeight.com/features/heres-what-your-part-of-america-eats-on-thanksgiving/) ([`altair`](https://altair-viz.github.io/gallery/index.html#maps))\n",
        "- [candy-power-ranking](https://fivethirtyeight.com/features/the-ultimate-halloween-candy-power-ranking/) ([`statsmodels`](https://www.statsmodels.org/stable/index.html))"
      ]
    },
    {
      "metadata": {
        "id": "oRFTcx7Yu3Mx",
        "colab_type": "text"
      },
      "cell_type": "markdown",
      "source": [
        "# Trying to recreate \n",
        "**Fault Line No. 3:**\n",
        "\n",
        "Men vs. women"
      ]
    },
    {
      "metadata": {
        "id": "ZcKSqVjwM7TU",
        "colab_type": "code",
        "colab": {
          "base_uri": "https://localhost:8080/",
          "height": 392
        },
        "outputId": "81b2a152-c311-4d39-c572-7879f84231ce"
      },
      "cell_type": "code",
      "source": [
        "from IPython.display import display, Image\n",
        "\n",
        "url = 'https://fivethirtyeight.com/wp-content/uploads/2017/09/methahickey-inconvenient-0830-6.png?w=450'\n",
        "#example = Image(url=url,width=575) - width of image can be set here also.\n",
        "example = Image(url=url)\n",
        "\n",
        "display(example)"
      ],
      "execution_count": 1,
      "outputs": [
        {
          "output_type": "display_data",
          "data": {
            "text/html": [
              "<img src=\"https://fivethirtyeight.com/wp-content/uploads/2017/09/methahickey-inconvenient-0830-6.png?w=450\"/>"
            ],
            "text/plain": [
              "<IPython.core.display.Image object>"
            ]
          },
          "metadata": {
            "tags": []
          }
        }
      ]
    },
    {
      "metadata": {
        "id": "0B1PXJ-5vUEq",
        "colab_type": "code",
        "colab": {}
      },
      "cell_type": "code",
      "source": [
        "# Load and perform initial data validation\n",
        "import pandas as pd\n",
        "import numpy as np\n",
        "import seaborn as sns\n",
        "import matplotlib.pyplot as plt\n",
        "\n",
        "# Using raw URL from https://github.com/fivethirtyeight/data/tree/master/inconvenient-sequel\n",
        "df = pd.read_csv('https://raw.githubusercontent.com/fivethirtyeight/data/master/inconvenient-sequel/ratings.csv')"
      ],
      "execution_count": 0,
      "outputs": []
    },
    {
      "metadata": {
        "id": "oWAeL7KmwinY",
        "colab_type": "code",
        "colab": {
          "base_uri": "https://localhost:8080/",
          "height": 33
        },
        "outputId": "ddd698a9-dc34-4350-d4af-efcee31deb1c"
      },
      "cell_type": "code",
      "source": [
        "df.shape"
      ],
      "execution_count": 3,
      "outputs": [
        {
          "output_type": "execute_result",
          "data": {
            "text/plain": [
              "(80053, 27)"
            ]
          },
          "metadata": {
            "tags": []
          },
          "execution_count": 3
        }
      ]
    },
    {
      "metadata": {
        "id": "yCOhgrAQwuro",
        "colab_type": "code",
        "colab": {
          "base_uri": "https://localhost:8080/",
          "height": 485
        },
        "outputId": "73a0da93-f0d9-4725-cfea-6220706e7d42"
      },
      "cell_type": "code",
      "source": [
        "df.isnull().sum()"
      ],
      "execution_count": 4,
      "outputs": [
        {
          "output_type": "execute_result",
          "data": {
            "text/plain": [
              "timestamp      0\n",
              "respondents    0\n",
              "category       0\n",
              "link           0\n",
              "average        0\n",
              "mean           0\n",
              "median         0\n",
              "1_votes        0\n",
              "2_votes        0\n",
              "3_votes        0\n",
              "4_votes        0\n",
              "5_votes        0\n",
              "6_votes        0\n",
              "7_votes        0\n",
              "8_votes        0\n",
              "9_votes        0\n",
              "10_votes       0\n",
              "1_pct          0\n",
              "2_pct          0\n",
              "3_pct          0\n",
              "4_pct          0\n",
              "5_pct          0\n",
              "6_pct          0\n",
              "7_pct          0\n",
              "8_pct          0\n",
              "9_pct          0\n",
              "10_pct         0\n",
              "dtype: int64"
            ]
          },
          "metadata": {
            "tags": []
          },
          "execution_count": 4
        }
      ]
    },
    {
      "metadata": {
        "id": "6jPNAbZvwwj2",
        "colab_type": "code",
        "colab": {
          "base_uri": "https://localhost:8080/",
          "height": 306
        },
        "outputId": "832b944c-3b00-43b9-d76c-c4dc1c66a6cb"
      },
      "cell_type": "code",
      "source": [
        "pd.options.display.max_columns = None\n",
        "df.describe()"
      ],
      "execution_count": 5,
      "outputs": [
        {
          "output_type": "execute_result",
          "data": {
            "text/html": [
              "<div>\n",
              "<style scoped>\n",
              "    .dataframe tbody tr th:only-of-type {\n",
              "        vertical-align: middle;\n",
              "    }\n",
              "\n",
              "    .dataframe tbody tr th {\n",
              "        vertical-align: top;\n",
              "    }\n",
              "\n",
              "    .dataframe thead th {\n",
              "        text-align: right;\n",
              "    }\n",
              "</style>\n",
              "<table border=\"1\" class=\"dataframe\">\n",
              "  <thead>\n",
              "    <tr style=\"text-align: right;\">\n",
              "      <th></th>\n",
              "      <th>respondents</th>\n",
              "      <th>average</th>\n",
              "      <th>mean</th>\n",
              "      <th>median</th>\n",
              "      <th>1_votes</th>\n",
              "      <th>2_votes</th>\n",
              "      <th>3_votes</th>\n",
              "      <th>4_votes</th>\n",
              "      <th>5_votes</th>\n",
              "      <th>6_votes</th>\n",
              "      <th>7_votes</th>\n",
              "      <th>8_votes</th>\n",
              "      <th>9_votes</th>\n",
              "      <th>10_votes</th>\n",
              "      <th>1_pct</th>\n",
              "      <th>2_pct</th>\n",
              "      <th>3_pct</th>\n",
              "      <th>4_pct</th>\n",
              "      <th>5_pct</th>\n",
              "      <th>6_pct</th>\n",
              "      <th>7_pct</th>\n",
              "      <th>8_pct</th>\n",
              "      <th>9_pct</th>\n",
              "      <th>10_pct</th>\n",
              "    </tr>\n",
              "  </thead>\n",
              "  <tbody>\n",
              "    <tr>\n",
              "      <th>count</th>\n",
              "      <td>80053.000000</td>\n",
              "      <td>80053.000000</td>\n",
              "      <td>80053.000000</td>\n",
              "      <td>80053.000000</td>\n",
              "      <td>80053.000000</td>\n",
              "      <td>80053.000000</td>\n",
              "      <td>80053.000000</td>\n",
              "      <td>80053.000000</td>\n",
              "      <td>80053.000000</td>\n",
              "      <td>80053.000000</td>\n",
              "      <td>80053.000000</td>\n",
              "      <td>80053.000000</td>\n",
              "      <td>80053.000000</td>\n",
              "      <td>80053.000000</td>\n",
              "      <td>80053.000000</td>\n",
              "      <td>80053.000000</td>\n",
              "      <td>80053.000000</td>\n",
              "      <td>80053.000000</td>\n",
              "      <td>80053.000000</td>\n",
              "      <td>80053.000000</td>\n",
              "      <td>80053.000000</td>\n",
              "      <td>80053.000000</td>\n",
              "      <td>80053.000000</td>\n",
              "      <td>80053.000000</td>\n",
              "    </tr>\n",
              "    <tr>\n",
              "      <th>mean</th>\n",
              "      <td>403.390804</td>\n",
              "      <td>5.331478</td>\n",
              "      <td>5.676954</td>\n",
              "      <td>6.023047</td>\n",
              "      <td>159.455074</td>\n",
              "      <td>11.562103</td>\n",
              "      <td>6.996590</td>\n",
              "      <td>3.211722</td>\n",
              "      <td>7.797684</td>\n",
              "      <td>13.441620</td>\n",
              "      <td>18.832449</td>\n",
              "      <td>17.953256</td>\n",
              "      <td>22.565713</td>\n",
              "      <td>141.574594</td>\n",
              "      <td>37.344919</td>\n",
              "      <td>2.230901</td>\n",
              "      <td>1.726936</td>\n",
              "      <td>1.031519</td>\n",
              "      <td>3.169689</td>\n",
              "      <td>3.504594</td>\n",
              "      <td>4.780199</td>\n",
              "      <td>4.800859</td>\n",
              "      <td>5.978127</td>\n",
              "      <td>35.431905</td>\n",
              "    </tr>\n",
              "    <tr>\n",
              "      <th>std</th>\n",
              "      <td>544.977400</td>\n",
              "      <td>1.673279</td>\n",
              "      <td>1.602680</td>\n",
              "      <td>3.131885</td>\n",
              "      <td>227.154951</td>\n",
              "      <td>16.120869</td>\n",
              "      <td>8.964425</td>\n",
              "      <td>4.267118</td>\n",
              "      <td>10.633648</td>\n",
              "      <td>19.326537</td>\n",
              "      <td>26.799409</td>\n",
              "      <td>25.398818</td>\n",
              "      <td>28.591822</td>\n",
              "      <td>187.954673</td>\n",
              "      <td>20.080097</td>\n",
              "      <td>2.444295</td>\n",
              "      <td>1.620233</td>\n",
              "      <td>1.438929</td>\n",
              "      <td>3.903391</td>\n",
              "      <td>4.137329</td>\n",
              "      <td>3.798714</td>\n",
              "      <td>5.224808</td>\n",
              "      <td>5.759520</td>\n",
              "      <td>15.814088</td>\n",
              "    </tr>\n",
              "    <tr>\n",
              "      <th>min</th>\n",
              "      <td>1.000000</td>\n",
              "      <td>1.000000</td>\n",
              "      <td>1.000000</td>\n",
              "      <td>1.000000</td>\n",
              "      <td>0.000000</td>\n",
              "      <td>0.000000</td>\n",
              "      <td>0.000000</td>\n",
              "      <td>0.000000</td>\n",
              "      <td>0.000000</td>\n",
              "      <td>0.000000</td>\n",
              "      <td>0.000000</td>\n",
              "      <td>0.000000</td>\n",
              "      <td>0.000000</td>\n",
              "      <td>0.000000</td>\n",
              "      <td>0.000000</td>\n",
              "      <td>0.000000</td>\n",
              "      <td>0.000000</td>\n",
              "      <td>0.000000</td>\n",
              "      <td>0.000000</td>\n",
              "      <td>0.000000</td>\n",
              "      <td>0.000000</td>\n",
              "      <td>0.000000</td>\n",
              "      <td>0.000000</td>\n",
              "      <td>0.000000</td>\n",
              "    </tr>\n",
              "    <tr>\n",
              "      <th>25%</th>\n",
              "      <td>34.000000</td>\n",
              "      <td>4.300000</td>\n",
              "      <td>4.800000</td>\n",
              "      <td>3.000000</td>\n",
              "      <td>6.000000</td>\n",
              "      <td>0.000000</td>\n",
              "      <td>0.000000</td>\n",
              "      <td>0.000000</td>\n",
              "      <td>1.000000</td>\n",
              "      <td>1.000000</td>\n",
              "      <td>1.000000</td>\n",
              "      <td>2.000000</td>\n",
              "      <td>2.000000</td>\n",
              "      <td>6.000000</td>\n",
              "      <td>25.000000</td>\n",
              "      <td>0.000000</td>\n",
              "      <td>0.000000</td>\n",
              "      <td>0.000000</td>\n",
              "      <td>0.800000</td>\n",
              "      <td>1.200000</td>\n",
              "      <td>2.200000</td>\n",
              "      <td>2.600000</td>\n",
              "      <td>3.600000</td>\n",
              "      <td>26.300000</td>\n",
              "    </tr>\n",
              "    <tr>\n",
              "      <th>50%</th>\n",
              "      <td>244.000000</td>\n",
              "      <td>5.300000</td>\n",
              "      <td>5.500000</td>\n",
              "      <td>6.000000</td>\n",
              "      <td>81.000000</td>\n",
              "      <td>3.000000</td>\n",
              "      <td>4.000000</td>\n",
              "      <td>2.000000</td>\n",
              "      <td>4.000000</td>\n",
              "      <td>6.000000</td>\n",
              "      <td>8.000000</td>\n",
              "      <td>10.000000</td>\n",
              "      <td>16.000000</td>\n",
              "      <td>85.000000</td>\n",
              "      <td>38.600000</td>\n",
              "      <td>2.000000</td>\n",
              "      <td>1.500000</td>\n",
              "      <td>0.600000</td>\n",
              "      <td>1.700000</td>\n",
              "      <td>2.900000</td>\n",
              "      <td>4.200000</td>\n",
              "      <td>4.300000</td>\n",
              "      <td>5.300000</td>\n",
              "      <td>35.500000</td>\n",
              "    </tr>\n",
              "    <tr>\n",
              "      <th>75%</th>\n",
              "      <td>518.000000</td>\n",
              "      <td>6.500000</td>\n",
              "      <td>6.600000</td>\n",
              "      <td>9.000000</td>\n",
              "      <td>227.000000</td>\n",
              "      <td>20.000000</td>\n",
              "      <td>10.000000</td>\n",
              "      <td>5.000000</td>\n",
              "      <td>10.000000</td>\n",
              "      <td>19.000000</td>\n",
              "      <td>26.000000</td>\n",
              "      <td>24.000000</td>\n",
              "      <td>32.000000</td>\n",
              "      <td>188.000000</td>\n",
              "      <td>46.000000</td>\n",
              "      <td>3.200000</td>\n",
              "      <td>2.200000</td>\n",
              "      <td>1.400000</td>\n",
              "      <td>3.600000</td>\n",
              "      <td>4.300000</td>\n",
              "      <td>6.800000</td>\n",
              "      <td>5.300000</td>\n",
              "      <td>6.400000</td>\n",
              "      <td>45.100000</td>\n",
              "    </tr>\n",
              "    <tr>\n",
              "      <th>max</th>\n",
              "      <td>2662.000000</td>\n",
              "      <td>8.500000</td>\n",
              "      <td>8.600000</td>\n",
              "      <td>10.000000</td>\n",
              "      <td>1021.000000</td>\n",
              "      <td>69.000000</td>\n",
              "      <td>40.000000</td>\n",
              "      <td>25.000000</td>\n",
              "      <td>55.000000</td>\n",
              "      <td>110.000000</td>\n",
              "      <td>154.000000</td>\n",
              "      <td>147.000000</td>\n",
              "      <td>146.000000</td>\n",
              "      <td>897.000000</td>\n",
              "      <td>100.000000</td>\n",
              "      <td>10.300000</td>\n",
              "      <td>9.100000</td>\n",
              "      <td>8.600000</td>\n",
              "      <td>25.000000</td>\n",
              "      <td>50.000000</td>\n",
              "      <td>25.000000</td>\n",
              "      <td>28.600000</td>\n",
              "      <td>33.300000</td>\n",
              "      <td>82.800000</td>\n",
              "    </tr>\n",
              "  </tbody>\n",
              "</table>\n",
              "</div>"
            ],
            "text/plain": [
              "        respondents       average          mean        median       1_votes  \\\n",
              "count  80053.000000  80053.000000  80053.000000  80053.000000  80053.000000   \n",
              "mean     403.390804      5.331478      5.676954      6.023047    159.455074   \n",
              "std      544.977400      1.673279      1.602680      3.131885    227.154951   \n",
              "min        1.000000      1.000000      1.000000      1.000000      0.000000   \n",
              "25%       34.000000      4.300000      4.800000      3.000000      6.000000   \n",
              "50%      244.000000      5.300000      5.500000      6.000000     81.000000   \n",
              "75%      518.000000      6.500000      6.600000      9.000000    227.000000   \n",
              "max     2662.000000      8.500000      8.600000     10.000000   1021.000000   \n",
              "\n",
              "            2_votes       3_votes       4_votes       5_votes       6_votes  \\\n",
              "count  80053.000000  80053.000000  80053.000000  80053.000000  80053.000000   \n",
              "mean      11.562103      6.996590      3.211722      7.797684     13.441620   \n",
              "std       16.120869      8.964425      4.267118     10.633648     19.326537   \n",
              "min        0.000000      0.000000      0.000000      0.000000      0.000000   \n",
              "25%        0.000000      0.000000      0.000000      1.000000      1.000000   \n",
              "50%        3.000000      4.000000      2.000000      4.000000      6.000000   \n",
              "75%       20.000000     10.000000      5.000000     10.000000     19.000000   \n",
              "max       69.000000     40.000000     25.000000     55.000000    110.000000   \n",
              "\n",
              "            7_votes       8_votes       9_votes      10_votes         1_pct  \\\n",
              "count  80053.000000  80053.000000  80053.000000  80053.000000  80053.000000   \n",
              "mean      18.832449     17.953256     22.565713    141.574594     37.344919   \n",
              "std       26.799409     25.398818     28.591822    187.954673     20.080097   \n",
              "min        0.000000      0.000000      0.000000      0.000000      0.000000   \n",
              "25%        1.000000      2.000000      2.000000      6.000000     25.000000   \n",
              "50%        8.000000     10.000000     16.000000     85.000000     38.600000   \n",
              "75%       26.000000     24.000000     32.000000    188.000000     46.000000   \n",
              "max      154.000000    147.000000    146.000000    897.000000    100.000000   \n",
              "\n",
              "              2_pct         3_pct         4_pct         5_pct         6_pct  \\\n",
              "count  80053.000000  80053.000000  80053.000000  80053.000000  80053.000000   \n",
              "mean       2.230901      1.726936      1.031519      3.169689      3.504594   \n",
              "std        2.444295      1.620233      1.438929      3.903391      4.137329   \n",
              "min        0.000000      0.000000      0.000000      0.000000      0.000000   \n",
              "25%        0.000000      0.000000      0.000000      0.800000      1.200000   \n",
              "50%        2.000000      1.500000      0.600000      1.700000      2.900000   \n",
              "75%        3.200000      2.200000      1.400000      3.600000      4.300000   \n",
              "max       10.300000      9.100000      8.600000     25.000000     50.000000   \n",
              "\n",
              "              7_pct         8_pct         9_pct        10_pct  \n",
              "count  80053.000000  80053.000000  80053.000000  80053.000000  \n",
              "mean       4.780199      4.800859      5.978127     35.431905  \n",
              "std        3.798714      5.224808      5.759520     15.814088  \n",
              "min        0.000000      0.000000      0.000000      0.000000  \n",
              "25%        2.200000      2.600000      3.600000     26.300000  \n",
              "50%        4.200000      4.300000      5.300000     35.500000  \n",
              "75%        6.800000      5.300000      6.400000     45.100000  \n",
              "max       25.000000     28.600000     33.300000     82.800000  "
            ]
          },
          "metadata": {
            "tags": []
          },
          "execution_count": 5
        }
      ]
    },
    {
      "metadata": {
        "id": "Gb3yErXbw8wi",
        "colab_type": "code",
        "colab": {
          "base_uri": "https://localhost:8080/",
          "height": 166
        },
        "outputId": "bf965db7-447a-4f6e-ac43-f416f1e00ca2"
      },
      "cell_type": "code",
      "source": [
        "df.describe(exclude=[np.number])"
      ],
      "execution_count": 6,
      "outputs": [
        {
          "output_type": "execute_result",
          "data": {
            "text/html": [
              "<div>\n",
              "<style scoped>\n",
              "    .dataframe tbody tr th:only-of-type {\n",
              "        vertical-align: middle;\n",
              "    }\n",
              "\n",
              "    .dataframe tbody tr th {\n",
              "        vertical-align: top;\n",
              "    }\n",
              "\n",
              "    .dataframe thead th {\n",
              "        text-align: right;\n",
              "    }\n",
              "</style>\n",
              "<table border=\"1\" class=\"dataframe\">\n",
              "  <thead>\n",
              "    <tr style=\"text-align: right;\">\n",
              "      <th></th>\n",
              "      <th>timestamp</th>\n",
              "      <th>category</th>\n",
              "      <th>link</th>\n",
              "    </tr>\n",
              "  </thead>\n",
              "  <tbody>\n",
              "    <tr>\n",
              "      <th>count</th>\n",
              "      <td>80053</td>\n",
              "      <td>80053</td>\n",
              "      <td>80053</td>\n",
              "    </tr>\n",
              "    <tr>\n",
              "      <th>unique</th>\n",
              "      <td>80053</td>\n",
              "      <td>19</td>\n",
              "      <td>19</td>\n",
              "    </tr>\n",
              "    <tr>\n",
              "      <th>top</th>\n",
              "      <td>2017-08-07 23:10:02.967297</td>\n",
              "      <td>Aged 45+</td>\n",
              "      <td>http://www.imdb.com/title/tt6322922/ratings-male</td>\n",
              "    </tr>\n",
              "    <tr>\n",
              "      <th>freq</th>\n",
              "      <td>1</td>\n",
              "      <td>4216</td>\n",
              "      <td>4216</td>\n",
              "    </tr>\n",
              "  </tbody>\n",
              "</table>\n",
              "</div>"
            ],
            "text/plain": [
              "                         timestamp  category  \\\n",
              "count                        80053     80053   \n",
              "unique                       80053        19   \n",
              "top     2017-08-07 23:10:02.967297  Aged 45+   \n",
              "freq                             1      4216   \n",
              "\n",
              "                                                    link  \n",
              "count                                              80053  \n",
              "unique                                                19  \n",
              "top     http://www.imdb.com/title/tt6322922/ratings-male  \n",
              "freq                                                4216  "
            ]
          },
          "metadata": {
            "tags": []
          },
          "execution_count": 6
        }
      ]
    },
    {
      "metadata": {
        "id": "_Z2BT9S9z9kA",
        "colab_type": "code",
        "colab": {
          "base_uri": "https://localhost:8080/",
          "height": 100
        },
        "outputId": "a1513acd-8260-4f2f-8c39-64db4a2cdbc9"
      },
      "cell_type": "code",
      "source": [
        "df.timestamp.describe()"
      ],
      "execution_count": 7,
      "outputs": [
        {
          "output_type": "execute_result",
          "data": {
            "text/plain": [
              "count                          80053\n",
              "unique                         80053\n",
              "top       2017-08-07 23:10:02.967297\n",
              "freq                               1\n",
              "Name: timestamp, dtype: object"
            ]
          },
          "metadata": {
            "tags": []
          },
          "execution_count": 7
        }
      ]
    },
    {
      "metadata": {
        "id": "oWagHSP1yBhP",
        "colab_type": "code",
        "colab": {
          "base_uri": "https://localhost:8080/",
          "height": 134
        },
        "outputId": "ced7b196-866d-4e77-8364-df999a754091"
      },
      "cell_type": "code",
      "source": [
        "df.timestamp = pd.to_datetime(df.timestamp)\n",
        "df.timestamp.describe()"
      ],
      "execution_count": 8,
      "outputs": [
        {
          "output_type": "execute_result",
          "data": {
            "text/plain": [
              "count                          80053\n",
              "unique                         80053\n",
              "top       2017-07-24 23:00:02.760781\n",
              "freq                               1\n",
              "first     2017-07-17 12:28:32.785639\n",
              "last      2017-08-29 23:10:06.218251\n",
              "Name: timestamp, dtype: object"
            ]
          },
          "metadata": {
            "tags": []
          },
          "execution_count": 8
        }
      ]
    },
    {
      "metadata": {
        "id": "tgJNCNAlzdFi",
        "colab_type": "code",
        "colab": {}
      },
      "cell_type": "code",
      "source": [
        "df.set_index('timestamp', inplace=True)"
      ],
      "execution_count": 0,
      "outputs": []
    },
    {
      "metadata": {
        "id": "LLKkhQhmzpBk",
        "colab_type": "code",
        "colab": {
          "base_uri": "https://localhost:8080/",
          "height": 351
        },
        "outputId": "9afac667-cb96-43ab-80c6-2b8d19c88d22"
      },
      "cell_type": "code",
      "source": [
        "df.category.value_counts()"
      ],
      "execution_count": 10,
      "outputs": [
        {
          "output_type": "execute_result",
          "data": {
            "text/plain": [
              "Aged 45+              4216\n",
              "Aged 30-44            4216\n",
              "Females Aged 45+      4216\n",
              "Females               4216\n",
              "Aged under 18         4216\n",
              "IMDb staff            4216\n",
              "Males Aged 18-29      4216\n",
              "Aged 18-29            4216\n",
              "Males Aged 45+        4216\n",
              "US users              4216\n",
              "Females Aged 30-44    4216\n",
              "Males under 18        4216\n",
              "Females Aged 18-29    4216\n",
              "IMDb users            4216\n",
              "Top 1000 voters       4216\n",
              "Males Aged 30-44      4216\n",
              "Males                 4216\n",
              "Non-US users          4216\n",
              "Females under 18      4165\n",
              "Name: category, dtype: int64"
            ]
          },
          "metadata": {
            "tags": []
          },
          "execution_count": 10
        }
      ]
    },
    {
      "metadata": {
        "id": "2_YbR-SEzr4W",
        "colab_type": "code",
        "colab": {
          "base_uri": "https://localhost:8080/",
          "height": 392
        },
        "outputId": "ab0dd24f-2cfe-4a4f-ce44-c6d9b996f7b1"
      },
      "cell_type": "code",
      "source": [
        "display(example)"
      ],
      "execution_count": 11,
      "outputs": [
        {
          "output_type": "display_data",
          "data": {
            "text/html": [
              "<img src=\"https://fivethirtyeight.com/wp-content/uploads/2017/09/methahickey-inconvenient-0830-6.png?w=450\"/>"
            ],
            "text/plain": [
              "<IPython.core.display.Image object>"
            ]
          },
          "metadata": {
            "tags": []
          }
        }
      ]
    },
    {
      "metadata": {
        "id": "YwELyeSA1YNG",
        "colab_type": "code",
        "colab": {}
      },
      "cell_type": "code",
      "source": [
        "# To be checked on combining all the information in one go\n",
        "#df[df.category=='Males' or df.category=='Females']\n",
        "#df.category=='Males' or df.category=='Females'\n",
        "malesdf = df[df.category=='Males']\n",
        "femalesdf = df[df.category=='Females']"
      ],
      "execution_count": 0,
      "outputs": []
    },
    {
      "metadata": {
        "id": "R-WMcNdK3Efy",
        "colab_type": "code",
        "colab": {}
      },
      "cell_type": "code",
      "source": [
        "malesdf_total = malesdf['respondents']\n",
        "femalesdf_total = femalesdf['respondents']\n",
        "malesdf_1_of_10 = malesdf['1_votes']\n",
        "malesdf_10_of_10 = malesdf['10_votes']\n",
        "\n",
        "malesdf_2_to_9 = (malesdf['2_votes'] + malesdf['3_votes'] +  malesdf['4_votes']\n",
        "                 + malesdf['5_votes'] + malesdf['6_votes'] +  malesdf['7_votes']\n",
        "                 + malesdf['8_votes'] + malesdf['9_votes'])\n",
        "\n",
        "# To be checked on optimizing the above code for malesdf_2_to_9\n",
        "#values = ['{}_votes'.format(k) for k in range(2,10)]\n",
        "#print(values)\n",
        "#malesdf_2_to_9 = pd.pivot_table(malesdf,index=['respondents'],values=values,aggfunc=[np.sum])\n",
        "#print(malesdf_2_to_9)"
      ],
      "execution_count": 0,
      "outputs": []
    },
    {
      "metadata": {
        "id": "03T-HrPz3nQs",
        "colab_type": "code",
        "colab": {
          "base_uri": "https://localhost:8080/",
          "height": 356
        },
        "outputId": "9d4d9155-a455-4463-a3c3-d5dc4a00f73c"
      },
      "cell_type": "code",
      "source": [
        "import matplotlib.dates as mdates\n",
        "from matplotlib.dates import SU\n",
        "import datetime\n",
        "\n",
        "plt.style.use('fivethirtyeight')\n",
        "\n",
        "ax = malesdf_total.plot(color='#EC713B', linewidth=3)\n",
        "femalesdf_total.plot(color='blue', linewidth=2.5)\n",
        "malesdf_1_of_10.plot(color='#EC713B', linewidth=2)\n",
        "malesdf_10_of_10.plot(color='#EC713B', linewidth=2)\n",
        "malesdf_2_to_9.plot(color='#EC713B', linewidth=2)\n",
        "ax.set(yticks=range(0,2000,500))\n",
        "\n",
        "ax.text(x=datetime.date(2017,7,17), y=1950, \n",
        "        s=\"Men dominated Al Gore's IMDb movie rating\",\n",
        "        fontsize=16, fontweight='bold')\n",
        "ax.text(x=datetime.date(2017,7,17), y=1850, \n",
        "        s=\"Cumulative number of IMDb rating for an 'An Inconvenient Sequel' by gender and score\",\n",
        "        fontsize=12)\n",
        "ax.text(x=datetime.date(2017, 7, 17), y=1750, \n",
        "        s=\"gender and score, July 17 through Aug.29\",\n",
        "        fontsize=12)\n",
        "\n",
        "ax.text(x=datetime.date(2017, 8, 14), y=1300, \n",
        "        s=\"All ratings\",\n",
        "        fontsize=14, fontweight='bold', color='#EC713B')\n",
        "ax.text(x=datetime.date(2017, 8, 14), y=1200, \n",
        "        s=\"from men\",\n",
        "        fontsize=14, fontweight='bold', color='#EC713B')\n",
        "\n",
        "ax.text(x=datetime.date(2017, 8, 21), y=700, \n",
        "        s=\"1 out of 10 ratings\",\n",
        "        fontsize=12, color='#EC713B')\n",
        "\n",
        "ax.text(x=datetime.date(2017, 8, 24), y=550, \n",
        "        s=\"10 out of 10\",\n",
        "        fontsize=12, color='#EC713B')\n",
        "\n",
        "ax.text(x=datetime.date(2017, 8, 24), y=350, \n",
        "        s=\"2-9 out of 10\",\n",
        "        fontsize=12, color='#EC713B')\n",
        "\n",
        "ax.text(x=datetime.date(2017, 8, 14), y=100, \n",
        "        s=\"All ratings from women\",\n",
        "        fontsize=14, fontweight='bold', color='blue')\n",
        "\n",
        "# This didnot work to set limit on x axis.\n",
        "#ax.set_xticklabels(['7/23','7/30','8/6','8/13','8/20','8/27'])\n",
        "#ax.xaxis.set_data_interval(datetime.date(2017,7,17))\n",
        "#print(\"ax.xaxis.get_data_interval\",ax.xaxis.get_data_interval())\n",
        "\n",
        "ax.set_xlim([datetime.date(2017, 7, 17), datetime.date(2017, 8, 30)])\n",
        "ax.xaxis.set_major_locator(mdates.WeekdayLocator(byweekday=SU))\n",
        "ax.xaxis.set_major_formatter(mdates.DateFormatter('%m/%d'))\n",
        "ax.tick_params(labelrotation=0)\n",
        "plt.xlabel('');\n",
        "\n",
        "# This wont work since the axis shall be scaled to match x and y coordinates.\n",
        "#ax.text(x=0, y=0, s=\"Men dominated Al Gore's IMDb movie rating\")\n",
        "#ax.text(x=0, y=0, s=\"Cumulative number of IMDb rating for an 'An Inconvenient Sequel' by\")\"\"\""
      ],
      "execution_count": 36,
      "outputs": [
        {
          "output_type": "display_data",
          "data": {
            "image/png": "[encoded data removed]",
            "text/plain": [
              "<matplotlib.figure.Figure at 0x7f1678d60630>"
            ]
          },
          "metadata": {
            "tags": []
          }
        }
      ]
    },
    {
      "metadata": {
        "id": "ZxT9YOeFZPTP",
        "colab_type": "code",
        "colab": {}
      },
      "cell_type": "code",
      "source": [
        ""
      ],
      "execution_count": 0,
      "outputs": []
    }
  ]
}