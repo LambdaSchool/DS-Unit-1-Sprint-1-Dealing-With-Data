{
  "nbformat": 4,
  "nbformat_minor": 0,
  "metadata": {
    "colab": {
      "name": "Vera Mendes - LS_DS8_123_Make_Explanatory_Visualizations_Assignment.ipynb",
      "version": "0.3.2",
      "provenance": [],
      "collapsed_sections": [],
      "include_colab_link": true
    },
    "language_info": {
      "codemirror_mode": {
        "name": "ipython",
        "version": 3
      },
      "file_extension": ".py",
      "mimetype": "text/x-python",
      "name": "python",
      "nbconvert_exporter": "python",
      "pygments_lexer": "ipython3",
      "version": "3.7.1"
    },
    "kernelspec": {
      "display_name": "Python 3",
      "language": "python",
      "name": "python3"
    }
  },
  "cells": [
    {
      "cell_type": "markdown",
      "metadata": {
        "id": "view-in-github",
        "colab_type": "text"
      },
      "source": [
        "<a href=\"https://colab.research.google.com/github/VeraMendes/DS-Unit-1-Sprint-1-Dealing-With-Data/blob/master/module3-make-explanatory-visualizations/Vera_Mendes_LS_DS8_123_Make_Explanatory_Visualizations_Assignment.ipynb\" target=\"_parent\"><img src=\"https://colab.research.google.com/assets/colab-badge.svg\" alt=\"Open In Colab\"/></a>"
      ]
    },
    {
      "cell_type": "markdown",
      "metadata": {
        "colab_type": "text",
        "id": "NMEswXWh9mqw"
      },
      "source": [
        "# ASSIGNMENT\n",
        "\n",
        "### 1) Replicate the lesson code. I recommend that you [do not copy-paste](https://docs.google.com/document/d/1ubOw9B3Hfip27hF2ZFnW3a3z9xAgrUDRReOEo-FHCVs/edit).\n",
        "\n",
        "Get caught up to where we got our example in class and then try and take things further. How close to \"pixel perfect\" can you make the lecture graph?\n",
        "\n",
        "Once you have something that you're proud of, share your graph in the cohort channel and move on to the second exercise.\n",
        "\n",
        "### 2) Reproduce another example from [FiveThityEight's shared data repository](https://data.fivethirtyeight.com/).\n",
        "\n",
        "**WARNING**: There are a lot of very custom graphs and tables at the above link. I **highly** recommend not trying to reproduce any that look like a table of values or something really different from the graph types that we are already familiar with. Search through the posts until you find a graph type that you are more or less familiar with: histogram, bar chart, stacked bar chart, line chart, [seaborn relplot](https://seaborn.pydata.org/generated/seaborn.relplot.html), etc. Recreating some of the graphics that 538 uses would be a lot easier in Adobe photoshop/illustrator than with matplotlib. \n",
        "\n",
        "- If you put in some time to find a graph that looks \"easy\" to replicate you'll probably find that it's not as easy as you thought. \n",
        "\n",
        "- If you start with a graph that looks hard to replicate you'll probably run up against a brick wall and be disappointed with your afternoon.\n",
        "\n",
        "\n",
        "\n",
        "\n",
        "\n",
        "\n",
        "\n",
        "\n",
        "\n",
        "\n"
      ]
    },
    {
      "cell_type": "code",
      "metadata": {
        "id": "7SY1ZHawyZvz",
        "colab_type": "code",
        "colab": {}
      },
      "source": [
        "# importing libraries\n",
        "import matplotlib.pyplot as plt\n",
        "import numpy as np\n",
        "import pandas as pd"
      ],
      "execution_count": 0,
      "outputs": []
    },
    {
      "cell_type": "code",
      "metadata": {
        "id": "ymfox-JUtK5f",
        "colab_type": "code",
        "outputId": "deb61eaa-5251-474e-bcf1-7a9b5db74c9d",
        "colab": {
          "base_uri": "https://localhost:8080/",
          "height": 355
        }
      },
      "source": [
        "from IPython.display import display, Image\n",
        "\n",
        "url = 'https://fivethirtyeight.com/wp-content/uploads/2017/09/mehtahickey-inconvenient-0830-1.png'\n",
        "example = Image(url=url, width=400)\n",
        "\n",
        "display(example)"
      ],
      "execution_count": 0,
      "outputs": [
        {
          "output_type": "display_data",
          "data": {
            "text/html": [
              "<img src=\"https://fivethirtyeight.com/wp-content/uploads/2017/09/mehtahickey-inconvenient-0830-1.png\" width=\"400\"/>"
            ],
            "text/plain": [
              "<IPython.core.display.Image object>"
            ]
          },
          "metadata": {
            "tags": []
          }
        }
      ]
    },
    {
      "cell_type": "code",
      "metadata": {
        "id": "D2EbEJC5vILe",
        "colab_type": "code",
        "colab": {}
      },
      "source": [
        "# fake data\n",
        "fake = pd.Series([38, 3, 2, 1, 2, 4, 6, 5, 5, 33], \n",
        "                 index=range(1,11))"
      ],
      "execution_count": 0,
      "outputs": []
    },
    {
      "cell_type": "code",
      "metadata": {
        "id": "4NImG4KnvW2t",
        "colab_type": "code",
        "outputId": "2371fbf2-c40e-4553-bf37-b6bda80ec7ea",
        "colab": {
          "base_uri": "https://localhost:8080/",
          "height": 344
        }
      },
      "source": [
        "# Picking the style 538\n",
        "plt.style.use('fivethirtyeight')\n",
        "\n",
        "# Generating figure\n",
        "fig = plt.figure()\n",
        "fig.set(facecolor='white')\n",
        "\n",
        "# Generating plot axes\n",
        "ax = fake.plot.bar(color=\"#ED713A\", width=0.9)\n",
        "ax.set(facecolor='white')\n",
        "\n",
        "# Setting a title on a graph using text to customize it\n",
        "ax.text(x=-2, y=44, s=\"'An Inconvenient Sequel: Truth To Power' is divisive\",\n",
        "fontweight='bold', fontsize=13);\n",
        "plt.rcParams[\"font.family\"] = \"DejaVu Sans\"\n",
        "ax.text(x=-2, y=41.5, s=\"IMDb ratings for the film as of Aug. 29\", \n",
        "fontsize=11)\n",
        "\n",
        "# Setting axis labels\n",
        "ax.set_xlabel(\"Rating\", fontsize=9, fontweight='bold', labelpad=10)\n",
        "ax.set_ylabel(\"Percent of total votes\", fontsize=9, fontweight='bold', \n",
        "labelpad=10)\n",
        "\n",
        "# Fixing tick labels\n",
        "ax.set_yticks(range(0,50,10))\n",
        "ax.set_xticklabels(range(1,11), rotation=0, alpha=0.5)\n",
        "ax.set_yticklabels(range(0, 50, 10), alpha=0.5)\n",
        "\n",
        "# Fixing % on top y tick value\n",
        "labels = [item.get_text() for item in ax.get_yticklabels()]\n",
        "labels[4] = '40%'\n",
        "ax.set_yticklabels(labels)\n",
        "\n",
        "\n",
        "# Making left and right spines transparents\n",
        "ax.spines['left'].set_color('none')\n",
        "ax.spines['right'].set_color('none')\n",
        "\n",
        "# marker on xticklabels\n",
        "ax.tick_params(axis ='x', which ='both', length = 10, width= 0.2)\n",
        "\n",
        "plt.show()"
      ],
      "execution_count": 0,
      "outputs": [
        {
          "output_type": "display_data",
          "data": {
            "image/png": "[encoded data removed]",
            "text/plain": [
              "<Figure size 432x288 with 1 Axes>"
            ]
          },
          "metadata": {
            "tags": []
          }
        }
      ]
    },
    {
      "cell_type": "code",
      "metadata": {
        "id": "OVNElN98HmrX",
        "colab_type": "code",
        "outputId": "cf82cc70-58fd-44a9-da5c-57f80f813032",
        "colab": {
          "base_uri": "https://localhost:8080/",
          "height": 202
        }
      },
      "source": [
        "# having difficulties to open the file chosen. created data here so I can work on the plots\n",
        "\n",
        "# List of lists \n",
        "data = [['Rare', 5], ['Medium-rare', 38], ['Medium', 31],['Medium-well', 17],['Well', 8]] \n",
        "  \n",
        "# Creating the pandas DataFrame \n",
        "df = pd.DataFrame(data, columns = ['Steak style', 'Percentage of steak-eating Americans']) \n",
        "  \n",
        "df \n"
      ],
      "execution_count": 0,
      "outputs": [
        {
          "output_type": "execute_result",
          "data": {
            "text/html": [
              "<div>\n",
              "<style scoped>\n",
              "    .dataframe tbody tr th:only-of-type {\n",
              "        vertical-align: middle;\n",
              "    }\n",
              "\n",
              "    .dataframe tbody tr th {\n",
              "        vertical-align: top;\n",
              "    }\n",
              "\n",
              "    .dataframe thead th {\n",
              "        text-align: right;\n",
              "    }\n",
              "</style>\n",
              "<table border=\"1\" class=\"dataframe\">\n",
              "  <thead>\n",
              "    <tr style=\"text-align: right;\">\n",
              "      <th></th>\n",
              "      <th>Steak style</th>\n",
              "      <th>Percentage of steak-eating Americans</th>\n",
              "    </tr>\n",
              "  </thead>\n",
              "  <tbody>\n",
              "    <tr>\n",
              "      <th>0</th>\n",
              "      <td>Rare</td>\n",
              "      <td>5</td>\n",
              "    </tr>\n",
              "    <tr>\n",
              "      <th>1</th>\n",
              "      <td>Medium-rare</td>\n",
              "      <td>38</td>\n",
              "    </tr>\n",
              "    <tr>\n",
              "      <th>2</th>\n",
              "      <td>Medium</td>\n",
              "      <td>31</td>\n",
              "    </tr>\n",
              "    <tr>\n",
              "      <th>3</th>\n",
              "      <td>Medium-well</td>\n",
              "      <td>17</td>\n",
              "    </tr>\n",
              "    <tr>\n",
              "      <th>4</th>\n",
              "      <td>Well</td>\n",
              "      <td>8</td>\n",
              "    </tr>\n",
              "  </tbody>\n",
              "</table>\n",
              "</div>"
            ],
            "text/plain": [
              "   Steak style  Percentage of steak-eating Americans\n",
              "0         Rare                                     5\n",
              "1  Medium-rare                                    38\n",
              "2       Medium                                    31\n",
              "3  Medium-well                                    17\n",
              "4         Well                                     8"
            ]
          },
          "metadata": {
            "tags": []
          },
          "execution_count": 174
        }
      ]
    },
    {
      "cell_type": "code",
      "metadata": {
        "id": "z_eVZQWIM8tf",
        "colab_type": "code",
        "outputId": "24b67aa0-4060-4842-adef-12d8a8087b78",
        "colab": {
          "base_uri": "https://localhost:8080/",
          "height": 191
        }
      },
      "source": [
        "  from IPython.display import display, Image\n",
        "\n",
        "url = 'https://fivethirtyeight.com/wp-content/uploads/2014/05/hickey-datalab-steak.png?w=575'\n",
        "\n",
        "example2 = Image(url=url, width=400)\n",
        "\n",
        "display(example2)"
      ],
      "execution_count": 0,
      "outputs": [
        {
          "output_type": "display_data",
          "data": {
            "text/html": [
              "<img src=\"https://fivethirtyeight.com/wp-content/uploads/2014/05/hickey-datalab-steak.png?w=575\" width=\"400\"/>"
            ],
            "text/plain": [
              "<IPython.core.display.Image object>"
            ]
          },
          "metadata": {
            "tags": []
          }
        }
      ]
    },
    {
      "cell_type": "code",
      "metadata": {
        "id": "AJbLVfGIPM1G",
        "colab_type": "code",
        "outputId": "e0cf2e9d-995e-4fee-c81d-88c1ed37460d",
        "colab": {
          "base_uri": "https://localhost:8080/",
          "height": 303
        }
      },
      "source": [
        "import numpy as np\n",
        "import matplotlib.pyplot as plt\n",
        "\n",
        "# Picking the style 538\n",
        "plt.style.use('fivethirtyeight')\n",
        "\n",
        "# Generating figure\n",
        "fig = plt.figure()\n",
        "\n",
        "# Generating plot axes with no legend and colored\n",
        "# ax = df.plot.barh(legend=False, width=0.3, color = '#B64240')\n",
        "colors_list =['#B64240', '#B36154', '#955731', '#703F2B', '#360C03']\n",
        "ax = df.plot(kind='barh',legend=False, width =0.3, color = colors_list)\n",
        "\n",
        "# Hide axis grid and xticks\n",
        "ax.grid(False)\n",
        "ax.set_xticks([])\n",
        "\n",
        "# Fixing ytick labels\n",
        "labels = ['Rare', 'Medium-rare', 'Medium', 'Medium-well', 'Well']\n",
        "ax.set_yticklabels(labels, alpha=0.6)\n",
        "\n",
        "\n",
        "# Hide axis grid and xticks\n",
        "ax.grid(False)\n",
        "ax.set_xticks([])\n",
        "\n",
        "# Setting a title on a graph using text to customize it\n",
        "ax.text(x=-10, y=4.6, s=\"'How Do You Like Your Steak Prepared?'\",fontweight='bold', fontsize=14);\n",
        "ax.text(x=-10, y=4.3, s=\"From a survey of 432 steak-eating Americans\", fontsize=11)\n",
        "\n",
        "plt.show()\n"
      ],
      "execution_count": 0,
      "outputs": [
        {
          "output_type": "display_data",
          "data": {
            "text/plain": [
              "<Figure size 432x288 with 0 Axes>"
            ]
          },
          "metadata": {
            "tags": []
          }
        },
        {
          "output_type": "display_data",
          "data": {
            "image/png": "[encoded data removed]",
            "text/plain": [
              "<Figure size 432x288 with 1 Axes>"
            ]
          },
          "metadata": {
            "tags": []
          }
        }
      ]
    },
    {
      "cell_type": "markdown",
      "metadata": {
        "id": "0wSrBzmJyWaV",
        "colab_type": "text"
      },
      "source": [
        "# STRETCH OPTIONS\n",
        "\n",
        "### 1) Reproduce one of the following using the matplotlib or seaborn libraries:\n",
        "\n",
        "- [thanksgiving-2015](https://fivethirtyeight.com/features/heres-what-your-part-of-america-eats-on-thanksgiving/) \n",
        "- [candy-power-ranking](https://fivethirtyeight.com/features/the-ultimate-halloween-candy-power-ranking/) \n",
        "- or another example of your choice!\n",
        "\n",
        "### 2) Make more charts!\n",
        "\n",
        "Choose a chart you want to make, from [Visual Vocabulary - Vega Edition](http://ft.com/vocabulary).\n",
        "\n",
        "Find the chart in an example gallery of a Python data visualization library:\n",
        "- [Seaborn](http://seaborn.pydata.org/examples/index.html)\n",
        "- [Altair](https://altair-viz.github.io/gallery/index.html)\n",
        "- [Matplotlib](https://matplotlib.org/gallery.html)\n",
        "- [Pandas](https://pandas.pydata.org/pandas-docs/stable/visualization.html)\n",
        "\n",
        "Reproduce the chart. [Optionally, try the \"Ben Franklin Method.\"](https://docs.google.com/document/d/1ubOw9B3Hfip27hF2ZFnW3a3z9xAgrUDRReOEo-FHCVs/edit) If you want, experiment and make changes.\n",
        "\n",
        "Take notes. Consider sharing your work with your cohort!"
      ]
    },
    {
      "cell_type": "code",
      "metadata": {
        "id": "dRJkKftiy5BJ",
        "colab_type": "code",
        "colab": {}
      },
      "source": [
        "# More Work Here"
      ],
      "execution_count": 0,
      "outputs": []
    }
  ]
}