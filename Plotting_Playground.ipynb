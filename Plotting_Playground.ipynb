{
  "nbformat": 4,
  "nbformat_minor": 0,
  "metadata": {
    "colab": {
      "name": "Plotting Playground.ipynb",
      "version": "0.3.2",
      "provenance": [],
      "include_colab_link": true
    },
    "kernelspec": {
      "name": "python3",
      "display_name": "Python 3"
    }
  },
  "cells": [
    {
      "cell_type": "markdown",
      "metadata": {
        "id": "view-in-github",
        "colab_type": "text"
      },
      "source": [
        "<a href=\"https://colab.research.google.com/github/peytonrunyan/DS-Sprint-01-Dealing-With-Data/blob/master/Plotting_Playground.ipynb\" target=\"_parent\"><img src=\"https://colab.research.google.com/assets/colab-badge.svg\" alt=\"Open In Colab\"/></a>"
      ]
    },
    {
      "metadata": {
        "id": "IG1v46jnGkax",
        "colab_type": "code",
        "colab": {}
      },
      "cell_type": "code",
      "source": [
        "# https://matplotlib.org/gallery/lines_bars_and_markers/barh.html#sphx-glr-gallery-lines-bars-and-markers-barh-py\n",
        "import matplotlib.pyplot as plt\n",
        "import numpy as np\n",
        "\n",
        "# Fixing random state for reproducibility\n",
        "np.random.seed(19680801)\n",
        "\n",
        "\n",
        "plt.rcdefaults()\n",
        "fig, ax = plt.subplots()\n",
        "\n",
        "# Example data\n",
        "people = ('Tom', 'Dick', 'Harry', 'Slim', 'Jim')\n",
        "y_pos = np.arange(len(people))\n",
        "performance = 3 + 10 * np.random.rand(len(people))\n",
        "error = np.random.rand(len(people))\n",
        "\n",
        "ax.barh(y_pos, performance, xerr=error, align='center',\n",
        "        color='green', ecolor='black')\n",
        "ax.set_yticks(y_pos)\n",
        "ax.set_yticklabels(people)\n",
        "ax.invert_yaxis()  # labels read top-to-bottom\n",
        "ax.set_xlabel('Performance')\n",
        "ax.set_title('How fast do you want to go today?')\n",
        "\n",
        "plt.show()"
      ],
      "execution_count": 0,
      "outputs": []
    },
    {
      "metadata": {
        "id": "DWcnKAt4H9PT",
        "colab_type": "code",
        "colab": {}
      },
      "cell_type": "code",
      "source": [
        "# Adapted to piechart\n",
        "# https://matplotlib.org/gallery/pie_and_polar_charts/pie_features.html#sphx-glr-gallery-pie-and-polar-charts-pie-features-py\n",
        "\n",
        "import matplotlib.pyplot as plt\n",
        "import numpy as np\n",
        "\n",
        "# Fixing random state for reproducibility\n",
        "np.random.seed(19680801)\n",
        "\n",
        "\n",
        "plt.rcdefaults()\n",
        "fig, ax = plt.subplots()\n",
        "\n",
        "# Example data\n",
        "people = ('Tom', 'Dick', 'Harry', 'Slim', 'Jim')\n",
        "performance = 3 + 10 * np.random.rand(len(people))\n",
        "error = np.random.rand(len(people))\n",
        "\n",
        "ax.pie(performance, labels=people)\n",
        "ax.set_title('How fast do you want to go today?')\n",
        "\n",
        "plt.show()\n"
      ],
      "execution_count": 0,
      "outputs": []
    },
    {
      "metadata": {
        "id": "Y26IktTfIZmO",
        "colab_type": "code",
        "colab": {}
      },
      "cell_type": "code",
      "source": [
        "# https://matplotlib.org/gallery/lines_bars_and_markers/scatter_demo2.html#sphx-glr-gallery-lines-bars-and-markers-scatter-demo2-py\n",
        "import numpy as np\n",
        "import matplotlib.pyplot as plt\n",
        "import matplotlib.cbook as cbook\n",
        "\n",
        "# Load a numpy record array from yahoo csv data with fields date, open, close,\n",
        "# volume, adj_close from the mpl-data/example directory. The record array\n",
        "# stores the date as an np.datetime64 with a day unit ('D') in the date column.\n",
        "with cbook.get_sample_data('goog.npz') as datafile:\n",
        "    price_data = np.load(datafile)['price_data'].view(np.recarray)\n",
        "price_data = price_data[-250:]  # get the most recent 250 trading days\n",
        "\n",
        "delta1 = np.diff(price_data.adj_close) / price_data.adj_close[:-1]\n",
        "\n",
        "# Marker size in units of points^2\n",
        "volume = (15 * price_data.volume[:-2] / price_data.volume[0])**2\n",
        "close = 0.003 * price_data.close[:-2] / 0.003 * price_data.open[:-2]\n",
        "\n",
        "fig, ax = plt.subplots()\n",
        "ax.scatter(delta1[:-1], delta1[1:], c=close, s=volume, alpha=0.5)\n",
        "\n",
        "ax.set_xlabel(r'$\\Delta_i$', fontsize=15)\n",
        "ax.set_ylabel(r'$\\Delta_{i+1}$', fontsize=15)\n",
        "ax.set_title('Volume and percent change')\n",
        "\n",
        "ax.grid(True)\n",
        "fig.tight_layout()\n",
        "\n",
        "plt.show()"
      ],
      "execution_count": 0,
      "outputs": []
    },
    {
      "metadata": {
        "id": "DaEiVQD2K0T1",
        "colab_type": "code",
        "colab": {}
      },
      "cell_type": "code",
      "source": [
        "# https://matplotlib.org/gallery/mplot3d/scatter3d.html#sphx-glr-gallery-mplot3d-scatter3d-py\n",
        "# This import registers the 3D projection, but is otherwise unused.\n",
        "from mpl_toolkits.mplot3d import Axes3D  # noqa: F401 unused import\n",
        "\n",
        "import matplotlib.pyplot as plt\n",
        "import numpy as np\n",
        "\n",
        "# Fixing random state for reproducibility\n",
        "np.random.seed(19680801)\n",
        "\n",
        "\n",
        "def randrange(n, vmin, vmax):\n",
        "    '''\n",
        "    Helper function to make an array of random numbers having shape (n, )\n",
        "    with each number distributed Uniform(vmin, vmax).\n",
        "    '''\n",
        "    return (vmax - vmin)*np.random.rand(n) + vmin\n",
        "\n",
        "fig = plt.figure()\n",
        "ax = fig.add_subplot(111, projection='3d')\n",
        "\n",
        "n = 100\n",
        "\n",
        "# For each set of style and range settings, plot n random points in the box\n",
        "# defined by x in [23, 32], y in [0, 100], z in [zlow, zhigh].\n",
        "for c, m, zlow, zhigh in [('r', 'o', -50, -25), ('b', '^', -30, -5)]:\n",
        "    xs = randrange(n, 23, 32)\n",
        "    ys = randrange(n, 0, 100)\n",
        "    zs = randrange(n, zlow, zhigh)\n",
        "    ax.scatter(xs, ys, zs, c=c, marker=m)\n",
        "\n",
        "ax.set_xlabel('X Label')\n",
        "ax.set_ylabel('Y Label')\n",
        "ax.set_zlabel('Z Label')\n",
        "\n",
        "plt.show()"
      ],
      "execution_count": 0,
      "outputs": []
    },
    {
      "metadata": {
        "id": "02mt_9taK6FT",
        "colab_type": "code",
        "colab": {}
      },
      "cell_type": "code",
      "source": [
        ""
      ],
      "execution_count": 0,
      "outputs": []
    },
    {
      "metadata": {
        "id": "3682Pvdi3B5j",
        "colab_type": "text"
      },
      "cell_type": "markdown",
      "source": [
        "# This is my homework"
      ]
    },
    {
      "metadata": {
        "id": "0vGPB7Oo3FzE",
        "colab_type": "code",
        "colab": {}
      },
      "cell_type": "code",
      "source": [
        "#https://data.cityofchicago.org/api/views/5yjb-v3mj/rows.csv?accessType=DOWNLOAD\n",
        "\n",
        "import pandas as pd\n",
        "import matplotlib.pyplot as plt\n",
        "import numpy as np\n",
        "\n",
        "df= pd.read_csv('https://data.cityofchicago.org/api/views/5yjb-v3mj/rows.csv?accessType=DOWNLOAD')"
      ],
      "execution_count": 0,
      "outputs": []
    },
    {
      "metadata": {
        "id": "DgGNEHlx4ZvI",
        "colab_type": "code",
        "colab": {
          "base_uri": "https://localhost:8080/",
          "height": 195
        },
        "outputId": "7668fc47-afac-4dfb-96bf-20d7dc742252"
      },
      "cell_type": "code",
      "source": [
        "df.head(5)"
      ],
      "execution_count": 3,
      "outputs": [
        {
          "output_type": "execute_result",
          "data": {
            "text/html": [
              "<div>\n",
              "<style scoped>\n",
              "    .dataframe tbody tr th:only-of-type {\n",
              "        vertical-align: middle;\n",
              "    }\n",
              "\n",
              "    .dataframe tbody tr th {\n",
              "        vertical-align: top;\n",
              "    }\n",
              "\n",
              "    .dataframe thead th {\n",
              "        text-align: right;\n",
              "    }\n",
              "</style>\n",
              "<table border=\"1\" class=\"dataframe\">\n",
              "  <thead>\n",
              "    <tr style=\"text-align: right;\">\n",
              "      <th></th>\n",
              "      <th>CENSUS BLOCK</th>\n",
              "      <th>TOTAL POPULATION</th>\n",
              "    </tr>\n",
              "  </thead>\n",
              "  <tbody>\n",
              "    <tr>\n",
              "      <th>0</th>\n",
              "      <td>310003002</td>\n",
              "      <td>104</td>\n",
              "    </tr>\n",
              "    <tr>\n",
              "      <th>1</th>\n",
              "      <td>310003003</td>\n",
              "      <td>46</td>\n",
              "    </tr>\n",
              "    <tr>\n",
              "      <th>2</th>\n",
              "      <td>310003004</td>\n",
              "      <td>40</td>\n",
              "    </tr>\n",
              "    <tr>\n",
              "      <th>3</th>\n",
              "      <td>310003005</td>\n",
              "      <td>58</td>\n",
              "    </tr>\n",
              "    <tr>\n",
              "      <th>4</th>\n",
              "      <td>310003006</td>\n",
              "      <td>75</td>\n",
              "    </tr>\n",
              "  </tbody>\n",
              "</table>\n",
              "</div>"
            ],
            "text/plain": [
              "   CENSUS BLOCK  TOTAL POPULATION\n",
              "0     310003002               104\n",
              "1     310003003                46\n",
              "2     310003004                40\n",
              "3     310003005                58\n",
              "4     310003006                75"
            ]
          },
          "metadata": {
            "tags": []
          },
          "execution_count": 3
        }
      ]
    },
    {
      "metadata": {
        "id": "KSG1qASt5QMu",
        "colab_type": "code",
        "colab": {
          "base_uri": "https://localhost:8080/",
          "height": 34
        },
        "outputId": "cd3309e6-fdd7-4a88-a51f-7f6b657cb701"
      },
      "cell_type": "code",
      "source": [
        "list(df)"
      ],
      "execution_count": 6,
      "outputs": [
        {
          "output_type": "execute_result",
          "data": {
            "text/plain": [
              "['CENSUS BLOCK', 'TOTAL POPULATION']"
            ]
          },
          "metadata": {
            "tags": []
          },
          "execution_count": 6
        }
      ]
    },
    {
      "metadata": {
        "id": "TclgQ0TX5RMI",
        "colab_type": "code",
        "colab": {
          "base_uri": "https://localhost:8080/",
          "height": 377
        },
        "outputId": "1b5ea38a-1bc5-4de9-8a84-165369efa60f"
      },
      "cell_type": "code",
      "source": [
        "plt.scatter(df['CENSUS BLOCK'], df['TOTAL POPULATION'])"
      ],
      "execution_count": 7,
      "outputs": [
        {
          "output_type": "execute_result",
          "data": {
            "text/plain": [
              "<matplotlib.collections.PathCollection at 0x7f4dc403fbe0>"
            ]
          },
          "metadata": {
            "tags": []
          },
          "execution_count": 7
        },
        {
          "output_type": "display_data",
          "data": {
            "image/png": "[encoded data removed]",
            "text/plain": [
              "<matplotlib.figure.Figure at 0x7f4dc45aacf8>"
            ]
          },
          "metadata": {
            "tags": []
          }
        }
      ]
    },
    {
      "metadata": {
        "id": "WruPTpWi5kU2",
        "colab_type": "code",
        "colab": {
          "base_uri": "https://localhost:8080/",
          "height": 195
        },
        "outputId": "bc819b4d-c202-42f6-a572-8aaceea8dab3"
      },
      "cell_type": "code",
      "source": [
        "df.tail(5)"
      ],
      "execution_count": 16,
      "outputs": [
        {
          "output_type": "execute_result",
          "data": {
            "text/html": [
              "<div>\n",
              "<style scoped>\n",
              "    .dataframe tbody tr th:only-of-type {\n",
              "        vertical-align: middle;\n",
              "    }\n",
              "\n",
              "    .dataframe tbody tr th {\n",
              "        vertical-align: top;\n",
              "    }\n",
              "\n",
              "    .dataframe thead th {\n",
              "        text-align: right;\n",
              "    }\n",
              "</style>\n",
              "<table border=\"1\" class=\"dataframe\">\n",
              "  <thead>\n",
              "    <tr style=\"text-align: right;\">\n",
              "      <th></th>\n",
              "      <th>CENSUS BLOCK</th>\n",
              "      <th>TOTAL POPULATION</th>\n",
              "    </tr>\n",
              "  </thead>\n",
              "  <tbody>\n",
              "    <tr>\n",
              "      <th>46286</th>\n",
              "      <td>8419002052</td>\n",
              "      <td>0</td>\n",
              "    </tr>\n",
              "    <tr>\n",
              "      <th>46287</th>\n",
              "      <td>8419002053</td>\n",
              "      <td>32</td>\n",
              "    </tr>\n",
              "    <tr>\n",
              "      <th>46288</th>\n",
              "      <td>8419002054</td>\n",
              "      <td>131</td>\n",
              "    </tr>\n",
              "    <tr>\n",
              "      <th>46289</th>\n",
              "      <td>8419002055</td>\n",
              "      <td>79</td>\n",
              "    </tr>\n",
              "    <tr>\n",
              "      <th>46290</th>\n",
              "      <td>8419002056</td>\n",
              "      <td>20</td>\n",
              "    </tr>\n",
              "  </tbody>\n",
              "</table>\n",
              "</div>"
            ],
            "text/plain": [
              "       CENSUS BLOCK  TOTAL POPULATION\n",
              "46286    8419002052                 0\n",
              "46287    8419002053                32\n",
              "46288    8419002054               131\n",
              "46289    8419002055                79\n",
              "46290    8419002056                20"
            ]
          },
          "metadata": {
            "tags": []
          },
          "execution_count": 16
        }
      ]
    },
    {
      "metadata": {
        "id": "gjc6nGpT6Qjo",
        "colab_type": "code",
        "colab": {
          "base_uri": "https://localhost:8080/",
          "height": 34
        },
        "outputId": "b228f83f-f3ac-47d4-c149-94c2843d8842"
      },
      "cell_type": "code",
      "source": [
        "len(df)"
      ],
      "execution_count": 32,
      "outputs": [
        {
          "output_type": "execute_result",
          "data": {
            "text/plain": [
              "46291"
            ]
          },
          "metadata": {
            "tags": []
          },
          "execution_count": 32
        }
      ]
    },
    {
      "metadata": {
        "id": "q7eHE8ya86Ak",
        "colab_type": "code",
        "colab": {
          "base_uri": "https://localhost:8080/",
          "height": 620
        },
        "outputId": "31fd432e-94fe-4c84-8f20-0f0bd0e51757"
      },
      "cell_type": "code",
      "source": [
        "test = pd.cut(df['TOTAL POPULATION'], bins=[0, 10, 50, 100, 500, 1000, 2000, 5000, 10000], include_lowest=True);\n",
        "ax = test.value_counts(sort=False).plot.bar(rot=0, color=\"b\", figsize=(10,10))\n",
        "ax.set_xticklabels(['0 to 10', '10 to 50', '50 to 100', '100 to 500', '500 to 1000', '1000 to 2000', '2000 to 5000', '5000 to 10000'])\n",
        "ax.set_xlabel('Population by census block')\n",
        "ax.set_ylabel('Quantity of blocks with population range')\n",
        "ax.set_title('Chicago census block population distribution')\n",
        "for i in ax.patches:\n",
        "    # get_x pulls left or right; get_height pushes up or down\n",
        "    ax.text(i.get_x(), i.get_height()+80, \\\n",
        "            str(round((i.get_height()), 2)), fontsize=11, color='red')\n",
        "plt.show()"
      ],
      "execution_count": 43,
      "outputs": [
        {
          "output_type": "display_data",
          "data": {
            "image/png": "[encoded data removed]",
            "text/plain": [
              "<matplotlib.figure.Figure at 0x7f4dc10afdd8>"
            ]
          },
          "metadata": {
            "tags": []
          }
        }
      ]
    },
    {
      "metadata": {
        "id": "H2DWwFF69heq",
        "colab_type": "code",
        "colab": {
          "base_uri": "https://localhost:8080/",
          "height": 620
        },
        "outputId": "4e0b0304-a6b7-4a95-ab9b-6bb229f110a5"
      },
      "cell_type": "code",
      "source": [
        "test = pd.cut(df['TOTAL POPULATION'], bins=[0, 10, 50, 100, 500, 1000, 2000], include_lowest=True);\n",
        "ax = test.value_counts(sort=False).plot.bar(rot=0, color=\"b\", figsize=(10,10))\n",
        "ax.set_xticklabels(['0 to 10', '10 to 50', '50 to 100', '100 to 500', '500 to 1000', '1000 to 2000'])\n",
        "ax.set_xlabel('Population by census block')\n",
        "ax.set_ylabel('Quantity of blocks with population range')\n",
        "ax.set_title('Chicago census block population distribution')\n",
        "for i in ax.patches:\n",
        "    # get_x pulls left or right; get_height pushes up or down\n",
        "    ax.text(i.get_x(), i.get_height()+90, \\\n",
        "            str(round((i.get_height()), 2)), fontsize=11, color='red')\n",
        "plt.show()"
      ],
      "execution_count": 47,
      "outputs": [
        {
          "output_type": "display_data",
          "data": {
            "image/png": "[encoded data removed]",
            "text/plain": [
              "<matplotlib.figure.Figure at 0x7f4dc15f1390>"
            ]
          },
          "metadata": {
            "tags": []
          }
        }
      ]
    },
    {
      "metadata": {
        "id": "b11azaaRIYf9",
        "colab_type": "code",
        "colab": {
          "base_uri": "https://localhost:8080/",
          "height": 620
        },
        "outputId": "37d84470-987b-49a0-b19b-ddc7e3151d13"
      },
      "cell_type": "code",
      "source": [
        "test = pd.cut(df['TOTAL POPULATION'], bins=[0, 10, 50, 100, 500, 2000], include_lowest=True);\n",
        "ax = test.value_counts(sort=False).plot.bar(rot=0, color=\"b\", figsize=(10,10))\n",
        "ax.set_xticklabels(['0 to 10', '10 to 50', '50 to 100', '100 to 500', '500 to 2000'])\n",
        "ax.set_xlabel('Population by census block')\n",
        "ax.set_ylabel('Quantity of blocks with population range')\n",
        "ax.set_title('Chicago census block population distribution')\n",
        "for i in ax.patches:\n",
        "    # get_x pulls left or right; get_height pushes up or down\n",
        "    ax.text(i.get_x(), i.get_height()+90, \\\n",
        "            str(round((i.get_height()), 2)), fontsize=11, color='red')\n",
        "plt.show()"
      ],
      "execution_count": 48,
      "outputs": [
        {
          "output_type": "display_data",
          "data": {
            "image/png": "[encoded data removed]",
            "text/plain": [
              "<matplotlib.figure.Figure at 0x7f4dc1297048>"
            ]
          },
          "metadata": {
            "tags": []
          }
        }
      ]
    },
    {
      "metadata": {
        "id": "byWd1rnoJc1v",
        "colab_type": "code",
        "colab": {}
      },
      "cell_type": "code",
      "source": [
        "df1= pd.read_csv('https://chronicdata.cdc.gov/views/6vp6-wxuq/rows.csv?accessType=DOWNLOAD')"
      ],
      "execution_count": 0,
      "outputs": []
    },
    {
      "metadata": {
        "id": "6FSsHqhAKEZx",
        "colab_type": "code",
        "colab": {
          "base_uri": "https://localhost:8080/",
          "height": 681
        },
        "outputId": "9a7b47ad-acc1-4ccd-d056-e8705f44df57"
      },
      "cell_type": "code",
      "source": [
        "df1.head(5)"
      ],
      "execution_count": 50,
      "outputs": [
        {
          "output_type": "execute_result",
          "data": {
            "text/html": [
              "<div>\n",
              "<style scoped>\n",
              "    .dataframe tbody tr th:only-of-type {\n",
              "        vertical-align: middle;\n",
              "    }\n",
              "\n",
              "    .dataframe tbody tr th {\n",
              "        vertical-align: top;\n",
              "    }\n",
              "\n",
              "    .dataframe thead th {\n",
              "        text-align: right;\n",
              "    }\n",
              "</style>\n",
              "<table border=\"1\" class=\"dataframe\">\n",
              "  <thead>\n",
              "    <tr style=\"text-align: right;\">\n",
              "      <th></th>\n",
              "      <th>Year</th>\n",
              "      <th>StateAbbr</th>\n",
              "      <th>StateDesc</th>\n",
              "      <th>CityName</th>\n",
              "      <th>GeographicLevel</th>\n",
              "      <th>DataSource</th>\n",
              "      <th>Category</th>\n",
              "      <th>UniqueID</th>\n",
              "      <th>Measure</th>\n",
              "      <th>Data_Value_Unit</th>\n",
              "      <th>...</th>\n",
              "      <th>High_Confidence_Limit</th>\n",
              "      <th>Data_Value_Footnote_Symbol</th>\n",
              "      <th>Data_Value_Footnote</th>\n",
              "      <th>PopulationCount</th>\n",
              "      <th>GeoLocation</th>\n",
              "      <th>CategoryID</th>\n",
              "      <th>MeasureId</th>\n",
              "      <th>CityFIPS</th>\n",
              "      <th>TractFIPS</th>\n",
              "      <th>Short_Question_Text</th>\n",
              "    </tr>\n",
              "  </thead>\n",
              "  <tbody>\n",
              "    <tr>\n",
              "      <th>0</th>\n",
              "      <td>2015</td>\n",
              "      <td>US</td>\n",
              "      <td>United States</td>\n",
              "      <td>NaN</td>\n",
              "      <td>US</td>\n",
              "      <td>BRFSS</td>\n",
              "      <td>Prevention</td>\n",
              "      <td>59</td>\n",
              "      <td>Current lack of health insurance among adults ...</td>\n",
              "      <td>%</td>\n",
              "      <td>...</td>\n",
              "      <td>15.7</td>\n",
              "      <td>NaN</td>\n",
              "      <td>NaN</td>\n",
              "      <td>308745538.0</td>\n",
              "      <td>NaN</td>\n",
              "      <td>PREVENT</td>\n",
              "      <td>ACCESS2</td>\n",
              "      <td>NaN</td>\n",
              "      <td>NaN</td>\n",
              "      <td>Health Insurance</td>\n",
              "    </tr>\n",
              "    <tr>\n",
              "      <th>1</th>\n",
              "      <td>2015</td>\n",
              "      <td>US</td>\n",
              "      <td>United States</td>\n",
              "      <td>NaN</td>\n",
              "      <td>US</td>\n",
              "      <td>BRFSS</td>\n",
              "      <td>Prevention</td>\n",
              "      <td>59</td>\n",
              "      <td>Current lack of health insurance among adults ...</td>\n",
              "      <td>%</td>\n",
              "      <td>...</td>\n",
              "      <td>15.0</td>\n",
              "      <td>NaN</td>\n",
              "      <td>NaN</td>\n",
              "      <td>308745538.0</td>\n",
              "      <td>NaN</td>\n",
              "      <td>PREVENT</td>\n",
              "      <td>ACCESS2</td>\n",
              "      <td>NaN</td>\n",
              "      <td>NaN</td>\n",
              "      <td>Health Insurance</td>\n",
              "    </tr>\n",
              "    <tr>\n",
              "      <th>2</th>\n",
              "      <td>2015</td>\n",
              "      <td>US</td>\n",
              "      <td>United States</td>\n",
              "      <td>NaN</td>\n",
              "      <td>US</td>\n",
              "      <td>BRFSS</td>\n",
              "      <td>Health Outcomes</td>\n",
              "      <td>59</td>\n",
              "      <td>Arthritis among adults aged &gt;=18 Years</td>\n",
              "      <td>%</td>\n",
              "      <td>...</td>\n",
              "      <td>22.7</td>\n",
              "      <td>NaN</td>\n",
              "      <td>NaN</td>\n",
              "      <td>308745538.0</td>\n",
              "      <td>NaN</td>\n",
              "      <td>HLTHOUT</td>\n",
              "      <td>ARTHRITIS</td>\n",
              "      <td>NaN</td>\n",
              "      <td>NaN</td>\n",
              "      <td>Arthritis</td>\n",
              "    </tr>\n",
              "    <tr>\n",
              "      <th>3</th>\n",
              "      <td>2015</td>\n",
              "      <td>US</td>\n",
              "      <td>United States</td>\n",
              "      <td>NaN</td>\n",
              "      <td>US</td>\n",
              "      <td>BRFSS</td>\n",
              "      <td>Health Outcomes</td>\n",
              "      <td>59</td>\n",
              "      <td>Arthritis among adults aged &gt;=18 Years</td>\n",
              "      <td>%</td>\n",
              "      <td>...</td>\n",
              "      <td>24.9</td>\n",
              "      <td>NaN</td>\n",
              "      <td>NaN</td>\n",
              "      <td>308745538.0</td>\n",
              "      <td>NaN</td>\n",
              "      <td>HLTHOUT</td>\n",
              "      <td>ARTHRITIS</td>\n",
              "      <td>NaN</td>\n",
              "      <td>NaN</td>\n",
              "      <td>Arthritis</td>\n",
              "    </tr>\n",
              "    <tr>\n",
              "      <th>4</th>\n",
              "      <td>2015</td>\n",
              "      <td>US</td>\n",
              "      <td>United States</td>\n",
              "      <td>NaN</td>\n",
              "      <td>US</td>\n",
              "      <td>BRFSS</td>\n",
              "      <td>Unhealthy Behaviors</td>\n",
              "      <td>59</td>\n",
              "      <td>Binge drinking among adults aged &gt;=18 Years</td>\n",
              "      <td>%</td>\n",
              "      <td>...</td>\n",
              "      <td>17.4</td>\n",
              "      <td>NaN</td>\n",
              "      <td>NaN</td>\n",
              "      <td>308745538.0</td>\n",
              "      <td>NaN</td>\n",
              "      <td>UNHBEH</td>\n",
              "      <td>BINGE</td>\n",
              "      <td>NaN</td>\n",
              "      <td>NaN</td>\n",
              "      <td>Binge Drinking</td>\n",
              "    </tr>\n",
              "  </tbody>\n",
              "</table>\n",
              "<p>5 rows × 24 columns</p>\n",
              "</div>"
            ],
            "text/plain": [
              "   Year StateAbbr      StateDesc CityName GeographicLevel DataSource  \\\n",
              "0  2015        US  United States      NaN              US      BRFSS   \n",
              "1  2015        US  United States      NaN              US      BRFSS   \n",
              "2  2015        US  United States      NaN              US      BRFSS   \n",
              "3  2015        US  United States      NaN              US      BRFSS   \n",
              "4  2015        US  United States      NaN              US      BRFSS   \n",
              "\n",
              "              Category UniqueID  \\\n",
              "0           Prevention       59   \n",
              "1           Prevention       59   \n",
              "2      Health Outcomes       59   \n",
              "3      Health Outcomes       59   \n",
              "4  Unhealthy Behaviors       59   \n",
              "\n",
              "                                             Measure Data_Value_Unit  \\\n",
              "0  Current lack of health insurance among adults ...               %   \n",
              "1  Current lack of health insurance among adults ...               %   \n",
              "2             Arthritis among adults aged >=18 Years               %   \n",
              "3             Arthritis among adults aged >=18 Years               %   \n",
              "4        Binge drinking among adults aged >=18 Years               %   \n",
              "\n",
              "          ...         High_Confidence_Limit Data_Value_Footnote_Symbol  \\\n",
              "0         ...                          15.7                        NaN   \n",
              "1         ...                          15.0                        NaN   \n",
              "2         ...                          22.7                        NaN   \n",
              "3         ...                          24.9                        NaN   \n",
              "4         ...                          17.4                        NaN   \n",
              "\n",
              "   Data_Value_Footnote  PopulationCount  GeoLocation CategoryID  MeasureId  \\\n",
              "0                  NaN      308745538.0          NaN    PREVENT    ACCESS2   \n",
              "1                  NaN      308745538.0          NaN    PREVENT    ACCESS2   \n",
              "2                  NaN      308745538.0          NaN    HLTHOUT  ARTHRITIS   \n",
              "3                  NaN      308745538.0          NaN    HLTHOUT  ARTHRITIS   \n",
              "4                  NaN      308745538.0          NaN     UNHBEH      BINGE   \n",
              "\n",
              "   CityFIPS TractFIPS Short_Question_Text  \n",
              "0       NaN       NaN    Health Insurance  \n",
              "1       NaN       NaN    Health Insurance  \n",
              "2       NaN       NaN           Arthritis  \n",
              "3       NaN       NaN           Arthritis  \n",
              "4       NaN       NaN      Binge Drinking  \n",
              "\n",
              "[5 rows x 24 columns]"
            ]
          },
          "metadata": {
            "tags": []
          },
          "execution_count": 50
        }
      ]
    },
    {
      "metadata": {
        "id": "hSbUPAc1Ke0s",
        "colab_type": "code",
        "colab": {
          "base_uri": "https://localhost:8080/",
          "height": 304
        },
        "outputId": "6cae79e6-8395-4dd3-f7fa-115e4f18ad15"
      },
      "cell_type": "code",
      "source": [
        "df1.describe()"
      ],
      "execution_count": 52,
      "outputs": [
        {
          "output_type": "execute_result",
          "data": {
            "text/html": [
              "<div>\n",
              "<style scoped>\n",
              "    .dataframe tbody tr th:only-of-type {\n",
              "        vertical-align: middle;\n",
              "    }\n",
              "\n",
              "    .dataframe tbody tr th {\n",
              "        vertical-align: top;\n",
              "    }\n",
              "\n",
              "    .dataframe thead th {\n",
              "        text-align: right;\n",
              "    }\n",
              "</style>\n",
              "<table border=\"1\" class=\"dataframe\">\n",
              "  <thead>\n",
              "    <tr style=\"text-align: right;\">\n",
              "      <th></th>\n",
              "      <th>Year</th>\n",
              "      <th>Data_Value</th>\n",
              "      <th>Low_Confidence_Limit</th>\n",
              "      <th>High_Confidence_Limit</th>\n",
              "      <th>PopulationCount</th>\n",
              "      <th>CityFIPS</th>\n",
              "      <th>TractFIPS</th>\n",
              "    </tr>\n",
              "  </thead>\n",
              "  <tbody>\n",
              "    <tr>\n",
              "      <th>count</th>\n",
              "      <td>810103.000000</td>\n",
              "      <td>789432.000000</td>\n",
              "      <td>789432.000000</td>\n",
              "      <td>789432.000000</td>\n",
              "      <td>8.099350e+05</td>\n",
              "      <td>8.100470e+05</td>\n",
              "      <td>7.820470e+05</td>\n",
              "    </tr>\n",
              "    <tr>\n",
              "      <th>mean</th>\n",
              "      <td>2014.716066</td>\n",
              "      <td>30.835291</td>\n",
              "      <td>29.096031</td>\n",
              "      <td>32.575900</td>\n",
              "      <td>3.203030e+04</td>\n",
              "      <td>2.606307e+06</td>\n",
              "      <td>2.592907e+10</td>\n",
              "    </tr>\n",
              "    <tr>\n",
              "      <th>std</th>\n",
              "      <td>0.450906</td>\n",
              "      <td>25.210650</td>\n",
              "      <td>24.671872</td>\n",
              "      <td>25.697762</td>\n",
              "      <td>2.568755e+06</td>\n",
              "      <td>1.686183e+06</td>\n",
              "      <td>1.675378e+10</td>\n",
              "    </tr>\n",
              "    <tr>\n",
              "      <th>min</th>\n",
              "      <td>2014.000000</td>\n",
              "      <td>0.200000</td>\n",
              "      <td>0.100000</td>\n",
              "      <td>0.300000</td>\n",
              "      <td>1.000000e+00</td>\n",
              "      <td>1.500300e+04</td>\n",
              "      <td>1.073000e+09</td>\n",
              "    </tr>\n",
              "    <tr>\n",
              "      <th>25%</th>\n",
              "      <td>2014.000000</td>\n",
              "      <td>9.700000</td>\n",
              "      <td>8.600000</td>\n",
              "      <td>10.900000</td>\n",
              "      <td>2.405000e+03</td>\n",
              "      <td>6.813440e+05</td>\n",
              "      <td>8.001009e+09</td>\n",
              "    </tr>\n",
              "    <tr>\n",
              "      <th>50%</th>\n",
              "      <td>2015.000000</td>\n",
              "      <td>23.000000</td>\n",
              "      <td>20.700000</td>\n",
              "      <td>25.300000</td>\n",
              "      <td>3.632000e+03</td>\n",
              "      <td>2.622000e+06</td>\n",
              "      <td>2.608100e+10</td>\n",
              "    </tr>\n",
              "    <tr>\n",
              "      <th>75%</th>\n",
              "      <td>2015.000000</td>\n",
              "      <td>45.600000</td>\n",
              "      <td>43.000000</td>\n",
              "      <td>48.500000</td>\n",
              "      <td>5.041000e+03</td>\n",
              "      <td>4.055000e+06</td>\n",
              "      <td>4.010911e+10</td>\n",
              "    </tr>\n",
              "    <tr>\n",
              "      <th>max</th>\n",
              "      <td>2015.000000</td>\n",
              "      <td>95.500000</td>\n",
              "      <td>94.100000</td>\n",
              "      <td>96.500000</td>\n",
              "      <td>3.087455e+08</td>\n",
              "      <td>5.613900e+06</td>\n",
              "      <td>5.602100e+10</td>\n",
              "    </tr>\n",
              "  </tbody>\n",
              "</table>\n",
              "</div>"
            ],
            "text/plain": [
              "                Year     Data_Value  Low_Confidence_Limit  \\\n",
              "count  810103.000000  789432.000000         789432.000000   \n",
              "mean     2014.716066      30.835291             29.096031   \n",
              "std         0.450906      25.210650             24.671872   \n",
              "min      2014.000000       0.200000              0.100000   \n",
              "25%      2014.000000       9.700000              8.600000   \n",
              "50%      2015.000000      23.000000             20.700000   \n",
              "75%      2015.000000      45.600000             43.000000   \n",
              "max      2015.000000      95.500000             94.100000   \n",
              "\n",
              "       High_Confidence_Limit  PopulationCount      CityFIPS     TractFIPS  \n",
              "count          789432.000000     8.099350e+05  8.100470e+05  7.820470e+05  \n",
              "mean               32.575900     3.203030e+04  2.606307e+06  2.592907e+10  \n",
              "std                25.697762     2.568755e+06  1.686183e+06  1.675378e+10  \n",
              "min                 0.300000     1.000000e+00  1.500300e+04  1.073000e+09  \n",
              "25%                10.900000     2.405000e+03  6.813440e+05  8.001009e+09  \n",
              "50%                25.300000     3.632000e+03  2.622000e+06  2.608100e+10  \n",
              "75%                48.500000     5.041000e+03  4.055000e+06  4.010911e+10  \n",
              "max                96.500000     3.087455e+08  5.613900e+06  5.602100e+10  "
            ]
          },
          "metadata": {
            "tags": []
          },
          "execution_count": 52
        }
      ]
    },
    {
      "metadata": {
        "id": "NQNcS_boK07k",
        "colab_type": "code",
        "colab": {
          "base_uri": "https://localhost:8080/",
          "height": 34
        },
        "outputId": "3340b9e1-5a3e-44c0-faa7-bf3119a55519"
      },
      "cell_type": "code",
      "source": [
        "len(df1)"
      ],
      "execution_count": 54,
      "outputs": [
        {
          "output_type": "execute_result",
          "data": {
            "text/plain": [
              "810103"
            ]
          },
          "metadata": {
            "tags": []
          },
          "execution_count": 54
        }
      ]
    },
    {
      "metadata": {
        "id": "moi_lsx-LI3w",
        "colab_type": "code",
        "colab": {
          "base_uri": "https://localhost:8080/",
          "height": 420
        },
        "outputId": "5e220c93-c5b6-42db-8316-bb59aa70b6c6"
      },
      "cell_type": "code",
      "source": [
        "list(df1)"
      ],
      "execution_count": 55,
      "outputs": [
        {
          "output_type": "execute_result",
          "data": {
            "text/plain": [
              "['Year',\n",
              " 'StateAbbr',\n",
              " 'StateDesc',\n",
              " 'CityName',\n",
              " 'GeographicLevel',\n",
              " 'DataSource',\n",
              " 'Category',\n",
              " 'UniqueID',\n",
              " 'Measure',\n",
              " 'Data_Value_Unit',\n",
              " 'DataValueTypeID',\n",
              " 'Data_Value_Type',\n",
              " 'Data_Value',\n",
              " 'Low_Confidence_Limit',\n",
              " 'High_Confidence_Limit',\n",
              " 'Data_Value_Footnote_Symbol',\n",
              " 'Data_Value_Footnote',\n",
              " 'PopulationCount',\n",
              " 'GeoLocation',\n",
              " 'CategoryID',\n",
              " 'MeasureId',\n",
              " 'CityFIPS',\n",
              " 'TractFIPS',\n",
              " 'Short_Question_Text']"
            ]
          },
          "metadata": {
            "tags": []
          },
          "execution_count": 55
        }
      ]
    },
    {
      "metadata": {
        "id": "-tkAJB5xLPV5",
        "colab_type": "code",
        "colab": {}
      },
      "cell_type": "code",
      "source": [
        "#can't really graph this stuff. On to the next one!"
      ],
      "execution_count": 0,
      "outputs": []
    },
    {
      "metadata": {
        "id": "NR_SVILxLd9R",
        "colab_type": "code",
        "colab": {}
      },
      "cell_type": "code",
      "source": [
        "#https://data.wprdc.org/dataset/5b18c198-474c-4723-b735-cc5220ad43cc/resource/34842307-0da6-458a-9df3-a09ab3e3a489/download/aggregate-household-income-in-the-past-12-months-in-2015-inflation-adjusted-dollars.csv\n",
        "df1= pd.read_csv('https://data.wprdc.org/dataset/5b18c198-474c-4723-b735-cc5220ad43cc/resource/34842307-0da6-458a-9df3-a09ab3e3a489/download/aggregate-household-income-in-the-past-12-months-in-2015-inflation-adjusted-dollars.csv')"
      ],
      "execution_count": 0,
      "outputs": []
    },
    {
      "metadata": {
        "id": "WOKiVduXL0Zy",
        "colab_type": "code",
        "colab": {
          "base_uri": "https://localhost:8080/",
          "height": 262
        },
        "outputId": "1877dae8-7238-4968-c584-0ee26cafd815"
      },
      "cell_type": "code",
      "source": [
        "df1.head(5)"
      ],
      "execution_count": 58,
      "outputs": [
        {
          "output_type": "execute_result",
          "data": {
            "text/html": [
              "<div>\n",
              "<style scoped>\n",
              "    .dataframe tbody tr th:only-of-type {\n",
              "        vertical-align: middle;\n",
              "    }\n",
              "\n",
              "    .dataframe tbody tr th {\n",
              "        vertical-align: top;\n",
              "    }\n",
              "\n",
              "    .dataframe thead th {\n",
              "        text-align: right;\n",
              "    }\n",
              "</style>\n",
              "<table border=\"1\" class=\"dataframe\">\n",
              "  <thead>\n",
              "    <tr style=\"text-align: right;\">\n",
              "      <th></th>\n",
              "      <th>Neighborhood</th>\n",
              "      <th>Id</th>\n",
              "      <th>Estimate; Aggregate household income in the past 12 months (in 2015 Inflation-adjusted dollars)</th>\n",
              "      <th>Margin of Error; Aggregate household income in the past 12 months (in 2015 Inflation-adjusted dollars)</th>\n",
              "    </tr>\n",
              "  </thead>\n",
              "  <tbody>\n",
              "    <tr>\n",
              "      <th>0</th>\n",
              "      <td>Allegheny Center</td>\n",
              "      <td>1</td>\n",
              "      <td>39947000</td>\n",
              "      <td>6437773</td>\n",
              "    </tr>\n",
              "    <tr>\n",
              "      <th>1</th>\n",
              "      <td>Allegheny West</td>\n",
              "      <td>2</td>\n",
              "      <td>23793300</td>\n",
              "      <td>22025939</td>\n",
              "    </tr>\n",
              "    <tr>\n",
              "      <th>2</th>\n",
              "      <td>Allentown</td>\n",
              "      <td>3</td>\n",
              "      <td>38303700</td>\n",
              "      <td>7490207.043</td>\n",
              "    </tr>\n",
              "    <tr>\n",
              "      <th>3</th>\n",
              "      <td>Arlington</td>\n",
              "      <td>4</td>\n",
              "      <td>35349900</td>\n",
              "      <td>6140662.723</td>\n",
              "    </tr>\n",
              "    <tr>\n",
              "      <th>4</th>\n",
              "      <td>Arlington Heights</td>\n",
              "      <td>5</td>\n",
              "      <td>2389600</td>\n",
              "      <td>1162393</td>\n",
              "    </tr>\n",
              "  </tbody>\n",
              "</table>\n",
              "</div>"
            ],
            "text/plain": [
              "        Neighborhood  Id  \\\n",
              "0   Allegheny Center   1   \n",
              "1     Allegheny West   2   \n",
              "2          Allentown   3   \n",
              "3          Arlington   4   \n",
              "4  Arlington Heights   5   \n",
              "\n",
              "  Estimate; Aggregate household income in the past 12 months (in 2015 Inflation-adjusted dollars)  \\\n",
              "0                                           39947000                                                \n",
              "1                                           23793300                                                \n",
              "2                                           38303700                                                \n",
              "3                                           35349900                                                \n",
              "4                                            2389600                                                \n",
              "\n",
              "  Margin of Error; Aggregate household income in the past 12 months (in 2015 Inflation-adjusted dollars)  \n",
              "0                                            6437773                                                      \n",
              "1                                           22025939                                                      \n",
              "2                                        7490207.043                                                      \n",
              "3                                        6140662.723                                                      \n",
              "4                                            1162393                                                      "
            ]
          },
          "metadata": {
            "tags": []
          },
          "execution_count": 58
        }
      ]
    },
    {
      "metadata": {
        "id": "C-Lai6OGMBCM",
        "colab_type": "code",
        "colab": {
          "base_uri": "https://localhost:8080/",
          "height": 84
        },
        "outputId": "c286d93b-0f71-4657-daf6-4dd060f5ca11"
      },
      "cell_type": "code",
      "source": [
        "list(df1)"
      ],
      "execution_count": 59,
      "outputs": [
        {
          "output_type": "execute_result",
          "data": {
            "text/plain": [
              "['Neighborhood',\n",
              " 'Id',\n",
              " 'Estimate; Aggregate household income in the past 12 months (in 2015 Inflation-adjusted dollars)',\n",
              " 'Margin of Error; Aggregate household income in the past 12 months (in 2015 Inflation-adjusted dollars)']"
            ]
          },
          "metadata": {
            "tags": []
          },
          "execution_count": 59
        }
      ]
    },
    {
      "metadata": {
        "id": "vlLaGzg-MLCZ",
        "colab_type": "code",
        "colab": {
          "base_uri": "https://localhost:8080/",
          "height": 34
        },
        "outputId": "ece83b19-e3e8-49e9-b665-80430b75e64d"
      },
      "cell_type": "code",
      "source": [
        "len(df1)"
      ],
      "execution_count": 60,
      "outputs": [
        {
          "output_type": "execute_result",
          "data": {
            "text/plain": [
              "91"
            ]
          },
          "metadata": {
            "tags": []
          },
          "execution_count": 60
        }
      ]
    },
    {
      "metadata": {
        "id": "CpCn5TipMP8r",
        "colab_type": "code",
        "colab": {}
      },
      "cell_type": "code",
      "source": [
        "#more meh data"
      ],
      "execution_count": 0,
      "outputs": []
    },
    {
      "metadata": {
        "id": "ZkctfR60OnAQ",
        "colab_type": "code",
        "colab": {
          "base_uri": "https://localhost:8080/",
          "height": 232
        },
        "outputId": "7559f268-9840-4d83-b79c-f8bdcd309320"
      },
      "cell_type": "code",
      "source": [
        "df = pd.read_csv('https://data.baltimorecity.gov/api/views/782b-zpd7/rows.csv?accessType=DOWNLOAD')\n",
        "df.head(5)"
      ],
      "execution_count": 62,
      "outputs": [
        {
          "output_type": "execute_result",
          "data": {
            "text/html": [
              "<div>\n",
              "<style scoped>\n",
              "    .dataframe tbody tr th:only-of-type {\n",
              "        vertical-align: middle;\n",
              "    }\n",
              "\n",
              "    .dataframe tbody tr th {\n",
              "        vertical-align: top;\n",
              "    }\n",
              "\n",
              "    .dataframe thead th {\n",
              "        text-align: right;\n",
              "    }\n",
              "</style>\n",
              "<table border=\"1\" class=\"dataframe\">\n",
              "  <thead>\n",
              "    <tr style=\"text-align: right;\">\n",
              "      <th></th>\n",
              "      <th>blockGroup</th>\n",
              "      <th>marketCategory</th>\n",
              "      <th>sales20092010</th>\n",
              "      <th>salesPriceCoefficientVariance</th>\n",
              "      <th>commercialResidentialLandRatio</th>\n",
              "      <th>unitsPerSquareMile</th>\n",
              "      <th>residentialPermits</th>\n",
              "      <th>vacantLots</th>\n",
              "      <th>vacantHouseNotices</th>\n",
              "      <th>foreclosureFilings</th>\n",
              "      <th>medianSalesPrice20092010</th>\n",
              "      <th>ownerOccupied</th>\n",
              "    </tr>\n",
              "  </thead>\n",
              "  <tbody>\n",
              "    <tr>\n",
              "      <th>0</th>\n",
              "      <td>101001</td>\n",
              "      <td>Regional Choice</td>\n",
              "      <td>79</td>\n",
              "      <td>0.40</td>\n",
              "      <td>15.25</td>\n",
              "      <td>15225.0</td>\n",
              "      <td>0</td>\n",
              "      <td>0</td>\n",
              "      <td>0</td>\n",
              "      <td>3</td>\n",
              "      <td>238000.0</td>\n",
              "      <td>78.0</td>\n",
              "    </tr>\n",
              "    <tr>\n",
              "      <th>1</th>\n",
              "      <td>101002</td>\n",
              "      <td>Regional Choice</td>\n",
              "      <td>69</td>\n",
              "      <td>0.35</td>\n",
              "      <td>3.59</td>\n",
              "      <td>11975.0</td>\n",
              "      <td>1</td>\n",
              "      <td>1</td>\n",
              "      <td>1</td>\n",
              "      <td>5</td>\n",
              "      <td>235000.0</td>\n",
              "      <td>69.4</td>\n",
              "    </tr>\n",
              "    <tr>\n",
              "      <th>2</th>\n",
              "      <td>101003</td>\n",
              "      <td>Regional Choice</td>\n",
              "      <td>47</td>\n",
              "      <td>0.41</td>\n",
              "      <td>5.08</td>\n",
              "      <td>6100.0</td>\n",
              "      <td>0</td>\n",
              "      <td>3</td>\n",
              "      <td>0</td>\n",
              "      <td>3</td>\n",
              "      <td>299000.0</td>\n",
              "      <td>78.6</td>\n",
              "    </tr>\n",
              "    <tr>\n",
              "      <th>3</th>\n",
              "      <td>102001</td>\n",
              "      <td>Middle Market Choice</td>\n",
              "      <td>51</td>\n",
              "      <td>0.49</td>\n",
              "      <td>0.00</td>\n",
              "      <td>12300.0</td>\n",
              "      <td>1</td>\n",
              "      <td>0</td>\n",
              "      <td>2</td>\n",
              "      <td>8</td>\n",
              "      <td>159900.0</td>\n",
              "      <td>68.8</td>\n",
              "    </tr>\n",
              "    <tr>\n",
              "      <th>4</th>\n",
              "      <td>102002</td>\n",
              "      <td>Regional Choice</td>\n",
              "      <td>32</td>\n",
              "      <td>0.46</td>\n",
              "      <td>0.00</td>\n",
              "      <td>14100.0</td>\n",
              "      <td>0</td>\n",
              "      <td>0</td>\n",
              "      <td>2</td>\n",
              "      <td>5</td>\n",
              "      <td>199694.0</td>\n",
              "      <td>77.2</td>\n",
              "    </tr>\n",
              "  </tbody>\n",
              "</table>\n",
              "</div>"
            ],
            "text/plain": [
              "   blockGroup        marketCategory  sales20092010  \\\n",
              "0      101001       Regional Choice             79   \n",
              "1      101002       Regional Choice             69   \n",
              "2      101003       Regional Choice             47   \n",
              "3      102001  Middle Market Choice             51   \n",
              "4      102002       Regional Choice             32   \n",
              "\n",
              "   salesPriceCoefficientVariance   commercialResidentialLandRatio  \\\n",
              "0                            0.40                           15.25   \n",
              "1                            0.35                            3.59   \n",
              "2                            0.41                            5.08   \n",
              "3                            0.49                            0.00   \n",
              "4                            0.46                            0.00   \n",
              "\n",
              "   unitsPerSquareMile  residentialPermits  vacantLots  vacantHouseNotices  \\\n",
              "0             15225.0                   0           0                   0   \n",
              "1             11975.0                   1           1                   1   \n",
              "2              6100.0                   0           3                   0   \n",
              "3             12300.0                   1           0                   2   \n",
              "4             14100.0                   0           0                   2   \n",
              "\n",
              "   foreclosureFilings  medianSalesPrice20092010  ownerOccupied  \n",
              "0                   3                  238000.0           78.0  \n",
              "1                   5                  235000.0           69.4  \n",
              "2                   3                  299000.0           78.6  \n",
              "3                   8                  159900.0           68.8  \n",
              "4                   5                  199694.0           77.2  "
            ]
          },
          "metadata": {
            "tags": []
          },
          "execution_count": 62
        }
      ]
    },
    {
      "metadata": {
        "id": "BLLwTNUFO4P2",
        "colab_type": "code",
        "colab": {
          "base_uri": "https://localhost:8080/",
          "height": 34
        },
        "outputId": "49239db9-cdf5-42cf-e038-2597365165d5"
      },
      "cell_type": "code",
      "source": [
        "len(df)"
      ],
      "execution_count": 63,
      "outputs": [
        {
          "output_type": "execute_result",
          "data": {
            "text/plain": [
              "710"
            ]
          },
          "metadata": {
            "tags": []
          },
          "execution_count": 63
        }
      ]
    },
    {
      "metadata": {
        "id": "Rbj3CE3FO-Yg",
        "colab_type": "code",
        "colab": {
          "base_uri": "https://localhost:8080/",
          "height": 218
        },
        "outputId": "8dbba50f-ef0c-440d-d584-7139c5e95033"
      },
      "cell_type": "code",
      "source": [
        "list(df)"
      ],
      "execution_count": 64,
      "outputs": [
        {
          "output_type": "execute_result",
          "data": {
            "text/plain": [
              "['blockGroup',\n",
              " 'marketCategory',\n",
              " 'sales20092010',\n",
              " 'salesPriceCoefficientVariance ',\n",
              " 'commercialResidentialLandRatio',\n",
              " 'unitsPerSquareMile',\n",
              " 'residentialPermits',\n",
              " 'vacantLots',\n",
              " 'vacantHouseNotices',\n",
              " 'foreclosureFilings',\n",
              " 'medianSalesPrice20092010',\n",
              " 'ownerOccupied']"
            ]
          },
          "metadata": {
            "tags": []
          },
          "execution_count": 64
        }
      ]
    },
    {
      "metadata": {
        "id": "1UZu4u5tPATW",
        "colab_type": "code",
        "colab": {
          "base_uri": "https://localhost:8080/",
          "height": 347
        },
        "outputId": "2cbb17a9-df64-432b-c95a-3c145b464f8a"
      },
      "cell_type": "code",
      "source": [
        "plt.scatter(df['sales20092010'],df['foreclosureFilings'])\n",
        "plt.show()"
      ],
      "execution_count": 65,
      "outputs": [
        {
          "output_type": "display_data",
          "data": {
            "image/png": "[encoded data removed]",
            "text/plain": [
              "<matplotlib.figure.Figure at 0x7f4dc0db4da0>"
            ]
          },
          "metadata": {
            "tags": []
          }
        }
      ]
    },
    {
      "metadata": {
        "id": "ozG0HKjoPqv2",
        "colab_type": "code",
        "colab": {
          "base_uri": "https://localhost:8080/",
          "height": 168
        },
        "outputId": "e9180313-b4d9-401b-b444-2e9eebc2c238"
      },
      "cell_type": "code",
      "source": [
        "df['foreclosureFilings'].describe()"
      ],
      "execution_count": 66,
      "outputs": [
        {
          "output_type": "execute_result",
          "data": {
            "text/plain": [
              "count    710.000000\n",
              "mean       5.867606\n",
              "std       17.069573\n",
              "min        0.000000\n",
              "25%        3.000000\n",
              "50%        5.000000\n",
              "75%        7.000000\n",
              "max      450.000000\n",
              "Name: foreclosureFilings, dtype: float64"
            ]
          },
          "metadata": {
            "tags": []
          },
          "execution_count": 66
        }
      ]
    },
    {
      "metadata": {
        "id": "5JxK7BxDQCy7",
        "colab_type": "code",
        "colab": {}
      },
      "cell_type": "code",
      "source": [
        "test=df['foreclosureFilings'].sort_values(ascending=False)"
      ],
      "execution_count": 0,
      "outputs": []
    },
    {
      "metadata": {
        "id": "b9FGAPUfQQdK",
        "colab_type": "code",
        "colab": {
          "base_uri": "https://localhost:8080/",
          "height": 1058
        },
        "outputId": "68faa6b7-3f2e-4ad0-a977-c60baccddb7a"
      },
      "cell_type": "code",
      "source": [
        "print(test)"
      ],
      "execution_count": 81,
      "outputs": [
        {
          "output_type": "stream",
          "text": [
            "497    450\n",
            "336     50\n",
            "30      26\n",
            "26      21\n",
            "457     20\n",
            "180     20\n",
            "175     18\n",
            "22      18\n",
            "438     17\n",
            "40      15\n",
            "349     15\n",
            "179     15\n",
            "147     14\n",
            "300     14\n",
            "498     14\n",
            "43      13\n",
            "254     13\n",
            "182     13\n",
            "185     13\n",
            "269     13\n",
            "36      13\n",
            "482     13\n",
            "257     13\n",
            "256     12\n",
            "472     12\n",
            "181     12\n",
            "259     11\n",
            "272     11\n",
            "278     11\n",
            "136     11\n",
            "      ... \n",
            "669      0\n",
            "197      0\n",
            "667      0\n",
            "674      0\n",
            "199      0\n",
            "329      0\n",
            "27       0\n",
            "28       0\n",
            "143      0\n",
            "144      0\n",
            "145      0\n",
            "146      0\n",
            "101      0\n",
            "429      0\n",
            "458      0\n",
            "491      0\n",
            "492      0\n",
            "493      0\n",
            "499      0\n",
            "502      0\n",
            "159      0\n",
            "566      0\n",
            "567      0\n",
            "58       0\n",
            "57       0\n",
            "46       0\n",
            "613      0\n",
            "172      0\n",
            "29       0\n",
            "709      0\n",
            "Name: foreclosureFilings, Length: 710, dtype: int64\n"
          ],
          "name": "stdout"
        }
      ]
    },
    {
      "metadata": {
        "id": "sJYjm0lzSTsz",
        "colab_type": "code",
        "colab": {}
      },
      "cell_type": "code",
      "source": [
        "clean_df = df.drop([497,336])"
      ],
      "execution_count": 0,
      "outputs": []
    },
    {
      "metadata": {
        "id": "LQmt6ZM2TAmE",
        "colab_type": "code",
        "colab": {
          "base_uri": "https://localhost:8080/",
          "height": 413
        },
        "outputId": "ce28cc2a-883a-4020-aafc-bbcbeb21234b"
      },
      "cell_type": "code",
      "source": [
        "fig, ax = plt.subplots()\n",
        "plt.scatter(clean_df['sales20092010'],clean_df['foreclosureFilings'])\n",
        "ax.set_xlabel('Number of Residential Sales from 2009-2010')\n",
        "ax.set_ylabel('Foreclosure filings (2009-2010) as a percent of privately owned residential lots')\n",
        "plt.show()"
      ],
      "execution_count": 88,
      "outputs": [
        {
          "output_type": "display_data",
          "data": {
            "image/png": "[encoded data removed]",
            "text/plain": [
              "<matplotlib.figure.Figure at 0x7f4dc0aaaac8>"
            ]
          },
          "metadata": {
            "tags": []
          }
        }
      ]
    },
    {
      "metadata": {
        "id": "69qlc8Y9VOB0",
        "colab_type": "code",
        "colab": {
          "base_uri": "https://localhost:8080/",
          "height": 393
        },
        "outputId": "edd27020-00e1-4a66-ba7a-8650b21996b4"
      },
      "cell_type": "code",
      "source": [
        "import seaborn as sns; sns.set(color_codes=True)\n",
        "ax = sns.regplot(x='sales20092010', y='foreclosureFilings', data=clean_df)\n",
        "plt.xlabel(\"Number of Residential Sales\")\n",
        "plt.ylabel(\"Foreclosure filings as % of privately owned residential lots\")\n",
        "plt.title(\"Residential Sales vs. Foreclosure Filings in Baltimore by Neighborhood (2009-2010)\")"
      ],
      "execution_count": 100,
      "outputs": [
        {
          "output_type": "execute_result",
          "data": {
            "text/plain": [
              "Text(0.5,1,'Residential Sales vs. Foreclosure Filings in Baltimore by Neighborhood (2009-2010)')"
            ]
          },
          "metadata": {
            "tags": []
          },
          "execution_count": 100
        },
        {
          "output_type": "display_data",
          "data": {
            "image/png": "[encoded data removed]",
            "text/plain": [
              "<matplotlib.figure.Figure at 0x7f4dc1125be0>"
            ]
          },
          "metadata": {
            "tags": []
          }
        }
      ]
    },
    {
      "metadata": {
        "id": "EtLhhSLVWbz2",
        "colab_type": "code",
        "colab": {}
      },
      "cell_type": "code",
      "source": [
        "# ['blockGroup',\n",
        "#  'marketCategory',\n",
        "#  'sales20092010',\n",
        "#  'salesPriceCoefficientVariance ',\n",
        "#  'commercialResidentialLandRatio',\n",
        "#  'unitsPerSquareMile',\n",
        "#  'residentialPermits',\n",
        "#  'vacantLots',\n",
        "#  'vacantHouseNotices',\n",
        "#  'foreclosureFilings',\n",
        "#  'medianSalesPrice20092010',\n",
        "#  'ownerOccupied']"
      ],
      "execution_count": 0,
      "outputs": []
    },
    {
      "metadata": {
        "id": "rrD8GtRhZWtn",
        "colab_type": "code",
        "colab": {
          "base_uri": "https://localhost:8080/",
          "height": 393
        },
        "outputId": "0bdc5461-98c3-4b55-ea76-847357a8d3a4"
      },
      "cell_type": "code",
      "source": [
        "ax = sns.regplot(x='medianSalesPrice20092010', y='foreclosureFilings', data=clean_df)\n",
        "plt.xlabel(\"Median Sales Price\")\n",
        "plt.ylabel(\"Foreclosure filings as % of privately owned residential lots\")\n",
        "plt.title(\"Median Sales Price vs. Foreclosure Filings in Baltimore by Neighborhood (2009-2010)\")"
      ],
      "execution_count": 102,
      "outputs": [
        {
          "output_type": "execute_result",
          "data": {
            "text/plain": [
              "Text(0.5,1,'Median Sales Price vs. Foreclosure Filings in Baltimore by Neighborhood (2009-2010)')"
            ]
          },
          "metadata": {
            "tags": []
          },
          "execution_count": 102
        },
        {
          "output_type": "display_data",
          "data": {
            "image/png": "[encoded data removed]",
            "text/plain": [
              "<matplotlib.figure.Figure at 0x7f4dc106d0b8>"
            ]
          },
          "metadata": {
            "tags": []
          }
        }
      ]
    },
    {
      "metadata": {
        "id": "ZRZLgXp4ZsxC",
        "colab_type": "code",
        "colab": {
          "base_uri": "https://localhost:8080/",
          "height": 393
        },
        "outputId": "2f536218-0dd7-4cfe-c2cc-3584e15e570f"
      },
      "cell_type": "code",
      "source": [
        "ax = sns.regplot(x='vacantLots', y='foreclosureFilings', data=clean_df)\n",
        "plt.xlabel(\"Vacant Lots\")\n",
        "plt.ylabel(\"Foreclosure filings as % of privately owned residential lots\")\n",
        "plt.title(\"Vacant Lots vs. Foreclosure Filings in Baltimore by Neighborhood (2009-2010)\")"
      ],
      "execution_count": 104,
      "outputs": [
        {
          "output_type": "execute_result",
          "data": {
            "text/plain": [
              "Text(0.5,1,'Vacant Lots vs. Foreclosure Filings in Baltimore by Neighborhood (2009-2010)')"
            ]
          },
          "metadata": {
            "tags": []
          },
          "execution_count": 104
        },
        {
          "output_type": "display_data",
          "data": {
            "image/png": "[encoded data removed]",
            "text/plain": [
              "<matplotlib.figure.Figure at 0x7f4dc09af550>"
            ]
          },
          "metadata": {
            "tags": []
          }
        }
      ]
    },
    {
      "metadata": {
        "id": "daQRQ1JsadwS",
        "colab_type": "code",
        "colab": {}
      },
      "cell_type": "code",
      "source": [
        ""
      ],
      "execution_count": 0,
      "outputs": []
    }
  ]
}