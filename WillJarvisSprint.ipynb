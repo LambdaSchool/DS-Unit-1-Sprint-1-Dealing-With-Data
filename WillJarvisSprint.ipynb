{
  "nbformat": 4,
  "nbformat_minor": 0,
  "metadata": {
    "colab": {
      "name": "DS_Unit_1_Sprint_Challenge_1.ipynb",
      "version": "0.3.2",
      "provenance": [],
      "collapsed_sections": [],
      "include_colab_link": true
    },
    "kernelspec": {
      "name": "python3",
      "display_name": "Python 3"
    }
  },
  "cells": [
    {
      "cell_type": "markdown",
      "metadata": {
        "id": "view-in-github",
        "colab_type": "text"
      },
      "source": [
        "<a href=\"https://colab.research.google.com/github/wjarvis2/DS-Sprint-01-Dealing-With-Data/blob/master/WillJarvisSprint.ipynb\" target=\"_parent\"><img src=\"https://colab.research.google.com/assets/colab-badge.svg\" alt=\"Open In Colab\"/></a>"
      ]
    },
    {
      "metadata": {
        "id": "NooAiTdnafkz",
        "colab_type": "text"
      },
      "cell_type": "markdown",
      "source": [
        "# Data Science Unit 1 Sprint Challenge 1\n",
        "\n",
        "## Loading, cleaning, visualizing, and analyzing data\n",
        "\n",
        "In this sprint challenge you will look at a dataset of the survival of patients who underwent surgery for breast cancer.\n",
        "\n",
        "http://archive.ics.uci.edu/ml/datasets/Haberman%27s+Survival\n",
        "\n",
        "Data Set Information:\n",
        "The dataset contains cases from a study that was conducted between 1958 and 1970 at the University of Chicago's Billings Hospital on the survival of patients who had undergone surgery for breast cancer.\n",
        "\n",
        "Attribute Information:\n",
        "1. Age of patient at time of operation (numerical)\n",
        "2. Patient's year of operation (year - 1900, numerical)\n",
        "3. Number of positive axillary nodes detected (numerical)\n",
        "4. Survival status (class attribute)\n",
        "-- 1 = the patient survived 5 years or longer\n",
        "-- 2 = the patient died within 5 year\n",
        "\n",
        "Sprint challenges are evaluated based on satisfactory completion of each part. It is suggested you work through it in order, getting each aspect reasonably working, before trying to deeply explore, iterate, or refine any given step. Once you get to the end, if you want to go back and improve things, go for it!"
      ]
    },
    {
      "metadata": {
        "id": "5wch6ksCbJtZ",
        "colab_type": "text"
      },
      "cell_type": "markdown",
      "source": [
        "## Part 1 - Load and validate the data\n",
        "\n",
        "- Load the data as a `pandas` data frame.\n",
        "- Validate that it has the appropriate number of observations (you can check the raw file, and also read the dataset description from UCI).\n",
        "- Validate that you have no missing values.\n",
        "- Add informative names to the features.\n",
        "- The survival variable is encoded as 1 for surviving >5 years and 2 for not - change this to be 0 for not surviving and 1 for surviving >5 years (0/1 is a more traditional encoding of binary variables)\n",
        "\n",
        "At the end, print the first five rows of the dataset to demonstrate the above."
      ]
    },
    {
      "metadata": {
        "id": "287TpoGKFRVK",
        "colab_type": "code",
        "colab": {
          "base_uri": "https://localhost:8080/",
          "height": 119
        },
        "outputId": "bd750ada-8a6f-4332-8662-8f331196e2b2"
      },
      "cell_type": "code",
      "source": [
        "import pandas as pd\n",
        "import numpy as np\n",
        "import matplotlib.pyplot as plt\n",
        "\n",
        "# Reading in data\n",
        "df_with_autoheaders = pd.read_csv('http://archive.ics.uci.edu/ml/machine-learning-databases/haberman/haberman.data')\n",
        "\n",
        "# Validating # of instances\n",
        "df_with_autoheaders.shape\n",
        "\n",
        "# UCI says it has 306 instances while df.shape says 305\n",
        "# df.head shows pandas has opted to take the first instance and treat it as labels.\n",
        "# Treating the first instance as labels is the reason for the discrepancy\n",
        "\n",
        "# Validating no missing values\n",
        "df_with_autoheaders.isnull().sum()\n",
        "\n",
        "# Adding names to columns by defining df with headers=none\n",
        "df = pd.read_csv('http://archive.ics.uci.edu/ml/machine-learning-databases/haberman/haberman.data', header=0)\n",
        "\n",
        "# Naming columns\n",
        "df.columns = ['Age', 'Op_year', 'Nodes_detected', 'Survival']\n",
        "\n",
        "# Remapping survival variable to traditional binary\n",
        "survivaldict = {2: 0, 1:1}\n",
        "df['Survival'] = df['Survival'].map(survivaldict)\n",
        "\n",
        "# Printing first 5 rows\n",
        "print (df.head(5))\n",
        "\n",
        "\n"
      ],
      "execution_count": 44,
      "outputs": [
        {
          "output_type": "stream",
          "text": [
            "   Age  Op_year  Nodes_detected  Survival\n",
            "0   30       62               3         1\n",
            "1   30       65               0         1\n",
            "2   31       59               2         1\n",
            "3   31       65               4         1\n",
            "4   33       58              10         1\n"
          ],
          "name": "stdout"
        }
      ]
    },
    {
      "metadata": {
        "id": "G7rLytbrO38L",
        "colab_type": "text"
      },
      "cell_type": "markdown",
      "source": [
        "## Part 2 - Examine the distribution and relationships of the features\n",
        "\n",
        "Explore the data - create at least *2* tables (can be summary statistics or crosstabulations) and *2* plots illustrating the nature of the data.\n",
        "\n",
        "This is open-ended, so to remind - first *complete* this task as a baseline, then go on to the remaining sections, and *then* as time allows revisit and explore further.\n",
        "\n",
        "Hint - you may need to bin some variables depending on your chosen tables/plots."
      ]
    },
    {
      "metadata": {
        "id": "IAkllgCIFVj0",
        "colab_type": "code",
        "colab": {
          "base_uri": "https://localhost:8080/",
          "height": 2397
        },
        "outputId": "73b18163-7b5a-43a3-d720-c6115235804e"
      },
      "cell_type": "code",
      "source": [
        "# Table 1: Correlation table of entire df\n",
        "print (df.corr())\n",
        "print ('\\n')\n",
        "print ('\\n')\n",
        "# Checking descriptive stats to appropriately apply values to bins\n",
        "print ('Age Descriptive Stats:')\n",
        "print (df['Age'].describe())\n",
        "print ('\\n')\n",
        "print ('Nodes Detected Descriptive Stats:')\n",
        "print (df['Nodes_detected'].describe())\n",
        "print ('\\n')\n",
        "print ('Operation Year Descriptive Stats:')\n",
        "print (df['Op_year'].describe())\n",
        "print ('\\n')\n",
        "# Binning Age and Year of operation, and Nodes detected\n",
        "age_criteria = [df['Age'].between(30,40), df['Age'].between(41,50), df['Age'].between(51,60), df['Age'].between(61,70), df['Age'].between(71,83)]\n",
        "age_values = [1,2,3,4,5]\n",
        "\n",
        "opyr_criteria = [df['Op_year'].between(58,60), df['Op_year'].between(61,63), df['Op_year'].between(64,66), df['Op_year'].between(67,69)]\n",
        "opyr_values = [1, 2, 3, 4]\n",
        "\n",
        "nodes_criteria = [df['Nodes_detected'].between(0,10), df['Nodes_detected'].between(11,20), df['Nodes_detected'].between(21,30), df['Nodes_detected'].between(31,40), df['Nodes_detected'].between(41,52)]\n",
        "nodes_values = [1, 2, 3, 4, 5]\n",
        "\n",
        "# Making a new column for bin criteria\n",
        "df['age_ranges'] = np.select(age_criteria, age_values)\n",
        "#print (df['age_ranges'])\n",
        "# Table 2: Crosstab of df\n",
        "print (pd.crosstab(df['Survival'],df['age_ranges'], normalize='columns' ))\n",
        "print ('\\n')\n",
        "df['opyr_ranges'] = np.select(opyr_criteria, opyr_values)\n",
        "print (pd.crosstab(df['Survival'],df['opyr_ranges'], normalize='columns' ))\n",
        "print ('\\n')\n",
        "df['node_ranges'] = np.select(nodes_criteria, nodes_values)\n",
        "print (pd.crosstab(df['Survival'],df['node_ranges'], normalize='columns' ))\n",
        "print ('\\n')\n",
        "\n",
        "\n",
        "print (pd.pivot_table(df,values='Survival', index='age_ranges').plot.bar())\n",
        "\n",
        "print (pd.pivot_table(df,values='Survival', index='opyr_ranges').plot.bar())\n",
        "\n",
        "print (pd.pivot_table(df,values='Survival', index='node_ranges').plot.bar())\n",
        "\n",
        "\n"
      ],
      "execution_count": 71,
      "outputs": [
        {
          "output_type": "stream",
          "text": [
            "                     Age   Op_year  Nodes_detected  Survival  Age_ranges  \\\n",
            "Age             1.000000  0.092623       -0.066548 -0.064351    0.963889   \n",
            "Op_year         0.092623  1.000000       -0.003277  0.004076    0.093474   \n",
            "Nodes_detected -0.066548 -0.003277        1.000000 -0.286191   -0.053598   \n",
            "Survival       -0.064351  0.004076       -0.286191  1.000000   -0.081384   \n",
            "Age_ranges      0.963889  0.093474       -0.053598 -0.081384    1.000000   \n",
            "opyr_ranges     0.126407  0.966518       -0.007447  0.004877    0.120584   \n",
            "node_ranges    -0.029602  0.005119        0.931517 -0.238162   -0.023185   \n",
            "age_ranges      0.963889  0.093474       -0.053598 -0.081384    1.000000   \n",
            "\n",
            "                opyr_ranges  node_ranges  age_ranges  \n",
            "Age                0.126407    -0.029602    0.963889  \n",
            "Op_year            0.966518     0.005119    0.093474  \n",
            "Nodes_detected    -0.007447     0.931517   -0.053598  \n",
            "Survival           0.004877    -0.238162   -0.081384  \n",
            "Age_ranges         0.120584    -0.023185    1.000000  \n",
            "opyr_ranges        1.000000    -0.005345    0.120584  \n",
            "node_ranges       -0.005345     1.000000   -0.023185  \n",
            "age_ranges         0.120584    -0.023185    1.000000  \n",
            "\n",
            "\n",
            "\n",
            "\n",
            "Age Descriptive Stats:\n",
            "count    305.000000\n",
            "mean      52.531148\n",
            "std       10.744024\n",
            "min       30.000000\n",
            "25%       44.000000\n",
            "50%       52.000000\n",
            "75%       61.000000\n",
            "max       83.000000\n",
            "Name: Age, dtype: float64\n",
            "\n",
            "\n",
            "Nodes Detected Descriptive Stats:\n",
            "count    305.000000\n",
            "mean       4.036066\n",
            "std        7.199370\n",
            "min        0.000000\n",
            "25%        0.000000\n",
            "50%        1.000000\n",
            "75%        4.000000\n",
            "max       52.000000\n",
            "Name: Nodes_detected, dtype: float64\n",
            "\n",
            "\n",
            "Operation Year Descriptive Stats:\n",
            "count    305.000000\n",
            "mean      62.849180\n",
            "std        3.254078\n",
            "min       58.000000\n",
            "25%       60.000000\n",
            "50%       63.000000\n",
            "75%       66.000000\n",
            "max       69.000000\n",
            "Name: Op_year, dtype: float64\n",
            "\n",
            "\n",
            "age_ranges         1         2        3         4         5\n",
            "Survival                                                   \n",
            "0           0.095238  0.311828  0.27957  0.285714  0.285714\n",
            "1           0.904762  0.688172  0.72043  0.714286  0.714286\n",
            "\n",
            "\n",
            "opyr_ranges         1         2         3        4\n",
            "Survival                                          \n",
            "0            0.274725  0.227848  0.313953  0.22449\n",
            "1            0.725275  0.772152  0.686047  0.77551\n",
            "\n",
            "\n",
            "node_ranges         1         2         3    4    5\n",
            "Survival                                           \n",
            "0            0.218868  0.576923  0.545455  1.0  0.5\n",
            "1            0.781132  0.423077  0.454545  0.0  0.5\n",
            "\n",
            "\n",
            "AxesSubplot(0.125,0.125;0.775x0.755)\n",
            "AxesSubplot(0.125,0.125;0.775x0.755)\n",
            "AxesSubplot(0.125,0.125;0.775x0.755)\n"
          ],
          "name": "stdout"
        },
        {
          "output_type": "display_data",
          "data": {
            "image/png": "[encoded data removed]",
            "text/plain": [
              "<matplotlib.figure.Figure at 0x7fa765b76a90>"
            ]
          },
          "metadata": {
            "tags": []
          }
        },
        {
          "output_type": "display_data",
          "data": {
            "image/png": "[encoded data removed]",
            "text/plain": [
              "<matplotlib.figure.Figure at 0x7fa761df8080>"
            ]
          },
          "metadata": {
            "tags": []
          }
        },
        {
          "output_type": "display_data",
          "data": {
            "image/png": "[encoded data removed]",
            "text/plain": [
              "<matplotlib.figure.Figure at 0x7fa761b04160>"
            ]
          },
          "metadata": {
            "tags": []
          }
        }
      ]
    },
    {
      "metadata": {
        "id": "ZM8JckA2bgnp",
        "colab_type": "text"
      },
      "cell_type": "markdown",
      "source": [
        "## Part 3 - Analysis and Interpretation\n",
        "\n",
        "Now that you've looked at the data, answer the following questions:\n",
        "\n",
        "- What is at least one feature that looks to have a positive relationship with survival?\n",
        "- What is at least one feature that looks to have a negative relationship with survival?\n",
        "- How are those two features related with each other, and what might that mean?\n",
        "\n",
        "Answer with text, but feel free to intersperse example code/results or refer to it from earlier."
      ]
    },
    {
      "metadata": {
        "id": "otn1Yk7yJPEx",
        "colab_type": "code",
        "colab": {
          "base_uri": "https://localhost:8080/",
          "height": 466
        },
        "outputId": "c37328ef-b43b-4773-f1f0-f964518eaf18"
      },
      "cell_type": "code",
      "source": [
        "#plt.scatter(df['Age'], df['Nodes_detected'])\n",
        "#plt.scatter(df['Nodes_detected'], df['Op_year'])\n",
        "#plt.scatter(df['Age'], df['Op_year'])\n",
        "#plt.show()\n",
        "\n",
        "\n",
        "print ('Correlation between survival and number of nodes detected:', df['Survival'].corr(df['Nodes_detected']))\n",
        "print ('Correlation between survival and age:', df['Survival'].corr(df['Age']))\n",
        "print ('Correlation between survival and operation year:', df['Survival'].corr(df['Op_year']))\n",
        "print ('Correlation between nodes detected and operation year:', df['Nodes_detected'].corr(df['Op_year']))\n",
        "\n",
        "# One feature that has a positive relationship with survival, although slight, is the operation year.\n",
        "# One feature that has a negative relationship with survival is the number of nodes detected.\n",
        "# Number of nodes detected is slighlty correlated with a decrease in operation year. This make it appear\n",
        "# less nodes are detected as time progresses, which may be true, but this could just be a factor of an \n",
        "# irregular dataset. \n",
        "\n",
        "print (df['Op_year'].plot.density())\n",
        "\n",
        "# Upon further inspection, the distribution looks almost bimodal and depending on \n",
        "\n",
        "print (df['Op_year'].hist(bins=10))\n",
        "\n",
        "# Looking at the histogram, it is clear that there were just many more cases\n",
        "# toward the earlier years of the dataset, especiall in 1962. Because the volume\n",
        "# was so irregularly high, this created a spurious correlation with operation year \n",
        "# and number of nodes. \n",
        "\n",
        "# Really, the 75 percentile for node count is only 4 nodes, but the max found in \n",
        "# the dataset is 52. A small number out outliers really distorted that whole feature.\n",
        "\n",
        "print (df['Nodes_detected'].hist(bins=20))\n",
        "# This histogram really drives the point home."
      ],
      "execution_count": 101,
      "outputs": [
        {
          "output_type": "stream",
          "text": [
            "Correlation between survival and number of nodes detected: -0.28619050711851296\n",
            "Correlation between survival and age: -0.06435101236634085\n",
            "Correlation between survival and operation year: 0.004075846040974922\n",
            "Correlation between nodes detected and operation year: -0.003277352558497927\n",
            "AxesSubplot(0.125,0.125;0.775x0.755)\n",
            "AxesSubplot(0.125,0.125;0.775x0.755)\n",
            "AxesSubplot(0.125,0.125;0.775x0.755)\n"
          ],
          "name": "stdout"
        },
        {
          "output_type": "display_data",
          "data": {
            "image/png": "[encoded data removed]",
            "text/plain": [
              "<matplotlib.figure.Figure at 0x7fa76169ad68>"
            ]
          },
          "metadata": {
            "tags": []
          }
        }
      ]
    },
    {
      "metadata": {
        "id": "L9Qt_xpkJv_H",
        "colab_type": "code",
        "colab": {}
      },
      "cell_type": "code",
      "source": [
        ""
      ],
      "execution_count": 0,
      "outputs": []
    },
    {
      "metadata": {
        "id": "l9H-GDvtQNZY",
        "colab_type": "code",
        "colab": {}
      },
      "cell_type": "code",
      "source": [
        ""
      ],
      "execution_count": 0,
      "outputs": []
    }
  ]
}