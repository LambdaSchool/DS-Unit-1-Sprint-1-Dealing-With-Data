{
  "nbformat": 4,
  "nbformat_minor": 0,
  "metadata": {
    "colab": {
      "name": "LS_DS_112_Loading_Data_Assignment.ipynb",
      "version": "0.3.2",
      "provenance": [],
      "collapsed_sections": [],
      "toc_visible": true,
      "include_colab_link": true
    },
    "kernelspec": {
      "name": "python3",
      "display_name": "Python 3"
    }
  },
  "cells": [
    {
      "cell_type": "markdown",
      "metadata": {
        "id": "view-in-github",
        "colab_type": "text"
      },
      "source": [
        "<a href=\"https://colab.research.google.com/github/mefrem/DS-Unit-1-Sprint-1-Dealing-With-Data/blob/master/module2-loadingdata/LS_DS_112_Loading_Data_Assignment.ipynb\" target=\"_parent\"><img src=\"https://colab.research.google.com/assets/colab-badge.svg\" alt=\"Open In Colab\"/></a>"
      ]
    },
    {
      "cell_type": "markdown",
      "metadata": {
        "colab_type": "text",
        "id": "MSnsTgZLKO72"
      },
      "source": [
        "# Practice Loading Datasets\n",
        "\n",
        "This assignment is purposely semi-open-ended you will be asked to load datasets both from github and also from CSV files from the [UC Irvine Machine Learning Repository](https://archive.ics.uci.edu/ml/index.php). \n",
        "\n",
        "Remember that the UCI datasets may not have a file type of `.csv` so it's important that you learn as much as you can about the dataset before you try and load it. See if you can look at the raw text of the file either locally, on github, using the `!curl` shell command, or in some other way before you try and read it in as a dataframe, this will help you catch what would otherwise be unforseen problems.\n"
      ]
    },
    {
      "cell_type": "markdown",
      "metadata": {
        "id": "156P6ndeKojO",
        "colab_type": "text"
      },
      "source": [
        "## 1) Load a dataset from Github (via its *RAW* URL)\n",
        "\n",
        "Pick a dataset from the following repository and load it into Google Colab. Make sure that the headers are what you would expect and check to see if missing values have been encoded as NaN values:\n",
        "\n",
        "<https://github.com/ryanleeallred/datasets>"
      ]
    },
    {
      "cell_type": "code",
      "metadata": {
        "id": "77KX78E0tFBU",
        "colab_type": "code",
        "colab": {}
      },
      "source": [
        "import pandas as pd"
      ],
      "execution_count": 0,
      "outputs": []
    },
    {
      "cell_type": "code",
      "metadata": {
        "id": "UPH8VhKYtRWU",
        "colab_type": "code",
        "colab": {}
      },
      "source": [
        "# !curl https://raw.githubusercontent.com/ryanleeallred/datasets/master/tmdb_5000_movies.csv"
      ],
      "execution_count": 0,
      "outputs": []
    },
    {
      "cell_type": "code",
      "metadata": {
        "id": "NJdISe69ZT7E",
        "colab_type": "code",
        "outputId": "2e606d52-353f-4e96-c9c1-9a6b32095492",
        "colab": {
          "base_uri": "https://localhost:8080/",
          "height": 301
        }
      },
      "source": [
        "movies_url = \"https://github.com/ryanleeallred/datasets/raw/master/tmdb_5000_movies.csv\"\n",
        "movies = pd.read_csv(movies_url)\n",
        "movies.head(2)\n",
        "# General Observations\n",
        "# It seems like for certain \"cells\" the contents are lists. movies.iloc[0][4]\n",
        "# returns a list of many dictionaries for all the keywords, presumably the tags\n",
        "# that people have tagged a movie with. The rest of the cells are intelligible.\n",
        "\n",
        "# Missing Data\n",
        "# movies.isnull().sum() returns lots of missing values for the columns \"tagline\"\n",
        "# and \"homepage\". Upon digging, some of the rows simply don't have the film's \n",
        "# website or tagline recorded. This is non-numeric data."
      ],
      "execution_count": 33,
      "outputs": [
        {
          "output_type": "execute_result",
          "data": {
            "text/html": [
              "<div>\n",
              "<style scoped>\n",
              "    .dataframe tbody tr th:only-of-type {\n",
              "        vertical-align: middle;\n",
              "    }\n",
              "\n",
              "    .dataframe tbody tr th {\n",
              "        vertical-align: top;\n",
              "    }\n",
              "\n",
              "    .dataframe thead th {\n",
              "        text-align: right;\n",
              "    }\n",
              "</style>\n",
              "<table border=\"1\" class=\"dataframe\">\n",
              "  <thead>\n",
              "    <tr style=\"text-align: right;\">\n",
              "      <th></th>\n",
              "      <th>budget</th>\n",
              "      <th>genres</th>\n",
              "      <th>homepage</th>\n",
              "      <th>id</th>\n",
              "      <th>keywords</th>\n",
              "      <th>original_language</th>\n",
              "      <th>original_title</th>\n",
              "      <th>overview</th>\n",
              "      <th>popularity</th>\n",
              "      <th>production_companies</th>\n",
              "      <th>production_countries</th>\n",
              "      <th>release_date</th>\n",
              "      <th>revenue</th>\n",
              "      <th>runtime</th>\n",
              "      <th>spoken_languages</th>\n",
              "      <th>status</th>\n",
              "      <th>tagline</th>\n",
              "      <th>title</th>\n",
              "      <th>vote_average</th>\n",
              "      <th>vote_count</th>\n",
              "    </tr>\n",
              "  </thead>\n",
              "  <tbody>\n",
              "    <tr>\n",
              "      <th>0</th>\n",
              "      <td>237000000</td>\n",
              "      <td>[{\"id\": 28, \"name\": \"Action\"}, {\"id\": 12, \"nam...</td>\n",
              "      <td>http://www.avatarmovie.com/</td>\n",
              "      <td>19995</td>\n",
              "      <td>[{\"id\": 1463, \"name\": \"culture clash\"}, {\"id\":...</td>\n",
              "      <td>en</td>\n",
              "      <td>Avatar</td>\n",
              "      <td>In the 22nd century, a paraplegic Marine is di...</td>\n",
              "      <td>150.437577</td>\n",
              "      <td>[{\"name\": \"Ingenious Film Partners\", \"id\": 289...</td>\n",
              "      <td>[{\"iso_3166_1\": \"US\", \"name\": \"United States o...</td>\n",
              "      <td>2009-12-10</td>\n",
              "      <td>2787965087</td>\n",
              "      <td>162.0</td>\n",
              "      <td>[{\"iso_639_1\": \"en\", \"name\": \"English\"}, {\"iso...</td>\n",
              "      <td>Released</td>\n",
              "      <td>Enter the World of Pandora.</td>\n",
              "      <td>Avatar</td>\n",
              "      <td>7.2</td>\n",
              "      <td>11800</td>\n",
              "    </tr>\n",
              "    <tr>\n",
              "      <th>1</th>\n",
              "      <td>300000000</td>\n",
              "      <td>[{\"id\": 12, \"name\": \"Adventure\"}, {\"id\": 14, \"...</td>\n",
              "      <td>http://disney.go.com/disneypictures/pirates/</td>\n",
              "      <td>285</td>\n",
              "      <td>[{\"id\": 270, \"name\": \"ocean\"}, {\"id\": 726, \"na...</td>\n",
              "      <td>en</td>\n",
              "      <td>Pirates of the Caribbean: At World's End</td>\n",
              "      <td>Captain Barbossa, long believed to be dead, ha...</td>\n",
              "      <td>139.082615</td>\n",
              "      <td>[{\"name\": \"Walt Disney Pictures\", \"id\": 2}, {\"...</td>\n",
              "      <td>[{\"iso_3166_1\": \"US\", \"name\": \"United States o...</td>\n",
              "      <td>2007-05-19</td>\n",
              "      <td>961000000</td>\n",
              "      <td>169.0</td>\n",
              "      <td>[{\"iso_639_1\": \"en\", \"name\": \"English\"}]</td>\n",
              "      <td>Released</td>\n",
              "      <td>At the end of the world, the adventure begins.</td>\n",
              "      <td>Pirates of the Caribbean: At World's End</td>\n",
              "      <td>6.9</td>\n",
              "      <td>4500</td>\n",
              "    </tr>\n",
              "  </tbody>\n",
              "</table>\n",
              "</div>"
            ],
            "text/plain": [
              "      budget  ... vote_count\n",
              "0  237000000  ...      11800\n",
              "1  300000000  ...       4500\n",
              "\n",
              "[2 rows x 20 columns]"
            ]
          },
          "metadata": {
            "tags": []
          },
          "execution_count": 33
        }
      ]
    },
    {
      "cell_type": "markdown",
      "metadata": {
        "id": "-gFnZR6iLLPY",
        "colab_type": "text"
      },
      "source": [
        "## 2) Load a dataset from your local machine\n",
        "Download a dataset from the [UC Irvine Machine Learning Repository](https://archive.ics.uci.edu/ml/index.php) and then upload the file to Google Colab either using the files tab in the left-hand sidebar or by importing `files` from `google.colab` The following link will be a useful resource if you can't remember the syntax: <https://towardsdatascience.com/3-ways-to-load-csv-files-into-colab-7c14fcbdcb92>\n",
        "\n",
        "While you are free to try and load any dataset from the UCI repository, I strongly suggest starting with one of the most popular datasets like those that are featured on the right-hand side of the home page. \n",
        "\n",
        "Some datasets on UCI will have challenges associated with importing them far beyond what we have exposed you to in class today, so if you run into a dataset that you don't know how to deal with, struggle with it for a little bit, but ultimately feel free to simply choose a different one. \n",
        "\n",
        "- Make sure that your file has correct headers, and the same number of rows and columns as is specified on the UCI page. If your dataset doesn't have headers use the parameters of the `read_csv` function to add them. Likewise make sure that missing values are encoded as `NaN`."
      ]
    },
    {
      "cell_type": "code",
      "metadata": {
        "id": "qUmwX-ZoM9cq",
        "colab_type": "code",
        "colab": {
          "resources": {
            "http://localhost:8080/nbextensions/google.colab/files.js": {
              "data": "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",
              "ok": true,
              "headers": [
                [
                  "content-type",
                  "application/javascript"
                ]
              ],
              "status": 200,
              "status_text": ""
            }
          },
          "base_uri": "https://localhost:8080/",
          "height": 71
        },
        "outputId": "8829ff6b-8778-47a2-e0a6-52fe0fe2d6c8"
      },
      "source": [
        "from google.colab import files\n",
        "uploaded = files.upload()"
      ],
      "execution_count": 34,
      "outputs": [
        {
          "output_type": "display_data",
          "data": {
            "text/html": [
              "\n",
              "     <input type=\"file\" id=\"files-e107dd7a-b4f7-4bb7-8863-09096058b2b5\" name=\"files[]\" multiple disabled />\n",
              "     <output id=\"result-e107dd7a-b4f7-4bb7-8863-09096058b2b5\">\n",
              "      Upload widget is only available when the cell has been executed in the\n",
              "      current browser session. Please rerun this cell to enable.\n",
              "      </output>\n",
              "      <script src=\"/nbextensions/google.colab/files.js\"></script> "
            ],
            "text/plain": [
              "<IPython.core.display.HTML object>"
            ]
          },
          "metadata": {
            "tags": []
          }
        },
        {
          "output_type": "stream",
          "text": [
            "Saving Metro_Interstate_Traffic_Volume.csv to Metro_Interstate_Traffic_Volume.csv\n"
          ],
          "name": "stdout"
        }
      ]
    },
    {
      "cell_type": "code",
      "metadata": {
        "id": "R3JPIpFH9sOd",
        "colab_type": "code",
        "colab": {
          "base_uri": "https://localhost:8080/",
          "height": 204
        },
        "outputId": "def3f6b5-e126-41ca-99fe-7847b53732ad"
      },
      "source": [
        "# Data from UC Irvine database: hourly traffic data for over five years for a\n",
        "# stretch of interstate in the midwest, including that hour's weather\n",
        "# characteristics (quantitative descriptions as well as qualitative)\n",
        "\n",
        "traffic = pd.read_csv('Metro_Interstate_Traffic_Volume.csv')\n",
        "traffic.head()"
      ],
      "execution_count": 45,
      "outputs": [
        {
          "output_type": "execute_result",
          "data": {
            "text/html": [
              "<div>\n",
              "<style scoped>\n",
              "    .dataframe tbody tr th:only-of-type {\n",
              "        vertical-align: middle;\n",
              "    }\n",
              "\n",
              "    .dataframe tbody tr th {\n",
              "        vertical-align: top;\n",
              "    }\n",
              "\n",
              "    .dataframe thead th {\n",
              "        text-align: right;\n",
              "    }\n",
              "</style>\n",
              "<table border=\"1\" class=\"dataframe\">\n",
              "  <thead>\n",
              "    <tr style=\"text-align: right;\">\n",
              "      <th></th>\n",
              "      <th>holiday</th>\n",
              "      <th>temp</th>\n",
              "      <th>rain_1h</th>\n",
              "      <th>snow_1h</th>\n",
              "      <th>clouds_all</th>\n",
              "      <th>weather_main</th>\n",
              "      <th>weather_description</th>\n",
              "      <th>date_time</th>\n",
              "      <th>traffic_volume</th>\n",
              "    </tr>\n",
              "  </thead>\n",
              "  <tbody>\n",
              "    <tr>\n",
              "      <th>0</th>\n",
              "      <td>None</td>\n",
              "      <td>288.28</td>\n",
              "      <td>0.0</td>\n",
              "      <td>0.0</td>\n",
              "      <td>40</td>\n",
              "      <td>Clouds</td>\n",
              "      <td>scattered clouds</td>\n",
              "      <td>2012-10-02 09:00:00</td>\n",
              "      <td>5545</td>\n",
              "    </tr>\n",
              "    <tr>\n",
              "      <th>1</th>\n",
              "      <td>None</td>\n",
              "      <td>289.36</td>\n",
              "      <td>0.0</td>\n",
              "      <td>0.0</td>\n",
              "      <td>75</td>\n",
              "      <td>Clouds</td>\n",
              "      <td>broken clouds</td>\n",
              "      <td>2012-10-02 10:00:00</td>\n",
              "      <td>4516</td>\n",
              "    </tr>\n",
              "    <tr>\n",
              "      <th>2</th>\n",
              "      <td>None</td>\n",
              "      <td>289.58</td>\n",
              "      <td>0.0</td>\n",
              "      <td>0.0</td>\n",
              "      <td>90</td>\n",
              "      <td>Clouds</td>\n",
              "      <td>overcast clouds</td>\n",
              "      <td>2012-10-02 11:00:00</td>\n",
              "      <td>4767</td>\n",
              "    </tr>\n",
              "    <tr>\n",
              "      <th>3</th>\n",
              "      <td>None</td>\n",
              "      <td>290.13</td>\n",
              "      <td>0.0</td>\n",
              "      <td>0.0</td>\n",
              "      <td>90</td>\n",
              "      <td>Clouds</td>\n",
              "      <td>overcast clouds</td>\n",
              "      <td>2012-10-02 12:00:00</td>\n",
              "      <td>5026</td>\n",
              "    </tr>\n",
              "    <tr>\n",
              "      <th>4</th>\n",
              "      <td>None</td>\n",
              "      <td>291.14</td>\n",
              "      <td>0.0</td>\n",
              "      <td>0.0</td>\n",
              "      <td>75</td>\n",
              "      <td>Clouds</td>\n",
              "      <td>broken clouds</td>\n",
              "      <td>2012-10-02 13:00:00</td>\n",
              "      <td>4918</td>\n",
              "    </tr>\n",
              "  </tbody>\n",
              "</table>\n",
              "</div>"
            ],
            "text/plain": [
              "  holiday    temp  ...            date_time  traffic_volume\n",
              "0    None  288.28  ...  2012-10-02 09:00:00            5545\n",
              "1    None  289.36  ...  2012-10-02 10:00:00            4516\n",
              "2    None  289.58  ...  2012-10-02 11:00:00            4767\n",
              "3    None  290.13  ...  2012-10-02 12:00:00            5026\n",
              "4    None  291.14  ...  2012-10-02 13:00:00            4918\n",
              "\n",
              "[5 rows x 9 columns]"
            ]
          },
          "metadata": {
            "tags": []
          },
          "execution_count": 45
        }
      ]
    },
    {
      "cell_type": "markdown",
      "metadata": {
        "id": "mq_aQjxlM-u5",
        "colab_type": "text"
      },
      "source": [
        "## 3) Load a dataset from UCI using `!wget`\n",
        "\n",
        "\"Shell Out\" and try loading a file directly into your google colab's memory using the `!wget` command and then read it in with `read_csv`.\n",
        "\n",
        "With this file we'll do a bit more to it.\n",
        "\n",
        "- Read it in, fix any problems with the header as make sure missing values are encoded as `NaN`.\n",
        "- Use the `.fillna()` method to fill any missing values. \n",
        " - [.fillna() documentation](https://pandas.pydata.org/pandas-docs/stable/reference/api/pandas.DataFrame.fillna.html)\n",
        "- Create one of each of the following plots using the Pandas plotting functionality:\n",
        " - Scatterplot\n",
        " - Histogram\n",
        " - Density Plot\n"
      ]
    },
    {
      "cell_type": "code",
      "metadata": {
        "id": "QczkFiRBEUgD",
        "colab_type": "code",
        "colab": {
          "base_uri": "https://localhost:8080/",
          "height": 377
        },
        "outputId": "65770876-530f-41f4-820c-24bfc077a830"
      },
      "source": [
        "!wget https://www.dropbox.com/s/s2nzxqq6xkzjdim/bank-full.csv?dl=0"
      ],
      "execution_count": 46,
      "outputs": [
        {
          "output_type": "stream",
          "text": [
            "--2019-09-03 21:45:07--  https://www.dropbox.com/s/s2nzxqq6xkzjdim/bank-full.csv?dl=0\n",
            "Resolving www.dropbox.com (www.dropbox.com)... 162.125.1.1, 2620:100:601b:1::a27d:801\n",
            "Connecting to www.dropbox.com (www.dropbox.com)|162.125.1.1|:443... connected.\n",
            "HTTP request sent, awaiting response... 301 Moved Permanently\n",
            "Location: /s/raw/s2nzxqq6xkzjdim/bank-full.csv [following]\n",
            "--2019-09-03 21:45:07--  https://www.dropbox.com/s/raw/s2nzxqq6xkzjdim/bank-full.csv\n",
            "Reusing existing connection to www.dropbox.com:443.\n",
            "HTTP request sent, awaiting response... 302 Found\n",
            "Location: https://uc781bca9ad14ebda63d49343203.dl.dropboxusercontent.com/cd/0/inline/An5F9gx0IcPD0XZUjh3qejPmVsRc6LOt9svo6Ng9uSzMNB_G45macxx80gL4gNNdxNvjBhwcXMlYrk3QQDolVolJV-bgfXoBPXBEanmQdzzUQmRCtuy90CcRka36bTA8LPg/file# [following]\n",
            "--2019-09-03 21:45:07--  https://uc781bca9ad14ebda63d49343203.dl.dropboxusercontent.com/cd/0/inline/An5F9gx0IcPD0XZUjh3qejPmVsRc6LOt9svo6Ng9uSzMNB_G45macxx80gL4gNNdxNvjBhwcXMlYrk3QQDolVolJV-bgfXoBPXBEanmQdzzUQmRCtuy90CcRka36bTA8LPg/file\n",
            "Resolving uc781bca9ad14ebda63d49343203.dl.dropboxusercontent.com (uc781bca9ad14ebda63d49343203.dl.dropboxusercontent.com)... 162.125.8.6, 2620:100:6016:6::a27d:106\n",
            "Connecting to uc781bca9ad14ebda63d49343203.dl.dropboxusercontent.com (uc781bca9ad14ebda63d49343203.dl.dropboxusercontent.com)|162.125.8.6|:443... connected.\n",
            "HTTP request sent, awaiting response... 200 OK\n",
            "Length: 4610348 (4.4M) [text/plain]\n",
            "Saving to: ‘bank-full.csv?dl=0’\n",
            "\n",
            "bank-full.csv?dl=0  100%[===================>]   4.40M  13.7MB/s    in 0.3s    \n",
            "\n",
            "2019-09-03 21:45:08 (13.7 MB/s) - ‘bank-full.csv?dl=0’ saved [4610348/4610348]\n",
            "\n"
          ],
          "name": "stdout"
        }
      ]
    },
    {
      "cell_type": "code",
      "metadata": {
        "id": "QxO780jOGHdr",
        "colab_type": "code",
        "colab": {}
      },
      "source": [
        "bank = pd.read_csv('bank-full.csv?dl=0', sep = ';')\n",
        "# bank.head()\n",
        "# bank.describe()"
      ],
      "execution_count": 0,
      "outputs": []
    },
    {
      "cell_type": "code",
      "metadata": {
        "id": "UJEh2BNtF1gX",
        "colab_type": "code",
        "colab": {
          "base_uri": "https://localhost:8080/",
          "height": 283
        },
        "outputId": "11c89555-1c25-44d8-e4da-eba7fa4d0357"
      },
      "source": [
        "# Scatterplot\n",
        "bank.plot.scatter('age', 'balance');\n",
        "# It seems there's a positive corelation between age and bank balance"
      ],
      "execution_count": 56,
      "outputs": [
        {
          "output_type": "display_data",
          "data": {
            "image/png": "[encoded data removed]",
            "text/plain": [
              "<Figure size 432x288 with 1 Axes>"
            ]
          },
          "metadata": {
            "tags": []
          }
        }
      ]
    },
    {
      "cell_type": "code",
      "metadata": {
        "id": "3EHyx2uNH8Tn",
        "colab_type": "code",
        "colab": {
          "base_uri": "https://localhost:8080/",
          "height": 281
        },
        "outputId": "4f8c41e9-837d-43d9-dc8f-264252ab7d26"
      },
      "source": [
        "# Histogram\n",
        "bank.hist('age');"
      ],
      "execution_count": 59,
      "outputs": [
        {
          "output_type": "display_data",
          "data": {
            "image/png": "[encoded data removed]",
            "text/plain": [
              "<Figure size 432x288 with 1 Axes>"
            ]
          },
          "metadata": {
            "tags": []
          }
        }
      ]
    },
    {
      "cell_type": "code",
      "metadata": {
        "id": "QNYPkg1EH8Vl",
        "colab_type": "code",
        "colab": {
          "base_uri": "https://localhost:8080/",
          "height": 269
        },
        "outputId": "63a94766-afbe-4725-e809-b2489ddd0d20"
      },
      "source": [
        "# Density Plot\n",
        "bank['age'].plot.density();"
      ],
      "execution_count": 60,
      "outputs": [
        {
          "output_type": "display_data",
          "data": {
            "image/png": "[encoded data removed]",
            "text/plain": [
              "<Figure size 432x288 with 1 Axes>"
            ]
          },
          "metadata": {
            "tags": []
          }
        }
      ]
    },
    {
      "cell_type": "markdown",
      "metadata": {
        "id": "MZCxTwKuReV9",
        "colab_type": "text"
      },
      "source": [
        "## Stretch Goals - Other types and sources of data\n",
        "\n",
        "Not all data comes in a nice single file - for example, image classification involves handling lots of image files. You still will probably want labels for them, so you may have tabular data in addition to the image blobs - and the images may be reduced in resolution and even fit in a regular csv as a bunch of numbers.\n",
        "\n",
        "If you're interested in natural language processing and analyzing text, that is another example where, while it can be put in a csv, you may end up loading much larger raw data and generating features that can then be thought of in a more standard tabular fashion.\n",
        "\n",
        "Overall you will in the course of learning data science deal with loading data in a variety of ways. Another common way to get data is from a database - most modern applications are backed by one or more databases, which you can query to get data to analyze. We'll cover this more in our data engineering unit.\n",
        "\n",
        "How does data get in the database? Most applications generate logs - text files with lots and lots of records of each use of the application. Databases are often populated based on these files, but in some situations you may directly analyze log files. The usual way to do this is with command line (Unix) tools - command lines are intimidating, so don't expect to learn them all at once, but depending on your interests it can be useful to practice.\n",
        "\n",
        "One last major source of data is APIs: https://github.com/toddmotto/public-apis\n",
        "\n",
        "API stands for Application Programming Interface, and while originally meant e.g. the way an application interfaced with the GUI or other aspects of an operating system, now it largely refers to online services that let you query and retrieve data. You can essentially think of most of them as \"somebody else's database\" - you have (usually limited) access.\n",
        "\n",
        "*Stretch goal* - research one of the above extended forms of data/data loading. See if you can get a basic example working in a notebook. Image, text, or (public) APIs are probably more tractable - databases are interesting, but there aren't many publicly accessible and they require a great deal of setup."
      ]
    },
    {
      "cell_type": "code",
      "metadata": {
        "id": "f4QP6--JBXNK",
        "colab_type": "code",
        "colab": {
          "base_uri": "https://localhost:8080/",
          "height": 204
        },
        "outputId": "54860198-4015-4839-b4ae-2c4fd4fd79f9"
      },
      "source": [
        "# Found a publicly available API: Alpha Vantage's Intraday Stock information.\n",
        "!wget https://www.alphavantage.co/query?function=TIME_SERIES_INTRADAY&symbol=GOOG&interval=5min&apikey=IINQLDF0QULTF2LE&datatype=csv"
      ],
      "execution_count": 71,
      "outputs": [
        {
          "output_type": "stream",
          "text": [
            "--2019-09-03 22:18:38--  https://www.alphavantage.co/query?function=TIME_SERIES_INTRADAY\n",
            "Resolving www.alphavantage.co (www.alphavantage.co)... 54.152.127.232, 35.172.177.65, 34.232.177.141, ...\n",
            "Connecting to www.alphavantage.co (www.alphavantage.co)|54.152.127.232|:443... connected.\n",
            "HTTP request sent, awaiting response... 200 OK\n",
            "Length: unspecified [application/json]\n",
            "Saving to: ‘query?function=TIME_SERIES_INTRADAY.4’\n",
            "\n",
            "\r          query?fun     [<=>                 ]       0  --.-KB/s               \rquery?function=TIME     [ <=>                ]     214  --.-KB/s    in 0s      \n",
            "\n",
            "2019-09-03 22:18:38 (6.56 MB/s) - ‘query?function=TIME_SERIES_INTRADAY.4’ saved [214]\n",
            "\n"
          ],
          "name": "stdout"
        }
      ]
    },
    {
      "cell_type": "code",
      "metadata": {
        "id": "Xn-oekGeL1aF",
        "colab_type": "code",
        "colab": {}
      },
      "source": [
        "microsoft = pd.read_csv('query?function=TIME_SERIES_INTRADAY')\n",
        "microsoft.head()"
      ],
      "execution_count": 0,
      "outputs": []
    },
    {
      "cell_type": "code",
      "metadata": {
        "id": "zujOFsDENzsr",
        "colab_type": "code",
        "colab": {
          "base_uri": "https://localhost:8080/",
          "height": 442
        },
        "outputId": "12b67a62-af85-4434-9e7a-5a8e991ca2da"
      },
      "source": [
        "!wget http swapi.co/api/people"
      ],
      "execution_count": 79,
      "outputs": [
        {
          "output_type": "stream",
          "text": [
            "--2019-09-03 22:28:07--  http://http/\n",
            "Resolving http (http)... failed: Name or service not known.\n",
            "wget: unable to resolve host address ‘http’\n",
            "--2019-09-03 22:28:07--  http://swapi.co/api/people\n",
            "Resolving swapi.co (swapi.co)... 104.31.76.248, 104.31.77.248, 2606:4700:30::681f:4df8, ...\n",
            "Connecting to swapi.co (swapi.co)|104.31.76.248|:80... connected.\n",
            "HTTP request sent, awaiting response... 301 Moved Permanently\n",
            "Location: https://swapi.co/api/people [following]\n",
            "--2019-09-03 22:28:07--  https://swapi.co/api/people\n",
            "Connecting to swapi.co (swapi.co)|104.31.76.248|:443... connected.\n",
            "HTTP request sent, awaiting response... 301 MOVED PERMANENTLY\n",
            "Location: https://swapi.co/api/people/ [following]\n",
            "--2019-09-03 22:28:07--  https://swapi.co/api/people/\n",
            "Reusing existing connection to swapi.co:443.\n",
            "HTTP request sent, awaiting response... 200 OK\n",
            "Length: unspecified [application/json]\n",
            "Saving to: ‘people’\n",
            "\n",
            "people                  [ <=>                ]   5.73K  --.-KB/s    in 0s      \n",
            "\n",
            "2019-09-03 22:28:08 (61.2 MB/s) - ‘people’ saved [5868]\n",
            "\n",
            "FINISHED --2019-09-03 22:28:08--\n",
            "Total wall clock time: 0.9s\n",
            "Downloaded: 1 files, 5.7K in 0s (61.2 MB/s)\n"
          ],
          "name": "stdout"
        }
      ]
    },
    {
      "cell_type": "code",
      "metadata": {
        "id": "-hFEilzaMR6T",
        "colab_type": "code",
        "colab": {
          "base_uri": "https://localhost:8080/",
          "height": 86
        },
        "outputId": "a9070b83-b6b8-4658-c676-8f7ebd7a9022"
      },
      "source": [
        "star_wars = pd.read_csv('1')\n",
        "star_wars.head()\n",
        "# Seems that data is in the form of a list of dictionaries containing\n",
        "# descriptions of different Star Wars universe characters. Not\n",
        "# particularly \"data science\" data, unless "
      ],
      "execution_count": 78,
      "outputs": [
        {
          "output_type": "execute_result",
          "data": {
            "text/html": [
              "<div>\n",
              "<style scoped>\n",
              "    .dataframe tbody tr th:only-of-type {\n",
              "        vertical-align: middle;\n",
              "    }\n",
              "\n",
              "    .dataframe tbody tr th {\n",
              "        vertical-align: top;\n",
              "    }\n",
              "\n",
              "    .dataframe thead th {\n",
              "        text-align: right;\n",
              "    }\n",
              "</style>\n",
              "<table border=\"1\" class=\"dataframe\">\n",
              "  <thead>\n",
              "    <tr style=\"text-align: right;\">\n",
              "      <th></th>\n",
              "      <th>{\"name\":\"Luke Skywalker\"</th>\n",
              "      <th>height:\"172\"</th>\n",
              "      <th>mass:\"77\"</th>\n",
              "      <th>hair_color:\"blond\"</th>\n",
              "      <th>skin_color:\"fair\"</th>\n",
              "      <th>eye_color:\"blue\"</th>\n",
              "      <th>birth_year:\"19BBY\"</th>\n",
              "      <th>gender:\"male\"</th>\n",
              "      <th>homeworld:\"https://swapi.co/api/planets/1/\"</th>\n",
              "      <th>films:[\"https://swapi.co/api/films/2/\"</th>\n",
              "      <th>https://swapi.co/api/films/6/</th>\n",
              "      <th>https://swapi.co/api/films/3/</th>\n",
              "      <th>https://swapi.co/api/films/1/</th>\n",
              "      <th>https://swapi.co/api/films/7/]</th>\n",
              "      <th>species:[\"https://swapi.co/api/species/1/\"]</th>\n",
              "      <th>vehicles:[\"https://swapi.co/api/vehicles/14/\"</th>\n",
              "      <th>https://swapi.co/api/vehicles/30/]</th>\n",
              "      <th>starships:[\"https://swapi.co/api/starships/12/\"</th>\n",
              "      <th>https://swapi.co/api/starships/22/]</th>\n",
              "      <th>created:\"2014-12-09T13:50:51.644000Z\"</th>\n",
              "      <th>edited:\"2014-12-20T21:17:56.891000Z\"</th>\n",
              "      <th>url:\"https://swapi.co/api/people/1/\"}</th>\n",
              "    </tr>\n",
              "  </thead>\n",
              "  <tbody>\n",
              "  </tbody>\n",
              "</table>\n",
              "</div>"
            ],
            "text/plain": [
              "Empty DataFrame\n",
              "Columns: [{\"name\":\"Luke Skywalker\", height:\"172\", mass:\"77\", hair_color:\"blond\", skin_color:\"fair\", eye_color:\"blue\", birth_year:\"19BBY\", gender:\"male\", homeworld:\"https://swapi.co/api/planets/1/\", films:[\"https://swapi.co/api/films/2/\", https://swapi.co/api/films/6/, https://swapi.co/api/films/3/, https://swapi.co/api/films/1/, https://swapi.co/api/films/7/], species:[\"https://swapi.co/api/species/1/\"], vehicles:[\"https://swapi.co/api/vehicles/14/\", https://swapi.co/api/vehicles/30/], starships:[\"https://swapi.co/api/starships/12/\", https://swapi.co/api/starships/22/], created:\"2014-12-09T13:50:51.644000Z\", edited:\"2014-12-20T21:17:56.891000Z\", url:\"https://swapi.co/api/people/1/\"}]\n",
              "Index: []"
            ]
          },
          "metadata": {
            "tags": []
          },
          "execution_count": 78
        }
      ]
    },
    {
      "cell_type": "code",
      "metadata": {
        "id": "5ihbGATPPjCF",
        "colab_type": "code",
        "colab": {
          "base_uri": "https://localhost:8080/",
          "height": 132
        },
        "outputId": "8ff969ff-ef63-4e06-9394-cb73c44e4e61"
      },
      "source": [
        "star_wars_people = pd.read_csv('people')\n",
        "star_wars_people.head()\n",
        "# Confirmation that data is in pandas-unfriendly form, essentially a list of a\n",
        "# list of dictionaries."
      ],
      "execution_count": 82,
      "outputs": [
        {
          "output_type": "execute_result",
          "data": {
            "text/html": [
              "<div>\n",
              "<style scoped>\n",
              "    .dataframe tbody tr th:only-of-type {\n",
              "        vertical-align: middle;\n",
              "    }\n",
              "\n",
              "    .dataframe tbody tr th {\n",
              "        vertical-align: top;\n",
              "    }\n",
              "\n",
              "    .dataframe thead th {\n",
              "        text-align: right;\n",
              "    }\n",
              "</style>\n",
              "<table border=\"1\" class=\"dataframe\">\n",
              "  <thead>\n",
              "    <tr style=\"text-align: right;\">\n",
              "      <th></th>\n",
              "      <th>{\"count\":87</th>\n",
              "      <th>next:\"https://swapi.co/api/people/?page=2\"</th>\n",
              "      <th>previous:null</th>\n",
              "      <th>results:[{\"name\":\"Luke Skywalker\"</th>\n",
              "      <th>height:\"172\"</th>\n",
              "      <th>mass:\"77\"</th>\n",
              "      <th>hair_color:\"blond\"</th>\n",
              "      <th>skin_color:\"fair\"</th>\n",
              "      <th>eye_color:\"blue\"</th>\n",
              "      <th>birth_year:\"19BBY\"</th>\n",
              "      <th>gender:\"male\"</th>\n",
              "      <th>homeworld:\"https://swapi.co/api/planets/1/\"</th>\n",
              "      <th>films:[\"https://swapi.co/api/films/2/\"</th>\n",
              "      <th>https://swapi.co/api/films/6/</th>\n",
              "      <th>https://swapi.co/api/films/3/</th>\n",
              "      <th>https://swapi.co/api/films/1/</th>\n",
              "      <th>https://swapi.co/api/films/7/]</th>\n",
              "      <th>species:[\"https://swapi.co/api/species/1/\"]</th>\n",
              "      <th>vehicles:[\"https://swapi.co/api/vehicles/14/\"</th>\n",
              "      <th>https://swapi.co/api/vehicles/30/]</th>\n",
              "      <th>starships:[\"https://swapi.co/api/starships/12/\"</th>\n",
              "      <th>https://swapi.co/api/starships/22/]</th>\n",
              "      <th>created:\"2014-12-09T13:50:51.644000Z\"</th>\n",
              "      <th>edited:\"2014-12-20T21:17:56.891000Z\"</th>\n",
              "      <th>url:\"https://swapi.co/api/people/1/\"}</th>\n",
              "      <th>{\"name\":\"C-3PO\"</th>\n",
              "      <th>height:\"167\"</th>\n",
              "      <th>mass:\"75\"</th>\n",
              "      <th>hair_color:\"n/a\"</th>\n",
              "      <th>skin_color:\"gold\"</th>\n",
              "      <th>eye_color:\"yellow\"</th>\n",
              "      <th>birth_year:\"112BBY\"</th>\n",
              "      <th>gender:\"n/a\"</th>\n",
              "      <th>homeworld:\"https://swapi.co/api/planets/1/\".1</th>\n",
              "      <th>films:[\"https://swapi.co/api/films/2/\".1</th>\n",
              "      <th>https://swapi.co/api/films/5/</th>\n",
              "      <th>https://swapi.co/api/films/4/</th>\n",
              "      <th>https://swapi.co/api/films/6/.1</th>\n",
              "      <th>https://swapi.co/api/films/3/.1</th>\n",
              "      <th>https://swapi.co/api/films/1/]</th>\n",
              "      <th>...</th>\n",
              "      <th>mass:\"84\"</th>\n",
              "      <th>hair_color:\"black\"</th>\n",
              "      <th>skin_color:\"light\".3</th>\n",
              "      <th>eye_color:\"brown\".1</th>\n",
              "      <th>birth_year:\"24BBY\"</th>\n",
              "      <th>gender:\"male\".3</th>\n",
              "      <th>homeworld:\"https://swapi.co/api/planets/1/\".6</th>\n",
              "      <th>films:[\"https://swapi.co/api/films/1/\"].1</th>\n",
              "      <th>species:[\"https://swapi.co/api/species/1/\"].5</th>\n",
              "      <th>vehicles:[].6</th>\n",
              "      <th>starships:[\"https://swapi.co/api/starships/12/\"]</th>\n",
              "      <th>created:\"2014-12-10T15:59:50.509000Z\"</th>\n",
              "      <th>edited:\"2014-12-20T21:17:50.323000Z\"</th>\n",
              "      <th>url:\"https://swapi.co/api/people/9/\"}</th>\n",
              "      <th>{\"name\":\"Obi-Wan Kenobi\"</th>\n",
              "      <th>height:\"182\"</th>\n",
              "      <th>mass:\"77\".1</th>\n",
              "      <th>hair_color:\"auburn</th>\n",
              "      <th>white\"</th>\n",
              "      <th>skin_color:\"fair\".1</th>\n",
              "      <th>eye_color:\"blue-gray\"</th>\n",
              "      <th>birth_year:\"57BBY\"</th>\n",
              "      <th>gender:\"male\".4</th>\n",
              "      <th>homeworld:\"https://swapi.co/api/planets/20/\"</th>\n",
              "      <th>films:[\"https://swapi.co/api/films/2/\".5</th>\n",
              "      <th>https://swapi.co/api/films/5/.2</th>\n",
              "      <th>https://swapi.co/api/films/4/.2</th>\n",
              "      <th>https://swapi.co/api/films/6/.7</th>\n",
              "      <th>https://swapi.co/api/films/3/.5</th>\n",
              "      <th>https://swapi.co/api/films/1/].4</th>\n",
              "      <th>species:[\"https://swapi.co/api/species/1/\"].6</th>\n",
              "      <th>vehicles:[\"https://swapi.co/api/vehicles/38/\"]</th>\n",
              "      <th>starships:[\"https://swapi.co/api/starships/48/\"</th>\n",
              "      <th>https://swapi.co/api/starships/59/</th>\n",
              "      <th>https://swapi.co/api/starships/64/</th>\n",
              "      <th>https://swapi.co/api/starships/65/</th>\n",
              "      <th>https://swapi.co/api/starships/74/]</th>\n",
              "      <th>created:\"2014-12-10T16:16:29.192000Z\"</th>\n",
              "      <th>edited:\"2014-12-20T21:17:50.325000Z\"</th>\n",
              "      <th>url:\"https://swapi.co/api/people/10/\"}]}</th>\n",
              "    </tr>\n",
              "  </thead>\n",
              "  <tbody>\n",
              "  </tbody>\n",
              "</table>\n",
              "<p>0 rows × 204 columns</p>\n",
              "</div>"
            ],
            "text/plain": [
              "Empty DataFrame\n",
              "Columns: [{\"count\":87, next:\"https://swapi.co/api/people/?page=2\", previous:null, results:[{\"name\":\"Luke Skywalker\", height:\"172\", mass:\"77\", hair_color:\"blond\", skin_color:\"fair\", eye_color:\"blue\", birth_year:\"19BBY\", gender:\"male\", homeworld:\"https://swapi.co/api/planets/1/\", films:[\"https://swapi.co/api/films/2/\", https://swapi.co/api/films/6/, https://swapi.co/api/films/3/, https://swapi.co/api/films/1/, https://swapi.co/api/films/7/], species:[\"https://swapi.co/api/species/1/\"], vehicles:[\"https://swapi.co/api/vehicles/14/\", https://swapi.co/api/vehicles/30/], starships:[\"https://swapi.co/api/starships/12/\", https://swapi.co/api/starships/22/], created:\"2014-12-09T13:50:51.644000Z\", edited:\"2014-12-20T21:17:56.891000Z\", url:\"https://swapi.co/api/people/1/\"}, {\"name\":\"C-3PO\", height:\"167\", mass:\"75\", hair_color:\"n/a\", skin_color:\"gold\", eye_color:\"yellow\", birth_year:\"112BBY\", gender:\"n/a\", homeworld:\"https://swapi.co/api/planets/1/\".1, films:[\"https://swapi.co/api/films/2/\".1, https://swapi.co/api/films/5/, https://swapi.co/api/films/4/, https://swapi.co/api/films/6/.1, https://swapi.co/api/films/3/.1, https://swapi.co/api/films/1/], species:[\"https://swapi.co/api/species/2/\"], vehicles:[], starships:[], created:\"2014-12-10T15:10:51.357000Z\", edited:\"2014-12-20T21:17:50.309000Z\", url:\"https://swapi.co/api/people/2/\"}, {\"name\":\"R2-D2\", height:\"96\", mass:\"32\", hair_color:\"n/a\".1, skin_color:\"white,  blue\", eye_color:\"red\", birth_year:\"33BBY\", gender:\"n/a\".1, homeworld:\"https://swapi.co/api/planets/8/\", films:[\"https://swapi.co/api/films/2/\".2, https://swapi.co/api/films/5/.1, https://swapi.co/api/films/4/.1, https://swapi.co/api/films/6/.2, https://swapi.co/api/films/3/.2, https://swapi.co/api/films/1/.1, https://swapi.co/api/films/7/].1, species:[\"https://swapi.co/api/species/2/\"].1, vehicles:[].1, starships:[].1, created:\"2014-12-10T15:11:50.376000Z\", edited:\"2014-12-20T21:17:50.311000Z\", url:\"https://swapi.co/api/people/3/\"}, {\"name\":\"Darth Vader\", height:\"202\", mass:\"136\", hair_color:\"none\", skin_color:\"white\", eye_color:\"yellow\".1, birth_year:\"41.9BBY\", gender:\"male\".1, homeworld:\"https://swapi.co/api/planets/1/\".2, films:[\"https://swapi.co/api/films/2/\".3, https://swapi.co/api/films/6/.3, https://swapi.co/api/films/3/.3, https://swapi.co/api/films/1/].1, species:[\"https://swapi.co/api/species/1/\"].1, vehicles:[].2, starships:[\"https://swapi.co/api/starships/13/\"], created:\"2014-12-10T15:18:20.704000Z\", edited:\"2014-12-20T21:17:50.313000Z\", url:\"https://swapi.co/api/people/4/\"}, {\"name\":\"Leia Organa\", height:\"150\", mass:\"49\", hair_color:\"brown\", skin_color:\"light\", eye_color:\"brown\", birth_year:\"19BBY\".1, gender:\"female\", homeworld:\"https://swapi.co/api/planets/2/\", films:[\"https://swapi.co/api/films/2/\".4, https://swapi.co/api/films/6/.4, https://swapi.co/api/films/3/.4, ...]\n",
              "Index: []\n",
              "\n",
              "[0 rows x 204 columns]"
            ]
          },
          "metadata": {
            "tags": []
          },
          "execution_count": 82
        }
      ]
    }
  ]
}