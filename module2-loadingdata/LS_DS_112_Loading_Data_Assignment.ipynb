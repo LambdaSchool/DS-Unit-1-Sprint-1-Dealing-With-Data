{
  "nbformat": 4,
  "nbformat_minor": 0,
  "metadata": {
    "colab": {
      "name": "LS_DS_112_Loading_Data_Assignment.ipynb",
      "version": "0.3.2",
      "provenance": [],
      "collapsed_sections": [],
      "include_colab_link": true
    },
    "kernelspec": {
      "name": "python3",
      "display_name": "Python 3"
    }
  },
  "cells": [
    {
      "cell_type": "markdown",
      "metadata": {
        "id": "view-in-github",
        "colab_type": "text"
      },
      "source": [
        "<a href=\"https://colab.research.google.com/github/yvishyst/DS-Unit-1-Sprint-1-Dealing-With-Data/blob/master/module2-loadingdata/LS_DS_112_Loading_Data_Assignment.ipynb\" target=\"_parent\"><img src=\"https://colab.research.google.com/assets/colab-badge.svg\" alt=\"Open In Colab\"/></a>"
      ]
    },
    {
      "cell_type": "markdown",
      "metadata": {
        "colab_type": "text",
        "id": "MSnsTgZLKO72"
      },
      "source": [
        "# Practice Loading Datasets\n",
        "\n",
        "This assignment is purposely semi-open-ended you will be asked to load datasets both from github and also from CSV files from the [UC Irvine Machine Learning Repository](https://archive.ics.uci.edu/ml/index.php). \n",
        "\n",
        "Remember that the UCI datasets may not have a file type of `.csv` so it's important that you learn as much as you can about the dataset before you try and load it. See if you can look at the raw text of the file either locally, on github, using the `!curl` shell command, or in some other way before you try and read it in as a dataframe, this will help you catch what would otherwise be unforseen problems.\n"
      ]
    },
    {
      "cell_type": "markdown",
      "metadata": {
        "id": "156P6ndeKojO",
        "colab_type": "text"
      },
      "source": [
        "## 1) Load a dataset from Github (via its *RAW* URL)\n",
        "\n",
        "Pick a dataset from the following repository and load it into Google Colab. Make sure that the headers are what you would expect and check to see if missing values have been encoded as NaN values:\n",
        "\n",
        "<https://github.com/ryanleeallred/datasets>"
      ]
    },
    {
      "cell_type": "code",
      "metadata": {
        "id": "NJdISe69ZT7E",
        "colab_type": "code",
        "colab": {
          "base_uri": "https://localhost:8080/",
          "height": 634
        },
        "outputId": "61be8401-4bc6-4558-cf44-d448f6ce7ea9"
      },
      "source": [
        "import pandas as pd\n",
        "dataset_url = \"https://raw.githubusercontent.com/ryanleeallred/datasets/master/tmdb_5000_movies.csv\"\n",
        "data_df = pd.read_csv(dataset_url)\n",
        "data_df.head()\n",
        "#I have downloaded the movies dataset from the github. All the columns have been named as per the columns heads in the raw data. "
      ],
      "execution_count": 46,
      "outputs": [
        {
          "output_type": "execute_result",
          "data": {
            "text/html": [
              "<div>\n",
              "<style scoped>\n",
              "    .dataframe tbody tr th:only-of-type {\n",
              "        vertical-align: middle;\n",
              "    }\n",
              "\n",
              "    .dataframe tbody tr th {\n",
              "        vertical-align: top;\n",
              "    }\n",
              "\n",
              "    .dataframe thead th {\n",
              "        text-align: right;\n",
              "    }\n",
              "</style>\n",
              "<table border=\"1\" class=\"dataframe\">\n",
              "  <thead>\n",
              "    <tr style=\"text-align: right;\">\n",
              "      <th></th>\n",
              "      <th>budget</th>\n",
              "      <th>genres</th>\n",
              "      <th>homepage</th>\n",
              "      <th>id</th>\n",
              "      <th>keywords</th>\n",
              "      <th>original_language</th>\n",
              "      <th>original_title</th>\n",
              "      <th>overview</th>\n",
              "      <th>popularity</th>\n",
              "      <th>production_companies</th>\n",
              "      <th>production_countries</th>\n",
              "      <th>release_date</th>\n",
              "      <th>revenue</th>\n",
              "      <th>runtime</th>\n",
              "      <th>spoken_languages</th>\n",
              "      <th>status</th>\n",
              "      <th>tagline</th>\n",
              "      <th>title</th>\n",
              "      <th>vote_average</th>\n",
              "      <th>vote_count</th>\n",
              "    </tr>\n",
              "  </thead>\n",
              "  <tbody>\n",
              "    <tr>\n",
              "      <th>0</th>\n",
              "      <td>237000000</td>\n",
              "      <td>[{\"id\": 28, \"name\": \"Action\"}, {\"id\": 12, \"nam...</td>\n",
              "      <td>http://www.avatarmovie.com/</td>\n",
              "      <td>19995</td>\n",
              "      <td>[{\"id\": 1463, \"name\": \"culture clash\"}, {\"id\":...</td>\n",
              "      <td>en</td>\n",
              "      <td>Avatar</td>\n",
              "      <td>In the 22nd century, a paraplegic Marine is di...</td>\n",
              "      <td>150.437577</td>\n",
              "      <td>[{\"name\": \"Ingenious Film Partners\", \"id\": 289...</td>\n",
              "      <td>[{\"iso_3166_1\": \"US\", \"name\": \"United States o...</td>\n",
              "      <td>2009-12-10</td>\n",
              "      <td>2787965087</td>\n",
              "      <td>162.0</td>\n",
              "      <td>[{\"iso_639_1\": \"en\", \"name\": \"English\"}, {\"iso...</td>\n",
              "      <td>Released</td>\n",
              "      <td>Enter the World of Pandora.</td>\n",
              "      <td>Avatar</td>\n",
              "      <td>7.2</td>\n",
              "      <td>11800</td>\n",
              "    </tr>\n",
              "    <tr>\n",
              "      <th>1</th>\n",
              "      <td>300000000</td>\n",
              "      <td>[{\"id\": 12, \"name\": \"Adventure\"}, {\"id\": 14, \"...</td>\n",
              "      <td>http://disney.go.com/disneypictures/pirates/</td>\n",
              "      <td>285</td>\n",
              "      <td>[{\"id\": 270, \"name\": \"ocean\"}, {\"id\": 726, \"na...</td>\n",
              "      <td>en</td>\n",
              "      <td>Pirates of the Caribbean: At World's End</td>\n",
              "      <td>Captain Barbossa, long believed to be dead, ha...</td>\n",
              "      <td>139.082615</td>\n",
              "      <td>[{\"name\": \"Walt Disney Pictures\", \"id\": 2}, {\"...</td>\n",
              "      <td>[{\"iso_3166_1\": \"US\", \"name\": \"United States o...</td>\n",
              "      <td>2007-05-19</td>\n",
              "      <td>961000000</td>\n",
              "      <td>169.0</td>\n",
              "      <td>[{\"iso_639_1\": \"en\", \"name\": \"English\"}]</td>\n",
              "      <td>Released</td>\n",
              "      <td>At the end of the world, the adventure begins.</td>\n",
              "      <td>Pirates of the Caribbean: At World's End</td>\n",
              "      <td>6.9</td>\n",
              "      <td>4500</td>\n",
              "    </tr>\n",
              "    <tr>\n",
              "      <th>2</th>\n",
              "      <td>245000000</td>\n",
              "      <td>[{\"id\": 28, \"name\": \"Action\"}, {\"id\": 12, \"nam...</td>\n",
              "      <td>http://www.sonypictures.com/movies/spectre/</td>\n",
              "      <td>206647</td>\n",
              "      <td>[{\"id\": 470, \"name\": \"spy\"}, {\"id\": 818, \"name...</td>\n",
              "      <td>en</td>\n",
              "      <td>Spectre</td>\n",
              "      <td>A cryptic message from Bond’s past sends him o...</td>\n",
              "      <td>107.376788</td>\n",
              "      <td>[{\"name\": \"Columbia Pictures\", \"id\": 5}, {\"nam...</td>\n",
              "      <td>[{\"iso_3166_1\": \"GB\", \"name\": \"United Kingdom\"...</td>\n",
              "      <td>2015-10-26</td>\n",
              "      <td>880674609</td>\n",
              "      <td>148.0</td>\n",
              "      <td>[{\"iso_639_1\": \"fr\", \"name\": \"Fran\\u00e7ais\"},...</td>\n",
              "      <td>Released</td>\n",
              "      <td>A Plan No One Escapes</td>\n",
              "      <td>Spectre</td>\n",
              "      <td>6.3</td>\n",
              "      <td>4466</td>\n",
              "    </tr>\n",
              "    <tr>\n",
              "      <th>3</th>\n",
              "      <td>250000000</td>\n",
              "      <td>[{\"id\": 28, \"name\": \"Action\"}, {\"id\": 80, \"nam...</td>\n",
              "      <td>http://www.thedarkknightrises.com/</td>\n",
              "      <td>49026</td>\n",
              "      <td>[{\"id\": 849, \"name\": \"dc comics\"}, {\"id\": 853,...</td>\n",
              "      <td>en</td>\n",
              "      <td>The Dark Knight Rises</td>\n",
              "      <td>Following the death of District Attorney Harve...</td>\n",
              "      <td>112.312950</td>\n",
              "      <td>[{\"name\": \"Legendary Pictures\", \"id\": 923}, {\"...</td>\n",
              "      <td>[{\"iso_3166_1\": \"US\", \"name\": \"United States o...</td>\n",
              "      <td>2012-07-16</td>\n",
              "      <td>1084939099</td>\n",
              "      <td>165.0</td>\n",
              "      <td>[{\"iso_639_1\": \"en\", \"name\": \"English\"}]</td>\n",
              "      <td>Released</td>\n",
              "      <td>The Legend Ends</td>\n",
              "      <td>The Dark Knight Rises</td>\n",
              "      <td>7.6</td>\n",
              "      <td>9106</td>\n",
              "    </tr>\n",
              "    <tr>\n",
              "      <th>4</th>\n",
              "      <td>260000000</td>\n",
              "      <td>[{\"id\": 28, \"name\": \"Action\"}, {\"id\": 12, \"nam...</td>\n",
              "      <td>http://movies.disney.com/john-carter</td>\n",
              "      <td>49529</td>\n",
              "      <td>[{\"id\": 818, \"name\": \"based on novel\"}, {\"id\":...</td>\n",
              "      <td>en</td>\n",
              "      <td>John Carter</td>\n",
              "      <td>John Carter is a war-weary, former military ca...</td>\n",
              "      <td>43.926995</td>\n",
              "      <td>[{\"name\": \"Walt Disney Pictures\", \"id\": 2}]</td>\n",
              "      <td>[{\"iso_3166_1\": \"US\", \"name\": \"United States o...</td>\n",
              "      <td>2012-03-07</td>\n",
              "      <td>284139100</td>\n",
              "      <td>132.0</td>\n",
              "      <td>[{\"iso_639_1\": \"en\", \"name\": \"English\"}]</td>\n",
              "      <td>Released</td>\n",
              "      <td>Lost in our world, found in another.</td>\n",
              "      <td>John Carter</td>\n",
              "      <td>6.1</td>\n",
              "      <td>2124</td>\n",
              "    </tr>\n",
              "  </tbody>\n",
              "</table>\n",
              "</div>"
            ],
            "text/plain": [
              "      budget  ... vote_count\n",
              "0  237000000  ...      11800\n",
              "1  300000000  ...       4500\n",
              "2  245000000  ...       4466\n",
              "3  250000000  ...       9106\n",
              "4  260000000  ...       2124\n",
              "\n",
              "[5 rows x 20 columns]"
            ]
          },
          "metadata": {
            "tags": []
          },
          "execution_count": 46
        }
      ]
    },
    {
      "cell_type": "code",
      "metadata": {
        "id": "i1yVwGd9eFnT",
        "colab_type": "code",
        "colab": {
          "base_uri": "https://localhost:8080/",
          "height": 305
        },
        "outputId": "96476eca-df3d-4fce-bc96-79d611e9cf39"
      },
      "source": [
        "print(data_df.shape)\n",
        "data_df.describe()\n",
        "#There are 4803 rows with 20 features. Some of the features contain embedded features\n",
        "#e.g genres,keywords etc columns have dictionary which can be further extraplotated"
      ],
      "execution_count": 47,
      "outputs": [
        {
          "output_type": "stream",
          "text": [
            "(4803, 20)\n"
          ],
          "name": "stdout"
        },
        {
          "output_type": "execute_result",
          "data": {
            "text/html": [
              "<div>\n",
              "<style scoped>\n",
              "    .dataframe tbody tr th:only-of-type {\n",
              "        vertical-align: middle;\n",
              "    }\n",
              "\n",
              "    .dataframe tbody tr th {\n",
              "        vertical-align: top;\n",
              "    }\n",
              "\n",
              "    .dataframe thead th {\n",
              "        text-align: right;\n",
              "    }\n",
              "</style>\n",
              "<table border=\"1\" class=\"dataframe\">\n",
              "  <thead>\n",
              "    <tr style=\"text-align: right;\">\n",
              "      <th></th>\n",
              "      <th>budget</th>\n",
              "      <th>id</th>\n",
              "      <th>popularity</th>\n",
              "      <th>revenue</th>\n",
              "      <th>runtime</th>\n",
              "      <th>vote_average</th>\n",
              "      <th>vote_count</th>\n",
              "    </tr>\n",
              "  </thead>\n",
              "  <tbody>\n",
              "    <tr>\n",
              "      <th>count</th>\n",
              "      <td>4.803000e+03</td>\n",
              "      <td>4803.000000</td>\n",
              "      <td>4803.000000</td>\n",
              "      <td>4.803000e+03</td>\n",
              "      <td>4801.000000</td>\n",
              "      <td>4803.000000</td>\n",
              "      <td>4803.000000</td>\n",
              "    </tr>\n",
              "    <tr>\n",
              "      <th>mean</th>\n",
              "      <td>2.904504e+07</td>\n",
              "      <td>57165.484281</td>\n",
              "      <td>21.492301</td>\n",
              "      <td>8.226064e+07</td>\n",
              "      <td>106.875859</td>\n",
              "      <td>6.092172</td>\n",
              "      <td>690.217989</td>\n",
              "    </tr>\n",
              "    <tr>\n",
              "      <th>std</th>\n",
              "      <td>4.072239e+07</td>\n",
              "      <td>88694.614033</td>\n",
              "      <td>31.816650</td>\n",
              "      <td>1.628571e+08</td>\n",
              "      <td>22.611935</td>\n",
              "      <td>1.194612</td>\n",
              "      <td>1234.585891</td>\n",
              "    </tr>\n",
              "    <tr>\n",
              "      <th>min</th>\n",
              "      <td>0.000000e+00</td>\n",
              "      <td>5.000000</td>\n",
              "      <td>0.000000</td>\n",
              "      <td>0.000000e+00</td>\n",
              "      <td>0.000000</td>\n",
              "      <td>0.000000</td>\n",
              "      <td>0.000000</td>\n",
              "    </tr>\n",
              "    <tr>\n",
              "      <th>25%</th>\n",
              "      <td>7.900000e+05</td>\n",
              "      <td>9014.500000</td>\n",
              "      <td>4.668070</td>\n",
              "      <td>0.000000e+00</td>\n",
              "      <td>94.000000</td>\n",
              "      <td>5.600000</td>\n",
              "      <td>54.000000</td>\n",
              "    </tr>\n",
              "    <tr>\n",
              "      <th>50%</th>\n",
              "      <td>1.500000e+07</td>\n",
              "      <td>14629.000000</td>\n",
              "      <td>12.921594</td>\n",
              "      <td>1.917000e+07</td>\n",
              "      <td>103.000000</td>\n",
              "      <td>6.200000</td>\n",
              "      <td>235.000000</td>\n",
              "    </tr>\n",
              "    <tr>\n",
              "      <th>75%</th>\n",
              "      <td>4.000000e+07</td>\n",
              "      <td>58610.500000</td>\n",
              "      <td>28.313505</td>\n",
              "      <td>9.291719e+07</td>\n",
              "      <td>118.000000</td>\n",
              "      <td>6.800000</td>\n",
              "      <td>737.000000</td>\n",
              "    </tr>\n",
              "    <tr>\n",
              "      <th>max</th>\n",
              "      <td>3.800000e+08</td>\n",
              "      <td>459488.000000</td>\n",
              "      <td>875.581305</td>\n",
              "      <td>2.787965e+09</td>\n",
              "      <td>338.000000</td>\n",
              "      <td>10.000000</td>\n",
              "      <td>13752.000000</td>\n",
              "    </tr>\n",
              "  </tbody>\n",
              "</table>\n",
              "</div>"
            ],
            "text/plain": [
              "             budget             id  ...  vote_average    vote_count\n",
              "count  4.803000e+03    4803.000000  ...   4803.000000   4803.000000\n",
              "mean   2.904504e+07   57165.484281  ...      6.092172    690.217989\n",
              "std    4.072239e+07   88694.614033  ...      1.194612   1234.585891\n",
              "min    0.000000e+00       5.000000  ...      0.000000      0.000000\n",
              "25%    7.900000e+05    9014.500000  ...      5.600000     54.000000\n",
              "50%    1.500000e+07   14629.000000  ...      6.200000    235.000000\n",
              "75%    4.000000e+07   58610.500000  ...      6.800000    737.000000\n",
              "max    3.800000e+08  459488.000000  ...     10.000000  13752.000000\n",
              "\n",
              "[8 rows x 7 columns]"
            ]
          },
          "metadata": {
            "tags": []
          },
          "execution_count": 47
        }
      ]
    },
    {
      "cell_type": "code",
      "metadata": {
        "id": "DgW28Li-ecmO",
        "colab_type": "code",
        "colab": {
          "base_uri": "https://localhost:8080/",
          "height": 254
        },
        "outputId": "87938cfb-4685-4619-8d54-9d99c808695c"
      },
      "source": [
        "data_df.describe(exclude='number')\n",
        "#Using describe for the Non Numerical columns shows NaN type as the top e.g keywords has [] as the top list , which i think should be replaced with Nan"
      ],
      "execution_count": 48,
      "outputs": [
        {
          "output_type": "execute_result",
          "data": {
            "text/html": [
              "<div>\n",
              "<style scoped>\n",
              "    .dataframe tbody tr th:only-of-type {\n",
              "        vertical-align: middle;\n",
              "    }\n",
              "\n",
              "    .dataframe tbody tr th {\n",
              "        vertical-align: top;\n",
              "    }\n",
              "\n",
              "    .dataframe thead th {\n",
              "        text-align: right;\n",
              "    }\n",
              "</style>\n",
              "<table border=\"1\" class=\"dataframe\">\n",
              "  <thead>\n",
              "    <tr style=\"text-align: right;\">\n",
              "      <th></th>\n",
              "      <th>genres</th>\n",
              "      <th>homepage</th>\n",
              "      <th>keywords</th>\n",
              "      <th>original_language</th>\n",
              "      <th>original_title</th>\n",
              "      <th>overview</th>\n",
              "      <th>production_companies</th>\n",
              "      <th>production_countries</th>\n",
              "      <th>release_date</th>\n",
              "      <th>spoken_languages</th>\n",
              "      <th>status</th>\n",
              "      <th>tagline</th>\n",
              "      <th>title</th>\n",
              "    </tr>\n",
              "  </thead>\n",
              "  <tbody>\n",
              "    <tr>\n",
              "      <th>count</th>\n",
              "      <td>4803</td>\n",
              "      <td>1712</td>\n",
              "      <td>4803</td>\n",
              "      <td>4803</td>\n",
              "      <td>4803</td>\n",
              "      <td>4800</td>\n",
              "      <td>4803</td>\n",
              "      <td>4803</td>\n",
              "      <td>4802</td>\n",
              "      <td>4803</td>\n",
              "      <td>4803</td>\n",
              "      <td>3959</td>\n",
              "      <td>4803</td>\n",
              "    </tr>\n",
              "    <tr>\n",
              "      <th>unique</th>\n",
              "      <td>1175</td>\n",
              "      <td>1691</td>\n",
              "      <td>4222</td>\n",
              "      <td>37</td>\n",
              "      <td>4801</td>\n",
              "      <td>4800</td>\n",
              "      <td>3697</td>\n",
              "      <td>469</td>\n",
              "      <td>3280</td>\n",
              "      <td>544</td>\n",
              "      <td>3</td>\n",
              "      <td>3944</td>\n",
              "      <td>4800</td>\n",
              "    </tr>\n",
              "    <tr>\n",
              "      <th>top</th>\n",
              "      <td>[{\"id\": 18, \"name\": \"Drama\"}]</td>\n",
              "      <td>http://www.thehungergames.movie/</td>\n",
              "      <td>[]</td>\n",
              "      <td>en</td>\n",
              "      <td>Out of the Blue</td>\n",
              "      <td>Belka, the amazing flying dog is unexpectedly ...</td>\n",
              "      <td>[]</td>\n",
              "      <td>[{\"iso_3166_1\": \"US\", \"name\": \"United States o...</td>\n",
              "      <td>2006-01-01</td>\n",
              "      <td>[{\"iso_639_1\": \"en\", \"name\": \"English\"}]</td>\n",
              "      <td>Released</td>\n",
              "      <td>Based on a true story.</td>\n",
              "      <td>The Host</td>\n",
              "    </tr>\n",
              "    <tr>\n",
              "      <th>freq</th>\n",
              "      <td>370</td>\n",
              "      <td>4</td>\n",
              "      <td>412</td>\n",
              "      <td>4505</td>\n",
              "      <td>2</td>\n",
              "      <td>1</td>\n",
              "      <td>351</td>\n",
              "      <td>2977</td>\n",
              "      <td>10</td>\n",
              "      <td>3171</td>\n",
              "      <td>4795</td>\n",
              "      <td>3</td>\n",
              "      <td>2</td>\n",
              "    </tr>\n",
              "  </tbody>\n",
              "</table>\n",
              "</div>"
            ],
            "text/plain": [
              "                               genres  ...     title\n",
              "count                            4803  ...      4803\n",
              "unique                           1175  ...      4800\n",
              "top     [{\"id\": 18, \"name\": \"Drama\"}]  ...  The Host\n",
              "freq                              370  ...         2\n",
              "\n",
              "[4 rows x 13 columns]"
            ]
          },
          "metadata": {
            "tags": []
          },
          "execution_count": 48
        }
      ]
    },
    {
      "cell_type": "code",
      "metadata": {
        "id": "h7gJYUCXekjL",
        "colab_type": "code",
        "colab": {
          "base_uri": "https://localhost:8080/",
          "height": 390
        },
        "outputId": "d51f977f-f2a7-41e8-d684-86648e3a7212"
      },
      "source": [
        "data_df.isna().sum()\n",
        "#Using the isna function shows columns containing Nan values"
      ],
      "execution_count": 49,
      "outputs": [
        {
          "output_type": "execute_result",
          "data": {
            "text/plain": [
              "budget                     0\n",
              "genres                     0\n",
              "homepage                3091\n",
              "id                         0\n",
              "keywords                   0\n",
              "original_language          0\n",
              "original_title             0\n",
              "overview                   3\n",
              "popularity                 0\n",
              "production_companies       0\n",
              "production_countries       0\n",
              "release_date               1\n",
              "revenue                    0\n",
              "runtime                    2\n",
              "spoken_languages           0\n",
              "status                     0\n",
              "tagline                  844\n",
              "title                      0\n",
              "vote_average               0\n",
              "vote_count                 0\n",
              "dtype: int64"
            ]
          },
          "metadata": {
            "tags": []
          },
          "execution_count": 49
        }
      ]
    },
    {
      "cell_type": "code",
      "metadata": {
        "id": "pF0d4jf0g4Fz",
        "colab_type": "code",
        "colab": {
          "base_uri": "https://localhost:8080/",
          "height": 390
        },
        "outputId": "db2e523a-9f46-4276-c59b-b4f612860670"
      },
      "source": [
        "#To check for null values which are filled as [] getting all non numeric column\n",
        "#replacing empty square brackets with NaN\n",
        "\n",
        "import numpy as np\n",
        "\n",
        "data_df.replace(to_replace=\"[]\",value=np.NaN,inplace=True)\n",
        "print(data_df.isna().sum())\n",
        "#Now we see that there are lot more data with Nan values"
      ],
      "execution_count": 50,
      "outputs": [
        {
          "output_type": "stream",
          "text": [
            "budget                     0\n",
            "genres                    28\n",
            "homepage                3091\n",
            "id                         0\n",
            "keywords                 412\n",
            "original_language          0\n",
            "original_title             0\n",
            "overview                   3\n",
            "popularity                 0\n",
            "production_companies     351\n",
            "production_countries     174\n",
            "release_date               1\n",
            "revenue                    0\n",
            "runtime                    2\n",
            "spoken_languages          86\n",
            "status                     0\n",
            "tagline                  844\n",
            "title                      0\n",
            "vote_average               0\n",
            "vote_count                 0\n",
            "dtype: int64\n"
          ],
          "name": "stdout"
        }
      ]
    },
    {
      "cell_type": "markdown",
      "metadata": {
        "id": "-gFnZR6iLLPY",
        "colab_type": "text"
      },
      "source": [
        "## 2) Load a dataset from your local machine\n",
        "Download a dataset from the [UC Irvine Machine Learning Repository](https://archive.ics.uci.edu/ml/index.php) and then upload the file to Google Colab either using the files tab in the left-hand sidebar or by importing `files` from `google.colab` The following link will be a useful resource if you can't remember the syntax: <https://towardsdatascience.com/3-ways-to-load-csv-files-into-colab-7c14fcbdcb92>\n",
        "\n",
        "While you are free to try and load any dataset from the UCI repository, I strongly suggest starting with one of the most popular datasets like those that are featured on the right-hand side of the home page. \n",
        "\n",
        "Some datasets on UCI will have challenges associated with importing them far beyond what we have exposed you to in class today, so if you run into a dataset that you don't know how to deal with, struggle with it for a little bit, but ultimately feel free to simply choose a different one. \n",
        "\n",
        "- Make sure that your file has correct headers, and the same number of rows and columns as is specified on the UCI page. If your dataset doesn't have headers use the parameters of the `read_csv` function to add them. Likewise make sure that missing values are encoded as `NaN`."
      ]
    },
    {
      "cell_type": "code",
      "metadata": {
        "id": "yXA-SgOOejHz",
        "colab_type": "code",
        "colab": {
          "resources": {
            "http://localhost:8080/nbextensions/google.colab/files.js": {
              "data": "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",
              "ok": true,
              "headers": [
                [
                  "content-type",
                  "application/javascript"
                ]
              ],
              "status": 200,
              "status_text": ""
            }
          },
          "base_uri": "https://localhost:8080/",
          "height": 74
        },
        "outputId": "73db3ba4-afd3-4394-cb29-1abdbaba6673"
      },
      "source": [
        "#Loading a dataset from UCI by first dowloading it into my local drive.\n",
        "#I have downloaded poker hands data in my local drive. Will now upload it into the colabsheet\n",
        "\n",
        "from google.colab import files\n",
        "uploaded = files.upload()"
      ],
      "execution_count": 12,
      "outputs": [
        {
          "output_type": "display_data",
          "data": {
            "text/html": [
              "\n",
              "     <input type=\"file\" id=\"files-f96bf938-4bf2-496b-9ba6-ef6f9588c265\" name=\"files[]\" multiple disabled />\n",
              "     <output id=\"result-f96bf938-4bf2-496b-9ba6-ef6f9588c265\">\n",
              "      Upload widget is only available when the cell has been executed in the\n",
              "      current browser session. Please rerun this cell to enable.\n",
              "      </output>\n",
              "      <script src=\"/nbextensions/google.colab/files.js\"></script> "
            ],
            "text/plain": [
              "<IPython.core.display.HTML object>"
            ]
          },
          "metadata": {
            "tags": []
          }
        },
        {
          "output_type": "stream",
          "text": [
            "Saving poker-hand-training-true.data to poker-hand-training-true.data\n"
          ],
          "name": "stdout"
        }
      ]
    },
    {
      "cell_type": "code",
      "metadata": {
        "id": "qUmwX-ZoM9cq",
        "colab_type": "code",
        "colab": {
          "base_uri": "https://localhost:8080/",
          "height": 215
        },
        "outputId": "507c15b9-894e-4194-a689-4e4bc10bb848"
      },
      "source": [
        "# The file poker-hand-trianing-true.data has been uploaded to the colab director\n",
        "#Now reading the data into dataframe using read_csv function\n",
        "#As per the data sheet the data contains 11 attributes\n",
        "\n",
        "column_names = ['S1','C1','S2','C2','S3','C3','S4','C4','S5','C5','Poker Hand']\n",
        "poker_data = pd.read_csv(\"poker-hand-training-true.data\",header=None,names=column_names,index_col=False)\n",
        "print(poker_data.shape)\n",
        "poker_data.head()\n",
        "\n",
        "#the Data contains the same number of rows as mentioned on the website.\n",
        "#Poker hand has five cards, S followed by number is suit and card number and C followed by number is value of card number"
      ],
      "execution_count": 20,
      "outputs": [
        {
          "output_type": "stream",
          "text": [
            "(25010, 11)\n"
          ],
          "name": "stdout"
        },
        {
          "output_type": "execute_result",
          "data": {
            "text/html": [
              "<div>\n",
              "<style scoped>\n",
              "    .dataframe tbody tr th:only-of-type {\n",
              "        vertical-align: middle;\n",
              "    }\n",
              "\n",
              "    .dataframe tbody tr th {\n",
              "        vertical-align: top;\n",
              "    }\n",
              "\n",
              "    .dataframe thead th {\n",
              "        text-align: right;\n",
              "    }\n",
              "</style>\n",
              "<table border=\"1\" class=\"dataframe\">\n",
              "  <thead>\n",
              "    <tr style=\"text-align: right;\">\n",
              "      <th></th>\n",
              "      <th>S1</th>\n",
              "      <th>C1</th>\n",
              "      <th>S2</th>\n",
              "      <th>C2</th>\n",
              "      <th>S3</th>\n",
              "      <th>C3</th>\n",
              "      <th>S4</th>\n",
              "      <th>C4</th>\n",
              "      <th>S5</th>\n",
              "      <th>C5</th>\n",
              "      <th>Poker Hand</th>\n",
              "    </tr>\n",
              "  </thead>\n",
              "  <tbody>\n",
              "    <tr>\n",
              "      <th>0</th>\n",
              "      <td>1</td>\n",
              "      <td>10</td>\n",
              "      <td>1</td>\n",
              "      <td>11</td>\n",
              "      <td>1</td>\n",
              "      <td>13</td>\n",
              "      <td>1</td>\n",
              "      <td>12</td>\n",
              "      <td>1</td>\n",
              "      <td>1</td>\n",
              "      <td>9</td>\n",
              "    </tr>\n",
              "    <tr>\n",
              "      <th>1</th>\n",
              "      <td>2</td>\n",
              "      <td>11</td>\n",
              "      <td>2</td>\n",
              "      <td>13</td>\n",
              "      <td>2</td>\n",
              "      <td>10</td>\n",
              "      <td>2</td>\n",
              "      <td>12</td>\n",
              "      <td>2</td>\n",
              "      <td>1</td>\n",
              "      <td>9</td>\n",
              "    </tr>\n",
              "    <tr>\n",
              "      <th>2</th>\n",
              "      <td>3</td>\n",
              "      <td>12</td>\n",
              "      <td>3</td>\n",
              "      <td>11</td>\n",
              "      <td>3</td>\n",
              "      <td>13</td>\n",
              "      <td>3</td>\n",
              "      <td>10</td>\n",
              "      <td>3</td>\n",
              "      <td>1</td>\n",
              "      <td>9</td>\n",
              "    </tr>\n",
              "    <tr>\n",
              "      <th>3</th>\n",
              "      <td>4</td>\n",
              "      <td>10</td>\n",
              "      <td>4</td>\n",
              "      <td>11</td>\n",
              "      <td>4</td>\n",
              "      <td>1</td>\n",
              "      <td>4</td>\n",
              "      <td>13</td>\n",
              "      <td>4</td>\n",
              "      <td>12</td>\n",
              "      <td>9</td>\n",
              "    </tr>\n",
              "    <tr>\n",
              "      <th>4</th>\n",
              "      <td>4</td>\n",
              "      <td>1</td>\n",
              "      <td>4</td>\n",
              "      <td>13</td>\n",
              "      <td>4</td>\n",
              "      <td>12</td>\n",
              "      <td>4</td>\n",
              "      <td>11</td>\n",
              "      <td>4</td>\n",
              "      <td>10</td>\n",
              "      <td>9</td>\n",
              "    </tr>\n",
              "  </tbody>\n",
              "</table>\n",
              "</div>"
            ],
            "text/plain": [
              "   S1  C1  S2  C2  S3  C3  S4  C4  S5  C5  Poker Hand\n",
              "0   1  10   1  11   1  13   1  12   1   1           9\n",
              "1   2  11   2  13   2  10   2  12   2   1           9\n",
              "2   3  12   3  11   3  13   3  10   3   1           9\n",
              "3   4  10   4  11   4   1   4  13   4  12           9\n",
              "4   4   1   4  13   4  12   4  11   4  10           9"
            ]
          },
          "metadata": {
            "tags": []
          },
          "execution_count": 20
        }
      ]
    },
    {
      "cell_type": "code",
      "metadata": {
        "id": "dsXnuByGmnQL",
        "colab_type": "code",
        "colab": {
          "base_uri": "https://localhost:8080/",
          "height": 287
        },
        "outputId": "24826d7b-9e93-434a-f28c-0fd68c672f20"
      },
      "source": [
        "#Since the attributes are ordinal in nature, using describe function will not yield meaninful picture\n",
        "poker_data.describe()\n"
      ],
      "execution_count": 21,
      "outputs": [
        {
          "output_type": "execute_result",
          "data": {
            "text/html": [
              "<div>\n",
              "<style scoped>\n",
              "    .dataframe tbody tr th:only-of-type {\n",
              "        vertical-align: middle;\n",
              "    }\n",
              "\n",
              "    .dataframe tbody tr th {\n",
              "        vertical-align: top;\n",
              "    }\n",
              "\n",
              "    .dataframe thead th {\n",
              "        text-align: right;\n",
              "    }\n",
              "</style>\n",
              "<table border=\"1\" class=\"dataframe\">\n",
              "  <thead>\n",
              "    <tr style=\"text-align: right;\">\n",
              "      <th></th>\n",
              "      <th>S1</th>\n",
              "      <th>C1</th>\n",
              "      <th>S2</th>\n",
              "      <th>C2</th>\n",
              "      <th>S3</th>\n",
              "      <th>C3</th>\n",
              "      <th>S4</th>\n",
              "      <th>C4</th>\n",
              "      <th>S5</th>\n",
              "      <th>C5</th>\n",
              "      <th>Poker Hand</th>\n",
              "    </tr>\n",
              "  </thead>\n",
              "  <tbody>\n",
              "    <tr>\n",
              "      <th>count</th>\n",
              "      <td>25010.000000</td>\n",
              "      <td>25010.000000</td>\n",
              "      <td>25010.000000</td>\n",
              "      <td>25010.000000</td>\n",
              "      <td>25010.000000</td>\n",
              "      <td>25010.000000</td>\n",
              "      <td>25010.000000</td>\n",
              "      <td>25010.000000</td>\n",
              "      <td>25010.000000</td>\n",
              "      <td>25010.000000</td>\n",
              "      <td>25010.000000</td>\n",
              "    </tr>\n",
              "    <tr>\n",
              "      <th>mean</th>\n",
              "      <td>2.508756</td>\n",
              "      <td>6.995242</td>\n",
              "      <td>2.497721</td>\n",
              "      <td>7.014194</td>\n",
              "      <td>2.510236</td>\n",
              "      <td>7.014154</td>\n",
              "      <td>2.495922</td>\n",
              "      <td>6.942463</td>\n",
              "      <td>2.497321</td>\n",
              "      <td>6.962735</td>\n",
              "      <td>0.621152</td>\n",
              "    </tr>\n",
              "    <tr>\n",
              "      <th>std</th>\n",
              "      <td>1.116483</td>\n",
              "      <td>3.749805</td>\n",
              "      <td>1.121767</td>\n",
              "      <td>3.766974</td>\n",
              "      <td>1.123148</td>\n",
              "      <td>3.744974</td>\n",
              "      <td>1.116009</td>\n",
              "      <td>3.747147</td>\n",
              "      <td>1.118732</td>\n",
              "      <td>3.741579</td>\n",
              "      <td>0.788361</td>\n",
              "    </tr>\n",
              "    <tr>\n",
              "      <th>min</th>\n",
              "      <td>1.000000</td>\n",
              "      <td>1.000000</td>\n",
              "      <td>1.000000</td>\n",
              "      <td>1.000000</td>\n",
              "      <td>1.000000</td>\n",
              "      <td>1.000000</td>\n",
              "      <td>1.000000</td>\n",
              "      <td>1.000000</td>\n",
              "      <td>1.000000</td>\n",
              "      <td>1.000000</td>\n",
              "      <td>0.000000</td>\n",
              "    </tr>\n",
              "    <tr>\n",
              "      <th>25%</th>\n",
              "      <td>2.000000</td>\n",
              "      <td>4.000000</td>\n",
              "      <td>1.000000</td>\n",
              "      <td>4.000000</td>\n",
              "      <td>2.000000</td>\n",
              "      <td>4.000000</td>\n",
              "      <td>1.000000</td>\n",
              "      <td>4.000000</td>\n",
              "      <td>1.000000</td>\n",
              "      <td>4.000000</td>\n",
              "      <td>0.000000</td>\n",
              "    </tr>\n",
              "    <tr>\n",
              "      <th>50%</th>\n",
              "      <td>3.000000</td>\n",
              "      <td>7.000000</td>\n",
              "      <td>2.000000</td>\n",
              "      <td>7.000000</td>\n",
              "      <td>3.000000</td>\n",
              "      <td>7.000000</td>\n",
              "      <td>2.000000</td>\n",
              "      <td>7.000000</td>\n",
              "      <td>3.000000</td>\n",
              "      <td>7.000000</td>\n",
              "      <td>1.000000</td>\n",
              "    </tr>\n",
              "    <tr>\n",
              "      <th>75%</th>\n",
              "      <td>4.000000</td>\n",
              "      <td>10.000000</td>\n",
              "      <td>4.000000</td>\n",
              "      <td>10.000000</td>\n",
              "      <td>4.000000</td>\n",
              "      <td>10.000000</td>\n",
              "      <td>3.000000</td>\n",
              "      <td>10.000000</td>\n",
              "      <td>3.000000</td>\n",
              "      <td>10.000000</td>\n",
              "      <td>1.000000</td>\n",
              "    </tr>\n",
              "    <tr>\n",
              "      <th>max</th>\n",
              "      <td>4.000000</td>\n",
              "      <td>13.000000</td>\n",
              "      <td>4.000000</td>\n",
              "      <td>13.000000</td>\n",
              "      <td>4.000000</td>\n",
              "      <td>13.000000</td>\n",
              "      <td>4.000000</td>\n",
              "      <td>13.000000</td>\n",
              "      <td>4.000000</td>\n",
              "      <td>13.000000</td>\n",
              "      <td>9.000000</td>\n",
              "    </tr>\n",
              "  </tbody>\n",
              "</table>\n",
              "</div>"
            ],
            "text/plain": [
              "                 S1            C1  ...            C5    Poker Hand\n",
              "count  25010.000000  25010.000000  ...  25010.000000  25010.000000\n",
              "mean       2.508756      6.995242  ...      6.962735      0.621152\n",
              "std        1.116483      3.749805  ...      3.741579      0.788361\n",
              "min        1.000000      1.000000  ...      1.000000      0.000000\n",
              "25%        2.000000      4.000000  ...      4.000000      0.000000\n",
              "50%        3.000000      7.000000  ...      7.000000      1.000000\n",
              "75%        4.000000     10.000000  ...     10.000000      1.000000\n",
              "max        4.000000     13.000000  ...     13.000000      9.000000\n",
              "\n",
              "[8 rows x 11 columns]"
            ]
          },
          "metadata": {
            "tags": []
          },
          "execution_count": 21
        }
      ]
    },
    {
      "cell_type": "code",
      "metadata": {
        "id": "Av7iSlHToIE3",
        "colab_type": "code",
        "colab": {
          "base_uri": "https://localhost:8080/",
          "height": 230
        },
        "outputId": "59013668-3ad9-4946-f4dc-f0e587ae9447"
      },
      "source": [
        "#This data does not contain any missing values\n",
        "poker_data.isna().sum()"
      ],
      "execution_count": 22,
      "outputs": [
        {
          "output_type": "execute_result",
          "data": {
            "text/plain": [
              "S1            0\n",
              "C1            0\n",
              "S2            0\n",
              "C2            0\n",
              "S3            0\n",
              "C3            0\n",
              "S4            0\n",
              "C4            0\n",
              "S5            0\n",
              "C5            0\n",
              "Poker Hand    0\n",
              "dtype: int64"
            ]
          },
          "metadata": {
            "tags": []
          },
          "execution_count": 22
        }
      ]
    },
    {
      "cell_type": "markdown",
      "metadata": {
        "id": "mq_aQjxlM-u5",
        "colab_type": "text"
      },
      "source": [
        "## 3) Load a dataset from UCI using `!wget`\n",
        "\n",
        "\"Shell Out\" and try loading a file directly into your google colab's memory using the `!wget` command and then read it in with `read_csv`.\n",
        "\n",
        "With this file we'll do a bit more to it.\n",
        "\n",
        "- Read it in, fix any problems with the header as make sure missing values are encoded as `NaN`.\n",
        "- Use the `.fillna()` method to fill any missing values. \n",
        " - [.fillna() documentation](https://pandas.pydata.org/pandas-docs/stable/reference/api/pandas.DataFrame.fillna.html)\n",
        "- Create one of each of the following plots using the Pandas plotting functionality:\n",
        " - Scatterplot\n",
        " - Histogram\n",
        " - Density Plot\n"
      ]
    },
    {
      "cell_type": "code",
      "metadata": {
        "id": "rDfyZBEmxp2l",
        "colab_type": "code",
        "colab": {
          "base_uri": "https://localhost:8080/",
          "height": 265
        },
        "outputId": "b6a72691-55cf-466e-e326-defe90e90b48"
      },
      "source": [
        "#Using wget will upload audit data dataset into dataframe\n",
        "!wget \"https://archive.ics.uci.edu/ml/machine-learning-databases/00475/audit_data.zip\"\n",
        "!unzip audit_data.zip\n",
        "#further the file is in zip so using the unzip command too."
      ],
      "execution_count": 58,
      "outputs": [
        {
          "output_type": "stream",
          "text": [
            "--2019-08-06 21:27:13--  https://archive.ics.uci.edu/ml/machine-learning-databases/00475/audit_data.zip\n",
            "Resolving archive.ics.uci.edu (archive.ics.uci.edu)... 128.195.10.252\n",
            "Connecting to archive.ics.uci.edu (archive.ics.uci.edu)|128.195.10.252|:443... connected.\n",
            "HTTP request sent, awaiting response... 200 OK\n",
            "Length: 28447 (28K) [application/x-httpd-php]\n",
            "Saving to: ‘audit_data.zip.1’\n",
            "\n",
            "\raudit_data.zip.1      0%[                    ]       0  --.-KB/s               \raudit_data.zip.1    100%[===================>]  27.78K  --.-KB/s    in 0.03s   \n",
            "\n",
            "2019-08-06 21:27:13 (895 KB/s) - ‘audit_data.zip.1’ saved [28447/28447]\n",
            "\n",
            "Archive:  audit_data.zip\n",
            "  inflating: audit_data/audit_risk.csv  \n",
            "  inflating: audit_data/trial.csv    \n"
          ],
          "name": "stdout"
        }
      ]
    },
    {
      "cell_type": "code",
      "metadata": {
        "id": "NrHlHs83zQKD",
        "colab_type": "code",
        "colab": {
          "base_uri": "https://localhost:8080/",
          "height": 235
        },
        "outputId": "0fd45ea5-46a3-4044-83f2-8b0d18f77195"
      },
      "source": [
        "audit_df = pd.read_csv(\"audit_data/trial.csv\")\n",
        "print(audit_df.shape)\n",
        "audit_df.head()"
      ],
      "execution_count": 61,
      "outputs": [
        {
          "output_type": "stream",
          "text": [
            "(776, 18)\n"
          ],
          "name": "stdout"
        },
        {
          "output_type": "execute_result",
          "data": {
            "text/html": [
              "<div>\n",
              "<style scoped>\n",
              "    .dataframe tbody tr th:only-of-type {\n",
              "        vertical-align: middle;\n",
              "    }\n",
              "\n",
              "    .dataframe tbody tr th {\n",
              "        vertical-align: top;\n",
              "    }\n",
              "\n",
              "    .dataframe thead th {\n",
              "        text-align: right;\n",
              "    }\n",
              "</style>\n",
              "<table border=\"1\" class=\"dataframe\">\n",
              "  <thead>\n",
              "    <tr style=\"text-align: right;\">\n",
              "      <th></th>\n",
              "      <th>Sector_score</th>\n",
              "      <th>LOCATION_ID</th>\n",
              "      <th>PARA_A</th>\n",
              "      <th>SCORE_A</th>\n",
              "      <th>PARA_B</th>\n",
              "      <th>SCORE_B</th>\n",
              "      <th>TOTAL</th>\n",
              "      <th>numbers</th>\n",
              "      <th>Marks</th>\n",
              "      <th>Money_Value</th>\n",
              "      <th>MONEY_Marks</th>\n",
              "      <th>District</th>\n",
              "      <th>Loss</th>\n",
              "      <th>LOSS_SCORE</th>\n",
              "      <th>History</th>\n",
              "      <th>History_score</th>\n",
              "      <th>Score</th>\n",
              "      <th>Risk</th>\n",
              "    </tr>\n",
              "  </thead>\n",
              "  <tbody>\n",
              "    <tr>\n",
              "      <th>0</th>\n",
              "      <td>3.89</td>\n",
              "      <td>23</td>\n",
              "      <td>4.18</td>\n",
              "      <td>6</td>\n",
              "      <td>2.50</td>\n",
              "      <td>2</td>\n",
              "      <td>6.68</td>\n",
              "      <td>5.0</td>\n",
              "      <td>2</td>\n",
              "      <td>3.38</td>\n",
              "      <td>2</td>\n",
              "      <td>2</td>\n",
              "      <td>0</td>\n",
              "      <td>2</td>\n",
              "      <td>0</td>\n",
              "      <td>2</td>\n",
              "      <td>2.4</td>\n",
              "      <td>1</td>\n",
              "    </tr>\n",
              "    <tr>\n",
              "      <th>1</th>\n",
              "      <td>3.89</td>\n",
              "      <td>6</td>\n",
              "      <td>0.00</td>\n",
              "      <td>2</td>\n",
              "      <td>4.83</td>\n",
              "      <td>2</td>\n",
              "      <td>4.83</td>\n",
              "      <td>5.0</td>\n",
              "      <td>2</td>\n",
              "      <td>0.94</td>\n",
              "      <td>2</td>\n",
              "      <td>2</td>\n",
              "      <td>0</td>\n",
              "      <td>2</td>\n",
              "      <td>0</td>\n",
              "      <td>2</td>\n",
              "      <td>2.0</td>\n",
              "      <td>0</td>\n",
              "    </tr>\n",
              "    <tr>\n",
              "      <th>2</th>\n",
              "      <td>3.89</td>\n",
              "      <td>6</td>\n",
              "      <td>0.51</td>\n",
              "      <td>2</td>\n",
              "      <td>0.23</td>\n",
              "      <td>2</td>\n",
              "      <td>0.74</td>\n",
              "      <td>5.0</td>\n",
              "      <td>2</td>\n",
              "      <td>0.00</td>\n",
              "      <td>2</td>\n",
              "      <td>2</td>\n",
              "      <td>0</td>\n",
              "      <td>2</td>\n",
              "      <td>0</td>\n",
              "      <td>2</td>\n",
              "      <td>2.0</td>\n",
              "      <td>0</td>\n",
              "    </tr>\n",
              "    <tr>\n",
              "      <th>3</th>\n",
              "      <td>3.89</td>\n",
              "      <td>6</td>\n",
              "      <td>0.00</td>\n",
              "      <td>2</td>\n",
              "      <td>10.80</td>\n",
              "      <td>6</td>\n",
              "      <td>10.80</td>\n",
              "      <td>6.0</td>\n",
              "      <td>6</td>\n",
              "      <td>11.75</td>\n",
              "      <td>6</td>\n",
              "      <td>2</td>\n",
              "      <td>0</td>\n",
              "      <td>2</td>\n",
              "      <td>0</td>\n",
              "      <td>2</td>\n",
              "      <td>4.4</td>\n",
              "      <td>1</td>\n",
              "    </tr>\n",
              "    <tr>\n",
              "      <th>4</th>\n",
              "      <td>3.89</td>\n",
              "      <td>6</td>\n",
              "      <td>0.00</td>\n",
              "      <td>2</td>\n",
              "      <td>0.08</td>\n",
              "      <td>2</td>\n",
              "      <td>0.08</td>\n",
              "      <td>5.0</td>\n",
              "      <td>2</td>\n",
              "      <td>0.00</td>\n",
              "      <td>2</td>\n",
              "      <td>2</td>\n",
              "      <td>0</td>\n",
              "      <td>2</td>\n",
              "      <td>0</td>\n",
              "      <td>2</td>\n",
              "      <td>2.0</td>\n",
              "      <td>0</td>\n",
              "    </tr>\n",
              "  </tbody>\n",
              "</table>\n",
              "</div>"
            ],
            "text/plain": [
              "   Sector_score LOCATION_ID  PARA_A  ...  History_score  Score  Risk\n",
              "0          3.89          23    4.18  ...              2    2.4     1\n",
              "1          3.89           6    0.00  ...              2    2.0     0\n",
              "2          3.89           6    0.51  ...              2    2.0     0\n",
              "3          3.89           6    0.00  ...              2    4.4     1\n",
              "4          3.89           6    0.00  ...              2    2.0     0\n",
              "\n",
              "[5 rows x 18 columns]"
            ]
          },
          "metadata": {
            "tags": []
          },
          "execution_count": 61
        }
      ]
    },
    {
      "cell_type": "code",
      "metadata": {
        "id": "vVh6M5i93Epo",
        "colab_type": "code",
        "colab": {
          "base_uri": "https://localhost:8080/",
          "height": 217
        },
        "outputId": "da902d32-defd-4327-de6a-8254621ad349"
      },
      "source": [
        "audit_df.tail()"
      ],
      "execution_count": 62,
      "outputs": [
        {
          "output_type": "execute_result",
          "data": {
            "text/html": [
              "<div>\n",
              "<style scoped>\n",
              "    .dataframe tbody tr th:only-of-type {\n",
              "        vertical-align: middle;\n",
              "    }\n",
              "\n",
              "    .dataframe tbody tr th {\n",
              "        vertical-align: top;\n",
              "    }\n",
              "\n",
              "    .dataframe thead th {\n",
              "        text-align: right;\n",
              "    }\n",
              "</style>\n",
              "<table border=\"1\" class=\"dataframe\">\n",
              "  <thead>\n",
              "    <tr style=\"text-align: right;\">\n",
              "      <th></th>\n",
              "      <th>Sector_score</th>\n",
              "      <th>LOCATION_ID</th>\n",
              "      <th>PARA_A</th>\n",
              "      <th>SCORE_A</th>\n",
              "      <th>PARA_B</th>\n",
              "      <th>SCORE_B</th>\n",
              "      <th>TOTAL</th>\n",
              "      <th>numbers</th>\n",
              "      <th>Marks</th>\n",
              "      <th>Money_Value</th>\n",
              "      <th>MONEY_Marks</th>\n",
              "      <th>District</th>\n",
              "      <th>Loss</th>\n",
              "      <th>LOSS_SCORE</th>\n",
              "      <th>History</th>\n",
              "      <th>History_score</th>\n",
              "      <th>Score</th>\n",
              "      <th>Risk</th>\n",
              "    </tr>\n",
              "  </thead>\n",
              "  <tbody>\n",
              "    <tr>\n",
              "      <th>771</th>\n",
              "      <td>55.57</td>\n",
              "      <td>9</td>\n",
              "      <td>0.49</td>\n",
              "      <td>2</td>\n",
              "      <td>0.40</td>\n",
              "      <td>2</td>\n",
              "      <td>0.89</td>\n",
              "      <td>5.0</td>\n",
              "      <td>2</td>\n",
              "      <td>0.00</td>\n",
              "      <td>2</td>\n",
              "      <td>2</td>\n",
              "      <td>0</td>\n",
              "      <td>2</td>\n",
              "      <td>0</td>\n",
              "      <td>2</td>\n",
              "      <td>2.0</td>\n",
              "      <td>0</td>\n",
              "    </tr>\n",
              "    <tr>\n",
              "      <th>772</th>\n",
              "      <td>55.57</td>\n",
              "      <td>16</td>\n",
              "      <td>0.47</td>\n",
              "      <td>2</td>\n",
              "      <td>0.37</td>\n",
              "      <td>2</td>\n",
              "      <td>0.84</td>\n",
              "      <td>5.0</td>\n",
              "      <td>2</td>\n",
              "      <td>0.00</td>\n",
              "      <td>2</td>\n",
              "      <td>2</td>\n",
              "      <td>0</td>\n",
              "      <td>2</td>\n",
              "      <td>0</td>\n",
              "      <td>2</td>\n",
              "      <td>2.0</td>\n",
              "      <td>0</td>\n",
              "    </tr>\n",
              "    <tr>\n",
              "      <th>773</th>\n",
              "      <td>55.57</td>\n",
              "      <td>14</td>\n",
              "      <td>0.24</td>\n",
              "      <td>2</td>\n",
              "      <td>0.04</td>\n",
              "      <td>2</td>\n",
              "      <td>0.28</td>\n",
              "      <td>5.0</td>\n",
              "      <td>2</td>\n",
              "      <td>0.00</td>\n",
              "      <td>2</td>\n",
              "      <td>2</td>\n",
              "      <td>0</td>\n",
              "      <td>2</td>\n",
              "      <td>0</td>\n",
              "      <td>2</td>\n",
              "      <td>2.0</td>\n",
              "      <td>0</td>\n",
              "    </tr>\n",
              "    <tr>\n",
              "      <th>774</th>\n",
              "      <td>55.57</td>\n",
              "      <td>18</td>\n",
              "      <td>0.20</td>\n",
              "      <td>2</td>\n",
              "      <td>0.00</td>\n",
              "      <td>2</td>\n",
              "      <td>0.20</td>\n",
              "      <td>5.0</td>\n",
              "      <td>2</td>\n",
              "      <td>0.00</td>\n",
              "      <td>2</td>\n",
              "      <td>2</td>\n",
              "      <td>0</td>\n",
              "      <td>2</td>\n",
              "      <td>0</td>\n",
              "      <td>2</td>\n",
              "      <td>2.0</td>\n",
              "      <td>0</td>\n",
              "    </tr>\n",
              "    <tr>\n",
              "      <th>775</th>\n",
              "      <td>55.57</td>\n",
              "      <td>15</td>\n",
              "      <td>0.00</td>\n",
              "      <td>2</td>\n",
              "      <td>0.00</td>\n",
              "      <td>2</td>\n",
              "      <td>0.00</td>\n",
              "      <td>5.0</td>\n",
              "      <td>2</td>\n",
              "      <td>0.32</td>\n",
              "      <td>2</td>\n",
              "      <td>2</td>\n",
              "      <td>0</td>\n",
              "      <td>2</td>\n",
              "      <td>0</td>\n",
              "      <td>2</td>\n",
              "      <td>2.0</td>\n",
              "      <td>0</td>\n",
              "    </tr>\n",
              "  </tbody>\n",
              "</table>\n",
              "</div>"
            ],
            "text/plain": [
              "     Sector_score LOCATION_ID  PARA_A  ...  History_score  Score  Risk\n",
              "771         55.57           9    0.49  ...              2    2.0     0\n",
              "772         55.57          16    0.47  ...              2    2.0     0\n",
              "773         55.57          14    0.24  ...              2    2.0     0\n",
              "774         55.57          18    0.20  ...              2    2.0     0\n",
              "775         55.57          15    0.00  ...              2    2.0     0\n",
              "\n",
              "[5 rows x 18 columns]"
            ]
          },
          "metadata": {
            "tags": []
          },
          "execution_count": 62
        }
      ]
    },
    {
      "cell_type": "code",
      "metadata": {
        "id": "igtBswT53P0I",
        "colab_type": "code",
        "colab": {
          "base_uri": "https://localhost:8080/",
          "height": 354
        },
        "outputId": "4866d0ba-623e-4122-8ba2-0d28d93fc0e9"
      },
      "source": [
        "audit_df.isna().sum()\n",
        "#There is only one missing value in the attribute Money_Value"
      ],
      "execution_count": 64,
      "outputs": [
        {
          "output_type": "execute_result",
          "data": {
            "text/plain": [
              "Sector_score     0\n",
              "LOCATION_ID      0\n",
              "PARA_A           0\n",
              "SCORE_A          0\n",
              "PARA_B           0\n",
              "SCORE_B          0\n",
              "TOTAL            0\n",
              "numbers          0\n",
              "Marks            0\n",
              "Money_Value      1\n",
              "MONEY_Marks      0\n",
              "District         0\n",
              "Loss             0\n",
              "LOSS_SCORE       0\n",
              "History          0\n",
              "History_score    0\n",
              "Score            0\n",
              "Risk             0\n",
              "dtype: int64"
            ]
          },
          "metadata": {
            "tags": []
          },
          "execution_count": 64
        }
      ]
    },
    {
      "cell_type": "code",
      "metadata": {
        "id": "YoHqu-UB3tW1",
        "colab_type": "code",
        "colab": {
          "base_uri": "https://localhost:8080/",
          "height": 307
        },
        "outputId": "72dc7f38-f3d9-4c03-8b09-bd2cfd19caf6"
      },
      "source": [
        "audit_df.describe()"
      ],
      "execution_count": 66,
      "outputs": [
        {
          "output_type": "execute_result",
          "data": {
            "text/html": [
              "<div>\n",
              "<style scoped>\n",
              "    .dataframe tbody tr th:only-of-type {\n",
              "        vertical-align: middle;\n",
              "    }\n",
              "\n",
              "    .dataframe tbody tr th {\n",
              "        vertical-align: top;\n",
              "    }\n",
              "\n",
              "    .dataframe thead th {\n",
              "        text-align: right;\n",
              "    }\n",
              "</style>\n",
              "<table border=\"1\" class=\"dataframe\">\n",
              "  <thead>\n",
              "    <tr style=\"text-align: right;\">\n",
              "      <th></th>\n",
              "      <th>Sector_score</th>\n",
              "      <th>PARA_A</th>\n",
              "      <th>SCORE_A</th>\n",
              "      <th>PARA_B</th>\n",
              "      <th>SCORE_B</th>\n",
              "      <th>TOTAL</th>\n",
              "      <th>numbers</th>\n",
              "      <th>Marks</th>\n",
              "      <th>Money_Value</th>\n",
              "      <th>MONEY_Marks</th>\n",
              "      <th>District</th>\n",
              "      <th>Loss</th>\n",
              "      <th>LOSS_SCORE</th>\n",
              "      <th>History</th>\n",
              "      <th>History_score</th>\n",
              "      <th>Score</th>\n",
              "      <th>Risk</th>\n",
              "    </tr>\n",
              "  </thead>\n",
              "  <tbody>\n",
              "    <tr>\n",
              "      <th>count</th>\n",
              "      <td>776.000000</td>\n",
              "      <td>776.000000</td>\n",
              "      <td>776.000000</td>\n",
              "      <td>776.000000</td>\n",
              "      <td>776.000000</td>\n",
              "      <td>776.000000</td>\n",
              "      <td>776.000000</td>\n",
              "      <td>776.000000</td>\n",
              "      <td>775.000000</td>\n",
              "      <td>776.000000</td>\n",
              "      <td>776.000000</td>\n",
              "      <td>776.000000</td>\n",
              "      <td>776.000000</td>\n",
              "      <td>776.000000</td>\n",
              "      <td>776.000000</td>\n",
              "      <td>776.000000</td>\n",
              "      <td>776.000000</td>\n",
              "    </tr>\n",
              "    <tr>\n",
              "      <th>mean</th>\n",
              "      <td>20.184536</td>\n",
              "      <td>2.450194</td>\n",
              "      <td>3.512887</td>\n",
              "      <td>10.799988</td>\n",
              "      <td>3.131443</td>\n",
              "      <td>13.218481</td>\n",
              "      <td>5.067655</td>\n",
              "      <td>2.237113</td>\n",
              "      <td>14.137631</td>\n",
              "      <td>2.909794</td>\n",
              "      <td>2.505155</td>\n",
              "      <td>0.029639</td>\n",
              "      <td>2.061856</td>\n",
              "      <td>0.104381</td>\n",
              "      <td>2.167526</td>\n",
              "      <td>2.702577</td>\n",
              "      <td>0.626289</td>\n",
              "    </tr>\n",
              "    <tr>\n",
              "      <th>std</th>\n",
              "      <td>24.319017</td>\n",
              "      <td>5.678870</td>\n",
              "      <td>1.740549</td>\n",
              "      <td>50.083624</td>\n",
              "      <td>1.698042</td>\n",
              "      <td>51.312829</td>\n",
              "      <td>0.264449</td>\n",
              "      <td>0.803517</td>\n",
              "      <td>66.606519</td>\n",
              "      <td>1.597452</td>\n",
              "      <td>1.228678</td>\n",
              "      <td>0.184280</td>\n",
              "      <td>0.375080</td>\n",
              "      <td>0.531031</td>\n",
              "      <td>0.679869</td>\n",
              "      <td>0.858923</td>\n",
              "      <td>0.484100</td>\n",
              "    </tr>\n",
              "    <tr>\n",
              "      <th>min</th>\n",
              "      <td>1.850000</td>\n",
              "      <td>0.000000</td>\n",
              "      <td>2.000000</td>\n",
              "      <td>0.000000</td>\n",
              "      <td>2.000000</td>\n",
              "      <td>0.000000</td>\n",
              "      <td>5.000000</td>\n",
              "      <td>2.000000</td>\n",
              "      <td>0.000000</td>\n",
              "      <td>2.000000</td>\n",
              "      <td>2.000000</td>\n",
              "      <td>0.000000</td>\n",
              "      <td>2.000000</td>\n",
              "      <td>0.000000</td>\n",
              "      <td>2.000000</td>\n",
              "      <td>2.000000</td>\n",
              "      <td>0.000000</td>\n",
              "    </tr>\n",
              "    <tr>\n",
              "      <th>25%</th>\n",
              "      <td>2.370000</td>\n",
              "      <td>0.210000</td>\n",
              "      <td>2.000000</td>\n",
              "      <td>0.000000</td>\n",
              "      <td>2.000000</td>\n",
              "      <td>0.537500</td>\n",
              "      <td>5.000000</td>\n",
              "      <td>2.000000</td>\n",
              "      <td>0.000000</td>\n",
              "      <td>2.000000</td>\n",
              "      <td>2.000000</td>\n",
              "      <td>0.000000</td>\n",
              "      <td>2.000000</td>\n",
              "      <td>0.000000</td>\n",
              "      <td>2.000000</td>\n",
              "      <td>2.000000</td>\n",
              "      <td>0.000000</td>\n",
              "    </tr>\n",
              "    <tr>\n",
              "      <th>50%</th>\n",
              "      <td>3.890000</td>\n",
              "      <td>0.875000</td>\n",
              "      <td>2.000000</td>\n",
              "      <td>0.405000</td>\n",
              "      <td>2.000000</td>\n",
              "      <td>1.370000</td>\n",
              "      <td>5.000000</td>\n",
              "      <td>2.000000</td>\n",
              "      <td>0.090000</td>\n",
              "      <td>2.000000</td>\n",
              "      <td>2.000000</td>\n",
              "      <td>0.000000</td>\n",
              "      <td>2.000000</td>\n",
              "      <td>0.000000</td>\n",
              "      <td>2.000000</td>\n",
              "      <td>2.400000</td>\n",
              "      <td>1.000000</td>\n",
              "    </tr>\n",
              "    <tr>\n",
              "      <th>75%</th>\n",
              "      <td>55.570000</td>\n",
              "      <td>2.480000</td>\n",
              "      <td>6.000000</td>\n",
              "      <td>4.160000</td>\n",
              "      <td>4.000000</td>\n",
              "      <td>7.707500</td>\n",
              "      <td>5.000000</td>\n",
              "      <td>2.000000</td>\n",
              "      <td>5.595000</td>\n",
              "      <td>4.000000</td>\n",
              "      <td>2.000000</td>\n",
              "      <td>0.000000</td>\n",
              "      <td>2.000000</td>\n",
              "      <td>0.000000</td>\n",
              "      <td>2.000000</td>\n",
              "      <td>3.250000</td>\n",
              "      <td>1.000000</td>\n",
              "    </tr>\n",
              "    <tr>\n",
              "      <th>max</th>\n",
              "      <td>59.850000</td>\n",
              "      <td>85.000000</td>\n",
              "      <td>6.000000</td>\n",
              "      <td>1264.630000</td>\n",
              "      <td>6.000000</td>\n",
              "      <td>1268.910000</td>\n",
              "      <td>9.000000</td>\n",
              "      <td>6.000000</td>\n",
              "      <td>935.030000</td>\n",
              "      <td>6.000000</td>\n",
              "      <td>6.000000</td>\n",
              "      <td>2.000000</td>\n",
              "      <td>6.000000</td>\n",
              "      <td>9.000000</td>\n",
              "      <td>6.000000</td>\n",
              "      <td>5.200000</td>\n",
              "      <td>1.000000</td>\n",
              "    </tr>\n",
              "  </tbody>\n",
              "</table>\n",
              "</div>"
            ],
            "text/plain": [
              "       Sector_score      PARA_A  ...       Score        Risk\n",
              "count    776.000000  776.000000  ...  776.000000  776.000000\n",
              "mean      20.184536    2.450194  ...    2.702577    0.626289\n",
              "std       24.319017    5.678870  ...    0.858923    0.484100\n",
              "min        1.850000    0.000000  ...    2.000000    0.000000\n",
              "25%        2.370000    0.210000  ...    2.000000    0.000000\n",
              "50%        3.890000    0.875000  ...    2.400000    1.000000\n",
              "75%       55.570000    2.480000  ...    3.250000    1.000000\n",
              "max       59.850000   85.000000  ...    5.200000    1.000000\n",
              "\n",
              "[8 rows x 17 columns]"
            ]
          },
          "metadata": {
            "tags": []
          },
          "execution_count": 66
        }
      ]
    },
    {
      "cell_type": "code",
      "metadata": {
        "id": "aZhfvm2m4oEo",
        "colab_type": "code",
        "colab": {
          "base_uri": "https://localhost:8080/",
          "height": 283
        },
        "outputId": "e23eec48-7023-4eda-da62-c4f7ed1977bd"
      },
      "source": [
        "audit_df.plot.scatter('Money_Value','Risk');"
      ],
      "execution_count": 71,
      "outputs": [
        {
          "output_type": "display_data",
          "data": {
            "image/png": "[encoded data removed]",
            "text/plain": [
              "<Figure size 432x288 with 1 Axes>"
            ]
          },
          "metadata": {
            "tags": []
          }
        }
      ]
    },
    {
      "cell_type": "code",
      "metadata": {
        "id": "ViV4UkfV5jfJ",
        "colab_type": "code",
        "colab": {
          "base_uri": "https://localhost:8080/",
          "height": 283
        },
        "outputId": "ea3f3c7f-411f-4919-eef3-f8e3760b8d29"
      },
      "source": [
        "#Using scatter plot for Score and Risk\n",
        "audit_df.plot.scatter('Sector_score','Money_Value');"
      ],
      "execution_count": 73,
      "outputs": [
        {
          "output_type": "display_data",
          "data": {
            "image/png": "[encoded data removed]",
            "text/plain": [
              "<Figure size 432x288 with 1 Axes>"
            ]
          },
          "metadata": {
            "tags": []
          }
        }
      ]
    },
    {
      "cell_type": "code",
      "metadata": {
        "id": "3n4hRQnE54V8",
        "colab_type": "code",
        "colab": {
          "base_uri": "https://localhost:8080/",
          "height": 281
        },
        "outputId": "115b0e26-f66c-4abb-bd34-0002a379b854"
      },
      "source": [
        "#using Histogram\n",
        "audit_df.hist('Score',bins=20);"
      ],
      "execution_count": 88,
      "outputs": [
        {
          "output_type": "display_data",
          "data": {
            "image/png": "[encoded data removed]",
            "text/plain": [
              "<Figure size 432x288 with 1 Axes>"
            ]
          },
          "metadata": {
            "tags": []
          }
        }
      ]
    },
    {
      "cell_type": "code",
      "metadata": {
        "id": "L40RdQim6DEr",
        "colab_type": "code",
        "colab": {
          "base_uri": "https://localhost:8080/",
          "height": 281
        },
        "outputId": "4c0fae3d-5f88-4fb9-c05a-935ffca3670a"
      },
      "source": [
        "#using Histogram\n",
        "audit_df.hist('Money_Value',bins=20);\n"
      ],
      "execution_count": 87,
      "outputs": [
        {
          "output_type": "display_data",
          "data": {
            "image/png": "[encoded data removed]",
            "text/plain": [
              "<Figure size 432x288 with 1 Axes>"
            ]
          },
          "metadata": {
            "tags": []
          }
        }
      ]
    },
    {
      "cell_type": "code",
      "metadata": {
        "id": "QKBgtbGK4EMQ",
        "colab_type": "code",
        "colab": {
          "base_uri": "https://localhost:8080/",
          "height": 305
        },
        "outputId": "93d31fe3-75a7-4eef-c6f9-a98e15c16613"
      },
      "source": [
        "#Using KDE\n",
        "audit_df.plot.density();"
      ],
      "execution_count": 86,
      "outputs": [
        {
          "output_type": "display_data",
          "data": {
            "image/png": "[encoded data removed]",
            "text/plain": [
              "<Figure size 432x288 with 1 Axes>"
            ]
          },
          "metadata": {
            "tags": []
          }
        }
      ]
    },
    {
      "cell_type": "markdown",
      "metadata": {
        "id": "MZCxTwKuReV9",
        "colab_type": "text"
      },
      "source": [
        "## Stretch Goals - Other types and sources of data\n",
        "\n",
        "Not all data comes in a nice single file - for example, image classification involves handling lots of image files. You still will probably want labels for them, so you may have tabular data in addition to the image blobs - and the images may be reduced in resolution and even fit in a regular csv as a bunch of numbers.\n",
        "\n",
        "If you're interested in natural language processing and analyzing text, that is another example where, while it can be put in a csv, you may end up loading much larger raw data and generating features that can then be thought of in a more standard tabular fashion.\n",
        "\n",
        "Overall you will in the course of learning data science deal with loading data in a variety of ways. Another common way to get data is from a database - most modern applications are backed by one or more databases, which you can query to get data to analyze. We'll cover this more in our data engineering unit.\n",
        "\n",
        "How does data get in the database? Most applications generate logs - text files with lots and lots of records of each use of the application. Databases are often populated based on these files, but in some situations you may directly analyze log files. The usual way to do this is with command line (Unix) tools - command lines are intimidating, so don't expect to learn them all at once, but depending on your interests it can be useful to practice.\n",
        "\n",
        "One last major source of data is APIs: https://github.com/toddmotto/public-apis\n",
        "\n",
        "API stands for Application Programming Interface, and while originally meant e.g. the way an application interfaced with the GUI or other aspects of an operating system, now it largely refers to online services that let you query and retrieve data. You can essentially think of most of them as \"somebody else's database\" - you have (usually limited) access.\n",
        "\n",
        "*Stretch goal* - research one of the above extended forms of data/data loading. See if you can get a basic example working in a notebook. Image, text, or (public) APIs are probably more tractable - databases are interesting, but there aren't many publicly accessible and they require a great deal of setup."
      ]
    },
    {
      "cell_type": "code",
      "metadata": {
        "id": "f4QP6--JBXNK",
        "colab_type": "code",
        "colab": {
          "base_uri": "https://localhost:8080/",
          "height": 54
        },
        "outputId": "709af61c-4a8a-4639-d6f1-0420e80338a0"
      },
      "source": [
        "!curl \"https://cat-fact.herokuapp.com/facts\"\n",
        "#This API is sending json object."
      ],
      "execution_count": 89,
      "outputs": [
        {
          "output_type": "stream",
          "text": [
            "{\"all\":[{\"_id\":\"5b4910ae0508220014ccfe90\",\"text\":\"Cats can hear the ultrasonic noises that rodents and dolphins make to communicate.\",\"type\":\"cat\",\"user\":{\"_id\":\"5a9ac18c7478810ea6c06381\",\"name\":{\"first\":\"Alex\",\"last\":\"Wohlbruck\"}},\"upvotes\":6,\"userUpvoted\":null},{\"_id\":\"5b4911940508220014ccfe94\",\"text\":\"By the time a cat is 9 years old, it will only have been awake for three years of its life.\",\"type\":\"cat\",\"user\":{\"_id\":\"5a9ac18c7478810ea6c06381\",\"name\":{\"first\":\"Alex\",\"last\":\"Wohlbruck\"}},\"upvotes\":5,\"userUpvoted\":null},{\"_id\":\"58e008ad0aac31001185ed0c\",\"text\":\"The frequency of a domestic cat's purr is the same at which muscles and bones repair themselves.\",\"type\":\"cat\",\"user\":{\"_id\":\"58e007480aac31001185ecef\",\"name\":{\"first\":\"Kasimir\",\"last\":\"Schulz\"}},\"upvotes\":5,\"userUpvoted\":null},{\"_id\":\"59a60b8e6acf530020f3586e\",\"text\":\"Cat owners are 17% more likely to have a graduate degree than non cat owners.\",\"type\":\"cat\",\"user\":{\"_id\":\"5a9ac18c7478810ea6c06381\",\"name\":{\"first\":\"Alex\",\"last\":\"Wohlbruck\"}},\"upvotes\":5,\"userUpvoted\":null},{\"_id\":\"58e008b80aac31001185ed0d\",\"text\":\"Adult cats only meow to communicate with humans.\",\"type\":\"cat\",\"user\":{\"_id\":\"58e007480aac31001185ecef\",\"name\":{\"first\":\"Kasimir\",\"last\":\"Schulz\"}},\"upvotes\":4,\"userUpvoted\":null},{\"_id\":\"58e009650aac31001185ed13\",\"text\":\"In the 1960s, the CIA tried to turn a cat into a bonafide spy by implanting a microphone into her ear and a radio transmitter at the base of her skull. She somehow survived the surgery but got hit by a taxi on her first mission.\",\"type\":\"cat\",\"user\":{\"_id\":\"58e007480aac31001185ecef\",\"name\":{\"first\":\"Kasimir\",\"last\":\"Schulz\"}},\"upvotes\":4,\"userUpvoted\":null},{\"_id\":\"58e00a090aac31001185ed16\",\"text\":\"Cats make more than 100 different sounds whereas dogs make around 10.\",\"type\":\"cat\",\"user\":{\"_id\":\"58e007480aac31001185ecef\",\"name\":{\"first\":\"Kasimir\",\"last\":\"Schulz\"}},\"upvotes\":4,\"userUpvoted\":null},{\"_id\":\"58e00b2b0aac31001185ed1f\",\"text\":\"A cat has five toes on his front paws, and four on the back, unless he's a polydactyl.\",\"type\":\"cat\",\"user\":{\"_id\":\"58e007480aac31001185ecef\",\"name\":{\"first\":\"Kasimir\",\"last\":\"Schulz\"}},\"upvotes\":4,\"userUpvoted\":null},{\"_id\":\"58e00be30aac31001185edfe\",\"text\":\"Cats use their whiskers to detect if they can fit through a space.\",\"type\":\"cat\",\"user\":{\"_id\":\"58e007480aac31001185ecef\",\"name\":{\"first\":\"Kasimir\",\"last\":\"Schulz\"}},\"upvotes\":4,\"userUpvoted\":null},{\"_id\":\"58e00b4d0aac31001185ed22\",\"text\":\"Original kitty litter was made out of sand but it was replaced by more absorbent clay in 1948.\",\"type\":\"cat\",\"user\":{\"_id\":\"58e007480aac31001185ecef\",\"name\":{\"first\":\"Kasimir\",\"last\":\"Schulz\"}},\"upvotes\":4,\"userUpvoted\":null},{\"_id\":\"5b199196ce456e001424256a\",\"text\":\"Cats can distinguish different flavors in water.\",\"type\":\"cat\",\"user\":{\"_id\":\"5a9ac18c7478810ea6c06381\",\"name\":{\"first\":\"Alex\",\"last\":\"Wohlbruck\"}},\"upvotes\":4,\"userUpvoted\":null},{\"_id\":\"5b1b411d841d9700146158d9\",\"text\":\"The Egyptian Mau’s name is derived from the Middle Egyptian word mjw, which means cat. But contrary to its name, it’s unclear whether the modern Egyptian Mau actually originated in Egypt.\",\"type\":\"cat\",\"user\":{\"_id\":\"5a9ac18c7478810ea6c06381\",\"name\":{\"first\":\"Alex\",\"last\":\"Wohlbruck\"}},\"upvotes\":4,\"userUpvoted\":null},{\"_id\":\"5b4912c60508220014ccfe99\",\"text\":\"Cats aren’t the only animals that purr — squirrels, lemurs, elephants, and even gorillas purr too.\",\"type\":\"cat\",\"user\":{\"_id\":\"5a9ac18c7478810ea6c06381\",\"name\":{\"first\":\"Alex\",\"last\":\"Wohlbruck\"}},\"upvotes\":4,\"userUpvoted\":null},{\"_id\":\"58e007db0aac31001185ecf7\",\"text\":\"There are cats who have survived falls from over 32 stories (320 meters) onto concrete.\",\"type\":\"cat\",\"user\":{\"_id\":\"58e007480aac31001185ecef\",\"name\":{\"first\":\"Kasimir\",\"last\":\"Schulz\"}},\"upvotes\":3,\"userUpvoted\":null},{\"_id\":\"58e008800aac31001185ed07\",\"text\":\"Wikipedia has a recording of a cat meowing, because why not?\",\"type\":\"cat\",\"user\":{\"_id\":\"58e007480aac31001185ecef\",\"name\":{\"first\":\"Kasimir\",\"last\":\"Schulz\"}},\"upvotes\":3,\"userUpvoted\":null},{\"_id\":\"58e009790aac31001185ed14\",\"text\":\"The technical term for \\\"hairball\\\" is \\\"bezoar.\\\"\",\"type\":\"cat\",\"user\":{\"_id\":\"58e007480aac31001185ecef\",\"name\":{\"first\":\"Kasimir\",\"last\":\"Schulz\"}},\"upvotes\":3,\"userUpvoted\":null},{\"_id\":\"58e00a120aac31001185ed17\",\"text\":\"A cat's brain is 90% similar to a human's — more similar than to a dog's.\",\"type\":\"cat\",\"user\":{\"_id\":\"58e007480aac31001185ecef\",\"name\":{\"first\":\"Kasimir\",\"last\":\"Schulz\"}},\"upvotes\":3,\"userUpvoted\":null},{\"_id\":\"591d9b2f227c1a0020d26823\",\"text\":\"Every year, nearly four million cats are eaten in China as a delicacy.\",\"type\":\"cat\",\"user\":{\"_id\":\"587288f6e6f85e64ae1c7ef7\",\"name\":{\"first\":\"Alex\",\"last\":\"Wohlbruck\"}},\"upvotes\":3,\"userUpvoted\":null},{\"_id\":\"5974fb4dfedacb0020b5b4cc\",\"text\":\"Cats can survive falls from up to 65 feet or more.\",\"type\":\"cat\",\"user\":{\"_id\":\"5a9ac18c7478810ea6c06381\",\"name\":{\"first\":\"Alex\",\"last\":\"Wohlbruck\"}},\"upvotes\":3,\"userUpvoted\":null},{\"_id\":\"59a60ba66acf530020f35873\",\"text\":\"Most cats don't like water because their coats do not insulate them well enough.\",\"type\":\"cat\",\"user\":{\"_id\":\"5a9ac18c7478810ea6c06381\",\"name\":{\"first\":\"Alex\",\"last\":\"Wohlbruck\"}},\"upvotes\":3,\"userUpvoted\":null},{\"_id\":\"5a4d76916ef087002174c28b\",\"text\":\"A cat’s nose pad is ridged with a unique pattern, just like the fingerprint of a human.\",\"type\":\"cat\",\"user\":{\"_id\":\"5a9ac18c7478810ea6c06381\",\"name\":{\"first\":\"Alex\",\"last\":\"Wohlbruck\"}},\"upvotes\":3,\"userUpvoted\":null},{\"_id\":\"59951d5ef2db18002031693c\",\"text\":\"America’s cats, including housecats that adventure outdoors and feral cats, kill between 1.3 billion and 4.0 billion birds in a year.\",\"type\":\"cat\",\"user\":{\"_id\":\"5a9ac18c7478810ea6c06381\",\"name\":{\"first\":\"Alex\",\"last\":\"Wohlbruck\"}},\"upvotes\":3,\"userUpvoted\":null},{\"_id\":\"5b01a447c6914f0014cc9a30\",\"text\":\"The special sensory organ called the Jacobson's organ allows a cat to have 14 times the sense of smell of a human. It consists of two fluid-filled sacs that connect to the cat's nasal cavity and is located on the roof of their mouth behind their teeth.\",\"type\":\"cat\",\"user\":{\"_id\":\"5a9ac18c7478810ea6c06381\",\"name\":{\"first\":\"Alex\",\"last\":\"Wohlbruck\"}},\"upvotes\":3,\"userUpvoted\":null},{\"_id\":\"5b1b4014841d9700146158d0\",\"text\":\"In 1879, Belgium unsuccessfully tried to use cats to deliver mail.\",\"type\":\"cat\",\"user\":{\"_id\":\"5a9ac18c7478810ea6c06381\",\"name\":{\"first\":\"Alex\",\"last\":\"Wohlbruck\"}},\"upvotes\":3,\"userUpvoted\":null},{\"_id\":\"5b1b4055841d9700146158d3\",\"text\":\"Scottish sailer Alexander Selkirk once survived for 4 years on a deserted island thanks to feral cats that protected him from large rats during the night.\",\"type\":\"cat\",\"user\":{\"_id\":\"5a9ac18c7478810ea6c06381\",\"name\":{\"first\":\"Alex\",\"last\":\"Wohlbruck\"}},\"upvotes\":3,\"userUpvoted\":null},{\"_id\":\"5b3bd7d24cf4e10014bfd199\",\"text\":\"The myth that a cat has nine lives comes from their ability to jump and land from high places. The number 9 is believed by some to originate from William Shakespeare's Romeo and Juliet: \\\"A cat has nine lives. For three he plays, for three he strays, and for the last three he stays.\\\"\",\"type\":\"cat\",\"user\":{\"_id\":\"5a9ac18c7478810ea6c06381\",\"name\":{\"first\":\"Alex\",\"last\":\"Wohlbruck\"}},\"upvotes\":3,\"userUpvoted\":null},{\"_id\":\"5b453e380fd3a600147f32f3\",\"text\":\"Exposure to UV light with hairless or partially-hairless cats can result in sunburn, even during cloudy or shady conditions. If your cat risks overexposure, consider applying sunscreen daily.\",\"type\":\"cat\",\"user\":{\"_id\":\"5a9ac18c7478810ea6c06381\",\"name\":{\"first\":\"Alex\",\"last\":\"Wohlbruck\"}},\"upvotes\":3,\"userUpvoted\":null},{\"_id\":\"58e008780aac31001185ed05\",\"text\":\"Owning a cat can reduce the risk of stroke and heart attack by a third.\",\"type\":\"cat\",\"user\":{\"_id\":\"58e007480aac31001185ecef\",\"name\":{\"first\":\"Kasimir\",\"last\":\"Schulz\"}},\"upvotes\":2,\"userUpvoted\":null},{\"_id\":\"58f9b96132ffea00208fe9b7\",\"text\":\"rerewr\",\"type\":\"cat\",\"upvotes\":2,\"userUpvoted\":null},{\"_id\":\"590b9d90229d260020af0b06\",\"text\":\"Evidence suggests domesticated cats have been around since 3600 B.C., 2,000 years before Egypt's pharaohs.\",\"type\":\"cat\",\"user\":{\"_id\":\"5a9ac18c7478810ea6c06381\",\"name\":{\"first\":\"Alex\",\"last\":\"Wohlbruck\"}},\"upvotes\":2,\"userUpvoted\":null},{\"_id\":\"58923f2fc3878c0011784c79\",\"text\":\"I don't know anything about cats.\",\"type\":\"cat\",\"user\":{\"_id\":\"5887e9f65c873e001103688d\",\"name\":{\"first\":\"Jackson\",\"last\":\"Sippe\"}},\"upvotes\":2,\"userUpvoted\":null},{\"_id\":\"58e00b8b0aac31001185edf8\",\"text\":\"A cat can jump up to six times its length.\",\"type\":\"cat\",\"user\":{\"_id\":\"58e007480aac31001185ecef\",\"name\":{\"first\":\"Kasimir\",\"last\":\"Schulz\"}},\"upvotes\":2,\"userUpvoted\":null},{\"_id\":\"58e00c080aac31001185ee01\",\"text\":\"Cats only sweat through their foot pads.\",\"type\":\"cat\",\"user\":{\"_id\":\"58e007480aac31001185ecef\",\"name\":{\"first\":\"Kasimir\",\"last\":\"Schulz\"}},\"upvotes\":2,\"userUpvoted\":null},{\"_id\":\"590c752b5363e000200d5141\",\"text\":\"Kangaroos can't hop backwards\",\"type\":\"cat\",\"user\":{\"_id\":\"590c74045363e000200d5140\",\"name\":{\"first\":\"Hampton\",\"last\":\"McGrath\"}},\"upvotes\":2,\"userUpvoted\":null},{\"_id\":\"599f89639a11040c4a163440\",\"text\":\"Here is a video of some cats in zero gravity. youtu.be/O9XtK6R1QAk\",\"type\":\"cat\",\"user\":{\"_id\":\"5a9ac18c7478810ea6c06381\",\"name\":{\"first\":\"Alex\",\"last\":\"Wohlbruck\"}},\"upvotes\":2,\"userUpvoted\":null},{\"_id\":\"59cd7a97c828120020f7d3a1\",\"text\":\"Since cats treat us like cats and depend on us for things like food, water, and opening the door to let them out, they do recognize, that we are in some way in charge — the “big cat” in the shared territory. As territorial animals, our cats are constantly wondering why we’re not doing other cat things that the big cat would normally do in their territory. In fact, the “let me in, let me out, let me in” phenomenon is a good example. The bigger cat ostensibly rules the territory and therefore should be the one patrolling and marking it with pee so other cats stay away. But since humans don’t do this, indoor-outdoor cats reluctantly take on the role themselves. The apparent neuroticism of cats wanting to go outside every five minutes only to be let right back in is funny to us because it seems so silly and unnecessary. But to the cats, it’s very necessary (and frustrating) to cover for their dumb pals.\",\"type\":\"cat\",\"user\":{\"_id\":\"5a9ac18c7478810ea6c06381\",\"name\":{\"first\":\"Alex\",\"last\":\"Wohlbruck\"}},\"upvotes\":2,\"userUpvoted\":null},{\"_id\":\"5b1b40cc841d9700146158d7\",\"text\":\"In most US states, declawing cats is legal but in the European Union it is not.\",\"type\":\"cat\",\"user\":{\"_id\":\"5a9ac18c7478810ea6c06381\",\"name\":{\"first\":\"Alex\",\"last\":\"Wohlbruck\"}},\"upvotes\":2,\"userUpvoted\":null},{\"_id\":\"5b4911e60508220014ccfe95\",\"text\":\"A female cat is called a “molly” or a “queen”.\",\"type\":\"cat\",\"user\":{\"_id\":\"5a9ac18c7478810ea6c06381\",\"name\":{\"first\":\"Alex\",\"last\":\"Wohlbruck\"}},\"upvotes\":2,\"userUpvoted\":null},{\"_id\":\"58cafac6ffae36001108d586\",\"text\":\"Cats have fur\",\"type\":\"cat\",\"user\":{\"_id\":\"58c86fe52341fc0011d7b151\",\"name\":{\"first\":\"Alex\",\"last\":\"Simon\"}},\"upvotes\":2,\"userUpvoted\":null},{\"_id\":\"58e007cc0aac31001185ecf5\",\"text\":\"Cats are the most popular pet in the United States: There are 88 million pet cats and 74 million dogs.\",\"type\":\"cat\",\"user\":{\"_id\":\"58e007480aac31001185ecef\",\"name\":{\"first\":\"Kasimir\",\"last\":\"Schulz\"}},\"upvotes\":2,\"userUpvoted\":null},{\"_id\":\"58e008510aac31001185ecfe\",\"text\":\"In tigers and tabbies, the middle of the tongue is covered in backward-pointing spines, used for breaking off and gripping meat.\",\"type\":\"cat\",\"user\":{\"_id\":\"58e007480aac31001185ecef\",\"name\":{\"first\":\"Kasimir\",\"last\":\"Schulz\"}},\"upvotes\":2,\"userUpvoted\":null},{\"_id\":\"58e008c50aac31001185ed0e\",\"text\":\"The world's richest cat is worth $13 million after his human passed away and left her fortune to him.\",\"type\":\"cat\",\"user\":{\"_id\":\"58e007480aac31001185ecef\",\"name\":{\"first\":\"Kasimir\",\"last\":\"Schulz\"}},\"upvotes\":2,\"userUpvoted\":null},{\"_id\":\"58e008630aac31001185ed01\",\"text\":\"When cats grimace, they are usually \\\"taste-scenting.\\\" They have an extra organ that, with some breathing control, allows the cats to taste-sense the air.\",\"type\":\"cat\",\"user\":{\"_id\":\"58e007480aac31001185ecef\",\"name\":{\"first\":\"Kasimir\",\"last\":\"Schulz\"}},\"upvotes\":2,\"userUpvoted\":null},{\"_id\":\"58e008a30aac31001185ed0b\",\"text\":\"A cat's purr may be a form of self-healing, as it can be a sign of nervousness as well as contentment.\",\"type\":\"cat\",\"user\":{\"_id\":\"58e007480aac31001185ecef\",\"name\":{\"first\":\"Kasimir\",\"last\":\"Schulz\"}},\"upvotes\":2,\"userUpvoted\":null},{\"_id\":\"58e008d00aac31001185ed0f\",\"text\":\"Your cat recognizes your voice but just acts too cool to care (probably because they are).\",\"type\":\"cat\",\"user\":{\"_id\":\"58e007480aac31001185ecef\",\"name\":{\"first\":\"Kasimir\",\"last\":\"Schulz\"}},\"upvotes\":2,\"userUpvoted\":null},{\"_id\":\"58e00a850aac31001185ed1a\",\"text\":\"Cats have a longer-term memory than dogs, especially when they learn by actually doing rather than simply seeing.\",\"type\":\"cat\",\"user\":{\"_id\":\"58e007480aac31001185ecef\",\"name\":{\"first\":\"Kasimir\",\"last\":\"Schulz\"}},\"upvotes\":2,\"userUpvoted\":null},{\"_id\":\"58e00b3a0aac31001185ed20\",\"text\":\"Polydactyl cats are also referred to as \\\"Hemingway cats\\\" because the author was so fond of them.\",\"type\":\"cat\",\"user\":{\"_id\":\"58e007480aac31001185ecef\",\"name\":{\"first\":\"Kasimir\",\"last\":\"Schulz\"}},\"upvotes\":2,\"userUpvoted\":null},{\"_id\":\"58e00b5f0aac31001185ed24\",\"text\":\"When asked if her husband had any hobbies, Mary Todd Lincoln is said to have replied \\\"cats.\\\"\",\"type\":\"cat\",\"user\":{\"_id\":\"58e007480aac31001185ecef\",\"name\":{\"first\":\"Kasimir\",\"last\":\"Schulz\"}},\"upvotes\":2,\"userUpvoted\":null},{\"_id\":\"58e00bdb0aac31001185edfd\",\"text\":\"Cats can change their meow to manipulate a human. They often imitate a human baby when they need food, for example.\",\"type\":\"cat\",\"user\":{\"_id\":\"58e007480aac31001185ecef\",\"name\":{\"first\":\"Kasimir\",\"last\":\"Schulz\"}},\"upvotes\":2,\"userUpvoted\":null},{\"_id\":\"58e00b820aac31001185edf7\",\"text\":\"One legend claims that cats were created when a lion on Noah's Ark sneezed and two kittens came out.\",\"type\":\"cat\",\"user\":{\"_id\":\"58e007480aac31001185ecef\",\"name\":{\"first\":\"Kasimir\",\"last\":\"Schulz\"}},\"upvotes\":2,\"userUpvoted\":null},{\"_id\":\"591d9bce227c1a0020d26827\",\"text\":\"In Korea and Japan, there is a Cat Cafe where you can go to drink coffee and hang out with cats for hours.\",\"type\":\"cat\",\"user\":{\"_id\":\"587288f6e6f85e64ae1c7ef7\",\"name\":{\"first\":\"Alex\",\"last\":\"Wohlbruck\"}},\"upvotes\":2,\"userUpvoted\":null},{\"_id\":\"58e00ba00aac31001185edfa\",\"text\":\"When cats leave their poop uncovered, it is a sign of aggression to let you know they don't fear you.\",\"type\":\"cat\",\"user\":{\"_id\":\"58e007480aac31001185ecef\",\"name\":{\"first\":\"Kasimir\",\"last\":\"Schulz\"}},\"upvotes\":2,\"userUpvoted\":null},{\"_id\":\"591d9bab227c1a0020d26825\",\"text\":\"Owning a cat can reduce the risk of heart attacks and strokes by more than a third, researchers found.\",\"type\":\"cat\",\"user\":{\"_id\":\"587288f6e6f85e64ae1c7ef7\",\"name\":{\"first\":\"Alex\",\"last\":\"Wohlbruck\"}},\"upvotes\":2,\"userUpvoted\":null},{\"_id\":\"59a60bae6acf530020f35875\",\"text\":\"Cats were mythic symbols of divinity in ancient Egypt.\",\"type\":\"cat\",\"user\":{\"_id\":\"5a9ac18c7478810ea6c06381\",\"name\":{\"first\":\"Alex\",\"last\":\"Wohlbruck\"}},\"upvotes\":2,\"userUpvoted\":null},{\"_id\":\"59d297b7c6671e0020957eb9\",\"text\":\"Kittens sleep so much because the growth hormone is only released when they sleep.\",\"type\":\"cat\",\"user\":{\"_id\":\"5a9ac18c7478810ea6c06381\",\"name\":{\"first\":\"Alex\",\"last\":\"Wohlbruck\"}},\"upvotes\":2,\"userUpvoted\":null},{\"_id\":\"5a038d5a8e3dbc001f719791\",\"text\":\"Cats have 38 chromosomes in each zygote cell.\",\"type\":\"cat\",\"user\":{\"_id\":\"5a9ac18c7478810ea6c06381\",\"name\":{\"first\":\"Alex\",\"last\":\"Wohlbruck\"}},\"upvotes\":2,\"userUpvoted\":null},{\"_id\":\"5a038dae8e3dbc001f719792\",\"text\":\"Cucumbers look enough like a snake to cause a cat's instinctive fear of snakes to kick in, causing it to panic and flee.\",\"type\":\"cat\",\"user\":{\"_id\":\"5a9ac18c7478810ea6c06381\",\"name\":{\"first\":\"Alex\",\"last\":\"Wohlbruck\"}},\"upvotes\":2,\"userUpvoted\":null},{\"_id\":\"5a36ec5fae877e0021ed79f5\",\"text\":\"It has been estimated that a cat yawns on the average of 109,500 times in his life.\",\"type\":\"cat\",\"user\":{\"_id\":\"5a9ac18c7478810ea6c06381\",\"name\":{\"first\":\"Alex\",\"last\":\"Wohlbruck\"}},\"upvotes\":2,\"userUpvoted\":null},{\"_id\":\"5a4bfbbab0810f0021748b91\",\"text\":\"Lil' Bunny Sue Roux is a cat who was born with no front legs, and walks upright like a kangaroo. https://www.instagram.com/lilbunnysueroux\",\"type\":\"cat\",\"user\":{\"_id\":\"5a9ac18c7478810ea6c06381\",\"name\":{\"first\":\"Alex\",\"last\":\"Wohlbruck\"}},\"upvotes\":2,\"userUpvoted\":null},{\"_id\":\"5a4d766c6ef087002174c288\",\"text\":\"Some Siamese cats appear cross-eyed because the nerves from the left side of the brain go to mostly the right eye and the nerves from the right side of the brain go mostly to the left eye. This causes some double vision, which the cat tries to correct by “crossing” its eyes.\",\"type\":\"cat\",\"user\":{\"_id\":\"5a9ac18c7478810ea6c06381\",\"name\":{\"first\":\"Alex\",\"last\":\"Wohlbruck\"}},\"upvotes\":2,\"userUpvoted\":null},{\"_id\":\"5b1b3feb841d9700146158cf\",\"text\":\"In Islam, cats are revered for their cleanliness. Muhammad is reported to have said that \\\"a love of cats is an aspect of faith\\\".\",\"type\":\"cat\",\"user\":{\"_id\":\"5a9ac18c7478810ea6c06381\",\"name\":{\"first\":\"Alex\",\"last\":\"Wohlbruck\"}},\"upvotes\":2,\"userUpvoted\":null},{\"_id\":\"5b1b4065841d9700146158d4\",\"text\":\"A cat named Emmy lived aboard the RMS Empress of Ireland and she never missed a voyage. On May 28,1914, however, she refused to board. The ship left without her and then sank the following day.\",\"type\":\"cat\",\"user\":{\"_id\":\"5a9ac18c7478810ea6c06381\",\"name\":{\"first\":\"Alex\",\"last\":\"Wohlbruck\"}},\"upvotes\":2,\"userUpvoted\":null},{\"_id\":\"5b1b408a841d9700146158d5\",\"text\":\"Domestic cats will try not to drink from a water bowl that is next to their food. This is because in the wild, water next to their kill could be contaminated.\",\"type\":\"cat\",\"user\":{\"_id\":\"5a9ac18c7478810ea6c06381\",\"name\":{\"first\":\"Alex\",\"last\":\"Wohlbruck\"}},\"upvotes\":2,\"userUpvoted\":null},{\"_id\":\"5b3d8e4960d3890713ca39a8\",\"text\":\"A Chinese cat named Baidianr (meaning \\\"white spot\\\") had a unique ability to choose World Cup winners. He predicted the winner of the soccer competition 6 years in a row, before he died on June 2, 2018, just before the event ended.\",\"type\":\"cat\",\"user\":{\"_id\":\"5a9ac18c7478810ea6c06381\",\"name\":{\"first\":\"Alex\",\"last\":\"Wohlbruck\"}},\"upvotes\":2,\"userUpvoted\":null},{\"_id\":\"5b4909af0508220014ccfe8a\",\"text\":\"Cats have a layer called the tapetum lucidum just behind their retina which reflects light inside the eye, helping it capture more light. This reflected light is the glow you see when taking a photo of a cat with the flash on.\",\"type\":\"cat\",\"user\":{\"_id\":\"5a9ac18c7478810ea6c06381\",\"name\":{\"first\":\"Alex\",\"last\":\"Wohlbruck\"}},\"upvotes\":2,\"userUpvoted\":null},{\"_id\":\"58e009390aac31001185ed10\",\"text\":\"Most cats are lactose intolerant, and milk can cause painful stomach cramps and diarrhea. It's best to forego the milk and just give your cat the standard: clean, cool drinking water.\",\"type\":\"cat\",\"user\":{\"_id\":\"58e007480aac31001185ecef\",\"name\":{\"first\":\"Kasimir\",\"last\":\"Schulz\"}},\"upvotes\":2,\"userUpvoted\":null},{\"_id\":\"5c6a105dc2d7a200140f69a0\",\"text\":\"When cats run, their backs contract and extend to give them maximum stride. Their shoulder blades are not attached with bone, but with muscle, and this gives a cat even greater extension and speed.\",\"type\":\"cat\",\"user\":{\"_id\":\"5a9ac18c7478810ea6c06381\",\"name\":{\"first\":\"Alex\",\"last\":\"Wohlbruck\"}},\"upvotes\":2,\"userUpvoted\":null},{\"_id\":\"59664b1f474ba80020ef8592\",\"text\":\"Your cat's instincts tell her that a paperweight or knickknack could turn out to be a mouse. Her poking paw would send it scurrying, giving her a good game. This is probably why cats always seem to be knocking the glasses off your counter tops!\",\"type\":\"cat\",\"user\":{\"_id\":\"5a9ac18c7478810ea6c06381\",\"name\":{\"first\":\"Alex\",\"last\":\"Wohlbruck\"}},\"upvotes\":1,\"userUpvoted\":null},{\"_id\":\"59669484bf604b00205c20e3\",\"text\":\"The fear of cats is called \\\"Ailurophobia\\\"\",\"type\":\"cat\",\"user\":{\"_id\":\"5a9ac18c7478810ea6c06381\",\"name\":{\"first\":\"Alex\",\"last\":\"Wohlbruck\"}},\"upvotes\":1,\"userUpvoted\":null},{\"_id\":\"596f4f50a8d3440020e2d77d\",\"text\":\"Due to the controversy, though loved by most, the Kashmir is overlooked by many cat fanciers.\",\"type\":\"cat\",\"user\":{\"_id\":\"596ea14ed4d9720020401f7b\",\"name\":{\"first\":\"Kenny\",\"last\":\"Corsig\"}},\"upvotes\":1,\"userUpvoted\":null},{\"_id\":\"59a60b896acf530020f3586d\",\"text\":\"Cat owners are 25% likely to pick George Harrison as their favorite Beatle.\",\"type\":\"cat\",\"user\":{\"_id\":\"5a9ac18c7478810ea6c06381\",\"name\":{\"first\":\"Alex\",\"last\":\"Wohlbruck\"}},\"upvotes\":1,\"userUpvoted\":null},{\"_id\":\"59a60b936acf530020f3586f\",\"text\":\"Only 11.5% of people consider themselves \\\"cat people\\\".\",\"type\":\"cat\",\"user\":{\"_id\":\"5a9ac18c7478810ea6c06381\",\"name\":{\"first\":\"Alex\",\"last\":\"Wohlbruck\"}},\"upvotes\":1,\"userUpvoted\":null},{\"_id\":\"59a60b996acf530020f35870\",\"text\":\"\\\"Cat people\\\" are 11% more likely to be introverted than others.\",\"type\":\"cat\",\"user\":{\"_id\":\"5a9ac18c7478810ea6c06381\",\"name\":{\"first\":\"Alex\",\"last\":\"Wohlbruck\"}},\"upvotes\":1,\"userUpvoted\":null},{\"_id\":\"59a60b9e6acf530020f35871\",\"text\":\"The Egyptian Mau is the oldest breed of cat, and is the fastest pedigreed cat.\",\"type\":\"cat\",\"user\":{\"_id\":\"5a9ac18c7478810ea6c06381\",\"name\":{\"first\":\"Alex\",\"last\":\"Wohlbruck\"}},\"upvotes\":1,\"userUpvoted\":null},{\"_id\":\"59b15b18d6eb960020d6767a\",\"text\":\"The place where Julius Caesar was murdered is now a cat sanctuary.\",\"type\":\"cat\",\"user\":{\"_id\":\"5a9ac18c7478810ea6c06381\",\"name\":{\"first\":\"Alex\",\"last\":\"Wohlbruck\"}},\"upvotes\":1,\"userUpvoted\":null},{\"_id\":\"59ceab6d5c87bf0020b94e0a\",\"text\":\"The Bombay cat breed was developed to resemble a miniature panther.\",\"type\":\"cat\",\"user\":{\"_id\":\"5a9ac18c7478810ea6c06381\",\"name\":{\"first\":\"Alex\",\"last\":\"Wohlbruck\"}},\"upvotes\":1,\"userUpvoted\":null},{\"_id\":\"59d297abc6671e0020957eb8\",\"text\":\"Cats use their whiskers to judge whether they’ll fit through a space.\",\"type\":\"cat\",\"user\":{\"_id\":\"5a9ac18c7478810ea6c06381\",\"name\":{\"first\":\"Alex\",\"last\":\"Wohlbruck\"}},\"upvotes\":1,\"userUpvoted\":null},{\"_id\":\"5a026058134ec2001f032f92\",\"text\":\"For a cat at rest, the average heart rate usually is between 150 and 180 bpm, more than twice that of a human, which averages 70 bpm.\",\"type\":\"cat\",\"user\":{\"_id\":\"5a9ac18c7478810ea6c06381\",\"name\":{\"first\":\"Alex\",\"last\":\"Wohlbruck\"}},\"upvotes\":1,\"userUpvoted\":null},{\"_id\":\"5a026092134ec2001f032f95\",\"text\":\"Compared to other felines, domestic cats have narrowly spaced canine teeth, adapted to their preferred prey of small rodents.\",\"type\":\"cat\",\"user\":{\"_id\":\"587288f6e6f85e64ae1c7ef7\",\"name\":{\"first\":\"Alex\",\"last\":\"Wohlbruck\"}},\"upvotes\":1,\"userUpvoted\":null},{\"_id\":\"5a0260d1134ec2001f032f98\",\"text\":\"Cats, like dogs, are digitigrades. They walk directly on their toes, with the bones of their feet making up the lower part of the visible leg.\",\"type\":\"cat\",\"user\":{\"_id\":\"5a9ac18c7478810ea6c06381\",\"name\":{\"first\":\"Alex\",\"last\":\"Wohlbruck\"}},\"upvotes\":1,\"userUpvoted\":null},{\"_id\":\"5a038bb98e3dbc001f71978d\",\"text\":\"The domestic cat (Felis catus) is a small, typically furry, carnivorous mammal.\",\"type\":\"cat\",\"user\":{\"_id\":\"5a9ac18c7478810ea6c06381\",\"name\":{\"first\":\"Alex\",\"last\":\"Wohlbruck\"}},\"upvotes\":1,\"userUpvoted\":null},{\"_id\":\"5a038c178e3dbc001f71978e\",\"text\":\"A cat's kidneys are so efficient, it can survive on a diet consisting only of meat, with no additional water, and can even rehydrate by drinking seawater.\",\"type\":\"cat\",\"user\":{\"_id\":\"5a9ac18c7478810ea6c06381\",\"name\":{\"first\":\"Alex\",\"last\":\"Wohlbruck\"}},\"upvotes\":1,\"userUpvoted\":null},{\"_id\":\"5a038c628e3dbc001f71978f\",\"text\":\"Most breeds of cat have a noted fondness for settling in high places, or perching. In the wild, a higher place may serve as a concealed site from which to hunt.\",\"type\":\"cat\",\"user\":{\"_id\":\"5a9ac18c7478810ea6c06381\",\"name\":{\"first\":\"Alex\",\"last\":\"Wohlbruck\"}},\"upvotes\":1,\"userUpvoted\":null},{\"_id\":\"5a038cdf8e3dbc001f719790\",\"text\":\"The ability of a cat to reflexively twist its body and balance itself during a fall is known as the \\\"cat righting reflex\\\".\",\"type\":\"cat\",\"user\":{\"_id\":\"5a9ac18c7478810ea6c06381\",\"name\":{\"first\":\"Alex\",\"last\":\"Wohlbruck\"}},\"upvotes\":1,\"userUpvoted\":null},{\"_id\":\"5a038e188e3dbc001f719793\",\"text\":\"The cat's tongue has backwards-facing spines about 500 μm long, which are called papillae. These contain keratin which makes them rigid so the papillae act like a hairbrush.\",\"type\":\"cat\",\"user\":{\"_id\":\"5a9ac18c7478810ea6c06381\",\"name\":{\"first\":\"Alex\",\"last\":\"Wohlbruck\"}},\"upvotes\":1,\"userUpvoted\":null},{\"_id\":\"5a038fba8e3dbc001f719794\",\"text\":\"Among domestic cats, males are more likely to fight than females.\",\"type\":\"cat\",\"user\":{\"_id\":\"5a9ac18c7478810ea6c06381\",\"name\":{\"first\":\"Alex\",\"last\":\"Wohlbruck\"}},\"upvotes\":1,\"userUpvoted\":null},{\"_id\":\"5a12460add20f9001fb45060\",\"text\":\"The softest part of a cat is most definitely its cheek area.\",\"type\":\"cat\",\"user\":{\"_id\":\"5a9ac18c7478810ea6c06381\",\"name\":{\"first\":\"Alex\",\"last\":\"Wohlbruck\"}},\"upvotes\":1,\"userUpvoted\":null},{\"_id\":\"5a21a9fb425e43002132f045\",\"text\":\"Hank the Cat was a Maine Coon feline that was put up as a joke candidate in the 2012 United States Senate election in Virginia, a feat which gained international coverage after Hank reportedly came third behind the two major candidates, including Vice Presidential candidate Tim Kaine.\",\"type\":\"cat\",\"user\":{\"_id\":\"5a9ac18c7478810ea6c06381\",\"name\":{\"first\":\"Alex\",\"last\":\"Wohlbruck\"}},\"upvotes\":1,\"userUpvoted\":null},{\"_id\":\"5a36eb68ae877e0021ed79f3\",\"text\":\"When a cat yawns, it's mouth opens so wide that you can count every tooth.\",\"type\":\"cat\",\"user\":{\"_id\":\"5a9ac18c7478810ea6c06381\",\"name\":{\"first\":\"Alex\",\"last\":\"Wohlbruck\"}},\"upvotes\":1,\"userUpvoted\":null},{\"_id\":\"5a456246255f4b0021f54c04\",\"text\":\"A cat can die from essential oils\",\"type\":\"cat\",\"user\":{\"_id\":\"5a9ac18c7478810ea6c06381\",\"name\":{\"first\":\"Alex\",\"last\":\"Wohlbruck\"}},\"upvotes\":1,\"userUpvoted\":null},{\"_id\":\"5a4aab252c99ee00219e11c3\",\"text\":\"Cats can move their ears 180 degrees.\",\"type\":\"cat\",\"user\":{\"_id\":\"5a9ac18c7478810ea6c06381\",\"name\":{\"first\":\"Alex\",\"last\":\"Wohlbruck\"}},\"upvotes\":1,\"userUpvoted\":null},{\"_id\":\"5a4aab2c2c99ee00219e11c4\",\"text\":\"Hearing is the strongest of cat's senses: They can hear sounds as high as 64 kHz — compared with humans, who can hear only as high as 20 kHz.\",\"type\":\"cat\",\"user\":{\"_id\":\"5a9ac18c7478810ea6c06381\",\"name\":{\"first\":\"Alex\",\"last\":\"Wohlbruck\"}},\"upvotes\":1,\"userUpvoted\":null},{\"_id\":\"5a4aab322c99ee00219e11c5\",\"text\":\"Cats have free-floating clavicle bones that attach their shoulders to their forelimbs, which allows them to squeeze through very small spaces.\",\"type\":\"cat\",\"user\":{\"_id\":\"5a9ac18c7478810ea6c06381\",\"name\":{\"first\":\"Alex\",\"last\":\"Wohlbruck\"}},\"upvotes\":1,\"userUpvoted\":null},{\"_id\":\"5a4bfc91b0810f0021748b92\",\"text\":\"Blackie became the richest cat in history when he inherited 15 million British Pounds.\",\"type\":\"cat\",\"user\":{\"_id\":\"5a9ac18c7478810ea6c06381\",\"name\":{\"first\":\"Alex\",\"last\":\"Wohlbruck\"}},\"upvotes\":1,\"userUpvoted\":null},{\"_id\":\"5a4bfcd3b0810f0021748b93\",\"text\":\"Colonel Meow, a Himalayan-Persian mix who became famous on social media websites for his extremely long fur and scowling face, holds the Guinness world record for longest hair on a cat (nine inches).\",\"type\":\"cat\",\"user\":{\"_id\":\"5a9ac18c7478810ea6c06381\",\"name\":{\"first\":\"Alex\",\"last\":\"Wohlbruck\"}},\"upvotes\":1,\"userUpvoted\":null},{\"_id\":\"5a4bfdf8b0810f0021748b94\",\"text\":\"Towser \\\"The Mouser\\\" of Glenturret Distillery in Crieff, Scotland, holds the Guinness World Record for the most mice caught (28,899).\",\"type\":\"cat\",\"user\":{\"_id\":\"5a9ac18c7478810ea6c06381\",\"name\":{\"first\":\"Alex\",\"last\":\"Wohlbruck\"}},\"upvotes\":1,\"userUpvoted\":null},{\"_id\":\"5a4d75a38827521790281b99\",\"text\":\"A cat can’t climb head first down a tree because every claw on a cat’s paw points the same way. To get down from a tree, a cat must back down.\",\"type\":\"cat\",\"user\":{\"_id\":\"5a9ac18c7478810ea6c06381\",\"name\":{\"first\":\"Alex\",\"last\":\"Wohlbruck\"}},\"upvotes\":1,\"userUpvoted\":null},{\"_id\":\"5a4d75ac8827521790281b9a\",\"text\":\"The cat who holds the record for the longest non-fatal fall is Andy. He fell from the 16th floor of an apartment building (about 200 ft/.06 km) and survived.\",\"type\":\"cat\",\"user\":{\"_id\":\"5a9ac18c7478810ea6c06381\",\"name\":{\"first\":\"Alex\",\"last\":\"Wohlbruck\"}},\"upvotes\":1,\"userUpvoted\":null},{\"_id\":\"5a4d75e46ef087002174c284\",\"text\":\"Cats have about 130,000 hairs per square inch (20,155 hairs per square centimeter).\",\"type\":\"cat\",\"user\":{\"_id\":\"5a9ac18c7478810ea6c06381\",\"name\":{\"first\":\"Alex\",\"last\":\"Wohlbruck\"}},\"upvotes\":1,\"userUpvoted\":null},{\"_id\":\"5a4d76106ef087002174c285\",\"text\":\"A cat’s eyesight is both better and worse than humans. It is better because cats can see in much dimmer light and they have a wider peripheral view. It’s worse because they don’t see color as well as humans do. Scientists believe grass appears red to cats.\",\"type\":\"cat\",\"user\":{\"_id\":\"5a9ac18c7478810ea6c06381\",\"name\":{\"first\":\"Alex\",\"last\":\"Wohlbruck\"}},\"upvotes\":1,\"userUpvoted\":null},{\"_id\":\"5a4d76516ef087002174c287\",\"text\":\"If they have ample water, cats can tolerate temperatures up to 133 °F.\",\"type\":\"cat\",\"user\":{\"_id\":\"5a9ac18c7478810ea6c06381\",\"name\":{\"first\":\"Alex\",\"last\":\"Wohlbruck\"}},\"upvotes\":1,\"userUpvoted\":null},{\"_id\":\"5a4d76736ef087002174c289\",\"text\":\"The lightest cat on record is a blue point Himalayan called Tinker Toy, who weighed 1 pound, 6 ounces (616 g). Tinker Toy was 2.75 inches (7 cm) tall and 7.5 inches (19 cm) long.\",\"type\":\"cat\",\"user\":{\"_id\":\"5a9ac18c7478810ea6c06381\",\"name\":{\"first\":\"Alex\",\"last\":\"Wohlbruck\"}},\"upvotes\":1,\"userUpvoted\":null},{\"_id\":\"5a4d767c6ef087002174c28a\",\"text\":\"Many Egyptians worshipped the goddess Bast, who had a woman’s body and a cat’s head.\",\"type\":\"cat\",\"user\":{\"_id\":\"5a9ac18c7478810ea6c06381\",\"name\":{\"first\":\"Alex\",\"last\":\"Wohlbruck\"}},\"upvotes\":1,\"userUpvoted\":null},{\"_id\":\"5a4d76b16ef087002174c28c\",\"text\":\"The first cartoon cat was Felix the Cat in 1919. In 1940, Tom and Jerry starred in the first theatrical cartoon “Puss Gets the Boot.” In 1981 Andrew Lloyd Weber created the musical Cats, based on T.S. Eliot’s Old Possum’s Book of Practical Cats.\",\"type\":\"cat\",\"user\":{\"_id\":\"5a9ac18c7478810ea6c06381\",\"name\":{\"first\":\"Alex\",\"last\":\"Wohlbruck\"}},\"upvotes\":1,\"userUpvoted\":null},{\"_id\":\"5a4d77446ef087002174c290\",\"text\":\"Approximately 1/3 of cat owners think their pets are able to read their minds.\",\"type\":\"cat\",\"user\":{\"_id\":\"5a9ac18c7478810ea6c06381\",\"name\":{\"first\":\"Alex\",\"last\":\"Wohlbruck\"}},\"upvotes\":1,\"userUpvoted\":null},{\"_id\":\"5a4d776e6ef087002174c291\",\"text\":\"The claws on the cat’s back paws aren’t as sharp as the claws on the front paws because the claws in the back don’t retract and, consequently, become worn.\",\"type\":\"cat\",\"user\":{\"_id\":\"5a9ac18c7478810ea6c06381\",\"name\":{\"first\":\"Alex\",\"last\":\"Wohlbruck\"}},\"upvotes\":1,\"userUpvoted\":null},{\"_id\":\"5a4d78136ef087002174c292\",\"text\":\"Like humans, cats tend to favor one paw over another.\",\"type\":\"cat\",\"user\":{\"_id\":\"5a9ac18c7478810ea6c06381\",\"name\":{\"first\":\"Alex\",\"last\":\"Wohlbruck\"}},\"upvotes\":1,\"userUpvoted\":null},{\"_id\":\"5a4d79016ef087002174c293\",\"text\":\"The most traveled cat is Hamlet, who escaped from his carrier while on a flight. He hid for seven weeks behind a panel on the airplane. By the time he was discovered, he had traveled nearly 373,000 miles (600,000 km).\",\"type\":\"cat\",\"user\":{\"_id\":\"5a9ac18c7478810ea6c06381\",\"name\":{\"first\":\"Alex\",\"last\":\"Wohlbruck\"}},\"upvotes\":1,\"userUpvoted\":null},{\"_id\":\"5a4d79496ef087002174c294\",\"text\":\"Approximately 40,000 people are bitten by cats in the U.S. annually.\",\"type\":\"cat\",\"user\":{\"_id\":\"5a9ac18c7478810ea6c06381\",\"name\":{\"first\":\"Alex\",\"last\":\"Wohlbruck\"}},\"upvotes\":1,\"userUpvoted\":null},{\"_id\":\"5a4d79fb6ef087002174c295\",\"text\":\"The little tufts of hair in a cat’s ear that help keep out dirt direct sounds into the ear, and insulate the ears are called \\\"ear furnishings.\\\"\",\"type\":\"cat\",\"user\":{\"_id\":\"5a9ac18c7478810ea6c06381\",\"name\":{\"first\":\"Alex\",\"last\":\"Wohlbruck\"}},\"upvotes\":1,\"userUpvoted\":null},{\"_id\":\"5b085f85be3157001432164f\",\"text\":\"The Australian Wildlife Conservancy completed a 44km cat-proof fence in 2018 to prevent feral cats from entering the Newhaven wildlife sanctuary, who kill about a million native birds every night across Australia and have caused the extinction of 20 native species.\",\"type\":\"cat\",\"user\":{\"_id\":\"5a9ac18c7478810ea6c06381\",\"name\":{\"first\":\"Alex\",\"last\":\"Wohlbruck\"}},\"upvotes\":1,\"userUpvoted\":null},{\"_id\":\"59a60baa6acf530020f35874\",\"text\":\"Black cats are bad luck in the United States, but they are good luck in the United Kingdom and Australia.\",\"type\":\"cat\",\"user\":{\"_id\":\"5a9ac18c7478810ea6c06381\",\"name\":{\"first\":\"Alex\",\"last\":\"Wohlbruck\"}},\"upvotes\":1,\"userUpvoted\":null},{\"_id\":\"5a026087134ec2001f032f94\",\"text\":\"The cat skull is unusual among mammals in having very large eye sockets and a powerful and specialized jaw.\",\"type\":\"cat\",\"user\":{\"_id\":\"587288f6e6f85e64ae1c7ef7\",\"name\":{\"first\":\"Alex\",\"last\":\"Wohlbruck\"}},\"upvotes\":1,\"userUpvoted\":null},{\"_id\":\"5a4aab132c99ee00219e11c2\",\"text\":\"Cats have scent glands along their tail, their forehead, lips, chin, and the underside of their front paws.\",\"type\":\"cat\",\"user\":{\"_id\":\"5a9ac18c7478810ea6c06381\",\"name\":{\"first\":\"Alex\",\"last\":\"Wohlbruck\"}},\"upvotes\":1,\"userUpvoted\":null},{\"_id\":\"5a4aab372c99ee00219e11c6\",\"text\":\"The french tuxedo kitty, Félix, aka \\\"Astrocat\\\", was the first cat to go to space. She survived the trip.\",\"type\":\"cat\",\"user\":{\"_id\":\"5a9ac18c7478810ea6c06381\",\"name\":{\"first\":\"Alex\",\"last\":\"Wohlbruck\"}},\"upvotes\":1,\"userUpvoted\":null},{\"_id\":\"5b0ecc7287c6b21e6fafdf01\",\"text\":\"A male cat is called a tom.\",\"type\":\"cat\",\"user\":{\"_id\":\"587288f6e6f85e64ae1c7ef7\",\"name\":{\"first\":\"Alex\",\"last\":\"Wohlbruck\"}},\"upvotes\":1,\"userUpvoted\":null},{\"_id\":\"5b49110d0508220014ccfe91\",\"text\":\"Issac Newton decided to invent the cat flap because his own cat, Spithead, kept opening the door and spoiling his light experiments.\",\"type\":\"cat\",\"user\":{\"_id\":\"5a9ac18c7478810ea6c06381\",\"name\":{\"first\":\"Alex\",\"last\":\"Wohlbruck\"}},\"upvotes\":1,\"userUpvoted\":null},{\"_id\":\"5b4911340508220014ccfe92\",\"text\":\"Kittens start to dream when they’re about a week old.\",\"type\":\"cat\",\"user\":{\"_id\":\"5a9ac18c7478810ea6c06381\",\"name\":{\"first\":\"Alex\",\"last\":\"Wohlbruck\"}},\"upvotes\":1,\"userUpvoted\":null},{\"_id\":\"5b1b3fd8841d9700146158ce\",\"text\":\"Thank to an extremely efficient pair of kidneys, cats can hydrate themselves by drinking salt water.\",\"type\":\"cat\",\"user\":{\"_id\":\"5a9ac18c7478810ea6c06381\",\"name\":{\"first\":\"Alex\",\"last\":\"Wohlbruck\"}},\"upvotes\":1,\"userUpvoted\":null},{\"_id\":\"5c609ae8e54902001453303b\",\"text\":\"Approximately 40% of cats have a dominant paw. The rest are ambidextrous.\",\"type\":\"cat\",\"user\":{\"_id\":\"5a9ac18c7478810ea6c06381\",\"name\":{\"first\":\"Alex\",\"last\":\"Wohlbruck\"}},\"upvotes\":1,\"userUpvoted\":null},{\"_id\":\"5c69c3ecc2d7a200140f67eb\",\"text\":\"The average female housecat could give birth to ove 100 kittens in her lifetime.\",\"type\":\"cat\",\"user\":{\"_id\":\"5a9ac18c7478810ea6c06381\",\"name\":{\"first\":\"Alex\",\"last\":\"Wohlbruck\"}},\"upvotes\":1,\"userUpvoted\":null},{\"_id\":\"5c69c409c2d7a200140f67ec\",\"text\":\"Cats can have three litters a year, or approximately 12 kittens.\",\"type\":\"cat\",\"user\":{\"_id\":\"5a9ac18c7478810ea6c06381\",\"name\":{\"first\":\"Alex\",\"last\":\"Wohlbruck\"}},\"upvotes\":1,\"userUpvoted\":null},{\"_id\":\"5c69c422c2d7a200140f67ed\",\"text\":\"Cats don't go through menopause, so they can continue to breed into their senior years.\",\"type\":\"cat\",\"user\":{\"_id\":\"5a9ac18c7478810ea6c06381\",\"name\":{\"first\":\"Alex\",\"last\":\"Wohlbruck\"}},\"upvotes\":1,\"userUpvoted\":null},{\"_id\":\"5b183fea64c2b20014b38f52\",\"text\":\"A cats whiskers are the exact width of their body.\",\"type\":\"cat\",\"user\":{\"_id\":\"5a9ac18c7478810ea6c06381\",\"name\":{\"first\":\"Alex\",\"last\":\"Wohlbruck\"}},\"upvotes\":1,\"userUpvoted\":null},{\"_id\":\"5b1b3f48841d9700146158cb\",\"text\":\"At night, Disneyland is overrun by cats. The theme park feeds them and takes care of them though, because they keep the rodent population in check.\",\"type\":\"cat\",\"user\":{\"_id\":\"5a9ac18c7478810ea6c06381\",\"name\":{\"first\":\"Alex\",\"last\":\"Wohlbruck\"}},\"upvotes\":1,\"userUpvoted\":null},{\"_id\":\"5b1b3f56841d9700146158cc\",\"text\":\"Cats lack antibodies against dog blood so they can only receive it via a transfusion once. The second time would kill them.\",\"type\":\"cat\",\"user\":{\"_id\":\"5a9ac18c7478810ea6c06381\",\"name\":{\"first\":\"Alex\",\"last\":\"Wohlbruck\"}},\"upvotes\":1,\"userUpvoted\":null},{\"_id\":\"5b1b3f6c841d9700146158cd\",\"text\":\"The Indiana State Prison allows prisoners to adopt a cat and keep it in their cell. They are meant to improve the mood of the prisoners.\",\"type\":\"cat\",\"user\":{\"_id\":\"5a9ac18c7478810ea6c06381\",\"name\":{\"first\":\"Alex\",\"last\":\"Wohlbruck\"}},\"upvotes\":1,\"userUpvoted\":null},{\"_id\":\"5b1b4022841d9700146158d1\",\"text\":\"Oftentimes shelters won't let black cats be adopted around Halloween out of a fear that they may be sacrificed.\",\"type\":\"cat\",\"user\":{\"_id\":\"5a9ac18c7478810ea6c06381\",\"name\":{\"first\":\"Alex\",\"last\":\"Wohlbruck\"}},\"upvotes\":1,\"userUpvoted\":null},{\"_id\":\"5b1b4039841d9700146158d2\",\"text\":\"When cats bring dead animals back to their humans, they are \\\"teaching them to hunt\\\" as they would with a younger cat.\",\"type\":\"cat\",\"user\":{\"_id\":\"5a9ac18c7478810ea6c06381\",\"name\":{\"first\":\"Alex\",\"last\":\"Wohlbruck\"}},\"upvotes\":1,\"userUpvoted\":null},{\"_id\":\"5b1b4241841d9700146158da\",\"text\":\"Cat fanciers bred and exhibited Maus in Europe until World War II, when attention toward the cat waned and it nearly went extinct.\",\"type\":\"cat\",\"user\":{\"_id\":\"5a9ac18c7478810ea6c06381\",\"name\":{\"first\":\"Alex\",\"last\":\"Wohlbruck\"}},\"upvotes\":1,\"userUpvoted\":null},{\"_id\":\"5b1b455f841d9700146158db\",\"text\":\"The Egyptian Mau breed was saved from extinciton when Russian princess Natalie Trubetskaya was given a Mau that was imported from the Middle East. When she emigrated to New York City in 1956, she brought along three Mau cats. She used these kitties to establish the Fatima Egyptian Mau cattery, which produced many of the ancestors of today’s Egyptian Maus in America.\",\"type\":\"cat\",\"user\":{\"_id\":\"5a9ac18c7478810ea6c06381\",\"name\":{\"first\":\"Alex\",\"last\":\"Wohlbruck\"}},\"upvotes\":1,\"userUpvoted\":null},{\"_id\":\"5b4911770508220014ccfe93\",\"text\":\"Unlike kittens, adult cats don’t release any particular key hormones during sleep. They snooze all day just because they can. :)\",\"type\":\"cat\",\"user\":{\"_id\":\"5a9ac18c7478810ea6c06381\",\"name\":{\"first\":\"Alex\",\"last\":\"Wohlbruck\"}},\"upvotes\":1,\"userUpvoted\":null},{\"_id\":\"5b4912650508220014ccfe98\",\"text\":\"Russian scientists discovered in the 1930s that Siamese kittens kept in very warm rooms didn't develop the breed's signature dark patches.\",\"type\":\"cat\",\"user\":{\"_id\":\"5a9ac18c7478810ea6c06381\",\"name\":{\"first\":\"Alex\",\"last\":\"Wohlbruck\"}},\"upvotes\":1,\"userUpvoted\":null},{\"_id\":\"5b4912000508220014ccfe96\",\"text\":\"Cats have a third eyelid called a “haw”. It’s generally only visible when they’re unwell.\",\"type\":\"cat\",\"user\":{\"_id\":\"5a9ac18c7478810ea6c06381\",\"name\":{\"first\":\"Alex\",\"last\":\"Wohlbruck\"}},\"upvotes\":1,\"userUpvoted\":null},{\"_id\":\"5b4912320508220014ccfe97\",\"text\":\"In the original Italian version of Cinderella, the benevolent fairy godmother figure was a cat.\",\"type\":\"cat\",\"user\":{\"_id\":\"5a9ac18c7478810ea6c06381\",\"name\":{\"first\":\"Alex\",\"last\":\"Wohlbruck\"}},\"upvotes\":1,\"userUpvoted\":null},{\"_id\":\"58e008450aac31001185ecfd\",\"text\":\"A cat was mayor of Talkeetna, Alaska, for 20 years. His name is Stubbs, and he died on July 23, 2017.\",\"type\":\"cat\",\"upvotes\":1,\"userUpvoted\":null},{\"_id\":\"5c3551458e0b8d00148d45e3\",\"text\":\"Many people think that the Turkish Van is simply a color variation of the Turkish Angora, but in fact, they are distinct breeds that developed in different parts of Turkey.\",\"type\":\"cat\",\"user\":{\"_id\":\"5a9ac18c7478810ea6c06381\",\"name\":{\"first\":\"Alex\",\"last\":\"Wohlbruck\"}},\"upvotes\":1,\"userUpvoted\":null},{\"_id\":\"5c3551d48e0b8d00148d45e4\",\"text\":\"The Bengal is the result of crossbreeding between domestic cats and Asian leopard cats, and its name is derived from the scientific name for the Asian leopard cat (Felis bengalensis).\",\"type\":\"cat\",\"user\":{\"_id\":\"5a9ac18c7478810ea6c06381\",\"name\":{\"first\":\"Alex\",\"last\":\"Wohlbruck\"}},\"upvotes\":1,\"userUpvoted\":null},{\"_id\":\"5c3552058e0b8d00148d45e5\",\"text\":\"Despite its traditionally wild roots, the Bengal is domestic and will gladly make itself in the indoor \\\"jungle\\\" of your home.\",\"type\":\"cat\",\"user\":{\"_id\":\"5a9ac18c7478810ea6c06381\",\"name\":{\"first\":\"Alex\",\"last\":\"Wohlbruck\"}},\"upvotes\":1,\"userUpvoted\":null},{\"_id\":\"5c3552738e0b8d00148d45e6\",\"text\":\"Cat's cannot see in total darkness, however their vision is much better than a human's in semidarkness because their retinas are much more sensitive to light.\",\"type\":\"cat\",\"user\":{\"_id\":\"5a9ac18c7478810ea6c06381\",\"name\":{\"first\":\"Alex\",\"last\":\"Wohlbruck\"}},\"upvotes\":1,\"userUpvoted\":null},{\"_id\":\"5c35531e8e0b8d00148d45e8\",\"text\":\"If you grow your own catnip, here's how to prepare it for kitty's enjoyment: Cut several stalks of the plant from the base. Hang them upside down in a dark and dry room for several weeks. Then cut the catnip into small pieces, rub some on your cat's favorite toys or scratching post, and let the games begin!\",\"type\":\"cat\",\"user\":{\"_id\":\"5a9ac18c7478810ea6c06381\",\"name\":{\"first\":\"Alex\",\"last\":\"Wohlbruck\"}},\"upvotes\":1,\"userUpvoted\":null},{\"_id\":\"5c3bba466bd7ea00141eff4f\",\"text\":\"Approximately 80% of orange tabbies are male.\",\"type\":\"cat\",\"user\":{\"_id\":\"5a9ac18c7478810ea6c06381\",\"name\":{\"first\":\"Alex\",\"last\":\"Wohlbruck\"}},\"upvotes\":1,\"userUpvoted\":null},{\"_id\":\"5c3bbab76bd7ea00141eff50\",\"text\":\"If you need to trim a cat's nails, choose a moment when he is relaxed. Massage his paws gently before clipping. Make sure you're using a pair of clippers specifically for cat's nails, not human nail clippers. Avoid cutting the nail too close to the \\\"quick,\\\" the pink part of a cat's nail, which is full of blood vessels and nerves.\",\"type\":\"cat\",\"user\":{\"_id\":\"5a9ac18c7478810ea6c06381\",\"name\":{\"first\":\"Alex\",\"last\":\"Wohlbruck\"}},\"upvotes\":1,\"userUpvoted\":null},{\"_id\":\"5c3bbb236bd7ea00141eff53\",\"text\":\"The gene that codes orange fur is on the X chromosome, so female cats must inherit two orange genes to end up with orange fur, while male cats only need one.\",\"type\":\"cat\",\"user\":{\"_id\":\"5a9ac18c7478810ea6c06381\",\"name\":{\"first\":\"Alex\",\"last\":\"Wohlbruck\"}},\"upvotes\":1,\"userUpvoted\":null},{\"_id\":\"5c470572a99c3f00140fe4bd\",\"text\":\"Cats like being brushed by their owners, because it reminds them of their mother.\",\"type\":\"cat\",\"user\":{\"_id\":\"5c470492a99c3f00140fe4bc\",\"name\":{\"first\":\"David\",\"last\":\"Gippner\"}},\"upvotes\":1,\"userUpvoted\":null},{\"_id\":\"5c471b30a99c3f00140fe4c5\",\"text\":\"The collective noun for kittens is a \\\"kindle\\\".\",\"type\":\"cat\",\"user\":{\"_id\":\"5c471b15a99c3f00140fe4c4\",\"name\":{\"first\":\"Beth\",\"last\":\"Rothwell\"}},\"upvotes\":1,\"userUpvoted\":null},{\"_id\":\"5c475c86a99c3f00140fe4cf\",\"text\":\"The Manx hails from the Isle of Man in the Irish Sea, and many Manx are tailless, a condition believed to have been caused by a dominant genetic mutation that spread among the island's cat population.\",\"type\":\"cat\",\"user\":{\"_id\":\"5a9ac18c7478810ea6c06381\",\"name\":{\"first\":\"Alex\",\"last\":\"Wohlbruck\"}},\"upvotes\":1,\"userUpvoted\":null},{\"_id\":\"5c475ca8a99c3f00140fe4d0\",\"text\":\"Loyal, playful, and alert, Manx are considered to be more \\\"doglike\\\" than other cats.\",\"type\":\"cat\",\"user\":{\"_id\":\"5a9ac18c7478810ea6c06381\",\"name\":{\"first\":\"Alex\",\"last\":\"Wohlbruck\"}},\"upvotes\":1,\"userUpvoted\":null},{\"_id\":\"5c489117e4f6130014c987b9\",\"text\":\"Leonardo da Vinci created a series of drawings titled \\\"Study of Cat Movements and Positions\\\", which consists of more than twenty drawings of cats and lions lying a sleep, sitting, playing, and fighting.\",\"type\":\"cat\",\"user\":{\"_id\":\"5a9ac18c7478810ea6c06381\",\"name\":{\"first\":\"Alex\",\"last\":\"Wohlbruck\"}},\"upvotes\":1,\"userUpvoted\":null},{\"_id\":\"5c609758e54902001453302c\",\"text\":\"According to the American Society for the Prevention of Cruelty of Animals, newborn kittens get all the nutrition they need duing the first four weeks of life fom their mother's milk. If you are taking care of a kitten without its mother, or if the mother isn't producing enough milk, you can feed the kitten a commercial milk substitute.\",\"type\":\"cat\",\"user\":{\"_id\":\"5a9ac18c7478810ea6c06381\",\"name\":{\"first\":\"Alex\",\"last\":\"Wohlbruck\"}},\"upvotes\":1,\"userUpvoted\":null},{\"_id\":\"5c609776e54902001453302d\",\"text\":\"When kittens ages to weeks five and six, they should start making the transition to dry food.\",\"type\":\"cat\",\"user\":{\"_id\":\"5a9ac18c7478810ea6c06381\",\"name\":{\"first\":\"Alex\",\"last\":\"Wohlbruck\"}},\"upvotes\":1,\"userUpvoted\":null},{\"_id\":\"5c6097eee549020014533030\",\"text\":\"Legend holds that the Chartreux once lived alongside the Carthusian monks of France.\",\"type\":\"cat\",\"user\":{\"_id\":\"5a9ac18c7478810ea6c06381\",\"name\":{\"first\":\"Alex\",\"last\":\"Wohlbruck\"}},\"upvotes\":1,\"userUpvoted\":null},{\"_id\":\"5c60982ce549020014533033\",\"text\":\"The Chartreux is distinguished by a woolly blue-grey coat, a robust body poised over small paws, and full cheeks with a mouth that always appear to be smiling.\",\"type\":\"cat\",\"user\":{\"_id\":\"5a9ac18c7478810ea6c06381\",\"name\":{\"first\":\"Alex\",\"last\":\"Wohlbruck\"}},\"upvotes\":1,\"userUpvoted\":null},{\"_id\":\"5c609852e549020014533036\",\"text\":\"While Chartreux cats aren't very vocal, they are sociable and communicate through eye contact and body language.\",\"type\":\"cat\",\"user\":{\"_id\":\"5a9ac18c7478810ea6c06381\",\"name\":{\"first\":\"Alex\",\"last\":\"Wohlbruck\"}},\"upvotes\":1,\"userUpvoted\":null},{\"_id\":\"5c609945e549020014533037\",\"text\":\"Do you ever wake up in the middle of the night and find your cat sleeping on your head? Cat behavioral experts believe that cats are drawn to the warmth and the familiar scent of the owner. Resting on your head also keeps kitty safe from your arms and legs if you toss and turn through the night.\",\"type\":\"cat\",\"user\":{\"_id\":\"5a9ac18c7478810ea6c06381\",\"name\":{\"first\":\"Alex\",\"last\":\"Wohlbruck\"}},\"upvotes\":1,\"userUpvoted\":null},{\"_id\":\"5c60999ae549020014533038\",\"text\":\"Cats love playing with yarn, ribbons, and fishing-rode style toys. However, cats should not be left alone with anything that they could get tangled in.\",\"type\":\"cat\",\"user\":{\"_id\":\"5a9ac18c7478810ea6c06381\",\"name\":{\"first\":\"Alex\",\"last\":\"Wohlbruck\"}},\"upvotes\":1,\"userUpvoted\":null},{\"_id\":\"5c609a02e549020014533039\",\"text\":\"All Scottish Folds descended from Susie, a white barn cat discovered in Scotland in the early 1960s. Susie sported the breed's folded ears – the result of a genetic mutation – and passed on the trait through breeding.\",\"type\":\"cat\",\"user\":{\"_id\":\"5a9ac18c7478810ea6c06381\",\"name\":{\"first\":\"Alex\",\"last\":\"Wohlbruck\"}},\"upvotes\":1,\"userUpvoted\":null},{\"_id\":\"5c609a90e54902001453303a\",\"text\":\"Mark Twain was undeniably an ailurophile. He had up to 19 cats at one time and gave them such memorable names as Beelzebub, Buffalo Bill, and Soapy Sal.\",\"type\":\"cat\",\"user\":{\"_id\":\"5a9ac18c7478810ea6c06381\",\"name\":{\"first\":\"Alex\",\"last\":\"Wohlbruck\"}},\"upvotes\":1,\"userUpvoted\":null},{\"_id\":\"5c69c35cc2d7a200140f67ea\",\"text\":\"If you really want to treat your cat, get some lactose-free milk at the grocery store and offer some to the kitty.\",\"type\":\"cat\",\"user\":{\"_id\":\"5a9ac18c7478810ea6c06381\",\"name\":{\"first\":\"Alex\",\"last\":\"Wohlbruck\"}},\"upvotes\":1,\"userUpvoted\":null},{\"_id\":\"5c69c47dc2d7a200140f67ee\",\"text\":\"Abraham Lincoln, being the ailurophile that he was, once rescued three stray kittens and ensured that they were fed and found homes.\",\"type\":\"cat\",\"user\":{\"_id\":\"5a9ac18c7478810ea6c06381\",\"name\":{\"first\":\"Alex\",\"last\":\"Wohlbruck\"}},\"upvotes\":1,\"userUpvoted\":null},{\"_id\":\"5c69c4eec2d7a200140f67ef\",\"text\":\"The Sphynx was originally known as the Canadian Hairless Cat. The breed originated in Toronto, and was renamed to Sphynx, a nod to the famous limestone sculpture in the Egyptian Desert.\",\"type\":\"cat\",\"user\":{\"_id\":\"5a9ac18c7478810ea6c06381\",\"name\":{\"first\":\"Alex\",\"last\":\"Wohlbruck\"}},\"upvotes\":1,\"userUpvoted\":null},{\"_id\":\"5c6a104fc2d7a200140f699f\",\"text\":\"A cat’s spine can rotate more than the spines of most other animals, and their vertebrae have a special, flexible, elastic cushioning on the disks, which gives it even more flexibility.\",\"type\":\"cat\",\"user\":{\"_id\":\"5a9ac18c7478810ea6c06381\",\"name\":{\"first\":\"Alex\",\"last\":\"Wohlbruck\"}},\"upvotes\":1,\"userUpvoted\":null},{\"_id\":\"5c72d9b651021f001415f00c\",\"text\":\"Cats have been domesticated for around 4,000 years. While they were once valued for their hunting abilities, they are now valued for their companionship and loving behavior.\",\"type\":\"cat\",\"user\":{\"_id\":\"5c6fd96df4256a001498a73f\",\"name\":{\"first\":\"Hedvig\",\"last\":\"Annersten\"}},\"upvotes\":1,\"userUpvoted\":null},{\"_id\":\"5c72dbd851021f001415f010\",\"text\":\"The most popular pedigreed cat in North America is the Persian cat, followed by the Main Coon and the Siamese cat.\",\"type\":\"cat\",\"user\":{\"_id\":\"5c72dbb751021f001415f00f\",\"name\":{\"first\":\"Hedvig\",\"last\":\"Annersten\"}},\"upvotes\":1,\"userUpvoted\":null},{\"_id\":\"5c7408a14dd87d001490f02b\",\"text\":\"The cheetah is the only cat that doesn't have retractable claws.\",\"type\":\"cat\",\"user\":{\"_id\":\"5c72e94751021f001415f012\",\"name\":{\"first\":\"Tests\",\"last\":\"HiQ\"}},\"upvotes\":1,\"userUpvoted\":null},{\"_id\":\"5c75f56272681400147b988a\",\"text\":\"There are only two escalators in the state of Wyoming.\",\"type\":\"cat\",\"user\":{\"_id\":\"5a9ac18c7478810ea6c06381\",\"name\":{\"first\":\"Alex\",\"last\":\"Wohlbruck\"}},\"upvotes\":1,\"userUpvoted\":null},{\"_id\":\"5c84248f731a60001540a193\",\"text\":\"When a cat lifts its butt in the air when scratched, it is a sign that your feline is giving your pats an A+. However, if you have a female kitty who hasn't been spayed, \\\"elevator butt\\\" could be a sign that she's ready to mate. The proper name for this stance is lordosis, and cats adopt it when they're in heat.\",\"type\":\"cat\",\"user\":{\"_id\":\"5c7da4bd70008708fb17c88f\",\"name\":{\"first\":\"Alex\",\"last\":\"Wohlbruck\"}},\"upvotes\":1,\"userUpvoted\":null},{\"_id\":\"5c87d03dec1e5c0aa37e0a6b\",\"type\":\"cat\",\"text\":\"On October 24, 1963, a tuxedo cat named Félicette entered outer space aboard a French Véronique AG1 rocket and made feline history. Félicette returned from the 15-minute trip in once piece and earned the praise of French scientists, who said she made \\\"a valuable contribution to research.\\\".\",\"user\":{\"_id\":\"5a9ac18c7478810ea6c06381\",\"name\":{\"first\":\"Alex\",\"last\":\"Wohlbruck\"}},\"upvotes\":1,\"userUpvoted\":null},{\"_id\":\"5cd42b77cfdf230015bd7a45\",\"text\":\"Cats can sense distress from a human being.\",\"type\":\"cat\",\"user\":{\"_id\":\"5cd42b40cfdf230015bd7a44\",\"name\":{\"first\":\"Chloe\",\"last\":\"Simmons\"}},\"upvotes\":1,\"userUpvoted\":null},{\"_id\":\"5cd86b0e1dc6d50015ec2f08\",\"text\":\"Norwegian Forest Cats are usually very people friendly.\",\"type\":\"cat\",\"user\":{\"_id\":\"5cd86adb1dc6d50015ec2f07\",\"name\":{\"first\":\"Shay\",\"last\":\"Zhang\"}},\"upvotes\":1,\"userUpvoted\":null},{\"_id\":\"5d38afd60f1c57001592f127\",\"type\":\"cat\",\"text\":\"In the early 1980s, a Chinchilla Persian cat named Jemari Sanquist mated with a Lilac Burmese named Bambino Lilac Fabergé, producing the Burmilla breed.\",\"user\":{\"_id\":\"5a9ac18c7478810ea6c06381\",\"name\":{\"first\":\"Alex\",\"last\":\"Wohlbruck\"}},\"upvotes\":1,\"userUpvoted\":null},{\"_id\":\"5d38b0310f1c57001592f128\",\"type\":\"cat\",\"text\":\"Scratching allows a cat to shed the outer layers of her claws, mark her territory, and stretch her body. Rather than discouraging the scratching behavior altogether, try redirecting your cat to a few scratching posts placed strategically around your home.\",\"user\":{\"_id\":\"5a9ac18c7478810ea6c06381\",\"name\":{\"first\":\"Alex\",\"last\":\"Wohlbruck\"}},\"upvotes\":1,\"userUpvoted\":null},{\"_id\":\"5d38b0c40f1c57001592f129\",\"type\":\"cat\",\"text\":\"The elegant Balinese is a longhaired variety of the Siamese, and like the Siamese, this stunning breed is sociable and intelligent. The breed was named for the grace of the dancers on the island of Bali in Indonesia.\",\"user\":{\"_id\":\"5a9ac18c7478810ea6c06381\",\"name\":{\"first\":\"Alex\",\"last\":\"Wohlbruck\"}},\"upvotes\":1,\"userUpvoted\":null},{\"_id\":\"5d38b1290f1c57001592f12a\",\"type\":\"cat\",\"text\":\"Bobtail cats owe their shortened tails to a natural genetic mutation that has appeared in cats across time and in various regions of the world. The American Bobtail can be traced back to Yodi, a cat with the mutation that was found in Arizona in the 1960s. Yodi passed the genetic quirk on to his kittens, thus creating a new breed.\",\"user\":{\"_id\":\"5a9ac18c7478810ea6c06381\",\"name\":{\"first\":\"Alex\",\"last\":\"Wohlbruck\"}},\"upvotes\":1,\"userUpvoted\":null},{\"_id\":\"5d38b16c0f1c57001592f12b\",\"type\":\"cat\",\"text\":\"A large number of cats inhabit the Largo di Torre Argentina, an ancient Roman temple site near where Caesar was killed. Local volunteers care for the cats.\",\"user\":{\"_id\":\"5a9ac18c7478810ea6c06381\",\"name\":{\"first\":\"Alex\",\"last\":\"Wohlbruck\"}},\"upvotes\":1,\"userUpvoted\":null},{\"_id\":\"5d38b1d40f1c57001592f12c\",\"type\":\"cat\",\"text\":\"During the heat of the summer, set out an extra bowl of water and place ice cubes in it to keep it cold and refreshing. Cats love to lie on cool surfaces when it's hot—if you don't have an tile in your home, consider buying a few ceramic tiles from a home improvement store for your cat to rest on.\",\"user\":{\"_id\":\"5a9ac18c7478810ea6c06381\",\"name\":{\"first\":\"Alex\",\"last\":\"Wohlbruck\"}},\"upvotes\":1,\"userUpvoted\":null},{\"_id\":\"5d38b2270f1c57001592f12d\",\"type\":\"cat\",\"text\":\"Among the British government officials who keep things running smoothly at 10 Downing Street is Larry, a cat that holds the distinguished position of Chief Mouser. Larry's duties, according to the U.K. government, include \\\"greeting guests\\\", \\\"testing antique furniture for napping quality\\\", and \\\"contemplating a solution to the mouse occupancy of the house.\\\".\",\"user\":{\"_id\":\"5a9ac18c7478810ea6c06381\",\"name\":{\"first\":\"Alex\",\"last\":\"Wohlbruck\"}},\"upvotes\":1,\"userUpvoted\":null},{\"_id\":\"5d38b2510f1c57001592f12e\",\"type\":\"cat\",\"text\":\"Courgars are the largest wild cats that can purr.\",\"user\":{\"_id\":\"5a9ac18c7478810ea6c06381\",\"name\":{\"first\":\"Alex\",\"last\":\"Wohlbruck\"}},\"upvotes\":1,\"userUpvoted\":null},{\"_id\":\"5d38b27b0f1c57001592f12f\",\"type\":\"cat\",\"text\":\"The Norwegian Forest Cat is called \\\"skogcatt\\\" in its homeland of Norway and plays a role in the Norwegian fairy tales and legends.\",\"user\":{\"_id\":\"5a9ac18c7478810ea6c06381\",\"name\":{\"first\":\"Alex\",\"last\":\"Wohlbruck\"}},\"upvotes\":1,\"userUpvoted\":null},{\"_id\":\"5d38b29f0f1c57001592f130\",\"type\":\"cat\",\"text\":\"The Abyssinian, the Siamese, and the American Shorthair were crossbred to produce the Ocicat breed.\",\"user\":{\"_id\":\"5a9ac18c7478810ea6c06381\",\"name\":{\"first\":\"Alex\",\"last\":\"Wohlbruck\"}},\"upvotes\":1,\"userUpvoted\":null},{\"_id\":\"5d38b5b50f1c57001592f131\",\"type\":\"cat\",\"text\":\"Andy Warhol amassed quite the collection of feline friends during his lifetime, beginning with a Siamese cat named Hester that was given to him by actress Gloria Swanson. By breeding Hester with a cat named Sam, Warhol ended up with multiple litters of kittens, at one point housing 25 cats in his Upper East Side townhouse in NYC.\",\"user\":{\"_id\":\"5a9ac18c7478810ea6c06381\",\"name\":{\"first\":\"Alex\",\"last\":\"Wohlbruck\"}},\"upvotes\":1,\"userUpvoted\":null},{\"_id\":\"5d38b6090f1c57001592f132\",\"type\":\"cat\",\"text\":\"While two kittens might sound like double trouble, adopting two at a time can actually make your job easier. Two cans can keep each other company, reducing their need for socialization, and they will expend energy by playing together. Kittens in the same litter often form tight sibling bonds.\",\"user\":{\"_id\":\"5a9ac18c7478810ea6c06381\",\"name\":{\"first\":\"Alex\",\"last\":\"Wohlbruck\"}},\"upvotes\":1,\"userUpvoted\":null},{\"_id\":\"5d38b6280f1c57001592f133\",\"type\":\"cat\",\"text\":\"Some animal shelters require kittens be adopted in pairs to ensure they came from the same litter.\",\"user\":{\"_id\":\"5a9ac18c7478810ea6c06381\",\"name\":{\"first\":\"Alex\",\"last\":\"Wohlbruck\"}},\"upvotes\":1,\"userUpvoted\":null},{\"_id\":\"5d38b64e0f1c57001592f134\",\"type\":\"cat\",\"text\":\"The Havana Brown breed hails from England, where it was created by crossbreeding Siamese cats with domestic black cats.\",\"user\":{\"_id\":\"5a9ac18c7478810ea6c06381\",\"name\":{\"first\":\"Alex\",\"last\":\"Wohlbruck\"}},\"upvotes\":1,\"userUpvoted\":null},{\"_id\":\"5d38b69a0f1c57001592f135\",\"type\":\"cat\",\"text\":\"While we don't know the exact origins of the Russian Blue, it's commonly believed the breed comes from the Archangel Isles in northwestern Russia—the region's cold climate would certainly explain the breed's plush coat.\",\"user\":{\"_id\":\"5a9ac18c7478810ea6c06381\",\"name\":{\"first\":\"Alex\",\"last\":\"Wohlbruck\"}},\"upvotes\":1,\"userUpvoted\":null},{\"_id\":\"5d38b6f10f1c57001592f136\",\"type\":\"cat\",\"text\":\"Traveling with cats can be stressful for everyone involved. Whether you're taking a kitty to the vet, or on a road trip, or on a flight, there are things you can do to help her stay relaxed in the carrier. Pet shops sell calming treats and sprays that can reduce a cat's anxiety. It might also help to put a beloved toy or a blanket in the carrier.\",\"user\":{\"_id\":\"5a9ac18c7478810ea6c06381\",\"name\":{\"first\":\"Alex\",\"last\":\"Wohlbruck\"}},\"upvotes\":1,\"userUpvoted\":null},{\"_id\":\"5d38b7170f1c57001592f137\",\"type\":\"cat\",\"text\":\"The wild-looking but domestic Ocicat is named for its resemblance to the ocelot, a small South American wild cat.\",\"user\":{\"_id\":\"5a9ac18c7478810ea6c06381\",\"name\":{\"first\":\"Alex\",\"last\":\"Wohlbruck\"}},\"upvotes\":1,\"userUpvoted\":null},{\"_id\":\"5d38baf20f1c57001592f14b\",\"type\":\"cat\",\"text\":\"The stationmaster of the Kishi rail station in western Japan until 2015 was a cat named Tama. The calico cat wore a stationmaster's cap and greeted visitors by the ticket gate. After her death, Tama was elevated to the status of a goddess in a Shinto-style funeral.\",\"user\":{\"_id\":\"5a8b1dce4709d90020cb1285\",\"name\":{\"first\":\"Alex\",\"last\":\"Wohlbruck\"}},\"upvotes\":0,\"userUpvoted\":null},{\"_id\":\"5d38bb440f1c57001592f14c\",\"type\":\"cat\",\"text\":\"It's important for cats to have regular ear exams—this is something you can do at home! Gently fold back the ears and look into the ear canal. The inner ear should be pale pink with little to no earwax. If you notice redness, swelling, discharge, or a lot of earwax, it's time to see a veterinarian.\",\"user\":{\"_id\":\"5a8b1dce4709d90020cb1285\",\"name\":{\"first\":\"Alex\",\"last\":\"Wohlbruck\"}},\"upvotes\":0,\"userUpvoted\":null},{\"_id\":\"5d38bb7a0f1c57001592f14d\",\"type\":\"cat\",\"text\":\"In Norse mythology, the goddess Freya travels in a chariot pulled by two cats—specifically Norwegian Forest Cats.\",\"user\":{\"_id\":\"5a8b1dce4709d90020cb1285\",\"name\":{\"first\":\"Alex\",\"last\":\"Wohlbruck\"}},\"upvotes\":0,\"userUpvoted\":null},{\"_id\":\"5d38bb910f1c57001592f14e\",\"type\":\"cat\",\"text\":\"Dr. Seuss wrote The Cat in the Hat using only 236 words.\",\"user\":{\"_id\":\"5a8b1dce4709d90020cb1285\",\"name\":{\"first\":\"Alex\",\"last\":\"Wohlbruck\"}},\"upvotes\":0,\"userUpvoted\":null},{\"_id\":\"5d38bbb20f1c57001592f14f\",\"type\":\"cat\",\"text\":\"American Curl kittens are born with straight ears, but the ears begin to curl back after just a few days.\",\"user\":{\"_id\":\"5a8b1dce4709d90020cb1285\",\"name\":{\"first\":\"Alex\",\"last\":\"Wohlbruck\"}},\"upvotes\":0,\"userUpvoted\":null},{\"_id\":\"5d38bc0c0f1c57001592f150\",\"type\":\"cat\",\"text\":\"If your cat licks from the toilet, bathtub, or sink, she may be telling you something about the water bowl. Make sure it's clean, replace the water regularly to keep it from getting stale or developing a film on top, and if necessary, get a new bowl. Some cats prefer glass bowls to plastic.\",\"user\":{\"_id\":\"5a8b1dce4709d90020cb1285\",\"name\":{\"first\":\"Alex\",\"last\":\"Wohlbruck\"}},\"upvotes\":0,\"userUpvoted\":null},{\"_id\":\"5d38bc630f1c57001592f151\",\"type\":\"cat\",\"text\":\"Georgia O'Keeffe was a celebrated painter, a figurehead of American modernism, a fashion icon, and... a cat owner! O'Keeffe kept a number of animals at her home in New Mexico, including her pet Siamese cat, who appears alongside O'Keeffe in a portrait shot by photographer John Candelario.\",\"user\":{\"_id\":\"5a8b1dce4709d90020cb1285\",\"name\":{\"first\":\"Alex\",\"last\":\"Wohlbruck\"}},\"upvotes\":0,\"userUpvoted\":null},{\"_id\":\"5d38bc970f1c57001592f152\",\"type\":\"cat\",\"text\":\"The pink substance inside a cat's nail is called the \\\"quick\\\" or the \\\"dermis\\\". When trimming your cat's nails, be sure to only cut the upper white part of the nail, not the quick.\",\"user\":{\"_id\":\"5a8b1dce4709d90020cb1285\",\"name\":{\"first\":\"Alex\",\"last\":\"Wohlbruck\"}},\"upvotes\":0,\"userUpvoted\":null},{\"_id\":\"5d38bcc00f1c57001592f153\",\"type\":\"cat\",\"text\":\"The irresistable and cuddly Ragamuffin is the result of crossbreeding Ragdoll cats with Persians, Himalayans, and other larger longhaired breeds.\",\"user\":{\"_id\":\"5a8b1dce4709d90020cb1285\",\"name\":{\"first\":\"Alex\",\"last\":\"Wohlbruck\"}},\"upvotes\":0,\"userUpvoted\":null},{\"_id\":\"5d38bd180f1c57001592f154\",\"type\":\"cat\",\"text\":\"Cats are among only a few animals that walk by moving their two right legs one after another and then their two left legs, rather than moving diagonal limbs simultaneously. Giraffes and camels also have this quality.\",\"user\":{\"_id\":\"5a8b1dce4709d90020cb1285\",\"name\":{\"first\":\"Alex\",\"last\":\"Wohlbruck\"}},\"upvotes\":0,\"userUpvoted\":null},{\"_id\":\"5d38bd750f1c57001592f155\",\"type\":\"cat\",\"text\":\"Legend holds that a goddess rewarded a temple cat's piety by turning the cat's eyes blue and his coat golden, thus creating the first Birman cat.\",\"user\":{\"_id\":\"5a8b1dce4709d90020cb1285\",\"name\":{\"first\":\"Alex\",\"last\":\"Wohlbruck\"}},\"upvotes\":0,\"userUpvoted\":null},{\"_id\":\"5d38bdab0f1c57001592f156\",\"type\":\"cat\",\"text\":\"While some cats love being brushed, others don't take to it naturally. Try to groom your cat in the same spot at the same time of day to create a sense of routine.\",\"user\":{\"_id\":\"5a8b1dce4709d90020cb1285\",\"name\":{\"first\":\"Alex\",\"last\":\"Wohlbruck\"}},\"upvotes\":0,\"userUpvoted\":null},{\"_id\":\"5d38be200f1c57001592f157\",\"type\":\"cat\",\"text\":\"The Turkish Van is often called the \\\"swimming cat\\\" because they are naturals in the water, thanks in part to their uniquely textured, water-resistant coat.\",\"user\":{\"_id\":\"5a8b1dce4709d90020cb1285\",\"name\":{\"first\":\"Alex\",\"last\":\"Wohlbruck\"}},\"upvotes\":0,\"userUpvoted\":null},{\"_id\":\"5d38be370f1c57001592f158\",\"type\":\"cat\",\"text\":\"Kittens typically begin to engage in playful behavior at around four weeks of age.\",\"user\":{\"_id\":\"5a8b1dce4709d90020cb1285\",\"name\":{\"first\":\"Alex\",\"last\":\"Wohlbruck\"}},\"upvotes\":0,\"userUpvoted\":null},{\"_id\":\"5d3e2191484b54001508b0df\",\"type\":\"cat\",\"text\":\"Cats can be nation president.\",\"user\":{\"_id\":\"5d3dedfa484b54001508b0de\",\"name\":{\"first\":\"Jonathan\",\"last\":\"Velazquez\"}},\"upvotes\":0,\"userUpvoted\":null},{\"_id\":\"5d4878cca994550015e6ca0a\",\"type\":\"cat\",\"text\":\"Horse.\",\"user\":{\"_id\":\"5d48783ca994550015e6ca09\",\"name\":{\"first\":\"Artemiy\",\"last\":\"Pyatakov\"}},\"upvotes\":0,\"userUpvoted\":null}]}"
          ],
          "name": "stdout"
        }
      ]
    },
    {
      "cell_type": "code",
      "metadata": {
        "id": "8vbSN5Qf8dHG",
        "colab_type": "code",
        "colab": {
          "base_uri": "https://localhost:8080/",
          "height": 212
        },
        "outputId": "9393c8b0-ba9f-45e6-f5d9-07f001a2bd81"
      },
      "source": [
        "#using API from cat fact to read data into data frame\n",
        "\n",
        "!wget \"https://cat-fact.herokuapp.com/facts\""
      ],
      "execution_count": 90,
      "outputs": [
        {
          "output_type": "stream",
          "text": [
            "--2019-08-06 22:01:43--  https://cat-fact.herokuapp.com/facts\n",
            "Resolving cat-fact.herokuapp.com (cat-fact.herokuapp.com)... 34.202.247.40, 18.213.66.123, 54.208.229.218, ...\n",
            "Connecting to cat-fact.herokuapp.com (cat-fact.herokuapp.com)|34.202.247.40|:443... connected.\n",
            "HTTP request sent, awaiting response... 200 OK\n",
            "Length: 62960 (61K) [application/json]\n",
            "Saving to: ‘facts’\n",
            "\n",
            "\rfacts                 0%[                    ]       0  --.-KB/s               \rfacts               100%[===================>]  61.48K  --.-KB/s    in 0.06s   \n",
            "\n",
            "2019-08-06 22:01:43 (988 KB/s) - ‘facts’ saved [62960/62960]\n",
            "\n"
          ],
          "name": "stdout"
        }
      ]
    },
    {
      "cell_type": "code",
      "metadata": {
        "id": "WRVO8cRb88Tc",
        "colab_type": "code",
        "colab": {}
      },
      "source": [
        "#Using read json to load data\n",
        "catfacts_df = pd.read_json(\"facts\")"
      ],
      "execution_count": 0,
      "outputs": []
    },
    {
      "cell_type": "code",
      "metadata": {
        "id": "11F8NeEkBQ-m",
        "colab_type": "code",
        "colab": {
          "base_uri": "https://localhost:8080/",
          "height": 197
        },
        "outputId": "6499ceb4-0a64-442a-a028-884d5825192b"
      },
      "source": [
        "catfacts_df.head()\n",
        "#I am yet to convert this into a good dataframe as this data can be divided into further attributes"
      ],
      "execution_count": 131,
      "outputs": [
        {
          "output_type": "execute_result",
          "data": {
            "text/html": [
              "<div>\n",
              "<style scoped>\n",
              "    .dataframe tbody tr th:only-of-type {\n",
              "        vertical-align: middle;\n",
              "    }\n",
              "\n",
              "    .dataframe tbody tr th {\n",
              "        vertical-align: top;\n",
              "    }\n",
              "\n",
              "    .dataframe thead th {\n",
              "        text-align: right;\n",
              "    }\n",
              "</style>\n",
              "<table border=\"1\" class=\"dataframe\">\n",
              "  <thead>\n",
              "    <tr style=\"text-align: right;\">\n",
              "      <th></th>\n",
              "      <th>all</th>\n",
              "    </tr>\n",
              "  </thead>\n",
              "  <tbody>\n",
              "    <tr>\n",
              "      <th>0</th>\n",
              "      <td>{'_id': '5b4910ae0508220014ccfe90', 'text': 'C...</td>\n",
              "    </tr>\n",
              "    <tr>\n",
              "      <th>1</th>\n",
              "      <td>{'_id': '5b4911940508220014ccfe94', 'text': 'B...</td>\n",
              "    </tr>\n",
              "    <tr>\n",
              "      <th>2</th>\n",
              "      <td>{'_id': '58e008ad0aac31001185ed0c', 'text': 'T...</td>\n",
              "    </tr>\n",
              "    <tr>\n",
              "      <th>3</th>\n",
              "      <td>{'_id': '59a60b8e6acf530020f3586e', 'text': 'C...</td>\n",
              "    </tr>\n",
              "    <tr>\n",
              "      <th>4</th>\n",
              "      <td>{'_id': '58e008b80aac31001185ed0d', 'text': 'A...</td>\n",
              "    </tr>\n",
              "  </tbody>\n",
              "</table>\n",
              "</div>"
            ],
            "text/plain": [
              "                                                 all\n",
              "0  {'_id': '5b4910ae0508220014ccfe90', 'text': 'C...\n",
              "1  {'_id': '5b4911940508220014ccfe94', 'text': 'B...\n",
              "2  {'_id': '58e008ad0aac31001185ed0c', 'text': 'T...\n",
              "3  {'_id': '59a60b8e6acf530020f3586e', 'text': 'C...\n",
              "4  {'_id': '58e008b80aac31001185ed0d', 'text': 'A..."
            ]
          },
          "metadata": {
            "tags": []
          },
          "execution_count": 131
        }
      ]
    },
    {
      "cell_type": "code",
      "metadata": {
        "id": "OWwNmL96ElN7",
        "colab_type": "code",
        "colab": {}
      },
      "source": [
        ""
      ],
      "execution_count": 0,
      "outputs": []
    }
  ]
}