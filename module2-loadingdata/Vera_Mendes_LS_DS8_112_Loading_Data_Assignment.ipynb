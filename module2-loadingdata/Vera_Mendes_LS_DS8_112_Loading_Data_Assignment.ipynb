{
  "nbformat": 4,
  "nbformat_minor": 0,
  "metadata": {
    "colab": {
      "name": "Vera Mendes - LS_DS8_112_Loading_Data_Assignment.ipynb",
      "version": "0.3.2",
      "provenance": [],
      "collapsed_sections": [],
      "include_colab_link": true
    },
    "kernelspec": {
      "name": "python3",
      "display_name": "Python 3"
    }
  },
  "cells": [
    {
      "cell_type": "markdown",
      "metadata": {
        "id": "view-in-github",
        "colab_type": "text"
      },
      "source": [
        "<a href=\"https://colab.research.google.com/github/VeraMendes/DS-Unit-1-Sprint-1-Dealing-With-Data/blob/master/module2-loadingdata/Vera_Mendes_LS_DS8_112_Loading_Data_Assignment.ipynb\" target=\"_parent\"><img src=\"https://colab.research.google.com/assets/colab-badge.svg\" alt=\"Open In Colab\"/></a>"
      ]
    },
    {
      "cell_type": "markdown",
      "metadata": {
        "colab_type": "text",
        "id": "MSnsTgZLKO72"
      },
      "source": [
        "# Practice Loading Datasets\n",
        "\n",
        "This assignment is purposely semi-open-ended you will be asked to load datasets both from github and also from CSV files from the [UC Irvine Machine Learning Repository](https://archive.ics.uci.edu/ml/index.php). \n",
        "\n",
        "Remember that the UCI datasets may not have a file type of `.csv` so it's important that you learn as much as you can about the dataset before you try and load it. See if you can look at the raw text of the file either locally, on github, using the `!curl` shell command, or in some other way before you try and read it in as a dataframe, this will help you catch what would otherwise be unforseen problems.\n"
      ]
    },
    {
      "cell_type": "markdown",
      "metadata": {
        "id": "156P6ndeKojO",
        "colab_type": "text"
      },
      "source": [
        "## 1) Load a dataset from Github (via its *RAW* URL)\n",
        "\n",
        "Pick a dataset from the following repository and load it into Google Colab. Make sure that the headers are what you would expect and check to see if missing values have been encoded as NaN values:\n",
        "\n",
        "<https://github.com/ryanleeallred/datasets>"
      ]
    },
    {
      "cell_type": "code",
      "metadata": {
        "id": "H_t2rbDfzP7E",
        "colab_type": "code",
        "colab": {}
      },
      "source": [
        "import pandas as pd"
      ],
      "execution_count": 0,
      "outputs": []
    },
    {
      "cell_type": "code",
      "metadata": {
        "id": "NJdISe69ZT7E",
        "colab_type": "code",
        "colab": {
          "base_uri": "https://localhost:8080/",
          "height": 403
        },
        "outputId": "d8fd2f9f-9595-45f1-be6b-798a4598c42e"
      },
      "source": [
        "# choosing a dataset called Ice_Cream_Sales.csv\n",
        "\n",
        "icecream_url = 'https://github.com/ryanleeallred/datasets/raw/master/Ice_Cream_Sales.csv'\n",
        "\n",
        "# setting to read dataset chosen from original URL and finding out the shape of my data to make sure is all correct as the original\n",
        "\n",
        "df= pd.read_csv(icecream_url)\n",
        "\n",
        "print(df.shape)\n",
        "\n",
        "# reading all dataframe as it is a small dataset\n",
        "\n",
        "df.head(11)\n"
      ],
      "execution_count": 24,
      "outputs": [
        {
          "output_type": "stream",
          "text": [
            "(11, 2)\n"
          ],
          "name": "stdout"
        },
        {
          "output_type": "execute_result",
          "data": {
            "text/html": [
              "<div>\n",
              "<style scoped>\n",
              "    .dataframe tbody tr th:only-of-type {\n",
              "        vertical-align: middle;\n",
              "    }\n",
              "\n",
              "    .dataframe tbody tr th {\n",
              "        vertical-align: top;\n",
              "    }\n",
              "\n",
              "    .dataframe thead th {\n",
              "        text-align: right;\n",
              "    }\n",
              "</style>\n",
              "<table border=\"1\" class=\"dataframe\">\n",
              "  <thead>\n",
              "    <tr style=\"text-align: right;\">\n",
              "      <th></th>\n",
              "      <th>Farenheit</th>\n",
              "      <th>Dollars</th>\n",
              "    </tr>\n",
              "  </thead>\n",
              "  <tbody>\n",
              "    <tr>\n",
              "      <th>0</th>\n",
              "      <td>32</td>\n",
              "      <td>200</td>\n",
              "    </tr>\n",
              "    <tr>\n",
              "      <th>1</th>\n",
              "      <td>35</td>\n",
              "      <td>400</td>\n",
              "    </tr>\n",
              "    <tr>\n",
              "      <th>2</th>\n",
              "      <td>47</td>\n",
              "      <td>500</td>\n",
              "    </tr>\n",
              "    <tr>\n",
              "      <th>3</th>\n",
              "      <td>55</td>\n",
              "      <td>600</td>\n",
              "    </tr>\n",
              "    <tr>\n",
              "      <th>4</th>\n",
              "      <td>73</td>\n",
              "      <td>1100</td>\n",
              "    </tr>\n",
              "    <tr>\n",
              "      <th>5</th>\n",
              "      <td>78</td>\n",
              "      <td>1200</td>\n",
              "    </tr>\n",
              "    <tr>\n",
              "      <th>6</th>\n",
              "      <td>81</td>\n",
              "      <td>1500</td>\n",
              "    </tr>\n",
              "    <tr>\n",
              "      <th>7</th>\n",
              "      <td>86</td>\n",
              "      <td>1700</td>\n",
              "    </tr>\n",
              "    <tr>\n",
              "      <th>8</th>\n",
              "      <td>89</td>\n",
              "      <td>1800</td>\n",
              "    </tr>\n",
              "    <tr>\n",
              "      <th>9</th>\n",
              "      <td>90</td>\n",
              "      <td>1600</td>\n",
              "    </tr>\n",
              "    <tr>\n",
              "      <th>10</th>\n",
              "      <td>110</td>\n",
              "      <td>2000</td>\n",
              "    </tr>\n",
              "  </tbody>\n",
              "</table>\n",
              "</div>"
            ],
            "text/plain": [
              "    Farenheit  Dollars\n",
              "0          32      200\n",
              "1          35      400\n",
              "2          47      500\n",
              "3          55      600\n",
              "4          73     1100\n",
              "5          78     1200\n",
              "6          81     1500\n",
              "7          86     1700\n",
              "8          89     1800\n",
              "9          90     1600\n",
              "10        110     2000"
            ]
          },
          "metadata": {
            "tags": []
          },
          "execution_count": 24
        }
      ]
    },
    {
      "cell_type": "code",
      "metadata": {
        "id": "aA6QuI4Sy_Hn",
        "colab_type": "code",
        "colab": {
          "base_uri": "https://localhost:8080/",
          "height": 69
        },
        "outputId": "2dd7f062-b10b-42e2-a0a4-0bc40badde17"
      },
      "source": [
        "# looking for NaN values \n",
        "\n",
        "df.isnull().sum()"
      ],
      "execution_count": 25,
      "outputs": [
        {
          "output_type": "execute_result",
          "data": {
            "text/plain": [
              "Farenheit    0\n",
              "Dollars      0\n",
              "dtype: int64"
            ]
          },
          "metadata": {
            "tags": []
          },
          "execution_count": 25
        }
      ]
    },
    {
      "cell_type": "markdown",
      "metadata": {
        "id": "-gFnZR6iLLPY",
        "colab_type": "text"
      },
      "source": [
        "## 2) Load a dataset from your local machine\n",
        "Download a dataset from the [UC Irvine Machine Learning Repository](https://archive.ics.uci.edu/ml/index.php) and then upload the file to Google Colab either using the files tab in the left-hand sidebar or by importing `files` from `google.colab` The following link will be a useful resource if you can't remember the syntax: <https://towardsdatascience.com/3-ways-to-load-csv-files-into-colab-7c14fcbdcb92>\n",
        "\n",
        "While you are free to try and load any dataset from the UCI repository, I strongly suggest starting with one of the most popular datasets like those that are featured on the right-hand side of the home page. \n",
        "\n",
        "Some datasets on UCI will have challenges associated with importing them far beyond what we have exposed you to in class today, so if you run into a dataset that you don't know how to deal with, struggle with it for a little bit, but ultimately feel free to simply choose a different one. \n",
        "\n",
        "- Make sure that your file has correct headers, and the same number of rows and columns as is specified on the UCI page. If your dataset doesn't have headers use the parameters of the `read_csv` function to add them. Likewise make sure that missing values are encoded as `NaN`."
      ]
    },
    {
      "cell_type": "code",
      "metadata": {
        "id": "qUmwX-ZoM9cq",
        "colab_type": "code",
        "colab": {
          "resources": {
            "http://localhost:8080/nbextensions/google.colab/files.js": {
              "data": "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",
              "ok": true,
              "headers": [
                [
                  "content-type",
                  "application/javascript"
                ]
              ],
              "status": 200,
              "status_text": ""
            }
          },
          "base_uri": "https://localhost:8080/",
          "height": 75
        },
        "outputId": "3fcb4f59-5f6e-4623-b607-e3c49a57ea10"
      },
      "source": [
        "# dataset chosen was wine.data. I uploaded this data into my local machine\n",
        "\n",
        "from google.colab import files\n",
        "uploaded = files.upload()"
      ],
      "execution_count": 18,
      "outputs": [
        {
          "output_type": "display_data",
          "data": {
            "text/html": [
              "\n",
              "     <input type=\"file\" id=\"files-9b688e7a-eeb2-4390-9336-d31dbc6d21f9\" name=\"files[]\" multiple disabled />\n",
              "     <output id=\"result-9b688e7a-eeb2-4390-9336-d31dbc6d21f9\">\n",
              "      Upload widget is only available when the cell has been executed in the\n",
              "      current browser session. Please rerun this cell to enable.\n",
              "      </output>\n",
              "      <script src=\"/nbextensions/google.colab/files.js\"></script> "
            ],
            "text/plain": [
              "<IPython.core.display.HTML object>"
            ]
          },
          "metadata": {
            "tags": []
          }
        },
        {
          "output_type": "stream",
          "text": [
            "Saving wine.data to wine (1).data\n"
          ],
          "name": "stdout"
        }
      ]
    },
    {
      "cell_type": "code",
      "metadata": {
        "id": "NYX6kWzav5lU",
        "colab_type": "code",
        "colab": {
          "base_uri": "https://localhost:8080/",
          "height": 237
        },
        "outputId": "1071ee5e-80dd-42b4-820c-f413cd7122c9"
      },
      "source": [
        "# this data does not have headers, so I took the attributes from the original wine information on dataset and define every column with the respective name.\n",
        "column_headers = ['Alcohol', 'Malic acid', 'Ash', 'Alcalinity of ash', 'Magnesium', 'Total phenols', 'Flavanoids', 'Nonflavanoid phenols', 'Proanthocyanins','Color intensity', 'Hue', 'OD280/OD315 of diluted wines', 'Proline']\n",
        "\n",
        "df_wine = pd.read_csv('wine.data', names=column_headers)\n",
        "print(df_wine.shape)\n",
        "df_wine.head()\n"
      ],
      "execution_count": 19,
      "outputs": [
        {
          "output_type": "stream",
          "text": [
            "(178, 13)\n"
          ],
          "name": "stdout"
        },
        {
          "output_type": "execute_result",
          "data": {
            "text/html": [
              "<div>\n",
              "<style scoped>\n",
              "    .dataframe tbody tr th:only-of-type {\n",
              "        vertical-align: middle;\n",
              "    }\n",
              "\n",
              "    .dataframe tbody tr th {\n",
              "        vertical-align: top;\n",
              "    }\n",
              "\n",
              "    .dataframe thead th {\n",
              "        text-align: right;\n",
              "    }\n",
              "</style>\n",
              "<table border=\"1\" class=\"dataframe\">\n",
              "  <thead>\n",
              "    <tr style=\"text-align: right;\">\n",
              "      <th></th>\n",
              "      <th>Alcohol</th>\n",
              "      <th>Malic acid</th>\n",
              "      <th>Ash</th>\n",
              "      <th>Alcalinity of ash</th>\n",
              "      <th>Magnesium</th>\n",
              "      <th>Total phenols</th>\n",
              "      <th>Flavanoids</th>\n",
              "      <th>Nonflavanoid phenols</th>\n",
              "      <th>Proanthocyanins</th>\n",
              "      <th>Color intensity</th>\n",
              "      <th>Hue</th>\n",
              "      <th>OD280/OD315 of diluted wines</th>\n",
              "      <th>Proline</th>\n",
              "    </tr>\n",
              "  </thead>\n",
              "  <tbody>\n",
              "    <tr>\n",
              "      <th>1</th>\n",
              "      <td>14.23</td>\n",
              "      <td>1.71</td>\n",
              "      <td>2.43</td>\n",
              "      <td>15.6</td>\n",
              "      <td>127</td>\n",
              "      <td>2.80</td>\n",
              "      <td>3.06</td>\n",
              "      <td>0.28</td>\n",
              "      <td>2.29</td>\n",
              "      <td>5.64</td>\n",
              "      <td>1.04</td>\n",
              "      <td>3.92</td>\n",
              "      <td>1065</td>\n",
              "    </tr>\n",
              "    <tr>\n",
              "      <th>1</th>\n",
              "      <td>13.20</td>\n",
              "      <td>1.78</td>\n",
              "      <td>2.14</td>\n",
              "      <td>11.2</td>\n",
              "      <td>100</td>\n",
              "      <td>2.65</td>\n",
              "      <td>2.76</td>\n",
              "      <td>0.26</td>\n",
              "      <td>1.28</td>\n",
              "      <td>4.38</td>\n",
              "      <td>1.05</td>\n",
              "      <td>3.40</td>\n",
              "      <td>1050</td>\n",
              "    </tr>\n",
              "    <tr>\n",
              "      <th>1</th>\n",
              "      <td>13.16</td>\n",
              "      <td>2.36</td>\n",
              "      <td>2.67</td>\n",
              "      <td>18.6</td>\n",
              "      <td>101</td>\n",
              "      <td>2.80</td>\n",
              "      <td>3.24</td>\n",
              "      <td>0.30</td>\n",
              "      <td>2.81</td>\n",
              "      <td>5.68</td>\n",
              "      <td>1.03</td>\n",
              "      <td>3.17</td>\n",
              "      <td>1185</td>\n",
              "    </tr>\n",
              "    <tr>\n",
              "      <th>1</th>\n",
              "      <td>14.37</td>\n",
              "      <td>1.95</td>\n",
              "      <td>2.50</td>\n",
              "      <td>16.8</td>\n",
              "      <td>113</td>\n",
              "      <td>3.85</td>\n",
              "      <td>3.49</td>\n",
              "      <td>0.24</td>\n",
              "      <td>2.18</td>\n",
              "      <td>7.80</td>\n",
              "      <td>0.86</td>\n",
              "      <td>3.45</td>\n",
              "      <td>1480</td>\n",
              "    </tr>\n",
              "    <tr>\n",
              "      <th>1</th>\n",
              "      <td>13.24</td>\n",
              "      <td>2.59</td>\n",
              "      <td>2.87</td>\n",
              "      <td>21.0</td>\n",
              "      <td>118</td>\n",
              "      <td>2.80</td>\n",
              "      <td>2.69</td>\n",
              "      <td>0.39</td>\n",
              "      <td>1.82</td>\n",
              "      <td>4.32</td>\n",
              "      <td>1.04</td>\n",
              "      <td>2.93</td>\n",
              "      <td>735</td>\n",
              "    </tr>\n",
              "  </tbody>\n",
              "</table>\n",
              "</div>"
            ],
            "text/plain": [
              "   Alcohol  Malic acid   Ash  ...   Hue  OD280/OD315 of diluted wines  Proline\n",
              "1    14.23        1.71  2.43  ...  1.04                          3.92     1065\n",
              "1    13.20        1.78  2.14  ...  1.05                          3.40     1050\n",
              "1    13.16        2.36  2.67  ...  1.03                          3.17     1185\n",
              "1    14.37        1.95  2.50  ...  0.86                          3.45     1480\n",
              "1    13.24        2.59  2.87  ...  1.04                          2.93      735\n",
              "\n",
              "[5 rows x 13 columns]"
            ]
          },
          "metadata": {
            "tags": []
          },
          "execution_count": 19
        }
      ]
    },
    {
      "cell_type": "code",
      "metadata": {
        "id": "hBIY5K-I7xQq",
        "colab_type": "code",
        "colab": {
          "base_uri": "https://localhost:8080/",
          "height": 260
        },
        "outputId": "b5166070-cab4-43a0-f27b-a4601f45187c"
      },
      "source": [
        "# looking for NaN values \n",
        "\n",
        "df_wine.isnull().sum()"
      ],
      "execution_count": 57,
      "outputs": [
        {
          "output_type": "execute_result",
          "data": {
            "text/plain": [
              "Alcohol                         0\n",
              "Malic acid                      0\n",
              "Ash                             0\n",
              "Alcalinity of ash               0\n",
              "Magnesium                       0\n",
              "Total phenols                   0\n",
              "Flavanoids                      0\n",
              "Nonflavanoid phenols            0\n",
              "Proanthocyanins                 0\n",
              "Color intensity                 0\n",
              "Hue                             0\n",
              "OD280/OD315 of diluted wines    0\n",
              "Proline                         0\n",
              "dtype: int64"
            ]
          },
          "metadata": {
            "tags": []
          },
          "execution_count": 57
        }
      ]
    },
    {
      "cell_type": "code",
      "metadata": {
        "id": "OhwD3nvl8udj",
        "colab_type": "code",
        "colab": {}
      },
      "source": [
        "# no null values in this data as per original info on UCI, looking into the data myself and finally looking for this in my uploaded dataset. "
      ],
      "execution_count": 0,
      "outputs": []
    },
    {
      "cell_type": "markdown",
      "metadata": {
        "id": "mq_aQjxlM-u5",
        "colab_type": "text"
      },
      "source": [
        "## 3) Load a dataset from UCI using `!wget`\n",
        "\n",
        "\"Shell Out\" and try loading a file directly into your google colab's memory using the `!wget` command and then read it in with `read_csv`.\n",
        "\n",
        "With this file we'll do a bit more to it.\n",
        "\n",
        "- Read it in, fix any problems with the header as make sure missing values are encoded as `NaN`.\n",
        "- Use the `.fillna()` method to fill any missing values. \n",
        " - [.fillna() documentation](https://pandas.pydata.org/pandas-docs/stable/reference/api/pandas.DataFrame.fillna.html)\n",
        "- Create one of each of the following plots using the Pandas plotting functionality:\n",
        " - Scatterplot\n",
        " - Histogram\n",
        " - Density Plot\n"
      ]
    },
    {
      "cell_type": "code",
      "metadata": {
        "id": "PJSqTrvD8Jdg",
        "colab_type": "code",
        "colab": {
          "base_uri": "https://localhost:8080/",
          "height": 208
        },
        "outputId": "b1dff789-e96f-4344-b51d-b0511cf73386"
      },
      "source": [
        "# loading data from UCI using !wget\n",
        "\n",
        "!wget https://archive.ics.uci.edu/ml/machine-learning-databases/adult/adult.data"
      ],
      "execution_count": 30,
      "outputs": [
        {
          "output_type": "stream",
          "text": [
            "--2019-09-04 01:13:53--  https://archive.ics.uci.edu/ml/machine-learning-databases/adult/adult.data\n",
            "Resolving archive.ics.uci.edu (archive.ics.uci.edu)... 128.195.10.252\n",
            "Connecting to archive.ics.uci.edu (archive.ics.uci.edu)|128.195.10.252|:443... connected.\n",
            "HTTP request sent, awaiting response... 200 OK\n",
            "Length: 3974305 (3.8M) [application/x-httpd-php]\n",
            "Saving to: ‘adult.data.3’\n",
            "\n",
            "adult.data.3        100%[===================>]   3.79M  16.6MB/s    in 0.2s    \n",
            "\n",
            "2019-09-04 01:13:53 (16.6 MB/s) - ‘adult.data.3’ saved [3974305/3974305]\n",
            "\n"
          ],
          "name": "stdout"
        }
      ]
    },
    {
      "cell_type": "code",
      "metadata": {
        "id": "Jm4W-GRa8n7D",
        "colab_type": "code",
        "colab": {
          "base_uri": "https://localhost:8080/",
          "height": 413
        },
        "outputId": "06880b06-8e7b-460a-996d-124dc5413ac0"
      },
      "source": [
        "# reading dataset adult.data, adding column headers info on my dataset and checking the shape and head of dataset\n",
        "\n",
        "df_adult = pd.read_csv('adult.data', names =['age', 'workclass', 'fnlwgt', \n",
        "                      'education', 'education-num', 'marital-status', \n",
        "                      'occupation', 'relationship', 'race', 'sex', \n",
        "                      'capital-gain', 'capital-loss', 'hours-per-week', \n",
        "                      'nativecountry', 'income'], na_values=[' ?', '999999', \n",
        "                      'Unknown'])\n",
        "\n",
        "print(df_adult.shape)\n",
        "\n",
        "df_adult.head(5)\n"
      ],
      "execution_count": 31,
      "outputs": [
        {
          "output_type": "stream",
          "text": [
            "(32561, 15)\n"
          ],
          "name": "stdout"
        },
        {
          "output_type": "execute_result",
          "data": {
            "text/html": [
              "<div>\n",
              "<style scoped>\n",
              "    .dataframe tbody tr th:only-of-type {\n",
              "        vertical-align: middle;\n",
              "    }\n",
              "\n",
              "    .dataframe tbody tr th {\n",
              "        vertical-align: top;\n",
              "    }\n",
              "\n",
              "    .dataframe thead th {\n",
              "        text-align: right;\n",
              "    }\n",
              "</style>\n",
              "<table border=\"1\" class=\"dataframe\">\n",
              "  <thead>\n",
              "    <tr style=\"text-align: right;\">\n",
              "      <th></th>\n",
              "      <th>age</th>\n",
              "      <th>workclass</th>\n",
              "      <th>fnlwgt</th>\n",
              "      <th>education</th>\n",
              "      <th>education-num</th>\n",
              "      <th>marital-status</th>\n",
              "      <th>occupation</th>\n",
              "      <th>relationship</th>\n",
              "      <th>race</th>\n",
              "      <th>sex</th>\n",
              "      <th>capital-gain</th>\n",
              "      <th>capital-loss</th>\n",
              "      <th>hours-per-week</th>\n",
              "      <th>nativecountry</th>\n",
              "      <th>income</th>\n",
              "    </tr>\n",
              "  </thead>\n",
              "  <tbody>\n",
              "    <tr>\n",
              "      <th>0</th>\n",
              "      <td>39</td>\n",
              "      <td>State-gov</td>\n",
              "      <td>77516</td>\n",
              "      <td>Bachelors</td>\n",
              "      <td>13</td>\n",
              "      <td>Never-married</td>\n",
              "      <td>Adm-clerical</td>\n",
              "      <td>Not-in-family</td>\n",
              "      <td>White</td>\n",
              "      <td>Male</td>\n",
              "      <td>2174</td>\n",
              "      <td>0</td>\n",
              "      <td>40</td>\n",
              "      <td>United-States</td>\n",
              "      <td>&lt;=50K</td>\n",
              "    </tr>\n",
              "    <tr>\n",
              "      <th>1</th>\n",
              "      <td>50</td>\n",
              "      <td>Self-emp-not-inc</td>\n",
              "      <td>83311</td>\n",
              "      <td>Bachelors</td>\n",
              "      <td>13</td>\n",
              "      <td>Married-civ-spouse</td>\n",
              "      <td>Exec-managerial</td>\n",
              "      <td>Husband</td>\n",
              "      <td>White</td>\n",
              "      <td>Male</td>\n",
              "      <td>0</td>\n",
              "      <td>0</td>\n",
              "      <td>13</td>\n",
              "      <td>United-States</td>\n",
              "      <td>&lt;=50K</td>\n",
              "    </tr>\n",
              "    <tr>\n",
              "      <th>2</th>\n",
              "      <td>38</td>\n",
              "      <td>Private</td>\n",
              "      <td>215646</td>\n",
              "      <td>HS-grad</td>\n",
              "      <td>9</td>\n",
              "      <td>Divorced</td>\n",
              "      <td>Handlers-cleaners</td>\n",
              "      <td>Not-in-family</td>\n",
              "      <td>White</td>\n",
              "      <td>Male</td>\n",
              "      <td>0</td>\n",
              "      <td>0</td>\n",
              "      <td>40</td>\n",
              "      <td>United-States</td>\n",
              "      <td>&lt;=50K</td>\n",
              "    </tr>\n",
              "    <tr>\n",
              "      <th>3</th>\n",
              "      <td>53</td>\n",
              "      <td>Private</td>\n",
              "      <td>234721</td>\n",
              "      <td>11th</td>\n",
              "      <td>7</td>\n",
              "      <td>Married-civ-spouse</td>\n",
              "      <td>Handlers-cleaners</td>\n",
              "      <td>Husband</td>\n",
              "      <td>Black</td>\n",
              "      <td>Male</td>\n",
              "      <td>0</td>\n",
              "      <td>0</td>\n",
              "      <td>40</td>\n",
              "      <td>United-States</td>\n",
              "      <td>&lt;=50K</td>\n",
              "    </tr>\n",
              "    <tr>\n",
              "      <th>4</th>\n",
              "      <td>28</td>\n",
              "      <td>Private</td>\n",
              "      <td>338409</td>\n",
              "      <td>Bachelors</td>\n",
              "      <td>13</td>\n",
              "      <td>Married-civ-spouse</td>\n",
              "      <td>Prof-specialty</td>\n",
              "      <td>Wife</td>\n",
              "      <td>Black</td>\n",
              "      <td>Female</td>\n",
              "      <td>0</td>\n",
              "      <td>0</td>\n",
              "      <td>40</td>\n",
              "      <td>Cuba</td>\n",
              "      <td>&lt;=50K</td>\n",
              "    </tr>\n",
              "  </tbody>\n",
              "</table>\n",
              "</div>"
            ],
            "text/plain": [
              "   age          workclass  fnlwgt  ... hours-per-week   nativecountry  income\n",
              "0   39          State-gov   77516  ...             40   United-States   <=50K\n",
              "1   50   Self-emp-not-inc   83311  ...             13   United-States   <=50K\n",
              "2   38            Private  215646  ...             40   United-States   <=50K\n",
              "3   53            Private  234721  ...             40   United-States   <=50K\n",
              "4   28            Private  338409  ...             40            Cuba   <=50K\n",
              "\n",
              "[5 rows x 15 columns]"
            ]
          },
          "metadata": {
            "tags": []
          },
          "execution_count": 31
        }
      ]
    },
    {
      "cell_type": "code",
      "metadata": {
        "id": "Bl5RzRvjANDI",
        "colab_type": "code",
        "colab": {
          "base_uri": "https://localhost:8080/",
          "height": 295
        },
        "outputId": "9ad14a5c-442f-4173-e745-d0e9c76ff184"
      },
      "source": [
        "# looking for NaN values \n",
        "\n",
        "df_adult.isnull().sum()"
      ],
      "execution_count": 32,
      "outputs": [
        {
          "output_type": "execute_result",
          "data": {
            "text/plain": [
              "age                  0\n",
              "workclass         1836\n",
              "fnlwgt               0\n",
              "education            0\n",
              "education-num        0\n",
              "marital-status       0\n",
              "occupation        1843\n",
              "relationship         0\n",
              "race                 0\n",
              "sex                  0\n",
              "capital-gain         0\n",
              "capital-loss         0\n",
              "hours-per-week       0\n",
              "nativecountry      583\n",
              "income               0\n",
              "dtype: int64"
            ]
          },
          "metadata": {
            "tags": []
          },
          "execution_count": 32
        }
      ]
    },
    {
      "cell_type": "code",
      "metadata": {
        "id": "gSs8gPksBgQK",
        "colab_type": "code",
        "colab": {}
      },
      "source": [
        "# looking for mode on workclass, occupation columns to fillna with the result of mode \n",
        "\n",
        "from statistics import mode"
      ],
      "execution_count": 0,
      "outputs": []
    },
    {
      "cell_type": "code",
      "metadata": {
        "id": "XW2xf6FXCvy6",
        "colab_type": "code",
        "colab": {
          "base_uri": "https://localhost:8080/",
          "height": 52
        },
        "outputId": "0df02a7a-189e-436a-8279-173f693b6b6c"
      },
      "source": [
        "workclass_mode = df_adult.workclass.mode()\n",
        "print(workclass_mode)"
      ],
      "execution_count": 34,
      "outputs": [
        {
          "output_type": "stream",
          "text": [
            "0     Private\n",
            "dtype: object\n"
          ],
          "name": "stdout"
        }
      ]
    },
    {
      "cell_type": "code",
      "metadata": {
        "id": "gCYDzQKb1f0r",
        "colab_type": "code",
        "colab": {
          "base_uri": "https://localhost:8080/",
          "height": 35
        },
        "outputId": "d8114a1c-f5d6-4544-cbf8-9079ca4baf4a"
      },
      "source": [
        "# workclass_mode gives me in this case one result which is the [0] value on the list and the type of data, in this case object, but as I want only the value itself I have to use:\n",
        "\n",
        "print(workclass_mode[0])"
      ],
      "execution_count": 35,
      "outputs": [
        {
          "output_type": "stream",
          "text": [
            " Private\n"
          ],
          "name": "stdout"
        }
      ]
    },
    {
      "cell_type": "code",
      "metadata": {
        "id": "1QJ4hwcXCzmv",
        "colab_type": "code",
        "colab": {
          "base_uri": "https://localhost:8080/",
          "height": 35
        },
        "outputId": "1ce5d4bd-7b63-4caf-8bb1-ff0b056a7734"
      },
      "source": [
        "occupation_mode = df_adult.occupation.mode()\n",
        "print(occupation_mode[0])"
      ],
      "execution_count": 36,
      "outputs": [
        {
          "output_type": "stream",
          "text": [
            " Prof-specialty\n"
          ],
          "name": "stdout"
        }
      ]
    },
    {
      "cell_type": "code",
      "metadata": {
        "id": "hIgAUJl1C20x",
        "colab_type": "code",
        "colab": {
          "base_uri": "https://localhost:8080/",
          "height": 35
        },
        "outputId": "2719144c-9e1d-4234-d4b4-011a6edf429a"
      },
      "source": [
        "nativecountry_mode = df_adult.nativecountry.mode()\n",
        "print(nativecountry_mode[0])"
      ],
      "execution_count": 37,
      "outputs": [
        {
          "output_type": "stream",
          "text": [
            " United-States\n"
          ],
          "name": "stdout"
        }
      ]
    },
    {
      "cell_type": "code",
      "metadata": {
        "id": "sFltzR5GVzeN",
        "colab_type": "code",
        "colab": {}
      },
      "source": [
        "df_adult[\"workclass\"].fillna(workclass_mode[0], inplace = True)   #filling null values on 'workclass' in dataframe"
      ],
      "execution_count": 0,
      "outputs": []
    },
    {
      "cell_type": "code",
      "metadata": {
        "id": "BLUoZQeLXXui",
        "colab_type": "code",
        "colab": {}
      },
      "source": [
        "df_adult[\"occupation\"].fillna(occupation_mode[0], inplace = True)   #filling null values on 'occupation' in dataframe"
      ],
      "execution_count": 0,
      "outputs": []
    },
    {
      "cell_type": "code",
      "metadata": {
        "id": "WjgeARWHXkmD",
        "colab_type": "code",
        "colab": {}
      },
      "source": [
        "df_adult[\"nativecountry\"].fillna(nativecountry_mode[0], inplace = True) #filling null values on 'nativecountry' in dataframe"
      ],
      "execution_count": 0,
      "outputs": []
    },
    {
      "cell_type": "code",
      "metadata": {
        "id": "U1gUIp43MPEM",
        "colab_type": "code",
        "colab": {}
      },
      "source": [
        "# for column in df_adult[['workclass', 'occupation', 'nativecountry']]:\n",
        "#     mode = df_adult[column].mode()\n",
        "#     df_adult[column] = df_adult[column].fillna(mode)"
      ],
      "execution_count": 0,
      "outputs": []
    },
    {
      "cell_type": "code",
      "metadata": {
        "id": "DAZp6gMjJ6nt",
        "colab_type": "code",
        "colab": {
          "base_uri": "https://localhost:8080/",
          "height": 295
        },
        "outputId": "b0c26e9b-f970-447f-ce70-75271a8a5325"
      },
      "source": [
        "# looking for NaN values \n",
        "\n",
        "df_adult.isnull().sum()"
      ],
      "execution_count": 41,
      "outputs": [
        {
          "output_type": "execute_result",
          "data": {
            "text/plain": [
              "age               0\n",
              "workclass         0\n",
              "fnlwgt            0\n",
              "education         0\n",
              "education-num     0\n",
              "marital-status    0\n",
              "occupation        0\n",
              "relationship      0\n",
              "race              0\n",
              "sex               0\n",
              "capital-gain      0\n",
              "capital-loss      0\n",
              "hours-per-week    0\n",
              "nativecountry     0\n",
              "income            0\n",
              "dtype: int64"
            ]
          },
          "metadata": {
            "tags": []
          },
          "execution_count": 41
        }
      ]
    },
    {
      "cell_type": "code",
      "metadata": {
        "id": "uDytjAYmZjE5",
        "colab_type": "code",
        "colab": {}
      },
      "source": [
        "# no NaN found after fillna"
      ],
      "execution_count": 0,
      "outputs": []
    },
    {
      "cell_type": "code",
      "metadata": {
        "id": "0v2saDKaYD-q",
        "colab_type": "code",
        "colab": {
          "base_uri": "https://localhost:8080/",
          "height": 997
        },
        "outputId": "ec1a4448-31c5-498e-abbf-9b82e3c91d76"
      },
      "source": [
        "df_adult.head(15)"
      ],
      "execution_count": 42,
      "outputs": [
        {
          "output_type": "execute_result",
          "data": {
            "text/html": [
              "<div>\n",
              "<style scoped>\n",
              "    .dataframe tbody tr th:only-of-type {\n",
              "        vertical-align: middle;\n",
              "    }\n",
              "\n",
              "    .dataframe tbody tr th {\n",
              "        vertical-align: top;\n",
              "    }\n",
              "\n",
              "    .dataframe thead th {\n",
              "        text-align: right;\n",
              "    }\n",
              "</style>\n",
              "<table border=\"1\" class=\"dataframe\">\n",
              "  <thead>\n",
              "    <tr style=\"text-align: right;\">\n",
              "      <th></th>\n",
              "      <th>age</th>\n",
              "      <th>workclass</th>\n",
              "      <th>fnlwgt</th>\n",
              "      <th>education</th>\n",
              "      <th>education-num</th>\n",
              "      <th>marital-status</th>\n",
              "      <th>occupation</th>\n",
              "      <th>relationship</th>\n",
              "      <th>race</th>\n",
              "      <th>sex</th>\n",
              "      <th>capital-gain</th>\n",
              "      <th>capital-loss</th>\n",
              "      <th>hours-per-week</th>\n",
              "      <th>nativecountry</th>\n",
              "      <th>income</th>\n",
              "    </tr>\n",
              "  </thead>\n",
              "  <tbody>\n",
              "    <tr>\n",
              "      <th>0</th>\n",
              "      <td>39</td>\n",
              "      <td>State-gov</td>\n",
              "      <td>77516</td>\n",
              "      <td>Bachelors</td>\n",
              "      <td>13</td>\n",
              "      <td>Never-married</td>\n",
              "      <td>Adm-clerical</td>\n",
              "      <td>Not-in-family</td>\n",
              "      <td>White</td>\n",
              "      <td>Male</td>\n",
              "      <td>2174</td>\n",
              "      <td>0</td>\n",
              "      <td>40</td>\n",
              "      <td>United-States</td>\n",
              "      <td>&lt;=50K</td>\n",
              "    </tr>\n",
              "    <tr>\n",
              "      <th>1</th>\n",
              "      <td>50</td>\n",
              "      <td>Self-emp-not-inc</td>\n",
              "      <td>83311</td>\n",
              "      <td>Bachelors</td>\n",
              "      <td>13</td>\n",
              "      <td>Married-civ-spouse</td>\n",
              "      <td>Exec-managerial</td>\n",
              "      <td>Husband</td>\n",
              "      <td>White</td>\n",
              "      <td>Male</td>\n",
              "      <td>0</td>\n",
              "      <td>0</td>\n",
              "      <td>13</td>\n",
              "      <td>United-States</td>\n",
              "      <td>&lt;=50K</td>\n",
              "    </tr>\n",
              "    <tr>\n",
              "      <th>2</th>\n",
              "      <td>38</td>\n",
              "      <td>Private</td>\n",
              "      <td>215646</td>\n",
              "      <td>HS-grad</td>\n",
              "      <td>9</td>\n",
              "      <td>Divorced</td>\n",
              "      <td>Handlers-cleaners</td>\n",
              "      <td>Not-in-family</td>\n",
              "      <td>White</td>\n",
              "      <td>Male</td>\n",
              "      <td>0</td>\n",
              "      <td>0</td>\n",
              "      <td>40</td>\n",
              "      <td>United-States</td>\n",
              "      <td>&lt;=50K</td>\n",
              "    </tr>\n",
              "    <tr>\n",
              "      <th>3</th>\n",
              "      <td>53</td>\n",
              "      <td>Private</td>\n",
              "      <td>234721</td>\n",
              "      <td>11th</td>\n",
              "      <td>7</td>\n",
              "      <td>Married-civ-spouse</td>\n",
              "      <td>Handlers-cleaners</td>\n",
              "      <td>Husband</td>\n",
              "      <td>Black</td>\n",
              "      <td>Male</td>\n",
              "      <td>0</td>\n",
              "      <td>0</td>\n",
              "      <td>40</td>\n",
              "      <td>United-States</td>\n",
              "      <td>&lt;=50K</td>\n",
              "    </tr>\n",
              "    <tr>\n",
              "      <th>4</th>\n",
              "      <td>28</td>\n",
              "      <td>Private</td>\n",
              "      <td>338409</td>\n",
              "      <td>Bachelors</td>\n",
              "      <td>13</td>\n",
              "      <td>Married-civ-spouse</td>\n",
              "      <td>Prof-specialty</td>\n",
              "      <td>Wife</td>\n",
              "      <td>Black</td>\n",
              "      <td>Female</td>\n",
              "      <td>0</td>\n",
              "      <td>0</td>\n",
              "      <td>40</td>\n",
              "      <td>Cuba</td>\n",
              "      <td>&lt;=50K</td>\n",
              "    </tr>\n",
              "    <tr>\n",
              "      <th>5</th>\n",
              "      <td>37</td>\n",
              "      <td>Private</td>\n",
              "      <td>284582</td>\n",
              "      <td>Masters</td>\n",
              "      <td>14</td>\n",
              "      <td>Married-civ-spouse</td>\n",
              "      <td>Exec-managerial</td>\n",
              "      <td>Wife</td>\n",
              "      <td>White</td>\n",
              "      <td>Female</td>\n",
              "      <td>0</td>\n",
              "      <td>0</td>\n",
              "      <td>40</td>\n",
              "      <td>United-States</td>\n",
              "      <td>&lt;=50K</td>\n",
              "    </tr>\n",
              "    <tr>\n",
              "      <th>6</th>\n",
              "      <td>49</td>\n",
              "      <td>Private</td>\n",
              "      <td>160187</td>\n",
              "      <td>9th</td>\n",
              "      <td>5</td>\n",
              "      <td>Married-spouse-absent</td>\n",
              "      <td>Other-service</td>\n",
              "      <td>Not-in-family</td>\n",
              "      <td>Black</td>\n",
              "      <td>Female</td>\n",
              "      <td>0</td>\n",
              "      <td>0</td>\n",
              "      <td>16</td>\n",
              "      <td>Jamaica</td>\n",
              "      <td>&lt;=50K</td>\n",
              "    </tr>\n",
              "    <tr>\n",
              "      <th>7</th>\n",
              "      <td>52</td>\n",
              "      <td>Self-emp-not-inc</td>\n",
              "      <td>209642</td>\n",
              "      <td>HS-grad</td>\n",
              "      <td>9</td>\n",
              "      <td>Married-civ-spouse</td>\n",
              "      <td>Exec-managerial</td>\n",
              "      <td>Husband</td>\n",
              "      <td>White</td>\n",
              "      <td>Male</td>\n",
              "      <td>0</td>\n",
              "      <td>0</td>\n",
              "      <td>45</td>\n",
              "      <td>United-States</td>\n",
              "      <td>&gt;50K</td>\n",
              "    </tr>\n",
              "    <tr>\n",
              "      <th>8</th>\n",
              "      <td>31</td>\n",
              "      <td>Private</td>\n",
              "      <td>45781</td>\n",
              "      <td>Masters</td>\n",
              "      <td>14</td>\n",
              "      <td>Never-married</td>\n",
              "      <td>Prof-specialty</td>\n",
              "      <td>Not-in-family</td>\n",
              "      <td>White</td>\n",
              "      <td>Female</td>\n",
              "      <td>14084</td>\n",
              "      <td>0</td>\n",
              "      <td>50</td>\n",
              "      <td>United-States</td>\n",
              "      <td>&gt;50K</td>\n",
              "    </tr>\n",
              "    <tr>\n",
              "      <th>9</th>\n",
              "      <td>42</td>\n",
              "      <td>Private</td>\n",
              "      <td>159449</td>\n",
              "      <td>Bachelors</td>\n",
              "      <td>13</td>\n",
              "      <td>Married-civ-spouse</td>\n",
              "      <td>Exec-managerial</td>\n",
              "      <td>Husband</td>\n",
              "      <td>White</td>\n",
              "      <td>Male</td>\n",
              "      <td>5178</td>\n",
              "      <td>0</td>\n",
              "      <td>40</td>\n",
              "      <td>United-States</td>\n",
              "      <td>&gt;50K</td>\n",
              "    </tr>\n",
              "    <tr>\n",
              "      <th>10</th>\n",
              "      <td>37</td>\n",
              "      <td>Private</td>\n",
              "      <td>280464</td>\n",
              "      <td>Some-college</td>\n",
              "      <td>10</td>\n",
              "      <td>Married-civ-spouse</td>\n",
              "      <td>Exec-managerial</td>\n",
              "      <td>Husband</td>\n",
              "      <td>Black</td>\n",
              "      <td>Male</td>\n",
              "      <td>0</td>\n",
              "      <td>0</td>\n",
              "      <td>80</td>\n",
              "      <td>United-States</td>\n",
              "      <td>&gt;50K</td>\n",
              "    </tr>\n",
              "    <tr>\n",
              "      <th>11</th>\n",
              "      <td>30</td>\n",
              "      <td>State-gov</td>\n",
              "      <td>141297</td>\n",
              "      <td>Bachelors</td>\n",
              "      <td>13</td>\n",
              "      <td>Married-civ-spouse</td>\n",
              "      <td>Prof-specialty</td>\n",
              "      <td>Husband</td>\n",
              "      <td>Asian-Pac-Islander</td>\n",
              "      <td>Male</td>\n",
              "      <td>0</td>\n",
              "      <td>0</td>\n",
              "      <td>40</td>\n",
              "      <td>India</td>\n",
              "      <td>&gt;50K</td>\n",
              "    </tr>\n",
              "    <tr>\n",
              "      <th>12</th>\n",
              "      <td>23</td>\n",
              "      <td>Private</td>\n",
              "      <td>122272</td>\n",
              "      <td>Bachelors</td>\n",
              "      <td>13</td>\n",
              "      <td>Never-married</td>\n",
              "      <td>Adm-clerical</td>\n",
              "      <td>Own-child</td>\n",
              "      <td>White</td>\n",
              "      <td>Female</td>\n",
              "      <td>0</td>\n",
              "      <td>0</td>\n",
              "      <td>30</td>\n",
              "      <td>United-States</td>\n",
              "      <td>&lt;=50K</td>\n",
              "    </tr>\n",
              "    <tr>\n",
              "      <th>13</th>\n",
              "      <td>32</td>\n",
              "      <td>Private</td>\n",
              "      <td>205019</td>\n",
              "      <td>Assoc-acdm</td>\n",
              "      <td>12</td>\n",
              "      <td>Never-married</td>\n",
              "      <td>Sales</td>\n",
              "      <td>Not-in-family</td>\n",
              "      <td>Black</td>\n",
              "      <td>Male</td>\n",
              "      <td>0</td>\n",
              "      <td>0</td>\n",
              "      <td>50</td>\n",
              "      <td>United-States</td>\n",
              "      <td>&lt;=50K</td>\n",
              "    </tr>\n",
              "    <tr>\n",
              "      <th>14</th>\n",
              "      <td>40</td>\n",
              "      <td>Private</td>\n",
              "      <td>121772</td>\n",
              "      <td>Assoc-voc</td>\n",
              "      <td>11</td>\n",
              "      <td>Married-civ-spouse</td>\n",
              "      <td>Craft-repair</td>\n",
              "      <td>Husband</td>\n",
              "      <td>Asian-Pac-Islander</td>\n",
              "      <td>Male</td>\n",
              "      <td>0</td>\n",
              "      <td>0</td>\n",
              "      <td>40</td>\n",
              "      <td>United-States</td>\n",
              "      <td>&gt;50K</td>\n",
              "    </tr>\n",
              "  </tbody>\n",
              "</table>\n",
              "</div>"
            ],
            "text/plain": [
              "    age          workclass  fnlwgt  ... hours-per-week   nativecountry  income\n",
              "0    39          State-gov   77516  ...             40   United-States   <=50K\n",
              "1    50   Self-emp-not-inc   83311  ...             13   United-States   <=50K\n",
              "2    38            Private  215646  ...             40   United-States   <=50K\n",
              "3    53            Private  234721  ...             40   United-States   <=50K\n",
              "4    28            Private  338409  ...             40            Cuba   <=50K\n",
              "5    37            Private  284582  ...             40   United-States   <=50K\n",
              "6    49            Private  160187  ...             16         Jamaica   <=50K\n",
              "7    52   Self-emp-not-inc  209642  ...             45   United-States    >50K\n",
              "8    31            Private   45781  ...             50   United-States    >50K\n",
              "9    42            Private  159449  ...             40   United-States    >50K\n",
              "10   37            Private  280464  ...             80   United-States    >50K\n",
              "11   30          State-gov  141297  ...             40           India    >50K\n",
              "12   23            Private  122272  ...             30   United-States   <=50K\n",
              "13   32            Private  205019  ...             50   United-States   <=50K\n",
              "14   40            Private  121772  ...             40   United-States    >50K\n",
              "\n",
              "[15 rows x 15 columns]"
            ]
          },
          "metadata": {
            "tags": []
          },
          "execution_count": 42
        }
      ]
    },
    {
      "cell_type": "code",
      "metadata": {
        "id": "QaCUsWx_Rmbf",
        "colab_type": "code",
        "colab": {
          "base_uri": "https://localhost:8080/",
          "height": 269
        },
        "outputId": "012707cb-175c-4972-af58-12387ad3da77"
      },
      "source": [
        "# Histogram\n",
        "\n",
        "# most of people work between 30 and 40 hours a week\n",
        "\n",
        "df_adult['hours-per-week'].hist(bins=10);"
      ],
      "execution_count": 174,
      "outputs": [
        {
          "output_type": "display_data",
          "data": {
            "image/png": "[encoded data removed]",
            "text/plain": [
              "<Figure size 432x288 with 1 Axes>"
            ]
          },
          "metadata": {
            "tags": []
          }
        }
      ]
    },
    {
      "cell_type": "code",
      "metadata": {
        "id": "a9nIOX8lSb_J",
        "colab_type": "code",
        "colab": {
          "base_uri": "https://localhost:8080/",
          "height": 269
        },
        "outputId": "85c4fe16-bad4-4b42-c42f-6a3904207f50"
      },
      "source": [
        "# Density Plot\n",
        "\n",
        "df_adult['hours-per-week'].plot.density();"
      ],
      "execution_count": 176,
      "outputs": [
        {
          "output_type": "display_data",
          "data": {
            "image/png": "[encoded data removed]",
            "text/plain": [
              "<Figure size 432x288 with 1 Axes>"
            ]
          },
          "metadata": {
            "tags": []
          }
        }
      ]
    },
    {
      "cell_type": "code",
      "metadata": {
        "id": "m6Xw9HyWSuQN",
        "colab_type": "code",
        "colab": {
          "base_uri": "https://localhost:8080/",
          "height": 283
        },
        "outputId": "6d5bb12d-71ed-472b-b062-13de6c0c1fbf"
      },
      "source": [
        "# Scatterplot\n",
        "\n",
        "# on my scatterplot it seems there is no capital gain superior to 100k and no people age superior to 90 years old, so I believe these values had a superior limit previously defined. . \n",
        "\n",
        "df_adult.plot.scatter('age', 'capital-gain');"
      ],
      "execution_count": 181,
      "outputs": [
        {
          "output_type": "display_data",
          "data": {
            "image/png": "[encoded data removed]",
            "text/plain": [
              "<Figure size 432x288 with 1 Axes>"
            ]
          },
          "metadata": {
            "tags": []
          }
        }
      ]
    },
    {
      "cell_type": "markdown",
      "metadata": {
        "id": "MZCxTwKuReV9",
        "colab_type": "text"
      },
      "source": [
        "## Stretch Goals - Other types and sources of data\n",
        "\n",
        "Not all data comes in a nice single file - for example, image classification involves handling lots of image files. You still will probably want labels for them, so you may have tabular data in addition to the image blobs - and the images may be reduced in resolution and even fit in a regular csv as a bunch of numbers.\n",
        "\n",
        "If you're interested in natural language processing and analyzing text, that is another example where, while it can be put in a csv, you may end up loading much larger raw data and generating features that can then be thought of in a more standard tabular fashion.\n",
        "\n",
        "Overall you will in the course of learning data science deal with loading data in a variety of ways. Another common way to get data is from a database - most modern applications are backed by one or more databases, which you can query to get data to analyze. We'll cover this more in our data engineering unit.\n",
        "\n",
        "How does data get in the database? Most applications generate logs - text files with lots and lots of records of each use of the application. Databases are often populated based on these files, but in some situations you may directly analyze log files. The usual way to do this is with command line (Unix) tools - command lines are intimidating, so don't expect to learn them all at once, but depending on your interests it can be useful to practice.\n",
        "\n",
        "One last major source of data is APIs: https://github.com/toddmotto/public-apis\n",
        "\n",
        "API stands for Application Programming Interface, and while originally meant e.g. the way an application interfaced with the GUI or other aspects of an operating system, now it largely refers to online services that let you query and retrieve data. You can essentially think of most of them as \"somebody else's database\" - you have (usually limited) access.\n",
        "\n",
        "*Stretch goal* - research one of the above extended forms of data/data loading. See if you can get a basic example working in a notebook. Image, text, or (public) APIs are probably more tractable - databases are interesting, but there aren't many publicly accessible and they require a great deal of setup."
      ]
    },
    {
      "cell_type": "code",
      "metadata": {
        "id": "f4QP6--JBXNK",
        "colab_type": "code",
        "colab": {
          "base_uri": "https://localhost:8080/",
          "height": 1000
        },
        "outputId": "be5d11bb-d57f-44c6-f135-4ee9449c3568"
      },
      "source": [
        "# I sign up for the New York Times developers in 'https://developer.nytimes.com/' and decided to look for movies review information. For this I had to get a key for this specific API catalog. \n",
        "# to access the API content and get the data I had to import some Python libraries as numpy, pandas, requests and json.\n",
        "\n",
        "import numpy as np\n",
        "import pandas as pd\n",
        "import requests\n",
        "import json\n",
        "\n",
        "url = 'https://api.nytimes.com/svc/movies/v2/reviews/search.json?api-key=FgAUqHe9kECN1ACRfWateG3VgUfxJzU4'\n",
        "# FgAUqHe9kECN1ACRfWateG3VgUfxJzU4\n",
        "\n",
        "JSONContent = requests.get(url).json()\n",
        "content = json.dumps(JSONContent, indent = 4, sort_keys=True)\n",
        "print(content)"
      ],
      "execution_count": 43,
      "outputs": [
        {
          "output_type": "stream",
          "text": [
            "{\n",
            "    \"copyright\": \"Copyright (c) 2019 The New York Times Company. All Rights Reserved.\",\n",
            "    \"has_more\": true,\n",
            "    \"num_results\": 20,\n",
            "    \"results\": [\n",
            "        {\n",
            "            \"byline\": \"MANOHLA DARGIS\",\n",
            "            \"critics_pick\": 0,\n",
            "            \"date_updated\": \"2019-09-03 19:52:02\",\n",
            "            \"display_title\": \"\\u00c1ga\",\n",
            "            \"headline\": \"\\u2018Aga\\u2019 Review: A Little Yurt in a Big World\",\n",
            "            \"link\": {\n",
            "                \"suggested_link_text\": \"Read the New York Times Review of \\u00c1ga\",\n",
            "                \"type\": \"article\",\n",
            "                \"url\": \"http://www.nytimes.com/2019/09/03/movies/aga-review.html\"\n",
            "            },\n",
            "            \"mpaa_rating\": \"\",\n",
            "            \"multimedia\": {\n",
            "                \"height\": 140,\n",
            "                \"src\": \"https://static01.nyt.com/images/2019/09/03/arts/03aga1/03aga1-mediumThreeByTwo210-v2.jpg\",\n",
            "                \"type\": \"mediumThreeByTwo210\",\n",
            "                \"width\": 210\n",
            "            },\n",
            "            \"opening_date\": \"2019-09-04\",\n",
            "            \"publication_date\": \"2019-09-03\",\n",
            "            \"summary_short\": \"A man and woman, isolated in a stark, snowy Russian wilderness, seem lost, both in time and in this slow-boiling melodrama.\"\n",
            "        },\n",
            "        {\n",
            "            \"byline\": \"A.O. SCOTT\",\n",
            "            \"critics_pick\": 0,\n",
            "            \"date_updated\": \"2019-09-03 16:44:26\",\n",
            "            \"display_title\": \"It Chapter Two\",\n",
            "            \"headline\": \"\\u2018It Chapter Two\\u2019 Review: Send in the Clown, Again\",\n",
            "            \"link\": {\n",
            "                \"suggested_link_text\": \"Read the New York Times Review of It Chapter Two\",\n",
            "                \"type\": \"article\",\n",
            "                \"url\": \"http://www.nytimes.com/2019/09/03/movies/it-chapter-two-review.html\"\n",
            "            },\n",
            "            \"mpaa_rating\": \"R\",\n",
            "            \"multimedia\": {\n",
            "                \"height\": 140,\n",
            "                \"src\": \"https://static01.nyt.com/images/2019/09/03/arts/it1/it1-mediumThreeByTwo210.jpg\",\n",
            "                \"type\": \"mediumThreeByTwo210\",\n",
            "                \"width\": 210\n",
            "            },\n",
            "            \"opening_date\": \"2019-09-06\",\n",
            "            \"publication_date\": \"2019-09-03\",\n",
            "            \"summary_short\": \"He\\u2019s already here.\"\n",
            "        },\n",
            "        {\n",
            "            \"byline\": \"HELEN T. VERONGOS\",\n",
            "            \"critics_pick\": 0,\n",
            "            \"date_updated\": \"2019-09-02 11:04:03\",\n",
            "            \"display_title\": \"Untouchable\",\n",
            "            \"headline\": \"\\u2018Untouchable\\u2019 Review: A Documentary of the Harvey Weinstein Case\",\n",
            "            \"link\": {\n",
            "                \"suggested_link_text\": \"Read the New York Times Review of Untouchable\",\n",
            "                \"type\": \"article\",\n",
            "                \"url\": \"http://www.nytimes.com/2019/09/02/movies/untouchable-review.html\"\n",
            "            },\n",
            "            \"mpaa_rating\": \"\",\n",
            "            \"multimedia\": {\n",
            "                \"height\": 140,\n",
            "                \"src\": \"https://static01.nyt.com/images/2019/09/04/arts/02UNTOUCHABLE-PIX/02UNTOUCHABLE-PIX-mediumThreeByTwo210.jpg\",\n",
            "                \"type\": \"mediumThreeByTwo210\",\n",
            "                \"width\": 210\n",
            "            },\n",
            "            \"opening_date\": null,\n",
            "            \"publication_date\": \"2019-09-02\",\n",
            "            \"summary_short\": \"Ursula Macfarlane takes a thorough look at developments so far in the most dramatic story of the #MeToo movement.\"\n",
            "        },\n",
            "        {\n",
            "            \"byline\": \"RACHEL SALTZ\",\n",
            "            \"critics_pick\": 0,\n",
            "            \"date_updated\": \"2019-09-03 16:44:25\",\n",
            "            \"display_title\": \"Saaho\",\n",
            "            \"headline\": \"\\u2018Saaho\\u2019 Review: Mayhem on an International Scale\",\n",
            "            \"link\": {\n",
            "                \"suggested_link_text\": \"Read the New York Times Review of Saaho\",\n",
            "                \"type\": \"article\",\n",
            "                \"url\": \"http://www.nytimes.com/2019/09/01/movies/saaho-review.html\"\n",
            "            },\n",
            "            \"mpaa_rating\": \"Not Rated\",\n",
            "            \"multimedia\": {\n",
            "                \"height\": 140,\n",
            "                \"src\": \"https://static01.nyt.com/images/2019/08/29/arts/00saaho-1/00saaho-1-mediumThreeByTwo210.jpg\",\n",
            "                \"type\": \"mediumThreeByTwo210\",\n",
            "                \"width\": 210\n",
            "            },\n",
            "            \"opening_date\": \"2019-08-30\",\n",
            "            \"publication_date\": \"2019-09-01\",\n",
            "            \"summary_short\": \"Prabhas cuts a path of destruction in this convoluted Indian action movie.\"\n",
            "        },\n",
            "        {\n",
            "            \"byline\": \"GLENN KENNY\",\n",
            "            \"critics_pick\": 1,\n",
            "            \"date_updated\": \"2019-09-03 16:44:24\",\n",
            "            \"display_title\": \"The Load\",\n",
            "            \"headline\": \"\\u2018The Load\\u2019 Review: Meeting History on the Road From Kosovo to Serbia\",\n",
            "            \"link\": {\n",
            "                \"suggested_link_text\": \"Read the New York Times Review of The Load\",\n",
            "                \"type\": \"article\",\n",
            "                \"url\": \"http://www.nytimes.com/2019/08/29/movies/the-load-review.html\"\n",
            "            },\n",
            "            \"mpaa_rating\": \"\",\n",
            "            \"multimedia\": {\n",
            "                \"height\": 140,\n",
            "                \"src\": \"https://static01.nyt.com/images/2019/08/30/arts/30load/merlin_159572397_275880fb-67bf-45d6-afac-d3e768c06ee7-mediumThreeByTwo210.jpg\",\n",
            "                \"type\": \"mediumThreeByTwo210\",\n",
            "                \"width\": 210\n",
            "            },\n",
            "            \"opening_date\": \"2019-08-30\",\n",
            "            \"publication_date\": \"2019-08-29\",\n",
            "            \"summary_short\": \"Set in a Yugoslavia wracked by violence, the film puts across powerful questions of individual responsibility in the face of atrocity.\"\n",
            "        },\n",
            "        {\n",
            "            \"byline\": \"MANOHLA DARGIS\",\n",
            "            \"critics_pick\": 0,\n",
            "            \"date_updated\": \"2019-09-03 16:44:25\",\n",
            "            \"display_title\": \"Don't Let Go\",\n",
            "            \"headline\": \"\\u2018Don\\u2019t Let Go\\u2019 Review: Murder Leads to a Time-Bending Trip\",\n",
            "            \"link\": {\n",
            "                \"suggested_link_text\": \"Read the New York Times Review of Don't Let Go\",\n",
            "                \"type\": \"article\",\n",
            "                \"url\": \"http://www.nytimes.com/2019/08/29/movies/dont-let-go-review.html\"\n",
            "            },\n",
            "            \"mpaa_rating\": \"R\",\n",
            "            \"multimedia\": {\n",
            "                \"height\": 140,\n",
            "                \"src\": \"https://static01.nyt.com/images/2019/08/30/arts/00dontletgo-1/merlin_159624399_457f8c63-ef76-41c6-9760-55afd8be6f2d-mediumThreeByTwo210.jpg\",\n",
            "                \"type\": \"mediumThreeByTwo210\",\n",
            "                \"width\": 210\n",
            "            },\n",
            "            \"opening_date\": \"2019-08-30\",\n",
            "            \"publication_date\": \"2019-08-29\",\n",
            "            \"summary_short\": \"David Oyelowo stars as a Los Angeles detective whose family is slaughtered in this intimate genre mash-up.\"\n",
            "        },\n",
            "        {\n",
            "            \"byline\": \"HELEN T. VERONGOS\",\n",
            "            \"critics_pick\": 0,\n",
            "            \"date_updated\": \"2019-08-29 15:02:02\",\n",
            "            \"display_title\": \"Falling Inn Love\",\n",
            "            \"headline\": \"\\u2018Falling Inn Love\\u2019 Review: A Prize That Needs Some Work\",\n",
            "            \"link\": {\n",
            "                \"suggested_link_text\": \"Read the New York Times Review of Falling Inn Love\",\n",
            "                \"type\": \"article\",\n",
            "                \"url\": \"http://www.nytimes.com/2019/08/29/movies/falling-inn-love-review.html\"\n",
            "            },\n",
            "            \"mpaa_rating\": \"\",\n",
            "            \"multimedia\": {\n",
            "                \"height\": 140,\n",
            "                \"src\": \"https://static01.nyt.com/images/2019/08/30/arts/00FALLING-INN-LOVE/00FALLING-INN-LOVE-mediumThreeByTwo210.jpg\",\n",
            "                \"type\": \"mediumThreeByTwo210\",\n",
            "                \"width\": 210\n",
            "            },\n",
            "            \"opening_date\": \"2019-08-29\",\n",
            "            \"publication_date\": \"2019-08-29\",\n",
            "            \"summary_short\": \"It\\u2019s hard to find a reliable, talented, reasonably priced, eco-friendly contractor these days.\"\n",
            "        },\n",
            "        {\n",
            "            \"byline\": \"GLENN KENNY\",\n",
            "            \"critics_pick\": 0,\n",
            "            \"date_updated\": \"2019-09-03 16:44:24\",\n",
            "            \"display_title\": \"Before You Know It\",\n",
            "            \"headline\": \"\\u2018Before You Know It\\u2019 Review: An Old-School Dysfunctional Bohemian Family in New York\",\n",
            "            \"link\": {\n",
            "                \"suggested_link_text\": \"Read the New York Times Review of Before You Know It\",\n",
            "                \"type\": \"article\",\n",
            "                \"url\": \"http://www.nytimes.com/2019/08/29/movies/before-you-know-it-review.html\"\n",
            "            },\n",
            "            \"mpaa_rating\": \"\",\n",
            "            \"multimedia\": {\n",
            "                \"height\": 140,\n",
            "                \"src\": \"https://static01.nyt.com/images/2019/08/29/arts/29before/merlin_159572076_9a238da4-2ff3-4142-82a5-70625635632a-mediumThreeByTwo210.jpg\",\n",
            "                \"type\": \"mediumThreeByTwo210\",\n",
            "                \"width\": 210\n",
            "            },\n",
            "            \"opening_date\": \"2019-08-30\",\n",
            "            \"publication_date\": \"2019-08-29\",\n",
            "            \"summary_short\": \"With Mandy Patinkin as a coming-apart dad and Judith Light as a long-lost mom, \\u2018Before You Know It\\u2019 is a cozily familiar mess.\"\n",
            "        },\n",
            "        {\n",
            "            \"byline\": \"JEANNETTE CATSOULIS\",\n",
            "            \"critics_pick\": 0,\n",
            "            \"date_updated\": \"2019-09-03 16:44:23\",\n",
            "            \"display_title\": \"Angel of Mine\",\n",
            "            \"headline\": \"\\u2018Angel of Mine\\u2019 Review: Baby, Come Back\",\n",
            "            \"link\": {\n",
            "                \"suggested_link_text\": \"Read the New York Times Review of Angel of Mine\",\n",
            "                \"type\": \"article\",\n",
            "                \"url\": \"http://www.nytimes.com/2019/08/29/movies/angel-of-mine-review.html\"\n",
            "            },\n",
            "            \"mpaa_rating\": \"R\",\n",
            "            \"multimedia\": {\n",
            "                \"height\": 140,\n",
            "                \"src\": \"https://static01.nyt.com/images/2019/08/28/arts/angelofmine1/angelofmine1-mediumThreeByTwo210.jpg\",\n",
            "                \"type\": \"mediumThreeByTwo210\",\n",
            "                \"width\": 210\n",
            "            },\n",
            "            \"opening_date\": \"2019-08-30\",\n",
            "            \"publication_date\": \"2019-08-29\",\n",
            "            \"summary_short\": \"In this chilly, predictable stalker mystery, Noomi Rapace plays a bereaved mother obsessed with another woman\\u2019s daughter.\"\n",
            "        },\n",
            "        {\n",
            "            \"byline\": \"BEN KENIGSBERG\",\n",
            "            \"critics_pick\": 0,\n",
            "            \"date_updated\": \"2019-09-03 16:44:23\",\n",
            "            \"display_title\": \"Ne Zha\",\n",
            "            \"headline\": \"\\u2018Ne Zha\\u2019 Review: An Origin Story From Chinese Mythology\",\n",
            "            \"link\": {\n",
            "                \"suggested_link_text\": \"Read the New York Times Review of Ne Zha\",\n",
            "                \"type\": \"article\",\n",
            "                \"url\": \"http://www.nytimes.com/2019/08/29/movies/ne-zha-review.html\"\n",
            "            },\n",
            "            \"mpaa_rating\": \"\",\n",
            "            \"multimedia\": {\n",
            "                \"height\": 140,\n",
            "                \"src\": \"https://static01.nyt.com/images/2019/08/29/arts/29nezhapix/29nezhapix-mediumThreeByTwo210.jpg\",\n",
            "                \"type\": \"mediumThreeByTwo210\",\n",
            "                \"width\": 210\n",
            "            },\n",
            "            \"opening_date\": null,\n",
            "            \"publication_date\": \"2019-08-29\",\n",
            "            \"summary_short\": \"In this animated feature, a boy is born as the reincarnation of a demon, and that makes things a little complicated.\"\n",
            "        },\n",
            "        {\n",
            "            \"byline\": \"JEANNETTE CATSOULIS\",\n",
            "            \"critics_pick\": 0,\n",
            "            \"date_updated\": \"2019-09-03 16:44:23\",\n",
            "            \"display_title\": \"Killerman\",\n",
            "            \"headline\": \"\\u2018Killerman\\u2019 Review: Don\\u2019t Remember My Name\",\n",
            "            \"link\": {\n",
            "                \"suggested_link_text\": \"Read the New York Times Review of Killerman\",\n",
            "                \"type\": \"article\",\n",
            "                \"url\": \"http://www.nytimes.com/2019/08/29/movies/killerman-review.html\"\n",
            "            },\n",
            "            \"mpaa_rating\": \"R\",\n",
            "            \"multimedia\": {\n",
            "                \"height\": 140,\n",
            "                \"src\": \"https://static01.nyt.com/images/2019/08/27/arts/killerman1/killerman1-mediumThreeByTwo210.jpg\",\n",
            "                \"type\": \"mediumThreeByTwo210\",\n",
            "                \"width\": 210\n",
            "            },\n",
            "            \"opening_date\": \"2019-08-30\",\n",
            "            \"publication_date\": \"2019-08-29\",\n",
            "            \"summary_short\": \"Liam Hemsworth plays an amnesiac money launderer fleeing corrupt cops in this grimily satisfying thriller.\"\n",
            "        },\n",
            "        {\n",
            "            \"byline\": \"GLENN KENNY\",\n",
            "            \"critics_pick\": 0,\n",
            "            \"date_updated\": \"2019-09-03 16:44:22\",\n",
            "            \"display_title\": \"The Fanatic\",\n",
            "            \"headline\": \"\\u2018The Fanatic\\u2019 Review: John Travolta as a Troubled Devotee\",\n",
            "            \"link\": {\n",
            "                \"suggested_link_text\": \"Read the New York Times Review of The Fanatic\",\n",
            "                \"type\": \"article\",\n",
            "                \"url\": \"http://www.nytimes.com/2019/08/29/movies/the-fanatic-review.html\"\n",
            "            },\n",
            "            \"mpaa_rating\": \"R\",\n",
            "            \"multimedia\": {\n",
            "                \"height\": 140,\n",
            "                \"src\": \"https://static01.nyt.com/images/2019/08/30/arts/fanatic1/fanatic1-mediumThreeByTwo210-v2.jpg\",\n",
            "                \"type\": \"mediumThreeByTwo210\",\n",
            "                \"width\": 210\n",
            "            },\n",
            "            \"opening_date\": \"2019-08-30\",\n",
            "            \"publication_date\": \"2019-08-29\",\n",
            "            \"summary_short\": \"Sporting the worst looking hair of his entire career, the actor plays Moose, a genre-movie enthusiast and autograph hound.\"\n",
            "        },\n",
            "        {\n",
            "            \"byline\": \"MANOHLA DARGIS\",\n",
            "            \"critics_pick\": 0,\n",
            "            \"date_updated\": \"2019-09-03 16:44:22\",\n",
            "            \"display_title\": \"Official Secrets\",\n",
            "            \"headline\": \"\\u2018Official Secrets\\u2019 Review: Betraying Her Government for Her Country\",\n",
            "            \"link\": {\n",
            "                \"suggested_link_text\": \"Read the New York Times Review of Official Secrets\",\n",
            "                \"type\": \"article\",\n",
            "                \"url\": \"http://www.nytimes.com/2019/08/28/movies/official-secrets-review.html\"\n",
            "            },\n",
            "            \"mpaa_rating\": \"R\",\n",
            "            \"multimedia\": {\n",
            "                \"height\": 140,\n",
            "                \"src\": \"https://static01.nyt.com/images/2019/08/30/arts/00official-1/merlin_159571680_42a49972-02f4-4202-8879-bbc846bcd09f-mediumThreeByTwo210.jpg\",\n",
            "                \"type\": \"mediumThreeByTwo210\",\n",
            "                \"width\": 210\n",
            "            },\n",
            "            \"opening_date\": \"2019-08-30\",\n",
            "            \"publication_date\": \"2019-08-28\",\n",
            "            \"summary_short\": \"Keira Knightley plays a British intelligence officer turned whistle-blower who tried to stop the 2003 invasion of Iraq.\"\n",
            "        },\n",
            "        {\n",
            "            \"byline\": \"BEN KENIGSBERG\",\n",
            "            \"critics_pick\": 0,\n",
            "            \"date_updated\": \"2019-09-03 16:44:22\",\n",
            "            \"display_title\": \"The Miracle of the Little Prince\",\n",
            "            \"headline\": \"\\u2018The Miracle of the Little Prince\\u2019 Review: A Children\\u2019s Book Turned Rosetta Stone\",\n",
            "            \"link\": {\n",
            "                \"suggested_link_text\": \"Read the New York Times Review of The Miracle of the Little Prince\",\n",
            "                \"type\": \"article\",\n",
            "                \"url\": \"http://www.nytimes.com/2019/08/27/movies/the-miracle-of-the-little-prince-review.html\"\n",
            "            },\n",
            "            \"mpaa_rating\": \"\",\n",
            "            \"multimedia\": {\n",
            "                \"height\": 140,\n",
            "                \"src\": \"https://static01.nyt.com/images/2019/08/28/arts/27littleprince/27littleprince-mediumThreeByTwo210.jpg\",\n",
            "                \"type\": \"mediumThreeByTwo210\",\n",
            "                \"width\": 210\n",
            "            },\n",
            "            \"opening_date\": \"2019-08-28\",\n",
            "            \"publication_date\": \"2019-08-27\",\n",
            "            \"summary_short\": \"A classic story lends itself to a new tale of endangered languages.\"\n",
            "        },\n",
            "        {\n",
            "            \"byline\": \"BEN KENIGSBERG\",\n",
            "            \"critics_pick\": 1,\n",
            "            \"date_updated\": \"2019-08-30 16:44:02\",\n",
            "            \"display_title\": \"Jawline\",\n",
            "            \"headline\": \"\\u2018Jawline\\u2019 Review: Lives Measured in Follower Counts\",\n",
            "            \"link\": {\n",
            "                \"suggested_link_text\": \"Read the New York Times Review of Jawline\",\n",
            "                \"type\": \"article\",\n",
            "                \"url\": \"http://www.nytimes.com/2019/08/22/movies/jawline-review.html\"\n",
            "            },\n",
            "            \"mpaa_rating\": \"\",\n",
            "            \"multimedia\": {\n",
            "                \"height\": 140,\n",
            "                \"src\": \"https://static01.nyt.com/images/2019/08/23/arts/22jawline/22jawline-mediumThreeByTwo210-v2.jpg\",\n",
            "                \"type\": \"mediumThreeByTwo210\",\n",
            "                \"width\": 210\n",
            "            },\n",
            "            \"opening_date\": \"2019-08-23\",\n",
            "            \"publication_date\": \"2019-08-22\",\n",
            "            \"summary_short\": \"Behind the laughs in this new documentary about social-media stars lies an unsettling account of the Generation-Z influencer economy.\"\n",
            "        },\n",
            "        {\n",
            "            \"byline\": \"BEN KENIGSBERG\",\n",
            "            \"critics_pick\": 1,\n",
            "            \"date_updated\": \"2019-09-03 16:44:20\",\n",
            "            \"display_title\": \"Gen\\u00e8se\",\n",
            "            \"headline\": \"Gen\\u00e8se Review: Crossing Borders Between Films\",\n",
            "            \"link\": {\n",
            "                \"suggested_link_text\": \"Read the New York Times Review of Gen\\u00e8se\",\n",
            "                \"type\": \"article\",\n",
            "                \"url\": \"http://www.nytimes.com/2019/08/22/movies/genese-review.html\"\n",
            "            },\n",
            "            \"mpaa_rating\": \"\",\n",
            "            \"multimedia\": {\n",
            "                \"height\": 140,\n",
            "                \"src\": \"https://static01.nyt.com/images/2019/08/22/arts/22genesepix/22genesepix-mediumThreeByTwo210.jpg\",\n",
            "                \"type\": \"mediumThreeByTwo210\",\n",
            "                \"width\": 210\n",
            "            },\n",
            "            \"opening_date\": \"2019-08-23\",\n",
            "            \"publication_date\": \"2019-08-22\",\n",
            "            \"summary_short\": \"Philippe Lesage takes chances, and succeeds with boldly original form and narrative.\"\n",
            "        },\n",
            "        {\n",
            "            \"byline\": \"JASON ZINOMAN\",\n",
            "            \"critics_pick\": 1,\n",
            "            \"date_updated\": \"2019-09-03 16:44:18\",\n",
            "            \"display_title\": \"Fiddler: A Miracle of Miracles\",\n",
            "            \"headline\": \"\\u2018Fiddler: A Miracle of Miracles\\u2019 Review: Inside a Broadway \\u2026 Tradition!\",\n",
            "            \"link\": {\n",
            "                \"suggested_link_text\": \"Read the New York Times Review of Fiddler: A Miracle of Miracles\",\n",
            "                \"type\": \"article\",\n",
            "                \"url\": \"http://www.nytimes.com/2019/08/22/movies/fiddler-a-miracle-of-miracles-review.html\"\n",
            "            },\n",
            "            \"mpaa_rating\": \"PG-13\",\n",
            "            \"multimedia\": {\n",
            "                \"height\": 140,\n",
            "                \"src\": \"https://static01.nyt.com/images/2019/08/23/arts/fiddler1/fiddler1-mediumThreeByTwo210.jpg\",\n",
            "                \"type\": \"mediumThreeByTwo210\",\n",
            "                \"width\": 210\n",
            "            },\n",
            "            \"opening_date\": \"2019-08-23\",\n",
            "            \"publication_date\": \"2019-08-22\",\n",
            "            \"summary_short\": \"A fascinating love letter to \\u201cFiddler on the Roof\\u201d asks: What makes the quintessentially Jewish musical speak to everyone?\"\n",
            "        },\n",
            "        {\n",
            "            \"byline\": \"BEN KENIGSBERG\",\n",
            "            \"critics_pick\": 0,\n",
            "            \"date_updated\": \"2019-08-22 16:56:02\",\n",
            "            \"display_title\": \"The Banana Splits Movie\",\n",
            "            \"headline\": \"\\u2018The Banana Splits Movie\\u2019 Review: Tra La La Ahhhhhh!\",\n",
            "            \"link\": {\n",
            "                \"suggested_link_text\": \"Read the New York Times Review of The Banana Splits Movie\",\n",
            "                \"type\": \"article\",\n",
            "                \"url\": \"http://www.nytimes.com/2019/08/22/movies/banana-splits-movie-review.html\"\n",
            "            },\n",
            "            \"mpaa_rating\": \"R\",\n",
            "            \"multimedia\": {\n",
            "                \"height\": 140,\n",
            "                \"src\": \"https://static01.nyt.com/images/2019/08/13/arts/22bananasplits/13banana-splits1-mediumThreeByTwo210.jpg\",\n",
            "                \"type\": \"mediumThreeByTwo210\",\n",
            "                \"width\": 210\n",
            "            },\n",
            "            \"opening_date\": \"2019-08-13\",\n",
            "            \"publication_date\": \"2019-08-22\",\n",
            "            \"summary_short\": \"The fun-loving fur balls of a classic Hanna-Barbera children\\u2019s show get a cinematic reboot. This time they\\u2019re out for blood.\"\n",
            "        },\n",
            "        {\n",
            "            \"byline\": \"BILGE EBIRI\",\n",
            "            \"critics_pick\": 0,\n",
            "            \"date_updated\": \"2019-08-30 16:44:02\",\n",
            "            \"display_title\": \"Hot Air\",\n",
            "            \"headline\": \"\\u2018Hot Air\\u2019 Review: A Right-Wing Radio Host Learns to Love Again\",\n",
            "            \"link\": {\n",
            "                \"suggested_link_text\": \"Read the New York Times Review of Hot Air\",\n",
            "                \"type\": \"article\",\n",
            "                \"url\": \"http://www.nytimes.com/2019/08/22/movies/hot-air-review.html\"\n",
            "            },\n",
            "            \"mpaa_rating\": \"Not Rated\",\n",
            "            \"multimedia\": {\n",
            "                \"height\": 140,\n",
            "                \"src\": \"https://static01.nyt.com/images/2019/08/21/arts/hotair1/hotair1-mediumThreeByTwo210.jpg\",\n",
            "                \"type\": \"mediumThreeByTwo210\",\n",
            "                \"width\": 210\n",
            "            },\n",
            "            \"opening_date\": \"2019-08-23\",\n",
            "            \"publication_date\": \"2019-08-22\",\n",
            "            \"summary_short\": \"Steve Coogan stars in this cumbersome political comedy.\"\n",
            "        },\n",
            "        {\n",
            "            \"byline\": \"GLENN KENNY\",\n",
            "            \"critics_pick\": 0,\n",
            "            \"date_updated\": \"2019-08-22 15:16:03\",\n",
            "            \"display_title\": \"No Place Like Home: Redux\",\n",
            "            \"headline\": \"\\u2018No Place Like Home\\u2019 Review: Self-Discovery in Jamaica\",\n",
            "            \"link\": {\n",
            "                \"suggested_link_text\": \"Read the New York Times Review of No Place Like Home: Redux\",\n",
            "                \"type\": \"article\",\n",
            "                \"url\": \"http://www.nytimes.com/2019/08/22/movies/no-place-like-home-review.html\"\n",
            "            },\n",
            "            \"mpaa_rating\": \"\",\n",
            "            \"multimedia\": {\n",
            "                \"height\": 140,\n",
            "                \"src\": \"https://static01.nyt.com/images/2019/08/23/arts/23NOPLACE/23NOPLACE-mediumThreeByTwo210-v2.jpg\",\n",
            "                \"type\": \"mediumThreeByTwo210\",\n",
            "                \"width\": 210\n",
            "            },\n",
            "            \"opening_date\": \"2019-08-20\",\n",
            "            \"publication_date\": \"2019-08-22\",\n",
            "            \"summary_short\": \"A lively reggae soundtrack and a Jamaican setting: It\\u2019s not \\u201cThe Harder They Come\\u201d but Perry Henzell\\u2019s long-lost follow-up to it.\"\n",
            "        }\n",
            "    ],\n",
            "    \"status\": \"OK\"\n",
            "}\n"
          ],
          "name": "stdout"
        }
      ]
    }
  ]
}