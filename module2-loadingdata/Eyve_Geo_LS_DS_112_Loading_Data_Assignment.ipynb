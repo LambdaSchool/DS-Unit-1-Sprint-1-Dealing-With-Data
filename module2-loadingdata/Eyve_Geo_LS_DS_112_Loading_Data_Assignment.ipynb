{
  "nbformat": 4,
  "nbformat_minor": 0,
  "metadata": {
    "colab": {
      "name": "Eyve Geo LS_DS_112_Loading_Data_Assignment.ipynb",
      "version": "0.3.2",
      "provenance": [],
      "collapsed_sections": [],
      "toc_visible": true,
      "include_colab_link": true
    },
    "kernelspec": {
      "name": "python3",
      "display_name": "Python 3"
    }
  },
  "cells": [
    {
      "cell_type": "markdown",
      "metadata": {
        "id": "view-in-github",
        "colab_type": "text"
      },
      "source": [
        "<a href=\"https://colab.research.google.com/github/eyvonne/DS-Unit-1-Sprint-1-Dealing-With-Data/blob/master/module2-loadingdata/Eyve_Geo_LS_DS_112_Loading_Data_Assignment.ipynb\" target=\"_parent\"><img src=\"https://colab.research.google.com/assets/colab-badge.svg\" alt=\"Open In Colab\"/></a>"
      ]
    },
    {
      "cell_type": "markdown",
      "metadata": {
        "colab_type": "text",
        "id": "MSnsTgZLKO72"
      },
      "source": [
        "# Practice Loading Datasets\n",
        "\n",
        "This assignment is purposely semi-open-ended you will be asked to load datasets both from github and also from CSV files from the [UC Irvine Machine Learning Repository](https://archive.ics.uci.edu/ml/index.php). \n",
        "\n",
        "Remember that the UCI datasets may not have a file type of `.csv` so it's important that you learn as much as you can about the dataset before you try and load it. See if you can look at the raw text of the file either locally, on github, using the `!curl` shell command, or in some other way before you try and read it in as a dataframe, this will help you catch what would otherwise be unforseen problems.\n"
      ]
    },
    {
      "cell_type": "markdown",
      "metadata": {
        "id": "156P6ndeKojO",
        "colab_type": "text"
      },
      "source": [
        "## 1) Load a dataset from Github (via its *RAW* URL)\n",
        "\n",
        "Pick a dataset from the following repository and load it into Google Colab. Make sure that the headers are what you would expect and check to see if missing values have been encoded as NaN values:\n",
        "\n",
        "<https://github.com/ryanleeallred/datasets>"
      ]
    },
    {
      "cell_type": "code",
      "metadata": {
        "id": "KmRNQpf9gXc0",
        "colab_type": "code",
        "colab": {}
      },
      "source": [
        "import pandas as pd"
      ],
      "execution_count": 0,
      "outputs": []
    },
    {
      "cell_type": "code",
      "metadata": {
        "id": "NJdISe69ZT7E",
        "colab_type": "code",
        "outputId": "98d0bce4-a8a3-45ca-a48b-f968f1baca64",
        "colab": {
          "base_uri": "https://localhost:8080/",
          "height": 409
        }
      },
      "source": [
        "# TODO your work here!\n",
        "# And note you should write comments, descriptions, and add new\n",
        "# code and text blocks as needed\n",
        "\n",
        "data_url='https://github.com/ryanleeallred/datasets/blob/master/tmdb_5000_movies.csv?raw=true'\n",
        "movies=pd.read_csv(data_url)\n",
        "movies.isna().sum()"
      ],
      "execution_count": 101,
      "outputs": [
        {
          "output_type": "execute_result",
          "data": {
            "text/plain": [
              "budget                     0\n",
              "genres                     0\n",
              "homepage                3091\n",
              "id                         0\n",
              "keywords                   0\n",
              "original_language          0\n",
              "original_title             0\n",
              "overview                   3\n",
              "popularity                 0\n",
              "production_companies       0\n",
              "production_countries       0\n",
              "release_date               1\n",
              "revenue                    0\n",
              "runtime                    2\n",
              "spoken_languages           0\n",
              "status                     0\n",
              "tagline                  844\n",
              "title                      0\n",
              "vote_average               0\n",
              "vote_count                 0\n",
              "dtype: int64"
            ]
          },
          "metadata": {
            "tags": []
          },
          "execution_count": 101
        }
      ]
    },
    {
      "cell_type": "markdown",
      "metadata": {
        "id": "-gFnZR6iLLPY",
        "colab_type": "text"
      },
      "source": [
        "## 2) Load a dataset from your local machine\n",
        "Download a dataset from the [UC Irvine Machine Learning Repository](https://archive.ics.uci.edu/ml/index.php) and then upload the file to Google Colab either using the files tab in the left-hand sidebar or by importing `files` from `google.colab` The following link will be a useful resource if you can't remember the syntax: <https://towardsdatascience.com/3-ways-to-load-csv-files-into-colab-7c14fcbdcb92>\n",
        "\n",
        "While you are free to try and load any dataset from the UCI repository, I strongly suggest starting with one of the most popular datasets like those that are featured on the right-hand side of the home page. \n",
        "\n",
        "Some datasets on UCI will have challenges associated with importing them far beyond what we have exposed you to in class today, so if you run into a dataset that you don't know how to deal with, struggle with it for a little bit, but ultimately feel free to simply choose a different one. \n",
        "\n",
        "- Make sure that your file has correct headers, and the same number of rows and columns as is specified on the UCI page. If your dataset doesn't have headers use the parameters of the `read_csv` function to add them. Likewise make sure that missing values are encoded as `NaN`."
      ]
    },
    {
      "cell_type": "code",
      "metadata": {
        "id": "qUmwX-ZoM9cq",
        "colab_type": "code",
        "outputId": "0e736d38-6889-4762-f0dd-b3c7c9bc3ad3",
        "colab": {
          "resources": {
            "http://localhost:8080/nbextensions/google.colab/files.js": {
              "data": "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",
              "ok": true,
              "headers": [
                [
                  "content-type",
                  "application/javascript"
                ]
              ],
              "status": 200,
              "status_text": ""
            }
          },
          "base_uri": "https://localhost:8080/",
          "height": 202
        }
      },
      "source": [
        "# TODO your work here!\n",
        "# And note you should write comments, descriptions, and add new\n",
        "# code and text blocks as needed\n",
        "from google.colab import files\n",
        "uploaded_file=files.upload()"
      ],
      "execution_count": 0,
      "outputs": [
        {
          "output_type": "display_data",
          "data": {
            "text/html": [
              "\n",
              "     <input type=\"file\" id=\"files-6c8a8da0-4936-4a34-a0a8-8f713fbef0e2\" name=\"files[]\" multiple disabled />\n",
              "     <output id=\"result-6c8a8da0-4936-4a34-a0a8-8f713fbef0e2\">\n",
              "      Upload widget is only available when the cell has been executed in the\n",
              "      current browser session. Please rerun this cell to enable.\n",
              "      </output>\n",
              "      <script src=\"/nbextensions/google.colab/files.js\"></script> "
            ],
            "text/plain": [
              "<IPython.core.display.HTML object>"
            ]
          },
          "metadata": {
            "tags": []
          }
        },
        {
          "output_type": "stream",
          "text": [
            "Saving wine.data to wine.data\n"
          ],
          "name": "stdout"
        }
      ]
    },
    {
      "cell_type": "code",
      "metadata": {
        "id": "gZleFWGcnOYj",
        "colab_type": "code",
        "outputId": "a44154d1-05a2-4903-9936-0784e7718f61",
        "colab": {
          "base_uri": "https://localhost:8080/",
          "height": 324
        }
      },
      "source": [
        "names=['Alcohol', 'Malic acid', 'Ash', 'Alcalinity of ash', \n",
        "       'Magnesium', 'Total phenols', 'Flavanoids', \n",
        "       'Nonflavanoid phenols', 'Proanthocyanins', 'Color intensity', \n",
        "       'Hue', 'OD280/OD315 of diluted wines', 'Proline']\n",
        "wine=pd.read_csv('wine.data',names=names)\n",
        "wine.head()\n"
      ],
      "execution_count": 0,
      "outputs": [
        {
          "output_type": "execute_result",
          "data": {
            "text/html": [
              "<div>\n",
              "<style scoped>\n",
              "    .dataframe tbody tr th:only-of-type {\n",
              "        vertical-align: middle;\n",
              "    }\n",
              "\n",
              "    .dataframe tbody tr th {\n",
              "        vertical-align: top;\n",
              "    }\n",
              "\n",
              "    .dataframe thead th {\n",
              "        text-align: right;\n",
              "    }\n",
              "</style>\n",
              "<table border=\"1\" class=\"dataframe\">\n",
              "  <thead>\n",
              "    <tr style=\"text-align: right;\">\n",
              "      <th></th>\n",
              "      <th>Alcohol</th>\n",
              "      <th>Malic acid</th>\n",
              "      <th>Ash</th>\n",
              "      <th>Alcalinity of ash</th>\n",
              "      <th>Magnesium</th>\n",
              "      <th>Total phenols</th>\n",
              "      <th>Flavanoids</th>\n",
              "      <th>Nonflavanoid phenols</th>\n",
              "      <th>Proanthocyanins</th>\n",
              "      <th>Color intensity</th>\n",
              "      <th>Hue</th>\n",
              "      <th>OD280/OD315 of diluted wines</th>\n",
              "      <th>Proline</th>\n",
              "    </tr>\n",
              "  </thead>\n",
              "  <tbody>\n",
              "    <tr>\n",
              "      <th>1</th>\n",
              "      <td>14.23</td>\n",
              "      <td>1.71</td>\n",
              "      <td>2.43</td>\n",
              "      <td>15.6</td>\n",
              "      <td>127</td>\n",
              "      <td>2.80</td>\n",
              "      <td>3.06</td>\n",
              "      <td>0.28</td>\n",
              "      <td>2.29</td>\n",
              "      <td>5.64</td>\n",
              "      <td>1.04</td>\n",
              "      <td>3.92</td>\n",
              "      <td>1065</td>\n",
              "    </tr>\n",
              "    <tr>\n",
              "      <th>1</th>\n",
              "      <td>13.20</td>\n",
              "      <td>1.78</td>\n",
              "      <td>2.14</td>\n",
              "      <td>11.2</td>\n",
              "      <td>100</td>\n",
              "      <td>2.65</td>\n",
              "      <td>2.76</td>\n",
              "      <td>0.26</td>\n",
              "      <td>1.28</td>\n",
              "      <td>4.38</td>\n",
              "      <td>1.05</td>\n",
              "      <td>3.40</td>\n",
              "      <td>1050</td>\n",
              "    </tr>\n",
              "    <tr>\n",
              "      <th>1</th>\n",
              "      <td>13.16</td>\n",
              "      <td>2.36</td>\n",
              "      <td>2.67</td>\n",
              "      <td>18.6</td>\n",
              "      <td>101</td>\n",
              "      <td>2.80</td>\n",
              "      <td>3.24</td>\n",
              "      <td>0.30</td>\n",
              "      <td>2.81</td>\n",
              "      <td>5.68</td>\n",
              "      <td>1.03</td>\n",
              "      <td>3.17</td>\n",
              "      <td>1185</td>\n",
              "    </tr>\n",
              "    <tr>\n",
              "      <th>1</th>\n",
              "      <td>14.37</td>\n",
              "      <td>1.95</td>\n",
              "      <td>2.50</td>\n",
              "      <td>16.8</td>\n",
              "      <td>113</td>\n",
              "      <td>3.85</td>\n",
              "      <td>3.49</td>\n",
              "      <td>0.24</td>\n",
              "      <td>2.18</td>\n",
              "      <td>7.80</td>\n",
              "      <td>0.86</td>\n",
              "      <td>3.45</td>\n",
              "      <td>1480</td>\n",
              "    </tr>\n",
              "    <tr>\n",
              "      <th>1</th>\n",
              "      <td>13.24</td>\n",
              "      <td>2.59</td>\n",
              "      <td>2.87</td>\n",
              "      <td>21.0</td>\n",
              "      <td>118</td>\n",
              "      <td>2.80</td>\n",
              "      <td>2.69</td>\n",
              "      <td>0.39</td>\n",
              "      <td>1.82</td>\n",
              "      <td>4.32</td>\n",
              "      <td>1.04</td>\n",
              "      <td>2.93</td>\n",
              "      <td>735</td>\n",
              "    </tr>\n",
              "  </tbody>\n",
              "</table>\n",
              "</div>"
            ],
            "text/plain": [
              "   Alcohol  Malic acid   Ash  ...   Hue  OD280/OD315 of diluted wines  Proline\n",
              "1    14.23        1.71  2.43  ...  1.04                          3.92     1065\n",
              "1    13.20        1.78  2.14  ...  1.05                          3.40     1050\n",
              "1    13.16        2.36  2.67  ...  1.03                          3.17     1185\n",
              "1    14.37        1.95  2.50  ...  0.86                          3.45     1480\n",
              "1    13.24        2.59  2.87  ...  1.04                          2.93      735\n",
              "\n",
              "[5 rows x 13 columns]"
            ]
          },
          "metadata": {
            "tags": []
          },
          "execution_count": 16
        }
      ]
    },
    {
      "cell_type": "code",
      "metadata": {
        "id": "bsFIpBRtn1ma",
        "colab_type": "code",
        "colab": {}
      },
      "source": [
        "wine.isna().sum()"
      ],
      "execution_count": 0,
      "outputs": []
    },
    {
      "cell_type": "markdown",
      "metadata": {
        "id": "mq_aQjxlM-u5",
        "colab_type": "text"
      },
      "source": [
        "## 3) Load a dataset from UCI using `!wget`\n",
        "\n",
        "\"Shell Out\" and try loading a file directly into your google colab's memory using the `!wget` command and then read it in with `read_csv`.\n",
        "\n",
        "With this file we'll do a bit more to it.\n",
        "\n",
        "- Read it in, fix any problems with the header as make sure missing values are encoded as `NaN`.\n",
        "- Use the `.fillna()` method to fill any missing values. \n",
        " - [.fillna() documentation](https://pandas.pydata.org/pandas-docs/stable/reference/api/pandas.DataFrame.fillna.html)\n",
        "- Create one of each of the following plots using the Pandas plotting functionality:\n",
        " - Scatterplot\n",
        " - Histogram\n",
        " - Density Plot\n"
      ]
    },
    {
      "cell_type": "markdown",
      "metadata": {
        "id": "udBsuXl-acCV",
        "colab_type": "text"
      },
      "source": [
        ""
      ]
    },
    {
      "cell_type": "code",
      "metadata": {
        "id": "K7pY58GSrbVf",
        "colab_type": "code",
        "outputId": "8ef065a9-7297-4173-e87a-170928cea217",
        "colab": {
          "base_uri": "https://localhost:8080/",
          "height": 449
        }
      },
      "source": [
        "!wget 'https://archive.ics.uci.edu/ml/machine-learning-databases/00401/TCGA-PANCAN-HiSeq-801x20531.tar.gz'\n",
        "!tar xvzf \"TCGA-PANCAN-HiSeq-801x20531.tar.gz\""
      ],
      "execution_count": 0,
      "outputs": [
        {
          "output_type": "stream",
          "text": [
            "--2019-08-06 21:40:36--  https://archive.ics.uci.edu/ml/machine-learning-databases/00401/TCGA-PANCAN-HiSeq-801x20531.tar.gz\n",
            "Resolving archive.ics.uci.edu (archive.ics.uci.edu)... 128.195.10.252\n",
            "Connecting to archive.ics.uci.edu (archive.ics.uci.edu)|128.195.10.252|:443... connected.\n",
            "HTTP request sent, awaiting response... 200 OK\n",
            "Length: 72856320 (69M) [application/x-httpd-php]\n",
            "Saving to: ‘TCGA-PANCAN-HiSeq-801x20531.tar.gz.1’\n",
            "\n",
            "TCGA-PANCAN-HiSeq-8 100%[===================>]  69.48M  74.6MB/s    in 0.9s    \n",
            "\n",
            "2019-08-06 21:40:37 (74.6 MB/s) - ‘TCGA-PANCAN-HiSeq-801x20531.tar.gz.1’ saved [72856320/72856320]\n",
            "\n",
            "TCGA-PANCAN-HiSeq-801x20531/\n",
            "TCGA-PANCAN-HiSeq-801x20531/data.csv\n",
            "TCGA-PANCAN-HiSeq-801x20531/labels.csv\n"
          ],
          "name": "stdout"
        }
      ]
    },
    {
      "cell_type": "code",
      "metadata": {
        "id": "plDIOmJmyP0v",
        "colab_type": "code",
        "colab": {}
      },
      "source": [
        "df3=pd.read_csv('TCGA-PANCAN-HiSeq-801x20531/data.csv')\n",
        "\n",
        "df4=pd.read_csv('TCGA-PANCAN-HiSeq-801x20531/labels.csv')\n"
      ],
      "execution_count": 0,
      "outputs": []
    },
    {
      "cell_type": "code",
      "metadata": {
        "id": "eZqUixvS2VaB",
        "colab_type": "code",
        "outputId": "d11c7252-d5cc-41f1-e3f7-098d171d3ba0",
        "colab": {
          "base_uri": "https://localhost:8080/",
          "height": 356
        }
      },
      "source": [
        "df3.head()"
      ],
      "execution_count": 0,
      "outputs": [
        {
          "output_type": "execute_result",
          "data": {
            "text/html": [
              "<div>\n",
              "<style scoped>\n",
              "    .dataframe tbody tr th:only-of-type {\n",
              "        vertical-align: middle;\n",
              "    }\n",
              "\n",
              "    .dataframe tbody tr th {\n",
              "        vertical-align: top;\n",
              "    }\n",
              "\n",
              "    .dataframe thead th {\n",
              "        text-align: right;\n",
              "    }\n",
              "</style>\n",
              "<table border=\"1\" class=\"dataframe\">\n",
              "  <thead>\n",
              "    <tr style=\"text-align: right;\">\n",
              "      <th></th>\n",
              "      <th>Unnamed: 0</th>\n",
              "      <th>gene_0</th>\n",
              "      <th>gene_1</th>\n",
              "      <th>gene_2</th>\n",
              "      <th>gene_3</th>\n",
              "      <th>gene_4</th>\n",
              "      <th>gene_5</th>\n",
              "      <th>gene_6</th>\n",
              "      <th>gene_7</th>\n",
              "      <th>gene_8</th>\n",
              "      <th>gene_9</th>\n",
              "      <th>gene_10</th>\n",
              "      <th>gene_11</th>\n",
              "      <th>gene_12</th>\n",
              "      <th>gene_13</th>\n",
              "      <th>gene_14</th>\n",
              "      <th>gene_15</th>\n",
              "      <th>gene_16</th>\n",
              "      <th>gene_17</th>\n",
              "      <th>gene_18</th>\n",
              "      <th>gene_19</th>\n",
              "      <th>gene_20</th>\n",
              "      <th>gene_21</th>\n",
              "      <th>gene_22</th>\n",
              "      <th>gene_23</th>\n",
              "      <th>gene_24</th>\n",
              "      <th>gene_25</th>\n",
              "      <th>gene_26</th>\n",
              "      <th>gene_27</th>\n",
              "      <th>gene_28</th>\n",
              "      <th>gene_29</th>\n",
              "      <th>gene_30</th>\n",
              "      <th>gene_31</th>\n",
              "      <th>gene_32</th>\n",
              "      <th>gene_33</th>\n",
              "      <th>gene_34</th>\n",
              "      <th>gene_35</th>\n",
              "      <th>gene_36</th>\n",
              "      <th>gene_37</th>\n",
              "      <th>gene_38</th>\n",
              "      <th>...</th>\n",
              "      <th>gene_20491</th>\n",
              "      <th>gene_20492</th>\n",
              "      <th>gene_20493</th>\n",
              "      <th>gene_20494</th>\n",
              "      <th>gene_20495</th>\n",
              "      <th>gene_20496</th>\n",
              "      <th>gene_20497</th>\n",
              "      <th>gene_20498</th>\n",
              "      <th>gene_20499</th>\n",
              "      <th>gene_20500</th>\n",
              "      <th>gene_20501</th>\n",
              "      <th>gene_20502</th>\n",
              "      <th>gene_20503</th>\n",
              "      <th>gene_20504</th>\n",
              "      <th>gene_20505</th>\n",
              "      <th>gene_20506</th>\n",
              "      <th>gene_20507</th>\n",
              "      <th>gene_20508</th>\n",
              "      <th>gene_20509</th>\n",
              "      <th>gene_20510</th>\n",
              "      <th>gene_20511</th>\n",
              "      <th>gene_20512</th>\n",
              "      <th>gene_20513</th>\n",
              "      <th>gene_20514</th>\n",
              "      <th>gene_20515</th>\n",
              "      <th>gene_20516</th>\n",
              "      <th>gene_20517</th>\n",
              "      <th>gene_20518</th>\n",
              "      <th>gene_20519</th>\n",
              "      <th>gene_20520</th>\n",
              "      <th>gene_20521</th>\n",
              "      <th>gene_20522</th>\n",
              "      <th>gene_20523</th>\n",
              "      <th>gene_20524</th>\n",
              "      <th>gene_20525</th>\n",
              "      <th>gene_20526</th>\n",
              "      <th>gene_20527</th>\n",
              "      <th>gene_20528</th>\n",
              "      <th>gene_20529</th>\n",
              "      <th>gene_20530</th>\n",
              "    </tr>\n",
              "  </thead>\n",
              "  <tbody>\n",
              "    <tr>\n",
              "      <th>0</th>\n",
              "      <td>sample_0</td>\n",
              "      <td>0.0</td>\n",
              "      <td>2.017209</td>\n",
              "      <td>3.265527</td>\n",
              "      <td>5.478487</td>\n",
              "      <td>10.431999</td>\n",
              "      <td>0.0</td>\n",
              "      <td>7.175175</td>\n",
              "      <td>0.591871</td>\n",
              "      <td>0.0</td>\n",
              "      <td>0.0</td>\n",
              "      <td>0.591871</td>\n",
              "      <td>1.334282</td>\n",
              "      <td>2.015391</td>\n",
              "      <td>0.591871</td>\n",
              "      <td>0.0</td>\n",
              "      <td>0.0</td>\n",
              "      <td>0.0</td>\n",
              "      <td>0.0</td>\n",
              "      <td>0.591871</td>\n",
              "      <td>5.619994</td>\n",
              "      <td>1.334282</td>\n",
              "      <td>0.000000</td>\n",
              "      <td>9.796088</td>\n",
              "      <td>0.0</td>\n",
              "      <td>0.000000</td>\n",
              "      <td>1.598651</td>\n",
              "      <td>7.215116</td>\n",
              "      <td>10.839070</td>\n",
              "      <td>6.620204</td>\n",
              "      <td>9.513538</td>\n",
              "      <td>0.0</td>\n",
              "      <td>4.063658</td>\n",
              "      <td>7.764805</td>\n",
              "      <td>4.747656</td>\n",
              "      <td>13.714396</td>\n",
              "      <td>10.034496</td>\n",
              "      <td>0.000000</td>\n",
              "      <td>0.0</td>\n",
              "      <td>9.833458</td>\n",
              "      <td>...</td>\n",
              "      <td>9.370304</td>\n",
              "      <td>10.362393</td>\n",
              "      <td>5.589928</td>\n",
              "      <td>8.141964</td>\n",
              "      <td>0.000000</td>\n",
              "      <td>2.736583</td>\n",
              "      <td>7.037152</td>\n",
              "      <td>7.123480</td>\n",
              "      <td>10.967399</td>\n",
              "      <td>5.902800</td>\n",
              "      <td>3.719370</td>\n",
              "      <td>7.203554</td>\n",
              "      <td>6.042557</td>\n",
              "      <td>2.602077</td>\n",
              "      <td>7.425526</td>\n",
              "      <td>7.846957</td>\n",
              "      <td>2.824951</td>\n",
              "      <td>6.239396</td>\n",
              "      <td>0.000000</td>\n",
              "      <td>8.469593</td>\n",
              "      <td>0.0</td>\n",
              "      <td>6.535978</td>\n",
              "      <td>6.968701</td>\n",
              "      <td>7.128881</td>\n",
              "      <td>7.175175</td>\n",
              "      <td>9.249369</td>\n",
              "      <td>7.025970</td>\n",
              "      <td>8.045563</td>\n",
              "      <td>7.475709</td>\n",
              "      <td>7.205236</td>\n",
              "      <td>4.926711</td>\n",
              "      <td>8.210257</td>\n",
              "      <td>9.723516</td>\n",
              "      <td>7.220030</td>\n",
              "      <td>9.119813</td>\n",
              "      <td>12.003135</td>\n",
              "      <td>9.650743</td>\n",
              "      <td>8.921326</td>\n",
              "      <td>5.286759</td>\n",
              "      <td>0.0</td>\n",
              "    </tr>\n",
              "    <tr>\n",
              "      <th>1</th>\n",
              "      <td>sample_1</td>\n",
              "      <td>0.0</td>\n",
              "      <td>0.592732</td>\n",
              "      <td>1.588421</td>\n",
              "      <td>7.586157</td>\n",
              "      <td>9.623011</td>\n",
              "      <td>0.0</td>\n",
              "      <td>6.816049</td>\n",
              "      <td>0.000000</td>\n",
              "      <td>0.0</td>\n",
              "      <td>0.0</td>\n",
              "      <td>0.000000</td>\n",
              "      <td>0.587845</td>\n",
              "      <td>2.466601</td>\n",
              "      <td>1.004394</td>\n",
              "      <td>0.0</td>\n",
              "      <td>0.0</td>\n",
              "      <td>0.0</td>\n",
              "      <td>0.0</td>\n",
              "      <td>0.000000</td>\n",
              "      <td>11.055208</td>\n",
              "      <td>3.562621</td>\n",
              "      <td>0.000000</td>\n",
              "      <td>10.070470</td>\n",
              "      <td>0.0</td>\n",
              "      <td>0.000000</td>\n",
              "      <td>0.000000</td>\n",
              "      <td>9.949812</td>\n",
              "      <td>8.522476</td>\n",
              "      <td>1.174790</td>\n",
              "      <td>4.926991</td>\n",
              "      <td>0.0</td>\n",
              "      <td>0.000000</td>\n",
              "      <td>5.819832</td>\n",
              "      <td>1.327170</td>\n",
              "      <td>13.286240</td>\n",
              "      <td>6.663316</td>\n",
              "      <td>0.587845</td>\n",
              "      <td>0.0</td>\n",
              "      <td>9.533302</td>\n",
              "      <td>...</td>\n",
              "      <td>8.882967</td>\n",
              "      <td>9.898199</td>\n",
              "      <td>7.069401</td>\n",
              "      <td>7.186134</td>\n",
              "      <td>0.000000</td>\n",
              "      <td>3.134993</td>\n",
              "      <td>6.648930</td>\n",
              "      <td>6.715701</td>\n",
              "      <td>9.536238</td>\n",
              "      <td>1.004394</td>\n",
              "      <td>5.555482</td>\n",
              "      <td>8.029260</td>\n",
              "      <td>6.366219</td>\n",
              "      <td>0.811142</td>\n",
              "      <td>7.991732</td>\n",
              "      <td>7.161001</td>\n",
              "      <td>0.000000</td>\n",
              "      <td>4.708877</td>\n",
              "      <td>0.811142</td>\n",
              "      <td>8.451689</td>\n",
              "      <td>0.0</td>\n",
              "      <td>7.242336</td>\n",
              "      <td>8.046284</td>\n",
              "      <td>6.047558</td>\n",
              "      <td>8.572901</td>\n",
              "      <td>7.549030</td>\n",
              "      <td>7.019935</td>\n",
              "      <td>9.458940</td>\n",
              "      <td>9.190867</td>\n",
              "      <td>10.639259</td>\n",
              "      <td>4.593372</td>\n",
              "      <td>7.323865</td>\n",
              "      <td>9.740931</td>\n",
              "      <td>6.256586</td>\n",
              "      <td>8.381612</td>\n",
              "      <td>12.674552</td>\n",
              "      <td>10.517059</td>\n",
              "      <td>9.397854</td>\n",
              "      <td>2.094168</td>\n",
              "      <td>0.0</td>\n",
              "    </tr>\n",
              "    <tr>\n",
              "      <th>2</th>\n",
              "      <td>sample_2</td>\n",
              "      <td>0.0</td>\n",
              "      <td>3.511759</td>\n",
              "      <td>4.327199</td>\n",
              "      <td>6.881787</td>\n",
              "      <td>9.870730</td>\n",
              "      <td>0.0</td>\n",
              "      <td>6.972130</td>\n",
              "      <td>0.452595</td>\n",
              "      <td>0.0</td>\n",
              "      <td>0.0</td>\n",
              "      <td>0.000000</td>\n",
              "      <td>0.452595</td>\n",
              "      <td>1.981122</td>\n",
              "      <td>1.074163</td>\n",
              "      <td>0.0</td>\n",
              "      <td>0.0</td>\n",
              "      <td>0.0</td>\n",
              "      <td>0.0</td>\n",
              "      <td>1.683023</td>\n",
              "      <td>8.210248</td>\n",
              "      <td>4.195285</td>\n",
              "      <td>3.660427</td>\n",
              "      <td>8.970920</td>\n",
              "      <td>0.0</td>\n",
              "      <td>0.000000</td>\n",
              "      <td>0.796598</td>\n",
              "      <td>6.096650</td>\n",
              "      <td>9.861616</td>\n",
              "      <td>7.680507</td>\n",
              "      <td>3.119439</td>\n",
              "      <td>0.0</td>\n",
              "      <td>0.452595</td>\n",
              "      <td>7.899526</td>\n",
              "      <td>0.000000</td>\n",
              "      <td>10.731098</td>\n",
              "      <td>6.967883</td>\n",
              "      <td>0.452595</td>\n",
              "      <td>0.0</td>\n",
              "      <td>9.646323</td>\n",
              "      <td>...</td>\n",
              "      <td>10.355637</td>\n",
              "      <td>10.423274</td>\n",
              "      <td>5.170201</td>\n",
              "      <td>6.194260</td>\n",
              "      <td>0.000000</td>\n",
              "      <td>3.677147</td>\n",
              "      <td>6.271990</td>\n",
              "      <td>7.089816</td>\n",
              "      <td>9.675220</td>\n",
              "      <td>0.000000</td>\n",
              "      <td>4.224017</td>\n",
              "      <td>8.020402</td>\n",
              "      <td>6.967883</td>\n",
              "      <td>5.014445</td>\n",
              "      <td>8.400038</td>\n",
              "      <td>7.527555</td>\n",
              "      <td>0.000000</td>\n",
              "      <td>4.997902</td>\n",
              "      <td>0.796598</td>\n",
              "      <td>7.761132</td>\n",
              "      <td>0.0</td>\n",
              "      <td>6.820460</td>\n",
              "      <td>8.048983</td>\n",
              "      <td>6.661493</td>\n",
              "      <td>7.716332</td>\n",
              "      <td>6.745802</td>\n",
              "      <td>7.524667</td>\n",
              "      <td>8.602350</td>\n",
              "      <td>9.036654</td>\n",
              "      <td>10.336027</td>\n",
              "      <td>5.125213</td>\n",
              "      <td>8.127123</td>\n",
              "      <td>10.908640</td>\n",
              "      <td>5.401607</td>\n",
              "      <td>9.911597</td>\n",
              "      <td>9.045255</td>\n",
              "      <td>9.788359</td>\n",
              "      <td>10.090470</td>\n",
              "      <td>1.683023</td>\n",
              "      <td>0.0</td>\n",
              "    </tr>\n",
              "    <tr>\n",
              "      <th>3</th>\n",
              "      <td>sample_3</td>\n",
              "      <td>0.0</td>\n",
              "      <td>3.663618</td>\n",
              "      <td>4.507649</td>\n",
              "      <td>6.659068</td>\n",
              "      <td>10.196184</td>\n",
              "      <td>0.0</td>\n",
              "      <td>7.843375</td>\n",
              "      <td>0.434882</td>\n",
              "      <td>0.0</td>\n",
              "      <td>0.0</td>\n",
              "      <td>0.000000</td>\n",
              "      <td>0.434882</td>\n",
              "      <td>2.874246</td>\n",
              "      <td>0.000000</td>\n",
              "      <td>0.0</td>\n",
              "      <td>0.0</td>\n",
              "      <td>0.0</td>\n",
              "      <td>0.0</td>\n",
              "      <td>1.267356</td>\n",
              "      <td>8.306317</td>\n",
              "      <td>3.573556</td>\n",
              "      <td>0.000000</td>\n",
              "      <td>8.524616</td>\n",
              "      <td>0.0</td>\n",
              "      <td>0.000000</td>\n",
              "      <td>0.000000</td>\n",
              "      <td>3.913761</td>\n",
              "      <td>9.511573</td>\n",
              "      <td>6.469165</td>\n",
              "      <td>7.029895</td>\n",
              "      <td>0.0</td>\n",
              "      <td>1.267356</td>\n",
              "      <td>6.800641</td>\n",
              "      <td>7.742714</td>\n",
              "      <td>12.659474</td>\n",
              "      <td>8.299890</td>\n",
              "      <td>0.768587</td>\n",
              "      <td>0.0</td>\n",
              "      <td>9.670731</td>\n",
              "      <td>...</td>\n",
              "      <td>10.074382</td>\n",
              "      <td>9.918261</td>\n",
              "      <td>7.117924</td>\n",
              "      <td>7.196145</td>\n",
              "      <td>0.434882</td>\n",
              "      <td>3.609755</td>\n",
              "      <td>8.896696</td>\n",
              "      <td>7.577096</td>\n",
              "      <td>10.731446</td>\n",
              "      <td>5.075383</td>\n",
              "      <td>2.175652</td>\n",
              "      <td>7.675435</td>\n",
              "      <td>6.840816</td>\n",
              "      <td>6.233192</td>\n",
              "      <td>8.899886</td>\n",
              "      <td>8.319085</td>\n",
              "      <td>1.791814</td>\n",
              "      <td>5.661134</td>\n",
              "      <td>1.464093</td>\n",
              "      <td>8.625727</td>\n",
              "      <td>0.0</td>\n",
              "      <td>7.420095</td>\n",
              "      <td>7.784746</td>\n",
              "      <td>7.613915</td>\n",
              "      <td>8.963286</td>\n",
              "      <td>7.744699</td>\n",
              "      <td>7.924997</td>\n",
              "      <td>8.981473</td>\n",
              "      <td>8.665592</td>\n",
              "      <td>9.194823</td>\n",
              "      <td>6.076566</td>\n",
              "      <td>8.792959</td>\n",
              "      <td>10.141520</td>\n",
              "      <td>8.942805</td>\n",
              "      <td>9.601208</td>\n",
              "      <td>11.392682</td>\n",
              "      <td>9.694814</td>\n",
              "      <td>9.684365</td>\n",
              "      <td>3.292001</td>\n",
              "      <td>0.0</td>\n",
              "    </tr>\n",
              "    <tr>\n",
              "      <th>4</th>\n",
              "      <td>sample_4</td>\n",
              "      <td>0.0</td>\n",
              "      <td>2.655741</td>\n",
              "      <td>2.821547</td>\n",
              "      <td>6.539454</td>\n",
              "      <td>9.738265</td>\n",
              "      <td>0.0</td>\n",
              "      <td>6.566967</td>\n",
              "      <td>0.360982</td>\n",
              "      <td>0.0</td>\n",
              "      <td>0.0</td>\n",
              "      <td>0.000000</td>\n",
              "      <td>1.275841</td>\n",
              "      <td>2.141204</td>\n",
              "      <td>0.000000</td>\n",
              "      <td>0.0</td>\n",
              "      <td>0.0</td>\n",
              "      <td>0.0</td>\n",
              "      <td>0.0</td>\n",
              "      <td>0.889707</td>\n",
              "      <td>10.149150</td>\n",
              "      <td>2.967630</td>\n",
              "      <td>0.000000</td>\n",
              "      <td>8.047238</td>\n",
              "      <td>0.0</td>\n",
              "      <td>1.435949</td>\n",
              "      <td>0.000000</td>\n",
              "      <td>1.942120</td>\n",
              "      <td>8.821535</td>\n",
              "      <td>5.861429</td>\n",
              "      <td>7.755709</td>\n",
              "      <td>0.0</td>\n",
              "      <td>0.649386</td>\n",
              "      <td>5.570241</td>\n",
              "      <td>2.612801</td>\n",
              "      <td>13.556734</td>\n",
              "      <td>8.004754</td>\n",
              "      <td>0.000000</td>\n",
              "      <td>0.0</td>\n",
              "      <td>9.587569</td>\n",
              "      <td>...</td>\n",
              "      <td>10.129154</td>\n",
              "      <td>10.062303</td>\n",
              "      <td>6.911620</td>\n",
              "      <td>7.855149</td>\n",
              "      <td>0.360982</td>\n",
              "      <td>3.655810</td>\n",
              "      <td>7.255520</td>\n",
              "      <td>7.292607</td>\n",
              "      <td>10.779793</td>\n",
              "      <td>3.954001</td>\n",
              "      <td>6.991148</td>\n",
              "      <td>8.153248</td>\n",
              "      <td>7.508444</td>\n",
              "      <td>4.586531</td>\n",
              "      <td>9.152227</td>\n",
              "      <td>8.227717</td>\n",
              "      <td>0.360982</td>\n",
              "      <td>6.227104</td>\n",
              "      <td>0.649386</td>\n",
              "      <td>8.151879</td>\n",
              "      <td>0.0</td>\n",
              "      <td>6.558289</td>\n",
              "      <td>8.673708</td>\n",
              "      <td>6.505099</td>\n",
              "      <td>8.948989</td>\n",
              "      <td>7.010366</td>\n",
              "      <td>7.364056</td>\n",
              "      <td>8.950646</td>\n",
              "      <td>8.233366</td>\n",
              "      <td>9.298775</td>\n",
              "      <td>5.996032</td>\n",
              "      <td>8.891425</td>\n",
              "      <td>10.373790</td>\n",
              "      <td>7.181162</td>\n",
              "      <td>9.846910</td>\n",
              "      <td>11.922439</td>\n",
              "      <td>9.217749</td>\n",
              "      <td>9.461191</td>\n",
              "      <td>5.110372</td>\n",
              "      <td>0.0</td>\n",
              "    </tr>\n",
              "  </tbody>\n",
              "</table>\n",
              "<p>5 rows × 20532 columns</p>\n",
              "</div>"
            ],
            "text/plain": [
              "  Unnamed: 0  gene_0    gene_1  ...  gene_20528  gene_20529  gene_20530\n",
              "0   sample_0     0.0  2.017209  ...    8.921326    5.286759         0.0\n",
              "1   sample_1     0.0  0.592732  ...    9.397854    2.094168         0.0\n",
              "2   sample_2     0.0  3.511759  ...   10.090470    1.683023         0.0\n",
              "3   sample_3     0.0  3.663618  ...    9.684365    3.292001         0.0\n",
              "4   sample_4     0.0  2.655741  ...    9.461191    5.110372         0.0\n",
              "\n",
              "[5 rows x 20532 columns]"
            ]
          },
          "metadata": {
            "tags": []
          },
          "execution_count": 7
        }
      ]
    },
    {
      "cell_type": "code",
      "metadata": {
        "id": "Oc633HjM2Im4",
        "colab_type": "code",
        "colab": {}
      },
      "source": [
        "split4=df4[[\"Class\"]]"
      ],
      "execution_count": 0,
      "outputs": []
    },
    {
      "cell_type": "code",
      "metadata": {
        "id": "pOJe-cXY1Ask",
        "colab_type": "code",
        "outputId": "c47b2d03-443b-403c-de3c-99410220433b",
        "colab": {
          "base_uri": "https://localhost:8080/",
          "height": 356
        }
      },
      "source": [
        "full_df=pd.concat([split4, df3], axis=1)\n",
        "full_df.head()"
      ],
      "execution_count": 0,
      "outputs": [
        {
          "output_type": "execute_result",
          "data": {
            "text/html": [
              "<div>\n",
              "<style scoped>\n",
              "    .dataframe tbody tr th:only-of-type {\n",
              "        vertical-align: middle;\n",
              "    }\n",
              "\n",
              "    .dataframe tbody tr th {\n",
              "        vertical-align: top;\n",
              "    }\n",
              "\n",
              "    .dataframe thead th {\n",
              "        text-align: right;\n",
              "    }\n",
              "</style>\n",
              "<table border=\"1\" class=\"dataframe\">\n",
              "  <thead>\n",
              "    <tr style=\"text-align: right;\">\n",
              "      <th></th>\n",
              "      <th>Class</th>\n",
              "      <th>Unnamed: 0</th>\n",
              "      <th>gene_0</th>\n",
              "      <th>gene_1</th>\n",
              "      <th>gene_2</th>\n",
              "      <th>gene_3</th>\n",
              "      <th>gene_4</th>\n",
              "      <th>gene_5</th>\n",
              "      <th>gene_6</th>\n",
              "      <th>gene_7</th>\n",
              "      <th>gene_8</th>\n",
              "      <th>gene_9</th>\n",
              "      <th>gene_10</th>\n",
              "      <th>gene_11</th>\n",
              "      <th>gene_12</th>\n",
              "      <th>gene_13</th>\n",
              "      <th>gene_14</th>\n",
              "      <th>gene_15</th>\n",
              "      <th>gene_16</th>\n",
              "      <th>gene_17</th>\n",
              "      <th>gene_18</th>\n",
              "      <th>gene_19</th>\n",
              "      <th>gene_20</th>\n",
              "      <th>gene_21</th>\n",
              "      <th>gene_22</th>\n",
              "      <th>gene_23</th>\n",
              "      <th>gene_24</th>\n",
              "      <th>gene_25</th>\n",
              "      <th>gene_26</th>\n",
              "      <th>gene_27</th>\n",
              "      <th>gene_28</th>\n",
              "      <th>gene_29</th>\n",
              "      <th>gene_30</th>\n",
              "      <th>gene_31</th>\n",
              "      <th>gene_32</th>\n",
              "      <th>gene_33</th>\n",
              "      <th>gene_34</th>\n",
              "      <th>gene_35</th>\n",
              "      <th>gene_36</th>\n",
              "      <th>gene_37</th>\n",
              "      <th>...</th>\n",
              "      <th>gene_20491</th>\n",
              "      <th>gene_20492</th>\n",
              "      <th>gene_20493</th>\n",
              "      <th>gene_20494</th>\n",
              "      <th>gene_20495</th>\n",
              "      <th>gene_20496</th>\n",
              "      <th>gene_20497</th>\n",
              "      <th>gene_20498</th>\n",
              "      <th>gene_20499</th>\n",
              "      <th>gene_20500</th>\n",
              "      <th>gene_20501</th>\n",
              "      <th>gene_20502</th>\n",
              "      <th>gene_20503</th>\n",
              "      <th>gene_20504</th>\n",
              "      <th>gene_20505</th>\n",
              "      <th>gene_20506</th>\n",
              "      <th>gene_20507</th>\n",
              "      <th>gene_20508</th>\n",
              "      <th>gene_20509</th>\n",
              "      <th>gene_20510</th>\n",
              "      <th>gene_20511</th>\n",
              "      <th>gene_20512</th>\n",
              "      <th>gene_20513</th>\n",
              "      <th>gene_20514</th>\n",
              "      <th>gene_20515</th>\n",
              "      <th>gene_20516</th>\n",
              "      <th>gene_20517</th>\n",
              "      <th>gene_20518</th>\n",
              "      <th>gene_20519</th>\n",
              "      <th>gene_20520</th>\n",
              "      <th>gene_20521</th>\n",
              "      <th>gene_20522</th>\n",
              "      <th>gene_20523</th>\n",
              "      <th>gene_20524</th>\n",
              "      <th>gene_20525</th>\n",
              "      <th>gene_20526</th>\n",
              "      <th>gene_20527</th>\n",
              "      <th>gene_20528</th>\n",
              "      <th>gene_20529</th>\n",
              "      <th>gene_20530</th>\n",
              "    </tr>\n",
              "  </thead>\n",
              "  <tbody>\n",
              "    <tr>\n",
              "      <th>0</th>\n",
              "      <td>PRAD</td>\n",
              "      <td>sample_0</td>\n",
              "      <td>0.0</td>\n",
              "      <td>2.017209</td>\n",
              "      <td>3.265527</td>\n",
              "      <td>5.478487</td>\n",
              "      <td>10.431999</td>\n",
              "      <td>0.0</td>\n",
              "      <td>7.175175</td>\n",
              "      <td>0.591871</td>\n",
              "      <td>0.0</td>\n",
              "      <td>0.0</td>\n",
              "      <td>0.591871</td>\n",
              "      <td>1.334282</td>\n",
              "      <td>2.015391</td>\n",
              "      <td>0.591871</td>\n",
              "      <td>0.0</td>\n",
              "      <td>0.0</td>\n",
              "      <td>0.0</td>\n",
              "      <td>0.0</td>\n",
              "      <td>0.591871</td>\n",
              "      <td>5.619994</td>\n",
              "      <td>1.334282</td>\n",
              "      <td>0.000000</td>\n",
              "      <td>9.796088</td>\n",
              "      <td>0.0</td>\n",
              "      <td>0.000000</td>\n",
              "      <td>1.598651</td>\n",
              "      <td>7.215116</td>\n",
              "      <td>10.839070</td>\n",
              "      <td>6.620204</td>\n",
              "      <td>9.513538</td>\n",
              "      <td>0.0</td>\n",
              "      <td>4.063658</td>\n",
              "      <td>7.764805</td>\n",
              "      <td>4.747656</td>\n",
              "      <td>13.714396</td>\n",
              "      <td>10.034496</td>\n",
              "      <td>0.000000</td>\n",
              "      <td>0.0</td>\n",
              "      <td>...</td>\n",
              "      <td>9.370304</td>\n",
              "      <td>10.362393</td>\n",
              "      <td>5.589928</td>\n",
              "      <td>8.141964</td>\n",
              "      <td>0.000000</td>\n",
              "      <td>2.736583</td>\n",
              "      <td>7.037152</td>\n",
              "      <td>7.123480</td>\n",
              "      <td>10.967399</td>\n",
              "      <td>5.902800</td>\n",
              "      <td>3.719370</td>\n",
              "      <td>7.203554</td>\n",
              "      <td>6.042557</td>\n",
              "      <td>2.602077</td>\n",
              "      <td>7.425526</td>\n",
              "      <td>7.846957</td>\n",
              "      <td>2.824951</td>\n",
              "      <td>6.239396</td>\n",
              "      <td>0.000000</td>\n",
              "      <td>8.469593</td>\n",
              "      <td>0.0</td>\n",
              "      <td>6.535978</td>\n",
              "      <td>6.968701</td>\n",
              "      <td>7.128881</td>\n",
              "      <td>7.175175</td>\n",
              "      <td>9.249369</td>\n",
              "      <td>7.025970</td>\n",
              "      <td>8.045563</td>\n",
              "      <td>7.475709</td>\n",
              "      <td>7.205236</td>\n",
              "      <td>4.926711</td>\n",
              "      <td>8.210257</td>\n",
              "      <td>9.723516</td>\n",
              "      <td>7.220030</td>\n",
              "      <td>9.119813</td>\n",
              "      <td>12.003135</td>\n",
              "      <td>9.650743</td>\n",
              "      <td>8.921326</td>\n",
              "      <td>5.286759</td>\n",
              "      <td>0.0</td>\n",
              "    </tr>\n",
              "    <tr>\n",
              "      <th>1</th>\n",
              "      <td>LUAD</td>\n",
              "      <td>sample_1</td>\n",
              "      <td>0.0</td>\n",
              "      <td>0.592732</td>\n",
              "      <td>1.588421</td>\n",
              "      <td>7.586157</td>\n",
              "      <td>9.623011</td>\n",
              "      <td>0.0</td>\n",
              "      <td>6.816049</td>\n",
              "      <td>0.000000</td>\n",
              "      <td>0.0</td>\n",
              "      <td>0.0</td>\n",
              "      <td>0.000000</td>\n",
              "      <td>0.587845</td>\n",
              "      <td>2.466601</td>\n",
              "      <td>1.004394</td>\n",
              "      <td>0.0</td>\n",
              "      <td>0.0</td>\n",
              "      <td>0.0</td>\n",
              "      <td>0.0</td>\n",
              "      <td>0.000000</td>\n",
              "      <td>11.055208</td>\n",
              "      <td>3.562621</td>\n",
              "      <td>0.000000</td>\n",
              "      <td>10.070470</td>\n",
              "      <td>0.0</td>\n",
              "      <td>0.000000</td>\n",
              "      <td>0.000000</td>\n",
              "      <td>9.949812</td>\n",
              "      <td>8.522476</td>\n",
              "      <td>1.174790</td>\n",
              "      <td>4.926991</td>\n",
              "      <td>0.0</td>\n",
              "      <td>0.000000</td>\n",
              "      <td>5.819832</td>\n",
              "      <td>1.327170</td>\n",
              "      <td>13.286240</td>\n",
              "      <td>6.663316</td>\n",
              "      <td>0.587845</td>\n",
              "      <td>0.0</td>\n",
              "      <td>...</td>\n",
              "      <td>8.882967</td>\n",
              "      <td>9.898199</td>\n",
              "      <td>7.069401</td>\n",
              "      <td>7.186134</td>\n",
              "      <td>0.000000</td>\n",
              "      <td>3.134993</td>\n",
              "      <td>6.648930</td>\n",
              "      <td>6.715701</td>\n",
              "      <td>9.536238</td>\n",
              "      <td>1.004394</td>\n",
              "      <td>5.555482</td>\n",
              "      <td>8.029260</td>\n",
              "      <td>6.366219</td>\n",
              "      <td>0.811142</td>\n",
              "      <td>7.991732</td>\n",
              "      <td>7.161001</td>\n",
              "      <td>0.000000</td>\n",
              "      <td>4.708877</td>\n",
              "      <td>0.811142</td>\n",
              "      <td>8.451689</td>\n",
              "      <td>0.0</td>\n",
              "      <td>7.242336</td>\n",
              "      <td>8.046284</td>\n",
              "      <td>6.047558</td>\n",
              "      <td>8.572901</td>\n",
              "      <td>7.549030</td>\n",
              "      <td>7.019935</td>\n",
              "      <td>9.458940</td>\n",
              "      <td>9.190867</td>\n",
              "      <td>10.639259</td>\n",
              "      <td>4.593372</td>\n",
              "      <td>7.323865</td>\n",
              "      <td>9.740931</td>\n",
              "      <td>6.256586</td>\n",
              "      <td>8.381612</td>\n",
              "      <td>12.674552</td>\n",
              "      <td>10.517059</td>\n",
              "      <td>9.397854</td>\n",
              "      <td>2.094168</td>\n",
              "      <td>0.0</td>\n",
              "    </tr>\n",
              "    <tr>\n",
              "      <th>2</th>\n",
              "      <td>PRAD</td>\n",
              "      <td>sample_2</td>\n",
              "      <td>0.0</td>\n",
              "      <td>3.511759</td>\n",
              "      <td>4.327199</td>\n",
              "      <td>6.881787</td>\n",
              "      <td>9.870730</td>\n",
              "      <td>0.0</td>\n",
              "      <td>6.972130</td>\n",
              "      <td>0.452595</td>\n",
              "      <td>0.0</td>\n",
              "      <td>0.0</td>\n",
              "      <td>0.000000</td>\n",
              "      <td>0.452595</td>\n",
              "      <td>1.981122</td>\n",
              "      <td>1.074163</td>\n",
              "      <td>0.0</td>\n",
              "      <td>0.0</td>\n",
              "      <td>0.0</td>\n",
              "      <td>0.0</td>\n",
              "      <td>1.683023</td>\n",
              "      <td>8.210248</td>\n",
              "      <td>4.195285</td>\n",
              "      <td>3.660427</td>\n",
              "      <td>8.970920</td>\n",
              "      <td>0.0</td>\n",
              "      <td>0.000000</td>\n",
              "      <td>0.796598</td>\n",
              "      <td>6.096650</td>\n",
              "      <td>9.861616</td>\n",
              "      <td>7.680507</td>\n",
              "      <td>3.119439</td>\n",
              "      <td>0.0</td>\n",
              "      <td>0.452595</td>\n",
              "      <td>7.899526</td>\n",
              "      <td>0.000000</td>\n",
              "      <td>10.731098</td>\n",
              "      <td>6.967883</td>\n",
              "      <td>0.452595</td>\n",
              "      <td>0.0</td>\n",
              "      <td>...</td>\n",
              "      <td>10.355637</td>\n",
              "      <td>10.423274</td>\n",
              "      <td>5.170201</td>\n",
              "      <td>6.194260</td>\n",
              "      <td>0.000000</td>\n",
              "      <td>3.677147</td>\n",
              "      <td>6.271990</td>\n",
              "      <td>7.089816</td>\n",
              "      <td>9.675220</td>\n",
              "      <td>0.000000</td>\n",
              "      <td>4.224017</td>\n",
              "      <td>8.020402</td>\n",
              "      <td>6.967883</td>\n",
              "      <td>5.014445</td>\n",
              "      <td>8.400038</td>\n",
              "      <td>7.527555</td>\n",
              "      <td>0.000000</td>\n",
              "      <td>4.997902</td>\n",
              "      <td>0.796598</td>\n",
              "      <td>7.761132</td>\n",
              "      <td>0.0</td>\n",
              "      <td>6.820460</td>\n",
              "      <td>8.048983</td>\n",
              "      <td>6.661493</td>\n",
              "      <td>7.716332</td>\n",
              "      <td>6.745802</td>\n",
              "      <td>7.524667</td>\n",
              "      <td>8.602350</td>\n",
              "      <td>9.036654</td>\n",
              "      <td>10.336027</td>\n",
              "      <td>5.125213</td>\n",
              "      <td>8.127123</td>\n",
              "      <td>10.908640</td>\n",
              "      <td>5.401607</td>\n",
              "      <td>9.911597</td>\n",
              "      <td>9.045255</td>\n",
              "      <td>9.788359</td>\n",
              "      <td>10.090470</td>\n",
              "      <td>1.683023</td>\n",
              "      <td>0.0</td>\n",
              "    </tr>\n",
              "    <tr>\n",
              "      <th>3</th>\n",
              "      <td>PRAD</td>\n",
              "      <td>sample_3</td>\n",
              "      <td>0.0</td>\n",
              "      <td>3.663618</td>\n",
              "      <td>4.507649</td>\n",
              "      <td>6.659068</td>\n",
              "      <td>10.196184</td>\n",
              "      <td>0.0</td>\n",
              "      <td>7.843375</td>\n",
              "      <td>0.434882</td>\n",
              "      <td>0.0</td>\n",
              "      <td>0.0</td>\n",
              "      <td>0.000000</td>\n",
              "      <td>0.434882</td>\n",
              "      <td>2.874246</td>\n",
              "      <td>0.000000</td>\n",
              "      <td>0.0</td>\n",
              "      <td>0.0</td>\n",
              "      <td>0.0</td>\n",
              "      <td>0.0</td>\n",
              "      <td>1.267356</td>\n",
              "      <td>8.306317</td>\n",
              "      <td>3.573556</td>\n",
              "      <td>0.000000</td>\n",
              "      <td>8.524616</td>\n",
              "      <td>0.0</td>\n",
              "      <td>0.000000</td>\n",
              "      <td>0.000000</td>\n",
              "      <td>3.913761</td>\n",
              "      <td>9.511573</td>\n",
              "      <td>6.469165</td>\n",
              "      <td>7.029895</td>\n",
              "      <td>0.0</td>\n",
              "      <td>1.267356</td>\n",
              "      <td>6.800641</td>\n",
              "      <td>7.742714</td>\n",
              "      <td>12.659474</td>\n",
              "      <td>8.299890</td>\n",
              "      <td>0.768587</td>\n",
              "      <td>0.0</td>\n",
              "      <td>...</td>\n",
              "      <td>10.074382</td>\n",
              "      <td>9.918261</td>\n",
              "      <td>7.117924</td>\n",
              "      <td>7.196145</td>\n",
              "      <td>0.434882</td>\n",
              "      <td>3.609755</td>\n",
              "      <td>8.896696</td>\n",
              "      <td>7.577096</td>\n",
              "      <td>10.731446</td>\n",
              "      <td>5.075383</td>\n",
              "      <td>2.175652</td>\n",
              "      <td>7.675435</td>\n",
              "      <td>6.840816</td>\n",
              "      <td>6.233192</td>\n",
              "      <td>8.899886</td>\n",
              "      <td>8.319085</td>\n",
              "      <td>1.791814</td>\n",
              "      <td>5.661134</td>\n",
              "      <td>1.464093</td>\n",
              "      <td>8.625727</td>\n",
              "      <td>0.0</td>\n",
              "      <td>7.420095</td>\n",
              "      <td>7.784746</td>\n",
              "      <td>7.613915</td>\n",
              "      <td>8.963286</td>\n",
              "      <td>7.744699</td>\n",
              "      <td>7.924997</td>\n",
              "      <td>8.981473</td>\n",
              "      <td>8.665592</td>\n",
              "      <td>9.194823</td>\n",
              "      <td>6.076566</td>\n",
              "      <td>8.792959</td>\n",
              "      <td>10.141520</td>\n",
              "      <td>8.942805</td>\n",
              "      <td>9.601208</td>\n",
              "      <td>11.392682</td>\n",
              "      <td>9.694814</td>\n",
              "      <td>9.684365</td>\n",
              "      <td>3.292001</td>\n",
              "      <td>0.0</td>\n",
              "    </tr>\n",
              "    <tr>\n",
              "      <th>4</th>\n",
              "      <td>BRCA</td>\n",
              "      <td>sample_4</td>\n",
              "      <td>0.0</td>\n",
              "      <td>2.655741</td>\n",
              "      <td>2.821547</td>\n",
              "      <td>6.539454</td>\n",
              "      <td>9.738265</td>\n",
              "      <td>0.0</td>\n",
              "      <td>6.566967</td>\n",
              "      <td>0.360982</td>\n",
              "      <td>0.0</td>\n",
              "      <td>0.0</td>\n",
              "      <td>0.000000</td>\n",
              "      <td>1.275841</td>\n",
              "      <td>2.141204</td>\n",
              "      <td>0.000000</td>\n",
              "      <td>0.0</td>\n",
              "      <td>0.0</td>\n",
              "      <td>0.0</td>\n",
              "      <td>0.0</td>\n",
              "      <td>0.889707</td>\n",
              "      <td>10.149150</td>\n",
              "      <td>2.967630</td>\n",
              "      <td>0.000000</td>\n",
              "      <td>8.047238</td>\n",
              "      <td>0.0</td>\n",
              "      <td>1.435949</td>\n",
              "      <td>0.000000</td>\n",
              "      <td>1.942120</td>\n",
              "      <td>8.821535</td>\n",
              "      <td>5.861429</td>\n",
              "      <td>7.755709</td>\n",
              "      <td>0.0</td>\n",
              "      <td>0.649386</td>\n",
              "      <td>5.570241</td>\n",
              "      <td>2.612801</td>\n",
              "      <td>13.556734</td>\n",
              "      <td>8.004754</td>\n",
              "      <td>0.000000</td>\n",
              "      <td>0.0</td>\n",
              "      <td>...</td>\n",
              "      <td>10.129154</td>\n",
              "      <td>10.062303</td>\n",
              "      <td>6.911620</td>\n",
              "      <td>7.855149</td>\n",
              "      <td>0.360982</td>\n",
              "      <td>3.655810</td>\n",
              "      <td>7.255520</td>\n",
              "      <td>7.292607</td>\n",
              "      <td>10.779793</td>\n",
              "      <td>3.954001</td>\n",
              "      <td>6.991148</td>\n",
              "      <td>8.153248</td>\n",
              "      <td>7.508444</td>\n",
              "      <td>4.586531</td>\n",
              "      <td>9.152227</td>\n",
              "      <td>8.227717</td>\n",
              "      <td>0.360982</td>\n",
              "      <td>6.227104</td>\n",
              "      <td>0.649386</td>\n",
              "      <td>8.151879</td>\n",
              "      <td>0.0</td>\n",
              "      <td>6.558289</td>\n",
              "      <td>8.673708</td>\n",
              "      <td>6.505099</td>\n",
              "      <td>8.948989</td>\n",
              "      <td>7.010366</td>\n",
              "      <td>7.364056</td>\n",
              "      <td>8.950646</td>\n",
              "      <td>8.233366</td>\n",
              "      <td>9.298775</td>\n",
              "      <td>5.996032</td>\n",
              "      <td>8.891425</td>\n",
              "      <td>10.373790</td>\n",
              "      <td>7.181162</td>\n",
              "      <td>9.846910</td>\n",
              "      <td>11.922439</td>\n",
              "      <td>9.217749</td>\n",
              "      <td>9.461191</td>\n",
              "      <td>5.110372</td>\n",
              "      <td>0.0</td>\n",
              "    </tr>\n",
              "  </tbody>\n",
              "</table>\n",
              "<p>5 rows × 20533 columns</p>\n",
              "</div>"
            ],
            "text/plain": [
              "  Class Unnamed: 0  gene_0  ...  gene_20528  gene_20529  gene_20530\n",
              "0  PRAD   sample_0     0.0  ...    8.921326    5.286759         0.0\n",
              "1  LUAD   sample_1     0.0  ...    9.397854    2.094168         0.0\n",
              "2  PRAD   sample_2     0.0  ...   10.090470    1.683023         0.0\n",
              "3  PRAD   sample_3     0.0  ...    9.684365    3.292001         0.0\n",
              "4  BRCA   sample_4     0.0  ...    9.461191    5.110372         0.0\n",
              "\n",
              "[5 rows x 20533 columns]"
            ]
          },
          "metadata": {
            "tags": []
          },
          "execution_count": 9
        }
      ]
    },
    {
      "cell_type": "code",
      "metadata": {
        "id": "BD_I648l4mbf",
        "colab_type": "code",
        "outputId": "f3101772-6382-441a-ea0f-f93b2146d390",
        "colab": {
          "base_uri": "https://localhost:8080/",
          "height": 1000
        }
      },
      "source": [
        "full_df.isna().sum()"
      ],
      "execution_count": 0,
      "outputs": [
        {
          "output_type": "execute_result",
          "data": {
            "text/plain": [
              "Class         0\n",
              "Unnamed: 0    0\n",
              "gene_0        0\n",
              "gene_1        0\n",
              "gene_2        0\n",
              "gene_3        0\n",
              "gene_4        0\n",
              "gene_5        0\n",
              "gene_6        0\n",
              "gene_7        0\n",
              "gene_8        0\n",
              "gene_9        0\n",
              "gene_10       0\n",
              "gene_11       0\n",
              "gene_12       0\n",
              "gene_13       0\n",
              "gene_14       0\n",
              "gene_15       0\n",
              "gene_16       0\n",
              "gene_17       0\n",
              "gene_18       0\n",
              "gene_19       0\n",
              "gene_20       0\n",
              "gene_21       0\n",
              "gene_22       0\n",
              "gene_23       0\n",
              "gene_24       0\n",
              "gene_25       0\n",
              "gene_26       0\n",
              "gene_27       0\n",
              "             ..\n",
              "gene_20501    0\n",
              "gene_20502    0\n",
              "gene_20503    0\n",
              "gene_20504    0\n",
              "gene_20505    0\n",
              "gene_20506    0\n",
              "gene_20507    0\n",
              "gene_20508    0\n",
              "gene_20509    0\n",
              "gene_20510    0\n",
              "gene_20511    0\n",
              "gene_20512    0\n",
              "gene_20513    0\n",
              "gene_20514    0\n",
              "gene_20515    0\n",
              "gene_20516    0\n",
              "gene_20517    0\n",
              "gene_20518    0\n",
              "gene_20519    0\n",
              "gene_20520    0\n",
              "gene_20521    0\n",
              "gene_20522    0\n",
              "gene_20523    0\n",
              "gene_20524    0\n",
              "gene_20525    0\n",
              "gene_20526    0\n",
              "gene_20527    0\n",
              "gene_20528    0\n",
              "gene_20529    0\n",
              "gene_20530    0\n",
              "Length: 20533, dtype: int64"
            ]
          },
          "metadata": {
            "tags": []
          },
          "execution_count": 10
        }
      ]
    },
    {
      "cell_type": "code",
      "metadata": {
        "id": "p8tnOIws6Mh8",
        "colab_type": "code",
        "outputId": "8bd3fe52-9192-464d-9992-c5074a86cd50",
        "colab": {
          "base_uri": "https://localhost:8080/",
          "height": 312
        }
      },
      "source": [
        "!wget https://archive.ics.uci.edu/ml/machine-learning-databases/00492/Metro_Interstate_Traffic_Volume.csv.gz"
      ],
      "execution_count": 0,
      "outputs": [
        {
          "output_type": "stream",
          "text": [
            "--2019-08-06 21:50:02--  https://archive.ics.uci.edu/ml/machine-learning-databases/00492/Metro_Interstate_Traffic_Volume.csv.gz\n",
            "Resolving archive.ics.uci.edu (archive.ics.uci.edu)... 128.195.10.252\n",
            "Connecting to archive.ics.uci.edu (archive.ics.uci.edu)|128.195.10.252|:443... connected.\n",
            "HTTP request sent, awaiting response... 200 OK\n",
            "Length: 405373 (396K) [application/x-httpd-php]\n",
            "Saving to: ‘Metro_Interstate_Traffic_Volume.csv.gz’\n",
            "\n",
            "\r          Metro_Int   0%[                    ]       0  --.-KB/s               \rMetro_Interstate_Tr 100%[===================>] 395.87K  --.-KB/s    in 0.1s    \n",
            "\n",
            "2019-08-06 21:50:02 (3.26 MB/s) - ‘Metro_Interstate_Traffic_Volume.csv.gz’ saved [405373/405373]\n",
            "\n"
          ],
          "name": "stdout"
        }
      ]
    },
    {
      "cell_type": "code",
      "metadata": {
        "id": "DGdvSM_L6Sh0",
        "colab_type": "code",
        "colab": {}
      },
      "source": [
        "import gzip"
      ],
      "execution_count": 0,
      "outputs": []
    },
    {
      "cell_type": "code",
      "metadata": {
        "id": "n_46BD-p7mdp",
        "colab_type": "code",
        "outputId": "8169f240-9b90-482c-d162-a64d3580c865",
        "colab": {
          "base_uri": "https://localhost:8080/",
          "height": 254
        }
      },
      "source": [
        "f=gzip.open('Metro_Interstate_Traffic_Volume.csv.gz', 'rb')\n",
        "data=pd.read_csv(f)\n",
        "data.isna().sum()"
      ],
      "execution_count": 0,
      "outputs": [
        {
          "output_type": "execute_result",
          "data": {
            "text/plain": [
              "holiday                0\n",
              "temp                   0\n",
              "rain_1h                0\n",
              "snow_1h                0\n",
              "clouds_all             0\n",
              "weather_main           0\n",
              "weather_description    0\n",
              "date_time              0\n",
              "traffic_volume         0\n",
              "dtype: int64"
            ]
          },
          "metadata": {
            "tags": []
          },
          "execution_count": 30
        }
      ]
    },
    {
      "cell_type": "markdown",
      "metadata": {
        "id": "LJmcTWsb9sdP",
        "colab_type": "text"
      },
      "source": [
        "I couldn't find any more data with holes so I'll refill the first frame I used"
      ]
    },
    {
      "cell_type": "code",
      "metadata": {
        "id": "doi9ywuv7_oK",
        "colab_type": "code",
        "outputId": "4800eb84-fc56-4f03-b6f1-0df9d6244731",
        "colab": {
          "base_uri": "https://localhost:8080/",
          "height": 429
        }
      },
      "source": [
        "movies.isna().sum()"
      ],
      "execution_count": 0,
      "outputs": [
        {
          "output_type": "execute_result",
          "data": {
            "text/plain": [
              "budget                     0\n",
              "genres                     0\n",
              "homepage                3091\n",
              "id                         0\n",
              "keywords                   0\n",
              "original_language          0\n",
              "original_title             0\n",
              "overview                   3\n",
              "popularity                 0\n",
              "production_companies       0\n",
              "production_countries       0\n",
              "release_date               1\n",
              "revenue                    0\n",
              "runtime                    2\n",
              "spoken_languages           0\n",
              "status                     0\n",
              "tagline                  844\n",
              "title                      0\n",
              "vote_average               0\n",
              "vote_count                 0\n",
              "dtype: int64"
            ]
          },
          "metadata": {
            "tags": []
          },
          "execution_count": 26
        }
      ]
    },
    {
      "cell_type": "code",
      "metadata": {
        "id": "qwhRcsl596-O",
        "colab_type": "code",
        "outputId": "4b3a1d96-e593-49c5-c454-8b58c6bd4a8a",
        "colab": {
          "base_uri": "https://localhost:8080/",
          "height": 409
        }
      },
      "source": [
        "filled_movies=movies.fillna('Unknown')\n",
        "filled_movies.isna().sum()"
      ],
      "execution_count": 102,
      "outputs": [
        {
          "output_type": "execute_result",
          "data": {
            "text/plain": [
              "budget                  0\n",
              "genres                  0\n",
              "homepage                0\n",
              "id                      0\n",
              "keywords                0\n",
              "original_language       0\n",
              "original_title          0\n",
              "overview                0\n",
              "popularity              0\n",
              "production_companies    0\n",
              "production_countries    0\n",
              "release_date            0\n",
              "revenue                 0\n",
              "runtime                 0\n",
              "spoken_languages        0\n",
              "status                  0\n",
              "tagline                 0\n",
              "title                   0\n",
              "vote_average            0\n",
              "vote_count              0\n",
              "dtype: int64"
            ]
          },
          "metadata": {
            "tags": []
          },
          "execution_count": 102
        }
      ]
    },
    {
      "cell_type": "code",
      "metadata": {
        "id": "xJgtBA9ta1jz",
        "colab_type": "code",
        "colab": {
          "base_uri": "https://localhost:8080/",
          "height": 710
        },
        "outputId": "b2b9b014-dfe4-4b9d-d5e9-cae983906c61"
      },
      "source": [
        "filled_movies['original_language'].value_counts()"
      ],
      "execution_count": 103,
      "outputs": [
        {
          "output_type": "execute_result",
          "data": {
            "text/plain": [
              "en    4505\n",
              "fr      70\n",
              "es      32\n",
              "zh      27\n",
              "de      27\n",
              "hi      19\n",
              "ja      16\n",
              "it      14\n",
              "cn      12\n",
              "ko      11\n",
              "ru      11\n",
              "pt       9\n",
              "da       7\n",
              "sv       5\n",
              "fa       4\n",
              "nl       4\n",
              "th       3\n",
              "he       3\n",
              "cs       2\n",
              "ta       2\n",
              "id       2\n",
              "ar       2\n",
              "ro       2\n",
              "ps       1\n",
              "el       1\n",
              "ky       1\n",
              "vi       1\n",
              "xx       1\n",
              "pl       1\n",
              "is       1\n",
              "sl       1\n",
              "no       1\n",
              "af       1\n",
              "hu       1\n",
              "nb       1\n",
              "te       1\n",
              "tr       1\n",
              "Name: original_language, dtype: int64"
            ]
          },
          "metadata": {
            "tags": []
          },
          "execution_count": 103
        }
      ]
    },
    {
      "cell_type": "code",
      "metadata": {
        "id": "47-nK5QNcPx7",
        "colab_type": "code",
        "colab": {
          "base_uri": "https://localhost:8080/",
          "height": 232
        },
        "outputId": "6a85cd1a-0750-4ae2-c083-d57cc2e52a0f"
      },
      "source": [
        "!wget https://raw.githubusercontent.com/ryanleeallred/datasets/master/forestfires.csv"
      ],
      "execution_count": 105,
      "outputs": [
        {
          "output_type": "stream",
          "text": [
            "--2019-08-07 14:22:14--  https://raw.githubusercontent.com/ryanleeallred/datasets/master/forestfires.csv\n",
            "Resolving raw.githubusercontent.com (raw.githubusercontent.com)... 151.101.0.133, 151.101.64.133, 151.101.128.133, ...\n",
            "Connecting to raw.githubusercontent.com (raw.githubusercontent.com)|151.101.0.133|:443... connected.\n",
            "HTTP request sent, awaiting response... 200 OK\n",
            "Length: 25478 (25K) [text/plain]\n",
            "Saving to: ‘forestfires.csv’\n",
            "\n",
            "\rforestfires.csv       0%[                    ]       0  --.-KB/s               \rforestfires.csv     100%[===================>]  24.88K  --.-KB/s    in 0.007s  \n",
            "\n",
            "2019-08-07 14:22:14 (3.43 MB/s) - ‘forestfires.csv’ saved [25478/25478]\n",
            "\n"
          ],
          "name": "stdout"
        }
      ]
    },
    {
      "cell_type": "code",
      "metadata": {
        "id": "I0jqvcjldXgo",
        "colab_type": "code",
        "colab": {
          "base_uri": "https://localhost:8080/",
          "height": 228
        },
        "outputId": "391ca974-c0fd-4d6e-a3f9-90f22f3460d7"
      },
      "source": [
        "df_fires=pd.read_csv('forestfires.csv')\n",
        "df_fires.head()"
      ],
      "execution_count": 106,
      "outputs": [
        {
          "output_type": "execute_result",
          "data": {
            "text/html": [
              "<div>\n",
              "<style scoped>\n",
              "    .dataframe tbody tr th:only-of-type {\n",
              "        vertical-align: middle;\n",
              "    }\n",
              "\n",
              "    .dataframe tbody tr th {\n",
              "        vertical-align: top;\n",
              "    }\n",
              "\n",
              "    .dataframe thead th {\n",
              "        text-align: right;\n",
              "    }\n",
              "</style>\n",
              "<table border=\"1\" class=\"dataframe\">\n",
              "  <thead>\n",
              "    <tr style=\"text-align: right;\">\n",
              "      <th></th>\n",
              "      <th>X</th>\n",
              "      <th>Y</th>\n",
              "      <th>month</th>\n",
              "      <th>day</th>\n",
              "      <th>FFMC</th>\n",
              "      <th>DMC</th>\n",
              "      <th>DC</th>\n",
              "      <th>ISI</th>\n",
              "      <th>temp</th>\n",
              "      <th>RH</th>\n",
              "      <th>wind</th>\n",
              "      <th>rain</th>\n",
              "      <th>area</th>\n",
              "    </tr>\n",
              "  </thead>\n",
              "  <tbody>\n",
              "    <tr>\n",
              "      <th>0</th>\n",
              "      <td>7</td>\n",
              "      <td>5</td>\n",
              "      <td>mar</td>\n",
              "      <td>fri</td>\n",
              "      <td>86.2</td>\n",
              "      <td>26.2</td>\n",
              "      <td>94.3</td>\n",
              "      <td>5.1</td>\n",
              "      <td>8.2</td>\n",
              "      <td>51</td>\n",
              "      <td>6.7</td>\n",
              "      <td>0.0</td>\n",
              "      <td>0.0</td>\n",
              "    </tr>\n",
              "    <tr>\n",
              "      <th>1</th>\n",
              "      <td>7</td>\n",
              "      <td>4</td>\n",
              "      <td>oct</td>\n",
              "      <td>tue</td>\n",
              "      <td>90.6</td>\n",
              "      <td>35.4</td>\n",
              "      <td>669.1</td>\n",
              "      <td>6.7</td>\n",
              "      <td>18.0</td>\n",
              "      <td>33</td>\n",
              "      <td>0.9</td>\n",
              "      <td>0.0</td>\n",
              "      <td>0.0</td>\n",
              "    </tr>\n",
              "    <tr>\n",
              "      <th>2</th>\n",
              "      <td>7</td>\n",
              "      <td>4</td>\n",
              "      <td>oct</td>\n",
              "      <td>sat</td>\n",
              "      <td>90.6</td>\n",
              "      <td>43.7</td>\n",
              "      <td>686.9</td>\n",
              "      <td>6.7</td>\n",
              "      <td>14.6</td>\n",
              "      <td>33</td>\n",
              "      <td>1.3</td>\n",
              "      <td>0.0</td>\n",
              "      <td>0.0</td>\n",
              "    </tr>\n",
              "    <tr>\n",
              "      <th>3</th>\n",
              "      <td>8</td>\n",
              "      <td>6</td>\n",
              "      <td>mar</td>\n",
              "      <td>fri</td>\n",
              "      <td>91.7</td>\n",
              "      <td>33.3</td>\n",
              "      <td>77.5</td>\n",
              "      <td>9.0</td>\n",
              "      <td>8.3</td>\n",
              "      <td>97</td>\n",
              "      <td>4.0</td>\n",
              "      <td>0.2</td>\n",
              "      <td>0.0</td>\n",
              "    </tr>\n",
              "    <tr>\n",
              "      <th>4</th>\n",
              "      <td>8</td>\n",
              "      <td>6</td>\n",
              "      <td>mar</td>\n",
              "      <td>sun</td>\n",
              "      <td>89.3</td>\n",
              "      <td>51.3</td>\n",
              "      <td>102.2</td>\n",
              "      <td>9.6</td>\n",
              "      <td>11.4</td>\n",
              "      <td>99</td>\n",
              "      <td>1.8</td>\n",
              "      <td>0.0</td>\n",
              "      <td>0.0</td>\n",
              "    </tr>\n",
              "  </tbody>\n",
              "</table>\n",
              "</div>"
            ],
            "text/plain": [
              "   X  Y month  day  FFMC   DMC     DC  ISI  temp  RH  wind  rain  area\n",
              "0  7  5   mar  fri  86.2  26.2   94.3  5.1   8.2  51   6.7   0.0   0.0\n",
              "1  7  4   oct  tue  90.6  35.4  669.1  6.7  18.0  33   0.9   0.0   0.0\n",
              "2  7  4   oct  sat  90.6  43.7  686.9  6.7  14.6  33   1.3   0.0   0.0\n",
              "3  8  6   mar  fri  91.7  33.3   77.5  9.0   8.3  97   4.0   0.2   0.0\n",
              "4  8  6   mar  sun  89.3  51.3  102.2  9.6  11.4  99   1.8   0.0   0.0"
            ]
          },
          "metadata": {
            "tags": []
          },
          "execution_count": 106
        }
      ]
    },
    {
      "cell_type": "code",
      "metadata": {
        "id": "rcGV8-SWdfbP",
        "colab_type": "code",
        "colab": {
          "base_uri": "https://localhost:8080/",
          "height": 268
        },
        "outputId": "1dba7b3a-f546-4213-afe7-62b3b75e14e8"
      },
      "source": [
        "df_fires['month'].value_counts()"
      ],
      "execution_count": 110,
      "outputs": [
        {
          "output_type": "execute_result",
          "data": {
            "text/plain": [
              "aug    184\n",
              "sep    172\n",
              "mar     54\n",
              "jul     32\n",
              "feb     20\n",
              "jun     17\n",
              "oct     15\n",
              "apr      9\n",
              "dec      9\n",
              "jan      2\n",
              "may      2\n",
              "nov      1\n",
              "Name: month, dtype: int64"
            ]
          },
          "metadata": {
            "tags": []
          },
          "execution_count": 110
        }
      ]
    },
    {
      "cell_type": "code",
      "metadata": {
        "id": "9uF76Uuldktc",
        "colab_type": "code",
        "colab": {
          "base_uri": "https://localhost:8080/",
          "height": 307
        },
        "outputId": "7ef80e75-0d7f-407e-e19a-eb7978cff3a0"
      },
      "source": [
        "df_fires['wind'].hist()"
      ],
      "execution_count": 109,
      "outputs": [
        {
          "output_type": "execute_result",
          "data": {
            "text/plain": [
              "<matplotlib.axes._subplots.AxesSubplot at 0x7f552df85518>"
            ]
          },
          "metadata": {
            "tags": []
          },
          "execution_count": 109
        },
        {
          "output_type": "display_data",
          "data": {
            "image/png": "[encoded data removed]",
            "text/plain": [
              "<Figure size 432x288 with 1 Axes>"
            ]
          },
          "metadata": {
            "tags": []
          }
        }
      ]
    },
    {
      "cell_type": "code",
      "metadata": {
        "id": "EfEkJMudeWR7",
        "colab_type": "code",
        "colab": {
          "base_uri": "https://localhost:8080/",
          "height": 307
        },
        "outputId": "7dd8a09c-5e31-4927-c85f-0bd93bcb903e"
      },
      "source": [
        "df_fires['wind'].plot.density()"
      ],
      "execution_count": 111,
      "outputs": [
        {
          "output_type": "execute_result",
          "data": {
            "text/plain": [
              "<matplotlib.axes._subplots.AxesSubplot at 0x7f552dd43630>"
            ]
          },
          "metadata": {
            "tags": []
          },
          "execution_count": 111
        },
        {
          "output_type": "display_data",
          "data": {
            "image/png": "[encoded data removed]",
            "text/plain": [
              "<Figure size 432x288 with 1 Axes>"
            ]
          },
          "metadata": {
            "tags": []
          }
        }
      ]
    },
    {
      "cell_type": "code",
      "metadata": {
        "id": "Tg5yIjwSedEW",
        "colab_type": "code",
        "colab": {
          "base_uri": "https://localhost:8080/",
          "height": 321
        },
        "outputId": "51b99a93-01e5-4897-b4d3-287356932bf7"
      },
      "source": [
        "df_fires.plot.scatter('temp','wind')"
      ],
      "execution_count": 117,
      "outputs": [
        {
          "output_type": "execute_result",
          "data": {
            "text/plain": [
              "<matplotlib.axes._subplots.AxesSubplot at 0x7f553a90bb00>"
            ]
          },
          "metadata": {
            "tags": []
          },
          "execution_count": 117
        },
        {
          "output_type": "display_data",
          "data": {
            "image/png": "[encoded data removed]",
            "text/plain": [
              "<Figure size 432x288 with 1 Axes>"
            ]
          },
          "metadata": {
            "tags": []
          }
        }
      ]
    },
    {
      "cell_type": "markdown",
      "metadata": {
        "id": "MZCxTwKuReV9",
        "colab_type": "text"
      },
      "source": [
        "## Stretch Goals - Other types and sources of data\n",
        "\n",
        "Not all data comes in a nice single file - for example, image classification involves handling lots of image files. You still will probably want labels for them, so you may have tabular data in addition to the image blobs - and the images may be reduced in resolution and even fit in a regular csv as a bunch of numbers.\n",
        "\n",
        "If you're interested in natural language processing and analyzing text, that is another example where, while it can be put in a csv, you may end up loading much larger raw data and generating features that can then be thought of in a more standard tabular fashion.\n",
        "\n",
        "Overall you will in the course of learning data science deal with loading data in a variety of ways. Another common way to get data is from a database - most modern applications are backed by one or more databases, which you can query to get data to analyze. We'll cover this more in our data engineering unit.\n",
        "\n",
        "How does data get in the database? Most applications generate logs - text files with lots and lots of records of each use of the application. Databases are often populated based on these files, but in some situations you may directly analyze log files. The usual way to do this is with command line (Unix) tools - command lines are intimidating, so don't expect to learn them all at once, but depending on your interests it can be useful to practice.\n",
        "\n",
        "One last major source of data is APIs: https://github.com/toddmotto/public-apis\n",
        "\n",
        "API stands for Application Programming Interface, and while originally meant e.g. the way an application interfaced with the GUI or other aspects of an operating system, now it largely refers to online services that let you query and retrieve data. You can essentially think of most of them as \"somebody else's database\" - you have (usually limited) access.\n",
        "\n",
        "*Stretch goal* - research one of the above extended forms of data/data loading. See if you can get a basic example working in a notebook. Image, text, or (public) APIs are probably more tractable - databases are interesting, but there aren't many publicly accessible and they require a great deal of setup."
      ]
    },
    {
      "cell_type": "code",
      "metadata": {
        "id": "jvuk8DNGJrNU",
        "colab_type": "code",
        "colab": {}
      },
      "source": [
        "import requests\n",
        "import json"
      ],
      "execution_count": 0,
      "outputs": []
    },
    {
      "cell_type": "code",
      "metadata": {
        "id": "f4QP6--JBXNK",
        "colab_type": "code",
        "outputId": "1a388815-fac9-4b32-95fb-62680874c3a3",
        "colab": {
          "base_uri": "https://localhost:8080/",
          "height": 95
        }
      },
      "source": [
        "response=requests.get(\"http://api.open-notify.org/iss-now.json\")\n",
        "print(response.content)"
      ],
      "execution_count": 0,
      "outputs": [
        {
          "output_type": "stream",
          "text": [
            "b'{\"iss_position\": {\"latitude\": \"49.0762\", \"longitude\": \"-171.0564\"}, \"timestamp\": 1565154650, \"message\": \"success\"}'\n"
          ],
          "name": "stdout"
        }
      ]
    },
    {
      "cell_type": "code",
      "metadata": {
        "id": "LVyJODUXMIrq",
        "colab_type": "code",
        "outputId": "bfbdbfe5-f5d7-4d56-f40f-8bf9562d98c2",
        "colab": {
          "base_uri": "https://localhost:8080/",
          "height": 130
        }
      },
      "source": [
        "data=response.json()\n",
        "print(type(data))\n",
        "print(data)\n",
        "print(data['iss_position']['longitude'])"
      ],
      "execution_count": 0,
      "outputs": [
        {
          "output_type": "stream",
          "text": [
            "<class 'dict'>\n",
            "{'iss_position': {'latitude': '49.0762', 'longitude': '-171.0564'}, 'timestamp': 1565154650, 'message': 'success'}\n",
            "-171.0564\n"
          ],
          "name": "stdout"
        }
      ]
    },
    {
      "cell_type": "code",
      "metadata": {
        "id": "P71pS2Rnehnw",
        "colab_type": "code",
        "colab": {}
      },
      "source": [
        "import time\n",
        "import sklearn.linear_model as linMod\n",
        "from sklearn.model_selection import train_test_split\n",
        "from sklearn.metrics import mean_absolute_error\n",
        "import seaborn as sns\n",
        "from sklearn.pipeline import make_pipeline\n",
        "from sklearn.preprocessing import PolynomialFeatures"
      ],
      "execution_count": 0,
      "outputs": []
    },
    {
      "cell_type": "code",
      "metadata": {
        "id": "1jQRF3ANeCUx",
        "colab_type": "code",
        "colab": {}
      },
      "source": [
        "pos={'timestamp':[data['timestamp']], \n",
        "     'latitude':[data['iss_position']['latitude']], \n",
        "     'longitude':[data['iss_position']['longitude']]}\n",
        "header=['timestamp','latitude', 'longitude']\n",
        "positions=pd.DataFrame(pos)"
      ],
      "execution_count": 0,
      "outputs": []
    },
    {
      "cell_type": "code",
      "metadata": {
        "id": "Seob9tocMyWS",
        "colab_type": "code",
        "outputId": "c72d64b4-30e3-42e6-fa61-a338871bac92",
        "colab": {
          "base_uri": "https://localhost:8080/",
          "height": 141
        }
      },
      "source": [
        "def getLatLon():\n",
        "  response=requests.get(\"http://api.open-notify.org/iss-now.json\")\n",
        "  data=response.json()\n",
        "  pos2={'timestamp':[data['timestamp']], \n",
        "     'latitude':[data['iss_position']['latitude']], \n",
        "     'longitude':[data['iss_position']['longitude']]}\n",
        "  df2=pd.DataFrame(pos2)\n",
        "  global positions\n",
        "  positions=positions.append(df2, ignore_index=True)\n",
        "  \n",
        "\n",
        "\n",
        "\n",
        "positions.head()"
      ],
      "execution_count": 0,
      "outputs": [
        {
          "output_type": "execute_result",
          "data": {
            "text/html": [
              "<div>\n",
              "<style scoped>\n",
              "    .dataframe tbody tr th:only-of-type {\n",
              "        vertical-align: middle;\n",
              "    }\n",
              "\n",
              "    .dataframe tbody tr th {\n",
              "        vertical-align: top;\n",
              "    }\n",
              "\n",
              "    .dataframe thead th {\n",
              "        text-align: right;\n",
              "    }\n",
              "</style>\n",
              "<table border=\"1\" class=\"dataframe\">\n",
              "  <thead>\n",
              "    <tr style=\"text-align: right;\">\n",
              "      <th></th>\n",
              "      <th>timestamp</th>\n",
              "      <th>latitude</th>\n",
              "      <th>longitude</th>\n",
              "    </tr>\n",
              "  </thead>\n",
              "  <tbody>\n",
              "    <tr>\n",
              "      <th>0</th>\n",
              "      <td>1565154650</td>\n",
              "      <td>49.0762</td>\n",
              "      <td>-171.0564</td>\n",
              "    </tr>\n",
              "  </tbody>\n",
              "</table>\n",
              "</div>"
            ],
            "text/plain": [
              "    timestamp latitude  longitude\n",
              "0  1565154650  49.0762  -171.0564"
            ]
          },
          "metadata": {
            "tags": []
          },
          "execution_count": 81
        }
      ]
    },
    {
      "cell_type": "code",
      "metadata": {
        "id": "PxhCg_jOe4T1",
        "colab_type": "code",
        "outputId": "b6fb474a-9b25-49cc-cd3f-ea9a3ddd2b8a",
        "colab": {
          "base_uri": "https://localhost:8080/",
          "height": 115
        }
      },
      "source": [
        "print('message 1')\n",
        "time.sleep(10)\n",
        "print('message 2')"
      ],
      "execution_count": 0,
      "outputs": [
        {
          "output_type": "stream",
          "text": [
            "message 1\n",
            "message 2\n"
          ],
          "name": "stdout"
        }
      ]
    },
    {
      "cell_type": "code",
      "metadata": {
        "id": "8-kF64SEa6eg",
        "colab_type": "code",
        "outputId": "0dcb7d37-56d4-4485-e79d-4f2c45952022",
        "colab": {
          "base_uri": "https://localhost:8080/",
          "height": 264
        }
      },
      "source": [
        "for i in range(480):\n",
        "  #getLatLon()\n",
        "  time.sleep(2)"
      ],
      "execution_count": 0,
      "outputs": [
        {
          "output_type": "error",
          "ename": "KeyboardInterrupt",
          "evalue": "ignored",
          "traceback": [
            "\u001b[0;31m---------------------------------------------------------------------------\u001b[0m",
            "\u001b[0;31mKeyboardInterrupt\u001b[0m                         Traceback (most recent call last)",
            "\u001b[0;32m<ipython-input-85-3b106cd0a7b7>\u001b[0m in \u001b[0;36m<module>\u001b[0;34m()\u001b[0m\n\u001b[1;32m      1\u001b[0m \u001b[0;32mfor\u001b[0m \u001b[0mi\u001b[0m \u001b[0;32min\u001b[0m \u001b[0mrange\u001b[0m\u001b[0;34m(\u001b[0m\u001b[0;36m480\u001b[0m\u001b[0;34m)\u001b[0m\u001b[0;34m:\u001b[0m\u001b[0;34m\u001b[0m\u001b[0;34m\u001b[0m\u001b[0m\n\u001b[1;32m      2\u001b[0m   \u001b[0;31m#getLatLon()\u001b[0m\u001b[0;34m\u001b[0m\u001b[0;34m\u001b[0m\u001b[0;34m\u001b[0m\u001b[0m\n\u001b[0;32m----> 3\u001b[0;31m   \u001b[0mtime\u001b[0m\u001b[0;34m.\u001b[0m\u001b[0msleep\u001b[0m\u001b[0;34m(\u001b[0m\u001b[0;36m2\u001b[0m\u001b[0;34m)\u001b[0m\u001b[0;34m\u001b[0m\u001b[0;34m\u001b[0m\u001b[0m\n\u001b[0m",
            "\u001b[0;31mKeyboardInterrupt\u001b[0m: "
          ]
        }
      ]
    },
    {
      "cell_type": "code",
      "metadata": {
        "id": "NhWelKNrcx13",
        "colab_type": "code",
        "outputId": "594f3288-0053-49aa-92ec-70a77e2e46d7",
        "colab": {
          "base_uri": "https://localhost:8080/",
          "height": 95
        }
      },
      "source": [
        "positions.read_csv('iss_positions_overnight.data')\n",
        "\n"
      ],
      "execution_count": 0,
      "outputs": [
        {
          "output_type": "execute_result",
          "data": {
            "text/plain": [
              "(481, 3)"
            ]
          },
          "metadata": {
            "tags": []
          },
          "execution_count": 84
        }
      ]
    },
    {
      "cell_type": "code",
      "metadata": {
        "id": "18lQvz6iRyD4",
        "colab_type": "code",
        "colab": {}
      },
      "source": [
        "exported=positions.to_csv('iss_positions_overnight.data')"
      ],
      "execution_count": 0,
      "outputs": []
    },
    {
      "cell_type": "code",
      "metadata": {
        "id": "Zs45bZGvV0fa",
        "colab_type": "code",
        "colab": {}
      },
      "source": [
        "train, test=train_test_split(positions, random_state=0)\n",
        "linReg=linMod.LinearRegression() "
      ],
      "execution_count": 0,
      "outputs": []
    },
    {
      "cell_type": "code",
      "metadata": {
        "id": "hoavHFDuVaYU",
        "colab_type": "code",
        "colab": {
          "base_uri": "https://localhost:8080/",
          "height": 1000
        },
        "outputId": "82245a82-aa76-40ff-c502-e96bc3de4109"
      },
      "source": [
        "features=['timestamp','latitude']\n",
        "target='longitude'\n",
        "best=None\n",
        "score=500\n",
        "for i in range(20):\n",
        "  degree=i\n",
        "  model=make_pipeline(PolynomialFeatures(degree=i), linReg)\n",
        "  model.fit(train[features], train[target])\n",
        "  y_true=train[target]\n",
        "  y_pred=model.predict(train[features])\n",
        "  print(i, 'degree Polynomial:')\n",
        "  print ('train accuracy: ', mean_absolute_error(y_true,y_pred))\n",
        "  y_true = test[target]\n",
        "  y_pred = model.predict(test[features])\n",
        "  print('Test accuracy:', mean_absolute_error(y_true, y_pred))\n",
        "  if (mean_absolute_error(y_true, y_pred)<score):\n",
        "    best=degree\n",
        "    score=mean_absolute_error(y_true, y_pred)\n",
        "print('Best Score:', best, 'Accuracy:', score)"
      ],
      "execution_count": 99,
      "outputs": [
        {
          "output_type": "stream",
          "text": [
            "0 degree Polynomial:\n",
            "train accuracy:  88.98299222839506\n",
            "Test accuracy: 86.16197846648302\n",
            "1 degree Polynomial:\n",
            "train accuracy:  69.54721452069307\n",
            "Test accuracy: 72.15209546060169\n",
            "2 degree Polynomial:\n",
            "train accuracy:  67.30740195285374\n",
            "Test accuracy: 70.01501731017561\n",
            "3 degree Polynomial:\n",
            "train accuracy:  67.70426062201606\n",
            "Test accuracy: 70.41123156677749\n",
            "4 degree Polynomial:\n",
            "train accuracy:  67.70480798868816\n",
            "Test accuracy: 70.41169651847397\n",
            "5 degree Polynomial:\n",
            "train accuracy:  67.70470261827258\n",
            "Test accuracy: 70.41156675571409\n",
            "6 degree Polynomial:\n",
            "train accuracy:  67.70593241309273\n",
            "Test accuracy: 70.41263168677968\n",
            "7 degree Polynomial:\n",
            "train accuracy:  67.696756985338\n",
            "Test accuracy: 70.40406974063589\n",
            "8 degree Polynomial:\n",
            "train accuracy:  67.7260062296041\n",
            "Test accuracy: 70.45318699446747\n",
            "9 degree Polynomial:\n",
            "train accuracy:  67.69014357184517\n",
            "Test accuracy: 70.41847807289311\n",
            "10 degree Polynomial:\n",
            "train accuracy:  67.7243169492001\n",
            "Test accuracy: 70.44818326236944\n",
            "11 degree Polynomial:\n",
            "train accuracy:  67.68595596672907\n",
            "Test accuracy: 70.39390218526034\n",
            "12 degree Polynomial:\n",
            "train accuracy:  67.64307408601125\n",
            "Test accuracy: 70.36880347129883\n",
            "13 degree Polynomial:\n",
            "train accuracy:  67.70778066570706\n",
            "Test accuracy: 70.41415068504395\n",
            "14 degree Polynomial:\n",
            "train accuracy:  67.7939793320677\n",
            "Test accuracy: 70.50913998087732\n",
            "15 degree Polynomial:\n",
            "train accuracy:  67.74493804231432\n",
            "Test accuracy: 70.45852664849146\n",
            "16 degree Polynomial:\n",
            "train accuracy:  67.71735876919641\n",
            "Test accuracy: 70.4371561469338\n",
            "17 degree Polynomial:\n",
            "train accuracy:  67.71359121258206\n",
            "Test accuracy: 70.41944472821447\n",
            "18 degree Polynomial:\n",
            "train accuracy:  67.67420675743104\n",
            "Test accuracy: 70.39727356977856\n",
            "19 degree Polynomial:\n",
            "train accuracy:  67.75884555964153\n",
            "Test accuracy: 70.47899265695366\n",
            "Best Score: 2 Accuracy: 70.01501731017561\n"
          ],
          "name": "stdout"
        }
      ]
    },
    {
      "cell_type": "markdown",
      "metadata": {
        "id": "w8ZLjxJ8Wyk7",
        "colab_type": "text"
      },
      "source": [
        "the fact that a second degree worked is most likely a side effect of that I only collected data for one night. If I had more time collecting data I suspect that a higher degree would start showing up as the predictive power of this will be limited off the extremes. This assumption is based on that the data is a path through the sky that will go up and down. "
      ]
    },
    {
      "cell_type": "markdown",
      "metadata": {
        "id": "Q0gc1VgbMCu9",
        "colab_type": "text"
      },
      "source": [
        "Below here I am just copying some code to see how it works while I'm practicing"
      ]
    },
    {
      "cell_type": "code",
      "metadata": {
        "id": "uQlUiIo4LkQE",
        "colab_type": "code",
        "outputId": "bb3f7f92-be10-43a7-c90d-5cbc0be3ae13",
        "colab": {
          "base_uri": "https://localhost:8080/",
          "height": 75
        }
      },
      "source": [
        "# Make a list of fast food chains.\n",
        "best_food_chains = [\"Taco Bell\", \"Shake Shack\", \"Chipotle\"]\n",
        "# This is a list.\n",
        "print(type(best_food_chains))"
      ],
      "execution_count": 0,
      "outputs": [
        {
          "output_type": "stream",
          "text": [
            "<class 'list'>\n"
          ],
          "name": "stdout"
        }
      ]
    },
    {
      "cell_type": "code",
      "metadata": {
        "id": "M3fk4TgwLkGO",
        "colab_type": "code",
        "outputId": "d05bbad5-e9e8-414d-b241-6172f401b9b7",
        "colab": {
          "base_uri": "https://localhost:8080/",
          "height": 95
        }
      },
      "source": [
        "best_food_chains_string = json.dumps(best_food_chains)\n",
        "# We've successfully converted our list to a string.\n",
        "print(type(best_food_chains_string))"
      ],
      "execution_count": 0,
      "outputs": [
        {
          "output_type": "stream",
          "text": [
            "<class 'str'>\n"
          ],
          "name": "stdout"
        }
      ]
    },
    {
      "cell_type": "code",
      "metadata": {
        "id": "jBhj7o2uLvgk",
        "colab_type": "code",
        "outputId": "ce89cecc-c1db-4ec3-b736-e4414be460ed",
        "colab": {
          "base_uri": "https://localhost:8080/",
          "height": 75
        }
      },
      "source": [
        "print(type(json.loads(best_food_chains_string)))\n"
      ],
      "execution_count": 0,
      "outputs": [
        {
          "output_type": "stream",
          "text": [
            "<class 'list'>\n"
          ],
          "name": "stdout"
        }
      ]
    },
    {
      "cell_type": "code",
      "metadata": {
        "id": "xWDxdj7CLvay",
        "colab_type": "code",
        "outputId": "3de50fb5-a711-477e-a88a-2598ceaf9f69",
        "colab": {
          "base_uri": "https://localhost:8080/",
          "height": 95
        }
      },
      "source": [
        "fast_food_franchise = {\n",
        "    \"Subway\": 24722,\n",
        "    \"McDonalds\": 14098,\n",
        "    \"Starbucks\": 10821,\n",
        "    \"Pizza Hut\": 7600\n",
        "}\n",
        "# We can also dump a dictionary to a string and load it.\n",
        "fast_food_franchise_string = json.dumps(fast_food_franchise)\n",
        "print(fast_food_franchise_string)"
      ],
      "execution_count": 0,
      "outputs": [
        {
          "output_type": "stream",
          "text": [
            "{\"Subway\": 24722, \"McDonalds\": 14098, \"Starbucks\": 10821, \"Pizza Hut\": 7600}\n"
          ],
          "name": "stdout"
        }
      ]
    },
    {
      "cell_type": "code",
      "metadata": {
        "id": "wp4CGvIXdfN-",
        "colab_type": "code",
        "outputId": "d1e68f6c-6a3b-407b-e351-d29e0006298b",
        "colab": {
          "base_uri": "https://localhost:8080/",
          "height": 236
        }
      },
      "source": [
        "df = pd.DataFrame([[1, 2], [3, 4]], columns=list('AB'))\n",
        "df2 = pd.DataFrame([[5, 6], [7, 8]], columns=list('AB'))\n",
        "df=df.append(df2)\n",
        "df.head()"
      ],
      "execution_count": 0,
      "outputs": [
        {
          "output_type": "execute_result",
          "data": {
            "text/html": [
              "<div>\n",
              "<style scoped>\n",
              "    .dataframe tbody tr th:only-of-type {\n",
              "        vertical-align: middle;\n",
              "    }\n",
              "\n",
              "    .dataframe tbody tr th {\n",
              "        vertical-align: top;\n",
              "    }\n",
              "\n",
              "    .dataframe thead th {\n",
              "        text-align: right;\n",
              "    }\n",
              "</style>\n",
              "<table border=\"1\" class=\"dataframe\">\n",
              "  <thead>\n",
              "    <tr style=\"text-align: right;\">\n",
              "      <th></th>\n",
              "      <th>A</th>\n",
              "      <th>B</th>\n",
              "    </tr>\n",
              "  </thead>\n",
              "  <tbody>\n",
              "    <tr>\n",
              "      <th>0</th>\n",
              "      <td>1</td>\n",
              "      <td>2</td>\n",
              "    </tr>\n",
              "    <tr>\n",
              "      <th>1</th>\n",
              "      <td>3</td>\n",
              "      <td>4</td>\n",
              "    </tr>\n",
              "    <tr>\n",
              "      <th>0</th>\n",
              "      <td>5</td>\n",
              "      <td>6</td>\n",
              "    </tr>\n",
              "    <tr>\n",
              "      <th>1</th>\n",
              "      <td>7</td>\n",
              "      <td>8</td>\n",
              "    </tr>\n",
              "  </tbody>\n",
              "</table>\n",
              "</div>"
            ],
            "text/plain": [
              "   A  B\n",
              "0  1  2\n",
              "1  3  4\n",
              "0  5  6\n",
              "1  7  8"
            ]
          },
          "metadata": {
            "tags": []
          },
          "execution_count": 54
        }
      ]
    }
  ]
}