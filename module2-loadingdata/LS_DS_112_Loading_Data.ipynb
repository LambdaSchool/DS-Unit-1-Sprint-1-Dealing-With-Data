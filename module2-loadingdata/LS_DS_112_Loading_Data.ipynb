{
  "nbformat": 4,
  "nbformat_minor": 0,
  "metadata": {
    "colab": {
      "name": "LS_DS_112_Loading_Data.ipynb",
      "version": "0.3.2",
      "provenance": [],
      "collapsed_sections": [],
      "include_colab_link": true
    },
    "kernelspec": {
      "name": "python3",
      "display_name": "Python 3"
    }
  },
  "cells": [
    {
      "cell_type": "markdown",
      "metadata": {
        "id": "view-in-github",
        "colab_type": "text"
      },
      "source": [
        "<a href=\"https://colab.research.google.com/github/timidsurgeon/DS-Unit-1-Sprint-1-Dealing-With-Data/blob/master/module2-loadingdata/LS_DS_112_Loading_Data.ipynb\" target=\"_parent\"><img src=\"https://colab.research.google.com/assets/colab-badge.svg\" alt=\"Open In Colab\"/></a>"
      ]
    },
    {
      "cell_type": "markdown",
      "metadata": {
        "id": "-c0vWATuQ_Dn",
        "colab_type": "text"
      },
      "source": [
        "# Lambda School Data Science - Loading, Cleaning and Visualizing Data\n",
        "\n",
        "Objectives for today:\n",
        "- Load data from multiple sources into a Python notebook \n",
        " - !curl method\n",
        " - CSV upload method\n",
        "- Create basic plots appropriate for different data types\n",
        " - Scatter Plot\n",
        " - Histogram\n",
        " - Density Plot\n",
        " - Pairplot\n",
        "- \"Clean\" a dataset using common Python libraries\n",
        " - Removing NaN values \"Interpolation\""
      ]
    },
    {
      "cell_type": "markdown",
      "metadata": {
        "id": "SIqqgVWVtXsN",
        "colab_type": "text"
      },
      "source": [
        "# Code Challenge "
      ]
    },
    {
      "cell_type": "markdown",
      "metadata": {
        "id": "-apF5SnatOSh",
        "colab_type": "text"
      },
      "source": [
        "Boolean expressions and list comprehensions are a great way to quickly filter data and can be an incredibly powerful tool. They will serve you well the rest of your career.\n",
        "In today's assignment we will reinforce them by playing with some toy data.\n",
        "------------------------------------------------------------------------------------------------------------------\n",
        "You have always dreamed of being a homeowner near a body of water. The breeze blowing in your hair, the sun kissing your skin. Ahhh.. \n",
        "\n",
        "You cannot stand to wait another day. You empty your bank, taking your life savings and commit to your dream. At the end of the day you calculate your budget to be $550,000. Being a savvy data scientist, you've collected data on all the homes calling your name ahead of time.\n",
        "\n",
        "In your quest for the right home, you've narrowed down a list of things you want.\n",
        "\n",
        "    A home that is less than 20 years old.\n",
        "    A home with more than one bathroom.\n",
        "    A home that meets your budget\n",
        "\n",
        "-----------------------------------------------------------------------------------------------------------------\n",
        "Assignment:\n",
        "\n",
        "If you're unfamiliar with them, lookup python boolean expressions and try to gain an intuition for how the operation is performed and how they work. Same for pythonic list comprehensions. Specifically lookup examples of both being used with pandas.\n",
        "\n",
        "1. Write a multi-line comment in your code explaining boolean expressions and list comprehensions in your own way.\n",
        "\n",
        "2 . Write a multi-boolean expression that filters your dataframe for the conditions in the bulleted list.\n",
        "\n",
        "    Practice a single condition first to get a feel for how it works and then try your hand at combining boolean expressions in a single condition. Look up examples to help you if you get stuck.\n",
        "\n",
        "\n",
        "Example of chained boolean filters for dataframes:\n",
        "\n",
        "df_zoo[(df_zoo['state'] == 'NH') & (df_zoo['pets_allowed'] == 'yes')]\n",
        "\n",
        "-----------------------------------------------------------------------------------------------------------------\n",
        "Stretch Goals: \n",
        "\n",
        "\n",
        "1. Create a copy of the existing dataframe.\n",
        "\n",
        "2. Lookup documentation for np.where() and use it to create a new column on your new dataframe.\n",
        "The new column cells should say 'Possible Dream Home' if the row is true, and 'No Thanks' if the row is false. \n",
        "\n",
        "Be careful! The way that you make a copy of your dataframe may be important to success.\n",
        "\n",
        "Example: \n",
        "We create a column elderly where age > 50 and give values of yes if over 50 and no if below 50.\n",
        " \n",
        "\n",
        "new_df['elderly'] = np.where(new_df['age']>= 50, 'yes', 'no')\n"
      ]
    },
    {
      "cell_type": "code",
      "metadata": {
        "id": "aFVaeyQ4ts93",
        "colab_type": "code",
        "colab": {}
      },
      "source": [
        "import pandas as pd"
      ],
      "execution_count": 0,
      "outputs": []
    },
    {
      "cell_type": "code",
      "metadata": {
        "id": "Mn_25JvLt0X8",
        "colab_type": "code",
        "colab": {}
      },
      "source": [
        "import numpy as np "
      ],
      "execution_count": 0,
      "outputs": []
    },
    {
      "cell_type": "code",
      "metadata": {
        "id": "VB0xREmht2yp",
        "colab_type": "code",
        "outputId": "e8f4e97f-7f22-41e4-ebf6-4e45916f50d8",
        "colab": {
          "base_uri": "https://localhost:8080/",
          "height": 119
        }
      },
      "source": [
        "# load in data\n",
        "df = pd.read_csv('http://raw.githubusercontent.com' + '/edwardauron/LambdaCodeChallenges/master/fake_housing_data.csv', index_col=0)\n",
        "\n",
        "# run me before coding to explore dataset \n",
        "print(df.head())\n",
        "\n",
        "def boolean_filter(dataframe):\n",
        "  pass"
      ],
      "execution_count": 0,
      "outputs": [
        {
          "output_type": "stream",
          "text": [
            "    price  age  num_bathrooms pets_allowed state\n",
            "0  357453   35              2          yes    NH\n",
            "1  390604    9              4          yes    IN\n",
            "2  567497    5              1           no    WV\n",
            "3  343231   37              1          yes    WA\n",
            "4  603930   24              3           no    DE\n"
          ],
          "name": "stdout"
        }
      ]
    },
    {
      "cell_type": "code",
      "metadata": {
        "id": "LVJr0-BHyF49",
        "colab_type": "code",
        "colab": {}
      },
      "source": [
        "desired_house_filter = df[(df['price'] < 550000) & (df['num_bathrooms'] > 1) & (df['age'] < 20)]\n",
        "\n",
        "\"\"\"This is a multi-line comment used to explain what is happening in a specific block of code. \n",
        "It is used as documentation for people that wish to use your code. Usually accessed using the ?\n",
        "Boolean expressions often referred to as logical expressions evaluate a state as either being True or False\n",
        "\"\"\"\n",
        "pass"
      ],
      "execution_count": 0,
      "outputs": []
    },
    {
      "cell_type": "code",
      "metadata": {
        "id": "AiKG7DUOyXZj",
        "colab_type": "code",
        "outputId": "758afe89-b388-4fe3-af77-66bee1ee5fd6",
        "colab": {
          "base_uri": "https://localhost:8080/",
          "height": 1000
        }
      },
      "source": [
        "print(desired_house_filter)"
      ],
      "execution_count": 0,
      "outputs": [
        {
          "output_type": "stream",
          "text": [
            "      price  age  num_bathrooms pets_allowed state\n",
            "1    390604    9              4          yes    IN\n",
            "18   383494   19              3           no    OH\n",
            "23   494893    1              3           no    NV\n",
            "28   368678   15              2           no    HI\n",
            "30   370983    3              2          yes    UT\n",
            "32   352652    4              3           no    WA\n",
            "33   415680    4              2           no    WI\n",
            "35   378846   10              2          yes    WA\n",
            "37   473119    2              4           no    ID\n",
            "47   385314   14              4           no    UT\n",
            "54   395152   13              4          yes    NY\n",
            "55   528321    4              4           no    MT\n",
            "61   434439    1              2           no    SD\n",
            "63   481283   19              4           no    AL\n",
            "64   443675    8              3          yes    NJ\n",
            "78   483927   14              2          yes    SD\n",
            "84   391982    6              4          yes    MO\n",
            "106  436167    3              3           no    IL\n",
            "107  436557   19              2           no    NH\n",
            "121  379867    5              3           no    LA\n",
            "124  349500    3              3          yes    NC\n",
            "133  510476   17              3           no    WY\n",
            "141  312150    9              2           no    IL\n",
            "142  347744   15              3          yes    NJ\n",
            "146  398444   11              3           no    DE\n",
            "153  313314    7              2           no    VT\n",
            "154  411124   13              2          yes    NC\n",
            "158  336640   12              4           no    DE\n",
            "162  446729   12              3           no    DE\n",
            "166  507233    1              3           no    ME\n",
            "..      ...  ...            ...          ...   ...\n",
            "819  488757   11              3           no    IN\n",
            "820  333150   15              3           no    WA\n",
            "824  326517   12              4           no    NY\n",
            "830  340165   15              2           no    ND\n",
            "834  493762    0              2           no    MS\n",
            "839  332834    5              3          yes    AL\n",
            "841  466221    0              3           no    DC\n",
            "853  323855   18              2           no    IN\n",
            "859  403633   11              3          yes    DC\n",
            "861  527281    5              3          yes    MO\n",
            "862  387133   18              3           no    VA\n",
            "884  325322    1              2           no    WV\n",
            "886  444533    7              2          yes    WY\n",
            "891  492987   14              3          yes    KY\n",
            "896  385794   17              2           no    SD\n",
            "897  478416    8              3           no    SD\n",
            "908  487051    9              3          yes    MN\n",
            "911  451815    8              2           no    NM\n",
            "920  502136    8              4           no    NE\n",
            "922  522318   17              2          yes    DC\n",
            "925  525954   11              4          yes    TX\n",
            "927  401840    7              2           no    AK\n",
            "940  482196   13              4           no    CA\n",
            "949  508598   18              4          yes    TN\n",
            "952  381753   19              3          yes    NM\n",
            "956  312950   10              4           no    MS\n",
            "962  335664    4              2          yes    TN\n",
            "967  395340   14              4           no    HI\n",
            "969  476631    4              2           no    IA\n",
            "980  329161    1              2          yes    LA\n",
            "\n",
            "[180 rows x 5 columns]\n"
          ],
          "name": "stdout"
        }
      ]
    },
    {
      "cell_type": "markdown",
      "metadata": {
        "id": "grUNOP8RwWWt",
        "colab_type": "text"
      },
      "source": [
        "# Part 1 - Loading Data\n",
        "\n",
        "Data comes in many shapes and sizes - we'll start by loading tabular data, usually in csv format.\n",
        "\n",
        "Data set sources:\n",
        "\n",
        "- https://archive.ics.uci.edu/ml/datasets.html\n",
        "- https://github.com/awesomedata/awesome-public-datasets\n",
        "- https://registry.opendata.aws/ (beyond scope for now, but good to be aware of)\n",
        "\n",
        "Let's start with an example - [data about flags](https://archive.ics.uci.edu/ml/datasets/Flags)."
      ]
    },
    {
      "cell_type": "markdown",
      "metadata": {
        "id": "wxxBTeHUYs5a",
        "colab_type": "text"
      },
      "source": [
        "## Lecture example - flag data"
      ]
    },
    {
      "cell_type": "code",
      "metadata": {
        "id": "nc-iamjyRWwe",
        "colab_type": "code",
        "outputId": "1b6fe0e2-a9b3-4ac8-cd33-7821796e6dbd",
        "colab": {
          "base_uri": "https://localhost:8080/",
          "height": 1000
        }
      },
      "source": [
        "# Step 1 - find the actual file to download\n",
        "\n",
        "# From navigating the page, clicking \"Data Folder\"\n",
        "flag_data_url = 'https://archive.ics.uci.edu/ml/machine-learning-databases/flags/flag.data'\n",
        "\n",
        "# You can \"shell out\" in a notebook for more powerful tools\n",
        "# https://jakevdp.github.io/PythonDataScienceHandbook/01.05-ipython-and-shell-commands.html\n",
        "\n",
        "# Funny extension, but on inspection looks like a csv\n",
        "!curl https://archive.ics.uci.edu/ml/machine-learning-databases/flags/flag.data\n",
        "\n",
        "# Extensions are just a norm! You have to inspect to be sure what something is"
      ],
      "execution_count": 0,
      "outputs": [
        {
          "output_type": "stream",
          "text": [
            "Afghanistan,5,1,648,16,10,2,0,3,5,1,1,0,1,1,1,0,green,0,0,0,0,1,0,0,1,0,0,black,green\n",
            "Albania,3,1,29,3,6,6,0,0,3,1,0,0,1,0,1,0,red,0,0,0,0,1,0,0,0,1,0,red,red\n",
            "Algeria,4,1,2388,20,8,2,2,0,3,1,1,0,0,1,0,0,green,0,0,0,0,1,1,0,0,0,0,green,white\n",
            "American-Samoa,6,3,0,0,1,1,0,0,5,1,0,1,1,1,0,1,blue,0,0,0,0,0,0,1,1,1,0,blue,red\n",
            "Andorra,3,1,0,0,6,0,3,0,3,1,0,1,1,0,0,0,gold,0,0,0,0,0,0,0,0,0,0,blue,red\n",
            "Angola,4,2,1247,7,10,5,0,2,3,1,0,0,1,0,1,0,red,0,0,0,0,1,0,0,1,0,0,red,black\n",
            "Anguilla,1,4,0,0,1,1,0,1,3,0,0,1,0,1,0,1,white,0,0,0,0,0,0,0,0,1,0,white,blue\n",
            "Antigua-Barbuda,1,4,0,0,1,1,0,1,5,1,0,1,1,1,1,0,red,0,0,0,0,1,0,1,0,0,0,black,red\n",
            "Argentina,2,3,2777,28,2,0,0,3,2,0,0,1,0,1,0,0,blue,0,0,0,0,0,0,0,0,0,0,blue,blue\n",
            "Argentine,2,3,2777,28,2,0,0,3,3,0,0,1,1,1,0,0,blue,0,0,0,0,1,0,0,0,0,0,blue,blue\n",
            "Australia,6,2,7690,15,1,1,0,0,3,1,0,1,0,1,0,0,blue,0,1,1,1,6,0,0,0,0,0,white,blue\n",
            "Austria,3,1,84,8,4,0,0,3,2,1,0,0,0,1,0,0,red,0,0,0,0,0,0,0,0,0,0,red,red\n",
            "Bahamas,1,4,19,0,1,1,0,3,3,0,0,1,1,0,1,0,blue,0,0,0,0,0,0,1,0,0,0,blue,blue\n",
            "Bahrain,5,1,1,0,8,2,0,0,2,1,0,0,0,1,0,0,red,0,0,0,0,0,0,0,0,0,0,white,red\n",
            "Bangladesh,5,1,143,90,6,2,0,0,2,1,1,0,0,0,0,0,green,1,0,0,0,0,0,0,0,0,0,green,green\n",
            "Barbados,1,4,0,0,1,1,3,0,3,0,0,1,1,0,1,0,blue,0,0,0,0,0,0,0,1,0,0,blue,blue\n",
            "Belgium,3,1,31,10,6,0,3,0,3,1,0,0,1,0,1,0,gold,0,0,0,0,0,0,0,0,0,0,black,red\n",
            "Belize,1,4,23,0,1,1,0,2,8,1,1,1,1,1,1,1,blue,1,0,0,0,0,0,0,1,1,1,red,red\n",
            "Benin,4,1,113,3,3,5,0,0,2,1,1,0,0,0,0,0,green,0,0,0,0,1,0,0,0,0,0,green,green\n",
            "Bermuda,1,4,0,0,1,1,0,0,6,1,1,1,1,1,1,0,red,1,1,1,1,0,0,0,1,1,0,white,red\n",
            "Bhutan,5,1,47,1,10,3,0,0,4,1,0,0,0,1,1,1,orange,4,0,0,0,0,0,0,0,1,0,orange,red\n",
            "Bolivia,2,3,1099,6,2,0,0,3,3,1,1,0,1,0,0,0,red,0,0,0,0,0,0,0,0,0,0,red,green\n",
            "Botswana,4,2,600,1,10,5,0,5,3,0,0,1,0,1,1,0,blue,0,0,0,0,0,0,0,0,0,0,blue,blue\n",
            "Brazil,2,3,8512,119,6,0,0,0,4,0,1,1,1,1,0,0,green,1,0,0,0,22,0,0,0,0,1,green,green\n",
            "British-Virgin-Isles,1,4,0,0,1,1,0,0,6,1,1,1,1,1,0,1,blue,0,1,1,1,0,0,0,1,1,1,white,blue\n",
            "Brunei,5,1,6,0,10,2,0,0,4,1,0,0,1,1,1,0,gold,0,0,0,0,0,0,1,1,1,1,white,gold\n",
            "Bulgaria,3,1,111,9,5,6,0,3,5,1,1,1,1,1,0,0,red,0,0,0,0,1,0,0,1,1,0,white,red\n",
            "Burkina,4,4,274,7,3,5,0,2,3,1,1,0,1,0,0,0,red,0,0,0,0,1,0,0,0,0,0,red,green\n",
            "Burma,5,1,678,35,10,3,0,0,3,1,0,1,0,1,0,0,red,0,0,0,1,14,0,0,1,1,0,blue,red\n",
            "Burundi,4,2,28,4,10,5,0,0,3,1,1,0,0,1,0,0,red,1,0,1,0,3,0,0,0,0,0,white,white\n",
            "Cameroon,4,1,474,8,3,1,3,0,3,1,1,0,1,0,0,0,gold,0,0,0,0,1,0,0,0,0,0,green,gold\n",
            "Canada,1,4,9976,24,1,1,2,0,2,1,0,0,0,1,0,0,red,0,0,0,0,0,0,0,0,1,0,red,red\n",
            "Cape-Verde-Islands,4,4,4,0,6,0,1,2,5,1,1,0,1,0,1,1,gold,0,0,0,0,1,0,0,0,1,0,red,green\n",
            "Cayman-Islands,1,4,0,0,1,1,0,0,6,1,1,1,1,1,0,1,blue,1,1,1,1,4,0,0,1,1,1,white,blue\n",
            "Central-African-Republic,4,1,623,2,10,5,1,0,5,1,1,1,1,1,0,0,gold,0,0,0,0,1,0,0,0,0,0,blue,gold\n",
            "Chad,4,1,1284,4,3,5,3,0,3,1,0,1,1,0,0,0,gold,0,0,0,0,0,0,0,0,0,0,blue,red\n",
            "Chile,2,3,757,11,2,0,0,2,3,1,0,1,0,1,0,0,red,0,0,0,1,1,0,0,0,0,0,blue,red\n",
            "China,5,1,9561,1008,7,6,0,0,2,1,0,0,1,0,0,0,red,0,0,0,0,5,0,0,0,0,0,red,red\n",
            "Colombia,2,4,1139,28,2,0,0,3,3,1,0,1,1,0,0,0,gold,0,0,0,0,0,0,0,0,0,0,gold,red\n",
            "Comorro-Islands,4,2,2,0,3,2,0,0,2,0,1,0,0,1,0,0,green,0,0,0,0,4,1,0,0,0,0,green,green\n",
            "Congo,4,2,342,2,10,5,0,0,3,1,1,0,1,0,0,0,red,0,0,0,0,1,0,0,1,1,0,red,red\n",
            "Cook-Islands,6,3,0,0,1,1,0,0,4,1,0,1,0,1,0,0,blue,1,1,1,1,15,0,0,0,0,0,white,blue\n",
            "Costa-Rica,1,4,51,2,2,0,0,5,3,1,0,1,0,1,0,0,blue,0,0,0,0,0,0,0,0,0,0,blue,blue\n",
            "Cuba,1,4,115,10,2,6,0,5,3,1,0,1,0,1,0,0,blue,0,0,0,0,1,0,1,0,0,0,blue,blue\n",
            "Cyprus,3,1,9,1,6,1,0,0,3,0,1,0,1,1,0,0,white,0,0,0,0,0,0,0,1,1,0,white,white\n",
            "Czechoslovakia,3,1,128,15,5,6,0,0,3,1,0,1,0,1,0,0,white,0,0,0,0,0,0,1,0,0,0,white,red\n",
            "Denmark,3,1,43,5,6,1,0,0,2,1,0,0,0,1,0,0,red,0,1,0,0,0,0,0,0,0,0,red,red\n",
            "Djibouti,4,1,22,0,3,2,0,0,4,1,1,1,0,1,0,0,blue,0,0,0,0,1,0,1,0,0,0,white,green\n",
            "Dominica,1,4,0,0,1,1,0,0,6,1,1,1,1,1,1,0,green,1,0,0,0,10,0,0,0,1,0,green,green\n",
            "Dominican-Republic,1,4,49,6,2,0,0,0,3,1,0,1,0,1,0,0,blue,0,1,0,0,0,0,0,0,0,0,blue,blue\n",
            "Ecuador,2,3,284,8,2,0,0,3,3,1,0,1,1,0,0,0,gold,0,0,0,0,0,0,0,0,0,0,gold,red\n",
            "Egypt,4,1,1001,47,8,2,0,3,4,1,0,0,1,1,1,0,black,0,0,0,0,0,0,0,0,1,1,red,black\n",
            "El-Salvador,1,4,21,5,2,0,0,3,2,0,0,1,0,1,0,0,blue,0,0,0,0,0,0,0,0,0,0,blue,blue\n",
            "Equatorial-Guinea,4,1,28,0,10,5,0,3,4,1,1,1,0,1,0,0,green,0,0,0,0,0,0,1,0,0,0,green,red\n",
            "Ethiopia,4,1,1222,31,10,1,0,3,3,1,1,0,1,0,0,0,green,0,0,0,0,0,0,0,0,0,0,green,red\n",
            "Faeroes,3,4,1,0,6,1,0,0,3,1,0,1,0,1,0,0,white,0,1,0,0,0,0,0,0,0,0,white,white\n",
            "Falklands-Malvinas,2,3,12,0,1,1,0,0,6,1,1,1,1,1,0,0,blue,1,1,1,1,0,0,0,1,1,1,white,blue\n",
            "Fiji,6,2,18,1,1,1,0,0,7,1,1,1,1,1,0,1,blue,0,2,1,1,0,0,0,1,1,0,white,blue\n",
            "Finland,3,1,337,5,9,1,0,0,2,0,0,1,0,1,0,0,white,0,1,0,0,0,0,0,0,0,0,white,white\n",
            "France,3,1,547,54,3,0,3,0,3,1,0,1,0,1,0,0,white,0,0,0,0,0,0,0,0,0,0,blue,red\n",
            "French-Guiana,2,4,91,0,3,0,3,0,3,1,0,1,0,1,0,0,white,0,0,0,0,0,0,0,0,0,0,blue,red\n",
            "French-Polynesia,6,3,4,0,3,0,0,3,5,1,0,1,1,1,1,0,red,1,0,0,0,1,0,0,1,0,0,red,red\n",
            "Gabon,4,2,268,1,10,5,0,3,3,0,1,1,1,0,0,0,green,0,0,0,0,0,0,0,0,0,0,green,blue\n",
            "Gambia,4,4,10,1,1,5,0,5,4,1,1,1,0,1,0,0,red,0,0,0,0,0,0,0,0,0,0,red,green\n",
            "Germany-DDR,3,1,108,17,4,6,0,3,3,1,0,0,1,0,1,0,gold,0,0,0,0,0,0,0,1,0,0,black,gold\n",
            "Germany-FRG,3,1,249,61,4,1,0,3,3,1,0,0,1,0,1,0,black,0,0,0,0,0,0,0,0,0,0,black,gold\n",
            "Ghana,4,4,239,14,1,5,0,3,4,1,1,0,1,0,1,0,red,0,0,0,0,1,0,0,0,0,0,red,green\n",
            "Gibraltar,3,4,0,0,1,1,0,1,3,1,0,0,1,1,0,0,white,0,0,0,0,0,0,0,1,0,0,white,red\n",
            "Greece,3,1,132,10,6,1,0,9,2,0,0,1,0,1,0,0,blue,0,1,0,1,0,0,0,0,0,0,blue,blue\n",
            "Greenland,1,4,2176,0,6,1,0,0,2,1,0,0,0,1,0,0,white,1,0,0,0,0,0,0,0,0,0,white,red\n",
            "Grenada,1,4,0,0,1,1,0,0,3,1,1,0,1,0,0,0,gold,1,0,0,0,7,0,1,0,1,0,red,red\n",
            "Guam,6,1,0,0,1,1,0,0,7,1,1,1,1,1,0,1,blue,0,0,0,0,0,0,0,1,1,1,red,red\n",
            "Guatemala,1,4,109,8,2,0,3,0,2,0,0,1,0,1,0,0,blue,0,0,0,0,0,0,0,0,0,0,blue,blue\n",
            "Guinea,4,4,246,6,3,2,3,0,3,1,1,0,1,0,0,0,gold,0,0,0,0,0,0,0,0,0,0,red,green\n",
            "Guinea-Bissau,4,4,36,1,6,5,1,2,4,1,1,0,1,0,1,0,gold,0,0,0,0,1,0,0,0,0,0,red,green\n",
            "Guyana,2,4,215,1,1,4,0,0,5,1,1,0,1,1,1,0,green,0,0,0,0,0,0,1,0,0,0,black,green\n",
            "Haiti,1,4,28,6,3,0,2,0,2,1,0,0,0,0,1,0,black,0,0,0,0,0,0,0,0,0,0,black,red\n",
            "Honduras,1,4,112,4,2,0,0,3,2,0,0,1,0,1,0,0,blue,0,0,0,0,5,0,0,0,0,0,blue,blue\n",
            "Hong-Kong,5,1,1,5,7,3,0,0,6,1,1,1,1,1,0,1,blue,1,1,1,1,0,0,0,1,1,1,white,blue\n",
            "Hungary,3,1,93,11,9,6,0,3,3,1,1,0,0,1,0,0,red,0,0,0,0,0,0,0,0,0,0,red,green\n",
            "Iceland,3,4,103,0,6,1,0,0,3,1,0,1,0,1,0,0,blue,0,1,0,0,0,0,0,0,0,0,blue,blue\n",
            "India,5,1,3268,684,6,4,0,3,4,0,1,1,0,1,0,1,orange,1,0,0,0,0,0,0,1,0,0,orange,green\n",
            "Indonesia,6,2,1904,157,10,2,0,2,2,1,0,0,0,1,0,0,red,0,0,0,0,0,0,0,0,0,0,red,white\n",
            "Iran,5,1,1648,39,6,2,0,3,3,1,1,0,0,1,0,0,red,0,0,0,0,0,0,0,1,0,1,green,red\n",
            "Iraq,5,1,435,14,8,2,0,3,4,1,1,0,0,1,1,0,red,0,0,0,0,3,0,0,0,0,0,red,black\n",
            "Ireland,3,4,70,3,1,0,3,0,3,0,1,0,0,1,0,1,white,0,0,0,0,0,0,0,0,0,0,green,orange\n",
            "Israel,5,1,21,4,10,7,0,2,2,0,0,1,0,1,0,0,white,0,0,0,0,1,0,0,0,0,0,blue,blue\n",
            "Italy,3,1,301,57,6,0,3,0,3,1,1,0,0,1,0,0,white,0,0,0,0,0,0,0,0,0,0,green,red\n",
            "Ivory-Coast,4,4,323,7,3,5,3,0,3,1,1,0,0,1,0,0,white,0,0,0,0,0,0,0,0,0,0,red,green\n",
            "Jamaica,1,4,11,2,1,1,0,0,3,0,1,0,1,0,1,0,green,0,0,1,0,0,0,1,0,0,0,gold,gold\n",
            "Japan,5,1,372,118,9,7,0,0,2,1,0,0,0,1,0,0,white,1,0,0,0,1,0,0,0,0,0,white,white\n",
            "Jordan,5,1,98,2,8,2,0,3,4,1,1,0,0,1,1,0,black,0,0,0,0,1,0,1,0,0,0,black,green\n",
            "Kampuchea,5,1,181,6,10,3,0,0,2,1,0,0,1,0,0,0,red,0,0,0,0,0,0,0,1,0,0,red,red\n",
            "Kenya,4,1,583,17,10,5,0,5,4,1,1,0,0,1,1,0,red,1,0,0,0,0,0,0,1,0,0,black,green\n",
            "Kiribati,6,1,0,0,1,1,0,0,4,1,0,1,1,1,0,0,red,0,0,0,0,1,0,0,1,1,0,red,blue\n",
            "Kuwait,5,1,18,2,8,2,0,3,4,1,1,0,0,1,1,0,green,0,0,0,0,0,0,0,0,0,0,green,red\n",
            "Laos,5,1,236,3,10,6,0,3,3,1,0,1,0,1,0,0,red,1,0,0,0,0,0,0,0,0,0,red,red\n",
            "Lebanon,5,1,10,3,8,2,0,2,4,1,1,0,0,1,0,1,red,0,0,0,0,0,0,0,0,1,0,red,red\n",
            "Lesotho,4,2,30,1,10,5,2,0,4,1,1,1,0,1,0,0,blue,0,0,0,0,0,0,0,1,0,0,green,blue\n",
            "Liberia,4,4,111,1,10,5,0,11,3,1,0,1,0,1,0,0,red,0,0,0,1,1,0,0,0,0,0,blue,red\n",
            "Libya,4,1,1760,3,8,2,0,0,1,0,1,0,0,0,0,0,green,0,0,0,0,0,0,0,0,0,0,green,green\n",
            "Liechtenstein,3,1,0,0,4,0,0,2,3,1,0,1,1,0,0,0,red,0,0,0,0,0,0,0,1,0,0,blue,red\n",
            "Luxembourg,3,1,3,0,4,0,0,3,3,1,0,1,0,1,0,0,red,0,0,0,0,0,0,0,0,0,0,red,blue\n",
            "Malagasy,4,2,587,9,10,1,1,2,3,1,1,0,0,1,0,0,red,0,0,0,0,0,0,0,0,0,0,white,green\n",
            "Malawi,4,2,118,6,10,5,0,3,3,1,1,0,0,0,1,0,red,0,0,0,0,1,0,0,0,0,0,black,green\n",
            "Malaysia,5,1,333,13,10,2,0,14,4,1,0,1,1,1,0,0,red,0,0,0,1,1,1,0,0,0,0,blue,white\n",
            "Maldive-Islands,5,1,0,0,10,2,0,0,3,1,1,0,0,1,0,0,red,0,0,0,0,0,1,0,0,0,0,red,red\n",
            "Mali,4,4,1240,7,3,2,3,0,3,1,1,0,1,0,0,0,gold,0,0,0,0,0,0,0,0,0,0,green,red\n",
            "Malta,3,1,0,0,10,0,2,0,3,1,0,0,0,1,1,0,red,0,1,0,0,0,0,0,1,0,0,white,red\n",
            "Marianas,6,1,0,0,10,1,0,0,3,0,0,1,0,1,0,0,blue,0,0,0,0,1,0,0,1,0,0,blue,blue\n",
            "Mauritania,4,4,1031,2,8,2,0,0,2,0,1,0,1,0,0,0,green,0,0,0,0,1,1,0,0,0,0,green,green\n",
            "Mauritius,4,2,2,1,1,4,0,4,4,1,1,1,1,0,0,0,red,0,0,0,0,0,0,0,0,0,0,red,green\n",
            "Mexico,1,4,1973,77,2,0,3,0,4,1,1,0,0,1,0,1,green,0,0,0,0,0,0,0,0,1,0,green,red\n",
            "Micronesia,6,1,1,0,10,1,0,0,2,0,0,1,0,1,0,0,blue,0,0,0,0,4,0,0,0,0,0,blue,blue\n",
            "Monaco,3,1,0,0,3,0,0,2,2,1,0,0,0,1,0,0,red,0,0,0,0,0,0,0,0,0,0,red,white\n",
            "Mongolia,5,1,1566,2,10,6,3,0,3,1,0,1,1,0,0,0,red,2,0,0,0,1,1,1,1,0,0,red,red\n",
            "Montserrat,1,4,0,0,1,1,0,0,7,1,1,1,1,1,1,0,blue,0,2,1,1,0,0,0,1,1,0,white,blue\n",
            "Morocco,4,4,447,20,8,2,0,0,2,1,1,0,0,0,0,0,red,0,0,0,0,1,0,0,0,0,0,red,red\n",
            "Mozambique,4,2,783,12,10,5,0,5,5,1,1,0,1,1,1,0,gold,0,0,0,0,1,0,1,1,0,0,green,gold\n",
            "Nauru,6,2,0,0,10,1,0,3,3,0,0,1,1,1,0,0,blue,0,0,0,0,1,0,0,0,0,0,blue,blue\n",
            "Nepal,5,1,140,16,10,4,0,0,3,0,0,1,0,1,0,1,brown,0,0,0,0,2,1,0,0,0,0,blue,blue\n",
            "Netherlands,3,1,41,14,6,1,0,3,3,1,0,1,0,1,0,0,red,0,0,0,0,0,0,0,0,0,0,red,blue\n",
            "Netherlands-Antilles,1,4,0,0,6,1,0,1,3,1,0,1,0,1,0,0,white,0,0,0,0,6,0,0,0,0,0,white,white\n",
            "New-Zealand,6,2,268,2,1,1,0,0,3,1,0,1,0,1,0,0,blue,0,1,1,1,4,0,0,0,0,0,white,blue\n",
            "Nicaragua,1,4,128,3,2,0,0,3,2,0,0,1,0,1,0,0,blue,0,0,0,0,0,0,0,0,0,0,blue,blue\n",
            "Niger,4,1,1267,5,3,2,0,3,3,0,1,0,0,1,0,1,orange,1,0,0,0,0,0,0,0,0,0,orange,green\n",
            "Nigeria,4,1,925,56,10,2,3,0,2,0,1,0,0,1,0,0,green,0,0,0,0,0,0,0,0,0,0,green,green\n",
            "Niue,6,3,0,0,1,1,0,0,4,1,0,1,1,1,0,0,gold,1,1,1,1,5,0,0,0,0,0,white,gold\n",
            "North-Korea,5,1,121,18,10,6,0,5,3,1,0,1,0,1,0,0,blue,1,0,0,0,1,0,0,0,0,0,blue,blue\n",
            "North-Yemen,5,1,195,9,8,2,0,3,4,1,1,0,0,1,1,0,red,0,0,0,0,1,0,0,0,0,0,red,black\n",
            "Norway,3,1,324,4,6,1,0,0,3,1,0,1,0,1,0,0,red,0,1,0,0,0,0,0,0,0,0,red,red\n",
            "Oman,5,1,212,1,8,2,0,2,3,1,1,0,0,1,0,0,red,0,0,0,0,0,0,0,1,0,0,red,green\n",
            "Pakistan,5,1,804,84,6,2,1,0,2,0,1,0,0,1,0,0,green,0,0,0,0,1,1,0,0,0,0,white,green\n",
            "Panama,2,4,76,2,2,0,0,0,3,1,0,1,0,1,0,0,red,0,0,0,4,2,0,0,0,0,0,white,white\n",
            "Papua-New-Guinea,6,2,463,3,1,5,0,0,4,1,0,0,1,1,1,0,black,0,0,0,0,5,0,1,0,1,0,red,black\n",
            "Parguay,2,3,407,3,2,0,0,3,6,1,1,1,1,1,1,0,red,1,0,0,0,1,0,0,1,1,1,red,blue\n",
            "Peru,2,3,1285,14,2,0,3,0,2,1,0,0,0,1,0,0,red,0,0,0,0,0,0,0,0,0,0,red,red\n",
            "Philippines,6,1,300,48,10,0,0,0,4,1,0,1,1,1,0,0,blue,0,0,0,0,4,0,1,0,0,0,blue,red\n",
            "Poland,3,1,313,36,5,6,0,2,2,1,0,0,0,1,0,0,white,0,0,0,0,0,0,0,0,0,0,white,red\n",
            "Portugal,3,4,92,10,6,0,0,0,5,1,1,1,1,1,0,0,red,1,0,0,0,0,0,0,1,0,0,green,red\n",
            "Puerto-Rico,1,4,9,3,2,0,0,5,3,1,0,1,0,1,0,0,red,0,0,0,0,1,0,1,0,0,0,red,red\n",
            "Qatar,5,1,11,0,8,2,0,0,2,0,0,0,0,1,0,1,brown,0,0,0,0,0,0,0,0,0,0,white,brown\n",
            "Romania,3,1,237,22,6,6,3,0,7,1,1,1,1,1,0,1,red,0,0,0,0,2,0,0,1,1,1,blue,red\n",
            "Rwanda,4,2,26,5,10,5,3,0,4,1,1,0,1,0,1,0,red,0,0,0,0,0,0,0,0,0,1,red,green\n",
            "San-Marino,3,1,0,0,6,0,0,2,2,0,0,1,0,1,0,0,white,0,0,0,0,0,0,0,0,0,0,white,blue\n",
            "Sao-Tome,4,1,0,0,6,0,0,3,4,1,1,0,1,0,1,0,green,0,0,0,0,2,0,1,0,0,0,green,green\n",
            "Saudi-Arabia,5,1,2150,9,8,2,0,0,2,0,1,0,0,1,0,0,green,0,0,0,0,0,0,0,1,0,1,green,green\n",
            "Senegal,4,4,196,6,3,2,3,0,3,1,1,0,1,0,0,0,green,0,0,0,0,1,0,0,0,0,0,green,red\n",
            "Seychelles,4,2,0,0,1,1,0,0,3,1,1,0,0,1,0,0,red,0,0,0,0,0,0,0,0,0,0,red,green\n",
            "Sierra-Leone,4,4,72,3,1,5,0,3,3,0,1,1,0,1,0,0,green,0,0,0,0,0,0,0,0,0,0,green,blue\n",
            "Singapore,5,1,1,3,7,3,0,2,2,1,0,0,0,1,0,0,white,0,0,0,0,5,1,0,0,0,0,red,white\n",
            "Soloman-Islands,6,2,30,0,1,1,0,0,4,0,1,1,1,1,0,0,green,0,0,0,0,5,0,1,0,0,0,blue,green\n",
            "Somalia,4,1,637,5,10,2,0,0,2,0,0,1,0,1,0,0,blue,0,0,0,0,1,0,0,0,0,0,blue,blue\n",
            "South-Africa,4,2,1221,29,6,1,0,3,5,1,1,1,0,1,0,1,orange,0,1,1,0,0,0,0,0,0,0,orange,blue\n",
            "South-Korea,5,1,99,39,10,7,0,0,4,1,0,1,0,1,1,0,white,1,0,0,0,0,0,0,1,0,0,white,white\n",
            "South-Yemen,5,1,288,2,8,2,0,3,4,1,0,1,0,1,1,0,red,0,0,0,0,1,0,1,0,0,0,red,black\n",
            "Spain,3,4,505,38,2,0,0,3,2,1,0,0,1,0,0,0,red,0,0,0,0,0,0,0,0,0,0,red,red\n",
            "Sri-Lanka,5,1,66,15,10,3,2,0,4,0,1,0,1,0,0,1,gold,0,0,0,0,0,0,0,1,1,0,gold,gold\n",
            "St-Helena,4,3,0,0,1,1,0,0,7,1,1,1,1,1,0,1,blue,0,1,1,1,0,0,0,1,0,0,white,blue\n",
            "St-Kitts-Nevis,1,4,0,0,1,1,0,0,5,1,1,0,1,1,1,0,green,0,0,0,0,2,0,1,0,0,0,green,red\n",
            "St-Lucia,1,4,0,0,1,1,0,0,4,0,0,1,1,1,1,0,blue,0,0,0,0,0,0,1,0,0,0,blue,blue\n",
            "St-Vincent,1,4,0,0,1,1,5,0,4,0,1,1,1,1,0,0,green,0,0,0,0,0,0,0,1,1,1,blue,green\n",
            "Sudan,4,1,2506,20,8,2,0,3,4,1,1,0,0,1,1,0,red,0,0,0,0,0,0,1,0,0,0,red,black\n",
            "Surinam,2,4,63,0,6,1,0,5,4,1,1,0,1,1,0,0,red,0,0,0,0,1,0,0,0,0,0,green,green\n",
            "Swaziland,4,2,17,1,10,1,0,5,7,1,0,1,1,1,1,1,blue,0,0,0,0,0,0,0,1,0,0,blue,blue\n",
            "Sweden,3,1,450,8,6,1,0,0,2,0,0,1,1,0,0,0,blue,0,1,0,0,0,0,0,0,0,0,blue,blue\n",
            "Switzerland,3,1,41,6,4,1,0,0,2,1,0,0,0,1,0,0,red,0,1,0,0,0,0,0,0,0,0,red,red\n",
            "Syria,5,1,185,10,8,2,0,3,4,1,1,0,0,1,1,0,red,0,0,0,0,2,0,0,0,0,0,red,black\n",
            "Taiwan,5,1,36,18,7,3,0,0,3,1,0,1,0,1,0,0,red,1,0,0,1,1,0,0,0,0,0,blue,red\n",
            "Tanzania,4,2,945,18,10,5,0,0,4,0,1,1,1,0,1,0,green,0,0,0,0,0,0,1,0,0,0,green,blue\n",
            "Thailand,5,1,514,49,10,3,0,5,3,1,0,1,0,1,0,0,red,0,0,0,0,0,0,0,0,0,0,red,red\n",
            "Togo,4,1,57,2,3,7,0,5,4,1,1,0,1,1,0,0,green,0,0,0,1,1,0,0,0,0,0,red,green\n",
            "Tonga,6,2,1,0,10,1,0,0,2,1,0,0,0,1,0,0,red,0,1,0,1,0,0,0,0,0,0,white,red\n",
            "Trinidad-Tobago,2,4,5,1,1,1,0,0,3,1,0,0,0,1,1,0,red,0,0,0,0,0,0,1,0,0,0,white,white\n",
            "Tunisia,4,1,164,7,8,2,0,0,2,1,0,0,0,1,0,0,red,1,0,0,0,1,1,0,0,0,0,red,red\n",
            "Turkey,5,1,781,45,9,2,0,0,2,1,0,0,0,1,0,0,red,0,0,0,0,1,1,0,0,0,0,red,red\n",
            "Turks-Cocos-Islands,1,4,0,0,1,1,0,0,6,1,1,1,1,1,0,1,blue,0,1,1,1,0,0,0,1,1,0,white,blue\n",
            "Tuvalu,6,2,0,0,1,1,0,0,5,1,0,1,1,1,0,0,blue,0,1,1,1,9,0,0,0,0,0,white,blue\n",
            "UAE,5,1,84,1,8,2,1,3,4,1,1,0,0,1,1,0,green,0,0,0,0,0,0,0,0,0,0,red,black\n",
            "Uganda,4,1,236,13,10,5,0,6,5,1,0,0,1,1,1,0,gold,1,0,0,0,0,0,0,0,1,0,black,red\n",
            "UK,3,4,245,56,1,1,0,0,3,1,0,1,0,1,0,0,red,0,1,1,0,0,0,0,0,0,0,white,red\n",
            "Uruguay,2,3,178,3,2,0,0,9,3,0,0,1,1,1,0,0,white,0,0,0,1,1,0,0,0,0,0,white,white\n",
            "US-Virgin-Isles,1,4,0,0,1,1,0,0,6,1,1,1,1,1,0,0,white,0,0,0,0,0,0,0,1,1,1,white,white\n",
            "USA,1,4,9363,231,1,1,0,13,3,1,0,1,0,1,0,0,white,0,0,0,1,50,0,0,0,0,0,blue,red\n",
            "USSR,5,1,22402,274,5,6,0,0,2,1,0,0,1,0,0,0,red,0,0,0,0,1,0,0,1,0,0,red,red\n",
            "Vanuatu,6,2,15,0,6,1,0,0,4,1,1,0,1,0,1,0,red,0,0,0,0,0,0,1,0,1,0,black,green\n",
            "Vatican-City,3,1,0,0,6,0,2,0,4,1,0,0,1,1,1,0,gold,0,0,0,0,0,0,0,1,0,0,gold,white\n",
            "Venezuela,2,4,912,15,2,0,0,3,7,1,1,1,1,1,1,1,red,0,0,0,0,7,0,0,1,1,0,gold,red\n",
            "Vietnam,5,1,333,60,10,6,0,0,2,1,0,0,1,0,0,0,red,0,0,0,0,1,0,0,0,0,0,red,red\n",
            "Western-Samoa,6,3,3,0,1,1,0,0,3,1,0,1,0,1,0,0,red,0,0,0,1,5,0,0,0,0,0,blue,red\n",
            "Yugoslavia,3,1,256,22,6,6,0,3,4,1,0,1,1,1,0,0,red,0,0,0,0,1,0,0,0,0,0,blue,red\n",
            "Zaire,4,2,905,28,10,5,0,0,4,1,1,0,1,0,0,1,green,1,0,0,0,0,0,0,1,1,0,green,green\n",
            "Zambia,4,2,753,6,10,5,3,0,4,1,1,0,0,0,1,1,green,0,0,0,0,0,0,0,0,1,0,green,brown\n",
            "Zimbabwe,4,2,391,8,10,5,0,7,5,1,1,0,1,1,1,0,green,0,0,0,0,1,0,1,1,1,0,green,green\n"
          ],
          "name": "stdout"
        }
      ]
    },
    {
      "cell_type": "code",
      "metadata": {
        "id": "UKfOq1tlUvbZ",
        "colab_type": "code",
        "colab": {}
      },
      "source": [
        "# Step 2 - load the data\n",
        "\n",
        "# How to deal with a csv? 🐼\n",
        "import pandas as pd\n",
        "flag_data = pd.read_csv(flag_data_url)"
      ],
      "execution_count": 0,
      "outputs": []
    },
    {
      "cell_type": "code",
      "metadata": {
        "id": "exKPtcJyUyCX",
        "colab_type": "code",
        "outputId": "aa852ec4-f23b-412d-e51b-d51d6670ee3a",
        "colab": {
          "base_uri": "https://localhost:8080/",
          "height": 204
        }
      },
      "source": [
        "# Step 3 - verify we've got *something*\n",
        "flag_data.head()"
      ],
      "execution_count": 0,
      "outputs": [
        {
          "output_type": "execute_result",
          "data": {
            "text/html": [
              "<div>\n",
              "<style scoped>\n",
              "    .dataframe tbody tr th:only-of-type {\n",
              "        vertical-align: middle;\n",
              "    }\n",
              "\n",
              "    .dataframe tbody tr th {\n",
              "        vertical-align: top;\n",
              "    }\n",
              "\n",
              "    .dataframe thead th {\n",
              "        text-align: right;\n",
              "    }\n",
              "</style>\n",
              "<table border=\"1\" class=\"dataframe\">\n",
              "  <thead>\n",
              "    <tr style=\"text-align: right;\">\n",
              "      <th></th>\n",
              "      <th>Afghanistan</th>\n",
              "      <th>5</th>\n",
              "      <th>1</th>\n",
              "      <th>648</th>\n",
              "      <th>16</th>\n",
              "      <th>10</th>\n",
              "      <th>2</th>\n",
              "      <th>0</th>\n",
              "      <th>3</th>\n",
              "      <th>5.1</th>\n",
              "      <th>1.1</th>\n",
              "      <th>1.2</th>\n",
              "      <th>0.1</th>\n",
              "      <th>1.3</th>\n",
              "      <th>1.4</th>\n",
              "      <th>1.5</th>\n",
              "      <th>0.2</th>\n",
              "      <th>green</th>\n",
              "      <th>0.3</th>\n",
              "      <th>0.4</th>\n",
              "      <th>0.5</th>\n",
              "      <th>0.6</th>\n",
              "      <th>1.6</th>\n",
              "      <th>0.7</th>\n",
              "      <th>0.8</th>\n",
              "      <th>1.7</th>\n",
              "      <th>0.9</th>\n",
              "      <th>0.10</th>\n",
              "      <th>black</th>\n",
              "      <th>green.1</th>\n",
              "    </tr>\n",
              "  </thead>\n",
              "  <tbody>\n",
              "    <tr>\n",
              "      <th>0</th>\n",
              "      <td>Albania</td>\n",
              "      <td>3</td>\n",
              "      <td>1</td>\n",
              "      <td>29</td>\n",
              "      <td>3</td>\n",
              "      <td>6</td>\n",
              "      <td>6</td>\n",
              "      <td>0</td>\n",
              "      <td>0</td>\n",
              "      <td>3</td>\n",
              "      <td>1</td>\n",
              "      <td>0</td>\n",
              "      <td>0</td>\n",
              "      <td>1</td>\n",
              "      <td>0</td>\n",
              "      <td>1</td>\n",
              "      <td>0</td>\n",
              "      <td>red</td>\n",
              "      <td>0</td>\n",
              "      <td>0</td>\n",
              "      <td>0</td>\n",
              "      <td>0</td>\n",
              "      <td>1</td>\n",
              "      <td>0</td>\n",
              "      <td>0</td>\n",
              "      <td>0</td>\n",
              "      <td>1</td>\n",
              "      <td>0</td>\n",
              "      <td>red</td>\n",
              "      <td>red</td>\n",
              "    </tr>\n",
              "    <tr>\n",
              "      <th>1</th>\n",
              "      <td>Algeria</td>\n",
              "      <td>4</td>\n",
              "      <td>1</td>\n",
              "      <td>2388</td>\n",
              "      <td>20</td>\n",
              "      <td>8</td>\n",
              "      <td>2</td>\n",
              "      <td>2</td>\n",
              "      <td>0</td>\n",
              "      <td>3</td>\n",
              "      <td>1</td>\n",
              "      <td>1</td>\n",
              "      <td>0</td>\n",
              "      <td>0</td>\n",
              "      <td>1</td>\n",
              "      <td>0</td>\n",
              "      <td>0</td>\n",
              "      <td>green</td>\n",
              "      <td>0</td>\n",
              "      <td>0</td>\n",
              "      <td>0</td>\n",
              "      <td>0</td>\n",
              "      <td>1</td>\n",
              "      <td>1</td>\n",
              "      <td>0</td>\n",
              "      <td>0</td>\n",
              "      <td>0</td>\n",
              "      <td>0</td>\n",
              "      <td>green</td>\n",
              "      <td>white</td>\n",
              "    </tr>\n",
              "    <tr>\n",
              "      <th>2</th>\n",
              "      <td>American-Samoa</td>\n",
              "      <td>6</td>\n",
              "      <td>3</td>\n",
              "      <td>0</td>\n",
              "      <td>0</td>\n",
              "      <td>1</td>\n",
              "      <td>1</td>\n",
              "      <td>0</td>\n",
              "      <td>0</td>\n",
              "      <td>5</td>\n",
              "      <td>1</td>\n",
              "      <td>0</td>\n",
              "      <td>1</td>\n",
              "      <td>1</td>\n",
              "      <td>1</td>\n",
              "      <td>0</td>\n",
              "      <td>1</td>\n",
              "      <td>blue</td>\n",
              "      <td>0</td>\n",
              "      <td>0</td>\n",
              "      <td>0</td>\n",
              "      <td>0</td>\n",
              "      <td>0</td>\n",
              "      <td>0</td>\n",
              "      <td>1</td>\n",
              "      <td>1</td>\n",
              "      <td>1</td>\n",
              "      <td>0</td>\n",
              "      <td>blue</td>\n",
              "      <td>red</td>\n",
              "    </tr>\n",
              "    <tr>\n",
              "      <th>3</th>\n",
              "      <td>Andorra</td>\n",
              "      <td>3</td>\n",
              "      <td>1</td>\n",
              "      <td>0</td>\n",
              "      <td>0</td>\n",
              "      <td>6</td>\n",
              "      <td>0</td>\n",
              "      <td>3</td>\n",
              "      <td>0</td>\n",
              "      <td>3</td>\n",
              "      <td>1</td>\n",
              "      <td>0</td>\n",
              "      <td>1</td>\n",
              "      <td>1</td>\n",
              "      <td>0</td>\n",
              "      <td>0</td>\n",
              "      <td>0</td>\n",
              "      <td>gold</td>\n",
              "      <td>0</td>\n",
              "      <td>0</td>\n",
              "      <td>0</td>\n",
              "      <td>0</td>\n",
              "      <td>0</td>\n",
              "      <td>0</td>\n",
              "      <td>0</td>\n",
              "      <td>0</td>\n",
              "      <td>0</td>\n",
              "      <td>0</td>\n",
              "      <td>blue</td>\n",
              "      <td>red</td>\n",
              "    </tr>\n",
              "    <tr>\n",
              "      <th>4</th>\n",
              "      <td>Angola</td>\n",
              "      <td>4</td>\n",
              "      <td>2</td>\n",
              "      <td>1247</td>\n",
              "      <td>7</td>\n",
              "      <td>10</td>\n",
              "      <td>5</td>\n",
              "      <td>0</td>\n",
              "      <td>2</td>\n",
              "      <td>3</td>\n",
              "      <td>1</td>\n",
              "      <td>0</td>\n",
              "      <td>0</td>\n",
              "      <td>1</td>\n",
              "      <td>0</td>\n",
              "      <td>1</td>\n",
              "      <td>0</td>\n",
              "      <td>red</td>\n",
              "      <td>0</td>\n",
              "      <td>0</td>\n",
              "      <td>0</td>\n",
              "      <td>0</td>\n",
              "      <td>1</td>\n",
              "      <td>0</td>\n",
              "      <td>0</td>\n",
              "      <td>1</td>\n",
              "      <td>0</td>\n",
              "      <td>0</td>\n",
              "      <td>red</td>\n",
              "      <td>black</td>\n",
              "    </tr>\n",
              "  </tbody>\n",
              "</table>\n",
              "</div>"
            ],
            "text/plain": [
              "      Afghanistan  5  1   648  16  10  ...  0.8  1.7  0.9  0.10  black  green.1\n",
              "0         Albania  3  1    29   3   6  ...    0    0    1     0    red      red\n",
              "1         Algeria  4  1  2388  20   8  ...    0    0    0     0  green    white\n",
              "2  American-Samoa  6  3     0   0   1  ...    1    1    1     0   blue      red\n",
              "3         Andorra  3  1     0   0   6  ...    0    0    0     0   blue      red\n",
              "4          Angola  4  2  1247   7  10  ...    0    1    0     0    red    black\n",
              "\n",
              "[5 rows x 30 columns]"
            ]
          },
          "metadata": {
            "tags": []
          },
          "execution_count": 8
        }
      ]
    },
    {
      "cell_type": "code",
      "metadata": {
        "id": "rNmkv2g8VfAm",
        "colab_type": "code",
        "outputId": "646dce90-7478-41cd-a794-4bf4f57fd8a2",
        "colab": {
          "base_uri": "https://localhost:8080/",
          "height": 544
        }
      },
      "source": [
        "# Step 4 - Looks a bit odd - verify that it is what we want\n",
        "flag_data.count()"
      ],
      "execution_count": 0,
      "outputs": [
        {
          "output_type": "execute_result",
          "data": {
            "text/plain": [
              "Afghanistan    193\n",
              "5              193\n",
              "1              193\n",
              "648            193\n",
              "16             193\n",
              "10             193\n",
              "2              193\n",
              "0              193\n",
              "3              193\n",
              "5.1            193\n",
              "1.1            193\n",
              "1.2            193\n",
              "0.1            193\n",
              "1.3            193\n",
              "1.4            193\n",
              "1.5            193\n",
              "0.2            193\n",
              "green          193\n",
              "0.3            193\n",
              "0.4            193\n",
              "0.5            193\n",
              "0.6            193\n",
              "1.6            193\n",
              "0.7            193\n",
              "0.8            193\n",
              "1.7            193\n",
              "0.9            193\n",
              "0.10           193\n",
              "black          193\n",
              "green.1        193\n",
              "dtype: int64"
            ]
          },
          "metadata": {
            "tags": []
          },
          "execution_count": 9
        }
      ]
    },
    {
      "cell_type": "code",
      "metadata": {
        "id": "iqPEwx3aWBDR",
        "colab_type": "code",
        "outputId": "3e4c3e17-dff6-4b82-c905-35d5e2150f90",
        "colab": {
          "base_uri": "https://localhost:8080/",
          "height": 85
        }
      },
      "source": [
        "!curl https://archive.ics.uci.edu/ml/machine-learning-databases/flags/flag.data | wc"
      ],
      "execution_count": 0,
      "outputs": [
        {
          "output_type": "stream",
          "text": [
            "  % Total    % Received % Xferd  Average Speed   Time    Time     Time  Current\n",
            "                                 Dload  Upload   Total   Spent    Left  Speed\n",
            "\r  0     0    0     0    0     0      0      0 --:--:-- --:--:-- --:--:--     0\r  0     0    0     0    0     0      0      0 --:--:-- --:--:-- --:--:--     0\r100 15240  100 15240    0     0  89122      0 --:--:-- --:--:-- --:--:-- 88604\n",
            "    194     194   15240\n"
          ],
          "name": "stdout"
        }
      ]
    },
    {
      "cell_type": "code",
      "metadata": {
        "id": "5R1d1Ka2WHAY",
        "colab_type": "code",
        "outputId": "834ddf2e-860a-425e-e4bb-c499ad4da2c7",
        "colab": {
          "base_uri": "https://localhost:8080/",
          "height": 1000
        }
      },
      "source": [
        "# So we have 193 observations with funny names, file has 194 rows\n",
        "# Looks like the file has no header row, but read_csv assumes it does\n",
        "help(pd.read_csv)"
      ],
      "execution_count": 0,
      "outputs": [
        {
          "output_type": "stream",
          "text": [
            "Help on function read_csv in module pandas.io.parsers:\n",
            "\n",
            "read_csv(filepath_or_buffer, sep=',', delimiter=None, header='infer', names=None, index_col=None, usecols=None, squeeze=False, prefix=None, mangle_dupe_cols=True, dtype=None, engine=None, converters=None, true_values=None, false_values=None, skipinitialspace=False, skiprows=None, skipfooter=0, nrows=None, na_values=None, keep_default_na=True, na_filter=True, verbose=False, skip_blank_lines=True, parse_dates=False, infer_datetime_format=False, keep_date_col=False, date_parser=None, dayfirst=False, iterator=False, chunksize=None, compression='infer', thousands=None, decimal=b'.', lineterminator=None, quotechar='\"', quoting=0, doublequote=True, escapechar=None, comment=None, encoding=None, dialect=None, tupleize_cols=None, error_bad_lines=True, warn_bad_lines=True, delim_whitespace=False, low_memory=True, memory_map=False, float_precision=None)\n",
            "    Read a comma-separated values (csv) file into DataFrame.\n",
            "    \n",
            "    Also supports optionally iterating or breaking of the file\n",
            "    into chunks.\n",
            "    \n",
            "    Additional help can be found in the online docs for\n",
            "    `IO Tools <http://pandas.pydata.org/pandas-docs/stable/io.html>`_.\n",
            "    \n",
            "    Parameters\n",
            "    ----------\n",
            "    filepath_or_buffer : str, path object, or file-like object\n",
            "        Any valid string path is acceptable. The string could be a URL. Valid\n",
            "        URL schemes include http, ftp, s3, and file. For file URLs, a host is\n",
            "        expected. A local file could be: file://localhost/path/to/table.csv.\n",
            "    \n",
            "        If you want to pass in a path object, pandas accepts either\n",
            "        ``pathlib.Path`` or ``py._path.local.LocalPath``.\n",
            "    \n",
            "        By file-like object, we refer to objects with a ``read()`` method, such as\n",
            "        a file handler (e.g. via builtin ``open`` function) or ``StringIO``.\n",
            "    sep : str, default ','\n",
            "        Delimiter to use. If sep is None, the C engine cannot automatically detect\n",
            "        the separator, but the Python parsing engine can, meaning the latter will\n",
            "        be used and automatically detect the separator by Python's builtin sniffer\n",
            "        tool, ``csv.Sniffer``. In addition, separators longer than 1 character and\n",
            "        different from ``'\\s+'`` will be interpreted as regular expressions and\n",
            "        will also force the use of the Python parsing engine. Note that regex\n",
            "        delimiters are prone to ignoring quoted data. Regex example: ``'\\r\\t'``.\n",
            "    delimiter : str, default ``None``\n",
            "        Alias for sep.\n",
            "    header : int, list of int, default 'infer'\n",
            "        Row number(s) to use as the column names, and the start of the\n",
            "        data.  Default behavior is to infer the column names: if no names\n",
            "        are passed the behavior is identical to ``header=0`` and column\n",
            "        names are inferred from the first line of the file, if column\n",
            "        names are passed explicitly then the behavior is identical to\n",
            "        ``header=None``. Explicitly pass ``header=0`` to be able to\n",
            "        replace existing names. The header can be a list of integers that\n",
            "        specify row locations for a multi-index on the columns\n",
            "        e.g. [0,1,3]. Intervening rows that are not specified will be\n",
            "        skipped (e.g. 2 in this example is skipped). Note that this\n",
            "        parameter ignores commented lines and empty lines if\n",
            "        ``skip_blank_lines=True``, so ``header=0`` denotes the first line of\n",
            "        data rather than the first line of the file.\n",
            "    names : array-like, optional\n",
            "        List of column names to use. If file contains no header row, then you\n",
            "        should explicitly pass ``header=None``. Duplicates in this list will cause\n",
            "        a ``UserWarning`` to be issued.\n",
            "    index_col : int, sequence or bool, optional\n",
            "        Column to use as the row labels of the DataFrame. If a sequence is given, a\n",
            "        MultiIndex is used. If you have a malformed file with delimiters at the end\n",
            "        of each line, you might consider ``index_col=False`` to force pandas to\n",
            "        not use the first column as the index (row names).\n",
            "    usecols : list-like or callable, optional\n",
            "        Return a subset of the columns. If list-like, all elements must either\n",
            "        be positional (i.e. integer indices into the document columns) or strings\n",
            "        that correspond to column names provided either by the user in `names` or\n",
            "        inferred from the document header row(s). For example, a valid list-like\n",
            "        `usecols` parameter would be ``[0, 1, 2]`` or ``['foo', 'bar', 'baz']``.\n",
            "        Element order is ignored, so ``usecols=[0, 1]`` is the same as ``[1, 0]``.\n",
            "        To instantiate a DataFrame from ``data`` with element order preserved use\n",
            "        ``pd.read_csv(data, usecols=['foo', 'bar'])[['foo', 'bar']]`` for columns\n",
            "        in ``['foo', 'bar']`` order or\n",
            "        ``pd.read_csv(data, usecols=['foo', 'bar'])[['bar', 'foo']]``\n",
            "        for ``['bar', 'foo']`` order.\n",
            "    \n",
            "        If callable, the callable function will be evaluated against the column\n",
            "        names, returning names where the callable function evaluates to True. An\n",
            "        example of a valid callable argument would be ``lambda x: x.upper() in\n",
            "        ['AAA', 'BBB', 'DDD']``. Using this parameter results in much faster\n",
            "        parsing time and lower memory usage.\n",
            "    squeeze : bool, default False\n",
            "        If the parsed data only contains one column then return a Series.\n",
            "    prefix : str, optional\n",
            "        Prefix to add to column numbers when no header, e.g. 'X' for X0, X1, ...\n",
            "    mangle_dupe_cols : bool, default True\n",
            "        Duplicate columns will be specified as 'X', 'X.1', ...'X.N', rather than\n",
            "        'X'...'X'. Passing in False will cause data to be overwritten if there\n",
            "        are duplicate names in the columns.\n",
            "    dtype : Type name or dict of column -> type, optional\n",
            "        Data type for data or columns. E.g. {'a': np.float64, 'b': np.int32,\n",
            "        'c': 'Int64'}\n",
            "        Use `str` or `object` together with suitable `na_values` settings\n",
            "        to preserve and not interpret dtype.\n",
            "        If converters are specified, they will be applied INSTEAD\n",
            "        of dtype conversion.\n",
            "    engine : {'c', 'python'}, optional\n",
            "        Parser engine to use. The C engine is faster while the python engine is\n",
            "        currently more feature-complete.\n",
            "    converters : dict, optional\n",
            "        Dict of functions for converting values in certain columns. Keys can either\n",
            "        be integers or column labels.\n",
            "    true_values : list, optional\n",
            "        Values to consider as True.\n",
            "    false_values : list, optional\n",
            "        Values to consider as False.\n",
            "    skipinitialspace : bool, default False\n",
            "        Skip spaces after delimiter.\n",
            "    skiprows : list-like, int or callable, optional\n",
            "        Line numbers to skip (0-indexed) or number of lines to skip (int)\n",
            "        at the start of the file.\n",
            "    \n",
            "        If callable, the callable function will be evaluated against the row\n",
            "        indices, returning True if the row should be skipped and False otherwise.\n",
            "        An example of a valid callable argument would be ``lambda x: x in [0, 2]``.\n",
            "    skipfooter : int, default 0\n",
            "        Number of lines at bottom of file to skip (Unsupported with engine='c').\n",
            "    nrows : int, optional\n",
            "        Number of rows of file to read. Useful for reading pieces of large files.\n",
            "    na_values : scalar, str, list-like, or dict, optional\n",
            "        Additional strings to recognize as NA/NaN. If dict passed, specific\n",
            "        per-column NA values.  By default the following values are interpreted as\n",
            "        NaN: '', '#N/A', '#N/A N/A', '#NA', '-1.#IND', '-1.#QNAN', '-NaN', '-nan',\n",
            "        '1.#IND', '1.#QNAN', 'N/A', 'NA', 'NULL', 'NaN', 'n/a', 'nan',\n",
            "        'null'.\n",
            "    keep_default_na : bool, default True\n",
            "        Whether or not to include the default NaN values when parsing the data.\n",
            "        Depending on whether `na_values` is passed in, the behavior is as follows:\n",
            "    \n",
            "        * If `keep_default_na` is True, and `na_values` are specified, `na_values`\n",
            "          is appended to the default NaN values used for parsing.\n",
            "        * If `keep_default_na` is True, and `na_values` are not specified, only\n",
            "          the default NaN values are used for parsing.\n",
            "        * If `keep_default_na` is False, and `na_values` are specified, only\n",
            "          the NaN values specified `na_values` are used for parsing.\n",
            "        * If `keep_default_na` is False, and `na_values` are not specified, no\n",
            "          strings will be parsed as NaN.\n",
            "    \n",
            "        Note that if `na_filter` is passed in as False, the `keep_default_na` and\n",
            "        `na_values` parameters will be ignored.\n",
            "    na_filter : bool, default True\n",
            "        Detect missing value markers (empty strings and the value of na_values). In\n",
            "        data without any NAs, passing na_filter=False can improve the performance\n",
            "        of reading a large file.\n",
            "    verbose : bool, default False\n",
            "        Indicate number of NA values placed in non-numeric columns.\n",
            "    skip_blank_lines : bool, default True\n",
            "        If True, skip over blank lines rather than interpreting as NaN values.\n",
            "    parse_dates : bool or list of int or names or list of lists or dict, default False\n",
            "        The behavior is as follows:\n",
            "    \n",
            "        * boolean. If True -> try parsing the index.\n",
            "        * list of int or names. e.g. If [1, 2, 3] -> try parsing columns 1, 2, 3\n",
            "          each as a separate date column.\n",
            "        * list of lists. e.g.  If [[1, 3]] -> combine columns 1 and 3 and parse as\n",
            "          a single date column.\n",
            "        * dict, e.g. {'foo' : [1, 3]} -> parse columns 1, 3 as date and call\n",
            "          result 'foo'\n",
            "    \n",
            "        If a column or index cannot be represented as an array of datetimes,\n",
            "        say because of an unparseable value or a mixture of timezones, the column\n",
            "        or index will be returned unaltered as an object data type. For\n",
            "        non-standard datetime parsing, use ``pd.to_datetime`` after\n",
            "        ``pd.read_csv``. To parse an index or column with a mixture of timezones,\n",
            "        specify ``date_parser`` to be a partially-applied\n",
            "        :func:`pandas.to_datetime` with ``utc=True``. See\n",
            "        :ref:`io.csv.mixed_timezones` for more.\n",
            "    \n",
            "        Note: A fast-path exists for iso8601-formatted dates.\n",
            "    infer_datetime_format : bool, default False\n",
            "        If True and `parse_dates` is enabled, pandas will attempt to infer the\n",
            "        format of the datetime strings in the columns, and if it can be inferred,\n",
            "        switch to a faster method of parsing them. In some cases this can increase\n",
            "        the parsing speed by 5-10x.\n",
            "    keep_date_col : bool, default False\n",
            "        If True and `parse_dates` specifies combining multiple columns then\n",
            "        keep the original columns.\n",
            "    date_parser : function, optional\n",
            "        Function to use for converting a sequence of string columns to an array of\n",
            "        datetime instances. The default uses ``dateutil.parser.parser`` to do the\n",
            "        conversion. Pandas will try to call `date_parser` in three different ways,\n",
            "        advancing to the next if an exception occurs: 1) Pass one or more arrays\n",
            "        (as defined by `parse_dates`) as arguments; 2) concatenate (row-wise) the\n",
            "        string values from the columns defined by `parse_dates` into a single array\n",
            "        and pass that; and 3) call `date_parser` once for each row using one or\n",
            "        more strings (corresponding to the columns defined by `parse_dates`) as\n",
            "        arguments.\n",
            "    dayfirst : bool, default False\n",
            "        DD/MM format dates, international and European format.\n",
            "    iterator : bool, default False\n",
            "        Return TextFileReader object for iteration or getting chunks with\n",
            "        ``get_chunk()``.\n",
            "    chunksize : int, optional\n",
            "        Return TextFileReader object for iteration.\n",
            "        See the `IO Tools docs\n",
            "        <http://pandas.pydata.org/pandas-docs/stable/io.html#io-chunking>`_\n",
            "        for more information on ``iterator`` and ``chunksize``.\n",
            "    compression : {'infer', 'gzip', 'bz2', 'zip', 'xz', None}, default 'infer'\n",
            "        For on-the-fly decompression of on-disk data. If 'infer' and\n",
            "        `filepath_or_buffer` is path-like, then detect compression from the\n",
            "        following extensions: '.gz', '.bz2', '.zip', or '.xz' (otherwise no\n",
            "        decompression). If using 'zip', the ZIP file must contain only one data\n",
            "        file to be read in. Set to None for no decompression.\n",
            "    \n",
            "        .. versionadded:: 0.18.1 support for 'zip' and 'xz' compression.\n",
            "    \n",
            "    thousands : str, optional\n",
            "        Thousands separator.\n",
            "    decimal : str, default '.'\n",
            "        Character to recognize as decimal point (e.g. use ',' for European data).\n",
            "    lineterminator : str (length 1), optional\n",
            "        Character to break file into lines. Only valid with C parser.\n",
            "    quotechar : str (length 1), optional\n",
            "        The character used to denote the start and end of a quoted item. Quoted\n",
            "        items can include the delimiter and it will be ignored.\n",
            "    quoting : int or csv.QUOTE_* instance, default 0\n",
            "        Control field quoting behavior per ``csv.QUOTE_*`` constants. Use one of\n",
            "        QUOTE_MINIMAL (0), QUOTE_ALL (1), QUOTE_NONNUMERIC (2) or QUOTE_NONE (3).\n",
            "    doublequote : bool, default ``True``\n",
            "       When quotechar is specified and quoting is not ``QUOTE_NONE``, indicate\n",
            "       whether or not to interpret two consecutive quotechar elements INSIDE a\n",
            "       field as a single ``quotechar`` element.\n",
            "    escapechar : str (length 1), optional\n",
            "        One-character string used to escape other characters.\n",
            "    comment : str, optional\n",
            "        Indicates remainder of line should not be parsed. If found at the beginning\n",
            "        of a line, the line will be ignored altogether. This parameter must be a\n",
            "        single character. Like empty lines (as long as ``skip_blank_lines=True``),\n",
            "        fully commented lines are ignored by the parameter `header` but not by\n",
            "        `skiprows`. For example, if ``comment='#'``, parsing\n",
            "        ``#empty\\na,b,c\\n1,2,3`` with ``header=0`` will result in 'a,b,c' being\n",
            "        treated as the header.\n",
            "    encoding : str, optional\n",
            "        Encoding to use for UTF when reading/writing (ex. 'utf-8'). `List of Python\n",
            "        standard encodings\n",
            "        <https://docs.python.org/3/library/codecs.html#standard-encodings>`_ .\n",
            "    dialect : str or csv.Dialect, optional\n",
            "        If provided, this parameter will override values (default or not) for the\n",
            "        following parameters: `delimiter`, `doublequote`, `escapechar`,\n",
            "        `skipinitialspace`, `quotechar`, and `quoting`. If it is necessary to\n",
            "        override values, a ParserWarning will be issued. See csv.Dialect\n",
            "        documentation for more details.\n",
            "    tupleize_cols : bool, default False\n",
            "        Leave a list of tuples on columns as is (default is to convert to\n",
            "        a MultiIndex on the columns).\n",
            "    \n",
            "        .. deprecated:: 0.21.0\n",
            "           This argument will be removed and will always convert to MultiIndex\n",
            "    \n",
            "    error_bad_lines : bool, default True\n",
            "        Lines with too many fields (e.g. a csv line with too many commas) will by\n",
            "        default cause an exception to be raised, and no DataFrame will be returned.\n",
            "        If False, then these \"bad lines\" will dropped from the DataFrame that is\n",
            "        returned.\n",
            "    warn_bad_lines : bool, default True\n",
            "        If error_bad_lines is False, and warn_bad_lines is True, a warning for each\n",
            "        \"bad line\" will be output.\n",
            "    delim_whitespace : bool, default False\n",
            "        Specifies whether or not whitespace (e.g. ``' '`` or ``'    '``) will be\n",
            "        used as the sep. Equivalent to setting ``sep='\\s+'``. If this option\n",
            "        is set to True, nothing should be passed in for the ``delimiter``\n",
            "        parameter.\n",
            "    \n",
            "        .. versionadded:: 0.18.1 support for the Python parser.\n",
            "    \n",
            "    low_memory : bool, default True\n",
            "        Internally process the file in chunks, resulting in lower memory use\n",
            "        while parsing, but possibly mixed type inference.  To ensure no mixed\n",
            "        types either set False, or specify the type with the `dtype` parameter.\n",
            "        Note that the entire file is read into a single DataFrame regardless,\n",
            "        use the `chunksize` or `iterator` parameter to return the data in chunks.\n",
            "        (Only valid with C parser).\n",
            "    memory_map : bool, default False\n",
            "        If a filepath is provided for `filepath_or_buffer`, map the file object\n",
            "        directly onto memory and access the data directly from there. Using this\n",
            "        option can improve performance because there is no longer any I/O overhead.\n",
            "    float_precision : str, optional\n",
            "        Specifies which converter the C engine should use for floating-point\n",
            "        values. The options are `None` for the ordinary converter,\n",
            "        `high` for the high-precision converter, and `round_trip` for the\n",
            "        round-trip converter.\n",
            "    \n",
            "    Returns\n",
            "    -------\n",
            "    DataFrame or TextParser\n",
            "        A comma-separated values (csv) file is returned as two-dimensional\n",
            "        data structure with labeled axes.\n",
            "    \n",
            "    See Also\n",
            "    --------\n",
            "    to_csv : Write DataFrame to a comma-separated values (csv) file.\n",
            "    read_csv : Read a comma-separated values (csv) file into DataFrame.\n",
            "    read_fwf : Read a table of fixed-width formatted lines into DataFrame.\n",
            "    \n",
            "    Examples\n",
            "    --------\n",
            "    >>> pd.read_csv('data.csv')  # doctest: +SKIP\n",
            "\n"
          ],
          "name": "stdout"
        }
      ]
    },
    {
      "cell_type": "code",
      "metadata": {
        "id": "EiNiR6vExQUt",
        "colab_type": "code",
        "colab": {}
      },
      "source": [
        "?pd.read_csv"
      ],
      "execution_count": 0,
      "outputs": []
    },
    {
      "cell_type": "code",
      "metadata": {
        "id": "oQP_BuKExQWE",
        "colab_type": "code",
        "colab": {}
      },
      "source": [
        "??pd.read_csv"
      ],
      "execution_count": 0,
      "outputs": []
    },
    {
      "cell_type": "code",
      "metadata": {
        "id": "o-thnccIWTvc",
        "colab_type": "code",
        "outputId": "8bc8c797-0398-4d67-e90d-69f0254efdfd",
        "colab": {
          "base_uri": "https://localhost:8080/",
          "height": 204
        }
      },
      "source": [
        "# Alright, we can pass header=None to fix this\n",
        "flag_data = pd.read_csv(flag_data_url, header=None)\n",
        "flag_data.head()"
      ],
      "execution_count": 0,
      "outputs": [
        {
          "output_type": "execute_result",
          "data": {
            "text/html": [
              "<div>\n",
              "<style scoped>\n",
              "    .dataframe tbody tr th:only-of-type {\n",
              "        vertical-align: middle;\n",
              "    }\n",
              "\n",
              "    .dataframe tbody tr th {\n",
              "        vertical-align: top;\n",
              "    }\n",
              "\n",
              "    .dataframe thead th {\n",
              "        text-align: right;\n",
              "    }\n",
              "</style>\n",
              "<table border=\"1\" class=\"dataframe\">\n",
              "  <thead>\n",
              "    <tr style=\"text-align: right;\">\n",
              "      <th></th>\n",
              "      <th>0</th>\n",
              "      <th>1</th>\n",
              "      <th>2</th>\n",
              "      <th>3</th>\n",
              "      <th>4</th>\n",
              "      <th>5</th>\n",
              "      <th>6</th>\n",
              "      <th>7</th>\n",
              "      <th>8</th>\n",
              "      <th>9</th>\n",
              "      <th>10</th>\n",
              "      <th>11</th>\n",
              "      <th>12</th>\n",
              "      <th>13</th>\n",
              "      <th>14</th>\n",
              "      <th>15</th>\n",
              "      <th>16</th>\n",
              "      <th>17</th>\n",
              "      <th>18</th>\n",
              "      <th>19</th>\n",
              "      <th>20</th>\n",
              "      <th>21</th>\n",
              "      <th>22</th>\n",
              "      <th>23</th>\n",
              "      <th>24</th>\n",
              "      <th>25</th>\n",
              "      <th>26</th>\n",
              "      <th>27</th>\n",
              "      <th>28</th>\n",
              "      <th>29</th>\n",
              "    </tr>\n",
              "  </thead>\n",
              "  <tbody>\n",
              "    <tr>\n",
              "      <th>0</th>\n",
              "      <td>Afghanistan</td>\n",
              "      <td>5</td>\n",
              "      <td>1</td>\n",
              "      <td>648</td>\n",
              "      <td>16</td>\n",
              "      <td>10</td>\n",
              "      <td>2</td>\n",
              "      <td>0</td>\n",
              "      <td>3</td>\n",
              "      <td>5</td>\n",
              "      <td>1</td>\n",
              "      <td>1</td>\n",
              "      <td>0</td>\n",
              "      <td>1</td>\n",
              "      <td>1</td>\n",
              "      <td>1</td>\n",
              "      <td>0</td>\n",
              "      <td>green</td>\n",
              "      <td>0</td>\n",
              "      <td>0</td>\n",
              "      <td>0</td>\n",
              "      <td>0</td>\n",
              "      <td>1</td>\n",
              "      <td>0</td>\n",
              "      <td>0</td>\n",
              "      <td>1</td>\n",
              "      <td>0</td>\n",
              "      <td>0</td>\n",
              "      <td>black</td>\n",
              "      <td>green</td>\n",
              "    </tr>\n",
              "    <tr>\n",
              "      <th>1</th>\n",
              "      <td>Albania</td>\n",
              "      <td>3</td>\n",
              "      <td>1</td>\n",
              "      <td>29</td>\n",
              "      <td>3</td>\n",
              "      <td>6</td>\n",
              "      <td>6</td>\n",
              "      <td>0</td>\n",
              "      <td>0</td>\n",
              "      <td>3</td>\n",
              "      <td>1</td>\n",
              "      <td>0</td>\n",
              "      <td>0</td>\n",
              "      <td>1</td>\n",
              "      <td>0</td>\n",
              "      <td>1</td>\n",
              "      <td>0</td>\n",
              "      <td>red</td>\n",
              "      <td>0</td>\n",
              "      <td>0</td>\n",
              "      <td>0</td>\n",
              "      <td>0</td>\n",
              "      <td>1</td>\n",
              "      <td>0</td>\n",
              "      <td>0</td>\n",
              "      <td>0</td>\n",
              "      <td>1</td>\n",
              "      <td>0</td>\n",
              "      <td>red</td>\n",
              "      <td>red</td>\n",
              "    </tr>\n",
              "    <tr>\n",
              "      <th>2</th>\n",
              "      <td>Algeria</td>\n",
              "      <td>4</td>\n",
              "      <td>1</td>\n",
              "      <td>2388</td>\n",
              "      <td>20</td>\n",
              "      <td>8</td>\n",
              "      <td>2</td>\n",
              "      <td>2</td>\n",
              "      <td>0</td>\n",
              "      <td>3</td>\n",
              "      <td>1</td>\n",
              "      <td>1</td>\n",
              "      <td>0</td>\n",
              "      <td>0</td>\n",
              "      <td>1</td>\n",
              "      <td>0</td>\n",
              "      <td>0</td>\n",
              "      <td>green</td>\n",
              "      <td>0</td>\n",
              "      <td>0</td>\n",
              "      <td>0</td>\n",
              "      <td>0</td>\n",
              "      <td>1</td>\n",
              "      <td>1</td>\n",
              "      <td>0</td>\n",
              "      <td>0</td>\n",
              "      <td>0</td>\n",
              "      <td>0</td>\n",
              "      <td>green</td>\n",
              "      <td>white</td>\n",
              "    </tr>\n",
              "    <tr>\n",
              "      <th>3</th>\n",
              "      <td>American-Samoa</td>\n",
              "      <td>6</td>\n",
              "      <td>3</td>\n",
              "      <td>0</td>\n",
              "      <td>0</td>\n",
              "      <td>1</td>\n",
              "      <td>1</td>\n",
              "      <td>0</td>\n",
              "      <td>0</td>\n",
              "      <td>5</td>\n",
              "      <td>1</td>\n",
              "      <td>0</td>\n",
              "      <td>1</td>\n",
              "      <td>1</td>\n",
              "      <td>1</td>\n",
              "      <td>0</td>\n",
              "      <td>1</td>\n",
              "      <td>blue</td>\n",
              "      <td>0</td>\n",
              "      <td>0</td>\n",
              "      <td>0</td>\n",
              "      <td>0</td>\n",
              "      <td>0</td>\n",
              "      <td>0</td>\n",
              "      <td>1</td>\n",
              "      <td>1</td>\n",
              "      <td>1</td>\n",
              "      <td>0</td>\n",
              "      <td>blue</td>\n",
              "      <td>red</td>\n",
              "    </tr>\n",
              "    <tr>\n",
              "      <th>4</th>\n",
              "      <td>Andorra</td>\n",
              "      <td>3</td>\n",
              "      <td>1</td>\n",
              "      <td>0</td>\n",
              "      <td>0</td>\n",
              "      <td>6</td>\n",
              "      <td>0</td>\n",
              "      <td>3</td>\n",
              "      <td>0</td>\n",
              "      <td>3</td>\n",
              "      <td>1</td>\n",
              "      <td>0</td>\n",
              "      <td>1</td>\n",
              "      <td>1</td>\n",
              "      <td>0</td>\n",
              "      <td>0</td>\n",
              "      <td>0</td>\n",
              "      <td>gold</td>\n",
              "      <td>0</td>\n",
              "      <td>0</td>\n",
              "      <td>0</td>\n",
              "      <td>0</td>\n",
              "      <td>0</td>\n",
              "      <td>0</td>\n",
              "      <td>0</td>\n",
              "      <td>0</td>\n",
              "      <td>0</td>\n",
              "      <td>0</td>\n",
              "      <td>blue</td>\n",
              "      <td>red</td>\n",
              "    </tr>\n",
              "  </tbody>\n",
              "</table>\n",
              "</div>"
            ],
            "text/plain": [
              "               0   1   2     3   4   5   6   ...  23  24  25  26  27     28     29\n",
              "0     Afghanistan   5   1   648  16  10   2  ...   0   0   1   0   0  black  green\n",
              "1         Albania   3   1    29   3   6   6  ...   0   0   0   1   0    red    red\n",
              "2         Algeria   4   1  2388  20   8   2  ...   1   0   0   0   0  green  white\n",
              "3  American-Samoa   6   3     0   0   1   1  ...   0   1   1   1   0   blue    red\n",
              "4         Andorra   3   1     0   0   6   0  ...   0   0   0   0   0   blue    red\n",
              "\n",
              "[5 rows x 30 columns]"
            ]
          },
          "metadata": {
            "tags": []
          },
          "execution_count": 14
        }
      ]
    },
    {
      "cell_type": "code",
      "metadata": {
        "id": "iG9ZOkSMWZ6D",
        "colab_type": "code",
        "outputId": "434b6163-a5de-484b-f14a-ec1b4a176f8c",
        "colab": {
          "base_uri": "https://localhost:8080/",
          "height": 544
        }
      },
      "source": [
        "flag_data.count()"
      ],
      "execution_count": 0,
      "outputs": [
        {
          "output_type": "execute_result",
          "data": {
            "text/plain": [
              "0     194\n",
              "1     194\n",
              "2     194\n",
              "3     194\n",
              "4     194\n",
              "5     194\n",
              "6     194\n",
              "7     194\n",
              "8     194\n",
              "9     194\n",
              "10    194\n",
              "11    194\n",
              "12    194\n",
              "13    194\n",
              "14    194\n",
              "15    194\n",
              "16    194\n",
              "17    194\n",
              "18    194\n",
              "19    194\n",
              "20    194\n",
              "21    194\n",
              "22    194\n",
              "23    194\n",
              "24    194\n",
              "25    194\n",
              "26    194\n",
              "27    194\n",
              "28    194\n",
              "29    194\n",
              "dtype: int64"
            ]
          },
          "metadata": {
            "tags": []
          },
          "execution_count": 15
        }
      ]
    },
    {
      "cell_type": "code",
      "metadata": {
        "id": "gMcxnWbkWla1",
        "colab_type": "code",
        "outputId": "74ef1f5a-fec6-4156-ff9d-5846167c9bf2",
        "colab": {
          "base_uri": "https://localhost:8080/",
          "height": 544
        }
      },
      "source": [
        "flag_data.isna().sum()"
      ],
      "execution_count": 0,
      "outputs": [
        {
          "output_type": "execute_result",
          "data": {
            "text/plain": [
              "0     0\n",
              "1     0\n",
              "2     0\n",
              "3     0\n",
              "4     0\n",
              "5     0\n",
              "6     0\n",
              "7     0\n",
              "8     0\n",
              "9     0\n",
              "10    0\n",
              "11    0\n",
              "12    0\n",
              "13    0\n",
              "14    0\n",
              "15    0\n",
              "16    0\n",
              "17    0\n",
              "18    0\n",
              "19    0\n",
              "20    0\n",
              "21    0\n",
              "22    0\n",
              "23    0\n",
              "24    0\n",
              "25    0\n",
              "26    0\n",
              "27    0\n",
              "28    0\n",
              "29    0\n",
              "dtype: int64"
            ]
          },
          "metadata": {
            "tags": []
          },
          "execution_count": 16
        }
      ]
    },
    {
      "cell_type": "markdown",
      "metadata": {
        "id": "AihdUkaDT8We",
        "colab_type": "text"
      },
      "source": [
        "### Yes, but what does it *mean*?\n",
        "\n",
        "This data is fairly nice - it was \"donated\" and is already \"clean\" (no missing values). But there are no variable names - so we have to look at the codebook (also from the site).\n",
        "\n",
        "```\n",
        "1. name: Name of the country concerned\n",
        "2. landmass: 1=N.America, 2=S.America, 3=Europe, 4=Africa, 4=Asia, 6=Oceania\n",
        "3. zone: Geographic quadrant, based on Greenwich and the Equator; 1=NE, 2=SE, 3=SW, 4=NW\n",
        "4. area: in thousands of square km\n",
        "5. population: in round millions\n",
        "6. language: 1=English, 2=Spanish, 3=French, 4=German, 5=Slavic, 6=Other Indo-European, 7=Chinese, 8=Arabic, 9=Japanese/Turkish/Finnish/Magyar, 10=Others\n",
        "7. religion: 0=Catholic, 1=Other Christian, 2=Muslim, 3=Buddhist, 4=Hindu, 5=Ethnic, 6=Marxist, 7=Others\n",
        "8. bars: Number of vertical bars in the flag\n",
        "9. stripes: Number of horizontal stripes in the flag\n",
        "10. colours: Number of different colours in the flag\n",
        "11. red: 0 if red absent, 1 if red present in the flag\n",
        "12. green: same for green\n",
        "13. blue: same for blue\n",
        "14. gold: same for gold (also yellow)\n",
        "15. white: same for white\n",
        "16. black: same for black\n",
        "17. orange: same for orange (also brown)\n",
        "18. mainhue: predominant colour in the flag (tie-breaks decided by taking the topmost hue, if that fails then the most central hue, and if that fails the leftmost hue)\n",
        "19. circles: Number of circles in the flag\n",
        "20. crosses: Number of (upright) crosses\n",
        "21. saltires: Number of diagonal crosses\n",
        "22. quarters: Number of quartered sections\n",
        "23. sunstars: Number of sun or star symbols\n",
        "24. crescent: 1 if a crescent moon symbol present, else 0\n",
        "25. triangle: 1 if any triangles present, 0 otherwise\n",
        "26. icon: 1 if an inanimate image present (e.g., a boat), otherwise 0\n",
        "27. animate: 1 if an animate image (e.g., an eagle, a tree, a human hand) present, 0 otherwise\n",
        "28. text: 1 if any letters or writing on the flag (e.g., a motto or slogan), 0 otherwise\n",
        "29. topleft: colour in the top-left corner (moving right to decide tie-breaks)\n",
        "30. botright: Colour in the bottom-left corner (moving left to decide tie-breaks)\n",
        "```\n",
        "\n",
        "Exercise - read the help for `read_csv` and figure out how to load the data with the above variable names. One pitfall to note - with `header=None` pandas generated variable names starting from 0, but the above list starts from 1..."
      ]
    },
    {
      "cell_type": "code",
      "metadata": {
        "id": "okEjAUHwEZtE",
        "colab_type": "code",
        "outputId": "ae4f032e-42f5-421e-d3e9-798e362754a0",
        "colab": {
          "base_uri": "https://localhost:8080/",
          "height": 241
        }
      },
      "source": [
        "col_headers = ['name','landmass','zone','area','population','language','religion','bars','stripes','colours','red',\n",
        "              'green','blue','gold','white','black','orange','mainhue','circles','crosses','saltires','quarters',\n",
        "              'sunstars','crescent','triangle','icon','animate','text','topleft','botright']\n",
        "\n",
        "flag_data = pd.read_csv(flag_data_url, header=None, names=col_headers)\n",
        "\n",
        "flag_data.head()"
      ],
      "execution_count": 0,
      "outputs": [
        {
          "output_type": "execute_result",
          "data": {
            "text/html": [
              "<div>\n",
              "<style scoped>\n",
              "    .dataframe tbody tr th:only-of-type {\n",
              "        vertical-align: middle;\n",
              "    }\n",
              "\n",
              "    .dataframe tbody tr th {\n",
              "        vertical-align: top;\n",
              "    }\n",
              "\n",
              "    .dataframe thead th {\n",
              "        text-align: right;\n",
              "    }\n",
              "</style>\n",
              "<table border=\"1\" class=\"dataframe\">\n",
              "  <thead>\n",
              "    <tr style=\"text-align: right;\">\n",
              "      <th></th>\n",
              "      <th>name</th>\n",
              "      <th>landmass</th>\n",
              "      <th>zone</th>\n",
              "      <th>area</th>\n",
              "      <th>population</th>\n",
              "      <th>language</th>\n",
              "      <th>religion</th>\n",
              "      <th>bars</th>\n",
              "      <th>stripes</th>\n",
              "      <th>colours</th>\n",
              "      <th>red</th>\n",
              "      <th>green</th>\n",
              "      <th>blue</th>\n",
              "      <th>gold</th>\n",
              "      <th>white</th>\n",
              "      <th>black</th>\n",
              "      <th>orange</th>\n",
              "      <th>mainhue</th>\n",
              "      <th>circles</th>\n",
              "      <th>crosses</th>\n",
              "      <th>saltires</th>\n",
              "      <th>quarters</th>\n",
              "      <th>sunstars</th>\n",
              "      <th>crescent</th>\n",
              "      <th>triangle</th>\n",
              "      <th>icon</th>\n",
              "      <th>animate</th>\n",
              "      <th>text</th>\n",
              "      <th>topleft</th>\n",
              "      <th>botright</th>\n",
              "    </tr>\n",
              "  </thead>\n",
              "  <tbody>\n",
              "    <tr>\n",
              "      <th>0</th>\n",
              "      <td>Afghanistan</td>\n",
              "      <td>5</td>\n",
              "      <td>1</td>\n",
              "      <td>648</td>\n",
              "      <td>16</td>\n",
              "      <td>10</td>\n",
              "      <td>2</td>\n",
              "      <td>0</td>\n",
              "      <td>3</td>\n",
              "      <td>5</td>\n",
              "      <td>1</td>\n",
              "      <td>1</td>\n",
              "      <td>0</td>\n",
              "      <td>1</td>\n",
              "      <td>1</td>\n",
              "      <td>1</td>\n",
              "      <td>0</td>\n",
              "      <td>green</td>\n",
              "      <td>0</td>\n",
              "      <td>0</td>\n",
              "      <td>0</td>\n",
              "      <td>0</td>\n",
              "      <td>1</td>\n",
              "      <td>0</td>\n",
              "      <td>0</td>\n",
              "      <td>1</td>\n",
              "      <td>0</td>\n",
              "      <td>0</td>\n",
              "      <td>black</td>\n",
              "      <td>green</td>\n",
              "    </tr>\n",
              "    <tr>\n",
              "      <th>1</th>\n",
              "      <td>Albania</td>\n",
              "      <td>3</td>\n",
              "      <td>1</td>\n",
              "      <td>29</td>\n",
              "      <td>3</td>\n",
              "      <td>6</td>\n",
              "      <td>6</td>\n",
              "      <td>0</td>\n",
              "      <td>0</td>\n",
              "      <td>3</td>\n",
              "      <td>1</td>\n",
              "      <td>0</td>\n",
              "      <td>0</td>\n",
              "      <td>1</td>\n",
              "      <td>0</td>\n",
              "      <td>1</td>\n",
              "      <td>0</td>\n",
              "      <td>red</td>\n",
              "      <td>0</td>\n",
              "      <td>0</td>\n",
              "      <td>0</td>\n",
              "      <td>0</td>\n",
              "      <td>1</td>\n",
              "      <td>0</td>\n",
              "      <td>0</td>\n",
              "      <td>0</td>\n",
              "      <td>1</td>\n",
              "      <td>0</td>\n",
              "      <td>red</td>\n",
              "      <td>red</td>\n",
              "    </tr>\n",
              "    <tr>\n",
              "      <th>2</th>\n",
              "      <td>Algeria</td>\n",
              "      <td>4</td>\n",
              "      <td>1</td>\n",
              "      <td>2388</td>\n",
              "      <td>20</td>\n",
              "      <td>8</td>\n",
              "      <td>2</td>\n",
              "      <td>2</td>\n",
              "      <td>0</td>\n",
              "      <td>3</td>\n",
              "      <td>1</td>\n",
              "      <td>1</td>\n",
              "      <td>0</td>\n",
              "      <td>0</td>\n",
              "      <td>1</td>\n",
              "      <td>0</td>\n",
              "      <td>0</td>\n",
              "      <td>green</td>\n",
              "      <td>0</td>\n",
              "      <td>0</td>\n",
              "      <td>0</td>\n",
              "      <td>0</td>\n",
              "      <td>1</td>\n",
              "      <td>1</td>\n",
              "      <td>0</td>\n",
              "      <td>0</td>\n",
              "      <td>0</td>\n",
              "      <td>0</td>\n",
              "      <td>green</td>\n",
              "      <td>white</td>\n",
              "    </tr>\n",
              "    <tr>\n",
              "      <th>3</th>\n",
              "      <td>American-Samoa</td>\n",
              "      <td>6</td>\n",
              "      <td>3</td>\n",
              "      <td>0</td>\n",
              "      <td>0</td>\n",
              "      <td>1</td>\n",
              "      <td>1</td>\n",
              "      <td>0</td>\n",
              "      <td>0</td>\n",
              "      <td>5</td>\n",
              "      <td>1</td>\n",
              "      <td>0</td>\n",
              "      <td>1</td>\n",
              "      <td>1</td>\n",
              "      <td>1</td>\n",
              "      <td>0</td>\n",
              "      <td>1</td>\n",
              "      <td>blue</td>\n",
              "      <td>0</td>\n",
              "      <td>0</td>\n",
              "      <td>0</td>\n",
              "      <td>0</td>\n",
              "      <td>0</td>\n",
              "      <td>0</td>\n",
              "      <td>1</td>\n",
              "      <td>1</td>\n",
              "      <td>1</td>\n",
              "      <td>0</td>\n",
              "      <td>blue</td>\n",
              "      <td>red</td>\n",
              "    </tr>\n",
              "    <tr>\n",
              "      <th>4</th>\n",
              "      <td>Andorra</td>\n",
              "      <td>3</td>\n",
              "      <td>1</td>\n",
              "      <td>0</td>\n",
              "      <td>0</td>\n",
              "      <td>6</td>\n",
              "      <td>0</td>\n",
              "      <td>3</td>\n",
              "      <td>0</td>\n",
              "      <td>3</td>\n",
              "      <td>1</td>\n",
              "      <td>0</td>\n",
              "      <td>1</td>\n",
              "      <td>1</td>\n",
              "      <td>0</td>\n",
              "      <td>0</td>\n",
              "      <td>0</td>\n",
              "      <td>gold</td>\n",
              "      <td>0</td>\n",
              "      <td>0</td>\n",
              "      <td>0</td>\n",
              "      <td>0</td>\n",
              "      <td>0</td>\n",
              "      <td>0</td>\n",
              "      <td>0</td>\n",
              "      <td>0</td>\n",
              "      <td>0</td>\n",
              "      <td>0</td>\n",
              "      <td>blue</td>\n",
              "      <td>red</td>\n",
              "    </tr>\n",
              "  </tbody>\n",
              "</table>\n",
              "</div>"
            ],
            "text/plain": [
              "             name  landmass  zone  area  ...  animate  text  topleft  botright\n",
              "0     Afghanistan         5     1   648  ...        0     0    black     green\n",
              "1         Albania         3     1    29  ...        1     0      red       red\n",
              "2         Algeria         4     1  2388  ...        0     0    green     white\n",
              "3  American-Samoa         6     3     0  ...        1     0     blue       red\n",
              "4         Andorra         3     1     0  ...        0     0     blue       red\n",
              "\n",
              "[5 rows x 30 columns]"
            ]
          },
          "metadata": {
            "tags": []
          },
          "execution_count": 17
        }
      ]
    },
    {
      "cell_type": "code",
      "metadata": {
        "id": "aa2dwI5iEANx",
        "colab_type": "code",
        "outputId": "d90f465a-555e-429c-acd5-c921abc0c70f",
        "colab": {
          "base_uri": "https://localhost:8080/",
          "height": 309
        }
      },
      "source": [
        "flag_data['language'] = flag_data['language'].map({1: 'English', 2:'Spanish', 3:'French', 4:'German', 5:'Slavic', 6:'Other Indo-European', 7:'Chinese', 8:'Arabic', 9:'Japanese/Turkish/Finnish/Magyar', 10:'Others'})\n",
        "\n",
        "flag_data.head()"
      ],
      "execution_count": 0,
      "outputs": [
        {
          "output_type": "execute_result",
          "data": {
            "text/html": [
              "<div>\n",
              "<style scoped>\n",
              "    .dataframe tbody tr th:only-of-type {\n",
              "        vertical-align: middle;\n",
              "    }\n",
              "\n",
              "    .dataframe tbody tr th {\n",
              "        vertical-align: top;\n",
              "    }\n",
              "\n",
              "    .dataframe thead th {\n",
              "        text-align: right;\n",
              "    }\n",
              "</style>\n",
              "<table border=\"1\" class=\"dataframe\">\n",
              "  <thead>\n",
              "    <tr style=\"text-align: right;\">\n",
              "      <th></th>\n",
              "      <th>name</th>\n",
              "      <th>landmass</th>\n",
              "      <th>zone</th>\n",
              "      <th>area</th>\n",
              "      <th>population</th>\n",
              "      <th>language</th>\n",
              "      <th>religion</th>\n",
              "      <th>bars</th>\n",
              "      <th>stripes</th>\n",
              "      <th>colours</th>\n",
              "      <th>red</th>\n",
              "      <th>green</th>\n",
              "      <th>blue</th>\n",
              "      <th>gold</th>\n",
              "      <th>white</th>\n",
              "      <th>black</th>\n",
              "      <th>orange</th>\n",
              "      <th>mainhue</th>\n",
              "      <th>circles</th>\n",
              "      <th>crosses</th>\n",
              "      <th>saltires</th>\n",
              "      <th>quarters</th>\n",
              "      <th>sunstars</th>\n",
              "      <th>crescent</th>\n",
              "      <th>triangle</th>\n",
              "      <th>icon</th>\n",
              "      <th>animate</th>\n",
              "      <th>text</th>\n",
              "      <th>topleft</th>\n",
              "      <th>botright</th>\n",
              "    </tr>\n",
              "  </thead>\n",
              "  <tbody>\n",
              "    <tr>\n",
              "      <th>0</th>\n",
              "      <td>Afghanistan</td>\n",
              "      <td>5</td>\n",
              "      <td>1</td>\n",
              "      <td>648</td>\n",
              "      <td>16</td>\n",
              "      <td>Others</td>\n",
              "      <td>2</td>\n",
              "      <td>0</td>\n",
              "      <td>3</td>\n",
              "      <td>5</td>\n",
              "      <td>1</td>\n",
              "      <td>1</td>\n",
              "      <td>0</td>\n",
              "      <td>1</td>\n",
              "      <td>1</td>\n",
              "      <td>1</td>\n",
              "      <td>0</td>\n",
              "      <td>green</td>\n",
              "      <td>0</td>\n",
              "      <td>0</td>\n",
              "      <td>0</td>\n",
              "      <td>0</td>\n",
              "      <td>1</td>\n",
              "      <td>0</td>\n",
              "      <td>0</td>\n",
              "      <td>1</td>\n",
              "      <td>0</td>\n",
              "      <td>0</td>\n",
              "      <td>black</td>\n",
              "      <td>green</td>\n",
              "    </tr>\n",
              "    <tr>\n",
              "      <th>1</th>\n",
              "      <td>Albania</td>\n",
              "      <td>3</td>\n",
              "      <td>1</td>\n",
              "      <td>29</td>\n",
              "      <td>3</td>\n",
              "      <td>Other Indo-European</td>\n",
              "      <td>6</td>\n",
              "      <td>0</td>\n",
              "      <td>0</td>\n",
              "      <td>3</td>\n",
              "      <td>1</td>\n",
              "      <td>0</td>\n",
              "      <td>0</td>\n",
              "      <td>1</td>\n",
              "      <td>0</td>\n",
              "      <td>1</td>\n",
              "      <td>0</td>\n",
              "      <td>red</td>\n",
              "      <td>0</td>\n",
              "      <td>0</td>\n",
              "      <td>0</td>\n",
              "      <td>0</td>\n",
              "      <td>1</td>\n",
              "      <td>0</td>\n",
              "      <td>0</td>\n",
              "      <td>0</td>\n",
              "      <td>1</td>\n",
              "      <td>0</td>\n",
              "      <td>red</td>\n",
              "      <td>red</td>\n",
              "    </tr>\n",
              "    <tr>\n",
              "      <th>2</th>\n",
              "      <td>Algeria</td>\n",
              "      <td>4</td>\n",
              "      <td>1</td>\n",
              "      <td>2388</td>\n",
              "      <td>20</td>\n",
              "      <td>Arabic</td>\n",
              "      <td>2</td>\n",
              "      <td>2</td>\n",
              "      <td>0</td>\n",
              "      <td>3</td>\n",
              "      <td>1</td>\n",
              "      <td>1</td>\n",
              "      <td>0</td>\n",
              "      <td>0</td>\n",
              "      <td>1</td>\n",
              "      <td>0</td>\n",
              "      <td>0</td>\n",
              "      <td>green</td>\n",
              "      <td>0</td>\n",
              "      <td>0</td>\n",
              "      <td>0</td>\n",
              "      <td>0</td>\n",
              "      <td>1</td>\n",
              "      <td>1</td>\n",
              "      <td>0</td>\n",
              "      <td>0</td>\n",
              "      <td>0</td>\n",
              "      <td>0</td>\n",
              "      <td>green</td>\n",
              "      <td>white</td>\n",
              "    </tr>\n",
              "    <tr>\n",
              "      <th>3</th>\n",
              "      <td>American-Samoa</td>\n",
              "      <td>6</td>\n",
              "      <td>3</td>\n",
              "      <td>0</td>\n",
              "      <td>0</td>\n",
              "      <td>English</td>\n",
              "      <td>1</td>\n",
              "      <td>0</td>\n",
              "      <td>0</td>\n",
              "      <td>5</td>\n",
              "      <td>1</td>\n",
              "      <td>0</td>\n",
              "      <td>1</td>\n",
              "      <td>1</td>\n",
              "      <td>1</td>\n",
              "      <td>0</td>\n",
              "      <td>1</td>\n",
              "      <td>blue</td>\n",
              "      <td>0</td>\n",
              "      <td>0</td>\n",
              "      <td>0</td>\n",
              "      <td>0</td>\n",
              "      <td>0</td>\n",
              "      <td>0</td>\n",
              "      <td>1</td>\n",
              "      <td>1</td>\n",
              "      <td>1</td>\n",
              "      <td>0</td>\n",
              "      <td>blue</td>\n",
              "      <td>red</td>\n",
              "    </tr>\n",
              "    <tr>\n",
              "      <th>4</th>\n",
              "      <td>Andorra</td>\n",
              "      <td>3</td>\n",
              "      <td>1</td>\n",
              "      <td>0</td>\n",
              "      <td>0</td>\n",
              "      <td>Other Indo-European</td>\n",
              "      <td>0</td>\n",
              "      <td>3</td>\n",
              "      <td>0</td>\n",
              "      <td>3</td>\n",
              "      <td>1</td>\n",
              "      <td>0</td>\n",
              "      <td>1</td>\n",
              "      <td>1</td>\n",
              "      <td>0</td>\n",
              "      <td>0</td>\n",
              "      <td>0</td>\n",
              "      <td>gold</td>\n",
              "      <td>0</td>\n",
              "      <td>0</td>\n",
              "      <td>0</td>\n",
              "      <td>0</td>\n",
              "      <td>0</td>\n",
              "      <td>0</td>\n",
              "      <td>0</td>\n",
              "      <td>0</td>\n",
              "      <td>0</td>\n",
              "      <td>0</td>\n",
              "      <td>blue</td>\n",
              "      <td>red</td>\n",
              "    </tr>\n",
              "  </tbody>\n",
              "</table>\n",
              "</div>"
            ],
            "text/plain": [
              "             name  landmass  zone  area  ...  animate text  topleft  botright\n",
              "0     Afghanistan         5     1   648  ...        0    0    black     green\n",
              "1         Albania         3     1    29  ...        1    0      red       red\n",
              "2         Algeria         4     1  2388  ...        0    0    green     white\n",
              "3  American-Samoa         6     3     0  ...        1    0     blue       red\n",
              "4         Andorra         3     1     0  ...        0    0     blue       red\n",
              "\n",
              "[5 rows x 30 columns]"
            ]
          },
          "metadata": {
            "tags": []
          },
          "execution_count": 18
        }
      ]
    },
    {
      "cell_type": "code",
      "metadata": {
        "id": "q1VIGDPVGUJc",
        "colab_type": "code",
        "outputId": "66079d0c-b9af-4f33-af6a-4fc93535be44",
        "colab": {
          "base_uri": "https://localhost:8080/",
          "height": 204
        }
      },
      "source": [
        "flag_data.language.value_counts()"
      ],
      "execution_count": 0,
      "outputs": [
        {
          "output_type": "execute_result",
          "data": {
            "text/plain": [
              "Others                             46\n",
              "English                            43\n",
              "Other Indo-European                30\n",
              "Spanish                            21\n",
              "Arabic                             19\n",
              "French                             17\n",
              "German                              6\n",
              "Chinese                             4\n",
              "Slavic                              4\n",
              "Japanese/Turkish/Finnish/Magyar     4\n",
              "Name: language, dtype: int64"
            ]
          },
          "metadata": {
            "tags": []
          },
          "execution_count": 19
        }
      ]
    },
    {
      "cell_type": "markdown",
      "metadata": {
        "id": "YTicA4FeGp-O",
        "colab_type": "text"
      },
      "source": [
        "## Reading other CSVs"
      ]
    },
    {
      "cell_type": "code",
      "metadata": {
        "id": "-5v7I-MLGuct",
        "colab_type": "code",
        "outputId": "a8c2ae55-3dc8-4ae7-b5bb-76b14c262337",
        "colab": {
          "base_uri": "https://localhost:8080/",
          "height": 170
        }
      },
      "source": [
        "link1 = 'https://raw.githubusercontent.com/BJanota11/DS-Unit-1-Sprint-1-Dealing-With-Data/master/module2-loadingdata/drinks_with_regions.csv'\n",
        "link2 = 'https://raw.githubusercontent.com/BJanota11/DS-Unit-1-Sprint-1-Dealing-With-Data/master/module2-loadingdata/drinks_with_regions_index.csv'\n",
        "link3 = 'https://raw.githubusercontent.com/BJanota11/DS-Unit-1-Sprint-1-Dealing-With-Data/master/module2-loadingdata/drinks_with_regions_header.csv'\n",
        "\n",
        "df = pd.read_csv(link1)\n",
        "\n",
        "print(df.shape)\n",
        "\n",
        "print(df.head())"
      ],
      "execution_count": 0,
      "outputs": [
        {
          "output_type": "stream",
          "text": [
            "(193, 7)\n",
            "       country  beer_servings  ...  region          sub-region\n",
            "0  Afghanistan              0  ...    Asia       Southern Asia\n",
            "1      Albania             89  ...  Europe     Southern Europe\n",
            "2      Algeria             25  ...  Africa     Northern Africa\n",
            "3      Andorra            245  ...  Europe     Southern Europe\n",
            "4       Angola            217  ...  Africa  Sub-Saharan Africa\n",
            "\n",
            "[5 rows x 7 columns]\n"
          ],
          "name": "stdout"
        }
      ]
    },
    {
      "cell_type": "code",
      "metadata": {
        "id": "ymbqH_nFJYHn",
        "colab_type": "code",
        "outputId": "12bf94b4-3bd2-4abf-de01-1231d3bc6a5d",
        "colab": {
          "base_uri": "https://localhost:8080/",
          "height": 153
        }
      },
      "source": [
        "df.loc[0]"
      ],
      "execution_count": 0,
      "outputs": [
        {
          "output_type": "execute_result",
          "data": {
            "text/plain": [
              "country                           Afghanistan\n",
              "beer_servings                               0\n",
              "spirit_servings                             0\n",
              "wine_servings                               0\n",
              "total_litres_of_pure_alcohol                0\n",
              "region                                   Asia\n",
              "sub-region                      Southern Asia\n",
              "Name: 0, dtype: object"
            ]
          },
          "metadata": {
            "tags": []
          },
          "execution_count": 21
        }
      ]
    },
    {
      "cell_type": "code",
      "metadata": {
        "id": "IjBhtx01Iy_O",
        "colab_type": "code",
        "outputId": "079e26ad-df50-4de2-d4f5-25169c4bf1fb",
        "colab": {
          "base_uri": "https://localhost:8080/",
          "height": 187
        }
      },
      "source": [
        "df = pd.read_csv(link1, index_col=0)\n",
        "\n",
        "print(df.shape)\n",
        "\n",
        "print(df.head())"
      ],
      "execution_count": 0,
      "outputs": [
        {
          "output_type": "stream",
          "text": [
            "(193, 6)\n",
            "             beer_servings  spirit_servings  ...  region          sub-region\n",
            "country                                      ...                            \n",
            "Afghanistan              0                0  ...    Asia       Southern Asia\n",
            "Albania                 89              132  ...  Europe     Southern Europe\n",
            "Algeria                 25                0  ...  Africa     Northern Africa\n",
            "Andorra                245              138  ...  Europe     Southern Europe\n",
            "Angola                 217               57  ...  Africa  Sub-Saharan Africa\n",
            "\n",
            "[5 rows x 6 columns]\n"
          ],
          "name": "stdout"
        }
      ]
    },
    {
      "cell_type": "code",
      "metadata": {
        "id": "c3DdItnyJqmA",
        "colab_type": "code",
        "outputId": "a74a230f-b1ac-4661-88b7-f096bb6f11a3",
        "colab": {
          "base_uri": "https://localhost:8080/",
          "height": 136
        }
      },
      "source": [
        "df.loc['Afghanistan']"
      ],
      "execution_count": 0,
      "outputs": [
        {
          "output_type": "execute_result",
          "data": {
            "text/plain": [
              "beer_servings                               0\n",
              "spirit_servings                             0\n",
              "wine_servings                               0\n",
              "total_litres_of_pure_alcohol                0\n",
              "region                                   Asia\n",
              "sub-region                      Southern Asia\n",
              "Name: Afghanistan, dtype: object"
            ]
          },
          "metadata": {
            "tags": []
          },
          "execution_count": 23
        }
      ]
    },
    {
      "cell_type": "code",
      "metadata": {
        "id": "0TJjI-76VoCc",
        "colab_type": "code",
        "outputId": "04bfc14a-6b83-4a1a-a762-f3409c4b60ef",
        "colab": {
          "base_uri": "https://localhost:8080/",
          "height": 136
        }
      },
      "source": [
        "df.loc['USA']"
      ],
      "execution_count": 0,
      "outputs": [
        {
          "output_type": "execute_result",
          "data": {
            "text/plain": [
              "beer_servings                   249\n",
              "spirit_servings                 158\n",
              "wine_servings                    84\n",
              "total_litres_of_pure_alcohol    8.7\n",
              "region                          NaN\n",
              "sub-region                      NaN\n",
              "Name: USA, dtype: object"
            ]
          },
          "metadata": {
            "tags": []
          },
          "execution_count": 24
        }
      ]
    },
    {
      "cell_type": "code",
      "metadata": {
        "id": "ZVsEZ4q7IQXO",
        "colab_type": "code",
        "colab": {}
      },
      "source": [
        "df.to_csv('test.csv')"
      ],
      "execution_count": 0,
      "outputs": []
    },
    {
      "cell_type": "code",
      "metadata": {
        "id": "C-CM80uyXlAs",
        "colab_type": "code",
        "outputId": "9721f4b2-594b-4265-8f8d-a17bd1eec3f4",
        "colab": {
          "base_uri": "https://localhost:8080/",
          "height": 68
        }
      },
      "source": [
        "df.columns"
      ],
      "execution_count": 0,
      "outputs": [
        {
          "output_type": "execute_result",
          "data": {
            "text/plain": [
              "Index(['beer_servings', 'spirit_servings', 'wine_servings',\n",
              "       'total_litres_of_pure_alcohol', 'region', 'sub-region'],\n",
              "      dtype='object')"
            ]
          },
          "metadata": {
            "tags": []
          },
          "execution_count": 26
        }
      ]
    },
    {
      "cell_type": "code",
      "metadata": {
        "id": "5beg6BV2Hadb",
        "colab_type": "code",
        "outputId": "6a4cee75-45c8-459f-fac0-2dca226f4323",
        "colab": {
          "base_uri": "https://localhost:8080/",
          "height": 170
        }
      },
      "source": [
        "df = pd.read_csv(link2)\n",
        "\n",
        "print(df.shape)\n",
        "\n",
        "print(df.head())"
      ],
      "execution_count": 0,
      "outputs": [
        {
          "output_type": "stream",
          "text": [
            "(193, 8)\n",
            "   Unnamed: 0      country  ...  region          sub-region\n",
            "0           0  Afghanistan  ...    Asia       Southern Asia\n",
            "1           1      Albania  ...  Europe     Southern Europe\n",
            "2           2      Algeria  ...  Africa     Northern Africa\n",
            "3           3      Andorra  ...  Europe     Southern Europe\n",
            "4           4       Angola  ...  Africa  Sub-Saharan Africa\n",
            "\n",
            "[5 rows x 8 columns]\n"
          ],
          "name": "stdout"
        }
      ]
    },
    {
      "cell_type": "code",
      "metadata": {
        "id": "CQihaBeGH417",
        "colab_type": "code",
        "outputId": "d38a978a-54c5-4c40-dc50-d9ba6a0cb729",
        "colab": {
          "base_uri": "https://localhost:8080/",
          "height": 170
        }
      },
      "source": [
        "df = pd.read_csv(link2, index_col = 0)\n",
        "\n",
        "print(df.shape)\n",
        "\n",
        "print(df.head())"
      ],
      "execution_count": 0,
      "outputs": [
        {
          "output_type": "stream",
          "text": [
            "(193, 7)\n",
            "       country  beer_servings  ...  region          sub-region\n",
            "0  Afghanistan              0  ...    Asia       Southern Asia\n",
            "1      Albania             89  ...  Europe     Southern Europe\n",
            "2      Algeria             25  ...  Africa     Northern Africa\n",
            "3      Andorra            245  ...  Europe     Southern Europe\n",
            "4       Angola            217  ...  Africa  Sub-Saharan Africa\n",
            "\n",
            "[5 rows x 7 columns]\n"
          ],
          "name": "stdout"
        }
      ]
    },
    {
      "cell_type": "code",
      "metadata": {
        "id": "ozSNqkxpWTv4",
        "colab_type": "code",
        "outputId": "316e49da-cc3d-4ed9-bb34-10a38bb8e391",
        "colab": {
          "base_uri": "https://localhost:8080/",
          "height": 170
        }
      },
      "source": [
        "# df = pd.read_csv(link2, index_col = 0)\n",
        "# df = df.drop(df.columns[0], axis = 1)\n",
        "\n",
        "df = pd.read_csv(link2, usecols = range(1,8))\n",
        "\n",
        "print(df.shape)\n",
        "\n",
        "print(df.head())"
      ],
      "execution_count": 0,
      "outputs": [
        {
          "output_type": "stream",
          "text": [
            "(193, 7)\n",
            "       country  beer_servings  ...  region          sub-region\n",
            "0  Afghanistan              0  ...    Asia       Southern Asia\n",
            "1      Albania             89  ...  Europe     Southern Europe\n",
            "2      Algeria             25  ...  Africa     Northern Africa\n",
            "3      Andorra            245  ...  Europe     Southern Europe\n",
            "4       Angola            217  ...  Africa  Sub-Saharan Africa\n",
            "\n",
            "[5 rows x 7 columns]\n"
          ],
          "name": "stdout"
        }
      ]
    },
    {
      "cell_type": "code",
      "metadata": {
        "id": "6Q0H_1lKW0LS",
        "colab_type": "code",
        "outputId": "11228172-16b8-447a-84cc-ee49f2c53bea",
        "colab": {
          "base_uri": "https://localhost:8080/",
          "height": 204
        }
      },
      "source": [
        "df = df.drop(['country', 'beer_servings', 'spirit_servings'], axis = 1)\n",
        "\n",
        "df.shape\n",
        "\n",
        "df.head()"
      ],
      "execution_count": 0,
      "outputs": [
        {
          "output_type": "execute_result",
          "data": {
            "text/html": [
              "<div>\n",
              "<style scoped>\n",
              "    .dataframe tbody tr th:only-of-type {\n",
              "        vertical-align: middle;\n",
              "    }\n",
              "\n",
              "    .dataframe tbody tr th {\n",
              "        vertical-align: top;\n",
              "    }\n",
              "\n",
              "    .dataframe thead th {\n",
              "        text-align: right;\n",
              "    }\n",
              "</style>\n",
              "<table border=\"1\" class=\"dataframe\">\n",
              "  <thead>\n",
              "    <tr style=\"text-align: right;\">\n",
              "      <th></th>\n",
              "      <th>wine_servings</th>\n",
              "      <th>total_litres_of_pure_alcohol</th>\n",
              "      <th>region</th>\n",
              "      <th>sub-region</th>\n",
              "    </tr>\n",
              "  </thead>\n",
              "  <tbody>\n",
              "    <tr>\n",
              "      <th>0</th>\n",
              "      <td>0</td>\n",
              "      <td>0.0</td>\n",
              "      <td>Asia</td>\n",
              "      <td>Southern Asia</td>\n",
              "    </tr>\n",
              "    <tr>\n",
              "      <th>1</th>\n",
              "      <td>54</td>\n",
              "      <td>4.9</td>\n",
              "      <td>Europe</td>\n",
              "      <td>Southern Europe</td>\n",
              "    </tr>\n",
              "    <tr>\n",
              "      <th>2</th>\n",
              "      <td>14</td>\n",
              "      <td>0.7</td>\n",
              "      <td>Africa</td>\n",
              "      <td>Northern Africa</td>\n",
              "    </tr>\n",
              "    <tr>\n",
              "      <th>3</th>\n",
              "      <td>312</td>\n",
              "      <td>12.4</td>\n",
              "      <td>Europe</td>\n",
              "      <td>Southern Europe</td>\n",
              "    </tr>\n",
              "    <tr>\n",
              "      <th>4</th>\n",
              "      <td>45</td>\n",
              "      <td>5.9</td>\n",
              "      <td>Africa</td>\n",
              "      <td>Sub-Saharan Africa</td>\n",
              "    </tr>\n",
              "  </tbody>\n",
              "</table>\n",
              "</div>"
            ],
            "text/plain": [
              "   wine_servings  total_litres_of_pure_alcohol  region          sub-region\n",
              "0              0                           0.0    Asia       Southern Asia\n",
              "1             54                           4.9  Europe     Southern Europe\n",
              "2             14                           0.7  Africa     Northern Africa\n",
              "3            312                          12.4  Europe     Southern Europe\n",
              "4             45                           5.9  Africa  Sub-Saharan Africa"
            ]
          },
          "metadata": {
            "tags": []
          },
          "execution_count": 30
        }
      ]
    },
    {
      "cell_type": "code",
      "metadata": {
        "id": "vnOJtEXYZL3m",
        "colab_type": "code",
        "outputId": "415ff375-aed0-4c42-c2ec-9301a4f4ef42",
        "colab": {
          "base_uri": "https://localhost:8080/",
          "height": 170
        }
      },
      "source": [
        "df = pd.read_csv(link3)\n",
        "\n",
        "print(df.shape)\n",
        "\n",
        "print(df.head())"
      ],
      "execution_count": 0,
      "outputs": [
        {
          "output_type": "stream",
          "text": [
            "(196, 7)\n",
            "  Summary of Drinks by Country from WHO Report, 2010   ...       Unnamed: 6\n",
            "0  https://fivethirtyeight.com/features/dear-mona...   ...              NaN\n",
            "1                                                NaN   ...              NaN\n",
            "2                                            country   ...       sub-region\n",
            "3                                        Afghanistan   ...    Southern Asia\n",
            "4                                            Albania   ...  Southern Europe\n",
            "\n",
            "[5 rows x 7 columns]\n"
          ],
          "name": "stdout"
        }
      ]
    },
    {
      "cell_type": "code",
      "metadata": {
        "id": "BuYrMfWiaePz",
        "colab_type": "code",
        "outputId": "a1d9a6c3-6d69-4226-96d0-8d83ceaa9113",
        "colab": {
          "base_uri": "https://localhost:8080/",
          "height": 170
        }
      },
      "source": [
        "df = pd.read_csv(link3, header=3)\n",
        "\n",
        "print(df.shape)\n",
        "\n",
        "print(df.head())"
      ],
      "execution_count": 0,
      "outputs": [
        {
          "output_type": "stream",
          "text": [
            "(193, 7)\n",
            "       country  beer_servings  ...  region          sub-region\n",
            "0  Afghanistan              0  ...    Asia       Southern Asia\n",
            "1      Albania             89  ...  Europe     Southern Europe\n",
            "2      Algeria             25  ...  Africa     Northern Africa\n",
            "3      Andorra            245  ...  Europe     Southern Europe\n",
            "4       Angola            217  ...  Africa  Sub-Saharan Africa\n",
            "\n",
            "[5 rows x 7 columns]\n"
          ],
          "name": "stdout"
        }
      ]
    },
    {
      "cell_type": "code",
      "metadata": {
        "id": "sVl57H-aatkS",
        "colab_type": "code",
        "outputId": "9949526c-9ef2-418a-82d6-6e6211a8c327",
        "colab": {
          "base_uri": "https://localhost:8080/",
          "height": 170
        }
      },
      "source": [
        "df = pd.read_csv(link3, skiprows=3)\n",
        "\n",
        "print(df.shape)\n",
        "\n",
        "print(df.head())"
      ],
      "execution_count": 0,
      "outputs": [
        {
          "output_type": "stream",
          "text": [
            "(193, 7)\n",
            "       country  beer_servings  ...  region          sub-region\n",
            "0  Afghanistan              0  ...    Asia       Southern Asia\n",
            "1      Albania             89  ...  Europe     Southern Europe\n",
            "2      Algeria             25  ...  Africa     Northern Africa\n",
            "3      Andorra            245  ...  Europe     Southern Europe\n",
            "4       Angola            217  ...  Africa  Sub-Saharan Africa\n",
            "\n",
            "[5 rows x 7 columns]\n"
          ],
          "name": "stdout"
        }
      ]
    },
    {
      "cell_type": "markdown",
      "metadata": {
        "id": "XUgOnmc_0kCL",
        "colab_type": "text"
      },
      "source": [
        "## Loading from a local CSV to Google Colab"
      ]
    },
    {
      "cell_type": "code",
      "metadata": {
        "id": "-4LA4cNO0ofq",
        "colab_type": "code",
        "outputId": "7fe6daeb-3927-4de3-bb3f-5bf8dec9658f",
        "colab": {
          "resources": {
            "http://localhost:8080/nbextensions/google.colab/files.js": {
              "data": "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",
              "ok": true,
              "headers": [
                [
                  "content-type",
                  "application/javascript"
                ]
              ],
              "status": 200,
              "status_text": ""
            }
          },
          "base_uri": "https://localhost:8080/",
          "height": 37
        }
      },
      "source": [
        "from google.colab import files\n",
        "uploaded = files.upload()"
      ],
      "execution_count": 0,
      "outputs": [
        {
          "output_type": "display_data",
          "data": {
            "text/html": [
              "\n",
              "     <input type=\"file\" id=\"files-111221e6-0ddd-469e-b355-5df7625f4abc\" name=\"files[]\" multiple disabled />\n",
              "     <output id=\"result-111221e6-0ddd-469e-b355-5df7625f4abc\">\n",
              "      Upload widget is only available when the cell has been executed in the\n",
              "      current browser session. Please rerun this cell to enable.\n",
              "      </output>\n",
              "      <script src=\"/nbextensions/google.colab/files.js\"></script> "
            ],
            "text/plain": [
              "<IPython.core.display.HTML object>"
            ]
          },
          "metadata": {
            "tags": []
          }
        }
      ]
    },
    {
      "cell_type": "markdown",
      "metadata": {
        "id": "aI2oN4kj1uVQ",
        "colab_type": "text"
      },
      "source": [
        "# Part 2 - Basic Visualizations"
      ]
    },
    {
      "cell_type": "markdown",
      "metadata": {
        "id": "INqBGKRl88YD",
        "colab_type": "text"
      },
      "source": [
        "## Basic Data Visualizations Using Matplotlib"
      ]
    },
    {
      "cell_type": "code",
      "metadata": {
        "id": "6FsdkKuh8_Rz",
        "colab_type": "code",
        "colab": {}
      },
      "source": [
        "import matplotlib.pyplot as plt"
      ],
      "execution_count": 0,
      "outputs": []
    },
    {
      "cell_type": "code",
      "metadata": {
        "id": "JUG-A2cDeEVu",
        "colab_type": "code",
        "outputId": "a7e2fe6c-309f-47ed-d450-c892ab9edfa9",
        "colab": {
          "base_uri": "https://localhost:8080/",
          "height": 284
        }
      },
      "source": [
        "# Scatter Plot\n",
        "\n",
        "plt.scatter(df.beer_servings, df.wine_servings)\n",
        "plt.xlabel('beer_servings')\n",
        "plt.ylabel('wine_servings')\n",
        "plt.show()"
      ],
      "execution_count": 0,
      "outputs": [
        {
          "output_type": "display_data",
          "data": {
            "image/png": "[encoded data removed]",
            "text/plain": [
              "<Figure size 432x288 with 1 Axes>"
            ]
          },
          "metadata": {
            "tags": []
          }
        }
      ]
    },
    {
      "cell_type": "code",
      "metadata": {
        "id": "huwUQ7zE9gkD",
        "colab_type": "code",
        "outputId": "99d21dbd-acd5-4fb7-b1e8-ce2f918a0157",
        "colab": {
          "base_uri": "https://localhost:8080/",
          "height": 269
        }
      },
      "source": [
        "# Histogram\n",
        "\n",
        "plt.hist(df.total_litres_of_pure_alcohol)\n",
        "plt.show()"
      ],
      "execution_count": 0,
      "outputs": [
        {
          "output_type": "display_data",
          "data": {
            "image/png": "[encoded data removed]",
            "text/plain": [
              "<Figure size 432x288 with 1 Axes>"
            ]
          },
          "metadata": {
            "tags": []
          }
        }
      ]
    },
    {
      "cell_type": "code",
      "metadata": {
        "id": "12j6t5wDuBVj",
        "colab_type": "code",
        "outputId": "36be8b41-23a7-493d-d6ac-4f6627cb40a7",
        "colab": {
          "base_uri": "https://localhost:8080/",
          "height": 269
        }
      },
      "source": [
        "plt.hist(df.total_litres_of_pure_alcohol, bins=20)\n",
        "plt.show()"
      ],
      "execution_count": 0,
      "outputs": [
        {
          "output_type": "display_data",
          "data": {
            "image/png": "[encoded data removed]",
            "text/plain": [
              "<Figure size 432x288 with 1 Axes>"
            ]
          },
          "metadata": {
            "tags": []
          }
        }
      ]
    },
    {
      "cell_type": "code",
      "metadata": {
        "id": "TiShULJAvUSo",
        "colab_type": "code",
        "colab": {}
      },
      "source": [
        "import seaborn as sns"
      ],
      "execution_count": 0,
      "outputs": []
    },
    {
      "cell_type": "code",
      "metadata": {
        "id": "CSmpwXQN9o8o",
        "colab_type": "code",
        "outputId": "5dc19463-9bd5-4047-8154-3cc5a8464b00",
        "colab": {
          "base_uri": "https://localhost:8080/",
          "height": 284
        }
      },
      "source": [
        "# Seaborn Density Plot\n",
        "\n",
        "sns.distplot(df.total_litres_of_pure_alcohol)\n",
        "plt.show()"
      ],
      "execution_count": 0,
      "outputs": [
        {
          "output_type": "display_data",
          "data": {
            "image/png": "[encoded data removed]",
            "text/plain": [
              "<Figure size 432x288 with 1 Axes>"
            ]
          },
          "metadata": {
            "tags": []
          }
        }
      ]
    },
    {
      "cell_type": "code",
      "metadata": {
        "id": "jodBCIIQvdy2",
        "colab_type": "code",
        "outputId": "3b0615e2-c7af-4584-d277-426beeebfda3",
        "colab": {
          "base_uri": "https://localhost:8080/",
          "height": 284
        }
      },
      "source": [
        "sns.distplot(df.total_litres_of_pure_alcohol, bins=20)\n",
        "plt.show()"
      ],
      "execution_count": 0,
      "outputs": [
        {
          "output_type": "display_data",
          "data": {
            "image/png": "[encoded data removed]",
            "text/plain": [
              "<Figure size 432x288 with 1 Axes>"
            ]
          },
          "metadata": {
            "tags": []
          }
        }
      ]
    },
    {
      "cell_type": "code",
      "metadata": {
        "id": "TMMJG5rQ-g_8",
        "colab_type": "code",
        "outputId": "39fa9ec4-2935-4717-e6d8-0b080d62b1e1",
        "colab": {
          "base_uri": "https://localhost:8080/",
          "height": 729
        }
      },
      "source": [
        "# Seaborn Pairplot\n",
        "\n",
        "sns.pairplot(df);"
      ],
      "execution_count": 0,
      "outputs": [
        {
          "output_type": "display_data",
          "data": {
            "image/png": "[encoded data removed]",
            "text/plain": [
              "<Figure size 720x720 with 20 Axes>"
            ]
          },
          "metadata": {
            "tags": []
          }
        }
      ]
    },
    {
      "cell_type": "code",
      "metadata": {
        "id": "diG-HJqnhhFD",
        "colab_type": "code",
        "outputId": "8e6b667e-385c-4b0e-9249-56c82cccacc4",
        "colab": {
          "base_uri": "https://localhost:8080/",
          "height": 153
        }
      },
      "source": [
        "df.isna().sum()"
      ],
      "execution_count": 0,
      "outputs": [
        {
          "output_type": "execute_result",
          "data": {
            "text/plain": [
              "country                          0\n",
              "beer_servings                    0\n",
              "spirit_servings                  0\n",
              "wine_servings                    0\n",
              "total_litres_of_pure_alcohol     0\n",
              "region                          26\n",
              "sub-region                      26\n",
              "dtype: int64"
            ]
          },
          "metadata": {
            "tags": []
          },
          "execution_count": 46
        }
      ]
    },
    {
      "cell_type": "markdown",
      "metadata": {
        "id": "ipBQKbrl76gE",
        "colab_type": "text"
      },
      "source": [
        "## Create the same basic Visualizations using Pandas"
      ]
    },
    {
      "cell_type": "code",
      "metadata": {
        "id": "Dyl6NQL6sPTF",
        "colab_type": "code",
        "outputId": "a7ee2ade-1488-498e-e20d-00df8c00a896",
        "colab": {
          "base_uri": "https://localhost:8080/",
          "height": 284
        }
      },
      "source": [
        "# Pandas Scatterplot\n",
        "\n",
        "df.plot.scatter('beer_servings', 'wine_servings')\n",
        "plt.show()"
      ],
      "execution_count": 0,
      "outputs": [
        {
          "output_type": "display_data",
          "data": {
            "image/png": "[encoded data removed]",
            "text/plain": [
              "<Figure size 432x288 with 1 Axes>"
            ]
          },
          "metadata": {
            "tags": []
          }
        }
      ]
    },
    {
      "cell_type": "code",
      "metadata": {
        "id": "qWIO8zuhArEr",
        "colab_type": "code",
        "outputId": "4723260c-b7df-4f2e-aa05-e83413af5b0e",
        "colab": {
          "base_uri": "https://localhost:8080/",
          "height": 269
        }
      },
      "source": [
        "# Pandas Histogram - Look familiar?\n",
        "\n",
        "df.total_litres_of_pure_alcohol.hist()\n",
        "plt.show()"
      ],
      "execution_count": 0,
      "outputs": [
        {
          "output_type": "display_data",
          "data": {
            "image/png": "[encoded data removed]",
            "text/plain": [
              "<Figure size 432x288 with 1 Axes>"
            ]
          },
          "metadata": {
            "tags": []
          }
        }
      ]
    },
    {
      "cell_type": "code",
      "metadata": {
        "id": "Pgb-tSLJueQw",
        "colab_type": "code",
        "outputId": "c13eed2f-9137-43d1-ffab-00ba4841f9c6",
        "colab": {
          "base_uri": "https://localhost:8080/",
          "height": 269
        }
      },
      "source": [
        "df.total_litres_of_pure_alcohol.hist(bins=20)\n",
        "plt.show()"
      ],
      "execution_count": 0,
      "outputs": [
        {
          "output_type": "display_data",
          "data": {
            "image/png": "[encoded data removed]",
            "text/plain": [
              "<Figure size 432x288 with 1 Axes>"
            ]
          },
          "metadata": {
            "tags": []
          }
        }
      ]
    },
    {
      "cell_type": "code",
      "metadata": {
        "id": "XjR5i6A5A-kp",
        "colab_type": "code",
        "outputId": "67293b48-e298-49cc-de48-5f22a57b903e",
        "colab": {
          "base_uri": "https://localhost:8080/",
          "height": 297
        }
      },
      "source": [
        "# Pandas Scatter Matrix - Usually doesn't look too great.\n",
        "\n",
        "pd.plotting.scatter_matrix(df);"
      ],
      "execution_count": 0,
      "outputs": [
        {
          "output_type": "display_data",
          "data": {
            "image/png": "[encoded data removed]",
            "text/plain": [
              "<Figure size 432x288 with 16 Axes>"
            ]
          },
          "metadata": {
            "tags": []
          }
        }
      ]
    },
    {
      "cell_type": "markdown",
      "metadata": {
        "id": "tmJSfyXJ1x6f",
        "colab_type": "text"
      },
      "source": [
        "# Part 3 - Deal with Missing Values"
      ]
    },
    {
      "cell_type": "markdown",
      "metadata": {
        "id": "bH46YMHEDzpD",
        "colab_type": "text"
      },
      "source": [
        "## Diagnose Missing Values\n",
        "\n",
        "Lets use the Adult Dataset from UCI. <https://github.com/ryanleeallred/datasets>"
      ]
    },
    {
      "cell_type": "code",
      "metadata": {
        "id": "NyeZPpxRD1BA",
        "colab_type": "code",
        "outputId": "1cfb2e0c-2b4c-45ff-8add-aed0e1f2f45a",
        "colab": {
          "base_uri": "https://localhost:8080/",
          "height": 170
        }
      },
      "source": [
        "df = pd.read_csv('https://raw.githubusercontent.com/ryanleeallred/datasets/master/adult.csv')\n",
        "\n",
        "print(df.shape)\n",
        "\n",
        "print(df.head())"
      ],
      "execution_count": 0,
      "outputs": [
        {
          "output_type": "stream",
          "text": [
            "(32561, 15)\n",
            "   age          workclass  fnlwgt  ... hours-per-week         country  salary\n",
            "0   39          State-gov   77516  ...             40   United-States   <=50K\n",
            "1   50   Self-emp-not-inc   83311  ...             13   United-States   <=50K\n",
            "2   38            Private  215646  ...             40   United-States   <=50K\n",
            "3   53            Private  234721  ...             40   United-States   <=50K\n",
            "4   28            Private  338409  ...             40            Cuba   <=50K\n",
            "\n",
            "[5 rows x 15 columns]\n"
          ],
          "name": "stdout"
        }
      ]
    },
    {
      "cell_type": "code",
      "metadata": {
        "id": "s6SpfJpdjqDj",
        "colab_type": "code",
        "outputId": "d7c7bec8-8b11-4e1b-8467-aa9f2d1d0859",
        "colab": {
          "base_uri": "https://localhost:8080/",
          "height": 289
        }
      },
      "source": [
        "df.isna().sum()"
      ],
      "execution_count": 0,
      "outputs": [
        {
          "output_type": "execute_result",
          "data": {
            "text/plain": [
              "age               0\n",
              "workclass         0\n",
              "fnlwgt            0\n",
              "education         0\n",
              "education-num     0\n",
              "marital-status    0\n",
              "occupation        0\n",
              "relationship      0\n",
              "race              0\n",
              "sex               0\n",
              "capital-gain      0\n",
              "capital-loss      0\n",
              "hours-per-week    0\n",
              "country           0\n",
              "salary            0\n",
              "dtype: int64"
            ]
          },
          "metadata": {
            "tags": []
          },
          "execution_count": 52
        }
      ]
    },
    {
      "cell_type": "code",
      "metadata": {
        "id": "SsnMeSS_j0qu",
        "colab_type": "code",
        "outputId": "e9fc19e1-26f4-4212-d740-1b4178347c6b",
        "colab": {
          "base_uri": "https://localhost:8080/",
          "height": 748
        }
      },
      "source": [
        "df.country.value_counts()"
      ],
      "execution_count": 0,
      "outputs": [
        {
          "output_type": "execute_result",
          "data": {
            "text/plain": [
              " United-States                 29170\n",
              " Mexico                          643\n",
              " ?                               583\n",
              " Philippines                     198\n",
              " Germany                         137\n",
              " Canada                          121\n",
              " Puerto-Rico                     114\n",
              " El-Salvador                     106\n",
              " India                           100\n",
              " Cuba                             95\n",
              " England                          90\n",
              " Jamaica                          81\n",
              " South                            80\n",
              " China                            75\n",
              " Italy                            73\n",
              " Dominican-Republic               70\n",
              " Vietnam                          67\n",
              " Guatemala                        64\n",
              " Japan                            62\n",
              " Poland                           60\n",
              " Columbia                         59\n",
              " Taiwan                           51\n",
              " Haiti                            44\n",
              " Iran                             43\n",
              " Portugal                         37\n",
              " Nicaragua                        34\n",
              " Peru                             31\n",
              " France                           29\n",
              " Greece                           29\n",
              " Ecuador                          28\n",
              " Ireland                          24\n",
              " Hong                             20\n",
              " Trinadad&Tobago                  19\n",
              " Cambodia                         19\n",
              " Laos                             18\n",
              " Thailand                         18\n",
              " Yugoslavia                       16\n",
              " Outlying-US(Guam-USVI-etc)       14\n",
              " Honduras                         13\n",
              " Hungary                          13\n",
              " Scotland                         12\n",
              " Holand-Netherlands                1\n",
              "Name: country, dtype: int64"
            ]
          },
          "metadata": {
            "tags": []
          },
          "execution_count": 53
        }
      ]
    },
    {
      "cell_type": "code",
      "metadata": {
        "id": "QWxBN1EWlC6x",
        "colab_type": "code",
        "outputId": "6d2ab9df-d55c-409f-b7d9-ae5af9353216",
        "colab": {
          "base_uri": "https://localhost:8080/",
          "height": 170
        }
      },
      "source": [
        "df.country.unique()"
      ],
      "execution_count": 0,
      "outputs": [
        {
          "output_type": "execute_result",
          "data": {
            "text/plain": [
              "array([' United-States', ' Cuba', ' Jamaica', ' India', ' ?', ' Mexico',\n",
              "       ' South', ' Puerto-Rico', ' Honduras', ' England', ' Canada',\n",
              "       ' Germany', ' Iran', ' Philippines', ' Italy', ' Poland',\n",
              "       ' Columbia', ' Cambodia', ' Thailand', ' Ecuador', ' Laos',\n",
              "       ' Taiwan', ' Haiti', ' Portugal', ' Dominican-Republic',\n",
              "       ' El-Salvador', ' France', ' Guatemala', ' China', ' Japan',\n",
              "       ' Yugoslavia', ' Peru', ' Outlying-US(Guam-USVI-etc)', ' Scotland',\n",
              "       ' Trinadad&Tobago', ' Greece', ' Nicaragua', ' Vietnam', ' Hong',\n",
              "       ' Ireland', ' Hungary', ' Holand-Netherlands'], dtype=object)"
            ]
          },
          "metadata": {
            "tags": []
          },
          "execution_count": 54
        }
      ]
    },
    {
      "cell_type": "code",
      "metadata": {
        "id": "16OQ4_vAk21q",
        "colab_type": "code",
        "outputId": "598a599d-e9c4-48be-bd2c-db5868abbe13",
        "colab": {
          "base_uri": "https://localhost:8080/",
          "height": 170
        }
      },
      "source": [
        "df = pd.read_csv('https://raw.githubusercontent.com/ryanleeallred/datasets/master/adult.csv', na_values = ' ?')\n",
        "\n",
        "print(df.shape)\n",
        "\n",
        "print(df.head())"
      ],
      "execution_count": 0,
      "outputs": [
        {
          "output_type": "stream",
          "text": [
            "(32561, 15)\n",
            "   age          workclass  fnlwgt  ... hours-per-week         country  salary\n",
            "0   39          State-gov   77516  ...             40   United-States   <=50K\n",
            "1   50   Self-emp-not-inc   83311  ...             13   United-States   <=50K\n",
            "2   38            Private  215646  ...             40   United-States   <=50K\n",
            "3   53            Private  234721  ...             40   United-States   <=50K\n",
            "4   28            Private  338409  ...             40            Cuba   <=50K\n",
            "\n",
            "[5 rows x 15 columns]\n"
          ],
          "name": "stdout"
        }
      ]
    },
    {
      "cell_type": "code",
      "metadata": {
        "id": "ZFFcKU-0lOkd",
        "colab_type": "code",
        "outputId": "37309b3e-c618-4b4f-9c78-0b1905d60892",
        "colab": {
          "base_uri": "https://localhost:8080/",
          "height": 289
        }
      },
      "source": [
        "df.isna().sum()"
      ],
      "execution_count": 0,
      "outputs": [
        {
          "output_type": "execute_result",
          "data": {
            "text/plain": [
              "age                  0\n",
              "workclass         1836\n",
              "fnlwgt               0\n",
              "education            0\n",
              "education-num        0\n",
              "marital-status       0\n",
              "occupation        1843\n",
              "relationship         0\n",
              "race                 0\n",
              "sex                  0\n",
              "capital-gain         0\n",
              "capital-loss         0\n",
              "hours-per-week       0\n",
              "country            583\n",
              "salary               0\n",
              "dtype: int64"
            ]
          },
          "metadata": {
            "tags": []
          },
          "execution_count": 56
        }
      ]
    },
    {
      "cell_type": "code",
      "metadata": {
        "id": "TQBibgLalVY9",
        "colab_type": "code",
        "outputId": "4ce43142-4349-48ec-a8e4-5a5f830931c4",
        "colab": {
          "base_uri": "https://localhost:8080/",
          "height": 731
        }
      },
      "source": [
        "df.country.value_counts()"
      ],
      "execution_count": 0,
      "outputs": [
        {
          "output_type": "execute_result",
          "data": {
            "text/plain": [
              " United-States                 29170\n",
              " Mexico                          643\n",
              " Philippines                     198\n",
              " Germany                         137\n",
              " Canada                          121\n",
              " Puerto-Rico                     114\n",
              " El-Salvador                     106\n",
              " India                           100\n",
              " Cuba                             95\n",
              " England                          90\n",
              " Jamaica                          81\n",
              " South                            80\n",
              " China                            75\n",
              " Italy                            73\n",
              " Dominican-Republic               70\n",
              " Vietnam                          67\n",
              " Guatemala                        64\n",
              " Japan                            62\n",
              " Poland                           60\n",
              " Columbia                         59\n",
              " Taiwan                           51\n",
              " Haiti                            44\n",
              " Iran                             43\n",
              " Portugal                         37\n",
              " Nicaragua                        34\n",
              " Peru                             31\n",
              " France                           29\n",
              " Greece                           29\n",
              " Ecuador                          28\n",
              " Ireland                          24\n",
              " Hong                             20\n",
              " Trinadad&Tobago                  19\n",
              " Cambodia                         19\n",
              " Laos                             18\n",
              " Thailand                         18\n",
              " Yugoslavia                       16\n",
              " Outlying-US(Guam-USVI-etc)       14\n",
              " Honduras                         13\n",
              " Hungary                          13\n",
              " Scotland                         12\n",
              " Holand-Netherlands                1\n",
              "Name: country, dtype: int64"
            ]
          },
          "metadata": {
            "tags": []
          },
          "execution_count": 57
        }
      ]
    },
    {
      "cell_type": "code",
      "metadata": {
        "id": "bXEBwJYCmBeZ",
        "colab_type": "code",
        "outputId": "62d131cd-bc1b-4001-dfcc-88e898ace103",
        "colab": {
          "base_uri": "https://localhost:8080/",
          "height": 34
        }
      },
      "source": [
        "df.dropna(inplace = True)\n",
        "\n",
        "df.shape"
      ],
      "execution_count": 0,
      "outputs": [
        {
          "output_type": "execute_result",
          "data": {
            "text/plain": [
              "(30162, 15)"
            ]
          },
          "metadata": {
            "tags": []
          },
          "execution_count": 58
        }
      ]
    },
    {
      "cell_type": "code",
      "metadata": {
        "id": "3_rMfNE3nUhJ",
        "colab_type": "code",
        "outputId": "0492d4ba-c62a-469a-b54b-fde692aaa106",
        "colab": {
          "base_uri": "https://localhost:8080/",
          "height": 34
        }
      },
      "source": [
        "df.dropna(subset=['country'], inplace=True)\n",
        "df.shape"
      ],
      "execution_count": 0,
      "outputs": [
        {
          "output_type": "execute_result",
          "data": {
            "text/plain": [
              "(30162, 15)"
            ]
          },
          "metadata": {
            "tags": []
          },
          "execution_count": 59
        }
      ]
    },
    {
      "cell_type": "code",
      "metadata": {
        "id": "4EtDPTI3ls8M",
        "colab_type": "code",
        "outputId": "fa558a45-1e78-4def-b8a7-a191e37acd8e",
        "colab": {
          "base_uri": "https://localhost:8080/",
          "height": 170
        }
      },
      "source": [
        "df = pd.read_csv('https://raw.githubusercontent.com/ryanleeallred/datasets/master/adult.csv', na_values = ' Bachelors')\n",
        "\n",
        "print(df.shape)\n",
        "\n",
        "print(df.head())"
      ],
      "execution_count": 0,
      "outputs": [
        {
          "output_type": "stream",
          "text": [
            "(32561, 15)\n",
            "   age          workclass  fnlwgt  ... hours-per-week         country  salary\n",
            "0   39          State-gov   77516  ...             40   United-States   <=50K\n",
            "1   50   Self-emp-not-inc   83311  ...             13   United-States   <=50K\n",
            "2   38            Private  215646  ...             40   United-States   <=50K\n",
            "3   53            Private  234721  ...             40   United-States   <=50K\n",
            "4   28            Private  338409  ...             40            Cuba   <=50K\n",
            "\n",
            "[5 rows x 15 columns]\n"
          ],
          "name": "stdout"
        }
      ]
    },
    {
      "cell_type": "code",
      "metadata": {
        "id": "w2sMRdbil3hR",
        "colab_type": "code",
        "outputId": "e2155b84-21d2-4aad-bc6f-9b597b50783b",
        "colab": {
          "base_uri": "https://localhost:8080/",
          "height": 289
        }
      },
      "source": [
        "df.isna().sum()"
      ],
      "execution_count": 0,
      "outputs": [
        {
          "output_type": "execute_result",
          "data": {
            "text/plain": [
              "age                  0\n",
              "workclass            0\n",
              "fnlwgt               0\n",
              "education         5355\n",
              "education-num        0\n",
              "marital-status       0\n",
              "occupation           0\n",
              "relationship         0\n",
              "race                 0\n",
              "sex                  0\n",
              "capital-gain         0\n",
              "capital-loss         0\n",
              "hours-per-week       0\n",
              "country              0\n",
              "salary               0\n",
              "dtype: int64"
            ]
          },
          "metadata": {
            "tags": []
          },
          "execution_count": 61
        }
      ]
    },
    {
      "cell_type": "markdown",
      "metadata": {
        "id": "SYK5vXqt7zp1",
        "colab_type": "text"
      },
      "source": [
        "## Fill Missing Values"
      ]
    },
    {
      "cell_type": "code",
      "metadata": {
        "id": "5ziT1p6xon6q",
        "colab_type": "code",
        "outputId": "f1324bfd-5de7-4e8b-9d0b-fed6494fb03f",
        "colab": {
          "base_uri": "https://localhost:8080/",
          "height": 289
        }
      },
      "source": [
        "df.mode().iloc[0]"
      ],
      "execution_count": 0,
      "outputs": [
        {
          "output_type": "execute_result",
          "data": {
            "text/plain": [
              "age                                36\n",
              "workclass                     Private\n",
              "fnlwgt                         123011\n",
              "education                     HS-grad\n",
              "education-num                       9\n",
              "marital-status     Married-civ-spouse\n",
              "occupation             Prof-specialty\n",
              "relationship                  Husband\n",
              "race                            White\n",
              "sex                              Male\n",
              "capital-gain                        0\n",
              "capital-loss                        0\n",
              "hours-per-week                     40\n",
              "country                 United-States\n",
              "salary                          <=50K\n",
              "Name: 0, dtype: object"
            ]
          },
          "metadata": {
            "tags": []
          },
          "execution_count": 62
        }
      ]
    },
    {
      "cell_type": "code",
      "metadata": {
        "id": "32ltklnQ71A6",
        "colab_type": "code",
        "outputId": "f8495116-6fd9-4864-be54-c333a8cc6271",
        "colab": {
          "base_uri": "https://localhost:8080/",
          "height": 289
        }
      },
      "source": [
        "df = df.fillna(df.mode().iloc[0])\n",
        "\n",
        "df.isna().sum()"
      ],
      "execution_count": 0,
      "outputs": [
        {
          "output_type": "execute_result",
          "data": {
            "text/plain": [
              "age               0\n",
              "workclass         0\n",
              "fnlwgt            0\n",
              "education         0\n",
              "education-num     0\n",
              "marital-status    0\n",
              "occupation        0\n",
              "relationship      0\n",
              "race              0\n",
              "sex               0\n",
              "capital-gain      0\n",
              "capital-loss      0\n",
              "hours-per-week    0\n",
              "country           0\n",
              "salary            0\n",
              "dtype: int64"
            ]
          },
          "metadata": {
            "tags": []
          },
          "execution_count": 63
        }
      ]
    },
    {
      "cell_type": "markdown",
      "metadata": {
        "id": "nPbUK_cLY15U",
        "colab_type": "text"
      },
      "source": [
        "## Your assignment - pick a dataset and do something like the above\n",
        "\n",
        "This is purposely open-ended - you can pick any data set you wish. It is highly advised you pick a dataset from UCI or a similar semi-clean source. You don't want the data that you're working with for this assignment to have any bigger issues than maybe not having headers or including missing values, etc.\n",
        "\n",
        "After you have chosen your dataset, do the following:\n",
        "\n",
        "- Import the dataset using the method that you are least comfortable with (!curl or CSV upload).\n",
        " - Make sure that your dataset has the number of rows and columns that you expect.\n",
        " - Make sure that your dataset has appropriate column names, rename them if necessary.\n",
        " - If your dataset uses markers like \"?\" to indicate missing values, replace them with NaNs during import.\n",
        "- Identify and fill missing values in your dataset (if any)\n",
        " - Don't worry about using methods more advanced than the `.fillna()` function for today.\n",
        "- Create one of each of the following plots using your dataset\n",
        " - Scatterplot\n",
        " - Histogram\n",
        " - Density Plot\n",
        " - Pairplot (note that pairplots will take a long time to load with large datasets or datasets with many columns)\n",
        "\n",
        "If you get that done and want to try more challenging or exotic things, go for it! Use documentation as illustrated above, and follow the 20-minute rule (that is - ask for help if you're stuck!).\n",
        "\n",
        "If you have loaded a few traditional datasets, see the following section for suggested stretch goals."
      ]
    },
    {
      "cell_type": "code",
      "metadata": {
        "id": "NJdISe69ZT7E",
        "colab_type": "code",
        "colab": {}
      },
      "source": [
        "# TODO your work here!\n",
        "# And note you should write comments, descriptions, and add new\n",
        "# code and text blocks as needed"
      ],
      "execution_count": 0,
      "outputs": []
    },
    {
      "cell_type": "markdown",
      "metadata": {
        "id": "6DXhTTRKZ6Uq",
        "colab_type": "text"
      },
      "source": [
        "## Imports needed for assignment:"
      ]
    },
    {
      "cell_type": "code",
      "metadata": {
        "id": "BQMpw2xzRMs7",
        "colab_type": "code",
        "colab": {}
      },
      "source": [
        "import numpy as np "
      ],
      "execution_count": 0,
      "outputs": []
    },
    {
      "cell_type": "code",
      "metadata": {
        "id": "Z5uXOEGMRP4Y",
        "colab_type": "code",
        "colab": {}
      },
      "source": [
        "import pandas as pd "
      ],
      "execution_count": 0,
      "outputs": []
    },
    {
      "cell_type": "code",
      "metadata": {
        "id": "CmoKEn9aRSHh",
        "colab_type": "code",
        "colab": {}
      },
      "source": [
        "import matplotlib.pyplot as plt "
      ],
      "execution_count": 0,
      "outputs": []
    },
    {
      "cell_type": "code",
      "metadata": {
        "id": "850k1uGbRXlB",
        "colab_type": "code",
        "colab": {}
      },
      "source": [
        "import seaborn as sns "
      ],
      "execution_count": 0,
      "outputs": []
    },
    {
      "cell_type": "markdown",
      "metadata": {
        "id": "N_SuM_FDaJsw",
        "colab_type": "text"
      },
      "source": [
        "## Reading in CSV file:"
      ]
    },
    {
      "cell_type": "markdown",
      "metadata": {
        "id": "5_Qv5H96giUc",
        "colab_type": "text"
      },
      "source": [
        "### CSV file obtained from this website:\n",
        "https://fivethirtyeight.com/features/which-democratic-presidential-candidate-was-mentioned-most-in-the-news-last-week-3/"
      ]
    },
    {
      "cell_type": "code",
      "metadata": {
        "id": "7omPCy7hRtYU",
        "colab_type": "code",
        "outputId": "10419883-2467-4081-c4a1-e9df72dfd68a",
        "colab": {
          "base_uri": "https://localhost:8080/",
          "height": 170
        }
      },
      "source": [
        "# reading file in using .read_csv methods from pandas \n",
        "presidential_data = pd.read_csv('https://raw.githubusercontent.com/fivethirtyeight/data/master/media-mentions-2020/cable_weekly.csv') \n",
        "\n",
        "# head.() contains all columns and 5 rows for previewing purposes \n",
        "print(presidential_data.head())\n",
        "\n",
        "# shape of the dataframe \n",
        "presidential_data.shape"
      ],
      "execution_count": 0,
      "outputs": [
        {
          "output_type": "stream",
          "text": [
            "         date  ...                                              query\n",
            "0  2018-12-30  ...  (\"John Delaney\") (station:MSNBC OR station:CNN...\n",
            "1  2019-01-06  ...  (\"John Delaney\") (station:MSNBC OR station:CNN...\n",
            "2  2019-01-13  ...  (\"John Delaney\") (station:MSNBC OR station:CNN...\n",
            "3  2019-01-20  ...  (\"John Delaney\") (station:MSNBC OR station:CNN...\n",
            "4  2019-01-27  ...  (\"John Delaney\") (station:MSNBC OR station:CNN...\n",
            "\n",
            "[5 rows x 7 columns]\n"
          ],
          "name": "stdout"
        },
        {
          "output_type": "execute_result",
          "data": {
            "text/plain": [
              "(672, 7)"
            ]
          },
          "metadata": {
            "tags": []
          },
          "execution_count": 71
        }
      ]
    },
    {
      "cell_type": "code",
      "metadata": {
        "id": "fFRDFfeoSUfo",
        "colab_type": "code",
        "outputId": "b23b1810-efa0-4575-c695-3e11e73e5b86",
        "colab": {
          "base_uri": "https://localhost:8080/",
          "height": 68
        }
      },
      "source": [
        "# retrieve all columns from the dataframe \n",
        "presidential_data.columns"
      ],
      "execution_count": 0,
      "outputs": [
        {
          "output_type": "execute_result",
          "data": {
            "text/plain": [
              "Index(['date', 'name', 'matched_clips', 'all_candidate_clips', 'total_clips',\n",
              "       'pct_of_all_candidate_clips', 'query'],\n",
              "      dtype='object')"
            ]
          },
          "metadata": {
            "tags": []
          },
          "execution_count": 72
        }
      ]
    },
    {
      "cell_type": "code",
      "metadata": {
        "id": "1FuoLDhHSa8w",
        "colab_type": "code",
        "outputId": "d9d3f743-7def-4b83-8823-8282a71979ed",
        "colab": {
          "base_uri": "https://localhost:8080/",
          "height": 153
        }
      },
      "source": [
        "# counts the number of valid rows for each column \n",
        "presidential_data.count()"
      ],
      "execution_count": 0,
      "outputs": [
        {
          "output_type": "execute_result",
          "data": {
            "text/plain": [
              "date                          672\n",
              "name                          672\n",
              "matched_clips                 672\n",
              "all_candidate_clips           672\n",
              "total_clips                   672\n",
              "pct_of_all_candidate_clips    672\n",
              "query                         672\n",
              "dtype: int64"
            ]
          },
          "metadata": {
            "tags": []
          },
          "execution_count": 74
        }
      ]
    },
    {
      "cell_type": "code",
      "metadata": {
        "id": "tyr42rksSm2y",
        "colab_type": "code",
        "outputId": "942ff11c-cb5f-42f1-ea89-0c022d65022f",
        "colab": {
          "base_uri": "https://localhost:8080/",
          "height": 1000
        }
      },
      "source": [
        "# reading CSV in using !culr method\n",
        "# used to show the whole file within the notebook \n",
        "!curl https://raw.githubusercontent.com/fivethirtyeight/data/master/media-mentions-2020/cable_weekly.csv"
      ],
      "execution_count": 0,
      "outputs": [
        {
          "output_type": "stream",
          "text": [
            "date,name,matched_clips,all_candidate_clips,total_clips,pct_of_all_candidate_clips,query\n",
            "2018-12-30,John Delaney,5,1268,76029,0.003943217665615143,\"(\"\"John Delaney\"\") (station:MSNBC OR station:CNN OR station:FOXNEWS)\"\n",
            "2019-01-06,John Delaney,2,1021,82964,0.0019588638589618022,\"(\"\"John Delaney\"\") (station:MSNBC OR station:CNN OR station:FOXNEWS)\"\n",
            "2019-01-13,John Delaney,5,613,82521,0.008156606851549755,\"(\"\"John Delaney\"\") (station:MSNBC OR station:CNN OR station:FOXNEWS)\"\n",
            "2019-01-20,John Delaney,2,991,83649,0.00201816347124117,\"(\"\"John Delaney\"\") (station:MSNBC OR station:CNN OR station:FOXNEWS)\"\n",
            "2019-01-27,John Delaney,3,1908,80994,0.0015723270440251573,\"(\"\"John Delaney\"\") (station:MSNBC OR station:CNN OR station:FOXNEWS)\"\n",
            "2019-02-03,John Delaney,1,1449,79183,0.0006901311249137336,\"(\"\"John Delaney\"\") (station:MSNBC OR station:CNN OR station:FOXNEWS)\"\n",
            "2019-02-10,John Delaney,8,1913,81893,0.004181913225300575,\"(\"\"John Delaney\"\") (station:MSNBC OR station:CNN OR station:FOXNEWS)\"\n",
            "2019-02-17,John Delaney,6,2416,82454,0.002483443708609272,\"(\"\"John Delaney\"\") (station:MSNBC OR station:CNN OR station:FOXNEWS)\"\n",
            "2019-02-24,John Delaney,3,1529,82804,0.0019620667102681487,\"(\"\"John Delaney\"\") (station:MSNBC OR station:CNN OR station:FOXNEWS)\"\n",
            "2019-03-03,John Delaney,19,1567,81321,0.012125079770261648,\"(\"\"John Delaney\"\") (station:MSNBC OR station:CNN OR station:FOXNEWS)\"\n",
            "2019-03-10,John Delaney,27,2418,85812,0.011166253101736972,\"(\"\"John Delaney\"\") (station:MSNBC OR station:CNN OR station:FOXNEWS)\"\n",
            "2019-03-17,John Delaney,26,3173,95383,0.008194138039710053,\"(\"\"John Delaney\"\") (station:MSNBC OR station:CNN OR station:FOXNEWS)\"\n",
            "2019-03-24,John Delaney,14,1243,96184,0.011263073209975863,\"(\"\"John Delaney\"\") (station:MSNBC OR station:CNN OR station:FOXNEWS)\"\n",
            "2019-03-31,John Delaney,19,4205,93472,0.0045184304399524386,\"(\"\"John Delaney\"\") (station:MSNBC OR station:CNN OR station:FOXNEWS)\"\n",
            "2019-04-07,John Delaney,7,2329,94405,0.0030055817947617003,\"(\"\"John Delaney\"\") (station:MSNBC OR station:CNN OR station:FOXNEWS)\"\n",
            "2019-04-14,John Delaney,9,2598,95286,0.003464203233256351,\"(\"\"John Delaney\"\") (station:MSNBC OR station:CNN OR station:FOXNEWS)\"\n",
            "2019-04-21,John Delaney,12,5716,94002,0.0020993701889433173,\"(\"\"John Delaney\"\") (station:MSNBC OR station:CNN OR station:FOXNEWS)\"\n",
            "2019-04-28,John Delaney,16,3942,95339,0.004058853373921867,\"(\"\"John Delaney\"\") (station:MSNBC OR station:CNN OR station:FOXNEWS)\"\n",
            "2019-05-05,John Delaney,4,2747,94528,0.0014561339643247178,\"(\"\"John Delaney\"\") (station:MSNBC OR station:CNN OR station:FOXNEWS)\"\n",
            "2019-05-12,John Delaney,2,3688,94318,0.0005422993492407808,\"(\"\"John Delaney\"\") (station:MSNBC OR station:CNN OR station:FOXNEWS)\"\n",
            "2019-05-19,John Delaney,13,2644,94883,0.004916792738275341,\"(\"\"John Delaney\"\") (station:MSNBC OR station:CNN OR station:FOXNEWS)\"\n",
            "2019-05-26,John Delaney,13,3042,95289,0.004273504273504274,\"(\"\"John Delaney\"\") (station:MSNBC OR station:CNN OR station:FOXNEWS)\"\n",
            "2019-06-02,John Delaney,45,3099,95313,0.014520813165537268,\"(\"\"John Delaney\"\") (station:MSNBC OR station:CNN OR station:FOXNEWS)\"\n",
            "2019-06-09,John Delaney,30,4776,95839,0.00628140703517588,\"(\"\"John Delaney\"\") (station:MSNBC OR station:CNN OR station:FOXNEWS)\"\n",
            "2019-06-16,John Delaney,15,4478,96026,0.0033497096918267085,\"(\"\"John Delaney\"\") (station:MSNBC OR station:CNN OR station:FOXNEWS)\"\n",
            "2019-06-23,John Delaney,105,7316,96553,0.014352104975396391,\"(\"\"John Delaney\"\") (station:MSNBC OR station:CNN OR station:FOXNEWS)\"\n",
            "2019-06-30,John Delaney,13,4380,92126,0.002968036529680365,\"(\"\"John Delaney\"\") (station:MSNBC OR station:CNN OR station:FOXNEWS)\"\n",
            "2019-07-07,John Delaney,7,2934,94299,0.0023858214042263124,\"(\"\"John Delaney\"\") (station:MSNBC OR station:CNN OR station:FOXNEWS)\"\n",
            "2018-12-30,Andrew Yang,0,1268,76029,0.0,\"(\"\"Andrew Yang\"\") (station:MSNBC OR station:CNN OR station:FOXNEWS)\"\n",
            "2019-01-06,Andrew Yang,0,1021,82964,0.0,\"(\"\"Andrew Yang\"\") (station:MSNBC OR station:CNN OR station:FOXNEWS)\"\n",
            "2019-01-13,Andrew Yang,0,613,82521,0.0,\"(\"\"Andrew Yang\"\") (station:MSNBC OR station:CNN OR station:FOXNEWS)\"\n",
            "2019-01-20,Andrew Yang,1,991,83649,0.001009081735620585,\"(\"\"Andrew Yang\"\") (station:MSNBC OR station:CNN OR station:FOXNEWS)\"\n",
            "2019-01-27,Andrew Yang,3,1908,80994,0.0015723270440251573,\"(\"\"Andrew Yang\"\") (station:MSNBC OR station:CNN OR station:FOXNEWS)\"\n",
            "2019-02-03,Andrew Yang,0,1449,79183,0.0,\"(\"\"Andrew Yang\"\") (station:MSNBC OR station:CNN OR station:FOXNEWS)\"\n",
            "2019-02-10,Andrew Yang,3,1913,81893,0.0015682174594877155,\"(\"\"Andrew Yang\"\") (station:MSNBC OR station:CNN OR station:FOXNEWS)\"\n",
            "2019-02-17,Andrew Yang,6,2416,82454,0.002483443708609272,\"(\"\"Andrew Yang\"\") (station:MSNBC OR station:CNN OR station:FOXNEWS)\"\n",
            "2019-02-24,Andrew Yang,3,1529,82804,0.0019620667102681487,\"(\"\"Andrew Yang\"\") (station:MSNBC OR station:CNN OR station:FOXNEWS)\"\n",
            "2019-03-03,Andrew Yang,5,1567,81321,0.003190810465858328,\"(\"\"Andrew Yang\"\") (station:MSNBC OR station:CNN OR station:FOXNEWS)\"\n",
            "2019-03-10,Andrew Yang,2,2418,85812,0.0008271298593879238,\"(\"\"Andrew Yang\"\") (station:MSNBC OR station:CNN OR station:FOXNEWS)\"\n",
            "2019-03-17,Andrew Yang,13,3173,95383,0.0040970690198550265,\"(\"\"Andrew Yang\"\") (station:MSNBC OR station:CNN OR station:FOXNEWS)\"\n",
            "2019-03-24,Andrew Yang,4,1243,96184,0.0032180209171359607,\"(\"\"Andrew Yang\"\") (station:MSNBC OR station:CNN OR station:FOXNEWS)\"\n",
            "2019-03-31,Andrew Yang,32,4205,93472,0.00760998810939358,\"(\"\"Andrew Yang\"\") (station:MSNBC OR station:CNN OR station:FOXNEWS)\"\n",
            "2019-04-07,Andrew Yang,21,2329,94405,0.009016745384285102,\"(\"\"Andrew Yang\"\") (station:MSNBC OR station:CNN OR station:FOXNEWS)\"\n",
            "2019-04-14,Andrew Yang,39,2598,95286,0.015011547344110853,\"(\"\"Andrew Yang\"\") (station:MSNBC OR station:CNN OR station:FOXNEWS)\"\n",
            "2019-04-21,Andrew Yang,18,5716,94002,0.0031490552834149755,\"(\"\"Andrew Yang\"\") (station:MSNBC OR station:CNN OR station:FOXNEWS)\"\n",
            "2019-04-28,Andrew Yang,10,3942,95339,0.002536783358701167,\"(\"\"Andrew Yang\"\") (station:MSNBC OR station:CNN OR station:FOXNEWS)\"\n",
            "2019-05-05,Andrew Yang,20,2747,94528,0.007280669821623589,\"(\"\"Andrew Yang\"\") (station:MSNBC OR station:CNN OR station:FOXNEWS)\"\n",
            "2019-05-12,Andrew Yang,11,3688,94318,0.002982646420824295,\"(\"\"Andrew Yang\"\") (station:MSNBC OR station:CNN OR station:FOXNEWS)\"\n",
            "2019-05-19,Andrew Yang,13,2644,94883,0.004916792738275341,\"(\"\"Andrew Yang\"\") (station:MSNBC OR station:CNN OR station:FOXNEWS)\"\n",
            "2019-05-26,Andrew Yang,10,3042,95289,0.003287310979618672,\"(\"\"Andrew Yang\"\") (station:MSNBC OR station:CNN OR station:FOXNEWS)\"\n",
            "2019-06-02,Andrew Yang,5,3099,95313,0.0016134236850596966,\"(\"\"Andrew Yang\"\") (station:MSNBC OR station:CNN OR station:FOXNEWS)\"\n",
            "2019-06-09,Andrew Yang,42,4776,95839,0.008793969849246231,\"(\"\"Andrew Yang\"\") (station:MSNBC OR station:CNN OR station:FOXNEWS)\"\n",
            "2019-06-16,Andrew Yang,47,4478,96026,0.010495757034390351,\"(\"\"Andrew Yang\"\") (station:MSNBC OR station:CNN OR station:FOXNEWS)\"\n",
            "2019-06-23,Andrew Yang,67,7316,96553,0.009158009841443413,\"(\"\"Andrew Yang\"\") (station:MSNBC OR station:CNN OR station:FOXNEWS)\"\n",
            "2019-06-30,Andrew Yang,20,4380,92126,0.0045662100456621,\"(\"\"Andrew Yang\"\") (station:MSNBC OR station:CNN OR station:FOXNEWS)\"\n",
            "2019-07-07,Andrew Yang,18,2934,94299,0.006134969325153374,\"(\"\"Andrew Yang\"\") (station:MSNBC OR station:CNN OR station:FOXNEWS)\"\n",
            "2018-12-30,Beto O'Rourke,101,1268,76029,0.07965299684542587,\"(\"\"Beto O'Rourke\"\") (station:MSNBC OR station:CNN OR station:FOXNEWS)\"\n",
            "2019-01-06,Beto O'Rourke,127,1021,82964,0.12438785504407444,\"(\"\"Beto O'Rourke\"\") (station:MSNBC OR station:CNN OR station:FOXNEWS)\"\n",
            "2019-01-13,Beto O'Rourke,78,613,82521,0.1272430668841762,\"(\"\"Beto O'Rourke\"\") (station:MSNBC OR station:CNN OR station:FOXNEWS)\"\n",
            "2019-01-20,Beto O'Rourke,27,991,83649,0.027245206861755803,\"(\"\"Beto O'Rourke\"\") (station:MSNBC OR station:CNN OR station:FOXNEWS)\"\n",
            "2019-01-27,Beto O'Rourke,28,1908,80994,0.014675052410901468,\"(\"\"Beto O'Rourke\"\") (station:MSNBC OR station:CNN OR station:FOXNEWS)\"\n",
            "2019-02-03,Beto O'Rourke,82,1449,79183,0.05659075224292615,\"(\"\"Beto O'Rourke\"\") (station:MSNBC OR station:CNN OR station:FOXNEWS)\"\n",
            "2019-02-10,Beto O'Rourke,418,1913,81893,0.21850496602195504,\"(\"\"Beto O'Rourke\"\") (station:MSNBC OR station:CNN OR station:FOXNEWS)\"\n",
            "2019-02-17,Beto O'Rourke,102,2416,82454,0.042218543046357616,\"(\"\"Beto O'Rourke\"\") (station:MSNBC OR station:CNN OR station:FOXNEWS)\"\n",
            "2019-02-24,Beto O'Rourke,78,1529,82804,0.05101373446697188,\"(\"\"Beto O'Rourke\"\") (station:MSNBC OR station:CNN OR station:FOXNEWS)\"\n",
            "2019-03-03,Beto O'Rourke,76,1567,81321,0.04850031908104658,\"(\"\"Beto O'Rourke\"\") (station:MSNBC OR station:CNN OR station:FOXNEWS)\"\n",
            "2019-03-10,Beto O'Rourke,870,2418,85812,0.3598014888337469,\"(\"\"Beto O'Rourke\"\") (station:MSNBC OR station:CNN OR station:FOXNEWS)\"\n",
            "2019-03-17,Beto O'Rourke,870,3173,95383,0.2741884651749133,\"(\"\"Beto O'Rourke\"\") (station:MSNBC OR station:CNN OR station:FOXNEWS)\"\n",
            "2019-03-24,Beto O'Rourke,255,1243,96184,0.20514883346741755,\"(\"\"Beto O'Rourke\"\") (station:MSNBC OR station:CNN OR station:FOXNEWS)\"\n",
            "2019-03-31,Beto O'Rourke,300,4205,93472,0.0713436385255648,\"(\"\"Beto O'Rourke\"\") (station:MSNBC OR station:CNN OR station:FOXNEWS)\"\n",
            "2019-04-07,Beto O'Rourke,136,2329,94405,0.0583941605839416,\"(\"\"Beto O'Rourke\"\") (station:MSNBC OR station:CNN OR station:FOXNEWS)\"\n",
            "2019-04-14,Beto O'Rourke,163,2598,95286,0.06274056966897612,\"(\"\"Beto O'Rourke\"\") (station:MSNBC OR station:CNN OR station:FOXNEWS)\"\n",
            "2019-04-21,Beto O'Rourke,155,5716,94002,0.027116864940517845,\"(\"\"Beto O'Rourke\"\") (station:MSNBC OR station:CNN OR station:FOXNEWS)\"\n",
            "2019-04-28,Beto O'Rourke,221,3942,95339,0.05606291222729578,\"(\"\"Beto O'Rourke\"\") (station:MSNBC OR station:CNN OR station:FOXNEWS)\"\n",
            "2019-05-05,Beto O'Rourke,90,2747,94528,0.03276301419730615,\"(\"\"Beto O'Rourke\"\") (station:MSNBC OR station:CNN OR station:FOXNEWS)\"\n",
            "2019-05-12,Beto O'Rourke,217,3688,94318,0.058839479392624724,\"(\"\"Beto O'Rourke\"\") (station:MSNBC OR station:CNN OR station:FOXNEWS)\"\n",
            "2019-05-19,Beto O'Rourke,187,2644,94883,0.07072617246596066,\"(\"\"Beto O'Rourke\"\") (station:MSNBC OR station:CNN OR station:FOXNEWS)\"\n",
            "2019-05-26,Beto O'Rourke,112,3042,95289,0.03681788297172912,\"(\"\"Beto O'Rourke\"\") (station:MSNBC OR station:CNN OR station:FOXNEWS)\"\n",
            "2019-06-02,Beto O'Rourke,92,3099,95313,0.02968699580509842,\"(\"\"Beto O'Rourke\"\") (station:MSNBC OR station:CNN OR station:FOXNEWS)\"\n",
            "2019-06-09,Beto O'Rourke,209,4776,95839,0.04376046901172529,\"(\"\"Beto O'Rourke\"\") (station:MSNBC OR station:CNN OR station:FOXNEWS)\"\n",
            "2019-06-16,Beto O'Rourke,104,4478,96026,0.023224653863331845,\"(\"\"Beto O'Rourke\"\") (station:MSNBC OR station:CNN OR station:FOXNEWS)\"\n",
            "2019-06-23,Beto O'Rourke,445,7316,96553,0.060825587752870426,\"(\"\"Beto O'Rourke\"\") (station:MSNBC OR station:CNN OR station:FOXNEWS)\"\n",
            "2019-06-30,Beto O'Rourke,113,4380,92126,0.02579908675799087,\"(\"\"Beto O'Rourke\"\") (station:MSNBC OR station:CNN OR station:FOXNEWS)\"\n",
            "2019-07-07,Beto O'Rourke,63,2934,94299,0.02147239263803681,\"(\"\"Beto O'Rourke\"\") (station:MSNBC OR station:CNN OR station:FOXNEWS)\"\n",
            "2018-12-30,John Hickenlooper,1,1268,76029,0.0007886435331230284,\"(\"\"John Hickenlooper\"\") (station:MSNBC OR station:CNN OR station:FOXNEWS)\"\n",
            "2019-01-06,John Hickenlooper,1,1021,82964,0.0009794319294809011,\"(\"\"John Hickenlooper\"\") (station:MSNBC OR station:CNN OR station:FOXNEWS)\"\n",
            "2019-01-13,John Hickenlooper,0,613,82521,0.0,\"(\"\"John Hickenlooper\"\") (station:MSNBC OR station:CNN OR station:FOXNEWS)\"\n",
            "2019-01-20,John Hickenlooper,3,991,83649,0.003027245206861756,\"(\"\"John Hickenlooper\"\") (station:MSNBC OR station:CNN OR station:FOXNEWS)\"\n",
            "2019-01-27,John Hickenlooper,3,1908,80994,0.0015723270440251573,\"(\"\"John Hickenlooper\"\") (station:MSNBC OR station:CNN OR station:FOXNEWS)\"\n",
            "2019-02-03,John Hickenlooper,2,1449,79183,0.0013802622498274672,\"(\"\"John Hickenlooper\"\") (station:MSNBC OR station:CNN OR station:FOXNEWS)\"\n",
            "2019-02-10,John Hickenlooper,0,1913,81893,0.0,\"(\"\"John Hickenlooper\"\") (station:MSNBC OR station:CNN OR station:FOXNEWS)\"\n",
            "2019-02-17,John Hickenlooper,3,2416,82454,0.0012417218543046358,\"(\"\"John Hickenlooper\"\") (station:MSNBC OR station:CNN OR station:FOXNEWS)\"\n",
            "2019-02-24,John Hickenlooper,4,1529,82804,0.002616088947024199,\"(\"\"John Hickenlooper\"\") (station:MSNBC OR station:CNN OR station:FOXNEWS)\"\n",
            "2019-03-03,John Hickenlooper,90,1567,81321,0.0574345883854499,\"(\"\"John Hickenlooper\"\") (station:MSNBC OR station:CNN OR station:FOXNEWS)\"\n",
            "2019-03-10,John Hickenlooper,15,2418,85812,0.00620347394540943,\"(\"\"John Hickenlooper\"\") (station:MSNBC OR station:CNN OR station:FOXNEWS)\"\n",
            "2019-03-17,John Hickenlooper,102,3173,95383,0.032146233848093286,\"(\"\"John Hickenlooper\"\") (station:MSNBC OR station:CNN OR station:FOXNEWS)\"\n",
            "2019-03-24,John Hickenlooper,22,1243,96184,0.017699115044247787,\"(\"\"John Hickenlooper\"\") (station:MSNBC OR station:CNN OR station:FOXNEWS)\"\n",
            "2019-03-31,John Hickenlooper,17,4205,93472,0.004042806183115339,\"(\"\"John Hickenlooper\"\") (station:MSNBC OR station:CNN OR station:FOXNEWS)\"\n",
            "2019-04-07,John Hickenlooper,11,2329,94405,0.0047230571060541005,\"(\"\"John Hickenlooper\"\") (station:MSNBC OR station:CNN OR station:FOXNEWS)\"\n",
            "2019-04-14,John Hickenlooper,7,2598,95286,0.0026943802925327174,\"(\"\"John Hickenlooper\"\") (station:MSNBC OR station:CNN OR station:FOXNEWS)\"\n",
            "2019-04-21,John Hickenlooper,1,5716,94002,0.0001749475157452764,\"(\"\"John Hickenlooper\"\") (station:MSNBC OR station:CNN OR station:FOXNEWS)\"\n",
            "2019-04-28,John Hickenlooper,21,3942,95339,0.00532724505327245,\"(\"\"John Hickenlooper\"\") (station:MSNBC OR station:CNN OR station:FOXNEWS)\"\n",
            "2019-05-05,John Hickenlooper,12,2747,94528,0.004368401892974154,\"(\"\"John Hickenlooper\"\") (station:MSNBC OR station:CNN OR station:FOXNEWS)\"\n",
            "2019-05-12,John Hickenlooper,13,3688,94318,0.0035249457700650758,\"(\"\"John Hickenlooper\"\") (station:MSNBC OR station:CNN OR station:FOXNEWS)\"\n",
            "2019-05-19,John Hickenlooper,9,2644,94883,0.00340393343419062,\"(\"\"John Hickenlooper\"\") (station:MSNBC OR station:CNN OR station:FOXNEWS)\"\n",
            "2019-05-26,John Hickenlooper,33,3042,95289,0.010848126232741616,\"(\"\"John Hickenlooper\"\") (station:MSNBC OR station:CNN OR station:FOXNEWS)\"\n",
            "2019-06-02,John Hickenlooper,63,3099,95313,0.020329138431752183,\"(\"\"John Hickenlooper\"\") (station:MSNBC OR station:CNN OR station:FOXNEWS)\"\n",
            "2019-06-09,John Hickenlooper,46,4776,95839,0.00963149078726968,\"(\"\"John Hickenlooper\"\") (station:MSNBC OR station:CNN OR station:FOXNEWS)\"\n",
            "2019-06-16,John Hickenlooper,22,4478,96026,0.0049129075480125045,\"(\"\"John Hickenlooper\"\") (station:MSNBC OR station:CNN OR station:FOXNEWS)\"\n",
            "2019-06-23,John Hickenlooper,54,7316,96553,0.007381082558775287,\"(\"\"John Hickenlooper\"\") (station:MSNBC OR station:CNN OR station:FOXNEWS)\"\n",
            "2019-06-30,John Hickenlooper,32,4380,92126,0.00730593607305936,\"(\"\"John Hickenlooper\"\") (station:MSNBC OR station:CNN OR station:FOXNEWS)\"\n",
            "2019-07-07,John Hickenlooper,7,2934,94299,0.0023858214042263124,\"(\"\"John Hickenlooper\"\") (station:MSNBC OR station:CNN OR station:FOXNEWS)\"\n",
            "2018-12-30,Jay Inslee,4,1268,76029,0.003154574132492113,\"(\"\"Jay Inslee\"\") (station:MSNBC OR station:CNN OR station:FOXNEWS)\"\n",
            "2019-01-06,Jay Inslee,7,1021,82964,0.0068560235063663075,\"(\"\"Jay Inslee\"\") (station:MSNBC OR station:CNN OR station:FOXNEWS)\"\n",
            "2019-01-13,Jay Inslee,0,613,82521,0.0,\"(\"\"Jay Inslee\"\") (station:MSNBC OR station:CNN OR station:FOXNEWS)\"\n",
            "2019-01-20,Jay Inslee,7,991,83649,0.007063572149344097,\"(\"\"Jay Inslee\"\") (station:MSNBC OR station:CNN OR station:FOXNEWS)\"\n",
            "2019-01-27,Jay Inslee,2,1908,80994,0.0010482180293501047,\"(\"\"Jay Inslee\"\") (station:MSNBC OR station:CNN OR station:FOXNEWS)\"\n",
            "2019-02-03,Jay Inslee,6,1449,79183,0.004140786749482402,\"(\"\"Jay Inslee\"\") (station:MSNBC OR station:CNN OR station:FOXNEWS)\"\n",
            "2019-02-10,Jay Inslee,1,1913,81893,0.0005227391531625719,\"(\"\"Jay Inslee\"\") (station:MSNBC OR station:CNN OR station:FOXNEWS)\"\n",
            "2019-02-17,Jay Inslee,2,2416,82454,0.0008278145695364237,\"(\"\"Jay Inslee\"\") (station:MSNBC OR station:CNN OR station:FOXNEWS)\"\n",
            "2019-02-24,Jay Inslee,69,1529,82804,0.04512753433616743,\"(\"\"Jay Inslee\"\") (station:MSNBC OR station:CNN OR station:FOXNEWS)\"\n",
            "2019-03-03,Jay Inslee,60,1567,81321,0.03828972559029994,\"(\"\"Jay Inslee\"\") (station:MSNBC OR station:CNN OR station:FOXNEWS)\"\n",
            "2019-03-10,Jay Inslee,59,2418,85812,0.02440033085194376,\"(\"\"Jay Inslee\"\") (station:MSNBC OR station:CNN OR station:FOXNEWS)\"\n",
            "2019-03-17,Jay Inslee,14,3173,95383,0.0044122281752284895,\"(\"\"Jay Inslee\"\") (station:MSNBC OR station:CNN OR station:FOXNEWS)\"\n",
            "2019-03-24,Jay Inslee,6,1243,96184,0.004827031375703942,\"(\"\"Jay Inslee\"\") (station:MSNBC OR station:CNN OR station:FOXNEWS)\"\n",
            "2019-03-31,Jay Inslee,6,4205,93472,0.001426872770511296,\"(\"\"Jay Inslee\"\") (station:MSNBC OR station:CNN OR station:FOXNEWS)\"\n",
            "2019-04-07,Jay Inslee,46,2329,94405,0.0197509660798626,\"(\"\"Jay Inslee\"\") (station:MSNBC OR station:CNN OR station:FOXNEWS)\"\n",
            "2019-04-14,Jay Inslee,9,2598,95286,0.003464203233256351,\"(\"\"Jay Inslee\"\") (station:MSNBC OR station:CNN OR station:FOXNEWS)\"\n",
            "2019-04-21,Jay Inslee,9,5716,94002,0.0015745276417074878,\"(\"\"Jay Inslee\"\") (station:MSNBC OR station:CNN OR station:FOXNEWS)\"\n",
            "2019-04-28,Jay Inslee,35,3942,95339,0.008878741755454084,\"(\"\"Jay Inslee\"\") (station:MSNBC OR station:CNN OR station:FOXNEWS)\"\n",
            "2019-05-05,Jay Inslee,10,2747,94528,0.0036403349108117943,\"(\"\"Jay Inslee\"\") (station:MSNBC OR station:CNN OR station:FOXNEWS)\"\n",
            "2019-05-12,Jay Inslee,21,3688,94318,0.0056941431670282,\"(\"\"Jay Inslee\"\") (station:MSNBC OR station:CNN OR station:FOXNEWS)\"\n",
            "2019-05-19,Jay Inslee,17,2644,94883,0.006429652042360061,\"(\"\"Jay Inslee\"\") (station:MSNBC OR station:CNN OR station:FOXNEWS)\"\n",
            "2019-05-26,Jay Inslee,10,3042,95289,0.003287310979618672,\"(\"\"Jay Inslee\"\") (station:MSNBC OR station:CNN OR station:FOXNEWS)\"\n",
            "2019-06-02,Jay Inslee,18,3099,95313,0.005808325266214908,\"(\"\"Jay Inslee\"\") (station:MSNBC OR station:CNN OR station:FOXNEWS)\"\n",
            "2019-06-09,Jay Inslee,29,4776,95839,0.006072026800670018,\"(\"\"Jay Inslee\"\") (station:MSNBC OR station:CNN OR station:FOXNEWS)\"\n",
            "2019-06-16,Jay Inslee,31,4478,96026,0.0069227333631085314,\"(\"\"Jay Inslee\"\") (station:MSNBC OR station:CNN OR station:FOXNEWS)\"\n",
            "2019-06-23,Jay Inslee,113,7316,96553,0.015445598687807543,\"(\"\"Jay Inslee\"\") (station:MSNBC OR station:CNN OR station:FOXNEWS)\"\n",
            "2019-06-30,Jay Inslee,9,4380,92126,0.002054794520547945,\"(\"\"Jay Inslee\"\") (station:MSNBC OR station:CNN OR station:FOXNEWS)\"\n",
            "2019-07-07,Jay Inslee,26,2934,94299,0.008861622358554875,\"(\"\"Jay Inslee\"\") (station:MSNBC OR station:CNN OR station:FOXNEWS)\"\n",
            "2018-12-30,Bernie Sanders,246,1268,76029,0.19400630914826494,\"(\"\"Bernie Sanders\"\") (station:MSNBC OR station:CNN OR station:FOXNEWS)\"\n",
            "2019-01-06,Bernie Sanders,134,1021,82964,0.13124387855044076,\"(\"\"Bernie Sanders\"\") (station:MSNBC OR station:CNN OR station:FOXNEWS)\"\n",
            "2019-01-13,Bernie Sanders,70,613,82521,0.11419249592169654,\"(\"\"Bernie Sanders\"\") (station:MSNBC OR station:CNN OR station:FOXNEWS)\"\n",
            "2019-01-20,Bernie Sanders,147,991,83649,0.14833501513622604,\"(\"\"Bernie Sanders\"\") (station:MSNBC OR station:CNN OR station:FOXNEWS)\"\n",
            "2019-01-27,Bernie Sanders,146,1908,80994,0.07651991614255765,\"(\"\"Bernie Sanders\"\") (station:MSNBC OR station:CNN OR station:FOXNEWS)\"\n",
            "2019-02-03,Bernie Sanders,162,1449,79183,0.11180124223602483,\"(\"\"Bernie Sanders\"\") (station:MSNBC OR station:CNN OR station:FOXNEWS)\"\n",
            "2019-02-10,Bernie Sanders,101,1913,81893,0.052796654469419765,\"(\"\"Bernie Sanders\"\") (station:MSNBC OR station:CNN OR station:FOXNEWS)\"\n",
            "2019-02-17,Bernie Sanders,1039,2416,82454,0.4300496688741722,\"(\"\"Bernie Sanders\"\") (station:MSNBC OR station:CNN OR station:FOXNEWS)\"\n",
            "2019-02-24,Bernie Sanders,664,1529,82804,0.43427076520601704,\"(\"\"Bernie Sanders\"\") (station:MSNBC OR station:CNN OR station:FOXNEWS)\"\n",
            "2019-03-03,Bernie Sanders,521,1567,81321,0.3324824505424378,\"(\"\"Bernie Sanders\"\") (station:MSNBC OR station:CNN OR station:FOXNEWS)\"\n",
            "2019-03-10,Bernie Sanders,451,2418,85812,0.18651778329197685,\"(\"\"Bernie Sanders\"\") (station:MSNBC OR station:CNN OR station:FOXNEWS)\"\n",
            "2019-03-17,Bernie Sanders,467,3173,95383,0.1471793255594075,\"(\"\"Bernie Sanders\"\") (station:MSNBC OR station:CNN OR station:FOXNEWS)\"\n",
            "2019-03-24,Bernie Sanders,142,1243,96184,0.11423974255832665,\"(\"\"Bernie Sanders\"\") (station:MSNBC OR station:CNN OR station:FOXNEWS)\"\n",
            "2019-03-31,Bernie Sanders,551,4205,93472,0.1310344827586207,\"(\"\"Bernie Sanders\"\") (station:MSNBC OR station:CNN OR station:FOXNEWS)\"\n",
            "2019-04-07,Bernie Sanders,664,2329,94405,0.28510090167453844,\"(\"\"Bernie Sanders\"\") (station:MSNBC OR station:CNN OR station:FOXNEWS)\"\n",
            "2019-04-14,Bernie Sanders,970,2598,95286,0.3733641262509623,\"(\"\"Bernie Sanders\"\") (station:MSNBC OR station:CNN OR station:FOXNEWS)\"\n",
            "2019-04-21,Bernie Sanders,1099,5716,94002,0.1922673198040588,\"(\"\"Bernie Sanders\"\") (station:MSNBC OR station:CNN OR station:FOXNEWS)\"\n",
            "2019-04-28,Bernie Sanders,602,3942,95339,0.15271435819381024,\"(\"\"Bernie Sanders\"\") (station:MSNBC OR station:CNN OR station:FOXNEWS)\"\n",
            "2019-05-05,Bernie Sanders,503,2747,94528,0.1831088460138333,\"(\"\"Bernie Sanders\"\") (station:MSNBC OR station:CNN OR station:FOXNEWS)\"\n",
            "2019-05-12,Bernie Sanders,530,3688,94318,0.14370932754880694,\"(\"\"Bernie Sanders\"\") (station:MSNBC OR station:CNN OR station:FOXNEWS)\"\n",
            "2019-05-19,Bernie Sanders,465,2644,94883,0.1758698940998487,\"(\"\"Bernie Sanders\"\") (station:MSNBC OR station:CNN OR station:FOXNEWS)\"\n",
            "2019-05-26,Bernie Sanders,365,3042,95289,0.11998685075608152,\"(\"\"Bernie Sanders\"\") (station:MSNBC OR station:CNN OR station:FOXNEWS)\"\n",
            "2019-06-02,Bernie Sanders,341,3099,95313,0.11003549532107132,\"(\"\"Bernie Sanders\"\") (station:MSNBC OR station:CNN OR station:FOXNEWS)\"\n",
            "2019-06-09,Bernie Sanders,894,4776,95839,0.1871859296482412,\"(\"\"Bernie Sanders\"\") (station:MSNBC OR station:CNN OR station:FOXNEWS)\"\n",
            "2019-06-16,Bernie Sanders,655,4478,96026,0.1462706565430996,\"(\"\"Bernie Sanders\"\") (station:MSNBC OR station:CNN OR station:FOXNEWS)\"\n",
            "2019-06-23,Bernie Sanders,1055,7316,96553,0.1442044833242209,\"(\"\"Bernie Sanders\"\") (station:MSNBC OR station:CNN OR station:FOXNEWS)\"\n",
            "2019-06-30,Bernie Sanders,590,4380,92126,0.13470319634703196,\"(\"\"Bernie Sanders\"\") (station:MSNBC OR station:CNN OR station:FOXNEWS)\"\n",
            "2019-07-07,Bernie Sanders,354,2934,94299,0.12065439672801635,\"(\"\"Bernie Sanders\"\") (station:MSNBC OR station:CNN OR station:FOXNEWS)\"\n",
            "2018-12-30,Amy Klobuchar,12,1268,76029,0.00946372239747634,\"(\"\"Amy Klobuchar\"\") (station:MSNBC OR station:CNN OR station:FOXNEWS)\"\n",
            "2019-01-06,Amy Klobuchar,7,1021,82964,0.0068560235063663075,\"(\"\"Amy Klobuchar\"\") (station:MSNBC OR station:CNN OR station:FOXNEWS)\"\n",
            "2019-01-13,Amy Klobuchar,45,613,82521,0.0734094616639478,\"(\"\"Amy Klobuchar\"\") (station:MSNBC OR station:CNN OR station:FOXNEWS)\"\n",
            "2019-01-20,Amy Klobuchar,10,991,83649,0.010090817356205851,\"(\"\"Amy Klobuchar\"\") (station:MSNBC OR station:CNN OR station:FOXNEWS)\"\n",
            "2019-01-27,Amy Klobuchar,16,1908,80994,0.008385744234800839,\"(\"\"Amy Klobuchar\"\") (station:MSNBC OR station:CNN OR station:FOXNEWS)\"\n",
            "2019-02-03,Amy Klobuchar,64,1449,79183,0.04416839199447895,\"(\"\"Amy Klobuchar\"\") (station:MSNBC OR station:CNN OR station:FOXNEWS)\"\n",
            "2019-02-10,Amy Klobuchar,384,1913,81893,0.2007318348144276,\"(\"\"Amy Klobuchar\"\") (station:MSNBC OR station:CNN OR station:FOXNEWS)\"\n",
            "2019-02-17,Amy Klobuchar,231,2416,82454,0.09561258278145696,\"(\"\"Amy Klobuchar\"\") (station:MSNBC OR station:CNN OR station:FOXNEWS)\"\n",
            "2019-02-24,Amy Klobuchar,52,1529,82804,0.034009156311314584,\"(\"\"Amy Klobuchar\"\") (station:MSNBC OR station:CNN OR station:FOXNEWS)\"\n",
            "2019-03-03,Amy Klobuchar,57,1567,81321,0.036375239310784936,\"(\"\"Amy Klobuchar\"\") (station:MSNBC OR station:CNN OR station:FOXNEWS)\"\n",
            "2019-03-10,Amy Klobuchar,68,2418,85812,0.02812241521918941,\"(\"\"Amy Klobuchar\"\") (station:MSNBC OR station:CNN OR station:FOXNEWS)\"\n",
            "2019-03-17,Amy Klobuchar,114,3173,95383,0.03592814371257485,\"(\"\"Amy Klobuchar\"\") (station:MSNBC OR station:CNN OR station:FOXNEWS)\"\n",
            "2019-03-24,Amy Klobuchar,69,1243,96184,0.05551086082059534,\"(\"\"Amy Klobuchar\"\") (station:MSNBC OR station:CNN OR station:FOXNEWS)\"\n",
            "2019-03-31,Amy Klobuchar,42,4205,93472,0.009988109393579072,\"(\"\"Amy Klobuchar\"\") (station:MSNBC OR station:CNN OR station:FOXNEWS)\"\n",
            "2019-04-07,Amy Klobuchar,51,2329,94405,0.021897810218978103,\"(\"\"Amy Klobuchar\"\") (station:MSNBC OR station:CNN OR station:FOXNEWS)\"\n",
            "2019-04-14,Amy Klobuchar,65,2598,95286,0.02501924557351809,\"(\"\"Amy Klobuchar\"\") (station:MSNBC OR station:CNN OR station:FOXNEWS)\"\n",
            "2019-04-21,Amy Klobuchar,102,5716,94002,0.017844646606018196,\"(\"\"Amy Klobuchar\"\") (station:MSNBC OR station:CNN OR station:FOXNEWS)\"\n",
            "2019-04-28,Amy Klobuchar,88,3942,95339,0.022323693556570268,\"(\"\"Amy Klobuchar\"\") (station:MSNBC OR station:CNN OR station:FOXNEWS)\"\n",
            "2019-05-05,Amy Klobuchar,130,2747,94528,0.04732435384055333,\"(\"\"Amy Klobuchar\"\") (station:MSNBC OR station:CNN OR station:FOXNEWS)\"\n",
            "2019-05-12,Amy Klobuchar,43,3688,94318,0.011659436008676787,\"(\"\"Amy Klobuchar\"\") (station:MSNBC OR station:CNN OR station:FOXNEWS)\"\n",
            "2019-05-19,Amy Klobuchar,46,2644,94883,0.01739788199697428,\"(\"\"Amy Klobuchar\"\") (station:MSNBC OR station:CNN OR station:FOXNEWS)\"\n",
            "2019-05-26,Amy Klobuchar,51,3042,95289,0.016765285996055226,\"(\"\"Amy Klobuchar\"\") (station:MSNBC OR station:CNN OR station:FOXNEWS)\"\n",
            "2019-06-02,Amy Klobuchar,40,3099,95313,0.012907389480477573,\"(\"\"Amy Klobuchar\"\") (station:MSNBC OR station:CNN OR station:FOXNEWS)\"\n",
            "2019-06-09,Amy Klobuchar,85,4776,95839,0.017797319932998323,\"(\"\"Amy Klobuchar\"\") (station:MSNBC OR station:CNN OR station:FOXNEWS)\"\n",
            "2019-06-16,Amy Klobuchar,42,4478,96026,0.009379187137114784,\"(\"\"Amy Klobuchar\"\") (station:MSNBC OR station:CNN OR station:FOXNEWS)\"\n",
            "2019-06-23,Amy Klobuchar,167,7316,96553,0.022826681246582832,\"(\"\"Amy Klobuchar\"\") (station:MSNBC OR station:CNN OR station:FOXNEWS)\"\n",
            "2019-06-30,Amy Klobuchar,53,4380,92126,0.012100456621004566,\"(\"\"Amy Klobuchar\"\") (station:MSNBC OR station:CNN OR station:FOXNEWS)\"\n",
            "2019-07-07,Amy Klobuchar,55,2934,94299,0.018745739604635308,\"(\"\"Amy Klobuchar\"\") (station:MSNBC OR station:CNN OR station:FOXNEWS)\"\n",
            "2018-12-30,Cory Booker,39,1268,76029,0.030757097791798107,\"(\"\"Cory Booker\"\") (station:MSNBC OR station:CNN OR station:FOXNEWS)\"\n",
            "2019-01-06,Cory Booker,15,1021,82964,0.014691478942213516,\"(\"\"Cory Booker\"\") (station:MSNBC OR station:CNN OR station:FOXNEWS)\"\n",
            "2019-01-13,Cory Booker,31,613,82521,0.05057096247960848,\"(\"\"Cory Booker\"\") (station:MSNBC OR station:CNN OR station:FOXNEWS)\"\n",
            "2019-01-20,Cory Booker,59,991,83649,0.05953582240161452,\"(\"\"Cory Booker\"\") (station:MSNBC OR station:CNN OR station:FOXNEWS)\"\n",
            "2019-01-27,Cory Booker,378,1908,80994,0.19811320754716985,\"(\"\"Cory Booker\"\") (station:MSNBC OR station:CNN OR station:FOXNEWS)\"\n",
            "2019-02-03,Cory Booker,246,1449,79183,0.16977225672877844,\"(\"\"Cory Booker\"\") (station:MSNBC OR station:CNN OR station:FOXNEWS)\"\n",
            "2019-02-10,Cory Booker,211,1913,81893,0.11029796131730267,\"(\"\"Cory Booker\"\") (station:MSNBC OR station:CNN OR station:FOXNEWS)\"\n",
            "2019-02-17,Cory Booker,195,2416,82454,0.08071192052980132,\"(\"\"Cory Booker\"\") (station:MSNBC OR station:CNN OR station:FOXNEWS)\"\n",
            "2019-02-24,Cory Booker,67,1529,82804,0.04381948986265533,\"(\"\"Cory Booker\"\") (station:MSNBC OR station:CNN OR station:FOXNEWS)\"\n",
            "2019-03-03,Cory Booker,92,1567,81321,0.058710912571793235,\"(\"\"Cory Booker\"\") (station:MSNBC OR station:CNN OR station:FOXNEWS)\"\n",
            "2019-03-10,Cory Booker,107,2418,85812,0.04425144747725393,\"(\"\"Cory Booker\"\") (station:MSNBC OR station:CNN OR station:FOXNEWS)\"\n",
            "2019-03-17,Cory Booker,180,3173,95383,0.05672864796722345,\"(\"\"Cory Booker\"\") (station:MSNBC OR station:CNN OR station:FOXNEWS)\"\n",
            "2019-03-24,Cory Booker,121,1243,96184,0.09734513274336284,\"(\"\"Cory Booker\"\") (station:MSNBC OR station:CNN OR station:FOXNEWS)\"\n",
            "2019-03-31,Cory Booker,41,4205,93472,0.009750297265160524,\"(\"\"Cory Booker\"\") (station:MSNBC OR station:CNN OR station:FOXNEWS)\"\n",
            "2019-04-07,Cory Booker,216,2329,94405,0.0927436668097896,\"(\"\"Cory Booker\"\") (station:MSNBC OR station:CNN OR station:FOXNEWS)\"\n",
            "2019-04-14,Cory Booker,114,2598,95286,0.04387990762124711,\"(\"\"Cory Booker\"\") (station:MSNBC OR station:CNN OR station:FOXNEWS)\"\n",
            "2019-04-21,Cory Booker,92,5716,94002,0.01609517144856543,\"(\"\"Cory Booker\"\") (station:MSNBC OR station:CNN OR station:FOXNEWS)\"\n",
            "2019-04-28,Cory Booker,106,3942,95339,0.026889903602232368,\"(\"\"Cory Booker\"\") (station:MSNBC OR station:CNN OR station:FOXNEWS)\"\n",
            "2019-05-05,Cory Booker,137,2747,94528,0.049872588278121584,\"(\"\"Cory Booker\"\") (station:MSNBC OR station:CNN OR station:FOXNEWS)\"\n",
            "2019-05-12,Cory Booker,107,3688,94318,0.02901301518438178,\"(\"\"Cory Booker\"\") (station:MSNBC OR station:CNN OR station:FOXNEWS)\"\n",
            "2019-05-19,Cory Booker,45,2644,94883,0.0170196671709531,\"(\"\"Cory Booker\"\") (station:MSNBC OR station:CNN OR station:FOXNEWS)\"\n",
            "2019-05-26,Cory Booker,125,3042,95289,0.0410913872452334,\"(\"\"Cory Booker\"\") (station:MSNBC OR station:CNN OR station:FOXNEWS)\"\n",
            "2019-06-02,Cory Booker,129,3099,95313,0.041626331074540175,\"(\"\"Cory Booker\"\") (station:MSNBC OR station:CNN OR station:FOXNEWS)\"\n",
            "2019-06-09,Cory Booker,144,4776,95839,0.03015075376884422,\"(\"\"Cory Booker\"\") (station:MSNBC OR station:CNN OR station:FOXNEWS)\"\n",
            "2019-06-16,Cory Booker,562,4478,96026,0.125502456453774,\"(\"\"Cory Booker\"\") (station:MSNBC OR station:CNN OR station:FOXNEWS)\"\n",
            "2019-06-23,Cory Booker,444,7316,96553,0.06068890103881903,\"(\"\"Cory Booker\"\") (station:MSNBC OR station:CNN OR station:FOXNEWS)\"\n",
            "2019-06-30,Cory Booker,187,4380,92126,0.04269406392694064,\"(\"\"Cory Booker\"\") (station:MSNBC OR station:CNN OR station:FOXNEWS)\"\n",
            "2019-07-07,Cory Booker,103,2934,94299,0.035105657805044314,\"(\"\"Cory Booker\"\") (station:MSNBC OR station:CNN OR station:FOXNEWS)\"\n",
            "2018-12-30,Marianne Williamson,0,1268,76029,0.0,\"(\"\"Marianne Williamson\"\") (station:MSNBC OR station:CNN OR station:FOXNEWS)\"\n",
            "2019-01-06,Marianne Williamson,0,1021,82964,0.0,\"(\"\"Marianne Williamson\"\") (station:MSNBC OR station:CNN OR station:FOXNEWS)\"\n",
            "2019-01-13,Marianne Williamson,0,613,82521,0.0,\"(\"\"Marianne Williamson\"\") (station:MSNBC OR station:CNN OR station:FOXNEWS)\"\n",
            "2019-01-20,Marianne Williamson,0,991,83649,0.0,\"(\"\"Marianne Williamson\"\") (station:MSNBC OR station:CNN OR station:FOXNEWS)\"\n",
            "2019-01-27,Marianne Williamson,0,1908,80994,0.0,\"(\"\"Marianne Williamson\"\") (station:MSNBC OR station:CNN OR station:FOXNEWS)\"\n",
            "2019-02-03,Marianne Williamson,0,1449,79183,0.0,\"(\"\"Marianne Williamson\"\") (station:MSNBC OR station:CNN OR station:FOXNEWS)\"\n",
            "2019-02-10,Marianne Williamson,0,1913,81893,0.0,\"(\"\"Marianne Williamson\"\") (station:MSNBC OR station:CNN OR station:FOXNEWS)\"\n",
            "2019-02-17,Marianne Williamson,0,2416,82454,0.0,\"(\"\"Marianne Williamson\"\") (station:MSNBC OR station:CNN OR station:FOXNEWS)\"\n",
            "2019-02-24,Marianne Williamson,1,1529,82804,0.0006540222367560497,\"(\"\"Marianne Williamson\"\") (station:MSNBC OR station:CNN OR station:FOXNEWS)\"\n",
            "2019-03-03,Marianne Williamson,0,1567,81321,0.0,\"(\"\"Marianne Williamson\"\") (station:MSNBC OR station:CNN OR station:FOXNEWS)\"\n",
            "2019-03-10,Marianne Williamson,0,2418,85812,0.0,\"(\"\"Marianne Williamson\"\") (station:MSNBC OR station:CNN OR station:FOXNEWS)\"\n",
            "2019-03-17,Marianne Williamson,0,3173,95383,0.0,\"(\"\"Marianne Williamson\"\") (station:MSNBC OR station:CNN OR station:FOXNEWS)\"\n",
            "2019-03-24,Marianne Williamson,0,1243,96184,0.0,\"(\"\"Marianne Williamson\"\") (station:MSNBC OR station:CNN OR station:FOXNEWS)\"\n",
            "2019-03-31,Marianne Williamson,0,4205,93472,0.0,\"(\"\"Marianne Williamson\"\") (station:MSNBC OR station:CNN OR station:FOXNEWS)\"\n",
            "2019-04-07,Marianne Williamson,2,2329,94405,0.0008587376556462001,\"(\"\"Marianne Williamson\"\") (station:MSNBC OR station:CNN OR station:FOXNEWS)\"\n",
            "2019-04-14,Marianne Williamson,5,2598,95286,0.001924557351809084,\"(\"\"Marianne Williamson\"\") (station:MSNBC OR station:CNN OR station:FOXNEWS)\"\n",
            "2019-04-21,Marianne Williamson,0,5716,94002,0.0,\"(\"\"Marianne Williamson\"\") (station:MSNBC OR station:CNN OR station:FOXNEWS)\"\n",
            "2019-04-28,Marianne Williamson,2,3942,95339,0.0005073566717402334,\"(\"\"Marianne Williamson\"\") (station:MSNBC OR station:CNN OR station:FOXNEWS)\"\n",
            "2019-05-05,Marianne Williamson,9,2747,94528,0.003276301419730616,\"(\"\"Marianne Williamson\"\") (station:MSNBC OR station:CNN OR station:FOXNEWS)\"\n",
            "2019-05-12,Marianne Williamson,7,3688,94318,0.0018980477223427329,\"(\"\"Marianne Williamson\"\") (station:MSNBC OR station:CNN OR station:FOXNEWS)\"\n",
            "2019-05-19,Marianne Williamson,0,2644,94883,0.0,\"(\"\"Marianne Williamson\"\") (station:MSNBC OR station:CNN OR station:FOXNEWS)\"\n",
            "2019-05-26,Marianne Williamson,4,3042,95289,0.0013149243918474688,\"(\"\"Marianne Williamson\"\") (station:MSNBC OR station:CNN OR station:FOXNEWS)\"\n",
            "2019-06-02,Marianne Williamson,11,3099,95313,0.0035495321071313327,\"(\"\"Marianne Williamson\"\") (station:MSNBC OR station:CNN OR station:FOXNEWS)\"\n",
            "2019-06-09,Marianne Williamson,21,4776,95839,0.0043969849246231155,\"(\"\"Marianne Williamson\"\") (station:MSNBC OR station:CNN OR station:FOXNEWS)\"\n",
            "2019-06-16,Marianne Williamson,9,4478,96026,0.002009825815096025,\"(\"\"Marianne Williamson\"\") (station:MSNBC OR station:CNN OR station:FOXNEWS)\"\n",
            "2019-06-23,Marianne Williamson,91,7316,96553,0.012438490978676872,\"(\"\"Marianne Williamson\"\") (station:MSNBC OR station:CNN OR station:FOXNEWS)\"\n",
            "2019-06-30,Marianne Williamson,30,4380,92126,0.00684931506849315,\"(\"\"Marianne Williamson\"\") (station:MSNBC OR station:CNN OR station:FOXNEWS)\"\n",
            "2019-07-07,Marianne Williamson,4,2934,94299,0.00136332651670075,\"(\"\"Marianne Williamson\"\") (station:MSNBC OR station:CNN OR station:FOXNEWS)\"\n",
            "2018-12-30,Pete Buttigieg,0,1268,76029,0.0,\"(\"\"Pete Buttigieg\"\") (station:MSNBC OR station:CNN OR station:FOXNEWS)\"\n",
            "2019-01-06,Pete Buttigieg,0,1021,82964,0.0,\"(\"\"Pete Buttigieg\"\") (station:MSNBC OR station:CNN OR station:FOXNEWS)\"\n",
            "2019-01-13,Pete Buttigieg,0,613,82521,0.0,\"(\"\"Pete Buttigieg\"\") (station:MSNBC OR station:CNN OR station:FOXNEWS)\"\n",
            "2019-01-20,Pete Buttigieg,23,991,83649,0.023208879919273458,\"(\"\"Pete Buttigieg\"\") (station:MSNBC OR station:CNN OR station:FOXNEWS)\"\n",
            "2019-01-27,Pete Buttigieg,3,1908,80994,0.0015723270440251573,\"(\"\"Pete Buttigieg\"\") (station:MSNBC OR station:CNN OR station:FOXNEWS)\"\n",
            "2019-02-03,Pete Buttigieg,1,1449,79183,0.0006901311249137336,\"(\"\"Pete Buttigieg\"\") (station:MSNBC OR station:CNN OR station:FOXNEWS)\"\n",
            "2019-02-10,Pete Buttigieg,6,1913,81893,0.003136434918975432,\"(\"\"Pete Buttigieg\"\") (station:MSNBC OR station:CNN OR station:FOXNEWS)\"\n",
            "2019-02-17,Pete Buttigieg,0,2416,82454,0.0,\"(\"\"Pete Buttigieg\"\") (station:MSNBC OR station:CNN OR station:FOXNEWS)\"\n",
            "2019-02-24,Pete Buttigieg,2,1529,82804,0.0013080444735120995,\"(\"\"Pete Buttigieg\"\") (station:MSNBC OR station:CNN OR station:FOXNEWS)\"\n",
            "2019-03-03,Pete Buttigieg,16,1567,81321,0.01021059349074665,\"(\"\"Pete Buttigieg\"\") (station:MSNBC OR station:CNN OR station:FOXNEWS)\"\n",
            "2019-03-10,Pete Buttigieg,39,2418,85812,0.016129032258064516,\"(\"\"Pete Buttigieg\"\") (station:MSNBC OR station:CNN OR station:FOXNEWS)\"\n",
            "2019-03-17,Pete Buttigieg,61,3173,95383,0.01922470847778128,\"(\"\"Pete Buttigieg\"\") (station:MSNBC OR station:CNN OR station:FOXNEWS)\"\n",
            "2019-03-24,Pete Buttigieg,60,1243,96184,0.04827031375703942,\"(\"\"Pete Buttigieg\"\") (station:MSNBC OR station:CNN OR station:FOXNEWS)\"\n",
            "2019-03-31,Pete Buttigieg,216,4205,93472,0.05136741973840666,\"(\"\"Pete Buttigieg\"\") (station:MSNBC OR station:CNN OR station:FOXNEWS)\"\n",
            "2019-04-07,Pete Buttigieg,366,2329,94405,0.1571489909832546,\"(\"\"Pete Buttigieg\"\") (station:MSNBC OR station:CNN OR station:FOXNEWS)\"\n",
            "2019-04-14,Pete Buttigieg,501,2598,95286,0.1928406466512702,\"(\"\"Pete Buttigieg\"\") (station:MSNBC OR station:CNN OR station:FOXNEWS)\"\n",
            "2019-04-21,Pete Buttigieg,373,5716,94002,0.0652554233729881,\"(\"\"Pete Buttigieg\"\") (station:MSNBC OR station:CNN OR station:FOXNEWS)\"\n",
            "2019-04-28,Pete Buttigieg,205,3942,95339,0.05200405885337392,\"(\"\"Pete Buttigieg\"\") (station:MSNBC OR station:CNN OR station:FOXNEWS)\"\n",
            "2019-05-05,Pete Buttigieg,196,2747,94528,0.07135056425191118,\"(\"\"Pete Buttigieg\"\") (station:MSNBC OR station:CNN OR station:FOXNEWS)\"\n",
            "2019-05-12,Pete Buttigieg,277,3688,94318,0.07510845986984815,\"(\"\"Pete Buttigieg\"\") (station:MSNBC OR station:CNN OR station:FOXNEWS)\"\n",
            "2019-05-19,Pete Buttigieg,310,2644,94883,0.1172465960665658,\"(\"\"Pete Buttigieg\"\") (station:MSNBC OR station:CNN OR station:FOXNEWS)\"\n",
            "2019-05-26,Pete Buttigieg,137,3042,95289,0.045036160420775816,\"(\"\"Pete Buttigieg\"\") (station:MSNBC OR station:CNN OR station:FOXNEWS)\"\n",
            "2019-06-02,Pete Buttigieg,191,3099,95313,0.06163278476928041,\"(\"\"Pete Buttigieg\"\") (station:MSNBC OR station:CNN OR station:FOXNEWS)\"\n",
            "2019-06-09,Pete Buttigieg,366,4776,95839,0.07663316582914573,\"(\"\"Pete Buttigieg\"\") (station:MSNBC OR station:CNN OR station:FOXNEWS)\"\n",
            "2019-06-16,Pete Buttigieg,246,4478,96026,0.05493523894595802,\"(\"\"Pete Buttigieg\"\") (station:MSNBC OR station:CNN OR station:FOXNEWS)\"\n",
            "2019-06-23,Pete Buttigieg,506,7316,96553,0.06916347731000548,\"(\"\"Pete Buttigieg\"\") (station:MSNBC OR station:CNN OR station:FOXNEWS)\"\n",
            "2019-06-30,Pete Buttigieg,395,4380,92126,0.09018264840182648,\"(\"\"Pete Buttigieg\"\") (station:MSNBC OR station:CNN OR station:FOXNEWS)\"\n",
            "2019-07-07,Pete Buttigieg,185,2934,94299,0.06305385139740967,\"(\"\"Pete Buttigieg\"\") (station:MSNBC OR station:CNN OR station:FOXNEWS)\"\n",
            "2018-12-30,Kamala Harris,74,1268,76029,0.0583596214511041,\"(\"\"Kamala Harris\"\") (station:MSNBC OR station:CNN OR station:FOXNEWS)\"\n",
            "2019-01-06,Kamala Harris,99,1021,82964,0.0969637610186092,\"(\"\"Kamala Harris\"\") (station:MSNBC OR station:CNN OR station:FOXNEWS)\"\n",
            "2019-01-13,Kamala Harris,64,613,82521,0.10440456769983687,\"(\"\"Kamala Harris\"\") (station:MSNBC OR station:CNN OR station:FOXNEWS)\"\n",
            "2019-01-20,Kamala Harris,366,991,83649,0.3693239152371342,\"(\"\"Kamala Harris\"\") (station:MSNBC OR station:CNN OR station:FOXNEWS)\"\n",
            "2019-01-27,Kamala Harris,905,1908,80994,0.4743186582809225,\"(\"\"Kamala Harris\"\") (station:MSNBC OR station:CNN OR station:FOXNEWS)\"\n",
            "2019-02-03,Kamala Harris,238,1449,79183,0.1642512077294686,\"(\"\"Kamala Harris\"\") (station:MSNBC OR station:CNN OR station:FOXNEWS)\"\n",
            "2019-02-10,Kamala Harris,272,1913,81893,0.14218504966021955,\"(\"\"Kamala Harris\"\") (station:MSNBC OR station:CNN OR station:FOXNEWS)\"\n",
            "2019-02-17,Kamala Harris,513,2416,82454,0.2123344370860927,\"(\"\"Kamala Harris\"\") (station:MSNBC OR station:CNN OR station:FOXNEWS)\"\n",
            "2019-02-24,Kamala Harris,232,1529,82804,0.15173315892740352,\"(\"\"Kamala Harris\"\") (station:MSNBC OR station:CNN OR station:FOXNEWS)\"\n",
            "2019-03-03,Kamala Harris,151,1567,81321,0.09636247606892152,\"(\"\"Kamala Harris\"\") (station:MSNBC OR station:CNN OR station:FOXNEWS)\"\n",
            "2019-03-10,Kamala Harris,177,2418,85812,0.07320099255583126,\"(\"\"Kamala Harris\"\") (station:MSNBC OR station:CNN OR station:FOXNEWS)\"\n",
            "2019-03-17,Kamala Harris,252,3173,95383,0.07942010715411282,\"(\"\"Kamala Harris\"\") (station:MSNBC OR station:CNN OR station:FOXNEWS)\"\n",
            "2019-03-24,Kamala Harris,158,1243,96184,0.12711182622687048,\"(\"\"Kamala Harris\"\") (station:MSNBC OR station:CNN OR station:FOXNEWS)\"\n",
            "2019-03-31,Kamala Harris,198,4205,93472,0.04708680142687277,\"(\"\"Kamala Harris\"\") (station:MSNBC OR station:CNN OR station:FOXNEWS)\"\n",
            "2019-04-07,Kamala Harris,169,2329,94405,0.07256333190210391,\"(\"\"Kamala Harris\"\") (station:MSNBC OR station:CNN OR station:FOXNEWS)\"\n",
            "2019-04-14,Kamala Harris,159,2598,95286,0.06120092378752887,\"(\"\"Kamala Harris\"\") (station:MSNBC OR station:CNN OR station:FOXNEWS)\"\n",
            "2019-04-21,Kamala Harris,412,5716,94002,0.07207837648705387,\"(\"\"Kamala Harris\"\") (station:MSNBC OR station:CNN OR station:FOXNEWS)\"\n",
            "2019-04-28,Kamala Harris,419,3942,95339,0.10629122272957887,\"(\"\"Kamala Harris\"\") (station:MSNBC OR station:CNN OR station:FOXNEWS)\"\n",
            "2019-05-05,Kamala Harris,266,2747,94528,0.09683290862759374,\"(\"\"Kamala Harris\"\") (station:MSNBC OR station:CNN OR station:FOXNEWS)\"\n",
            "2019-05-12,Kamala Harris,343,3688,94318,0.09300433839479393,\"(\"\"Kamala Harris\"\") (station:MSNBC OR station:CNN OR station:FOXNEWS)\"\n",
            "2019-05-19,Kamala Harris,238,2644,94883,0.09001512859304085,\"(\"\"Kamala Harris\"\") (station:MSNBC OR station:CNN OR station:FOXNEWS)\"\n",
            "2019-05-26,Kamala Harris,316,3042,95289,0.10387902695595004,\"(\"\"Kamala Harris\"\") (station:MSNBC OR station:CNN OR station:FOXNEWS)\"\n",
            "2019-06-02,Kamala Harris,194,3099,95313,0.06260083898031624,\"(\"\"Kamala Harris\"\") (station:MSNBC OR station:CNN OR station:FOXNEWS)\"\n",
            "2019-06-09,Kamala Harris,333,4776,95839,0.06972361809045226,\"(\"\"Kamala Harris\"\") (station:MSNBC OR station:CNN OR station:FOXNEWS)\"\n",
            "2019-06-16,Kamala Harris,312,4478,96026,0.06967396158999553,\"(\"\"Kamala Harris\"\") (station:MSNBC OR station:CNN OR station:FOXNEWS)\"\n",
            "2019-06-23,Kamala Harris,1227,7316,96553,0.16771459814106068,\"(\"\"Kamala Harris\"\") (station:MSNBC OR station:CNN OR station:FOXNEWS)\"\n",
            "2019-06-30,Kamala Harris,1625,4380,92126,0.3710045662100457,\"(\"\"Kamala Harris\"\") (station:MSNBC OR station:CNN OR station:FOXNEWS)\"\n",
            "2019-07-07,Kamala Harris,669,2934,94299,0.2280163599182004,\"(\"\"Kamala Harris\"\") (station:MSNBC OR station:CNN OR station:FOXNEWS)\"\n",
            "2018-12-30,Kirsten Gillibrand,8,1268,76029,0.006309148264984227,\"(\"\"Kirsten Gillibrand\"\") (station:MSNBC OR station:CNN OR station:FOXNEWS)\"\n",
            "2019-01-06,Kirsten Gillibrand,2,1021,82964,0.0019588638589618022,\"(\"\"Kirsten Gillibrand\"\") (station:MSNBC OR station:CNN OR station:FOXNEWS)\"\n",
            "2019-01-13,Kirsten Gillibrand,94,613,82521,0.1533442088091354,\"(\"\"Kirsten Gillibrand\"\") (station:MSNBC OR station:CNN OR station:FOXNEWS)\"\n",
            "2019-01-20,Kirsten Gillibrand,93,991,83649,0.09384460141271443,\"(\"\"Kirsten Gillibrand\"\") (station:MSNBC OR station:CNN OR station:FOXNEWS)\"\n",
            "2019-01-27,Kirsten Gillibrand,43,1908,80994,0.022536687631027254,\"(\"\"Kirsten Gillibrand\"\") (station:MSNBC OR station:CNN OR station:FOXNEWS)\"\n",
            "2019-02-03,Kirsten Gillibrand,62,1449,79183,0.04278812974465148,\"(\"\"Kirsten Gillibrand\"\") (station:MSNBC OR station:CNN OR station:FOXNEWS)\"\n",
            "2019-02-10,Kirsten Gillibrand,48,1913,81893,0.02509147935180345,\"(\"\"Kirsten Gillibrand\"\") (station:MSNBC OR station:CNN OR station:FOXNEWS)\"\n",
            "2019-02-17,Kirsten Gillibrand,47,2416,82454,0.01945364238410596,\"(\"\"Kirsten Gillibrand\"\") (station:MSNBC OR station:CNN OR station:FOXNEWS)\"\n",
            "2019-02-24,Kirsten Gillibrand,23,1529,82804,0.015042511445389144,\"(\"\"Kirsten Gillibrand\"\") (station:MSNBC OR station:CNN OR station:FOXNEWS)\"\n",
            "2019-03-03,Kirsten Gillibrand,23,1567,81321,0.014677728142948309,\"(\"\"Kirsten Gillibrand\"\") (station:MSNBC OR station:CNN OR station:FOXNEWS)\"\n",
            "2019-03-10,Kirsten Gillibrand,61,2418,85812,0.02522746071133168,\"(\"\"Kirsten Gillibrand\"\") (station:MSNBC OR station:CNN OR station:FOXNEWS)\"\n",
            "2019-03-17,Kirsten Gillibrand,231,3173,95383,0.07280176489127009,\"(\"\"Kirsten Gillibrand\"\") (station:MSNBC OR station:CNN OR station:FOXNEWS)\"\n",
            "2019-03-24,Kirsten Gillibrand,56,1243,96184,0.04505229283990346,\"(\"\"Kirsten Gillibrand\"\") (station:MSNBC OR station:CNN OR station:FOXNEWS)\"\n",
            "2019-03-31,Kirsten Gillibrand,41,4205,93472,0.009750297265160524,\"(\"\"Kirsten Gillibrand\"\") (station:MSNBC OR station:CNN OR station:FOXNEWS)\"\n",
            "2019-04-07,Kirsten Gillibrand,75,2329,94405,0.0322026620867325,\"(\"\"Kirsten Gillibrand\"\") (station:MSNBC OR station:CNN OR station:FOXNEWS)\"\n",
            "2019-04-14,Kirsten Gillibrand,19,2598,95286,0.007313317936874519,\"(\"\"Kirsten Gillibrand\"\") (station:MSNBC OR station:CNN OR station:FOXNEWS)\"\n",
            "2019-04-21,Kirsten Gillibrand,16,5716,94002,0.0027991602519244225,\"(\"\"Kirsten Gillibrand\"\") (station:MSNBC OR station:CNN OR station:FOXNEWS)\"\n",
            "2019-04-28,Kirsten Gillibrand,41,3942,95339,0.010400811770674784,\"(\"\"Kirsten Gillibrand\"\") (station:MSNBC OR station:CNN OR station:FOXNEWS)\"\n",
            "2019-05-05,Kirsten Gillibrand,33,2747,94528,0.012013105205678923,\"(\"\"Kirsten Gillibrand\"\") (station:MSNBC OR station:CNN OR station:FOXNEWS)\"\n",
            "2019-05-12,Kirsten Gillibrand,82,3688,94318,0.022234273318872014,\"(\"\"Kirsten Gillibrand\"\") (station:MSNBC OR station:CNN OR station:FOXNEWS)\"\n",
            "2019-05-19,Kirsten Gillibrand,74,2644,94883,0.027987897125567318,\"(\"\"Kirsten Gillibrand\"\") (station:MSNBC OR station:CNN OR station:FOXNEWS)\"\n",
            "2019-05-26,Kirsten Gillibrand,50,3042,95289,0.01643655489809336,\"(\"\"Kirsten Gillibrand\"\") (station:MSNBC OR station:CNN OR station:FOXNEWS)\"\n",
            "2019-06-02,Kirsten Gillibrand,89,3099,95313,0.0287189415940626,\"(\"\"Kirsten Gillibrand\"\") (station:MSNBC OR station:CNN OR station:FOXNEWS)\"\n",
            "2019-06-09,Kirsten Gillibrand,83,4776,95839,0.0173785594639866,\"(\"\"Kirsten Gillibrand\"\") (station:MSNBC OR station:CNN OR station:FOXNEWS)\"\n",
            "2019-06-16,Kirsten Gillibrand,40,4478,96026,0.008932559178204555,\"(\"\"Kirsten Gillibrand\"\") (station:MSNBC OR station:CNN OR station:FOXNEWS)\"\n",
            "2019-06-23,Kirsten Gillibrand,41,7316,96553,0.005604155276107164,\"(\"\"Kirsten Gillibrand\"\") (station:MSNBC OR station:CNN OR station:FOXNEWS)\"\n",
            "2019-06-30,Kirsten Gillibrand,11,4380,92126,0.002511415525114155,\"(\"\"Kirsten Gillibrand\"\") (station:MSNBC OR station:CNN OR station:FOXNEWS)\"\n",
            "2019-07-07,Kirsten Gillibrand,30,2934,94299,0.010224948875255624,\"(\"\"Kirsten Gillibrand\"\") (station:MSNBC OR station:CNN OR station:FOXNEWS)\"\n",
            "2018-12-30,Julian Castro,5,1268,76029,0.003943217665615143,\"(\"\"Julian Castro\"\" OR \"\"Julián Castro\"\") (station:MSNBC OR station:CNN OR station:FOXNEWS)\"\n",
            "2019-01-06,Julian Castro,68,1021,82964,0.06660137120470128,\"(\"\"Julian Castro\"\" OR \"\"Julián Castro\"\") (station:MSNBC OR station:CNN OR station:FOXNEWS)\"\n",
            "2019-01-13,Julian Castro,48,613,82521,0.07830342577487764,\"(\"\"Julian Castro\"\" OR \"\"Julián Castro\"\") (station:MSNBC OR station:CNN OR station:FOXNEWS)\"\n",
            "2019-01-20,Julian Castro,8,991,83649,0.00807265388496468,\"(\"\"Julian Castro\"\" OR \"\"Julián Castro\"\") (station:MSNBC OR station:CNN OR station:FOXNEWS)\"\n",
            "2019-01-27,Julian Castro,55,1908,80994,0.028825995807127882,\"(\"\"Julian Castro\"\" OR \"\"Julián Castro\"\") (station:MSNBC OR station:CNN OR station:FOXNEWS)\"\n",
            "2019-02-03,Julian Castro,26,1449,79183,0.017943409247757072,\"(\"\"Julian Castro\"\" OR \"\"Julián Castro\"\") (station:MSNBC OR station:CNN OR station:FOXNEWS)\"\n",
            "2019-02-10,Julian Castro,15,1913,81893,0.007841087297438577,\"(\"\"Julian Castro\"\" OR \"\"Julián Castro\"\") (station:MSNBC OR station:CNN OR station:FOXNEWS)\"\n",
            "2019-02-17,Julian Castro,20,2416,82454,0.008278145695364239,\"(\"\"Julian Castro\"\" OR \"\"Julián Castro\"\") (station:MSNBC OR station:CNN OR station:FOXNEWS)\"\n",
            "2019-02-24,Julian Castro,13,1529,82804,0.008502289077828646,\"(\"\"Julian Castro\"\" OR \"\"Julián Castro\"\") (station:MSNBC OR station:CNN OR station:FOXNEWS)\"\n",
            "2019-03-03,Julian Castro,8,1567,81321,0.005105296745373325,\"(\"\"Julian Castro\"\" OR \"\"Julián Castro\"\") (station:MSNBC OR station:CNN OR station:FOXNEWS)\"\n",
            "2019-03-10,Julian Castro,28,2418,85812,0.011579818031430936,\"(\"\"Julian Castro\"\" OR \"\"Julián Castro\"\") (station:MSNBC OR station:CNN OR station:FOXNEWS)\"\n",
            "2019-03-17,Julian Castro,29,3173,95383,0.009139615505830444,\"(\"\"Julian Castro\"\" OR \"\"Julián Castro\"\") (station:MSNBC OR station:CNN OR station:FOXNEWS)\"\n",
            "2019-03-24,Julian Castro,10,1243,96184,0.008045052292839904,\"(\"\"Julian Castro\"\" OR \"\"Julián Castro\"\") (station:MSNBC OR station:CNN OR station:FOXNEWS)\"\n",
            "2019-03-31,Julian Castro,69,4205,93472,0.016409036860879904,\"(\"\"Julian Castro\"\" OR \"\"Julián Castro\"\") (station:MSNBC OR station:CNN OR station:FOXNEWS)\"\n",
            "2019-04-07,Julian Castro,92,2329,94405,0.0395019321597252,\"(\"\"Julian Castro\"\" OR \"\"Julián Castro\"\") (station:MSNBC OR station:CNN OR station:FOXNEWS)\"\n",
            "2019-04-14,Julian Castro,22,2598,95286,0.008468052347959968,\"(\"\"Julian Castro\"\" OR \"\"Julián Castro\"\") (station:MSNBC OR station:CNN OR station:FOXNEWS)\"\n",
            "2019-04-21,Julian Castro,40,5716,94002,0.006997900629811057,\"(\"\"Julian Castro\"\" OR \"\"Julián Castro\"\") (station:MSNBC OR station:CNN OR station:FOXNEWS)\"\n",
            "2019-04-28,Julian Castro,39,3942,95339,0.00989345509893455,\"(\"\"Julian Castro\"\" OR \"\"Julián Castro\"\") (station:MSNBC OR station:CNN OR station:FOXNEWS)\"\n",
            "2019-05-05,Julian Castro,7,2747,94528,0.0025482344375682567,\"(\"\"Julian Castro\"\" OR \"\"Julián Castro\"\") (station:MSNBC OR station:CNN OR station:FOXNEWS)\"\n",
            "2019-05-12,Julian Castro,13,3688,94318,0.0035249457700650758,\"(\"\"Julian Castro\"\" OR \"\"Julián Castro\"\") (station:MSNBC OR station:CNN OR station:FOXNEWS)\"\n",
            "2019-05-19,Julian Castro,24,2644,94883,0.009077155824508321,\"(\"\"Julian Castro\"\" OR \"\"Julián Castro\"\") (station:MSNBC OR station:CNN OR station:FOXNEWS)\"\n",
            "2019-05-26,Julian Castro,15,3042,95289,0.004930966469428008,\"(\"\"Julian Castro\"\" OR \"\"Julián Castro\"\") (station:MSNBC OR station:CNN OR station:FOXNEWS)\"\n",
            "2019-06-02,Julian Castro,9,3099,95313,0.002904162633107454,\"(\"\"Julian Castro\"\" OR \"\"Julián Castro\"\") (station:MSNBC OR station:CNN OR station:FOXNEWS)\"\n",
            "2019-06-09,Julian Castro,75,4776,95839,0.015703517587939697,\"(\"\"Julian Castro\"\" OR \"\"Julián Castro\"\") (station:MSNBC OR station:CNN OR station:FOXNEWS)\"\n",
            "2019-06-16,Julian Castro,28,4478,96026,0.006252791424743189,\"(\"\"Julian Castro\"\" OR \"\"Julián Castro\"\") (station:MSNBC OR station:CNN OR station:FOXNEWS)\"\n",
            "2019-06-23,Julian Castro,353,7316,96553,0.04825041006014216,\"(\"\"Julian Castro\"\" OR \"\"Julián Castro\"\") (station:MSNBC OR station:CNN OR station:FOXNEWS)\"\n",
            "2019-06-30,Julian Castro,125,4380,92126,0.028538812785388126,\"(\"\"Julian Castro\"\" OR \"\"Julián Castro\"\") (station:MSNBC OR station:CNN OR station:FOXNEWS)\"\n",
            "2019-07-07,Julian Castro,35,2934,94299,0.01192910702113156,\"(\"\"Julian Castro\"\" OR \"\"Julián Castro\"\") (station:MSNBC OR station:CNN OR station:FOXNEWS)\"\n",
            "2018-12-30,Tulsi Gabbard,0,1268,76029,0.0,\"(\"\"Tulsi Gabbard\"\") (station:MSNBC OR station:CNN OR station:FOXNEWS)\"\n",
            "2019-01-06,Tulsi Gabbard,16,1021,82964,0.015670910871694418,\"(\"\"Tulsi Gabbard\"\") (station:MSNBC OR station:CNN OR station:FOXNEWS)\"\n",
            "2019-01-13,Tulsi Gabbard,28,613,82521,0.04567699836867863,\"(\"\"Tulsi Gabbard\"\") (station:MSNBC OR station:CNN OR station:FOXNEWS)\"\n",
            "2019-01-20,Tulsi Gabbard,22,991,83649,0.02219979818365288,\"(\"\"Tulsi Gabbard\"\") (station:MSNBC OR station:CNN OR station:FOXNEWS)\"\n",
            "2019-01-27,Tulsi Gabbard,15,1908,80994,0.007861635220125786,\"(\"\"Tulsi Gabbard\"\") (station:MSNBC OR station:CNN OR station:FOXNEWS)\"\n",
            "2019-02-03,Tulsi Gabbard,34,1449,79183,0.023464458247066944,\"(\"\"Tulsi Gabbard\"\") (station:MSNBC OR station:CNN OR station:FOXNEWS)\"\n",
            "2019-02-10,Tulsi Gabbard,7,1913,81893,0.0036591740721380033,\"(\"\"Tulsi Gabbard\"\") (station:MSNBC OR station:CNN OR station:FOXNEWS)\"\n",
            "2019-02-17,Tulsi Gabbard,10,2416,82454,0.00413907284768212,\"(\"\"Tulsi Gabbard\"\") (station:MSNBC OR station:CNN OR station:FOXNEWS)\"\n",
            "2019-02-24,Tulsi Gabbard,11,1529,82804,0.007194244604316547,\"(\"\"Tulsi Gabbard\"\") (station:MSNBC OR station:CNN OR station:FOXNEWS)\"\n",
            "2019-03-03,Tulsi Gabbard,21,1567,81321,0.013401403956604978,\"(\"\"Tulsi Gabbard\"\") (station:MSNBC OR station:CNN OR station:FOXNEWS)\"\n",
            "2019-03-10,Tulsi Gabbard,26,2418,85812,0.010752688172043013,\"(\"\"Tulsi Gabbard\"\") (station:MSNBC OR station:CNN OR station:FOXNEWS)\"\n",
            "2019-03-17,Tulsi Gabbard,11,3173,95383,0.0034667507091081,\"(\"\"Tulsi Gabbard\"\") (station:MSNBC OR station:CNN OR station:FOXNEWS)\"\n",
            "2019-03-24,Tulsi Gabbard,4,1243,96184,0.0032180209171359607,\"(\"\"Tulsi Gabbard\"\") (station:MSNBC OR station:CNN OR station:FOXNEWS)\"\n",
            "2019-03-31,Tulsi Gabbard,1,4205,93472,0.00023781212841854932,\"(\"\"Tulsi Gabbard\"\") (station:MSNBC OR station:CNN OR station:FOXNEWS)\"\n",
            "2019-04-07,Tulsi Gabbard,11,2329,94405,0.0047230571060541005,\"(\"\"Tulsi Gabbard\"\") (station:MSNBC OR station:CNN OR station:FOXNEWS)\"\n",
            "2019-04-14,Tulsi Gabbard,5,2598,95286,0.001924557351809084,\"(\"\"Tulsi Gabbard\"\") (station:MSNBC OR station:CNN OR station:FOXNEWS)\"\n",
            "2019-04-21,Tulsi Gabbard,23,5716,94002,0.004023792862141357,\"(\"\"Tulsi Gabbard\"\") (station:MSNBC OR station:CNN OR station:FOXNEWS)\"\n",
            "2019-04-28,Tulsi Gabbard,7,3942,95339,0.0017757483510908167,\"(\"\"Tulsi Gabbard\"\") (station:MSNBC OR station:CNN OR station:FOXNEWS)\"\n",
            "2019-05-05,Tulsi Gabbard,5,2747,94528,0.0018201674554058972,\"(\"\"Tulsi Gabbard\"\") (station:MSNBC OR station:CNN OR station:FOXNEWS)\"\n",
            "2019-05-12,Tulsi Gabbard,12,3688,94318,0.0032537960954446853,\"(\"\"Tulsi Gabbard\"\") (station:MSNBC OR station:CNN OR station:FOXNEWS)\"\n",
            "2019-05-19,Tulsi Gabbard,11,2644,94883,0.004160363086232979,\"(\"\"Tulsi Gabbard\"\") (station:MSNBC OR station:CNN OR station:FOXNEWS)\"\n",
            "2019-05-26,Tulsi Gabbard,7,3042,95289,0.0023011176857330702,\"(\"\"Tulsi Gabbard\"\") (station:MSNBC OR station:CNN OR station:FOXNEWS)\"\n",
            "2019-06-02,Tulsi Gabbard,1,3099,95313,0.00032268473701193933,\"(\"\"Tulsi Gabbard\"\") (station:MSNBC OR station:CNN OR station:FOXNEWS)\"\n",
            "2019-06-09,Tulsi Gabbard,9,4776,95839,0.001884422110552764,\"(\"\"Tulsi Gabbard\"\") (station:MSNBC OR station:CNN OR station:FOXNEWS)\"\n",
            "2019-06-16,Tulsi Gabbard,14,4478,96026,0.0031263957123715946,\"(\"\"Tulsi Gabbard\"\") (station:MSNBC OR station:CNN OR station:FOXNEWS)\"\n",
            "2019-06-23,Tulsi Gabbard,110,7316,96553,0.015035538545653362,\"(\"\"Tulsi Gabbard\"\") (station:MSNBC OR station:CNN OR station:FOXNEWS)\"\n",
            "2019-06-30,Tulsi Gabbard,13,4380,92126,0.002968036529680365,\"(\"\"Tulsi Gabbard\"\") (station:MSNBC OR station:CNN OR station:FOXNEWS)\"\n",
            "2019-07-07,Tulsi Gabbard,2,2934,94299,0.0006816632583503749,\"(\"\"Tulsi Gabbard\"\") (station:MSNBC OR station:CNN OR station:FOXNEWS)\"\n",
            "2018-12-30,Elizabeth Warren,721,1268,76029,0.5686119873817035,\"(\"\"Elizabeth Warren\"\") (station:MSNBC OR station:CNN OR station:FOXNEWS)\"\n",
            "2019-01-06,Elizabeth Warren,424,1021,82964,0.4152791380999021,\"(\"\"Elizabeth Warren\"\") (station:MSNBC OR station:CNN OR station:FOXNEWS)\"\n",
            "2019-01-13,Elizabeth Warren,105,613,82521,0.17128874388254486,\"(\"\"Elizabeth Warren\"\") (station:MSNBC OR station:CNN OR station:FOXNEWS)\"\n",
            "2019-01-20,Elizabeth Warren,158,991,83649,0.15943491422805248,\"(\"\"Elizabeth Warren\"\") (station:MSNBC OR station:CNN OR station:FOXNEWS)\"\n",
            "2019-01-27,Elizabeth Warren,354,1908,80994,0.1855345911949685,\"(\"\"Elizabeth Warren\"\") (station:MSNBC OR station:CNN OR station:FOXNEWS)\"\n",
            "2019-02-03,Elizabeth Warren,564,1449,79183,0.3892339544513457,\"(\"\"Elizabeth Warren\"\") (station:MSNBC OR station:CNN OR station:FOXNEWS)\"\n",
            "2019-02-10,Elizabeth Warren,455,1913,81893,0.23784631468897025,\"(\"\"Elizabeth Warren\"\") (station:MSNBC OR station:CNN OR station:FOXNEWS)\"\n",
            "2019-02-17,Elizabeth Warren,309,2416,82454,0.12789735099337748,\"(\"\"Elizabeth Warren\"\") (station:MSNBC OR station:CNN OR station:FOXNEWS)\"\n",
            "2019-02-24,Elizabeth Warren,177,1529,82804,0.1157619359058208,\"(\"\"Elizabeth Warren\"\") (station:MSNBC OR station:CNN OR station:FOXNEWS)\"\n",
            "2019-03-03,Elizabeth Warren,217,1567,81321,0.13848117421825146,\"(\"\"Elizabeth Warren\"\") (station:MSNBC OR station:CNN OR station:FOXNEWS)\"\n",
            "2019-03-10,Elizabeth Warren,323,2418,85812,0.13358147229114972,\"(\"\"Elizabeth Warren\"\") (station:MSNBC OR station:CNN OR station:FOXNEWS)\"\n",
            "2019-03-17,Elizabeth Warren,417,3173,95383,0.13142136779073432,\"(\"\"Elizabeth Warren\"\") (station:MSNBC OR station:CNN OR station:FOXNEWS)\"\n",
            "2019-03-24,Elizabeth Warren,135,1243,96184,0.1086082059533387,\"(\"\"Elizabeth Warren\"\") (station:MSNBC OR station:CNN OR station:FOXNEWS)\"\n",
            "2019-03-31,Elizabeth Warren,163,4205,93472,0.03876337693222354,\"(\"\"Elizabeth Warren\"\") (station:MSNBC OR station:CNN OR station:FOXNEWS)\"\n",
            "2019-04-07,Elizabeth Warren,207,2329,94405,0.0888793473593817,\"(\"\"Elizabeth Warren\"\") (station:MSNBC OR station:CNN OR station:FOXNEWS)\"\n",
            "2019-04-14,Elizabeth Warren,292,2598,95286,0.11239414934565052,\"(\"\"Elizabeth Warren\"\") (station:MSNBC OR station:CNN OR station:FOXNEWS)\"\n",
            "2019-04-21,Elizabeth Warren,626,5716,94002,0.10951714485654304,\"(\"\"Elizabeth Warren\"\") (station:MSNBC OR station:CNN OR station:FOXNEWS)\"\n",
            "2019-04-28,Elizabeth Warren,339,3942,95339,0.08599695585996955,\"(\"\"Elizabeth Warren\"\") (station:MSNBC OR station:CNN OR station:FOXNEWS)\"\n",
            "2019-05-05,Elizabeth Warren,289,2747,94528,0.10520567892246087,\"(\"\"Elizabeth Warren\"\") (station:MSNBC OR station:CNN OR station:FOXNEWS)\"\n",
            "2019-05-12,Elizabeth Warren,358,3688,94318,0.09707158351409978,\"(\"\"Elizabeth Warren\"\") (station:MSNBC OR station:CNN OR station:FOXNEWS)\"\n",
            "2019-05-19,Elizabeth Warren,258,2644,94883,0.09757942511346444,\"(\"\"Elizabeth Warren\"\") (station:MSNBC OR station:CNN OR station:FOXNEWS)\"\n",
            "2019-05-26,Elizabeth Warren,437,3042,95289,0.14365548980933596,\"(\"\"Elizabeth Warren\"\") (station:MSNBC OR station:CNN OR station:FOXNEWS)\"\n",
            "2019-06-02,Elizabeth Warren,414,3099,95313,0.1335914811229429,\"(\"\"Elizabeth Warren\"\") (station:MSNBC OR station:CNN OR station:FOXNEWS)\"\n",
            "2019-06-09,Elizabeth Warren,782,4776,95839,0.1637353433835846,\"(\"\"Elizabeth Warren\"\") (station:MSNBC OR station:CNN OR station:FOXNEWS)\"\n",
            "2019-06-16,Elizabeth Warren,696,4478,96026,0.15542652970075924,\"(\"\"Elizabeth Warren\"\") (station:MSNBC OR station:CNN OR station:FOXNEWS)\"\n",
            "2019-06-23,Elizabeth Warren,1117,7316,96553,0.1526790595954073,\"(\"\"Elizabeth Warren\"\") (station:MSNBC OR station:CNN OR station:FOXNEWS)\"\n",
            "2019-06-30,Elizabeth Warren,517,4380,92126,0.11803652968036528,\"(\"\"Elizabeth Warren\"\") (station:MSNBC OR station:CNN OR station:FOXNEWS)\"\n",
            "2019-07-07,Elizabeth Warren,400,2934,94299,0.136332651670075,\"(\"\"Elizabeth Warren\"\") (station:MSNBC OR station:CNN OR station:FOXNEWS)\"\n",
            "2018-12-30,Tim Ryan,14,1268,76029,0.011041009463722398,\"(\"\"Tim Ryan\"\") (station:MSNBC OR station:CNN OR station:FOXNEWS)\"\n",
            "2019-01-06,Tim Ryan,3,1021,82964,0.002938295788442703,\"(\"\"Tim Ryan\"\") (station:MSNBC OR station:CNN OR station:FOXNEWS)\"\n",
            "2019-01-13,Tim Ryan,1,613,82521,0.0016313213703099511,\"(\"\"Tim Ryan\"\") (station:MSNBC OR station:CNN OR station:FOXNEWS)\"\n",
            "2019-01-20,Tim Ryan,1,991,83649,0.001009081735620585,\"(\"\"Tim Ryan\"\") (station:MSNBC OR station:CNN OR station:FOXNEWS)\"\n",
            "2019-01-27,Tim Ryan,2,1908,80994,0.0010482180293501047,\"(\"\"Tim Ryan\"\") (station:MSNBC OR station:CNN OR station:FOXNEWS)\"\n",
            "2019-02-03,Tim Ryan,4,1449,79183,0.0027605244996549345,\"(\"\"Tim Ryan\"\") (station:MSNBC OR station:CNN OR station:FOXNEWS)\"\n",
            "2019-02-10,Tim Ryan,18,1913,81893,0.009409304756926294,\"(\"\"Tim Ryan\"\") (station:MSNBC OR station:CNN OR station:FOXNEWS)\"\n",
            "2019-02-17,Tim Ryan,5,2416,82454,0.00206953642384106,\"(\"\"Tim Ryan\"\") (station:MSNBC OR station:CNN OR station:FOXNEWS)\"\n",
            "2019-02-24,Tim Ryan,3,1529,82804,0.0019620667102681487,\"(\"\"Tim Ryan\"\") (station:MSNBC OR station:CNN OR station:FOXNEWS)\"\n",
            "2019-03-03,Tim Ryan,0,1567,81321,0.0,\"(\"\"Tim Ryan\"\") (station:MSNBC OR station:CNN OR station:FOXNEWS)\"\n",
            "2019-03-10,Tim Ryan,4,2418,85812,0.0016542597187758476,\"(\"\"Tim Ryan\"\") (station:MSNBC OR station:CNN OR station:FOXNEWS)\"\n",
            "2019-03-17,Tim Ryan,1,3173,95383,0.00031515915537346363,\"(\"\"Tim Ryan\"\") (station:MSNBC OR station:CNN OR station:FOXNEWS)\"\n",
            "2019-03-24,Tim Ryan,1,1243,96184,0.0008045052292839902,\"(\"\"Tim Ryan\"\") (station:MSNBC OR station:CNN OR station:FOXNEWS)\"\n",
            "2019-03-31,Tim Ryan,165,4205,93472,0.03923900118906065,\"(\"\"Tim Ryan\"\") (station:MSNBC OR station:CNN OR station:FOXNEWS)\"\n",
            "2019-04-07,Tim Ryan,43,2329,94405,0.0184628595963933,\"(\"\"Tim Ryan\"\") (station:MSNBC OR station:CNN OR station:FOXNEWS)\"\n",
            "2019-04-14,Tim Ryan,31,2598,95286,0.01193225558121632,\"(\"\"Tim Ryan\"\") (station:MSNBC OR station:CNN OR station:FOXNEWS)\"\n",
            "2019-04-21,Tim Ryan,28,5716,94002,0.00489853044086774,\"(\"\"Tim Ryan\"\") (station:MSNBC OR station:CNN OR station:FOXNEWS)\"\n",
            "2019-04-28,Tim Ryan,13,3942,95339,0.0032978183663115172,\"(\"\"Tim Ryan\"\") (station:MSNBC OR station:CNN OR station:FOXNEWS)\"\n",
            "2019-05-05,Tim Ryan,5,2747,94528,0.0018201674554058972,\"(\"\"Tim Ryan\"\") (station:MSNBC OR station:CNN OR station:FOXNEWS)\"\n",
            "2019-05-12,Tim Ryan,11,3688,94318,0.002982646420824295,\"(\"\"Tim Ryan\"\") (station:MSNBC OR station:CNN OR station:FOXNEWS)\"\n",
            "2019-05-19,Tim Ryan,19,2644,94883,0.0071860816944024205,\"(\"\"Tim Ryan\"\") (station:MSNBC OR station:CNN OR station:FOXNEWS)\"\n",
            "2019-05-26,Tim Ryan,8,3042,95289,0.0026298487836949377,\"(\"\"Tim Ryan\"\") (station:MSNBC OR station:CNN OR station:FOXNEWS)\"\n",
            "2019-06-02,Tim Ryan,36,3099,95313,0.011616650532429816,\"(\"\"Tim Ryan\"\") (station:MSNBC OR station:CNN OR station:FOXNEWS)\"\n",
            "2019-06-09,Tim Ryan,43,4776,95839,0.009003350083752094,\"(\"\"Tim Ryan\"\") (station:MSNBC OR station:CNN OR station:FOXNEWS)\"\n",
            "2019-06-16,Tim Ryan,53,4478,96026,0.011835640911121036,\"(\"\"Tim Ryan\"\") (station:MSNBC OR station:CNN OR station:FOXNEWS)\"\n",
            "2019-06-23,Tim Ryan,129,7316,96553,0.017632586112629852,\"(\"\"Tim Ryan\"\") (station:MSNBC OR station:CNN OR station:FOXNEWS)\"\n",
            "2019-06-30,Tim Ryan,34,4380,92126,0.007762557077625571,\"(\"\"Tim Ryan\"\") (station:MSNBC OR station:CNN OR station:FOXNEWS)\"\n",
            "2019-07-07,Tim Ryan,9,2934,94299,0.003067484662576687,\"(\"\"Tim Ryan\"\") (station:MSNBC OR station:CNN OR station:FOXNEWS)\"\n",
            "2018-12-30,Eric Swalwell,31,1268,76029,0.02444794952681388,\"(\"\"Eric Swalwell\"\") (station:MSNBC OR station:CNN OR station:FOXNEWS)\"\n",
            "2019-01-06,Eric Swalwell,22,1021,82964,0.021547502448579826,\"(\"\"Eric Swalwell\"\") (station:MSNBC OR station:CNN OR station:FOXNEWS)\"\n",
            "2019-01-13,Eric Swalwell,19,613,82521,0.030995106035889067,\"(\"\"Eric Swalwell\"\") (station:MSNBC OR station:CNN OR station:FOXNEWS)\"\n",
            "2019-01-20,Eric Swalwell,31,991,83649,0.031281533804238135,\"(\"\"Eric Swalwell\"\") (station:MSNBC OR station:CNN OR station:FOXNEWS)\"\n",
            "2019-01-27,Eric Swalwell,27,1908,80994,0.014150943396226415,\"(\"\"Eric Swalwell\"\") (station:MSNBC OR station:CNN OR station:FOXNEWS)\"\n",
            "2019-02-03,Eric Swalwell,28,1449,79183,0.01932367149758454,\"(\"\"Eric Swalwell\"\") (station:MSNBC OR station:CNN OR station:FOXNEWS)\"\n",
            "2019-02-10,Eric Swalwell,14,1913,81893,0.007318348144276007,\"(\"\"Eric Swalwell\"\") (station:MSNBC OR station:CNN OR station:FOXNEWS)\"\n",
            "2019-02-17,Eric Swalwell,19,2416,82454,0.007864238410596027,\"(\"\"Eric Swalwell\"\") (station:MSNBC OR station:CNN OR station:FOXNEWS)\"\n",
            "2019-02-24,Eric Swalwell,29,1529,82804,0.01896664486592544,\"(\"\"Eric Swalwell\"\") (station:MSNBC OR station:CNN OR station:FOXNEWS)\"\n",
            "2019-03-03,Eric Swalwell,21,1567,81321,0.013401403956604978,\"(\"\"Eric Swalwell\"\") (station:MSNBC OR station:CNN OR station:FOXNEWS)\"\n",
            "2019-03-10,Eric Swalwell,9,2418,85812,0.003722084367245658,\"(\"\"Eric Swalwell\"\") (station:MSNBC OR station:CNN OR station:FOXNEWS)\"\n",
            "2019-03-17,Eric Swalwell,30,3173,95383,0.009454774661203908,\"(\"\"Eric Swalwell\"\") (station:MSNBC OR station:CNN OR station:FOXNEWS)\"\n",
            "2019-03-24,Eric Swalwell,52,1243,96184,0.0418342719227675,\"(\"\"Eric Swalwell\"\") (station:MSNBC OR station:CNN OR station:FOXNEWS)\"\n",
            "2019-03-31,Eric Swalwell,20,4205,93472,0.004756242568370986,\"(\"\"Eric Swalwell\"\") (station:MSNBC OR station:CNN OR station:FOXNEWS)\"\n",
            "2019-04-07,Eric Swalwell,105,2329,94405,0.0450837269214255,\"(\"\"Eric Swalwell\"\") (station:MSNBC OR station:CNN OR station:FOXNEWS)\"\n",
            "2019-04-14,Eric Swalwell,96,2598,95286,0.03695150115473441,\"(\"\"Eric Swalwell\"\") (station:MSNBC OR station:CNN OR station:FOXNEWS)\"\n",
            "2019-04-21,Eric Swalwell,45,5716,94002,0.007872638208537439,\"(\"\"Eric Swalwell\"\") (station:MSNBC OR station:CNN OR station:FOXNEWS)\"\n",
            "2019-04-28,Eric Swalwell,43,3942,95339,0.010908168442415015,\"(\"\"Eric Swalwell\"\") (station:MSNBC OR station:CNN OR station:FOXNEWS)\"\n",
            "2019-05-05,Eric Swalwell,39,2747,94528,0.014197306152166,\"(\"\"Eric Swalwell\"\") (station:MSNBC OR station:CNN OR station:FOXNEWS)\"\n",
            "2019-05-12,Eric Swalwell,14,3688,94318,0.0037960954446854657,\"(\"\"Eric Swalwell\"\") (station:MSNBC OR station:CNN OR station:FOXNEWS)\"\n",
            "2019-05-19,Eric Swalwell,25,2644,94883,0.0094553706505295,\"(\"\"Eric Swalwell\"\") (station:MSNBC OR station:CNN OR station:FOXNEWS)\"\n",
            "2019-05-26,Eric Swalwell,59,3042,95289,0.01939513477975016,\"(\"\"Eric Swalwell\"\") (station:MSNBC OR station:CNN OR station:FOXNEWS)\"\n",
            "2019-06-02,Eric Swalwell,44,3099,95313,0.01419812842852533,\"(\"\"Eric Swalwell\"\") (station:MSNBC OR station:CNN OR station:FOXNEWS)\"\n",
            "2019-06-09,Eric Swalwell,53,4776,95839,0.01109715242881072,\"(\"\"Eric Swalwell\"\") (station:MSNBC OR station:CNN OR station:FOXNEWS)\"\n",
            "2019-06-16,Eric Swalwell,37,4478,96026,0.008262617239839214,\"(\"\"Eric Swalwell\"\") (station:MSNBC OR station:CNN OR station:FOXNEWS)\"\n",
            "2019-06-23,Eric Swalwell,126,7316,96553,0.017222525970475668,\"(\"\"Eric Swalwell\"\") (station:MSNBC OR station:CNN OR station:FOXNEWS)\"\n",
            "2019-06-30,Eric Swalwell,16,4380,92126,0.00365296803652968,\"(\"\"Eric Swalwell\"\") (station:MSNBC OR station:CNN OR station:FOXNEWS)\"\n",
            "2019-07-07,Eric Swalwell,107,2934,94299,0.036468984321745064,\"(\"\"Eric Swalwell\"\") (station:MSNBC OR station:CNN OR station:FOXNEWS)\"\n",
            "2018-12-30,Joe Biden,177,1268,76029,0.13958990536277602,\"(\"\"Joe Biden\"\") (station:MSNBC OR station:CNN OR station:FOXNEWS)\"\n",
            "2019-01-06,Joe Biden,183,1021,82964,0.1792360430950049,\"(\"\"Joe Biden\"\") (station:MSNBC OR station:CNN OR station:FOXNEWS)\"\n",
            "2019-01-13,Joe Biden,104,613,82521,0.16965742251223492,\"(\"\"Joe Biden\"\") (station:MSNBC OR station:CNN OR station:FOXNEWS)\"\n",
            "2019-01-20,Joe Biden,155,991,83649,0.15640766902119072,\"(\"\"Joe Biden\"\") (station:MSNBC OR station:CNN OR station:FOXNEWS)\"\n",
            "2019-01-27,Joe Biden,185,1908,80994,0.09696016771488468,\"(\"\"Joe Biden\"\") (station:MSNBC OR station:CNN OR station:FOXNEWS)\"\n",
            "2019-02-03,Joe Biden,156,1449,79183,0.10766045548654243,\"(\"\"Joe Biden\"\") (station:MSNBC OR station:CNN OR station:FOXNEWS)\"\n",
            "2019-02-10,Joe Biden,171,1913,81893,0.08938839519079979,\"(\"\"Joe Biden\"\") (station:MSNBC OR station:CNN OR station:FOXNEWS)\"\n",
            "2019-02-17,Joe Biden,317,2416,82454,0.13120860927152314,\"(\"\"Joe Biden\"\") (station:MSNBC OR station:CNN OR station:FOXNEWS)\"\n",
            "2019-02-24,Joe Biden,283,1529,82804,0.18508829300196208,\"(\"\"Joe Biden\"\") (station:MSNBC OR station:CNN OR station:FOXNEWS)\"\n",
            "2019-03-03,Joe Biden,440,1567,81321,0.2807913209955329,\"(\"\"Joe Biden\"\") (station:MSNBC OR station:CNN OR station:FOXNEWS)\"\n",
            "2019-03-10,Joe Biden,602,2418,85812,0.2489660876757651,\"(\"\"Joe Biden\"\") (station:MSNBC OR station:CNN OR station:FOXNEWS)\"\n",
            "2019-03-17,Joe Biden,876,3173,95383,0.2760794201071541,\"(\"\"Joe Biden\"\") (station:MSNBC OR station:CNN OR station:FOXNEWS)\"\n",
            "2019-03-24,Joe Biden,321,1243,96184,0.2582461786001609,\"(\"\"Joe Biden\"\") (station:MSNBC OR station:CNN OR station:FOXNEWS)\"\n",
            "2019-03-31,Joe Biden,2690,4205,93472,0.6397146254458977,\"(\"\"Joe Biden\"\") (station:MSNBC OR station:CNN OR station:FOXNEWS)\"\n",
            "2019-04-07,Joe Biden,460,2329,94405,0.19750966079862606,\"(\"\"Joe Biden\"\") (station:MSNBC OR station:CNN OR station:FOXNEWS)\"\n",
            "2019-04-14,Joe Biden,486,2598,95286,0.18706697459584296,\"(\"\"Joe Biden\"\") (station:MSNBC OR station:CNN OR station:FOXNEWS)\"\n",
            "2019-04-21,Joe Biden,3393,5716,94002,0.5935969209237228,\"(\"\"Joe Biden\"\") (station:MSNBC OR station:CNN OR station:FOXNEWS)\"\n",
            "2019-04-28,Joe Biden,2232,3942,95339,0.5662100456621004,\"(\"\"Joe Biden\"\") (station:MSNBC OR station:CNN OR station:FOXNEWS)\"\n",
            "2019-05-05,Joe Biden,1411,2747,94528,0.5136512559155443,\"(\"\"Joe Biden\"\") (station:MSNBC OR station:CNN OR station:FOXNEWS)\"\n",
            "2019-05-12,Joe Biden,1715,3688,94318,0.4650216919739696,\"(\"\"Joe Biden\"\") (station:MSNBC OR station:CNN OR station:FOXNEWS)\"\n",
            "2019-05-19,Joe Biden,1160,2644,94883,0.4387291981845689,\"(\"\"Joe Biden\"\") (station:MSNBC OR station:CNN OR station:FOXNEWS)\"\n",
            "2019-05-26,Joe Biden,1610,3042,95289,0.5292570677186061,\"(\"\"Joe Biden\"\") (station:MSNBC OR station:CNN OR station:FOXNEWS)\"\n",
            "2019-06-02,Joe Biden,1706,3099,95313,0.5505001613423685,\"(\"\"Joe Biden\"\") (station:MSNBC OR station:CNN OR station:FOXNEWS)\"\n",
            "2019-06-09,Joe Biden,2642,4776,95839,0.5531825795644891,\"(\"\"Joe Biden\"\") (station:MSNBC OR station:CNN OR station:FOXNEWS)\"\n",
            "2019-06-16,Joe Biden,2488,4478,96026,0.5556051808843233,\"(\"\"Joe Biden\"\") (station:MSNBC OR station:CNN OR station:FOXNEWS)\"\n",
            "2019-06-23,Joe Biden,2771,7316,96553,0.3787588846364133,\"(\"\"Joe Biden\"\") (station:MSNBC OR station:CNN OR station:FOXNEWS)\"\n",
            "2019-06-30,Joe Biden,1899,4380,92126,0.4335616438356165,\"(\"\"Joe Biden\"\") (station:MSNBC OR station:CNN OR station:FOXNEWS)\"\n",
            "2019-07-07,Joe Biden,1484,2934,94299,0.5057941376959781,\"(\"\"Joe Biden\"\") (station:MSNBC OR station:CNN OR station:FOXNEWS)\"\n",
            "2018-12-30,Michael Bennet,0,1268,76029,0.0,\"(\"\"Michael Bennet\"\") (station:MSNBC OR station:CNN OR station:FOXNEWS)\"\n",
            "2019-01-06,Michael Bennet,0,1021,82964,0.0,\"(\"\"Michael Bennet\"\") (station:MSNBC OR station:CNN OR station:FOXNEWS)\"\n",
            "2019-01-13,Michael Bennet,0,613,82521,0.0,\"(\"\"Michael Bennet\"\") (station:MSNBC OR station:CNN OR station:FOXNEWS)\"\n",
            "2019-01-20,Michael Bennet,18,991,83649,0.018163471241170532,\"(\"\"Michael Bennet\"\") (station:MSNBC OR station:CNN OR station:FOXNEWS)\"\n",
            "2019-01-27,Michael Bennet,3,1908,80994,0.0015723270440251573,\"(\"\"Michael Bennet\"\") (station:MSNBC OR station:CNN OR station:FOXNEWS)\"\n",
            "2019-02-03,Michael Bennet,0,1449,79183,0.0,\"(\"\"Michael Bennet\"\") (station:MSNBC OR station:CNN OR station:FOXNEWS)\"\n",
            "2019-02-10,Michael Bennet,6,1913,81893,0.003136434918975432,\"(\"\"Michael Bennet\"\") (station:MSNBC OR station:CNN OR station:FOXNEWS)\"\n",
            "2019-02-17,Michael Bennet,2,2416,82454,0.0008278145695364237,\"(\"\"Michael Bennet\"\") (station:MSNBC OR station:CNN OR station:FOXNEWS)\"\n",
            "2019-02-24,Michael Bennet,2,1529,82804,0.0013080444735120995,\"(\"\"Michael Bennet\"\") (station:MSNBC OR station:CNN OR station:FOXNEWS)\"\n",
            "2019-03-03,Michael Bennet,1,1567,81321,0.0006381620931716656,\"(\"\"Michael Bennet\"\") (station:MSNBC OR station:CNN OR station:FOXNEWS)\"\n",
            "2019-03-10,Michael Bennet,0,2418,85812,0.0,\"(\"\"Michael Bennet\"\") (station:MSNBC OR station:CNN OR station:FOXNEWS)\"\n",
            "2019-03-17,Michael Bennet,4,3173,95383,0.0012606366214938545,\"(\"\"Michael Bennet\"\") (station:MSNBC OR station:CNN OR station:FOXNEWS)\"\n",
            "2019-03-24,Michael Bennet,0,1243,96184,0.0,\"(\"\"Michael Bennet\"\") (station:MSNBC OR station:CNN OR station:FOXNEWS)\"\n",
            "2019-03-31,Michael Bennet,10,4205,93472,0.002378121284185493,\"(\"\"Michael Bennet\"\") (station:MSNBC OR station:CNN OR station:FOXNEWS)\"\n",
            "2019-04-07,Michael Bennet,9,2329,94405,0.003864319450407901,\"(\"\"Michael Bennet\"\") (station:MSNBC OR station:CNN OR station:FOXNEWS)\"\n",
            "2019-04-14,Michael Bennet,0,2598,95286,0.0,\"(\"\"Michael Bennet\"\") (station:MSNBC OR station:CNN OR station:FOXNEWS)\"\n",
            "2019-04-21,Michael Bennet,0,5716,94002,0.0,\"(\"\"Michael Bennet\"\") (station:MSNBC OR station:CNN OR station:FOXNEWS)\"\n",
            "2019-04-28,Michael Bennet,46,3942,95339,0.011669203450025369,\"(\"\"Michael Bennet\"\") (station:MSNBC OR station:CNN OR station:FOXNEWS)\"\n",
            "2019-05-05,Michael Bennet,27,2747,94528,0.009828904259191844,\"(\"\"Michael Bennet\"\") (station:MSNBC OR station:CNN OR station:FOXNEWS)\"\n",
            "2019-05-12,Michael Bennet,11,3688,94318,0.002982646420824295,\"(\"\"Michael Bennet\"\") (station:MSNBC OR station:CNN OR station:FOXNEWS)\"\n",
            "2019-05-19,Michael Bennet,0,2644,94883,0.0,\"(\"\"Michael Bennet\"\") (station:MSNBC OR station:CNN OR station:FOXNEWS)\"\n",
            "2019-05-26,Michael Bennet,21,3042,95289,0.006903353057199211,\"(\"\"Michael Bennet\"\") (station:MSNBC OR station:CNN OR station:FOXNEWS)\"\n",
            "2019-06-02,Michael Bennet,18,3099,95313,0.005808325266214908,\"(\"\"Michael Bennet\"\") (station:MSNBC OR station:CNN OR station:FOXNEWS)\"\n",
            "2019-06-09,Michael Bennet,24,4776,95839,0.005025125628140704,\"(\"\"Michael Bennet\"\") (station:MSNBC OR station:CNN OR station:FOXNEWS)\"\n",
            "2019-06-16,Michael Bennet,16,4478,96026,0.003573023671281822,\"(\"\"Michael Bennet\"\") (station:MSNBC OR station:CNN OR station:FOXNEWS)\"\n",
            "2019-06-23,Michael Bennet,52,7316,96553,0.007107709130672498,\"(\"\"Michael Bennet\"\") (station:MSNBC OR station:CNN OR station:FOXNEWS)\"\n",
            "2019-06-30,Michael Bennet,15,4380,92126,0.003424657534246575,\"(\"\"Michael Bennet\"\") (station:MSNBC OR station:CNN OR station:FOXNEWS)\"\n",
            "2019-07-07,Michael Bennet,21,2934,94299,0.0071574642126789375,\"(\"\"Michael Bennet\"\") (station:MSNBC OR station:CNN OR station:FOXNEWS)\"\n",
            "2018-12-30,Seth Moulton,0,1268,76029,0.0,\"(\"\"Seth Moulton\"\") (station:MSNBC OR station:CNN OR station:FOXNEWS)\"\n",
            "2019-01-06,Seth Moulton,0,1021,82964,0.0,\"(\"\"Seth Moulton\"\") (station:MSNBC OR station:CNN OR station:FOXNEWS)\"\n",
            "2019-01-13,Seth Moulton,0,613,82521,0.0,\"(\"\"Seth Moulton\"\") (station:MSNBC OR station:CNN OR station:FOXNEWS)\"\n",
            "2019-01-20,Seth Moulton,0,991,83649,0.0,\"(\"\"Seth Moulton\"\") (station:MSNBC OR station:CNN OR station:FOXNEWS)\"\n",
            "2019-01-27,Seth Moulton,0,1908,80994,0.0,\"(\"\"Seth Moulton\"\") (station:MSNBC OR station:CNN OR station:FOXNEWS)\"\n",
            "2019-02-03,Seth Moulton,0,1449,79183,0.0,\"(\"\"Seth Moulton\"\") (station:MSNBC OR station:CNN OR station:FOXNEWS)\"\n",
            "2019-02-10,Seth Moulton,1,1913,81893,0.0005227391531625719,\"(\"\"Seth Moulton\"\") (station:MSNBC OR station:CNN OR station:FOXNEWS)\"\n",
            "2019-02-17,Seth Moulton,0,2416,82454,0.0,\"(\"\"Seth Moulton\"\") (station:MSNBC OR station:CNN OR station:FOXNEWS)\"\n",
            "2019-02-24,Seth Moulton,2,1529,82804,0.0013080444735120995,\"(\"\"Seth Moulton\"\") (station:MSNBC OR station:CNN OR station:FOXNEWS)\"\n",
            "2019-03-03,Seth Moulton,1,1567,81321,0.0006381620931716656,\"(\"\"Seth Moulton\"\") (station:MSNBC OR station:CNN OR station:FOXNEWS)\"\n",
            "2019-03-10,Seth Moulton,8,2418,85812,0.003308519437551696,\"(\"\"Seth Moulton\"\") (station:MSNBC OR station:CNN OR station:FOXNEWS)\"\n",
            "2019-03-17,Seth Moulton,0,3173,95383,0.0,\"(\"\"Seth Moulton\"\") (station:MSNBC OR station:CNN OR station:FOXNEWS)\"\n",
            "2019-03-24,Seth Moulton,1,1243,96184,0.0008045052292839902,\"(\"\"Seth Moulton\"\") (station:MSNBC OR station:CNN OR station:FOXNEWS)\"\n",
            "2019-03-31,Seth Moulton,5,4205,93472,0.0011890606420927464,\"(\"\"Seth Moulton\"\") (station:MSNBC OR station:CNN OR station:FOXNEWS)\"\n",
            "2019-04-07,Seth Moulton,4,2329,94405,0.0017174753112924005,\"(\"\"Seth Moulton\"\") (station:MSNBC OR station:CNN OR station:FOXNEWS)\"\n",
            "2019-04-14,Seth Moulton,4,2598,95286,0.001539645881447267,\"(\"\"Seth Moulton\"\") (station:MSNBC OR station:CNN OR station:FOXNEWS)\"\n",
            "2019-04-21,Seth Moulton,76,5716,94002,0.013296011196641007,\"(\"\"Seth Moulton\"\") (station:MSNBC OR station:CNN OR station:FOXNEWS)\"\n",
            "2019-04-28,Seth Moulton,6,3942,95339,0.0015220700152207,\"(\"\"Seth Moulton\"\") (station:MSNBC OR station:CNN OR station:FOXNEWS)\"\n",
            "2019-05-05,Seth Moulton,3,2747,94528,0.0010921004732435383,\"(\"\"Seth Moulton\"\") (station:MSNBC OR station:CNN OR station:FOXNEWS)\"\n",
            "2019-05-12,Seth Moulton,29,3688,94318,0.007863340563991324,\"(\"\"Seth Moulton\"\") (station:MSNBC OR station:CNN OR station:FOXNEWS)\"\n",
            "2019-05-19,Seth Moulton,14,2644,94883,0.00529500756429652,\"(\"\"Seth Moulton\"\") (station:MSNBC OR station:CNN OR station:FOXNEWS)\"\n",
            "2019-05-26,Seth Moulton,32,3042,95289,0.01051939513477975,\"(\"\"Seth Moulton\"\") (station:MSNBC OR station:CNN OR station:FOXNEWS)\"\n",
            "2019-06-02,Seth Moulton,47,3099,95313,0.015166182639561147,\"(\"\"Seth Moulton\"\") (station:MSNBC OR station:CNN OR station:FOXNEWS)\"\n",
            "2019-06-09,Seth Moulton,38,4776,95839,0.007956448911222781,\"(\"\"Seth Moulton\"\") (station:MSNBC OR station:CNN OR station:FOXNEWS)\"\n",
            "2019-06-16,Seth Moulton,8,4478,96026,0.001786511835640911,\"(\"\"Seth Moulton\"\") (station:MSNBC OR station:CNN OR station:FOXNEWS)\"\n",
            "2019-06-23,Seth Moulton,10,7316,96553,0.001366867140513942,\"(\"\"Seth Moulton\"\") (station:MSNBC OR station:CNN OR station:FOXNEWS)\"\n",
            "2019-06-30,Seth Moulton,3,4380,92126,0.0006849315068493152,\"(\"\"Seth Moulton\"\") (station:MSNBC OR station:CNN OR station:FOXNEWS)\"\n",
            "2019-07-07,Seth Moulton,2,2934,94299,0.0006816632583503749,\"(\"\"Seth Moulton\"\") (station:MSNBC OR station:CNN OR station:FOXNEWS)\"\n",
            "2018-12-30,Steve Bullock,0,1268,76029,0.0,\"(\"\"Steve Bullock\"\") (station:MSNBC OR station:CNN OR station:FOXNEWS)\"\n",
            "2019-01-06,Steve Bullock,0,1021,82964,0.0,\"(\"\"Steve Bullock\"\") (station:MSNBC OR station:CNN OR station:FOXNEWS)\"\n",
            "2019-01-13,Steve Bullock,0,613,82521,0.0,\"(\"\"Steve Bullock\"\") (station:MSNBC OR station:CNN OR station:FOXNEWS)\"\n",
            "2019-01-20,Steve Bullock,0,991,83649,0.0,\"(\"\"Steve Bullock\"\") (station:MSNBC OR station:CNN OR station:FOXNEWS)\"\n",
            "2019-01-27,Steve Bullock,5,1908,80994,0.002620545073375262,\"(\"\"Steve Bullock\"\") (station:MSNBC OR station:CNN OR station:FOXNEWS)\"\n",
            "2019-02-03,Steve Bullock,0,1449,79183,0.0,\"(\"\"Steve Bullock\"\") (station:MSNBC OR station:CNN OR station:FOXNEWS)\"\n",
            "2019-02-10,Steve Bullock,0,1913,81893,0.0,\"(\"\"Steve Bullock\"\") (station:MSNBC OR station:CNN OR station:FOXNEWS)\"\n",
            "2019-02-17,Steve Bullock,0,2416,82454,0.0,\"(\"\"Steve Bullock\"\") (station:MSNBC OR station:CNN OR station:FOXNEWS)\"\n",
            "2019-02-24,Steve Bullock,0,1529,82804,0.0,\"(\"\"Steve Bullock\"\") (station:MSNBC OR station:CNN OR station:FOXNEWS)\"\n",
            "2019-03-03,Steve Bullock,3,1567,81321,0.0019144862795149968,\"(\"\"Steve Bullock\"\") (station:MSNBC OR station:CNN OR station:FOXNEWS)\"\n",
            "2019-03-10,Steve Bullock,0,2418,85812,0.0,\"(\"\"Steve Bullock\"\") (station:MSNBC OR station:CNN OR station:FOXNEWS)\"\n",
            "2019-03-17,Steve Bullock,0,3173,95383,0.0,\"(\"\"Steve Bullock\"\") (station:MSNBC OR station:CNN OR station:FOXNEWS)\"\n",
            "2019-03-24,Steve Bullock,0,1243,96184,0.0,\"(\"\"Steve Bullock\"\") (station:MSNBC OR station:CNN OR station:FOXNEWS)\"\n",
            "2019-03-31,Steve Bullock,1,4205,93472,0.00023781212841854932,\"(\"\"Steve Bullock\"\") (station:MSNBC OR station:CNN OR station:FOXNEWS)\"\n",
            "2019-04-07,Steve Bullock,2,2329,94405,0.0008587376556462001,\"(\"\"Steve Bullock\"\") (station:MSNBC OR station:CNN OR station:FOXNEWS)\"\n",
            "2019-04-14,Steve Bullock,0,2598,95286,0.0,\"(\"\"Steve Bullock\"\") (station:MSNBC OR station:CNN OR station:FOXNEWS)\"\n",
            "2019-04-21,Steve Bullock,1,5716,94002,0.0001749475157452764,\"(\"\"Steve Bullock\"\") (station:MSNBC OR station:CNN OR station:FOXNEWS)\"\n",
            "2019-04-28,Steve Bullock,6,3942,95339,0.0015220700152207,\"(\"\"Steve Bullock\"\") (station:MSNBC OR station:CNN OR station:FOXNEWS)\"\n",
            "2019-05-05,Steve Bullock,5,2747,94528,0.0018201674554058972,\"(\"\"Steve Bullock\"\") (station:MSNBC OR station:CNN OR station:FOXNEWS)\"\n",
            "2019-05-12,Steve Bullock,162,3688,94318,0.04392624728850325,\"(\"\"Steve Bullock\"\") (station:MSNBC OR station:CNN OR station:FOXNEWS)\"\n",
            "2019-05-19,Steve Bullock,42,2644,94883,0.01588502269288956,\"(\"\"Steve Bullock\"\") (station:MSNBC OR station:CNN OR station:FOXNEWS)\"\n",
            "2019-05-26,Steve Bullock,12,3042,95289,0.003944773175542407,\"(\"\"Steve Bullock\"\") (station:MSNBC OR station:CNN OR station:FOXNEWS)\"\n",
            "2019-06-02,Steve Bullock,12,3099,95313,0.0038722168441432717,\"(\"\"Steve Bullock\"\") (station:MSNBC OR station:CNN OR station:FOXNEWS)\"\n",
            "2019-06-09,Steve Bullock,66,4776,95839,0.013819095477386936,\"(\"\"Steve Bullock\"\") (station:MSNBC OR station:CNN OR station:FOXNEWS)\"\n",
            "2019-06-16,Steve Bullock,16,4478,96026,0.003573023671281822,\"(\"\"Steve Bullock\"\") (station:MSNBC OR station:CNN OR station:FOXNEWS)\"\n",
            "2019-06-23,Steve Bullock,29,7316,96553,0.003963914707490432,\"(\"\"Steve Bullock\"\") (station:MSNBC OR station:CNN OR station:FOXNEWS)\"\n",
            "2019-06-30,Steve Bullock,3,4380,92126,0.0006849315068493152,\"(\"\"Steve Bullock\"\") (station:MSNBC OR station:CNN OR station:FOXNEWS)\"\n",
            "2019-07-07,Steve Bullock,5,2934,94299,0.0017041581458759373,\"(\"\"Steve Bullock\"\") (station:MSNBC OR station:CNN OR station:FOXNEWS)\"\n",
            "2018-12-30,Bill de Blasio,2,1268,76029,0.0015772870662460567,\"(\"\"Bill de Blasio\"\") (station:MSNBC OR station:CNN OR station:FOXNEWS)\"\n",
            "2019-01-06,Bill de Blasio,23,1021,82964,0.022526934378060724,\"(\"\"Bill de Blasio\"\") (station:MSNBC OR station:CNN OR station:FOXNEWS)\"\n",
            "2019-01-13,Bill de Blasio,25,613,82521,0.040783034257748776,\"(\"\"Bill de Blasio\"\") (station:MSNBC OR station:CNN OR station:FOXNEWS)\"\n",
            "2019-01-20,Bill de Blasio,3,991,83649,0.003027245206861756,\"(\"\"Bill de Blasio\"\") (station:MSNBC OR station:CNN OR station:FOXNEWS)\"\n",
            "2019-01-27,Bill de Blasio,3,1908,80994,0.0015723270440251573,\"(\"\"Bill de Blasio\"\") (station:MSNBC OR station:CNN OR station:FOXNEWS)\"\n",
            "2019-02-03,Bill de Blasio,3,1449,79183,0.002070393374741201,\"(\"\"Bill de Blasio\"\") (station:MSNBC OR station:CNN OR station:FOXNEWS)\"\n",
            "2019-02-10,Bill de Blasio,29,1913,81893,0.015159435441714584,\"(\"\"Bill de Blasio\"\") (station:MSNBC OR station:CNN OR station:FOXNEWS)\"\n",
            "2019-02-17,Bill de Blasio,16,2416,82454,0.006622516556291391,\"(\"\"Bill de Blasio\"\") (station:MSNBC OR station:CNN OR station:FOXNEWS)\"\n",
            "2019-02-24,Bill de Blasio,9,1529,82804,0.0058862001308044466,\"(\"\"Bill de Blasio\"\") (station:MSNBC OR station:CNN OR station:FOXNEWS)\"\n",
            "2019-03-03,Bill de Blasio,7,1567,81321,0.004467134652201659,\"(\"\"Bill de Blasio\"\") (station:MSNBC OR station:CNN OR station:FOXNEWS)\"\n",
            "2019-03-10,Bill de Blasio,29,2418,85812,0.011993382961124895,\"(\"\"Bill de Blasio\"\") (station:MSNBC OR station:CNN OR station:FOXNEWS)\"\n",
            "2019-03-17,Bill de Blasio,20,3173,95383,0.006303183107469272,\"(\"\"Bill de Blasio\"\") (station:MSNBC OR station:CNN OR station:FOXNEWS)\"\n",
            "2019-03-24,Bill de Blasio,3,1243,96184,0.002413515687851971,\"(\"\"Bill de Blasio\"\") (station:MSNBC OR station:CNN OR station:FOXNEWS)\"\n",
            "2019-03-31,Bill de Blasio,3,4205,93472,0.000713436385255648,\"(\"\"Bill de Blasio\"\") (station:MSNBC OR station:CNN OR station:FOXNEWS)\"\n",
            "2019-04-07,Bill de Blasio,14,2329,94405,0.0060111635895234005,\"(\"\"Bill de Blasio\"\") (station:MSNBC OR station:CNN OR station:FOXNEWS)\"\n",
            "2019-04-14,Bill de Blasio,1,2598,95286,0.0003849114703618168,\"(\"\"Bill de Blasio\"\") (station:MSNBC OR station:CNN OR station:FOXNEWS)\"\n",
            "2019-04-21,Bill de Blasio,31,5716,94002,0.005423372988103569,\"(\"\"Bill de Blasio\"\") (station:MSNBC OR station:CNN OR station:FOXNEWS)\"\n",
            "2019-04-28,Bill de Blasio,14,3942,95339,0.0035514967021816326,\"(\"\"Bill de Blasio\"\") (station:MSNBC OR station:CNN OR station:FOXNEWS)\"\n",
            "2019-05-05,Bill de Blasio,10,2747,94528,0.0036403349108117943,\"(\"\"Bill de Blasio\"\") (station:MSNBC OR station:CNN OR station:FOXNEWS)\"\n",
            "2019-05-12,Bill de Blasio,263,3688,94318,0.07131236442516269,\"(\"\"Bill de Blasio\"\") (station:MSNBC OR station:CNN OR station:FOXNEWS)\"\n",
            "2019-05-19,Bill de Blasio,83,2644,94883,0.031391830559757944,\"(\"\"Bill de Blasio\"\") (station:MSNBC OR station:CNN OR station:FOXNEWS)\"\n",
            "2019-05-26,Bill de Blasio,40,3042,95289,0.013149243918474688,\"(\"\"Bill de Blasio\"\") (station:MSNBC OR station:CNN OR station:FOXNEWS)\"\n",
            "2019-06-02,Bill de Blasio,42,3099,95313,0.013552758954501452,\"(\"\"Bill de Blasio\"\") (station:MSNBC OR station:CNN OR station:FOXNEWS)\"\n",
            "2019-06-09,Bill de Blasio,92,4776,95839,0.01926298157453936,\"(\"\"Bill de Blasio\"\") (station:MSNBC OR station:CNN OR station:FOXNEWS)\"\n",
            "2019-06-16,Bill de Blasio,52,4478,96026,0.011612326931665922,\"(\"\"Bill de Blasio\"\") (station:MSNBC OR station:CNN OR station:FOXNEWS)\"\n",
            "2019-06-23,Bill de Blasio,168,7316,96553,0.022963367960634227,\"(\"\"Bill de Blasio\"\") (station:MSNBC OR station:CNN OR station:FOXNEWS)\"\n",
            "2019-06-30,Bill de Blasio,16,4380,92126,0.00365296803652968,\"(\"\"Bill de Blasio\"\") (station:MSNBC OR station:CNN OR station:FOXNEWS)\"\n",
            "2019-07-07,Bill de Blasio,64,2934,94299,0.021813224267212,\"(\"\"Bill de Blasio\"\") (station:MSNBC OR station:CNN OR station:FOXNEWS)\"\n",
            "2018-12-30,Mike Gravel,0,1268,76029,0.0,\"(\"\"Mike Gravel\"\") (station:MSNBC OR station:CNN OR station:FOXNEWS)\"\n",
            "2019-01-06,Mike Gravel,0,1021,82964,0.0,\"(\"\"Mike Gravel\"\") (station:MSNBC OR station:CNN OR station:FOXNEWS)\"\n",
            "2019-01-13,Mike Gravel,0,613,82521,0.0,\"(\"\"Mike Gravel\"\") (station:MSNBC OR station:CNN OR station:FOXNEWS)\"\n",
            "2019-01-20,Mike Gravel,0,991,83649,0.0,\"(\"\"Mike Gravel\"\") (station:MSNBC OR station:CNN OR station:FOXNEWS)\"\n",
            "2019-01-27,Mike Gravel,0,1908,80994,0.0,\"(\"\"Mike Gravel\"\") (station:MSNBC OR station:CNN OR station:FOXNEWS)\"\n",
            "2019-02-03,Mike Gravel,0,1449,79183,0.0,\"(\"\"Mike Gravel\"\") (station:MSNBC OR station:CNN OR station:FOXNEWS)\"\n",
            "2019-02-10,Mike Gravel,0,1913,81893,0.0,\"(\"\"Mike Gravel\"\") (station:MSNBC OR station:CNN OR station:FOXNEWS)\"\n",
            "2019-02-17,Mike Gravel,0,2416,82454,0.0,\"(\"\"Mike Gravel\"\") (station:MSNBC OR station:CNN OR station:FOXNEWS)\"\n",
            "2019-02-24,Mike Gravel,0,1529,82804,0.0,\"(\"\"Mike Gravel\"\") (station:MSNBC OR station:CNN OR station:FOXNEWS)\"\n",
            "2019-03-03,Mike Gravel,0,1567,81321,0.0,\"(\"\"Mike Gravel\"\") (station:MSNBC OR station:CNN OR station:FOXNEWS)\"\n",
            "2019-03-10,Mike Gravel,0,2418,85812,0.0,\"(\"\"Mike Gravel\"\") (station:MSNBC OR station:CNN OR station:FOXNEWS)\"\n",
            "2019-03-17,Mike Gravel,2,3173,95383,0.0006303183107469273,\"(\"\"Mike Gravel\"\") (station:MSNBC OR station:CNN OR station:FOXNEWS)\"\n",
            "2019-03-24,Mike Gravel,0,1243,96184,0.0,\"(\"\"Mike Gravel\"\") (station:MSNBC OR station:CNN OR station:FOXNEWS)\"\n",
            "2019-03-31,Mike Gravel,0,4205,93472,0.0,\"(\"\"Mike Gravel\"\") (station:MSNBC OR station:CNN OR station:FOXNEWS)\"\n",
            "2019-04-07,Mike Gravel,0,2329,94405,0.0,\"(\"\"Mike Gravel\"\") (station:MSNBC OR station:CNN OR station:FOXNEWS)\"\n",
            "2019-04-14,Mike Gravel,3,2598,95286,0.0011547344110854505,\"(\"\"Mike Gravel\"\") (station:MSNBC OR station:CNN OR station:FOXNEWS)\"\n",
            "2019-04-21,Mike Gravel,0,5716,94002,0.0,\"(\"\"Mike Gravel\"\") (station:MSNBC OR station:CNN OR station:FOXNEWS)\"\n",
            "2019-04-28,Mike Gravel,1,3942,95339,0.0002536783358701167,\"(\"\"Mike Gravel\"\") (station:MSNBC OR station:CNN OR station:FOXNEWS)\"\n",
            "2019-05-05,Mike Gravel,0,2747,94528,0.0,\"(\"\"Mike Gravel\"\") (station:MSNBC OR station:CNN OR station:FOXNEWS)\"\n",
            "2019-05-12,Mike Gravel,2,3688,94318,0.0005422993492407808,\"(\"\"Mike Gravel\"\") (station:MSNBC OR station:CNN OR station:FOXNEWS)\"\n",
            "2019-05-19,Mike Gravel,0,2644,94883,0.0,\"(\"\"Mike Gravel\"\") (station:MSNBC OR station:CNN OR station:FOXNEWS)\"\n",
            "2019-05-26,Mike Gravel,0,3042,95289,0.0,\"(\"\"Mike Gravel\"\") (station:MSNBC OR station:CNN OR station:FOXNEWS)\"\n",
            "2019-06-02,Mike Gravel,0,3099,95313,0.0,\"(\"\"Mike Gravel\"\") (station:MSNBC OR station:CNN OR station:FOXNEWS)\"\n",
            "2019-06-09,Mike Gravel,8,4776,95839,0.0016750418760469012,\"(\"\"Mike Gravel\"\") (station:MSNBC OR station:CNN OR station:FOXNEWS)\"\n",
            "2019-06-16,Mike Gravel,0,4478,96026,0.0,\"(\"\"Mike Gravel\"\") (station:MSNBC OR station:CNN OR station:FOXNEWS)\"\n",
            "2019-06-23,Mike Gravel,0,7316,96553,0.0,\"(\"\"Mike Gravel\"\") (station:MSNBC OR station:CNN OR station:FOXNEWS)\"\n",
            "2019-06-30,Mike Gravel,0,4380,92126,0.0,\"(\"\"Mike Gravel\"\") (station:MSNBC OR station:CNN OR station:FOXNEWS)\"\n",
            "2019-07-07,Mike Gravel,0,2934,94299,0.0,\"(\"\"Mike Gravel\"\") (station:MSNBC OR station:CNN OR station:FOXNEWS)\"\n",
            "2018-12-30,Joe Sestak,0,1268,76029,0.0,\"(\"\"Joe Sestak\"\") (station:MSNBC OR station:CNN OR station:FOXNEWS)\"\n",
            "2019-01-06,Joe Sestak,0,1021,82964,0.0,\"(\"\"Joe Sestak\"\") (station:MSNBC OR station:CNN OR station:FOXNEWS)\"\n",
            "2019-01-13,Joe Sestak,0,613,82521,0.0,\"(\"\"Joe Sestak\"\") (station:MSNBC OR station:CNN OR station:FOXNEWS)\"\n",
            "2019-01-20,Joe Sestak,0,991,83649,0.0,\"(\"\"Joe Sestak\"\") (station:MSNBC OR station:CNN OR station:FOXNEWS)\"\n",
            "2019-01-27,Joe Sestak,0,1908,80994,0.0,\"(\"\"Joe Sestak\"\") (station:MSNBC OR station:CNN OR station:FOXNEWS)\"\n",
            "2019-02-03,Joe Sestak,0,1449,79183,0.0,\"(\"\"Joe Sestak\"\") (station:MSNBC OR station:CNN OR station:FOXNEWS)\"\n",
            "2019-02-10,Joe Sestak,0,1913,81893,0.0,\"(\"\"Joe Sestak\"\") (station:MSNBC OR station:CNN OR station:FOXNEWS)\"\n",
            "2019-02-17,Joe Sestak,0,2416,82454,0.0,\"(\"\"Joe Sestak\"\") (station:MSNBC OR station:CNN OR station:FOXNEWS)\"\n",
            "2019-02-24,Joe Sestak,0,1529,82804,0.0,\"(\"\"Joe Sestak\"\") (station:MSNBC OR station:CNN OR station:FOXNEWS)\"\n",
            "2019-03-03,Joe Sestak,0,1567,81321,0.0,\"(\"\"Joe Sestak\"\") (station:MSNBC OR station:CNN OR station:FOXNEWS)\"\n",
            "2019-03-10,Joe Sestak,0,2418,85812,0.0,\"(\"\"Joe Sestak\"\") (station:MSNBC OR station:CNN OR station:FOXNEWS)\"\n",
            "2019-03-17,Joe Sestak,0,3173,95383,0.0,\"(\"\"Joe Sestak\"\") (station:MSNBC OR station:CNN OR station:FOXNEWS)\"\n",
            "2019-03-24,Joe Sestak,0,1243,96184,0.0,\"(\"\"Joe Sestak\"\") (station:MSNBC OR station:CNN OR station:FOXNEWS)\"\n",
            "2019-03-31,Joe Sestak,0,4205,93472,0.0,\"(\"\"Joe Sestak\"\") (station:MSNBC OR station:CNN OR station:FOXNEWS)\"\n",
            "2019-04-07,Joe Sestak,0,2329,94405,0.0,\"(\"\"Joe Sestak\"\") (station:MSNBC OR station:CNN OR station:FOXNEWS)\"\n",
            "2019-04-14,Joe Sestak,0,2598,95286,0.0,\"(\"\"Joe Sestak\"\") (station:MSNBC OR station:CNN OR station:FOXNEWS)\"\n",
            "2019-04-21,Joe Sestak,0,5716,94002,0.0,\"(\"\"Joe Sestak\"\") (station:MSNBC OR station:CNN OR station:FOXNEWS)\"\n",
            "2019-04-28,Joe Sestak,0,3942,95339,0.0,\"(\"\"Joe Sestak\"\") (station:MSNBC OR station:CNN OR station:FOXNEWS)\"\n",
            "2019-05-05,Joe Sestak,0,2747,94528,0.0,\"(\"\"Joe Sestak\"\") (station:MSNBC OR station:CNN OR station:FOXNEWS)\"\n",
            "2019-05-12,Joe Sestak,0,3688,94318,0.0,\"(\"\"Joe Sestak\"\") (station:MSNBC OR station:CNN OR station:FOXNEWS)\"\n",
            "2019-05-19,Joe Sestak,0,2644,94883,0.0,\"(\"\"Joe Sestak\"\") (station:MSNBC OR station:CNN OR station:FOXNEWS)\"\n",
            "2019-05-26,Joe Sestak,0,3042,95289,0.0,\"(\"\"Joe Sestak\"\") (station:MSNBC OR station:CNN OR station:FOXNEWS)\"\n",
            "2019-06-02,Joe Sestak,0,3099,95313,0.0,\"(\"\"Joe Sestak\"\") (station:MSNBC OR station:CNN OR station:FOXNEWS)\"\n",
            "2019-06-09,Joe Sestak,0,4776,95839,0.0,\"(\"\"Joe Sestak\"\") (station:MSNBC OR station:CNN OR station:FOXNEWS)\"\n",
            "2019-06-16,Joe Sestak,0,4478,96026,0.0,\"(\"\"Joe Sestak\"\") (station:MSNBC OR station:CNN OR station:FOXNEWS)\"\n",
            "2019-06-23,Joe Sestak,5,7316,96553,0.000683433570256971,\"(\"\"Joe Sestak\"\") (station:MSNBC OR station:CNN OR station:FOXNEWS)\"\n",
            "2019-06-30,Joe Sestak,1,4380,92126,0.00022831050228310504,\"(\"\"Joe Sestak\"\") (station:MSNBC OR station:CNN OR station:FOXNEWS)\"\n",
            "2019-07-07,Joe Sestak,0,2934,94299,0.0,\"(\"\"Joe Sestak\"\") (station:MSNBC OR station:CNN OR station:FOXNEWS)\"\n"
          ],
          "name": "stdout"
        }
      ]
    },
    {
      "cell_type": "markdown",
      "metadata": {
        "id": "T1rPxTLFe4KP",
        "colab_type": "text"
      },
      "source": [
        "## Working with the dataframe:"
      ]
    },
    {
      "cell_type": "code",
      "metadata": {
        "id": "Hrfpx0h0TKVd",
        "colab_type": "code",
        "outputId": "0a410206-3f28-4088-e89d-29412cc8fe48",
        "colab": {
          "base_uri": "https://localhost:8080/",
          "height": 153
        }
      },
      "source": [
        "# access how many N/A values are in the whole dataframe via columns \n",
        "presidential_data.isna().sum()"
      ],
      "execution_count": 0,
      "outputs": [
        {
          "output_type": "execute_result",
          "data": {
            "text/plain": [
              "date                          0\n",
              "name                          0\n",
              "matched_clips                 0\n",
              "all_candidate_clips           0\n",
              "total_clips                   0\n",
              "pct_of_all_candidate_clips    0\n",
              "query                         0\n",
              "dtype: int64"
            ]
          },
          "metadata": {
            "tags": []
          },
          "execution_count": 78
        }
      ]
    },
    {
      "cell_type": "code",
      "metadata": {
        "id": "MegrV-F0TQGV",
        "colab_type": "code",
        "outputId": "dd5c0540-5c9a-4cd6-e114-315711d786ad",
        "colab": {
          "base_uri": "https://localhost:8080/",
          "height": 442
        }
      },
      "source": [
        "# counting values in terms of the names column in the dataframe\n",
        "presidential_data.name.value_counts()"
      ],
      "execution_count": 0,
      "outputs": [
        {
          "output_type": "execute_result",
          "data": {
            "text/plain": [
              "Beto O'Rourke          28\n",
              "Mike Gravel            28\n",
              "Marianne Williamson    28\n",
              "Tulsi Gabbard          28\n",
              "Elizabeth Warren       28\n",
              "Eric Swalwell          28\n",
              "Seth Moulton           28\n",
              "Bill de Blasio         28\n",
              "Bernie Sanders         28\n",
              "Tim Ryan               28\n",
              "Andrew Yang            28\n",
              "Joe Sestak             28\n",
              "Pete Buttigieg         28\n",
              "Kirsten Gillibrand     28\n",
              "Steve Bullock          28\n",
              "Jay Inslee             28\n",
              "John Delaney           28\n",
              "Julian Castro          28\n",
              "Amy Klobuchar          28\n",
              "Cory Booker            28\n",
              "Michael Bennet         28\n",
              "John Hickenlooper      28\n",
              "Kamala Harris          28\n",
              "Joe Biden              28\n",
              "Name: name, dtype: int64"
            ]
          },
          "metadata": {
            "tags": []
          },
          "execution_count": 79
        }
      ]
    },
    {
      "cell_type": "code",
      "metadata": {
        "id": "xvurxo4GTuKi",
        "colab_type": "code",
        "outputId": "51984183-342a-47ba-8879-7e07863e1903",
        "colab": {
          "base_uri": "https://localhost:8080/",
          "height": 153
        }
      },
      "source": [
        "# indexing into the dataframe using the number index \n",
        "presidential_data.loc[0]"
      ],
      "execution_count": 0,
      "outputs": [
        {
          "output_type": "execute_result",
          "data": {
            "text/plain": [
              "date                                                                 2018-12-30\n",
              "name                                                               John Delaney\n",
              "matched_clips                                                                 5\n",
              "all_candidate_clips                                                        1268\n",
              "total_clips                                                               76029\n",
              "pct_of_all_candidate_clips                                           0.00394322\n",
              "query                         (\"John Delaney\") (station:MSNBC OR station:CNN...\n",
              "Name: 0, dtype: object"
            ]
          },
          "metadata": {
            "tags": []
          },
          "execution_count": 81
        }
      ]
    },
    {
      "cell_type": "markdown",
      "metadata": {
        "id": "NCJBVpHZfQUj",
        "colab_type": "text"
      },
      "source": [
        "## Visualizations: using matplotlib, seaborn, and pandas"
      ]
    },
    {
      "cell_type": "code",
      "metadata": {
        "id": "Ytpx5E64VRV9",
        "colab_type": "code",
        "outputId": "f49e0512-c344-4015-e0cb-290ac4c25421",
        "colab": {
          "base_uri": "https://localhost:8080/",
          "height": 283
        }
      },
      "source": [
        "# scatter plot using matplotlib.pyplot\n",
        "plt.scatter(presidential_data.all_candidate_clips, presidential_data.total_clips)\n",
        "plt.xlabel('all candidate clips')\n",
        "plt.ylabel('total clips')\n",
        "plt.show()"
      ],
      "execution_count": 0,
      "outputs": [
        {
          "output_type": "display_data",
          "data": {
            "image/png": "[encoded data removed]",
            "text/plain": [
              "<Figure size 432x288 with 1 Axes>"
            ]
          },
          "metadata": {
            "tags": []
          }
        }
      ]
    },
    {
      "cell_type": "code",
      "metadata": {
        "id": "9dsjsKv5WKfT",
        "colab_type": "code",
        "outputId": "210c96c4-bd8d-491f-b9ea-c18488431be0",
        "colab": {
          "base_uri": "https://localhost:8080/",
          "height": 269
        }
      },
      "source": [
        "# histogram using matplotlib.pyplot\n",
        "plt.hist(presidential_data.pct_of_all_candidate_clips);"
      ],
      "execution_count": 0,
      "outputs": [
        {
          "output_type": "display_data",
          "data": {
            "image/png": "[encoded data removed]",
            "text/plain": [
              "<Figure size 432x288 with 1 Axes>"
            ]
          },
          "metadata": {
            "tags": []
          }
        }
      ]
    },
    {
      "cell_type": "code",
      "metadata": {
        "id": "_Kv1FKdyX6fF",
        "colab_type": "code",
        "outputId": "8db51dc6-60ba-4fca-b079-b426de38019d",
        "colab": {
          "base_uri": "https://localhost:8080/",
          "height": 269
        }
      },
      "source": [
        "# histogram using matplotlib.pyplot with bin size 20\n",
        "plt.hist(presidential_data.pct_of_all_candidate_clips, bins=20);"
      ],
      "execution_count": 0,
      "outputs": [
        {
          "output_type": "display_data",
          "data": {
            "image/png": "[encoded data removed]",
            "text/plain": [
              "<Figure size 432x288 with 1 Axes>"
            ]
          },
          "metadata": {
            "tags": []
          }
        }
      ]
    },
    {
      "cell_type": "code",
      "metadata": {
        "id": "cgL2Eto8XCpT",
        "colab_type": "code",
        "outputId": "b0259342-d6ab-483a-ef7a-046ce3b84345",
        "colab": {
          "base_uri": "https://localhost:8080/",
          "height": 269
        }
      },
      "source": [
        "# histogram using matplotlib.pyplot with bin size 100\n",
        "plt.hist(presidential_data.pct_of_all_candidate_clips, bins=100);"
      ],
      "execution_count": 0,
      "outputs": [
        {
          "output_type": "display_data",
          "data": {
            "image/png": "[encoded data removed]",
            "text/plain": [
              "<Figure size 432x288 with 1 Axes>"
            ]
          },
          "metadata": {
            "tags": []
          }
        }
      ]
    },
    {
      "cell_type": "code",
      "metadata": {
        "id": "K4HkSC_eX-lZ",
        "colab_type": "code",
        "outputId": "883f458c-bc6a-4ebd-aae7-166ed43f3a11",
        "colab": {
          "base_uri": "https://localhost:8080/",
          "height": 284
        }
      },
      "source": [
        "# seaborn density plot \n",
        "sns.distplot(presidential_data.pct_of_all_candidate_clips)\n",
        "plt.show()"
      ],
      "execution_count": 0,
      "outputs": [
        {
          "output_type": "display_data",
          "data": {
            "image/png": "[encoded data removed]",
            "text/plain": [
              "<Figure size 432x288 with 1 Axes>"
            ]
          },
          "metadata": {
            "tags": []
          }
        }
      ]
    },
    {
      "cell_type": "code",
      "metadata": {
        "id": "G_PiyOHeYOVz",
        "colab_type": "code",
        "outputId": "6e09d630-154b-442e-9c22-ad78ea6e23d6",
        "colab": {
          "base_uri": "https://localhost:8080/",
          "height": 284
        }
      },
      "source": [
        "# seaborn density plot with bin size 20 \n",
        "sns.distplot(presidential_data.pct_of_all_candidate_clips, bins=20)\n",
        "plt.show()"
      ],
      "execution_count": 0,
      "outputs": [
        {
          "output_type": "display_data",
          "data": {
            "image/png": "[encoded data removed]",
            "text/plain": [
              "<Figure size 432x288 with 1 Axes>"
            ]
          },
          "metadata": {
            "tags": []
          }
        }
      ]
    },
    {
      "cell_type": "code",
      "metadata": {
        "id": "KIhEbTKpYV95",
        "colab_type": "code",
        "outputId": "bdcb82b0-9137-4a5e-b5ee-c4f6952bec51",
        "colab": {
          "base_uri": "https://localhost:8080/",
          "height": 284
        }
      },
      "source": [
        "# seaborn density plot with bin size 100\n",
        "sns.distplot(presidential_data.pct_of_all_candidate_clips, bins=100)\n",
        "plt.show()"
      ],
      "execution_count": 0,
      "outputs": [
        {
          "output_type": "display_data",
          "data": {
            "image/png": "[encoded data removed]",
            "text/plain": [
              "<Figure size 432x288 with 1 Axes>"
            ]
          },
          "metadata": {
            "tags": []
          }
        }
      ]
    },
    {
      "cell_type": "code",
      "metadata": {
        "id": "8KBEbE4_YY06",
        "colab_type": "code",
        "outputId": "2c6e47de-ba88-416d-c77c-5ff1ae00fb29",
        "colab": {
          "base_uri": "https://localhost:8080/",
          "height": 729
        }
      },
      "source": [
        "# seaborn pairplot \n",
        "sns.pairplot(presidential_data);"
      ],
      "execution_count": 0,
      "outputs": [
        {
          "output_type": "display_data",
          "data": {
            "image/png": "[encoded data removed]",
            "text/plain": [
              "<Figure size 720x720 with 20 Axes>"
            ]
          },
          "metadata": {
            "tags": []
          }
        }
      ]
    },
    {
      "cell_type": "code",
      "metadata": {
        "id": "9E-baCKAYo-Q",
        "colab_type": "code",
        "outputId": "edfb31cf-b05b-4b57-f39e-85d9d52d0b60",
        "colab": {
          "base_uri": "https://localhost:8080/",
          "height": 284
        }
      },
      "source": [
        "# pandas scatter plot \n",
        "presidential_data.plot.scatter('all_candidate_clips', 'total_clips')\n",
        "plt.show()"
      ],
      "execution_count": 0,
      "outputs": [
        {
          "output_type": "display_data",
          "data": {
            "image/png": "[encoded data removed]",
            "text/plain": [
              "<Figure size 432x288 with 1 Axes>"
            ]
          },
          "metadata": {
            "tags": []
          }
        }
      ]
    },
    {
      "cell_type": "code",
      "metadata": {
        "id": "EaxsAaByY_G3",
        "colab_type": "code",
        "outputId": "e103ab47-96f9-44a8-8c36-f637d976c248",
        "colab": {
          "base_uri": "https://localhost:8080/",
          "height": 269
        }
      },
      "source": [
        "# pandas histogram \n",
        "presidential_data.pct_of_all_candidate_clips.hist()\n",
        "plt.show()"
      ],
      "execution_count": 0,
      "outputs": [
        {
          "output_type": "display_data",
          "data": {
            "image/png": "[encoded data removed]",
            "text/plain": [
              "<Figure size 432x288 with 1 Axes>"
            ]
          },
          "metadata": {
            "tags": []
          }
        }
      ]
    },
    {
      "cell_type": "code",
      "metadata": {
        "id": "VUWzmRPoZRqk",
        "colab_type": "code",
        "outputId": "54da3f30-0ab4-4a9f-c9e1-de9af7725192",
        "colab": {
          "base_uri": "https://localhost:8080/",
          "height": 269
        }
      },
      "source": [
        "# pandas histogram with bin size 20\n",
        "presidential_data.pct_of_all_candidate_clips.hist(bins=20)\n",
        "plt.show()"
      ],
      "execution_count": 0,
      "outputs": [
        {
          "output_type": "display_data",
          "data": {
            "image/png": "[encoded data removed]",
            "text/plain": [
              "<Figure size 432x288 with 1 Axes>"
            ]
          },
          "metadata": {
            "tags": []
          }
        }
      ]
    },
    {
      "cell_type": "code",
      "metadata": {
        "id": "8h5h0AIsZSHV",
        "colab_type": "code",
        "outputId": "08030539-7b88-4bc5-aa97-21a3bbd5c126",
        "colab": {
          "base_uri": "https://localhost:8080/",
          "height": 269
        }
      },
      "source": [
        "# pandas histogram with bin size 100\n",
        "presidential_data.pct_of_all_candidate_clips.hist(bins=100)\n",
        "plt.show()"
      ],
      "execution_count": 0,
      "outputs": [
        {
          "output_type": "display_data",
          "data": {
            "image/png": "[encoded data removed]",
            "text/plain": [
              "<Figure size 432x288 with 1 Axes>"
            ]
          },
          "metadata": {
            "tags": []
          }
        }
      ]
    },
    {
      "cell_type": "code",
      "metadata": {
        "id": "LXr4BdHCZY_3",
        "colab_type": "code",
        "outputId": "88544d8d-1f31-415c-8119-0f083f69fe5c",
        "colab": {
          "base_uri": "https://localhost:8080/",
          "height": 304
        }
      },
      "source": [
        "# pandas scatter matrix \n",
        "pd.plotting.scatter_matrix(presidential_data);"
      ],
      "execution_count": 0,
      "outputs": [
        {
          "output_type": "display_data",
          "data": {
            "image/png": "[encoded data removed]",
            "text/plain": [
              "<Figure size 432x288 with 16 Axes>"
            ]
          },
          "metadata": {
            "tags": []
          }
        }
      ]
    },
    {
      "cell_type": "markdown",
      "metadata": {
        "id": "MZCxTwKuReV9",
        "colab_type": "text"
      },
      "source": [
        "## Stretch Goals - Other types and sources of data\n",
        "\n",
        "Not all data comes in a nice single file - for example, image classification involves handling lots of image files. You still will probably want labels for them, so you may have tabular data in addition to the image blobs - and the images may be reduced in resolution and even fit in a regular csv as a bunch of numbers.\n",
        "\n",
        "If you're interested in natural language processing and analyzing text, that is another example where, while it can be put in a csv, you may end up loading much larger raw data and generating features that can then be thought of in a more standard tabular fashion.\n",
        "\n",
        "Overall you will in the course of learning data science deal with loading data in a variety of ways. Another common way to get data is from a database - most modern applications are backed by one or more databases, which you can query to get data to analyze. We'll cover this more in our data engineering unit.\n",
        "\n",
        "How does data get in the database? Most applications generate logs - text files with lots and lots of records of each use of the application. Databases are often populated based on these files, but in some situations you may directly analyze log files. The usual way to do this is with command line (Unix) tools - command lines are intimidating, so don't expect to learn them all at once, but depending on your interests it can be useful to practice.\n",
        "\n",
        "One last major source of data is APIs: https://github.com/toddmotto/public-apis\n",
        "\n",
        "API stands for Application Programming Interface, and while originally meant e.g. the way an application interfaced with the GUI or other aspects of an operating system, now it largely refers to online services that let you query and retrieve data. You can essentially think of most of them as \"somebody else's database\" - you have (usually limited) access.\n",
        "\n",
        "*Stretch goal* - research one of the above extended forms of data/data loading. See if you can get a basic example working in a notebook. Image, text, or (public) APIs are probably more tractable - databases are interesting, but there aren't many publicly accessible and they require a great deal of setup."
      ]
    }
  ]
}