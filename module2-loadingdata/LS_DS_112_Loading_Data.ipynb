{
  "nbformat": 4,
  "nbformat_minor": 0,
  "metadata": {
    "colab": {
      "name": "LS DS 112 - Loading Data.ipynb",
      "version": "0.3.2",
      "provenance": [],
      "collapsed_sections": [],
      "include_colab_link": true
    },
    "kernelspec": {
      "name": "python3",
      "display_name": "Python 3"
    }
  },
  "cells": [
    {
      "cell_type": "markdown",
      "metadata": {
        "id": "view-in-github",
        "colab_type": "text"
      },
      "source": [
        "<a href=\"https://colab.research.google.com/github/derek-shing/DS-Sprint-01-Dealing-With-Data/blob/master/module2-loadingdata/LS_DS_112_Loading_Data.ipynb\" target=\"_parent\"><img src=\"https://colab.research.google.com/assets/colab-badge.svg\" alt=\"Open In Colab\"/></a>"
      ]
    },
    {
      "metadata": {
        "id": "-c0vWATuQ_Dn",
        "colab_type": "text"
      },
      "cell_type": "markdown",
      "source": [
        "# Lambda School Data Science - Loading Data\n",
        "\n",
        "Data comes in many shapes and sizes - we'll start by loading tabular data, usually in csv format.\n",
        "\n",
        "Data set sources:\n",
        "\n",
        "- https://archive.ics.uci.edu/ml/datasets.html\n",
        "- https://github.com/awesomedata/awesome-public-datasets\n",
        "- https://registry.opendata.aws/ (beyond scope for now, but good to be aware of)\n",
        "\n",
        "Let's start with an example - [data about flags](https://archive.ics.uci.edu/ml/datasets/Flags)."
      ]
    },
    {
      "metadata": {
        "id": "wxxBTeHUYs5a",
        "colab_type": "text"
      },
      "cell_type": "markdown",
      "source": [
        "## Lecture example - flag data"
      ]
    },
    {
      "metadata": {
        "id": "nc-iamjyRWwe",
        "colab_type": "code",
        "colab": {}
      },
      "cell_type": "code",
      "source": [
        "# Step 1 - find the actual file to download\n",
        "\n",
        "# From navigating the page, clicking \"Data Folder\"\n",
        "poker_data_url = 'https://archive.ics.uci.edu/ml/machine-learning-databases/poker/poker-hand-testing.data'\n",
        "\n",
        "# You can \"shell out\" in a notebook for more powerful tools\n",
        "# https://jakevdp.github.io/PythonDataScienceHandbook/01.05-ipython-and-shell-commands.html\n",
        "\n",
        "# Funny extension, but on inspection looks like a csv\n",
        "#!curl https://archive.ics.uci.edu/ml/machine-learning-databases/poker/poker-hand-testing.data\n",
        "\n",
        "# Extensions are just a norm! You have to inspect to be sure what something is"
      ],
      "execution_count": 0,
      "outputs": []
    },
    {
      "metadata": {
        "id": "UKfOq1tlUvbZ",
        "colab_type": "code",
        "colab": {}
      },
      "cell_type": "code",
      "source": [
        "# Step 2 - load the data\n",
        "\n",
        "# How to deal with a csv? 🐼\n",
        "import pandas as pd\n",
        "poker_data = pd.read_csv(poker_data_url)"
      ],
      "execution_count": 0,
      "outputs": []
    },
    {
      "metadata": {
        "id": "exKPtcJyUyCX",
        "colab_type": "code",
        "outputId": "4c87723b-1906-4666-be9b-a1da41d048ec",
        "colab": {
          "base_uri": "https://localhost:8080/",
          "height": 204
        }
      },
      "cell_type": "code",
      "source": [
        "# Step 3 - verify we've got *something*\n",
        "poker_data.head()"
      ],
      "execution_count": 5,
      "outputs": [
        {
          "output_type": "execute_result",
          "data": {
            "text/html": [
              "<div>\n",
              "<style scoped>\n",
              "    .dataframe tbody tr th:only-of-type {\n",
              "        vertical-align: middle;\n",
              "    }\n",
              "\n",
              "    .dataframe tbody tr th {\n",
              "        vertical-align: top;\n",
              "    }\n",
              "\n",
              "    .dataframe thead th {\n",
              "        text-align: right;\n",
              "    }\n",
              "</style>\n",
              "<table border=\"1\" class=\"dataframe\">\n",
              "  <thead>\n",
              "    <tr style=\"text-align: right;\">\n",
              "      <th></th>\n",
              "      <th>1</th>\n",
              "      <th>1.1</th>\n",
              "      <th>1.2</th>\n",
              "      <th>13</th>\n",
              "      <th>2</th>\n",
              "      <th>4</th>\n",
              "      <th>2.1</th>\n",
              "      <th>3</th>\n",
              "      <th>1.3</th>\n",
              "      <th>12</th>\n",
              "      <th>0</th>\n",
              "    </tr>\n",
              "  </thead>\n",
              "  <tbody>\n",
              "    <tr>\n",
              "      <th>0</th>\n",
              "      <td>3</td>\n",
              "      <td>12</td>\n",
              "      <td>3</td>\n",
              "      <td>2</td>\n",
              "      <td>3</td>\n",
              "      <td>11</td>\n",
              "      <td>4</td>\n",
              "      <td>5</td>\n",
              "      <td>2</td>\n",
              "      <td>5</td>\n",
              "      <td>1</td>\n",
              "    </tr>\n",
              "    <tr>\n",
              "      <th>1</th>\n",
              "      <td>1</td>\n",
              "      <td>9</td>\n",
              "      <td>4</td>\n",
              "      <td>6</td>\n",
              "      <td>1</td>\n",
              "      <td>4</td>\n",
              "      <td>3</td>\n",
              "      <td>2</td>\n",
              "      <td>3</td>\n",
              "      <td>9</td>\n",
              "      <td>1</td>\n",
              "    </tr>\n",
              "    <tr>\n",
              "      <th>2</th>\n",
              "      <td>1</td>\n",
              "      <td>4</td>\n",
              "      <td>3</td>\n",
              "      <td>13</td>\n",
              "      <td>2</td>\n",
              "      <td>13</td>\n",
              "      <td>2</td>\n",
              "      <td>1</td>\n",
              "      <td>3</td>\n",
              "      <td>6</td>\n",
              "      <td>1</td>\n",
              "    </tr>\n",
              "    <tr>\n",
              "      <th>3</th>\n",
              "      <td>3</td>\n",
              "      <td>10</td>\n",
              "      <td>2</td>\n",
              "      <td>7</td>\n",
              "      <td>1</td>\n",
              "      <td>2</td>\n",
              "      <td>2</td>\n",
              "      <td>11</td>\n",
              "      <td>4</td>\n",
              "      <td>9</td>\n",
              "      <td>0</td>\n",
              "    </tr>\n",
              "    <tr>\n",
              "      <th>4</th>\n",
              "      <td>1</td>\n",
              "      <td>3</td>\n",
              "      <td>4</td>\n",
              "      <td>5</td>\n",
              "      <td>3</td>\n",
              "      <td>4</td>\n",
              "      <td>1</td>\n",
              "      <td>12</td>\n",
              "      <td>4</td>\n",
              "      <td>6</td>\n",
              "      <td>0</td>\n",
              "    </tr>\n",
              "  </tbody>\n",
              "</table>\n",
              "</div>"
            ],
            "text/plain": [
              "   1  1.1  1.2  13  2   4  2.1   3  1.3  12  0\n",
              "0  3   12    3   2  3  11    4   5    2   5  1\n",
              "1  1    9    4   6  1   4    3   2    3   9  1\n",
              "2  1    4    3  13  2  13    2   1    3   6  1\n",
              "3  3   10    2   7  1   2    2  11    4   9  0\n",
              "4  1    3    4   5  3   4    1  12    4   6  0"
            ]
          },
          "metadata": {
            "tags": []
          },
          "execution_count": 5
        }
      ]
    },
    {
      "metadata": {
        "id": "rNmkv2g8VfAm",
        "colab_type": "code",
        "outputId": "d3a1f645-1b3e-44de-e9d8-b8078f2ca48d",
        "colab": {
          "base_uri": "https://localhost:8080/",
          "height": 221
        }
      },
      "cell_type": "code",
      "source": [
        "# Step 4 - Looks a bit odd - verify that it is what we want\n",
        "\n",
        "#look like the max number of row in pandas is 999,999\n",
        "poker_data.count()"
      ],
      "execution_count": 6,
      "outputs": [
        {
          "output_type": "execute_result",
          "data": {
            "text/plain": [
              "1      999999\n",
              "1.1    999999\n",
              "1.2    999999\n",
              "13     999999\n",
              "2      999999\n",
              "4      999999\n",
              "2.1    999999\n",
              "3      999999\n",
              "1.3    999999\n",
              "12     999999\n",
              "0      999999\n",
              "dtype: int64"
            ]
          },
          "metadata": {
            "tags": []
          },
          "execution_count": 6
        }
      ]
    },
    {
      "metadata": {
        "id": "iqPEwx3aWBDR",
        "colab_type": "code",
        "colab": {}
      },
      "cell_type": "code",
      "source": [
        ""
      ],
      "execution_count": 0,
      "outputs": []
    },
    {
      "metadata": {
        "id": "5R1d1Ka2WHAY",
        "colab_type": "code",
        "colab": {}
      },
      "cell_type": "code",
      "source": [
        "# So we have 193 observations with funny names, file has 194 rows\n",
        "# Looks like the file has no header row, but read_csv assumes it does\n",
        "help(pd.read_csv)"
      ],
      "execution_count": 0,
      "outputs": []
    },
    {
      "metadata": {
        "id": "o-thnccIWTvc",
        "colab_type": "code",
        "outputId": "4199af5c-d55c-49f5-c0aa-b41f03200fe6",
        "colab": {
          "base_uri": "https://localhost:8080/",
          "height": 204
        }
      },
      "cell_type": "code",
      "source": [
        "# Alright, we can pass header=None to fix this\n",
        "poker_data = pd.read_csv(poker_data_url, header=None)\n",
        "poker_data.head()"
      ],
      "execution_count": 7,
      "outputs": [
        {
          "output_type": "execute_result",
          "data": {
            "text/html": [
              "<div>\n",
              "<style scoped>\n",
              "    .dataframe tbody tr th:only-of-type {\n",
              "        vertical-align: middle;\n",
              "    }\n",
              "\n",
              "    .dataframe tbody tr th {\n",
              "        vertical-align: top;\n",
              "    }\n",
              "\n",
              "    .dataframe thead th {\n",
              "        text-align: right;\n",
              "    }\n",
              "</style>\n",
              "<table border=\"1\" class=\"dataframe\">\n",
              "  <thead>\n",
              "    <tr style=\"text-align: right;\">\n",
              "      <th></th>\n",
              "      <th>0</th>\n",
              "      <th>1</th>\n",
              "      <th>2</th>\n",
              "      <th>3</th>\n",
              "      <th>4</th>\n",
              "      <th>5</th>\n",
              "      <th>6</th>\n",
              "      <th>7</th>\n",
              "      <th>8</th>\n",
              "      <th>9</th>\n",
              "      <th>10</th>\n",
              "    </tr>\n",
              "  </thead>\n",
              "  <tbody>\n",
              "    <tr>\n",
              "      <th>0</th>\n",
              "      <td>1</td>\n",
              "      <td>1</td>\n",
              "      <td>1</td>\n",
              "      <td>13</td>\n",
              "      <td>2</td>\n",
              "      <td>4</td>\n",
              "      <td>2</td>\n",
              "      <td>3</td>\n",
              "      <td>1</td>\n",
              "      <td>12</td>\n",
              "      <td>0</td>\n",
              "    </tr>\n",
              "    <tr>\n",
              "      <th>1</th>\n",
              "      <td>3</td>\n",
              "      <td>12</td>\n",
              "      <td>3</td>\n",
              "      <td>2</td>\n",
              "      <td>3</td>\n",
              "      <td>11</td>\n",
              "      <td>4</td>\n",
              "      <td>5</td>\n",
              "      <td>2</td>\n",
              "      <td>5</td>\n",
              "      <td>1</td>\n",
              "    </tr>\n",
              "    <tr>\n",
              "      <th>2</th>\n",
              "      <td>1</td>\n",
              "      <td>9</td>\n",
              "      <td>4</td>\n",
              "      <td>6</td>\n",
              "      <td>1</td>\n",
              "      <td>4</td>\n",
              "      <td>3</td>\n",
              "      <td>2</td>\n",
              "      <td>3</td>\n",
              "      <td>9</td>\n",
              "      <td>1</td>\n",
              "    </tr>\n",
              "    <tr>\n",
              "      <th>3</th>\n",
              "      <td>1</td>\n",
              "      <td>4</td>\n",
              "      <td>3</td>\n",
              "      <td>13</td>\n",
              "      <td>2</td>\n",
              "      <td>13</td>\n",
              "      <td>2</td>\n",
              "      <td>1</td>\n",
              "      <td>3</td>\n",
              "      <td>6</td>\n",
              "      <td>1</td>\n",
              "    </tr>\n",
              "    <tr>\n",
              "      <th>4</th>\n",
              "      <td>3</td>\n",
              "      <td>10</td>\n",
              "      <td>2</td>\n",
              "      <td>7</td>\n",
              "      <td>1</td>\n",
              "      <td>2</td>\n",
              "      <td>2</td>\n",
              "      <td>11</td>\n",
              "      <td>4</td>\n",
              "      <td>9</td>\n",
              "      <td>0</td>\n",
              "    </tr>\n",
              "  </tbody>\n",
              "</table>\n",
              "</div>"
            ],
            "text/plain": [
              "   0   1   2   3   4   5   6   7   8   9   10\n",
              "0   1   1   1  13   2   4   2   3   1  12   0\n",
              "1   3  12   3   2   3  11   4   5   2   5   1\n",
              "2   1   9   4   6   1   4   3   2   3   9   1\n",
              "3   1   4   3  13   2  13   2   1   3   6   1\n",
              "4   3  10   2   7   1   2   2  11   4   9   0"
            ]
          },
          "metadata": {
            "tags": []
          },
          "execution_count": 7
        }
      ]
    },
    {
      "metadata": {
        "id": "iG9ZOkSMWZ6D",
        "colab_type": "code",
        "colab": {}
      },
      "cell_type": "code",
      "source": [
        "poker_data.count()"
      ],
      "execution_count": 0,
      "outputs": []
    },
    {
      "metadata": {
        "id": "gMcxnWbkWla1",
        "colab_type": "code",
        "outputId": "34576c2f-a85c-4b5a-e016-664394596fa2",
        "colab": {
          "base_uri": "https://localhost:8080/",
          "height": 221
        }
      },
      "cell_type": "code",
      "source": [
        "poker_data.isna().sum()"
      ],
      "execution_count": 8,
      "outputs": [
        {
          "output_type": "execute_result",
          "data": {
            "text/plain": [
              "0     0\n",
              "1     0\n",
              "2     0\n",
              "3     0\n",
              "4     0\n",
              "5     0\n",
              "6     0\n",
              "7     0\n",
              "8     0\n",
              "9     0\n",
              "10    0\n",
              "dtype: int64"
            ]
          },
          "metadata": {
            "tags": []
          },
          "execution_count": 8
        }
      ]
    },
    {
      "metadata": {
        "id": "AihdUkaDT8We",
        "colab_type": "text"
      },
      "cell_type": "markdown",
      "source": [
        "### Yes, but what does it *mean*?\n",
        "\n",
        "This data is fairly nice - it was \"donated\" and is already \"clean\" (no missing values). But there are no variable names - so we have to look at the codebook (also from the site).\n",
        "\n",
        "```\n",
        "1. name: Name of the country concerned\n",
        "2. landmass: 1=N.America, 2=S.America, 3=Europe, 4=Africa, 4=Asia, 6=Oceania\n",
        "3. zone: Geographic quadrant, based on Greenwich and the Equator; 1=NE, 2=SE, 3=SW, 4=NW\n",
        "4. area: in thousands of square km\n",
        "5. population: in round millions\n",
        "6. language: 1=English, 2=Spanish, 3=French, 4=German, 5=Slavic, 6=Other Indo-European, 7=Chinese, 8=Arabic, 9=Japanese/Turkish/Finnish/Magyar, 10=Others\n",
        "7. religion: 0=Catholic, 1=Other Christian, 2=Muslim, 3=Buddhist, 4=Hindu, 5=Ethnic, 6=Marxist, 7=Others\n",
        "8. bars: Number of vertical bars in the flag\n",
        "9. stripes: Number of horizontal stripes in the flag\n",
        "10. colours: Number of different colours in the flag\n",
        "11. red: 0 if red absent, 1 if red present in the flag\n",
        "12. green: same for green\n",
        "13. blue: same for blue\n",
        "14. gold: same for gold (also yellow)\n",
        "15. white: same for white\n",
        "16. black: same for black\n",
        "17. orange: same for orange (also brown)\n",
        "18. mainhue: predominant colour in the flag (tie-breaks decided by taking the topmost hue, if that fails then the most central hue, and if that fails the leftmost hue)\n",
        "19. circles: Number of circles in the flag\n",
        "20. crosses: Number of (upright) crosses\n",
        "21. saltires: Number of diagonal crosses\n",
        "22. quarters: Number of quartered sections\n",
        "23. sunstars: Number of sun or star symbols\n",
        "24. crescent: 1 if a crescent moon symbol present, else 0\n",
        "25. triangle: 1 if any triangles present, 0 otherwise\n",
        "26. icon: 1 if an inanimate image present (e.g., a boat), otherwise 0\n",
        "27. animate: 1 if an animate image (e.g., an eagle, a tree, a human hand) present, 0 otherwise\n",
        "28. text: 1 if any letters or writing on the flag (e.g., a motto or slogan), 0 otherwise\n",
        "29. topleft: colour in the top-left corner (moving right to decide tie-breaks)\n",
        "30. botright: Colour in the bottom-left corner (moving left to decide tie-breaks)\n",
        "```\n",
        "\n",
        "Exercise - read the help for `read_csv` and figure out how to load the data with the above variable names. One pitfall to note - with `header=None` pandas generated variable names starting from 0, but the above list starts from 1..."
      ]
    },
    {
      "metadata": {
        "id": "nPbUK_cLY15U",
        "colab_type": "text"
      },
      "cell_type": "markdown",
      "source": [
        "## Your assignment - pick a dataset and do something like the above\n",
        "\n",
        "This is purposely open-ended - you can pick any data set you wish. It is highly advised you pick a dataset from UCI or a similar \"clean\" source.\n",
        "\n",
        "If you get that done and want to try more challenging or exotic things, go for it! Use documentation as illustrated above, and follow the 20-minute rule (that is - ask for help if you're stuck).\n",
        "\n",
        "If you have loaded a few traditional datasets, see the following section for suggested stretch goals."
      ]
    },
    {
      "metadata": {
        "id": "NJdISe69ZT7E",
        "colab_type": "code",
        "colab": {
          "base_uri": "https://localhost:8080/",
          "height": 187
        },
        "outputId": "356a5cf6-e40d-4577-a02f-f00da9012e54"
      },
      "cell_type": "code",
      "source": [
        "# TODO your work here!\n",
        "# And note you should write comments, descriptions, and add new\n",
        "# code and text blocks as needed\n",
        "\n",
        "#Add header\n",
        "\n",
        "#Suit o card\n",
        "#Ordinal (1-4) representing {Hearts, Spades, Diamonds, Clubs} \n",
        "\n",
        "#Rank of card \n",
        "#Numerical (1-13) representing (Ace, 2, 3, ... , Queen, King) \n",
        "\n",
        "#\"Poker Hand\" \n",
        "#Ordinal (0-9) \n",
        "\n",
        "col = ['Suit of card #1','Rank of card #1','Suit of card #2','Rank of card #2','Suit of card #3','Rank of card #3','Suit of card #4','Rank of card #4','Suit of card #5','Rank of card #5',\"Poker Hand\"]\n",
        "\n",
        "poker_data = pd.read_csv(poker_data_url, header=None, names=col)\n",
        "poker_data.head()\n",
        "\n",
        "\n",
        "\n",
        "def getPercentage(i):\n",
        "  percentage = poker_data['Poker Hand'].tolist().count(i)/len(poker_data['Poker Hand'])\n",
        "  return percentage\n",
        "\n",
        "\n",
        "#Show the Percentage of each Poker Hand\n",
        "\n",
        "print('Nothing in hand; not a recognized poker hand: ',getPercentage(0))\n",
        "print('One pair; one pair of equal ranks within five cards: ',getPercentage(1)) \n",
        "print('Two pairs; two pairs of equal ranks within five cards: ',getPercentage(2)) \n",
        "print('Three of a kind; three equal ranks within five cards: ',getPercentage(3)) \n",
        "print('Straight; five cards, sequentially ranked with no gaps: ',getPercentage(4)) \n",
        "print('Flush; five cards with the same suit: ',getPercentage(5)) \n",
        "print('Full house; pair + different rank three of a kind: ',getPercentage(6)) \n",
        "print('Four of a kind; four equal ranks within five cards: ',getPercentage(7)) \n",
        "print('Straight flush; straight + flush: ',getPercentage(8)) \n",
        "print('Royal flush; {Ace, King, Queen, Jack, Ten} + flush: ',getPercentage(9)) "
      ],
      "execution_count": 30,
      "outputs": [
        {
          "output_type": "stream",
          "text": [
            "Nothing in hand; not a recognized poker hand:  0.501209\n",
            "One pair; one pair of equal ranks within five cards:  0.422498\n",
            "Two pairs; two pairs of equal ranks within five cards:  0.047622\n",
            "Three of a kind; three equal ranks within five cards:  0.021121\n",
            "Straight; five cards, sequentially ranked with no gaps:  0.003885\n",
            "Flush; five cards with the same suit:  0.001996\n",
            "Full house; pair + different rank three of a kind:  0.001424\n",
            "Four of a kind; four equal ranks within five cards:  0.00023\n",
            "Straight flush; straight + flush:  1.2e-05\n",
            "Royal flush; {Ace, King, Queen, Jack, Ten} + flush:  3e-06\n"
          ],
          "name": "stdout"
        }
      ]
    },
    {
      "metadata": {
        "id": "U2rBGjXgIHjd",
        "colab_type": "code",
        "colab": {}
      },
      "cell_type": "code",
      "source": [
        ""
      ],
      "execution_count": 0,
      "outputs": []
    },
    {
      "metadata": {
        "id": "MZCxTwKuReV9",
        "colab_type": "text"
      },
      "cell_type": "markdown",
      "source": [
        "## Stretch Goals - Other types and sources of data\n",
        "\n",
        "Not all data comes in a nice single file - for example, image classification involves handling lots of image files. You still will probably want labels for them, so you may have tabular data in addition to the image blobs - and the images may be reduced in resolution and even fit in a regular csv as a bunch of numbers.\n",
        "\n",
        "If you're interested in natural language processing and analyzing text, that is another example where, while it can be put in a csv, you may end up loading much larger raw data and generating features that can then be thought of in a more standard tabular fashion.\n",
        "\n",
        "Overall you will in the course of learning data science deal with loading data in a variety of ways. Another common way to get data is from a database - most modern applications are backed by one or more databases, which you can query to get data to analyze. We'll cover this more in our data engineering unit.\n",
        "\n",
        "How does data get in the database? Most applications generate logs - text files with lots and lots of records of each use of the application. Databases are often populated based on these files, but in some situations you may directly analyze log files. The usual way to do this is with command line (Unix) tools - command lines are intimidating, so don't expect to learn them all at once, but depending on your interests it can be useful to practice.\n",
        "\n",
        "One last major source of data is APIs: https://github.com/toddmotto/public-apis\n",
        "\n",
        "API stands for Application Programming Interface, and while originally meant e.g. the way an application interfaced with the GUI or other aspects of an operating system, now it largely refers to online services that let you query and retrieve data. You can essentially think of most of them as \"somebody else's database\" - you have (usually limited) access.\n",
        "\n",
        "*Stretch goal* - research one of the above extended forms of data/data loading. See if you can get a basic example working in a notebook. I suggset image, text, or (public) API - databases are interesting, but there aren't many publicly accessible and they require a great deal of setup."
      ]
    },
    {
      "metadata": {
        "id": "IqcuCdVyIJYi",
        "colab_type": "code",
        "colab": {
          "base_uri": "https://localhost:8080/",
          "height": 54
        },
        "outputId": "12c0e8be-4b32-4388-f0d6-6b507af1868d"
      },
      "cell_type": "code",
      "source": [
        "import requests\n",
        "import json\n",
        "\n",
        "#Get the job opening in los angeles related to python\n",
        "\n",
        "reponse = requests.get('https://jobs.github.com/positions.json?description=python&location=los+angeles')\n",
        "reponse.text\n",
        "job = json.loads(reponse.text)\n",
        "\n",
        "print(job)\n",
        "\n"
      ],
      "execution_count": 45,
      "outputs": [
        {
          "output_type": "stream",
          "text": [
            "[{'id': '76fcadae-e84e-11e8-88fc-96a168773892', 'type': 'Full Time', 'url': 'https://jobs.github.com/positions/76fcadae-e84e-11e8-88fc-96a168773892', 'created_at': 'Wed Nov 14 20:50:03 UTC 2018', 'company': 'NBCUniversal', 'company_url': 'https://www.nbcunicareers.com/', 'location': 'Universal City, CA', 'title': 'Media Software Engineer', 'description': '<p>Responsibilities :</p>\\n<p>Coding at the component level and works under minimal supervision.\\nAsset Management System Administration with systems, applications and service integrations.\\nProvide proactive, regular, and professional-level communication with clients and team members alike\\nManage system integration with 3rd party providers.\\nProvide usage reports and track key metrics as required.\\nEnsure delivered solutions enable the organization to manage the asset portfolio with respect to risk, cost, control, governance, compliance and business performance objectives\\nCollaborate with stakeholders, developers, and system teams to design and maintain automation and deployment tools\\nAssist project and technology teams in troubleshooting systems\\nCreate dashboards and other tools for Project, Operations and Engineering teams to use in day-to-day monitoring and troubleshooting and enhance operational transparency within business units\\nFollow Security Best Practices\\nOccasional after hour support based on upgrades, new deployments and high-profile campaigns and/or market critical events.</p>\\n<p>Job Requirements</p>\\n<p>Knowledge/experience in relevant technologies, such as:\\nXML Scripting\\nJava/JavaScript\\nJSON Messaging\\nHTTP Protocol\\nWeb Services (SOAP &amp; REST)\\nPython, Ruby, Perl, and Smalltalk or other scripting languages preferred\\nFamiliarity with ELK Stack (Prometheus) preferred\\nAmazon Web Services technologies experience preferred\\nAsset Management Systems\\nSolid interpersonal skills with the ability to communicate and present to all levels of the organization and with external parties\\nSelf-directed, highly motivated individual who can effectively manage multiple activities, pay attention to detail and a focus on continuous improvement.\\nHigh degree of professionalism</p>\\n<p>Desired Characteristics</p>\\n<p>Scope of activities within projects include:\\nBusiness requirements, documentation &amp; gap analysis\\nCoordination of connectivity setup\\nTechnical implementation/provisioning\\nDevelop test plans, procedures and scripting for new workflows, integration and automated UI testing\\nUnderstand Process flow and data mapping\\nData preparation, deployment and analysis\\nWeb services development\\nApplication knowledge: Orchestration tools, Workflow Engines, Search Engines, BPM and transcoding.\\nDatabase experience and network administration</p>\\n', 'how_to_apply': '<p>If interested, please apply here: <a href=\"https://sjobs.brassring.com/TGWEbHost/jobdetails.aspx?partnerid=25354&amp;siteid=5108&amp;areq=43037BR\">https://sjobs.brassring.com/TGWEbHost/jobdetails.aspx?partnerid=25354&amp;siteid=5108&amp;areq=43037BR</a></p>\\n', 'company_logo': None}, {'id': '9bd2d6fa-d7ee-11e8-9f5e-c14b0048f133', 'type': 'Full Time', 'url': 'https://jobs.github.com/positions/9bd2d6fa-d7ee-11e8-9f5e-c14b0048f133', 'created_at': 'Thu Oct 25 00:41:02 UTC 2018', 'company': 'Hello Design', 'company_url': 'https://www.hellodesign.com', 'location': 'Los Angeles, CA', 'title': 'Full Stack Developer', 'description': '<p>Hello is looking for a Full Stack Developer to help us make the future. Build award-winning interactive systems and collaborate with multi-disciplinary teams consisting of strategists, designers, and fellow programmers. We are looking for technologists who are passionate about their craft and have a drive for discovery and innovation.</p>\\n<p>Experience</p>\\n<ul>\\n<li>Can solve a problem in two ways</li>\\n<li>Quickly learn new languages and software</li>\\n<li>Master of the MVC and MVVC design pattern</li>\\n<li>Expert in PHP, Python, and/or Node.js</li>\\n<li>Experienced in schemaless databases such as Mongo, Couch, Dynamo</li>\\n<li>Can work with multiple content management systems and speak to their strategies, advantages, and disadvantages</li>\\n<li>Knowledgeable with caching systems such as Redis, Memcache</li>\\n<li>Familiar with AWS products such as EC2, ElastiCache, ECS, CloudFront, SQS, Elastic Transcoder, SNS</li>\\n<li>Have a working knowledge of JS Frameworks such as Backbone, Ember or AngularJS</li>\\n<li>Comfortable working in a Linux environment</li>\\n</ul>\\n<p>Attributes</p>\\n<ul>\\n<li>Detailed and organized</li>\\n<li>Excellent communicator, written an verbal</li>\\n<li>Able to manage multiple projects simultaneously</li>\\n<li>Responsible and capable of meeting tight deadlines</li>\\n<li>Enjoy working in a collaborative environment</li>\\n<li>Passion for quality design and innovation</li>\\n<li>A thirst for learning</li>\\n</ul>\\n<p>Hello is a creative agency driven to craft worthy experiences. We believe everything will be digital—surrounding us like the air we breathe. Our clients include Facebook, Nike, Tillamook, Sonos, Murad, and Supercell. Our work: hellodesign.com</p>\\n<p>We offer competitive salary, 100% employer paid health and dental, 401(k) match, paid vacation, holidays including winter break, gym discounts, fully stocked snack rack, freshly ground coffee, and really cute dogs</p>\\n', 'how_to_apply': '<p>Please apply using <a href=\"https://www.linkedin.com/jobs/view/932516853\">LinkedIn</a></p>\\n<p>Only qualified applicants will be called for an interview. Please no phone calls or office visits.</p>\\n', 'company_logo': 'https://jobs.github.com/rails/active_storage/blobs/eyJfcmFpbHMiOnsibWVzc2FnZSI6IkJBaHBBdDVYIiwiZXhwIjpudWxsLCJwdXIiOiJibG9iX2lkIn19--dc74fef37aa2ff245548ebd1fe643bc3eb7f9ebe/f9c740fb-f104-4833-a38b-d53bdd3930c5'}]\n"
          ],
          "name": "stdout"
        }
      ]
    },
    {
      "metadata": {
        "id": "E_Hm7dHrLXzM",
        "colab_type": "code",
        "colab": {}
      },
      "cell_type": "code",
      "source": [
        ""
      ],
      "execution_count": 0,
      "outputs": []
    }
  ]
}