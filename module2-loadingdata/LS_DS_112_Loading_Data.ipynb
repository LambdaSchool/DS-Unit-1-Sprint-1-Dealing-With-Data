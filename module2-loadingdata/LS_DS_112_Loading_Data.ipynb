{
  "nbformat": 4,
  "nbformat_minor": 0,
  "metadata": {
    "colab": {
      "name": "LS DS 112 - Loading Data.ipynb",
      "version": "0.3.2",
      "provenance": [],
      "collapsed_sections": [],
      "include_colab_link": true
    },
    "kernelspec": {
      "name": "python3",
      "display_name": "Python 3"
    }
  },
  "cells": [
    {
      "cell_type": "markdown",
      "metadata": {
        "id": "view-in-github",
        "colab_type": "text"
      },
      "source": [
        "<a href=\"https://colab.research.google.com/github/ShreyasJothish/DS-Sprint-01-Dealing-With-Data/blob/master/module2-loadingdata/LS_DS_112_Loading_Data.ipynb\" target=\"_parent\"><img src=\"https://colab.research.google.com/assets/colab-badge.svg\" alt=\"Open In Colab\"/></a>"
      ]
    },
    {
      "metadata": {
        "id": "-c0vWATuQ_Dn",
        "colab_type": "text"
      },
      "cell_type": "markdown",
      "source": [
        "# Lambda School Data Science - Loading Data\n",
        "\n",
        "Data comes in many shapes and sizes - we'll start by loading tabular data, usually in csv format.\n",
        "\n",
        "Data set sources:\n",
        "\n",
        "- https://archive.ics.uci.edu/ml/datasets.html\n",
        "- https://github.com/awesomedata/awesome-public-datasets\n",
        "- https://registry.opendata.aws/ (beyond scope for now, but good to be aware of)\n",
        "\n",
        "Let's start with an example - [data about flags](https://archive.ics.uci.edu/ml/datasets/Flags)."
      ]
    },
    {
      "metadata": {
        "id": "wxxBTeHUYs5a",
        "colab_type": "text"
      },
      "cell_type": "markdown",
      "source": [
        "## Lecture example - flag data"
      ]
    },
    {
      "metadata": {
        "id": "nc-iamjyRWwe",
        "colab_type": "code",
        "colab": {}
      },
      "cell_type": "code",
      "source": [
        "# Step 1 - find the actual file to download\n",
        "\n",
        "# From navigating the page, clicking \"Data Folder\"\n",
        "flag_data_url = 'https://archive.ics.uci.edu/ml/machine-learning-databases/flags/flag.data'\n",
        "\n",
        "# You can \"shell out\" in a notebook for more powerful tools\n",
        "# https://jakevdp.github.io/PythonDataScienceHandbook/01.05-ipython-and-shell-commands.html\n",
        "\n",
        "# Funny extension, but on inspection looks like a csv\n",
        "!curl https://archive.ics.uci.edu/ml/machine-learning-databases/flags/flag.data\n",
        "\n",
        "# Extensions are just a norm! You have to inspect to be sure what something is"
      ],
      "execution_count": 0,
      "outputs": []
    },
    {
      "metadata": {
        "id": "UKfOq1tlUvbZ",
        "colab_type": "code",
        "colab": {}
      },
      "cell_type": "code",
      "source": [
        "# Step 2 - load the data\n",
        "\n",
        "# How to deal with a csv? 🐼\n",
        "import pandas as pd\n",
        "flag_data = pd.read_csv(flag_data_url)"
      ],
      "execution_count": 0,
      "outputs": []
    },
    {
      "metadata": {
        "id": "exKPtcJyUyCX",
        "colab_type": "code",
        "colab": {}
      },
      "cell_type": "code",
      "source": [
        "# Step 3 - verify we've got *something*\n",
        "flag_data.head()"
      ],
      "execution_count": 0,
      "outputs": []
    },
    {
      "metadata": {
        "id": "rNmkv2g8VfAm",
        "colab_type": "code",
        "colab": {}
      },
      "cell_type": "code",
      "source": [
        "# Step 4 - Looks a bit odd - verify that it is what we want\n",
        "flag_data.count()"
      ],
      "execution_count": 0,
      "outputs": []
    },
    {
      "metadata": {
        "id": "iqPEwx3aWBDR",
        "colab_type": "code",
        "colab": {}
      },
      "cell_type": "code",
      "source": [
        "!curl https://archive.ics.uci.edu/ml/machine-learning-databases/flags/flag.data | wc"
      ],
      "execution_count": 0,
      "outputs": []
    },
    {
      "metadata": {
        "id": "5R1d1Ka2WHAY",
        "colab_type": "code",
        "colab": {}
      },
      "cell_type": "code",
      "source": [
        "# So we have 193 observations with funny names, file has 194 rows\n",
        "# Looks like the file has no header row, but read_csv assumes it does\n",
        "help(pd.read_csv)"
      ],
      "execution_count": 0,
      "outputs": []
    },
    {
      "metadata": {
        "id": "o-thnccIWTvc",
        "colab_type": "code",
        "colab": {}
      },
      "cell_type": "code",
      "source": [
        "# Alright, we can pass header=None to fix this\n",
        "flag_data = pd.read_csv(flag_data_url, header=None)\n",
        "flag_data.head()"
      ],
      "execution_count": 0,
      "outputs": []
    },
    {
      "metadata": {
        "id": "iG9ZOkSMWZ6D",
        "colab_type": "code",
        "colab": {}
      },
      "cell_type": "code",
      "source": [
        "flag_data.count()"
      ],
      "execution_count": 0,
      "outputs": []
    },
    {
      "metadata": {
        "id": "gMcxnWbkWla1",
        "colab_type": "code",
        "colab": {}
      },
      "cell_type": "code",
      "source": [
        "flag_data.isna().sum()"
      ],
      "execution_count": 0,
      "outputs": []
    },
    {
      "metadata": {
        "id": "AihdUkaDT8We",
        "colab_type": "text"
      },
      "cell_type": "markdown",
      "source": [
        "### Yes, but what does it *mean*?\n",
        "\n",
        "This data is fairly nice - it was \"donated\" and is already \"clean\" (no missing values). But there are no variable names - so we have to look at the codebook (also from the site).\n",
        "\n",
        "```\n",
        "1. name: Name of the country concerned\n",
        "2. landmass: 1=N.America, 2=S.America, 3=Europe, 4=Africa, 4=Asia, 6=Oceania\n",
        "3. zone: Geographic quadrant, based on Greenwich and the Equator; 1=NE, 2=SE, 3=SW, 4=NW\n",
        "4. area: in thousands of square km\n",
        "5. population: in round millions\n",
        "6. language: 1=English, 2=Spanish, 3=French, 4=German, 5=Slavic, 6=Other Indo-European, 7=Chinese, 8=Arabic, 9=Japanese/Turkish/Finnish/Magyar, 10=Others\n",
        "7. religion: 0=Catholic, 1=Other Christian, 2=Muslim, 3=Buddhist, 4=Hindu, 5=Ethnic, 6=Marxist, 7=Others\n",
        "8. bars: Number of vertical bars in the flag\n",
        "9. stripes: Number of horizontal stripes in the flag\n",
        "10. colours: Number of different colours in the flag\n",
        "11. red: 0 if red absent, 1 if red present in the flag\n",
        "12. green: same for green\n",
        "13. blue: same for blue\n",
        "14. gold: same for gold (also yellow)\n",
        "15. white: same for white\n",
        "16. black: same for black\n",
        "17. orange: same for orange (also brown)\n",
        "18. mainhue: predominant colour in the flag (tie-breaks decided by taking the topmost hue, if that fails then the most central hue, and if that fails the leftmost hue)\n",
        "19. circles: Number of circles in the flag\n",
        "20. crosses: Number of (upright) crosses\n",
        "21. saltires: Number of diagonal crosses\n",
        "22. quarters: Number of quartered sections\n",
        "23. sunstars: Number of sun or star symbols\n",
        "24. crescent: 1 if a crescent moon symbol present, else 0\n",
        "25. triangle: 1 if any triangles present, 0 otherwise\n",
        "26. icon: 1 if an inanimate image present (e.g., a boat), otherwise 0\n",
        "27. animate: 1 if an animate image (e.g., an eagle, a tree, a human hand) present, 0 otherwise\n",
        "28. text: 1 if any letters or writing on the flag (e.g., a motto or slogan), 0 otherwise\n",
        "29. topleft: colour in the top-left corner (moving right to decide tie-breaks)\n",
        "30. botright: Colour in the bottom-left corner (moving left to decide tie-breaks)\n",
        "```\n",
        "\n",
        "Exercise - read the help for `read_csv` and figure out how to load the data with the above variable names. One pitfall to note - with `header=None` pandas generated variable names starting from 0, but the above list starts from 1..."
      ]
    },
    {
      "metadata": {
        "id": "nPbUK_cLY15U",
        "colab_type": "text"
      },
      "cell_type": "markdown",
      "source": [
        "## Your assignment - pick a dataset and do something like the above\n",
        "\n",
        "This is purposely open-ended - you can pick any data set you wish. It is highly advised you pick a dataset from UCI or a similar \"clean\" source.\n",
        "\n",
        "If you get that done and want to try more challenging or exotic things, go for it! Use documentation as illustrated above, and follow the 20-minute rule (that is - ask for help if you're stuck).\n",
        "\n",
        "If you have loaded a few traditional datasets, see the following section for suggested stretch goals."
      ]
    },
    {
      "metadata": {
        "id": "NJdISe69ZT7E",
        "colab_type": "code",
        "colab": {
          "base_uri": "https://localhost:8080/",
          "height": 1762
        },
        "outputId": "2feebec0-b07e-4164-ee89-6144904ee7ed"
      },
      "cell_type": "code",
      "source": [
        "# Working on Zoo Data Set\n",
        "# https://archive.ics.uci.edu/ml/datasets/Zoo\n",
        "\n",
        "# Step 1 - find the actual file to download\n",
        "zoo_data_url = \"https://archive.ics.uci.edu/ml/machine-learning-databases/zoo/zoo.data\"\n",
        "\n",
        "#Check the data format\n",
        "!curl $zoo_data_url"
      ],
      "execution_count": 1,
      "outputs": [
        {
          "output_type": "stream",
          "text": [
            "aardvark,1,0,0,1,0,0,1,1,1,1,0,0,4,0,0,1,1\n",
            "antelope,1,0,0,1,0,0,0,1,1,1,0,0,4,1,0,1,1\n",
            "bass,0,0,1,0,0,1,1,1,1,0,0,1,0,1,0,0,4\n",
            "bear,1,0,0,1,0,0,1,1,1,1,0,0,4,0,0,1,1\n",
            "boar,1,0,0,1,0,0,1,1,1,1,0,0,4,1,0,1,1\n",
            "buffalo,1,0,0,1,0,0,0,1,1,1,0,0,4,1,0,1,1\n",
            "calf,1,0,0,1,0,0,0,1,1,1,0,0,4,1,1,1,1\n",
            "carp,0,0,1,0,0,1,0,1,1,0,0,1,0,1,1,0,4\n",
            "catfish,0,0,1,0,0,1,1,1,1,0,0,1,0,1,0,0,4\n",
            "cavy,1,0,0,1,0,0,0,1,1,1,0,0,4,0,1,0,1\n",
            "cheetah,1,0,0,1,0,0,1,1,1,1,0,0,4,1,0,1,1\n",
            "chicken,0,1,1,0,1,0,0,0,1,1,0,0,2,1,1,0,2\n",
            "chub,0,0,1,0,0,1,1,1,1,0,0,1,0,1,0,0,4\n",
            "clam,0,0,1,0,0,0,1,0,0,0,0,0,0,0,0,0,7\n",
            "crab,0,0,1,0,0,1,1,0,0,0,0,0,4,0,0,0,7\n",
            "crayfish,0,0,1,0,0,1,1,0,0,0,0,0,6,0,0,0,7\n",
            "crow,0,1,1,0,1,0,1,0,1,1,0,0,2,1,0,0,2\n",
            "deer,1,0,0,1,0,0,0,1,1,1,0,0,4,1,0,1,1\n",
            "dogfish,0,0,1,0,0,1,1,1,1,0,0,1,0,1,0,1,4\n",
            "dolphin,0,0,0,1,0,1,1,1,1,1,0,1,0,1,0,1,1\n",
            "dove,0,1,1,0,1,0,0,0,1,1,0,0,2,1,1,0,2\n",
            "duck,0,1,1,0,1,1,0,0,1,1,0,0,2,1,0,0,2\n",
            "elephant,1,0,0,1,0,0,0,1,1,1,0,0,4,1,0,1,1\n",
            "flamingo,0,1,1,0,1,0,0,0,1,1,0,0,2,1,0,1,2\n",
            "flea,0,0,1,0,0,0,0,0,0,1,0,0,6,0,0,0,6\n",
            "frog,0,0,1,0,0,1,1,1,1,1,0,0,4,0,0,0,5\n",
            "frog,0,0,1,0,0,1,1,1,1,1,1,0,4,0,0,0,5\n",
            "fruitbat,1,0,0,1,1,0,0,1,1,1,0,0,2,1,0,0,1\n",
            "giraffe,1,0,0,1,0,0,0,1,1,1,0,0,4,1,0,1,1\n",
            "girl,1,0,0,1,0,0,1,1,1,1,0,0,2,0,1,1,1\n",
            "gnat,0,0,1,0,1,0,0,0,0,1,0,0,6,0,0,0,6\n",
            "goat,1,0,0,1,0,0,0,1,1,1,0,0,4,1,1,1,1\n",
            "gorilla,1,0,0,1,0,0,0,1,1,1,0,0,2,0,0,1,1\n",
            "gull,0,1,1,0,1,1,1,0,1,1,0,0,2,1,0,0,2\n",
            "haddock,0,0,1,0,0,1,0,1,1,0,0,1,0,1,0,0,4\n",
            "hamster,1,0,0,1,0,0,0,1,1,1,0,0,4,1,1,0,1\n",
            "hare,1,0,0,1,0,0,0,1,1,1,0,0,4,1,0,0,1\n",
            "hawk,0,1,1,0,1,0,1,0,1,1,0,0,2,1,0,0,2\n",
            "herring,0,0,1,0,0,1,1,1,1,0,0,1,0,1,0,0,4\n",
            "honeybee,1,0,1,0,1,0,0,0,0,1,1,0,6,0,1,0,6\n",
            "housefly,1,0,1,0,1,0,0,0,0,1,0,0,6,0,0,0,6\n",
            "kiwi,0,1,1,0,0,0,1,0,1,1,0,0,2,1,0,0,2\n",
            "ladybird,0,0,1,0,1,0,1,0,0,1,0,0,6,0,0,0,6\n",
            "lark,0,1,1,0,1,0,0,0,1,1,0,0,2,1,0,0,2\n",
            "leopard,1,0,0,1,0,0,1,1,1,1,0,0,4,1,0,1,1\n",
            "lion,1,0,0,1,0,0,1,1,1,1,0,0,4,1,0,1,1\n",
            "lobster,0,0,1,0,0,1,1,0,0,0,0,0,6,0,0,0,7\n",
            "lynx,1,0,0,1,0,0,1,1,1,1,0,0,4,1,0,1,1\n",
            "mink,1,0,0,1,0,1,1,1,1,1,0,0,4,1,0,1,1\n",
            "mole,1,0,0,1,0,0,1,1,1,1,0,0,4,1,0,0,1\n",
            "mongoose,1,0,0,1,0,0,1,1,1,1,0,0,4,1,0,1,1\n",
            "moth,1,0,1,0,1,0,0,0,0,1,0,0,6,0,0,0,6\n",
            "newt,0,0,1,0,0,1,1,1,1,1,0,0,4,1,0,0,5\n",
            "octopus,0,0,1,0,0,1,1,0,0,0,0,0,8,0,0,1,7\n",
            "opossum,1,0,0,1,0,0,1,1,1,1,0,0,4,1,0,0,1\n",
            "oryx,1,0,0,1,0,0,0,1,1,1,0,0,4,1,0,1,1\n",
            "ostrich,0,1,1,0,0,0,0,0,1,1,0,0,2,1,0,1,2\n",
            "parakeet,0,1,1,0,1,0,0,0,1,1,0,0,2,1,1,0,2\n",
            "penguin,0,1,1,0,0,1,1,0,1,1,0,0,2,1,0,1,2\n",
            "pheasant,0,1,1,0,1,0,0,0,1,1,0,0,2,1,0,0,2\n",
            "pike,0,0,1,0,0,1,1,1,1,0,0,1,0,1,0,1,4\n",
            "piranha,0,0,1,0,0,1,1,1,1,0,0,1,0,1,0,0,4\n",
            "pitviper,0,0,1,0,0,0,1,1,1,1,1,0,0,1,0,0,3\n",
            "platypus,1,0,1,1,0,1,1,0,1,1,0,0,4,1,0,1,1\n",
            "polecat,1,0,0,1,0,0,1,1,1,1,0,0,4,1,0,1,1\n",
            "pony,1,0,0,1,0,0,0,1,1,1,0,0,4,1,1,1,1\n",
            "porpoise,0,0,0,1,0,1,1,1,1,1,0,1,0,1,0,1,1\n",
            "puma,1,0,0,1,0,0,1,1,1,1,0,0,4,1,0,1,1\n",
            "pussycat,1,0,0,1,0,0,1,1,1,1,0,0,4,1,1,1,1\n",
            "raccoon,1,0,0,1,0,0,1,1,1,1,0,0,4,1,0,1,1\n",
            "reindeer,1,0,0,1,0,0,0,1,1,1,0,0,4,1,1,1,1\n",
            "rhea,0,1,1,0,0,0,1,0,1,1,0,0,2,1,0,1,2\n",
            "scorpion,0,0,0,0,0,0,1,0,0,1,1,0,8,1,0,0,7\n",
            "seahorse,0,0,1,0,0,1,0,1,1,0,0,1,0,1,0,0,4\n",
            "seal,1,0,0,1,0,1,1,1,1,1,0,1,0,0,0,1,1\n",
            "sealion,1,0,0,1,0,1,1,1,1,1,0,1,2,1,0,1,1\n",
            "seasnake,0,0,0,0,0,1,1,1,1,0,1,0,0,1,0,0,3\n",
            "seawasp,0,0,1,0,0,1,1,0,0,0,1,0,0,0,0,0,7\n",
            "skimmer,0,1,1,0,1,1,1,0,1,1,0,0,2,1,0,0,2\n",
            "skua,0,1,1,0,1,1,1,0,1,1,0,0,2,1,0,0,2\n",
            "slowworm,0,0,1,0,0,0,1,1,1,1,0,0,0,1,0,0,3\n",
            "slug,0,0,1,0,0,0,0,0,0,1,0,0,0,0,0,0,7\n",
            "sole,0,0,1,0,0,1,0,1,1,0,0,1,0,1,0,0,4\n",
            "sparrow,0,1,1,0,1,0,0,0,1,1,0,0,2,1,0,0,2\n",
            "squirrel,1,0,0,1,0,0,0,1,1,1,0,0,2,1,0,0,1\n",
            "starfish,0,0,1,0,0,1,1,0,0,0,0,0,5,0,0,0,7\n",
            "stingray,0,0,1,0,0,1,1,1,1,0,1,1,0,1,0,1,4\n",
            "swan,0,1,1,0,1,1,0,0,1,1,0,0,2,1,0,1,2\n",
            "termite,0,0,1,0,0,0,0,0,0,1,0,0,6,0,0,0,6\n",
            "toad,0,0,1,0,0,1,0,1,1,1,0,0,4,0,0,0,5\n",
            "tortoise,0,0,1,0,0,0,0,0,1,1,0,0,4,1,0,1,3\n",
            "tuatara,0,0,1,0,0,0,1,1,1,1,0,0,4,1,0,0,3\n",
            "tuna,0,0,1,0,0,1,1,1,1,0,0,1,0,1,0,1,4\n",
            "vampire,1,0,0,1,1,0,0,1,1,1,0,0,2,1,0,0,1\n",
            "vole,1,0,0,1,0,0,0,1,1,1,0,0,4,1,0,0,1\n",
            "vulture,0,1,1,0,1,0,1,0,1,1,0,0,2,1,0,1,2\n",
            "wallaby,1,0,0,1,0,0,0,1,1,1,0,0,2,1,0,1,1\n",
            "wasp,1,0,1,0,1,0,0,0,0,1,1,0,6,0,0,0,6\n",
            "wolf,1,0,0,1,0,0,1,1,1,1,0,0,4,1,0,1,1\n",
            "worm,0,0,1,0,0,0,0,0,0,1,0,0,0,0,0,0,7\n",
            "wren,0,1,1,0,1,0,0,0,1,1,0,0,2,1,0,0,2\n"
          ],
          "name": "stdout"
        }
      ]
    },
    {
      "metadata": {
        "id": "82WmSzDIkn81",
        "colab_type": "code",
        "colab": {}
      },
      "cell_type": "code",
      "source": [
        "# Step 2 - load the data\n",
        "\n",
        "import pandas as pd\n",
        "column_names = ['animal_name','hair','features','eggs',\n",
        "                'milk','airborne','aquatic','predator','toothed',\n",
        "                'backbone','breathes','venomous','fins','legs',\n",
        "                'tail','domestic','catsize','type']\n",
        "zoo_data = pd.read_csv(zoo_data_url, header=None, names=column_names)"
      ],
      "execution_count": 0,
      "outputs": []
    },
    {
      "metadata": {
        "id": "UMdaJUBLnVLb",
        "colab_type": "code",
        "colab": {
          "base_uri": "https://localhost:8080/",
          "height": 743
        },
        "outputId": "b57b12de-6c6f-4769-ac35-9734c7225717"
      },
      "cell_type": "code",
      "source": [
        "# Step 3 - verify we've got *something*\n",
        "print(\"zoo_data.head\")\n",
        "print(zoo_data.head())\n",
        "print(\"zoo_data.count is \")\n",
        "print(zoo_data.count())\n",
        "print(\"zoo_data.isna().sum().sum() is\",zoo_data.isna().sum().sum())"
      ],
      "execution_count": 3,
      "outputs": [
        {
          "output_type": "stream",
          "text": [
            "zoo_data.head\n",
            "  animal_name  hair  features  eggs  milk  airborne  aquatic  predator  \\\n",
            "0    aardvark     1         0     0     1         0        0         1   \n",
            "1    antelope     1         0     0     1         0        0         0   \n",
            "2        bass     0         0     1     0         0        1         1   \n",
            "3        bear     1         0     0     1         0        0         1   \n",
            "4        boar     1         0     0     1         0        0         1   \n",
            "\n",
            "   toothed  backbone  breathes  venomous  fins  legs  tail  domestic  catsize  \\\n",
            "0        1         1         1         0     0     4     0         0        1   \n",
            "1        1         1         1         0     0     4     1         0        1   \n",
            "2        1         1         0         0     1     0     1         0        0   \n",
            "3        1         1         1         0     0     4     0         0        1   \n",
            "4        1         1         1         0     0     4     1         0        1   \n",
            "\n",
            "   type  \n",
            "0     1  \n",
            "1     1  \n",
            "2     4  \n",
            "3     1  \n",
            "4     1  \n",
            "zoo_data.count is \n",
            "animal_name    101\n",
            "hair           101\n",
            "features       101\n",
            "eggs           101\n",
            "milk           101\n",
            "airborne       101\n",
            "aquatic        101\n",
            "predator       101\n",
            "toothed        101\n",
            "backbone       101\n",
            "breathes       101\n",
            "venomous       101\n",
            "fins           101\n",
            "legs           101\n",
            "tail           101\n",
            "domestic       101\n",
            "catsize        101\n",
            "type           101\n",
            "dtype: int64\n",
            "zoo_data.isna().sum().sum() is 0\n"
          ],
          "name": "stdout"
        }
      ]
    },
    {
      "metadata": {
        "id": "MZCxTwKuReV9",
        "colab_type": "text"
      },
      "cell_type": "markdown",
      "source": [
        "## Stretch Goals - Other types and sources of data\n",
        "\n",
        "Not all data comes in a nice single file - for example, image classification involves handling lots of image files. You still will probably want labels for them, so you may have tabular data in addition to the image blobs - and the images may be reduced in resolution and even fit in a regular csv as a bunch of numbers.\n",
        "\n",
        "If you're interested in natural language processing and analyzing text, that is another example where, while it can be put in a csv, you may end up loading much larger raw data and generating features that can then be thought of in a more standard tabular fashion.\n",
        "\n",
        "Overall you will in the course of learning data science deal with loading data in a variety of ways. Another common way to get data is from a database - most modern applications are backed by one or more databases, which you can query to get data to analyze. We'll cover this more in our data engineering unit.\n",
        "\n",
        "How does data get in the database? Most applications generate logs - text files with lots and lots of records of each use of the application. Databases are often populated based on these files, but in some situations you may directly analyze log files. The usual way to do this is with command line (Unix) tools - command lines are intimidating, so don't expect to learn them all at once, but depending on your interests it can be useful to practice.\n",
        "\n",
        "One last major source of data is APIs: https://github.com/toddmotto/public-apis\n",
        "\n",
        "API stands for Application Programming Interface, and while originally meant e.g. the way an application interfaced with the GUI or other aspects of an operating system, now it largely refers to online services that let you query and retrieve data. You can essentially think of most of them as \"somebody else's database\" - you have (usually limited) access.\n",
        "\n",
        "*Stretch goal* - research one of the above extended forms of data/data loading. See if you can get a basic example working in a notebook. I suggset image, text, or (public) API - databases are interesting, but there aren't many publicly accessible and they require a great deal of setup."
      ]
    }
  ]
}