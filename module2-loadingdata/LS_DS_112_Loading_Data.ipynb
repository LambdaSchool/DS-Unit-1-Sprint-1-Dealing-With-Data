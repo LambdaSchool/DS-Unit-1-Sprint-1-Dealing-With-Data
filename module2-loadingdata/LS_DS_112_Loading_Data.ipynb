{
  "nbformat": 4,
  "nbformat_minor": 0,
  "metadata": {
    "colab": {
      "name": "LS DS 112 - Loading Data.ipynb",
      "version": "0.3.2",
      "provenance": [],
      "collapsed_sections": [],
      "toc_visible": true,
      "include_colab_link": true
    },
    "kernelspec": {
      "name": "python3",
      "display_name": "Python 3"
    }
  },
  "cells": [
    {
      "cell_type": "markdown",
      "metadata": {
        "id": "view-in-github",
        "colab_type": "text"
      },
      "source": [
        "<a href=\"https://colab.research.google.com/github/ShreyasJothish/DS-Sprint-01-Dealing-With-Data/blob/master/module2-loadingdata/LS_DS_112_Loading_Data.ipynb\" target=\"_parent\"><img src=\"https://colab.research.google.com/assets/colab-badge.svg\" alt=\"Open In Colab\"/></a>"
      ]
    },
    {
      "metadata": {
        "id": "-c0vWATuQ_Dn",
        "colab_type": "text"
      },
      "cell_type": "markdown",
      "source": [
        "# Lambda School Data Science - Loading Data\n",
        "\n",
        "Data comes in many shapes and sizes - we'll start by loading tabular data, usually in csv format.\n",
        "\n",
        "Data set sources:\n",
        "\n",
        "- https://archive.ics.uci.edu/ml/datasets.html\n",
        "- https://github.com/awesomedata/awesome-public-datasets\n",
        "- https://registry.opendata.aws/ (beyond scope for now, but good to be aware of)\n",
        "\n",
        "Let's start with an example - [data about flags](https://archive.ics.uci.edu/ml/datasets/Flags)."
      ]
    },
    {
      "metadata": {
        "id": "wxxBTeHUYs5a",
        "colab_type": "text"
      },
      "cell_type": "markdown",
      "source": [
        "## Lecture example - flag data"
      ]
    },
    {
      "metadata": {
        "id": "nc-iamjyRWwe",
        "colab_type": "code",
        "colab": {}
      },
      "cell_type": "code",
      "source": [
        "# Step 1 - find the actual file to download\n",
        "\n",
        "# From navigating the page, clicking \"Data Folder\"\n",
        "flag_data_url = 'https://archive.ics.uci.edu/ml/machine-learning-databases/flags/flag.data'\n",
        "\n",
        "# You can \"shell out\" in a notebook for more powerful tools\n",
        "# https://jakevdp.github.io/PythonDataScienceHandbook/01.05-ipython-and-shell-commands.html\n",
        "\n",
        "# Funny extension, but on inspection looks like a csv\n",
        "!curl https://archive.ics.uci.edu/ml/machine-learning-databases/flags/flag.data\n",
        "\n",
        "# Extensions are just a norm! You have to inspect to be sure what something is"
      ],
      "execution_count": 0,
      "outputs": []
    },
    {
      "metadata": {
        "id": "UKfOq1tlUvbZ",
        "colab_type": "code",
        "colab": {}
      },
      "cell_type": "code",
      "source": [
        "# Step 2 - load the data\n",
        "\n",
        "# How to deal with a csv? 🐼\n",
        "import pandas as pd\n",
        "flag_data = pd.read_csv(flag_data_url)"
      ],
      "execution_count": 0,
      "outputs": []
    },
    {
      "metadata": {
        "id": "exKPtcJyUyCX",
        "colab_type": "code",
        "colab": {}
      },
      "cell_type": "code",
      "source": [
        "# Step 3 - verify we've got *something*\n",
        "flag_data.head()"
      ],
      "execution_count": 0,
      "outputs": []
    },
    {
      "metadata": {
        "id": "rNmkv2g8VfAm",
        "colab_type": "code",
        "colab": {}
      },
      "cell_type": "code",
      "source": [
        "# Step 4 - Looks a bit odd - verify that it is what we want\n",
        "flag_data.count()"
      ],
      "execution_count": 0,
      "outputs": []
    },
    {
      "metadata": {
        "id": "iqPEwx3aWBDR",
        "colab_type": "code",
        "colab": {}
      },
      "cell_type": "code",
      "source": [
        "!curl https://archive.ics.uci.edu/ml/machine-learning-databases/flags/flag.data | wc"
      ],
      "execution_count": 0,
      "outputs": []
    },
    {
      "metadata": {
        "id": "5R1d1Ka2WHAY",
        "colab_type": "code",
        "colab": {}
      },
      "cell_type": "code",
      "source": [
        "# So we have 193 observations with funny names, file has 194 rows\n",
        "# Looks like the file has no header row, but read_csv assumes it does\n",
        "help(pd.read_csv)"
      ],
      "execution_count": 0,
      "outputs": []
    },
    {
      "metadata": {
        "id": "o-thnccIWTvc",
        "colab_type": "code",
        "colab": {}
      },
      "cell_type": "code",
      "source": [
        "# Alright, we can pass header=None to fix this\n",
        "flag_data = pd.read_csv(flag_data_url, header=None)\n",
        "flag_data.head()"
      ],
      "execution_count": 0,
      "outputs": []
    },
    {
      "metadata": {
        "id": "iG9ZOkSMWZ6D",
        "colab_type": "code",
        "colab": {}
      },
      "cell_type": "code",
      "source": [
        "flag_data.count()"
      ],
      "execution_count": 0,
      "outputs": []
    },
    {
      "metadata": {
        "id": "gMcxnWbkWla1",
        "colab_type": "code",
        "colab": {}
      },
      "cell_type": "code",
      "source": [
        "flag_data.isna().sum()"
      ],
      "execution_count": 0,
      "outputs": []
    },
    {
      "metadata": {
        "id": "AihdUkaDT8We",
        "colab_type": "text"
      },
      "cell_type": "markdown",
      "source": [
        "### Yes, but what does it *mean*?\n",
        "\n",
        "This data is fairly nice - it was \"donated\" and is already \"clean\" (no missing values). But there are no variable names - so we have to look at the codebook (also from the site).\n",
        "\n",
        "```\n",
        "1. name: Name of the country concerned\n",
        "2. landmass: 1=N.America, 2=S.America, 3=Europe, 4=Africa, 4=Asia, 6=Oceania\n",
        "3. zone: Geographic quadrant, based on Greenwich and the Equator; 1=NE, 2=SE, 3=SW, 4=NW\n",
        "4. area: in thousands of square km\n",
        "5. population: in round millions\n",
        "6. language: 1=English, 2=Spanish, 3=French, 4=German, 5=Slavic, 6=Other Indo-European, 7=Chinese, 8=Arabic, 9=Japanese/Turkish/Finnish/Magyar, 10=Others\n",
        "7. religion: 0=Catholic, 1=Other Christian, 2=Muslim, 3=Buddhist, 4=Hindu, 5=Ethnic, 6=Marxist, 7=Others\n",
        "8. bars: Number of vertical bars in the flag\n",
        "9. stripes: Number of horizontal stripes in the flag\n",
        "10. colours: Number of different colours in the flag\n",
        "11. red: 0 if red absent, 1 if red present in the flag\n",
        "12. green: same for green\n",
        "13. blue: same for blue\n",
        "14. gold: same for gold (also yellow)\n",
        "15. white: same for white\n",
        "16. black: same for black\n",
        "17. orange: same for orange (also brown)\n",
        "18. mainhue: predominant colour in the flag (tie-breaks decided by taking the topmost hue, if that fails then the most central hue, and if that fails the leftmost hue)\n",
        "19. circles: Number of circles in the flag\n",
        "20. crosses: Number of (upright) crosses\n",
        "21. saltires: Number of diagonal crosses\n",
        "22. quarters: Number of quartered sections\n",
        "23. sunstars: Number of sun or star symbols\n",
        "24. crescent: 1 if a crescent moon symbol present, else 0\n",
        "25. triangle: 1 if any triangles present, 0 otherwise\n",
        "26. icon: 1 if an inanimate image present (e.g., a boat), otherwise 0\n",
        "27. animate: 1 if an animate image (e.g., an eagle, a tree, a human hand) present, 0 otherwise\n",
        "28. text: 1 if any letters or writing on the flag (e.g., a motto or slogan), 0 otherwise\n",
        "29. topleft: colour in the top-left corner (moving right to decide tie-breaks)\n",
        "30. botright: Colour in the bottom-left corner (moving left to decide tie-breaks)\n",
        "```\n",
        "\n",
        "Exercise - read the help for `read_csv` and figure out how to load the data with the above variable names. One pitfall to note - with `header=None` pandas generated variable names starting from 0, but the above list starts from 1..."
      ]
    },
    {
      "metadata": {
        "id": "nPbUK_cLY15U",
        "colab_type": "text"
      },
      "cell_type": "markdown",
      "source": [
        "## Your assignment - pick a dataset and do something like the above\n",
        "\n",
        "This is purposely open-ended - you can pick any data set you wish. It is highly advised you pick a dataset from UCI or a similar \"clean\" source.\n",
        "\n",
        "If you get that done and want to try more challenging or exotic things, go for it! Use documentation as illustrated above, and follow the 20-minute rule (that is - ask for help if you're stuck).\n",
        "\n",
        "If you have loaded a few traditional datasets, see the following section for suggested stretch goals."
      ]
    },
    {
      "metadata": {
        "id": "NJdISe69ZT7E",
        "colab_type": "code",
        "colab": {
          "base_uri": "https://localhost:8080/",
          "height": 1762
        },
        "outputId": "2feebec0-b07e-4164-ee89-6144904ee7ed"
      },
      "cell_type": "code",
      "source": [
        "# Working on Zoo Data Set\n",
        "# https://archive.ics.uci.edu/ml/datasets/Zoo\n",
        "\n",
        "# Step 1 - find the actual file to download\n",
        "zoo_data_url = \"https://archive.ics.uci.edu/ml/machine-learning-databases/zoo/zoo.data\"\n",
        "\n",
        "#Check the data format\n",
        "!curl $zoo_data_url"
      ],
      "execution_count": 1,
      "outputs": [
        {
          "output_type": "stream",
          "text": [
            "aardvark,1,0,0,1,0,0,1,1,1,1,0,0,4,0,0,1,1\n",
            "antelope,1,0,0,1,0,0,0,1,1,1,0,0,4,1,0,1,1\n",
            "bass,0,0,1,0,0,1,1,1,1,0,0,1,0,1,0,0,4\n",
            "bear,1,0,0,1,0,0,1,1,1,1,0,0,4,0,0,1,1\n",
            "boar,1,0,0,1,0,0,1,1,1,1,0,0,4,1,0,1,1\n",
            "buffalo,1,0,0,1,0,0,0,1,1,1,0,0,4,1,0,1,1\n",
            "calf,1,0,0,1,0,0,0,1,1,1,0,0,4,1,1,1,1\n",
            "carp,0,0,1,0,0,1,0,1,1,0,0,1,0,1,1,0,4\n",
            "catfish,0,0,1,0,0,1,1,1,1,0,0,1,0,1,0,0,4\n",
            "cavy,1,0,0,1,0,0,0,1,1,1,0,0,4,0,1,0,1\n",
            "cheetah,1,0,0,1,0,0,1,1,1,1,0,0,4,1,0,1,1\n",
            "chicken,0,1,1,0,1,0,0,0,1,1,0,0,2,1,1,0,2\n",
            "chub,0,0,1,0,0,1,1,1,1,0,0,1,0,1,0,0,4\n",
            "clam,0,0,1,0,0,0,1,0,0,0,0,0,0,0,0,0,7\n",
            "crab,0,0,1,0,0,1,1,0,0,0,0,0,4,0,0,0,7\n",
            "crayfish,0,0,1,0,0,1,1,0,0,0,0,0,6,0,0,0,7\n",
            "crow,0,1,1,0,1,0,1,0,1,1,0,0,2,1,0,0,2\n",
            "deer,1,0,0,1,0,0,0,1,1,1,0,0,4,1,0,1,1\n",
            "dogfish,0,0,1,0,0,1,1,1,1,0,0,1,0,1,0,1,4\n",
            "dolphin,0,0,0,1,0,1,1,1,1,1,0,1,0,1,0,1,1\n",
            "dove,0,1,1,0,1,0,0,0,1,1,0,0,2,1,1,0,2\n",
            "duck,0,1,1,0,1,1,0,0,1,1,0,0,2,1,0,0,2\n",
            "elephant,1,0,0,1,0,0,0,1,1,1,0,0,4,1,0,1,1\n",
            "flamingo,0,1,1,0,1,0,0,0,1,1,0,0,2,1,0,1,2\n",
            "flea,0,0,1,0,0,0,0,0,0,1,0,0,6,0,0,0,6\n",
            "frog,0,0,1,0,0,1,1,1,1,1,0,0,4,0,0,0,5\n",
            "frog,0,0,1,0,0,1,1,1,1,1,1,0,4,0,0,0,5\n",
            "fruitbat,1,0,0,1,1,0,0,1,1,1,0,0,2,1,0,0,1\n",
            "giraffe,1,0,0,1,0,0,0,1,1,1,0,0,4,1,0,1,1\n",
            "girl,1,0,0,1,0,0,1,1,1,1,0,0,2,0,1,1,1\n",
            "gnat,0,0,1,0,1,0,0,0,0,1,0,0,6,0,0,0,6\n",
            "goat,1,0,0,1,0,0,0,1,1,1,0,0,4,1,1,1,1\n",
            "gorilla,1,0,0,1,0,0,0,1,1,1,0,0,2,0,0,1,1\n",
            "gull,0,1,1,0,1,1,1,0,1,1,0,0,2,1,0,0,2\n",
            "haddock,0,0,1,0,0,1,0,1,1,0,0,1,0,1,0,0,4\n",
            "hamster,1,0,0,1,0,0,0,1,1,1,0,0,4,1,1,0,1\n",
            "hare,1,0,0,1,0,0,0,1,1,1,0,0,4,1,0,0,1\n",
            "hawk,0,1,1,0,1,0,1,0,1,1,0,0,2,1,0,0,2\n",
            "herring,0,0,1,0,0,1,1,1,1,0,0,1,0,1,0,0,4\n",
            "honeybee,1,0,1,0,1,0,0,0,0,1,1,0,6,0,1,0,6\n",
            "housefly,1,0,1,0,1,0,0,0,0,1,0,0,6,0,0,0,6\n",
            "kiwi,0,1,1,0,0,0,1,0,1,1,0,0,2,1,0,0,2\n",
            "ladybird,0,0,1,0,1,0,1,0,0,1,0,0,6,0,0,0,6\n",
            "lark,0,1,1,0,1,0,0,0,1,1,0,0,2,1,0,0,2\n",
            "leopard,1,0,0,1,0,0,1,1,1,1,0,0,4,1,0,1,1\n",
            "lion,1,0,0,1,0,0,1,1,1,1,0,0,4,1,0,1,1\n",
            "lobster,0,0,1,0,0,1,1,0,0,0,0,0,6,0,0,0,7\n",
            "lynx,1,0,0,1,0,0,1,1,1,1,0,0,4,1,0,1,1\n",
            "mink,1,0,0,1,0,1,1,1,1,1,0,0,4,1,0,1,1\n",
            "mole,1,0,0,1,0,0,1,1,1,1,0,0,4,1,0,0,1\n",
            "mongoose,1,0,0,1,0,0,1,1,1,1,0,0,4,1,0,1,1\n",
            "moth,1,0,1,0,1,0,0,0,0,1,0,0,6,0,0,0,6\n",
            "newt,0,0,1,0,0,1,1,1,1,1,0,0,4,1,0,0,5\n",
            "octopus,0,0,1,0,0,1,1,0,0,0,0,0,8,0,0,1,7\n",
            "opossum,1,0,0,1,0,0,1,1,1,1,0,0,4,1,0,0,1\n",
            "oryx,1,0,0,1,0,0,0,1,1,1,0,0,4,1,0,1,1\n",
            "ostrich,0,1,1,0,0,0,0,0,1,1,0,0,2,1,0,1,2\n",
            "parakeet,0,1,1,0,1,0,0,0,1,1,0,0,2,1,1,0,2\n",
            "penguin,0,1,1,0,0,1,1,0,1,1,0,0,2,1,0,1,2\n",
            "pheasant,0,1,1,0,1,0,0,0,1,1,0,0,2,1,0,0,2\n",
            "pike,0,0,1,0,0,1,1,1,1,0,0,1,0,1,0,1,4\n",
            "piranha,0,0,1,0,0,1,1,1,1,0,0,1,0,1,0,0,4\n",
            "pitviper,0,0,1,0,0,0,1,1,1,1,1,0,0,1,0,0,3\n",
            "platypus,1,0,1,1,0,1,1,0,1,1,0,0,4,1,0,1,1\n",
            "polecat,1,0,0,1,0,0,1,1,1,1,0,0,4,1,0,1,1\n",
            "pony,1,0,0,1,0,0,0,1,1,1,0,0,4,1,1,1,1\n",
            "porpoise,0,0,0,1,0,1,1,1,1,1,0,1,0,1,0,1,1\n",
            "puma,1,0,0,1,0,0,1,1,1,1,0,0,4,1,0,1,1\n",
            "pussycat,1,0,0,1,0,0,1,1,1,1,0,0,4,1,1,1,1\n",
            "raccoon,1,0,0,1,0,0,1,1,1,1,0,0,4,1,0,1,1\n",
            "reindeer,1,0,0,1,0,0,0,1,1,1,0,0,4,1,1,1,1\n",
            "rhea,0,1,1,0,0,0,1,0,1,1,0,0,2,1,0,1,2\n",
            "scorpion,0,0,0,0,0,0,1,0,0,1,1,0,8,1,0,0,7\n",
            "seahorse,0,0,1,0,0,1,0,1,1,0,0,1,0,1,0,0,4\n",
            "seal,1,0,0,1,0,1,1,1,1,1,0,1,0,0,0,1,1\n",
            "sealion,1,0,0,1,0,1,1,1,1,1,0,1,2,1,0,1,1\n",
            "seasnake,0,0,0,0,0,1,1,1,1,0,1,0,0,1,0,0,3\n",
            "seawasp,0,0,1,0,0,1,1,0,0,0,1,0,0,0,0,0,7\n",
            "skimmer,0,1,1,0,1,1,1,0,1,1,0,0,2,1,0,0,2\n",
            "skua,0,1,1,0,1,1,1,0,1,1,0,0,2,1,0,0,2\n",
            "slowworm,0,0,1,0,0,0,1,1,1,1,0,0,0,1,0,0,3\n",
            "slug,0,0,1,0,0,0,0,0,0,1,0,0,0,0,0,0,7\n",
            "sole,0,0,1,0,0,1,0,1,1,0,0,1,0,1,0,0,4\n",
            "sparrow,0,1,1,0,1,0,0,0,1,1,0,0,2,1,0,0,2\n",
            "squirrel,1,0,0,1,0,0,0,1,1,1,0,0,2,1,0,0,1\n",
            "starfish,0,0,1,0,0,1,1,0,0,0,0,0,5,0,0,0,7\n",
            "stingray,0,0,1,0,0,1,1,1,1,0,1,1,0,1,0,1,4\n",
            "swan,0,1,1,0,1,1,0,0,1,1,0,0,2,1,0,1,2\n",
            "termite,0,0,1,0,0,0,0,0,0,1,0,0,6,0,0,0,6\n",
            "toad,0,0,1,0,0,1,0,1,1,1,0,0,4,0,0,0,5\n",
            "tortoise,0,0,1,0,0,0,0,0,1,1,0,0,4,1,0,1,3\n",
            "tuatara,0,0,1,0,0,0,1,1,1,1,0,0,4,1,0,0,3\n",
            "tuna,0,0,1,0,0,1,1,1,1,0,0,1,0,1,0,1,4\n",
            "vampire,1,0,0,1,1,0,0,1,1,1,0,0,2,1,0,0,1\n",
            "vole,1,0,0,1,0,0,0,1,1,1,0,0,4,1,0,0,1\n",
            "vulture,0,1,1,0,1,0,1,0,1,1,0,0,2,1,0,1,2\n",
            "wallaby,1,0,0,1,0,0,0,1,1,1,0,0,2,1,0,1,1\n",
            "wasp,1,0,1,0,1,0,0,0,0,1,1,0,6,0,0,0,6\n",
            "wolf,1,0,0,1,0,0,1,1,1,1,0,0,4,1,0,1,1\n",
            "worm,0,0,1,0,0,0,0,0,0,1,0,0,0,0,0,0,7\n",
            "wren,0,1,1,0,1,0,0,0,1,1,0,0,2,1,0,0,2\n"
          ],
          "name": "stdout"
        }
      ]
    },
    {
      "metadata": {
        "id": "82WmSzDIkn81",
        "colab_type": "code",
        "colab": {}
      },
      "cell_type": "code",
      "source": [
        "# Step 2 - load the data\n",
        "\n",
        "import pandas as pd\n",
        "column_names = ['animal_name','hair','features','eggs',\n",
        "                'milk','airborne','aquatic','predator','toothed',\n",
        "                'backbone','breathes','venomous','fins','legs',\n",
        "                'tail','domestic','catsize','type']\n",
        "zoo_data = pd.read_csv(zoo_data_url, header=None, names=column_names)"
      ],
      "execution_count": 0,
      "outputs": []
    },
    {
      "metadata": {
        "id": "UMdaJUBLnVLb",
        "colab_type": "code",
        "colab": {
          "base_uri": "https://localhost:8080/",
          "height": 743
        },
        "outputId": "b57b12de-6c6f-4769-ac35-9734c7225717"
      },
      "cell_type": "code",
      "source": [
        "# Step 3 - verify we've got *something*\n",
        "print(\"zoo_data.head\")\n",
        "print(zoo_data.head())\n",
        "print(\"zoo_data.count is \")\n",
        "print(zoo_data.count())\n",
        "print(\"zoo_data.isna().sum().sum() is\",zoo_data.isna().sum().sum())"
      ],
      "execution_count": 3,
      "outputs": [
        {
          "output_type": "stream",
          "text": [
            "zoo_data.head\n",
            "  animal_name  hair  features  eggs  milk  airborne  aquatic  predator  \\\n",
            "0    aardvark     1         0     0     1         0        0         1   \n",
            "1    antelope     1         0     0     1         0        0         0   \n",
            "2        bass     0         0     1     0         0        1         1   \n",
            "3        bear     1         0     0     1         0        0         1   \n",
            "4        boar     1         0     0     1         0        0         1   \n",
            "\n",
            "   toothed  backbone  breathes  venomous  fins  legs  tail  domestic  catsize  \\\n",
            "0        1         1         1         0     0     4     0         0        1   \n",
            "1        1         1         1         0     0     4     1         0        1   \n",
            "2        1         1         0         0     1     0     1         0        0   \n",
            "3        1         1         1         0     0     4     0         0        1   \n",
            "4        1         1         1         0     0     4     1         0        1   \n",
            "\n",
            "   type  \n",
            "0     1  \n",
            "1     1  \n",
            "2     4  \n",
            "3     1  \n",
            "4     1  \n",
            "zoo_data.count is \n",
            "animal_name    101\n",
            "hair           101\n",
            "features       101\n",
            "eggs           101\n",
            "milk           101\n",
            "airborne       101\n",
            "aquatic        101\n",
            "predator       101\n",
            "toothed        101\n",
            "backbone       101\n",
            "breathes       101\n",
            "venomous       101\n",
            "fins           101\n",
            "legs           101\n",
            "tail           101\n",
            "domestic       101\n",
            "catsize        101\n",
            "type           101\n",
            "dtype: int64\n",
            "zoo_data.isna().sum().sum() is 0\n"
          ],
          "name": "stdout"
        }
      ]
    },
    {
      "metadata": {
        "id": "MZCxTwKuReV9",
        "colab_type": "text"
      },
      "cell_type": "markdown",
      "source": [
        "## Stretch Goals - Other types and sources of data\n",
        "\n",
        "Not all data comes in a nice single file - for example, image classification involves handling lots of image files. You still will probably want labels for them, so you may have tabular data in addition to the image blobs - and the images may be reduced in resolution and even fit in a regular csv as a bunch of numbers.\n",
        "\n",
        "If you're interested in natural language processing and analyzing text, that is another example where, while it can be put in a csv, you may end up loading much larger raw data and generating features that can then be thought of in a more standard tabular fashion.\n",
        "\n",
        "Overall you will in the course of learning data science deal with loading data in a variety of ways. Another common way to get data is from a database - most modern applications are backed by one or more databases, which you can query to get data to analyze. We'll cover this more in our data engineering unit.\n",
        "\n",
        "How does data get in the database? Most applications generate logs - text files with lots and lots of records of each use of the application. Databases are often populated based on these files, but in some situations you may directly analyze log files. The usual way to do this is with command line (Unix) tools - command lines are intimidating, so don't expect to learn them all at once, but depending on your interests it can be useful to practice.\n",
        "\n",
        "One last major source of data is APIs: https://github.com/toddmotto/public-apis\n",
        "\n",
        "API stands for Application Programming Interface, and while originally meant e.g. the way an application interfaced with the GUI or other aspects of an operating system, now it largely refers to online services that let you query and retrieve data. You can essentially think of most of them as \"somebody else's database\" - you have (usually limited) access.\n",
        "\n",
        "*Stretch goal* - research one of the above extended forms of data/data loading. See if you can get a basic example working in a notebook. I suggset image, text, or (public) API - databases are interesting, but there aren't many publicly accessible and they require a great deal of setup."
      ]
    },
    {
      "metadata": {
        "id": "7_7A4fpDtPn8",
        "colab_type": "code",
        "colab": {
          "base_uri": "https://localhost:8080/",
          "height": 54
        },
        "outputId": "8007ecb6-3aed-4a8d-dee6-29b12330220b"
      },
      "cell_type": "code",
      "source": [
        "# Fetch and download the data from https://bhagavadgita.io/api/\n",
        "# For security purpose the CLIENT_ID, CLIENT_SECRET and TOKEN are removed.\n",
        "#! curl -X POST \"https://bhagavadgita.io/auth/oauth/token\" -H \"accept: application/json\" -H \"content-type: application/x-www-form-urlencoded\" -d \"client_id=CLIENT_ID&client_secret=CLIENT_SECRET&grant_type=client_credentials&scope=verse%20chapter\"\n",
        "#! wget \"https://bhagavadgita.io/api/v1/chapters?access_token=TOKEN\" -H \"accept: application/json\""
      ],
      "execution_count": 20,
      "outputs": [
        {
          "output_type": "stream",
          "text": [
            "{\"scope\": \"verse chapter\", \"token_type\": \"Bearer\", \"access_token\": \"2qeuNEa4sL0sLxhZM7eQYYyX8ctphq\"}"
          ],
          "name": "stdout"
        }
      ]
    },
    {
      "metadata": {
        "id": "raJoHI_htRTy",
        "colab_type": "code",
        "colab": {
          "resources": {
            "http://localhost:8080/nbextensions/google.colab/files.js": {
              "data": "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",
              "ok": true,
              "headers": [
                [
                  "content-type",
                  "application/javascript"
                ]
              ],
              "status": 200,
              "status_text": ""
            }
          },
          "base_uri": "https://localhost:8080/",
          "height": 557
        },
        "outputId": "4097c1bd-665c-4330-f277-f389c034297e"
      },
      "cell_type": "code",
      "source": [
        "from google.colab import files\n",
        "import io\n",
        "\n",
        "uploaded = files.upload()\n",
        "\n",
        "bhagavad_gita_data = pd.read_json(uploaded['bhagavad_gita_chapters'])\n",
        "\n",
        "print(bhagavad_gita_data.head())\n",
        "print(bhagavad_gita_data.isna().sum())"
      ],
      "execution_count": 30,
      "outputs": [
        {
          "output_type": "display_data",
          "data": {
            "text/html": [
              "\n",
              "     <input type=\"file\" id=\"files-0156575a-5ff7-465f-8bf6-7c9cf6a395bf\" name=\"files[]\" multiple disabled />\n",
              "     <output id=\"result-0156575a-5ff7-465f-8bf6-7c9cf6a395bf\">\n",
              "      Upload widget is only available when the cell has been executed in the\n",
              "      current browser session. Please rerun this cell to enable.\n",
              "      </output>\n",
              "      <script src=\"/nbextensions/google.colab/files.js\"></script> "
            ],
            "text/plain": [
              "<IPython.core.display.HTML object>"
            ]
          },
          "metadata": {
            "tags": []
          }
        },
        {
          "output_type": "stream",
          "text": [
            "Saving bhagavad_gita_chapters to bhagavad_gita_chapters\n",
            "   chapter_number                                    chapter_summary  \\\n",
            "0               1  \"The first chapter of the Bhagavad Gita - \"Arj...   \n",
            "1               2  \"The second chapter of the Bhagavad Gita is \"S...   \n",
            "2               3  \"The third chapter of the Bhagavad Gita is \"Ka...   \n",
            "3               4  \"The fourth chapter of the Bhagavad Gita is \"J...   \n",
            "4               5  \"The fifth chapter of the Bhagavad Gita is \"Ka...   \n",
            "\n",
            "                    name                                       name_meaning  \\\n",
            "0       \"अर्जुनविषादयोग\"                                 \"Arjuna's Dilemma\"   \n",
            "1            \"सांख्ययोग\"                         \"Transcendental Knowledge\"   \n",
            "2              \"कर्मयोग\"                         \"Path of Selfless Service\"   \n",
            "3  \"ज्ञानकर्मसंन्यासयोग\"  \"Path of Knowledge and the Disciplines of Action\"   \n",
            "4       \"कर्मसंन्यासयोग\"                             \"Path of Renunciation\"   \n",
            "\n",
            "             name_translation      name_transliterated  verses_count  \n",
            "0        \"Arjuna Visada Yoga\"       \"Arjun Viṣhād Yog\"            47  \n",
            "1              \"Sankhya Yoga\"            \"Sānkhya Yog\"            72  \n",
            "2                \"Karma Yoga\"               \"Karm Yog\"            43  \n",
            "3  \"Jnana Karma Sanyasa Yoga\"  \"Jñāna Karm Sanyās Yog\"            42  \n",
            "4        \"Karma Sanyasa Yoga\"        \"Karm Sanyās Yog\"            29  \n",
            "chapter_number         0\n",
            "chapter_summary        0\n",
            "name                   0\n",
            "name_meaning           0\n",
            "name_translation       0\n",
            "name_transliterated    0\n",
            "verses_count           0\n",
            "dtype: int64\n"
          ],
          "name": "stdout"
        }
      ]
    },
    {
      "metadata": {
        "id": "w8zE_2mI28u8",
        "colab_type": "code",
        "colab": {}
      },
      "cell_type": "code",
      "source": [
        ""
      ],
      "execution_count": 0,
      "outputs": []
    }
  ]
}