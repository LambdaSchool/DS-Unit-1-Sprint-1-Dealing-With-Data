{
  "nbformat": 4,
  "nbformat_minor": 0,
  "metadata": {
    "colab": {
      "name": "LS_DS_112_Loading_Data.ipynb",
      "version": "0.3.2",
      "provenance": [],
      "collapsed_sections": [],
      "include_colab_link": true
    },
    "kernelspec": {
      "name": "python3",
      "display_name": "Python 3"
    }
  },
  "cells": [
    {
      "cell_type": "markdown",
      "metadata": {
        "id": "view-in-github",
        "colab_type": "text"
      },
      "source": [
        "<a href=\"https://colab.research.google.com/github/tjHendrixx/DS-Unit-1-Sprint-1-Dealing-With-Data/blob/master/module2-loadingdata/LS_DS_112_Loading_Data.ipynb\" target=\"_parent\"><img src=\"https://colab.research.google.com/assets/colab-badge.svg\" alt=\"Open In Colab\"/></a>"
      ]
    },
    {
      "metadata": {
        "id": "-c0vWATuQ_Dn",
        "colab_type": "text"
      },
      "cell_type": "markdown",
      "source": [
        "# Lambda School Data Science - Loading Data\n",
        "\n",
        "Data comes in many shapes and sizes - we'll start by loading tabular data, usually in csv format.\n",
        "\n",
        "Data set sources:\n",
        "\n",
        "- https://archive.ics.uci.edu/ml/datasets.html\n",
        "- https://github.com/awesomedata/awesome-public-datasets\n",
        "- https://registry.opendata.aws/ (beyond scope for now, but good to be aware of)\n",
        "\n",
        "Let's start with an example - [data about flags](https://archive.ics.uci.edu/ml/datasets/Flags)."
      ]
    },
    {
      "metadata": {
        "id": "wxxBTeHUYs5a",
        "colab_type": "text"
      },
      "cell_type": "markdown",
      "source": [
        "## Lecture example - flag data"
      ]
    },
    {
      "metadata": {
        "id": "nc-iamjyRWwe",
        "colab_type": "code",
        "colab": {}
      },
      "cell_type": "code",
      "source": [
        "# Step 1 - find the actual file to download\n",
        "\n",
        "# From navigating the page, clicking \"Data Folder\"\n",
        "flag_data_url = 'https://archive.ics.uci.edu/ml/machine-learning-databases/flags/flag.data'\n",
        "\n",
        "# You can \"shell out\" in a notebook for more powerful tools\n",
        "# https://jakevdp.github.io/PythonDataScienceHandbook/01.05-ipython-and-shell-commands.html\n",
        "\n",
        "# Funny extension, but on inspection looks like a csv\n",
        "!curl https://archive.ics.uci.edu/ml/machine-learning-databases/flags/flag.data\n",
        "\n",
        "# Extensions are just a norm! You have to inspect to be sure what something is"
      ],
      "execution_count": 0,
      "outputs": []
    },
    {
      "metadata": {
        "id": "UKfOq1tlUvbZ",
        "colab_type": "code",
        "colab": {}
      },
      "cell_type": "code",
      "source": [
        "# Step 2 - load the data\n",
        "\n",
        "# How to deal with a csv? 🐼\n",
        "import pandas as pd\n",
        "flag_data = pd.read_csv(flag_data_url)"
      ],
      "execution_count": 0,
      "outputs": []
    },
    {
      "metadata": {
        "id": "exKPtcJyUyCX",
        "colab_type": "code",
        "colab": {}
      },
      "cell_type": "code",
      "source": [
        "# Step 3 - verify we've got *something*\n",
        "flag_data.head()"
      ],
      "execution_count": 0,
      "outputs": []
    },
    {
      "metadata": {
        "id": "rNmkv2g8VfAm",
        "colab_type": "code",
        "colab": {}
      },
      "cell_type": "code",
      "source": [
        "# Step 4 - Looks a bit odd - verify that it is what we want\n",
        "flag_data.count()"
      ],
      "execution_count": 0,
      "outputs": []
    },
    {
      "metadata": {
        "id": "iqPEwx3aWBDR",
        "colab_type": "code",
        "colab": {}
      },
      "cell_type": "code",
      "source": [
        "!curl https://archive.ics.uci.edu/ml/machine-learning-databases/flags/flag.data | wc"
      ],
      "execution_count": 0,
      "outputs": []
    },
    {
      "metadata": {
        "id": "5R1d1Ka2WHAY",
        "colab_type": "code",
        "colab": {}
      },
      "cell_type": "code",
      "source": [
        "# So we have 193 observations with funny names, file has 194 rows\n",
        "# Looks like the file has no header row, but read_csv assumes it does\n",
        "help(pd.read_csv)"
      ],
      "execution_count": 0,
      "outputs": []
    },
    {
      "metadata": {
        "id": "o-thnccIWTvc",
        "colab_type": "code",
        "colab": {}
      },
      "cell_type": "code",
      "source": [
        "# Alright, we can pass header=None to fix this\n",
        "flag_data = pd.read_csv(flag_data_url, header=None)\n",
        "flag_data.head()"
      ],
      "execution_count": 0,
      "outputs": []
    },
    {
      "metadata": {
        "id": "iG9ZOkSMWZ6D",
        "colab_type": "code",
        "colab": {}
      },
      "cell_type": "code",
      "source": [
        "flag_data.count()"
      ],
      "execution_count": 0,
      "outputs": []
    },
    {
      "metadata": {
        "id": "gMcxnWbkWla1",
        "colab_type": "code",
        "colab": {}
      },
      "cell_type": "code",
      "source": [
        "flag_data.isna().sum()"
      ],
      "execution_count": 0,
      "outputs": []
    },
    {
      "metadata": {
        "id": "AihdUkaDT8We",
        "colab_type": "text"
      },
      "cell_type": "markdown",
      "source": [
        "### Yes, but what does it *mean*?\n",
        "\n",
        "This data is fairly nice - it was \"donated\" and is already \"clean\" (no missing values). But there are no variable names - so we have to look at the codebook (also from the site).\n",
        "\n",
        "```\n",
        "1. name: Name of the country concerned\n",
        "2. landmass: 1=N.America, 2=S.America, 3=Europe, 4=Africa, 4=Asia, 6=Oceania\n",
        "3. zone: Geographic quadrant, based on Greenwich and the Equator; 1=NE, 2=SE, 3=SW, 4=NW\n",
        "4. area: in thousands of square km\n",
        "5. population: in round millions\n",
        "6. language: 1=English, 2=Spanish, 3=French, 4=German, 5=Slavic, 6=Other Indo-European, 7=Chinese, 8=Arabic, 9=Japanese/Turkish/Finnish/Magyar, 10=Others\n",
        "7. religion: 0=Catholic, 1=Other Christian, 2=Muslim, 3=Buddhist, 4=Hindu, 5=Ethnic, 6=Marxist, 7=Others\n",
        "8. bars: Number of vertical bars in the flag\n",
        "9. stripes: Number of horizontal stripes in the flag\n",
        "10. colours: Number of different colours in the flag\n",
        "11. red: 0 if red absent, 1 if red present in the flag\n",
        "12. green: same for green\n",
        "13. blue: same for blue\n",
        "14. gold: same for gold (also yellow)\n",
        "15. white: same for white\n",
        "16. black: same for black\n",
        "17. orange: same for orange (also brown)\n",
        "18. mainhue: predominant colour in the flag (tie-breaks decided by taking the topmost hue, if that fails then the most central hue, and if that fails the leftmost hue)\n",
        "19. circles: Number of circles in the flag\n",
        "20. crosses: Number of (upright) crosses\n",
        "21. saltires: Number of diagonal crosses\n",
        "22. quarters: Number of quartered sections\n",
        "23. sunstars: Number of sun or star symbols\n",
        "24. crescent: 1 if a crescent moon symbol present, else 0\n",
        "25. triangle: 1 if any triangles present, 0 otherwise\n",
        "26. icon: 1 if an inanimate image present (e.g., a boat), otherwise 0\n",
        "27. animate: 1 if an animate image (e.g., an eagle, a tree, a human hand) present, 0 otherwise\n",
        "28. text: 1 if any letters or writing on the flag (e.g., a motto or slogan), 0 otherwise\n",
        "29. topleft: colour in the top-left corner (moving right to decide tie-breaks)\n",
        "30. botright: Colour in the bottom-left corner (moving left to decide tie-breaks)\n",
        "```\n",
        "\n",
        "Exercise - read the help for `read_csv` and figure out how to load the data with the above variable names. One pitfall to note - with `header=None` pandas generated variable names starting from 0, but the above list starts from 1..."
      ]
    },
    {
      "metadata": {
        "id": "nPbUK_cLY15U",
        "colab_type": "text"
      },
      "cell_type": "markdown",
      "source": [
        "## Your assignment - pick a dataset and do something like the above\n",
        "\n",
        "This is purposely open-ended - you can pick any data set you wish. It is highly advised you pick a dataset from UCI or a similar \"clean\" source.\n",
        "\n",
        "If you get that done and want to try more challenging or exotic things, go for it! Use documentation as illustrated above, and follow the 20-minute rule (that is - ask for help if you're stuck).\n",
        "\n",
        "If you have loaded a few traditional datasets, see the following section for suggested stretch goals."
      ]
    },
    {
      "metadata": {
        "id": "NJdISe69ZT7E",
        "colab_type": "code",
        "colab": {}
      },
      "cell_type": "code",
      "source": [
        "import pandas as pd \n",
        "df = pd.read_csv('https://storage.googleapis.com/kaggle-datasets/95317/311321/states_all.csv?GoogleAccessId=web-data@kaggle-161607.iam.gserviceaccount.com&Expires=1553281182&Signature=qqX%2FndKS9gymF4diK%2FDVphAHdzgb4H7WMeTQW%2FcQVIPEq2aUjLXCr3F%2BYL53f0Jpo15Gmq5zeA8VzdecJSBPSrOBsMtCy1t%2Bd4Kyy2YhiP3QkeZCHEcFxAwM9dEDXIzhTiqEPwqv4IIaUYSlPUEA%2BB8Q%2Ffm0dkvBvJmVy0zz3dZgCK69ptuPRKptZcA9i5v5RubIvTnRdnzf5TdJY2dAmuotKd42PWPPKo608yJLktkV4yn%2BSAZ64FoR%2BpadUjYIV1aAjrVRbH31KIVZIXlIOBscZLk%2FmzwhqlstZoBt6sdshW1tus9ZQ2RH7YO%2Fr00Gvjcos7n%2BNfVnoVfxurvNlg%3D%3D')\n"
      ],
      "execution_count": 0,
      "outputs": []
    },
    {
      "metadata": {
        "id": "8BB_nutGVCfy",
        "colab_type": "code",
        "colab": {}
      },
      "cell_type": "code",
      "source": [
        "df.head(25)"
      ],
      "execution_count": 0,
      "outputs": []
    },
    {
      "metadata": {
        "id": "MlGQdYSRVIUR",
        "colab_type": "code",
        "colab": {}
      },
      "cell_type": "code",
      "source": [
        "df.info"
      ],
      "execution_count": 0,
      "outputs": []
    },
    {
      "metadata": {
        "id": "Ba7h3LqPVYIF",
        "colab_type": "code",
        "colab": {}
      },
      "cell_type": "code",
      "source": [
        "df.isna().sum()"
      ],
      "execution_count": 0,
      "outputs": []
    },
    {
      "metadata": {
        "id": "BKo-bR4ZXjCI",
        "colab_type": "code",
        "colab": {
          "base_uri": "https://localhost:8080/",
          "height": 273
        },
        "outputId": "45e89071-450e-4bb9-8def-3506691fdbc3"
      },
      "cell_type": "code",
      "source": [
        "clean_df = df.drop(['ENROLL'], axis=1)\n",
        "clean_df.head()"
      ],
      "execution_count": 15,
      "outputs": [
        {
          "output_type": "execute_result",
          "data": {
            "text/html": [
              "<div>\n",
              "<style scoped>\n",
              "    .dataframe tbody tr th:only-of-type {\n",
              "        vertical-align: middle;\n",
              "    }\n",
              "\n",
              "    .dataframe tbody tr th {\n",
              "        vertical-align: top;\n",
              "    }\n",
              "\n",
              "    .dataframe thead th {\n",
              "        text-align: right;\n",
              "    }\n",
              "</style>\n",
              "<table border=\"1\" class=\"dataframe\">\n",
              "  <thead>\n",
              "    <tr style=\"text-align: right;\">\n",
              "      <th></th>\n",
              "      <th>PRIMARY_KEY</th>\n",
              "      <th>STATE</th>\n",
              "      <th>YEAR</th>\n",
              "      <th>TOTAL_REVENUE</th>\n",
              "      <th>FEDERAL_REVENUE</th>\n",
              "      <th>STATE_REVENUE</th>\n",
              "      <th>LOCAL_REVENUE</th>\n",
              "      <th>TOTAL_EXPENDITURE</th>\n",
              "      <th>INSTRUCTION_EXPENDITURE</th>\n",
              "      <th>SUPPORT_SERVICES_EXPENDITURE</th>\n",
              "      <th>...</th>\n",
              "      <th>GRADES_4_G</th>\n",
              "      <th>GRADES_8_G</th>\n",
              "      <th>GRADES_12_G</th>\n",
              "      <th>GRADES_1_8_G</th>\n",
              "      <th>GRADES_9_12_G</th>\n",
              "      <th>GRADES_ALL_G</th>\n",
              "      <th>AVG_MATH_4_SCORE</th>\n",
              "      <th>AVG_MATH_8_SCORE</th>\n",
              "      <th>AVG_READING_4_SCORE</th>\n",
              "      <th>AVG_READING_8_SCORE</th>\n",
              "    </tr>\n",
              "  </thead>\n",
              "  <tbody>\n",
              "    <tr>\n",
              "      <th>0</th>\n",
              "      <td>1992_ALABAMA</td>\n",
              "      <td>ALABAMA</td>\n",
              "      <td>1992</td>\n",
              "      <td>2678885.0</td>\n",
              "      <td>304177.0</td>\n",
              "      <td>1659028.0</td>\n",
              "      <td>715680.0</td>\n",
              "      <td>2653798.0</td>\n",
              "      <td>1481703.0</td>\n",
              "      <td>735036.0</td>\n",
              "      <td>...</td>\n",
              "      <td>57948.0</td>\n",
              "      <td>58025.0</td>\n",
              "      <td>41167.0</td>\n",
              "      <td>471564.0</td>\n",
              "      <td>196386.0</td>\n",
              "      <td>676174.0</td>\n",
              "      <td>208.327876</td>\n",
              "      <td>252.187522</td>\n",
              "      <td>207.963517</td>\n",
              "      <td>NaN</td>\n",
              "    </tr>\n",
              "    <tr>\n",
              "      <th>1</th>\n",
              "      <td>1992_ALASKA</td>\n",
              "      <td>ALASKA</td>\n",
              "      <td>1992</td>\n",
              "      <td>1049591.0</td>\n",
              "      <td>106780.0</td>\n",
              "      <td>720711.0</td>\n",
              "      <td>222100.0</td>\n",
              "      <td>972488.0</td>\n",
              "      <td>498362.0</td>\n",
              "      <td>350902.0</td>\n",
              "      <td>...</td>\n",
              "      <td>9748.0</td>\n",
              "      <td>8789.0</td>\n",
              "      <td>6714.0</td>\n",
              "      <td>79117.0</td>\n",
              "      <td>30847.0</td>\n",
              "      <td>112335.0</td>\n",
              "      <td>NaN</td>\n",
              "      <td>NaN</td>\n",
              "      <td>NaN</td>\n",
              "      <td>258.859712</td>\n",
              "    </tr>\n",
              "    <tr>\n",
              "      <th>2</th>\n",
              "      <td>1992_ARIZONA</td>\n",
              "      <td>ARIZONA</td>\n",
              "      <td>1992</td>\n",
              "      <td>3258079.0</td>\n",
              "      <td>297888.0</td>\n",
              "      <td>1369815.0</td>\n",
              "      <td>1590376.0</td>\n",
              "      <td>3401580.0</td>\n",
              "      <td>1435908.0</td>\n",
              "      <td>1007732.0</td>\n",
              "      <td>...</td>\n",
              "      <td>55433.0</td>\n",
              "      <td>49081.0</td>\n",
              "      <td>37410.0</td>\n",
              "      <td>437127.0</td>\n",
              "      <td>175210.0</td>\n",
              "      <td>614881.0</td>\n",
              "      <td>215.253932</td>\n",
              "      <td>265.366278</td>\n",
              "      <td>206.212716</td>\n",
              "      <td>262.169895</td>\n",
              "    </tr>\n",
              "    <tr>\n",
              "      <th>3</th>\n",
              "      <td>1992_ARKANSAS</td>\n",
              "      <td>ARKANSAS</td>\n",
              "      <td>1992</td>\n",
              "      <td>1711959.0</td>\n",
              "      <td>178571.0</td>\n",
              "      <td>958785.0</td>\n",
              "      <td>574603.0</td>\n",
              "      <td>1743022.0</td>\n",
              "      <td>964323.0</td>\n",
              "      <td>483488.0</td>\n",
              "      <td>...</td>\n",
              "      <td>34632.0</td>\n",
              "      <td>36011.0</td>\n",
              "      <td>27651.0</td>\n",
              "      <td>281338.0</td>\n",
              "      <td>123113.0</td>\n",
              "      <td>405259.0</td>\n",
              "      <td>210.206028</td>\n",
              "      <td>256.312090</td>\n",
              "      <td>208.634458</td>\n",
              "      <td>264.619665</td>\n",
              "    </tr>\n",
              "    <tr>\n",
              "      <th>4</th>\n",
              "      <td>1992_CALIFORNIA</td>\n",
              "      <td>CALIFORNIA</td>\n",
              "      <td>1992</td>\n",
              "      <td>26260025.0</td>\n",
              "      <td>2072470.0</td>\n",
              "      <td>16546514.0</td>\n",
              "      <td>7641041.0</td>\n",
              "      <td>27138832.0</td>\n",
              "      <td>14358922.0</td>\n",
              "      <td>8520926.0</td>\n",
              "      <td>...</td>\n",
              "      <td>418418.0</td>\n",
              "      <td>363296.0</td>\n",
              "      <td>270675.0</td>\n",
              "      <td>3286034.0</td>\n",
              "      <td>1372011.0</td>\n",
              "      <td>4717112.0</td>\n",
              "      <td>208.398961</td>\n",
              "      <td>260.892247</td>\n",
              "      <td>196.764414</td>\n",
              "      <td>NaN</td>\n",
              "    </tr>\n",
              "  </tbody>\n",
              "</table>\n",
              "<p>5 rows × 24 columns</p>\n",
              "</div>"
            ],
            "text/plain": [
              "       PRIMARY_KEY       STATE  YEAR  TOTAL_REVENUE  FEDERAL_REVENUE  \\\n",
              "0     1992_ALABAMA     ALABAMA  1992      2678885.0         304177.0   \n",
              "1      1992_ALASKA      ALASKA  1992      1049591.0         106780.0   \n",
              "2     1992_ARIZONA     ARIZONA  1992      3258079.0         297888.0   \n",
              "3    1992_ARKANSAS    ARKANSAS  1992      1711959.0         178571.0   \n",
              "4  1992_CALIFORNIA  CALIFORNIA  1992     26260025.0        2072470.0   \n",
              "\n",
              "   STATE_REVENUE  LOCAL_REVENUE  TOTAL_EXPENDITURE  INSTRUCTION_EXPENDITURE  \\\n",
              "0      1659028.0       715680.0          2653798.0                1481703.0   \n",
              "1       720711.0       222100.0           972488.0                 498362.0   \n",
              "2      1369815.0      1590376.0          3401580.0                1435908.0   \n",
              "3       958785.0       574603.0          1743022.0                 964323.0   \n",
              "4     16546514.0      7641041.0         27138832.0               14358922.0   \n",
              "\n",
              "   SUPPORT_SERVICES_EXPENDITURE         ...           GRADES_4_G  GRADES_8_G  \\\n",
              "0                      735036.0         ...              57948.0     58025.0   \n",
              "1                      350902.0         ...               9748.0      8789.0   \n",
              "2                     1007732.0         ...              55433.0     49081.0   \n",
              "3                      483488.0         ...              34632.0     36011.0   \n",
              "4                     8520926.0         ...             418418.0    363296.0   \n",
              "\n",
              "   GRADES_12_G  GRADES_1_8_G  GRADES_9_12_G  GRADES_ALL_G  AVG_MATH_4_SCORE  \\\n",
              "0      41167.0      471564.0       196386.0      676174.0        208.327876   \n",
              "1       6714.0       79117.0        30847.0      112335.0               NaN   \n",
              "2      37410.0      437127.0       175210.0      614881.0        215.253932   \n",
              "3      27651.0      281338.0       123113.0      405259.0        210.206028   \n",
              "4     270675.0     3286034.0      1372011.0     4717112.0        208.398961   \n",
              "\n",
              "   AVG_MATH_8_SCORE  AVG_READING_4_SCORE  AVG_READING_8_SCORE  \n",
              "0        252.187522           207.963517                  NaN  \n",
              "1               NaN                  NaN           258.859712  \n",
              "2        265.366278           206.212716           262.169895  \n",
              "3        256.312090           208.634458           264.619665  \n",
              "4        260.892247           196.764414                  NaN  \n",
              "\n",
              "[5 rows x 24 columns]"
            ]
          },
          "metadata": {
            "tags": []
          },
          "execution_count": 15
        }
      ]
    },
    {
      "metadata": {
        "id": "qU_ceW_pY0gV",
        "colab_type": "code",
        "colab": {
          "base_uri": "https://localhost:8080/",
          "height": 442
        },
        "outputId": "62d18275-8ebf-460b-c48f-e32f700f4f80"
      },
      "cell_type": "code",
      "source": [
        "clean_df.isna().sum()"
      ],
      "execution_count": 16,
      "outputs": [
        {
          "output_type": "execute_result",
          "data": {
            "text/plain": [
              "PRIMARY_KEY                       0\n",
              "STATE                             0\n",
              "YEAR                              0\n",
              "TOTAL_REVENUE                   212\n",
              "FEDERAL_REVENUE                 212\n",
              "STATE_REVENUE                   212\n",
              "LOCAL_REVENUE                   212\n",
              "TOTAL_EXPENDITURE               212\n",
              "INSTRUCTION_EXPENDITURE         212\n",
              "SUPPORT_SERVICES_EXPENDITURE    212\n",
              "OTHER_EXPENDITURE               263\n",
              "CAPITAL_OUTLAY_EXPENDITURE      212\n",
              "GRADES_PK_G                     173\n",
              "GRADES_KG_G                     132\n",
              "GRADES_4_G                      131\n",
              "GRADES_8_G                      131\n",
              "GRADES_12_G                     131\n",
              "GRADES_1_8_G                    131\n",
              "GRADES_9_12_G                   131\n",
              "GRADES_ALL_G                    173\n",
              "AVG_MATH_4_SCORE                956\n",
              "AVG_MATH_8_SCORE                960\n",
              "AVG_READING_4_SCORE             959\n",
              "AVG_READING_8_SCORE             994\n",
              "dtype: int64"
            ]
          },
          "metadata": {
            "tags": []
          },
          "execution_count": 16
        }
      ]
    },
    {
      "metadata": {
        "id": "bAs9iKd3bUqE",
        "colab_type": "code",
        "colab": {}
      },
      "cell_type": "code",
      "source": [
        "clean_df = clean_df.fillna(method='ffill')\n",
        "clean_df = clean_df.fillna(method='bfill')"
      ],
      "execution_count": 0,
      "outputs": []
    },
    {
      "metadata": {
        "id": "VEplgfRBb69K",
        "colab_type": "code",
        "colab": {
          "base_uri": "https://localhost:8080/",
          "height": 273
        },
        "outputId": "2832a8cb-10a4-4b34-9025-e5348d30655d"
      },
      "cell_type": "code",
      "source": [
        "clean_df.head()"
      ],
      "execution_count": 18,
      "outputs": [
        {
          "output_type": "execute_result",
          "data": {
            "text/html": [
              "<div>\n",
              "<style scoped>\n",
              "    .dataframe tbody tr th:only-of-type {\n",
              "        vertical-align: middle;\n",
              "    }\n",
              "\n",
              "    .dataframe tbody tr th {\n",
              "        vertical-align: top;\n",
              "    }\n",
              "\n",
              "    .dataframe thead th {\n",
              "        text-align: right;\n",
              "    }\n",
              "</style>\n",
              "<table border=\"1\" class=\"dataframe\">\n",
              "  <thead>\n",
              "    <tr style=\"text-align: right;\">\n",
              "      <th></th>\n",
              "      <th>PRIMARY_KEY</th>\n",
              "      <th>STATE</th>\n",
              "      <th>YEAR</th>\n",
              "      <th>TOTAL_REVENUE</th>\n",
              "      <th>FEDERAL_REVENUE</th>\n",
              "      <th>STATE_REVENUE</th>\n",
              "      <th>LOCAL_REVENUE</th>\n",
              "      <th>TOTAL_EXPENDITURE</th>\n",
              "      <th>INSTRUCTION_EXPENDITURE</th>\n",
              "      <th>SUPPORT_SERVICES_EXPENDITURE</th>\n",
              "      <th>...</th>\n",
              "      <th>GRADES_4_G</th>\n",
              "      <th>GRADES_8_G</th>\n",
              "      <th>GRADES_12_G</th>\n",
              "      <th>GRADES_1_8_G</th>\n",
              "      <th>GRADES_9_12_G</th>\n",
              "      <th>GRADES_ALL_G</th>\n",
              "      <th>AVG_MATH_4_SCORE</th>\n",
              "      <th>AVG_MATH_8_SCORE</th>\n",
              "      <th>AVG_READING_4_SCORE</th>\n",
              "      <th>AVG_READING_8_SCORE</th>\n",
              "    </tr>\n",
              "  </thead>\n",
              "  <tbody>\n",
              "    <tr>\n",
              "      <th>0</th>\n",
              "      <td>1992_ALABAMA</td>\n",
              "      <td>ALABAMA</td>\n",
              "      <td>1992</td>\n",
              "      <td>2678885.0</td>\n",
              "      <td>304177.0</td>\n",
              "      <td>1659028.0</td>\n",
              "      <td>715680.0</td>\n",
              "      <td>2653798.0</td>\n",
              "      <td>1481703.0</td>\n",
              "      <td>735036.0</td>\n",
              "      <td>...</td>\n",
              "      <td>57948.0</td>\n",
              "      <td>58025.0</td>\n",
              "      <td>41167.0</td>\n",
              "      <td>471564.0</td>\n",
              "      <td>196386.0</td>\n",
              "      <td>676174.0</td>\n",
              "      <td>208.327876</td>\n",
              "      <td>252.187522</td>\n",
              "      <td>207.963517</td>\n",
              "      <td>258.859712</td>\n",
              "    </tr>\n",
              "    <tr>\n",
              "      <th>1</th>\n",
              "      <td>1992_ALASKA</td>\n",
              "      <td>ALASKA</td>\n",
              "      <td>1992</td>\n",
              "      <td>1049591.0</td>\n",
              "      <td>106780.0</td>\n",
              "      <td>720711.0</td>\n",
              "      <td>222100.0</td>\n",
              "      <td>972488.0</td>\n",
              "      <td>498362.0</td>\n",
              "      <td>350902.0</td>\n",
              "      <td>...</td>\n",
              "      <td>9748.0</td>\n",
              "      <td>8789.0</td>\n",
              "      <td>6714.0</td>\n",
              "      <td>79117.0</td>\n",
              "      <td>30847.0</td>\n",
              "      <td>112335.0</td>\n",
              "      <td>208.327876</td>\n",
              "      <td>252.187522</td>\n",
              "      <td>207.963517</td>\n",
              "      <td>258.859712</td>\n",
              "    </tr>\n",
              "    <tr>\n",
              "      <th>2</th>\n",
              "      <td>1992_ARIZONA</td>\n",
              "      <td>ARIZONA</td>\n",
              "      <td>1992</td>\n",
              "      <td>3258079.0</td>\n",
              "      <td>297888.0</td>\n",
              "      <td>1369815.0</td>\n",
              "      <td>1590376.0</td>\n",
              "      <td>3401580.0</td>\n",
              "      <td>1435908.0</td>\n",
              "      <td>1007732.0</td>\n",
              "      <td>...</td>\n",
              "      <td>55433.0</td>\n",
              "      <td>49081.0</td>\n",
              "      <td>37410.0</td>\n",
              "      <td>437127.0</td>\n",
              "      <td>175210.0</td>\n",
              "      <td>614881.0</td>\n",
              "      <td>215.253932</td>\n",
              "      <td>265.366278</td>\n",
              "      <td>206.212716</td>\n",
              "      <td>262.169895</td>\n",
              "    </tr>\n",
              "    <tr>\n",
              "      <th>3</th>\n",
              "      <td>1992_ARKANSAS</td>\n",
              "      <td>ARKANSAS</td>\n",
              "      <td>1992</td>\n",
              "      <td>1711959.0</td>\n",
              "      <td>178571.0</td>\n",
              "      <td>958785.0</td>\n",
              "      <td>574603.0</td>\n",
              "      <td>1743022.0</td>\n",
              "      <td>964323.0</td>\n",
              "      <td>483488.0</td>\n",
              "      <td>...</td>\n",
              "      <td>34632.0</td>\n",
              "      <td>36011.0</td>\n",
              "      <td>27651.0</td>\n",
              "      <td>281338.0</td>\n",
              "      <td>123113.0</td>\n",
              "      <td>405259.0</td>\n",
              "      <td>210.206028</td>\n",
              "      <td>256.312090</td>\n",
              "      <td>208.634458</td>\n",
              "      <td>264.619665</td>\n",
              "    </tr>\n",
              "    <tr>\n",
              "      <th>4</th>\n",
              "      <td>1992_CALIFORNIA</td>\n",
              "      <td>CALIFORNIA</td>\n",
              "      <td>1992</td>\n",
              "      <td>26260025.0</td>\n",
              "      <td>2072470.0</td>\n",
              "      <td>16546514.0</td>\n",
              "      <td>7641041.0</td>\n",
              "      <td>27138832.0</td>\n",
              "      <td>14358922.0</td>\n",
              "      <td>8520926.0</td>\n",
              "      <td>...</td>\n",
              "      <td>418418.0</td>\n",
              "      <td>363296.0</td>\n",
              "      <td>270675.0</td>\n",
              "      <td>3286034.0</td>\n",
              "      <td>1372011.0</td>\n",
              "      <td>4717112.0</td>\n",
              "      <td>208.398961</td>\n",
              "      <td>260.892247</td>\n",
              "      <td>196.764414</td>\n",
              "      <td>264.619665</td>\n",
              "    </tr>\n",
              "  </tbody>\n",
              "</table>\n",
              "<p>5 rows × 24 columns</p>\n",
              "</div>"
            ],
            "text/plain": [
              "       PRIMARY_KEY       STATE  YEAR  TOTAL_REVENUE  FEDERAL_REVENUE  \\\n",
              "0     1992_ALABAMA     ALABAMA  1992      2678885.0         304177.0   \n",
              "1      1992_ALASKA      ALASKA  1992      1049591.0         106780.0   \n",
              "2     1992_ARIZONA     ARIZONA  1992      3258079.0         297888.0   \n",
              "3    1992_ARKANSAS    ARKANSAS  1992      1711959.0         178571.0   \n",
              "4  1992_CALIFORNIA  CALIFORNIA  1992     26260025.0        2072470.0   \n",
              "\n",
              "   STATE_REVENUE  LOCAL_REVENUE  TOTAL_EXPENDITURE  INSTRUCTION_EXPENDITURE  \\\n",
              "0      1659028.0       715680.0          2653798.0                1481703.0   \n",
              "1       720711.0       222100.0           972488.0                 498362.0   \n",
              "2      1369815.0      1590376.0          3401580.0                1435908.0   \n",
              "3       958785.0       574603.0          1743022.0                 964323.0   \n",
              "4     16546514.0      7641041.0         27138832.0               14358922.0   \n",
              "\n",
              "   SUPPORT_SERVICES_EXPENDITURE         ...           GRADES_4_G  GRADES_8_G  \\\n",
              "0                      735036.0         ...              57948.0     58025.0   \n",
              "1                      350902.0         ...               9748.0      8789.0   \n",
              "2                     1007732.0         ...              55433.0     49081.0   \n",
              "3                      483488.0         ...              34632.0     36011.0   \n",
              "4                     8520926.0         ...             418418.0    363296.0   \n",
              "\n",
              "   GRADES_12_G  GRADES_1_8_G  GRADES_9_12_G  GRADES_ALL_G  AVG_MATH_4_SCORE  \\\n",
              "0      41167.0      471564.0       196386.0      676174.0        208.327876   \n",
              "1       6714.0       79117.0        30847.0      112335.0        208.327876   \n",
              "2      37410.0      437127.0       175210.0      614881.0        215.253932   \n",
              "3      27651.0      281338.0       123113.0      405259.0        210.206028   \n",
              "4     270675.0     3286034.0      1372011.0     4717112.0        208.398961   \n",
              "\n",
              "   AVG_MATH_8_SCORE  AVG_READING_4_SCORE  AVG_READING_8_SCORE  \n",
              "0        252.187522           207.963517           258.859712  \n",
              "1        252.187522           207.963517           258.859712  \n",
              "2        265.366278           206.212716           262.169895  \n",
              "3        256.312090           208.634458           264.619665  \n",
              "4        260.892247           196.764414           264.619665  \n",
              "\n",
              "[5 rows x 24 columns]"
            ]
          },
          "metadata": {
            "tags": []
          },
          "execution_count": 18
        }
      ]
    },
    {
      "metadata": {
        "id": "Xk70zqTfcAW6",
        "colab_type": "code",
        "colab": {
          "base_uri": "https://localhost:8080/",
          "height": 442
        },
        "outputId": "44e37586-81b3-4c3e-e870-4aa2b4519b8b"
      },
      "cell_type": "code",
      "source": [
        "clean_df.isna().sum()"
      ],
      "execution_count": 19,
      "outputs": [
        {
          "output_type": "execute_result",
          "data": {
            "text/plain": [
              "PRIMARY_KEY                     0\n",
              "STATE                           0\n",
              "YEAR                            0\n",
              "TOTAL_REVENUE                   0\n",
              "FEDERAL_REVENUE                 0\n",
              "STATE_REVENUE                   0\n",
              "LOCAL_REVENUE                   0\n",
              "TOTAL_EXPENDITURE               0\n",
              "INSTRUCTION_EXPENDITURE         0\n",
              "SUPPORT_SERVICES_EXPENDITURE    0\n",
              "OTHER_EXPENDITURE               0\n",
              "CAPITAL_OUTLAY_EXPENDITURE      0\n",
              "GRADES_PK_G                     0\n",
              "GRADES_KG_G                     0\n",
              "GRADES_4_G                      0\n",
              "GRADES_8_G                      0\n",
              "GRADES_12_G                     0\n",
              "GRADES_1_8_G                    0\n",
              "GRADES_9_12_G                   0\n",
              "GRADES_ALL_G                    0\n",
              "AVG_MATH_4_SCORE                0\n",
              "AVG_MATH_8_SCORE                0\n",
              "AVG_READING_4_SCORE             0\n",
              "AVG_READING_8_SCORE             0\n",
              "dtype: int64"
            ]
          },
          "metadata": {
            "tags": []
          },
          "execution_count": 19
        }
      ]
    },
    {
      "metadata": {
        "id": "ls4He2TDfBzA",
        "colab_type": "code",
        "colab": {}
      },
      "cell_type": "code",
      "source": [
        "from google.colab import files\n",
        "uploaded = files.upload()"
      ],
      "execution_count": 0,
      "outputs": []
    },
    {
      "metadata": {
        "id": "GGV1G5mShv5q",
        "colab_type": "code",
        "colab": {}
      },
      "cell_type": "code",
      "source": [
        "pokemon_df = 'https://storage.googleapis.com/kaggle-datasets/121/280/Pokemon.csv?GoogleAccessId=web-data@kaggle-161607.iam.gserviceaccount.com&Expires=1553284575&Signature=mSIfCPz6NnrQ8lxCwJmtQ9cO%2FwOLOyOwAL685fdDIcpzmPVpNylTY82%2B%2BzVFOAdGkSkZRaOsZS09G0eKKYUQWfumMAOcSKbg11FeHz9EDdBA7GTwoYtS4oEoWmSKs4GKxJWkMfa6C11GMWEZDJuu3Qd4UGG3kmrYxhpH0lW0BtWj2VtKdRdFbDc7JzMmJ7gqhBZ7BQ7rJ4wGbIcl8QwyXiV2cGwjNbbUZhs9EBfPhzHA%2Fx9Diaz%2FS9Z7KaF2cLXbWexNWQNCUDG00nmLKyrlUjphm6%2FNZ9hc9znYOcwAN4lo%2BCNhM42su%2FSD0RpiurwDqQG13L3OQ%2FGIDDzfd6eNlg%3D%3D'"
      ],
      "execution_count": 0,
      "outputs": []
    },
    {
      "metadata": {
        "id": "NgB-4yxph2FJ",
        "colab_type": "code",
        "colab": {
          "base_uri": "https://localhost:8080/",
          "height": 204
        },
        "outputId": "afe09cb9-aa24-4c4c-b307-862166ed457f"
      },
      "cell_type": "code",
      "source": [
        "import pandas as pd \n",
        "import numpy as np\n",
        "df = pd.read_csv(pokemon_df)\n",
        "df.head()"
      ],
      "execution_count": 30,
      "outputs": [
        {
          "output_type": "execute_result",
          "data": {
            "text/html": [
              "<div>\n",
              "<style scoped>\n",
              "    .dataframe tbody tr th:only-of-type {\n",
              "        vertical-align: middle;\n",
              "    }\n",
              "\n",
              "    .dataframe tbody tr th {\n",
              "        vertical-align: top;\n",
              "    }\n",
              "\n",
              "    .dataframe thead th {\n",
              "        text-align: right;\n",
              "    }\n",
              "</style>\n",
              "<table border=\"1\" class=\"dataframe\">\n",
              "  <thead>\n",
              "    <tr style=\"text-align: right;\">\n",
              "      <th></th>\n",
              "      <th>#</th>\n",
              "      <th>Name</th>\n",
              "      <th>Type 1</th>\n",
              "      <th>Type 2</th>\n",
              "      <th>Total</th>\n",
              "      <th>HP</th>\n",
              "      <th>Attack</th>\n",
              "      <th>Defense</th>\n",
              "      <th>Sp. Atk</th>\n",
              "      <th>Sp. Def</th>\n",
              "      <th>Speed</th>\n",
              "      <th>Generation</th>\n",
              "      <th>Legendary</th>\n",
              "    </tr>\n",
              "  </thead>\n",
              "  <tbody>\n",
              "    <tr>\n",
              "      <th>0</th>\n",
              "      <td>1</td>\n",
              "      <td>Bulbasaur</td>\n",
              "      <td>Grass</td>\n",
              "      <td>Poison</td>\n",
              "      <td>318</td>\n",
              "      <td>45</td>\n",
              "      <td>49</td>\n",
              "      <td>49</td>\n",
              "      <td>65</td>\n",
              "      <td>65</td>\n",
              "      <td>45</td>\n",
              "      <td>1</td>\n",
              "      <td>False</td>\n",
              "    </tr>\n",
              "    <tr>\n",
              "      <th>1</th>\n",
              "      <td>2</td>\n",
              "      <td>Ivysaur</td>\n",
              "      <td>Grass</td>\n",
              "      <td>Poison</td>\n",
              "      <td>405</td>\n",
              "      <td>60</td>\n",
              "      <td>62</td>\n",
              "      <td>63</td>\n",
              "      <td>80</td>\n",
              "      <td>80</td>\n",
              "      <td>60</td>\n",
              "      <td>1</td>\n",
              "      <td>False</td>\n",
              "    </tr>\n",
              "    <tr>\n",
              "      <th>2</th>\n",
              "      <td>3</td>\n",
              "      <td>Venusaur</td>\n",
              "      <td>Grass</td>\n",
              "      <td>Poison</td>\n",
              "      <td>525</td>\n",
              "      <td>80</td>\n",
              "      <td>82</td>\n",
              "      <td>83</td>\n",
              "      <td>100</td>\n",
              "      <td>100</td>\n",
              "      <td>80</td>\n",
              "      <td>1</td>\n",
              "      <td>False</td>\n",
              "    </tr>\n",
              "    <tr>\n",
              "      <th>3</th>\n",
              "      <td>3</td>\n",
              "      <td>VenusaurMega Venusaur</td>\n",
              "      <td>Grass</td>\n",
              "      <td>Poison</td>\n",
              "      <td>625</td>\n",
              "      <td>80</td>\n",
              "      <td>100</td>\n",
              "      <td>123</td>\n",
              "      <td>122</td>\n",
              "      <td>120</td>\n",
              "      <td>80</td>\n",
              "      <td>1</td>\n",
              "      <td>False</td>\n",
              "    </tr>\n",
              "    <tr>\n",
              "      <th>4</th>\n",
              "      <td>4</td>\n",
              "      <td>Charmander</td>\n",
              "      <td>Fire</td>\n",
              "      <td>NaN</td>\n",
              "      <td>309</td>\n",
              "      <td>39</td>\n",
              "      <td>52</td>\n",
              "      <td>43</td>\n",
              "      <td>60</td>\n",
              "      <td>50</td>\n",
              "      <td>65</td>\n",
              "      <td>1</td>\n",
              "      <td>False</td>\n",
              "    </tr>\n",
              "  </tbody>\n",
              "</table>\n",
              "</div>"
            ],
            "text/plain": [
              "   #                   Name Type 1  Type 2  Total  HP  Attack  Defense  \\\n",
              "0  1              Bulbasaur  Grass  Poison    318  45      49       49   \n",
              "1  2                Ivysaur  Grass  Poison    405  60      62       63   \n",
              "2  3               Venusaur  Grass  Poison    525  80      82       83   \n",
              "3  3  VenusaurMega Venusaur  Grass  Poison    625  80     100      123   \n",
              "4  4             Charmander   Fire     NaN    309  39      52       43   \n",
              "\n",
              "   Sp. Atk  Sp. Def  Speed  Generation  Legendary  \n",
              "0       65       65     45           1      False  \n",
              "1       80       80     60           1      False  \n",
              "2      100      100     80           1      False  \n",
              "3      122      120     80           1      False  \n",
              "4       60       50     65           1      False  "
            ]
          },
          "metadata": {
            "tags": []
          },
          "execution_count": 30
        }
      ]
    },
    {
      "metadata": {
        "id": "_uCOOGvHoseP",
        "colab_type": "code",
        "colab": {
          "base_uri": "https://localhost:8080/",
          "height": 255
        },
        "outputId": "1fd277d7-2bd9-476f-cb21-01d85b5d2a34"
      },
      "cell_type": "code",
      "source": [
        "df.isnull().sum()"
      ],
      "execution_count": 31,
      "outputs": [
        {
          "output_type": "execute_result",
          "data": {
            "text/plain": [
              "#               0\n",
              "Name            0\n",
              "Type 1          0\n",
              "Type 2        386\n",
              "Total           0\n",
              "HP              0\n",
              "Attack          0\n",
              "Defense         0\n",
              "Sp. Atk         0\n",
              "Sp. Def         0\n",
              "Speed           0\n",
              "Generation      0\n",
              "Legendary       0\n",
              "dtype: int64"
            ]
          },
          "metadata": {
            "tags": []
          },
          "execution_count": 31
        }
      ]
    },
    {
      "metadata": {
        "id": "nxD8yUDEiui8",
        "colab_type": "code",
        "colab": {}
      },
      "cell_type": "code",
      "source": [
        "df[\"Type 2\"] = df[\"Type 2\"].combine_first(df[\"Type 1\"])"
      ],
      "execution_count": 0,
      "outputs": []
    },
    {
      "metadata": {
        "id": "ykn5F0BSnezy",
        "colab_type": "code",
        "colab": {
          "base_uri": "https://localhost:8080/",
          "height": 204
        },
        "outputId": "2927801c-5adc-42ae-d65b-4c105c556d3a"
      },
      "cell_type": "code",
      "source": [
        "df.head()"
      ],
      "execution_count": 29,
      "outputs": [
        {
          "output_type": "execute_result",
          "data": {
            "text/html": [
              "<div>\n",
              "<style scoped>\n",
              "    .dataframe tbody tr th:only-of-type {\n",
              "        vertical-align: middle;\n",
              "    }\n",
              "\n",
              "    .dataframe tbody tr th {\n",
              "        vertical-align: top;\n",
              "    }\n",
              "\n",
              "    .dataframe thead th {\n",
              "        text-align: right;\n",
              "    }\n",
              "</style>\n",
              "<table border=\"1\" class=\"dataframe\">\n",
              "  <thead>\n",
              "    <tr style=\"text-align: right;\">\n",
              "      <th></th>\n",
              "      <th>#</th>\n",
              "      <th>Name</th>\n",
              "      <th>Type 1</th>\n",
              "      <th>Type 2</th>\n",
              "      <th>Total</th>\n",
              "      <th>HP</th>\n",
              "      <th>Attack</th>\n",
              "      <th>Defense</th>\n",
              "      <th>Sp. Atk</th>\n",
              "      <th>Sp. Def</th>\n",
              "      <th>Speed</th>\n",
              "      <th>Generation</th>\n",
              "      <th>Legendary</th>\n",
              "    </tr>\n",
              "  </thead>\n",
              "  <tbody>\n",
              "    <tr>\n",
              "      <th>0</th>\n",
              "      <td>1</td>\n",
              "      <td>Bulbasaur</td>\n",
              "      <td>Grass</td>\n",
              "      <td>Poison</td>\n",
              "      <td>318</td>\n",
              "      <td>45</td>\n",
              "      <td>49</td>\n",
              "      <td>49</td>\n",
              "      <td>65</td>\n",
              "      <td>65</td>\n",
              "      <td>45</td>\n",
              "      <td>1</td>\n",
              "      <td>False</td>\n",
              "    </tr>\n",
              "    <tr>\n",
              "      <th>1</th>\n",
              "      <td>2</td>\n",
              "      <td>Ivysaur</td>\n",
              "      <td>Grass</td>\n",
              "      <td>Poison</td>\n",
              "      <td>405</td>\n",
              "      <td>60</td>\n",
              "      <td>62</td>\n",
              "      <td>63</td>\n",
              "      <td>80</td>\n",
              "      <td>80</td>\n",
              "      <td>60</td>\n",
              "      <td>1</td>\n",
              "      <td>False</td>\n",
              "    </tr>\n",
              "    <tr>\n",
              "      <th>2</th>\n",
              "      <td>3</td>\n",
              "      <td>Venusaur</td>\n",
              "      <td>Grass</td>\n",
              "      <td>Poison</td>\n",
              "      <td>525</td>\n",
              "      <td>80</td>\n",
              "      <td>82</td>\n",
              "      <td>83</td>\n",
              "      <td>100</td>\n",
              "      <td>100</td>\n",
              "      <td>80</td>\n",
              "      <td>1</td>\n",
              "      <td>False</td>\n",
              "    </tr>\n",
              "    <tr>\n",
              "      <th>3</th>\n",
              "      <td>3</td>\n",
              "      <td>VenusaurMega Venusaur</td>\n",
              "      <td>Grass</td>\n",
              "      <td>Poison</td>\n",
              "      <td>625</td>\n",
              "      <td>80</td>\n",
              "      <td>100</td>\n",
              "      <td>123</td>\n",
              "      <td>122</td>\n",
              "      <td>120</td>\n",
              "      <td>80</td>\n",
              "      <td>1</td>\n",
              "      <td>False</td>\n",
              "    </tr>\n",
              "    <tr>\n",
              "      <th>4</th>\n",
              "      <td>4</td>\n",
              "      <td>Charmander</td>\n",
              "      <td>Fire</td>\n",
              "      <td>Fire</td>\n",
              "      <td>309</td>\n",
              "      <td>39</td>\n",
              "      <td>52</td>\n",
              "      <td>43</td>\n",
              "      <td>60</td>\n",
              "      <td>50</td>\n",
              "      <td>65</td>\n",
              "      <td>1</td>\n",
              "      <td>False</td>\n",
              "    </tr>\n",
              "  </tbody>\n",
              "</table>\n",
              "</div>"
            ],
            "text/plain": [
              "   #                   Name Type 1  Type 2  Total  HP  Attack  Defense  \\\n",
              "0  1              Bulbasaur  Grass  Poison    318  45      49       49   \n",
              "1  2                Ivysaur  Grass  Poison    405  60      62       63   \n",
              "2  3               Venusaur  Grass  Poison    525  80      82       83   \n",
              "3  3  VenusaurMega Venusaur  Grass  Poison    625  80     100      123   \n",
              "4  4             Charmander   Fire    Fire    309  39      52       43   \n",
              "\n",
              "   Sp. Atk  Sp. Def  Speed  Generation  Legendary  \n",
              "0       65       65     45           1      False  \n",
              "1       80       80     60           1      False  \n",
              "2      100      100     80           1      False  \n",
              "3      122      120     80           1      False  \n",
              "4       60       50     65           1      False  "
            ]
          },
          "metadata": {
            "tags": []
          },
          "execution_count": 29
        }
      ]
    },
    {
      "metadata": {
        "id": "u7o0P6Azn8ex",
        "colab_type": "code",
        "colab": {
          "base_uri": "https://localhost:8080/",
          "height": 255
        },
        "outputId": "31cc5df6-996d-4008-eb2a-b067036d686d"
      },
      "cell_type": "code",
      "source": [
        "df.isnull().sum()"
      ],
      "execution_count": 28,
      "outputs": [
        {
          "output_type": "execute_result",
          "data": {
            "text/plain": [
              "#             0\n",
              "Name          0\n",
              "Type 1        0\n",
              "Type 2        0\n",
              "Total         0\n",
              "HP            0\n",
              "Attack        0\n",
              "Defense       0\n",
              "Sp. Atk       0\n",
              "Sp. Def       0\n",
              "Speed         0\n",
              "Generation    0\n",
              "Legendary     0\n",
              "dtype: int64"
            ]
          },
          "metadata": {
            "tags": []
          },
          "execution_count": 28
        }
      ]
    },
    {
      "metadata": {
        "id": "MZCxTwKuReV9",
        "colab_type": "text"
      },
      "cell_type": "markdown",
      "source": [
        "## Stretch Goals - Other types and sources of data\n",
        "\n",
        "Not all data comes in a nice single file - for example, image classification involves handling lots of image files. You still will probably want labels for them, so you may have tabular data in addition to the image blobs - and the images may be reduced in resolution and even fit in a regular csv as a bunch of numbers.\n",
        "\n",
        "If you're interested in natural language processing and analyzing text, that is another example where, while it can be put in a csv, you may end up loading much larger raw data and generating features that can then be thought of in a more standard tabular fashion.\n",
        "\n",
        "Overall you will in the course of learning data science deal with loading data in a variety of ways. Another common way to get data is from a database - most modern applications are backed by one or more databases, which you can query to get data to analyze. We'll cover this more in our data engineering unit.\n",
        "\n",
        "How does data get in the database? Most applications generate logs - text files with lots and lots of records of each use of the application. Databases are often populated based on these files, but in some situations you may directly analyze log files. The usual way to do this is with command line (Unix) tools - command lines are intimidating, so don't expect to learn them all at once, but depending on your interests it can be useful to practice.\n",
        "\n",
        "One last major source of data is APIs: https://github.com/toddmotto/public-apis\n",
        "\n",
        "API stands for Application Programming Interface, and while originally meant e.g. the way an application interfaced with the GUI or other aspects of an operating system, now it largely refers to online services that let you query and retrieve data. You can essentially think of most of them as \"somebody else's database\" - you have (usually limited) access.\n",
        "\n",
        "*Stretch goal* - research one of the above extended forms of data/data loading. See if you can get a basic example working in a notebook. Image, text, or (public) APIs are probably more tractable - databases are interesting, but there aren't many publicly accessible and they require a great deal of setup."
      ]
    }
  ]
}