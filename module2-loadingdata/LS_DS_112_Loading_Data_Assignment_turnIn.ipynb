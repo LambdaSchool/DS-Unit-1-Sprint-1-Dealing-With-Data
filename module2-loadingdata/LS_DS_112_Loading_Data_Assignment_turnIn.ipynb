{
  "nbformat": 4,
  "nbformat_minor": 0,
  "metadata": {
    "colab": {
      "name": "LS_DS_112_Loading_Data_Assignment-turnIn.ipynb",
      "version": "0.3.2",
      "provenance": [],
      "collapsed_sections": [],
      "include_colab_link": true
    },
    "kernelspec": {
      "name": "python3",
      "display_name": "Python 3"
    }
  },
  "cells": [
    {
      "cell_type": "markdown",
      "metadata": {
        "id": "view-in-github",
        "colab_type": "text"
      },
      "source": [
        "<a href=\"https://colab.research.google.com/github/DAVIDnHANG/DS-Unit-1-Sprint-1-Dealing-With-Data/blob/master/module2-loadingdata/LS_DS_112_Loading_Data_Assignment_turnIn.ipynb\" target=\"_parent\"><img src=\"https://colab.research.google.com/assets/colab-badge.svg\" alt=\"Open In Colab\"/></a>"
      ]
    },
    {
      "cell_type": "markdown",
      "metadata": {
        "colab_type": "text",
        "id": "MSnsTgZLKO72"
      },
      "source": [
        "# Practice Loading Datasets\n",
        "\n",
        "This assignment is purposely semi-open-ended you will be asked to load datasets both from github and also from CSV files from the [UC Irvine Machine Learning Repository](https://archive.ics.uci.edu/ml/index.php). \n",
        "\n",
        "Remember that the UCI datasets may not have a file type of `.csv` so it's important that you learn as much as you can about the dataset before you try and load it. See if you can look at the raw text of the file either locally, on github, using the `!curl` shell command, or in some other way before you try and read it in as a dataframe, this will help you catch what would otherwise be unforseen problems.\n"
      ]
    },
    {
      "cell_type": "markdown",
      "metadata": {
        "id": "156P6ndeKojO",
        "colab_type": "text"
      },
      "source": [
        "## 1) Load a dataset from Github (via its *RAW* URL)\n",
        "\n",
        "Pick a dataset from the following repository and load it into Google Colab. Make sure that the headers are what you would expect and check to see if missing values have been encoded as NaN values:\n",
        "\n",
        "<https://github.com/ryanleeallred/datasets>"
      ]
    },
    {
      "cell_type": "code",
      "metadata": {
        "id": "NJdISe69ZT7E",
        "colab_type": "code",
        "outputId": "1da33dc9-785d-4c40-bd3c-7991760a9c6e",
        "colab": {
          "base_uri": "https://localhost:8080/",
          "height": 1000
        }
      },
      "source": [
        "#Step One: create variable assign it to a link\n",
        "import pandas as pd\n",
        "#the trick to load a file in GitHub is to click on the raw data to obtain URL. \n",
        "Twitter_sentiment = 'https://raw.githubusercontent.com/ryanleeallred/datasets/master/twitter_sentiment.csv'\n",
        "print(Twitter_sentiment)\n",
        "#seperator is common \",\" and column 1 is a long string with , so tell pandas it to not be confuse with seperator\n",
        "column_headers = ['PosOrNegMessage', 'Text']\n",
        "Twitter_sentiment = pd.read_csv(Twitter_sentiment,  sep=\",\", dtype={'1':'str'} , names = column_headers, header = 1)\n",
        "print(Twitter_sentiment)"
      ],
      "execution_count": 0,
      "outputs": [
        {
          "output_type": "stream",
          "text": [
            "https://raw.githubusercontent.com/ryanleeallred/datasets/master/twitter_sentiment.csv\n",
            "     PosOrNegMessage                                               Text\n",
            "0                pos  having a vodka tonic and looking forward to go...\n",
            "1                pos  @ddlovatofans1neg1 Could you follow me please....\n",
            "2                pos  @jordanknight for once.................. PLEAS...\n",
            "3                neg  Had a dream about a walk in fast food resturau...\n",
            "4                pos  @TroyBrownBBNews Yes... For a &quot;friend&quot; \n",
            "5                pos                       Packing for work expierance \n",
            "6                neg  hates @internet @explrer (angry)(angry) **but ...\n",
            "7                neg  @federalcase  I said I go out for eat 5:negneg...\n",
            "8                neg  @babykates7 yeah they won't do the surgery til...\n",
            "9                pos       @BritRuxpin. I say answering with no pants. \n",
            "10               neg  Am in the place called negUT OF NOW WHERE!! Ta...\n",
            "11               neg  3am, still up.. flying to LA ltr 8am..hayyy sl...\n",
            "12               neg  2 down, 8 to go...looks like i wont be getting...\n",
            "13               neg     It's Increible How Someone Forgot U Soo Fast! \n",
            "14               neg  That little girl holly!  find some time! Aw, s...\n",
            "15               neg  Aapko huyi asuvidha ke liye hume khed hay Trai...\n",
            "16               neg  @brightondoll ugh, me too. 3:pos5 and going st...\n",
            "17               neg          Will be back when I think everyone is up \n",
            "18               pos  &quot;so we keep waitin, waitin , waitin on th...\n",
            "19               neg  @carposdave sinus infection.    the whole left...\n",
            "20               neg  @twilighterNY I've seen the pics but only on m...\n",
            "21               neg  @Streyeder I wish I had time or extracurricula...\n",
            "22               pos  @ms_cornwall night you, may your dreams be won...\n",
            "23               pos  Star Wars: Old Republic: http://digg.com/d1sgu...\n",
            "24               pos                You could be my punk rock princess \n",
            "25               neg  @YukiB Iknow, I am just jealous and hate to be...\n",
            "26               pos  19 more sleeps untill Take That ahhhhhhhhhhhhhhh \n",
            "27               pos  aaaw! my moms crying. She loved the mixed tape...\n",
            "28               neg                 @Velf79 Missed you last night hon \n",
            "29               pos  Morning y'all. Looking forward to a nice BBQ t...\n",
            "...              ...                                                ...\n",
            "1970             pos            @Animadi You're welcome and thank you. \n",
            "1971             neg  Another rainy day in Lititz, PA.    On the up ...\n",
            "1972             neg  @dovwaterman I'm not a BAFTA member so clearly...\n",
            "1973             pos                        @zealandsmom Thx for that! \n",
            "1974             neg  On my way to school... Thinking I may have don...\n",
            "1975             pos  @toyhorses Exellent, I'll be over about 1:3neg...\n",
            "1976             pos  watching im a celebrity.....get me out of here...\n",
            "1977             pos  @davynathan of course we r!! BHs r nothing if ...\n",
            "1978             pos     @MrPeterAndre no problem Pete hope you are ok \n",
            "1979             pos  @successfool You know it PIC!  I believe in yo...\n",
            "1980             pos                               Hanging out at home \n",
            "1981             neg  Debating taking the dogs down to bed &amp; giv...\n",
            "1982             pos  @Andreaheartscgh @Catherine_andy Remember to y...\n",
            "1983             neg              Caps  Well, there's always next year.\n",
            "1984             pos  @khallwalker experience shows that sending the...\n",
            "1985             pos                             bye bye twitter world \n",
            "1986             neg  @ScruffyPanther oh no !  blocking them didn't ...\n",
            "1987             neg             Not feelin great at alll this morning \n",
            "1988             pos  just got done editing pix from yesterday's #gb...\n",
            "1989             neg  All these good/new shows on tonight....and I'm...\n",
            "1990             pos  @tinhet Hey you      It surprisingly didn't hu...\n",
            "1991             pos  @childrensjewell @Bazzaa  Thank you  I will po...\n",
            "1992             pos    Just smashed this Tommy's for my 2PM breakfast \n",
            "1993             pos  @ionacosmetics spent yesterday outside myself-...\n",
            "1994             neg  @PrimalMan You're so lucky! I used to have acc...\n",
            "1995             neg  STILL @ panera...studying for &quot;mock&quot;...\n",
            "1996             neg  Insomnia is out of control tonight--haven't sl...\n",
            "1997             pos          @Covergirlneg8 I take pride in what I do \n",
            "1998             pos                          heading to work on the 6 \n",
            "1999             pos                                   @queith asi es! \n",
            "\n",
            "[2000 rows x 2 columns]\n"
          ],
          "name": "stdout"
        }
      ]
    },
    {
      "cell_type": "markdown",
      "metadata": {
        "id": "-gFnZR6iLLPY",
        "colab_type": "text"
      },
      "source": [
        "## 2) Load a dataset from your local machine\n",
        "Download a dataset from the [UC Irvine Machine Learning Repository](https://archive.ics.uci.edu/ml/index.php) and then upload the file to Google Colab either using the files tab in the left-hand sidebar or by importing `files` from `google.colab` The following link will be a useful resource if you can't remember the syntax: <https://towardsdatascience.com/3-ways-to-load-csv-files-into-colab-7c14fcbdcb92>\n",
        "\n",
        "While you are free to try and load any dataset from the UCI repository, I strongly suggest starting with one of the most popular datasets like those that are featured on the right-hand side of the home page. \n",
        "\n",
        "Some datasets on UCI will have challenges associated with importing them far beyond what we have exposed you to in class today, so if you run into a dataset that you don't know how to deal with, struggle with it for a little bit, but ultimately feel free to simply choose a different one. \n",
        "\n",
        "- Make sure that your file has correct headers, and the same number of rows and columns as is specified on the UCI page. If your dataset doesn't have headers use the parameters of the `read_csv` function to add them. Likewise make sure that missing values are encoded as `NaN`."
      ]
    },
    {
      "cell_type": "code",
      "metadata": {
        "id": "qUmwX-ZoM9cq",
        "colab_type": "code",
        "outputId": "f619fb17-6444-4e63-bdf4-6e02915583a0",
        "colab": {
          "base_uri": "https://localhost:8080/",
          "height": 803
        }
      },
      "source": [
        "\n",
        "import pandas as pd\n",
        "# use these lines to upload a file to google.co\n",
        "from google.colab import files\n",
        "#uploaded = files.upload()\n",
        "#then change the filepath buffer once the file is in google.colab. also remove the file.upload() function\n",
        "df = pd.read_csv('/youtube_videos.tsv', header = 0, sep = '\\t', dtype={'id':'str', 'duration':int , 'bitrate':int, 'bitrate(video)':int, 'height':int, \n",
        "                                                                     'width':int,'frame rate':float, 'frame rate(est.)':float,'codec':'str','category':'str',\n",
        "                                                                      'url':'str'})\n",
        "print(df.shape)\n",
        "df.head(15)\n",
        "\n"
      ],
      "execution_count": 0,
      "outputs": [
        {
          "output_type": "stream",
          "text": [
            "(168286, 11)\n"
          ],
          "name": "stdout"
        },
        {
          "output_type": "execute_result",
          "data": {
            "text/html": [
              "<div>\n",
              "<style scoped>\n",
              "    .dataframe tbody tr th:only-of-type {\n",
              "        vertical-align: middle;\n",
              "    }\n",
              "\n",
              "    .dataframe tbody tr th {\n",
              "        vertical-align: top;\n",
              "    }\n",
              "\n",
              "    .dataframe thead th {\n",
              "        text-align: right;\n",
              "    }\n",
              "</style>\n",
              "<table border=\"1\" class=\"dataframe\">\n",
              "  <thead>\n",
              "    <tr style=\"text-align: right;\">\n",
              "      <th></th>\n",
              "      <th>id</th>\n",
              "      <th>duration</th>\n",
              "      <th>bitrate</th>\n",
              "      <th>bitrate(video)</th>\n",
              "      <th>height</th>\n",
              "      <th>width</th>\n",
              "      <th>frame rate</th>\n",
              "      <th>frame rate(est.)</th>\n",
              "      <th>codec</th>\n",
              "      <th>category</th>\n",
              "      <th>url</th>\n",
              "    </tr>\n",
              "  </thead>\n",
              "  <tbody>\n",
              "    <tr>\n",
              "      <th>0</th>\n",
              "      <td>uDNj-_5ty48</td>\n",
              "      <td>267</td>\n",
              "      <td>373</td>\n",
              "      <td>274</td>\n",
              "      <td>568</td>\n",
              "      <td>320</td>\n",
              "      <td>29.97</td>\n",
              "      <td>0.00</td>\n",
              "      <td>h264</td>\n",
              "      <td>Music</td>\n",
              "      <td>http://r2---sn-ovgq0oxu-5goe.c.youtube.com/vid...</td>\n",
              "    </tr>\n",
              "    <tr>\n",
              "      <th>1</th>\n",
              "      <td>uDNj-_5ty48</td>\n",
              "      <td>267</td>\n",
              "      <td>512</td>\n",
              "      <td>396</td>\n",
              "      <td>480</td>\n",
              "      <td>270</td>\n",
              "      <td>29.97</td>\n",
              "      <td>29.97</td>\n",
              "      <td>h264</td>\n",
              "      <td>Music</td>\n",
              "      <td>http://r2---sn-ovgq0oxu-5goe.c.youtube.com/vid...</td>\n",
              "    </tr>\n",
              "    <tr>\n",
              "      <th>2</th>\n",
              "      <td>uDNj-_5ty48</td>\n",
              "      <td>267</td>\n",
              "      <td>324</td>\n",
              "      <td>263</td>\n",
              "      <td>400</td>\n",
              "      <td>226</td>\n",
              "      <td>29.97</td>\n",
              "      <td>29.97</td>\n",
              "      <td>flv1</td>\n",
              "      <td>Music</td>\n",
              "      <td>http://r2---sn-ovgq0oxu-5goe.c.youtube.com/vid...</td>\n",
              "    </tr>\n",
              "    <tr>\n",
              "      <th>3</th>\n",
              "      <td>uDNj-_5ty48</td>\n",
              "      <td>267</td>\n",
              "      <td>85</td>\n",
              "      <td>55</td>\n",
              "      <td>176</td>\n",
              "      <td>144</td>\n",
              "      <td>12.00</td>\n",
              "      <td>12.00</td>\n",
              "      <td>mpeg4</td>\n",
              "      <td>Music</td>\n",
              "      <td>http://r2---sn-ovgq0oxu-5goe.c.youtube.com/vid...</td>\n",
              "    </tr>\n",
              "    <tr>\n",
              "      <th>4</th>\n",
              "      <td>WCgt-AactyY</td>\n",
              "      <td>31</td>\n",
              "      <td>1261</td>\n",
              "      <td>1183</td>\n",
              "      <td>640</td>\n",
              "      <td>480</td>\n",
              "      <td>24.00</td>\n",
              "      <td>0.00</td>\n",
              "      <td>h264</td>\n",
              "      <td>People &amp; Blogs</td>\n",
              "      <td>http://r1---sn-ovgq0oxu-5goe.c.youtube.com/vid...</td>\n",
              "    </tr>\n",
              "    <tr>\n",
              "      <th>5</th>\n",
              "      <td>WCgt-AactyY</td>\n",
              "      <td>31</td>\n",
              "      <td>1166</td>\n",
              "      <td>1183</td>\n",
              "      <td>640</td>\n",
              "      <td>480</td>\n",
              "      <td>24.00</td>\n",
              "      <td>0.00</td>\n",
              "      <td>vp8</td>\n",
              "      <td>People &amp; Blogs</td>\n",
              "      <td>http://r1---sn-ovgq0oxu-5goe.c.youtube.com/vid...</td>\n",
              "    </tr>\n",
              "    <tr>\n",
              "      <th>6</th>\n",
              "      <td>WCgt-AactyY</td>\n",
              "      <td>31</td>\n",
              "      <td>736</td>\n",
              "      <td>646</td>\n",
              "      <td>480</td>\n",
              "      <td>360</td>\n",
              "      <td>24.00</td>\n",
              "      <td>0.00</td>\n",
              "      <td>h264</td>\n",
              "      <td>People &amp; Blogs</td>\n",
              "      <td>http://r1---sn-ovgq0oxu-5goe.c.youtube.com/vid...</td>\n",
              "    </tr>\n",
              "    <tr>\n",
              "      <th>7</th>\n",
              "      <td>WCgt-AactyY</td>\n",
              "      <td>31</td>\n",
              "      <td>715</td>\n",
              "      <td>641</td>\n",
              "      <td>480</td>\n",
              "      <td>360</td>\n",
              "      <td>24.00</td>\n",
              "      <td>24.00</td>\n",
              "      <td>h264</td>\n",
              "      <td>People &amp; Blogs</td>\n",
              "      <td>http://r1---sn-ovgq0oxu-5goe.c.youtube.com/vid...</td>\n",
              "    </tr>\n",
              "    <tr>\n",
              "      <th>8</th>\n",
              "      <td>WCgt-AactyY</td>\n",
              "      <td>31</td>\n",
              "      <td>762</td>\n",
              "      <td>641</td>\n",
              "      <td>480</td>\n",
              "      <td>360</td>\n",
              "      <td>24.00</td>\n",
              "      <td>24.00</td>\n",
              "      <td>vp8</td>\n",
              "      <td>People &amp; Blogs</td>\n",
              "      <td>http://r1---sn-ovgq0oxu-5goe.c.youtube.com/vid...</td>\n",
              "    </tr>\n",
              "    <tr>\n",
              "      <th>9</th>\n",
              "      <td>WCgt-AactyY</td>\n",
              "      <td>31</td>\n",
              "      <td>370</td>\n",
              "      <td>305</td>\n",
              "      <td>320</td>\n",
              "      <td>240</td>\n",
              "      <td>24.00</td>\n",
              "      <td>24.00</td>\n",
              "      <td>flv1</td>\n",
              "      <td>People &amp; Blogs</td>\n",
              "      <td>http://r1---sn-ovgq0oxu-5goe.c.youtube.com/vid...</td>\n",
              "    </tr>\n",
              "    <tr>\n",
              "      <th>10</th>\n",
              "      <td>WCgt-AactyY</td>\n",
              "      <td>31</td>\n",
              "      <td>78</td>\n",
              "      <td>52</td>\n",
              "      <td>176</td>\n",
              "      <td>144</td>\n",
              "      <td>12.00</td>\n",
              "      <td>12.00</td>\n",
              "      <td>mpeg4</td>\n",
              "      <td>People &amp; Blogs</td>\n",
              "      <td>http://r1---sn-ovgq0oxu-5goe.c.youtube.com/vid...</td>\n",
              "    </tr>\n",
              "    <tr>\n",
              "      <th>11</th>\n",
              "      <td>h9Kt-GhvVlg</td>\n",
              "      <td>333</td>\n",
              "      <td>727</td>\n",
              "      <td>638</td>\n",
              "      <td>384</td>\n",
              "      <td>288</td>\n",
              "      <td>25.00</td>\n",
              "      <td>0.00</td>\n",
              "      <td>h264</td>\n",
              "      <td>People &amp; Blogs</td>\n",
              "      <td>http://r2---sn-ovgq0oxu-5goe.c.youtube.com/vid...</td>\n",
              "    </tr>\n",
              "    <tr>\n",
              "      <th>12</th>\n",
              "      <td>h9Kt-GhvVlg</td>\n",
              "      <td>333</td>\n",
              "      <td>668</td>\n",
              "      <td>567</td>\n",
              "      <td>384</td>\n",
              "      <td>288</td>\n",
              "      <td>25.00</td>\n",
              "      <td>25.00</td>\n",
              "      <td>h264</td>\n",
              "      <td>People &amp; Blogs</td>\n",
              "      <td>http://r2---sn-ovgq0oxu-5goe.c.youtube.com/vid...</td>\n",
              "    </tr>\n",
              "    <tr>\n",
              "      <th>13</th>\n",
              "      <td>h9Kt-GhvVlg</td>\n",
              "      <td>333</td>\n",
              "      <td>306</td>\n",
              "      <td>246</td>\n",
              "      <td>320</td>\n",
              "      <td>240</td>\n",
              "      <td>25.00</td>\n",
              "      <td>25.00</td>\n",
              "      <td>flv1</td>\n",
              "      <td>People &amp; Blogs</td>\n",
              "      <td>http://r2---sn-ovgq0oxu-5goe.c.youtube.com/vid...</td>\n",
              "    </tr>\n",
              "    <tr>\n",
              "      <th>14</th>\n",
              "      <td>h9Kt-GhvVlg</td>\n",
              "      <td>333</td>\n",
              "      <td>91</td>\n",
              "      <td>54</td>\n",
              "      <td>176</td>\n",
              "      <td>144</td>\n",
              "      <td>12.00</td>\n",
              "      <td>12.00</td>\n",
              "      <td>mpeg4</td>\n",
              "      <td>People &amp; Blogs</td>\n",
              "      <td>http://r2---sn-ovgq0oxu-5goe.c.youtube.com/vid...</td>\n",
              "    </tr>\n",
              "  </tbody>\n",
              "</table>\n",
              "</div>"
            ],
            "text/plain": [
              "             id  ...                                                url\n",
              "0   uDNj-_5ty48  ...  http://r2---sn-ovgq0oxu-5goe.c.youtube.com/vid...\n",
              "1   uDNj-_5ty48  ...  http://r2---sn-ovgq0oxu-5goe.c.youtube.com/vid...\n",
              "2   uDNj-_5ty48  ...  http://r2---sn-ovgq0oxu-5goe.c.youtube.com/vid...\n",
              "3   uDNj-_5ty48  ...  http://r2---sn-ovgq0oxu-5goe.c.youtube.com/vid...\n",
              "4   WCgt-AactyY  ...  http://r1---sn-ovgq0oxu-5goe.c.youtube.com/vid...\n",
              "5   WCgt-AactyY  ...  http://r1---sn-ovgq0oxu-5goe.c.youtube.com/vid...\n",
              "6   WCgt-AactyY  ...  http://r1---sn-ovgq0oxu-5goe.c.youtube.com/vid...\n",
              "7   WCgt-AactyY  ...  http://r1---sn-ovgq0oxu-5goe.c.youtube.com/vid...\n",
              "8   WCgt-AactyY  ...  http://r1---sn-ovgq0oxu-5goe.c.youtube.com/vid...\n",
              "9   WCgt-AactyY  ...  http://r1---sn-ovgq0oxu-5goe.c.youtube.com/vid...\n",
              "10  WCgt-AactyY  ...  http://r1---sn-ovgq0oxu-5goe.c.youtube.com/vid...\n",
              "11  h9Kt-GhvVlg  ...  http://r2---sn-ovgq0oxu-5goe.c.youtube.com/vid...\n",
              "12  h9Kt-GhvVlg  ...  http://r2---sn-ovgq0oxu-5goe.c.youtube.com/vid...\n",
              "13  h9Kt-GhvVlg  ...  http://r2---sn-ovgq0oxu-5goe.c.youtube.com/vid...\n",
              "14  h9Kt-GhvVlg  ...  http://r2---sn-ovgq0oxu-5goe.c.youtube.com/vid...\n",
              "\n",
              "[15 rows x 11 columns]"
            ]
          },
          "metadata": {
            "tags": []
          },
          "execution_count": 116
        }
      ]
    },
    {
      "cell_type": "markdown",
      "metadata": {
        "id": "mq_aQjxlM-u5",
        "colab_type": "text"
      },
      "source": [
        "## 3) Load a dataset from UCI using `!wget`\n",
        "\n",
        "\"Shell Out\" and try loading a file directly into your google colab's memory using the `!wget` command and then read it in with `read_csv`.\n",
        "\n",
        "With this file we'll do a bit more to it.\n",
        "\n",
        "- Read it in, fix any problems with the header as make sure missing values are encoded as `NaN`.\n",
        "- Use the `.fillna()` method to fill any missing values. \n",
        " - [.fillna() documentation](https://pandas.pydata.org/pandas-docs/stable/reference/api/pandas.DataFrame.fillna.html)\n",
        "- Create one of each of the following plots using the Pandas plotting functionality:\n",
        " - Scatterplot\n",
        " - Histogram\n",
        " - Density Plot\n"
      ]
    },
    {
      "cell_type": "code",
      "metadata": {
        "id": "fJ-HHqnWRIIh",
        "colab_type": "code",
        "colab": {}
      },
      "source": [
        "!wget https://archive.ics.uci.edu/ml/machine-learning-databases/abalone/abalone.data\n",
        "Column_header = ['sex', 'Length', 'Diameter','Height','Whole weight','Shucked weight','Viscera weight','Shell weight','Rings']\n",
        "alabone = pd.read_csv('/abalone.data', names = Column_header)\n",
        "print(alabone.shape)\n",
        "print(alabone.head(5))"
      ],
      "execution_count": 0,
      "outputs": []
    },
    {
      "cell_type": "code",
      "metadata": {
        "id": "sivLx7Lqd2P4",
        "colab_type": "code",
        "outputId": "5fd957f6-8474-4865-dbd8-0c567da969c1",
        "colab": {
          "base_uri": "https://localhost:8080/",
          "height": 298
        }
      },
      "source": [
        "import matplotlib.pyplot as plt\n",
        "#alabone['ShuckedWeight'].hist();\n",
        "plt.hist(alabone['Shucked weight'], color='blue',edgecolor = 'black')\n",
        "plt.title('How many meat of this particular weights are there?')"
      ],
      "execution_count": 0,
      "outputs": [
        {
          "output_type": "execute_result",
          "data": {
            "text/plain": [
              "Text(0.5, 1.0, 'This is what you eat')"
            ]
          },
          "metadata": {
            "tags": []
          },
          "execution_count": 113
        },
        {
          "output_type": "display_data",
          "data": {
            "image/png": "[encoded data removed]",
            "text/plain": [
              "<Figure size 432x288 with 1 Axes>"
            ]
          },
          "metadata": {
            "tags": []
          }
        }
      ]
    },
    {
      "cell_type": "code",
      "metadata": {
        "id": "tTe-yIqxd3wy",
        "colab_type": "code",
        "outputId": "de17ab81-d2af-4912-f4a9-6a02cc9ac4de",
        "colab": {
          "base_uri": "https://localhost:8080/",
          "height": 269
        }
      },
      "source": [
        "\n",
        "#its nice but only meat matters.\n",
        "alabone['Whole weight'].plot.density();\n",
        "\n",
        "\n"
      ],
      "execution_count": 0,
      "outputs": [
        {
          "output_type": "display_data",
          "data": {
            "image/png": "[encoded data removed]",
            "text/plain": [
              "<Figure size 432x288 with 1 Axes>"
            ]
          },
          "metadata": {
            "tags": []
          }
        }
      ]
    },
    {
      "cell_type": "code",
      "metadata": {
        "id": "c46ppdRrd9dO",
        "colab_type": "code",
        "outputId": "a1a8502e-d1c5-4b4f-e5e6-8dee8f4f3579",
        "colab": {
          "base_uri": "https://localhost:8080/",
          "height": 295
        }
      },
      "source": [
        "#alabone.plot.scatter('Rings','Length');\n",
        "import matplotlib.pyplot as plt\n",
        "plt.scatter(alabone['Rings'], alabone['Length'])\n",
        "\n",
        "plt.title(\"does more rings mean bigger Alabone?\")\n",
        "plt.xlabel('rings')\n",
        "plt.ylabel('length')\n",
        "plt.show()"
      ],
      "execution_count": 0,
      "outputs": [
        {
          "output_type": "display_data",
          "data": {
            "image/png": "[encoded data removed]",
            "text/plain": [
              "<Figure size 432x288 with 1 Axes>"
            ]
          },
          "metadata": {
            "tags": []
          }
        }
      ]
    },
    {
      "cell_type": "markdown",
      "metadata": {
        "id": "MZCxTwKuReV9",
        "colab_type": "text"
      },
      "source": [
        "## Stretch Goals - Other types and sources of data\n",
        "\n",
        "Not all data comes in a nice single file - for example, image classification involves handling lots of image files. You still will probably want labels for them, so you may have tabular data in addition to the image blobs - and the images may be reduced in resolution and even fit in a regular csv as a bunch of numbers.\n",
        "\n",
        "If you're interested in natural language processing and analyzing text, that is another example where, while it can be put in a csv, you may end up loading much larger raw data and generating features that can then be thought of in a more standard tabular fashion.\n",
        "\n",
        "Overall you will in the course of learning data science deal with loading data in a variety of ways. Another common way to get data is from a database - most modern applications are backed by one or more databases, which you can query to get data to analyze. We'll cover this more in our data engineering unit.\n",
        "\n",
        "How does data get in the database? Most applications generate logs - text files with lots and lots of records of each use of the application. Databases are often populated based on these files, but in some situations you may directly analyze log files. The usual way to do this is with command line (Unix) tools - command lines are intimidating, so don't expect to learn them all at once, but depending on your interests it can be useful to practice.\n",
        "\n",
        "One last major source of data is APIs: https://github.com/toddmotto/public-apis\n",
        "\n",
        "API stands for Application Programming Interface, and while originally meant e.g. the way an application interfaced with the GUI or other aspects of an operating system, now it largely refers to online services that let you query and retrieve data. You can essentially think of most of them as \"somebody else's database\" - you have (usually limited) access.\n",
        "\n",
        "*Stretch goal* - research one of the above extended forms of data/data loading. See if you can get a basic example working in a notebook. Image, text, or (public) APIs are probably more tractable - databases are interesting, but there aren't many publicly accessible and they require a great deal of setup."
      ]
    },
    {
      "cell_type": "code",
      "metadata": {
        "id": "f4QP6--JBXNK",
        "colab_type": "code",
        "colab": {
          "base_uri": "https://localhost:8080/",
          "height": 54
        },
        "outputId": "682feb98-f2b1-44a1-fba9-472ffdd4b1b2"
      },
      "source": [
        "import json\n",
        "import urllib.request \n",
        "\n",
        "#I want to open this website in python which i know is in JSON format.\n",
        "url_req = urllib.request.Request('https://openwhyd.org/adrien?format=json', headers={'User-Agent': 'Mozilla/5.0'})\n",
        "json_obj = urllib.request.urlopen(url_req).read()\n",
        "\n",
        "print(json_obj)\n",
        "\n",
        "\n",
        "\n",
        "#how to access\n",
        "# "
      ],
      "execution_count": 16,
      "outputs": [
        {
          "output_type": "stream",
          "text": [
            "b'[{\"_id\":\"5d6d1623afd89304bf84abda\",\"uId\":\"4d94501d1f78ac091dbc9b4d\",\"uNm\":\"Adrien Joly\",\"text\":\"\",\"pl\":{\"name\":\"celebration!\",\"id\":33},\"name\":\"Jamiroquai - Automaton (Official Music Video)\",\"eId\":\"/yt/rmlmOk4ubcU\",\"ctx\":\"bk\",\"img\":\"https://i.ytimg.com/vi/rmlmOk4ubcU/default.jpg\",\"nbP\":3,\"nbR\":1,\"lov\":[]},{\"_id\":\"5d45d98f055daf502091d3b2\",\"uId\":\"4d94501d1f78ac091dbc9b4d\",\"uNm\":\"Adrien Joly\",\"text\":\"\",\"pl\":{\"name\":\"fat bass / this is a trap, mothafucka!\",\"id\":17},\"name\":\"Denzel Curry - RICKY\",\"eId\":\"/yt/3WHm6tfvKlk\",\"ctx\":\"bk\",\"img\":\"https://i.ytimg.com/vi/3WHm6tfvKlk/default.jpg\",\"nbP\":9,\"lov\":[\"53f4ee46e04b7b4fca7dcea3\"]},{\"_id\":\"5d3995fb64be6032a6b786a4\",\"uId\":\"4d94501d1f78ac091dbc9b4d\",\"uNm\":\"Adrien Joly\",\"text\":\"\",\"pl\":{\"name\":\"post-rock / progressive\",\"id\":12},\"name\":\"65daysofstatic // BeatCast Coach Road Session\",\"eId\":\"/yt/TInTWrwCCBo\",\"ctx\":\"bk\",\"img\":\"https://i.ytimg.com/vi/TInTWrwCCBo/default.jpg\",\"nbP\":7,\"lov\":[]},{\"_id\":\"5d2b1c134f887d7759f18c3f\",\"uId\":\"4d94501d1f78ac091dbc9b4d\",\"uNm\":\"Adrien Joly\",\"text\":\"rap fran\\xc3\\xa7ais\",\"pl\":{\"name\":\"urban / hip-hop\",\"id\":9},\"name\":\"93 Empire - Iencli (Vald x Sofiane)\",\"eId\":\"/yt/yBv8gz7QZLY\",\"ctx\":\"bk\",\"img\":\"https://i.ytimg.com/vi/yBv8gz7QZLY/default.jpg\",\"src\":{\"id\":\"https://www.youtube.com/watch?v=yBv8gz7QZLY\",\"name\":\"93 Empire - Iencli (Vald x Sofiane) - YouTube\"},\"nbP\":5,\"lov\":[]},{\"_id\":\"5d264061bd5bdf7959c9892f\",\"uId\":\"4d94501d1f78ac091dbc9b4d\",\"uNm\":\"Adrien Joly\",\"text\":\"\",\"pl\":{\"name\":\"Jazz meets World\",\"id\":61},\"name\":\"Hiromi - Take Me Away\",\"eId\":\"/yt/rfST9jtzrA4\",\"ctx\":\"bk\",\"img\":\"https://i.ytimg.com/vi/rfST9jtzrA4/default.jpg\",\"src\":{\"id\":\"https://www.youtube.com/watch?v=rfST9jtzrA4\",\"name\":\"Hiromi - Take Me Away - YouTube\"},\"nbP\":10,\"lov\":[\"53f4ee46e04b7b4fca7dcea3\"],\"nbR\":1},{\"_id\":\"5d233c097a7c221d26621280\",\"uId\":\"4d94501d1f78ac091dbc9b4d\",\"uNm\":\"Adrien Joly\",\"text\":\"\",\"pl\":{\"name\":\"Jazz meets World\",\"id\":61},\"name\":\"Omer Klein Trio \\\\\"Yemen\\\\\"\",\"eId\":\"/yt/IPvK-dYNoGE\",\"ctx\":\"bk\",\"img\":\"https://i.ytimg.com/vi/IPvK-dYNoGE/default.jpg\",\"nbP\":6,\"lov\":[]},{\"_id\":\"5d0fb941112e305f15903505\",\"uId\":\"4d94501d1f78ac091dbc9b4d\",\"uNm\":\"Adrien Joly\",\"text\":\"very good live performance from australian rock band Midnight Oil\",\"pl\":{\"name\":\"aLIVE\",\"id\":39},\"name\":\"Midnight Oil Live MCG 2009\",\"eId\":\"/yt/eHifnJ8w5Rw\",\"ctx\":\"bk\",\"img\":\"https://i.ytimg.com/vi/eHifnJ8w5Rw/default.jpg\",\"nbP\":6,\"lov\":[\"518b5a447e91c862b2adea1a\"]},{\"_id\":\"5d0e8961112e305f1590345e\",\"uId\":\"4d94501d1f78ac091dbc9b4d\",\"uNm\":\"Adrien Joly\",\"text\":\"\",\"pl\":{\"name\":\"slow down\",\"id\":51},\"name\":\"The Nomad Soul : The Dreamers concert Qualisar \\\\\"Survive\\\\\" (David Bowie)\",\"eId\":\"/yt/KjKXEQpFZ50\",\"ctx\":\"bk\",\"img\":\"https://i.ytimg.com/vi/KjKXEQpFZ50/default.jpg\",\"nbP\":6,\"lov\":[]},{\"_id\":\"5d0e358c32698e39f8e4edb5\",\"uId\":\"4d94501d1f78ac091dbc9b4d\",\"uNm\":\"Adrien Joly\",\"text\":\"a touching math-rock live studio with very talented musicians\",\"pl\":{\"name\":\"aLIVE\",\"id\":39},\"name\":\"BENT KNEE - Live at The Record Co (Full Concert Film)\",\"eId\":\"/yt/KFwtaweXX8s\",\"ctx\":\"bk\",\"img\":\"https://i.ytimg.com/vi/KFwtaweXX8s/default.jpg\",\"nbP\":4,\"lov\":[]},{\"_id\":\"5d0ca83232698e39f8e4ed16\",\"uId\":\"4d94501d1f78ac091dbc9b4d\",\"uNm\":\"Adrien Joly\",\"text\":\"\",\"pl\":{\"name\":\"r4ve p4rtY\",\"id\":27},\"name\":\"The Prodigy - Take Me To The Hospital (Official Video)\",\"eId\":\"/yt/ncaNlxvTFzg\",\"ctx\":\"bk\",\"img\":\"https://i.ytimg.com/vi/ncaNlxvTFzg/default.jpg\",\"nbP\":2,\"lov\":[\"533c78db71eaec19b56f86f7\"],\"nbR\":1},{\"_id\":\"5cfd7f6832698e39f8e4e5fc\",\"uId\":\"4d94501d1f78ac091dbc9b4d\",\"uNm\":\"Adrien Joly\",\"text\":\"\",\"pl\":{\"name\":\"Inspiring Drumming\",\"id\":59},\"name\":\"Zildjian Live! - Larnell Lewis\",\"eId\":\"/yt/Jd1X5JWaGgQ\",\"ctx\":\"bk\",\"img\":\"https://i.ytimg.com/vi/Jd1X5JWaGgQ/default.jpg\",\"nbP\":12,\"lov\":[\"53f4ee46e04b7b4fca7dcea3\"],\"nbR\":1},{\"_id\":\"5cfd0ad732698e39f8e4e5ae\",\"uId\":\"4d94501d1f78ac091dbc9b4d\",\"uNm\":\"Adrien Joly\",\"text\":\"reminds me of filastine\",\"pl\":{\"name\":\"Jazz meets World\",\"id\":61},\"name\":\"Oyha Live JFX\",\"eId\":\"/yt/pDoiN68mk8s\",\"ctx\":\"bk\",\"img\":\"https://i.ytimg.com/vi/pDoiN68mk8s/default.jpg\",\"nbP\":8,\"lov\":[]},{\"_id\":\"5cf3adb4969e12550fd003f4\",\"uId\":\"4d94501d1f78ac091dbc9b4d\",\"uNm\":\"Adrien Joly\",\"text\":\"\",\"pl\":{\"name\":\"Chiptune\",\"id\":63},\"name\":\"The Messenger: The Future OST - Remembered and Forgotten (Forlorn Temple)\",\"eId\":\"/yt/qMff04Bs2To\",\"ctx\":\"bk\",\"img\":\"https://i.ytimg.com/vi/qMff04Bs2To/default.jpg\",\"nbP\":5,\"lov\":[]},{\"_id\":\"5cf3ad86969e12550fd003f3\",\"uId\":\"4d94501d1f78ac091dbc9b4d\",\"uNm\":\"Adrien Joly\",\"text\":\"\",\"pl\":{\"name\":\"Chiptune\",\"id\":63},\"name\":\"The Messenger: The Future OST - The Demon\\'s Lair (Underworld)\",\"eId\":\"/yt/qeJUT2e9bd4\",\"ctx\":\"bk\",\"img\":\"https://i.ytimg.com/vi/qeJUT2e9bd4/default.jpg\",\"nbP\":4,\"lov\":[]},{\"_id\":\"5cbf7fc9ca8460368e7617ae\",\"uId\":\"4d94501d1f78ac091dbc9b4d\",\"uNm\":\"Adrien Joly\",\"text\":\"\",\"pl\":{\"name\":\"fat bass / this is a trap, mothafucka!\",\"id\":17},\"name\":\"Bozoo\",\"eId\":\"/yt/yOkK9xiwtQQ\",\"ctx\":\"bk\",\"img\":\"https://i.ytimg.com/vi/yOkK9xiwtQQ/default.jpg\",\"nbP\":9,\"lov\":[]},{\"_id\":\"5cbc5bebca8460368e76161f\",\"uId\":\"4d94501d1f78ac091dbc9b4d\",\"uNm\":\"Adrien Joly\",\"text\":\"japanese jazz found on https://daily.bandcamp.com/2019/04/17/japanese-jazz-guide/\",\"pl\":{\"name\":\"Jazz meets World\",\"id\":61},\"name\":\"roninarkestra - stranger searching\",\"eId\":\"/bc/roninarkestra/stranger-searching#https://t4.bcbits.com/stream/43041844264c29f6a8b7e36437702118/mp3-128/2732234856?p=0&ts=1555934535&t=5d45c27106a71b80bd61f3ac012a186f2991062e&token=1555934535_45a94c4c6f7634ebaa588c3b193e13849c629bc2\",\"ctx\":\"bk\",\"img\":\"//s0.bcbits.com/img/bclogo.png\",\"src\":{\"id\":\"https://roninarkestra.bandcamp.com/album/first-meeting\",\"name\":\"First Meeting | Ronin Arkestra\"},\"lov\":[]},{\"_id\":\"5cbc5951ca8460368e76161e\",\"uId\":\"4d94501d1f78ac091dbc9b4d\",\"uNm\":\"Adrien Joly\",\"text\":\"japanese jazz found in https://daily.bandcamp.com/2019/04/17/japanese-jazz-guide/ #notonspotify\",\"name\":\"avec audace -  19\",\"eId\":\"/bc/avec-audace/--19\",\"ctx\":\"bk\",\"img\":\"//s0.bcbits.com/img/bclogo.png\",\"src\":{\"id\":\"https://avec-audace.bandcamp.com/track/--19\",\"name\":\"\\xe9\\xbb\\x84\\xe9\\x81\\x93\\xe3\\x81\\xae\\xe8\\xbb\\x8c\\xe8\\xb7\\xa1 | audace\"},\"pl\":{\"name\":\"Jazz meets World\",\"id\":61},\"lov\":[]},{\"_id\":\"5cba4f0eca8460368e761515\",\"uId\":\"4d94501d1f78ac091dbc9b4d\",\"uNm\":\"Adrien Joly\",\"text\":\"jazz meets afrobeat\",\"pl\":{\"name\":\"Jazz meets World\",\"id\":61},\"name\":\"kokoroko - uman\",\"eId\":\"/bc/kokoroko/uman#https://t4.bcbits.com/stream/aeaece8d9efdb7cafafd59b65cba3910/mp3-128/803686000?p=0&ts=1555800167&t=e1177ea84c83cf74f4dabf2c35506c149eb7c215&token=1555800167_da96363a740ecc140f31c478d70d5f61ff9e47e2\",\"ctx\":\"bk\",\"img\":\"//s0.bcbits.com/img/bclogo.png\",\"src\":{\"id\":\"https://kokoroko.bandcamp.com/album/kokoroko\",\"name\":\"KOKOROKO | KOKOROKO\"},\"lov\":[]},{\"_id\":\"5cba34f5ca8460368e76150e\",\"uId\":\"4d94501d1f78ac091dbc9b4d\",\"uNm\":\"Adrien Joly\",\"text\":\"\",\"pl\":{\"name\":\"aLIVE\",\"id\":39},\"name\":\"Papa Roach Never Enough live 2001\",\"eId\":\"/yt/jqlW3CzNTNQ\",\"ctx\":\"bk\",\"img\":\"https://i.ytimg.com/vi/jqlW3CzNTNQ/default.jpg\",\"nbP\":10,\"lov\":[]},{\"_id\":\"5cb7ffc8ca8460368e761419\",\"uId\":\"4d94501d1f78ac091dbc9b4d\",\"uNm\":\"Adrien Joly\",\"text\":\"\",\"name\":\"The Jazzinvaders - Back To Edirne (Blow!) 2008\",\"eId\":\"/yt/OkIx6nENeO8\",\"ctx\":\"bk\",\"img\":\"https://i.ytimg.com/vi/OkIx6nENeO8/default.jpg\",\"nbP\":17,\"lov\":[\"5122079d7e91c862b2aadcd8\",\"5228bc3c7e91c862b2b003af\"],\"nbR\":1},{\"_id\":\"5cac6899ca8460368e760eb9\",\"uId\":\"4d94501d1f78ac091dbc9b4d\",\"uNm\":\"Adrien Joly\",\"text\":\"\",\"pl\":{\"name\":\"rock\",\"id\":2},\"name\":\"All Illusion\",\"eId\":\"/yt/G6pnX5A892k\",\"ctx\":\"bk\",\"img\":\"https://i.ytimg.com/vi/G6pnX5A892k/default.jpg\",\"src\":{\"id\":\"https://www.youtube.com/watch?v=G6pnX5A892k&fbclid=IwAR3AQIWF_IrQ2QOs2uaifrHcRhvebcjMFMUUQTgr5njcJSSpV4GJiu6JyVk\",\"name\":\"All Illusion - YouTube\"},\"nbP\":3,\"lov\":[]}]'\n"
          ],
          "name": "stdout"
        }
      ]
    }
  ]
}