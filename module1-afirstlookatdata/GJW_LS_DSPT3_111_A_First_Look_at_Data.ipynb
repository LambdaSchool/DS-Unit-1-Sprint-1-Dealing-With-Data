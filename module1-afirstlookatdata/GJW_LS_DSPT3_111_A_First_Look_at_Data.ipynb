{
  "nbformat": 4,
  "nbformat_minor": 0,
  "metadata": {
    "colab": {
      "name": "GJW_LS_DSPT3_111_A_First_Look_at_Data.ipynb",
      "provenance": [],
      "collapsed_sections": [],
      "include_colab_link": true
    },
    "kernelspec": {
      "name": "python3",
      "display_name": "Python 3"
    }
  },
  "cells": [
    {
      "cell_type": "markdown",
      "metadata": {
        "id": "view-in-github",
        "colab_type": "text"
      },
      "source": [
        "<a href=\"https://colab.research.google.com/github/iesous-kurios/DS-Unit-1-Sprint-1-Dealing-With-Data/blob/master/module1-afirstlookatdata/GJW_LS_DSPT3_111_A_First_Look_at_Data.ipynb\" target=\"_parent\"><img src=\"https://colab.research.google.com/assets/colab-badge.svg\" alt=\"Open In Colab\"/></a>"
      ]
    },
    {
      "cell_type": "markdown",
      "metadata": {
        "id": "Okfr_uhwhS1X",
        "colab_type": "text"
      },
      "source": [
        "# Lambda School Data Science - A First Look at Data\n",
        "\n"
      ]
    },
    {
      "cell_type": "markdown",
      "metadata": {
        "id": "9dtJETFRhnOG",
        "colab_type": "text"
      },
      "source": [
        "## Lecture - let's explore Python DS libraries and examples!\n",
        "\n",
        "The Python Data Science ecosystem is huge. You've seen some of the big pieces - pandas, scikit-learn, matplotlib. What parts do you want to see more of?"
      ]
    },
    {
      "cell_type": "code",
      "metadata": {
        "id": "WiBkgmPJhmhE",
        "colab_type": "code",
        "outputId": "4616de60-b17d-42c5-8c03-6a48301a6f9c",
        "colab": {
          "base_uri": "https://localhost:8080/",
          "height": 35
        }
      },
      "source": [
        "2 + 1"
      ],
      "execution_count": 0,
      "outputs": [
        {
          "output_type": "execute_result",
          "data": {
            "text/plain": [
              "3"
            ]
          },
          "metadata": {
            "tags": []
          },
          "execution_count": 1
        }
      ]
    },
    {
      "cell_type": "markdown",
      "metadata": {
        "id": "lOqaPds9huME",
        "colab_type": "text"
      },
      "source": [
        "## Assignment - now it's your turn\n",
        "\n",
        "Pick at least one Python DS library, and using documentation/examples reproduce in this notebook something cool. It's OK if you don't fully understand it or get it 100% working, but do put in effort and look things up."
      ]
    },
    {
      "cell_type": "code",
      "metadata": {
        "id": "TGUS79cOhPWj",
        "colab_type": "code",
        "colab": {}
      },
      "source": [
        "# import libraries which provide math functions to our data imports\n",
        "import statistics\n",
        "import numpy as np\n",
        "import pandas as pd\n",
        "import matplotlib.pyplot as plt\n",
        "import xlwt \n",
        "from xlwt import Workbook"
      ],
      "execution_count": 0,
      "outputs": []
    },
    {
      "cell_type": "code",
      "metadata": {
        "id": "ZkL8hFLV_0NC",
        "colab_type": "code",
        "outputId": "77635b37-ace4-4cae-dfd8-189054371b3b",
        "colab": {
          "base_uri": "https://localhost:8080/",
          "height": 128
        }
      },
      "source": [
        "# mount google drive to access weekly data\n",
        "from google.colab import drive\n",
        "drive.mount('/content/drive')"
      ],
      "execution_count": 0,
      "outputs": [
        {
          "output_type": "stream",
          "text": [
            "Go to this URL in a browser: https://accounts.google.com/o/oauth2/auth?client_id=947318989803-6bn6qk8qdgf4n4g3pfee6491hc0brc4i.apps.googleusercontent.com&redirect_uri=urn%3Aietf%3Awg%3Aoauth%3A2.0%3Aoob&scope=email%20https%3A%2F%2Fwww.googleapis.com%2Fauth%2Fdocs.test%20https%3A%2F%2Fwww.googleapis.com%2Fauth%2Fdrive%20https%3A%2F%2Fwww.googleapis.com%2Fauth%2Fdrive.photos.readonly%20https%3A%2F%2Fwww.googleapis.com%2Fauth%2Fpeopleapi.readonly&response_type=code\n",
            "\n",
            "Enter your authorization code:\n",
            "··········\n",
            "Mounted at /content/drive\n"
          ],
          "name": "stdout"
        }
      ]
    },
    {
      "cell_type": "code",
      "metadata": {
        "id": "peec2qmm_3Gb",
        "colab_type": "code",
        "colab": {}
      },
      "source": [
        "# import weekly data from yearly FPS folder\n",
        "df = pd.read_excel ('/content/drive/My Drive/FPS Weekly Data Colabs/YTD Data/YTD_Aug_26_2019.xlsx')"
      ],
      "execution_count": 0,
      "outputs": []
    },
    {
      "cell_type": "code",
      "metadata": {
        "id": "Wbz3xF3c_7b4",
        "colab_type": "code",
        "colab": {}
      },
      "source": [
        "# replace zeros in data with \"Nan\" to calculate more accurate average bednights \n",
        "df['Cout of Bed Nights (Housing Check-ins)'] = df['Cout of Bed Nights (Housing Check-ins)'].replace(0, np.NaN)"
      ],
      "execution_count": 0,
      "outputs": []
    },
    {
      "cell_type": "code",
      "metadata": {
        "id": "t3-nhkmEAAE_",
        "colab_type": "code",
        "outputId": "b0b6b64e-1430-4c45-eb7f-566050bf0281",
        "colab": {
          "base_uri": "https://localhost:8080/",
          "height": 308
        }
      },
      "source": [
        "# display all possible exit destinations and their totals\n",
        "df['3.12 Exit Destination'].value_counts()"
      ],
      "execution_count": 0,
      "outputs": [
        {
          "output_type": "execute_result",
          "data": {
            "text/plain": [
              "Client refused                                                                                                                   255\n",
              "Emergency Shelter, including hotel or motel paid for with shelter voucher                                                        139\n",
              "Rental by client with RRH or equivalent subsidy                                                                                  122\n",
              "No exit interview completed                                                                                                      111\n",
              "Rental by client, other (non-VASH) ongoing housing subsidy                                                                        46\n",
              "Rental by client, no ongoing housing subsidy                                                                                      36\n",
              "Transitional Housing for homeless persons (including homeless youth)                                                              34\n",
              "Staying or living with family, permanent tenure                                                                                   29\n",
              "Staying or living with family, temporary tenure (e.g., room, apartment or house)                                                  21\n",
              "Staying or living with friends, temporary tenure (e.g., room, apartment or house)                                                 11\n",
              "Place not meant for habitation (e.g., a vehicle, an abandoned building, bus/train/subway station/airport or anywhere outside)      9\n",
              "Permanent housing (other than RRH) for formerly homeless persons                                                                   4\n",
              "Hotel or Motel paid for without Emergency Shelter Voucher                                                                          4\n",
              "Staying or living with friends, permanent tenure                                                                                   2\n",
              "Psychiatric Hospital or Other Psychiatric Facility                                                                                 1\n",
              "Name: 3.12 Exit Destination, dtype: int64"
            ]
          },
          "metadata": {
            "tags": []
          },
          "execution_count": 6
        }
      ]
    },
    {
      "cell_type": "code",
      "metadata": {
        "id": "KEa0S4j1ACuG",
        "colab_type": "code",
        "colab": {}
      },
      "source": [
        "# pull all exit destinations from main data file and sum up the totals of each destination, placing them into new df for calculations\n",
        "exits = df['3.12 Exit Destination'].value_counts()\n",
        "\n",
        "tempExits = (((exits['Staying or living with family, temporary tenure (e.g., room, apartment or house)'] + (exits['Staying or living with friends, temporary tenure (e.g., room, apartment or house)'])) / exits.sum()) * 100)\n",
        "# round tempExits to two decimals\n",
        "tempExits = round(tempExits, 2)\n",
        "\n",
        "# take sum of unknown exits and divide by total exits, then multiply by 100 to get percentage\n",
        "unknownExits = ((exits['Client refused'] / exits.sum()) * 100)\n",
        "\n",
        "# round the answer to nearest hundreth place\n",
        "unknownExits = (round(unknownExits, 2))\n",
        "\n",
        "# add up all permanent exits to get aggregate exit to perm figures\n",
        "permExits = (((exits['Rental by client with RRH or equivalent subsidy'] + (exits['Rental by client, other (non-VASH) ongoing housing subsidy']) + (exits['Rental by client, no ongoing housing subsidy']) + (exits['Staying or living with family, permanent tenure']) + (exits['Permanent housing (other than RRH) for formerly homeless persons']) + (exits['Staying or living with friends, permanent tenure']))  / exits.sum()) * 100)\n",
        "# round the answer to the nearest hundreth place\n",
        "permExits = (round(permExits, 2))\n",
        "\n",
        "# take sum of ES and Trans exits and divide by total exits, then multiply by 100 to get percentage\n",
        "esExits = ((exits['Emergency Shelter, including hotel or motel paid for with shelter voucher'] / exits.sum()) * 100)\n",
        "transExits = ((exits['Transitional Housing for homeless persons (including homeless youth)'] / exits.sum()) * 100)\n",
        "# round the answer to nearest hundreth place\n",
        "esExits = (round(esExits, 2))\n",
        "transExits = (round(transExits, 2))"
      ],
      "execution_count": 0,
      "outputs": []
    },
    {
      "cell_type": "code",
      "metadata": {
        "id": "CW-_1QbAAU1y",
        "colab_type": "code",
        "outputId": "0774bd05-d3ce-4a7b-eda9-c286ea6e404c",
        "colab": {
          "base_uri": "https://localhost:8080/",
          "height": 35
        }
      },
      "source": [
        "# calculate the average length of stay per guest at our shelter (including the type of \"cout\" found in original database)\n",
        "avgBedNights = df['Cout of Bed Nights (Housing Check-ins)'].mean(skipna=True)\n",
        "\n",
        "avgBedNights = round(avgBedNights, 2)\n",
        "\n",
        "print(\"Average BedNights is:\", avgBedNights)"
      ],
      "execution_count": 0,
      "outputs": [
        {
          "output_type": "stream",
          "text": [
            "Average BedNights is: 27.26\n"
          ],
          "name": "stdout"
        }
      ]
    },
    {
      "cell_type": "code",
      "metadata": {
        "id": "-kl1dqW4AWI0",
        "colab_type": "code",
        "outputId": "986e41d3-698f-421c-fec7-4e78521c7cba",
        "colab": {
          "base_uri": "https://localhost:8080/",
          "height": 108
        }
      },
      "source": [
        "# print the results of code that calculated exit percentages\n",
        "print('The percent of guests at Open Doors with an exit to permanent housing is:', permExits, '%')\n",
        "print('The percent of guests at Open Doors with an unknown exit destination is:', unknownExits,'%')\n",
        "print('The percent of guests at Open Doors with an exit to Emergency Shelter is:', esExits, '%')\n",
        "print('The percent of guests at Open Doors with a Transitional exit destination is:', transExits,'%')\n",
        "print('The percent of guests at Open Doors with a Temporary Exit is:', tempExits, '%')"
      ],
      "execution_count": 0,
      "outputs": [
        {
          "output_type": "stream",
          "text": [
            "The percent of guests at Open Doors with an exit to permanent housing is: 29.0 %\n",
            "The percent of guests at Open Doors with an unknown exit destination is: 30.95 %\n",
            "The percent of guests at Open Doors with an exit to Emergency Shelter is: 16.87 %\n",
            "The percent of guests at Open Doors with a Transitional exit destination is: 4.13 %\n",
            "The percent of guests at Open Doors with a Temporary Exit is: 3.88 %\n"
          ],
          "name": "stdout"
        }
      ]
    },
    {
      "cell_type": "code",
      "metadata": {
        "id": "RjpcuyWtAdcQ",
        "colab_type": "code",
        "outputId": "501c249c-5773-4911-c1ad-28ad0752753a",
        "colab": {
          "base_uri": "https://localhost:8080/",
          "height": 35
        }
      },
      "source": [
        "# printed rounded answer for average age during enrollment\n",
        "print('Average Age of Guest during Enrollment is:', round(df['Age at Enrollment'].mean(skipna=True), 2))"
      ],
      "execution_count": 0,
      "outputs": [
        {
          "output_type": "stream",
          "text": [
            "Average Age of Guest during Enrollment is: 19.48\n"
          ],
          "name": "stdout"
        }
      ]
    },
    {
      "cell_type": "markdown",
      "metadata": {
        "id": "mb588ZUvBOm0",
        "colab_type": "text"
      },
      "source": [
        "1. I used a file containing the data from an emergency shelter I currently work for.  As a non-profit organization which receives city/state/federal money, we are required to collect and report certain metrics.  Each week I am also required to supply the executive team with data that represents our Year to date, last 90 days, and 30 days data.  I have been using excel each week, spending around 2 or 3 hours pulling the data and manipulating it with pivot charts.  I chose to go this route so that I could import a new file each week and have all of my weekly data needs calculated and printed for me automatically.  \n",
        "\n",
        "Above you will find the percentage of our guests who exit our shetler to permanent/temporary/transitional/or unknown exits.  There is also the average length of stay for our guests and the average age of our guests at time of enrollment into our program.  This figure is a bit misleading, so I may change that metric into 'what percentage of our guests are minors' or something more meaningful.  \n",
        "\n",
        "2. The hardest part was trying to figure out how to add up the sums of different types of exits which are considered 'permanent'.  Figuring out how to get these sums then divide them by the total amount of exits was very difficult for me and took a lot of 'google-fu'."
      ]
    },
    {
      "cell_type": "markdown",
      "metadata": {
        "id": "BT9gdS7viJZa",
        "colab_type": "text"
      },
      "source": [
        "### Assignment questions\n",
        "\n",
        "After you've worked on some code, answer the following questions in this text block:\n",
        "\n",
        "1.  Describe in a paragraph of text what you did and why, as if you were writing an email to somebody interested but nontechnical.\n",
        "\n",
        "2.  What was the most challenging part of what you did?\n",
        "\n",
        "3.  What was the most interesting thing you learned?\n",
        "\n",
        "4.  What area would you like to explore with more time?\n",
        "\n",
        "\n"
      ]
    },
    {
      "cell_type": "markdown",
      "metadata": {
        "id": "_XXg2crAipwP",
        "colab_type": "text"
      },
      "source": [
        "## Stretch goals and resources\n",
        "\n",
        "Following are *optional* things for you to take a look at. Focus on the above assignment first, and make sure to commit and push your changes to GitHub (and since this is the first assignment of the sprint, open a PR as well).\n",
        "\n",
        "- [pandas documentation](https://pandas.pydata.org/pandas-docs/stable/)\n",
        "- [scikit-learn documentation](http://scikit-learn.org/stable/documentation.html)\n",
        "- [matplotlib documentation](https://matplotlib.org/contents.html)\n",
        "- [Awesome Data Science](https://github.com/bulutyazilim/awesome-datascience) - a list of many types of DS resources\n",
        "\n",
        "Stretch goals:\n",
        "\n",
        "- Find and read blogs, walkthroughs, and other examples of people working through cool things with data science - and share with your classmates!\n",
        "- Write a blog post (Medium is a popular place to publish) introducing yourself as somebody learning data science, and talking about what you've learned already and what you're excited to learn more about."
      ]
    }
  ]
}