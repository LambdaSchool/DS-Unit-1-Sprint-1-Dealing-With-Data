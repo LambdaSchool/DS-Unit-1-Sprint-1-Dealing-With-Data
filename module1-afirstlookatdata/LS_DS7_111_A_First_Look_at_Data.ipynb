{
  "nbformat": 4,
  "nbformat_minor": 0,
  "metadata": {
    "colab": {
      "name": "LS_DS_111_A_First_Look_at_Data.ipynb",
      "version": "0.3.2",
      "provenance": []
    },
    "kernelspec": {
      "name": "python3",
      "display_name": "Python 3"
    }
  },
  "cells": [
    {
      "cell_type": "markdown",
      "metadata": {
        "id": "Okfr_uhwhS1X",
        "colab_type": "text"
      },
      "source": [
        "# Lambda School Data Science - A First Look at Data\n",
        "\n"
      ]
    },
    {
      "cell_type": "markdown",
      "metadata": {
        "id": "9dtJETFRhnOG",
        "colab_type": "text"
      },
      "source": [
        "## Lecture - let's explore Python DS libraries and examples!\n",
        "\n",
        "The Python Data Science ecosystem is huge. You've seen some of the big pieces - pandas, scikit-learn, matplotlib. What parts do you want to see more of?"
      ]
    },
    {
      "cell_type": "code",
      "metadata": {
        "id": "WiBkgmPJhmhE",
        "colab_type": "code",
        "colab": {}
      },
      "source": [
        "# TODO - we'll be doing this live, taking requests\n",
        "# and reproducing what it is to look up and learn things"
      ],
      "execution_count": 0,
      "outputs": []
    },
    {
      "cell_type": "markdown",
      "metadata": {
        "id": "lOqaPds9huME",
        "colab_type": "text"
      },
      "source": [
        "## Assignment - now it's your turn\n",
        "\n",
        "Pick at least one Python DS library, and using documentation/examples reproduce in this notebook something cool. It's OK if you don't fully understand it or get it 100% working, but do put in effort and look things up."
      ]
    },
    {
      "cell_type": "code",
      "metadata": {
        "id": "TGUS79cOhPWj",
        "colab_type": "code",
        "colab": {}
      },
      "source": [
        "# TODO - your code here\n",
        "# Use what we did live in lecture as an example\n",
        "\n",
        "import lxml\n",
        "from bs4 import BeautifulSoup as bs\n",
        "import numpy as np\n",
        "import requests\n",
        "import matplotlib.pyplot as plt\n",
        "\n",
        "import statistics"
      ],
      "execution_count": 0,
      "outputs": []
    },
    {
      "cell_type": "code",
      "metadata": {
        "id": "GoU2ZgA-Z3sJ",
        "colab_type": "code",
        "colab": {}
      },
      "source": [
        "def price(words):\n",
        "  if ' ' in words:\n",
        "    word = words.replace(' ','-')\n",
        "  else:\n",
        "    word = words\n",
        "  price_list = []\n",
        "  for s in range(1,6):\n",
        "    url = 'https://www.banggood.com/search/' + word + '/0-0-0-1-1-48-0-price-0-0_p-' + str(s) + '.html'\n",
        "    rq = requests.get(url)\n",
        "    soup = bs(rq.content, 'lxml')\n",
        "    p = soup.find_all('span',{'class':'price wh_cn'})\n",
        "\n",
        "    for i in p:\n",
        "      if \"~\" in i.text:\n",
        "        price1 = float(i.text.split('~')[0].replace('US$',''))\n",
        "        price2 = float(i.text.split('~')[1].replace('US$',''))\n",
        "        price = (price1 + price2) / 2      \n",
        "      else:\n",
        "        price = float(i.text.replace('US$',''))\n",
        "      price_list.append(price)\n",
        "      \n",
        "  return(price_list)\n",
        "\n",
        "\n",
        "\n",
        "  "
      ],
      "execution_count": 0,
      "outputs": []
    },
    {
      "cell_type": "code",
      "metadata": {
        "id": "nCsNYItkal4B",
        "colab_type": "code",
        "colab": {
          "base_uri": "https://localhost:8080/",
          "height": 402
        },
        "outputId": "8ecefa51-ae80-40a5-89e0-9333382d0c72"
      },
      "source": [
        "words = input('Searh for a product you want to know more about: ')\n",
        "nums = price(words)\n",
        "print('We took a look at '+ str(len(nums)) + ' items on banggood.com and here is what we found.')\n",
        "print('The most expensive ' + words + ' on banggood.com was ' + '$' + str(max(nums)))\n",
        "print('The most ' + words + ' on banggood.com was ' + '$' + str(min(nums)))\n",
        "print(words + ' has a standard deviation of ' + '$' + str(statistics.stdev(nums)))\n",
        "\n",
        "import seaborn as sns\n",
        "sns.set()\n",
        "plt.hist(nums)\n",
        "plt.xlabel('Price of '+ words)\n",
        "plt.ylabel('Number of items out of '+ str(len(nums))+ ' results')\n",
        "plt.title('Distribution of prices for '+ words)\n"
      ],
      "execution_count": 99,
      "outputs": [
        {
          "output_type": "stream",
          "text": [
            "Searh for a product you want to know more about: smartphones\n",
            "We took a look at 240 items on banggood.com and here is what we found.\n",
            "The most expensive smartphones on banggood.com was $879.99\n",
            "The most smartphones on banggood.com was $1.14\n",
            "smartphones has a standard deviation of $147.70018601411292\n"
          ],
          "name": "stdout"
        },
        {
          "output_type": "execute_result",
          "data": {
            "text/plain": [
              "Text(0.5, 1.0, 'Distribution of prices for smartphones')"
            ]
          },
          "metadata": {
            "tags": []
          },
          "execution_count": 99
        },
        {
          "output_type": "display_data",
          "data": {
            "image/png": "[encoded data removed]",
            "text/plain": [
              "<Figure size 432x288 with 1 Axes>"
            ]
          },
          "metadata": {
            "tags": []
          }
        }
      ]
    },
    {
      "cell_type": "markdown",
      "metadata": {
        "id": "BT9gdS7viJZa",
        "colab_type": "text"
      },
      "source": [
        "### Assignment questions\n",
        "\n",
        "After you've worked on some code, answer the following questions in this text block:\n",
        "\n",
        "1.  Describe in a paragraph of text what you did and why, as if you were writing an email to somebody interested but nontechnical.\n",
        "\n",
        "2.  What was the most challenging part of what you did?\n",
        "\n",
        "3.  What was the most interesting thing you learned?\n",
        "\n",
        "4.  What area would you like to explore with more time?\n",
        "\n",
        "\n"
      ]
    },
    {
      "cell_type": "markdown",
      "metadata": {
        "id": "9o11YYawrzc3",
        "colab_type": "text"
      },
      "source": [
        "1. This application is used to gather more information about products listinged on Banggood.com. You can simply enter a type of product you would like to learn about and you will be able to see what the range of prices for said product.\n",
        "\n",
        "2. The most challenging part of this project was trying to sort through all the html elements and converting them into data types I could work with.\n",
        "\n",
        "3. I learned that many websites block web scraping so it can make collecting data difficult\n",
        "\n",
        "4. With more time I would like to figure out how to use \"User Agent\" and \"Selenium\" to by pass scraping blocks many website use. "
      ]
    },
    {
      "cell_type": "markdown",
      "metadata": {
        "id": "_XXg2crAipwP",
        "colab_type": "text"
      },
      "source": [
        "## Stretch goals and resources\n",
        "\n",
        "Following are *optional* things for you to take a look at. Focus on the above assignment first, and make sure to commit and push your changes to GitHub (and since this is the first assignment of the sprint, open a PR as well).\n",
        "\n",
        "- [pandas documentation](https://pandas.pydata.org/pandas-docs/stable/)\n",
        "- [scikit-learn documentation](http://scikit-learn.org/stable/documentation.html)\n",
        "- [matplotlib documentation](https://matplotlib.org/contents.html)\n",
        "- [Awesome Data Science](https://github.com/bulutyazilim/awesome-datascience) - a list of many types of DS resources\n",
        "\n",
        "Stretch goals:\n",
        "\n",
        "- Find and read blogs, walkthroughs, and other examples of people working through cool things with data science - and share with your classmates!\n",
        "- Write a blog post (Medium is a popular place to publish) introducing yourself as somebody learning data science, and talking about what you've learned already and what you're excited to learn more about."
      ]
    }
  ]
}
