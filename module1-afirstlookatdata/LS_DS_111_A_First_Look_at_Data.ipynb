{
  "nbformat": 4,
  "nbformat_minor": 0,
  "metadata": {
    "colab": {
      "name": "LS_DS_111_A_First_Look_at_Data.ipynb",
      "version": "0.3.2",
      "provenance": [],
      "include_colab_link": true
    },
    "kernelspec": {
      "name": "python3",
      "display_name": "Python 3"
    }
  },
  "cells": [
    {
      "cell_type": "markdown",
      "metadata": {
        "id": "view-in-github",
        "colab_type": "text"
      },
      "source": [
        "<a href=\"https://colab.research.google.com/github/hurshd0/DS-Unit-1-Sprint-1-Dealing-With-Data/blob/master/module1-afirstlookatdata/LS_DS_111_A_First_Look_at_Data.ipynb\" target=\"_parent\"><img src=\"https://colab.research.google.com/assets/colab-badge.svg\" alt=\"Open In Colab\"/></a>"
      ]
    },
    {
      "cell_type": "markdown",
      "metadata": {
        "id": "Okfr_uhwhS1X",
        "colab_type": "text"
      },
      "source": [
        "# Lambda School Data Science - A First Look at Data\n",
        "\n"
      ]
    },
    {
      "cell_type": "markdown",
      "metadata": {
        "id": "9dtJETFRhnOG",
        "colab_type": "text"
      },
      "source": [
        "## Lecture - let's explore Python DS libraries and examples!\n",
        "\n",
        "The Python Data Science ecosystem is huge. You've seen some of the big pieces - pandas, scikit-learn, matplotlib. What parts do you want to see more of?"
      ]
    },
    {
      "cell_type": "code",
      "metadata": {
        "id": "WiBkgmPJhmhE",
        "colab_type": "code",
        "colab": {}
      },
      "source": [
        "# TODO - we'll be doing this live, taking requests\n",
        "# and reproducing what it is to look up and learn things"
      ],
      "execution_count": 0,
      "outputs": []
    },
    {
      "cell_type": "markdown",
      "metadata": {
        "id": "lOqaPds9huME",
        "colab_type": "text"
      },
      "source": [
        "## Assignment - now it's your turn\n",
        "\n",
        "Pick at least one Python DS library, and using documentation/examples reproduce in this notebook something cool. It's OK if you don't fully understand it or get it 100% working, but do put in effort and look things up."
      ]
    },
    {
      "cell_type": "code",
      "metadata": {
        "id": "TGUS79cOhPWj",
        "colab_type": "code",
        "outputId": "a202dbd8-307c-4e53-955d-899c5adddfd9",
        "colab": {
          "base_uri": "https://localhost:8080/",
          "height": 489
        }
      },
      "source": [
        "from sklearn import tree\n",
        "import pandas as pd\n",
        "\n",
        "#create empty data frame\n",
        "golf_df = pd.DataFrame()\n",
        "\n",
        "#add outlook\n",
        "golf_df['Outlook'] = ['sunny', 'sunny', 'overcast', 'rainy', 'rainy', 'rainy', \n",
        "                     'overcast', 'sunny', 'sunny', 'rainy', 'sunny', 'overcast',\n",
        "                     'overcast', 'rainy']\n",
        "\n",
        "#add temperature\n",
        "golf_df['Temperature'] = ['hot', 'hot', 'hot', 'mild', 'cool', 'cool', 'cool',\n",
        "                         'mild', 'cool', 'mild', 'mild', 'mild', 'hot', 'mild']\n",
        "\n",
        "#add humidity\n",
        "golf_df['Humidity'] = ['high', 'high', 'high', 'high', 'normal', 'normal', 'normal',\n",
        "                      'high', 'normal', 'normal', 'normal', 'high', 'normal', 'high']\n",
        "\n",
        "#add windy\n",
        "golf_df['Windy'] = ['false', 'true', 'false', 'false', 'false', 'true', 'true',\n",
        "                   'false', 'false', 'false', 'true', 'true', 'false', 'true']\n",
        "\n",
        "#finally add play\n",
        "golf_df['Play'] = ['no', 'no', 'yes', 'yes', 'yes', 'no', 'yes', 'no', 'yes', 'yes', 'yes', \n",
        "                  'yes', 'yes', 'no']\n",
        "golf_df"
      ],
      "execution_count": 39,
      "outputs": [
        {
          "output_type": "execute_result",
          "data": {
            "text/html": [
              "<div>\n",
              "<style scoped>\n",
              "    .dataframe tbody tr th:only-of-type {\n",
              "        vertical-align: middle;\n",
              "    }\n",
              "\n",
              "    .dataframe tbody tr th {\n",
              "        vertical-align: top;\n",
              "    }\n",
              "\n",
              "    .dataframe thead th {\n",
              "        text-align: right;\n",
              "    }\n",
              "</style>\n",
              "<table border=\"1\" class=\"dataframe\">\n",
              "  <thead>\n",
              "    <tr style=\"text-align: right;\">\n",
              "      <th></th>\n",
              "      <th>Outlook</th>\n",
              "      <th>Temperature</th>\n",
              "      <th>Humidity</th>\n",
              "      <th>Windy</th>\n",
              "      <th>Play</th>\n",
              "    </tr>\n",
              "  </thead>\n",
              "  <tbody>\n",
              "    <tr>\n",
              "      <th>0</th>\n",
              "      <td>sunny</td>\n",
              "      <td>hot</td>\n",
              "      <td>high</td>\n",
              "      <td>false</td>\n",
              "      <td>no</td>\n",
              "    </tr>\n",
              "    <tr>\n",
              "      <th>1</th>\n",
              "      <td>sunny</td>\n",
              "      <td>hot</td>\n",
              "      <td>high</td>\n",
              "      <td>true</td>\n",
              "      <td>no</td>\n",
              "    </tr>\n",
              "    <tr>\n",
              "      <th>2</th>\n",
              "      <td>overcast</td>\n",
              "      <td>hot</td>\n",
              "      <td>high</td>\n",
              "      <td>false</td>\n",
              "      <td>yes</td>\n",
              "    </tr>\n",
              "    <tr>\n",
              "      <th>3</th>\n",
              "      <td>rainy</td>\n",
              "      <td>mild</td>\n",
              "      <td>high</td>\n",
              "      <td>false</td>\n",
              "      <td>yes</td>\n",
              "    </tr>\n",
              "    <tr>\n",
              "      <th>4</th>\n",
              "      <td>rainy</td>\n",
              "      <td>cool</td>\n",
              "      <td>normal</td>\n",
              "      <td>false</td>\n",
              "      <td>yes</td>\n",
              "    </tr>\n",
              "    <tr>\n",
              "      <th>5</th>\n",
              "      <td>rainy</td>\n",
              "      <td>cool</td>\n",
              "      <td>normal</td>\n",
              "      <td>true</td>\n",
              "      <td>no</td>\n",
              "    </tr>\n",
              "    <tr>\n",
              "      <th>6</th>\n",
              "      <td>overcast</td>\n",
              "      <td>cool</td>\n",
              "      <td>normal</td>\n",
              "      <td>true</td>\n",
              "      <td>yes</td>\n",
              "    </tr>\n",
              "    <tr>\n",
              "      <th>7</th>\n",
              "      <td>sunny</td>\n",
              "      <td>mild</td>\n",
              "      <td>high</td>\n",
              "      <td>false</td>\n",
              "      <td>no</td>\n",
              "    </tr>\n",
              "    <tr>\n",
              "      <th>8</th>\n",
              "      <td>sunny</td>\n",
              "      <td>cool</td>\n",
              "      <td>normal</td>\n",
              "      <td>false</td>\n",
              "      <td>yes</td>\n",
              "    </tr>\n",
              "    <tr>\n",
              "      <th>9</th>\n",
              "      <td>rainy</td>\n",
              "      <td>mild</td>\n",
              "      <td>normal</td>\n",
              "      <td>false</td>\n",
              "      <td>yes</td>\n",
              "    </tr>\n",
              "    <tr>\n",
              "      <th>10</th>\n",
              "      <td>sunny</td>\n",
              "      <td>mild</td>\n",
              "      <td>normal</td>\n",
              "      <td>true</td>\n",
              "      <td>yes</td>\n",
              "    </tr>\n",
              "    <tr>\n",
              "      <th>11</th>\n",
              "      <td>overcast</td>\n",
              "      <td>mild</td>\n",
              "      <td>high</td>\n",
              "      <td>true</td>\n",
              "      <td>yes</td>\n",
              "    </tr>\n",
              "    <tr>\n",
              "      <th>12</th>\n",
              "      <td>overcast</td>\n",
              "      <td>hot</td>\n",
              "      <td>normal</td>\n",
              "      <td>false</td>\n",
              "      <td>yes</td>\n",
              "    </tr>\n",
              "    <tr>\n",
              "      <th>13</th>\n",
              "      <td>rainy</td>\n",
              "      <td>mild</td>\n",
              "      <td>high</td>\n",
              "      <td>true</td>\n",
              "      <td>no</td>\n",
              "    </tr>\n",
              "  </tbody>\n",
              "</table>\n",
              "</div>"
            ],
            "text/plain": [
              "     Outlook Temperature Humidity  Windy Play\n",
              "0      sunny         hot     high  false   no\n",
              "1      sunny         hot     high   true   no\n",
              "2   overcast         hot     high  false  yes\n",
              "3      rainy        mild     high  false  yes\n",
              "4      rainy        cool   normal  false  yes\n",
              "5      rainy        cool   normal   true   no\n",
              "6   overcast        cool   normal   true  yes\n",
              "7      sunny        mild     high  false   no\n",
              "8      sunny        cool   normal  false  yes\n",
              "9      rainy        mild   normal  false  yes\n",
              "10     sunny        mild   normal   true  yes\n",
              "11  overcast        mild     high   true  yes\n",
              "12  overcast         hot   normal  false  yes\n",
              "13     rainy        mild     high   true   no"
            ]
          },
          "metadata": {
            "tags": []
          },
          "execution_count": 39
        }
      ]
    },
    {
      "cell_type": "code",
      "metadata": {
        "id": "p98BYF8_SEUH",
        "colab_type": "code",
        "outputId": "8f32eba9-ef15-4bd9-e62b-b2a94d4cd713",
        "colab": {
          "base_uri": "https://localhost:8080/",
          "height": 329
        }
      },
      "source": [
        "# Sklearn Decision Tree needs numerical data\n",
        "one_hot_data = pd.get_dummies(golf_df[['Outlook', 'Temperature', 'Humidity', 'Windy']])\n",
        "# To make this conversation we use a method called One Hot Encoding\n",
        "print(one_hot_data)"
      ],
      "execution_count": 40,
      "outputs": [
        {
          "output_type": "stream",
          "text": [
            "    Outlook_overcast  Outlook_rainy  ...  Windy_false  Windy_true\n",
            "0                  0              0  ...            1           0\n",
            "1                  0              0  ...            0           1\n",
            "2                  1              0  ...            1           0\n",
            "3                  0              1  ...            1           0\n",
            "4                  0              1  ...            1           0\n",
            "5                  0              1  ...            0           1\n",
            "6                  1              0  ...            0           1\n",
            "7                  0              0  ...            1           0\n",
            "8                  0              0  ...            1           0\n",
            "9                  0              1  ...            1           0\n",
            "10                 0              0  ...            0           1\n",
            "11                 1              0  ...            0           1\n",
            "12                 1              0  ...            1           0\n",
            "13                 0              1  ...            0           1\n",
            "\n",
            "[14 rows x 10 columns]\n"
          ],
          "name": "stdout"
        }
      ]
    },
    {
      "cell_type": "code",
      "metadata": {
        "id": "A2XK9PaDSFos",
        "colab_type": "code",
        "outputId": "2d11b00e-b950-4ab3-d362-1f7a43c00ab2",
        "colab": {
          "base_uri": "https://localhost:8080/",
          "height": 458
        }
      },
      "source": [
        "import graphviz\n",
        "from sklearn.tree import export_graphviz\n",
        "# We create empty decision tree classifier and assign it to the variable clf\n",
        "clf = tree.DecisionTreeClassifier()\n",
        "# We fit the decision tree with out one_hot_data and our target feature 'play'\n",
        "# and assign it to the clf_train\n",
        "clf_train = clf.fit(one_hot_data, golf_df['Play'])\n",
        "# Sklearn is automatically creating our Decision Tree questions for us\n",
        "# Example: Do I play golf when it is Overcast?\n",
        "tree_data = tree.export_graphviz(clf_train, feature_names=one_hot_data.columns, filled=True, rotate=True)\n",
        "graphviz.Source(tree_data)"
      ],
      "execution_count": 41,
      "outputs": [
        {
          "output_type": "execute_result",
          "data": {
            "text/plain": [
              "<graphviz.files.Source at 0x7f6b76ff7208>"
            ],
            "image/svg+xml": "<?xml version=\"1.0\" encoding=\"UTF-8\" standalone=\"no\"?>\n<!DOCTYPE svg PUBLIC \"-//W3C//DTD SVG 1.1//EN\"\n \"http://www.w3.org/Graphics/SVG/1.1/DTD/svg11.dtd\">\n<!-- Generated by graphviz version 2.40.1 (20161225.0304)\n -->\n<!-- Title: Tree Pages: 1 -->\n<svg width=\"878pt\" height=\"328pt\"\n viewBox=\"0.00 0.00 878.00 328.00\" xmlns=\"http://www.w3.org/2000/svg\" xmlns:xlink=\"http://www.w3.org/1999/xlink\">\n<g id=\"graph0\" class=\"graph\" transform=\"scale(1 1) rotate(0) translate(4 324)\">\n<title>Tree</title>\n<polygon fill=\"#ffffff\" stroke=\"transparent\" points=\"-4,4 -4,-324 874,-324 874,4 -4,4\"/>\n<!-- 0 -->\n<g id=\"node1\" class=\"node\">\n<title>0</title>\n<polygon fill=\"#a7d3f3\" stroke=\"#000000\" points=\"161,-167.5 0,-167.5 0,-99.5 161,-99.5 161,-167.5\"/>\n<text text-anchor=\"middle\" x=\"80.5\" y=\"-152.3\" font-family=\"Times,serif\" font-size=\"14.00\" fill=\"#000000\">Outlook_overcast &lt;= 0.5</text>\n<text text-anchor=\"middle\" x=\"80.5\" y=\"-137.3\" font-family=\"Times,serif\" font-size=\"14.00\" fill=\"#000000\">gini = 0.459</text>\n<text text-anchor=\"middle\" x=\"80.5\" y=\"-122.3\" font-family=\"Times,serif\" font-size=\"14.00\" fill=\"#000000\">samples = 14</text>\n<text text-anchor=\"middle\" x=\"80.5\" y=\"-107.3\" font-family=\"Times,serif\" font-size=\"14.00\" fill=\"#000000\">value = [5, 9]</text>\n</g>\n<!-- 1 -->\n<g id=\"node2\" class=\"node\">\n<title>1</title>\n<polygon fill=\"#ffffff\" stroke=\"#000000\" points=\"360,-207.5 197,-207.5 197,-139.5 360,-139.5 360,-207.5\"/>\n<text text-anchor=\"middle\" x=\"278.5\" y=\"-192.3\" font-family=\"Times,serif\" font-size=\"14.00\" fill=\"#000000\">Humidity_normal &lt;= 0.5</text>\n<text text-anchor=\"middle\" x=\"278.5\" y=\"-177.3\" font-family=\"Times,serif\" font-size=\"14.00\" fill=\"#000000\">gini = 0.5</text>\n<text text-anchor=\"middle\" x=\"278.5\" y=\"-162.3\" font-family=\"Times,serif\" font-size=\"14.00\" fill=\"#000000\">samples = 10</text>\n<text text-anchor=\"middle\" x=\"278.5\" y=\"-147.3\" font-family=\"Times,serif\" font-size=\"14.00\" fill=\"#000000\">value = [5, 5]</text>\n</g>\n<!-- 0&#45;&gt;1 -->\n<g id=\"edge1\" class=\"edge\">\n<title>0&#45;&gt;1</title>\n<path fill=\"none\" stroke=\"#000000\" d=\"M161.0342,-149.7695C169.499,-151.4796 178.1506,-153.2274 186.7294,-154.9605\"/>\n<polygon fill=\"#000000\" stroke=\"#000000\" points=\"186.2561,-158.4355 196.7512,-156.9851 187.6423,-151.5741 186.2561,-158.4355\"/>\n<text text-anchor=\"middle\" x=\"175.923\" y=\"-167.1122\" font-family=\"Times,serif\" font-size=\"14.00\" fill=\"#000000\">True</text>\n</g>\n<!-- 12 -->\n<g id=\"node13\" class=\"node\">\n<title>12</title>\n<polygon fill=\"#399de5\" stroke=\"#000000\" points=\"326,-121 231,-121 231,-68 326,-68 326,-121\"/>\n<text text-anchor=\"middle\" x=\"278.5\" y=\"-105.8\" font-family=\"Times,serif\" font-size=\"14.00\" fill=\"#000000\">gini = 0.0</text>\n<text text-anchor=\"middle\" x=\"278.5\" y=\"-90.8\" font-family=\"Times,serif\" font-size=\"14.00\" fill=\"#000000\">samples = 4</text>\n<text text-anchor=\"middle\" x=\"278.5\" y=\"-75.8\" font-family=\"Times,serif\" font-size=\"14.00\" fill=\"#000000\">value = [0, 4]</text>\n</g>\n<!-- 0&#45;&gt;12 -->\n<g id=\"edge12\" class=\"edge\">\n<title>0&#45;&gt;12</title>\n<path fill=\"none\" stroke=\"#000000\" d=\"M161.0342,-117.6372C181.0909,-113.6866 202.196,-109.5296 220.8973,-105.846\"/>\n<polygon fill=\"#000000\" stroke=\"#000000\" points=\"221.5924,-109.2764 230.7275,-103.9097 220.2396,-102.4084 221.5924,-109.2764\"/>\n<text text-anchor=\"middle\" x=\"209.9668\" y=\"-86.2816\" font-family=\"Times,serif\" font-size=\"14.00\" fill=\"#000000\">False</text>\n</g>\n<!-- 2 -->\n<g id=\"node3\" class=\"node\">\n<title>2</title>\n<polygon fill=\"#eca06a\" stroke=\"#000000\" points=\"540,-250.5 396,-250.5 396,-182.5 540,-182.5 540,-250.5\"/>\n<text text-anchor=\"middle\" x=\"468\" y=\"-235.3\" font-family=\"Times,serif\" font-size=\"14.00\" fill=\"#000000\">Outlook_rainy &lt;= 0.5</text>\n<text text-anchor=\"middle\" x=\"468\" y=\"-220.3\" font-family=\"Times,serif\" font-size=\"14.00\" fill=\"#000000\">gini = 0.32</text>\n<text text-anchor=\"middle\" x=\"468\" y=\"-205.3\" font-family=\"Times,serif\" font-size=\"14.00\" fill=\"#000000\">samples = 5</text>\n<text text-anchor=\"middle\" x=\"468\" y=\"-190.3\" font-family=\"Times,serif\" font-size=\"14.00\" fill=\"#000000\">value = [4, 1]</text>\n</g>\n<!-- 1&#45;&gt;2 -->\n<g id=\"edge2\" class=\"edge\">\n<title>1&#45;&gt;2</title>\n<path fill=\"none\" stroke=\"#000000\" d=\"M360.24,-192.0479C368.7358,-193.9757 377.3739,-195.9358 385.874,-197.8645\"/>\n<polygon fill=\"#000000\" stroke=\"#000000\" points=\"385.2455,-201.3108 395.7722,-200.1106 386.7946,-194.4844 385.2455,-201.3108\"/>\n</g>\n<!-- 7 -->\n<g id=\"node8\" class=\"node\">\n<title>7</title>\n<polygon fill=\"#6ab6ec\" stroke=\"#000000\" points=\"532,-164.5 404,-164.5 404,-96.5 532,-96.5 532,-164.5\"/>\n<text text-anchor=\"middle\" x=\"468\" y=\"-149.3\" font-family=\"Times,serif\" font-size=\"14.00\" fill=\"#000000\">Windy_true &lt;= 0.5</text>\n<text text-anchor=\"middle\" x=\"468\" y=\"-134.3\" font-family=\"Times,serif\" font-size=\"14.00\" fill=\"#000000\">gini = 0.32</text>\n<text text-anchor=\"middle\" x=\"468\" y=\"-119.3\" font-family=\"Times,serif\" font-size=\"14.00\" fill=\"#000000\">samples = 5</text>\n<text text-anchor=\"middle\" x=\"468\" y=\"-104.3\" font-family=\"Times,serif\" font-size=\"14.00\" fill=\"#000000\">value = [1, 4]</text>\n</g>\n<!-- 1&#45;&gt;7 -->\n<g id=\"edge7\" class=\"edge\">\n<title>1&#45;&gt;7</title>\n<path fill=\"none\" stroke=\"#000000\" d=\"M360.24,-154.9521C371.4374,-152.4113 382.8818,-149.8144 393.9317,-147.3071\"/>\n<polygon fill=\"#000000\" stroke=\"#000000\" points=\"394.9727,-150.6599 403.9503,-145.0337 393.4236,-143.8334 394.9727,-150.6599\"/>\n</g>\n<!-- 3 -->\n<g id=\"node4\" class=\"node\">\n<title>3</title>\n<polygon fill=\"#e58139\" stroke=\"#000000\" points=\"705,-320 610,-320 610,-267 705,-267 705,-320\"/>\n<text text-anchor=\"middle\" x=\"657.5\" y=\"-304.8\" font-family=\"Times,serif\" font-size=\"14.00\" fill=\"#000000\">gini = 0.0</text>\n<text text-anchor=\"middle\" x=\"657.5\" y=\"-289.8\" font-family=\"Times,serif\" font-size=\"14.00\" fill=\"#000000\">samples = 3</text>\n<text text-anchor=\"middle\" x=\"657.5\" y=\"-274.8\" font-family=\"Times,serif\" font-size=\"14.00\" fill=\"#000000\">value = [3, 0]</text>\n</g>\n<!-- 2&#45;&gt;3 -->\n<g id=\"edge3\" class=\"edge\">\n<title>2&#45;&gt;3</title>\n<path fill=\"none\" stroke=\"#000000\" d=\"M540.1824,-245.8301C560.1359,-253.9378 581.5072,-262.6217 600.4697,-270.3267\"/>\n<polygon fill=\"#000000\" stroke=\"#000000\" points=\"599.2741,-273.6188 609.856,-274.1407 601.9092,-267.1337 599.2741,-273.6188\"/>\n</g>\n<!-- 4 -->\n<g id=\"node5\" class=\"node\">\n<title>4</title>\n<polygon fill=\"#ffffff\" stroke=\"#000000\" points=\"721.5,-248.5 593.5,-248.5 593.5,-180.5 721.5,-180.5 721.5,-248.5\"/>\n<text text-anchor=\"middle\" x=\"657.5\" y=\"-233.3\" font-family=\"Times,serif\" font-size=\"14.00\" fill=\"#000000\">Windy_true &lt;= 0.5</text>\n<text text-anchor=\"middle\" x=\"657.5\" y=\"-218.3\" font-family=\"Times,serif\" font-size=\"14.00\" fill=\"#000000\">gini = 0.5</text>\n<text text-anchor=\"middle\" x=\"657.5\" y=\"-203.3\" font-family=\"Times,serif\" font-size=\"14.00\" fill=\"#000000\">samples = 2</text>\n<text text-anchor=\"middle\" x=\"657.5\" y=\"-188.3\" font-family=\"Times,serif\" font-size=\"14.00\" fill=\"#000000\">value = [1, 1]</text>\n</g>\n<!-- 2&#45;&gt;4 -->\n<g id=\"edge4\" class=\"edge\">\n<title>2&#45;&gt;4</title>\n<path fill=\"none\" stroke=\"#000000\" d=\"M540.1824,-215.7382C554.2382,-215.5898 568.9975,-215.4341 583.1227,-215.285\"/>\n<polygon fill=\"#000000\" stroke=\"#000000\" points=\"583.3144,-218.7833 593.2768,-215.1778 583.2404,-211.7836 583.3144,-218.7833\"/>\n</g>\n<!-- 5 -->\n<g id=\"node6\" class=\"node\">\n<title>5</title>\n<polygon fill=\"#399de5\" stroke=\"#000000\" points=\"870,-289 775,-289 775,-236 870,-236 870,-289\"/>\n<text text-anchor=\"middle\" x=\"822.5\" y=\"-273.8\" font-family=\"Times,serif\" font-size=\"14.00\" fill=\"#000000\">gini = 0.0</text>\n<text text-anchor=\"middle\" x=\"822.5\" y=\"-258.8\" font-family=\"Times,serif\" font-size=\"14.00\" fill=\"#000000\">samples = 1</text>\n<text text-anchor=\"middle\" x=\"822.5\" y=\"-243.8\" font-family=\"Times,serif\" font-size=\"14.00\" fill=\"#000000\">value = [0, 1]</text>\n</g>\n<!-- 4&#45;&gt;5 -->\n<g id=\"edge5\" class=\"edge\">\n<title>4&#45;&gt;5</title>\n<path fill=\"none\" stroke=\"#000000\" d=\"M721.7658,-233.1955C735.9644,-237.326 750.9216,-241.6772 764.8387,-245.7258\"/>\n<polygon fill=\"#000000\" stroke=\"#000000\" points=\"764.1834,-249.1802 774.763,-248.6129 766.1388,-242.4588 764.1834,-249.1802\"/>\n</g>\n<!-- 6 -->\n<g id=\"node7\" class=\"node\">\n<title>6</title>\n<polygon fill=\"#e58139\" stroke=\"#000000\" points=\"870,-218 775,-218 775,-165 870,-165 870,-218\"/>\n<text text-anchor=\"middle\" x=\"822.5\" y=\"-202.8\" font-family=\"Times,serif\" font-size=\"14.00\" fill=\"#000000\">gini = 0.0</text>\n<text text-anchor=\"middle\" x=\"822.5\" y=\"-187.8\" font-family=\"Times,serif\" font-size=\"14.00\" fill=\"#000000\">samples = 1</text>\n<text text-anchor=\"middle\" x=\"822.5\" y=\"-172.8\" font-family=\"Times,serif\" font-size=\"14.00\" fill=\"#000000\">value = [1, 0]</text>\n</g>\n<!-- 4&#45;&gt;6 -->\n<g id=\"edge6\" class=\"edge\">\n<title>4&#45;&gt;6</title>\n<path fill=\"none\" stroke=\"#000000\" d=\"M721.7658,-205.5417C735.9644,-203.5625 750.9216,-201.4776 764.8387,-199.5376\"/>\n<polygon fill=\"#000000\" stroke=\"#000000\" points=\"765.342,-203.0014 774.763,-198.1542 764.3756,-196.0684 765.342,-203.0014\"/>\n</g>\n<!-- 8 -->\n<g id=\"node9\" class=\"node\">\n<title>8</title>\n<polygon fill=\"#399de5\" stroke=\"#000000\" points=\"705,-159 610,-159 610,-106 705,-106 705,-159\"/>\n<text text-anchor=\"middle\" x=\"657.5\" y=\"-143.8\" font-family=\"Times,serif\" font-size=\"14.00\" fill=\"#000000\">gini = 0.0</text>\n<text text-anchor=\"middle\" x=\"657.5\" y=\"-128.8\" font-family=\"Times,serif\" font-size=\"14.00\" fill=\"#000000\">samples = 3</text>\n<text text-anchor=\"middle\" x=\"657.5\" y=\"-113.8\" font-family=\"Times,serif\" font-size=\"14.00\" fill=\"#000000\">value = [0, 3]</text>\n</g>\n<!-- 7&#45;&gt;8 -->\n<g id=\"edge8\" class=\"edge\">\n<title>7&#45;&gt;8</title>\n<path fill=\"none\" stroke=\"#000000\" d=\"M532.1561,-131.1771C554.0251,-131.4079 578.33,-131.6644 599.6721,-131.8897\"/>\n<polygon fill=\"#000000\" stroke=\"#000000\" points=\"599.8511,-135.3917 609.8876,-131.9975 599.9251,-128.3921 599.8511,-135.3917\"/>\n</g>\n<!-- 9 -->\n<g id=\"node10\" class=\"node\">\n<title>9</title>\n<polygon fill=\"#ffffff\" stroke=\"#000000\" points=\"739,-87.5 576,-87.5 576,-19.5 739,-19.5 739,-87.5\"/>\n<text text-anchor=\"middle\" x=\"657.5\" y=\"-72.3\" font-family=\"Times,serif\" font-size=\"14.00\" fill=\"#000000\">Temperature_cool &lt;= 0.5</text>\n<text text-anchor=\"middle\" x=\"657.5\" y=\"-57.3\" font-family=\"Times,serif\" font-size=\"14.00\" fill=\"#000000\">gini = 0.5</text>\n<text text-anchor=\"middle\" x=\"657.5\" y=\"-42.3\" font-family=\"Times,serif\" font-size=\"14.00\" fill=\"#000000\">samples = 2</text>\n<text text-anchor=\"middle\" x=\"657.5\" y=\"-27.3\" font-family=\"Times,serif\" font-size=\"14.00\" fill=\"#000000\">value = [1, 1]</text>\n</g>\n<!-- 7&#45;&gt;9 -->\n<g id=\"edge9\" class=\"edge\">\n<title>7&#45;&gt;9</title>\n<path fill=\"none\" stroke=\"#000000\" d=\"M532.1561,-104.4313C543.255,-99.9215 554.9813,-95.1567 566.6294,-90.4237\"/>\n<polygon fill=\"#000000\" stroke=\"#000000\" points=\"567.9938,-93.6473 575.9406,-86.6402 565.3586,-87.1622 567.9938,-93.6473\"/>\n</g>\n<!-- 10 -->\n<g id=\"node11\" class=\"node\">\n<title>10</title>\n<polygon fill=\"#399de5\" stroke=\"#000000\" points=\"870,-124 775,-124 775,-71 870,-71 870,-124\"/>\n<text text-anchor=\"middle\" x=\"822.5\" y=\"-108.8\" font-family=\"Times,serif\" font-size=\"14.00\" fill=\"#000000\">gini = 0.0</text>\n<text text-anchor=\"middle\" x=\"822.5\" y=\"-93.8\" font-family=\"Times,serif\" font-size=\"14.00\" fill=\"#000000\">samples = 1</text>\n<text text-anchor=\"middle\" x=\"822.5\" y=\"-78.8\" font-family=\"Times,serif\" font-size=\"14.00\" fill=\"#000000\">value = [0, 1]</text>\n</g>\n<!-- 9&#45;&gt;10 -->\n<g id=\"edge10\" class=\"edge\">\n<title>9&#45;&gt;10</title>\n<path fill=\"none\" stroke=\"#000000\" d=\"M739.0332,-75.2422C747.6915,-77.5511 756.3639,-79.8637 764.669,-82.0784\"/>\n<polygon fill=\"#000000\" stroke=\"#000000\" points=\"764.0274,-85.5296 774.5916,-84.7244 765.8311,-78.7659 764.0274,-85.5296\"/>\n</g>\n<!-- 11 -->\n<g id=\"node12\" class=\"node\">\n<title>11</title>\n<polygon fill=\"#e58139\" stroke=\"#000000\" points=\"870,-53 775,-53 775,0 870,0 870,-53\"/>\n<text text-anchor=\"middle\" x=\"822.5\" y=\"-37.8\" font-family=\"Times,serif\" font-size=\"14.00\" fill=\"#000000\">gini = 0.0</text>\n<text text-anchor=\"middle\" x=\"822.5\" y=\"-22.8\" font-family=\"Times,serif\" font-size=\"14.00\" fill=\"#000000\">samples = 1</text>\n<text text-anchor=\"middle\" x=\"822.5\" y=\"-7.8\" font-family=\"Times,serif\" font-size=\"14.00\" fill=\"#000000\">value = [1, 0]</text>\n</g>\n<!-- 9&#45;&gt;11 -->\n<g id=\"edge11\" class=\"edge\">\n<title>9&#45;&gt;11</title>\n<path fill=\"none\" stroke=\"#000000\" d=\"M739.0332,-40.1582C747.6915,-38.7414 756.3639,-37.3223 764.669,-35.9632\"/>\n<polygon fill=\"#000000\" stroke=\"#000000\" points=\"765.2881,-39.4086 774.5916,-34.3396 764.1577,-32.5005 765.2881,-39.4086\"/>\n</g>\n</g>\n</svg>\n"
          },
          "metadata": {
            "tags": []
          },
          "execution_count": 41
        }
      ]
    },
    {
      "cell_type": "code",
      "metadata": {
        "id": "Ey9nhHejSLGu",
        "colab_type": "code",
        "outputId": "eaee5a2a-f802-400a-b306-d9e8f3ef8f8f",
        "colab": {
          "base_uri": "https://localhost:8080/",
          "height": 35
        }
      },
      "source": [
        "# sunny, hot, normal, true\n",
        "prediction = clf_train.predict([[0, 0, 1, 0, 1, 0, 0, 1, 0, 1]])\n",
        "print(prediction)"
      ],
      "execution_count": 42,
      "outputs": [
        {
          "output_type": "stream",
          "text": [
            "['yes']\n"
          ],
          "name": "stdout"
        }
      ]
    },
    {
      "cell_type": "markdown",
      "metadata": {
        "id": "BT9gdS7viJZa",
        "colab_type": "text"
      },
      "source": [
        "### Assignment questions\n",
        "\n",
        "After you've worked on some code, answer the following questions in this text block:\n",
        "\n",
        "1.  Describe in a paragraph of text what you did and why, as if you were writing an email to somebody interested but nontechnical.\n",
        "\n",
        "To help someone understand about Machine Learning, simplest algorithm for predicting categorical output is Decision Tree. Decision Trees rely on simplest \"if/else\" logic which are easier ot visualize and comprehend compare to Neural Networks, so I generated dummy data consisiting of \n",
        "5 categorical features, where target categorical feature is binary \"Yes/No\". Following are categorical features:\n",
        "\n",
        "- `Outlook : sunny, overcast, and rainy`\n",
        "- `Temperature: hot, mild, cool`\n",
        "- `Humidity: high, normal` \n",
        "- `Windy: true/false`\n",
        "- `Play: yes/no`\n",
        "\n",
        "2.  What was the most challenging part of what you did?\n",
        "\n",
        "Getting data, and figuring out right arguments for graphviz library.\n",
        "\n",
        "\n",
        "3.  What was the most interesting thing you learned?\n",
        "\n",
        "We can use weather data to approximate whether to play outdoor sports or not?\n",
        "\n",
        "4.  What area would you like to explore with more time?\n",
        "\n",
        "Do some scraping and some feature engineering\n",
        "\n",
        "\n"
      ]
    },
    {
      "cell_type": "markdown",
      "metadata": {
        "id": "_XXg2crAipwP",
        "colab_type": "text"
      },
      "source": [
        "## Stretch goals and resources\n",
        "\n",
        "Following are *optional* things for you to take a look at. Focus on the above assignment first, and make sure to commit and push your changes to GitHub (and since this is the first assignment of the sprint, open a PR as well).\n",
        "\n",
        "- [pandas documentation](https://pandas.pydata.org/pandas-docs/stable/)\n",
        "- [scikit-learn documentation](http://scikit-learn.org/stable/documentation.html)\n",
        "- [matplotlib documentation](https://matplotlib.org/contents.html)\n",
        "- [Awesome Data Science](https://github.com/bulutyazilim/awesome-datascience) - a list of many types of DS resources\n",
        "\n",
        "Stretch goals:\n",
        "\n",
        "- Find and read blogs, walkthroughs, and other examples of people working through cool things with data science - and share with your classmates!\n",
        "- Write a blog post (Medium is a popular place to publish) introducing yourself as somebody learning data science, and talking about what you've learned already and what you're excited to learn more about."
      ]
    }
  ]
}