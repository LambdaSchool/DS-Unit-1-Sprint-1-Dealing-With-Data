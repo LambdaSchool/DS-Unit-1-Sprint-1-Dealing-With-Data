{
  "nbformat": 4,
  "nbformat_minor": 0,
  "metadata": {
    "colab": {
      "name": "LS DS 111 - A First Look at Data.ipynb",
      "version": "0.3.2",
      "provenance": []
    },
    "kernelspec": {
      "name": "python3",
      "display_name": "Python 3"
    }
  },
  "cells": [
    {
      "metadata": {
        "id": "Okfr_uhwhS1X",
        "colab_type": "text"
      },
      "cell_type": "markdown",
      "source": [
        "# Lambda School Data Science - A First Look at Data\n",
        "\n"
      ]
    },
    {
      "metadata": {
        "id": "IPj8PdpSJ8rK",
        "colab_type": "text"
      },
      "cell_type": "markdown",
      "source": [
        "****Describing how to check out code from github to be run on google colab jupyter notebook ****\n",
        "\n",
        "\n",
        "\n",
        "1. Goto \n",
        "        https://github.com/ LambdaSchool/DS-Sprint-01-Dealing-With-Data/filename \n",
        "    and fork a branch from lambdaschool main branch into one own github repository.\n",
        "\n",
        "2. Double click on the filename that was just forked in one own github repository\n",
        "\n",
        "3. Replace the filename url, \n",
        "        \"https://github.com/self_repository/filename\" to\n",
        "        \"https://colab.research.google.com/github/self_repository/filename\".\n",
        "        \n",
        "4. This will open up google colab jupyter notebook to process the file.\n",
        "\n",
        "5. When finished working on the file, goto \n",
        "        \"File->save a copy in github\". \n",
        "\n",
        "6. This will save the changes you made, back into your github forked copy of the file."
      ]
    },
    {
      "metadata": {
        "id": "9dtJETFRhnOG",
        "colab_type": "text"
      },
      "cell_type": "markdown",
      "source": [
        "## Lecture - let's explore Python DS libraries and examples!\n",
        "\n",
        "The Python Data Science ecosystem is huge. You've seen some of the big pieces - pandas, scikit-learn, matplotlib. What parts do you want to see more of?"
      ]
    },
    {
      "metadata": {
        "id": "WiBkgmPJhmhE",
        "colab_type": "code",
        "colab": {
          "base_uri": "https://localhost:8080/",
          "height": 34
        },
        "outputId": "d76e099b-df3d-42e7-adfb-395d8e5caf37"
      },
      "cell_type": "code",
      "source": [
        "# TODO - we'll be doing this live, taking requests\n",
        "# and reproducing what it is to look up and learn things\n",
        "1+1"
      ],
      "execution_count": 1,
      "outputs": [
        {
          "output_type": "execute_result",
          "data": {
            "text/plain": [
              "2"
            ]
          },
          "metadata": {
            "tags": []
          },
          "execution_count": 1
        }
      ]
    },
    {
      "metadata": {
        "id": "lOqaPds9huME",
        "colab_type": "text"
      },
      "cell_type": "markdown",
      "source": [
        "## Assignment - now it's your turn\n",
        "\n",
        "Pick at least one Python DS library, and using documentation/examples reproduce in this notebook something cool. It's OK if you don't fully understand it or get it 100% working, but do put in effort and look things up."
      ]
    },
    {
      "metadata": {
        "id": "TGUS79cOhPWj",
        "colab_type": "code",
        "colab": {
          "base_uri": "https://localhost:8080/",
          "height": 50
        },
        "outputId": "1188154b-0183-4b92-9efd-1253644698ad"
      },
      "cell_type": "code",
      "source": [
        "# TODO - your code here\n",
        "# Use what we did live in lecture as an example\n",
        "\n",
        "#Principal component analysis - reducing dimension seems pretty interesting.\n",
        "\n",
        "from sklearn.decomposition import PCA\n",
        "import numpy as np\n",
        "\n",
        "X = np.array([[-1, -1], [-2, -1], [-3, -2], [1, 1], [2, 1], [3, 2]])\n",
        "pca = PCA(n_components=2)\n",
        "pca.fit(X)"
      ],
      "execution_count": 2,
      "outputs": [
        {
          "output_type": "execute_result",
          "data": {
            "text/plain": [
              "PCA(copy=True, iterated_power='auto', n_components=2, random_state=None,\n",
              "  svd_solver='auto', tol=0.0, whiten=False)"
            ]
          },
          "metadata": {
            "tags": []
          },
          "execution_count": 2
        }
      ]
    },
    {
      "metadata": {
        "id": "BT9gdS7viJZa",
        "colab_type": "text"
      },
      "cell_type": "markdown",
      "source": [
        "### Assignment questions\n",
        "\n",
        "After you've worked on some code, answer the following questions in this text block:\n",
        "\n",
        "1.  Describe in a paragraph of text what you did and why, as if you were writing an email to somebody interested but nontechnical.\n",
        "\n",
        "2.  What was the most challenging part of what you did?\n",
        "\n",
        "3.  What was the most interesting thing you learned?\n",
        "\n",
        "4.  What area would you like to explore with more time?\n",
        "\n",
        "\n"
      ]
    },
    {
      "metadata": {
        "id": "YejrHhNvJ3hT",
        "colab_type": "text"
      },
      "cell_type": "markdown",
      "source": [
        "According to sklearn PCA documentation, Linear dimensionality reduction using Singular Value Decomposition of the data to project it to a lower dimensional space.\n",
        "\n",
        "The most challenging part of learning PCA tool, is to understand the working of math behind the tool. So I try to avoid digging too deep into the math, instead I try to understand what PCA as a tool, what can it do for me.\n",
        "\n",
        "Interesting in PCA because I get the idea that PCA is one of a tool that help to reduce the multi-dimensional world we live in, to a few dimension that our mind and senses can cope with.\n",
        "\n",
        "Would like to explore using PCA and SVD, to explore the sound vibration that we don't hear or light electromagnetic frequency that we can't see."
      ]
    },
    {
      "metadata": {
        "id": "uaL4RwUqGHil",
        "colab_type": "text"
      },
      "cell_type": "markdown",
      "source": [
        "\n",
        "\n",
        "****Describing how to check out code from github to be run on google colab jupyter notebook ****\n",
        "\n",
        "\n",
        "\n",
        "1. Goto \n",
        "    https://github.com/ LambdaSchool/DS-Sprint-01-Dealing-With-Data/filename \n",
        "    and fork a branch from lambdaschool main branch into one own github repository.\n",
        "\n",
        "2. Double click on the filename that was just forked in one own github repository\n",
        "\n",
        "3. Replace the filename url, \n",
        "        \"https://github.com/self_repository/filename\" to\n",
        "        \"https://colab.research.google.com/github/self_repository/filename\".\n",
        "        \n",
        "4. This will open up google colab jupyter notebook to process the file.\n",
        "\n",
        "5. When finished working on the file, goto \"File->save a copy in github\". \n",
        "\n",
        "6. This will save the changes you made, back into your github forked copy of the file."
      ]
    },
    {
      "metadata": {
        "id": "_XXg2crAipwP",
        "colab_type": "text"
      },
      "cell_type": "markdown",
      "source": [
        "## Stretch goals and resources\n",
        "\n",
        "Following are *optional* things for you to take a look at. Focus on the above assignment first, and make sure to commit and push your changes to GitHub (and since this is the first assignment of the sprint, open a PR as well).\n",
        "\n",
        "- [pandas documentation](https://pandas.pydata.org/pandas-docs/stable/)\n",
        "- [scikit-learn documentation](http://scikit-learn.org/stable/documentation.html)\n",
        "- [matplotlib documentation](https://matplotlib.org/contents.html)\n",
        "- [Awesome Data Science](https://github.com/bulutyazilim/awesome-datascience) - a list of many types of DS resources\n",
        "\n",
        "Stretch goals:\n",
        "\n",
        "- Find and read blogs, walkthroughs, and other examples of people working through cool things with data science - and share with your classmates!\n",
        "- Write a blog post (Medium is a popular place to publish) introducing yourself as somebody learning data science, and talking about what you've learned already and what you're excited to learn more about"
      ]
    }
  ]
}