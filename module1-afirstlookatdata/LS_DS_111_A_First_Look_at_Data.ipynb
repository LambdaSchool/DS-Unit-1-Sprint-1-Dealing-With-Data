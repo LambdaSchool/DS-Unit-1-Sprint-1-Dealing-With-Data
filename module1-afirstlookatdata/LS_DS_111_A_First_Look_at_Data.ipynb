{
  "nbformat": 4,
  "nbformat_minor": 0,
  "metadata": {
    "colab": {
      "name": "LS_DS_111_A_First_Look_at_Data.ipynb",
      "version": "0.3.2",
      "provenance": []
    },
    "kernelspec": {
      "name": "python3",
      "display_name": "Python 3"
    }
  },
  "cells": [
    {
      "cell_type": "markdown",
      "metadata": {
        "id": "Okfr_uhwhS1X",
        "colab_type": "text"
      },
      "source": [
        "# Lambda School Data Science - A First Look at Data\n",
        "\n"
      ]
    },
    {
      "cell_type": "markdown",
      "metadata": {
        "id": "9dtJETFRhnOG",
        "colab_type": "text"
      },
      "source": [
        "## Lecture - let's explore Python DS libraries and examples!\n",
        "\n",
        "The Python Data Science ecosystem is huge. You've seen some of the big pieces - pandas, scikit-learn, matplotlib. What parts do you want to see more of?"
      ]
    },
    {
      "cell_type": "code",
      "metadata": {
        "id": "5i_WOyq5xibi",
        "colab_type": "code",
        "outputId": "b2439eab-984d-4d9d-82fa-d97876aa554f",
        "colab": {
          "base_uri": "https://localhost:8080/",
          "height": 223
        }
      },
      "source": [
        "!wget https://raw.githubusercontent.com/fivethirtyeight/data/master/alcohol-consumption/drinks.csv\n"
      ],
      "execution_count": 280,
      "outputs": [
        {
          "output_type": "stream",
          "text": [
            "--2019-07-11 00:55:53--  https://raw.githubusercontent.com/fivethirtyeight/data/master/alcohol-consumption/drinks.csv\n",
            "Resolving raw.githubusercontent.com (raw.githubusercontent.com)... 151.101.0.133, 151.101.64.133, 151.101.128.133, ...\n",
            "Connecting to raw.githubusercontent.com (raw.githubusercontent.com)|151.101.0.133|:443... connected.\n",
            "HTTP request sent, awaiting response... 200 OK\n",
            "Length: 4384 (4.3K) [text/plain]\n",
            "Saving to: ‘drinks.csv.4’\n",
            "\n",
            "\rdrinks.csv.4          0%[                    ]       0  --.-KB/s               \rdrinks.csv.4        100%[===================>]   4.28K  --.-KB/s    in 0s      \n",
            "\n",
            "2019-07-11 00:55:53 (64.8 MB/s) - ‘drinks.csv.4’ saved [4384/4384]\n",
            "\n"
          ],
          "name": "stdout"
        }
      ]
    },
    {
      "cell_type": "code",
      "metadata": {
        "id": "WiBkgmPJhmhE",
        "colab_type": "code",
        "colab": {}
      },
      "source": [
        "import pandas as pd"
      ],
      "execution_count": 0,
      "outputs": []
    },
    {
      "cell_type": "markdown",
      "metadata": {
        "id": "r9nLR3D10epe",
        "colab_type": "text"
      },
      "source": [
        "#Loading Data\n",
        "## Loading Data\n",
        "###Loading Data\n",
        "####Loading Data"
      ]
    },
    {
      "cell_type": "code",
      "metadata": {
        "id": "l9xsmg2muSjT",
        "colab_type": "code",
        "outputId": "febaa2e7-9362-4b5d-9373-51c5730575b4",
        "colab": {
          "base_uri": "https://localhost:8080/",
          "height": 36
        }
      },
      "source": [
        "drinks = pd.read_csv('https://raw.githubusercontent.com/fivethirtyeight/data/master/alcohol-consumption/drinks.csv')\n",
        "drinks.shape"
      ],
      "execution_count": 282,
      "outputs": [
        {
          "output_type": "execute_result",
          "data": {
            "text/plain": [
              "(193, 5)"
            ]
          },
          "metadata": {
            "tags": []
          },
          "execution_count": 282
        }
      ]
    },
    {
      "cell_type": "code",
      "metadata": {
        "id": "lLoE6QoqumW8",
        "colab_type": "code",
        "outputId": "4c339b62-34c6-435f-fb60-c0ae048777c4",
        "colab": {
          "base_uri": "https://localhost:8080/",
          "height": 206
        }
      },
      "source": [
        "drinks.head()"
      ],
      "execution_count": 283,
      "outputs": [
        {
          "output_type": "execute_result",
          "data": {
            "text/html": [
              "<div>\n",
              "<style scoped>\n",
              "    .dataframe tbody tr th:only-of-type {\n",
              "        vertical-align: middle;\n",
              "    }\n",
              "\n",
              "    .dataframe tbody tr th {\n",
              "        vertical-align: top;\n",
              "    }\n",
              "\n",
              "    .dataframe thead th {\n",
              "        text-align: right;\n",
              "    }\n",
              "</style>\n",
              "<table border=\"1\" class=\"dataframe\">\n",
              "  <thead>\n",
              "    <tr style=\"text-align: right;\">\n",
              "      <th></th>\n",
              "      <th>country</th>\n",
              "      <th>beer_servings</th>\n",
              "      <th>spirit_servings</th>\n",
              "      <th>wine_servings</th>\n",
              "      <th>total_litres_of_pure_alcohol</th>\n",
              "    </tr>\n",
              "  </thead>\n",
              "  <tbody>\n",
              "    <tr>\n",
              "      <th>0</th>\n",
              "      <td>Afghanistan</td>\n",
              "      <td>0</td>\n",
              "      <td>0</td>\n",
              "      <td>0</td>\n",
              "      <td>0.0</td>\n",
              "    </tr>\n",
              "    <tr>\n",
              "      <th>1</th>\n",
              "      <td>Albania</td>\n",
              "      <td>89</td>\n",
              "      <td>132</td>\n",
              "      <td>54</td>\n",
              "      <td>4.9</td>\n",
              "    </tr>\n",
              "    <tr>\n",
              "      <th>2</th>\n",
              "      <td>Algeria</td>\n",
              "      <td>25</td>\n",
              "      <td>0</td>\n",
              "      <td>14</td>\n",
              "      <td>0.7</td>\n",
              "    </tr>\n",
              "    <tr>\n",
              "      <th>3</th>\n",
              "      <td>Andorra</td>\n",
              "      <td>245</td>\n",
              "      <td>138</td>\n",
              "      <td>312</td>\n",
              "      <td>12.4</td>\n",
              "    </tr>\n",
              "    <tr>\n",
              "      <th>4</th>\n",
              "      <td>Angola</td>\n",
              "      <td>217</td>\n",
              "      <td>57</td>\n",
              "      <td>45</td>\n",
              "      <td>5.9</td>\n",
              "    </tr>\n",
              "  </tbody>\n",
              "</table>\n",
              "</div>"
            ],
            "text/plain": [
              "       country  beer_servings  ...  wine_servings  total_litres_of_pure_alcohol\n",
              "0  Afghanistan              0  ...              0                           0.0\n",
              "1      Albania             89  ...             54                           4.9\n",
              "2      Algeria             25  ...             14                           0.7\n",
              "3      Andorra            245  ...            312                          12.4\n",
              "4       Angola            217  ...             45                           5.9\n",
              "\n",
              "[5 rows x 5 columns]"
            ]
          },
          "metadata": {
            "tags": []
          },
          "execution_count": 283
        }
      ]
    },
    {
      "cell_type": "code",
      "metadata": {
        "id": "Gu__sBfEu3IR",
        "colab_type": "code",
        "outputId": "70e07dec-c388-41a0-bc60-dba4bbf205c9",
        "colab": {
          "base_uri": "https://localhost:8080/",
          "height": 356
        }
      },
      "source": [
        "print(drinks.columns)\n",
        "drinks.describe()"
      ],
      "execution_count": 284,
      "outputs": [
        {
          "output_type": "stream",
          "text": [
            "Index(['country', 'beer_servings', 'spirit_servings', 'wine_servings',\n",
            "       'total_litres_of_pure_alcohol'],\n",
            "      dtype='object')\n"
          ],
          "name": "stdout"
        },
        {
          "output_type": "execute_result",
          "data": {
            "text/html": [
              "<div>\n",
              "<style scoped>\n",
              "    .dataframe tbody tr th:only-of-type {\n",
              "        vertical-align: middle;\n",
              "    }\n",
              "\n",
              "    .dataframe tbody tr th {\n",
              "        vertical-align: top;\n",
              "    }\n",
              "\n",
              "    .dataframe thead th {\n",
              "        text-align: right;\n",
              "    }\n",
              "</style>\n",
              "<table border=\"1\" class=\"dataframe\">\n",
              "  <thead>\n",
              "    <tr style=\"text-align: right;\">\n",
              "      <th></th>\n",
              "      <th>beer_servings</th>\n",
              "      <th>spirit_servings</th>\n",
              "      <th>wine_servings</th>\n",
              "      <th>total_litres_of_pure_alcohol</th>\n",
              "    </tr>\n",
              "  </thead>\n",
              "  <tbody>\n",
              "    <tr>\n",
              "      <th>count</th>\n",
              "      <td>193.000000</td>\n",
              "      <td>193.000000</td>\n",
              "      <td>193.000000</td>\n",
              "      <td>193.000000</td>\n",
              "    </tr>\n",
              "    <tr>\n",
              "      <th>mean</th>\n",
              "      <td>106.160622</td>\n",
              "      <td>80.994819</td>\n",
              "      <td>49.450777</td>\n",
              "      <td>4.717098</td>\n",
              "    </tr>\n",
              "    <tr>\n",
              "      <th>std</th>\n",
              "      <td>101.143103</td>\n",
              "      <td>88.284312</td>\n",
              "      <td>79.697598</td>\n",
              "      <td>3.773298</td>\n",
              "    </tr>\n",
              "    <tr>\n",
              "      <th>min</th>\n",
              "      <td>0.000000</td>\n",
              "      <td>0.000000</td>\n",
              "      <td>0.000000</td>\n",
              "      <td>0.000000</td>\n",
              "    </tr>\n",
              "    <tr>\n",
              "      <th>25%</th>\n",
              "      <td>20.000000</td>\n",
              "      <td>4.000000</td>\n",
              "      <td>1.000000</td>\n",
              "      <td>1.300000</td>\n",
              "    </tr>\n",
              "    <tr>\n",
              "      <th>50%</th>\n",
              "      <td>76.000000</td>\n",
              "      <td>56.000000</td>\n",
              "      <td>8.000000</td>\n",
              "      <td>4.200000</td>\n",
              "    </tr>\n",
              "    <tr>\n",
              "      <th>75%</th>\n",
              "      <td>188.000000</td>\n",
              "      <td>128.000000</td>\n",
              "      <td>59.000000</td>\n",
              "      <td>7.200000</td>\n",
              "    </tr>\n",
              "    <tr>\n",
              "      <th>max</th>\n",
              "      <td>376.000000</td>\n",
              "      <td>438.000000</td>\n",
              "      <td>370.000000</td>\n",
              "      <td>14.400000</td>\n",
              "    </tr>\n",
              "  </tbody>\n",
              "</table>\n",
              "</div>"
            ],
            "text/plain": [
              "       beer_servings  ...  total_litres_of_pure_alcohol\n",
              "count     193.000000  ...                    193.000000\n",
              "mean      106.160622  ...                      4.717098\n",
              "std       101.143103  ...                      3.773298\n",
              "min         0.000000  ...                      0.000000\n",
              "25%        20.000000  ...                      1.300000\n",
              "50%        76.000000  ...                      4.200000\n",
              "75%       188.000000  ...                      7.200000\n",
              "max       376.000000  ...                     14.400000\n",
              "\n",
              "[8 rows x 4 columns]"
            ]
          },
          "metadata": {
            "tags": []
          },
          "execution_count": 284
        }
      ]
    },
    {
      "cell_type": "code",
      "metadata": {
        "id": "z73Phr_rvXah",
        "colab_type": "code",
        "outputId": "dc8a4ea5-81ad-4b19-a798-6b6acbe0aa1d",
        "colab": {
          "base_uri": "https://localhost:8080/",
          "height": 363
        }
      },
      "source": [
        "drinks.sort_values(by=['beer_servings'], ascending=False, )[:10]"
      ],
      "execution_count": 285,
      "outputs": [
        {
          "output_type": "execute_result",
          "data": {
            "text/html": [
              "<div>\n",
              "<style scoped>\n",
              "    .dataframe tbody tr th:only-of-type {\n",
              "        vertical-align: middle;\n",
              "    }\n",
              "\n",
              "    .dataframe tbody tr th {\n",
              "        vertical-align: top;\n",
              "    }\n",
              "\n",
              "    .dataframe thead th {\n",
              "        text-align: right;\n",
              "    }\n",
              "</style>\n",
              "<table border=\"1\" class=\"dataframe\">\n",
              "  <thead>\n",
              "    <tr style=\"text-align: right;\">\n",
              "      <th></th>\n",
              "      <th>country</th>\n",
              "      <th>beer_servings</th>\n",
              "      <th>spirit_servings</th>\n",
              "      <th>wine_servings</th>\n",
              "      <th>total_litres_of_pure_alcohol</th>\n",
              "    </tr>\n",
              "  </thead>\n",
              "  <tbody>\n",
              "    <tr>\n",
              "      <th>117</th>\n",
              "      <td>Namibia</td>\n",
              "      <td>376</td>\n",
              "      <td>3</td>\n",
              "      <td>1</td>\n",
              "      <td>6.8</td>\n",
              "    </tr>\n",
              "    <tr>\n",
              "      <th>45</th>\n",
              "      <td>Czech Republic</td>\n",
              "      <td>361</td>\n",
              "      <td>170</td>\n",
              "      <td>134</td>\n",
              "      <td>11.8</td>\n",
              "    </tr>\n",
              "    <tr>\n",
              "      <th>62</th>\n",
              "      <td>Gabon</td>\n",
              "      <td>347</td>\n",
              "      <td>98</td>\n",
              "      <td>59</td>\n",
              "      <td>8.9</td>\n",
              "    </tr>\n",
              "    <tr>\n",
              "      <th>65</th>\n",
              "      <td>Germany</td>\n",
              "      <td>346</td>\n",
              "      <td>117</td>\n",
              "      <td>175</td>\n",
              "      <td>11.3</td>\n",
              "    </tr>\n",
              "    <tr>\n",
              "      <th>98</th>\n",
              "      <td>Lithuania</td>\n",
              "      <td>343</td>\n",
              "      <td>244</td>\n",
              "      <td>56</td>\n",
              "      <td>12.9</td>\n",
              "    </tr>\n",
              "    <tr>\n",
              "      <th>135</th>\n",
              "      <td>Poland</td>\n",
              "      <td>343</td>\n",
              "      <td>215</td>\n",
              "      <td>56</td>\n",
              "      <td>10.9</td>\n",
              "    </tr>\n",
              "    <tr>\n",
              "      <th>188</th>\n",
              "      <td>Venezuela</td>\n",
              "      <td>333</td>\n",
              "      <td>100</td>\n",
              "      <td>3</td>\n",
              "      <td>7.7</td>\n",
              "    </tr>\n",
              "    <tr>\n",
              "      <th>81</th>\n",
              "      <td>Ireland</td>\n",
              "      <td>313</td>\n",
              "      <td>118</td>\n",
              "      <td>165</td>\n",
              "      <td>11.4</td>\n",
              "    </tr>\n",
              "    <tr>\n",
              "      <th>129</th>\n",
              "      <td>Palau</td>\n",
              "      <td>306</td>\n",
              "      <td>63</td>\n",
              "      <td>23</td>\n",
              "      <td>6.9</td>\n",
              "    </tr>\n",
              "    <tr>\n",
              "      <th>140</th>\n",
              "      <td>Romania</td>\n",
              "      <td>297</td>\n",
              "      <td>122</td>\n",
              "      <td>167</td>\n",
              "      <td>10.4</td>\n",
              "    </tr>\n",
              "  </tbody>\n",
              "</table>\n",
              "</div>"
            ],
            "text/plain": [
              "            country  beer_servings  ...  wine_servings  total_litres_of_pure_alcohol\n",
              "117         Namibia            376  ...              1                           6.8\n",
              "45   Czech Republic            361  ...            134                          11.8\n",
              "62            Gabon            347  ...             59                           8.9\n",
              "65          Germany            346  ...            175                          11.3\n",
              "98        Lithuania            343  ...             56                          12.9\n",
              "135          Poland            343  ...             56                          10.9\n",
              "188       Venezuela            333  ...              3                           7.7\n",
              "81          Ireland            313  ...            165                          11.4\n",
              "129           Palau            306  ...             23                           6.9\n",
              "140         Romania            297  ...            167                          10.4\n",
              "\n",
              "[10 rows x 5 columns]"
            ]
          },
          "metadata": {
            "tags": []
          },
          "execution_count": 285
        }
      ]
    },
    {
      "cell_type": "code",
      "metadata": {
        "id": "vfTyINMZwJlx",
        "colab_type": "code",
        "outputId": "6c951180-791d-4ff2-e947-7553d95b24ea",
        "colab": {
          "base_uri": "https://localhost:8080/",
          "height": 363
        }
      },
      "source": [
        "drinks.nlargest(10, 'spirit_servings')"
      ],
      "execution_count": 286,
      "outputs": [
        {
          "output_type": "execute_result",
          "data": {
            "text/html": [
              "<div>\n",
              "<style scoped>\n",
              "    .dataframe tbody tr th:only-of-type {\n",
              "        vertical-align: middle;\n",
              "    }\n",
              "\n",
              "    .dataframe tbody tr th {\n",
              "        vertical-align: top;\n",
              "    }\n",
              "\n",
              "    .dataframe thead th {\n",
              "        text-align: right;\n",
              "    }\n",
              "</style>\n",
              "<table border=\"1\" class=\"dataframe\">\n",
              "  <thead>\n",
              "    <tr style=\"text-align: right;\">\n",
              "      <th></th>\n",
              "      <th>country</th>\n",
              "      <th>beer_servings</th>\n",
              "      <th>spirit_servings</th>\n",
              "      <th>wine_servings</th>\n",
              "      <th>total_litres_of_pure_alcohol</th>\n",
              "    </tr>\n",
              "  </thead>\n",
              "  <tbody>\n",
              "    <tr>\n",
              "      <th>68</th>\n",
              "      <td>Grenada</td>\n",
              "      <td>199</td>\n",
              "      <td>438</td>\n",
              "      <td>28</td>\n",
              "      <td>11.9</td>\n",
              "    </tr>\n",
              "    <tr>\n",
              "      <th>15</th>\n",
              "      <td>Belarus</td>\n",
              "      <td>142</td>\n",
              "      <td>373</td>\n",
              "      <td>42</td>\n",
              "      <td>14.4</td>\n",
              "    </tr>\n",
              "    <tr>\n",
              "      <th>73</th>\n",
              "      <td>Haiti</td>\n",
              "      <td>1</td>\n",
              "      <td>326</td>\n",
              "      <td>1</td>\n",
              "      <td>5.9</td>\n",
              "    </tr>\n",
              "    <tr>\n",
              "      <th>141</th>\n",
              "      <td>Russian Federation</td>\n",
              "      <td>247</td>\n",
              "      <td>326</td>\n",
              "      <td>73</td>\n",
              "      <td>11.5</td>\n",
              "    </tr>\n",
              "    <tr>\n",
              "      <th>144</th>\n",
              "      <td>St. Lucia</td>\n",
              "      <td>171</td>\n",
              "      <td>315</td>\n",
              "      <td>71</td>\n",
              "      <td>10.1</td>\n",
              "    </tr>\n",
              "    <tr>\n",
              "      <th>72</th>\n",
              "      <td>Guyana</td>\n",
              "      <td>93</td>\n",
              "      <td>302</td>\n",
              "      <td>1</td>\n",
              "      <td>7.1</td>\n",
              "    </tr>\n",
              "    <tr>\n",
              "      <th>155</th>\n",
              "      <td>Slovakia</td>\n",
              "      <td>196</td>\n",
              "      <td>293</td>\n",
              "      <td>116</td>\n",
              "      <td>11.4</td>\n",
              "    </tr>\n",
              "    <tr>\n",
              "      <th>50</th>\n",
              "      <td>Dominica</td>\n",
              "      <td>52</td>\n",
              "      <td>286</td>\n",
              "      <td>26</td>\n",
              "      <td>6.6</td>\n",
              "    </tr>\n",
              "    <tr>\n",
              "      <th>169</th>\n",
              "      <td>Thailand</td>\n",
              "      <td>99</td>\n",
              "      <td>258</td>\n",
              "      <td>1</td>\n",
              "      <td>6.4</td>\n",
              "    </tr>\n",
              "    <tr>\n",
              "      <th>40</th>\n",
              "      <td>Cook Islands</td>\n",
              "      <td>0</td>\n",
              "      <td>254</td>\n",
              "      <td>74</td>\n",
              "      <td>5.9</td>\n",
              "    </tr>\n",
              "  </tbody>\n",
              "</table>\n",
              "</div>"
            ],
            "text/plain": [
              "                country  ...  total_litres_of_pure_alcohol\n",
              "68              Grenada  ...                          11.9\n",
              "15              Belarus  ...                          14.4\n",
              "73                Haiti  ...                           5.9\n",
              "141  Russian Federation  ...                          11.5\n",
              "144           St. Lucia  ...                          10.1\n",
              "72               Guyana  ...                           7.1\n",
              "155            Slovakia  ...                          11.4\n",
              "50             Dominica  ...                           6.6\n",
              "169            Thailand  ...                           6.4\n",
              "40         Cook Islands  ...                           5.9\n",
              "\n",
              "[10 rows x 5 columns]"
            ]
          },
          "metadata": {
            "tags": []
          },
          "execution_count": 286
        }
      ]
    },
    {
      "cell_type": "code",
      "metadata": {
        "id": "VZShlbuewY_7",
        "colab_type": "code",
        "outputId": "ee462b18-2f08-48c8-9553-cbdf957d02a8",
        "colab": {
          "base_uri": "https://localhost:8080/",
          "height": 206
        }
      },
      "source": [
        "import numpy as np\n",
        "#drinks['drinks_alcohol'] = drinks['total_litres_of_pure_alcohol'] >0\n",
        "drinks['drinks_alcohol'] = np.where(drinks['total_litres_of_pure_alcohol'] >0, 'yes', 'no')\n",
        "drinks.head()"
      ],
      "execution_count": 287,
      "outputs": [
        {
          "output_type": "execute_result",
          "data": {
            "text/html": [
              "<div>\n",
              "<style scoped>\n",
              "    .dataframe tbody tr th:only-of-type {\n",
              "        vertical-align: middle;\n",
              "    }\n",
              "\n",
              "    .dataframe tbody tr th {\n",
              "        vertical-align: top;\n",
              "    }\n",
              "\n",
              "    .dataframe thead th {\n",
              "        text-align: right;\n",
              "    }\n",
              "</style>\n",
              "<table border=\"1\" class=\"dataframe\">\n",
              "  <thead>\n",
              "    <tr style=\"text-align: right;\">\n",
              "      <th></th>\n",
              "      <th>country</th>\n",
              "      <th>beer_servings</th>\n",
              "      <th>spirit_servings</th>\n",
              "      <th>wine_servings</th>\n",
              "      <th>total_litres_of_pure_alcohol</th>\n",
              "      <th>drinks_alcohol</th>\n",
              "    </tr>\n",
              "  </thead>\n",
              "  <tbody>\n",
              "    <tr>\n",
              "      <th>0</th>\n",
              "      <td>Afghanistan</td>\n",
              "      <td>0</td>\n",
              "      <td>0</td>\n",
              "      <td>0</td>\n",
              "      <td>0.0</td>\n",
              "      <td>no</td>\n",
              "    </tr>\n",
              "    <tr>\n",
              "      <th>1</th>\n",
              "      <td>Albania</td>\n",
              "      <td>89</td>\n",
              "      <td>132</td>\n",
              "      <td>54</td>\n",
              "      <td>4.9</td>\n",
              "      <td>yes</td>\n",
              "    </tr>\n",
              "    <tr>\n",
              "      <th>2</th>\n",
              "      <td>Algeria</td>\n",
              "      <td>25</td>\n",
              "      <td>0</td>\n",
              "      <td>14</td>\n",
              "      <td>0.7</td>\n",
              "      <td>yes</td>\n",
              "    </tr>\n",
              "    <tr>\n",
              "      <th>3</th>\n",
              "      <td>Andorra</td>\n",
              "      <td>245</td>\n",
              "      <td>138</td>\n",
              "      <td>312</td>\n",
              "      <td>12.4</td>\n",
              "      <td>yes</td>\n",
              "    </tr>\n",
              "    <tr>\n",
              "      <th>4</th>\n",
              "      <td>Angola</td>\n",
              "      <td>217</td>\n",
              "      <td>57</td>\n",
              "      <td>45</td>\n",
              "      <td>5.9</td>\n",
              "      <td>yes</td>\n",
              "    </tr>\n",
              "  </tbody>\n",
              "</table>\n",
              "</div>"
            ],
            "text/plain": [
              "       country  beer_servings  ...  total_litres_of_pure_alcohol  drinks_alcohol\n",
              "0  Afghanistan              0  ...                           0.0              no\n",
              "1      Albania             89  ...                           4.9             yes\n",
              "2      Algeria             25  ...                           0.7             yes\n",
              "3      Andorra            245  ...                          12.4             yes\n",
              "4       Angola            217  ...                           5.9             yes\n",
              "\n",
              "[5 rows x 6 columns]"
            ]
          },
          "metadata": {
            "tags": []
          },
          "execution_count": 287
        }
      ]
    },
    {
      "cell_type": "code",
      "metadata": {
        "id": "OkTnr807wZPN",
        "colab_type": "code",
        "outputId": "b3e9d599-0676-4e2f-caad-7cdd1b1e1ab1",
        "colab": {
          "base_uri": "https://localhost:8080/",
          "height": 269
        }
      },
      "source": [
        "import matplotlib.pyplot as plt\n",
        "%matplotlib inline\n",
        "\n",
        "drinks['total_litres_of_pure_alcohol'].hist();"
      ],
      "execution_count": 288,
      "outputs": [
        {
          "output_type": "display_data",
          "data": {
            "image/png": "[encoded data removed]",
            "text/plain": [
              "<Figure size 432x288 with 1 Axes>"
            ]
          },
          "metadata": {
            "tags": []
          }
        }
      ]
    },
    {
      "cell_type": "code",
      "metadata": {
        "id": "8y_z8oAswZRq",
        "colab_type": "code",
        "colab": {}
      },
      "source": [
        "drinks['drinks_alcohol'] = np.where(drinks['total_litres_of_pure_alcohol'] >9, \n",
        "                                    'high',np.where(drinks['total_litres_of_pure_alcohol'] >=6, \n",
        "                                                    'medium',np.where(drinks['total_litres_of_pure_alcohol'] == 0,'none', 'low')))"
      ],
      "execution_count": 0,
      "outputs": []
    },
    {
      "cell_type": "code",
      "metadata": {
        "id": "1ofq2r6hwZHg",
        "colab_type": "code",
        "outputId": "ce217aa0-5959-471b-fbdb-67f97049ced9",
        "colab": {
          "base_uri": "https://localhost:8080/",
          "height": 206
        }
      },
      "source": [
        "drinks.head()"
      ],
      "execution_count": 290,
      "outputs": [
        {
          "output_type": "execute_result",
          "data": {
            "text/html": [
              "<div>\n",
              "<style scoped>\n",
              "    .dataframe tbody tr th:only-of-type {\n",
              "        vertical-align: middle;\n",
              "    }\n",
              "\n",
              "    .dataframe tbody tr th {\n",
              "        vertical-align: top;\n",
              "    }\n",
              "\n",
              "    .dataframe thead th {\n",
              "        text-align: right;\n",
              "    }\n",
              "</style>\n",
              "<table border=\"1\" class=\"dataframe\">\n",
              "  <thead>\n",
              "    <tr style=\"text-align: right;\">\n",
              "      <th></th>\n",
              "      <th>country</th>\n",
              "      <th>beer_servings</th>\n",
              "      <th>spirit_servings</th>\n",
              "      <th>wine_servings</th>\n",
              "      <th>total_litres_of_pure_alcohol</th>\n",
              "      <th>drinks_alcohol</th>\n",
              "    </tr>\n",
              "  </thead>\n",
              "  <tbody>\n",
              "    <tr>\n",
              "      <th>0</th>\n",
              "      <td>Afghanistan</td>\n",
              "      <td>0</td>\n",
              "      <td>0</td>\n",
              "      <td>0</td>\n",
              "      <td>0.0</td>\n",
              "      <td>none</td>\n",
              "    </tr>\n",
              "    <tr>\n",
              "      <th>1</th>\n",
              "      <td>Albania</td>\n",
              "      <td>89</td>\n",
              "      <td>132</td>\n",
              "      <td>54</td>\n",
              "      <td>4.9</td>\n",
              "      <td>low</td>\n",
              "    </tr>\n",
              "    <tr>\n",
              "      <th>2</th>\n",
              "      <td>Algeria</td>\n",
              "      <td>25</td>\n",
              "      <td>0</td>\n",
              "      <td>14</td>\n",
              "      <td>0.7</td>\n",
              "      <td>low</td>\n",
              "    </tr>\n",
              "    <tr>\n",
              "      <th>3</th>\n",
              "      <td>Andorra</td>\n",
              "      <td>245</td>\n",
              "      <td>138</td>\n",
              "      <td>312</td>\n",
              "      <td>12.4</td>\n",
              "      <td>high</td>\n",
              "    </tr>\n",
              "    <tr>\n",
              "      <th>4</th>\n",
              "      <td>Angola</td>\n",
              "      <td>217</td>\n",
              "      <td>57</td>\n",
              "      <td>45</td>\n",
              "      <td>5.9</td>\n",
              "      <td>low</td>\n",
              "    </tr>\n",
              "  </tbody>\n",
              "</table>\n",
              "</div>"
            ],
            "text/plain": [
              "       country  beer_servings  ...  total_litres_of_pure_alcohol  drinks_alcohol\n",
              "0  Afghanistan              0  ...                           0.0            none\n",
              "1      Albania             89  ...                           4.9             low\n",
              "2      Algeria             25  ...                           0.7             low\n",
              "3      Andorra            245  ...                          12.4            high\n",
              "4       Angola            217  ...                           5.9             low\n",
              "\n",
              "[5 rows x 6 columns]"
            ]
          },
          "metadata": {
            "tags": []
          },
          "execution_count": 290
        }
      ]
    },
    {
      "cell_type": "code",
      "metadata": {
        "id": "EzZeJWOXv1_B",
        "colab_type": "code",
        "outputId": "660e235d-7d24-43cc-c3b0-8c20afc676a7",
        "colab": {
          "base_uri": "https://localhost:8080/",
          "height": 111
        }
      },
      "source": [
        "drinks.drinks_alcohol.value_counts()"
      ],
      "execution_count": 291,
      "outputs": [
        {
          "output_type": "execute_result",
          "data": {
            "text/plain": [
              "low       105\n",
              "medium     41\n",
              "high       34\n",
              "none       13\n",
              "Name: drinks_alcohol, dtype: int64"
            ]
          },
          "metadata": {
            "tags": []
          },
          "execution_count": 291
        }
      ]
    },
    {
      "cell_type": "markdown",
      "metadata": {
        "id": "FifhchhlqQUr",
        "colab_type": "text"
      },
      "source": [
        ""
      ]
    },
    {
      "cell_type": "code",
      "metadata": {
        "id": "4rr3ujRu3gOB",
        "colab_type": "code",
        "outputId": "566eb9c2-f95a-4af3-962a-74329853a95f",
        "colab": {
          "base_uri": "https://localhost:8080/",
          "height": 225
        }
      },
      "source": [
        "countries = pd.read_csv('https://raw.githubusercontent.com/lukes/ISO-3166-Countries-with-Regional-Codes/master/all/all.csv')\n",
        "print(countries.shape)\n",
        "countries.head()"
      ],
      "execution_count": 292,
      "outputs": [
        {
          "output_type": "stream",
          "text": [
            "(249, 11)\n"
          ],
          "name": "stdout"
        },
        {
          "output_type": "execute_result",
          "data": {
            "text/html": [
              "<div>\n",
              "<style scoped>\n",
              "    .dataframe tbody tr th:only-of-type {\n",
              "        vertical-align: middle;\n",
              "    }\n",
              "\n",
              "    .dataframe tbody tr th {\n",
              "        vertical-align: top;\n",
              "    }\n",
              "\n",
              "    .dataframe thead th {\n",
              "        text-align: right;\n",
              "    }\n",
              "</style>\n",
              "<table border=\"1\" class=\"dataframe\">\n",
              "  <thead>\n",
              "    <tr style=\"text-align: right;\">\n",
              "      <th></th>\n",
              "      <th>name</th>\n",
              "      <th>alpha-2</th>\n",
              "      <th>alpha-3</th>\n",
              "      <th>country-code</th>\n",
              "      <th>iso_3166-2</th>\n",
              "      <th>region</th>\n",
              "      <th>sub-region</th>\n",
              "      <th>intermediate-region</th>\n",
              "      <th>region-code</th>\n",
              "      <th>sub-region-code</th>\n",
              "      <th>intermediate-region-code</th>\n",
              "    </tr>\n",
              "  </thead>\n",
              "  <tbody>\n",
              "    <tr>\n",
              "      <th>0</th>\n",
              "      <td>Afghanistan</td>\n",
              "      <td>AF</td>\n",
              "      <td>AFG</td>\n",
              "      <td>4</td>\n",
              "      <td>ISO 3166-2:AF</td>\n",
              "      <td>Asia</td>\n",
              "      <td>Southern Asia</td>\n",
              "      <td>NaN</td>\n",
              "      <td>142.0</td>\n",
              "      <td>34.0</td>\n",
              "      <td>NaN</td>\n",
              "    </tr>\n",
              "    <tr>\n",
              "      <th>1</th>\n",
              "      <td>Åland Islands</td>\n",
              "      <td>AX</td>\n",
              "      <td>ALA</td>\n",
              "      <td>248</td>\n",
              "      <td>ISO 3166-2:AX</td>\n",
              "      <td>Europe</td>\n",
              "      <td>Northern Europe</td>\n",
              "      <td>NaN</td>\n",
              "      <td>150.0</td>\n",
              "      <td>154.0</td>\n",
              "      <td>NaN</td>\n",
              "    </tr>\n",
              "    <tr>\n",
              "      <th>2</th>\n",
              "      <td>Albania</td>\n",
              "      <td>AL</td>\n",
              "      <td>ALB</td>\n",
              "      <td>8</td>\n",
              "      <td>ISO 3166-2:AL</td>\n",
              "      <td>Europe</td>\n",
              "      <td>Southern Europe</td>\n",
              "      <td>NaN</td>\n",
              "      <td>150.0</td>\n",
              "      <td>39.0</td>\n",
              "      <td>NaN</td>\n",
              "    </tr>\n",
              "    <tr>\n",
              "      <th>3</th>\n",
              "      <td>Algeria</td>\n",
              "      <td>DZ</td>\n",
              "      <td>DZA</td>\n",
              "      <td>12</td>\n",
              "      <td>ISO 3166-2:DZ</td>\n",
              "      <td>Africa</td>\n",
              "      <td>Northern Africa</td>\n",
              "      <td>NaN</td>\n",
              "      <td>2.0</td>\n",
              "      <td>15.0</td>\n",
              "      <td>NaN</td>\n",
              "    </tr>\n",
              "    <tr>\n",
              "      <th>4</th>\n",
              "      <td>American Samoa</td>\n",
              "      <td>AS</td>\n",
              "      <td>ASM</td>\n",
              "      <td>16</td>\n",
              "      <td>ISO 3166-2:AS</td>\n",
              "      <td>Oceania</td>\n",
              "      <td>Polynesia</td>\n",
              "      <td>NaN</td>\n",
              "      <td>9.0</td>\n",
              "      <td>61.0</td>\n",
              "      <td>NaN</td>\n",
              "    </tr>\n",
              "  </tbody>\n",
              "</table>\n",
              "</div>"
            ],
            "text/plain": [
              "             name alpha-2  ... sub-region-code  intermediate-region-code\n",
              "0     Afghanistan      AF  ...            34.0                       NaN\n",
              "1   Åland Islands      AX  ...           154.0                       NaN\n",
              "2         Albania      AL  ...            39.0                       NaN\n",
              "3         Algeria      DZ  ...            15.0                       NaN\n",
              "4  American Samoa      AS  ...            61.0                       NaN\n",
              "\n",
              "[5 rows x 11 columns]"
            ]
          },
          "metadata": {
            "tags": []
          },
          "execution_count": 292
        }
      ]
    },
    {
      "cell_type": "code",
      "metadata": {
        "id": "8D9kK1g63gRv",
        "colab_type": "code",
        "colab": {}
      },
      "source": [
        "df = drinks.join(countries[['name', 'region', 'sub-region']], how='left')"
      ],
      "execution_count": 0,
      "outputs": []
    },
    {
      "cell_type": "code",
      "metadata": {
        "id": "6xx41t2W3gJf",
        "colab_type": "code",
        "outputId": "88ed6410-4387-4695-84ff-cae21cb5cda2",
        "colab": {
          "base_uri": "https://localhost:8080/",
          "height": 206
        }
      },
      "source": [
        "df.head()"
      ],
      "execution_count": 294,
      "outputs": [
        {
          "output_type": "execute_result",
          "data": {
            "text/html": [
              "<div>\n",
              "<style scoped>\n",
              "    .dataframe tbody tr th:only-of-type {\n",
              "        vertical-align: middle;\n",
              "    }\n",
              "\n",
              "    .dataframe tbody tr th {\n",
              "        vertical-align: top;\n",
              "    }\n",
              "\n",
              "    .dataframe thead th {\n",
              "        text-align: right;\n",
              "    }\n",
              "</style>\n",
              "<table border=\"1\" class=\"dataframe\">\n",
              "  <thead>\n",
              "    <tr style=\"text-align: right;\">\n",
              "      <th></th>\n",
              "      <th>country</th>\n",
              "      <th>beer_servings</th>\n",
              "      <th>spirit_servings</th>\n",
              "      <th>wine_servings</th>\n",
              "      <th>total_litres_of_pure_alcohol</th>\n",
              "      <th>drinks_alcohol</th>\n",
              "      <th>name</th>\n",
              "      <th>region</th>\n",
              "      <th>sub-region</th>\n",
              "    </tr>\n",
              "  </thead>\n",
              "  <tbody>\n",
              "    <tr>\n",
              "      <th>0</th>\n",
              "      <td>Afghanistan</td>\n",
              "      <td>0</td>\n",
              "      <td>0</td>\n",
              "      <td>0</td>\n",
              "      <td>0.0</td>\n",
              "      <td>none</td>\n",
              "      <td>Afghanistan</td>\n",
              "      <td>Asia</td>\n",
              "      <td>Southern Asia</td>\n",
              "    </tr>\n",
              "    <tr>\n",
              "      <th>1</th>\n",
              "      <td>Albania</td>\n",
              "      <td>89</td>\n",
              "      <td>132</td>\n",
              "      <td>54</td>\n",
              "      <td>4.9</td>\n",
              "      <td>low</td>\n",
              "      <td>Åland Islands</td>\n",
              "      <td>Europe</td>\n",
              "      <td>Northern Europe</td>\n",
              "    </tr>\n",
              "    <tr>\n",
              "      <th>2</th>\n",
              "      <td>Algeria</td>\n",
              "      <td>25</td>\n",
              "      <td>0</td>\n",
              "      <td>14</td>\n",
              "      <td>0.7</td>\n",
              "      <td>low</td>\n",
              "      <td>Albania</td>\n",
              "      <td>Europe</td>\n",
              "      <td>Southern Europe</td>\n",
              "    </tr>\n",
              "    <tr>\n",
              "      <th>3</th>\n",
              "      <td>Andorra</td>\n",
              "      <td>245</td>\n",
              "      <td>138</td>\n",
              "      <td>312</td>\n",
              "      <td>12.4</td>\n",
              "      <td>high</td>\n",
              "      <td>Algeria</td>\n",
              "      <td>Africa</td>\n",
              "      <td>Northern Africa</td>\n",
              "    </tr>\n",
              "    <tr>\n",
              "      <th>4</th>\n",
              "      <td>Angola</td>\n",
              "      <td>217</td>\n",
              "      <td>57</td>\n",
              "      <td>45</td>\n",
              "      <td>5.9</td>\n",
              "      <td>low</td>\n",
              "      <td>American Samoa</td>\n",
              "      <td>Oceania</td>\n",
              "      <td>Polynesia</td>\n",
              "    </tr>\n",
              "  </tbody>\n",
              "</table>\n",
              "</div>"
            ],
            "text/plain": [
              "       country  beer_servings  ...   region       sub-region\n",
              "0  Afghanistan              0  ...     Asia    Southern Asia\n",
              "1      Albania             89  ...   Europe  Northern Europe\n",
              "2      Algeria             25  ...   Europe  Southern Europe\n",
              "3      Andorra            245  ...   Africa  Northern Africa\n",
              "4       Angola            217  ...  Oceania        Polynesia\n",
              "\n",
              "[5 rows x 9 columns]"
            ]
          },
          "metadata": {
            "tags": []
          },
          "execution_count": 294
        }
      ]
    },
    {
      "cell_type": "code",
      "metadata": {
        "id": "Duh9AInJ9oKT",
        "colab_type": "code",
        "colab": {}
      },
      "source": [
        "drinks.at[184, 'country'] = 'United States of America'"
      ],
      "execution_count": 0,
      "outputs": []
    },
    {
      "cell_type": "code",
      "metadata": {
        "id": "q5La8jkh5ZHj",
        "colab_type": "code",
        "outputId": "883c96e2-7b66-41cb-845b-45aebafb2055",
        "colab": {
          "base_uri": "https://localhost:8080/",
          "height": 363
        }
      },
      "source": [
        "df = pd.merge(drinks, countries[['name', 'region', 'sub-region']], how='left', left_on='country', right_on='name')\n",
        "df.head(10)"
      ],
      "execution_count": 296,
      "outputs": [
        {
          "output_type": "execute_result",
          "data": {
            "text/html": [
              "<div>\n",
              "<style scoped>\n",
              "    .dataframe tbody tr th:only-of-type {\n",
              "        vertical-align: middle;\n",
              "    }\n",
              "\n",
              "    .dataframe tbody tr th {\n",
              "        vertical-align: top;\n",
              "    }\n",
              "\n",
              "    .dataframe thead th {\n",
              "        text-align: right;\n",
              "    }\n",
              "</style>\n",
              "<table border=\"1\" class=\"dataframe\">\n",
              "  <thead>\n",
              "    <tr style=\"text-align: right;\">\n",
              "      <th></th>\n",
              "      <th>country</th>\n",
              "      <th>beer_servings</th>\n",
              "      <th>spirit_servings</th>\n",
              "      <th>wine_servings</th>\n",
              "      <th>total_litres_of_pure_alcohol</th>\n",
              "      <th>drinks_alcohol</th>\n",
              "      <th>name</th>\n",
              "      <th>region</th>\n",
              "      <th>sub-region</th>\n",
              "    </tr>\n",
              "  </thead>\n",
              "  <tbody>\n",
              "    <tr>\n",
              "      <th>0</th>\n",
              "      <td>Afghanistan</td>\n",
              "      <td>0</td>\n",
              "      <td>0</td>\n",
              "      <td>0</td>\n",
              "      <td>0.0</td>\n",
              "      <td>none</td>\n",
              "      <td>Afghanistan</td>\n",
              "      <td>Asia</td>\n",
              "      <td>Southern Asia</td>\n",
              "    </tr>\n",
              "    <tr>\n",
              "      <th>1</th>\n",
              "      <td>Albania</td>\n",
              "      <td>89</td>\n",
              "      <td>132</td>\n",
              "      <td>54</td>\n",
              "      <td>4.9</td>\n",
              "      <td>low</td>\n",
              "      <td>Albania</td>\n",
              "      <td>Europe</td>\n",
              "      <td>Southern Europe</td>\n",
              "    </tr>\n",
              "    <tr>\n",
              "      <th>2</th>\n",
              "      <td>Algeria</td>\n",
              "      <td>25</td>\n",
              "      <td>0</td>\n",
              "      <td>14</td>\n",
              "      <td>0.7</td>\n",
              "      <td>low</td>\n",
              "      <td>Algeria</td>\n",
              "      <td>Africa</td>\n",
              "      <td>Northern Africa</td>\n",
              "    </tr>\n",
              "    <tr>\n",
              "      <th>3</th>\n",
              "      <td>Andorra</td>\n",
              "      <td>245</td>\n",
              "      <td>138</td>\n",
              "      <td>312</td>\n",
              "      <td>12.4</td>\n",
              "      <td>high</td>\n",
              "      <td>Andorra</td>\n",
              "      <td>Europe</td>\n",
              "      <td>Southern Europe</td>\n",
              "    </tr>\n",
              "    <tr>\n",
              "      <th>4</th>\n",
              "      <td>Angola</td>\n",
              "      <td>217</td>\n",
              "      <td>57</td>\n",
              "      <td>45</td>\n",
              "      <td>5.9</td>\n",
              "      <td>low</td>\n",
              "      <td>Angola</td>\n",
              "      <td>Africa</td>\n",
              "      <td>Sub-Saharan Africa</td>\n",
              "    </tr>\n",
              "    <tr>\n",
              "      <th>5</th>\n",
              "      <td>Antigua &amp; Barbuda</td>\n",
              "      <td>102</td>\n",
              "      <td>128</td>\n",
              "      <td>45</td>\n",
              "      <td>4.9</td>\n",
              "      <td>low</td>\n",
              "      <td>NaN</td>\n",
              "      <td>NaN</td>\n",
              "      <td>NaN</td>\n",
              "    </tr>\n",
              "    <tr>\n",
              "      <th>6</th>\n",
              "      <td>Argentina</td>\n",
              "      <td>193</td>\n",
              "      <td>25</td>\n",
              "      <td>221</td>\n",
              "      <td>8.3</td>\n",
              "      <td>medium</td>\n",
              "      <td>Argentina</td>\n",
              "      <td>Americas</td>\n",
              "      <td>Latin America and the Caribbean</td>\n",
              "    </tr>\n",
              "    <tr>\n",
              "      <th>7</th>\n",
              "      <td>Armenia</td>\n",
              "      <td>21</td>\n",
              "      <td>179</td>\n",
              "      <td>11</td>\n",
              "      <td>3.8</td>\n",
              "      <td>low</td>\n",
              "      <td>Armenia</td>\n",
              "      <td>Asia</td>\n",
              "      <td>Western Asia</td>\n",
              "    </tr>\n",
              "    <tr>\n",
              "      <th>8</th>\n",
              "      <td>Australia</td>\n",
              "      <td>261</td>\n",
              "      <td>72</td>\n",
              "      <td>212</td>\n",
              "      <td>10.4</td>\n",
              "      <td>high</td>\n",
              "      <td>Australia</td>\n",
              "      <td>Oceania</td>\n",
              "      <td>Australia and New Zealand</td>\n",
              "    </tr>\n",
              "    <tr>\n",
              "      <th>9</th>\n",
              "      <td>Austria</td>\n",
              "      <td>279</td>\n",
              "      <td>75</td>\n",
              "      <td>191</td>\n",
              "      <td>9.7</td>\n",
              "      <td>high</td>\n",
              "      <td>Austria</td>\n",
              "      <td>Europe</td>\n",
              "      <td>Western Europe</td>\n",
              "    </tr>\n",
              "  </tbody>\n",
              "</table>\n",
              "</div>"
            ],
            "text/plain": [
              "             country  beer_servings  ...    region                       sub-region\n",
              "0        Afghanistan              0  ...      Asia                    Southern Asia\n",
              "1            Albania             89  ...    Europe                  Southern Europe\n",
              "2            Algeria             25  ...    Africa                  Northern Africa\n",
              "3            Andorra            245  ...    Europe                  Southern Europe\n",
              "4             Angola            217  ...    Africa               Sub-Saharan Africa\n",
              "5  Antigua & Barbuda            102  ...       NaN                              NaN\n",
              "6          Argentina            193  ...  Americas  Latin America and the Caribbean\n",
              "7            Armenia             21  ...      Asia                     Western Asia\n",
              "8          Australia            261  ...   Oceania        Australia and New Zealand\n",
              "9            Austria            279  ...    Europe                   Western Europe\n",
              "\n",
              "[10 rows x 9 columns]"
            ]
          },
          "metadata": {
            "tags": []
          },
          "execution_count": 296
        }
      ]
    },
    {
      "cell_type": "code",
      "metadata": {
        "id": "qz6RGKrR5ZTZ",
        "colab_type": "code",
        "outputId": "abd5c0c9-a8d2-4afa-c2bf-9e5c556ee1b7",
        "colab": {
          "base_uri": "https://localhost:8080/",
          "height": 279
        }
      },
      "source": [
        "df.info()"
      ],
      "execution_count": 297,
      "outputs": [
        {
          "output_type": "stream",
          "text": [
            "<class 'pandas.core.frame.DataFrame'>\n",
            "Int64Index: 193 entries, 0 to 192\n",
            "Data columns (total 9 columns):\n",
            "country                         193 non-null object\n",
            "beer_servings                   193 non-null int64\n",
            "spirit_servings                 193 non-null int64\n",
            "wine_servings                   193 non-null int64\n",
            "total_litres_of_pure_alcohol    193 non-null float64\n",
            "drinks_alcohol                  193 non-null object\n",
            "name                            168 non-null object\n",
            "region                          168 non-null object\n",
            "sub-region                      168 non-null object\n",
            "dtypes: float64(1), int64(3), object(5)\n",
            "memory usage: 15.1+ KB\n"
          ],
          "name": "stdout"
        }
      ]
    },
    {
      "cell_type": "code",
      "metadata": {
        "id": "sn9v-Wwt5ZjT",
        "colab_type": "code",
        "outputId": "26ddc8e1-c92b-4b2f-aa5c-7499c9802a25",
        "colab": {
          "base_uri": "https://localhost:8080/",
          "height": 204
        }
      },
      "source": [
        "df.isna().sum()"
      ],
      "execution_count": 298,
      "outputs": [
        {
          "output_type": "execute_result",
          "data": {
            "text/plain": [
              "country                          0\n",
              "beer_servings                    0\n",
              "spirit_servings                  0\n",
              "wine_servings                    0\n",
              "total_litres_of_pure_alcohol     0\n",
              "drinks_alcohol                   0\n",
              "name                            25\n",
              "region                          25\n",
              "sub-region                      25\n",
              "dtype: int64"
            ]
          },
          "metadata": {
            "tags": []
          },
          "execution_count": 298
        }
      ]
    },
    {
      "cell_type": "code",
      "metadata": {
        "id": "U5o5lET65Ztc",
        "colab_type": "code",
        "outputId": "55d182ed-afff-46b3-e52e-e32feb956642",
        "colab": {
          "base_uri": "https://localhost:8080/",
          "height": 833
        }
      },
      "source": [
        "df[df['region'].isna()]"
      ],
      "execution_count": 299,
      "outputs": [
        {
          "output_type": "execute_result",
          "data": {
            "text/html": [
              "<div>\n",
              "<style scoped>\n",
              "    .dataframe tbody tr th:only-of-type {\n",
              "        vertical-align: middle;\n",
              "    }\n",
              "\n",
              "    .dataframe tbody tr th {\n",
              "        vertical-align: top;\n",
              "    }\n",
              "\n",
              "    .dataframe thead th {\n",
              "        text-align: right;\n",
              "    }\n",
              "</style>\n",
              "<table border=\"1\" class=\"dataframe\">\n",
              "  <thead>\n",
              "    <tr style=\"text-align: right;\">\n",
              "      <th></th>\n",
              "      <th>country</th>\n",
              "      <th>beer_servings</th>\n",
              "      <th>spirit_servings</th>\n",
              "      <th>wine_servings</th>\n",
              "      <th>total_litres_of_pure_alcohol</th>\n",
              "      <th>drinks_alcohol</th>\n",
              "      <th>name</th>\n",
              "      <th>region</th>\n",
              "      <th>sub-region</th>\n",
              "    </tr>\n",
              "  </thead>\n",
              "  <tbody>\n",
              "    <tr>\n",
              "      <th>5</th>\n",
              "      <td>Antigua &amp; Barbuda</td>\n",
              "      <td>102</td>\n",
              "      <td>128</td>\n",
              "      <td>45</td>\n",
              "      <td>4.9</td>\n",
              "      <td>low</td>\n",
              "      <td>NaN</td>\n",
              "      <td>NaN</td>\n",
              "      <td>NaN</td>\n",
              "    </tr>\n",
              "    <tr>\n",
              "      <th>20</th>\n",
              "      <td>Bolivia</td>\n",
              "      <td>167</td>\n",
              "      <td>41</td>\n",
              "      <td>8</td>\n",
              "      <td>3.8</td>\n",
              "      <td>low</td>\n",
              "      <td>NaN</td>\n",
              "      <td>NaN</td>\n",
              "      <td>NaN</td>\n",
              "    </tr>\n",
              "    <tr>\n",
              "      <th>21</th>\n",
              "      <td>Bosnia-Herzegovina</td>\n",
              "      <td>76</td>\n",
              "      <td>173</td>\n",
              "      <td>8</td>\n",
              "      <td>4.6</td>\n",
              "      <td>low</td>\n",
              "      <td>NaN</td>\n",
              "      <td>NaN</td>\n",
              "      <td>NaN</td>\n",
              "    </tr>\n",
              "    <tr>\n",
              "      <th>24</th>\n",
              "      <td>Brunei</td>\n",
              "      <td>31</td>\n",
              "      <td>2</td>\n",
              "      <td>1</td>\n",
              "      <td>0.6</td>\n",
              "      <td>low</td>\n",
              "      <td>NaN</td>\n",
              "      <td>NaN</td>\n",
              "      <td>NaN</td>\n",
              "    </tr>\n",
              "    <tr>\n",
              "      <th>28</th>\n",
              "      <td>Cote d'Ivoire</td>\n",
              "      <td>37</td>\n",
              "      <td>1</td>\n",
              "      <td>7</td>\n",
              "      <td>4.0</td>\n",
              "      <td>low</td>\n",
              "      <td>NaN</td>\n",
              "      <td>NaN</td>\n",
              "      <td>NaN</td>\n",
              "    </tr>\n",
              "    <tr>\n",
              "      <th>45</th>\n",
              "      <td>Czech Republic</td>\n",
              "      <td>361</td>\n",
              "      <td>170</td>\n",
              "      <td>134</td>\n",
              "      <td>11.8</td>\n",
              "      <td>high</td>\n",
              "      <td>NaN</td>\n",
              "      <td>NaN</td>\n",
              "      <td>NaN</td>\n",
              "    </tr>\n",
              "    <tr>\n",
              "      <th>46</th>\n",
              "      <td>North Korea</td>\n",
              "      <td>0</td>\n",
              "      <td>0</td>\n",
              "      <td>0</td>\n",
              "      <td>0.0</td>\n",
              "      <td>none</td>\n",
              "      <td>NaN</td>\n",
              "      <td>NaN</td>\n",
              "      <td>NaN</td>\n",
              "    </tr>\n",
              "    <tr>\n",
              "      <th>47</th>\n",
              "      <td>DR Congo</td>\n",
              "      <td>32</td>\n",
              "      <td>3</td>\n",
              "      <td>1</td>\n",
              "      <td>2.3</td>\n",
              "      <td>low</td>\n",
              "      <td>NaN</td>\n",
              "      <td>NaN</td>\n",
              "      <td>NaN</td>\n",
              "    </tr>\n",
              "    <tr>\n",
              "      <th>79</th>\n",
              "      <td>Iran</td>\n",
              "      <td>0</td>\n",
              "      <td>0</td>\n",
              "      <td>0</td>\n",
              "      <td>0.0</td>\n",
              "      <td>none</td>\n",
              "      <td>NaN</td>\n",
              "      <td>NaN</td>\n",
              "      <td>NaN</td>\n",
              "    </tr>\n",
              "    <tr>\n",
              "      <th>92</th>\n",
              "      <td>Laos</td>\n",
              "      <td>62</td>\n",
              "      <td>0</td>\n",
              "      <td>123</td>\n",
              "      <td>6.2</td>\n",
              "      <td>medium</td>\n",
              "      <td>NaN</td>\n",
              "      <td>NaN</td>\n",
              "      <td>NaN</td>\n",
              "    </tr>\n",
              "    <tr>\n",
              "      <th>110</th>\n",
              "      <td>Micronesia</td>\n",
              "      <td>62</td>\n",
              "      <td>50</td>\n",
              "      <td>18</td>\n",
              "      <td>2.3</td>\n",
              "      <td>low</td>\n",
              "      <td>NaN</td>\n",
              "      <td>NaN</td>\n",
              "      <td>NaN</td>\n",
              "    </tr>\n",
              "    <tr>\n",
              "      <th>138</th>\n",
              "      <td>South Korea</td>\n",
              "      <td>140</td>\n",
              "      <td>16</td>\n",
              "      <td>9</td>\n",
              "      <td>9.8</td>\n",
              "      <td>high</td>\n",
              "      <td>NaN</td>\n",
              "      <td>NaN</td>\n",
              "      <td>NaN</td>\n",
              "    </tr>\n",
              "    <tr>\n",
              "      <th>139</th>\n",
              "      <td>Moldova</td>\n",
              "      <td>109</td>\n",
              "      <td>226</td>\n",
              "      <td>18</td>\n",
              "      <td>6.3</td>\n",
              "      <td>medium</td>\n",
              "      <td>NaN</td>\n",
              "      <td>NaN</td>\n",
              "      <td>NaN</td>\n",
              "    </tr>\n",
              "    <tr>\n",
              "      <th>143</th>\n",
              "      <td>St. Kitts &amp; Nevis</td>\n",
              "      <td>194</td>\n",
              "      <td>205</td>\n",
              "      <td>32</td>\n",
              "      <td>7.7</td>\n",
              "      <td>medium</td>\n",
              "      <td>NaN</td>\n",
              "      <td>NaN</td>\n",
              "      <td>NaN</td>\n",
              "    </tr>\n",
              "    <tr>\n",
              "      <th>144</th>\n",
              "      <td>St. Lucia</td>\n",
              "      <td>171</td>\n",
              "      <td>315</td>\n",
              "      <td>71</td>\n",
              "      <td>10.1</td>\n",
              "      <td>high</td>\n",
              "      <td>NaN</td>\n",
              "      <td>NaN</td>\n",
              "      <td>NaN</td>\n",
              "    </tr>\n",
              "    <tr>\n",
              "      <th>145</th>\n",
              "      <td>St. Vincent &amp; the Grenadines</td>\n",
              "      <td>120</td>\n",
              "      <td>221</td>\n",
              "      <td>11</td>\n",
              "      <td>6.3</td>\n",
              "      <td>medium</td>\n",
              "      <td>NaN</td>\n",
              "      <td>NaN</td>\n",
              "      <td>NaN</td>\n",
              "    </tr>\n",
              "    <tr>\n",
              "      <th>148</th>\n",
              "      <td>Sao Tome &amp; Principe</td>\n",
              "      <td>56</td>\n",
              "      <td>38</td>\n",
              "      <td>140</td>\n",
              "      <td>4.2</td>\n",
              "      <td>low</td>\n",
              "      <td>NaN</td>\n",
              "      <td>NaN</td>\n",
              "      <td>NaN</td>\n",
              "    </tr>\n",
              "    <tr>\n",
              "      <th>164</th>\n",
              "      <td>Swaziland</td>\n",
              "      <td>90</td>\n",
              "      <td>2</td>\n",
              "      <td>2</td>\n",
              "      <td>4.7</td>\n",
              "      <td>low</td>\n",
              "      <td>NaN</td>\n",
              "      <td>NaN</td>\n",
              "      <td>NaN</td>\n",
              "    </tr>\n",
              "    <tr>\n",
              "      <th>167</th>\n",
              "      <td>Syria</td>\n",
              "      <td>5</td>\n",
              "      <td>35</td>\n",
              "      <td>16</td>\n",
              "      <td>1.0</td>\n",
              "      <td>low</td>\n",
              "      <td>NaN</td>\n",
              "      <td>NaN</td>\n",
              "      <td>NaN</td>\n",
              "    </tr>\n",
              "    <tr>\n",
              "      <th>170</th>\n",
              "      <td>Macedonia</td>\n",
              "      <td>106</td>\n",
              "      <td>27</td>\n",
              "      <td>86</td>\n",
              "      <td>3.9</td>\n",
              "      <td>low</td>\n",
              "      <td>NaN</td>\n",
              "      <td>NaN</td>\n",
              "      <td>NaN</td>\n",
              "    </tr>\n",
              "    <tr>\n",
              "      <th>174</th>\n",
              "      <td>Trinidad &amp; Tobago</td>\n",
              "      <td>197</td>\n",
              "      <td>156</td>\n",
              "      <td>7</td>\n",
              "      <td>6.4</td>\n",
              "      <td>medium</td>\n",
              "      <td>NaN</td>\n",
              "      <td>NaN</td>\n",
              "      <td>NaN</td>\n",
              "    </tr>\n",
              "    <tr>\n",
              "      <th>182</th>\n",
              "      <td>United Kingdom</td>\n",
              "      <td>219</td>\n",
              "      <td>126</td>\n",
              "      <td>195</td>\n",
              "      <td>10.4</td>\n",
              "      <td>high</td>\n",
              "      <td>NaN</td>\n",
              "      <td>NaN</td>\n",
              "      <td>NaN</td>\n",
              "    </tr>\n",
              "    <tr>\n",
              "      <th>183</th>\n",
              "      <td>Tanzania</td>\n",
              "      <td>36</td>\n",
              "      <td>6</td>\n",
              "      <td>1</td>\n",
              "      <td>5.7</td>\n",
              "      <td>low</td>\n",
              "      <td>NaN</td>\n",
              "      <td>NaN</td>\n",
              "      <td>NaN</td>\n",
              "    </tr>\n",
              "    <tr>\n",
              "      <th>188</th>\n",
              "      <td>Venezuela</td>\n",
              "      <td>333</td>\n",
              "      <td>100</td>\n",
              "      <td>3</td>\n",
              "      <td>7.7</td>\n",
              "      <td>medium</td>\n",
              "      <td>NaN</td>\n",
              "      <td>NaN</td>\n",
              "      <td>NaN</td>\n",
              "    </tr>\n",
              "    <tr>\n",
              "      <th>189</th>\n",
              "      <td>Vietnam</td>\n",
              "      <td>111</td>\n",
              "      <td>2</td>\n",
              "      <td>1</td>\n",
              "      <td>2.0</td>\n",
              "      <td>low</td>\n",
              "      <td>NaN</td>\n",
              "      <td>NaN</td>\n",
              "      <td>NaN</td>\n",
              "    </tr>\n",
              "  </tbody>\n",
              "</table>\n",
              "</div>"
            ],
            "text/plain": [
              "                          country  beer_servings  ...  region  sub-region\n",
              "5               Antigua & Barbuda            102  ...     NaN         NaN\n",
              "20                        Bolivia            167  ...     NaN         NaN\n",
              "21             Bosnia-Herzegovina             76  ...     NaN         NaN\n",
              "24                         Brunei             31  ...     NaN         NaN\n",
              "28                  Cote d'Ivoire             37  ...     NaN         NaN\n",
              "45                 Czech Republic            361  ...     NaN         NaN\n",
              "46                    North Korea              0  ...     NaN         NaN\n",
              "47                       DR Congo             32  ...     NaN         NaN\n",
              "79                           Iran              0  ...     NaN         NaN\n",
              "92                           Laos             62  ...     NaN         NaN\n",
              "110                    Micronesia             62  ...     NaN         NaN\n",
              "138                   South Korea            140  ...     NaN         NaN\n",
              "139                       Moldova            109  ...     NaN         NaN\n",
              "143             St. Kitts & Nevis            194  ...     NaN         NaN\n",
              "144                     St. Lucia            171  ...     NaN         NaN\n",
              "145  St. Vincent & the Grenadines            120  ...     NaN         NaN\n",
              "148           Sao Tome & Principe             56  ...     NaN         NaN\n",
              "164                     Swaziland             90  ...     NaN         NaN\n",
              "167                         Syria              5  ...     NaN         NaN\n",
              "170                     Macedonia            106  ...     NaN         NaN\n",
              "174             Trinidad & Tobago            197  ...     NaN         NaN\n",
              "182                United Kingdom            219  ...     NaN         NaN\n",
              "183                      Tanzania             36  ...     NaN         NaN\n",
              "188                     Venezuela            333  ...     NaN         NaN\n",
              "189                       Vietnam            111  ...     NaN         NaN\n",
              "\n",
              "[25 rows x 9 columns]"
            ]
          },
          "metadata": {
            "tags": []
          },
          "execution_count": 299
        }
      ]
    },
    {
      "cell_type": "code",
      "metadata": {
        "id": "IVvWKlsZ8PRl",
        "colab_type": "code",
        "outputId": "44dd2f70-a20e-4b65-d552-dbe6e37466ad",
        "colab": {
          "base_uri": "https://localhost:8080/",
          "height": 148
        }
      },
      "source": [
        "drinks.iloc[184]"
      ],
      "execution_count": 300,
      "outputs": [
        {
          "output_type": "execute_result",
          "data": {
            "text/plain": [
              "country                         United States of America\n",
              "beer_servings                                        249\n",
              "spirit_servings                                      158\n",
              "wine_servings                                         84\n",
              "total_litres_of_pure_alcohol                         8.7\n",
              "drinks_alcohol                                    medium\n",
              "Name: 184, dtype: object"
            ]
          },
          "metadata": {
            "tags": []
          },
          "execution_count": 300
        }
      ]
    },
    {
      "cell_type": "code",
      "metadata": {
        "id": "hy1GTWIY8Per",
        "colab_type": "code",
        "colab": {}
      },
      "source": [
        "#drinks['country'][184] = 'United States of America'"
      ],
      "execution_count": 0,
      "outputs": []
    },
    {
      "cell_type": "code",
      "metadata": {
        "id": "vkXmRVEl8xkA",
        "colab_type": "code",
        "outputId": "fef0da68-529f-4be5-d327-830f0666b45a",
        "colab": {
          "base_uri": "https://localhost:8080/",
          "height": 36
        }
      },
      "source": [
        "drinks['country'][184]"
      ],
      "execution_count": 302,
      "outputs": [
        {
          "output_type": "execute_result",
          "data": {
            "text/plain": [
              "'United States of America'"
            ]
          },
          "metadata": {
            "tags": []
          },
          "execution_count": 302
        }
      ]
    },
    {
      "cell_type": "code",
      "metadata": {
        "id": "FjQW1Slx8x2I",
        "colab_type": "code",
        "outputId": "7e5b72ac-2357-49f7-b737-4740f1344624",
        "colab": {
          "base_uri": "https://localhost:8080/",
          "height": 148
        }
      },
      "source": [
        "drinks.iloc[184]"
      ],
      "execution_count": 303,
      "outputs": [
        {
          "output_type": "execute_result",
          "data": {
            "text/plain": [
              "country                         United States of America\n",
              "beer_servings                                        249\n",
              "spirit_servings                                      158\n",
              "wine_servings                                         84\n",
              "total_litres_of_pure_alcohol                         8.7\n",
              "drinks_alcohol                                    medium\n",
              "Name: 184, dtype: object"
            ]
          },
          "metadata": {
            "tags": []
          },
          "execution_count": 303
        }
      ]
    },
    {
      "cell_type": "code",
      "metadata": {
        "id": "NSJMuwZs-gH9",
        "colab_type": "code",
        "outputId": "3be58a16-35a0-4b50-860f-8554871232d1",
        "colab": {
          "base_uri": "https://localhost:8080/",
          "height": 354
        }
      },
      "source": [
        "df['sub-region'].value_counts()"
      ],
      "execution_count": 304,
      "outputs": [
        {
          "output_type": "execute_result",
          "data": {
            "text/plain": [
              "Sub-Saharan Africa                 42\n",
              "Latin America and the Caribbean    26\n",
              "Western Asia                       16\n",
              "Southern Europe                    12\n",
              "Northern Europe                     9\n",
              "Western Europe                      8\n",
              "Southern Asia                       8\n",
              "Eastern Europe                      8\n",
              "South-eastern Asia                  8\n",
              "Northern Africa                     6\n",
              "Polynesia                           5\n",
              "Central Asia                        5\n",
              "Micronesia                          4\n",
              "Melanesia                           4\n",
              "Eastern Asia                        3\n",
              "Northern America                    2\n",
              "Australia and New Zealand           2\n",
              "Name: sub-region, dtype: int64"
            ]
          },
          "metadata": {
            "tags": []
          },
          "execution_count": 304
        }
      ]
    },
    {
      "cell_type": "code",
      "metadata": {
        "id": "xip5clgb-gXH",
        "colab_type": "code",
        "outputId": "e785f80c-fde9-422d-ac23-46b461bf5588",
        "colab": {
          "base_uri": "https://localhost:8080/",
          "height": 148
        }
      },
      "source": [
        "df.groupby('region').beer_servings.mean()"
      ],
      "execution_count": 305,
      "outputs": [
        {
          "output_type": "execute_result",
          "data": {
            "text/plain": [
              "region\n",
              "Africa       62.645833\n",
              "Americas    148.642857\n",
              "Asia         33.000000\n",
              "Europe      211.081081\n",
              "Oceania      91.533333\n",
              "Name: beer_servings, dtype: float64"
            ]
          },
          "metadata": {
            "tags": []
          },
          "execution_count": 305
        }
      ]
    },
    {
      "cell_type": "code",
      "metadata": {
        "id": "8HljVdCd-geZ",
        "colab_type": "code",
        "outputId": "83144d0e-3b17-4981-c73d-01ce21f022a0",
        "colab": {
          "base_uri": "https://localhost:8080/",
          "height": 505
        }
      },
      "source": [
        "df.groupby('sub-region').wine_servings.mean().plot(kind='bar', figsize=(12,5))\n",
        "plt.title('Avg Beer Serving by Region')\n",
        "plt.ylabel('Wine Servings')\n",
        "plt.show();\n"
      ],
      "execution_count": 306,
      "outputs": [
        {
          "output_type": "display_data",
          "data": {
            "image/png": "[encoded data removed]",
            "text/plain": [
              "<Figure size 864x360 with 1 Axes>"
            ]
          },
          "metadata": {
            "tags": []
          }
        }
      ]
    },
    {
      "cell_type": "code",
      "metadata": {
        "id": "dvnwkDSSAAFd",
        "colab_type": "code",
        "outputId": "2631c325-a8af-4174-9183-5bfd1048c5a2",
        "colab": {
          "base_uri": "https://localhost:8080/",
          "height": 420
        }
      },
      "source": [
        "df.boxplot(column='beer_servings', by='region', figsize=(10,6));"
      ],
      "execution_count": 307,
      "outputs": [
        {
          "output_type": "display_data",
          "data": {
            "image/png": "[encoded data removed]",
            "text/plain": [
              "<Figure size 720x432 with 1 Axes>"
            ]
          },
          "metadata": {
            "tags": []
          }
        }
      ]
    },
    {
      "cell_type": "code",
      "metadata": {
        "id": "dIKLm_reBBvm",
        "colab_type": "code",
        "colab": {}
      },
      "source": [
        "import seaborn as sns"
      ],
      "execution_count": 0,
      "outputs": []
    },
    {
      "cell_type": "code",
      "metadata": {
        "id": "ia9q4xT_Bo58",
        "colab_type": "code",
        "outputId": "45c7b39c-ef3c-44f3-c970-2f9686550c75",
        "colab": {
          "base_uri": "https://localhost:8080/",
          "height": 36
        }
      },
      "source": [
        "df = df.dropna(subset=['region'])\n",
        "df.shape"
      ],
      "execution_count": 309,
      "outputs": [
        {
          "output_type": "execute_result",
          "data": {
            "text/plain": [
              "(168, 9)"
            ]
          },
          "metadata": {
            "tags": []
          },
          "execution_count": 309
        }
      ]
    },
    {
      "cell_type": "code",
      "metadata": {
        "id": "DOmMomFDB3F_",
        "colab_type": "code",
        "outputId": "72a202c8-bba5-4d68-c489-1b6c74e824aa",
        "colab": {
          "base_uri": "https://localhost:8080/",
          "height": 647
        }
      },
      "source": [
        "from bokeh.io import output_file, show, output_notebook\n",
        "from bokeh.models import ColumnDataSource, HoverTool, CategoricalColorMapper\n",
        "from bokeh.palettes import d3\n",
        "from bokeh.plotting import figure\n",
        "from bokeh.transform import transform\n",
        "output_notebook()\n",
        "\n",
        "x = df.beer_servings.values\n",
        "y = df.wine_servings.values\n",
        "\n",
        "country = df.country\n",
        "region = df.region\n",
        "\n",
        "source = ColumnDataSource(data=dict(x=x, y=y, country=country, region=region))\n",
        "hover = HoverTool(tooltips=[\n",
        "    (\"index\", \"$index\"),\n",
        "    (\"(x,y)\", \"(@x, @y)\"),\n",
        "    ('country', '@country'),\n",
        "])\n",
        "palette = d3['Category10'][len(df['region'].unique())]\n",
        "mapper = CategoricalColorMapper(factors = df['region'].unique(), palette = palette)\n",
        "\n",
        "# create figure and plot\n",
        "p = figure(plot_width=600, plot_height=600, \n",
        "           tools=[hover, \"wheel_zoom\", \"box_zoom\", \"reset\"], \n",
        "           title=\"Beer and Wine Servings per Year by Country\")\n",
        "\n",
        "# create plot\n",
        "p.scatter(x='x', y='y', size=10, alpha=0.8,\n",
        "          color={'field': 'region', 'transform': mapper},\n",
        "          legend='region', \n",
        "          source=source)\n",
        "\n",
        "# add axis labels\n",
        "p.xaxis.axis_label = \"Beer Servings\"\n",
        "p.yaxis.axis_label = \"Wine Servings\"\n",
        "output_file('interactive_bokeh_plot.html')\n",
        "show(p)"
      ],
      "execution_count": 310,
      "outputs": [
        {
          "output_type": "display_data",
          "data": {
            "text/html": [
              "\n",
              "    <div class=\"bk-root\">\n",
              "        <a href=\"https://bokeh.pydata.org\" target=\"_blank\" class=\"bk-logo bk-logo-small bk-logo-notebook\"></a>\n",
              "        <span id=\"1741\">Loading BokehJS ...</span>\n",
              "    </div>"
            ]
          },
          "metadata": {
            "tags": []
          }
        },
        {
          "output_type": "display_data",
          "data": {
            "application/javascript": [
              "\n",
              "(function(root) {\n",
              "  function now() {\n",
              "    return new Date();\n",
              "  }\n",
              "\n",
              "  var force = true;\n",
              "\n",
              "  if (typeof (root._bokeh_onload_callbacks) === \"undefined\" || force === true) {\n",
              "    root._bokeh_onload_callbacks = [];\n",
              "    root._bokeh_is_loading = undefined;\n",
              "  }\n",
              "\n",
              "  var JS_MIME_TYPE = 'application/javascript';\n",
              "  var HTML_MIME_TYPE = 'text/html';\n",
              "  var EXEC_MIME_TYPE = 'application/vnd.bokehjs_exec.v0+json';\n",
              "  var CLASS_NAME = 'output_bokeh rendered_html';\n",
              "\n",
              "  /**\n",
              "   * Render data to the DOM node\n",
              "   */\n",
              "  function render(props, node) {\n",
              "    var script = document.createElement(\"script\");\n",
              "    node.appendChild(script);\n",
              "  }\n",
              "\n",
              "  /**\n",
              "   * Handle when an output is cleared or removed\n",
              "   */\n",
              "  function handleClearOutput(event, handle) {\n",
              "    var cell = handle.cell;\n",
              "\n",
              "    var id = cell.output_area._bokeh_element_id;\n",
              "    var server_id = cell.output_area._bokeh_server_id;\n",
              "    // Clean up Bokeh references\n",
              "    if (id != null && id in Bokeh.index) {\n",
              "      Bokeh.index[id].model.document.clear();\n",
              "      delete Bokeh.index[id];\n",
              "    }\n",
              "\n",
              "    if (server_id !== undefined) {\n",
              "      // Clean up Bokeh references\n",
              "      var cmd = \"from bokeh.io.state import curstate; print(curstate().uuid_to_server['\" + server_id + \"'].get_sessions()[0].document.roots[0]._id)\";\n",
              "      cell.notebook.kernel.execute(cmd, {\n",
              "        iopub: {\n",
              "          output: function(msg) {\n",
              "            var id = msg.content.text.trim();\n",
              "            if (id in Bokeh.index) {\n",
              "              Bokeh.index[id].model.document.clear();\n",
              "              delete Bokeh.index[id];\n",
              "            }\n",
              "          }\n",
              "        }\n",
              "      });\n",
              "      // Destroy server and session\n",
              "      var cmd = \"import bokeh.io.notebook as ion; ion.destroy_server('\" + server_id + \"')\";\n",
              "      cell.notebook.kernel.execute(cmd);\n",
              "    }\n",
              "  }\n",
              "\n",
              "  /**\n",
              "   * Handle when a new output is added\n",
              "   */\n",
              "  function handleAddOutput(event, handle) {\n",
              "    var output_area = handle.output_area;\n",
              "    var output = handle.output;\n",
              "\n",
              "    // limit handleAddOutput to display_data with EXEC_MIME_TYPE content only\n",
              "    if ((output.output_type != \"display_data\") || (!output.data.hasOwnProperty(EXEC_MIME_TYPE))) {\n",
              "      return\n",
              "    }\n",
              "\n",
              "    var toinsert = output_area.element.find(\".\" + CLASS_NAME.split(' ')[0]);\n",
              "\n",
              "    if (output.metadata[EXEC_MIME_TYPE][\"id\"] !== undefined) {\n",
              "      toinsert[toinsert.length - 1].firstChild.textContent = output.data[JS_MIME_TYPE];\n",
              "      // store reference to embed id on output_area\n",
              "      output_area._bokeh_element_id = output.metadata[EXEC_MIME_TYPE][\"id\"];\n",
              "    }\n",
              "    if (output.metadata[EXEC_MIME_TYPE][\"server_id\"] !== undefined) {\n",
              "      var bk_div = document.createElement(\"div\");\n",
              "      bk_div.innerHTML = output.data[HTML_MIME_TYPE];\n",
              "      var script_attrs = bk_div.children[0].attributes;\n",
              "      for (var i = 0; i < script_attrs.length; i++) {\n",
              "        toinsert[toinsert.length - 1].firstChild.setAttribute(script_attrs[i].name, script_attrs[i].value);\n",
              "      }\n",
              "      // store reference to server id on output_area\n",
              "      output_area._bokeh_server_id = output.metadata[EXEC_MIME_TYPE][\"server_id\"];\n",
              "    }\n",
              "  }\n",
              "\n",
              "  function register_renderer(events, OutputArea) {\n",
              "\n",
              "    function append_mime(data, metadata, element) {\n",
              "      // create a DOM node to render to\n",
              "      var toinsert = this.create_output_subarea(\n",
              "        metadata,\n",
              "        CLASS_NAME,\n",
              "        EXEC_MIME_TYPE\n",
              "      );\n",
              "      this.keyboard_manager.register_events(toinsert);\n",
              "      // Render to node\n",
              "      var props = {data: data, metadata: metadata[EXEC_MIME_TYPE]};\n",
              "      render(props, toinsert[toinsert.length - 1]);\n",
              "      element.append(toinsert);\n",
              "      return toinsert\n",
              "    }\n",
              "\n",
              "    /* Handle when an output is cleared or removed */\n",
              "    events.on('clear_output.CodeCell', handleClearOutput);\n",
              "    events.on('delete.Cell', handleClearOutput);\n",
              "\n",
              "    /* Handle when a new output is added */\n",
              "    events.on('output_added.OutputArea', handleAddOutput);\n",
              "\n",
              "    /**\n",
              "     * Register the mime type and append_mime function with output_area\n",
              "     */\n",
              "    OutputArea.prototype.register_mime_type(EXEC_MIME_TYPE, append_mime, {\n",
              "      /* Is output safe? */\n",
              "      safe: true,\n",
              "      /* Index of renderer in `output_area.display_order` */\n",
              "      index: 0\n",
              "    });\n",
              "  }\n",
              "\n",
              "  // register the mime type if in Jupyter Notebook environment and previously unregistered\n",
              "  if (root.Jupyter !== undefined) {\n",
              "    var events = require('base/js/events');\n",
              "    var OutputArea = require('notebook/js/outputarea').OutputArea;\n",
              "\n",
              "    if (OutputArea.prototype.mime_types().indexOf(EXEC_MIME_TYPE) == -1) {\n",
              "      register_renderer(events, OutputArea);\n",
              "    }\n",
              "  }\n",
              "\n",
              "  \n",
              "  if (typeof (root._bokeh_timeout) === \"undefined\" || force === true) {\n",
              "    root._bokeh_timeout = Date.now() + 5000;\n",
              "    root._bokeh_failed_load = false;\n",
              "  }\n",
              "\n",
              "  var NB_LOAD_WARNING = {'data': {'text/html':\n",
              "     \"<div style='background-color: #fdd'>\\n\"+\n",
              "     \"<p>\\n\"+\n",
              "     \"BokehJS does not appear to have successfully loaded. If loading BokehJS from CDN, this \\n\"+\n",
              "     \"may be due to a slow or bad network connection. Possible fixes:\\n\"+\n",
              "     \"</p>\\n\"+\n",
              "     \"<ul>\\n\"+\n",
              "     \"<li>re-rerun `output_notebook()` to attempt to load from CDN again, or</li>\\n\"+\n",
              "     \"<li>use INLINE resources instead, as so:</li>\\n\"+\n",
              "     \"</ul>\\n\"+\n",
              "     \"<code>\\n\"+\n",
              "     \"from bokeh.resources import INLINE\\n\"+\n",
              "     \"output_notebook(resources=INLINE)\\n\"+\n",
              "     \"</code>\\n\"+\n",
              "     \"</div>\"}};\n",
              "\n",
              "  function display_loaded() {\n",
              "    var el = document.getElementById(\"1741\");\n",
              "    if (el != null) {\n",
              "      el.textContent = \"BokehJS is loading...\";\n",
              "    }\n",
              "    if (root.Bokeh !== undefined) {\n",
              "      if (el != null) {\n",
              "        el.textContent = \"BokehJS \" + root.Bokeh.version + \" successfully loaded.\";\n",
              "      }\n",
              "    } else if (Date.now() < root._bokeh_timeout) {\n",
              "      setTimeout(display_loaded, 100)\n",
              "    }\n",
              "  }\n",
              "\n",
              "\n",
              "  function run_callbacks() {\n",
              "    try {\n",
              "      root._bokeh_onload_callbacks.forEach(function(callback) { callback() });\n",
              "    }\n",
              "    finally {\n",
              "      delete root._bokeh_onload_callbacks\n",
              "    }\n",
              "    console.info(\"Bokeh: all callbacks have finished\");\n",
              "  }\n",
              "\n",
              "  function load_libs(js_urls, callback) {\n",
              "    root._bokeh_onload_callbacks.push(callback);\n",
              "    if (root._bokeh_is_loading > 0) {\n",
              "      console.log(\"Bokeh: BokehJS is being loaded, scheduling callback at\", now());\n",
              "      return null;\n",
              "    }\n",
              "    if (js_urls == null || js_urls.length === 0) {\n",
              "      run_callbacks();\n",
              "      return null;\n",
              "    }\n",
              "    console.log(\"Bokeh: BokehJS not loaded, scheduling load and callback at\", now());\n",
              "    root._bokeh_is_loading = js_urls.length;\n",
              "    for (var i = 0; i < js_urls.length; i++) {\n",
              "      var url = js_urls[i];\n",
              "      var s = document.createElement('script');\n",
              "      s.src = url;\n",
              "      s.async = false;\n",
              "      s.onreadystatechange = s.onload = function() {\n",
              "        root._bokeh_is_loading--;\n",
              "        if (root._bokeh_is_loading === 0) {\n",
              "          console.log(\"Bokeh: all BokehJS libraries loaded\");\n",
              "          run_callbacks()\n",
              "        }\n",
              "      };\n",
              "      s.onerror = function() {\n",
              "        console.warn(\"failed to load library \" + url);\n",
              "      };\n",
              "      console.log(\"Bokeh: injecting script tag for BokehJS library: \", url);\n",
              "      document.getElementsByTagName(\"head\")[0].appendChild(s);\n",
              "    }\n",
              "  };var element = document.getElementById(\"1741\");\n",
              "  if (element == null) {\n",
              "    console.log(\"Bokeh: ERROR: autoload.js configured with elementid '1741' but no matching script tag was found. \")\n",
              "    return false;\n",
              "  }\n",
              "\n",
              "  var js_urls = [\"https://cdn.pydata.org/bokeh/release/bokeh-1.0.4.min.js\", \"https://cdn.pydata.org/bokeh/release/bokeh-widgets-1.0.4.min.js\", \"https://cdn.pydata.org/bokeh/release/bokeh-tables-1.0.4.min.js\", \"https://cdn.pydata.org/bokeh/release/bokeh-gl-1.0.4.min.js\"];\n",
              "\n",
              "  var inline_js = [\n",
              "    function(Bokeh) {\n",
              "      Bokeh.set_log_level(\"info\");\n",
              "    },\n",
              "    \n",
              "    function(Bokeh) {\n",
              "      \n",
              "    },\n",
              "    function(Bokeh) {\n",
              "      console.log(\"Bokeh: injecting CSS: https://cdn.pydata.org/bokeh/release/bokeh-1.0.4.min.css\");\n",
              "      Bokeh.embed.inject_css(\"https://cdn.pydata.org/bokeh/release/bokeh-1.0.4.min.css\");\n",
              "      console.log(\"Bokeh: injecting CSS: https://cdn.pydata.org/bokeh/release/bokeh-widgets-1.0.4.min.css\");\n",
              "      Bokeh.embed.inject_css(\"https://cdn.pydata.org/bokeh/release/bokeh-widgets-1.0.4.min.css\");\n",
              "      console.log(\"Bokeh: injecting CSS: https://cdn.pydata.org/bokeh/release/bokeh-tables-1.0.4.min.css\");\n",
              "      Bokeh.embed.inject_css(\"https://cdn.pydata.org/bokeh/release/bokeh-tables-1.0.4.min.css\");\n",
              "    }\n",
              "  ];\n",
              "\n",
              "  function run_inline_js() {\n",
              "    \n",
              "    if ((root.Bokeh !== undefined) || (force === true)) {\n",
              "      for (var i = 0; i < inline_js.length; i++) {\n",
              "        inline_js[i].call(root, root.Bokeh);\n",
              "      }if (force === true) {\n",
              "        display_loaded();\n",
              "      }} else if (Date.now() < root._bokeh_timeout) {\n",
              "      setTimeout(run_inline_js, 100);\n",
              "    } else if (!root._bokeh_failed_load) {\n",
              "      console.log(\"Bokeh: BokehJS failed to load within specified timeout.\");\n",
              "      root._bokeh_failed_load = true;\n",
              "    } else if (force !== true) {\n",
              "      var cell = $(document.getElementById(\"1741\")).parents('.cell').data().cell;\n",
              "      cell.output_area.append_execute_result(NB_LOAD_WARNING)\n",
              "    }\n",
              "\n",
              "  }\n",
              "\n",
              "  if (root._bokeh_is_loading === 0) {\n",
              "    console.log(\"Bokeh: BokehJS loaded, going straight to plotting\");\n",
              "    run_inline_js();\n",
              "  } else {\n",
              "    load_libs(js_urls, function() {\n",
              "      console.log(\"Bokeh: BokehJS plotting callback run at\", now());\n",
              "      run_inline_js();\n",
              "    });\n",
              "  }\n",
              "}(window));"
            ],
            "application/vnd.bokehjs_load.v0+json": "\n(function(root) {\n  function now() {\n    return new Date();\n  }\n\n  var force = true;\n\n  if (typeof (root._bokeh_onload_callbacks) === \"undefined\" || force === true) {\n    root._bokeh_onload_callbacks = [];\n    root._bokeh_is_loading = undefined;\n  }\n\n  \n\n  \n  if (typeof (root._bokeh_timeout) === \"undefined\" || force === true) {\n    root._bokeh_timeout = Date.now() + 5000;\n    root._bokeh_failed_load = false;\n  }\n\n  var NB_LOAD_WARNING = {'data': {'text/html':\n     \"<div style='background-color: #fdd'>\\n\"+\n     \"<p>\\n\"+\n     \"BokehJS does not appear to have successfully loaded. If loading BokehJS from CDN, this \\n\"+\n     \"may be due to a slow or bad network connection. Possible fixes:\\n\"+\n     \"</p>\\n\"+\n     \"<ul>\\n\"+\n     \"<li>re-rerun `output_notebook()` to attempt to load from CDN again, or</li>\\n\"+\n     \"<li>use INLINE resources instead, as so:</li>\\n\"+\n     \"</ul>\\n\"+\n     \"<code>\\n\"+\n     \"from bokeh.resources import INLINE\\n\"+\n     \"output_notebook(resources=INLINE)\\n\"+\n     \"</code>\\n\"+\n     \"</div>\"}};\n\n  function display_loaded() {\n    var el = document.getElementById(\"1741\");\n    if (el != null) {\n      el.textContent = \"BokehJS is loading...\";\n    }\n    if (root.Bokeh !== undefined) {\n      if (el != null) {\n        el.textContent = \"BokehJS \" + root.Bokeh.version + \" successfully loaded.\";\n      }\n    } else if (Date.now() < root._bokeh_timeout) {\n      setTimeout(display_loaded, 100)\n    }\n  }\n\n\n  function run_callbacks() {\n    try {\n      root._bokeh_onload_callbacks.forEach(function(callback) { callback() });\n    }\n    finally {\n      delete root._bokeh_onload_callbacks\n    }\n    console.info(\"Bokeh: all callbacks have finished\");\n  }\n\n  function load_libs(js_urls, callback) {\n    root._bokeh_onload_callbacks.push(callback);\n    if (root._bokeh_is_loading > 0) {\n      console.log(\"Bokeh: BokehJS is being loaded, scheduling callback at\", now());\n      return null;\n    }\n    if (js_urls == null || js_urls.length === 0) {\n      run_callbacks();\n      return null;\n    }\n    console.log(\"Bokeh: BokehJS not loaded, scheduling load and callback at\", now());\n    root._bokeh_is_loading = js_urls.length;\n    for (var i = 0; i < js_urls.length; i++) {\n      var url = js_urls[i];\n      var s = document.createElement('script');\n      s.src = url;\n      s.async = false;\n      s.onreadystatechange = s.onload = function() {\n        root._bokeh_is_loading--;\n        if (root._bokeh_is_loading === 0) {\n          console.log(\"Bokeh: all BokehJS libraries loaded\");\n          run_callbacks()\n        }\n      };\n      s.onerror = function() {\n        console.warn(\"failed to load library \" + url);\n      };\n      console.log(\"Bokeh: injecting script tag for BokehJS library: \", url);\n      document.getElementsByTagName(\"head\")[0].appendChild(s);\n    }\n  };var element = document.getElementById(\"1741\");\n  if (element == null) {\n    console.log(\"Bokeh: ERROR: autoload.js configured with elementid '1741' but no matching script tag was found. \")\n    return false;\n  }\n\n  var js_urls = [\"https://cdn.pydata.org/bokeh/release/bokeh-1.0.4.min.js\", \"https://cdn.pydata.org/bokeh/release/bokeh-widgets-1.0.4.min.js\", \"https://cdn.pydata.org/bokeh/release/bokeh-tables-1.0.4.min.js\", \"https://cdn.pydata.org/bokeh/release/bokeh-gl-1.0.4.min.js\"];\n\n  var inline_js = [\n    function(Bokeh) {\n      Bokeh.set_log_level(\"info\");\n    },\n    \n    function(Bokeh) {\n      \n    },\n    function(Bokeh) {\n      console.log(\"Bokeh: injecting CSS: https://cdn.pydata.org/bokeh/release/bokeh-1.0.4.min.css\");\n      Bokeh.embed.inject_css(\"https://cdn.pydata.org/bokeh/release/bokeh-1.0.4.min.css\");\n      console.log(\"Bokeh: injecting CSS: https://cdn.pydata.org/bokeh/release/bokeh-widgets-1.0.4.min.css\");\n      Bokeh.embed.inject_css(\"https://cdn.pydata.org/bokeh/release/bokeh-widgets-1.0.4.min.css\");\n      console.log(\"Bokeh: injecting CSS: https://cdn.pydata.org/bokeh/release/bokeh-tables-1.0.4.min.css\");\n      Bokeh.embed.inject_css(\"https://cdn.pydata.org/bokeh/release/bokeh-tables-1.0.4.min.css\");\n    }\n  ];\n\n  function run_inline_js() {\n    \n    if ((root.Bokeh !== undefined) || (force === true)) {\n      for (var i = 0; i < inline_js.length; i++) {\n        inline_js[i].call(root, root.Bokeh);\n      }if (force === true) {\n        display_loaded();\n      }} else if (Date.now() < root._bokeh_timeout) {\n      setTimeout(run_inline_js, 100);\n    } else if (!root._bokeh_failed_load) {\n      console.log(\"Bokeh: BokehJS failed to load within specified timeout.\");\n      root._bokeh_failed_load = true;\n    } else if (force !== true) {\n      var cell = $(document.getElementById(\"1741\")).parents('.cell').data().cell;\n      cell.output_area.append_execute_result(NB_LOAD_WARNING)\n    }\n\n  }\n\n  if (root._bokeh_is_loading === 0) {\n    console.log(\"Bokeh: BokehJS loaded, going straight to plotting\");\n    run_inline_js();\n  } else {\n    load_libs(js_urls, function() {\n      console.log(\"Bokeh: BokehJS plotting callback run at\", now());\n      run_inline_js();\n    });\n  }\n}(window));"
          },
          "metadata": {
            "tags": []
          }
        },
        {
          "output_type": "display_data",
          "data": {
            "text/html": [
              "\n",
              "\n",
              "\n",
              "\n",
              "\n",
              "\n",
              "  <div class=\"bk-root\" id=\"f468b40d-d58a-40d0-ab0e-83e47cd49215\" data-root-id=\"1746\"></div>\n"
            ]
          },
          "metadata": {
            "tags": []
          }
        },
        {
          "output_type": "display_data",
          "data": {
            "application/javascript": [
              "(function(root) {\n",
              "  function embed_document(root) {\n",
              "    \n",
              "  var docs_json = {\"937a17a8-ae30-45e6-8f29-8a51649d8a67\":{\"roots\":{\"references\":[{\"attributes\":{\"below\":[{\"id\":\"1756\",\"type\":\"LinearAxis\"}],\"left\":[{\"id\":\"1761\",\"type\":\"LinearAxis\"}],\"renderers\":[{\"id\":\"1756\",\"type\":\"LinearAxis\"},{\"id\":\"1760\",\"type\":\"Grid\"},{\"id\":\"1761\",\"type\":\"LinearAxis\"},{\"id\":\"1765\",\"type\":\"Grid\"},{\"id\":\"1771\",\"type\":\"BoxAnnotation\"},{\"id\":\"1787\",\"type\":\"Legend\"},{\"id\":\"1779\",\"type\":\"GlyphRenderer\"}],\"title\":{\"id\":\"1745\",\"type\":\"Title\"},\"toolbar\":{\"id\":\"1769\",\"type\":\"Toolbar\"},\"x_range\":{\"id\":\"1748\",\"type\":\"DataRange1d\"},\"x_scale\":{\"id\":\"1752\",\"type\":\"LinearScale\"},\"y_range\":{\"id\":\"1750\",\"type\":\"DataRange1d\"},\"y_scale\":{\"id\":\"1754\",\"type\":\"LinearScale\"}},\"id\":\"1746\",\"subtype\":\"Figure\",\"type\":\"Plot\"},{\"attributes\":{\"dimension\":1,\"plot\":{\"id\":\"1746\",\"subtype\":\"Figure\",\"type\":\"Plot\"},\"ticker\":{\"id\":\"1762\",\"type\":\"BasicTicker\"}},\"id\":\"1765\",\"type\":\"Grid\"},{\"attributes\":{\"items\":[{\"id\":\"1788\",\"type\":\"LegendItem\"}],\"plot\":{\"id\":\"1746\",\"subtype\":\"Figure\",\"type\":\"Plot\"}},\"id\":\"1787\",\"type\":\"Legend\"},{\"attributes\":{\"overlay\":{\"id\":\"1771\",\"type\":\"BoxAnnotation\"}},\"id\":\"1767\",\"type\":\"BoxZoomTool\"},{\"attributes\":{\"callback\":null,\"data\":{\"country\":[\"Afghanistan\",\"Albania\",\"Algeria\",\"Andorra\",\"Angola\",\"Argentina\",\"Armenia\",\"Australia\",\"Austria\",\"Azerbaijan\",\"Bahamas\",\"Bahrain\",\"Bangladesh\",\"Barbados\",\"Belarus\",\"Belgium\",\"Belize\",\"Benin\",\"Bhutan\",\"Botswana\",\"Brazil\",\"Bulgaria\",\"Burkina Faso\",\"Burundi\",\"Cabo Verde\",\"Cambodia\",\"Cameroon\",\"Canada\",\"Central African Republic\",\"Chad\",\"Chile\",\"China\",\"Colombia\",\"Comoros\",\"Congo\",\"Cook Islands\",\"Costa Rica\",\"Croatia\",\"Cuba\",\"Cyprus\",\"Denmark\",\"Djibouti\",\"Dominica\",\"Dominican Republic\",\"Ecuador\",\"Egypt\",\"El Salvador\",\"Equatorial Guinea\",\"Eritrea\",\"Estonia\",\"Ethiopia\",\"Fiji\",\"Finland\",\"France\",\"Gabon\",\"Gambia\",\"Georgia\",\"Germany\",\"Ghana\",\"Greece\",\"Grenada\",\"Guatemala\",\"Guinea\",\"Guinea-Bissau\",\"Guyana\",\"Haiti\",\"Honduras\",\"Hungary\",\"Iceland\",\"India\",\"Indonesia\",\"Iraq\",\"Ireland\",\"Israel\",\"Italy\",\"Jamaica\",\"Japan\",\"Jordan\",\"Kazakhstan\",\"Kenya\",\"Kiribati\",\"Kuwait\",\"Kyrgyzstan\",\"Latvia\",\"Lebanon\",\"Lesotho\",\"Liberia\",\"Libya\",\"Lithuania\",\"Luxembourg\",\"Madagascar\",\"Malawi\",\"Malaysia\",\"Maldives\",\"Mali\",\"Malta\",\"Marshall Islands\",\"Mauritania\",\"Mauritius\",\"Mexico\",\"Monaco\",\"Mongolia\",\"Montenegro\",\"Morocco\",\"Mozambique\",\"Myanmar\",\"Namibia\",\"Nauru\",\"Nepal\",\"Netherlands\",\"New Zealand\",\"Nicaragua\",\"Niger\",\"Nigeria\",\"Niue\",\"Norway\",\"Oman\",\"Pakistan\",\"Palau\",\"Panama\",\"Papua New Guinea\",\"Paraguay\",\"Peru\",\"Philippines\",\"Poland\",\"Portugal\",\"Qatar\",\"Romania\",\"Russian Federation\",\"Rwanda\",\"Samoa\",\"San Marino\",\"Saudi Arabia\",\"Senegal\",\"Serbia\",\"Seychelles\",\"Sierra Leone\",\"Singapore\",\"Slovakia\",\"Slovenia\",\"Solomon Islands\",\"Somalia\",\"South Africa\",\"Spain\",\"Sri Lanka\",\"Sudan\",\"Suriname\",\"Sweden\",\"Switzerland\",\"Tajikistan\",\"Thailand\",\"Timor-Leste\",\"Togo\",\"Tonga\",\"Tunisia\",\"Turkey\",\"Turkmenistan\",\"Tuvalu\",\"Uganda\",\"Ukraine\",\"United Arab Emirates\",\"United States of America\",\"Uruguay\",\"Uzbekistan\",\"Vanuatu\",\"Yemen\",\"Zambia\",\"Zimbabwe\"],\"region\":[\"Asia\",\"Europe\",\"Africa\",\"Europe\",\"Africa\",\"Americas\",\"Asia\",\"Oceania\",\"Europe\",\"Asia\",\"Americas\",\"Asia\",\"Asia\",\"Americas\",\"Europe\",\"Europe\",\"Americas\",\"Africa\",\"Asia\",\"Africa\",\"Americas\",\"Europe\",\"Africa\",\"Africa\",\"Africa\",\"Asia\",\"Africa\",\"Americas\",\"Africa\",\"Africa\",\"Americas\",\"Asia\",\"Americas\",\"Africa\",\"Africa\",\"Oceania\",\"Americas\",\"Europe\",\"Americas\",\"Asia\",\"Europe\",\"Africa\",\"Americas\",\"Americas\",\"Americas\",\"Africa\",\"Americas\",\"Africa\",\"Africa\",\"Europe\",\"Africa\",\"Oceania\",\"Europe\",\"Europe\",\"Africa\",\"Africa\",\"Asia\",\"Europe\",\"Africa\",\"Europe\",\"Americas\",\"Americas\",\"Africa\",\"Africa\",\"Americas\",\"Americas\",\"Americas\",\"Europe\",\"Europe\",\"Asia\",\"Asia\",\"Asia\",\"Europe\",\"Asia\",\"Europe\",\"Americas\",\"Asia\",\"Asia\",\"Asia\",\"Africa\",\"Oceania\",\"Asia\",\"Asia\",\"Europe\",\"Asia\",\"Africa\",\"Africa\",\"Africa\",\"Europe\",\"Europe\",\"Africa\",\"Africa\",\"Asia\",\"Asia\",\"Africa\",\"Europe\",\"Oceania\",\"Africa\",\"Africa\",\"Americas\",\"Europe\",\"Asia\",\"Europe\",\"Africa\",\"Africa\",\"Asia\",\"Africa\",\"Oceania\",\"Asia\",\"Europe\",\"Oceania\",\"Americas\",\"Africa\",\"Africa\",\"Oceania\",\"Europe\",\"Asia\",\"Asia\",\"Oceania\",\"Americas\",\"Oceania\",\"Americas\",\"Americas\",\"Asia\",\"Europe\",\"Europe\",\"Asia\",\"Europe\",\"Europe\",\"Africa\",\"Oceania\",\"Europe\",\"Asia\",\"Africa\",\"Europe\",\"Africa\",\"Africa\",\"Asia\",\"Europe\",\"Europe\",\"Oceania\",\"Africa\",\"Africa\",\"Europe\",\"Asia\",\"Africa\",\"Americas\",\"Europe\",\"Europe\",\"Asia\",\"Asia\",\"Asia\",\"Africa\",\"Oceania\",\"Africa\",\"Asia\",\"Asia\",\"Oceania\",\"Africa\",\"Europe\",\"Asia\",\"Americas\",\"Americas\",\"Asia\",\"Oceania\",\"Asia\",\"Africa\",\"Africa\"],\"x\":[0,89,25,245,217,193,21,261,279,21,122,42,0,143,142,295,263,34,23,173,245,231,25,88,144,57,147,240,17,15,130,79,159,1,76,0,149,230,93,192,224,15,52,193,162,6,52,92,18,224,20,77,263,127,347,8,52,346,31,133,199,53,9,28,93,1,69,234,233,9,5,9,313,63,85,82,77,6,124,58,21,0,31,281,20,82,19,0,343,236,26,8,13,0,5,149,0,0,98,238,0,77,31,12,47,5,376,49,5,251,203,78,3,42,188,169,22,0,306,285,44,213,163,71,343,194,1,297,247,43,105,0,0,9,283,157,25,60,196,270,56,0,225,284,16,8,128,152,185,2,99,1,36,36,51,51,19,6,45,206,16,249,115,25,21,6,32,64],\"y\":[0,54,14,312,45,221,11,212,191,5,51,7,0,36,42,212,8,13,0,35,16,94,7,0,16,1,4,100,1,1,172,8,3,1,9,74,11,254,5,113,278,3,26,9,3,1,2,233,0,59,0,1,97,370,59,1,149,175,10,218,28,2,2,21,1,1,2,185,78,0,0,0,165,9,237,9,16,1,12,2,1,0,6,62,31,0,2,0,56,271,4,1,0,0,1,120,0,0,18,5,0,8,128,10,5,0,1,8,0,190,175,1,1,2,7,129,1,0,23,18,1,74,21,1,56,339,7,167,73,0,24,0,0,7,127,51,2,11,116,276,1,0,81,112,0,0,7,186,280,0,1,4,19,5,20,7,32,9,0,45,5,84,220,8,11,0,4,4]},\"selected\":{\"id\":\"1826\",\"type\":\"Selection\"},\"selection_policy\":{\"id\":\"1827\",\"type\":\"UnionRenderers\"}},\"id\":\"1742\",\"type\":\"ColumnDataSource\"},{\"attributes\":{},\"id\":\"1766\",\"type\":\"WheelZoomTool\"},{\"attributes\":{},\"id\":\"1768\",\"type\":\"ResetTool\"},{\"attributes\":{\"callback\":null,\"tooltips\":[[\"index\",\"$index\"],[\"(x,y)\",\"(@x, @y)\"],[\"country\",\"@country\"]]},\"id\":\"1743\",\"type\":\"HoverTool\"},{\"attributes\":{\"factors\":[\"Asia\",\"Europe\",\"Africa\",\"Americas\",\"Oceania\"],\"palette\":[\"#1f77b4\",\"#ff7f0e\",\"#2ca02c\",\"#d62728\",\"#9467bd\"]},\"id\":\"1744\",\"type\":\"CategoricalColorMapper\"},{\"attributes\":{\"active_drag\":\"auto\",\"active_inspect\":\"auto\",\"active_multi\":null,\"active_scroll\":\"auto\",\"active_tap\":\"auto\",\"tools\":[{\"id\":\"1743\",\"type\":\"HoverTool\"},{\"id\":\"1766\",\"type\":\"WheelZoomTool\"},{\"id\":\"1767\",\"type\":\"BoxZoomTool\"},{\"id\":\"1768\",\"type\":\"ResetTool\"}]},\"id\":\"1769\",\"type\":\"Toolbar\"},{\"attributes\":{\"bottom_units\":\"screen\",\"fill_alpha\":{\"value\":0.5},\"fill_color\":{\"value\":\"lightgrey\"},\"left_units\":\"screen\",\"level\":\"overlay\",\"line_alpha\":{\"value\":1.0},\"line_color\":{\"value\":\"black\"},\"line_dash\":[4,4],\"line_width\":{\"value\":2},\"plot\":null,\"render_mode\":\"css\",\"right_units\":\"screen\",\"top_units\":\"screen\"},\"id\":\"1771\",\"type\":\"BoxAnnotation\"},{\"attributes\":{\"fill_alpha\":{\"value\":0.8},\"fill_color\":{\"field\":\"region\",\"transform\":{\"id\":\"1744\",\"type\":\"CategoricalColorMapper\"}},\"line_alpha\":{\"value\":0.8},\"line_color\":{\"field\":\"region\",\"transform\":{\"id\":\"1744\",\"type\":\"CategoricalColorMapper\"}},\"size\":{\"units\":\"screen\",\"value\":10},\"x\":{\"field\":\"x\"},\"y\":{\"field\":\"y\"}},\"id\":\"1777\",\"type\":\"Scatter\"},{\"attributes\":{\"fill_alpha\":{\"value\":0.1},\"fill_color\":{\"value\":\"#1f77b4\"},\"line_alpha\":{\"value\":0.1},\"line_color\":{\"value\":\"#1f77b4\"},\"size\":{\"units\":\"screen\",\"value\":10},\"x\":{\"field\":\"x\"},\"y\":{\"field\":\"y\"}},\"id\":\"1778\",\"type\":\"Scatter\"},{\"attributes\":{},\"id\":\"1784\",\"type\":\"BasicTickFormatter\"},{\"attributes\":{},\"id\":\"1826\",\"type\":\"Selection\"},{\"attributes\":{\"plot\":null,\"text\":\"Beer and Wine Servings per Year by Country\"},\"id\":\"1745\",\"type\":\"Title\"},{\"attributes\":{\"callback\":null},\"id\":\"1748\",\"type\":\"DataRange1d\"},{\"attributes\":{\"data_source\":{\"id\":\"1742\",\"type\":\"ColumnDataSource\"},\"glyph\":{\"id\":\"1777\",\"type\":\"Scatter\"},\"hover_glyph\":null,\"muted_glyph\":null,\"nonselection_glyph\":{\"id\":\"1778\",\"type\":\"Scatter\"},\"selection_glyph\":null,\"view\":{\"id\":\"1780\",\"type\":\"CDSView\"}},\"id\":\"1779\",\"type\":\"GlyphRenderer\"},{\"attributes\":{\"callback\":null},\"id\":\"1750\",\"type\":\"DataRange1d\"},{\"attributes\":{\"source\":{\"id\":\"1742\",\"type\":\"ColumnDataSource\"}},\"id\":\"1780\",\"type\":\"CDSView\"},{\"attributes\":{},\"id\":\"1752\",\"type\":\"LinearScale\"},{\"attributes\":{},\"id\":\"1782\",\"type\":\"BasicTickFormatter\"},{\"attributes\":{},\"id\":\"1754\",\"type\":\"LinearScale\"},{\"attributes\":{\"label\":{\"field\":\"region\"},\"renderers\":[{\"id\":\"1779\",\"type\":\"GlyphRenderer\"}]},\"id\":\"1788\",\"type\":\"LegendItem\"},{\"attributes\":{\"axis_label\":\"Beer Servings\",\"formatter\":{\"id\":\"1782\",\"type\":\"BasicTickFormatter\"},\"plot\":{\"id\":\"1746\",\"subtype\":\"Figure\",\"type\":\"Plot\"},\"ticker\":{\"id\":\"1757\",\"type\":\"BasicTicker\"}},\"id\":\"1756\",\"type\":\"LinearAxis\"},{\"attributes\":{},\"id\":\"1757\",\"type\":\"BasicTicker\"},{\"attributes\":{},\"id\":\"1827\",\"type\":\"UnionRenderers\"},{\"attributes\":{\"plot\":{\"id\":\"1746\",\"subtype\":\"Figure\",\"type\":\"Plot\"},\"ticker\":{\"id\":\"1757\",\"type\":\"BasicTicker\"}},\"id\":\"1760\",\"type\":\"Grid\"},{\"attributes\":{\"axis_label\":\"Wine Servings\",\"formatter\":{\"id\":\"1784\",\"type\":\"BasicTickFormatter\"},\"plot\":{\"id\":\"1746\",\"subtype\":\"Figure\",\"type\":\"Plot\"},\"ticker\":{\"id\":\"1762\",\"type\":\"BasicTicker\"}},\"id\":\"1761\",\"type\":\"LinearAxis\"},{\"attributes\":{},\"id\":\"1762\",\"type\":\"BasicTicker\"}],\"root_ids\":[\"1746\"]},\"title\":\"Bokeh Application\",\"version\":\"1.0.4\"}};\n",
              "  var render_items = [{\"docid\":\"937a17a8-ae30-45e6-8f29-8a51649d8a67\",\"roots\":{\"1746\":\"f468b40d-d58a-40d0-ab0e-83e47cd49215\"}}];\n",
              "  root.Bokeh.embed.embed_items_notebook(docs_json, render_items);\n",
              "\n",
              "  }\n",
              "  if (root.Bokeh !== undefined) {\n",
              "    embed_document(root);\n",
              "  } else {\n",
              "    var attempts = 0;\n",
              "    var timer = setInterval(function(root) {\n",
              "      if (root.Bokeh !== undefined) {\n",
              "        embed_document(root);\n",
              "        clearInterval(timer);\n",
              "      }\n",
              "      attempts++;\n",
              "      if (attempts > 100) {\n",
              "        console.log(\"Bokeh: ERROR: Unable to run BokehJS code because BokehJS library is missing\");\n",
              "        clearInterval(timer);\n",
              "      }\n",
              "    }, 10, root)\n",
              "  }\n",
              "})(window);"
            ],
            "application/vnd.bokehjs_exec.v0+json": ""
          },
          "metadata": {
            "tags": [],
            "application/vnd.bokehjs_exec.v0+json": {
              "id": "1746"
            }
          }
        }
      ]
    },
    {
      "cell_type": "code",
      "metadata": {
        "id": "reKft7xWDETT",
        "colab_type": "code",
        "outputId": "6f17dc76-3b22-41c3-848c-6e9d41b88906",
        "colab": {
          "base_uri": "https://localhost:8080/",
          "height": 54
        }
      },
      "source": [
        "!ls"
      ],
      "execution_count": 311,
      "outputs": [
        {
          "output_type": "stream",
          "text": [
            "drinks.csv    drinks.csv.2  drinks.csv.4\t\t sample_data\n",
            "drinks.csv.1  drinks.csv.3  interactive_bokeh_plot.html\n"
          ],
          "name": "stdout"
        }
      ]
    },
    {
      "cell_type": "markdown",
      "metadata": {
        "id": "lOqaPds9huME",
        "colab_type": "text"
      },
      "source": [
        "## Assignment - now it's your turn\n",
        "\n",
        "Pick at least one Python DS library, and using documentation/examples reproduce in this notebook something cool. It's OK if you don't fully understand it or get it 100% working, but do put in effort and look things up."
      ]
    },
    {
      "cell_type": "code",
      "metadata": {
        "id": "TGUS79cOhPWj",
        "colab_type": "code",
        "colab": {}
      },
      "source": [
        "## data source: https://vincentarelbundock.github.io/Rdatasets/datasets.html\n",
        "import pandas as pd"
      ],
      "execution_count": 0,
      "outputs": []
    },
    {
      "cell_type": "code",
      "metadata": {
        "id": "B-a2mVo2C40v",
        "colab_type": "code",
        "colab": {
          "base_uri": "https://localhost:8080/",
          "height": 36
        },
        "outputId": "92bf6dc2-f622-403c-c65f-bdef91b09c63"
      },
      "source": [
        "df = pd.read_csv('https://vincentarelbundock.github.io/Rdatasets/csv/DAAG/nassCDS.csv') #Airbag and other influences on accident fatalities\n",
        "df.shape"
      ],
      "execution_count": 313,
      "outputs": [
        {
          "output_type": "execute_result",
          "data": {
            "text/plain": [
              "(26217, 16)"
            ]
          },
          "metadata": {
            "tags": []
          },
          "execution_count": 313
        }
      ]
    },
    {
      "cell_type": "code",
      "metadata": {
        "id": "TsRYtCsrC_Ut",
        "colab_type": "code",
        "colab": {
          "base_uri": "https://localhost:8080/",
          "height": 363
        },
        "outputId": "b94ab671-e8eb-48e1-d07b-84e8c74b22bf"
      },
      "source": [
        "df.head(10)"
      ],
      "execution_count": 314,
      "outputs": [
        {
          "output_type": "execute_result",
          "data": {
            "text/html": [
              "<div>\n",
              "<style scoped>\n",
              "    .dataframe tbody tr th:only-of-type {\n",
              "        vertical-align: middle;\n",
              "    }\n",
              "\n",
              "    .dataframe tbody tr th {\n",
              "        vertical-align: top;\n",
              "    }\n",
              "\n",
              "    .dataframe thead th {\n",
              "        text-align: right;\n",
              "    }\n",
              "</style>\n",
              "<table border=\"1\" class=\"dataframe\">\n",
              "  <thead>\n",
              "    <tr style=\"text-align: right;\">\n",
              "      <th></th>\n",
              "      <th>Unnamed: 0</th>\n",
              "      <th>dvcat</th>\n",
              "      <th>weight</th>\n",
              "      <th>dead</th>\n",
              "      <th>airbag</th>\n",
              "      <th>seatbelt</th>\n",
              "      <th>frontal</th>\n",
              "      <th>sex</th>\n",
              "      <th>ageOFocc</th>\n",
              "      <th>yearacc</th>\n",
              "      <th>yearVeh</th>\n",
              "      <th>abcat</th>\n",
              "      <th>occRole</th>\n",
              "      <th>deploy</th>\n",
              "      <th>injSeverity</th>\n",
              "      <th>caseid</th>\n",
              "    </tr>\n",
              "  </thead>\n",
              "  <tbody>\n",
              "    <tr>\n",
              "      <th>0</th>\n",
              "      <td>1</td>\n",
              "      <td>25-39</td>\n",
              "      <td>25.069</td>\n",
              "      <td>alive</td>\n",
              "      <td>none</td>\n",
              "      <td>belted</td>\n",
              "      <td>1</td>\n",
              "      <td>f</td>\n",
              "      <td>26</td>\n",
              "      <td>1997</td>\n",
              "      <td>1990.0</td>\n",
              "      <td>unavail</td>\n",
              "      <td>driver</td>\n",
              "      <td>0</td>\n",
              "      <td>3.0</td>\n",
              "      <td>2:3:1</td>\n",
              "    </tr>\n",
              "    <tr>\n",
              "      <th>1</th>\n",
              "      <td>2</td>\n",
              "      <td>10-24</td>\n",
              "      <td>25.069</td>\n",
              "      <td>alive</td>\n",
              "      <td>airbag</td>\n",
              "      <td>belted</td>\n",
              "      <td>1</td>\n",
              "      <td>f</td>\n",
              "      <td>72</td>\n",
              "      <td>1997</td>\n",
              "      <td>1995.0</td>\n",
              "      <td>deploy</td>\n",
              "      <td>driver</td>\n",
              "      <td>1</td>\n",
              "      <td>1.0</td>\n",
              "      <td>2:3:2</td>\n",
              "    </tr>\n",
              "    <tr>\n",
              "      <th>2</th>\n",
              "      <td>3</td>\n",
              "      <td>10-24</td>\n",
              "      <td>32.379</td>\n",
              "      <td>alive</td>\n",
              "      <td>none</td>\n",
              "      <td>none</td>\n",
              "      <td>1</td>\n",
              "      <td>f</td>\n",
              "      <td>69</td>\n",
              "      <td>1997</td>\n",
              "      <td>1988.0</td>\n",
              "      <td>unavail</td>\n",
              "      <td>driver</td>\n",
              "      <td>0</td>\n",
              "      <td>4.0</td>\n",
              "      <td>2:5:1</td>\n",
              "    </tr>\n",
              "    <tr>\n",
              "      <th>3</th>\n",
              "      <td>4</td>\n",
              "      <td>25-39</td>\n",
              "      <td>495.444</td>\n",
              "      <td>alive</td>\n",
              "      <td>airbag</td>\n",
              "      <td>belted</td>\n",
              "      <td>1</td>\n",
              "      <td>f</td>\n",
              "      <td>53</td>\n",
              "      <td>1997</td>\n",
              "      <td>1995.0</td>\n",
              "      <td>deploy</td>\n",
              "      <td>driver</td>\n",
              "      <td>1</td>\n",
              "      <td>1.0</td>\n",
              "      <td>2:10:1</td>\n",
              "    </tr>\n",
              "    <tr>\n",
              "      <th>4</th>\n",
              "      <td>5</td>\n",
              "      <td>25-39</td>\n",
              "      <td>25.069</td>\n",
              "      <td>alive</td>\n",
              "      <td>none</td>\n",
              "      <td>belted</td>\n",
              "      <td>1</td>\n",
              "      <td>f</td>\n",
              "      <td>32</td>\n",
              "      <td>1997</td>\n",
              "      <td>1988.0</td>\n",
              "      <td>unavail</td>\n",
              "      <td>driver</td>\n",
              "      <td>0</td>\n",
              "      <td>3.0</td>\n",
              "      <td>2:11:1</td>\n",
              "    </tr>\n",
              "    <tr>\n",
              "      <th>5</th>\n",
              "      <td>6</td>\n",
              "      <td>40-54</td>\n",
              "      <td>25.069</td>\n",
              "      <td>alive</td>\n",
              "      <td>none</td>\n",
              "      <td>belted</td>\n",
              "      <td>1</td>\n",
              "      <td>f</td>\n",
              "      <td>22</td>\n",
              "      <td>1997</td>\n",
              "      <td>1985.0</td>\n",
              "      <td>unavail</td>\n",
              "      <td>driver</td>\n",
              "      <td>0</td>\n",
              "      <td>3.0</td>\n",
              "      <td>2:11:2</td>\n",
              "    </tr>\n",
              "    <tr>\n",
              "      <th>6</th>\n",
              "      <td>7</td>\n",
              "      <td>55+</td>\n",
              "      <td>27.078</td>\n",
              "      <td>alive</td>\n",
              "      <td>none</td>\n",
              "      <td>belted</td>\n",
              "      <td>1</td>\n",
              "      <td>m</td>\n",
              "      <td>22</td>\n",
              "      <td>1997</td>\n",
              "      <td>1984.0</td>\n",
              "      <td>unavail</td>\n",
              "      <td>driver</td>\n",
              "      <td>0</td>\n",
              "      <td>3.0</td>\n",
              "      <td>2:13:1</td>\n",
              "    </tr>\n",
              "    <tr>\n",
              "      <th>7</th>\n",
              "      <td>8</td>\n",
              "      <td>55+</td>\n",
              "      <td>27.078</td>\n",
              "      <td>dead</td>\n",
              "      <td>none</td>\n",
              "      <td>none</td>\n",
              "      <td>1</td>\n",
              "      <td>m</td>\n",
              "      <td>32</td>\n",
              "      <td>1997</td>\n",
              "      <td>1987.0</td>\n",
              "      <td>unavail</td>\n",
              "      <td>driver</td>\n",
              "      <td>0</td>\n",
              "      <td>4.0</td>\n",
              "      <td>2:13:2</td>\n",
              "    </tr>\n",
              "    <tr>\n",
              "      <th>8</th>\n",
              "      <td>9</td>\n",
              "      <td>10-24</td>\n",
              "      <td>812.869</td>\n",
              "      <td>alive</td>\n",
              "      <td>none</td>\n",
              "      <td>belted</td>\n",
              "      <td>0</td>\n",
              "      <td>m</td>\n",
              "      <td>40</td>\n",
              "      <td>1997</td>\n",
              "      <td>1984.0</td>\n",
              "      <td>unavail</td>\n",
              "      <td>driver</td>\n",
              "      <td>0</td>\n",
              "      <td>1.0</td>\n",
              "      <td>2:14:1</td>\n",
              "    </tr>\n",
              "    <tr>\n",
              "      <th>9</th>\n",
              "      <td>10</td>\n",
              "      <td>10-24</td>\n",
              "      <td>812.869</td>\n",
              "      <td>alive</td>\n",
              "      <td>none</td>\n",
              "      <td>belted</td>\n",
              "      <td>1</td>\n",
              "      <td>f</td>\n",
              "      <td>18</td>\n",
              "      <td>1997</td>\n",
              "      <td>1987.0</td>\n",
              "      <td>unavail</td>\n",
              "      <td>driver</td>\n",
              "      <td>0</td>\n",
              "      <td>0.0</td>\n",
              "      <td>2:14:2</td>\n",
              "    </tr>\n",
              "  </tbody>\n",
              "</table>\n",
              "</div>"
            ],
            "text/plain": [
              "   Unnamed: 0  dvcat   weight   dead  ... occRole deploy  injSeverity  caseid\n",
              "0           1  25-39   25.069  alive  ...  driver      0          3.0   2:3:1\n",
              "1           2  10-24   25.069  alive  ...  driver      1          1.0   2:3:2\n",
              "2           3  10-24   32.379  alive  ...  driver      0          4.0   2:5:1\n",
              "3           4  25-39  495.444  alive  ...  driver      1          1.0  2:10:1\n",
              "4           5  25-39   25.069  alive  ...  driver      0          3.0  2:11:1\n",
              "5           6  40-54   25.069  alive  ...  driver      0          3.0  2:11:2\n",
              "6           7    55+   27.078  alive  ...  driver      0          3.0  2:13:1\n",
              "7           8    55+   27.078   dead  ...  driver      0          4.0  2:13:2\n",
              "8           9  10-24  812.869  alive  ...  driver      0          1.0  2:14:1\n",
              "9          10  10-24  812.869  alive  ...  driver      0          0.0  2:14:2\n",
              "\n",
              "[10 rows x 16 columns]"
            ]
          },
          "metadata": {
            "tags": []
          },
          "execution_count": 314
        }
      ]
    },
    {
      "cell_type": "code",
      "metadata": {
        "id": "1p7m925PDCKA",
        "colab_type": "code",
        "colab": {
          "base_uri": "https://localhost:8080/",
          "height": 335
        },
        "outputId": "7c051b47-fb99-4a7b-bad5-4f96b9d32b0e"
      },
      "source": [
        "df.isna().sum()"
      ],
      "execution_count": 315,
      "outputs": [
        {
          "output_type": "execute_result",
          "data": {
            "text/plain": [
              "Unnamed: 0       0\n",
              "dvcat            0\n",
              "weight           0\n",
              "dead             0\n",
              "airbag           0\n",
              "seatbelt         0\n",
              "frontal          0\n",
              "sex              0\n",
              "ageOFocc         0\n",
              "yearacc          0\n",
              "yearVeh          1\n",
              "abcat            0\n",
              "occRole          0\n",
              "deploy           0\n",
              "injSeverity    153\n",
              "caseid           0\n",
              "dtype: int64"
            ]
          },
          "metadata": {
            "tags": []
          },
          "execution_count": 315
        }
      ]
    },
    {
      "cell_type": "code",
      "metadata": {
        "id": "tr1e7YV-mMg6",
        "colab_type": "code",
        "colab": {
          "base_uri": "https://localhost:8080/",
          "height": 335
        },
        "outputId": "fc3807f8-fece-4494-f546-955ad449a73a"
      },
      "source": [
        "#replace vehicle year nan vaule with yearVeh mean since there is only 1 nan\n",
        "yearVeh_mean = df['yearVeh'].mean()\n",
        "\n",
        "df['yearVeh'].fillna(yearVeh_mean, inplace=True)\n",
        "df.isna().sum()"
      ],
      "execution_count": 316,
      "outputs": [
        {
          "output_type": "execute_result",
          "data": {
            "text/plain": [
              "Unnamed: 0       0\n",
              "dvcat            0\n",
              "weight           0\n",
              "dead             0\n",
              "airbag           0\n",
              "seatbelt         0\n",
              "frontal          0\n",
              "sex              0\n",
              "ageOFocc         0\n",
              "yearacc          0\n",
              "yearVeh          0\n",
              "abcat            0\n",
              "occRole          0\n",
              "deploy           0\n",
              "injSeverity    153\n",
              "caseid           0\n",
              "dtype: int64"
            ]
          },
          "metadata": {
            "tags": []
          },
          "execution_count": 316
        }
      ]
    },
    {
      "cell_type": "code",
      "metadata": {
        "id": "ibGK5boirspt",
        "colab_type": "code",
        "colab": {
          "base_uri": "https://localhost:8080/",
          "height": 129
        },
        "outputId": "f2ef4ce6-acb0-43a4-8960-c9e4c5e4fce6"
      },
      "source": [
        "print(df['airbag'].value_counts())\n",
        "print(df['seatbelt'].value_counts())"
      ],
      "execution_count": 317,
      "outputs": [
        {
          "output_type": "stream",
          "text": [
            "airbag    14419\n",
            "none      11798\n",
            "Name: airbag, dtype: int64\n",
            "belted    18573\n",
            "none       7644\n",
            "Name: seatbelt, dtype: int64\n"
          ],
          "name": "stdout"
        }
      ]
    },
    {
      "cell_type": "code",
      "metadata": {
        "id": "xh1W_RurquwH",
        "colab_type": "code",
        "colab": {}
      },
      "source": [
        "#replace string in airbag column with true or false\n",
        "\n",
        "df.replace({'airbag': {'none': False, 'airbag': True}},inplace=True)\n",
        "df.replace({'seatbelt': {'none': False, 'belted': True}},inplace=True)"
      ],
      "execution_count": 0,
      "outputs": []
    },
    {
      "cell_type": "code",
      "metadata": {
        "id": "zhYcQijHrZQJ",
        "colab_type": "code",
        "colab": {
          "base_uri": "https://localhost:8080/",
          "height": 363
        },
        "outputId": "8999fd52-5344-4904-cf42-db9befc58644"
      },
      "source": [
        "df.head(10)"
      ],
      "execution_count": 319,
      "outputs": [
        {
          "output_type": "execute_result",
          "data": {
            "text/html": [
              "<div>\n",
              "<style scoped>\n",
              "    .dataframe tbody tr th:only-of-type {\n",
              "        vertical-align: middle;\n",
              "    }\n",
              "\n",
              "    .dataframe tbody tr th {\n",
              "        vertical-align: top;\n",
              "    }\n",
              "\n",
              "    .dataframe thead th {\n",
              "        text-align: right;\n",
              "    }\n",
              "</style>\n",
              "<table border=\"1\" class=\"dataframe\">\n",
              "  <thead>\n",
              "    <tr style=\"text-align: right;\">\n",
              "      <th></th>\n",
              "      <th>Unnamed: 0</th>\n",
              "      <th>dvcat</th>\n",
              "      <th>weight</th>\n",
              "      <th>dead</th>\n",
              "      <th>airbag</th>\n",
              "      <th>seatbelt</th>\n",
              "      <th>frontal</th>\n",
              "      <th>sex</th>\n",
              "      <th>ageOFocc</th>\n",
              "      <th>yearacc</th>\n",
              "      <th>yearVeh</th>\n",
              "      <th>abcat</th>\n",
              "      <th>occRole</th>\n",
              "      <th>deploy</th>\n",
              "      <th>injSeverity</th>\n",
              "      <th>caseid</th>\n",
              "    </tr>\n",
              "  </thead>\n",
              "  <tbody>\n",
              "    <tr>\n",
              "      <th>0</th>\n",
              "      <td>1</td>\n",
              "      <td>25-39</td>\n",
              "      <td>25.069</td>\n",
              "      <td>alive</td>\n",
              "      <td>False</td>\n",
              "      <td>True</td>\n",
              "      <td>1</td>\n",
              "      <td>f</td>\n",
              "      <td>26</td>\n",
              "      <td>1997</td>\n",
              "      <td>1990.0</td>\n",
              "      <td>unavail</td>\n",
              "      <td>driver</td>\n",
              "      <td>0</td>\n",
              "      <td>3.0</td>\n",
              "      <td>2:3:1</td>\n",
              "    </tr>\n",
              "    <tr>\n",
              "      <th>1</th>\n",
              "      <td>2</td>\n",
              "      <td>10-24</td>\n",
              "      <td>25.069</td>\n",
              "      <td>alive</td>\n",
              "      <td>True</td>\n",
              "      <td>True</td>\n",
              "      <td>1</td>\n",
              "      <td>f</td>\n",
              "      <td>72</td>\n",
              "      <td>1997</td>\n",
              "      <td>1995.0</td>\n",
              "      <td>deploy</td>\n",
              "      <td>driver</td>\n",
              "      <td>1</td>\n",
              "      <td>1.0</td>\n",
              "      <td>2:3:2</td>\n",
              "    </tr>\n",
              "    <tr>\n",
              "      <th>2</th>\n",
              "      <td>3</td>\n",
              "      <td>10-24</td>\n",
              "      <td>32.379</td>\n",
              "      <td>alive</td>\n",
              "      <td>False</td>\n",
              "      <td>False</td>\n",
              "      <td>1</td>\n",
              "      <td>f</td>\n",
              "      <td>69</td>\n",
              "      <td>1997</td>\n",
              "      <td>1988.0</td>\n",
              "      <td>unavail</td>\n",
              "      <td>driver</td>\n",
              "      <td>0</td>\n",
              "      <td>4.0</td>\n",
              "      <td>2:5:1</td>\n",
              "    </tr>\n",
              "    <tr>\n",
              "      <th>3</th>\n",
              "      <td>4</td>\n",
              "      <td>25-39</td>\n",
              "      <td>495.444</td>\n",
              "      <td>alive</td>\n",
              "      <td>True</td>\n",
              "      <td>True</td>\n",
              "      <td>1</td>\n",
              "      <td>f</td>\n",
              "      <td>53</td>\n",
              "      <td>1997</td>\n",
              "      <td>1995.0</td>\n",
              "      <td>deploy</td>\n",
              "      <td>driver</td>\n",
              "      <td>1</td>\n",
              "      <td>1.0</td>\n",
              "      <td>2:10:1</td>\n",
              "    </tr>\n",
              "    <tr>\n",
              "      <th>4</th>\n",
              "      <td>5</td>\n",
              "      <td>25-39</td>\n",
              "      <td>25.069</td>\n",
              "      <td>alive</td>\n",
              "      <td>False</td>\n",
              "      <td>True</td>\n",
              "      <td>1</td>\n",
              "      <td>f</td>\n",
              "      <td>32</td>\n",
              "      <td>1997</td>\n",
              "      <td>1988.0</td>\n",
              "      <td>unavail</td>\n",
              "      <td>driver</td>\n",
              "      <td>0</td>\n",
              "      <td>3.0</td>\n",
              "      <td>2:11:1</td>\n",
              "    </tr>\n",
              "    <tr>\n",
              "      <th>5</th>\n",
              "      <td>6</td>\n",
              "      <td>40-54</td>\n",
              "      <td>25.069</td>\n",
              "      <td>alive</td>\n",
              "      <td>False</td>\n",
              "      <td>True</td>\n",
              "      <td>1</td>\n",
              "      <td>f</td>\n",
              "      <td>22</td>\n",
              "      <td>1997</td>\n",
              "      <td>1985.0</td>\n",
              "      <td>unavail</td>\n",
              "      <td>driver</td>\n",
              "      <td>0</td>\n",
              "      <td>3.0</td>\n",
              "      <td>2:11:2</td>\n",
              "    </tr>\n",
              "    <tr>\n",
              "      <th>6</th>\n",
              "      <td>7</td>\n",
              "      <td>55+</td>\n",
              "      <td>27.078</td>\n",
              "      <td>alive</td>\n",
              "      <td>False</td>\n",
              "      <td>True</td>\n",
              "      <td>1</td>\n",
              "      <td>m</td>\n",
              "      <td>22</td>\n",
              "      <td>1997</td>\n",
              "      <td>1984.0</td>\n",
              "      <td>unavail</td>\n",
              "      <td>driver</td>\n",
              "      <td>0</td>\n",
              "      <td>3.0</td>\n",
              "      <td>2:13:1</td>\n",
              "    </tr>\n",
              "    <tr>\n",
              "      <th>7</th>\n",
              "      <td>8</td>\n",
              "      <td>55+</td>\n",
              "      <td>27.078</td>\n",
              "      <td>dead</td>\n",
              "      <td>False</td>\n",
              "      <td>False</td>\n",
              "      <td>1</td>\n",
              "      <td>m</td>\n",
              "      <td>32</td>\n",
              "      <td>1997</td>\n",
              "      <td>1987.0</td>\n",
              "      <td>unavail</td>\n",
              "      <td>driver</td>\n",
              "      <td>0</td>\n",
              "      <td>4.0</td>\n",
              "      <td>2:13:2</td>\n",
              "    </tr>\n",
              "    <tr>\n",
              "      <th>8</th>\n",
              "      <td>9</td>\n",
              "      <td>10-24</td>\n",
              "      <td>812.869</td>\n",
              "      <td>alive</td>\n",
              "      <td>False</td>\n",
              "      <td>True</td>\n",
              "      <td>0</td>\n",
              "      <td>m</td>\n",
              "      <td>40</td>\n",
              "      <td>1997</td>\n",
              "      <td>1984.0</td>\n",
              "      <td>unavail</td>\n",
              "      <td>driver</td>\n",
              "      <td>0</td>\n",
              "      <td>1.0</td>\n",
              "      <td>2:14:1</td>\n",
              "    </tr>\n",
              "    <tr>\n",
              "      <th>9</th>\n",
              "      <td>10</td>\n",
              "      <td>10-24</td>\n",
              "      <td>812.869</td>\n",
              "      <td>alive</td>\n",
              "      <td>False</td>\n",
              "      <td>True</td>\n",
              "      <td>1</td>\n",
              "      <td>f</td>\n",
              "      <td>18</td>\n",
              "      <td>1997</td>\n",
              "      <td>1987.0</td>\n",
              "      <td>unavail</td>\n",
              "      <td>driver</td>\n",
              "      <td>0</td>\n",
              "      <td>0.0</td>\n",
              "      <td>2:14:2</td>\n",
              "    </tr>\n",
              "  </tbody>\n",
              "</table>\n",
              "</div>"
            ],
            "text/plain": [
              "   Unnamed: 0  dvcat   weight   dead  ...  occRole  deploy  injSeverity  caseid\n",
              "0           1  25-39   25.069  alive  ...   driver       0          3.0   2:3:1\n",
              "1           2  10-24   25.069  alive  ...   driver       1          1.0   2:3:2\n",
              "2           3  10-24   32.379  alive  ...   driver       0          4.0   2:5:1\n",
              "3           4  25-39  495.444  alive  ...   driver       1          1.0  2:10:1\n",
              "4           5  25-39   25.069  alive  ...   driver       0          3.0  2:11:1\n",
              "5           6  40-54   25.069  alive  ...   driver       0          3.0  2:11:2\n",
              "6           7    55+   27.078  alive  ...   driver       0          3.0  2:13:1\n",
              "7           8    55+   27.078   dead  ...   driver       0          4.0  2:13:2\n",
              "8           9  10-24  812.869  alive  ...   driver       0          1.0  2:14:1\n",
              "9          10  10-24  812.869  alive  ...   driver       0          0.0  2:14:2\n",
              "\n",
              "[10 rows x 16 columns]"
            ]
          },
          "metadata": {
            "tags": []
          },
          "execution_count": 319
        }
      ]
    },
    {
      "cell_type": "code",
      "metadata": {
        "id": "kgnJKAW9sGP5",
        "colab_type": "code",
        "colab": {
          "base_uri": "https://localhost:8080/",
          "height": 185
        },
        "outputId": "f9b4aaa7-f908-4929-dac1-1c854622cbee"
      },
      "source": [
        "print(df['airbag'].value_counts())\n",
        "print(df['seatbelt'].value_counts())\n",
        "#\n",
        "print(df['dead'].value_counts())"
      ],
      "execution_count": 320,
      "outputs": [
        {
          "output_type": "stream",
          "text": [
            "True     14419\n",
            "False    11798\n",
            "Name: airbag, dtype: int64\n",
            "True     18573\n",
            "False     7644\n",
            "Name: seatbelt, dtype: int64\n",
            "alive    25037\n",
            "dead      1180\n",
            "Name: dead, dtype: int64\n"
          ],
          "name": "stdout"
        }
      ]
    },
    {
      "cell_type": "code",
      "metadata": {
        "id": "SnhcEjpwsTJB",
        "colab_type": "code",
        "colab": {
          "base_uri": "https://localhost:8080/",
          "height": 262
        },
        "outputId": "4cacf3c4-6360-4d49-a193-e6687664872a"
      },
      "source": [
        "#Not we will change the dead column to true and false aswell to make processing the data easier\n",
        "## Note, If the person died, the value will be set to ture, and if the survived it will be set to false\n",
        "df.replace({'dead': {'alive': False, 'dead': True}},inplace=True)\n",
        "print(df['dead'].value_counts())\n",
        "df.head()\n"
      ],
      "execution_count": 321,
      "outputs": [
        {
          "output_type": "stream",
          "text": [
            "False    25037\n",
            "True      1180\n",
            "Name: dead, dtype: int64\n"
          ],
          "name": "stdout"
        },
        {
          "output_type": "execute_result",
          "data": {
            "text/html": [
              "<div>\n",
              "<style scoped>\n",
              "    .dataframe tbody tr th:only-of-type {\n",
              "        vertical-align: middle;\n",
              "    }\n",
              "\n",
              "    .dataframe tbody tr th {\n",
              "        vertical-align: top;\n",
              "    }\n",
              "\n",
              "    .dataframe thead th {\n",
              "        text-align: right;\n",
              "    }\n",
              "</style>\n",
              "<table border=\"1\" class=\"dataframe\">\n",
              "  <thead>\n",
              "    <tr style=\"text-align: right;\">\n",
              "      <th></th>\n",
              "      <th>Unnamed: 0</th>\n",
              "      <th>dvcat</th>\n",
              "      <th>weight</th>\n",
              "      <th>dead</th>\n",
              "      <th>airbag</th>\n",
              "      <th>seatbelt</th>\n",
              "      <th>frontal</th>\n",
              "      <th>sex</th>\n",
              "      <th>ageOFocc</th>\n",
              "      <th>yearacc</th>\n",
              "      <th>yearVeh</th>\n",
              "      <th>abcat</th>\n",
              "      <th>occRole</th>\n",
              "      <th>deploy</th>\n",
              "      <th>injSeverity</th>\n",
              "      <th>caseid</th>\n",
              "    </tr>\n",
              "  </thead>\n",
              "  <tbody>\n",
              "    <tr>\n",
              "      <th>0</th>\n",
              "      <td>1</td>\n",
              "      <td>25-39</td>\n",
              "      <td>25.069</td>\n",
              "      <td>False</td>\n",
              "      <td>False</td>\n",
              "      <td>True</td>\n",
              "      <td>1</td>\n",
              "      <td>f</td>\n",
              "      <td>26</td>\n",
              "      <td>1997</td>\n",
              "      <td>1990.0</td>\n",
              "      <td>unavail</td>\n",
              "      <td>driver</td>\n",
              "      <td>0</td>\n",
              "      <td>3.0</td>\n",
              "      <td>2:3:1</td>\n",
              "    </tr>\n",
              "    <tr>\n",
              "      <th>1</th>\n",
              "      <td>2</td>\n",
              "      <td>10-24</td>\n",
              "      <td>25.069</td>\n",
              "      <td>False</td>\n",
              "      <td>True</td>\n",
              "      <td>True</td>\n",
              "      <td>1</td>\n",
              "      <td>f</td>\n",
              "      <td>72</td>\n",
              "      <td>1997</td>\n",
              "      <td>1995.0</td>\n",
              "      <td>deploy</td>\n",
              "      <td>driver</td>\n",
              "      <td>1</td>\n",
              "      <td>1.0</td>\n",
              "      <td>2:3:2</td>\n",
              "    </tr>\n",
              "    <tr>\n",
              "      <th>2</th>\n",
              "      <td>3</td>\n",
              "      <td>10-24</td>\n",
              "      <td>32.379</td>\n",
              "      <td>False</td>\n",
              "      <td>False</td>\n",
              "      <td>False</td>\n",
              "      <td>1</td>\n",
              "      <td>f</td>\n",
              "      <td>69</td>\n",
              "      <td>1997</td>\n",
              "      <td>1988.0</td>\n",
              "      <td>unavail</td>\n",
              "      <td>driver</td>\n",
              "      <td>0</td>\n",
              "      <td>4.0</td>\n",
              "      <td>2:5:1</td>\n",
              "    </tr>\n",
              "    <tr>\n",
              "      <th>3</th>\n",
              "      <td>4</td>\n",
              "      <td>25-39</td>\n",
              "      <td>495.444</td>\n",
              "      <td>False</td>\n",
              "      <td>True</td>\n",
              "      <td>True</td>\n",
              "      <td>1</td>\n",
              "      <td>f</td>\n",
              "      <td>53</td>\n",
              "      <td>1997</td>\n",
              "      <td>1995.0</td>\n",
              "      <td>deploy</td>\n",
              "      <td>driver</td>\n",
              "      <td>1</td>\n",
              "      <td>1.0</td>\n",
              "      <td>2:10:1</td>\n",
              "    </tr>\n",
              "    <tr>\n",
              "      <th>4</th>\n",
              "      <td>5</td>\n",
              "      <td>25-39</td>\n",
              "      <td>25.069</td>\n",
              "      <td>False</td>\n",
              "      <td>False</td>\n",
              "      <td>True</td>\n",
              "      <td>1</td>\n",
              "      <td>f</td>\n",
              "      <td>32</td>\n",
              "      <td>1997</td>\n",
              "      <td>1988.0</td>\n",
              "      <td>unavail</td>\n",
              "      <td>driver</td>\n",
              "      <td>0</td>\n",
              "      <td>3.0</td>\n",
              "      <td>2:11:1</td>\n",
              "    </tr>\n",
              "  </tbody>\n",
              "</table>\n",
              "</div>"
            ],
            "text/plain": [
              "   Unnamed: 0  dvcat   weight   dead  ...  occRole  deploy  injSeverity  caseid\n",
              "0           1  25-39   25.069  False  ...   driver       0          3.0   2:3:1\n",
              "1           2  10-24   25.069  False  ...   driver       1          1.0   2:3:2\n",
              "2           3  10-24   32.379  False  ...   driver       0          4.0   2:5:1\n",
              "3           4  25-39  495.444  False  ...   driver       1          1.0  2:10:1\n",
              "4           5  25-39   25.069  False  ...   driver       0          3.0  2:11:1\n",
              "\n",
              "[5 rows x 16 columns]"
            ]
          },
          "metadata": {
            "tags": []
          },
          "execution_count": 321
        }
      ]
    },
    {
      "cell_type": "code",
      "metadata": {
        "id": "H5xKG0VQPNzn",
        "colab_type": "code",
        "colab": {}
      },
      "source": [
        ""
      ],
      "execution_count": 0,
      "outputs": []
    },
    {
      "cell_type": "code",
      "metadata": {
        "id": "7QZmsvcbDCMu",
        "colab_type": "code",
        "colab": {
          "base_uri": "https://localhost:8080/",
          "height": 366
        },
        "outputId": "c194d6ff-7f6c-4919-b452-bbd341e65a08"
      },
      "source": [
        "\n",
        "#alive with airbag vs alaive without airbag\n",
        "df.groupby('airbag').dead.mean().plot(kind='bar', figsize=(12,5))\n",
        "plt.title('Comparing Car Crash Deaths With and Without Airbags')\n",
        "plt.xlabel('Airbag')\n",
        "plt.ylabel('Death Rate')\n",
        "plt.show();"
      ],
      "execution_count": 322,
      "outputs": [
        {
          "output_type": "display_data",
          "data": {
            "image/png": "[encoded data removed]",
            "text/plain": [
              "<Figure size 864x360 with 1 Axes>"
            ]
          },
          "metadata": {
            "tags": []
          }
        }
      ]
    },
    {
      "cell_type": "code",
      "metadata": {
        "id": "qPcAyUDyDCHU",
        "colab_type": "code",
        "colab": {}
      },
      "source": [
        "import matplotlib.pyplot as plt\n",
        "#Now we can visualize this data better with plt"
      ],
      "execution_count": 0,
      "outputs": []
    },
    {
      "cell_type": "code",
      "metadata": {
        "id": "ISzClY_4TDkD",
        "colab_type": "code",
        "colab": {
          "base_uri": "https://localhost:8080/",
          "height": 185
        },
        "outputId": "ed770d27-0dc4-4df5-d88e-f294d72ad1bf"
      },
      "source": [
        "#cleaning the inj severity column\n",
        "df.injSeverity.describe()"
      ],
      "execution_count": 324,
      "outputs": [
        {
          "output_type": "execute_result",
          "data": {
            "text/plain": [
              "count    26064.000000\n",
              "mean         1.715508\n",
              "std          1.293357\n",
              "min          0.000000\n",
              "25%          1.000000\n",
              "50%          2.000000\n",
              "75%          3.000000\n",
              "max          6.000000\n",
              "Name: injSeverity, dtype: float64"
            ]
          },
          "metadata": {
            "tags": []
          },
          "execution_count": 324
        }
      ]
    },
    {
      "cell_type": "code",
      "metadata": {
        "id": "l7k-sjQyTPng",
        "colab_type": "code",
        "colab": {}
      },
      "source": [
        "#since there are only 153 nan in this column out of 26064, I am going to fill the nan values \n",
        "#with a random number in the range of 0 - 5\n",
        "import random\n",
        "\n",
        "\n",
        "df['injSeverity'].fillna(float(random.randrange(0,6)), inplace=True)"
      ],
      "execution_count": 0,
      "outputs": []
    },
    {
      "cell_type": "code",
      "metadata": {
        "id": "ZvLgOQaTUBUv",
        "colab_type": "code",
        "colab": {
          "base_uri": "https://localhost:8080/",
          "height": 185
        },
        "outputId": "e0048509-730a-4ed0-acb7-f325125bdae3"
      },
      "source": [
        "print(df['injSeverity'].isna().sum())\n",
        "print(df.injSeverity.value_counts())"
      ],
      "execution_count": 326,
      "outputs": [
        {
          "output_type": "stream",
          "text": [
            "0\n",
            "3.0    8495\n",
            "0.0    6479\n",
            "1.0    5595\n",
            "2.0    4242\n",
            "4.0    1118\n",
            "5.0     286\n",
            "6.0       2\n",
            "Name: injSeverity, dtype: int64\n"
          ],
          "name": "stdout"
        }
      ]
    },
    {
      "cell_type": "code",
      "metadata": {
        "id": "gahXq8i6WPtg",
        "colab_type": "code",
        "colab": {
          "base_uri": "https://localhost:8080/",
          "height": 335
        },
        "outputId": "1ab7b94e-0181-4df6-98b2-e51b56cef0e8"
      },
      "source": [
        "df.dtypes"
      ],
      "execution_count": 327,
      "outputs": [
        {
          "output_type": "execute_result",
          "data": {
            "text/plain": [
              "Unnamed: 0       int64\n",
              "dvcat           object\n",
              "weight         float64\n",
              "dead              bool\n",
              "airbag            bool\n",
              "seatbelt          bool\n",
              "frontal          int64\n",
              "sex             object\n",
              "ageOFocc         int64\n",
              "yearacc          int64\n",
              "yearVeh        float64\n",
              "abcat           object\n",
              "occRole         object\n",
              "deploy           int64\n",
              "injSeverity    float64\n",
              "caseid          object\n",
              "dtype: object"
            ]
          },
          "metadata": {
            "tags": []
          },
          "execution_count": 327
        }
      ]
    },
    {
      "cell_type": "code",
      "metadata": {
        "id": "1r2hBzhwPcMd",
        "colab_type": "code",
        "colab": {
          "base_uri": "https://localhost:8080/",
          "height": 295
        },
        "outputId": "5f99bb0d-6070-478f-e02f-5547f3e3e9b6"
      },
      "source": [
        "#bar graph comparing injury severity compared to having airbags\n",
        "import seaborn as sns\n",
        "sns.barplot(x=df.airbag, y=df.injSeverity)\n",
        "plt.title('Injury Severity With and Without Airbags')\n",
        "plt.xlabel('Airbag')\n",
        "plt.ylabel('Injury Severity');"
      ],
      "execution_count": 328,
      "outputs": [
        {
          "output_type": "display_data",
          "data": {
            "image/png": "[encoded data removed]",
            "text/plain": [
              "<Figure size 432x288 with 1 Axes>"
            ]
          },
          "metadata": {
            "tags": []
          }
        }
      ]
    },
    {
      "cell_type": "code",
      "metadata": {
        "id": "gOSvgLjNPcVr",
        "colab_type": "code",
        "colab": {
          "base_uri": "https://localhost:8080/",
          "height": 295
        },
        "outputId": "ce7aed50-3351-4be2-e2b3-a384b5aad3b2"
      },
      "source": [
        "#This one will now show injsev compared to if the airbag deployed, the rresults are interesting\n",
        "sns.barplot(x=df.deploy, y=df.injSeverity)\n",
        "plt.title('Injury Severity With and Without Airrbag Deployment')\n",
        "plt.xlabel(\"Airbag Deplyed (0 is No, 1 is Yes)\")\n",
        "plt.ylabel('Injury Severity');"
      ],
      "execution_count": 329,
      "outputs": [
        {
          "output_type": "display_data",
          "data": {
            "image/png": "[encoded data removed]",
            "text/plain": [
              "<Figure size 432x288 with 1 Axes>"
            ]
          },
          "metadata": {
            "tags": []
          }
        }
      ]
    },
    {
      "cell_type": "code",
      "metadata": {
        "id": "Khp0pLJgPcdt",
        "colab_type": "code",
        "colab": {}
      },
      "source": [
        ""
      ],
      "execution_count": 0,
      "outputs": []
    },
    {
      "cell_type": "markdown",
      "metadata": {
        "id": "oPVd3sahbm2p",
        "colab_type": "text"
      },
      "source": [
        "###1) I chose a data set comparing cars that have airbags to cars that do not. The results that I got surprised me. To start I had to clean the data, and to do that, I first changed columns that had 'words' in them to something the computer can understand. In this case I used true and false values. I then needed to remove any data cell that contaned a NaN value. A NaN is really the lack of a value, meaning there is no data there. I was able to fill them since there were so few with either the average of that column or a random range. I then made a bar graph showing the injury serverity of crash victims with and without an airbag. I then did the same with airbag deployment. \n",
        "###2) The most challenging thiing for me was finding a good dataset. After trying many I settled on this, but I am still not happy with it. There are way to many true and false values so I felt like I could not do anything that interesting with the data.\n",
        "###3) I learned that you will always get data you do not like working with, but you need to do it anyway. Being able to work with all types of data is something all data scientists need to learn how to do. I still need alot more practice, but I thing I was able to work with this dataset pretty well.\n",
        "###4) I would like to find more datasets, and I would also like to drive deeper into the many differrent ways to visualize the data. Like the different graphs and such that libraries like Seaborn have to offer.  "
      ]
    },
    {
      "cell_type": "markdown",
      "metadata": {
        "id": "BT9gdS7viJZa",
        "colab_type": "text"
      },
      "source": [
        "### Assignment questions\n",
        "\n",
        "After you've worked on some code, answer the following questions in this text block:\n",
        "\n",
        "1.  Describe in a paragraph of text what you did and why, as if you were writing an email to somebody interested but nontechnical.\n",
        "\n",
        "2.  What was the most challenging part of what you did?\n",
        "\n",
        "3.  What was the most interesting thing you learned?\n",
        "\n",
        "4.  What area would you like to explore with more time?\n",
        "\n",
        "\n"
      ]
    },
    {
      "cell_type": "markdown",
      "metadata": {
        "id": "_XXg2crAipwP",
        "colab_type": "text"
      },
      "source": [
        "## Stretch goals and resources\n",
        "\n",
        "Following are *optional* things for you to take a look at. Focus on the above assignment first, and make sure to commit and push your changes to GitHub (and since this is the first assignment of the sprint, open a PR as well).\n",
        "\n",
        "- [pandas documentation](https://pandas.pydata.org/pandas-docs/stable/)\n",
        "- [scikit-learn documentation](http://scikit-learn.org/stable/documentation.html)\n",
        "- [matplotlib documentation](https://matplotlib.org/contents.html)\n",
        "- [Awesome Data Science](https://github.com/bulutyazilim/awesome-datascience) - a list of many types of DS resources\n",
        "\n",
        "Stretch goals:\n",
        "\n",
        "- Find and read blogs, walkthroughs, and other examples of people working through cool things with data science - and share with your classmates!\n",
        "- Write a blog post (Medium is a popular place to publish) introducing yourself as somebody learning data science, and talking about what you've learned already and what you're excited to learn more about."
      ]
    }
  ]
}