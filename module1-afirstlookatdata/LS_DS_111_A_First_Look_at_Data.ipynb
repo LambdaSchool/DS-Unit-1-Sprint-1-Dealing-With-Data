{
  "nbformat": 4,
  "nbformat_minor": 0,
  "metadata": {
    "colab": {
      "name": "LS DS 111 - A First Look at Data.ipynb",
      "version": "0.3.2",
      "provenance": []
    },
    "kernelspec": {
      "name": "python3",
      "display_name": "Python 3"
    }
  },
  "cells": [
    {
      "metadata": {
        "id": "Okfr_uhwhS1X",
        "colab_type": "text"
      },
      "cell_type": "markdown",
      "source": [
        "# Lambda School Data Science - A First Look at Data\n",
        "\n"
      ]
    },
    {
      "metadata": {
        "id": "9dtJETFRhnOG",
        "colab_type": "text"
      },
      "cell_type": "markdown",
      "source": [
        "## Lecture - let's explore Python DS libraries and examples!\n",
        "\n",
        "The Python Data Science ecosystem is huge. You've seen some of the big pieces - pandas, scikit-learn, matplotlib. What parts do you want to see more of?"
      ]
    },
    {
      "metadata": {
        "id": "WiBkgmPJhmhE",
        "colab_type": "code",
        "colab": {
          "base_uri": "https://localhost:8080/",
          "height": 233
        },
        "outputId": "240b8839-0c8f-4c3c-f736-7668a99484d7"
      },
      "cell_type": "code",
      "source": [
        "\n"
      ],
      "execution_count": 7,
      "outputs": [
        {
          "output_type": "execute_result",
          "data": {
            "text/html": [
              "<div>\n",
              "<style scoped>\n",
              "    .dataframe tbody tr th:only-of-type {\n",
              "        vertical-align: middle;\n",
              "    }\n",
              "\n",
              "    .dataframe tbody tr th {\n",
              "        vertical-align: top;\n",
              "    }\n",
              "\n",
              "    .dataframe thead th {\n",
              "        text-align: right;\n",
              "    }\n",
              "</style>\n",
              "<table border=\"1\" class=\"dataframe\">\n",
              "  <thead>\n",
              "    <tr style=\"text-align: right;\">\n",
              "      <th></th>\n",
              "      <th>Unnamed: 0</th>\n",
              "      <th>Country</th>\n",
              "      <th>Year</th>\n",
              "      <th>Debt</th>\n",
              "      <th>RGDP</th>\n",
              "      <th>GDP</th>\n",
              "      <th>dRGDP</th>\n",
              "      <th>GDPI</th>\n",
              "      <th>GDP1</th>\n",
              "      <th>GDP2</th>\n",
              "      <th>...</th>\n",
              "      <th>GDPalt</th>\n",
              "      <th>RGDP2alt</th>\n",
              "      <th>debtgdp</th>\n",
              "      <th>GDP3</th>\n",
              "      <th>GNI</th>\n",
              "      <th>lRGDP</th>\n",
              "      <th>lRGDP1</th>\n",
              "      <th>lRGDP2</th>\n",
              "      <th>dgcat</th>\n",
              "      <th>dgcat2</th>\n",
              "    </tr>\n",
              "  </thead>\n",
              "  <tbody>\n",
              "    <tr>\n",
              "      <th>0</th>\n",
              "      <td>1</td>\n",
              "      <td>Australia</td>\n",
              "      <td>1946</td>\n",
              "      <td>5588.8</td>\n",
              "      <td>NaN</td>\n",
              "      <td>NaN</td>\n",
              "      <td>-3.557951</td>\n",
              "      <td>NaN</td>\n",
              "      <td>2935.0</td>\n",
              "      <td>NaN</td>\n",
              "      <td>...</td>\n",
              "      <td>NaN</td>\n",
              "      <td>NaN</td>\n",
              "      <td>190.419080</td>\n",
              "      <td>NaN</td>\n",
              "      <td>NaN</td>\n",
              "      <td>NaN</td>\n",
              "      <td>51108.960</td>\n",
              "      <td>NaN</td>\n",
              "      <td>Above 90%</td>\n",
              "      <td>Above 120%</td>\n",
              "    </tr>\n",
              "    <tr>\n",
              "      <th>1</th>\n",
              "      <td>2</td>\n",
              "      <td>Australia</td>\n",
              "      <td>1947</td>\n",
              "      <td>5534.2</td>\n",
              "      <td>NaN</td>\n",
              "      <td>NaN</td>\n",
              "      <td>2.459475</td>\n",
              "      <td>NaN</td>\n",
              "      <td>3121.0</td>\n",
              "      <td>NaN</td>\n",
              "      <td>...</td>\n",
              "      <td>NaN</td>\n",
              "      <td>NaN</td>\n",
              "      <td>177.321371</td>\n",
              "      <td>NaN</td>\n",
              "      <td>NaN</td>\n",
              "      <td>NaN</td>\n",
              "      <td>49290.528</td>\n",
              "      <td>NaN</td>\n",
              "      <td>Above 90%</td>\n",
              "      <td>Above 120%</td>\n",
              "    </tr>\n",
              "    <tr>\n",
              "      <th>2</th>\n",
              "      <td>3</td>\n",
              "      <td>Australia</td>\n",
              "      <td>1948</td>\n",
              "      <td>5580.4</td>\n",
              "      <td>NaN</td>\n",
              "      <td>NaN</td>\n",
              "      <td>6.437534</td>\n",
              "      <td>NaN</td>\n",
              "      <td>3747.0</td>\n",
              "      <td>NaN</td>\n",
              "      <td>...</td>\n",
              "      <td>NaN</td>\n",
              "      <td>NaN</td>\n",
              "      <td>148.929811</td>\n",
              "      <td>NaN</td>\n",
              "      <td>NaN</td>\n",
              "      <td>NaN</td>\n",
              "      <td>50502.816</td>\n",
              "      <td>NaN</td>\n",
              "      <td>Above 90%</td>\n",
              "      <td>Above 120%</td>\n",
              "    </tr>\n",
              "    <tr>\n",
              "      <th>3</th>\n",
              "      <td>4</td>\n",
              "      <td>Australia</td>\n",
              "      <td>1949</td>\n",
              "      <td>5656.0</td>\n",
              "      <td>NaN</td>\n",
              "      <td>NaN</td>\n",
              "      <td>6.611994</td>\n",
              "      <td>NaN</td>\n",
              "      <td>4324.0</td>\n",
              "      <td>4495.0</td>\n",
              "      <td>...</td>\n",
              "      <td>NaN</td>\n",
              "      <td>NaN</td>\n",
              "      <td>125.828699</td>\n",
              "      <td>NaN</td>\n",
              "      <td>NaN</td>\n",
              "      <td>NaN</td>\n",
              "      <td>53753.952</td>\n",
              "      <td>NaN</td>\n",
              "      <td>Above 90%</td>\n",
              "      <td>Above 120%</td>\n",
              "    </tr>\n",
              "    <tr>\n",
              "      <th>4</th>\n",
              "      <td>5</td>\n",
              "      <td>Australia</td>\n",
              "      <td>1950</td>\n",
              "      <td>5818.8</td>\n",
              "      <td>NaN</td>\n",
              "      <td>NaN</td>\n",
              "      <td>6.920201</td>\n",
              "      <td>NaN</td>\n",
              "      <td>5099.0</td>\n",
              "      <td>5299.0</td>\n",
              "      <td>...</td>\n",
              "      <td>NaN</td>\n",
              "      <td>NaN</td>\n",
              "      <td>109.809398</td>\n",
              "      <td>NaN</td>\n",
              "      <td>NaN</td>\n",
              "      <td>NaN</td>\n",
              "      <td>57308.160</td>\n",
              "      <td>NaN</td>\n",
              "      <td>Above 90%</td>\n",
              "      <td>90-120%</td>\n",
              "    </tr>\n",
              "  </tbody>\n",
              "</table>\n",
              "<p>5 rows × 29 columns</p>\n",
              "</div>"
            ],
            "text/plain": [
              "   Unnamed: 0    Country  Year    Debt  RGDP  GDP     dRGDP  GDPI    GDP1  \\\n",
              "0           1  Australia  1946  5588.8   NaN  NaN -3.557951   NaN  2935.0   \n",
              "1           2  Australia  1947  5534.2   NaN  NaN  2.459475   NaN  3121.0   \n",
              "2           3  Australia  1948  5580.4   NaN  NaN  6.437534   NaN  3747.0   \n",
              "3           4  Australia  1949  5656.0   NaN  NaN  6.611994   NaN  4324.0   \n",
              "4           5  Australia  1950  5818.8   NaN  NaN  6.920201   NaN  5099.0   \n",
              "\n",
              "     GDP2     ...      GDPalt  RGDP2alt     debtgdp  GDP3  GNI  lRGDP  \\\n",
              "0     NaN     ...         NaN       NaN  190.419080   NaN  NaN    NaN   \n",
              "1     NaN     ...         NaN       NaN  177.321371   NaN  NaN    NaN   \n",
              "2     NaN     ...         NaN       NaN  148.929811   NaN  NaN    NaN   \n",
              "3  4495.0     ...         NaN       NaN  125.828699   NaN  NaN    NaN   \n",
              "4  5299.0     ...         NaN       NaN  109.809398   NaN  NaN    NaN   \n",
              "\n",
              "      lRGDP1  lRGDP2      dgcat      dgcat2  \n",
              "0  51108.960     NaN  Above 90%  Above 120%  \n",
              "1  49290.528     NaN  Above 90%  Above 120%  \n",
              "2  50502.816     NaN  Above 90%  Above 120%  \n",
              "3  53753.952     NaN  Above 90%  Above 120%  \n",
              "4  57308.160     NaN  Above 90%     90-120%  \n",
              "\n",
              "[5 rows x 29 columns]"
            ]
          },
          "metadata": {
            "tags": []
          },
          "execution_count": 7
        }
      ]
    },
    {
      "metadata": {
        "id": "lOqaPds9huME",
        "colab_type": "text"
      },
      "cell_type": "markdown",
      "source": [
        "## Assignment - now it's your turn\n",
        "\n",
        "Pick at least one Python DS library, and using documentation/examples reproduce in this notebook something cool. It's OK if you don't fully understand it or get it 100% working, but do put in effort and look things up."
      ]
    },
    {
      "metadata": {
        "id": "TGUS79cOhPWj",
        "colab_type": "code",
        "colab": {
          "base_uri": "https://localhost:8080/",
          "height": 129
        },
        "outputId": "0a2d52aa-c725-4f8c-8f9e-e225d3d6d061"
      },
      "cell_type": "code",
      "source": [
        "import statsmodels.api as sm\n",
        "import patsy\n",
        "import pandas as pd\n",
        "import numpy as np\n",
        "import matplotlib.pyplot as plt\n",
        "\n",
        "RR = pd.read_csv('https://gist.githubusercontent.com/vincentarelbundock/5409893/raw/a623f2f3bae027a0e51dd01ac5b70d44d909a7b9/RR-processed.csv')\n",
        "RR.groupby('Country').size()\n",
        "bins = [\"0-30%\",\"30-60%\",\"60-90%\",\"Above 90%\"]\n",
        "RR['dgcat'] = np.digitize(RR.debtgdp, [0,30,60,90,np.inf]) - 1\n",
        "RR.dgcat = [bins[x] for x in RR.dgcat]\n",
        "\n",
        "bins = [\"0-30%\",\"30-60%\",\"60-90%\",\"90-120%\",\"Above 120%\"]\n",
        "RR['dgcat2'] = np.digitize(RR.debtgdp, [0,30,60,90,120,np.inf]) - 1\n",
        "RR.dgcat2 = [bins[x] for x in RR.dgcat2]\n",
        "\n",
        "RR.head(5)\n",
        "\n",
        "y,X = patsy.dmatrices('dRGDP ~ dgcat', data=RR[['dRGDP', 'dgcat']].dropna())\n",
        "print sm.OLS(y,X).fit().summary()\n",
        "\n",
        "\n",
        "#Code seems to not work in google colab or was written in python 2. "
      ],
      "execution_count": 8,
      "outputs": [
        {
          "output_type": "error",
          "ename": "SyntaxError",
          "evalue": "ignored",
          "traceback": [
            "\u001b[0;36m  File \u001b[0;32m\"<ipython-input-8-ad548306715c>\"\u001b[0;36m, line \u001b[0;32m20\u001b[0m\n\u001b[0;31m    print sm.OLS(y,X).fit().summary()\u001b[0m\n\u001b[0m           ^\u001b[0m\n\u001b[0;31mSyntaxError\u001b[0m\u001b[0;31m:\u001b[0m invalid syntax\n"
          ]
        }
      ]
    },
    {
      "metadata": {
        "id": "BT9gdS7viJZa",
        "colab_type": "text"
      },
      "cell_type": "markdown",
      "source": [
        "### Assignment questions\n",
        "\n",
        "After you've worked on some code, answer the following questions in this text block:\n",
        "\n",
        "\n",
        "1. Today I became familiar with the logistics of being a lambda school student.\n",
        "\n",
        "2.  Nothing has been challenging so far.\n",
        "\n",
        "3.  Learning how to connect Colab with github.\n",
        "\n",
        "4.  Definitely machine learning and neural nets.\n",
        "\n"
      ]
    },
    {
      "metadata": {
        "id": "_XXg2crAipwP",
        "colab_type": "text"
      },
      "cell_type": "markdown",
      "source": [
        "## Stretch goals and resources\n",
        "\n",
        "Following are *optional* things for you to take a look at. Focus on the above assignment first, and make sure to commit and push your changes to GitHub (and since this is the first assignment of the sprint, open a PR as well).\n",
        "\n",
        "- [pandas documentation](https://pandas.pydata.org/pandas-docs/stable/)\n",
        "- [scikit-learn documentation](http://scikit-learn.org/stable/documentation.html)\n",
        "- [matplotlib documentation](https://matplotlib.org/contents.html)\n",
        "- [Awesome Data Science](https://github.com/bulutyazilim/awesome-datascience) - a list of many types of DS resources\n",
        "\n",
        "Stretch goals:\n",
        "\n",
        "- Find and read blogs, walkthroughs, and other examples of people working through cool things with data science - and share with your classmates!\n",
        "- Write a blog post (Medium is a popular place to publish) introducing yourself as somebody learning data science, and talking about what you've learned already and what you're excited to learn more about"
      ]
    }
  ]
}