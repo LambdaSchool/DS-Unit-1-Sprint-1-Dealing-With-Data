{
  "nbformat": 4,
  "nbformat_minor": 0,
  "metadata": {
    "colab": {
      "name": "LS DS 111 - A First Look at Data.ipynb",
      "version": "0.3.2",
      "provenance": [],
      "include_colab_link": true
    },
    "kernelspec": {
      "name": "python3",
      "display_name": "Python 3"
    }
  },
  "cells": [
    {
      "cell_type": "markdown",
      "metadata": {
        "id": "view-in-github",
        "colab_type": "text"
      },
      "source": [
        "<a href=\"https://colab.research.google.com/github/DimaKav/DS-Sprint-01-Dealing-With-Data/blob/master/module1-afirstlookatdata/LS_DS_111_A_First_Look_at_Data.ipynb\" target=\"_parent\"><img src=\"https://colab.research.google.com/assets/colab-badge.svg\" alt=\"Open In Colab\"/></a>"
      ]
    },
    {
      "metadata": {
        "id": "Okfr_uhwhS1X",
        "colab_type": "text"
      },
      "cell_type": "markdown",
      "source": [
        "# Lambda School Data Science - A First Look at Data\n",
        "\n"
      ]
    },
    {
      "metadata": {
        "id": "9dtJETFRhnOG",
        "colab_type": "text"
      },
      "cell_type": "markdown",
      "source": [
        "## Lecture - let's explore Python DS libraries and examples!\n",
        "\n",
        "The Python Data Science ecosystem is huge. You've seen some of the big pieces - pandas, scikit-learn, matplotlib. What parts do you want to see more of?"
      ]
    },
    {
      "metadata": {
        "id": "Rg2R4VSf2BD5",
        "colab_type": "text"
      },
      "cell_type": "markdown",
      "source": [
        "I would like to see more data visualization."
      ]
    },
    {
      "metadata": {
        "id": "WiBkgmPJhmhE",
        "colab_type": "code",
        "colab": {
          "base_uri": "https://localhost:8080/",
          "height": 34
        },
        "outputId": "725ee1c5-cfa7-4010-fe08-14cc8afe8604"
      },
      "cell_type": "code",
      "source": [
        "# TODO - we'll be doing this live, taking requests\n",
        "# and reproducing what it is to look up and learn things\n",
        "\n",
        "# First five things you can do with the number 1\n",
        "dir(1)[0:5]"
      ],
      "execution_count": 20,
      "outputs": [
        {
          "output_type": "execute_result",
          "data": {
            "text/plain": [
              "['__abs__', '__add__', '__and__', '__bool__', '__ceil__']"
            ]
          },
          "metadata": {
            "tags": []
          },
          "execution_count": 20
        }
      ]
    },
    {
      "metadata": {
        "id": "lOqaPds9huME",
        "colab_type": "text"
      },
      "cell_type": "markdown",
      "source": [
        "## Assignment - now it's your turn\n",
        "\n",
        "Pick at least one Python DS library, and using documentation/examples reproduce in this notebook something cool. It's OK if you don't fully understand it or get it 100% working, but do put in effort and look things up."
      ]
    },
    {
      "metadata": {
        "id": "BT9gdS7viJZa",
        "colab_type": "text"
      },
      "cell_type": "markdown",
      "source": [
        "### Assignment questions\n",
        "\n",
        "After you've worked on some code, answer the following questions in this text block:\n",
        "\n",
        "1.  Describe in a paragraph of text what you did and why, as if you were writing an email to somebody interested but nontechnical.\n",
        "\n",
        "2.  What was the most challenging part of what you did?\n",
        "\n",
        "3.  What was the most interesting thing you learned?\n",
        "\n",
        "4.  What area would you like to explore with more time?\n",
        "\n",
        "\n"
      ]
    },
    {
      "metadata": {
        "id": "TGUS79cOhPWj",
        "colab_type": "code",
        "colab": {}
      },
      "cell_type": "code",
      "source": [
        "# TODO - your code here\n",
        "# Use what we did live in lecture as an example"
      ],
      "execution_count": 0,
      "outputs": []
    },
    {
      "metadata": {
        "id": "Wqr0JkA0lCPK",
        "colab_type": "code",
        "colab": {}
      },
      "cell_type": "code",
      "source": [
        "# Use yelp data to predict a restaurant's yelp rating\n",
        "\n",
        "\n",
        "# Load data\n",
        "import pandas as pd\n",
        "\n",
        "businesses = pd.read_json('yelp_business.json', lines=True)\n",
        "reviews = pd.read_json('yelp_review.json', lines=True)\n",
        "users = pd.read_json('yelp_user.json', lines=True)\n",
        "checkins = pd.read_json('yelp_checkin.json', lines=True)\n",
        "tips = pd.read_json('yelp_tip.json', lines=True)\n",
        "photos = pd.read_json('yelp_photo.json', lines=True)"
      ],
      "execution_count": 0,
      "outputs": []
    },
    {
      "metadata": {
        "id": "ScIp3zVqlHG4",
        "colab_type": "code",
        "colab": {}
      },
      "cell_type": "code",
      "source": [
        "# Combine data with respect to the target variable, rating\n",
        "df = pd.merge(businesses, reviews, how='left', on='business_id')\n",
        "df = pd.merge(df, users, how='left', on='business_id')\n",
        "df = pd.merge(df, checkins, how='left', on='business_id')\n",
        "df = pd.merge(df, tips, how='left', on='business_id')\n",
        "df = pd.merge(df, photos, how='left', on='business_id')"
      ],
      "execution_count": 0,
      "outputs": []
    },
    {
      "metadata": {
        "id": "FAtIKNhYlXgG",
        "colab_type": "code",
        "colab": {}
      },
      "cell_type": "code",
      "source": [
        "# Clean the data to get rid of the non-predictive features\n",
        "features_to_remove = ['address','attributes','business_id','categories','city','hours','is_open','latitude','longitude','name','neighborhood','postal_code','state','time']\n",
        "df.drop(features_to_remove, axis=1, inplace=True)"
      ],
      "execution_count": 0,
      "outputs": []
    },
    {
      "metadata": {
        "id": "3kjW4fFelfKB",
        "colab_type": "code",
        "colab": {
          "base_uri": "https://localhost:8080/",
          "height": 476
        },
        "outputId": "8da7a0d7-448c-4113-df9d-bdd021f17faa"
      },
      "cell_type": "code",
      "source": [
        "# Fill nans with 0\n",
        "df.fillna(0, inplace=True)\n",
        "print(df.isna().any())"
      ],
      "execution_count": 46,
      "outputs": [
        {
          "output_type": "stream",
          "text": [
            "alcohol?                      False\n",
            "good_for_kids                 False\n",
            "has_bike_parking              False\n",
            "has_wifi                      False\n",
            "price_range                   False\n",
            "review_count                  False\n",
            "stars                         False\n",
            "take_reservations             False\n",
            "takes_credit_cards            False\n",
            "average_review_age            False\n",
            "average_review_length         False\n",
            "average_review_sentiment      False\n",
            "number_cool_votes             False\n",
            "number_funny_votes            False\n",
            "number_useful_votes           False\n",
            "average_days_on_yelp          False\n",
            "average_number_fans           False\n",
            "average_number_friends        False\n",
            "average_number_years_elite    False\n",
            "average_review_count          False\n",
            "weekday_checkins              False\n",
            "weekend_checkins              False\n",
            "average_tip_length            False\n",
            "number_tips                   False\n",
            "average_caption_length        False\n",
            "number_pics                   False\n",
            "dtype: bool\n"
          ],
          "name": "stdout"
        }
      ]
    },
    {
      "metadata": {
        "id": "gK-2M4eflkrR",
        "colab_type": "code",
        "colab": {
          "base_uri": "https://localhost:8080/",
          "height": 476
        },
        "outputId": "299ec3a0-42eb-491b-ac74-792fac78bce7"
      },
      "cell_type": "code",
      "source": [
        "# See which features are most correlated to rating\n",
        "df.corr().stars.sort_values()"
      ],
      "execution_count": 48,
      "outputs": [
        {
          "output_type": "execute_result",
          "data": {
            "text/plain": [
              "average_review_length        -0.277081\n",
              "average_review_age           -0.125645\n",
              "average_review_count         -0.066572\n",
              "average_number_years_elite   -0.064419\n",
              "average_tip_length           -0.052899\n",
              "price_range                  -0.052565\n",
              "alcohol?                     -0.043332\n",
              "has_wifi                     -0.039857\n",
              "average_days_on_yelp         -0.038061\n",
              "average_number_fans          -0.031141\n",
              "good_for_kids                -0.030382\n",
              "take_reservations            -0.024486\n",
              "average_number_friends       -0.007629\n",
              "number_useful_votes          -0.000066\n",
              "average_caption_length        0.000040\n",
              "number_funny_votes            0.001320\n",
              "number_pics                   0.001727\n",
              "weekday_checkins              0.004130\n",
              "weekend_checkins              0.007863\n",
              "number_tips                   0.014038\n",
              "review_count                  0.032413\n",
              "takes_credit_cards            0.037748\n",
              "number_cool_votes             0.043375\n",
              "has_bike_parking              0.068084\n",
              "average_review_sentiment      0.782187\n",
              "stars                         1.000000\n",
              "Name: stars, dtype: float64"
            ]
          },
          "metadata": {
            "tags": []
          },
          "execution_count": 48
        }
      ]
    },
    {
      "metadata": {
        "id": "WC2LQ83wnvll",
        "colab_type": "text"
      },
      "cell_type": "markdown",
      "source": [
        "Looks like review length, sentiment, age are the most correlated."
      ]
    },
    {
      "metadata": {
        "id": "G9HN8T4vmkrF",
        "colab_type": "code",
        "colab": {}
      },
      "cell_type": "code",
      "source": [
        "# Define data that will potentially achieve an accurate model\n",
        "\n",
        "# subset of only average review sentiment\n",
        "sentiment = ['average_review_sentiment']\n",
        "# subset of all features that have a response range [0,1]\n",
        "binary_features = ['alcohol?','has_bike_parking','takes_credit_cards','good_for_kids','take_reservations','has_wifi']\n",
        "# subset of all features that vary on a greater range than [0,1]\n",
        "numeric_features = ['review_count','price_range','average_caption_length','number_pics','average_review_age','average_review_length','average_review_sentiment','number_funny_votes','number_cool_votes','number_useful_votes','average_tip_length','number_tips','average_number_friends','average_days_on_yelp','average_number_fans','average_review_count','average_number_years_elite','weekday_checkins','weekend_checkins']\n",
        "# all features\n",
        "all_features = binary_features + numeric_features"
      ],
      "execution_count": 0,
      "outputs": []
    },
    {
      "metadata": {
        "id": "Nbj78QKlnHNp",
        "colab_type": "code",
        "colab": {}
      },
      "cell_type": "code",
      "source": [
        "# Create a linear regression model with this function\n",
        "import numpy as np\n",
        "\n",
        "# take a list of features to model as a parameter\n",
        "def model_these_features(feature_list):\n",
        "    \n",
        "    # Set the target and the features you want to use\n",
        "    ratings = df.loc[:,'stars']\n",
        "    features = df.loc[:,feature_list]\n",
        "    \n",
        "    # Split the data into 80/20 train/test\n",
        "    X_train, X_test, y_train, y_test = train_test_split(features, ratings, test_size = 0.2, random_state = 1)\n",
        "    \n",
        "    # don't worry too much about these lines, just know that they allow the model to work when\n",
        "    # we model on just one feature instead of multiple features. Trust us on this one :)\n",
        "    if len(X_train.shape) < 2:\n",
        "        X_train = np.array(X_train).reshape(-1,1)\n",
        "        X_test = np.array(X_test).reshape(-1,1)\n",
        "    \n",
        "    # Create linear regression model and fit it to the training data\n",
        "    model = LinearRegression()\n",
        "    model.fit(X_train,y_train)\n",
        "    \n",
        "    # R^2 is the coeffiecient of determination, it measures how much of the variance in our dependent\n",
        "    # variable is explained by the independent variables\n",
        "    print('Train Score:', model.score(X_train,y_train))\n",
        "    print('Test Score:', model.score(X_test,y_test))\n",
        "    \n",
        "    # print the model features and their corresponding coefficients, from most predictive to least predictive\n",
        "    print(sorted(list(zip(feature_list,model.coef_)),key = lambda x: abs(x[1]),reverse=True))\n",
        "    \n",
        "    # Use the models coefficients to calculate what you want to predict(yelp rating)\n",
        "    y_predicted = model.predict(X_test)\n",
        "    \n",
        "    # Plots\n",
        "    plt.scatter(y_test,y_predicted)\n",
        "    plt.xlabel('Yelp Rating')\n",
        "    plt.ylabel('Predicted Yelp Rating')\n",
        "    plt.ylim(1,5)\n",
        "    plt.show()"
      ],
      "execution_count": 0,
      "outputs": []
    },
    {
      "metadata": {
        "id": "aWs8Z2uooUAG",
        "colab_type": "code",
        "colab": {}
      },
      "cell_type": "code",
      "source": [
        "# Make some imports\n",
        "from sklearn.model_selection import train_test_split\n",
        "from sklearn.linear_model import LinearRegression"
      ],
      "execution_count": 0,
      "outputs": []
    },
    {
      "metadata": {
        "id": "ByvGWClNn8d2",
        "colab_type": "code",
        "colab": {
          "base_uri": "https://localhost:8080/",
          "height": 105
        },
        "outputId": "e994cbe5-e3bf-4c10-ffdb-cc4c4afbd754"
      },
      "cell_type": "code",
      "source": [
        "# Run the function to see how changing the feature sets affects R^2 value of our model\n",
        "\n",
        "model_these_features(sentiment)"
      ],
      "execution_count": 55,
      "outputs": [
        {
          "output_type": "stream",
          "text": [
            "Train Score: 0.6118980950438655\n",
            "Test Score: 0.6114021046919492\n",
            "[('average_review_sentiment', 2.303390843374967)]\n"
          ],
          "name": "stdout"
        },
        {
          "output_type": "display_data",
          "data": {
            "application/vnd.jupyter.widget-view+json": {
              "model_id": "38ca1f7913c141d3b63be7c8b33a829c",
              "version_minor": 0,
              "version_major": 2
            },
            "text/plain": [
              "VBox(children=(Figure(axes=[Axis(label='Yelp Rating', scale=LinearScale()), Axis(label='Predicted Yelp Rating'…"
            ]
          },
          "metadata": {
            "tags": []
          }
        }
      ]
    },
    {
      "metadata": {
        "id": "aRZY4d9koKim",
        "colab_type": "code",
        "colab": {
          "base_uri": "https://localhost:8080/",
          "height": 105
        },
        "outputId": "06e38186-d18b-49d1-a2ec-1bd9f6630763"
      },
      "cell_type": "code",
      "source": [
        "model_these_features(binary_features)"
      ],
      "execution_count": 56,
      "outputs": [
        {
          "output_type": "stream",
          "text": [
            "Train Score: 0.012223180709591164\n",
            "Test Score: 0.010119542202269072\n",
            "[('has_bike_parking', 0.1900300820804082), ('alcohol?', -0.14549670708138862), ('has_wifi', -0.13187397577762405), ('good_for_kids', -0.08632485990337223), ('takes_credit_cards', 0.07175536492195503), ('take_reservations', 0.04526558530451638)]\n"
          ],
          "name": "stdout"
        },
        {
          "output_type": "display_data",
          "data": {
            "application/vnd.jupyter.widget-view+json": {
              "model_id": "5eef020d0f2648d89a52fe106be37ffe",
              "version_minor": 0,
              "version_major": 2
            },
            "text/plain": [
              "VBox(children=(Figure(axes=[Axis(label='Yelp Rating', scale=LinearScale()), Axis(label='Predicted Yelp Rating'…"
            ]
          },
          "metadata": {
            "tags": []
          }
        }
      ]
    },
    {
      "metadata": {
        "id": "sN23zUk1oMBu",
        "colab_type": "code",
        "colab": {
          "base_uri": "https://localhost:8080/",
          "height": 105
        },
        "outputId": "0a560927-47b9-4c1c-d14c-12aa68ceacc2"
      },
      "cell_type": "code",
      "source": [
        "model_these_features(numeric_features)"
      ],
      "execution_count": 57,
      "outputs": [
        {
          "output_type": "stream",
          "text": [
            "Train Score: 0.6734992593766658\n",
            "Test Score: 0.6713318798120134\n",
            "[('average_review_sentiment', 2.272107664209677), ('price_range', -0.08046080962701445), ('average_number_years_elite', -0.07190366288054284), ('average_caption_length', -0.0033470660077835218), ('number_pics', -0.00295650281289204), ('number_tips', -0.0015953050789030726), ('number_cool_votes', 0.0011468839227092916), ('average_number_fans', 0.0010510602097447742), ('average_review_length', -0.0005813655692094734), ('average_tip_length', -0.0005322032063457423), ('number_useful_votes', -0.00023203784758712564), ('average_review_count', -0.0002243170289508221), ('average_review_age', -0.00016930608165089726), ('average_days_on_yelp', 0.00012878025876724556), ('weekday_checkins', 5.91858075446039e-05), ('weekend_checkins', -5.518176206974201e-05), ('average_number_friends', 4.826992111583864e-05), ('review_count', -3.483483763867104e-05), ('number_funny_votes', -7.884395674567053e-06)]\n"
          ],
          "name": "stdout"
        },
        {
          "output_type": "display_data",
          "data": {
            "application/vnd.jupyter.widget-view+json": {
              "model_id": "25e8f063266d4d4289c2d76f3a529c41",
              "version_minor": 0,
              "version_major": 2
            },
            "text/plain": [
              "VBox(children=(Figure(axes=[Axis(label='Yelp Rating', scale=LinearScale()), Axis(label='Predicted Yelp Rating'…"
            ]
          },
          "metadata": {
            "tags": []
          }
        }
      ]
    },
    {
      "metadata": {
        "id": "t0izNtLhoMhR",
        "colab_type": "code",
        "colab": {
          "base_uri": "https://localhost:8080/",
          "height": 105
        },
        "outputId": "cfd9daea-30a8-4b23-b314-ddf41b2aee2a"
      },
      "cell_type": "code",
      "source": [
        "model_these_features(all_features)"
      ],
      "execution_count": 58,
      "outputs": [
        {
          "output_type": "stream",
          "text": [
            "Train Score: 0.6807828861895335\n",
            "Test Score: 0.6782129045869245\n",
            "[('average_review_sentiment', 2.2808456996623683), ('alcohol?', -0.1499149859346954), ('has_wifi', -0.12155382629262958), ('good_for_kids', -0.11807814422012454), ('price_range', -0.06486730150041427), ('average_number_years_elite', -0.06278939713895423), ('has_bike_parking', 0.027296969912258707), ('takes_credit_cards', 0.024451837853625796), ('take_reservations', 0.014134559172965556), ('number_pics', -0.0013133612300810522), ('average_number_fans', 0.001026798682265563), ('number_cool_votes', 0.0009723722734413303), ('number_tips', -0.0008546563320881045), ('average_caption_length', -0.0006472749798193465), ('average_review_length', -0.0005896257920272468), ('average_tip_length', -0.0004205217503405806), ('number_useful_votes', -0.0002715064125617315), ('average_review_count', -0.00023398356902508714), ('average_review_age', -0.00015776544111326633), ('average_days_on_yelp', 0.00012326147662885568), ('review_count', 0.00010112259377390332), ('weekend_checkins', -9.239617469646022e-05), ('weekday_checkins', 6.15390912314705e-05), ('number_funny_votes', 4.847935102518744e-05), ('average_number_friends', 2.069584037376758e-05)]\n"
          ],
          "name": "stdout"
        },
        {
          "output_type": "display_data",
          "data": {
            "application/vnd.jupyter.widget-view+json": {
              "model_id": "0819620712df46aba4f8f25c69c249aa",
              "version_minor": 0,
              "version_major": 2
            },
            "text/plain": [
              "VBox(children=(Figure(axes=[Axis(label='Yelp Rating', scale=LinearScale()), Axis(label='Predicted Yelp Rating'…"
            ]
          },
          "metadata": {
            "tags": []
          }
        }
      ]
    },
    {
      "metadata": {
        "id": "Tdeu0ye2o45x",
        "colab_type": "code",
        "colab": {
          "base_uri": "https://localhost:8080/",
          "height": 51
        },
        "outputId": "862b08ae-eb37-42e7-a635-d4e9eef5d497"
      },
      "cell_type": "code",
      "source": [
        "# Let's grab all the features and retrain our model, maybe we can get better accuracy\n",
        "\n",
        "features = df.loc[:,all_features]\n",
        "ratings = df.loc[:,'stars']\n",
        "X_train, X_test, y_train, y_test = train_test_split(features, ratings, test_size = 0.2, random_state = 1)\n",
        "model = LinearRegression()\n",
        "model.fit(X_train,y_train)"
      ],
      "execution_count": 59,
      "outputs": [
        {
          "output_type": "execute_result",
          "data": {
            "text/plain": [
              "LinearRegression(copy_X=True, fit_intercept=True, n_jobs=None,\n",
              "         normalize=False)"
            ]
          },
          "metadata": {
            "tags": []
          },
          "execution_count": 59
        }
      ]
    },
    {
      "metadata": {
        "id": "T1QIu9lwpBjS",
        "colab_type": "code",
        "colab": {
          "base_uri": "https://localhost:8080/",
          "height": 824
        },
        "outputId": "d4a781bd-98bf-431b-d907-aafd61f55b57"
      },
      "cell_type": "code",
      "source": [
        "# Let's check the range of values for each feature so we can use them to make a predictive model\n",
        "\n",
        "pd.DataFrame(list(zip(features.columns,features.describe().loc['mean'],features.describe().loc['min'],features.describe().loc['max'])),columns=['Feature','Mean','Min','Max'])"
      ],
      "execution_count": 60,
      "outputs": [
        {
          "output_type": "execute_result",
          "data": {
            "text/html": [
              "<div>\n",
              "<style scoped>\n",
              "    .dataframe tbody tr th:only-of-type {\n",
              "        vertical-align: middle;\n",
              "    }\n",
              "\n",
              "    .dataframe tbody tr th {\n",
              "        vertical-align: top;\n",
              "    }\n",
              "\n",
              "    .dataframe thead th {\n",
              "        text-align: right;\n",
              "    }\n",
              "</style>\n",
              "<table border=\"1\" class=\"dataframe\">\n",
              "  <thead>\n",
              "    <tr style=\"text-align: right;\">\n",
              "      <th></th>\n",
              "      <th>Feature</th>\n",
              "      <th>Mean</th>\n",
              "      <th>Min</th>\n",
              "      <th>Max</th>\n",
              "    </tr>\n",
              "  </thead>\n",
              "  <tbody>\n",
              "    <tr>\n",
              "      <th>0</th>\n",
              "      <td>alcohol?</td>\n",
              "      <td>0.140610</td>\n",
              "      <td>0.000000</td>\n",
              "      <td>1.000000</td>\n",
              "    </tr>\n",
              "    <tr>\n",
              "      <th>1</th>\n",
              "      <td>has_bike_parking</td>\n",
              "      <td>0.350692</td>\n",
              "      <td>0.000000</td>\n",
              "      <td>1.000000</td>\n",
              "    </tr>\n",
              "    <tr>\n",
              "      <th>2</th>\n",
              "      <td>takes_credit_cards</td>\n",
              "      <td>0.700243</td>\n",
              "      <td>0.000000</td>\n",
              "      <td>1.000000</td>\n",
              "    </tr>\n",
              "    <tr>\n",
              "      <th>3</th>\n",
              "      <td>good_for_kids</td>\n",
              "      <td>0.279029</td>\n",
              "      <td>0.000000</td>\n",
              "      <td>1.000000</td>\n",
              "    </tr>\n",
              "    <tr>\n",
              "      <th>4</th>\n",
              "      <td>take_reservations</td>\n",
              "      <td>0.106086</td>\n",
              "      <td>0.000000</td>\n",
              "      <td>1.000000</td>\n",
              "    </tr>\n",
              "    <tr>\n",
              "      <th>5</th>\n",
              "      <td>has_wifi</td>\n",
              "      <td>0.134968</td>\n",
              "      <td>0.000000</td>\n",
              "      <td>1.000000</td>\n",
              "    </tr>\n",
              "    <tr>\n",
              "      <th>6</th>\n",
              "      <td>review_count</td>\n",
              "      <td>31.797310</td>\n",
              "      <td>3.000000</td>\n",
              "      <td>7968.000000</td>\n",
              "    </tr>\n",
              "    <tr>\n",
              "      <th>7</th>\n",
              "      <td>price_range</td>\n",
              "      <td>1.035855</td>\n",
              "      <td>0.000000</td>\n",
              "      <td>4.000000</td>\n",
              "    </tr>\n",
              "    <tr>\n",
              "      <th>8</th>\n",
              "      <td>average_caption_length</td>\n",
              "      <td>2.831829</td>\n",
              "      <td>0.000000</td>\n",
              "      <td>140.000000</td>\n",
              "    </tr>\n",
              "    <tr>\n",
              "      <th>9</th>\n",
              "      <td>number_pics</td>\n",
              "      <td>1.489939</td>\n",
              "      <td>0.000000</td>\n",
              "      <td>1150.000000</td>\n",
              "    </tr>\n",
              "    <tr>\n",
              "      <th>10</th>\n",
              "      <td>average_review_age</td>\n",
              "      <td>1175.501021</td>\n",
              "      <td>71.555556</td>\n",
              "      <td>4727.333333</td>\n",
              "    </tr>\n",
              "    <tr>\n",
              "      <th>11</th>\n",
              "      <td>average_review_length</td>\n",
              "      <td>596.463567</td>\n",
              "      <td>62.400000</td>\n",
              "      <td>4229.000000</td>\n",
              "    </tr>\n",
              "    <tr>\n",
              "      <th>12</th>\n",
              "      <td>average_review_sentiment</td>\n",
              "      <td>0.554935</td>\n",
              "      <td>-0.995200</td>\n",
              "      <td>0.996575</td>\n",
              "    </tr>\n",
              "    <tr>\n",
              "      <th>13</th>\n",
              "      <td>number_funny_votes</td>\n",
              "      <td>15.617091</td>\n",
              "      <td>0.000000</td>\n",
              "      <td>36822.000000</td>\n",
              "    </tr>\n",
              "    <tr>\n",
              "      <th>14</th>\n",
              "      <td>number_cool_votes</td>\n",
              "      <td>18.495973</td>\n",
              "      <td>0.000000</td>\n",
              "      <td>6572.000000</td>\n",
              "    </tr>\n",
              "    <tr>\n",
              "      <th>15</th>\n",
              "      <td>number_useful_votes</td>\n",
              "      <td>43.515279</td>\n",
              "      <td>0.000000</td>\n",
              "      <td>38357.000000</td>\n",
              "    </tr>\n",
              "    <tr>\n",
              "      <th>16</th>\n",
              "      <td>average_tip_length</td>\n",
              "      <td>45.643426</td>\n",
              "      <td>0.000000</td>\n",
              "      <td>500.000000</td>\n",
              "    </tr>\n",
              "    <tr>\n",
              "      <th>17</th>\n",
              "      <td>number_tips</td>\n",
              "      <td>6.285217</td>\n",
              "      <td>0.000000</td>\n",
              "      <td>3581.000000</td>\n",
              "    </tr>\n",
              "    <tr>\n",
              "      <th>18</th>\n",
              "      <td>average_number_friends</td>\n",
              "      <td>105.132000</td>\n",
              "      <td>1.000000</td>\n",
              "      <td>4219.000000</td>\n",
              "    </tr>\n",
              "    <tr>\n",
              "      <th>19</th>\n",
              "      <td>average_days_on_yelp</td>\n",
              "      <td>2005.367009</td>\n",
              "      <td>76.000000</td>\n",
              "      <td>4860.000000</td>\n",
              "    </tr>\n",
              "    <tr>\n",
              "      <th>20</th>\n",
              "      <td>average_number_fans</td>\n",
              "      <td>11.590148</td>\n",
              "      <td>0.000000</td>\n",
              "      <td>1174.666667</td>\n",
              "    </tr>\n",
              "    <tr>\n",
              "      <th>21</th>\n",
              "      <td>average_review_count</td>\n",
              "      <td>122.110660</td>\n",
              "      <td>0.666667</td>\n",
              "      <td>6335.000000</td>\n",
              "    </tr>\n",
              "    <tr>\n",
              "      <th>22</th>\n",
              "      <td>average_number_years_elite</td>\n",
              "      <td>0.923313</td>\n",
              "      <td>0.000000</td>\n",
              "      <td>10.666667</td>\n",
              "    </tr>\n",
              "    <tr>\n",
              "      <th>23</th>\n",
              "      <td>weekday_checkins</td>\n",
              "      <td>45.385094</td>\n",
              "      <td>0.000000</td>\n",
              "      <td>73830.000000</td>\n",
              "    </tr>\n",
              "    <tr>\n",
              "      <th>24</th>\n",
              "      <td>weekend_checkins</td>\n",
              "      <td>49.612515</td>\n",
              "      <td>0.000000</td>\n",
              "      <td>64647.000000</td>\n",
              "    </tr>\n",
              "  </tbody>\n",
              "</table>\n",
              "</div>"
            ],
            "text/plain": [
              "                       Feature         Mean        Min           Max\n",
              "0                     alcohol?     0.140610   0.000000      1.000000\n",
              "1             has_bike_parking     0.350692   0.000000      1.000000\n",
              "2           takes_credit_cards     0.700243   0.000000      1.000000\n",
              "3                good_for_kids     0.279029   0.000000      1.000000\n",
              "4            take_reservations     0.106086   0.000000      1.000000\n",
              "5                     has_wifi     0.134968   0.000000      1.000000\n",
              "6                 review_count    31.797310   3.000000   7968.000000\n",
              "7                  price_range     1.035855   0.000000      4.000000\n",
              "8       average_caption_length     2.831829   0.000000    140.000000\n",
              "9                  number_pics     1.489939   0.000000   1150.000000\n",
              "10          average_review_age  1175.501021  71.555556   4727.333333\n",
              "11       average_review_length   596.463567  62.400000   4229.000000\n",
              "12    average_review_sentiment     0.554935  -0.995200      0.996575\n",
              "13          number_funny_votes    15.617091   0.000000  36822.000000\n",
              "14           number_cool_votes    18.495973   0.000000   6572.000000\n",
              "15         number_useful_votes    43.515279   0.000000  38357.000000\n",
              "16          average_tip_length    45.643426   0.000000    500.000000\n",
              "17                 number_tips     6.285217   0.000000   3581.000000\n",
              "18      average_number_friends   105.132000   1.000000   4219.000000\n",
              "19        average_days_on_yelp  2005.367009  76.000000   4860.000000\n",
              "20         average_number_fans    11.590148   0.000000   1174.666667\n",
              "21        average_review_count   122.110660   0.666667   6335.000000\n",
              "22  average_number_years_elite     0.923313   0.000000     10.666667\n",
              "23            weekday_checkins    45.385094   0.000000  73830.000000\n",
              "24            weekend_checkins    49.612515   0.000000  64647.000000"
            ]
          },
          "metadata": {
            "tags": []
          },
          "execution_count": 60
        }
      ]
    },
    {
      "metadata": {
        "id": "NFTrK-mepWba",
        "colab_type": "code",
        "colab": {}
      },
      "cell_type": "code",
      "source": [
        "# Feature values for My Awesome Restaurant\n",
        "my_awesome_restaurant = np.array([0,1,1,1,1,1,10,2,3,10,10,1200,0.9,3,6,5,50,3,50,1800,12,123,0.5,0,0]).reshape(1,-1)"
      ],
      "execution_count": 0,
      "outputs": []
    },
    {
      "metadata": {
        "id": "Dr84qTbqpffN",
        "colab_type": "code",
        "colab": {
          "base_uri": "https://localhost:8080/",
          "height": 34
        },
        "outputId": "a0d9d96d-49c9-4436-f0f9-61b9817e6066"
      },
      "cell_type": "code",
      "source": [
        "# Predict the yelp rating based on the features of my awesome restaurant\n",
        "model.predict(my_awesome_restaurant)"
      ],
      "execution_count": 62,
      "outputs": [
        {
          "output_type": "execute_result",
          "data": {
            "text/plain": [
              "array([4.03799004])"
            ]
          },
          "metadata": {
            "tags": []
          },
          "execution_count": 62
        }
      ]
    },
    {
      "metadata": {
        "id": "PxL1IjVopyBH",
        "colab_type": "text"
      },
      "cell_type": "markdown",
      "source": [
        "**Describe in a paragraph of text what you did and why, as if you were writing an email to somebody interested but nontechnical.**\n",
        "\n",
        "The success of a restaurant is highly correlated to its online rep. Since the most queried review site is Yelp, I decided to make a predictive model based on Yelp data, that would predict the Yelp rating of My Awesome Restaurant. At the end of this notebook, we can change the value each feature and see how it potentially reflects on our overall rating. Note: the accuracy of the current model is around 67%.\n",
        "\n",
        "**What was the most challenging part of what you did?**\n",
        "\n",
        "Figuring out the best model and hyperparameters. Also figuring out what the code actually does.\n",
        "\n",
        "**What was the most interesting thing you learned?**\n",
        "\n",
        ".corr method in Pandas is very useful.\n",
        "\n",
        "**What area would you like to explore with more time?**\n",
        "\n",
        "Different model, neural networks are cool and interesting, I would like to learn a lot more about them."
      ]
    },
    {
      "metadata": {
        "id": "_XXg2crAipwP",
        "colab_type": "text"
      },
      "cell_type": "markdown",
      "source": [
        "## Stretch goals and resources\n",
        "\n",
        "Following are *optional* things for you to take a look at. Focus on the above assignment first, and make sure to commit and push your changes to GitHub (and since this is the first assignment of the sprint, open a PR as well).\n",
        "\n",
        "- [pandas documentation](https://pandas.pydata.org/pandas-docs/stable/)\n",
        "- [scikit-learn documentation](http://scikit-learn.org/stable/documentation.html)\n",
        "- [matplotlib documentation](https://matplotlib.org/contents.html)\n",
        "- [Awesome Data Science](https://github.com/bulutyazilim/awesome-datascience) - a list of many types of DS resources\n",
        "\n",
        "Stretch goals:\n",
        "\n",
        "- Find and read blogs, walkthroughs, and other examples of people working through cool things with data science - and share with your classmates!\n",
        "- Write a blog post (Medium is a popular place to publish) introducing yourself as somebody learning data science, and talking about what you've learned already and what you're excited to learn more about"
      ]
    }
  ]
}