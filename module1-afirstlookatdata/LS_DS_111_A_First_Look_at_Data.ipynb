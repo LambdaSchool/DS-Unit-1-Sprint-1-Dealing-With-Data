{
  "nbformat": 4,
  "nbformat_minor": 0,
  "metadata": {
    "colab": {
      "name": "LS_DS_111_A_First_Look_at_Data.ipynb",
      "version": "0.3.2",
      "provenance": [],
      "include_colab_link": true
    },
    "kernelspec": {
      "name": "python3",
      "display_name": "Python 3"
    }
  },
  "cells": [
    {
      "cell_type": "markdown",
      "metadata": {
        "id": "view-in-github",
        "colab_type": "text"
      },
      "source": [
        "<a href=\"https://colab.research.google.com/github/ianforrest11/DS-Unit-1-Sprint-1-Dealing-With-Data/blob/master/module1-afirstlookatdata/LS_DS_111_A_First_Look_at_Data.ipynb\" target=\"_parent\"><img src=\"https://colab.research.google.com/assets/colab-badge.svg\" alt=\"Open In Colab\"/></a>"
      ]
    },
    {
      "cell_type": "markdown",
      "metadata": {
        "id": "Okfr_uhwhS1X",
        "colab_type": "text"
      },
      "source": [
        "# Lambda School Data Science - A First Look at Data\n",
        "\n"
      ]
    },
    {
      "cell_type": "markdown",
      "metadata": {
        "id": "9dtJETFRhnOG",
        "colab_type": "text"
      },
      "source": [
        "## Lecture - let's explore Python DS libraries and examples!\n",
        "\n",
        "The Python Data Science ecosystem is huge. You've seen some of the big pieces - pandas, scikit-learn, matplotlib. What parts do you want to see more of?"
      ]
    },
    {
      "cell_type": "code",
      "metadata": {
        "id": "WiBkgmPJhmhE",
        "colab_type": "code",
        "colab": {}
      },
      "source": [
        "# TODO - we'll be doing this live, taking requests\n",
        "# and reproducing what it is to look up and learn things\n",
        "\n",
        "# I'd like to see more of how these features translate into modern, real world examples.  Most of pre-course/outside practice data I've worked with\n",
        "# seems to be lesson-specific.  Specifically, I'd like to see how data science can be applied to sports."
      ],
      "execution_count": 0,
      "outputs": []
    },
    {
      "cell_type": "markdown",
      "metadata": {
        "id": "lOqaPds9huME",
        "colab_type": "text"
      },
      "source": [
        "## Assignment - now it's your turn\n",
        "\n",
        "Pick at least one Python DS library, and using documentation/examples reproduce in this notebook something cool. It's OK if you don't fully understand it or get it 100% working, but do put in effort and look things up."
      ]
    },
    {
      "cell_type": "code",
      "metadata": {
        "id": "TGUS79cOhPWj",
        "colab_type": "code",
        "colab": {
          "base_uri": "https://localhost:8080/",
          "height": 117
        },
        "outputId": "3caf36da-83e3-41bc-a314-3fbc100ca319"
      },
      "source": [
        "# TODO - your code here\n",
        "# Use what we did live in lecture as an example\n",
        "\n",
        "# Import Pandas\n",
        "import pandas as pd\n",
        "\n",
        "# Define CA Land Dataset\n",
        "ca_data = pd.read_csv('https://raw.githubusercontent.com/ianforrest11/PythonDataScienceHandbook/master/notebooks/data/california_cities.csv')\n",
        "\n",
        "# Extract Data for my town - Dana Point\n",
        "ca_dana_point = ca_data.loc[ca_data['city'] == 'DanaPoint']\n",
        "\n",
        "# Display Dana Point Dataset\n",
        "ca_dana_point"
      ],
      "execution_count": 13,
      "outputs": [
        {
          "output_type": "execute_result",
          "data": {
            "text/html": [
              "<div>\n",
              "<style scoped>\n",
              "    .dataframe tbody tr th:only-of-type {\n",
              "        vertical-align: middle;\n",
              "    }\n",
              "\n",
              "    .dataframe tbody tr th {\n",
              "        vertical-align: top;\n",
              "    }\n",
              "\n",
              "    .dataframe thead th {\n",
              "        text-align: right;\n",
              "    }\n",
              "</style>\n",
              "<table border=\"1\" class=\"dataframe\">\n",
              "  <thead>\n",
              "    <tr style=\"text-align: right;\">\n",
              "      <th></th>\n",
              "      <th>Unnamed: 0</th>\n",
              "      <th>city</th>\n",
              "      <th>latd</th>\n",
              "      <th>longd</th>\n",
              "      <th>elevation_m</th>\n",
              "      <th>elevation_ft</th>\n",
              "      <th>population_total</th>\n",
              "      <th>area_total_sq_mi</th>\n",
              "      <th>area_land_sq_mi</th>\n",
              "      <th>area_water_sq_mi</th>\n",
              "      <th>area_total_km2</th>\n",
              "      <th>area_land_km2</th>\n",
              "      <th>area_water_km2</th>\n",
              "      <th>area_water_percent</th>\n",
              "    </tr>\n",
              "  </thead>\n",
              "  <tbody>\n",
              "    <tr>\n",
              "      <th>104</th>\n",
              "      <td>104</td>\n",
              "      <td>DanaPoint</td>\n",
              "      <td>33.467222</td>\n",
              "      <td>-117.698056</td>\n",
              "      <td>44.0</td>\n",
              "      <td>144.0</td>\n",
              "      <td>33351</td>\n",
              "      <td>29.484</td>\n",
              "      <td>6.497</td>\n",
              "      <td>22.987</td>\n",
              "      <td>76.364</td>\n",
              "      <td>16.828</td>\n",
              "      <td>59.536</td>\n",
              "      <td>77.96</td>\n",
              "    </tr>\n",
              "  </tbody>\n",
              "</table>\n",
              "</div>"
            ],
            "text/plain": [
              "     Unnamed: 0       city  ...  area_water_km2  area_water_percent\n",
              "104         104  DanaPoint  ...          59.536               77.96\n",
              "\n",
              "[1 rows x 14 columns]"
            ]
          },
          "metadata": {
            "tags": []
          },
          "execution_count": 13
        }
      ]
    },
    {
      "cell_type": "markdown",
      "metadata": {
        "id": "BT9gdS7viJZa",
        "colab_type": "text"
      },
      "source": [
        "### Assignment questions\n",
        "\n",
        "After you've worked on some code, answer the following questions in this text block:\n",
        "\n",
        "1.  Describe in a paragraph of text what you did and why, as if you were writing an email to somebody interested but nontechnical.\n",
        "\n",
        "***The Dataset I chose to explore is that California land data.  I live in California, and the recent earthquakes made me curious about some statistics of my town.  To accomplish this, I loaded an entire dataset of all land data from all California cities.  From that large California dataset, I extracted the data for my town, Dana Point.  Once extracted, I saved the land data for the town of Dana Point to its own dataset.***\n",
        "\n",
        "\n",
        "\n",
        "2.  What was the most challenging part of what you did?\n",
        "\n",
        "***The most challenging part of this exercise was two fold:***\n",
        "\n",
        "***1.) Figuring out how to import a .csv file to a Collab Notebook on my own.  In previous practice sessions it had always been done/defined for me***\n",
        "\n",
        "***2.) Figuring out how to properly extract and define the specific dataset that I wanted.***\n",
        "\n",
        "\n",
        "\n",
        "3.  What was the most interesting thing you learned?\n",
        "\n",
        "***The most interesting thing I learned is that any website with a .csv in its address can be read in a Python notebook.***\n",
        "\n",
        "\n",
        "\n",
        "4.  What area would you like to explore with more time?\n",
        "\n",
        "***As stated in the past, I am very interested in sports (specifically NBA) data.  Hopefully there will be opportunities to explore this further throughout my time at Lambda School!***\n",
        "\n",
        "\n"
      ]
    },
    {
      "cell_type": "markdown",
      "metadata": {
        "id": "_XXg2crAipwP",
        "colab_type": "text"
      },
      "source": [
        "## Stretch goals and resources\n",
        "\n",
        "Following are *optional* things for you to take a look at. Focus on the above assignment first, and make sure to commit and push your changes to GitHub (and since this is the first assignment of the sprint, open a PR as well).\n",
        "\n",
        "- [pandas documentation](https://pandas.pydata.org/pandas-docs/stable/)\n",
        "- [scikit-learn documentation](http://scikit-learn.org/stable/documentation.html)\n",
        "- [matplotlib documentation](https://matplotlib.org/contents.html)\n",
        "- [Awesome Data Science](https://github.com/bulutyazilim/awesome-datascience) - a list of many types of DS resources\n",
        "\n",
        "Stretch goals:\n",
        "\n",
        "- Find and read blogs, walkthroughs, and other examples of people working through cool things with data science - and share with your classmates!\n",
        "- Write a blog post (Medium is a popular place to publish) introducing yourself as somebody learning data science, and talking about what you've learned already and what you're excited to learn more about."
      ]
    }
  ]
}