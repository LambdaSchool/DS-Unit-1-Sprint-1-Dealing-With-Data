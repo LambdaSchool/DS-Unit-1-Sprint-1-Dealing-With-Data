{
  "nbformat": 4,
  "nbformat_minor": 0,
  "metadata": {
    "colab": {
      "name": "LS_DS_111_A_First_Look_at_Data.ipynb",
      "version": "0.3.2",
      "provenance": [],
      "include_colab_link": true
    },
    "kernelspec": {
      "name": "python3",
      "display_name": "Python 3"
    }
  },
  "cells": [
    {
      "cell_type": "markdown",
      "metadata": {
        "id": "view-in-github",
        "colab_type": "text"
      },
      "source": [
        "<a href=\"https://colab.research.google.com/github/mjh09/DS-Unit-1-Sprint-1-Dealing-With-Data/blob/master/module1-afirstlookatdata/LS_DS_111_A_First_Look_at_Data.ipynb\" target=\"_parent\"><img src=\"https://colab.research.google.com/assets/colab-badge.svg\" alt=\"Open In Colab\"/></a>"
      ]
    },
    {
      "cell_type": "markdown",
      "metadata": {
        "id": "Okfr_uhwhS1X",
        "colab_type": "text"
      },
      "source": [
        "# Lambda School Data Science - A First Look at Data\n",
        "\n"
      ]
    },
    {
      "cell_type": "markdown",
      "metadata": {
        "id": "9dtJETFRhnOG",
        "colab_type": "text"
      },
      "source": [
        "## Lecture - let's explore Python DS libraries and examples!\n",
        "\n",
        "The Python Data Science ecosystem is huge. You've seen some of the big pieces - pandas, scikit-learn, matplotlib. What parts do you want to see more of?"
      ]
    },
    {
      "cell_type": "code",
      "metadata": {
        "id": "WiBkgmPJhmhE",
        "colab_type": "code",
        "colab": {}
      },
      "source": [
        "# Things I would like to see me of at the moment\n",
        "\n",
        "# Pandas - 'df.groupby' - using iteration for quartiles, and potentially membership binning\n",
        "\n",
        "# Scipy - Orthoganal distance regression - random pick, seems interesting and niche\n",
        "\n",
        "# Pandas - Making Toy data structures with the testing module for practice\n",
        "\n",
        "# Pandas - Configure options & settings ..(at interpreter startup)'\n",
        "\n",
        "# Numpy - Anything matrix related - Vectorization/ loop elimination with np.tile()\n",
        "\n",
        "# Matplotlib - Pretty much everything. I feel pretty weak here all around"
      ],
      "execution_count": 0,
      "outputs": []
    },
    {
      "cell_type": "markdown",
      "metadata": {
        "id": "lOqaPds9huME",
        "colab_type": "text"
      },
      "source": [
        "## Assignment - now it's your turn\n",
        "\n",
        "Pick at least one Python DS library, and using documentation/examples reproduce in this notebook something cool. It's OK if you don't fully understand it or get it 100% working, but do put in effort and look things up."
      ]
    },
    {
      "cell_type": "code",
      "metadata": {
        "id": "TGUS79cOhPWj",
        "colab_type": "code",
        "colab": {
          "base_uri": "https://localhost:8080/",
          "height": 622
        },
        "outputId": "41112d5e-fe90-478f-ad63-94a14d04469a"
      },
      "source": [
        "# Import and alias\n",
        "import pandas as pd\n",
        "\n",
        "# Defining headers to set in place of none\n",
        "headers = ['Sex', 'Length', 'Diameter', 'Height', 'Whole weight', 'Shucked weight',\n",
        "           'Viscera weight', 'Shell weight', 'Rings']\n",
        "\n",
        "# Creating a variable that is a dataframe parameterized to include custom header\n",
        "abalone_data = pd.read_csv('https://archive.ics.uci.edu/ml/machine-learning-databases/abalone/abalone.data', header=0, names=headers)\n",
        "\n",
        "# Creating a new column & equal sized buckets to assign them to\n",
        "abalone_data['ring_quartile'] = pd.qcut(abalone_data.Rings, q=4, labels=range(1,5))\n",
        "\n",
        "# Grouping the data by column\n",
        "grouped = abalone_data.groupby('ring_quartile')\n",
        "\n",
        "# Printing grouped qaurtiles\n",
        "for idx, frame in grouped:\n",
        "  print(f'Ring Quartile: {idx}')\n",
        "  print('-' * 16)\n",
        "  print(frame.nlargest(3, 'Whole weight'), end='\\n\\n')\n"
      ],
      "execution_count": 7,
      "outputs": [
        {
          "output_type": "stream",
          "text": [
            "Ring Quartile: 1\n",
            "----------------\n",
            "     Sex  Length  Diameter  ...  Shell weight  Rings  ring_quartile\n",
            "2618   M   0.690     0.540  ...        0.4325      8              1\n",
            "1043   M   0.690     0.525  ...        0.4050      8              1\n",
            "1025   M   0.645     0.520  ...        0.4000      8              1\n",
            "\n",
            "[3 rows x 10 columns]\n",
            "\n",
            "Ring Quartile: 2\n",
            "----------------\n",
            "     Sex  Length  Diameter  ...  Shell weight  Rings  ring_quartile\n",
            "2810   M   0.725      0.57  ...        0.5200      9              2\n",
            "1425   F   0.745      0.57  ...        0.5580      9              2\n",
            "1820   F   0.720      0.55  ...        0.5015      9              2\n",
            "\n",
            "[3 rows x 10 columns]\n",
            "\n",
            "Ring Quartile: 3\n",
            "----------------\n",
            "     Sex  Length  Diameter  ...  Shell weight  Rings  ring_quartile\n",
            "1208   F   0.780      0.63  ...        0.5860     11              3\n",
            "1050   F   0.735      0.60  ...        0.6000     11              3\n",
            "3714   M   0.780      0.60  ...        0.6745     11              3\n",
            "\n",
            "[3 rows x 10 columns]\n",
            "\n",
            "Ring Quartile: 4\n",
            "----------------\n",
            "     Sex  Length  Diameter  ...  Shell weight  Rings  ring_quartile\n",
            "890    M   0.730     0.595  ...         0.897     17              4\n",
            "1762   M   0.775     0.630  ...         0.578     12              4\n",
            "164    M   0.725     0.570  ...         0.725     14              4\n",
            "\n",
            "[3 rows x 10 columns]\n",
            "\n"
          ],
          "name": "stdout"
        }
      ]
    },
    {
      "cell_type": "markdown",
      "metadata": {
        "id": "BT9gdS7viJZa",
        "colab_type": "text"
      },
      "source": [
        "### Assignment questions\n",
        "\n",
        "After you've worked on some code, answer the following questions in this text block:\n",
        "\n",
        "1.  Describe in a paragraph of text what you did and why, as if you were writing an email to somebody interested but nontechnical.\n",
        "\n",
        "To start with, I wanted some simple data management by filling in missing header labels for easier reading.\n",
        "Then I split and grouped the data by ring quartile because that denotes different time periods in the abalones'\n",
        "lifetime. Fianlly I printed out a readable version of the grouped data to get a visual confirmation of the data and \n",
        "potentially make some inferences.\n",
        "\n",
        "2.  What was the most challenging part of what you did?\n",
        "\n",
        "The most challenging part was getting the parameterization right.\n",
        "\n",
        "3.  What was the most interesting thing you learned?\n",
        "\n",
        "The most interesting thing I learned is a toss up between how to split the data like I did, and learning about \n",
        "how you can determine the relative age of abalones by their rings.\n",
        "\n",
        "4.  What area would you like to explore with more time?\n",
        "\n",
        "Training algorithms to handle parsed data like this.\n",
        "\n",
        "\n"
      ]
    },
    {
      "cell_type": "markdown",
      "metadata": {
        "id": "_XXg2crAipwP",
        "colab_type": "text"
      },
      "source": [
        "## Stretch goals and resources\n",
        "\n",
        "Following are *optional* things for you to take a look at. Focus on the above assignment first, and make sure to commit and push your changes to GitHub (and since this is the first assignment of the sprint, open a PR as well).\n",
        "\n",
        "- [pandas documentation](https://pandas.pydata.org/pandas-docs/stable/)\n",
        "- [scikit-learn documentation](http://scikit-learn.org/stable/documentation.html)\n",
        "- [matplotlib documentation](https://matplotlib.org/contents.html)\n",
        "- [Awesome Data Science](https://github.com/bulutyazilim/awesome-datascience) - a list of many types of DS resources\n",
        "\n",
        "Stretch goals:\n",
        "\n",
        "- Find and read blogs, walkthroughs, and other examples of people working through cool things with data science - and share with your classmates!\n",
        "- Write a blog post (Medium is a popular place to publish) introducing yourself as somebody learning data science, and talking about what you've learned already and what you're excited to learn more about."
      ]
    }
  ]
}