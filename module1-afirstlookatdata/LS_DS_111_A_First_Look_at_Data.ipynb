{
  "nbformat": 4,
  "nbformat_minor": 0,
  "metadata": {
    "colab": {
      "name": "LS_DS_111_A_First_Look_at_Data.ipynb",
      "version": "0.3.2",
      "provenance": []
    },
    "kernelspec": {
      "name": "python3",
      "display_name": "Python 3"
    }
  },
  "cells": [
    {
      "cell_type": "markdown",
      "metadata": {
        "id": "Okfr_uhwhS1X",
        "colab_type": "text"
      },
      "source": [
        "# Lambda School Data Science - A First Look at Data\n",
        "\n"
      ]
    },
    {
      "cell_type": "markdown",
      "metadata": {
        "id": "9dtJETFRhnOG",
        "colab_type": "text"
      },
      "source": [
        "## Lecture - let's explore Python DS libraries and examples!\n",
        "\n",
        "The Python Data Science ecosystem is huge. You've seen some of the big pieces - pandas, scikit-learn, matplotlib. What parts do you want to see more of?"
      ]
    },
    {
      "cell_type": "code",
      "metadata": {
        "id": "WiBkgmPJhmhE",
        "colab_type": "code",
        "colab": {}
      },
      "source": [
        "# TODO - we'll be doing this live, taking requests\n",
        "# and reproducing what it is to look up and learn things\n"
      ],
      "execution_count": 0,
      "outputs": []
    },
    {
      "cell_type": "markdown",
      "metadata": {
        "id": "oIOEXTOCsqcY",
        "colab_type": "text"
      },
      "source": [
        "What I'd like to see more of:\n",
        "\n",
        "Scientific visualization with OpenGL or DirectX (http://www.labri.fr/perso/nrougier/python-opengl/)\n",
        "\n",
        "Basic understanding of cryptographic method, cost, and best practice placement in computational/visualization pipelines."
      ]
    },
    {
      "cell_type": "markdown",
      "metadata": {
        "id": "lOqaPds9huME",
        "colab_type": "text"
      },
      "source": [
        "## Assignment - now it's your turn\n",
        "\n",
        "Pick at least one Python DS library, and using documentation/examples reproduce in this notebook something cool. It's OK if you don't fully understand it or get it 100% working, but do put in effort and look things up."
      ]
    },
    {
      "cell_type": "code",
      "metadata": {
        "id": "TGUS79cOhPWj",
        "colab_type": "code",
        "colab": {
          "base_uri": "https://localhost:8080/",
          "height": 185
        },
        "outputId": "c450ad9b-950c-4eb8-8caf-ec06c593a198"
      },
      "source": [
        "# TODO - your code here\n",
        "# Use what we did live in lecture as an example\n",
        "\n",
        "## Attempting in memory decryption, analysis, reporting\n",
        "\n",
        "!pip install cryptography\n",
        "!pip install essential_generators\n"
      ],
      "execution_count": 4,
      "outputs": [
        {
          "output_type": "stream",
          "text": [
            "Requirement already satisfied: cryptography in /usr/local/lib/python3.6/dist-packages (2.7)\n",
            "Requirement already satisfied: six>=1.4.1 in /usr/local/lib/python3.6/dist-packages (from cryptography) (1.12.0)\n",
            "Requirement already satisfied: cffi!=1.11.3,>=1.8 in /usr/local/lib/python3.6/dist-packages (from cryptography) (1.12.3)\n",
            "Requirement already satisfied: asn1crypto>=0.21.0 in /usr/local/lib/python3.6/dist-packages (from cryptography) (0.24.0)\n",
            "Requirement already satisfied: pycparser in /usr/local/lib/python3.6/dist-packages (from cffi!=1.11.3,>=1.8->cryptography) (2.19)\n",
            "Collecting essential_generators\n",
            "\u001b[?25l  Downloading https://files.pythonhosted.org/packages/59/b1/979b823497488e5f13c9070fcd6a2e24f6d9c6fd5398e0fbeccc8158bd3b/essential_generators-0.9.2-py3-none-any.whl (9.5MB)\n",
            "\u001b[K     |████████████████████████████████| 9.5MB 2.6MB/s \n",
            "\u001b[?25hInstalling collected packages: essential-generators\n",
            "Successfully installed essential-generators-0.9.2\n"
          ],
          "name": "stdout"
        }
      ]
    },
    {
      "cell_type": "code",
      "metadata": {
        "id": "PRzvVgCiu86Z",
        "colab_type": "code",
        "colab": {}
      },
      "source": [
        "## Some notes:\n",
        "\n",
        "## genData() generate some random email\n",
        "## getData() takes key and returns encrpted object\n",
        "## genKey() create keys\n",
        "## decrypt() takes key and encrypted data and return unlocked\n",
        "\n",
        "from cryptography.fernet import Fernet\n",
        "from essential_generators import DocumentGenerator\n",
        "\n"
      ],
      "execution_count": 0,
      "outputs": []
    },
    {
      "cell_type": "code",
      "metadata": {
        "id": "soX5tXNrwUcn",
        "colab_type": "code",
        "colab": {}
      },
      "source": [
        "class helper():\n",
        "  def __init__(self, key=None):\n",
        "    if key == None:\n",
        "      self.key = genKey()\n",
        "    self.data = 0\n",
        "    \n",
        "  def lockStore(self, token):\n",
        "    self.data = self.key.encrypt(bytes(token, 'utf-8'))\n",
        "    \n",
        "  def unlock(self):\n",
        "    return self.key.decrypt(self.data)\n",
        "\n",
        "  \n",
        "  \n",
        "def genData():\n",
        "  generator = DocumentGenerator()\n",
        "  return generator.email()\n",
        "\n",
        "def genKey():\n",
        "  key = Fernet.generate_key()\n",
        "  f = Fernet(key)\n",
        "  return f\n",
        "\n",
        "\n",
        "worker = helper()"
      ],
      "execution_count": 0,
      "outputs": []
    },
    {
      "cell_type": "code",
      "metadata": {
        "id": "9ewJsR1f5Ene",
        "colab_type": "code",
        "colab": {
          "base_uri": "https://localhost:8080/",
          "height": 101
        },
        "outputId": "eccade6c-7993-479d-ecc0-49119ddc6636"
      },
      "source": [
        "## Freaking awesome. This is probably NOT the way to do this, but the key is now in memory and not stored in a text file.\n",
        "## I'll use the helper to check a bunch of data\n",
        "\n",
        "for _ in range(5):\n",
        "  worker.lockStore(genData())\n",
        "  print(str(worker.unlock(), 'utf-8').split('@')[1])"
      ],
      "execution_count": 29,
      "outputs": [
        {
          "output_type": "stream",
          "text": [
            "wripla.com\n",
            "ed.net\n",
            "obseve.com\n",
            "bas.com\n",
            "the508.co.uk\n"
          ],
          "name": "stdout"
        }
      ]
    },
    {
      "cell_type": "markdown",
      "metadata": {
        "id": "BT9gdS7viJZa",
        "colab_type": "text"
      },
      "source": [
        "### Assignment questions\n",
        "\n",
        "After you've worked on some code, answer the following questions in this text block:\n",
        "\n",
        "1.  Describe in a paragraph of text what you did and why, as if you were writing an email to somebody interested but nontechnical.\n",
        "\n",
        "-- I wanted to see how I might safely take data from one place, work on it, get what i need out, and not expose the information by writing it down - it stays locked until unlocked.\n",
        "\n",
        "2.  What was the most challenging part of what you did?\n",
        "-- Ended up using three libraries and a data type I wasn't familiar with.  Colabs is also CRAZY slow for some reason.  I couldn't generate a significant amount of data and encrypt it, so had to change gears a couple times.\n",
        "\n",
        "\n",
        "3.  What was the most interesting thing you learned?\n",
        "--Colabs is slow, encryption can be approachable without knowing much about the algorithm that encrypts, and class instances may be a neat trick to keep things in memory.\n",
        "\n",
        "4.  What area would you like to explore with more time?\n",
        "-- I like the idea of helpers shuttling data around if for no other reason than the clarity it brings to the process.  I would like to explore more cryptographic elements and ways of doing these easier calculations en masse.\n",
        "\n"
      ]
    },
    {
      "cell_type": "code",
      "metadata": {
        "id": "WTpAY_T35DqX",
        "colab_type": "code",
        "colab": {}
      },
      "source": [
        ""
      ],
      "execution_count": 0,
      "outputs": []
    },
    {
      "cell_type": "markdown",
      "metadata": {
        "id": "_XXg2crAipwP",
        "colab_type": "text"
      },
      "source": [
        "## Stretch goals and resources\n",
        "\n",
        "Following are *optional* things for you to take a look at. Focus on the above assignment first, and make sure to commit and push your changes to GitHub (and since this is the first assignment of the sprint, open a PR as well).\n",
        "\n",
        "- [pandas documentation](https://pandas.pydata.org/pandas-docs/stable/)\n",
        "- [scikit-learn documentation](http://scikit-learn.org/stable/documentation.html)\n",
        "- [matplotlib documentation](https://matplotlib.org/contents.html)\n",
        "- [Awesome Data Science](https://github.com/bulutyazilim/awesome-datascience) - a list of many types of DS resources\n",
        "\n",
        "Stretch goals:\n",
        "\n",
        "- Find and read blogs, walkthroughs, and other examples of people working through cool things with data science - and share with your classmates!\n",
        "- Write a blog post (Medium is a popular place to publish) introducing yourself as somebody learning data science, and talking about what you've learned already and what you're excited to learn more about."
      ]
    }
  ]
}