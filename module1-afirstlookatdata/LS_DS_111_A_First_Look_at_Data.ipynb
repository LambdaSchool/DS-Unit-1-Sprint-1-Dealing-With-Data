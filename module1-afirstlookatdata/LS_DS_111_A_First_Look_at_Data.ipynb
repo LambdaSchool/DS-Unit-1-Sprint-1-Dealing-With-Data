{
  "nbformat": 4,
  "nbformat_minor": 0,
  "metadata": {
    "colab": {
      "name": "LS DS 111 - A First Look at Data.ipynb",
      "version": "0.3.2",
      "provenance": [],
      "collapsed_sections": [],
      "include_colab_link": true
    },
    "kernelspec": {
      "name": "python3",
      "display_name": "Python 3"
    }
  },
  "cells": [
    {
      "cell_type": "markdown",
      "metadata": {
        "id": "view-in-github",
        "colab_type": "text"
      },
      "source": [
        "<a href=\"https://colab.research.google.com/github/zangell44/DS-Sprint-01-Dealing-With-Data/blob/master/module1-afirstlookatdata/LS_DS_111_A_First_Look_at_Data.ipynb\" target=\"_parent\"><img src=\"https://colab.research.google.com/assets/colab-badge.svg\" alt=\"Open In Colab\"/></a>"
      ]
    },
    {
      "metadata": {
        "id": "Okfr_uhwhS1X",
        "colab_type": "text"
      },
      "cell_type": "markdown",
      "source": [
        "# Lambda School Data Science - A First Look at Data\n",
        "\n"
      ]
    },
    {
      "metadata": {
        "id": "9dtJETFRhnOG",
        "colab_type": "text"
      },
      "cell_type": "markdown",
      "source": [
        "## Lecture - let's explore Python DS libraries and examples!\n",
        "\n",
        "The Python Data Science ecosystem is huge. You've seen some of the big pieces - pandas, scikit-learn, matplotlib. What parts do you want to see more of?"
      ]
    },
    {
      "metadata": {
        "id": "WiBkgmPJhmhE",
        "colab_type": "code",
        "outputId": "4d702c5e-7568-4e20-c855-4c2bf9e270a3",
        "colab": {
          "base_uri": "https://localhost:8080/",
          "height": 34
        }
      },
      "cell_type": "code",
      "source": [
        "# TODO - we'll be doing this live, taking requests\n",
        "# and reproducing what it is to look up and learn things\n",
        "\n",
        "1 + 1 # test edit for git commit"
      ],
      "execution_count": 86,
      "outputs": [
        {
          "output_type": "execute_result",
          "data": {
            "text/plain": [
              "2"
            ]
          },
          "metadata": {
            "tags": []
          },
          "execution_count": 86
        }
      ]
    },
    {
      "metadata": {
        "id": "lOqaPds9huME",
        "colab_type": "text"
      },
      "cell_type": "markdown",
      "source": [
        "## Assignment - now it's your turn\n",
        "\n",
        "Pick at least one Python DS library, and using documentation/examples reproduce in this notebook something cool. It's OK if you don't fully understand it or get it 100% working, but do put in effort and look things up."
      ]
    },
    {
      "metadata": {
        "id": "TGUS79cOhPWj",
        "colab_type": "code",
        "colab": {}
      },
      "cell_type": "code",
      "source": [
        "# lets have some fun with US macro economic data\n",
        "\n",
        "# imports\n",
        "import urllib.request as urlreq\n",
        "import json\n",
        "import pandas as pd\n",
        "import matplotlib.pyplot as plt\n",
        "import seaborn as sns\n",
        "import numpy as np\n",
        "\n",
        "% matplotlib inline\n",
        "\n",
        "# takes FRED api arguments and returns the request\n",
        "# FRED api documentation - https://research.stlouisfed.org/docs/api/fred/series.html\n",
        "# api_key and series_id cannot be null\n",
        "def get_FRED(api_key='b2812b037affbee10b8148d7fe15e552', file_type='json', series_id='', observation_start='', observation_end=''):\n",
        "    \n",
        "    # TO-DO\n",
        "    # ensure series_id is not blank, since it has no default \n",
        "    #if series_id != '': \n",
        "    \n",
        "    # set parameter strings, nulls will be not be included\n",
        "    series_id = '&series_id=' + series_id\n",
        "    file_type = '&file_type=' + file_type\n",
        "    api_key = '&api_key=' + api_key\n",
        "    if observation_start != '': observation_start = '&observation_start=' + observation_start\n",
        "    if observation_end != '': observation_end = '&observation_end=' + observation_end\n",
        "    \n",
        "    # open url\n",
        "    url_req_string = 'https://api.stlouisfed.org/fred/series/observations?'+ series_id + api_key + file_type + observation_start + observation_end\n",
        "    url_response = urlreq.urlopen(url_req_string).read()\n",
        "    url_data = json.loads(url_response)\n",
        "\n",
        "    return pd.io.json.json_normalize(url_data, 'observations') "
      ],
      "execution_count": 0,
      "outputs": []
    },
    {
      "metadata": {
        "id": "cDdo_x8xssG7",
        "colab_type": "code",
        "outputId": "6d31c910-f32d-41ee-d227-72e9faa4317d",
        "colab": {
          "base_uri": "https://localhost:8080/",
          "height": 204
        }
      },
      "cell_type": "code",
      "source": [
        "# explore GDP per capita data\n",
        "gdp_per_cap = get_FRED(series_id = 'UNRATE', observation_start = '1950-01-01', observation_end = '2015-01-01')\n",
        "gdp_per_cap.head()"
      ],
      "execution_count": 88,
      "outputs": [
        {
          "output_type": "execute_result",
          "data": {
            "text/html": [
              "<div>\n",
              "<style scoped>\n",
              "    .dataframe tbody tr th:only-of-type {\n",
              "        vertical-align: middle;\n",
              "    }\n",
              "\n",
              "    .dataframe tbody tr th {\n",
              "        vertical-align: top;\n",
              "    }\n",
              "\n",
              "    .dataframe thead th {\n",
              "        text-align: right;\n",
              "    }\n",
              "</style>\n",
              "<table border=\"1\" class=\"dataframe\">\n",
              "  <thead>\n",
              "    <tr style=\"text-align: right;\">\n",
              "      <th></th>\n",
              "      <th>date</th>\n",
              "      <th>realtime_end</th>\n",
              "      <th>realtime_start</th>\n",
              "      <th>value</th>\n",
              "    </tr>\n",
              "  </thead>\n",
              "  <tbody>\n",
              "    <tr>\n",
              "      <th>0</th>\n",
              "      <td>1950-01-01</td>\n",
              "      <td>2018-11-05</td>\n",
              "      <td>2018-11-05</td>\n",
              "      <td>6.5</td>\n",
              "    </tr>\n",
              "    <tr>\n",
              "      <th>1</th>\n",
              "      <td>1950-02-01</td>\n",
              "      <td>2018-11-05</td>\n",
              "      <td>2018-11-05</td>\n",
              "      <td>6.4</td>\n",
              "    </tr>\n",
              "    <tr>\n",
              "      <th>2</th>\n",
              "      <td>1950-03-01</td>\n",
              "      <td>2018-11-05</td>\n",
              "      <td>2018-11-05</td>\n",
              "      <td>6.3</td>\n",
              "    </tr>\n",
              "    <tr>\n",
              "      <th>3</th>\n",
              "      <td>1950-04-01</td>\n",
              "      <td>2018-11-05</td>\n",
              "      <td>2018-11-05</td>\n",
              "      <td>5.8</td>\n",
              "    </tr>\n",
              "    <tr>\n",
              "      <th>4</th>\n",
              "      <td>1950-05-01</td>\n",
              "      <td>2018-11-05</td>\n",
              "      <td>2018-11-05</td>\n",
              "      <td>5.5</td>\n",
              "    </tr>\n",
              "  </tbody>\n",
              "</table>\n",
              "</div>"
            ],
            "text/plain": [
              "         date realtime_end realtime_start value\n",
              "0  1950-01-01   2018-11-05     2018-11-05   6.5\n",
              "1  1950-02-01   2018-11-05     2018-11-05   6.4\n",
              "2  1950-03-01   2018-11-05     2018-11-05   6.3\n",
              "3  1950-04-01   2018-11-05     2018-11-05   5.8\n",
              "4  1950-05-01   2018-11-05     2018-11-05   5.5"
            ]
          },
          "metadata": {
            "tags": []
          },
          "execution_count": 88
        }
      ]
    },
    {
      "metadata": {
        "id": "QfY62GvyuCea",
        "colab_type": "code",
        "outputId": "637fc663-dd01-40ed-ebcd-49eb5fd22bf5",
        "colab": {
          "base_uri": "https://localhost:8080/",
          "height": 204
        }
      },
      "cell_type": "code",
      "source": [
        "# let's make this a function to make tings a little easier\n",
        "\n",
        "def compile_FRED(series_names, series_ids, obs_start, obs_end):\n",
        "  # series_names - a list of human readable terms for the data series (e.g. gdp)\n",
        "  # series_ids - a list of the FRED ids corresponding to series_names\n",
        "  # observation_start - formatted as YYYY-MM-DD\n",
        "  # observation_end - formatted as YYYY-MM-DD\n",
        "  \n",
        "  # TO-DO\n",
        "  # would be nice to have some control over observation dates between data series\n",
        "  \n",
        "  # output is a pandas df joined on observation dates and labeled with series_names\n",
        "  macro_data = pd.DataFrame()\n",
        "  \n",
        "  for i in range(len(series_names)):\n",
        "    if i == 0: # for the first series, establish dates, all other data series will be joined on these dates\n",
        "      macro_data['date'], macro_data[series_names[i]] = get_FRED(series_id=series_ids[i], observation_start=obs_start, observation_end=obs_end)['date'], get_FRED(series_id=series_ids[i], observation_start=obs_start, observation_end=obs_end)['value'].astype(float)\n",
        "  \n",
        "    else: # for all other dates, get the data and join on first variable dates\n",
        "      temp_data = pd.DataFrame()\n",
        "      temp_data['date'], temp_data[series_names[i]] = get_FRED(series_id=series_ids[i], observation_start=obs_start, observation_end=obs_end)['date'], get_FRED(series_id=series_ids[i], observation_start=obs_start, observation_end=obs_end)['value'].astype(float)\n",
        "      \n",
        "      macro_data = macro_data.merge(temp_data[['date',series_names[i]]], how='inner', on='date')\n",
        "      \n",
        "  \n",
        "  return macro_data\n",
        "      \n",
        "# test function\n",
        "series_names = ['gdp_per_capita', 'unemployment_rate', 'cpi']\n",
        "series_ids = ['A939RX0Q048SBEA', 'UNRATE', 'CPIAUCSL']\n",
        "\n",
        "US_data = compile_FRED(series_names, series_ids, obs_start = '1950-01-01', obs_end = '2015-01-01')\n",
        "US_data.head()   "
      ],
      "execution_count": 89,
      "outputs": [
        {
          "output_type": "execute_result",
          "data": {
            "text/html": [
              "<div>\n",
              "<style scoped>\n",
              "    .dataframe tbody tr th:only-of-type {\n",
              "        vertical-align: middle;\n",
              "    }\n",
              "\n",
              "    .dataframe tbody tr th {\n",
              "        vertical-align: top;\n",
              "    }\n",
              "\n",
              "    .dataframe thead th {\n",
              "        text-align: right;\n",
              "    }\n",
              "</style>\n",
              "<table border=\"1\" class=\"dataframe\">\n",
              "  <thead>\n",
              "    <tr style=\"text-align: right;\">\n",
              "      <th></th>\n",
              "      <th>date</th>\n",
              "      <th>gdp_per_capita</th>\n",
              "      <th>unemployment_rate</th>\n",
              "      <th>cpi</th>\n",
              "    </tr>\n",
              "  </thead>\n",
              "  <tbody>\n",
              "    <tr>\n",
              "      <th>0</th>\n",
              "      <td>1950-01-01</td>\n",
              "      <td>14490.0</td>\n",
              "      <td>6.5</td>\n",
              "      <td>23.51</td>\n",
              "    </tr>\n",
              "    <tr>\n",
              "      <th>1</th>\n",
              "      <td>1950-04-01</td>\n",
              "      <td>14879.0</td>\n",
              "      <td>5.8</td>\n",
              "      <td>23.65</td>\n",
              "    </tr>\n",
              "    <tr>\n",
              "      <th>2</th>\n",
              "      <td>1950-07-01</td>\n",
              "      <td>15388.0</td>\n",
              "      <td>5.0</td>\n",
              "      <td>24.07</td>\n",
              "    </tr>\n",
              "    <tr>\n",
              "      <th>3</th>\n",
              "      <td>1950-10-01</td>\n",
              "      <td>15612.0</td>\n",
              "      <td>4.2</td>\n",
              "      <td>24.50</td>\n",
              "    </tr>\n",
              "    <tr>\n",
              "      <th>4</th>\n",
              "      <td>1951-01-01</td>\n",
              "      <td>15759.0</td>\n",
              "      <td>3.7</td>\n",
              "      <td>25.38</td>\n",
              "    </tr>\n",
              "  </tbody>\n",
              "</table>\n",
              "</div>"
            ],
            "text/plain": [
              "         date  gdp_per_capita  unemployment_rate    cpi\n",
              "0  1950-01-01         14490.0                6.5  23.51\n",
              "1  1950-04-01         14879.0                5.8  23.65\n",
              "2  1950-07-01         15388.0                5.0  24.07\n",
              "3  1950-10-01         15612.0                4.2  24.50\n",
              "4  1951-01-01         15759.0                3.7  25.38"
            ]
          },
          "metadata": {
            "tags": []
          },
          "execution_count": 89
        }
      ]
    },
    {
      "metadata": {
        "id": "CG0MhQkq0wK4",
        "colab_type": "code",
        "colab": {
          "base_uri": "https://localhost:8080/",
          "height": 204
        },
        "outputId": "2edca6bc-c176-4552-e561-14dd83bf1f95"
      },
      "cell_type": "code",
      "source": [
        "# exploring the basics, gdp, unemployment, and inflation\n",
        "series_names = ['gdp_per_capita', 'unemployment_rate', 'cpi'] # all of the data series here are already seasonally adjusted\n",
        "series_ids = ['A939RX0Q048SBEA', 'UNRATE', 'CPIAUCSL']\n",
        "\n",
        "US_data = compile_FRED(series_names, series_ids, obs_start = '1950-01-01', obs_end = '2015-01-01')\n",
        "\n",
        "# add gdp per capital growth RATE, inflation RATE to the data set, as well as a flag for growth vs. recession per quarter\n",
        "US_data['gdp_growth_rate'] = US_data['gdp_per_capita'].pct_change()\n",
        "US_data['cpi_inflation_rate'] = US_data['cpi'].pct_change()\n",
        "\n",
        "US_data['growth'] = US_data['gdp_growth_rate'] > 0.0\n",
        "\n",
        "# drop null rows from the first period, which dont have percent changes\n",
        "US_data = US_data.dropna()\n",
        "\n",
        "US_data.head()"
      ],
      "execution_count": 90,
      "outputs": [
        {
          "output_type": "execute_result",
          "data": {
            "text/html": [
              "<div>\n",
              "<style scoped>\n",
              "    .dataframe tbody tr th:only-of-type {\n",
              "        vertical-align: middle;\n",
              "    }\n",
              "\n",
              "    .dataframe tbody tr th {\n",
              "        vertical-align: top;\n",
              "    }\n",
              "\n",
              "    .dataframe thead th {\n",
              "        text-align: right;\n",
              "    }\n",
              "</style>\n",
              "<table border=\"1\" class=\"dataframe\">\n",
              "  <thead>\n",
              "    <tr style=\"text-align: right;\">\n",
              "      <th></th>\n",
              "      <th>date</th>\n",
              "      <th>gdp_per_capita</th>\n",
              "      <th>unemployment_rate</th>\n",
              "      <th>cpi</th>\n",
              "      <th>gdp_growth_rate</th>\n",
              "      <th>cpi_inflation_rate</th>\n",
              "      <th>growth</th>\n",
              "    </tr>\n",
              "  </thead>\n",
              "  <tbody>\n",
              "    <tr>\n",
              "      <th>1</th>\n",
              "      <td>1950-04-01</td>\n",
              "      <td>14879.0</td>\n",
              "      <td>5.8</td>\n",
              "      <td>23.65</td>\n",
              "      <td>0.026846</td>\n",
              "      <td>0.005955</td>\n",
              "      <td>True</td>\n",
              "    </tr>\n",
              "    <tr>\n",
              "      <th>2</th>\n",
              "      <td>1950-07-01</td>\n",
              "      <td>15388.0</td>\n",
              "      <td>5.0</td>\n",
              "      <td>24.07</td>\n",
              "      <td>0.034209</td>\n",
              "      <td>0.017759</td>\n",
              "      <td>True</td>\n",
              "    </tr>\n",
              "    <tr>\n",
              "      <th>3</th>\n",
              "      <td>1950-10-01</td>\n",
              "      <td>15612.0</td>\n",
              "      <td>4.2</td>\n",
              "      <td>24.50</td>\n",
              "      <td>0.014557</td>\n",
              "      <td>0.017865</td>\n",
              "      <td>True</td>\n",
              "    </tr>\n",
              "    <tr>\n",
              "      <th>4</th>\n",
              "      <td>1951-01-01</td>\n",
              "      <td>15759.0</td>\n",
              "      <td>3.7</td>\n",
              "      <td>25.38</td>\n",
              "      <td>0.009416</td>\n",
              "      <td>0.035918</td>\n",
              "      <td>True</td>\n",
              "    </tr>\n",
              "    <tr>\n",
              "      <th>5</th>\n",
              "      <td>1951-04-01</td>\n",
              "      <td>15968.0</td>\n",
              "      <td>3.1</td>\n",
              "      <td>25.92</td>\n",
              "      <td>0.013262</td>\n",
              "      <td>0.021277</td>\n",
              "      <td>True</td>\n",
              "    </tr>\n",
              "  </tbody>\n",
              "</table>\n",
              "</div>"
            ],
            "text/plain": [
              "         date  gdp_per_capita  unemployment_rate    cpi  gdp_growth_rate  \\\n",
              "1  1950-04-01         14879.0                5.8  23.65         0.026846   \n",
              "2  1950-07-01         15388.0                5.0  24.07         0.034209   \n",
              "3  1950-10-01         15612.0                4.2  24.50         0.014557   \n",
              "4  1951-01-01         15759.0                3.7  25.38         0.009416   \n",
              "5  1951-04-01         15968.0                3.1  25.92         0.013262   \n",
              "\n",
              "   cpi_inflation_rate  growth  \n",
              "1            0.005955    True  \n",
              "2            0.017759    True  \n",
              "3            0.017865    True  \n",
              "4            0.035918    True  \n",
              "5            0.021277    True  "
            ]
          },
          "metadata": {
            "tags": []
          },
          "execution_count": 90
        }
      ]
    },
    {
      "metadata": {
        "id": "ux-77Bg85X4T",
        "colab_type": "code",
        "colab": {
          "base_uri": "https://localhost:8080/",
          "height": 509
        },
        "outputId": "d4288aef-3bc4-4bbb-fc80-09bc1883e37d"
      },
      "cell_type": "code",
      "source": [
        "# explore some visualizations here\n",
        "\n",
        "# let's take a look at a classic macro 101 relationship - the Phillips curve\n",
        "# https://en.wikipedia.org/wiki/Phillips_curve\n",
        "sns.pairplot(data=US_data, x_vars=['unemployment_rate'], y_vars=['cpi_inflation_rate'], size=7);"
      ],
      "execution_count": 91,
      "outputs": [
        {
          "output_type": "display_data",
          "data": {
            "image/png": "[encoded data removed]",
            "text/plain": [
              "<matplotlib.figure.Figure at 0x7f35f08e1a20>"
            ]
          },
          "metadata": {
            "tags": []
          }
        }
      ]
    },
    {
      "metadata": {
        "id": "EIKRJPUu69so",
        "colab_type": "code",
        "colab": {}
      },
      "cell_type": "code",
      "source": [
        "# doesnt seem to be much evidence of the Phillips curve in this correlation plot"
      ],
      "execution_count": 0,
      "outputs": []
    },
    {
      "metadata": {
        "id": "WK0P5N9339Hi",
        "colab_type": "code",
        "colab": {
          "base_uri": "https://localhost:8080/",
          "height": 309
        },
        "outputId": "ecb5a4a9-61f1-44c5-d94b-66f9a9534710"
      },
      "cell_type": "code",
      "source": [
        "# try out some basic models on this data, attempting to predict if the US economy will grow or recede the next quarter (classification)\n",
        "\n",
        "# going to adjust the data a bit first, since we should be trying to predict with past data\n",
        "# each will have 4 lagged variables for unemployment rate, inflation rate, and gdp growth rate\n",
        "\n",
        "US_data_new = US_data.copy()\n",
        "\n",
        "# lagged unemployment\n",
        "US_data_new['unemployment_1'] = US_data_new['unemployment_rate'].shift(periods=1)\n",
        "US_data_new['unemployment_2'] = US_data_new['unemployment_rate'].shift(periods=2)\n",
        "US_data_new['unemployment_3'] = US_data_new['unemployment_rate'].shift(periods=3)\n",
        "US_data_new['unemployment_4'] = US_data_new['unemployment_rate'].shift(periods=4)\n",
        "\n",
        "# gdp lags\n",
        "US_data_new['gdp_1'] = US_data_new['gdp_growth_rate'].shift(periods=1)\n",
        "US_data_new['gdp_2'] = US_data_new['gdp_growth_rate'].shift(periods=2)\n",
        "US_data_new['gdp_3'] = US_data_new['gdp_growth_rate'].shift(periods=3)\n",
        "US_data_new['gdp_4'] = US_data_new['gdp_growth_rate'].shift(periods=4)\n",
        "\n",
        "# inflation lags\n",
        "US_data_new['cpi_1'] = US_data_new['cpi_inflation_rate'].shift(periods=1)\n",
        "US_data_new['cpi_2'] = US_data_new['cpi_inflation_rate'].shift(periods=2)\n",
        "US_data_new['cpi_3'] = US_data_new['cpi_inflation_rate'].shift(periods=3)\n",
        "US_data_new['cpi_4'] = US_data_new['cpi_inflation_rate'].shift(periods=4)\n",
        "\n",
        "# convert target to 0/1 instead of boolean\n",
        "US_data_new['growth'].replace(False, 0, inplace=True)\n",
        "\n",
        "# drop null rows for which we don't have new lagged variables\n",
        "US_data_new = US_data_new.dropna()\n",
        "\n",
        "# target and feature enumeration\n",
        "target = ['growth']\n",
        "features = ['unemployment_1', 'unemployment_2', 'unemployment_3', 'unemployment_4', 'gdp_1', 'gdp_2', 'gdp_3', 'gdp_4', 'cpi_1', 'cpi_2', 'cpi_3', 'cpi_4']\n",
        "\n",
        "# train test split\n",
        "from sklearn.model_selection import train_test_split\n",
        "train, test = train_test_split(US_data_new, random_state=0)\n",
        "\n",
        "US_data_new.head()"
      ],
      "execution_count": 93,
      "outputs": [
        {
          "output_type": "execute_result",
          "data": {
            "text/html": [
              "<div>\n",
              "<style scoped>\n",
              "    .dataframe tbody tr th:only-of-type {\n",
              "        vertical-align: middle;\n",
              "    }\n",
              "\n",
              "    .dataframe tbody tr th {\n",
              "        vertical-align: top;\n",
              "    }\n",
              "\n",
              "    .dataframe thead th {\n",
              "        text-align: right;\n",
              "    }\n",
              "</style>\n",
              "<table border=\"1\" class=\"dataframe\">\n",
              "  <thead>\n",
              "    <tr style=\"text-align: right;\">\n",
              "      <th></th>\n",
              "      <th>date</th>\n",
              "      <th>gdp_per_capita</th>\n",
              "      <th>unemployment_rate</th>\n",
              "      <th>cpi</th>\n",
              "      <th>gdp_growth_rate</th>\n",
              "      <th>cpi_inflation_rate</th>\n",
              "      <th>growth</th>\n",
              "      <th>unemployment_1</th>\n",
              "      <th>unemployment_2</th>\n",
              "      <th>unemployment_3</th>\n",
              "      <th>unemployment_4</th>\n",
              "      <th>gdp_1</th>\n",
              "      <th>gdp_2</th>\n",
              "      <th>gdp_3</th>\n",
              "      <th>gdp_4</th>\n",
              "      <th>cpi_1</th>\n",
              "      <th>cpi_2</th>\n",
              "      <th>cpi_3</th>\n",
              "      <th>cpi_4</th>\n",
              "    </tr>\n",
              "  </thead>\n",
              "  <tbody>\n",
              "    <tr>\n",
              "      <th>5</th>\n",
              "      <td>1951-04-01</td>\n",
              "      <td>15968.0</td>\n",
              "      <td>3.1</td>\n",
              "      <td>25.92</td>\n",
              "      <td>0.013262</td>\n",
              "      <td>0.021277</td>\n",
              "      <td>1.0</td>\n",
              "      <td>3.7</td>\n",
              "      <td>4.2</td>\n",
              "      <td>5.0</td>\n",
              "      <td>5.8</td>\n",
              "      <td>0.009416</td>\n",
              "      <td>0.014557</td>\n",
              "      <td>0.034209</td>\n",
              "      <td>0.026846</td>\n",
              "      <td>0.035918</td>\n",
              "      <td>0.017865</td>\n",
              "      <td>0.017759</td>\n",
              "      <td>0.005955</td>\n",
              "    </tr>\n",
              "    <tr>\n",
              "      <th>6</th>\n",
              "      <td>1951-07-01</td>\n",
              "      <td>16223.0</td>\n",
              "      <td>3.1</td>\n",
              "      <td>25.91</td>\n",
              "      <td>0.015969</td>\n",
              "      <td>-0.000386</td>\n",
              "      <td>1.0</td>\n",
              "      <td>3.1</td>\n",
              "      <td>3.7</td>\n",
              "      <td>4.2</td>\n",
              "      <td>5.0</td>\n",
              "      <td>0.013262</td>\n",
              "      <td>0.009416</td>\n",
              "      <td>0.014557</td>\n",
              "      <td>0.034209</td>\n",
              "      <td>0.021277</td>\n",
              "      <td>0.035918</td>\n",
              "      <td>0.017865</td>\n",
              "      <td>0.017759</td>\n",
              "    </tr>\n",
              "    <tr>\n",
              "      <th>7</th>\n",
              "      <td>1951-10-01</td>\n",
              "      <td>16181.0</td>\n",
              "      <td>3.5</td>\n",
              "      <td>26.16</td>\n",
              "      <td>-0.002589</td>\n",
              "      <td>0.009649</td>\n",
              "      <td>0.0</td>\n",
              "      <td>3.1</td>\n",
              "      <td>3.1</td>\n",
              "      <td>3.7</td>\n",
              "      <td>4.2</td>\n",
              "      <td>0.015969</td>\n",
              "      <td>0.013262</td>\n",
              "      <td>0.009416</td>\n",
              "      <td>0.014557</td>\n",
              "      <td>-0.000386</td>\n",
              "      <td>0.021277</td>\n",
              "      <td>0.035918</td>\n",
              "      <td>0.017865</td>\n",
              "    </tr>\n",
              "    <tr>\n",
              "      <th>8</th>\n",
              "      <td>1952-01-01</td>\n",
              "      <td>16288.0</td>\n",
              "      <td>3.2</td>\n",
              "      <td>26.45</td>\n",
              "      <td>0.006613</td>\n",
              "      <td>0.011086</td>\n",
              "      <td>1.0</td>\n",
              "      <td>3.5</td>\n",
              "      <td>3.1</td>\n",
              "      <td>3.1</td>\n",
              "      <td>3.7</td>\n",
              "      <td>-0.002589</td>\n",
              "      <td>0.015969</td>\n",
              "      <td>0.013262</td>\n",
              "      <td>0.009416</td>\n",
              "      <td>0.009649</td>\n",
              "      <td>-0.000386</td>\n",
              "      <td>0.021277</td>\n",
              "      <td>0.035918</td>\n",
              "    </tr>\n",
              "    <tr>\n",
              "      <th>9</th>\n",
              "      <td>1952-04-01</td>\n",
              "      <td>16259.0</td>\n",
              "      <td>2.9</td>\n",
              "      <td>26.46</td>\n",
              "      <td>-0.001780</td>\n",
              "      <td>0.000378</td>\n",
              "      <td>0.0</td>\n",
              "      <td>3.2</td>\n",
              "      <td>3.5</td>\n",
              "      <td>3.1</td>\n",
              "      <td>3.1</td>\n",
              "      <td>0.006613</td>\n",
              "      <td>-0.002589</td>\n",
              "      <td>0.015969</td>\n",
              "      <td>0.013262</td>\n",
              "      <td>0.011086</td>\n",
              "      <td>0.009649</td>\n",
              "      <td>-0.000386</td>\n",
              "      <td>0.021277</td>\n",
              "    </tr>\n",
              "  </tbody>\n",
              "</table>\n",
              "</div>"
            ],
            "text/plain": [
              "         date  gdp_per_capita  unemployment_rate    cpi  gdp_growth_rate  \\\n",
              "5  1951-04-01         15968.0                3.1  25.92         0.013262   \n",
              "6  1951-07-01         16223.0                3.1  25.91         0.015969   \n",
              "7  1951-10-01         16181.0                3.5  26.16        -0.002589   \n",
              "8  1952-01-01         16288.0                3.2  26.45         0.006613   \n",
              "9  1952-04-01         16259.0                2.9  26.46        -0.001780   \n",
              "\n",
              "   cpi_inflation_rate  growth  unemployment_1  unemployment_2  unemployment_3  \\\n",
              "5            0.021277     1.0             3.7             4.2             5.0   \n",
              "6           -0.000386     1.0             3.1             3.7             4.2   \n",
              "7            0.009649     0.0             3.1             3.1             3.7   \n",
              "8            0.011086     1.0             3.5             3.1             3.1   \n",
              "9            0.000378     0.0             3.2             3.5             3.1   \n",
              "\n",
              "   unemployment_4     gdp_1     gdp_2     gdp_3     gdp_4     cpi_1     cpi_2  \\\n",
              "5             5.8  0.009416  0.014557  0.034209  0.026846  0.035918  0.017865   \n",
              "6             5.0  0.013262  0.009416  0.014557  0.034209  0.021277  0.035918   \n",
              "7             4.2  0.015969  0.013262  0.009416  0.014557 -0.000386  0.021277   \n",
              "8             3.7 -0.002589  0.015969  0.013262  0.009416  0.009649 -0.000386   \n",
              "9             3.1  0.006613 -0.002589  0.015969  0.013262  0.011086  0.009649   \n",
              "\n",
              "      cpi_3     cpi_4  \n",
              "5  0.017759  0.005955  \n",
              "6  0.017865  0.017759  \n",
              "7  0.035918  0.017865  \n",
              "8  0.021277  0.035918  \n",
              "9 -0.000386  0.021277  "
            ]
          },
          "metadata": {
            "tags": []
          },
          "execution_count": 93
        }
      ]
    },
    {
      "metadata": {
        "id": "DRW2pdfSBSu0",
        "colab_type": "code",
        "colab": {}
      },
      "cell_type": "code",
      "source": [
        "# some useful reporting functions from the intro course\n",
        "from sklearn.metrics import mean_absolute_error\n",
        "from sklearn.metrics import confusion_matrix\n",
        "\n",
        "import itertools\n",
        "  \n",
        "# function for plotting a good looking confusion matrix\n",
        "# http://scikit-learn.org/stable/auto_examples/model_selection/plot_confusion_matrix.html#sphx-glr-auto-examples-model-selection-plot-confusion-matrix-py\n",
        "def plot_confusion_matrix(cm, classes,\n",
        "                          normalize=False,\n",
        "                          title='Confusion matrix',\n",
        "                          cmap=plt.cm.Blues):\n",
        "    \"\"\"\n",
        "    This function prints and plots the confusion matrix.\n",
        "    Normalization can be applied by setting `normalize=True`.\n",
        "    \"\"\"\n",
        "    if normalize:\n",
        "        cm = cm.astype('float') / cm.sum(axis=1)[:, np.newaxis]\n",
        "        print(\"Normalized confusion matrix\")\n",
        "    else:\n",
        "        print('Confusion matrix, without normalization')\n",
        "\n",
        "    plt.imshow(cm, interpolation='nearest', cmap=cmap)\n",
        "    plt.title(title)\n",
        "    plt.colorbar()\n",
        "    tick_marks = np.arange(len(classes))\n",
        "    plt.xticks(tick_marks, classes, rotation=45)\n",
        "    plt.yticks(tick_marks, classes)\n",
        "\n",
        "    fmt = '.2f' if normalize else 'd'\n",
        "    thresh = cm.max() / 2.\n",
        "    for i, j in itertools.product(range(cm.shape[0]), range(cm.shape[1])):\n",
        "        plt.text(j, i, format(cm[i, j], fmt),\n",
        "                 horizontalalignment=\"center\",\n",
        "                 color=\"white\" if cm[i, j] > thresh else \"black\")\n",
        "\n",
        "    plt.ylabel('True label')\n",
        "    plt.xlabel('Predicted label')\n",
        "    plt.tight_layout()\n"
      ],
      "execution_count": 0,
      "outputs": []
    },
    {
      "metadata": {
        "id": "a4V6BwelBo9x",
        "colab_type": "code",
        "colab": {
          "base_uri": "https://localhost:8080/",
          "height": 331
        },
        "outputId": "c4354672-57e1-476d-d48c-afbf0b8d4fe7"
      },
      "cell_type": "code",
      "source": [
        "# lets try a basic decision tree classifier\n",
        "\n",
        "from sklearn.tree import DecisionTreeClassifier\n",
        "\n",
        "model = DecisionTreeClassifier(max_depth=4)\n",
        "model.fit(train[features], train[target])\n",
        "\n",
        "# predict values training data\n",
        "train_predict = model.predict(train[features])\n",
        "\n",
        "# calculate mse and print confusion matrix\n",
        "train_mse = mean_absolute_error(train[target], train_predict)\n",
        "\n",
        "print ('train_mse: ', train_mse)\n",
        "\n",
        "# confusion matrix\n",
        "cnf_matrix = confusion_matrix(train[target], train_predict)\n",
        "class_names = ['Recession', 'Growth']\n",
        "\n",
        "plt.figure()\n",
        "plot_confusion_matrix(cnf_matrix, classes=class_names,\n",
        "                      title='Confusion matrix, without normalization - TRAIN data')\n",
        "\n",
        "plt.show();"
      ],
      "execution_count": 95,
      "outputs": [
        {
          "output_type": "stream",
          "text": [
            "train_mse:  0.109375\n",
            "Confusion matrix, without normalization\n"
          ],
          "name": "stdout"
        },
        {
          "output_type": "display_data",
          "data": {
            "image/png": "[encoded data removed]",
            "text/plain": [
              "<matplotlib.figure.Figure at 0x7f35f0a87668>"
            ]
          },
          "metadata": {
            "tags": []
          }
        }
      ]
    },
    {
      "metadata": {
        "id": "5aN456_BFfQ1",
        "colab_type": "code",
        "colab": {
          "base_uri": "https://localhost:8080/",
          "height": 331
        },
        "outputId": "2ffe0767-0d08-414f-989e-5ea5f51e58a4"
      },
      "cell_type": "code",
      "source": [
        "# test data validation\n",
        "# predict values training data\n",
        "test_predict = model.predict(test[features])\n",
        "\n",
        "# calculate mse and print confusion matrix\n",
        "test_mse = mean_absolute_error(test[target], test_predict)\n",
        "\n",
        "print ('test_mse: ', test_mse)\n",
        "\n",
        "# confusion matrix\n",
        "cnf_matrix = confusion_matrix(test[target], test_predict)\n",
        "class_names = ['Recession', 'Growth']\n",
        "\n",
        "plt.figure()\n",
        "plot_confusion_matrix(cnf_matrix, classes=class_names,\n",
        "                      title='Confusion matrix, without normalization - TEST Data')\n",
        "\n",
        "plt.show();"
      ],
      "execution_count": 96,
      "outputs": [
        {
          "output_type": "stream",
          "text": [
            "test_mse:  0.21875\n",
            "Confusion matrix, without normalization\n"
          ],
          "name": "stdout"
        },
        {
          "output_type": "display_data",
          "data": {
            "image/png": "[encoded data removed]",
            "text/plain": [
              "<matplotlib.figure.Figure at 0x7f35f08354a8>"
            ]
          },
          "metadata": {
            "tags": []
          }
        }
      ]
    },
    {
      "metadata": {
        "id": "BT9gdS7viJZa",
        "colab_type": "text"
      },
      "cell_type": "markdown",
      "source": [
        "### Assignment questions\n",
        "\n",
        "After you've worked on some code, answer the following questions in this text block:\n",
        "\n",
        "1.  Describe in a paragraph of text what you did and why, as if you were writing an email to somebody interested but nontechnical.\n",
        "\n",
        "I explored possible relationships between unemployment rate, inflation, and GDP growth, a frequently discussed topic in macroeconomic analysis.\n",
        "\n",
        "Unsurprisingly, I was unable to significantly predict even recession vs. growth using lagged variables for the past year.\n",
        "\n",
        "Also unsurpisingly, a quick glance reveals the popular Phillips curve relationship does not hold over the observation period.\n",
        "\n",
        "2.  What was the most challenging part of what you did?\n",
        "\n",
        "Transforming the data coming from FRED's API.\n",
        "\n",
        "3.  What was the most interesting thing you learned?\n",
        "\n",
        "I cheated a little because I suspected most of the macroeconomic results presented. However, I enjoyed the process of piecing together Python code to solve the problem.\n",
        "\n",
        "4.  What area would you like to explore with more time?\n",
        "\n",
        "Quant trading/investing. I'd like to start working with some of the datasets on Quandl or Quantopian and begin testing algorithms.\n",
        "\n",
        "This and AI research are my two main interests coming into the course.\n",
        "\n",
        "\n"
      ]
    },
    {
      "metadata": {
        "id": "_XXg2crAipwP",
        "colab_type": "text"
      },
      "cell_type": "markdown",
      "source": [
        "## Stretch goals and resources\n",
        "\n",
        "Following are *optional* things for you to take a look at. Focus on the above assignment first, and make sure to commit and push your changes to GitHub (and since this is the first assignment of the sprint, open a PR as well).\n",
        "\n",
        "- [pandas documentation](https://pandas.pydata.org/pandas-docs/stable/)\n",
        "- [scikit-learn documentation](http://scikit-learn.org/stable/documentation.html)\n",
        "- [matplotlib documentation](https://matplotlib.org/contents.html)\n",
        "- [Awesome Data Science](https://github.com/bulutyazilim/awesome-datascience) - a list of many types of DS resources\n",
        "\n",
        "Stretch goals:\n",
        "\n",
        "- Find and read blogs, walkthroughs, and other examples of people working through cool things with data science - and share with your classmates!\n",
        "- Write a blog post (Medium is a popular place to publish) introducing yourself as somebody learning data science, and talking about what you've learned already and what you're excited to learn more about"
      ]
    }
  ]
}