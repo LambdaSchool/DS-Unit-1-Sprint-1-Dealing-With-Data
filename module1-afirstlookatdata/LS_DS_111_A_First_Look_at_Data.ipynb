{
  "nbformat": 4,
  "nbformat_minor": 0,
  "metadata": {
    "colab": {
      "name": "LS DS 111 - A First Look at Data.ipynb",
      "version": "0.3.2",
      "provenance": [],
      "collapsed_sections": [],
      "include_colab_link": true
    },
    "kernelspec": {
      "name": "python3",
      "display_name": "Python 3"
    }
  },
  "cells": [
    {
      "cell_type": "markdown",
      "metadata": {
        "id": "view-in-github",
        "colab_type": "text"
      },
      "source": [
        "<a href=\"https://colab.research.google.com/github/veritaem/DS-Sprint-01-Dealing-With-Data/blob/master/module1-afirstlookatdata/LS_DS_111_A_First_Look_at_Data.ipynb\" target=\"_parent\"><img src=\"https://colab.research.google.com/assets/colab-badge.svg\" alt=\"Open In Colab\"/></a>"
      ]
    },
    {
      "metadata": {
        "id": "Okfr_uhwhS1X",
        "colab_type": "text"
      },
      "cell_type": "markdown",
      "source": [
        "# Lambda School Data Science - A First Look at Data\n",
        "\n"
      ]
    },
    {
      "metadata": {
        "id": "9dtJETFRhnOG",
        "colab_type": "text"
      },
      "cell_type": "markdown",
      "source": [
        "## Lecture - let's explore Python DS libraries and examples!\n",
        "\n",
        "The Python Data Science ecosystem is huge. You've seen some of the big pieces - pandas, scikit-learn, matplotlib. What parts do you want to see more of?"
      ]
    },
    {
      "metadata": {
        "id": "WiBkgmPJhmhE",
        "colab_type": "code",
        "outputId": "9708a0d5-8de0-4afb-bda9-3db62b953abe",
        "colab": {
          "base_uri": "https://localhost:8080/",
          "height": 36
        }
      },
      "cell_type": "code",
      "source": [
        "# TODO - we'll be doing this live, taking requests\n",
        "# and reproducing what it is to look up and learn things\n",
        "1+1"
      ],
      "execution_count": 1,
      "outputs": [
        {
          "output_type": "execute_result",
          "data": {
            "text/plain": [
              "2"
            ]
          },
          "metadata": {
            "tags": []
          },
          "execution_count": 1
        }
      ]
    },
    {
      "metadata": {
        "id": "lOqaPds9huME",
        "colab_type": "text"
      },
      "cell_type": "markdown",
      "source": [
        "## Assignment - now it's your turn\n",
        "\n",
        "Pick at least one Python DS library, and using documentation/examples reproduce in this notebook something cool. It's OK if you don't fully understand it or get it 100% working, but do put in effort and look things up."
      ]
    },
    {
      "metadata": {
        "id": "TGUS79cOhPWj",
        "colab_type": "code",
        "colab": {
          "base_uri": "https://localhost:8080/",
          "height": 74
        },
        "outputId": "840615c6-2534-4a41-b07c-93abf91615f2"
      },
      "cell_type": "code",
      "source": [
        "##http://nbviewer.jupyter.org/github/vincentarelbundock/Reinhart-Rogoff/blob/master/reinhart-rogoff.ipynb\n",
        "##this is the notebook i used\n",
        "\n",
        "# TODO - your code here\n",
        "# Use what we did live in lecture as an example\n",
        "import statsmodels.api as sm\n",
        "import patsy\n",
        "import pandas as pd\n",
        "import numpy as np\n",
        "import matplotlib.pyplot as plt\n",
        "\n",
        "RR = pd.read_csv('https://gist.githubusercontent.com/vincentarelbundock/5409893/raw/a623f2f3bae027a0e51dd01ac5b70d44d909a7b9/RR-processed.csv')\n",
        "##i couldnt make it read the csv posted in the notebook code so I got the raw and used it"
      ],
      "execution_count": 2,
      "outputs": [
        {
          "output_type": "stream",
          "text": [
            "/usr/local/lib/python3.6/dist-packages/statsmodels/compat/pandas.py:56: FutureWarning: The pandas.core.datetools module is deprecated and will be removed in a future version. Please use the pandas.tseries module instead.\n",
            "  from pandas.core import datetools\n"
          ],
          "name": "stderr"
        }
      ]
    },
    {
      "metadata": {
        "id": "mNhu68wheKWa",
        "colab_type": "code",
        "outputId": "03e56f04-74ed-42b1-afd0-0163b38e73df",
        "colab": {
          "base_uri": "https://localhost:8080/",
          "height": 429
        }
      },
      "cell_type": "code",
      "source": [
        "RR.groupby('Country').size()"
      ],
      "execution_count": 3,
      "outputs": [
        {
          "output_type": "execute_result",
          "data": {
            "text/plain": [
              "Country\n",
              "Australia      64\n",
              "Austria        62\n",
              "Belgium        63\n",
              "Canada         64\n",
              "Denmark        56\n",
              "Finland        64\n",
              "France         54\n",
              "Germany        59\n",
              "Greece         40\n",
              "Ireland        63\n",
              "Italy          59\n",
              "Japan          54\n",
              "Netherlands    53\n",
              "New Zealand    64\n",
              "Norway         64\n",
              "Portugal       58\n",
              "Spain          42\n",
              "Sweden         64\n",
              "UK             64\n",
              "US             64\n",
              "dtype: int64"
            ]
          },
          "metadata": {
            "tags": []
          },
          "execution_count": 3
        }
      ]
    },
    {
      "metadata": {
        "id": "QQZV5dLyiNy1",
        "colab_type": "code",
        "outputId": "ea02ace1-934e-4560-d40f-79ebf4270bf3",
        "colab": {
          "base_uri": "https://localhost:8080/",
          "height": 36
        }
      },
      "cell_type": "code",
      "source": [
        "RR.shape"
      ],
      "execution_count": 4,
      "outputs": [
        {
          "output_type": "execute_result",
          "data": {
            "text/plain": [
              "(1175, 27)"
            ]
          },
          "metadata": {
            "tags": []
          },
          "execution_count": 4
        }
      ]
    },
    {
      "metadata": {
        "id": "iqf64JdRf6cn",
        "colab_type": "code",
        "outputId": "5c67f69c-4acf-4448-c629-7702da55a855",
        "colab": {
          "base_uri": "https://localhost:8080/",
          "height": 367
        }
      },
      "cell_type": "code",
      "source": [
        "RR.describe()\n",
        "##they used several operations in the notebook to get some of this info so I figured\n",
        "##this might be easier and more readable."
      ],
      "execution_count": 5,
      "outputs": [
        {
          "output_type": "execute_result",
          "data": {
            "text/html": [
              "<div>\n",
              "<style scoped>\n",
              "    .dataframe tbody tr th:only-of-type {\n",
              "        vertical-align: middle;\n",
              "    }\n",
              "\n",
              "    .dataframe tbody tr th {\n",
              "        vertical-align: top;\n",
              "    }\n",
              "\n",
              "    .dataframe thead th {\n",
              "        text-align: right;\n",
              "    }\n",
              "</style>\n",
              "<table border=\"1\" class=\"dataframe\">\n",
              "  <thead>\n",
              "    <tr style=\"text-align: right;\">\n",
              "      <th></th>\n",
              "      <th>Unnamed: 0</th>\n",
              "      <th>Year</th>\n",
              "      <th>Debt</th>\n",
              "      <th>RGDP</th>\n",
              "      <th>GDP</th>\n",
              "      <th>dRGDP</th>\n",
              "      <th>GDPI</th>\n",
              "      <th>GDP1</th>\n",
              "      <th>GDP2</th>\n",
              "      <th>RGDP1</th>\n",
              "      <th>...</th>\n",
              "      <th>Debtalt</th>\n",
              "      <th>GDP2alt</th>\n",
              "      <th>GDPalt</th>\n",
              "      <th>RGDP2alt</th>\n",
              "      <th>debtgdp</th>\n",
              "      <th>GDP3</th>\n",
              "      <th>GNI</th>\n",
              "      <th>lRGDP</th>\n",
              "      <th>lRGDP1</th>\n",
              "      <th>lRGDP2</th>\n",
              "    </tr>\n",
              "  </thead>\n",
              "  <tbody>\n",
              "    <tr>\n",
              "      <th>count</th>\n",
              "      <td>1175.00000</td>\n",
              "      <td>1175.000000</td>\n",
              "      <td>8.220000e+02</td>\n",
              "      <td>2.070000e+02</td>\n",
              "      <td>1.280000e+02</td>\n",
              "      <td>1175.000000</td>\n",
              "      <td>93.000000</td>\n",
              "      <td>7.730000e+02</td>\n",
              "      <td>8.850000e+02</td>\n",
              "      <td>8.140000e+02</td>\n",
              "      <td>...</td>\n",
              "      <td>1.180000e+02</td>\n",
              "      <td>8.800000e+01</td>\n",
              "      <td>4.400000e+01</td>\n",
              "      <td>31.000000</td>\n",
              "      <td>1175.000000</td>\n",
              "      <td>30.000000</td>\n",
              "      <td>4.800000e+01</td>\n",
              "      <td>2.100000e+02</td>\n",
              "      <td>8.290000e+02</td>\n",
              "      <td>4.350000e+02</td>\n",
              "    </tr>\n",
              "    <tr>\n",
              "      <th>mean</th>\n",
              "      <td>588.00000</td>\n",
              "      <td>1979.254468</td>\n",
              "      <td>1.593857e+07</td>\n",
              "      <td>2.369173e+05</td>\n",
              "      <td>1.957611e+05</td>\n",
              "      <td>3.413757</td>\n",
              "      <td>50.341802</td>\n",
              "      <td>1.444103e+07</td>\n",
              "      <td>1.812497e+07</td>\n",
              "      <td>1.401169e+07</td>\n",
              "      <td>...</td>\n",
              "      <td>1.006665e+07</td>\n",
              "      <td>4.450790e+05</td>\n",
              "      <td>2.079659e+06</td>\n",
              "      <td>103333.064516</td>\n",
              "      <td>46.320173</td>\n",
              "      <td>76891.133333</td>\n",
              "      <td>5.156239e+08</td>\n",
              "      <td>2.351587e+05</td>\n",
              "      <td>1.382204e+07</td>\n",
              "      <td>3.047113e+07</td>\n",
              "    </tr>\n",
              "    <tr>\n",
              "      <th>std</th>\n",
              "      <td>339.33759</td>\n",
              "      <td>17.993206</td>\n",
              "      <td>9.113481e+07</td>\n",
              "      <td>3.229943e+05</td>\n",
              "      <td>3.693084e+05</td>\n",
              "      <td>2.992940</td>\n",
              "      <td>35.832360</td>\n",
              "      <td>6.444771e+07</td>\n",
              "      <td>8.181769e+07</td>\n",
              "      <td>6.658949e+07</td>\n",
              "      <td>...</td>\n",
              "      <td>2.569075e+07</td>\n",
              "      <td>5.716624e+05</td>\n",
              "      <td>1.951114e+06</td>\n",
              "      <td>23514.613796</td>\n",
              "      <td>32.346159</td>\n",
              "      <td>58596.977435</td>\n",
              "      <td>6.478610e+08</td>\n",
              "      <td>3.213443e+05</td>\n",
              "      <td>6.602166e+07</td>\n",
              "      <td>1.134847e+08</td>\n",
              "    </tr>\n",
              "    <tr>\n",
              "      <th>min</th>\n",
              "      <td>1.00000</td>\n",
              "      <td>1946.000000</td>\n",
              "      <td>7.300000e+00</td>\n",
              "      <td>1.776100e+03</td>\n",
              "      <td>2.222000e+02</td>\n",
              "      <td>-10.942159</td>\n",
              "      <td>3.560000</td>\n",
              "      <td>3.944800e+01</td>\n",
              "      <td>1.574600e+01</td>\n",
              "      <td>1.793000e+02</td>\n",
              "      <td>...</td>\n",
              "      <td>2.051000e+03</td>\n",
              "      <td>1.530500e+04</td>\n",
              "      <td>2.617545e+05</td>\n",
              "      <td>69620.000000</td>\n",
              "      <td>3.279110</td>\n",
              "      <td>13101.000000</td>\n",
              "      <td>1.074800e+07</td>\n",
              "      <td>1.776100e+03</td>\n",
              "      <td>1.668000e+02</td>\n",
              "      <td>2.433500e+02</td>\n",
              "    </tr>\n",
              "    <tr>\n",
              "      <th>25%</th>\n",
              "      <td>294.50000</td>\n",
              "      <td>1964.000000</td>\n",
              "      <td>6.493725e+03</td>\n",
              "      <td>1.006890e+04</td>\n",
              "      <td>2.227875e+03</td>\n",
              "      <td>1.904000</td>\n",
              "      <td>9.240000</td>\n",
              "      <td>1.941800e+04</td>\n",
              "      <td>1.507300e+04</td>\n",
              "      <td>3.398616e+04</td>\n",
              "      <td>...</td>\n",
              "      <td>6.343700e+04</td>\n",
              "      <td>5.541375e+04</td>\n",
              "      <td>5.148981e+05</td>\n",
              "      <td>85553.000000</td>\n",
              "      <td>22.199082</td>\n",
              "      <td>28952.500000</td>\n",
              "      <td>3.221400e+07</td>\n",
              "      <td>9.961600e+03</td>\n",
              "      <td>3.323500e+04</td>\n",
              "      <td>9.707600e+04</td>\n",
              "    </tr>\n",
              "    <tr>\n",
              "      <th>50%</th>\n",
              "      <td>588.00000</td>\n",
              "      <td>1980.000000</td>\n",
              "      <td>3.594450e+04</td>\n",
              "      <td>8.724400e+04</td>\n",
              "      <td>1.301700e+04</td>\n",
              "      <td>3.283427</td>\n",
              "      <td>51.630000</td>\n",
              "      <td>1.808000e+05</td>\n",
              "      <td>1.066650e+05</td>\n",
              "      <td>1.033649e+05</td>\n",
              "      <td>...</td>\n",
              "      <td>2.652500e+05</td>\n",
              "      <td>1.198715e+05</td>\n",
              "      <td>1.093388e+06</td>\n",
              "      <td>100822.000000</td>\n",
              "      <td>40.503248</td>\n",
              "      <td>50016.500000</td>\n",
              "      <td>1.299235e+08</td>\n",
              "      <td>8.706950e+04</td>\n",
              "      <td>1.021640e+05</td>\n",
              "      <td>4.295000e+05</td>\n",
              "    </tr>\n",
              "    <tr>\n",
              "      <th>75%</th>\n",
              "      <td>881.50000</td>\n",
              "      <td>1995.000000</td>\n",
              "      <td>2.858835e+05</td>\n",
              "      <td>3.543640e+05</td>\n",
              "      <td>1.525658e+05</td>\n",
              "      <td>5.099766</td>\n",
              "      <td>79.790000</td>\n",
              "      <td>1.740450e+06</td>\n",
              "      <td>6.957710e+05</td>\n",
              "      <td>4.413502e+05</td>\n",
              "      <td>...</td>\n",
              "      <td>3.123550e+06</td>\n",
              "      <td>8.130648e+05</td>\n",
              "      <td>3.399964e+06</td>\n",
              "      <td>118257.000000</td>\n",
              "      <td>61.473961</td>\n",
              "      <td>126926.250000</td>\n",
              "      <td>9.128128e+08</td>\n",
              "      <td>3.506410e+05</td>\n",
              "      <td>4.296940e+05</td>\n",
              "      <td>1.579190e+06</td>\n",
              "    </tr>\n",
              "    <tr>\n",
              "      <th>max</th>\n",
              "      <td>1175.00000</td>\n",
              "      <td>2009.000000</td>\n",
              "      <td>8.699630e+08</td>\n",
              "      <td>1.275299e+06</td>\n",
              "      <td>1.446110e+06</td>\n",
              "      <td>27.329193</td>\n",
              "      <td>113.140000</td>\n",
              "      <td>5.080005e+08</td>\n",
              "      <td>5.158050e+08</td>\n",
              "      <td>4.940320e+08</td>\n",
              "      <td>...</td>\n",
              "      <td>9.330700e+07</td>\n",
              "      <td>1.950085e+06</td>\n",
              "      <td>6.760830e+06</td>\n",
              "      <td>149616.000000</td>\n",
              "      <td>247.481942</td>\n",
              "      <td>189751.000000</td>\n",
              "      <td>2.047810e+09</td>\n",
              "      <td>1.275299e+06</td>\n",
              "      <td>4.940320e+08</td>\n",
              "      <td>5.605110e+08</td>\n",
              "    </tr>\n",
              "  </tbody>\n",
              "</table>\n",
              "<p>8 rows × 26 columns</p>\n",
              "</div>"
            ],
            "text/plain": [
              "       Unnamed: 0         Year          Debt          RGDP           GDP  \\\n",
              "count  1175.00000  1175.000000  8.220000e+02  2.070000e+02  1.280000e+02   \n",
              "mean    588.00000  1979.254468  1.593857e+07  2.369173e+05  1.957611e+05   \n",
              "std     339.33759    17.993206  9.113481e+07  3.229943e+05  3.693084e+05   \n",
              "min       1.00000  1946.000000  7.300000e+00  1.776100e+03  2.222000e+02   \n",
              "25%     294.50000  1964.000000  6.493725e+03  1.006890e+04  2.227875e+03   \n",
              "50%     588.00000  1980.000000  3.594450e+04  8.724400e+04  1.301700e+04   \n",
              "75%     881.50000  1995.000000  2.858835e+05  3.543640e+05  1.525658e+05   \n",
              "max    1175.00000  2009.000000  8.699630e+08  1.275299e+06  1.446110e+06   \n",
              "\n",
              "             dRGDP        GDPI          GDP1          GDP2         RGDP1  \\\n",
              "count  1175.000000   93.000000  7.730000e+02  8.850000e+02  8.140000e+02   \n",
              "mean      3.413757   50.341802  1.444103e+07  1.812497e+07  1.401169e+07   \n",
              "std       2.992940   35.832360  6.444771e+07  8.181769e+07  6.658949e+07   \n",
              "min     -10.942159    3.560000  3.944800e+01  1.574600e+01  1.793000e+02   \n",
              "25%       1.904000    9.240000  1.941800e+04  1.507300e+04  3.398616e+04   \n",
              "50%       3.283427   51.630000  1.808000e+05  1.066650e+05  1.033649e+05   \n",
              "75%       5.099766   79.790000  1.740450e+06  6.957710e+05  4.413502e+05   \n",
              "max      27.329193  113.140000  5.080005e+08  5.158050e+08  4.940320e+08   \n",
              "\n",
              "           ...            Debtalt       GDP2alt        GDPalt       RGDP2alt  \\\n",
              "count      ...       1.180000e+02  8.800000e+01  4.400000e+01      31.000000   \n",
              "mean       ...       1.006665e+07  4.450790e+05  2.079659e+06  103333.064516   \n",
              "std        ...       2.569075e+07  5.716624e+05  1.951114e+06   23514.613796   \n",
              "min        ...       2.051000e+03  1.530500e+04  2.617545e+05   69620.000000   \n",
              "25%        ...       6.343700e+04  5.541375e+04  5.148981e+05   85553.000000   \n",
              "50%        ...       2.652500e+05  1.198715e+05  1.093388e+06  100822.000000   \n",
              "75%        ...       3.123550e+06  8.130648e+05  3.399964e+06  118257.000000   \n",
              "max        ...       9.330700e+07  1.950085e+06  6.760830e+06  149616.000000   \n",
              "\n",
              "           debtgdp           GDP3           GNI         lRGDP        lRGDP1  \\\n",
              "count  1175.000000      30.000000  4.800000e+01  2.100000e+02  8.290000e+02   \n",
              "mean     46.320173   76891.133333  5.156239e+08  2.351587e+05  1.382204e+07   \n",
              "std      32.346159   58596.977435  6.478610e+08  3.213443e+05  6.602166e+07   \n",
              "min       3.279110   13101.000000  1.074800e+07  1.776100e+03  1.668000e+02   \n",
              "25%      22.199082   28952.500000  3.221400e+07  9.961600e+03  3.323500e+04   \n",
              "50%      40.503248   50016.500000  1.299235e+08  8.706950e+04  1.021640e+05   \n",
              "75%      61.473961  126926.250000  9.128128e+08  3.506410e+05  4.296940e+05   \n",
              "max     247.481942  189751.000000  2.047810e+09  1.275299e+06  4.940320e+08   \n",
              "\n",
              "             lRGDP2  \n",
              "count  4.350000e+02  \n",
              "mean   3.047113e+07  \n",
              "std    1.134847e+08  \n",
              "min    2.433500e+02  \n",
              "25%    9.707600e+04  \n",
              "50%    4.295000e+05  \n",
              "75%    1.579190e+06  \n",
              "max    5.605110e+08  \n",
              "\n",
              "[8 rows x 26 columns]"
            ]
          },
          "metadata": {
            "tags": []
          },
          "execution_count": 5
        }
      ]
    },
    {
      "metadata": {
        "id": "v9ustmQjE8o6",
        "colab_type": "code",
        "colab": {}
      },
      "cell_type": "code",
      "source": [
        "bins = [\"0-30%\",\"30-60%\",\"60-90%\",\"Above 90%\"]\n",
        "RR['dgcat'] = np.digitize(RR.debtgdp, [0,30,60,90,np.inf]) - 1\n",
        "RR.dgcat = [bins[x] for x in RR.dgcat]\n",
        "\n",
        "bins = [\"0-30%\",\"30-60%\",\"60-90%\",\"90-120%\",\"Above 120%\"]\n",
        "RR['dgcat2'] = np.digitize(RR.debtgdp, [0,30,60,90,120,np.inf]) - 1\n",
        "RR.dgcat2 = [bins[x] for x in RR.dgcat2]"
      ],
      "execution_count": 0,
      "outputs": []
    },
    {
      "metadata": {
        "id": "IILqm_2Ayy_W",
        "colab_type": "code",
        "colab": {}
      },
      "cell_type": "code",
      "source": [
        "RR.dRGDP = RR.dRGDP.fillna(method = 'ffill')\n",
        "RR.Debt = RR.Debt.fillna(method = 'ffill')"
      ],
      "execution_count": 0,
      "outputs": []
    },
    {
      "metadata": {
        "id": "EunzFxxhhuol",
        "colab_type": "code",
        "outputId": "898ba7d3-9ec6-4b80-997c-96a979f83a07",
        "colab": {
          "base_uri": "https://localhost:8080/",
          "height": 361
        }
      },
      "cell_type": "code",
      "source": [
        "##redid a regression model between debt and gdp                                               \n",
        "\n",
        "X = RR[\"dRGDP\"]\n",
        "y = RR[\"Debt\"]\n",
        "\n",
        "\n",
        "model = sm.OLS(y, X).fit()\n",
        "predictions = model.predict(X)\n",
        "model.summary()"
      ],
      "execution_count": 8,
      "outputs": [
        {
          "output_type": "execute_result",
          "data": {
            "text/html": [
              "<table class=\"simpletable\">\n",
              "<caption>OLS Regression Results</caption>\n",
              "<tr>\n",
              "  <th>Dep. Variable:</th>          <td>Debt</td>       <th>  R-squared:         </th> <td>   0.002</td> \n",
              "</tr>\n",
              "<tr>\n",
              "  <th>Model:</th>                   <td>OLS</td>       <th>  Adj. R-squared:    </th> <td>   0.001</td> \n",
              "</tr>\n",
              "<tr>\n",
              "  <th>Method:</th>             <td>Least Squares</td>  <th>  F-statistic:       </th> <td>   2.685</td> \n",
              "</tr>\n",
              "<tr>\n",
              "  <th>Date:</th>             <td>Mon, 05 Nov 2018</td> <th>  Prob (F-statistic):</th>  <td> 0.102</td>  \n",
              "</tr>\n",
              "<tr>\n",
              "  <th>Time:</th>                 <td>22:53:00</td>     <th>  Log-Likelihood:    </th> <td> -23008.</td> \n",
              "</tr>\n",
              "<tr>\n",
              "  <th>No. Observations:</th>      <td>  1175</td>      <th>  AIC:               </th> <td>4.602e+04</td>\n",
              "</tr>\n",
              "<tr>\n",
              "  <th>Df Residuals:</th>          <td>  1174</td>      <th>  BIC:               </th> <td>4.602e+04</td>\n",
              "</tr>\n",
              "<tr>\n",
              "  <th>Df Model:</th>              <td>     1</td>      <th>                     </th>     <td> </td>    \n",
              "</tr>\n",
              "<tr>\n",
              "  <th>Covariance Type:</th>      <td>nonrobust</td>    <th>                     </th>     <td> </td>    \n",
              "</tr>\n",
              "</table>\n",
              "<table class=\"simpletable\">\n",
              "<tr>\n",
              "    <td></td>       <th>coef</th>     <th>std err</th>      <th>t</th>      <th>P>|t|</th>  <th>[0.025</th>    <th>0.975]</th>  \n",
              "</tr>\n",
              "<tr>\n",
              "  <th>dRGDP</th> <td> 8.139e+05</td> <td> 4.97e+05</td> <td>    1.639</td> <td> 0.102</td> <td>-1.61e+05</td> <td> 1.79e+06</td>\n",
              "</tr>\n",
              "</table>\n",
              "<table class=\"simpletable\">\n",
              "<tr>\n",
              "  <th>Omnibus:</th>       <td>1717.737</td> <th>  Durbin-Watson:     </th>  <td>   0.116</td> \n",
              "</tr>\n",
              "<tr>\n",
              "  <th>Prob(Omnibus):</th>  <td> 0.000</td>  <th>  Jarque-Bera (JB):  </th> <td>332502.662</td>\n",
              "</tr>\n",
              "<tr>\n",
              "  <th>Skew:</th>           <td> 8.672</td>  <th>  Prob(JB):          </th>  <td>    0.00</td> \n",
              "</tr>\n",
              "<tr>\n",
              "  <th>Kurtosis:</th>       <td>83.565</td>  <th>  Cond. No.          </th>  <td>    1.00</td> \n",
              "</tr>\n",
              "</table>"
            ],
            "text/plain": [
              "<class 'statsmodels.iolib.summary.Summary'>\n",
              "\"\"\"\n",
              "                            OLS Regression Results                            \n",
              "==============================================================================\n",
              "Dep. Variable:                   Debt   R-squared:                       0.002\n",
              "Model:                            OLS   Adj. R-squared:                  0.001\n",
              "Method:                 Least Squares   F-statistic:                     2.685\n",
              "Date:                Mon, 05 Nov 2018   Prob (F-statistic):              0.102\n",
              "Time:                        22:53:00   Log-Likelihood:                -23008.\n",
              "No. Observations:                1175   AIC:                         4.602e+04\n",
              "Df Residuals:                    1174   BIC:                         4.602e+04\n",
              "Df Model:                           1                                         \n",
              "Covariance Type:            nonrobust                                         \n",
              "==============================================================================\n",
              "                 coef    std err          t      P>|t|      [0.025      0.975]\n",
              "------------------------------------------------------------------------------\n",
              "dRGDP       8.139e+05   4.97e+05      1.639      0.102   -1.61e+05    1.79e+06\n",
              "==============================================================================\n",
              "Omnibus:                     1717.737   Durbin-Watson:                   0.116\n",
              "Prob(Omnibus):                  0.000   Jarque-Bera (JB):           332502.662\n",
              "Skew:                           8.672   Prob(JB):                         0.00\n",
              "Kurtosis:                      83.565   Cond. No.                         1.00\n",
              "==============================================================================\n",
              "\n",
              "Warnings:\n",
              "[1] Standard Errors assume that the covariance matrix of the errors is correctly specified.\n",
              "\"\"\""
            ]
          },
          "metadata": {
            "tags": []
          },
          "execution_count": 8
        }
      ]
    },
    {
      "metadata": {
        "id": "YkQ4TA-k0hvH",
        "colab_type": "code",
        "outputId": "a295cc2d-df13-4be3-be7d-deb979ac0e21",
        "colab": {
          "base_uri": "https://localhost:8080/",
          "height": 372
        }
      },
      "cell_type": "code",
      "source": [
        "##using a scatter plot to visualize their data showing the relationship between GDP and Debt\n",
        "plt.scatter(RR.dRGDP, RR.Debt)\n",
        "plt.xlabel('dRGDP')\n",
        "plt.ylabel('Debt')\n",
        "plt.show()"
      ],
      "execution_count": 9,
      "outputs": [
        {
          "output_type": "display_data",
          "data": {
            "image/png": "[encoded data removed]",
            "text/plain": [
              "<matplotlib.figure.Figure at 0x7ffa947ac978>"
            ]
          },
          "metadata": {
            "tags": []
          }
        }
      ]
    },
    {
      "metadata": {
        "id": "tIeRluIp1xyQ",
        "colab_type": "code",
        "outputId": "ef29da19-32e6-4ae9-b489-e761cad9fbcb",
        "colab": {
          "base_uri": "https://localhost:8080/",
          "height": 347
        }
      },
      "cell_type": "code",
      "source": [
        "num_bins = 20\n",
        "n, bins, patches = plt.hist(RR.dRGDP, num_bins, facecolor= 'cyan')\n",
        "plt.show()\n",
        "##I suspected GDP would be more or less a bell curve of some sort from the last chart, thats actually pretty interesting"
      ],
      "execution_count": 10,
      "outputs": [
        {
          "output_type": "display_data",
          "data": {
            "image/png": "[encoded data removed]",
            "text/plain": [
              "<matplotlib.figure.Figure at 0x7ffa94279400>"
            ]
          },
          "metadata": {
            "tags": []
          }
        }
      ]
    },
    {
      "metadata": {
        "id": "gNvXjAAq5LsE",
        "colab_type": "code",
        "colab": {
          "base_uri": "https://localhost:8080/",
          "height": 523
        },
        "outputId": "dc70166d-a956-47f8-b4b6-b259404cb520"
      },
      "cell_type": "code",
      "source": [
        "y,X = patsy.dmatrices('dRGDP ~ dgcat', data=RR[['dRGDP', 'dgcat']].dropna())\n",
        "print(sm.OLS(y,X).fit().summary())"
      ],
      "execution_count": 12,
      "outputs": [
        {
          "output_type": "stream",
          "text": [
            "                            OLS Regression Results                            \n",
            "==============================================================================\n",
            "Dep. Variable:                  dRGDP   R-squared:                       0.045\n",
            "Model:                            OLS   Adj. R-squared:                  0.042\n",
            "Method:                 Least Squares   F-statistic:                     18.36\n",
            "Date:                Mon, 05 Nov 2018   Prob (F-statistic):           1.22e-11\n",
            "Time:                        22:53:34   Log-Likelihood:                -2927.9\n",
            "No. Observations:                1175   AIC:                             5864.\n",
            "Df Residuals:                    1171   BIC:                             5884.\n",
            "Df Model:                           3                                         \n",
            "Covariance Type:            nonrobust                                         \n",
            "======================================================================================\n",
            "                         coef    std err          t      P>|t|      [0.025      0.975]\n",
            "--------------------------------------------------------------------------------------\n",
            "Intercept              4.1735      0.142     29.413      0.000       3.895       4.452\n",
            "dgcat[T.30-60%]       -1.0814      0.199     -5.429      0.000      -1.472      -0.691\n",
            "dgcat[T.60-90%]       -0.9869      0.251     -3.931      0.000      -1.479      -0.494\n",
            "dgcat[T.Above 90%]    -2.0056      0.313     -6.403      0.000      -2.620      -1.391\n",
            "==============================================================================\n",
            "Omnibus:                      208.322   Durbin-Watson:                   1.385\n",
            "Prob(Omnibus):                  0.000   Jarque-Bera (JB):             1757.480\n",
            "Skew:                           0.558   Prob(JB):                         0.00\n",
            "Kurtosis:                       8.887   Cond. No.                         4.57\n",
            "==============================================================================\n",
            "\n",
            "Warnings:\n",
            "[1] Standard Errors assume that the covariance matrix of the errors is correctly specified.\n"
          ],
          "name": "stdout"
        }
      ]
    },
    {
      "metadata": {
        "id": "aQu0pF5nFOA2",
        "colab_type": "code",
        "colab": {}
      },
      "cell_type": "code",
      "source": [
        ""
      ],
      "execution_count": 0,
      "outputs": []
    },
    {
      "metadata": {
        "id": "rCopnfbUj2lT",
        "colab_type": "code",
        "colab": {}
      },
      "cell_type": "code",
      "source": [
        "import seaborn as sns"
      ],
      "execution_count": 0,
      "outputs": []
    },
    {
      "metadata": {
        "id": "EKwGZ2mAldIU",
        "colab_type": "code",
        "colab": {}
      },
      "cell_type": "code",
      "source": [
        "from sklearn import linear_model"
      ],
      "execution_count": 0,
      "outputs": []
    },
    {
      "metadata": {
        "id": "cRuAa3V3mY-4",
        "colab_type": "code",
        "outputId": "fda5f1c8-1f67-4f13-af03-6470a894d7d9",
        "colab": {
          "base_uri": "https://localhost:8080/",
          "height": 366
        }
      },
      "cell_type": "code",
      "source": [
        "\n",
        "\n",
        "\n",
        "labels = [\"0-30%\",\"30-60%\",\"60-90%\",\"Above 90%\"]\n",
        "dat = [np.array(RR.dRGDP[RR.dgcat==x]) for x in labels]\n",
        "print(sm.graphics.violinplot(dat, labels=labels))\n",
        "\n"
      ],
      "execution_count": 14,
      "outputs": [
        {
          "output_type": "stream",
          "text": [
            "Figure(576x396)\n"
          ],
          "name": "stdout"
        },
        {
          "output_type": "display_data",
          "data": {
            "image/png": "[encoded data removed]",
            "text/plain": [
              "<matplotlib.figure.Figure at 0x7ffa91951f98>"
            ]
          },
          "metadata": {
            "tags": []
          }
        }
      ]
    },
    {
      "metadata": {
        "id": "HRSOxq-IqloZ",
        "colab_type": "code",
        "outputId": "8210da0e-419c-41c7-ec94-98f2cdfc88b1",
        "colab": {
          "base_uri": "https://localhost:8080/",
          "height": 1197
        }
      },
      "cell_type": "code",
      "source": [
        "RR.Country.groupby([RR.Country, RR.dRGDP]).size().unstack().sum()"
      ],
      "execution_count": 0,
      "outputs": [
        {
          "output_type": "execute_result",
          "data": {
            "text/plain": [
              "dRGDP\n",
              "-10.942159    1.0\n",
              "-9.922099     1.0\n",
              "-7.635102     1.0\n",
              "-7.500000     1.0\n",
              "-6.355948     1.0\n",
              "-6.243667     1.0\n",
              "-5.369365     1.0\n",
              "-5.296834     1.0\n",
              "-5.145000     1.0\n",
              "-4.871261     1.0\n",
              "-4.827783     1.0\n",
              "-4.565103     1.0\n",
              "-4.400000     1.0\n",
              "-4.347962     1.0\n",
              "-4.172716     1.0\n",
              "-3.824000     1.0\n",
              "-3.767233     1.0\n",
              "-3.735508     1.0\n",
              "-3.638359     1.0\n",
              "-3.557951     1.0\n",
              "-3.182360     1.0\n",
              "-3.000000     1.0\n",
              "-2.896702     1.0\n",
              "-2.730170     1.0\n",
              "-2.458310     1.0\n",
              "-2.433023     1.0\n",
              "-2.259000     1.0\n",
              "-2.175000     1.0\n",
              "-2.146417     1.0\n",
              "-2.081798     1.0\n",
              "             ... \n",
              " 9.400000     1.0\n",
              " 9.600000     1.0\n",
              " 9.630896     1.0\n",
              " 9.701776     1.0\n",
              " 9.997697     1.0\n",
              " 10.133700    1.0\n",
              " 10.201270    1.0\n",
              " 10.219665    1.0\n",
              " 10.324798    1.0\n",
              " 10.464422    1.0\n",
              " 10.527807    1.0\n",
              " 10.700000    1.0\n",
              " 10.787437    1.0\n",
              " 11.003754    1.0\n",
              " 11.053114    1.0\n",
              " 11.201347    1.0\n",
              " 11.262118    1.0\n",
              " 11.399403    1.0\n",
              " 11.440554    1.0\n",
              " 11.500000    1.0\n",
              " 11.783224    1.0\n",
              " 11.932079    1.0\n",
              " 12.408962    1.0\n",
              " 12.443586    1.0\n",
              " 13.562973    1.0\n",
              " 13.765233    1.0\n",
              " 14.675949    1.0\n",
              " 15.216302    1.0\n",
              " 18.902439    1.0\n",
              " 27.329193    1.0\n",
              "Length: 1085, dtype: float64"
            ]
          },
          "metadata": {
            "tags": []
          },
          "execution_count": 63
        }
      ]
    },
    {
      "metadata": {
        "id": "BT9gdS7viJZa",
        "colab_type": "text"
      },
      "cell_type": "markdown",
      "source": [
        "### Assignment questions\n",
        "\n",
        "After you've worked on some code, answer the following questions in this text block:\n",
        "\n",
        "1.  Describe in a paragraph of text what you did and why, as if you were writing an email to somebody interested but nontechnical.\n",
        "\n",
        "2.  What was the most challenging part of what you did?\n",
        "\n",
        "3.  What was the most interesting thing you learned?\n",
        "\n",
        "4.  What area would you like to explore with more time?\n",
        "\n",
        "\n"
      ]
    },
    {
      "metadata": {
        "id": "d-_wvJtRgnZ_",
        "colab_type": "code",
        "colab": {}
      },
      "cell_type": "code",
      "source": [
        "##because this paper was done in python 2 and seemed to be a bit more spread out\n",
        "##and hard to read, i tried to use operations that made the data a bit clearer to read.\n",
        "\n",
        "##definitely figuring out which columns are what.  The variable names for this are not super explanatory for many of them, and there are over 1000\n",
        "##features so that definitely takes some getting used to, but i still got some cool\n",
        "##info out of it, i suppoise with time we will find ways to dig into it mpore efficently\n",
        "\n",
        "##I learned that you can use these OLS models to visulaize the numbers and use them together\n",
        "##with charts to make the data much more readable, while still being intuitive\n",
        "\n",
        "##I would definitely like to do more to see how to read into these kind of variables to determine which ones i want to spend time on,\n",
        "##and just learn more about the language in general to understand more in depth what is going on here"
      ],
      "execution_count": 0,
      "outputs": []
    },
    {
      "metadata": {
        "id": "_XXg2crAipwP",
        "colab_type": "text"
      },
      "cell_type": "markdown",
      "source": [
        "## Stretch goals and resources\n",
        "\n",
        "Following are *optional* things for you to take a look at. Focus on the above assignment first, and make sure to commit and push your changes to GitHub (and since this is the first assignment of the sprint, open a PR as well).\n",
        "\n",
        "- [pandas documentation](https://pandas.pydata.org/pandas-docs/stable/)\n",
        "- [scikit-learn documentation](http://scikit-learn.org/stable/documentation.html)\n",
        "- [matplotlib documentation](https://matplotlib.org/contents.html)\n",
        "- [Awesome Data Science](https://github.com/bulutyazilim/awesome-datascience) - a list of many types of DS resources\n",
        "\n",
        "Stretch goals:\n",
        "\n",
        "- Find and read blogs, walkthroughs, and other examples of people working through cool things with data science - and share with your classmates!\n",
        "- Write a blog post (Medium is a popular place to publish) introducing yourself as somebody learning data science, and talking about what you've learned already and what you're excited to learn more about"
      ]
    },
    {
      "metadata": {
        "id": "Aj9LD_9M6dSR",
        "colab_type": "code",
        "colab": {}
      },
      "cell_type": "code",
      "source": [
        "https://medium.com/@dcharris776/first-day-55345e3f8249"
      ],
      "execution_count": 0,
      "outputs": []
    }
  ]
}