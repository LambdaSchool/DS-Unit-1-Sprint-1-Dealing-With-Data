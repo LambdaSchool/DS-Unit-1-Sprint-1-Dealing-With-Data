{
  "nbformat": 4,
  "nbformat_minor": 0,
  "metadata": {
    "colab": {
      "name": "LS_DS_111_A_First_Look_at_Data.ipynb",
      "version": "0.3.2",
      "provenance": [],
      "include_colab_link": true
    },
    "kernelspec": {
      "name": "python3",
      "display_name": "Python 3"
    }
  },
  "cells": [
    {
      "cell_type": "markdown",
      "metadata": {
        "id": "view-in-github",
        "colab_type": "text"
      },
      "source": [
        "<a href=\"https://colab.research.google.com/github/will-cotton4/DS-Unit-1-Sprint-1-Dealing-With-Data/blob/master/module1-afirstlookatdata/LS_DS_111_A_First_Look_at_Data.ipynb\" target=\"_parent\"><img src=\"https://colab.research.google.com/assets/colab-badge.svg\" alt=\"Open In Colab\"/></a>"
      ]
    },
    {
      "metadata": {
        "id": "Okfr_uhwhS1X",
        "colab_type": "text"
      },
      "cell_type": "markdown",
      "source": [
        "# Lambda School Data Science - A First Look at Data\n",
        "\n"
      ]
    },
    {
      "metadata": {
        "id": "9dtJETFRhnOG",
        "colab_type": "text"
      },
      "cell_type": "markdown",
      "source": [
        "## Lecture - let's explore Python DS libraries and examples!\n",
        "\n",
        "The Python Data Science ecosystem is huge. You've seen some of the big pieces - pandas, scikit-learn, matplotlib. What parts do you want to see more of?"
      ]
    },
    {
      "metadata": {
        "id": "WiBkgmPJhmhE",
        "colab_type": "code",
        "colab": {}
      },
      "cell_type": "code",
      "source": [
        "# TODO - we'll be doing this live, taking requests\n",
        "# and reproducing what it is to look up and learn things\n",
        "\n"
      ],
      "execution_count": 0,
      "outputs": []
    },
    {
      "metadata": {
        "id": "lOqaPds9huME",
        "colab_type": "text"
      },
      "cell_type": "markdown",
      "source": [
        "## Assignment - now it's your turn\n",
        "\n",
        "Pick at least one Python DS library, and using documentation/examples reproduce in this notebook something cool. It's OK if you don't fully understand it or get it 100% working, but do put in effort and look things up."
      ]
    },
    {
      "metadata": {
        "id": "TGUS79cOhPWj",
        "colab_type": "code",
        "colab": {
          "base_uri": "https://localhost:8080/",
          "height": 90
        },
        "outputId": "247dcda7-1ad3-449b-b22b-bd476def5c0a"
      },
      "cell_type": "code",
      "source": [
        "### For this assignment, I decided to work using the SymPy library, the documentation\n",
        "### of which can be found here: https://docs.sympy.org/latest/index.html\n",
        "\n",
        "from sympy import *\n",
        "import numpy as np\n",
        "\n",
        "x, y, z = symbols(\"x y z\")\n",
        "\n",
        "### The following function approximates the sum of a convergent alternating series within\n",
        "### the desired error. \n",
        "\n",
        "### We know from calculus that a convergent alternating series can be approximated\n",
        "### by taking the partial sum (the first n terms), which is within the absolute value of the\n",
        "### next term (i.e. |a_(n+1)|) of the actual sum of the entire series. That is to say, \n",
        "### the sum of the series is between the nth partial sum minus the (n+1)th term\n",
        "### and the nth partial sum plus the (n+1)th term.\n",
        "\n",
        "### Side-note: because an alternating series only converges if it's monotonically\n",
        "### decreasing, the looping logic for this problem is really easy: just check\n",
        "### successive absolute values to see when our error is small enough, adding intermediate\n",
        "### values all the while, then returning the result once we've gotten to the desired\n",
        "### range.\n",
        "\n",
        "### But, of course, this STILL requires more thought than we in our busy lives can account for,\n",
        "### and for most of us calculus was a long time ago.\n",
        "\n",
        "### So let's use Python to make our jobs that much easier. \n",
        "\n",
        "def approx_alt_series(math_series, error):\n",
        "  ### Double-check the first value of the series to see if we need to go any further\n",
        "  ### in our approximation\n",
        "  test_error = np.absolute(math_series.subs(x,1))\n",
        "  i=1\n",
        "  ### Initialize a variable to store our running approximation.\n",
        "  approx_sum = math_series.subs(x,i)\n",
        "  \n",
        "  ### As noted above, run this loop as long as we need to to get our error within\n",
        "  ### the appropriate bounds.\n",
        "  \n",
        "  while(np.absolute(math_series.subs(x,i)) > error):\n",
        "    \n",
        "    i+=1\n",
        "    approx_sum += math_series.subs(x,i)\n",
        "    test_error = np.absolute(math_series.subs(x,i))\n",
        "    \n",
        "  return approx_sum\n",
        "\n",
        "test_series = ((-1)**x)*x**-2\n",
        "\n",
        "print(\"The sum is approximately: {0}\".format(float(approx_alt_series(test_series, .01))))\n",
        "\n",
        "print(\"The sum is approximately: {0}\".format(float(approx_alt_series(test_series, .001))))  \n",
        "  \n",
        "print(\"The sum is approximately: {0}\".format(float(approx_alt_series(test_series, .00001))))\n"
      ],
      "execution_count": 26,
      "outputs": [
        {
          "output_type": "stream",
          "text": [
            "The sum is approximately: -0.8179621756109852\n",
            "The sum is approximately: -0.8219939961054308\n",
            "The sum is approximately: -0.8224719933971315\n",
            "The true sum, we all of course remember, is 1.6449340668482264\n"
          ],
          "name": "stdout"
        }
      ]
    },
    {
      "metadata": {
        "id": "BT9gdS7viJZa",
        "colab_type": "text"
      },
      "cell_type": "markdown",
      "source": [
        "### Assignment questions\n",
        "\n",
        "After you've worked on some code, answer the following questions in this text block:\n",
        "\n",
        "1.  Describe in a paragraph of text what you did and why, as if you were writing an email to somebody interested but nontechnical.\n",
        "\n",
        "2.  What was the most challenging part of what you did?\n",
        "\n",
        "3.  What was the most interesting thing you learned?\n",
        "\n",
        "4.  What area would you like to explore with more time?\n",
        "\n",
        "\n"
      ]
    },
    {
      "metadata": {
        "id": "_XXg2crAipwP",
        "colab_type": "text"
      },
      "cell_type": "markdown",
      "source": [
        "## Stretch goals and resources\n",
        "\n",
        "Following are *optional* things for you to take a look at. Focus on the above assignment first, and make sure to commit and push your changes to GitHub (and since this is the first assignment of the sprint, open a PR as well).\n",
        "\n",
        "- [pandas documentation](https://pandas.pydata.org/pandas-docs/stable/)\n",
        "- [scikit-learn documentation](http://scikit-learn.org/stable/documentation.html)\n",
        "- [matplotlib documentation](https://matplotlib.org/contents.html)\n",
        "- [Awesome Data Science](https://github.com/bulutyazilim/awesome-datascience) - a list of many types of DS resources\n",
        "\n",
        "Stretch goals:\n",
        "\n",
        "- Find and read blogs, walkthroughs, and other examples of people working through cool things with data science - and share with your classmates!\n",
        "- Write a blog post (Medium is a popular place to publish) introducing yourself as somebody learning data science, and talking about what you've learned already and what you're excited to learn more about."
      ]
    }
  ]
}