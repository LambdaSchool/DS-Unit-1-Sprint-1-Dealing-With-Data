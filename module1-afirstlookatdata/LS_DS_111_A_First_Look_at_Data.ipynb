{
  "nbformat": 4,
  "nbformat_minor": 0,
  "metadata": {
    "colab": {
      "name": "LS_DS_111_A_First_Look_at_Data.ipynb",
      "version": "0.3.2",
      "provenance": [],
      "include_colab_link": true
    },
    "kernelspec": {
      "name": "python3",
      "display_name": "Python 3"
    }
  },
  "cells": [
    {
      "cell_type": "markdown",
      "metadata": {
        "id": "view-in-github",
        "colab_type": "text"
      },
      "source": [
        "<a href=\"https://colab.research.google.com/github/AbstractMonkey/DS-Unit-1-Sprint-1-Dealing-With-Data/blob/master/module1-afirstlookatdata/LS_DS_111_A_First_Look_at_Data.ipynb\" target=\"_parent\"><img src=\"https://colab.research.google.com/assets/colab-badge.svg\" alt=\"Open In Colab\"/></a>"
      ]
    },
    {
      "cell_type": "markdown",
      "metadata": {
        "colab_type": "text",
        "id": "Dv8etWQHd9IB"
      },
      "source": [
        "# Lambda School Data Science - A First Look at Data\n",
        "\n"
      ]
    },
    {
      "cell_type": "markdown",
      "metadata": {
        "colab_type": "text",
        "id": "o3pGE3ued9IK"
      },
      "source": [
        "## Lecture - let's explore Python DS libraries and examples!\n",
        "\n",
        "The Python Data Science ecosystem is huge. You've seen some of the big pieces - pandas, scikit-learn, matplotlib. What parts do you want to see more of?"
      ]
    },
    {
      "cell_type": "code",
      "metadata": {
        "colab_type": "code",
        "id": "_ItVg76Kd9IL",
        "colab": {}
      },
      "source": [
        "# TODO - we'll be doing this live, taking requests\n",
        "# and reproducing what it is to look up and learn thing"
      ],
      "execution_count": 0,
      "outputs": []
    },
    {
      "cell_type": "markdown",
      "metadata": {
        "colab_type": "text",
        "id": "4jUd2z17d9KE"
      },
      "source": [
        "## Assignment - now it's your turn\n",
        "\n",
        "Pick at least one Python DS library, and using documentation/examples reproduce in this notebook something cool. It's OK if you don't fully understand it or get it 100% working, but do put in effort and look things up."
      ]
    },
    {
      "cell_type": "code",
      "metadata": {
        "colab_type": "code",
        "id": "pvepPlN5d9KF",
        "colab": {}
      },
      "source": [
        "import numpy as np\n",
        "import pandas as pd\n",
        "import seaborn as sns\n",
        "import matplotlib.pyplot as plt\n",
        "%matplotlib inline"
      ],
      "execution_count": 0,
      "outputs": []
    },
    {
      "cell_type": "code",
      "metadata": {
        "colab_type": "code",
        "id": "tYOCbs8ld9KI",
        "colab": {}
      },
      "source": [
        "!apt-get -qq install libgeos-dev\n",
        "!pip install -qq https://github.com/matplotlib/basemap/archive/master.zip\n",
        "from mpl_toolkits.basemap import Basemap, cm"
      ],
      "execution_count": 0,
      "outputs": []
    },
    {
      "cell_type": "code",
      "metadata": {
        "id": "nCUti3gj8tZR",
        "colab_type": "code",
        "colab": {}
      },
      "source": [
        "from google.colab import files\n",
        "\n",
        "files.upload()"
      ],
      "execution_count": 0,
      "outputs": []
    },
    {
      "cell_type": "code",
      "metadata": {
        "colab_type": "code",
        "id": "DTzbTaV9d9KT",
        "colab": {}
      },
      "source": [
        "!ls"
      ],
      "execution_count": 0,
      "outputs": []
    },
    {
      "cell_type": "code",
      "metadata": {
        "colab_type": "code",
        "id": "bkPAaBpFd9KX",
        "colab": {}
      },
      "source": [
        "df = pd.read_csv('environmental-remediation-sites.csv')\n",
        "df.head()"
      ],
      "execution_count": 0,
      "outputs": []
    },
    {
      "cell_type": "code",
      "metadata": {
        "colab_type": "code",
        "id": "J_JTFWl7d9Kc",
        "colab": {}
      },
      "source": [
        "from matplotlib.colors import LinearSegmentedColormap\n",
        "\n",
        "m = Basemap(projection='ortho',lon_0=-76.25,lat_0=42.5,resolution='h',\\\n",
        "             llcrnrx=-550*550,llcrnry=-550*550,\n",
        "             urcrnrx=+625*625,urcrnry=+625*625)\n",
        "\n",
        "m.drawcoastlines()\n",
        "m.drawcountries()\n",
        "m.drawstates()\n",
        "\n",
        "lats = df['Latitude'].tolist()\n",
        "lons = df['Longitude'].tolist()\n",
        "\n",
        "# ######################################################################\n",
        "# Using the heatmap code from http://bagrow.com/dsv/heatmap_basemap.html\n",
        "# on this dataset. Credit to James Bagrow, james.bagrow@uvm.edu\n",
        "#\n",
        "# ######################################################################\n",
        "# bin the epicenters (adapted from \n",
        "# http://stackoverflow.com/questions/11507575/basemap-and-density-plots)\n",
        "#\n",
        "# compute appropriate bins to chop up the data:\n",
        "db = 1 # bin padding\n",
        "lon_bins = np.linspace(min(lons)-db, max(lons)+db, 20+1) # 20 bins\n",
        "lat_bins = np.linspace(min(lats)-db, max(lats)+db, 20+1) # 20 bins\n",
        "    \n",
        "density, _, _ = np.histogram2d(lats, lons, [lat_bins, lon_bins])\n",
        "\n",
        "# ######################################################################\n",
        "# Turn the lon/lat of the bins into 2 dimensional arrays ready\n",
        "# for conversion into projected coordinates\n",
        "lon_bins_2d, lat_bins_2d = np.meshgrid(lon_bins, lat_bins)\n",
        "\n",
        "# convert the bin mesh to map coordinates:\n",
        "xs, ys = m(lon_bins_2d, lat_bins_2d) # will be plotted using pcolormesh\n",
        "# #####################################################################\n",
        "\n",
        "# define custom colormap, white -> nicered, #E6072A = RGB(0.9,0.03,0.16)\n",
        "cdict = {'red':  ( (0.0,  1.0,  1.0),\n",
        "                   (1.0,  0.9,  1.0) ),\n",
        "         'green':( (0.0,  1.0,  1.0),\n",
        "                   (1.0,  0.03, 0.0) ),\n",
        "         'blue': ( (0.0,  1.0,  1.0),\n",
        "                   (1.0,  0.16, 0.0) ) }\n",
        "custom_map = LinearSegmentedColormap('custom_map', cdict)\n",
        "plt.register_cmap(cmap=custom_map)\n",
        "\n",
        "# add histogram squares and a corresponding colorbar to the map:\n",
        "plt.pcolormesh(xs, ys, density, cmap=\"custom_map\")\n",
        "\n",
        "cbar = plt.colorbar(orientation='horizontal', shrink=0.625, aspect=20, fraction=0.2,pad=0.02)\n",
        "cbar.set_label('Number of brownfield sites',size=18)\n",
        "#plt.clim([0,100])\n",
        "\n",
        "# translucent blue scatter plot of epicenters above histogram:    \n",
        "x,y = m(lons, lats)\n",
        "m.plot(x, y, 'o', markersize=5,zorder=6, markerfacecolor='#424FA4',markeredgecolor=\"none\", alpha=0.33)\n",
        "\n",
        "\n",
        "plt.gcf().set_size_inches(20,20)\n",
        "\n",
        "\n",
        "plt.show()"
      ],
      "execution_count": 0,
      "outputs": []
    },
    {
      "cell_type": "code",
      "metadata": {
        "colab_type": "code",
        "id": "uEwmSf6hd9Kg",
        "colab": {}
      },
      "source": [
        "# What are the most common contaminants?\n",
        "\n",
        "df.Contaminants.value_counts().head(25)"
      ],
      "execution_count": 0,
      "outputs": []
    },
    {
      "cell_type": "code",
      "metadata": {
        "id": "FVNJtHEUD7yj",
        "colab_type": "code",
        "colab": {}
      },
      "source": [
        "# What counties have the most brownfield sites?\n",
        "\n",
        "df.Counties.value_counts().head(10)"
      ],
      "execution_count": 0,
      "outputs": []
    },
    {
      "cell_type": "code",
      "metadata": {
        "id": "HcCWJrGIIKg6",
        "colab_type": "code",
        "colab": {}
      },
      "source": [
        "# Number of unique counties in this dataset. This seems to suggest that each county has at least one brownfield site, because there are 62 counties in NY (not sure where the 63rd came from)\n",
        "\n",
        "len(df['Counties'].unique())"
      ],
      "execution_count": 0,
      "outputs": []
    },
    {
      "cell_type": "markdown",
      "metadata": {
        "colab_type": "text",
        "id": "zJQAndOZd9Kq"
      },
      "source": [
        "### Assignment questions\n",
        "\n",
        "After you've worked on some code, answer the following questions in this text block:\n",
        "\n",
        "1.  Describe in a paragraph of text what you did and why, as if you were writing an email to somebody interested but nontechnical.\n",
        "\n",
        "I mapped out all 70,254 brownfield sites in New York state using the Python library basemap. This is useful because it visually shows places where there is a higher concentration of brownfield sites. You can use this map to spot trends and idiosyncracies in the data, e.g. how there is a line of brownfield sites on this map that follows the Erie canal, suggesting that there have been polluting businesses alongside it. Check it out as a kernel on Kaggle: https://www.kaggle.com/pkscary/brownfield-sites-mapped-over-new-york-state .\n",
        "\n",
        "2.  What was the most challenging part of what you did?\n",
        "\n",
        "Learning how to process my data so that it is compatible with libraries like seaborn and basemap.\n",
        "\n",
        "3.  What was the most interesting thing you learned?\n",
        "\n",
        "I learned how important it is to make sure that you are using the correct function for the data type you are working with! I was surprised to see that as I processed the data, it might be interpreted as a string,, int, float, object, etc. etc. depending on what I was doing.\n",
        "\n",
        "4.  What area would you like to explore with more time?\n",
        "\n",
        "I would love to map more datasets! Using mapping as a form of data visualization is fun.\n",
        "\n",
        "\n"
      ]
    },
    {
      "cell_type": "markdown",
      "metadata": {
        "colab_type": "text",
        "id": "uQjWc1k4d9Kr"
      },
      "source": [
        "## Stretch goals and resources\n",
        "\n",
        "Following are *optional* things for you to take a look at. Focus on the above assignment first, and make sure to commit and push your changes to GitHub (and since this is the first assignment of the sprint, open a PR as well).\n",
        "\n",
        "- [pandas documentation](https://pandas.pydata.org/pandas-docs/stable/)\n",
        "- [scikit-learn documentation](http://scikit-learn.org/stable/documentation.html)\n",
        "- [matplotlib documentation](https://matplotlib.org/contents.html)\n",
        "- [Awesome Data Science](https://github.com/bulutyazilim/awesome-datascience) - a list of many types of DS resources\n",
        "\n",
        "Stretch goals:\n",
        "\n",
        "- Find and read blogs, walkthroughs, and other examples of people working through cool things with data science - and share with your classmates!\n",
        "- Write a blog post (Medium is a popular place to publish) introducing yourself as somebody learning data science, and talking about what you've learned already and what you're excited to learn more about."
      ]
    }
  ]
}
