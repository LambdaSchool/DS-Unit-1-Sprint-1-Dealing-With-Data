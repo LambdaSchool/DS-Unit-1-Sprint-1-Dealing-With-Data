{
  "nbformat": 4,
  "nbformat_minor": 0,
  "metadata": {
    "colab": {
      "name": "LS_DS_111_A_First_Look_at_Data.ipynb",
      "version": "0.3.2",
      "provenance": []
    },
    "kernelspec": {
      "name": "python3",
      "display_name": "Python 3"
    }
  },
  "cells": [
    {
      "metadata": {
        "id": "Okfr_uhwhS1X",
        "colab_type": "text"
      },
      "cell_type": "markdown",
      "source": [
        "# Lambda School Data Science - A First Look at Data\n",
        "\n"
      ]
    },
    {
      "metadata": {
        "id": "9dtJETFRhnOG",
        "colab_type": "text"
      },
      "cell_type": "markdown",
      "source": [
        "## Lecture - let's explore Python DS libraries and examples!\n",
        "\n",
        "The Python Data Science ecosystem is huge. You've seen some of the big pieces - pandas, scikit-learn, matplotlib. What parts do you want to see more of?"
      ]
    },
    {
      "metadata": {
        "id": "WiBkgmPJhmhE",
        "colab_type": "code",
        "colab": {
          "base_uri": "https://localhost:8080/",
          "height": 34
        },
        "outputId": "2fd1e2d3-f36f-4605-dcee-f3290bd8d5dd"
      },
      "cell_type": "code",
      "source": [
        "# TODO - we'll be doing this live, taking requests\n",
        "# and reproducing what it is to look up and learn things\n",
        "1+1\n",
        "print('This is a change.')"
      ],
      "execution_count": 1,
      "outputs": [
        {
          "output_type": "stream",
          "text": [
            "This is a change.\n"
          ],
          "name": "stdout"
        }
      ]
    },
    {
      "metadata": {
        "id": "lOqaPds9huME",
        "colab_type": "text"
      },
      "cell_type": "markdown",
      "source": [
        "## Assignment - now it's your turn\n",
        "\n",
        "Pick at least one Python DS library, and using documentation/examples reproduce in this notebook something cool. It's OK if you don't fully understand it or get it 100% working, but do put in effort and look things up."
      ]
    },
    {
      "metadata": {
        "id": "TGUS79cOhPWj",
        "colab_type": "code",
        "colab": {
          "base_uri": "https://localhost:8080/",
          "height": 238
        },
        "outputId": "d821beaf-1631-461e-891d-7b2f0bf062a5"
      },
      "cell_type": "code",
      "source": [
        "# TODO - your code here\n",
        "# Use what we did live in lecture as an example\n",
        "# pandas\n",
        "# matplotlib\n",
        "# numpy\n",
        "# seaborn\n",
        "# scikit-learn\n",
        "\n",
        "\n",
        "# So I'm going to read some data from UCI's machine learning repository,\n",
        "# specifically, I'm going to take their AutoMPG Data Set and represt it using the seaborn visualizaiton library\n",
        "\n",
        "\n",
        "import pandas as pd\n",
        "import numpy as np\n",
        "\n",
        "auto_mpg_headers = [\n",
        "    \"mpg\",\n",
        "    \"cylinders\", \n",
        "    \"displacement\",\n",
        "    'horsepower',\n",
        "    'weight',\n",
        "    'acceleration',\n",
        "    'model year',\n",
        "    'origin',\n",
        "    'car names'\n",
        "]\n",
        "\n",
        "# This actually took quite a while to figure out how to parse the data into this table\n",
        "auto_mpg_df = pd.read_csv('https://archive.ics.uci.edu/ml/machine-learning-databases/auto-mpg/auto-mpg.data', sep = '\\s+', header=None, names = auto_mpg_headers)\n",
        "auto_mpg_df.head()\n",
        "\n",
        "# auto_mpg_df.dtypes\n"
      ],
      "execution_count": 2,
      "outputs": [
        {
          "output_type": "execute_result",
          "data": {
            "text/html": [
              "<div>\n",
              "<style scoped>\n",
              "    .dataframe tbody tr th:only-of-type {\n",
              "        vertical-align: middle;\n",
              "    }\n",
              "\n",
              "    .dataframe tbody tr th {\n",
              "        vertical-align: top;\n",
              "    }\n",
              "\n",
              "    .dataframe thead th {\n",
              "        text-align: right;\n",
              "    }\n",
              "</style>\n",
              "<table border=\"1\" class=\"dataframe\">\n",
              "  <thead>\n",
              "    <tr style=\"text-align: right;\">\n",
              "      <th></th>\n",
              "      <th>mpg</th>\n",
              "      <th>cylinders</th>\n",
              "      <th>displacement</th>\n",
              "      <th>horsepower</th>\n",
              "      <th>weight</th>\n",
              "      <th>acceleration</th>\n",
              "      <th>model year</th>\n",
              "      <th>origin</th>\n",
              "      <th>car names</th>\n",
              "    </tr>\n",
              "  </thead>\n",
              "  <tbody>\n",
              "    <tr>\n",
              "      <th>0</th>\n",
              "      <td>18.0</td>\n",
              "      <td>8</td>\n",
              "      <td>307.0</td>\n",
              "      <td>130.0</td>\n",
              "      <td>3504.0</td>\n",
              "      <td>12.0</td>\n",
              "      <td>70</td>\n",
              "      <td>1</td>\n",
              "      <td>chevrolet chevelle malibu</td>\n",
              "    </tr>\n",
              "    <tr>\n",
              "      <th>1</th>\n",
              "      <td>15.0</td>\n",
              "      <td>8</td>\n",
              "      <td>350.0</td>\n",
              "      <td>165.0</td>\n",
              "      <td>3693.0</td>\n",
              "      <td>11.5</td>\n",
              "      <td>70</td>\n",
              "      <td>1</td>\n",
              "      <td>buick skylark 320</td>\n",
              "    </tr>\n",
              "    <tr>\n",
              "      <th>2</th>\n",
              "      <td>18.0</td>\n",
              "      <td>8</td>\n",
              "      <td>318.0</td>\n",
              "      <td>150.0</td>\n",
              "      <td>3436.0</td>\n",
              "      <td>11.0</td>\n",
              "      <td>70</td>\n",
              "      <td>1</td>\n",
              "      <td>plymouth satellite</td>\n",
              "    </tr>\n",
              "    <tr>\n",
              "      <th>3</th>\n",
              "      <td>16.0</td>\n",
              "      <td>8</td>\n",
              "      <td>304.0</td>\n",
              "      <td>150.0</td>\n",
              "      <td>3433.0</td>\n",
              "      <td>12.0</td>\n",
              "      <td>70</td>\n",
              "      <td>1</td>\n",
              "      <td>amc rebel sst</td>\n",
              "    </tr>\n",
              "    <tr>\n",
              "      <th>4</th>\n",
              "      <td>17.0</td>\n",
              "      <td>8</td>\n",
              "      <td>302.0</td>\n",
              "      <td>140.0</td>\n",
              "      <td>3449.0</td>\n",
              "      <td>10.5</td>\n",
              "      <td>70</td>\n",
              "      <td>1</td>\n",
              "      <td>ford torino</td>\n",
              "    </tr>\n",
              "  </tbody>\n",
              "</table>\n",
              "</div>"
            ],
            "text/plain": [
              "    mpg  cylinders  displacement horsepower  weight  acceleration  model year  \\\n",
              "0  18.0          8         307.0      130.0  3504.0          12.0          70   \n",
              "1  15.0          8         350.0      165.0  3693.0          11.5          70   \n",
              "2  18.0          8         318.0      150.0  3436.0          11.0          70   \n",
              "3  16.0          8         304.0      150.0  3433.0          12.0          70   \n",
              "4  17.0          8         302.0      140.0  3449.0          10.5          70   \n",
              "\n",
              "   origin                  car names  \n",
              "0       1  chevrolet chevelle malibu  \n",
              "1       1          buick skylark 320  \n",
              "2       1         plymouth satellite  \n",
              "3       1              amc rebel sst  \n",
              "4       1                ford torino  "
            ]
          },
          "metadata": {
            "tags": []
          },
          "execution_count": 2
        }
      ]
    },
    {
      "metadata": {
        "id": "hcfaaF73ik6r",
        "colab_type": "code",
        "colab": {
          "base_uri": "https://localhost:8080/",
          "height": 187
        },
        "outputId": "caf47c1c-1d6b-45f7-cb10-654f4717e208"
      },
      "cell_type": "code",
      "source": [
        "# check for Nans \n",
        "auto_mpg_df.replace('?', np.nan, inplace = True)\n",
        "auto_mpg_df.isna().values.any()\n",
        "auto_mpg_df.isna().sum()"
      ],
      "execution_count": 3,
      "outputs": [
        {
          "output_type": "execute_result",
          "data": {
            "text/plain": [
              "mpg             0\n",
              "cylinders       0\n",
              "displacement    0\n",
              "horsepower      6\n",
              "weight          0\n",
              "acceleration    0\n",
              "model year      0\n",
              "origin          0\n",
              "car names       0\n",
              "dtype: int64"
            ]
          },
          "metadata": {
            "tags": []
          },
          "execution_count": 3
        }
      ]
    },
    {
      "metadata": {
        "id": "L3aeXe_q0-Bi",
        "colab_type": "code",
        "colab": {
          "base_uri": "https://localhost:8080/",
          "height": 221
        },
        "outputId": "5ab19139-1c67-4225-e8f5-1bb2f77925bb"
      },
      "cell_type": "code",
      "source": [
        "# also I'm going to change the horsepower datatype to a int\n",
        "print(auto_mpg_df.shape)\n",
        "auto_mpg_df.dropna(inplace = True)\n",
        "print(auto_mpg_df.isna().sum())\n",
        "print(auto_mpg_df.shape)"
      ],
      "execution_count": 4,
      "outputs": [
        {
          "output_type": "stream",
          "text": [
            "(398, 9)\n",
            "mpg             0\n",
            "cylinders       0\n",
            "displacement    0\n",
            "horsepower      0\n",
            "weight          0\n",
            "acceleration    0\n",
            "model year      0\n",
            "origin          0\n",
            "car names       0\n",
            "dtype: int64\n",
            "(392, 9)\n"
          ],
          "name": "stdout"
        }
      ]
    },
    {
      "metadata": {
        "id": "2CoUtVmK4QAf",
        "colab_type": "code",
        "colab": {}
      },
      "cell_type": "code",
      "source": [
        "auto_mpg_df[\"horsepower\"] = auto_mpg_df.horsepower.astype(float)"
      ],
      "execution_count": 0,
      "outputs": []
    },
    {
      "metadata": {
        "id": "1vRM_FeLitc9",
        "colab_type": "code",
        "colab": {
          "base_uri": "https://localhost:8080/",
          "height": 382
        },
        "outputId": "7f9599f0-6e97-4fa5-ad65-9f4819ed0a1e"
      },
      "cell_type": "code",
      "source": [
        "# Since we don't have nans, I'm going to plot MPG vs acceleration\n",
        "\n",
        "from matplotlib import pyplot as plt\n",
        "import seaborn as sns\n",
        "\n",
        "sns.lmplot(x='mpg', y='acceleration', data=auto_mpg_df)"
      ],
      "execution_count": 6,
      "outputs": [
        {
          "output_type": "execute_result",
          "data": {
            "text/plain": [
              "<seaborn.axisgrid.FacetGrid at 0x7f3dad8ca3c8>"
            ]
          },
          "metadata": {
            "tags": []
          },
          "execution_count": 6
        },
        {
          "output_type": "display_data",
          "data": {
            "image/png": "[encoded data removed]",
            "text/plain": [
              "<Figure size 360x360 with 1 Axes>"
            ]
          },
          "metadata": {
            "tags": []
          }
        }
      ]
    },
    {
      "metadata": {
        "id": "o6RsBhmZkBIO",
        "colab_type": "code",
        "colab": {
          "base_uri": "https://localhost:8080/",
          "height": 418
        },
        "outputId": "72c86ef2-8ece-4c60-9d80-52c5bebbab8a"
      },
      "cell_type": "code",
      "source": [
        "# So that's a big cloud of data, not clear what the important so I'll try making a \n",
        "# boxplot to get more information about the columns I've got\n",
        "\n",
        "sns.boxplot(data=auto_mpg_df)"
      ],
      "execution_count": 7,
      "outputs": [
        {
          "output_type": "stream",
          "text": [
            "/usr/local/lib/python3.6/dist-packages/seaborn/categorical.py:454: FutureWarning: remove_na is deprecated and is a private function. Do not use.\n",
            "  box_data = remove_na(group_data)\n"
          ],
          "name": "stderr"
        },
        {
          "output_type": "execute_result",
          "data": {
            "text/plain": [
              "<matplotlib.axes._subplots.AxesSubplot at 0x7f3dab2f63c8>"
            ]
          },
          "metadata": {
            "tags": []
          },
          "execution_count": 7
        },
        {
          "output_type": "display_data",
          "data": {
            "image/png": "[encoded data removed]",
            "text/plain": [
              "<Figure size 576x396 with 1 Axes>"
            ]
          },
          "metadata": {
            "tags": []
          }
        }
      ]
    },
    {
      "metadata": {
        "id": "Wssct6PBkXv-",
        "colab_type": "text"
      },
      "cell_type": "markdown",
      "source": [
        "Since origin, model year and cylinders seem quite flat, I'll drop them and try again"
      ]
    },
    {
      "metadata": {
        "id": "wiSRfLaAkW6o",
        "colab_type": "code",
        "colab": {
          "base_uri": "https://localhost:8080/",
          "height": 418
        },
        "outputId": "9831d99f-efae-4b3f-f082-ed1c8a5a6c63"
      },
      "cell_type": "code",
      "source": [
        "# pre-format DF\n",
        "box_plt_df=auto_mpg_df.drop(['cylinders','model year','origin'], axis=1)\n",
        "\n",
        "# New boxplot using the trimmed dataframe\n",
        "sns.boxplot(data=box_plt_df)\n"
      ],
      "execution_count": 8,
      "outputs": [
        {
          "output_type": "stream",
          "text": [
            "/usr/local/lib/python3.6/dist-packages/seaborn/categorical.py:454: FutureWarning: remove_na is deprecated and is a private function. Do not use.\n",
            "  box_data = remove_na(group_data)\n"
          ],
          "name": "stderr"
        },
        {
          "output_type": "execute_result",
          "data": {
            "text/plain": [
              "<matplotlib.axes._subplots.AxesSubplot at 0x7f3dab1b2f60>"
            ]
          },
          "metadata": {
            "tags": []
          },
          "execution_count": 8
        },
        {
          "output_type": "display_data",
          "data": {
            "image/png": "[encoded data removed]",
            "text/plain": [
              "<Figure size 576x396 with 1 Axes>"
            ]
          },
          "metadata": {
            "tags": []
          }
        }
      ]
    },
    {
      "metadata": {
        "id": "YX6nBPPXmrPI",
        "colab_type": "text"
      },
      "cell_type": "markdown",
      "source": [
        "Displacement and weight seem to have the most variation so I think these variables could be important feature variables if I want to predict MPG based on the cars specifications.\n",
        "\n",
        "I'm going to try to create a predictive model and I'll be sure to include those variables."
      ]
    },
    {
      "metadata": {
        "id": "Zb8gcVsCmeWX",
        "colab_type": "code",
        "colab": {
          "base_uri": "https://localhost:8080/",
          "height": 34
        },
        "outputId": "5f29b48c-9af3-447f-e120-e32e905f4a57"
      },
      "cell_type": "code",
      "source": [
        "from sklearn.linear_model import LinearRegression\n",
        "from sklearn.model_selection import train_test_split\n",
        "from sklearn.metrics import mean_squared_error as mse\n",
        "\n",
        "# set features features and target\n",
        "\n",
        "features = ['displacement', 'weight', 'acceleration']\n",
        "target = 'mpg'\n",
        "\n",
        "\n",
        "train, test = train_test_split(auto_mpg_df.copy(), random_state=0)\n",
        "train.shape, test.shape\n",
        "\n",
        "# train model\n",
        "model = LinearRegression()\n",
        "model.fit(train[features], train[target])\n",
        "\n",
        "# train.shape, test.shape\n",
        "\n",
        "model.score(train[features], train[target])"
      ],
      "execution_count": 9,
      "outputs": [
        {
          "output_type": "execute_result",
          "data": {
            "text/plain": [
              "0.7148380175932532"
            ]
          },
          "metadata": {
            "tags": []
          },
          "execution_count": 9
        }
      ]
    },
    {
      "metadata": {
        "id": "Vv7l3Irhpfkr",
        "colab_type": "text"
      },
      "cell_type": "markdown",
      "source": [
        "So the model predicts 70% of the variability of the MPG function. But using MSE I can check the test data against the training data."
      ]
    },
    {
      "metadata": {
        "id": "s-mM3Xicpwbk",
        "colab_type": "code",
        "colab": {
          "base_uri": "https://localhost:8080/",
          "height": 34
        },
        "outputId": "de328ba8-6f02-4e17-b68f-142849de5eaf"
      },
      "cell_type": "code",
      "source": [
        "y_predict = model.predict(test[features])\n",
        "\n",
        "regression_model_mse = mse(y_predict, test[target])\n",
        "\n",
        "regression_model_mse"
      ],
      "execution_count": 10,
      "outputs": [
        {
          "output_type": "execute_result",
          "data": {
            "text/plain": [
              "20.268204847742435"
            ]
          },
          "metadata": {
            "tags": []
          },
          "execution_count": 10
        }
      ]
    },
    {
      "metadata": {
        "id": "WNTJzzBrqRKZ",
        "colab_type": "code",
        "colab": {
          "base_uri": "https://localhost:8080/",
          "height": 34
        },
        "outputId": "c764cce8-ce2f-4678-8ab6-e0001141356b"
      },
      "cell_type": "code",
      "source": [
        "import math\n",
        "\n",
        "math.sqrt(regression_model_mse)"
      ],
      "execution_count": 11,
      "outputs": [
        {
          "output_type": "execute_result",
          "data": {
            "text/plain": [
              "4.502022306446563"
            ]
          },
          "metadata": {
            "tags": []
          },
          "execution_count": 11
        }
      ]
    },
    {
      "metadata": {
        "id": "JbvHOFLjqU6f",
        "colab_type": "text"
      },
      "cell_type": "markdown",
      "source": [
        "So this model is 4.4 MPG on average away from the target variable."
      ]
    },
    {
      "metadata": {
        "id": "wRUDUmVOx96q",
        "colab_type": "code",
        "colab": {}
      },
      "cell_type": "code",
      "source": [
        "\n",
        "\n",
        "# So I did a bunch of visualization to try to identify important variables. Now I'm going to check to see if \n",
        "# I would have been better off to just regress on everything.\n",
        "\n",
        "all_features = auto_mpg_headers.copy()\n",
        "all_features.remove('car names')\n",
        "all_features.remove('mpg')\n"
      ],
      "execution_count": 0,
      "outputs": []
    },
    {
      "metadata": {
        "id": "FrQ6eIejyNaw",
        "colab_type": "code",
        "colab": {
          "base_uri": "https://localhost:8080/",
          "height": 136
        },
        "outputId": "dcb86955-9694-4493-9897-e3533606a496"
      },
      "cell_type": "code",
      "source": [
        "for x in all_features:\n",
        "  print(x)"
      ],
      "execution_count": 13,
      "outputs": [
        {
          "output_type": "stream",
          "text": [
            "cylinders\n",
            "displacement\n",
            "horsepower\n",
            "weight\n",
            "acceleration\n",
            "model year\n",
            "origin\n"
          ],
          "name": "stdout"
        }
      ]
    },
    {
      "metadata": {
        "id": "VQMbWU3iqrB2",
        "colab_type": "code",
        "colab": {
          "base_uri": "https://localhost:8080/",
          "height": 34
        },
        "outputId": "0cfa5dbd-8638-43bc-b571-e4d586054194"
      },
      "cell_type": "code",
      "source": [
        "train, test = train_test_split(auto_mpg_df.copy(), random_state=0)\n",
        "train.shape, test.shape\n",
        "\n",
        "# train model\n",
        "model = LinearRegression()\n",
        "model.fit(train[all_features], train[target])\n",
        "\n",
        "# train.shape, test.shape\n",
        "\n",
        "model.score(train[all_features], train[target])"
      ],
      "execution_count": 14,
      "outputs": [
        {
          "output_type": "execute_result",
          "data": {
            "text/plain": [
              "0.8196642851281575"
            ]
          },
          "metadata": {
            "tags": []
          },
          "execution_count": 14
        }
      ]
    },
    {
      "metadata": {
        "id": "HHlsPefv52-7",
        "colab_type": "text"
      },
      "cell_type": "markdown",
      "source": [
        "Oh no! It turns out regressing with everything resulted in a much more predivtive model!"
      ]
    },
    {
      "metadata": {
        "id": "BT9gdS7viJZa",
        "colab_type": "text"
      },
      "cell_type": "markdown",
      "source": [
        "### Assignment questions\n",
        "\n",
        "After you've worked on some code, answer the following questions in this text block:\n",
        "\n",
        "1.  Describe in a paragraph of text what you did and why, as if you were writing an email to somebody interested but nontechnical.\n",
        "\n",
        "So I started out using a dataset from UCI to show different seaborn graphing functions. This dataset had vehicle MPG along with several other categories like vehicle weight, engine displacement, acceleration, and model year.\n",
        "\n",
        "After making a few graphs, I found quite quickly that I wanted to see if I could create a predictive model for MPG using a simple linear regression. \n",
        "\n",
        "I used the graphs I'd made to pick what I thought were the most important variables, and achieved a model score of 70%. \n",
        "\n",
        "I then used ALL the variables and acheived a model score of 82%. \n",
        "\n",
        "So I guess you could say that visualizing the data before I did any analysis was helpful to determining what would be the important variables for my model.\n",
        "\n",
        "\n",
        "2.  What was the most challenging part of what you did?\n",
        "\n",
        "I made a model using all categories as features, however, UCI often replaces NaNs with '?', I did not know this because I did a simple NaN check. It took some time to figure out that I needed to convert the ?s into NaNs then drop them. \n",
        "\n",
        "3.  What was the most interesting thing you learned?\n",
        "\n",
        "Some technqiues to import data into a dataframe when it's not comma seperated, like the `sep=/'s+'` argument in the read_csv function.\n",
        "\n",
        "4.  What area would you like to explore with more time?\n",
        "\n",
        "I think a better statistical background would help me recognize visualized data patterns faster.\n"
      ]
    },
    {
      "metadata": {
        "id": "_XXg2crAipwP",
        "colab_type": "text"
      },
      "cell_type": "markdown",
      "source": [
        "## Stretch goals and resources\n",
        "\n",
        "Following are *optional* things for you to take a look at. Focus on the above assignment first, and make sure to commit and push your changes to GitHub (and since this is the first assignment of the sprint, open a PR as well).\n",
        "\n",
        "- [pandas documentation](https://pandas.pydata.org/pandas-docs/stable/)\n",
        "- [scikit-learn documentation](http://scikit-learn.org/stable/documentation.html)\n",
        "- [matplotlib documentation](https://matplotlib.org/contents.html)\n",
        "- [Awesome Data Science](https://github.com/bulutyazilim/awesome-datascience) - a list of many types of DS resources\n",
        "\n",
        "Stretch goals:\n",
        "\n",
        "- Find and read blogs, walkthroughs, and other examples of people working through cool things with data science - and share with your classmates!\n",
        "- Write a blog post (Medium is a popular place to publish) introducing yourself as somebody learning data science, and talking about what you've learned already and what you're excited to learn more about."
      ]
    }
  ]
}