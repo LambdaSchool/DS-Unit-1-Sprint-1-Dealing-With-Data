{
  "nbformat": 4,
  "nbformat_minor": 0,
  "metadata": {
    "colab": {
      "name": "LS_DS_111_A_First_Look_at_Data.ipynb",
      "version": "0.3.2",
      "provenance": [],
      "include_colab_link": true
    },
    "kernelspec": {
      "name": "python3",
      "display_name": "Python 3"
    }
  },
  "cells": [
    {
      "cell_type": "markdown",
      "metadata": {
        "id": "view-in-github",
        "colab_type": "text"
      },
      "source": [
        "<a href=\"https://colab.research.google.com/github/martinclehman/DS-Unit-1-Sprint-1-Dealing-With-Data/blob/master/module1-afirstlookatdata/LS_DS_111_A_First_Look_at_Data.ipynb\" target=\"_parent\"><img src=\"https://colab.research.google.com/assets/colab-badge.svg\" alt=\"Open In Colab\"/></a>"
      ]
    },
    {
      "metadata": {
        "id": "Okfr_uhwhS1X",
        "colab_type": "text"
      },
      "cell_type": "markdown",
      "source": [
        "# Lambda School Data Science - A First Look at Data\n",
        "\n"
      ]
    },
    {
      "metadata": {
        "id": "9dtJETFRhnOG",
        "colab_type": "text"
      },
      "cell_type": "markdown",
      "source": [
        "## Lecture - let's explore Python DS libraries and examples!\n",
        "\n",
        "The Python Data Science ecosystem is huge. You've seen some of the big pieces - pandas, scikit-learn, matplotlib. What parts do you want to see more of?"
      ]
    },
    {
      "metadata": {
        "id": "WiBkgmPJhmhE",
        "colab_type": "code",
        "colab": {}
      },
      "cell_type": "code",
      "source": [
        "# TODO - we'll be doing this live, taking requests\n",
        "# and reproducing what it is to look up and learn things\n",
        "import numpy as np\n",
        "import pandas as pd"
      ],
      "execution_count": 0,
      "outputs": []
    },
    {
      "metadata": {
        "id": "FlbntpQb8OeY",
        "colab_type": "code",
        "outputId": "22f38b07-f3e2-4bd7-cd79-371b1d7f4c3a",
        "colab": {
          "base_uri": "https://localhost:8080/",
          "height": 221
        }
      },
      "cell_type": "code",
      "source": [
        "%%time\n",
        "for _ in range(10):\n",
        "  print(np.random.rand(), \"hello\")"
      ],
      "execution_count": 8,
      "outputs": [
        {
          "output_type": "stream",
          "text": [
            "0.5523170452343273 hello\n",
            "0.7381024823234033 hello\n",
            "0.2829294701704743 hello\n",
            "0.5691626961872731 hello\n",
            "0.8546166626792455 hello\n",
            "0.7848479238051186 hello\n",
            "0.2529010410687137 hello\n",
            "0.18266197456374433 hello\n",
            "0.9773098890597315 hello\n",
            "0.7114016384836335 hello\n",
            "CPU times: user 3.59 ms, sys: 2.15 ms, total: 5.74 ms\n",
            "Wall time: 8.08 ms\n"
          ],
          "name": "stdout"
        }
      ]
    },
    {
      "metadata": {
        "id": "gl70yXzlAiG_",
        "colab_type": "code",
        "colab": {
          "base_uri": "https://localhost:8080/",
          "height": 238
        },
        "outputId": "ebb93b47-2df9-472b-cc6f-58b1fdcc139c"
      },
      "cell_type": "code",
      "source": [
        "!ls sample_data\n",
        "!head sample_data/california_housing_test.csv"
      ],
      "execution_count": 7,
      "outputs": [
        {
          "output_type": "stream",
          "text": [
            "anscombe.json\t\t      mnist_test.csv\n",
            "california_housing_test.csv   mnist_train_small.csv\n",
            "california_housing_train.csv  README.md\n",
            "\"longitude\",\"latitude\",\"housing_median_age\",\"total_rooms\",\"total_bedrooms\",\"population\",\"households\",\"median_income\",\"median_house_value\"\n",
            "-122.050000,37.370000,27.000000,3885.000000,661.000000,1537.000000,606.000000,6.608500,344700.000000\n",
            "-118.300000,34.260000,43.000000,1510.000000,310.000000,809.000000,277.000000,3.599000,176500.000000\n",
            "-117.810000,33.780000,27.000000,3589.000000,507.000000,1484.000000,495.000000,5.793400,270500.000000\n",
            "-118.360000,33.820000,28.000000,67.000000,15.000000,49.000000,11.000000,6.135900,330000.000000\n",
            "-119.670000,36.330000,19.000000,1241.000000,244.000000,850.000000,237.000000,2.937500,81700.000000\n",
            "-119.560000,36.510000,37.000000,1018.000000,213.000000,663.000000,204.000000,1.663500,67000.000000\n",
            "-121.430000,38.630000,43.000000,1009.000000,225.000000,604.000000,218.000000,1.664100,67000.000000\n",
            "-120.650000,35.480000,19.000000,2310.000000,471.000000,1341.000000,441.000000,3.225000,166900.000000\n",
            "-122.840000,38.400000,15.000000,3080.000000,617.000000,1446.000000,599.000000,3.669600,194400.000000\n"
          ],
          "name": "stdout"
        }
      ]
    },
    {
      "metadata": {
        "id": "-KUUUOH9F1Rf",
        "colab_type": "code",
        "colab": {}
      },
      "cell_type": "code",
      "source": [
        "df_cali_train = pd.read_csv('sample_data/california_housing_train.csv')"
      ],
      "execution_count": 0,
      "outputs": []
    },
    {
      "metadata": {
        "id": "jkuig6BsF-N_",
        "colab_type": "code",
        "outputId": "2d9752c0-2507-4fdf-dc73-060ea86c336a",
        "colab": {
          "base_uri": "https://localhost:8080/",
          "height": 34
        }
      },
      "cell_type": "code",
      "source": [
        "my_dict = {'col1': [1,2,3,4], 'col2': [10,20,30,40]}\n",
        "my_dict\n",
        "          "
      ],
      "execution_count": 0,
      "outputs": [
        {
          "output_type": "execute_result",
          "data": {
            "text/plain": [
              "{'col1': [1, 2, 3, 4], 'col2': [10, 20, 30, 40]}"
            ]
          },
          "metadata": {
            "tags": []
          },
          "execution_count": 18
        }
      ]
    },
    {
      "metadata": {
        "id": "pDoN8RcyHEXL",
        "colab_type": "code",
        "colab": {}
      },
      "cell_type": "code",
      "source": [
        ""
      ],
      "execution_count": 0,
      "outputs": []
    },
    {
      "metadata": {
        "id": "vD2kEGNmERfN",
        "colab_type": "code",
        "outputId": "57757ebb-1277-4996-f723-0cff86b5536d",
        "colab": {
          "base_uri": "https://localhost:8080/",
          "height": 68
        }
      },
      "cell_type": "code",
      "source": [
        "%%time\n",
        "\n",
        "print(np.random.rand(),\"hello\")"
      ],
      "execution_count": 0,
      "outputs": [
        {
          "output_type": "stream",
          "text": [
            "0.029162575400345503 hello\n",
            "CPU times: user 436 µs, sys: 96 µs, total: 532 µs\n",
            "Wall time: 359 µs\n"
          ],
          "name": "stdout"
        }
      ]
    },
    {
      "metadata": {
        "id": "ByGaP6qfFDaI",
        "colab_type": "code",
        "outputId": "a74193f3-272f-43b6-c47b-c2d0d98553b3",
        "colab": {
          "base_uri": "https://localhost:8080/",
          "height": 187
        }
      },
      "cell_type": "code",
      "source": [
        "!head sample_data/california_housing_train.csv"
      ],
      "execution_count": 0,
      "outputs": [
        {
          "output_type": "stream",
          "text": [
            "\"longitude\",\"latitude\",\"housing_median_age\",\"total_rooms\",\"total_bedrooms\",\"population\",\"households\",\"median_income\",\"median_house_value\"\n",
            "-114.310000,34.190000,15.000000,5612.000000,1283.000000,1015.000000,472.000000,1.493600,66900.000000\n",
            "-114.470000,34.400000,19.000000,7650.000000,1901.000000,1129.000000,463.000000,1.820000,80100.000000\n",
            "-114.560000,33.690000,17.000000,720.000000,174.000000,333.000000,117.000000,1.650900,85700.000000\n",
            "-114.570000,33.640000,14.000000,1501.000000,337.000000,515.000000,226.000000,3.191700,73400.000000\n",
            "-114.570000,33.570000,20.000000,1454.000000,326.000000,624.000000,262.000000,1.925000,65500.000000\n",
            "-114.580000,33.630000,29.000000,1387.000000,236.000000,671.000000,239.000000,3.343800,74000.000000\n",
            "-114.580000,33.610000,25.000000,2907.000000,680.000000,1841.000000,633.000000,2.676800,82400.000000\n",
            "-114.590000,34.830000,41.000000,812.000000,168.000000,375.000000,158.000000,1.708300,48500.000000\n",
            "-114.590000,33.610000,34.000000,4789.000000,1175.000000,3134.000000,1056.000000,2.178200,58400.000000\n"
          ],
          "name": "stdout"
        }
      ]
    },
    {
      "metadata": {
        "id": "lOqaPds9huME",
        "colab_type": "text"
      },
      "cell_type": "markdown",
      "source": [
        "## Assignment - now it's your turn\n",
        "\n",
        "Pick at least one Python DS library, and using documentation/examples reproduce in this notebook something cool. It's OK if you don't fully understand it or get it 100% working, but do put in effort and look things up."
      ]
    },
    {
      "metadata": {
        "id": "TGUS79cOhPWj",
        "colab_type": "code",
        "colab": {
          "base_uri": "https://localhost:8080/",
          "height": 563
        },
        "outputId": "5533a0e1-5d51-4441-ab1d-c6e7d2b77412"
      },
      "cell_type": "code",
      "source": [
        "import plotly.plotly as py\n",
        "plotly.tools.set_credentials_file(username='martinclehman', api_key='Q5UIxKiU08SbXmvxusWh')\n",
        "\n",
        "import plotly.graph_objs as go\n",
        "\n",
        "import pandas as pd\n",
        "\n",
        "df = pd.read_csv('https://raw.githubusercontent.com/plotly/datasets/master/2014_us_cities.csv')\n",
        "df.head()\n",
        "\n",
        "df['text'] = df['name'] + '<br>Population ' + (df['pop']/1e6).astype(str)+' million'\n",
        "limits = [(0,2),(3,10),(11,20),(21,50),(50,3000)]\n",
        "colors = [\"rgb(0,116,217)\",\"rgb(255,65,54)\",\"rgb(133,20,75)\",\"rgb(255,133,27)\",\"lightgrey\"]\n",
        "cities = []\n",
        "scale = 5000\n",
        "\n",
        "for i in range(len(limits)):\n",
        "    lim = limits[i]\n",
        "    df_sub = df[lim[0]:lim[1]]\n",
        "    city = go.Scattergeo(\n",
        "        locationmode = 'USA-states',\n",
        "        lon = df_sub['lon'],\n",
        "        lat = df_sub['lat'],\n",
        "        text = df_sub['text'],\n",
        "        marker = go.scattergeo.Marker(\n",
        "            size = df_sub['pop']/scale,\n",
        "            color = colors[i],\n",
        "            line = go.scattergeo.marker.Line(\n",
        "                width=0.5, color='rgb(40,40,40)'\n",
        "            ),\n",
        "            sizemode = 'area'\n",
        "        ),\n",
        "        name = '{0} - {1}'.format(lim[0],lim[1]) )\n",
        "    cities.append(city)\n",
        "\n",
        "layout = go.Layout(\n",
        "        title = go.layout.Title(\n",
        "            text = '2014 US city populations<br>(Click legend to toggle traces)'\n",
        "        ),\n",
        "        showlegend = True,\n",
        "        geo = go.layout.Geo(\n",
        "            scope = 'usa',\n",
        "            projection = go.layout.geo.Projection(\n",
        "                type='albers usa'\n",
        "            ),\n",
        "            showland = True,\n",
        "            landcolor = 'rgb(217, 217, 217)',\n",
        "            subunitwidth=1,\n",
        "            countrywidth=1,\n",
        "            subunitcolor=\"rgb(255, 255, 255)\",\n",
        "            countrycolor=\"rgb(255, 255, 255)\"\n",
        "        )\n",
        "    )\n",
        "\n",
        "fig = go.Figure(data=cities, layout=layout)\n",
        "py.iplot(fig, filename='d3-bubble-map-populations')"
      ],
      "execution_count": 15,
      "outputs": [
        {
          "output_type": "stream",
          "text": [
            "High five! You successfully sent some data to your account on plotly. View your plot in your browser at https://plot.ly/~martinclehman/0 or inside your plot.ly account where it is named 'd3-bubble-map-populations'\n"
          ],
          "name": "stdout"
        },
        {
          "output_type": "execute_result",
          "data": {
            "text/html": [
              "<iframe id=\"igraph\" scrolling=\"no\" style=\"border:none;\" seamless=\"seamless\" src=\"https://plot.ly/~martinclehman/0.embed\" height=\"525px\" width=\"100%\"></iframe>"
            ],
            "text/plain": [
              "<plotly.tools.PlotlyDisplay object>"
            ]
          },
          "metadata": {
            "tags": []
          },
          "execution_count": 15
        }
      ]
    },
    {
      "metadata": {
        "id": "BT9gdS7viJZa",
        "colab_type": "text"
      },
      "cell_type": "markdown",
      "source": [
        "### Assignment questions\n",
        "\n",
        "After you've worked on some code, answer the following questions in this text block:\n",
        "\n",
        "1.  Describe in a paragraph of text what you did and why, as if you were writing an email to somebody interested but nontechnical.\n",
        "\n",
        "> My goal was to reproduce a cool image found on the web. So I looked for a image producing library and found one called 'plotly'. Then in 'plotly's page, I found a 'bubble map' example in the library, and copied the code to run. \n",
        "\n",
        "2.  What was the most challenging part of what you did?\n",
        "\n",
        "> I found that the code did not work \"out of the box\". I had to create an account with plotly, then obtain a api key, and add a line of code to get the credentials to run it.\n",
        "\n",
        "3.  What was the most interesting thing you learned?\n",
        "\n",
        "> That a cool image can be created with short code.\n",
        "\n",
        "4.  What area would you like to explore with more time?\n",
        "\n",
        "> Play with more libraries.\n",
        "\n"
      ]
    },
    {
      "metadata": {
        "id": "_XXg2crAipwP",
        "colab_type": "text"
      },
      "cell_type": "markdown",
      "source": [
        "## Stretch goals and resources\n",
        "\n",
        "Following are *optional* things for you to take a look at. Focus on the above assignment first, and make sure to commit and push your changes to GitHub (and since this is the first assignment of the sprint, open a PR as well).\n",
        "\n",
        "- [pandas documentation](https://pandas.pydata.org/pandas-docs/stable/)\n",
        "- [scikit-learn documentation](http://scikit-learn.org/stable/documentation.html)\n",
        "- [matplotlib documentation](https://matplotlib.org/contents.html)\n",
        "- [Awesome Data Science](https://github.com/bulutyazilim/awesome-datascience) - a list of many types of DS resources\n",
        "\n",
        "Stretch goals:\n",
        "\n",
        "- Find and read blogs, walkthroughs, and other examples of people working through cool things with data science - and share with your classmates!\n",
        "- Write a blog post (Medium is a popular place to publish) introducing yourself as somebody learning data science, and talking about what you've learned already and what you're excited to learn more about."
      ]
    }
  ]
}