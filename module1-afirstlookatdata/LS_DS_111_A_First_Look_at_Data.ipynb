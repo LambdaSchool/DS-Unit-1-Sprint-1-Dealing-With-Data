{
 "cells": [
  {
   "cell_type": "markdown",
   "metadata": {
    "colab_type": "text",
    "id": "Okfr_uhwhS1X"
   },
   "source": [
    "# Lambda School Data Science - A First Look at Data\n",
    "\n"
   ]
  },
  {
   "cell_type": "markdown",
   "metadata": {
    "colab_type": "text",
    "id": "9dtJETFRhnOG"
   },
   "source": [
    "## Lecture - let's explore Python DS libraries and examples!\n",
    "\n",
    "The Python Data Science ecosystem is huge. You've seen some of the big pieces - pandas, scikit-learn, matplotlib. What parts do you want to see more of?"
   ]
  },
  {
   "cell_type": "code",
   "execution_count": 0,
   "metadata": {
    "colab": {},
    "colab_type": "code",
    "id": "WiBkgmPJhmhE"
   },
   "outputs": [],
   "source": [
    "# TODO - we'll be doing this live, taking requests\n",
    "# and reproducing what it is to look up and learn things"
   ]
  }
 ],
 "metadata": {
  "colab": {
   "name": "LS_DS_111_A_First_Look_at_Data.ipynb",
   "provenance": [],
   "version": "0.3.2"
  },
  "kernelspec": {
   "display_name": "Python 3",
   "language": "python",
   "name": "python3"
  },
  "language_info": {
   "codemirror_mode": {
    "name": "ipython",
    "version": 3
   },
   "file_extension": ".py",
   "mimetype": "text/x-python",
   "name": "python",
   "nbconvert_exporter": "python",
   "pygments_lexer": "ipython3",
   "version": "3.7.3"
  }
 },
 "nbformat": 4,
 "nbformat_minor": 1
}
