{
  "nbformat": 4,
  "nbformat_minor": 0,
  "metadata": {
    "colab": {
      "name": "LS DS 111 - A First Look at Data.ipynb",
      "version": "0.3.2",
      "provenance": [],
      "include_colab_link": true
    },
    "kernelspec": {
      "name": "python3",
      "display_name": "Python 3"
    }
  },
  "cells": [
    {
      "cell_type": "markdown",
      "metadata": {
        "id": "view-in-github",
        "colab_type": "text"
      },
      "source": [
        "<a href=\"https://colab.research.google.com/github/donw385/DS-Sprint-01-Dealing-With-Data/blob/master/module1-afirstlookatdata/LS_DS_111_A_First_Look_at_Data.ipynb\" target=\"_parent\"><img src=\"https://colab.research.google.com/assets/colab-badge.svg\" alt=\"Open In Colab\"/></a>"
      ]
    },
    {
      "metadata": {
        "id": "Okfr_uhwhS1X",
        "colab_type": "text"
      },
      "cell_type": "markdown",
      "source": [
        "# Lambda School Data Science - A First Look at Data\n",
        "\n"
      ]
    },
    {
      "metadata": {
        "id": "9dtJETFRhnOG",
        "colab_type": "text"
      },
      "cell_type": "markdown",
      "source": [
        "## Lecture - let's explore Python DS libraries and examples!\n",
        "\n",
        "The Python Data Science ecosystem is huge. You've seen some of the big pieces - pandas, scikit-learn, matplotlib. What parts do you want to see more of?"
      ]
    },
    {
      "metadata": {
        "id": "WiBkgmPJhmhE",
        "colab_type": "code",
        "outputId": "dbece897-426d-4961-c20a-55be3b83daa6",
        "colab": {
          "base_uri": "https://localhost:8080/",
          "height": 33
        }
      },
      "cell_type": "code",
      "source": [
        "# TODO - we'll be doing this live, taking requests\n",
        "# and reproducing what it is to look up and learn things\n",
        "1+1"
      ],
      "execution_count": 0,
      "outputs": [
        {
          "output_type": "execute_result",
          "data": {
            "text/plain": [
              "2"
            ]
          },
          "metadata": {
            "tags": []
          },
          "execution_count": 1
        }
      ]
    },
    {
      "metadata": {
        "id": "lOqaPds9huME",
        "colab_type": "text"
      },
      "cell_type": "markdown",
      "source": [
        "## Assignment - now it's your turn\n",
        "\n",
        "Pick at least one Python DS library, and using documentation/examples reproduce in this notebook something cool. It's OK if you don't fully understand it or get it 100% working, but do put in effort and look things up."
      ]
    },
    {
      "metadata": {
        "id": "TGUS79cOhPWj",
        "colab_type": "code",
        "colab": {}
      },
      "cell_type": "code",
      "source": [
        "%matplotlib inline\n",
        "import matplotlib.pyplot as plt\n",
        "import random\n",
        "import time\n",
        "import itertools\n",
        "import urllib\n",
        "import csv\n",
        "import functools\n",
        "from statistics import mean, stdev"
      ],
      "execution_count": 0,
      "outputs": []
    },
    {
      "metadata": {
        "id": "3ouml-ooFRbY",
        "colab_type": "code",
        "colab": {}
      },
      "cell_type": "code",
      "source": [
        "def alltours_tsp(cities):\n",
        "    \"Generate all possible tours of the cities and choose the shortest tour.\"\n",
        "    return shortest_tour(alltours(cities))\n",
        "\n",
        "def shortest_tour(tours): \n",
        "    \"Choose the tour with the minimum tour length.\"\n",
        "    return min(tours, key=tour_length)\n",
        "\n",
        "# TO DO: Data types: cities, tours, Functions: alltours, tour_length\n"
      ],
      "execution_count": 0,
      "outputs": []
    },
    {
      "metadata": {
        "id": "adsIlEMkHGho",
        "colab_type": "code",
        "colab": {}
      },
      "cell_type": "code",
      "source": [
        "alltours = itertools.permutations "
      ],
      "execution_count": 0,
      "outputs": []
    },
    {
      "metadata": {
        "id": "dAxcHUuPHKFg",
        "colab_type": "code",
        "colab": {
          "base_uri": "https://localhost:8080/",
          "height": 33
        },
        "outputId": "5902abdf-34b7-4b37-f4da-13a5812043ed"
      },
      "cell_type": "code",
      "source": [
        "cities = {1, 2, 3}\n",
        "\n",
        "list(alltours(cities))"
      ],
      "execution_count": 55,
      "outputs": [
        {
          "output_type": "execute_result",
          "data": {
            "text/plain": [
              "[(1, 2, 3), (1, 3, 2), (2, 1, 3), (2, 3, 1), (3, 1, 2), (3, 2, 1)]"
            ]
          },
          "metadata": {
            "tags": []
          },
          "execution_count": 55
        }
      ]
    },
    {
      "metadata": {
        "id": "p9qOvwbHHN6a",
        "colab_type": "code",
        "colab": {}
      },
      "cell_type": "code",
      "source": [
        "def tour_length(tour):\n",
        "    \"The total of distances between each pair of consecutive cities in the tour.\"\n",
        "    return sum(distance(tour[i], tour[i-1]) \n",
        "               for i in range(len(tour)))\n",
        "\n",
        "# TO DO: Functions: distance, Data types: cities"
      ],
      "execution_count": 0,
      "outputs": []
    },
    {
      "metadata": {
        "id": "q43-YF6SHQ-1",
        "colab_type": "code",
        "colab": {}
      },
      "cell_type": "code",
      "source": [
        "# Cities are represented as Points, which are a subclass of complex numbers\n",
        "\n",
        "class Point(complex):\n",
        "    x = property(lambda p: p.real)\n",
        "    y = property(lambda p: p.imag)\n",
        "    \n",
        "City = Point\n",
        "\n",
        "def distance(A, B): \n",
        "    \"The distance between two points.\"\n",
        "    return abs(A - B)"
      ],
      "execution_count": 0,
      "outputs": []
    },
    {
      "metadata": {
        "id": "v1gMLZZrHUYW",
        "colab_type": "code",
        "colab": {
          "base_uri": "https://localhost:8080/",
          "height": 33
        },
        "outputId": "f58700eb-c6c0-459e-a607-80ac56314b6e"
      },
      "cell_type": "code",
      "source": [
        "A = City(3, 0)\n",
        "B = City(0, 4)\n",
        "distance(A, B)"
      ],
      "execution_count": 58,
      "outputs": [
        {
          "output_type": "execute_result",
          "data": {
            "text/plain": [
              "5.0"
            ]
          },
          "metadata": {
            "tags": []
          },
          "execution_count": 58
        }
      ]
    },
    {
      "metadata": {
        "id": "zWap1NI2HWuo",
        "colab_type": "code",
        "colab": {
          "base_uri": "https://localhost:8080/",
          "height": 33
        },
        "outputId": "2e707b95-07c5-4ef5-b979-3ef4254b6173"
      },
      "cell_type": "code",
      "source": [
        "{City(random.randrange(1000), random.randrange(1000)) for c in range(6)}\n"
      ],
      "execution_count": 59,
      "outputs": [
        {
          "output_type": "execute_result",
          "data": {
            "text/plain": [
              "{(260+144j), (318+574j), (327+237j), (42+829j), (647+773j), (881+441j)}"
            ]
          },
          "metadata": {
            "tags": []
          },
          "execution_count": 59
        }
      ]
    },
    {
      "metadata": {
        "id": "oAt-Xx_CHZc-",
        "colab_type": "code",
        "colab": {}
      },
      "cell_type": "code",
      "source": [
        "def Cities(n, width=900, height=600, seed=42):\n",
        "    \"Make a set of n cities, each with random coordinates within a (width x height) rectangle.\"\n",
        "    random.seed(seed * n)\n",
        "    return frozenset(City(random.randrange(width), random.randrange(height))\n",
        "                     for c in range(n))"
      ],
      "execution_count": 0,
      "outputs": []
    },
    {
      "metadata": {
        "id": "_aicCvY8HcKr",
        "colab_type": "code",
        "colab": {
          "base_uri": "https://localhost:8080/",
          "height": 33
        },
        "outputId": "f2849bbc-3152-4e9a-9ab3-e598599fddd1"
      },
      "cell_type": "code",
      "source": [
        "# A set of 5 cities\n",
        "Cities(5)"
      ],
      "execution_count": 62,
      "outputs": [
        {
          "output_type": "execute_result",
          "data": {
            "text/plain": [
              "frozenset({(172+20j), (234+40j), (393+7j), (671+296j), (696+415j)})"
            ]
          },
          "metadata": {
            "tags": []
          },
          "execution_count": 62
        }
      ]
    },
    {
      "metadata": {
        "id": "IoEMofZ4Hfzi",
        "colab_type": "code",
        "colab": {
          "base_uri": "https://localhost:8080/",
          "height": 67
        },
        "outputId": "072f54e6-51f2-431f-fa84-a0ac1cca3deb"
      },
      "cell_type": "code",
      "source": [
        "# The exact same set of 5 cities each time\n",
        "[Cities(5) for i in range(3)]"
      ],
      "execution_count": 63,
      "outputs": [
        {
          "output_type": "execute_result",
          "data": {
            "text/plain": [
              "[frozenset({(172+20j), (234+40j), (393+7j), (671+296j), (696+415j)}),\n",
              " frozenset({(172+20j), (234+40j), (393+7j), (671+296j), (696+415j)}),\n",
              " frozenset({(172+20j), (234+40j), (393+7j), (671+296j), (696+415j)})]"
            ]
          },
          "metadata": {
            "tags": []
          },
          "execution_count": 63
        }
      ]
    },
    {
      "metadata": {
        "id": "5hdSsUTnHh9m",
        "colab_type": "code",
        "colab": {
          "base_uri": "https://localhost:8080/",
          "height": 67
        },
        "outputId": "3be85e36-2cc3-4032-a04b-1bf729fcf7bd"
      },
      "cell_type": "code",
      "source": [
        "# A different set of 5 cities each time\n",
        "[Cities(5, seed=i) for i in range(3)]"
      ],
      "execution_count": 64,
      "outputs": [
        {
          "output_type": "execute_result",
          "data": {
            "text/plain": [
              "[frozenset({(41+265j), (414+310j), (523+497j), (776+430j), (864+394j)}),\n",
              " frozenset({(29+476j), (637+261j), (759+367j), (794+255j), (814+542j)}),\n",
              " frozenset({(211+473j), (439+494j), (585+33j), (591+15j), (832+503j)})]"
            ]
          },
          "metadata": {
            "tags": []
          },
          "execution_count": 64
        }
      ]
    },
    {
      "metadata": {
        "id": "SeaXpCL2HkCu",
        "colab_type": "code",
        "colab": {
          "base_uri": "https://localhost:8080/",
          "height": 150
        },
        "outputId": "f102542a-ea11-4eb1-c2c1-0e0a0e12a312"
      },
      "cell_type": "code",
      "source": [
        "alltours_tsp(Cities(8))\n"
      ],
      "execution_count": 65,
      "outputs": [
        {
          "output_type": "execute_result",
          "data": {
            "text/plain": [
              "((6+546j),\n",
              " (199+147j),\n",
              " (350+65j),\n",
              " (737+26j),\n",
              " (847+187j),\n",
              " (891+465j),\n",
              " (554+374j),\n",
              " (505+548j))"
            ]
          },
          "metadata": {
            "tags": []
          },
          "execution_count": 65
        }
      ]
    },
    {
      "metadata": {
        "id": "qHpvduRQHmnB",
        "colab_type": "code",
        "colab": {
          "base_uri": "https://localhost:8080/",
          "height": 33
        },
        "outputId": "038a1f5f-8abc-4a26-e2c8-5ecf2eb6f3f1"
      },
      "cell_type": "code",
      "source": [
        "tour_length(alltours_tsp(Cities(8)))\n"
      ],
      "execution_count": 66,
      "outputs": [
        {
          "output_type": "execute_result",
          "data": {
            "text/plain": [
              "2509.307587720301"
            ]
          },
          "metadata": {
            "tags": []
          },
          "execution_count": 66
        }
      ]
    },
    {
      "metadata": {
        "id": "0EvA2nYIHp51",
        "colab_type": "code",
        "colab": {}
      },
      "cell_type": "code",
      "source": [
        "def plot_tour(tour): \n",
        "    \"Plot the cities as circles and the tour as lines between them.\"\n",
        "    plot_lines(list(tour) + [tour[0]])\n",
        "    \n",
        "def plot_lines(points, style='bo-'):\n",
        "    \"Plot lines to connect a series of points.\"\n",
        "    plt.plot([p.x for p in points], [p.y for p in points], style)\n",
        "    plt.axis('scaled'); plt.axis('off')"
      ],
      "execution_count": 0,
      "outputs": []
    },
    {
      "metadata": {
        "id": "DQv6q2RbHsm5",
        "colab_type": "code",
        "colab": {
          "base_uri": "https://localhost:8080/",
          "height": 341
        },
        "outputId": "64fbeac0-591f-4120-8892-f443a4c108c4"
      },
      "cell_type": "code",
      "source": [
        "plot_tour(alltours_tsp(Cities(8)))"
      ],
      "execution_count": 68,
      "outputs": [
        {
          "output_type": "display_data",
          "data": {
            "text/plain": [
              "<matplotlib.figure.Figure at 0x7fb76c34ce10>"
            ],
            "image/svg+xml": "<?xml version=\"1.0\" encoding=\"utf-8\" standalone=\"no\"?>\n<!DOCTYPE svg PUBLIC \"-//W3C//DTD SVG 1.1//EN\"\n  \"http://www.w3.org/Graphics/SVG/1.1/DTD/svg11.dtd\">\n<!-- Created with matplotlib (http://matplotlib.org/) -->\n<svg height=\"240pt\" version=\"1.1\" viewBox=\"0 0 384 240\" width=\"384pt\" xmlns=\"http://www.w3.org/2000/svg\" xmlns:xlink=\"http://www.w3.org/1999/xlink\">\n <defs>\n  <style type=\"text/css\">\n*{stroke-linecap:butt;stroke-linejoin:round;}\n  </style>\n </defs>\n <g id=\"figure_1\">\n  <g id=\"patch_1\">\n   <path d=\"M 0 240.197129 \nL 384.882812 240.197129 \nL 384.882812 0 \nL 0 0 \nz\n\" style=\"fill:none;\"/>\n  </g>\n  <g id=\"axes_1\">\n   <g id=\"line2d_1\">\n    <path clip-path=\"url(#pfe518f8eb2)\" d=\"M 52.100994 22.863975 \nL 118.476341 160.085547 \nL 170.407312 188.286471 \nL 303.501919 201.699106 \nL 341.332427 146.328998 \nL 356.464631 50.720986 \nL 240.565709 82.017134 \nL 223.713937 22.176148 \nL 52.100994 22.863975 \n\" style=\"fill:none;stroke:#0000ff;stroke-linecap:round;stroke-width:1.75;\"/>\n    <defs>\n     <path d=\"M 0 3.5 \nC 0.928211 3.5 1.81853 3.131218 2.474874 2.474874 \nC 3.131218 1.81853 3.5 0.928211 3.5 0 \nC 3.5 -0.928211 3.131218 -1.81853 2.474874 -2.474874 \nC 1.81853 -3.131218 0.928211 -3.5 0 -3.5 \nC -0.928211 -3.5 -1.81853 -3.131218 -2.474874 -2.474874 \nC -3.131218 -1.81853 -3.5 -0.928211 -3.5 0 \nC -3.5 0.928211 -3.131218 1.81853 -2.474874 2.474874 \nC -1.81853 3.131218 -0.928211 3.5 0 3.5 \nz\n\" id=\"mdf6bad7610\"/>\n    </defs>\n    <g clip-path=\"url(#pfe518f8eb2)\">\n     <use style=\"fill:#0000ff;\" x=\"52.100994\" xlink:href=\"#mdf6bad7610\" y=\"22.863975\"/>\n     <use style=\"fill:#0000ff;\" x=\"118.476341\" xlink:href=\"#mdf6bad7610\" y=\"160.085547\"/>\n     <use style=\"fill:#0000ff;\" x=\"170.407312\" xlink:href=\"#mdf6bad7610\" y=\"188.286471\"/>\n     <use style=\"fill:#0000ff;\" x=\"303.501919\" xlink:href=\"#mdf6bad7610\" y=\"201.699106\"/>\n     <use style=\"fill:#0000ff;\" x=\"341.332427\" xlink:href=\"#mdf6bad7610\" y=\"146.328998\"/>\n     <use style=\"fill:#0000ff;\" x=\"356.464631\" xlink:href=\"#mdf6bad7610\" y=\"50.720986\"/>\n     <use style=\"fill:#0000ff;\" x=\"240.565709\" xlink:href=\"#mdf6bad7610\" y=\"82.017134\"/>\n     <use style=\"fill:#0000ff;\" x=\"223.713937\" xlink:href=\"#mdf6bad7610\" y=\"22.176148\"/>\n     <use style=\"fill:#0000ff;\" x=\"52.100994\" xlink:href=\"#mdf6bad7610\" y=\"22.863975\"/>\n    </g>\n   </g>\n  </g>\n </g>\n <defs>\n  <clipPath id=\"pfe518f8eb2\">\n   <rect height=\"197.475254\" width=\"334.8\" x=\"36.882812\" y=\"13.2\"/>\n  </clipPath>\n </defs>\n</svg>\n"
          },
          "metadata": {
            "tags": []
          }
        }
      ]
    },
    {
      "metadata": {
        "id": "1R8_lNLMHyCj",
        "colab_type": "code",
        "colab": {}
      },
      "cell_type": "code",
      "source": [
        "def plot_tsp(algorithm, cities):\n",
        "    \"Apply a TSP algorithm to cities, plot the resulting tour, and print information.\"\n",
        "    # Find the solution and time how long it takes\n",
        "    t0 = time.clock()\n",
        "    tour = algorithm(cities)\n",
        "    t1 = time.clock()\n",
        "    assert valid_tour(tour, cities)\n",
        "    plot_tour(tour); plt.show()\n",
        "    print(\"{} city tour with length {:.1f} in {:.3f} secs for {}\"\n",
        "          .format(len(tour), tour_length(tour), t1 - t0, algorithm.__name__))\n",
        "    \n",
        "def valid_tour(tour, cities):\n",
        "    \"Is tour a valid tour for these cities?\"\n",
        "    return set(tour) == set(cities) and len(tour) == len(cities)"
      ],
      "execution_count": 0,
      "outputs": []
    },
    {
      "metadata": {
        "id": "hZx32LyoH1Eb",
        "colab_type": "code",
        "colab": {
          "base_uri": "https://localhost:8080/",
          "height": 357
        },
        "outputId": "8db256de-9c82-41fb-a000-2d22256bebcc"
      },
      "cell_type": "code",
      "source": [
        "plot_tsp(alltours_tsp, Cities(8))\n"
      ],
      "execution_count": 70,
      "outputs": [
        {
          "output_type": "display_data",
          "data": {
            "text/plain": [
              "<matplotlib.figure.Figure at 0x7fb764445278>"
            ],
            "image/svg+xml": "<?xml version=\"1.0\" encoding=\"utf-8\" standalone=\"no\"?>\n<!DOCTYPE svg PUBLIC \"-//W3C//DTD SVG 1.1//EN\"\n  \"http://www.w3.org/Graphics/SVG/1.1/DTD/svg11.dtd\">\n<!-- Created with matplotlib (http://matplotlib.org/) -->\n<svg height=\"240pt\" version=\"1.1\" viewBox=\"0 0 384 240\" width=\"384pt\" xmlns=\"http://www.w3.org/2000/svg\" xmlns:xlink=\"http://www.w3.org/1999/xlink\">\n <defs>\n  <style type=\"text/css\">\n*{stroke-linecap:butt;stroke-linejoin:round;}\n  </style>\n </defs>\n <g id=\"figure_1\">\n  <g id=\"patch_1\">\n   <path d=\"M 0 240.197129 \nL 384.882812 240.197129 \nL 384.882812 0 \nL 0 0 \nz\n\" style=\"fill:none;\"/>\n  </g>\n  <g id=\"axes_1\">\n   <g id=\"line2d_1\">\n    <path clip-path=\"url(#p205bbfaace)\" d=\"M 52.100994 22.863975 \nL 118.476341 160.085547 \nL 170.407312 188.286471 \nL 303.501919 201.699106 \nL 341.332427 146.328998 \nL 356.464631 50.720986 \nL 240.565709 82.017134 \nL 223.713937 22.176148 \nL 52.100994 22.863975 \n\" style=\"fill:none;stroke:#0000ff;stroke-linecap:round;stroke-width:1.75;\"/>\n    <defs>\n     <path d=\"M 0 3.5 \nC 0.928211 3.5 1.81853 3.131218 2.474874 2.474874 \nC 3.131218 1.81853 3.5 0.928211 3.5 0 \nC 3.5 -0.928211 3.131218 -1.81853 2.474874 -2.474874 \nC 1.81853 -3.131218 0.928211 -3.5 0 -3.5 \nC -0.928211 -3.5 -1.81853 -3.131218 -2.474874 -2.474874 \nC -3.131218 -1.81853 -3.5 -0.928211 -3.5 0 \nC -3.5 0.928211 -3.131218 1.81853 -2.474874 2.474874 \nC -1.81853 3.131218 -0.928211 3.5 0 3.5 \nz\n\" id=\"m198923961d\"/>\n    </defs>\n    <g clip-path=\"url(#p205bbfaace)\">\n     <use style=\"fill:#0000ff;\" x=\"52.100994\" xlink:href=\"#m198923961d\" y=\"22.863975\"/>\n     <use style=\"fill:#0000ff;\" x=\"118.476341\" xlink:href=\"#m198923961d\" y=\"160.085547\"/>\n     <use style=\"fill:#0000ff;\" x=\"170.407312\" xlink:href=\"#m198923961d\" y=\"188.286471\"/>\n     <use style=\"fill:#0000ff;\" x=\"303.501919\" xlink:href=\"#m198923961d\" y=\"201.699106\"/>\n     <use style=\"fill:#0000ff;\" x=\"341.332427\" xlink:href=\"#m198923961d\" y=\"146.328998\"/>\n     <use style=\"fill:#0000ff;\" x=\"356.464631\" xlink:href=\"#m198923961d\" y=\"50.720986\"/>\n     <use style=\"fill:#0000ff;\" x=\"240.565709\" xlink:href=\"#m198923961d\" y=\"82.017134\"/>\n     <use style=\"fill:#0000ff;\" x=\"223.713937\" xlink:href=\"#m198923961d\" y=\"22.176148\"/>\n     <use style=\"fill:#0000ff;\" x=\"52.100994\" xlink:href=\"#m198923961d\" y=\"22.863975\"/>\n    </g>\n   </g>\n  </g>\n </g>\n <defs>\n  <clipPath id=\"p205bbfaace\">\n   <rect height=\"197.475254\" width=\"334.8\" x=\"36.882812\" y=\"13.2\"/>\n  </clipPath>\n </defs>\n</svg>\n"
          },
          "metadata": {
            "tags": []
          }
        },
        {
          "output_type": "stream",
          "text": [
            "8 city tour with length 2509.3 in 0.168 secs for alltours_tsp\n"
          ],
          "name": "stdout"
        }
      ]
    },
    {
      "metadata": {
        "id": "4v7jMoUsH9al",
        "colab_type": "code",
        "colab": {
          "base_uri": "https://localhost:8080/",
          "height": 33
        },
        "outputId": "49bf6ae0-894a-4fd2-aee3-f82722225629"
      },
      "cell_type": "code",
      "source": [
        "list(alltours({1, 2, 3}))\n"
      ],
      "execution_count": 71,
      "outputs": [
        {
          "output_type": "execute_result",
          "data": {
            "text/plain": [
              "[(1, 2, 3), (1, 3, 2), (2, 1, 3), (2, 3, 1), (3, 1, 2), (3, 2, 1)]"
            ]
          },
          "metadata": {
            "tags": []
          },
          "execution_count": 71
        }
      ]
    },
    {
      "metadata": {
        "id": "mA3C_m9QIBDq",
        "colab_type": "code",
        "colab": {}
      },
      "cell_type": "code",
      "source": [
        "def alltours(cities):\n",
        "    \"Return a list of tours, each a permutation of cities, but each one starting with the same city.\"\n",
        "    start = first(cities)\n",
        "    return [[start] + Tour(rest)\n",
        "            for rest in itertools.permutations(cities - {start})]\n",
        "\n",
        "def first(collection):\n",
        "    \"Start iterating over collection, and return the first element.\"\n",
        "    return next(iter(collection))\n",
        "\n",
        "Tour = list  # Tours are implemented as lists of cities"
      ],
      "execution_count": 0,
      "outputs": []
    },
    {
      "metadata": {
        "id": "mTSvA0trIDad",
        "colab_type": "code",
        "colab": {
          "base_uri": "https://localhost:8080/",
          "height": 33
        },
        "outputId": "4a846a74-7ba9-4ff8-c978-3f04944c88aa"
      },
      "cell_type": "code",
      "source": [
        "alltours({1, 2, 3})\n"
      ],
      "execution_count": 73,
      "outputs": [
        {
          "output_type": "execute_result",
          "data": {
            "text/plain": [
              "[[1, 2, 3], [1, 3, 2]]"
            ]
          },
          "metadata": {
            "tags": []
          },
          "execution_count": 73
        }
      ]
    },
    {
      "metadata": {
        "id": "3yW-e3YzIFmG",
        "colab_type": "code",
        "colab": {
          "base_uri": "https://localhost:8080/",
          "height": 117
        },
        "outputId": "adb3455a-4b99-434f-f904-fb3b67bff491"
      },
      "cell_type": "code",
      "source": [
        "alltours({1, 2, 3, 4})\n"
      ],
      "execution_count": 74,
      "outputs": [
        {
          "output_type": "execute_result",
          "data": {
            "text/plain": [
              "[[1, 2, 3, 4],\n",
              " [1, 2, 4, 3],\n",
              " [1, 3, 2, 4],\n",
              " [1, 3, 4, 2],\n",
              " [1, 4, 2, 3],\n",
              " [1, 4, 3, 2]]"
            ]
          },
          "metadata": {
            "tags": []
          },
          "execution_count": 74
        }
      ]
    },
    {
      "metadata": {
        "id": "t4YiU1R-IIAn",
        "colab_type": "code",
        "colab": {
          "base_uri": "https://localhost:8080/",
          "height": 357
        },
        "outputId": "42b38824-f6ac-4afe-e2fb-cc18d037de98"
      },
      "cell_type": "code",
      "source": [
        "plot_tsp(alltours_tsp, Cities(8))\n"
      ],
      "execution_count": 75,
      "outputs": [
        {
          "output_type": "display_data",
          "data": {
            "text/plain": [
              "<matplotlib.figure.Figure at 0x7fb7644712b0>"
            ],
            "image/svg+xml": "<?xml version=\"1.0\" encoding=\"utf-8\" standalone=\"no\"?>\n<!DOCTYPE svg PUBLIC \"-//W3C//DTD SVG 1.1//EN\"\n  \"http://www.w3.org/Graphics/SVG/1.1/DTD/svg11.dtd\">\n<!-- Created with matplotlib (http://matplotlib.org/) -->\n<svg height=\"240pt\" version=\"1.1\" viewBox=\"0 0 384 240\" width=\"384pt\" xmlns=\"http://www.w3.org/2000/svg\" xmlns:xlink=\"http://www.w3.org/1999/xlink\">\n <defs>\n  <style type=\"text/css\">\n*{stroke-linecap:butt;stroke-linejoin:round;}\n  </style>\n </defs>\n <g id=\"figure_1\">\n  <g id=\"patch_1\">\n   <path d=\"M 0 240.197129 \nL 384.882812 240.197129 \nL 384.882812 0 \nL 0 0 \nz\n\" style=\"fill:none;\"/>\n  </g>\n  <g id=\"axes_1\">\n   <g id=\"line2d_1\">\n    <path clip-path=\"url(#p8c5fa04bd7)\" d=\"M 118.476341 160.085547 \nL 170.407312 188.286471 \nL 303.501919 201.699106 \nL 341.332427 146.328998 \nL 356.464631 50.720986 \nL 240.565709 82.017134 \nL 223.713937 22.176148 \nL 52.100994 22.863975 \nL 118.476341 160.085547 \n\" style=\"fill:none;stroke:#0000ff;stroke-linecap:round;stroke-width:1.75;\"/>\n    <defs>\n     <path d=\"M 0 3.5 \nC 0.928211 3.5 1.81853 3.131218 2.474874 2.474874 \nC 3.131218 1.81853 3.5 0.928211 3.5 0 \nC 3.5 -0.928211 3.131218 -1.81853 2.474874 -2.474874 \nC 1.81853 -3.131218 0.928211 -3.5 0 -3.5 \nC -0.928211 -3.5 -1.81853 -3.131218 -2.474874 -2.474874 \nC -3.131218 -1.81853 -3.5 -0.928211 -3.5 0 \nC -3.5 0.928211 -3.131218 1.81853 -2.474874 2.474874 \nC -1.81853 3.131218 -0.928211 3.5 0 3.5 \nz\n\" id=\"mc4b9ac8fa7\"/>\n    </defs>\n    <g clip-path=\"url(#p8c5fa04bd7)\">\n     <use style=\"fill:#0000ff;\" x=\"118.476341\" xlink:href=\"#mc4b9ac8fa7\" y=\"160.085547\"/>\n     <use style=\"fill:#0000ff;\" x=\"170.407312\" xlink:href=\"#mc4b9ac8fa7\" y=\"188.286471\"/>\n     <use style=\"fill:#0000ff;\" x=\"303.501919\" xlink:href=\"#mc4b9ac8fa7\" y=\"201.699106\"/>\n     <use style=\"fill:#0000ff;\" x=\"341.332427\" xlink:href=\"#mc4b9ac8fa7\" y=\"146.328998\"/>\n     <use style=\"fill:#0000ff;\" x=\"356.464631\" xlink:href=\"#mc4b9ac8fa7\" y=\"50.720986\"/>\n     <use style=\"fill:#0000ff;\" x=\"240.565709\" xlink:href=\"#mc4b9ac8fa7\" y=\"82.017134\"/>\n     <use style=\"fill:#0000ff;\" x=\"223.713937\" xlink:href=\"#mc4b9ac8fa7\" y=\"22.176148\"/>\n     <use style=\"fill:#0000ff;\" x=\"52.100994\" xlink:href=\"#mc4b9ac8fa7\" y=\"22.863975\"/>\n     <use style=\"fill:#0000ff;\" x=\"118.476341\" xlink:href=\"#mc4b9ac8fa7\" y=\"160.085547\"/>\n    </g>\n   </g>\n  </g>\n </g>\n <defs>\n  <clipPath id=\"p8c5fa04bd7\">\n   <rect height=\"197.475254\" width=\"334.8\" x=\"36.882812\" y=\"13.2\"/>\n  </clipPath>\n </defs>\n</svg>\n"
          },
          "metadata": {
            "tags": []
          }
        },
        {
          "output_type": "stream",
          "text": [
            "8 city tour with length 2509.3 in 0.029 secs for alltours_tsp\n"
          ],
          "name": "stdout"
        }
      ]
    },
    {
      "metadata": {
        "id": "3vhVfXg4IKZ_",
        "colab_type": "code",
        "colab": {
          "base_uri": "https://localhost:8080/",
          "height": 384
        },
        "outputId": "ddbd49d1-f3b0-4551-972b-3b123c9a6d01"
      },
      "cell_type": "code",
      "source": [
        "plot_tsp(alltours_tsp, Cities(10))\n"
      ],
      "execution_count": 76,
      "outputs": [
        {
          "output_type": "display_data",
          "data": {
            "text/plain": [
              "<matplotlib.figure.Figure at 0x7fb7644f5a90>"
            ],
            "image/svg+xml": "<?xml version=\"1.0\" encoding=\"utf-8\" standalone=\"no\"?>\n<!DOCTYPE svg PUBLIC \"-//W3C//DTD SVG 1.1//EN\"\n  \"http://www.w3.org/Graphics/SVG/1.1/DTD/svg11.dtd\">\n<!-- Created with matplotlib (http://matplotlib.org/) -->\n<svg height=\"260pt\" version=\"1.1\" viewBox=\"0 0 368 260\" width=\"368pt\" xmlns=\"http://www.w3.org/2000/svg\" xmlns:xlink=\"http://www.w3.org/1999/xlink\">\n <defs>\n  <style type=\"text/css\">\n*{stroke-linecap:butt;stroke-linejoin:round;}\n  </style>\n </defs>\n <g id=\"figure_1\">\n  <g id=\"patch_1\">\n   <path d=\"M 0 260.161875 \nL 368.657696 260.161875 \nL 368.657696 0 \nL 0 0 \nz\n\" style=\"fill:none;\"/>\n  </g>\n  <g id=\"axes_1\">\n   <g id=\"line2d_1\">\n    <path clip-path=\"url(#pbcf8aac2a0)\" d=\"M 52.895836 23.083636 \nL 168.9711 37.64093 \nL 148.284419 69.820211 \nL 210.344462 122.686173 \nL 255.54869 97.785539 \nL 340.97702 177.850655 \nL 296.155878 220.756364 \nL 78.562643 183.213869 \nL 89.672157 95.870106 \nL 51.363489 84.760592 \nL 52.895836 23.083636 \n\" style=\"fill:none;stroke:#0000ff;stroke-linecap:round;stroke-width:1.75;\"/>\n    <defs>\n     <path d=\"M 0 3.5 \nC 0.928211 3.5 1.81853 3.131218 2.474874 2.474874 \nC 3.131218 1.81853 3.5 0.928211 3.5 0 \nC 3.5 -0.928211 3.131218 -1.81853 2.474874 -2.474874 \nC 1.81853 -3.131218 0.928211 -3.5 0 -3.5 \nC -0.928211 -3.5 -1.81853 -3.131218 -2.474874 -2.474874 \nC -3.131218 -1.81853 -3.5 -0.928211 -3.5 0 \nC -3.5 0.928211 -3.131218 1.81853 -2.474874 2.474874 \nC -1.81853 3.131218 -0.928211 3.5 0 3.5 \nz\n\" id=\"ma7bdade3a6\"/>\n    </defs>\n    <g clip-path=\"url(#pbcf8aac2a0)\">\n     <use style=\"fill:#0000ff;\" x=\"52.895836\" xlink:href=\"#ma7bdade3a6\" y=\"23.083636\"/>\n     <use style=\"fill:#0000ff;\" x=\"168.9711\" xlink:href=\"#ma7bdade3a6\" y=\"37.64093\"/>\n     <use style=\"fill:#0000ff;\" x=\"148.284419\" xlink:href=\"#ma7bdade3a6\" y=\"69.820211\"/>\n     <use style=\"fill:#0000ff;\" x=\"210.344462\" xlink:href=\"#ma7bdade3a6\" y=\"122.686173\"/>\n     <use style=\"fill:#0000ff;\" x=\"255.54869\" xlink:href=\"#ma7bdade3a6\" y=\"97.785539\"/>\n     <use style=\"fill:#0000ff;\" x=\"340.97702\" xlink:href=\"#ma7bdade3a6\" y=\"177.850655\"/>\n     <use style=\"fill:#0000ff;\" x=\"296.155878\" xlink:href=\"#ma7bdade3a6\" y=\"220.756364\"/>\n     <use style=\"fill:#0000ff;\" x=\"78.562643\" xlink:href=\"#ma7bdade3a6\" y=\"183.213869\"/>\n     <use style=\"fill:#0000ff;\" x=\"89.672157\" xlink:href=\"#ma7bdade3a6\" y=\"95.870106\"/>\n     <use style=\"fill:#0000ff;\" x=\"51.363489\" xlink:href=\"#ma7bdade3a6\" y=\"84.760592\"/>\n     <use style=\"fill:#0000ff;\" x=\"52.895836\" xlink:href=\"#ma7bdade3a6\" y=\"23.083636\"/>\n    </g>\n   </g>\n  </g>\n </g>\n <defs>\n  <clipPath id=\"pbcf8aac2a0\">\n   <rect height=\"217.44\" width=\"318.574884\" x=\"36.882812\" y=\"13.2\"/>\n  </clipPath>\n </defs>\n</svg>\n"
          },
          "metadata": {
            "tags": []
          }
        },
        {
          "output_type": "stream",
          "text": [
            "10 city tour with length 2291.8 in 2.446 secs for alltours_tsp\n"
          ],
          "name": "stdout"
        }
      ]
    },
    {
      "metadata": {
        "id": "qut47g9oIPRb",
        "colab_type": "code",
        "colab": {}
      },
      "cell_type": "code",
      "source": [
        "def nn_tsp(cities):\n",
        "    \"\"\"Start the tour at the first city; at each step extend the tour \n",
        "    by moving from the previous city to the nearest neighboring city, C,\n",
        "    that has not yet been visited.\"\"\"\n",
        "    start = first(cities)\n",
        "    tour = [start]\n",
        "    unvisited = set(cities - {start})\n",
        "    while unvisited:\n",
        "        C = nearest_neighbor(tour[-1], unvisited)\n",
        "        tour.append(C)\n",
        "        unvisited.remove(C)\n",
        "    return tour\n",
        "\n",
        "def nearest_neighbor(A, cities):\n",
        "    \"Find the city in cities that is nearest to city A.\"\n",
        "    return min(cities, key=lambda c: distance(c, A))"
      ],
      "execution_count": 0,
      "outputs": []
    },
    {
      "metadata": {
        "id": "WibNvgqgITh9",
        "colab_type": "code",
        "colab": {
          "base_uri": "https://localhost:8080/",
          "height": 384
        },
        "outputId": "44dc4baf-cdec-4ce7-9381-0d1bf44a9464"
      },
      "cell_type": "code",
      "source": [
        "plot_tsp(alltours_tsp, Cities(10))\n"
      ],
      "execution_count": 78,
      "outputs": [
        {
          "output_type": "display_data",
          "data": {
            "text/plain": [
              "<matplotlib.figure.Figure at 0x7fb7954584e0>"
            ],
            "image/svg+xml": "<?xml version=\"1.0\" encoding=\"utf-8\" standalone=\"no\"?>\n<!DOCTYPE svg PUBLIC \"-//W3C//DTD SVG 1.1//EN\"\n  \"http://www.w3.org/Graphics/SVG/1.1/DTD/svg11.dtd\">\n<!-- Created with matplotlib (http://matplotlib.org/) -->\n<svg height=\"260pt\" version=\"1.1\" viewBox=\"0 0 368 260\" width=\"368pt\" xmlns=\"http://www.w3.org/2000/svg\" xmlns:xlink=\"http://www.w3.org/1999/xlink\">\n <defs>\n  <style type=\"text/css\">\n*{stroke-linecap:butt;stroke-linejoin:round;}\n  </style>\n </defs>\n <g id=\"figure_1\">\n  <g id=\"patch_1\">\n   <path d=\"M 0 260.161875 \nL 368.657696 260.161875 \nL 368.657696 0 \nL 0 0 \nz\n\" style=\"fill:none;\"/>\n  </g>\n  <g id=\"axes_1\">\n   <g id=\"line2d_1\">\n    <path clip-path=\"url(#p0006e391f1)\" d=\"M 52.895836 23.083636 \nL 168.9711 37.64093 \nL 148.284419 69.820211 \nL 210.344462 122.686173 \nL 255.54869 97.785539 \nL 340.97702 177.850655 \nL 296.155878 220.756364 \nL 78.562643 183.213869 \nL 89.672157 95.870106 \nL 51.363489 84.760592 \nL 52.895836 23.083636 \n\" style=\"fill:none;stroke:#0000ff;stroke-linecap:round;stroke-width:1.75;\"/>\n    <defs>\n     <path d=\"M 0 3.5 \nC 0.928211 3.5 1.81853 3.131218 2.474874 2.474874 \nC 3.131218 1.81853 3.5 0.928211 3.5 0 \nC 3.5 -0.928211 3.131218 -1.81853 2.474874 -2.474874 \nC 1.81853 -3.131218 0.928211 -3.5 0 -3.5 \nC -0.928211 -3.5 -1.81853 -3.131218 -2.474874 -2.474874 \nC -3.131218 -1.81853 -3.5 -0.928211 -3.5 0 \nC -3.5 0.928211 -3.131218 1.81853 -2.474874 2.474874 \nC -1.81853 3.131218 -0.928211 3.5 0 3.5 \nz\n\" id=\"mbd0be033d4\"/>\n    </defs>\n    <g clip-path=\"url(#p0006e391f1)\">\n     <use style=\"fill:#0000ff;\" x=\"52.895836\" xlink:href=\"#mbd0be033d4\" y=\"23.083636\"/>\n     <use style=\"fill:#0000ff;\" x=\"168.9711\" xlink:href=\"#mbd0be033d4\" y=\"37.64093\"/>\n     <use style=\"fill:#0000ff;\" x=\"148.284419\" xlink:href=\"#mbd0be033d4\" y=\"69.820211\"/>\n     <use style=\"fill:#0000ff;\" x=\"210.344462\" xlink:href=\"#mbd0be033d4\" y=\"122.686173\"/>\n     <use style=\"fill:#0000ff;\" x=\"255.54869\" xlink:href=\"#mbd0be033d4\" y=\"97.785539\"/>\n     <use style=\"fill:#0000ff;\" x=\"340.97702\" xlink:href=\"#mbd0be033d4\" y=\"177.850655\"/>\n     <use style=\"fill:#0000ff;\" x=\"296.155878\" xlink:href=\"#mbd0be033d4\" y=\"220.756364\"/>\n     <use style=\"fill:#0000ff;\" x=\"78.562643\" xlink:href=\"#mbd0be033d4\" y=\"183.213869\"/>\n     <use style=\"fill:#0000ff;\" x=\"89.672157\" xlink:href=\"#mbd0be033d4\" y=\"95.870106\"/>\n     <use style=\"fill:#0000ff;\" x=\"51.363489\" xlink:href=\"#mbd0be033d4\" y=\"84.760592\"/>\n     <use style=\"fill:#0000ff;\" x=\"52.895836\" xlink:href=\"#mbd0be033d4\" y=\"23.083636\"/>\n    </g>\n   </g>\n  </g>\n </g>\n <defs>\n  <clipPath id=\"p0006e391f1\">\n   <rect height=\"217.44\" width=\"318.574884\" x=\"36.882812\" y=\"13.2\"/>\n  </clipPath>\n </defs>\n</svg>\n"
          },
          "metadata": {
            "tags": []
          }
        },
        {
          "output_type": "stream",
          "text": [
            "10 city tour with length 2291.8 in 2.369 secs for alltours_tsp\n"
          ],
          "name": "stdout"
        }
      ]
    },
    {
      "metadata": {
        "id": "HX8_zoUZIWhX",
        "colab_type": "code",
        "colab": {
          "base_uri": "https://localhost:8080/",
          "height": 384
        },
        "outputId": "603116ee-fcca-4805-f876-cb83ae3d9621"
      },
      "cell_type": "code",
      "source": [
        "plot_tsp(nn_tsp, Cities(125))\n"
      ],
      "execution_count": 82,
      "outputs": [
        {
          "output_type": "display_data",
          "data": {
            "text/plain": [
              "<matplotlib.figure.Figure at 0x7fb761b21438>"
            ],
            "image/svg+xml": "<?xml version=\"1.0\" encoding=\"utf-8\" standalone=\"no\"?>\n<!DOCTYPE svg PUBLIC \"-//W3C//DTD SVG 1.1//EN\"\n  \"http://www.w3.org/Graphics/SVG/1.1/DTD/svg11.dtd\">\n<!-- Created with matplotlib (http://matplotlib.org/) -->\n<svg height=\"260pt\" version=\"1.1\" viewBox=\"0 0 378 260\" width=\"378pt\" xmlns=\"http://www.w3.org/2000/svg\" xmlns:xlink=\"http://www.w3.org/1999/xlink\">\n <defs>\n  <style type=\"text/css\">\n*{stroke-linecap:butt;stroke-linejoin:round;}\n  </style>\n </defs>\n <g id=\"figure_1\">\n  <g id=\"patch_1\">\n   <path d=\"M 0 260.161875 \nL 378.840219 260.161875 \nL 378.840219 0 \nL 0 0 \nz\n\" style=\"fill:none;\"/>\n  </g>\n  <g id=\"axes_1\">\n   <g id=\"line2d_1\">\n    <path clip-path=\"url(#p0df9612d3d)\" d=\"M 305.495087 115.510816 \nL 322.36136 104.04175 \nL 325.059964 94.596637 \nL 320.674733 91.560707 \nL 310.892294 80.428967 \nL 306.507063 77.393038 \nL 296.724624 77.730363 \nL 292.339393 84.139547 \nL 292.002068 95.608613 \nL 295.712648 96.957915 \nL 276.485096 75.031759 \nL 280.870327 70.309203 \nL 268.051959 79.41699 \nL 255.233591 77.393038 \nL 224.874299 72.333155 \nL 210.031978 74.357108 \nL 205.984072 59.177462 \nL 196.876284 61.201415 \nL 185.407218 81.778269 \nL 171.576874 73.345132 \nL 170.564898 90.211406 \nL 165.16769 101.680472 \nL 156.397228 86.838151 \nL 155.385251 52.430953 \nL 138.181652 41.973863 \nL 131.435143 45.009792 \nL 147.28944 33.203401 \nL 154.373275 26.794217 \nL 175.962105 34.890028 \nL 178.660709 33.878052 \nL 173.600827 42.648514 \nL 225.211624 44.335141 \nL 227.910228 42.985839 \nL 231.283483 32.52875 \nL 275.135794 28.818169 \nL 286.267535 47.37107 \nL 318.988106 26.456891 \nL 341.588912 32.866075 \nL 334.505077 52.430953 \nL 348.672747 68.28525 \nL 349.347398 105.728377 \nL 339.902285 123.269302 \nL 329.10787 126.305231 \nL 327.758568 147.21941 \nL 344.962167 153.628594 \nL 326.071941 172.181496 \nL 329.445195 179.939981 \nL 317.638804 171.169519 \nL 304.145785 160.712429 \nL 297.399275 171.506845 \nL 288.628813 193.095675 \nL 288.291488 195.119628 \nL 288.291488 204.564741 \nL 281.207653 220.419038 \nL 296.387299 220.756364 \nL 316.289502 219.744387 \nL 326.746592 205.239392 \nL 348.672747 211.648576 \nL 350.6967 204.564741 \nL 300.435205 142.159528 \nL 283.906256 126.305231 \nL 241.065921 110.788259 \nL 239.379294 111.46291 \nL 218.127789 111.46291 \nL 206.996049 117.872094 \nL 201.598841 113.486863 \nL 196.876284 99.993844 \nL 176.636756 115.848141 \nL 175.287454 120.908024 \nL 180.347336 127.317208 \nL 166.854317 144.520807 \nL 149.313393 148.568712 \nL 135.820374 133.051741 \nL 131.097817 118.884071 \nL 108.834336 117.197443 \nL 105.461081 99.993844 \nL 93.317364 101.343146 \nL 104.78643 70.983854 \nL 82.185624 67.947924 \nL 88.594808 52.430953 \nL 67.005977 41.973863 \nL 58.235515 34.215377 \nL 54.187609 34.215377 \nL 63.632723 84.476872 \nL 53.512958 126.642557 \nL 51.826331 152.953944 \nL 54.524935 164.085684 \nL 67.343303 180.614632 \nL 66.331326 184.325213 \nL 71.728534 191.409047 \nL 82.860274 196.806255 \nL 82.860274 202.878114 \nL 74.764463 211.648576 \nL 72.74051 210.299274 \nL 55.874237 186.349165 \nL 76.788416 171.169519 \nL 99.726548 159.700453 \nL 104.111779 150.929991 \nL 113.894218 154.640571 \nL 126.375261 151.604642 \nL 132.447119 163.748359 \nL 119.966077 173.193472 \nL 141.217581 204.564741 \nL 133.459095 218.732411 \nL 123.002006 213.672529 \nL 157.071879 208.612647 \nL 169.215596 212.997878 \nL 183.720591 203.215439 \nL 165.505015 191.746373 \nL 181.359313 173.530797 \nL 184.395242 162.061731 \nL 198.225586 153.96592 \nL 203.622794 174.542774 \nL 219.139766 184.999863 \nL 216.441162 192.421024 \nL 204.297445 193.770326 \nL 241.403247 157.6765 \nL 261.642775 180.951958 \nL 270.075912 182.30126 \nL 262.992077 192.421024 \nL 95.678642 141.484877 \nL 86.570855 147.21941 \nL 113.556893 28.143518 \nL 118.279449 23.758287 \nL 108.834336 23.083636 \nL 305.495087 115.510816 \n\" style=\"fill:none;stroke:#0000ff;stroke-linecap:round;stroke-width:1.75;\"/>\n    <defs>\n     <path d=\"M 0 3.5 \nC 0.928211 3.5 1.81853 3.131218 2.474874 2.474874 \nC 3.131218 1.81853 3.5 0.928211 3.5 0 \nC 3.5 -0.928211 3.131218 -1.81853 2.474874 -2.474874 \nC 1.81853 -3.131218 0.928211 -3.5 0 -3.5 \nC -0.928211 -3.5 -1.81853 -3.131218 -2.474874 -2.474874 \nC -3.131218 -1.81853 -3.5 -0.928211 -3.5 0 \nC -3.5 0.928211 -3.131218 1.81853 -2.474874 2.474874 \nC -1.81853 3.131218 -0.928211 3.5 0 3.5 \nz\n\" id=\"m22a0477d83\"/>\n    </defs>\n    <g clip-path=\"url(#p0df9612d3d)\">\n     <use style=\"fill:#0000ff;\" x=\"305.495087\" xlink:href=\"#m22a0477d83\" y=\"115.510816\"/>\n     <use style=\"fill:#0000ff;\" x=\"322.36136\" xlink:href=\"#m22a0477d83\" y=\"104.04175\"/>\n     <use style=\"fill:#0000ff;\" x=\"325.059964\" xlink:href=\"#m22a0477d83\" y=\"94.596637\"/>\n     <use style=\"fill:#0000ff;\" x=\"320.674733\" xlink:href=\"#m22a0477d83\" y=\"91.560707\"/>\n     <use style=\"fill:#0000ff;\" x=\"310.892294\" xlink:href=\"#m22a0477d83\" y=\"80.428967\"/>\n     <use style=\"fill:#0000ff;\" x=\"306.507063\" xlink:href=\"#m22a0477d83\" y=\"77.393038\"/>\n     <use style=\"fill:#0000ff;\" x=\"296.724624\" xlink:href=\"#m22a0477d83\" y=\"77.730363\"/>\n     <use style=\"fill:#0000ff;\" x=\"292.339393\" xlink:href=\"#m22a0477d83\" y=\"84.139547\"/>\n     <use style=\"fill:#0000ff;\" x=\"292.002068\" xlink:href=\"#m22a0477d83\" y=\"95.608613\"/>\n     <use style=\"fill:#0000ff;\" x=\"295.712648\" xlink:href=\"#m22a0477d83\" y=\"96.957915\"/>\n     <use style=\"fill:#0000ff;\" x=\"276.485096\" xlink:href=\"#m22a0477d83\" y=\"75.031759\"/>\n     <use style=\"fill:#0000ff;\" x=\"280.870327\" xlink:href=\"#m22a0477d83\" y=\"70.309203\"/>\n     <use style=\"fill:#0000ff;\" x=\"268.051959\" xlink:href=\"#m22a0477d83\" y=\"79.41699\"/>\n     <use style=\"fill:#0000ff;\" x=\"255.233591\" xlink:href=\"#m22a0477d83\" y=\"77.393038\"/>\n     <use style=\"fill:#0000ff;\" x=\"224.874299\" xlink:href=\"#m22a0477d83\" y=\"72.333155\"/>\n     <use style=\"fill:#0000ff;\" x=\"210.031978\" xlink:href=\"#m22a0477d83\" y=\"74.357108\"/>\n     <use style=\"fill:#0000ff;\" x=\"205.984072\" xlink:href=\"#m22a0477d83\" y=\"59.177462\"/>\n     <use style=\"fill:#0000ff;\" x=\"196.876284\" xlink:href=\"#m22a0477d83\" y=\"61.201415\"/>\n     <use style=\"fill:#0000ff;\" x=\"185.407218\" xlink:href=\"#m22a0477d83\" y=\"81.778269\"/>\n     <use style=\"fill:#0000ff;\" x=\"171.576874\" xlink:href=\"#m22a0477d83\" y=\"73.345132\"/>\n     <use style=\"fill:#0000ff;\" x=\"170.564898\" xlink:href=\"#m22a0477d83\" y=\"90.211406\"/>\n     <use style=\"fill:#0000ff;\" x=\"165.16769\" xlink:href=\"#m22a0477d83\" y=\"101.680472\"/>\n     <use style=\"fill:#0000ff;\" x=\"156.397228\" xlink:href=\"#m22a0477d83\" y=\"86.838151\"/>\n     <use style=\"fill:#0000ff;\" x=\"155.385251\" xlink:href=\"#m22a0477d83\" y=\"52.430953\"/>\n     <use style=\"fill:#0000ff;\" x=\"138.181652\" xlink:href=\"#m22a0477d83\" y=\"41.973863\"/>\n     <use style=\"fill:#0000ff;\" x=\"131.435143\" xlink:href=\"#m22a0477d83\" y=\"45.009792\"/>\n     <use style=\"fill:#0000ff;\" x=\"147.28944\" xlink:href=\"#m22a0477d83\" y=\"33.203401\"/>\n     <use style=\"fill:#0000ff;\" x=\"154.373275\" xlink:href=\"#m22a0477d83\" y=\"26.794217\"/>\n     <use style=\"fill:#0000ff;\" x=\"175.962105\" xlink:href=\"#m22a0477d83\" y=\"34.890028\"/>\n     <use style=\"fill:#0000ff;\" x=\"178.660709\" xlink:href=\"#m22a0477d83\" y=\"33.878052\"/>\n     <use style=\"fill:#0000ff;\" x=\"173.600827\" xlink:href=\"#m22a0477d83\" y=\"42.648514\"/>\n     <use style=\"fill:#0000ff;\" x=\"225.211624\" xlink:href=\"#m22a0477d83\" y=\"44.335141\"/>\n     <use style=\"fill:#0000ff;\" x=\"227.910228\" xlink:href=\"#m22a0477d83\" y=\"42.985839\"/>\n     <use style=\"fill:#0000ff;\" x=\"231.283483\" xlink:href=\"#m22a0477d83\" y=\"32.52875\"/>\n     <use style=\"fill:#0000ff;\" x=\"275.135794\" xlink:href=\"#m22a0477d83\" y=\"28.818169\"/>\n     <use style=\"fill:#0000ff;\" x=\"286.267535\" xlink:href=\"#m22a0477d83\" y=\"47.37107\"/>\n     <use style=\"fill:#0000ff;\" x=\"318.988106\" xlink:href=\"#m22a0477d83\" y=\"26.456891\"/>\n     <use style=\"fill:#0000ff;\" x=\"341.588912\" xlink:href=\"#m22a0477d83\" y=\"32.866075\"/>\n     <use style=\"fill:#0000ff;\" x=\"334.505077\" xlink:href=\"#m22a0477d83\" y=\"52.430953\"/>\n     <use style=\"fill:#0000ff;\" x=\"348.672747\" xlink:href=\"#m22a0477d83\" y=\"68.28525\"/>\n     <use style=\"fill:#0000ff;\" x=\"349.347398\" xlink:href=\"#m22a0477d83\" y=\"105.728377\"/>\n     <use style=\"fill:#0000ff;\" x=\"339.902285\" xlink:href=\"#m22a0477d83\" y=\"123.269302\"/>\n     <use style=\"fill:#0000ff;\" x=\"329.10787\" xlink:href=\"#m22a0477d83\" y=\"126.305231\"/>\n     <use style=\"fill:#0000ff;\" x=\"327.758568\" xlink:href=\"#m22a0477d83\" y=\"147.21941\"/>\n     <use style=\"fill:#0000ff;\" x=\"344.962167\" xlink:href=\"#m22a0477d83\" y=\"153.628594\"/>\n     <use style=\"fill:#0000ff;\" x=\"326.071941\" xlink:href=\"#m22a0477d83\" y=\"172.181496\"/>\n     <use style=\"fill:#0000ff;\" x=\"329.445195\" xlink:href=\"#m22a0477d83\" y=\"179.939981\"/>\n     <use style=\"fill:#0000ff;\" x=\"317.638804\" xlink:href=\"#m22a0477d83\" y=\"171.169519\"/>\n     <use style=\"fill:#0000ff;\" x=\"304.145785\" xlink:href=\"#m22a0477d83\" y=\"160.712429\"/>\n     <use style=\"fill:#0000ff;\" x=\"297.399275\" xlink:href=\"#m22a0477d83\" y=\"171.506845\"/>\n     <use style=\"fill:#0000ff;\" x=\"288.628813\" xlink:href=\"#m22a0477d83\" y=\"193.095675\"/>\n     <use style=\"fill:#0000ff;\" x=\"288.291488\" xlink:href=\"#m22a0477d83\" y=\"195.119628\"/>\n     <use style=\"fill:#0000ff;\" x=\"288.291488\" xlink:href=\"#m22a0477d83\" y=\"204.564741\"/>\n     <use style=\"fill:#0000ff;\" x=\"281.207653\" xlink:href=\"#m22a0477d83\" y=\"220.419038\"/>\n     <use style=\"fill:#0000ff;\" x=\"296.387299\" xlink:href=\"#m22a0477d83\" y=\"220.756364\"/>\n     <use style=\"fill:#0000ff;\" x=\"316.289502\" xlink:href=\"#m22a0477d83\" y=\"219.744387\"/>\n     <use style=\"fill:#0000ff;\" x=\"326.746592\" xlink:href=\"#m22a0477d83\" y=\"205.239392\"/>\n     <use style=\"fill:#0000ff;\" x=\"348.672747\" xlink:href=\"#m22a0477d83\" y=\"211.648576\"/>\n     <use style=\"fill:#0000ff;\" x=\"350.6967\" xlink:href=\"#m22a0477d83\" y=\"204.564741\"/>\n     <use style=\"fill:#0000ff;\" x=\"300.435205\" xlink:href=\"#m22a0477d83\" y=\"142.159528\"/>\n     <use style=\"fill:#0000ff;\" x=\"283.906256\" xlink:href=\"#m22a0477d83\" y=\"126.305231\"/>\n     <use style=\"fill:#0000ff;\" x=\"241.065921\" xlink:href=\"#m22a0477d83\" y=\"110.788259\"/>\n     <use style=\"fill:#0000ff;\" x=\"239.379294\" xlink:href=\"#m22a0477d83\" y=\"111.46291\"/>\n     <use style=\"fill:#0000ff;\" x=\"218.127789\" xlink:href=\"#m22a0477d83\" y=\"111.46291\"/>\n     <use style=\"fill:#0000ff;\" x=\"206.996049\" xlink:href=\"#m22a0477d83\" y=\"117.872094\"/>\n     <use style=\"fill:#0000ff;\" x=\"201.598841\" xlink:href=\"#m22a0477d83\" y=\"113.486863\"/>\n     <use style=\"fill:#0000ff;\" x=\"196.876284\" xlink:href=\"#m22a0477d83\" y=\"99.993844\"/>\n     <use style=\"fill:#0000ff;\" x=\"176.636756\" xlink:href=\"#m22a0477d83\" y=\"115.848141\"/>\n     <use style=\"fill:#0000ff;\" x=\"175.287454\" xlink:href=\"#m22a0477d83\" y=\"120.908024\"/>\n     <use style=\"fill:#0000ff;\" x=\"180.347336\" xlink:href=\"#m22a0477d83\" y=\"127.317208\"/>\n     <use style=\"fill:#0000ff;\" x=\"166.854317\" xlink:href=\"#m22a0477d83\" y=\"144.520807\"/>\n     <use style=\"fill:#0000ff;\" x=\"149.313393\" xlink:href=\"#m22a0477d83\" y=\"148.568712\"/>\n     <use style=\"fill:#0000ff;\" x=\"135.820374\" xlink:href=\"#m22a0477d83\" y=\"133.051741\"/>\n     <use style=\"fill:#0000ff;\" x=\"131.097817\" xlink:href=\"#m22a0477d83\" y=\"118.884071\"/>\n     <use style=\"fill:#0000ff;\" x=\"108.834336\" xlink:href=\"#m22a0477d83\" y=\"117.197443\"/>\n     <use style=\"fill:#0000ff;\" x=\"105.461081\" xlink:href=\"#m22a0477d83\" y=\"99.993844\"/>\n     <use style=\"fill:#0000ff;\" x=\"93.317364\" xlink:href=\"#m22a0477d83\" y=\"101.343146\"/>\n     <use style=\"fill:#0000ff;\" x=\"104.78643\" xlink:href=\"#m22a0477d83\" y=\"70.983854\"/>\n     <use style=\"fill:#0000ff;\" x=\"82.185624\" xlink:href=\"#m22a0477d83\" y=\"67.947924\"/>\n     <use style=\"fill:#0000ff;\" x=\"88.594808\" xlink:href=\"#m22a0477d83\" y=\"52.430953\"/>\n     <use style=\"fill:#0000ff;\" x=\"67.005977\" xlink:href=\"#m22a0477d83\" y=\"41.973863\"/>\n     <use style=\"fill:#0000ff;\" x=\"58.235515\" xlink:href=\"#m22a0477d83\" y=\"34.215377\"/>\n     <use style=\"fill:#0000ff;\" x=\"54.187609\" xlink:href=\"#m22a0477d83\" y=\"34.215377\"/>\n     <use style=\"fill:#0000ff;\" x=\"63.632723\" xlink:href=\"#m22a0477d83\" y=\"84.476872\"/>\n     <use style=\"fill:#0000ff;\" x=\"53.512958\" xlink:href=\"#m22a0477d83\" y=\"126.642557\"/>\n     <use style=\"fill:#0000ff;\" x=\"51.826331\" xlink:href=\"#m22a0477d83\" y=\"152.953944\"/>\n     <use style=\"fill:#0000ff;\" x=\"54.524935\" xlink:href=\"#m22a0477d83\" y=\"164.085684\"/>\n     <use style=\"fill:#0000ff;\" x=\"67.343303\" xlink:href=\"#m22a0477d83\" y=\"180.614632\"/>\n     <use style=\"fill:#0000ff;\" x=\"66.331326\" xlink:href=\"#m22a0477d83\" y=\"184.325213\"/>\n     <use style=\"fill:#0000ff;\" x=\"71.728534\" xlink:href=\"#m22a0477d83\" y=\"191.409047\"/>\n     <use style=\"fill:#0000ff;\" x=\"82.860274\" xlink:href=\"#m22a0477d83\" y=\"196.806255\"/>\n     <use style=\"fill:#0000ff;\" x=\"82.860274\" xlink:href=\"#m22a0477d83\" y=\"202.878114\"/>\n     <use style=\"fill:#0000ff;\" x=\"74.764463\" xlink:href=\"#m22a0477d83\" y=\"211.648576\"/>\n     <use style=\"fill:#0000ff;\" x=\"72.74051\" xlink:href=\"#m22a0477d83\" y=\"210.299274\"/>\n     <use style=\"fill:#0000ff;\" x=\"55.874237\" xlink:href=\"#m22a0477d83\" y=\"186.349165\"/>\n     <use style=\"fill:#0000ff;\" x=\"76.788416\" xlink:href=\"#m22a0477d83\" y=\"171.169519\"/>\n     <use style=\"fill:#0000ff;\" x=\"99.726548\" xlink:href=\"#m22a0477d83\" y=\"159.700453\"/>\n     <use style=\"fill:#0000ff;\" x=\"104.111779\" xlink:href=\"#m22a0477d83\" y=\"150.929991\"/>\n     <use style=\"fill:#0000ff;\" x=\"113.894218\" xlink:href=\"#m22a0477d83\" y=\"154.640571\"/>\n     <use style=\"fill:#0000ff;\" x=\"126.375261\" xlink:href=\"#m22a0477d83\" y=\"151.604642\"/>\n     <use style=\"fill:#0000ff;\" x=\"132.447119\" xlink:href=\"#m22a0477d83\" y=\"163.748359\"/>\n     <use style=\"fill:#0000ff;\" x=\"119.966077\" xlink:href=\"#m22a0477d83\" y=\"173.193472\"/>\n     <use style=\"fill:#0000ff;\" x=\"141.217581\" xlink:href=\"#m22a0477d83\" y=\"204.564741\"/>\n     <use style=\"fill:#0000ff;\" x=\"133.459095\" xlink:href=\"#m22a0477d83\" y=\"218.732411\"/>\n     <use style=\"fill:#0000ff;\" x=\"123.002006\" xlink:href=\"#m22a0477d83\" y=\"213.672529\"/>\n     <use style=\"fill:#0000ff;\" x=\"157.071879\" xlink:href=\"#m22a0477d83\" y=\"208.612647\"/>\n     <use style=\"fill:#0000ff;\" x=\"169.215596\" xlink:href=\"#m22a0477d83\" y=\"212.997878\"/>\n     <use style=\"fill:#0000ff;\" x=\"183.720591\" xlink:href=\"#m22a0477d83\" y=\"203.215439\"/>\n     <use style=\"fill:#0000ff;\" x=\"165.505015\" xlink:href=\"#m22a0477d83\" y=\"191.746373\"/>\n     <use style=\"fill:#0000ff;\" x=\"181.359313\" xlink:href=\"#m22a0477d83\" y=\"173.530797\"/>\n     <use style=\"fill:#0000ff;\" x=\"184.395242\" xlink:href=\"#m22a0477d83\" y=\"162.061731\"/>\n     <use style=\"fill:#0000ff;\" x=\"198.225586\" xlink:href=\"#m22a0477d83\" y=\"153.96592\"/>\n     <use style=\"fill:#0000ff;\" x=\"203.622794\" xlink:href=\"#m22a0477d83\" y=\"174.542774\"/>\n     <use style=\"fill:#0000ff;\" x=\"219.139766\" xlink:href=\"#m22a0477d83\" y=\"184.999863\"/>\n     <use style=\"fill:#0000ff;\" x=\"216.441162\" xlink:href=\"#m22a0477d83\" y=\"192.421024\"/>\n     <use style=\"fill:#0000ff;\" x=\"204.297445\" xlink:href=\"#m22a0477d83\" y=\"193.770326\"/>\n     <use style=\"fill:#0000ff;\" x=\"241.403247\" xlink:href=\"#m22a0477d83\" y=\"157.6765\"/>\n     <use style=\"fill:#0000ff;\" x=\"261.642775\" xlink:href=\"#m22a0477d83\" y=\"180.951958\"/>\n     <use style=\"fill:#0000ff;\" x=\"270.075912\" xlink:href=\"#m22a0477d83\" y=\"182.30126\"/>\n     <use style=\"fill:#0000ff;\" x=\"262.992077\" xlink:href=\"#m22a0477d83\" y=\"192.421024\"/>\n     <use style=\"fill:#0000ff;\" x=\"95.678642\" xlink:href=\"#m22a0477d83\" y=\"141.484877\"/>\n     <use style=\"fill:#0000ff;\" x=\"86.570855\" xlink:href=\"#m22a0477d83\" y=\"147.21941\"/>\n     <use style=\"fill:#0000ff;\" x=\"113.556893\" xlink:href=\"#m22a0477d83\" y=\"28.143518\"/>\n     <use style=\"fill:#0000ff;\" x=\"118.279449\" xlink:href=\"#m22a0477d83\" y=\"23.758287\"/>\n     <use style=\"fill:#0000ff;\" x=\"108.834336\" xlink:href=\"#m22a0477d83\" y=\"23.083636\"/>\n     <use style=\"fill:#0000ff;\" x=\"305.495087\" xlink:href=\"#m22a0477d83\" y=\"115.510816\"/>\n    </g>\n   </g>\n  </g>\n </g>\n <defs>\n  <clipPath id=\"p0df9612d3d\">\n   <rect height=\"217.44\" width=\"328.757406\" x=\"36.882813\" y=\"13.2\"/>\n  </clipPath>\n </defs>\n</svg>\n"
          },
          "metadata": {
            "tags": []
          }
        },
        {
          "output_type": "stream",
          "text": [
            "125 city tour with length 8095.3 in 0.005 secs for nn_tsp\n"
          ],
          "name": "stdout"
        }
      ]
    },
    {
      "metadata": {
        "id": "BT9gdS7viJZa",
        "colab_type": "text"
      },
      "cell_type": "markdown",
      "source": [
        "### Assignment questions\n",
        "\n",
        "After you've worked on some code, answer the following questions in this text block:\n",
        "\n",
        "1.  Describe in a paragraph of text what you did and why, as if you were writing an email to somebody interested but nontechnical.\n",
        "\n",
        "This is solving the Traveling Salesman Problem, which states that given a set of cities and the distances between each pair of cities, what is the shortest possible tour that visits each city exactly once, and returns to the starting city?\n",
        "\n",
        "2.  What was the most challenging part of what you did?\n",
        "\n",
        "It was very challenging understanding the code, as we have not yet learned complex data science, and being able to follow the logic of the code was a bit tough.\n",
        "\n",
        "3.  What was the most interesting thing you learned?\n",
        "\n",
        "A very complex problem can be illustrated relatively simply with python. A large number of cities (I chose 125) can calculated very quickly\n",
        "\n",
        "4.  What area would you like to explore with more time?\n",
        "\n",
        "Detailed understanding of the code necessary to do this problem. Additionally, I tried other notebooks, but had a lot of trouble pulling data, and they were using advanced functions I didn't know how to use, so got a lot of error messages, so hopefully will be able to tackle these once I get my more python training.\n",
        "\n"
      ]
    },
    {
      "metadata": {
        "id": "_XXg2crAipwP",
        "colab_type": "text"
      },
      "cell_type": "markdown",
      "source": [
        "## Stretch goals and resources\n",
        "\n",
        "Following are *optional* things for you to take a look at. Focus on the above assignment first, and make sure to commit and push your changes to GitHub (and since this is the first assignment of the sprint, open a PR as well).\n",
        "\n",
        "- [pandas documentation](https://pandas.pydata.org/pandas-docs/stable/)\n",
        "- [scikit-learn documentation](http://scikit-learn.org/stable/documentation.html)\n",
        "- [matplotlib documentation](https://matplotlib.org/contents.html)\n",
        "- [Awesome Data Science](https://github.com/bulutyazilim/awesome-datascience) - a list of many types of DS resources\n",
        "\n",
        "Stretch goals:\n",
        "\n",
        "- Find and read blogs, walkthroughs, and other examples of people working through cool things with data science - and share with your classmates!\n",
        "- Write a blog post (Medium is a popular place to publish) introducing yourself as somebody learning data science, and talking about what you've learned already and what you're excited to learn more about"
      ]
    }
  ]
}