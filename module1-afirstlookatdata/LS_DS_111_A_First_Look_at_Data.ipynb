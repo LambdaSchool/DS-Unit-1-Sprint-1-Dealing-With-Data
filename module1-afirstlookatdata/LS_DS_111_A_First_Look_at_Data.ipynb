{
  "nbformat": 4,
  "nbformat_minor": 0,
  "metadata": {
    "colab": {
      "name": "LS_DS_111_A_First_Look_at_Data.ipynb",
      "version": "0.3.2",
      "provenance": []
    },
    "kernelspec": {
      "name": "python3",
      "display_name": "Python 3"
    }
  },
  "cells": [
    {
      "cell_type": "markdown",
      "metadata": {
        "id": "Okfr_uhwhS1X",
        "colab_type": "text"
      },
      "source": [
        "# Lambda School Data Science - A First Look at Data\n",
        "\n"
      ]
    },
    {
      "cell_type": "markdown",
      "metadata": {
        "id": "9dtJETFRhnOG",
        "colab_type": "text"
      },
      "source": [
        "## Lecture - let's explore Python DS libraries and examples!\n",
        "\n",
        "The Python Data Science ecosystem is huge. You've seen some of the big pieces - pandas, scikit-learn, matplotlib. What parts do you want to see more of?"
      ]
    },
    {
      "cell_type": "code",
      "metadata": {
        "id": "WiBkgmPJhmhE",
        "colab_type": "code",
        "colab": {}
      },
      "source": [
        "# TODO - we'll be doing this live, taking requests\n",
        "# and reproducing what it is to look up and learn things\n",
        "\n",
        "I would like to refamilirize myself with BeautifulSoup"
      ],
      "execution_count": 0,
      "outputs": []
    },
    {
      "cell_type": "markdown",
      "metadata": {
        "id": "lOqaPds9huME",
        "colab_type": "text"
      },
      "source": [
        "## Assignment - now it's your turn\n",
        "\n",
        "Pick at least one Python DS library, and using documentation/examples reproduce in this notebook something cool. It's OK if you don't fully understand it or get it 100% working, but do put in effort and look things up."
      ]
    },
    {
      "cell_type": "code",
      "metadata": {
        "id": "TGUS79cOhPWj",
        "colab_type": "code",
        "colab": {
          "base_uri": "https://localhost:8080/",
          "height": 136
        },
        "outputId": "0dd3b763-e901-4276-ec22-3943c04f9c03"
      },
      "source": [
        "# TODO - your code here\n",
        "# Use what we did live in lecture as an example\n",
        "\n",
        "#Scraping Data From Beer Advocate\n",
        "\n",
        "\n",
        "#Project 1 - Beer Bud Webscraper for data on popular beers from Beer Advocate\n",
        "\n",
        "#Data Points:\n",
        "#beerName\n",
        "#beerBrewer\n",
        "#beerDescription\n",
        "#beerABV\n",
        "#beerRatings\n",
        "#beerScore\n",
        "\n",
        "import requests, webbrowser, bs4, sys, re\n",
        "from pprint import pprint\n",
        "\n",
        "#URLs for Data Points\n",
        "popUrl = 'https://www.beeradvocate.com/lists/popular/'\n",
        "topUrl = 'https://www.beeradvocate.com/lists/top/'\n",
        "\n",
        "#Function to return all HTML data - Could this be improved? (Brett Qst)\n",
        "def requestUrl(url):\n",
        "    resUrl = requests.get(url)\n",
        "    resUrl.raise_for_status()\n",
        "    #TODO: Save to file & reuse htmlData\n",
        "    htmlData = bs4.BeautifulSoup(resUrl.text, \"lxml\")\n",
        "    return htmlData\n",
        "#Function to obtain specific elements from HTML. Both arguments must be strings\n",
        "def selectElements(url,selectMethod):\n",
        "    bsSelectElem = requestUrl(url).select(selectMethod)\n",
        "    return bsSelectElem\n",
        "#need to append an empty string for values not found\n",
        "def beerABV(url):\n",
        "    numericRegex = re.compile(r'''\n",
        "    (\\d+\\.\\d+%)\n",
        "    ''', re.VERBOSE)\n",
        "    foo = (requestUrl(url).getText())\n",
        "    result = numericRegex.findall(foo)\n",
        "    return (result)\n",
        "\n",
        "#HTML Elements:\n",
        "#TODO: Get elements from topUrl\n",
        "#Grabs Beer Name, Beer Brewer and Beer Type\n",
        "beerInfoElems = selectElements(popUrl,'td a')\n",
        "beerInfoElemsTop = selectElements(topUrl,'td a')\n",
        "#Grab Beer ABV\n",
        "beer_ABV = beerABV(popUrl)\n",
        "beer_ABV = beerABV(topUrl)\n",
        "#Grabs Rating and Score\n",
        "beerRankElems = selectElements(popUrl,'td b')\n",
        "beerRankElemsTop = selectElements(topUrl,'td b')\n",
        "\n",
        "def htmlStrip(elem):\n",
        "    result = []\n",
        "    for i in (elem):\n",
        "            elemStr = i.getText()\n",
        "            # elemStr = str(i)\n",
        "            # elemStr = re.sub(r'<.*?>','', elemStr)\n",
        "            result.append(elemStr)\n",
        "            #print(elemStr)\n",
        "    return result\n",
        "\n",
        "#Data Points in type list for POPULAR beers:\n",
        "beerName = (htmlStrip(beerInfoElems[0::3]))\n",
        "beerBrewer = (htmlStrip(beerInfoElems[1::3]))\n",
        "beerType = (htmlStrip(beerInfoElems[2::3]))\n",
        "beer_ABV = beerABV(popUrl)\n",
        "beerScore = (htmlStrip(beerRankElems[2::3]))\n",
        "beerRatings = (htmlStrip(beerRankElems[1::3]))\n",
        "\n",
        "#Data Points in type list TOP beers:\n",
        "beerNameTop = ((htmlStrip(beerInfoElemsTop[1::3])))\n",
        "beerBrewerTop = ((htmlStrip(beerInfoElemsTop[1::3])))\n",
        "beerTypeTop = ((htmlStrip(beerInfoElemsTop[2::3])))\n",
        "beer_ABV_Top = beerABV(topUrl)\n",
        "beerScoreTop = (htmlStrip(beerRankElemsTop[2::3]))\n",
        "beerRatingTop = (htmlStrip(beerRankElemsTop[1::3]))\n",
        "\n",
        "beerPopData = [beerName, beerBrewer, beerType, beer_ABV, beerScore, beerRatings]\n",
        "\n",
        "beerTopData = [beerNameTop, beerBrewerTop, beerTypeTop, beer_ABV_Top, beerScoreTop, beerRatingTop]\n",
        "\n",
        "\n"
      ],
      "execution_count": 16,
      "outputs": [
        {
          "output_type": "stream",
          "text": [
            "true\n",
            "true\n",
            "true\n",
            "false\n",
            "true\n",
            "true\n",
            "None\n"
          ],
          "name": "stdout"
        }
      ]
    },
    {
      "cell_type": "markdown",
      "metadata": {
        "id": "BT9gdS7viJZa",
        "colab_type": "text"
      },
      "source": [
        "### Assignment questions\n",
        "\n",
        "After you've worked on some code, answer the following questions in this text block:\n",
        "\n",
        "1.  Describe in a paragraph of text what you did and why, as if you were writing an email to somebody interested but nontechnical.\n",
        "\n",
        "This is using the library called \"BeautifulSoup\" to pull HTML data for different key datapoints from BeerAdvocate.com to help give insight on the most popular beers and the top rated beers. The data can be further used to assess correlation or metrics for different types of data points related to the different data types.\n",
        "\n",
        "2.  What was the most challenging part of what you did?\n",
        "\n",
        "The most challenging part of this assignment was collecting the data from the HTML from BeerAdvocate. The HTML elements, containers and use of Regex were a challenge based on how the website is structured.\n",
        "\n",
        "3.  What was the most interesting thing you learned?\n",
        "\n",
        "The most interesting thing I learned was actually looking at the HTML and understanding the backbone of webdesign. Web design is structured differently than most DS projects I am familiar with. \n",
        "\n",
        "4.  What area would you like to explore with more time?\n",
        "I would like to get deeper into the documentation of BeautifulSoup and see what kind of data aggregation I can do from websites with multiple pages and other more complex data collection BeautifulSoup can provide.\n",
        "\n",
        "\n"
      ]
    },
    {
      "cell_type": "markdown",
      "metadata": {
        "id": "_XXg2crAipwP",
        "colab_type": "text"
      },
      "source": [
        "## Stretch goals and resources\n",
        "\n",
        "Following are *optional* things for you to take a look at. Focus on the above assignment first, and make sure to commit and push your changes to GitHub (and since this is the first assignment of the sprint, open a PR as well).\n",
        "\n",
        "- [pandas documentation](https://pandas.pydata.org/pandas-docs/stable/)\n",
        "- [scikit-learn documentation](http://scikit-learn.org/stable/documentation.html)\n",
        "- [matplotlib documentation](https://matplotlib.org/contents.html)\n",
        "- [Awesome Data Science](https://github.com/bulutyazilim/awesome-datascience) - a list of many types of DS resources\n",
        "\n",
        "Stretch goals:\n",
        "\n",
        "- Find and read blogs, walkthroughs, and other examples of people working through cool things with data science - and share with your classmates!\n",
        "- Write a blog post (Medium is a popular place to publish) introducing yourself as somebody learning data science, and talking about what you've learned already and what you're excited to learn more about."
      ]
    }
  ]
}