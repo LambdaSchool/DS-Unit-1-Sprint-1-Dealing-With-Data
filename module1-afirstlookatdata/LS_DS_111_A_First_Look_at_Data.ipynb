{
  "nbformat": 4,
  "nbformat_minor": 0,
  "metadata": {
    "colab": {
      "name": "LS_DS_111_A_First_Look_at_Data.ipynb",
      "version": "0.3.2",
      "provenance": [],
      "include_colab_link": true
    },
    "kernelspec": {
      "name": "python3",
      "display_name": "Python 3"
    }
  },
  "cells": [
    {
      "cell_type": "markdown",
      "metadata": {
        "id": "view-in-github",
        "colab_type": "text"
      },
      "source": [
        "<a href=\"https://colab.research.google.com/github/maxim371/DS-Unit-1-Sprint-1-Dealing-With-Data/blob/master/module1-afirstlookatdata/LS_DS_111_A_First_Look_at_Data.ipynb\" target=\"_parent\"><img src=\"https://colab.research.google.com/assets/colab-badge.svg\" alt=\"Open In Colab\"/></a>"
      ]
    },
    {
      "cell_type": "markdown",
      "metadata": {
        "id": "Okfr_uhwhS1X",
        "colab_type": "text"
      },
      "source": [
        "# Lambda School Data Science - A First Look at Data\n",
        "\n"
      ]
    },
    {
      "cell_type": "markdown",
      "metadata": {
        "id": "9dtJETFRhnOG",
        "colab_type": "text"
      },
      "source": [
        "## Lecture - let's explore Python DS libraries and examples!\n",
        "\n",
        "The Python Data Science ecosystem is huge. You've seen some of the big pieces - pandas, scikit-learn, matplotlib. What parts do you want to see more of?"
      ]
    },
    {
      "cell_type": "code",
      "metadata": {
        "id": "WiBkgmPJhmhE",
        "colab_type": "code",
        "colab": {}
      },
      "source": [
        "# TODO - we'll be doing this live, taking requests\n",
        "# and reproducing what it is to look up and learn things\n",
        "import numpy as np\n",
        "import pandas as pd\n",
        "import seaborn as sns\n",
        "import matplotlib.pyplot as plt\n",
        "%matplotlib inline"
      ],
      "execution_count": 0,
      "outputs": []
    },
    {
      "cell_type": "code",
      "metadata": {
        "id": "Vx0SWLuCqZ1p",
        "colab_type": "code",
        "colab": {
          "base_uri": "https://localhost:8080/",
          "height": 204
        },
        "outputId": "47f79326-cf08-4880-d4db-ac02c28ca719"
      },
      "source": [
        "#getting data from github\n",
        "!wget 'https://raw.githubusercontent.com/fivethirtyeight/data/master/murder_2016/murder_2015_final.csv'"
      ],
      "execution_count": 14,
      "outputs": [
        {
          "output_type": "stream",
          "text": [
            "--2019-07-11 01:59:38--  https://raw.githubusercontent.com/fivethirtyeight/data/master/murder_2016/murder_2015_final.csv\n",
            "Resolving raw.githubusercontent.com (raw.githubusercontent.com)... 151.101.0.133, 151.101.64.133, 151.101.128.133, ...\n",
            "Connecting to raw.githubusercontent.com (raw.githubusercontent.com)|151.101.0.133|:443... connected.\n",
            "HTTP request sent, awaiting response... 200 OK\n",
            "Length: 2433 (2.4K) [text/plain]\n",
            "Saving to: ‘murder_2015_final.csv.1’\n",
            "\n",
            "\rmurder_2015_final.c   0%[                    ]       0  --.-KB/s               \rmurder_2015_final.c 100%[===================>]   2.38K  --.-KB/s    in 0s      \n",
            "\n",
            "2019-07-11 01:59:38 (53.8 MB/s) - ‘murder_2015_final.csv.1’ saved [2433/2433]\n",
            "\n"
          ],
          "name": "stdout"
        }
      ]
    },
    {
      "cell_type": "code",
      "metadata": {
        "id": "60mDT-G5qhzG",
        "colab_type": "code",
        "colab": {
          "base_uri": "https://localhost:8080/",
          "height": 34
        },
        "outputId": "295c3209-463b-4844-b412-3817fe392b35"
      },
      "source": [
        "!ls"
      ],
      "execution_count": 15,
      "outputs": [
        {
          "output_type": "stream",
          "text": [
            "hate_crimes.csv  murder_2015_final.csv\tmurder_2015_final.csv.1  sample_data\n"
          ],
          "name": "stdout"
        }
      ]
    },
    {
      "cell_type": "code",
      "metadata": {
        "id": "pABFquh0rGgU",
        "colab_type": "code",
        "colab": {
          "base_uri": "https://localhost:8080/",
          "height": 34
        },
        "outputId": "51c0d8d7-e29b-460b-9274-aed0f6b1cea3"
      },
      "source": [
        "murder = pd.read_csv('murder_2015_final.csv')\n",
        "print(murder.shape)"
      ],
      "execution_count": 16,
      "outputs": [
        {
          "output_type": "stream",
          "text": [
            "(83, 5)\n"
          ],
          "name": "stdout"
        }
      ]
    },
    {
      "cell_type": "code",
      "metadata": {
        "id": "Xi9d4eVwsgIB",
        "colab_type": "code",
        "colab": {
          "base_uri": "https://localhost:8080/",
          "height": 1000
        },
        "outputId": "6ba8f5e9-3200-4512-96fa-502e0a7b5e10"
      },
      "source": [
        "murder = pd.read_csv('https://raw.githubusercontent.com/fivethirtyeight/data/master/murder_2016/murder_2015_final.csv')\n",
        "print(murder.shape)\n",
        "murder"
      ],
      "execution_count": 17,
      "outputs": [
        {
          "output_type": "stream",
          "text": [
            "(83, 5)\n"
          ],
          "name": "stdout"
        },
        {
          "output_type": "execute_result",
          "data": {
            "text/html": [
              "<div>\n",
              "<style scoped>\n",
              "    .dataframe tbody tr th:only-of-type {\n",
              "        vertical-align: middle;\n",
              "    }\n",
              "\n",
              "    .dataframe tbody tr th {\n",
              "        vertical-align: top;\n",
              "    }\n",
              "\n",
              "    .dataframe thead th {\n",
              "        text-align: right;\n",
              "    }\n",
              "</style>\n",
              "<table border=\"1\" class=\"dataframe\">\n",
              "  <thead>\n",
              "    <tr style=\"text-align: right;\">\n",
              "      <th></th>\n",
              "      <th>city</th>\n",
              "      <th>state</th>\n",
              "      <th>2014_murders</th>\n",
              "      <th>2015_murders</th>\n",
              "      <th>change</th>\n",
              "    </tr>\n",
              "  </thead>\n",
              "  <tbody>\n",
              "    <tr>\n",
              "      <th>0</th>\n",
              "      <td>Baltimore</td>\n",
              "      <td>Maryland</td>\n",
              "      <td>211</td>\n",
              "      <td>344</td>\n",
              "      <td>133</td>\n",
              "    </tr>\n",
              "    <tr>\n",
              "      <th>1</th>\n",
              "      <td>Chicago</td>\n",
              "      <td>Illinois</td>\n",
              "      <td>411</td>\n",
              "      <td>478</td>\n",
              "      <td>67</td>\n",
              "    </tr>\n",
              "    <tr>\n",
              "      <th>2</th>\n",
              "      <td>Houston</td>\n",
              "      <td>Texas</td>\n",
              "      <td>242</td>\n",
              "      <td>303</td>\n",
              "      <td>61</td>\n",
              "    </tr>\n",
              "    <tr>\n",
              "      <th>3</th>\n",
              "      <td>Cleveland</td>\n",
              "      <td>Ohio</td>\n",
              "      <td>63</td>\n",
              "      <td>120</td>\n",
              "      <td>57</td>\n",
              "    </tr>\n",
              "    <tr>\n",
              "      <th>4</th>\n",
              "      <td>Washington</td>\n",
              "      <td>D.C.</td>\n",
              "      <td>105</td>\n",
              "      <td>162</td>\n",
              "      <td>57</td>\n",
              "    </tr>\n",
              "    <tr>\n",
              "      <th>5</th>\n",
              "      <td>Milwaukee</td>\n",
              "      <td>Wisconsin</td>\n",
              "      <td>90</td>\n",
              "      <td>145</td>\n",
              "      <td>55</td>\n",
              "    </tr>\n",
              "    <tr>\n",
              "      <th>6</th>\n",
              "      <td>Philadelphia</td>\n",
              "      <td>Pennsylvania</td>\n",
              "      <td>248</td>\n",
              "      <td>280</td>\n",
              "      <td>32</td>\n",
              "    </tr>\n",
              "    <tr>\n",
              "      <th>7</th>\n",
              "      <td>Kansas City</td>\n",
              "      <td>Missouri</td>\n",
              "      <td>78</td>\n",
              "      <td>109</td>\n",
              "      <td>31</td>\n",
              "    </tr>\n",
              "    <tr>\n",
              "      <th>8</th>\n",
              "      <td>Nashville</td>\n",
              "      <td>Tennessee</td>\n",
              "      <td>41</td>\n",
              "      <td>72</td>\n",
              "      <td>31</td>\n",
              "    </tr>\n",
              "    <tr>\n",
              "      <th>9</th>\n",
              "      <td>St. Louis</td>\n",
              "      <td>Missouri</td>\n",
              "      <td>159</td>\n",
              "      <td>188</td>\n",
              "      <td>29</td>\n",
              "    </tr>\n",
              "    <tr>\n",
              "      <th>10</th>\n",
              "      <td>Oklahoma City</td>\n",
              "      <td>Oklahoma</td>\n",
              "      <td>45</td>\n",
              "      <td>73</td>\n",
              "      <td>28</td>\n",
              "    </tr>\n",
              "    <tr>\n",
              "      <th>11</th>\n",
              "      <td>Louisville</td>\n",
              "      <td>Kentucky</td>\n",
              "      <td>56</td>\n",
              "      <td>81</td>\n",
              "      <td>25</td>\n",
              "    </tr>\n",
              "    <tr>\n",
              "      <th>12</th>\n",
              "      <td>Denver</td>\n",
              "      <td>Colorado</td>\n",
              "      <td>31</td>\n",
              "      <td>53</td>\n",
              "      <td>22</td>\n",
              "    </tr>\n",
              "    <tr>\n",
              "      <th>13</th>\n",
              "      <td>Los Angeles</td>\n",
              "      <td>California</td>\n",
              "      <td>260</td>\n",
              "      <td>282</td>\n",
              "      <td>22</td>\n",
              "    </tr>\n",
              "    <tr>\n",
              "      <th>14</th>\n",
              "      <td>Dallas</td>\n",
              "      <td>Texas</td>\n",
              "      <td>116</td>\n",
              "      <td>136</td>\n",
              "      <td>20</td>\n",
              "    </tr>\n",
              "    <tr>\n",
              "      <th>15</th>\n",
              "      <td>New York</td>\n",
              "      <td>New York</td>\n",
              "      <td>333</td>\n",
              "      <td>352</td>\n",
              "      <td>19</td>\n",
              "    </tr>\n",
              "    <tr>\n",
              "      <th>16</th>\n",
              "      <td>Orlando</td>\n",
              "      <td>Florida</td>\n",
              "      <td>15</td>\n",
              "      <td>32</td>\n",
              "      <td>17</td>\n",
              "    </tr>\n",
              "    <tr>\n",
              "      <th>17</th>\n",
              "      <td>Minneapolis</td>\n",
              "      <td>Minnesota</td>\n",
              "      <td>31</td>\n",
              "      <td>47</td>\n",
              "      <td>16</td>\n",
              "    </tr>\n",
              "    <tr>\n",
              "      <th>18</th>\n",
              "      <td>Omaha</td>\n",
              "      <td>Nebraska</td>\n",
              "      <td>32</td>\n",
              "      <td>48</td>\n",
              "      <td>16</td>\n",
              "    </tr>\n",
              "    <tr>\n",
              "      <th>19</th>\n",
              "      <td>Sacramento</td>\n",
              "      <td>California</td>\n",
              "      <td>28</td>\n",
              "      <td>43</td>\n",
              "      <td>15</td>\n",
              "    </tr>\n",
              "    <tr>\n",
              "      <th>20</th>\n",
              "      <td>Anchorage</td>\n",
              "      <td>Alaska</td>\n",
              "      <td>12</td>\n",
              "      <td>26</td>\n",
              "      <td>14</td>\n",
              "    </tr>\n",
              "    <tr>\n",
              "      <th>21</th>\n",
              "      <td>Charlotte-Mecklenburg</td>\n",
              "      <td>North Carolina</td>\n",
              "      <td>47</td>\n",
              "      <td>61</td>\n",
              "      <td>14</td>\n",
              "    </tr>\n",
              "    <tr>\n",
              "      <th>22</th>\n",
              "      <td>New Orleans</td>\n",
              "      <td>Louisiana</td>\n",
              "      <td>150</td>\n",
              "      <td>164</td>\n",
              "      <td>14</td>\n",
              "    </tr>\n",
              "    <tr>\n",
              "      <th>23</th>\n",
              "      <td>Albuquerque</td>\n",
              "      <td>New Mexico</td>\n",
              "      <td>30</td>\n",
              "      <td>43</td>\n",
              "      <td>13</td>\n",
              "    </tr>\n",
              "    <tr>\n",
              "      <th>24</th>\n",
              "      <td>Aurora</td>\n",
              "      <td>Colorado</td>\n",
              "      <td>11</td>\n",
              "      <td>24</td>\n",
              "      <td>13</td>\n",
              "    </tr>\n",
              "    <tr>\n",
              "      <th>25</th>\n",
              "      <td>Fort Wayne</td>\n",
              "      <td>Indiana</td>\n",
              "      <td>12</td>\n",
              "      <td>25</td>\n",
              "      <td>13</td>\n",
              "    </tr>\n",
              "    <tr>\n",
              "      <th>26</th>\n",
              "      <td>Long Beach</td>\n",
              "      <td>California</td>\n",
              "      <td>23</td>\n",
              "      <td>36</td>\n",
              "      <td>13</td>\n",
              "    </tr>\n",
              "    <tr>\n",
              "      <th>27</th>\n",
              "      <td>Durham</td>\n",
              "      <td>North Carolina</td>\n",
              "      <td>21</td>\n",
              "      <td>34</td>\n",
              "      <td>13</td>\n",
              "    </tr>\n",
              "    <tr>\n",
              "      <th>28</th>\n",
              "      <td>Indianapolis</td>\n",
              "      <td>Indiana</td>\n",
              "      <td>136</td>\n",
              "      <td>148</td>\n",
              "      <td>12</td>\n",
              "    </tr>\n",
              "    <tr>\n",
              "      <th>29</th>\n",
              "      <td>Newark</td>\n",
              "      <td>New Jersey</td>\n",
              "      <td>93</td>\n",
              "      <td>104</td>\n",
              "      <td>11</td>\n",
              "    </tr>\n",
              "    <tr>\n",
              "      <th>...</th>\n",
              "      <td>...</td>\n",
              "      <td>...</td>\n",
              "      <td>...</td>\n",
              "      <td>...</td>\n",
              "      <td>...</td>\n",
              "    </tr>\n",
              "    <tr>\n",
              "      <th>53</th>\n",
              "      <td>Chandler</td>\n",
              "      <td>Arizona</td>\n",
              "      <td>1</td>\n",
              "      <td>1</td>\n",
              "      <td>0</td>\n",
              "    </tr>\n",
              "    <tr>\n",
              "      <th>54</th>\n",
              "      <td>Plano</td>\n",
              "      <td>Texas</td>\n",
              "      <td>4</td>\n",
              "      <td>4</td>\n",
              "      <td>0</td>\n",
              "    </tr>\n",
              "    <tr>\n",
              "      <th>55</th>\n",
              "      <td>Stockton</td>\n",
              "      <td>California</td>\n",
              "      <td>49</td>\n",
              "      <td>49</td>\n",
              "      <td>0</td>\n",
              "    </tr>\n",
              "    <tr>\n",
              "      <th>56</th>\n",
              "      <td>Toledo</td>\n",
              "      <td>Ohio</td>\n",
              "      <td>24</td>\n",
              "      <td>24</td>\n",
              "      <td>0</td>\n",
              "    </tr>\n",
              "    <tr>\n",
              "      <th>57</th>\n",
              "      <td>Chula Vista</td>\n",
              "      <td>California</td>\n",
              "      <td>7</td>\n",
              "      <td>6</td>\n",
              "      <td>-1</td>\n",
              "    </tr>\n",
              "    <tr>\n",
              "      <th>58</th>\n",
              "      <td>Phoenix</td>\n",
              "      <td>Arizona</td>\n",
              "      <td>114</td>\n",
              "      <td>112</td>\n",
              "      <td>-2</td>\n",
              "    </tr>\n",
              "    <tr>\n",
              "      <th>59</th>\n",
              "      <td>Riverside</td>\n",
              "      <td>California</td>\n",
              "      <td>12</td>\n",
              "      <td>10</td>\n",
              "      <td>-2</td>\n",
              "    </tr>\n",
              "    <tr>\n",
              "      <th>60</th>\n",
              "      <td>San Jose</td>\n",
              "      <td>California</td>\n",
              "      <td>32</td>\n",
              "      <td>30</td>\n",
              "      <td>-2</td>\n",
              "    </tr>\n",
              "    <tr>\n",
              "      <th>61</th>\n",
              "      <td>Detroit</td>\n",
              "      <td>Michigan</td>\n",
              "      <td>298</td>\n",
              "      <td>295</td>\n",
              "      <td>-3</td>\n",
              "    </tr>\n",
              "    <tr>\n",
              "      <th>62</th>\n",
              "      <td>Seattle</td>\n",
              "      <td>Washington</td>\n",
              "      <td>26</td>\n",
              "      <td>23</td>\n",
              "      <td>-3</td>\n",
              "    </tr>\n",
              "    <tr>\n",
              "      <th>63</th>\n",
              "      <td>El Paso</td>\n",
              "      <td>Texas</td>\n",
              "      <td>21</td>\n",
              "      <td>17</td>\n",
              "      <td>-4</td>\n",
              "    </tr>\n",
              "    <tr>\n",
              "      <th>64</th>\n",
              "      <td>Tucson</td>\n",
              "      <td>Arizona</td>\n",
              "      <td>35</td>\n",
              "      <td>31</td>\n",
              "      <td>-4</td>\n",
              "    </tr>\n",
              "    <tr>\n",
              "      <th>65</th>\n",
              "      <td>Arlington</td>\n",
              "      <td>Texas</td>\n",
              "      <td>13</td>\n",
              "      <td>8</td>\n",
              "      <td>-5</td>\n",
              "    </tr>\n",
              "    <tr>\n",
              "      <th>66</th>\n",
              "      <td>Lexington</td>\n",
              "      <td>Kentucky</td>\n",
              "      <td>20</td>\n",
              "      <td>15</td>\n",
              "      <td>-5</td>\n",
              "    </tr>\n",
              "    <tr>\n",
              "      <th>67</th>\n",
              "      <td>Memphis</td>\n",
              "      <td>Tennessee</td>\n",
              "      <td>140</td>\n",
              "      <td>135</td>\n",
              "      <td>-5</td>\n",
              "    </tr>\n",
              "    <tr>\n",
              "      <th>68</th>\n",
              "      <td>St. Petersburg</td>\n",
              "      <td>Florida</td>\n",
              "      <td>19</td>\n",
              "      <td>14</td>\n",
              "      <td>-5</td>\n",
              "    </tr>\n",
              "    <tr>\n",
              "      <th>69</th>\n",
              "      <td>Columbus</td>\n",
              "      <td>Ohio</td>\n",
              "      <td>83</td>\n",
              "      <td>77</td>\n",
              "      <td>-6</td>\n",
              "    </tr>\n",
              "    <tr>\n",
              "      <th>70</th>\n",
              "      <td>Honolulu</td>\n",
              "      <td>Hawaii</td>\n",
              "      <td>21</td>\n",
              "      <td>15</td>\n",
              "      <td>-6</td>\n",
              "    </tr>\n",
              "    <tr>\n",
              "      <th>71</th>\n",
              "      <td>Laredo</td>\n",
              "      <td>Texas</td>\n",
              "      <td>14</td>\n",
              "      <td>8</td>\n",
              "      <td>-6</td>\n",
              "    </tr>\n",
              "    <tr>\n",
              "      <th>72</th>\n",
              "      <td>Lincoln</td>\n",
              "      <td>Nebraska</td>\n",
              "      <td>7</td>\n",
              "      <td>1</td>\n",
              "      <td>-6</td>\n",
              "    </tr>\n",
              "    <tr>\n",
              "      <th>73</th>\n",
              "      <td>Miami</td>\n",
              "      <td>Florida</td>\n",
              "      <td>81</td>\n",
              "      <td>75</td>\n",
              "      <td>-6</td>\n",
              "    </tr>\n",
              "    <tr>\n",
              "      <th>74</th>\n",
              "      <td>Santa Ana</td>\n",
              "      <td>California</td>\n",
              "      <td>18</td>\n",
              "      <td>12</td>\n",
              "      <td>-6</td>\n",
              "    </tr>\n",
              "    <tr>\n",
              "      <th>75</th>\n",
              "      <td>Mobile</td>\n",
              "      <td>Alabama</td>\n",
              "      <td>31</td>\n",
              "      <td>24</td>\n",
              "      <td>-7</td>\n",
              "    </tr>\n",
              "    <tr>\n",
              "      <th>76</th>\n",
              "      <td>Fresno</td>\n",
              "      <td>California</td>\n",
              "      <td>47</td>\n",
              "      <td>39</td>\n",
              "      <td>-8</td>\n",
              "    </tr>\n",
              "    <tr>\n",
              "      <th>77</th>\n",
              "      <td>Austin</td>\n",
              "      <td>Texas</td>\n",
              "      <td>32</td>\n",
              "      <td>23</td>\n",
              "      <td>-9</td>\n",
              "    </tr>\n",
              "    <tr>\n",
              "      <th>78</th>\n",
              "      <td>San Antonio</td>\n",
              "      <td>Texas</td>\n",
              "      <td>103</td>\n",
              "      <td>94</td>\n",
              "      <td>-9</td>\n",
              "    </tr>\n",
              "    <tr>\n",
              "      <th>79</th>\n",
              "      <td>Corpus Christi</td>\n",
              "      <td>Texas</td>\n",
              "      <td>27</td>\n",
              "      <td>17</td>\n",
              "      <td>-10</td>\n",
              "    </tr>\n",
              "    <tr>\n",
              "      <th>80</th>\n",
              "      <td>Pittsburgh</td>\n",
              "      <td>Pennsylvania</td>\n",
              "      <td>69</td>\n",
              "      <td>57</td>\n",
              "      <td>-12</td>\n",
              "    </tr>\n",
              "    <tr>\n",
              "      <th>81</th>\n",
              "      <td>Boston</td>\n",
              "      <td>Massachusetts</td>\n",
              "      <td>53</td>\n",
              "      <td>38</td>\n",
              "      <td>-15</td>\n",
              "    </tr>\n",
              "    <tr>\n",
              "      <th>82</th>\n",
              "      <td>Buffalo</td>\n",
              "      <td>New York</td>\n",
              "      <td>60</td>\n",
              "      <td>41</td>\n",
              "      <td>-19</td>\n",
              "    </tr>\n",
              "  </tbody>\n",
              "</table>\n",
              "<p>83 rows × 5 columns</p>\n",
              "</div>"
            ],
            "text/plain": [
              "                     city           state  2014_murders  2015_murders  change\n",
              "0               Baltimore        Maryland           211           344     133\n",
              "1                 Chicago        Illinois           411           478      67\n",
              "2                 Houston           Texas           242           303      61\n",
              "3               Cleveland            Ohio            63           120      57\n",
              "4              Washington            D.C.           105           162      57\n",
              "5               Milwaukee       Wisconsin            90           145      55\n",
              "6            Philadelphia    Pennsylvania           248           280      32\n",
              "7             Kansas City        Missouri            78           109      31\n",
              "8               Nashville       Tennessee            41            72      31\n",
              "9               St. Louis        Missouri           159           188      29\n",
              "10          Oklahoma City        Oklahoma            45            73      28\n",
              "11             Louisville        Kentucky            56            81      25\n",
              "12                 Denver        Colorado            31            53      22\n",
              "13            Los Angeles      California           260           282      22\n",
              "14                 Dallas           Texas           116           136      20\n",
              "15               New York        New York           333           352      19\n",
              "16                Orlando         Florida            15            32      17\n",
              "17            Minneapolis       Minnesota            31            47      16\n",
              "18                  Omaha        Nebraska            32            48      16\n",
              "19             Sacramento      California            28            43      15\n",
              "20              Anchorage          Alaska            12            26      14\n",
              "21  Charlotte-Mecklenburg  North Carolina            47            61      14\n",
              "22            New Orleans       Louisiana           150           164      14\n",
              "23            Albuquerque      New Mexico            30            43      13\n",
              "24                 Aurora        Colorado            11            24      13\n",
              "25             Fort Wayne         Indiana            12            25      13\n",
              "26             Long Beach      California            23            36      13\n",
              "27                 Durham  North Carolina            21            34      13\n",
              "28           Indianapolis         Indiana           136           148      12\n",
              "29                 Newark      New Jersey            93           104      11\n",
              "..                    ...             ...           ...           ...     ...\n",
              "53               Chandler         Arizona             1             1       0\n",
              "54                  Plano           Texas             4             4       0\n",
              "55               Stockton      California            49            49       0\n",
              "56                 Toledo            Ohio            24            24       0\n",
              "57            Chula Vista      California             7             6      -1\n",
              "58                Phoenix         Arizona           114           112      -2\n",
              "59              Riverside      California            12            10      -2\n",
              "60               San Jose      California            32            30      -2\n",
              "61                Detroit        Michigan           298           295      -3\n",
              "62                Seattle      Washington            26            23      -3\n",
              "63                El Paso           Texas            21            17      -4\n",
              "64                 Tucson         Arizona            35            31      -4\n",
              "65              Arlington           Texas            13             8      -5\n",
              "66              Lexington        Kentucky            20            15      -5\n",
              "67                Memphis       Tennessee           140           135      -5\n",
              "68         St. Petersburg         Florida            19            14      -5\n",
              "69               Columbus            Ohio            83            77      -6\n",
              "70               Honolulu          Hawaii            21            15      -6\n",
              "71                 Laredo           Texas            14             8      -6\n",
              "72                Lincoln        Nebraska             7             1      -6\n",
              "73                  Miami         Florida            81            75      -6\n",
              "74              Santa Ana      California            18            12      -6\n",
              "75                 Mobile         Alabama            31            24      -7\n",
              "76                 Fresno      California            47            39      -8\n",
              "77                 Austin           Texas            32            23      -9\n",
              "78            San Antonio           Texas           103            94      -9\n",
              "79         Corpus Christi           Texas            27            17     -10\n",
              "80             Pittsburgh    Pennsylvania            69            57     -12\n",
              "81                 Boston   Massachusetts            53            38     -15\n",
              "82                Buffalo        New York            60            41     -19\n",
              "\n",
              "[83 rows x 5 columns]"
            ]
          },
          "metadata": {
            "tags": []
          },
          "execution_count": 17
        }
      ]
    },
    {
      "cell_type": "code",
      "metadata": {
        "id": "BoxfFXb3szvp",
        "colab_type": "code",
        "colab": {
          "base_uri": "https://localhost:8080/",
          "height": 359
        },
        "outputId": "657edad3-4433-47c5-e31d-5d75ec674e10"
      },
      "source": [
        "murder.sort_values('2015_murders', ascending=False).head(10)"
      ],
      "execution_count": 20,
      "outputs": [
        {
          "output_type": "execute_result",
          "data": {
            "text/html": [
              "<div>\n",
              "<style scoped>\n",
              "    .dataframe tbody tr th:only-of-type {\n",
              "        vertical-align: middle;\n",
              "    }\n",
              "\n",
              "    .dataframe tbody tr th {\n",
              "        vertical-align: top;\n",
              "    }\n",
              "\n",
              "    .dataframe thead th {\n",
              "        text-align: right;\n",
              "    }\n",
              "</style>\n",
              "<table border=\"1\" class=\"dataframe\">\n",
              "  <thead>\n",
              "    <tr style=\"text-align: right;\">\n",
              "      <th></th>\n",
              "      <th>city</th>\n",
              "      <th>state</th>\n",
              "      <th>2014_murders</th>\n",
              "      <th>2015_murders</th>\n",
              "      <th>change</th>\n",
              "    </tr>\n",
              "  </thead>\n",
              "  <tbody>\n",
              "    <tr>\n",
              "      <th>1</th>\n",
              "      <td>Chicago</td>\n",
              "      <td>Illinois</td>\n",
              "      <td>411</td>\n",
              "      <td>478</td>\n",
              "      <td>67</td>\n",
              "    </tr>\n",
              "    <tr>\n",
              "      <th>15</th>\n",
              "      <td>New York</td>\n",
              "      <td>New York</td>\n",
              "      <td>333</td>\n",
              "      <td>352</td>\n",
              "      <td>19</td>\n",
              "    </tr>\n",
              "    <tr>\n",
              "      <th>0</th>\n",
              "      <td>Baltimore</td>\n",
              "      <td>Maryland</td>\n",
              "      <td>211</td>\n",
              "      <td>344</td>\n",
              "      <td>133</td>\n",
              "    </tr>\n",
              "    <tr>\n",
              "      <th>2</th>\n",
              "      <td>Houston</td>\n",
              "      <td>Texas</td>\n",
              "      <td>242</td>\n",
              "      <td>303</td>\n",
              "      <td>61</td>\n",
              "    </tr>\n",
              "    <tr>\n",
              "      <th>61</th>\n",
              "      <td>Detroit</td>\n",
              "      <td>Michigan</td>\n",
              "      <td>298</td>\n",
              "      <td>295</td>\n",
              "      <td>-3</td>\n",
              "    </tr>\n",
              "    <tr>\n",
              "      <th>13</th>\n",
              "      <td>Los Angeles</td>\n",
              "      <td>California</td>\n",
              "      <td>260</td>\n",
              "      <td>282</td>\n",
              "      <td>22</td>\n",
              "    </tr>\n",
              "    <tr>\n",
              "      <th>6</th>\n",
              "      <td>Philadelphia</td>\n",
              "      <td>Pennsylvania</td>\n",
              "      <td>248</td>\n",
              "      <td>280</td>\n",
              "      <td>32</td>\n",
              "    </tr>\n",
              "    <tr>\n",
              "      <th>9</th>\n",
              "      <td>St. Louis</td>\n",
              "      <td>Missouri</td>\n",
              "      <td>159</td>\n",
              "      <td>188</td>\n",
              "      <td>29</td>\n",
              "    </tr>\n",
              "    <tr>\n",
              "      <th>22</th>\n",
              "      <td>New Orleans</td>\n",
              "      <td>Louisiana</td>\n",
              "      <td>150</td>\n",
              "      <td>164</td>\n",
              "      <td>14</td>\n",
              "    </tr>\n",
              "    <tr>\n",
              "      <th>4</th>\n",
              "      <td>Washington</td>\n",
              "      <td>D.C.</td>\n",
              "      <td>105</td>\n",
              "      <td>162</td>\n",
              "      <td>57</td>\n",
              "    </tr>\n",
              "  </tbody>\n",
              "</table>\n",
              "</div>"
            ],
            "text/plain": [
              "            city         state  2014_murders  2015_murders  change\n",
              "1        Chicago      Illinois           411           478      67\n",
              "15      New York      New York           333           352      19\n",
              "0      Baltimore      Maryland           211           344     133\n",
              "2        Houston         Texas           242           303      61\n",
              "61       Detroit      Michigan           298           295      -3\n",
              "13   Los Angeles    California           260           282      22\n",
              "6   Philadelphia  Pennsylvania           248           280      32\n",
              "9      St. Louis      Missouri           159           188      29\n",
              "22   New Orleans     Louisiana           150           164      14\n",
              "4     Washington          D.C.           105           162      57"
            ]
          },
          "metadata": {
            "tags": []
          },
          "execution_count": 20
        }
      ]
    },
    {
      "cell_type": "code",
      "metadata": {
        "id": "urf6cHotyK_F",
        "colab_type": "code",
        "colab": {
          "base_uri": "https://localhost:8080/",
          "height": 359
        },
        "outputId": "e4d7cfef-8a87-42ae-aac1-0cc2fe9437a4"
      },
      "source": [
        "murder.nlargest(10, 'change')"
      ],
      "execution_count": 22,
      "outputs": [
        {
          "output_type": "execute_result",
          "data": {
            "text/html": [
              "<div>\n",
              "<style scoped>\n",
              "    .dataframe tbody tr th:only-of-type {\n",
              "        vertical-align: middle;\n",
              "    }\n",
              "\n",
              "    .dataframe tbody tr th {\n",
              "        vertical-align: top;\n",
              "    }\n",
              "\n",
              "    .dataframe thead th {\n",
              "        text-align: right;\n",
              "    }\n",
              "</style>\n",
              "<table border=\"1\" class=\"dataframe\">\n",
              "  <thead>\n",
              "    <tr style=\"text-align: right;\">\n",
              "      <th></th>\n",
              "      <th>city</th>\n",
              "      <th>state</th>\n",
              "      <th>2014_murders</th>\n",
              "      <th>2015_murders</th>\n",
              "      <th>change</th>\n",
              "    </tr>\n",
              "  </thead>\n",
              "  <tbody>\n",
              "    <tr>\n",
              "      <th>0</th>\n",
              "      <td>Baltimore</td>\n",
              "      <td>Maryland</td>\n",
              "      <td>211</td>\n",
              "      <td>344</td>\n",
              "      <td>133</td>\n",
              "    </tr>\n",
              "    <tr>\n",
              "      <th>1</th>\n",
              "      <td>Chicago</td>\n",
              "      <td>Illinois</td>\n",
              "      <td>411</td>\n",
              "      <td>478</td>\n",
              "      <td>67</td>\n",
              "    </tr>\n",
              "    <tr>\n",
              "      <th>2</th>\n",
              "      <td>Houston</td>\n",
              "      <td>Texas</td>\n",
              "      <td>242</td>\n",
              "      <td>303</td>\n",
              "      <td>61</td>\n",
              "    </tr>\n",
              "    <tr>\n",
              "      <th>3</th>\n",
              "      <td>Cleveland</td>\n",
              "      <td>Ohio</td>\n",
              "      <td>63</td>\n",
              "      <td>120</td>\n",
              "      <td>57</td>\n",
              "    </tr>\n",
              "    <tr>\n",
              "      <th>4</th>\n",
              "      <td>Washington</td>\n",
              "      <td>D.C.</td>\n",
              "      <td>105</td>\n",
              "      <td>162</td>\n",
              "      <td>57</td>\n",
              "    </tr>\n",
              "    <tr>\n",
              "      <th>5</th>\n",
              "      <td>Milwaukee</td>\n",
              "      <td>Wisconsin</td>\n",
              "      <td>90</td>\n",
              "      <td>145</td>\n",
              "      <td>55</td>\n",
              "    </tr>\n",
              "    <tr>\n",
              "      <th>6</th>\n",
              "      <td>Philadelphia</td>\n",
              "      <td>Pennsylvania</td>\n",
              "      <td>248</td>\n",
              "      <td>280</td>\n",
              "      <td>32</td>\n",
              "    </tr>\n",
              "    <tr>\n",
              "      <th>7</th>\n",
              "      <td>Kansas City</td>\n",
              "      <td>Missouri</td>\n",
              "      <td>78</td>\n",
              "      <td>109</td>\n",
              "      <td>31</td>\n",
              "    </tr>\n",
              "    <tr>\n",
              "      <th>8</th>\n",
              "      <td>Nashville</td>\n",
              "      <td>Tennessee</td>\n",
              "      <td>41</td>\n",
              "      <td>72</td>\n",
              "      <td>31</td>\n",
              "    </tr>\n",
              "    <tr>\n",
              "      <th>9</th>\n",
              "      <td>St. Louis</td>\n",
              "      <td>Missouri</td>\n",
              "      <td>159</td>\n",
              "      <td>188</td>\n",
              "      <td>29</td>\n",
              "    </tr>\n",
              "  </tbody>\n",
              "</table>\n",
              "</div>"
            ],
            "text/plain": [
              "           city         state  2014_murders  2015_murders  change\n",
              "0     Baltimore      Maryland           211           344     133\n",
              "1       Chicago      Illinois           411           478      67\n",
              "2       Houston         Texas           242           303      61\n",
              "3     Cleveland          Ohio            63           120      57\n",
              "4    Washington          D.C.           105           162      57\n",
              "5     Milwaukee     Wisconsin            90           145      55\n",
              "6  Philadelphia  Pennsylvania           248           280      32\n",
              "7   Kansas City      Missouri            78           109      31\n",
              "8     Nashville     Tennessee            41            72      31\n",
              "9     St. Louis      Missouri           159           188      29"
            ]
          },
          "metadata": {
            "tags": []
          },
          "execution_count": 22
        }
      ]
    },
    {
      "cell_type": "code",
      "metadata": {
        "id": "3D-fXVxfyeln",
        "colab_type": "code",
        "colab": {
          "base_uri": "https://localhost:8080/",
          "height": 269
        },
        "outputId": "7beeea18-fecb-469b-96e6-d564ca62f5f9"
      },
      "source": [
        "murder['change'].hist()\n",
        "plt.show()"
      ],
      "execution_count": 24,
      "outputs": [
        {
          "output_type": "display_data",
          "data": {
            "image/png": "[encoded data removed]",
            "text/plain": [
              "<Figure size 432x288 with 1 Axes>"
            ]
          },
          "metadata": {
            "tags": []
          }
        }
      ]
    },
    {
      "cell_type": "code",
      "metadata": {
        "id": "9k2OyPIrzJa2",
        "colab_type": "code",
        "colab": {
          "base_uri": "https://localhost:8080/",
          "height": 359
        },
        "outputId": "efd923aa-3200-465c-89c6-f0d8a8f57609"
      },
      "source": [
        "murder['rate'] = np.where(murder['change'] > 50, 'Get Out',\n",
        "                           np.where(murder['change'] >= 1, 'Watch Out',\n",
        "                           np.where(murder['change'] == 0, 'none', 'Stay')))\n",
        "murder.head(10)"
      ],
      "execution_count": 33,
      "outputs": [
        {
          "output_type": "execute_result",
          "data": {
            "text/html": [
              "<div>\n",
              "<style scoped>\n",
              "    .dataframe tbody tr th:only-of-type {\n",
              "        vertical-align: middle;\n",
              "    }\n",
              "\n",
              "    .dataframe tbody tr th {\n",
              "        vertical-align: top;\n",
              "    }\n",
              "\n",
              "    .dataframe thead th {\n",
              "        text-align: right;\n",
              "    }\n",
              "</style>\n",
              "<table border=\"1\" class=\"dataframe\">\n",
              "  <thead>\n",
              "    <tr style=\"text-align: right;\">\n",
              "      <th></th>\n",
              "      <th>city</th>\n",
              "      <th>state</th>\n",
              "      <th>2014_murders</th>\n",
              "      <th>2015_murders</th>\n",
              "      <th>change</th>\n",
              "      <th>rate</th>\n",
              "    </tr>\n",
              "  </thead>\n",
              "  <tbody>\n",
              "    <tr>\n",
              "      <th>0</th>\n",
              "      <td>Baltimore</td>\n",
              "      <td>Maryland</td>\n",
              "      <td>211</td>\n",
              "      <td>344</td>\n",
              "      <td>133</td>\n",
              "      <td>Get Out</td>\n",
              "    </tr>\n",
              "    <tr>\n",
              "      <th>1</th>\n",
              "      <td>Chicago</td>\n",
              "      <td>Illinois</td>\n",
              "      <td>411</td>\n",
              "      <td>478</td>\n",
              "      <td>67</td>\n",
              "      <td>Get Out</td>\n",
              "    </tr>\n",
              "    <tr>\n",
              "      <th>2</th>\n",
              "      <td>Houston</td>\n",
              "      <td>Texas</td>\n",
              "      <td>242</td>\n",
              "      <td>303</td>\n",
              "      <td>61</td>\n",
              "      <td>Get Out</td>\n",
              "    </tr>\n",
              "    <tr>\n",
              "      <th>3</th>\n",
              "      <td>Cleveland</td>\n",
              "      <td>Ohio</td>\n",
              "      <td>63</td>\n",
              "      <td>120</td>\n",
              "      <td>57</td>\n",
              "      <td>Get Out</td>\n",
              "    </tr>\n",
              "    <tr>\n",
              "      <th>4</th>\n",
              "      <td>Washington</td>\n",
              "      <td>D.C.</td>\n",
              "      <td>105</td>\n",
              "      <td>162</td>\n",
              "      <td>57</td>\n",
              "      <td>Get Out</td>\n",
              "    </tr>\n",
              "    <tr>\n",
              "      <th>5</th>\n",
              "      <td>Milwaukee</td>\n",
              "      <td>Wisconsin</td>\n",
              "      <td>90</td>\n",
              "      <td>145</td>\n",
              "      <td>55</td>\n",
              "      <td>Get Out</td>\n",
              "    </tr>\n",
              "    <tr>\n",
              "      <th>6</th>\n",
              "      <td>Philadelphia</td>\n",
              "      <td>Pennsylvania</td>\n",
              "      <td>248</td>\n",
              "      <td>280</td>\n",
              "      <td>32</td>\n",
              "      <td>Watch Out</td>\n",
              "    </tr>\n",
              "    <tr>\n",
              "      <th>7</th>\n",
              "      <td>Kansas City</td>\n",
              "      <td>Missouri</td>\n",
              "      <td>78</td>\n",
              "      <td>109</td>\n",
              "      <td>31</td>\n",
              "      <td>Watch Out</td>\n",
              "    </tr>\n",
              "    <tr>\n",
              "      <th>8</th>\n",
              "      <td>Nashville</td>\n",
              "      <td>Tennessee</td>\n",
              "      <td>41</td>\n",
              "      <td>72</td>\n",
              "      <td>31</td>\n",
              "      <td>Watch Out</td>\n",
              "    </tr>\n",
              "    <tr>\n",
              "      <th>9</th>\n",
              "      <td>St. Louis</td>\n",
              "      <td>Missouri</td>\n",
              "      <td>159</td>\n",
              "      <td>188</td>\n",
              "      <td>29</td>\n",
              "      <td>Watch Out</td>\n",
              "    </tr>\n",
              "  </tbody>\n",
              "</table>\n",
              "</div>"
            ],
            "text/plain": [
              "           city         state  2014_murders  2015_murders  change       rate\n",
              "0     Baltimore      Maryland           211           344     133    Get Out\n",
              "1       Chicago      Illinois           411           478      67    Get Out\n",
              "2       Houston         Texas           242           303      61    Get Out\n",
              "3     Cleveland          Ohio            63           120      57    Get Out\n",
              "4    Washington          D.C.           105           162      57    Get Out\n",
              "5     Milwaukee     Wisconsin            90           145      55    Get Out\n",
              "6  Philadelphia  Pennsylvania           248           280      32  Watch Out\n",
              "7   Kansas City      Missouri            78           109      31  Watch Out\n",
              "8     Nashville     Tennessee            41            72      31  Watch Out\n",
              "9     St. Louis      Missouri           159           188      29  Watch Out"
            ]
          },
          "metadata": {
            "tags": []
          },
          "execution_count": 33
        }
      ]
    },
    {
      "cell_type": "code",
      "metadata": {
        "id": "zFgoq3Lx2tF7",
        "colab_type": "code",
        "colab": {}
      },
      "source": [
        ""
      ],
      "execution_count": 0,
      "outputs": []
    },
    {
      "cell_type": "code",
      "metadata": {
        "id": "UUfznCf50dcL",
        "colab_type": "code",
        "colab": {
          "base_uri": "https://localhost:8080/",
          "height": 102
        },
        "outputId": "6605787c-dc9e-4f17-b32d-12041d349951"
      },
      "source": [
        "murder.rate.value_counts()"
      ],
      "execution_count": 31,
      "outputs": [
        {
          "output_type": "execute_result",
          "data": {
            "text/plain": [
              "Stay         64\n",
              "Watch Out     9\n",
              "Get Out       6\n",
              "none          4\n",
              "Name: rate, dtype: int64"
            ]
          },
          "metadata": {
            "tags": []
          },
          "execution_count": 31
        }
      ]
    },
    {
      "cell_type": "code",
      "metadata": {
        "id": "Ic-O5Usn2dkt",
        "colab_type": "code",
        "colab": {
          "base_uri": "https://localhost:8080/",
          "height": 204
        },
        "outputId": "3fa59901-a82e-494f-ac66-7bbeb86306e6"
      },
      "source": [
        "murder.info()"
      ],
      "execution_count": 35,
      "outputs": [
        {
          "output_type": "stream",
          "text": [
            "<class 'pandas.core.frame.DataFrame'>\n",
            "RangeIndex: 83 entries, 0 to 82\n",
            "Data columns (total 6 columns):\n",
            "city            83 non-null object\n",
            "state           83 non-null object\n",
            "2014_murders    83 non-null int64\n",
            "2015_murders    83 non-null int64\n",
            "change          83 non-null int64\n",
            "rate            83 non-null object\n",
            "dtypes: int64(3), object(3)\n",
            "memory usage: 4.0+ KB\n"
          ],
          "name": "stdout"
        }
      ]
    },
    {
      "cell_type": "code",
      "metadata": {
        "id": "b4CeJ4x222Mk",
        "colab_type": "code",
        "colab": {
          "base_uri": "https://localhost:8080/",
          "height": 136
        },
        "outputId": "d9d4ed36-d759-4b81-df1d-9e0c9fadab85"
      },
      "source": [
        "murder.isna().sum()"
      ],
      "execution_count": 36,
      "outputs": [
        {
          "output_type": "execute_result",
          "data": {
            "text/plain": [
              "city            0\n",
              "state           0\n",
              "2014_murders    0\n",
              "2015_murders    0\n",
              "change          0\n",
              "rate            0\n",
              "dtype: int64"
            ]
          },
          "metadata": {
            "tags": []
          },
          "execution_count": 36
        }
      ]
    },
    {
      "cell_type": "code",
      "metadata": {
        "id": "G0qADEfk3Dj7",
        "colab_type": "code",
        "colab": {
          "base_uri": "https://localhost:8080/",
          "height": 508
        },
        "outputId": "cfad951e-de3c-4b7f-c356-b5bf82c7c98d"
      },
      "source": [
        "murder.groupby('city').change.mean().plot(kind='bar', figsize=(20,6))\n",
        "plt.title('City and Murder Rate')\n",
        "plt.ylabel('count')\n",
        "plt.show()"
      ],
      "execution_count": 50,
      "outputs": [
        {
          "output_type": "display_data",
          "data": {
            "image/png": "[encoded data removed]",
            "text/plain": [
              "<Figure size 1440x432 with 1 Axes>"
            ]
          },
          "metadata": {
            "tags": []
          }
        }
      ]
    },
    {
      "cell_type": "code",
      "metadata": {
        "id": "UaIe1GJs3-YQ",
        "colab_type": "code",
        "colab": {
          "base_uri": "https://localhost:8080/",
          "height": 420
        },
        "outputId": "9daa3623-553e-40f0-8e0a-339996a34055"
      },
      "source": [
        "murder.boxplot(column='change', by='rate', figsize=(10,6))\n",
        "plt.show()"
      ],
      "execution_count": 52,
      "outputs": [
        {
          "output_type": "display_data",
          "data": {
            "image/png": "[encoded data removed]",
            "text/plain": [
              "<Figure size 720x432 with 1 Axes>"
            ]
          },
          "metadata": {
            "tags": []
          }
        }
      ]
    },
    {
      "cell_type": "code",
      "metadata": {
        "id": "ElLqKVvX4hiU",
        "colab_type": "code",
        "colab": {
          "base_uri": "https://localhost:8080/",
          "height": 1000
        },
        "outputId": "1af37e5d-00d8-4ff2-c34b-67711ce01e23"
      },
      "source": [
        "sns.pairplot(x_vars=[\"rate\"], y_vars=[\"change\"], data=murder, hue=\"city\", height=8)\n",
        "plt.show()"
      ],
      "execution_count": 54,
      "outputs": [
        {
          "output_type": "display_data",
          "data": {
            "image/png": "[encoded data removed]",
            "text/plain": [
              "<Figure size 726.375x576 with 1 Axes>"
            ]
          },
          "metadata": {
            "tags": []
          }
        }
      ]
    },
    {
      "cell_type": "code",
      "metadata": {
        "id": "hqMCZT0C3zb7",
        "colab_type": "code",
        "colab": {}
      },
      "source": [
        ""
      ],
      "execution_count": 0,
      "outputs": []
    },
    {
      "cell_type": "code",
      "metadata": {
        "id": "PrqeU_Ua3mCW",
        "colab_type": "code",
        "colab": {}
      },
      "source": [
        ""
      ],
      "execution_count": 0,
      "outputs": []
    },
    {
      "cell_type": "code",
      "metadata": {
        "id": "QfCaK5QU3f3M",
        "colab_type": "code",
        "colab": {}
      },
      "source": [
        ""
      ],
      "execution_count": 0,
      "outputs": []
    },
    {
      "cell_type": "code",
      "metadata": {
        "id": "uAbUSMvj2v5_",
        "colab_type": "code",
        "colab": {}
      },
      "source": [
        ""
      ],
      "execution_count": 0,
      "outputs": []
    },
    {
      "cell_type": "markdown",
      "metadata": {
        "id": "lOqaPds9huME",
        "colab_type": "text"
      },
      "source": [
        "## Assignment - now it's your turn\n",
        "\n",
        "Pick at least one Python DS library, and using documentation/examples reproduce in this notebook something cool. It's OK if you don't fully understand it or get it 100% working, but do put in effort and look things up."
      ]
    },
    {
      "cell_type": "code",
      "metadata": {
        "id": "TGUS79cOhPWj",
        "colab_type": "code",
        "colab": {}
      },
      "source": [
        "# TODO - your code here\n",
        "# Use what we did live in lecture as an example"
      ],
      "execution_count": 0,
      "outputs": []
    },
    {
      "cell_type": "markdown",
      "metadata": {
        "id": "BT9gdS7viJZa",
        "colab_type": "text"
      },
      "source": [
        "### Assignment questions\n",
        "\n",
        "After you've worked on some code, answer the following questions in this text block:\n",
        "\n",
        "1.  Describe in a paragraph of text what you did and why, as if you were writing an email to somebody interested but nontechnical.\n",
        "\n",
        "2.  What was the most challenging part of what you did?\n",
        "\n",
        "3.  What was the most interesting thing you learned?\n",
        "\n",
        "4.  What area would you like to explore with more time?\n",
        "\n",
        "\n"
      ]
    },
    {
      "cell_type": "markdown",
      "metadata": {
        "id": "X58eUq3q7wUp",
        "colab_type": "text"
      },
      "source": [
        "1. I analyzed 2014 and 2015 murder counts in 83 cities in the US. I wanted to find out which cities are safe and which cities are dangerous to live in. I collected the data from github and it was a relatively clean data. I realized that the murder rate was high and increasing in cities like baltimore and chicago. On the other hand, cities like Boston and Buffalo are prety safe to live in.\n",
        "\n",
        "2. The most challenging part was trying to visualize and tell the story of the data.\n",
        "\n",
        "3. The most interesting thing i learned was that there are a lot more safe cities to live in\n",
        "\n",
        "4. Creating beautiful visualizations and story telling with data"
      ]
    },
    {
      "cell_type": "markdown",
      "metadata": {
        "id": "_XXg2crAipwP",
        "colab_type": "text"
      },
      "source": [
        "## Stretch goals and resources\n",
        "\n",
        "Following are *optional* things for you to take a look at. Focus on the above assignment first, and make sure to commit and push your changes to GitHub (and since this is the first assignment of the sprint, open a PR as well).\n",
        "\n",
        "- [pandas documentation](https://pandas.pydata.org/pandas-docs/stable/)\n",
        "- [scikit-learn documentation](http://scikit-learn.org/stable/documentation.html)\n",
        "- [matplotlib documentation](https://matplotlib.org/contents.html)\n",
        "- [Awesome Data Science](https://github.com/bulutyazilim/awesome-datascience) - a list of many types of DS resources\n",
        "\n",
        "Stretch goals:\n",
        "\n",
        "- Find and read blogs, walkthroughs, and other examples of people working through cool things with data science - and share with your classmates!\n",
        "- Write a blog post (Medium is a popular place to publish) introducing yourself as somebody learning data science, and talking about what you've learned already and what you're excited to learn more about."
      ]
    }
  ]
}