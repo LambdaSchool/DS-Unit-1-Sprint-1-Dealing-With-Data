{
  "nbformat": 4,
  "nbformat_minor": 0,
  "metadata": {
    "colab": {
      "name": "LS_DS_111_A_First_Look_at_Data.ipynb",
      "version": "0.3.2",
      "provenance": []
    },
    "kernelspec": {
      "name": "python3",
      "display_name": "Python 3"
    }
  },
  "cells": [
    {
      "metadata": {
        "id": "Okfr_uhwhS1X",
        "colab_type": "text"
      },
      "cell_type": "markdown",
      "source": [
        "# Lambda School Data Science - A First Look at Data\n",
        "\n"
      ]
    },
    {
      "metadata": {
        "id": "9dtJETFRhnOG",
        "colab_type": "text"
      },
      "cell_type": "markdown",
      "source": [
        "## Lecture - let's explore Python DS libraries and examples!\n",
        "\n",
        "The Python Data Science ecosystem is huge. You've seen some of the big pieces - pandas, scikit-learn, matplotlib. What parts do you want to see more of?"
      ]
    },
    {
      "metadata": {
        "id": "WiBkgmPJhmhE",
        "colab_type": "code",
        "outputId": "453c2332-c23a-4aa0-fa36-a0ede24a5e68",
        "colab": {
          "base_uri": "https://localhost:8080/",
          "height": 34
        }
      },
      "cell_type": "code",
      "source": [
        "# TODO - we'll be doing this live, taking requests\n",
        "# and reproducing what it is to look up and learn things\n",
        "\n"
      ],
      "execution_count": 0,
      "outputs": [
        {
          "output_type": "execute_result",
          "data": {
            "text/plain": [
              "2"
            ]
          },
          "metadata": {
            "tags": []
          },
          "execution_count": 1
        }
      ]
    },
    {
      "metadata": {
        "id": "lOqaPds9huME",
        "colab_type": "text"
      },
      "cell_type": "markdown",
      "source": [
        "## Assignment - now it's your turn\n",
        "\n",
        "Pick at least one Python DS library, and using documentation/examples reproduce in this notebook something cool. It's OK if you don't fully understand it or get it 100% working, but do put in effort and look things up."
      ]
    },
    {
      "metadata": {
        "id": "TGUS79cOhPWj",
        "colab_type": "code",
        "colab": {
          "base_uri": "https://localhost:8080/",
          "height": 34
        },
        "outputId": "2147dcf2-bd50-4c49-8e00-2d4c74120340"
      },
      "cell_type": "code",
      "source": [
        "import pandas as pd\n",
        "import random\n",
        "\n",
        "betting_data = pd.read_csv(\"https://raw.githubusercontent.com/BuzzFeedNews/2016-01-tennis-betting-analysis/master/data/anonymous_betting_data.csv\")\n",
        "\n",
        "def get_outlier_openings(match_books):\n",
        "  median = match_books['implied_prob_winner_open'].median()\n",
        "  return match_books[\n",
        "      (match_books[\"implied_prob_winner_open\"] - median).abs() > .1\n",
        "  ]\n",
        "\n",
        "outlier_openings = betting_data\\\n",
        "  .groupby('match_uid').apply(get_outlier_openings)\n",
        "\n",
        "selected_betting_data = betting_data[\n",
        "    ~betting_data[\"match_book_uid\"].isin(outlier_openings[\"match_book_uid\"]) &\n",
        "    ~betting_data[\"is_cancelled_or_walkover\"]\n",
        "].copy()\n",
        "\n",
        "print(\"The selected data removes {0} matches.\"\\\n",
        "     .format(betting_data[\"match_uid\"].nunique() - selected_betting_data[\"match_uid\"].nunique()))\n"
      ],
      "execution_count": 2,
      "outputs": [
        {
          "output_type": "stream",
          "text": [
            "The selected data removes 539 matches.\n"
          ],
          "name": "stdout"
        }
      ]
    },
    {
      "metadata": {
        "id": "vlooNNg4jdSQ",
        "colab_type": "code",
        "colab": {
          "base_uri": "https://localhost:8080/",
          "height": 34
        },
        "outputId": "11eb1259-736b-416f-eb38-fed283e7d4e7"
      },
      "cell_type": "code",
      "source": [
        "print(\"there are {0:,} unique matches with odds in the dataset from {1:.0f} to {2:.0f}\"\\\n",
        "     .format(selected_betting_data[\"match_uid\"].nunique(), selected_betting_data[\"year\"].min(), selected_betting_data[\"year\"].max()))"
      ],
      "execution_count": 3,
      "outputs": [
        {
          "output_type": "stream",
          "text": [
            "there are 25,993 unique matches with odds in the dataset from 2009 to 2015\n"
          ],
          "name": "stdout"
        }
      ]
    },
    {
      "metadata": {
        "id": "fl8QuPqykCXH",
        "colab_type": "code",
        "colab": {}
      },
      "cell_type": "code",
      "source": [
        "selected_betting_data[\"winner_movement\"] = selected_betting_data[\"implied_prob_winner_close\"] - selected_betting_data[\"implied_prob_winner_open\"]\n",
        "selected_betting_data[\"loser_movement\"] = selected_betting_data[\"implied_prob_loser_close\"] - selected_betting_data[\"implied_prob_loser_open\"]\n",
        "selected_betting_data[\"abs_winner_movement\"] = selected_betting_data[\"winner_movement\"].abs()"
      ],
      "execution_count": 0,
      "outputs": []
    },
    {
      "metadata": {
        "id": "ciPs5rxKk4HN",
        "colab_type": "code",
        "colab": {
          "base_uri": "https://localhost:8080/",
          "height": 34
        },
        "outputId": "6a681e41-94fa-44e6-9cf9-7b2c08cbce61"
      },
      "cell_type": "code",
      "source": [
        "high_move_matches = selected_betting_data[(selected_betting_data[\"abs_winner_movement\"] > 0.10)]\\\n",
        "    .sort_values(\"abs_winner_movement\")\\\n",
        "    .drop_duplicates(subset=\"match_uid\")\\\n",
        "    .copy()\n",
        "\n",
        "print(\"there was movement greater than 10 percent points in {0: .2f}% of matches.\"\\\n",
        "    .format(round(100.0 * len(high_move_matches) / selected_betting_data[\"match_uid\"].nunique(), 2)))\n",
        "                                       "
      ],
      "execution_count": 5,
      "outputs": [
        {
          "output_type": "stream",
          "text": [
            "there was movement greater than 10 percent points in  10.76% of matches.\n"
          ],
          "name": "stdout"
        }
      ]
    },
    {
      "metadata": {
        "id": "4lZy3aXuoM9L",
        "colab_type": "code",
        "colab": {
          "base_uri": "https://localhost:8080/",
          "height": 34
        },
        "outputId": "5e40ef3f-f58d-49a1-bd6b-f10d646187d3"
      },
      "cell_type": "code",
      "source": [
        "def find_high_movement_matches_for_player(name):\n",
        "    high_move_matches = selected_betting_data[\n",
        "            (((selected_betting_data[\"winner_movement\"] > 0.10) & \n",
        "              (selected_betting_data[\"loser\"] == name)) |\n",
        "             ((selected_betting_data[\"loser_movement\"] > 0.10) &\n",
        "              (selected_betting_data[\"winner\"] == name)))]\\\n",
        "            .sort_values(\"abs_winner_movement\")\\\n",
        "            .drop_duplicates(subset=\"match_uid\")\\\n",
        "            .copy()\n",
        "    return pd.Series([name, len(high_move_matches), len(high_move_matches[high_move_matches[\"loser\"] == name])])\n",
        "  \n",
        "all_players = pd.DataFrame(selected_betting_data[\"loser\"].unique()).rename(columns={0: \"name\"})\n",
        "  \n",
        "player_high_move_counts = all_players[\"name\"].apply(find_high_movement_matches_for_player)\\\n",
        "  .rename(columns={0: \"name\", 1: \"high_move_matches\", 2: \"high_move_losses\"})\n",
        "  \n",
        "selected_players = player_high_move_counts[(player_high_move_counts[\"high_move_losses\"] > 10)].copy()\n",
        "  \n",
        "print(\"there are {0} players with more than 10 losses in high-move matches.\".format(len(selected_players)))"
      ],
      "execution_count": 10,
      "outputs": [
        {
          "output_type": "stream",
          "text": [
            "there are 39 players with more than 10 losses in high-move matches.\n"
          ],
          "name": "stdout"
        }
      ]
    },
    {
      "metadata": {
        "id": "nsgySeLhw0xT",
        "colab_type": "code",
        "colab": {}
      },
      "cell_type": "code",
      "source": [
        "class Player(object):\n",
        "    def __init__(self, player_name):\n",
        "        self.name = player_name\n",
        "        self.matches = self.get_matches()\n",
        "        self.wins = len(self.matches[self.matches[\"winner\"] == self.name])\n",
        "\n",
        "    def get_matches(self):\n",
        "        player_matches = selected_betting_data[\n",
        "            (((selected_betting_data[\"winner_movement\"] > 0.10) & \n",
        "              (selected_betting_data[\"loser\"] == self.name)) |\n",
        "             ((selected_betting_data[\"loser_movement\"] > 0.10) &\n",
        "              (selected_betting_data[\"winner\"] == self.name)))]\\\n",
        "            .sort_values(\"abs_winner_movement\", ascending=False )\\\n",
        "            .drop_duplicates(subset=\"match_uid\")\\\n",
        "            .copy()\n",
        "        player_matches[\"player_odds_open\"] = player_matches\\\n",
        "            .apply(lambda x: x[\"implied_prob_winner_open\"] if x[\"winner\"] == self.name else x[\"implied_prob_loser_open\"],axis=1)\n",
        "        player_matches[\"player_odds_close\"] = player_matches\\\n",
        "            .apply(lambda x: x[\"implied_prob_winner_close\"] if x[\"winner\"] == self.name else x[\"implied_prob_loser_close\"],axis=1)\n",
        "        return player_matches\n",
        "\n",
        "    def sim_once(self, odds_type=\"open\"):\n",
        "        wins = 0\n",
        "        for i, m in self.matches.iterrows():\n",
        "            if m[\"player_odds_\"+odds_type] > random.random():\n",
        "                wins += 1\n",
        "        return wins\n",
        "    \n",
        "    def sim_x_times(self, x, odds_type=\"open\"):\n",
        "        return [ self.sim_once(odds_type) for n in range(x) ]\n",
        "    \n",
        "    def pct_sims_with_more_than_x(self, x_times, odds_type=\"open\"):\n",
        "        return float(len( [ x for x in self.sim_x_times(x_times, odds_type) if x <= self.wins ] )) / x_times\n",
        "      \n",
        "\n",
        "N_SIMULATIONS = 100\n",
        "\n",
        "def get_likelihood(player_name):\n",
        "    player = Player(player_name)\n",
        "    return player.pct_sims_with_more_than_x(N_SIMULATIONS, \"open\")\n",
        "  \n",
        "selected_players[\"likelihood_open\"] = selected_players[\"name\"].apply(get_likelihood)"
      ],
      "execution_count": 0,
      "outputs": []
    },
    {
      "metadata": {
        "id": "puNN7S5U0Y3k",
        "colab_type": "code",
        "colab": {
          "base_uri": "https://localhost:8080/",
          "height": 576
        },
        "outputId": "29332aa1-20b5-4052-b6b5-0bb8ae4dc053"
      },
      "cell_type": "code",
      "source": [
        "def classify_likelihood(likelihood):\n",
        "  if likelihood < (0.05 / len(selected_players)): return \"****\"\n",
        "  elif likelihood < .001: return \"***\"\n",
        "  elif likelihood < .01: return \"**\"\n",
        "  elif likelihood < .05: return \"*\"\n",
        "  return\"\"\n",
        "\n",
        "selected_players[\"likelihood_level_open\"] = selected_players[\"likelihood_open\"].apply(classify_likelihood)\n",
        "\n",
        "selected_players[\n",
        "    selected_players[\"likelihood_open\"] < 0.05\n",
        "].sort_values(\"likelihood_open\")"
      ],
      "execution_count": 19,
      "outputs": [
        {
          "output_type": "execute_result",
          "data": {
            "text/html": [
              "<div>\n",
              "<style scoped>\n",
              "    .dataframe tbody tr th:only-of-type {\n",
              "        vertical-align: middle;\n",
              "    }\n",
              "\n",
              "    .dataframe tbody tr th {\n",
              "        vertical-align: top;\n",
              "    }\n",
              "\n",
              "    .dataframe thead th {\n",
              "        text-align: right;\n",
              "    }\n",
              "</style>\n",
              "<table border=\"1\" class=\"dataframe\">\n",
              "  <thead>\n",
              "    <tr style=\"text-align: right;\">\n",
              "      <th></th>\n",
              "      <th>name</th>\n",
              "      <th>high_move_matches</th>\n",
              "      <th>high_move_losses</th>\n",
              "      <th>likelihood_open</th>\n",
              "      <th>likelihood_level_open</th>\n",
              "    </tr>\n",
              "  </thead>\n",
              "  <tbody>\n",
              "    <tr>\n",
              "      <th>0</th>\n",
              "      <td>0ffe23c8b80916f6b2c23a52e08018374d68d12f49b261...</td>\n",
              "      <td>18</td>\n",
              "      <td>15</td>\n",
              "      <td>0.00</td>\n",
              "      <td>****</td>\n",
              "    </tr>\n",
              "    <tr>\n",
              "      <th>3</th>\n",
              "      <td>79784720fab57e7cc611e07c258cf49f484b9cee01bf47...</td>\n",
              "      <td>14</td>\n",
              "      <td>11</td>\n",
              "      <td>0.00</td>\n",
              "      <td>****</td>\n",
              "    </tr>\n",
              "    <tr>\n",
              "      <th>304</th>\n",
              "      <td>573dad2e08250afa99aa704c7ea888b421bcf06bd00aab...</td>\n",
              "      <td>14</td>\n",
              "      <td>13</td>\n",
              "      <td>0.00</td>\n",
              "      <td>****</td>\n",
              "    </tr>\n",
              "    <tr>\n",
              "      <th>58</th>\n",
              "      <td>f16cc81d239ad735c51cc71442cda44c4d1a9323eb4101...</td>\n",
              "      <td>16</td>\n",
              "      <td>15</td>\n",
              "      <td>0.00</td>\n",
              "      <td>****</td>\n",
              "    </tr>\n",
              "    <tr>\n",
              "      <th>69</th>\n",
              "      <td>4f7f8e1b43947b2fb123afb92263b4a863daa87a4de44c...</td>\n",
              "      <td>19</td>\n",
              "      <td>13</td>\n",
              "      <td>0.00</td>\n",
              "      <td>****</td>\n",
              "    </tr>\n",
              "    <tr>\n",
              "      <th>293</th>\n",
              "      <td>6702a5de750846f45a3d977f50023c1b20156c61949f2f...</td>\n",
              "      <td>12</td>\n",
              "      <td>12</td>\n",
              "      <td>0.00</td>\n",
              "      <td>****</td>\n",
              "    </tr>\n",
              "    <tr>\n",
              "      <th>251</th>\n",
              "      <td>822130a3121c663ea88c6429830f23a794791fed013f6e...</td>\n",
              "      <td>23</td>\n",
              "      <td>18</td>\n",
              "      <td>0.00</td>\n",
              "      <td>****</td>\n",
              "    </tr>\n",
              "    <tr>\n",
              "      <th>82</th>\n",
              "      <td>9c92af8ca1b57024bd0a39b73db8be44b25bcde4115549...</td>\n",
              "      <td>15</td>\n",
              "      <td>14</td>\n",
              "      <td>0.00</td>\n",
              "      <td>****</td>\n",
              "    </tr>\n",
              "    <tr>\n",
              "      <th>235</th>\n",
              "      <td>33367d214715ab5f5e335cd67dbc90e62983b98e5278a4...</td>\n",
              "      <td>16</td>\n",
              "      <td>15</td>\n",
              "      <td>0.00</td>\n",
              "      <td>****</td>\n",
              "    </tr>\n",
              "    <tr>\n",
              "      <th>86</th>\n",
              "      <td>05f3190e5053090035664800d1f52203b40a826cf7f065...</td>\n",
              "      <td>15</td>\n",
              "      <td>13</td>\n",
              "      <td>0.01</td>\n",
              "      <td>*</td>\n",
              "    </tr>\n",
              "    <tr>\n",
              "      <th>13</th>\n",
              "      <td>dd83d749567ad7c7f4e89656b08d4791acefd60724cc84...</td>\n",
              "      <td>19</td>\n",
              "      <td>15</td>\n",
              "      <td>0.01</td>\n",
              "      <td>*</td>\n",
              "    </tr>\n",
              "    <tr>\n",
              "      <th>328</th>\n",
              "      <td>21099fe0deb7acfa1b6e79e9bbe76dc05bbe4132c495ca...</td>\n",
              "      <td>17</td>\n",
              "      <td>12</td>\n",
              "      <td>0.01</td>\n",
              "      <td>*</td>\n",
              "    </tr>\n",
              "    <tr>\n",
              "      <th>240</th>\n",
              "      <td>178a5dbb14af3102f863f493fc909bcca7b116f991fa69...</td>\n",
              "      <td>17</td>\n",
              "      <td>13</td>\n",
              "      <td>0.02</td>\n",
              "      <td>*</td>\n",
              "    </tr>\n",
              "    <tr>\n",
              "      <th>81</th>\n",
              "      <td>163a93c4de594ac23ebc52c7ae413761ea412054eec4b4...</td>\n",
              "      <td>14</td>\n",
              "      <td>11</td>\n",
              "      <td>0.03</td>\n",
              "      <td>*</td>\n",
              "    </tr>\n",
              "    <tr>\n",
              "      <th>79</th>\n",
              "      <td>afd6124804065e4ba90270b3307940c404c2f286180009...</td>\n",
              "      <td>14</td>\n",
              "      <td>11</td>\n",
              "      <td>0.03</td>\n",
              "      <td>*</td>\n",
              "    </tr>\n",
              "    <tr>\n",
              "      <th>275</th>\n",
              "      <td>6a4a7e0a92f963e29cec12049da2b18ccdd97aa47005ff...</td>\n",
              "      <td>19</td>\n",
              "      <td>12</td>\n",
              "      <td>0.04</td>\n",
              "      <td>*</td>\n",
              "    </tr>\n",
              "    <tr>\n",
              "      <th>341</th>\n",
              "      <td>5e77273d54e1ce9635dc4c3d0ab9f872ba3cf4f7d1204c...</td>\n",
              "      <td>18</td>\n",
              "      <td>14</td>\n",
              "      <td>0.04</td>\n",
              "      <td>*</td>\n",
              "    </tr>\n",
              "  </tbody>\n",
              "</table>\n",
              "</div>"
            ],
            "text/plain": [
              "                                                  name  high_move_matches  \\\n",
              "0    0ffe23c8b80916f6b2c23a52e08018374d68d12f49b261...                 18   \n",
              "3    79784720fab57e7cc611e07c258cf49f484b9cee01bf47...                 14   \n",
              "304  573dad2e08250afa99aa704c7ea888b421bcf06bd00aab...                 14   \n",
              "58   f16cc81d239ad735c51cc71442cda44c4d1a9323eb4101...                 16   \n",
              "69   4f7f8e1b43947b2fb123afb92263b4a863daa87a4de44c...                 19   \n",
              "293  6702a5de750846f45a3d977f50023c1b20156c61949f2f...                 12   \n",
              "251  822130a3121c663ea88c6429830f23a794791fed013f6e...                 23   \n",
              "82   9c92af8ca1b57024bd0a39b73db8be44b25bcde4115549...                 15   \n",
              "235  33367d214715ab5f5e335cd67dbc90e62983b98e5278a4...                 16   \n",
              "86   05f3190e5053090035664800d1f52203b40a826cf7f065...                 15   \n",
              "13   dd83d749567ad7c7f4e89656b08d4791acefd60724cc84...                 19   \n",
              "328  21099fe0deb7acfa1b6e79e9bbe76dc05bbe4132c495ca...                 17   \n",
              "240  178a5dbb14af3102f863f493fc909bcca7b116f991fa69...                 17   \n",
              "81   163a93c4de594ac23ebc52c7ae413761ea412054eec4b4...                 14   \n",
              "79   afd6124804065e4ba90270b3307940c404c2f286180009...                 14   \n",
              "275  6a4a7e0a92f963e29cec12049da2b18ccdd97aa47005ff...                 19   \n",
              "341  5e77273d54e1ce9635dc4c3d0ab9f872ba3cf4f7d1204c...                 18   \n",
              "\n",
              "     high_move_losses  likelihood_open likelihood_level_open  \n",
              "0                  15             0.00                  ****  \n",
              "3                  11             0.00                  ****  \n",
              "304                13             0.00                  ****  \n",
              "58                 15             0.00                  ****  \n",
              "69                 13             0.00                  ****  \n",
              "293                12             0.00                  ****  \n",
              "251                18             0.00                  ****  \n",
              "82                 14             0.00                  ****  \n",
              "235                15             0.00                  ****  \n",
              "86                 13             0.01                     *  \n",
              "13                 15             0.01                     *  \n",
              "328                12             0.01                     *  \n",
              "240                13             0.02                     *  \n",
              "81                 11             0.03                     *  \n",
              "79                 11             0.03                     *  \n",
              "275                12             0.04                     *  \n",
              "341                14             0.04                     *  "
            ]
          },
          "metadata": {
            "tags": []
          },
          "execution_count": 19
        }
      ]
    },
    {
      "metadata": {
        "id": "BT9gdS7viJZa",
        "colab_type": "text"
      },
      "cell_type": "markdown",
      "source": [
        "### Assignment questions\n",
        "\n",
        "After you've worked on some code, answer the following questions in this text block:\n",
        "\n",
        "1.  Describe in a paragraph of text what you did and why, as if you were writing an email to somebody interested but nontechnical.\n",
        "\n",
        "2.  What was the most challenging part of what you did?\n",
        "\n",
        "3.  What was the most interesting thing you learned?\n",
        "\n",
        "4.  What area would you like to explore with more time?\n",
        "\n",
        "\n"
      ]
    },
    {
      "metadata": {
        "id": "SRLbfVLO16pr",
        "colab_type": "text"
      },
      "cell_type": "markdown",
      "source": [
        "In the previous code,  a dataset of players and their matches as well as the match odds is analyzed.  It was referenced in a report to analyze the likelihood that matches were fixed in the Professional tennis Association tour.  After giving some information about the data, the last piece of the code runs simulations (in this case only 100 because my computer is slow at running more), and telling the likelihood that a player participated in a \"questionable\" match, or fixed match."
      ]
    },
    {
      "metadata": {
        "id": "_XXg2crAipwP",
        "colab_type": "text"
      },
      "cell_type": "markdown",
      "source": [
        "## Stretch goals and resources\n",
        "\n",
        "Following are *optional* things for you to take a look at. Focus on the above assignment first, and make sure to commit and push your changes to GitHub (and since this is the first assignment of the sprint, open a PR as well).\n",
        "\n",
        "- [pandas documentation](https://pandas.pydata.org/pandas-docs/stable/)\n",
        "- [scikit-learn documentation](http://scikit-learn.org/stable/documentation.html)\n",
        "- [matplotlib documentation](https://matplotlib.org/contents.html)\n",
        "- [Awesome Data Science](https://github.com/bulutyazilim/awesome-datascience) - a list of many types of DS resources\n",
        "\n",
        "Stretch goals:\n",
        "\n",
        "- Find and read blogs, walkthroughs, and other examples of people working through cool things with data science - and share with your classmates!\n",
        "- Write a blog post (Medium is a popular place to publish) introducing yourself as somebody learning data science, and talking about what you've learned already and what you're excited to learn more about."
      ]
    }
  ]
}