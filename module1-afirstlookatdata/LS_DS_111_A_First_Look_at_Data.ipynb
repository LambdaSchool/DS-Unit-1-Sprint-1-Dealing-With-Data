{
  "nbformat": 4,
  "nbformat_minor": 0,
  "metadata": {
    "colab": {
      "name": "LS_DS_111_A_First_Look_at_Data.ipynb",
      "version": "0.3.2",
      "provenance": [],
      "include_colab_link": true
    },
    "kernelspec": {
      "name": "python3",
      "display_name": "Python 3"
    }
  },
  "cells": [
    {
      "cell_type": "markdown",
      "metadata": {
        "id": "view-in-github",
        "colab_type": "text"
      },
      "source": [
        "<a href=\"https://colab.research.google.com/github/120Davies/DS-Unit-1-Sprint-1-Dealing-With-Data/blob/master/module1-afirstlookatdata/LS_DS_111_A_First_Look_at_Data.ipynb\" target=\"_parent\"><img src=\"https://colab.research.google.com/assets/colab-badge.svg\" alt=\"Open In Colab\"/></a>"
      ]
    },
    {
      "cell_type": "markdown",
      "metadata": {
        "id": "Okfr_uhwhS1X",
        "colab_type": "text"
      },
      "source": [
        "# Lambda School Data Science - A First Look at Data\n",
        "\n"
      ]
    },
    {
      "cell_type": "markdown",
      "metadata": {
        "id": "9dtJETFRhnOG",
        "colab_type": "text"
      },
      "source": [
        "## Lecture - let's explore Python DS libraries and examples!\n",
        "\n",
        "The Python Data Science ecosystem is huge. You've seen some of the big pieces - pandas, scikit-learn, matplotlib. What parts do you want to see more of?"
      ]
    },
    {
      "cell_type": "code",
      "metadata": {
        "id": "WiBkgmPJhmhE",
        "colab_type": "code",
        "colab": {
          "base_uri": "https://localhost:8080/",
          "height": 33
        },
        "outputId": "2f275b4c-9047-48ea-ff0f-c436c9e7793c"
      },
      "source": [
        "# TODO - we'll be doing this live, taking requests\n",
        "# and reproducing what it is to look up and learn things\n",
        "\n",
        "# This is a change to the file.\n",
        "2+2"
      ],
      "execution_count": 2,
      "outputs": [
        {
          "output_type": "execute_result",
          "data": {
            "text/plain": [
              "4"
            ]
          },
          "metadata": {
            "tags": []
          },
          "execution_count": 2
        }
      ]
    },
    {
      "cell_type": "code",
      "metadata": {
        "id": "6VSaK-xlnnzn",
        "colab_type": "code",
        "colab": {}
      },
      "source": [
        "myName= \"McKay\""
      ],
      "execution_count": 0,
      "outputs": []
    },
    {
      "cell_type": "markdown",
      "metadata": {
        "id": "QNi9VVPVocCD",
        "colab_type": "text"
      },
      "source": [
        "1) Fork the repo to your github account\n",
        "2) go to colab.research.google.com and click on the github tab or go tot colab.resarech.google.com/github\n",
        "4) work on the assignment and make changes\n",
        "5) save your work back to github by going to `file`>>`Save a copy in Github...`\n"
      ]
    },
    {
      "cell_type": "markdown",
      "metadata": {
        "id": "lOqaPds9huME",
        "colab_type": "text"
      },
      "source": [
        "## Assignment - now it's your turn\n",
        "\n",
        "Pick at least one Python DS library, and using documentation/examples reproduce in this notebook something cool. It's OK if you don't fully understand it or get it 100% working, but do put in effort and look things up."
      ]
    },
    {
      "cell_type": "code",
      "metadata": {
        "id": "TGUS79cOhPWj",
        "colab_type": "code",
        "colab": {
          "base_uri": "https://localhost:8080/",
          "height": 53
        },
        "outputId": "259c3eca-f274-4e9d-a9b4-c1211313780e"
      },
      "source": [
        "import numpy as np\n",
        "import matplotlib.pyplot as plt\n",
        "import matplotlib as mpl\n",
        "plt.style.use('ggplot')\n",
        "data = np.random.randn(50)\n",
        "\n",
        "\n",
        "print(plt.style.available)\n",
        "\n"
      ],
      "execution_count": 9,
      "outputs": [
        {
          "output_type": "stream",
          "text": [
            "['seaborn-bright', 'classic', 'seaborn-poster', 'seaborn-pastel', 'seaborn-darkgrid', 'Solarize_Light2', 'seaborn-whitegrid', 'tableau-colorblind10', 'seaborn-ticks', 'seaborn-muted', 'fast', 'seaborn-paper', 'fivethirtyeight', 'seaborn-dark-palette', '_classic_test', 'dark_background', 'seaborn', 'bmh', 'ggplot', 'seaborn-notebook', 'grayscale', 'seaborn-colorblind', 'seaborn-talk', 'seaborn-dark', 'seaborn-white', 'seaborn-deep']\n"
          ],
          "name": "stdout"
        }
      ]
    },
    {
      "cell_type": "markdown",
      "metadata": {
        "id": "rLyMb76oG6DJ",
        "colab_type": "text"
      },
      "source": [
        "This is a list of all the available styles built in to matplotlib. There are many!"
      ]
    },
    {
      "cell_type": "markdown",
      "metadata": {
        "id": "BT9gdS7viJZa",
        "colab_type": "text"
      },
      "source": [
        "### Assignment questions\n",
        "\n",
        "After you've worked on some code, answer the following questions in this text block:\n",
        "\n",
        "1.  Describe in a paragraph of text what you did and why, as if you were writing an email to somebody interested but nontechnical.\n",
        "\n",
        "  *I used python to display a list of pre-made styles available for use within the matplotlib library. Matplotlib is a very useful library for displaying data processed in python in meaningful ways, such as graphs and charts. I can use any of the above listed styles as a shorthand for general formatting of the data I wish to present.*\n",
        "\n",
        "2.  What was the most challenging part of what you did?\n",
        "\n",
        "  *It took me a while to find the correct library in Github. The matplotlib is very large, and I'm as of yet unfamiliar with navigating github directories.*\n",
        " \n",
        "\n",
        "3.  What was the most interesting thing you learned?\n",
        "\n",
        "  *There are a lot of pre-made styles on matplotlib!*\n",
        "\n",
        "4.  What area would you like to explore with more time?\n",
        "\n",
        "  *I would like to experiment more and learn how to print a small graph displaying an example of each style.*\n",
        "\n",
        "\n"
      ]
    },
    {
      "cell_type": "markdown",
      "metadata": {
        "id": "_XXg2crAipwP",
        "colab_type": "text"
      },
      "source": [
        "## Stretch goals and resources\n",
        "\n",
        "Following are *optional* things for you to take a look at. Focus on the above assignment first, and make sure to commit and push your changes to GitHub (and since this is the first assignment of the sprint, open a PR as well).\n",
        "\n",
        "- [pandas documentation](https://pandas.pydata.org/pandas-docs/stable/)\n",
        "- [scikit-learn documentation](http://scikit-learn.org/stable/documentation.html)\n",
        "- [matplotlib documentation](https://matplotlib.org/contents.html)\n",
        "- [Awesome Data Science](https://github.com/bulutyazilim/awesome-datascience) - a list of many types of DS resources\n",
        "\n",
        "Stretch goals:\n",
        "\n",
        "- Find and read blogs, walkthroughs, and other examples of people working through cool things with data science - and share with your classmates!\n",
        "- Write a blog post (Medium is a popular place to publish) introducing yourself as somebody learning data science, and talking about what you've learned already and what you're excited to learn more about."
      ]
    }
  ]
}