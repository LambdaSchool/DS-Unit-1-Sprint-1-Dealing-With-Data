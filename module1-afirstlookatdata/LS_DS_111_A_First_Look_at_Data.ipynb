{
  "nbformat": 4,
  "nbformat_minor": 0,
  "metadata": {
    "colab": {
      "name": "LS_DS_111_A_First_Look_at_Data.ipynb",
      "version": "0.3.2",
      "provenance": [],
      "include_colab_link": true
    },
    "kernelspec": {
      "name": "python3",
      "display_name": "Python 3"
    }
  },
  "cells": [
    {
      "cell_type": "markdown",
      "metadata": {
        "id": "view-in-github",
        "colab_type": "text"
      },
      "source": [
        "<a href=\"https://colab.research.google.com/github/36921/DS-Unit-1-Sprint-1-Dealing-With-Data/blob/master/module1-afirstlookatdata/LS_DS_111_A_First_Look_at_Data.ipynb\" target=\"_parent\"><img src=\"https://colab.research.google.com/assets/colab-badge.svg\" alt=\"Open In Colab\"/></a>"
      ]
    },
    {
      "metadata": {
        "id": "Okfr_uhwhS1X",
        "colab_type": "text"
      },
      "cell_type": "markdown",
      "source": [
        "# Lambda School Data Science - A First Look at Data\n",
        "\n"
      ]
    },
    {
      "metadata": {
        "id": "9dtJETFRhnOG",
        "colab_type": "text"
      },
      "cell_type": "markdown",
      "source": [
        "## Lecture - let's explore Python DS libraries and examples!\n",
        "\n",
        "The Python Data Science ecosystem is huge. You've seen some of the big pieces - pandas, scikit-learn, matplotlib. What parts do you want to see more of?"
      ]
    },
    {
      "metadata": {
        "id": "WiBkgmPJhmhE",
        "colab_type": "code",
        "outputId": "8573181b-521d-46c5-fac9-efe1c516a50b",
        "colab": {
          "base_uri": "https://localhost:8080/",
          "height": 34
        }
      },
      "cell_type": "code",
      "source": [
        "# TODO - we'll be doing this live, taking requests\n",
        "# and reproducing what it is to look up and learn things\n",
        "'I would like to see more of all of these pieces of Python DS.'\n"
      ],
      "execution_count": 0,
      "outputs": [
        {
          "output_type": "execute_result",
          "data": {
            "text/plain": [
              "'I would like to see more of all of these pieces of Python DS.'"
            ]
          },
          "metadata": {
            "tags": []
          },
          "execution_count": 1
        }
      ]
    },
    {
      "metadata": {
        "id": "lOqaPds9huME",
        "colab_type": "text"
      },
      "cell_type": "markdown",
      "source": [
        "## Assignment - now it's your turn\n",
        "\n",
        "Pick at least one Python DS library, and using documentation/examples reproduce in this notebook something cool. It's OK if you don't fully understand it or get it 100% working, but do put in effort and look things up."
      ]
    },
    {
      "metadata": {
        "id": "TGUS79cOhPWj",
        "colab_type": "code",
        "outputId": "9539bd30-d8ef-4f1c-fdb8-3a9a5cbf1e38",
        "colab": {
          "base_uri": "https://localhost:8080/",
          "height": 34
        }
      },
      "cell_type": "code",
      "source": [
        "# TODO - your code here\n",
        "# Use what we did live in lecture as an example\n",
        "\n",
        "import gym\n",
        "import matplotlib.pyplot as plt\n",
        "\n",
        "env = gym.make('Blackjack-v0')\n",
        "env.reset()\n",
        "\n",
        "def normal_strategy(player_sum, dealer_up_card):\n",
        "    \"\"\"\n",
        "    Returns appropriate action from a 2D array storing actions\n",
        "    Actions obtained from figure 11 here- https://pdfs.semanticscholar.org/e1dd/06616e2d18179da7a3643cb3faab95222c8b.pdf\n",
        "    Each row corresponds to player sum- from 2 to 21\n",
        "    Each column corresponds to dealer_up_card- from 1 to 10\n",
        "    \"\"\"\n",
        "    actions = [[1]*10]*8 # 2 to 9\n",
        "    actions.append([1]*4 + [0]*2 + [1]*4) #10\n",
        "    actions.append([1] + [0]*6 + [1]*3) #11\n",
        "    actions.append([0] + [1]*9) #12\n",
        "    actions.append([0]*2 + [1]*8) #13\n",
        "    actions.append([0]*1 + [1]*9) #14\n",
        "    actions.append([0]*2 + [1]*8) #15\n",
        "    actions.append([0]*5 + [1]*5) #16\n",
        "    actions.append([0]*4 + [1]*6) #17\n",
        "    actions.extend([[0]*10]*4) # 18 to 21\n",
        "    \n",
        "    # dealer_up_card-2 takes care of input 1 which correcly looks up last column\n",
        "    return actions[player_sum-2][dealer_up_card-2]\n",
        "\n",
        "# Make sure actions have been stored correctly mainly when dealer's upcard is A\n",
        "assert (normal_strategy(15, 2)) == 0\n",
        "assert (normal_strategy(15, 1)) == 1\n",
        "\n",
        "\n",
        "num_rounds = 10000 # Payout calculated over num_rounds\n",
        "num_samples = 100 # num_rounds simulated over num_samples\n",
        "total_payout = 0 # to store total payout over 'num_rounds'\n",
        "\n",
        "for _ in range(num_samples):\n",
        "    round = 1\n",
        "    while round <= num_rounds:\n",
        "        player_sum, dealer_up_card, is_done = (env._get_obs())\n",
        "        \n",
        "        # Take action based on normal strategy stored above\n",
        "        action = normal_strategy(player_sum, dealer_up_card) \n",
        "        \n",
        "        obs, payout, is_done, _ = env.step(action)\n",
        "        total_payout += payout\n",
        "        if is_done:\n",
        "            env.reset() # Environment deals new cards to player and dealer\n",
        "            round += 1\n",
        "    \n",
        "print (\"Average payout after {} rounds is {}\".format(num_rounds, total_payout/num_samples))"
      ],
      "execution_count": 3,
      "outputs": [
        {
          "output_type": "stream",
          "text": [
            "Average payout after 10000 rounds is -994.49\n"
          ],
          "name": "stdout"
        }
      ]
    },
    {
      "metadata": {
        "id": "BT9gdS7viJZa",
        "colab_type": "text"
      },
      "cell_type": "markdown",
      "source": [
        "### Assignment questions\n",
        "\n",
        "After you've worked on some code, answer the following questions in this text block:\n",
        "\n",
        "1.  Describe in a paragraph of text what you did and why, as if you were writing an email to somebody interested but nontechnical.\n",
        "\n",
        "** I found a persons online jupyter notebook (which is a computer code notebook) about the card game blackjack and inserted some of the code into this assignment notebook. I then changed only the number of rounds the programing code calculated. The original notebook attempts to simulate the random game and gives the players playing strategy depending on the random cards that are dealt through the programing simulation **\n",
        "\n",
        "2.  What was the most challenging part of what you did?\n",
        "\n",
        "** There was not much that was challenging about what I did, however I did not challenge myself or attept to write code that I don't know about and change the code in any technical way**\n",
        "\n",
        "3.  What was the most interesting thing you learned?\n",
        "\n",
        "**The most interesting thing I learned was the process of linking a Github python notebook to a colob notebook**\n",
        "\n",
        "4.  What area would you like to explore with more time?\n",
        "\n",
        "**With more time I would like practice more with python**\n"
      ]
    },
    {
      "metadata": {
        "id": "_XXg2crAipwP",
        "colab_type": "text"
      },
      "cell_type": "markdown",
      "source": [
        "## Stretch goals and resources\n",
        "\n",
        "Following are *optional* things for you to take a look at. Focus on the above assignment first, and make sure to commit and push your changes to GitHub (and since this is the first assignment of the sprint, open a PR as well).\n",
        "\n",
        "- [pandas documentation](https://pandas.pydata.org/pandas-docs/stable/)\n",
        "- [scikit-learn documentation](http://scikit-learn.org/stable/documentation.html)\n",
        "- [matplotlib documentation](https://matplotlib.org/contents.html)\n",
        "- [Awesome Data Science](https://github.com/bulutyazilim/awesome-datascience) - a list of many types of DS resources\n",
        "\n",
        "Stretch goals:\n",
        "\n",
        "- Find and read blogs, walkthroughs, and other examples of people working through cool things with data science - and share with your classmates!\n",
        "- Write a blog post (Medium is a popular place to publish) introducing yourself as somebody learning data science, and talking about what you've learned already and what you're excited to learn more about."
      ]
    }
  ]
}