{
  "nbformat": 4,
  "nbformat_minor": 0,
  "metadata": {
    "colab": {
      "name": "LS_DS_111_A_First_Look_at_Data.ipynb",
      "version": "0.3.2",
      "provenance": [],
      "include_colab_link": true
    },
    "kernelspec": {
      "name": "python3",
      "display_name": "Python 3"
    }
  },
  "cells": [
    {
      "cell_type": "markdown",
      "metadata": {
        "id": "view-in-github",
        "colab_type": "text"
      },
      "source": [
        "<a href=\"https://colab.research.google.com/github/grommitt/DS-Unit-1-Sprint-1-Dealing-With-Data/blob/master/module1-afirstlookatdata/LS_DS_111_A_First_Look_at_Data.ipynb\" target=\"_parent\"><img src=\"https://colab.research.google.com/assets/colab-badge.svg\" alt=\"Open In Colab\"/></a>"
      ]
    },
    {
      "metadata": {
        "id": "Okfr_uhwhS1X",
        "colab_type": "text"
      },
      "cell_type": "markdown",
      "source": [
        "# Lambda School Data Science - A First Look at Data\n",
        "\n"
      ]
    },
    {
      "metadata": {
        "id": "9dtJETFRhnOG",
        "colab_type": "text"
      },
      "cell_type": "markdown",
      "source": [
        "## Lecture - let's explore Python DS libraries and examples!\n",
        "\n",
        "The Python Data Science ecosystem is huge. You've seen some of the big pieces - pandas, scikit-learn, matplotlib. What parts do you want to see more of?"
      ]
    },
    {
      "metadata": {
        "id": "WiBkgmPJhmhE",
        "colab_type": "code",
        "colab": {
          "base_uri": "https://localhost:8080/",
          "height": 34
        },
        "outputId": "1ef47508-efa7-4ac3-9e91-9c62a60dc245"
      },
      "cell_type": "code",
      "source": [
        "# TODO - we'll be doing this live, taking requests\n",
        "# and reproducing what it is to look up and learn things\n",
        "print('test change')"
      ],
      "execution_count": 1,
      "outputs": [
        {
          "output_type": "stream",
          "text": [
            "test change\n"
          ],
          "name": "stdout"
        }
      ]
    },
    {
      "metadata": {
        "id": "lOqaPds9huME",
        "colab_type": "text"
      },
      "cell_type": "markdown",
      "source": [
        "## Assignment - now it's your turn\n",
        "\n",
        "Pick at least one Python DS library, and using documentation/examples reproduce in this notebook something cool. It's OK if you don't fully understand it or get it 100% working, but do put in effort and look things up."
      ]
    },
    {
      "metadata": {
        "id": "TGUS79cOhPWj",
        "colab_type": "code",
        "colab": {
          "base_uri": "https://localhost:8080/",
          "height": 80
        },
        "outputId": "0a60215b-e04c-4bb4-aa71-93eaad8dbabc"
      },
      "cell_type": "code",
      "source": [
        "# TODO - your code here\n",
        "# Use what we did live in lecture as an example\n",
        "######## Smile Recognition Using OpenCV scikit-learn ########\n",
        "\n",
        "### Part 1: training a classifier on the existing faces dataset\n",
        "\n",
        "## Loading the faces dataset\n",
        "\n",
        "# sets the backend of matplotlib to the 'inline' backend; with this backend, the output of plotting commands\n",
        "#is displayed inline within frontends like the Jupyter notebook, directly below the code cell that produced it.\n",
        "%matplotlib inline \n",
        "\n",
        "#import everything from pylab bruh\n",
        "from pylab import * \n",
        "\n",
        "#just so I don't forget that it's needed\n",
        "from sklearn import datasets \n",
        "\n",
        "#define a variable for the 400 images of the olivetti_faces\n",
        "faces = datasets.fetch_olivetti_faces()\n",
        "\n",
        "#access the data through the keys below\n",
        "faces.keys()\n",
        "\n",
        "#plot a selection of images on the dataset\n",
        "for i in range(10):\n",
        "  face = faces.images[i]\n",
        "  subplot(1, 10, i + 1)\n",
        "  imshow(face.reshape((64, 64)), cmap='gray')\n",
        "  axis('off')"
      ],
      "execution_count": 1,
      "outputs": [
        {
          "output_type": "display_data",
          "data": {
            "image/png": "[encoded data removed]",
            "text/plain": [
              "<Figure size 432x288 with 10 Axes>"
            ]
          },
          "metadata": {
            "tags": []
          }
        }
      ]
    },
    {
      "metadata": {
        "id": "Qrpm7HxV6D5Q",
        "colab_type": "code",
        "colab": {
          "base_uri": "https://localhost:8080/",
          "height": 268
        },
        "outputId": "468487a4-9a2f-44ad-cc97-06350166656b"
      },
      "cell_type": "code",
      "source": [
        "## Producing the smile training data\n",
        "\n",
        "#classify the images into two categories: smiling, not smiling\n",
        "\n",
        "#  interact autogenerates UI controls for function arguments, and then calls\n",
        "#the function with those arguments when you manipulate the controls interactively.\n",
        "import ipywidgets as widgets\n",
        "\n",
        "# clear_output clears the output of the current cell receiving output\n",
        "from IPython.display import display, clear_output\n",
        "\n",
        "#  the class below stores the outcome of the user classification as a dictionary and is used to display the\n",
        "#next image upon pressing a button from the GUI.\n",
        "class Trainer:\n",
        "  def __init__(self):\n",
        "    self.results = {}\n",
        "    self.imgs = faces.images\n",
        "    self.index = 0\n",
        "    \n",
        "  def increment_face(self):\n",
        "    if self.index + 1 >= len(self.imgs):\n",
        "      return self.index\n",
        "    else:\n",
        "      while str(self.index) in self.results:\n",
        "        print(self.index)\n",
        "        self.index += 1\n",
        "      return self.index\n",
        "    \n",
        "  def record_result(self, smile=True):\n",
        "    self.results[str(self.index)] = smile\n",
        "    \n",
        "#instantiate the class\n",
        "trainer = Trainer()\n",
        "\n",
        "#design a user interface using two buttons from the ipywidgets tools\n",
        "button_smile = widgets.Button(description='smile')\n",
        "button_no_smile = widgets.Button(description='sad face')\n",
        "\n",
        "def display_face(face):\n",
        "  clear_output()\n",
        "  imshow(face, cmap='gray')\n",
        "  axis('off')\n",
        "  \n",
        "def update_smile(b):\n",
        "  trainer.record_result(smile=True)\n",
        "  trainer.increment_face()\n",
        "  display_face(trainer.imgs[trainer.index])\n",
        "  \n",
        "def update_no_smile(b):\n",
        "  trainer.record_result(smile=False)\n",
        "  trainer.increment_face()\n",
        "  display_face(trainer.imgs[trainer.index])\n",
        "  \n",
        "button_no_smile.on_click(update_no_smile)\n",
        "button_smile.on_click(update_smile)\n",
        "\n",
        "display(button_smile)\n",
        "display(button_no_smile)\n",
        "display_face(trainer.imgs[trainer.index])"
      ],
      "execution_count": 2,
      "outputs": [
        {
          "output_type": "display_data",
          "data": {
            "image/png": "[encoded data removed]",
            "text/plain": [
              "<Figure size 432x288 with 1 Axes>"
            ]
          },
          "metadata": {
            "tags": []
          }
        }
      ]
    },
    {
      "metadata": {
        "id": "BT9gdS7viJZa",
        "colab_type": "text"
      },
      "cell_type": "markdown",
      "source": [
        "### Assignment questions\n",
        "\n",
        "After you've worked on some code, answer the following questions in this text block:\n",
        "\n",
        "1.  Describe in a paragraph of text what you did and why, as if you were writing an email to somebody interested but nontechnical.\n",
        "\n",
        "2.  What was the most challenging part of what you did?\n",
        "\n",
        "3.  What was the most interesting thing you learned?\n",
        "\n",
        "4.  What area would you like to explore with more time?\n",
        "\n",
        "\n"
      ]
    },
    {
      "metadata": {
        "id": "wzPTphsz612J",
        "colab_type": "text"
      },
      "cell_type": "markdown",
      "source": [
        "This is a scikit-learn library intented to determine if a person is smiling in a picture. Step one is to import the \"Olivetti faces\" library that contains the images. Additionally, we will need to create functions to go from one image to the next, as well as classify if the person is smiling or not smiling. The most challenging part of this assignment was getting the buttons to work as I have not been able to do that. The most interesting thing I learned is that there are many libraries available in regards to face recognition. I would like to spend more time studying data that analyzes hidden structures associated with eye movements."
      ]
    },
    {
      "metadata": {
        "id": "_XXg2crAipwP",
        "colab_type": "text"
      },
      "cell_type": "markdown",
      "source": [
        "## Stretch goals and resources\n",
        "\n",
        "Following are *optional* things for you to take a look at. Focus on the above assignment first, and make sure to commit and push your changes to GitHub (and since this is the first assignment of the sprint, open a PR as well).\n",
        "\n",
        "- [pandas documentation](https://pandas.pydata.org/pandas-docs/stable/)\n",
        "- [scikit-learn documentation](http://scikit-learn.org/stable/documentation.html)\n",
        "- [matplotlib documentation](https://matplotlib.org/contents.html)\n",
        "- [Awesome Data Science](https://github.com/bulutyazilim/awesome-datascience) - a list of many types of DS resources\n",
        "\n",
        "Stretch goals:\n",
        "\n",
        "- Find and read blogs, walkthroughs, and other examples of people working through cool things with data science - and share with your classmates!\n",
        "- Write a blog post (Medium is a popular place to publish) introducing yourself as somebody learning data science, and talking about what you've learned already and what you're excited to learn more about."
      ]
    }
  ]
}