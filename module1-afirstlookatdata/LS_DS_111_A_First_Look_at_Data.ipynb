{
  "nbformat": 4,
  "nbformat_minor": 0,
  "metadata": {
    "colab": {
      "name": "LS_DS_111_A_First_Look_at_Data.ipynb",
      "version": "0.3.2",
      "provenance": []
    },
    "kernelspec": {
      "name": "python3",
      "display_name": "Python 3"
    }
  },
  "cells": [
    {
      "metadata": {
        "id": "Okfr_uhwhS1X",
        "colab_type": "text"
      },
      "cell_type": "markdown",
      "source": [
        "# Lambda School Data Science - A First Look at Data\n",
        "\n"
      ]
    },
    {
      "metadata": {
        "id": "9dtJETFRhnOG",
        "colab_type": "text"
      },
      "cell_type": "markdown",
      "source": [
        "## Lecture - let's explore Python DS libraries and examples!\n",
        "\n",
        "The Python Data Science ecosystem is huge. You've seen some of the big pieces - pandas, scikit-learn, matplotlib. What parts do you want to see more of?"
      ]
    },
    {
      "metadata": {
        "id": "WiBkgmPJhmhE",
        "colab_type": "code",
        "colab": {}
      },
      "cell_type": "code",
      "source": [
        "# TODO - we'll be doing this live, taking requests\n",
        "# and reproducing what it is to look up and learn things\n",
        "\n"
      ],
      "execution_count": 0,
      "outputs": []
    },
    {
      "metadata": {
        "id": "lOqaPds9huME",
        "colab_type": "text"
      },
      "cell_type": "markdown",
      "source": [
        "## Assignment - now it's your turn\n",
        "\n",
        "Pick at least one Python DS library, and using documentation/examples reproduce in this notebook something cool. It's OK if you don't fully understand it or get it 100% working, but do put in effort and look things up."
      ]
    },
    {
      "metadata": {
        "id": "TGUS79cOhPWj",
        "colab_type": "code",
        "colab": {
          "base_uri": "https://localhost:8080/",
          "height": 72
        },
        "outputId": "c4b616fc-e908-4f35-f400-bef71a56440c"
      },
      "cell_type": "code",
      "source": [
        "### For this assignment, I decided to work using the SymPy library, the documentation\n",
        "### of which can be found here: https://docs.sympy.org/latest/index.html\n",
        "\n",
        "from sympy import *\n",
        "import numpy as np\n",
        "\n",
        "x, y, z = symbols(\"x y z\")\n",
        "\n",
        "### The following function approximates the sum of a convergent alternating series within\n",
        "### the desired error. \n",
        "\n",
        "### We know from calculus that a convergent alternating series can be approximated\n",
        "### by taking the partial sum (the first n terms), which is within the absolute value of the\n",
        "### next term (i.e. |a_(n+1)|) of the actual sum of the entire series. That is to say, \n",
        "### the sum of the series is between the nth partial sum minus the (n+1)th term\n",
        "### and the nth partial sum plus the (n+1)th term.\n",
        "\n",
        "### Side-note: because an alternating series only converges if it's monotonically\n",
        "### decreasing, the looping logic for this problem is really easy: just check\n",
        "### successive absolute values to see when our error is small enough, adding intermediate\n",
        "### values all the while, then returning the result once we've gotten to the desired\n",
        "### range.\n",
        "\n",
        "### But, of course, this STILL requires more thought than we in our busy lives can account for,\n",
        "### and for most of us calculus was a long time ago.\n",
        "\n",
        "### So let's use Python to make our jobs that much easier. \n",
        "\n",
        "def approx_alt_series(math_series, error):\n",
        "  ### Double-check the first value of the series to see if we need to go any further\n",
        "  ### in our approximation\n",
        "  test_error = np.absolute(math_series.subs(x,1))\n",
        "  i=1\n",
        "  ### Initialize a variable to store our running approximation.\n",
        "  approx_sum = math_series.subs(x,i)\n",
        "  \n",
        "  ### As noted above, run this loop as long as we need to to get our error within\n",
        "  ### the appropriate bounds.\n",
        "  \n",
        "  while(np.absolute(math_series.subs(x,i)) > error):\n",
        "    \n",
        "    i+=1\n",
        "    approx_sum += math_series.subs(x,i)\n",
        "    test_error = np.absolute(math_series.subs(x,i))\n",
        "    \n",
        "  return approx_sum\n",
        "\n",
        "test_series = ((-1)**x)*x**-2\n",
        "\n",
        "print(\"The sum is approximately: {0}\".format(float(approx_alt_series(test_series, .01))))\n",
        "\n",
        "print(\"The sum is approximately: {0}\".format(float(approx_alt_series(test_series, .001))))  \n",
        "  \n",
        "print(\"The sum is approximately: {0}\".format(float(approx_alt_series(test_series, .00001))))\n",
        "\n"
      ],
      "execution_count": 27,
      "outputs": [
        {
          "output_type": "stream",
          "text": [
            "The sum is approximately: -0.8179621756109852\n",
            "The sum is approximately: -0.8219939961054308\n",
            "The sum is approximately: -0.8224719933971315\n"
          ],
          "name": "stdout"
        }
      ]
    },
    {
      "metadata": {
        "id": "BT9gdS7viJZa",
        "colab_type": "text"
      },
      "cell_type": "markdown",
      "source": [
        "### Assignment questions\n",
        "\n",
        "After you've worked on some code, answer the following questions in this text block:\n",
        "\n",
        "1.  Describe in a paragraph of text what you did and why, as if you were writing an email to somebody interested but nontechnical.\n",
        " \n",
        "Because calculus is a painful memory for most of us, I decided to automate one of the murkier, less clear parts of the subject. Now if we'd like to compute the sum of a convergent alternating series (whatever that is) to within a certain error, we can just use this code snippet.\n",
        "\n",
        "2.  What was the most challenging part of what you did?\n",
        "\n",
        "Trying to clarify and concisely summarize the steps of the algorithm I already have in my head. In a traditional calculus class, it's okay to omit steps and leave certain things implicit, but of course when trying to write code to perform automated tasks, we must take care to explicitly include (and carefully document) every step.\n",
        "\n",
        "3.  What was the most interesting thing you learned?\n",
        "\n",
        "In the pre-course, I played around a bit with different types of regressions, but didn't have a chance to work with Sympy. I'm quite pleased to see how robust it seems to be as a library and set of tools for computing all sorts of interesting things.\n",
        "\n",
        "4.  What area would you like to explore with more time?\n",
        "\n",
        "I would definitely like to make the snippet a bit more robust in the future; it would be nice if the snippet computed some approximations for other types of series. It would be even better to see if I could come up with a method to test other types of series for convergence. \n",
        "\n",
        "I decided to go with series convergence because, in my experience, it's one of the more difficult things to explain in calculus. Understanding how to tell when a series converges or diverges (or when we can't say for sure) relies, at least at the level of most students, on a level of intuition that can only really be gained by working lots and lots of problems.\n",
        "\n",
        "But, at least in principle, our brains are themselves but (extremely computationally efficient) machines, and our intuition but an algorithm implicitly derived from our experiences. We ought, then, to be able to slow down our thought processes and record each step carefully. Solving math problems, though more difficult for most of us humans than, say, recognizing an animal as a cat, a dog, or neither, ought to be simpler to implement in a computer than would an algorithm to differentiate between animals. As we progress through the course, I'd like to spend more time thinking about and practicing the translation of my intuitive understanding of things into computable algorithms and, hopefully, vice-versa.\n",
        "\n",
        "I talked more about this in the Medium post I wrote for the stretch goal: https://medium.com/@will.cotton4/intuition-a4a8abb5d206\n"
      ]
    },
    {
      "metadata": {
        "id": "_XXg2crAipwP",
        "colab_type": "text"
      },
      "cell_type": "markdown",
      "source": [
        "## Stretch goals and resources\n",
        "\n",
        "Following are *optional* things for you to take a look at. Focus on the above assignment first, and make sure to commit and push your changes to GitHub (and since this is the first assignment of the sprint, open a PR as well).\n",
        "\n",
        "- [pandas documentation](https://pandas.pydata.org/pandas-docs/stable/)\n",
        "- [scikit-learn documentation](http://scikit-learn.org/stable/documentation.html)\n",
        "- [matplotlib documentation](https://matplotlib.org/contents.html)\n",
        "- [Awesome Data Science](https://github.com/bulutyazilim/awesome-datascience) - a list of many types of DS resources\n",
        "\n",
        "Stretch goals:\n",
        "\n",
        "- Find and read blogs, walkthroughs, and other examples of people working through cool things with data science - and share with your classmates!\n",
        "- Write a blog post (Medium is a popular place to publish) introducing yourself as somebody learning data science, and talking about what you've learned already and what you're excited to learn more about.\n",
        "\n",
        "Here's a Medium post: https://medium.com/@will.cotton4/intuition-a4a8abb5d206\n"
      ]
    }
  ]
}