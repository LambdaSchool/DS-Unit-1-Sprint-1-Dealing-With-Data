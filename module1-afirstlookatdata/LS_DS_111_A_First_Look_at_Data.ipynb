{
  "nbformat": 4,
  "nbformat_minor": 0,
  "metadata": {
    "colab": {
      "name": "LS_DS_111_A_First_Look_at_Data.ipynb",
      "version": "0.3.2",
      "provenance": [],
      "include_colab_link": true
    },
    "kernelspec": {
      "name": "python3",
      "display_name": "Python 3"
    }
  },
  "cells": [
    {
      "cell_type": "markdown",
      "metadata": {
        "id": "view-in-github",
        "colab_type": "text"
      },
      "source": [
        "<a href=\"https://colab.research.google.com/github/Higgins2718/DS-Unit-1-Sprint-1-Dealing-With-Data/blob/master/module1-afirstlookatdata/LS_DS_111_A_First_Look_at_Data.ipynb\" target=\"_parent\"><img src=\"https://colab.research.google.com/assets/colab-badge.svg\" alt=\"Open In Colab\"/></a>"
      ]
    },
    {
      "metadata": {
        "id": "Okfr_uhwhS1X",
        "colab_type": "text"
      },
      "cell_type": "markdown",
      "source": [
        "# Lambda School Data Science - A First Look at Data\n",
        "\n"
      ]
    },
    {
      "metadata": {
        "id": "9dtJETFRhnOG",
        "colab_type": "text"
      },
      "cell_type": "markdown",
      "source": [
        "## Lecture - let's explore Python DS libraries and examples!\n",
        "\n",
        "The Python Data Science ecosystem is huge. You've seen some of the big pieces - pandas, scikit-learn, matplotlib. What parts do you want to see more of?"
      ]
    },
    {
      "metadata": {
        "id": "WiBkgmPJhmhE",
        "colab_type": "code",
        "outputId": "3ddfb6e8-c695-48f0-f2e2-0558bbc486b2",
        "colab": {
          "base_uri": "https://localhost:8080/",
          "height": 35
        }
      },
      "cell_type": "code",
      "source": [
        "# TODO - we'll be doing this live, taking requests\n",
        "# and reproducing what it is to look up and learn things\n",
        "\n",
        "1 + 1"
      ],
      "execution_count": 2,
      "outputs": [
        {
          "output_type": "execute_result",
          "data": {
            "text/plain": [
              "2"
            ]
          },
          "metadata": {
            "tags": []
          },
          "execution_count": 2
        }
      ]
    },
    {
      "metadata": {
        "id": "lOqaPds9huME",
        "colab_type": "text"
      },
      "cell_type": "markdown",
      "source": [
        "## Assignment - now it's your turn\n",
        "\n",
        "Pick at least one Python DS library, and using documentation/examples reproduce in this notebook something cool. It's OK if you don't fully understand it or get it 100% working, but do put in effort and look things up."
      ]
    },
    {
      "metadata": {
        "id": "otTkMU452R_C",
        "colab_type": "code",
        "colab": {
          "base_uri": "https://localhost:8080/",
          "height": 379
        },
        "outputId": "0eba4113-eb96-4247-d637-e9f041c76a37"
      },
      "cell_type": "code",
      "source": [
        "!pip install boilerpipe3"
      ],
      "execution_count": 75,
      "outputs": [
        {
          "output_type": "stream",
          "text": [
            "Collecting boilerpipe3\n",
            "\u001b[?25l  Downloading https://files.pythonhosted.org/packages/6f/53/13795e30c8b6335b4c21ef408a18bc3217380ef24fef05a4e9dc8252ea63/boilerpipe3-1.1.tar.gz (1.3MB)\n",
            "\u001b[K    100% |████████████████████████████████| 1.3MB 16.0MB/s \n",
            "\u001b[?25hCollecting JPype1-py3 (from boilerpipe3)\n",
            "\u001b[?25l  Downloading https://files.pythonhosted.org/packages/59/90/149647ac2c8649a5983fcc47c78f2881af80cbd99f54248ac31b3d611618/JPype1-py3-0.5.5.2.tar.gz (87kB)\n",
            "\u001b[K    100% |████████████████████████████████| 92kB 25.9MB/s \n",
            "\u001b[?25hCollecting charade (from boilerpipe3)\n",
            "\u001b[?25l  Downloading https://files.pythonhosted.org/packages/74/26/565610c87e951b8a3182df890589c280a16c5897cfbca97eebd73705e0c6/charade-1.0.3.tar.gz (168kB)\n",
            "\u001b[K    100% |████████████████████████████████| 174kB 23.7MB/s \n",
            "\u001b[?25hBuilding wheels for collected packages: boilerpipe3, JPype1-py3, charade\n",
            "  Building wheel for boilerpipe3 (setup.py) ... \u001b[?25ldone\n",
            "\u001b[?25h  Stored in directory: /root/.cache/pip/wheels/b9/fd/7e/8db2c536d1946876d32cc990bf9e9ea255c563ccf8a76dc25d\n",
            "  Building wheel for JPype1-py3 (setup.py) ... \u001b[?25ldone\n",
            "\u001b[?25h  Stored in directory: /root/.cache/pip/wheels/76/7d/41/829109c81b0c4bdca8047fb9e0a573d4db3b671fbbe84a84f3\n",
            "  Building wheel for charade (setup.py) ... \u001b[?25ldone\n",
            "\u001b[?25h  Stored in directory: /root/.cache/pip/wheels/17/e4/b6/f27d4d6c000855ea7180a28099cd8d758b1d5debce4fac2d65\n",
            "Successfully built boilerpipe3 JPype1-py3 charade\n",
            "Installing collected packages: JPype1-py3, charade, boilerpipe3\n",
            "Successfully installed JPype1-py3-0.5.5.2 boilerpipe3-1.1 charade-1.0.3\n"
          ],
          "name": "stdout"
        }
      ]
    },
    {
      "metadata": {
        "id": "NFfCkdaGtXqM",
        "colab_type": "code",
        "colab": {
          "base_uri": "https://localhost:8080/",
          "height": 197
        },
        "outputId": "39963dfb-5c73-4fc2-995a-06946d2d576f"
      },
      "cell_type": "code",
      "source": [
        "import httplib2\n",
        "import re\n",
        "from bs4 import BeautifulSoup\n",
        "\n",
        "http = httplib2.Http()\n",
        "status, response = http.request('https://www.nytimes.com/section/opinion/editorials')\n",
        "\n",
        "soup = BeautifulSoup(response, 'html5lib')\n",
        "\n",
        "#links = []\n",
        " \n",
        "#for link in soup.findAll('a', attrs={'href': re.compile(\"^http(s?)://\")}):\n",
        "    #links.append(link.get('href'))\n",
        "\n",
        "#for link in links:\n",
        "    #print(link)\n",
        "mydivs = soup.findAll('h2', class_=\"css-1dq8tca e1xfvim30\")\n",
        "headlines = []\n",
        "for div in mydivs:\n",
        "  print(div.getText())\n",
        "  headlines.append(div.getText())\n",
        "#print(mydivs)\n",
        "# css-1dq8tca e1xfvim30"
      ],
      "execution_count": 94,
      "outputs": [
        {
          "output_type": "stream",
          "text": [
            "China’s Brutal ‘Boarding Schools’\n",
            "Trump Wants to Eliminate H.I.V. But Some of His Policies Do the Opposite.\n",
            "How to Challenge Albany’s Corrupt Culture\n",
            "‘The President … Is Not Above the Law’\n",
            "Why Does the U.S. Tolerate So Much Risk?\n",
            "The New Zealand Massacre Was Made to Go Viral\n",
            "Senate Republicans’ Declaration of (Semi-) Independence\n",
            "American Gun Culture Goes on Trial\n",
            "The Man Who Changed the Constitution, Twice\n",
            "Her Crime? Defending Women’s Rights in Iran\n"
          ],
          "name": "stdout"
        }
      ]
    },
    {
      "metadata": {
        "id": "rzDJNbQT70Uc",
        "colab_type": "code",
        "colab": {}
      },
      "cell_type": "code",
      "source": [
        "import nltk\n",
        "nltk.download('averaged_perceptron_tagger')\n",
        "nltk.download('punkt')"
      ],
      "execution_count": 0,
      "outputs": []
    },
    {
      "metadata": {
        "id": "4OBBOVez6t_m",
        "colab_type": "code",
        "colab": {
          "base_uri": "https://localhost:8080/",
          "height": 287
        },
        "outputId": "f7f169d2-5990-41aa-e893-04e16062e8f8"
      },
      "cell_type": "code",
      "source": [
        "proper_noun = []\n",
        "for item in headlines:\n",
        "    tokens = nltk.word_tokenize(item,)\n",
        "    tokenized = nltk.pos_tag(tokens)\n",
        "    #print(tokenized)\n",
        "\n",
        "\n",
        "    for t in tokenized:\n",
        "        if t[1].startswith(\"NNP\"):\n",
        "            #print(tokenized.index(t))\n",
        "            index_num = tokenized.index(t)\n",
        "            #print(t[0])\n",
        "            if index_num == 0:\n",
        "                next_item = tokenized[1]\n",
        "                if next_item[1].startswith(\"NNP\"):\n",
        "                    pn = t[0] + \" \" + next_item[0]\n",
        "                    proper_noun.append(pn)\n",
        "                    print(pn.replace(\" ’\", \"\").replace(\" …\", \"\"))\n",
        "                else:\n",
        "                    pass\n",
        "                    #print(\"Second char isn't proper noun\")\n",
        "            elif index_num != 0 and t[0] not in str(proper_noun) and index_num != len(tokenized)-1:\n",
        "                #print(\"ADDITIONAL \", t[0])\n",
        "                if tokenized[int(index_num + 1)][1].startswith(\"NNP\"):\n",
        "                    pn = t[0] + \" \" + tokenized[int(index_num + 1)][0]\n",
        "                    print(pn.replace(\" ’\", \"\").replace(\" …\", \"\"))\n",
        "\n"
      ],
      "execution_count": 108,
      "outputs": [
        {
          "output_type": "stream",
          "text": [
            "China\n",
            "Brutal ‘\n",
            "‘ Boarding\n",
            "Boarding Schools\n",
            "Albany\n",
            "President\n",
            "U.S. Tolerate\n",
            "New Zealand\n",
            "Zealand Massacre\n",
            "Massacre Was\n",
            "Was Made\n",
            "Senate Republicans\n",
            "American Gun\n",
            "Culture Goes\n",
            "Women\n"
          ],
          "name": "stdout"
        }
      ]
    },
    {
      "metadata": {
        "id": "jGpd7SYTwnWA",
        "colab_type": "text"
      },
      "cell_type": "markdown",
      "source": [
        "BONUS: This makes matplotlib plots look like XKCD!"
      ]
    },
    {
      "metadata": {
        "id": "VWuUtRFbmI3j",
        "colab_type": "code",
        "colab": {}
      },
      "cell_type": "code",
      "source": [
        "import numpy as np\n",
        "import pylab as pl\n",
        "from scipy import interpolate, signal\n",
        "import matplotlib.font_manager as fm\n",
        "\n",
        "\n",
        "# We need a special font for the code below.  It can be downloaded this way:\n",
        "import os\n",
        "import urllib.request\n",
        "if not os.path.exists('Humor-Sans.ttf'):\n",
        "    fhandle = urllib.request.urlopen('http://antiyawn.com/uploads/Humor-Sans-1.0.ttf')\n",
        "    open('Humor-Sans.ttf', 'wb').write(fhandle.read())\n",
        "    \n",
        "def xkcd_line(x, y, xlim=None, ylim=None,\n",
        "              mag=1.0, f1=30, f2=0.05, f3=15):\n",
        "    \"\"\"\n",
        "    Mimic a hand-drawn line from (x, y) data\n",
        "\n",
        "    Parameters\n",
        "    ----------\n",
        "    x, y : array_like\n",
        "        arrays to be modified\n",
        "    xlim, ylim : data range\n",
        "        the assumed plot range for the modification.  If not specified,\n",
        "        they will be guessed from the  data\n",
        "    mag : float\n",
        "        magnitude of distortions\n",
        "    f1, f2, f3 : int, float, int\n",
        "        filtering parameters.  f1 gives the size of the window, f2 gives\n",
        "        the high-frequency cutoff, f3 gives the size of the filter\n",
        "    \n",
        "    Returns\n",
        "    -------\n",
        "    x, y : ndarrays\n",
        "        The modified lines\n",
        "    \"\"\"\n",
        "    x = np.asarray(x)\n",
        "    y = np.asarray(y)\n",
        "    \n",
        "    # get limits for rescaling\n",
        "    if xlim is None:\n",
        "        xlim = (x.min(), x.max())\n",
        "    if ylim is None:\n",
        "        ylim = (y.min(), y.max())\n",
        "\n",
        "    if xlim[1] == xlim[0]:\n",
        "        xlim = ylim\n",
        "        \n",
        "    if ylim[1] == ylim[0]:\n",
        "        ylim = xlim\n",
        "\n",
        "    # scale the data\n",
        "    x_scaled = (x - xlim[0]) * 1. / (xlim[1] - xlim[0])\n",
        "    y_scaled = (y - ylim[0]) * 1. / (ylim[1] - ylim[0])\n",
        "\n",
        "    # compute the total distance along the path\n",
        "    dx = x_scaled[1:] - x_scaled[:-1]\n",
        "    dy = y_scaled[1:] - y_scaled[:-1]\n",
        "    dist_tot = np.sum(np.sqrt(dx * dx + dy * dy))\n",
        "\n",
        "    # number of interpolated points is proportional to the distance\n",
        "    Nu = int(200 * dist_tot)\n",
        "    u = np.arange(-1, Nu + 1) * 1. / (Nu - 1)\n",
        "\n",
        "    # interpolate curve at sampled points\n",
        "    k = min(3, len(x) - 1)\n",
        "    res = interpolate.splprep([x_scaled, y_scaled], s=0, k=k)\n",
        "    x_int, y_int = interpolate.splev(u, res[0]) \n",
        "\n",
        "    # we'll perturb perpendicular to the drawn line\n",
        "    dx = x_int[2:] - x_int[:-2]\n",
        "    dy = y_int[2:] - y_int[:-2]\n",
        "    dist = np.sqrt(dx * dx + dy * dy)\n",
        "\n",
        "    # create a filtered perturbation\n",
        "    coeffs = mag * np.random.normal(0, 0.01, len(x_int) - 2)\n",
        "    b = signal.firwin(f1, f2 * dist_tot, window=('kaiser', f3))\n",
        "    response = signal.lfilter(b, 1, coeffs)\n",
        "\n",
        "    x_int[1:-1] += response * dy / dist\n",
        "    y_int[1:-1] += response * dx / dist\n",
        "\n",
        "    # un-scale data\n",
        "    x_int = x_int[1:-1] * (xlim[1] - xlim[0]) + xlim[0]\n",
        "    y_int = y_int[1:-1] * (ylim[1] - ylim[0]) + ylim[0]\n",
        "    \n",
        "    return x_int, y_int\n",
        "  \n",
        "  \n",
        "  \n",
        "def XKCDify(ax, mag=1.0,\n",
        "            f1=50, f2=0.01, f3=15,\n",
        "            bgcolor='w',\n",
        "            xaxis_loc=None,\n",
        "            yaxis_loc=None,\n",
        "            xaxis_arrow='+',\n",
        "            yaxis_arrow='+',\n",
        "            ax_extend=0.1,\n",
        "            expand_axes=False):\n",
        "    \"\"\"Make axis look hand-drawn\n",
        "\n",
        "    This adjusts all lines, text, legends, and axes in the figure to look\n",
        "    like xkcd plots.  Other plot elements are not modified.\n",
        "    \n",
        "    Parameters\n",
        "    ----------\n",
        "    ax : Axes instance\n",
        "        the axes to be modified.\n",
        "    mag : float\n",
        "        the magnitude of the distortion\n",
        "    f1, f2, f3 : int, float, int\n",
        "        filtering parameters.  f1 gives the size of the window, f2 gives\n",
        "        the high-frequency cutoff, f3 gives the size of the filter\n",
        "    xaxis_loc, yaxis_log : float\n",
        "        The locations to draw the x and y axes.  If not specified, they\n",
        "        will be drawn from the bottom left of the plot\n",
        "    xaxis_arrow, yaxis_arrow : str\n",
        "        where to draw arrows on the x/y axes.  Options are '+', '-', '+-', or ''\n",
        "    ax_extend : float\n",
        "        How far (fractionally) to extend the drawn axes beyond the original\n",
        "        axes limits\n",
        "    expand_axes : bool\n",
        "        if True, then expand axes to fill the figure (useful if there is only\n",
        "        a single axes in the figure)\n",
        "    \"\"\"\n",
        "    # Get axes aspect\n",
        "    ext = ax.get_window_extent().extents\n",
        "    aspect = (ext[3] - ext[1]) / (ext[2] - ext[0])\n",
        "\n",
        "    xlim = ax.get_xlim()\n",
        "    ylim = ax.get_ylim()\n",
        "\n",
        "    xspan = xlim[1] - xlim[0]\n",
        "    yspan = ylim[1] - xlim[0]\n",
        "\n",
        "    xax_lim = (xlim[0] - ax_extend * xspan,\n",
        "               xlim[1] + ax_extend * xspan)\n",
        "    yax_lim = (ylim[0] - ax_extend * yspan,\n",
        "               ylim[1] + ax_extend * yspan)\n",
        "\n",
        "    if xaxis_loc is None:\n",
        "        xaxis_loc = ylim[0]\n",
        "\n",
        "    if yaxis_loc is None:\n",
        "        yaxis_loc = xlim[0]\n",
        "\n",
        "    # Draw axes\n",
        "    xaxis = pl.Line2D([xax_lim[0], xax_lim[1]], [xaxis_loc, xaxis_loc],\n",
        "                      linestyle='-', color='k')\n",
        "    yaxis = pl.Line2D([yaxis_loc, yaxis_loc], [yax_lim[0], yax_lim[1]],\n",
        "                      linestyle='-', color='k')\n",
        "\n",
        "    # Label axes3, 0.5, 'hello', fontsize=14)\n",
        "    ax.text(xax_lim[1], xaxis_loc - 0.02 * yspan, ax.get_xlabel(),\n",
        "            fontsize=14, ha='right', va='top', rotation=12)\n",
        "    ax.text(yaxis_loc - 0.02 * xspan, yax_lim[1], ax.get_ylabel(),\n",
        "            fontsize=14, ha='right', va='top', rotation=78)\n",
        "    ax.set_xlabel('')\n",
        "    ax.set_ylabel('')\n",
        "\n",
        "    # Add title\n",
        "    ax.text(0.5 * (xax_lim[1] + xax_lim[0]), yax_lim[1],\n",
        "            ax.get_title(),\n",
        "            ha='center', va='bottom', fontsize=16)\n",
        "    ax.set_title('')\n",
        "\n",
        "    Nlines = len(ax.lines)\n",
        "    lines = [xaxis, yaxis] + [ax.lines.pop(0) for i in range(Nlines)]\n",
        "\n",
        "    for line in lines:\n",
        "        x, y = line.get_data()\n",
        "\n",
        "        x_int, y_int = xkcd_line(x, y, xlim, ylim,\n",
        "                                 mag, f1, f2, f3)\n",
        "\n",
        "        # create foreground and background line\n",
        "        lw = line.get_linewidth()\n",
        "        line.set_linewidth(2 * lw)\n",
        "        line.set_data(x_int, y_int)\n",
        "\n",
        "        # don't add background line for axes\n",
        "        if (line is not xaxis) and (line is not yaxis):\n",
        "            line_bg = pl.Line2D(x_int, y_int, color=bgcolor,\n",
        "                                linewidth=8 * lw)\n",
        "\n",
        "            ax.add_line(line_bg)\n",
        "        ax.add_line(line)\n",
        "\n",
        "    # Draw arrow-heads at the end of axes lines\n",
        "    arr1 = 0.03 * np.array([-1, 0, -1])\n",
        "    arr2 = 0.02 * np.array([-1, 0, 1])\n",
        "\n",
        "    arr1[::2] += np.random.normal(0, 0.005, 2)\n",
        "    arr2[::2] += np.random.normal(0, 0.005, 2)\n",
        "\n",
        "    x, y = xaxis.get_data()\n",
        "    if '+' in str(xaxis_arrow):\n",
        "        ax.plot(x[-1] + arr1 * xspan * aspect,\n",
        "                y[-1] + arr2 * yspan,\n",
        "                color='k', lw=2)\n",
        "    if '-' in str(xaxis_arrow):\n",
        "        ax.plot(x[0] - arr1 * xspan * aspect,\n",
        "                y[0] - arr2 * yspan,\n",
        "                color='k', lw=2)\n",
        "\n",
        "    x, y = yaxis.get_data()\n",
        "    if '+' in str(yaxis_arrow):\n",
        "        ax.plot(x[-1] + arr2 * xspan * aspect,\n",
        "                y[-1] + arr1 * yspan,\n",
        "                color='k', lw=2)\n",
        "    if '-' in str(yaxis_arrow):\n",
        "        ax.plot(x[0] - arr2 * xspan * aspect,\n",
        "                y[0] - arr1 * yspan,\n",
        "                color='k', lw=2)\n",
        "\n",
        "    # Change all the fonts to humor-sans.\n",
        "    prop = fm.FontProperties(fname='Humor-Sans.ttf', size=16)\n",
        "    for text in ax.texts:\n",
        "        text.set_fontproperties(prop)\n",
        "    \n",
        "    # modify legend\n",
        "    leg = ax.get_legend()\n",
        "    if leg is not None:\n",
        "        leg.set_frame_on(False)\n",
        "        \n",
        "        for child in leg.get_children():\n",
        "            if isinstance(child, pl.Line2D):\n",
        "                x, y = child.get_data()\n",
        "                child.set_data(xkcd_line(x, y, mag=10, f1=100, f2=0.001))\n",
        "                child.set_linewidth(2 * child.get_linewidth())\n",
        "            if isinstance(child, pl.Text):\n",
        "                child.set_fontproperties(prop)\n",
        "    \n",
        "    # Set the axis limits\n",
        "    ax.set_xlim(xax_lim[0] - 0.1 * xspan,\n",
        "                xax_lim[1] + 0.1 * xspan)\n",
        "    ax.set_ylim(yax_lim[0] - 0.1 * yspan,\n",
        "                yax_lim[1] + 0.1 * yspan)\n",
        "\n",
        "    # adjust the axes\n",
        "    ax.set_xticks([])\n",
        "    ax.set_yticks([])      \n",
        "\n",
        "    if expand_axes:\n",
        "        ax.figure.set_facecolor(bgcolor)\n",
        "        ax.set_axis_off()\n",
        "        ax.set_position([0, 0, 1, 1])\n",
        "    \n",
        "    return ax"
      ],
      "execution_count": 0,
      "outputs": []
    },
    {
      "metadata": {
        "id": "AMsjBLCImmyY",
        "colab_type": "code",
        "colab": {
          "base_uri": "https://localhost:8080/",
          "height": 109
        },
        "outputId": "7505eebd-93cc-485b-9c26-071ba2a6790d"
      },
      "cell_type": "code",
      "source": [
        "%pylab inline\n"
      ],
      "execution_count": 12,
      "outputs": [
        {
          "output_type": "stream",
          "text": [
            "Populating the interactive namespace from numpy and matplotlib\n"
          ],
          "name": "stdout"
        },
        {
          "output_type": "stream",
          "text": [
            "/usr/local/lib/python3.6/dist-packages/IPython/core/magics/pylab.py:161: UserWarning: pylab import has clobbered these variables: ['product']\n",
            "`%matplotlib` prevents importing * from pylab and numpy\n",
            "  \"\\n`%matplotlib` prevents importing * from pylab and numpy\"\n"
          ],
          "name": "stderr"
        }
      ]
    },
    {
      "metadata": {
        "id": "GJqcOsJNmpQZ",
        "colab_type": "code",
        "colab": {
          "base_uri": "https://localhost:8080/",
          "height": 339
        },
        "outputId": "84c6cafc-9c68-41db-9a82-f0a04b69fa8d"
      },
      "cell_type": "code",
      "source": [
        "np.random.seed(0)\n",
        "\n",
        "ax = pylab.axes()\n",
        "\n",
        "x = np.linspace(0, 10, 100)\n",
        "ax.plot(x, np.sin(x) * np.exp(-0.1 * (x - 5) ** 2), 'b', lw=1, label='damped sine')\n",
        "ax.plot(x, -np.cos(x) * np.exp(-0.1 * (x - 5) ** 2), 'r', lw=1, label='damped cosine')\n",
        "\n",
        "ax.set_title('This is real code!')\n",
        "ax.set_xlabel('x label')\n",
        "ax.set_ylabel('y label')\n",
        "\n",
        "ax.legend(loc='lower right')\n",
        "\n",
        "ax.set_xlim(0, 10)\n",
        "ax.set_ylim(-1.0, 1.0)\n",
        "\n",
        "#XKCDify the axes -- this operates in-place\n",
        "XKCDify(ax, xaxis_loc=0.0, yaxis_loc=1.0,\n",
        "        xaxis_arrow='+-', yaxis_arrow='+-',\n",
        "        expand_axes=True)"
      ],
      "execution_count": 16,
      "outputs": [
        {
          "output_type": "execute_result",
          "data": {
            "text/plain": [
              "<matplotlib.axes._subplots.AxesSubplot at 0x7fa1f58782b0>"
            ]
          },
          "metadata": {
            "tags": []
          },
          "execution_count": 16
        },
        {
          "output_type": "display_data",
          "data": {
            "image/png": "[encoded data removed]",
            "text/plain": [
              "<Figure size 432x288 with 1 Axes>"
            ]
          },
          "metadata": {
            "tags": []
          }
        }
      ]
    },
    {
      "metadata": {
        "id": "BT9gdS7viJZa",
        "colab_type": "text"
      },
      "cell_type": "markdown",
      "source": [
        "### Assignment questions\n",
        "\n",
        "After you've worked on some code, answer the following questions in this text block:\n",
        "\n",
        "1.  Describe in a paragraph of text what you did and why, as if you were writing an email to somebody interested but nontechnical.\n",
        "\n",
        "2.  What was the most challenging part of what you did?\n",
        "\n",
        "3.  What was the most interesting thing you learned?\n",
        "\n",
        "4.  What area would you like to explore with more time?\n",
        "\n",
        "\n"
      ]
    },
    {
      "metadata": {
        "id": "XLxjyBz0BBva",
        "colab_type": "text"
      },
      "cell_type": "markdown",
      "source": [
        "I modified a webscraper that I found [here](https://github.com/mikhailklassen/Mining-the-Social-Web-3rd-Edition/blob/master/notebooks/Chapter%206%20-%20Mining%20Web%20Pages.ipynb) to parse the NYT's editorials page and print out all the headlines. I then used natural language processing to determine the subject of each article. For example, \"China’s Brutal ‘Boarding Schools’\" corrrectly returns \"China\" as the subject.\n",
        "\n",
        "The most challenging part was extracting a subject from each headline with a fair degree of accuracy.\n",
        "\n",
        "The most interesting thing I learned was how difficult it is to hard-code rules for topic modeling!\n",
        "\n",
        "With more time, I'd like to apply actual machine learning to this so that the correct subjects are found more frequently."
      ]
    },
    {
      "metadata": {
        "id": "_XXg2crAipwP",
        "colab_type": "text"
      },
      "cell_type": "markdown",
      "source": [
        "## Stretch goals and resources\n",
        "\n",
        "Following are *optional* things for you to take a look at. Focus on the above assignment first, and make sure to commit and push your changes to GitHub (and since this is the first assignment of the sprint, open a PR as well).\n",
        "\n",
        "- [pandas documentation](https://pandas.pydata.org/pandas-docs/stable/)\n",
        "- [scikit-learn documentation](http://scikit-learn.org/stable/documentation.html)\n",
        "- [matplotlib documentation](https://matplotlib.org/contents.html)\n",
        "- [Awesome Data Science](https://github.com/bulutyazilim/awesome-datascience) - a list of many types of DS resources\n",
        "\n",
        "Stretch goals:\n",
        "\n",
        "- Find and read blogs, walkthroughs, and other examples of people working through cool things with data science - and share with your classmates!\n",
        "- Write a blog post (Medium is a popular place to publish) introducing yourself as somebody learning data science, and talking about what you've learned already and what you're excited to learn more about."
      ]
    }
  ]
}