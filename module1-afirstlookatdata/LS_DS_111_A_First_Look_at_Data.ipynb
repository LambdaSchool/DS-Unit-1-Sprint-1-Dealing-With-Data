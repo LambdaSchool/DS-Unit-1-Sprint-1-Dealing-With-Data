{
  "nbformat": 4,
  "nbformat_minor": 0,
  "metadata": {
    "colab": {
      "name": "LS_DS_111_A_First_Look_at_Data.ipynb",
      "version": "0.3.2",
      "provenance": []
    },
    "kernelspec": {
      "name": "python3",
      "display_name": "Python 3"
    }
  },
  "cells": [
    {
      "cell_type": "markdown",
      "metadata": {
        "id": "Okfr_uhwhS1X",
        "colab_type": "text"
      },
      "source": [
        "# Lambda School Data Science - A First Look at Data\n",
        "\n"
      ]
    },
    {
      "cell_type": "markdown",
      "metadata": {
        "id": "9dtJETFRhnOG",
        "colab_type": "text"
      },
      "source": [
        "## Lecture - let's explore Python DS libraries and examples!\n",
        "\n",
        "The Python Data Science ecosystem is huge. You've seen some of the big pieces - pandas, scikit-learn, matplotlib. What parts do you want to see more of?"
      ]
    },
    {
      "cell_type": "code",
      "metadata": {
        "id": "WiBkgmPJhmhE",
        "colab_type": "code",
        "colab": {}
      },
      "source": [
        "# TODO - we'll be doing this live, taking requests\n",
        "#test\n",
        "# and reproducing what it is to look up and learn things"
      ],
      "execution_count": 0,
      "outputs": []
    },
    {
      "cell_type": "markdown",
      "metadata": {
        "id": "lOqaPds9huME",
        "colab_type": "text"
      },
      "source": [
        "## Assignment - now it's your turn\n",
        "\n",
        "Pick at least one Python DS library, and using documentation/examples reproduce in this notebook something cool. It's OK if you don't fully understand it or get it 100% working, but do put in effort and look things up."
      ]
    },
    {
      "cell_type": "code",
      "metadata": {
        "id": "TGUS79cOhPWj",
        "colab_type": "code",
        "colab": {
          "base_uri": "https://localhost:8080/",
          "height": 810
        },
        "outputId": "39b657b7-b5f1-475b-d1ce-e4b314846c1b"
      },
      "source": [
        "# TODO - your code here\n",
        "\n",
        "import pandas as pd\n",
        "import numpy as np\n",
        "import matplotlib.pyplot as plt\n",
        "import seaborn as sns\n",
        "\n",
        "df = pd.read_csv('https://raw.githubusercontent.com/fivethirtyeight/data/master/airline-safety/airline-safety.csv')\n",
        "\n",
        "print(df.head())\n",
        "print(df.isnull().sum())\n",
        "\n",
        "histogram1 = plt.hist(df['fatalities_85_99'], color = 'b')\n",
        "plt.show()\n",
        "\n",
        "histogram2 = plt.hist(df['fatalities_00_14'], color = 'r')\n",
        "plt.show()\n",
        "\n",
        "\n",
        "\n",
        "\n",
        "\n",
        "\n",
        "# Use what we did live in lecture as an example"
      ],
      "execution_count": 23,
      "outputs": [
        {
          "output_type": "stream",
          "text": [
            "                 airline  ...  fatalities_00_14\n",
            "0             Aer Lingus  ...                 0\n",
            "1              Aeroflot*  ...                88\n",
            "2  Aerolineas Argentinas  ...                 0\n",
            "3            Aeromexico*  ...                 0\n",
            "4             Air Canada  ...                 0\n",
            "\n",
            "[5 rows x 8 columns]\n",
            "airline                   0\n",
            "avail_seat_km_per_week    0\n",
            "incidents_85_99           0\n",
            "fatal_accidents_85_99     0\n",
            "fatalities_85_99          0\n",
            "incidents_00_14           0\n",
            "fatal_accidents_00_14     0\n",
            "fatalities_00_14          0\n",
            "dtype: int64\n"
          ],
          "name": "stdout"
        },
        {
          "output_type": "display_data",
          "data": {
            "image/png": "[encoded data removed]",
            "text/plain": [
              "<Figure size 432x288 with 1 Axes>"
            ]
          },
          "metadata": {
            "tags": []
          }
        },
        {
          "output_type": "display_data",
          "data": {
            "image/png": "[encoded data removed]",
            "text/plain": [
              "<Figure size 432x288 with 1 Axes>"
            ]
          },
          "metadata": {
            "tags": []
          }
        }
      ]
    },
    {
      "cell_type": "markdown",
      "metadata": {
        "id": "BT9gdS7viJZa",
        "colab_type": "text"
      },
      "source": [
        "### Assignment questions\n",
        "\n",
        "After you've worked on some code, answer the following questions in this text block:\n",
        "\n",
        "1.  Describe in a paragraph of text what you did and why, as if you were writing an email to somebody interested but nontechnical.\n",
        "\n",
        "First I downloaded a dataset about the number of fatalities in airline incidents. I then looked at how the fatalities were distributed among incidents in the period from 1985 to 1999 and how fatalities were distributed from 2000 to 2014. It appears that incidents with lower numbers of fatilities became more common, but there were fewer incidents with more than 150 fatalities.\n",
        "\n",
        "2.  What was the most challenging part of what you did?\n",
        "\n",
        "Loading the dataset was the most difficult aspect. I spent most of my time trying to get a dataset to load that turned out to be seperated by tabs not by commas. I then found this different dataset to work with instead.\n",
        "\n",
        "3.  What was the most interesting thing you learned?\n",
        "\n",
        "I learned that you can use:\n",
        "\n",
        "from google.colab import files\n",
        "downloaded = files.download()\n",
        "\n",
        "to enable me to choose a file to import from the finder.\n",
        "\n",
        "4.  What area would you like to explore with more time?\n",
        "\n",
        "I would like to know to handle datasets delimited by something other than commas. Also, how to use python to do significance tests to see things like if the change in the fatality distribution is significant.\n",
        "\n",
        "\n"
      ]
    },
    {
      "cell_type": "markdown",
      "metadata": {
        "id": "_XXg2crAipwP",
        "colab_type": "text"
      },
      "source": [
        "## Stretch goals and resources\n",
        "\n",
        "Following are *optional* things for you to take a look at. Focus on the above assignment first, and make sure to commit and push your changes to GitHub (and since this is the first assignment of the sprint, open a PR as well).\n",
        "\n",
        "- [pandas documentation](https://pandas.pydata.org/pandas-docs/stable/)\n",
        "- [scikit-learn documentation](http://scikit-learn.org/stable/documentation.html)\n",
        "- [matplotlib documentation](https://matplotlib.org/contents.html)\n",
        "- [Awesome Data Science](https://github.com/bulutyazilim/awesome-datascience) - a list of many types of DS resources\n",
        "\n",
        "Stretch goals:\n",
        "\n",
        "- Find and read blogs, walkthroughs, and other examples of people working through cool things with data science - and share with your classmates!\n",
        "- Write a blog post (Medium is a popular place to publish) introducing yourself as somebody learning data science, and talking about what you've learned already and what you're excited to learn more about."
      ]
    }
  ]
}