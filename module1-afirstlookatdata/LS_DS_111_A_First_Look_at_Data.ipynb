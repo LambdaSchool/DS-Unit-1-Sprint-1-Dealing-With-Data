{
  "nbformat": 4,
  "nbformat_minor": 0,
  "metadata": {
    "colab": {
      "name": "LS_DS_111_A_First_Look_at_Data.ipynb",
      "version": "0.3.2",
      "provenance": [],
      "include_colab_link": true
    },
    "kernelspec": {
      "name": "python3",
      "display_name": "Python 3"
    }
  },
  "cells": [
    {
      "cell_type": "markdown",
      "metadata": {
        "id": "view-in-github",
        "colab_type": "text"
      },
      "source": [
        "<a href=\"https://colab.research.google.com/github/JayellWolfe/DS-Unit-1-Sprint-1-Dealing-With-Data/blob/master/module1-afirstlookatdata/LS_DS_111_A_First_Look_at_Data.ipynb\" target=\"_parent\"><img src=\"https://colab.research.google.com/assets/colab-badge.svg\" alt=\"Open In Colab\"/></a>"
      ]
    },
    {
      "cell_type": "markdown",
      "metadata": {
        "id": "Okfr_uhwhS1X",
        "colab_type": "text"
      },
      "source": [
        "# Lambda School Data Science - A First Look at Data\n",
        "\n"
      ]
    },
    {
      "cell_type": "markdown",
      "metadata": {
        "id": "9dtJETFRhnOG",
        "colab_type": "text"
      },
      "source": [
        "## Lecture - let's explore Python DS libraries and examples!\n",
        "\n",
        "The Python Data Science ecosystem is huge. You've seen some of the big pieces - pandas, scikit-learn, matplotlib. What parts do you want to see more of?"
      ]
    },
    {
      "cell_type": "code",
      "metadata": {
        "id": "WiBkgmPJhmhE",
        "colab_type": "code",
        "colab": {}
      },
      "source": [
        "# TODO - we'll be doing this live, taking requests\n",
        "# and reproducing what it is to look up and learn things\n",
        "\n"
      ],
      "execution_count": 0,
      "outputs": []
    },
    {
      "cell_type": "markdown",
      "metadata": {
        "id": "lOqaPds9huME",
        "colab_type": "text"
      },
      "source": [
        "## Assignment - now it's your turn\n",
        "\n",
        "Pick at least one Python DS library, and using documentation/examples reproduce in this notebook something cool. It's OK if you don't fully understand it or get it 100% working, but do put in effort and look things up."
      ]
    },
    {
      "cell_type": "code",
      "metadata": {
        "id": "TGUS79cOhPWj",
        "colab_type": "code",
        "colab": {
          "base_uri": "https://localhost:8080/",
          "height": 336
        },
        "outputId": "05e2b8e1-9903-40e4-d08b-d9ba5104f728"
      },
      "source": [
        "# TODO - your code here\n",
        "# Use what we did live in lecture as an example\n",
        "\n",
        "\n",
        "import random\n",
        "\n",
        "number = random.randint(1, 20)\n",
        "tries = 0\n",
        "win = False # setting a win flag to false\n",
        "\n",
        "\n",
        "name = input(\"Hello, Enter User name?\")\n",
        "\n",
        "print(\"Hello\" + name + \".\" )\n",
        "\n",
        "question = input(\"Would you like to play a game? [Y/N] \")\n",
        "if question.lower() == \"n\": #in case of capital letters is entered\n",
        "    print(\"oh..okay\")\n",
        "    exit()\n",
        "if question.lower() == \"y\":\n",
        "    print(\"I'm thinking of a number between 1 & 20\")\n",
        "while not win:       # while the win is not true, run the while loop. We set win to false at the start therefore this will always run\n",
        "    guess = int(input(\"Can you guess: \"))\n",
        "    tries = tries + 1\n",
        "    if guess == number:\n",
        "        win = True    # set win to true when the user guesses correctly.\n",
        "    elif guess < number:\n",
        "        print(\"Incorrect, Please guess higher\")\n",
        "    elif guess > number:\n",
        "        print(\"Incorrect, Please guess lower\")\n",
        "# if win is true then output message\n",
        "print(\"Congrats, you guessed correctly. The number was indeed {}\".format(number))\n",
        "print(\"it had taken you {} tries\".format(tries))\n",
        "\n"
      ],
      "execution_count": 22,
      "outputs": [
        {
          "output_type": "stream",
          "text": [
            "Hello, Enter User name?Jessica\n",
            "HelloJessica.\n",
            "Would you like to play a game? [Y/N] y\n",
            "I'm thinking of a number between 1 & 20\n",
            "Can you guess: 20\n",
            "Incorrect, Please guess lower\n",
            "Can you guess: 3\n",
            "Incorrect, Please guess higher\n",
            "Can you guess: 14\n",
            "Incorrect, Please guess lower\n",
            "Can you guess: 12\n",
            "Incorrect, Please guess lower\n",
            "Can you guess: 6\n",
            "Incorrect, Please guess lower\n",
            "Can you guess: 3\n",
            "Incorrect, Please guess higher\n",
            "Can you guess: 4\n",
            "Congrats, you guessed correctly. The number was indeed 4\n",
            "it had taken you 7 tries\n"
          ],
          "name": "stdout"
        }
      ]
    },
    {
      "cell_type": "code",
      "metadata": {
        "id": "DUeWbS9qhwg6",
        "colab_type": "code",
        "colab": {}
      },
      "source": [
        "#I took this and this is not my code at all but this was so super cool I just had to use this as my example for this assignment. I did change some of the wording and the number range within the code though to make it more something i would have written "
      ],
      "execution_count": 0,
      "outputs": []
    },
    {
      "cell_type": "markdown",
      "metadata": {
        "id": "BT9gdS7viJZa",
        "colab_type": "text"
      },
      "source": [
        "### Assignment questions\n",
        "\n",
        "After you've worked on some code, answer the following questions in this text block:\n",
        "\n",
        "1.  Describe in a paragraph of text what you did and why, as if you were writing an email to somebody interested but nontechnical.\n",
        "\n",
        "2.  What was the most challenging part of what you did?\n",
        "\n",
        "3.  What was the most interesting thing you learned?\n",
        "\n",
        "4.  What area would you like to explore with more time?\n",
        "\n",
        "\n"
      ]
    },
    {
      "cell_type": "code",
      "metadata": {
        "id": "frZLINKmiacV",
        "colab_type": "code",
        "colab": {}
      },
      "source": [
        "#1 i added code for a neat little guessing game that was basic yet still super fun to play with \n",
        "#2 changing the numbers, the first time i did it i made a mistake and created an error but i figured it out and fixed it rather quickly \n",
        "#3 how fun and easy creating a game in python is \n",
        "#4 Anything and everything to do with AI and machine learning "
      ],
      "execution_count": 0,
      "outputs": []
    },
    {
      "cell_type": "markdown",
      "metadata": {
        "id": "_XXg2crAipwP",
        "colab_type": "text"
      },
      "source": [
        "## Stretch goals and resources\n",
        "\n",
        "Following are *optional* things for you to take a look at. Focus on the above assignment first, and make sure to commit and push your changes to GitHub (and since this is the first assignment of the sprint, open a PR as well).\n",
        "\n",
        "- [pandas documentation](https://pandas.pydata.org/pandas-docs/stable/)\n",
        "- [scikit-learn documentation](http://scikit-learn.org/stable/documentation.html)\n",
        "- [matplotlib documentation](https://matplotlib.org/contents.html)\n",
        "- [Awesome Data Science](https://github.com/bulutyazilim/awesome-datascience) - a list of many types of DS resources\n",
        "\n",
        "Stretch goals:\n",
        "\n",
        "- Find and read blogs, walkthroughs, and other examples of people working through cool things with data science - and share with your classmates!\n",
        "- Write a blog post (Medium is a popular place to publish) introducing yourself as somebody learning data science, and talking about what you've learned already and what you're excited to learn more about."
      ]
    }
  ]
}