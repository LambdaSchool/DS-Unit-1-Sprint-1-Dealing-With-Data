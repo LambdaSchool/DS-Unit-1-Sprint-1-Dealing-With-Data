{
  "nbformat": 4,
  "nbformat_minor": 0,
  "metadata": {
    "colab": {
      "name": "LS_DS_111_A_First_Look_at_Data.ipynb",
      "version": "0.3.2",
      "provenance": [],
      "toc_visible": true,
      "include_colab_link": true
    },
    "kernelspec": {
      "name": "python3",
      "display_name": "Python 3"
    }
  },
  "cells": [
    {
      "cell_type": "markdown",
      "metadata": {
        "id": "view-in-github",
        "colab_type": "text"
      },
      "source": [
        "<a href=\"https://colab.research.google.com/github/Michaelaraya0210/DS-Unit-1-Sprint-1-Dealing-With-Data/blob/master/module1-afirstlookatdata/LS_DS_111_A_First_Look_at_Data.ipynb\" target=\"_parent\"><img src=\"https://colab.research.google.com/assets/colab-badge.svg\" alt=\"Open In Colab\"/></a>"
      ]
    },
    {
      "cell_type": "markdown",
      "metadata": {
        "id": "Okfr_uhwhS1X",
        "colab_type": "text"
      },
      "source": [
        "# Lambda School Data Science - A First Look at Data\n",
        "\n"
      ]
    },
    {
      "cell_type": "markdown",
      "metadata": {
        "id": "9dtJETFRhnOG",
        "colab_type": "text"
      },
      "source": [
        "## Lecture - let's explore Python DS libraries and examples!\n",
        "\n",
        "The Python Data Science ecosystem is huge. You've seen some of the big pieces - pandas, scikit-learn, matplotlib. What parts do you want to see more of?"
      ]
    },
    {
      "cell_type": "code",
      "metadata": {
        "id": "WiBkgmPJhmhE",
        "colab_type": "code",
        "colab": {}
      },
      "source": [
        "# TODO - we'll be doing this live, taking requests\n",
        "# and reproducing what it is to look up and learn things\n",
        "\n",
        "\n",
        "List = [1,3,5,6,3,5,7,4,2,,1]"
      ],
      "execution_count": 0,
      "outputs": []
    },
    {
      "cell_type": "markdown",
      "metadata": {
        "id": "lOqaPds9huME",
        "colab_type": "text"
      },
      "source": [
        "## Assignment - now it's your turn\n",
        "\n",
        "Pick at least one Python DS library, and using documentation/examples reproduce in this notebook something cool. It's OK if you don't fully understand it or get it 100% working, but do put in effort and look things up."
      ]
    },
    {
      "cell_type": "code",
      "metadata": {
        "id": "TGUS79cOhPWj",
        "colab_type": "code",
        "outputId": "db085680-c69b-4d02-b26e-464398714456",
        "colab": {
          "base_uri": "https://localhost:8080/",
          "height": 224
        }
      },
      "source": [
        "# TODO - your code here\n",
        "# Use what we did live in lecture as an example\n",
        "\n",
        "import pandas as pd\n",
        "\n",
        "# from google.colab import files\n",
        "# uploaded = files.upload(2013-2019.tsv)\n",
        "\n",
        "\n",
        "df = pd.read_csv('pmsm_temperature_data.csv')\n",
        "df.head()"
      ],
      "execution_count": 0,
      "outputs": [
        {
          "output_type": "execute_result",
          "data": {
            "text/html": [
              "<div>\n",
              "<style scoped>\n",
              "    .dataframe tbody tr th:only-of-type {\n",
              "        vertical-align: middle;\n",
              "    }\n",
              "\n",
              "    .dataframe tbody tr th {\n",
              "        vertical-align: top;\n",
              "    }\n",
              "\n",
              "    .dataframe thead th {\n",
              "        text-align: right;\n",
              "    }\n",
              "</style>\n",
              "<table border=\"1\" class=\"dataframe\">\n",
              "  <thead>\n",
              "    <tr style=\"text-align: right;\">\n",
              "      <th></th>\n",
              "      <th>ambient</th>\n",
              "      <th>coolant</th>\n",
              "      <th>u_d</th>\n",
              "      <th>u_q</th>\n",
              "      <th>motor_speed</th>\n",
              "      <th>torque</th>\n",
              "      <th>i_d</th>\n",
              "      <th>i_q</th>\n",
              "      <th>pm</th>\n",
              "      <th>stator_yoke</th>\n",
              "      <th>stator_tooth</th>\n",
              "      <th>stator_winding</th>\n",
              "      <th>profile_id</th>\n",
              "    </tr>\n",
              "  </thead>\n",
              "  <tbody>\n",
              "    <tr>\n",
              "      <th>0</th>\n",
              "      <td>-0.752143</td>\n",
              "      <td>-1.118446</td>\n",
              "      <td>0.327935</td>\n",
              "      <td>-1.297858</td>\n",
              "      <td>-1.222428</td>\n",
              "      <td>-0.250182</td>\n",
              "      <td>1.029572</td>\n",
              "      <td>-0.245860</td>\n",
              "      <td>-2.522071</td>\n",
              "      <td>-1.831422</td>\n",
              "      <td>-2.066143</td>\n",
              "      <td>-2.018033</td>\n",
              "      <td>4.0</td>\n",
              "    </tr>\n",
              "    <tr>\n",
              "      <th>1</th>\n",
              "      <td>-0.771263</td>\n",
              "      <td>-1.117021</td>\n",
              "      <td>0.329665</td>\n",
              "      <td>-1.297686</td>\n",
              "      <td>-1.222429</td>\n",
              "      <td>-0.249133</td>\n",
              "      <td>1.029509</td>\n",
              "      <td>-0.245832</td>\n",
              "      <td>-2.522418</td>\n",
              "      <td>-1.830969</td>\n",
              "      <td>-2.064859</td>\n",
              "      <td>-2.017631</td>\n",
              "      <td>4.0</td>\n",
              "    </tr>\n",
              "    <tr>\n",
              "      <th>2</th>\n",
              "      <td>-0.782892</td>\n",
              "      <td>-1.116681</td>\n",
              "      <td>0.332771</td>\n",
              "      <td>-1.301822</td>\n",
              "      <td>-1.222428</td>\n",
              "      <td>-0.249431</td>\n",
              "      <td>1.029448</td>\n",
              "      <td>-0.245818</td>\n",
              "      <td>-2.522673</td>\n",
              "      <td>-1.830400</td>\n",
              "      <td>-2.064073</td>\n",
              "      <td>-2.017343</td>\n",
              "      <td>4.0</td>\n",
              "    </tr>\n",
              "    <tr>\n",
              "      <th>3</th>\n",
              "      <td>-0.780935</td>\n",
              "      <td>-1.116764</td>\n",
              "      <td>0.333700</td>\n",
              "      <td>-1.301852</td>\n",
              "      <td>-1.222430</td>\n",
              "      <td>-0.248636</td>\n",
              "      <td>1.032845</td>\n",
              "      <td>-0.246955</td>\n",
              "      <td>-2.521639</td>\n",
              "      <td>-1.830333</td>\n",
              "      <td>-2.063137</td>\n",
              "      <td>-2.017632</td>\n",
              "      <td>4.0</td>\n",
              "    </tr>\n",
              "    <tr>\n",
              "      <th>4</th>\n",
              "      <td>-0.774043</td>\n",
              "      <td>-1.116775</td>\n",
              "      <td>0.335206</td>\n",
              "      <td>-1.303118</td>\n",
              "      <td>-1.222429</td>\n",
              "      <td>-0.248701</td>\n",
              "      <td>1.031807</td>\n",
              "      <td>-0.246610</td>\n",
              "      <td>-2.521900</td>\n",
              "      <td>-1.830498</td>\n",
              "      <td>-2.062795</td>\n",
              "      <td>-2.018145</td>\n",
              "      <td>4.0</td>\n",
              "    </tr>\n",
              "  </tbody>\n",
              "</table>\n",
              "</div>"
            ],
            "text/plain": [
              "    ambient   coolant       u_d  ...  stator_tooth  stator_winding  profile_id\n",
              "0 -0.752143 -1.118446  0.327935  ...     -2.066143       -2.018033         4.0\n",
              "1 -0.771263 -1.117021  0.329665  ...     -2.064859       -2.017631         4.0\n",
              "2 -0.782892 -1.116681  0.332771  ...     -2.064073       -2.017343         4.0\n",
              "3 -0.780935 -1.116764  0.333700  ...     -2.063137       -2.017632         4.0\n",
              "4 -0.774043 -1.116775  0.335206  ...     -2.062795       -2.018145         4.0\n",
              "\n",
              "[5 rows x 13 columns]"
            ]
          },
          "metadata": {
            "tags": []
          },
          "execution_count": 5
        }
      ]
    },
    {
      "cell_type": "markdown",
      "metadata": {
        "id": "BT9gdS7viJZa",
        "colab_type": "text"
      },
      "source": [
        "### Assignment questions\n",
        "\n",
        "After you've worked on some code, answer the following questions in this text block:\n",
        "\n",
        "1.  Describe in a paragraph of text what you did and why, as if you were writing an email to somebody interested but nontechnical.\n",
        "\n",
        "2.  What was the most challenging part of what you did?\n",
        "\n",
        "3.  What was the most interesting thing you learned?\n",
        "\n",
        "4.  What area would you like to explore with more time?\n",
        "\n",
        "\n"
      ]
    },
    {
      "cell_type": "markdown",
      "metadata": {
        "id": "I0EmNBc_yZ68",
        "colab_type": "text"
      },
      "source": [
        "1. today is the first day of class and the first thing i was taught was how to import and manage datasets using Pandas. i also displayed some of the data from our data set. last i submitted a pull request with my changes on github.\n",
        "\n",
        "2. the most challenging part was finding the right dataset for this task. imported ones i couldnt use and ended up having to restart a couple of times\n",
        "\n",
        "3. the most interesting i learned was seeing how many differnt ways to do the same thing there is\n",
        "\n",
        "4. i would like to spend more time on repetition to memorize the frequantly used lines of code"
      ]
    },
    {
      "cell_type": "markdown",
      "metadata": {
        "id": "_XXg2crAipwP",
        "colab_type": "text"
      },
      "source": [
        "## Stretch goals and resources\n",
        "\n",
        "Following are *optional* things for you to take a look at. Focus on the above assignment first, and make sure to commit and push your changes to GitHub (and since this is the first assignment of the sprint, open a PR as well).\n",
        "\n",
        "- [pandas documentation](https://pandas.pydata.org/pandas-docs/stable/)\n",
        "- [scikit-learn documentation](http://scikit-learn.org/stable/documentation.html)\n",
        "- [matplotlib documentation](https://matplotlib.org/contents.html)\n",
        "- [Awesome Data Science](https://github.com/bulutyazilim/awesome-datascience) - a list of many types of DS resources\n",
        "\n",
        "Stretch goals:\n",
        "\n",
        "- Find and read blogs, walkthroughs, and other examples of people working through cool things with data science - and share with your classmates!\n",
        "- Write a blog post (Medium is a popular place to publish) introducing yourself as somebody learning data science, and talking about what you've learned already and what you're excited to learn more about."
      ]
    }
  ]
}