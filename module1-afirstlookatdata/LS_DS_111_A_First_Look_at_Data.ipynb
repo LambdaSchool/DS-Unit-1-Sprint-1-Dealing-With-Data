{
  "nbformat": 4,
  "nbformat_minor": 0,
  "metadata": {
    "colab": {
      "name": "LS_DS_111_A_First_Look_at_Data.ipynb",
      "version": "0.3.2",
      "provenance": []
    },
    "kernelspec": {
      "name": "python3",
      "display_name": "Python 3"
    }
  },
  "cells": [
    {
      "cell_type": "markdown",
      "metadata": {
        "id": "Okfr_uhwhS1X",
        "colab_type": "text"
      },
      "source": [
        "# Lambda School Data Science - A First Look at Data\n",
        "\n"
      ]
    },
    {
      "cell_type": "markdown",
      "metadata": {
        "id": "9dtJETFRhnOG",
        "colab_type": "text"
      },
      "source": [
        "## Lecture - let's explore Python DS libraries and examples!\n",
        "\n",
        "The Python Data Science ecosystem is huge. You've seen some of the big pieces - pandas, scikit-learn, matplotlib. What parts do you want to see more of?"
      ]
    },
    {
      "cell_type": "code",
      "metadata": {
        "id": "WiBkgmPJhmhE",
        "colab_type": "code",
        "colab": {}
      },
      "source": [
        "# TODO - we'll be doing this live, taking requests\n",
        "# and reproducing what it is to look up and learn things"
      ],
      "execution_count": 0,
      "outputs": []
    },
    {
      "cell_type": "markdown",
      "metadata": {
        "id": "lOqaPds9huME",
        "colab_type": "text"
      },
      "source": [
        "## Assignment - now it's your turn\n",
        "\n",
        "Pick at least one Python DS library, and using documentation/examples reproduce in this notebook something cool. It's OK if you don't fully understand it or get it 100% working, but do put in effort and look things up."
      ]
    },
    {
      "cell_type": "code",
      "metadata": {
        "id": "TGUS79cOhPWj",
        "colab_type": "code",
        "colab": {}
      },
      "source": [
        "# TODO - your code here\n",
        "# Use what we did live in lecture as an example\n",
        "# Reference URL: https://ipython-books.github.io/81-getting-started-with-scikit-learn/"
      ],
      "execution_count": 0,
      "outputs": []
    },
    {
      "cell_type": "markdown",
      "metadata": {
        "id": "4-PdCx70Ypsn",
        "colab_type": "text"
      },
      "source": [
        "### Imports\n"
      ]
    },
    {
      "cell_type": "code",
      "metadata": {
        "id": "bCnTvH5LABHR",
        "colab_type": "code",
        "colab": {}
      },
      "source": [
        "import matplotlib.pyplot as plt\n",
        "import numpy as np\n",
        "import sklearn.linear_model as lm\n",
        "import scipy.stats as st \n",
        "\n",
        "%matplotlib inline"
      ],
      "execution_count": 0,
      "outputs": []
    },
    {
      "cell_type": "markdown",
      "metadata": {
        "id": "trlbDAn4Y3Bp",
        "colab_type": "text"
      },
      "source": [
        "### Deterministic Nonlinear Function Underlying Our Generative Model"
      ]
    },
    {
      "cell_type": "code",
      "metadata": {
        "id": "siEL87ZQY_FS",
        "colab_type": "code",
        "colab": {}
      },
      "source": [
        "def f(x):\n",
        "  return np.exp(3*x)"
      ],
      "execution_count": 0,
      "outputs": []
    },
    {
      "cell_type": "code",
      "metadata": {
        "id": "6NCmXoOlZLJZ",
        "colab_type": "code",
        "colab": {}
      },
      "source": [
        "x_tr = np.linspace(0.,2,200)\n",
        "y_tr = f(x_tr)"
      ],
      "execution_count": 0,
      "outputs": []
    },
    {
      "cell_type": "code",
      "metadata": {
        "id": "Kl9pK0QfZSth",
        "colab_type": "code",
        "colab": {}
      },
      "source": [
        "x = np.array([0,.1,.2,.5,.8,.9,1])\n",
        "y = f(x) + 2*np.random.randn(len(x))"
      ],
      "execution_count": 0,
      "outputs": []
    },
    {
      "cell_type": "code",
      "metadata": {
        "id": "1fUTeMzfZeHu",
        "colab_type": "code",
        "colab": {
          "base_uri": "https://localhost:8080/",
          "height": 244
        },
        "outputId": "2ab97607-2cc6-4fac-e287-98a0adb9c2bb"
      },
      "source": [
        "fig, ax = plt.subplots(1,1,figsize=(6,3))\n",
        "ax.plot(x_tr, y_tr, '--k')\n",
        "ax.plot(x,y,'ok',ms=10)\n",
        "ax.set_xlim(0,1.5)\n",
        "ax.set_ylim(-10,80)\n",
        "ax.set_title('Generative model')\n",
        "# Dotted curve in image represents the generative model\n"
      ],
      "execution_count": 57,
      "outputs": [
        {
          "output_type": "execute_result",
          "data": {
            "text/plain": [
              "Text(0.5, 1.0, 'Generative model')"
            ]
          },
          "metadata": {
            "tags": []
          },
          "execution_count": 57
        },
        {
          "output_type": "display_data",
          "data": {
            "image/png": "[encoded data removed]",
            "text/plain": [
              "<Figure size 432x216 with 1 Axes>"
            ]
          },
          "metadata": {
            "tags": []
          }
        }
      ]
    },
    {
      "cell_type": "markdown",
      "metadata": {
        "id": "36eyM8IHdChl",
        "colab_type": "text"
      },
      "source": [
        "### Linear Model"
      ]
    },
    {
      "cell_type": "code",
      "metadata": {
        "id": "3VCHQfwydJza",
        "colab_type": "code",
        "colab": {}
      },
      "source": [
        "# Create model\n",
        "lr = lm.LinearRegression()\n",
        "# Train model on our training dataset\n",
        "lr.fit(x[:, np.newaxis], y)\n",
        "# Predict points with our trained model\n",
        "y_lr = lr.predict(x_tr[:, np.newaxis])"
      ],
      "execution_count": 0,
      "outputs": []
    },
    {
      "cell_type": "code",
      "metadata": {
        "id": "UzQG4WVSdfeB",
        "colab_type": "code",
        "colab": {
          "base_uri": "https://localhost:8080/",
          "height": 244
        },
        "outputId": "7532c104-1402-45aa-d83c-09a8c6ed3358"
      },
      "source": [
        "fig, ax = plt.subplots(1,1,figsize=(6,3))\n",
        "ax.plot(x_tr, y_tr, '--k')\n",
        "ax.plot(x_tr, y_lr, 'g')\n",
        "ax.plot(x,y,'ok', ms=10)\n",
        "ax.set_xlim(0,1.5)\n",
        "ax.set_ylim(-10, 80)\n",
        "ax.set_title(\"Linear Regression\")\n",
        "# Linear model does not fit well"
      ],
      "execution_count": 59,
      "outputs": [
        {
          "output_type": "execute_result",
          "data": {
            "text/plain": [
              "Text(0.5, 1.0, 'Linear Regression')"
            ]
          },
          "metadata": {
            "tags": []
          },
          "execution_count": 59
        },
        {
          "output_type": "display_data",
          "data": {
            "image/png": "[encoded data removed]",
            "text/plain": [
              "<Figure size 432x216 with 1 Axes>"
            ]
          },
          "metadata": {
            "tags": []
          }
        }
      ]
    },
    {
      "cell_type": "markdown",
      "metadata": {
        "id": "NAJ7piNoeQZf",
        "colab_type": "text"
      },
      "source": [
        "### Try A Polynomial Function"
      ]
    },
    {
      "cell_type": "code",
      "metadata": {
        "id": "pWhN5tIpeYxF",
        "colab_type": "code",
        "colab": {
          "base_uri": "https://localhost:8080/",
          "height": 214
        },
        "outputId": "cb147b1c-fcf0-42e5-8216-adc72be05062"
      },
      "source": [
        "lrp = lm.LinearRegression()\n",
        "fig, ax = plt.subplots(1,1,figsize=(6,3))\n",
        "ax.plot(x_tr, y_tr, '--k');"
      ],
      "execution_count": 60,
      "outputs": [
        {
          "output_type": "display_data",
          "data": {
            "image/png": "[encoded data removed]",
            "text/plain": [
              "<Figure size 432x216 with 1 Axes>"
            ]
          },
          "metadata": {
            "tags": []
          }
        }
      ]
    },
    {
      "cell_type": "code",
      "metadata": {
        "id": "-rP_Omg9e47I",
        "colab_type": "code",
        "colab": {
          "base_uri": "https://localhost:8080/",
          "height": 85
        },
        "outputId": "3eaaf862-e870-41e3-c529-ad7004a652b4"
      },
      "source": [
        "for deg, s in zip([2,5], ['-', '.']):\n",
        "  lrp.fit(np.vander(x, deg+1), y)\n",
        "  y_lrp = lrp.predict(np.vander(x_tr, deg+1))\n",
        "  ax.plot(x_tr, y_lrp, s, label=f'degree {deg}')\n",
        "  ax.legend(loc=2)\n",
        "  ax.set_xlim(0,1.5)\n",
        "  ax.set_ylim(-10,80)\n",
        "  \n",
        "  # Print the model's coefficients\n",
        "  print(f'Coefficients, degree {deg}:\\n\\t',' '.join(f'{c:.2f}' for c in lrp.coef_))\n",
        "  ax.plot(x,y,'ok',ms=10)\n",
        "  ax.set_title('Linear regression')"
      ],
      "execution_count": 61,
      "outputs": [
        {
          "output_type": "stream",
          "text": [
            "Coefficients, degree 2:\n",
            "\t 5.19 13.01 0.00\n",
            "Coefficients, degree 5:\n",
            "\t 778.52 -2107.87 2014.24 -783.77 119.19 0.00\n"
          ],
          "name": "stdout"
        }
      ]
    },
    {
      "cell_type": "code",
      "metadata": {
        "id": "zIJEGSGrhLfL",
        "colab_type": "code",
        "colab": {
          "base_uri": "https://localhost:8080/",
          "height": 261
        },
        "outputId": "5db45041-aa1d-40ff-c156-8a3f4b9823e2"
      },
      "source": [
        "ridge = lm.RidgeCV()\n",
        "\n",
        "fig, ax = plt.subplots(1,1,figsize=(6,3))\n",
        "ax.plot(x_tr, y_tr, '--k')\n",
        "\n",
        "for deg, s in zip([2,5], ['-','.']):\n",
        "  ridge.fit(np.vander(x, deg+1), y)\n",
        "  y_ridge = ridge.predict(np.vander(x_tr, deg+1))\n",
        "  ax.plot(x_tr, y_ridge, s, label='degree ' + str(deg))\n",
        "  ax.legend(loc=2)\n",
        "  ax.set_xlim(0,1.5)\n",
        "  ax.set_ylim(-10,80)\n",
        "  \n",
        "  # Print the model's coefficients\n",
        "  print(f'Coefficients, degree {deg}:', ' '.join(f'{c:.2f}' for c in ridge.coef_))\n",
        "  \n",
        "  ax.plot(x,y,'ok',ms=10)\n",
        "  ax.set_title('Ridge Regression')"
      ],
      "execution_count": 62,
      "outputs": [
        {
          "output_type": "stream",
          "text": [
            "Coefficients, degree 2: 7.95 9.31 0.00\n",
            "Coefficients, degree 5: 0.33 1.56 2.96 4.65 8.27 0.00\n"
          ],
          "name": "stdout"
        },
        {
          "output_type": "display_data",
          "data": {
            "image/png": "[encoded data removed]",
            "text/plain": [
              "<Figure size 432x216 with 1 Axes>"
            ]
          },
          "metadata": {
            "tags": []
          }
        }
      ]
    },
    {
      "cell_type": "markdown",
      "metadata": {
        "id": "BT9gdS7viJZa",
        "colab_type": "text"
      },
      "source": [
        "### Assignment questions\n",
        "\n",
        "After you've worked on some code, answer the following questions in this text block:\n",
        "\n",
        "1.  Describe in a paragraph of text what you did and why, as if you were writing an email to somebody interested but nontechnical.\n",
        "\n",
        "2.  What was the most challenging part of what you did?\n",
        "\n",
        "3.  What was the most interesting thing you learned?\n",
        "\n",
        "4.  What area would you like to explore with more time?\n",
        "\n",
        "\n"
      ]
    },
    {
      "cell_type": "markdown",
      "metadata": {
        "id": "dev_N_42jlNQ",
        "colab_type": "text"
      },
      "source": [
        "1) First, I created a function that assigns values to self-created (training) data. Then I implemented linear models to help pattern the self-created data and predict values for new, future (testing) data points as accurate as possible. I felt this tutorial was a good introduction to linear regression, curve fitting, scikit-learn, and various machine learning concepts.\n",
        "\n",
        "2) Grasping the terminology used across the different libraries and how they work together was probably the most challenging/time-consuming.\n",
        "\n",
        "3) The most interesting thing I learned was Ridge Regression. Introducing a small amount of bias when modeling training data could potentially reduce the amount of variance when aggregating testing data.\n",
        "\n",
        "4) With more time I would read additional documentation and go deeper into various data science libraries."
      ]
    },
    {
      "cell_type": "markdown",
      "metadata": {
        "id": "_XXg2crAipwP",
        "colab_type": "text"
      },
      "source": [
        "## Stretch goals and resources\n",
        "\n",
        "Following are *optional* things for you to take a look at. Focus on the above assignment first, and make sure to commit and push your changes to GitHub (and since this is the first assignment of the sprint, open a PR as well).\n",
        "\n",
        "- [pandas documentation](https://pandas.pydata.org/pandas-docs/stable/)\n",
        "- [scikit-learn documentation](http://scikit-learn.org/stable/documentation.html)\n",
        "- [matplotlib documentation](https://matplotlib.org/contents.html)\n",
        "- [Awesome Data Science](https://github.com/bulutyazilim/awesome-datascience) - a list of many types of DS resources\n",
        "\n",
        "Stretch goals:\n",
        "\n",
        "- Find and read blogs, walkthroughs, and other examples of people working through cool things with data science - and share with your classmates!\n",
        "- Write a blog post (Medium is a popular place to publish) introducing yourself as somebody learning data science, and talking about what you've learned already and what you're excited to learn more about."
      ]
    }
  ]
}