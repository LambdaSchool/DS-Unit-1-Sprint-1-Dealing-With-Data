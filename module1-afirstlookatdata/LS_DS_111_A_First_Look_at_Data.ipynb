{
  "nbformat": 4,
  "nbformat_minor": 0,
  "metadata": {
    "colab": {
      "name": "LS_DS_111_A_First_Look_at_Data.ipynb",
      "version": "0.3.2",
      "provenance": [],
      "include_colab_link": true
    },
    "kernelspec": {
      "name": "python3",
      "display_name": "Python 3"
    }
  },
  "cells": [
    {
      "cell_type": "markdown",
      "metadata": {
        "id": "view-in-github",
        "colab_type": "text"
      },
      "source": [
        "<a href=\"https://colab.research.google.com/github/mkirby1995/DS-Unit-1-Sprint-1-Dealing-With-Data/blob/master/module1-afirstlookatdata/LS_DS_111_A_First_Look_at_Data.ipynb\" target=\"_parent\"><img src=\"https://colab.research.google.com/assets/colab-badge.svg\" alt=\"Open In Colab\"/></a>"
      ]
    },
    {
      "metadata": {
        "id": "Okfr_uhwhS1X",
        "colab_type": "text"
      },
      "cell_type": "markdown",
      "source": [
        "# Lambda School Data Science - A First Look at Data\n",
        "\n"
      ]
    },
    {
      "metadata": {
        "id": "9dtJETFRhnOG",
        "colab_type": "text"
      },
      "cell_type": "markdown",
      "source": [
        "## Lecture - let's explore Python DS libraries and examples!\n",
        "\n",
        "The Python Data Science ecosystem is huge. You've seen some of the big pieces - pandas, scikit-learn, matplotlib. What parts do you want to see more of?"
      ]
    },
    {
      "metadata": {
        "id": "WiBkgmPJhmhE",
        "colab_type": "code",
        "outputId": "6532af4f-c9a5-403a-be3c-d9aea90ef44a",
        "colab": {
          "base_uri": "https://localhost:8080/",
          "height": 35
        }
      },
      "cell_type": "code",
      "source": [
        "# TODO - we'll be doing this live, taking requests\n",
        "# and reproducing what it is to look up and learn things\n",
        "1 + 1"
      ],
      "execution_count": 1,
      "outputs": [
        {
          "output_type": "execute_result",
          "data": {
            "text/plain": [
              "2"
            ]
          },
          "metadata": {
            "tags": []
          },
          "execution_count": 1
        }
      ]
    },
    {
      "metadata": {
        "id": "lOqaPds9huME",
        "colab_type": "text"
      },
      "cell_type": "markdown",
      "source": [
        "## Assignment - now it's your turn\n",
        "\n",
        "Pick at least one Python DS library, and using documentation/examples reproduce in this notebook something cool. It's OK if you don't fully understand it or get it 100% working, but do put in effort and look things up."
      ]
    },
    {
      "metadata": {
        "id": "TGUS79cOhPWj",
        "colab_type": "code",
        "colab": {}
      },
      "cell_type": "code",
      "source": [
        "widget_info = {\n",
        "    'fixed costs': 10000000,\n",
        "    'variable costs': 20000,\n",
        "    'price point': 50000\n",
        "}"
      ],
      "execution_count": 0,
      "outputs": []
    },
    {
      "metadata": {
        "id": "Ttk1puC6N4uR",
        "colab_type": "code",
        "colab": {}
      },
      "cell_type": "code",
      "source": [
        "from sympy import Symbol, solve\n",
        "widgets = Symbol('x')\n",
        "y = Symbol('y')\n",
        "\n",
        "revenue = widget_info['price point'] * widgets - y\n",
        "expences = widget_info['variable costs'] * widgets + widget_info['fixed costs'] - y\n",
        "            "
      ],
      "execution_count": 0,
      "outputs": []
    },
    {
      "metadata": {
        "id": "HVC6BFQVOhGf",
        "colab_type": "code",
        "colab": {}
      },
      "cell_type": "code",
      "source": [
        "def solve_for_widgets(func_1, func_2):\n",
        "  solution = solve((func_1, func_2))\n",
        "  return float(solution[widgets])\n",
        "\n",
        "def solve_for_revenue(func_1, func_2):\n",
        "  solution = solve((func_1, func_2))\n",
        "  return float(solution[y])\n",
        "\n",
        "number_of_widgets = solve_for_widgets(revenue, expences)\n",
        "total_revenue = solve_for_revenue(revenue, expences)"
      ],
      "execution_count": 0,
      "outputs": []
    },
    {
      "metadata": {
        "id": "FI1PJV1vPtKh",
        "colab_type": "code",
        "colab": {
          "base_uri": "https://localhost:8080/",
          "height": 412
        },
        "outputId": "331a1c0b-2643-4b33-e587-60c6325b6549"
      },
      "cell_type": "code",
      "source": [
        "from numpy import arange\n",
        "import matplotlib.pyplot as plt\n",
        "\n",
        "x = arange(0, (number_of_widgets * 100))\n",
        "\n",
        "revenue_func = widget_info['price point'] * x\n",
        "expence_func = widget_info['variable costs'] * x + widget_info['fixed costs']\n",
        "\n",
        "plt.plot(x, revenue_func, color='black')\n",
        "plt.plot(x, expence_func, color='r')\n",
        "plt.xlim(0, (number_of_widgets * 1.8))\n",
        "plt.ylim(0, (total_revenue * 1.8))\n",
        "plt.plot(number_of_widgets, total_revenue, marker='o', markersize='10', color='g')\n",
        "plt.title('Break Even Analysis')\n",
        "plt.xlabel('Widgets')\n",
        "plt.ylabel('Dollars')\n",
        "print('Break Even Point:\\n', number_of_widgets, 'widgets')\n",
        "plt.show();"
      ],
      "execution_count": 7,
      "outputs": [
        {
          "output_type": "stream",
          "text": [
            "Break Even Point:\n",
            " 333.3333333333333 widgets\n"
          ],
          "name": "stdout"
        },
        {
          "output_type": "display_data",
          "data": {
            "image/png": "[encoded data removed]",
            "text/plain": [
              "<Figure size 576x396 with 1 Axes>"
            ]
          },
          "metadata": {
            "tags": []
          }
        }
      ]
    },
    {
      "metadata": {
        "id": "BT9gdS7viJZa",
        "colab_type": "text"
      },
      "cell_type": "markdown",
      "source": [
        "### Assignment questions\n",
        "\n",
        "After you've worked on some code, answer the following questions in this text block:\n",
        "\n",
        "1.  Describe in a paragraph of text what you did and why, as if you were writing an email to somebody interested but nontechnical.\n",
        "\n",
        "2.  What was the most challenging part of what you did?\n",
        "\n",
        "3.  What was the most interesting thing you learned?\n",
        "\n",
        "4.  What area would you like to explore with more time?\n",
        "\n",
        "\n"
      ]
    },
    {
      "metadata": {
        "id": "83wju1_IS-a0",
        "colab_type": "text"
      },
      "cell_type": "markdown",
      "source": [
        "I wanted to build a visual representation of a cost volume analysis that would allow a user to see how diffrent costs affect a widgets profitability.\n",
        "\n",
        "The user would input the fixed costs, variable costs, and price point of a given widget into the dictionary data structure in the first code block.The program would then output the break even point expressed as a number of widgets and graphically. \n",
        "\n",
        "The most challenging part of this assignment was actualy fairly trival in retrospect. In order to correctly generalize the code so that it would work for any number of cost combinations the x and y limits of the graph must scale with the data. Tuning this parameter was the most difficult part as matplotlibs autoscale function didn't work quite as I had hoped.\n",
        "\n",
        "The most interesting thig I learned during this assignment is the utility of Sympy in creating graphical representations in Matplotlib.\n",
        "\n",
        "If I had more time I would like to explore how economies of scale would affect the cost structure of the widget.\n",
        "\n",
        "I have used the sympy library for these calculations along with numpy and matplotlib for the graphical representation.\n",
        "\n",
        "[Sympy](https://www.sympy.org/en/index.html) is amazing for solving math problems in a symbolic fashion. \n",
        "\n",
        "\n"
      ]
    },
    {
      "metadata": {
        "id": "_XXg2crAipwP",
        "colab_type": "text"
      },
      "cell_type": "markdown",
      "source": [
        "## Stretch goals and resources\n",
        "\n",
        "Following are *optional* things for you to take a look at. Focus on the above assignment first, and make sure to commit and push your changes to GitHub (and since this is the first assignment of the sprint, open a PR as well).\n",
        "\n",
        "- [pandas documentation](https://pandas.pydata.org/pandas-docs/stable/)\n",
        "- [scikit-learn documentation](http://scikit-learn.org/stable/documentation.html)\n",
        "- [matplotlib documentation](https://matplotlib.org/contents.html)\n",
        "- [Awesome Data Science](https://github.com/bulutyazilim/awesome-datascience) - a list of many types of DS resources\n",
        "\n",
        "Stretch goals:\n",
        "\n",
        "- Find and read blogs, walkthroughs, and other examples of people working through cool things with data science - and share with your classmates!\n",
        "- Write a blog post (Medium is a popular place to publish) introducing yourself as somebody learning data science, and talking about what you've learned already and what you're excited to learn more about."
      ]
    }
  ]
}