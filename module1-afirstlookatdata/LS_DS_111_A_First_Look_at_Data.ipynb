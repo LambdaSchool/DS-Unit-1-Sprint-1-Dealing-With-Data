{
  "nbformat": 4,
  "nbformat_minor": 0,
  "metadata": {
    "colab": {
      "name": "LS DS 111 - A First Look at Data.ipynb",
      "version": "0.3.2",
      "provenance": [],
      "include_colab_link": true
    },
    "kernelspec": {
      "name": "python3",
      "display_name": "Python 3"
    }
  },
  "cells": [
    {
      "cell_type": "markdown",
      "metadata": {
        "id": "view-in-github",
        "colab_type": "text"
      },
      "source": [
        "<a href=\"https://colab.research.google.com/github/macscheffer/DS-Sprint-01-Dealing-With-Data/blob/master/module1-afirstlookatdata/LS_DS_111_A_First_Look_at_Data.ipynb\" target=\"_parent\"><img src=\"https://colab.research.google.com/assets/colab-badge.svg\" alt=\"Open In Colab\"/></a>"
      ]
    },
    {
      "metadata": {
        "id": "Okfr_uhwhS1X",
        "colab_type": "text"
      },
      "cell_type": "markdown",
      "source": [
        "# Lambda School Data Science - A First Look at Data\n",
        "\n"
      ]
    },
    {
      "metadata": {
        "id": "9dtJETFRhnOG",
        "colab_type": "text"
      },
      "cell_type": "markdown",
      "source": [
        "## Lecture - let's explore Python DS libraries and examples!\n",
        "\n",
        "The Python Data Science ecosystem is huge. You've seen some of the big pieces - pandas, scikit-learn, matplotlib. What parts do you want to see more of?"
      ]
    },
    {
      "metadata": {
        "id": "WiBkgmPJhmhE",
        "colab_type": "code",
        "colab": {}
      },
      "cell_type": "code",
      "source": [
        "# TODO - we'll be doing this live, taking requests\n",
        "# and reproducing what it is to look up and learn things"
      ],
      "execution_count": 0,
      "outputs": []
    },
    {
      "metadata": {
        "id": "lOqaPds9huME",
        "colab_type": "text"
      },
      "cell_type": "markdown",
      "source": [
        "## Assignment - now it's your turn\n",
        "\n",
        "Pick at least one Python DS library, and using documentation/examples reproduce in this notebook something cool. It's OK if you don't fully understand it or get it 100% working, but do put in effort and look things up."
      ]
    },
    {
      "metadata": {
        "id": "TGUS79cOhPWj",
        "colab_type": "code",
        "colab": {}
      },
      "cell_type": "code",
      "source": [
        "\n",
        "import pandas as pd\n",
        "import datetime\n",
        "import matplotlib.pyplot as plt\n",
        "import matplotlib as mpl"
      ],
      "execution_count": 0,
      "outputs": []
    },
    {
      "metadata": {
        "id": "it10NtOYneAo",
        "colab_type": "code",
        "colab": {
          "base_uri": "https://localhost:8080/",
          "height": 220
        },
        "outputId": "b111821f-4b84-468c-85f0-bb32425ac736"
      },
      "cell_type": "code",
      "source": [
        "# time series https://nbviewer.jupyter.org/github/changhiskhan/talks/blob/master/pydata2012/pandas_timeseries.ipynb\n",
        "\n",
        "df = pd.read_csv('https://raw.githubusercontent.com/changhiskhan/talks/master/pydata2012/data.csv')\n",
        "df.head()"
      ],
      "execution_count": 14,
      "outputs": [
        {
          "output_type": "execute_result",
          "data": {
            "text/html": [
              "<div>\n",
              "<style scoped>\n",
              "    .dataframe tbody tr th:only-of-type {\n",
              "        vertical-align: middle;\n",
              "    }\n",
              "\n",
              "    .dataframe tbody tr th {\n",
              "        vertical-align: top;\n",
              "    }\n",
              "\n",
              "    .dataframe thead th {\n",
              "        text-align: right;\n",
              "    }\n",
              "</style>\n",
              "<table border=\"1\" class=\"dataframe\">\n",
              "  <thead>\n",
              "    <tr style=\"text-align: right;\">\n",
              "      <th></th>\n",
              "      <th>Date</th>\n",
              "      <th>Time</th>\n",
              "      <th>Price</th>\n",
              "      <th>Volume</th>\n",
              "      <th>Exchange Code</th>\n",
              "      <th>Sales Condition</th>\n",
              "      <th>Correction Indicator</th>\n",
              "      <th>Sequence Number</th>\n",
              "      <th>Trade Stop Indicator</th>\n",
              "      <th>Source of Trade</th>\n",
              "      <th>MDS 127 / TRF (Trade Reporting Facility) (*)</th>\n",
              "      <th>Exclude Record Flag</th>\n",
              "      <th>Filtered Price</th>\n",
              "    </tr>\n",
              "  </thead>\n",
              "  <tbody>\n",
              "    <tr>\n",
              "      <th>0</th>\n",
              "      <td>11/01/2011</td>\n",
              "      <td>08:04:56.364</td>\n",
              "      <td>104.55</td>\n",
              "      <td>100</td>\n",
              "      <td>P</td>\n",
              "      <td>T</td>\n",
              "      <td>0</td>\n",
              "      <td>196</td>\n",
              "      <td>N</td>\n",
              "      <td>C</td>\n",
              "      <td>NaN</td>\n",
              "      <td>NaN</td>\n",
              "      <td>NaN</td>\n",
              "    </tr>\n",
              "    <tr>\n",
              "      <th>1</th>\n",
              "      <td>11/01/2011</td>\n",
              "      <td>08:53:07.459</td>\n",
              "      <td>104.43</td>\n",
              "      <td>150</td>\n",
              "      <td>T</td>\n",
              "      <td>FT</td>\n",
              "      <td>0</td>\n",
              "      <td>316</td>\n",
              "      <td>N</td>\n",
              "      <td>C</td>\n",
              "      <td>NaN</td>\n",
              "      <td>NaN</td>\n",
              "      <td>NaN</td>\n",
              "    </tr>\n",
              "    <tr>\n",
              "      <th>2</th>\n",
              "      <td>11/01/2011</td>\n",
              "      <td>08:53:09.284</td>\n",
              "      <td>104.43</td>\n",
              "      <td>100</td>\n",
              "      <td>T</td>\n",
              "      <td>FT</td>\n",
              "      <td>0</td>\n",
              "      <td>317</td>\n",
              "      <td>N</td>\n",
              "      <td>C</td>\n",
              "      <td>NaN</td>\n",
              "      <td>NaN</td>\n",
              "      <td>NaN</td>\n",
              "    </tr>\n",
              "    <tr>\n",
              "      <th>3</th>\n",
              "      <td>11/01/2011</td>\n",
              "      <td>08:54:03.921</td>\n",
              "      <td>104.50</td>\n",
              "      <td>100</td>\n",
              "      <td>P</td>\n",
              "      <td>FT</td>\n",
              "      <td>0</td>\n",
              "      <td>318</td>\n",
              "      <td>N</td>\n",
              "      <td>C</td>\n",
              "      <td>NaN</td>\n",
              "      <td>NaN</td>\n",
              "      <td>NaN</td>\n",
              "    </tr>\n",
              "    <tr>\n",
              "      <th>4</th>\n",
              "      <td>11/01/2011</td>\n",
              "      <td>08:58:06.162</td>\n",
              "      <td>104.46</td>\n",
              "      <td>1000</td>\n",
              "      <td>Z</td>\n",
              "      <td>T</td>\n",
              "      <td>0</td>\n",
              "      <td>322</td>\n",
              "      <td>N</td>\n",
              "      <td>C</td>\n",
              "      <td>NaN</td>\n",
              "      <td>NaN</td>\n",
              "      <td>NaN</td>\n",
              "    </tr>\n",
              "  </tbody>\n",
              "</table>\n",
              "</div>"
            ],
            "text/plain": [
              "         Date          Time   Price  Volume Exchange Code Sales Condition  \\\n",
              "0  11/01/2011  08:04:56.364  104.55     100             P               T   \n",
              "1  11/01/2011  08:53:07.459  104.43     150             T              FT   \n",
              "2  11/01/2011  08:53:09.284  104.43     100             T              FT   \n",
              "3  11/01/2011  08:54:03.921  104.50     100             P              FT   \n",
              "4  11/01/2011  08:58:06.162  104.46    1000             Z               T   \n",
              "\n",
              "   Correction Indicator  Sequence Number Trade Stop Indicator Source of Trade  \\\n",
              "0                     0              196                    N               C   \n",
              "1                     0              316                    N               C   \n",
              "2                     0              317                    N               C   \n",
              "3                     0              318                    N               C   \n",
              "4                     0              322                    N               C   \n",
              "\n",
              "  MDS 127 / TRF (Trade Reporting Facility) (*) Exclude Record Flag  \\\n",
              "0                                          NaN                 NaN   \n",
              "1                                          NaN                 NaN   \n",
              "2                                          NaN                 NaN   \n",
              "3                                          NaN                 NaN   \n",
              "4                                          NaN                 NaN   \n",
              "\n",
              "   Filtered Price  \n",
              "0             NaN  \n",
              "1             NaN  \n",
              "2             NaN  \n",
              "3             NaN  \n",
              "4             NaN  "
            ]
          },
          "metadata": {
            "tags": []
          },
          "execution_count": 14
        }
      ]
    },
    {
      "metadata": {
        "id": "IyeJZ2_CCt1d",
        "colab_type": "code",
        "colab": {
          "base_uri": "https://localhost:8080/",
          "height": 337
        },
        "outputId": "b3764edd-6aa2-4c7e-8f1a-03d67ed59d34"
      },
      "cell_type": "code",
      "source": [
        "df = pd.read_csv('https://raw.githubusercontent.com/changhiskhan/talks/master/pydata2012/data.csv',\n",
        "                parse_dates={'Timestamp': ['Date', 'Time']},\n",
        "                index_col='Timestamp')\n",
        "\n",
        "df.head()"
      ],
      "execution_count": 20,
      "outputs": [
        {
          "output_type": "execute_result",
          "data": {
            "text/html": [
              "<div>\n",
              "<style scoped>\n",
              "    .dataframe tbody tr th:only-of-type {\n",
              "        vertical-align: middle;\n",
              "    }\n",
              "\n",
              "    .dataframe tbody tr th {\n",
              "        vertical-align: top;\n",
              "    }\n",
              "\n",
              "    .dataframe thead th {\n",
              "        text-align: right;\n",
              "    }\n",
              "</style>\n",
              "<table border=\"1\" class=\"dataframe\">\n",
              "  <thead>\n",
              "    <tr style=\"text-align: right;\">\n",
              "      <th></th>\n",
              "      <th>Price</th>\n",
              "      <th>Volume</th>\n",
              "      <th>Exchange Code</th>\n",
              "      <th>Sales Condition</th>\n",
              "      <th>Correction Indicator</th>\n",
              "      <th>Sequence Number</th>\n",
              "      <th>Trade Stop Indicator</th>\n",
              "      <th>Source of Trade</th>\n",
              "      <th>MDS 127 / TRF (Trade Reporting Facility) (*)</th>\n",
              "      <th>Exclude Record Flag</th>\n",
              "      <th>Filtered Price</th>\n",
              "    </tr>\n",
              "    <tr>\n",
              "      <th>Timestamp</th>\n",
              "      <th></th>\n",
              "      <th></th>\n",
              "      <th></th>\n",
              "      <th></th>\n",
              "      <th></th>\n",
              "      <th></th>\n",
              "      <th></th>\n",
              "      <th></th>\n",
              "      <th></th>\n",
              "      <th></th>\n",
              "      <th></th>\n",
              "    </tr>\n",
              "  </thead>\n",
              "  <tbody>\n",
              "    <tr>\n",
              "      <th>2011-11-01 08:04:56.364</th>\n",
              "      <td>104.55</td>\n",
              "      <td>100</td>\n",
              "      <td>P</td>\n",
              "      <td>T</td>\n",
              "      <td>0</td>\n",
              "      <td>196</td>\n",
              "      <td>N</td>\n",
              "      <td>C</td>\n",
              "      <td>NaN</td>\n",
              "      <td>NaN</td>\n",
              "      <td>NaN</td>\n",
              "    </tr>\n",
              "    <tr>\n",
              "      <th>2011-11-01 08:53:07.459</th>\n",
              "      <td>104.43</td>\n",
              "      <td>150</td>\n",
              "      <td>T</td>\n",
              "      <td>FT</td>\n",
              "      <td>0</td>\n",
              "      <td>316</td>\n",
              "      <td>N</td>\n",
              "      <td>C</td>\n",
              "      <td>NaN</td>\n",
              "      <td>NaN</td>\n",
              "      <td>NaN</td>\n",
              "    </tr>\n",
              "    <tr>\n",
              "      <th>2011-11-01 08:53:09.284</th>\n",
              "      <td>104.43</td>\n",
              "      <td>100</td>\n",
              "      <td>T</td>\n",
              "      <td>FT</td>\n",
              "      <td>0</td>\n",
              "      <td>317</td>\n",
              "      <td>N</td>\n",
              "      <td>C</td>\n",
              "      <td>NaN</td>\n",
              "      <td>NaN</td>\n",
              "      <td>NaN</td>\n",
              "    </tr>\n",
              "    <tr>\n",
              "      <th>2011-11-01 08:54:03.921</th>\n",
              "      <td>104.50</td>\n",
              "      <td>100</td>\n",
              "      <td>P</td>\n",
              "      <td>FT</td>\n",
              "      <td>0</td>\n",
              "      <td>318</td>\n",
              "      <td>N</td>\n",
              "      <td>C</td>\n",
              "      <td>NaN</td>\n",
              "      <td>NaN</td>\n",
              "      <td>NaN</td>\n",
              "    </tr>\n",
              "    <tr>\n",
              "      <th>2011-11-01 08:58:06.162</th>\n",
              "      <td>104.46</td>\n",
              "      <td>1000</td>\n",
              "      <td>Z</td>\n",
              "      <td>T</td>\n",
              "      <td>0</td>\n",
              "      <td>322</td>\n",
              "      <td>N</td>\n",
              "      <td>C</td>\n",
              "      <td>NaN</td>\n",
              "      <td>NaN</td>\n",
              "      <td>NaN</td>\n",
              "    </tr>\n",
              "  </tbody>\n",
              "</table>\n",
              "</div>"
            ],
            "text/plain": [
              "                          Price  Volume Exchange Code Sales Condition  \\\n",
              "Timestamp                                                               \n",
              "2011-11-01 08:04:56.364  104.55     100             P               T   \n",
              "2011-11-01 08:53:07.459  104.43     150             T              FT   \n",
              "2011-11-01 08:53:09.284  104.43     100             T              FT   \n",
              "2011-11-01 08:54:03.921  104.50     100             P              FT   \n",
              "2011-11-01 08:58:06.162  104.46    1000             Z               T   \n",
              "\n",
              "                         Correction Indicator  Sequence Number  \\\n",
              "Timestamp                                                        \n",
              "2011-11-01 08:04:56.364                     0              196   \n",
              "2011-11-01 08:53:07.459                     0              316   \n",
              "2011-11-01 08:53:09.284                     0              317   \n",
              "2011-11-01 08:54:03.921                     0              318   \n",
              "2011-11-01 08:58:06.162                     0              322   \n",
              "\n",
              "                        Trade Stop Indicator Source of Trade  \\\n",
              "Timestamp                                                      \n",
              "2011-11-01 08:04:56.364                    N               C   \n",
              "2011-11-01 08:53:07.459                    N               C   \n",
              "2011-11-01 08:53:09.284                    N               C   \n",
              "2011-11-01 08:54:03.921                    N               C   \n",
              "2011-11-01 08:58:06.162                    N               C   \n",
              "\n",
              "                        MDS 127 / TRF (Trade Reporting Facility) (*)  \\\n",
              "Timestamp                                                              \n",
              "2011-11-01 08:04:56.364                                          NaN   \n",
              "2011-11-01 08:53:07.459                                          NaN   \n",
              "2011-11-01 08:53:09.284                                          NaN   \n",
              "2011-11-01 08:54:03.921                                          NaN   \n",
              "2011-11-01 08:58:06.162                                          NaN   \n",
              "\n",
              "                        Exclude Record Flag  Filtered Price  \n",
              "Timestamp                                                    \n",
              "2011-11-01 08:04:56.364                 NaN             NaN  \n",
              "2011-11-01 08:53:07.459                 NaN             NaN  \n",
              "2011-11-01 08:53:09.284                 NaN             NaN  \n",
              "2011-11-01 08:54:03.921                 NaN             NaN  \n",
              "2011-11-01 08:58:06.162                 NaN             NaN  "
            ]
          },
          "metadata": {
            "tags": []
          },
          "execution_count": 20
        }
      ]
    },
    {
      "metadata": {
        "id": "JGsVB2o9Ct9X",
        "colab_type": "code",
        "colab": {
          "base_uri": "https://localhost:8080/",
          "height": 233
        },
        "outputId": "76febd38-5030-436f-af7f-9b98461bf0c5"
      },
      "cell_type": "code",
      "source": [
        "ticks = df.loc[:,['Price', 'Volume']]\n",
        "ticks.head()"
      ],
      "execution_count": 23,
      "outputs": [
        {
          "output_type": "execute_result",
          "data": {
            "text/html": [
              "<div>\n",
              "<style scoped>\n",
              "    .dataframe tbody tr th:only-of-type {\n",
              "        vertical-align: middle;\n",
              "    }\n",
              "\n",
              "    .dataframe tbody tr th {\n",
              "        vertical-align: top;\n",
              "    }\n",
              "\n",
              "    .dataframe thead th {\n",
              "        text-align: right;\n",
              "    }\n",
              "</style>\n",
              "<table border=\"1\" class=\"dataframe\">\n",
              "  <thead>\n",
              "    <tr style=\"text-align: right;\">\n",
              "      <th></th>\n",
              "      <th>Price</th>\n",
              "      <th>Volume</th>\n",
              "    </tr>\n",
              "    <tr>\n",
              "      <th>Timestamp</th>\n",
              "      <th></th>\n",
              "      <th></th>\n",
              "    </tr>\n",
              "  </thead>\n",
              "  <tbody>\n",
              "    <tr>\n",
              "      <th>2011-11-01 08:04:56.364</th>\n",
              "      <td>104.55</td>\n",
              "      <td>100</td>\n",
              "    </tr>\n",
              "    <tr>\n",
              "      <th>2011-11-01 08:53:07.459</th>\n",
              "      <td>104.43</td>\n",
              "      <td>150</td>\n",
              "    </tr>\n",
              "    <tr>\n",
              "      <th>2011-11-01 08:53:09.284</th>\n",
              "      <td>104.43</td>\n",
              "      <td>100</td>\n",
              "    </tr>\n",
              "    <tr>\n",
              "      <th>2011-11-01 08:54:03.921</th>\n",
              "      <td>104.50</td>\n",
              "      <td>100</td>\n",
              "    </tr>\n",
              "    <tr>\n",
              "      <th>2011-11-01 08:58:06.162</th>\n",
              "      <td>104.46</td>\n",
              "      <td>1000</td>\n",
              "    </tr>\n",
              "  </tbody>\n",
              "</table>\n",
              "</div>"
            ],
            "text/plain": [
              "                          Price  Volume\n",
              "Timestamp                              \n",
              "2011-11-01 08:04:56.364  104.55     100\n",
              "2011-11-01 08:53:07.459  104.43     150\n",
              "2011-11-01 08:53:09.284  104.43     100\n",
              "2011-11-01 08:54:03.921  104.50     100\n",
              "2011-11-01 08:58:06.162  104.46    1000"
            ]
          },
          "metadata": {
            "tags": []
          },
          "execution_count": 23
        }
      ]
    },
    {
      "metadata": {
        "id": "PHeCsGRoCuDf",
        "colab_type": "code",
        "colab": {
          "base_uri": "https://localhost:8080/",
          "height": 286
        },
        "outputId": "e529f4ae-14e5-4024-df3e-9410fb613c29"
      },
      "cell_type": "code",
      "source": [
        "# ohlc => open, high, low, close\n",
        "bars = ticks.Price.resample('1min',how='ohlc')\n",
        "bars.head()"
      ],
      "execution_count": 24,
      "outputs": [
        {
          "output_type": "stream",
          "text": [
            "/usr/local/lib/python3.6/dist-packages/ipykernel_launcher.py:1: FutureWarning: how in .resample() is deprecated\n",
            "the new syntax is .resample(...).ohlc()\n",
            "  \"\"\"Entry point for launching an IPython kernel.\n"
          ],
          "name": "stderr"
        },
        {
          "output_type": "execute_result",
          "data": {
            "text/html": [
              "<div>\n",
              "<style scoped>\n",
              "    .dataframe tbody tr th:only-of-type {\n",
              "        vertical-align: middle;\n",
              "    }\n",
              "\n",
              "    .dataframe tbody tr th {\n",
              "        vertical-align: top;\n",
              "    }\n",
              "\n",
              "    .dataframe thead th {\n",
              "        text-align: right;\n",
              "    }\n",
              "</style>\n",
              "<table border=\"1\" class=\"dataframe\">\n",
              "  <thead>\n",
              "    <tr style=\"text-align: right;\">\n",
              "      <th></th>\n",
              "      <th>open</th>\n",
              "      <th>high</th>\n",
              "      <th>low</th>\n",
              "      <th>close</th>\n",
              "    </tr>\n",
              "    <tr>\n",
              "      <th>Timestamp</th>\n",
              "      <th></th>\n",
              "      <th></th>\n",
              "      <th></th>\n",
              "      <th></th>\n",
              "    </tr>\n",
              "  </thead>\n",
              "  <tbody>\n",
              "    <tr>\n",
              "      <th>2011-11-01 08:04:00</th>\n",
              "      <td>104.55</td>\n",
              "      <td>104.55</td>\n",
              "      <td>104.55</td>\n",
              "      <td>104.55</td>\n",
              "    </tr>\n",
              "    <tr>\n",
              "      <th>2011-11-01 08:05:00</th>\n",
              "      <td>NaN</td>\n",
              "      <td>NaN</td>\n",
              "      <td>NaN</td>\n",
              "      <td>NaN</td>\n",
              "    </tr>\n",
              "    <tr>\n",
              "      <th>2011-11-01 08:06:00</th>\n",
              "      <td>NaN</td>\n",
              "      <td>NaN</td>\n",
              "      <td>NaN</td>\n",
              "      <td>NaN</td>\n",
              "    </tr>\n",
              "    <tr>\n",
              "      <th>2011-11-01 08:07:00</th>\n",
              "      <td>NaN</td>\n",
              "      <td>NaN</td>\n",
              "      <td>NaN</td>\n",
              "      <td>NaN</td>\n",
              "    </tr>\n",
              "    <tr>\n",
              "      <th>2011-11-01 08:08:00</th>\n",
              "      <td>NaN</td>\n",
              "      <td>NaN</td>\n",
              "      <td>NaN</td>\n",
              "      <td>NaN</td>\n",
              "    </tr>\n",
              "  </tbody>\n",
              "</table>\n",
              "</div>"
            ],
            "text/plain": [
              "                       open    high     low   close\n",
              "Timestamp                                          \n",
              "2011-11-01 08:04:00  104.55  104.55  104.55  104.55\n",
              "2011-11-01 08:05:00     NaN     NaN     NaN     NaN\n",
              "2011-11-01 08:06:00     NaN     NaN     NaN     NaN\n",
              "2011-11-01 08:07:00     NaN     NaN     NaN     NaN\n",
              "2011-11-01 08:08:00     NaN     NaN     NaN     NaN"
            ]
          },
          "metadata": {
            "tags": []
          },
          "execution_count": 24
        }
      ]
    },
    {
      "metadata": {
        "id": "iu11S3hoCuIS",
        "colab_type": "code",
        "colab": {
          "base_uri": "https://localhost:8080/",
          "height": 175
        },
        "outputId": "05d154a9-bd32-4161-835c-96499251e3ef"
      },
      "cell_type": "code",
      "source": [
        "minute_range = bars.high - bars.low\n",
        "minute_range.describe()"
      ],
      "execution_count": 25,
      "outputs": [
        {
          "output_type": "execute_result",
          "data": {
            "text/plain": [
              "count    1104.000000\n",
              "mean        0.017898\n",
              "std         0.018568\n",
              "min         0.000000\n",
              "25%         0.000875\n",
              "50%         0.013900\n",
              "75%         0.029000\n",
              "max         0.150000\n",
              "dtype: float64"
            ]
          },
          "metadata": {
            "tags": []
          },
          "execution_count": 25
        }
      ]
    },
    {
      "metadata": {
        "id": "L6HtyhJYFE-c",
        "colab_type": "code",
        "colab": {
          "base_uri": "https://localhost:8080/",
          "height": 175
        },
        "outputId": "eec79057-455e-43fd-af58-9f7370fbb31e"
      },
      "cell_type": "code",
      "source": [
        "minute_return = bars.close / bars.open - 1\n",
        "minute_return.describe()"
      ],
      "execution_count": 26,
      "outputs": [
        {
          "output_type": "execute_result",
          "data": {
            "text/plain": [
              "count    1104.000000\n",
              "mean        0.000003\n",
              "std         0.000191\n",
              "min        -0.001442\n",
              "25%        -0.000096\n",
              "50%         0.000000\n",
              "75%         0.000096\n",
              "max         0.000962\n",
              "dtype: float64"
            ]
          },
          "metadata": {
            "tags": []
          },
          "execution_count": 26
        }
      ]
    },
    {
      "metadata": {
        "id": "L7soEzB1FFHZ",
        "colab_type": "code",
        "colab": {}
      },
      "cell_type": "code",
      "source": [
        "volume = ticks.Volume.resample('1min').sum()\n",
        "value = ticks.prod(axis=1).resample('1min').sum()\n",
        "vwap = value / volume"
      ],
      "execution_count": 0,
      "outputs": []
    },
    {
      "metadata": {
        "id": "siGqqxm8FFM6",
        "colab_type": "code",
        "colab": {
          "base_uri": "https://localhost:8080/",
          "height": 158
        },
        "outputId": "eff2aee8-0f1f-4de1-f60c-39212f0aa136"
      },
      "cell_type": "code",
      "source": [
        "vwap.loc['2011-11-01 09:27':'2011-11-01 09:32']"
      ],
      "execution_count": 30,
      "outputs": [
        {
          "output_type": "execute_result",
          "data": {
            "text/plain": [
              "Timestamp\n",
              "2011-11-01 09:27:00           NaN\n",
              "2011-11-01 09:28:00    104.170000\n",
              "2011-11-01 09:29:00    103.300800\n",
              "2011-11-01 09:30:00    104.231368\n",
              "2011-11-01 09:31:00    104.236679\n",
              "2011-11-01 09:32:00    104.210000\n",
              "Freq: T, dtype: float64"
            ]
          },
          "metadata": {
            "tags": []
          },
          "execution_count": 30
        }
      ]
    },
    {
      "metadata": {
        "id": "kTbg7DpvFFRz",
        "colab_type": "code",
        "colab": {
          "base_uri": "https://localhost:8080/",
          "height": 105
        },
        "outputId": "ca81fe6b-ecf0-466d-d65f-876642b737ec"
      },
      "cell_type": "code",
      "source": [
        "bars.open.at_time('9:30')"
      ],
      "execution_count": 31,
      "outputs": [
        {
          "output_type": "execute_result",
          "data": {
            "text/plain": [
              "Timestamp\n",
              "2011-11-01 09:30:00    104.23\n",
              "2011-11-02 09:30:00    103.90\n",
              "2011-11-03 09:30:00    103.80\n",
              "Freq: 1440T, Name: open, dtype: float64"
            ]
          },
          "metadata": {
            "tags": []
          },
          "execution_count": 31
        }
      ]
    },
    {
      "metadata": {
        "id": "VlyD6nBQCuLz",
        "colab_type": "code",
        "colab": {
          "base_uri": "https://localhost:8080/",
          "height": 105
        },
        "outputId": "55c290cb-3078-476f-efc8-69cc3c170fb6"
      },
      "cell_type": "code",
      "source": [
        "bars.close.at_time('16:00')"
      ],
      "execution_count": 32,
      "outputs": [
        {
          "output_type": "execute_result",
          "data": {
            "text/plain": [
              "Timestamp\n",
              "2011-11-01 16:00:00    104.57\n",
              "2011-11-02 16:00:00    104.29\n",
              "2011-11-03 16:00:00    103.86\n",
              "Freq: 1440T, Name: close, dtype: float64"
            ]
          },
          "metadata": {
            "tags": []
          },
          "execution_count": 32
        }
      ]
    },
    {
      "metadata": {
        "id": "gXm4F5WxCuOr",
        "colab_type": "code",
        "colab": {
          "base_uri": "https://localhost:8080/",
          "height": 140
        },
        "outputId": "05ea3aa1-dd14-4efb-a4d9-7d54d5361138"
      },
      "cell_type": "code",
      "source": [
        "filtered = vwap.between_time('10:00','16:00')\n",
        "filtered.head()"
      ],
      "execution_count": 34,
      "outputs": [
        {
          "output_type": "execute_result",
          "data": {
            "text/plain": [
              "Timestamp\n",
              "2011-11-01 10:00:00    104.245387\n",
              "2011-11-01 10:01:00    104.170771\n",
              "2011-11-01 10:02:00    104.170000\n",
              "2011-11-01 10:03:00    104.160952\n",
              "2011-11-01 10:04:00    104.110870\n",
              "dtype: float64"
            ]
          },
          "metadata": {
            "tags": []
          },
          "execution_count": 34
        }
      ]
    },
    {
      "metadata": {
        "id": "OOjc6o3MCuSC",
        "colab_type": "code",
        "colab": {
          "base_uri": "https://localhost:8080/",
          "height": 140
        },
        "outputId": "38ad0cf3-3886-408f-973c-836a21a9c668"
      },
      "cell_type": "code",
      "source": [
        "vol = volume.between_time('10:00', '16:00')\n",
        "vol.head()"
      ],
      "execution_count": 36,
      "outputs": [
        {
          "output_type": "execute_result",
          "data": {
            "text/plain": [
              "Timestamp\n",
              "2011-11-01 10:00:00    18767\n",
              "2011-11-01 10:01:00    67287\n",
              "2011-11-01 10:02:00     2000\n",
              "2011-11-01 10:03:00     2100\n",
              "2011-11-01 10:04:00     2300\n",
              "Name: Volume, dtype: int64"
            ]
          },
          "metadata": {
            "tags": []
          },
          "execution_count": 36
        }
      ]
    },
    {
      "metadata": {
        "id": "cNDWe9-MJ3oc",
        "colab_type": "code",
        "colab": {
          "base_uri": "https://localhost:8080/",
          "height": 140
        },
        "outputId": "8f97336e-c3cf-4b4e-e363-0d2c25c2f4c5"
      },
      "cell_type": "code",
      "source": [
        "filtered.loc['2011-11-03':'2011-11-04'].tail()"
      ],
      "execution_count": 38,
      "outputs": [
        {
          "output_type": "execute_result",
          "data": {
            "text/plain": [
              "Timestamp\n",
              "2011-11-03 15:56:00    103.830000\n",
              "2011-11-03 15:57:00    103.834902\n",
              "2011-11-03 15:58:00    103.826479\n",
              "2011-11-03 15:59:00    103.831087\n",
              "2011-11-03 16:00:00    103.800235\n",
              "dtype: float64"
            ]
          },
          "metadata": {
            "tags": []
          },
          "execution_count": 38
        }
      ]
    },
    {
      "metadata": {
        "id": "5351IuoeJ3yN",
        "colab_type": "code",
        "colab": {
          "base_uri": "https://localhost:8080/",
          "height": 140
        },
        "outputId": "d4485a35-9cad-49af-d025-cb2900740d37"
      },
      "cell_type": "code",
      "source": [
        "filtered.loc[:'2011-11-04'].head()"
      ],
      "execution_count": 39,
      "outputs": [
        {
          "output_type": "execute_result",
          "data": {
            "text/plain": [
              "Timestamp\n",
              "2011-11-01 10:00:00    104.245387\n",
              "2011-11-01 10:01:00    104.170771\n",
              "2011-11-01 10:02:00    104.170000\n",
              "2011-11-01 10:03:00    104.160952\n",
              "2011-11-01 10:04:00    104.110870\n",
              "dtype: float64"
            ]
          },
          "metadata": {
            "tags": []
          },
          "execution_count": 39
        }
      ]
    },
    {
      "metadata": {
        "id": "01AdeU6RJ32m",
        "colab_type": "code",
        "colab": {}
      },
      "cell_type": "code",
      "source": [
        "# Leading / Lagging"
      ],
      "execution_count": 0,
      "outputs": []
    },
    {
      "metadata": {
        "id": "9df6bw3FKs_N",
        "colab_type": "code",
        "colab": {
          "base_uri": "https://localhost:8080/",
          "height": 233
        },
        "outputId": "7b8f1d22-44b9-45a8-d658-f8c7f371207d"
      },
      "cell_type": "code",
      "source": [
        "ticks.head()"
      ],
      "execution_count": 41,
      "outputs": [
        {
          "output_type": "execute_result",
          "data": {
            "text/html": [
              "<div>\n",
              "<style scoped>\n",
              "    .dataframe tbody tr th:only-of-type {\n",
              "        vertical-align: middle;\n",
              "    }\n",
              "\n",
              "    .dataframe tbody tr th {\n",
              "        vertical-align: top;\n",
              "    }\n",
              "\n",
              "    .dataframe thead th {\n",
              "        text-align: right;\n",
              "    }\n",
              "</style>\n",
              "<table border=\"1\" class=\"dataframe\">\n",
              "  <thead>\n",
              "    <tr style=\"text-align: right;\">\n",
              "      <th></th>\n",
              "      <th>Price</th>\n",
              "      <th>Volume</th>\n",
              "    </tr>\n",
              "    <tr>\n",
              "      <th>Timestamp</th>\n",
              "      <th></th>\n",
              "      <th></th>\n",
              "    </tr>\n",
              "  </thead>\n",
              "  <tbody>\n",
              "    <tr>\n",
              "      <th>2011-11-01 08:04:56.364</th>\n",
              "      <td>104.55</td>\n",
              "      <td>100</td>\n",
              "    </tr>\n",
              "    <tr>\n",
              "      <th>2011-11-01 08:53:07.459</th>\n",
              "      <td>104.43</td>\n",
              "      <td>150</td>\n",
              "    </tr>\n",
              "    <tr>\n",
              "      <th>2011-11-01 08:53:09.284</th>\n",
              "      <td>104.43</td>\n",
              "      <td>100</td>\n",
              "    </tr>\n",
              "    <tr>\n",
              "      <th>2011-11-01 08:54:03.921</th>\n",
              "      <td>104.50</td>\n",
              "      <td>100</td>\n",
              "    </tr>\n",
              "    <tr>\n",
              "      <th>2011-11-01 08:58:06.162</th>\n",
              "      <td>104.46</td>\n",
              "      <td>1000</td>\n",
              "    </tr>\n",
              "  </tbody>\n",
              "</table>\n",
              "</div>"
            ],
            "text/plain": [
              "                          Price  Volume\n",
              "Timestamp                              \n",
              "2011-11-01 08:04:56.364  104.55     100\n",
              "2011-11-01 08:53:07.459  104.43     150\n",
              "2011-11-01 08:53:09.284  104.43     100\n",
              "2011-11-01 08:54:03.921  104.50     100\n",
              "2011-11-01 08:58:06.162  104.46    1000"
            ]
          },
          "metadata": {
            "tags": []
          },
          "execution_count": 41
        }
      ]
    },
    {
      "metadata": {
        "id": "2dKigyvDKtF9",
        "colab_type": "code",
        "colab": {
          "base_uri": "https://localhost:8080/",
          "height": 233
        },
        "outputId": "9212e297-855a-4342-b672-ed07ce799643"
      },
      "cell_type": "code",
      "source": [
        "ticks.shift(1).head()"
      ],
      "execution_count": 42,
      "outputs": [
        {
          "output_type": "execute_result",
          "data": {
            "text/html": [
              "<div>\n",
              "<style scoped>\n",
              "    .dataframe tbody tr th:only-of-type {\n",
              "        vertical-align: middle;\n",
              "    }\n",
              "\n",
              "    .dataframe tbody tr th {\n",
              "        vertical-align: top;\n",
              "    }\n",
              "\n",
              "    .dataframe thead th {\n",
              "        text-align: right;\n",
              "    }\n",
              "</style>\n",
              "<table border=\"1\" class=\"dataframe\">\n",
              "  <thead>\n",
              "    <tr style=\"text-align: right;\">\n",
              "      <th></th>\n",
              "      <th>Price</th>\n",
              "      <th>Volume</th>\n",
              "    </tr>\n",
              "    <tr>\n",
              "      <th>Timestamp</th>\n",
              "      <th></th>\n",
              "      <th></th>\n",
              "    </tr>\n",
              "  </thead>\n",
              "  <tbody>\n",
              "    <tr>\n",
              "      <th>2011-11-01 08:04:56.364</th>\n",
              "      <td>NaN</td>\n",
              "      <td>NaN</td>\n",
              "    </tr>\n",
              "    <tr>\n",
              "      <th>2011-11-01 08:53:07.459</th>\n",
              "      <td>104.55</td>\n",
              "      <td>100.0</td>\n",
              "    </tr>\n",
              "    <tr>\n",
              "      <th>2011-11-01 08:53:09.284</th>\n",
              "      <td>104.43</td>\n",
              "      <td>150.0</td>\n",
              "    </tr>\n",
              "    <tr>\n",
              "      <th>2011-11-01 08:54:03.921</th>\n",
              "      <td>104.43</td>\n",
              "      <td>100.0</td>\n",
              "    </tr>\n",
              "    <tr>\n",
              "      <th>2011-11-01 08:58:06.162</th>\n",
              "      <td>104.50</td>\n",
              "      <td>100.0</td>\n",
              "    </tr>\n",
              "  </tbody>\n",
              "</table>\n",
              "</div>"
            ],
            "text/plain": [
              "                          Price  Volume\n",
              "Timestamp                              \n",
              "2011-11-01 08:04:56.364     NaN     NaN\n",
              "2011-11-01 08:53:07.459  104.55   100.0\n",
              "2011-11-01 08:53:09.284  104.43   150.0\n",
              "2011-11-01 08:54:03.921  104.43   100.0\n",
              "2011-11-01 08:58:06.162  104.50   100.0"
            ]
          },
          "metadata": {
            "tags": []
          },
          "execution_count": 42
        }
      ]
    },
    {
      "metadata": {
        "id": "FVahXTaxKtRj",
        "colab_type": "code",
        "colab": {
          "base_uri": "https://localhost:8080/",
          "height": 233
        },
        "outputId": "e088fa46-16a1-4e3b-e709-c0dffe4137ee"
      },
      "cell_type": "code",
      "source": [
        "ticks.head()"
      ],
      "execution_count": 43,
      "outputs": [
        {
          "output_type": "execute_result",
          "data": {
            "text/html": [
              "<div>\n",
              "<style scoped>\n",
              "    .dataframe tbody tr th:only-of-type {\n",
              "        vertical-align: middle;\n",
              "    }\n",
              "\n",
              "    .dataframe tbody tr th {\n",
              "        vertical-align: top;\n",
              "    }\n",
              "\n",
              "    .dataframe thead th {\n",
              "        text-align: right;\n",
              "    }\n",
              "</style>\n",
              "<table border=\"1\" class=\"dataframe\">\n",
              "  <thead>\n",
              "    <tr style=\"text-align: right;\">\n",
              "      <th></th>\n",
              "      <th>Price</th>\n",
              "      <th>Volume</th>\n",
              "    </tr>\n",
              "    <tr>\n",
              "      <th>Timestamp</th>\n",
              "      <th></th>\n",
              "      <th></th>\n",
              "    </tr>\n",
              "  </thead>\n",
              "  <tbody>\n",
              "    <tr>\n",
              "      <th>2011-11-01 08:04:56.364</th>\n",
              "      <td>104.55</td>\n",
              "      <td>100</td>\n",
              "    </tr>\n",
              "    <tr>\n",
              "      <th>2011-11-01 08:53:07.459</th>\n",
              "      <td>104.43</td>\n",
              "      <td>150</td>\n",
              "    </tr>\n",
              "    <tr>\n",
              "      <th>2011-11-01 08:53:09.284</th>\n",
              "      <td>104.43</td>\n",
              "      <td>100</td>\n",
              "    </tr>\n",
              "    <tr>\n",
              "      <th>2011-11-01 08:54:03.921</th>\n",
              "      <td>104.50</td>\n",
              "      <td>100</td>\n",
              "    </tr>\n",
              "    <tr>\n",
              "      <th>2011-11-01 08:58:06.162</th>\n",
              "      <td>104.46</td>\n",
              "      <td>1000</td>\n",
              "    </tr>\n",
              "  </tbody>\n",
              "</table>\n",
              "</div>"
            ],
            "text/plain": [
              "                          Price  Volume\n",
              "Timestamp                              \n",
              "2011-11-01 08:04:56.364  104.55     100\n",
              "2011-11-01 08:53:07.459  104.43     150\n",
              "2011-11-01 08:53:09.284  104.43     100\n",
              "2011-11-01 08:54:03.921  104.50     100\n",
              "2011-11-01 08:58:06.162  104.46    1000"
            ]
          },
          "metadata": {
            "tags": []
          },
          "execution_count": 43
        }
      ]
    },
    {
      "metadata": {
        "id": "ZXKPfRnAJ344",
        "colab_type": "code",
        "colab": {
          "base_uri": "https://localhost:8080/",
          "height": 233
        },
        "outputId": "c83aca9e-b4be-49e0-ebd4-9f4a18dad596"
      },
      "cell_type": "code",
      "source": [
        "# tshift manipulates the index values.\n",
        "\n",
        "ticks.tshift(1, 'min').head()"
      ],
      "execution_count": 44,
      "outputs": [
        {
          "output_type": "execute_result",
          "data": {
            "text/html": [
              "<div>\n",
              "<style scoped>\n",
              "    .dataframe tbody tr th:only-of-type {\n",
              "        vertical-align: middle;\n",
              "    }\n",
              "\n",
              "    .dataframe tbody tr th {\n",
              "        vertical-align: top;\n",
              "    }\n",
              "\n",
              "    .dataframe thead th {\n",
              "        text-align: right;\n",
              "    }\n",
              "</style>\n",
              "<table border=\"1\" class=\"dataframe\">\n",
              "  <thead>\n",
              "    <tr style=\"text-align: right;\">\n",
              "      <th></th>\n",
              "      <th>Price</th>\n",
              "      <th>Volume</th>\n",
              "    </tr>\n",
              "    <tr>\n",
              "      <th>Timestamp</th>\n",
              "      <th></th>\n",
              "      <th></th>\n",
              "    </tr>\n",
              "  </thead>\n",
              "  <tbody>\n",
              "    <tr>\n",
              "      <th>2011-11-01 08:05:56.364</th>\n",
              "      <td>104.55</td>\n",
              "      <td>100</td>\n",
              "    </tr>\n",
              "    <tr>\n",
              "      <th>2011-11-01 08:54:07.459</th>\n",
              "      <td>104.43</td>\n",
              "      <td>150</td>\n",
              "    </tr>\n",
              "    <tr>\n",
              "      <th>2011-11-01 08:54:09.284</th>\n",
              "      <td>104.43</td>\n",
              "      <td>100</td>\n",
              "    </tr>\n",
              "    <tr>\n",
              "      <th>2011-11-01 08:55:03.921</th>\n",
              "      <td>104.50</td>\n",
              "      <td>100</td>\n",
              "    </tr>\n",
              "    <tr>\n",
              "      <th>2011-11-01 08:59:06.162</th>\n",
              "      <td>104.46</td>\n",
              "      <td>1000</td>\n",
              "    </tr>\n",
              "  </tbody>\n",
              "</table>\n",
              "</div>"
            ],
            "text/plain": [
              "                          Price  Volume\n",
              "Timestamp                              \n",
              "2011-11-01 08:05:56.364  104.55     100\n",
              "2011-11-01 08:54:07.459  104.43     150\n",
              "2011-11-01 08:54:09.284  104.43     100\n",
              "2011-11-01 08:55:03.921  104.50     100\n",
              "2011-11-01 08:59:06.162  104.46    1000"
            ]
          },
          "metadata": {
            "tags": []
          },
          "execution_count": 44
        }
      ]
    },
    {
      "metadata": {
        "id": "cORQyjCVJ373",
        "colab_type": "code",
        "colab": {}
      },
      "cell_type": "code",
      "source": [
        "# i get the gist of time series data now. \n",
        "# i want to understand creating classes. \n",
        "\n",
        "# https://nbviewer.jupyter.org/github/lgiordani/blog_source/blob/master/pelican/content/notebooks/Python_3_OOP_Part_2__Classes_and_members.ipynb"
      ],
      "execution_count": 0,
      "outputs": []
    },
    {
      "metadata": {
        "id": "Im2-IvIQCuVL",
        "colab_type": "code",
        "colab": {}
      },
      "cell_type": "code",
      "source": [
        "class Door:\n",
        "  def __init__(self, number, status):\n",
        "    self.number = number\n",
        "    self.status = status\n",
        "    \n",
        "  def open(self):\n",
        "    self.status = 'open'\n",
        "    \n",
        "  def close(self):\n",
        "    self.status = 'closed'"
      ],
      "execution_count": 0,
      "outputs": []
    },
    {
      "metadata": {
        "id": "-xI7xt-mCuXy",
        "colab_type": "code",
        "colab": {}
      },
      "cell_type": "code",
      "source": [
        "door1 = Door(1,'closed')\n",
        "door2 = Door(1,'closed')"
      ],
      "execution_count": 0,
      "outputs": []
    },
    {
      "metadata": {
        "id": "AtRkhpdjSbmX",
        "colab_type": "code",
        "colab": {
          "base_uri": "https://localhost:8080/",
          "height": 35
        },
        "outputId": "a2275df0-7cf2-4c3f-d763-6f1d94079bf4"
      },
      "cell_type": "code",
      "source": [
        "hex(id(door1))"
      ],
      "execution_count": 53,
      "outputs": [
        {
          "output_type": "execute_result",
          "data": {
            "text/plain": [
              "'0x7fc435efc1d0'"
            ]
          },
          "metadata": {
            "tags": []
          },
          "execution_count": 53
        }
      ]
    },
    {
      "metadata": {
        "id": "c32vZLChSeHb",
        "colab_type": "code",
        "colab": {
          "base_uri": "https://localhost:8080/",
          "height": 35
        },
        "outputId": "45d5b5f3-be84-46a9-d789-85e8c9fe27e8"
      },
      "cell_type": "code",
      "source": [
        "hex(id(door2))"
      ],
      "execution_count": 54,
      "outputs": [
        {
          "output_type": "execute_result",
          "data": {
            "text/plain": [
              "'0x7fc435efc198'"
            ]
          },
          "metadata": {
            "tags": []
          },
          "execution_count": 54
        }
      ]
    },
    {
      "metadata": {
        "id": "ZiyFsb5FSeLy",
        "colab_type": "code",
        "colab": {}
      },
      "cell_type": "code",
      "source": [
        "# the above just shows that even though the two instances have the same attributes, they are seperate and unrelated."
      ],
      "execution_count": 0,
      "outputs": []
    },
    {
      "metadata": {
        "id": "ED5QLVDESeP_",
        "colab_type": "code",
        "colab": {}
      },
      "cell_type": "code",
      "source": [
        "class Door:\n",
        "  \n",
        "  color = 'brown'\n",
        "  \n",
        "  def __init__(self, number, status):\n",
        "    self.number = number\n",
        "    self.status = status\n",
        "    \n",
        "  def open(self):\n",
        "    self.status = 'open'\n",
        "    \n",
        "  def close(self):\n",
        "    self.status = 'closed'"
      ],
      "execution_count": 0,
      "outputs": []
    },
    {
      "metadata": {
        "id": "PV4Wrp__SeT0",
        "colab_type": "code",
        "colab": {
          "base_uri": "https://localhost:8080/",
          "height": 35
        },
        "outputId": "b6925e2e-9817-4f96-eea3-caef95a54cb1"
      },
      "cell_type": "code",
      "source": [
        "# notice the color attribute is not created using self so it is contained in the class and shared among instances.\n",
        "\n",
        "Door.color"
      ],
      "execution_count": 57,
      "outputs": [
        {
          "output_type": "execute_result",
          "data": {
            "text/plain": [
              "'brown'"
            ]
          },
          "metadata": {
            "tags": []
          },
          "execution_count": 57
        }
      ]
    },
    {
      "metadata": {
        "id": "-4OfOBQJTG04",
        "colab_type": "code",
        "colab": {
          "base_uri": "https://localhost:8080/",
          "height": 35
        },
        "outputId": "fe614a67-eea9-49fc-ea9a-7c7b8e0ff872"
      },
      "cell_type": "code",
      "source": [
        "door1 = Door(1,'closed')\n",
        "door2 = Door(1,'closed')\n",
        "door1.color"
      ],
      "execution_count": 59,
      "outputs": [
        {
          "output_type": "execute_result",
          "data": {
            "text/plain": [
              "'brown'"
            ]
          },
          "metadata": {
            "tags": []
          },
          "execution_count": 59
        }
      ]
    },
    {
      "metadata": {
        "id": "nt5fuDEOTG7M",
        "colab_type": "code",
        "colab": {
          "base_uri": "https://localhost:8080/",
          "height": 35
        },
        "outputId": "ae914ed3-28e1-48a0-eb80-b3ae96b1cd31"
      },
      "cell_type": "code",
      "source": [
        "door2.color"
      ],
      "execution_count": 60,
      "outputs": [
        {
          "output_type": "execute_result",
          "data": {
            "text/plain": [
              "'brown'"
            ]
          },
          "metadata": {
            "tags": []
          },
          "execution_count": 60
        }
      ]
    },
    {
      "metadata": {
        "id": "XuYW2vVATG-3",
        "colab_type": "code",
        "colab": {
          "base_uri": "https://localhost:8080/",
          "height": 35
        },
        "outputId": "a6790c32-19e6-4779-bc96-3d680b5908aa"
      },
      "cell_type": "code",
      "source": [
        "Door.color = 'White'\n",
        "Door.color"
      ],
      "execution_count": 61,
      "outputs": [
        {
          "output_type": "execute_result",
          "data": {
            "text/plain": [
              "'White'"
            ]
          },
          "metadata": {
            "tags": []
          },
          "execution_count": 61
        }
      ]
    },
    {
      "metadata": {
        "id": "89YzXf8kTUll",
        "colab_type": "code",
        "colab": {
          "base_uri": "https://localhost:8080/",
          "height": 35
        },
        "outputId": "46c46019-5c09-4314-936b-96ac861b19af"
      },
      "cell_type": "code",
      "source": [
        "door1.color"
      ],
      "execution_count": 62,
      "outputs": [
        {
          "output_type": "execute_result",
          "data": {
            "text/plain": [
              "'White'"
            ]
          },
          "metadata": {
            "tags": []
          },
          "execution_count": 62
        }
      ]
    },
    {
      "metadata": {
        "id": "MC5mtRpyTUp7",
        "colab_type": "code",
        "colab": {
          "base_uri": "https://localhost:8080/",
          "height": 35
        },
        "outputId": "30ead4e9-f01f-4b87-8931-44d662511bc6"
      },
      "cell_type": "code",
      "source": [
        "door2.color"
      ],
      "execution_count": 63,
      "outputs": [
        {
          "output_type": "execute_result",
          "data": {
            "text/plain": [
              "'White'"
            ]
          },
          "metadata": {
            "tags": []
          },
          "execution_count": 63
        }
      ]
    },
    {
      "metadata": {
        "id": "oZ4Mzg7bTHB_",
        "colab_type": "code",
        "colab": {}
      },
      "cell_type": "code",
      "source": [
        ""
      ],
      "execution_count": 0,
      "outputs": []
    },
    {
      "metadata": {
        "id": "r_Vw_CRUTHFX",
        "colab_type": "code",
        "colab": {}
      },
      "cell_type": "code",
      "source": [
        ""
      ],
      "execution_count": 0,
      "outputs": []
    },
    {
      "metadata": {
        "id": "BT9gdS7viJZa",
        "colab_type": "text"
      },
      "cell_type": "markdown",
      "source": [
        "### Assignment questions\n",
        "\n",
        "After you've worked on some code, answer the following questions in this text block:\n",
        "\n",
        "1.  Describe in a paragraph of text what you did and why, as if you were writing an email to somebody interested but nontechnical.\n",
        "\n",
        "2.  What was the most challenging part of what you did?\n",
        "\n",
        "3.  What was the most interesting thing you learned?\n",
        "\n",
        "4.  What area would you like to explore with more time?\n",
        "\n",
        "\n"
      ]
    },
    {
      "metadata": {
        "id": "_XXg2crAipwP",
        "colab_type": "text"
      },
      "cell_type": "markdown",
      "source": [
        "## Stretch goals and resources\n",
        "\n",
        "Following are *optional* things for you to take a look at. Focus on the above assignment first, and make sure to commit and push your changes to GitHub (and since this is the first assignment of the sprint, open a PR as well).\n",
        "\n",
        "- [pandas documentation](https://pandas.pydata.org/pandas-docs/stable/)\n",
        "- [scikit-learn documentation](http://scikit-learn.org/stable/documentation.html)\n",
        "- [matplotlib documentation](https://matplotlib.org/contents.html)\n",
        "- [Awesome Data Science](https://github.com/bulutyazilim/awesome-datascience) - a list of many types of DS resources\n",
        "\n",
        "Stretch goals:\n",
        "\n",
        "- Find and read blogs, walkthroughs, and other examples of people working through cool things with data science - and share with your classmates!\n",
        "- Write a blog post (Medium is a popular place to publish) introducing yourself as somebody learning data science, and talking about what you've learned already and what you're excited to learn more about"
      ]
    }
  ]
}