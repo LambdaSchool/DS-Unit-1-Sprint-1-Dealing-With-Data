{
  "nbformat": 4,
  "nbformat_minor": 0,
  "metadata": {
    "colab": {
      "name": "LS_DS_111_A_First_Look_at_Data.ipynb",
      "version": "0.3.2",
      "provenance": []
    },
    "kernelspec": {
      "name": "python3",
      "display_name": "Python 3"
    }
  },
  "cells": [
    {
      "cell_type": "markdown",
      "metadata": {
        "id": "Okfr_uhwhS1X",
        "colab_type": "text"
      },
      "source": [
        "# Lambda School Data Science - A First Look at Data\n",
        "\n"
      ]
    },
    {
      "cell_type": "markdown",
      "metadata": {
        "id": "9dtJETFRhnOG",
        "colab_type": "text"
      },
      "source": [
        "## Lecture - let's explore Python DS libraries and examples!\n",
        "\n",
        "The Python Data Science ecosystem is huge. You've seen some of the big pieces - pandas, scikit-learn, matplotlib. What parts do you want to see more of?"
      ]
    },
    {
      "cell_type": "code",
      "metadata": {
        "id": "WiBkgmPJhmhE",
        "colab_type": "code",
        "colab": {
          "base_uri": "https://localhost:8080/",
          "height": 393
        },
        "outputId": "3dd57325-a125-4686-ac3d-633f4f1d62ad"
      },
      "source": [
        "import pandas as pd\n",
        "import numpy as np\n",
        "import matplotlib.pyplot as plt\n",
        "\n",
        "drinks = pd.read_csv('https://raw.githubusercontent.com/fivethirtyeight/data/master/alcohol-consumption/drinks.csv')\n",
        "countries = pd.read_csv('https://raw.githubusercontent.com/lukes/ISO-3166-Countries-with-Regional-Codes/master/all/all.csv')\n",
        "print(drinks.shape)\n",
        "print(countries.shape)\n",
        "print(drinks.head(5))\n",
        "countries.head(5)"
      ],
      "execution_count": 47,
      "outputs": [
        {
          "output_type": "stream",
          "text": [
            "(193, 5)\n",
            "(249, 11)\n",
            "       country  beer_servings  ...  wine_servings  total_litres_of_pure_alcohol\n",
            "0  Afghanistan              0  ...              0                           0.0\n",
            "1      Albania             89  ...             54                           4.9\n",
            "2      Algeria             25  ...             14                           0.7\n",
            "3      Andorra            245  ...            312                          12.4\n",
            "4       Angola            217  ...             45                           5.9\n",
            "\n",
            "[5 rows x 5 columns]\n"
          ],
          "name": "stdout"
        },
        {
          "output_type": "execute_result",
          "data": {
            "text/html": [
              "<div>\n",
              "<style scoped>\n",
              "    .dataframe tbody tr th:only-of-type {\n",
              "        vertical-align: middle;\n",
              "    }\n",
              "\n",
              "    .dataframe tbody tr th {\n",
              "        vertical-align: top;\n",
              "    }\n",
              "\n",
              "    .dataframe thead th {\n",
              "        text-align: right;\n",
              "    }\n",
              "</style>\n",
              "<table border=\"1\" class=\"dataframe\">\n",
              "  <thead>\n",
              "    <tr style=\"text-align: right;\">\n",
              "      <th></th>\n",
              "      <th>name</th>\n",
              "      <th>alpha-2</th>\n",
              "      <th>alpha-3</th>\n",
              "      <th>country-code</th>\n",
              "      <th>iso_3166-2</th>\n",
              "      <th>region</th>\n",
              "      <th>sub-region</th>\n",
              "      <th>intermediate-region</th>\n",
              "      <th>region-code</th>\n",
              "      <th>sub-region-code</th>\n",
              "      <th>intermediate-region-code</th>\n",
              "    </tr>\n",
              "  </thead>\n",
              "  <tbody>\n",
              "    <tr>\n",
              "      <th>0</th>\n",
              "      <td>Afghanistan</td>\n",
              "      <td>AF</td>\n",
              "      <td>AFG</td>\n",
              "      <td>4</td>\n",
              "      <td>ISO 3166-2:AF</td>\n",
              "      <td>Asia</td>\n",
              "      <td>Southern Asia</td>\n",
              "      <td>NaN</td>\n",
              "      <td>142.0</td>\n",
              "      <td>34.0</td>\n",
              "      <td>NaN</td>\n",
              "    </tr>\n",
              "    <tr>\n",
              "      <th>1</th>\n",
              "      <td>Åland Islands</td>\n",
              "      <td>AX</td>\n",
              "      <td>ALA</td>\n",
              "      <td>248</td>\n",
              "      <td>ISO 3166-2:AX</td>\n",
              "      <td>Europe</td>\n",
              "      <td>Northern Europe</td>\n",
              "      <td>NaN</td>\n",
              "      <td>150.0</td>\n",
              "      <td>154.0</td>\n",
              "      <td>NaN</td>\n",
              "    </tr>\n",
              "    <tr>\n",
              "      <th>2</th>\n",
              "      <td>Albania</td>\n",
              "      <td>AL</td>\n",
              "      <td>ALB</td>\n",
              "      <td>8</td>\n",
              "      <td>ISO 3166-2:AL</td>\n",
              "      <td>Europe</td>\n",
              "      <td>Southern Europe</td>\n",
              "      <td>NaN</td>\n",
              "      <td>150.0</td>\n",
              "      <td>39.0</td>\n",
              "      <td>NaN</td>\n",
              "    </tr>\n",
              "    <tr>\n",
              "      <th>3</th>\n",
              "      <td>Algeria</td>\n",
              "      <td>DZ</td>\n",
              "      <td>DZA</td>\n",
              "      <td>12</td>\n",
              "      <td>ISO 3166-2:DZ</td>\n",
              "      <td>Africa</td>\n",
              "      <td>Northern Africa</td>\n",
              "      <td>NaN</td>\n",
              "      <td>2.0</td>\n",
              "      <td>15.0</td>\n",
              "      <td>NaN</td>\n",
              "    </tr>\n",
              "    <tr>\n",
              "      <th>4</th>\n",
              "      <td>American Samoa</td>\n",
              "      <td>AS</td>\n",
              "      <td>ASM</td>\n",
              "      <td>16</td>\n",
              "      <td>ISO 3166-2:AS</td>\n",
              "      <td>Oceania</td>\n",
              "      <td>Polynesia</td>\n",
              "      <td>NaN</td>\n",
              "      <td>9.0</td>\n",
              "      <td>61.0</td>\n",
              "      <td>NaN</td>\n",
              "    </tr>\n",
              "  </tbody>\n",
              "</table>\n",
              "</div>"
            ],
            "text/plain": [
              "             name alpha-2  ... sub-region-code  intermediate-region-code\n",
              "0     Afghanistan      AF  ...            34.0                       NaN\n",
              "1   Åland Islands      AX  ...           154.0                       NaN\n",
              "2         Albania      AL  ...            39.0                       NaN\n",
              "3         Algeria      DZ  ...            15.0                       NaN\n",
              "4  American Samoa      AS  ...            61.0                       NaN\n",
              "\n",
              "[5 rows x 11 columns]"
            ]
          },
          "metadata": {
            "tags": []
          },
          "execution_count": 47
        }
      ]
    },
    {
      "cell_type": "code",
      "metadata": {
        "id": "2qFvz3IYxitL",
        "colab_type": "code",
        "colab": {
          "base_uri": "https://localhost:8080/",
          "height": 363
        },
        "outputId": "bf3abf92-1597-4fe1-b673-56476e89027d"
      },
      "source": [
        "df = drinks.join(countries[['name', 'region', 'sub-region']], how='left')\n",
        "df.head(10)\n"
      ],
      "execution_count": 48,
      "outputs": [
        {
          "output_type": "execute_result",
          "data": {
            "text/html": [
              "<div>\n",
              "<style scoped>\n",
              "    .dataframe tbody tr th:only-of-type {\n",
              "        vertical-align: middle;\n",
              "    }\n",
              "\n",
              "    .dataframe tbody tr th {\n",
              "        vertical-align: top;\n",
              "    }\n",
              "\n",
              "    .dataframe thead th {\n",
              "        text-align: right;\n",
              "    }\n",
              "</style>\n",
              "<table border=\"1\" class=\"dataframe\">\n",
              "  <thead>\n",
              "    <tr style=\"text-align: right;\">\n",
              "      <th></th>\n",
              "      <th>country</th>\n",
              "      <th>beer_servings</th>\n",
              "      <th>spirit_servings</th>\n",
              "      <th>wine_servings</th>\n",
              "      <th>total_litres_of_pure_alcohol</th>\n",
              "      <th>name</th>\n",
              "      <th>region</th>\n",
              "      <th>sub-region</th>\n",
              "    </tr>\n",
              "  </thead>\n",
              "  <tbody>\n",
              "    <tr>\n",
              "      <th>0</th>\n",
              "      <td>Afghanistan</td>\n",
              "      <td>0</td>\n",
              "      <td>0</td>\n",
              "      <td>0</td>\n",
              "      <td>0.0</td>\n",
              "      <td>Afghanistan</td>\n",
              "      <td>Asia</td>\n",
              "      <td>Southern Asia</td>\n",
              "    </tr>\n",
              "    <tr>\n",
              "      <th>1</th>\n",
              "      <td>Albania</td>\n",
              "      <td>89</td>\n",
              "      <td>132</td>\n",
              "      <td>54</td>\n",
              "      <td>4.9</td>\n",
              "      <td>Åland Islands</td>\n",
              "      <td>Europe</td>\n",
              "      <td>Northern Europe</td>\n",
              "    </tr>\n",
              "    <tr>\n",
              "      <th>2</th>\n",
              "      <td>Algeria</td>\n",
              "      <td>25</td>\n",
              "      <td>0</td>\n",
              "      <td>14</td>\n",
              "      <td>0.7</td>\n",
              "      <td>Albania</td>\n",
              "      <td>Europe</td>\n",
              "      <td>Southern Europe</td>\n",
              "    </tr>\n",
              "    <tr>\n",
              "      <th>3</th>\n",
              "      <td>Andorra</td>\n",
              "      <td>245</td>\n",
              "      <td>138</td>\n",
              "      <td>312</td>\n",
              "      <td>12.4</td>\n",
              "      <td>Algeria</td>\n",
              "      <td>Africa</td>\n",
              "      <td>Northern Africa</td>\n",
              "    </tr>\n",
              "    <tr>\n",
              "      <th>4</th>\n",
              "      <td>Angola</td>\n",
              "      <td>217</td>\n",
              "      <td>57</td>\n",
              "      <td>45</td>\n",
              "      <td>5.9</td>\n",
              "      <td>American Samoa</td>\n",
              "      <td>Oceania</td>\n",
              "      <td>Polynesia</td>\n",
              "    </tr>\n",
              "    <tr>\n",
              "      <th>5</th>\n",
              "      <td>Antigua &amp; Barbuda</td>\n",
              "      <td>102</td>\n",
              "      <td>128</td>\n",
              "      <td>45</td>\n",
              "      <td>4.9</td>\n",
              "      <td>Andorra</td>\n",
              "      <td>Europe</td>\n",
              "      <td>Southern Europe</td>\n",
              "    </tr>\n",
              "    <tr>\n",
              "      <th>6</th>\n",
              "      <td>Argentina</td>\n",
              "      <td>193</td>\n",
              "      <td>25</td>\n",
              "      <td>221</td>\n",
              "      <td>8.3</td>\n",
              "      <td>Angola</td>\n",
              "      <td>Africa</td>\n",
              "      <td>Sub-Saharan Africa</td>\n",
              "    </tr>\n",
              "    <tr>\n",
              "      <th>7</th>\n",
              "      <td>Armenia</td>\n",
              "      <td>21</td>\n",
              "      <td>179</td>\n",
              "      <td>11</td>\n",
              "      <td>3.8</td>\n",
              "      <td>Anguilla</td>\n",
              "      <td>Americas</td>\n",
              "      <td>Latin America and the Caribbean</td>\n",
              "    </tr>\n",
              "    <tr>\n",
              "      <th>8</th>\n",
              "      <td>Australia</td>\n",
              "      <td>261</td>\n",
              "      <td>72</td>\n",
              "      <td>212</td>\n",
              "      <td>10.4</td>\n",
              "      <td>Antarctica</td>\n",
              "      <td>NaN</td>\n",
              "      <td>NaN</td>\n",
              "    </tr>\n",
              "    <tr>\n",
              "      <th>9</th>\n",
              "      <td>Austria</td>\n",
              "      <td>279</td>\n",
              "      <td>75</td>\n",
              "      <td>191</td>\n",
              "      <td>9.7</td>\n",
              "      <td>Antigua and Barbuda</td>\n",
              "      <td>Americas</td>\n",
              "      <td>Latin America and the Caribbean</td>\n",
              "    </tr>\n",
              "  </tbody>\n",
              "</table>\n",
              "</div>"
            ],
            "text/plain": [
              "             country  beer_servings  ...    region                       sub-region\n",
              "0        Afghanistan              0  ...      Asia                    Southern Asia\n",
              "1            Albania             89  ...    Europe                  Northern Europe\n",
              "2            Algeria             25  ...    Europe                  Southern Europe\n",
              "3            Andorra            245  ...    Africa                  Northern Africa\n",
              "4             Angola            217  ...   Oceania                        Polynesia\n",
              "5  Antigua & Barbuda            102  ...    Europe                  Southern Europe\n",
              "6          Argentina            193  ...    Africa               Sub-Saharan Africa\n",
              "7            Armenia             21  ...  Americas  Latin America and the Caribbean\n",
              "8          Australia            261  ...       NaN                              NaN\n",
              "9            Austria            279  ...  Americas  Latin America and the Caribbean\n",
              "\n",
              "[10 rows x 8 columns]"
            ]
          },
          "metadata": {
            "tags": []
          },
          "execution_count": 48
        }
      ]
    },
    {
      "cell_type": "code",
      "metadata": {
        "id": "ANw2M6vyyHvD",
        "colab_type": "code",
        "colab": {
          "base_uri": "https://localhost:8080/",
          "height": 185
        },
        "outputId": "bfb8f43f-057b-4e12-bc73-63e858bc3ade"
      },
      "source": [
        "drinks.at[184, 'country'] = 'United States of America'\n",
        "df = pd.merge(drinks, countries[['name', 'region', 'sub-region']], how='left', left_on='country', right_on='name')\n",
        "df.isna().sum()\n"
      ],
      "execution_count": 55,
      "outputs": [
        {
          "output_type": "execute_result",
          "data": {
            "text/plain": [
              "country                          0\n",
              "beer_servings                    0\n",
              "spirit_servings                  0\n",
              "wine_servings                    0\n",
              "total_litres_of_pure_alcohol     0\n",
              "name                            25\n",
              "region                          25\n",
              "sub-region                      25\n",
              "dtype: int64"
            ]
          },
          "metadata": {
            "tags": []
          },
          "execution_count": 55
        }
      ]
    },
    {
      "cell_type": "code",
      "metadata": {
        "id": "GtwSEW9TvjpT",
        "colab_type": "code",
        "colab": {
          "base_uri": "https://localhost:8080/",
          "height": 353
        },
        "outputId": "57ee3ad7-554a-4889-a215-a4154d25d018"
      },
      "source": [
        "df['sub-region'].value_counts()"
      ],
      "execution_count": 54,
      "outputs": [
        {
          "output_type": "execute_result",
          "data": {
            "text/plain": [
              "Sub-Saharan Africa                 42\n",
              "Latin America and the Caribbean    26\n",
              "Western Asia                       16\n",
              "Southern Europe                    12\n",
              "Northern Europe                     9\n",
              "Eastern Europe                      8\n",
              "Western Europe                      8\n",
              "South-eastern Asia                  8\n",
              "Southern Asia                       8\n",
              "Northern Africa                     6\n",
              "Polynesia                           5\n",
              "Central Asia                        5\n",
              "Melanesia                           4\n",
              "Micronesia                          4\n",
              "Eastern Asia                        3\n",
              "Australia and New Zealand           2\n",
              "Northern America                    2\n",
              "Name: sub-region, dtype: int64"
            ]
          },
          "metadata": {
            "tags": []
          },
          "execution_count": 54
        }
      ]
    },
    {
      "cell_type": "code",
      "metadata": {
        "id": "_kgW8_Fw_if3",
        "colab_type": "code",
        "colab": {
          "base_uri": "https://localhost:8080/",
          "height": 559
        },
        "outputId": "adc519d0-709c-4311-de6a-b4ee3c9ea736"
      },
      "source": [
        "df.groupby('sub-region')['wine_servings'].mean().plot(kind='bar', figsize=(20, 6))\n",
        "plt.title('Average Beer Servings by Region')\n",
        "plt.xlabel('Region')\n",
        "plt.ylabel('Beer Servings')\n",
        "plt.show()"
      ],
      "execution_count": 65,
      "outputs": [
        {
          "output_type": "display_data",
          "data": {
            "image/png": "[encoded data removed]",
            "text/plain": [
              "<Figure size 1440x432 with 1 Axes>"
            ]
          },
          "metadata": {
            "tags": []
          }
        }
      ]
    },
    {
      "cell_type": "code",
      "metadata": {
        "id": "p5YIBz4VAkoX",
        "colab_type": "code",
        "colab": {
          "base_uri": "https://localhost:8080/",
          "height": 420
        },
        "outputId": "32b1e832-be0d-4974-af0b-6a9494375402"
      },
      "source": [
        "df.boxplot(column='beer_servings', by='region', figsize=(10, 6))\n",
        "plt.show()"
      ],
      "execution_count": 62,
      "outputs": [
        {
          "output_type": "display_data",
          "data": {
            "image/png": "[encoded data removed]",
            "text/plain": [
              "<Figure size 720x432 with 1 Axes>"
            ]
          },
          "metadata": {
            "tags": []
          }
        }
      ]
    },
    {
      "cell_type": "code",
      "metadata": {
        "id": "usgVznSdBpKT",
        "colab_type": "code",
        "colab": {}
      },
      "source": [
        "import seaborn as sns\n",
        "\n",
        "sns.pairplot"
      ],
      "execution_count": 0,
      "outputs": []
    },
    {
      "cell_type": "code",
      "metadata": {
        "id": "ClZU5Ml5CWr6",
        "colab_type": "code",
        "colab": {}
      },
      "source": [
        "#drops all the NaNs in 'region'\n",
        "df = df.dropna(subset=['region'])"
      ],
      "execution_count": 0,
      "outputs": []
    },
    {
      "cell_type": "code",
      "metadata": {
        "id": "cXpPE3PzB-7g",
        "colab_type": "code",
        "colab": {
          "base_uri": "https://localhost:8080/",
          "height": 647
        },
        "outputId": "c13ceb32-c0aa-410d-dc7d-7a535943ddb7"
      },
      "source": [
        "from bokeh.io import output_file, show, output_notebook\n",
        "from bokeh.models import ColumnDataSource, HoverTool, CategoricalColorMapper\n",
        "from bokeh.palettes import d3\n",
        "from bokeh.plotting import figure\n",
        "from bokeh.transform import transform\n",
        "output_notebook()\n",
        "x = df.beer_servings.values\n",
        "y = df.wine_servings.values\n",
        "country = df.country\n",
        "region = df.region\n",
        "source = ColumnDataSource(data=dict(x=x, y=y, country=country, region=region))\n",
        "hover = HoverTool(tooltips=[\n",
        "    (\"index\", \"$index\"),\n",
        "    (\"(x,y)\", \"(@x, @y)\"),\n",
        "    ('country', '@country'),\n",
        "])\n",
        "palette = d3['Category10'][len(df['region'].unique())]\n",
        "mapper = CategoricalColorMapper(factors = df['region'].unique(), palette = palette)\n",
        "# create figure and plot\n",
        "p = figure(plot_width=600, plot_height=600, \n",
        "           tools=[hover, \"wheel_zoom\", \"box_zoom\", \"reset\"], \n",
        "           title=\"Beer and Wine Servings per Year by Country\")\n",
        "# create plot\n",
        "p.scatter(x='x', y='y', size=10, alpha=0.8,\n",
        "          color={'field': 'region', 'transform': mapper},\n",
        "          legend='region', \n",
        "          source=source)\n",
        "# add axis labels\n",
        "p.xaxis.axis_label = \"Beer Servings\"\n",
        "p.yaxis.axis_label = \"Wine Servings\"\n",
        "output_file('interactive_bokeh_plot.html')\n",
        "show(p)"
      ],
      "execution_count": 68,
      "outputs": [
        {
          "output_type": "display_data",
          "data": {
            "text/html": [
              "\n",
              "    <div class=\"bk-root\">\n",
              "        <a href=\"https://bokeh.pydata.org\" target=\"_blank\" class=\"bk-logo bk-logo-small bk-logo-notebook\"></a>\n",
              "        <span id=\"1005\">Loading BokehJS ...</span>\n",
              "    </div>"
            ]
          },
          "metadata": {
            "tags": []
          }
        },
        {
          "output_type": "display_data",
          "data": {
            "application/javascript": [
              "\n",
              "(function(root) {\n",
              "  function now() {\n",
              "    return new Date();\n",
              "  }\n",
              "\n",
              "  var force = true;\n",
              "\n",
              "  if (typeof (root._bokeh_onload_callbacks) === \"undefined\" || force === true) {\n",
              "    root._bokeh_onload_callbacks = [];\n",
              "    root._bokeh_is_loading = undefined;\n",
              "  }\n",
              "\n",
              "  var JS_MIME_TYPE = 'application/javascript';\n",
              "  var HTML_MIME_TYPE = 'text/html';\n",
              "  var EXEC_MIME_TYPE = 'application/vnd.bokehjs_exec.v0+json';\n",
              "  var CLASS_NAME = 'output_bokeh rendered_html';\n",
              "\n",
              "  /**\n",
              "   * Render data to the DOM node\n",
              "   */\n",
              "  function render(props, node) {\n",
              "    var script = document.createElement(\"script\");\n",
              "    node.appendChild(script);\n",
              "  }\n",
              "\n",
              "  /**\n",
              "   * Handle when an output is cleared or removed\n",
              "   */\n",
              "  function handleClearOutput(event, handle) {\n",
              "    var cell = handle.cell;\n",
              "\n",
              "    var id = cell.output_area._bokeh_element_id;\n",
              "    var server_id = cell.output_area._bokeh_server_id;\n",
              "    // Clean up Bokeh references\n",
              "    if (id != null && id in Bokeh.index) {\n",
              "      Bokeh.index[id].model.document.clear();\n",
              "      delete Bokeh.index[id];\n",
              "    }\n",
              "\n",
              "    if (server_id !== undefined) {\n",
              "      // Clean up Bokeh references\n",
              "      var cmd = \"from bokeh.io.state import curstate; print(curstate().uuid_to_server['\" + server_id + \"'].get_sessions()[0].document.roots[0]._id)\";\n",
              "      cell.notebook.kernel.execute(cmd, {\n",
              "        iopub: {\n",
              "          output: function(msg) {\n",
              "            var id = msg.content.text.trim();\n",
              "            if (id in Bokeh.index) {\n",
              "              Bokeh.index[id].model.document.clear();\n",
              "              delete Bokeh.index[id];\n",
              "            }\n",
              "          }\n",
              "        }\n",
              "      });\n",
              "      // Destroy server and session\n",
              "      var cmd = \"import bokeh.io.notebook as ion; ion.destroy_server('\" + server_id + \"')\";\n",
              "      cell.notebook.kernel.execute(cmd);\n",
              "    }\n",
              "  }\n",
              "\n",
              "  /**\n",
              "   * Handle when a new output is added\n",
              "   */\n",
              "  function handleAddOutput(event, handle) {\n",
              "    var output_area = handle.output_area;\n",
              "    var output = handle.output;\n",
              "\n",
              "    // limit handleAddOutput to display_data with EXEC_MIME_TYPE content only\n",
              "    if ((output.output_type != \"display_data\") || (!output.data.hasOwnProperty(EXEC_MIME_TYPE))) {\n",
              "      return\n",
              "    }\n",
              "\n",
              "    var toinsert = output_area.element.find(\".\" + CLASS_NAME.split(' ')[0]);\n",
              "\n",
              "    if (output.metadata[EXEC_MIME_TYPE][\"id\"] !== undefined) {\n",
              "      toinsert[toinsert.length - 1].firstChild.textContent = output.data[JS_MIME_TYPE];\n",
              "      // store reference to embed id on output_area\n",
              "      output_area._bokeh_element_id = output.metadata[EXEC_MIME_TYPE][\"id\"];\n",
              "    }\n",
              "    if (output.metadata[EXEC_MIME_TYPE][\"server_id\"] !== undefined) {\n",
              "      var bk_div = document.createElement(\"div\");\n",
              "      bk_div.innerHTML = output.data[HTML_MIME_TYPE];\n",
              "      var script_attrs = bk_div.children[0].attributes;\n",
              "      for (var i = 0; i < script_attrs.length; i++) {\n",
              "        toinsert[toinsert.length - 1].firstChild.setAttribute(script_attrs[i].name, script_attrs[i].value);\n",
              "      }\n",
              "      // store reference to server id on output_area\n",
              "      output_area._bokeh_server_id = output.metadata[EXEC_MIME_TYPE][\"server_id\"];\n",
              "    }\n",
              "  }\n",
              "\n",
              "  function register_renderer(events, OutputArea) {\n",
              "\n",
              "    function append_mime(data, metadata, element) {\n",
              "      // create a DOM node to render to\n",
              "      var toinsert = this.create_output_subarea(\n",
              "        metadata,\n",
              "        CLASS_NAME,\n",
              "        EXEC_MIME_TYPE\n",
              "      );\n",
              "      this.keyboard_manager.register_events(toinsert);\n",
              "      // Render to node\n",
              "      var props = {data: data, metadata: metadata[EXEC_MIME_TYPE]};\n",
              "      render(props, toinsert[toinsert.length - 1]);\n",
              "      element.append(toinsert);\n",
              "      return toinsert\n",
              "    }\n",
              "\n",
              "    /* Handle when an output is cleared or removed */\n",
              "    events.on('clear_output.CodeCell', handleClearOutput);\n",
              "    events.on('delete.Cell', handleClearOutput);\n",
              "\n",
              "    /* Handle when a new output is added */\n",
              "    events.on('output_added.OutputArea', handleAddOutput);\n",
              "\n",
              "    /**\n",
              "     * Register the mime type and append_mime function with output_area\n",
              "     */\n",
              "    OutputArea.prototype.register_mime_type(EXEC_MIME_TYPE, append_mime, {\n",
              "      /* Is output safe? */\n",
              "      safe: true,\n",
              "      /* Index of renderer in `output_area.display_order` */\n",
              "      index: 0\n",
              "    });\n",
              "  }\n",
              "\n",
              "  // register the mime type if in Jupyter Notebook environment and previously unregistered\n",
              "  if (root.Jupyter !== undefined) {\n",
              "    var events = require('base/js/events');\n",
              "    var OutputArea = require('notebook/js/outputarea').OutputArea;\n",
              "\n",
              "    if (OutputArea.prototype.mime_types().indexOf(EXEC_MIME_TYPE) == -1) {\n",
              "      register_renderer(events, OutputArea);\n",
              "    }\n",
              "  }\n",
              "\n",
              "  \n",
              "  if (typeof (root._bokeh_timeout) === \"undefined\" || force === true) {\n",
              "    root._bokeh_timeout = Date.now() + 5000;\n",
              "    root._bokeh_failed_load = false;\n",
              "  }\n",
              "\n",
              "  var NB_LOAD_WARNING = {'data': {'text/html':\n",
              "     \"<div style='background-color: #fdd'>\\n\"+\n",
              "     \"<p>\\n\"+\n",
              "     \"BokehJS does not appear to have successfully loaded. If loading BokehJS from CDN, this \\n\"+\n",
              "     \"may be due to a slow or bad network connection. Possible fixes:\\n\"+\n",
              "     \"</p>\\n\"+\n",
              "     \"<ul>\\n\"+\n",
              "     \"<li>re-rerun `output_notebook()` to attempt to load from CDN again, or</li>\\n\"+\n",
              "     \"<li>use INLINE resources instead, as so:</li>\\n\"+\n",
              "     \"</ul>\\n\"+\n",
              "     \"<code>\\n\"+\n",
              "     \"from bokeh.resources import INLINE\\n\"+\n",
              "     \"output_notebook(resources=INLINE)\\n\"+\n",
              "     \"</code>\\n\"+\n",
              "     \"</div>\"}};\n",
              "\n",
              "  function display_loaded() {\n",
              "    var el = document.getElementById(\"1005\");\n",
              "    if (el != null) {\n",
              "      el.textContent = \"BokehJS is loading...\";\n",
              "    }\n",
              "    if (root.Bokeh !== undefined) {\n",
              "      if (el != null) {\n",
              "        el.textContent = \"BokehJS \" + root.Bokeh.version + \" successfully loaded.\";\n",
              "      }\n",
              "    } else if (Date.now() < root._bokeh_timeout) {\n",
              "      setTimeout(display_loaded, 100)\n",
              "    }\n",
              "  }\n",
              "\n",
              "\n",
              "  function run_callbacks() {\n",
              "    try {\n",
              "      root._bokeh_onload_callbacks.forEach(function(callback) { callback() });\n",
              "    }\n",
              "    finally {\n",
              "      delete root._bokeh_onload_callbacks\n",
              "    }\n",
              "    console.info(\"Bokeh: all callbacks have finished\");\n",
              "  }\n",
              "\n",
              "  function load_libs(js_urls, callback) {\n",
              "    root._bokeh_onload_callbacks.push(callback);\n",
              "    if (root._bokeh_is_loading > 0) {\n",
              "      console.log(\"Bokeh: BokehJS is being loaded, scheduling callback at\", now());\n",
              "      return null;\n",
              "    }\n",
              "    if (js_urls == null || js_urls.length === 0) {\n",
              "      run_callbacks();\n",
              "      return null;\n",
              "    }\n",
              "    console.log(\"Bokeh: BokehJS not loaded, scheduling load and callback at\", now());\n",
              "    root._bokeh_is_loading = js_urls.length;\n",
              "    for (var i = 0; i < js_urls.length; i++) {\n",
              "      var url = js_urls[i];\n",
              "      var s = document.createElement('script');\n",
              "      s.src = url;\n",
              "      s.async = false;\n",
              "      s.onreadystatechange = s.onload = function() {\n",
              "        root._bokeh_is_loading--;\n",
              "        if (root._bokeh_is_loading === 0) {\n",
              "          console.log(\"Bokeh: all BokehJS libraries loaded\");\n",
              "          run_callbacks()\n",
              "        }\n",
              "      };\n",
              "      s.onerror = function() {\n",
              "        console.warn(\"failed to load library \" + url);\n",
              "      };\n",
              "      console.log(\"Bokeh: injecting script tag for BokehJS library: \", url);\n",
              "      document.getElementsByTagName(\"head\")[0].appendChild(s);\n",
              "    }\n",
              "  };var element = document.getElementById(\"1005\");\n",
              "  if (element == null) {\n",
              "    console.log(\"Bokeh: ERROR: autoload.js configured with elementid '1005' but no matching script tag was found. \")\n",
              "    return false;\n",
              "  }\n",
              "\n",
              "  var js_urls = [\"https://cdn.pydata.org/bokeh/release/bokeh-1.0.4.min.js\", \"https://cdn.pydata.org/bokeh/release/bokeh-widgets-1.0.4.min.js\", \"https://cdn.pydata.org/bokeh/release/bokeh-tables-1.0.4.min.js\", \"https://cdn.pydata.org/bokeh/release/bokeh-gl-1.0.4.min.js\"];\n",
              "\n",
              "  var inline_js = [\n",
              "    function(Bokeh) {\n",
              "      Bokeh.set_log_level(\"info\");\n",
              "    },\n",
              "    \n",
              "    function(Bokeh) {\n",
              "      \n",
              "    },\n",
              "    function(Bokeh) {\n",
              "      console.log(\"Bokeh: injecting CSS: https://cdn.pydata.org/bokeh/release/bokeh-1.0.4.min.css\");\n",
              "      Bokeh.embed.inject_css(\"https://cdn.pydata.org/bokeh/release/bokeh-1.0.4.min.css\");\n",
              "      console.log(\"Bokeh: injecting CSS: https://cdn.pydata.org/bokeh/release/bokeh-widgets-1.0.4.min.css\");\n",
              "      Bokeh.embed.inject_css(\"https://cdn.pydata.org/bokeh/release/bokeh-widgets-1.0.4.min.css\");\n",
              "      console.log(\"Bokeh: injecting CSS: https://cdn.pydata.org/bokeh/release/bokeh-tables-1.0.4.min.css\");\n",
              "      Bokeh.embed.inject_css(\"https://cdn.pydata.org/bokeh/release/bokeh-tables-1.0.4.min.css\");\n",
              "    }\n",
              "  ];\n",
              "\n",
              "  function run_inline_js() {\n",
              "    \n",
              "    if ((root.Bokeh !== undefined) || (force === true)) {\n",
              "      for (var i = 0; i < inline_js.length; i++) {\n",
              "        inline_js[i].call(root, root.Bokeh);\n",
              "      }if (force === true) {\n",
              "        display_loaded();\n",
              "      }} else if (Date.now() < root._bokeh_timeout) {\n",
              "      setTimeout(run_inline_js, 100);\n",
              "    } else if (!root._bokeh_failed_load) {\n",
              "      console.log(\"Bokeh: BokehJS failed to load within specified timeout.\");\n",
              "      root._bokeh_failed_load = true;\n",
              "    } else if (force !== true) {\n",
              "      var cell = $(document.getElementById(\"1005\")).parents('.cell').data().cell;\n",
              "      cell.output_area.append_execute_result(NB_LOAD_WARNING)\n",
              "    }\n",
              "\n",
              "  }\n",
              "\n",
              "  if (root._bokeh_is_loading === 0) {\n",
              "    console.log(\"Bokeh: BokehJS loaded, going straight to plotting\");\n",
              "    run_inline_js();\n",
              "  } else {\n",
              "    load_libs(js_urls, function() {\n",
              "      console.log(\"Bokeh: BokehJS plotting callback run at\", now());\n",
              "      run_inline_js();\n",
              "    });\n",
              "  }\n",
              "}(window));"
            ],
            "application/vnd.bokehjs_load.v0+json": "\n(function(root) {\n  function now() {\n    return new Date();\n  }\n\n  var force = true;\n\n  if (typeof (root._bokeh_onload_callbacks) === \"undefined\" || force === true) {\n    root._bokeh_onload_callbacks = [];\n    root._bokeh_is_loading = undefined;\n  }\n\n  \n\n  \n  if (typeof (root._bokeh_timeout) === \"undefined\" || force === true) {\n    root._bokeh_timeout = Date.now() + 5000;\n    root._bokeh_failed_load = false;\n  }\n\n  var NB_LOAD_WARNING = {'data': {'text/html':\n     \"<div style='background-color: #fdd'>\\n\"+\n     \"<p>\\n\"+\n     \"BokehJS does not appear to have successfully loaded. If loading BokehJS from CDN, this \\n\"+\n     \"may be due to a slow or bad network connection. Possible fixes:\\n\"+\n     \"</p>\\n\"+\n     \"<ul>\\n\"+\n     \"<li>re-rerun `output_notebook()` to attempt to load from CDN again, or</li>\\n\"+\n     \"<li>use INLINE resources instead, as so:</li>\\n\"+\n     \"</ul>\\n\"+\n     \"<code>\\n\"+\n     \"from bokeh.resources import INLINE\\n\"+\n     \"output_notebook(resources=INLINE)\\n\"+\n     \"</code>\\n\"+\n     \"</div>\"}};\n\n  function display_loaded() {\n    var el = document.getElementById(\"1005\");\n    if (el != null) {\n      el.textContent = \"BokehJS is loading...\";\n    }\n    if (root.Bokeh !== undefined) {\n      if (el != null) {\n        el.textContent = \"BokehJS \" + root.Bokeh.version + \" successfully loaded.\";\n      }\n    } else if (Date.now() < root._bokeh_timeout) {\n      setTimeout(display_loaded, 100)\n    }\n  }\n\n\n  function run_callbacks() {\n    try {\n      root._bokeh_onload_callbacks.forEach(function(callback) { callback() });\n    }\n    finally {\n      delete root._bokeh_onload_callbacks\n    }\n    console.info(\"Bokeh: all callbacks have finished\");\n  }\n\n  function load_libs(js_urls, callback) {\n    root._bokeh_onload_callbacks.push(callback);\n    if (root._bokeh_is_loading > 0) {\n      console.log(\"Bokeh: BokehJS is being loaded, scheduling callback at\", now());\n      return null;\n    }\n    if (js_urls == null || js_urls.length === 0) {\n      run_callbacks();\n      return null;\n    }\n    console.log(\"Bokeh: BokehJS not loaded, scheduling load and callback at\", now());\n    root._bokeh_is_loading = js_urls.length;\n    for (var i = 0; i < js_urls.length; i++) {\n      var url = js_urls[i];\n      var s = document.createElement('script');\n      s.src = url;\n      s.async = false;\n      s.onreadystatechange = s.onload = function() {\n        root._bokeh_is_loading--;\n        if (root._bokeh_is_loading === 0) {\n          console.log(\"Bokeh: all BokehJS libraries loaded\");\n          run_callbacks()\n        }\n      };\n      s.onerror = function() {\n        console.warn(\"failed to load library \" + url);\n      };\n      console.log(\"Bokeh: injecting script tag for BokehJS library: \", url);\n      document.getElementsByTagName(\"head\")[0].appendChild(s);\n    }\n  };var element = document.getElementById(\"1005\");\n  if (element == null) {\n    console.log(\"Bokeh: ERROR: autoload.js configured with elementid '1005' but no matching script tag was found. \")\n    return false;\n  }\n\n  var js_urls = [\"https://cdn.pydata.org/bokeh/release/bokeh-1.0.4.min.js\", \"https://cdn.pydata.org/bokeh/release/bokeh-widgets-1.0.4.min.js\", \"https://cdn.pydata.org/bokeh/release/bokeh-tables-1.0.4.min.js\", \"https://cdn.pydata.org/bokeh/release/bokeh-gl-1.0.4.min.js\"];\n\n  var inline_js = [\n    function(Bokeh) {\n      Bokeh.set_log_level(\"info\");\n    },\n    \n    function(Bokeh) {\n      \n    },\n    function(Bokeh) {\n      console.log(\"Bokeh: injecting CSS: https://cdn.pydata.org/bokeh/release/bokeh-1.0.4.min.css\");\n      Bokeh.embed.inject_css(\"https://cdn.pydata.org/bokeh/release/bokeh-1.0.4.min.css\");\n      console.log(\"Bokeh: injecting CSS: https://cdn.pydata.org/bokeh/release/bokeh-widgets-1.0.4.min.css\");\n      Bokeh.embed.inject_css(\"https://cdn.pydata.org/bokeh/release/bokeh-widgets-1.0.4.min.css\");\n      console.log(\"Bokeh: injecting CSS: https://cdn.pydata.org/bokeh/release/bokeh-tables-1.0.4.min.css\");\n      Bokeh.embed.inject_css(\"https://cdn.pydata.org/bokeh/release/bokeh-tables-1.0.4.min.css\");\n    }\n  ];\n\n  function run_inline_js() {\n    \n    if ((root.Bokeh !== undefined) || (force === true)) {\n      for (var i = 0; i < inline_js.length; i++) {\n        inline_js[i].call(root, root.Bokeh);\n      }if (force === true) {\n        display_loaded();\n      }} else if (Date.now() < root._bokeh_timeout) {\n      setTimeout(run_inline_js, 100);\n    } else if (!root._bokeh_failed_load) {\n      console.log(\"Bokeh: BokehJS failed to load within specified timeout.\");\n      root._bokeh_failed_load = true;\n    } else if (force !== true) {\n      var cell = $(document.getElementById(\"1005\")).parents('.cell').data().cell;\n      cell.output_area.append_execute_result(NB_LOAD_WARNING)\n    }\n\n  }\n\n  if (root._bokeh_is_loading === 0) {\n    console.log(\"Bokeh: BokehJS loaded, going straight to plotting\");\n    run_inline_js();\n  } else {\n    load_libs(js_urls, function() {\n      console.log(\"Bokeh: BokehJS plotting callback run at\", now());\n      run_inline_js();\n    });\n  }\n}(window));"
          },
          "metadata": {
            "tags": []
          }
        },
        {
          "output_type": "display_data",
          "data": {
            "text/html": [
              "\n",
              "\n",
              "\n",
              "\n",
              "\n",
              "\n",
              "  <div class=\"bk-root\" id=\"5015932e-d1a1-4f76-828f-42dc0a1223f6\" data-root-id=\"1010\"></div>\n"
            ]
          },
          "metadata": {
            "tags": []
          }
        },
        {
          "output_type": "display_data",
          "data": {
            "application/javascript": [
              "(function(root) {\n",
              "  function embed_document(root) {\n",
              "    \n",
              "  var docs_json = {\"1c2ee305-82e1-4857-a657-a6da9b590c28\":{\"roots\":{\"references\":[{\"attributes\":{\"below\":[{\"id\":\"1020\",\"type\":\"LinearAxis\"}],\"left\":[{\"id\":\"1025\",\"type\":\"LinearAxis\"}],\"renderers\":[{\"id\":\"1020\",\"type\":\"LinearAxis\"},{\"id\":\"1024\",\"type\":\"Grid\"},{\"id\":\"1025\",\"type\":\"LinearAxis\"},{\"id\":\"1029\",\"type\":\"Grid\"},{\"id\":\"1035\",\"type\":\"BoxAnnotation\"},{\"id\":\"1051\",\"type\":\"Legend\"},{\"id\":\"1043\",\"type\":\"GlyphRenderer\"}],\"title\":{\"id\":\"1009\",\"type\":\"Title\"},\"toolbar\":{\"id\":\"1033\",\"type\":\"Toolbar\"},\"x_range\":{\"id\":\"1012\",\"type\":\"DataRange1d\"},\"x_scale\":{\"id\":\"1016\",\"type\":\"LinearScale\"},\"y_range\":{\"id\":\"1014\",\"type\":\"DataRange1d\"},\"y_scale\":{\"id\":\"1018\",\"type\":\"LinearScale\"}},\"id\":\"1010\",\"subtype\":\"Figure\",\"type\":\"Plot\"},{\"attributes\":{\"bottom_units\":\"screen\",\"fill_alpha\":{\"value\":0.5},\"fill_color\":{\"value\":\"lightgrey\"},\"left_units\":\"screen\",\"level\":\"overlay\",\"line_alpha\":{\"value\":1.0},\"line_color\":{\"value\":\"black\"},\"line_dash\":[4,4],\"line_width\":{\"value\":2},\"plot\":null,\"render_mode\":\"css\",\"right_units\":\"screen\",\"top_units\":\"screen\"},\"id\":\"1035\",\"type\":\"BoxAnnotation\"},{\"attributes\":{\"plot\":null,\"text\":\"Beer and Wine Servings per Year by Country\"},\"id\":\"1009\",\"type\":\"Title\"},{\"attributes\":{\"fill_alpha\":{\"value\":0.1},\"fill_color\":{\"value\":\"#1f77b4\"},\"line_alpha\":{\"value\":0.1},\"line_color\":{\"value\":\"#1f77b4\"},\"size\":{\"units\":\"screen\",\"value\":10},\"x\":{\"field\":\"x\"},\"y\":{\"field\":\"y\"}},\"id\":\"1042\",\"type\":\"Scatter\"},{\"attributes\":{\"data_source\":{\"id\":\"1006\",\"type\":\"ColumnDataSource\"},\"glyph\":{\"id\":\"1041\",\"type\":\"Scatter\"},\"hover_glyph\":null,\"muted_glyph\":null,\"nonselection_glyph\":{\"id\":\"1042\",\"type\":\"Scatter\"},\"selection_glyph\":null,\"view\":{\"id\":\"1044\",\"type\":\"CDSView\"}},\"id\":\"1043\",\"type\":\"GlyphRenderer\"},{\"attributes\":{\"callback\":null},\"id\":\"1012\",\"type\":\"DataRange1d\"},{\"attributes\":{\"source\":{\"id\":\"1006\",\"type\":\"ColumnDataSource\"}},\"id\":\"1044\",\"type\":\"CDSView\"},{\"attributes\":{\"callback\":null},\"id\":\"1014\",\"type\":\"DataRange1d\"},{\"attributes\":{},\"id\":\"1046\",\"type\":\"BasicTickFormatter\"},{\"attributes\":{},\"id\":\"1016\",\"type\":\"LinearScale\"},{\"attributes\":{},\"id\":\"1048\",\"type\":\"BasicTickFormatter\"},{\"attributes\":{},\"id\":\"1018\",\"type\":\"LinearScale\"},{\"attributes\":{\"items\":[{\"id\":\"1052\",\"type\":\"LegendItem\"}],\"plot\":{\"id\":\"1010\",\"subtype\":\"Figure\",\"type\":\"Plot\"}},\"id\":\"1051\",\"type\":\"Legend\"},{\"attributes\":{\"axis_label\":\"Beer Servings\",\"formatter\":{\"id\":\"1046\",\"type\":\"BasicTickFormatter\"},\"plot\":{\"id\":\"1010\",\"subtype\":\"Figure\",\"type\":\"Plot\"},\"ticker\":{\"id\":\"1021\",\"type\":\"BasicTicker\"}},\"id\":\"1020\",\"type\":\"LinearAxis\"},{\"attributes\":{\"label\":{\"field\":\"region\"},\"renderers\":[{\"id\":\"1043\",\"type\":\"GlyphRenderer\"}]},\"id\":\"1052\",\"type\":\"LegendItem\"},{\"attributes\":{},\"id\":\"1021\",\"type\":\"BasicTicker\"},{\"attributes\":{\"plot\":{\"id\":\"1010\",\"subtype\":\"Figure\",\"type\":\"Plot\"},\"ticker\":{\"id\":\"1021\",\"type\":\"BasicTicker\"}},\"id\":\"1024\",\"type\":\"Grid\"},{\"attributes\":{},\"id\":\"1058\",\"type\":\"Selection\"},{\"attributes\":{\"axis_label\":\"Wine Servings\",\"formatter\":{\"id\":\"1048\",\"type\":\"BasicTickFormatter\"},\"plot\":{\"id\":\"1010\",\"subtype\":\"Figure\",\"type\":\"Plot\"},\"ticker\":{\"id\":\"1026\",\"type\":\"BasicTicker\"}},\"id\":\"1025\",\"type\":\"LinearAxis\"},{\"attributes\":{},\"id\":\"1059\",\"type\":\"UnionRenderers\"},{\"attributes\":{},\"id\":\"1026\",\"type\":\"BasicTicker\"},{\"attributes\":{\"dimension\":1,\"plot\":{\"id\":\"1010\",\"subtype\":\"Figure\",\"type\":\"Plot\"},\"ticker\":{\"id\":\"1026\",\"type\":\"BasicTicker\"}},\"id\":\"1029\",\"type\":\"Grid\"},{\"attributes\":{\"callback\":null,\"data\":{\"country\":[\"Afghanistan\",\"Albania\",\"Algeria\",\"Andorra\",\"Angola\",\"Argentina\",\"Armenia\",\"Australia\",\"Austria\",\"Azerbaijan\",\"Bahamas\",\"Bahrain\",\"Bangladesh\",\"Barbados\",\"Belarus\",\"Belgium\",\"Belize\",\"Benin\",\"Bhutan\",\"Botswana\",\"Brazil\",\"Bulgaria\",\"Burkina Faso\",\"Burundi\",\"Cabo Verde\",\"Cambodia\",\"Cameroon\",\"Canada\",\"Central African Republic\",\"Chad\",\"Chile\",\"China\",\"Colombia\",\"Comoros\",\"Congo\",\"Cook Islands\",\"Costa Rica\",\"Croatia\",\"Cuba\",\"Cyprus\",\"Denmark\",\"Djibouti\",\"Dominica\",\"Dominican Republic\",\"Ecuador\",\"Egypt\",\"El Salvador\",\"Equatorial Guinea\",\"Eritrea\",\"Estonia\",\"Ethiopia\",\"Fiji\",\"Finland\",\"France\",\"Gabon\",\"Gambia\",\"Georgia\",\"Germany\",\"Ghana\",\"Greece\",\"Grenada\",\"Guatemala\",\"Guinea\",\"Guinea-Bissau\",\"Guyana\",\"Haiti\",\"Honduras\",\"Hungary\",\"Iceland\",\"India\",\"Indonesia\",\"Iraq\",\"Ireland\",\"Israel\",\"Italy\",\"Jamaica\",\"Japan\",\"Jordan\",\"Kazakhstan\",\"Kenya\",\"Kiribati\",\"Kuwait\",\"Kyrgyzstan\",\"Latvia\",\"Lebanon\",\"Lesotho\",\"Liberia\",\"Libya\",\"Lithuania\",\"Luxembourg\",\"Madagascar\",\"Malawi\",\"Malaysia\",\"Maldives\",\"Mali\",\"Malta\",\"Marshall Islands\",\"Mauritania\",\"Mauritius\",\"Mexico\",\"Monaco\",\"Mongolia\",\"Montenegro\",\"Morocco\",\"Mozambique\",\"Myanmar\",\"Namibia\",\"Nauru\",\"Nepal\",\"Netherlands\",\"New Zealand\",\"Nicaragua\",\"Niger\",\"Nigeria\",\"Niue\",\"Norway\",\"Oman\",\"Pakistan\",\"Palau\",\"Panama\",\"Papua New Guinea\",\"Paraguay\",\"Peru\",\"Philippines\",\"Poland\",\"Portugal\",\"Qatar\",\"Romania\",\"Russian Federation\",\"Rwanda\",\"Samoa\",\"San Marino\",\"Saudi Arabia\",\"Senegal\",\"Serbia\",\"Seychelles\",\"Sierra Leone\",\"Singapore\",\"Slovakia\",\"Slovenia\",\"Solomon Islands\",\"Somalia\",\"South Africa\",\"Spain\",\"Sri Lanka\",\"Sudan\",\"Suriname\",\"Sweden\",\"Switzerland\",\"Tajikistan\",\"Thailand\",\"Timor-Leste\",\"Togo\",\"Tonga\",\"Tunisia\",\"Turkey\",\"Turkmenistan\",\"Tuvalu\",\"Uganda\",\"Ukraine\",\"United Arab Emirates\",\"United States of America\",\"Uruguay\",\"Uzbekistan\",\"Vanuatu\",\"Yemen\",\"Zambia\",\"Zimbabwe\"],\"region\":[\"Asia\",\"Europe\",\"Africa\",\"Europe\",\"Africa\",\"Americas\",\"Asia\",\"Oceania\",\"Europe\",\"Asia\",\"Americas\",\"Asia\",\"Asia\",\"Americas\",\"Europe\",\"Europe\",\"Americas\",\"Africa\",\"Asia\",\"Africa\",\"Americas\",\"Europe\",\"Africa\",\"Africa\",\"Africa\",\"Asia\",\"Africa\",\"Americas\",\"Africa\",\"Africa\",\"Americas\",\"Asia\",\"Americas\",\"Africa\",\"Africa\",\"Oceania\",\"Americas\",\"Europe\",\"Americas\",\"Asia\",\"Europe\",\"Africa\",\"Americas\",\"Americas\",\"Americas\",\"Africa\",\"Americas\",\"Africa\",\"Africa\",\"Europe\",\"Africa\",\"Oceania\",\"Europe\",\"Europe\",\"Africa\",\"Africa\",\"Asia\",\"Europe\",\"Africa\",\"Europe\",\"Americas\",\"Americas\",\"Africa\",\"Africa\",\"Americas\",\"Americas\",\"Americas\",\"Europe\",\"Europe\",\"Asia\",\"Asia\",\"Asia\",\"Europe\",\"Asia\",\"Europe\",\"Americas\",\"Asia\",\"Asia\",\"Asia\",\"Africa\",\"Oceania\",\"Asia\",\"Asia\",\"Europe\",\"Asia\",\"Africa\",\"Africa\",\"Africa\",\"Europe\",\"Europe\",\"Africa\",\"Africa\",\"Asia\",\"Asia\",\"Africa\",\"Europe\",\"Oceania\",\"Africa\",\"Africa\",\"Americas\",\"Europe\",\"Asia\",\"Europe\",\"Africa\",\"Africa\",\"Asia\",\"Africa\",\"Oceania\",\"Asia\",\"Europe\",\"Oceania\",\"Americas\",\"Africa\",\"Africa\",\"Oceania\",\"Europe\",\"Asia\",\"Asia\",\"Oceania\",\"Americas\",\"Oceania\",\"Americas\",\"Americas\",\"Asia\",\"Europe\",\"Europe\",\"Asia\",\"Europe\",\"Europe\",\"Africa\",\"Oceania\",\"Europe\",\"Asia\",\"Africa\",\"Europe\",\"Africa\",\"Africa\",\"Asia\",\"Europe\",\"Europe\",\"Oceania\",\"Africa\",\"Africa\",\"Europe\",\"Asia\",\"Africa\",\"Americas\",\"Europe\",\"Europe\",\"Asia\",\"Asia\",\"Asia\",\"Africa\",\"Oceania\",\"Africa\",\"Asia\",\"Asia\",\"Oceania\",\"Africa\",\"Europe\",\"Asia\",\"Americas\",\"Americas\",\"Asia\",\"Oceania\",\"Asia\",\"Africa\",\"Africa\"],\"x\":[0,89,25,245,217,193,21,261,279,21,122,42,0,143,142,295,263,34,23,173,245,231,25,88,144,57,147,240,17,15,130,79,159,1,76,0,149,230,93,192,224,15,52,193,162,6,52,92,18,224,20,77,263,127,347,8,52,346,31,133,199,53,9,28,93,1,69,234,233,9,5,9,313,63,85,82,77,6,124,58,21,0,31,281,20,82,19,0,343,236,26,8,13,0,5,149,0,0,98,238,0,77,31,12,47,5,376,49,5,251,203,78,3,42,188,169,22,0,306,285,44,213,163,71,343,194,1,297,247,43,105,0,0,9,283,157,25,60,196,270,56,0,225,284,16,8,128,152,185,2,99,1,36,36,51,51,19,6,45,206,16,249,115,25,21,6,32,64],\"y\":[0,54,14,312,45,221,11,212,191,5,51,7,0,36,42,212,8,13,0,35,16,94,7,0,16,1,4,100,1,1,172,8,3,1,9,74,11,254,5,113,278,3,26,9,3,1,2,233,0,59,0,1,97,370,59,1,149,175,10,218,28,2,2,21,1,1,2,185,78,0,0,0,165,9,237,9,16,1,12,2,1,0,6,62,31,0,2,0,56,271,4,1,0,0,1,120,0,0,18,5,0,8,128,10,5,0,1,8,0,190,175,1,1,2,7,129,1,0,23,18,1,74,21,1,56,339,7,167,73,0,24,0,0,7,127,51,2,11,116,276,1,0,81,112,0,0,7,186,280,0,1,4,19,5,20,7,32,9,0,45,5,84,220,8,11,0,4,4]},\"selected\":{\"id\":\"1058\",\"type\":\"Selection\"},\"selection_policy\":{\"id\":\"1059\",\"type\":\"UnionRenderers\"}},\"id\":\"1006\",\"type\":\"ColumnDataSource\"},{\"attributes\":{\"overlay\":{\"id\":\"1035\",\"type\":\"BoxAnnotation\"}},\"id\":\"1031\",\"type\":\"BoxZoomTool\"},{\"attributes\":{\"active_drag\":\"auto\",\"active_inspect\":\"auto\",\"active_multi\":null,\"active_scroll\":\"auto\",\"active_tap\":\"auto\",\"tools\":[{\"id\":\"1007\",\"type\":\"HoverTool\"},{\"id\":\"1030\",\"type\":\"WheelZoomTool\"},{\"id\":\"1031\",\"type\":\"BoxZoomTool\"},{\"id\":\"1032\",\"type\":\"ResetTool\"}]},\"id\":\"1033\",\"type\":\"Toolbar\"},{\"attributes\":{},\"id\":\"1030\",\"type\":\"WheelZoomTool\"},{\"attributes\":{\"callback\":null,\"tooltips\":[[\"index\",\"$index\"],[\"(x,y)\",\"(@x, @y)\"],[\"country\",\"@country\"]]},\"id\":\"1007\",\"type\":\"HoverTool\"},{\"attributes\":{},\"id\":\"1032\",\"type\":\"ResetTool\"},{\"attributes\":{\"factors\":[\"Asia\",\"Europe\",\"Africa\",\"Americas\",\"Oceania\"],\"palette\":[\"#1f77b4\",\"#ff7f0e\",\"#2ca02c\",\"#d62728\",\"#9467bd\"]},\"id\":\"1008\",\"type\":\"CategoricalColorMapper\"},{\"attributes\":{\"fill_alpha\":{\"value\":0.8},\"fill_color\":{\"field\":\"region\",\"transform\":{\"id\":\"1008\",\"type\":\"CategoricalColorMapper\"}},\"line_alpha\":{\"value\":0.8},\"line_color\":{\"field\":\"region\",\"transform\":{\"id\":\"1008\",\"type\":\"CategoricalColorMapper\"}},\"size\":{\"units\":\"screen\",\"value\":10},\"x\":{\"field\":\"x\"},\"y\":{\"field\":\"y\"}},\"id\":\"1041\",\"type\":\"Scatter\"}],\"root_ids\":[\"1010\"]},\"title\":\"Bokeh Application\",\"version\":\"1.0.4\"}};\n",
              "  var render_items = [{\"docid\":\"1c2ee305-82e1-4857-a657-a6da9b590c28\",\"roots\":{\"1010\":\"5015932e-d1a1-4f76-828f-42dc0a1223f6\"}}];\n",
              "  root.Bokeh.embed.embed_items_notebook(docs_json, render_items);\n",
              "\n",
              "  }\n",
              "  if (root.Bokeh !== undefined) {\n",
              "    embed_document(root);\n",
              "  } else {\n",
              "    var attempts = 0;\n",
              "    var timer = setInterval(function(root) {\n",
              "      if (root.Bokeh !== undefined) {\n",
              "        embed_document(root);\n",
              "        clearInterval(timer);\n",
              "      }\n",
              "      attempts++;\n",
              "      if (attempts > 100) {\n",
              "        console.log(\"Bokeh: ERROR: Unable to run BokehJS code because BokehJS library is missing\");\n",
              "        clearInterval(timer);\n",
              "      }\n",
              "    }, 10, root)\n",
              "  }\n",
              "})(window);"
            ],
            "application/vnd.bokehjs_exec.v0+json": ""
          },
          "metadata": {
            "tags": [],
            "application/vnd.bokehjs_exec.v0+json": {
              "id": "1010"
            }
          }
        }
      ]
    },
    {
      "cell_type": "code",
      "metadata": {
        "id": "fEJhri_0vrky",
        "colab_type": "code",
        "colab": {
          "base_uri": "https://localhost:8080/",
          "height": 363
        },
        "outputId": "ae50c166-2931-4436-f393-cecb5ab526cd"
      },
      "source": [
        "drinks.nlargest(10, 'beer_servings')"
      ],
      "execution_count": 10,
      "outputs": [
        {
          "output_type": "execute_result",
          "data": {
            "text/html": [
              "<div>\n",
              "<style scoped>\n",
              "    .dataframe tbody tr th:only-of-type {\n",
              "        vertical-align: middle;\n",
              "    }\n",
              "\n",
              "    .dataframe tbody tr th {\n",
              "        vertical-align: top;\n",
              "    }\n",
              "\n",
              "    .dataframe thead th {\n",
              "        text-align: right;\n",
              "    }\n",
              "</style>\n",
              "<table border=\"1\" class=\"dataframe\">\n",
              "  <thead>\n",
              "    <tr style=\"text-align: right;\">\n",
              "      <th></th>\n",
              "      <th>country</th>\n",
              "      <th>beer_servings</th>\n",
              "      <th>spirit_servings</th>\n",
              "      <th>wine_servings</th>\n",
              "      <th>total_litres_of_pure_alcohol</th>\n",
              "    </tr>\n",
              "  </thead>\n",
              "  <tbody>\n",
              "    <tr>\n",
              "      <th>117</th>\n",
              "      <td>Namibia</td>\n",
              "      <td>376</td>\n",
              "      <td>3</td>\n",
              "      <td>1</td>\n",
              "      <td>6.8</td>\n",
              "    </tr>\n",
              "    <tr>\n",
              "      <th>45</th>\n",
              "      <td>Czech Republic</td>\n",
              "      <td>361</td>\n",
              "      <td>170</td>\n",
              "      <td>134</td>\n",
              "      <td>11.8</td>\n",
              "    </tr>\n",
              "    <tr>\n",
              "      <th>62</th>\n",
              "      <td>Gabon</td>\n",
              "      <td>347</td>\n",
              "      <td>98</td>\n",
              "      <td>59</td>\n",
              "      <td>8.9</td>\n",
              "    </tr>\n",
              "    <tr>\n",
              "      <th>65</th>\n",
              "      <td>Germany</td>\n",
              "      <td>346</td>\n",
              "      <td>117</td>\n",
              "      <td>175</td>\n",
              "      <td>11.3</td>\n",
              "    </tr>\n",
              "    <tr>\n",
              "      <th>98</th>\n",
              "      <td>Lithuania</td>\n",
              "      <td>343</td>\n",
              "      <td>244</td>\n",
              "      <td>56</td>\n",
              "      <td>12.9</td>\n",
              "    </tr>\n",
              "    <tr>\n",
              "      <th>135</th>\n",
              "      <td>Poland</td>\n",
              "      <td>343</td>\n",
              "      <td>215</td>\n",
              "      <td>56</td>\n",
              "      <td>10.9</td>\n",
              "    </tr>\n",
              "    <tr>\n",
              "      <th>188</th>\n",
              "      <td>Venezuela</td>\n",
              "      <td>333</td>\n",
              "      <td>100</td>\n",
              "      <td>3</td>\n",
              "      <td>7.7</td>\n",
              "    </tr>\n",
              "    <tr>\n",
              "      <th>81</th>\n",
              "      <td>Ireland</td>\n",
              "      <td>313</td>\n",
              "      <td>118</td>\n",
              "      <td>165</td>\n",
              "      <td>11.4</td>\n",
              "    </tr>\n",
              "    <tr>\n",
              "      <th>129</th>\n",
              "      <td>Palau</td>\n",
              "      <td>306</td>\n",
              "      <td>63</td>\n",
              "      <td>23</td>\n",
              "      <td>6.9</td>\n",
              "    </tr>\n",
              "    <tr>\n",
              "      <th>140</th>\n",
              "      <td>Romania</td>\n",
              "      <td>297</td>\n",
              "      <td>122</td>\n",
              "      <td>167</td>\n",
              "      <td>10.4</td>\n",
              "    </tr>\n",
              "  </tbody>\n",
              "</table>\n",
              "</div>"
            ],
            "text/plain": [
              "            country  beer_servings  ...  wine_servings  total_litres_of_pure_alcohol\n",
              "117         Namibia            376  ...              1                           6.8\n",
              "45   Czech Republic            361  ...            134                          11.8\n",
              "62            Gabon            347  ...             59                           8.9\n",
              "65          Germany            346  ...            175                          11.3\n",
              "98        Lithuania            343  ...             56                          12.9\n",
              "135          Poland            343  ...             56                          10.9\n",
              "188       Venezuela            333  ...              3                           7.7\n",
              "81          Ireland            313  ...            165                          11.4\n",
              "129           Palau            306  ...             23                           6.9\n",
              "140         Romania            297  ...            167                          10.4\n",
              "\n",
              "[10 rows x 5 columns]"
            ]
          },
          "metadata": {
            "tags": []
          },
          "execution_count": 10
        }
      ]
    },
    {
      "cell_type": "code",
      "metadata": {
        "id": "XTS3IvgdzERa",
        "colab_type": "code",
        "colab": {
          "base_uri": "https://localhost:8080/",
          "height": 269
        },
        "outputId": "75332b84-9ce3-4110-9602-8b0534a0b3dd"
      },
      "source": [
        "drinks['drinks_alcohol'] = np.where(drinks['total_litres_of_pure_alcohol'] > 9, 'High',\n",
        "                           np.where(drinks['total_litres_of_pure_alcohol'] >= 6, 'Medium',\n",
        "                           np.where(drinks['total_litres_of_pure_alcohol'] == 0, 'None', 'Low')))\n",
        "drinks.head()\n",
        "\n",
        "%matplotlib inline\n",
        "\n",
        "drinks.total_litres_of_pure_alcohol.hist()\n",
        "plt.show()"
      ],
      "execution_count": 31,
      "outputs": [
        {
          "output_type": "display_data",
          "data": {
            "image/png": "[encoded data removed]",
            "text/plain": [
              "<Figure size 432x288 with 1 Axes>"
            ]
          },
          "metadata": {
            "tags": []
          }
        }
      ]
    },
    {
      "cell_type": "markdown",
      "metadata": {
        "id": "lOqaPds9huME",
        "colab_type": "text"
      },
      "source": [
        "## Assignment - now it's your turn\n",
        "\n",
        "Pick at least one Python DS library, and using documentation/examples reproduce in this notebook something cool. It's OK if you don't fully understand it or get it 100% working, but do put in effort and look things up."
      ]
    },
    {
      "cell_type": "code",
      "metadata": {
        "id": "TGUS79cOhPWj",
        "colab_type": "code",
        "colab": {}
      },
      "source": [
        "# TODO - your code here\n",
        "# Use what we did live in lecture as an example"
      ],
      "execution_count": 0,
      "outputs": []
    },
    {
      "cell_type": "markdown",
      "metadata": {
        "id": "BT9gdS7viJZa",
        "colab_type": "text"
      },
      "source": [
        "### Assignment questions\n",
        "\n",
        "After you've worked on some code, answer the following questions in this text block:\n",
        "\n",
        "1.  Describe in a paragraph of text what you did and why, as if you were writing an email to somebody interested but nontechnical.\n",
        "\n",
        "2.  What was the most challenging part of what you did?\n",
        "\n",
        "3.  What was the most interesting thing you learned?\n",
        "\n",
        "4.  What area would you like to explore with more time?\n",
        "\n",
        "\n"
      ]
    },
    {
      "cell_type": "markdown",
      "metadata": {
        "id": "_XXg2crAipwP",
        "colab_type": "text"
      },
      "source": [
        "## Stretch goals and resources\n",
        "\n",
        "Following are *optional* things for you to take a look at. Focus on the above assignment first, and make sure to commit and push your changes to GitHub (and since this is the first assignment of the sprint, open a PR as well).\n",
        "\n",
        "- [pandas documentation](https://pandas.pydata.org/pandas-docs/stable/)\n",
        "- [scikit-learn documentation](http://scikit-learn.org/stable/documentation.html)\n",
        "- [matplotlib documentation](https://matplotlib.org/contents.html)\n",
        "- [Awesome Data Science](https://github.com/bulutyazilim/awesome-datascience) - a list of many types of DS resources\n",
        "\n",
        "Stretch goals:\n",
        "\n",
        "- Find and read blogs, walkthroughs, and other examples of people working through cool things with data science - and share with your classmates!\n",
        "- Write a blog post (Medium is a popular place to publish) introducing yourself as somebody learning data science, and talking about what you've learned already and what you're excited to learn more about."
      ]
    }
  ]
}