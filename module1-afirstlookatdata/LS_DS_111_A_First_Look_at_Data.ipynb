{
  "nbformat": 4,
  "nbformat_minor": 0,
  "metadata": {
    "colab": {
      "name": "LS_DS_111_A_First_Look_at_Data.ipynb",
      "version": "0.3.2",
      "provenance": []
    },
    "kernelspec": {
      "name": "python3",
      "display_name": "Python 3"
    }
  },
  "cells": [
    {
      "metadata": {
        "id": "Okfr_uhwhS1X",
        "colab_type": "text"
      },
      "cell_type": "markdown",
      "source": [
        "# Lambda School Data Science - A First Look at Data\n",
        "\n"
      ]
    },
    {
      "metadata": {
        "id": "9dtJETFRhnOG",
        "colab_type": "text"
      },
      "cell_type": "markdown",
      "source": [
        "## Lecture - let's explore Python DS libraries and examples!\n",
        "\n",
        "The Python Data Science ecosystem is huge. You've seen some of the big pieces - pandas, scikit-learn, matplotlib. What parts do you want to see more of?"
      ]
    },
    {
      "metadata": {
        "id": "WiBkgmPJhmhE",
        "colab_type": "code",
        "colab": {}
      },
      "cell_type": "code",
      "source": [
        "# TODO - we'll be doing this live, taking requests\n",
        "# and reproducing what it is to look up and learn things"
      ],
      "execution_count": 0,
      "outputs": []
    },
    {
      "metadata": {
        "id": "lOqaPds9huME",
        "colab_type": "text"
      },
      "cell_type": "markdown",
      "source": [
        "## Assignment - now it's your turn\n",
        "\n",
        "Pick at least one Python DS library, and using documentation/examples reproduce in this notebook something cool. It's OK if you don't fully understand it or get it 100% working, but do put in effort and look things up."
      ]
    },
    {
      "metadata": {
        "id": "TGUS79cOhPWj",
        "colab_type": "code",
        "colab": {
          "base_uri": "https://localhost:8080/",
          "height": 320
        },
        "outputId": "4a63df2b-3b61-4080-edfd-5ea7fadaf2d5"
      },
      "cell_type": "code",
      "source": [
        "# TODO - your code here\n",
        "import numpy as np;\n",
        "import matplotlib.pyplot as plt;\n",
        "\n",
        "a = np.array(0);\n",
        "b = []\n",
        "a = np.delete(a, 0)\n",
        "for _ in range(20):\n",
        "  global b\n",
        "  global a\n",
        "  b = np.append(a, np.random.randint(0, 5))\n",
        "  a=b\n",
        "print (a)\n",
        "count0=0\n",
        "count1=0\n",
        "count2=0\n",
        "count3=0\n",
        "count4=0\n",
        "for item in a:\n",
        "  global count0\n",
        "  global count1\n",
        "  global count2\n",
        "  global count3\n",
        "  global count4\n",
        "  \n",
        "  if(item == 0):\n",
        "    count0 +=1\n",
        "  elif(item == 1):\n",
        "    count1+=1\n",
        "  elif(item == 2):\n",
        "    count2+=1\n",
        "  elif(item == 3):\n",
        "    count3+=1\n",
        "  elif(item == 4):\n",
        "    count4+=1\n",
        "\n",
        "numbers=np.array([0, 1, 2, 3, 4]);\n",
        "numbersCount=np.array([count0, count1, count2, count3, count4])\n",
        "print(\"numbers: \", numbers)\n",
        "print(\"counts: \", numbersCount)\n",
        "plt.bar(numbers, numbersCount);\n",
        "# Use what we did live in lecture as an example\\\n",
        "\n",
        "# 1.I created an array of twenty objects. The objects was a range of numbers from 1 to 5. Then I counted how many times each number appeared in the array. All this was done using numpy.\n",
        "# Then I used matplotlib to plot a bar chart showing how often each number appeared in the array. The graph changes each time I run the code\n",
        "\n",
        "# 2. I couldn't find an efficient way to count how many times time an item appeard in an array, so for me, that was the most challenging part. I just made a separate variable for each number which is very inneficient.\n",
        "\n",
        "# 3. I didn't know that I could make bar charts in matplotlib\n",
        "\n",
        "# 4 I would like to know what more I could do with numpy arrays and come up with more things to do with the match functions"
      ],
      "execution_count": 3,
      "outputs": [
        {
          "output_type": "stream",
          "text": [
            "[2 4 0 2 1 0 2 0 3 4 4 3 4 0 1 3 1 4 1 2]\n",
            "numbers:  [0 1 2 3 4]\n",
            "counts:  [4 4 4 3 5]\n"
          ],
          "name": "stdout"
        },
        {
          "output_type": "display_data",
          "data": {
            "image/png": "[encoded data removed]",
            "text/plain": [
              "<Figure size 432x288 with 1 Axes>"
            ]
          },
          "metadata": {
            "tags": []
          }
        }
      ]
    },
    {
      "metadata": {
        "id": "BT9gdS7viJZa",
        "colab_type": "text"
      },
      "cell_type": "markdown",
      "source": [
        "### Assignment questions\n",
        "\n",
        "After you've worked on some code, answer the following questions in this text block:\n",
        "\n",
        "1.  Describe in a paragraph of text what you did and why, as if you were writing an email to somebody interested but nontechnical.\n",
        "\n",
        "2.  What was the most challenging part of what you did?\n",
        "\n",
        "3.  What was the most interesting thing you learned?\n",
        "\n",
        "4.  What area would you like to explore with more time?\n",
        "\n",
        "\n"
      ]
    },
    {
      "metadata": {
        "id": "_XXg2crAipwP",
        "colab_type": "text"
      },
      "cell_type": "markdown",
      "source": [
        "## Stretch goals and resources\n",
        "\n",
        "Following are *optional* things for you to take a look at. Focus on the above assignment first, and make sure to commit and push your changes to GitHub (and since this is the first assignment of the sprint, open a PR as well).\n",
        "\n",
        "- [pandas documentation](https://pandas.pydata.org/pandas-docs/stable/)\n",
        "- [scikit-learn documentation](http://scikit-learn.org/stable/documentation.html)\n",
        "- [matplotlib documentation](https://matplotlib.org/contents.html)\n",
        "- [Awesome Data Science](https://github.com/bulutyazilim/awesome-datascience) - a list of many types of DS resources\n",
        "\n",
        "Stretch goals:\n",
        "\n",
        "- Find and read blogs, walkthroughs, and other examples of people working through cool things with data science - and share with your classmates!\n",
        "- Write a blog post (Medium is a popular place to publish) introducing yourself as somebody learning data science, and talking about what you've learned already and what you're excited to learn more about."
      ]
    }
  ]
}