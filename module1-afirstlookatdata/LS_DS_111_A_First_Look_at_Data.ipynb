{
  "nbformat": 4,
  "nbformat_minor": 0,
  "metadata": {
    "colab": {
      "name": "LS_DS_111_A_First_Look_at_Data.ipynb",
      "version": "0.3.2",
      "provenance": [],
      "include_colab_link": true
    },
    "kernelspec": {
      "name": "python3",
      "display_name": "Python 3"
    }
  },
  "cells": [
    {
      "cell_type": "markdown",
      "metadata": {
        "id": "view-in-github",
        "colab_type": "text"
      },
      "source": [
        "<a href=\"https://colab.research.google.com/github/gogosean/DS-Unit-1-Sprint-1-Dealing-With-Data/blob/master/module1-afirstlookatdata/LS_DS_111_A_First_Look_at_Data.ipynb\" target=\"_parent\"><img src=\"https://colab.research.google.com/assets/colab-badge.svg\" alt=\"Open In Colab\"/></a>"
      ]
    },
    {
      "cell_type": "markdown",
      "metadata": {
        "id": "Okfr_uhwhS1X",
        "colab_type": "text"
      },
      "source": [
        "# Lambda School Data Science - A First Look at Data\n",
        "\n"
      ]
    },
    {
      "cell_type": "markdown",
      "metadata": {
        "id": "9dtJETFRhnOG",
        "colab_type": "text"
      },
      "source": [
        "## Lecture - let's explore Python DS libraries and examples!\n",
        "\n",
        "The Python Data Science ecosystem is huge. You've seen some of the big pieces - pandas, scikit-learn, matplotlib. What parts do you want to see more of?"
      ]
    },
    {
      "cell_type": "code",
      "metadata": {
        "id": "WiBkgmPJhmhE",
        "colab_type": "code",
        "colab": {}
      },
      "source": [
        "# TODO - we'll be doing this live, taking requests\n",
        "test\n",
        "# and reproducing what it is to look up and learn things"
      ],
      "execution_count": 0,
      "outputs": []
    },
    {
      "cell_type": "markdown",
      "metadata": {
        "id": "lOqaPds9huME",
        "colab_type": "text"
      },
      "source": [
        "## Assignment - now it's your turn\n",
        "\n",
        "Pick at least one Python DS library, and using documentation/examples reproduce in this notebook something cool. It's OK if you don't fully understand it or get it 100% working, but do put in effort and look things up."
      ]
    },
    {
      "cell_type": "code",
      "metadata": {
        "id": "TGUS79cOhPWj",
        "colab_type": "code",
        "outputId": "4cf9f592-7013-408b-f2fa-741c6e6b9729",
        "colab": {
          "base_uri": "https://localhost:8080/",
          "height": 286
        }
      },
      "source": [
        "# TODO - your code here\n",
        "def palindrome(string):\n",
        "    \"\"\"Check if input string (all lower-case characters) is a palindrome.\"\"\"\n",
        "    for i in range(len(string)//2):\n",
        "        if string[i] != string[len(string)-i-1]:\n",
        "            return False\n",
        "    return True\n",
        "    \n",
        "assert palindrome('') == True\n",
        "assert palindrome('a') == True\n",
        "assert palindrome('ab') == False\n",
        "assert palindrome('abba') == True\n",
        "assert palindrome('redivider') == True\n",
        "print('All passed!')\n",
        "# Use what we did live in lecture as an example\n",
        "import numpy as np\n",
        "import matplotlib\n",
        "import matplotlib.pyplot as plt\n",
        "from matplotlib.lines import Line2D\n",
        "from matplotlib.patches import Polygon\n",
        "from matplotlib.collections import PatchCollection\n",
        "import seaborn as sns\n",
        "\n",
        "def line(x,y=[0,0],mode='line'):\n",
        "    \n",
        "    '''\n",
        "    USE:    geo([2,10]) \n",
        "   \n",
        "    '''\n",
        "    sns.set_context('notebook')\n",
        "    plt.style.use('seaborn-bright')\n",
        "\n",
        "    fig = plt.figure()\n",
        "    \n",
        "    ax = fig.add_subplot(111)\n",
        "    line = Line2D(x, y)\n",
        "    ax.add_line(line)\n",
        "    ax.set_xlim(-10,10)\n",
        "    ax.set_ylim(-10,10)\n",
        "\n",
        "    plt.grid(b=True, which='major', color='grey', linestyle='--')\n",
        "    plt.grid(b=True, which='minor', color='grey', linestyle='-', alpha=0.1)\n",
        "    plt.minorticks_on()\n",
        "    plt.show()\n",
        "\n",
        "    plt.show()\n",
        "    \n",
        "def poly(xyz):\n",
        "    \n",
        "    '''\n",
        "    USE: poly([[2,8],[1,3],[4,5]])\n",
        "    '''\n",
        "    \n",
        "    fig, ax = plt.subplots()\n",
        "    patches = []\n",
        "\n",
        "    polygon = Polygon(xyz, True)\n",
        "    patches.append(polygon)\n",
        "\n",
        "    p = PatchCollection(patches, cmap=matplotlib.cm.jet, alpha=0.4)\n",
        "\n",
        "    colors = 100*np.random.rand(len(patches))\n",
        "    p.set_array(np.array(colors))\n",
        "    ax.set_xlim(-10,10)\n",
        "    ax.set_ylim(-10,10)\n",
        "\n",
        "    ax.add_collection(p)\n",
        "\n",
        "    plt.show()\n",
        "    \n",
        "poly([[2,8],[1,3],[4,5]])"
      ],
      "execution_count": 2,
      "outputs": [
        {
          "output_type": "stream",
          "text": [
            "All passed!\n"
          ],
          "name": "stdout"
        },
        {
          "output_type": "display_data",
          "data": {
            "image/png": "[encoded data removed]",
            "text/plain": [
              "<Figure size 432x288 with 1 Axes>"
            ]
          },
          "metadata": {
            "tags": []
          }
        }
      ]
    },
    {
      "cell_type": "markdown",
      "metadata": {
        "id": "BT9gdS7viJZa",
        "colab_type": "text"
      },
      "source": [
        "### Assignment questions\n",
        "\n",
        "After you've worked on some code, answer the following questions in this text block:\n",
        "\n",
        "1.  Describe in a paragraph of text what you did and why, as if you were writing an email to somebody interested but nontechnical.\n",
        "\n",
        "**This looks for a palindrome. It works by comparing the first and last letters of a word and then sees if they are equal. it then moves on to the second letter and the next to the last letter and so on and so forth. The graph creates a simple polygon and fills it. I did this to find interesting plotting examples**\n",
        "\n",
        "2.  What was the most challenging part of what you did?\n",
        "**coming up with the solution of my own, but could not.**\n",
        "\n",
        "3.  What was the most interesting thing you learned?\n",
        "**this is a simple solution so i should not have overcomplicated it**\n",
        "\n",
        "4.  What area would you like to explore with more time?\n",
        "**This uses the assert command in the first example, which is used in error trapping so i should learn more about that.**\n",
        "\n",
        "\n"
      ]
    },
    {
      "cell_type": "markdown",
      "metadata": {
        "id": "_XXg2crAipwP",
        "colab_type": "text"
      },
      "source": [
        "## Stretch goals and resources\n",
        "\n",
        "Following are *optional* things for you to take a look at. Focus on the above assignment first, and make sure to commit and push your changes to GitHub (and since this is the first assignment of the sprint, open a PR as well).\n",
        "\n",
        "- [pandas documentation](https://pandas.pydata.org/pandas-docs/stable/)\n",
        "- [scikit-learn documentation](http://scikit-learn.org/stable/documentation.html)\n",
        "- [matplotlib documentation](https://matplotlib.org/contents.html)\n",
        "- [Awesome Data Science](https://github.com/bulutyazilim/awesome-datascience) - a list of many types of DS resources\n",
        "\n",
        "Stretch goals:\n",
        "\n",
        "- Find and read blogs, walkthroughs, and other examples of people working through cool things with data science - and share with your classmates!\n",
        "- Write a blog post (Medium is a popular place to publish) introducing yourself as somebody learning data science, and talking about what you've learned already and what you're excited to learn more about."
      ]
    }
  ]
}