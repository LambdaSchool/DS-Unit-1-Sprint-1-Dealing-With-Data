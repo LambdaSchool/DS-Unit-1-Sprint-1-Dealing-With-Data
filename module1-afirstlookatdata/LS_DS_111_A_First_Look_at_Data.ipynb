{
 "cells": [
  {
   "cell_type": "markdown",
   "metadata": {
    "colab_type": "text",
    "id": "Okfr_uhwhS1X"
   },
   "source": [
    "# Lambda School Data Science - A First Look at Data\n",
    "\n"
   ]
  },
  {
   "cell_type": "markdown",
   "metadata": {
    "colab_type": "text",
    "id": "9dtJETFRhnOG"
   },
   "source": [
    "## Lecture - let's explore Python DS libraries and examples!\n",
    "\n",
    "The Python Data Science ecosystem is huge. You've seen some of the big pieces - pandas, scikit-learn, matplotlib. What parts do you want to see more of?"
   ]
  },
  {
   "cell_type": "code",
   "execution_count": 0,
   "metadata": {
    "colab": {},
    "colab_type": "code",
    "id": "WiBkgmPJhmhE"
   },
   "outputs": [],
   "source": [
    "# TODO - we'll be doing this live, taking requests\n",
    "# and reproducing what it is to look up and learn things"
   ]
  },
  {
   "cell_type": "markdown",
   "metadata": {
    "colab_type": "text",
    "id": "lOqaPds9huME"
   },
   "source": [
    "## Assignment - now it's your turn\n",
    "\n",
    "Pick at least one Python DS library, and using documentation/examples reproduce in this notebook something cool. It's OK if you don't fully understand it or get it 100% working, but do put in effort and look things up."
   ]
  },
  {
   "cell_type": "code",
   "execution_count": 32,
   "metadata": {
    "colab": {},
    "colab_type": "code",
    "id": "TGUS79cOhPWj"
   },
   "outputs": [
    {
     "name": "stdout",
     "output_type": "stream",
     "text": [
      "Epoch 1/5\n",
      "60000/60000 [==============================] - 5s 85us/step - loss: 0.1361 - acc: 0.9588\n",
      "Epoch 2/5\n",
      "60000/60000 [==============================] - 5s 76us/step - loss: 0.0422 - acc: 0.9866\n",
      "Epoch 3/5\n",
      "60000/60000 [==============================] - 5s 75us/step - loss: 0.0273 - acc: 0.9912\n",
      "Epoch 4/5\n",
      "60000/60000 [==============================] - 5s 76us/step - loss: 0.0208 - acc: 0.9935\n",
      "Epoch 5/5\n",
      "60000/60000 [==============================] - 5s 76us/step - loss: 0.0151 - acc: 0.9953\n",
      "10000/10000 [==============================] - 1s 75us/step\n"
     ]
    },
    {
     "data": {
      "text/plain": [
       "0.9916"
      ]
     },
     "execution_count": 32,
     "metadata": {},
     "output_type": "execute_result"
    }
   ],
   "source": [
    "# TODO - your code here\n",
    "# Use what we did live in lecture as an example\n",
    "\n",
    "#interesting code coming soon\n",
    "from keras import layers \n",
    "from keras import models\n",
    "from keras.datasets import mnist\n",
    "from keras.utils import to_categorical\n",
    "\n",
    "(train_images, train_labels), (test_images, test_labels) = mnist.load_data()\n",
    "train_images = train_images.reshape((60000, 28,28,1))\n",
    "train_images = train_images.astype('float32') /255\n",
    "test_images = test_images.reshape((10000, 28,28,1))\n",
    "test_images = test_images.astype('float32') /255\n",
    "\n",
    "train_labels = to_categorical(train_labels)\n",
    "test_labels = to_categorical(test_labels)\n",
    "\n",
    "model = models.Sequential()\n",
    "model.add(layers.Conv2D(32, (3,3), activation='relu',input_shape=(28,28,1)))\n",
    "model.add(layers.MaxPooling2D((2,2)))\n",
    "model.add(layers.Conv2D(64, (3,3), activation='relu'))\n",
    "#model.add(layers.MaxPooling2D((2,2)))\n",
    "#model.add(layers.Conv2D(64, (4,4), activation='relu'))\n",
    "model.add(layers.Flatten())\n",
    "model.add(layers.Dense(64, activation='relu'))\n",
    "model.add(layers.Dense(10, activation='softmax'))\n",
    "\n",
    "model.compile(optimizer = 'rmsprop', loss='categorical_crossentropy', metrics=['accuracy'])\n",
    "model.fit(train_images, train_labels, epochs=5, batch_size =64)\n",
    "\n",
    "test_loss, test_acc = model.evaluate(test_images, test_labels)\n",
    "test_acc"
   ]
  },
  {
   "cell_type": "markdown",
   "metadata": {
    "colab_type": "text",
    "id": "BT9gdS7viJZa"
   },
   "source": [
    "### Assignment questions\n",
    "\n",
    "After you've worked on some code, answer the following questions in this text block:\n",
    "\n",
    "1.  Describe in a paragraph of text what you did and why, as if you were writing an email to somebody interested but nontechnical.\n",
    "\n",
    "    I have been working through the \"Deep Learing with Python\" text book which uses keras and tensorflow. I followed instructions to create a convolutional neural net that trains and makes predictions on the mnist dataset. \n",
    "    I tried adding a extra convolutional layer. I found out that caused errors because each layer halves the output space. then i changed the size  of the windows, but this maybe had a miniscule improvement, if anything really changed at all. Changing the batch size did not seem to produce any changes either. I did remove a pooling layer and a convolutional layer and it seemed to max out at the same accuracy as the more complex models, but had better results after fewer epochs.\n",
    "\n",
    "2.  What was the most challenging part of what you did?\n",
    "    the most challenging part of what i did was figuring out that i could not add more layers to the model, learning that the model halved the output space each time. I still have a hard time picturing what is going on.\n",
    "\n",
    "3.  What was the most interesting thing you learned?\n",
    "    That reducing the amount of layers and pooling did not negatively affect the performance, but was even a little better after fewer epochs. \n",
    "\n",
    "4.  What area would you like to explore with more time?\n",
    "    I would like to hope to understand some of the math that is going on with these transformations, convolutional and pooling. \n",
    "\n"
   ]
  },
  {
   "cell_type": "markdown",
   "metadata": {
    "colab_type": "text",
    "id": "_XXg2crAipwP"
   },
   "source": [
    "## Stretch goals and resources\n",
    "\n",
    "Following are *optional* things for you to take a look at. Focus on the above assignment first, and make sure to commit and push your changes to GitHub (and since this is the first assignment of the sprint, open a PR as well).\n",
    "\n",
    "- [pandas documentation](https://pandas.pydata.org/pandas-docs/stable/)\n",
    "- [scikit-learn documentation](http://scikit-learn.org/stable/documentation.html)\n",
    "- [matplotlib documentation](https://matplotlib.org/contents.html)\n",
    "- [Awesome Data Science](https://github.com/bulutyazilim/awesome-datascience) - a list of many types of DS resources\n",
    "\n",
    "Stretch goals:\n",
    "\n",
    "- Find and read blogs, walkthroughs, and other examples of people working through cool things with data science - and share with your classmates!\n",
    "- Write a blog post (Medium is a popular place to publish) introducing yourself as somebody learning data science, and talking about what you've learned already and what you're excited to learn more about"
   ]
  }
 ],
 "metadata": {
  "colab": {
   "name": "LS DS 111 - A First Look at Data.ipynb",
   "provenance": [],
   "version": "0.3.2"
  },
  "kernelspec": {
   "display_name": "Python 3",
   "language": "python",
   "name": "python3"
  },
  "language_info": {
   "codemirror_mode": {
    "name": "ipython",
    "version": 3
   },
   "file_extension": ".py",
   "mimetype": "text/x-python",
   "name": "python",
   "nbconvert_exporter": "python",
   "pygments_lexer": "ipython3",
   "version": "3.6.5"
  }
 },
 "nbformat": 4,
 "nbformat_minor": 1
}
