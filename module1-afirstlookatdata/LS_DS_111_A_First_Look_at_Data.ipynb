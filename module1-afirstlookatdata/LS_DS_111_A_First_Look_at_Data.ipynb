{
  "nbformat": 4,
  "nbformat_minor": 0,
  "metadata": {
    "colab": {
      "name": "LS_DS_111_A_First_Look_at_Data.ipynb",
      "version": "0.3.2",
      "provenance": []
    },
    "kernelspec": {
      "name": "python3",
      "display_name": "Python 3"
    }
  },
  "cells": [
    {
      "metadata": {
        "id": "Okfr_uhwhS1X",
        "colab_type": "text"
      },
      "cell_type": "markdown",
      "source": [
        "# Lambda School Data Science - A First Look at Data\n",
        "\n"
      ]
    },
    {
      "metadata": {
        "id": "9dtJETFRhnOG",
        "colab_type": "text"
      },
      "cell_type": "markdown",
      "source": [
        "## Lecture - let's explore Python DS libraries and examples!\n",
        "\n",
        "The Python Data Science ecosystem is huge. You've seen some of the big pieces - pandas, scikit-learn, matplotlib. What parts do you want to see more of?"
      ]
    },
    {
      "metadata": {
        "id": "WiBkgmPJhmhE",
        "colab_type": "code",
        "colab": {
          "base_uri": "https://localhost:8080/",
          "height": 239
        },
        "outputId": "57fd110e-0143-4dc7-9ea8-92f7d3c04eee"
      },
      "cell_type": "code",
      "source": [
        "!pip install qutip #Install QuTiP: The Quantum Toolbox in Python"
      ],
      "execution_count": 2,
      "outputs": [
        {
          "output_type": "stream",
          "text": [
            "Collecting qutip\n",
            "\u001b[?25l  Downloading https://files.pythonhosted.org/packages/02/fa/c815ed3f060ed96a56843dfdd1b9b68dd4d9924f7e255845c71d9f62d7d1/qutip-4.3.1.tar.gz (5.5MB)\n",
            "\u001b[K    100% |████████████████████████████████| 5.5MB 6.1MB/s \n",
            "\u001b[?25hRequirement already satisfied: numpy>=1.8 in /usr/local/lib/python3.6/dist-packages (from qutip) (1.16.2)\n",
            "Requirement already satisfied: scipy>=0.15 in /usr/local/lib/python3.6/dist-packages (from qutip) (1.2.1)\n",
            "Requirement already satisfied: cython>=0.21 in /usr/local/lib/python3.6/dist-packages (from qutip) (0.29.7)\n",
            "Building wheels for collected packages: qutip\n",
            "  Building wheel for qutip (setup.py) ... \u001b[?25ldone\n",
            "\u001b[?25h  Stored in directory: /root/.cache/pip/wheels/7d/f1/a4/f5687d0ab63c65cd818a29e7826f6ad677887730290476aabc\n",
            "Successfully built qutip\n",
            "Installing collected packages: qutip\n",
            "Successfully installed qutip-4.3.1\n"
          ],
          "name": "stdout"
        }
      ]
    },
    {
      "metadata": {
        "id": "lOqaPds9huME",
        "colab_type": "text"
      },
      "cell_type": "markdown",
      "source": [
        "## Assignment - now it's your turn\n",
        "\n",
        "Pick at least one Python DS library, and using documentation/examples reproduce in this notebook something cool. It's OK if you don't fully understand it or get it 100% working, but do put in effort and look things up."
      ]
    },
    {
      "metadata": {
        "id": "TGUS79cOhPWj",
        "colab_type": "code",
        "colab": {
          "base_uri": "https://localhost:8080/",
          "height": 34
        },
        "outputId": "5aeddd3e-db16-4f69-876d-b8077216cd72"
      },
      "cell_type": "code",
      "source": [
        "%matplotlib inline\n",
        "import matplotlib.pyplot as plt\n",
        "import numpy as np\n",
        "from IPython.display import Image, display, Math, Latex\n",
        "from qutip import *\n",
        "\n",
        "q = Qobj([[0], [1]])\n",
        "\n",
        "q"
      ],
      "execution_count": 31,
      "outputs": [
        {
          "output_type": "execute_result",
          "data": {
            "text/latex": "Quantum object: dims = [[2], [1]], shape = (2, 1), type = ket\\begin{equation*}\\left(\\begin{array}{*{11}c}1.0\\\\0.0\\\\\\end{array}\\right)\\end{equation*}",
            "text/plain": [
              "Quantum object: dims = [[2], [1]], shape = (2, 1), type = ket\n",
              "Qobj data =\n",
              "[[1.]\n",
              " [0.]]"
            ]
          },
          "metadata": {
            "tags": []
          },
          "execution_count": 31
        }
      ]
    },
    {
      "metadata": {
        "id": "qA1d0OGBcvrx",
        "colab_type": "text"
      },
      "cell_type": "markdown",
      "source": [
        "\\begin{equation*}q=\\left(\\begin{array}{*{11}c}1.0\\\\0.0\\\\\\end{array}\\right)\\end{equation*}"
      ]
    },
    {
      "metadata": {
        "id": "oj1GlTeWdXDP",
        "colab_type": "text"
      },
      "cell_type": "markdown",
      "source": [
        "Maxwell's equations, for fun:\n",
        "\\begin{align}\n",
        "\\nabla \\times \\vec{\\mathbf{B}} -\\, \\frac1c\\, \\frac{\\partial\\vec{\\mathbf{E}}}{\\partial t} & = \\frac{4\\pi}{c}\\vec{\\mathbf{j}} \\\\\n",
        "\\nabla \\cdot \\vec{\\mathbf{E}} & = 4 \\pi \\rho \\\\\n",
        "\\nabla \\times \\vec{\\mathbf{E}}\\, +\\, \\frac1c\\, \\frac{\\partial\\vec{\\mathbf{B}}}{\\partial t} & = \\vec{\\mathbf{0}} \\\\\n",
        "\\nabla \\cdot \\vec{\\mathbf{B}} & = 0\n",
        "\\end{align}"
      ]
    },
    {
      "metadata": {
        "id": "8k_2dcjNbfFw",
        "colab_type": "code",
        "colab": {
          "base_uri": "https://localhost:8080/",
          "height": 34
        },
        "outputId": "23a68507-8845-487c-ffbf-9cd0ef89b60c"
      },
      "cell_type": "code",
      "source": [
        "N=4 #N = number of states\n",
        "n=2 #n = occupied state\n",
        "basis(N, n) #Creates a basis vector\n",
        "\n",
        "\n"
      ],
      "execution_count": 36,
      "outputs": [
        {
          "output_type": "execute_result",
          "data": {
            "text/latex": "Quantum object: dims = [[4], [1]], shape = (4, 1), type = ket\\begin{equation*}\\left(\\begin{array}{*{11}c}0.0\\\\0.0\\\\1.0\\\\0.0\\\\\\end{array}\\right)\\end{equation*}",
            "text/plain": [
              "Quantum object: dims = [[4], [1]], shape = (4, 1), type = ket\n",
              "Qobj data =\n",
              "[[0.]\n",
              " [0.]\n",
              " [1.]\n",
              " [0.]]"
            ]
          },
          "metadata": {
            "tags": []
          },
          "execution_count": 36
        }
      ]
    },
    {
      "metadata": {
        "id": "bcob2_2ceFht",
        "colab_type": "text"
      },
      "cell_type": "markdown",
      "source": [
        "\\begin{equation*}\\left(\\begin{array}{*{11}c}0.0\\\\0.0\\\\1.0\\\\0.0\\\\\\end{array}\\right)\\end{equation*}"
      ]
    },
    {
      "metadata": {
        "id": "-rxVjPxZfXHP",
        "colab_type": "code",
        "colab": {
          "base_uri": "https://localhost:8080/",
          "height": 34
        },
        "outputId": "c07c87e7-9504-44be-8071-2b196be8fccb"
      },
      "cell_type": "code",
      "source": [
        "#Create the Pauli matrices\n",
        "\n",
        "sx = Qobj([[0,1], [1,0]])\n",
        "sy = Qobj([[0,-1j], [1j,0]])\n",
        "sz = Qobj([[1,0], [0,-1]])\n",
        "#Or, more simply:\n",
        "sigmax()\n",
        "sigmay()\n",
        "sigmaz()"
      ],
      "execution_count": 42,
      "outputs": [
        {
          "output_type": "execute_result",
          "data": {
            "text/latex": "Quantum object: dims = [[2], [2]], shape = (2, 2), type = oper, isherm = True\\begin{equation*}\\left(\\begin{array}{*{11}c}1.0 & 0.0\\\\0.0 & -1.0\\\\\\end{array}\\right)\\end{equation*}",
            "text/plain": [
              "Quantum object: dims = [[2], [2]], shape = (2, 2), type = oper, isherm = True\n",
              "Qobj data =\n",
              "[[ 1.  0.]\n",
              " [ 0. -1.]]"
            ]
          },
          "metadata": {
            "tags": []
          },
          "execution_count": 42
        }
      ]
    },
    {
      "metadata": {
        "id": "GGJzK3ZohQ36",
        "colab_type": "code",
        "colab": {
          "base_uri": "https://localhost:8080/",
          "height": 69
        },
        "outputId": "80889671-20e1-4dcd-ed2b-246636347725"
      },
      "cell_type": "code",
      "source": [
        "#Creation and annihilation operators for the simple harmonic oscillator\n",
        "\n",
        "destroy(N=8) # N = number of fock states included in the Hilbert space\n",
        "create(N=8)"
      ],
      "execution_count": 44,
      "outputs": [
        {
          "output_type": "execute_result",
          "data": {
            "text/latex": "Quantum object: dims = [[8], [8]], shape = (8, 8), type = oper, isherm = False\\begin{equation*}\\left(\\begin{array}{*{11}c}0.0 & 0.0 & 0.0 & 0.0 & 0.0 & 0.0 & 0.0 & 0.0\\\\1.0 & 0.0 & 0.0 & 0.0 & 0.0 & 0.0 & 0.0 & 0.0\\\\0.0 & 1.414 & 0.0 & 0.0 & 0.0 & 0.0 & 0.0 & 0.0\\\\0.0 & 0.0 & 1.732 & 0.0 & 0.0 & 0.0 & 0.0 & 0.0\\\\0.0 & 0.0 & 0.0 & 2.0 & 0.0 & 0.0 & 0.0 & 0.0\\\\0.0 & 0.0 & 0.0 & 0.0 & 2.236 & 0.0 & 0.0 & 0.0\\\\0.0 & 0.0 & 0.0 & 0.0 & 0.0 & 2.449 & 0.0 & 0.0\\\\0.0 & 0.0 & 0.0 & 0.0 & 0.0 & 0.0 & 2.646 & 0.0\\\\\\end{array}\\right)\\end{equation*}",
            "text/plain": [
              "Quantum object: dims = [[8], [8]], shape = (8, 8), type = oper, isherm = False\n",
              "Qobj data =\n",
              "[[0.         0.         0.         0.         0.         0.\n",
              "  0.         0.        ]\n",
              " [1.         0.         0.         0.         0.         0.\n",
              "  0.         0.        ]\n",
              " [0.         1.41421356 0.         0.         0.         0.\n",
              "  0.         0.        ]\n",
              " [0.         0.         1.73205081 0.         0.         0.\n",
              "  0.         0.        ]\n",
              " [0.         0.         0.         2.         0.         0.\n",
              "  0.         0.        ]\n",
              " [0.         0.         0.         0.         2.23606798 0.\n",
              "  0.         0.        ]\n",
              " [0.         0.         0.         0.         0.         2.44948974\n",
              "  0.         0.        ]\n",
              " [0.         0.         0.         0.         0.         0.\n",
              "  2.64575131 0.        ]]"
            ]
          },
          "metadata": {
            "tags": []
          },
          "execution_count": 44
        }
      ]
    },
    {
      "metadata": {
        "id": "6ne8kuu8eFBN",
        "colab_type": "text"
      },
      "cell_type": "markdown",
      "source": [
        "\\begin{equation*}a^\\dagger =\\left(\\begin{array}{*{11}c}0.0 & 0.0 & 0.0 & 0.0 & 0.0 & 0.0 & 0.0 & 0.0\\\\1.0 & 0.0 & 0.0 & 0.0 & 0.0 & 0.0 & 0.0 & 0.0\\\\0.0 & 1.414 & 0.0 & 0.0 & 0.0 & 0.0 & 0.0 & 0.0\\\\0.0 & 0.0 & 1.732 & 0.0 & 0.0 & 0.0 & 0.0 & 0.0\\\\0.0 & 0.0 & 0.0 & 2.0 & 0.0 & 0.0 & 0.0 & 0.0\\\\0.0 & 0.0 & 0.0 & 0.0 & 2.236 & 0.0 & 0.0 & 0.0\\\\0.0 & 0.0 & 0.0 & 0.0 & 0.0 & 2.449 & 0.0 & 0.0\\\\0.0 & 0.0 & 0.0 & 0.0 & 0.0 & 0.0 & 2.646 & 0.0\\\\\\end{array}\\right)\\end{equation*}\n",
        " =\\begin{pmatrix}           \n",
        "0 & 0 & 0 & \\dots & 0 &\\dots \\\\\n",
        "\\sqrt{1} & 0 & 0 & \\dots & 0 & \\dots\\\\\n",
        "0 & \\sqrt{2} & 0 & \\dots & 0 & \\dots\\\\\n",
        "0 & 0 & \\sqrt{3} & \\dots & 0 & \\dots\\\\\n",
        "\\vdots & \\vdots & \\vdots & \\ddots  & \\vdots  & \\dots\\\\\n",
        "0 & 0 & 0 & \\dots & \\sqrt{n} &\\dots &  \\\\\n",
        "\\vdots & \\vdots & \\vdots & \\vdots & \\vdots  &\\ddots \\end{pmatrix}"
      ]
    },
    {
      "metadata": {
        "id": "2jPjRYYpjsdZ",
        "colab_type": "code",
        "colab": {
          "base_uri": "https://localhost:8080/",
          "height": 34
        },
        "outputId": "66add4b0-7290-427e-d8b5-1c898d7f150d"
      },
      "cell_type": "code",
      "source": [
        "N=2\n",
        "tensor(basis(N,1), basis(N,0)) #Finds the tensor product\n",
        "\n"
      ],
      "execution_count": 49,
      "outputs": [
        {
          "output_type": "execute_result",
          "data": {
            "text/latex": "Quantum object: dims = [[2], [1]], shape = (2, 1), type = ket\\begin{equation*}\\left(\\begin{array}{*{11}c}0.0\\\\1.0\\\\\\end{array}\\right)\\end{equation*}",
            "text/plain": [
              "Quantum object: dims = [[2], [1]], shape = (2, 1), type = ket\n",
              "Qobj data =\n",
              "[[0.]\n",
              " [1.]]"
            ]
          },
          "metadata": {
            "tags": []
          },
          "execution_count": 49
        }
      ]
    },
    {
      "metadata": {
        "id": "TCUU9KsnnAc-",
        "colab_type": "text"
      },
      "cell_type": "markdown",
      "source": [
        "\n",
        "\n",
        "\\begin{equation*}\\left(\\begin{array}{*{11}c}0.0\\\\1.0\\\\\\end{array}\\right)\\otimes  \\left(\\begin{array}{*{11}c}1.0\\\\0.0\\\\\\end{array}\\right) =\\left(\\begin{array}{*{11}c}0.0\\\\0.0\\\\1.0\\\\0.0\\\\\\end{array}\\right)\\end{equation*}"
      ]
    },
    {
      "metadata": {
        "id": "gAbPN6hDutx8",
        "colab_type": "code",
        "colab": {
          "base_uri": "https://localhost:8080/",
          "height": 669
        },
        "outputId": "0bdd737b-bc63-4260-b47b-3a1c879079bd"
      },
      "cell_type": "code",
      "source": [
        "Dim = 6\n",
        "rho = rand_dm(Dim) #Creates random Dim x Dim density matrix\n",
        "#rho = qeye(6)\n",
        "hinton(rho)\n",
        "plot_wigner_fock_distribution(rho);"
      ],
      "execution_count": 65,
      "outputs": [
        {
          "output_type": "display_data",
          "data": {
            "image/png": "[encoded data removed]",
            "text/plain": [
              "<Figure size 576x432 with 2 Axes>"
            ]
          },
          "metadata": {
            "tags": []
          }
        },
        {
          "output_type": "display_data",
          "data": {
            "image/png": "[encoded data removed]",
            "text/plain": [
              "<Figure size 576x288 with 2 Axes>"
            ]
          },
          "metadata": {
            "tags": []
          }
        }
      ]
    },
    {
      "metadata": {
        "id": "iOzwSS5F46S8",
        "colab_type": "code",
        "colab": {}
      },
      "cell_type": "code",
      "source": [
        "#Setup system\n",
        "\n",
        "a = destroy(N) \n",
        "H = a.dag()*a     # Simple harmonic oscillator Hamiltonian\n",
        "psi0=basis(N,1) # Initial basis state with one photon\n",
        "kappa=1.0/0.129 # Coupling rate; k=0 means no decay, \n",
        "#k=1 means linear decay\n",
        "nth= 0.063      # Temperature \n",
        "\n",
        "# Collapse operators due to thermalization\n",
        "c_ops = []\n",
        "c_ops.append(np.sqrt(kappa * (1 + nth)) * a)\n",
        "c_ops.append(np.sqrt(kappa * nth) * a.dag())\n",
        "\n"
      ],
      "execution_count": 0,
      "outputs": []
    },
    {
      "metadata": {
        "id": "TWWEToFu5PGH",
        "colab_type": "code",
        "colab": {
          "base_uri": "https://localhost:8080/",
          "height": 202
        },
        "outputId": "cb70eb04-7f9f-4d3b-99f6-0fe18640d2f7"
      },
      "cell_type": "code",
      "source": [
        "ntraj = [1,10,100,1000] # Number of Monte Carlo trajectories\n",
        "tlist = np.linspace(0,1,100)\n",
        "mc = mcsolve(H,psi0,tlist,c_ops,[H],ntraj) #Monte Carlo solver\n",
        "me = mesolve(H,psi0,tlist,c_ops, [H]) #Actual solution"
      ],
      "execution_count": 136,
      "outputs": [
        {
          "output_type": "stream",
          "text": [
            "10.0%. Run time:   0.60s. Est. time left: 00:00:00:05\n",
            "20.0%. Run time:   1.21s. Est. time left: 00:00:00:04\n",
            "30.0%. Run time:   1.80s. Est. time left: 00:00:00:04\n",
            "40.0%. Run time:   2.38s. Est. time left: 00:00:00:03\n",
            "50.0%. Run time:   2.98s. Est. time left: 00:00:00:02\n",
            "60.0%. Run time:   3.60s. Est. time left: 00:00:00:02\n",
            "70.0%. Run time:   4.19s. Est. time left: 00:00:00:01\n",
            "80.0%. Run time:   4.79s. Est. time left: 00:00:00:01\n",
            "90.0%. Run time:   5.39s. Est. time left: 00:00:00:00\n",
            "Total run time:   5.99s\n"
          ],
          "name": "stdout"
        }
      ]
    },
    {
      "metadata": {
        "id": "hLz_uhmX5UsX",
        "colab_type": "code",
        "colab": {
          "base_uri": "https://localhost:8080/",
          "height": 514
        },
        "outputId": "e8e0a9e7-ad0e-4481-ab20-3eb8aa593d65"
      },
      "cell_type": "code",
      "source": [
        "fig = plt.figure(figsize=(8, 8), frameon=False)\n",
        "plt.subplots_adjust(hspace=0.0)\n",
        "\n",
        "\n",
        "ax1 = plt.subplot(4,1,1)\n",
        "ax1.xaxis.tick_top()\n",
        "ax1.plot(tlist,mc.expect[0][0],'b',lw=2)\n",
        "ax1.plot(tlist,me.expect[0],'r--',lw=2)\n",
        "ax1.set_xticks([0,0.2,0.4,0.6])\n",
        "ax1.set_yticks([0,0.5,1])\n",
        "ax1.set_xlim([0,0.8])\n",
        "ax1.set_ylim([-0.1,1.1])\n",
        "ax1.set_ylabel(r'$\\langle P_{1}(t)\\rangle$' + \", 1 iteration\")\n",
        "\n",
        "\n",
        "\n",
        "\n",
        "ax2 = plt.subplot(4,1,2)\n",
        "ax2.plot(tlist,mc.expect[1][0],'b',lw=2)\n",
        "ax2.plot(tlist,me.expect[0],'r--',lw=2)\n",
        "ax2.set_xlim([0,0.8])\n",
        "ax2.set_yticks([0,0.5,1])\n",
        "ax2.set_ylim([-0.1,1.1])\n",
        "ax2.set_ylabel(r'$\\langle P_{1}(t)\\rangle$' + \", 10 iterations\")\n",
        "\n",
        "\n",
        "ax3 = plt.subplot(4,1,3)\n",
        "ax3.plot(tlist,mc.expect[2][0],'b',lw=2)\n",
        "ax3.plot(tlist,me.expect[0],'r--',lw=2)\n",
        "ax3.set_xlim([0,0.8])\n",
        "ax3.set_yticks([0,0.5,1])\n",
        "ax3.set_ylim([-0.1,1.1])\n",
        "ax3.set_ylabel(r'$\\langle P_{1}(t)\\rangle$' + \", 100 iterations\")\n",
        "\n",
        "\n",
        "ax4 = plt.subplot(4,1,4)\n",
        "ax4.plot(tlist,mc.expect[3][0],'b',lw=2)\n",
        "ax4.plot(tlist,me.expect[0],'r--',lw=2)\n",
        "plt.xticks([0,0.2,0.4,0.6])\n",
        "plt.yticks([0,0.5,1])\n",
        "ax4.set_xlim([0,0.8])\n",
        "ax4.set_ylim([-0.1,1.1])\n",
        "ax4.set_xlabel(r'Time (s)')\n",
        "ax4.set_ylabel(r'$\\langle P_{1}(t)\\rangle$' + \", 1,000 iterations\")\n",
        "\n",
        "xticklabels = ax2.get_xticklabels()+ax3.get_xticklabels()\n",
        "plt.setp(xticklabels, visible=False);\n",
        "\n"
      ],
      "execution_count": 137,
      "outputs": [
        {
          "output_type": "display_data",
          "data": {
            "image/png": "[encoded data removed]",
            "text/plain": [
              "<Figure size 576x576 with 4 Axes>"
            ]
          },
          "metadata": {
            "tags": []
          }
        }
      ]
    },
    {
      "metadata": {
        "id": "aC7iQktiH9jC",
        "colab_type": "code",
        "colab": {
          "base_uri": "https://localhost:8080/",
          "height": 143
        },
        "outputId": "e3d923da-6cc3-4211-d41d-65907bfb4ada"
      },
      "cell_type": "code",
      "source": [
        "#The other coding objective for today\n",
        "import pandas as pd\n",
        "\n",
        "d = {'Name':[\"Grow Mart\", \"Plant Depot\",\"Trees'R'Us\"], 'Founded': [1973, 1973, 1985],'Revenue': [265000, 302000, 123000],'Expenses': [183000, 240000, 130000]}\n",
        "df = pd.DataFrame(data=d)\n",
        "df['is_profitable'] = (df['Revenue']-df['Expenses']) > 0\n",
        "df"
      ],
      "execution_count": 134,
      "outputs": [
        {
          "output_type": "execute_result",
          "data": {
            "text/html": [
              "<div>\n",
              "<style scoped>\n",
              "    .dataframe tbody tr th:only-of-type {\n",
              "        vertical-align: middle;\n",
              "    }\n",
              "\n",
              "    .dataframe tbody tr th {\n",
              "        vertical-align: top;\n",
              "    }\n",
              "\n",
              "    .dataframe thead th {\n",
              "        text-align: right;\n",
              "    }\n",
              "</style>\n",
              "<table border=\"1\" class=\"dataframe\">\n",
              "  <thead>\n",
              "    <tr style=\"text-align: right;\">\n",
              "      <th></th>\n",
              "      <th>Name</th>\n",
              "      <th>Founded</th>\n",
              "      <th>Revenue</th>\n",
              "      <th>Expenses</th>\n",
              "      <th>is_profitable</th>\n",
              "    </tr>\n",
              "  </thead>\n",
              "  <tbody>\n",
              "    <tr>\n",
              "      <th>0</th>\n",
              "      <td>Grow Mart</td>\n",
              "      <td>1973</td>\n",
              "      <td>265000</td>\n",
              "      <td>183000</td>\n",
              "      <td>True</td>\n",
              "    </tr>\n",
              "    <tr>\n",
              "      <th>1</th>\n",
              "      <td>Plant Depot</td>\n",
              "      <td>1973</td>\n",
              "      <td>302000</td>\n",
              "      <td>240000</td>\n",
              "      <td>True</td>\n",
              "    </tr>\n",
              "    <tr>\n",
              "      <th>2</th>\n",
              "      <td>Trees'R'Us</td>\n",
              "      <td>1985</td>\n",
              "      <td>123000</td>\n",
              "      <td>130000</td>\n",
              "      <td>False</td>\n",
              "    </tr>\n",
              "  </tbody>\n",
              "</table>\n",
              "</div>"
            ],
            "text/plain": [
              "          Name  Founded  Revenue  Expenses  is_profitable\n",
              "0    Grow Mart     1973   265000    183000           True\n",
              "1  Plant Depot     1973   302000    240000           True\n",
              "2   Trees'R'Us     1985   123000    130000          False"
            ]
          },
          "metadata": {
            "tags": []
          },
          "execution_count": 134
        }
      ]
    },
    {
      "metadata": {
        "id": "TwfOu3Bk45uf",
        "colab_type": "text"
      },
      "cell_type": "markdown",
      "source": [
        ""
      ]
    },
    {
      "metadata": {
        "id": "BT9gdS7viJZa",
        "colab_type": "text"
      },
      "cell_type": "markdown",
      "source": [
        "### Assignment questions\n",
        "\n",
        "After you've worked on some code, answer the following questions in this text block:\n",
        "\n",
        "1.  Describe in a paragraph of text what you did and why, as if you were writing an email to somebody interested but nontechnical.\n",
        "\n",
        "I installed Qutip, a library for doing quantum physics in Python. I played around with its basic functions and also worked with using Latex in iPython, a markup language to display math. Finally, working off an example, I made a simulation of a photon decaying many times and showed how the averaged results matched with theory.\n",
        "\n",
        "2.  What was the most challenging part of what you did?\n",
        "\n",
        "The most challenging part was trying to understand the underlying physics.\n",
        "\n",
        "3.  What was the most interesting thing you learned?\n",
        "\n",
        "It was nice to see how easily certain problems can be tackled with this library, since my experience with Python math libraries is that they can be a little fiddly.\n",
        "\n",
        "4.  What area would you like to explore with more time?\n",
        "\n",
        "I would like to see if it is possible to do Latex markup as a direct output of code cells."
      ]
    },
    {
      "metadata": {
        "id": "_XXg2crAipwP",
        "colab_type": "text"
      },
      "cell_type": "markdown",
      "source": [
        "## Stretch goals and resources\n",
        "\n",
        "Following are *optional* things for you to take a look at. Focus on the above assignment first, and make sure to commit and push your changes to GitHub (and since this is the first assignment of the sprint, open a PR as well).\n",
        "\n",
        "- [pandas documentation](https://pandas.pydata.org/pandas-docs/stable/)\n",
        "- [scikit-learn documentation](http://scikit-learn.org/stable/documentation.html)\n",
        "- [matplotlib documentation](https://matplotlib.org/contents.html)\n",
        "- [Awesome Data Science](https://github.com/bulutyazilim/awesome-datascience) - a list of many types of DS resources\n",
        "\n",
        "Stretch goals:\n",
        "\n",
        "- Find and read blogs, walkthroughs, and other examples of people working through cool things with data science - and share with your classmates!\n",
        "- Write a blog post (Medium is a popular place to publish) introducing yourself as somebody learning data science, and talking about what you've learned already and what you're excited to learn more about."
      ]
    },
    {
      "metadata": {
        "id": "Ys2vOF6IbcEJ",
        "colab_type": "code",
        "colab": {}
      },
      "cell_type": "code",
      "source": [
        ""
      ],
      "execution_count": 0,
      "outputs": []
    }
  ]
}