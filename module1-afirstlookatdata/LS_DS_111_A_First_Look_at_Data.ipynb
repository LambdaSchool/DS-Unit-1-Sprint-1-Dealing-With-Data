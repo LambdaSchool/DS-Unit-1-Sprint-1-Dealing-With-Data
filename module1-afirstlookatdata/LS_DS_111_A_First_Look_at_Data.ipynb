{
  "nbformat": 4,
  "nbformat_minor": 0,
  "metadata": {
    "colab": {
      "name": "LS_DS_111_A_First_Look_at_Data.ipynb",
      "version": "0.3.2",
      "provenance": []
    },
    "kernelspec": {
      "name": "python3",
      "display_name": "Python 3"
    }
  },
  "cells": [
    {
      "cell_type": "markdown",
      "metadata": {
        "id": "Okfr_uhwhS1X",
        "colab_type": "text"
      },
      "source": [
        "# Lambda School Data Science - A First Look at Data\n",
        "\n"
      ]
    },
    {
      "cell_type": "markdown",
      "metadata": {
        "id": "9dtJETFRhnOG",
        "colab_type": "text"
      },
      "source": [
        "## Lecture - let's explore Python DS libraries and examples!\n",
        "\n",
        "The Python Data Science ecosystem is huge. You've seen some of the big pieces - pandas, scikit-learn, matplotlib. What parts do you want to see more of?"
      ]
    },
    {
      "cell_type": "code",
      "metadata": {
        "id": "WiBkgmPJhmhE",
        "colab_type": "code",
        "colab": {}
      },
      "source": [
        "# TODO - we'll be doing this live, taking requests\n",
        "# and reproducing what it is to look up and learn things"
      ],
      "execution_count": 0,
      "outputs": []
    },
    {
      "cell_type": "markdown",
      "metadata": {
        "id": "lOqaPds9huME",
        "colab_type": "text"
      },
      "source": [
        "## Assignment - now it's your turn\n",
        "\n",
        "Pick at least one Python DS library, and using documentation/examples reproduce in this notebook something cool. It's OK if you don't fully understand it or get it 100% working, but do put in effort and look things up."
      ]
    },
    {
      "cell_type": "code",
      "metadata": {
        "id": "ZZmGGbb6vmoc",
        "colab_type": "code",
        "colab": {
          "resources": {
            "http://localhost:8080/nbextensions/google.colab/files.js": {
              "data": "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",
              "ok": true,
              "headers": [
                [
                  "content-type",
                  "application/javascript"
                ]
              ],
              "status": 200,
              "status_text": ""
            }
          },
          "base_uri": "https://localhost:8080/",
          "height": 74
        },
        "outputId": "e5b87faf-cbb6-48f9-a7ef-419ab5bdb543"
      },
      "source": [
        "from google.colab import files\n",
        "uploaded = files.upload()\n"
      ],
      "execution_count": 33,
      "outputs": [
        {
          "output_type": "display_data",
          "data": {
            "text/html": [
              "\n",
              "     <input type=\"file\" id=\"files-e96c0660-0287-4c6b-bd6f-e2c8bdcbdcdf\" name=\"files[]\" multiple disabled />\n",
              "     <output id=\"result-e96c0660-0287-4c6b-bd6f-e2c8bdcbdcdf\">\n",
              "      Upload widget is only available when the cell has been executed in the\n",
              "      current browser session. Please rerun this cell to enable.\n",
              "      </output>\n",
              "      <script src=\"/nbextensions/google.colab/files.js\"></script> "
            ],
            "text/plain": [
              "<IPython.core.display.HTML object>"
            ]
          },
          "metadata": {
            "tags": []
          }
        },
        {
          "output_type": "stream",
          "text": [
            "Saving cars.csv to cars (1).csv\n"
          ],
          "name": "stdout"
        }
      ]
    },
    {
      "cell_type": "code",
      "metadata": {
        "id": "rQ9os2Znv4g-",
        "colab_type": "code",
        "colab": {
          "base_uri": "https://localhost:8080/",
          "height": 119
        },
        "outputId": "eee05838-5935-44e4-ebca-314fafd8a59b"
      },
      "source": [
        "import pandas as pd\n",
        "import io\n",
        "df = pd.read_csv(io.StringIO(uploaded['cars.csv'].decode('utf-8'))) \n",
        "print(df.head(5))"
      ],
      "execution_count": 41,
      "outputs": [
        {
          "output_type": "stream",
          "text": [
            "  Car;MPG;Cylinders;Displacement;Horsepower;Weight;Acceleration;Model;Origin\n",
            "0  STRING;DOUBLE;INT;DOUBLE;DOUBLE;DOUBLE;DOUBLE;...                        \n",
            "1  Chevrolet Chevelle Malibu;18.0;8;307.0;130.0;3...                        \n",
            "2  Buick Skylark 320;15.0;8;350.0;165.0;3693.;11....                        \n",
            "3  Plymouth Satellite;18.0;8;318.0;150.0;3436.;11...                        \n",
            "4  AMC Rebel SST;16.0;8;304.0;150.0;3433.;12.0;70;US                        \n"
          ],
          "name": "stdout"
        }
      ]
    },
    {
      "cell_type": "code",
      "metadata": {
        "id": "F6_0O_XdwOFx",
        "colab_type": "code",
        "colab": {
          "base_uri": "https://localhost:8080/",
          "height": 34
        },
        "outputId": "9c5d0be9-0695-4f5b-89f3-01b4c3477e86"
      },
      "source": [
        "cars1 = pd.read_csv('cars.csv') \n",
        "print (cars1.shape)"
      ],
      "execution_count": 43,
      "outputs": [
        {
          "output_type": "stream",
          "text": [
            "(407, 1)\n"
          ],
          "name": "stdout"
        }
      ]
    },
    {
      "cell_type": "code",
      "metadata": {
        "id": "6BRDRyRjwa9z",
        "colab_type": "code",
        "colab": {
          "base_uri": "https://localhost:8080/",
          "height": 221
        },
        "outputId": "9ddf7e23-c4e4-48aa-a3ec-be3d25c7a1e6"
      },
      "source": [
        "cars = pd.read_csv('cars.csv')\n",
        "print (cars.shape) \n",
        "cars.head()"
      ],
      "execution_count": 46,
      "outputs": [
        {
          "output_type": "stream",
          "text": [
            "(407, 1)\n"
          ],
          "name": "stdout"
        },
        {
          "output_type": "execute_result",
          "data": {
            "text/html": [
              "<div>\n",
              "<style scoped>\n",
              "    .dataframe tbody tr th:only-of-type {\n",
              "        vertical-align: middle;\n",
              "    }\n",
              "\n",
              "    .dataframe tbody tr th {\n",
              "        vertical-align: top;\n",
              "    }\n",
              "\n",
              "    .dataframe thead th {\n",
              "        text-align: right;\n",
              "    }\n",
              "</style>\n",
              "<table border=\"1\" class=\"dataframe\">\n",
              "  <thead>\n",
              "    <tr style=\"text-align: right;\">\n",
              "      <th></th>\n",
              "      <th>Car;MPG;Cylinders;Displacement;Horsepower;Weight;Acceleration;Model;Origin</th>\n",
              "    </tr>\n",
              "  </thead>\n",
              "  <tbody>\n",
              "    <tr>\n",
              "      <th>0</th>\n",
              "      <td>STRING;DOUBLE;INT;DOUBLE;DOUBLE;DOUBLE;DOUBLE;...</td>\n",
              "    </tr>\n",
              "    <tr>\n",
              "      <th>1</th>\n",
              "      <td>Chevrolet Chevelle Malibu;18.0;8;307.0;130.0;3...</td>\n",
              "    </tr>\n",
              "    <tr>\n",
              "      <th>2</th>\n",
              "      <td>Buick Skylark 320;15.0;8;350.0;165.0;3693.;11....</td>\n",
              "    </tr>\n",
              "    <tr>\n",
              "      <th>3</th>\n",
              "      <td>Plymouth Satellite;18.0;8;318.0;150.0;3436.;11...</td>\n",
              "    </tr>\n",
              "    <tr>\n",
              "      <th>4</th>\n",
              "      <td>AMC Rebel SST;16.0;8;304.0;150.0;3433.;12.0;70;US</td>\n",
              "    </tr>\n",
              "  </tbody>\n",
              "</table>\n",
              "</div>"
            ],
            "text/plain": [
              "  Car;MPG;Cylinders;Displacement;Horsepower;Weight;Acceleration;Model;Origin\n",
              "0  STRING;DOUBLE;INT;DOUBLE;DOUBLE;DOUBLE;DOUBLE;...                        \n",
              "1  Chevrolet Chevelle Malibu;18.0;8;307.0;130.0;3...                        \n",
              "2  Buick Skylark 320;15.0;8;350.0;165.0;3693.;11....                        \n",
              "3  Plymouth Satellite;18.0;8;318.0;150.0;3436.;11...                        \n",
              "4  AMC Rebel SST;16.0;8;304.0;150.0;3433.;12.0;70;US                        "
            ]
          },
          "metadata": {
            "tags": []
          },
          "execution_count": 46
        }
      ]
    },
    {
      "cell_type": "code",
      "metadata": {
        "id": "15RHax1YxAxT",
        "colab_type": "code",
        "colab": {
          "base_uri": "https://localhost:8080/",
          "height": 34
        },
        "outputId": "619aeca8-a3b6-4af8-a05c-9f7caceb3614"
      },
      "source": [
        "cars.columns"
      ],
      "execution_count": 76,
      "outputs": [
        {
          "output_type": "execute_result",
          "data": {
            "text/plain": [
              "Index(['Car;MPG;Cylinders;Displacement;Horsepower;Weight;Acceleration;Model;Origin'], dtype='object')"
            ]
          },
          "metadata": {
            "tags": []
          },
          "execution_count": 76
        }
      ]
    },
    {
      "cell_type": "code",
      "metadata": {
        "id": "Hjn4YPZbxJgK",
        "colab_type": "code",
        "colab": {
          "base_uri": "https://localhost:8080/",
          "height": 359
        },
        "outputId": "692c6d1c-9602-4c6e-d6c4-eaac1bccc5a6"
      },
      "source": [
        "cars.sort_values('Car;MPG;Cylinders;Displacement;Horsepower;Weight;Acceleration;Model;Origin', ascending = True).head(10)"
      ],
      "execution_count": 74,
      "outputs": [
        {
          "output_type": "execute_result",
          "data": {
            "text/html": [
              "<div>\n",
              "<style scoped>\n",
              "    .dataframe tbody tr th:only-of-type {\n",
              "        vertical-align: middle;\n",
              "    }\n",
              "\n",
              "    .dataframe tbody tr th {\n",
              "        vertical-align: top;\n",
              "    }\n",
              "\n",
              "    .dataframe thead th {\n",
              "        text-align: right;\n",
              "    }\n",
              "</style>\n",
              "<table border=\"1\" class=\"dataframe\">\n",
              "  <thead>\n",
              "    <tr style=\"text-align: right;\">\n",
              "      <th></th>\n",
              "      <th>Car;MPG;Cylinders;Displacement;Horsepower;Weight;Acceleration;Model;Origin</th>\n",
              "    </tr>\n",
              "  </thead>\n",
              "  <tbody>\n",
              "    <tr>\n",
              "      <th>104</th>\n",
              "      <td>AMC Ambassador Brougham;13.0;8;360.0;175.0;382...</td>\n",
              "    </tr>\n",
              "    <tr>\n",
              "      <th>10</th>\n",
              "      <td>AMC Ambassador DPL;15.0;8;390.0;190.0;3850.;8....</td>\n",
              "    </tr>\n",
              "    <tr>\n",
              "      <th>74</th>\n",
              "      <td>AMC Ambassador SST;17.0;8;304.0;150.0;3672.;11...</td>\n",
              "    </tr>\n",
              "    <tr>\n",
              "      <th>291</th>\n",
              "      <td>AMC Concord DL 6;20.2;6;232.0;90.00;3265.;18.2...</td>\n",
              "    </tr>\n",
              "    <tr>\n",
              "      <th>383</th>\n",
              "      <td>AMC Concord DL;23.0;4;151.0;0;3035.;20.5;82;US</td>\n",
              "    </tr>\n",
              "    <tr>\n",
              "      <th>269</th>\n",
              "      <td>AMC Concord d/l;18.1;6;258.0;120.0;3410.;15.1;...</td>\n",
              "    </tr>\n",
              "    <tr>\n",
              "      <th>265</th>\n",
              "      <td>AMC Concord;19.4;6;232.0;90.00;3210.;17.2;78;US</td>\n",
              "    </tr>\n",
              "    <tr>\n",
              "      <th>323</th>\n",
              "      <td>AMC Concord;24.3;4;151.0;90.00;3003.;20.1;80;US</td>\n",
              "    </tr>\n",
              "    <tr>\n",
              "      <th>115</th>\n",
              "      <td>AMC Gremlin;18.0;6;232.0;100.0;2789.;15.0;73;US</td>\n",
              "    </tr>\n",
              "    <tr>\n",
              "      <th>41</th>\n",
              "      <td>AMC Gremlin;19.0;6;232.0;100.0;2634.;13.0;71;US</td>\n",
              "    </tr>\n",
              "  </tbody>\n",
              "</table>\n",
              "</div>"
            ],
            "text/plain": [
              "    Car;MPG;Cylinders;Displacement;Horsepower;Weight;Acceleration;Model;Origin\n",
              "104  AMC Ambassador Brougham;13.0;8;360.0;175.0;382...                        \n",
              "10   AMC Ambassador DPL;15.0;8;390.0;190.0;3850.;8....                        \n",
              "74   AMC Ambassador SST;17.0;8;304.0;150.0;3672.;11...                        \n",
              "291  AMC Concord DL 6;20.2;6;232.0;90.00;3265.;18.2...                        \n",
              "383     AMC Concord DL;23.0;4;151.0;0;3035.;20.5;82;US                        \n",
              "269  AMC Concord d/l;18.1;6;258.0;120.0;3410.;15.1;...                        \n",
              "265    AMC Concord;19.4;6;232.0;90.00;3210.;17.2;78;US                        \n",
              "323    AMC Concord;24.3;4;151.0;90.00;3003.;20.1;80;US                        \n",
              "115    AMC Gremlin;18.0;6;232.0;100.0;2789.;15.0;73;US                        \n",
              "41     AMC Gremlin;19.0;6;232.0;100.0;2634.;13.0;71;US                        "
            ]
          },
          "metadata": {
            "tags": []
          },
          "execution_count": 74
        }
      ]
    },
    {
      "cell_type": "code",
      "metadata": {
        "id": "TKPfoR1c1aXP",
        "colab_type": "code",
        "colab": {
          "base_uri": "https://localhost:8080/",
          "height": 163
        },
        "outputId": "a6043d03-f4f3-4fcd-e9a9-404535e900ff"
      },
      "source": [
        "cars.nlargest(10)"
      ],
      "execution_count": 75,
      "outputs": [
        {
          "output_type": "error",
          "ename": "TypeError",
          "evalue": "ignored",
          "traceback": [
            "\u001b[0;31m---------------------------------------------------------------------------\u001b[0m",
            "\u001b[0;31mTypeError\u001b[0m                                 Traceback (most recent call last)",
            "\u001b[0;32m<ipython-input-75-55cb9757be74>\u001b[0m in \u001b[0;36m<module>\u001b[0;34m()\u001b[0m\n\u001b[0;32m----> 1\u001b[0;31m \u001b[0mcars\u001b[0m\u001b[0;34m.\u001b[0m\u001b[0mnlargest\u001b[0m\u001b[0;34m(\u001b[0m\u001b[0;36m10\u001b[0m\u001b[0;34m)\u001b[0m\u001b[0;34m\u001b[0m\u001b[0;34m\u001b[0m\u001b[0m\n\u001b[0m",
            "\u001b[0;31mTypeError\u001b[0m: nlargest() missing 1 required positional argument: 'columns'"
          ]
        }
      ]
    },
    {
      "cell_type": "code",
      "metadata": {
        "id": "CrOSYoUM2v7y",
        "colab_type": "code",
        "colab": {
          "base_uri": "https://localhost:8080/",
          "height": 282
        },
        "outputId": "d49ec23e-8f46-4b5b-b6e0-9284cf55e97c"
      },
      "source": [
        "cars.Car;MPG;Cylinders;Displacement;Horsepower;Weight;Acceleration;Model;Origin.hist()"
      ],
      "execution_count": 78,
      "outputs": [
        {
          "output_type": "error",
          "ename": "AttributeError",
          "evalue": "ignored",
          "traceback": [
            "\u001b[0;31m---------------------------------------------------------------------------\u001b[0m",
            "\u001b[0;31mAttributeError\u001b[0m                            Traceback (most recent call last)",
            "\u001b[0;32m<ipython-input-78-1cff5e3fcb57>\u001b[0m in \u001b[0;36m<module>\u001b[0;34m()\u001b[0m\n\u001b[0;32m----> 1\u001b[0;31m \u001b[0mcars\u001b[0m\u001b[0;34m.\u001b[0m\u001b[0mCar\u001b[0m\u001b[0;34m;\u001b[0m\u001b[0mMPG\u001b[0m\u001b[0;34m;\u001b[0m\u001b[0mCylinders\u001b[0m\u001b[0;34m;\u001b[0m\u001b[0mDisplacement\u001b[0m\u001b[0;34m;\u001b[0m\u001b[0mHorsepower\u001b[0m\u001b[0;34m;\u001b[0m\u001b[0mWeight\u001b[0m\u001b[0;34m;\u001b[0m\u001b[0mAcceleration\u001b[0m\u001b[0;34m;\u001b[0m\u001b[0mModel\u001b[0m\u001b[0;34m;\u001b[0m\u001b[0mOrigin\u001b[0m\u001b[0;34m.\u001b[0m\u001b[0mhist\u001b[0m\u001b[0;34m(\u001b[0m\u001b[0;34m)\u001b[0m\u001b[0;34m\u001b[0m\u001b[0;34m\u001b[0m\u001b[0m\n\u001b[0m",
            "\u001b[0;32m/usr/local/lib/python3.6/dist-packages/pandas/core/generic.py\u001b[0m in \u001b[0;36m__getattr__\u001b[0;34m(self, name)\u001b[0m\n\u001b[1;32m   5065\u001b[0m             \u001b[0;32mif\u001b[0m \u001b[0mself\u001b[0m\u001b[0;34m.\u001b[0m\u001b[0m_info_axis\u001b[0m\u001b[0;34m.\u001b[0m\u001b[0m_can_hold_identifiers_and_holds_name\u001b[0m\u001b[0;34m(\u001b[0m\u001b[0mname\u001b[0m\u001b[0;34m)\u001b[0m\u001b[0;34m:\u001b[0m\u001b[0;34m\u001b[0m\u001b[0;34m\u001b[0m\u001b[0m\n\u001b[1;32m   5066\u001b[0m                 \u001b[0;32mreturn\u001b[0m \u001b[0mself\u001b[0m\u001b[0;34m[\u001b[0m\u001b[0mname\u001b[0m\u001b[0;34m]\u001b[0m\u001b[0;34m\u001b[0m\u001b[0;34m\u001b[0m\u001b[0m\n\u001b[0;32m-> 5067\u001b[0;31m             \u001b[0;32mreturn\u001b[0m \u001b[0mobject\u001b[0m\u001b[0;34m.\u001b[0m\u001b[0m__getattribute__\u001b[0m\u001b[0;34m(\u001b[0m\u001b[0mself\u001b[0m\u001b[0;34m,\u001b[0m \u001b[0mname\u001b[0m\u001b[0;34m)\u001b[0m\u001b[0;34m\u001b[0m\u001b[0;34m\u001b[0m\u001b[0m\n\u001b[0m\u001b[1;32m   5068\u001b[0m \u001b[0;34m\u001b[0m\u001b[0m\n\u001b[1;32m   5069\u001b[0m     \u001b[0;32mdef\u001b[0m \u001b[0m__setattr__\u001b[0m\u001b[0;34m(\u001b[0m\u001b[0mself\u001b[0m\u001b[0;34m,\u001b[0m \u001b[0mname\u001b[0m\u001b[0;34m,\u001b[0m \u001b[0mvalue\u001b[0m\u001b[0;34m)\u001b[0m\u001b[0;34m:\u001b[0m\u001b[0;34m\u001b[0m\u001b[0;34m\u001b[0m\u001b[0m\n",
            "\u001b[0;31mAttributeError\u001b[0m: 'DataFrame' object has no attribute 'Car'"
          ]
        }
      ]
    },
    {
      "cell_type": "markdown",
      "metadata": {
        "id": "Ah_5Z4nX3R7x",
        "colab_type": "text"
      },
      "source": [
        "Dataset #2"
      ]
    },
    {
      "cell_type": "code",
      "metadata": {
        "id": "oQG4wtxa2v1l",
        "colab_type": "code",
        "colab": {
          "base_uri": "https://localhost:8080/",
          "height": 204
        },
        "outputId": "08c6522f-74b8-4584-9bc1-8cf3c2672f91"
      },
      "source": [
        "import numpy as np\n",
        "import pandas as pd\n",
        "import seaborn as sns\n",
        "import matplotlib.pyplot as plt\n",
        "%matplotlib inline\n",
        "!wget https://raw.githubusercontent.com/fivethirtyeight/data/master/us-weather-history/KCLT.csv"
      ],
      "execution_count": 83,
      "outputs": [
        {
          "output_type": "stream",
          "text": [
            "--2019-07-11 02:34:30--  https://raw.githubusercontent.com/fivethirtyeight/data/master/us-weather-history/KCLT.csv\n",
            "Resolving raw.githubusercontent.com (raw.githubusercontent.com)... 151.101.0.133, 151.101.64.133, 151.101.128.133, ...\n",
            "Connecting to raw.githubusercontent.com (raw.githubusercontent.com)|151.101.0.133|:443... connected.\n",
            "HTTP request sent, awaiting response... 200 OK\n",
            "Length: 20629 (20K) [text/plain]\n",
            "Saving to: ‘KCLT.csv’\n",
            "\n",
            "\rKCLT.csv              0%[                    ]       0  --.-KB/s               \rKCLT.csv            100%[===================>]  20.15K  --.-KB/s    in 0.06s   \n",
            "\n",
            "2019-07-11 02:34:30 (347 KB/s) - ‘KCLT.csv’ saved [20629/20629]\n",
            "\n"
          ],
          "name": "stdout"
        }
      ]
    },
    {
      "cell_type": "code",
      "metadata": {
        "id": "NhT2Wa6-4fsp",
        "colab_type": "code",
        "colab": {
          "base_uri": "https://localhost:8080/",
          "height": 326
        },
        "outputId": "494aeec3-509a-42f3-92d7-b4e28f89f5cb"
      },
      "source": [
        "weather = pd.read_csv('https://raw.githubusercontent.com/fivethirtyeight/data/master/us-weather-history/KCLT.csv')\n",
        "print (weather.shape)\n",
        "weather.head()"
      ],
      "execution_count": 87,
      "outputs": [
        {
          "output_type": "stream",
          "text": [
            "(365, 13)\n"
          ],
          "name": "stdout"
        },
        {
          "output_type": "execute_result",
          "data": {
            "text/html": [
              "<div>\n",
              "<style scoped>\n",
              "    .dataframe tbody tr th:only-of-type {\n",
              "        vertical-align: middle;\n",
              "    }\n",
              "\n",
              "    .dataframe tbody tr th {\n",
              "        vertical-align: top;\n",
              "    }\n",
              "\n",
              "    .dataframe thead th {\n",
              "        text-align: right;\n",
              "    }\n",
              "</style>\n",
              "<table border=\"1\" class=\"dataframe\">\n",
              "  <thead>\n",
              "    <tr style=\"text-align: right;\">\n",
              "      <th></th>\n",
              "      <th>date</th>\n",
              "      <th>actual_mean_temp</th>\n",
              "      <th>actual_min_temp</th>\n",
              "      <th>actual_max_temp</th>\n",
              "      <th>average_min_temp</th>\n",
              "      <th>average_max_temp</th>\n",
              "      <th>record_min_temp</th>\n",
              "      <th>record_max_temp</th>\n",
              "      <th>record_min_temp_year</th>\n",
              "      <th>record_max_temp_year</th>\n",
              "      <th>actual_precipitation</th>\n",
              "      <th>average_precipitation</th>\n",
              "      <th>record_precipitation</th>\n",
              "    </tr>\n",
              "  </thead>\n",
              "  <tbody>\n",
              "    <tr>\n",
              "      <th>0</th>\n",
              "      <td>2014-7-1</td>\n",
              "      <td>81</td>\n",
              "      <td>70</td>\n",
              "      <td>91</td>\n",
              "      <td>67</td>\n",
              "      <td>89</td>\n",
              "      <td>56</td>\n",
              "      <td>104</td>\n",
              "      <td>1919</td>\n",
              "      <td>2012</td>\n",
              "      <td>0.00</td>\n",
              "      <td>0.10</td>\n",
              "      <td>5.91</td>\n",
              "    </tr>\n",
              "    <tr>\n",
              "      <th>1</th>\n",
              "      <td>2014-7-2</td>\n",
              "      <td>85</td>\n",
              "      <td>74</td>\n",
              "      <td>95</td>\n",
              "      <td>68</td>\n",
              "      <td>89</td>\n",
              "      <td>56</td>\n",
              "      <td>101</td>\n",
              "      <td>2008</td>\n",
              "      <td>1931</td>\n",
              "      <td>0.00</td>\n",
              "      <td>0.10</td>\n",
              "      <td>1.53</td>\n",
              "    </tr>\n",
              "    <tr>\n",
              "      <th>2</th>\n",
              "      <td>2014-7-3</td>\n",
              "      <td>82</td>\n",
              "      <td>71</td>\n",
              "      <td>93</td>\n",
              "      <td>68</td>\n",
              "      <td>89</td>\n",
              "      <td>56</td>\n",
              "      <td>99</td>\n",
              "      <td>2010</td>\n",
              "      <td>1931</td>\n",
              "      <td>0.14</td>\n",
              "      <td>0.11</td>\n",
              "      <td>2.50</td>\n",
              "    </tr>\n",
              "    <tr>\n",
              "      <th>3</th>\n",
              "      <td>2014-7-4</td>\n",
              "      <td>75</td>\n",
              "      <td>64</td>\n",
              "      <td>86</td>\n",
              "      <td>68</td>\n",
              "      <td>89</td>\n",
              "      <td>55</td>\n",
              "      <td>99</td>\n",
              "      <td>1933</td>\n",
              "      <td>1955</td>\n",
              "      <td>0.00</td>\n",
              "      <td>0.10</td>\n",
              "      <td>2.63</td>\n",
              "    </tr>\n",
              "    <tr>\n",
              "      <th>4</th>\n",
              "      <td>2014-7-5</td>\n",
              "      <td>72</td>\n",
              "      <td>60</td>\n",
              "      <td>84</td>\n",
              "      <td>68</td>\n",
              "      <td>89</td>\n",
              "      <td>57</td>\n",
              "      <td>100</td>\n",
              "      <td>1967</td>\n",
              "      <td>1954</td>\n",
              "      <td>0.00</td>\n",
              "      <td>0.10</td>\n",
              "      <td>1.65</td>\n",
              "    </tr>\n",
              "  </tbody>\n",
              "</table>\n",
              "</div>"
            ],
            "text/plain": [
              "       date  actual_mean_temp  ...  average_precipitation  record_precipitation\n",
              "0  2014-7-1                81  ...                   0.10                  5.91\n",
              "1  2014-7-2                85  ...                   0.10                  1.53\n",
              "2  2014-7-3                82  ...                   0.11                  2.50\n",
              "3  2014-7-4                75  ...                   0.10                  2.63\n",
              "4  2014-7-5                72  ...                   0.10                  1.65\n",
              "\n",
              "[5 rows x 13 columns]"
            ]
          },
          "metadata": {
            "tags": []
          },
          "execution_count": 87
        }
      ]
    },
    {
      "cell_type": "code",
      "metadata": {
        "id": "3ufX7qHz5FqA",
        "colab_type": "code",
        "colab": {
          "base_uri": "https://localhost:8080/",
          "height": 119
        },
        "outputId": "4442c7bd-1aa1-4920-be8a-450ec54462ea"
      },
      "source": [
        "weather.columns"
      ],
      "execution_count": 88,
      "outputs": [
        {
          "output_type": "execute_result",
          "data": {
            "text/plain": [
              "Index(['date', 'actual_mean_temp', 'actual_min_temp', 'actual_max_temp',\n",
              "       'average_min_temp', 'average_max_temp', 'record_min_temp',\n",
              "       'record_max_temp', 'record_min_temp_year', 'record_max_temp_year',\n",
              "       'actual_precipitation', 'average_precipitation',\n",
              "       'record_precipitation'],\n",
              "      dtype='object')"
            ]
          },
          "metadata": {
            "tags": []
          },
          "execution_count": 88
        }
      ]
    },
    {
      "cell_type": "code",
      "metadata": {
        "id": "ePest-Oh5JTS",
        "colab_type": "code",
        "colab": {
          "base_uri": "https://localhost:8080/",
          "height": 549
        },
        "outputId": "f214e856-7e1e-4529-b2da-dcade76f10d7"
      },
      "source": [
        "weather.sort_values('actual_min_temp', ascending = False).head(10)"
      ],
      "execution_count": 91,
      "outputs": [
        {
          "output_type": "execute_result",
          "data": {
            "text/html": [
              "<div>\n",
              "<style scoped>\n",
              "    .dataframe tbody tr th:only-of-type {\n",
              "        vertical-align: middle;\n",
              "    }\n",
              "\n",
              "    .dataframe tbody tr th {\n",
              "        vertical-align: top;\n",
              "    }\n",
              "\n",
              "    .dataframe thead th {\n",
              "        text-align: right;\n",
              "    }\n",
              "</style>\n",
              "<table border=\"1\" class=\"dataframe\">\n",
              "  <thead>\n",
              "    <tr style=\"text-align: right;\">\n",
              "      <th></th>\n",
              "      <th>date</th>\n",
              "      <th>actual_mean_temp</th>\n",
              "      <th>actual_min_temp</th>\n",
              "      <th>actual_max_temp</th>\n",
              "      <th>average_min_temp</th>\n",
              "      <th>average_max_temp</th>\n",
              "      <th>record_min_temp</th>\n",
              "      <th>record_max_temp</th>\n",
              "      <th>record_min_temp_year</th>\n",
              "      <th>record_max_temp_year</th>\n",
              "      <th>actual_precipitation</th>\n",
              "      <th>average_precipitation</th>\n",
              "      <th>record_precipitation</th>\n",
              "    </tr>\n",
              "  </thead>\n",
              "  <tbody>\n",
              "    <tr>\n",
              "      <th>358</th>\n",
              "      <td>2015-6-24</td>\n",
              "      <td>88</td>\n",
              "      <td>75</td>\n",
              "      <td>100</td>\n",
              "      <td>66</td>\n",
              "      <td>88</td>\n",
              "      <td>55</td>\n",
              "      <td>102</td>\n",
              "      <td>1972</td>\n",
              "      <td>1930</td>\n",
              "      <td>0.00</td>\n",
              "      <td>0.12</td>\n",
              "      <td>1.25</td>\n",
              "    </tr>\n",
              "    <tr>\n",
              "      <th>13</th>\n",
              "      <td>2014-7-14</td>\n",
              "      <td>85</td>\n",
              "      <td>74</td>\n",
              "      <td>96</td>\n",
              "      <td>68</td>\n",
              "      <td>89</td>\n",
              "      <td>59</td>\n",
              "      <td>102</td>\n",
              "      <td>2007</td>\n",
              "      <td>1954</td>\n",
              "      <td>0.00</td>\n",
              "      <td>0.12</td>\n",
              "      <td>2.15</td>\n",
              "    </tr>\n",
              "    <tr>\n",
              "      <th>359</th>\n",
              "      <td>2015-6-25</td>\n",
              "      <td>86</td>\n",
              "      <td>74</td>\n",
              "      <td>98</td>\n",
              "      <td>67</td>\n",
              "      <td>88</td>\n",
              "      <td>53</td>\n",
              "      <td>102</td>\n",
              "      <td>1889</td>\n",
              "      <td>1914</td>\n",
              "      <td>0.00</td>\n",
              "      <td>0.11</td>\n",
              "      <td>2.76</td>\n",
              "    </tr>\n",
              "    <tr>\n",
              "      <th>352</th>\n",
              "      <td>2015-6-18</td>\n",
              "      <td>87</td>\n",
              "      <td>74</td>\n",
              "      <td>100</td>\n",
              "      <td>65</td>\n",
              "      <td>87</td>\n",
              "      <td>52</td>\n",
              "      <td>100</td>\n",
              "      <td>1961</td>\n",
              "      <td>2015</td>\n",
              "      <td>0.00</td>\n",
              "      <td>0.13</td>\n",
              "      <td>1.86</td>\n",
              "    </tr>\n",
              "    <tr>\n",
              "      <th>61</th>\n",
              "      <td>2014-8-31</td>\n",
              "      <td>83</td>\n",
              "      <td>74</td>\n",
              "      <td>91</td>\n",
              "      <td>65</td>\n",
              "      <td>86</td>\n",
              "      <td>53</td>\n",
              "      <td>99</td>\n",
              "      <td>1946</td>\n",
              "      <td>1957</td>\n",
              "      <td>0.06</td>\n",
              "      <td>0.12</td>\n",
              "      <td>3.40</td>\n",
              "    </tr>\n",
              "    <tr>\n",
              "      <th>1</th>\n",
              "      <td>2014-7-2</td>\n",
              "      <td>85</td>\n",
              "      <td>74</td>\n",
              "      <td>95</td>\n",
              "      <td>68</td>\n",
              "      <td>89</td>\n",
              "      <td>56</td>\n",
              "      <td>101</td>\n",
              "      <td>2008</td>\n",
              "      <td>1931</td>\n",
              "      <td>0.00</td>\n",
              "      <td>0.10</td>\n",
              "      <td>1.53</td>\n",
              "    </tr>\n",
              "    <tr>\n",
              "      <th>38</th>\n",
              "      <td>2014-8-8</td>\n",
              "      <td>77</td>\n",
              "      <td>73</td>\n",
              "      <td>81</td>\n",
              "      <td>68</td>\n",
              "      <td>88</td>\n",
              "      <td>55</td>\n",
              "      <td>102</td>\n",
              "      <td>2004</td>\n",
              "      <td>2007</td>\n",
              "      <td>0.00</td>\n",
              "      <td>0.13</td>\n",
              "      <td>1.37</td>\n",
              "    </tr>\n",
              "    <tr>\n",
              "      <th>351</th>\n",
              "      <td>2015-6-17</td>\n",
              "      <td>86</td>\n",
              "      <td>73</td>\n",
              "      <td>99</td>\n",
              "      <td>65</td>\n",
              "      <td>87</td>\n",
              "      <td>53</td>\n",
              "      <td>100</td>\n",
              "      <td>1917</td>\n",
              "      <td>1943</td>\n",
              "      <td>0.00</td>\n",
              "      <td>0.12</td>\n",
              "      <td>2.76</td>\n",
              "    </tr>\n",
              "    <tr>\n",
              "      <th>53</th>\n",
              "      <td>2014-8-23</td>\n",
              "      <td>82</td>\n",
              "      <td>73</td>\n",
              "      <td>91</td>\n",
              "      <td>67</td>\n",
              "      <td>87</td>\n",
              "      <td>53</td>\n",
              "      <td>103</td>\n",
              "      <td>1930</td>\n",
              "      <td>1983</td>\n",
              "      <td>0.08</td>\n",
              "      <td>0.13</td>\n",
              "      <td>2.74</td>\n",
              "    </tr>\n",
              "    <tr>\n",
              "      <th>357</th>\n",
              "      <td>2015-6-23</td>\n",
              "      <td>87</td>\n",
              "      <td>73</td>\n",
              "      <td>100</td>\n",
              "      <td>66</td>\n",
              "      <td>88</td>\n",
              "      <td>53</td>\n",
              "      <td>100</td>\n",
              "      <td>1947</td>\n",
              "      <td>2015</td>\n",
              "      <td>0.00</td>\n",
              "      <td>0.11</td>\n",
              "      <td>1.82</td>\n",
              "    </tr>\n",
              "  </tbody>\n",
              "</table>\n",
              "</div>"
            ],
            "text/plain": [
              "          date  actual_mean_temp  ...  average_precipitation  record_precipitation\n",
              "358  2015-6-24                88  ...                   0.12                  1.25\n",
              "13   2014-7-14                85  ...                   0.12                  2.15\n",
              "359  2015-6-25                86  ...                   0.11                  2.76\n",
              "352  2015-6-18                87  ...                   0.13                  1.86\n",
              "61   2014-8-31                83  ...                   0.12                  3.40\n",
              "1     2014-7-2                85  ...                   0.10                  1.53\n",
              "38    2014-8-8                77  ...                   0.13                  1.37\n",
              "351  2015-6-17                86  ...                   0.12                  2.76\n",
              "53   2014-8-23                82  ...                   0.13                  2.74\n",
              "357  2015-6-23                87  ...                   0.11                  1.82\n",
              "\n",
              "[10 rows x 13 columns]"
            ]
          },
          "metadata": {
            "tags": []
          },
          "execution_count": 91
        }
      ]
    },
    {
      "cell_type": "code",
      "metadata": {
        "id": "9BkrCG3Z5l7z",
        "colab_type": "code",
        "colab": {
          "base_uri": "https://localhost:8080/",
          "height": 549
        },
        "outputId": "18ee4edf-349b-41df-dd52-f8aa000634a4"
      },
      "source": [
        "weather.nlargest(10,'actual_mean_temp')"
      ],
      "execution_count": 93,
      "outputs": [
        {
          "output_type": "execute_result",
          "data": {
            "text/html": [
              "<div>\n",
              "<style scoped>\n",
              "    .dataframe tbody tr th:only-of-type {\n",
              "        vertical-align: middle;\n",
              "    }\n",
              "\n",
              "    .dataframe tbody tr th {\n",
              "        vertical-align: top;\n",
              "    }\n",
              "\n",
              "    .dataframe thead th {\n",
              "        text-align: right;\n",
              "    }\n",
              "</style>\n",
              "<table border=\"1\" class=\"dataframe\">\n",
              "  <thead>\n",
              "    <tr style=\"text-align: right;\">\n",
              "      <th></th>\n",
              "      <th>date</th>\n",
              "      <th>actual_mean_temp</th>\n",
              "      <th>actual_min_temp</th>\n",
              "      <th>actual_max_temp</th>\n",
              "      <th>average_min_temp</th>\n",
              "      <th>average_max_temp</th>\n",
              "      <th>record_min_temp</th>\n",
              "      <th>record_max_temp</th>\n",
              "      <th>record_min_temp_year</th>\n",
              "      <th>record_max_temp_year</th>\n",
              "      <th>actual_precipitation</th>\n",
              "      <th>average_precipitation</th>\n",
              "      <th>record_precipitation</th>\n",
              "    </tr>\n",
              "  </thead>\n",
              "  <tbody>\n",
              "    <tr>\n",
              "      <th>358</th>\n",
              "      <td>2015-6-24</td>\n",
              "      <td>88</td>\n",
              "      <td>75</td>\n",
              "      <td>100</td>\n",
              "      <td>66</td>\n",
              "      <td>88</td>\n",
              "      <td>55</td>\n",
              "      <td>102</td>\n",
              "      <td>1972</td>\n",
              "      <td>1930</td>\n",
              "      <td>0.00</td>\n",
              "      <td>0.12</td>\n",
              "      <td>1.25</td>\n",
              "    </tr>\n",
              "    <tr>\n",
              "      <th>352</th>\n",
              "      <td>2015-6-18</td>\n",
              "      <td>87</td>\n",
              "      <td>74</td>\n",
              "      <td>100</td>\n",
              "      <td>65</td>\n",
              "      <td>87</td>\n",
              "      <td>52</td>\n",
              "      <td>100</td>\n",
              "      <td>1961</td>\n",
              "      <td>2015</td>\n",
              "      <td>0.00</td>\n",
              "      <td>0.13</td>\n",
              "      <td>1.86</td>\n",
              "    </tr>\n",
              "    <tr>\n",
              "      <th>357</th>\n",
              "      <td>2015-6-23</td>\n",
              "      <td>87</td>\n",
              "      <td>73</td>\n",
              "      <td>100</td>\n",
              "      <td>66</td>\n",
              "      <td>88</td>\n",
              "      <td>53</td>\n",
              "      <td>100</td>\n",
              "      <td>1947</td>\n",
              "      <td>2015</td>\n",
              "      <td>0.00</td>\n",
              "      <td>0.11</td>\n",
              "      <td>1.82</td>\n",
              "    </tr>\n",
              "    <tr>\n",
              "      <th>351</th>\n",
              "      <td>2015-6-17</td>\n",
              "      <td>86</td>\n",
              "      <td>73</td>\n",
              "      <td>99</td>\n",
              "      <td>65</td>\n",
              "      <td>87</td>\n",
              "      <td>53</td>\n",
              "      <td>100</td>\n",
              "      <td>1917</td>\n",
              "      <td>1943</td>\n",
              "      <td>0.00</td>\n",
              "      <td>0.12</td>\n",
              "      <td>2.76</td>\n",
              "    </tr>\n",
              "    <tr>\n",
              "      <th>359</th>\n",
              "      <td>2015-6-25</td>\n",
              "      <td>86</td>\n",
              "      <td>74</td>\n",
              "      <td>98</td>\n",
              "      <td>67</td>\n",
              "      <td>88</td>\n",
              "      <td>53</td>\n",
              "      <td>102</td>\n",
              "      <td>1889</td>\n",
              "      <td>1914</td>\n",
              "      <td>0.00</td>\n",
              "      <td>0.11</td>\n",
              "      <td>2.76</td>\n",
              "    </tr>\n",
              "    <tr>\n",
              "      <th>1</th>\n",
              "      <td>2014-7-2</td>\n",
              "      <td>85</td>\n",
              "      <td>74</td>\n",
              "      <td>95</td>\n",
              "      <td>68</td>\n",
              "      <td>89</td>\n",
              "      <td>56</td>\n",
              "      <td>101</td>\n",
              "      <td>2008</td>\n",
              "      <td>1931</td>\n",
              "      <td>0.00</td>\n",
              "      <td>0.10</td>\n",
              "      <td>1.53</td>\n",
              "    </tr>\n",
              "    <tr>\n",
              "      <th>13</th>\n",
              "      <td>2014-7-14</td>\n",
              "      <td>85</td>\n",
              "      <td>74</td>\n",
              "      <td>96</td>\n",
              "      <td>68</td>\n",
              "      <td>89</td>\n",
              "      <td>59</td>\n",
              "      <td>102</td>\n",
              "      <td>2007</td>\n",
              "      <td>1954</td>\n",
              "      <td>0.00</td>\n",
              "      <td>0.12</td>\n",
              "      <td>2.15</td>\n",
              "    </tr>\n",
              "    <tr>\n",
              "      <th>360</th>\n",
              "      <td>2015-6-26</td>\n",
              "      <td>85</td>\n",
              "      <td>70</td>\n",
              "      <td>100</td>\n",
              "      <td>67</td>\n",
              "      <td>88</td>\n",
              "      <td>55</td>\n",
              "      <td>102</td>\n",
              "      <td>1979</td>\n",
              "      <td>1952</td>\n",
              "      <td>1.21</td>\n",
              "      <td>0.11</td>\n",
              "      <td>1.98</td>\n",
              "    </tr>\n",
              "    <tr>\n",
              "      <th>349</th>\n",
              "      <td>2015-6-15</td>\n",
              "      <td>84</td>\n",
              "      <td>68</td>\n",
              "      <td>99</td>\n",
              "      <td>65</td>\n",
              "      <td>86</td>\n",
              "      <td>51</td>\n",
              "      <td>99</td>\n",
              "      <td>1933</td>\n",
              "      <td>2015</td>\n",
              "      <td>0.00</td>\n",
              "      <td>0.14</td>\n",
              "      <td>1.16</td>\n",
              "    </tr>\n",
              "    <tr>\n",
              "      <th>350</th>\n",
              "      <td>2015-6-16</td>\n",
              "      <td>84</td>\n",
              "      <td>69</td>\n",
              "      <td>99</td>\n",
              "      <td>65</td>\n",
              "      <td>86</td>\n",
              "      <td>52</td>\n",
              "      <td>99</td>\n",
              "      <td>1961</td>\n",
              "      <td>2015</td>\n",
              "      <td>0.00</td>\n",
              "      <td>0.13</td>\n",
              "      <td>3.32</td>\n",
              "    </tr>\n",
              "  </tbody>\n",
              "</table>\n",
              "</div>"
            ],
            "text/plain": [
              "          date  actual_mean_temp  ...  average_precipitation  record_precipitation\n",
              "358  2015-6-24                88  ...                   0.12                  1.25\n",
              "352  2015-6-18                87  ...                   0.13                  1.86\n",
              "357  2015-6-23                87  ...                   0.11                  1.82\n",
              "351  2015-6-17                86  ...                   0.12                  2.76\n",
              "359  2015-6-25                86  ...                   0.11                  2.76\n",
              "1     2014-7-2                85  ...                   0.10                  1.53\n",
              "13   2014-7-14                85  ...                   0.12                  2.15\n",
              "360  2015-6-26                85  ...                   0.11                  1.98\n",
              "349  2015-6-15                84  ...                   0.14                  1.16\n",
              "350  2015-6-16                84  ...                   0.13                  3.32\n",
              "\n",
              "[10 rows x 13 columns]"
            ]
          },
          "metadata": {
            "tags": []
          },
          "execution_count": 93
        }
      ]
    },
    {
      "cell_type": "code",
      "metadata": {
        "id": "Gpkd1OMo5vY5",
        "colab_type": "code",
        "colab": {
          "base_uri": "https://localhost:8080/",
          "height": 269
        },
        "outputId": "50ae2a9e-1d43-4039-a55d-ae16d89e6e59"
      },
      "source": [
        "weather.actual_max_temp.hist()\n",
        "plt.show()"
      ],
      "execution_count": 96,
      "outputs": [
        {
          "output_type": "display_data",
          "data": {
            "image/png": "[encoded data removed]",
            "text/plain": [
              "<Figure size 432x288 with 1 Axes>"
            ]
          },
          "metadata": {
            "tags": []
          }
        }
      ]
    },
    {
      "cell_type": "markdown",
      "metadata": {
        "id": "RmkbPZEl6fTm",
        "colab_type": "text"
      },
      "source": [
        "**1.** In my first dataset, I had uploaded a lcoal file which contained data regarding cars and their stats. When sorting values, I had realized that whomever uploaded the data had not seperated the columns individually but rather made the index into one string which contained all of the columns combined. Realizing I was unable to sort these and seperate them, I moved onto a second set of data which contained a history of weather in the United States. I imported the data from gihub into my local notebook and printed the head of the data. The columns were sepreated in this dataset, giving me an ease of access to the different columns of the data. I played around with the data and sorted different columns, and created a histogram of the actual max temperatures. \n",
        "\n",
        "**2.** The most challenging part for me was figuring out how to import data into my local notebook. I also struggled with my first set of data and figuring out why it wasn;t allowing me to sort the different columns. Once I realized the error on the columns,  this made it much easier when working with the second set of data. \n",
        "\n",
        "**3.** Making the graph was interesting and using the different commands to sort data was also really helpful.  \n",
        "\n",
        "**4.** I would like to explore different types of graphs with more time since I found them really enjoyable during lecture. I'm also curious as to how I could have possibly seperated the columns in the first set of data. "
      ]
    },
    {
      "cell_type": "markdown",
      "metadata": {
        "id": "BT9gdS7viJZa",
        "colab_type": "text"
      },
      "source": [
        "### Assignment questions\n",
        "\n",
        "After you've worked on some code, answer the following questions in this text block:\n",
        "\n",
        "1.  Describe in a paragraph of text what you did and why, as if you were writing an email to somebody interested but nontechnical.\n",
        "\n",
        "2.  What was the most challenging part of what you did?\n",
        "\n",
        "3.  What was the most interesting thing you learned?\n",
        "\n",
        "4.  What area would you like to explore with more time?\n",
        "\n",
        "\n"
      ]
    },
    {
      "cell_type": "markdown",
      "metadata": {
        "id": "_XXg2crAipwP",
        "colab_type": "text"
      },
      "source": [
        "## Stretch goals and resources\n",
        "\n",
        "Following are *optional* things for you to take a look at. Focus on the above assignment first, and make sure to commit and push your changes to GitHub (and since this is the first assignment of the sprint, open a PR as well).\n",
        "\n",
        "- [pandas documentation](https://pandas.pydata.org/pandas-docs/stable/)\n",
        "- [scikit-learn documentation](http://scikit-learn.org/stable/documentation.html)\n",
        "- [matplotlib documentation](https://matplotlib.org/contents.html)\n",
        "- [Awesome Data Science](https://github.com/bulutyazilim/awesome-datascience) - a list of many types of DS resources\n",
        "\n",
        "Stretch goals:\n",
        "\n",
        "- Find and read blogs, walkthroughs, and other examples of people working through cool things with data science - and share with your classmates!\n",
        "- Write a blog post (Medium is a popular place to publish) introducing yourself as somebody learning data science, and talking about what you've learned already and what you're excited to learn more about."
      ]
    }
  ]
}