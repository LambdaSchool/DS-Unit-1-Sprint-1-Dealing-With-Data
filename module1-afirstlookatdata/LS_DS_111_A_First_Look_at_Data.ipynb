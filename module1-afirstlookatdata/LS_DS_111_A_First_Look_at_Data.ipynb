{
  "nbformat": 4,
  "nbformat_minor": 0,
  "metadata": {
    "colab": {
      "name": "LS_DS_111_A_First_Look_at_Data.ipynb",
      "version": "0.3.2",
      "provenance": []
    },
    "kernelspec": {
      "name": "python3",
      "display_name": "Python 3"
    }
  },
  "cells": [
    {
      "cell_type": "markdown",
      "metadata": {
        "id": "Okfr_uhwhS1X",
        "colab_type": "text"
      },
      "source": [
        "# Lambda School Data Science - A First Look at Data\n",
        "\n"
      ]
    },
    {
      "cell_type": "markdown",
      "metadata": {
        "id": "9dtJETFRhnOG",
        "colab_type": "text"
      },
      "source": [
        "## Lecture - let's explore Python DS libraries and examples!\n",
        "\n",
        "The Python Data Science ecosystem is huge. You've seen some of the big pieces - pandas, scikit-learn, matplotlib. What parts do you want to see more of?"
      ]
    },
    {
      "cell_type": "code",
      "metadata": {
        "id": "WiBkgmPJhmhE",
        "colab_type": "code",
        "colab": {}
      },
      "source": [
        "# testing 2\n"
      ],
      "execution_count": 0,
      "outputs": []
    },
    {
      "cell_type": "markdown",
      "metadata": {
        "id": "lOqaPds9huME",
        "colab_type": "text"
      },
      "source": [
        "## Assignment - now it's your turn\n",
        "\n",
        "Pick at least one Python DS library, and using documentation/examples reproduce in this notebook something cool. It's OK if you don't fully understand it or get it 100% working, but do put in effort and look things up."
      ]
    },
    {
      "cell_type": "code",
      "metadata": {
        "id": "TGUS79cOhPWj",
        "colab_type": "code",
        "colab": {}
      },
      "source": [
        "# TODO - your code here\n",
        "# Use what we did live in lecture as an example"
      ],
      "execution_count": 0,
      "outputs": []
    },
    {
      "cell_type": "code",
      "metadata": {
        "id": "lFyNDkZhiDpD",
        "colab_type": "code",
        "colab": {
          "base_uri": "https://localhost:8080/",
          "height": 1000
        },
        "outputId": "ea3832ea-4d71-4868-c08c-5328982040ae"
      },
      "source": [
        "import pandas as pd\n",
        "df = pd.read_csv('https://github.com/labs12-rxid/DS/raw/master/CSV/Pillbox.NO.ID.csv', header=1)\n",
        "\n",
        "print (df)"
      ],
      "execution_count": 39,
      "outputs": [
        {
          "output_type": "stream",
          "text": [
            "/usr/local/lib/python3.6/dist-packages/IPython/core/interactiveshell.py:2718: DtypeWarning: Columns (62,63,64,65,66,69,70,71) have mixed types. Specify dtype option on import or set low_memory=False.\n",
            "  interactivity=interactivity, compiler=compiler, result=result)\n"
          ],
          "name": "stderr"
        },
        {
          "output_type": "stream",
          "text": [
            "       20466  TRUE  10/17/17 05:30 PM  ... Unnamed: 69 Unnamed: 70 Unnamed: 71\n",
            "0      42363  True  10/17/17 05:32 PM  ...         NaN         NaN         NaN\n",
            "1      48946  True  10/17/17 05:32 PM  ...         NaN         NaN         NaN\n",
            "2      43308  True  10/17/17 05:32 PM  ...         NaN         NaN         NaN\n",
            "3      18502  True  10/17/17 05:30 PM  ...         NaN         NaN         NaN\n",
            "4      12004  True  10/17/17 05:30 PM  ...         NaN         NaN         NaN\n",
            "5      28242  True  10/17/17 05:31 PM  ...         NaN         NaN         NaN\n",
            "6      46696  True  10/17/17 05:32 PM  ...         NaN         NaN         NaN\n",
            "7      40594  True  10/17/17 05:32 PM  ...         NaN         NaN         NaN\n",
            "8      29784  True  10/17/17 05:31 PM  ...         NaN         NaN         NaN\n",
            "9      32160  True  10/17/17 05:31 PM  ...         NaN         NaN         NaN\n",
            "10     34827  True  10/17/17 05:31 PM  ...         NaN         NaN         NaN\n",
            "11     52160  True  10/17/17 09:57 PM  ...         NaN         NaN         NaN\n",
            "12     43893  True  10/17/17 05:32 PM  ...         NaN         NaN         NaN\n",
            "13     40872  True  10/17/17 05:32 PM  ...         NaN         NaN         NaN\n",
            "14     53299  True  10/17/17 09:57 PM  ...         NaN         NaN         NaN\n",
            "15     56035  True  10/17/17 09:58 PM  ...         NaN         NaN         NaN\n",
            "16     33390  True  10/17/17 05:31 PM  ...         NaN         NaN         NaN\n",
            "17     20781  True  10/17/17 05:30 PM  ...         NaN         NaN         NaN\n",
            "18      1592  True  10/17/17 05:29 PM  ...         NaN         NaN         NaN\n",
            "19     62346  True  01/18/18 10:57 PM  ...         NaN         NaN         NaN\n",
            "20     25152  True  10/17/17 05:31 PM  ...         NaN         NaN         NaN\n",
            "21     40524  True  10/17/17 05:32 PM  ...         NaN         NaN         NaN\n",
            "22      2779  True  10/17/17 05:29 PM  ...         NaN         NaN         NaN\n",
            "23     57270  True  10/17/17 09:59 PM  ...         NaN         NaN         NaN\n",
            "24     62358  True  01/18/18 10:57 PM  ...         NaN         NaN         NaN\n",
            "25     50509  True  10/17/17 05:33 PM  ...         NaN         NaN         NaN\n",
            "26     39244  True  10/17/17 05:32 PM  ...         NaN         NaN         NaN\n",
            "27     58785  True  10/17/17 09:59 PM  ...         NaN         NaN         NaN\n",
            "28      5338  True  10/17/17 05:29 PM  ...         NaN         NaN         NaN\n",
            "29     49232  True  10/17/17 05:32 PM  ...         NaN         NaN         NaN\n",
            "...      ...   ...                ...  ...         ...         ...         ...\n",
            "62867  30096  True  10/17/17 05:31 PM  ...         NaN         NaN         NaN\n",
            "62868  53346  True  10/17/17 09:57 PM  ...         NaN         NaN         NaN\n",
            "62869  28937  True  10/17/17 05:31 PM  ...         NaN         NaN         NaN\n",
            "62870  44942  True  10/17/17 05:32 PM  ...         NaN         NaN         NaN\n",
            "62871  60979  True  12/08/17 07:09 PM  ...         NaN         NaN         NaN\n",
            "62872  32502  True  10/17/17 05:31 PM  ...         NaN         NaN         NaN\n",
            "62873  47655  True  10/17/17 05:32 PM  ...         NaN         NaN         NaN\n",
            "62874  24587  True  10/17/17 05:31 PM  ...         NaN         NaN         NaN\n",
            "62875   5314  True  10/17/17 05:29 PM  ...         NaN         NaN         NaN\n",
            "62876   7678  True  10/17/17 05:29 PM  ...         NaN         NaN         NaN\n",
            "62877  16560  True  10/17/17 05:30 PM  ...         NaN         NaN         NaN\n",
            "62878  16852  True  10/17/17 05:30 PM  ...         NaN         NaN         NaN\n",
            "62879  27376  True  10/17/17 05:31 PM  ...         NaN         NaN         NaN\n",
            "62880  58812  True  10/17/17 09:59 PM  ...         NaN         NaN         NaN\n",
            "62881  52735  True  10/17/17 09:57 PM  ...         NaN         NaN         NaN\n",
            "62882   1703  True  10/17/17 05:29 PM  ...         NaN         NaN         NaN\n",
            "62883  43558  True  10/17/17 05:32 PM  ...         NaN         NaN         NaN\n",
            "62884  24042  True  10/17/17 05:31 PM  ...         NaN         NaN         NaN\n",
            "62885  17522  True  10/17/17 05:30 PM  ...         NaN         NaN         NaN\n",
            "62886   6897  True  10/17/17 05:29 PM  ...         NaN         NaN         NaN\n",
            "62887  32131  True  10/17/17 05:31 PM  ...         NaN         NaN         NaN\n",
            "62888   4051  True  10/17/17 05:29 PM  ...         NaN         NaN         NaN\n",
            "62889  49212  True  10/17/17 05:32 PM  ...         NaN         NaN         NaN\n",
            "62890  49936  True  10/17/17 05:33 PM  ...         NaN         NaN         NaN\n",
            "62891  55987  True  10/17/17 09:58 PM  ...         NaN         NaN         NaN\n",
            "62892  44113  True  10/17/17 05:32 PM  ...         NaN         NaN         NaN\n",
            "62893  11487  True  10/17/17 05:30 PM  ...         NaN         NaN         NaN\n",
            "62894   5228  True  10/17/17 05:29 PM  ...         NaN         NaN         NaN\n",
            "62895  36708  True  10/17/17 05:32 PM  ...         NaN         NaN         NaN\n",
            "62896  40669  True  10/17/17 05:32 PM  ...         NaN         NaN         NaN\n",
            "\n",
            "[62897 rows x 72 columns]\n"
          ],
          "name": "stdout"
        }
      ]
    },
    {
      "cell_type": "markdown",
      "metadata": {
        "id": "BT9gdS7viJZa",
        "colab_type": "text"
      },
      "source": [
        "### Assignment questions\n",
        "\n",
        "After you've worked on some code, answer the following questions in this text block:\n",
        "\n",
        "1.  Describe in a paragraph of text what you did and why, as if you were writing an email to somebody interested but nontechnical.\n",
        "\n",
        "2.  What was the most challenging part of what you did?\n",
        "\n",
        "3.  What was the most interesting thing you learned?\n",
        "\n",
        "4.  What area would you like to explore with more time?\n",
        "\n",
        "\n"
      ]
    },
    {
      "cell_type": "markdown",
      "metadata": {
        "id": "_XXg2crAipwP",
        "colab_type": "text"
      },
      "source": [
        "## Stretch goals and resources\n",
        "\n",
        "Following are *optional* things for you to take a look at. Focus on the above assignment first, and make sure to commit and push your changes to GitHub (and since this is the first assignment of the sprint, open a PR as well).\n",
        "\n",
        "- [pandas documentation](https://pandas.pydata.org/pandas-docs/stable/)\n",
        "- [scikit-learn documentation](http://scikit-learn.org/stable/documentation.html)\n",
        "- [matplotlib documentation](https://matplotlib.org/contents.html)\n",
        "- [Awesome Data Science](https://github.com/bulutyazilim/awesome-datascience) - a list of many types of DS resources\n",
        "\n",
        "Stretch goals:\n",
        "\n",
        "- Find and read blogs, walkthroughs, and other examples of people working through cool things with data science - and share with your classmates!\n",
        "- Write a blog post (Medium is a popular place to publish) introducing yourself as somebody learning data science, and talking about what you've learned already and what you're excited to learn more about."
      ]
    }
  ]
}