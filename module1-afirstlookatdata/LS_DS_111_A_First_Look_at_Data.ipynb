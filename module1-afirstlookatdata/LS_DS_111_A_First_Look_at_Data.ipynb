{
  "nbformat": 4,
  "nbformat_minor": 0,
  "metadata": {
    "colab": {
      "name": "LS_DS_111_A_First_Look_at_Data.ipynb",
      "version": "0.3.2",
      "provenance": [],
      "include_colab_link": true
    },
    "kernelspec": {
      "name": "python3",
      "display_name": "Python 3"
    }
  },
  "cells": [
    {
      "cell_type": "markdown",
      "metadata": {
        "id": "view-in-github",
        "colab_type": "text"
      },
      "source": [
        "<a href=\"https://colab.research.google.com/github/HadenMoore/DS-Unit-1-Sprint-1-Dealing-With-Data/blob/master/module1-afirstlookatdata/LS_DS_111_A_First_Look_at_Data.ipynb\" target=\"_parent\"><img src=\"https://colab.research.google.com/assets/colab-badge.svg\" alt=\"Open In Colab\"/></a>"
      ]
    },
    {
      "cell_type": "markdown",
      "metadata": {
        "id": "Okfr_uhwhS1X",
        "colab_type": "text"
      },
      "source": [
        "# Lambda School Data Science - A First Look at Data\n",
        "\n"
      ]
    },
    {
      "cell_type": "markdown",
      "metadata": {
        "id": "9dtJETFRhnOG",
        "colab_type": "text"
      },
      "source": [
        "## Lecture - let's explore Python DS libraries and examples!\n",
        "\n",
        "The Python Data Science ecosystem is huge. You've seen some of the big pieces - pandas, scikit-learn, matplotlib. What parts do you want to see more of?"
      ]
    },
    {
      "cell_type": "code",
      "metadata": {
        "id": "WiBkgmPJhmhE",
        "colab_type": "code",
        "colab": {}
      },
      "source": [
        "# TODO - we'll be doing this live, taking requests\n",
        "# and reproducing what it is to look up and learn things\n",
        "\n",
        "myList = [50, 42, 29, 75, 50, 82]"
      ],
      "execution_count": 0,
      "outputs": []
    },
    {
      "cell_type": "markdown",
      "metadata": {
        "id": "Mup3-jaJSo6v",
        "colab_type": "text"
      },
      "source": [
        "**bold text** This is new text"
      ]
    },
    {
      "cell_type": "code",
      "metadata": {
        "id": "ttla6aXxTiF1",
        "colab_type": "code",
        "colab": {}
      },
      "source": [
        ""
      ],
      "execution_count": 0,
      "outputs": []
    },
    {
      "cell_type": "markdown",
      "metadata": {
        "id": "lOqaPds9huME",
        "colab_type": "text"
      },
      "source": [
        "## Assignment - now it's your turn\n",
        "\n",
        "Pick at least one Python DS library, and using documentation/examples reproduce in this notebook something cool. It's OK if you don't fully understand it or get it 100% working, but do put in effort and look things up."
      ]
    },
    {
      "cell_type": "markdown",
      "metadata": {
        "id": "R5N0EYHpTUca",
        "colab_type": "text"
      },
      "source": [
        "# Something New? Or did I delete something? You decide\n",
        "\n",
        "\n",
        "\n"
      ]
    },
    {
      "cell_type": "markdown",
      "metadata": {
        "id": "PCkpmlS0SoRh",
        "colab_type": "text"
      },
      "source": [
        ""
      ]
    },
    {
      "cell_type": "code",
      "metadata": {
        "id": "Vf4avC1VrwZE",
        "colab_type": "code",
        "colab": {}
      },
      "source": [
        "from __future__ import division\n",
        "import numpy as np\n",
        "from scipy.special import factorial\n",
        "import scipy.stats as stats\n",
        "import pylab\n",
        "import matplotlib.pyplot as plt\n",
        "%matplotlib inline\n",
        "import seaborn as sns\n",
        "sns.set_style(\"darkgrid\")\n",
        "import ipywidgets\n",
        "from IPython.display import display\n",
        "from matplotlib.font_manager import FontProperties\n",
        "fontP = FontProperties()\n",
        "fontP.set_size('medium')\n",
        "%config InlineBackend.figure_format = 'svg'\n",
        "\n",
        "\n",
        "def mean_firing_rate(gain, stimulus, preferred_stimulus, std_tc, baseline):\n",
        "    # Gaussian tuning curve that determines the mean firing rate (Poisson rate parameter) for a given stimulus\n",
        "    return baseline + gain*stats.norm.pdf(preferred_stimulus, loc = stimulus, scale = std_tc)\n",
        "\n",
        "def get_spikes(gain, stimulus, preferred_stimuli, std_tc, baseline):\n",
        "    # produce a vector of spikes for some population given some stimulus\n",
        "    lambdas = mean_firing_rate(gain, stimulus, preferred_stimuli, std_tc, baseline)\n",
        "    return np.random.poisson(lambdas)\n",
        "                \n",
        "def likelihood(stimulus, r, gain, preferred_stimuli, std_tc, baseline):\n",
        "    # returns p(r|s)\n",
        "    lambdas = mean_firing_rate(gain, stimulus, preferred_stimuli, std_tc, baseline)\n",
        "    return np.prod(lambdas**r)\n",
        "\n",
        "def spikes_and_inference(r_V = True,\n",
        "                         r_A = True,\n",
        "                         show_tuning_curves = False,\n",
        "                         show_spike_count = False,\n",
        "                         show_likelihoods = True,\n",
        "                         true_stimulus = 10,\n",
        "                         number_of_neurons = 40,\n",
        "                         r_V_gain = 15,\n",
        "                         r_A_gain = 75,\n",
        "                         r_V_tuning_curve_sigma = 10,\n",
        "                         r_A_tuning_curve_sigma = 10,\n",
        "                         tuning_curve_baseline = 0,\n",
        "                         joint_likelihood = True,\n",
        "                         r_V_plus_r_A = True,\n",
        "                         cue = False):\n",
        "    np.random.seed(7)\n",
        "    max_s = 40\n",
        "    preferred_stimuli = np.linspace(-max_s*2, max_s*2, number_of_neurons)\n",
        "    n_hypothesized_s = 250\n",
        "    hypothesized_s = np.linspace(-max_s, max_s, n_hypothesized_s)\n",
        "    gains     = {'r1':    r_V_gain,\n",
        "                 'r2':    r_A_gain,\n",
        "                 'r1+r2': r_V_gain + r_A_gain}\n",
        "    sigma_TCs = {'r1':    r_V_tuning_curve_sigma,\n",
        "                 'r2':    r_A_tuning_curve_sigma,\n",
        "                 'r1+r2': (r_V_tuning_curve_sigma + r_A_tuning_curve_sigma)/2}\n",
        "    spikes    = {'r1':    get_spikes(gains['r1'], true_stimulus, preferred_stimuli, sigma_TCs['r1'], tuning_curve_baseline),\n",
        "                 'r2':    get_spikes(gains['r2'], true_stimulus, preferred_stimuli, sigma_TCs['r2'], tuning_curve_baseline)}\n",
        "    spikes['r1+r2'] = spikes['r1'] + spikes['r2']\n",
        "    active_pops = []\n",
        "    if r_V: active_pops.append('r1')\n",
        "    if r_A: active_pops.append('r2')\n",
        "    if r_V_plus_r_A: active_pops.append('r1+r2')\n",
        "\n",
        "    colors = {'r1':    sns.xkcd_rgb['light purple'],\n",
        "              'r2':    sns.xkcd_rgb['dark pink'],\n",
        "              'r1+r2': sns.xkcd_rgb['royal blue'],\n",
        "              'joint': sns.xkcd_rgb['gold']}\n",
        "    nSubplots = show_spike_count + show_tuning_curves + show_likelihoods\n",
        "    fig, axes = plt.subplots(nSubplots, figsize = (7, 1.5*nSubplots)) # number of subplots according to what's been requested\n",
        "    if not isinstance(axes, np.ndarray): axes = [axes] # makes axes into a list even if it's just one subplot\n",
        "    subplot_idx = 0\n",
        "    \n",
        "    def plot_true_stimulus_and_legend(subplot_idx):\n",
        "        axes[subplot_idx].plot(true_stimulus, 0, 'k^', markersize = 12, clip_on = False, label = 'true rattlesnake location')\n",
        "        axes[subplot_idx].legend(loc = 'center left', bbox_to_anchor = (1, 0.5), prop = fontP)\n",
        "    \n",
        "    if show_tuning_curves:\n",
        "        for neuron in range(number_of_neurons):\n",
        "            if r_V:\n",
        "                axes[subplot_idx].plot(hypothesized_s,\n",
        "                                       mean_firing_rate(gains['r1'],\n",
        "                                                        hypothesized_s,\n",
        "                                                        preferred_stimuli[neuron],\n",
        "                                                        sigma_TCs['r1'],\n",
        "                                                        tuning_curve_baseline),\n",
        "                                       color = colors['r1'])\n",
        "            if r_A:\n",
        "                axes[subplot_idx].plot(hypothesized_s,\n",
        "                                       mean_firing_rate(gains['r2'],\n",
        "                                                        hypothesized_s,\n",
        "                                                        preferred_stimuli[neuron],\n",
        "                                                        sigma_TCs['r2'],\n",
        "                                                        tuning_curve_baseline),\n",
        "                                       color = colors['r2'])\n",
        "        axes[subplot_idx].set_xlabel('location $s$')\n",
        "        axes[subplot_idx].set_ylabel('mean firing rate\\n(spikes/s)')\n",
        "        axes[subplot_idx].set_ylim((0, 4))\n",
        "        axes[subplot_idx].set_xlim((-40, 40))\n",
        "        axes[subplot_idx].set_yticks(np.linspace(0, 4, 5))\n",
        "        subplot_idx += 1\n",
        "\n",
        "    if show_spike_count:\n",
        "        idx = abs(preferred_stimuli) < max_s\n",
        "        if r_V:\n",
        "            axes[subplot_idx].plot(preferred_stimuli[idx], spikes['r1'][idx], 'o', color = colors['r1'],\n",
        "                                   clip_on = False,  label = '$\\mathbf{r}_\\mathrm{V}$',\n",
        "                                   markersize=4)\n",
        "        if r_A:\n",
        "            axes[subplot_idx].plot(preferred_stimuli[idx], spikes['r2'][idx], 'o', color = colors['r2'],\n",
        "                                   clip_on = False, label = '$\\mathbf{r}_\\mathrm{A}$',\n",
        "                                   markersize=4)\n",
        "        if r_V_plus_r_A:\n",
        "            axes[subplot_idx].plot(preferred_stimuli[idx], spikes['r1+r2'][idx], 'o', color = colors['r1+r2'],\n",
        "                                   clip_on = False, label = '$\\mathbf{r}_\\mathrm{V}+\\mathbf{r}_\\mathrm{A}$',\n",
        "                                   markersize=8, zorder=1)\n",
        "        axes[subplot_idx].set_xlabel('preferred location')\n",
        "        axes[subplot_idx].set_ylabel('spike count')\n",
        "        axes[subplot_idx].set_ylim((0, 10))\n",
        "        axes[subplot_idx].set_xlim((-40, 40))\n",
        "        plot_true_stimulus_and_legend(subplot_idx)\n",
        "        subplot_idx += 1\n",
        "\n",
        "    if show_likelihoods:\n",
        "        if cue:\n",
        "            var = 'c'\n",
        "        else:\n",
        "            var = '\\mathbf{r}'\n",
        "        likelihoods = {}\n",
        "            \n",
        "        for population in active_pops:\n",
        "            likelihoods[population] = np.zeros_like(hypothesized_s)\n",
        "            for idx, ort in enumerate(hypothesized_s):\n",
        "                likelihoods[population][idx] = likelihood(ort, spikes[population], gains[population],\n",
        "                                                          preferred_stimuli, sigma_TCs[population], tuning_curve_baseline)\n",
        "            likelihoods[population] /= np.sum(likelihoods[population]) # normalize\n",
        "\n",
        "        if r_V:\n",
        "            axes[subplot_idx].plot(hypothesized_s, likelihoods['r1'], color = colors['r1'],\n",
        "                                   linewidth = 2, label = '$p({}_\\mathrm{{V}}|s)$'.format(var))\n",
        "        if r_A:\n",
        "            axes[subplot_idx].plot(hypothesized_s, likelihoods['r2'], color = colors['r2'],\n",
        "                                   linewidth = 2, label = '$p({}_\\mathrm{{A}}|s)$'.format(var))\n",
        "        if r_V_plus_r_A:\n",
        "            axes[subplot_idx].plot(hypothesized_s, likelihoods['r1+r2'], color = colors['r1+r2'],\n",
        "                                   linewidth = 2, label = '$p({}_\\mathrm{{V}}+{}_\\mathrm{{A}}|s)$'.format(var, var))\n",
        "        if joint_likelihood:\n",
        "            product = likelihoods['r1']*likelihoods['r2']\n",
        "            product /= np.sum(product)\n",
        "            axes[subplot_idx].plot(hypothesized_s, product, color = colors['joint'],linewidth = 7,\n",
        "                                   label = '$p({}_\\mathrm{{V}}|s)\\ p({}_\\mathrm{{A}}|s)$'.format(var, var), zorder = 1)\n",
        "\n",
        "        axes[subplot_idx].set_xlabel('location $s$')\n",
        "        axes[subplot_idx].set_ylabel('probability')\n",
        "        axes[subplot_idx].set_xlim((-40, 40))\n",
        "        axes[subplot_idx].legend()\n",
        "        axes[subplot_idx].set_yticks([])\n",
        "        \n",
        "        plot_true_stimulus_and_legend(subplot_idx)\n",
        "        subplot_idx += 1"
      ],
      "execution_count": 0,
      "outputs": []
    },
    {
      "cell_type": "code",
      "metadata": {
        "id": "SofErrCGr7xP",
        "colab_type": "code",
        "colab": {
          "base_uri": "https://localhost:8080/",
          "height": 205
        },
        "outputId": "30f135a9-56cb-498f-c4bb-5cf58616fcc4"
      },
      "source": [
        "spikes_and_inference(show_likelihoods = True, r_V_plus_r_A = False, cue = True)\n"
      ],
      "execution_count": 124,
      "outputs": [
        {
          "output_type": "display_data",
          "data": {
            "text/plain": [
              "<Figure size 504x108 with 1 Axes>"
            ],
            "image/svg+xml": "<?xml version=\"1.0\" encoding=\"utf-8\" standalone=\"no\"?>\n<!DOCTYPE svg PUBLIC \"-//W3C//DTD SVG 1.1//EN\"\n  \"http://www.w3.org/Graphics/SVG/1.1/DTD/svg11.dtd\">\n<!-- Created with matplotlib (https://matplotlib.org/) -->\n<svg height=\"137.699688pt\" version=\"1.1\" viewBox=\"0 0 632.675 137.699688\" width=\"632.675pt\" xmlns=\"http://www.w3.org/2000/svg\" xmlns:xlink=\"http://www.w3.org/1999/xlink\">\n <defs>\n  <style type=\"text/css\">\n*{stroke-linecap:butt;stroke-linejoin:round;}\n  </style>\n </defs>\n <g id=\"figure_1\">\n  <g id=\"patch_1\">\n   <path d=\"M 0 137.699688 \nL 632.675 137.699688 \nL 632.675 0 \nL 0 0 \nz\n\" style=\"fill:#ffffff;\"/>\n  </g>\n  <g id=\"axes_1\">\n   <g id=\"patch_2\">\n    <path d=\"M 22.81375 94.74 \nL 461.29375 94.74 \nL 461.29375 13.2 \nL 22.81375 13.2 \nz\n\" style=\"fill:#eaeaf2;\"/>\n   </g>\n   <g id=\"matplotlib.axis_1\">\n    <g id=\"xtick_1\">\n     <g id=\"line2d_1\">\n      <path clip-path=\"url(#pf163f863ba)\" d=\"M 22.81375 94.74 \nL 22.81375 13.2 \n\" style=\"fill:none;stroke:#ffffff;stroke-linecap:round;\"/>\n     </g>\n     <g id=\"text_1\">\n      <!-- −40 -->\n      <defs>\n       <path d=\"M 10.59375 35.5 \nL 73.1875 35.5 \nL 73.1875 27.203125 \nL 10.59375 27.203125 \nz\n\" id=\"DejaVuSans-8722\"/>\n       <path d=\"M 37.796875 64.3125 \nL 12.890625 25.390625 \nL 37.796875 25.390625 \nz\nM 35.203125 72.90625 \nL 47.609375 72.90625 \nL 47.609375 25.390625 \nL 58.015625 25.390625 \nL 58.015625 17.1875 \nL 47.609375 17.1875 \nL 47.609375 0 \nL 37.796875 0 \nL 37.796875 17.1875 \nL 4.890625 17.1875 \nL 4.890625 26.703125 \nz\n\" id=\"DejaVuSans-52\"/>\n       <path d=\"M 31.78125 66.40625 \nQ 24.171875 66.40625 20.328125 58.90625 \nQ 16.5 51.421875 16.5 36.375 \nQ 16.5 21.390625 20.328125 13.890625 \nQ 24.171875 6.390625 31.78125 6.390625 \nQ 39.453125 6.390625 43.28125 13.890625 \nQ 47.125 21.390625 47.125 36.375 \nQ 47.125 51.421875 43.28125 58.90625 \nQ 39.453125 66.40625 31.78125 66.40625 \nz\nM 31.78125 74.21875 \nQ 44.046875 74.21875 50.515625 64.515625 \nQ 56.984375 54.828125 56.984375 36.375 \nQ 56.984375 17.96875 50.515625 8.265625 \nQ 44.046875 -1.421875 31.78125 -1.421875 \nQ 19.53125 -1.421875 13.0625 8.265625 \nQ 6.59375 17.96875 6.59375 36.375 \nQ 6.59375 54.828125 13.0625 64.515625 \nQ 19.53125 74.21875 31.78125 74.21875 \nz\n\" id=\"DejaVuSans-48\"/>\n      </defs>\n      <g style=\"fill:#262626;\" transform=\"translate(11.206172 112.598281)scale(0.11 -0.11)\">\n       <use xlink:href=\"#DejaVuSans-8722\"/>\n       <use x=\"83.789062\" xlink:href=\"#DejaVuSans-52\"/>\n       <use x=\"147.412109\" xlink:href=\"#DejaVuSans-48\"/>\n      </g>\n     </g>\n    </g>\n    <g id=\"xtick_2\">\n     <g id=\"line2d_2\">\n      <path clip-path=\"url(#pf163f863ba)\" d=\"M 77.62375 94.74 \nL 77.62375 13.2 \n\" style=\"fill:none;stroke:#ffffff;stroke-linecap:round;\"/>\n     </g>\n     <g id=\"text_2\">\n      <!-- −30 -->\n      <defs>\n       <path d=\"M 40.578125 39.3125 \nQ 47.65625 37.796875 51.625 33 \nQ 55.609375 28.21875 55.609375 21.1875 \nQ 55.609375 10.40625 48.1875 4.484375 \nQ 40.765625 -1.421875 27.09375 -1.421875 \nQ 22.515625 -1.421875 17.65625 -0.515625 \nQ 12.796875 0.390625 7.625 2.203125 \nL 7.625 11.71875 \nQ 11.71875 9.328125 16.59375 8.109375 \nQ 21.484375 6.890625 26.8125 6.890625 \nQ 36.078125 6.890625 40.9375 10.546875 \nQ 45.796875 14.203125 45.796875 21.1875 \nQ 45.796875 27.640625 41.28125 31.265625 \nQ 36.765625 34.90625 28.71875 34.90625 \nL 20.21875 34.90625 \nL 20.21875 43.015625 \nL 29.109375 43.015625 \nQ 36.375 43.015625 40.234375 45.921875 \nQ 44.09375 48.828125 44.09375 54.296875 \nQ 44.09375 59.90625 40.109375 62.90625 \nQ 36.140625 65.921875 28.71875 65.921875 \nQ 24.65625 65.921875 20.015625 65.03125 \nQ 15.375 64.15625 9.8125 62.3125 \nL 9.8125 71.09375 \nQ 15.4375 72.65625 20.34375 73.4375 \nQ 25.25 74.21875 29.59375 74.21875 \nQ 40.828125 74.21875 47.359375 69.109375 \nQ 53.90625 64.015625 53.90625 55.328125 \nQ 53.90625 49.265625 50.4375 45.09375 \nQ 46.96875 40.921875 40.578125 39.3125 \nz\n\" id=\"DejaVuSans-51\"/>\n      </defs>\n      <g style=\"fill:#262626;\" transform=\"translate(66.016172 112.598281)scale(0.11 -0.11)\">\n       <use xlink:href=\"#DejaVuSans-8722\"/>\n       <use x=\"83.789062\" xlink:href=\"#DejaVuSans-51\"/>\n       <use x=\"147.412109\" xlink:href=\"#DejaVuSans-48\"/>\n      </g>\n     </g>\n    </g>\n    <g id=\"xtick_3\">\n     <g id=\"line2d_3\">\n      <path clip-path=\"url(#pf163f863ba)\" d=\"M 132.43375 94.74 \nL 132.43375 13.2 \n\" style=\"fill:none;stroke:#ffffff;stroke-linecap:round;\"/>\n     </g>\n     <g id=\"text_3\">\n      <!-- −20 -->\n      <defs>\n       <path d=\"M 19.1875 8.296875 \nL 53.609375 8.296875 \nL 53.609375 0 \nL 7.328125 0 \nL 7.328125 8.296875 \nQ 12.9375 14.109375 22.625 23.890625 \nQ 32.328125 33.6875 34.8125 36.53125 \nQ 39.546875 41.84375 41.421875 45.53125 \nQ 43.3125 49.21875 43.3125 52.78125 \nQ 43.3125 58.59375 39.234375 62.25 \nQ 35.15625 65.921875 28.609375 65.921875 \nQ 23.96875 65.921875 18.8125 64.3125 \nQ 13.671875 62.703125 7.8125 59.421875 \nL 7.8125 69.390625 \nQ 13.765625 71.78125 18.9375 73 \nQ 24.125 74.21875 28.421875 74.21875 \nQ 39.75 74.21875 46.484375 68.546875 \nQ 53.21875 62.890625 53.21875 53.421875 \nQ 53.21875 48.921875 51.53125 44.890625 \nQ 49.859375 40.875 45.40625 35.40625 \nQ 44.1875 33.984375 37.640625 27.21875 \nQ 31.109375 20.453125 19.1875 8.296875 \nz\n\" id=\"DejaVuSans-50\"/>\n      </defs>\n      <g style=\"fill:#262626;\" transform=\"translate(120.826172 112.598281)scale(0.11 -0.11)\">\n       <use xlink:href=\"#DejaVuSans-8722\"/>\n       <use x=\"83.789062\" xlink:href=\"#DejaVuSans-50\"/>\n       <use x=\"147.412109\" xlink:href=\"#DejaVuSans-48\"/>\n      </g>\n     </g>\n    </g>\n    <g id=\"xtick_4\">\n     <g id=\"line2d_4\">\n      <path clip-path=\"url(#pf163f863ba)\" d=\"M 187.24375 94.74 \nL 187.24375 13.2 \n\" style=\"fill:none;stroke:#ffffff;stroke-linecap:round;\"/>\n     </g>\n     <g id=\"text_4\">\n      <!-- −10 -->\n      <defs>\n       <path d=\"M 12.40625 8.296875 \nL 28.515625 8.296875 \nL 28.515625 63.921875 \nL 10.984375 60.40625 \nL 10.984375 69.390625 \nL 28.421875 72.90625 \nL 38.28125 72.90625 \nL 38.28125 8.296875 \nL 54.390625 8.296875 \nL 54.390625 0 \nL 12.40625 0 \nz\n\" id=\"DejaVuSans-49\"/>\n      </defs>\n      <g style=\"fill:#262626;\" transform=\"translate(175.636172 112.598281)scale(0.11 -0.11)\">\n       <use xlink:href=\"#DejaVuSans-8722\"/>\n       <use x=\"83.789062\" xlink:href=\"#DejaVuSans-49\"/>\n       <use x=\"147.412109\" xlink:href=\"#DejaVuSans-48\"/>\n      </g>\n     </g>\n    </g>\n    <g id=\"xtick_5\">\n     <g id=\"line2d_5\">\n      <path clip-path=\"url(#pf163f863ba)\" d=\"M 242.05375 94.74 \nL 242.05375 13.2 \n\" style=\"fill:none;stroke:#ffffff;stroke-linecap:round;\"/>\n     </g>\n     <g id=\"text_5\">\n      <!-- 0 -->\n      <g style=\"fill:#262626;\" transform=\"translate(238.554375 112.598281)scale(0.11 -0.11)\">\n       <use xlink:href=\"#DejaVuSans-48\"/>\n      </g>\n     </g>\n    </g>\n    <g id=\"xtick_6\">\n     <g id=\"line2d_6\">\n      <path clip-path=\"url(#pf163f863ba)\" d=\"M 296.86375 94.74 \nL 296.86375 13.2 \n\" style=\"fill:none;stroke:#ffffff;stroke-linecap:round;\"/>\n     </g>\n     <g id=\"text_6\">\n      <!-- 10 -->\n      <g style=\"fill:#262626;\" transform=\"translate(289.865 112.598281)scale(0.11 -0.11)\">\n       <use xlink:href=\"#DejaVuSans-49\"/>\n       <use x=\"63.623047\" xlink:href=\"#DejaVuSans-48\"/>\n      </g>\n     </g>\n    </g>\n    <g id=\"xtick_7\">\n     <g id=\"line2d_7\">\n      <path clip-path=\"url(#pf163f863ba)\" d=\"M 351.67375 94.74 \nL 351.67375 13.2 \n\" style=\"fill:none;stroke:#ffffff;stroke-linecap:round;\"/>\n     </g>\n     <g id=\"text_7\">\n      <!-- 20 -->\n      <g style=\"fill:#262626;\" transform=\"translate(344.675 112.598281)scale(0.11 -0.11)\">\n       <use xlink:href=\"#DejaVuSans-50\"/>\n       <use x=\"63.623047\" xlink:href=\"#DejaVuSans-48\"/>\n      </g>\n     </g>\n    </g>\n    <g id=\"xtick_8\">\n     <g id=\"line2d_8\">\n      <path clip-path=\"url(#pf163f863ba)\" d=\"M 406.48375 94.74 \nL 406.48375 13.2 \n\" style=\"fill:none;stroke:#ffffff;stroke-linecap:round;\"/>\n     </g>\n     <g id=\"text_8\">\n      <!-- 30 -->\n      <g style=\"fill:#262626;\" transform=\"translate(399.485 112.598281)scale(0.11 -0.11)\">\n       <use xlink:href=\"#DejaVuSans-51\"/>\n       <use x=\"63.623047\" xlink:href=\"#DejaVuSans-48\"/>\n      </g>\n     </g>\n    </g>\n    <g id=\"xtick_9\">\n     <g id=\"line2d_9\">\n      <path clip-path=\"url(#pf163f863ba)\" d=\"M 461.29375 94.74 \nL 461.29375 13.2 \n\" style=\"fill:none;stroke:#ffffff;stroke-linecap:round;\"/>\n     </g>\n     <g id=\"text_9\">\n      <!-- 40 -->\n      <g style=\"fill:#262626;\" transform=\"translate(454.295 112.598281)scale(0.11 -0.11)\">\n       <use xlink:href=\"#DejaVuSans-52\"/>\n       <use x=\"63.623047\" xlink:href=\"#DejaVuSans-48\"/>\n      </g>\n     </g>\n    </g>\n    <g id=\"text_10\">\n     <!-- location $s$ -->\n     <defs>\n      <path d=\"M 9.421875 75.984375 \nL 18.40625 75.984375 \nL 18.40625 0 \nL 9.421875 0 \nz\n\" id=\"DejaVuSans-108\"/>\n      <path d=\"M 30.609375 48.390625 \nQ 23.390625 48.390625 19.1875 42.75 \nQ 14.984375 37.109375 14.984375 27.296875 \nQ 14.984375 17.484375 19.15625 11.84375 \nQ 23.34375 6.203125 30.609375 6.203125 \nQ 37.796875 6.203125 41.984375 11.859375 \nQ 46.1875 17.53125 46.1875 27.296875 \nQ 46.1875 37.015625 41.984375 42.703125 \nQ 37.796875 48.390625 30.609375 48.390625 \nz\nM 30.609375 56 \nQ 42.328125 56 49.015625 48.375 \nQ 55.71875 40.765625 55.71875 27.296875 \nQ 55.71875 13.875 49.015625 6.21875 \nQ 42.328125 -1.421875 30.609375 -1.421875 \nQ 18.84375 -1.421875 12.171875 6.21875 \nQ 5.515625 13.875 5.515625 27.296875 \nQ 5.515625 40.765625 12.171875 48.375 \nQ 18.84375 56 30.609375 56 \nz\n\" id=\"DejaVuSans-111\"/>\n      <path d=\"M 48.78125 52.59375 \nL 48.78125 44.1875 \nQ 44.96875 46.296875 41.140625 47.34375 \nQ 37.3125 48.390625 33.40625 48.390625 \nQ 24.65625 48.390625 19.8125 42.84375 \nQ 14.984375 37.3125 14.984375 27.296875 \nQ 14.984375 17.28125 19.8125 11.734375 \nQ 24.65625 6.203125 33.40625 6.203125 \nQ 37.3125 6.203125 41.140625 7.25 \nQ 44.96875 8.296875 48.78125 10.40625 \nL 48.78125 2.09375 \nQ 45.015625 0.34375 40.984375 -0.53125 \nQ 36.96875 -1.421875 32.421875 -1.421875 \nQ 20.0625 -1.421875 12.78125 6.34375 \nQ 5.515625 14.109375 5.515625 27.296875 \nQ 5.515625 40.671875 12.859375 48.328125 \nQ 20.21875 56 33.015625 56 \nQ 37.15625 56 41.109375 55.140625 \nQ 45.0625 54.296875 48.78125 52.59375 \nz\n\" id=\"DejaVuSans-99\"/>\n      <path d=\"M 34.28125 27.484375 \nQ 23.390625 27.484375 19.1875 25 \nQ 14.984375 22.515625 14.984375 16.5 \nQ 14.984375 11.71875 18.140625 8.90625 \nQ 21.296875 6.109375 26.703125 6.109375 \nQ 34.1875 6.109375 38.703125 11.40625 \nQ 43.21875 16.703125 43.21875 25.484375 \nL 43.21875 27.484375 \nz\nM 52.203125 31.203125 \nL 52.203125 0 \nL 43.21875 0 \nL 43.21875 8.296875 \nQ 40.140625 3.328125 35.546875 0.953125 \nQ 30.953125 -1.421875 24.3125 -1.421875 \nQ 15.921875 -1.421875 10.953125 3.296875 \nQ 6 8.015625 6 15.921875 \nQ 6 25.140625 12.171875 29.828125 \nQ 18.359375 34.515625 30.609375 34.515625 \nL 43.21875 34.515625 \nL 43.21875 35.40625 \nQ 43.21875 41.609375 39.140625 45 \nQ 35.0625 48.390625 27.6875 48.390625 \nQ 23 48.390625 18.546875 47.265625 \nQ 14.109375 46.140625 10.015625 43.890625 \nL 10.015625 52.203125 \nQ 14.9375 54.109375 19.578125 55.046875 \nQ 24.21875 56 28.609375 56 \nQ 40.484375 56 46.34375 49.84375 \nQ 52.203125 43.703125 52.203125 31.203125 \nz\n\" id=\"DejaVuSans-97\"/>\n      <path d=\"M 18.3125 70.21875 \nL 18.3125 54.6875 \nL 36.8125 54.6875 \nL 36.8125 47.703125 \nL 18.3125 47.703125 \nL 18.3125 18.015625 \nQ 18.3125 11.328125 20.140625 9.421875 \nQ 21.96875 7.515625 27.59375 7.515625 \nL 36.8125 7.515625 \nL 36.8125 0 \nL 27.59375 0 \nQ 17.1875 0 13.234375 3.875 \nQ 9.28125 7.765625 9.28125 18.015625 \nL 9.28125 47.703125 \nL 2.6875 47.703125 \nL 2.6875 54.6875 \nL 9.28125 54.6875 \nL 9.28125 70.21875 \nz\n\" id=\"DejaVuSans-116\"/>\n      <path d=\"M 9.421875 54.6875 \nL 18.40625 54.6875 \nL 18.40625 0 \nL 9.421875 0 \nz\nM 9.421875 75.984375 \nL 18.40625 75.984375 \nL 18.40625 64.59375 \nL 9.421875 64.59375 \nz\n\" id=\"DejaVuSans-105\"/>\n      <path d=\"M 54.890625 33.015625 \nL 54.890625 0 \nL 45.90625 0 \nL 45.90625 32.71875 \nQ 45.90625 40.484375 42.875 44.328125 \nQ 39.84375 48.1875 33.796875 48.1875 \nQ 26.515625 48.1875 22.3125 43.546875 \nQ 18.109375 38.921875 18.109375 30.90625 \nL 18.109375 0 \nL 9.078125 0 \nL 9.078125 54.6875 \nL 18.109375 54.6875 \nL 18.109375 46.1875 \nQ 21.34375 51.125 25.703125 53.5625 \nQ 30.078125 56 35.796875 56 \nQ 45.21875 56 50.046875 50.171875 \nQ 54.890625 44.34375 54.890625 33.015625 \nz\n\" id=\"DejaVuSans-110\"/>\n      <path id=\"DejaVuSans-32\"/>\n      <path d=\"M 50 53.078125 \nL 48.296875 44.578125 \nQ 44.734375 46.53125 40.765625 47.5 \nQ 36.8125 48.484375 32.625 48.484375 \nQ 25.53125 48.484375 21.453125 46.0625 \nQ 17.390625 43.65625 17.390625 39.5 \nQ 17.390625 34.671875 26.859375 32.078125 \nQ 27.59375 31.890625 27.9375 31.78125 \nL 30.8125 30.90625 \nQ 39.796875 28.421875 42.796875 25.6875 \nQ 45.796875 22.953125 45.796875 18.21875 \nQ 45.796875 9.515625 38.890625 4.046875 \nQ 31.984375 -1.421875 20.796875 -1.421875 \nQ 16.453125 -1.421875 11.671875 -0.578125 \nQ 6.890625 0.25 1.125 2 \nL 2.875 11.28125 \nQ 7.8125 8.734375 12.59375 7.421875 \nQ 17.390625 6.109375 21.78125 6.109375 \nQ 28.375 6.109375 32.5 8.9375 \nQ 36.625 11.765625 36.625 16.109375 \nQ 36.625 20.796875 25.78125 23.6875 \nL 24.859375 23.921875 \nL 21.78125 24.703125 \nQ 14.9375 26.515625 11.765625 29.46875 \nQ 8.59375 32.421875 8.59375 37.015625 \nQ 8.59375 45.75 15.15625 50.875 \nQ 21.734375 56 33.015625 56 \nQ 37.453125 56 41.671875 55.265625 \nQ 45.90625 54.546875 50 53.078125 \nz\n\" id=\"DejaVuSans-Oblique-115\"/>\n     </defs>\n     <g style=\"fill:#262626;\" transform=\"translate(213.19375 128.004063)scale(0.12 -0.12)\">\n      <use transform=\"translate(0 0.015625)\" xlink:href=\"#DejaVuSans-108\"/>\n      <use transform=\"translate(27.783203 0.015625)\" xlink:href=\"#DejaVuSans-111\"/>\n      <use transform=\"translate(88.964844 0.015625)\" xlink:href=\"#DejaVuSans-99\"/>\n      <use transform=\"translate(143.945312 0.015625)\" xlink:href=\"#DejaVuSans-97\"/>\n      <use transform=\"translate(205.224609 0.015625)\" xlink:href=\"#DejaVuSans-116\"/>\n      <use transform=\"translate(244.433594 0.015625)\" xlink:href=\"#DejaVuSans-105\"/>\n      <use transform=\"translate(272.216797 0.015625)\" xlink:href=\"#DejaVuSans-111\"/>\n      <use transform=\"translate(333.398438 0.015625)\" xlink:href=\"#DejaVuSans-110\"/>\n      <use transform=\"translate(396.777344 0.015625)\" xlink:href=\"#DejaVuSans-32\"/>\n      <use transform=\"translate(428.564453 0.015625)\" xlink:href=\"#DejaVuSans-Oblique-115\"/>\n     </g>\n    </g>\n   </g>\n   <g id=\"matplotlib.axis_2\">\n    <g id=\"text_11\">\n     <!-- probability -->\n     <defs>\n      <path d=\"M 18.109375 8.203125 \nL 18.109375 -20.796875 \nL 9.078125 -20.796875 \nL 9.078125 54.6875 \nL 18.109375 54.6875 \nL 18.109375 46.390625 \nQ 20.953125 51.265625 25.265625 53.625 \nQ 29.59375 56 35.59375 56 \nQ 45.5625 56 51.78125 48.09375 \nQ 58.015625 40.1875 58.015625 27.296875 \nQ 58.015625 14.40625 51.78125 6.484375 \nQ 45.5625 -1.421875 35.59375 -1.421875 \nQ 29.59375 -1.421875 25.265625 0.953125 \nQ 20.953125 3.328125 18.109375 8.203125 \nz\nM 48.6875 27.296875 \nQ 48.6875 37.203125 44.609375 42.84375 \nQ 40.53125 48.484375 33.40625 48.484375 \nQ 26.265625 48.484375 22.1875 42.84375 \nQ 18.109375 37.203125 18.109375 27.296875 \nQ 18.109375 17.390625 22.1875 11.75 \nQ 26.265625 6.109375 33.40625 6.109375 \nQ 40.53125 6.109375 44.609375 11.75 \nQ 48.6875 17.390625 48.6875 27.296875 \nz\n\" id=\"DejaVuSans-112\"/>\n      <path d=\"M 41.109375 46.296875 \nQ 39.59375 47.171875 37.8125 47.578125 \nQ 36.03125 48 33.890625 48 \nQ 26.265625 48 22.1875 43.046875 \nQ 18.109375 38.09375 18.109375 28.8125 \nL 18.109375 0 \nL 9.078125 0 \nL 9.078125 54.6875 \nL 18.109375 54.6875 \nL 18.109375 46.1875 \nQ 20.953125 51.171875 25.484375 53.578125 \nQ 30.03125 56 36.53125 56 \nQ 37.453125 56 38.578125 55.875 \nQ 39.703125 55.765625 41.0625 55.515625 \nz\n\" id=\"DejaVuSans-114\"/>\n      <path d=\"M 48.6875 27.296875 \nQ 48.6875 37.203125 44.609375 42.84375 \nQ 40.53125 48.484375 33.40625 48.484375 \nQ 26.265625 48.484375 22.1875 42.84375 \nQ 18.109375 37.203125 18.109375 27.296875 \nQ 18.109375 17.390625 22.1875 11.75 \nQ 26.265625 6.109375 33.40625 6.109375 \nQ 40.53125 6.109375 44.609375 11.75 \nQ 48.6875 17.390625 48.6875 27.296875 \nz\nM 18.109375 46.390625 \nQ 20.953125 51.265625 25.265625 53.625 \nQ 29.59375 56 35.59375 56 \nQ 45.5625 56 51.78125 48.09375 \nQ 58.015625 40.1875 58.015625 27.296875 \nQ 58.015625 14.40625 51.78125 6.484375 \nQ 45.5625 -1.421875 35.59375 -1.421875 \nQ 29.59375 -1.421875 25.265625 0.953125 \nQ 20.953125 3.328125 18.109375 8.203125 \nL 18.109375 0 \nL 9.078125 0 \nL 9.078125 75.984375 \nL 18.109375 75.984375 \nz\n\" id=\"DejaVuSans-98\"/>\n      <path d=\"M 32.171875 -5.078125 \nQ 28.375 -14.84375 24.75 -17.8125 \nQ 21.140625 -20.796875 15.09375 -20.796875 \nL 7.90625 -20.796875 \nL 7.90625 -13.28125 \nL 13.1875 -13.28125 \nQ 16.890625 -13.28125 18.9375 -11.515625 \nQ 21 -9.765625 23.484375 -3.21875 \nL 25.09375 0.875 \nL 2.984375 54.6875 \nL 12.5 54.6875 \nL 29.59375 11.921875 \nL 46.6875 54.6875 \nL 56.203125 54.6875 \nz\n\" id=\"DejaVuSans-121\"/>\n     </defs>\n     <g style=\"fill:#262626;\" transform=\"translate(16.318125 86.114063)rotate(-90)scale(0.12 -0.12)\">\n      <use xlink:href=\"#DejaVuSans-112\"/>\n      <use x=\"63.476562\" xlink:href=\"#DejaVuSans-114\"/>\n      <use x=\"104.558594\" xlink:href=\"#DejaVuSans-111\"/>\n      <use x=\"165.740234\" xlink:href=\"#DejaVuSans-98\"/>\n      <use x=\"229.216797\" xlink:href=\"#DejaVuSans-97\"/>\n      <use x=\"290.496094\" xlink:href=\"#DejaVuSans-98\"/>\n      <use x=\"353.972656\" xlink:href=\"#DejaVuSans-105\"/>\n      <use x=\"381.755859\" xlink:href=\"#DejaVuSans-108\"/>\n      <use x=\"409.539062\" xlink:href=\"#DejaVuSans-105\"/>\n      <use x=\"437.322266\" xlink:href=\"#DejaVuSans-116\"/>\n      <use x=\"476.53125\" xlink:href=\"#DejaVuSans-121\"/>\n     </g>\n    </g>\n   </g>\n   <g id=\"line2d_10\">\n    <path clip-path=\"url(#pf163f863ba)\" d=\"M 22.81375 91.033636 \nL 265.826762 90.966171 \nL 269.34869 90.815728 \nL 272.870617 90.401447 \nL 274.631581 89.999328 \nL 276.392545 89.386242 \nL 278.153509 88.479235 \nL 279.914473 87.177742 \nL 281.675437 85.367262 \nL 283.436401 82.927204 \nL 285.197364 79.743516 \nL 286.958328 75.725877 \nL 288.719292 70.828166 \nL 290.480256 65.069697 \nL 292.24122 58.553601 \nL 299.285075 30.214117 \nL 301.046039 24.50474 \nL 302.807003 20.18656 \nL 304.567967 17.585998 \nL 306.328931 16.906364 \nL 308.089895 18.201593 \nL 309.850858 21.369181 \nL 311.611822 26.163578 \nL 313.372786 32.22764 \nL 316.894714 46.446548 \nL 320.416642 60.668604 \nL 322.177605 66.963835 \nL 323.938569 72.459205 \nL 325.699533 77.079504 \nL 327.460497 80.828133 \nL 329.221461 83.767386 \nL 330.982425 85.997117 \nL 332.743389 87.635076 \nL 334.504352 88.801074 \nL 336.265316 89.605871 \nL 338.02628 90.144734 \nL 339.787244 90.494876 \nL 343.309172 90.851032 \nL 348.592063 91.004174 \nL 364.440738 91.033607 \nL 461.29375 91.033636 \nL 461.29375 91.033636 \n\" style=\"fill:none;stroke:#dbb40c;stroke-linecap:round;stroke-width:7;\"/>\n   </g>\n   <g id=\"line2d_11\">\n    <path clip-path=\"url(#pf163f863ba)\" d=\"M 22.81375 91.033636 \nL 183.061461 90.938592 \nL 193.627244 90.708432 \nL 200.671099 90.353734 \nL 205.953991 89.901663 \nL 211.236883 89.217756 \nL 214.75881 88.596076 \nL 218.280738 87.815158 \nL 221.802666 86.853667 \nL 225.324593 85.693862 \nL 228.846521 84.323985 \nL 232.368449 82.740778 \nL 235.890377 80.95189 \nL 241.173268 77.93174 \nL 248.217123 73.496416 \nL 255.260979 69.060282 \nL 258.782907 67.039505 \nL 262.304834 65.262061 \nL 265.826762 63.806363 \nL 269.34869 62.739621 \nL 271.109654 62.368764 \nL 272.870617 62.112705 \nL 274.631581 61.974592 \nL 276.392545 61.956127 \nL 278.153509 62.057539 \nL 279.914473 62.277575 \nL 283.436401 63.061294 \nL 286.958328 64.269359 \nL 290.480256 65.844721 \nL 294.002184 67.71567 \nL 299.285075 70.898083 \nL 311.611822 78.65977 \nL 316.894714 81.593403 \nL 320.416642 83.31273 \nL 323.938569 84.822356 \nL 327.460497 86.118662 \nL 330.982425 87.208133 \nL 334.504352 88.104881 \nL 338.02628 88.828147 \nL 343.309172 89.636339 \nL 348.592063 90.180666 \nL 355.635919 90.616745 \nL 364.440738 90.878384 \nL 378.528449 91.007849 \nL 420.791581 91.033612 \nL 461.29375 91.033636 \nL 461.29375 91.033636 \n\" style=\"fill:none;stroke:#bf77f6;stroke-linecap:round;stroke-width:2;\"/>\n   </g>\n   <g id=\"line2d_12\">\n    <path clip-path=\"url(#pf163f863ba)\" d=\"M 22.81375 91.033636 \nL 269.34869 90.933433 \nL 272.870617 90.749231 \nL 276.392545 90.296509 \nL 278.153509 89.886668 \nL 279.914473 89.289028 \nL 281.675437 88.439565 \nL 283.436401 87.263099 \nL 285.197364 85.676138 \nL 286.958328 83.592173 \nL 288.719292 80.929665 \nL 290.480256 77.622569 \nL 292.24122 73.632722 \nL 294.002184 68.962827 \nL 295.763148 63.668228 \nL 299.285075 51.734621 \nL 302.807003 39.497567 \nL 304.567967 33.99327 \nL 306.328931 29.318627 \nL 308.089895 25.760157 \nL 309.850858 23.546625 \nL 311.611822 22.824728 \nL 313.372786 23.643013 \nL 315.13375 25.946476 \nL 316.894714 29.582681 \nL 318.655678 34.318441 \nL 320.416642 39.864546 \nL 327.460497 64.017984 \nL 329.221461 69.276032 \nL 330.982425 73.904157 \nL 332.743389 77.850622 \nL 334.504352 81.115667 \nL 336.265316 83.739594 \nL 338.02628 85.789774 \nL 339.787244 87.348346 \nL 341.548208 88.501835 \nL 343.309172 89.333338 \nL 345.070136 89.917396 \nL 346.831099 90.317282 \nL 350.353027 90.758035 \nL 355.635919 90.978168 \nL 366.201702 91.032419 \nL 461.29375 91.033636 \nL 461.29375 91.033636 \n\" style=\"fill:none;stroke:#cb416b;stroke-linecap:round;stroke-width:2;\"/>\n   </g>\n   <g id=\"line2d_13\">\n    <defs>\n     <path d=\"M 0 -6 \nL -6 6 \nL 6 6 \nz\n\" id=\"m854baee71b\" style=\"stroke:#1a1a1a;stroke-linejoin:miter;\"/>\n    </defs>\n    <g>\n     <use style=\"fill:#1a1a1a;stroke:#1a1a1a;stroke-linejoin:miter;\" x=\"296.86375\" xlink:href=\"#m854baee71b\" y=\"91.033636\"/>\n    </g>\n   </g>\n   <g id=\"patch_3\">\n    <path d=\"M 22.81375 94.74 \nL 22.81375 13.2 \n\" style=\"fill:none;stroke:#ffffff;stroke-linecap:square;stroke-linejoin:miter;stroke-width:1.25;\"/>\n   </g>\n   <g id=\"patch_4\">\n    <path d=\"M 461.29375 94.74 \nL 461.29375 13.2 \n\" style=\"fill:none;stroke:#ffffff;stroke-linecap:square;stroke-linejoin:miter;stroke-width:1.25;\"/>\n   </g>\n   <g id=\"patch_5\">\n    <path d=\"M 22.81375 94.74 \nL 461.29375 94.74 \n\" style=\"fill:none;stroke:#ffffff;stroke-linecap:square;stroke-linejoin:miter;stroke-width:1.25;\"/>\n   </g>\n   <g id=\"patch_6\">\n    <path d=\"M 22.81375 13.2 \nL 461.29375 13.2 \n\" style=\"fill:none;stroke:#ffffff;stroke-linecap:square;stroke-linejoin:miter;stroke-width:1.25;\"/>\n   </g>\n   <g id=\"legend_1\">\n    <g id=\"patch_7\">\n     <path d=\"M 468.29375 85.459063 \nL 623.475 85.459063 \nQ 625.475 85.459063 625.475 83.459063 \nL 625.475 24.480938 \nQ 625.475 22.480938 623.475 22.480938 \nL 468.29375 22.480938 \nQ 466.29375 22.480938 466.29375 24.480938 \nL 466.29375 83.459063 \nQ 466.29375 85.459063 468.29375 85.459063 \nz\n\" style=\"fill:#eaeaf2;opacity:0.8;stroke:#cccccc;stroke-linejoin:miter;\"/>\n    </g>\n    <g id=\"line2d_14\">\n     <path d=\"M 470.29375 30.680938 \nL 490.29375 30.680938 \n\" style=\"fill:none;stroke:#bf77f6;stroke-linecap:round;stroke-width:2;\"/>\n    </g>\n    <g id=\"line2d_15\"/>\n    <g id=\"text_12\">\n     <!-- $p(c_\\mathrm{V}|s)$ -->\n     <defs>\n      <path d=\"M 49.609375 33.6875 \nQ 49.609375 40.875 46.484375 44.671875 \nQ 43.359375 48.484375 37.5 48.484375 \nQ 33.5 48.484375 29.859375 46.4375 \nQ 26.21875 44.390625 23.390625 40.484375 \nQ 20.609375 36.625 18.9375 31.15625 \nQ 17.28125 25.6875 17.28125 20.3125 \nQ 17.28125 13.484375 20.40625 9.796875 \nQ 23.53125 6.109375 29.296875 6.109375 \nQ 33.546875 6.109375 37.1875 8.109375 \nQ 40.828125 10.109375 43.40625 13.921875 \nQ 46.1875 17.921875 47.890625 23.34375 \nQ 49.609375 28.765625 49.609375 33.6875 \nz\nM 21.78125 46.390625 \nQ 25.390625 51.125 30.296875 53.5625 \nQ 35.203125 56 41.21875 56 \nQ 49.609375 56 54.25 50.5 \nQ 58.890625 45.015625 58.890625 35.109375 \nQ 58.890625 27 56 19.65625 \nQ 53.125 12.3125 47.703125 6.5 \nQ 44.09375 2.640625 39.546875 0.609375 \nQ 35.015625 -1.421875 29.984375 -1.421875 \nQ 24.171875 -1.421875 20.21875 1 \nQ 16.265625 3.421875 14.3125 8.203125 \nL 8.6875 -20.796875 \nL -0.296875 -20.796875 \nL 14.40625 54.6875 \nL 23.390625 54.6875 \nz\n\" id=\"DejaVuSans-Oblique-112\"/>\n      <path d=\"M 31 75.875 \nQ 24.46875 64.65625 21.28125 53.65625 \nQ 18.109375 42.671875 18.109375 31.390625 \nQ 18.109375 20.125 21.3125 9.0625 \nQ 24.515625 -2 31 -13.1875 \nL 23.1875 -13.1875 \nQ 15.875 -1.703125 12.234375 9.375 \nQ 8.59375 20.453125 8.59375 31.390625 \nQ 8.59375 42.28125 12.203125 53.3125 \nQ 15.828125 64.359375 23.1875 75.875 \nz\n\" id=\"DejaVuSans-40\"/>\n      <path d=\"M 53.609375 52.59375 \nL 51.8125 43.703125 \nQ 48.578125 46.046875 44.9375 47.21875 \nQ 41.3125 48.390625 37.40625 48.390625 \nQ 33.109375 48.390625 29.21875 46.875 \nQ 25.34375 45.359375 22.703125 42.578125 \nQ 18.5 38.328125 16.203125 32.609375 \nQ 13.921875 26.90625 13.921875 20.796875 \nQ 13.921875 13.421875 17.609375 9.8125 \nQ 21.296875 6.203125 28.8125 6.203125 \nQ 32.515625 6.203125 36.6875 7.328125 \nQ 40.875 8.453125 45.40625 10.6875 \nL 43.703125 1.8125 \nQ 39.796875 0.203125 35.671875 -0.609375 \nQ 31.546875 -1.421875 27.203125 -1.421875 \nQ 16.3125 -1.421875 10.453125 4.015625 \nQ 4.59375 9.46875 4.59375 19.578125 \nQ 4.59375 28.078125 7.640625 35.234375 \nQ 10.6875 42.390625 16.703125 48.09375 \nQ 20.796875 52 26.3125 54 \nQ 31.84375 56 38.375 56 \nQ 42.1875 56 45.9375 55.140625 \nQ 49.703125 54.296875 53.609375 52.59375 \nz\n\" id=\"DejaVuSans-Oblique-99\"/>\n      <path d=\"M 28.609375 0 \nL 0.78125 72.90625 \nL 11.078125 72.90625 \nL 34.1875 11.53125 \nL 57.328125 72.90625 \nL 67.578125 72.90625 \nL 39.796875 0 \nz\n\" id=\"DejaVuSans-86\"/>\n      <path d=\"M 21 76.421875 \nL 21 -23.578125 \nL 12.703125 -23.578125 \nL 12.703125 76.421875 \nz\n\" id=\"DejaVuSans-124\"/>\n      <path d=\"M 8.015625 75.875 \nL 15.828125 75.875 \nQ 23.140625 64.359375 26.78125 53.3125 \nQ 30.421875 42.28125 30.421875 31.390625 \nQ 30.421875 20.453125 26.78125 9.375 \nQ 23.140625 -1.703125 15.828125 -13.1875 \nL 8.015625 -13.1875 \nQ 14.5 -2 17.703125 9.0625 \nQ 20.90625 20.125 20.90625 31.390625 \nQ 20.90625 42.671875 17.703125 53.65625 \nQ 14.5 64.65625 8.015625 75.875 \nz\n\" id=\"DejaVuSans-41\"/>\n     </defs>\n     <g style=\"fill:#262626;\" transform=\"translate(498.29375 34.180938)scale(0.1 -0.1)\">\n      <use transform=\"translate(0 0.578125)\" xlink:href=\"#DejaVuSans-Oblique-112\"/>\n      <use transform=\"translate(63.476562 0.578125)\" xlink:href=\"#DejaVuSans-40\"/>\n      <use transform=\"translate(102.490234 0.578125)\" xlink:href=\"#DejaVuSans-Oblique-99\"/>\n      <use transform=\"translate(157.470703 -15.828125)scale(0.7)\" xlink:href=\"#DejaVuSans-86\"/>\n      <use transform=\"translate(208.09082 0.578125)\" xlink:href=\"#DejaVuSans-124\"/>\n      <use transform=\"translate(241.782227 0.578125)\" xlink:href=\"#DejaVuSans-Oblique-115\"/>\n      <use transform=\"translate(293.881836 0.578125)\" xlink:href=\"#DejaVuSans-41\"/>\n     </g>\n    </g>\n    <g id=\"line2d_16\">\n     <path d=\"M 470.29375 45.780938 \nL 490.29375 45.780938 \n\" style=\"fill:none;stroke:#cb416b;stroke-linecap:round;stroke-width:2;\"/>\n    </g>\n    <g id=\"line2d_17\"/>\n    <g id=\"text_13\">\n     <!-- $p(c_\\mathrm{A}|s)$ -->\n     <defs>\n      <path d=\"M 34.1875 63.1875 \nL 20.796875 26.90625 \nL 47.609375 26.90625 \nz\nM 28.609375 72.90625 \nL 39.796875 72.90625 \nL 67.578125 0 \nL 57.328125 0 \nL 50.6875 18.703125 \nL 17.828125 18.703125 \nL 11.1875 0 \nL 0.78125 0 \nz\n\" id=\"DejaVuSans-65\"/>\n     </defs>\n     <g style=\"fill:#262626;\" transform=\"translate(498.29375 49.280938)scale(0.1 -0.1)\">\n      <use transform=\"translate(0 0.578125)\" xlink:href=\"#DejaVuSans-Oblique-112\"/>\n      <use transform=\"translate(63.476562 0.578125)\" xlink:href=\"#DejaVuSans-40\"/>\n      <use transform=\"translate(102.490234 0.578125)\" xlink:href=\"#DejaVuSans-Oblique-99\"/>\n      <use transform=\"translate(157.470703 -15.828125)scale(0.7)\" xlink:href=\"#DejaVuSans-65\"/>\n      <use transform=\"translate(208.09082 0.578125)\" xlink:href=\"#DejaVuSans-124\"/>\n      <use transform=\"translate(241.782227 0.578125)\" xlink:href=\"#DejaVuSans-Oblique-115\"/>\n      <use transform=\"translate(293.881836 0.578125)\" xlink:href=\"#DejaVuSans-41\"/>\n     </g>\n    </g>\n    <g id=\"line2d_18\">\n     <path d=\"M 470.29375 60.880938 \nL 490.29375 60.880938 \n\" style=\"fill:none;stroke:#dbb40c;stroke-linecap:round;stroke-width:7;\"/>\n    </g>\n    <g id=\"line2d_19\"/>\n    <g id=\"text_14\">\n     <!-- $p(c_\\mathrm{V}|s)\\ p(c_\\mathrm{A}|s)$ -->\n     <g style=\"fill:#262626;\" transform=\"translate(498.29375 64.380938)scale(0.1 -0.1)\">\n      <use transform=\"translate(0 0.578125)\" xlink:href=\"#DejaVuSans-Oblique-112\"/>\n      <use transform=\"translate(63.476562 0.578125)\" xlink:href=\"#DejaVuSans-40\"/>\n      <use transform=\"translate(102.490234 0.578125)\" xlink:href=\"#DejaVuSans-Oblique-99\"/>\n      <use transform=\"translate(157.470703 -15.828125)scale(0.7)\" xlink:href=\"#DejaVuSans-86\"/>\n      <use transform=\"translate(208.09082 0.578125)\" xlink:href=\"#DejaVuSans-124\"/>\n      <use transform=\"translate(241.782227 0.578125)\" xlink:href=\"#DejaVuSans-Oblique-115\"/>\n      <use transform=\"translate(293.881836 0.578125)\" xlink:href=\"#DejaVuSans-41\"/>\n      <use transform=\"translate(365.365886 0.578125)\" xlink:href=\"#DejaVuSans-Oblique-112\"/>\n      <use transform=\"translate(428.842449 0.578125)\" xlink:href=\"#DejaVuSans-40\"/>\n      <use transform=\"translate(467.856121 0.578125)\" xlink:href=\"#DejaVuSans-Oblique-99\"/>\n      <use transform=\"translate(522.836589 -15.828125)scale(0.7)\" xlink:href=\"#DejaVuSans-65\"/>\n      <use transform=\"translate(573.456707 0.578125)\" xlink:href=\"#DejaVuSans-124\"/>\n      <use transform=\"translate(607.148113 0.578125)\" xlink:href=\"#DejaVuSans-Oblique-115\"/>\n      <use transform=\"translate(659.247722 0.578125)\" xlink:href=\"#DejaVuSans-41\"/>\n     </g>\n    </g>\n    <g id=\"line2d_20\"/>\n    <g id=\"line2d_21\">\n     <g>\n      <use style=\"fill:#1a1a1a;stroke:#1a1a1a;stroke-linejoin:miter;\" x=\"480.29375\" xlink:href=\"#m854baee71b\" y=\"75.879375\"/>\n     </g>\n    </g>\n    <g id=\"text_15\">\n     <!-- true rattlesnake location -->\n     <defs>\n      <path d=\"M 8.5 21.578125 \nL 8.5 54.6875 \nL 17.484375 54.6875 \nL 17.484375 21.921875 \nQ 17.484375 14.15625 20.5 10.265625 \nQ 23.53125 6.390625 29.59375 6.390625 \nQ 36.859375 6.390625 41.078125 11.03125 \nQ 45.3125 15.671875 45.3125 23.6875 \nL 45.3125 54.6875 \nL 54.296875 54.6875 \nL 54.296875 0 \nL 45.3125 0 \nL 45.3125 8.40625 \nQ 42.046875 3.421875 37.71875 1 \nQ 33.40625 -1.421875 27.6875 -1.421875 \nQ 18.265625 -1.421875 13.375 4.4375 \nQ 8.5 10.296875 8.5 21.578125 \nz\nM 31.109375 56 \nz\n\" id=\"DejaVuSans-117\"/>\n      <path d=\"M 56.203125 29.59375 \nL 56.203125 25.203125 \nL 14.890625 25.203125 \nQ 15.484375 15.921875 20.484375 11.0625 \nQ 25.484375 6.203125 34.421875 6.203125 \nQ 39.59375 6.203125 44.453125 7.46875 \nQ 49.3125 8.734375 54.109375 11.28125 \nL 54.109375 2.78125 \nQ 49.265625 0.734375 44.1875 -0.34375 \nQ 39.109375 -1.421875 33.890625 -1.421875 \nQ 20.796875 -1.421875 13.15625 6.1875 \nQ 5.515625 13.8125 5.515625 26.8125 \nQ 5.515625 40.234375 12.765625 48.109375 \nQ 20.015625 56 32.328125 56 \nQ 43.359375 56 49.78125 48.890625 \nQ 56.203125 41.796875 56.203125 29.59375 \nz\nM 47.21875 32.234375 \nQ 47.125 39.59375 43.09375 43.984375 \nQ 39.0625 48.390625 32.421875 48.390625 \nQ 24.90625 48.390625 20.390625 44.140625 \nQ 15.875 39.890625 15.1875 32.171875 \nz\n\" id=\"DejaVuSans-101\"/>\n      <path d=\"M 44.28125 53.078125 \nL 44.28125 44.578125 \nQ 40.484375 46.53125 36.375 47.5 \nQ 32.28125 48.484375 27.875 48.484375 \nQ 21.1875 48.484375 17.84375 46.4375 \nQ 14.5 44.390625 14.5 40.28125 \nQ 14.5 37.15625 16.890625 35.375 \nQ 19.28125 33.59375 26.515625 31.984375 \nL 29.59375 31.296875 \nQ 39.15625 29.25 43.1875 25.515625 \nQ 47.21875 21.78125 47.21875 15.09375 \nQ 47.21875 7.46875 41.1875 3.015625 \nQ 35.15625 -1.421875 24.609375 -1.421875 \nQ 20.21875 -1.421875 15.453125 -0.5625 \nQ 10.6875 0.296875 5.421875 2 \nL 5.421875 11.28125 \nQ 10.40625 8.6875 15.234375 7.390625 \nQ 20.0625 6.109375 24.8125 6.109375 \nQ 31.15625 6.109375 34.5625 8.28125 \nQ 37.984375 10.453125 37.984375 14.40625 \nQ 37.984375 18.0625 35.515625 20.015625 \nQ 33.0625 21.96875 24.703125 23.78125 \nL 21.578125 24.515625 \nQ 13.234375 26.265625 9.515625 29.90625 \nQ 5.8125 33.546875 5.8125 39.890625 \nQ 5.8125 47.609375 11.28125 51.796875 \nQ 16.75 56 26.8125 56 \nQ 31.78125 56 36.171875 55.265625 \nQ 40.578125 54.546875 44.28125 53.078125 \nz\n\" id=\"DejaVuSans-115\"/>\n      <path d=\"M 9.078125 75.984375 \nL 18.109375 75.984375 \nL 18.109375 31.109375 \nL 44.921875 54.6875 \nL 56.390625 54.6875 \nL 27.390625 29.109375 \nL 57.625 0 \nL 45.90625 0 \nL 18.109375 26.703125 \nL 18.109375 0 \nL 9.078125 0 \nz\n\" id=\"DejaVuSans-107\"/>\n     </defs>\n     <g style=\"fill:#262626;\" transform=\"translate(498.29375 79.379375)scale(0.1 -0.1)\">\n      <use xlink:href=\"#DejaVuSans-116\"/>\n      <use x=\"39.208984\" xlink:href=\"#DejaVuSans-114\"/>\n      <use x=\"80.322266\" xlink:href=\"#DejaVuSans-117\"/>\n      <use x=\"143.701172\" xlink:href=\"#DejaVuSans-101\"/>\n      <use x=\"205.224609\" xlink:href=\"#DejaVuSans-32\"/>\n      <use x=\"237.011719\" xlink:href=\"#DejaVuSans-114\"/>\n      <use x=\"278.125\" xlink:href=\"#DejaVuSans-97\"/>\n      <use x=\"339.404297\" xlink:href=\"#DejaVuSans-116\"/>\n      <use x=\"378.613281\" xlink:href=\"#DejaVuSans-116\"/>\n      <use x=\"417.822266\" xlink:href=\"#DejaVuSans-108\"/>\n      <use x=\"445.605469\" xlink:href=\"#DejaVuSans-101\"/>\n      <use x=\"507.128906\" xlink:href=\"#DejaVuSans-115\"/>\n      <use x=\"559.228516\" xlink:href=\"#DejaVuSans-110\"/>\n      <use x=\"622.607422\" xlink:href=\"#DejaVuSans-97\"/>\n      <use x=\"683.886719\" xlink:href=\"#DejaVuSans-107\"/>\n      <use x=\"741.75\" xlink:href=\"#DejaVuSans-101\"/>\n      <use x=\"803.273438\" xlink:href=\"#DejaVuSans-32\"/>\n      <use x=\"835.060547\" xlink:href=\"#DejaVuSans-108\"/>\n      <use x=\"862.84375\" xlink:href=\"#DejaVuSans-111\"/>\n      <use x=\"924.025391\" xlink:href=\"#DejaVuSans-99\"/>\n      <use x=\"979.005859\" xlink:href=\"#DejaVuSans-97\"/>\n      <use x=\"1040.285156\" xlink:href=\"#DejaVuSans-116\"/>\n      <use x=\"1079.494141\" xlink:href=\"#DejaVuSans-105\"/>\n      <use x=\"1107.277344\" xlink:href=\"#DejaVuSans-111\"/>\n      <use x=\"1168.458984\" xlink:href=\"#DejaVuSans-110\"/>\n     </g>\n    </g>\n   </g>\n  </g>\n </g>\n <defs>\n  <clipPath id=\"pf163f863ba\">\n   <rect height=\"81.54\" width=\"438.48\" x=\"22.81375\" y=\"13.2\"/>\n  </clipPath>\n </defs>\n</svg>\n"
          },
          "metadata": {
            "tags": []
          }
        }
      ]
    },
    {
      "cell_type": "markdown",
      "metadata": {
        "id": "BT9gdS7viJZa",
        "colab_type": "text"
      },
      "source": [
        "### Assignment questions\n",
        "\n",
        "After you've worked on some code, answer the following questions in this text block:\n",
        "\n",
        "1.  Describe in a paragraph of text what you did and why, as if you were writing an email to somebody interested but nontechnical.\n",
        "\n",
        "2.  What was the most challenging part of what you did?\n",
        "\n",
        "3.  What was the most interesting thing you learned?\n",
        "\n",
        "4.  What area would you like to explore with more time?\n",
        "\n",
        "\n"
      ]
    },
    {
      "cell_type": "markdown",
      "metadata": {
        "id": "ynsJSstfsFo7",
        "colab_type": "text"
      },
      "source": [
        "1.)I initially imported a few Python libraries in order to have the code cell run the way I need it to.n I had to give the cell the correct code in order to produce the graph. Such as labeling the x & y axis, and having the cell create the graph only if the code is correct. \n",
        "2.) The most challenging part was trying to search for a notebook I could recreate that had the data still available. Some of the CSV Files were broken, and I was unable to have it read correctly. \n",
        "3.) The most interesting thing I learned today is that there is a VAST amount of things that Python can do. It's incredible. \n",
        "4.) I'd like to explore the creation of 3D Images and graphs in python. "
      ]
    },
    {
      "cell_type": "markdown",
      "metadata": {
        "id": "_XXg2crAipwP",
        "colab_type": "text"
      },
      "source": [
        "## Stretch goals and resources\n",
        "\n",
        "Following are *optional* things for you to take a look at. Focus on the above assignment first, and make sure to commit and push your changes to GitHub (and since this is the first assignment of the sprint, open a PR as well).\n",
        "\n",
        "- [pandas documentation](https://pandas.pydata.org/pandas-docs/stable/)\n",
        "- [scikit-learn documentation](http://scikit-learn.org/stable/documentation.html)\n",
        "- [matplotlib documentation](https://matplotlib.org/contents.html)\n",
        "- [Awesome Data Science](https://github.com/bulutyazilim/awesome-datascience) - a list of many types of DS resources\n",
        "\n",
        "Stretch goals:\n",
        "\n",
        "- Find and read blogs, walkthroughs, and other examples of people working through cool things with data science - and share with your classmates!\n",
        "- Write a blog post (Medium is a popular place to publish) introducing yourself as somebody learning data science, and talking about what you've learned already and what you're excited to learn more about."
      ]
    }
  ]
}