{
  "nbformat": 4,
  "nbformat_minor": 0,
  "metadata": {
    "colab": {
      "name": "LS_DS_111_A_First_Look_at_Data.ipynb",
      "version": "0.3.2",
      "provenance": [],
      "include_colab_link": true
    },
    "kernelspec": {
      "name": "python3",
      "display_name": "Python 3"
    }
  },
  "cells": [
    {
      "cell_type": "markdown",
      "metadata": {
        "id": "view-in-github",
        "colab_type": "text"
      },
      "source": [
        "<a href=\"https://colab.research.google.com/github/hurshd0/DS-Unit-1-Sprint-1-Dealing-With-Data/blob/master/module1-afirstlookatdata/LS_DS_111_A_First_Look_at_Data.ipynb\" target=\"_parent\"><img src=\"https://colab.research.google.com/assets/colab-badge.svg\" alt=\"Open In Colab\"/></a>"
      ]
    },
    {
      "cell_type": "markdown",
      "metadata": {
        "id": "Okfr_uhwhS1X",
        "colab_type": "text"
      },
      "source": [
        "# Lambda School Data Science - A First Look at Data\n",
        "\n"
      ]
    },
    {
      "cell_type": "markdown",
      "metadata": {
        "id": "9dtJETFRhnOG",
        "colab_type": "text"
      },
      "source": [
        "## Lecture - let's explore Python DS libraries and examples!\n",
        "\n",
        "The Python Data Science ecosystem is huge. You've seen some of the big pieces - pandas, scikit-learn, matplotlib. What parts do you want to see more of?"
      ]
    },
    {
      "cell_type": "code",
      "metadata": {
        "id": "WiBkgmPJhmhE",
        "colab_type": "code",
        "colab": {}
      },
      "source": [
        "# TODO - we'll be doing this live, taking requests\n",
        "# and reproducing what it is to look up and learn things"
      ],
      "execution_count": 0,
      "outputs": []
    },
    {
      "cell_type": "markdown",
      "metadata": {
        "id": "lOqaPds9huME",
        "colab_type": "text"
      },
      "source": [
        "## Assignment - now it's your turn\n",
        "\n",
        "Pick at least one Python DS library, and using documentation/examples reproduce in this notebook something cool. It's OK if you don't fully understand it or get it 100% working, but do put in effort and look things up."
      ]
    },
    {
      "cell_type": "code",
      "metadata": {
        "id": "TGUS79cOhPWj",
        "colab_type": "code",
        "outputId": "3ae29179-0017-409b-ad18-8d0b32e1a4df",
        "colab": {
          "base_uri": "https://localhost:8080/",
          "height": 489
        }
      },
      "source": [
        "from sklearn import tree\n",
        "import pandas as pd\n",
        "\n",
        "#create empty data frame\n",
        "golf_df = pd.DataFrame()\n",
        "\n",
        "#add outlook\n",
        "golf_df['Outlook'] = ['sunny', 'sunny', 'overcast', 'rainy', 'rainy', 'rainy', \n",
        "                     'overcast', 'sunny', 'sunny', 'rainy', 'sunny', 'overcast',\n",
        "                     'overcast', 'rainy']\n",
        "\n",
        "#add temperature\n",
        "golf_df['Temperature'] = ['hot', 'hot', 'hot', 'mild', 'cool', 'cool', 'cool',\n",
        "                         'mild', 'cool', 'mild', 'mild', 'mild', 'hot', 'mild']\n",
        "\n",
        "#add humidity\n",
        "golf_df['Humidity'] = ['high', 'high', 'high', 'high', 'normal', 'normal', 'normal',\n",
        "                      'high', 'normal', 'normal', 'normal', 'high', 'normal', 'high']\n",
        "\n",
        "#add windy\n",
        "golf_df['Windy'] = ['false', 'true', 'false', 'false', 'false', 'true', 'true',\n",
        "                   'false', 'false', 'false', 'true', 'true', 'false', 'true']\n",
        "\n",
        "#finally add play\n",
        "golf_df['Play'] = ['no', 'no', 'yes', 'yes', 'yes', 'no', 'yes', 'no', 'yes', 'yes', 'yes', \n",
        "                  'yes', 'yes', 'no']\n",
        "golf_df"
      ],
      "execution_count": 12,
      "outputs": [
        {
          "output_type": "execute_result",
          "data": {
            "text/html": [
              "<div>\n",
              "<style scoped>\n",
              "    .dataframe tbody tr th:only-of-type {\n",
              "        vertical-align: middle;\n",
              "    }\n",
              "\n",
              "    .dataframe tbody tr th {\n",
              "        vertical-align: top;\n",
              "    }\n",
              "\n",
              "    .dataframe thead th {\n",
              "        text-align: right;\n",
              "    }\n",
              "</style>\n",
              "<table border=\"1\" class=\"dataframe\">\n",
              "  <thead>\n",
              "    <tr style=\"text-align: right;\">\n",
              "      <th></th>\n",
              "      <th>Outlook</th>\n",
              "      <th>Temperature</th>\n",
              "      <th>Humidity</th>\n",
              "      <th>Windy</th>\n",
              "      <th>Play</th>\n",
              "    </tr>\n",
              "  </thead>\n",
              "  <tbody>\n",
              "    <tr>\n",
              "      <th>0</th>\n",
              "      <td>sunny</td>\n",
              "      <td>hot</td>\n",
              "      <td>high</td>\n",
              "      <td>false</td>\n",
              "      <td>no</td>\n",
              "    </tr>\n",
              "    <tr>\n",
              "      <th>1</th>\n",
              "      <td>sunny</td>\n",
              "      <td>hot</td>\n",
              "      <td>high</td>\n",
              "      <td>true</td>\n",
              "      <td>no</td>\n",
              "    </tr>\n",
              "    <tr>\n",
              "      <th>2</th>\n",
              "      <td>overcast</td>\n",
              "      <td>hot</td>\n",
              "      <td>high</td>\n",
              "      <td>false</td>\n",
              "      <td>yes</td>\n",
              "    </tr>\n",
              "    <tr>\n",
              "      <th>3</th>\n",
              "      <td>rainy</td>\n",
              "      <td>mild</td>\n",
              "      <td>high</td>\n",
              "      <td>false</td>\n",
              "      <td>yes</td>\n",
              "    </tr>\n",
              "    <tr>\n",
              "      <th>4</th>\n",
              "      <td>rainy</td>\n",
              "      <td>cool</td>\n",
              "      <td>normal</td>\n",
              "      <td>false</td>\n",
              "      <td>yes</td>\n",
              "    </tr>\n",
              "    <tr>\n",
              "      <th>5</th>\n",
              "      <td>rainy</td>\n",
              "      <td>cool</td>\n",
              "      <td>normal</td>\n",
              "      <td>true</td>\n",
              "      <td>no</td>\n",
              "    </tr>\n",
              "    <tr>\n",
              "      <th>6</th>\n",
              "      <td>overcast</td>\n",
              "      <td>cool</td>\n",
              "      <td>normal</td>\n",
              "      <td>true</td>\n",
              "      <td>yes</td>\n",
              "    </tr>\n",
              "    <tr>\n",
              "      <th>7</th>\n",
              "      <td>sunny</td>\n",
              "      <td>mild</td>\n",
              "      <td>high</td>\n",
              "      <td>false</td>\n",
              "      <td>no</td>\n",
              "    </tr>\n",
              "    <tr>\n",
              "      <th>8</th>\n",
              "      <td>sunny</td>\n",
              "      <td>cool</td>\n",
              "      <td>normal</td>\n",
              "      <td>false</td>\n",
              "      <td>yes</td>\n",
              "    </tr>\n",
              "    <tr>\n",
              "      <th>9</th>\n",
              "      <td>rainy</td>\n",
              "      <td>mild</td>\n",
              "      <td>normal</td>\n",
              "      <td>false</td>\n",
              "      <td>yes</td>\n",
              "    </tr>\n",
              "    <tr>\n",
              "      <th>10</th>\n",
              "      <td>sunny</td>\n",
              "      <td>mild</td>\n",
              "      <td>normal</td>\n",
              "      <td>true</td>\n",
              "      <td>yes</td>\n",
              "    </tr>\n",
              "    <tr>\n",
              "      <th>11</th>\n",
              "      <td>overcast</td>\n",
              "      <td>mild</td>\n",
              "      <td>high</td>\n",
              "      <td>true</td>\n",
              "      <td>yes</td>\n",
              "    </tr>\n",
              "    <tr>\n",
              "      <th>12</th>\n",
              "      <td>overcast</td>\n",
              "      <td>hot</td>\n",
              "      <td>normal</td>\n",
              "      <td>false</td>\n",
              "      <td>yes</td>\n",
              "    </tr>\n",
              "    <tr>\n",
              "      <th>13</th>\n",
              "      <td>rainy</td>\n",
              "      <td>mild</td>\n",
              "      <td>high</td>\n",
              "      <td>true</td>\n",
              "      <td>no</td>\n",
              "    </tr>\n",
              "  </tbody>\n",
              "</table>\n",
              "</div>"
            ],
            "text/plain": [
              "     Outlook Temperature Humidity  Windy Play\n",
              "0      sunny         hot     high  false   no\n",
              "1      sunny         hot     high   true   no\n",
              "2   overcast         hot     high  false  yes\n",
              "3      rainy        mild     high  false  yes\n",
              "4      rainy        cool   normal  false  yes\n",
              "5      rainy        cool   normal   true   no\n",
              "6   overcast        cool   normal   true  yes\n",
              "7      sunny        mild     high  false   no\n",
              "8      sunny        cool   normal  false  yes\n",
              "9      rainy        mild   normal  false  yes\n",
              "10     sunny        mild   normal   true  yes\n",
              "11  overcast        mild     high   true  yes\n",
              "12  overcast         hot   normal  false  yes\n",
              "13     rainy        mild     high   true   no"
            ]
          },
          "metadata": {
            "tags": []
          },
          "execution_count": 12
        }
      ]
    },
    {
      "cell_type": "code",
      "metadata": {
        "id": "p98BYF8_SEUH",
        "colab_type": "code",
        "outputId": "740bc595-440f-4d2e-e64c-55df66372152",
        "colab": {
          "base_uri": "https://localhost:8080/",
          "height": 329
        }
      },
      "source": [
        "# Sklearn Decision Tree needs numerical data\n",
        "one_hot_data = pd.get_dummies(golf_df[['Outlook', 'Temperature', 'Humidity', 'Windy']])\n",
        "# To make this conversation we use a method called One Hot Encoding\n",
        "print(one_hot_data)"
      ],
      "execution_count": 13,
      "outputs": [
        {
          "output_type": "stream",
          "text": [
            "    Outlook_overcast  Outlook_rainy  ...  Windy_false  Windy_true\n",
            "0                  0              0  ...            1           0\n",
            "1                  0              0  ...            0           1\n",
            "2                  1              0  ...            1           0\n",
            "3                  0              1  ...            1           0\n",
            "4                  0              1  ...            1           0\n",
            "5                  0              1  ...            0           1\n",
            "6                  1              0  ...            0           1\n",
            "7                  0              0  ...            1           0\n",
            "8                  0              0  ...            1           0\n",
            "9                  0              1  ...            1           0\n",
            "10                 0              0  ...            0           1\n",
            "11                 1              0  ...            0           1\n",
            "12                 1              0  ...            1           0\n",
            "13                 0              1  ...            0           1\n",
            "\n",
            "[14 rows x 10 columns]\n"
          ],
          "name": "stdout"
        }
      ]
    },
    {
      "cell_type": "code",
      "metadata": {
        "id": "A2XK9PaDSFos",
        "colab_type": "code",
        "outputId": "fa2f9a2b-4278-4a08-caa9-d4c70b6727fa",
        "colab": {
          "base_uri": "https://localhost:8080/",
          "height": 427
        }
      },
      "source": [
        "import graphviz\n",
        "from sklearn.tree import export_graphviz\n",
        "# We create empty decision tree classifier and assign it to the variable clf\n",
        "clf = tree.DecisionTreeClassifier()\n",
        "# We fit the decision tree with out one_hot_data and our target feature 'play'\n",
        "# and assign it to the clf_train\n",
        "clf_train = clf.fit(one_hot_data, golf_df['Play'])\n",
        "# Sklearn is automatically creating our Decision Tree questions for us\n",
        "# Example: Do I play golf when it is Overcast?\n",
        "tree_data = tree.export_graphviz(clf_train, feature_names=one_hot_data.columns, filled=True, rotate=True)\n",
        "graphviz.Source(tree_data)"
      ],
      "execution_count": 23,
      "outputs": [
        {
          "output_type": "execute_result",
          "data": {
            "text/plain": [
              "<graphviz.files.Source at 0x7f6b76ff7b38>"
            ],
            "image/svg+xml": "<?xml version=\"1.0\" encoding=\"UTF-8\" standalone=\"no\"?>\n<!DOCTYPE svg PUBLIC \"-//W3C//DTD SVG 1.1//EN\"\n \"http://www.w3.org/Graphics/SVG/1.1/DTD/svg11.dtd\">\n<!-- Generated by graphviz version 2.40.1 (20161225.0304)\n -->\n<!-- Title: Tree Pages: 1 -->\n<svg width=\"851pt\" height=\"305pt\"\n viewBox=\"0.00 0.00 851.00 305.00\" xmlns=\"http://www.w3.org/2000/svg\" xmlns:xlink=\"http://www.w3.org/1999/xlink\">\n<g id=\"graph0\" class=\"graph\" transform=\"scale(1 1) rotate(0) translate(4 301)\">\n<title>Tree</title>\n<polygon fill=\"#ffffff\" stroke=\"transparent\" points=\"-4,4 -4,-301 847,-301 847,4 -4,4\"/>\n<!-- 0 -->\n<g id=\"node1\" class=\"node\">\n<title>0</title>\n<polygon fill=\"#a7d3f3\" stroke=\"#000000\" points=\"161,-142.5 0,-142.5 0,-74.5 161,-74.5 161,-142.5\"/>\n<text text-anchor=\"middle\" x=\"80.5\" y=\"-127.3\" font-family=\"Times,serif\" font-size=\"14.00\" fill=\"#000000\">Outlook_overcast &lt;= 0.5</text>\n<text text-anchor=\"middle\" x=\"80.5\" y=\"-112.3\" font-family=\"Times,serif\" font-size=\"14.00\" fill=\"#000000\">gini = 0.459</text>\n<text text-anchor=\"middle\" x=\"80.5\" y=\"-97.3\" font-family=\"Times,serif\" font-size=\"14.00\" fill=\"#000000\">samples = 14</text>\n<text text-anchor=\"middle\" x=\"80.5\" y=\"-82.3\" font-family=\"Times,serif\" font-size=\"14.00\" fill=\"#000000\">value = [5, 9]</text>\n</g>\n<!-- 1 -->\n<g id=\"node2\" class=\"node\">\n<title>1</title>\n<polygon fill=\"#ffffff\" stroke=\"#000000\" points=\"346,-182.5 197,-182.5 197,-114.5 346,-114.5 346,-182.5\"/>\n<text text-anchor=\"middle\" x=\"271.5\" y=\"-167.3\" font-family=\"Times,serif\" font-size=\"14.00\" fill=\"#000000\">Humidity_high &lt;= 0.5</text>\n<text text-anchor=\"middle\" x=\"271.5\" y=\"-152.3\" font-family=\"Times,serif\" font-size=\"14.00\" fill=\"#000000\">gini = 0.5</text>\n<text text-anchor=\"middle\" x=\"271.5\" y=\"-137.3\" font-family=\"Times,serif\" font-size=\"14.00\" fill=\"#000000\">samples = 10</text>\n<text text-anchor=\"middle\" x=\"271.5\" y=\"-122.3\" font-family=\"Times,serif\" font-size=\"14.00\" fill=\"#000000\">value = [5, 5]</text>\n</g>\n<!-- 0&#45;&gt;1 -->\n<g id=\"edge1\" class=\"edge\">\n<title>0&#45;&gt;1</title>\n<path fill=\"none\" stroke=\"#000000\" d=\"M161.2244,-125.4056C169.713,-127.1834 178.3613,-128.9945 186.8921,-130.7811\"/>\n<polygon fill=\"#000000\" stroke=\"#000000\" points=\"186.3308,-134.2394 196.8359,-132.8635 187.7657,-127.388 186.3308,-134.2394\"/>\n<text text-anchor=\"middle\" x=\"175.9101\" y=\"-142.8423\" font-family=\"Times,serif\" font-size=\"14.00\" fill=\"#000000\">True</text>\n</g>\n<!-- 12 -->\n<g id=\"node13\" class=\"node\">\n<title>12</title>\n<polygon fill=\"#399de5\" stroke=\"#000000\" points=\"319,-96 224,-96 224,-43 319,-43 319,-96\"/>\n<text text-anchor=\"middle\" x=\"271.5\" y=\"-80.8\" font-family=\"Times,serif\" font-size=\"14.00\" fill=\"#000000\">gini = 0.0</text>\n<text text-anchor=\"middle\" x=\"271.5\" y=\"-65.8\" font-family=\"Times,serif\" font-size=\"14.00\" fill=\"#000000\">samples = 4</text>\n<text text-anchor=\"middle\" x=\"271.5\" y=\"-50.8\" font-family=\"Times,serif\" font-size=\"14.00\" fill=\"#000000\">value = [0, 4]</text>\n</g>\n<!-- 0&#45;&gt;12 -->\n<g id=\"edge12\" class=\"edge\">\n<title>0&#45;&gt;12</title>\n<path fill=\"none\" stroke=\"#000000\" d=\"M161.2244,-92.017C178.9303,-88.4017 197.3306,-84.6445 213.9109,-81.259\"/>\n<polygon fill=\"#000000\" stroke=\"#000000\" points=\"214.8792,-84.6336 223.9768,-79.2037 213.4787,-77.7751 214.8792,-84.6336\"/>\n<text text-anchor=\"middle\" x=\"203.1199\" y=\"-61.72\" font-family=\"Times,serif\" font-size=\"14.00\" fill=\"#000000\">False</text>\n</g>\n<!-- 2 -->\n<g id=\"node3\" class=\"node\">\n<title>2</title>\n<polygon fill=\"#6ab6ec\" stroke=\"#000000\" points=\"521,-225.5 393,-225.5 393,-157.5 521,-157.5 521,-225.5\"/>\n<text text-anchor=\"middle\" x=\"457\" y=\"-210.3\" font-family=\"Times,serif\" font-size=\"14.00\" fill=\"#000000\">Windy_true &lt;= 0.5</text>\n<text text-anchor=\"middle\" x=\"457\" y=\"-195.3\" font-family=\"Times,serif\" font-size=\"14.00\" fill=\"#000000\">gini = 0.32</text>\n<text text-anchor=\"middle\" x=\"457\" y=\"-180.3\" font-family=\"Times,serif\" font-size=\"14.00\" fill=\"#000000\">samples = 5</text>\n<text text-anchor=\"middle\" x=\"457\" y=\"-165.3\" font-family=\"Times,serif\" font-size=\"14.00\" fill=\"#000000\">value = [1, 4]</text>\n</g>\n<!-- 1&#45;&gt;2 -->\n<g id=\"edge2\" class=\"edge\">\n<title>1&#45;&gt;2</title>\n<path fill=\"none\" stroke=\"#000000\" d=\"M346.1481,-165.8039C358.2606,-168.6116 370.8015,-171.5187 382.9008,-174.3234\"/>\n<polygon fill=\"#000000\" stroke=\"#000000\" points=\"382.4092,-177.8021 392.9413,-176.6508 383.99,-170.983 382.4092,-177.8021\"/>\n</g>\n<!-- 7 -->\n<g id=\"node8\" class=\"node\">\n<title>7</title>\n<polygon fill=\"#eca06a\" stroke=\"#000000\" points=\"532,-139.5 382,-139.5 382,-71.5 532,-71.5 532,-139.5\"/>\n<text text-anchor=\"middle\" x=\"457\" y=\"-124.3\" font-family=\"Times,serif\" font-size=\"14.00\" fill=\"#000000\">Outlook_sunny &lt;= 0.5</text>\n<text text-anchor=\"middle\" x=\"457\" y=\"-109.3\" font-family=\"Times,serif\" font-size=\"14.00\" fill=\"#000000\">gini = 0.32</text>\n<text text-anchor=\"middle\" x=\"457\" y=\"-94.3\" font-family=\"Times,serif\" font-size=\"14.00\" fill=\"#000000\">samples = 5</text>\n<text text-anchor=\"middle\" x=\"457\" y=\"-79.3\" font-family=\"Times,serif\" font-size=\"14.00\" fill=\"#000000\">value = [4, 1]</text>\n</g>\n<!-- 1&#45;&gt;7 -->\n<g id=\"edge7\" class=\"edge\">\n<title>1&#45;&gt;7</title>\n<path fill=\"none\" stroke=\"#000000\" d=\"M346.1481,-131.1961C354.7063,-129.2123 363.4784,-127.1789 372.1574,-125.167\"/>\n<polygon fill=\"#000000\" stroke=\"#000000\" points=\"372.9492,-128.5764 381.9005,-122.9085 371.3684,-121.7572 372.9492,-128.5764\"/>\n</g>\n<!-- 3 -->\n<g id=\"node4\" class=\"node\">\n<title>3</title>\n<polygon fill=\"#399de5\" stroke=\"#000000\" points=\"687.5,-297 592.5,-297 592.5,-244 687.5,-244 687.5,-297\"/>\n<text text-anchor=\"middle\" x=\"640\" y=\"-281.8\" font-family=\"Times,serif\" font-size=\"14.00\" fill=\"#000000\">gini = 0.0</text>\n<text text-anchor=\"middle\" x=\"640\" y=\"-266.8\" font-family=\"Times,serif\" font-size=\"14.00\" fill=\"#000000\">samples = 3</text>\n<text text-anchor=\"middle\" x=\"640\" y=\"-251.8\" font-family=\"Times,serif\" font-size=\"14.00\" fill=\"#000000\">value = [0, 3]</text>\n</g>\n<!-- 2&#45;&gt;3 -->\n<g id=\"edge3\" class=\"edge\">\n<title>2&#45;&gt;3</title>\n<path fill=\"none\" stroke=\"#000000\" d=\"M521.0045,-219.1304C541.1998,-227.8486 563.3652,-237.4172 583.035,-245.9086\"/>\n<polygon fill=\"#000000\" stroke=\"#000000\" points=\"581.9029,-249.232 592.4711,-249.9821 584.6773,-242.8053 581.9029,-249.232\"/>\n</g>\n<!-- 4 -->\n<g id=\"node5\" class=\"node\">\n<title>4</title>\n<polygon fill=\"#ffffff\" stroke=\"#000000\" points=\"712,-225.5 568,-225.5 568,-157.5 712,-157.5 712,-225.5\"/>\n<text text-anchor=\"middle\" x=\"640\" y=\"-210.3\" font-family=\"Times,serif\" font-size=\"14.00\" fill=\"#000000\">Outlook_rainy &lt;= 0.5</text>\n<text text-anchor=\"middle\" x=\"640\" y=\"-195.3\" font-family=\"Times,serif\" font-size=\"14.00\" fill=\"#000000\">gini = 0.5</text>\n<text text-anchor=\"middle\" x=\"640\" y=\"-180.3\" font-family=\"Times,serif\" font-size=\"14.00\" fill=\"#000000\">samples = 2</text>\n<text text-anchor=\"middle\" x=\"640\" y=\"-165.3\" font-family=\"Times,serif\" font-size=\"14.00\" fill=\"#000000\">value = [1, 1]</text>\n</g>\n<!-- 2&#45;&gt;4 -->\n<g id=\"edge4\" class=\"edge\">\n<title>2&#45;&gt;4</title>\n<path fill=\"none\" stroke=\"#000000\" d=\"M521.0045,-191.5C532.8415,-191.5 545.3552,-191.5 557.6466,-191.5\"/>\n<polygon fill=\"#000000\" stroke=\"#000000\" points=\"557.8993,-195.0001 567.8993,-191.5 557.8993,-188.0001 557.8993,-195.0001\"/>\n</g>\n<!-- 5 -->\n<g id=\"node6\" class=\"node\">\n<title>5</title>\n<polygon fill=\"#399de5\" stroke=\"#000000\" points=\"843,-285 748,-285 748,-232 843,-232 843,-285\"/>\n<text text-anchor=\"middle\" x=\"795.5\" y=\"-269.8\" font-family=\"Times,serif\" font-size=\"14.00\" fill=\"#000000\">gini = 0.0</text>\n<text text-anchor=\"middle\" x=\"795.5\" y=\"-254.8\" font-family=\"Times,serif\" font-size=\"14.00\" fill=\"#000000\">samples = 1</text>\n<text text-anchor=\"middle\" x=\"795.5\" y=\"-239.8\" font-family=\"Times,serif\" font-size=\"14.00\" fill=\"#000000\">value = [0, 1]</text>\n</g>\n<!-- 4&#45;&gt;5 -->\n<g id=\"edge5\" class=\"edge\">\n<title>4&#45;&gt;5</title>\n<path fill=\"none\" stroke=\"#000000\" d=\"M712.2872,-222.6463C721.0462,-226.4202 729.8982,-230.2343 738.3955,-233.8955\"/>\n<polygon fill=\"#000000\" stroke=\"#000000\" points=\"737.2458,-237.2111 747.8146,-237.9539 740.0158,-230.7825 737.2458,-237.2111\"/>\n</g>\n<!-- 6 -->\n<g id=\"node7\" class=\"node\">\n<title>6</title>\n<polygon fill=\"#e58139\" stroke=\"#000000\" points=\"843,-214 748,-214 748,-161 843,-161 843,-214\"/>\n<text text-anchor=\"middle\" x=\"795.5\" y=\"-198.8\" font-family=\"Times,serif\" font-size=\"14.00\" fill=\"#000000\">gini = 0.0</text>\n<text text-anchor=\"middle\" x=\"795.5\" y=\"-183.8\" font-family=\"Times,serif\" font-size=\"14.00\" fill=\"#000000\">samples = 1</text>\n<text text-anchor=\"middle\" x=\"795.5\" y=\"-168.8\" font-family=\"Times,serif\" font-size=\"14.00\" fill=\"#000000\">value = [1, 0]</text>\n</g>\n<!-- 4&#45;&gt;6 -->\n<g id=\"edge6\" class=\"edge\">\n<title>4&#45;&gt;6</title>\n<path fill=\"none\" stroke=\"#000000\" d=\"M712.2872,-189.6405C720.7637,-189.4225 729.3272,-189.2022 737.5721,-188.9901\"/>\n<polygon fill=\"#000000\" stroke=\"#000000\" points=\"737.9079,-192.4827 747.8146,-188.7266 737.7279,-185.485 737.9079,-192.4827\"/>\n</g>\n<!-- 8 -->\n<g id=\"node9\" class=\"node\">\n<title>8</title>\n<polygon fill=\"#ffffff\" stroke=\"#000000\" points=\"704,-139.5 576,-139.5 576,-71.5 704,-71.5 704,-139.5\"/>\n<text text-anchor=\"middle\" x=\"640\" y=\"-124.3\" font-family=\"Times,serif\" font-size=\"14.00\" fill=\"#000000\">Windy_true &lt;= 0.5</text>\n<text text-anchor=\"middle\" x=\"640\" y=\"-109.3\" font-family=\"Times,serif\" font-size=\"14.00\" fill=\"#000000\">gini = 0.5</text>\n<text text-anchor=\"middle\" x=\"640\" y=\"-94.3\" font-family=\"Times,serif\" font-size=\"14.00\" fill=\"#000000\">samples = 2</text>\n<text text-anchor=\"middle\" x=\"640\" y=\"-79.3\" font-family=\"Times,serif\" font-size=\"14.00\" fill=\"#000000\">value = [1, 1]</text>\n</g>\n<!-- 7&#45;&gt;8 -->\n<g id=\"edge8\" class=\"edge\">\n<title>7&#45;&gt;8</title>\n<path fill=\"none\" stroke=\"#000000\" d=\"M532.2253,-105.5C543.3204,-105.5 554.7454,-105.5 565.819,-105.5\"/>\n<polygon fill=\"#000000\" stroke=\"#000000\" points=\"565.8705,-109.0001 575.8705,-105.5 565.8704,-102.0001 565.8705,-109.0001\"/>\n</g>\n<!-- 11 -->\n<g id=\"node12\" class=\"node\">\n<title>11</title>\n<polygon fill=\"#e58139\" stroke=\"#000000\" points=\"687.5,-53 592.5,-53 592.5,0 687.5,0 687.5,-53\"/>\n<text text-anchor=\"middle\" x=\"640\" y=\"-37.8\" font-family=\"Times,serif\" font-size=\"14.00\" fill=\"#000000\">gini = 0.0</text>\n<text text-anchor=\"middle\" x=\"640\" y=\"-22.8\" font-family=\"Times,serif\" font-size=\"14.00\" fill=\"#000000\">samples = 3</text>\n<text text-anchor=\"middle\" x=\"640\" y=\"-7.8\" font-family=\"Times,serif\" font-size=\"14.00\" fill=\"#000000\">value = [3, 0]</text>\n</g>\n<!-- 7&#45;&gt;11 -->\n<g id=\"edge11\" class=\"edge\">\n<title>7&#45;&gt;11</title>\n<path fill=\"none\" stroke=\"#000000\" d=\"M532.2253,-73.0257C549.2014,-65.6972 566.9498,-58.0353 583.0306,-51.0934\"/>\n<polygon fill=\"#000000\" stroke=\"#000000\" points=\"584.4937,-54.274 592.2876,-47.0972 581.7193,-47.8473 584.4937,-54.274\"/>\n</g>\n<!-- 9 -->\n<g id=\"node10\" class=\"node\">\n<title>9</title>\n<polygon fill=\"#399de5\" stroke=\"#000000\" points=\"843,-136 748,-136 748,-83 843,-83 843,-136\"/>\n<text text-anchor=\"middle\" x=\"795.5\" y=\"-120.8\" font-family=\"Times,serif\" font-size=\"14.00\" fill=\"#000000\">gini = 0.0</text>\n<text text-anchor=\"middle\" x=\"795.5\" y=\"-105.8\" font-family=\"Times,serif\" font-size=\"14.00\" fill=\"#000000\">samples = 1</text>\n<text text-anchor=\"middle\" x=\"795.5\" y=\"-90.8\" font-family=\"Times,serif\" font-size=\"14.00\" fill=\"#000000\">value = [0, 1]</text>\n</g>\n<!-- 8&#45;&gt;9 -->\n<g id=\"edge9\" class=\"edge\">\n<title>8&#45;&gt;9</title>\n<path fill=\"none\" stroke=\"#000000\" d=\"M704.1456,-107.15C715.177,-107.4338 726.5856,-107.7273 737.4453,-108.0066\"/>\n<polygon fill=\"#000000\" stroke=\"#000000\" points=\"737.5722,-111.511 747.6589,-108.2694 737.7522,-104.5133 737.5722,-111.511\"/>\n</g>\n<!-- 10 -->\n<g id=\"node11\" class=\"node\">\n<title>10</title>\n<polygon fill=\"#e58139\" stroke=\"#000000\" points=\"843,-65 748,-65 748,-12 843,-12 843,-65\"/>\n<text text-anchor=\"middle\" x=\"795.5\" y=\"-49.8\" font-family=\"Times,serif\" font-size=\"14.00\" fill=\"#000000\">gini = 0.0</text>\n<text text-anchor=\"middle\" x=\"795.5\" y=\"-34.8\" font-family=\"Times,serif\" font-size=\"14.00\" fill=\"#000000\">samples = 1</text>\n<text text-anchor=\"middle\" x=\"795.5\" y=\"-19.8\" font-family=\"Times,serif\" font-size=\"14.00\" fill=\"#000000\">value = [1, 0]</text>\n</g>\n<!-- 8&#45;&gt;10 -->\n<g id=\"edge10\" class=\"edge\">\n<title>8&#45;&gt;10</title>\n<path fill=\"none\" stroke=\"#000000\" d=\"M704.1456,-77.8617C715.5182,-72.9616 727.2916,-67.8888 738.4513,-63.0804\"/>\n<polygon fill=\"#000000\" stroke=\"#000000\" points=\"739.8601,-66.2846 747.6589,-59.1132 737.0901,-59.8559 739.8601,-66.2846\"/>\n</g>\n</g>\n</svg>\n"
          },
          "metadata": {
            "tags": []
          },
          "execution_count": 23
        }
      ]
    },
    {
      "cell_type": "code",
      "metadata": {
        "id": "Ey9nhHejSLGu",
        "colab_type": "code",
        "outputId": "8659d92d-288d-4d9a-a2b2-879bc68c3f9c",
        "colab": {
          "base_uri": "https://localhost:8080/",
          "height": 35
        }
      },
      "source": [
        "# sunny, hot, normal, true\n",
        "prediction = clf_train.predict([[0, 0, 1, 0, 1, 0, 0, 1, 0, 1]])\n",
        "print(prediction)"
      ],
      "execution_count": 15,
      "outputs": [
        {
          "output_type": "stream",
          "text": [
            "['yes']\n"
          ],
          "name": "stdout"
        }
      ]
    },
    {
      "cell_type": "code",
      "metadata": {
        "id": "Iu_bow30aShq",
        "colab_type": "code",
        "colab": {
          "base_uri": "https://localhost:8080/",
          "height": 35
        },
        "outputId": "aebaa8dd-07f2-4aa0-d364-196a89cf0af2"
      },
      "source": [
        "golf_df.columns"
      ],
      "execution_count": 19,
      "outputs": [
        {
          "output_type": "execute_result",
          "data": {
            "text/plain": [
              "Index(['Outlook', 'Temperature', 'Humidity', 'Windy', 'Play'], dtype='object')"
            ]
          },
          "metadata": {
            "tags": []
          },
          "execution_count": 19
        }
      ]
    },
    {
      "cell_type": "markdown",
      "metadata": {
        "id": "BT9gdS7viJZa",
        "colab_type": "text"
      },
      "source": [
        "### Assignment questions\n",
        "\n",
        "After you've worked on some code, answer the following questions in this text block:\n",
        "\n",
        "1.  Describe in a paragraph of text what you did and why, as if you were writing an email to somebody interested but nontechnical.\n",
        "\n",
        "\n",
        "\n",
        "\n",
        "2.  What was the most challenging part of what you did?\n",
        "\n",
        "3.  What was the most interesting thing you learned?\n",
        "\n",
        "4.  What area would you like to explore with more time?\n",
        "\n",
        "\n"
      ]
    },
    {
      "cell_type": "markdown",
      "metadata": {
        "id": "_XXg2crAipwP",
        "colab_type": "text"
      },
      "source": [
        "## Stretch goals and resources\n",
        "\n",
        "Following are *optional* things for you to take a look at. Focus on the above assignment first, and make sure to commit and push your changes to GitHub (and since this is the first assignment of the sprint, open a PR as well).\n",
        "\n",
        "- [pandas documentation](https://pandas.pydata.org/pandas-docs/stable/)\n",
        "- [scikit-learn documentation](http://scikit-learn.org/stable/documentation.html)\n",
        "- [matplotlib documentation](https://matplotlib.org/contents.html)\n",
        "- [Awesome Data Science](https://github.com/bulutyazilim/awesome-datascience) - a list of many types of DS resources\n",
        "\n",
        "Stretch goals:\n",
        "\n",
        "- Find and read blogs, walkthroughs, and other examples of people working through cool things with data science - and share with your classmates!\n",
        "- Write a blog post (Medium is a popular place to publish) introducing yourself as somebody learning data science, and talking about what you've learned already and what you're excited to learn more about."
      ]
    }
  ]
}