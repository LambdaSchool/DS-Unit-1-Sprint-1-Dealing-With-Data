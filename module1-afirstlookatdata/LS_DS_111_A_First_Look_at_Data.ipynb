{
  "nbformat": 4,
  "nbformat_minor": 0,
  "metadata": {
    "colab": {
      "name": "LS_DS_111_A_First_Look_at_Data.ipynb",
      "version": "0.3.2",
      "provenance": [],
      "include_colab_link": true
    },
    "kernelspec": {
      "name": "python3",
      "display_name": "Python 3"
    }
  },
  "cells": [
    {
      "cell_type": "markdown",
      "metadata": {
        "id": "view-in-github",
        "colab_type": "text"
      },
      "source": [
        "<a href=\"https://colab.research.google.com/github/AndrewMarksArt/DS-Unit-1-Sprint-1-Dealing-With-Data/blob/master/module1-afirstlookatdata/LS_DS_111_A_First_Look_at_Data.ipynb\" target=\"_parent\"><img src=\"https://colab.research.google.com/assets/colab-badge.svg\" alt=\"Open In Colab\"/></a>"
      ]
    },
    {
      "metadata": {
        "id": "Okfr_uhwhS1X",
        "colab_type": "text"
      },
      "cell_type": "markdown",
      "source": [
        "# Lambda School Data Science - A First Look at Data\n",
        "\n"
      ]
    },
    {
      "metadata": {
        "id": "9dtJETFRhnOG",
        "colab_type": "text"
      },
      "cell_type": "markdown",
      "source": [
        "## Lecture - let's explore Python DS libraries and examples!\n",
        "\n",
        "The Python Data Science ecosystem is huge. You've seen some of the big pieces - pandas, scikit-learn, matplotlib. What parts do you want to see more of?"
      ]
    },
    {
      "metadata": {
        "id": "WiBkgmPJhmhE",
        "colab_type": "code",
        "colab": {}
      },
      "cell_type": "code",
      "source": [
        "# TODO - we'll be doing this live, taking requests\n",
        "# and reproducing what it is to look up and learn things\n"
      ],
      "execution_count": 0,
      "outputs": []
    },
    {
      "metadata": {
        "id": "B6ORXkUlCMc3",
        "colab_type": "code",
        "colab": {}
      },
      "cell_type": "code",
      "source": [
        "import numpy as np\n",
        "import pandas as pd\n",
        "import matplotlib.pyplot as plt\n",
        "from matplotlib import colors\n",
        "%matplotlib inline"
      ],
      "execution_count": 0,
      "outputs": []
    },
    {
      "metadata": {
        "id": "C9CfpiaSCQCm",
        "colab_type": "code",
        "colab": {
          "base_uri": "https://localhost:8080/",
          "height": 35
        },
        "outputId": "c1ab793d-32f4-4de2-8c51-6eb7ad7363c9"
      },
      "cell_type": "code",
      "source": [
        "\n",
        "print(np.random.rand(), \"is a random number\")\n"
      ],
      "execution_count": 5,
      "outputs": [
        {
          "output_type": "stream",
          "text": [
            "0.30985436680330236 is a random number\n"
          ],
          "name": "stdout"
        }
      ]
    },
    {
      "metadata": {
        "id": "7Q-XsewUE-0p",
        "colab_type": "code",
        "colab": {
          "base_uri": "https://localhost:8080/",
          "height": 194
        },
        "outputId": "536a7276-6522-481c-d64e-87b5dcce3c30"
      },
      "cell_type": "code",
      "source": [
        "# example from lecture\n",
        "\n",
        "df_cali_train = pd.read_csv('sample_data/california_housing_train.csv')\n",
        "df_cali_test =  pd.read_csv('sample_data/california_housing_test.csv')\n",
        "df_cali_train.head()\n"
      ],
      "execution_count": 14,
      "outputs": [
        {
          "output_type": "execute_result",
          "data": {
            "text/html": [
              "<div>\n",
              "<style scoped>\n",
              "    .dataframe tbody tr th:only-of-type {\n",
              "        vertical-align: middle;\n",
              "    }\n",
              "\n",
              "    .dataframe tbody tr th {\n",
              "        vertical-align: top;\n",
              "    }\n",
              "\n",
              "    .dataframe thead th {\n",
              "        text-align: right;\n",
              "    }\n",
              "</style>\n",
              "<table border=\"1\" class=\"dataframe\">\n",
              "  <thead>\n",
              "    <tr style=\"text-align: right;\">\n",
              "      <th></th>\n",
              "      <th>longitude</th>\n",
              "      <th>latitude</th>\n",
              "      <th>housing_median_age</th>\n",
              "      <th>total_rooms</th>\n",
              "      <th>total_bedrooms</th>\n",
              "      <th>population</th>\n",
              "      <th>households</th>\n",
              "      <th>median_income</th>\n",
              "      <th>median_house_value</th>\n",
              "    </tr>\n",
              "  </thead>\n",
              "  <tbody>\n",
              "    <tr>\n",
              "      <th>0</th>\n",
              "      <td>-114.31</td>\n",
              "      <td>34.19</td>\n",
              "      <td>15.0</td>\n",
              "      <td>5612.0</td>\n",
              "      <td>1283.0</td>\n",
              "      <td>1015.0</td>\n",
              "      <td>472.0</td>\n",
              "      <td>1.4936</td>\n",
              "      <td>66900.0</td>\n",
              "    </tr>\n",
              "    <tr>\n",
              "      <th>1</th>\n",
              "      <td>-114.47</td>\n",
              "      <td>34.40</td>\n",
              "      <td>19.0</td>\n",
              "      <td>7650.0</td>\n",
              "      <td>1901.0</td>\n",
              "      <td>1129.0</td>\n",
              "      <td>463.0</td>\n",
              "      <td>1.8200</td>\n",
              "      <td>80100.0</td>\n",
              "    </tr>\n",
              "    <tr>\n",
              "      <th>2</th>\n",
              "      <td>-114.56</td>\n",
              "      <td>33.69</td>\n",
              "      <td>17.0</td>\n",
              "      <td>720.0</td>\n",
              "      <td>174.0</td>\n",
              "      <td>333.0</td>\n",
              "      <td>117.0</td>\n",
              "      <td>1.6509</td>\n",
              "      <td>85700.0</td>\n",
              "    </tr>\n",
              "    <tr>\n",
              "      <th>3</th>\n",
              "      <td>-114.57</td>\n",
              "      <td>33.64</td>\n",
              "      <td>14.0</td>\n",
              "      <td>1501.0</td>\n",
              "      <td>337.0</td>\n",
              "      <td>515.0</td>\n",
              "      <td>226.0</td>\n",
              "      <td>3.1917</td>\n",
              "      <td>73400.0</td>\n",
              "    </tr>\n",
              "    <tr>\n",
              "      <th>4</th>\n",
              "      <td>-114.57</td>\n",
              "      <td>33.57</td>\n",
              "      <td>20.0</td>\n",
              "      <td>1454.0</td>\n",
              "      <td>326.0</td>\n",
              "      <td>624.0</td>\n",
              "      <td>262.0</td>\n",
              "      <td>1.9250</td>\n",
              "      <td>65500.0</td>\n",
              "    </tr>\n",
              "  </tbody>\n",
              "</table>\n",
              "</div>"
            ],
            "text/plain": [
              "   longitude  latitude  housing_median_age  total_rooms  total_bedrooms  \\\n",
              "0    -114.31     34.19                15.0       5612.0          1283.0   \n",
              "1    -114.47     34.40                19.0       7650.0          1901.0   \n",
              "2    -114.56     33.69                17.0        720.0           174.0   \n",
              "3    -114.57     33.64                14.0       1501.0           337.0   \n",
              "4    -114.57     33.57                20.0       1454.0           326.0   \n",
              "\n",
              "   population  households  median_income  median_house_value  \n",
              "0      1015.0       472.0         1.4936             66900.0  \n",
              "1      1129.0       463.0         1.8200             80100.0  \n",
              "2       333.0       117.0         1.6509             85700.0  \n",
              "3       515.0       226.0         3.1917             73400.0  \n",
              "4       624.0       262.0         1.9250             65500.0  "
            ]
          },
          "metadata": {
            "tags": []
          },
          "execution_count": 14
        }
      ]
    },
    {
      "metadata": {
        "id": "k7cFON86GCdi",
        "colab_type": "code",
        "colab": {
          "base_uri": "https://localhost:8080/",
          "height": 35
        },
        "outputId": "cf0c1f5f-52d2-40ce-b34a-adb8713079f3"
      },
      "cell_type": "code",
      "source": [
        "# example from lecture\n",
        "\n",
        "my_dict = {'cal1': [1,2,3,4], 'col2': [10,20,30,40]}\n",
        "my_dict"
      ],
      "execution_count": 12,
      "outputs": [
        {
          "output_type": "execute_result",
          "data": {
            "text/plain": [
              "{'cal1': [1, 2, 3, 4], 'col2': [10, 20, 30, 40]}"
            ]
          },
          "metadata": {
            "tags": []
          },
          "execution_count": 12
        }
      ]
    },
    {
      "metadata": {
        "id": "vYUjwspoGXff",
        "colab_type": "code",
        "colab": {
          "base_uri": "https://localhost:8080/",
          "height": 164
        },
        "outputId": "51650948-551e-47ef-b3a6-6c7ec6aa03ee"
      },
      "cell_type": "code",
      "source": [
        "# example from lecture\n",
        "\n",
        "my_df = pd.DataFrame(my_dict)\n",
        "my_df\n"
      ],
      "execution_count": 13,
      "outputs": [
        {
          "output_type": "execute_result",
          "data": {
            "text/html": [
              "<div>\n",
              "<style scoped>\n",
              "    .dataframe tbody tr th:only-of-type {\n",
              "        vertical-align: middle;\n",
              "    }\n",
              "\n",
              "    .dataframe tbody tr th {\n",
              "        vertical-align: top;\n",
              "    }\n",
              "\n",
              "    .dataframe thead th {\n",
              "        text-align: right;\n",
              "    }\n",
              "</style>\n",
              "<table border=\"1\" class=\"dataframe\">\n",
              "  <thead>\n",
              "    <tr style=\"text-align: right;\">\n",
              "      <th></th>\n",
              "      <th>cal1</th>\n",
              "      <th>col2</th>\n",
              "    </tr>\n",
              "  </thead>\n",
              "  <tbody>\n",
              "    <tr>\n",
              "      <th>0</th>\n",
              "      <td>1</td>\n",
              "      <td>10</td>\n",
              "    </tr>\n",
              "    <tr>\n",
              "      <th>1</th>\n",
              "      <td>2</td>\n",
              "      <td>20</td>\n",
              "    </tr>\n",
              "    <tr>\n",
              "      <th>2</th>\n",
              "      <td>3</td>\n",
              "      <td>30</td>\n",
              "    </tr>\n",
              "    <tr>\n",
              "      <th>3</th>\n",
              "      <td>4</td>\n",
              "      <td>40</td>\n",
              "    </tr>\n",
              "  </tbody>\n",
              "</table>\n",
              "</div>"
            ],
            "text/plain": [
              "   cal1  col2\n",
              "0     1    10\n",
              "1     2    20\n",
              "2     3    30\n",
              "3     4    40"
            ]
          },
          "metadata": {
            "tags": []
          },
          "execution_count": 13
        }
      ]
    },
    {
      "metadata": {
        "id": "lOqaPds9huME",
        "colab_type": "text"
      },
      "cell_type": "markdown",
      "source": [
        "## Assignment - now it's your turn\n",
        "\n",
        "Pick at least one Python DS library, and using documentation/examples reproduce in this notebook something cool. It's OK if you don't fully understand it or get it 100% working, but do put in effort and look things up."
      ]
    },
    {
      "metadata": {
        "id": "TGUS79cOhPWj",
        "colab_type": "code",
        "colab": {}
      },
      "cell_type": "code",
      "source": [
        "# TODO - your code here\n",
        "# Use what we did live in lecture as an example\n",
        "\n",
        "# Create random normal distribution\n",
        "x = np.random.normal(scale = 1, size = 100000)\n",
        "n_bins = 50"
      ],
      "execution_count": 0,
      "outputs": []
    },
    {
      "metadata": {
        "id": "SarntZbxpEjg",
        "colab_type": "code",
        "colab": {
          "base_uri": "https://localhost:8080/",
          "height": 55
        },
        "outputId": "4e2591f7-aa97-45fc-bf4b-aff59b202356"
      },
      "cell_type": "code",
      "source": [
        "# look up styles available before importing colors above\n",
        "\n",
        "print (plt.style.available)"
      ],
      "execution_count": 68,
      "outputs": [
        {
          "output_type": "stream",
          "text": [
            "['seaborn-dark', 'seaborn-colorblind', 'seaborn-deep', 'seaborn-poster', '_classic_test', 'grayscale', 'dark_background', 'fast', 'seaborn-talk', 'seaborn', 'classic', 'tableau-colorblind10', 'bmh', 'ggplot', 'seaborn-bright', 'seaborn-pastel', 'Solarize_Light2', 'seaborn-ticks', 'seaborn-darkgrid', 'seaborn-paper', 'seaborn-notebook', 'seaborn-dark-palette', 'seaborn-muted', 'fivethirtyeight', 'seaborn-whitegrid', 'seaborn-white']\n"
          ],
          "name": "stdout"
        }
      ]
    },
    {
      "metadata": {
        "id": "JCjLKF_RpKBO",
        "colab_type": "code",
        "colab": {}
      },
      "cell_type": "code",
      "source": [
        "# set the style, since colors is being used it mostly for the background and axis \n",
        "\n",
        "plt.style.use('ggplot')"
      ],
      "execution_count": 0,
      "outputs": []
    },
    {
      "metadata": {
        "id": "3ncoEBTpkKj3",
        "colab_type": "code",
        "colab": {
          "base_uri": "https://localhost:8080/",
          "height": 719
        },
        "outputId": "c42db6aa-6a01-4aa1-c0b3-0ad01eef81fe"
      },
      "cell_type": "code",
      "source": [
        "# Plot the Histogram using colors\n",
        "\n",
        "# N is the count in each bin, bins is the lower-limit of the bin, patches is\n",
        "# the number of patches(rectangles) that make up the histogram\n",
        "N, bins, patches = plt.hist(x, bins=n_bins)\n",
        "\n",
        "# color code by height \n",
        "fracs = N / N.max()\n",
        "\n",
        "# we need to normalize the data to 0..1 for the full range of the colormap\n",
        "norm = colors.Normalize(fracs.min(), fracs.max())\n",
        "\n",
        "# Now, we'll loop through our objects and set the color of each accordingly\n",
        "for thisfrac, thispatch in zip(fracs, patches):\n",
        "    color = plt.cm.viridis(norm(thisfrac))\n",
        "    thispatch.set_facecolor(color)\n",
        "\n",
        "plt.hist(x, bins=n_bins, density=True)"
      ],
      "execution_count": 150,
      "outputs": [
        {
          "output_type": "execute_result",
          "data": {
            "text/plain": [
              "(array([5.90453732e-05, 1.77136120e-04, 2.95226866e-04, 4.72362985e-04,\n",
              "        1.65327045e-03, 2.24372418e-03, 2.89322329e-03, 6.37690030e-03,\n",
              "        9.50630508e-03, 1.36985266e-02, 2.27324687e-02, 3.05855033e-02,\n",
              "        4.71182078e-02, 6.11710066e-02, 9.10479655e-02, 1.19921153e-01,\n",
              "        1.51569473e-01, 1.87469060e-01, 2.28210367e-01, 2.71608717e-01,\n",
              "        3.09338710e-01, 3.42226983e-01, 3.72399169e-01, 3.95663046e-01,\n",
              "        3.97375362e-01, 3.91588915e-01, 3.82495928e-01, 3.59291096e-01,\n",
              "        3.23273418e-01, 2.90857508e-01, 2.52478016e-01, 2.00399997e-01,\n",
              "        1.67747905e-01, 1.33265407e-01, 1.01144724e-01, 7.43381248e-02,\n",
              "        5.55616962e-02, 3.76709481e-02, 2.55666466e-02, 1.66507952e-02,\n",
              "        1.08643487e-02, 6.49499105e-03, 3.95604000e-03, 2.12563343e-03,\n",
              "        1.18090746e-03, 6.49499105e-04, 5.31408359e-04, 3.54272239e-04,\n",
              "        1.77136120e-04, 5.90453732e-05]),\n",
              " array([-4.17813064, -4.00876936, -3.83940808, -3.6700468 , -3.50068552,\n",
              "        -3.33132424, -3.16196296, -2.99260168, -2.8232404 , -2.65387912,\n",
              "        -2.48451783, -2.31515655, -2.14579527, -1.97643399, -1.80707271,\n",
              "        -1.63771143, -1.46835015, -1.29898887, -1.12962759, -0.96026631,\n",
              "        -0.79090503, -0.62154375, -0.45218247, -0.28282119, -0.11345991,\n",
              "         0.05590137,  0.22526265,  0.39462393,  0.56398521,  0.73334649,\n",
              "         0.90270777,  1.07206905,  1.24143033,  1.41079161,  1.58015289,\n",
              "         1.74951417,  1.91887545,  2.08823673,  2.25759801,  2.42695929,\n",
              "         2.59632057,  2.76568186,  2.93504314,  3.10440442,  3.2737657 ,\n",
              "         3.44312698,  3.61248826,  3.78184954,  3.95121082,  4.1205721 ,\n",
              "         4.28993338]),\n",
              " <a list of 50 Patch objects>)"
            ]
          },
          "metadata": {
            "tags": []
          },
          "execution_count": 150
        },
        {
          "output_type": "display_data",
          "data": {
            "image/png": "[encoded data removed]",
            "text/plain": [
              "<Figure size 432x288 with 1 Axes>"
            ]
          },
          "metadata": {
            "tags": []
          }
        }
      ]
    },
    {
      "metadata": {
        "id": "h7xYj5pbqnq8",
        "colab_type": "code",
        "colab": {
          "base_uri": "https://localhost:8080/",
          "height": 230
        },
        "outputId": "2d0ab5ec-109b-43f5-8067-148c640dea32"
      },
      "cell_type": "code",
      "source": [
        "# from the training kit, garden store problem\n",
        "# list of dict of stores, year founded, revenues, and expenses \n",
        "\n",
        "stores = [{'Garden Store': 'Grow Mart', 'Year Founded': 1973, 'Revenues': 256000, 'Expenses': 183000},\n",
        "          {'Garden Store': 'Plant Depot', 'Year Founded': 1973, 'Revenues': 302000, 'Expenses': 240000},\n",
        "          {'Garden Store': \"Trees'R'Us\", 'Year Founded': 1985, 'Revenues': 123000, 'Expenses': 130000}]\n",
        "\n",
        "stores"
      ],
      "execution_count": 102,
      "outputs": [
        {
          "output_type": "execute_result",
          "data": {
            "text/plain": [
              "[{'Expenses': 183000,\n",
              "  'Garden Store': 'Grow Mart',\n",
              "  'Revenues': 256000,\n",
              "  'Year Founded': 1973},\n",
              " {'Expenses': 240000,\n",
              "  'Garden Store': 'Plant Depot',\n",
              "  'Revenues': 302000,\n",
              "  'Year Founded': 1973},\n",
              " {'Expenses': 130000,\n",
              "  'Garden Store': \"Trees'R'Us\",\n",
              "  'Revenues': 123000,\n",
              "  'Year Founded': 1985}]"
            ]
          },
          "metadata": {
            "tags": []
          },
          "execution_count": 102
        }
      ]
    },
    {
      "metadata": {
        "id": "t_oByvb4s5v_",
        "colab_type": "code",
        "colab": {
          "base_uri": "https://localhost:8080/",
          "height": 135
        },
        "outputId": "835f2a81-ae6d-4831-ba4d-e9d37e981fc2"
      },
      "cell_type": "code",
      "source": [
        "# create pandas df from list of dict\n",
        "\n",
        "df = pd.DataFrame(stores)\n",
        "df = df[['Garden Store', 'Year Founded', 'Revenues', 'Expenses']]\n",
        "df"
      ],
      "execution_count": 109,
      "outputs": [
        {
          "output_type": "execute_result",
          "data": {
            "text/html": [
              "<div>\n",
              "<style scoped>\n",
              "    .dataframe tbody tr th:only-of-type {\n",
              "        vertical-align: middle;\n",
              "    }\n",
              "\n",
              "    .dataframe tbody tr th {\n",
              "        vertical-align: top;\n",
              "    }\n",
              "\n",
              "    .dataframe thead th {\n",
              "        text-align: right;\n",
              "    }\n",
              "</style>\n",
              "<table border=\"1\" class=\"dataframe\">\n",
              "  <thead>\n",
              "    <tr style=\"text-align: right;\">\n",
              "      <th></th>\n",
              "      <th>Garden Store</th>\n",
              "      <th>Year Founded</th>\n",
              "      <th>Revenues</th>\n",
              "      <th>Expenses</th>\n",
              "    </tr>\n",
              "  </thead>\n",
              "  <tbody>\n",
              "    <tr>\n",
              "      <th>0</th>\n",
              "      <td>Grow Mart</td>\n",
              "      <td>1973</td>\n",
              "      <td>256000</td>\n",
              "      <td>183000</td>\n",
              "    </tr>\n",
              "    <tr>\n",
              "      <th>1</th>\n",
              "      <td>Plant Depot</td>\n",
              "      <td>1973</td>\n",
              "      <td>302000</td>\n",
              "      <td>240000</td>\n",
              "    </tr>\n",
              "    <tr>\n",
              "      <th>2</th>\n",
              "      <td>Trees'R'Us</td>\n",
              "      <td>1985</td>\n",
              "      <td>123000</td>\n",
              "      <td>130000</td>\n",
              "    </tr>\n",
              "  </tbody>\n",
              "</table>\n",
              "</div>"
            ],
            "text/plain": [
              "  Garden Store  Year Founded  Revenues  Expenses\n",
              "0    Grow Mart          1973    256000    183000\n",
              "1  Plant Depot          1973    302000    240000\n",
              "2   Trees'R'Us          1985    123000    130000"
            ]
          },
          "metadata": {
            "tags": []
          },
          "execution_count": 109
        }
      ]
    },
    {
      "metadata": {
        "id": "u3BPuWEZuV5b",
        "colab_type": "code",
        "colab": {
          "base_uri": "https://localhost:8080/",
          "height": 224
        },
        "outputId": "2c155dc8-2187-47c2-83ab-11029a697b66"
      },
      "cell_type": "code",
      "source": [
        "# create a new col for is profitable, originally set it to be true and then \n",
        "# change to false if not profitable\n",
        "\n",
        "df['is_profitable']= True\n",
        "df['is_profitable'][df['Expenses'] > df['Revenues']] = False"
      ],
      "execution_count": 115,
      "outputs": [
        {
          "output_type": "stream",
          "text": [
            "/usr/local/lib/python3.6/dist-packages/ipykernel_launcher.py:2: SettingWithCopyWarning: \n",
            "A value is trying to be set on a copy of a slice from a DataFrame\n",
            "\n",
            "See the caveats in the documentation: http://pandas.pydata.org/pandas-docs/stable/indexing.html#indexing-view-versus-copy\n",
            "  \n"
          ],
          "name": "stderr"
        },
        {
          "output_type": "execute_result",
          "data": {
            "text/html": [
              "<div>\n",
              "<style scoped>\n",
              "    .dataframe tbody tr th:only-of-type {\n",
              "        vertical-align: middle;\n",
              "    }\n",
              "\n",
              "    .dataframe tbody tr th {\n",
              "        vertical-align: top;\n",
              "    }\n",
              "\n",
              "    .dataframe thead th {\n",
              "        text-align: right;\n",
              "    }\n",
              "</style>\n",
              "<table border=\"1\" class=\"dataframe\">\n",
              "  <thead>\n",
              "    <tr style=\"text-align: right;\">\n",
              "      <th></th>\n",
              "      <th>Garden Store</th>\n",
              "      <th>Year Founded</th>\n",
              "      <th>Revenues</th>\n",
              "      <th>Expenses</th>\n",
              "      <th>is_profitable</th>\n",
              "    </tr>\n",
              "  </thead>\n",
              "  <tbody>\n",
              "    <tr>\n",
              "      <th>0</th>\n",
              "      <td>Grow Mart</td>\n",
              "      <td>1973</td>\n",
              "      <td>256000</td>\n",
              "      <td>183000</td>\n",
              "      <td>True</td>\n",
              "    </tr>\n",
              "    <tr>\n",
              "      <th>1</th>\n",
              "      <td>Plant Depot</td>\n",
              "      <td>1973</td>\n",
              "      <td>302000</td>\n",
              "      <td>240000</td>\n",
              "      <td>True</td>\n",
              "    </tr>\n",
              "    <tr>\n",
              "      <th>2</th>\n",
              "      <td>Trees'R'Us</td>\n",
              "      <td>1985</td>\n",
              "      <td>123000</td>\n",
              "      <td>130000</td>\n",
              "      <td>False</td>\n",
              "    </tr>\n",
              "  </tbody>\n",
              "</table>\n",
              "</div>"
            ],
            "text/plain": [
              "  Garden Store  Year Founded  Revenues  Expenses  is_profitable\n",
              "0    Grow Mart          1973    256000    183000           True\n",
              "1  Plant Depot          1973    302000    240000           True\n",
              "2   Trees'R'Us          1985    123000    130000          False"
            ]
          },
          "metadata": {
            "tags": []
          },
          "execution_count": 115
        }
      ]
    },
    {
      "metadata": {
        "id": "DiVyztfZxOhb",
        "colab_type": "code",
        "colab": {
          "base_uri": "https://localhost:8080/",
          "height": 135
        },
        "outputId": "e1b92865-21a8-4923-d474-6495de0ef095"
      },
      "cell_type": "code",
      "source": [
        "# add new col showing annual profits\n",
        "\n",
        "df['Profits'] = df['Revenues'] - df['Expenses']\n",
        "df"
      ],
      "execution_count": 120,
      "outputs": [
        {
          "output_type": "execute_result",
          "data": {
            "text/html": [
              "<div>\n",
              "<style scoped>\n",
              "    .dataframe tbody tr th:only-of-type {\n",
              "        vertical-align: middle;\n",
              "    }\n",
              "\n",
              "    .dataframe tbody tr th {\n",
              "        vertical-align: top;\n",
              "    }\n",
              "\n",
              "    .dataframe thead th {\n",
              "        text-align: right;\n",
              "    }\n",
              "</style>\n",
              "<table border=\"1\" class=\"dataframe\">\n",
              "  <thead>\n",
              "    <tr style=\"text-align: right;\">\n",
              "      <th></th>\n",
              "      <th>Garden Store</th>\n",
              "      <th>Year Founded</th>\n",
              "      <th>Revenues</th>\n",
              "      <th>Expenses</th>\n",
              "      <th>is_profitable</th>\n",
              "      <th>Profits</th>\n",
              "    </tr>\n",
              "  </thead>\n",
              "  <tbody>\n",
              "    <tr>\n",
              "      <th>0</th>\n",
              "      <td>Grow Mart</td>\n",
              "      <td>1973</td>\n",
              "      <td>256000</td>\n",
              "      <td>183000</td>\n",
              "      <td>True</td>\n",
              "      <td>73000</td>\n",
              "    </tr>\n",
              "    <tr>\n",
              "      <th>1</th>\n",
              "      <td>Plant Depot</td>\n",
              "      <td>1973</td>\n",
              "      <td>302000</td>\n",
              "      <td>240000</td>\n",
              "      <td>True</td>\n",
              "      <td>62000</td>\n",
              "    </tr>\n",
              "    <tr>\n",
              "      <th>2</th>\n",
              "      <td>Trees'R'Us</td>\n",
              "      <td>1985</td>\n",
              "      <td>123000</td>\n",
              "      <td>130000</td>\n",
              "      <td>False</td>\n",
              "      <td>-7000</td>\n",
              "    </tr>\n",
              "  </tbody>\n",
              "</table>\n",
              "</div>"
            ],
            "text/plain": [
              "  Garden Store  Year Founded  Revenues  Expenses  is_profitable  Profits\n",
              "0    Grow Mart          1973    256000    183000           True    73000\n",
              "1  Plant Depot          1973    302000    240000           True    62000\n",
              "2   Trees'R'Us          1985    123000    130000          False    -7000"
            ]
          },
          "metadata": {
            "tags": []
          },
          "execution_count": 120
        }
      ]
    },
    {
      "metadata": {
        "id": "BT9gdS7viJZa",
        "colab_type": "text"
      },
      "cell_type": "markdown",
      "source": [
        "### Assignment questions\n",
        "\n",
        "After you've worked on some code, answer the following questions in this text block:\n",
        "\n",
        "1.  Describe in a paragraph of text what you did and why, as if you were writing an email to somebody interested but nontechnical.\n",
        "\n",
        "I wanted to get a better feel for matplotlib and how to customize plots, I've never liked the standard colors for the plots I have done in the past so I used numpy to create a random normal distribution that was ploted using matplotlibs histogram. I looked at the documentation to see what other parameters plt.hist() used and how I could customize it, from there I looked online on how to change the colors. At first I used different styles available but wasn't happy with it so that what led me to look online for how to use more colors. From there I wanted some more practice using pandas df's so I took the problem from the training kit and followed that.\n",
        "\n",
        "2.  What was the most challenging part of what you did?\n",
        "\n",
        "Trying to figure out how to get more/better colors for plots, I still need to look into colors from matplotlib and how to map them. Digging into the documentation and looking at the parameters lead to lots of experimenting to figure out what they really do and I'm still a little unsure but excited to use this going forward.\n",
        "\n",
        "3.  What was the most interesting thing you learned?\n",
        "\n",
        "For me the most interesting part was how customizable the visuals can be but how much extra work goes into making them look good. There's a lot that can be done above the standard but looks like it will require lots of practice.\n",
        "\n",
        "4.  What area would you like to explore with more time?\n",
        "\n",
        "Matplotlib, I work a lot with telling stories with data and creating compeling visuals can be very difficult. Matplotlib seems really powerful and useful but to create more informative and cleaner plots requires using more than just the standard plots. \n"
      ]
    },
    {
      "metadata": {
        "id": "_XXg2crAipwP",
        "colab_type": "text"
      },
      "cell_type": "markdown",
      "source": [
        "## Stretch goals and resources\n",
        "\n",
        "Following are *optional* things for you to take a look at. Focus on the above assignment first, and make sure to commit and push your changes to GitHub (and since this is the first assignment of the sprint, open a PR as well).\n",
        "\n",
        "- [pandas documentation](https://pandas.pydata.org/pandas-docs/stable/)\n",
        "- [scikit-learn documentation](http://scikit-learn.org/stable/documentation.html)\n",
        "- [matplotlib documentation](https://matplotlib.org/contents.html)\n",
        "- [Awesome Data Science](https://github.com/bulutyazilim/awesome-datascience) - a list of many types of DS resources\n",
        "\n",
        "Stretch goals:\n",
        "\n",
        "- Find and read blogs, walkthroughs, and other examples of people working through cool things with data science - and share with your classmates!\n",
        "- Write a blog post (Medium is a popular place to publish) introducing yourself as somebody learning data science, and talking about what you've learned already and what you're excited to learn more about."
      ]
    }
  ]
}