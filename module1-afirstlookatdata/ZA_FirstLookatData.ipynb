{
  "nbformat": 4,
  "nbformat_minor": 0,
  "metadata": {
    "colab": {
      "name": "ZA_FirstLookatData.ipynb",
      "version": "0.3.2",
      "provenance": [],
      "collapsed_sections": [],
      "include_colab_link": true
    },
    "kernelspec": {
      "name": "python3",
      "display_name": "Python 3"
    }
  },
  "cells": [
    {
      "cell_type": "markdown",
      "metadata": {
        "id": "view-in-github",
        "colab_type": "text"
      },
      "source": [
        "<a href=\"https://colab.research.google.com/github/zangell44/DS-Sprint-01-Dealing-With-Data/blob/master/module1-afirstlookatdata/ZA_FirstLookatData.ipynb\" target=\"_parent\"><img src=\"https://colab.research.google.com/assets/colab-badge.svg\" alt=\"Open In Colab\"/></a>"
      ]
    },
    {
      "metadata": {
        "id": "NOPM4RMcjS1h",
        "colab_type": "text"
      },
      "cell_type": "markdown",
      "source": [
        "Exploratory notebook from DS01, Sprint 1, Module 1 https://learn.lambdaschool.com/ds/module/reccasf5wqyqo7fvm"
      ]
    },
    {
      "metadata": {
        "id": "Yel4d6sCNkaB",
        "colab_type": "code",
        "colab": {}
      },
      "cell_type": "code",
      "source": [
        "joe = { 'name': 'Joe', 'is_female': False, 'age': 19 }\n",
        "alice = { 'name': 'Alice', 'is_female': True, 'age': 20 }\n",
        "sarah = { 'name': 'Sarah', 'is_female': True, 'age': 20 }\n",
        "students = [joe, alice, sarah]"
      ],
      "execution_count": 0,
      "outputs": []
    },
    {
      "metadata": {
        "id": "OUL4gD2NN_4h",
        "colab_type": "code",
        "colab": {
          "base_uri": "https://localhost:8080/",
          "height": 34
        },
        "outputId": "1322528f-2cd5-40ce-a5b4-42d5f67bba78"
      },
      "cell_type": "code",
      "source": [
        "# print a dicitonary\n",
        "print (joe)"
      ],
      "execution_count": 2,
      "outputs": [
        {
          "output_type": "stream",
          "text": [
            "{'name': 'Joe', 'is_female': False, 'age': 19}\n"
          ],
          "name": "stdout"
        }
      ]
    },
    {
      "metadata": {
        "id": "xqRjeifbOo7g",
        "colab_type": "code",
        "colab": {
          "base_uri": "https://localhost:8080/",
          "height": 34
        },
        "outputId": "5abaf99c-d46e-4572-da00-39796b8a451d"
      },
      "cell_type": "code",
      "source": [
        "# print a list of dictionaries\n",
        "print (students)"
      ],
      "execution_count": 3,
      "outputs": [
        {
          "output_type": "stream",
          "text": [
            "[{'name': 'Joe', 'is_female': False, 'age': 19}, {'name': 'Alice', 'is_female': True, 'age': 20}, {'name': 'Sarah', 'is_female': True, 'age': 20}]\n"
          ],
          "name": "stdout"
        }
      ]
    },
    {
      "metadata": {
        "id": "n9uVLdHWO7-W",
        "colab_type": "code",
        "colab": {
          "base_uri": "https://localhost:8080/",
          "height": 34
        },
        "outputId": "1ca207b8-a6b7-4b48-bb47-4fdb498e5310"
      },
      "cell_type": "code",
      "source": [
        "# print a subset of a list of dictionaries\n",
        "print (students[1])"
      ],
      "execution_count": 4,
      "outputs": [
        {
          "output_type": "stream",
          "text": [
            "{'name': 'Alice', 'is_female': True, 'age': 20}\n"
          ],
          "name": "stdout"
        }
      ]
    },
    {
      "metadata": {
        "id": "Jtmv4wmyPBua",
        "colab_type": "code",
        "colab": {
          "base_uri": "https://localhost:8080/",
          "height": 68
        },
        "outputId": "3cdc3c0e-3885-4245-e9c1-61c97a26d207"
      },
      "cell_type": "code",
      "source": [
        "# print name and age from a dictionary\n",
        "for student in students:\n",
        "  print (student[\"name\"], \"is\", student[\"age\"])"
      ],
      "execution_count": 5,
      "outputs": [
        {
          "output_type": "stream",
          "text": [
            "Joe is 19\n",
            "Alice is 20\n",
            "Sarah is 20\n"
          ],
          "name": "stdout"
        }
      ]
    },
    {
      "metadata": {
        "id": "IVgbWYapRIXO",
        "colab_type": "code",
        "colab": {
          "base_uri": "https://localhost:8080/",
          "height": 68
        },
        "outputId": "c79fefa6-6f2c-4a70-da3e-3b9d4928f4b2"
      },
      "cell_type": "code",
      "source": [
        "# encoding company data\n",
        "grow_mart = {'founded' : 1973, 'revenue' : 265, 'expenses' : 183}\n",
        "plant_depot = {'founded' : 1973, 'revenue' : 302, 'expenses' : 240}\n",
        "trees_r_us = {'founded' : 1985, 'revenue' : 123, 'expenses' : 130}\n",
        "\n",
        "companies = [grow_mart, plant_depot, trees_r_us]\n",
        "\n",
        "for company in companies:\n",
        "  print (company)\n"
      ],
      "execution_count": 6,
      "outputs": [
        {
          "output_type": "stream",
          "text": [
            "{'founded': 1973, 'revenue': 265, 'expenses': 183}\n",
            "{'founded': 1973, 'revenue': 302, 'expenses': 240}\n",
            "{'founded': 1985, 'revenue': 123, 'expenses': 130}\n"
          ],
          "name": "stdout"
        }
      ]
    },
    {
      "metadata": {
        "id": "dr5YOqpGScVC",
        "colab_type": "code",
        "colab": {
          "base_uri": "https://localhost:8080/",
          "height": 68
        },
        "outputId": "a683b5ca-0121-4a8d-bbcc-00cdabc86537"
      },
      "cell_type": "code",
      "source": [
        "# adding is_profitable feature\n",
        "# profit = revenue - expenses\n",
        "# is_profitable is a binary variable, 1 if revenue > expenses and zero otherwise\n",
        "\n",
        "for company in companies:\n",
        "  company[\"is_profitable\"] = company[\"revenue\"] > company[\"expenses\"]\n",
        "  \n",
        "for company in companies:\n",
        "  print (company)"
      ],
      "execution_count": 7,
      "outputs": [
        {
          "output_type": "stream",
          "text": [
            "{'founded': 1973, 'revenue': 265, 'expenses': 183, 'is_profitable': True}\n",
            "{'founded': 1973, 'revenue': 302, 'expenses': 240, 'is_profitable': True}\n",
            "{'founded': 1985, 'revenue': 123, 'expenses': 130, 'is_profitable': False}\n"
          ],
          "name": "stdout"
        }
      ]
    },
    {
      "metadata": {
        "id": "SuLdmqIxTvRA",
        "colab_type": "code",
        "colab": {}
      },
      "cell_type": "code",
      "source": [
        ""
      ],
      "execution_count": 0,
      "outputs": []
    }
  ]
}