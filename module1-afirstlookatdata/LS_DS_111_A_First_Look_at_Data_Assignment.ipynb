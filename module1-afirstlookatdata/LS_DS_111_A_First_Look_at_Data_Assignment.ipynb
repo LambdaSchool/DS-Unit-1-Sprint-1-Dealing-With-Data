{
  "nbformat": 4,
  "nbformat_minor": 0,
  "metadata": {
    "colab": {
      "name": "LS_DS_111_A_First_Look_at_Data_Assignment.ipynb",
      "version": "0.3.2",
      "provenance": [],
      "collapsed_sections": [],
      "include_colab_link": true
    },
    "kernelspec": {
      "name": "python3",
      "display_name": "Python 3"
    }
  },
  "cells": [
    {
      "cell_type": "markdown",
      "metadata": {
        "id": "view-in-github",
        "colab_type": "text"
      },
      "source": [
        "<a href=\"https://colab.research.google.com/github/ToddMG/DS-Unit-1-Sprint-1-Dealing-With-Data/blob/master/module1-afirstlookatdata/LS_DS_111_A_First_Look_at_Data_Assignment.ipynb\" target=\"_parent\"><img src=\"https://colab.research.google.com/assets/colab-badge.svg\" alt=\"Open In Colab\"/></a>"
      ]
    },
    {
      "cell_type": "markdown",
      "metadata": {
        "id": "Okfr_uhwhS1X",
        "colab_type": "text"
      },
      "source": [
        "# Lambda School Data Science - A First Look at Data\n",
        "\n"
      ]
    },
    {
      "cell_type": "markdown",
      "metadata": {
        "id": "9dtJETFRhnOG",
        "colab_type": "text"
      },
      "source": [
        "## Lecture - let's explore Python DS libraries and examples!\n",
        "\n",
        "The Python Data Science ecosystem is huge. You've seen some of the big pieces - pandas, scikit-learn, matplotlib. What parts do you want to see more of?"
      ]
    },
    {
      "cell_type": "code",
      "metadata": {
        "id": "WiBkgmPJhmhE",
        "colab_type": "code",
        "outputId": "eaef459d-805f-474c-9899-ef4fd6c31aa5",
        "colab": {
          "base_uri": "https://localhost:8080/",
          "height": 35
        }
      },
      "source": [
        "# TODO - we'll be doing this live, taking requests\n",
        "# and reproducing what it is to look up and learn things\n",
        "\n",
        "print('I\\'ve heard a lot about tensor flow, conveniently enough Rudy Enriquez has a notebook on Tensors.')"
      ],
      "execution_count": 0,
      "outputs": [
        {
          "output_type": "stream",
          "text": [
            "I've heard a lot about tensor flow, conveniently enough Rudy Enriquez has a notebook on Tensors.\n"
          ],
          "name": "stdout"
        }
      ]
    },
    {
      "cell_type": "markdown",
      "metadata": {
        "id": "lOqaPds9huME",
        "colab_type": "text"
      },
      "source": [
        "## Assignment - now it's your turn\n",
        "\n",
        "Pick at least one Python DS library, and using documentation/examples reproduce in this notebook something cool. It's OK if you don't fully understand it or get it 100% working, but do put in effort and look things up."
      ]
    },
    {
      "cell_type": "markdown",
      "metadata": {
        "id": "x0BcsulMbpRe",
        "colab_type": "text"
      },
      "source": [
        "##Intro\n",
        "From what I understand, tensors are the alternative to numpy multi-dimensional arrays (that only use one data type) that can harness GPU strength.\n",
        "\n",
        "\n",
        "After doing some research, *tensors can be generalized as multi-dimensional matrices and they can range from 0 to N dimensions*.\n",
        "\n",
        "Unlike Matrices, tensors are *dynamic* and tend to warp as they're used in operation with other entities.\n",
        "\n",
        "\n",
        "There are multiple ways to create tensors from numpy:"
      ]
    },
    {
      "cell_type": "markdown",
      "metadata": {
        "id": "nhXdkLhSa1pn",
        "colab_type": "text"
      },
      "source": [
        "## **Dependencies**"
      ]
    },
    {
      "cell_type": "code",
      "metadata": {
        "id": "9b9yQq-0azd1",
        "colab_type": "code",
        "colab": {}
      },
      "source": [
        "import numpy as np\n",
        "import torch"
      ],
      "execution_count": 0,
      "outputs": []
    },
    {
      "cell_type": "markdown",
      "metadata": {
        "id": "UuSWGYK0a88m",
        "colab_type": "text"
      },
      "source": [
        "##Code"
      ]
    },
    {
      "cell_type": "code",
      "metadata": {
        "id": "TGUS79cOhPWj",
        "colab_type": "code",
        "colab": {}
      },
      "source": [
        "# TODO - your code here\n",
        "# Use what we did live in lecture as an example\n",
        "\n",
        "myArray = np.arange(6,10)\n",
        "\n",
        "myTensor1 = torch.from_numpy(myArray)\n",
        "myTensor2 = torch.as_tensor(myArray)\n",
        "myTensor3 = torch.tensor(myArray)"
      ],
      "execution_count": 0,
      "outputs": []
    },
    {
      "cell_type": "markdown",
      "metadata": {
        "id": "oqKuAtYddUO4",
        "colab_type": "text"
      },
      "source": [
        "##According to Rudy, the difference between the methods is:\n",
        "- The first and second method creates a variable that shares memory with the original array. \n",
        "- The last method creates a copy.\n",
        "\n",
        "Examples of modifying the different methods:"
      ]
    },
    {
      "cell_type": "code",
      "metadata": {
        "id": "IQA334iwd5QW",
        "colab_type": "code",
        "outputId": "dfc502a3-589e-4b28-8232-42788b8863ac",
        "colab": {
          "base_uri": "https://localhost:8080/",
          "height": 71
        }
      },
      "source": [
        "#Check the elements first\n",
        "print(f\"Elements of myArray: {myArray}\")\n",
        "print(f\"Elements of myTensor1: {myTensor1}\")\n",
        "print(f\"Elements of myTensor3: {myTensor3}\")"
      ],
      "execution_count": 0,
      "outputs": [
        {
          "output_type": "stream",
          "text": [
            "Elements of myArray: [6 7 8 9]\n",
            "Elements of myTensor1: tensor([6, 7, 8, 9])\n",
            "Elements of myTensor3: tensor([6, 7, 8, 9])\n"
          ],
          "name": "stdout"
        }
      ]
    },
    {
      "cell_type": "code",
      "metadata": {
        "id": "-HywZMw9evYt",
        "colab_type": "code",
        "outputId": "823bfb31-a092-44bf-c504-7f13fdfbc979",
        "colab": {
          "base_uri": "https://localhost:8080/",
          "height": 71
        }
      },
      "source": [
        "#Change the elements\n",
        "myArray[2] = 2340\n",
        "\n",
        "print(f\"Elements of myArray: {myArray}\")\n",
        "print(f\"Elements of myTensor1: {myTensor1}\")\n",
        "print(f\"Elements of myTensor3: {myTensor3}\")\n",
        "\n",
        "#Note to self: I'd be interested to know why there's extra blank spaces between the modified array."
      ],
      "execution_count": 0,
      "outputs": [
        {
          "output_type": "stream",
          "text": [
            "Elements of myArray: [   6    7 2340    9]\n",
            "Elements of myTensor1: tensor([   6,    7, 2340,    9])\n",
            "Elements of myTensor3: tensor([6, 7, 8, 9])\n"
          ],
          "name": "stdout"
        }
      ]
    },
    {
      "cell_type": "markdown",
      "metadata": {
        "id": "ivEKW8lihEw-",
        "colab_type": "text"
      },
      "source": [
        "##Now let's have some fun with third-order tensors\n"
      ]
    },
    {
      "cell_type": "code",
      "metadata": {
        "id": "Tg2Aj4Kvj33X",
        "colab_type": "code",
        "outputId": "4b216151-b4fd-49a0-80c5-10ffd1900823",
        "colab": {
          "base_uri": "https://localhost:8080/",
          "height": 521
        }
      },
      "source": [
        "#Define the Arrays\n",
        "xArray1 = np.random.randint(5, size=(3, 3, 3))\n",
        "xArray2 = np.random.randint(6,10, size=(3, 3 ,3))\n",
        "\n",
        "#Create the Tensors as copies\n",
        "nArray1 = torch.tensor(xArray1)\n",
        "nArray2 = torch.tensor(xArray2)\n",
        "\n",
        "#Check data types\n",
        "print(f\"Data type of tensor 1: {nArray1.dtype}\")\n",
        "print(f\"Data type of tensor 2: {nArray2.dtype}\\n\")\n",
        "\n",
        "print(f\"Tensor #1:\\n {nArray1}\")\n",
        "print(f\"\\nTensor #2:\\n {nArray2}\")"
      ],
      "execution_count": 0,
      "outputs": [
        {
          "output_type": "stream",
          "text": [
            "Data type of tensor 1: torch.int64\n",
            "Data type of tensor 2: torch.int64\n",
            "\n",
            "Tensor #1:\n",
            " tensor([[[2, 3, 0],\n",
            "         [1, 2, 4],\n",
            "         [4, 2, 4]],\n",
            "\n",
            "        [[3, 0, 3],\n",
            "         [3, 1, 3],\n",
            "         [1, 0, 4]],\n",
            "\n",
            "        [[4, 4, 0],\n",
            "         [2, 0, 1],\n",
            "         [3, 4, 1]]])\n",
            "\n",
            "Tensor #2:\n",
            " tensor([[[8, 7, 9],\n",
            "         [6, 9, 7],\n",
            "         [9, 6, 9]],\n",
            "\n",
            "        [[8, 6, 9],\n",
            "         [7, 9, 7],\n",
            "         [9, 8, 9]],\n",
            "\n",
            "        [[6, 7, 9],\n",
            "         [8, 9, 6],\n",
            "         [6, 6, 7]]])\n"
          ],
          "name": "stdout"
        }
      ]
    },
    {
      "cell_type": "markdown",
      "metadata": {
        "id": "nILdyP5Mj03A",
        "colab_type": "text"
      },
      "source": [
        "Tensor Addition and Subtraction"
      ]
    },
    {
      "cell_type": "code",
      "metadata": {
        "id": "MRurDdh4hMqm",
        "colab_type": "code",
        "outputId": "3b4bb901-0b90-4b7f-8433-31068b0c8b1d",
        "colab": {
          "base_uri": "https://localhost:8080/",
          "height": 467
        }
      },
      "source": [
        "print(\"Array #1 + Array #2:\")\n",
        "print(nArray1 + nArray2)\n",
        "\n",
        "print(\"\\nArray #1 - Array #2:\")\n",
        "print(nArray1 - nArray2)\n"
      ],
      "execution_count": 0,
      "outputs": [
        {
          "output_type": "stream",
          "text": [
            "Array #1 + Array #2:\n",
            "tensor([[[10, 10,  9],\n",
            "         [ 7, 11, 11],\n",
            "         [13,  8, 13]],\n",
            "\n",
            "        [[11,  6, 12],\n",
            "         [10, 10, 10],\n",
            "         [10,  8, 13]],\n",
            "\n",
            "        [[10, 11,  9],\n",
            "         [10,  9,  7],\n",
            "         [ 9, 10,  8]]])\n",
            "\n",
            "Array #1 - Array #2:\n",
            "tensor([[[-6, -4, -9],\n",
            "         [-5, -7, -3],\n",
            "         [-5, -4, -5]],\n",
            "\n",
            "        [[-5, -6, -6],\n",
            "         [-4, -8, -4],\n",
            "         [-8, -8, -5]],\n",
            "\n",
            "        [[-2, -3, -9],\n",
            "         [-6, -9, -5],\n",
            "         [-3, -2, -6]]])\n"
          ],
          "name": "stdout"
        }
      ]
    },
    {
      "cell_type": "markdown",
      "metadata": {
        "id": "j-OtI2tFmLVn",
        "colab_type": "text"
      },
      "source": [
        "Tensor Hadamard Product (Element-wise multiplication)"
      ]
    },
    {
      "cell_type": "code",
      "metadata": {
        "id": "f9sIt0YEmve_",
        "colab_type": "code",
        "outputId": "30988720-901f-474b-974a-5b5b7198c041",
        "colab": {
          "base_uri": "https://localhost:8080/",
          "height": 233
        }
      },
      "source": [
        "print(\"nArray1 * nArray2\")\n",
        "print(nArray1 * nArray2)"
      ],
      "execution_count": 0,
      "outputs": [
        {
          "output_type": "stream",
          "text": [
            "nArray1 * nArray2\n",
            "tensor([[[16, 21,  0],\n",
            "         [ 6, 18, 28],\n",
            "         [36, 12, 36]],\n",
            "\n",
            "        [[24,  0, 27],\n",
            "         [21,  9, 21],\n",
            "         [ 9,  0, 36]],\n",
            "\n",
            "        [[24, 28,  0],\n",
            "         [16,  0,  6],\n",
            "         [18, 24,  7]]])\n"
          ],
          "name": "stdout"
        }
      ]
    },
    {
      "cell_type": "markdown",
      "metadata": {
        "id": "HyGnnu5zfK0u",
        "colab_type": "text"
      },
      "source": [
        "##Voila! That's all she wrote. For now."
      ]
    },
    {
      "cell_type": "markdown",
      "metadata": {
        "id": "BT9gdS7viJZa",
        "colab_type": "text"
      },
      "source": [
        "### Assignment questions\n",
        "\n",
        "After you've worked on some code, answer the following questions in this text block:\n",
        "\n",
        "1.  Describe in a paragraph of text what you did and why, as if you were writing an email to somebody interested but nontechnical.\n",
        "\n",
        "Having heard a lot about a specific term, I decided to read Rudy Enriquez's brief intro on \"Tensors\". Having understood Tensors' use, I decided to mimic Rudy's demonstration of the difference between references and copies of an array. In the process, I learned print formatting and decided to make use of the scan function. I also did some research on Tensors and their use in the Data Science field. They're primarily seen within deep learning models. Vectors are otherwise known as first-order tensors, while matrices are known as second-order tensors. I then proceeded to do some 3D Tensor operations for fun.\n",
        "\n",
        "2.  What was the most challenging part of what you did?\n",
        "\n",
        "Finding the right arguments for creating a random 3D Array/Tensor.It wasn't all that hard, but it was the hardest part of my test.\n",
        "\n",
        "3.  What was the most interesting thing you learned?\n",
        "\n",
        "I'm starting to wrap my head around 3D Arrays. Tensors seem to have limitless dimensions, so it might get nasty fast. Getting better at handling lots of data is just another part of this journey!\n",
        "\n",
        "4.  What area would you like to explore with more time?\n",
        "\n",
        "Tensor's real world usage versus matrices. What real benefits do 2D Tensors (identical to matrices from what I understand) offer?\n",
        "\n"
      ]
    },
    {
      "cell_type": "markdown",
      "metadata": {
        "id": "_XXg2crAipwP",
        "colab_type": "text"
      },
      "source": [
        "## Stretch goals and resources\n",
        "\n",
        "Following are *optional* things for you to take a look at. Focus on the above assignment first, and make sure to commit and push your changes to GitHub (and since this is the first assignment of the sprint, open a PR as well).\n",
        "\n",
        "- [pandas documentation](https://pandas.pydata.org/pandas-docs/stable/)\n",
        "- [scikit-learn documentation](http://scikit-learn.org/stable/documentation.html)\n",
        "- [matplotlib documentation](https://matplotlib.org/contents.html)\n",
        "- [Awesome Data Science](https://github.com/bulutyazilim/awesome-datascience) - a list of many types of DS resources\n",
        "\n",
        "Stretch goals:\n",
        "\n",
        "- Find and read blogs, walkthroughs, and other examples of people working through cool things with data science - and share with your classmates!\n",
        "- Write a blog post (Medium is a popular place to publish) introducing yourself as somebody learning data science, and talking about what you've learned already and what you're excited to learn more about."
      ]
    },
    {
      "cell_type": "markdown",
      "metadata": {
        "id": "VkjAP1sNueSw",
        "colab_type": "text"
      },
      "source": [
        "#Here's my [blogpost!](https://medium.com/@ToddMG_/first-day-as-a-data-science-student-40ca2958a90)\n"
      ]
    }
  ]
}