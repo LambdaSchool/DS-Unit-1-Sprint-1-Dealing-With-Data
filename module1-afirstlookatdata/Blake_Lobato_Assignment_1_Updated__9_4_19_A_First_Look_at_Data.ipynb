{
  "nbformat": 4,
  "nbformat_minor": 0,
  "metadata": {
    "colab": {
      "name": "Blake Lobato -- Assignment #1_Updated _9_4_19-A_First_Look_at_Data.ipynb",
      "version": "0.3.2",
      "provenance": [],
      "include_colab_link": true
    },
    "kernelspec": {
      "name": "python3",
      "display_name": "Python 3"
    }
  },
  "cells": [
    {
      "cell_type": "markdown",
      "metadata": {
        "id": "view-in-github",
        "colab_type": "text"
      },
      "source": [
        "<a href=\"https://colab.research.google.com/github/blakelobato/DS-Unit-1-Sprint-1-Dealing-With-Data/blob/master/Blake_Lobato_Assignment_1_Updated__9_4_19_A_First_Look_at_Data.ipynb\" target=\"_parent\"><img src=\"https://colab.research.google.com/assets/colab-badge.svg\" alt=\"Open In Colab\"/></a>"
      ]
    },
    {
      "cell_type": "markdown",
      "metadata": {
        "id": "Okfr_uhwhS1X",
        "colab_type": "text"
      },
      "source": [
        "# Lambda School Data Science - A First Look at Data\n",
        "\n"
      ]
    },
    {
      "cell_type": "markdown",
      "metadata": {
        "id": "9dtJETFRhnOG",
        "colab_type": "text"
      },
      "source": [
        "## Lecture - let's explore Python DS libraries and examples!\n",
        "\n",
        "The Python Data Science ecosystem is huge. You've seen some of the big pieces - pandas, scikit-learn, matplotlib. What parts do you want to see more of?"
      ]
    },
    {
      "cell_type": "code",
      "metadata": {
        "id": "WiBkgmPJhmhE",
        "colab_type": "code",
        "outputId": "471fba89-aa50-426d-879f-31fab1fed4d8",
        "colab": {
          "base_uri": "https://localhost:8080/",
          "height": 34
        }
      },
      "source": [
        "2 + 2"
      ],
      "execution_count": 0,
      "outputs": [
        {
          "output_type": "execute_result",
          "data": {
            "text/plain": [
              "4"
            ]
          },
          "metadata": {
            "tags": []
          },
          "execution_count": 1
        }
      ]
    },
    {
      "cell_type": "markdown",
      "metadata": {
        "id": "lOqaPds9huME",
        "colab_type": "text"
      },
      "source": [
        "## Assignment - now it's your turn\n",
        "\n",
        "Pick at least one Python DS library, and using documentation/examples reproduce in this notebook something cool. It's OK if you don't fully understand it or get it 100% working, but do put in effort and look things up."
      ]
    },
    {
      "cell_type": "code",
      "metadata": {
        "id": "TGUS79cOhPWj",
        "colab_type": "code",
        "outputId": "8baee85d-1227-4dc9-a8e9-23b710f7fe4b",
        "colab": {
          "base_uri": "https://localhost:8080/",
          "height": 295
        }
      },
      "source": [
        "# TODO - your code here\n",
        "# Use what we did live in lecture as an example\n",
        "\n",
        "import matplotlib.pyplot as plt\n",
        "import numpy as np\n",
        "\n",
        "a = np.random.rand(10,1) # creates a 10x1 of numbers labeled a\n",
        "b = np.random.rand(10, 1) # creates 10x1 of numbers labeled b\n",
        "plt.plot(a, b, 'c>') #plotted with cyan triangles\n",
        "\n",
        "d = np.random.rand(15,1) # creates 15x1 of numbers labeled d\n",
        "e = np.random.rand(15,1) # creates 15x1 of numbers labeled e\n",
        "plt.plot(d, e, 'rp') #plotted with red pentagons\n",
        "\n",
        "plt.xlabel('alpha & delta') #labels x axis\n",
        "plt.ylabel('betas & epsilon') #labels y axis\n",
        "plt.title('Greek') #gives plot a title\n",
        "plt.grid(True) #turns on the grid\n",
        "plt.show()\n",
        "\n",
        "\n",
        "import pandas as pd\n",
        "df = pd.read_csv('https://raw.githubusercontent.com/ryanleeallred/datasets/master/messy-data.csv') #reads a csv file into the notebook\n",
        "df.head(10) #shows ten headings\n",
        "df.describe() #describes the types of each column\n",
        "df.epsilon = df.epsilon.fillna(df.epsilon.median()) #fills the Epsilon column with the median\n",
        "df.zeta = df.zeta.fillna(method='bfill') #back fills all the missing values in the Zeta column."
      ],
      "execution_count": 0,
      "outputs": [
        {
          "output_type": "display_data",
          "data": {
            "image/png": "[encoded data removed]",
            "text/plain": [
              "<Figure size 432x288 with 1 Axes>"
            ]
          },
          "metadata": {
            "tags": []
          }
        }
      ]
    },
    {
      "cell_type": "markdown",
      "metadata": {
        "id": "BT9gdS7viJZa",
        "colab_type": "text"
      },
      "source": [
        "### Assignment questions\n",
        "\n",
        "After you've worked on some code, answer the following questions in this text block:\n",
        "\n",
        "1.  Describe in a paragraph of text what you did and why, as if you were writing an email to somebody interested but nontechnical.\n",
        "\n",
        "2.  What was the most challenging part of what you did?\n",
        "\n",
        "3.  What was the most interesting thing you learned?\n",
        "\n",
        "4.  What area would you like to explore with more time?\n",
        "\n",
        "\n"
      ]
    },
    {
      "cell_type": "markdown",
      "metadata": {
        "id": "_4MGtXoNNdle",
        "colab_type": "text"
      },
      "source": [
        "1. What I decided to do for this aassignment was to create a plot via randomly generated data. I created two different arrays of x values and y values using a numpy library function 'random.rand()'. Next, I plotted these different data sets to see the results in a figure. I also experimented with the different plot attributes that can be editted in Python. The attributes I worked on included the following: applying grid lines to the plot, x and y axis labeles, plot title, different point markings, and different marking colors. This seems to be a critical feature of every coding langauge and it is always professional to have presentable figures. Plots are helpful to visualize the data and will be used in many aspects of data science, so I wanted to familarize myself with them early.\n",
        "\n",
        "I then explored some panda functionality. I was able to upload a dataset from github and then manipulate the unfilled entries. I was able to backfill the missing items and hard code one missing column to a 'No' string. These are a super powerful tool and I also wanted to get more used to uploading data sets. \n",
        "\n",
        "2. The most challenging part was finding the different attributes that can be change in the markings. I used this website 'https://matplotlib.org/3.1.1/api/_as_gen/matplotlib.pyplot.plot.html' to learn about different options for my labeles. This was very informative and useful. Other than that this wasn't extremely difficult for me due to my experience with coding languages and the precourse assignments.\n",
        "\n",
        "I had some challenges uploading data sets as I was getting errors on the data. This was fixed when I found a solid data set. \n",
        "\n",
        "3. The most interesting thing I learned were the different markings and colors. I always am fascinated by the images a computer can generate. I feel so accomplished when a nice plot or figure is decked out or clean after putting in the work to set it up. I = thought the massive amount of options were very cool.\n",
        "\n",
        "4. I would love to explore the world of images that Python can produce with its power. I definetly took a look at the two links Alex sent too. I think they are a fascinating aspect to data science. Furthermore, I have a great passion to learn more about machine learning as my ultimate goal is to implement that within some sort of astronatuical vehicle in the future. \n",
        "\n",
        "I thin the concept of uploading data is amazing from the internet especially with all the math related functions that can be run on the data to get results. "
      ]
    },
    {
      "cell_type": "markdown",
      "metadata": {
        "id": "_XXg2crAipwP",
        "colab_type": "text"
      },
      "source": [
        "## Stretch goals and resources\n",
        "\n",
        "Following are *optional* things for you to take a look at. Focus on the above assignment first, and make sure to commit and push your changes to GitHub (and since this is the first assignment of the sprint, open a PR as well).\n",
        "\n",
        "- [pandas documentation](https://pandas.pydata.org/pandas-docs/stable/)\n",
        "- [scikit-learn documentation](http://scikit-learn.org/stable/documentation.html)\n",
        "- [matplotlib documentation](https://matplotlib.org/contents.html)\n",
        "- [Awesome Data Science](https://github.com/bulutyazilim/awesome-datascience) - a list of many types of DS resources\n",
        "\n",
        "Stretch goals:\n",
        "\n",
        "- Find and read blogs, walkthroughs, and other examples of people working through cool things with data science - and share with your classmates!\n",
        "- Write a blog post (Medium is a popular place to publish) introducing yourself as somebody learning data science, and talking about what you've learned already and what you're excited to learn more about.\n",
        "\n",
        "I read this article on medium about Data Science and machine learning. The link the article is right here: https://medium.com/@ageitgey/machine-learning-is-fun-80ea3ec3c471. I thought this was a good 15 minute read that gives a very high level look at what data science is. It helped give me a better idea of the subject as well as make me more confident that I will enjoy diving deeper into this field. \n"
      ]
    }
  ]
}
