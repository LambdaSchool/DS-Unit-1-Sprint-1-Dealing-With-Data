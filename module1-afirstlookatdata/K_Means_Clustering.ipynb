{
  "nbformat": 4,
  "nbformat_minor": 0,
  "metadata": {
    "colab": {
      "name": "K-Means Clustering.ipynb",
      "version": "0.3.2",
      "provenance": [],
      "include_colab_link": true
    },
    "kernelspec": {
      "name": "python3",
      "display_name": "Python 3"
    }
  },
  "cells": [
    {
      "cell_type": "markdown",
      "metadata": {
        "id": "view-in-github",
        "colab_type": "text"
      },
      "source": [
        "<a href=\"https://colab.research.google.com/github/quinn-dougherty/DS-Sprint-01-Dealing-With-Data/blob/master/module1-afirstlookatdata/K_Means_Clustering.ipynb\" target=\"_parent\"><img src=\"https://colab.research.google.com/assets/colab-badge.svg\" alt=\"Open In Colab\"/></a>"
      ]
    },
    {
      "metadata": {
        "id": "1w66Q7RdVmQi",
        "colab_type": "code",
        "colab": {}
      },
      "cell_type": "code",
      "source": [
        "## chapter 20 in this book http://www.inference.org.uk/itprnn/book.pdf\n",
        "\n",
        "import numpy as np\n",
        "import random as r\n",
        "\n",
        "# we're gonna cluster this 2d toydata into 4 clusters\n",
        "t = 100\n",
        "N = 75\n",
        "\n",
        "tdX = [t * r.random() for _ in range(N)]\n",
        "tdY = [t * r.random() for _ in range(N)] \n",
        "tdZ = [None for _ in range(N)]\n",
        "\n",
        "# td :: ([float],[float],[int])\n",
        "td = (tdX, tdY, tdZ)\n",
        "\n",
        "# The point of the third feature will be to denote which centroid is responsible for datapoint n. It will be marked something in range(K). \n"
      ],
      "execution_count": 0,
      "outputs": []
    },
    {
      "metadata": {
        "id": "dIItcXYlXpCL",
        "colab_type": "code",
        "colab": {}
      },
      "cell_type": "code",
      "source": [
        "# K-means clustering\n",
        "\n",
        "# fix K\n",
        "K = 3\n",
        "\n",
        "# init means, our first-guess centroids\n",
        "mX = [t * r.random() for _ in range(K)]\n",
        "mY = [t * r.random() for _ in range(K)]\n",
        "\n",
        "\n",
        "m = (mX, mY)\n"
      ],
      "execution_count": 0,
      "outputs": []
    },
    {
      "metadata": {
        "id": "rNNxnzUWj2O_",
        "colab_type": "code",
        "colab": {
          "base_uri": "https://localhost:8080/",
          "height": 347
        },
        "outputId": "02ea576d-d2a1-4bdd-9b17-fc8311ca7866"
      },
      "cell_type": "code",
      "source": [
        "## show graph\n",
        "\n",
        "import matplotlib.pyplot as plt\n",
        "\n",
        "# cluster colors\n",
        "# cm = rand_cmap(K)\n",
        "cm = ['r', 'b', 'g', 'm', 'y']\n",
        "\n",
        "fig = plt.figure()\n",
        "ax = fig.add_subplot(111)\n",
        "\n",
        "ax.scatter(td[0], td[1], s=50, c='GREY', marker='s', label='toydata')\n",
        "for k in range(K): \n",
        "  ax.scatter(m[0][k], m[1][k], s=100, c=cm[k], marker=11, label='means')\n",
        "\n",
        "# plt.legend(loc='upper left');\n",
        "plt.show()"
      ],
      "execution_count": 9,
      "outputs": [
        {
          "output_type": "display_data",
          "data": {
            "image/png": "[encoded data removed]",
            "text/plain": [
              "<matplotlib.figure.Figure at 0x7f9c6038bba8>"
            ]
          },
          "metadata": {
            "tags": []
          }
        }
      ]
    },
    {
      "metadata": {
        "id": "c7i5ogBeu9se",
        "colab_type": "code",
        "colab": {
          "base_uri": "https://localhost:8080/",
          "height": 347
        },
        "outputId": "decd11ed-7cc0-4a69-9113-c340a7bbe361"
      },
      "cell_type": "code",
      "source": [
        "from functools import partial\n",
        "from math import sqrt\n",
        "\n",
        "# d : [float]^2 -> [float]^2 -> float\n",
        "def d(m,xs):\n",
        "  # euclidean distance between two points over R2\n",
        "  return sqrt( (xs[0]-m[0])**2 + (xs[1]-m[1])**2 )\n",
        "  \n",
        "def de(ms,xs):\n",
        "  # distance suggested in book, \n",
        "  return (1.0/2) * ( (xs[0]-ms[0])**2 + (xs[1]-ms[1])**2 )\n",
        "\n",
        "# td0 :: [(float,float)]\n",
        "td0 = list(zip(tdX,tdY))\n",
        "\n",
        "m0 = list(zip(mX,mY))\n",
        "\n",
        "\n",
        "def argmin(f, s=K):\n",
        "  # for functions [0..s-1] -> Num, take a min over all its outputs and figure out which input made that one\n",
        "  # # Where s is the size of the domain of f, according to what we're interested in\n",
        "  x=None # init input \n",
        "  y=t**K # init output\n",
        "  for k in range(s): \n",
        "    if (f(k) < y):\n",
        "      x=k\n",
        "      y=f(k)\n",
        "    else:\n",
        "      continue\n",
        "  return x\n",
        "\n",
        "def f0(k): \n",
        "  return d(m0[k], td0[0])\n",
        "\n",
        "def f(k,n): \n",
        "  xs = (m[0][k], m[1][k])\n",
        "  ys = (td[0][n], td[0][n])\n",
        "  return de(xs, ys)\n",
        "\n",
        "\n",
        "def assignment(D=td): \n",
        "  for n in range(N): \n",
        "    D[2][n] = argmin(partial(f, n=n))\n",
        "  return None\n",
        "\n",
        "assignment() # Run the assignment step\n",
        "\n",
        "fig = plt.figure()\n",
        "ax = fig.add_subplot(111)\n",
        "\n",
        "#ax.scatter(td[0], td[1], s=50, c='GREY', marker='s', label='toydata')\n",
        "for k in range(K): \n",
        "  ax.plot(m[0][k], m[1][k], markersize=10, c=cm[k], marker=11, linewidth=0)\n",
        "\n",
        "for n in range(N): \n",
        "  ax.plot(td[0][n], td[1][n], markersize=7, c=cm[td[2][n]], marker='s', label='toydata', linewidth=0)\n",
        "\n",
        "plt.show()\n"
      ],
      "execution_count": 10,
      "outputs": [
        {
          "output_type": "display_data",
          "data": {
            "image/png": "[encoded data removed]",
            "text/plain": [
              "<matplotlib.figure.Figure at 0x7f9c604d23c8>"
            ]
          },
          "metadata": {
            "tags": []
          }
        }
      ]
    },
    {
      "metadata": {
        "id": "Bc24RQmbuH2r",
        "colab_type": "code",
        "colab": {}
      },
      "cell_type": "code",
      "source": [
        "# Time to update! we're going to move around our means. to make them meanier. \n",
        "\n",
        "# we're going to OVERWRITE m0[k] with //the average of each zip(td[0],td[1]) which has td[2][n]=k// \n",
        "\n",
        "## ## The question is do we just do it x-wise and then y-wise?? \n",
        "\n",
        "# We don't need to explicitly use \"responsibility\" because it'll be represented by applying (length . filter \"td[2][n]==k\") and dividing that by (sum . filter \"td[2][n]==k\")\n",
        "\n",
        "\n",
        "\n",
        "# print(m0)\n",
        "# print(td[2])\n",
        "\n",
        "def responsible_avg(k, D=td): \n",
        "  # k is 0,1, or 2. \n",
        "  # D will be td, threeple of lists.\n",
        "  n = len(D)\n",
        "  mk = [0,0]# x comp and y comp\n",
        "  R = 0\n",
        "  # print(D[2][k])\n",
        "  for l in range(n): \n",
        "    if (k==D[2][l]):\n",
        "#       print(k)\n",
        "#       print(D[2][l])\n",
        "      mk[0] += D[0][l] # x component of mean.\n",
        "      mk[1] += D[1][l] # y component of mean\n",
        "      R += 1\n",
        "  if (R==0): \n",
        "    return None\n",
        "  else: \n",
        "    m[0][k] = list(map(lambda x: x / R, mk))[0]\n",
        "    m[1][k] = list(map(lambda x: x / R, mk))[1]\n",
        "    # m0[k] =\n",
        "    return None\n",
        "\n",
        "def update(I=K): \n",
        "  for i in range(I): \n",
        "    responsible_avg(i)\n"
      ],
      "execution_count": 0,
      "outputs": []
    },
    {
      "metadata": {
        "id": "FcJe_b1k3aya",
        "colab_type": "code",
        "colab": {
          "base_uri": "https://localhost:8080/",
          "height": 347
        },
        "outputId": "a7342c11-b35b-46f9-cd76-6b4d1b30438e"
      },
      "cell_type": "code",
      "source": [
        "# Run an update, then assign and plot again. \n",
        "\n",
        "update()\n",
        "# print(m)\n",
        "assignment()\n",
        "\n",
        "\n",
        "fig = plt.figure()\n",
        "ax = fig.add_subplot(111)\n",
        "\n",
        "#ax.scatter(td[0], td[1], s=50, c='GREY', marker='s', label='toydata')\n",
        "for k in range(K): \n",
        "  ax.plot(m[0][k], m[1][k], markersize=10, c=cm[k], marker=11, linewidth=0)\n",
        "\n",
        "for n in range(N): \n",
        "  ax.plot(td[0][n], td[1][n], markersize=7, c=cm[td[2][n]], marker='s', label='toydata', linewidth=0)\n",
        "\n",
        "plt.show()"
      ],
      "execution_count": 12,
      "outputs": [
        {
          "output_type": "display_data",
          "data": {
            "image/png": "[encoded data removed]",
            "text/plain": [
              "<matplotlib.figure.Figure at 0x7f9c601ec3c8>"
            ]
          },
          "metadata": {
            "tags": []
          }
        }
      ]
    },
    {
      "metadata": {
        "id": "xAvPf38f1ioj",
        "colab_type": "code",
        "colab": {}
      },
      "cell_type": "code",
      "source": [
        ""
      ],
      "execution_count": 0,
      "outputs": []
    },
    {
      "metadata": {
        "id": "HL9dRIhv3aYK",
        "colab_type": "code",
        "colab": {}
      },
      "cell_type": "code",
      "source": [
        "def responsibility_size(k):\n",
        "  return len(list(filter(lambda j: j==k, td[2])))\n",
        "\n",
        "ought_to_eq_N = 0\n",
        "for i in range(K): \n",
        "  ought_to_eq_N += responsibility_size(i)\n",
        "  # print(responsibility_size(i))\n",
        "\n",
        "# print(ought_to_eq_N)\n",
        "\n",
        "assert ought_to_eq_N == N\n",
        "\n",
        "### Just a sanity check-- all good!! "
      ],
      "execution_count": 0,
      "outputs": []
    },
    {
      "metadata": {
        "id": "onEaCpP03aR6",
        "colab_type": "code",
        "colab": {
          "base_uri": "https://localhost:8080/",
          "height": 347
        },
        "outputId": "6ee11209-2c74-4900-d992-9890c1e79a9c"
      },
      "cell_type": "code",
      "source": [
        "\n",
        "update()\n",
        "\n",
        "assignment()\n",
        "\n",
        "\n",
        "fig = plt.figure()\n",
        "ax = fig.add_subplot(111)\n",
        "\n",
        "#ax.scatter(td[0], td[1], s=50, c='GREY', marker='s', label='toydata')\n",
        "for k in range(K): \n",
        "  ax.plot(m[0][k], m[1][k], markersize=10, c=cm[k], marker=11, linewidth=0)\n",
        "\n",
        "for n in range(N): \n",
        "  ax.plot(td[0][n], td[1][n], markersize=7, c=cm[td[2][n]], marker='s', label='toydata', linewidth=0)\n",
        "\n",
        "  "
      ],
      "execution_count": 14,
      "outputs": [
        {
          "output_type": "display_data",
          "data": {
            "image/png": "[encoded data removed]",
            "text/plain": [
              "<matplotlib.figure.Figure at 0x7f9c60205d68>"
            ]
          },
          "metadata": {
            "tags": []
          }
        }
      ]
    },
    {
      "metadata": {
        "id": "HWIEZJcN7SEW",
        "colab_type": "code",
        "colab": {
          "base_uri": "https://localhost:8080/",
          "height": 347
        },
        "outputId": "f73a9f11-2963-4b74-8c8c-3e6ae152a57d"
      },
      "cell_type": "code",
      "source": [
        "\n",
        "update()\n",
        "\n",
        "assignment()\n",
        "\n",
        "\n",
        "fig = plt.figure()\n",
        "ax = fig.add_subplot(111)\n",
        "\n",
        "for k in range(K): \n",
        "  ax.plot(m[0][k], m[1][k], markersize=10, c=cm[k], marker=11, linewidth=0)\n",
        "\n",
        "for n in range(N): \n",
        "  ax.plot(td[0][n], td[1][n], markersize=7, c=cm[td[2][n]], marker='s', label='toydata', linewidth=0)\n"
      ],
      "execution_count": 16,
      "outputs": [
        {
          "output_type": "display_data",
          "data": {
            "image/png": "[encoded data removed]",
            "text/plain": [
              "<matplotlib.figure.Figure at 0x7f9c60252198>"
            ]
          },
          "metadata": {
            "tags": []
          }
        }
      ]
    },
    {
      "metadata": {
        "id": "3NL7i3xu7bM5",
        "colab_type": "code",
        "colab": {}
      },
      "cell_type": "code",
      "source": [
        "## Same thing is happening. \n",
        "\n",
        "## ridiculous behavior. \n",
        "\n",
        "## something is broken. "
      ],
      "execution_count": 0,
      "outputs": []
    },
    {
      "metadata": {
        "id": "UGrq2ysx7we5",
        "colab_type": "code",
        "colab": {}
      },
      "cell_type": "code",
      "source": [
        "# This is hard clustering: a cluster's \"responsibility\" over a data point is exactly zero or one. \n",
        "\n",
        "## The rest of the chapter goes onto cover soft clustering, where responsibility is in the real interval [0,1], in other words, classification as a matter of degree. "
      ],
      "execution_count": 0,
      "outputs": []
    }
  ]
}