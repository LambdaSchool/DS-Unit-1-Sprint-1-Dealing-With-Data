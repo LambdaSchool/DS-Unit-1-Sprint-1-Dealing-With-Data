{
  "nbformat": 4,
  "nbformat_minor": 0,
  "metadata": {
    "colab": {
      "name": "Copy of LS_DS_111_A_First_Look_at_Data.ipynb",
      "version": "0.3.2",
      "provenance": [],
      "collapsed_sections": [],
      "include_colab_link": true
    },
    "kernelspec": {
      "name": "python3",
      "display_name": "Python 3"
    }
  },
  "cells": [
    {
      "cell_type": "markdown",
      "metadata": {
        "id": "view-in-github",
        "colab_type": "text"
      },
      "source": [
        "<a href=\"https://colab.research.google.com/github/cartman12/DS-Unit-1-Sprint-1-Dealing-With-Data/blob/master/Copy_of_LS_DS_111_A_First_Look_at_Data.ipynb\" target=\"_parent\"><img src=\"https://colab.research.google.com/assets/colab-badge.svg\" alt=\"Open In Colab\"/></a>"
      ]
    },
    {
      "metadata": {
        "id": "Okfr_uhwhS1X",
        "colab_type": "text"
      },
      "cell_type": "markdown",
      "source": [
        "# Lambda School Data Science - A First Look at Data\n",
        "\n"
      ]
    },
    {
      "metadata": {
        "id": "9dtJETFRhnOG",
        "colab_type": "text"
      },
      "cell_type": "markdown",
      "source": [
        "## Lecture - let's explore Python DS libraries and examples!\n",
        "\n",
        "The Python Data Science ecosystem is huge. You've seen some of the big pieces - pandas, scikit-learn, matplotlib. What parts do you want to see more of?"
      ]
    },
    {
      "metadata": {
        "id": "WiBkgmPJhmhE",
        "colab_type": "code",
        "colab": {}
      },
      "cell_type": "code",
      "source": [
        "# TODO - we'll be doing this live, taking requests\n",
        "# and reproducing what it is to look up and learn things"
      ],
      "execution_count": 0,
      "outputs": []
    },
    {
      "metadata": {
        "id": "lOqaPds9huME",
        "colab_type": "text"
      },
      "cell_type": "markdown",
      "source": [
        "## Assignment - now it's your turn\n",
        "\n",
        "Pick at least one Python DS library, and using documentation/examples reproduce in this notebook something cool. It's OK if you don't fully understand it or get it 100% working, but do put in effort and look things up."
      ]
    },
    {
      "metadata": {
        "id": "TGUS79cOhPWj",
        "colab_type": "code",
        "outputId": "4a01962d-8962-49ac-8579-72a014d9643d",
        "colab": {
          "resources": {
            "http://localhost:8080/nbextensions/google.colab/files.js": {
              "data": "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",
              "ok": true,
              "headers": [
                [
                  "content-type",
                  "application/javascript"
                ]
              ],
              "status": 200,
              "status_text": ""
            }
          },
          "base_uri": "https://localhost:8080/",
          "height": 74
        }
      },
      "cell_type": "code",
      "source": [
        "# TODO - your code here\n",
        "# Use what we did live in lecture as an example\n",
        "\n",
        "# importing panda and files from google.colab, which enable us to load local files into colab\n",
        "\n",
        "import pandas as pd\n",
        "from google.colab import files\n",
        "uploaded = files.upload()\n"
      ],
      "execution_count": 19,
      "outputs": [
        {
          "output_type": "display_data",
          "data": {
            "text/html": [
              "\n",
              "     <input type=\"file\" id=\"files-7e1b0fa2-4eca-4e9b-8fdc-3d2c175c15d7\" name=\"files[]\" multiple disabled />\n",
              "     <output id=\"result-7e1b0fa2-4eca-4e9b-8fdc-3d2c175c15d7\">\n",
              "      Upload widget is only available when the cell has been executed in the\n",
              "      current browser session. Please rerun this cell to enable.\n",
              "      </output>\n",
              "      <script src=\"/nbextensions/google.colab/files.js\"></script> "
            ],
            "text/plain": [
              "<IPython.core.display.HTML object>"
            ]
          },
          "metadata": {
            "tags": []
          }
        },
        {
          "output_type": "stream",
          "text": [
            "Saving test.csv to test (2).csv\n"
          ],
          "name": "stdout"
        }
      ]
    },
    {
      "metadata": {
        "id": "YkvZ3x7swKSw",
        "colab_type": "code",
        "colab": {}
      },
      "cell_type": "code",
      "source": [
        "# use 'io' to import and read the uploaded csv\n",
        "\n",
        "import io\n",
        "dftest_timebox = pd.read_csv(io.StringIO(uploaded['test.csv'].decode('utf-8')))"
      ],
      "execution_count": 0,
      "outputs": []
    },
    {
      "metadata": {
        "id": "xW7FIV33xC8n",
        "colab_type": "code",
        "outputId": "420e7c9f-afdb-49a0-cee7-493beef06cf0",
        "colab": {
          "base_uri": "https://localhost:8080/",
          "height": 630
        }
      },
      "cell_type": "code",
      "source": [
        "# checking if data was loaded\n",
        "dftest_timebox.head()"
      ],
      "execution_count": 116,
      "outputs": [
        {
          "output_type": "execute_result",
          "data": {
            "text/html": [
              "<div>\n",
              "<style scoped>\n",
              "    .dataframe tbody tr th:only-of-type {\n",
              "        vertical-align: middle;\n",
              "    }\n",
              "\n",
              "    .dataframe tbody tr th {\n",
              "        vertical-align: top;\n",
              "    }\n",
              "\n",
              "    .dataframe thead th {\n",
              "        text-align: right;\n",
              "    }\n",
              "</style>\n",
              "<table border=\"1\" class=\"dataframe\">\n",
              "  <thead>\n",
              "    <tr style=\"text-align: right;\">\n",
              "      <th></th>\n",
              "      <th>id</th>\n",
              "      <th>belongs_to_collection</th>\n",
              "      <th>budget</th>\n",
              "      <th>genres</th>\n",
              "      <th>homepage</th>\n",
              "      <th>imdb_id</th>\n",
              "      <th>original_language</th>\n",
              "      <th>original_title</th>\n",
              "      <th>overview</th>\n",
              "      <th>popularity</th>\n",
              "      <th>...</th>\n",
              "      <th>release_date</th>\n",
              "      <th>runtime</th>\n",
              "      <th>spoken_languages</th>\n",
              "      <th>status</th>\n",
              "      <th>tagline</th>\n",
              "      <th>title</th>\n",
              "      <th>Keywords</th>\n",
              "      <th>cast</th>\n",
              "      <th>crew</th>\n",
              "      <th>year</th>\n",
              "    </tr>\n",
              "  </thead>\n",
              "  <tbody>\n",
              "    <tr>\n",
              "      <th>0</th>\n",
              "      <td>3001</td>\n",
              "      <td>[{'id': 34055, 'name': 'Pokémon Collection', '...</td>\n",
              "      <td>0</td>\n",
              "      <td>[{'id': 12, 'name': 'Adventure'}, {'id': 16, '...</td>\n",
              "      <td>http://www.pokemon.com/us/movies/movie-pokemon...</td>\n",
              "      <td>tt1226251</td>\n",
              "      <td>ja</td>\n",
              "      <td>ディアルガVSパルキアVSダークライ</td>\n",
              "      <td>Ash and friends (this time accompanied by newc...</td>\n",
              "      <td>3.851534</td>\n",
              "      <td>...</td>\n",
              "      <td>2007-07-14</td>\n",
              "      <td>90.0</td>\n",
              "      <td>[{'iso_639_1': 'en', 'name': 'English'}, {'iso...</td>\n",
              "      <td>Released</td>\n",
              "      <td>Somewhere Between Time &amp; Space... A Legend Is ...</td>\n",
              "      <td>Pokémon: The Rise of Darkrai</td>\n",
              "      <td>[{'id': 11451, 'name': 'pok√©mon'}, {'id': 115...</td>\n",
              "      <td>[{'cast_id': 3, 'character': 'Tonio', 'credit_...</td>\n",
              "      <td>[{'credit_id': '52fe44e7c3a368484e03d683', 'de...</td>\n",
              "      <td>2007</td>\n",
              "    </tr>\n",
              "    <tr>\n",
              "      <th>1</th>\n",
              "      <td>3002</td>\n",
              "      <td>NaN</td>\n",
              "      <td>88000</td>\n",
              "      <td>[{'id': 27, 'name': 'Horror'}, {'id': 878, 'na...</td>\n",
              "      <td>NaN</td>\n",
              "      <td>tt0051380</td>\n",
              "      <td>en</td>\n",
              "      <td>Attack of the 50 Foot Woman</td>\n",
              "      <td>When an abused wife grows to giant size becaus...</td>\n",
              "      <td>3.559789</td>\n",
              "      <td>...</td>\n",
              "      <td>2058-05-19</td>\n",
              "      <td>65.0</td>\n",
              "      <td>[{'iso_639_1': 'en', 'name': 'English'}]</td>\n",
              "      <td>Released</td>\n",
              "      <td>A titanic beauty spreads a macabre wave of hor...</td>\n",
              "      <td>Attack of the 50 Foot Woman</td>\n",
              "      <td>[{'id': 9748, 'name': 'revenge'}, {'id': 9951,...</td>\n",
              "      <td>[{'cast_id': 2, 'character': 'Nancy Fowler Arc...</td>\n",
              "      <td>[{'credit_id': '55807805c3a3685b1300060b', 'de...</td>\n",
              "      <td>2058</td>\n",
              "    </tr>\n",
              "    <tr>\n",
              "      <th>2</th>\n",
              "      <td>3003</td>\n",
              "      <td>NaN</td>\n",
              "      <td>0</td>\n",
              "      <td>[{'id': 35, 'name': 'Comedy'}, {'id': 10749, '...</td>\n",
              "      <td>NaN</td>\n",
              "      <td>tt0118556</td>\n",
              "      <td>en</td>\n",
              "      <td>Addicted to Love</td>\n",
              "      <td>Good-natured astronomer Sam is devastated when...</td>\n",
              "      <td>8.085194</td>\n",
              "      <td>...</td>\n",
              "      <td>1997-05-23</td>\n",
              "      <td>100.0</td>\n",
              "      <td>[{'iso_639_1': 'en', 'name': 'English'}]</td>\n",
              "      <td>Released</td>\n",
              "      <td>A Comedy About Lost Loves And Last Laughs</td>\n",
              "      <td>Addicted to Love</td>\n",
              "      <td>[{'id': 931, 'name': 'jealousy'}, {'id': 9673,...</td>\n",
              "      <td>[{'cast_id': 11, 'character': 'Maggie', 'credi...</td>\n",
              "      <td>[{'credit_id': '52fe4330c3a36847f8041367', 'de...</td>\n",
              "      <td>1997</td>\n",
              "    </tr>\n",
              "    <tr>\n",
              "      <th>3</th>\n",
              "      <td>3004</td>\n",
              "      <td>NaN</td>\n",
              "      <td>6800000</td>\n",
              "      <td>[{'id': 18, 'name': 'Drama'}, {'id': 10752, 'n...</td>\n",
              "      <td>http://www.sonyclassics.com/incendies/</td>\n",
              "      <td>tt1255953</td>\n",
              "      <td>fr</td>\n",
              "      <td>Incendies</td>\n",
              "      <td>A mother's last wishes send twins Jeanne and S...</td>\n",
              "      <td>8.596012</td>\n",
              "      <td>...</td>\n",
              "      <td>2010-09-04</td>\n",
              "      <td>130.0</td>\n",
              "      <td>[{'iso_639_1': 'fr', 'name': 'Français'}, {'is...</td>\n",
              "      <td>Released</td>\n",
              "      <td>The search began at the opening of their mothe...</td>\n",
              "      <td>Incendies</td>\n",
              "      <td>[{'id': 378, 'name': 'prison'}, {'id': 539, 'n...</td>\n",
              "      <td>[{'cast_id': 6, 'character': 'Nawal', 'credit_...</td>\n",
              "      <td>[{'credit_id': '56478092c3a36826140043af', 'de...</td>\n",
              "      <td>2010</td>\n",
              "    </tr>\n",
              "    <tr>\n",
              "      <th>4</th>\n",
              "      <td>3005</td>\n",
              "      <td>NaN</td>\n",
              "      <td>2000000</td>\n",
              "      <td>[{'id': 36, 'name': 'History'}, {'id': 99, 'na...</td>\n",
              "      <td>NaN</td>\n",
              "      <td>tt0418753</td>\n",
              "      <td>en</td>\n",
              "      <td>Inside Deep Throat</td>\n",
              "      <td>In 1972, a seemingly typical shoestring budget...</td>\n",
              "      <td>3.217680</td>\n",
              "      <td>...</td>\n",
              "      <td>2005-02-11</td>\n",
              "      <td>92.0</td>\n",
              "      <td>[{'iso_639_1': 'en', 'name': 'English'}]</td>\n",
              "      <td>Released</td>\n",
              "      <td>It was filmed in 6 days for 25 thousand dollar...</td>\n",
              "      <td>Inside Deep Throat</td>\n",
              "      <td>[{'id': 279, 'name': 'usa'}, {'id': 1228, 'nam...</td>\n",
              "      <td>[{'cast_id': 1, 'character': 'Narrator (voice)...</td>\n",
              "      <td>[{'credit_id': '52fe44ce9251416c75041967', 'de...</td>\n",
              "      <td>2005</td>\n",
              "    </tr>\n",
              "  </tbody>\n",
              "</table>\n",
              "<p>5 rows × 23 columns</p>\n",
              "</div>"
            ],
            "text/plain": [
              "     id                              belongs_to_collection   budget  \\\n",
              "0  3001  [{'id': 34055, 'name': 'Pokémon Collection', '...        0   \n",
              "1  3002                                                NaN    88000   \n",
              "2  3003                                                NaN        0   \n",
              "3  3004                                                NaN  6800000   \n",
              "4  3005                                                NaN  2000000   \n",
              "\n",
              "                                              genres  \\\n",
              "0  [{'id': 12, 'name': 'Adventure'}, {'id': 16, '...   \n",
              "1  [{'id': 27, 'name': 'Horror'}, {'id': 878, 'na...   \n",
              "2  [{'id': 35, 'name': 'Comedy'}, {'id': 10749, '...   \n",
              "3  [{'id': 18, 'name': 'Drama'}, {'id': 10752, 'n...   \n",
              "4  [{'id': 36, 'name': 'History'}, {'id': 99, 'na...   \n",
              "\n",
              "                                            homepage    imdb_id  \\\n",
              "0  http://www.pokemon.com/us/movies/movie-pokemon...  tt1226251   \n",
              "1                                                NaN  tt0051380   \n",
              "2                                                NaN  tt0118556   \n",
              "3             http://www.sonyclassics.com/incendies/  tt1255953   \n",
              "4                                                NaN  tt0418753   \n",
              "\n",
              "  original_language               original_title  \\\n",
              "0                ja           ディアルガVSパルキアVSダークライ   \n",
              "1                en  Attack of the 50 Foot Woman   \n",
              "2                en             Addicted to Love   \n",
              "3                fr                    Incendies   \n",
              "4                en           Inside Deep Throat   \n",
              "\n",
              "                                            overview  popularity  ...  \\\n",
              "0  Ash and friends (this time accompanied by newc...    3.851534  ...   \n",
              "1  When an abused wife grows to giant size becaus...    3.559789  ...   \n",
              "2  Good-natured astronomer Sam is devastated when...    8.085194  ...   \n",
              "3  A mother's last wishes send twins Jeanne and S...    8.596012  ...   \n",
              "4  In 1972, a seemingly typical shoestring budget...    3.217680  ...   \n",
              "\n",
              "  release_date runtime                                   spoken_languages  \\\n",
              "0   2007-07-14    90.0  [{'iso_639_1': 'en', 'name': 'English'}, {'iso...   \n",
              "1   2058-05-19    65.0           [{'iso_639_1': 'en', 'name': 'English'}]   \n",
              "2   1997-05-23   100.0           [{'iso_639_1': 'en', 'name': 'English'}]   \n",
              "3   2010-09-04   130.0  [{'iso_639_1': 'fr', 'name': 'Français'}, {'is...   \n",
              "4   2005-02-11    92.0           [{'iso_639_1': 'en', 'name': 'English'}]   \n",
              "\n",
              "     status                                            tagline  \\\n",
              "0  Released  Somewhere Between Time & Space... A Legend Is ...   \n",
              "1  Released  A titanic beauty spreads a macabre wave of hor...   \n",
              "2  Released          A Comedy About Lost Loves And Last Laughs   \n",
              "3  Released  The search began at the opening of their mothe...   \n",
              "4  Released  It was filmed in 6 days for 25 thousand dollar...   \n",
              "\n",
              "                          title  \\\n",
              "0  Pokémon: The Rise of Darkrai   \n",
              "1   Attack of the 50 Foot Woman   \n",
              "2              Addicted to Love   \n",
              "3                     Incendies   \n",
              "4            Inside Deep Throat   \n",
              "\n",
              "                                            Keywords  \\\n",
              "0  [{'id': 11451, 'name': 'pok√©mon'}, {'id': 115...   \n",
              "1  [{'id': 9748, 'name': 'revenge'}, {'id': 9951,...   \n",
              "2  [{'id': 931, 'name': 'jealousy'}, {'id': 9673,...   \n",
              "3  [{'id': 378, 'name': 'prison'}, {'id': 539, 'n...   \n",
              "4  [{'id': 279, 'name': 'usa'}, {'id': 1228, 'nam...   \n",
              "\n",
              "                                                cast  \\\n",
              "0  [{'cast_id': 3, 'character': 'Tonio', 'credit_...   \n",
              "1  [{'cast_id': 2, 'character': 'Nancy Fowler Arc...   \n",
              "2  [{'cast_id': 11, 'character': 'Maggie', 'credi...   \n",
              "3  [{'cast_id': 6, 'character': 'Nawal', 'credit_...   \n",
              "4  [{'cast_id': 1, 'character': 'Narrator (voice)...   \n",
              "\n",
              "                                                crew  year  \n",
              "0  [{'credit_id': '52fe44e7c3a368484e03d683', 'de...  2007  \n",
              "1  [{'credit_id': '55807805c3a3685b1300060b', 'de...  2058  \n",
              "2  [{'credit_id': '52fe4330c3a36847f8041367', 'de...  1997  \n",
              "3  [{'credit_id': '56478092c3a36826140043af', 'de...  2010  \n",
              "4  [{'credit_id': '52fe44ce9251416c75041967', 'de...  2005  \n",
              "\n",
              "[5 rows x 23 columns]"
            ]
          },
          "metadata": {
            "tags": []
          },
          "execution_count": 116
        }
      ]
    },
    {
      "metadata": {
        "id": "vasoKmODzug8",
        "colab_type": "code",
        "colab": {}
      },
      "cell_type": "code",
      "source": [
        "# cheking the data counts\n",
        "dftest_timebox.count()"
      ],
      "execution_count": 0,
      "outputs": []
    },
    {
      "metadata": {
        "id": "2xfWRlPdz00B",
        "colab_type": "code",
        "colab": {
          "base_uri": "https://localhost:8080/",
          "height": 420
        },
        "outputId": "80369f71-0ed4-4b9e-f439-abd6aa382a3f"
      },
      "cell_type": "code",
      "source": [
        "# checking for the sum null values\n",
        "\n",
        "dftest_timebox.isna().sum()"
      ],
      "execution_count": 118,
      "outputs": [
        {
          "output_type": "execute_result",
          "data": {
            "text/plain": [
              "id                          0\n",
              "belongs_to_collection    3521\n",
              "budget                      0\n",
              "genres                     16\n",
              "homepage                 2978\n",
              "imdb_id                     0\n",
              "original_language           0\n",
              "original_title              0\n",
              "overview                   14\n",
              "popularity                  0\n",
              "poster_path                 1\n",
              "production_companies      258\n",
              "production_countries      102\n",
              "release_date                0\n",
              "runtime                     4\n",
              "spoken_languages           42\n",
              "status                      2\n",
              "tagline                   863\n",
              "title                       3\n",
              "Keywords                  393\n",
              "cast                       13\n",
              "crew                       22\n",
              "year                        0\n",
              "dtype: int64"
            ]
          },
          "metadata": {
            "tags": []
          },
          "execution_count": 118
        }
      ]
    },
    {
      "metadata": {
        "id": "-W_spssc0LlB",
        "colab_type": "code",
        "colab": {
          "base_uri": "https://localhost:8080/",
          "height": 630
        },
        "outputId": "ad18e17b-107e-4553-b0f9-22c18244ed61"
      },
      "cell_type": "code",
      "source": [
        "# We have a lot of missing data! I will clean 4 columns only\n",
        "# First I will drop the 'homepage' becuase there is a lot of missing data, its seemingly irrelvant, and its hard to infer to correctly infer the right name\n",
        "dftest_timebox.drop(columns = 'homepage').head()\n"
      ],
      "execution_count": 123,
      "outputs": [
        {
          "output_type": "execute_result",
          "data": {
            "text/html": [
              "<div>\n",
              "<style scoped>\n",
              "    .dataframe tbody tr th:only-of-type {\n",
              "        vertical-align: middle;\n",
              "    }\n",
              "\n",
              "    .dataframe tbody tr th {\n",
              "        vertical-align: top;\n",
              "    }\n",
              "\n",
              "    .dataframe thead th {\n",
              "        text-align: right;\n",
              "    }\n",
              "</style>\n",
              "<table border=\"1\" class=\"dataframe\">\n",
              "  <thead>\n",
              "    <tr style=\"text-align: right;\">\n",
              "      <th></th>\n",
              "      <th>id</th>\n",
              "      <th>belongs_to_collection</th>\n",
              "      <th>budget</th>\n",
              "      <th>genres</th>\n",
              "      <th>imdb_id</th>\n",
              "      <th>original_language</th>\n",
              "      <th>original_title</th>\n",
              "      <th>overview</th>\n",
              "      <th>popularity</th>\n",
              "      <th>poster_path</th>\n",
              "      <th>...</th>\n",
              "      <th>production_countries</th>\n",
              "      <th>release_date</th>\n",
              "      <th>runtime</th>\n",
              "      <th>spoken_languages</th>\n",
              "      <th>status</th>\n",
              "      <th>tagline</th>\n",
              "      <th>title</th>\n",
              "      <th>Keywords</th>\n",
              "      <th>cast</th>\n",
              "      <th>crew</th>\n",
              "    </tr>\n",
              "  </thead>\n",
              "  <tbody>\n",
              "    <tr>\n",
              "      <th>0</th>\n",
              "      <td>3001</td>\n",
              "      <td>[{'id': 34055, 'name': 'Pokémon Collection', '...</td>\n",
              "      <td>0</td>\n",
              "      <td>[{'id': 12, 'name': 'Adventure'}, {'id': 16, '...</td>\n",
              "      <td>tt1226251</td>\n",
              "      <td>ja</td>\n",
              "      <td>ディアルガVSパルキアVSダークライ</td>\n",
              "      <td>Ash and friends (this time accompanied by newc...</td>\n",
              "      <td>3.851534</td>\n",
              "      <td>/tnftmLMemPLduW6MRyZE0ZUD19z.jpg</td>\n",
              "      <td>...</td>\n",
              "      <td>[{'iso_3166_1': 'JP', 'name': 'Japan'}, {'iso_...</td>\n",
              "      <td>7/14/07</td>\n",
              "      <td>90.0</td>\n",
              "      <td>[{'iso_639_1': 'en', 'name': 'English'}, {'iso...</td>\n",
              "      <td>Released</td>\n",
              "      <td>Somewhere Between Time &amp; Space... A Legend Is ...</td>\n",
              "      <td>Pokémon: The Rise of Darkrai</td>\n",
              "      <td>[{'id': 11451, 'name': 'pok√©mon'}, {'id': 115...</td>\n",
              "      <td>[{'cast_id': 3, 'character': 'Tonio', 'credit_...</td>\n",
              "      <td>[{'credit_id': '52fe44e7c3a368484e03d683', 'de...</td>\n",
              "    </tr>\n",
              "    <tr>\n",
              "      <th>1</th>\n",
              "      <td>3002</td>\n",
              "      <td>NaN</td>\n",
              "      <td>88000</td>\n",
              "      <td>[{'id': 27, 'name': 'Horror'}, {'id': 878, 'na...</td>\n",
              "      <td>tt0051380</td>\n",
              "      <td>en</td>\n",
              "      <td>Attack of the 50 Foot Woman</td>\n",
              "      <td>When an abused wife grows to giant size becaus...</td>\n",
              "      <td>3.559789</td>\n",
              "      <td>/9MgBNBqlH1sG4yG2u4XkwI5CoJa.jpg</td>\n",
              "      <td>...</td>\n",
              "      <td>[{'iso_3166_1': 'US', 'name': 'United States o...</td>\n",
              "      <td>5/19/58</td>\n",
              "      <td>65.0</td>\n",
              "      <td>[{'iso_639_1': 'en', 'name': 'English'}]</td>\n",
              "      <td>Released</td>\n",
              "      <td>A titanic beauty spreads a macabre wave of hor...</td>\n",
              "      <td>Attack of the 50 Foot Woman</td>\n",
              "      <td>[{'id': 9748, 'name': 'revenge'}, {'id': 9951,...</td>\n",
              "      <td>[{'cast_id': 2, 'character': 'Nancy Fowler Arc...</td>\n",
              "      <td>[{'credit_id': '55807805c3a3685b1300060b', 'de...</td>\n",
              "    </tr>\n",
              "    <tr>\n",
              "      <th>2</th>\n",
              "      <td>3003</td>\n",
              "      <td>NaN</td>\n",
              "      <td>0</td>\n",
              "      <td>[{'id': 35, 'name': 'Comedy'}, {'id': 10749, '...</td>\n",
              "      <td>tt0118556</td>\n",
              "      <td>en</td>\n",
              "      <td>Addicted to Love</td>\n",
              "      <td>Good-natured astronomer Sam is devastated when...</td>\n",
              "      <td>8.085194</td>\n",
              "      <td>/ed6nD7h9sbojSWY2qrnDcSvDFko.jpg</td>\n",
              "      <td>...</td>\n",
              "      <td>[{'iso_3166_1': 'US', 'name': 'United States o...</td>\n",
              "      <td>5/23/97</td>\n",
              "      <td>100.0</td>\n",
              "      <td>[{'iso_639_1': 'en', 'name': 'English'}]</td>\n",
              "      <td>Released</td>\n",
              "      <td>A Comedy About Lost Loves And Last Laughs</td>\n",
              "      <td>Addicted to Love</td>\n",
              "      <td>[{'id': 931, 'name': 'jealousy'}, {'id': 9673,...</td>\n",
              "      <td>[{'cast_id': 11, 'character': 'Maggie', 'credi...</td>\n",
              "      <td>[{'credit_id': '52fe4330c3a36847f8041367', 'de...</td>\n",
              "    </tr>\n",
              "    <tr>\n",
              "      <th>3</th>\n",
              "      <td>3004</td>\n",
              "      <td>NaN</td>\n",
              "      <td>6800000</td>\n",
              "      <td>[{'id': 18, 'name': 'Drama'}, {'id': 10752, 'n...</td>\n",
              "      <td>tt1255953</td>\n",
              "      <td>fr</td>\n",
              "      <td>Incendies</td>\n",
              "      <td>A mother's last wishes send twins Jeanne and S...</td>\n",
              "      <td>8.596012</td>\n",
              "      <td>/sEUG3qjxwHjxkzuO7plrRHhOZUH.jpg</td>\n",
              "      <td>...</td>\n",
              "      <td>[{'iso_3166_1': 'CA', 'name': 'Canada'}, {'iso...</td>\n",
              "      <td>9/4/10</td>\n",
              "      <td>130.0</td>\n",
              "      <td>[{'iso_639_1': 'fr', 'name': 'Français'}, {'is...</td>\n",
              "      <td>Released</td>\n",
              "      <td>The search began at the opening of their mothe...</td>\n",
              "      <td>Incendies</td>\n",
              "      <td>[{'id': 378, 'name': 'prison'}, {'id': 539, 'n...</td>\n",
              "      <td>[{'cast_id': 6, 'character': 'Nawal', 'credit_...</td>\n",
              "      <td>[{'credit_id': '56478092c3a36826140043af', 'de...</td>\n",
              "    </tr>\n",
              "    <tr>\n",
              "      <th>4</th>\n",
              "      <td>3005</td>\n",
              "      <td>NaN</td>\n",
              "      <td>2000000</td>\n",
              "      <td>[{'id': 36, 'name': 'History'}, {'id': 99, 'na...</td>\n",
              "      <td>tt0418753</td>\n",
              "      <td>en</td>\n",
              "      <td>Inside Deep Throat</td>\n",
              "      <td>In 1972, a seemingly typical shoestring budget...</td>\n",
              "      <td>3.217680</td>\n",
              "      <td>/n4WC3zbelz6SG7rhkWbf8m9pMHB.jpg</td>\n",
              "      <td>...</td>\n",
              "      <td>[{'iso_3166_1': 'US', 'name': 'United States o...</td>\n",
              "      <td>2/11/05</td>\n",
              "      <td>92.0</td>\n",
              "      <td>[{'iso_639_1': 'en', 'name': 'English'}]</td>\n",
              "      <td>Released</td>\n",
              "      <td>It was filmed in 6 days for 25 thousand dollar...</td>\n",
              "      <td>Inside Deep Throat</td>\n",
              "      <td>[{'id': 279, 'name': 'usa'}, {'id': 1228, 'nam...</td>\n",
              "      <td>[{'cast_id': 1, 'character': 'Narrator (voice)...</td>\n",
              "      <td>[{'credit_id': '52fe44ce9251416c75041967', 'de...</td>\n",
              "    </tr>\n",
              "  </tbody>\n",
              "</table>\n",
              "<p>5 rows × 21 columns</p>\n",
              "</div>"
            ],
            "text/plain": [
              "     id                              belongs_to_collection   budget  \\\n",
              "0  3001  [{'id': 34055, 'name': 'Pokémon Collection', '...        0   \n",
              "1  3002                                                NaN    88000   \n",
              "2  3003                                                NaN        0   \n",
              "3  3004                                                NaN  6800000   \n",
              "4  3005                                                NaN  2000000   \n",
              "\n",
              "                                              genres    imdb_id  \\\n",
              "0  [{'id': 12, 'name': 'Adventure'}, {'id': 16, '...  tt1226251   \n",
              "1  [{'id': 27, 'name': 'Horror'}, {'id': 878, 'na...  tt0051380   \n",
              "2  [{'id': 35, 'name': 'Comedy'}, {'id': 10749, '...  tt0118556   \n",
              "3  [{'id': 18, 'name': 'Drama'}, {'id': 10752, 'n...  tt1255953   \n",
              "4  [{'id': 36, 'name': 'History'}, {'id': 99, 'na...  tt0418753   \n",
              "\n",
              "  original_language               original_title  \\\n",
              "0                ja           ディアルガVSパルキアVSダークライ   \n",
              "1                en  Attack of the 50 Foot Woman   \n",
              "2                en             Addicted to Love   \n",
              "3                fr                    Incendies   \n",
              "4                en           Inside Deep Throat   \n",
              "\n",
              "                                            overview  popularity  \\\n",
              "0  Ash and friends (this time accompanied by newc...    3.851534   \n",
              "1  When an abused wife grows to giant size becaus...    3.559789   \n",
              "2  Good-natured astronomer Sam is devastated when...    8.085194   \n",
              "3  A mother's last wishes send twins Jeanne and S...    8.596012   \n",
              "4  In 1972, a seemingly typical shoestring budget...    3.217680   \n",
              "\n",
              "                        poster_path  ...  \\\n",
              "0  /tnftmLMemPLduW6MRyZE0ZUD19z.jpg  ...   \n",
              "1  /9MgBNBqlH1sG4yG2u4XkwI5CoJa.jpg  ...   \n",
              "2  /ed6nD7h9sbojSWY2qrnDcSvDFko.jpg  ...   \n",
              "3  /sEUG3qjxwHjxkzuO7plrRHhOZUH.jpg  ...   \n",
              "4  /n4WC3zbelz6SG7rhkWbf8m9pMHB.jpg  ...   \n",
              "\n",
              "                                production_countries release_date runtime  \\\n",
              "0  [{'iso_3166_1': 'JP', 'name': 'Japan'}, {'iso_...      7/14/07    90.0   \n",
              "1  [{'iso_3166_1': 'US', 'name': 'United States o...      5/19/58    65.0   \n",
              "2  [{'iso_3166_1': 'US', 'name': 'United States o...      5/23/97   100.0   \n",
              "3  [{'iso_3166_1': 'CA', 'name': 'Canada'}, {'iso...       9/4/10   130.0   \n",
              "4  [{'iso_3166_1': 'US', 'name': 'United States o...      2/11/05    92.0   \n",
              "\n",
              "                                    spoken_languages    status  \\\n",
              "0  [{'iso_639_1': 'en', 'name': 'English'}, {'iso...  Released   \n",
              "1           [{'iso_639_1': 'en', 'name': 'English'}]  Released   \n",
              "2           [{'iso_639_1': 'en', 'name': 'English'}]  Released   \n",
              "3  [{'iso_639_1': 'fr', 'name': 'Français'}, {'is...  Released   \n",
              "4           [{'iso_639_1': 'en', 'name': 'English'}]  Released   \n",
              "\n",
              "                                             tagline  \\\n",
              "0  Somewhere Between Time & Space... A Legend Is ...   \n",
              "1  A titanic beauty spreads a macabre wave of hor...   \n",
              "2          A Comedy About Lost Loves And Last Laughs   \n",
              "3  The search began at the opening of their mothe...   \n",
              "4  It was filmed in 6 days for 25 thousand dollar...   \n",
              "\n",
              "                          title  \\\n",
              "0  Pokémon: The Rise of Darkrai   \n",
              "1   Attack of the 50 Foot Woman   \n",
              "2              Addicted to Love   \n",
              "3                     Incendies   \n",
              "4            Inside Deep Throat   \n",
              "\n",
              "                                            Keywords  \\\n",
              "0  [{'id': 11451, 'name': 'pok√©mon'}, {'id': 115...   \n",
              "1  [{'id': 9748, 'name': 'revenge'}, {'id': 9951,...   \n",
              "2  [{'id': 931, 'name': 'jealousy'}, {'id': 9673,...   \n",
              "3  [{'id': 378, 'name': 'prison'}, {'id': 539, 'n...   \n",
              "4  [{'id': 279, 'name': 'usa'}, {'id': 1228, 'nam...   \n",
              "\n",
              "                                                cast  \\\n",
              "0  [{'cast_id': 3, 'character': 'Tonio', 'credit_...   \n",
              "1  [{'cast_id': 2, 'character': 'Nancy Fowler Arc...   \n",
              "2  [{'cast_id': 11, 'character': 'Maggie', 'credi...   \n",
              "3  [{'cast_id': 6, 'character': 'Nawal', 'credit_...   \n",
              "4  [{'cast_id': 1, 'character': 'Narrator (voice)...   \n",
              "\n",
              "                                                crew  \n",
              "0  [{'credit_id': '52fe44e7c3a368484e03d683', 'de...  \n",
              "1  [{'credit_id': '55807805c3a3685b1300060b', 'de...  \n",
              "2  [{'credit_id': '52fe4330c3a36847f8041367', 'de...  \n",
              "3  [{'credit_id': '56478092c3a36826140043af', 'de...  \n",
              "4  [{'credit_id': '52fe44ce9251416c75041967', 'de...  \n",
              "\n",
              "[5 rows x 21 columns]"
            ]
          },
          "metadata": {
            "tags": []
          },
          "execution_count": 123
        }
      ]
    },
    {
      "metadata": {
        "id": "w57na2ph-abq",
        "colab_type": "code",
        "colab": {}
      },
      "cell_type": "code",
      "source": [
        "list_date"
      ],
      "execution_count": 0,
      "outputs": []
    },
    {
      "metadata": {
        "id": "r5wsQxgVEp4g",
        "colab_type": "code",
        "colab": {}
      },
      "cell_type": "code",
      "source": [
        "import numpy as np"
      ],
      "execution_count": 0,
      "outputs": []
    },
    {
      "metadata": {
        "id": "ngvCoDIhFqgx",
        "colab_type": "code",
        "colab": {
          "base_uri": "https://localhost:8080/",
          "height": 420
        },
        "outputId": "68b9bf90-c428-45b9-e4be-4170553b1549"
      },
      "cell_type": "code",
      "source": [
        "# date is only missing one value, so we will give it a random date based on the list of unqie available dates.\n",
        "list_date = list(set(dftest_timebox['release_date'].dropna()))\n",
        "dftest_timebox['release_date'] = dftest_timebox['release_date'].fillna(np.random.choice(list_date))\n",
        "dftest_timebox.isna().sum()"
      ],
      "execution_count": 142,
      "outputs": [
        {
          "output_type": "execute_result",
          "data": {
            "text/plain": [
              "id                          0\n",
              "belongs_to_collection    3521\n",
              "budget                      0\n",
              "genres                     16\n",
              "homepage                 2978\n",
              "imdb_id                     0\n",
              "original_language           0\n",
              "original_title              0\n",
              "overview                   14\n",
              "popularity                  0\n",
              "poster_path                 1\n",
              "production_companies      258\n",
              "production_countries      102\n",
              "release_date                0\n",
              "runtime                     4\n",
              "spoken_languages           42\n",
              "status                      2\n",
              "tagline                   863\n",
              "title                       3\n",
              "Keywords                  393\n",
              "cast                       13\n",
              "crew                       22\n",
              "year                        1\n",
              "dtype: int64"
            ]
          },
          "metadata": {
            "tags": []
          },
          "execution_count": 142
        }
      ]
    },
    {
      "metadata": {
        "id": "xqrfEGwk-aVA",
        "colab_type": "code",
        "colab": {}
      },
      "cell_type": "code",
      "source": [
        "# Manipulating date data so I can only take only the year of release, which would allow me to more understand the relationship between the budget and the year of release\n",
        "\n",
        "dftest_timebox['year'] = pd.to_datetime(dftest_timebox['release_date']).dt.year\n",
        "\n",
        "dftest_timebox['year'] =  dftest_timebox.year.astype(np.int64)\n",
        "\n",
        "dftest_timebox.head()"
      ],
      "execution_count": 0,
      "outputs": []
    },
    {
      "metadata": {
        "id": "CAEYUZJhL1HZ",
        "colab_type": "code",
        "colab": {}
      },
      "cell_type": "code",
      "source": [
        "# I was unable to take only the year of production correctly, as every time I would do it the years go from 58 to 2058 rather than 1958."
      ],
      "execution_count": 0,
      "outputs": []
    },
    {
      "metadata": {
        "id": "tYa7VijOIcIO",
        "colab_type": "code",
        "colab": {
          "base_uri": "https://localhost:8080/",
          "height": 34
        },
        "outputId": "db5786b6-8c9c-4a4b-fb5c-b34712f388c0"
      },
      "cell_type": "code",
      "source": [
        "is_released_unique = list(set(dftest_timebox.status.dropna()))\n",
        "is_released_unique"
      ],
      "execution_count": 112,
      "outputs": [
        {
          "output_type": "execute_result",
          "data": {
            "text/plain": [
              "['Rumored', 'Post Production', 'Released']"
            ]
          },
          "metadata": {
            "tags": []
          },
          "execution_count": 112
        }
      ]
    },
    {
      "metadata": {
        "id": "g0UJLF2p-aA_",
        "colab_type": "code",
        "colab": {
          "base_uri": "https://localhost:8080/",
          "height": 34
        },
        "outputId": "f1c0ec8a-ac9a-470e-dfa3-1c306e3f319d"
      },
      "cell_type": "code",
      "source": [
        "# Originally I wanted to fill this coluumn according to the year, if it was higher than the maximum date of a released movie by a year, then we'd fill 'Post production', more than that 'rumored', etc.\n",
        "# But I will give in and fill using bfill for bfill\n",
        "dftest_timebox.status = dftest_timebox.status.fillna(method = 'bfill')\n",
        "dftest_timebox.status.isna().sum()"
      ],
      "execution_count": 154,
      "outputs": [
        {
          "output_type": "execute_result",
          "data": {
            "text/plain": [
              "0"
            ]
          },
          "metadata": {
            "tags": []
          },
          "execution_count": 154
        }
      ]
    },
    {
      "metadata": {
        "id": "ypFtIkIw1RYp",
        "colab_type": "code",
        "colab": {}
      },
      "cell_type": "code",
      "source": [
        "# Iwas attempting to fill the missing 'countries' based on a the list of countries below by mapping the lang acronym to its relevant country\n",
        "# but i found it to hard to fill it in the columns due its nature \" [{'iso_3166_1': 'CA', 'name': 'Canada'}, {'iso... \", so I will not use country but rather language as replacement independent variable.\n",
        "# we will fill the 'country' NA based on the 'original_language' of the movie, which should give us the best estimate of the country\n",
        "unique_lang = list(set(dftest_timebox.original_language))\n",
        "unique_lang"
      ],
      "execution_count": 0,
      "outputs": []
    },
    {
      "metadata": {
        "id": "30SPQ6coU-bM",
        "colab_type": "code",
        "colab": {}
      },
      "cell_type": "code",
      "source": [
        "import matplotlib.pyplot as plt"
      ],
      "execution_count": 0,
      "outputs": []
    },
    {
      "metadata": {
        "id": "Pk5osncVVDaC",
        "colab_type": "code",
        "colab": {
          "base_uri": "https://localhost:8080/",
          "height": 34
        },
        "outputId": "06284411-40ae-4c7d-8947-796d47285bec"
      },
      "cell_type": "code",
      "source": [
        "# i will check if there is a relationship between popularity and budget, by first calculating the correlation and then by drawing a plot\n",
        "\n",
        "corre = dftest_timebox['popularity'].corr(dftest_timebox['budget'])\n",
        "corre"
      ],
      "execution_count": 172,
      "outputs": [
        {
          "output_type": "execute_result",
          "data": {
            "text/plain": [
              "0.338649799028511"
            ]
          },
          "metadata": {
            "tags": []
          },
          "execution_count": 172
        }
      ]
    },
    {
      "metadata": {
        "id": "TinG0MVxWU6n",
        "colab_type": "code",
        "colab": {
          "base_uri": "https://localhost:8080/",
          "height": 276
        },
        "outputId": "20c44270-8ce4-4060-e2b8-6ebd4ed4a3b2"
      },
      "cell_type": "code",
      "source": [
        "plt.scatter(dftest_timebox['popularity'], dftest_timebox['budget'])\n",
        "\n",
        "plt.show()"
      ],
      "execution_count": 174,
      "outputs": [
        {
          "output_type": "display_data",
          "data": {
            "image/png": "[encoded data removed]",
            "text/plain": [
              "<Figure size 432x288 with 1 Axes>"
            ]
          },
          "metadata": {
            "tags": []
          }
        }
      ]
    },
    {
      "metadata": {
        "id": "z8gW1e7zbDTr",
        "colab_type": "code",
        "colab": {}
      },
      "cell_type": "code",
      "source": [
        ""
      ],
      "execution_count": 0,
      "outputs": []
    },
    {
      "metadata": {
        "id": "RGSFZfYMYRXP",
        "colab_type": "code",
        "colab": {}
      },
      "cell_type": "code",
      "source": [
        "# now to show the relationship between language and popularity\n",
        "# create a dictoanory of the unqiue languages\n",
        "\n",
        "ori_lang = dftest_timebox.original_language.drop_duplicates( keep='first', inplace=False).to_dict()\n",
        "\n",
        "ori_lang"
      ],
      "execution_count": 0,
      "outputs": []
    },
    {
      "metadata": {
        "id": "OdmV94mpcd0g",
        "colab_type": "code",
        "colab": {}
      },
      "cell_type": "code",
      "source": [
        "# Switch the values and keys\n",
        "bori_lang = {val:key for (key, val) in ori_lang.items()}"
      ],
      "execution_count": 0,
      "outputs": []
    },
    {
      "metadata": {
        "id": "sgKlYcMqZ20B",
        "colab_type": "code",
        "colab": {}
      },
      "cell_type": "code",
      "source": [
        "# create new column with numerical values for languages\n",
        "\n",
        "dftest_timebox[\"lang_num\"] = dftest_timebox['original_language'].map(bori_lang)\n",
        "dftest_timebox.head()"
      ],
      "execution_count": 0,
      "outputs": []
    },
    {
      "metadata": {
        "id": "l5TUUPNCc9tP",
        "colab_type": "code",
        "colab": {
          "base_uri": "https://localhost:8080/",
          "height": 269
        },
        "outputId": "dc24514a-01e6-4137-8a65-f362b73678d2"
      },
      "cell_type": "code",
      "source": [
        "plt.scatter(dftest_timebox[\"lang_num\"],dftest_timebox['popularity']);"
      ],
      "execution_count": 211,
      "outputs": [
        {
          "output_type": "display_data",
          "data": {
            "image/png": "[encoded data removed]",
            "text/plain": [
              "<Figure size 432x288 with 1 Axes>"
            ]
          },
          "metadata": {
            "tags": []
          }
        }
      ]
    },
    {
      "metadata": {
        "id": "0yVdn9GQdkJ5",
        "colab_type": "code",
        "colab": {
          "base_uri": "https://localhost:8080/",
          "height": 34
        },
        "outputId": "18a2c842-cc1a-4a93-9e97-9bfdd84e9ffb"
      },
      "cell_type": "code",
      "source": [
        ""
      ],
      "execution_count": 214,
      "outputs": [
        {
          "output_type": "execute_result",
          "data": {
            "text/plain": [
              "4272"
            ]
          },
          "metadata": {
            "tags": []
          },
          "execution_count": 214
        }
      ]
    },
    {
      "metadata": {
        "id": "Rp8G_2Pw2LNU",
        "colab_type": "code",
        "colab": {}
      },
      "cell_type": "code",
      "source": [
        "country_lang_dict = {\"AF\" : \"Afganistan\",\n",
        "\"AX\" : \"Ålandeilande\",\n",
        "\"AL\" : \"Albanië\",\n",
        "\"DZ\" : \"Algerië\",\n",
        "\"AS\" : \"Amerikaanse Samoa\",\n",
        "\"AD\" : \"Andorra\",\n",
        "\"AO\" : \"Angola\",\n",
        "\"AI\" : \"Anguilla\",\n",
        "\"AQ\" : \"Antarktika\",\n",
        "\"AG\" : \"Antigua en Barbuda\",\n",
        "\"AR\" : \"Argentinië\",\n",
        "\"AM\" : \"Armenië\",\n",
        "\"AW\" : \"Aruba\",\n",
        "\"AC\" : \"Ascensioneiland\",\n",
        "\"AU\" : \"Australië\",\n",
        "\"AZ\" : \"Azerbeidjan\",\n",
        "\"BS\" : \"Bahamas\",\n",
        "\"BH\" : \"Bahrein\",\n",
        "\"BD\" : \"Bangladesj\",\n",
        "\"BB\" : \"Barbados\",\n",
        "\"BY\" : \"Belarus\",\n",
        "\"BE\" : \"België\",\n",
        "\"BZ\" : \"Belize\",\n",
        "\"BJ\" : \"Benin\",\n",
        "\"BM\" : \"Bermuda\",\n",
        "\"BT\" : \"Bhoetan\",\n",
        "\"BO\" : \"Bolivië\",\n",
        "\"BA\" : \"Bosnië en Herzegowina\",\n",
        "\"BW\" : \"Botswana\",\n",
        "\"BR\" : \"Brasilië\",\n",
        "\"IO\" : \"Brits-Indiese Oseaangebied\",\n",
        "\"VG\" : \"Britse Maagde-eilande\",\n",
        "\"BN\" : \"Broenei\",\n",
        "\"BG\" : \"Bulgarye\",\n",
        "\"BF\" : \"Burkina Faso\",\n",
        "\"BI\" : \"Burundi\",\n",
        "\"EA\" : \"Ceuta en Melilla\",\n",
        "\"CL\" : \"Chili\",\n",
        "\"CO\" : \"Colombië\",\n",
        "\"KM\" : \"Comore\",\n",
        "\"CK\" : \"Cookeilande\",\n",
        "\"CR\" : \"Costa Rica\",\n",
        "\"CW\" : \"Curaçao\",\n",
        "\"CD\" : \"Demokratiese Republiek van die Kongo\",\n",
        "\"DK\" : \"Denemarke\",\n",
        "\"DG\" : \"Diego Garcia\",\n",
        "\"DJ\" : \"Djiboeti\",\n",
        "\"DM\" : \"Dominica\",\n",
        "\"DO\" : \"Dominikaanse Republiek\",\n",
        "\"DE\" : \"Duitsland\",\n",
        "\"EC\" : \"Ecuador\",\n",
        "\"EG\" : \"Egipte\",\n",
        "\"IM\" : \"Eiland Man\",\n",
        "\"GQ\" : \"Ekwatoriaal-Guinee\",\n",
        "\"SV\" : \"El Salvador\",\n",
        "\"ER\" : \"Eritrea\",\n",
        "\"EE\" : \"Estland\",\n",
        "\"ET\" : \"Ethiopië\",\n",
        "\"FK\" : \"Falklandeilande\",\n",
        "\"FO\" : \"Faroëreilande\",\n",
        "\"FJ\" : \"Fidji\",\n",
        "\"PH\" : \"Filippyne\",\n",
        "\"FI\" : \"Finland\",\n",
        "\"FR\" : \"Frankryk\",\n",
        "\"GF\" : \"Frans-Guyana\",\n",
        "\"PF\" : \"Frans-Polinesië\",\n",
        "\"TF\" : \"Franse Suidelike Gebiede\",\n",
        "\"GA\" : \"Gaboen\",\n",
        "\"GM\" : \"Gambië\",\n",
        "\"GE\" : \"Georgië\",\n",
        "\"GH\" : \"Ghana\",\n",
        "\"GI\" : \"Gibraltar\",\n",
        "\"GD\" : \"Grenada\",\n",
        "\"GR\" : \"Griekeland\",\n",
        "\"GL\" : \"Groenland\",\n",
        "\"GP\" : \"Guadeloupe\",\n",
        "\"GU\" : \"Guam\",\n",
        "\"GT\" : \"Guatemala\",\n",
        "\"GG\" : \"Guernsey\",\n",
        "\"GN\" : \"Guinee\",\n",
        "\"GW\" : \"Guinee-Bissau\",\n",
        "\"GY\" : \"Guyana\",\n",
        "\"HT\" : \"Haïti\",\n",
        "\"HN\" : \"Honduras\",\n",
        "\"HU\" : \"Hongarye\",\n",
        "\"HK\" : \"Hongkong SAS Sjina\",\n",
        "\"IE\" : \"Ierland\",\n",
        "\"IN\" : \"Indië\",\n",
        "\"ID\" : \"Indonesië\",\n",
        "\"IQ\" : \"Irak\",\n",
        "\"IR\" : \"Iran\",\n",
        "\"IL\" : \"Israel\",\n",
        "\"IT\" : \"Italië\",\n",
        "\"CI\" : \"Ivoorkus\",\n",
        "\"JM\" : \"Jamaika\",\n",
        "\"JP\" : \"Japan\",\n",
        "\"YE\" : \"Jemen\",\n",
        "\"JE\" : \"Jersey\",\n",
        "\"JO\" : \"Jordanië\",\n",
        "\"KY\" : \"Kaaimanseilande\",\n",
        "\"CV\" : \"Kaap Verde\",\n",
        "\"KH\" : \"Kambodja\",\n",
        "\"CM\" : \"Kameroen\",\n",
        "\"CA\" : \"Kanada\",\n",
        "\"IC\" : \"Kanariese Eilande\",\n",
        "\"BQ\" : \"Karibiese Nederland\",\n",
        "\"QA\" : \"Katar\",\n",
        "\"KZ\" : \"Kazakstan\",\n",
        "\"KE\" : \"Kenia\",\n",
        "\"CX\" : \"Kerseiland\",\n",
        "\"KG\" : \"Kirgistan\",\n",
        "\"KI\" : \"Kiribati\",\n",
        "\"UM\" : \"Klein afgeleë eilande van die VSA\",\n",
        "\"KW\" : \"Koeweit\",\n",
        "\"CC\" : \"Kokoseilande\",\n",
        "\"CG\" : \"Kongo - Brazzaville\",\n",
        "\"XK\" : \"Kosovo\",\n",
        "\"HR\" : \"Kroasië\",\n",
        "\"CU\" : \"Kuba\",\n",
        "\"LA\" : \"Laos\",\n",
        "\"LS\" : \"Lesotho\",\n",
        "\"LV\" : \"Letland\",\n",
        "\"LB\" : \"Libanon\",\n",
        "\"LR\" : \"Liberië\",\n",
        "\"LY\" : \"Libië\",\n",
        "\"LI\" : \"Liechtenstein\",\n",
        "\"LT\" : \"Litaue\",\n",
        "\"LU\" : \"Luxemburg\",\n",
        "\"MO\" : \"Macau SAS Sjina\",\n",
        "\"MK\" : \"Macedonië\",\n",
        "\"MG\" : \"Madagaskar\",\n",
        "\"MW\" : \"Malawi\",\n",
        "\"MV\" : \"Maledive\",\n",
        "\"MY\" : \"Maleisië\",\n",
        "\"ML\" : \"Mali\",\n",
        "\"MT\" : \"Malta\",\n",
        "\"MA\" : \"Marokko\",\n",
        "\"MH\" : \"Marshalleilande\",\n",
        "\"MQ\" : \"Martinique\",\n",
        "\"MR\" : \"Mauritanië\",\n",
        "\"MU\" : \"Mauritius\",\n",
        "\"YT\" : \"Mayotte\",\n",
        "\"MX\" : \"Meksiko\",\n",
        "\"MM\" : \"Mianmar (Birma)\",\n",
        "\"FM\" : \"Mikronesië\",\n",
        "\"MD\" : \"Moldowa\",\n",
        "\"MC\" : \"Monaco\",\n",
        "\"MN\" : \"Mongolië\",\n",
        "\"ME\" : \"Montenegro\",\n",
        "\"MS\" : \"Montserrat\",\n",
        "\"MZ\" : \"Mosambiek\",\n",
        "\"NA\" : \"Namibië\",\n",
        "\"NR\" : \"Nauru\",\n",
        "\"NL\" : \"Nederland\",\n",
        "\"NP\" : \"Nepal\",\n",
        "\"NI\" : \"Nicaragua\",\n",
        "\"NC\" : \"Nieu-Kaledonië\",\n",
        "\"NZ\" : \"Nieu-Seeland\",\n",
        "\"NE\" : \"Niger\",\n",
        "\"NG\" : \"Nigerië\",\n",
        "\"NU\" : \"Niue\",\n",
        "\"KP\" : \"Noord-Korea\",\n",
        "\"MP\" : \"Noord-Mariane-eilande\",\n",
        "\"NO\" : \"Noorweë\",\n",
        "\"NF\" : \"Norfolkeiland\",\n",
        "\"UA\" : \"Oekraïne\",\n",
        "\"UZ\" : \"Oesbekistan\",\n",
        "\"OM\" : \"Oman\",\n",
        "\"TL\" : \"Oos-Timor\",\n",
        "\"AT\" : \"Oostenryk\",\n",
        "\"PK\" : \"Pakistan\",\n",
        "\"PW\" : \"Palau\",\n",
        "\"PS\" : \"Palestynse gebiede\",\n",
        "\"PA\" : \"Panama\",\n",
        "\"PG\" : \"Papoea-Nieu-Guinee\",\n",
        "\"PY\" : \"Paraguay\",\n",
        "\"PE\" : \"Peru\",\n",
        "\"PN\" : \"Pitcairneilande\",\n",
        "\"PL\" : \"Pole\",\n",
        "\"PT\" : \"Portugal\",\n",
        "\"XA\" : \"Pseudo-Accents\",\n",
        "\"XB\" : \"Pseudo-Bidi\",\n",
        "\"PR\" : \"Puerto Rico\",\n",
        "\"RE\" : \"Réunion\",\n",
        "\"RO\" : \"Roemenië\",\n",
        "\"RU\" : \"Rusland\",\n",
        "\"RW\" : \"Rwanda\",\n",
        "\"SB\" : \"Salomonseilande\",\n",
        "\"WS\" : \"Samoa\",\n",
        "\"SM\" : \"San Marino\",\n",
        "\"ST\" : \"São Tomé en Príncipe\",\n",
        "\"SA\" : \"Saoedi-Arabië\",\n",
        "\"SN\" : \"Senegal\",\n",
        "\"CF\" : \"Sentraal-Afrikaanse Republiek\",\n",
        "\"RS\" : \"Serwië\",\n",
        "\"SC\" : \"Seychelle\",\n",
        "\"SL\" : \"Sierra Leone\",\n",
        "\"SG\" : \"Singapoer\",\n",
        "\"BL\" : \"Sint Barthélemy\",\n",
        "\"SH\" : \"Sint Helena\",\n",
        "\"KN\" : \"Sint Kitts en Nevis\",\n",
        "\"LC\" : \"Sint Lucia\",\n",
        "\"SX\" : \"Sint Maarten\",\n",
        "\"MF\" : \"Sint Martin\",\n",
        "\"PM\" : \"Sint Pierre en Miquelon\",\n",
        "\"VC\" : \"Sint Vincent en die Grenadine\",\n",
        "\"CY\" : \"Siprus\",\n",
        "\"SY\" : \"Sirië\",\n",
        "\"CN\" : \"Sjina\",\n",
        "\"SK\" : \"Slowakye\",\n",
        "\"SI\" : \"Slowenië\",\n",
        "\"SD\" : \"Soedan\",\n",
        "\"SO\" : \"Somalië\",\n",
        "\"ES\" : \"Spanje\",\n",
        "\"LK\" : \"Sri Lanka\",\n",
        "\"ZA\" : \"Suid-Afrika\",\n",
        "\"GS\" : \"Suid-Georgië en die Suidelike Sandwicheilande\",\n",
        "\"KR\" : \"Suid-Korea\",\n",
        "\"SS\" : \"Suid-Soedan\",\n",
        "\"SR\" : \"Suriname\",\n",
        "\"SJ\" : \"Svalbard en Jan Mayen\",\n",
        "\"SZ\" : \"Swaziland\",\n",
        "\"SE\" : \"Swede\",\n",
        "\"CH\" : \"Switserland\",\n",
        "\"TJ\" : \"Tadjikistan\",\n",
        "\"TW\" : \"Taiwan\",\n",
        "\"TZ\" : \"Tanzanië\",\n",
        "\"TH\" : \"Thailand\",\n",
        "\"TG\" : \"Togo\",\n",
        "\"TK\" : \"Tokelau\",\n",
        "\"TO\" : \"Tonga\",\n",
        "\"TT\" : \"Trinidad en Tobago\",\n",
        "\"TA\" : \"Tristan da Cunha\",\n",
        "\"TD\" : \"Tsjad\",\n",
        "\"CZ\" : \"Tsjeggië\",\n",
        "\"TN\" : \"Tunisië\",\n",
        "\"TM\" : \"Turkmenistan\",\n",
        "\"TC\" : \"Turks- en Caicoseilande\",\n",
        "\"TR\" : \"Turkye\",\n",
        "\"TV\" : \"Tuvalu\",\n",
        "\"UG\" : \"Uganda\",\n",
        "\"UY\" : \"Uruguay\",\n",
        "\"VU\" : \"Vanuatu\",\n",
        "\"VA\" : \"Vatikaanstad\",\n",
        "\"VE\" : \"Venezuela\",\n",
        "\"AE\" : \"Verenigde Arabiese Emirate\",\n",
        "\"GB\" : \"Verenigde Koninkryk\",\n",
        "\"US\" : \"Verenigde State van Amerika\",\n",
        "\"VN\" : \"Viëtnam\",\n",
        "\"VI\" : \"VSA se Maagde-eilande\",\n",
        "\"WF\" : \"Wallis en Futuna\",\n",
        "\"EH\" : \"Wes-Sahara\",\n",
        "\"IS\" : \"Ysland\",\n",
        "\"ZM\" : \"Zambië\",\n",
        "\"ZW\" : \"Zimbabwe\",\n",
        "}"
      ],
      "execution_count": 0,
      "outputs": []
    },
    {
      "metadata": {
        "id": "BT9gdS7viJZa",
        "colab_type": "text"
      },
      "cell_type": "markdown",
      "source": [
        "### Assignment questions\n",
        "\n",
        "After you've worked on some code, answer the following questions in this text block:\n",
        "\n",
        "**1.  Describe in a paragraph of text what you did and why, as if you were writing an email to somebody interested but nontechnical.**\n",
        "\n",
        "The data above had a lot of missing values that needed to be filled before using the data. So while cleaning it i tried to be as impartial as possible and base my cleaning on a structered basis.\n",
        "\n",
        "**2.  What was the most challenging part of what you did?**\n",
        "\n",
        "Chaning the date from a m/d/yy format to a only year format, when converted into datetime, the 58 would become 2058 rather than 1958. I could not find the answer. Another method i tried was to parse the date by \"/\" and simply and adding the 20 or 19, 58.\n",
        "And couldn't understand how to assign countries.\n",
        "\n",
        "**3.  What was the most interesting thing you learned?**\n",
        "\n",
        "\n",
        "Converting date to datetime\n",
        "\n",
        "**4.  What area would you like to explore with more time?**\n",
        "\n",
        "\n",
        "Mapping from dictionary to column.\n",
        "\n",
        "\n"
      ]
    },
    {
      "metadata": {
        "id": "_XXg2crAipwP",
        "colab_type": "text"
      },
      "cell_type": "markdown",
      "source": [
        "## Stretch goals and resources\n",
        "\n",
        "Following are *optional* things for you to take a look at. Focus on the above assignment first, and make sure to commit and push your changes to GitHub (and since this is the first assignment of the sprint, open a PR as well).\n",
        "\n",
        "- [pandas documentation](https://pandas.pydata.org/pandas-docs/stable/)\n",
        "- [scikit-learn documentation](http://scikit-learn.org/stable/documentation.html)\n",
        "- [matplotlib documentation](https://matplotlib.org/contents.html)\n",
        "- [Awesome Data Science](https://github.com/bulutyazilim/awesome-datascience) - a list of many types of DS resources\n",
        "\n",
        "Stretch goals:\n",
        "\n",
        "- Find and read blogs, walkthroughs, and other examples of people working through cool things with data science - and share with your classmates!\n",
        "- Write a blog post (Medium is a popular place to publish) introducing yourself as somebody learning data science, and talking about what you've learned already and what you're excited to learn more about."
      ]
    }
  ]
}
