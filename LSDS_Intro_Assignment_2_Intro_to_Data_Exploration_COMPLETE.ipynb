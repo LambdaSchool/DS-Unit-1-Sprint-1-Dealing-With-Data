{
  "nbformat": 4,
  "nbformat_minor": 0,
  "metadata": {
    "colab": {
      "name": "LSDS Intro Assignment 2 - Intro to Data Exploration COMPLETE",
      "version": "0.3.2",
      "provenance": [],
      "collapsed_sections": [],
      "include_colab_link": true
    },
    "kernelspec": {
      "name": "python3",
      "display_name": "Python 3"
    }
  },
  "cells": [
    {
      "cell_type": "markdown",
      "metadata": {
        "id": "view-in-github",
        "colab_type": "text"
      },
      "source": [
        "<a href=\"https://colab.research.google.com/github/DimaKav/DS-Sprint-01-Dealing-With-Data/blob/master/LSDS_Intro_Assignment_2_Intro_to_Data_Exploration_COMPLETE.ipynb\" target=\"_parent\"><img src=\"https://colab.research.google.com/assets/colab-badge.svg\" alt=\"Open In Colab\"/></a>"
      ]
    },
    {
      "metadata": {
        "id": "dJNVAHIX8XCi",
        "colab_type": "text"
      },
      "cell_type": "markdown",
      "source": [
        "## 1) Copy the notebook to your google account."
      ]
    },
    {
      "metadata": {
        "id": "ViAyRUAM8cMo",
        "colab_type": "text"
      },
      "cell_type": "markdown",
      "source": [
        "## 2) Import the pandas library and alias it as \"pd\"."
      ]
    },
    {
      "metadata": {
        "id": "Kd_nusDS98v7",
        "colab_type": "code",
        "colab": {}
      },
      "cell_type": "code",
      "source": [
        "# Testing\n",
        "import pandas as pd"
      ],
      "execution_count": 0,
      "outputs": []
    },
    {
      "metadata": {
        "id": "YjCgT50E8zPu",
        "colab_type": "text"
      },
      "cell_type": "markdown",
      "source": [
        "## 3) Read in the CSV dataset that is found at the following URL:\n",
        "[DATASET HERE](https://raw.githubusercontent.com/ryanleeallred/datasets/master/messy-data.csv)\n"
      ]
    },
    {
      "metadata": {
        "id": "HzEBd-hz99Ma",
        "colab_type": "code",
        "colab": {}
      },
      "cell_type": "code",
      "source": [
        "data = pd.read_csv('https://raw.githubusercontent.com/ryanleeallred/datasets/master/messy-data.csv')"
      ],
      "execution_count": 0,
      "outputs": []
    },
    {
      "metadata": {
        "id": "Mu1IYH3g9EF3",
        "colab_type": "text"
      },
      "cell_type": "markdown",
      "source": [
        "## 4) Print out the shape as well as the first 5 rows of the dataframe."
      ]
    },
    {
      "metadata": {
        "id": "ZLnVdtLW99vN",
        "colab_type": "code",
        "outputId": "514879b0-daca-460f-a51a-8ae68cc7fa57",
        "colab": {
          "base_uri": "https://localhost:8080/",
          "height": 221
        }
      },
      "cell_type": "code",
      "source": [
        "print(data.shape)\n",
        "data.head(5)"
      ],
      "execution_count": 0,
      "outputs": [
        {
          "output_type": "stream",
          "text": [
            "(165, 7)\n"
          ],
          "name": "stdout"
        },
        {
          "output_type": "execute_result",
          "data": {
            "text/html": [
              "<div>\n",
              "<style scoped>\n",
              "    .dataframe tbody tr th:only-of-type {\n",
              "        vertical-align: middle;\n",
              "    }\n",
              "\n",
              "    .dataframe tbody tr th {\n",
              "        vertical-align: top;\n",
              "    }\n",
              "\n",
              "    .dataframe thead th {\n",
              "        text-align: right;\n",
              "    }\n",
              "</style>\n",
              "<table border=\"1\" class=\"dataframe\">\n",
              "  <thead>\n",
              "    <tr style=\"text-align: right;\">\n",
              "      <th></th>\n",
              "      <th>alpha</th>\n",
              "      <th>beta</th>\n",
              "      <th>gamma</th>\n",
              "      <th>delta</th>\n",
              "      <th>epsilon</th>\n",
              "      <th>zeta</th>\n",
              "      <th>eta</th>\n",
              "    </tr>\n",
              "  </thead>\n",
              "  <tbody>\n",
              "    <tr>\n",
              "      <th>0</th>\n",
              "      <td>2</td>\n",
              "      <td>48</td>\n",
              "      <td>12</td>\n",
              "      <td>240</td>\n",
              "      <td>3.0</td>\n",
              "      <td>Yes</td>\n",
              "      <td>AZ</td>\n",
              "    </tr>\n",
              "    <tr>\n",
              "      <th>1</th>\n",
              "      <td>3</td>\n",
              "      <td>46</td>\n",
              "      <td>18</td>\n",
              "      <td>230</td>\n",
              "      <td>5.0</td>\n",
              "      <td>NaN</td>\n",
              "      <td>VT</td>\n",
              "    </tr>\n",
              "    <tr>\n",
              "      <th>2</th>\n",
              "      <td>4</td>\n",
              "      <td>44</td>\n",
              "      <td>24</td>\n",
              "      <td>220</td>\n",
              "      <td>7.0</td>\n",
              "      <td>No</td>\n",
              "      <td>PA</td>\n",
              "    </tr>\n",
              "    <tr>\n",
              "      <th>3</th>\n",
              "      <td>5</td>\n",
              "      <td>42</td>\n",
              "      <td>30</td>\n",
              "      <td>210</td>\n",
              "      <td>9.0</td>\n",
              "      <td>Yes</td>\n",
              "      <td>OK</td>\n",
              "    </tr>\n",
              "    <tr>\n",
              "      <th>4</th>\n",
              "      <td>6</td>\n",
              "      <td>44</td>\n",
              "      <td>36</td>\n",
              "      <td>220</td>\n",
              "      <td>11.0</td>\n",
              "      <td>Yes</td>\n",
              "      <td>MD</td>\n",
              "    </tr>\n",
              "  </tbody>\n",
              "</table>\n",
              "</div>"
            ],
            "text/plain": [
              "   alpha  beta  gamma  delta  epsilon zeta eta\n",
              "0      2    48     12    240      3.0  Yes  AZ\n",
              "1      3    46     18    230      5.0  NaN  VT\n",
              "2      4    44     24    220      7.0   No  PA\n",
              "3      5    42     30    210      9.0  Yes  OK\n",
              "4      6    44     36    220     11.0  Yes  MD"
            ]
          },
          "metadata": {
            "tags": []
          },
          "execution_count": 126
        }
      ]
    },
    {
      "metadata": {
        "id": "lQXA62rd9OWM",
        "colab_type": "text"
      },
      "cell_type": "markdown",
      "source": [
        "## 5) Print out the datatypes of the dataframe columns (dataset features)."
      ]
    },
    {
      "metadata": {
        "id": "5hPgdg0W9-1j",
        "colab_type": "code",
        "outputId": "2028c54e-7e18-4a08-b279-79b847f276a0",
        "colab": {
          "base_uri": "https://localhost:8080/",
          "height": 153
        }
      },
      "cell_type": "code",
      "source": [
        "data.dtypes"
      ],
      "execution_count": 0,
      "outputs": [
        {
          "output_type": "execute_result",
          "data": {
            "text/plain": [
              "alpha        int64\n",
              "beta         int64\n",
              "gamma        int64\n",
              "delta        int64\n",
              "epsilon    float64\n",
              "zeta        object\n",
              "eta         object\n",
              "dtype: object"
            ]
          },
          "metadata": {
            "tags": []
          },
          "execution_count": 127
        }
      ]
    },
    {
      "metadata": {
        "id": "WcMnUSW5fb9b",
        "colab_type": "text"
      },
      "cell_type": "markdown",
      "source": [
        "## 6) Print out the summary statistics of the numeric values of your dataset i.e. min, max, mean, standard deviation, etc."
      ]
    },
    {
      "metadata": {
        "id": "4Np346ECfn0i",
        "colab_type": "code",
        "outputId": "5fc6cecc-b936-41e7-b323-c7f65c472d05",
        "colab": {
          "base_uri": "https://localhost:8080/",
          "height": 297
        }
      },
      "cell_type": "code",
      "source": [
        "data.describe()"
      ],
      "execution_count": 0,
      "outputs": [
        {
          "output_type": "execute_result",
          "data": {
            "text/html": [
              "<div>\n",
              "<style scoped>\n",
              "    .dataframe tbody tr th:only-of-type {\n",
              "        vertical-align: middle;\n",
              "    }\n",
              "\n",
              "    .dataframe tbody tr th {\n",
              "        vertical-align: top;\n",
              "    }\n",
              "\n",
              "    .dataframe thead th {\n",
              "        text-align: right;\n",
              "    }\n",
              "</style>\n",
              "<table border=\"1\" class=\"dataframe\">\n",
              "  <thead>\n",
              "    <tr style=\"text-align: right;\">\n",
              "      <th></th>\n",
              "      <th>alpha</th>\n",
              "      <th>beta</th>\n",
              "      <th>gamma</th>\n",
              "      <th>delta</th>\n",
              "      <th>epsilon</th>\n",
              "    </tr>\n",
              "  </thead>\n",
              "  <tbody>\n",
              "    <tr>\n",
              "      <th>count</th>\n",
              "      <td>165.000000</td>\n",
              "      <td>165.000000</td>\n",
              "      <td>165.000000</td>\n",
              "      <td>165.000000</td>\n",
              "      <td>141.000000</td>\n",
              "    </tr>\n",
              "    <tr>\n",
              "      <th>mean</th>\n",
              "      <td>46.169697</td>\n",
              "      <td>17.921212</td>\n",
              "      <td>277.018182</td>\n",
              "      <td>89.606061</td>\n",
              "      <td>164.794326</td>\n",
              "    </tr>\n",
              "    <tr>\n",
              "      <th>std</th>\n",
              "      <td>24.371521</td>\n",
              "      <td>17.769180</td>\n",
              "      <td>146.229125</td>\n",
              "      <td>88.845900</td>\n",
              "      <td>96.430843</td>\n",
              "    </tr>\n",
              "    <tr>\n",
              "      <th>min</th>\n",
              "      <td>2.000000</td>\n",
              "      <td>-11.000000</td>\n",
              "      <td>12.000000</td>\n",
              "      <td>-55.000000</td>\n",
              "      <td>3.000000</td>\n",
              "    </tr>\n",
              "    <tr>\n",
              "      <th>25%</th>\n",
              "      <td>28.000000</td>\n",
              "      <td>7.000000</td>\n",
              "      <td>168.000000</td>\n",
              "      <td>35.000000</td>\n",
              "      <td>83.000000</td>\n",
              "    </tr>\n",
              "    <tr>\n",
              "      <th>50%</th>\n",
              "      <td>44.000000</td>\n",
              "      <td>15.000000</td>\n",
              "      <td>264.000000</td>\n",
              "      <td>75.000000</td>\n",
              "      <td>163.000000</td>\n",
              "    </tr>\n",
              "    <tr>\n",
              "      <th>75%</th>\n",
              "      <td>65.000000</td>\n",
              "      <td>32.000000</td>\n",
              "      <td>390.000000</td>\n",
              "      <td>160.000000</td>\n",
              "      <td>247.000000</td>\n",
              "    </tr>\n",
              "    <tr>\n",
              "      <th>max</th>\n",
              "      <td>85.000000</td>\n",
              "      <td>50.000000</td>\n",
              "      <td>510.000000</td>\n",
              "      <td>250.000000</td>\n",
              "      <td>331.000000</td>\n",
              "    </tr>\n",
              "  </tbody>\n",
              "</table>\n",
              "</div>"
            ],
            "text/plain": [
              "            alpha        beta       gamma       delta     epsilon\n",
              "count  165.000000  165.000000  165.000000  165.000000  141.000000\n",
              "mean    46.169697   17.921212  277.018182   89.606061  164.794326\n",
              "std     24.371521   17.769180  146.229125   88.845900   96.430843\n",
              "min      2.000000  -11.000000   12.000000  -55.000000    3.000000\n",
              "25%     28.000000    7.000000  168.000000   35.000000   83.000000\n",
              "50%     44.000000   15.000000  264.000000   75.000000  163.000000\n",
              "75%     65.000000   32.000000  390.000000  160.000000  247.000000\n",
              "max     85.000000   50.000000  510.000000  250.000000  331.000000"
            ]
          },
          "metadata": {
            "tags": []
          },
          "execution_count": 128
        }
      ]
    },
    {
      "metadata": {
        "id": "m2KFAh6T97-t",
        "colab_type": "text"
      },
      "cell_type": "markdown",
      "source": [
        "## 6) Clean all NaN values from the dataset.\n",
        "\n",
        "Feel free to add code cells as needed.#"
      ]
    },
    {
      "metadata": {
        "id": "dq2EmSWJYkDY",
        "colab_type": "code",
        "outputId": "b2a8b5c9-6ca1-4858-bbc5-19435f8a0974",
        "colab": {
          "base_uri": "https://localhost:8080/",
          "height": 153
        }
      },
      "cell_type": "code",
      "source": [
        "# See how many are NaN\n",
        "data.isnull().sum()"
      ],
      "execution_count": 0,
      "outputs": [
        {
          "output_type": "execute_result",
          "data": {
            "text/plain": [
              "alpha       0\n",
              "beta        0\n",
              "gamma       0\n",
              "delta       0\n",
              "epsilon    24\n",
              "zeta       19\n",
              "eta         0\n",
              "dtype: int64"
            ]
          },
          "metadata": {
            "tags": []
          },
          "execution_count": 129
        }
      ]
    },
    {
      "metadata": {
        "id": "n3g8HTNZPSP2",
        "colab_type": "code",
        "colab": {}
      },
      "cell_type": "code",
      "source": [
        "# Replace NaNs in epsilon with interpolate\n",
        "data.epsilon = data.epsilon.interpolate()\n",
        "# Replace NaNs and 'No' in zeta column with 0\n",
        "data['zeta'] = [1 if x == 'Yes' else 0 for x in data['zeta']]"
      ],
      "execution_count": 0,
      "outputs": []
    },
    {
      "metadata": {
        "id": "wP7BDqcwLauI",
        "colab_type": "text"
      },
      "cell_type": "markdown",
      "source": [
        "## 6.1) Describe how you addressed the NaN values and give an explanation justifying your decision."
      ]
    },
    {
      "metadata": {
        "id": "9SEbatE2Xamm",
        "colab_type": "text"
      },
      "cell_type": "markdown",
      "source": [
        "**epsilon NaNs**\n",
        "\n",
        "To figure out how to impute epsilon NaNs, I plotted it on a graph to see if its a straight line. Turns out it was so I could use linear interpolation via the interpolate() method.\n",
        "\n",
        "**zeta NaNs**\n",
        "\n",
        "The value counts for No and Yes is 74 and 72, so randomly inserting yes's and no's might be a viable strategy, we would first have to check if the values are close to normal distibution. Since the answers are binary and since I don't know why the NaNs are missing, I think it would be better to turn the zeta column into numeric features where 0 represents 'No' and NaN instead."
      ]
    },
    {
      "metadata": {
        "id": "ln9-44Jg-V6d",
        "colab_type": "text"
      },
      "cell_type": "markdown",
      "source": [
        "## 7) Create scatter plots using Matplotlib. Can you find any interesting relationships in the data? Be sure to label your axis and to give your graphs a title.\n",
        "\n",
        "Screenshot cool graphs that you create and share them with the slack channel. \n",
        "\n",
        "Don't forget to import matplotlib before trying to use it."
      ]
    },
    {
      "metadata": {
        "id": "eeJwN6OBLUyv",
        "colab_type": "code",
        "colab": {}
      },
      "cell_type": "code",
      "source": [
        "import matplotlib.pyplot as plt"
      ],
      "execution_count": 0,
      "outputs": []
    },
    {
      "metadata": {
        "id": "bqepo2SbfFjo",
        "colab_type": "code",
        "outputId": "6f5c5bf7-3232-4866-e758-8162be0f4c8d",
        "colab": {
          "base_uri": "https://localhost:8080/",
          "height": 204
        }
      },
      "cell_type": "code",
      "source": [
        "data.head()"
      ],
      "execution_count": 0,
      "outputs": [
        {
          "output_type": "execute_result",
          "data": {
            "text/html": [
              "<div>\n",
              "<style scoped>\n",
              "    .dataframe tbody tr th:only-of-type {\n",
              "        vertical-align: middle;\n",
              "    }\n",
              "\n",
              "    .dataframe tbody tr th {\n",
              "        vertical-align: top;\n",
              "    }\n",
              "\n",
              "    .dataframe thead th {\n",
              "        text-align: right;\n",
              "    }\n",
              "</style>\n",
              "<table border=\"1\" class=\"dataframe\">\n",
              "  <thead>\n",
              "    <tr style=\"text-align: right;\">\n",
              "      <th></th>\n",
              "      <th>alpha</th>\n",
              "      <th>beta</th>\n",
              "      <th>gamma</th>\n",
              "      <th>delta</th>\n",
              "      <th>epsilon</th>\n",
              "      <th>zeta</th>\n",
              "      <th>eta</th>\n",
              "    </tr>\n",
              "  </thead>\n",
              "  <tbody>\n",
              "    <tr>\n",
              "      <th>0</th>\n",
              "      <td>2</td>\n",
              "      <td>48</td>\n",
              "      <td>12</td>\n",
              "      <td>240</td>\n",
              "      <td>3.0</td>\n",
              "      <td>1</td>\n",
              "      <td>AZ</td>\n",
              "    </tr>\n",
              "    <tr>\n",
              "      <th>1</th>\n",
              "      <td>3</td>\n",
              "      <td>46</td>\n",
              "      <td>18</td>\n",
              "      <td>230</td>\n",
              "      <td>5.0</td>\n",
              "      <td>0</td>\n",
              "      <td>VT</td>\n",
              "    </tr>\n",
              "    <tr>\n",
              "      <th>2</th>\n",
              "      <td>4</td>\n",
              "      <td>44</td>\n",
              "      <td>24</td>\n",
              "      <td>220</td>\n",
              "      <td>7.0</td>\n",
              "      <td>0</td>\n",
              "      <td>PA</td>\n",
              "    </tr>\n",
              "    <tr>\n",
              "      <th>3</th>\n",
              "      <td>5</td>\n",
              "      <td>42</td>\n",
              "      <td>30</td>\n",
              "      <td>210</td>\n",
              "      <td>9.0</td>\n",
              "      <td>1</td>\n",
              "      <td>OK</td>\n",
              "    </tr>\n",
              "    <tr>\n",
              "      <th>4</th>\n",
              "      <td>6</td>\n",
              "      <td>44</td>\n",
              "      <td>36</td>\n",
              "      <td>220</td>\n",
              "      <td>11.0</td>\n",
              "      <td>1</td>\n",
              "      <td>MD</td>\n",
              "    </tr>\n",
              "  </tbody>\n",
              "</table>\n",
              "</div>"
            ],
            "text/plain": [
              "   alpha  beta  gamma  delta  epsilon  zeta eta\n",
              "0      2    48     12    240      3.0     1  AZ\n",
              "1      3    46     18    230      5.0     0  VT\n",
              "2      4    44     24    220      7.0     0  PA\n",
              "3      5    42     30    210      9.0     1  OK\n",
              "4      6    44     36    220     11.0     1  MD"
            ]
          },
          "metadata": {
            "tags": []
          },
          "execution_count": 132
        }
      ]
    },
    {
      "metadata": {
        "id": "vUT0HLDxeQ4e",
        "colab_type": "code",
        "colab": {}
      },
      "cell_type": "code",
      "source": [
        ""
      ],
      "execution_count": 0,
      "outputs": []
    },
    {
      "metadata": {
        "id": "YElsb5THwWST",
        "colab_type": "code",
        "outputId": "0eeb2a71-2f33-43e1-c9b6-06034512c001",
        "colab": {
          "base_uri": "https://localhost:8080/",
          "height": 376
        }
      },
      "cell_type": "code",
      "source": [
        "plt.scatter(data.alpha, data.beta)\n",
        "plt.title('Relationship between alpha and beta')\n",
        "plt.gca().set(xlabel='Alpha', ylabel='Beta')\n",
        "plt.show()"
      ],
      "execution_count": 0,
      "outputs": [
        {
          "output_type": "display_data",
          "data": {
            "image/png": "[encoded data removed]",
            "text/plain": [
              "<matplotlib.figure.Figure at 0x7fe49dca9438>"
            ]
          },
          "metadata": {
            "tags": []
          }
        }
      ]
    },
    {
      "metadata": {
        "id": "wmJBCldRwbv_",
        "colab_type": "code",
        "outputId": "4512079c-f67a-49ba-da88-f37d63a0fab5",
        "colab": {
          "base_uri": "https://localhost:8080/",
          "height": 376
        }
      },
      "cell_type": "code",
      "source": [
        "plt.scatter(data.alpha, data.gamma)\n",
        "plt.title('Relationship between alpha and gamma')\n",
        "plt.gca().set(xlabel='Alpha', ylabel='Gamma')\n",
        "plt.show()"
      ],
      "execution_count": 0,
      "outputs": [
        {
          "output_type": "display_data",
          "data": {
            "image/png": "[encoded data removed]",
            "text/plain": [
              "<matplotlib.figure.Figure at 0x7fe49dcb2c18>"
            ]
          },
          "metadata": {
            "tags": []
          }
        }
      ]
    },
    {
      "metadata": {
        "id": "c_Rb2lm6wkKl",
        "colab_type": "code",
        "outputId": "96eeac5e-c9cf-4382-efe1-16aae5e7bcdc",
        "colab": {
          "base_uri": "https://localhost:8080/",
          "height": 376
        }
      },
      "cell_type": "code",
      "source": [
        "plt.scatter(data.alpha, data.delta)\n",
        "plt.title('Relationship between alpha and delta')\n",
        "plt.gca().set(xlabel='Alpha', ylabel='Delta')\n",
        "plt.show()"
      ],
      "execution_count": 0,
      "outputs": [
        {
          "output_type": "display_data",
          "data": {
            "image/png": "[encoded data removed]",
            "text/plain": [
              "<matplotlib.figure.Figure at 0x7fe49dc4cac8>"
            ]
          },
          "metadata": {
            "tags": []
          }
        }
      ]
    },
    {
      "metadata": {
        "id": "Gac1WzKbwneG",
        "colab_type": "code",
        "outputId": "a997a0b4-fd7a-4e51-b32d-c641446932d9",
        "colab": {
          "base_uri": "https://localhost:8080/",
          "height": 376
        }
      },
      "cell_type": "code",
      "source": [
        "plt.scatter(data.alpha, data.epsilon)\n",
        "plt.title('Relationship between alpha and epsilon')\n",
        "plt.gca().set(xlabel='Alpha', ylabel='Epsilon')\n",
        "plt.show()"
      ],
      "execution_count": 0,
      "outputs": [
        {
          "output_type": "display_data",
          "data": {
            "image/png": "[encoded data removed]",
            "text/plain": [
              "<matplotlib.figure.Figure at 0x7fe49db8aef0>"
            ]
          },
          "metadata": {
            "tags": []
          }
        }
      ]
    },
    {
      "metadata": {
        "id": "sjVMAordwqbi",
        "colab_type": "code",
        "outputId": "a71cc8a8-8012-4940-91a6-447ee04dd617",
        "colab": {
          "base_uri": "https://localhost:8080/",
          "height": 376
        }
      },
      "cell_type": "code",
      "source": [
        "plt.scatter(data.alpha, data.zeta)\n",
        "plt.title('Relationship between alpha and zeta')\n",
        "plt.gca().set(xlabel='Alpha', ylabel='Zeta')\n",
        "plt.show()"
      ],
      "execution_count": 0,
      "outputs": [
        {
          "output_type": "display_data",
          "data": {
            "image/png": "[encoded data removed]",
            "text/plain": [
              "<matplotlib.figure.Figure at 0x7fe49db29be0>"
            ]
          },
          "metadata": {
            "tags": []
          }
        }
      ]
    },
    {
      "metadata": {
        "id": "jQRWz584xAvq",
        "colab_type": "code",
        "outputId": "e5ec60ac-b3c8-4cdb-de9d-7e528f01ff81",
        "colab": {
          "base_uri": "https://localhost:8080/",
          "height": 364
        }
      },
      "cell_type": "code",
      "source": [
        "# All graphs\n",
        "data.plot()"
      ],
      "execution_count": 0,
      "outputs": [
        {
          "output_type": "execute_result",
          "data": {
            "text/plain": [
              "<matplotlib.axes._subplots.AxesSubplot at 0x7fe49dbae080>"
            ]
          },
          "metadata": {
            "tags": []
          },
          "execution_count": 146
        },
        {
          "output_type": "display_data",
          "data": {
            "image/png": "[encoded data removed]",
            "text/plain": [
              "<matplotlib.figure.Figure at 0x7fe49c095630>"
            ]
          },
          "metadata": {
            "tags": []
          }
        }
      ]
    },
    {
      "metadata": {
        "id": "yo4YDnjpmdAj",
        "colab_type": "text"
      },
      "cell_type": "markdown",
      "source": [
        "## 8) STRETCH GOAL (Extra Credit)\n",
        "\n",
        "Machine Learning algorithms don't do well with categorical values that are represented by strings. In order to have this dataset completely cleaned we need to transform the categorical variables that are represented as strings into numeric categorical variables\n",
        "\n",
        "- **Turn all categorical features (columns) into numeric features**\n",
        "\n",
        "Hints:\n",
        "\n",
        "[Scikit-Learn One-Hot-Encoder](http://scikit-learn.org/stable/modules/generated/sklearn.preprocessing.OneHotEncoder.html)\n",
        "\n",
        "[Pandas Docs - Working with Categorical Data](https://pandas.pydata.org/pandas-docs/stable/categorical.html)\n",
        "\n",
        "[Guide to Encoding Categorical Variables in Python](http://pbpython.com/categorical-encoding.html)"
      ]
    },
    {
      "metadata": {
        "id": "QwQWMABMxOIl",
        "colab_type": "code",
        "colab": {}
      },
      "cell_type": "code",
      "source": [
        "# Replace NaNs and 'No' in zeta column with 0\n",
        "data['zeta'] = [1 if x == 'Yes' else 0 for x in data['zeta']]"
      ],
      "execution_count": 0,
      "outputs": []
    },
    {
      "metadata": {
        "id": "OGZBluvIzDCj",
        "colab_type": "code",
        "colab": {}
      },
      "cell_type": "code",
      "source": [
        "# Turn the eta column into numerical categorical variables\n",
        "data.eta = data.eta.astype('category')\n",
        "data.eta = data.eta.cat.codes"
      ],
      "execution_count": 0,
      "outputs": []
    },
    {
      "metadata": {
        "id": "AqNHkPkTcKBY",
        "colab_type": "code",
        "outputId": "4059c97f-738e-4c25-d742-9a988cd9be76",
        "colab": {
          "base_uri": "https://localhost:8080/",
          "height": 204
        }
      },
      "cell_type": "code",
      "source": [
        "data.head()"
      ],
      "execution_count": 0,
      "outputs": [
        {
          "output_type": "execute_result",
          "data": {
            "text/html": [
              "<div>\n",
              "<style scoped>\n",
              "    .dataframe tbody tr th:only-of-type {\n",
              "        vertical-align: middle;\n",
              "    }\n",
              "\n",
              "    .dataframe tbody tr th {\n",
              "        vertical-align: top;\n",
              "    }\n",
              "\n",
              "    .dataframe thead th {\n",
              "        text-align: right;\n",
              "    }\n",
              "</style>\n",
              "<table border=\"1\" class=\"dataframe\">\n",
              "  <thead>\n",
              "    <tr style=\"text-align: right;\">\n",
              "      <th></th>\n",
              "      <th>alpha</th>\n",
              "      <th>beta</th>\n",
              "      <th>gamma</th>\n",
              "      <th>delta</th>\n",
              "      <th>epsilon</th>\n",
              "      <th>zeta</th>\n",
              "      <th>eta</th>\n",
              "    </tr>\n",
              "  </thead>\n",
              "  <tbody>\n",
              "    <tr>\n",
              "      <th>0</th>\n",
              "      <td>2</td>\n",
              "      <td>48</td>\n",
              "      <td>12</td>\n",
              "      <td>240</td>\n",
              "      <td>3.0</td>\n",
              "      <td>0</td>\n",
              "      <td>3</td>\n",
              "    </tr>\n",
              "    <tr>\n",
              "      <th>1</th>\n",
              "      <td>3</td>\n",
              "      <td>46</td>\n",
              "      <td>18</td>\n",
              "      <td>230</td>\n",
              "      <td>5.0</td>\n",
              "      <td>0</td>\n",
              "      <td>44</td>\n",
              "    </tr>\n",
              "    <tr>\n",
              "      <th>2</th>\n",
              "      <td>4</td>\n",
              "      <td>44</td>\n",
              "      <td>24</td>\n",
              "      <td>220</td>\n",
              "      <td>7.0</td>\n",
              "      <td>0</td>\n",
              "      <td>36</td>\n",
              "    </tr>\n",
              "    <tr>\n",
              "      <th>3</th>\n",
              "      <td>5</td>\n",
              "      <td>42</td>\n",
              "      <td>30</td>\n",
              "      <td>210</td>\n",
              "      <td>9.0</td>\n",
              "      <td>0</td>\n",
              "      <td>34</td>\n",
              "    </tr>\n",
              "    <tr>\n",
              "      <th>4</th>\n",
              "      <td>6</td>\n",
              "      <td>44</td>\n",
              "      <td>36</td>\n",
              "      <td>220</td>\n",
              "      <td>11.0</td>\n",
              "      <td>0</td>\n",
              "      <td>18</td>\n",
              "    </tr>\n",
              "  </tbody>\n",
              "</table>\n",
              "</div>"
            ],
            "text/plain": [
              "   alpha  beta  gamma  delta  epsilon  zeta  eta\n",
              "0      2    48     12    240      3.0     0    3\n",
              "1      3    46     18    230      5.0     0   44\n",
              "2      4    44     24    220      7.0     0   36\n",
              "3      5    42     30    210      9.0     0   34\n",
              "4      6    44     36    220     11.0     0   18"
            ]
          },
          "metadata": {
            "tags": []
          },
          "execution_count": 144
        }
      ]
    },
    {
      "metadata": {
        "id": "epkqcwrZg-yS",
        "colab_type": "code",
        "outputId": "6cfdcf9f-9e39-454e-c2ca-b1a9989a036f",
        "colab": {
          "base_uri": "https://localhost:8080/",
          "height": 153
        }
      },
      "cell_type": "code",
      "source": [
        "data.dtypes"
      ],
      "execution_count": 0,
      "outputs": [
        {
          "output_type": "execute_result",
          "data": {
            "text/plain": [
              "alpha        int64\n",
              "beta         int64\n",
              "gamma        int64\n",
              "delta        int64\n",
              "epsilon    float64\n",
              "zeta         int64\n",
              "eta           int8\n",
              "dtype: object"
            ]
          },
          "metadata": {
            "tags": []
          },
          "execution_count": 145
        }
      ]
    }
  ]
}