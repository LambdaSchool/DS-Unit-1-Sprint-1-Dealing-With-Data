{
  "nbformat": 4,
  "nbformat_minor": 0,
  "metadata": {
    "colab": {
      "name": "EricWuerfel_DS_Unit_1_Sprint_Challenge_1.ipynb",
      "version": "0.3.2",
      "provenance": [],
      "collapsed_sections": [
        "CqANn5o7uepD",
        "9P4F479GbtFX",
        "I34n2K3kcZiU",
        "1DAPmNn7c3wN",
        "UJZrqxf4fuzX",
        "V5-qAi88qYM7",
        "Ep8EVNgmhjHF",
        "DQMSwq6vx78L",
        "qs1UFJiztM1D",
        "7vS5Oa8Mt5Ne",
        "lF1xisdkysU_"
      ],
      "include_colab_link": true
    },
    "kernelspec": {
      "name": "python3",
      "display_name": "Python 3"
    }
  },
  "cells": [
    {
      "cell_type": "markdown",
      "metadata": {
        "id": "view-in-github",
        "colab_type": "text"
      },
      "source": [
        "<a href=\"https://colab.research.google.com/github/ewuerfel66/DS-Unit-1-Sprint-1-Dealing-With-Data/blob/master/EricWuerfel_DS_Unit_1_Sprint_Challenge_1.ipynb\" target=\"_parent\"><img src=\"https://colab.research.google.com/assets/colab-badge.svg\" alt=\"Open In Colab\"/></a>"
      ]
    },
    {
      "cell_type": "markdown",
      "metadata": {
        "id": "NooAiTdnafkz",
        "colab_type": "text"
      },
      "source": [
        "# Data Science Unit 1 Sprint Challenge 1\n",
        "\n",
        "## Loading, cleaning, visualizing, and analyzing data\n",
        "\n",
        "In this sprint challenge you will look at a dataset of the survival of patients who underwent surgery for breast cancer.\n",
        "\n",
        "http://archive.ics.uci.edu/ml/datasets/Haberman%27s+Survival\n",
        "\n",
        "Data Set Information:\n",
        "The dataset contains cases from a study that was conducted between 1958 and 1970 at the University of Chicago's Billings Hospital on the survival of patients who had undergone surgery for breast cancer.\n",
        "\n",
        "Attribute Information:\n",
        "1. Age of patient at time of operation (numerical)\n",
        "2. Patient's year of operation (year - 1900, numerical)\n",
        "3. Number of positive axillary nodes detected (numerical)\n",
        "4. Survival status (class attribute)\n",
        "-- 1 = the patient survived 5 years or longer\n",
        "-- 2 = the patient died within 5 year\n",
        "\n",
        "Sprint challenges are evaluated based on satisfactory completion of each part. It is suggested you work through it in order, getting each aspect reasonably working, before trying to deeply explore, iterate, or refine any given step. Once you get to the end, if you want to go back and improve things, go for it!"
      ]
    },
    {
      "cell_type": "code",
      "metadata": {
        "id": "BUju0tFNa3Y9",
        "colab_type": "code",
        "colab": {}
      },
      "source": [
        "import pandas as pd\n",
        "import numpy as np\n",
        "import seaborn as sns\n",
        "import matplotlib.pyplot as plt\n",
        "\n",
        "from statistics import median, mean"
      ],
      "execution_count": 0,
      "outputs": []
    },
    {
      "cell_type": "code",
      "metadata": {
        "id": "q8iiJsWzbFpY",
        "colab_type": "code",
        "colab": {}
      },
      "source": [
        "!curl http://archive.ics.uci.edu/ml/machine-learning-databases/haberman/haberman.data"
      ],
      "execution_count": 0,
      "outputs": []
    },
    {
      "cell_type": "markdown",
      "metadata": {
        "id": "5wch6ksCbJtZ",
        "colab_type": "text"
      },
      "source": [
        "## Part 1 - Load and validate the data\n",
        "\n",
        "- Load the data as a `pandas` data frame.\n",
        "- Validate that it has the appropriate number of observations (you can check the raw file, and also read the dataset description from UCI).\n",
        "- Validate that you have no missing values.\n",
        "- Add informative names to the features.\n",
        "- The survival variable is encoded as 1 for surviving >5 years and 2 for not - change this to be 0 for not surviving and 1 for surviving >5 years (0/1 is a more traditional encoding of binary variables)\n",
        "\n",
        "At the end, print the first five rows of the dataset to demonstrate the above."
      ]
    },
    {
      "cell_type": "markdown",
      "metadata": {
        "id": "CqANn5o7uepD",
        "colab_type": "text"
      },
      "source": [
        "### - Load the data as a `pandas` data frame and add informative names to the features."
      ]
    },
    {
      "cell_type": "code",
      "metadata": {
        "id": "287TpoGKFRVK",
        "colab_type": "code",
        "colab": {
          "base_uri": "https://localhost:8080/",
          "height": 676
        },
        "outputId": "7cdf50ea-3acd-413b-ee91-927be9e01f01"
      },
      "source": [
        "df = pd.read_csv('http://archive.ics.uci.edu/ml/machine-learning-databases/haberman/haberman.data', header = None)\n",
        "df.columns = ['age', 'operation_year', 'pos_ax_nodes', 'survival_status']\n",
        "df.head(20)"
      ],
      "execution_count": 4,
      "outputs": [
        {
          "output_type": "execute_result",
          "data": {
            "text/html": [
              "<div>\n",
              "<style scoped>\n",
              "    .dataframe tbody tr th:only-of-type {\n",
              "        vertical-align: middle;\n",
              "    }\n",
              "\n",
              "    .dataframe tbody tr th {\n",
              "        vertical-align: top;\n",
              "    }\n",
              "\n",
              "    .dataframe thead th {\n",
              "        text-align: right;\n",
              "    }\n",
              "</style>\n",
              "<table border=\"1\" class=\"dataframe\">\n",
              "  <thead>\n",
              "    <tr style=\"text-align: right;\">\n",
              "      <th></th>\n",
              "      <th>age</th>\n",
              "      <th>operation_year</th>\n",
              "      <th>pos_ax_nodes</th>\n",
              "      <th>survival_status</th>\n",
              "    </tr>\n",
              "  </thead>\n",
              "  <tbody>\n",
              "    <tr>\n",
              "      <th>0</th>\n",
              "      <td>30</td>\n",
              "      <td>64</td>\n",
              "      <td>1</td>\n",
              "      <td>1</td>\n",
              "    </tr>\n",
              "    <tr>\n",
              "      <th>1</th>\n",
              "      <td>30</td>\n",
              "      <td>62</td>\n",
              "      <td>3</td>\n",
              "      <td>1</td>\n",
              "    </tr>\n",
              "    <tr>\n",
              "      <th>2</th>\n",
              "      <td>30</td>\n",
              "      <td>65</td>\n",
              "      <td>0</td>\n",
              "      <td>1</td>\n",
              "    </tr>\n",
              "    <tr>\n",
              "      <th>3</th>\n",
              "      <td>31</td>\n",
              "      <td>59</td>\n",
              "      <td>2</td>\n",
              "      <td>1</td>\n",
              "    </tr>\n",
              "    <tr>\n",
              "      <th>4</th>\n",
              "      <td>31</td>\n",
              "      <td>65</td>\n",
              "      <td>4</td>\n",
              "      <td>1</td>\n",
              "    </tr>\n",
              "    <tr>\n",
              "      <th>5</th>\n",
              "      <td>33</td>\n",
              "      <td>58</td>\n",
              "      <td>10</td>\n",
              "      <td>1</td>\n",
              "    </tr>\n",
              "    <tr>\n",
              "      <th>6</th>\n",
              "      <td>33</td>\n",
              "      <td>60</td>\n",
              "      <td>0</td>\n",
              "      <td>1</td>\n",
              "    </tr>\n",
              "    <tr>\n",
              "      <th>7</th>\n",
              "      <td>34</td>\n",
              "      <td>59</td>\n",
              "      <td>0</td>\n",
              "      <td>2</td>\n",
              "    </tr>\n",
              "    <tr>\n",
              "      <th>8</th>\n",
              "      <td>34</td>\n",
              "      <td>66</td>\n",
              "      <td>9</td>\n",
              "      <td>2</td>\n",
              "    </tr>\n",
              "    <tr>\n",
              "      <th>9</th>\n",
              "      <td>34</td>\n",
              "      <td>58</td>\n",
              "      <td>30</td>\n",
              "      <td>1</td>\n",
              "    </tr>\n",
              "    <tr>\n",
              "      <th>10</th>\n",
              "      <td>34</td>\n",
              "      <td>60</td>\n",
              "      <td>1</td>\n",
              "      <td>1</td>\n",
              "    </tr>\n",
              "    <tr>\n",
              "      <th>11</th>\n",
              "      <td>34</td>\n",
              "      <td>61</td>\n",
              "      <td>10</td>\n",
              "      <td>1</td>\n",
              "    </tr>\n",
              "    <tr>\n",
              "      <th>12</th>\n",
              "      <td>34</td>\n",
              "      <td>67</td>\n",
              "      <td>7</td>\n",
              "      <td>1</td>\n",
              "    </tr>\n",
              "    <tr>\n",
              "      <th>13</th>\n",
              "      <td>34</td>\n",
              "      <td>60</td>\n",
              "      <td>0</td>\n",
              "      <td>1</td>\n",
              "    </tr>\n",
              "    <tr>\n",
              "      <th>14</th>\n",
              "      <td>35</td>\n",
              "      <td>64</td>\n",
              "      <td>13</td>\n",
              "      <td>1</td>\n",
              "    </tr>\n",
              "    <tr>\n",
              "      <th>15</th>\n",
              "      <td>35</td>\n",
              "      <td>63</td>\n",
              "      <td>0</td>\n",
              "      <td>1</td>\n",
              "    </tr>\n",
              "    <tr>\n",
              "      <th>16</th>\n",
              "      <td>36</td>\n",
              "      <td>60</td>\n",
              "      <td>1</td>\n",
              "      <td>1</td>\n",
              "    </tr>\n",
              "    <tr>\n",
              "      <th>17</th>\n",
              "      <td>36</td>\n",
              "      <td>69</td>\n",
              "      <td>0</td>\n",
              "      <td>1</td>\n",
              "    </tr>\n",
              "    <tr>\n",
              "      <th>18</th>\n",
              "      <td>37</td>\n",
              "      <td>60</td>\n",
              "      <td>0</td>\n",
              "      <td>1</td>\n",
              "    </tr>\n",
              "    <tr>\n",
              "      <th>19</th>\n",
              "      <td>37</td>\n",
              "      <td>63</td>\n",
              "      <td>0</td>\n",
              "      <td>1</td>\n",
              "    </tr>\n",
              "  </tbody>\n",
              "</table>\n",
              "</div>"
            ],
            "text/plain": [
              "    age  operation_year  pos_ax_nodes  survival_status\n",
              "0    30              64             1                1\n",
              "1    30              62             3                1\n",
              "2    30              65             0                1\n",
              "3    31              59             2                1\n",
              "4    31              65             4                1\n",
              "5    33              58            10                1\n",
              "6    33              60             0                1\n",
              "7    34              59             0                2\n",
              "8    34              66             9                2\n",
              "9    34              58            30                1\n",
              "10   34              60             1                1\n",
              "11   34              61            10                1\n",
              "12   34              67             7                1\n",
              "13   34              60             0                1\n",
              "14   35              64            13                1\n",
              "15   35              63             0                1\n",
              "16   36              60             1                1\n",
              "17   36              69             0                1\n",
              "18   37              60             0                1\n",
              "19   37              63             0                1"
            ]
          },
          "metadata": {
            "tags": []
          },
          "execution_count": 4
        }
      ]
    },
    {
      "cell_type": "markdown",
      "metadata": {
        "id": "9P4F479GbtFX",
        "colab_type": "text"
      },
      "source": [
        "### - Validate that it has the appropriate number of observations (you can check the raw file, and also read the dataset description from UCI).\n",
        "\n",
        "From UCI: 306 instances\n",
        "\n"
      ]
    },
    {
      "cell_type": "code",
      "metadata": {
        "id": "o4_dCeZZb0v9",
        "colab_type": "code",
        "colab": {
          "base_uri": "https://localhost:8080/",
          "height": 1214
        },
        "outputId": "afb3bec9-461d-428e-eabc-b7e4fa9df0d2"
      },
      "source": [
        "df.count"
      ],
      "execution_count": 9,
      "outputs": [
        {
          "output_type": "execute_result",
          "data": {
            "text/plain": [
              "<bound method DataFrame.count of      age  operation_year  pos_ax_nodes  survival_status\n",
              "0     30              64             1                1\n",
              "1     30              62             3                1\n",
              "2     30              65             0                1\n",
              "3     31              59             2                1\n",
              "4     31              65             4                1\n",
              "5     33              58            10                1\n",
              "6     33              60             0                1\n",
              "7     34              59             0                2\n",
              "8     34              66             9                2\n",
              "9     34              58            30                1\n",
              "10    34              60             1                1\n",
              "11    34              61            10                1\n",
              "12    34              67             7                1\n",
              "13    34              60             0                1\n",
              "14    35              64            13                1\n",
              "15    35              63             0                1\n",
              "16    36              60             1                1\n",
              "17    36              69             0                1\n",
              "18    37              60             0                1\n",
              "19    37              63             0                1\n",
              "20    37              58             0                1\n",
              "21    37              59             6                1\n",
              "22    37              60            15                1\n",
              "23    37              63             0                1\n",
              "24    38              69            21                2\n",
              "25    38              59             2                1\n",
              "26    38              60             0                1\n",
              "27    38              60             0                1\n",
              "28    38              62             3                1\n",
              "29    38              64             1                1\n",
              "..   ...             ...           ...              ...\n",
              "276   67              66             0                1\n",
              "277   67              61             0                1\n",
              "278   67              65             0                1\n",
              "279   68              67             0                1\n",
              "280   68              68             0                1\n",
              "281   69              67             8                2\n",
              "282   69              60             0                1\n",
              "283   69              65             0                1\n",
              "284   69              66             0                1\n",
              "285   70              58             0                2\n",
              "286   70              58             4                2\n",
              "287   70              66            14                1\n",
              "288   70              67             0                1\n",
              "289   70              68             0                1\n",
              "290   70              59             8                1\n",
              "291   70              63             0                1\n",
              "292   71              68             2                1\n",
              "293   72              63             0                2\n",
              "294   72              58             0                1\n",
              "295   72              64             0                1\n",
              "296   72              67             3                1\n",
              "297   73              62             0                1\n",
              "298   73              68             0                1\n",
              "299   74              65             3                2\n",
              "300   74              63             0                1\n",
              "301   75              62             1                1\n",
              "302   76              67             0                1\n",
              "303   77              65             3                1\n",
              "304   78              65             1                2\n",
              "305   83              58             2                2\n",
              "\n",
              "[306 rows x 4 columns]>"
            ]
          },
          "metadata": {
            "tags": []
          },
          "execution_count": 9
        }
      ]
    },
    {
      "cell_type": "markdown",
      "metadata": {
        "id": "iHd8KH06cEg5",
        "colab_type": "text"
      },
      "source": [
        "We have the **correct count**"
      ]
    },
    {
      "cell_type": "markdown",
      "metadata": {
        "id": "I34n2K3kcZiU",
        "colab_type": "text"
      },
      "source": [
        "### - Validate that there are **no missing values**"
      ]
    },
    {
      "cell_type": "code",
      "metadata": {
        "id": "ZEIMsGQccY1N",
        "colab_type": "code",
        "colab": {
          "base_uri": "https://localhost:8080/",
          "height": 111
        },
        "outputId": "25932491-32a1-47da-dd95-7119e460f480"
      },
      "source": [
        "df.isnull().sum()"
      ],
      "execution_count": 10,
      "outputs": [
        {
          "output_type": "execute_result",
          "data": {
            "text/plain": [
              "age                0\n",
              "operation_year     0\n",
              "pos_ax_nodes       0\n",
              "survival_status    0\n",
              "dtype: int64"
            ]
          },
          "metadata": {
            "tags": []
          },
          "execution_count": 10
        }
      ]
    },
    {
      "cell_type": "markdown",
      "metadata": {
        "id": "uaRk8ZHtcfgT",
        "colab_type": "text"
      },
      "source": [
        "There doesn't seem to be any missing values. Looking through the dataset, I don't see any \"?\"s ot \"n/a\"s."
      ]
    },
    {
      "cell_type": "markdown",
      "metadata": {
        "id": "1DAPmNn7c3wN",
        "colab_type": "text"
      },
      "source": [
        "### - Change the survival variable accordingly"
      ]
    },
    {
      "cell_type": "code",
      "metadata": {
        "id": "w6Gi9IX7eIiK",
        "colab_type": "code",
        "colab": {}
      },
      "source": [
        "df.head(9)"
      ],
      "execution_count": 0,
      "outputs": []
    },
    {
      "cell_type": "code",
      "metadata": {
        "id": "1rv86fNrdOK6",
        "colab_type": "code",
        "colab": {
          "base_uri": "https://localhost:8080/",
          "height": 36
        },
        "outputId": "9bf13373-a56a-42a6-f0b0-3e6997dc8d9a"
      },
      "source": [
        "type(df.survival_status[1])"
      ],
      "execution_count": 11,
      "outputs": [
        {
          "output_type": "execute_result",
          "data": {
            "text/plain": [
              "numpy.int64"
            ]
          },
          "metadata": {
            "tags": []
          },
          "execution_count": 11
        }
      ]
    },
    {
      "cell_type": "code",
      "metadata": {
        "id": "kwAVWFJmc812",
        "colab_type": "code",
        "colab": {}
      },
      "source": [
        "def two_to_zero(value):\n",
        "  if value == 2:\n",
        "    return(0)\n",
        "  if value == 1:\n",
        "    return(1)"
      ],
      "execution_count": 0,
      "outputs": []
    },
    {
      "cell_type": "code",
      "metadata": {
        "id": "Jj6_fCaqdgfE",
        "colab_type": "code",
        "colab": {}
      },
      "source": [
        "df.survival_status = df.survival_status.apply(two_to_zero)"
      ],
      "execution_count": 0,
      "outputs": []
    },
    {
      "cell_type": "markdown",
      "metadata": {
        "id": "4Vqcg32HvZmT",
        "colab_type": "text"
      },
      "source": [
        "### Part 1 Result"
      ]
    },
    {
      "cell_type": "code",
      "metadata": {
        "id": "mugeBZ3MeEp4",
        "colab_type": "code",
        "colab": {
          "base_uri": "https://localhost:8080/",
          "height": 331
        },
        "outputId": "06d09b76-fe3b-4ac8-af94-7b551172f7a4"
      },
      "source": [
        "df.head(9)"
      ],
      "execution_count": 24,
      "outputs": [
        {
          "output_type": "execute_result",
          "data": {
            "text/html": [
              "<div>\n",
              "<style scoped>\n",
              "    .dataframe tbody tr th:only-of-type {\n",
              "        vertical-align: middle;\n",
              "    }\n",
              "\n",
              "    .dataframe tbody tr th {\n",
              "        vertical-align: top;\n",
              "    }\n",
              "\n",
              "    .dataframe thead th {\n",
              "        text-align: right;\n",
              "    }\n",
              "</style>\n",
              "<table border=\"1\" class=\"dataframe\">\n",
              "  <thead>\n",
              "    <tr style=\"text-align: right;\">\n",
              "      <th></th>\n",
              "      <th>age</th>\n",
              "      <th>operation_year</th>\n",
              "      <th>pos_ax_nodes</th>\n",
              "      <th>survival_status</th>\n",
              "    </tr>\n",
              "  </thead>\n",
              "  <tbody>\n",
              "    <tr>\n",
              "      <th>0</th>\n",
              "      <td>30</td>\n",
              "      <td>64</td>\n",
              "      <td>1</td>\n",
              "      <td>1</td>\n",
              "    </tr>\n",
              "    <tr>\n",
              "      <th>1</th>\n",
              "      <td>30</td>\n",
              "      <td>62</td>\n",
              "      <td>3</td>\n",
              "      <td>1</td>\n",
              "    </tr>\n",
              "    <tr>\n",
              "      <th>2</th>\n",
              "      <td>30</td>\n",
              "      <td>65</td>\n",
              "      <td>0</td>\n",
              "      <td>1</td>\n",
              "    </tr>\n",
              "    <tr>\n",
              "      <th>3</th>\n",
              "      <td>31</td>\n",
              "      <td>59</td>\n",
              "      <td>2</td>\n",
              "      <td>1</td>\n",
              "    </tr>\n",
              "    <tr>\n",
              "      <th>4</th>\n",
              "      <td>31</td>\n",
              "      <td>65</td>\n",
              "      <td>4</td>\n",
              "      <td>1</td>\n",
              "    </tr>\n",
              "    <tr>\n",
              "      <th>5</th>\n",
              "      <td>33</td>\n",
              "      <td>58</td>\n",
              "      <td>10</td>\n",
              "      <td>1</td>\n",
              "    </tr>\n",
              "    <tr>\n",
              "      <th>6</th>\n",
              "      <td>33</td>\n",
              "      <td>60</td>\n",
              "      <td>0</td>\n",
              "      <td>1</td>\n",
              "    </tr>\n",
              "    <tr>\n",
              "      <th>7</th>\n",
              "      <td>34</td>\n",
              "      <td>59</td>\n",
              "      <td>0</td>\n",
              "      <td>0</td>\n",
              "    </tr>\n",
              "    <tr>\n",
              "      <th>8</th>\n",
              "      <td>34</td>\n",
              "      <td>66</td>\n",
              "      <td>9</td>\n",
              "      <td>0</td>\n",
              "    </tr>\n",
              "  </tbody>\n",
              "</table>\n",
              "</div>"
            ],
            "text/plain": [
              "   age  operation_year  pos_ax_nodes  survival_status\n",
              "0   30              64             1                1\n",
              "1   30              62             3                1\n",
              "2   30              65             0                1\n",
              "3   31              59             2                1\n",
              "4   31              65             4                1\n",
              "5   33              58            10                1\n",
              "6   33              60             0                1\n",
              "7   34              59             0                0\n",
              "8   34              66             9                0"
            ]
          },
          "metadata": {
            "tags": []
          },
          "execution_count": 24
        }
      ]
    },
    {
      "cell_type": "markdown",
      "metadata": {
        "id": "G7rLytbrO38L",
        "colab_type": "text"
      },
      "source": [
        "## Part 2 - Examine the distribution and relationships of the features\n",
        "\n",
        "Explore the data - create at least *2* tables (can be summary statistics or crosstabulations) and *2* plots illustrating the nature of the data.\n",
        "\n",
        "This is open-ended, so to remind - first *complete* this task as a baseline, then go on to the remaining sections, and *then* as time allows revisit and explore further.\n",
        "\n",
        "Hint - you may need to bin some variables depending on your chosen tables/plots."
      ]
    },
    {
      "cell_type": "markdown",
      "metadata": {
        "id": "rVW9nuGceY0b",
        "colab_type": "text"
      },
      "source": [
        "Let's take a look at some **Descriptive Stats** first"
      ]
    },
    {
      "cell_type": "code",
      "metadata": {
        "id": "IAkllgCIFVj0",
        "colab_type": "code",
        "colab": {
          "base_uri": "https://localhost:8080/",
          "height": 300
        },
        "outputId": "c4d479d9-de73-4398-868a-c801268966ba"
      },
      "source": [
        "df.describe()"
      ],
      "execution_count": 25,
      "outputs": [
        {
          "output_type": "execute_result",
          "data": {
            "text/html": [
              "<div>\n",
              "<style scoped>\n",
              "    .dataframe tbody tr th:only-of-type {\n",
              "        vertical-align: middle;\n",
              "    }\n",
              "\n",
              "    .dataframe tbody tr th {\n",
              "        vertical-align: top;\n",
              "    }\n",
              "\n",
              "    .dataframe thead th {\n",
              "        text-align: right;\n",
              "    }\n",
              "</style>\n",
              "<table border=\"1\" class=\"dataframe\">\n",
              "  <thead>\n",
              "    <tr style=\"text-align: right;\">\n",
              "      <th></th>\n",
              "      <th>age</th>\n",
              "      <th>operation_year</th>\n",
              "      <th>pos_ax_nodes</th>\n",
              "      <th>survival_status</th>\n",
              "    </tr>\n",
              "  </thead>\n",
              "  <tbody>\n",
              "    <tr>\n",
              "      <th>count</th>\n",
              "      <td>306.000000</td>\n",
              "      <td>306.000000</td>\n",
              "      <td>306.000000</td>\n",
              "      <td>306.000000</td>\n",
              "    </tr>\n",
              "    <tr>\n",
              "      <th>mean</th>\n",
              "      <td>52.457516</td>\n",
              "      <td>62.852941</td>\n",
              "      <td>4.026144</td>\n",
              "      <td>0.735294</td>\n",
              "    </tr>\n",
              "    <tr>\n",
              "      <th>std</th>\n",
              "      <td>10.803452</td>\n",
              "      <td>3.249405</td>\n",
              "      <td>7.189654</td>\n",
              "      <td>0.441899</td>\n",
              "    </tr>\n",
              "    <tr>\n",
              "      <th>min</th>\n",
              "      <td>30.000000</td>\n",
              "      <td>58.000000</td>\n",
              "      <td>0.000000</td>\n",
              "      <td>0.000000</td>\n",
              "    </tr>\n",
              "    <tr>\n",
              "      <th>25%</th>\n",
              "      <td>44.000000</td>\n",
              "      <td>60.000000</td>\n",
              "      <td>0.000000</td>\n",
              "      <td>0.000000</td>\n",
              "    </tr>\n",
              "    <tr>\n",
              "      <th>50%</th>\n",
              "      <td>52.000000</td>\n",
              "      <td>63.000000</td>\n",
              "      <td>1.000000</td>\n",
              "      <td>1.000000</td>\n",
              "    </tr>\n",
              "    <tr>\n",
              "      <th>75%</th>\n",
              "      <td>60.750000</td>\n",
              "      <td>65.750000</td>\n",
              "      <td>4.000000</td>\n",
              "      <td>1.000000</td>\n",
              "    </tr>\n",
              "    <tr>\n",
              "      <th>max</th>\n",
              "      <td>83.000000</td>\n",
              "      <td>69.000000</td>\n",
              "      <td>52.000000</td>\n",
              "      <td>1.000000</td>\n",
              "    </tr>\n",
              "  </tbody>\n",
              "</table>\n",
              "</div>"
            ],
            "text/plain": [
              "              age  operation_year  pos_ax_nodes  survival_status\n",
              "count  306.000000      306.000000    306.000000       306.000000\n",
              "mean    52.457516       62.852941      4.026144         0.735294\n",
              "std     10.803452        3.249405      7.189654         0.441899\n",
              "min     30.000000       58.000000      0.000000         0.000000\n",
              "25%     44.000000       60.000000      0.000000         0.000000\n",
              "50%     52.000000       63.000000      1.000000         1.000000\n",
              "75%     60.750000       65.750000      4.000000         1.000000\n",
              "max     83.000000       69.000000     52.000000         1.000000"
            ]
          },
          "metadata": {
            "tags": []
          },
          "execution_count": 25
        }
      ]
    },
    {
      "cell_type": "markdown",
      "metadata": {
        "id": "UJZrqxf4fuzX",
        "colab_type": "text"
      },
      "source": [
        "### Let's search for relationships using a **pairplot**"
      ]
    },
    {
      "cell_type": "code",
      "metadata": {
        "id": "yXAqTjXUf-uF",
        "colab_type": "code",
        "colab": {
          "base_uri": "https://localhost:8080/",
          "height": 725
        },
        "outputId": "d4d752b1-a39e-4e39-e133-5a8bd77f9014"
      },
      "source": [
        "sns.set(style='ticks', color_codes=True)\n",
        "graph = sns.pairplot(df, plot_kws={\"s\": 3})"
      ],
      "execution_count": 31,
      "outputs": [
        {
          "output_type": "display_data",
          "data": {
            "image/png": "[encoded data removed]",
            "text/plain": [
              "<Figure size 720x720 with 20 Axes>"
            ]
          },
          "metadata": {
            "tags": []
          }
        }
      ]
    },
    {
      "cell_type": "markdown",
      "metadata": {
        "id": "V5-qAi88qYM7",
        "colab_type": "text"
      },
      "source": [
        "### Let's make some **Crosstabs**"
      ]
    },
    {
      "cell_type": "markdown",
      "metadata": {
        "id": "KerLG__uqmt0",
        "colab_type": "text"
      },
      "source": [
        "**Age**"
      ]
    },
    {
      "cell_type": "code",
      "metadata": {
        "id": "uzqK05pGqaik",
        "colab_type": "code",
        "colab": {
          "base_uri": "https://localhost:8080/",
          "height": 394
        },
        "outputId": "16cfe476-2625-4c7f-a0bf-08c76317e141"
      },
      "source": [
        "age_bins = pd.cut(df['age'], 10)\n",
        "pd.crosstab(age_bins, df.survival_status)"
      ],
      "execution_count": 63,
      "outputs": [
        {
          "output_type": "execute_result",
          "data": {
            "text/html": [
              "<div>\n",
              "<style scoped>\n",
              "    .dataframe tbody tr th:only-of-type {\n",
              "        vertical-align: middle;\n",
              "    }\n",
              "\n",
              "    .dataframe tbody tr th {\n",
              "        vertical-align: top;\n",
              "    }\n",
              "\n",
              "    .dataframe thead th {\n",
              "        text-align: right;\n",
              "    }\n",
              "</style>\n",
              "<table border=\"1\" class=\"dataframe\">\n",
              "  <thead>\n",
              "    <tr style=\"text-align: right;\">\n",
              "      <th>survival_status</th>\n",
              "      <th>0</th>\n",
              "      <th>1</th>\n",
              "    </tr>\n",
              "    <tr>\n",
              "      <th>age</th>\n",
              "      <th></th>\n",
              "      <th></th>\n",
              "    </tr>\n",
              "  </thead>\n",
              "  <tbody>\n",
              "    <tr>\n",
              "      <th>(29.947, 35.3]</th>\n",
              "      <td>2</td>\n",
              "      <td>14</td>\n",
              "    </tr>\n",
              "    <tr>\n",
              "      <th>(35.3, 40.6]</th>\n",
              "      <td>2</td>\n",
              "      <td>25</td>\n",
              "    </tr>\n",
              "    <tr>\n",
              "      <th>(40.6, 45.9]</th>\n",
              "      <td>15</td>\n",
              "      <td>31</td>\n",
              "    </tr>\n",
              "    <tr>\n",
              "      <th>(45.9, 51.2]</th>\n",
              "      <td>16</td>\n",
              "      <td>37</td>\n",
              "    </tr>\n",
              "    <tr>\n",
              "      <th>(51.2, 56.5]</th>\n",
              "      <td>18</td>\n",
              "      <td>37</td>\n",
              "    </tr>\n",
              "    <tr>\n",
              "      <th>(56.5, 61.8]</th>\n",
              "      <td>9</td>\n",
              "      <td>32</td>\n",
              "    </tr>\n",
              "    <tr>\n",
              "      <th>(61.8, 67.1]</th>\n",
              "      <td>12</td>\n",
              "      <td>29</td>\n",
              "    </tr>\n",
              "    <tr>\n",
              "      <th>(67.1, 72.4]</th>\n",
              "      <td>4</td>\n",
              "      <td>14</td>\n",
              "    </tr>\n",
              "    <tr>\n",
              "      <th>(72.4, 77.7]</th>\n",
              "      <td>1</td>\n",
              "      <td>6</td>\n",
              "    </tr>\n",
              "    <tr>\n",
              "      <th>(77.7, 83.0]</th>\n",
              "      <td>2</td>\n",
              "      <td>0</td>\n",
              "    </tr>\n",
              "  </tbody>\n",
              "</table>\n",
              "</div>"
            ],
            "text/plain": [
              "survival_status   0   1\n",
              "age                    \n",
              "(29.947, 35.3]    2  14\n",
              "(35.3, 40.6]      2  25\n",
              "(40.6, 45.9]     15  31\n",
              "(45.9, 51.2]     16  37\n",
              "(51.2, 56.5]     18  37\n",
              "(56.5, 61.8]      9  32\n",
              "(61.8, 67.1]     12  29\n",
              "(67.1, 72.4]      4  14\n",
              "(72.4, 77.7]      1   6\n",
              "(77.7, 83.0]      2   0"
            ]
          },
          "metadata": {
            "tags": []
          },
          "execution_count": 63
        }
      ]
    },
    {
      "cell_type": "markdown",
      "metadata": {
        "id": "agyyt5Rdq_qp",
        "colab_type": "text"
      },
      "source": [
        "**pos_ax_nodes**"
      ]
    },
    {
      "cell_type": "code",
      "metadata": {
        "id": "B-r0KcKkrCc-",
        "colab_type": "code",
        "colab": {
          "base_uri": "https://localhost:8080/",
          "height": 363
        },
        "outputId": "8a6c63d7-5e96-40dc-b694-bf5ca1740306"
      },
      "source": [
        "pos_ax_nodes_bins = pd.cut(df['pos_ax_nodes'], 10)\n",
        "pd.crosstab(pos_ax_nodes_bins, df.survival_status)"
      ],
      "execution_count": 65,
      "outputs": [
        {
          "output_type": "execute_result",
          "data": {
            "text/html": [
              "<div>\n",
              "<style scoped>\n",
              "    .dataframe tbody tr th:only-of-type {\n",
              "        vertical-align: middle;\n",
              "    }\n",
              "\n",
              "    .dataframe tbody tr th {\n",
              "        vertical-align: top;\n",
              "    }\n",
              "\n",
              "    .dataframe thead th {\n",
              "        text-align: right;\n",
              "    }\n",
              "</style>\n",
              "<table border=\"1\" class=\"dataframe\">\n",
              "  <thead>\n",
              "    <tr style=\"text-align: right;\">\n",
              "      <th>survival_status</th>\n",
              "      <th>0</th>\n",
              "      <th>1</th>\n",
              "    </tr>\n",
              "    <tr>\n",
              "      <th>pos_ax_nodes</th>\n",
              "      <th></th>\n",
              "      <th></th>\n",
              "    </tr>\n",
              "  </thead>\n",
              "  <tbody>\n",
              "    <tr>\n",
              "      <th>(-0.052, 5.2]</th>\n",
              "      <td>46</td>\n",
              "      <td>190</td>\n",
              "    </tr>\n",
              "    <tr>\n",
              "      <th>(5.2, 10.4]</th>\n",
              "      <td>12</td>\n",
              "      <td>18</td>\n",
              "    </tr>\n",
              "    <tr>\n",
              "      <th>(10.4, 15.6]</th>\n",
              "      <td>11</td>\n",
              "      <td>7</td>\n",
              "    </tr>\n",
              "    <tr>\n",
              "      <th>(15.6, 20.8]</th>\n",
              "      <td>4</td>\n",
              "      <td>4</td>\n",
              "    </tr>\n",
              "    <tr>\n",
              "      <th>(20.8, 26.0]</th>\n",
              "      <td>6</td>\n",
              "      <td>3</td>\n",
              "    </tr>\n",
              "    <tr>\n",
              "      <th>(26.0, 31.2]</th>\n",
              "      <td>0</td>\n",
              "      <td>2</td>\n",
              "    </tr>\n",
              "    <tr>\n",
              "      <th>(31.2, 36.4]</th>\n",
              "      <td>1</td>\n",
              "      <td>0</td>\n",
              "    </tr>\n",
              "    <tr>\n",
              "      <th>(41.6, 46.8]</th>\n",
              "      <td>0</td>\n",
              "      <td>1</td>\n",
              "    </tr>\n",
              "    <tr>\n",
              "      <th>(46.8, 52.0]</th>\n",
              "      <td>1</td>\n",
              "      <td>0</td>\n",
              "    </tr>\n",
              "  </tbody>\n",
              "</table>\n",
              "</div>"
            ],
            "text/plain": [
              "survival_status   0    1\n",
              "pos_ax_nodes            \n",
              "(-0.052, 5.2]    46  190\n",
              "(5.2, 10.4]      12   18\n",
              "(10.4, 15.6]     11    7\n",
              "(15.6, 20.8]      4    4\n",
              "(20.8, 26.0]      6    3\n",
              "(26.0, 31.2]      0    2\n",
              "(31.2, 36.4]      1    0\n",
              "(41.6, 46.8]      0    1\n",
              "(46.8, 52.0]      1    0"
            ]
          },
          "metadata": {
            "tags": []
          },
          "execution_count": 65
        }
      ]
    },
    {
      "cell_type": "markdown",
      "metadata": {
        "id": "YSgdvRGarjnw",
        "colab_type": "text"
      },
      "source": [
        "**Operation year**"
      ]
    },
    {
      "cell_type": "code",
      "metadata": {
        "id": "-jvhmR95rmKL",
        "colab_type": "code",
        "colab": {
          "base_uri": "https://localhost:8080/",
          "height": 425
        },
        "outputId": "9ad2b01d-f81d-4eed-f1f3-cac61afc98da"
      },
      "source": [
        "operation_year_bins = pd.cut(df['operation_year'], 11)\n",
        "pd.crosstab(operation_year_bins, df.survival_status)"
      ],
      "execution_count": 71,
      "outputs": [
        {
          "output_type": "execute_result",
          "data": {
            "text/html": [
              "<div>\n",
              "<style scoped>\n",
              "    .dataframe tbody tr th:only-of-type {\n",
              "        vertical-align: middle;\n",
              "    }\n",
              "\n",
              "    .dataframe tbody tr th {\n",
              "        vertical-align: top;\n",
              "    }\n",
              "\n",
              "    .dataframe thead th {\n",
              "        text-align: right;\n",
              "    }\n",
              "</style>\n",
              "<table border=\"1\" class=\"dataframe\">\n",
              "  <thead>\n",
              "    <tr style=\"text-align: right;\">\n",
              "      <th>survival_status</th>\n",
              "      <th>0</th>\n",
              "      <th>1</th>\n",
              "    </tr>\n",
              "    <tr>\n",
              "      <th>operation_year</th>\n",
              "      <th></th>\n",
              "      <th></th>\n",
              "    </tr>\n",
              "  </thead>\n",
              "  <tbody>\n",
              "    <tr>\n",
              "      <th>(57.989, 59.0]</th>\n",
              "      <td>21</td>\n",
              "      <td>42</td>\n",
              "    </tr>\n",
              "    <tr>\n",
              "      <th>(59.0, 60.0]</th>\n",
              "      <td>4</td>\n",
              "      <td>24</td>\n",
              "    </tr>\n",
              "    <tr>\n",
              "      <th>(60.0, 61.0]</th>\n",
              "      <td>3</td>\n",
              "      <td>23</td>\n",
              "    </tr>\n",
              "    <tr>\n",
              "      <th>(61.0, 62.0]</th>\n",
              "      <td>7</td>\n",
              "      <td>16</td>\n",
              "    </tr>\n",
              "    <tr>\n",
              "      <th>(62.0, 63.0]</th>\n",
              "      <td>8</td>\n",
              "      <td>22</td>\n",
              "    </tr>\n",
              "    <tr>\n",
              "      <th>(63.0, 64.0]</th>\n",
              "      <td>8</td>\n",
              "      <td>23</td>\n",
              "    </tr>\n",
              "    <tr>\n",
              "      <th>(64.0, 65.0]</th>\n",
              "      <td>13</td>\n",
              "      <td>15</td>\n",
              "    </tr>\n",
              "    <tr>\n",
              "      <th>(65.0, 66.0]</th>\n",
              "      <td>6</td>\n",
              "      <td>22</td>\n",
              "    </tr>\n",
              "    <tr>\n",
              "      <th>(66.0, 67.0]</th>\n",
              "      <td>4</td>\n",
              "      <td>21</td>\n",
              "    </tr>\n",
              "    <tr>\n",
              "      <th>(67.0, 68.0]</th>\n",
              "      <td>3</td>\n",
              "      <td>10</td>\n",
              "    </tr>\n",
              "    <tr>\n",
              "      <th>(68.0, 69.0]</th>\n",
              "      <td>4</td>\n",
              "      <td>7</td>\n",
              "    </tr>\n",
              "  </tbody>\n",
              "</table>\n",
              "</div>"
            ],
            "text/plain": [
              "survival_status   0   1\n",
              "operation_year         \n",
              "(57.989, 59.0]   21  42\n",
              "(59.0, 60.0]      4  24\n",
              "(60.0, 61.0]      3  23\n",
              "(61.0, 62.0]      7  16\n",
              "(62.0, 63.0]      8  22\n",
              "(63.0, 64.0]      8  23\n",
              "(64.0, 65.0]     13  15\n",
              "(65.0, 66.0]      6  22\n",
              "(66.0, 67.0]      4  21\n",
              "(67.0, 68.0]      3  10\n",
              "(68.0, 69.0]      4   7"
            ]
          },
          "metadata": {
            "tags": []
          },
          "execution_count": 71
        }
      ]
    },
    {
      "cell_type": "markdown",
      "metadata": {
        "id": "8e4Nkeo5sBqf",
        "colab_type": "text"
      },
      "source": [
        "From this crosstab, it seems that the amount of people who survived for >= 5 years has remained steady while the amoutn who didn't make it >= 5 years, has started to go down. This means that the survival rate over time is increasing suggesting **a positive relationship between operation_year and survival_status**"
      ]
    },
    {
      "cell_type": "markdown",
      "metadata": {
        "id": "Ep8EVNgmhjHF",
        "colab_type": "text"
      },
      "source": [
        "### Let's seperate the df into two df's split by survival_status . . ."
      ]
    },
    {
      "cell_type": "code",
      "metadata": {
        "id": "neM50TexhcmC",
        "colab_type": "code",
        "colab": {}
      },
      "source": [
        "survived_df = df[df['survival_status']==1]\n",
        "rip_df = df[df['survival_status']==0]"
      ],
      "execution_count": 0,
      "outputs": []
    },
    {
      "cell_type": "code",
      "metadata": {
        "id": "AIeeAtNpwuJn",
        "colab_type": "code",
        "colab": {
          "base_uri": "https://localhost:8080/",
          "height": 300
        },
        "outputId": "f260c4a4-4c55-451b-b4ff-31d7854b6122"
      },
      "source": [
        "survived_df.describe()"
      ],
      "execution_count": 74,
      "outputs": [
        {
          "output_type": "execute_result",
          "data": {
            "text/html": [
              "<div>\n",
              "<style scoped>\n",
              "    .dataframe tbody tr th:only-of-type {\n",
              "        vertical-align: middle;\n",
              "    }\n",
              "\n",
              "    .dataframe tbody tr th {\n",
              "        vertical-align: top;\n",
              "    }\n",
              "\n",
              "    .dataframe thead th {\n",
              "        text-align: right;\n",
              "    }\n",
              "</style>\n",
              "<table border=\"1\" class=\"dataframe\">\n",
              "  <thead>\n",
              "    <tr style=\"text-align: right;\">\n",
              "      <th></th>\n",
              "      <th>age</th>\n",
              "      <th>operation_year</th>\n",
              "      <th>pos_ax_nodes</th>\n",
              "      <th>survival_status</th>\n",
              "    </tr>\n",
              "  </thead>\n",
              "  <tbody>\n",
              "    <tr>\n",
              "      <th>count</th>\n",
              "      <td>225.000000</td>\n",
              "      <td>225.000000</td>\n",
              "      <td>225.000000</td>\n",
              "      <td>225.0</td>\n",
              "    </tr>\n",
              "    <tr>\n",
              "      <th>mean</th>\n",
              "      <td>52.017778</td>\n",
              "      <td>62.862222</td>\n",
              "      <td>2.791111</td>\n",
              "      <td>1.0</td>\n",
              "    </tr>\n",
              "    <tr>\n",
              "      <th>std</th>\n",
              "      <td>11.012154</td>\n",
              "      <td>3.222915</td>\n",
              "      <td>5.870318</td>\n",
              "      <td>0.0</td>\n",
              "    </tr>\n",
              "    <tr>\n",
              "      <th>min</th>\n",
              "      <td>30.000000</td>\n",
              "      <td>58.000000</td>\n",
              "      <td>0.000000</td>\n",
              "      <td>1.0</td>\n",
              "    </tr>\n",
              "    <tr>\n",
              "      <th>25%</th>\n",
              "      <td>43.000000</td>\n",
              "      <td>60.000000</td>\n",
              "      <td>0.000000</td>\n",
              "      <td>1.0</td>\n",
              "    </tr>\n",
              "    <tr>\n",
              "      <th>50%</th>\n",
              "      <td>52.000000</td>\n",
              "      <td>63.000000</td>\n",
              "      <td>0.000000</td>\n",
              "      <td>1.0</td>\n",
              "    </tr>\n",
              "    <tr>\n",
              "      <th>75%</th>\n",
              "      <td>60.000000</td>\n",
              "      <td>66.000000</td>\n",
              "      <td>3.000000</td>\n",
              "      <td>1.0</td>\n",
              "    </tr>\n",
              "    <tr>\n",
              "      <th>max</th>\n",
              "      <td>77.000000</td>\n",
              "      <td>69.000000</td>\n",
              "      <td>46.000000</td>\n",
              "      <td>1.0</td>\n",
              "    </tr>\n",
              "  </tbody>\n",
              "</table>\n",
              "</div>"
            ],
            "text/plain": [
              "              age  operation_year  pos_ax_nodes  survival_status\n",
              "count  225.000000      225.000000    225.000000            225.0\n",
              "mean    52.017778       62.862222      2.791111              1.0\n",
              "std     11.012154        3.222915      5.870318              0.0\n",
              "min     30.000000       58.000000      0.000000              1.0\n",
              "25%     43.000000       60.000000      0.000000              1.0\n",
              "50%     52.000000       63.000000      0.000000              1.0\n",
              "75%     60.000000       66.000000      3.000000              1.0\n",
              "max     77.000000       69.000000     46.000000              1.0"
            ]
          },
          "metadata": {
            "tags": []
          },
          "execution_count": 74
        }
      ]
    },
    {
      "cell_type": "code",
      "metadata": {
        "id": "dVg1yLmjw2-4",
        "colab_type": "code",
        "colab": {
          "base_uri": "https://localhost:8080/",
          "height": 300
        },
        "outputId": "fc702f2e-4933-4dd1-8dd5-2fab9de8aef8"
      },
      "source": [
        "rip_df.describe()"
      ],
      "execution_count": 75,
      "outputs": [
        {
          "output_type": "execute_result",
          "data": {
            "text/html": [
              "<div>\n",
              "<style scoped>\n",
              "    .dataframe tbody tr th:only-of-type {\n",
              "        vertical-align: middle;\n",
              "    }\n",
              "\n",
              "    .dataframe tbody tr th {\n",
              "        vertical-align: top;\n",
              "    }\n",
              "\n",
              "    .dataframe thead th {\n",
              "        text-align: right;\n",
              "    }\n",
              "</style>\n",
              "<table border=\"1\" class=\"dataframe\">\n",
              "  <thead>\n",
              "    <tr style=\"text-align: right;\">\n",
              "      <th></th>\n",
              "      <th>age</th>\n",
              "      <th>operation_year</th>\n",
              "      <th>pos_ax_nodes</th>\n",
              "      <th>survival_status</th>\n",
              "    </tr>\n",
              "  </thead>\n",
              "  <tbody>\n",
              "    <tr>\n",
              "      <th>count</th>\n",
              "      <td>81.000000</td>\n",
              "      <td>81.000000</td>\n",
              "      <td>81.000000</td>\n",
              "      <td>81.0</td>\n",
              "    </tr>\n",
              "    <tr>\n",
              "      <th>mean</th>\n",
              "      <td>53.679012</td>\n",
              "      <td>62.827160</td>\n",
              "      <td>7.456790</td>\n",
              "      <td>0.0</td>\n",
              "    </tr>\n",
              "    <tr>\n",
              "      <th>std</th>\n",
              "      <td>10.167137</td>\n",
              "      <td>3.342118</td>\n",
              "      <td>9.185654</td>\n",
              "      <td>0.0</td>\n",
              "    </tr>\n",
              "    <tr>\n",
              "      <th>min</th>\n",
              "      <td>34.000000</td>\n",
              "      <td>58.000000</td>\n",
              "      <td>0.000000</td>\n",
              "      <td>0.0</td>\n",
              "    </tr>\n",
              "    <tr>\n",
              "      <th>25%</th>\n",
              "      <td>46.000000</td>\n",
              "      <td>59.000000</td>\n",
              "      <td>1.000000</td>\n",
              "      <td>0.0</td>\n",
              "    </tr>\n",
              "    <tr>\n",
              "      <th>50%</th>\n",
              "      <td>53.000000</td>\n",
              "      <td>63.000000</td>\n",
              "      <td>4.000000</td>\n",
              "      <td>0.0</td>\n",
              "    </tr>\n",
              "    <tr>\n",
              "      <th>75%</th>\n",
              "      <td>61.000000</td>\n",
              "      <td>65.000000</td>\n",
              "      <td>11.000000</td>\n",
              "      <td>0.0</td>\n",
              "    </tr>\n",
              "    <tr>\n",
              "      <th>max</th>\n",
              "      <td>83.000000</td>\n",
              "      <td>69.000000</td>\n",
              "      <td>52.000000</td>\n",
              "      <td>0.0</td>\n",
              "    </tr>\n",
              "  </tbody>\n",
              "</table>\n",
              "</div>"
            ],
            "text/plain": [
              "             age  operation_year  pos_ax_nodes  survival_status\n",
              "count  81.000000       81.000000     81.000000             81.0\n",
              "mean   53.679012       62.827160      7.456790              0.0\n",
              "std    10.167137        3.342118      9.185654              0.0\n",
              "min    34.000000       58.000000      0.000000              0.0\n",
              "25%    46.000000       59.000000      1.000000              0.0\n",
              "50%    53.000000       63.000000      4.000000              0.0\n",
              "75%    61.000000       65.000000     11.000000              0.0\n",
              "max    83.000000       69.000000     52.000000              0.0"
            ]
          },
          "metadata": {
            "tags": []
          },
          "execution_count": 75
        }
      ]
    },
    {
      "cell_type": "markdown",
      "metadata": {
        "id": "DQMSwq6vx78L",
        "colab_type": "text"
      },
      "source": [
        "### . . . and compare the distributions"
      ]
    },
    {
      "cell_type": "markdown",
      "metadata": {
        "id": "zDde7NppiPcG",
        "colab_type": "text"
      },
      "source": [
        "#### Age"
      ]
    },
    {
      "cell_type": "code",
      "metadata": {
        "id": "HWyrHkBRiVcg",
        "colab_type": "code",
        "colab": {
          "base_uri": "https://localhost:8080/",
          "height": 311
        },
        "outputId": "17bd5552-a7ec-4165-f51e-d1b59167962e"
      },
      "source": [
        "survived_df.age.hist(bins=47);\n",
        "rip_df.age.hist(alpha=0.8, bins=49);\n",
        "\n",
        "print('The histogram for survival_status=1 is in BLUE.')\n",
        "print('The histogram for survival_status=0 is in ORANGE.')"
      ],
      "execution_count": 77,
      "outputs": [
        {
          "output_type": "stream",
          "text": [
            "The histogram for survival_status=1 is in BLUE.\n",
            "The histogram for survival_status=0 is in ORANGE.\n"
          ],
          "name": "stdout"
        },
        {
          "output_type": "display_data",
          "data": {
            "image/png": "[encoded data removed]",
            "text/plain": [
              "<Figure size 432x288 with 1 Axes>"
            ]
          },
          "metadata": {
            "tags": []
          }
        }
      ]
    },
    {
      "cell_type": "code",
      "metadata": {
        "id": "ORO71ULLj_ES",
        "colab_type": "code",
        "colab": {
          "base_uri": "https://localhost:8080/",
          "height": 54
        },
        "outputId": "edfb3b76-42ba-4f8d-ba47-f2d7648c19c8"
      },
      "source": [
        "print('The mean age of for survival_status=1 is:', survived_df.age.mean())\n",
        "print('The mean age of for survival_status=0 is:', rip_df.age.mean())"
      ],
      "execution_count": 47,
      "outputs": [
        {
          "output_type": "stream",
          "text": [
            "The mean age of for survival_status=1 is: 52.01777777777778\n",
            "The mean age of for survival_status=0 is: 53.67901234567901\n"
          ],
          "name": "stdout"
        }
      ]
    },
    {
      "cell_type": "code",
      "metadata": {
        "id": "rsWu5s6fkSoE",
        "colab_type": "code",
        "colab": {
          "base_uri": "https://localhost:8080/",
          "height": 54
        },
        "outputId": "24efd624-6ca2-4056-fdb8-1568f2a2485f"
      },
      "source": [
        "print('The median age of for survival_status=1 is:', survived_df.age.median())\n",
        "print('The median age of for survival_status=0 is:', rip_df.age.median())"
      ],
      "execution_count": 48,
      "outputs": [
        {
          "output_type": "stream",
          "text": [
            "The median age of for survival_status=1 is: 52.0\n",
            "The median age of for survival_status=0 is: 53.0\n"
          ],
          "name": "stdout"
        }
      ]
    },
    {
      "cell_type": "markdown",
      "metadata": {
        "id": "ELtPkxgbj7Zp",
        "colab_type": "text"
      },
      "source": [
        "This suggests that the distribution for survival_status = 0 is skewed a bit to the right. Looking at the histogram above, you can see that there is only an orange bin(survival_status=0) at the highest ages."
      ]
    },
    {
      "cell_type": "markdown",
      "metadata": {
        "id": "mEUmBQ1qkzxC",
        "colab_type": "text"
      },
      "source": [
        "Those who had surgery above the age of ~77 all passed away within 5 years of the surgery. This is not surprising, seeing as they are just past or around the average life expectancy anyways (that sounds dark but it's true)."
      ]
    },
    {
      "cell_type": "markdown",
      "metadata": {
        "id": "J0kEmSodlWnx",
        "colab_type": "text"
      },
      "source": [
        "As the other side of this coin, those who had an operation under the age of ~35 overwhelmingly survived for more than 5 years after the surgery."
      ]
    },
    {
      "cell_type": "markdown",
      "metadata": {
        "id": "_UfJ67SPme7P",
        "colab_type": "text"
      },
      "source": [
        "#### Positive Axillary Nodes"
      ]
    },
    {
      "cell_type": "code",
      "metadata": {
        "id": "zeHMiZocmmRL",
        "colab_type": "code",
        "colab": {
          "base_uri": "https://localhost:8080/",
          "height": 311
        },
        "outputId": "bd5553c0-9a72-4291-800a-55cbf4089090"
      },
      "source": [
        "survived_df.pos_ax_nodes.hist(bins=46);\n",
        "rip_df.pos_ax_nodes.hist(alpha=0.8, bins=52);\n",
        "\n",
        "print('The histogram for survival_status=1 is in BLUE.')\n",
        "print('The histogram for survival_status=0 is in ORANGE.')"
      ],
      "execution_count": 78,
      "outputs": [
        {
          "output_type": "stream",
          "text": [
            "The histogram for survival_status=1 is in BLUE.\n",
            "The histogram for survival_status=0 is in ORANGE.\n"
          ],
          "name": "stdout"
        },
        {
          "output_type": "display_data",
          "data": {
            "image/png": "[encoded data removed]",
            "text/plain": [
              "<Figure size 432x288 with 1 Axes>"
            ]
          },
          "metadata": {
            "tags": []
          }
        }
      ]
    },
    {
      "cell_type": "markdown",
      "metadata": {
        "id": "BveT0rc9mwfz",
        "colab_type": "text"
      },
      "source": [
        "We can see from the superimposed normalised histograms that a higher proportion of those who survived for >= 5 years had less than ~5 positive axillary nodes. A higher proportion of those who didn't make it to 5 years after the surgery had >5 positive axillary nodes."
      ]
    },
    {
      "cell_type": "markdown",
      "metadata": {
        "id": "SE4GgSygnkuU",
        "colab_type": "text"
      },
      "source": [
        "This suggests that a lower number of positive axillary nodes might make you more likely to survive >= 5 years after the surgery. In other words, this suggests **a negative relationship between positive axillary nodes and survival_status**"
      ]
    },
    {
      "cell_type": "markdown",
      "metadata": {
        "id": "u7GMjJPdpdF_",
        "colab_type": "text"
      },
      "source": [
        "#### Operation Year"
      ]
    },
    {
      "cell_type": "code",
      "metadata": {
        "id": "vL4n7XnbpfdM",
        "colab_type": "code",
        "colab": {
          "base_uri": "https://localhost:8080/",
          "height": 424
        },
        "outputId": "9d5db7d6-0d9f-4ea9-cbd0-99f912fb7bf0"
      },
      "source": [
        "survived_df.operation_year.hist(normed=True, bins=11);\n",
        "rip_df.operation_year.hist(alpha=0.8, normed=True, bins=11);\n",
        "\n",
        "print('The histogram for survival_status=1 is in BLUE.')\n",
        "print('The histogram for survival_status=0 is in ORANGE.')"
      ],
      "execution_count": 72,
      "outputs": [
        {
          "output_type": "stream",
          "text": [
            "/usr/local/lib/python3.6/dist-packages/matplotlib/axes/_axes.py:6521: MatplotlibDeprecationWarning: \n",
            "The 'normed' kwarg was deprecated in Matplotlib 2.1 and will be removed in 3.1. Use 'density' instead.\n",
            "  alternative=\"'density'\", removal=\"3.1\")\n",
            "/usr/local/lib/python3.6/dist-packages/matplotlib/axes/_axes.py:6521: MatplotlibDeprecationWarning: \n",
            "The 'normed' kwarg was deprecated in Matplotlib 2.1 and will be removed in 3.1. Use 'density' instead.\n",
            "  alternative=\"'density'\", removal=\"3.1\")\n"
          ],
          "name": "stderr"
        },
        {
          "output_type": "stream",
          "text": [
            "The histogram for survival_status=1 is in BLUE.\n",
            "The histogram for survival_status=0 is in ORANGE.\n"
          ],
          "name": "stdout"
        },
        {
          "output_type": "display_data",
          "data": {
            "image/png": "[encoded data removed]",
            "text/plain": [
              "<Figure size 432x288 with 1 Axes>"
            ]
          },
          "metadata": {
            "tags": []
          }
        }
      ]
    },
    {
      "cell_type": "markdown",
      "metadata": {
        "id": "ZM8JckA2bgnp",
        "colab_type": "text"
      },
      "source": [
        "## Part 3 - Analysis and Interpretation\n",
        "\n",
        "Now that you've looked at the data, answer the following questions:\n",
        "\n",
        "- What is at least one feature that looks to have a positive relationship with survival?\n",
        "- What is at least one feature that looks to have a negative relationship with survival?\n",
        "- How are those two features related with each other, and what might that mean?\n",
        "\n",
        "Answer with text, but feel free to intersperse example code/results or refer to it from earlier."
      ]
    },
    {
      "cell_type": "markdown",
      "metadata": {
        "id": "qs1UFJiztM1D",
        "colab_type": "text"
      },
      "source": [
        "### It looks like **operation_year and survival_status** have a positive (direct) relationship."
      ]
    },
    {
      "cell_type": "code",
      "metadata": {
        "id": "JS_UAtQdn8CP",
        "colab_type": "code",
        "colab": {
          "base_uri": "https://localhost:8080/",
          "height": 394
        },
        "outputId": "d2f7daef-3282-4bef-d873-ae3e6911ca1b"
      },
      "source": [
        "operation_year_bins = pd.cut(df['operation_year'], 10)\n",
        "pd.crosstab(operation_year_bins, df.survival_status)"
      ],
      "execution_count": 67,
      "outputs": [
        {
          "output_type": "execute_result",
          "data": {
            "text/html": [
              "<div>\n",
              "<style scoped>\n",
              "    .dataframe tbody tr th:only-of-type {\n",
              "        vertical-align: middle;\n",
              "    }\n",
              "\n",
              "    .dataframe tbody tr th {\n",
              "        vertical-align: top;\n",
              "    }\n",
              "\n",
              "    .dataframe thead th {\n",
              "        text-align: right;\n",
              "    }\n",
              "</style>\n",
              "<table border=\"1\" class=\"dataframe\">\n",
              "  <thead>\n",
              "    <tr style=\"text-align: right;\">\n",
              "      <th>survival_status</th>\n",
              "      <th>0</th>\n",
              "      <th>1</th>\n",
              "    </tr>\n",
              "    <tr>\n",
              "      <th>operation_year</th>\n",
              "      <th></th>\n",
              "      <th></th>\n",
              "    </tr>\n",
              "  </thead>\n",
              "  <tbody>\n",
              "    <tr>\n",
              "      <th>(57.989, 59.1]</th>\n",
              "      <td>21</td>\n",
              "      <td>42</td>\n",
              "    </tr>\n",
              "    <tr>\n",
              "      <th>(59.1, 60.2]</th>\n",
              "      <td>4</td>\n",
              "      <td>24</td>\n",
              "    </tr>\n",
              "    <tr>\n",
              "      <th>(60.2, 61.3]</th>\n",
              "      <td>3</td>\n",
              "      <td>23</td>\n",
              "    </tr>\n",
              "    <tr>\n",
              "      <th>(61.3, 62.4]</th>\n",
              "      <td>7</td>\n",
              "      <td>16</td>\n",
              "    </tr>\n",
              "    <tr>\n",
              "      <th>(62.4, 63.5]</th>\n",
              "      <td>8</td>\n",
              "      <td>22</td>\n",
              "    </tr>\n",
              "    <tr>\n",
              "      <th>(63.5, 64.6]</th>\n",
              "      <td>8</td>\n",
              "      <td>23</td>\n",
              "    </tr>\n",
              "    <tr>\n",
              "      <th>(64.6, 65.7]</th>\n",
              "      <td>13</td>\n",
              "      <td>15</td>\n",
              "    </tr>\n",
              "    <tr>\n",
              "      <th>(65.7, 66.8]</th>\n",
              "      <td>6</td>\n",
              "      <td>22</td>\n",
              "    </tr>\n",
              "    <tr>\n",
              "      <th>(66.8, 67.9]</th>\n",
              "      <td>4</td>\n",
              "      <td>21</td>\n",
              "    </tr>\n",
              "    <tr>\n",
              "      <th>(67.9, 69.0]</th>\n",
              "      <td>7</td>\n",
              "      <td>17</td>\n",
              "    </tr>\n",
              "  </tbody>\n",
              "</table>\n",
              "</div>"
            ],
            "text/plain": [
              "survival_status   0   1\n",
              "operation_year         \n",
              "(57.989, 59.1]   21  42\n",
              "(59.1, 60.2]      4  24\n",
              "(60.2, 61.3]      3  23\n",
              "(61.3, 62.4]      7  16\n",
              "(62.4, 63.5]      8  22\n",
              "(63.5, 64.6]      8  23\n",
              "(64.6, 65.7]     13  15\n",
              "(65.7, 66.8]      6  22\n",
              "(66.8, 67.9]      4  21\n",
              "(67.9, 69.0]      7  17"
            ]
          },
          "metadata": {
            "tags": []
          },
          "execution_count": 67
        }
      ]
    },
    {
      "cell_type": "code",
      "metadata": {
        "id": "6sdO-tJjoN-H",
        "colab_type": "code",
        "colab": {
          "base_uri": "https://localhost:8080/",
          "height": 424
        },
        "outputId": "62e25880-120a-4e3a-efc2-c67cdeeb9678"
      },
      "source": [
        "survived_df.operation_year.hist(normed=True, bins=11);\n",
        "rip_df.operation_year.hist(alpha=0.8, normed=True, bins=11);\n",
        "\n",
        "print('The histogram for survival_status=1 is in BLUE.')\n",
        "print('The histogram for survival_status=0 is in ORANGE.')"
      ],
      "execution_count": 80,
      "outputs": [
        {
          "output_type": "stream",
          "text": [
            "/usr/local/lib/python3.6/dist-packages/matplotlib/axes/_axes.py:6521: MatplotlibDeprecationWarning: \n",
            "The 'normed' kwarg was deprecated in Matplotlib 2.1 and will be removed in 3.1. Use 'density' instead.\n",
            "  alternative=\"'density'\", removal=\"3.1\")\n",
            "/usr/local/lib/python3.6/dist-packages/matplotlib/axes/_axes.py:6521: MatplotlibDeprecationWarning: \n",
            "The 'normed' kwarg was deprecated in Matplotlib 2.1 and will be removed in 3.1. Use 'density' instead.\n",
            "  alternative=\"'density'\", removal=\"3.1\")\n"
          ],
          "name": "stderr"
        },
        {
          "output_type": "stream",
          "text": [
            "The histogram for survival_status=1 is in BLUE.\n",
            "The histogram for survival_status=0 is in ORANGE.\n"
          ],
          "name": "stdout"
        },
        {
          "output_type": "display_data",
          "data": {
            "image/png": "[encoded data removed]",
            "text/plain": [
              "<Figure size 432x288 with 1 Axes>"
            ]
          },
          "metadata": {
            "tags": []
          }
        }
      ]
    },
    {
      "cell_type": "markdown",
      "metadata": {
        "id": "2JCj-q7KtmmN",
        "colab_type": "text"
      },
      "source": [
        "From this crosstab, it seems that the amount of people who survived for >= 5 years has remained steady while the amoutn who didn't make it >= 5 years, has started to go down. This means that the survival rate over time is increasing suggesting **a positive relationship between operation_year and survival_status**"
      ]
    },
    {
      "cell_type": "markdown",
      "metadata": {
        "id": "XO4b5b6ctuQL",
        "colab_type": "text"
      },
      "source": [
        "- What is at least one feature that looks to have a negative relationship with survival?"
      ]
    },
    {
      "cell_type": "markdown",
      "metadata": {
        "colab_type": "text",
        "id": "7vS5Oa8Mt5Ne"
      },
      "source": [
        "### It looks like **positive axillary nodes and survival_status** have a negative (inverse) relationship."
      ]
    },
    {
      "cell_type": "code",
      "metadata": {
        "id": "kuSt9bentlUa",
        "colab_type": "code",
        "colab": {
          "base_uri": "https://localhost:8080/",
          "height": 363
        },
        "outputId": "d3bb7af9-df80-4303-c015-ad8b93348471"
      },
      "source": [
        "pos_ax_nodes_bins = pd.cut(df['pos_ax_nodes'], 10)\n",
        "pd.crosstab(pos_ax_nodes_bins, df.survival_status)"
      ],
      "execution_count": 69,
      "outputs": [
        {
          "output_type": "execute_result",
          "data": {
            "text/html": [
              "<div>\n",
              "<style scoped>\n",
              "    .dataframe tbody tr th:only-of-type {\n",
              "        vertical-align: middle;\n",
              "    }\n",
              "\n",
              "    .dataframe tbody tr th {\n",
              "        vertical-align: top;\n",
              "    }\n",
              "\n",
              "    .dataframe thead th {\n",
              "        text-align: right;\n",
              "    }\n",
              "</style>\n",
              "<table border=\"1\" class=\"dataframe\">\n",
              "  <thead>\n",
              "    <tr style=\"text-align: right;\">\n",
              "      <th>survival_status</th>\n",
              "      <th>0</th>\n",
              "      <th>1</th>\n",
              "    </tr>\n",
              "    <tr>\n",
              "      <th>pos_ax_nodes</th>\n",
              "      <th></th>\n",
              "      <th></th>\n",
              "    </tr>\n",
              "  </thead>\n",
              "  <tbody>\n",
              "    <tr>\n",
              "      <th>(-0.052, 5.2]</th>\n",
              "      <td>46</td>\n",
              "      <td>190</td>\n",
              "    </tr>\n",
              "    <tr>\n",
              "      <th>(5.2, 10.4]</th>\n",
              "      <td>12</td>\n",
              "      <td>18</td>\n",
              "    </tr>\n",
              "    <tr>\n",
              "      <th>(10.4, 15.6]</th>\n",
              "      <td>11</td>\n",
              "      <td>7</td>\n",
              "    </tr>\n",
              "    <tr>\n",
              "      <th>(15.6, 20.8]</th>\n",
              "      <td>4</td>\n",
              "      <td>4</td>\n",
              "    </tr>\n",
              "    <tr>\n",
              "      <th>(20.8, 26.0]</th>\n",
              "      <td>6</td>\n",
              "      <td>3</td>\n",
              "    </tr>\n",
              "    <tr>\n",
              "      <th>(26.0, 31.2]</th>\n",
              "      <td>0</td>\n",
              "      <td>2</td>\n",
              "    </tr>\n",
              "    <tr>\n",
              "      <th>(31.2, 36.4]</th>\n",
              "      <td>1</td>\n",
              "      <td>0</td>\n",
              "    </tr>\n",
              "    <tr>\n",
              "      <th>(41.6, 46.8]</th>\n",
              "      <td>0</td>\n",
              "      <td>1</td>\n",
              "    </tr>\n",
              "    <tr>\n",
              "      <th>(46.8, 52.0]</th>\n",
              "      <td>1</td>\n",
              "      <td>0</td>\n",
              "    </tr>\n",
              "  </tbody>\n",
              "</table>\n",
              "</div>"
            ],
            "text/plain": [
              "survival_status   0    1\n",
              "pos_ax_nodes            \n",
              "(-0.052, 5.2]    46  190\n",
              "(5.2, 10.4]      12   18\n",
              "(10.4, 15.6]     11    7\n",
              "(15.6, 20.8]      4    4\n",
              "(20.8, 26.0]      6    3\n",
              "(26.0, 31.2]      0    2\n",
              "(31.2, 36.4]      1    0\n",
              "(41.6, 46.8]      0    1\n",
              "(46.8, 52.0]      1    0"
            ]
          },
          "metadata": {
            "tags": []
          },
          "execution_count": 69
        }
      ]
    },
    {
      "cell_type": "code",
      "metadata": {
        "id": "yXl9_EQquGOZ",
        "colab_type": "code",
        "colab": {
          "base_uri": "https://localhost:8080/",
          "height": 311
        },
        "outputId": "9648bcfb-bc76-4417-bff7-f680b7294344"
      },
      "source": [
        "survived_df.pos_ax_nodes.hist(bins=46);\n",
        "rip_df.pos_ax_nodes.hist(alpha=0.8, bins=52);\n",
        "\n",
        "print('The histogram for survival_status=1 is in BLUE.')\n",
        "print('The histogram for survival_status=0 is in ORANGE.')"
      ],
      "execution_count": 79,
      "outputs": [
        {
          "output_type": "stream",
          "text": [
            "The histogram for survival_status=1 is in BLUE.\n",
            "The histogram for survival_status=0 is in ORANGE.\n"
          ],
          "name": "stdout"
        },
        {
          "output_type": "display_data",
          "data": {
            "image/png": "[encoded data removed]",
            "text/plain": [
              "<Figure size 432x288 with 1 Axes>"
            ]
          },
          "metadata": {
            "tags": []
          }
        }
      ]
    },
    {
      "cell_type": "markdown",
      "metadata": {
        "colab_type": "text",
        "id": "CxZATREluTBl"
      },
      "source": [
        "We can see from the superimposed normalised histograms that a higher proportion of those who survived for >= 5 years had less than ~5 positive axillary nodes. A higher proportion of those who didn't make it to 5 years after the surgery had >5 positive axillary nodes."
      ]
    },
    {
      "cell_type": "markdown",
      "metadata": {
        "colab_type": "text",
        "id": "gxdg30bEuTBu"
      },
      "source": [
        "This suggests that a lower number of positive axillary nodes might make you more likely to survive >= 5 years after the surgery. In other words, this suggests **a negative relationship between positive axillary nodes and survival_status**"
      ]
    },
    {
      "cell_type": "markdown",
      "metadata": {
        "id": "lF1xisdkysU_",
        "colab_type": "text"
      },
      "source": [
        "### operation_year and positive axillary nodes might have a positive (direct) relationship"
      ]
    },
    {
      "cell_type": "markdown",
      "metadata": {
        "id": "mdXZeJBdyzn2",
        "colab_type": "text"
      },
      "source": [
        "As diagnostic technology has gotten better, it's possible that we're detecting positive axillary nodes at a higher rate than we did in the past. In the early days of colleting this data, doctors may have looked for just one or two positive axillarty nodes before moving to surgery. This would mean that many of the patients in the early days of this surgery would have had more positive axillary nodes than were detected and recorded. This can lead to a **psuedo direct relationship between operation_year and positive axillary nodes**"
      ]
    },
    {
      "cell_type": "markdown",
      "metadata": {
        "id": "u0RivJGizfox",
        "colab_type": "text"
      },
      "source": [
        "This would falsely lead us to believe that cancer patients today have many more positive axillary nodes than cancer patients 20 years ago, when in reality we're simply better at detecting them."
      ]
    }
  ]
}